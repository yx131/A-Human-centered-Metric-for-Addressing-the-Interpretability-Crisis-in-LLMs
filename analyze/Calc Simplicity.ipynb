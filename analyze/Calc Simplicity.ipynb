{
 "cells": [
  {
   "cell_type": "code",
   "execution_count": 1,
   "id": "f90514e5",
   "metadata": {},
   "outputs": [],
   "source": [
    "import pickle\n",
    "import numpy as np\n",
    "import pandas as pd\n",
    "import analysis_constants as ac"
   ]
  },
  {
   "cell_type": "code",
   "execution_count": 2,
   "id": "d814b7c6",
   "metadata": {},
   "outputs": [],
   "source": [
    "all_task_dicts = ac.load_processed_out_and_res_files_for_all_task()"
   ]
  },
  {
   "cell_type": "code",
   "execution_count": 3,
   "id": "53e46d95",
   "metadata": {},
   "outputs": [],
   "source": [
    "def calc_simplicity(N_c, max_thought_chunk=7.2):\n",
    "    if N_c == 0:\n",
    "        return 0\n",
    "    elif N_c <= max_thought_chunk:\n",
    "        return 1\n",
    "    else:\n",
    "        return 1/(np.log(N_c-max_thought_chunk)+1)\n",
    "\n",
    "def simplicity_wrapper(all_task_dicts):\n",
    "    simplicity_dict = {}\n",
    "    for task_name, task_processed in all_task_dicts.items():\n",
    "        print(f'task name: {task_name}')\n",
    "        simplicity_dict[task_name] = {}\n",
    "        \n",
    "        for frame_name, frame_processed in task_processed.items():\n",
    "            print(f'{frame_name}')\n",
    "            out_dict, results_dict = frame_processed['out'], frame_processed['results']\n",
    "  \n",
    "            all_simplicities = []\n",
    "            N_Chunks = out_dict['N_Chunks']\n",
    "            for N_c in N_Chunks:\n",
    "                simplicity = calc_simplicity(N_c)\n",
    "                all_simplicities.append(simplicity)\n",
    "            simplicity_average = np.mean(all_simplicities)\n",
    "#             print(simplicity_average)\n",
    "            \n",
    "            simplicity_dict[task_name][frame_name] = simplicity_average\n",
    "    with open(f'{ac.simplicity_name}.pkl', 'wb') as f:\n",
    "        pickle.dump(simplicity_dict, f)\n",
    "        \n",
    "    return simplicity_dict\n"
   ]
  },
  {
   "cell_type": "code",
   "execution_count": 4,
   "id": "8f465644",
   "metadata": {
    "scrolled": false
   },
   "outputs": [
    {
     "name": "stdout",
     "output_type": "stream",
     "text": [
      "task name: sst2\n",
      "input_x_gradients\n",
      "deeplift\n",
      "kernel_shap\n",
      "lime\n",
      "guided_backprop\n",
      "integrated_gradients\n",
      "task name: stsb\n",
      "input_x_gradients\n",
      "deeplift\n",
      "kernel_shap\n",
      "lime\n",
      "guided_backprop\n",
      "integrated_gradients\n",
      "task name: qnli\n",
      "input_x_gradients\n",
      "deeplift\n",
      "kernel_shap\n",
      "lime\n",
      "guided_backprop\n",
      "integrated_gradients\n"
     ]
    }
   ],
   "source": [
    "simplicity_dict = simplicity_wrapper(all_task_dicts)"
   ]
  },
  {
   "cell_type": "code",
   "execution_count": null,
   "id": "9fb8409e",
   "metadata": {},
   "outputs": [],
   "source": []
  },
  {
   "cell_type": "code",
   "execution_count": 5,
   "id": "4e992c54",
   "metadata": {},
   "outputs": [],
   "source": [
    "kf = pd.DataFrame(columns=[''])"
   ]
  }
 ],
 "metadata": {
  "kernelspec": {
   "display_name": "Python 3 (ipykernel)",
   "language": "python",
   "name": "python3"
  },
  "language_info": {
   "codemirror_mode": {
    "name": "ipython",
    "version": 3
   },
   "file_extension": ".py",
   "mimetype": "text/x-python",
   "name": "python",
   "nbconvert_exporter": "python",
   "pygments_lexer": "ipython3",
   "version": "3.9.13"
  }
 },
 "nbformat": 4,
 "nbformat_minor": 5
}
