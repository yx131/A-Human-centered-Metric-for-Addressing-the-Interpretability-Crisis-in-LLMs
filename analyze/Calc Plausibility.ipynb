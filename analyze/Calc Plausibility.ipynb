{
 "cells": [
  {
   "cell_type": "code",
   "execution_count": 1,
   "id": "f90514e5",
   "metadata": {},
   "outputs": [],
   "source": [
    "import pickle\n",
    "import numpy as np\n",
    "import pandas as pd\n",
    "import analysis_constants as ac"
   ]
  },
  {
   "cell_type": "code",
   "execution_count": 2,
   "id": "6c484908",
   "metadata": {},
   "outputs": [],
   "source": [
    "def jaccard_similarity(l1, l2):  #expected two lists of words or two sets of words\n",
    "    l1, l2 = set(l1), set(l2)\n",
    "    intersection = l1.intersection(l2)\n",
    "    union = l1.union(l2)\n",
    "    try:\n",
    "        return float(len(intersection)) / len(union)\n",
    "    except ZeroDivisionError:\n",
    "        return 0"
   ]
  },
  {
   "cell_type": "code",
   "execution_count": 3,
   "id": "d814b7c6",
   "metadata": {},
   "outputs": [],
   "source": [
    "all_task_dicts = ac.load_processed_out_and_res_files_for_all_task()"
   ]
  },
  {
   "cell_type": "code",
   "execution_count": 4,
   "id": "53e46d95",
   "metadata": {},
   "outputs": [],
   "source": [
    "def calc_plausibility(feat_f_pos, feat_f_neg, feat_h_pos, feat_h_neg):\n",
    "    jaccard_pos = jaccard_similarity(feat_f_pos, feat_h_pos)\n",
    "    jaccard_neg = jaccard_similarity(feat_f_neg, feat_h_neg)\n",
    "#     plausibility = np.mean([jaccard_pos, jaccard_neg])\n",
    "    plausibility = (jaccard_pos + jaccard_neg) / 2.22\n",
    "    return plausibility \n",
    "\n",
    "def plausibility_wrapper(all_task_dicts):\n",
    "    plausibility_dict = {}\n",
    "    for task_name, task_processed in all_task_dicts.items():\n",
    "        print(f'task name: {task_name}')\n",
    "        plausibility_dict[task_name] = {}\n",
    "        \n",
    "        for frame_name, frame_processed in task_processed.items():\n",
    "            print(f'{frame_name}')\n",
    "            out_dict, results_dict = frame_processed['out'], frame_processed['results']\n",
    "  \n",
    "            plausibility_all_annotators = []\n",
    "            for ff_pos, ff_neg, fh_nn_all, fh_np_all, fh_sn_all, fh_sp_all\\\n",
    "                                    in zip(out_dict['feats_pos'], \n",
    "                                       out_dict['feats_neg'], \n",
    "                                       results_dict['non_neg'],\n",
    "                                       results_dict['non_pos'],\n",
    "                                       results_dict['should_neg'],\n",
    "                                       results_dict['should_pos']):\n",
    "                plausibility_annotator = []\n",
    "                for fh_nn, fh_np, fh_sn, fh_sp\\\n",
    "                                    in zip(fh_nn_all, fh_np_all, fh_sn_all, fh_sp_all):\n",
    "                    fh_neg = set(ff_neg).difference(fh_nn).union(fh_sn)\n",
    "                    fh_pos = set(ff_pos).difference(fh_nn).union(fh_sp)\n",
    "\n",
    "                    plausibility_ = calc_plausibility(ff_pos, ff_neg, fh_pos, fh_neg)\n",
    "                    plausibility_annotator.append(plausibility_)\n",
    "                plausibility_all_annotators.append(plausibility_annotator)\n",
    "                \n",
    "            plausibility_all_annotators = np.array(plausibility_all_annotators)\n",
    "#             print(f'all plausibilities shape: {plausibility_all_annotators.shape}')\n",
    "#             print(f'all plausibilities : {plausibility_all_annotators}')\n",
    "            plausibility_average = plausibility_all_annotators.mean(axis=1).mean(axis=0)\n",
    "            print(f'pausibility average: {plausibility_average}')\n",
    "            plausibility_dict[task_name][frame_name] = plausibility_average\n",
    "            \n",
    "    with open(f'{ac.plausibility_name}.pkl', 'wb') as f:\n",
    "        pickle.dump(plausibility_dict, f)\n",
    "        \n",
    "    return plausibility_dict\n"
   ]
  },
  {
   "cell_type": "code",
   "execution_count": 5,
   "id": "8f465644",
   "metadata": {
    "scrolled": false
   },
   "outputs": [
    {
     "name": "stdout",
     "output_type": "stream",
     "text": [
      "task name: sst2\n",
      "input_x_gradients\n",
      "pausibility average: 0.6653064486397818\n",
      "deeplift\n",
      "pausibility average: 0.6568045818045818\n",
      "kernel_shap\n",
      "pausibility average: 0.6905570983833322\n",
      "lime\n",
      "pausibility average: 0.46649003658807575\n",
      "guided_backprop\n",
      "pausibility average: 0.48212080859139683\n",
      "integrated_gradients\n",
      "pausibility average: 0.4588910338910338\n",
      "task name: stsb\n",
      "input_x_gradients\n",
      "pausibility average: 0.6585261372284076\n",
      "deeplift\n",
      "pausibility average: 0.6635237032682854\n",
      "kernel_shap\n",
      "pausibility average: 0.6464608988260294\n",
      "lime\n",
      "pausibility average: 0.5696783941848329\n",
      "guided_backprop\n",
      "pausibility average: 0.6032567344402718\n",
      "integrated_gradients\n",
      "pausibility average: 0.3529845571512238\n",
      "task name: qnli\n",
      "input_x_gradients\n",
      "pausibility average: 0.8248940816192277\n",
      "deeplift\n",
      "pausibility average: 0.7739175564381963\n",
      "kernel_shap\n",
      "pausibility average: 0.7697272403658547\n",
      "lime\n",
      "pausibility average: 0.7660549145953875\n",
      "guided_backprop\n",
      "pausibility average: 0.7805117904586204\n",
      "integrated_gradients\n",
      "pausibility average: 0.7144619272405649\n"
     ]
    }
   ],
   "source": [
    "plausibility_dict = plausibility_wrapper(all_task_dicts)"
   ]
  },
  {
   "cell_type": "code",
   "execution_count": null,
   "id": "9fb8409e",
   "metadata": {},
   "outputs": [],
   "source": []
  }
 ],
 "metadata": {
  "kernelspec": {
   "display_name": "Python 3 (ipykernel)",
   "language": "python",
   "name": "python3"
  },
  "language_info": {
   "codemirror_mode": {
    "name": "ipython",
    "version": 3
   },
   "file_extension": ".py",
   "mimetype": "text/x-python",
   "name": "python",
   "nbconvert_exporter": "python",
   "pygments_lexer": "ipython3",
   "version": "3.9.13"
  }
 },
 "nbformat": 4,
 "nbformat_minor": 5
}
