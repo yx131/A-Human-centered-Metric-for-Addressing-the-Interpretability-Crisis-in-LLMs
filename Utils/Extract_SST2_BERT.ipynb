{
 "cells": [
  {
   "cell_type": "code",
   "execution_count": 1,
   "id": "9b758049",
   "metadata": {},
   "outputs": [],
   "source": [
    "import os, re, csv\n",
    "import pandas as pd"
   ]
  },
  {
   "cell_type": "code",
   "execution_count": 2,
   "id": "87a81f31",
   "metadata": {},
   "outputs": [],
   "source": [
    "def get_list_of_tables(html_parse):\n",
    "    # initializing tag\n",
    "    table_tag = \"table\"\n",
    "\n",
    "    # regex to extract required strings\n",
    "    reg_str_table = \"(<\" + table_tag + \"(.*?)>(.*?)</\" + table_tag + \">)\"\n",
    "    all_tables = [t[0] for t in  re.findall(reg_str_table, html_parse)]\n",
    "    return all_tables"
   ]
  },
  {
   "cell_type": "code",
   "execution_count": 3,
   "id": "7b853631",
   "metadata": {},
   "outputs": [],
   "source": [
    "def find_marks(html_parse):\n",
    "    mark_tag = \"mark\"\n",
    "    reg_str_mark = \"(<\" + mark_tag + \"(.*?)>(.*?)</\" + mark_tag + \">)\"\n",
    "    all_marks = re.findall(reg_str_mark, html_parse)\n",
    "    all_marks_first_group = ''\n",
    "    for m in all_marks:   \n",
    "        all_marks_first_group += m[0]\n",
    "    \n",
    "    #remove #s begin and finish \n",
    "#     s_beg, s_end = r\"\\#s\", r\"\\#\\/s\"\n",
    "    s_beg, s_end = \"\\[CLS\\]\", \"\\[SEP\\]\"\n",
    "    all_marks_first_group = re.sub(s_beg, '[BEGIN]', all_marks_first_group)\n",
    "    all_marks_first_group = re.sub(s_end, '[END]', all_marks_first_group)\n",
    "#     print(all_marks_first_group)\n",
    "    return all_marks_first_group"
   ]
  },
  {
   "cell_type": "code",
   "execution_count": 4,
   "id": "20d5345e",
   "metadata": {},
   "outputs": [],
   "source": [
    "def get_reviews_from_html_to_csv(html_file_name):\n",
    "    text_file = open(f\"{html_file_name}\", \"r\")\n",
    "    #read whole file to a string\n",
    "    html_parse = text_file.read()\n",
    "    #close file\n",
    "    text_file.close()\n",
    "    \n",
    "    all_tables = get_list_of_tables(html_parse)\n",
    "    print(f'number of tables parsed: {len(all_tables)}')\n",
    "    \n",
    "    all_interpretations = [find_marks(t) for t in all_tables]\n",
    "    print(f'number of reviews parsed: {len(all_interpretations)}')\n",
    "    \n",
    "    out_file_name = f'{html_file_name.split(\"/\")[-1].split(\".\")[0]}'\n",
    "    out_dir = f'../BERT/ExtractedExplanations'\n",
    "    \n",
    "    #make dir if not exists\n",
    "    if not os.path.isdir(out_dir):\n",
    "        os.makedirs(out_dir)       \n",
    "    \n",
    "    #output html file with just reviews\n",
    "    html_file_str = ''\n",
    "    for r in all_interpretations:\n",
    "        html_file_str += r + '<br><br>'\n",
    "    with open(f'{out_dir}/{out_file_name}_raw_extracts.html', 'w') as f:\n",
    "        f.write(html_file_str)\n",
    "    \n",
    "    #output csv\n",
    "    df = pd.DataFrame(columns=['sst2_number', 'sst2'])\n",
    "    df['sst2_number'] = [i+1 for i in range(len(all_interpretations))]\n",
    "    df['sst2'] = all_interpretations\n",
    "    df.to_csv(f'{out_dir}/{out_file_name}.csv', index=False, encoding='utf-8')\n",
    "    return df"
   ]
  },
  {
   "cell_type": "code",
   "execution_count": 5,
   "id": "5bd78bb1",
   "metadata": {},
   "outputs": [
    {
     "name": "stdout",
     "output_type": "stream",
     "text": [
      "number of tables parsed: 50\n",
      "number of reviews parsed: 50\n"
     ]
    }
   ],
   "source": [
    "df = get_reviews_from_html_to_csv('../BERT/InterpretationMethods/DeepLIFT_SST2_BERT.html')"
   ]
  },
  {
   "cell_type": "code",
   "execution_count": 6,
   "id": "cb4f9cf8",
   "metadata": {},
   "outputs": [
    {
     "name": "stdout",
     "output_type": "stream",
     "text": [
      "number of tables parsed: 50\n",
      "number of reviews parsed: 50\n"
     ]
    }
   ],
   "source": [
    "df = get_reviews_from_html_to_csv('../BERT/InterpretationMethods/Guided_Backprop_SST2_BERT.html')"
   ]
  },
  {
   "cell_type": "code",
   "execution_count": 7,
   "id": "c4ab3714",
   "metadata": {},
   "outputs": [
    {
     "name": "stdout",
     "output_type": "stream",
     "text": [
      "number of tables parsed: 50\n",
      "number of reviews parsed: 50\n"
     ]
    }
   ],
   "source": [
    "df = get_reviews_from_html_to_csv('../BERT/InterpretationMethods/Input_X_Gradients_SST2_BERT.html')"
   ]
  },
  {
   "cell_type": "code",
   "execution_count": 8,
   "id": "6a68c97a",
   "metadata": {},
   "outputs": [
    {
     "name": "stdout",
     "output_type": "stream",
     "text": [
      "number of tables parsed: 50\n",
      "number of reviews parsed: 50\n"
     ]
    }
   ],
   "source": [
    "df = get_reviews_from_html_to_csv('../BERT/InterpretationMethods/Integrated_Gradients_SST2_BERT.html')"
   ]
  },
  {
   "cell_type": "code",
   "execution_count": 9,
   "id": "a7acbd92",
   "metadata": {},
   "outputs": [
    {
     "name": "stdout",
     "output_type": "stream",
     "text": [
      "number of tables parsed: 50\n",
      "number of reviews parsed: 50\n"
     ]
    }
   ],
   "source": [
    "df = get_reviews_from_html_to_csv('../BERT/InterpretationMethods/Kernel_SHAP_SST2_BERT.html')"
   ]
  },
  {
   "cell_type": "code",
   "execution_count": 10,
   "id": "6c108530",
   "metadata": {
    "scrolled": true
   },
   "outputs": [
    {
     "name": "stdout",
     "output_type": "stream",
     "text": [
      "number of tables parsed: 50\n",
      "number of reviews parsed: 50\n"
     ]
    }
   ],
   "source": [
    "df = get_reviews_from_html_to_csv('../BERT/InterpretationMethods/LIME_SST2_BERT.html')"
   ]
  },
  {
   "cell_type": "code",
   "execution_count": null,
   "id": "1eb34c59",
   "metadata": {},
   "outputs": [],
   "source": []
  },
  {
   "cell_type": "code",
   "execution_count": null,
   "id": "f16efb54",
   "metadata": {},
   "outputs": [],
   "source": []
  },
  {
   "cell_type": "code",
   "execution_count": null,
   "id": "de412708",
   "metadata": {},
   "outputs": [],
   "source": []
  }
 ],
 "metadata": {
  "kernelspec": {
   "display_name": "Python 3 (ipykernel)",
   "language": "python",
   "name": "python3"
  },
  "language_info": {
   "codemirror_mode": {
    "name": "ipython",
    "version": 3
   },
   "file_extension": ".py",
   "mimetype": "text/x-python",
   "name": "python",
   "nbconvert_exporter": "python",
   "pygments_lexer": "ipython3",
   "version": "3.9.13"
  }
 },
 "nbformat": 4,
 "nbformat_minor": 5
}
