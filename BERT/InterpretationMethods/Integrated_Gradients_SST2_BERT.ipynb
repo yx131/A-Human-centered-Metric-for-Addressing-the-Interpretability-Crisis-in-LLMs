{
 "cells": [
  {
   "cell_type": "code",
   "execution_count": 1,
   "id": "0379fb82",
   "metadata": {},
   "outputs": [],
   "source": [
    "import sys, time, pickle\n",
    "import torch\n",
    "\n",
    "sys.path.insert(0, '../../Utils')\n",
    "from global_constants import gpu_device\n",
    "\n",
    "sys.path.insert(0, '../')\n",
    "from BERT_models import BERT_SST2_MODEL\n",
    "\n",
    "from _utils import sample_random_glue_sst2, get_continuation_mapping, \\\n",
    "                    get_continuous_attributions, get_continuous_raw_inputs, \\\n",
    "                    collect_info_for_metric, save_info, download_HTML"
   ]
  },
  {
   "cell_type": "code",
   "execution_count": 2,
   "id": "4bd7ee44",
   "metadata": {},
   "outputs": [
    {
     "name": "stderr",
     "output_type": "stream",
     "text": [
      "Reusing dataset glue (/home/user/.cache/huggingface/datasets/glue/sst2/1.0.0/dacbe3125aa31d7f70367a07a8a9e72a5a0bfeb5fc42e75c9db75b96da6053ad)\n"
     ]
    },
    {
     "data": {
      "application/vnd.jupyter.widget-view+json": {
       "model_id": "b28fb1e6369b46809200d97b32824e46",
       "version_major": 2,
       "version_minor": 0
      },
      "text/plain": [
       "  0%|          | 0/3 [00:00<?, ?it/s]"
      ]
     },
     "metadata": {},
     "output_type": "display_data"
    },
    {
     "name": "stderr",
     "output_type": "stream",
     "text": [
      "Loading cached processed dataset at /home/user/.cache/huggingface/datasets/glue/sst2/1.0.0/dacbe3125aa31d7f70367a07a8a9e72a5a0bfeb5fc42e75c9db75b96da6053ad/cache-3b24abff24d1d8c0.arrow\n",
      "Loading cached processed dataset at /home/user/.cache/huggingface/datasets/glue/sst2/1.0.0/dacbe3125aa31d7f70367a07a8a9e72a5a0bfeb5fc42e75c9db75b96da6053ad/cache-5960909ab3834668.arrow\n"
     ]
    }
   ],
   "source": [
    "sst2_data_raw, targets, idxs = sample_random_glue_sst2()"
   ]
  },
  {
   "cell_type": "code",
   "execution_count": 3,
   "id": "50cc7ee5",
   "metadata": {},
   "outputs": [],
   "source": [
    "model = BERT_SST2_MODEL()\n",
    "tokenizer = model.tokenizer"
   ]
  },
  {
   "cell_type": "code",
   "execution_count": 4,
   "id": "3e778996",
   "metadata": {},
   "outputs": [],
   "source": [
    "model_out_list, raw_attr_list, conti_attr_list, raw_input_list = [], [], [], []"
   ]
  },
  {
   "cell_type": "code",
   "execution_count": 5,
   "id": "60cece0e",
   "metadata": {
    "scrolled": false
   },
   "outputs": [],
   "source": [
    "from captum.attr import IntegratedGradients\n",
    "from captum.attr import visualization "
   ]
  },
  {
   "cell_type": "code",
   "execution_count": 6,
   "id": "9937c409",
   "metadata": {},
   "outputs": [],
   "source": [
    "# lime = Lime(forward_func=model.forward)\n",
    "IG = IntegratedGradients(model)"
   ]
  },
  {
   "cell_type": "code",
   "execution_count": 7,
   "id": "eb6c1691",
   "metadata": {},
   "outputs": [],
   "source": [
    "def generate_record(raw_review, target):\n",
    "    #tokenizer operations\n",
    "    tokenized = tokenizer(raw_review, truncation=True, return_offsets_mapping=True)\n",
    "    offset_mapping = tokenized['offset_mapping']\n",
    "    conti_map = get_continuation_mapping(offset_mapping)\n",
    "    input_ids = torch.tensor(tokenized['input_ids']).unsqueeze(0).to(gpu_device)\n",
    "    detokenized = [t.replace('#', '') for t in tokenizer.convert_ids_to_tokens(input_ids[0])]\n",
    "\n",
    "    #feeding input forward \n",
    "    input_emb = model.get_embeddings(input_ids)\n",
    "    pred_prob = model(input_emb).item()\n",
    "    \n",
    "    #categorizing results\n",
    "    pred_class = 'Pos' if pred_prob > 0.5 else 'Neg' \n",
    "    true_class = 'Pos' if target > 0.5 else 'Neg' \n",
    "    \n",
    "    #attribution algorithm working\n",
    "    attribution, delta = IG.attribute(input_emb, n_steps=50, return_convergence_delta=True)\n",
    "    word_attributions = attribution.sum(dim=2).squeeze(0)\n",
    "    word_attributions /= torch.norm(word_attributions)\n",
    "    attr_score = torch.sum(word_attributions)\n",
    "    attr_class = 'Pos' if attr_score > 0.5 else 'Neg'\n",
    "    convergence_score = delta\n",
    "    \n",
    "    \n",
    "    #re-organizing tensors and arrays because words get split down\n",
    "    conti_attr = get_continuous_attributions(conti_map, word_attributions)\n",
    "    raw_input = get_continuous_raw_inputs(conti_map, detokenized)\n",
    "\n",
    "#     print(f'word attributions {word_attributions}')\n",
    "#     print(f'pred_prob {pred_prob}')\n",
    "#     print(f'pred_class {pred_class}')\n",
    "#     print(f'true_class {true_class}')\n",
    "#     print(f'attribution {attribution}')\n",
    "#     print(f'attr_class {attr_class}')\n",
    "#     print(f'attr_score {attr_score}')\n",
    "#     print(f'raw_input {raw_input}')\n",
    "\n",
    "        \n",
    "#     collect info for metrics later\n",
    "    collect_info_for_metric(model_out_list, pred_prob, raw_attr_list, attribution, conti_attr_list, conti_attr, raw_input_list, raw_input)\n",
    "        \n",
    "    \n",
    "    visual_record = visualization.VisualizationDataRecord(word_attributions=conti_attr,\n",
    "                                                         pred_prob=pred_prob,\n",
    "                                                         pred_class=pred_class,\n",
    "                                                         true_class=true_class,\n",
    "                                                         attr_class=attr_class,\n",
    "                                                         attr_score=attr_score,\n",
    "                                                         raw_input_ids=raw_input,\n",
    "                                                         convergence_score=convergence_score)\n",
    "        \n",
    "        \n",
    "    return visual_record\n",
    "      \n",
    "    "
   ]
  },
  {
   "cell_type": "code",
   "execution_count": 8,
   "id": "e6941070",
   "metadata": {
    "scrolled": true
   },
   "outputs": [
    {
     "name": "stdout",
     "output_type": "stream",
     "text": [
      "Raw review: its oscar nomination \n",
      "GT target: 1\n",
      "word attr tensor([ 0.2417,  0.0591, -0.0531, -0.0784,  0.9639], device='cuda:0',\n",
      "       dtype=torch.float64, grad_fn=<AsStridedBackward0>)\n",
      "conti attr [tensor(0.2417, device='cuda:0', dtype=torch.float64, grad_fn=<UnbindBackward0>), tensor(0.0591, device='cuda:0', dtype=torch.float64, grad_fn=<UnbindBackward0>), tensor(-0.0531, device='cuda:0', dtype=torch.float64,\n",
      "       grad_fn=<UnbindBackward0>), tensor(-0.0784, device='cuda:0', dtype=torch.float64,\n",
      "       grad_fn=<UnbindBackward0>), tensor(0.9639, device='cuda:0', dtype=torch.float64, grad_fn=<UnbindBackward0>)]\n",
      "detokenized ['[CLS]', 'its', 'oscar', 'nomination', '[SEP]']\n",
      "len conti_raw 5\n",
      "conti_raw ['[CLS]', 'its', 'oscar', 'nomination', '[SEP]']\n"
     ]
    },
    {
     "data": {
      "text/html": [
       "<table width: 100%><div style=\"border-top: 1px solid; margin-top: 5px;             padding-top: 5px; display: inline-block\"><b>Legend: </b><span style=\"display: inline-block; width: 10px; height: 10px;                 border: 1px solid; background-color:                 hsl(0, 75%, 60%)\"></span> Negative  <span style=\"display: inline-block; width: 10px; height: 10px;                 border: 1px solid; background-color:                 hsl(0, 75%, 100%)\"></span> Neutral  <span style=\"display: inline-block; width: 10px; height: 10px;                 border: 1px solid; background-color:                 hsl(120, 75%, 50%)\"></span> Positive  </div><tr><th>True Label</th><th>Predicted Label</th><th>Attribution Label</th><th>Attribution Score</th><th>Word Importance</th><tr><td><text style=\"padding-right:2em\"><b>Pos</b></text></td><td><text style=\"padding-right:2em\"><b>Pos (0.96)</b></text></td><td><text style=\"padding-right:2em\"><b>Pos</b></text></td><td><text style=\"padding-right:2em\"><b>1.13</b></text></td><td><mark style=\"background-color: hsl(120, 75%, 88%); opacity:1.0;                     line-height:1.75\"><font color=\"black\"> [CLS]                    </font></mark><mark style=\"background-color: hsl(120, 75%, 98%); opacity:1.0;                     line-height:1.75\"><font color=\"black\"> its                    </font></mark><mark style=\"background-color: hsl(0, 75%, 98%); opacity:1.0;                     line-height:1.75\"><font color=\"black\"> oscar                    </font></mark><mark style=\"background-color: hsl(0, 75%, 97%); opacity:1.0;                     line-height:1.75\"><font color=\"black\"> nomination                    </font></mark><mark style=\"background-color: hsl(120, 75%, 52%); opacity:1.0;                     line-height:1.75\"><font color=\"black\"> [SEP]                    </font></mark></td><tr></table>"
      ],
      "text/plain": [
       "<IPython.core.display.HTML object>"
      ]
     },
     "metadata": {},
     "output_type": "display_data"
    },
    {
     "name": "stdout",
     "output_type": "stream",
     "text": [
      "<IPython.core.display.HTML object>\n",
      "Raw review: shenanigans and slapstick \n",
      "GT target: 1\n",
      "word attr tensor([ 0.1096,  0.0312, -0.0942, -0.0518, -0.1100,  0.4153, -0.4911, -0.6989,\n",
      "         0.2475], device='cuda:0', dtype=torch.float64,\n",
      "       grad_fn=<AsStridedBackward0>)\n",
      "conti attr [tensor(0.1096, device='cuda:0', dtype=torch.float64, grad_fn=<UnbindBackward0>), tensor(-0.0758, device='cuda:0', dtype=torch.float64, grad_fn=<DivBackward0>), tensor(0.4153, device='cuda:0', dtype=torch.float64, grad_fn=<UnbindBackward0>), tensor(-0.5950, device='cuda:0', dtype=torch.float64, grad_fn=<DivBackward0>), tensor(0.2475, device='cuda:0', dtype=torch.float64, grad_fn=<UnbindBackward0>)]\n",
      "detokenized ['[CLS]', 'shen', 'ani', 'gan', 's', 'and', 'slap', 'stick', '[SEP]']\n",
      "len conti_raw 5\n",
      "conti_raw ['[CLS]', 'shenanigans', 'and', 'slapstick', '[SEP]']\n"
     ]
    },
    {
     "data": {
      "text/html": [
       "<table width: 100%><div style=\"border-top: 1px solid; margin-top: 5px;             padding-top: 5px; display: inline-block\"><b>Legend: </b><span style=\"display: inline-block; width: 10px; height: 10px;                 border: 1px solid; background-color:                 hsl(0, 75%, 60%)\"></span> Negative  <span style=\"display: inline-block; width: 10px; height: 10px;                 border: 1px solid; background-color:                 hsl(0, 75%, 100%)\"></span> Neutral  <span style=\"display: inline-block; width: 10px; height: 10px;                 border: 1px solid; background-color:                 hsl(120, 75%, 50%)\"></span> Positive  </div><tr><th>True Label</th><th>Predicted Label</th><th>Attribution Label</th><th>Attribution Score</th><th>Word Importance</th><tr><td><text style=\"padding-right:2em\"><b>Pos</b></text></td><td><text style=\"padding-right:2em\"><b>Neg (0.03)</b></text></td><td><text style=\"padding-right:2em\"><b>Neg</b></text></td><td><text style=\"padding-right:2em\"><b>-0.64</b></text></td><td><mark style=\"background-color: hsl(120, 75%, 95%); opacity:1.0;                     line-height:1.75\"><font color=\"black\"> [CLS]                    </font></mark><mark style=\"background-color: hsl(0, 75%, 97%); opacity:1.0;                     line-height:1.75\"><font color=\"black\"> shenanigans                    </font></mark><mark style=\"background-color: hsl(120, 75%, 80%); opacity:1.0;                     line-height:1.75\"><font color=\"black\"> and                    </font></mark><mark style=\"background-color: hsl(0, 75%, 77%); opacity:1.0;                     line-height:1.75\"><font color=\"black\"> slapstick                    </font></mark><mark style=\"background-color: hsl(120, 75%, 88%); opacity:1.0;                     line-height:1.75\"><font color=\"black\"> [SEP]                    </font></mark></td><tr></table>"
      ],
      "text/plain": [
       "<IPython.core.display.HTML object>"
      ]
     },
     "metadata": {},
     "output_type": "display_data"
    },
    {
     "name": "stdout",
     "output_type": "stream",
     "text": [
      "<IPython.core.display.HTML object>\n",
      "Raw review: an unsettling sight , \n",
      "GT target: 0\n",
      "word attr tensor([ 0.3754,  0.6306, -0.4800, -0.2396,  0.2948,  0.0930,  0.2775, -0.0315],\n",
      "       device='cuda:0', dtype=torch.float64, grad_fn=<AsStridedBackward0>)\n",
      "conti attr [tensor(0.3754, device='cuda:0', dtype=torch.float64, grad_fn=<UnbindBackward0>), tensor(0.6306, device='cuda:0', dtype=torch.float64, grad_fn=<UnbindBackward0>), tensor(-0.0325, device='cuda:0', dtype=torch.float64, grad_fn=<DivBackward0>), tensor(0.0930, device='cuda:0', dtype=torch.float64, grad_fn=<UnbindBackward0>), tensor(0.2775, device='cuda:0', dtype=torch.float64, grad_fn=<UnbindBackward0>), tensor(-0.0315, device='cuda:0', dtype=torch.float64,\n",
      "       grad_fn=<UnbindBackward0>)]\n",
      "detokenized ['[CLS]', 'an', 'un', 'sett', 'ling', 'sight', ',', '[SEP]']\n",
      "len conti_raw 6\n",
      "conti_raw ['[CLS]', 'an', 'unsettling', 'sight', ',', '[SEP]']\n"
     ]
    },
    {
     "data": {
      "text/html": [
       "<table width: 100%><div style=\"border-top: 1px solid; margin-top: 5px;             padding-top: 5px; display: inline-block\"><b>Legend: </b><span style=\"display: inline-block; width: 10px; height: 10px;                 border: 1px solid; background-color:                 hsl(0, 75%, 60%)\"></span> Negative  <span style=\"display: inline-block; width: 10px; height: 10px;                 border: 1px solid; background-color:                 hsl(0, 75%, 100%)\"></span> Neutral  <span style=\"display: inline-block; width: 10px; height: 10px;                 border: 1px solid; background-color:                 hsl(120, 75%, 50%)\"></span> Positive  </div><tr><th>True Label</th><th>Predicted Label</th><th>Attribution Label</th><th>Attribution Score</th><th>Word Importance</th><tr><td><text style=\"padding-right:2em\"><b>Neg</b></text></td><td><text style=\"padding-right:2em\"><b>Pos (0.93)</b></text></td><td><text style=\"padding-right:2em\"><b>Pos</b></text></td><td><text style=\"padding-right:2em\"><b>0.92</b></text></td><td><mark style=\"background-color: hsl(120, 75%, 82%); opacity:1.0;                     line-height:1.75\"><font color=\"black\"> [CLS]                    </font></mark><mark style=\"background-color: hsl(120, 75%, 69%); opacity:1.0;                     line-height:1.75\"><font color=\"black\"> an                    </font></mark><mark style=\"background-color: hsl(0, 75%, 99%); opacity:1.0;                     line-height:1.75\"><font color=\"black\"> unsettling                    </font></mark><mark style=\"background-color: hsl(120, 75%, 96%); opacity:1.0;                     line-height:1.75\"><font color=\"black\"> sight                    </font></mark><mark style=\"background-color: hsl(120, 75%, 87%); opacity:1.0;                     line-height:1.75\"><font color=\"black\"> ,                    </font></mark><mark style=\"background-color: hsl(0, 75%, 99%); opacity:1.0;                     line-height:1.75\"><font color=\"black\"> [SEP]                    </font></mark></td><tr></table>"
      ],
      "text/plain": [
       "<IPython.core.display.HTML object>"
      ]
     },
     "metadata": {},
     "output_type": "display_data"
    },
    {
     "name": "stdout",
     "output_type": "stream",
     "text": [
      "<IPython.core.display.HTML object>\n",
      "Raw review: the climactic hourlong cricket match \n",
      "GT target: 1\n",
      "word attr tensor([-0.0440,  0.0876,  0.0171, -0.3417, -0.3920,  0.4486,  0.0475,  0.6420,\n",
      "         0.2738,  0.1704], device='cuda:0', dtype=torch.float64,\n",
      "       grad_fn=<AsStridedBackward0>)\n",
      "conti attr [tensor(-0.0440, device='cuda:0', dtype=torch.float64,\n",
      "       grad_fn=<UnbindBackward0>), tensor(0.0876, device='cuda:0', dtype=torch.float64, grad_fn=<UnbindBackward0>), tensor(-0.2771, device='cuda:0', dtype=torch.float64, grad_fn=<DivBackward0>), tensor(0.2481, device='cuda:0', dtype=torch.float64, grad_fn=<DivBackward0>), tensor(0.6420, device='cuda:0', dtype=torch.float64, grad_fn=<UnbindBackward0>), tensor(0.2738, device='cuda:0', dtype=torch.float64, grad_fn=<UnbindBackward0>), tensor(0.1704, device='cuda:0', dtype=torch.float64, grad_fn=<UnbindBackward0>)]\n",
      "detokenized ['[CLS]', 'the', 'cl', 'ima', 'ctic', 'hour', 'long', 'cricket', 'match', '[SEP]']\n",
      "len conti_raw 7\n",
      "conti_raw ['[CLS]', 'the', 'climactic', 'hourlong', 'cricket', 'match', '[SEP]']\n"
     ]
    },
    {
     "data": {
      "text/html": [
       "<table width: 100%><div style=\"border-top: 1px solid; margin-top: 5px;             padding-top: 5px; display: inline-block\"><b>Legend: </b><span style=\"display: inline-block; width: 10px; height: 10px;                 border: 1px solid; background-color:                 hsl(0, 75%, 60%)\"></span> Negative  <span style=\"display: inline-block; width: 10px; height: 10px;                 border: 1px solid; background-color:                 hsl(0, 75%, 100%)\"></span> Neutral  <span style=\"display: inline-block; width: 10px; height: 10px;                 border: 1px solid; background-color:                 hsl(120, 75%, 50%)\"></span> Positive  </div><tr><th>True Label</th><th>Predicted Label</th><th>Attribution Label</th><th>Attribution Score</th><th>Word Importance</th><tr><td><text style=\"padding-right:2em\"><b>Pos</b></text></td><td><text style=\"padding-right:2em\"><b>Pos (0.60)</b></text></td><td><text style=\"padding-right:2em\"><b>Pos</b></text></td><td><text style=\"padding-right:2em\"><b>0.91</b></text></td><td><mark style=\"background-color: hsl(0, 75%, 99%); opacity:1.0;                     line-height:1.75\"><font color=\"black\"> [CLS]                    </font></mark><mark style=\"background-color: hsl(120, 75%, 96%); opacity:1.0;                     line-height:1.75\"><font color=\"black\"> the                    </font></mark><mark style=\"background-color: hsl(0, 75%, 89%); opacity:1.0;                     line-height:1.75\"><font color=\"black\"> climactic                    </font></mark><mark style=\"background-color: hsl(120, 75%, 88%); opacity:1.0;                     line-height:1.75\"><font color=\"black\"> hourlong                    </font></mark><mark style=\"background-color: hsl(120, 75%, 68%); opacity:1.0;                     line-height:1.75\"><font color=\"black\"> cricket                    </font></mark><mark style=\"background-color: hsl(120, 75%, 87%); opacity:1.0;                     line-height:1.75\"><font color=\"black\"> match                    </font></mark><mark style=\"background-color: hsl(120, 75%, 92%); opacity:1.0;                     line-height:1.75\"><font color=\"black\"> [SEP]                    </font></mark></td><tr></table>"
      ],
      "text/plain": [
       "<IPython.core.display.HTML object>"
      ]
     },
     "metadata": {},
     "output_type": "display_data"
    },
    {
     "name": "stdout",
     "output_type": "stream",
     "text": [
      "<IPython.core.display.HTML object>\n",
      "Raw review: alternating between facetious comic parody and pulp melodrama , this smart-aleck movie ... tosses around some intriguing questions about the difference between human and android life \n",
      "GT target: 1\n",
      "word attr tensor([ 0.1796, -0.0056, -0.0545, -0.0858, -0.1506,  0.1825, -0.0589,  0.0999,\n",
      "        -0.0965,  0.0246,  0.0749,  0.1588,  0.1040,  0.0153,  0.2736, -0.0215,\n",
      "        -0.0392,  0.0023,  0.1258,  0.0417, -0.0339, -0.0192, -0.1467, -0.0444,\n",
      "        -0.0213,  0.0079,  0.6755, -0.2304,  0.0446,  0.0336,  0.0594,  0.0499,\n",
      "         0.0878,  0.1580, -0.0024,  0.1560, -0.3750], device='cuda:0',\n",
      "       dtype=torch.float64, grad_fn=<AsStridedBackward0>)\n",
      "conti attr [tensor(0.1796, device='cuda:0', dtype=torch.float64, grad_fn=<UnbindBackward0>), tensor(-0.0056, device='cuda:0', dtype=torch.float64,\n",
      "       grad_fn=<UnbindBackward0>), tensor(-0.0545, device='cuda:0', dtype=torch.float64,\n",
      "       grad_fn=<UnbindBackward0>), tensor(-0.1182, device='cuda:0', dtype=torch.float64, grad_fn=<DivBackward0>), tensor(0.1825, device='cuda:0', dtype=torch.float64, grad_fn=<UnbindBackward0>), tensor(-0.0589, device='cuda:0', dtype=torch.float64,\n",
      "       grad_fn=<UnbindBackward0>), tensor(0.0999, device='cuda:0', dtype=torch.float64, grad_fn=<UnbindBackward0>), tensor(-0.0965, device='cuda:0', dtype=torch.float64,\n",
      "       grad_fn=<UnbindBackward0>), tensor(0.1043, device='cuda:0', dtype=torch.float64, grad_fn=<DivBackward0>), tensor(0.1040, device='cuda:0', dtype=torch.float64, grad_fn=<UnbindBackward0>), tensor(0.0153, device='cuda:0', dtype=torch.float64, grad_fn=<UnbindBackward0>), tensor(0.0229, device='cuda:0', dtype=torch.float64, grad_fn=<DivBackward0>), tensor(0.1258, device='cuda:0', dtype=torch.float64, grad_fn=<UnbindBackward0>), tensor(-0.0076, device='cuda:0', dtype=torch.float64, grad_fn=<DivBackward0>), tensor(-0.0956, device='cuda:0', dtype=torch.float64, grad_fn=<DivBackward0>), tensor(-0.0213, device='cuda:0', dtype=torch.float64,\n",
      "       grad_fn=<UnbindBackward0>), tensor(0.0079, device='cuda:0', dtype=torch.float64, grad_fn=<UnbindBackward0>), tensor(0.6755, device='cuda:0', dtype=torch.float64, grad_fn=<UnbindBackward0>), tensor(-0.2304, device='cuda:0', dtype=torch.float64,\n",
      "       grad_fn=<UnbindBackward0>), tensor(0.0446, device='cuda:0', dtype=torch.float64, grad_fn=<UnbindBackward0>), tensor(0.0336, device='cuda:0', dtype=torch.float64, grad_fn=<UnbindBackward0>), tensor(0.0594, device='cuda:0', dtype=torch.float64, grad_fn=<UnbindBackward0>), tensor(0.0499, device='cuda:0', dtype=torch.float64, grad_fn=<UnbindBackward0>), tensor(0.0878, device='cuda:0', dtype=torch.float64, grad_fn=<UnbindBackward0>), tensor(0.1580, device='cuda:0', dtype=torch.float64, grad_fn=<UnbindBackward0>), tensor(-0.0024, device='cuda:0', dtype=torch.float64,\n",
      "       grad_fn=<UnbindBackward0>), tensor(0.1560, device='cuda:0', dtype=torch.float64, grad_fn=<UnbindBackward0>), tensor(-0.3750, device='cuda:0', dtype=torch.float64,\n",
      "       grad_fn=<UnbindBackward0>)]\n",
      "detokenized ['[CLS]', 'alternating', 'between', 'face', 'tious', 'comic', 'parody', 'and', 'pulp', 'mel', 'od', 'rama', ',', 'this', 'smart', '-', 'alec', 'k', 'movie', '.', '.', '.', 'toss', 'es', 'around', 'some', 'intriguing', 'questions', 'about', 'the', 'difference', 'between', 'human', 'and', 'android', 'life', '[SEP]']\n",
      "len conti_raw 28\n",
      "conti_raw ['[CLS]', 'alternating', 'between', 'facetious', 'comic', 'parody', 'and', 'pulp', 'melodrama', ',', 'this', 'smart-aleck', 'movie', '...', 'tosses', 'around', 'some', 'intriguing', 'questions', 'about', 'the', 'difference', 'between', 'human', 'and', 'android', 'life', '[SEP]']\n"
     ]
    },
    {
     "data": {
      "text/html": [
       "<table width: 100%><div style=\"border-top: 1px solid; margin-top: 5px;             padding-top: 5px; display: inline-block\"><b>Legend: </b><span style=\"display: inline-block; width: 10px; height: 10px;                 border: 1px solid; background-color:                 hsl(0, 75%, 60%)\"></span> Negative  <span style=\"display: inline-block; width: 10px; height: 10px;                 border: 1px solid; background-color:                 hsl(0, 75%, 100%)\"></span> Neutral  <span style=\"display: inline-block; width: 10px; height: 10px;                 border: 1px solid; background-color:                 hsl(120, 75%, 50%)\"></span> Positive  </div><tr><th>True Label</th><th>Predicted Label</th><th>Attribution Label</th><th>Attribution Score</th><th>Word Importance</th><tr><td><text style=\"padding-right:2em\"><b>Pos</b></text></td><td><text style=\"padding-right:2em\"><b>Pos (0.93)</b></text></td><td><text style=\"padding-right:2em\"><b>Pos</b></text></td><td><text style=\"padding-right:2em\"><b>1.17</b></text></td><td><mark style=\"background-color: hsl(120, 75%, 92%); opacity:1.0;                     line-height:1.75\"><font color=\"black\"> [CLS]                    </font></mark><mark style=\"background-color: hsl(0, 75%, 100%); opacity:1.0;                     line-height:1.75\"><font color=\"black\"> alternating                    </font></mark><mark style=\"background-color: hsl(0, 75%, 98%); opacity:1.0;                     line-height:1.75\"><font color=\"black\"> between                    </font></mark><mark style=\"background-color: hsl(0, 75%, 96%); opacity:1.0;                     line-height:1.75\"><font color=\"black\"> facetious                    </font></mark><mark style=\"background-color: hsl(120, 75%, 91%); opacity:1.0;                     line-height:1.75\"><font color=\"black\"> comic                    </font></mark><mark style=\"background-color: hsl(0, 75%, 98%); opacity:1.0;                     line-height:1.75\"><font color=\"black\"> parody                    </font></mark><mark style=\"background-color: hsl(120, 75%, 96%); opacity:1.0;                     line-height:1.75\"><font color=\"black\"> and                    </font></mark><mark style=\"background-color: hsl(0, 75%, 97%); opacity:1.0;                     line-height:1.75\"><font color=\"black\"> pulp                    </font></mark><mark style=\"background-color: hsl(120, 75%, 95%); opacity:1.0;                     line-height:1.75\"><font color=\"black\"> melodrama                    </font></mark><mark style=\"background-color: hsl(120, 75%, 95%); opacity:1.0;                     line-height:1.75\"><font color=\"black\"> ,                    </font></mark><mark style=\"background-color: hsl(120, 75%, 100%); opacity:1.0;                     line-height:1.75\"><font color=\"black\"> this                    </font></mark><mark style=\"background-color: hsl(120, 75%, 99%); opacity:1.0;                     line-height:1.75\"><font color=\"black\"> smart-aleck                    </font></mark><mark style=\"background-color: hsl(120, 75%, 94%); opacity:1.0;                     line-height:1.75\"><font color=\"black\"> movie                    </font></mark><mark style=\"background-color: hsl(0, 75%, 100%); opacity:1.0;                     line-height:1.75\"><font color=\"black\"> ...                    </font></mark><mark style=\"background-color: hsl(0, 75%, 97%); opacity:1.0;                     line-height:1.75\"><font color=\"black\"> tosses                    </font></mark><mark style=\"background-color: hsl(0, 75%, 100%); opacity:1.0;                     line-height:1.75\"><font color=\"black\"> around                    </font></mark><mark style=\"background-color: hsl(120, 75%, 100%); opacity:1.0;                     line-height:1.75\"><font color=\"black\"> some                    </font></mark><mark style=\"background-color: hsl(120, 75%, 67%); opacity:1.0;                     line-height:1.75\"><font color=\"black\"> intriguing                    </font></mark><mark style=\"background-color: hsl(0, 75%, 91%); opacity:1.0;                     line-height:1.75\"><font color=\"black\"> questions                    </font></mark><mark style=\"background-color: hsl(120, 75%, 98%); opacity:1.0;                     line-height:1.75\"><font color=\"black\"> about                    </font></mark><mark style=\"background-color: hsl(120, 75%, 99%); opacity:1.0;                     line-height:1.75\"><font color=\"black\"> the                    </font></mark><mark style=\"background-color: hsl(120, 75%, 98%); opacity:1.0;                     line-height:1.75\"><font color=\"black\"> difference                    </font></mark><mark style=\"background-color: hsl(120, 75%, 98%); opacity:1.0;                     line-height:1.75\"><font color=\"black\"> between                    </font></mark><mark style=\"background-color: hsl(120, 75%, 96%); opacity:1.0;                     line-height:1.75\"><font color=\"black\"> human                    </font></mark><mark style=\"background-color: hsl(120, 75%, 93%); opacity:1.0;                     line-height:1.75\"><font color=\"black\"> and                    </font></mark><mark style=\"background-color: hsl(0, 75%, 100%); opacity:1.0;                     line-height:1.75\"><font color=\"black\"> android                    </font></mark><mark style=\"background-color: hsl(120, 75%, 93%); opacity:1.0;                     line-height:1.75\"><font color=\"black\"> life                    </font></mark><mark style=\"background-color: hsl(0, 75%, 86%); opacity:1.0;                     line-height:1.75\"><font color=\"black\"> [SEP]                    </font></mark></td><tr></table>"
      ],
      "text/plain": [
       "<IPython.core.display.HTML object>"
      ]
     },
     "metadata": {},
     "output_type": "display_data"
    },
    {
     "name": "stdout",
     "output_type": "stream",
     "text": [
      "<IPython.core.display.HTML object>\n",
      "Raw review: to be a part of that elusive adult world \n",
      "GT target: 1\n",
      "word attr tensor([ 0.6309,  0.2747,  0.2102,  0.1087, -0.2844,  0.4281,  0.0622,  0.0066,\n",
      "         0.0832, -0.2272,  0.3794], device='cuda:0', dtype=torch.float64,\n",
      "       grad_fn=<AsStridedBackward0>)\n",
      "conti attr [tensor(0.6309, device='cuda:0', dtype=torch.float64, grad_fn=<UnbindBackward0>), tensor(0.2747, device='cuda:0', dtype=torch.float64, grad_fn=<UnbindBackward0>), tensor(0.2102, device='cuda:0', dtype=torch.float64, grad_fn=<UnbindBackward0>), tensor(0.1087, device='cuda:0', dtype=torch.float64, grad_fn=<UnbindBackward0>), tensor(-0.2844, device='cuda:0', dtype=torch.float64,\n",
      "       grad_fn=<UnbindBackward0>), tensor(0.4281, device='cuda:0', dtype=torch.float64, grad_fn=<UnbindBackward0>), tensor(0.0622, device='cuda:0', dtype=torch.float64, grad_fn=<UnbindBackward0>), tensor(0.0066, device='cuda:0', dtype=torch.float64, grad_fn=<UnbindBackward0>), tensor(0.0832, device='cuda:0', dtype=torch.float64, grad_fn=<UnbindBackward0>), tensor(-0.2272, device='cuda:0', dtype=torch.float64,\n",
      "       grad_fn=<UnbindBackward0>), tensor(0.3794, device='cuda:0', dtype=torch.float64, grad_fn=<UnbindBackward0>)]\n",
      "detokenized ['[CLS]', 'to', 'be', 'a', 'part', 'of', 'that', 'elusive', 'adult', 'world', '[SEP]']\n",
      "len conti_raw 11\n",
      "conti_raw ['[CLS]', 'to', 'be', 'a', 'part', 'of', 'that', 'elusive', 'adult', 'world', '[SEP]']\n"
     ]
    },
    {
     "data": {
      "text/html": [
       "<table width: 100%><div style=\"border-top: 1px solid; margin-top: 5px;             padding-top: 5px; display: inline-block\"><b>Legend: </b><span style=\"display: inline-block; width: 10px; height: 10px;                 border: 1px solid; background-color:                 hsl(0, 75%, 60%)\"></span> Negative  <span style=\"display: inline-block; width: 10px; height: 10px;                 border: 1px solid; background-color:                 hsl(0, 75%, 100%)\"></span> Neutral  <span style=\"display: inline-block; width: 10px; height: 10px;                 border: 1px solid; background-color:                 hsl(120, 75%, 50%)\"></span> Positive  </div><tr><th>True Label</th><th>Predicted Label</th><th>Attribution Label</th><th>Attribution Score</th><th>Word Importance</th><tr><td><text style=\"padding-right:2em\"><b>Pos</b></text></td><td><text style=\"padding-right:2em\"><b>Pos (0.96)</b></text></td><td><text style=\"padding-right:2em\"><b>Pos</b></text></td><td><text style=\"padding-right:2em\"><b>1.67</b></text></td><td><mark style=\"background-color: hsl(120, 75%, 69%); opacity:1.0;                     line-height:1.75\"><font color=\"black\"> [CLS]                    </font></mark><mark style=\"background-color: hsl(120, 75%, 87%); opacity:1.0;                     line-height:1.75\"><font color=\"black\"> to                    </font></mark><mark style=\"background-color: hsl(120, 75%, 90%); opacity:1.0;                     line-height:1.75\"><font color=\"black\"> be                    </font></mark><mark style=\"background-color: hsl(120, 75%, 95%); opacity:1.0;                     line-height:1.75\"><font color=\"black\"> a                    </font></mark><mark style=\"background-color: hsl(0, 75%, 89%); opacity:1.0;                     line-height:1.75\"><font color=\"black\"> part                    </font></mark><mark style=\"background-color: hsl(120, 75%, 79%); opacity:1.0;                     line-height:1.75\"><font color=\"black\"> of                    </font></mark><mark style=\"background-color: hsl(120, 75%, 97%); opacity:1.0;                     line-height:1.75\"><font color=\"black\"> that                    </font></mark><mark style=\"background-color: hsl(120, 75%, 100%); opacity:1.0;                     line-height:1.75\"><font color=\"black\"> elusive                    </font></mark><mark style=\"background-color: hsl(120, 75%, 96%); opacity:1.0;                     line-height:1.75\"><font color=\"black\"> adult                    </font></mark><mark style=\"background-color: hsl(0, 75%, 91%); opacity:1.0;                     line-height:1.75\"><font color=\"black\"> world                    </font></mark><mark style=\"background-color: hsl(120, 75%, 82%); opacity:1.0;                     line-height:1.75\"><font color=\"black\"> [SEP]                    </font></mark></td><tr></table>"
      ],
      "text/plain": [
       "<IPython.core.display.HTML object>"
      ]
     },
     "metadata": {},
     "output_type": "display_data"
    },
    {
     "name": "stdout",
     "output_type": "stream",
     "text": [
      "<IPython.core.display.HTML object>\n",
      "Raw review: emotional power \n",
      "GT target: 1\n",
      "word attr tensor([0.3731, 0.2234, 0.3877, 0.8128], device='cuda:0', dtype=torch.float64,\n",
      "       grad_fn=<AsStridedBackward0>)\n",
      "conti attr [tensor(0.3731, device='cuda:0', dtype=torch.float64, grad_fn=<UnbindBackward0>), tensor(0.2234, device='cuda:0', dtype=torch.float64, grad_fn=<UnbindBackward0>), tensor(0.3877, device='cuda:0', dtype=torch.float64, grad_fn=<UnbindBackward0>), tensor(0.8128, device='cuda:0', dtype=torch.float64, grad_fn=<UnbindBackward0>)]\n",
      "detokenized ['[CLS]', 'emotional', 'power', '[SEP]']\n",
      "len conti_raw 4\n",
      "conti_raw ['[CLS]', 'emotional', 'power', '[SEP]']\n"
     ]
    },
    {
     "data": {
      "text/html": [
       "<table width: 100%><div style=\"border-top: 1px solid; margin-top: 5px;             padding-top: 5px; display: inline-block\"><b>Legend: </b><span style=\"display: inline-block; width: 10px; height: 10px;                 border: 1px solid; background-color:                 hsl(0, 75%, 60%)\"></span> Negative  <span style=\"display: inline-block; width: 10px; height: 10px;                 border: 1px solid; background-color:                 hsl(0, 75%, 100%)\"></span> Neutral  <span style=\"display: inline-block; width: 10px; height: 10px;                 border: 1px solid; background-color:                 hsl(120, 75%, 50%)\"></span> Positive  </div><tr><th>True Label</th><th>Predicted Label</th><th>Attribution Label</th><th>Attribution Score</th><th>Word Importance</th><tr><td><text style=\"padding-right:2em\"><b>Pos</b></text></td><td><text style=\"padding-right:2em\"><b>Pos (0.98)</b></text></td><td><text style=\"padding-right:2em\"><b>Pos</b></text></td><td><text style=\"padding-right:2em\"><b>1.80</b></text></td><td><mark style=\"background-color: hsl(120, 75%, 82%); opacity:1.0;                     line-height:1.75\"><font color=\"black\"> [CLS]                    </font></mark><mark style=\"background-color: hsl(120, 75%, 89%); opacity:1.0;                     line-height:1.75\"><font color=\"black\"> emotional                    </font></mark><mark style=\"background-color: hsl(120, 75%, 81%); opacity:1.0;                     line-height:1.75\"><font color=\"black\"> power                    </font></mark><mark style=\"background-color: hsl(120, 75%, 60%); opacity:1.0;                     line-height:1.75\"><font color=\"black\"> [SEP]                    </font></mark></td><tr></table>"
      ],
      "text/plain": [
       "<IPython.core.display.HTML object>"
      ]
     },
     "metadata": {},
     "output_type": "display_data"
    },
    {
     "name": "stdout",
     "output_type": "stream",
     "text": [
      "<IPython.core.display.HTML object>\n",
      "Raw review: reminds you of why animation is such a perfect medium for children , because of the way it allows the mind to enter and accept another world \n",
      "GT target: 1\n",
      "word attr tensor([ 0.3292,  0.0162,  0.0964,  0.0303, -0.0602, -0.0094,  0.2484,  0.4478,\n",
      "         0.1281,  0.2159,  0.1706,  0.2887,  0.0361,  0.1289, -0.1730,  0.0101,\n",
      "         0.1095, -0.0364,  0.0716,  0.1786,  0.0697,  0.0539,  0.0732, -0.1903,\n",
      "         0.1592, -0.2310, -0.0272,  0.1380, -0.4400], device='cuda:0',\n",
      "       dtype=torch.float64, grad_fn=<AsStridedBackward0>)\n",
      "conti attr [tensor(0.3292, device='cuda:0', dtype=torch.float64, grad_fn=<UnbindBackward0>), tensor(0.0162, device='cuda:0', dtype=torch.float64, grad_fn=<UnbindBackward0>), tensor(0.0964, device='cuda:0', dtype=torch.float64, grad_fn=<UnbindBackward0>), tensor(0.0303, device='cuda:0', dtype=torch.float64, grad_fn=<UnbindBackward0>), tensor(-0.0602, device='cuda:0', dtype=torch.float64,\n",
      "       grad_fn=<UnbindBackward0>), tensor(-0.0094, device='cuda:0', dtype=torch.float64,\n",
      "       grad_fn=<UnbindBackward0>), tensor(0.2484, device='cuda:0', dtype=torch.float64, grad_fn=<UnbindBackward0>), tensor(0.4478, device='cuda:0', dtype=torch.float64, grad_fn=<UnbindBackward0>), tensor(0.1281, device='cuda:0', dtype=torch.float64, grad_fn=<UnbindBackward0>), tensor(0.2159, device='cuda:0', dtype=torch.float64, grad_fn=<UnbindBackward0>), tensor(0.1706, device='cuda:0', dtype=torch.float64, grad_fn=<UnbindBackward0>), tensor(0.2887, device='cuda:0', dtype=torch.float64, grad_fn=<UnbindBackward0>), tensor(0.0361, device='cuda:0', dtype=torch.float64, grad_fn=<UnbindBackward0>), tensor(0.1289, device='cuda:0', dtype=torch.float64, grad_fn=<UnbindBackward0>), tensor(-0.1730, device='cuda:0', dtype=torch.float64,\n",
      "       grad_fn=<UnbindBackward0>), tensor(0.0101, device='cuda:0', dtype=torch.float64, grad_fn=<UnbindBackward0>), tensor(0.1095, device='cuda:0', dtype=torch.float64, grad_fn=<UnbindBackward0>), tensor(-0.0364, device='cuda:0', dtype=torch.float64,\n",
      "       grad_fn=<UnbindBackward0>), tensor(0.0716, device='cuda:0', dtype=torch.float64, grad_fn=<UnbindBackward0>), tensor(0.1786, device='cuda:0', dtype=torch.float64, grad_fn=<UnbindBackward0>), tensor(0.0697, device='cuda:0', dtype=torch.float64, grad_fn=<UnbindBackward0>), tensor(0.0539, device='cuda:0', dtype=torch.float64, grad_fn=<UnbindBackward0>), tensor(0.0732, device='cuda:0', dtype=torch.float64, grad_fn=<UnbindBackward0>), tensor(-0.1903, device='cuda:0', dtype=torch.float64,\n",
      "       grad_fn=<UnbindBackward0>), tensor(0.1592, device='cuda:0', dtype=torch.float64, grad_fn=<UnbindBackward0>), tensor(-0.2310, device='cuda:0', dtype=torch.float64,\n",
      "       grad_fn=<UnbindBackward0>), tensor(-0.0272, device='cuda:0', dtype=torch.float64,\n",
      "       grad_fn=<UnbindBackward0>), tensor(0.1380, device='cuda:0', dtype=torch.float64, grad_fn=<UnbindBackward0>), tensor(-0.4400, device='cuda:0', dtype=torch.float64,\n",
      "       grad_fn=<UnbindBackward0>)]\n",
      "detokenized ['[CLS]', 'reminds', 'you', 'of', 'why', 'animation', 'is', 'such', 'a', 'perfect', 'medium', 'for', 'children', ',', 'because', 'of', 'the', 'way', 'it', 'allows', 'the', 'mind', 'to', 'enter', 'and', 'accept', 'another', 'world', '[SEP]']\n",
      "len conti_raw 29\n",
      "conti_raw ['[CLS]', 'reminds', 'you', 'of', 'why', 'animation', 'is', 'such', 'a', 'perfect', 'medium', 'for', 'children', ',', 'because', 'of', 'the', 'way', 'it', 'allows', 'the', 'mind', 'to', 'enter', 'and', 'accept', 'another', 'world', '[SEP]']\n"
     ]
    },
    {
     "data": {
      "text/html": [
       "<table width: 100%><div style=\"border-top: 1px solid; margin-top: 5px;             padding-top: 5px; display: inline-block\"><b>Legend: </b><span style=\"display: inline-block; width: 10px; height: 10px;                 border: 1px solid; background-color:                 hsl(0, 75%, 60%)\"></span> Negative  <span style=\"display: inline-block; width: 10px; height: 10px;                 border: 1px solid; background-color:                 hsl(0, 75%, 100%)\"></span> Neutral  <span style=\"display: inline-block; width: 10px; height: 10px;                 border: 1px solid; background-color:                 hsl(120, 75%, 50%)\"></span> Positive  </div><tr><th>True Label</th><th>Predicted Label</th><th>Attribution Label</th><th>Attribution Score</th><th>Word Importance</th><tr><td><text style=\"padding-right:2em\"><b>Pos</b></text></td><td><text style=\"padding-right:2em\"><b>Pos (0.97)</b></text></td><td><text style=\"padding-right:2em\"><b>Pos</b></text></td><td><text style=\"padding-right:2em\"><b>1.83</b></text></td><td><mark style=\"background-color: hsl(120, 75%, 84%); opacity:1.0;                     line-height:1.75\"><font color=\"black\"> [CLS]                    </font></mark><mark style=\"background-color: hsl(120, 75%, 100%); opacity:1.0;                     line-height:1.75\"><font color=\"black\"> reminds                    </font></mark><mark style=\"background-color: hsl(120, 75%, 96%); opacity:1.0;                     line-height:1.75\"><font color=\"black\"> you                    </font></mark><mark style=\"background-color: hsl(120, 75%, 99%); opacity:1.0;                     line-height:1.75\"><font color=\"black\"> of                    </font></mark><mark style=\"background-color: hsl(0, 75%, 98%); opacity:1.0;                     line-height:1.75\"><font color=\"black\"> why                    </font></mark><mark style=\"background-color: hsl(0, 75%, 100%); opacity:1.0;                     line-height:1.75\"><font color=\"black\"> animation                    </font></mark><mark style=\"background-color: hsl(120, 75%, 88%); opacity:1.0;                     line-height:1.75\"><font color=\"black\"> is                    </font></mark><mark style=\"background-color: hsl(120, 75%, 78%); opacity:1.0;                     line-height:1.75\"><font color=\"black\"> such                    </font></mark><mark style=\"background-color: hsl(120, 75%, 94%); opacity:1.0;                     line-height:1.75\"><font color=\"black\"> a                    </font></mark><mark style=\"background-color: hsl(120, 75%, 90%); opacity:1.0;                     line-height:1.75\"><font color=\"black\"> perfect                    </font></mark><mark style=\"background-color: hsl(120, 75%, 92%); opacity:1.0;                     line-height:1.75\"><font color=\"black\"> medium                    </font></mark><mark style=\"background-color: hsl(120, 75%, 86%); opacity:1.0;                     line-height:1.75\"><font color=\"black\"> for                    </font></mark><mark style=\"background-color: hsl(120, 75%, 99%); opacity:1.0;                     line-height:1.75\"><font color=\"black\"> children                    </font></mark><mark style=\"background-color: hsl(120, 75%, 94%); opacity:1.0;                     line-height:1.75\"><font color=\"black\"> ,                    </font></mark><mark style=\"background-color: hsl(0, 75%, 94%); opacity:1.0;                     line-height:1.75\"><font color=\"black\"> because                    </font></mark><mark style=\"background-color: hsl(120, 75%, 100%); opacity:1.0;                     line-height:1.75\"><font color=\"black\"> of                    </font></mark><mark style=\"background-color: hsl(120, 75%, 95%); opacity:1.0;                     line-height:1.75\"><font color=\"black\"> the                    </font></mark><mark style=\"background-color: hsl(0, 75%, 99%); opacity:1.0;                     line-height:1.75\"><font color=\"black\"> way                    </font></mark><mark style=\"background-color: hsl(120, 75%, 97%); opacity:1.0;                     line-height:1.75\"><font color=\"black\"> it                    </font></mark><mark style=\"background-color: hsl(120, 75%, 92%); opacity:1.0;                     line-height:1.75\"><font color=\"black\"> allows                    </font></mark><mark style=\"background-color: hsl(120, 75%, 97%); opacity:1.0;                     line-height:1.75\"><font color=\"black\"> the                    </font></mark><mark style=\"background-color: hsl(120, 75%, 98%); opacity:1.0;                     line-height:1.75\"><font color=\"black\"> mind                    </font></mark><mark style=\"background-color: hsl(120, 75%, 97%); opacity:1.0;                     line-height:1.75\"><font color=\"black\"> to                    </font></mark><mark style=\"background-color: hsl(0, 75%, 93%); opacity:1.0;                     line-height:1.75\"><font color=\"black\"> enter                    </font></mark><mark style=\"background-color: hsl(120, 75%, 93%); opacity:1.0;                     line-height:1.75\"><font color=\"black\"> and                    </font></mark><mark style=\"background-color: hsl(0, 75%, 91%); opacity:1.0;                     line-height:1.75\"><font color=\"black\"> accept                    </font></mark><mark style=\"background-color: hsl(0, 75%, 99%); opacity:1.0;                     line-height:1.75\"><font color=\"black\"> another                    </font></mark><mark style=\"background-color: hsl(120, 75%, 94%); opacity:1.0;                     line-height:1.75\"><font color=\"black\"> world                    </font></mark><mark style=\"background-color: hsl(0, 75%, 83%); opacity:1.0;                     line-height:1.75\"><font color=\"black\"> [SEP]                    </font></mark></td><tr></table>"
      ],
      "text/plain": [
       "<IPython.core.display.HTML object>"
      ]
     },
     "metadata": {},
     "output_type": "display_data"
    },
    {
     "name": "stdout",
     "output_type": "stream",
     "text": [
      "<IPython.core.display.HTML object>\n",
      "Raw review: unparalleled proportions , writer-director parker \n",
      "GT target: 1\n",
      "word attr tensor([ 0.1525,  0.4062,  0.6050,  0.0113,  0.4155, -0.0124, -0.0071, -0.1039,\n",
      "        -0.2798, -0.2982, -0.2421, -0.1903], device='cuda:0',\n",
      "       dtype=torch.float64, grad_fn=<AsStridedBackward0>)\n",
      "conti attr [tensor(0.1525, device='cuda:0', dtype=torch.float64, grad_fn=<UnbindBackward0>), tensor(0.3369, device='cuda:0', dtype=torch.float64, grad_fn=<DivBackward0>), tensor(-0.0124, device='cuda:0', dtype=torch.float64,\n",
      "       grad_fn=<UnbindBackward0>), tensor(-0.0071, device='cuda:0', dtype=torch.float64,\n",
      "       grad_fn=<UnbindBackward0>), tensor(-0.2450, device='cuda:0', dtype=torch.float64, grad_fn=<DivBackward0>), tensor(-0.2421, device='cuda:0', dtype=torch.float64,\n",
      "       grad_fn=<UnbindBackward0>), tensor(-0.1903, device='cuda:0', dtype=torch.float64,\n",
      "       grad_fn=<UnbindBackward0>)]\n",
      "detokenized ['[CLS]', 'un', 'para', 'lle', 'led', 'proportions', ',', 'writer', '-', 'director', 'parker', '[SEP]']\n",
      "len conti_raw 7\n",
      "conti_raw ['[CLS]', 'unparalleled', 'proportions', ',', 'writer-director', 'parker', '[SEP]']\n"
     ]
    },
    {
     "data": {
      "text/html": [
       "<table width: 100%><div style=\"border-top: 1px solid; margin-top: 5px;             padding-top: 5px; display: inline-block\"><b>Legend: </b><span style=\"display: inline-block; width: 10px; height: 10px;                 border: 1px solid; background-color:                 hsl(0, 75%, 60%)\"></span> Negative  <span style=\"display: inline-block; width: 10px; height: 10px;                 border: 1px solid; background-color:                 hsl(0, 75%, 100%)\"></span> Neutral  <span style=\"display: inline-block; width: 10px; height: 10px;                 border: 1px solid; background-color:                 hsl(120, 75%, 50%)\"></span> Positive  </div><tr><th>True Label</th><th>Predicted Label</th><th>Attribution Label</th><th>Attribution Score</th><th>Word Importance</th><tr><td><text style=\"padding-right:2em\"><b>Pos</b></text></td><td><text style=\"padding-right:2em\"><b>Pos (0.88)</b></text></td><td><text style=\"padding-right:2em\"><b>Neg</b></text></td><td><text style=\"padding-right:2em\"><b>0.46</b></text></td><td><mark style=\"background-color: hsl(120, 75%, 93%); opacity:1.0;                     line-height:1.75\"><font color=\"black\"> [CLS]                    </font></mark><mark style=\"background-color: hsl(120, 75%, 84%); opacity:1.0;                     line-height:1.75\"><font color=\"black\"> unparalleled                    </font></mark><mark style=\"background-color: hsl(0, 75%, 100%); opacity:1.0;                     line-height:1.75\"><font color=\"black\"> proportions                    </font></mark><mark style=\"background-color: hsl(0, 75%, 100%); opacity:1.0;                     line-height:1.75\"><font color=\"black\"> ,                    </font></mark><mark style=\"background-color: hsl(0, 75%, 91%); opacity:1.0;                     line-height:1.75\"><font color=\"black\"> writer-director                    </font></mark><mark style=\"background-color: hsl(0, 75%, 91%); opacity:1.0;                     line-height:1.75\"><font color=\"black\"> parker                    </font></mark><mark style=\"background-color: hsl(0, 75%, 93%); opacity:1.0;                     line-height:1.75\"><font color=\"black\"> [SEP]                    </font></mark></td><tr></table>"
      ],
      "text/plain": [
       "<IPython.core.display.HTML object>"
      ]
     },
     "metadata": {},
     "output_type": "display_data"
    },
    {
     "name": "stdout",
     "output_type": "stream",
     "text": [
      "<IPython.core.display.HTML object>\n",
      "Raw review: this surprisingly decent flick \n",
      "GT target: 1\n",
      "word attr tensor([ 0.3642,  0.2530,  0.2037, -0.3019,  0.1144,  0.8109], device='cuda:0',\n",
      "       dtype=torch.float64, grad_fn=<AsStridedBackward0>)\n",
      "conti attr [tensor(0.3642, device='cuda:0', dtype=torch.float64, grad_fn=<UnbindBackward0>), tensor(0.2530, device='cuda:0', dtype=torch.float64, grad_fn=<UnbindBackward0>), tensor(0.2037, device='cuda:0', dtype=torch.float64, grad_fn=<UnbindBackward0>), tensor(-0.3019, device='cuda:0', dtype=torch.float64,\n",
      "       grad_fn=<UnbindBackward0>), tensor(0.1144, device='cuda:0', dtype=torch.float64, grad_fn=<UnbindBackward0>), tensor(0.8109, device='cuda:0', dtype=torch.float64, grad_fn=<UnbindBackward0>)]\n",
      "detokenized ['[CLS]', 'this', 'surprisingly', 'decent', 'flick', '[SEP]']\n",
      "len conti_raw 6\n",
      "conti_raw ['[CLS]', 'this', 'surprisingly', 'decent', 'flick', '[SEP]']\n"
     ]
    },
    {
     "data": {
      "text/html": [
       "<table width: 100%><div style=\"border-top: 1px solid; margin-top: 5px;             padding-top: 5px; display: inline-block\"><b>Legend: </b><span style=\"display: inline-block; width: 10px; height: 10px;                 border: 1px solid; background-color:                 hsl(0, 75%, 60%)\"></span> Negative  <span style=\"display: inline-block; width: 10px; height: 10px;                 border: 1px solid; background-color:                 hsl(0, 75%, 100%)\"></span> Neutral  <span style=\"display: inline-block; width: 10px; height: 10px;                 border: 1px solid; background-color:                 hsl(120, 75%, 50%)\"></span> Positive  </div><tr><th>True Label</th><th>Predicted Label</th><th>Attribution Label</th><th>Attribution Score</th><th>Word Importance</th><tr><td><text style=\"padding-right:2em\"><b>Pos</b></text></td><td><text style=\"padding-right:2em\"><b>Pos (0.97)</b></text></td><td><text style=\"padding-right:2em\"><b>Pos</b></text></td><td><text style=\"padding-right:2em\"><b>1.44</b></text></td><td><mark style=\"background-color: hsl(120, 75%, 82%); opacity:1.0;                     line-height:1.75\"><font color=\"black\"> [CLS]                    </font></mark><mark style=\"background-color: hsl(120, 75%, 88%); opacity:1.0;                     line-height:1.75\"><font color=\"black\"> this                    </font></mark><mark style=\"background-color: hsl(120, 75%, 90%); opacity:1.0;                     line-height:1.75\"><font color=\"black\"> surprisingly                    </font></mark><mark style=\"background-color: hsl(0, 75%, 88%); opacity:1.0;                     line-height:1.75\"><font color=\"black\"> decent                    </font></mark><mark style=\"background-color: hsl(120, 75%, 95%); opacity:1.0;                     line-height:1.75\"><font color=\"black\"> flick                    </font></mark><mark style=\"background-color: hsl(120, 75%, 60%); opacity:1.0;                     line-height:1.75\"><font color=\"black\"> [SEP]                    </font></mark></td><tr></table>"
      ],
      "text/plain": [
       "<IPython.core.display.HTML object>"
      ]
     },
     "metadata": {},
     "output_type": "display_data"
    },
    {
     "name": "stdout",
     "output_type": "stream",
     "text": [
      "<IPython.core.display.HTML object>\n",
      "Raw review: about the best thing you could say about narc is that it 's a rock-solid little genre picture . \n",
      "GT target: 1\n",
      "word attr tensor([ 1.7537e-01,  7.9502e-05,  1.3845e-01,  6.1114e-01, -1.4226e-02,\n",
      "         1.1000e-01, -1.5212e-01,  1.3040e-01,  8.0479e-02,  1.7627e-01,\n",
      "         7.0055e-02,  4.8155e-02, -4.8425e-02,  9.7898e-03,  1.0890e-01,\n",
      "         3.8777e-02,  1.2142e-01,  2.7369e-01,  1.5229e-03,  8.9112e-02,\n",
      "         5.9262e-02,  1.0220e-01,  1.3888e-01, -2.6284e-03, -5.7681e-01],\n",
      "       device='cuda:0', dtype=torch.float64, grad_fn=<AsStridedBackward0>)\n",
      "conti attr [tensor(0.1754, device='cuda:0', dtype=torch.float64, grad_fn=<UnbindBackward0>), tensor(7.9502e-05, device='cuda:0', dtype=torch.float64,\n",
      "       grad_fn=<UnbindBackward0>), tensor(0.1385, device='cuda:0', dtype=torch.float64, grad_fn=<UnbindBackward0>), tensor(0.6111, device='cuda:0', dtype=torch.float64, grad_fn=<UnbindBackward0>), tensor(-0.0142, device='cuda:0', dtype=torch.float64,\n",
      "       grad_fn=<UnbindBackward0>), tensor(0.1100, device='cuda:0', dtype=torch.float64, grad_fn=<UnbindBackward0>), tensor(-0.1521, device='cuda:0', dtype=torch.float64,\n",
      "       grad_fn=<UnbindBackward0>), tensor(0.1304, device='cuda:0', dtype=torch.float64, grad_fn=<UnbindBackward0>), tensor(0.0805, device='cuda:0', dtype=torch.float64, grad_fn=<UnbindBackward0>), tensor(0.1232, device='cuda:0', dtype=torch.float64, grad_fn=<DivBackward0>), tensor(0.0482, device='cuda:0', dtype=torch.float64, grad_fn=<UnbindBackward0>), tensor(-0.0484, device='cuda:0', dtype=torch.float64,\n",
      "       grad_fn=<UnbindBackward0>), tensor(0.0098, device='cuda:0', dtype=torch.float64, grad_fn=<UnbindBackward0>), tensor(0.0738, device='cuda:0', dtype=torch.float64, grad_fn=<DivBackward0>), tensor(0.1214, device='cuda:0', dtype=torch.float64, grad_fn=<UnbindBackward0>), tensor(0.1134, device='cuda:0', dtype=torch.float64, grad_fn=<DivBackward0>), tensor(0.0593, device='cuda:0', dtype=torch.float64, grad_fn=<UnbindBackward0>), tensor(0.1022, device='cuda:0', dtype=torch.float64, grad_fn=<UnbindBackward0>), tensor(0.1389, device='cuda:0', dtype=torch.float64, grad_fn=<UnbindBackward0>), tensor(-0.0026, device='cuda:0', dtype=torch.float64,\n",
      "       grad_fn=<UnbindBackward0>), tensor(-0.5768, device='cuda:0', dtype=torch.float64,\n",
      "       grad_fn=<UnbindBackward0>)]\n",
      "detokenized ['[CLS]', 'about', 'the', 'best', 'thing', 'you', 'could', 'say', 'about', 'na', 'rc', 'is', 'that', 'it', \"'\", 's', 'a', 'rock', '-', 'solid', 'little', 'genre', 'picture', '.', '[SEP]']\n",
      "len conti_raw 21\n",
      "conti_raw ['[CLS]', 'about', 'the', 'best', 'thing', 'you', 'could', 'say', 'about', 'narc', 'is', 'that', 'it', \"'s\", 'a', 'rock-solid', 'little', 'genre', 'picture', '.', '[SEP]']\n"
     ]
    },
    {
     "data": {
      "text/html": [
       "<table width: 100%><div style=\"border-top: 1px solid; margin-top: 5px;             padding-top: 5px; display: inline-block\"><b>Legend: </b><span style=\"display: inline-block; width: 10px; height: 10px;                 border: 1px solid; background-color:                 hsl(0, 75%, 60%)\"></span> Negative  <span style=\"display: inline-block; width: 10px; height: 10px;                 border: 1px solid; background-color:                 hsl(0, 75%, 100%)\"></span> Neutral  <span style=\"display: inline-block; width: 10px; height: 10px;                 border: 1px solid; background-color:                 hsl(120, 75%, 50%)\"></span> Positive  </div><tr><th>True Label</th><th>Predicted Label</th><th>Attribution Label</th><th>Attribution Score</th><th>Word Importance</th><tr><td><text style=\"padding-right:2em\"><b>Pos</b></text></td><td><text style=\"padding-right:2em\"><b>Pos (0.95)</b></text></td><td><text style=\"padding-right:2em\"><b>Pos</b></text></td><td><text style=\"padding-right:2em\"><b>1.69</b></text></td><td><mark style=\"background-color: hsl(120, 75%, 92%); opacity:1.0;                     line-height:1.75\"><font color=\"black\"> [CLS]                    </font></mark><mark style=\"background-color: hsl(120, 75%, 100%); opacity:1.0;                     line-height:1.75\"><font color=\"black\"> about                    </font></mark><mark style=\"background-color: hsl(120, 75%, 94%); opacity:1.0;                     line-height:1.75\"><font color=\"black\"> the                    </font></mark><mark style=\"background-color: hsl(120, 75%, 70%); opacity:1.0;                     line-height:1.75\"><font color=\"black\"> best                    </font></mark><mark style=\"background-color: hsl(0, 75%, 100%); opacity:1.0;                     line-height:1.75\"><font color=\"black\"> thing                    </font></mark><mark style=\"background-color: hsl(120, 75%, 95%); opacity:1.0;                     line-height:1.75\"><font color=\"black\"> you                    </font></mark><mark style=\"background-color: hsl(0, 75%, 94%); opacity:1.0;                     line-height:1.75\"><font color=\"black\"> could                    </font></mark><mark style=\"background-color: hsl(120, 75%, 94%); opacity:1.0;                     line-height:1.75\"><font color=\"black\"> say                    </font></mark><mark style=\"background-color: hsl(120, 75%, 96%); opacity:1.0;                     line-height:1.75\"><font color=\"black\"> about                    </font></mark><mark style=\"background-color: hsl(120, 75%, 94%); opacity:1.0;                     line-height:1.75\"><font color=\"black\"> narc                    </font></mark><mark style=\"background-color: hsl(120, 75%, 98%); opacity:1.0;                     line-height:1.75\"><font color=\"black\"> is                    </font></mark><mark style=\"background-color: hsl(0, 75%, 99%); opacity:1.0;                     line-height:1.75\"><font color=\"black\"> that                    </font></mark><mark style=\"background-color: hsl(120, 75%, 100%); opacity:1.0;                     line-height:1.75\"><font color=\"black\"> it                    </font></mark><mark style=\"background-color: hsl(120, 75%, 97%); opacity:1.0;                     line-height:1.75\"><font color=\"black\"> 's                    </font></mark><mark style=\"background-color: hsl(120, 75%, 94%); opacity:1.0;                     line-height:1.75\"><font color=\"black\"> a                    </font></mark><mark style=\"background-color: hsl(120, 75%, 95%); opacity:1.0;                     line-height:1.75\"><font color=\"black\"> rock-solid                    </font></mark><mark style=\"background-color: hsl(120, 75%, 98%); opacity:1.0;                     line-height:1.75\"><font color=\"black\"> little                    </font></mark><mark style=\"background-color: hsl(120, 75%, 95%); opacity:1.0;                     line-height:1.75\"><font color=\"black\"> genre                    </font></mark><mark style=\"background-color: hsl(120, 75%, 94%); opacity:1.0;                     line-height:1.75\"><font color=\"black\"> picture                    </font></mark><mark style=\"background-color: hsl(0, 75%, 100%); opacity:1.0;                     line-height:1.75\"><font color=\"black\"> .                    </font></mark><mark style=\"background-color: hsl(0, 75%, 77%); opacity:1.0;                     line-height:1.75\"><font color=\"black\"> [SEP]                    </font></mark></td><tr></table>"
      ],
      "text/plain": [
       "<IPython.core.display.HTML object>"
      ]
     },
     "metadata": {},
     "output_type": "display_data"
    },
    {
     "name": "stdout",
     "output_type": "stream",
     "text": [
      "<IPython.core.display.HTML object>\n",
      "Raw review: the very best \n",
      "GT target: 1\n",
      "word attr tensor([ 0.6832,  0.1105,  0.3626, -0.0232,  0.6237], device='cuda:0',\n",
      "       dtype=torch.float64, grad_fn=<AsStridedBackward0>)\n",
      "conti attr [tensor(0.6832, device='cuda:0', dtype=torch.float64, grad_fn=<UnbindBackward0>), tensor(0.1105, device='cuda:0', dtype=torch.float64, grad_fn=<UnbindBackward0>), tensor(0.3626, device='cuda:0', dtype=torch.float64, grad_fn=<UnbindBackward0>), tensor(-0.0232, device='cuda:0', dtype=torch.float64,\n",
      "       grad_fn=<UnbindBackward0>), tensor(0.6237, device='cuda:0', dtype=torch.float64, grad_fn=<UnbindBackward0>)]\n",
      "detokenized ['[CLS]', 'the', 'very', 'best', '[SEP]']\n",
      "len conti_raw 5\n",
      "conti_raw ['[CLS]', 'the', 'very', 'best', '[SEP]']\n"
     ]
    },
    {
     "data": {
      "text/html": [
       "<table width: 100%><div style=\"border-top: 1px solid; margin-top: 5px;             padding-top: 5px; display: inline-block\"><b>Legend: </b><span style=\"display: inline-block; width: 10px; height: 10px;                 border: 1px solid; background-color:                 hsl(0, 75%, 60%)\"></span> Negative  <span style=\"display: inline-block; width: 10px; height: 10px;                 border: 1px solid; background-color:                 hsl(0, 75%, 100%)\"></span> Neutral  <span style=\"display: inline-block; width: 10px; height: 10px;                 border: 1px solid; background-color:                 hsl(120, 75%, 50%)\"></span> Positive  </div><tr><th>True Label</th><th>Predicted Label</th><th>Attribution Label</th><th>Attribution Score</th><th>Word Importance</th><tr><td><text style=\"padding-right:2em\"><b>Pos</b></text></td><td><text style=\"padding-right:2em\"><b>Pos (0.97)</b></text></td><td><text style=\"padding-right:2em\"><b>Pos</b></text></td><td><text style=\"padding-right:2em\"><b>1.76</b></text></td><td><mark style=\"background-color: hsl(120, 75%, 66%); opacity:1.0;                     line-height:1.75\"><font color=\"black\"> [CLS]                    </font></mark><mark style=\"background-color: hsl(120, 75%, 95%); opacity:1.0;                     line-height:1.75\"><font color=\"black\"> the                    </font></mark><mark style=\"background-color: hsl(120, 75%, 82%); opacity:1.0;                     line-height:1.75\"><font color=\"black\"> very                    </font></mark><mark style=\"background-color: hsl(0, 75%, 100%); opacity:1.0;                     line-height:1.75\"><font color=\"black\"> best                    </font></mark><mark style=\"background-color: hsl(120, 75%, 69%); opacity:1.0;                     line-height:1.75\"><font color=\"black\"> [SEP]                    </font></mark></td><tr></table>"
      ],
      "text/plain": [
       "<IPython.core.display.HTML object>"
      ]
     },
     "metadata": {},
     "output_type": "display_data"
    },
    {
     "name": "stdout",
     "output_type": "stream",
     "text": [
      "<IPython.core.display.HTML object>\n",
      "Raw review: been modeled on the worst revenge-of-the-nerds clichés the filmmakers could dredge up \n",
      "GT target: 0\n",
      "word attr tensor([ 0.2274, -0.1366,  0.0088,  0.0231, -0.0328, -0.5362,  0.0978, -0.0308,\n",
      "        -0.0515, -0.0579, -0.0579, -0.0680, -0.1629, -0.1406, -0.0817, -0.1714,\n",
      "         0.0169, -0.0343, -0.0060, -0.0106, -0.0449,  0.0360, -0.0567, -0.7249],\n",
      "       device='cuda:0', dtype=torch.float64, grad_fn=<AsStridedBackward0>)\n",
      "conti attr [tensor(0.2274, device='cuda:0', dtype=torch.float64, grad_fn=<UnbindBackward0>), tensor(-0.1366, device='cuda:0', dtype=torch.float64,\n",
      "       grad_fn=<UnbindBackward0>), tensor(0.0088, device='cuda:0', dtype=torch.float64, grad_fn=<UnbindBackward0>), tensor(0.0231, device='cuda:0', dtype=torch.float64, grad_fn=<UnbindBackward0>), tensor(-0.0328, device='cuda:0', dtype=torch.float64,\n",
      "       grad_fn=<UnbindBackward0>), tensor(-0.5362, device='cuda:0', dtype=torch.float64,\n",
      "       grad_fn=<UnbindBackward0>), tensor(-0.1252, device='cuda:0', dtype=torch.float64, grad_fn=<DivBackward0>), tensor(-0.0549, device='cuda:0', dtype=torch.float64, grad_fn=<DivBackward0>), tensor(-0.0343, device='cuda:0', dtype=torch.float64,\n",
      "       grad_fn=<UnbindBackward0>), tensor(-0.0060, device='cuda:0', dtype=torch.float64,\n",
      "       grad_fn=<UnbindBackward0>), tensor(-0.0106, device='cuda:0', dtype=torch.float64,\n",
      "       grad_fn=<UnbindBackward0>), tensor(-0.0045, device='cuda:0', dtype=torch.float64, grad_fn=<DivBackward0>), tensor(-0.0567, device='cuda:0', dtype=torch.float64,\n",
      "       grad_fn=<UnbindBackward0>), tensor(-0.7249, device='cuda:0', dtype=torch.float64,\n",
      "       grad_fn=<UnbindBackward0>)]\n",
      "detokenized ['[CLS]', 'been', 'modeled', 'on', 'the', 'worst', 'revenge', '-', 'of', '-', 'the', '-', 'ne', 'rds', 'cl', 'iche', 's', 'the', 'filmmakers', 'could', 'dr', 'edge', 'up', '[SEP]']\n",
      "len conti_raw 14\n",
      "conti_raw ['[CLS]', 'been', 'modeled', 'on', 'the', 'worst', 'revenge-of-the-nerds', 'cliches', 'the', 'filmmakers', 'could', 'dredge', 'up', '[SEP]']\n"
     ]
    },
    {
     "data": {
      "text/html": [
       "<table width: 100%><div style=\"border-top: 1px solid; margin-top: 5px;             padding-top: 5px; display: inline-block\"><b>Legend: </b><span style=\"display: inline-block; width: 10px; height: 10px;                 border: 1px solid; background-color:                 hsl(0, 75%, 60%)\"></span> Negative  <span style=\"display: inline-block; width: 10px; height: 10px;                 border: 1px solid; background-color:                 hsl(0, 75%, 100%)\"></span> Neutral  <span style=\"display: inline-block; width: 10px; height: 10px;                 border: 1px solid; background-color:                 hsl(120, 75%, 50%)\"></span> Positive  </div><tr><th>True Label</th><th>Predicted Label</th><th>Attribution Label</th><th>Attribution Score</th><th>Word Importance</th><tr><td><text style=\"padding-right:2em\"><b>Neg</b></text></td><td><text style=\"padding-right:2em\"><b>Neg (0.03)</b></text></td><td><text style=\"padding-right:2em\"><b>Neg</b></text></td><td><text style=\"padding-right:2em\"><b>-2.00</b></text></td><td><mark style=\"background-color: hsl(120, 75%, 89%); opacity:1.0;                     line-height:1.75\"><font color=\"black\"> [CLS]                    </font></mark><mark style=\"background-color: hsl(0, 75%, 95%); opacity:1.0;                     line-height:1.75\"><font color=\"black\"> been                    </font></mark><mark style=\"background-color: hsl(120, 75%, 100%); opacity:1.0;                     line-height:1.75\"><font color=\"black\"> modeled                    </font></mark><mark style=\"background-color: hsl(120, 75%, 99%); opacity:1.0;                     line-height:1.75\"><font color=\"black\"> on                    </font></mark><mark style=\"background-color: hsl(0, 75%, 99%); opacity:1.0;                     line-height:1.75\"><font color=\"black\"> the                    </font></mark><mark style=\"background-color: hsl(0, 75%, 79%); opacity:1.0;                     line-height:1.75\"><font color=\"black\"> worst                    </font></mark><mark style=\"background-color: hsl(0, 75%, 95%); opacity:1.0;                     line-height:1.75\"><font color=\"black\"> revenge-of-the-nerds                    </font></mark><mark style=\"background-color: hsl(0, 75%, 98%); opacity:1.0;                     line-height:1.75\"><font color=\"black\"> cliches                    </font></mark><mark style=\"background-color: hsl(0, 75%, 99%); opacity:1.0;                     line-height:1.75\"><font color=\"black\"> the                    </font></mark><mark style=\"background-color: hsl(0, 75%, 100%); opacity:1.0;                     line-height:1.75\"><font color=\"black\"> filmmakers                    </font></mark><mark style=\"background-color: hsl(0, 75%, 100%); opacity:1.0;                     line-height:1.75\"><font color=\"black\"> could                    </font></mark><mark style=\"background-color: hsl(0, 75%, 100%); opacity:1.0;                     line-height:1.75\"><font color=\"black\"> dredge                    </font></mark><mark style=\"background-color: hsl(0, 75%, 98%); opacity:1.0;                     line-height:1.75\"><font color=\"black\"> up                    </font></mark><mark style=\"background-color: hsl(0, 75%, 72%); opacity:1.0;                     line-height:1.75\"><font color=\"black\"> [SEP]                    </font></mark></td><tr></table>"
      ],
      "text/plain": [
       "<IPython.core.display.HTML object>"
      ]
     },
     "metadata": {},
     "output_type": "display_data"
    },
    {
     "name": "stdout",
     "output_type": "stream",
     "text": [
      "<IPython.core.display.HTML object>\n",
      "Raw review: tell you \n",
      "GT target: 1\n",
      "word attr tensor([0.3377, 0.1776, 0.3107, 0.8706], device='cuda:0', dtype=torch.float64,\n",
      "       grad_fn=<AsStridedBackward0>)\n",
      "conti attr [tensor(0.3377, device='cuda:0', dtype=torch.float64, grad_fn=<UnbindBackward0>), tensor(0.1776, device='cuda:0', dtype=torch.float64, grad_fn=<UnbindBackward0>), tensor(0.3107, device='cuda:0', dtype=torch.float64, grad_fn=<UnbindBackward0>), tensor(0.8706, device='cuda:0', dtype=torch.float64, grad_fn=<UnbindBackward0>)]\n",
      "detokenized ['[CLS]', 'tell', 'you', '[SEP]']\n",
      "len conti_raw 4\n",
      "conti_raw ['[CLS]', 'tell', 'you', '[SEP]']\n"
     ]
    },
    {
     "data": {
      "text/html": [
       "<table width: 100%><div style=\"border-top: 1px solid; margin-top: 5px;             padding-top: 5px; display: inline-block\"><b>Legend: </b><span style=\"display: inline-block; width: 10px; height: 10px;                 border: 1px solid; background-color:                 hsl(0, 75%, 60%)\"></span> Negative  <span style=\"display: inline-block; width: 10px; height: 10px;                 border: 1px solid; background-color:                 hsl(0, 75%, 100%)\"></span> Neutral  <span style=\"display: inline-block; width: 10px; height: 10px;                 border: 1px solid; background-color:                 hsl(120, 75%, 50%)\"></span> Positive  </div><tr><th>True Label</th><th>Predicted Label</th><th>Attribution Label</th><th>Attribution Score</th><th>Word Importance</th><tr><td><text style=\"padding-right:2em\"><b>Pos</b></text></td><td><text style=\"padding-right:2em\"><b>Pos (0.90)</b></text></td><td><text style=\"padding-right:2em\"><b>Pos</b></text></td><td><text style=\"padding-right:2em\"><b>1.70</b></text></td><td><mark style=\"background-color: hsl(120, 75%, 84%); opacity:1.0;                     line-height:1.75\"><font color=\"black\"> [CLS]                    </font></mark><mark style=\"background-color: hsl(120, 75%, 92%); opacity:1.0;                     line-height:1.75\"><font color=\"black\"> tell                    </font></mark><mark style=\"background-color: hsl(120, 75%, 85%); opacity:1.0;                     line-height:1.75\"><font color=\"black\"> you                    </font></mark><mark style=\"background-color: hsl(120, 75%, 57%); opacity:1.0;                     line-height:1.75\"><font color=\"black\"> [SEP]                    </font></mark></td><tr></table>"
      ],
      "text/plain": [
       "<IPython.core.display.HTML object>"
      ]
     },
     "metadata": {},
     "output_type": "display_data"
    },
    {
     "name": "stdout",
     "output_type": "stream",
     "text": [
      "<IPython.core.display.HTML object>\n",
      "Raw review: utterly absorbing \n",
      "GT target: 1\n",
      "word attr tensor([ 0.2742, -0.0824,  0.0279,  0.9577], device='cuda:0',\n",
      "       dtype=torch.float64, grad_fn=<AsStridedBackward0>)\n",
      "conti attr [tensor(0.2742, device='cuda:0', dtype=torch.float64, grad_fn=<UnbindBackward0>), tensor(-0.0824, device='cuda:0', dtype=torch.float64,\n",
      "       grad_fn=<UnbindBackward0>), tensor(0.0279, device='cuda:0', dtype=torch.float64, grad_fn=<UnbindBackward0>), tensor(0.9577, device='cuda:0', dtype=torch.float64, grad_fn=<UnbindBackward0>)]\n",
      "detokenized ['[CLS]', 'utterly', 'absorbing', '[SEP]']\n",
      "len conti_raw 4\n",
      "conti_raw ['[CLS]', 'utterly', 'absorbing', '[SEP]']\n"
     ]
    },
    {
     "data": {
      "text/html": [
       "<table width: 100%><div style=\"border-top: 1px solid; margin-top: 5px;             padding-top: 5px; display: inline-block\"><b>Legend: </b><span style=\"display: inline-block; width: 10px; height: 10px;                 border: 1px solid; background-color:                 hsl(0, 75%, 60%)\"></span> Negative  <span style=\"display: inline-block; width: 10px; height: 10px;                 border: 1px solid; background-color:                 hsl(0, 75%, 100%)\"></span> Neutral  <span style=\"display: inline-block; width: 10px; height: 10px;                 border: 1px solid; background-color:                 hsl(120, 75%, 50%)\"></span> Positive  </div><tr><th>True Label</th><th>Predicted Label</th><th>Attribution Label</th><th>Attribution Score</th><th>Word Importance</th><tr><td><text style=\"padding-right:2em\"><b>Pos</b></text></td><td><text style=\"padding-right:2em\"><b>Pos (0.97)</b></text></td><td><text style=\"padding-right:2em\"><b>Pos</b></text></td><td><text style=\"padding-right:2em\"><b>1.18</b></text></td><td><mark style=\"background-color: hsl(120, 75%, 87%); opacity:1.0;                     line-height:1.75\"><font color=\"black\"> [CLS]                    </font></mark><mark style=\"background-color: hsl(0, 75%, 97%); opacity:1.0;                     line-height:1.75\"><font color=\"black\"> utterly                    </font></mark><mark style=\"background-color: hsl(120, 75%, 99%); opacity:1.0;                     line-height:1.75\"><font color=\"black\"> absorbing                    </font></mark><mark style=\"background-color: hsl(120, 75%, 53%); opacity:1.0;                     line-height:1.75\"><font color=\"black\"> [SEP]                    </font></mark></td><tr></table>"
      ],
      "text/plain": [
       "<IPython.core.display.HTML object>"
      ]
     },
     "metadata": {},
     "output_type": "display_data"
    },
    {
     "name": "stdout",
     "output_type": "stream",
     "text": [
      "<IPython.core.display.HTML object>\n",
      "Raw review: restate \n",
      "GT target: 0\n",
      "word attr tensor([-0.3994,  0.2639,  0.6568, -0.5826], device='cuda:0',\n",
      "       dtype=torch.float64, grad_fn=<AsStridedBackward0>)\n",
      "conti attr [tensor(-0.3994, device='cuda:0', dtype=torch.float64,\n",
      "       grad_fn=<UnbindBackward0>), tensor(0.4604, device='cuda:0', dtype=torch.float64, grad_fn=<DivBackward0>), tensor(-0.5826, device='cuda:0', dtype=torch.float64,\n",
      "       grad_fn=<UnbindBackward0>)]\n",
      "detokenized ['[CLS]', 'rest', 'ate', '[SEP]']\n",
      "len conti_raw 3\n",
      "conti_raw ['[CLS]', 'restate', '[SEP]']\n"
     ]
    },
    {
     "data": {
      "text/html": [
       "<table width: 100%><div style=\"border-top: 1px solid; margin-top: 5px;             padding-top: 5px; display: inline-block\"><b>Legend: </b><span style=\"display: inline-block; width: 10px; height: 10px;                 border: 1px solid; background-color:                 hsl(0, 75%, 60%)\"></span> Negative  <span style=\"display: inline-block; width: 10px; height: 10px;                 border: 1px solid; background-color:                 hsl(0, 75%, 100%)\"></span> Neutral  <span style=\"display: inline-block; width: 10px; height: 10px;                 border: 1px solid; background-color:                 hsl(120, 75%, 50%)\"></span> Positive  </div><tr><th>True Label</th><th>Predicted Label</th><th>Attribution Label</th><th>Attribution Score</th><th>Word Importance</th><tr><td><text style=\"padding-right:2em\"><b>Neg</b></text></td><td><text style=\"padding-right:2em\"><b>Pos (0.55)</b></text></td><td><text style=\"padding-right:2em\"><b>Neg</b></text></td><td><text style=\"padding-right:2em\"><b>-0.06</b></text></td><td><mark style=\"background-color: hsl(0, 75%, 85%); opacity:1.0;                     line-height:1.75\"><font color=\"black\"> [CLS]                    </font></mark><mark style=\"background-color: hsl(120, 75%, 77%); opacity:1.0;                     line-height:1.75\"><font color=\"black\"> restate                    </font></mark><mark style=\"background-color: hsl(0, 75%, 77%); opacity:1.0;                     line-height:1.75\"><font color=\"black\"> [SEP]                    </font></mark></td><tr></table>"
      ],
      "text/plain": [
       "<IPython.core.display.HTML object>"
      ]
     },
     "metadata": {},
     "output_type": "display_data"
    },
    {
     "name": "stdout",
     "output_type": "stream",
     "text": [
      "<IPython.core.display.HTML object>\n",
      "Raw review: bears about as much resemblance to the experiences of most battered women as spider-man \n",
      "GT target: 0\n",
      "word attr tensor([ 0.3826,  0.6314, -0.2883,  0.0069, -0.3112,  0.1599,  0.1487,  0.0725,\n",
      "         0.2688,  0.0007, -0.0093, -0.3357,  0.0315,  0.0220, -0.0298,  0.0874,\n",
      "        -0.0841, -0.1411], device='cuda:0', dtype=torch.float64,\n",
      "       grad_fn=<AsStridedBackward0>)\n",
      "conti attr [tensor(0.3826, device='cuda:0', dtype=torch.float64, grad_fn=<UnbindBackward0>), tensor(0.6314, device='cuda:0', dtype=torch.float64, grad_fn=<UnbindBackward0>), tensor(-0.2883, device='cuda:0', dtype=torch.float64,\n",
      "       grad_fn=<UnbindBackward0>), tensor(0.0069, device='cuda:0', dtype=torch.float64, grad_fn=<UnbindBackward0>), tensor(-0.3112, device='cuda:0', dtype=torch.float64,\n",
      "       grad_fn=<UnbindBackward0>), tensor(0.1599, device='cuda:0', dtype=torch.float64, grad_fn=<UnbindBackward0>), tensor(0.1487, device='cuda:0', dtype=torch.float64, grad_fn=<UnbindBackward0>), tensor(0.0725, device='cuda:0', dtype=torch.float64, grad_fn=<UnbindBackward0>), tensor(0.2688, device='cuda:0', dtype=torch.float64, grad_fn=<UnbindBackward0>), tensor(0.0007, device='cuda:0', dtype=torch.float64, grad_fn=<UnbindBackward0>), tensor(-0.0093, device='cuda:0', dtype=torch.float64,\n",
      "       grad_fn=<UnbindBackward0>), tensor(-0.3357, device='cuda:0', dtype=torch.float64,\n",
      "       grad_fn=<UnbindBackward0>), tensor(0.0315, device='cuda:0', dtype=torch.float64, grad_fn=<UnbindBackward0>), tensor(0.0220, device='cuda:0', dtype=torch.float64, grad_fn=<UnbindBackward0>), tensor(-0.0277, device='cuda:0', dtype=torch.float64, grad_fn=<DivBackward0>), tensor(-0.1411, device='cuda:0', dtype=torch.float64,\n",
      "       grad_fn=<UnbindBackward0>)]\n",
      "detokenized ['[CLS]', 'bears', 'about', 'as', 'much', 'resemblance', 'to', 'the', 'experiences', 'of', 'most', 'battered', 'women', 'as', 'spider', '-', 'man', '[SEP]']\n",
      "len conti_raw 16\n",
      "conti_raw ['[CLS]', 'bears', 'about', 'as', 'much', 'resemblance', 'to', 'the', 'experiences', 'of', 'most', 'battered', 'women', 'as', 'spider-man', '[SEP]']\n"
     ]
    },
    {
     "data": {
      "text/html": [
       "<table width: 100%><div style=\"border-top: 1px solid; margin-top: 5px;             padding-top: 5px; display: inline-block\"><b>Legend: </b><span style=\"display: inline-block; width: 10px; height: 10px;                 border: 1px solid; background-color:                 hsl(0, 75%, 60%)\"></span> Negative  <span style=\"display: inline-block; width: 10px; height: 10px;                 border: 1px solid; background-color:                 hsl(0, 75%, 100%)\"></span> Neutral  <span style=\"display: inline-block; width: 10px; height: 10px;                 border: 1px solid; background-color:                 hsl(120, 75%, 50%)\"></span> Positive  </div><tr><th>True Label</th><th>Predicted Label</th><th>Attribution Label</th><th>Attribution Score</th><th>Word Importance</th><tr><td><text style=\"padding-right:2em\"><b>Neg</b></text></td><td><text style=\"padding-right:2em\"><b>Pos (0.71)</b></text></td><td><text style=\"padding-right:2em\"><b>Pos</b></text></td><td><text style=\"padding-right:2em\"><b>0.61</b></text></td><td><mark style=\"background-color: hsl(120, 75%, 81%); opacity:1.0;                     line-height:1.75\"><font color=\"black\"> [CLS]                    </font></mark><mark style=\"background-color: hsl(120, 75%, 69%); opacity:1.0;                     line-height:1.75\"><font color=\"black\"> bears                    </font></mark><mark style=\"background-color: hsl(0, 75%, 89%); opacity:1.0;                     line-height:1.75\"><font color=\"black\"> about                    </font></mark><mark style=\"background-color: hsl(120, 75%, 100%); opacity:1.0;                     line-height:1.75\"><font color=\"black\"> as                    </font></mark><mark style=\"background-color: hsl(0, 75%, 88%); opacity:1.0;                     line-height:1.75\"><font color=\"black\"> much                    </font></mark><mark style=\"background-color: hsl(120, 75%, 93%); opacity:1.0;                     line-height:1.75\"><font color=\"black\"> resemblance                    </font></mark><mark style=\"background-color: hsl(120, 75%, 93%); opacity:1.0;                     line-height:1.75\"><font color=\"black\"> to                    </font></mark><mark style=\"background-color: hsl(120, 75%, 97%); opacity:1.0;                     line-height:1.75\"><font color=\"black\"> the                    </font></mark><mark style=\"background-color: hsl(120, 75%, 87%); opacity:1.0;                     line-height:1.75\"><font color=\"black\"> experiences                    </font></mark><mark style=\"background-color: hsl(120, 75%, 100%); opacity:1.0;                     line-height:1.75\"><font color=\"black\"> of                    </font></mark><mark style=\"background-color: hsl(0, 75%, 100%); opacity:1.0;                     line-height:1.75\"><font color=\"black\"> most                    </font></mark><mark style=\"background-color: hsl(0, 75%, 87%); opacity:1.0;                     line-height:1.75\"><font color=\"black\"> battered                    </font></mark><mark style=\"background-color: hsl(120, 75%, 99%); opacity:1.0;                     line-height:1.75\"><font color=\"black\"> women                    </font></mark><mark style=\"background-color: hsl(120, 75%, 99%); opacity:1.0;                     line-height:1.75\"><font color=\"black\"> as                    </font></mark><mark style=\"background-color: hsl(0, 75%, 99%); opacity:1.0;                     line-height:1.75\"><font color=\"black\"> spider-man                    </font></mark><mark style=\"background-color: hsl(0, 75%, 95%); opacity:1.0;                     line-height:1.75\"><font color=\"black\"> [SEP]                    </font></mark></td><tr></table>"
      ],
      "text/plain": [
       "<IPython.core.display.HTML object>"
      ]
     },
     "metadata": {},
     "output_type": "display_data"
    },
    {
     "name": "stdout",
     "output_type": "stream",
     "text": [
      "<IPython.core.display.HTML object>\n",
      "Raw review: expressively performed \n",
      "GT target: 1\n",
      "word attr tensor([ 0.7666, -0.1480,  0.1124, -0.0950,  0.6072], device='cuda:0',\n",
      "       dtype=torch.float64, grad_fn=<AsStridedBackward0>)\n",
      "conti attr [tensor(0.7666, device='cuda:0', dtype=torch.float64, grad_fn=<UnbindBackward0>), tensor(-0.0178, device='cuda:0', dtype=torch.float64, grad_fn=<DivBackward0>), tensor(-0.0950, device='cuda:0', dtype=torch.float64,\n",
      "       grad_fn=<UnbindBackward0>), tensor(0.6072, device='cuda:0', dtype=torch.float64, grad_fn=<UnbindBackward0>)]\n",
      "detokenized ['[CLS]', 'expressive', 'ly', 'performed', '[SEP]']\n",
      "len conti_raw 4\n",
      "conti_raw ['[CLS]', 'expressively', 'performed', '[SEP]']\n"
     ]
    },
    {
     "data": {
      "text/html": [
       "<table width: 100%><div style=\"border-top: 1px solid; margin-top: 5px;             padding-top: 5px; display: inline-block\"><b>Legend: </b><span style=\"display: inline-block; width: 10px; height: 10px;                 border: 1px solid; background-color:                 hsl(0, 75%, 60%)\"></span> Negative  <span style=\"display: inline-block; width: 10px; height: 10px;                 border: 1px solid; background-color:                 hsl(0, 75%, 100%)\"></span> Neutral  <span style=\"display: inline-block; width: 10px; height: 10px;                 border: 1px solid; background-color:                 hsl(120, 75%, 50%)\"></span> Positive  </div><tr><th>True Label</th><th>Predicted Label</th><th>Attribution Label</th><th>Attribution Score</th><th>Word Importance</th><tr><td><text style=\"padding-right:2em\"><b>Pos</b></text></td><td><text style=\"padding-right:2em\"><b>Pos (0.98)</b></text></td><td><text style=\"padding-right:2em\"><b>Pos</b></text></td><td><text style=\"padding-right:2em\"><b>1.24</b></text></td><td><mark style=\"background-color: hsl(120, 75%, 62%); opacity:1.0;                     line-height:1.75\"><font color=\"black\"> [CLS]                    </font></mark><mark style=\"background-color: hsl(0, 75%, 100%); opacity:1.0;                     line-height:1.75\"><font color=\"black\"> expressively                    </font></mark><mark style=\"background-color: hsl(0, 75%, 97%); opacity:1.0;                     line-height:1.75\"><font color=\"black\"> performed                    </font></mark><mark style=\"background-color: hsl(120, 75%, 70%); opacity:1.0;                     line-height:1.75\"><font color=\"black\"> [SEP]                    </font></mark></td><tr></table>"
      ],
      "text/plain": [
       "<IPython.core.display.HTML object>"
      ]
     },
     "metadata": {},
     "output_type": "display_data"
    },
    {
     "name": "stdout",
     "output_type": "stream",
     "text": [
      "<IPython.core.display.HTML object>\n",
      "Raw review: the acting is amateurish , the cinematography is atrocious \n",
      "GT target: 0\n",
      "word attr tensor([ 0.4831,  0.2300,  0.1086,  0.1805, -0.5936, -0.0168,  0.1648,  0.1632,\n",
      "        -0.1272,  0.0788, -0.1809, -0.3510, -0.0070,  0.2908], device='cuda:0',\n",
      "       dtype=torch.float64, grad_fn=<AsStridedBackward0>)\n",
      "conti attr [tensor(0.4831, device='cuda:0', dtype=torch.float64, grad_fn=<UnbindBackward0>), tensor(0.2300, device='cuda:0', dtype=torch.float64, grad_fn=<UnbindBackward0>), tensor(0.1086, device='cuda:0', dtype=torch.float64, grad_fn=<UnbindBackward0>), tensor(0.1805, device='cuda:0', dtype=torch.float64, grad_fn=<UnbindBackward0>), tensor(-0.3052, device='cuda:0', dtype=torch.float64, grad_fn=<DivBackward0>), tensor(0.1648, device='cuda:0', dtype=torch.float64, grad_fn=<UnbindBackward0>), tensor(0.1632, device='cuda:0', dtype=torch.float64, grad_fn=<UnbindBackward0>), tensor(-0.1272, device='cuda:0', dtype=torch.float64,\n",
      "       grad_fn=<UnbindBackward0>), tensor(0.0788, device='cuda:0', dtype=torch.float64, grad_fn=<UnbindBackward0>), tensor(-0.1365, device='cuda:0', dtype=torch.float64, grad_fn=<DivBackward0>), tensor(0.2908, device='cuda:0', dtype=torch.float64, grad_fn=<UnbindBackward0>)]\n",
      "detokenized ['[CLS]', 'the', 'acting', 'is', 'amateur', 'ish', ',', 'the', 'cinematography', 'is', 'at', 'ro', 'cious', '[SEP]']\n",
      "len conti_raw 11\n",
      "conti_raw ['[CLS]', 'the', 'acting', 'is', 'amateurish', ',', 'the', 'cinematography', 'is', 'atrocious', '[SEP]']\n"
     ]
    },
    {
     "data": {
      "text/html": [
       "<table width: 100%><div style=\"border-top: 1px solid; margin-top: 5px;             padding-top: 5px; display: inline-block\"><b>Legend: </b><span style=\"display: inline-block; width: 10px; height: 10px;                 border: 1px solid; background-color:                 hsl(0, 75%, 60%)\"></span> Negative  <span style=\"display: inline-block; width: 10px; height: 10px;                 border: 1px solid; background-color:                 hsl(0, 75%, 100%)\"></span> Neutral  <span style=\"display: inline-block; width: 10px; height: 10px;                 border: 1px solid; background-color:                 hsl(120, 75%, 50%)\"></span> Positive  </div><tr><th>True Label</th><th>Predicted Label</th><th>Attribution Label</th><th>Attribution Score</th><th>Word Importance</th><tr><td><text style=\"padding-right:2em\"><b>Neg</b></text></td><td><text style=\"padding-right:2em\"><b>Neg (0.03)</b></text></td><td><text style=\"padding-right:2em\"><b>Neg</b></text></td><td><text style=\"padding-right:2em\"><b>0.42</b></text></td><td><mark style=\"background-color: hsl(120, 75%, 76%); opacity:1.0;                     line-height:1.75\"><font color=\"black\"> [CLS]                    </font></mark><mark style=\"background-color: hsl(120, 75%, 89%); opacity:1.0;                     line-height:1.75\"><font color=\"black\"> the                    </font></mark><mark style=\"background-color: hsl(120, 75%, 95%); opacity:1.0;                     line-height:1.75\"><font color=\"black\"> acting                    </font></mark><mark style=\"background-color: hsl(120, 75%, 91%); opacity:1.0;                     line-height:1.75\"><font color=\"black\"> is                    </font></mark><mark style=\"background-color: hsl(0, 75%, 88%); opacity:1.0;                     line-height:1.75\"><font color=\"black\"> amateurish                    </font></mark><mark style=\"background-color: hsl(120, 75%, 92%); opacity:1.0;                     line-height:1.75\"><font color=\"black\"> ,                    </font></mark><mark style=\"background-color: hsl(120, 75%, 92%); opacity:1.0;                     line-height:1.75\"><font color=\"black\"> the                    </font></mark><mark style=\"background-color: hsl(0, 75%, 95%); opacity:1.0;                     line-height:1.75\"><font color=\"black\"> cinematography                    </font></mark><mark style=\"background-color: hsl(120, 75%, 97%); opacity:1.0;                     line-height:1.75\"><font color=\"black\"> is                    </font></mark><mark style=\"background-color: hsl(0, 75%, 95%); opacity:1.0;                     line-height:1.75\"><font color=\"black\"> atrocious                    </font></mark><mark style=\"background-color: hsl(120, 75%, 86%); opacity:1.0;                     line-height:1.75\"><font color=\"black\"> [SEP]                    </font></mark></td><tr></table>"
      ],
      "text/plain": [
       "<IPython.core.display.HTML object>"
      ]
     },
     "metadata": {},
     "output_type": "display_data"
    },
    {
     "name": "stdout",
     "output_type": "stream",
     "text": [
      "<IPython.core.display.HTML object>\n",
      "Raw review: solidly constructed \n",
      "GT target: 1\n",
      "word attr tensor([ 0.3112, -0.0379,  0.0189, -0.0376,  0.9486], device='cuda:0',\n",
      "       dtype=torch.float64, grad_fn=<AsStridedBackward0>)\n",
      "conti attr [tensor(0.3112, device='cuda:0', dtype=torch.float64, grad_fn=<UnbindBackward0>), tensor(-0.0095, device='cuda:0', dtype=torch.float64, grad_fn=<DivBackward0>), tensor(-0.0376, device='cuda:0', dtype=torch.float64,\n",
      "       grad_fn=<UnbindBackward0>), tensor(0.9486, device='cuda:0', dtype=torch.float64, grad_fn=<UnbindBackward0>)]\n",
      "detokenized ['[CLS]', 'solid', 'ly', 'constructed', '[SEP]']\n",
      "len conti_raw 4\n",
      "conti_raw ['[CLS]', 'solidly', 'constructed', '[SEP]']\n"
     ]
    },
    {
     "data": {
      "text/html": [
       "<table width: 100%><div style=\"border-top: 1px solid; margin-top: 5px;             padding-top: 5px; display: inline-block\"><b>Legend: </b><span style=\"display: inline-block; width: 10px; height: 10px;                 border: 1px solid; background-color:                 hsl(0, 75%, 60%)\"></span> Negative  <span style=\"display: inline-block; width: 10px; height: 10px;                 border: 1px solid; background-color:                 hsl(0, 75%, 100%)\"></span> Neutral  <span style=\"display: inline-block; width: 10px; height: 10px;                 border: 1px solid; background-color:                 hsl(120, 75%, 50%)\"></span> Positive  </div><tr><th>True Label</th><th>Predicted Label</th><th>Attribution Label</th><th>Attribution Score</th><th>Word Importance</th><tr><td><text style=\"padding-right:2em\"><b>Pos</b></text></td><td><text style=\"padding-right:2em\"><b>Pos (0.97)</b></text></td><td><text style=\"padding-right:2em\"><b>Pos</b></text></td><td><text style=\"padding-right:2em\"><b>1.20</b></text></td><td><mark style=\"background-color: hsl(120, 75%, 85%); opacity:1.0;                     line-height:1.75\"><font color=\"black\"> [CLS]                    </font></mark><mark style=\"background-color: hsl(0, 75%, 100%); opacity:1.0;                     line-height:1.75\"><font color=\"black\"> solidly                    </font></mark><mark style=\"background-color: hsl(0, 75%, 99%); opacity:1.0;                     line-height:1.75\"><font color=\"black\"> constructed                    </font></mark><mark style=\"background-color: hsl(120, 75%, 53%); opacity:1.0;                     line-height:1.75\"><font color=\"black\"> [SEP]                    </font></mark></td><tr></table>"
      ],
      "text/plain": [
       "<IPython.core.display.HTML object>"
      ]
     },
     "metadata": {},
     "output_type": "display_data"
    },
    {
     "name": "stdout",
     "output_type": "stream",
     "text": [
      "<IPython.core.display.HTML object>\n",
      "Raw review: are undermined by the movie 's presentation , which is way too stagy \n",
      "GT target: 0\n",
      "word attr tensor([-0.0212, -0.1034, -0.1403, -0.0462, -0.0379, -0.0451,  0.2194,  0.0610,\n",
      "         0.0825, -0.0578,  0.0573, -0.0773, -0.1803,  0.1137, -0.2962,  0.1141,\n",
      "        -0.0218, -0.0922, -0.8586], device='cuda:0', dtype=torch.float64,\n",
      "       grad_fn=<AsStridedBackward0>)\n",
      "conti attr [tensor(-0.0212, device='cuda:0', dtype=torch.float64,\n",
      "       grad_fn=<UnbindBackward0>), tensor(-0.1034, device='cuda:0', dtype=torch.float64,\n",
      "       grad_fn=<UnbindBackward0>), tensor(-0.0933, device='cuda:0', dtype=torch.float64, grad_fn=<DivBackward0>), tensor(-0.0379, device='cuda:0', dtype=torch.float64,\n",
      "       grad_fn=<UnbindBackward0>), tensor(-0.0451, device='cuda:0', dtype=torch.float64,\n",
      "       grad_fn=<UnbindBackward0>), tensor(0.2194, device='cuda:0', dtype=torch.float64, grad_fn=<UnbindBackward0>), tensor(0.0717, device='cuda:0', dtype=torch.float64, grad_fn=<DivBackward0>), tensor(-0.0578, device='cuda:0', dtype=torch.float64,\n",
      "       grad_fn=<UnbindBackward0>), tensor(0.0573, device='cuda:0', dtype=torch.float64, grad_fn=<UnbindBackward0>), tensor(-0.0773, device='cuda:0', dtype=torch.float64,\n",
      "       grad_fn=<UnbindBackward0>), tensor(-0.1803, device='cuda:0', dtype=torch.float64,\n",
      "       grad_fn=<UnbindBackward0>), tensor(0.1137, device='cuda:0', dtype=torch.float64, grad_fn=<UnbindBackward0>), tensor(-0.2962, device='cuda:0', dtype=torch.float64,\n",
      "       grad_fn=<UnbindBackward0>), tensor(-0.0230, device='cuda:0', dtype=torch.float64, grad_fn=<DivBackward0>), tensor(-0.8586, device='cuda:0', dtype=torch.float64,\n",
      "       grad_fn=<UnbindBackward0>)]\n",
      "detokenized ['[CLS]', 'are', 'undermine', 'd', 'by', 'the', 'movie', \"'\", 's', 'presentation', ',', 'which', 'is', 'way', 'too', 'st', 'ag', 'y', '[SEP]']\n",
      "len conti_raw 15\n",
      "conti_raw ['[CLS]', 'are', 'undermined', 'by', 'the', 'movie', \"'s\", 'presentation', ',', 'which', 'is', 'way', 'too', 'stagy', '[SEP]']\n"
     ]
    },
    {
     "data": {
      "text/html": [
       "<table width: 100%><div style=\"border-top: 1px solid; margin-top: 5px;             padding-top: 5px; display: inline-block\"><b>Legend: </b><span style=\"display: inline-block; width: 10px; height: 10px;                 border: 1px solid; background-color:                 hsl(0, 75%, 60%)\"></span> Negative  <span style=\"display: inline-block; width: 10px; height: 10px;                 border: 1px solid; background-color:                 hsl(0, 75%, 100%)\"></span> Neutral  <span style=\"display: inline-block; width: 10px; height: 10px;                 border: 1px solid; background-color:                 hsl(120, 75%, 50%)\"></span> Positive  </div><tr><th>True Label</th><th>Predicted Label</th><th>Attribution Label</th><th>Attribution Score</th><th>Word Importance</th><tr><td><text style=\"padding-right:2em\"><b>Neg</b></text></td><td><text style=\"padding-right:2em\"><b>Neg (0.04)</b></text></td><td><text style=\"padding-right:2em\"><b>Neg</b></text></td><td><text style=\"padding-right:2em\"><b>-1.33</b></text></td><td><mark style=\"background-color: hsl(0, 75%, 100%); opacity:1.0;                     line-height:1.75\"><font color=\"black\"> [CLS]                    </font></mark><mark style=\"background-color: hsl(0, 75%, 96%); opacity:1.0;                     line-height:1.75\"><font color=\"black\"> are                    </font></mark><mark style=\"background-color: hsl(0, 75%, 97%); opacity:1.0;                     line-height:1.75\"><font color=\"black\"> undermined                    </font></mark><mark style=\"background-color: hsl(0, 75%, 99%); opacity:1.0;                     line-height:1.75\"><font color=\"black\"> by                    </font></mark><mark style=\"background-color: hsl(0, 75%, 99%); opacity:1.0;                     line-height:1.75\"><font color=\"black\"> the                    </font></mark><mark style=\"background-color: hsl(120, 75%, 90%); opacity:1.0;                     line-height:1.75\"><font color=\"black\"> movie                    </font></mark><mark style=\"background-color: hsl(120, 75%, 97%); opacity:1.0;                     line-height:1.75\"><font color=\"black\"> 's                    </font></mark><mark style=\"background-color: hsl(0, 75%, 98%); opacity:1.0;                     line-height:1.75\"><font color=\"black\"> presentation                    </font></mark><mark style=\"background-color: hsl(120, 75%, 98%); opacity:1.0;                     line-height:1.75\"><font color=\"black\"> ,                    </font></mark><mark style=\"background-color: hsl(0, 75%, 97%); opacity:1.0;                     line-height:1.75\"><font color=\"black\"> which                    </font></mark><mark style=\"background-color: hsl(0, 75%, 93%); opacity:1.0;                     line-height:1.75\"><font color=\"black\"> is                    </font></mark><mark style=\"background-color: hsl(120, 75%, 95%); opacity:1.0;                     line-height:1.75\"><font color=\"black\"> way                    </font></mark><mark style=\"background-color: hsl(0, 75%, 89%); opacity:1.0;                     line-height:1.75\"><font color=\"black\"> too                    </font></mark><mark style=\"background-color: hsl(0, 75%, 100%); opacity:1.0;                     line-height:1.75\"><font color=\"black\"> stagy                    </font></mark><mark style=\"background-color: hsl(0, 75%, 66%); opacity:1.0;                     line-height:1.75\"><font color=\"black\"> [SEP]                    </font></mark></td><tr></table>"
      ],
      "text/plain": [
       "<IPython.core.display.HTML object>"
      ]
     },
     "metadata": {},
     "output_type": "display_data"
    },
    {
     "name": "stdout",
     "output_type": "stream",
     "text": [
      "<IPython.core.display.HTML object>\n",
      "Raw review: a great film \n",
      "GT target: 1\n",
      "word attr tensor([ 0.1874,  0.0940,  0.0211, -0.0250,  0.9772], device='cuda:0',\n",
      "       dtype=torch.float64, grad_fn=<AsStridedBackward0>)\n",
      "conti attr [tensor(0.1874, device='cuda:0', dtype=torch.float64, grad_fn=<UnbindBackward0>), tensor(0.0940, device='cuda:0', dtype=torch.float64, grad_fn=<UnbindBackward0>), tensor(0.0211, device='cuda:0', dtype=torch.float64, grad_fn=<UnbindBackward0>), tensor(-0.0250, device='cuda:0', dtype=torch.float64,\n",
      "       grad_fn=<UnbindBackward0>), tensor(0.9772, device='cuda:0', dtype=torch.float64, grad_fn=<UnbindBackward0>)]\n",
      "detokenized ['[CLS]', 'a', 'great', 'film', '[SEP]']\n",
      "len conti_raw 5\n",
      "conti_raw ['[CLS]', 'a', 'great', 'film', '[SEP]']\n"
     ]
    },
    {
     "data": {
      "text/html": [
       "<table width: 100%><div style=\"border-top: 1px solid; margin-top: 5px;             padding-top: 5px; display: inline-block\"><b>Legend: </b><span style=\"display: inline-block; width: 10px; height: 10px;                 border: 1px solid; background-color:                 hsl(0, 75%, 60%)\"></span> Negative  <span style=\"display: inline-block; width: 10px; height: 10px;                 border: 1px solid; background-color:                 hsl(0, 75%, 100%)\"></span> Neutral  <span style=\"display: inline-block; width: 10px; height: 10px;                 border: 1px solid; background-color:                 hsl(120, 75%, 50%)\"></span> Positive  </div><tr><th>True Label</th><th>Predicted Label</th><th>Attribution Label</th><th>Attribution Score</th><th>Word Importance</th><tr><td><text style=\"padding-right:2em\"><b>Pos</b></text></td><td><text style=\"padding-right:2em\"><b>Pos (0.97)</b></text></td><td><text style=\"padding-right:2em\"><b>Pos</b></text></td><td><text style=\"padding-right:2em\"><b>1.25</b></text></td><td><mark style=\"background-color: hsl(120, 75%, 91%); opacity:1.0;                     line-height:1.75\"><font color=\"black\"> [CLS]                    </font></mark><mark style=\"background-color: hsl(120, 75%, 96%); opacity:1.0;                     line-height:1.75\"><font color=\"black\"> a                    </font></mark><mark style=\"background-color: hsl(120, 75%, 99%); opacity:1.0;                     line-height:1.75\"><font color=\"black\"> great                    </font></mark><mark style=\"background-color: hsl(0, 75%, 99%); opacity:1.0;                     line-height:1.75\"><font color=\"black\"> film                    </font></mark><mark style=\"background-color: hsl(120, 75%, 52%); opacity:1.0;                     line-height:1.75\"><font color=\"black\"> [SEP]                    </font></mark></td><tr></table>"
      ],
      "text/plain": [
       "<IPython.core.display.HTML object>"
      ]
     },
     "metadata": {},
     "output_type": "display_data"
    },
    {
     "name": "stdout",
     "output_type": "stream",
     "text": [
      "<IPython.core.display.HTML object>\n",
      "Raw review: charm \n",
      "GT target: 1\n",
      "word attr tensor([ 0.3677, -0.0564,  0.9282], device='cuda:0', dtype=torch.float64,\n",
      "       grad_fn=<AsStridedBackward0>)\n",
      "conti attr [tensor(0.3677, device='cuda:0', dtype=torch.float64, grad_fn=<UnbindBackward0>), tensor(-0.0564, device='cuda:0', dtype=torch.float64,\n",
      "       grad_fn=<UnbindBackward0>), tensor(0.9282, device='cuda:0', dtype=torch.float64, grad_fn=<UnbindBackward0>)]\n",
      "detokenized ['[CLS]', 'charm', '[SEP]']\n",
      "len conti_raw 3\n",
      "conti_raw ['[CLS]', 'charm', '[SEP]']\n"
     ]
    },
    {
     "data": {
      "text/html": [
       "<table width: 100%><div style=\"border-top: 1px solid; margin-top: 5px;             padding-top: 5px; display: inline-block\"><b>Legend: </b><span style=\"display: inline-block; width: 10px; height: 10px;                 border: 1px solid; background-color:                 hsl(0, 75%, 60%)\"></span> Negative  <span style=\"display: inline-block; width: 10px; height: 10px;                 border: 1px solid; background-color:                 hsl(0, 75%, 100%)\"></span> Neutral  <span style=\"display: inline-block; width: 10px; height: 10px;                 border: 1px solid; background-color:                 hsl(120, 75%, 50%)\"></span> Positive  </div><tr><th>True Label</th><th>Predicted Label</th><th>Attribution Label</th><th>Attribution Score</th><th>Word Importance</th><tr><td><text style=\"padding-right:2em\"><b>Pos</b></text></td><td><text style=\"padding-right:2em\"><b>Pos (0.97)</b></text></td><td><text style=\"padding-right:2em\"><b>Pos</b></text></td><td><text style=\"padding-right:2em\"><b>1.24</b></text></td><td><mark style=\"background-color: hsl(120, 75%, 82%); opacity:1.0;                     line-height:1.75\"><font color=\"black\"> [CLS]                    </font></mark><mark style=\"background-color: hsl(0, 75%, 98%); opacity:1.0;                     line-height:1.75\"><font color=\"black\"> charm                    </font></mark><mark style=\"background-color: hsl(120, 75%, 54%); opacity:1.0;                     line-height:1.75\"><font color=\"black\"> [SEP]                    </font></mark></td><tr></table>"
      ],
      "text/plain": [
       "<IPython.core.display.HTML object>"
      ]
     },
     "metadata": {},
     "output_type": "display_data"
    },
    {
     "name": "stdout",
     "output_type": "stream",
     "text": [
      "<IPython.core.display.HTML object>\n",
      "Raw review: this new jangle of noise , mayhem and stupidity \n",
      "GT target: 0\n",
      "word attr tensor([ 0.1343,  0.1244,  0.1487,  0.0836,  0.0425,  0.0603, -0.1613,  0.1527,\n",
      "         0.0905,  0.1747, -0.9109, -0.1190], device='cuda:0',\n",
      "       dtype=torch.float64, grad_fn=<AsStridedBackward0>)\n",
      "conti attr [tensor(0.1343, device='cuda:0', dtype=torch.float64, grad_fn=<UnbindBackward0>), tensor(0.1244, device='cuda:0', dtype=torch.float64, grad_fn=<UnbindBackward0>), tensor(0.1487, device='cuda:0', dtype=torch.float64, grad_fn=<UnbindBackward0>), tensor(0.0630, device='cuda:0', dtype=torch.float64, grad_fn=<DivBackward0>), tensor(0.0603, device='cuda:0', dtype=torch.float64, grad_fn=<UnbindBackward0>), tensor(-0.1613, device='cuda:0', dtype=torch.float64,\n",
      "       grad_fn=<UnbindBackward0>), tensor(0.1527, device='cuda:0', dtype=torch.float64, grad_fn=<UnbindBackward0>), tensor(0.0905, device='cuda:0', dtype=torch.float64, grad_fn=<UnbindBackward0>), tensor(0.1747, device='cuda:0', dtype=torch.float64, grad_fn=<UnbindBackward0>), tensor(-0.9109, device='cuda:0', dtype=torch.float64,\n",
      "       grad_fn=<UnbindBackward0>), tensor(-0.1190, device='cuda:0', dtype=torch.float64,\n",
      "       grad_fn=<UnbindBackward0>)]\n",
      "detokenized ['[CLS]', 'this', 'new', 'jang', 'le', 'of', 'noise', ',', 'mayhem', 'and', 'stupidity', '[SEP]']\n",
      "len conti_raw 11\n",
      "conti_raw ['[CLS]', 'this', 'new', 'jangle', 'of', 'noise', ',', 'mayhem', 'and', 'stupidity', '[SEP]']\n"
     ]
    },
    {
     "data": {
      "text/html": [
       "<table width: 100%><div style=\"border-top: 1px solid; margin-top: 5px;             padding-top: 5px; display: inline-block\"><b>Legend: </b><span style=\"display: inline-block; width: 10px; height: 10px;                 border: 1px solid; background-color:                 hsl(0, 75%, 60%)\"></span> Negative  <span style=\"display: inline-block; width: 10px; height: 10px;                 border: 1px solid; background-color:                 hsl(0, 75%, 100%)\"></span> Neutral  <span style=\"display: inline-block; width: 10px; height: 10px;                 border: 1px solid; background-color:                 hsl(120, 75%, 50%)\"></span> Positive  </div><tr><th>True Label</th><th>Predicted Label</th><th>Attribution Label</th><th>Attribution Score</th><th>Word Importance</th><tr><td><text style=\"padding-right:2em\"><b>Neg</b></text></td><td><text style=\"padding-right:2em\"><b>Neg (0.09)</b></text></td><td><text style=\"padding-right:2em\"><b>Neg</b></text></td><td><text style=\"padding-right:2em\"><b>-0.18</b></text></td><td><mark style=\"background-color: hsl(120, 75%, 94%); opacity:1.0;                     line-height:1.75\"><font color=\"black\"> [CLS]                    </font></mark><mark style=\"background-color: hsl(120, 75%, 94%); opacity:1.0;                     line-height:1.75\"><font color=\"black\"> this                    </font></mark><mark style=\"background-color: hsl(120, 75%, 93%); opacity:1.0;                     line-height:1.75\"><font color=\"black\"> new                    </font></mark><mark style=\"background-color: hsl(120, 75%, 97%); opacity:1.0;                     line-height:1.75\"><font color=\"black\"> jangle                    </font></mark><mark style=\"background-color: hsl(120, 75%, 97%); opacity:1.0;                     line-height:1.75\"><font color=\"black\"> of                    </font></mark><mark style=\"background-color: hsl(0, 75%, 94%); opacity:1.0;                     line-height:1.75\"><font color=\"black\"> noise                    </font></mark><mark style=\"background-color: hsl(120, 75%, 93%); opacity:1.0;                     line-height:1.75\"><font color=\"black\"> ,                    </font></mark><mark style=\"background-color: hsl(120, 75%, 96%); opacity:1.0;                     line-height:1.75\"><font color=\"black\"> mayhem                    </font></mark><mark style=\"background-color: hsl(120, 75%, 92%); opacity:1.0;                     line-height:1.75\"><font color=\"black\"> and                    </font></mark><mark style=\"background-color: hsl(0, 75%, 64%); opacity:1.0;                     line-height:1.75\"><font color=\"black\"> stupidity                    </font></mark><mark style=\"background-color: hsl(0, 75%, 96%); opacity:1.0;                     line-height:1.75\"><font color=\"black\"> [SEP]                    </font></mark></td><tr></table>"
      ],
      "text/plain": [
       "<IPython.core.display.HTML object>"
      ]
     },
     "metadata": {},
     "output_type": "display_data"
    },
    {
     "name": "stdout",
     "output_type": "stream",
     "text": [
      "<IPython.core.display.HTML object>\n",
      "Raw review: sustains it \n",
      "GT target: 1\n",
      "word attr tensor([ 0.4900,  0.8359,  0.1040, -0.2097, -0.0794], device='cuda:0',\n",
      "       dtype=torch.float64, grad_fn=<AsStridedBackward0>)\n",
      "conti attr [tensor(0.4900, device='cuda:0', dtype=torch.float64, grad_fn=<UnbindBackward0>), tensor(0.4700, device='cuda:0', dtype=torch.float64, grad_fn=<DivBackward0>), tensor(-0.2097, device='cuda:0', dtype=torch.float64,\n",
      "       grad_fn=<UnbindBackward0>), tensor(-0.0794, device='cuda:0', dtype=torch.float64,\n",
      "       grad_fn=<UnbindBackward0>)]\n",
      "detokenized ['[CLS]', 'sustain', 's', 'it', '[SEP]']\n",
      "len conti_raw 4\n",
      "conti_raw ['[CLS]', 'sustains', 'it', '[SEP]']\n"
     ]
    },
    {
     "data": {
      "text/html": [
       "<table width: 100%><div style=\"border-top: 1px solid; margin-top: 5px;             padding-top: 5px; display: inline-block\"><b>Legend: </b><span style=\"display: inline-block; width: 10px; height: 10px;                 border: 1px solid; background-color:                 hsl(0, 75%, 60%)\"></span> Negative  <span style=\"display: inline-block; width: 10px; height: 10px;                 border: 1px solid; background-color:                 hsl(0, 75%, 100%)\"></span> Neutral  <span style=\"display: inline-block; width: 10px; height: 10px;                 border: 1px solid; background-color:                 hsl(120, 75%, 50%)\"></span> Positive  </div><tr><th>True Label</th><th>Predicted Label</th><th>Attribution Label</th><th>Attribution Score</th><th>Word Importance</th><tr><td><text style=\"padding-right:2em\"><b>Pos</b></text></td><td><text style=\"padding-right:2em\"><b>Pos (0.97)</b></text></td><td><text style=\"padding-right:2em\"><b>Pos</b></text></td><td><text style=\"padding-right:2em\"><b>1.14</b></text></td><td><mark style=\"background-color: hsl(120, 75%, 76%); opacity:1.0;                     line-height:1.75\"><font color=\"black\"> [CLS]                    </font></mark><mark style=\"background-color: hsl(120, 75%, 77%); opacity:1.0;                     line-height:1.75\"><font color=\"black\"> sustains                    </font></mark><mark style=\"background-color: hsl(0, 75%, 92%); opacity:1.0;                     line-height:1.75\"><font color=\"black\"> it                    </font></mark><mark style=\"background-color: hsl(0, 75%, 97%); opacity:1.0;                     line-height:1.75\"><font color=\"black\"> [SEP]                    </font></mark></td><tr></table>"
      ],
      "text/plain": [
       "<IPython.core.display.HTML object>"
      ]
     },
     "metadata": {},
     "output_type": "display_data"
    },
    {
     "name": "stdout",
     "output_type": "stream",
     "text": [
      "<IPython.core.display.HTML object>\n",
      "Raw review: is so deadly dull that watching the proverbial paint dry would be a welcome improvement . \n",
      "GT target: 0\n",
      "word attr tensor([-0.2408,  0.1329,  0.2220,  0.4080, -0.3632,  0.2509, -0.2098,  0.1113,\n",
      "         0.3993,  0.0738, -0.2750, -0.0786, -0.1358, -0.0427, -0.1069,  0.1143,\n",
      "         0.1352,  0.0508,  0.1010, -0.3672], device='cuda:0',\n",
      "       dtype=torch.float64, grad_fn=<AsStridedBackward0>)\n",
      "conti attr [tensor(-0.2408, device='cuda:0', dtype=torch.float64,\n",
      "       grad_fn=<UnbindBackward0>), tensor(0.1329, device='cuda:0', dtype=torch.float64, grad_fn=<UnbindBackward0>), tensor(0.2220, device='cuda:0', dtype=torch.float64, grad_fn=<UnbindBackward0>), tensor(0.4080, device='cuda:0', dtype=torch.float64, grad_fn=<UnbindBackward0>), tensor(-0.3632, device='cuda:0', dtype=torch.float64,\n",
      "       grad_fn=<UnbindBackward0>), tensor(0.2509, device='cuda:0', dtype=torch.float64, grad_fn=<UnbindBackward0>), tensor(-0.2098, device='cuda:0', dtype=torch.float64,\n",
      "       grad_fn=<UnbindBackward0>), tensor(0.1113, device='cuda:0', dtype=torch.float64, grad_fn=<UnbindBackward0>), tensor(-0.0192, device='cuda:0', dtype=torch.float64, grad_fn=<DivBackward0>), tensor(-0.0786, device='cuda:0', dtype=torch.float64,\n",
      "       grad_fn=<UnbindBackward0>), tensor(-0.1358, device='cuda:0', dtype=torch.float64,\n",
      "       grad_fn=<UnbindBackward0>), tensor(-0.0427, device='cuda:0', dtype=torch.float64,\n",
      "       grad_fn=<UnbindBackward0>), tensor(-0.1069, device='cuda:0', dtype=torch.float64,\n",
      "       grad_fn=<UnbindBackward0>), tensor(0.1143, device='cuda:0', dtype=torch.float64, grad_fn=<UnbindBackward0>), tensor(0.1352, device='cuda:0', dtype=torch.float64, grad_fn=<UnbindBackward0>), tensor(0.0508, device='cuda:0', dtype=torch.float64, grad_fn=<UnbindBackward0>), tensor(0.1010, device='cuda:0', dtype=torch.float64, grad_fn=<UnbindBackward0>), tensor(-0.3672, device='cuda:0', dtype=torch.float64,\n",
      "       grad_fn=<UnbindBackward0>)]\n",
      "detokenized ['[CLS]', 'is', 'so', 'deadly', 'dull', 'that', 'watching', 'the', 'prove', 'rb', 'ial', 'paint', 'dry', 'would', 'be', 'a', 'welcome', 'improvement', '.', '[SEP]']\n",
      "len conti_raw 18\n",
      "conti_raw ['[CLS]', 'is', 'so', 'deadly', 'dull', 'that', 'watching', 'the', 'proverbial', 'paint', 'dry', 'would', 'be', 'a', 'welcome', 'improvement', '.', '[SEP]']\n"
     ]
    },
    {
     "data": {
      "text/html": [
       "<table width: 100%><div style=\"border-top: 1px solid; margin-top: 5px;             padding-top: 5px; display: inline-block\"><b>Legend: </b><span style=\"display: inline-block; width: 10px; height: 10px;                 border: 1px solid; background-color:                 hsl(0, 75%, 60%)\"></span> Negative  <span style=\"display: inline-block; width: 10px; height: 10px;                 border: 1px solid; background-color:                 hsl(0, 75%, 100%)\"></span> Neutral  <span style=\"display: inline-block; width: 10px; height: 10px;                 border: 1px solid; background-color:                 hsl(120, 75%, 50%)\"></span> Positive  </div><tr><th>True Label</th><th>Predicted Label</th><th>Attribution Label</th><th>Attribution Score</th><th>Word Importance</th><tr><td><text style=\"padding-right:2em\"><b>Neg</b></text></td><td><text style=\"padding-right:2em\"><b>Neg (0.42)</b></text></td><td><text style=\"padding-right:2em\"><b>Neg</b></text></td><td><text style=\"padding-right:2em\"><b>0.18</b></text></td><td><mark style=\"background-color: hsl(0, 75%, 91%); opacity:1.0;                     line-height:1.75\"><font color=\"black\"> [CLS]                    </font></mark><mark style=\"background-color: hsl(120, 75%, 94%); opacity:1.0;                     line-height:1.75\"><font color=\"black\"> is                    </font></mark><mark style=\"background-color: hsl(120, 75%, 89%); opacity:1.0;                     line-height:1.75\"><font color=\"black\"> so                    </font></mark><mark style=\"background-color: hsl(120, 75%, 80%); opacity:1.0;                     line-height:1.75\"><font color=\"black\"> deadly                    </font></mark><mark style=\"background-color: hsl(0, 75%, 86%); opacity:1.0;                     line-height:1.75\"><font color=\"black\"> dull                    </font></mark><mark style=\"background-color: hsl(120, 75%, 88%); opacity:1.0;                     line-height:1.75\"><font color=\"black\"> that                    </font></mark><mark style=\"background-color: hsl(0, 75%, 92%); opacity:1.0;                     line-height:1.75\"><font color=\"black\"> watching                    </font></mark><mark style=\"background-color: hsl(120, 75%, 95%); opacity:1.0;                     line-height:1.75\"><font color=\"black\"> the                    </font></mark><mark style=\"background-color: hsl(0, 75%, 100%); opacity:1.0;                     line-height:1.75\"><font color=\"black\"> proverbial                    </font></mark><mark style=\"background-color: hsl(0, 75%, 97%); opacity:1.0;                     line-height:1.75\"><font color=\"black\"> paint                    </font></mark><mark style=\"background-color: hsl(0, 75%, 95%); opacity:1.0;                     line-height:1.75\"><font color=\"black\"> dry                    </font></mark><mark style=\"background-color: hsl(0, 75%, 99%); opacity:1.0;                     line-height:1.75\"><font color=\"black\"> would                    </font></mark><mark style=\"background-color: hsl(0, 75%, 96%); opacity:1.0;                     line-height:1.75\"><font color=\"black\"> be                    </font></mark><mark style=\"background-color: hsl(120, 75%, 95%); opacity:1.0;                     line-height:1.75\"><font color=\"black\"> a                    </font></mark><mark style=\"background-color: hsl(120, 75%, 94%); opacity:1.0;                     line-height:1.75\"><font color=\"black\"> welcome                    </font></mark><mark style=\"background-color: hsl(120, 75%, 98%); opacity:1.0;                     line-height:1.75\"><font color=\"black\"> improvement                    </font></mark><mark style=\"background-color: hsl(120, 75%, 95%); opacity:1.0;                     line-height:1.75\"><font color=\"black\"> .                    </font></mark><mark style=\"background-color: hsl(0, 75%, 86%); opacity:1.0;                     line-height:1.75\"><font color=\"black\"> [SEP]                    </font></mark></td><tr></table>"
      ],
      "text/plain": [
       "<IPython.core.display.HTML object>"
      ]
     },
     "metadata": {},
     "output_type": "display_data"
    },
    {
     "name": "stdout",
     "output_type": "stream",
     "text": [
      "<IPython.core.display.HTML object>\n",
      "Raw review: to accomplish \n",
      "GT target: 1\n",
      "word attr tensor([0.5372, 0.3516, 0.1511, 0.7516], device='cuda:0', dtype=torch.float64,\n",
      "       grad_fn=<AsStridedBackward0>)\n",
      "conti attr [tensor(0.5372, device='cuda:0', dtype=torch.float64, grad_fn=<UnbindBackward0>), tensor(0.3516, device='cuda:0', dtype=torch.float64, grad_fn=<UnbindBackward0>), tensor(0.1511, device='cuda:0', dtype=torch.float64, grad_fn=<UnbindBackward0>), tensor(0.7516, device='cuda:0', dtype=torch.float64, grad_fn=<UnbindBackward0>)]\n",
      "detokenized ['[CLS]', 'to', 'accomplish', '[SEP]']\n",
      "len conti_raw 4\n",
      "conti_raw ['[CLS]', 'to', 'accomplish', '[SEP]']\n"
     ]
    },
    {
     "data": {
      "text/html": [
       "<table width: 100%><div style=\"border-top: 1px solid; margin-top: 5px;             padding-top: 5px; display: inline-block\"><b>Legend: </b><span style=\"display: inline-block; width: 10px; height: 10px;                 border: 1px solid; background-color:                 hsl(0, 75%, 60%)\"></span> Negative  <span style=\"display: inline-block; width: 10px; height: 10px;                 border: 1px solid; background-color:                 hsl(0, 75%, 100%)\"></span> Neutral  <span style=\"display: inline-block; width: 10px; height: 10px;                 border: 1px solid; background-color:                 hsl(120, 75%, 50%)\"></span> Positive  </div><tr><th>True Label</th><th>Predicted Label</th><th>Attribution Label</th><th>Attribution Score</th><th>Word Importance</th><tr><td><text style=\"padding-right:2em\"><b>Pos</b></text></td><td><text style=\"padding-right:2em\"><b>Pos (0.97)</b></text></td><td><text style=\"padding-right:2em\"><b>Pos</b></text></td><td><text style=\"padding-right:2em\"><b>1.79</b></text></td><td><mark style=\"background-color: hsl(120, 75%, 74%); opacity:1.0;                     line-height:1.75\"><font color=\"black\"> [CLS]                    </font></mark><mark style=\"background-color: hsl(120, 75%, 83%); opacity:1.0;                     line-height:1.75\"><font color=\"black\"> to                    </font></mark><mark style=\"background-color: hsl(120, 75%, 93%); opacity:1.0;                     line-height:1.75\"><font color=\"black\"> accomplish                    </font></mark><mark style=\"background-color: hsl(120, 75%, 63%); opacity:1.0;                     line-height:1.75\"><font color=\"black\"> [SEP]                    </font></mark></td><tr></table>"
      ],
      "text/plain": [
       "<IPython.core.display.HTML object>"
      ]
     },
     "metadata": {},
     "output_type": "display_data"
    },
    {
     "name": "stdout",
     "output_type": "stream",
     "text": [
      "<IPython.core.display.HTML object>\n",
      "Raw review: does n't work . \n",
      "GT target: 0\n",
      "word attr tensor([-0.1362, -0.2999,  0.1886,  0.1118, -0.6606,  0.0687, -0.0473,  0.6326],\n",
      "       device='cuda:0', dtype=torch.float64, grad_fn=<AsStridedBackward0>)\n",
      "conti attr [tensor(-0.1362, device='cuda:0', dtype=torch.float64,\n",
      "       grad_fn=<UnbindBackward0>), tensor(-0.2999, device='cuda:0', dtype=torch.float64,\n",
      "       grad_fn=<UnbindBackward0>), tensor(-0.2552, device='cuda:0', dtype=torch.float64, grad_fn=<DivBackward0>), tensor(0.0687, device='cuda:0', dtype=torch.float64, grad_fn=<UnbindBackward0>), tensor(-0.0473, device='cuda:0', dtype=torch.float64,\n",
      "       grad_fn=<UnbindBackward0>), tensor(0.6326, device='cuda:0', dtype=torch.float64, grad_fn=<UnbindBackward0>)]\n",
      "detokenized ['[CLS]', 'does', 'n', \"'\", 't', 'work', '.', '[SEP]']\n",
      "len conti_raw 6\n",
      "conti_raw ['[CLS]', 'does', \"n't\", 'work', '.', '[SEP]']\n"
     ]
    },
    {
     "data": {
      "text/html": [
       "<table width: 100%><div style=\"border-top: 1px solid; margin-top: 5px;             padding-top: 5px; display: inline-block\"><b>Legend: </b><span style=\"display: inline-block; width: 10px; height: 10px;                 border: 1px solid; background-color:                 hsl(0, 75%, 60%)\"></span> Negative  <span style=\"display: inline-block; width: 10px; height: 10px;                 border: 1px solid; background-color:                 hsl(0, 75%, 100%)\"></span> Neutral  <span style=\"display: inline-block; width: 10px; height: 10px;                 border: 1px solid; background-color:                 hsl(120, 75%, 50%)\"></span> Positive  </div><tr><th>True Label</th><th>Predicted Label</th><th>Attribution Label</th><th>Attribution Score</th><th>Word Importance</th><tr><td><text style=\"padding-right:2em\"><b>Neg</b></text></td><td><text style=\"padding-right:2em\"><b>Neg (0.04)</b></text></td><td><text style=\"padding-right:2em\"><b>Neg</b></text></td><td><text style=\"padding-right:2em\"><b>-0.14</b></text></td><td><mark style=\"background-color: hsl(0, 75%, 95%); opacity:1.0;                     line-height:1.75\"><font color=\"black\"> [CLS]                    </font></mark><mark style=\"background-color: hsl(0, 75%, 89%); opacity:1.0;                     line-height:1.75\"><font color=\"black\"> does                    </font></mark><mark style=\"background-color: hsl(0, 75%, 90%); opacity:1.0;                     line-height:1.75\"><font color=\"black\"> n't                    </font></mark><mark style=\"background-color: hsl(120, 75%, 97%); opacity:1.0;                     line-height:1.75\"><font color=\"black\"> work                    </font></mark><mark style=\"background-color: hsl(0, 75%, 99%); opacity:1.0;                     line-height:1.75\"><font color=\"black\"> .                    </font></mark><mark style=\"background-color: hsl(120, 75%, 69%); opacity:1.0;                     line-height:1.75\"><font color=\"black\"> [SEP]                    </font></mark></td><tr></table>"
      ],
      "text/plain": [
       "<IPython.core.display.HTML object>"
      ]
     },
     "metadata": {},
     "output_type": "display_data"
    },
    {
     "name": "stdout",
     "output_type": "stream",
     "text": [
      "<IPython.core.display.HTML object>\n",
      "Raw review: given it a one-star rating \n",
      "GT target: 0\n",
      "word attr tensor([ 0.7221, -0.0560,  0.2548,  0.2355, -0.2326,  0.0995, -0.0486, -0.5328,\n",
      "         0.0689], device='cuda:0', dtype=torch.float64,\n",
      "       grad_fn=<AsStridedBackward0>)\n",
      "conti attr [tensor(0.7221, device='cuda:0', dtype=torch.float64, grad_fn=<UnbindBackward0>), tensor(-0.0560, device='cuda:0', dtype=torch.float64,\n",
      "       grad_fn=<UnbindBackward0>), tensor(0.2548, device='cuda:0', dtype=torch.float64, grad_fn=<UnbindBackward0>), tensor(0.2355, device='cuda:0', dtype=torch.float64, grad_fn=<UnbindBackward0>), tensor(-0.0576, device='cuda:0', dtype=torch.float64, grad_fn=<DivBackward0>), tensor(-0.5328, device='cuda:0', dtype=torch.float64,\n",
      "       grad_fn=<UnbindBackward0>), tensor(0.0689, device='cuda:0', dtype=torch.float64, grad_fn=<UnbindBackward0>)]\n",
      "detokenized ['[CLS]', 'given', 'it', 'a', 'one', '-', 'star', 'rating', '[SEP]']\n",
      "len conti_raw 7\n",
      "conti_raw ['[CLS]', 'given', 'it', 'a', 'one-star', 'rating', '[SEP]']\n"
     ]
    },
    {
     "data": {
      "text/html": [
       "<table width: 100%><div style=\"border-top: 1px solid; margin-top: 5px;             padding-top: 5px; display: inline-block\"><b>Legend: </b><span style=\"display: inline-block; width: 10px; height: 10px;                 border: 1px solid; background-color:                 hsl(0, 75%, 60%)\"></span> Negative  <span style=\"display: inline-block; width: 10px; height: 10px;                 border: 1px solid; background-color:                 hsl(0, 75%, 100%)\"></span> Neutral  <span style=\"display: inline-block; width: 10px; height: 10px;                 border: 1px solid; background-color:                 hsl(120, 75%, 50%)\"></span> Positive  </div><tr><th>True Label</th><th>Predicted Label</th><th>Attribution Label</th><th>Attribution Score</th><th>Word Importance</th><tr><td><text style=\"padding-right:2em\"><b>Neg</b></text></td><td><text style=\"padding-right:2em\"><b>Pos (0.73)</b></text></td><td><text style=\"padding-right:2em\"><b>Pos</b></text></td><td><text style=\"padding-right:2em\"><b>0.51</b></text></td><td><mark style=\"background-color: hsl(120, 75%, 64%); opacity:1.0;                     line-height:1.75\"><font color=\"black\"> [CLS]                    </font></mark><mark style=\"background-color: hsl(0, 75%, 98%); opacity:1.0;                     line-height:1.75\"><font color=\"black\"> given                    </font></mark><mark style=\"background-color: hsl(120, 75%, 88%); opacity:1.0;                     line-height:1.75\"><font color=\"black\"> it                    </font></mark><mark style=\"background-color: hsl(120, 75%, 89%); opacity:1.0;                     line-height:1.75\"><font color=\"black\"> a                    </font></mark><mark style=\"background-color: hsl(0, 75%, 98%); opacity:1.0;                     line-height:1.75\"><font color=\"black\"> one-star                    </font></mark><mark style=\"background-color: hsl(0, 75%, 79%); opacity:1.0;                     line-height:1.75\"><font color=\"black\"> rating                    </font></mark><mark style=\"background-color: hsl(120, 75%, 97%); opacity:1.0;                     line-height:1.75\"><font color=\"black\"> [SEP]                    </font></mark></td><tr></table>"
      ],
      "text/plain": [
       "<IPython.core.display.HTML object>"
      ]
     },
     "metadata": {},
     "output_type": "display_data"
    },
    {
     "name": "stdout",
     "output_type": "stream",
     "text": [
      "<IPython.core.display.HTML object>\n",
      "Raw review: ice cube is n't quite out of ripe screwball ideas , but friday after next spreads them pretty thin \n",
      "GT target: 0\n",
      "word attr tensor([-0.0357,  0.2175,  0.1745, -0.3560,  0.0885,  0.1717, -0.0560, -0.1744,\n",
      "         0.1135, -0.2194, -0.0250, -0.0941, -0.0430,  0.0024, -0.0783, -0.3074,\n",
      "         0.3163, -0.0751,  0.1182, -0.3005,  0.1941,  0.0991,  0.0139, -0.5411],\n",
      "       device='cuda:0', dtype=torch.float64, grad_fn=<AsStridedBackward0>)\n",
      "conti attr [tensor(-0.0357, device='cuda:0', dtype=torch.float64,\n",
      "       grad_fn=<UnbindBackward0>), tensor(0.2175, device='cuda:0', dtype=torch.float64, grad_fn=<UnbindBackward0>), tensor(0.1745, device='cuda:0', dtype=torch.float64, grad_fn=<UnbindBackward0>), tensor(-0.3560, device='cuda:0', dtype=torch.float64,\n",
      "       grad_fn=<UnbindBackward0>), tensor(0.0371, device='cuda:0', dtype=torch.float64, grad_fn=<DivBackward0>), tensor(-0.1744, device='cuda:0', dtype=torch.float64,\n",
      "       grad_fn=<UnbindBackward0>), tensor(0.1135, device='cuda:0', dtype=torch.float64, grad_fn=<UnbindBackward0>), tensor(-0.2194, device='cuda:0', dtype=torch.float64,\n",
      "       grad_fn=<UnbindBackward0>), tensor(-0.0250, device='cuda:0', dtype=torch.float64,\n",
      "       grad_fn=<UnbindBackward0>), tensor(-0.0685, device='cuda:0', dtype=torch.float64, grad_fn=<DivBackward0>), tensor(0.0024, device='cuda:0', dtype=torch.float64, grad_fn=<UnbindBackward0>), tensor(-0.0783, device='cuda:0', dtype=torch.float64,\n",
      "       grad_fn=<UnbindBackward0>), tensor(-0.3074, device='cuda:0', dtype=torch.float64,\n",
      "       grad_fn=<UnbindBackward0>), tensor(0.3163, device='cuda:0', dtype=torch.float64, grad_fn=<UnbindBackward0>), tensor(-0.0751, device='cuda:0', dtype=torch.float64,\n",
      "       grad_fn=<UnbindBackward0>), tensor(0.1182, device='cuda:0', dtype=torch.float64, grad_fn=<UnbindBackward0>), tensor(-0.3005, device='cuda:0', dtype=torch.float64,\n",
      "       grad_fn=<UnbindBackward0>), tensor(0.1941, device='cuda:0', dtype=torch.float64, grad_fn=<UnbindBackward0>), tensor(0.0991, device='cuda:0', dtype=torch.float64, grad_fn=<UnbindBackward0>), tensor(0.0139, device='cuda:0', dtype=torch.float64, grad_fn=<UnbindBackward0>), tensor(-0.5411, device='cuda:0', dtype=torch.float64,\n",
      "       grad_fn=<UnbindBackward0>)]\n",
      "detokenized ['[CLS]', 'ice', 'cube', 'is', 'n', \"'\", 't', 'quite', 'out', 'of', 'ripe', 'screw', 'ball', 'ideas', ',', 'but', 'friday', 'after', 'next', 'spreads', 'them', 'pretty', 'thin', '[SEP]']\n",
      "len conti_raw 21\n",
      "conti_raw ['[CLS]', 'ice', 'cube', 'is', \"n't\", 'quite', 'out', 'of', 'ripe', 'screwball', 'ideas', ',', 'but', 'friday', 'after', 'next', 'spreads', 'them', 'pretty', 'thin', '[SEP]']\n"
     ]
    },
    {
     "data": {
      "text/html": [
       "<table width: 100%><div style=\"border-top: 1px solid; margin-top: 5px;             padding-top: 5px; display: inline-block\"><b>Legend: </b><span style=\"display: inline-block; width: 10px; height: 10px;                 border: 1px solid; background-color:                 hsl(0, 75%, 60%)\"></span> Negative  <span style=\"display: inline-block; width: 10px; height: 10px;                 border: 1px solid; background-color:                 hsl(0, 75%, 100%)\"></span> Neutral  <span style=\"display: inline-block; width: 10px; height: 10px;                 border: 1px solid; background-color:                 hsl(120, 75%, 50%)\"></span> Positive  </div><tr><th>True Label</th><th>Predicted Label</th><th>Attribution Label</th><th>Attribution Score</th><th>Word Importance</th><tr><td><text style=\"padding-right:2em\"><b>Neg</b></text></td><td><text style=\"padding-right:2em\"><b>Neg (0.04)</b></text></td><td><text style=\"padding-right:2em\"><b>Neg</b></text></td><td><text style=\"padding-right:2em\"><b>-0.80</b></text></td><td><mark style=\"background-color: hsl(0, 75%, 99%); opacity:1.0;                     line-height:1.75\"><font color=\"black\"> [CLS]                    </font></mark><mark style=\"background-color: hsl(120, 75%, 90%); opacity:1.0;                     line-height:1.75\"><font color=\"black\"> ice                    </font></mark><mark style=\"background-color: hsl(120, 75%, 92%); opacity:1.0;                     line-height:1.75\"><font color=\"black\"> cube                    </font></mark><mark style=\"background-color: hsl(0, 75%, 86%); opacity:1.0;                     line-height:1.75\"><font color=\"black\"> is                    </font></mark><mark style=\"background-color: hsl(120, 75%, 99%); opacity:1.0;                     line-height:1.75\"><font color=\"black\"> n't                    </font></mark><mark style=\"background-color: hsl(0, 75%, 94%); opacity:1.0;                     line-height:1.75\"><font color=\"black\"> quite                    </font></mark><mark style=\"background-color: hsl(120, 75%, 95%); opacity:1.0;                     line-height:1.75\"><font color=\"black\"> out                    </font></mark><mark style=\"background-color: hsl(0, 75%, 92%); opacity:1.0;                     line-height:1.75\"><font color=\"black\"> of                    </font></mark><mark style=\"background-color: hsl(0, 75%, 100%); opacity:1.0;                     line-height:1.75\"><font color=\"black\"> ripe                    </font></mark><mark style=\"background-color: hsl(0, 75%, 98%); opacity:1.0;                     line-height:1.75\"><font color=\"black\"> screwball                    </font></mark><mark style=\"background-color: hsl(120, 75%, 100%); opacity:1.0;                     line-height:1.75\"><font color=\"black\"> ideas                    </font></mark><mark style=\"background-color: hsl(0, 75%, 97%); opacity:1.0;                     line-height:1.75\"><font color=\"black\"> ,                    </font></mark><mark style=\"background-color: hsl(0, 75%, 88%); opacity:1.0;                     line-height:1.75\"><font color=\"black\"> but                    </font></mark><mark style=\"background-color: hsl(120, 75%, 85%); opacity:1.0;                     line-height:1.75\"><font color=\"black\"> friday                    </font></mark><mark style=\"background-color: hsl(0, 75%, 97%); opacity:1.0;                     line-height:1.75\"><font color=\"black\"> after                    </font></mark><mark style=\"background-color: hsl(120, 75%, 95%); opacity:1.0;                     line-height:1.75\"><font color=\"black\"> next                    </font></mark><mark style=\"background-color: hsl(0, 75%, 88%); opacity:1.0;                     line-height:1.75\"><font color=\"black\"> spreads                    </font></mark><mark style=\"background-color: hsl(120, 75%, 91%); opacity:1.0;                     line-height:1.75\"><font color=\"black\"> them                    </font></mark><mark style=\"background-color: hsl(120, 75%, 96%); opacity:1.0;                     line-height:1.75\"><font color=\"black\"> pretty                    </font></mark><mark style=\"background-color: hsl(120, 75%, 100%); opacity:1.0;                     line-height:1.75\"><font color=\"black\"> thin                    </font></mark><mark style=\"background-color: hsl(0, 75%, 79%); opacity:1.0;                     line-height:1.75\"><font color=\"black\"> [SEP]                    </font></mark></td><tr></table>"
      ],
      "text/plain": [
       "<IPython.core.display.HTML object>"
      ]
     },
     "metadata": {},
     "output_type": "display_data"
    },
    {
     "name": "stdout",
     "output_type": "stream",
     "text": [
      "<IPython.core.display.HTML object>\n",
      "Raw review: been trying to forget \n",
      "GT target: 0\n",
      "word attr tensor([ 0.3256, -0.2528, -0.2513, -0.1002, -0.5202,  0.6973], device='cuda:0',\n",
      "       dtype=torch.float64, grad_fn=<AsStridedBackward0>)\n",
      "conti attr [tensor(0.3256, device='cuda:0', dtype=torch.float64, grad_fn=<UnbindBackward0>), tensor(-0.2528, device='cuda:0', dtype=torch.float64,\n",
      "       grad_fn=<UnbindBackward0>), tensor(-0.2513, device='cuda:0', dtype=torch.float64,\n",
      "       grad_fn=<UnbindBackward0>), tensor(-0.1002, device='cuda:0', dtype=torch.float64,\n",
      "       grad_fn=<UnbindBackward0>), tensor(-0.5202, device='cuda:0', dtype=torch.float64,\n",
      "       grad_fn=<UnbindBackward0>), tensor(0.6973, device='cuda:0', dtype=torch.float64, grad_fn=<UnbindBackward0>)]\n",
      "detokenized ['[CLS]', 'been', 'trying', 'to', 'forget', '[SEP]']\n",
      "len conti_raw 6\n",
      "conti_raw ['[CLS]', 'been', 'trying', 'to', 'forget', '[SEP]']\n"
     ]
    },
    {
     "data": {
      "text/html": [
       "<table width: 100%><div style=\"border-top: 1px solid; margin-top: 5px;             padding-top: 5px; display: inline-block\"><b>Legend: </b><span style=\"display: inline-block; width: 10px; height: 10px;                 border: 1px solid; background-color:                 hsl(0, 75%, 60%)\"></span> Negative  <span style=\"display: inline-block; width: 10px; height: 10px;                 border: 1px solid; background-color:                 hsl(0, 75%, 100%)\"></span> Neutral  <span style=\"display: inline-block; width: 10px; height: 10px;                 border: 1px solid; background-color:                 hsl(120, 75%, 50%)\"></span> Positive  </div><tr><th>True Label</th><th>Predicted Label</th><th>Attribution Label</th><th>Attribution Score</th><th>Word Importance</th><tr><td><text style=\"padding-right:2em\"><b>Neg</b></text></td><td><text style=\"padding-right:2em\"><b>Neg (0.07)</b></text></td><td><text style=\"padding-right:2em\"><b>Neg</b></text></td><td><text style=\"padding-right:2em\"><b>-0.10</b></text></td><td><mark style=\"background-color: hsl(120, 75%, 84%); opacity:1.0;                     line-height:1.75\"><font color=\"black\"> [CLS]                    </font></mark><mark style=\"background-color: hsl(0, 75%, 90%); opacity:1.0;                     line-height:1.75\"><font color=\"black\"> been                    </font></mark><mark style=\"background-color: hsl(0, 75%, 90%); opacity:1.0;                     line-height:1.75\"><font color=\"black\"> trying                    </font></mark><mark style=\"background-color: hsl(0, 75%, 96%); opacity:1.0;                     line-height:1.75\"><font color=\"black\"> to                    </font></mark><mark style=\"background-color: hsl(0, 75%, 80%); opacity:1.0;                     line-height:1.75\"><font color=\"black\"> forget                    </font></mark><mark style=\"background-color: hsl(120, 75%, 66%); opacity:1.0;                     line-height:1.75\"><font color=\"black\"> [SEP]                    </font></mark></td><tr></table>"
      ],
      "text/plain": [
       "<IPython.core.display.HTML object>"
      ]
     },
     "metadata": {},
     "output_type": "display_data"
    },
    {
     "name": "stdout",
     "output_type": "stream",
     "text": [
      "<IPython.core.display.HTML object>\n",
      "Raw review: big stars and \n",
      "GT target: 1\n",
      "word attr tensor([0.1903, 0.0729, 0.0629, 0.1398, 0.9669], device='cuda:0',\n",
      "       dtype=torch.float64, grad_fn=<AsStridedBackward0>)\n",
      "conti attr [tensor(0.1903, device='cuda:0', dtype=torch.float64, grad_fn=<UnbindBackward0>), tensor(0.0729, device='cuda:0', dtype=torch.float64, grad_fn=<UnbindBackward0>), tensor(0.0629, device='cuda:0', dtype=torch.float64, grad_fn=<UnbindBackward0>), tensor(0.1398, device='cuda:0', dtype=torch.float64, grad_fn=<UnbindBackward0>), tensor(0.9669, device='cuda:0', dtype=torch.float64, grad_fn=<UnbindBackward0>)]\n",
      "detokenized ['[CLS]', 'big', 'stars', 'and', '[SEP]']\n",
      "len conti_raw 5\n",
      "conti_raw ['[CLS]', 'big', 'stars', 'and', '[SEP]']\n"
     ]
    },
    {
     "data": {
      "text/html": [
       "<table width: 100%><div style=\"border-top: 1px solid; margin-top: 5px;             padding-top: 5px; display: inline-block\"><b>Legend: </b><span style=\"display: inline-block; width: 10px; height: 10px;                 border: 1px solid; background-color:                 hsl(0, 75%, 60%)\"></span> Negative  <span style=\"display: inline-block; width: 10px; height: 10px;                 border: 1px solid; background-color:                 hsl(0, 75%, 100%)\"></span> Neutral  <span style=\"display: inline-block; width: 10px; height: 10px;                 border: 1px solid; background-color:                 hsl(120, 75%, 50%)\"></span> Positive  </div><tr><th>True Label</th><th>Predicted Label</th><th>Attribution Label</th><th>Attribution Score</th><th>Word Importance</th><tr><td><text style=\"padding-right:2em\"><b>Pos</b></text></td><td><text style=\"padding-right:2em\"><b>Pos (0.97)</b></text></td><td><text style=\"padding-right:2em\"><b>Pos</b></text></td><td><text style=\"padding-right:2em\"><b>1.43</b></text></td><td><mark style=\"background-color: hsl(120, 75%, 91%); opacity:1.0;                     line-height:1.75\"><font color=\"black\"> [CLS]                    </font></mark><mark style=\"background-color: hsl(120, 75%, 97%); opacity:1.0;                     line-height:1.75\"><font color=\"black\"> big                    </font></mark><mark style=\"background-color: hsl(120, 75%, 97%); opacity:1.0;                     line-height:1.75\"><font color=\"black\"> stars                    </font></mark><mark style=\"background-color: hsl(120, 75%, 94%); opacity:1.0;                     line-height:1.75\"><font color=\"black\"> and                    </font></mark><mark style=\"background-color: hsl(120, 75%, 52%); opacity:1.0;                     line-height:1.75\"><font color=\"black\"> [SEP]                    </font></mark></td><tr></table>"
      ],
      "text/plain": [
       "<IPython.core.display.HTML object>"
      ]
     },
     "metadata": {},
     "output_type": "display_data"
    },
    {
     "name": "stdout",
     "output_type": "stream",
     "text": [
      "<IPython.core.display.HTML object>\n",
      "Raw review: of cheesy dialogue \n",
      "GT target: 0\n",
      "word attr tensor([ 0.5172,  0.1263, -0.2048, -0.4751, -0.4831,  0.0621,  0.4601],\n",
      "       device='cuda:0', dtype=torch.float64, grad_fn=<AsStridedBackward0>)\n",
      "conti attr [tensor(0.5172, device='cuda:0', dtype=torch.float64, grad_fn=<UnbindBackward0>), tensor(0.1263, device='cuda:0', dtype=torch.float64, grad_fn=<UnbindBackward0>), tensor(-0.4115, device='cuda:0', dtype=torch.float64, grad_fn=<DivBackward0>), tensor(0.0621, device='cuda:0', dtype=torch.float64, grad_fn=<UnbindBackward0>), tensor(0.4601, device='cuda:0', dtype=torch.float64, grad_fn=<UnbindBackward0>)]\n",
      "detokenized ['[CLS]', 'of', 'che', 'es', 'y', 'dialogue', '[SEP]']\n",
      "len conti_raw 5\n",
      "conti_raw ['[CLS]', 'of', 'cheesy', 'dialogue', '[SEP]']\n"
     ]
    },
    {
     "data": {
      "text/html": [
       "<table width: 100%><div style=\"border-top: 1px solid; margin-top: 5px;             padding-top: 5px; display: inline-block\"><b>Legend: </b><span style=\"display: inline-block; width: 10px; height: 10px;                 border: 1px solid; background-color:                 hsl(0, 75%, 60%)\"></span> Negative  <span style=\"display: inline-block; width: 10px; height: 10px;                 border: 1px solid; background-color:                 hsl(0, 75%, 100%)\"></span> Neutral  <span style=\"display: inline-block; width: 10px; height: 10px;                 border: 1px solid; background-color:                 hsl(120, 75%, 50%)\"></span> Positive  </div><tr><th>True Label</th><th>Predicted Label</th><th>Attribution Label</th><th>Attribution Score</th><th>Word Importance</th><tr><td><text style=\"padding-right:2em\"><b>Neg</b></text></td><td><text style=\"padding-right:2em\"><b>Neg (0.02)</b></text></td><td><text style=\"padding-right:2em\"><b>Neg</b></text></td><td><text style=\"padding-right:2em\"><b>0.00</b></text></td><td><mark style=\"background-color: hsl(120, 75%, 75%); opacity:1.0;                     line-height:1.75\"><font color=\"black\"> [CLS]                    </font></mark><mark style=\"background-color: hsl(120, 75%, 94%); opacity:1.0;                     line-height:1.75\"><font color=\"black\"> of                    </font></mark><mark style=\"background-color: hsl(0, 75%, 84%); opacity:1.0;                     line-height:1.75\"><font color=\"black\"> cheesy                    </font></mark><mark style=\"background-color: hsl(120, 75%, 97%); opacity:1.0;                     line-height:1.75\"><font color=\"black\"> dialogue                    </font></mark><mark style=\"background-color: hsl(120, 75%, 77%); opacity:1.0;                     line-height:1.75\"><font color=\"black\"> [SEP]                    </font></mark></td><tr></table>"
      ],
      "text/plain": [
       "<IPython.core.display.HTML object>"
      ]
     },
     "metadata": {},
     "output_type": "display_data"
    },
    {
     "name": "stdout",
     "output_type": "stream",
     "text": [
      "<IPython.core.display.HTML object>\n",
      "Raw review: the château is never quite able to overcome the cultural moat surrounding its ludicrous and contrived plot . ' \n",
      "GT target: 0\n",
      "word attr tensor([ 0.3441, -0.0124, -0.0704,  0.1877, -0.2217,  0.0387,  0.1901,  0.1812,\n",
      "        -0.0874, -0.0541, -0.1649, -0.0712,  0.2805,  0.0652, -0.1366,  0.0805,\n",
      "        -0.0340,  0.1885, -0.0820, -0.1753,  0.1844, -0.3006,  0.0337, -0.1598,\n",
      "        -0.5879], device='cuda:0', dtype=torch.float64,\n",
      "       grad_fn=<AsStridedBackward0>)\n",
      "conti attr [tensor(0.3441, device='cuda:0', dtype=torch.float64, grad_fn=<UnbindBackward0>), tensor(-0.0124, device='cuda:0', dtype=torch.float64,\n",
      "       grad_fn=<UnbindBackward0>), tensor(-0.0704, device='cuda:0', dtype=torch.float64,\n",
      "       grad_fn=<UnbindBackward0>), tensor(0.1877, device='cuda:0', dtype=torch.float64, grad_fn=<UnbindBackward0>), tensor(-0.2217, device='cuda:0', dtype=torch.float64,\n",
      "       grad_fn=<UnbindBackward0>), tensor(0.0387, device='cuda:0', dtype=torch.float64, grad_fn=<UnbindBackward0>), tensor(0.1901, device='cuda:0', dtype=torch.float64, grad_fn=<UnbindBackward0>), tensor(0.1812, device='cuda:0', dtype=torch.float64, grad_fn=<UnbindBackward0>), tensor(-0.0874, device='cuda:0', dtype=torch.float64,\n",
      "       grad_fn=<UnbindBackward0>), tensor(-0.0541, device='cuda:0', dtype=torch.float64,\n",
      "       grad_fn=<UnbindBackward0>), tensor(-0.1649, device='cuda:0', dtype=torch.float64,\n",
      "       grad_fn=<UnbindBackward0>), tensor(-0.0712, device='cuda:0', dtype=torch.float64,\n",
      "       grad_fn=<UnbindBackward0>), tensor(0.2805, device='cuda:0', dtype=torch.float64, grad_fn=<UnbindBackward0>), tensor(0.0652, device='cuda:0', dtype=torch.float64, grad_fn=<UnbindBackward0>), tensor(-0.0310, device='cuda:0', dtype=torch.float64, grad_fn=<DivBackward0>), tensor(0.1885, device='cuda:0', dtype=torch.float64, grad_fn=<UnbindBackward0>), tensor(0.0279, device='cuda:0', dtype=torch.float64, grad_fn=<DivBackward0>), tensor(-0.3006, device='cuda:0', dtype=torch.float64,\n",
      "       grad_fn=<UnbindBackward0>), tensor(0.0337, device='cuda:0', dtype=torch.float64, grad_fn=<UnbindBackward0>), tensor(-0.1598, device='cuda:0', dtype=torch.float64,\n",
      "       grad_fn=<UnbindBackward0>), tensor(-0.5879, device='cuda:0', dtype=torch.float64,\n",
      "       grad_fn=<UnbindBackward0>)]\n",
      "detokenized ['[CLS]', 'the', 'chateau', 'is', 'never', 'quite', 'able', 'to', 'overcome', 'the', 'cultural', 'moat', 'surrounding', 'its', 'lu', 'dic', 'rous', 'and', 'con', 'tri', 'ved', 'plot', '.', \"'\", '[SEP]']\n",
      "len conti_raw 21\n",
      "conti_raw ['[CLS]', 'the', 'chateau', 'is', 'never', 'quite', 'able', 'to', 'overcome', 'the', 'cultural', 'moat', 'surrounding', 'its', 'ludicrous', 'and', 'contrived', 'plot', '.', \"'\", '[SEP]']\n"
     ]
    },
    {
     "data": {
      "text/html": [
       "<table width: 100%><div style=\"border-top: 1px solid; margin-top: 5px;             padding-top: 5px; display: inline-block\"><b>Legend: </b><span style=\"display: inline-block; width: 10px; height: 10px;                 border: 1px solid; background-color:                 hsl(0, 75%, 60%)\"></span> Negative  <span style=\"display: inline-block; width: 10px; height: 10px;                 border: 1px solid; background-color:                 hsl(0, 75%, 100%)\"></span> Neutral  <span style=\"display: inline-block; width: 10px; height: 10px;                 border: 1px solid; background-color:                 hsl(120, 75%, 50%)\"></span> Positive  </div><tr><th>True Label</th><th>Predicted Label</th><th>Attribution Label</th><th>Attribution Score</th><th>Word Importance</th><tr><td><text style=\"padding-right:2em\"><b>Neg</b></text></td><td><text style=\"padding-right:2em\"><b>Neg (0.06)</b></text></td><td><text style=\"padding-right:2em\"><b>Neg</b></text></td><td><text style=\"padding-right:2em\"><b>-0.38</b></text></td><td><mark style=\"background-color: hsl(120, 75%, 83%); opacity:1.0;                     line-height:1.75\"><font color=\"black\"> [CLS]                    </font></mark><mark style=\"background-color: hsl(0, 75%, 100%); opacity:1.0;                     line-height:1.75\"><font color=\"black\"> the                    </font></mark><mark style=\"background-color: hsl(0, 75%, 98%); opacity:1.0;                     line-height:1.75\"><font color=\"black\"> chateau                    </font></mark><mark style=\"background-color: hsl(120, 75%, 91%); opacity:1.0;                     line-height:1.75\"><font color=\"black\"> is                    </font></mark><mark style=\"background-color: hsl(0, 75%, 92%); opacity:1.0;                     line-height:1.75\"><font color=\"black\"> never                    </font></mark><mark style=\"background-color: hsl(120, 75%, 99%); opacity:1.0;                     line-height:1.75\"><font color=\"black\"> quite                    </font></mark><mark style=\"background-color: hsl(120, 75%, 91%); opacity:1.0;                     line-height:1.75\"><font color=\"black\"> able                    </font></mark><mark style=\"background-color: hsl(120, 75%, 91%); opacity:1.0;                     line-height:1.75\"><font color=\"black\"> to                    </font></mark><mark style=\"background-color: hsl(0, 75%, 97%); opacity:1.0;                     line-height:1.75\"><font color=\"black\"> overcome                    </font></mark><mark style=\"background-color: hsl(0, 75%, 98%); opacity:1.0;                     line-height:1.75\"><font color=\"black\"> the                    </font></mark><mark style=\"background-color: hsl(0, 75%, 94%); opacity:1.0;                     line-height:1.75\"><font color=\"black\"> cultural                    </font></mark><mark style=\"background-color: hsl(0, 75%, 98%); opacity:1.0;                     line-height:1.75\"><font color=\"black\"> moat                    </font></mark><mark style=\"background-color: hsl(120, 75%, 86%); opacity:1.0;                     line-height:1.75\"><font color=\"black\"> surrounding                    </font></mark><mark style=\"background-color: hsl(120, 75%, 97%); opacity:1.0;                     line-height:1.75\"><font color=\"black\"> its                    </font></mark><mark style=\"background-color: hsl(0, 75%, 99%); opacity:1.0;                     line-height:1.75\"><font color=\"black\"> ludicrous                    </font></mark><mark style=\"background-color: hsl(120, 75%, 91%); opacity:1.0;                     line-height:1.75\"><font color=\"black\"> and                    </font></mark><mark style=\"background-color: hsl(120, 75%, 99%); opacity:1.0;                     line-height:1.75\"><font color=\"black\"> contrived                    </font></mark><mark style=\"background-color: hsl(0, 75%, 88%); opacity:1.0;                     line-height:1.75\"><font color=\"black\"> plot                    </font></mark><mark style=\"background-color: hsl(120, 75%, 99%); opacity:1.0;                     line-height:1.75\"><font color=\"black\"> .                    </font></mark><mark style=\"background-color: hsl(0, 75%, 94%); opacity:1.0;                     line-height:1.75\"><font color=\"black\"> '                    </font></mark><mark style=\"background-color: hsl(0, 75%, 77%); opacity:1.0;                     line-height:1.75\"><font color=\"black\"> [SEP]                    </font></mark></td><tr></table>"
      ],
      "text/plain": [
       "<IPython.core.display.HTML object>"
      ]
     },
     "metadata": {},
     "output_type": "display_data"
    },
    {
     "name": "stdout",
     "output_type": "stream",
     "text": [
      "<IPython.core.display.HTML object>\n",
      "Raw review: principled \n",
      "GT target: 1\n",
      "word attr tensor([ 0.3661,  0.5579, -0.0683,  0.7416], device='cuda:0',\n",
      "       dtype=torch.float64, grad_fn=<AsStridedBackward0>)\n",
      "conti attr [tensor(0.3661, device='cuda:0', dtype=torch.float64, grad_fn=<UnbindBackward0>), tensor(0.2448, device='cuda:0', dtype=torch.float64, grad_fn=<DivBackward0>), tensor(0.7416, device='cuda:0', dtype=torch.float64, grad_fn=<UnbindBackward0>)]\n",
      "detokenized ['[CLS]', 'principle', 'd', '[SEP]']\n",
      "len conti_raw 3\n",
      "conti_raw ['[CLS]', 'principled', '[SEP]']\n"
     ]
    },
    {
     "data": {
      "text/html": [
       "<table width: 100%><div style=\"border-top: 1px solid; margin-top: 5px;             padding-top: 5px; display: inline-block\"><b>Legend: </b><span style=\"display: inline-block; width: 10px; height: 10px;                 border: 1px solid; background-color:                 hsl(0, 75%, 60%)\"></span> Negative  <span style=\"display: inline-block; width: 10px; height: 10px;                 border: 1px solid; background-color:                 hsl(0, 75%, 100%)\"></span> Neutral  <span style=\"display: inline-block; width: 10px; height: 10px;                 border: 1px solid; background-color:                 hsl(120, 75%, 50%)\"></span> Positive  </div><tr><th>True Label</th><th>Predicted Label</th><th>Attribution Label</th><th>Attribution Score</th><th>Word Importance</th><tr><td><text style=\"padding-right:2em\"><b>Pos</b></text></td><td><text style=\"padding-right:2em\"><b>Pos (0.97)</b></text></td><td><text style=\"padding-right:2em\"><b>Pos</b></text></td><td><text style=\"padding-right:2em\"><b>1.60</b></text></td><td><mark style=\"background-color: hsl(120, 75%, 82%); opacity:1.0;                     line-height:1.75\"><font color=\"black\"> [CLS]                    </font></mark><mark style=\"background-color: hsl(120, 75%, 88%); opacity:1.0;                     line-height:1.75\"><font color=\"black\"> principled                    </font></mark><mark style=\"background-color: hsl(120, 75%, 63%); opacity:1.0;                     line-height:1.75\"><font color=\"black\"> [SEP]                    </font></mark></td><tr></table>"
      ],
      "text/plain": [
       "<IPython.core.display.HTML object>"
      ]
     },
     "metadata": {},
     "output_type": "display_data"
    },
    {
     "name": "stdout",
     "output_type": "stream",
     "text": [
      "<IPython.core.display.HTML object>\n",
      "Raw review: end it all by stuffing himself into an electric pencil sharpener \n",
      "GT target: 0\n",
      "word attr tensor([ 0.3321, -0.1622, -0.1747,  0.1222, -0.2326, -0.0979,  0.1438,  0.0808,\n",
      "         0.0376,  0.1082, -0.1825, -0.1460, -0.1369, -0.8003], device='cuda:0',\n",
      "       dtype=torch.float64, grad_fn=<AsStridedBackward0>)\n",
      "conti attr [tensor(0.3321, device='cuda:0', dtype=torch.float64, grad_fn=<UnbindBackward0>), tensor(-0.1622, device='cuda:0', dtype=torch.float64,\n",
      "       grad_fn=<UnbindBackward0>), tensor(-0.1747, device='cuda:0', dtype=torch.float64,\n",
      "       grad_fn=<UnbindBackward0>), tensor(0.1222, device='cuda:0', dtype=torch.float64, grad_fn=<UnbindBackward0>), tensor(-0.2326, device='cuda:0', dtype=torch.float64,\n",
      "       grad_fn=<UnbindBackward0>), tensor(-0.0979, device='cuda:0', dtype=torch.float64,\n",
      "       grad_fn=<UnbindBackward0>), tensor(0.1438, device='cuda:0', dtype=torch.float64, grad_fn=<UnbindBackward0>), tensor(0.0808, device='cuda:0', dtype=torch.float64, grad_fn=<UnbindBackward0>), tensor(0.0376, device='cuda:0', dtype=torch.float64, grad_fn=<UnbindBackward0>), tensor(0.1082, device='cuda:0', dtype=torch.float64, grad_fn=<UnbindBackward0>), tensor(-0.1825, device='cuda:0', dtype=torch.float64,\n",
      "       grad_fn=<UnbindBackward0>), tensor(-0.1414, device='cuda:0', dtype=torch.float64, grad_fn=<DivBackward0>), tensor(-0.8003, device='cuda:0', dtype=torch.float64,\n",
      "       grad_fn=<UnbindBackward0>)]\n",
      "detokenized ['[CLS]', 'end', 'it', 'all', 'by', 'stuffing', 'himself', 'into', 'an', 'electric', 'pencil', 'sharpe', 'ner', '[SEP]']\n",
      "len conti_raw 13\n",
      "conti_raw ['[CLS]', 'end', 'it', 'all', 'by', 'stuffing', 'himself', 'into', 'an', 'electric', 'pencil', 'sharpener', '[SEP]']\n"
     ]
    },
    {
     "data": {
      "text/html": [
       "<table width: 100%><div style=\"border-top: 1px solid; margin-top: 5px;             padding-top: 5px; display: inline-block\"><b>Legend: </b><span style=\"display: inline-block; width: 10px; height: 10px;                 border: 1px solid; background-color:                 hsl(0, 75%, 60%)\"></span> Negative  <span style=\"display: inline-block; width: 10px; height: 10px;                 border: 1px solid; background-color:                 hsl(0, 75%, 100%)\"></span> Neutral  <span style=\"display: inline-block; width: 10px; height: 10px;                 border: 1px solid; background-color:                 hsl(120, 75%, 50%)\"></span> Positive  </div><tr><th>True Label</th><th>Predicted Label</th><th>Attribution Label</th><th>Attribution Score</th><th>Word Importance</th><tr><td><text style=\"padding-right:2em\"><b>Neg</b></text></td><td><text style=\"padding-right:2em\"><b>Neg (0.06)</b></text></td><td><text style=\"padding-right:2em\"><b>Neg</b></text></td><td><text style=\"padding-right:2em\"><b>-1.11</b></text></td><td><mark style=\"background-color: hsl(120, 75%, 84%); opacity:1.0;                     line-height:1.75\"><font color=\"black\"> [CLS]                    </font></mark><mark style=\"background-color: hsl(0, 75%, 94%); opacity:1.0;                     line-height:1.75\"><font color=\"black\"> end                    </font></mark><mark style=\"background-color: hsl(0, 75%, 94%); opacity:1.0;                     line-height:1.75\"><font color=\"black\"> it                    </font></mark><mark style=\"background-color: hsl(120, 75%, 94%); opacity:1.0;                     line-height:1.75\"><font color=\"black\"> all                    </font></mark><mark style=\"background-color: hsl(0, 75%, 91%); opacity:1.0;                     line-height:1.75\"><font color=\"black\"> by                    </font></mark><mark style=\"background-color: hsl(0, 75%, 97%); opacity:1.0;                     line-height:1.75\"><font color=\"black\"> stuffing                    </font></mark><mark style=\"background-color: hsl(120, 75%, 93%); opacity:1.0;                     line-height:1.75\"><font color=\"black\"> himself                    </font></mark><mark style=\"background-color: hsl(120, 75%, 96%); opacity:1.0;                     line-height:1.75\"><font color=\"black\"> into                    </font></mark><mark style=\"background-color: hsl(120, 75%, 99%); opacity:1.0;                     line-height:1.75\"><font color=\"black\"> an                    </font></mark><mark style=\"background-color: hsl(120, 75%, 95%); opacity:1.0;                     line-height:1.75\"><font color=\"black\"> electric                    </font></mark><mark style=\"background-color: hsl(0, 75%, 93%); opacity:1.0;                     line-height:1.75\"><font color=\"black\"> pencil                    </font></mark><mark style=\"background-color: hsl(0, 75%, 95%); opacity:1.0;                     line-height:1.75\"><font color=\"black\"> sharpener                    </font></mark><mark style=\"background-color: hsl(0, 75%, 68%); opacity:1.0;                     line-height:1.75\"><font color=\"black\"> [SEP]                    </font></mark></td><tr></table>"
      ],
      "text/plain": [
       "<IPython.core.display.HTML object>"
      ]
     },
     "metadata": {},
     "output_type": "display_data"
    },
    {
     "name": "stdout",
     "output_type": "stream",
     "text": [
      "<IPython.core.display.HTML object>\n",
      "Raw review: funniest idea \n",
      "GT target: 1\n",
      "word attr tensor([ 0.8705,  0.4527, -0.0876,  0.0185,  0.0282,  0.1686], device='cuda:0',\n",
      "       dtype=torch.float64, grad_fn=<AsStridedBackward0>)\n",
      "conti attr [tensor(0.8705, device='cuda:0', dtype=torch.float64, grad_fn=<UnbindBackward0>), tensor(0.1005, device='cuda:0', dtype=torch.float64, grad_fn=<DivBackward0>), tensor(0.0282, device='cuda:0', dtype=torch.float64, grad_fn=<UnbindBackward0>), tensor(0.1686, device='cuda:0', dtype=torch.float64, grad_fn=<UnbindBackward0>)]\n",
      "detokenized ['[CLS]', 'fun', 'nies', 't', 'idea', '[SEP]']\n",
      "len conti_raw 4\n",
      "conti_raw ['[CLS]', 'funniest', 'idea', '[SEP]']\n"
     ]
    },
    {
     "data": {
      "text/html": [
       "<table width: 100%><div style=\"border-top: 1px solid; margin-top: 5px;             padding-top: 5px; display: inline-block\"><b>Legend: </b><span style=\"display: inline-block; width: 10px; height: 10px;                 border: 1px solid; background-color:                 hsl(0, 75%, 60%)\"></span> Negative  <span style=\"display: inline-block; width: 10px; height: 10px;                 border: 1px solid; background-color:                 hsl(0, 75%, 100%)\"></span> Neutral  <span style=\"display: inline-block; width: 10px; height: 10px;                 border: 1px solid; background-color:                 hsl(120, 75%, 50%)\"></span> Positive  </div><tr><th>True Label</th><th>Predicted Label</th><th>Attribution Label</th><th>Attribution Score</th><th>Word Importance</th><tr><td><text style=\"padding-right:2em\"><b>Pos</b></text></td><td><text style=\"padding-right:2em\"><b>Pos (0.96)</b></text></td><td><text style=\"padding-right:2em\"><b>Pos</b></text></td><td><text style=\"padding-right:2em\"><b>1.45</b></text></td><td><mark style=\"background-color: hsl(120, 75%, 57%); opacity:1.0;                     line-height:1.75\"><font color=\"black\"> [CLS]                    </font></mark><mark style=\"background-color: hsl(120, 75%, 95%); opacity:1.0;                     line-height:1.75\"><font color=\"black\"> funniest                    </font></mark><mark style=\"background-color: hsl(120, 75%, 99%); opacity:1.0;                     line-height:1.75\"><font color=\"black\"> idea                    </font></mark><mark style=\"background-color: hsl(120, 75%, 92%); opacity:1.0;                     line-height:1.75\"><font color=\"black\"> [SEP]                    </font></mark></td><tr></table>"
      ],
      "text/plain": [
       "<IPython.core.display.HTML object>"
      ]
     },
     "metadata": {},
     "output_type": "display_data"
    },
    {
     "name": "stdout",
     "output_type": "stream",
     "text": [
      "<IPython.core.display.HTML object>\n",
      "Raw review: silly and tedious \n",
      "GT target: 0\n",
      "word attr tensor([ 0.4637, -0.5271,  0.3821, -0.4168, -0.4213, -0.0998], device='cuda:0',\n",
      "       dtype=torch.float64, grad_fn=<AsStridedBackward0>)\n",
      "conti attr [tensor(0.4637, device='cuda:0', dtype=torch.float64, grad_fn=<UnbindBackward0>), tensor(-0.5271, device='cuda:0', dtype=torch.float64,\n",
      "       grad_fn=<UnbindBackward0>), tensor(0.3821, device='cuda:0', dtype=torch.float64, grad_fn=<UnbindBackward0>), tensor(-0.4191, device='cuda:0', dtype=torch.float64, grad_fn=<DivBackward0>), tensor(-0.0998, device='cuda:0', dtype=torch.float64,\n",
      "       grad_fn=<UnbindBackward0>)]\n",
      "detokenized ['[CLS]', 'silly', 'and', 'ted', 'ious', '[SEP]']\n",
      "len conti_raw 5\n",
      "conti_raw ['[CLS]', 'silly', 'and', 'tedious', '[SEP]']\n"
     ]
    },
    {
     "data": {
      "text/html": [
       "<table width: 100%><div style=\"border-top: 1px solid; margin-top: 5px;             padding-top: 5px; display: inline-block\"><b>Legend: </b><span style=\"display: inline-block; width: 10px; height: 10px;                 border: 1px solid; background-color:                 hsl(0, 75%, 60%)\"></span> Negative  <span style=\"display: inline-block; width: 10px; height: 10px;                 border: 1px solid; background-color:                 hsl(0, 75%, 100%)\"></span> Neutral  <span style=\"display: inline-block; width: 10px; height: 10px;                 border: 1px solid; background-color:                 hsl(120, 75%, 50%)\"></span> Positive  </div><tr><th>True Label</th><th>Predicted Label</th><th>Attribution Label</th><th>Attribution Score</th><th>Word Importance</th><tr><td><text style=\"padding-right:2em\"><b>Neg</b></text></td><td><text style=\"padding-right:2em\"><b>Neg (0.04)</b></text></td><td><text style=\"padding-right:2em\"><b>Neg</b></text></td><td><text style=\"padding-right:2em\"><b>-0.62</b></text></td><td><mark style=\"background-color: hsl(120, 75%, 77%); opacity:1.0;                     line-height:1.75\"><font color=\"black\"> [CLS]                    </font></mark><mark style=\"background-color: hsl(0, 75%, 79%); opacity:1.0;                     line-height:1.75\"><font color=\"black\"> silly                    </font></mark><mark style=\"background-color: hsl(120, 75%, 81%); opacity:1.0;                     line-height:1.75\"><font color=\"black\"> and                    </font></mark><mark style=\"background-color: hsl(0, 75%, 84%); opacity:1.0;                     line-height:1.75\"><font color=\"black\"> tedious                    </font></mark><mark style=\"background-color: hsl(0, 75%, 97%); opacity:1.0;                     line-height:1.75\"><font color=\"black\"> [SEP]                    </font></mark></td><tr></table>"
      ],
      "text/plain": [
       "<IPython.core.display.HTML object>"
      ]
     },
     "metadata": {},
     "output_type": "display_data"
    },
    {
     "name": "stdout",
     "output_type": "stream",
     "text": [
      "<IPython.core.display.HTML object>\n",
      "Raw review: two surefire , beloved genres \n",
      "GT target: 1\n",
      "word attr tensor([ 0.5600, -0.0545,  0.5574,  0.2560,  0.2831,  0.3520, -0.3163,  0.0559],\n",
      "       device='cuda:0', dtype=torch.float64, grad_fn=<AsStridedBackward0>)\n",
      "conti attr [tensor(0.5600, device='cuda:0', dtype=torch.float64, grad_fn=<UnbindBackward0>), tensor(-0.0545, device='cuda:0', dtype=torch.float64,\n",
      "       grad_fn=<UnbindBackward0>), tensor(0.4067, device='cuda:0', dtype=torch.float64, grad_fn=<DivBackward0>), tensor(0.2831, device='cuda:0', dtype=torch.float64, grad_fn=<UnbindBackward0>), tensor(0.3520, device='cuda:0', dtype=torch.float64, grad_fn=<UnbindBackward0>), tensor(-0.3163, device='cuda:0', dtype=torch.float64,\n",
      "       grad_fn=<UnbindBackward0>), tensor(0.0559, device='cuda:0', dtype=torch.float64, grad_fn=<UnbindBackward0>)]\n",
      "detokenized ['[CLS]', 'two', 'sure', 'fire', ',', 'beloved', 'genres', '[SEP]']\n",
      "len conti_raw 7\n",
      "conti_raw ['[CLS]', 'two', 'surefire', ',', 'beloved', 'genres', '[SEP]']\n"
     ]
    },
    {
     "data": {
      "text/html": [
       "<table width: 100%><div style=\"border-top: 1px solid; margin-top: 5px;             padding-top: 5px; display: inline-block\"><b>Legend: </b><span style=\"display: inline-block; width: 10px; height: 10px;                 border: 1px solid; background-color:                 hsl(0, 75%, 60%)\"></span> Negative  <span style=\"display: inline-block; width: 10px; height: 10px;                 border: 1px solid; background-color:                 hsl(0, 75%, 100%)\"></span> Neutral  <span style=\"display: inline-block; width: 10px; height: 10px;                 border: 1px solid; background-color:                 hsl(120, 75%, 50%)\"></span> Positive  </div><tr><th>True Label</th><th>Predicted Label</th><th>Attribution Label</th><th>Attribution Score</th><th>Word Importance</th><tr><td><text style=\"padding-right:2em\"><b>Pos</b></text></td><td><text style=\"padding-right:2em\"><b>Pos (0.98)</b></text></td><td><text style=\"padding-right:2em\"><b>Pos</b></text></td><td><text style=\"padding-right:2em\"><b>1.69</b></text></td><td><mark style=\"background-color: hsl(120, 75%, 72%); opacity:1.0;                     line-height:1.75\"><font color=\"black\"> [CLS]                    </font></mark><mark style=\"background-color: hsl(0, 75%, 98%); opacity:1.0;                     line-height:1.75\"><font color=\"black\"> two                    </font></mark><mark style=\"background-color: hsl(120, 75%, 80%); opacity:1.0;                     line-height:1.75\"><font color=\"black\"> surefire                    </font></mark><mark style=\"background-color: hsl(120, 75%, 86%); opacity:1.0;                     line-height:1.75\"><font color=\"black\"> ,                    </font></mark><mark style=\"background-color: hsl(120, 75%, 83%); opacity:1.0;                     line-height:1.75\"><font color=\"black\"> beloved                    </font></mark><mark style=\"background-color: hsl(0, 75%, 88%); opacity:1.0;                     line-height:1.75\"><font color=\"black\"> genres                    </font></mark><mark style=\"background-color: hsl(120, 75%, 98%); opacity:1.0;                     line-height:1.75\"><font color=\"black\"> [SEP]                    </font></mark></td><tr></table>"
      ],
      "text/plain": [
       "<IPython.core.display.HTML object>"
      ]
     },
     "metadata": {},
     "output_type": "display_data"
    },
    {
     "name": "stdout",
     "output_type": "stream",
     "text": [
      "<IPython.core.display.HTML object>\n",
      "Raw review: most charmless \n",
      "GT target: 0\n",
      "word attr tensor([ 0.0021,  0.8892,  0.3317, -0.2435,  0.2002], device='cuda:0',\n",
      "       dtype=torch.float64, grad_fn=<AsStridedBackward0>)\n",
      "conti attr [tensor(0.0021, device='cuda:0', dtype=torch.float64, grad_fn=<UnbindBackward0>), tensor(0.8892, device='cuda:0', dtype=torch.float64, grad_fn=<UnbindBackward0>), tensor(0.0441, device='cuda:0', dtype=torch.float64, grad_fn=<DivBackward0>), tensor(0.2002, device='cuda:0', dtype=torch.float64, grad_fn=<UnbindBackward0>)]\n",
      "detokenized ['[CLS]', 'most', 'charm', 'less', '[SEP]']\n",
      "len conti_raw 4\n",
      "conti_raw ['[CLS]', 'most', 'charmless', '[SEP]']\n"
     ]
    },
    {
     "data": {
      "text/html": [
       "<table width: 100%><div style=\"border-top: 1px solid; margin-top: 5px;             padding-top: 5px; display: inline-block\"><b>Legend: </b><span style=\"display: inline-block; width: 10px; height: 10px;                 border: 1px solid; background-color:                 hsl(0, 75%, 60%)\"></span> Negative  <span style=\"display: inline-block; width: 10px; height: 10px;                 border: 1px solid; background-color:                 hsl(0, 75%, 100%)\"></span> Neutral  <span style=\"display: inline-block; width: 10px; height: 10px;                 border: 1px solid; background-color:                 hsl(120, 75%, 50%)\"></span> Positive  </div><tr><th>True Label</th><th>Predicted Label</th><th>Attribution Label</th><th>Attribution Score</th><th>Word Importance</th><tr><td><text style=\"padding-right:2em\"><b>Neg</b></text></td><td><text style=\"padding-right:2em\"><b>Pos (0.97)</b></text></td><td><text style=\"padding-right:2em\"><b>Pos</b></text></td><td><text style=\"padding-right:2em\"><b>1.18</b></text></td><td><mark style=\"background-color: hsl(120, 75%, 100%); opacity:1.0;                     line-height:1.75\"><font color=\"black\"> [CLS]                    </font></mark><mark style=\"background-color: hsl(120, 75%, 56%); opacity:1.0;                     line-height:1.75\"><font color=\"black\"> most                    </font></mark><mark style=\"background-color: hsl(120, 75%, 98%); opacity:1.0;                     line-height:1.75\"><font color=\"black\"> charmless                    </font></mark><mark style=\"background-color: hsl(120, 75%, 90%); opacity:1.0;                     line-height:1.75\"><font color=\"black\"> [SEP]                    </font></mark></td><tr></table>"
      ],
      "text/plain": [
       "<IPython.core.display.HTML object>"
      ]
     },
     "metadata": {},
     "output_type": "display_data"
    },
    {
     "name": "stdout",
     "output_type": "stream",
     "text": [
      "<IPython.core.display.HTML object>\n",
      "Raw review: offers us the sense that on some elemental level , lilia deeply wants to break free of her old life . \n",
      "GT target: 1\n",
      "word attr tensor([ 4.3952e-02,  7.3206e-01,  2.6254e-01,  5.3694e-02, -1.2475e-02,\n",
      "        -5.0909e-04, -1.2591e-02,  6.2065e-02,  8.7597e-02,  1.2844e-01,\n",
      "         5.6806e-02,  8.7766e-03, -1.4053e-02,  9.6389e-02, -2.5647e-01,\n",
      "        -3.6926e-02, -2.8820e-01, -1.4669e-02, -3.5099e-02,  1.7193e-02,\n",
      "         3.0665e-02,  1.2754e-01,  4.3849e-02, -4.2208e-01], device='cuda:0',\n",
      "       dtype=torch.float64, grad_fn=<AsStridedBackward0>)\n",
      "conti attr [tensor(0.0440, device='cuda:0', dtype=torch.float64, grad_fn=<UnbindBackward0>), tensor(0.7321, device='cuda:0', dtype=torch.float64, grad_fn=<UnbindBackward0>), tensor(0.2625, device='cuda:0', dtype=torch.float64, grad_fn=<UnbindBackward0>), tensor(0.0537, device='cuda:0', dtype=torch.float64, grad_fn=<UnbindBackward0>), tensor(-0.0125, device='cuda:0', dtype=torch.float64,\n",
      "       grad_fn=<UnbindBackward0>), tensor(-0.0005, device='cuda:0', dtype=torch.float64,\n",
      "       grad_fn=<UnbindBackward0>), tensor(-0.0126, device='cuda:0', dtype=torch.float64,\n",
      "       grad_fn=<UnbindBackward0>), tensor(0.0621, device='cuda:0', dtype=torch.float64, grad_fn=<UnbindBackward0>), tensor(0.0876, device='cuda:0', dtype=torch.float64, grad_fn=<UnbindBackward0>), tensor(0.1284, device='cuda:0', dtype=torch.float64, grad_fn=<UnbindBackward0>), tensor(0.0568, device='cuda:0', dtype=torch.float64, grad_fn=<UnbindBackward0>), tensor(-0.0026, device='cuda:0', dtype=torch.float64, grad_fn=<DivBackward0>), tensor(0.0964, device='cuda:0', dtype=torch.float64, grad_fn=<UnbindBackward0>), tensor(-0.2565, device='cuda:0', dtype=torch.float64,\n",
      "       grad_fn=<UnbindBackward0>), tensor(-0.0369, device='cuda:0', dtype=torch.float64,\n",
      "       grad_fn=<UnbindBackward0>), tensor(-0.2882, device='cuda:0', dtype=torch.float64,\n",
      "       grad_fn=<UnbindBackward0>), tensor(-0.0147, device='cuda:0', dtype=torch.float64,\n",
      "       grad_fn=<UnbindBackward0>), tensor(-0.0351, device='cuda:0', dtype=torch.float64,\n",
      "       grad_fn=<UnbindBackward0>), tensor(0.0172, device='cuda:0', dtype=torch.float64, grad_fn=<UnbindBackward0>), tensor(0.0307, device='cuda:0', dtype=torch.float64, grad_fn=<UnbindBackward0>), tensor(0.1275, device='cuda:0', dtype=torch.float64, grad_fn=<UnbindBackward0>), tensor(0.0438, device='cuda:0', dtype=torch.float64, grad_fn=<UnbindBackward0>), tensor(-0.4221, device='cuda:0', dtype=torch.float64,\n",
      "       grad_fn=<UnbindBackward0>)]\n",
      "detokenized ['[CLS]', 'offers', 'us', 'the', 'sense', 'that', 'on', 'some', 'elemental', 'level', ',', 'lil', 'ia', 'deeply', 'wants', 'to', 'break', 'free', 'of', 'her', 'old', 'life', '.', '[SEP]']\n",
      "len conti_raw 23\n",
      "conti_raw ['[CLS]', 'offers', 'us', 'the', 'sense', 'that', 'on', 'some', 'elemental', 'level', ',', 'lilia', 'deeply', 'wants', 'to', 'break', 'free', 'of', 'her', 'old', 'life', '.', '[SEP]']\n"
     ]
    },
    {
     "data": {
      "text/html": [
       "<table width: 100%><div style=\"border-top: 1px solid; margin-top: 5px;             padding-top: 5px; display: inline-block\"><b>Legend: </b><span style=\"display: inline-block; width: 10px; height: 10px;                 border: 1px solid; background-color:                 hsl(0, 75%, 60%)\"></span> Negative  <span style=\"display: inline-block; width: 10px; height: 10px;                 border: 1px solid; background-color:                 hsl(0, 75%, 100%)\"></span> Neutral  <span style=\"display: inline-block; width: 10px; height: 10px;                 border: 1px solid; background-color:                 hsl(120, 75%, 50%)\"></span> Positive  </div><tr><th>True Label</th><th>Predicted Label</th><th>Attribution Label</th><th>Attribution Score</th><th>Word Importance</th><tr><td><text style=\"padding-right:2em\"><b>Pos</b></text></td><td><text style=\"padding-right:2em\"><b>Pos (0.96)</b></text></td><td><text style=\"padding-right:2em\"><b>Pos</b></text></td><td><text style=\"padding-right:2em\"><b>0.66</b></text></td><td><mark style=\"background-color: hsl(120, 75%, 98%); opacity:1.0;                     line-height:1.75\"><font color=\"black\"> [CLS]                    </font></mark><mark style=\"background-color: hsl(120, 75%, 64%); opacity:1.0;                     line-height:1.75\"><font color=\"black\"> offers                    </font></mark><mark style=\"background-color: hsl(120, 75%, 87%); opacity:1.0;                     line-height:1.75\"><font color=\"black\"> us                    </font></mark><mark style=\"background-color: hsl(120, 75%, 98%); opacity:1.0;                     line-height:1.75\"><font color=\"black\"> the                    </font></mark><mark style=\"background-color: hsl(0, 75%, 100%); opacity:1.0;                     line-height:1.75\"><font color=\"black\"> sense                    </font></mark><mark style=\"background-color: hsl(0, 75%, 100%); opacity:1.0;                     line-height:1.75\"><font color=\"black\"> that                    </font></mark><mark style=\"background-color: hsl(0, 75%, 100%); opacity:1.0;                     line-height:1.75\"><font color=\"black\"> on                    </font></mark><mark style=\"background-color: hsl(120, 75%, 97%); opacity:1.0;                     line-height:1.75\"><font color=\"black\"> some                    </font></mark><mark style=\"background-color: hsl(120, 75%, 96%); opacity:1.0;                     line-height:1.75\"><font color=\"black\"> elemental                    </font></mark><mark style=\"background-color: hsl(120, 75%, 94%); opacity:1.0;                     line-height:1.75\"><font color=\"black\"> level                    </font></mark><mark style=\"background-color: hsl(120, 75%, 98%); opacity:1.0;                     line-height:1.75\"><font color=\"black\"> ,                    </font></mark><mark style=\"background-color: hsl(0, 75%, 100%); opacity:1.0;                     line-height:1.75\"><font color=\"black\"> lilia                    </font></mark><mark style=\"background-color: hsl(120, 75%, 96%); opacity:1.0;                     line-height:1.75\"><font color=\"black\"> deeply                    </font></mark><mark style=\"background-color: hsl(0, 75%, 90%); opacity:1.0;                     line-height:1.75\"><font color=\"black\"> wants                    </font></mark><mark style=\"background-color: hsl(0, 75%, 99%); opacity:1.0;                     line-height:1.75\"><font color=\"black\"> to                    </font></mark><mark style=\"background-color: hsl(0, 75%, 89%); opacity:1.0;                     line-height:1.75\"><font color=\"black\"> break                    </font></mark><mark style=\"background-color: hsl(0, 75%, 100%); opacity:1.0;                     line-height:1.75\"><font color=\"black\"> free                    </font></mark><mark style=\"background-color: hsl(0, 75%, 99%); opacity:1.0;                     line-height:1.75\"><font color=\"black\"> of                    </font></mark><mark style=\"background-color: hsl(120, 75%, 100%); opacity:1.0;                     line-height:1.75\"><font color=\"black\"> her                    </font></mark><mark style=\"background-color: hsl(120, 75%, 99%); opacity:1.0;                     line-height:1.75\"><font color=\"black\"> old                    </font></mark><mark style=\"background-color: hsl(120, 75%, 94%); opacity:1.0;                     line-height:1.75\"><font color=\"black\"> life                    </font></mark><mark style=\"background-color: hsl(120, 75%, 98%); opacity:1.0;                     line-height:1.75\"><font color=\"black\"> .                    </font></mark><mark style=\"background-color: hsl(0, 75%, 84%); opacity:1.0;                     line-height:1.75\"><font color=\"black\"> [SEP]                    </font></mark></td><tr></table>"
      ],
      "text/plain": [
       "<IPython.core.display.HTML object>"
      ]
     },
     "metadata": {},
     "output_type": "display_data"
    },
    {
     "name": "stdout",
     "output_type": "stream",
     "text": [
      "<IPython.core.display.HTML object>\n",
      "Raw review: might be best forgotten \n",
      "GT target: 0\n",
      "word attr tensor([ 0.2454, -0.2117, -0.2326,  0.6945, -0.5051,  0.3216], device='cuda:0',\n",
      "       dtype=torch.float64, grad_fn=<AsStridedBackward0>)\n",
      "conti attr [tensor(0.2454, device='cuda:0', dtype=torch.float64, grad_fn=<UnbindBackward0>), tensor(-0.2117, device='cuda:0', dtype=torch.float64,\n",
      "       grad_fn=<UnbindBackward0>), tensor(-0.2326, device='cuda:0', dtype=torch.float64,\n",
      "       grad_fn=<UnbindBackward0>), tensor(0.6945, device='cuda:0', dtype=torch.float64, grad_fn=<UnbindBackward0>), tensor(-0.5051, device='cuda:0', dtype=torch.float64,\n",
      "       grad_fn=<UnbindBackward0>), tensor(0.3216, device='cuda:0', dtype=torch.float64, grad_fn=<UnbindBackward0>)]\n",
      "detokenized ['[CLS]', 'might', 'be', 'best', 'forgotten', '[SEP]']\n",
      "len conti_raw 6\n",
      "conti_raw ['[CLS]', 'might', 'be', 'best', 'forgotten', '[SEP]']\n"
     ]
    },
    {
     "data": {
      "text/html": [
       "<table width: 100%><div style=\"border-top: 1px solid; margin-top: 5px;             padding-top: 5px; display: inline-block\"><b>Legend: </b><span style=\"display: inline-block; width: 10px; height: 10px;                 border: 1px solid; background-color:                 hsl(0, 75%, 60%)\"></span> Negative  <span style=\"display: inline-block; width: 10px; height: 10px;                 border: 1px solid; background-color:                 hsl(0, 75%, 100%)\"></span> Neutral  <span style=\"display: inline-block; width: 10px; height: 10px;                 border: 1px solid; background-color:                 hsl(120, 75%, 50%)\"></span> Positive  </div><tr><th>True Label</th><th>Predicted Label</th><th>Attribution Label</th><th>Attribution Score</th><th>Word Importance</th><tr><td><text style=\"padding-right:2em\"><b>Neg</b></text></td><td><text style=\"padding-right:2em\"><b>Neg (0.07)</b></text></td><td><text style=\"padding-right:2em\"><b>Neg</b></text></td><td><text style=\"padding-right:2em\"><b>0.31</b></text></td><td><mark style=\"background-color: hsl(120, 75%, 88%); opacity:1.0;                     line-height:1.75\"><font color=\"black\"> [CLS]                    </font></mark><mark style=\"background-color: hsl(0, 75%, 92%); opacity:1.0;                     line-height:1.75\"><font color=\"black\"> might                    </font></mark><mark style=\"background-color: hsl(0, 75%, 91%); opacity:1.0;                     line-height:1.75\"><font color=\"black\"> be                    </font></mark><mark style=\"background-color: hsl(120, 75%, 66%); opacity:1.0;                     line-height:1.75\"><font color=\"black\"> best                    </font></mark><mark style=\"background-color: hsl(0, 75%, 80%); opacity:1.0;                     line-height:1.75\"><font color=\"black\"> forgotten                    </font></mark><mark style=\"background-color: hsl(120, 75%, 84%); opacity:1.0;                     line-height:1.75\"><font color=\"black\"> [SEP]                    </font></mark></td><tr></table>"
      ],
      "text/plain": [
       "<IPython.core.display.HTML object>"
      ]
     },
     "metadata": {},
     "output_type": "display_data"
    },
    {
     "name": "stdout",
     "output_type": "stream",
     "text": [
      "<IPython.core.display.HTML object>\n",
      "Raw review: a substantial arc of change that does n't produce any real transformation \n",
      "GT target: 0\n",
      "word attr tensor([ 0.3740, -0.1011,  0.1437, -0.2141, -0.1201, -0.1453, -0.2664, -0.2603,\n",
      "        -0.1458,  0.1675, -0.2822, -0.1440, -0.0171,  0.1111, -0.2845, -0.6049],\n",
      "       device='cuda:0', dtype=torch.float64, grad_fn=<AsStridedBackward0>)\n",
      "conti attr [tensor(0.3740, device='cuda:0', dtype=torch.float64, grad_fn=<UnbindBackward0>), tensor(-0.1011, device='cuda:0', dtype=torch.float64,\n",
      "       grad_fn=<UnbindBackward0>), tensor(0.1437, device='cuda:0', dtype=torch.float64, grad_fn=<UnbindBackward0>), tensor(-0.2141, device='cuda:0', dtype=torch.float64,\n",
      "       grad_fn=<UnbindBackward0>), tensor(-0.1201, device='cuda:0', dtype=torch.float64,\n",
      "       grad_fn=<UnbindBackward0>), tensor(-0.1453, device='cuda:0', dtype=torch.float64,\n",
      "       grad_fn=<UnbindBackward0>), tensor(-0.2664, device='cuda:0', dtype=torch.float64,\n",
      "       grad_fn=<UnbindBackward0>), tensor(-0.2603, device='cuda:0', dtype=torch.float64,\n",
      "       grad_fn=<UnbindBackward0>), tensor(-0.1357, device='cuda:0', dtype=torch.float64, grad_fn=<DivBackward0>), tensor(-0.1440, device='cuda:0', dtype=torch.float64,\n",
      "       grad_fn=<UnbindBackward0>), tensor(-0.0171, device='cuda:0', dtype=torch.float64,\n",
      "       grad_fn=<UnbindBackward0>), tensor(0.1111, device='cuda:0', dtype=torch.float64, grad_fn=<UnbindBackward0>), tensor(-0.2845, device='cuda:0', dtype=torch.float64,\n",
      "       grad_fn=<UnbindBackward0>), tensor(-0.6049, device='cuda:0', dtype=torch.float64,\n",
      "       grad_fn=<UnbindBackward0>)]\n",
      "detokenized ['[CLS]', 'a', 'substantial', 'arc', 'of', 'change', 'that', 'does', 'n', \"'\", 't', 'produce', 'any', 'real', 'transformation', '[SEP]']\n",
      "len conti_raw 14\n",
      "conti_raw ['[CLS]', 'a', 'substantial', 'arc', 'of', 'change', 'that', 'does', \"n't\", 'produce', 'any', 'real', 'transformation', '[SEP]']\n"
     ]
    },
    {
     "data": {
      "text/html": [
       "<table width: 100%><div style=\"border-top: 1px solid; margin-top: 5px;             padding-top: 5px; display: inline-block\"><b>Legend: </b><span style=\"display: inline-block; width: 10px; height: 10px;                 border: 1px solid; background-color:                 hsl(0, 75%, 60%)\"></span> Negative  <span style=\"display: inline-block; width: 10px; height: 10px;                 border: 1px solid; background-color:                 hsl(0, 75%, 100%)\"></span> Neutral  <span style=\"display: inline-block; width: 10px; height: 10px;                 border: 1px solid; background-color:                 hsl(120, 75%, 50%)\"></span> Positive  </div><tr><th>True Label</th><th>Predicted Label</th><th>Attribution Label</th><th>Attribution Score</th><th>Word Importance</th><tr><td><text style=\"padding-right:2em\"><b>Neg</b></text></td><td><text style=\"padding-right:2em\"><b>Neg (0.04)</b></text></td><td><text style=\"padding-right:2em\"><b>Neg</b></text></td><td><text style=\"padding-right:2em\"><b>-1.79</b></text></td><td><mark style=\"background-color: hsl(120, 75%, 82%); opacity:1.0;                     line-height:1.75\"><font color=\"black\"> [CLS]                    </font></mark><mark style=\"background-color: hsl(0, 75%, 96%); opacity:1.0;                     line-height:1.75\"><font color=\"black\"> a                    </font></mark><mark style=\"background-color: hsl(120, 75%, 93%); opacity:1.0;                     line-height:1.75\"><font color=\"black\"> substantial                    </font></mark><mark style=\"background-color: hsl(0, 75%, 92%); opacity:1.0;                     line-height:1.75\"><font color=\"black\"> arc                    </font></mark><mark style=\"background-color: hsl(0, 75%, 96%); opacity:1.0;                     line-height:1.75\"><font color=\"black\"> of                    </font></mark><mark style=\"background-color: hsl(0, 75%, 95%); opacity:1.0;                     line-height:1.75\"><font color=\"black\"> change                    </font></mark><mark style=\"background-color: hsl(0, 75%, 90%); opacity:1.0;                     line-height:1.75\"><font color=\"black\"> that                    </font></mark><mark style=\"background-color: hsl(0, 75%, 90%); opacity:1.0;                     line-height:1.75\"><font color=\"black\"> does                    </font></mark><mark style=\"background-color: hsl(0, 75%, 95%); opacity:1.0;                     line-height:1.75\"><font color=\"black\"> n't                    </font></mark><mark style=\"background-color: hsl(0, 75%, 95%); opacity:1.0;                     line-height:1.75\"><font color=\"black\"> produce                    </font></mark><mark style=\"background-color: hsl(0, 75%, 100%); opacity:1.0;                     line-height:1.75\"><font color=\"black\"> any                    </font></mark><mark style=\"background-color: hsl(120, 75%, 95%); opacity:1.0;                     line-height:1.75\"><font color=\"black\"> real                    </font></mark><mark style=\"background-color: hsl(0, 75%, 89%); opacity:1.0;                     line-height:1.75\"><font color=\"black\"> transformation                    </font></mark><mark style=\"background-color: hsl(0, 75%, 76%); opacity:1.0;                     line-height:1.75\"><font color=\"black\"> [SEP]                    </font></mark></td><tr></table>"
      ],
      "text/plain": [
       "<IPython.core.display.HTML object>"
      ]
     },
     "metadata": {},
     "output_type": "display_data"
    },
    {
     "name": "stdout",
     "output_type": "stream",
     "text": [
      "<IPython.core.display.HTML object>\n",
      "Raw review: unadorned \n",
      "GT target: 0\n",
      "word attr tensor([-0.4057,  0.8304,  0.2859,  0.2404,  0.0790], device='cuda:0',\n",
      "       dtype=torch.float64, grad_fn=<AsStridedBackward0>)\n",
      "conti attr [tensor(-0.4057, device='cuda:0', dtype=torch.float64,\n",
      "       grad_fn=<UnbindBackward0>), tensor(0.3993, device='cuda:0', dtype=torch.float64, grad_fn=<DivBackward0>), tensor(0.0790, device='cuda:0', dtype=torch.float64, grad_fn=<UnbindBackward0>)]\n",
      "detokenized ['[CLS]', 'una', 'dor', 'ned', '[SEP]']\n",
      "len conti_raw 3\n",
      "conti_raw ['[CLS]', 'unadorned', '[SEP]']\n"
     ]
    },
    {
     "data": {
      "text/html": [
       "<table width: 100%><div style=\"border-top: 1px solid; margin-top: 5px;             padding-top: 5px; display: inline-block\"><b>Legend: </b><span style=\"display: inline-block; width: 10px; height: 10px;                 border: 1px solid; background-color:                 hsl(0, 75%, 60%)\"></span> Negative  <span style=\"display: inline-block; width: 10px; height: 10px;                 border: 1px solid; background-color:                 hsl(0, 75%, 100%)\"></span> Neutral  <span style=\"display: inline-block; width: 10px; height: 10px;                 border: 1px solid; background-color:                 hsl(120, 75%, 50%)\"></span> Positive  </div><tr><th>True Label</th><th>Predicted Label</th><th>Attribution Label</th><th>Attribution Score</th><th>Word Importance</th><tr><td><text style=\"padding-right:2em\"><b>Neg</b></text></td><td><text style=\"padding-right:2em\"><b>Neg (0.06)</b></text></td><td><text style=\"padding-right:2em\"><b>Pos</b></text></td><td><text style=\"padding-right:2em\"><b>1.03</b></text></td><td><mark style=\"background-color: hsl(0, 75%, 84%); opacity:1.0;                     line-height:1.75\"><font color=\"black\"> [CLS]                    </font></mark><mark style=\"background-color: hsl(120, 75%, 81%); opacity:1.0;                     line-height:1.75\"><font color=\"black\"> unadorned                    </font></mark><mark style=\"background-color: hsl(120, 75%, 97%); opacity:1.0;                     line-height:1.75\"><font color=\"black\"> [SEP]                    </font></mark></td><tr></table>"
      ],
      "text/plain": [
       "<IPython.core.display.HTML object>"
      ]
     },
     "metadata": {},
     "output_type": "display_data"
    },
    {
     "name": "stdout",
     "output_type": "stream",
     "text": [
      "<IPython.core.display.HTML object>\n",
      "Raw review: this is the kind of movie that you only need to watch for about thirty seconds before you say to yourself , ` ah , yes , here we have a bad , bad , bad movie . ' \n",
      "GT target: 0\n",
      "word attr tensor([ 0.0077, -0.0497, -0.2617,  0.0109,  0.0919, -0.1322,  0.3082, -0.1623,\n",
      "         0.2019, -0.0321,  0.0776, -0.1532,  0.0589,  0.0079,  0.0355,  0.0766,\n",
      "         0.0740, -0.0980,  0.2108,  0.0614, -0.1623,  0.0971, -0.0269, -0.0539,\n",
      "         0.1386, -0.0461,  0.1756, -0.0381,  0.1353,  0.2160, -0.0027, -0.0354,\n",
      "         0.2170, -0.0106,  0.2129, -0.0338,  0.1676,  0.2506, -0.1150,  0.1651,\n",
      "        -0.5021], device='cuda:0', dtype=torch.float64,\n",
      "       grad_fn=<AsStridedBackward0>)\n",
      "conti attr [tensor(0.0077, device='cuda:0', dtype=torch.float64, grad_fn=<UnbindBackward0>), tensor(-0.0497, device='cuda:0', dtype=torch.float64,\n",
      "       grad_fn=<UnbindBackward0>), tensor(-0.2617, device='cuda:0', dtype=torch.float64,\n",
      "       grad_fn=<UnbindBackward0>), tensor(0.0109, device='cuda:0', dtype=torch.float64, grad_fn=<UnbindBackward0>), tensor(0.0919, device='cuda:0', dtype=torch.float64, grad_fn=<UnbindBackward0>), tensor(-0.1322, device='cuda:0', dtype=torch.float64,\n",
      "       grad_fn=<UnbindBackward0>), tensor(0.3082, device='cuda:0', dtype=torch.float64, grad_fn=<UnbindBackward0>), tensor(-0.1623, device='cuda:0', dtype=torch.float64,\n",
      "       grad_fn=<UnbindBackward0>), tensor(0.2019, device='cuda:0', dtype=torch.float64, grad_fn=<UnbindBackward0>), tensor(-0.0321, device='cuda:0', dtype=torch.float64,\n",
      "       grad_fn=<UnbindBackward0>), tensor(0.0776, device='cuda:0', dtype=torch.float64, grad_fn=<UnbindBackward0>), tensor(-0.1532, device='cuda:0', dtype=torch.float64,\n",
      "       grad_fn=<UnbindBackward0>), tensor(0.0589, device='cuda:0', dtype=torch.float64, grad_fn=<UnbindBackward0>), tensor(0.0079, device='cuda:0', dtype=torch.float64, grad_fn=<UnbindBackward0>), tensor(0.0355, device='cuda:0', dtype=torch.float64, grad_fn=<UnbindBackward0>), tensor(0.0766, device='cuda:0', dtype=torch.float64, grad_fn=<UnbindBackward0>), tensor(0.0740, device='cuda:0', dtype=torch.float64, grad_fn=<UnbindBackward0>), tensor(-0.0980, device='cuda:0', dtype=torch.float64,\n",
      "       grad_fn=<UnbindBackward0>), tensor(0.2108, device='cuda:0', dtype=torch.float64, grad_fn=<UnbindBackward0>), tensor(0.0614, device='cuda:0', dtype=torch.float64, grad_fn=<UnbindBackward0>), tensor(-0.1623, device='cuda:0', dtype=torch.float64,\n",
      "       grad_fn=<UnbindBackward0>), tensor(0.0971, device='cuda:0', dtype=torch.float64, grad_fn=<UnbindBackward0>), tensor(-0.0269, device='cuda:0', dtype=torch.float64,\n",
      "       grad_fn=<UnbindBackward0>), tensor(-0.0539, device='cuda:0', dtype=torch.float64,\n",
      "       grad_fn=<UnbindBackward0>), tensor(0.1386, device='cuda:0', dtype=torch.float64, grad_fn=<UnbindBackward0>), tensor(-0.0461, device='cuda:0', dtype=torch.float64,\n",
      "       grad_fn=<UnbindBackward0>), tensor(0.1756, device='cuda:0', dtype=torch.float64, grad_fn=<UnbindBackward0>), tensor(-0.0381, device='cuda:0', dtype=torch.float64,\n",
      "       grad_fn=<UnbindBackward0>), tensor(0.1353, device='cuda:0', dtype=torch.float64, grad_fn=<UnbindBackward0>), tensor(0.2160, device='cuda:0', dtype=torch.float64, grad_fn=<UnbindBackward0>), tensor(-0.0027, device='cuda:0', dtype=torch.float64,\n",
      "       grad_fn=<UnbindBackward0>), tensor(-0.0354, device='cuda:0', dtype=torch.float64,\n",
      "       grad_fn=<UnbindBackward0>), tensor(0.2170, device='cuda:0', dtype=torch.float64, grad_fn=<UnbindBackward0>), tensor(-0.0106, device='cuda:0', dtype=torch.float64,\n",
      "       grad_fn=<UnbindBackward0>), tensor(0.2129, device='cuda:0', dtype=torch.float64, grad_fn=<UnbindBackward0>), tensor(-0.0338, device='cuda:0', dtype=torch.float64,\n",
      "       grad_fn=<UnbindBackward0>), tensor(0.1676, device='cuda:0', dtype=torch.float64, grad_fn=<UnbindBackward0>), tensor(0.2506, device='cuda:0', dtype=torch.float64, grad_fn=<UnbindBackward0>), tensor(-0.1150, device='cuda:0', dtype=torch.float64,\n",
      "       grad_fn=<UnbindBackward0>), tensor(0.1651, device='cuda:0', dtype=torch.float64, grad_fn=<UnbindBackward0>), tensor(-0.5021, device='cuda:0', dtype=torch.float64,\n",
      "       grad_fn=<UnbindBackward0>)]\n",
      "detokenized ['[CLS]', 'this', 'is', 'the', 'kind', 'of', 'movie', 'that', 'you', 'only', 'need', 'to', 'watch', 'for', 'about', 'thirty', 'seconds', 'before', 'you', 'say', 'to', 'yourself', ',', '`', 'ah', ',', 'yes', ',', 'here', 'we', 'have', 'a', 'bad', ',', 'bad', ',', 'bad', 'movie', '.', \"'\", '[SEP]']\n",
      "len conti_raw 41\n",
      "conti_raw ['[CLS]', 'this', 'is', 'the', 'kind', 'of', 'movie', 'that', 'you', 'only', 'need', 'to', 'watch', 'for', 'about', 'thirty', 'seconds', 'before', 'you', 'say', 'to', 'yourself', ',', '`', 'ah', ',', 'yes', ',', 'here', 'we', 'have', 'a', 'bad', ',', 'bad', ',', 'bad', 'movie', '.', \"'\", '[SEP]']\n"
     ]
    },
    {
     "data": {
      "text/html": [
       "<table width: 100%><div style=\"border-top: 1px solid; margin-top: 5px;             padding-top: 5px; display: inline-block\"><b>Legend: </b><span style=\"display: inline-block; width: 10px; height: 10px;                 border: 1px solid; background-color:                 hsl(0, 75%, 60%)\"></span> Negative  <span style=\"display: inline-block; width: 10px; height: 10px;                 border: 1px solid; background-color:                 hsl(0, 75%, 100%)\"></span> Neutral  <span style=\"display: inline-block; width: 10px; height: 10px;                 border: 1px solid; background-color:                 hsl(120, 75%, 50%)\"></span> Positive  </div><tr><th>True Label</th><th>Predicted Label</th><th>Attribution Label</th><th>Attribution Score</th><th>Word Importance</th><tr><td><text style=\"padding-right:2em\"><b>Neg</b></text></td><td><text style=\"padding-right:2em\"><b>Neg (0.07)</b></text></td><td><text style=\"padding-right:2em\"><b>Pos</b></text></td><td><text style=\"padding-right:2em\"><b>1.08</b></text></td><td><mark style=\"background-color: hsl(120, 75%, 100%); opacity:1.0;                     line-height:1.75\"><font color=\"black\"> [CLS]                    </font></mark><mark style=\"background-color: hsl(0, 75%, 99%); opacity:1.0;                     line-height:1.75\"><font color=\"black\"> this                    </font></mark><mark style=\"background-color: hsl(0, 75%, 90%); opacity:1.0;                     line-height:1.75\"><font color=\"black\"> is                    </font></mark><mark style=\"background-color: hsl(120, 75%, 100%); opacity:1.0;                     line-height:1.75\"><font color=\"black\"> the                    </font></mark><mark style=\"background-color: hsl(120, 75%, 96%); opacity:1.0;                     line-height:1.75\"><font color=\"black\"> kind                    </font></mark><mark style=\"background-color: hsl(0, 75%, 95%); opacity:1.0;                     line-height:1.75\"><font color=\"black\"> of                    </font></mark><mark style=\"background-color: hsl(120, 75%, 85%); opacity:1.0;                     line-height:1.75\"><font color=\"black\"> movie                    </font></mark><mark style=\"background-color: hsl(0, 75%, 94%); opacity:1.0;                     line-height:1.75\"><font color=\"black\"> that                    </font></mark><mark style=\"background-color: hsl(120, 75%, 90%); opacity:1.0;                     line-height:1.75\"><font color=\"black\"> you                    </font></mark><mark style=\"background-color: hsl(0, 75%, 99%); opacity:1.0;                     line-height:1.75\"><font color=\"black\"> only                    </font></mark><mark style=\"background-color: hsl(120, 75%, 97%); opacity:1.0;                     line-height:1.75\"><font color=\"black\"> need                    </font></mark><mark style=\"background-color: hsl(0, 75%, 94%); opacity:1.0;                     line-height:1.75\"><font color=\"black\"> to                    </font></mark><mark style=\"background-color: hsl(120, 75%, 98%); opacity:1.0;                     line-height:1.75\"><font color=\"black\"> watch                    </font></mark><mark style=\"background-color: hsl(120, 75%, 100%); opacity:1.0;                     line-height:1.75\"><font color=\"black\"> for                    </font></mark><mark style=\"background-color: hsl(120, 75%, 99%); opacity:1.0;                     line-height:1.75\"><font color=\"black\"> about                    </font></mark><mark style=\"background-color: hsl(120, 75%, 97%); opacity:1.0;                     line-height:1.75\"><font color=\"black\"> thirty                    </font></mark><mark style=\"background-color: hsl(120, 75%, 97%); opacity:1.0;                     line-height:1.75\"><font color=\"black\"> seconds                    </font></mark><mark style=\"background-color: hsl(0, 75%, 97%); opacity:1.0;                     line-height:1.75\"><font color=\"black\"> before                    </font></mark><mark style=\"background-color: hsl(120, 75%, 90%); opacity:1.0;                     line-height:1.75\"><font color=\"black\"> you                    </font></mark><mark style=\"background-color: hsl(120, 75%, 97%); opacity:1.0;                     line-height:1.75\"><font color=\"black\"> say                    </font></mark><mark style=\"background-color: hsl(0, 75%, 94%); opacity:1.0;                     line-height:1.75\"><font color=\"black\"> to                    </font></mark><mark style=\"background-color: hsl(120, 75%, 96%); opacity:1.0;                     line-height:1.75\"><font color=\"black\"> yourself                    </font></mark><mark style=\"background-color: hsl(0, 75%, 99%); opacity:1.0;                     line-height:1.75\"><font color=\"black\"> ,                    </font></mark><mark style=\"background-color: hsl(0, 75%, 98%); opacity:1.0;                     line-height:1.75\"><font color=\"black\"> `                    </font></mark><mark style=\"background-color: hsl(120, 75%, 94%); opacity:1.0;                     line-height:1.75\"><font color=\"black\"> ah                    </font></mark><mark style=\"background-color: hsl(0, 75%, 99%); opacity:1.0;                     line-height:1.75\"><font color=\"black\"> ,                    </font></mark><mark style=\"background-color: hsl(120, 75%, 92%); opacity:1.0;                     line-height:1.75\"><font color=\"black\"> yes                    </font></mark><mark style=\"background-color: hsl(0, 75%, 99%); opacity:1.0;                     line-height:1.75\"><font color=\"black\"> ,                    </font></mark><mark style=\"background-color: hsl(120, 75%, 94%); opacity:1.0;                     line-height:1.75\"><font color=\"black\"> here                    </font></mark><mark style=\"background-color: hsl(120, 75%, 90%); opacity:1.0;                     line-height:1.75\"><font color=\"black\"> we                    </font></mark><mark style=\"background-color: hsl(0, 75%, 100%); opacity:1.0;                     line-height:1.75\"><font color=\"black\"> have                    </font></mark><mark style=\"background-color: hsl(0, 75%, 99%); opacity:1.0;                     line-height:1.75\"><font color=\"black\"> a                    </font></mark><mark style=\"background-color: hsl(120, 75%, 90%); opacity:1.0;                     line-height:1.75\"><font color=\"black\"> bad                    </font></mark><mark style=\"background-color: hsl(0, 75%, 100%); opacity:1.0;                     line-height:1.75\"><font color=\"black\"> ,                    </font></mark><mark style=\"background-color: hsl(120, 75%, 90%); opacity:1.0;                     line-height:1.75\"><font color=\"black\"> bad                    </font></mark><mark style=\"background-color: hsl(0, 75%, 99%); opacity:1.0;                     line-height:1.75\"><font color=\"black\"> ,                    </font></mark><mark style=\"background-color: hsl(120, 75%, 92%); opacity:1.0;                     line-height:1.75\"><font color=\"black\"> bad                    </font></mark><mark style=\"background-color: hsl(120, 75%, 88%); opacity:1.0;                     line-height:1.75\"><font color=\"black\"> movie                    </font></mark><mark style=\"background-color: hsl(0, 75%, 96%); opacity:1.0;                     line-height:1.75\"><font color=\"black\"> .                    </font></mark><mark style=\"background-color: hsl(120, 75%, 92%); opacity:1.0;                     line-height:1.75\"><font color=\"black\"> '                    </font></mark><mark style=\"background-color: hsl(0, 75%, 80%); opacity:1.0;                     line-height:1.75\"><font color=\"black\"> [SEP]                    </font></mark></td><tr></table>"
      ],
      "text/plain": [
       "<IPython.core.display.HTML object>"
      ]
     },
     "metadata": {},
     "output_type": "display_data"
    },
    {
     "name": "stdout",
     "output_type": "stream",
     "text": [
      "<IPython.core.display.HTML object>\n",
      "Raw review: feel sanitised and stagey \n",
      "GT target: 0\n",
      "word attr tensor([ 0.3269, -0.4150, -0.0911,  0.0674,  0.6365,  0.4124, -0.3590,  0.0010,\n",
      "         0.0624], device='cuda:0', dtype=torch.float64,\n",
      "       grad_fn=<AsStridedBackward0>)\n",
      "conti attr [tensor(0.3269, device='cuda:0', dtype=torch.float64, grad_fn=<UnbindBackward0>), tensor(-0.4150, device='cuda:0', dtype=torch.float64,\n",
      "       grad_fn=<UnbindBackward0>), tensor(0.3123, device='cuda:0', dtype=torch.float64, grad_fn=<DivBackward0>), tensor(0.4124, device='cuda:0', dtype=torch.float64, grad_fn=<UnbindBackward0>), tensor(-0.1790, device='cuda:0', dtype=torch.float64, grad_fn=<DivBackward0>), tensor(0.0624, device='cuda:0', dtype=torch.float64, grad_fn=<UnbindBackward0>)]\n",
      "detokenized ['[CLS]', 'feel', 'san', 'itis', 'ed', 'and', 'stage', 'y', '[SEP]']\n",
      "len conti_raw 6\n",
      "conti_raw ['[CLS]', 'feel', 'sanitised', 'and', 'stagey', '[SEP]']\n"
     ]
    },
    {
     "data": {
      "text/html": [
       "<table width: 100%><div style=\"border-top: 1px solid; margin-top: 5px;             padding-top: 5px; display: inline-block\"><b>Legend: </b><span style=\"display: inline-block; width: 10px; height: 10px;                 border: 1px solid; background-color:                 hsl(0, 75%, 60%)\"></span> Negative  <span style=\"display: inline-block; width: 10px; height: 10px;                 border: 1px solid; background-color:                 hsl(0, 75%, 100%)\"></span> Neutral  <span style=\"display: inline-block; width: 10px; height: 10px;                 border: 1px solid; background-color:                 hsl(120, 75%, 50%)\"></span> Positive  </div><tr><th>True Label</th><th>Predicted Label</th><th>Attribution Label</th><th>Attribution Score</th><th>Word Importance</th><tr><td><text style=\"padding-right:2em\"><b>Neg</b></text></td><td><text style=\"padding-right:2em\"><b>Neg (0.03)</b></text></td><td><text style=\"padding-right:2em\"><b>Pos</b></text></td><td><text style=\"padding-right:2em\"><b>0.64</b></text></td><td><mark style=\"background-color: hsl(120, 75%, 84%); opacity:1.0;                     line-height:1.75\"><font color=\"black\"> [CLS]                    </font></mark><mark style=\"background-color: hsl(0, 75%, 84%); opacity:1.0;                     line-height:1.75\"><font color=\"black\"> feel                    </font></mark><mark style=\"background-color: hsl(120, 75%, 85%); opacity:1.0;                     line-height:1.75\"><font color=\"black\"> sanitised                    </font></mark><mark style=\"background-color: hsl(120, 75%, 80%); opacity:1.0;                     line-height:1.75\"><font color=\"black\"> and                    </font></mark><mark style=\"background-color: hsl(0, 75%, 93%); opacity:1.0;                     line-height:1.75\"><font color=\"black\"> stagey                    </font></mark><mark style=\"background-color: hsl(120, 75%, 97%); opacity:1.0;                     line-height:1.75\"><font color=\"black\"> [SEP]                    </font></mark></td><tr></table>"
      ],
      "text/plain": [
       "<IPython.core.display.HTML object>"
      ]
     },
     "metadata": {},
     "output_type": "display_data"
    },
    {
     "name": "stdout",
     "output_type": "stream",
     "text": [
      "<IPython.core.display.HTML object>\n",
      "Raw review: replete with stereotypical familial quandaries \n",
      "GT target: 0\n",
      "word attr tensor([ 0.2969,  0.1196,  0.5436, -0.0086, -0.0599,  0.1442, -0.0751, -0.0914,\n",
      "         0.0243,  0.0562,  0.0125, -0.3559, -0.2448, -0.6108], device='cuda:0',\n",
      "       dtype=torch.float64, grad_fn=<AsStridedBackward0>)\n",
      "conti attr [tensor(0.2969, device='cuda:0', dtype=torch.float64, grad_fn=<UnbindBackward0>), tensor(0.3316, device='cuda:0', dtype=torch.float64, grad_fn=<DivBackward0>), tensor(-0.0086, device='cuda:0', dtype=torch.float64,\n",
      "       grad_fn=<UnbindBackward0>), tensor(0.0422, device='cuda:0', dtype=torch.float64, grad_fn=<DivBackward0>), tensor(0.0134, device='cuda:0', dtype=torch.float64, grad_fn=<DivBackward0>), tensor(-0.2083, device='cuda:0', dtype=torch.float64, grad_fn=<DivBackward0>), tensor(-0.6108, device='cuda:0', dtype=torch.float64,\n",
      "       grad_fn=<UnbindBackward0>)]\n",
      "detokenized ['[CLS]', 'rep', 'lete', 'with', 'stereo', 'typical', 'fa', 'mi', 'lia', 'l', 'quan', 'dar', 'ies', '[SEP]']\n",
      "len conti_raw 7\n",
      "conti_raw ['[CLS]', 'replete', 'with', 'stereotypical', 'familial', 'quandaries', '[SEP]']\n"
     ]
    },
    {
     "data": {
      "text/html": [
       "<table width: 100%><div style=\"border-top: 1px solid; margin-top: 5px;             padding-top: 5px; display: inline-block\"><b>Legend: </b><span style=\"display: inline-block; width: 10px; height: 10px;                 border: 1px solid; background-color:                 hsl(0, 75%, 60%)\"></span> Negative  <span style=\"display: inline-block; width: 10px; height: 10px;                 border: 1px solid; background-color:                 hsl(0, 75%, 100%)\"></span> Neutral  <span style=\"display: inline-block; width: 10px; height: 10px;                 border: 1px solid; background-color:                 hsl(120, 75%, 50%)\"></span> Positive  </div><tr><th>True Label</th><th>Predicted Label</th><th>Attribution Label</th><th>Attribution Score</th><th>Word Importance</th><tr><td><text style=\"padding-right:2em\"><b>Neg</b></text></td><td><text style=\"padding-right:2em\"><b>Neg (0.08)</b></text></td><td><text style=\"padding-right:2em\"><b>Neg</b></text></td><td><text style=\"padding-right:2em\"><b>-0.25</b></text></td><td><mark style=\"background-color: hsl(120, 75%, 86%); opacity:1.0;                     line-height:1.75\"><font color=\"black\"> [CLS]                    </font></mark><mark style=\"background-color: hsl(120, 75%, 84%); opacity:1.0;                     line-height:1.75\"><font color=\"black\"> replete                    </font></mark><mark style=\"background-color: hsl(0, 75%, 100%); opacity:1.0;                     line-height:1.75\"><font color=\"black\"> with                    </font></mark><mark style=\"background-color: hsl(120, 75%, 98%); opacity:1.0;                     line-height:1.75\"><font color=\"black\"> stereotypical                    </font></mark><mark style=\"background-color: hsl(120, 75%, 100%); opacity:1.0;                     line-height:1.75\"><font color=\"black\"> familial                    </font></mark><mark style=\"background-color: hsl(0, 75%, 92%); opacity:1.0;                     line-height:1.75\"><font color=\"black\"> quandaries                    </font></mark><mark style=\"background-color: hsl(0, 75%, 76%); opacity:1.0;                     line-height:1.75\"><font color=\"black\"> [SEP]                    </font></mark></td><tr></table>"
      ],
      "text/plain": [
       "<IPython.core.display.HTML object>"
      ]
     },
     "metadata": {},
     "output_type": "display_data"
    },
    {
     "name": "stdout",
     "output_type": "stream",
     "text": [
      "<IPython.core.display.HTML object>\n",
      "Raw review: quirky comedy \n",
      "GT target: 1\n",
      "word attr tensor([ 0.3535, -0.0075,  0.2335,  0.1203,  0.8978], device='cuda:0',\n",
      "       dtype=torch.float64, grad_fn=<AsStridedBackward0>)\n",
      "conti attr [tensor(0.3535, device='cuda:0', dtype=torch.float64, grad_fn=<UnbindBackward0>), tensor(0.1130, device='cuda:0', dtype=torch.float64, grad_fn=<DivBackward0>), tensor(0.1203, device='cuda:0', dtype=torch.float64, grad_fn=<UnbindBackward0>), tensor(0.8978, device='cuda:0', dtype=torch.float64, grad_fn=<UnbindBackward0>)]\n",
      "detokenized ['[CLS]', 'qui', 'rky', 'comedy', '[SEP]']\n",
      "len conti_raw 4\n",
      "conti_raw ['[CLS]', 'quirky', 'comedy', '[SEP]']\n"
     ]
    },
    {
     "data": {
      "text/html": [
       "<table width: 100%><div style=\"border-top: 1px solid; margin-top: 5px;             padding-top: 5px; display: inline-block\"><b>Legend: </b><span style=\"display: inline-block; width: 10px; height: 10px;                 border: 1px solid; background-color:                 hsl(0, 75%, 60%)\"></span> Negative  <span style=\"display: inline-block; width: 10px; height: 10px;                 border: 1px solid; background-color:                 hsl(0, 75%, 100%)\"></span> Neutral  <span style=\"display: inline-block; width: 10px; height: 10px;                 border: 1px solid; background-color:                 hsl(120, 75%, 50%)\"></span> Positive  </div><tr><th>True Label</th><th>Predicted Label</th><th>Attribution Label</th><th>Attribution Score</th><th>Word Importance</th><tr><td><text style=\"padding-right:2em\"><b>Pos</b></text></td><td><text style=\"padding-right:2em\"><b>Pos (0.97)</b></text></td><td><text style=\"padding-right:2em\"><b>Pos</b></text></td><td><text style=\"padding-right:2em\"><b>1.60</b></text></td><td><mark style=\"background-color: hsl(120, 75%, 83%); opacity:1.0;                     line-height:1.75\"><font color=\"black\"> [CLS]                    </font></mark><mark style=\"background-color: hsl(120, 75%, 95%); opacity:1.0;                     line-height:1.75\"><font color=\"black\"> quirky                    </font></mark><mark style=\"background-color: hsl(120, 75%, 94%); opacity:1.0;                     line-height:1.75\"><font color=\"black\"> comedy                    </font></mark><mark style=\"background-color: hsl(120, 75%, 56%); opacity:1.0;                     line-height:1.75\"><font color=\"black\"> [SEP]                    </font></mark></td><tr></table>"
      ],
      "text/plain": [
       "<IPython.core.display.HTML object>"
      ]
     },
     "metadata": {},
     "output_type": "display_data"
    },
    {
     "name": "stdout",
     "output_type": "stream",
     "text": [
      "<IPython.core.display.HTML object>\n",
      "Raw review: unrewarding \n",
      "GT target: 0\n",
      "word attr tensor([ 0.4536, -0.2069, -0.3012, -0.1737,  0.7941], device='cuda:0',\n",
      "       dtype=torch.float64, grad_fn=<AsStridedBackward0>)\n",
      "conti attr [tensor(0.4536, device='cuda:0', dtype=torch.float64, grad_fn=<UnbindBackward0>), tensor(-0.2139, device='cuda:0', dtype=torch.float64, grad_fn=<DivBackward0>), tensor(0.7941, device='cuda:0', dtype=torch.float64, grad_fn=<UnbindBackward0>)]\n",
      "detokenized ['[CLS]', 'un', 'rew', 'arding', '[SEP]']\n",
      "len conti_raw 3\n",
      "conti_raw ['[CLS]', 'unrewarding', '[SEP]']\n"
     ]
    },
    {
     "data": {
      "text/html": [
       "<table width: 100%><div style=\"border-top: 1px solid; margin-top: 5px;             padding-top: 5px; display: inline-block\"><b>Legend: </b><span style=\"display: inline-block; width: 10px; height: 10px;                 border: 1px solid; background-color:                 hsl(0, 75%, 60%)\"></span> Negative  <span style=\"display: inline-block; width: 10px; height: 10px;                 border: 1px solid; background-color:                 hsl(0, 75%, 100%)\"></span> Neutral  <span style=\"display: inline-block; width: 10px; height: 10px;                 border: 1px solid; background-color:                 hsl(120, 75%, 50%)\"></span> Positive  </div><tr><th>True Label</th><th>Predicted Label</th><th>Attribution Label</th><th>Attribution Score</th><th>Word Importance</th><tr><td><text style=\"padding-right:2em\"><b>Neg</b></text></td><td><text style=\"padding-right:2em\"><b>Neg (0.14)</b></text></td><td><text style=\"padding-right:2em\"><b>Pos</b></text></td><td><text style=\"padding-right:2em\"><b>0.57</b></text></td><td><mark style=\"background-color: hsl(120, 75%, 78%); opacity:1.0;                     line-height:1.75\"><font color=\"black\"> [CLS]                    </font></mark><mark style=\"background-color: hsl(0, 75%, 92%); opacity:1.0;                     line-height:1.75\"><font color=\"black\"> unrewarding                    </font></mark><mark style=\"background-color: hsl(120, 75%, 61%); opacity:1.0;                     line-height:1.75\"><font color=\"black\"> [SEP]                    </font></mark></td><tr></table>"
      ],
      "text/plain": [
       "<IPython.core.display.HTML object>"
      ]
     },
     "metadata": {},
     "output_type": "display_data"
    },
    {
     "name": "stdout",
     "output_type": "stream",
     "text": [
      "<IPython.core.display.HTML object>\n",
      "Raw review: old-hat \n",
      "GT target: 0\n",
      "word attr tensor([-0.8564, -0.1489, -0.0858,  0.0700, -0.4818], device='cuda:0',\n",
      "       dtype=torch.float64, grad_fn=<AsStridedBackward0>)\n",
      "conti attr [tensor(-0.8564, device='cuda:0', dtype=torch.float64,\n",
      "       grad_fn=<UnbindBackward0>), tensor(-0.0237, device='cuda:0', dtype=torch.float64, grad_fn=<DivBackward0>), tensor(-0.4818, device='cuda:0', dtype=torch.float64,\n",
      "       grad_fn=<UnbindBackward0>)]\n",
      "detokenized ['[CLS]', 'old', '-', 'hat', '[SEP]']\n",
      "len conti_raw 3\n",
      "conti_raw ['[CLS]', 'old-hat', '[SEP]']\n"
     ]
    },
    {
     "data": {
      "text/html": [
       "<table width: 100%><div style=\"border-top: 1px solid; margin-top: 5px;             padding-top: 5px; display: inline-block\"><b>Legend: </b><span style=\"display: inline-block; width: 10px; height: 10px;                 border: 1px solid; background-color:                 hsl(0, 75%, 60%)\"></span> Negative  <span style=\"display: inline-block; width: 10px; height: 10px;                 border: 1px solid; background-color:                 hsl(0, 75%, 100%)\"></span> Neutral  <span style=\"display: inline-block; width: 10px; height: 10px;                 border: 1px solid; background-color:                 hsl(120, 75%, 50%)\"></span> Positive  </div><tr><th>True Label</th><th>Predicted Label</th><th>Attribution Label</th><th>Attribution Score</th><th>Word Importance</th><tr><td><text style=\"padding-right:2em\"><b>Neg</b></text></td><td><text style=\"padding-right:2em\"><b>Neg (0.05)</b></text></td><td><text style=\"padding-right:2em\"><b>Neg</b></text></td><td><text style=\"padding-right:2em\"><b>-1.50</b></text></td><td><mark style=\"background-color: hsl(0, 75%, 66%); opacity:1.0;                     line-height:1.75\"><font color=\"black\"> [CLS]                    </font></mark><mark style=\"background-color: hsl(0, 75%, 100%); opacity:1.0;                     line-height:1.75\"><font color=\"black\"> old-hat                    </font></mark><mark style=\"background-color: hsl(0, 75%, 81%); opacity:1.0;                     line-height:1.75\"><font color=\"black\"> [SEP]                    </font></mark></td><tr></table>"
      ],
      "text/plain": [
       "<IPython.core.display.HTML object>"
      ]
     },
     "metadata": {},
     "output_type": "display_data"
    },
    {
     "name": "stdout",
     "output_type": "stream",
     "text": [
      "<IPython.core.display.HTML object>\n"
     ]
    }
   ],
   "source": [
    "for i, (datum_raw, target) in enumerate(zip(sst2_data_raw, targets), start=1):\n",
    "    print(f'Raw review: {datum_raw}')\n",
    "    print(f'GT target: {target}')\n",
    "    visual_record=generate_record(datum_raw, target)\n",
    "    print(visualization.visualize_text([visual_record]))\n"
   ]
  },
  {
   "cell_type": "code",
   "execution_count": 9,
   "id": "c5ca5004",
   "metadata": {},
   "outputs": [],
   "source": [
    "file_name_base = 'Integrated_Gradients'"
   ]
  },
  {
   "cell_type": "code",
   "execution_count": 10,
   "id": "ce01966e",
   "metadata": {
    "scrolled": true
   },
   "outputs": [
    {
     "data": {
      "text/plain": [
       "{'indices': [27798,\n",
       "  28244,\n",
       "  48083,\n",
       "  8795,\n",
       "  91,\n",
       "  20682,\n",
       "  59890,\n",
       "  41763,\n",
       "  19795,\n",
       "  9957,\n",
       "  28334,\n",
       "  55664,\n",
       "  16438,\n",
       "  18031,\n",
       "  9297,\n",
       "  66913,\n",
       "  9289,\n",
       "  6789,\n",
       "  25294,\n",
       "  33294,\n",
       "  29699,\n",
       "  41960,\n",
       "  6554,\n",
       "  8772,\n",
       "  17921,\n",
       "  8027,\n",
       "  49091,\n",
       "  54186,\n",
       "  15080,\n",
       "  22382,\n",
       "  23856,\n",
       "  9464,\n",
       "  23831,\n",
       "  59434,\n",
       "  17862,\n",
       "  24584,\n",
       "  26216,\n",
       "  63094,\n",
       "  55787,\n",
       "  3993,\n",
       "  25463,\n",
       "  17540,\n",
       "  51128,\n",
       "  46224,\n",
       "  32656,\n",
       "  30105,\n",
       "  28646,\n",
       "  17011,\n",
       "  7812,\n",
       "  48236],\n",
       " 'raw_data': ['its oscar nomination ',\n",
       "  'shenanigans and slapstick ',\n",
       "  'an unsettling sight , ',\n",
       "  'the climactic hourlong cricket match ',\n",
       "  'alternating between facetious comic parody and pulp melodrama , this smart-aleck movie ... tosses around some intriguing questions about the difference between human and android life ',\n",
       "  'to be a part of that elusive adult world ',\n",
       "  'emotional power ',\n",
       "  'reminds you of why animation is such a perfect medium for children , because of the way it allows the mind to enter and accept another world ',\n",
       "  'unparalleled proportions , writer-director parker ',\n",
       "  'this surprisingly decent flick ',\n",
       "  \"about the best thing you could say about narc is that it 's a rock-solid little genre picture . \",\n",
       "  'the very best ',\n",
       "  'been modeled on the worst revenge-of-the-nerds clichés the filmmakers could dredge up ',\n",
       "  'tell you ',\n",
       "  'utterly absorbing ',\n",
       "  'restate ',\n",
       "  'bears about as much resemblance to the experiences of most battered women as spider-man ',\n",
       "  'expressively performed ',\n",
       "  'the acting is amateurish , the cinematography is atrocious ',\n",
       "  'solidly constructed ',\n",
       "  \"are undermined by the movie 's presentation , which is way too stagy \",\n",
       "  'a great film ',\n",
       "  'charm ',\n",
       "  'this new jangle of noise , mayhem and stupidity ',\n",
       "  'sustains it ',\n",
       "  'is so deadly dull that watching the proverbial paint dry would be a welcome improvement . ',\n",
       "  'to accomplish ',\n",
       "  \"does n't work . \",\n",
       "  'given it a one-star rating ',\n",
       "  \"ice cube is n't quite out of ripe screwball ideas , but friday after next spreads them pretty thin \",\n",
       "  'been trying to forget ',\n",
       "  'big stars and ',\n",
       "  'of cheesy dialogue ',\n",
       "  \"the château is never quite able to overcome the cultural moat surrounding its ludicrous and contrived plot . ' \",\n",
       "  'principled ',\n",
       "  'end it all by stuffing himself into an electric pencil sharpener ',\n",
       "  'funniest idea ',\n",
       "  'silly and tedious ',\n",
       "  'two surefire , beloved genres ',\n",
       "  'most charmless ',\n",
       "  'offers us the sense that on some elemental level , lilia deeply wants to break free of her old life . ',\n",
       "  'might be best forgotten ',\n",
       "  \"a substantial arc of change that does n't produce any real transformation \",\n",
       "  'unadorned ',\n",
       "  \"this is the kind of movie that you only need to watch for about thirty seconds before you say to yourself , ` ah , yes , here we have a bad , bad , bad movie . ' \",\n",
       "  'feel sanitised and stagey ',\n",
       "  'replete with stereotypical familial quandaries ',\n",
       "  'quirky comedy ',\n",
       "  'unrewarding ',\n",
       "  'old-hat '],\n",
       " 'targets': [1,\n",
       "  1,\n",
       "  0,\n",
       "  1,\n",
       "  1,\n",
       "  1,\n",
       "  1,\n",
       "  1,\n",
       "  1,\n",
       "  1,\n",
       "  1,\n",
       "  1,\n",
       "  0,\n",
       "  1,\n",
       "  1,\n",
       "  0,\n",
       "  0,\n",
       "  1,\n",
       "  0,\n",
       "  1,\n",
       "  0,\n",
       "  1,\n",
       "  1,\n",
       "  0,\n",
       "  1,\n",
       "  0,\n",
       "  1,\n",
       "  0,\n",
       "  0,\n",
       "  0,\n",
       "  0,\n",
       "  1,\n",
       "  0,\n",
       "  0,\n",
       "  1,\n",
       "  0,\n",
       "  1,\n",
       "  0,\n",
       "  1,\n",
       "  0,\n",
       "  1,\n",
       "  0,\n",
       "  0,\n",
       "  0,\n",
       "  0,\n",
       "  0,\n",
       "  0,\n",
       "  1,\n",
       "  0,\n",
       "  0],\n",
       " 'model_out_list': [0.9578894972801208,\n",
       "  0.02607199177145958,\n",
       "  0.9280797243118286,\n",
       "  0.6026754379272461,\n",
       "  0.9272036552429199,\n",
       "  0.9597240090370178,\n",
       "  0.9770727157592773,\n",
       "  0.9707044959068298,\n",
       "  0.8834286332130432,\n",
       "  0.9658218622207642,\n",
       "  0.9529748558998108,\n",
       "  0.9749705791473389,\n",
       "  0.030051304027438164,\n",
       "  0.8954260945320129,\n",
       "  0.974568247795105,\n",
       "  0.5530857443809509,\n",
       "  0.7086556553840637,\n",
       "  0.9764208197593689,\n",
       "  0.031884290277957916,\n",
       "  0.9670499563217163,\n",
       "  0.04456028714776039,\n",
       "  0.9733861684799194,\n",
       "  0.9737695455551147,\n",
       "  0.09326992928981781,\n",
       "  0.9708950519561768,\n",
       "  0.41628754138946533,\n",
       "  0.9736232161521912,\n",
       "  0.04155701398849487,\n",
       "  0.7330113053321838,\n",
       "  0.04169812798500061,\n",
       "  0.06650674343109131,\n",
       "  0.9741768836975098,\n",
       "  0.02389264479279518,\n",
       "  0.060439176857471466,\n",
       "  0.9714932441711426,\n",
       "  0.06462432444095612,\n",
       "  0.9628397226333618,\n",
       "  0.035474635660648346,\n",
       "  0.9750030040740967,\n",
       "  0.9686804413795471,\n",
       "  0.9634529948234558,\n",
       "  0.06778600811958313,\n",
       "  0.0436873659491539,\n",
       "  0.058859918266534805,\n",
       "  0.06825332343578339,\n",
       "  0.026674073189496994,\n",
       "  0.07909509539604187,\n",
       "  0.9688959121704102,\n",
       "  0.136697456240654,\n",
       "  0.05097651481628418],\n",
       " 'raw_attr_list': [tensor([[[-4.8983e-04, -1.0648e-03,  1.9814e-03,  ..., -8.9853e-05,\n",
       "            -3.4271e-04,  1.0817e-03],\n",
       "           [ 1.7091e-03,  4.9107e-04,  2.2515e-04,  ...,  5.8780e-04,\n",
       "            -2.6529e-03,  1.9973e-03],\n",
       "           [ 4.0850e-04,  4.0567e-04, -3.8720e-04,  ..., -1.5057e-03,\n",
       "            -1.2789e-05, -4.2942e-04],\n",
       "           [-1.0353e-03, -1.7132e-03, -1.2112e-03,  ..., -2.8059e-05,\n",
       "             5.7642e-03,  2.3715e-05],\n",
       "           [ 9.7687e-03,  1.9206e-03,  4.5050e-04,  ...,  1.9229e-03,\n",
       "             1.2701e-03,  1.4089e-04]]], device='cuda:0', dtype=torch.float64,\n",
       "         grad_fn=<MulBackward0>),\n",
       "  tensor([[[-3.8789e-04, -6.2934e-05,  5.1117e-04,  ..., -1.3714e-04,\n",
       "             2.7443e-05,  6.9001e-05],\n",
       "           [ 3.8510e-04, -1.1953e-04, -1.4520e-04,  ..., -1.0731e-03,\n",
       "             4.8697e-05, -7.8792e-05],\n",
       "           [ 9.2845e-05,  2.6392e-04,  3.7175e-05,  ..., -1.2310e-04,\n",
       "             2.9431e-04, -1.7909e-04],\n",
       "           ...,\n",
       "           [-6.5237e-04, -3.4922e-04, -1.0608e-07,  ..., -2.2033e-04,\n",
       "             2.1414e-04, -9.9845e-05],\n",
       "           [ 2.4687e-04, -6.8313e-03,  5.2795e-04,  ..., -2.4505e-04,\n",
       "             3.6102e-05, -6.3335e-06],\n",
       "           [ 1.9264e-04, -4.7214e-04,  8.8316e-05,  ..., -4.4118e-04,\n",
       "             5.4467e-04,  3.5732e-05]]], device='cuda:0', dtype=torch.float64,\n",
       "         grad_fn=<MulBackward0>),\n",
       "  tensor([[[ 0.0010, -0.0030,  0.0084,  ..., -0.0005,  0.0007, -0.0041],\n",
       "           [ 0.0001, -0.0002,  0.0006,  ..., -0.0002,  0.0002, -0.0008],\n",
       "           [ 0.0007, -0.0004, -0.0018,  ...,  0.0016,  0.0089, -0.0062],\n",
       "           ...,\n",
       "           [-0.0011,  0.0027, -0.0113,  ...,  0.0054,  0.0144,  0.0076],\n",
       "           [ 0.0002, -0.0008,  0.0018,  ...,  0.0012,  0.0050, -0.0007],\n",
       "           [-0.0025, -0.0016, -0.0005,  ..., -0.0069,  0.0041,  0.0013]]],\n",
       "         device='cuda:0', dtype=torch.float64, grad_fn=<MulBackward0>),\n",
       "  tensor([[[-2.0985e-03, -2.7287e-03,  7.6532e-03,  ...,  1.5640e-04,\n",
       "             7.5472e-04,  8.5696e-04],\n",
       "           [ 2.4715e-03,  2.9794e-03,  3.6566e-04,  ...,  4.3652e-04,\n",
       "             1.0476e-02,  1.8183e-03],\n",
       "           [-4.6768e-03, -2.5486e-03, -5.2709e-03,  ...,  3.0536e-03,\n",
       "             8.2424e-03, -1.9502e-03],\n",
       "           ...,\n",
       "           [-9.0764e-03, -1.3162e-03,  3.7749e-03,  ...,  2.6383e-03,\n",
       "            -2.6806e-03, -1.0287e-02],\n",
       "           [-1.5571e-02,  6.0711e-03, -4.0752e-04,  ..., -4.1379e-05,\n",
       "             6.3188e-04, -5.0441e-03],\n",
       "           [-5.6171e-04,  2.3195e-04,  9.0240e-04,  ...,  1.8523e-04,\n",
       "             7.6299e-04, -4.4629e-04]]], device='cuda:0', dtype=torch.float64,\n",
       "         grad_fn=<MulBackward0>),\n",
       "  tensor([[[-6.5241e-04, -2.5571e-03,  2.1272e-03,  ..., -7.6565e-05,\n",
       "             2.1176e-04,  3.9152e-04],\n",
       "           [ 6.4774e-04, -7.0166e-06,  2.1413e-03,  ...,  9.9423e-04,\n",
       "             9.3423e-05, -9.8266e-04],\n",
       "           [-6.3705e-04,  2.0004e-03,  9.4009e-04,  ..., -5.7151e-05,\n",
       "             6.5935e-04, -5.2716e-04],\n",
       "           ...,\n",
       "           [-1.2331e-03,  4.8503e-04,  3.4146e-04,  ...,  1.2033e-04,\n",
       "             1.2524e-04,  1.0682e-04],\n",
       "           [-6.0028e-04,  3.1870e-04,  3.5558e-05,  ..., -7.8440e-05,\n",
       "            -1.3349e-04, -3.2043e-04],\n",
       "           [-1.2401e-04,  3.7536e-05, -3.9965e-04,  ..., -2.6084e-03,\n",
       "             4.4958e-04, -3.7463e-05]]], device='cuda:0', dtype=torch.float64,\n",
       "         grad_fn=<MulBackward0>),\n",
       "  tensor([[[ 3.1383e-04, -1.6623e-03, -1.3174e-04,  ...,  2.0098e-04,\n",
       "             1.2313e-04,  4.2314e-04],\n",
       "           [ 1.1384e-04,  1.2702e-03, -3.9660e-04,  ..., -2.1932e-03,\n",
       "             3.8885e-04,  1.3494e-03],\n",
       "           [ 8.9311e-04,  8.0624e-04, -7.7870e-04,  ..., -1.9333e-03,\n",
       "            -7.3997e-05,  2.4277e-03],\n",
       "           ...,\n",
       "           [-2.8107e-03,  6.0053e-04, -7.7735e-04,  ..., -3.2176e-03,\n",
       "             3.0454e-04, -1.5734e-03],\n",
       "           [ 2.4897e-03,  9.9806e-04,  2.5717e-04,  ...,  4.3649e-04,\n",
       "            -3.7888e-06, -8.4836e-04],\n",
       "           [-9.4362e-04, -2.0443e-05,  6.6986e-06,  ...,  3.2762e-04,\n",
       "             7.8295e-04,  1.8973e-04]]], device='cuda:0', dtype=torch.float64,\n",
       "         grad_fn=<MulBackward0>),\n",
       "  tensor([[[-2.4695e-04, -1.0390e-05,  1.0699e-03,  ..., -1.4590e-04,\n",
       "            -4.1815e-05, -1.7462e-04],\n",
       "           [ 2.1820e-03, -3.9516e-04,  4.1038e-04,  ..., -3.2450e-04,\n",
       "            -5.6815e-04,  3.9207e-03],\n",
       "           [-1.0114e-03,  6.2942e-05, -1.0664e-05,  ..., -1.8225e-03,\n",
       "            -3.1703e-03,  3.3789e-04],\n",
       "           [ 1.7029e-03,  5.2071e-04, -1.5233e-04,  ..., -2.2856e-05,\n",
       "             3.1560e-04,  9.0464e-04]]], device='cuda:0', dtype=torch.float64,\n",
       "         grad_fn=<MulBackward0>),\n",
       "  tensor([[[ 1.6601e-04,  5.5152e-04,  1.6870e-03,  ..., -2.6807e-05,\n",
       "            -1.2198e-05,  1.1881e-04],\n",
       "           [ 1.0161e-03, -6.3257e-04, -1.9161e-04,  ..., -8.4980e-04,\n",
       "             2.0477e-04,  3.1599e-04],\n",
       "           [ 9.7619e-04,  1.4794e-04, -4.9461e-04,  ...,  2.5911e-04,\n",
       "            -4.2754e-04,  2.4059e-04],\n",
       "           ...,\n",
       "           [ 9.9193e-07, -5.9160e-04, -5.3932e-05,  ..., -3.1683e-05,\n",
       "            -1.6416e-04, -1.5441e-04],\n",
       "           [-2.1730e-04, -8.4008e-04, -2.1700e-04,  ...,  2.1992e-04,\n",
       "            -2.3337e-04, -4.5545e-04],\n",
       "           [-5.7277e-04, -7.3847e-05, -1.0227e-03,  ..., -1.9625e-03,\n",
       "            -7.7254e-05,  1.6563e-05]]], device='cuda:0', dtype=torch.float64,\n",
       "         grad_fn=<MulBackward0>),\n",
       "  tensor([[[-3.4532e-03, -4.0329e-03,  6.3730e-03,  ...,  5.8585e-04,\n",
       "             8.0525e-05, -2.9722e-03],\n",
       "           [-2.6615e-03, -8.8010e-03,  3.9556e-04,  ..., -1.2016e-03,\n",
       "             1.7332e-02, -4.4992e-03],\n",
       "           [-6.2379e-04,  4.1788e-03,  2.0561e-02,  ..., -3.7681e-03,\n",
       "            -1.9965e-02, -3.9862e-03],\n",
       "           ...,\n",
       "           [ 1.8767e-02,  6.6909e-03, -1.1801e-03,  ...,  3.4717e-03,\n",
       "             7.2049e-04, -2.9149e-03],\n",
       "           [ 1.8424e-02, -1.7421e-03, -1.7550e-02,  ...,  4.9354e-03,\n",
       "             1.3826e-03, -5.6004e-04],\n",
       "           [ 1.9319e-03,  9.6126e-04,  1.0096e-03,  ..., -1.2518e-03,\n",
       "             2.0089e-03, -2.2220e-05]]], device='cuda:0', dtype=torch.float64,\n",
       "         grad_fn=<MulBackward0>),\n",
       "  tensor([[[-4.0218e-04, -2.2014e-03, -6.8644e-04,  ...,  3.0327e-04,\n",
       "            -1.1769e-04,  8.1772e-04],\n",
       "           [ 9.5038e-04,  3.7867e-03, -6.0019e-05,  ..., -2.2022e-03,\n",
       "            -3.1396e-03,  1.5594e-03],\n",
       "           [ 2.0361e-04,  4.8039e-03,  1.9257e-03,  ...,  6.2748e-04,\n",
       "             4.2995e-05,  6.8376e-04],\n",
       "           [ 4.9779e-04, -3.1570e-03,  1.0360e-04,  ..., -9.2866e-05,\n",
       "            -5.0891e-04, -2.8659e-03],\n",
       "           [ 9.9485e-04, -7.9445e-04,  4.7938e-06,  ..., -2.3442e-03,\n",
       "            -2.7103e-03, -2.7492e-03],\n",
       "           [ 1.2224e-03, -1.1552e-04, -4.3549e-04,  ...,  1.7727e-03,\n",
       "             5.0300e-04,  7.3682e-06]]], device='cuda:0', dtype=torch.float64,\n",
       "         grad_fn=<MulBackward0>),\n",
       "  tensor([[[-3.6870e-04, -9.6391e-04,  8.3898e-04,  ..., -3.3775e-05,\n",
       "            -6.5286e-05,  9.4247e-06],\n",
       "           [-1.4469e-05,  3.3772e-05, -2.0974e-04,  ...,  8.1592e-04,\n",
       "             6.9917e-05, -4.1068e-04],\n",
       "           [ 1.2115e-03,  3.5435e-04, -9.7492e-05,  ..., -1.2271e-04,\n",
       "            -2.5186e-04,  8.8011e-04],\n",
       "           ...,\n",
       "           [-1.0726e-03,  4.5315e-04, -1.4916e-04,  ..., -6.2827e-05,\n",
       "            -1.7950e-04,  7.7156e-05],\n",
       "           [ 2.4450e-04,  7.4604e-04,  1.2540e-04,  ..., -9.7642e-07,\n",
       "            -2.1534e-04, -2.5317e-04],\n",
       "           [-8.2192e-05,  3.1378e-04,  3.3956e-04,  ..., -5.0180e-04,\n",
       "            -5.1941e-05,  7.8041e-05]]], device='cuda:0', dtype=torch.float64,\n",
       "         grad_fn=<MulBackward0>),\n",
       "  tensor([[[-1.5508e-04, -2.8093e-03,  2.4413e-04,  ...,  1.5695e-04,\n",
       "            -2.3531e-05,  8.8789e-05],\n",
       "           [-6.7831e-05,  2.4756e-03,  6.3286e-06,  ...,  5.2724e-05,\n",
       "            -2.3652e-03, -1.2498e-03],\n",
       "           [ 1.9452e-04,  3.4179e-03,  5.0924e-04,  ...,  2.3348e-03,\n",
       "            -3.1734e-03,  2.8912e-04],\n",
       "           [ 1.4215e-04,  1.8973e-03, -3.2825e-03,  ..., -7.8137e-04,\n",
       "            -2.0170e-03, -5.7130e-04],\n",
       "           [ 9.7820e-05, -6.8476e-04,  2.1482e-04,  ...,  2.9670e-04,\n",
       "            -2.2304e-04,  8.1108e-05]]], device='cuda:0', dtype=torch.float64,\n",
       "         grad_fn=<MulBackward0>),\n",
       "  tensor([[[ 1.3854e-04, -5.0261e-06, -2.6196e-05,  ..., -2.1795e-05,\n",
       "            -1.1633e-05, -1.2205e-04],\n",
       "           [ 1.1431e-04,  5.8955e-04, -3.8100e-05,  ...,  4.2172e-05,\n",
       "            -2.0891e-05, -1.3054e-04],\n",
       "           [ 3.7425e-05,  5.8829e-04,  1.6585e-04,  ...,  5.8573e-06,\n",
       "             4.1440e-04,  7.2308e-06],\n",
       "           ...,\n",
       "           [-2.6382e-05, -3.3301e-04,  2.9217e-04,  ...,  2.9699e-05,\n",
       "             1.0029e-04, -1.6139e-05],\n",
       "           [-1.8167e-05, -2.2562e-04,  2.0746e-04,  ...,  1.2403e-05,\n",
       "             1.3160e-04, -4.7116e-05],\n",
       "           [-2.7908e-04,  2.8619e-04, -2.1266e-06,  ..., -9.0965e-05,\n",
       "            -8.1311e-06,  5.0724e-05]]], device='cuda:0', dtype=torch.float64,\n",
       "         grad_fn=<MulBackward0>),\n",
       "  tensor([[[-6.5488e-05, -1.0803e-03,  2.0067e-03,  ..., -3.8248e-05,\n",
       "             7.1226e-05, -9.1711e-04],\n",
       "           [-1.0536e-03, -2.0620e-03,  2.0950e-03,  ...,  4.0008e-03,\n",
       "            -8.8549e-03, -3.1880e-03],\n",
       "           [ 6.5874e-04,  3.4522e-03, -4.0289e-03,  ..., -2.3441e-04,\n",
       "             1.7485e-03, -5.4273e-04],\n",
       "           [ 1.1331e-03,  1.0179e-04,  7.3627e-04,  ...,  1.8994e-04,\n",
       "             6.0152e-04,  9.1397e-04]]], device='cuda:0', dtype=torch.float64,\n",
       "         grad_fn=<MulBackward0>),\n",
       "  tensor([[[-0.0013, -0.0026,  0.0003,  ...,  0.0002, -0.0003,  0.0038],\n",
       "           [-0.0030, -0.0002, -0.0110,  ..., -0.0016, -0.0026,  0.0027],\n",
       "           [-0.0028,  0.0005, -0.0043,  ..., -0.0029, -0.0046,  0.0012],\n",
       "           [ 0.0103,  0.0032, -0.0029,  ...,  0.0016,  0.0019, -0.0004]]],\n",
       "         device='cuda:0', dtype=torch.float64, grad_fn=<MulBackward0>),\n",
       "  tensor([[[ 0.0038, -0.0067, -0.0205,  ...,  0.0029,  0.0007, -0.0064],\n",
       "           [-0.0005, -0.0003,  0.0775,  ..., -0.0698, -0.0055, -0.0286],\n",
       "           [ 0.0082,  0.0020, -0.0549,  ..., -0.0418, -0.0320,  0.0627],\n",
       "           [-0.0151,  0.0005, -0.0130,  ...,  0.0044, -0.0031,  0.0041]]],\n",
       "         device='cuda:0', dtype=torch.float64, grad_fn=<MulBackward0>),\n",
       "  tensor([[[ 1.0836e-03, -1.1271e-03,  1.5306e-03,  ..., -3.7349e-05,\n",
       "             2.6169e-04, -1.4967e-03],\n",
       "           [ 5.9635e-03, -4.6574e-04, -8.8760e-04,  ..., -1.1012e-02,\n",
       "            -1.4510e-03,  3.3416e-04],\n",
       "           [ 1.9170e-03, -6.0048e-05, -1.0653e-03,  ..., -1.7008e-04,\n",
       "             6.2799e-04,  1.8452e-04],\n",
       "           ...,\n",
       "           [-1.2610e-05,  6.9908e-04, -8.1486e-05,  ...,  2.0950e-03,\n",
       "             6.6067e-04, -2.6167e-04],\n",
       "           [-2.7321e-04, -5.0927e-04, -8.2720e-05,  ...,  2.3347e-03,\n",
       "            -2.1488e-03,  7.3059e-04],\n",
       "           [-1.4702e-05, -5.9256e-04, -3.0244e-04,  ...,  2.1302e-04,\n",
       "            -1.5246e-03,  7.3105e-06]]], device='cuda:0', dtype=torch.float64,\n",
       "         grad_fn=<MulBackward0>),\n",
       "  tensor([[[ 1.5768e-04, -2.0600e-03, -9.2196e-04,  ..., -2.9989e-04,\n",
       "             1.1041e-04, -1.8298e-04],\n",
       "           [-4.4742e-04,  2.3736e-03, -6.4474e-04,  ..., -2.9829e-04,\n",
       "            -2.8589e-05,  1.5626e-03],\n",
       "           [ 1.5970e-03,  9.6144e-04, -9.9295e-04,  ...,  1.5313e-04,\n",
       "            -1.1497e-03,  6.0004e-04],\n",
       "           [-2.9913e-04,  1.4044e-03, -6.6167e-03,  ..., -3.5253e-03,\n",
       "             8.5132e-04, -2.0548e-04],\n",
       "           [-4.8689e-04, -4.0145e-04,  5.2817e-04,  ..., -7.3443e-04,\n",
       "             1.9971e-04,  9.5817e-05]]], device='cuda:0', dtype=torch.float64,\n",
       "         grad_fn=<MulBackward0>),\n",
       "  tensor([[[ 2.7324e-04, -6.6190e-04,  1.8978e-03,  ...,  1.0844e-04,\n",
       "             7.5177e-05,  5.8557e-04],\n",
       "           [-2.4897e-04,  5.7355e-04,  5.3137e-05,  ...,  4.4753e-05,\n",
       "             7.5607e-04, -6.5955e-04],\n",
       "           [-5.9034e-05,  1.9458e-05,  2.9537e-05,  ...,  1.0301e-03,\n",
       "             9.5375e-04, -3.1681e-05],\n",
       "           ...,\n",
       "           [-8.5564e-04, -2.0277e-04, -1.1156e-03,  ..., -2.3922e-04,\n",
       "            -2.1464e-03, -2.9261e-03],\n",
       "           [-2.7037e-04,  1.9068e-04,  1.6995e-05,  ..., -4.0215e-03,\n",
       "             6.9381e-04, -2.6214e-04],\n",
       "           [ 2.6919e-04,  7.1401e-05, -3.7355e-04,  ...,  2.1539e-04,\n",
       "             6.6826e-04,  6.0532e-05]]], device='cuda:0', dtype=torch.float64,\n",
       "         grad_fn=<MulBackward0>),\n",
       "  tensor([[[-1.2866e-03, -5.1295e-03, -2.0353e-03,  ..., -2.1361e-04,\n",
       "            -3.2727e-04, -1.3780e-03],\n",
       "           [-4.0661e-03,  6.7961e-04, -1.7507e-02,  ..., -6.7024e-06,\n",
       "             3.5257e-05,  2.0863e-03],\n",
       "           [-3.7299e-03,  8.6014e-04, -5.2063e-03,  ...,  7.9020e-05,\n",
       "            -2.1300e-03,  9.9504e-04],\n",
       "           [-1.0354e-03,  5.0770e-03, -1.5716e-02,  ...,  1.6537e-03,\n",
       "            -1.6437e-03, -9.4134e-04],\n",
       "           [ 8.6699e-03,  6.8484e-04,  1.8237e-03,  ..., -3.7155e-04,\n",
       "             1.0152e-03,  5.5241e-04]]], device='cuda:0', dtype=torch.float64,\n",
       "         grad_fn=<MulBackward0>),\n",
       "  tensor([[[-5.2683e-05, -8.2738e-05,  9.9133e-05,  ..., -2.3009e-05,\n",
       "             2.0630e-05, -8.6471e-05],\n",
       "           [-9.9163e-06,  1.0312e-04, -2.9426e-04,  ..., -9.3882e-05,\n",
       "            -2.7940e-05, -2.8077e-04],\n",
       "           [-3.0299e-05, -1.3176e-04,  6.3223e-04,  ..., -5.0369e-05,\n",
       "            -1.2258e-04, -3.7175e-04],\n",
       "           ...,\n",
       "           [ 8.0820e-05,  6.4345e-04,  5.7646e-04,  ...,  1.4195e-05,\n",
       "             2.3842e-04, -1.5259e-04],\n",
       "           [ 9.7139e-05, -1.1694e-05, -4.6175e-04,  ..., -8.7367e-05,\n",
       "            -7.6075e-06, -4.4825e-04],\n",
       "           [-2.2847e-04,  3.8909e-05, -2.1983e-04,  ..., -4.9691e-05,\n",
       "             4.4315e-06,  7.2712e-05]]], device='cuda:0', dtype=torch.float64,\n",
       "         grad_fn=<MulBackward0>),\n",
       "  tensor([[[-1.1182e-03, -2.2029e-03,  2.2836e-03,  ..., -5.0984e-06,\n",
       "            -3.3927e-04,  6.2365e-04],\n",
       "           [-3.6015e-03,  1.7697e-03, -4.5275e-05,  ...,  8.2461e-04,\n",
       "            -2.7169e-03, -3.8986e-04],\n",
       "           [-1.4234e-03,  1.0138e-04, -6.7342e-04,  ..., -1.3852e-03,\n",
       "             3.7081e-03,  5.0131e-04],\n",
       "           [-1.7787e-03,  7.9288e-05,  1.0310e-03,  ...,  2.4541e-03,\n",
       "            -3.2935e-03,  1.8351e-03],\n",
       "           [ 1.0707e-02,  1.9408e-03,  4.8862e-04,  ...,  2.7414e-03,\n",
       "             1.7882e-03,  2.7779e-04]]], device='cuda:0', dtype=torch.float64,\n",
       "         grad_fn=<MulBackward0>),\n",
       "  tensor([[[-9.6981e-04, -8.5167e-04,  1.3858e-03,  ..., -5.2524e-05,\n",
       "            -8.6725e-05, -3.5827e-04],\n",
       "           [-4.8420e-04, -1.7383e-03, -1.3145e-04,  ..., -4.6785e-04,\n",
       "            -6.1062e-03, -5.8088e-03],\n",
       "           [ 5.0400e-03,  7.4313e-05, -1.2777e-06,  ...,  6.7302e-04,\n",
       "             1.4436e-03,  1.4522e-03]]], device='cuda:0', dtype=torch.float64,\n",
       "         grad_fn=<MulBackward0>),\n",
       "  tensor([[[-2.9754e-03, -2.0603e-03,  3.9845e-03,  ..., -1.2359e-04,\n",
       "             4.1854e-04,  1.6952e-03],\n",
       "           [ 4.9727e-03,  1.9190e-03,  7.1602e-04,  ..., -1.1852e-03,\n",
       "            -1.6180e-03,  9.2647e-05],\n",
       "           [ 7.7104e-04,  2.6310e-05, -2.3758e-03,  ...,  7.6590e-03,\n",
       "            -2.3536e-03,  1.7345e-03],\n",
       "           ...,\n",
       "           [ 4.6290e-04,  1.1384e-03,  1.7594e-03,  ...,  2.8030e-03,\n",
       "            -3.8618e-03,  3.4356e-03],\n",
       "           [-6.9559e-04, -1.0889e-02, -9.7393e-04,  ...,  2.3001e-02,\n",
       "             6.3736e-03, -1.6690e-02],\n",
       "           [-2.0303e-03,  5.2790e-05,  5.6458e-04,  ..., -2.4475e-03,\n",
       "            -1.1884e-04,  3.3904e-05]]], device='cuda:0', dtype=torch.float64,\n",
       "         grad_fn=<MulBackward0>),\n",
       "  tensor([[[ 7.3035e-04, -1.5097e-03, -2.2116e-04,  ..., -2.1874e-05,\n",
       "             2.5113e-04, -9.2636e-04],\n",
       "           [ 1.4378e-04, -2.7798e-03, -1.5686e-03,  ..., -1.3654e-03,\n",
       "             6.7388e-03, -9.2971e-05],\n",
       "           [ 2.8292e-03, -7.3405e-04,  2.3029e-03,  ...,  2.5209e-04,\n",
       "             1.1511e-04,  5.0854e-04],\n",
       "           [-2.0734e-03, -1.1405e-03, -7.6367e-04,  ...,  6.9679e-04,\n",
       "             4.1923e-03,  4.7686e-04],\n",
       "           [-1.1566e-03, -3.8864e-04,  4.3355e-04,  ..., -4.3145e-04,\n",
       "             8.7234e-04,  1.1352e-04]]], device='cuda:0', dtype=torch.float64,\n",
       "         grad_fn=<MulBackward0>),\n",
       "  tensor([[[-2.2962e-03,  1.5159e-03,  4.0293e-03,  ...,  1.0873e-04,\n",
       "             5.1155e-04, -9.5435e-04],\n",
       "           [-9.4565e-04,  8.0802e-07,  3.8428e-03,  ..., -4.0269e-03,\n",
       "             2.2668e-03,  5.7832e-04],\n",
       "           [ 2.3095e-03,  2.5546e-03,  1.8347e-04,  ...,  4.2781e-04,\n",
       "             2.4690e-03,  1.5020e-03],\n",
       "           ...,\n",
       "           [ 1.3253e-03,  1.0982e-02,  5.6142e-04,  ..., -1.4663e-03,\n",
       "            -9.7969e-03, -3.4898e-03],\n",
       "           [ 6.2943e-04,  2.2855e-03, -6.2067e-05,  ...,  2.5062e-03,\n",
       "             2.4063e-03,  3.1903e-03],\n",
       "           [ 8.7200e-04,  5.1678e-05,  6.4625e-04,  ..., -3.1613e-04,\n",
       "             2.2730e-04, -6.5915e-04]]], device='cuda:0', dtype=torch.float64,\n",
       "         grad_fn=<MulBackward0>),\n",
       "  tensor([[[-2.7987e-04, -1.6433e-03, -1.3922e-04,  ...,  6.1716e-04,\n",
       "             3.5178e-04,  2.1392e-03],\n",
       "           [-5.4242e-03,  8.1001e-05, -1.0717e-03,  ..., -7.5512e-03,\n",
       "             2.0770e-03,  6.5913e-03],\n",
       "           [ 1.0819e-03,  4.1147e-04,  5.7852e-04,  ..., -5.1813e-03,\n",
       "             3.1930e-03, -3.9416e-03],\n",
       "           [ 7.1097e-04,  2.5474e-04, -1.3855e-03,  ...,  1.7766e-03,\n",
       "             9.7084e-04, -1.5761e-03]]], device='cuda:0', dtype=torch.float64,\n",
       "         grad_fn=<MulBackward0>),\n",
       "  tensor([[[-1.3180e-04, -1.9807e-04,  6.5083e-04,  ..., -6.4740e-05,\n",
       "            -5.4226e-05, -5.8490e-04],\n",
       "           [-4.8253e-04, -5.3533e-04,  4.4099e-04,  ..., -3.9107e-05,\n",
       "            -1.3827e-04,  9.9104e-04],\n",
       "           [ 4.4438e-05, -7.2337e-05, -1.2689e-03,  ...,  1.9313e-04,\n",
       "            -1.5852e-04, -8.4378e-04],\n",
       "           ...,\n",
       "           [-1.1372e-03,  3.5939e-04,  9.3355e-05,  ..., -2.6047e-04,\n",
       "             1.1605e-04, -6.4467e-04],\n",
       "           [ 5.2632e-05,  1.7549e-05,  6.3348e-04,  ...,  1.3163e-04,\n",
       "            -1.3763e-04, -2.0517e-03],\n",
       "           [ 5.9691e-04, -2.1172e-04, -1.5142e-04,  ..., -1.1962e-04,\n",
       "             3.6532e-04,  2.8726e-04]]], device='cuda:0', dtype=torch.float64,\n",
       "         grad_fn=<MulBackward0>),\n",
       "  tensor([[[-1.1975e-03, -8.3589e-03,  7.8574e-03,  ..., -1.6497e-04,\n",
       "             3.9666e-05,  1.5368e-04],\n",
       "           [-1.2543e-02,  9.3467e-04, -7.7421e-03,  ..., -2.5742e-03,\n",
       "            -7.2044e-04,  1.6797e-02],\n",
       "           [ 8.4911e-03, -2.2757e-04,  3.5586e-04,  ...,  7.0386e-04,\n",
       "             3.0043e-03, -3.8804e-04],\n",
       "           ...,\n",
       "           [-4.4073e-03,  9.6842e-03,  4.5587e-03,  ...,  1.8318e-03,\n",
       "             3.8737e-03, -3.8145e-03],\n",
       "           [-1.5499e-02, -6.9942e-03,  2.6338e-03,  ..., -1.5243e-03,\n",
       "            -4.4776e-03,  2.1267e-02],\n",
       "           [ 1.8639e-04, -1.9206e-03,  5.1753e-04,  ..., -2.7685e-03,\n",
       "             3.8208e-03, -1.3165e-04]]], device='cuda:0', dtype=torch.float64,\n",
       "         grad_fn=<MulBackward0>),\n",
       "  tensor([[[-2.2266e-05,  4.1519e-04, -9.3283e-05,  ..., -3.4361e-05,\n",
       "            -4.2787e-05, -2.7977e-04],\n",
       "           [-4.5473e-05, -8.6268e-06,  1.7235e-04,  ...,  1.7533e-05,\n",
       "            -2.1682e-04, -7.6849e-04],\n",
       "           [-1.5729e-04, -6.7750e-04, -3.9697e-04,  ...,  3.8686e-05,\n",
       "            -5.2365e-07,  4.9407e-04],\n",
       "           ...,\n",
       "           [-1.6691e-04,  3.6490e-04, -1.3735e-04,  ...,  7.9753e-05,\n",
       "            -1.3621e-04, -3.8145e-04],\n",
       "           [-3.8464e-04, -8.9210e-04, -4.0573e-05,  ..., -2.4707e-05,\n",
       "            -9.1918e-05, -1.2287e-04],\n",
       "           [ 8.5335e-06,  1.7670e-04, -4.1836e-06,  ..., -7.9267e-05,\n",
       "             1.1564e-06,  3.4478e-04]]], device='cuda:0', dtype=torch.float64,\n",
       "         grad_fn=<MulBackward0>),\n",
       "  tensor([[[ 6.6993e-05, -6.4207e-04, -6.9297e-05,  ...,  3.5124e-05,\n",
       "            -3.7423e-05,  3.7787e-05],\n",
       "           [ 5.2686e-04,  2.3237e-03,  4.3047e-05,  ..., -5.4215e-04,\n",
       "             8.0274e-04,  4.4527e-05],\n",
       "           [ 3.4910e-04, -6.7338e-04, -3.2294e-04,  ...,  2.4265e-04,\n",
       "             9.2664e-04,  6.1762e-04],\n",
       "           [ 3.0657e-04,  4.3001e-04,  5.9951e-05,  ..., -6.4958e-04,\n",
       "            -9.4667e-05,  2.3469e-04],\n",
       "           [-3.2537e-03,  5.1180e-03, -1.9218e-04,  ..., -1.4450e-04,\n",
       "             3.3900e-04, -3.6319e-05],\n",
       "           [-2.4151e-04, -3.6391e-04, -9.6098e-05,  ...,  4.1486e-04,\n",
       "            -8.7805e-05,  9.8285e-05]]], device='cuda:0', dtype=torch.float64,\n",
       "         grad_fn=<MulBackward0>),\n",
       "  tensor([[[-1.0126e-03, -1.4679e-03,  2.6592e-03,  ..., -1.9372e-04,\n",
       "             2.0614e-05, -2.9785e-04],\n",
       "           [ 3.9260e-05,  1.0661e-03,  1.0657e-03,  ...,  3.7800e-04,\n",
       "             3.6442e-03,  2.5949e-03],\n",
       "           [-1.4999e-04, -6.9162e-04,  4.3839e-03,  ...,  8.2580e-04,\n",
       "             3.1575e-04,  2.3116e-03],\n",
       "           [ 1.2177e-03,  2.8612e-04,  5.4614e-04,  ...,  4.4910e-03,\n",
       "             8.6858e-04, -2.4078e-03],\n",
       "           [ 8.1033e-03,  1.3478e-03, -3.6981e-05,  ...,  8.0820e-04,\n",
       "             1.4976e-03,  5.5274e-04]]], device='cuda:0', dtype=torch.float64,\n",
       "         grad_fn=<MulBackward0>),\n",
       "  tensor([[[-4.9416e-04, -3.7572e-03,  1.1735e-03,  ..., -9.8051e-05,\n",
       "             2.9067e-04, -1.4126e-03],\n",
       "           [ 8.6882e-04,  2.9955e-03, -3.8526e-04,  ...,  3.8215e-03,\n",
       "             9.6682e-04, -1.5833e-03],\n",
       "           [ 1.2444e-04, -2.2003e-03, -4.3683e-04,  ..., -3.9651e-03,\n",
       "             8.9855e-05,  5.2031e-04],\n",
       "           ...,\n",
       "           [ 2.5482e-03, -1.6331e-03,  5.8964e-04,  ..., -1.4097e-03,\n",
       "             3.7858e-03, -3.6162e-03],\n",
       "           [ 3.8771e-03,  8.4282e-04, -4.1640e-04,  ..., -8.8970e-04,\n",
       "            -3.6865e-04,  1.1173e-02],\n",
       "           [ 5.2148e-04, -1.6019e-03,  8.0159e-04,  ..., -1.9292e-03,\n",
       "             2.1754e-03,  4.1207e-04]]], device='cuda:0', dtype=torch.float64,\n",
       "         grad_fn=<MulBackward0>),\n",
       "  tensor([[[ 1.7468e-05,  5.4591e-05,  1.2307e-04,  ...,  1.4527e-04,\n",
       "            -9.4735e-06,  3.8722e-04],\n",
       "           [-5.8880e-05,  3.0511e-04, -1.3844e-05,  ...,  6.5175e-05,\n",
       "            -2.4528e-04, -1.2135e-03],\n",
       "           [-5.4675e-05, -1.5937e-04,  2.4087e-05,  ...,  1.2048e-04,\n",
       "             1.4721e-05, -4.6681e-04],\n",
       "           ...,\n",
       "           [-4.6873e-06,  1.0546e-04,  5.2322e-05,  ..., -7.6916e-04,\n",
       "             3.7181e-04,  1.0586e-03],\n",
       "           [-3.5758e-04, -2.9034e-05,  1.1281e-04,  ..., -1.5391e-03,\n",
       "            -2.4998e-04, -1.0718e-03],\n",
       "           [-9.9993e-04,  1.3014e-04, -1.5258e-04,  ...,  3.1976e-04,\n",
       "             6.2723e-05, -2.1357e-04]]], device='cuda:0', dtype=torch.float64,\n",
       "         grad_fn=<MulBackward0>),\n",
       "  tensor([[[ 2.3295e-03,  5.7372e-05,  3.4145e-03,  ..., -1.4080e-06,\n",
       "             4.1098e-04,  1.8082e-04],\n",
       "           [ 2.1922e-03, -1.6798e-03,  1.4824e-02,  ..., -1.6654e-03,\n",
       "            -5.8637e-04, -2.7236e-03],\n",
       "           [ 5.0458e-03,  7.1841e-03, -2.1121e-03,  ...,  9.0747e-03,\n",
       "             1.0272e-03,  9.1353e-04],\n",
       "           [-2.7221e-03,  5.2445e-04,  1.1086e-03,  ..., -8.8336e-05,\n",
       "             2.3817e-03,  4.8939e-04]]], device='cuda:0', dtype=torch.float64,\n",
       "         grad_fn=<MulBackward0>),\n",
       "  tensor([[[-1.3726e-04, -1.5551e-05,  1.2584e-04,  ...,  4.4239e-05,\n",
       "             1.6755e-05, -1.5025e-04],\n",
       "           [ 6.2347e-04, -1.0936e-03,  1.1800e-05,  ..., -1.9502e-04,\n",
       "             8.8876e-04,  2.7479e-04],\n",
       "           [-5.8335e-04, -1.2657e-04,  1.0202e-05,  ..., -2.4699e-04,\n",
       "             5.4358e-04, -7.1184e-05],\n",
       "           ...,\n",
       "           [-8.5641e-06, -1.1581e-03,  5.1168e-05,  ..., -1.7492e-05,\n",
       "             5.1016e-05, -7.7459e-05],\n",
       "           [-7.3048e-05, -4.9295e-04,  4.1932e-06,  ...,  3.4279e-05,\n",
       "             2.0075e-05,  2.7003e-05],\n",
       "           [-6.7208e-04,  2.1850e-04, -2.3407e-04,  ..., -1.9105e-04,\n",
       "             4.0368e-05, -1.4571e-05]]], device='cuda:0', dtype=torch.float64,\n",
       "         grad_fn=<MulBackward0>),\n",
       "  tensor([[[ 5.9572e-05,  4.4335e-04,  1.8047e-03,  ...,  9.2994e-05,\n",
       "            -7.2353e-05,  8.0040e-04],\n",
       "           [-2.1163e-03,  2.1858e-04,  6.8969e-05,  ..., -1.4273e-03,\n",
       "            -8.8038e-04,  2.9868e-04],\n",
       "           [ 1.1520e-03,  1.0054e-03, -5.3339e-04,  ...,  1.8998e-03,\n",
       "            -2.4453e-04, -4.1969e-03],\n",
       "           [ 4.7582e-03, -6.8004e-05, -1.9881e-03,  ...,  6.9837e-04,\n",
       "            -6.9936e-04, -4.8581e-04],\n",
       "           [-5.9646e-04, -9.9730e-05,  1.1421e-04,  ...,  1.4899e-04,\n",
       "             9.0283e-05, -1.9326e-03],\n",
       "           [-7.7906e-05,  1.3095e-03,  2.4341e-05,  ...,  5.4706e-04,\n",
       "            -3.5384e-04,  2.5082e-04]]], device='cuda:0', dtype=torch.float64,\n",
       "         grad_fn=<MulBackward0>),\n",
       "  tensor([[[-1.0361e-03, -4.6579e-04,  5.3353e-03,  ...,  3.2747e-04,\n",
       "            -4.6424e-05,  1.2722e-03],\n",
       "           [ 3.4198e-03, -1.3045e-03,  7.8620e-04,  ..., -4.9707e-03,\n",
       "             5.5410e-05, -7.2178e-03],\n",
       "           [ 2.7332e-03,  1.3043e-03,  6.2713e-04,  ..., -3.6214e-03,\n",
       "            -5.0383e-04, -5.7462e-04],\n",
       "           [-4.5929e-03, -2.3015e-03,  7.9449e-04,  ..., -3.5867e-04,\n",
       "            -6.5607e-03,  1.2155e-02],\n",
       "           [ 9.2037e-03, -1.8237e-02,  4.2148e-03,  ...,  3.1406e-03,\n",
       "            -1.4734e-03,  2.7490e-03],\n",
       "           [-9.4930e-04, -1.1298e-03,  1.6534e-03,  ...,  2.9245e-03,\n",
       "             3.2729e-04, -3.0444e-04]]], device='cuda:0', dtype=torch.float64,\n",
       "         grad_fn=<MulBackward0>),\n",
       "  tensor([[[-2.7489e-04, -6.8857e-04,  4.9521e-04,  ..., -7.7295e-05,\n",
       "            -2.0967e-04,  3.1268e-04],\n",
       "           [-8.2529e-04,  3.4383e-04, -1.7371e-05,  ...,  3.6158e-05,\n",
       "             4.8688e-04,  8.3827e-04],\n",
       "           [ 2.5001e-03,  9.5806e-05,  3.1187e-04,  ..., -4.2172e-04,\n",
       "            -3.5007e-04, -3.5648e-04],\n",
       "           ...,\n",
       "           [ 4.5542e-03,  1.3217e-04,  4.0483e-04,  ...,  1.2540e-03,\n",
       "            -2.6710e-06, -2.6761e-06],\n",
       "           [-2.1797e-03,  3.9461e-04, -1.0011e-04,  ...,  1.3720e-04,\n",
       "            -8.9535e-04,  3.1586e-03],\n",
       "           [ 9.5432e-04, -4.5837e-04, -1.8231e-04,  ..., -2.2257e-03,\n",
       "             6.9263e-04,  1.7463e-04]]], device='cuda:0', dtype=torch.float64,\n",
       "         grad_fn=<MulBackward0>),\n",
       "  tensor([[[ 3.4293e-04,  5.5317e-05, -1.3011e-03,  ...,  1.1115e-04,\n",
       "            -5.0247e-05,  8.7933e-04],\n",
       "           [ 1.6378e-03,  3.5671e-03, -4.7779e-04,  ..., -3.3007e-03,\n",
       "             2.2203e-03, -1.3686e-03],\n",
       "           [ 3.2637e-04,  8.8024e-03,  2.2834e-03,  ...,  3.5484e-03,\n",
       "            -3.1546e-03,  5.3310e-05],\n",
       "           [ 5.9090e-04,  9.9344e-05, -2.8069e-03,  ...,  5.4358e-04,\n",
       "            -4.9430e-04,  2.7587e-03],\n",
       "           [-1.0665e-03, -2.7211e-06,  3.2550e-04,  ...,  3.1784e-04,\n",
       "             5.3411e-04, -1.1564e-04]]], device='cuda:0', dtype=torch.float64,\n",
       "         grad_fn=<MulBackward0>),\n",
       "  tensor([[[-7.8712e-05, -6.2870e-04,  9.0745e-04,  ..., -7.0953e-05,\n",
       "            -6.3909e-05, -6.4041e-06],\n",
       "           [ 2.6032e-03,  1.0494e-04, -5.5999e-04,  ..., -2.6863e-04,\n",
       "             5.1629e-04,  1.7712e-03],\n",
       "           [ 6.9584e-04,  3.4089e-06,  2.1146e-03,  ..., -7.9263e-04,\n",
       "            -2.4327e-03, -4.3447e-04],\n",
       "           ...,\n",
       "           [-9.9424e-05,  3.8474e-04, -7.1017e-05,  ...,  9.4953e-06,\n",
       "             5.6163e-05,  1.0840e-04],\n",
       "           [ 4.8396e-05,  4.3802e-04,  4.3536e-04,  ..., -1.8596e-04,\n",
       "             8.2584e-05,  2.7892e-04],\n",
       "           [-5.2938e-04,  4.5906e-04, -1.4416e-05,  ..., -3.8983e-04,\n",
       "            -1.8024e-05,  2.4067e-04]]], device='cuda:0', dtype=torch.float64,\n",
       "         grad_fn=<MulBackward0>),\n",
       "  tensor([[[-6.2346e-04, -2.7969e-04,  9.7476e-04,  ..., -8.0573e-05,\n",
       "            -2.4289e-04, -6.6046e-04],\n",
       "           [-4.8588e-04, -2.3306e-03,  3.7777e-04,  ...,  6.8765e-05,\n",
       "            -4.5188e-05,  4.8283e-03],\n",
       "           [-3.2229e-04,  2.7935e-04,  1.7923e-03,  ..., -1.9497e-04,\n",
       "             2.2665e-04, -1.2759e-03],\n",
       "           [ 3.2251e-04,  1.1273e-03,  2.4547e-03,  ..., -3.2204e-05,\n",
       "            -3.5511e-04,  6.3045e-04],\n",
       "           [ 3.3423e-04,  2.0919e-03, -2.8079e-03,  ...,  1.0618e-04,\n",
       "            -2.0608e-04, -4.1130e-04],\n",
       "           [ 7.8070e-04, -3.8369e-04,  4.1591e-04,  ..., -5.5143e-04,\n",
       "            -4.3415e-05,  3.2613e-04]]], device='cuda:0', dtype=torch.float64,\n",
       "         grad_fn=<MulBackward0>),\n",
       "  tensor([[[-6.3081e-05,  6.8022e-05, -2.6682e-05,  ...,  7.4595e-06,\n",
       "            -8.0756e-07, -6.9691e-05],\n",
       "           [ 1.4795e-04,  2.2511e-04, -1.8726e-05,  ..., -5.1437e-05,\n",
       "            -3.3650e-05, -3.1989e-04],\n",
       "           [-5.9077e-05, -2.4948e-04,  4.2202e-04,  ...,  9.2684e-06,\n",
       "             8.0371e-05,  1.1851e-04],\n",
       "           ...,\n",
       "           [ 2.2428e-07,  2.4534e-04, -2.6797e-04,  ..., -2.2264e-05,\n",
       "             5.3212e-05, -2.1053e-04],\n",
       "           [ 1.0728e-04,  3.3416e-04,  1.6907e-04,  ...,  2.5593e-04,\n",
       "            -2.0415e-04,  6.7380e-04],\n",
       "           [-1.0240e-04,  4.6515e-04, -2.5824e-04,  ..., -2.7077e-06,\n",
       "            -2.7844e-05, -3.3230e-05]]], device='cuda:0', dtype=torch.float64,\n",
       "         grad_fn=<MulBackward0>),\n",
       "  tensor([[[-9.6083e-04, -1.6955e-03,  1.8124e-03,  ...,  2.5481e-04,\n",
       "             2.2423e-05, -3.9708e-04],\n",
       "           [-2.9837e-03, -2.3823e-06,  7.4407e-03,  ...,  9.9293e-04,\n",
       "            -3.5048e-03, -4.0428e-04],\n",
       "           [-1.1656e-03,  5.3270e-04, -6.1448e-04,  ..., -4.0187e-04,\n",
       "             9.7170e-04, -2.0795e-03],\n",
       "           [ 1.3230e-03, -9.5129e-04,  1.9297e-04,  ..., -5.3187e-03,\n",
       "            -8.8665e-05,  9.8664e-04],\n",
       "           [-8.9352e-04, -3.2268e-04, -1.4366e-04,  ...,  1.1677e-03,\n",
       "             1.6625e-04,  4.4352e-04]]], device='cuda:0', dtype=torch.float64,\n",
       "         grad_fn=<MulBackward0>),\n",
       "  tensor([[[-9.9195e-05, -5.4763e-05,  8.8821e-05,  ..., -4.8208e-05,\n",
       "            -4.2074e-05, -1.0298e-04],\n",
       "           [ 2.6935e-04,  1.8768e-04,  1.7024e-05,  ...,  1.3637e-04,\n",
       "            -1.9356e-05, -1.4315e-04],\n",
       "           [ 3.2219e-06, -3.0346e-05, -1.1526e-05,  ...,  1.5457e-04,\n",
       "             8.7713e-06, -5.3889e-04],\n",
       "           ...,\n",
       "           [ 1.5336e-04,  2.8588e-05,  5.6021e-06,  ..., -1.9703e-06,\n",
       "             1.9236e-04, -3.6903e-04],\n",
       "           [ 7.7051e-05,  7.7726e-05, -2.7405e-04,  ..., -2.7173e-06,\n",
       "             2.2446e-04,  1.5236e-04],\n",
       "           [ 9.6684e-06,  1.6571e-04, -1.6316e-05,  ..., -2.8940e-04,\n",
       "            -1.9012e-04, -3.9965e-05]]], device='cuda:0', dtype=torch.float64,\n",
       "         grad_fn=<MulBackward0>),\n",
       "  tensor([[[-1.0310e-04, -2.0656e-03, -1.5511e-03,  ...,  1.3417e-04,\n",
       "             2.8786e-04,  4.2930e-04],\n",
       "           [ 1.1065e-03,  9.3869e-04,  6.1455e-04,  ...,  2.1804e-04,\n",
       "             1.6014e-04,  2.3246e-04],\n",
       "           [-2.8163e-04, -2.2006e-04,  2.9039e-04,  ..., -7.4886e-05,\n",
       "            -3.9866e-04, -3.8103e-03],\n",
       "           ...,\n",
       "           [-8.2663e-05,  1.3021e-03, -6.4056e-03,  ..., -2.6266e-04,\n",
       "             3.6715e-04, -2.9706e-03],\n",
       "           [-2.2870e-04, -2.1747e-03,  1.4660e-03,  ..., -8.9739e-04,\n",
       "             1.3562e-03,  2.3591e-03],\n",
       "           [-3.1557e-04, -9.7434e-04, -2.0571e-04,  ...,  2.9082e-04,\n",
       "             1.2000e-03, -6.2808e-05]]], device='cuda:0', dtype=torch.float64,\n",
       "         grad_fn=<MulBackward0>),\n",
       "  tensor([[[-9.0018e-04, -2.5376e-04,  1.0429e-03,  ..., -1.9976e-05,\n",
       "             3.9045e-04,  1.9300e-04],\n",
       "           [ 1.0987e-04,  1.1693e-03,  2.9520e-04,  ..., -1.5395e-03,\n",
       "             2.0934e-03, -2.3154e-03],\n",
       "           [-2.1151e-03,  4.9357e-04, -4.4696e-05,  ...,  3.8908e-03,\n",
       "             5.6474e-04,  9.3992e-03],\n",
       "           ...,\n",
       "           [ 8.5870e-05,  2.7062e-04, -3.7161e-04,  ...,  5.8602e-05,\n",
       "            -3.0472e-03,  1.6826e-03],\n",
       "           [-1.0115e-03,  1.2179e-03, -4.0715e-04,  ...,  4.3786e-05,\n",
       "            -1.4987e-03, -7.5774e-04],\n",
       "           [-2.4721e-03, -1.5721e-04, -1.6390e-04,  ..., -1.2734e-03,\n",
       "             1.0992e-04, -5.8048e-05]]], device='cuda:0', dtype=torch.float64,\n",
       "         grad_fn=<MulBackward0>),\n",
       "  tensor([[[-3.2461e-04, -2.7165e-03, -5.6593e-04,  ...,  2.1960e-04,\n",
       "             3.4019e-05,  6.2998e-04],\n",
       "           [ 7.0183e-04, -1.4208e-02, -4.8747e-04,  ...,  7.4377e-05,\n",
       "            -1.2874e-03,  2.5864e-03],\n",
       "           [ 6.1998e-04,  2.9435e-03,  5.8652e-04,  ...,  1.3675e-04,\n",
       "            -4.0643e-04, -9.0146e-03],\n",
       "           [ 3.7618e-03,  2.1355e-03, -7.7372e-06,  ..., -2.2323e-04,\n",
       "            -7.6018e-04, -3.9092e-03],\n",
       "           [ 3.0626e-03, -6.6278e-04,  2.1494e-04,  ...,  1.0652e-03,\n",
       "             3.0216e-04,  2.7156e-04]]], device='cuda:0', dtype=torch.float64,\n",
       "         grad_fn=<MulBackward0>),\n",
       "  tensor([[[ 2.5767e-04, -3.6314e-04,  1.3555e-03,  ..., -2.3497e-04,\n",
       "            -3.1694e-04, -1.8820e-03],\n",
       "           [-3.2456e-04, -1.9009e-03, -1.6656e-04,  ...,  1.4884e-03,\n",
       "            -3.5934e-04, -2.7629e-03],\n",
       "           [ 4.3205e-03,  3.8586e-03, -5.7619e-03,  ...,  4.0734e-03,\n",
       "             2.5607e-04,  8.2237e-03],\n",
       "           [-1.0318e-02,  6.9946e-03, -3.8479e-03,  ..., -3.8269e-03,\n",
       "             9.6716e-03,  1.6377e-03],\n",
       "           [-1.3399e-03,  1.2793e-05,  4.8794e-05,  ...,  5.7837e-05,\n",
       "            -2.9241e-04,  5.5677e-04]]], device='cuda:0', dtype=torch.float64,\n",
       "         grad_fn=<MulBackward0>),\n",
       "  tensor([[[ 9.9956e-06,  5.9740e-05,  7.2936e-05,  ..., -1.0955e-04,\n",
       "             1.2663e-04, -1.1083e-03],\n",
       "           [-6.5229e-05,  4.4062e-04,  5.1708e-04,  ...,  1.0047e-04,\n",
       "             8.1492e-04,  3.0546e-03],\n",
       "           [-1.2550e-05,  7.7529e-05, -4.7336e-04,  ...,  4.4007e-04,\n",
       "             2.3924e-03, -1.7136e-03],\n",
       "           [ 6.3159e-04, -1.9505e-03,  2.1103e-04,  ...,  6.2061e-06,\n",
       "            -2.1737e-03, -2.7896e-03],\n",
       "           [-5.8553e-04, -1.1957e-04, -1.5658e-04,  ..., -2.3135e-04,\n",
       "             2.1139e-04,  3.0980e-04]]], device='cuda:0', dtype=torch.float64,\n",
       "         grad_fn=<MulBackward0>)],\n",
       " 'conti_attr_list': [tensor([ 0.2417,  0.0591, -0.0531, -0.0784,  0.9639], dtype=torch.float64),\n",
       "  tensor([ 0.1096, -0.0758,  0.4153, -0.5950,  0.2475], dtype=torch.float64),\n",
       "  tensor([ 0.3754,  0.6306, -0.0325,  0.0930,  0.2775, -0.0315],\n",
       "         dtype=torch.float64),\n",
       "  tensor([-0.0440,  0.0876, -0.2771,  0.2481,  0.6420,  0.2738,  0.1704],\n",
       "         dtype=torch.float64),\n",
       "  tensor([ 0.1796, -0.0056, -0.0545, -0.1182,  0.1825, -0.0589,  0.0999, -0.0965,\n",
       "           0.1043,  0.1040,  0.0153,  0.0229,  0.1258, -0.0076, -0.0956, -0.0213,\n",
       "           0.0079,  0.6755, -0.2304,  0.0446,  0.0336,  0.0594,  0.0499,  0.0878,\n",
       "           0.1580, -0.0024,  0.1560, -0.3750], dtype=torch.float64),\n",
       "  tensor([ 0.6309,  0.2747,  0.2102,  0.1087, -0.2844,  0.4281,  0.0622,  0.0066,\n",
       "           0.0832, -0.2272,  0.3794], dtype=torch.float64),\n",
       "  tensor([0.3731, 0.2234, 0.3877, 0.8128], dtype=torch.float64),\n",
       "  tensor([ 0.3292,  0.0162,  0.0964,  0.0303, -0.0602, -0.0094,  0.2484,  0.4478,\n",
       "           0.1281,  0.2159,  0.1706,  0.2887,  0.0361,  0.1289, -0.1730,  0.0101,\n",
       "           0.1095, -0.0364,  0.0716,  0.1786,  0.0697,  0.0539,  0.0732, -0.1903,\n",
       "           0.1592, -0.2310, -0.0272,  0.1380, -0.4400], dtype=torch.float64),\n",
       "  tensor([ 0.1525,  0.3369, -0.0124, -0.0071, -0.2450, -0.2421, -0.1903],\n",
       "         dtype=torch.float64),\n",
       "  tensor([ 0.3642,  0.2530,  0.2037, -0.3019,  0.1144,  0.8109],\n",
       "         dtype=torch.float64),\n",
       "  tensor([ 1.7537e-01,  7.9502e-05,  1.3845e-01,  6.1114e-01, -1.4226e-02,\n",
       "           1.1000e-01, -1.5212e-01,  1.3040e-01,  8.0479e-02,  1.2316e-01,\n",
       "           4.8155e-02, -4.8425e-02,  9.7898e-03,  7.3836e-02,  1.2142e-01,\n",
       "           1.1336e-01,  5.9262e-02,  1.0220e-01,  1.3888e-01, -2.6284e-03,\n",
       "          -5.7681e-01], dtype=torch.float64),\n",
       "  tensor([ 0.6832,  0.1105,  0.3626, -0.0232,  0.6237], dtype=torch.float64),\n",
       "  tensor([ 0.2274, -0.1366,  0.0088,  0.0231, -0.0328, -0.5362, -0.1252, -0.0549,\n",
       "          -0.0343, -0.0060, -0.0106, -0.0045, -0.0567, -0.7249],\n",
       "         dtype=torch.float64),\n",
       "  tensor([0.3377, 0.1776, 0.3107, 0.8706], dtype=torch.float64),\n",
       "  tensor([ 0.2742, -0.0824,  0.0279,  0.9577], dtype=torch.float64),\n",
       "  tensor([-0.3994,  0.4604, -0.5826], dtype=torch.float64),\n",
       "  tensor([ 0.3826,  0.6314, -0.2883,  0.0069, -0.3112,  0.1599,  0.1487,  0.0725,\n",
       "           0.2688,  0.0007, -0.0093, -0.3357,  0.0315,  0.0220, -0.0277, -0.1411],\n",
       "         dtype=torch.float64),\n",
       "  tensor([ 0.7666, -0.0178, -0.0950,  0.6072], dtype=torch.float64),\n",
       "  tensor([ 0.4831,  0.2300,  0.1086,  0.1805, -0.3052,  0.1648,  0.1632, -0.1272,\n",
       "           0.0788, -0.1365,  0.2908], dtype=torch.float64),\n",
       "  tensor([ 0.3112, -0.0095, -0.0376,  0.9486], dtype=torch.float64),\n",
       "  tensor([-0.0212, -0.1034, -0.0933, -0.0379, -0.0451,  0.2194,  0.0717, -0.0578,\n",
       "           0.0573, -0.0773, -0.1803,  0.1137, -0.2962, -0.0230, -0.8586],\n",
       "         dtype=torch.float64),\n",
       "  tensor([ 0.1874,  0.0940,  0.0211, -0.0250,  0.9772], dtype=torch.float64),\n",
       "  tensor([ 0.3677, -0.0564,  0.9282], dtype=torch.float64),\n",
       "  tensor([ 0.1343,  0.1244,  0.1487,  0.0630,  0.0603, -0.1613,  0.1527,  0.0905,\n",
       "           0.1747, -0.9109, -0.1190], dtype=torch.float64),\n",
       "  tensor([ 0.4900,  0.4700, -0.2097, -0.0794], dtype=torch.float64),\n",
       "  tensor([-0.2408,  0.1329,  0.2220,  0.4080, -0.3632,  0.2509, -0.2098,  0.1113,\n",
       "          -0.0192, -0.0786, -0.1358, -0.0427, -0.1069,  0.1143,  0.1352,  0.0508,\n",
       "           0.1010, -0.3672], dtype=torch.float64),\n",
       "  tensor([0.5372, 0.3516, 0.1511, 0.7516], dtype=torch.float64),\n",
       "  tensor([-0.1362, -0.2999, -0.2552,  0.0687, -0.0473,  0.6326],\n",
       "         dtype=torch.float64),\n",
       "  tensor([ 0.7221, -0.0560,  0.2548,  0.2355, -0.0576, -0.5328,  0.0689],\n",
       "         dtype=torch.float64),\n",
       "  tensor([-0.0357,  0.2175,  0.1745, -0.3560,  0.0371, -0.1744,  0.1135, -0.2194,\n",
       "          -0.0250, -0.0685,  0.0024, -0.0783, -0.3074,  0.3163, -0.0751,  0.1182,\n",
       "          -0.3005,  0.1941,  0.0991,  0.0139, -0.5411], dtype=torch.float64),\n",
       "  tensor([ 0.3256, -0.2528, -0.2513, -0.1002, -0.5202,  0.6973],\n",
       "         dtype=torch.float64),\n",
       "  tensor([0.1903, 0.0729, 0.0629, 0.1398, 0.9669], dtype=torch.float64),\n",
       "  tensor([ 0.5172,  0.1263, -0.4115,  0.0621,  0.4601], dtype=torch.float64),\n",
       "  tensor([ 0.3441, -0.0124, -0.0704,  0.1877, -0.2217,  0.0387,  0.1901,  0.1812,\n",
       "          -0.0874, -0.0541, -0.1649, -0.0712,  0.2805,  0.0652, -0.0310,  0.1885,\n",
       "           0.0279, -0.3006,  0.0337, -0.1598, -0.5879], dtype=torch.float64),\n",
       "  tensor([0.3661, 0.2448, 0.7416], dtype=torch.float64),\n",
       "  tensor([ 0.3321, -0.1622, -0.1747,  0.1222, -0.2326, -0.0979,  0.1438,  0.0808,\n",
       "           0.0376,  0.1082, -0.1825, -0.1414, -0.8003], dtype=torch.float64),\n",
       "  tensor([0.8705, 0.1005, 0.0282, 0.1686], dtype=torch.float64),\n",
       "  tensor([ 0.4637, -0.5271,  0.3821, -0.4191, -0.0998], dtype=torch.float64),\n",
       "  tensor([ 0.5600, -0.0545,  0.4067,  0.2831,  0.3520, -0.3163,  0.0559],\n",
       "         dtype=torch.float64),\n",
       "  tensor([0.0021, 0.8892, 0.0441, 0.2002], dtype=torch.float64),\n",
       "  tensor([ 4.3952e-02,  7.3206e-01,  2.6254e-01,  5.3694e-02, -1.2475e-02,\n",
       "          -5.0909e-04, -1.2591e-02,  6.2065e-02,  8.7597e-02,  1.2844e-01,\n",
       "           5.6806e-02, -2.6382e-03,  9.6389e-02, -2.5647e-01, -3.6926e-02,\n",
       "          -2.8820e-01, -1.4669e-02, -3.5099e-02,  1.7193e-02,  3.0665e-02,\n",
       "           1.2754e-01,  4.3849e-02, -4.2208e-01], dtype=torch.float64),\n",
       "  tensor([ 0.2454, -0.2117, -0.2326,  0.6945, -0.5051,  0.3216],\n",
       "         dtype=torch.float64),\n",
       "  tensor([ 0.3740, -0.1011,  0.1437, -0.2141, -0.1201, -0.1453, -0.2664, -0.2603,\n",
       "          -0.1357, -0.1440, -0.0171,  0.1111, -0.2845, -0.6049],\n",
       "         dtype=torch.float64),\n",
       "  tensor([-0.4057,  0.3993,  0.0790], dtype=torch.float64),\n",
       "  tensor([ 0.0077, -0.0497, -0.2617,  0.0109,  0.0919, -0.1322,  0.3082, -0.1623,\n",
       "           0.2019, -0.0321,  0.0776, -0.1532,  0.0589,  0.0079,  0.0355,  0.0766,\n",
       "           0.0740, -0.0980,  0.2108,  0.0614, -0.1623,  0.0971, -0.0269, -0.0539,\n",
       "           0.1386, -0.0461,  0.1756, -0.0381,  0.1353,  0.2160, -0.0027, -0.0354,\n",
       "           0.2170, -0.0106,  0.2129, -0.0338,  0.1676,  0.2506, -0.1150,  0.1651,\n",
       "          -0.5021], dtype=torch.float64),\n",
       "  tensor([ 0.3269, -0.4150,  0.3123,  0.4124, -0.1790,  0.0624],\n",
       "         dtype=torch.float64),\n",
       "  tensor([ 0.2969,  0.3316, -0.0086,  0.0422,  0.0134, -0.2083, -0.6108],\n",
       "         dtype=torch.float64),\n",
       "  tensor([0.3535, 0.1130, 0.1203, 0.8978], dtype=torch.float64),\n",
       "  tensor([ 0.4536, -0.2139,  0.7941], dtype=torch.float64),\n",
       "  tensor([-0.8564, -0.0237, -0.4818], dtype=torch.float64)],\n",
       " 'raw_input_list': [['[CLS]', 'its', 'oscar', 'nomination', '[SEP]'],\n",
       "  ['[CLS]', 'shenanigans', 'and', 'slapstick', '[SEP]'],\n",
       "  ['[CLS]', 'an', 'unsettling', 'sight', ',', '[SEP]'],\n",
       "  ['[CLS]', 'the', 'climactic', 'hourlong', 'cricket', 'match', '[SEP]'],\n",
       "  ['[CLS]',\n",
       "   'alternating',\n",
       "   'between',\n",
       "   'facetious',\n",
       "   'comic',\n",
       "   'parody',\n",
       "   'and',\n",
       "   'pulp',\n",
       "   'melodrama',\n",
       "   ',',\n",
       "   'this',\n",
       "   'smart-aleck',\n",
       "   'movie',\n",
       "   '...',\n",
       "   'tosses',\n",
       "   'around',\n",
       "   'some',\n",
       "   'intriguing',\n",
       "   'questions',\n",
       "   'about',\n",
       "   'the',\n",
       "   'difference',\n",
       "   'between',\n",
       "   'human',\n",
       "   'and',\n",
       "   'android',\n",
       "   'life',\n",
       "   '[SEP]'],\n",
       "  ['[CLS]',\n",
       "   'to',\n",
       "   'be',\n",
       "   'a',\n",
       "   'part',\n",
       "   'of',\n",
       "   'that',\n",
       "   'elusive',\n",
       "   'adult',\n",
       "   'world',\n",
       "   '[SEP]'],\n",
       "  ['[CLS]', 'emotional', 'power', '[SEP]'],\n",
       "  ['[CLS]',\n",
       "   'reminds',\n",
       "   'you',\n",
       "   'of',\n",
       "   'why',\n",
       "   'animation',\n",
       "   'is',\n",
       "   'such',\n",
       "   'a',\n",
       "   'perfect',\n",
       "   'medium',\n",
       "   'for',\n",
       "   'children',\n",
       "   ',',\n",
       "   'because',\n",
       "   'of',\n",
       "   'the',\n",
       "   'way',\n",
       "   'it',\n",
       "   'allows',\n",
       "   'the',\n",
       "   'mind',\n",
       "   'to',\n",
       "   'enter',\n",
       "   'and',\n",
       "   'accept',\n",
       "   'another',\n",
       "   'world',\n",
       "   '[SEP]'],\n",
       "  ['[CLS]',\n",
       "   'unparalleled',\n",
       "   'proportions',\n",
       "   ',',\n",
       "   'writer-director',\n",
       "   'parker',\n",
       "   '[SEP]'],\n",
       "  ['[CLS]', 'this', 'surprisingly', 'decent', 'flick', '[SEP]'],\n",
       "  ['[CLS]',\n",
       "   'about',\n",
       "   'the',\n",
       "   'best',\n",
       "   'thing',\n",
       "   'you',\n",
       "   'could',\n",
       "   'say',\n",
       "   'about',\n",
       "   'narc',\n",
       "   'is',\n",
       "   'that',\n",
       "   'it',\n",
       "   \"'s\",\n",
       "   'a',\n",
       "   'rock-solid',\n",
       "   'little',\n",
       "   'genre',\n",
       "   'picture',\n",
       "   '.',\n",
       "   '[SEP]'],\n",
       "  ['[CLS]', 'the', 'very', 'best', '[SEP]'],\n",
       "  ['[CLS]',\n",
       "   'been',\n",
       "   'modeled',\n",
       "   'on',\n",
       "   'the',\n",
       "   'worst',\n",
       "   'revenge-of-the-nerds',\n",
       "   'cliches',\n",
       "   'the',\n",
       "   'filmmakers',\n",
       "   'could',\n",
       "   'dredge',\n",
       "   'up',\n",
       "   '[SEP]'],\n",
       "  ['[CLS]', 'tell', 'you', '[SEP]'],\n",
       "  ['[CLS]', 'utterly', 'absorbing', '[SEP]'],\n",
       "  ['[CLS]', 'restate', '[SEP]'],\n",
       "  ['[CLS]',\n",
       "   'bears',\n",
       "   'about',\n",
       "   'as',\n",
       "   'much',\n",
       "   'resemblance',\n",
       "   'to',\n",
       "   'the',\n",
       "   'experiences',\n",
       "   'of',\n",
       "   'most',\n",
       "   'battered',\n",
       "   'women',\n",
       "   'as',\n",
       "   'spider-man',\n",
       "   '[SEP]'],\n",
       "  ['[CLS]', 'expressively', 'performed', '[SEP]'],\n",
       "  ['[CLS]',\n",
       "   'the',\n",
       "   'acting',\n",
       "   'is',\n",
       "   'amateurish',\n",
       "   ',',\n",
       "   'the',\n",
       "   'cinematography',\n",
       "   'is',\n",
       "   'atrocious',\n",
       "   '[SEP]'],\n",
       "  ['[CLS]', 'solidly', 'constructed', '[SEP]'],\n",
       "  ['[CLS]',\n",
       "   'are',\n",
       "   'undermined',\n",
       "   'by',\n",
       "   'the',\n",
       "   'movie',\n",
       "   \"'s\",\n",
       "   'presentation',\n",
       "   ',',\n",
       "   'which',\n",
       "   'is',\n",
       "   'way',\n",
       "   'too',\n",
       "   'stagy',\n",
       "   '[SEP]'],\n",
       "  ['[CLS]', 'a', 'great', 'film', '[SEP]'],\n",
       "  ['[CLS]', 'charm', '[SEP]'],\n",
       "  ['[CLS]',\n",
       "   'this',\n",
       "   'new',\n",
       "   'jangle',\n",
       "   'of',\n",
       "   'noise',\n",
       "   ',',\n",
       "   'mayhem',\n",
       "   'and',\n",
       "   'stupidity',\n",
       "   '[SEP]'],\n",
       "  ['[CLS]', 'sustains', 'it', '[SEP]'],\n",
       "  ['[CLS]',\n",
       "   'is',\n",
       "   'so',\n",
       "   'deadly',\n",
       "   'dull',\n",
       "   'that',\n",
       "   'watching',\n",
       "   'the',\n",
       "   'proverbial',\n",
       "   'paint',\n",
       "   'dry',\n",
       "   'would',\n",
       "   'be',\n",
       "   'a',\n",
       "   'welcome',\n",
       "   'improvement',\n",
       "   '.',\n",
       "   '[SEP]'],\n",
       "  ['[CLS]', 'to', 'accomplish', '[SEP]'],\n",
       "  ['[CLS]', 'does', \"n't\", 'work', '.', '[SEP]'],\n",
       "  ['[CLS]', 'given', 'it', 'a', 'one-star', 'rating', '[SEP]'],\n",
       "  ['[CLS]',\n",
       "   'ice',\n",
       "   'cube',\n",
       "   'is',\n",
       "   \"n't\",\n",
       "   'quite',\n",
       "   'out',\n",
       "   'of',\n",
       "   'ripe',\n",
       "   'screwball',\n",
       "   'ideas',\n",
       "   ',',\n",
       "   'but',\n",
       "   'friday',\n",
       "   'after',\n",
       "   'next',\n",
       "   'spreads',\n",
       "   'them',\n",
       "   'pretty',\n",
       "   'thin',\n",
       "   '[SEP]'],\n",
       "  ['[CLS]', 'been', 'trying', 'to', 'forget', '[SEP]'],\n",
       "  ['[CLS]', 'big', 'stars', 'and', '[SEP]'],\n",
       "  ['[CLS]', 'of', 'cheesy', 'dialogue', '[SEP]'],\n",
       "  ['[CLS]',\n",
       "   'the',\n",
       "   'chateau',\n",
       "   'is',\n",
       "   'never',\n",
       "   'quite',\n",
       "   'able',\n",
       "   'to',\n",
       "   'overcome',\n",
       "   'the',\n",
       "   'cultural',\n",
       "   'moat',\n",
       "   'surrounding',\n",
       "   'its',\n",
       "   'ludicrous',\n",
       "   'and',\n",
       "   'contrived',\n",
       "   'plot',\n",
       "   '.',\n",
       "   \"'\",\n",
       "   '[SEP]'],\n",
       "  ['[CLS]', 'principled', '[SEP]'],\n",
       "  ['[CLS]',\n",
       "   'end',\n",
       "   'it',\n",
       "   'all',\n",
       "   'by',\n",
       "   'stuffing',\n",
       "   'himself',\n",
       "   'into',\n",
       "   'an',\n",
       "   'electric',\n",
       "   'pencil',\n",
       "   'sharpener',\n",
       "   '[SEP]'],\n",
       "  ['[CLS]', 'funniest', 'idea', '[SEP]'],\n",
       "  ['[CLS]', 'silly', 'and', 'tedious', '[SEP]'],\n",
       "  ['[CLS]', 'two', 'surefire', ',', 'beloved', 'genres', '[SEP]'],\n",
       "  ['[CLS]', 'most', 'charmless', '[SEP]'],\n",
       "  ['[CLS]',\n",
       "   'offers',\n",
       "   'us',\n",
       "   'the',\n",
       "   'sense',\n",
       "   'that',\n",
       "   'on',\n",
       "   'some',\n",
       "   'elemental',\n",
       "   'level',\n",
       "   ',',\n",
       "   'lilia',\n",
       "   'deeply',\n",
       "   'wants',\n",
       "   'to',\n",
       "   'break',\n",
       "   'free',\n",
       "   'of',\n",
       "   'her',\n",
       "   'old',\n",
       "   'life',\n",
       "   '.',\n",
       "   '[SEP]'],\n",
       "  ['[CLS]', 'might', 'be', 'best', 'forgotten', '[SEP]'],\n",
       "  ['[CLS]',\n",
       "   'a',\n",
       "   'substantial',\n",
       "   'arc',\n",
       "   'of',\n",
       "   'change',\n",
       "   'that',\n",
       "   'does',\n",
       "   \"n't\",\n",
       "   'produce',\n",
       "   'any',\n",
       "   'real',\n",
       "   'transformation',\n",
       "   '[SEP]'],\n",
       "  ['[CLS]', 'unadorned', '[SEP]'],\n",
       "  ['[CLS]',\n",
       "   'this',\n",
       "   'is',\n",
       "   'the',\n",
       "   'kind',\n",
       "   'of',\n",
       "   'movie',\n",
       "   'that',\n",
       "   'you',\n",
       "   'only',\n",
       "   'need',\n",
       "   'to',\n",
       "   'watch',\n",
       "   'for',\n",
       "   'about',\n",
       "   'thirty',\n",
       "   'seconds',\n",
       "   'before',\n",
       "   'you',\n",
       "   'say',\n",
       "   'to',\n",
       "   'yourself',\n",
       "   ',',\n",
       "   '`',\n",
       "   'ah',\n",
       "   ',',\n",
       "   'yes',\n",
       "   ',',\n",
       "   'here',\n",
       "   'we',\n",
       "   'have',\n",
       "   'a',\n",
       "   'bad',\n",
       "   ',',\n",
       "   'bad',\n",
       "   ',',\n",
       "   'bad',\n",
       "   'movie',\n",
       "   '.',\n",
       "   \"'\",\n",
       "   '[SEP]'],\n",
       "  ['[CLS]', 'feel', 'sanitised', 'and', 'stagey', '[SEP]'],\n",
       "  ['[CLS]',\n",
       "   'replete',\n",
       "   'with',\n",
       "   'stereotypical',\n",
       "   'familial',\n",
       "   'quandaries',\n",
       "   '[SEP]'],\n",
       "  ['[CLS]', 'quirky', 'comedy', '[SEP]'],\n",
       "  ['[CLS]', 'unrewarding', '[SEP]'],\n",
       "  ['[CLS]', 'old-hat', '[SEP]']]}"
      ]
     },
     "execution_count": 10,
     "metadata": {},
     "output_type": "execute_result"
    }
   ],
   "source": [
    "save_info(idxs, sst2_data_raw, targets, model_out_list, raw_attr_list, conti_attr_list, raw_input_list, \n",
    "          fname=f'../MethodOutputs/{file_name_base}_out.pkl')"
   ]
  },
  {
   "cell_type": "code",
   "execution_count": 11,
   "id": "db9de1f3",
   "metadata": {},
   "outputs": [
    {
     "data": {
      "application/javascript": [
       "IPython.notebook.save_notebook()"
      ]
     },
     "metadata": {},
     "output_type": "display_data"
    }
   ],
   "source": [
    "download_HTML(cur_file_name=f'{file_name_base}_SST2_BERT.ipynb',\n",
    "              out_file_name=f'{file_name_base}_SST2_BERT.html')"
   ]
  },
  {
   "cell_type": "code",
   "execution_count": null,
   "id": "1ef8fc76",
   "metadata": {},
   "outputs": [],
   "source": []
  }
 ],
 "metadata": {
  "kernelspec": {
   "display_name": "Python 3 (ipykernel)",
   "language": "python",
   "name": "python3"
  },
  "language_info": {
   "codemirror_mode": {
    "name": "ipython",
    "version": 3
   },
   "file_extension": ".py",
   "mimetype": "text/x-python",
   "name": "python",
   "nbconvert_exporter": "python",
   "pygments_lexer": "ipython3",
   "version": "3.9.13"
  }
 },
 "nbformat": 4,
 "nbformat_minor": 5
}
