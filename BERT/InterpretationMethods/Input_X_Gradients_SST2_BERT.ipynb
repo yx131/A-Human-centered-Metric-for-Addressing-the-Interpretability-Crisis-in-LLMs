{
 "cells": [
  {
   "cell_type": "code",
   "execution_count": 1,
   "id": "0379fb82",
   "metadata": {},
   "outputs": [],
   "source": [
    "import sys, time, pickle\n",
    "import torch\n",
    "\n",
    "sys.path.insert(0, '../../Utils')\n",
    "from global_constants import gpu_device\n",
    "\n",
    "sys.path.insert(0, '../')\n",
    "from BERT_models import BERT_SST2_MODEL\n",
    "\n",
    "from _utils import sample_random_glue_sst2, get_continuation_mapping, \\\n",
    "                    get_continuous_attributions, get_continuous_raw_inputs, \\\n",
    "                    collect_info_for_metric, save_info, download_HTML"
   ]
  },
  {
   "cell_type": "code",
   "execution_count": 2,
   "id": "4bd7ee44",
   "metadata": {},
   "outputs": [
    {
     "name": "stderr",
     "output_type": "stream",
     "text": [
      "Reusing dataset glue (/home/user/.cache/huggingface/datasets/glue/sst2/1.0.0/dacbe3125aa31d7f70367a07a8a9e72a5a0bfeb5fc42e75c9db75b96da6053ad)\n"
     ]
    },
    {
     "data": {
      "application/vnd.jupyter.widget-view+json": {
       "model_id": "bc54467581c546cfb60b53c2181ea15f",
       "version_major": 2,
       "version_minor": 0
      },
      "text/plain": [
       "  0%|          | 0/3 [00:00<?, ?it/s]"
      ]
     },
     "metadata": {},
     "output_type": "display_data"
    },
    {
     "name": "stderr",
     "output_type": "stream",
     "text": [
      "Loading cached processed dataset at /home/user/.cache/huggingface/datasets/glue/sst2/1.0.0/dacbe3125aa31d7f70367a07a8a9e72a5a0bfeb5fc42e75c9db75b96da6053ad/cache-3b24abff24d1d8c0.arrow\n",
      "Loading cached processed dataset at /home/user/.cache/huggingface/datasets/glue/sst2/1.0.0/dacbe3125aa31d7f70367a07a8a9e72a5a0bfeb5fc42e75c9db75b96da6053ad/cache-5960909ab3834668.arrow\n"
     ]
    }
   ],
   "source": [
    "sst2_data_raw, targets, idxs = sample_random_glue_sst2()"
   ]
  },
  {
   "cell_type": "code",
   "execution_count": 3,
   "id": "50cc7ee5",
   "metadata": {},
   "outputs": [],
   "source": [
    "model = BERT_SST2_MODEL()\n",
    "tokenizer = model.tokenizer"
   ]
  },
  {
   "cell_type": "code",
   "execution_count": 4,
   "id": "3e778996",
   "metadata": {},
   "outputs": [],
   "source": [
    "model_out_list, raw_attr_list, conti_attr_list, raw_input_list = [], [], [], []"
   ]
  },
  {
   "cell_type": "code",
   "execution_count": 5,
   "id": "60cece0e",
   "metadata": {
    "scrolled": false
   },
   "outputs": [],
   "source": [
    "from captum.attr import InputXGradient\n",
    "from captum.attr import visualization "
   ]
  },
  {
   "cell_type": "code",
   "execution_count": 6,
   "id": "9937c409",
   "metadata": {},
   "outputs": [],
   "source": [
    "input_x_gradient  = InputXGradient(model)"
   ]
  },
  {
   "cell_type": "code",
   "execution_count": 7,
   "id": "eb6c1691",
   "metadata": {},
   "outputs": [],
   "source": [
    "def generate_record(raw_review, target):\n",
    "    #tokenizer operations\n",
    "    tokenized = tokenizer(raw_review, truncation=True, return_offsets_mapping=True)\n",
    "    offset_mapping = tokenized['offset_mapping']\n",
    "    conti_map = get_continuation_mapping(offset_mapping)\n",
    "    input_ids = torch.tensor(tokenized['input_ids']).unsqueeze(0).to(gpu_device)\n",
    "    detokenized = [t.replace('#', '') for t in tokenizer.convert_ids_to_tokens(input_ids[0])]\n",
    "    \n",
    "    #feeding input forward \n",
    "    input_emb = model.get_embeddings(input_ids)\n",
    "    pred_prob = model(input_emb).item()\n",
    "    \n",
    "    #categorizing results\n",
    "    pred_class = 'Pos' if pred_prob > 0.5 else 'Neg' \n",
    "    true_class = 'Pos' if target > 0.5 else 'Neg' \n",
    "    \n",
    "    #attribution algorithm working\n",
    "    attribution = input_x_gradient.attribute(input_emb)\n",
    "    word_attributions = attribution.squeeze(0).sum(dim=1)\n",
    "    word_attributions /= torch.norm(word_attributions)\n",
    "    attr_score = torch.sum(word_attributions)\n",
    "    attr_class = 'Pos' if attr_score > 0.5 else 'Neg'\n",
    "    convergence_score = None\n",
    "    \n",
    "    \n",
    "    #re-organizing tensors and arrays because words get split down\n",
    "    conti_attr = get_continuous_attributions(conti_map, word_attributions)\n",
    "    raw_input = get_continuous_raw_inputs(conti_map, detokenized)\n",
    "\n",
    "#     print(f'word attributions {word_attributions}')\n",
    "#     print(f'pred_prob {pred_prob}')\n",
    "#     print(f'pred_class {pred_class}')\n",
    "#     print(f'true_class {true_class}')\n",
    "#     print(f'attribution {attribution}')\n",
    "#     print(f'attr_class {attr_class}')\n",
    "#     print(f'attr_score {attr_score}')\n",
    "#     print(f'raw_input {raw_input}')\n",
    "\n",
    "        \n",
    "#     collect info for metrics later\n",
    "    collect_info_for_metric(model_out_list, pred_prob, raw_attr_list, attribution, conti_attr_list, conti_attr, raw_input_list, raw_input)\n",
    "        \n",
    "    \n",
    "    visual_record = visualization.VisualizationDataRecord(word_attributions=conti_attr,\n",
    "                                                         pred_prob=pred_prob,\n",
    "                                                         pred_class=pred_class,\n",
    "                                                         true_class=true_class,\n",
    "                                                         attr_class=attr_class,\n",
    "                                                         attr_score=attr_score,\n",
    "                                                         raw_input_ids=raw_input,\n",
    "                                                         convergence_score=convergence_score)\n",
    "        \n",
    "        \n",
    "    return visual_record\n",
    "      \n",
    "    "
   ]
  },
  {
   "cell_type": "code",
   "execution_count": 8,
   "id": "e6941070",
   "metadata": {
    "scrolled": true
   },
   "outputs": [
    {
     "name": "stdout",
     "output_type": "stream",
     "text": [
      "Raw review: its oscar nomination \n",
      "GT target: 1\n",
      "word attr tensor([-0.1280,  0.8599,  0.0020,  0.2199, -0.4425], device='cuda:0',\n",
      "       grad_fn=<DivBackward0>)\n",
      "conti attr [tensor(-0.1280, device='cuda:0', grad_fn=<UnbindBackward0>), tensor(0.8599, device='cuda:0', grad_fn=<UnbindBackward0>), tensor(0.0020, device='cuda:0', grad_fn=<UnbindBackward0>), tensor(0.2199, device='cuda:0', grad_fn=<UnbindBackward0>), tensor(-0.4425, device='cuda:0', grad_fn=<UnbindBackward0>)]\n",
      "detokenized ['[CLS]', 'its', 'oscar', 'nomination', '[SEP]']\n",
      "len conti_raw 5\n",
      "conti_raw ['[CLS]', 'its', 'oscar', 'nomination', '[SEP]']\n"
     ]
    },
    {
     "data": {
      "text/html": [
       "<table width: 100%><div style=\"border-top: 1px solid; margin-top: 5px;             padding-top: 5px; display: inline-block\"><b>Legend: </b><span style=\"display: inline-block; width: 10px; height: 10px;                 border: 1px solid; background-color:                 hsl(0, 75%, 60%)\"></span> Negative  <span style=\"display: inline-block; width: 10px; height: 10px;                 border: 1px solid; background-color:                 hsl(0, 75%, 100%)\"></span> Neutral  <span style=\"display: inline-block; width: 10px; height: 10px;                 border: 1px solid; background-color:                 hsl(120, 75%, 50%)\"></span> Positive  </div><tr><th>True Label</th><th>Predicted Label</th><th>Attribution Label</th><th>Attribution Score</th><th>Word Importance</th><tr><td><text style=\"padding-right:2em\"><b>Pos</b></text></td><td><text style=\"padding-right:2em\"><b>Pos (0.96)</b></text></td><td><text style=\"padding-right:2em\"><b>Pos</b></text></td><td><text style=\"padding-right:2em\"><b>0.51</b></text></td><td><mark style=\"background-color: hsl(0, 75%, 95%); opacity:1.0;                     line-height:1.75\"><font color=\"black\"> [CLS]                    </font></mark><mark style=\"background-color: hsl(120, 75%, 58%); opacity:1.0;                     line-height:1.75\"><font color=\"black\"> its                    </font></mark><mark style=\"background-color: hsl(120, 75%, 100%); opacity:1.0;                     line-height:1.75\"><font color=\"black\"> oscar                    </font></mark><mark style=\"background-color: hsl(120, 75%, 90%); opacity:1.0;                     line-height:1.75\"><font color=\"black\"> nomination                    </font></mark><mark style=\"background-color: hsl(0, 75%, 83%); opacity:1.0;                     line-height:1.75\"><font color=\"black\"> [SEP]                    </font></mark></td><tr></table>"
      ],
      "text/plain": [
       "<IPython.core.display.HTML object>"
      ]
     },
     "metadata": {},
     "output_type": "display_data"
    },
    {
     "name": "stdout",
     "output_type": "stream",
     "text": [
      "<IPython.core.display.HTML object>\n",
      "Raw review: shenanigans and slapstick \n",
      "GT target: 1\n",
      "word attr tensor([-0.3855, -0.0007, -0.2815, -0.1532,  0.0377,  0.5361,  0.6407,  0.2135,\n",
      "        -0.0611], device='cuda:0', grad_fn=<DivBackward0>)\n",
      "conti attr [tensor(-0.3855, device='cuda:0', grad_fn=<UnbindBackward0>), tensor(-0.0547, device='cuda:0', grad_fn=<DivBackward0>), tensor(0.5361, device='cuda:0', grad_fn=<UnbindBackward0>), tensor(0.4271, device='cuda:0', grad_fn=<DivBackward0>), tensor(-0.0611, device='cuda:0', grad_fn=<UnbindBackward0>)]\n",
      "detokenized ['[CLS]', 'shen', 'ani', 'gan', 's', 'and', 'slap', 'stick', '[SEP]']\n",
      "len conti_raw 5\n",
      "conti_raw ['[CLS]', 'shenanigans', 'and', 'slapstick', '[SEP]']\n"
     ]
    },
    {
     "data": {
      "text/html": [
       "<table width: 100%><div style=\"border-top: 1px solid; margin-top: 5px;             padding-top: 5px; display: inline-block\"><b>Legend: </b><span style=\"display: inline-block; width: 10px; height: 10px;                 border: 1px solid; background-color:                 hsl(0, 75%, 60%)\"></span> Negative  <span style=\"display: inline-block; width: 10px; height: 10px;                 border: 1px solid; background-color:                 hsl(0, 75%, 100%)\"></span> Neutral  <span style=\"display: inline-block; width: 10px; height: 10px;                 border: 1px solid; background-color:                 hsl(120, 75%, 50%)\"></span> Positive  </div><tr><th>True Label</th><th>Predicted Label</th><th>Attribution Label</th><th>Attribution Score</th><th>Word Importance</th><tr><td><text style=\"padding-right:2em\"><b>Pos</b></text></td><td><text style=\"padding-right:2em\"><b>Neg (0.03)</b></text></td><td><text style=\"padding-right:2em\"><b>Pos</b></text></td><td><text style=\"padding-right:2em\"><b>0.55</b></text></td><td><mark style=\"background-color: hsl(0, 75%, 85%); opacity:1.0;                     line-height:1.75\"><font color=\"black\"> [CLS]                    </font></mark><mark style=\"background-color: hsl(0, 75%, 98%); opacity:1.0;                     line-height:1.75\"><font color=\"black\"> shenanigans                    </font></mark><mark style=\"background-color: hsl(120, 75%, 74%); opacity:1.0;                     line-height:1.75\"><font color=\"black\"> and                    </font></mark><mark style=\"background-color: hsl(120, 75%, 79%); opacity:1.0;                     line-height:1.75\"><font color=\"black\"> slapstick                    </font></mark><mark style=\"background-color: hsl(0, 75%, 98%); opacity:1.0;                     line-height:1.75\"><font color=\"black\"> [SEP]                    </font></mark></td><tr></table>"
      ],
      "text/plain": [
       "<IPython.core.display.HTML object>"
      ]
     },
     "metadata": {},
     "output_type": "display_data"
    },
    {
     "name": "stdout",
     "output_type": "stream",
     "text": [
      "<IPython.core.display.HTML object>\n",
      "Raw review: an unsettling sight , \n",
      "GT target: 0\n",
      "word attr tensor([ 0.1345, -0.2194, -0.6604, -0.1603,  0.5119,  0.4285, -0.0131, -0.1616],\n",
      "       device='cuda:0', grad_fn=<DivBackward0>)\n",
      "conti attr [tensor(0.1345, device='cuda:0', grad_fn=<UnbindBackward0>), tensor(-0.2194, device='cuda:0', grad_fn=<UnbindBackward0>), tensor(0.0508, device='cuda:0', grad_fn=<DivBackward0>), tensor(0.4285, device='cuda:0', grad_fn=<UnbindBackward0>), tensor(-0.0131, device='cuda:0', grad_fn=<UnbindBackward0>), tensor(-0.1616, device='cuda:0', grad_fn=<UnbindBackward0>)]\n",
      "detokenized ['[CLS]', 'an', 'un', 'sett', 'ling', 'sight', ',', '[SEP]']\n",
      "len conti_raw 6\n",
      "conti_raw ['[CLS]', 'an', 'unsettling', 'sight', ',', '[SEP]']\n"
     ]
    },
    {
     "data": {
      "text/html": [
       "<table width: 100%><div style=\"border-top: 1px solid; margin-top: 5px;             padding-top: 5px; display: inline-block\"><b>Legend: </b><span style=\"display: inline-block; width: 10px; height: 10px;                 border: 1px solid; background-color:                 hsl(0, 75%, 60%)\"></span> Negative  <span style=\"display: inline-block; width: 10px; height: 10px;                 border: 1px solid; background-color:                 hsl(0, 75%, 100%)\"></span> Neutral  <span style=\"display: inline-block; width: 10px; height: 10px;                 border: 1px solid; background-color:                 hsl(120, 75%, 50%)\"></span> Positive  </div><tr><th>True Label</th><th>Predicted Label</th><th>Attribution Label</th><th>Attribution Score</th><th>Word Importance</th><tr><td><text style=\"padding-right:2em\"><b>Neg</b></text></td><td><text style=\"padding-right:2em\"><b>Pos (0.93)</b></text></td><td><text style=\"padding-right:2em\"><b>Neg</b></text></td><td><text style=\"padding-right:2em\"><b>-0.14</b></text></td><td><mark style=\"background-color: hsl(120, 75%, 94%); opacity:1.0;                     line-height:1.75\"><font color=\"black\"> [CLS]                    </font></mark><mark style=\"background-color: hsl(0, 75%, 92%); opacity:1.0;                     line-height:1.75\"><font color=\"black\"> an                    </font></mark><mark style=\"background-color: hsl(120, 75%, 98%); opacity:1.0;                     line-height:1.75\"><font color=\"black\"> unsettling                    </font></mark><mark style=\"background-color: hsl(120, 75%, 79%); opacity:1.0;                     line-height:1.75\"><font color=\"black\"> sight                    </font></mark><mark style=\"background-color: hsl(0, 75%, 100%); opacity:1.0;                     line-height:1.75\"><font color=\"black\"> ,                    </font></mark><mark style=\"background-color: hsl(0, 75%, 94%); opacity:1.0;                     line-height:1.75\"><font color=\"black\"> [SEP]                    </font></mark></td><tr></table>"
      ],
      "text/plain": [
       "<IPython.core.display.HTML object>"
      ]
     },
     "metadata": {},
     "output_type": "display_data"
    },
    {
     "name": "stdout",
     "output_type": "stream",
     "text": [
      "<IPython.core.display.HTML object>\n",
      "Raw review: the climactic hourlong cricket match \n",
      "GT target: 1\n",
      "word attr tensor([ 0.0333,  0.1176, -0.1104, -0.5800, -0.7003,  0.2670,  0.0886,  0.1797,\n",
      "         0.1555,  0.1022], device='cuda:0', grad_fn=<DivBackward0>)\n",
      "conti attr [tensor(0.0333, device='cuda:0', grad_fn=<UnbindBackward0>), tensor(0.1176, device='cuda:0', grad_fn=<UnbindBackward0>), tensor(-0.5228, device='cuda:0', grad_fn=<DivBackward0>), tensor(0.1778, device='cuda:0', grad_fn=<DivBackward0>), tensor(0.1797, device='cuda:0', grad_fn=<UnbindBackward0>), tensor(0.1555, device='cuda:0', grad_fn=<UnbindBackward0>), tensor(0.1022, device='cuda:0', grad_fn=<UnbindBackward0>)]\n",
      "detokenized ['[CLS]', 'the', 'cl', 'ima', 'ctic', 'hour', 'long', 'cricket', 'match', '[SEP]']\n",
      "len conti_raw 7\n",
      "conti_raw ['[CLS]', 'the', 'climactic', 'hourlong', 'cricket', 'match', '[SEP]']\n"
     ]
    },
    {
     "data": {
      "text/html": [
       "<table width: 100%><div style=\"border-top: 1px solid; margin-top: 5px;             padding-top: 5px; display: inline-block\"><b>Legend: </b><span style=\"display: inline-block; width: 10px; height: 10px;                 border: 1px solid; background-color:                 hsl(0, 75%, 60%)\"></span> Negative  <span style=\"display: inline-block; width: 10px; height: 10px;                 border: 1px solid; background-color:                 hsl(0, 75%, 100%)\"></span> Neutral  <span style=\"display: inline-block; width: 10px; height: 10px;                 border: 1px solid; background-color:                 hsl(120, 75%, 50%)\"></span> Positive  </div><tr><th>True Label</th><th>Predicted Label</th><th>Attribution Label</th><th>Attribution Score</th><th>Word Importance</th><tr><td><text style=\"padding-right:2em\"><b>Pos</b></text></td><td><text style=\"padding-right:2em\"><b>Pos (0.60)</b></text></td><td><text style=\"padding-right:2em\"><b>Neg</b></text></td><td><text style=\"padding-right:2em\"><b>-0.45</b></text></td><td><mark style=\"background-color: hsl(120, 75%, 99%); opacity:1.0;                     line-height:1.75\"><font color=\"black\"> [CLS]                    </font></mark><mark style=\"background-color: hsl(120, 75%, 95%); opacity:1.0;                     line-height:1.75\"><font color=\"black\"> the                    </font></mark><mark style=\"background-color: hsl(0, 75%, 80%); opacity:1.0;                     line-height:1.75\"><font color=\"black\"> climactic                    </font></mark><mark style=\"background-color: hsl(120, 75%, 92%); opacity:1.0;                     line-height:1.75\"><font color=\"black\"> hourlong                    </font></mark><mark style=\"background-color: hsl(120, 75%, 92%); opacity:1.0;                     line-height:1.75\"><font color=\"black\"> cricket                    </font></mark><mark style=\"background-color: hsl(120, 75%, 93%); opacity:1.0;                     line-height:1.75\"><font color=\"black\"> match                    </font></mark><mark style=\"background-color: hsl(120, 75%, 95%); opacity:1.0;                     line-height:1.75\"><font color=\"black\"> [SEP]                    </font></mark></td><tr></table>"
      ],
      "text/plain": [
       "<IPython.core.display.HTML object>"
      ]
     },
     "metadata": {},
     "output_type": "display_data"
    },
    {
     "name": "stdout",
     "output_type": "stream",
     "text": [
      "<IPython.core.display.HTML object>\n",
      "Raw review: alternating between facetious comic parody and pulp melodrama , this smart-aleck movie ... tosses around some intriguing questions about the difference between human and android life \n",
      "GT target: 1\n",
      "word attr tensor([ 6.0170e-02,  4.4408e-02, -1.0603e-01, -1.2511e-01, -2.1547e-01,\n",
      "         4.2283e-01, -1.4441e-01,  1.6921e-01, -1.3482e-04,  8.8124e-02,\n",
      "        -3.5320e-02,  2.4735e-02,  6.1508e-02,  3.0981e-02, -1.4971e-01,\n",
      "        -1.1529e-01,  3.3798e-02,  5.2575e-02,  1.6168e-01,  2.5903e-02,\n",
      "         3.3863e-02, -9.5329e-02,  6.4034e-02, -6.1415e-01,  2.9304e-01,\n",
      "        -1.0138e-01,  2.5005e-01,  1.8151e-02,  3.0478e-02,  2.3629e-02,\n",
      "        -7.7684e-02, -4.0281e-03, -1.0981e-01,  1.0164e-01,  4.3199e-02,\n",
      "         1.4029e-01,  1.0016e-01], device='cuda:0', grad_fn=<DivBackward0>)\n",
      "conti attr [tensor(0.0602, device='cuda:0', grad_fn=<UnbindBackward0>), tensor(0.0444, device='cuda:0', grad_fn=<UnbindBackward0>), tensor(-0.1060, device='cuda:0', grad_fn=<UnbindBackward0>), tensor(-0.1703, device='cuda:0', grad_fn=<DivBackward0>), tensor(0.4228, device='cuda:0', grad_fn=<UnbindBackward0>), tensor(-0.1444, device='cuda:0', grad_fn=<UnbindBackward0>), tensor(0.1692, device='cuda:0', grad_fn=<UnbindBackward0>), tensor(-0.0001, device='cuda:0', grad_fn=<UnbindBackward0>), tensor(0.0256, device='cuda:0', grad_fn=<DivBackward0>), tensor(0.0615, device='cuda:0', grad_fn=<UnbindBackward0>), tensor(0.0310, device='cuda:0', grad_fn=<UnbindBackward0>), tensor(0.0016, device='cuda:0', grad_fn=<DivBackward0>), tensor(0.1617, device='cuda:0', grad_fn=<UnbindBackward0>), tensor(-0.0327, device='cuda:0', grad_fn=<DivBackward0>), tensor(-0.2751, device='cuda:0', grad_fn=<DivBackward0>), tensor(0.2930, device='cuda:0', grad_fn=<UnbindBackward0>), tensor(-0.1014, device='cuda:0', grad_fn=<UnbindBackward0>), tensor(0.2500, device='cuda:0', grad_fn=<UnbindBackward0>), tensor(0.0182, device='cuda:0', grad_fn=<UnbindBackward0>), tensor(0.0305, device='cuda:0', grad_fn=<UnbindBackward0>), tensor(0.0236, device='cuda:0', grad_fn=<UnbindBackward0>), tensor(-0.0777, device='cuda:0', grad_fn=<UnbindBackward0>), tensor(-0.0040, device='cuda:0', grad_fn=<UnbindBackward0>), tensor(-0.1098, device='cuda:0', grad_fn=<UnbindBackward0>), tensor(0.1016, device='cuda:0', grad_fn=<UnbindBackward0>), tensor(0.0432, device='cuda:0', grad_fn=<UnbindBackward0>), tensor(0.1403, device='cuda:0', grad_fn=<UnbindBackward0>), tensor(0.1002, device='cuda:0', grad_fn=<UnbindBackward0>)]\n",
      "detokenized ['[CLS]', 'alternating', 'between', 'face', 'tious', 'comic', 'parody', 'and', 'pulp', 'mel', 'od', 'rama', ',', 'this', 'smart', '-', 'alec', 'k', 'movie', '.', '.', '.', 'toss', 'es', 'around', 'some', 'intriguing', 'questions', 'about', 'the', 'difference', 'between', 'human', 'and', 'android', 'life', '[SEP]']\n",
      "len conti_raw 28\n",
      "conti_raw ['[CLS]', 'alternating', 'between', 'facetious', 'comic', 'parody', 'and', 'pulp', 'melodrama', ',', 'this', 'smart-aleck', 'movie', '...', 'tosses', 'around', 'some', 'intriguing', 'questions', 'about', 'the', 'difference', 'between', 'human', 'and', 'android', 'life', '[SEP]']\n"
     ]
    },
    {
     "data": {
      "text/html": [
       "<table width: 100%><div style=\"border-top: 1px solid; margin-top: 5px;             padding-top: 5px; display: inline-block\"><b>Legend: </b><span style=\"display: inline-block; width: 10px; height: 10px;                 border: 1px solid; background-color:                 hsl(0, 75%, 60%)\"></span> Negative  <span style=\"display: inline-block; width: 10px; height: 10px;                 border: 1px solid; background-color:                 hsl(0, 75%, 100%)\"></span> Neutral  <span style=\"display: inline-block; width: 10px; height: 10px;                 border: 1px solid; background-color:                 hsl(120, 75%, 50%)\"></span> Positive  </div><tr><th>True Label</th><th>Predicted Label</th><th>Attribution Label</th><th>Attribution Score</th><th>Word Importance</th><tr><td><text style=\"padding-right:2em\"><b>Pos</b></text></td><td><text style=\"padding-right:2em\"><b>Pos (0.93)</b></text></td><td><text style=\"padding-right:2em\"><b>Neg</b></text></td><td><text style=\"padding-right:2em\"><b>0.38</b></text></td><td><mark style=\"background-color: hsl(120, 75%, 97%); opacity:1.0;                     line-height:1.75\"><font color=\"black\"> [CLS]                    </font></mark><mark style=\"background-color: hsl(120, 75%, 98%); opacity:1.0;                     line-height:1.75\"><font color=\"black\"> alternating                    </font></mark><mark style=\"background-color: hsl(0, 75%, 96%); opacity:1.0;                     line-height:1.75\"><font color=\"black\"> between                    </font></mark><mark style=\"background-color: hsl(0, 75%, 94%); opacity:1.0;                     line-height:1.75\"><font color=\"black\"> facetious                    </font></mark><mark style=\"background-color: hsl(120, 75%, 79%); opacity:1.0;                     line-height:1.75\"><font color=\"black\"> comic                    </font></mark><mark style=\"background-color: hsl(0, 75%, 95%); opacity:1.0;                     line-height:1.75\"><font color=\"black\"> parody                    </font></mark><mark style=\"background-color: hsl(120, 75%, 92%); opacity:1.0;                     line-height:1.75\"><font color=\"black\"> and                    </font></mark><mark style=\"background-color: hsl(0, 75%, 100%); opacity:1.0;                     line-height:1.75\"><font color=\"black\"> pulp                    </font></mark><mark style=\"background-color: hsl(120, 75%, 99%); opacity:1.0;                     line-height:1.75\"><font color=\"black\"> melodrama                    </font></mark><mark style=\"background-color: hsl(120, 75%, 97%); opacity:1.0;                     line-height:1.75\"><font color=\"black\"> ,                    </font></mark><mark style=\"background-color: hsl(120, 75%, 99%); opacity:1.0;                     line-height:1.75\"><font color=\"black\"> this                    </font></mark><mark style=\"background-color: hsl(120, 75%, 100%); opacity:1.0;                     line-height:1.75\"><font color=\"black\"> smart-aleck                    </font></mark><mark style=\"background-color: hsl(120, 75%, 92%); opacity:1.0;                     line-height:1.75\"><font color=\"black\"> movie                    </font></mark><mark style=\"background-color: hsl(0, 75%, 99%); opacity:1.0;                     line-height:1.75\"><font color=\"black\"> ...                    </font></mark><mark style=\"background-color: hsl(0, 75%, 89%); opacity:1.0;                     line-height:1.75\"><font color=\"black\"> tosses                    </font></mark><mark style=\"background-color: hsl(120, 75%, 86%); opacity:1.0;                     line-height:1.75\"><font color=\"black\"> around                    </font></mark><mark style=\"background-color: hsl(0, 75%, 96%); opacity:1.0;                     line-height:1.75\"><font color=\"black\"> some                    </font></mark><mark style=\"background-color: hsl(120, 75%, 88%); opacity:1.0;                     line-height:1.75\"><font color=\"black\"> intriguing                    </font></mark><mark style=\"background-color: hsl(120, 75%, 100%); opacity:1.0;                     line-height:1.75\"><font color=\"black\"> questions                    </font></mark><mark style=\"background-color: hsl(120, 75%, 99%); opacity:1.0;                     line-height:1.75\"><font color=\"black\"> about                    </font></mark><mark style=\"background-color: hsl(120, 75%, 99%); opacity:1.0;                     line-height:1.75\"><font color=\"black\"> the                    </font></mark><mark style=\"background-color: hsl(0, 75%, 97%); opacity:1.0;                     line-height:1.75\"><font color=\"black\"> difference                    </font></mark><mark style=\"background-color: hsl(0, 75%, 100%); opacity:1.0;                     line-height:1.75\"><font color=\"black\"> between                    </font></mark><mark style=\"background-color: hsl(0, 75%, 96%); opacity:1.0;                     line-height:1.75\"><font color=\"black\"> human                    </font></mark><mark style=\"background-color: hsl(120, 75%, 95%); opacity:1.0;                     line-height:1.75\"><font color=\"black\"> and                    </font></mark><mark style=\"background-color: hsl(120, 75%, 98%); opacity:1.0;                     line-height:1.75\"><font color=\"black\"> android                    </font></mark><mark style=\"background-color: hsl(120, 75%, 93%); opacity:1.0;                     line-height:1.75\"><font color=\"black\"> life                    </font></mark><mark style=\"background-color: hsl(120, 75%, 95%); opacity:1.0;                     line-height:1.75\"><font color=\"black\"> [SEP]                    </font></mark></td><tr></table>"
      ],
      "text/plain": [
       "<IPython.core.display.HTML object>"
      ]
     },
     "metadata": {},
     "output_type": "display_data"
    },
    {
     "name": "stdout",
     "output_type": "stream",
     "text": [
      "<IPython.core.display.HTML object>\n",
      "Raw review: to be a part of that elusive adult world \n",
      "GT target: 1\n",
      "word attr tensor([-0.3041, -0.1138, -0.3070, -0.0043, -0.0181,  0.4660,  0.4712,  0.3860,\n",
      "         0.1301, -0.4238,  0.1234], device='cuda:0', grad_fn=<DivBackward0>)\n",
      "conti attr [tensor(-0.3041, device='cuda:0', grad_fn=<UnbindBackward0>), tensor(-0.1138, device='cuda:0', grad_fn=<UnbindBackward0>), tensor(-0.3070, device='cuda:0', grad_fn=<UnbindBackward0>), tensor(-0.0043, device='cuda:0', grad_fn=<UnbindBackward0>), tensor(-0.0181, device='cuda:0', grad_fn=<UnbindBackward0>), tensor(0.4660, device='cuda:0', grad_fn=<UnbindBackward0>), tensor(0.4712, device='cuda:0', grad_fn=<UnbindBackward0>), tensor(0.3860, device='cuda:0', grad_fn=<UnbindBackward0>), tensor(0.1301, device='cuda:0', grad_fn=<UnbindBackward0>), tensor(-0.4238, device='cuda:0', grad_fn=<UnbindBackward0>), tensor(0.1234, device='cuda:0', grad_fn=<UnbindBackward0>)]\n",
      "detokenized ['[CLS]', 'to', 'be', 'a', 'part', 'of', 'that', 'elusive', 'adult', 'world', '[SEP]']\n",
      "len conti_raw 11\n",
      "conti_raw ['[CLS]', 'to', 'be', 'a', 'part', 'of', 'that', 'elusive', 'adult', 'world', '[SEP]']\n"
     ]
    },
    {
     "data": {
      "text/html": [
       "<table width: 100%><div style=\"border-top: 1px solid; margin-top: 5px;             padding-top: 5px; display: inline-block\"><b>Legend: </b><span style=\"display: inline-block; width: 10px; height: 10px;                 border: 1px solid; background-color:                 hsl(0, 75%, 60%)\"></span> Negative  <span style=\"display: inline-block; width: 10px; height: 10px;                 border: 1px solid; background-color:                 hsl(0, 75%, 100%)\"></span> Neutral  <span style=\"display: inline-block; width: 10px; height: 10px;                 border: 1px solid; background-color:                 hsl(120, 75%, 50%)\"></span> Positive  </div><tr><th>True Label</th><th>Predicted Label</th><th>Attribution Label</th><th>Attribution Score</th><th>Word Importance</th><tr><td><text style=\"padding-right:2em\"><b>Pos</b></text></td><td><text style=\"padding-right:2em\"><b>Pos (0.96)</b></text></td><td><text style=\"padding-right:2em\"><b>Neg</b></text></td><td><text style=\"padding-right:2em\"><b>0.41</b></text></td><td><mark style=\"background-color: hsl(0, 75%, 88%); opacity:1.0;                     line-height:1.75\"><font color=\"black\"> [CLS]                    </font></mark><mark style=\"background-color: hsl(0, 75%, 96%); opacity:1.0;                     line-height:1.75\"><font color=\"black\"> to                    </font></mark><mark style=\"background-color: hsl(0, 75%, 88%); opacity:1.0;                     line-height:1.75\"><font color=\"black\"> be                    </font></mark><mark style=\"background-color: hsl(0, 75%, 100%); opacity:1.0;                     line-height:1.75\"><font color=\"black\"> a                    </font></mark><mark style=\"background-color: hsl(0, 75%, 100%); opacity:1.0;                     line-height:1.75\"><font color=\"black\"> part                    </font></mark><mark style=\"background-color: hsl(120, 75%, 77%); opacity:1.0;                     line-height:1.75\"><font color=\"black\"> of                    </font></mark><mark style=\"background-color: hsl(120, 75%, 77%); opacity:1.0;                     line-height:1.75\"><font color=\"black\"> that                    </font></mark><mark style=\"background-color: hsl(120, 75%, 81%); opacity:1.0;                     line-height:1.75\"><font color=\"black\"> elusive                    </font></mark><mark style=\"background-color: hsl(120, 75%, 94%); opacity:1.0;                     line-height:1.75\"><font color=\"black\"> adult                    </font></mark><mark style=\"background-color: hsl(0, 75%, 84%); opacity:1.0;                     line-height:1.75\"><font color=\"black\"> world                    </font></mark><mark style=\"background-color: hsl(120, 75%, 94%); opacity:1.0;                     line-height:1.75\"><font color=\"black\"> [SEP]                    </font></mark></td><tr></table>"
      ],
      "text/plain": [
       "<IPython.core.display.HTML object>"
      ]
     },
     "metadata": {},
     "output_type": "display_data"
    },
    {
     "name": "stdout",
     "output_type": "stream",
     "text": [
      "<IPython.core.display.HTML object>\n",
      "Raw review: emotional power \n",
      "GT target: 1\n",
      "word attr tensor([ 0.0676,  0.5883, -0.7645,  0.2546], device='cuda:0',\n",
      "       grad_fn=<DivBackward0>)\n",
      "conti attr [tensor(0.0676, device='cuda:0', grad_fn=<UnbindBackward0>), tensor(0.5883, device='cuda:0', grad_fn=<UnbindBackward0>), tensor(-0.7645, device='cuda:0', grad_fn=<UnbindBackward0>), tensor(0.2546, device='cuda:0', grad_fn=<UnbindBackward0>)]\n",
      "detokenized ['[CLS]', 'emotional', 'power', '[SEP]']\n",
      "len conti_raw 4\n",
      "conti_raw ['[CLS]', 'emotional', 'power', '[SEP]']\n"
     ]
    },
    {
     "data": {
      "text/html": [
       "<table width: 100%><div style=\"border-top: 1px solid; margin-top: 5px;             padding-top: 5px; display: inline-block\"><b>Legend: </b><span style=\"display: inline-block; width: 10px; height: 10px;                 border: 1px solid; background-color:                 hsl(0, 75%, 60%)\"></span> Negative  <span style=\"display: inline-block; width: 10px; height: 10px;                 border: 1px solid; background-color:                 hsl(0, 75%, 100%)\"></span> Neutral  <span style=\"display: inline-block; width: 10px; height: 10px;                 border: 1px solid; background-color:                 hsl(120, 75%, 50%)\"></span> Positive  </div><tr><th>True Label</th><th>Predicted Label</th><th>Attribution Label</th><th>Attribution Score</th><th>Word Importance</th><tr><td><text style=\"padding-right:2em\"><b>Pos</b></text></td><td><text style=\"padding-right:2em\"><b>Pos (0.98)</b></text></td><td><text style=\"padding-right:2em\"><b>Neg</b></text></td><td><text style=\"padding-right:2em\"><b>0.15</b></text></td><td><mark style=\"background-color: hsl(120, 75%, 97%); opacity:1.0;                     line-height:1.75\"><font color=\"black\"> [CLS]                    </font></mark><mark style=\"background-color: hsl(120, 75%, 71%); opacity:1.0;                     line-height:1.75\"><font color=\"black\"> emotional                    </font></mark><mark style=\"background-color: hsl(0, 75%, 70%); opacity:1.0;                     line-height:1.75\"><font color=\"black\"> power                    </font></mark><mark style=\"background-color: hsl(120, 75%, 88%); opacity:1.0;                     line-height:1.75\"><font color=\"black\"> [SEP]                    </font></mark></td><tr></table>"
      ],
      "text/plain": [
       "<IPython.core.display.HTML object>"
      ]
     },
     "metadata": {},
     "output_type": "display_data"
    },
    {
     "name": "stdout",
     "output_type": "stream",
     "text": [
      "<IPython.core.display.HTML object>\n",
      "Raw review: reminds you of why animation is such a perfect medium for children , because of the way it allows the mind to enter and accept another world \n",
      "GT target: 1\n",
      "word attr tensor([-0.0860, -0.2416,  0.3111, -0.1323, -0.2653, -0.2962,  0.1951, -0.1076,\n",
      "         0.0984, -0.2074, -0.0052,  0.1982,  0.2450,  0.5273, -0.1517,  0.1446,\n",
      "        -0.0185, -0.0184,  0.1705,  0.0174,  0.0208, -0.1882,  0.1315, -0.1476,\n",
      "         0.0736,  0.0078, -0.0467,  0.0846,  0.1359], device='cuda:0',\n",
      "       grad_fn=<DivBackward0>)\n",
      "conti attr [tensor(-0.0860, device='cuda:0', grad_fn=<UnbindBackward0>), tensor(-0.2416, device='cuda:0', grad_fn=<UnbindBackward0>), tensor(0.3111, device='cuda:0', grad_fn=<UnbindBackward0>), tensor(-0.1323, device='cuda:0', grad_fn=<UnbindBackward0>), tensor(-0.2653, device='cuda:0', grad_fn=<UnbindBackward0>), tensor(-0.2962, device='cuda:0', grad_fn=<UnbindBackward0>), tensor(0.1951, device='cuda:0', grad_fn=<UnbindBackward0>), tensor(-0.1076, device='cuda:0', grad_fn=<UnbindBackward0>), tensor(0.0984, device='cuda:0', grad_fn=<UnbindBackward0>), tensor(-0.2074, device='cuda:0', grad_fn=<UnbindBackward0>), tensor(-0.0052, device='cuda:0', grad_fn=<UnbindBackward0>), tensor(0.1982, device='cuda:0', grad_fn=<UnbindBackward0>), tensor(0.2450, device='cuda:0', grad_fn=<UnbindBackward0>), tensor(0.5273, device='cuda:0', grad_fn=<UnbindBackward0>), tensor(-0.1517, device='cuda:0', grad_fn=<UnbindBackward0>), tensor(0.1446, device='cuda:0', grad_fn=<UnbindBackward0>), tensor(-0.0185, device='cuda:0', grad_fn=<UnbindBackward0>), tensor(-0.0184, device='cuda:0', grad_fn=<UnbindBackward0>), tensor(0.1705, device='cuda:0', grad_fn=<UnbindBackward0>), tensor(0.0174, device='cuda:0', grad_fn=<UnbindBackward0>), tensor(0.0208, device='cuda:0', grad_fn=<UnbindBackward0>), tensor(-0.1882, device='cuda:0', grad_fn=<UnbindBackward0>), tensor(0.1315, device='cuda:0', grad_fn=<UnbindBackward0>), tensor(-0.1476, device='cuda:0', grad_fn=<UnbindBackward0>), tensor(0.0736, device='cuda:0', grad_fn=<UnbindBackward0>), tensor(0.0078, device='cuda:0', grad_fn=<UnbindBackward0>), tensor(-0.0467, device='cuda:0', grad_fn=<UnbindBackward0>), tensor(0.0846, device='cuda:0', grad_fn=<UnbindBackward0>), tensor(0.1359, device='cuda:0', grad_fn=<UnbindBackward0>)]\n",
      "detokenized ['[CLS]', 'reminds', 'you', 'of', 'why', 'animation', 'is', 'such', 'a', 'perfect', 'medium', 'for', 'children', ',', 'because', 'of', 'the', 'way', 'it', 'allows', 'the', 'mind', 'to', 'enter', 'and', 'accept', 'another', 'world', '[SEP]']\n",
      "len conti_raw 29\n",
      "conti_raw ['[CLS]', 'reminds', 'you', 'of', 'why', 'animation', 'is', 'such', 'a', 'perfect', 'medium', 'for', 'children', ',', 'because', 'of', 'the', 'way', 'it', 'allows', 'the', 'mind', 'to', 'enter', 'and', 'accept', 'another', 'world', '[SEP]']\n"
     ]
    },
    {
     "data": {
      "text/html": [
       "<table width: 100%><div style=\"border-top: 1px solid; margin-top: 5px;             padding-top: 5px; display: inline-block\"><b>Legend: </b><span style=\"display: inline-block; width: 10px; height: 10px;                 border: 1px solid; background-color:                 hsl(0, 75%, 60%)\"></span> Negative  <span style=\"display: inline-block; width: 10px; height: 10px;                 border: 1px solid; background-color:                 hsl(0, 75%, 100%)\"></span> Neutral  <span style=\"display: inline-block; width: 10px; height: 10px;                 border: 1px solid; background-color:                 hsl(120, 75%, 50%)\"></span> Positive  </div><tr><th>True Label</th><th>Predicted Label</th><th>Attribution Label</th><th>Attribution Score</th><th>Word Importance</th><tr><td><text style=\"padding-right:2em\"><b>Pos</b></text></td><td><text style=\"padding-right:2em\"><b>Pos (0.97)</b></text></td><td><text style=\"padding-right:2em\"><b>Neg</b></text></td><td><text style=\"padding-right:2em\"><b>0.45</b></text></td><td><mark style=\"background-color: hsl(0, 75%, 97%); opacity:1.0;                     line-height:1.75\"><font color=\"black\"> [CLS]                    </font></mark><mark style=\"background-color: hsl(0, 75%, 91%); opacity:1.0;                     line-height:1.75\"><font color=\"black\"> reminds                    </font></mark><mark style=\"background-color: hsl(120, 75%, 85%); opacity:1.0;                     line-height:1.75\"><font color=\"black\"> you                    </font></mark><mark style=\"background-color: hsl(0, 75%, 95%); opacity:1.0;                     line-height:1.75\"><font color=\"black\"> of                    </font></mark><mark style=\"background-color: hsl(0, 75%, 90%); opacity:1.0;                     line-height:1.75\"><font color=\"black\"> why                    </font></mark><mark style=\"background-color: hsl(0, 75%, 89%); opacity:1.0;                     line-height:1.75\"><font color=\"black\"> animation                    </font></mark><mark style=\"background-color: hsl(120, 75%, 91%); opacity:1.0;                     line-height:1.75\"><font color=\"black\"> is                    </font></mark><mark style=\"background-color: hsl(0, 75%, 96%); opacity:1.0;                     line-height:1.75\"><font color=\"black\"> such                    </font></mark><mark style=\"background-color: hsl(120, 75%, 96%); opacity:1.0;                     line-height:1.75\"><font color=\"black\"> a                    </font></mark><mark style=\"background-color: hsl(0, 75%, 92%); opacity:1.0;                     line-height:1.75\"><font color=\"black\"> perfect                    </font></mark><mark style=\"background-color: hsl(0, 75%, 100%); opacity:1.0;                     line-height:1.75\"><font color=\"black\"> medium                    </font></mark><mark style=\"background-color: hsl(120, 75%, 91%); opacity:1.0;                     line-height:1.75\"><font color=\"black\"> for                    </font></mark><mark style=\"background-color: hsl(120, 75%, 88%); opacity:1.0;                     line-height:1.75\"><font color=\"black\"> children                    </font></mark><mark style=\"background-color: hsl(120, 75%, 74%); opacity:1.0;                     line-height:1.75\"><font color=\"black\"> ,                    </font></mark><mark style=\"background-color: hsl(0, 75%, 94%); opacity:1.0;                     line-height:1.75\"><font color=\"black\"> because                    </font></mark><mark style=\"background-color: hsl(120, 75%, 93%); opacity:1.0;                     line-height:1.75\"><font color=\"black\"> of                    </font></mark><mark style=\"background-color: hsl(0, 75%, 100%); opacity:1.0;                     line-height:1.75\"><font color=\"black\"> the                    </font></mark><mark style=\"background-color: hsl(0, 75%, 100%); opacity:1.0;                     line-height:1.75\"><font color=\"black\"> way                    </font></mark><mark style=\"background-color: hsl(120, 75%, 92%); opacity:1.0;                     line-height:1.75\"><font color=\"black\"> it                    </font></mark><mark style=\"background-color: hsl(120, 75%, 100%); opacity:1.0;                     line-height:1.75\"><font color=\"black\"> allows                    </font></mark><mark style=\"background-color: hsl(120, 75%, 99%); opacity:1.0;                     line-height:1.75\"><font color=\"black\"> the                    </font></mark><mark style=\"background-color: hsl(0, 75%, 93%); opacity:1.0;                     line-height:1.75\"><font color=\"black\"> mind                    </font></mark><mark style=\"background-color: hsl(120, 75%, 94%); opacity:1.0;                     line-height:1.75\"><font color=\"black\"> to                    </font></mark><mark style=\"background-color: hsl(0, 75%, 95%); opacity:1.0;                     line-height:1.75\"><font color=\"black\"> enter                    </font></mark><mark style=\"background-color: hsl(120, 75%, 97%); opacity:1.0;                     line-height:1.75\"><font color=\"black\"> and                    </font></mark><mark style=\"background-color: hsl(120, 75%, 100%); opacity:1.0;                     line-height:1.75\"><font color=\"black\"> accept                    </font></mark><mark style=\"background-color: hsl(0, 75%, 99%); opacity:1.0;                     line-height:1.75\"><font color=\"black\"> another                    </font></mark><mark style=\"background-color: hsl(120, 75%, 96%); opacity:1.0;                     line-height:1.75\"><font color=\"black\"> world                    </font></mark><mark style=\"background-color: hsl(120, 75%, 94%); opacity:1.0;                     line-height:1.75\"><font color=\"black\"> [SEP]                    </font></mark></td><tr></table>"
      ],
      "text/plain": [
       "<IPython.core.display.HTML object>"
      ]
     },
     "metadata": {},
     "output_type": "display_data"
    },
    {
     "name": "stdout",
     "output_type": "stream",
     "text": [
      "<IPython.core.display.HTML object>\n",
      "Raw review: unparalleled proportions , writer-director parker \n",
      "GT target: 1\n",
      "word attr tensor([-0.0812, -0.0922,  0.5359,  0.2079,  0.5604, -0.3306, -0.3510,  0.0094,\n",
      "        -0.2330, -0.0236, -0.2286, -0.0285], device='cuda:0',\n",
      "       grad_fn=<DivBackward0>)\n",
      "conti attr [tensor(-0.0812, device='cuda:0', grad_fn=<UnbindBackward0>), tensor(0.3876, device='cuda:0', grad_fn=<DivBackward0>), tensor(-0.3306, device='cuda:0', grad_fn=<UnbindBackward0>), tensor(-0.3510, device='cuda:0', grad_fn=<UnbindBackward0>), tensor(-0.0677, device='cuda:0', grad_fn=<DivBackward0>), tensor(-0.2286, device='cuda:0', grad_fn=<UnbindBackward0>), tensor(-0.0285, device='cuda:0', grad_fn=<UnbindBackward0>)]\n",
      "detokenized ['[CLS]', 'un', 'para', 'lle', 'led', 'proportions', ',', 'writer', '-', 'director', 'parker', '[SEP]']\n",
      "len conti_raw 7\n",
      "conti_raw ['[CLS]', 'unparalleled', 'proportions', ',', 'writer-director', 'parker', '[SEP]']\n"
     ]
    },
    {
     "data": {
      "text/html": [
       "<table width: 100%><div style=\"border-top: 1px solid; margin-top: 5px;             padding-top: 5px; display: inline-block\"><b>Legend: </b><span style=\"display: inline-block; width: 10px; height: 10px;                 border: 1px solid; background-color:                 hsl(0, 75%, 60%)\"></span> Negative  <span style=\"display: inline-block; width: 10px; height: 10px;                 border: 1px solid; background-color:                 hsl(0, 75%, 100%)\"></span> Neutral  <span style=\"display: inline-block; width: 10px; height: 10px;                 border: 1px solid; background-color:                 hsl(120, 75%, 50%)\"></span> Positive  </div><tr><th>True Label</th><th>Predicted Label</th><th>Attribution Label</th><th>Attribution Score</th><th>Word Importance</th><tr><td><text style=\"padding-right:2em\"><b>Pos</b></text></td><td><text style=\"padding-right:2em\"><b>Pos (0.88)</b></text></td><td><text style=\"padding-right:2em\"><b>Neg</b></text></td><td><text style=\"padding-right:2em\"><b>-0.06</b></text></td><td><mark style=\"background-color: hsl(0, 75%, 97%); opacity:1.0;                     line-height:1.75\"><font color=\"black\"> [CLS]                    </font></mark><mark style=\"background-color: hsl(120, 75%, 81%); opacity:1.0;                     line-height:1.75\"><font color=\"black\"> unparalleled                    </font></mark><mark style=\"background-color: hsl(0, 75%, 87%); opacity:1.0;                     line-height:1.75\"><font color=\"black\"> proportions                    </font></mark><mark style=\"background-color: hsl(0, 75%, 86%); opacity:1.0;                     line-height:1.75\"><font color=\"black\"> ,                    </font></mark><mark style=\"background-color: hsl(0, 75%, 98%); opacity:1.0;                     line-height:1.75\"><font color=\"black\"> writer-director                    </font></mark><mark style=\"background-color: hsl(0, 75%, 91%); opacity:1.0;                     line-height:1.75\"><font color=\"black\"> parker                    </font></mark><mark style=\"background-color: hsl(0, 75%, 99%); opacity:1.0;                     line-height:1.75\"><font color=\"black\"> [SEP]                    </font></mark></td><tr></table>"
      ],
      "text/plain": [
       "<IPython.core.display.HTML object>"
      ]
     },
     "metadata": {},
     "output_type": "display_data"
    },
    {
     "name": "stdout",
     "output_type": "stream",
     "text": [
      "<IPython.core.display.HTML object>\n",
      "Raw review: this surprisingly decent flick \n",
      "GT target: 1\n",
      "word attr tensor([-0.3227,  0.1405, -0.1082, -0.5092,  0.6779, -0.3816], device='cuda:0',\n",
      "       grad_fn=<DivBackward0>)\n",
      "conti attr [tensor(-0.3227, device='cuda:0', grad_fn=<UnbindBackward0>), tensor(0.1405, device='cuda:0', grad_fn=<UnbindBackward0>), tensor(-0.1082, device='cuda:0', grad_fn=<UnbindBackward0>), tensor(-0.5092, device='cuda:0', grad_fn=<UnbindBackward0>), tensor(0.6779, device='cuda:0', grad_fn=<UnbindBackward0>), tensor(-0.3816, device='cuda:0', grad_fn=<UnbindBackward0>)]\n",
      "detokenized ['[CLS]', 'this', 'surprisingly', 'decent', 'flick', '[SEP]']\n",
      "len conti_raw 6\n",
      "conti_raw ['[CLS]', 'this', 'surprisingly', 'decent', 'flick', '[SEP]']\n"
     ]
    },
    {
     "data": {
      "text/html": [
       "<table width: 100%><div style=\"border-top: 1px solid; margin-top: 5px;             padding-top: 5px; display: inline-block\"><b>Legend: </b><span style=\"display: inline-block; width: 10px; height: 10px;                 border: 1px solid; background-color:                 hsl(0, 75%, 60%)\"></span> Negative  <span style=\"display: inline-block; width: 10px; height: 10px;                 border: 1px solid; background-color:                 hsl(0, 75%, 100%)\"></span> Neutral  <span style=\"display: inline-block; width: 10px; height: 10px;                 border: 1px solid; background-color:                 hsl(120, 75%, 50%)\"></span> Positive  </div><tr><th>True Label</th><th>Predicted Label</th><th>Attribution Label</th><th>Attribution Score</th><th>Word Importance</th><tr><td><text style=\"padding-right:2em\"><b>Pos</b></text></td><td><text style=\"padding-right:2em\"><b>Pos (0.97)</b></text></td><td><text style=\"padding-right:2em\"><b>Neg</b></text></td><td><text style=\"padding-right:2em\"><b>-0.50</b></text></td><td><mark style=\"background-color: hsl(0, 75%, 88%); opacity:1.0;                     line-height:1.75\"><font color=\"black\"> [CLS]                    </font></mark><mark style=\"background-color: hsl(120, 75%, 93%); opacity:1.0;                     line-height:1.75\"><font color=\"black\"> this                    </font></mark><mark style=\"background-color: hsl(0, 75%, 96%); opacity:1.0;                     line-height:1.75\"><font color=\"black\"> surprisingly                    </font></mark><mark style=\"background-color: hsl(0, 75%, 80%); opacity:1.0;                     line-height:1.75\"><font color=\"black\"> decent                    </font></mark><mark style=\"background-color: hsl(120, 75%, 67%); opacity:1.0;                     line-height:1.75\"><font color=\"black\"> flick                    </font></mark><mark style=\"background-color: hsl(0, 75%, 85%); opacity:1.0;                     line-height:1.75\"><font color=\"black\"> [SEP]                    </font></mark></td><tr></table>"
      ],
      "text/plain": [
       "<IPython.core.display.HTML object>"
      ]
     },
     "metadata": {},
     "output_type": "display_data"
    },
    {
     "name": "stdout",
     "output_type": "stream",
     "text": [
      "<IPython.core.display.HTML object>\n",
      "Raw review: about the best thing you could say about narc is that it 's a rock-solid little genre picture . \n",
      "GT target: 1\n",
      "word attr tensor([-0.0735,  0.0076,  0.0023, -0.1994, -0.2235, -0.1387, -0.0027, -0.2147,\n",
      "         0.0199,  0.4267, -0.0411, -0.1588,  0.0501, -0.0973,  0.0352, -0.0243,\n",
      "         0.4334,  0.4496,  0.0498,  0.0925, -0.0131,  0.1855, -0.4249, -0.0127,\n",
      "        -0.0095], device='cuda:0', grad_fn=<DivBackward0>)\n",
      "conti attr [tensor(-0.0735, device='cuda:0', grad_fn=<UnbindBackward0>), tensor(0.0076, device='cuda:0', grad_fn=<UnbindBackward0>), tensor(0.0023, device='cuda:0', grad_fn=<UnbindBackward0>), tensor(-0.1994, device='cuda:0', grad_fn=<UnbindBackward0>), tensor(-0.2235, device='cuda:0', grad_fn=<UnbindBackward0>), tensor(-0.1387, device='cuda:0', grad_fn=<UnbindBackward0>), tensor(-0.0027, device='cuda:0', grad_fn=<UnbindBackward0>), tensor(-0.2147, device='cuda:0', grad_fn=<UnbindBackward0>), tensor(0.0199, device='cuda:0', grad_fn=<UnbindBackward0>), tensor(0.1928, device='cuda:0', grad_fn=<DivBackward0>), tensor(-0.1588, device='cuda:0', grad_fn=<UnbindBackward0>), tensor(0.0501, device='cuda:0', grad_fn=<UnbindBackward0>), tensor(-0.0973, device='cuda:0', grad_fn=<UnbindBackward0>), tensor(0.0055, device='cuda:0', grad_fn=<DivBackward0>), tensor(0.4334, device='cuda:0', grad_fn=<UnbindBackward0>), tensor(0.1711, device='cuda:0', grad_fn=<DivBackward0>), tensor(-0.0131, device='cuda:0', grad_fn=<UnbindBackward0>), tensor(0.1855, device='cuda:0', grad_fn=<UnbindBackward0>), tensor(-0.4249, device='cuda:0', grad_fn=<UnbindBackward0>), tensor(-0.0127, device='cuda:0', grad_fn=<UnbindBackward0>), tensor(-0.0095, device='cuda:0', grad_fn=<UnbindBackward0>)]\n",
      "detokenized ['[CLS]', 'about', 'the', 'best', 'thing', 'you', 'could', 'say', 'about', 'na', 'rc', 'is', 'that', 'it', \"'\", 's', 'a', 'rock', '-', 'solid', 'little', 'genre', 'picture', '.', '[SEP]']\n",
      "len conti_raw 21\n",
      "conti_raw ['[CLS]', 'about', 'the', 'best', 'thing', 'you', 'could', 'say', 'about', 'narc', 'is', 'that', 'it', \"'s\", 'a', 'rock-solid', 'little', 'genre', 'picture', '.', '[SEP]']\n"
     ]
    },
    {
     "data": {
      "text/html": [
       "<table width: 100%><div style=\"border-top: 1px solid; margin-top: 5px;             padding-top: 5px; display: inline-block\"><b>Legend: </b><span style=\"display: inline-block; width: 10px; height: 10px;                 border: 1px solid; background-color:                 hsl(0, 75%, 60%)\"></span> Negative  <span style=\"display: inline-block; width: 10px; height: 10px;                 border: 1px solid; background-color:                 hsl(0, 75%, 100%)\"></span> Neutral  <span style=\"display: inline-block; width: 10px; height: 10px;                 border: 1px solid; background-color:                 hsl(120, 75%, 50%)\"></span> Positive  </div><tr><th>True Label</th><th>Predicted Label</th><th>Attribution Label</th><th>Attribution Score</th><th>Word Importance</th><tr><td><text style=\"padding-right:2em\"><b>Pos</b></text></td><td><text style=\"padding-right:2em\"><b>Pos (0.95)</b></text></td><td><text style=\"padding-right:2em\"><b>Neg</b></text></td><td><text style=\"padding-right:2em\"><b>0.12</b></text></td><td><mark style=\"background-color: hsl(0, 75%, 98%); opacity:1.0;                     line-height:1.75\"><font color=\"black\"> [CLS]                    </font></mark><mark style=\"background-color: hsl(120, 75%, 100%); opacity:1.0;                     line-height:1.75\"><font color=\"black\"> about                    </font></mark><mark style=\"background-color: hsl(120, 75%, 100%); opacity:1.0;                     line-height:1.75\"><font color=\"black\"> the                    </font></mark><mark style=\"background-color: hsl(0, 75%, 93%); opacity:1.0;                     line-height:1.75\"><font color=\"black\"> best                    </font></mark><mark style=\"background-color: hsl(0, 75%, 92%); opacity:1.0;                     line-height:1.75\"><font color=\"black\"> thing                    </font></mark><mark style=\"background-color: hsl(0, 75%, 95%); opacity:1.0;                     line-height:1.75\"><font color=\"black\"> you                    </font></mark><mark style=\"background-color: hsl(0, 75%, 100%); opacity:1.0;                     line-height:1.75\"><font color=\"black\"> could                    </font></mark><mark style=\"background-color: hsl(0, 75%, 92%); opacity:1.0;                     line-height:1.75\"><font color=\"black\"> say                    </font></mark><mark style=\"background-color: hsl(120, 75%, 100%); opacity:1.0;                     line-height:1.75\"><font color=\"black\"> about                    </font></mark><mark style=\"background-color: hsl(120, 75%, 91%); opacity:1.0;                     line-height:1.75\"><font color=\"black\"> narc                    </font></mark><mark style=\"background-color: hsl(0, 75%, 94%); opacity:1.0;                     line-height:1.75\"><font color=\"black\"> is                    </font></mark><mark style=\"background-color: hsl(120, 75%, 98%); opacity:1.0;                     line-height:1.75\"><font color=\"black\"> that                    </font></mark><mark style=\"background-color: hsl(0, 75%, 97%); opacity:1.0;                     line-height:1.75\"><font color=\"black\"> it                    </font></mark><mark style=\"background-color: hsl(120, 75%, 100%); opacity:1.0;                     line-height:1.75\"><font color=\"black\"> 's                    </font></mark><mark style=\"background-color: hsl(120, 75%, 79%); opacity:1.0;                     line-height:1.75\"><font color=\"black\"> a                    </font></mark><mark style=\"background-color: hsl(120, 75%, 92%); opacity:1.0;                     line-height:1.75\"><font color=\"black\"> rock-solid                    </font></mark><mark style=\"background-color: hsl(0, 75%, 100%); opacity:1.0;                     line-height:1.75\"><font color=\"black\"> little                    </font></mark><mark style=\"background-color: hsl(120, 75%, 91%); opacity:1.0;                     line-height:1.75\"><font color=\"black\"> genre                    </font></mark><mark style=\"background-color: hsl(0, 75%, 84%); opacity:1.0;                     line-height:1.75\"><font color=\"black\"> picture                    </font></mark><mark style=\"background-color: hsl(0, 75%, 100%); opacity:1.0;                     line-height:1.75\"><font color=\"black\"> .                    </font></mark><mark style=\"background-color: hsl(0, 75%, 100%); opacity:1.0;                     line-height:1.75\"><font color=\"black\"> [SEP]                    </font></mark></td><tr></table>"
      ],
      "text/plain": [
       "<IPython.core.display.HTML object>"
      ]
     },
     "metadata": {},
     "output_type": "display_data"
    },
    {
     "name": "stdout",
     "output_type": "stream",
     "text": [
      "<IPython.core.display.HTML object>\n",
      "Raw review: the very best \n",
      "GT target: 1\n",
      "word attr tensor([-0.2566,  0.9055, -0.2357, -0.2242, -0.0922], device='cuda:0',\n",
      "       grad_fn=<DivBackward0>)\n",
      "conti attr [tensor(-0.2566, device='cuda:0', grad_fn=<UnbindBackward0>), tensor(0.9055, device='cuda:0', grad_fn=<UnbindBackward0>), tensor(-0.2357, device='cuda:0', grad_fn=<UnbindBackward0>), tensor(-0.2242, device='cuda:0', grad_fn=<UnbindBackward0>), tensor(-0.0922, device='cuda:0', grad_fn=<UnbindBackward0>)]\n",
      "detokenized ['[CLS]', 'the', 'very', 'best', '[SEP]']\n",
      "len conti_raw 5\n",
      "conti_raw ['[CLS]', 'the', 'very', 'best', '[SEP]']\n"
     ]
    },
    {
     "data": {
      "text/html": [
       "<table width: 100%><div style=\"border-top: 1px solid; margin-top: 5px;             padding-top: 5px; display: inline-block\"><b>Legend: </b><span style=\"display: inline-block; width: 10px; height: 10px;                 border: 1px solid; background-color:                 hsl(0, 75%, 60%)\"></span> Negative  <span style=\"display: inline-block; width: 10px; height: 10px;                 border: 1px solid; background-color:                 hsl(0, 75%, 100%)\"></span> Neutral  <span style=\"display: inline-block; width: 10px; height: 10px;                 border: 1px solid; background-color:                 hsl(120, 75%, 50%)\"></span> Positive  </div><tr><th>True Label</th><th>Predicted Label</th><th>Attribution Label</th><th>Attribution Score</th><th>Word Importance</th><tr><td><text style=\"padding-right:2em\"><b>Pos</b></text></td><td><text style=\"padding-right:2em\"><b>Pos (0.97)</b></text></td><td><text style=\"padding-right:2em\"><b>Neg</b></text></td><td><text style=\"padding-right:2em\"><b>0.10</b></text></td><td><mark style=\"background-color: hsl(0, 75%, 90%); opacity:1.0;                     line-height:1.75\"><font color=\"black\"> [CLS]                    </font></mark><mark style=\"background-color: hsl(120, 75%, 55%); opacity:1.0;                     line-height:1.75\"><font color=\"black\"> the                    </font></mark><mark style=\"background-color: hsl(0, 75%, 91%); opacity:1.0;                     line-height:1.75\"><font color=\"black\"> very                    </font></mark><mark style=\"background-color: hsl(0, 75%, 92%); opacity:1.0;                     line-height:1.75\"><font color=\"black\"> best                    </font></mark><mark style=\"background-color: hsl(0, 75%, 97%); opacity:1.0;                     line-height:1.75\"><font color=\"black\"> [SEP]                    </font></mark></td><tr></table>"
      ],
      "text/plain": [
       "<IPython.core.display.HTML object>"
      ]
     },
     "metadata": {},
     "output_type": "display_data"
    },
    {
     "name": "stdout",
     "output_type": "stream",
     "text": [
      "<IPython.core.display.HTML object>\n",
      "Raw review: been modeled on the worst revenge-of-the-nerds clichés the filmmakers could dredge up \n",
      "GT target: 0\n",
      "word attr tensor([ 0.1257,  0.0214, -0.3005, -0.0575, -0.0142,  0.2293,  0.4192, -0.1787,\n",
      "        -0.1778, -0.2832,  0.0486, -0.3302, -0.0658, -0.1078,  0.3605, -0.0780,\n",
      "        -0.0478, -0.2477, -0.0465,  0.3431,  0.1664, -0.1048, -0.1079, -0.1439],\n",
      "       device='cuda:0', grad_fn=<DivBackward0>)\n",
      "conti attr [tensor(0.1257, device='cuda:0', grad_fn=<UnbindBackward0>), tensor(0.0214, device='cuda:0', grad_fn=<UnbindBackward0>), tensor(-0.3005, device='cuda:0', grad_fn=<UnbindBackward0>), tensor(-0.0575, device='cuda:0', grad_fn=<UnbindBackward0>), tensor(-0.0142, device='cuda:0', grad_fn=<UnbindBackward0>), tensor(0.2293, device='cuda:0', grad_fn=<UnbindBackward0>), tensor(-0.1183, device='cuda:0', grad_fn=<DivBackward0>), tensor(0.0467, device='cuda:0', grad_fn=<DivBackward0>), tensor(-0.2477, device='cuda:0', grad_fn=<UnbindBackward0>), tensor(-0.0465, device='cuda:0', grad_fn=<UnbindBackward0>), tensor(0.3431, device='cuda:0', grad_fn=<UnbindBackward0>), tensor(0.0308, device='cuda:0', grad_fn=<DivBackward0>), tensor(-0.1079, device='cuda:0', grad_fn=<UnbindBackward0>), tensor(-0.1439, device='cuda:0', grad_fn=<UnbindBackward0>)]\n",
      "detokenized ['[CLS]', 'been', 'modeled', 'on', 'the', 'worst', 'revenge', '-', 'of', '-', 'the', '-', 'ne', 'rds', 'cl', 'iche', 's', 'the', 'filmmakers', 'could', 'dr', 'edge', 'up', '[SEP]']\n",
      "len conti_raw 14\n",
      "conti_raw ['[CLS]', 'been', 'modeled', 'on', 'the', 'worst', 'revenge-of-the-nerds', 'cliches', 'the', 'filmmakers', 'could', 'dredge', 'up', '[SEP]']\n"
     ]
    },
    {
     "data": {
      "text/html": [
       "<table width: 100%><div style=\"border-top: 1px solid; margin-top: 5px;             padding-top: 5px; display: inline-block\"><b>Legend: </b><span style=\"display: inline-block; width: 10px; height: 10px;                 border: 1px solid; background-color:                 hsl(0, 75%, 60%)\"></span> Negative  <span style=\"display: inline-block; width: 10px; height: 10px;                 border: 1px solid; background-color:                 hsl(0, 75%, 100%)\"></span> Neutral  <span style=\"display: inline-block; width: 10px; height: 10px;                 border: 1px solid; background-color:                 hsl(120, 75%, 50%)\"></span> Positive  </div><tr><th>True Label</th><th>Predicted Label</th><th>Attribution Label</th><th>Attribution Score</th><th>Word Importance</th><tr><td><text style=\"padding-right:2em\"><b>Neg</b></text></td><td><text style=\"padding-right:2em\"><b>Neg (0.03)</b></text></td><td><text style=\"padding-right:2em\"><b>Neg</b></text></td><td><text style=\"padding-right:2em\"><b>-0.58</b></text></td><td><mark style=\"background-color: hsl(120, 75%, 94%); opacity:1.0;                     line-height:1.75\"><font color=\"black\"> [CLS]                    </font></mark><mark style=\"background-color: hsl(120, 75%, 99%); opacity:1.0;                     line-height:1.75\"><font color=\"black\"> been                    </font></mark><mark style=\"background-color: hsl(0, 75%, 88%); opacity:1.0;                     line-height:1.75\"><font color=\"black\"> modeled                    </font></mark><mark style=\"background-color: hsl(0, 75%, 98%); opacity:1.0;                     line-height:1.75\"><font color=\"black\"> on                    </font></mark><mark style=\"background-color: hsl(0, 75%, 100%); opacity:1.0;                     line-height:1.75\"><font color=\"black\"> the                    </font></mark><mark style=\"background-color: hsl(120, 75%, 89%); opacity:1.0;                     line-height:1.75\"><font color=\"black\"> worst                    </font></mark><mark style=\"background-color: hsl(0, 75%, 96%); opacity:1.0;                     line-height:1.75\"><font color=\"black\"> revenge-of-the-nerds                    </font></mark><mark style=\"background-color: hsl(120, 75%, 98%); opacity:1.0;                     line-height:1.75\"><font color=\"black\"> cliches                    </font></mark><mark style=\"background-color: hsl(0, 75%, 91%); opacity:1.0;                     line-height:1.75\"><font color=\"black\"> the                    </font></mark><mark style=\"background-color: hsl(0, 75%, 99%); opacity:1.0;                     line-height:1.75\"><font color=\"black\"> filmmakers                    </font></mark><mark style=\"background-color: hsl(120, 75%, 83%); opacity:1.0;                     line-height:1.75\"><font color=\"black\"> could                    </font></mark><mark style=\"background-color: hsl(120, 75%, 99%); opacity:1.0;                     line-height:1.75\"><font color=\"black\"> dredge                    </font></mark><mark style=\"background-color: hsl(0, 75%, 96%); opacity:1.0;                     line-height:1.75\"><font color=\"black\"> up                    </font></mark><mark style=\"background-color: hsl(0, 75%, 95%); opacity:1.0;                     line-height:1.75\"><font color=\"black\"> [SEP]                    </font></mark></td><tr></table>"
      ],
      "text/plain": [
       "<IPython.core.display.HTML object>"
      ]
     },
     "metadata": {},
     "output_type": "display_data"
    },
    {
     "name": "stdout",
     "output_type": "stream",
     "text": [
      "<IPython.core.display.HTML object>\n",
      "Raw review: tell you \n",
      "GT target: 1\n",
      "word attr tensor([-0.2864,  0.8182,  0.2492, -0.4317], device='cuda:0',\n",
      "       grad_fn=<DivBackward0>)\n",
      "conti attr [tensor(-0.2864, device='cuda:0', grad_fn=<UnbindBackward0>), tensor(0.8182, device='cuda:0', grad_fn=<UnbindBackward0>), tensor(0.2492, device='cuda:0', grad_fn=<UnbindBackward0>), tensor(-0.4317, device='cuda:0', grad_fn=<UnbindBackward0>)]\n",
      "detokenized ['[CLS]', 'tell', 'you', '[SEP]']\n",
      "len conti_raw 4\n",
      "conti_raw ['[CLS]', 'tell', 'you', '[SEP]']\n"
     ]
    },
    {
     "data": {
      "text/html": [
       "<table width: 100%><div style=\"border-top: 1px solid; margin-top: 5px;             padding-top: 5px; display: inline-block\"><b>Legend: </b><span style=\"display: inline-block; width: 10px; height: 10px;                 border: 1px solid; background-color:                 hsl(0, 75%, 60%)\"></span> Negative  <span style=\"display: inline-block; width: 10px; height: 10px;                 border: 1px solid; background-color:                 hsl(0, 75%, 100%)\"></span> Neutral  <span style=\"display: inline-block; width: 10px; height: 10px;                 border: 1px solid; background-color:                 hsl(120, 75%, 50%)\"></span> Positive  </div><tr><th>True Label</th><th>Predicted Label</th><th>Attribution Label</th><th>Attribution Score</th><th>Word Importance</th><tr><td><text style=\"padding-right:2em\"><b>Pos</b></text></td><td><text style=\"padding-right:2em\"><b>Pos (0.90)</b></text></td><td><text style=\"padding-right:2em\"><b>Neg</b></text></td><td><text style=\"padding-right:2em\"><b>0.35</b></text></td><td><mark style=\"background-color: hsl(0, 75%, 89%); opacity:1.0;                     line-height:1.75\"><font color=\"black\"> [CLS]                    </font></mark><mark style=\"background-color: hsl(120, 75%, 60%); opacity:1.0;                     line-height:1.75\"><font color=\"black\"> tell                    </font></mark><mark style=\"background-color: hsl(120, 75%, 88%); opacity:1.0;                     line-height:1.75\"><font color=\"black\"> you                    </font></mark><mark style=\"background-color: hsl(0, 75%, 83%); opacity:1.0;                     line-height:1.75\"><font color=\"black\"> [SEP]                    </font></mark></td><tr></table>"
      ],
      "text/plain": [
       "<IPython.core.display.HTML object>"
      ]
     },
     "metadata": {},
     "output_type": "display_data"
    },
    {
     "name": "stdout",
     "output_type": "stream",
     "text": [
      "<IPython.core.display.HTML object>\n",
      "Raw review: utterly absorbing \n",
      "GT target: 1\n",
      "word attr tensor([-0.0372, -0.2926,  0.4573, -0.8390], device='cuda:0',\n",
      "       grad_fn=<DivBackward0>)\n",
      "conti attr [tensor(-0.0372, device='cuda:0', grad_fn=<UnbindBackward0>), tensor(-0.2926, device='cuda:0', grad_fn=<UnbindBackward0>), tensor(0.4573, device='cuda:0', grad_fn=<UnbindBackward0>), tensor(-0.8390, device='cuda:0', grad_fn=<UnbindBackward0>)]\n",
      "detokenized ['[CLS]', 'utterly', 'absorbing', '[SEP]']\n",
      "len conti_raw 4\n",
      "conti_raw ['[CLS]', 'utterly', 'absorbing', '[SEP]']\n"
     ]
    },
    {
     "data": {
      "text/html": [
       "<table width: 100%><div style=\"border-top: 1px solid; margin-top: 5px;             padding-top: 5px; display: inline-block\"><b>Legend: </b><span style=\"display: inline-block; width: 10px; height: 10px;                 border: 1px solid; background-color:                 hsl(0, 75%, 60%)\"></span> Negative  <span style=\"display: inline-block; width: 10px; height: 10px;                 border: 1px solid; background-color:                 hsl(0, 75%, 100%)\"></span> Neutral  <span style=\"display: inline-block; width: 10px; height: 10px;                 border: 1px solid; background-color:                 hsl(120, 75%, 50%)\"></span> Positive  </div><tr><th>True Label</th><th>Predicted Label</th><th>Attribution Label</th><th>Attribution Score</th><th>Word Importance</th><tr><td><text style=\"padding-right:2em\"><b>Pos</b></text></td><td><text style=\"padding-right:2em\"><b>Pos (0.97)</b></text></td><td><text style=\"padding-right:2em\"><b>Neg</b></text></td><td><text style=\"padding-right:2em\"><b>-0.71</b></text></td><td><mark style=\"background-color: hsl(0, 75%, 99%); opacity:1.0;                     line-height:1.75\"><font color=\"black\"> [CLS]                    </font></mark><mark style=\"background-color: hsl(0, 75%, 89%); opacity:1.0;                     line-height:1.75\"><font color=\"black\"> utterly                    </font></mark><mark style=\"background-color: hsl(120, 75%, 78%); opacity:1.0;                     line-height:1.75\"><font color=\"black\"> absorbing                    </font></mark><mark style=\"background-color: hsl(0, 75%, 67%); opacity:1.0;                     line-height:1.75\"><font color=\"black\"> [SEP]                    </font></mark></td><tr></table>"
      ],
      "text/plain": [
       "<IPython.core.display.HTML object>"
      ]
     },
     "metadata": {},
     "output_type": "display_data"
    },
    {
     "name": "stdout",
     "output_type": "stream",
     "text": [
      "<IPython.core.display.HTML object>\n",
      "Raw review: restate \n",
      "GT target: 0\n",
      "word attr tensor([-0.6929,  0.0130,  0.0525,  0.7190], device='cuda:0',\n",
      "       grad_fn=<DivBackward0>)\n",
      "conti attr [tensor(-0.6929, device='cuda:0', grad_fn=<UnbindBackward0>), tensor(0.0327, device='cuda:0', grad_fn=<DivBackward0>), tensor(0.7190, device='cuda:0', grad_fn=<UnbindBackward0>)]\n",
      "detokenized ['[CLS]', 'rest', 'ate', '[SEP]']\n",
      "len conti_raw 3\n",
      "conti_raw ['[CLS]', 'restate', '[SEP]']\n"
     ]
    },
    {
     "data": {
      "text/html": [
       "<table width: 100%><div style=\"border-top: 1px solid; margin-top: 5px;             padding-top: 5px; display: inline-block\"><b>Legend: </b><span style=\"display: inline-block; width: 10px; height: 10px;                 border: 1px solid; background-color:                 hsl(0, 75%, 60%)\"></span> Negative  <span style=\"display: inline-block; width: 10px; height: 10px;                 border: 1px solid; background-color:                 hsl(0, 75%, 100%)\"></span> Neutral  <span style=\"display: inline-block; width: 10px; height: 10px;                 border: 1px solid; background-color:                 hsl(120, 75%, 50%)\"></span> Positive  </div><tr><th>True Label</th><th>Predicted Label</th><th>Attribution Label</th><th>Attribution Score</th><th>Word Importance</th><tr><td><text style=\"padding-right:2em\"><b>Neg</b></text></td><td><text style=\"padding-right:2em\"><b>Pos (0.55)</b></text></td><td><text style=\"padding-right:2em\"><b>Neg</b></text></td><td><text style=\"padding-right:2em\"><b>0.09</b></text></td><td><mark style=\"background-color: hsl(0, 75%, 73%); opacity:1.0;                     line-height:1.75\"><font color=\"black\"> [CLS]                    </font></mark><mark style=\"background-color: hsl(120, 75%, 99%); opacity:1.0;                     line-height:1.75\"><font color=\"black\"> restate                    </font></mark><mark style=\"background-color: hsl(120, 75%, 65%); opacity:1.0;                     line-height:1.75\"><font color=\"black\"> [SEP]                    </font></mark></td><tr></table>"
      ],
      "text/plain": [
       "<IPython.core.display.HTML object>"
      ]
     },
     "metadata": {},
     "output_type": "display_data"
    },
    {
     "name": "stdout",
     "output_type": "stream",
     "text": [
      "<IPython.core.display.HTML object>\n",
      "Raw review: bears about as much resemblance to the experiences of most battered women as spider-man \n",
      "GT target: 0\n",
      "word attr tensor([-0.0937, -0.3520, -0.0391,  0.1583, -0.3297, -0.0060,  0.1230, -0.2364,\n",
      "         0.7079,  0.0739, -0.1788,  0.0511,  0.2818, -0.0439, -0.0893,  0.0463,\n",
      "        -0.1592, -0.0553], device='cuda:0', grad_fn=<DivBackward0>)\n",
      "conti attr [tensor(-0.0937, device='cuda:0', grad_fn=<UnbindBackward0>), tensor(-0.3520, device='cuda:0', grad_fn=<UnbindBackward0>), tensor(-0.0391, device='cuda:0', grad_fn=<UnbindBackward0>), tensor(0.1583, device='cuda:0', grad_fn=<UnbindBackward0>), tensor(-0.3297, device='cuda:0', grad_fn=<UnbindBackward0>), tensor(-0.0060, device='cuda:0', grad_fn=<UnbindBackward0>), tensor(0.1230, device='cuda:0', grad_fn=<UnbindBackward0>), tensor(-0.2364, device='cuda:0', grad_fn=<UnbindBackward0>), tensor(0.7079, device='cuda:0', grad_fn=<UnbindBackward0>), tensor(0.0739, device='cuda:0', grad_fn=<UnbindBackward0>), tensor(-0.1788, device='cuda:0', grad_fn=<UnbindBackward0>), tensor(0.0511, device='cuda:0', grad_fn=<UnbindBackward0>), tensor(0.2818, device='cuda:0', grad_fn=<UnbindBackward0>), tensor(-0.0439, device='cuda:0', grad_fn=<UnbindBackward0>), tensor(-0.0904, device='cuda:0', grad_fn=<DivBackward0>), tensor(-0.0553, device='cuda:0', grad_fn=<UnbindBackward0>)]\n",
      "detokenized ['[CLS]', 'bears', 'about', 'as', 'much', 'resemblance', 'to', 'the', 'experiences', 'of', 'most', 'battered', 'women', 'as', 'spider', '-', 'man', '[SEP]']\n",
      "len conti_raw 16\n",
      "conti_raw ['[CLS]', 'bears', 'about', 'as', 'much', 'resemblance', 'to', 'the', 'experiences', 'of', 'most', 'battered', 'women', 'as', 'spider-man', '[SEP]']\n"
     ]
    },
    {
     "data": {
      "text/html": [
       "<table width: 100%><div style=\"border-top: 1px solid; margin-top: 5px;             padding-top: 5px; display: inline-block\"><b>Legend: </b><span style=\"display: inline-block; width: 10px; height: 10px;                 border: 1px solid; background-color:                 hsl(0, 75%, 60%)\"></span> Negative  <span style=\"display: inline-block; width: 10px; height: 10px;                 border: 1px solid; background-color:                 hsl(0, 75%, 100%)\"></span> Neutral  <span style=\"display: inline-block; width: 10px; height: 10px;                 border: 1px solid; background-color:                 hsl(120, 75%, 50%)\"></span> Positive  </div><tr><th>True Label</th><th>Predicted Label</th><th>Attribution Label</th><th>Attribution Score</th><th>Word Importance</th><tr><td><text style=\"padding-right:2em\"><b>Neg</b></text></td><td><text style=\"padding-right:2em\"><b>Pos (0.71)</b></text></td><td><text style=\"padding-right:2em\"><b>Neg</b></text></td><td><text style=\"padding-right:2em\"><b>-0.14</b></text></td><td><mark style=\"background-color: hsl(0, 75%, 97%); opacity:1.0;                     line-height:1.75\"><font color=\"black\"> [CLS]                    </font></mark><mark style=\"background-color: hsl(0, 75%, 86%); opacity:1.0;                     line-height:1.75\"><font color=\"black\"> bears                    </font></mark><mark style=\"background-color: hsl(0, 75%, 99%); opacity:1.0;                     line-height:1.75\"><font color=\"black\"> about                    </font></mark><mark style=\"background-color: hsl(120, 75%, 93%); opacity:1.0;                     line-height:1.75\"><font color=\"black\"> as                    </font></mark><mark style=\"background-color: hsl(0, 75%, 87%); opacity:1.0;                     line-height:1.75\"><font color=\"black\"> much                    </font></mark><mark style=\"background-color: hsl(0, 75%, 100%); opacity:1.0;                     line-height:1.75\"><font color=\"black\"> resemblance                    </font></mark><mark style=\"background-color: hsl(120, 75%, 94%); opacity:1.0;                     line-height:1.75\"><font color=\"black\"> to                    </font></mark><mark style=\"background-color: hsl(0, 75%, 91%); opacity:1.0;                     line-height:1.75\"><font color=\"black\"> the                    </font></mark><mark style=\"background-color: hsl(120, 75%, 65%); opacity:1.0;                     line-height:1.75\"><font color=\"black\"> experiences                    </font></mark><mark style=\"background-color: hsl(120, 75%, 97%); opacity:1.0;                     line-height:1.75\"><font color=\"black\"> of                    </font></mark><mark style=\"background-color: hsl(0, 75%, 93%); opacity:1.0;                     line-height:1.75\"><font color=\"black\"> most                    </font></mark><mark style=\"background-color: hsl(120, 75%, 98%); opacity:1.0;                     line-height:1.75\"><font color=\"black\"> battered                    </font></mark><mark style=\"background-color: hsl(120, 75%, 86%); opacity:1.0;                     line-height:1.75\"><font color=\"black\"> women                    </font></mark><mark style=\"background-color: hsl(0, 75%, 99%); opacity:1.0;                     line-height:1.75\"><font color=\"black\"> as                    </font></mark><mark style=\"background-color: hsl(0, 75%, 97%); opacity:1.0;                     line-height:1.75\"><font color=\"black\"> spider-man                    </font></mark><mark style=\"background-color: hsl(0, 75%, 98%); opacity:1.0;                     line-height:1.75\"><font color=\"black\"> [SEP]                    </font></mark></td><tr></table>"
      ],
      "text/plain": [
       "<IPython.core.display.HTML object>"
      ]
     },
     "metadata": {},
     "output_type": "display_data"
    },
    {
     "name": "stdout",
     "output_type": "stream",
     "text": [
      "<IPython.core.display.HTML object>\n",
      "Raw review: expressively performed \n",
      "GT target: 1\n",
      "word attr tensor([ 0.3049,  0.2824, -0.8426,  0.3087,  0.1485], device='cuda:0',\n",
      "       grad_fn=<DivBackward0>)\n",
      "conti attr [tensor(0.3049, device='cuda:0', grad_fn=<UnbindBackward0>), tensor(-0.2801, device='cuda:0', grad_fn=<DivBackward0>), tensor(0.3087, device='cuda:0', grad_fn=<UnbindBackward0>), tensor(0.1485, device='cuda:0', grad_fn=<UnbindBackward0>)]\n",
      "detokenized ['[CLS]', 'expressive', 'ly', 'performed', '[SEP]']\n",
      "len conti_raw 4\n",
      "conti_raw ['[CLS]', 'expressively', 'performed', '[SEP]']\n"
     ]
    },
    {
     "data": {
      "text/html": [
       "<table width: 100%><div style=\"border-top: 1px solid; margin-top: 5px;             padding-top: 5px; display: inline-block\"><b>Legend: </b><span style=\"display: inline-block; width: 10px; height: 10px;                 border: 1px solid; background-color:                 hsl(0, 75%, 60%)\"></span> Negative  <span style=\"display: inline-block; width: 10px; height: 10px;                 border: 1px solid; background-color:                 hsl(0, 75%, 100%)\"></span> Neutral  <span style=\"display: inline-block; width: 10px; height: 10px;                 border: 1px solid; background-color:                 hsl(120, 75%, 50%)\"></span> Positive  </div><tr><th>True Label</th><th>Predicted Label</th><th>Attribution Label</th><th>Attribution Score</th><th>Word Importance</th><tr><td><text style=\"padding-right:2em\"><b>Pos</b></text></td><td><text style=\"padding-right:2em\"><b>Pos (0.98)</b></text></td><td><text style=\"padding-right:2em\"><b>Neg</b></text></td><td><text style=\"padding-right:2em\"><b>0.20</b></text></td><td><mark style=\"background-color: hsl(120, 75%, 85%); opacity:1.0;                     line-height:1.75\"><font color=\"black\"> [CLS]                    </font></mark><mark style=\"background-color: hsl(0, 75%, 89%); opacity:1.0;                     line-height:1.75\"><font color=\"black\"> expressively                    </font></mark><mark style=\"background-color: hsl(120, 75%, 85%); opacity:1.0;                     line-height:1.75\"><font color=\"black\"> performed                    </font></mark><mark style=\"background-color: hsl(120, 75%, 93%); opacity:1.0;                     line-height:1.75\"><font color=\"black\"> [SEP]                    </font></mark></td><tr></table>"
      ],
      "text/plain": [
       "<IPython.core.display.HTML object>"
      ]
     },
     "metadata": {},
     "output_type": "display_data"
    },
    {
     "name": "stdout",
     "output_type": "stream",
     "text": [
      "<IPython.core.display.HTML object>\n",
      "Raw review: the acting is amateurish , the cinematography is atrocious \n",
      "GT target: 0\n",
      "word attr tensor([-0.2099,  0.0587,  0.3264, -0.0168,  0.5265, -0.3773,  0.1420,  0.0701,\n",
      "        -0.0436, -0.1681,  0.2729, -0.4802, -0.1240, -0.2246], device='cuda:0',\n",
      "       grad_fn=<DivBackward0>)\n",
      "conti attr [tensor(-0.2099, device='cuda:0', grad_fn=<UnbindBackward0>), tensor(0.0587, device='cuda:0', grad_fn=<UnbindBackward0>), tensor(0.3264, device='cuda:0', grad_fn=<UnbindBackward0>), tensor(-0.0168, device='cuda:0', grad_fn=<UnbindBackward0>), tensor(0.0746, device='cuda:0', grad_fn=<DivBackward0>), tensor(0.1420, device='cuda:0', grad_fn=<UnbindBackward0>), tensor(0.0701, device='cuda:0', grad_fn=<UnbindBackward0>), tensor(-0.0436, device='cuda:0', grad_fn=<UnbindBackward0>), tensor(-0.1681, device='cuda:0', grad_fn=<UnbindBackward0>), tensor(-0.1138, device='cuda:0', grad_fn=<DivBackward0>), tensor(-0.2246, device='cuda:0', grad_fn=<UnbindBackward0>)]\n",
      "detokenized ['[CLS]', 'the', 'acting', 'is', 'amateur', 'ish', ',', 'the', 'cinematography', 'is', 'at', 'ro', 'cious', '[SEP]']\n",
      "len conti_raw 11\n",
      "conti_raw ['[CLS]', 'the', 'acting', 'is', 'amateurish', ',', 'the', 'cinematography', 'is', 'atrocious', '[SEP]']\n"
     ]
    },
    {
     "data": {
      "text/html": [
       "<table width: 100%><div style=\"border-top: 1px solid; margin-top: 5px;             padding-top: 5px; display: inline-block\"><b>Legend: </b><span style=\"display: inline-block; width: 10px; height: 10px;                 border: 1px solid; background-color:                 hsl(0, 75%, 60%)\"></span> Negative  <span style=\"display: inline-block; width: 10px; height: 10px;                 border: 1px solid; background-color:                 hsl(0, 75%, 100%)\"></span> Neutral  <span style=\"display: inline-block; width: 10px; height: 10px;                 border: 1px solid; background-color:                 hsl(120, 75%, 50%)\"></span> Positive  </div><tr><th>True Label</th><th>Predicted Label</th><th>Attribution Label</th><th>Attribution Score</th><th>Word Importance</th><tr><td><text style=\"padding-right:2em\"><b>Neg</b></text></td><td><text style=\"padding-right:2em\"><b>Neg (0.03)</b></text></td><td><text style=\"padding-right:2em\"><b>Neg</b></text></td><td><text style=\"padding-right:2em\"><b>-0.25</b></text></td><td><mark style=\"background-color: hsl(0, 75%, 92%); opacity:1.0;                     line-height:1.75\"><font color=\"black\"> [CLS]                    </font></mark><mark style=\"background-color: hsl(120, 75%, 98%); opacity:1.0;                     line-height:1.75\"><font color=\"black\"> the                    </font></mark><mark style=\"background-color: hsl(120, 75%, 84%); opacity:1.0;                     line-height:1.75\"><font color=\"black\"> acting                    </font></mark><mark style=\"background-color: hsl(0, 75%, 100%); opacity:1.0;                     line-height:1.75\"><font color=\"black\"> is                    </font></mark><mark style=\"background-color: hsl(120, 75%, 97%); opacity:1.0;                     line-height:1.75\"><font color=\"black\"> amateurish                    </font></mark><mark style=\"background-color: hsl(120, 75%, 93%); opacity:1.0;                     line-height:1.75\"><font color=\"black\"> ,                    </font></mark><mark style=\"background-color: hsl(120, 75%, 97%); opacity:1.0;                     line-height:1.75\"><font color=\"black\"> the                    </font></mark><mark style=\"background-color: hsl(0, 75%, 99%); opacity:1.0;                     line-height:1.75\"><font color=\"black\"> cinematography                    </font></mark><mark style=\"background-color: hsl(0, 75%, 94%); opacity:1.0;                     line-height:1.75\"><font color=\"black\"> is                    </font></mark><mark style=\"background-color: hsl(0, 75%, 96%); opacity:1.0;                     line-height:1.75\"><font color=\"black\"> atrocious                    </font></mark><mark style=\"background-color: hsl(0, 75%, 92%); opacity:1.0;                     line-height:1.75\"><font color=\"black\"> [SEP]                    </font></mark></td><tr></table>"
      ],
      "text/plain": [
       "<IPython.core.display.HTML object>"
      ]
     },
     "metadata": {},
     "output_type": "display_data"
    },
    {
     "name": "stdout",
     "output_type": "stream",
     "text": [
      "<IPython.core.display.HTML object>\n",
      "Raw review: solidly constructed \n",
      "GT target: 1\n",
      "word attr tensor([ 0.0858,  0.5333,  0.0452, -0.8401, -0.0206], device='cuda:0',\n",
      "       grad_fn=<DivBackward0>)\n",
      "conti attr [tensor(0.0858, device='cuda:0', grad_fn=<UnbindBackward0>), tensor(0.2892, device='cuda:0', grad_fn=<DivBackward0>), tensor(-0.8401, device='cuda:0', grad_fn=<UnbindBackward0>), tensor(-0.0206, device='cuda:0', grad_fn=<UnbindBackward0>)]\n",
      "detokenized ['[CLS]', 'solid', 'ly', 'constructed', '[SEP]']\n",
      "len conti_raw 4\n",
      "conti_raw ['[CLS]', 'solidly', 'constructed', '[SEP]']\n"
     ]
    },
    {
     "data": {
      "text/html": [
       "<table width: 100%><div style=\"border-top: 1px solid; margin-top: 5px;             padding-top: 5px; display: inline-block\"><b>Legend: </b><span style=\"display: inline-block; width: 10px; height: 10px;                 border: 1px solid; background-color:                 hsl(0, 75%, 60%)\"></span> Negative  <span style=\"display: inline-block; width: 10px; height: 10px;                 border: 1px solid; background-color:                 hsl(0, 75%, 100%)\"></span> Neutral  <span style=\"display: inline-block; width: 10px; height: 10px;                 border: 1px solid; background-color:                 hsl(120, 75%, 50%)\"></span> Positive  </div><tr><th>True Label</th><th>Predicted Label</th><th>Attribution Label</th><th>Attribution Score</th><th>Word Importance</th><tr><td><text style=\"padding-right:2em\"><b>Pos</b></text></td><td><text style=\"padding-right:2em\"><b>Pos (0.97)</b></text></td><td><text style=\"padding-right:2em\"><b>Neg</b></text></td><td><text style=\"padding-right:2em\"><b>-0.20</b></text></td><td><mark style=\"background-color: hsl(120, 75%, 96%); opacity:1.0;                     line-height:1.75\"><font color=\"black\"> [CLS]                    </font></mark><mark style=\"background-color: hsl(120, 75%, 86%); opacity:1.0;                     line-height:1.75\"><font color=\"black\"> solidly                    </font></mark><mark style=\"background-color: hsl(0, 75%, 67%); opacity:1.0;                     line-height:1.75\"><font color=\"black\"> constructed                    </font></mark><mark style=\"background-color: hsl(0, 75%, 100%); opacity:1.0;                     line-height:1.75\"><font color=\"black\"> [SEP]                    </font></mark></td><tr></table>"
      ],
      "text/plain": [
       "<IPython.core.display.HTML object>"
      ]
     },
     "metadata": {},
     "output_type": "display_data"
    },
    {
     "name": "stdout",
     "output_type": "stream",
     "text": [
      "<IPython.core.display.HTML object>\n",
      "Raw review: are undermined by the movie 's presentation , which is way too stagy \n",
      "GT target: 0\n",
      "word attr tensor([ 0.0321,  0.1144, -0.6278,  0.3089,  0.1129, -0.0523,  0.5110,  0.0148,\n",
      "         0.0360,  0.0619, -0.0430,  0.1437, -0.1046, -0.0371,  0.0089,  0.3950,\n",
      "        -0.1416,  0.0296, -0.0504], device='cuda:0', grad_fn=<DivBackward0>)\n",
      "conti attr [tensor(0.0321, device='cuda:0', grad_fn=<UnbindBackward0>), tensor(0.1144, device='cuda:0', grad_fn=<UnbindBackward0>), tensor(-0.1595, device='cuda:0', grad_fn=<DivBackward0>), tensor(0.1129, device='cuda:0', grad_fn=<UnbindBackward0>), tensor(-0.0523, device='cuda:0', grad_fn=<UnbindBackward0>), tensor(0.5110, device='cuda:0', grad_fn=<UnbindBackward0>), tensor(0.0254, device='cuda:0', grad_fn=<DivBackward0>), tensor(0.0619, device='cuda:0', grad_fn=<UnbindBackward0>), tensor(-0.0430, device='cuda:0', grad_fn=<UnbindBackward0>), tensor(0.1437, device='cuda:0', grad_fn=<UnbindBackward0>), tensor(-0.1046, device='cuda:0', grad_fn=<UnbindBackward0>), tensor(-0.0371, device='cuda:0', grad_fn=<UnbindBackward0>), tensor(0.0089, device='cuda:0', grad_fn=<UnbindBackward0>), tensor(0.0781, device='cuda:0', grad_fn=<DivBackward0>), tensor(-0.0504, device='cuda:0', grad_fn=<UnbindBackward0>)]\n",
      "detokenized ['[CLS]', 'are', 'undermine', 'd', 'by', 'the', 'movie', \"'\", 's', 'presentation', ',', 'which', 'is', 'way', 'too', 'st', 'ag', 'y', '[SEP]']\n",
      "len conti_raw 15\n",
      "conti_raw ['[CLS]', 'are', 'undermined', 'by', 'the', 'movie', \"'s\", 'presentation', ',', 'which', 'is', 'way', 'too', 'stagy', '[SEP]']\n"
     ]
    },
    {
     "data": {
      "text/html": [
       "<table width: 100%><div style=\"border-top: 1px solid; margin-top: 5px;             padding-top: 5px; display: inline-block\"><b>Legend: </b><span style=\"display: inline-block; width: 10px; height: 10px;                 border: 1px solid; background-color:                 hsl(0, 75%, 60%)\"></span> Negative  <span style=\"display: inline-block; width: 10px; height: 10px;                 border: 1px solid; background-color:                 hsl(0, 75%, 100%)\"></span> Neutral  <span style=\"display: inline-block; width: 10px; height: 10px;                 border: 1px solid; background-color:                 hsl(120, 75%, 50%)\"></span> Positive  </div><tr><th>True Label</th><th>Predicted Label</th><th>Attribution Label</th><th>Attribution Score</th><th>Word Importance</th><tr><td><text style=\"padding-right:2em\"><b>Neg</b></text></td><td><text style=\"padding-right:2em\"><b>Neg (0.04)</b></text></td><td><text style=\"padding-right:2em\"><b>Pos</b></text></td><td><text style=\"padding-right:2em\"><b>0.71</b></text></td><td><mark style=\"background-color: hsl(120, 75%, 99%); opacity:1.0;                     line-height:1.75\"><font color=\"black\"> [CLS]                    </font></mark><mark style=\"background-color: hsl(120, 75%, 95%); opacity:1.0;                     line-height:1.75\"><font color=\"black\"> are                    </font></mark><mark style=\"background-color: hsl(0, 75%, 94%); opacity:1.0;                     line-height:1.75\"><font color=\"black\"> undermined                    </font></mark><mark style=\"background-color: hsl(120, 75%, 95%); opacity:1.0;                     line-height:1.75\"><font color=\"black\"> by                    </font></mark><mark style=\"background-color: hsl(0, 75%, 98%); opacity:1.0;                     line-height:1.75\"><font color=\"black\"> the                    </font></mark><mark style=\"background-color: hsl(120, 75%, 75%); opacity:1.0;                     line-height:1.75\"><font color=\"black\"> movie                    </font></mark><mark style=\"background-color: hsl(120, 75%, 99%); opacity:1.0;                     line-height:1.75\"><font color=\"black\"> 's                    </font></mark><mark style=\"background-color: hsl(120, 75%, 97%); opacity:1.0;                     line-height:1.75\"><font color=\"black\"> presentation                    </font></mark><mark style=\"background-color: hsl(0, 75%, 99%); opacity:1.0;                     line-height:1.75\"><font color=\"black\"> ,                    </font></mark><mark style=\"background-color: hsl(120, 75%, 93%); opacity:1.0;                     line-height:1.75\"><font color=\"black\"> which                    </font></mark><mark style=\"background-color: hsl(0, 75%, 96%); opacity:1.0;                     line-height:1.75\"><font color=\"black\"> is                    </font></mark><mark style=\"background-color: hsl(0, 75%, 99%); opacity:1.0;                     line-height:1.75\"><font color=\"black\"> way                    </font></mark><mark style=\"background-color: hsl(120, 75%, 100%); opacity:1.0;                     line-height:1.75\"><font color=\"black\"> too                    </font></mark><mark style=\"background-color: hsl(120, 75%, 97%); opacity:1.0;                     line-height:1.75\"><font color=\"black\"> stagy                    </font></mark><mark style=\"background-color: hsl(0, 75%, 98%); opacity:1.0;                     line-height:1.75\"><font color=\"black\"> [SEP]                    </font></mark></td><tr></table>"
      ],
      "text/plain": [
       "<IPython.core.display.HTML object>"
      ]
     },
     "metadata": {},
     "output_type": "display_data"
    },
    {
     "name": "stdout",
     "output_type": "stream",
     "text": [
      "<IPython.core.display.HTML object>\n",
      "Raw review: a great film \n",
      "GT target: 1\n",
      "word attr tensor([-0.1021, -0.0564, -0.2521,  0.6676, -0.6908], device='cuda:0',\n",
      "       grad_fn=<DivBackward0>)\n",
      "conti attr [tensor(-0.1021, device='cuda:0', grad_fn=<UnbindBackward0>), tensor(-0.0564, device='cuda:0', grad_fn=<UnbindBackward0>), tensor(-0.2521, device='cuda:0', grad_fn=<UnbindBackward0>), tensor(0.6676, device='cuda:0', grad_fn=<UnbindBackward0>), tensor(-0.6908, device='cuda:0', grad_fn=<UnbindBackward0>)]\n",
      "detokenized ['[CLS]', 'a', 'great', 'film', '[SEP]']\n",
      "len conti_raw 5\n",
      "conti_raw ['[CLS]', 'a', 'great', 'film', '[SEP]']\n"
     ]
    },
    {
     "data": {
      "text/html": [
       "<table width: 100%><div style=\"border-top: 1px solid; margin-top: 5px;             padding-top: 5px; display: inline-block\"><b>Legend: </b><span style=\"display: inline-block; width: 10px; height: 10px;                 border: 1px solid; background-color:                 hsl(0, 75%, 60%)\"></span> Negative  <span style=\"display: inline-block; width: 10px; height: 10px;                 border: 1px solid; background-color:                 hsl(0, 75%, 100%)\"></span> Neutral  <span style=\"display: inline-block; width: 10px; height: 10px;                 border: 1px solid; background-color:                 hsl(120, 75%, 50%)\"></span> Positive  </div><tr><th>True Label</th><th>Predicted Label</th><th>Attribution Label</th><th>Attribution Score</th><th>Word Importance</th><tr><td><text style=\"padding-right:2em\"><b>Pos</b></text></td><td><text style=\"padding-right:2em\"><b>Pos (0.97)</b></text></td><td><text style=\"padding-right:2em\"><b>Neg</b></text></td><td><text style=\"padding-right:2em\"><b>-0.43</b></text></td><td><mark style=\"background-color: hsl(0, 75%, 96%); opacity:1.0;                     line-height:1.75\"><font color=\"black\"> [CLS]                    </font></mark><mark style=\"background-color: hsl(0, 75%, 98%); opacity:1.0;                     line-height:1.75\"><font color=\"black\"> a                    </font></mark><mark style=\"background-color: hsl(0, 75%, 90%); opacity:1.0;                     line-height:1.75\"><font color=\"black\"> great                    </font></mark><mark style=\"background-color: hsl(120, 75%, 67%); opacity:1.0;                     line-height:1.75\"><font color=\"black\"> film                    </font></mark><mark style=\"background-color: hsl(0, 75%, 73%); opacity:1.0;                     line-height:1.75\"><font color=\"black\"> [SEP]                    </font></mark></td><tr></table>"
      ],
      "text/plain": [
       "<IPython.core.display.HTML object>"
      ]
     },
     "metadata": {},
     "output_type": "display_data"
    },
    {
     "name": "stdout",
     "output_type": "stream",
     "text": [
      "<IPython.core.display.HTML object>\n",
      "Raw review: charm \n",
      "GT target: 1\n",
      "word attr tensor([-0.0441, -0.9748,  0.2185], device='cuda:0', grad_fn=<DivBackward0>)\n",
      "conti attr [tensor(-0.0441, device='cuda:0', grad_fn=<UnbindBackward0>), tensor(-0.9748, device='cuda:0', grad_fn=<UnbindBackward0>), tensor(0.2185, device='cuda:0', grad_fn=<UnbindBackward0>)]\n",
      "detokenized ['[CLS]', 'charm', '[SEP]']\n",
      "len conti_raw 3\n",
      "conti_raw ['[CLS]', 'charm', '[SEP]']\n"
     ]
    },
    {
     "data": {
      "text/html": [
       "<table width: 100%><div style=\"border-top: 1px solid; margin-top: 5px;             padding-top: 5px; display: inline-block\"><b>Legend: </b><span style=\"display: inline-block; width: 10px; height: 10px;                 border: 1px solid; background-color:                 hsl(0, 75%, 60%)\"></span> Negative  <span style=\"display: inline-block; width: 10px; height: 10px;                 border: 1px solid; background-color:                 hsl(0, 75%, 100%)\"></span> Neutral  <span style=\"display: inline-block; width: 10px; height: 10px;                 border: 1px solid; background-color:                 hsl(120, 75%, 50%)\"></span> Positive  </div><tr><th>True Label</th><th>Predicted Label</th><th>Attribution Label</th><th>Attribution Score</th><th>Word Importance</th><tr><td><text style=\"padding-right:2em\"><b>Pos</b></text></td><td><text style=\"padding-right:2em\"><b>Pos (0.97)</b></text></td><td><text style=\"padding-right:2em\"><b>Neg</b></text></td><td><text style=\"padding-right:2em\"><b>-0.80</b></text></td><td><mark style=\"background-color: hsl(0, 75%, 99%); opacity:1.0;                     line-height:1.75\"><font color=\"black\"> [CLS]                    </font></mark><mark style=\"background-color: hsl(0, 75%, 62%); opacity:1.0;                     line-height:1.75\"><font color=\"black\"> charm                    </font></mark><mark style=\"background-color: hsl(120, 75%, 90%); opacity:1.0;                     line-height:1.75\"><font color=\"black\"> [SEP]                    </font></mark></td><tr></table>"
      ],
      "text/plain": [
       "<IPython.core.display.HTML object>"
      ]
     },
     "metadata": {},
     "output_type": "display_data"
    },
    {
     "name": "stdout",
     "output_type": "stream",
     "text": [
      "<IPython.core.display.HTML object>\n",
      "Raw review: this new jangle of noise , mayhem and stupidity \n",
      "GT target: 0\n",
      "word attr tensor([ 0.2094, -0.0305,  0.0692,  0.3135, -0.1718,  0.2173, -0.4039, -0.0596,\n",
      "         0.4814,  0.0401, -0.4982, -0.3566], device='cuda:0',\n",
      "       grad_fn=<DivBackward0>)\n",
      "conti attr [tensor(0.2094, device='cuda:0', grad_fn=<UnbindBackward0>), tensor(-0.0305, device='cuda:0', grad_fn=<UnbindBackward0>), tensor(0.0692, device='cuda:0', grad_fn=<UnbindBackward0>), tensor(0.0709, device='cuda:0', grad_fn=<DivBackward0>), tensor(0.2173, device='cuda:0', grad_fn=<UnbindBackward0>), tensor(-0.4039, device='cuda:0', grad_fn=<UnbindBackward0>), tensor(-0.0596, device='cuda:0', grad_fn=<UnbindBackward0>), tensor(0.4814, device='cuda:0', grad_fn=<UnbindBackward0>), tensor(0.0401, device='cuda:0', grad_fn=<UnbindBackward0>), tensor(-0.4982, device='cuda:0', grad_fn=<UnbindBackward0>), tensor(-0.3566, device='cuda:0', grad_fn=<UnbindBackward0>)]\n",
      "detokenized ['[CLS]', 'this', 'new', 'jang', 'le', 'of', 'noise', ',', 'mayhem', 'and', 'stupidity', '[SEP]']\n",
      "len conti_raw 11\n",
      "conti_raw ['[CLS]', 'this', 'new', 'jangle', 'of', 'noise', ',', 'mayhem', 'and', 'stupidity', '[SEP]']\n"
     ]
    },
    {
     "data": {
      "text/html": [
       "<table width: 100%><div style=\"border-top: 1px solid; margin-top: 5px;             padding-top: 5px; display: inline-block\"><b>Legend: </b><span style=\"display: inline-block; width: 10px; height: 10px;                 border: 1px solid; background-color:                 hsl(0, 75%, 60%)\"></span> Negative  <span style=\"display: inline-block; width: 10px; height: 10px;                 border: 1px solid; background-color:                 hsl(0, 75%, 100%)\"></span> Neutral  <span style=\"display: inline-block; width: 10px; height: 10px;                 border: 1px solid; background-color:                 hsl(120, 75%, 50%)\"></span> Positive  </div><tr><th>True Label</th><th>Predicted Label</th><th>Attribution Label</th><th>Attribution Score</th><th>Word Importance</th><tr><td><text style=\"padding-right:2em\"><b>Neg</b></text></td><td><text style=\"padding-right:2em\"><b>Neg (0.09)</b></text></td><td><text style=\"padding-right:2em\"><b>Neg</b></text></td><td><text style=\"padding-right:2em\"><b>-0.19</b></text></td><td><mark style=\"background-color: hsl(120, 75%, 90%); opacity:1.0;                     line-height:1.75\"><font color=\"black\"> [CLS]                    </font></mark><mark style=\"background-color: hsl(0, 75%, 99%); opacity:1.0;                     line-height:1.75\"><font color=\"black\"> this                    </font></mark><mark style=\"background-color: hsl(120, 75%, 97%); opacity:1.0;                     line-height:1.75\"><font color=\"black\"> new                    </font></mark><mark style=\"background-color: hsl(120, 75%, 97%); opacity:1.0;                     line-height:1.75\"><font color=\"black\"> jangle                    </font></mark><mark style=\"background-color: hsl(120, 75%, 90%); opacity:1.0;                     line-height:1.75\"><font color=\"black\"> of                    </font></mark><mark style=\"background-color: hsl(0, 75%, 84%); opacity:1.0;                     line-height:1.75\"><font color=\"black\"> noise                    </font></mark><mark style=\"background-color: hsl(0, 75%, 98%); opacity:1.0;                     line-height:1.75\"><font color=\"black\"> ,                    </font></mark><mark style=\"background-color: hsl(120, 75%, 76%); opacity:1.0;                     line-height:1.75\"><font color=\"black\"> mayhem                    </font></mark><mark style=\"background-color: hsl(120, 75%, 98%); opacity:1.0;                     line-height:1.75\"><font color=\"black\"> and                    </font></mark><mark style=\"background-color: hsl(0, 75%, 81%); opacity:1.0;                     line-height:1.75\"><font color=\"black\"> stupidity                    </font></mark><mark style=\"background-color: hsl(0, 75%, 86%); opacity:1.0;                     line-height:1.75\"><font color=\"black\"> [SEP]                    </font></mark></td><tr></table>"
      ],
      "text/plain": [
       "<IPython.core.display.HTML object>"
      ]
     },
     "metadata": {},
     "output_type": "display_data"
    },
    {
     "name": "stdout",
     "output_type": "stream",
     "text": [
      "<IPython.core.display.HTML object>\n",
      "Raw review: sustains it \n",
      "GT target: 1\n",
      "word attr tensor([ 0.1802, -0.3713,  0.0016, -0.4305,  0.8027], device='cuda:0',\n",
      "       grad_fn=<DivBackward0>)\n",
      "conti attr [tensor(0.1802, device='cuda:0', grad_fn=<UnbindBackward0>), tensor(-0.1849, device='cuda:0', grad_fn=<DivBackward0>), tensor(-0.4305, device='cuda:0', grad_fn=<UnbindBackward0>), tensor(0.8027, device='cuda:0', grad_fn=<UnbindBackward0>)]\n",
      "detokenized ['[CLS]', 'sustain', 's', 'it', '[SEP]']\n",
      "len conti_raw 4\n",
      "conti_raw ['[CLS]', 'sustains', 'it', '[SEP]']\n"
     ]
    },
    {
     "data": {
      "text/html": [
       "<table width: 100%><div style=\"border-top: 1px solid; margin-top: 5px;             padding-top: 5px; display: inline-block\"><b>Legend: </b><span style=\"display: inline-block; width: 10px; height: 10px;                 border: 1px solid; background-color:                 hsl(0, 75%, 60%)\"></span> Negative  <span style=\"display: inline-block; width: 10px; height: 10px;                 border: 1px solid; background-color:                 hsl(0, 75%, 100%)\"></span> Neutral  <span style=\"display: inline-block; width: 10px; height: 10px;                 border: 1px solid; background-color:                 hsl(120, 75%, 50%)\"></span> Positive  </div><tr><th>True Label</th><th>Predicted Label</th><th>Attribution Label</th><th>Attribution Score</th><th>Word Importance</th><tr><td><text style=\"padding-right:2em\"><b>Pos</b></text></td><td><text style=\"padding-right:2em\"><b>Pos (0.97)</b></text></td><td><text style=\"padding-right:2em\"><b>Neg</b></text></td><td><text style=\"padding-right:2em\"><b>0.18</b></text></td><td><mark style=\"background-color: hsl(120, 75%, 91%); opacity:1.0;                     line-height:1.75\"><font color=\"black\"> [CLS]                    </font></mark><mark style=\"background-color: hsl(0, 75%, 93%); opacity:1.0;                     line-height:1.75\"><font color=\"black\"> sustains                    </font></mark><mark style=\"background-color: hsl(0, 75%, 83%); opacity:1.0;                     line-height:1.75\"><font color=\"black\"> it                    </font></mark><mark style=\"background-color: hsl(120, 75%, 60%); opacity:1.0;                     line-height:1.75\"><font color=\"black\"> [SEP]                    </font></mark></td><tr></table>"
      ],
      "text/plain": [
       "<IPython.core.display.HTML object>"
      ]
     },
     "metadata": {},
     "output_type": "display_data"
    },
    {
     "name": "stdout",
     "output_type": "stream",
     "text": [
      "<IPython.core.display.HTML object>\n",
      "Raw review: is so deadly dull that watching the proverbial paint dry would be a welcome improvement . \n",
      "GT target: 0\n",
      "word attr tensor([-0.3521, -0.0694,  0.1465,  0.6815, -0.1752,  0.1748,  0.0719, -0.0242,\n",
      "         0.3591,  0.0486, -0.1725, -0.1154, -0.1254, -0.0639, -0.1892,  0.1850,\n",
      "         0.0712, -0.0792,  0.2037, -0.0370], device='cuda:0',\n",
      "       grad_fn=<DivBackward0>)\n",
      "conti attr [tensor(-0.3521, device='cuda:0', grad_fn=<UnbindBackward0>), tensor(-0.0694, device='cuda:0', grad_fn=<UnbindBackward0>), tensor(0.1465, device='cuda:0', grad_fn=<UnbindBackward0>), tensor(0.6815, device='cuda:0', grad_fn=<UnbindBackward0>), tensor(-0.1752, device='cuda:0', grad_fn=<UnbindBackward0>), tensor(0.1748, device='cuda:0', grad_fn=<UnbindBackward0>), tensor(0.0719, device='cuda:0', grad_fn=<UnbindBackward0>), tensor(-0.0242, device='cuda:0', grad_fn=<UnbindBackward0>), tensor(0.0157, device='cuda:0', grad_fn=<DivBackward0>), tensor(-0.1154, device='cuda:0', grad_fn=<UnbindBackward0>), tensor(-0.1254, device='cuda:0', grad_fn=<UnbindBackward0>), tensor(-0.0639, device='cuda:0', grad_fn=<UnbindBackward0>), tensor(-0.1892, device='cuda:0', grad_fn=<UnbindBackward0>), tensor(0.1850, device='cuda:0', grad_fn=<UnbindBackward0>), tensor(0.0712, device='cuda:0', grad_fn=<UnbindBackward0>), tensor(-0.0792, device='cuda:0', grad_fn=<UnbindBackward0>), tensor(0.2037, device='cuda:0', grad_fn=<UnbindBackward0>), tensor(-0.0370, device='cuda:0', grad_fn=<UnbindBackward0>)]\n",
      "detokenized ['[CLS]', 'is', 'so', 'deadly', 'dull', 'that', 'watching', 'the', 'prove', 'rb', 'ial', 'paint', 'dry', 'would', 'be', 'a', 'welcome', 'improvement', '.', '[SEP]']\n",
      "len conti_raw 18\n",
      "conti_raw ['[CLS]', 'is', 'so', 'deadly', 'dull', 'that', 'watching', 'the', 'proverbial', 'paint', 'dry', 'would', 'be', 'a', 'welcome', 'improvement', '.', '[SEP]']\n"
     ]
    },
    {
     "data": {
      "text/html": [
       "<table width: 100%><div style=\"border-top: 1px solid; margin-top: 5px;             padding-top: 5px; display: inline-block\"><b>Legend: </b><span style=\"display: inline-block; width: 10px; height: 10px;                 border: 1px solid; background-color:                 hsl(0, 75%, 60%)\"></span> Negative  <span style=\"display: inline-block; width: 10px; height: 10px;                 border: 1px solid; background-color:                 hsl(0, 75%, 100%)\"></span> Neutral  <span style=\"display: inline-block; width: 10px; height: 10px;                 border: 1px solid; background-color:                 hsl(120, 75%, 50%)\"></span> Positive  </div><tr><th>True Label</th><th>Predicted Label</th><th>Attribution Label</th><th>Attribution Score</th><th>Word Importance</th><tr><td><text style=\"padding-right:2em\"><b>Neg</b></text></td><td><text style=\"padding-right:2em\"><b>Neg (0.42)</b></text></td><td><text style=\"padding-right:2em\"><b>Pos</b></text></td><td><text style=\"padding-right:2em\"><b>0.54</b></text></td><td><mark style=\"background-color: hsl(0, 75%, 86%); opacity:1.0;                     line-height:1.75\"><font color=\"black\"> [CLS]                    </font></mark><mark style=\"background-color: hsl(0, 75%, 98%); opacity:1.0;                     line-height:1.75\"><font color=\"black\"> is                    </font></mark><mark style=\"background-color: hsl(120, 75%, 93%); opacity:1.0;                     line-height:1.75\"><font color=\"black\"> so                    </font></mark><mark style=\"background-color: hsl(120, 75%, 66%); opacity:1.0;                     line-height:1.75\"><font color=\"black\"> deadly                    </font></mark><mark style=\"background-color: hsl(0, 75%, 93%); opacity:1.0;                     line-height:1.75\"><font color=\"black\"> dull                    </font></mark><mark style=\"background-color: hsl(120, 75%, 92%); opacity:1.0;                     line-height:1.75\"><font color=\"black\"> that                    </font></mark><mark style=\"background-color: hsl(120, 75%, 97%); opacity:1.0;                     line-height:1.75\"><font color=\"black\"> watching                    </font></mark><mark style=\"background-color: hsl(0, 75%, 100%); opacity:1.0;                     line-height:1.75\"><font color=\"black\"> the                    </font></mark><mark style=\"background-color: hsl(120, 75%, 100%); opacity:1.0;                     line-height:1.75\"><font color=\"black\"> proverbial                    </font></mark><mark style=\"background-color: hsl(0, 75%, 96%); opacity:1.0;                     line-height:1.75\"><font color=\"black\"> paint                    </font></mark><mark style=\"background-color: hsl(0, 75%, 95%); opacity:1.0;                     line-height:1.75\"><font color=\"black\"> dry                    </font></mark><mark style=\"background-color: hsl(0, 75%, 98%); opacity:1.0;                     line-height:1.75\"><font color=\"black\"> would                    </font></mark><mark style=\"background-color: hsl(0, 75%, 93%); opacity:1.0;                     line-height:1.75\"><font color=\"black\"> be                    </font></mark><mark style=\"background-color: hsl(120, 75%, 91%); opacity:1.0;                     line-height:1.75\"><font color=\"black\"> a                    </font></mark><mark style=\"background-color: hsl(120, 75%, 97%); opacity:1.0;                     line-height:1.75\"><font color=\"black\"> welcome                    </font></mark><mark style=\"background-color: hsl(0, 75%, 97%); opacity:1.0;                     line-height:1.75\"><font color=\"black\"> improvement                    </font></mark><mark style=\"background-color: hsl(120, 75%, 90%); opacity:1.0;                     line-height:1.75\"><font color=\"black\"> .                    </font></mark><mark style=\"background-color: hsl(0, 75%, 99%); opacity:1.0;                     line-height:1.75\"><font color=\"black\"> [SEP]                    </font></mark></td><tr></table>"
      ],
      "text/plain": [
       "<IPython.core.display.HTML object>"
      ]
     },
     "metadata": {},
     "output_type": "display_data"
    },
    {
     "name": "stdout",
     "output_type": "stream",
     "text": [
      "<IPython.core.display.HTML object>\n",
      "Raw review: to accomplish \n",
      "GT target: 1\n",
      "word attr tensor([-0.2823, -0.0730,  0.6320, -0.7180], device='cuda:0',\n",
      "       grad_fn=<DivBackward0>)\n",
      "conti attr [tensor(-0.2823, device='cuda:0', grad_fn=<UnbindBackward0>), tensor(-0.0730, device='cuda:0', grad_fn=<UnbindBackward0>), tensor(0.6320, device='cuda:0', grad_fn=<UnbindBackward0>), tensor(-0.7180, device='cuda:0', grad_fn=<UnbindBackward0>)]\n",
      "detokenized ['[CLS]', 'to', 'accomplish', '[SEP]']\n",
      "len conti_raw 4\n",
      "conti_raw ['[CLS]', 'to', 'accomplish', '[SEP]']\n"
     ]
    },
    {
     "data": {
      "text/html": [
       "<table width: 100%><div style=\"border-top: 1px solid; margin-top: 5px;             padding-top: 5px; display: inline-block\"><b>Legend: </b><span style=\"display: inline-block; width: 10px; height: 10px;                 border: 1px solid; background-color:                 hsl(0, 75%, 60%)\"></span> Negative  <span style=\"display: inline-block; width: 10px; height: 10px;                 border: 1px solid; background-color:                 hsl(0, 75%, 100%)\"></span> Neutral  <span style=\"display: inline-block; width: 10px; height: 10px;                 border: 1px solid; background-color:                 hsl(120, 75%, 50%)\"></span> Positive  </div><tr><th>True Label</th><th>Predicted Label</th><th>Attribution Label</th><th>Attribution Score</th><th>Word Importance</th><tr><td><text style=\"padding-right:2em\"><b>Pos</b></text></td><td><text style=\"padding-right:2em\"><b>Pos (0.97)</b></text></td><td><text style=\"padding-right:2em\"><b>Neg</b></text></td><td><text style=\"padding-right:2em\"><b>-0.44</b></text></td><td><mark style=\"background-color: hsl(0, 75%, 89%); opacity:1.0;                     line-height:1.75\"><font color=\"black\"> [CLS]                    </font></mark><mark style=\"background-color: hsl(0, 75%, 98%); opacity:1.0;                     line-height:1.75\"><font color=\"black\"> to                    </font></mark><mark style=\"background-color: hsl(120, 75%, 69%); opacity:1.0;                     line-height:1.75\"><font color=\"black\"> accomplish                    </font></mark><mark style=\"background-color: hsl(0, 75%, 72%); opacity:1.0;                     line-height:1.75\"><font color=\"black\"> [SEP]                    </font></mark></td><tr></table>"
      ],
      "text/plain": [
       "<IPython.core.display.HTML object>"
      ]
     },
     "metadata": {},
     "output_type": "display_data"
    },
    {
     "name": "stdout",
     "output_type": "stream",
     "text": [
      "<IPython.core.display.HTML object>\n",
      "Raw review: does n't work . \n",
      "GT target: 0\n",
      "word attr tensor([ 0.0207, -0.2282,  0.8233,  0.0362, -0.4348, -0.2029, -0.1203,  0.1541],\n",
      "       device='cuda:0', grad_fn=<DivBackward0>)\n",
      "conti attr [tensor(0.0207, device='cuda:0', grad_fn=<UnbindBackward0>), tensor(-0.2282, device='cuda:0', grad_fn=<UnbindBackward0>), tensor(-0.0025, device='cuda:0', grad_fn=<DivBackward0>), tensor(-0.2029, device='cuda:0', grad_fn=<UnbindBackward0>), tensor(-0.1203, device='cuda:0', grad_fn=<UnbindBackward0>), tensor(0.1541, device='cuda:0', grad_fn=<UnbindBackward0>)]\n",
      "detokenized ['[CLS]', 'does', 'n', \"'\", 't', 'work', '.', '[SEP]']\n",
      "len conti_raw 6\n",
      "conti_raw ['[CLS]', 'does', \"n't\", 'work', '.', '[SEP]']\n"
     ]
    },
    {
     "data": {
      "text/html": [
       "<table width: 100%><div style=\"border-top: 1px solid; margin-top: 5px;             padding-top: 5px; display: inline-block\"><b>Legend: </b><span style=\"display: inline-block; width: 10px; height: 10px;                 border: 1px solid; background-color:                 hsl(0, 75%, 60%)\"></span> Negative  <span style=\"display: inline-block; width: 10px; height: 10px;                 border: 1px solid; background-color:                 hsl(0, 75%, 100%)\"></span> Neutral  <span style=\"display: inline-block; width: 10px; height: 10px;                 border: 1px solid; background-color:                 hsl(120, 75%, 50%)\"></span> Positive  </div><tr><th>True Label</th><th>Predicted Label</th><th>Attribution Label</th><th>Attribution Score</th><th>Word Importance</th><tr><td><text style=\"padding-right:2em\"><b>Neg</b></text></td><td><text style=\"padding-right:2em\"><b>Neg (0.04)</b></text></td><td><text style=\"padding-right:2em\"><b>Neg</b></text></td><td><text style=\"padding-right:2em\"><b>0.05</b></text></td><td><mark style=\"background-color: hsl(120, 75%, 99%); opacity:1.0;                     line-height:1.75\"><font color=\"black\"> [CLS]                    </font></mark><mark style=\"background-color: hsl(0, 75%, 91%); opacity:1.0;                     line-height:1.75\"><font color=\"black\"> does                    </font></mark><mark style=\"background-color: hsl(0, 75%, 100%); opacity:1.0;                     line-height:1.75\"><font color=\"black\"> n't                    </font></mark><mark style=\"background-color: hsl(0, 75%, 92%); opacity:1.0;                     line-height:1.75\"><font color=\"black\"> work                    </font></mark><mark style=\"background-color: hsl(0, 75%, 96%); opacity:1.0;                     line-height:1.75\"><font color=\"black\"> .                    </font></mark><mark style=\"background-color: hsl(120, 75%, 93%); opacity:1.0;                     line-height:1.75\"><font color=\"black\"> [SEP]                    </font></mark></td><tr></table>"
      ],
      "text/plain": [
       "<IPython.core.display.HTML object>"
      ]
     },
     "metadata": {},
     "output_type": "display_data"
    },
    {
     "name": "stdout",
     "output_type": "stream",
     "text": [
      "<IPython.core.display.HTML object>\n",
      "Raw review: given it a one-star rating \n",
      "GT target: 0\n",
      "word attr tensor([ 0.4739, -0.3319, -0.1223,  0.0551, -0.1071,  0.4626, -0.6231, -0.0577,\n",
      "        -0.1739], device='cuda:0', grad_fn=<DivBackward0>)\n",
      "conti attr [tensor(0.4739, device='cuda:0', grad_fn=<UnbindBackward0>), tensor(-0.3319, device='cuda:0', grad_fn=<UnbindBackward0>), tensor(-0.1223, device='cuda:0', grad_fn=<UnbindBackward0>), tensor(0.0551, device='cuda:0', grad_fn=<UnbindBackward0>), tensor(-0.2227, device='cuda:0', grad_fn=<DivBackward0>), tensor(-0.0577, device='cuda:0', grad_fn=<UnbindBackward0>), tensor(-0.1739, device='cuda:0', grad_fn=<UnbindBackward0>)]\n",
      "detokenized ['[CLS]', 'given', 'it', 'a', 'one', '-', 'star', 'rating', '[SEP]']\n",
      "len conti_raw 7\n",
      "conti_raw ['[CLS]', 'given', 'it', 'a', 'one-star', 'rating', '[SEP]']\n"
     ]
    },
    {
     "data": {
      "text/html": [
       "<table width: 100%><div style=\"border-top: 1px solid; margin-top: 5px;             padding-top: 5px; display: inline-block\"><b>Legend: </b><span style=\"display: inline-block; width: 10px; height: 10px;                 border: 1px solid; background-color:                 hsl(0, 75%, 60%)\"></span> Negative  <span style=\"display: inline-block; width: 10px; height: 10px;                 border: 1px solid; background-color:                 hsl(0, 75%, 100%)\"></span> Neutral  <span style=\"display: inline-block; width: 10px; height: 10px;                 border: 1px solid; background-color:                 hsl(120, 75%, 50%)\"></span> Positive  </div><tr><th>True Label</th><th>Predicted Label</th><th>Attribution Label</th><th>Attribution Score</th><th>Word Importance</th><tr><td><text style=\"padding-right:2em\"><b>Neg</b></text></td><td><text style=\"padding-right:2em\"><b>Pos (0.73)</b></text></td><td><text style=\"padding-right:2em\"><b>Neg</b></text></td><td><text style=\"padding-right:2em\"><b>-0.42</b></text></td><td><mark style=\"background-color: hsl(120, 75%, 77%); opacity:1.0;                     line-height:1.75\"><font color=\"black\"> [CLS]                    </font></mark><mark style=\"background-color: hsl(0, 75%, 87%); opacity:1.0;                     line-height:1.75\"><font color=\"black\"> given                    </font></mark><mark style=\"background-color: hsl(0, 75%, 96%); opacity:1.0;                     line-height:1.75\"><font color=\"black\"> it                    </font></mark><mark style=\"background-color: hsl(120, 75%, 98%); opacity:1.0;                     line-height:1.75\"><font color=\"black\"> a                    </font></mark><mark style=\"background-color: hsl(0, 75%, 92%); opacity:1.0;                     line-height:1.75\"><font color=\"black\"> one-star                    </font></mark><mark style=\"background-color: hsl(0, 75%, 98%); opacity:1.0;                     line-height:1.75\"><font color=\"black\"> rating                    </font></mark><mark style=\"background-color: hsl(0, 75%, 94%); opacity:1.0;                     line-height:1.75\"><font color=\"black\"> [SEP]                    </font></mark></td><tr></table>"
      ],
      "text/plain": [
       "<IPython.core.display.HTML object>"
      ]
     },
     "metadata": {},
     "output_type": "display_data"
    },
    {
     "name": "stdout",
     "output_type": "stream",
     "text": [
      "<IPython.core.display.HTML object>\n",
      "Raw review: ice cube is n't quite out of ripe screwball ideas , but friday after next spreads them pretty thin \n",
      "GT target: 0\n",
      "word attr tensor([ 0.1722,  0.0203, -0.1694, -0.1690,  0.4017,  0.3311, -0.5005,  0.0039,\n",
      "        -0.0829,  0.0585,  0.1257,  0.0902, -0.0555, -0.3591, -0.2321,  0.0824,\n",
      "         0.1050, -0.1056,  0.0977, -0.1998,  0.1788, -0.2180, -0.0382,  0.1081],\n",
      "       device='cuda:0', grad_fn=<DivBackward0>)\n",
      "conti attr [tensor(0.1722, device='cuda:0', grad_fn=<UnbindBackward0>), tensor(0.0203, device='cuda:0', grad_fn=<UnbindBackward0>), tensor(-0.1694, device='cuda:0', grad_fn=<UnbindBackward0>), tensor(-0.1690, device='cuda:0', grad_fn=<UnbindBackward0>), tensor(-0.0670, device='cuda:0', grad_fn=<DivBackward0>), tensor(0.0039, device='cuda:0', grad_fn=<UnbindBackward0>), tensor(-0.0829, device='cuda:0', grad_fn=<UnbindBackward0>), tensor(0.0585, device='cuda:0', grad_fn=<UnbindBackward0>), tensor(0.1257, device='cuda:0', grad_fn=<UnbindBackward0>), tensor(0.0174, device='cuda:0', grad_fn=<DivBackward0>), tensor(-0.3591, device='cuda:0', grad_fn=<UnbindBackward0>), tensor(-0.2321, device='cuda:0', grad_fn=<UnbindBackward0>), tensor(0.0824, device='cuda:0', grad_fn=<UnbindBackward0>), tensor(0.1050, device='cuda:0', grad_fn=<UnbindBackward0>), tensor(-0.1056, device='cuda:0', grad_fn=<UnbindBackward0>), tensor(0.0977, device='cuda:0', grad_fn=<UnbindBackward0>), tensor(-0.1998, device='cuda:0', grad_fn=<UnbindBackward0>), tensor(0.1788, device='cuda:0', grad_fn=<UnbindBackward0>), tensor(-0.2180, device='cuda:0', grad_fn=<UnbindBackward0>), tensor(-0.0382, device='cuda:0', grad_fn=<UnbindBackward0>), tensor(0.1081, device='cuda:0', grad_fn=<UnbindBackward0>)]\n",
      "detokenized ['[CLS]', 'ice', 'cube', 'is', 'n', \"'\", 't', 'quite', 'out', 'of', 'ripe', 'screw', 'ball', 'ideas', ',', 'but', 'friday', 'after', 'next', 'spreads', 'them', 'pretty', 'thin', '[SEP]']\n",
      "len conti_raw 21\n",
      "conti_raw ['[CLS]', 'ice', 'cube', 'is', \"n't\", 'quite', 'out', 'of', 'ripe', 'screwball', 'ideas', ',', 'but', 'friday', 'after', 'next', 'spreads', 'them', 'pretty', 'thin', '[SEP]']\n"
     ]
    },
    {
     "data": {
      "text/html": [
       "<table width: 100%><div style=\"border-top: 1px solid; margin-top: 5px;             padding-top: 5px; display: inline-block\"><b>Legend: </b><span style=\"display: inline-block; width: 10px; height: 10px;                 border: 1px solid; background-color:                 hsl(0, 75%, 60%)\"></span> Negative  <span style=\"display: inline-block; width: 10px; height: 10px;                 border: 1px solid; background-color:                 hsl(0, 75%, 100%)\"></span> Neutral  <span style=\"display: inline-block; width: 10px; height: 10px;                 border: 1px solid; background-color:                 hsl(120, 75%, 50%)\"></span> Positive  </div><tr><th>True Label</th><th>Predicted Label</th><th>Attribution Label</th><th>Attribution Score</th><th>Word Importance</th><tr><td><text style=\"padding-right:2em\"><b>Neg</b></text></td><td><text style=\"padding-right:2em\"><b>Neg (0.04)</b></text></td><td><text style=\"padding-right:2em\"><b>Neg</b></text></td><td><text style=\"padding-right:2em\"><b>-0.35</b></text></td><td><mark style=\"background-color: hsl(120, 75%, 92%); opacity:1.0;                     line-height:1.75\"><font color=\"black\"> [CLS]                    </font></mark><mark style=\"background-color: hsl(120, 75%, 99%); opacity:1.0;                     line-height:1.75\"><font color=\"black\"> ice                    </font></mark><mark style=\"background-color: hsl(0, 75%, 94%); opacity:1.0;                     line-height:1.75\"><font color=\"black\"> cube                    </font></mark><mark style=\"background-color: hsl(0, 75%, 94%); opacity:1.0;                     line-height:1.75\"><font color=\"black\"> is                    </font></mark><mark style=\"background-color: hsl(0, 75%, 98%); opacity:1.0;                     line-height:1.75\"><font color=\"black\"> n't                    </font></mark><mark style=\"background-color: hsl(120, 75%, 100%); opacity:1.0;                     line-height:1.75\"><font color=\"black\"> quite                    </font></mark><mark style=\"background-color: hsl(0, 75%, 97%); opacity:1.0;                     line-height:1.75\"><font color=\"black\"> out                    </font></mark><mark style=\"background-color: hsl(120, 75%, 98%); opacity:1.0;                     line-height:1.75\"><font color=\"black\"> of                    </font></mark><mark style=\"background-color: hsl(120, 75%, 94%); opacity:1.0;                     line-height:1.75\"><font color=\"black\"> ripe                    </font></mark><mark style=\"background-color: hsl(120, 75%, 100%); opacity:1.0;                     line-height:1.75\"><font color=\"black\"> screwball                    </font></mark><mark style=\"background-color: hsl(0, 75%, 86%); opacity:1.0;                     line-height:1.75\"><font color=\"black\"> ideas                    </font></mark><mark style=\"background-color: hsl(0, 75%, 91%); opacity:1.0;                     line-height:1.75\"><font color=\"black\"> ,                    </font></mark><mark style=\"background-color: hsl(120, 75%, 96%); opacity:1.0;                     line-height:1.75\"><font color=\"black\"> but                    </font></mark><mark style=\"background-color: hsl(120, 75%, 95%); opacity:1.0;                     line-height:1.75\"><font color=\"black\"> friday                    </font></mark><mark style=\"background-color: hsl(0, 75%, 96%); opacity:1.0;                     line-height:1.75\"><font color=\"black\"> after                    </font></mark><mark style=\"background-color: hsl(120, 75%, 96%); opacity:1.0;                     line-height:1.75\"><font color=\"black\"> next                    </font></mark><mark style=\"background-color: hsl(0, 75%, 93%); opacity:1.0;                     line-height:1.75\"><font color=\"black\"> spreads                    </font></mark><mark style=\"background-color: hsl(120, 75%, 92%); opacity:1.0;                     line-height:1.75\"><font color=\"black\"> them                    </font></mark><mark style=\"background-color: hsl(0, 75%, 92%); opacity:1.0;                     line-height:1.75\"><font color=\"black\"> pretty                    </font></mark><mark style=\"background-color: hsl(0, 75%, 99%); opacity:1.0;                     line-height:1.75\"><font color=\"black\"> thin                    </font></mark><mark style=\"background-color: hsl(120, 75%, 95%); opacity:1.0;                     line-height:1.75\"><font color=\"black\"> [SEP]                    </font></mark></td><tr></table>"
      ],
      "text/plain": [
       "<IPython.core.display.HTML object>"
      ]
     },
     "metadata": {},
     "output_type": "display_data"
    },
    {
     "name": "stdout",
     "output_type": "stream",
     "text": [
      "<IPython.core.display.HTML object>\n",
      "Raw review: been trying to forget \n",
      "GT target: 0\n",
      "word attr tensor([ 0.1639, -0.4746, -0.0159,  0.4302,  0.4550, -0.5963], device='cuda:0',\n",
      "       grad_fn=<DivBackward0>)\n",
      "conti attr [tensor(0.1639, device='cuda:0', grad_fn=<UnbindBackward0>), tensor(-0.4746, device='cuda:0', grad_fn=<UnbindBackward0>), tensor(-0.0159, device='cuda:0', grad_fn=<UnbindBackward0>), tensor(0.4302, device='cuda:0', grad_fn=<UnbindBackward0>), tensor(0.4550, device='cuda:0', grad_fn=<UnbindBackward0>), tensor(-0.5963, device='cuda:0', grad_fn=<UnbindBackward0>)]\n",
      "detokenized ['[CLS]', 'been', 'trying', 'to', 'forget', '[SEP]']\n",
      "len conti_raw 6\n",
      "conti_raw ['[CLS]', 'been', 'trying', 'to', 'forget', '[SEP]']\n"
     ]
    },
    {
     "data": {
      "text/html": [
       "<table width: 100%><div style=\"border-top: 1px solid; margin-top: 5px;             padding-top: 5px; display: inline-block\"><b>Legend: </b><span style=\"display: inline-block; width: 10px; height: 10px;                 border: 1px solid; background-color:                 hsl(0, 75%, 60%)\"></span> Negative  <span style=\"display: inline-block; width: 10px; height: 10px;                 border: 1px solid; background-color:                 hsl(0, 75%, 100%)\"></span> Neutral  <span style=\"display: inline-block; width: 10px; height: 10px;                 border: 1px solid; background-color:                 hsl(120, 75%, 50%)\"></span> Positive  </div><tr><th>True Label</th><th>Predicted Label</th><th>Attribution Label</th><th>Attribution Score</th><th>Word Importance</th><tr><td><text style=\"padding-right:2em\"><b>Neg</b></text></td><td><text style=\"padding-right:2em\"><b>Neg (0.07)</b></text></td><td><text style=\"padding-right:2em\"><b>Neg</b></text></td><td><text style=\"padding-right:2em\"><b>-0.04</b></text></td><td><mark style=\"background-color: hsl(120, 75%, 92%); opacity:1.0;                     line-height:1.75\"><font color=\"black\"> [CLS]                    </font></mark><mark style=\"background-color: hsl(0, 75%, 82%); opacity:1.0;                     line-height:1.75\"><font color=\"black\"> been                    </font></mark><mark style=\"background-color: hsl(0, 75%, 100%); opacity:1.0;                     line-height:1.75\"><font color=\"black\"> trying                    </font></mark><mark style=\"background-color: hsl(120, 75%, 79%); opacity:1.0;                     line-height:1.75\"><font color=\"black\"> to                    </font></mark><mark style=\"background-color: hsl(120, 75%, 78%); opacity:1.0;                     line-height:1.75\"><font color=\"black\"> forget                    </font></mark><mark style=\"background-color: hsl(0, 75%, 77%); opacity:1.0;                     line-height:1.75\"><font color=\"black\"> [SEP]                    </font></mark></td><tr></table>"
      ],
      "text/plain": [
       "<IPython.core.display.HTML object>"
      ]
     },
     "metadata": {},
     "output_type": "display_data"
    },
    {
     "name": "stdout",
     "output_type": "stream",
     "text": [
      "<IPython.core.display.HTML object>\n",
      "Raw review: big stars and \n",
      "GT target: 1\n",
      "word attr tensor([ 0.1182, -0.8016,  0.1670, -0.4934,  0.2686], device='cuda:0',\n",
      "       grad_fn=<DivBackward0>)\n",
      "conti attr [tensor(0.1182, device='cuda:0', grad_fn=<UnbindBackward0>), tensor(-0.8016, device='cuda:0', grad_fn=<UnbindBackward0>), tensor(0.1670, device='cuda:0', grad_fn=<UnbindBackward0>), tensor(-0.4934, device='cuda:0', grad_fn=<UnbindBackward0>), tensor(0.2686, device='cuda:0', grad_fn=<UnbindBackward0>)]\n",
      "detokenized ['[CLS]', 'big', 'stars', 'and', '[SEP]']\n",
      "len conti_raw 5\n",
      "conti_raw ['[CLS]', 'big', 'stars', 'and', '[SEP]']\n"
     ]
    },
    {
     "data": {
      "text/html": [
       "<table width: 100%><div style=\"border-top: 1px solid; margin-top: 5px;             padding-top: 5px; display: inline-block\"><b>Legend: </b><span style=\"display: inline-block; width: 10px; height: 10px;                 border: 1px solid; background-color:                 hsl(0, 75%, 60%)\"></span> Negative  <span style=\"display: inline-block; width: 10px; height: 10px;                 border: 1px solid; background-color:                 hsl(0, 75%, 100%)\"></span> Neutral  <span style=\"display: inline-block; width: 10px; height: 10px;                 border: 1px solid; background-color:                 hsl(120, 75%, 50%)\"></span> Positive  </div><tr><th>True Label</th><th>Predicted Label</th><th>Attribution Label</th><th>Attribution Score</th><th>Word Importance</th><tr><td><text style=\"padding-right:2em\"><b>Pos</b></text></td><td><text style=\"padding-right:2em\"><b>Pos (0.97)</b></text></td><td><text style=\"padding-right:2em\"><b>Neg</b></text></td><td><text style=\"padding-right:2em\"><b>-0.74</b></text></td><td><mark style=\"background-color: hsl(120, 75%, 95%); opacity:1.0;                     line-height:1.75\"><font color=\"black\"> [CLS]                    </font></mark><mark style=\"background-color: hsl(0, 75%, 68%); opacity:1.0;                     line-height:1.75\"><font color=\"black\"> big                    </font></mark><mark style=\"background-color: hsl(120, 75%, 92%); opacity:1.0;                     line-height:1.75\"><font color=\"black\"> stars                    </font></mark><mark style=\"background-color: hsl(0, 75%, 81%); opacity:1.0;                     line-height:1.75\"><font color=\"black\"> and                    </font></mark><mark style=\"background-color: hsl(120, 75%, 87%); opacity:1.0;                     line-height:1.75\"><font color=\"black\"> [SEP]                    </font></mark></td><tr></table>"
      ],
      "text/plain": [
       "<IPython.core.display.HTML object>"
      ]
     },
     "metadata": {},
     "output_type": "display_data"
    },
    {
     "name": "stdout",
     "output_type": "stream",
     "text": [
      "<IPython.core.display.HTML object>\n",
      "Raw review: of cheesy dialogue \n",
      "GT target: 0\n",
      "word attr tensor([-0.0248, -0.1604,  0.1508, -0.0846,  0.3922,  0.7878, -0.4115],\n",
      "       device='cuda:0', grad_fn=<DivBackward0>)\n",
      "conti attr [tensor(-0.0248, device='cuda:0', grad_fn=<UnbindBackward0>), tensor(-0.1604, device='cuda:0', grad_fn=<UnbindBackward0>), tensor(0.2126, device='cuda:0', grad_fn=<DivBackward0>), tensor(0.7878, device='cuda:0', grad_fn=<UnbindBackward0>), tensor(-0.4115, device='cuda:0', grad_fn=<UnbindBackward0>)]\n",
      "detokenized ['[CLS]', 'of', 'che', 'es', 'y', 'dialogue', '[SEP]']\n",
      "len conti_raw 5\n",
      "conti_raw ['[CLS]', 'of', 'cheesy', 'dialogue', '[SEP]']\n"
     ]
    },
    {
     "data": {
      "text/html": [
       "<table width: 100%><div style=\"border-top: 1px solid; margin-top: 5px;             padding-top: 5px; display: inline-block\"><b>Legend: </b><span style=\"display: inline-block; width: 10px; height: 10px;                 border: 1px solid; background-color:                 hsl(0, 75%, 60%)\"></span> Negative  <span style=\"display: inline-block; width: 10px; height: 10px;                 border: 1px solid; background-color:                 hsl(0, 75%, 100%)\"></span> Neutral  <span style=\"display: inline-block; width: 10px; height: 10px;                 border: 1px solid; background-color:                 hsl(120, 75%, 50%)\"></span> Positive  </div><tr><th>True Label</th><th>Predicted Label</th><th>Attribution Label</th><th>Attribution Score</th><th>Word Importance</th><tr><td><text style=\"padding-right:2em\"><b>Neg</b></text></td><td><text style=\"padding-right:2em\"><b>Neg (0.02)</b></text></td><td><text style=\"padding-right:2em\"><b>Pos</b></text></td><td><text style=\"padding-right:2em\"><b>0.65</b></text></td><td><mark style=\"background-color: hsl(0, 75%, 100%); opacity:1.0;                     line-height:1.75\"><font color=\"black\"> [CLS]                    </font></mark><mark style=\"background-color: hsl(0, 75%, 94%); opacity:1.0;                     line-height:1.75\"><font color=\"black\"> of                    </font></mark><mark style=\"background-color: hsl(120, 75%, 90%); opacity:1.0;                     line-height:1.75\"><font color=\"black\"> cheesy                    </font></mark><mark style=\"background-color: hsl(120, 75%, 61%); opacity:1.0;                     line-height:1.75\"><font color=\"black\"> dialogue                    </font></mark><mark style=\"background-color: hsl(0, 75%, 84%); opacity:1.0;                     line-height:1.75\"><font color=\"black\"> [SEP]                    </font></mark></td><tr></table>"
      ],
      "text/plain": [
       "<IPython.core.display.HTML object>"
      ]
     },
     "metadata": {},
     "output_type": "display_data"
    },
    {
     "name": "stdout",
     "output_type": "stream",
     "text": [
      "<IPython.core.display.HTML object>\n",
      "Raw review: the château is never quite able to overcome the cultural moat surrounding its ludicrous and contrived plot . ' \n",
      "GT target: 0\n",
      "word attr tensor([-0.0677,  0.0938, -0.2889,  0.1519,  0.2797, -0.0191,  0.0908, -0.0799,\n",
      "        -0.0278,  0.0238, -0.0615, -0.0036, -0.0946, -0.0509,  0.1463, -0.1991,\n",
      "        -0.0750,  0.0192, -0.1912,  0.0190,  0.1375, -0.1557, -0.1495,  0.5640,\n",
      "        -0.5316], device='cuda:0', grad_fn=<DivBackward0>)\n",
      "conti attr [tensor(-0.0677, device='cuda:0', grad_fn=<UnbindBackward0>), tensor(0.0938, device='cuda:0', grad_fn=<UnbindBackward0>), tensor(-0.2889, device='cuda:0', grad_fn=<UnbindBackward0>), tensor(0.1519, device='cuda:0', grad_fn=<UnbindBackward0>), tensor(0.2797, device='cuda:0', grad_fn=<UnbindBackward0>), tensor(-0.0191, device='cuda:0', grad_fn=<UnbindBackward0>), tensor(0.0908, device='cuda:0', grad_fn=<UnbindBackward0>), tensor(-0.0799, device='cuda:0', grad_fn=<UnbindBackward0>), tensor(-0.0278, device='cuda:0', grad_fn=<UnbindBackward0>), tensor(0.0238, device='cuda:0', grad_fn=<UnbindBackward0>), tensor(-0.0615, device='cuda:0', grad_fn=<UnbindBackward0>), tensor(-0.0036, device='cuda:0', grad_fn=<UnbindBackward0>), tensor(-0.0946, device='cuda:0', grad_fn=<UnbindBackward0>), tensor(-0.0509, device='cuda:0', grad_fn=<UnbindBackward0>), tensor(-0.0507, device='cuda:0', grad_fn=<DivBackward0>), tensor(0.0192, device='cuda:0', grad_fn=<UnbindBackward0>), tensor(0.0257, device='cuda:0', grad_fn=<DivBackward0>), tensor(-0.1557, device='cuda:0', grad_fn=<UnbindBackward0>), tensor(-0.1495, device='cuda:0', grad_fn=<UnbindBackward0>), tensor(0.5640, device='cuda:0', grad_fn=<UnbindBackward0>), tensor(-0.5316, device='cuda:0', grad_fn=<UnbindBackward0>)]\n",
      "detokenized ['[CLS]', 'the', 'chateau', 'is', 'never', 'quite', 'able', 'to', 'overcome', 'the', 'cultural', 'moat', 'surrounding', 'its', 'lu', 'dic', 'rous', 'and', 'con', 'tri', 'ved', 'plot', '.', \"'\", '[SEP]']\n",
      "len conti_raw 21\n",
      "conti_raw ['[CLS]', 'the', 'chateau', 'is', 'never', 'quite', 'able', 'to', 'overcome', 'the', 'cultural', 'moat', 'surrounding', 'its', 'ludicrous', 'and', 'contrived', 'plot', '.', \"'\", '[SEP]']\n"
     ]
    },
    {
     "data": {
      "text/html": [
       "<table width: 100%><div style=\"border-top: 1px solid; margin-top: 5px;             padding-top: 5px; display: inline-block\"><b>Legend: </b><span style=\"display: inline-block; width: 10px; height: 10px;                 border: 1px solid; background-color:                 hsl(0, 75%, 60%)\"></span> Negative  <span style=\"display: inline-block; width: 10px; height: 10px;                 border: 1px solid; background-color:                 hsl(0, 75%, 100%)\"></span> Neutral  <span style=\"display: inline-block; width: 10px; height: 10px;                 border: 1px solid; background-color:                 hsl(120, 75%, 50%)\"></span> Positive  </div><tr><th>True Label</th><th>Predicted Label</th><th>Attribution Label</th><th>Attribution Score</th><th>Word Importance</th><tr><td><text style=\"padding-right:2em\"><b>Neg</b></text></td><td><text style=\"padding-right:2em\"><b>Neg (0.06)</b></text></td><td><text style=\"padding-right:2em\"><b>Neg</b></text></td><td><text style=\"padding-right:2em\"><b>-0.47</b></text></td><td><mark style=\"background-color: hsl(0, 75%, 98%); opacity:1.0;                     line-height:1.75\"><font color=\"black\"> [CLS]                    </font></mark><mark style=\"background-color: hsl(120, 75%, 96%); opacity:1.0;                     line-height:1.75\"><font color=\"black\"> the                    </font></mark><mark style=\"background-color: hsl(0, 75%, 89%); opacity:1.0;                     line-height:1.75\"><font color=\"black\"> chateau                    </font></mark><mark style=\"background-color: hsl(120, 75%, 93%); opacity:1.0;                     line-height:1.75\"><font color=\"black\"> is                    </font></mark><mark style=\"background-color: hsl(120, 75%, 87%); opacity:1.0;                     line-height:1.75\"><font color=\"black\"> never                    </font></mark><mark style=\"background-color: hsl(0, 75%, 100%); opacity:1.0;                     line-height:1.75\"><font color=\"black\"> quite                    </font></mark><mark style=\"background-color: hsl(120, 75%, 96%); opacity:1.0;                     line-height:1.75\"><font color=\"black\"> able                    </font></mark><mark style=\"background-color: hsl(0, 75%, 97%); opacity:1.0;                     line-height:1.75\"><font color=\"black\"> to                    </font></mark><mark style=\"background-color: hsl(0, 75%, 99%); opacity:1.0;                     line-height:1.75\"><font color=\"black\"> overcome                    </font></mark><mark style=\"background-color: hsl(120, 75%, 99%); opacity:1.0;                     line-height:1.75\"><font color=\"black\"> the                    </font></mark><mark style=\"background-color: hsl(0, 75%, 98%); opacity:1.0;                     line-height:1.75\"><font color=\"black\"> cultural                    </font></mark><mark style=\"background-color: hsl(0, 75%, 100%); opacity:1.0;                     line-height:1.75\"><font color=\"black\"> moat                    </font></mark><mark style=\"background-color: hsl(0, 75%, 97%); opacity:1.0;                     line-height:1.75\"><font color=\"black\"> surrounding                    </font></mark><mark style=\"background-color: hsl(0, 75%, 98%); opacity:1.0;                     line-height:1.75\"><font color=\"black\"> its                    </font></mark><mark style=\"background-color: hsl(0, 75%, 98%); opacity:1.0;                     line-height:1.75\"><font color=\"black\"> ludicrous                    </font></mark><mark style=\"background-color: hsl(120, 75%, 100%); opacity:1.0;                     line-height:1.75\"><font color=\"black\"> and                    </font></mark><mark style=\"background-color: hsl(120, 75%, 99%); opacity:1.0;                     line-height:1.75\"><font color=\"black\"> contrived                    </font></mark><mark style=\"background-color: hsl(0, 75%, 94%); opacity:1.0;                     line-height:1.75\"><font color=\"black\"> plot                    </font></mark><mark style=\"background-color: hsl(0, 75%, 95%); opacity:1.0;                     line-height:1.75\"><font color=\"black\"> .                    </font></mark><mark style=\"background-color: hsl(120, 75%, 72%); opacity:1.0;                     line-height:1.75\"><font color=\"black\"> '                    </font></mark><mark style=\"background-color: hsl(0, 75%, 79%); opacity:1.0;                     line-height:1.75\"><font color=\"black\"> [SEP]                    </font></mark></td><tr></table>"
      ],
      "text/plain": [
       "<IPython.core.display.HTML object>"
      ]
     },
     "metadata": {},
     "output_type": "display_data"
    },
    {
     "name": "stdout",
     "output_type": "stream",
     "text": [
      "<IPython.core.display.HTML object>\n",
      "Raw review: principled \n",
      "GT target: 1\n",
      "word attr tensor([ 0.1431, -0.6085,  0.7703,  0.1257], device='cuda:0',\n",
      "       grad_fn=<DivBackward0>)\n",
      "conti attr [tensor(0.1431, device='cuda:0', grad_fn=<UnbindBackward0>), tensor(0.0809, device='cuda:0', grad_fn=<DivBackward0>), tensor(0.1257, device='cuda:0', grad_fn=<UnbindBackward0>)]\n",
      "detokenized ['[CLS]', 'principle', 'd', '[SEP]']\n",
      "len conti_raw 3\n",
      "conti_raw ['[CLS]', 'principled', '[SEP]']\n"
     ]
    },
    {
     "data": {
      "text/html": [
       "<table width: 100%><div style=\"border-top: 1px solid; margin-top: 5px;             padding-top: 5px; display: inline-block\"><b>Legend: </b><span style=\"display: inline-block; width: 10px; height: 10px;                 border: 1px solid; background-color:                 hsl(0, 75%, 60%)\"></span> Negative  <span style=\"display: inline-block; width: 10px; height: 10px;                 border: 1px solid; background-color:                 hsl(0, 75%, 100%)\"></span> Neutral  <span style=\"display: inline-block; width: 10px; height: 10px;                 border: 1px solid; background-color:                 hsl(120, 75%, 50%)\"></span> Positive  </div><tr><th>True Label</th><th>Predicted Label</th><th>Attribution Label</th><th>Attribution Score</th><th>Word Importance</th><tr><td><text style=\"padding-right:2em\"><b>Pos</b></text></td><td><text style=\"padding-right:2em\"><b>Pos (0.97)</b></text></td><td><text style=\"padding-right:2em\"><b>Neg</b></text></td><td><text style=\"padding-right:2em\"><b>0.43</b></text></td><td><mark style=\"background-color: hsl(120, 75%, 93%); opacity:1.0;                     line-height:1.75\"><font color=\"black\"> [CLS]                    </font></mark><mark style=\"background-color: hsl(120, 75%, 96%); opacity:1.0;                     line-height:1.75\"><font color=\"black\"> principled                    </font></mark><mark style=\"background-color: hsl(120, 75%, 94%); opacity:1.0;                     line-height:1.75\"><font color=\"black\"> [SEP]                    </font></mark></td><tr></table>"
      ],
      "text/plain": [
       "<IPython.core.display.HTML object>"
      ]
     },
     "metadata": {},
     "output_type": "display_data"
    },
    {
     "name": "stdout",
     "output_type": "stream",
     "text": [
      "<IPython.core.display.HTML object>\n",
      "Raw review: end it all by stuffing himself into an electric pencil sharpener \n",
      "GT target: 0\n",
      "word attr tensor([ 0.5633, -0.1133, -0.3730, -0.0659, -0.4943,  0.0195,  0.1263, -0.1298,\n",
      "        -0.2530, -0.1548,  0.0218, -0.2646,  0.2370, -0.1853], device='cuda:0',\n",
      "       grad_fn=<DivBackward0>)\n",
      "conti attr [tensor(0.5633, device='cuda:0', grad_fn=<UnbindBackward0>), tensor(-0.1133, device='cuda:0', grad_fn=<UnbindBackward0>), tensor(-0.3730, device='cuda:0', grad_fn=<UnbindBackward0>), tensor(-0.0659, device='cuda:0', grad_fn=<UnbindBackward0>), tensor(-0.4943, device='cuda:0', grad_fn=<UnbindBackward0>), tensor(0.0195, device='cuda:0', grad_fn=<UnbindBackward0>), tensor(0.1263, device='cuda:0', grad_fn=<UnbindBackward0>), tensor(-0.1298, device='cuda:0', grad_fn=<UnbindBackward0>), tensor(-0.2530, device='cuda:0', grad_fn=<UnbindBackward0>), tensor(-0.1548, device='cuda:0', grad_fn=<UnbindBackward0>), tensor(0.0218, device='cuda:0', grad_fn=<UnbindBackward0>), tensor(-0.0138, device='cuda:0', grad_fn=<DivBackward0>), tensor(-0.1853, device='cuda:0', grad_fn=<UnbindBackward0>)]\n",
      "detokenized ['[CLS]', 'end', 'it', 'all', 'by', 'stuffing', 'himself', 'into', 'an', 'electric', 'pencil', 'sharpe', 'ner', '[SEP]']\n",
      "len conti_raw 13\n",
      "conti_raw ['[CLS]', 'end', 'it', 'all', 'by', 'stuffing', 'himself', 'into', 'an', 'electric', 'pencil', 'sharpener', '[SEP]']\n"
     ]
    },
    {
     "data": {
      "text/html": [
       "<table width: 100%><div style=\"border-top: 1px solid; margin-top: 5px;             padding-top: 5px; display: inline-block\"><b>Legend: </b><span style=\"display: inline-block; width: 10px; height: 10px;                 border: 1px solid; background-color:                 hsl(0, 75%, 60%)\"></span> Negative  <span style=\"display: inline-block; width: 10px; height: 10px;                 border: 1px solid; background-color:                 hsl(0, 75%, 100%)\"></span> Neutral  <span style=\"display: inline-block; width: 10px; height: 10px;                 border: 1px solid; background-color:                 hsl(120, 75%, 50%)\"></span> Positive  </div><tr><th>True Label</th><th>Predicted Label</th><th>Attribution Label</th><th>Attribution Score</th><th>Word Importance</th><tr><td><text style=\"padding-right:2em\"><b>Neg</b></text></td><td><text style=\"padding-right:2em\"><b>Neg (0.06)</b></text></td><td><text style=\"padding-right:2em\"><b>Neg</b></text></td><td><text style=\"padding-right:2em\"><b>-1.07</b></text></td><td><mark style=\"background-color: hsl(120, 75%, 72%); opacity:1.0;                     line-height:1.75\"><font color=\"black\"> [CLS]                    </font></mark><mark style=\"background-color: hsl(0, 75%, 96%); opacity:1.0;                     line-height:1.75\"><font color=\"black\"> end                    </font></mark><mark style=\"background-color: hsl(0, 75%, 86%); opacity:1.0;                     line-height:1.75\"><font color=\"black\"> it                    </font></mark><mark style=\"background-color: hsl(0, 75%, 98%); opacity:1.0;                     line-height:1.75\"><font color=\"black\"> all                    </font></mark><mark style=\"background-color: hsl(0, 75%, 81%); opacity:1.0;                     line-height:1.75\"><font color=\"black\"> by                    </font></mark><mark style=\"background-color: hsl(120, 75%, 100%); opacity:1.0;                     line-height:1.75\"><font color=\"black\"> stuffing                    </font></mark><mark style=\"background-color: hsl(120, 75%, 94%); opacity:1.0;                     line-height:1.75\"><font color=\"black\"> himself                    </font></mark><mark style=\"background-color: hsl(0, 75%, 95%); opacity:1.0;                     line-height:1.75\"><font color=\"black\"> into                    </font></mark><mark style=\"background-color: hsl(0, 75%, 90%); opacity:1.0;                     line-height:1.75\"><font color=\"black\"> an                    </font></mark><mark style=\"background-color: hsl(0, 75%, 94%); opacity:1.0;                     line-height:1.75\"><font color=\"black\"> electric                    </font></mark><mark style=\"background-color: hsl(120, 75%, 99%); opacity:1.0;                     line-height:1.75\"><font color=\"black\"> pencil                    </font></mark><mark style=\"background-color: hsl(0, 75%, 100%); opacity:1.0;                     line-height:1.75\"><font color=\"black\"> sharpener                    </font></mark><mark style=\"background-color: hsl(0, 75%, 93%); opacity:1.0;                     line-height:1.75\"><font color=\"black\"> [SEP]                    </font></mark></td><tr></table>"
      ],
      "text/plain": [
       "<IPython.core.display.HTML object>"
      ]
     },
     "metadata": {},
     "output_type": "display_data"
    },
    {
     "name": "stdout",
     "output_type": "stream",
     "text": [
      "<IPython.core.display.HTML object>\n",
      "Raw review: funniest idea \n",
      "GT target: 1\n",
      "word attr tensor([-0.3632, -0.2873, -0.2638, -0.6833, -0.1096,  0.4868], device='cuda:0',\n",
      "       grad_fn=<DivBackward0>)\n",
      "conti attr [tensor(-0.3632, device='cuda:0', grad_fn=<UnbindBackward0>), tensor(-0.4795, device='cuda:0', grad_fn=<DivBackward0>), tensor(-0.1096, device='cuda:0', grad_fn=<UnbindBackward0>), tensor(0.4868, device='cuda:0', grad_fn=<UnbindBackward0>)]\n",
      "detokenized ['[CLS]', 'fun', 'nies', 't', 'idea', '[SEP]']\n",
      "len conti_raw 4\n",
      "conti_raw ['[CLS]', 'funniest', 'idea', '[SEP]']\n"
     ]
    },
    {
     "data": {
      "text/html": [
       "<table width: 100%><div style=\"border-top: 1px solid; margin-top: 5px;             padding-top: 5px; display: inline-block\"><b>Legend: </b><span style=\"display: inline-block; width: 10px; height: 10px;                 border: 1px solid; background-color:                 hsl(0, 75%, 60%)\"></span> Negative  <span style=\"display: inline-block; width: 10px; height: 10px;                 border: 1px solid; background-color:                 hsl(0, 75%, 100%)\"></span> Neutral  <span style=\"display: inline-block; width: 10px; height: 10px;                 border: 1px solid; background-color:                 hsl(120, 75%, 50%)\"></span> Positive  </div><tr><th>True Label</th><th>Predicted Label</th><th>Attribution Label</th><th>Attribution Score</th><th>Word Importance</th><tr><td><text style=\"padding-right:2em\"><b>Pos</b></text></td><td><text style=\"padding-right:2em\"><b>Pos (0.96)</b></text></td><td><text style=\"padding-right:2em\"><b>Neg</b></text></td><td><text style=\"padding-right:2em\"><b>-1.22</b></text></td><td><mark style=\"background-color: hsl(0, 75%, 86%); opacity:1.0;                     line-height:1.75\"><font color=\"black\"> [CLS]                    </font></mark><mark style=\"background-color: hsl(0, 75%, 81%); opacity:1.0;                     line-height:1.75\"><font color=\"black\"> funniest                    </font></mark><mark style=\"background-color: hsl(0, 75%, 96%); opacity:1.0;                     line-height:1.75\"><font color=\"black\"> idea                    </font></mark><mark style=\"background-color: hsl(120, 75%, 76%); opacity:1.0;                     line-height:1.75\"><font color=\"black\"> [SEP]                    </font></mark></td><tr></table>"
      ],
      "text/plain": [
       "<IPython.core.display.HTML object>"
      ]
     },
     "metadata": {},
     "output_type": "display_data"
    },
    {
     "name": "stdout",
     "output_type": "stream",
     "text": [
      "<IPython.core.display.HTML object>\n",
      "Raw review: silly and tedious \n",
      "GT target: 0\n",
      "word attr tensor([-0.2666,  0.4621,  0.0466, -0.6051,  0.4280, -0.4049], device='cuda:0',\n",
      "       grad_fn=<DivBackward0>)\n",
      "conti attr [tensor(-0.2666, device='cuda:0', grad_fn=<UnbindBackward0>), tensor(0.4621, device='cuda:0', grad_fn=<UnbindBackward0>), tensor(0.0466, device='cuda:0', grad_fn=<UnbindBackward0>), tensor(-0.0885, device='cuda:0', grad_fn=<DivBackward0>), tensor(-0.4049, device='cuda:0', grad_fn=<UnbindBackward0>)]\n",
      "detokenized ['[CLS]', 'silly', 'and', 'ted', 'ious', '[SEP]']\n",
      "len conti_raw 5\n",
      "conti_raw ['[CLS]', 'silly', 'and', 'tedious', '[SEP]']\n"
     ]
    },
    {
     "data": {
      "text/html": [
       "<table width: 100%><div style=\"border-top: 1px solid; margin-top: 5px;             padding-top: 5px; display: inline-block\"><b>Legend: </b><span style=\"display: inline-block; width: 10px; height: 10px;                 border: 1px solid; background-color:                 hsl(0, 75%, 60%)\"></span> Negative  <span style=\"display: inline-block; width: 10px; height: 10px;                 border: 1px solid; background-color:                 hsl(0, 75%, 100%)\"></span> Neutral  <span style=\"display: inline-block; width: 10px; height: 10px;                 border: 1px solid; background-color:                 hsl(120, 75%, 50%)\"></span> Positive  </div><tr><th>True Label</th><th>Predicted Label</th><th>Attribution Label</th><th>Attribution Score</th><th>Word Importance</th><tr><td><text style=\"padding-right:2em\"><b>Neg</b></text></td><td><text style=\"padding-right:2em\"><b>Neg (0.04)</b></text></td><td><text style=\"padding-right:2em\"><b>Neg</b></text></td><td><text style=\"padding-right:2em\"><b>-0.34</b></text></td><td><mark style=\"background-color: hsl(0, 75%, 90%); opacity:1.0;                     line-height:1.75\"><font color=\"black\"> [CLS]                    </font></mark><mark style=\"background-color: hsl(120, 75%, 77%); opacity:1.0;                     line-height:1.75\"><font color=\"black\"> silly                    </font></mark><mark style=\"background-color: hsl(120, 75%, 98%); opacity:1.0;                     line-height:1.75\"><font color=\"black\"> and                    </font></mark><mark style=\"background-color: hsl(0, 75%, 97%); opacity:1.0;                     line-height:1.75\"><font color=\"black\"> tedious                    </font></mark><mark style=\"background-color: hsl(0, 75%, 84%); opacity:1.0;                     line-height:1.75\"><font color=\"black\"> [SEP]                    </font></mark></td><tr></table>"
      ],
      "text/plain": [
       "<IPython.core.display.HTML object>"
      ]
     },
     "metadata": {},
     "output_type": "display_data"
    },
    {
     "name": "stdout",
     "output_type": "stream",
     "text": [
      "<IPython.core.display.HTML object>\n",
      "Raw review: two surefire , beloved genres \n",
      "GT target: 1\n",
      "word attr tensor([-0.2413,  0.0650,  0.0933,  0.0791,  0.8537,  0.2256, -0.3417,  0.1617],\n",
      "       device='cuda:0', grad_fn=<DivBackward0>)\n",
      "conti attr [tensor(-0.2413, device='cuda:0', grad_fn=<UnbindBackward0>), tensor(0.0650, device='cuda:0', grad_fn=<UnbindBackward0>), tensor(0.0862, device='cuda:0', grad_fn=<DivBackward0>), tensor(0.8537, device='cuda:0', grad_fn=<UnbindBackward0>), tensor(0.2256, device='cuda:0', grad_fn=<UnbindBackward0>), tensor(-0.3417, device='cuda:0', grad_fn=<UnbindBackward0>), tensor(0.1617, device='cuda:0', grad_fn=<UnbindBackward0>)]\n",
      "detokenized ['[CLS]', 'two', 'sure', 'fire', ',', 'beloved', 'genres', '[SEP]']\n",
      "len conti_raw 7\n",
      "conti_raw ['[CLS]', 'two', 'surefire', ',', 'beloved', 'genres', '[SEP]']\n"
     ]
    },
    {
     "data": {
      "text/html": [
       "<table width: 100%><div style=\"border-top: 1px solid; margin-top: 5px;             padding-top: 5px; display: inline-block\"><b>Legend: </b><span style=\"display: inline-block; width: 10px; height: 10px;                 border: 1px solid; background-color:                 hsl(0, 75%, 60%)\"></span> Negative  <span style=\"display: inline-block; width: 10px; height: 10px;                 border: 1px solid; background-color:                 hsl(0, 75%, 100%)\"></span> Neutral  <span style=\"display: inline-block; width: 10px; height: 10px;                 border: 1px solid; background-color:                 hsl(120, 75%, 50%)\"></span> Positive  </div><tr><th>True Label</th><th>Predicted Label</th><th>Attribution Label</th><th>Attribution Score</th><th>Word Importance</th><tr><td><text style=\"padding-right:2em\"><b>Pos</b></text></td><td><text style=\"padding-right:2em\"><b>Pos (0.98)</b></text></td><td><text style=\"padding-right:2em\"><b>Pos</b></text></td><td><text style=\"padding-right:2em\"><b>0.90</b></text></td><td><mark style=\"background-color: hsl(0, 75%, 91%); opacity:1.0;                     line-height:1.75\"><font color=\"black\"> [CLS]                    </font></mark><mark style=\"background-color: hsl(120, 75%, 97%); opacity:1.0;                     line-height:1.75\"><font color=\"black\"> two                    </font></mark><mark style=\"background-color: hsl(120, 75%, 96%); opacity:1.0;                     line-height:1.75\"><font color=\"black\"> surefire                    </font></mark><mark style=\"background-color: hsl(120, 75%, 58%); opacity:1.0;                     line-height:1.75\"><font color=\"black\"> ,                    </font></mark><mark style=\"background-color: hsl(120, 75%, 89%); opacity:1.0;                     line-height:1.75\"><font color=\"black\"> beloved                    </font></mark><mark style=\"background-color: hsl(0, 75%, 87%); opacity:1.0;                     line-height:1.75\"><font color=\"black\"> genres                    </font></mark><mark style=\"background-color: hsl(120, 75%, 92%); opacity:1.0;                     line-height:1.75\"><font color=\"black\"> [SEP]                    </font></mark></td><tr></table>"
      ],
      "text/plain": [
       "<IPython.core.display.HTML object>"
      ]
     },
     "metadata": {},
     "output_type": "display_data"
    },
    {
     "name": "stdout",
     "output_type": "stream",
     "text": [
      "<IPython.core.display.HTML object>\n",
      "Raw review: most charmless \n",
      "GT target: 0\n",
      "word attr tensor([-0.1907, -0.5888,  0.4621, -0.2397,  0.5882], device='cuda:0',\n",
      "       grad_fn=<DivBackward0>)\n",
      "conti attr [tensor(-0.1907, device='cuda:0', grad_fn=<UnbindBackward0>), tensor(-0.5888, device='cuda:0', grad_fn=<UnbindBackward0>), tensor(0.1112, device='cuda:0', grad_fn=<DivBackward0>), tensor(0.5882, device='cuda:0', grad_fn=<UnbindBackward0>)]\n",
      "detokenized ['[CLS]', 'most', 'charm', 'less', '[SEP]']\n",
      "len conti_raw 4\n",
      "conti_raw ['[CLS]', 'most', 'charmless', '[SEP]']\n"
     ]
    },
    {
     "data": {
      "text/html": [
       "<table width: 100%><div style=\"border-top: 1px solid; margin-top: 5px;             padding-top: 5px; display: inline-block\"><b>Legend: </b><span style=\"display: inline-block; width: 10px; height: 10px;                 border: 1px solid; background-color:                 hsl(0, 75%, 60%)\"></span> Negative  <span style=\"display: inline-block; width: 10px; height: 10px;                 border: 1px solid; background-color:                 hsl(0, 75%, 100%)\"></span> Neutral  <span style=\"display: inline-block; width: 10px; height: 10px;                 border: 1px solid; background-color:                 hsl(120, 75%, 50%)\"></span> Positive  </div><tr><th>True Label</th><th>Predicted Label</th><th>Attribution Label</th><th>Attribution Score</th><th>Word Importance</th><tr><td><text style=\"padding-right:2em\"><b>Neg</b></text></td><td><text style=\"padding-right:2em\"><b>Pos (0.97)</b></text></td><td><text style=\"padding-right:2em\"><b>Neg</b></text></td><td><text style=\"padding-right:2em\"><b>0.03</b></text></td><td><mark style=\"background-color: hsl(0, 75%, 93%); opacity:1.0;                     line-height:1.75\"><font color=\"black\"> [CLS]                    </font></mark><mark style=\"background-color: hsl(0, 75%, 77%); opacity:1.0;                     line-height:1.75\"><font color=\"black\"> most                    </font></mark><mark style=\"background-color: hsl(120, 75%, 95%); opacity:1.0;                     line-height:1.75\"><font color=\"black\"> charmless                    </font></mark><mark style=\"background-color: hsl(120, 75%, 71%); opacity:1.0;                     line-height:1.75\"><font color=\"black\"> [SEP]                    </font></mark></td><tr></table>"
      ],
      "text/plain": [
       "<IPython.core.display.HTML object>"
      ]
     },
     "metadata": {},
     "output_type": "display_data"
    },
    {
     "name": "stdout",
     "output_type": "stream",
     "text": [
      "<IPython.core.display.HTML object>\n",
      "Raw review: offers us the sense that on some elemental level , lilia deeply wants to break free of her old life . \n",
      "GT target: 1\n",
      "word attr tensor([ 0.0800,  0.2772, -0.2622,  0.2991,  0.1363,  0.2143, -0.1899, -0.2559,\n",
      "        -0.1818,  0.1370, -0.0597,  0.2113, -0.0135, -0.2767, -0.1877,  0.2230,\n",
      "         0.0459, -0.0073,  0.0460, -0.1864, -0.0189,  0.4637, -0.2685, -0.0654],\n",
      "       device='cuda:0', grad_fn=<DivBackward0>)\n",
      "conti attr [tensor(0.0800, device='cuda:0', grad_fn=<UnbindBackward0>), tensor(0.2772, device='cuda:0', grad_fn=<UnbindBackward0>), tensor(-0.2622, device='cuda:0', grad_fn=<UnbindBackward0>), tensor(0.2991, device='cuda:0', grad_fn=<UnbindBackward0>), tensor(0.1363, device='cuda:0', grad_fn=<UnbindBackward0>), tensor(0.2143, device='cuda:0', grad_fn=<UnbindBackward0>), tensor(-0.1899, device='cuda:0', grad_fn=<UnbindBackward0>), tensor(-0.2559, device='cuda:0', grad_fn=<UnbindBackward0>), tensor(-0.1818, device='cuda:0', grad_fn=<UnbindBackward0>), tensor(0.1370, device='cuda:0', grad_fn=<UnbindBackward0>), tensor(-0.0597, device='cuda:0', grad_fn=<UnbindBackward0>), tensor(0.0989, device='cuda:0', grad_fn=<DivBackward0>), tensor(-0.2767, device='cuda:0', grad_fn=<UnbindBackward0>), tensor(-0.1877, device='cuda:0', grad_fn=<UnbindBackward0>), tensor(0.2230, device='cuda:0', grad_fn=<UnbindBackward0>), tensor(0.0459, device='cuda:0', grad_fn=<UnbindBackward0>), tensor(-0.0073, device='cuda:0', grad_fn=<UnbindBackward0>), tensor(0.0460, device='cuda:0', grad_fn=<UnbindBackward0>), tensor(-0.1864, device='cuda:0', grad_fn=<UnbindBackward0>), tensor(-0.0189, device='cuda:0', grad_fn=<UnbindBackward0>), tensor(0.4637, device='cuda:0', grad_fn=<UnbindBackward0>), tensor(-0.2685, device='cuda:0', grad_fn=<UnbindBackward0>), tensor(-0.0654, device='cuda:0', grad_fn=<UnbindBackward0>)]\n",
      "detokenized ['[CLS]', 'offers', 'us', 'the', 'sense', 'that', 'on', 'some', 'elemental', 'level', ',', 'lil', 'ia', 'deeply', 'wants', 'to', 'break', 'free', 'of', 'her', 'old', 'life', '.', '[SEP]']\n",
      "len conti_raw 23\n",
      "conti_raw ['[CLS]', 'offers', 'us', 'the', 'sense', 'that', 'on', 'some', 'elemental', 'level', ',', 'lilia', 'deeply', 'wants', 'to', 'break', 'free', 'of', 'her', 'old', 'life', '.', '[SEP]']\n"
     ]
    },
    {
     "data": {
      "text/html": [
       "<table width: 100%><div style=\"border-top: 1px solid; margin-top: 5px;             padding-top: 5px; display: inline-block\"><b>Legend: </b><span style=\"display: inline-block; width: 10px; height: 10px;                 border: 1px solid; background-color:                 hsl(0, 75%, 60%)\"></span> Negative  <span style=\"display: inline-block; width: 10px; height: 10px;                 border: 1px solid; background-color:                 hsl(0, 75%, 100%)\"></span> Neutral  <span style=\"display: inline-block; width: 10px; height: 10px;                 border: 1px solid; background-color:                 hsl(120, 75%, 50%)\"></span> Positive  </div><tr><th>True Label</th><th>Predicted Label</th><th>Attribution Label</th><th>Attribution Score</th><th>Word Importance</th><tr><td><text style=\"padding-right:2em\"><b>Pos</b></text></td><td><text style=\"padding-right:2em\"><b>Pos (0.96)</b></text></td><td><text style=\"padding-right:2em\"><b>Neg</b></text></td><td><text style=\"padding-right:2em\"><b>0.16</b></text></td><td><mark style=\"background-color: hsl(120, 75%, 96%); opacity:1.0;                     line-height:1.75\"><font color=\"black\"> [CLS]                    </font></mark><mark style=\"background-color: hsl(120, 75%, 87%); opacity:1.0;                     line-height:1.75\"><font color=\"black\"> offers                    </font></mark><mark style=\"background-color: hsl(0, 75%, 90%); opacity:1.0;                     line-height:1.75\"><font color=\"black\"> us                    </font></mark><mark style=\"background-color: hsl(120, 75%, 86%); opacity:1.0;                     line-height:1.75\"><font color=\"black\"> the                    </font></mark><mark style=\"background-color: hsl(120, 75%, 94%); opacity:1.0;                     line-height:1.75\"><font color=\"black\"> sense                    </font></mark><mark style=\"background-color: hsl(120, 75%, 90%); opacity:1.0;                     line-height:1.75\"><font color=\"black\"> that                    </font></mark><mark style=\"background-color: hsl(0, 75%, 93%); opacity:1.0;                     line-height:1.75\"><font color=\"black\"> on                    </font></mark><mark style=\"background-color: hsl(0, 75%, 90%); opacity:1.0;                     line-height:1.75\"><font color=\"black\"> some                    </font></mark><mark style=\"background-color: hsl(0, 75%, 93%); opacity:1.0;                     line-height:1.75\"><font color=\"black\"> elemental                    </font></mark><mark style=\"background-color: hsl(120, 75%, 94%); opacity:1.0;                     line-height:1.75\"><font color=\"black\"> level                    </font></mark><mark style=\"background-color: hsl(0, 75%, 98%); opacity:1.0;                     line-height:1.75\"><font color=\"black\"> ,                    </font></mark><mark style=\"background-color: hsl(120, 75%, 96%); opacity:1.0;                     line-height:1.75\"><font color=\"black\"> lilia                    </font></mark><mark style=\"background-color: hsl(0, 75%, 89%); opacity:1.0;                     line-height:1.75\"><font color=\"black\"> deeply                    </font></mark><mark style=\"background-color: hsl(0, 75%, 93%); opacity:1.0;                     line-height:1.75\"><font color=\"black\"> wants                    </font></mark><mark style=\"background-color: hsl(120, 75%, 89%); opacity:1.0;                     line-height:1.75\"><font color=\"black\"> to                    </font></mark><mark style=\"background-color: hsl(120, 75%, 98%); opacity:1.0;                     line-height:1.75\"><font color=\"black\"> break                    </font></mark><mark style=\"background-color: hsl(0, 75%, 100%); opacity:1.0;                     line-height:1.75\"><font color=\"black\"> free                    </font></mark><mark style=\"background-color: hsl(120, 75%, 98%); opacity:1.0;                     line-height:1.75\"><font color=\"black\"> of                    </font></mark><mark style=\"background-color: hsl(0, 75%, 93%); opacity:1.0;                     line-height:1.75\"><font color=\"black\"> her                    </font></mark><mark style=\"background-color: hsl(0, 75%, 100%); opacity:1.0;                     line-height:1.75\"><font color=\"black\"> old                    </font></mark><mark style=\"background-color: hsl(120, 75%, 77%); opacity:1.0;                     line-height:1.75\"><font color=\"black\"> life                    </font></mark><mark style=\"background-color: hsl(0, 75%, 90%); opacity:1.0;                     line-height:1.75\"><font color=\"black\"> .                    </font></mark><mark style=\"background-color: hsl(0, 75%, 98%); opacity:1.0;                     line-height:1.75\"><font color=\"black\"> [SEP]                    </font></mark></td><tr></table>"
      ],
      "text/plain": [
       "<IPython.core.display.HTML object>"
      ]
     },
     "metadata": {},
     "output_type": "display_data"
    },
    {
     "name": "stdout",
     "output_type": "stream",
     "text": [
      "<IPython.core.display.HTML object>\n",
      "Raw review: might be best forgotten \n",
      "GT target: 0\n",
      "word attr tensor([ 0.2013, -0.2020, -0.6444, -0.6291, -0.0306,  0.3268], device='cuda:0',\n",
      "       grad_fn=<DivBackward0>)\n",
      "conti attr [tensor(0.2013, device='cuda:0', grad_fn=<UnbindBackward0>), tensor(-0.2020, device='cuda:0', grad_fn=<UnbindBackward0>), tensor(-0.6444, device='cuda:0', grad_fn=<UnbindBackward0>), tensor(-0.6291, device='cuda:0', grad_fn=<UnbindBackward0>), tensor(-0.0306, device='cuda:0', grad_fn=<UnbindBackward0>), tensor(0.3268, device='cuda:0', grad_fn=<UnbindBackward0>)]\n",
      "detokenized ['[CLS]', 'might', 'be', 'best', 'forgotten', '[SEP]']\n",
      "len conti_raw 6\n",
      "conti_raw ['[CLS]', 'might', 'be', 'best', 'forgotten', '[SEP]']\n"
     ]
    },
    {
     "data": {
      "text/html": [
       "<table width: 100%><div style=\"border-top: 1px solid; margin-top: 5px;             padding-top: 5px; display: inline-block\"><b>Legend: </b><span style=\"display: inline-block; width: 10px; height: 10px;                 border: 1px solid; background-color:                 hsl(0, 75%, 60%)\"></span> Negative  <span style=\"display: inline-block; width: 10px; height: 10px;                 border: 1px solid; background-color:                 hsl(0, 75%, 100%)\"></span> Neutral  <span style=\"display: inline-block; width: 10px; height: 10px;                 border: 1px solid; background-color:                 hsl(120, 75%, 50%)\"></span> Positive  </div><tr><th>True Label</th><th>Predicted Label</th><th>Attribution Label</th><th>Attribution Score</th><th>Word Importance</th><tr><td><text style=\"padding-right:2em\"><b>Neg</b></text></td><td><text style=\"padding-right:2em\"><b>Neg (0.07)</b></text></td><td><text style=\"padding-right:2em\"><b>Neg</b></text></td><td><text style=\"padding-right:2em\"><b>-0.98</b></text></td><td><mark style=\"background-color: hsl(120, 75%, 90%); opacity:1.0;                     line-height:1.75\"><font color=\"black\"> [CLS]                    </font></mark><mark style=\"background-color: hsl(0, 75%, 92%); opacity:1.0;                     line-height:1.75\"><font color=\"black\"> might                    </font></mark><mark style=\"background-color: hsl(0, 75%, 75%); opacity:1.0;                     line-height:1.75\"><font color=\"black\"> be                    </font></mark><mark style=\"background-color: hsl(0, 75%, 75%); opacity:1.0;                     line-height:1.75\"><font color=\"black\"> best                    </font></mark><mark style=\"background-color: hsl(0, 75%, 99%); opacity:1.0;                     line-height:1.75\"><font color=\"black\"> forgotten                    </font></mark><mark style=\"background-color: hsl(120, 75%, 84%); opacity:1.0;                     line-height:1.75\"><font color=\"black\"> [SEP]                    </font></mark></td><tr></table>"
      ],
      "text/plain": [
       "<IPython.core.display.HTML object>"
      ]
     },
     "metadata": {},
     "output_type": "display_data"
    },
    {
     "name": "stdout",
     "output_type": "stream",
     "text": [
      "<IPython.core.display.HTML object>\n",
      "Raw review: a substantial arc of change that does n't produce any real transformation \n",
      "GT target: 0\n",
      "word attr tensor([-0.0759,  0.0928, -0.0268, -0.0827,  0.0117, -0.0501,  0.0817,  0.1021,\n",
      "        -0.4346, -0.7108,  0.4766,  0.0381,  0.1383,  0.1046,  0.0748, -0.0059],\n",
      "       device='cuda:0', grad_fn=<DivBackward0>)\n",
      "conti attr [tensor(-0.0759, device='cuda:0', grad_fn=<UnbindBackward0>), tensor(0.0928, device='cuda:0', grad_fn=<UnbindBackward0>), tensor(-0.0268, device='cuda:0', grad_fn=<UnbindBackward0>), tensor(-0.0827, device='cuda:0', grad_fn=<UnbindBackward0>), tensor(0.0117, device='cuda:0', grad_fn=<UnbindBackward0>), tensor(-0.0501, device='cuda:0', grad_fn=<UnbindBackward0>), tensor(0.0817, device='cuda:0', grad_fn=<UnbindBackward0>), tensor(0.1021, device='cuda:0', grad_fn=<UnbindBackward0>), tensor(-0.0480, device='cuda:0', grad_fn=<DivBackward0>), tensor(0.0381, device='cuda:0', grad_fn=<UnbindBackward0>), tensor(0.1383, device='cuda:0', grad_fn=<UnbindBackward0>), tensor(0.1046, device='cuda:0', grad_fn=<UnbindBackward0>), tensor(0.0748, device='cuda:0', grad_fn=<UnbindBackward0>), tensor(-0.0059, device='cuda:0', grad_fn=<UnbindBackward0>)]\n",
      "detokenized ['[CLS]', 'a', 'substantial', 'arc', 'of', 'change', 'that', 'does', 'n', \"'\", 't', 'produce', 'any', 'real', 'transformation', '[SEP]']\n",
      "len conti_raw 14\n",
      "conti_raw ['[CLS]', 'a', 'substantial', 'arc', 'of', 'change', 'that', 'does', \"n't\", 'produce', 'any', 'real', 'transformation', '[SEP]']\n"
     ]
    },
    {
     "data": {
      "text/html": [
       "<table width: 100%><div style=\"border-top: 1px solid; margin-top: 5px;             padding-top: 5px; display: inline-block\"><b>Legend: </b><span style=\"display: inline-block; width: 10px; height: 10px;                 border: 1px solid; background-color:                 hsl(0, 75%, 60%)\"></span> Negative  <span style=\"display: inline-block; width: 10px; height: 10px;                 border: 1px solid; background-color:                 hsl(0, 75%, 100%)\"></span> Neutral  <span style=\"display: inline-block; width: 10px; height: 10px;                 border: 1px solid; background-color:                 hsl(120, 75%, 50%)\"></span> Positive  </div><tr><th>True Label</th><th>Predicted Label</th><th>Attribution Label</th><th>Attribution Score</th><th>Word Importance</th><tr><td><text style=\"padding-right:2em\"><b>Neg</b></text></td><td><text style=\"padding-right:2em\"><b>Neg (0.04)</b></text></td><td><text style=\"padding-right:2em\"><b>Neg</b></text></td><td><text style=\"padding-right:2em\"><b>-0.27</b></text></td><td><mark style=\"background-color: hsl(0, 75%, 97%); opacity:1.0;                     line-height:1.75\"><font color=\"black\"> [CLS]                    </font></mark><mark style=\"background-color: hsl(120, 75%, 96%); opacity:1.0;                     line-height:1.75\"><font color=\"black\"> a                    </font></mark><mark style=\"background-color: hsl(0, 75%, 99%); opacity:1.0;                     line-height:1.75\"><font color=\"black\"> substantial                    </font></mark><mark style=\"background-color: hsl(0, 75%, 97%); opacity:1.0;                     line-height:1.75\"><font color=\"black\"> arc                    </font></mark><mark style=\"background-color: hsl(120, 75%, 100%); opacity:1.0;                     line-height:1.75\"><font color=\"black\"> of                    </font></mark><mark style=\"background-color: hsl(0, 75%, 98%); opacity:1.0;                     line-height:1.75\"><font color=\"black\"> change                    </font></mark><mark style=\"background-color: hsl(120, 75%, 96%); opacity:1.0;                     line-height:1.75\"><font color=\"black\"> that                    </font></mark><mark style=\"background-color: hsl(120, 75%, 95%); opacity:1.0;                     line-height:1.75\"><font color=\"black\"> does                    </font></mark><mark style=\"background-color: hsl(0, 75%, 99%); opacity:1.0;                     line-height:1.75\"><font color=\"black\"> n't                    </font></mark><mark style=\"background-color: hsl(120, 75%, 99%); opacity:1.0;                     line-height:1.75\"><font color=\"black\"> produce                    </font></mark><mark style=\"background-color: hsl(120, 75%, 94%); opacity:1.0;                     line-height:1.75\"><font color=\"black\"> any                    </font></mark><mark style=\"background-color: hsl(120, 75%, 95%); opacity:1.0;                     line-height:1.75\"><font color=\"black\"> real                    </font></mark><mark style=\"background-color: hsl(120, 75%, 97%); opacity:1.0;                     line-height:1.75\"><font color=\"black\"> transformation                    </font></mark><mark style=\"background-color: hsl(0, 75%, 100%); opacity:1.0;                     line-height:1.75\"><font color=\"black\"> [SEP]                    </font></mark></td><tr></table>"
      ],
      "text/plain": [
       "<IPython.core.display.HTML object>"
      ]
     },
     "metadata": {},
     "output_type": "display_data"
    },
    {
     "name": "stdout",
     "output_type": "stream",
     "text": [
      "<IPython.core.display.HTML object>\n",
      "Raw review: unadorned \n",
      "GT target: 0\n",
      "word attr tensor([-0.2531,  0.3630, -0.6971,  0.5604, -0.0644], device='cuda:0',\n",
      "       grad_fn=<DivBackward0>)\n",
      "conti attr [tensor(-0.2531, device='cuda:0', grad_fn=<UnbindBackward0>), tensor(0.1967, device='cuda:0', grad_fn=<DivBackward0>), tensor(-0.0644, device='cuda:0', grad_fn=<UnbindBackward0>)]\n",
      "detokenized ['[CLS]', 'una', 'dor', 'ned', '[SEP]']\n",
      "len conti_raw 3\n",
      "conti_raw ['[CLS]', 'unadorned', '[SEP]']\n"
     ]
    },
    {
     "data": {
      "text/html": [
       "<table width: 100%><div style=\"border-top: 1px solid; margin-top: 5px;             padding-top: 5px; display: inline-block\"><b>Legend: </b><span style=\"display: inline-block; width: 10px; height: 10px;                 border: 1px solid; background-color:                 hsl(0, 75%, 60%)\"></span> Negative  <span style=\"display: inline-block; width: 10px; height: 10px;                 border: 1px solid; background-color:                 hsl(0, 75%, 100%)\"></span> Neutral  <span style=\"display: inline-block; width: 10px; height: 10px;                 border: 1px solid; background-color:                 hsl(120, 75%, 50%)\"></span> Positive  </div><tr><th>True Label</th><th>Predicted Label</th><th>Attribution Label</th><th>Attribution Score</th><th>Word Importance</th><tr><td><text style=\"padding-right:2em\"><b>Neg</b></text></td><td><text style=\"padding-right:2em\"><b>Neg (0.06)</b></text></td><td><text style=\"padding-right:2em\"><b>Neg</b></text></td><td><text style=\"padding-right:2em\"><b>-0.09</b></text></td><td><mark style=\"background-color: hsl(0, 75%, 90%); opacity:1.0;                     line-height:1.75\"><font color=\"black\"> [CLS]                    </font></mark><mark style=\"background-color: hsl(120, 75%, 91%); opacity:1.0;                     line-height:1.75\"><font color=\"black\"> unadorned                    </font></mark><mark style=\"background-color: hsl(0, 75%, 98%); opacity:1.0;                     line-height:1.75\"><font color=\"black\"> [SEP]                    </font></mark></td><tr></table>"
      ],
      "text/plain": [
       "<IPython.core.display.HTML object>"
      ]
     },
     "metadata": {},
     "output_type": "display_data"
    },
    {
     "name": "stdout",
     "output_type": "stream",
     "text": [
      "<IPython.core.display.HTML object>\n",
      "Raw review: this is the kind of movie that you only need to watch for about thirty seconds before you say to yourself , ` ah , yes , here we have a bad , bad , bad movie . ' \n",
      "GT target: 0\n",
      "word attr tensor([ 0.1342,  0.0199,  0.0057,  0.0777, -0.1481,  0.1467,  0.1508, -0.0572,\n",
      "        -0.1250,  0.0253,  0.0919, -0.0436, -0.1580,  0.0554,  0.0494, -0.0259,\n",
      "        -0.0377,  0.0067, -0.1761,  0.0581, -0.2294, -0.0380, -0.1477,  0.0992,\n",
      "        -0.0022, -0.1233, -0.1526,  0.0977,  0.0674, -0.0574, -0.3043,  0.0732,\n",
      "         0.1956, -0.0663,  0.4468, -0.3141,  0.2269, -0.3082, -0.1998, -0.0117,\n",
      "         0.2129], device='cuda:0', grad_fn=<DivBackward0>)\n",
      "conti attr [tensor(0.1342, device='cuda:0', grad_fn=<UnbindBackward0>), tensor(0.0199, device='cuda:0', grad_fn=<UnbindBackward0>), tensor(0.0057, device='cuda:0', grad_fn=<UnbindBackward0>), tensor(0.0777, device='cuda:0', grad_fn=<UnbindBackward0>), tensor(-0.1481, device='cuda:0', grad_fn=<UnbindBackward0>), tensor(0.1467, device='cuda:0', grad_fn=<UnbindBackward0>), tensor(0.1508, device='cuda:0', grad_fn=<UnbindBackward0>), tensor(-0.0572, device='cuda:0', grad_fn=<UnbindBackward0>), tensor(-0.1250, device='cuda:0', grad_fn=<UnbindBackward0>), tensor(0.0253, device='cuda:0', grad_fn=<UnbindBackward0>), tensor(0.0919, device='cuda:0', grad_fn=<UnbindBackward0>), tensor(-0.0436, device='cuda:0', grad_fn=<UnbindBackward0>), tensor(-0.1580, device='cuda:0', grad_fn=<UnbindBackward0>), tensor(0.0554, device='cuda:0', grad_fn=<UnbindBackward0>), tensor(0.0494, device='cuda:0', grad_fn=<UnbindBackward0>), tensor(-0.0259, device='cuda:0', grad_fn=<UnbindBackward0>), tensor(-0.0377, device='cuda:0', grad_fn=<UnbindBackward0>), tensor(0.0067, device='cuda:0', grad_fn=<UnbindBackward0>), tensor(-0.1761, device='cuda:0', grad_fn=<UnbindBackward0>), tensor(0.0581, device='cuda:0', grad_fn=<UnbindBackward0>), tensor(-0.2294, device='cuda:0', grad_fn=<UnbindBackward0>), tensor(-0.0380, device='cuda:0', grad_fn=<UnbindBackward0>), tensor(-0.1477, device='cuda:0', grad_fn=<UnbindBackward0>), tensor(0.0992, device='cuda:0', grad_fn=<UnbindBackward0>), tensor(-0.0022, device='cuda:0', grad_fn=<UnbindBackward0>), tensor(-0.1233, device='cuda:0', grad_fn=<UnbindBackward0>), tensor(-0.1526, device='cuda:0', grad_fn=<UnbindBackward0>), tensor(0.0977, device='cuda:0', grad_fn=<UnbindBackward0>), tensor(0.0674, device='cuda:0', grad_fn=<UnbindBackward0>), tensor(-0.0574, device='cuda:0', grad_fn=<UnbindBackward0>), tensor(-0.3043, device='cuda:0', grad_fn=<UnbindBackward0>), tensor(0.0732, device='cuda:0', grad_fn=<UnbindBackward0>), tensor(0.1956, device='cuda:0', grad_fn=<UnbindBackward0>), tensor(-0.0663, device='cuda:0', grad_fn=<UnbindBackward0>), tensor(0.4468, device='cuda:0', grad_fn=<UnbindBackward0>), tensor(-0.3141, device='cuda:0', grad_fn=<UnbindBackward0>), tensor(0.2269, device='cuda:0', grad_fn=<UnbindBackward0>), tensor(-0.3082, device='cuda:0', grad_fn=<UnbindBackward0>), tensor(-0.1998, device='cuda:0', grad_fn=<UnbindBackward0>), tensor(-0.0117, device='cuda:0', grad_fn=<UnbindBackward0>), tensor(0.2129, device='cuda:0', grad_fn=<UnbindBackward0>)]\n",
      "detokenized ['[CLS]', 'this', 'is', 'the', 'kind', 'of', 'movie', 'that', 'you', 'only', 'need', 'to', 'watch', 'for', 'about', 'thirty', 'seconds', 'before', 'you', 'say', 'to', 'yourself', ',', '`', 'ah', ',', 'yes', ',', 'here', 'we', 'have', 'a', 'bad', ',', 'bad', ',', 'bad', 'movie', '.', \"'\", '[SEP]']\n",
      "len conti_raw 41\n",
      "conti_raw ['[CLS]', 'this', 'is', 'the', 'kind', 'of', 'movie', 'that', 'you', 'only', 'need', 'to', 'watch', 'for', 'about', 'thirty', 'seconds', 'before', 'you', 'say', 'to', 'yourself', ',', '`', 'ah', ',', 'yes', ',', 'here', 'we', 'have', 'a', 'bad', ',', 'bad', ',', 'bad', 'movie', '.', \"'\", '[SEP]']\n"
     ]
    },
    {
     "data": {
      "text/html": [
       "<table width: 100%><div style=\"border-top: 1px solid; margin-top: 5px;             padding-top: 5px; display: inline-block\"><b>Legend: </b><span style=\"display: inline-block; width: 10px; height: 10px;                 border: 1px solid; background-color:                 hsl(0, 75%, 60%)\"></span> Negative  <span style=\"display: inline-block; width: 10px; height: 10px;                 border: 1px solid; background-color:                 hsl(0, 75%, 100%)\"></span> Neutral  <span style=\"display: inline-block; width: 10px; height: 10px;                 border: 1px solid; background-color:                 hsl(120, 75%, 50%)\"></span> Positive  </div><tr><th>True Label</th><th>Predicted Label</th><th>Attribution Label</th><th>Attribution Score</th><th>Word Importance</th><tr><td><text style=\"padding-right:2em\"><b>Neg</b></text></td><td><text style=\"padding-right:2em\"><b>Neg (0.07)</b></text></td><td><text style=\"padding-right:2em\"><b>Neg</b></text></td><td><text style=\"padding-right:2em\"><b>-0.49</b></text></td><td><mark style=\"background-color: hsl(120, 75%, 94%); opacity:1.0;                     line-height:1.75\"><font color=\"black\"> [CLS]                    </font></mark><mark style=\"background-color: hsl(120, 75%, 100%); opacity:1.0;                     line-height:1.75\"><font color=\"black\"> this                    </font></mark><mark style=\"background-color: hsl(120, 75%, 100%); opacity:1.0;                     line-height:1.75\"><font color=\"black\"> is                    </font></mark><mark style=\"background-color: hsl(120, 75%, 97%); opacity:1.0;                     line-height:1.75\"><font color=\"black\"> the                    </font></mark><mark style=\"background-color: hsl(0, 75%, 95%); opacity:1.0;                     line-height:1.75\"><font color=\"black\"> kind                    </font></mark><mark style=\"background-color: hsl(120, 75%, 93%); opacity:1.0;                     line-height:1.75\"><font color=\"black\"> of                    </font></mark><mark style=\"background-color: hsl(120, 75%, 93%); opacity:1.0;                     line-height:1.75\"><font color=\"black\"> movie                    </font></mark><mark style=\"background-color: hsl(0, 75%, 98%); opacity:1.0;                     line-height:1.75\"><font color=\"black\"> that                    </font></mark><mark style=\"background-color: hsl(0, 75%, 95%); opacity:1.0;                     line-height:1.75\"><font color=\"black\"> you                    </font></mark><mark style=\"background-color: hsl(120, 75%, 99%); opacity:1.0;                     line-height:1.75\"><font color=\"black\"> only                    </font></mark><mark style=\"background-color: hsl(120, 75%, 96%); opacity:1.0;                     line-height:1.75\"><font color=\"black\"> need                    </font></mark><mark style=\"background-color: hsl(0, 75%, 99%); opacity:1.0;                     line-height:1.75\"><font color=\"black\"> to                    </font></mark><mark style=\"background-color: hsl(0, 75%, 94%); opacity:1.0;                     line-height:1.75\"><font color=\"black\"> watch                    </font></mark><mark style=\"background-color: hsl(120, 75%, 98%); opacity:1.0;                     line-height:1.75\"><font color=\"black\"> for                    </font></mark><mark style=\"background-color: hsl(120, 75%, 98%); opacity:1.0;                     line-height:1.75\"><font color=\"black\"> about                    </font></mark><mark style=\"background-color: hsl(0, 75%, 99%); opacity:1.0;                     line-height:1.75\"><font color=\"black\"> thirty                    </font></mark><mark style=\"background-color: hsl(0, 75%, 99%); opacity:1.0;                     line-height:1.75\"><font color=\"black\"> seconds                    </font></mark><mark style=\"background-color: hsl(120, 75%, 100%); opacity:1.0;                     line-height:1.75\"><font color=\"black\"> before                    </font></mark><mark style=\"background-color: hsl(0, 75%, 93%); opacity:1.0;                     line-height:1.75\"><font color=\"black\"> you                    </font></mark><mark style=\"background-color: hsl(120, 75%, 98%); opacity:1.0;                     line-height:1.75\"><font color=\"black\"> say                    </font></mark><mark style=\"background-color: hsl(0, 75%, 91%); opacity:1.0;                     line-height:1.75\"><font color=\"black\"> to                    </font></mark><mark style=\"background-color: hsl(0, 75%, 99%); opacity:1.0;                     line-height:1.75\"><font color=\"black\"> yourself                    </font></mark><mark style=\"background-color: hsl(0, 75%, 95%); opacity:1.0;                     line-height:1.75\"><font color=\"black\"> ,                    </font></mark><mark style=\"background-color: hsl(120, 75%, 96%); opacity:1.0;                     line-height:1.75\"><font color=\"black\"> `                    </font></mark><mark style=\"background-color: hsl(0, 75%, 100%); opacity:1.0;                     line-height:1.75\"><font color=\"black\"> ah                    </font></mark><mark style=\"background-color: hsl(0, 75%, 96%); opacity:1.0;                     line-height:1.75\"><font color=\"black\"> ,                    </font></mark><mark style=\"background-color: hsl(0, 75%, 94%); opacity:1.0;                     line-height:1.75\"><font color=\"black\"> yes                    </font></mark><mark style=\"background-color: hsl(120, 75%, 96%); opacity:1.0;                     line-height:1.75\"><font color=\"black\"> ,                    </font></mark><mark style=\"background-color: hsl(120, 75%, 97%); opacity:1.0;                     line-height:1.75\"><font color=\"black\"> here                    </font></mark><mark style=\"background-color: hsl(0, 75%, 98%); opacity:1.0;                     line-height:1.75\"><font color=\"black\"> we                    </font></mark><mark style=\"background-color: hsl(0, 75%, 88%); opacity:1.0;                     line-height:1.75\"><font color=\"black\"> have                    </font></mark><mark style=\"background-color: hsl(120, 75%, 97%); opacity:1.0;                     line-height:1.75\"><font color=\"black\"> a                    </font></mark><mark style=\"background-color: hsl(120, 75%, 91%); opacity:1.0;                     line-height:1.75\"><font color=\"black\"> bad                    </font></mark><mark style=\"background-color: hsl(0, 75%, 98%); opacity:1.0;                     line-height:1.75\"><font color=\"black\"> ,                    </font></mark><mark style=\"background-color: hsl(120, 75%, 78%); opacity:1.0;                     line-height:1.75\"><font color=\"black\"> bad                    </font></mark><mark style=\"background-color: hsl(0, 75%, 88%); opacity:1.0;                     line-height:1.75\"><font color=\"black\"> ,                    </font></mark><mark style=\"background-color: hsl(120, 75%, 89%); opacity:1.0;                     line-height:1.75\"><font color=\"black\"> bad                    </font></mark><mark style=\"background-color: hsl(0, 75%, 88%); opacity:1.0;                     line-height:1.75\"><font color=\"black\"> movie                    </font></mark><mark style=\"background-color: hsl(0, 75%, 93%); opacity:1.0;                     line-height:1.75\"><font color=\"black\"> .                    </font></mark><mark style=\"background-color: hsl(0, 75%, 100%); opacity:1.0;                     line-height:1.75\"><font color=\"black\"> '                    </font></mark><mark style=\"background-color: hsl(120, 75%, 90%); opacity:1.0;                     line-height:1.75\"><font color=\"black\"> [SEP]                    </font></mark></td><tr></table>"
      ],
      "text/plain": [
       "<IPython.core.display.HTML object>"
      ]
     },
     "metadata": {},
     "output_type": "display_data"
    },
    {
     "name": "stdout",
     "output_type": "stream",
     "text": [
      "<IPython.core.display.HTML object>\n",
      "Raw review: feel sanitised and stagey \n",
      "GT target: 0\n",
      "word attr tensor([-0.1808,  0.0018, -0.2416,  0.7807,  0.1146, -0.4400, -0.2401, -0.1703,\n",
      "         0.0784], device='cuda:0', grad_fn=<DivBackward0>)\n",
      "conti attr [tensor(-0.1808, device='cuda:0', grad_fn=<UnbindBackward0>), tensor(0.0018, device='cuda:0', grad_fn=<UnbindBackward0>), tensor(0.1921, device='cuda:0', grad_fn=<DivBackward0>), tensor(-0.4400, device='cuda:0', grad_fn=<UnbindBackward0>), tensor(-0.2052, device='cuda:0', grad_fn=<DivBackward0>), tensor(0.0784, device='cuda:0', grad_fn=<UnbindBackward0>)]\n",
      "detokenized ['[CLS]', 'feel', 'san', 'itis', 'ed', 'and', 'stage', 'y', '[SEP]']\n",
      "len conti_raw 6\n",
      "conti_raw ['[CLS]', 'feel', 'sanitised', 'and', 'stagey', '[SEP]']\n"
     ]
    },
    {
     "data": {
      "text/html": [
       "<table width: 100%><div style=\"border-top: 1px solid; margin-top: 5px;             padding-top: 5px; display: inline-block\"><b>Legend: </b><span style=\"display: inline-block; width: 10px; height: 10px;                 border: 1px solid; background-color:                 hsl(0, 75%, 60%)\"></span> Negative  <span style=\"display: inline-block; width: 10px; height: 10px;                 border: 1px solid; background-color:                 hsl(0, 75%, 100%)\"></span> Neutral  <span style=\"display: inline-block; width: 10px; height: 10px;                 border: 1px solid; background-color:                 hsl(120, 75%, 50%)\"></span> Positive  </div><tr><th>True Label</th><th>Predicted Label</th><th>Attribution Label</th><th>Attribution Score</th><th>Word Importance</th><tr><td><text style=\"padding-right:2em\"><b>Neg</b></text></td><td><text style=\"padding-right:2em\"><b>Neg (0.03)</b></text></td><td><text style=\"padding-right:2em\"><b>Neg</b></text></td><td><text style=\"padding-right:2em\"><b>-0.30</b></text></td><td><mark style=\"background-color: hsl(0, 75%, 93%); opacity:1.0;                     line-height:1.75\"><font color=\"black\"> [CLS]                    </font></mark><mark style=\"background-color: hsl(120, 75%, 100%); opacity:1.0;                     line-height:1.75\"><font color=\"black\"> feel                    </font></mark><mark style=\"background-color: hsl(120, 75%, 91%); opacity:1.0;                     line-height:1.75\"><font color=\"black\"> sanitised                    </font></mark><mark style=\"background-color: hsl(0, 75%, 83%); opacity:1.0;                     line-height:1.75\"><font color=\"black\"> and                    </font></mark><mark style=\"background-color: hsl(0, 75%, 92%); opacity:1.0;                     line-height:1.75\"><font color=\"black\"> stagey                    </font></mark><mark style=\"background-color: hsl(120, 75%, 97%); opacity:1.0;                     line-height:1.75\"><font color=\"black\"> [SEP]                    </font></mark></td><tr></table>"
      ],
      "text/plain": [
       "<IPython.core.display.HTML object>"
      ]
     },
     "metadata": {},
     "output_type": "display_data"
    },
    {
     "name": "stdout",
     "output_type": "stream",
     "text": [
      "<IPython.core.display.HTML object>\n",
      "Raw review: replete with stereotypical familial quandaries \n",
      "GT target: 0\n",
      "word attr tensor([ 0.3345,  0.7105,  0.0385, -0.1974, -0.2631, -0.1417,  0.0477, -0.2537,\n",
      "        -0.3226,  0.1364,  0.0626,  0.2120,  0.0198, -0.1223], device='cuda:0',\n",
      "       grad_fn=<DivBackward0>)\n",
      "conti attr [tensor(0.3345, device='cuda:0', grad_fn=<UnbindBackward0>), tensor(0.3745, device='cuda:0', grad_fn=<DivBackward0>), tensor(-0.1974, device='cuda:0', grad_fn=<UnbindBackward0>), tensor(-0.2024, device='cuda:0', grad_fn=<DivBackward0>), tensor(-0.0382, device='cuda:0', grad_fn=<DivBackward0>), tensor(0.0785, device='cuda:0', grad_fn=<DivBackward0>), tensor(-0.1223, device='cuda:0', grad_fn=<UnbindBackward0>)]\n",
      "detokenized ['[CLS]', 'rep', 'lete', 'with', 'stereo', 'typical', 'fa', 'mi', 'lia', 'l', 'quan', 'dar', 'ies', '[SEP]']\n",
      "len conti_raw 7\n",
      "conti_raw ['[CLS]', 'replete', 'with', 'stereotypical', 'familial', 'quandaries', '[SEP]']\n"
     ]
    },
    {
     "data": {
      "text/html": [
       "<table width: 100%><div style=\"border-top: 1px solid; margin-top: 5px;             padding-top: 5px; display: inline-block\"><b>Legend: </b><span style=\"display: inline-block; width: 10px; height: 10px;                 border: 1px solid; background-color:                 hsl(0, 75%, 60%)\"></span> Negative  <span style=\"display: inline-block; width: 10px; height: 10px;                 border: 1px solid; background-color:                 hsl(0, 75%, 100%)\"></span> Neutral  <span style=\"display: inline-block; width: 10px; height: 10px;                 border: 1px solid; background-color:                 hsl(120, 75%, 50%)\"></span> Positive  </div><tr><th>True Label</th><th>Predicted Label</th><th>Attribution Label</th><th>Attribution Score</th><th>Word Importance</th><tr><td><text style=\"padding-right:2em\"><b>Neg</b></text></td><td><text style=\"padding-right:2em\"><b>Neg (0.08)</b></text></td><td><text style=\"padding-right:2em\"><b>Neg</b></text></td><td><text style=\"padding-right:2em\"><b>0.26</b></text></td><td><mark style=\"background-color: hsl(120, 75%, 84%); opacity:1.0;                     line-height:1.75\"><font color=\"black\"> [CLS]                    </font></mark><mark style=\"background-color: hsl(120, 75%, 82%); opacity:1.0;                     line-height:1.75\"><font color=\"black\"> replete                    </font></mark><mark style=\"background-color: hsl(0, 75%, 93%); opacity:1.0;                     line-height:1.75\"><font color=\"black\"> with                    </font></mark><mark style=\"background-color: hsl(0, 75%, 92%); opacity:1.0;                     line-height:1.75\"><font color=\"black\"> stereotypical                    </font></mark><mark style=\"background-color: hsl(0, 75%, 99%); opacity:1.0;                     line-height:1.75\"><font color=\"black\"> familial                    </font></mark><mark style=\"background-color: hsl(120, 75%, 97%); opacity:1.0;                     line-height:1.75\"><font color=\"black\"> quandaries                    </font></mark><mark style=\"background-color: hsl(0, 75%, 96%); opacity:1.0;                     line-height:1.75\"><font color=\"black\"> [SEP]                    </font></mark></td><tr></table>"
      ],
      "text/plain": [
       "<IPython.core.display.HTML object>"
      ]
     },
     "metadata": {},
     "output_type": "display_data"
    },
    {
     "name": "stdout",
     "output_type": "stream",
     "text": [
      "<IPython.core.display.HTML object>\n",
      "Raw review: quirky comedy \n",
      "GT target: 1\n",
      "word attr tensor([ 0.1350,  0.4647,  0.3849, -0.7855,  0.0259], device='cuda:0',\n",
      "       grad_fn=<DivBackward0>)\n",
      "conti attr [tensor(0.1350, device='cuda:0', grad_fn=<UnbindBackward0>), tensor(0.4248, device='cuda:0', grad_fn=<DivBackward0>), tensor(-0.7855, device='cuda:0', grad_fn=<UnbindBackward0>), tensor(0.0259, device='cuda:0', grad_fn=<UnbindBackward0>)]\n",
      "detokenized ['[CLS]', 'qui', 'rky', 'comedy', '[SEP]']\n",
      "len conti_raw 4\n",
      "conti_raw ['[CLS]', 'quirky', 'comedy', '[SEP]']\n"
     ]
    },
    {
     "data": {
      "text/html": [
       "<table width: 100%><div style=\"border-top: 1px solid; margin-top: 5px;             padding-top: 5px; display: inline-block\"><b>Legend: </b><span style=\"display: inline-block; width: 10px; height: 10px;                 border: 1px solid; background-color:                 hsl(0, 75%, 60%)\"></span> Negative  <span style=\"display: inline-block; width: 10px; height: 10px;                 border: 1px solid; background-color:                 hsl(0, 75%, 100%)\"></span> Neutral  <span style=\"display: inline-block; width: 10px; height: 10px;                 border: 1px solid; background-color:                 hsl(120, 75%, 50%)\"></span> Positive  </div><tr><th>True Label</th><th>Predicted Label</th><th>Attribution Label</th><th>Attribution Score</th><th>Word Importance</th><tr><td><text style=\"padding-right:2em\"><b>Pos</b></text></td><td><text style=\"padding-right:2em\"><b>Pos (0.97)</b></text></td><td><text style=\"padding-right:2em\"><b>Neg</b></text></td><td><text style=\"padding-right:2em\"><b>0.22</b></text></td><td><mark style=\"background-color: hsl(120, 75%, 94%); opacity:1.0;                     line-height:1.75\"><font color=\"black\"> [CLS]                    </font></mark><mark style=\"background-color: hsl(120, 75%, 79%); opacity:1.0;                     line-height:1.75\"><font color=\"black\"> quirky                    </font></mark><mark style=\"background-color: hsl(0, 75%, 69%); opacity:1.0;                     line-height:1.75\"><font color=\"black\"> comedy                    </font></mark><mark style=\"background-color: hsl(120, 75%, 99%); opacity:1.0;                     line-height:1.75\"><font color=\"black\"> [SEP]                    </font></mark></td><tr></table>"
      ],
      "text/plain": [
       "<IPython.core.display.HTML object>"
      ]
     },
     "metadata": {},
     "output_type": "display_data"
    },
    {
     "name": "stdout",
     "output_type": "stream",
     "text": [
      "<IPython.core.display.HTML object>\n",
      "Raw review: unrewarding \n",
      "GT target: 0\n",
      "word attr tensor([ 0.7279, -0.4698, -0.4798,  0.0086,  0.1388], device='cuda:0',\n",
      "       grad_fn=<DivBackward0>)\n",
      "conti attr [tensor(0.7279, device='cuda:0', grad_fn=<UnbindBackward0>), tensor(-0.2331, device='cuda:0', grad_fn=<DivBackward0>), tensor(0.1388, device='cuda:0', grad_fn=<UnbindBackward0>)]\n",
      "detokenized ['[CLS]', 'un', 'rew', 'arding', '[SEP]']\n",
      "len conti_raw 3\n",
      "conti_raw ['[CLS]', 'unrewarding', '[SEP]']\n"
     ]
    },
    {
     "data": {
      "text/html": [
       "<table width: 100%><div style=\"border-top: 1px solid; margin-top: 5px;             padding-top: 5px; display: inline-block\"><b>Legend: </b><span style=\"display: inline-block; width: 10px; height: 10px;                 border: 1px solid; background-color:                 hsl(0, 75%, 60%)\"></span> Negative  <span style=\"display: inline-block; width: 10px; height: 10px;                 border: 1px solid; background-color:                 hsl(0, 75%, 100%)\"></span> Neutral  <span style=\"display: inline-block; width: 10px; height: 10px;                 border: 1px solid; background-color:                 hsl(120, 75%, 50%)\"></span> Positive  </div><tr><th>True Label</th><th>Predicted Label</th><th>Attribution Label</th><th>Attribution Score</th><th>Word Importance</th><tr><td><text style=\"padding-right:2em\"><b>Neg</b></text></td><td><text style=\"padding-right:2em\"><b>Neg (0.14)</b></text></td><td><text style=\"padding-right:2em\"><b>Neg</b></text></td><td><text style=\"padding-right:2em\"><b>-0.07</b></text></td><td><mark style=\"background-color: hsl(120, 75%, 64%); opacity:1.0;                     line-height:1.75\"><font color=\"black\"> [CLS]                    </font></mark><mark style=\"background-color: hsl(0, 75%, 91%); opacity:1.0;                     line-height:1.75\"><font color=\"black\"> unrewarding                    </font></mark><mark style=\"background-color: hsl(120, 75%, 94%); opacity:1.0;                     line-height:1.75\"><font color=\"black\"> [SEP]                    </font></mark></td><tr></table>"
      ],
      "text/plain": [
       "<IPython.core.display.HTML object>"
      ]
     },
     "metadata": {},
     "output_type": "display_data"
    },
    {
     "name": "stdout",
     "output_type": "stream",
     "text": [
      "<IPython.core.display.HTML object>\n",
      "Raw review: old-hat \n",
      "GT target: 0\n",
      "word attr tensor([ 0.3855, -0.6916, -0.4898, -0.2551,  0.2609], device='cuda:0',\n",
      "       grad_fn=<DivBackward0>)\n",
      "conti attr [tensor(0.3855, device='cuda:0', grad_fn=<UnbindBackward0>), tensor(-0.4229, device='cuda:0', grad_fn=<DivBackward0>), tensor(0.2609, device='cuda:0', grad_fn=<UnbindBackward0>)]\n",
      "detokenized ['[CLS]', 'old', '-', 'hat', '[SEP]']\n",
      "len conti_raw 3\n",
      "conti_raw ['[CLS]', 'old-hat', '[SEP]']\n"
     ]
    },
    {
     "data": {
      "text/html": [
       "<table width: 100%><div style=\"border-top: 1px solid; margin-top: 5px;             padding-top: 5px; display: inline-block\"><b>Legend: </b><span style=\"display: inline-block; width: 10px; height: 10px;                 border: 1px solid; background-color:                 hsl(0, 75%, 60%)\"></span> Negative  <span style=\"display: inline-block; width: 10px; height: 10px;                 border: 1px solid; background-color:                 hsl(0, 75%, 100%)\"></span> Neutral  <span style=\"display: inline-block; width: 10px; height: 10px;                 border: 1px solid; background-color:                 hsl(120, 75%, 50%)\"></span> Positive  </div><tr><th>True Label</th><th>Predicted Label</th><th>Attribution Label</th><th>Attribution Score</th><th>Word Importance</th><tr><td><text style=\"padding-right:2em\"><b>Neg</b></text></td><td><text style=\"padding-right:2em\"><b>Neg (0.05)</b></text></td><td><text style=\"padding-right:2em\"><b>Neg</b></text></td><td><text style=\"padding-right:2em\"><b>-0.79</b></text></td><td><mark style=\"background-color: hsl(120, 75%, 81%); opacity:1.0;                     line-height:1.75\"><font color=\"black\"> [CLS]                    </font></mark><mark style=\"background-color: hsl(0, 75%, 84%); opacity:1.0;                     line-height:1.75\"><font color=\"black\"> old-hat                    </font></mark><mark style=\"background-color: hsl(120, 75%, 87%); opacity:1.0;                     line-height:1.75\"><font color=\"black\"> [SEP]                    </font></mark></td><tr></table>"
      ],
      "text/plain": [
       "<IPython.core.display.HTML object>"
      ]
     },
     "metadata": {},
     "output_type": "display_data"
    },
    {
     "name": "stdout",
     "output_type": "stream",
     "text": [
      "<IPython.core.display.HTML object>\n"
     ]
    }
   ],
   "source": [
    "for i, (datum_raw, target) in enumerate(zip(sst2_data_raw, targets), start=1):\n",
    "    print(f'Raw review: {datum_raw}')\n",
    "    print(f'GT target: {target}')\n",
    "    visual_record=generate_record(datum_raw, target)\n",
    "    print(visualization.visualize_text([visual_record]))\n"
   ]
  },
  {
   "cell_type": "code",
   "execution_count": 9,
   "id": "c5ca5004",
   "metadata": {},
   "outputs": [],
   "source": [
    "file_name_base = 'Input_X_Gradients'"
   ]
  },
  {
   "cell_type": "code",
   "execution_count": 10,
   "id": "ce01966e",
   "metadata": {
    "scrolled": true
   },
   "outputs": [
    {
     "data": {
      "text/plain": [
       "{'indices': [27798,\n",
       "  28244,\n",
       "  48083,\n",
       "  8795,\n",
       "  91,\n",
       "  20682,\n",
       "  59890,\n",
       "  41763,\n",
       "  19795,\n",
       "  9957,\n",
       "  28334,\n",
       "  55664,\n",
       "  16438,\n",
       "  18031,\n",
       "  9297,\n",
       "  66913,\n",
       "  9289,\n",
       "  6789,\n",
       "  25294,\n",
       "  33294,\n",
       "  29699,\n",
       "  41960,\n",
       "  6554,\n",
       "  8772,\n",
       "  17921,\n",
       "  8027,\n",
       "  49091,\n",
       "  54186,\n",
       "  15080,\n",
       "  22382,\n",
       "  23856,\n",
       "  9464,\n",
       "  23831,\n",
       "  59434,\n",
       "  17862,\n",
       "  24584,\n",
       "  26216,\n",
       "  63094,\n",
       "  55787,\n",
       "  3993,\n",
       "  25463,\n",
       "  17540,\n",
       "  51128,\n",
       "  46224,\n",
       "  32656,\n",
       "  30105,\n",
       "  28646,\n",
       "  17011,\n",
       "  7812,\n",
       "  48236],\n",
       " 'raw_data': ['its oscar nomination ',\n",
       "  'shenanigans and slapstick ',\n",
       "  'an unsettling sight , ',\n",
       "  'the climactic hourlong cricket match ',\n",
       "  'alternating between facetious comic parody and pulp melodrama , this smart-aleck movie ... tosses around some intriguing questions about the difference between human and android life ',\n",
       "  'to be a part of that elusive adult world ',\n",
       "  'emotional power ',\n",
       "  'reminds you of why animation is such a perfect medium for children , because of the way it allows the mind to enter and accept another world ',\n",
       "  'unparalleled proportions , writer-director parker ',\n",
       "  'this surprisingly decent flick ',\n",
       "  \"about the best thing you could say about narc is that it 's a rock-solid little genre picture . \",\n",
       "  'the very best ',\n",
       "  'been modeled on the worst revenge-of-the-nerds clichés the filmmakers could dredge up ',\n",
       "  'tell you ',\n",
       "  'utterly absorbing ',\n",
       "  'restate ',\n",
       "  'bears about as much resemblance to the experiences of most battered women as spider-man ',\n",
       "  'expressively performed ',\n",
       "  'the acting is amateurish , the cinematography is atrocious ',\n",
       "  'solidly constructed ',\n",
       "  \"are undermined by the movie 's presentation , which is way too stagy \",\n",
       "  'a great film ',\n",
       "  'charm ',\n",
       "  'this new jangle of noise , mayhem and stupidity ',\n",
       "  'sustains it ',\n",
       "  'is so deadly dull that watching the proverbial paint dry would be a welcome improvement . ',\n",
       "  'to accomplish ',\n",
       "  \"does n't work . \",\n",
       "  'given it a one-star rating ',\n",
       "  \"ice cube is n't quite out of ripe screwball ideas , but friday after next spreads them pretty thin \",\n",
       "  'been trying to forget ',\n",
       "  'big stars and ',\n",
       "  'of cheesy dialogue ',\n",
       "  \"the château is never quite able to overcome the cultural moat surrounding its ludicrous and contrived plot . ' \",\n",
       "  'principled ',\n",
       "  'end it all by stuffing himself into an electric pencil sharpener ',\n",
       "  'funniest idea ',\n",
       "  'silly and tedious ',\n",
       "  'two surefire , beloved genres ',\n",
       "  'most charmless ',\n",
       "  'offers us the sense that on some elemental level , lilia deeply wants to break free of her old life . ',\n",
       "  'might be best forgotten ',\n",
       "  \"a substantial arc of change that does n't produce any real transformation \",\n",
       "  'unadorned ',\n",
       "  \"this is the kind of movie that you only need to watch for about thirty seconds before you say to yourself , ` ah , yes , here we have a bad , bad , bad movie . ' \",\n",
       "  'feel sanitised and stagey ',\n",
       "  'replete with stereotypical familial quandaries ',\n",
       "  'quirky comedy ',\n",
       "  'unrewarding ',\n",
       "  'old-hat '],\n",
       " 'targets': [1,\n",
       "  1,\n",
       "  0,\n",
       "  1,\n",
       "  1,\n",
       "  1,\n",
       "  1,\n",
       "  1,\n",
       "  1,\n",
       "  1,\n",
       "  1,\n",
       "  1,\n",
       "  0,\n",
       "  1,\n",
       "  1,\n",
       "  0,\n",
       "  0,\n",
       "  1,\n",
       "  0,\n",
       "  1,\n",
       "  0,\n",
       "  1,\n",
       "  1,\n",
       "  0,\n",
       "  1,\n",
       "  0,\n",
       "  1,\n",
       "  0,\n",
       "  0,\n",
       "  0,\n",
       "  0,\n",
       "  1,\n",
       "  0,\n",
       "  0,\n",
       "  1,\n",
       "  0,\n",
       "  1,\n",
       "  0,\n",
       "  1,\n",
       "  0,\n",
       "  1,\n",
       "  0,\n",
       "  0,\n",
       "  0,\n",
       "  0,\n",
       "  0,\n",
       "  0,\n",
       "  1,\n",
       "  0,\n",
       "  0],\n",
       " 'model_out_list': [0.9578894972801208,\n",
       "  0.02607199177145958,\n",
       "  0.9280797243118286,\n",
       "  0.6026754379272461,\n",
       "  0.9272036552429199,\n",
       "  0.9597240090370178,\n",
       "  0.9770727157592773,\n",
       "  0.9707044959068298,\n",
       "  0.8834286332130432,\n",
       "  0.9658218622207642,\n",
       "  0.9529748558998108,\n",
       "  0.9749705791473389,\n",
       "  0.030051304027438164,\n",
       "  0.8954260945320129,\n",
       "  0.974568247795105,\n",
       "  0.5530857443809509,\n",
       "  0.7086556553840637,\n",
       "  0.9764208197593689,\n",
       "  0.031884290277957916,\n",
       "  0.9670499563217163,\n",
       "  0.04456028714776039,\n",
       "  0.9733861684799194,\n",
       "  0.9737695455551147,\n",
       "  0.09326992928981781,\n",
       "  0.9708950519561768,\n",
       "  0.41628754138946533,\n",
       "  0.9736232161521912,\n",
       "  0.04155701398849487,\n",
       "  0.7330113053321838,\n",
       "  0.04169812798500061,\n",
       "  0.06650674343109131,\n",
       "  0.9741768836975098,\n",
       "  0.02389264479279518,\n",
       "  0.060439176857471466,\n",
       "  0.9714932441711426,\n",
       "  0.06462432444095612,\n",
       "  0.9628397226333618,\n",
       "  0.035474635660648346,\n",
       "  0.9750030040740967,\n",
       "  0.9686804413795471,\n",
       "  0.9634529948234558,\n",
       "  0.06778600811958313,\n",
       "  0.0436873659491539,\n",
       "  0.058859918266534805,\n",
       "  0.06825332343578339,\n",
       "  0.026674073189496994,\n",
       "  0.07909509539604187,\n",
       "  0.9688959121704102,\n",
       "  0.136697456240654,\n",
       "  0.05097651481628418],\n",
       " 'raw_attr_list': [tensor([[[ 4.5528e-05,  1.7868e-04,  7.2057e-05,  ...,  5.0879e-06,\n",
       "             4.1738e-06,  3.4029e-05],\n",
       "           [-2.5335e-05,  2.9735e-05, -6.5786e-05,  ...,  4.4994e-05,\n",
       "            -1.2108e-04, -5.2234e-06],\n",
       "           [-3.6915e-05,  3.7305e-06, -4.6182e-06,  ...,  8.7887e-05,\n",
       "             7.4708e-06, -4.2599e-04],\n",
       "           [-8.9634e-05, -1.1140e-04, -1.5005e-04,  ...,  3.6112e-06,\n",
       "             2.3331e-04,  2.7658e-05],\n",
       "           [ 7.9427e-06,  2.8285e-05,  1.1592e-05,  ...,  6.2582e-06,\n",
       "            -1.7494e-05, -7.2117e-06]]], device='cuda:0', grad_fn=<MulBackward0>),\n",
       "  tensor([[[ 9.2119e-06, -1.0544e-06,  1.2522e-05,  ..., -7.6514e-07,\n",
       "             2.9291e-06, -2.1213e-06],\n",
       "           [-1.0203e-04, -9.1464e-06,  3.4965e-05,  ...,  3.1462e-05,\n",
       "            -3.4465e-07, -4.2478e-06],\n",
       "           [-3.4867e-06,  1.3736e-05,  5.1901e-07,  ...,  5.2081e-06,\n",
       "             4.1031e-05, -5.2680e-06],\n",
       "           ...,\n",
       "           [ 6.9353e-06, -4.4311e-05,  3.1500e-07,  ...,  1.7207e-05,\n",
       "            -2.8965e-05,  1.4982e-05],\n",
       "           [-3.8373e-06, -2.3469e-04, -2.1600e-05,  ...,  3.1508e-05,\n",
       "            -2.8846e-05,  2.7174e-05],\n",
       "           [ 2.6488e-06, -2.9970e-06,  1.1477e-06,  ...,  1.4280e-05,\n",
       "             1.6034e-05,  3.3521e-06]]], device='cuda:0', grad_fn=<MulBackward0>),\n",
       "  tensor([[[-6.2290e-04, -9.6707e-04,  1.6102e-03,  ...,  1.3645e-05,\n",
       "             8.2056e-05, -9.8273e-04],\n",
       "           [-1.1715e-04,  4.2332e-04,  1.1594e-03,  ...,  1.1830e-04,\n",
       "            -2.8898e-05, -9.2975e-05],\n",
       "           [-4.6762e-03,  1.6468e-04, -8.9573e-04,  ...,  3.4090e-04,\n",
       "             4.8570e-04, -2.6383e-03],\n",
       "           ...,\n",
       "           [ 2.7414e-04,  4.1214e-03,  3.8617e-04,  ...,  1.3243e-03,\n",
       "             1.8516e-03,  1.5016e-03],\n",
       "           [-7.2778e-04, -1.5054e-04,  6.0587e-04,  ..., -1.5251e-04,\n",
       "            -1.8306e-04, -2.4974e-04],\n",
       "           [-5.6433e-04,  2.7586e-04,  2.3865e-05,  ...,  1.1012e-04,\n",
       "             3.6997e-04,  1.4881e-04]]], device='cuda:0', grad_fn=<MulBackward0>),\n",
       "  tensor([[[-2.7138e-03, -3.5079e-03,  3.6222e-03,  ...,  6.2444e-04,\n",
       "            -5.0186e-04, -3.8342e-04],\n",
       "           [ 9.6443e-04,  2.4071e-03,  1.0782e-04,  ...,  1.3628e-04,\n",
       "             1.9321e-03,  2.7496e-03],\n",
       "           [-2.2309e-03, -1.0425e-03,  2.6393e-04,  ...,  1.9590e-03,\n",
       "             3.3434e-03, -5.6841e-04],\n",
       "           ...,\n",
       "           [-3.8513e-03, -4.2648e-04,  6.8059e-03,  ...,  2.4689e-04,\n",
       "            -8.1087e-04,  5.5966e-04],\n",
       "           [-4.1922e-03, -9.1538e-04, -1.0831e-03,  ..., -8.3626e-04,\n",
       "             5.4287e-05, -3.1036e-03],\n",
       "           [ 5.1521e-05,  5.5535e-05,  5.1326e-04,  ..., -1.3834e-04,\n",
       "             3.5354e-04, -2.5409e-04]]], device='cuda:0', grad_fn=<MulBackward0>),\n",
       "  tensor([[[-6.4557e-05, -3.3213e-04,  3.8650e-04,  ...,  4.6232e-06,\n",
       "             2.6466e-05, -1.0008e-04],\n",
       "           [ 8.3726e-05, -1.0060e-05,  1.8297e-05,  ...,  1.9642e-04,\n",
       "             1.5265e-06,  2.6452e-04],\n",
       "           [-1.3612e-05,  9.7928e-05,  1.1479e-04,  ..., -2.9547e-05,\n",
       "             3.6784e-05,  7.6859e-05],\n",
       "           ...,\n",
       "           [-1.7531e-04,  1.6441e-04,  2.7618e-05,  ...,  4.8462e-05,\n",
       "             2.0003e-05,  1.3673e-05],\n",
       "           [-6.8828e-05,  7.2178e-05, -1.7992e-05,  ..., -1.6815e-05,\n",
       "            -5.8765e-06, -2.7777e-06],\n",
       "           [-2.3685e-05, -4.5314e-06, -3.6668e-06,  ..., -7.6949e-05,\n",
       "            -1.8480e-05, -3.7454e-06]]], device='cuda:0', grad_fn=<MulBackward0>),\n",
       "  tensor([[[-3.4816e-06, -3.1902e-05, -8.3337e-05,  ...,  2.6717e-06,\n",
       "             5.2561e-06, -3.8191e-05],\n",
       "           [-2.2745e-05,  5.0661e-05, -2.6701e-06,  ..., -6.8613e-06,\n",
       "             1.7179e-05,  4.3169e-05],\n",
       "           [-4.9730e-06,  2.4399e-05,  3.4002e-06,  ..., -8.6714e-05,\n",
       "            -2.1143e-06,  2.8311e-05],\n",
       "           ...,\n",
       "           [-1.0327e-04,  4.6702e-05, -5.7486e-05,  ..., -2.6779e-04,\n",
       "            -4.5079e-04, -2.1844e-04],\n",
       "           [ 2.7358e-05, -8.5332e-05,  4.3667e-07,  ...,  3.6572e-05,\n",
       "            -2.8750e-06, -3.1566e-05],\n",
       "           [ 1.1305e-06, -1.0268e-06,  1.3851e-07,  ...,  2.2923e-05,\n",
       "             3.9369e-06,  4.9591e-06]]], device='cuda:0', grad_fn=<MulBackward0>),\n",
       "  tensor([[[-6.6975e-07,  1.4833e-05,  2.5741e-05,  ..., -1.8275e-07,\n",
       "             2.7624e-06, -3.5840e-06],\n",
       "           [ 1.2509e-06,  6.2596e-05, -3.7261e-06,  ..., -5.2901e-06,\n",
       "            -7.9103e-05, -1.3742e-05],\n",
       "           [-3.6250e-05, -2.9406e-07, -6.6555e-06,  ..., -3.8370e-05,\n",
       "            -5.9843e-05, -2.0457e-06],\n",
       "           [-2.5165e-07,  9.3480e-06,  2.6308e-08,  ...,  3.8224e-06,\n",
       "             2.4803e-07, -7.3341e-07]]], device='cuda:0', grad_fn=<MulBackward0>),\n",
       "  tensor([[[-4.7770e-06,  6.7388e-06,  1.0968e-05,  ..., -2.2684e-07,\n",
       "            -1.2341e-06,  6.8448e-06],\n",
       "           [-1.4957e-05,  9.7359e-05, -2.8807e-06,  ...,  6.7943e-06,\n",
       "            -6.8754e-05,  3.8484e-05],\n",
       "           [ 3.5996e-05,  1.5412e-05,  1.2865e-05,  ...,  1.0634e-05,\n",
       "             5.3144e-06, -7.8122e-06],\n",
       "           ...,\n",
       "           [ 1.2702e-08,  7.9206e-06, -2.2147e-06,  ...,  2.5217e-07,\n",
       "            -4.3061e-06, -4.4822e-07],\n",
       "           [-1.4417e-06, -4.5674e-06, -4.8264e-06,  ...,  1.0413e-05,\n",
       "            -5.4414e-06, -9.1785e-06],\n",
       "           [ 8.1296e-06,  1.6983e-06, -2.8472e-06,  ...,  1.8070e-05,\n",
       "            -6.6328e-07, -2.8800e-07]]], device='cuda:0', grad_fn=<MulBackward0>),\n",
       "  tensor([[[-1.1843e-03,  5.0226e-04,  3.7941e-03,  ...,  3.0934e-04,\n",
       "            -7.2604e-05,  7.3809e-04],\n",
       "           [-4.0621e-03, -4.6607e-04,  2.9970e-04,  ..., -8.9546e-04,\n",
       "             4.8673e-04, -8.6226e-04],\n",
       "           [ 2.1009e-04, -1.0985e-02,  1.4714e-03,  ..., -2.1222e-03,\n",
       "             1.8219e-03, -6.5997e-04],\n",
       "           ...,\n",
       "           [ 3.3384e-03,  1.1670e-03,  1.5881e-03,  ...,  1.8603e-03,\n",
       "            -1.3260e-03, -2.4473e-04],\n",
       "           [ 1.2778e-03, -1.4632e-04, -6.3497e-03,  ...,  9.3001e-04,\n",
       "             1.6815e-03,  9.6253e-04],\n",
       "           [ 6.1142e-05, -2.0280e-04,  9.1101e-05,  ...,  5.8323e-04,\n",
       "             1.4578e-03,  1.8692e-05]]], device='cuda:0', grad_fn=<MulBackward0>),\n",
       "  tensor([[[-2.4439e-05, -4.1098e-05, -5.6205e-06,  ...,  6.0894e-07,\n",
       "            -4.6328e-07, -3.2455e-05],\n",
       "           [ 3.5745e-05,  2.9375e-05, -3.8707e-06,  ..., -7.2065e-06,\n",
       "            -2.8449e-06, -2.0994e-05],\n",
       "           [-2.0941e-05, -1.9913e-05,  9.5823e-05,  ...,  1.6302e-05,\n",
       "             7.4455e-08, -8.4903e-06],\n",
       "           [-6.4596e-05, -6.0725e-05,  5.2474e-05,  ...,  6.3815e-06,\n",
       "             1.7049e-06,  5.4675e-05],\n",
       "           [-6.2765e-06,  5.2537e-06, -1.2507e-06,  ...,  2.7306e-05,\n",
       "             2.8461e-05,  9.6677e-05],\n",
       "           [-3.7342e-05, -9.2059e-08, -4.5553e-06,  ..., -2.2033e-05,\n",
       "            -2.3250e-05,  4.0012e-06]]], device='cuda:0', grad_fn=<MulBackward0>),\n",
       "  tensor([[[-4.5663e-05,  6.5663e-06,  5.8200e-05,  ...,  8.0140e-06,\n",
       "            -1.7202e-05, -3.9786e-05],\n",
       "           [-1.5177e-07,  3.0891e-06, -5.9350e-07,  ...,  4.5080e-05,\n",
       "             7.2762e-06, -1.8847e-05],\n",
       "           [ 1.0737e-04,  4.2093e-05,  5.8576e-06,  ..., -9.8689e-07,\n",
       "            -4.8211e-06, -2.5159e-05],\n",
       "           ...,\n",
       "           [-1.2383e-04,  7.8722e-05,  1.6701e-04,  ...,  8.3575e-06,\n",
       "            -4.7537e-04, -7.2146e-05],\n",
       "           [ 1.9251e-05,  9.4044e-05,  2.9381e-05,  ..., -4.3768e-05,\n",
       "             4.6094e-05,  2.0183e-05],\n",
       "           [ 5.0579e-06,  3.7046e-06,  2.1255e-05,  ...,  5.6012e-07,\n",
       "            -1.6793e-05, -1.4608e-05]]], device='cuda:0', grad_fn=<MulBackward0>),\n",
       "  tensor([[[-1.1806e-06, -8.4792e-06, -3.1770e-05,  ...,  1.5009e-07,\n",
       "            -2.5643e-06, -5.5623e-06],\n",
       "           [ 3.5935e-07,  1.0102e-05, -8.4271e-07,  ..., -4.8919e-07,\n",
       "             1.7445e-05,  2.9581e-05],\n",
       "           [-3.2649e-05,  4.2346e-05,  2.1265e-06,  ..., -4.1389e-05,\n",
       "             3.1312e-06, -2.0216e-05],\n",
       "           [ 3.7030e-06, -1.1013e-06, -3.4051e-05,  ..., -1.0191e-05,\n",
       "             9.7824e-06,  1.8168e-05],\n",
       "           [-3.5655e-06, -4.0575e-06,  1.7546e-06,  ...,  6.3121e-07,\n",
       "            -3.1411e-06,  2.5119e-07]]], device='cuda:0', grad_fn=<MulBackward0>),\n",
       "  tensor([[[ 1.2943e-05,  1.5134e-05, -2.7777e-05,  ..., -1.0238e-06,\n",
       "            -1.8569e-06, -1.5543e-05],\n",
       "           [-4.5489e-06,  3.4107e-05, -3.4531e-06,  ..., -5.0299e-06,\n",
       "             2.3643e-05,  2.2034e-05],\n",
       "           [ 2.8142e-06,  8.1241e-06, -2.6846e-05,  ..., -4.7975e-06,\n",
       "             2.1368e-05,  1.6574e-06],\n",
       "           ...,\n",
       "           [ 5.3967e-06,  4.9933e-06, -7.9353e-06,  ..., -1.4434e-05,\n",
       "            -6.5824e-06,  3.4819e-06],\n",
       "           [ 2.7154e-06, -6.0041e-06, -2.4435e-06,  ..., -1.1358e-06,\n",
       "            -1.1260e-05,  6.7002e-07],\n",
       "           [-6.2176e-06, -8.5021e-06, -4.2513e-09,  ..., -5.1750e-06,\n",
       "            -2.1246e-06,  1.7179e-07]]], device='cuda:0', grad_fn=<MulBackward0>),\n",
       "  tensor([[[ 8.7623e-05,  1.1857e-04,  5.9825e-04,  ...,  2.0484e-05,\n",
       "             6.0276e-05, -1.7922e-04],\n",
       "           [-3.6244e-06, -2.4880e-04,  9.7544e-04,  ...,  1.3789e-03,\n",
       "            -4.1566e-03, -2.3544e-03],\n",
       "           [ 2.0221e-04,  2.0433e-04, -7.5894e-04,  ...,  2.1575e-04,\n",
       "             5.1752e-04,  5.5239e-05],\n",
       "           [ 8.9785e-05,  1.2077e-04, -1.4653e-04,  ...,  9.8704e-05,\n",
       "             7.6329e-05,  5.2126e-05]]], device='cuda:0', grad_fn=<MulBackward0>),\n",
       "  tensor([[[-2.8943e-06,  1.2299e-06, -1.0406e-05,  ...,  1.9052e-06,\n",
       "             2.3383e-06, -5.1189e-06],\n",
       "           [ 5.2032e-06, -6.5300e-06, -4.0315e-05,  ..., -2.2505e-05,\n",
       "            -4.3988e-05,  1.8582e-05],\n",
       "           [-1.6882e-05, -3.9587e-06,  1.7571e-05,  ..., -2.8514e-05,\n",
       "             1.6034e-05, -1.2182e-05],\n",
       "           [ 2.1474e-06,  7.4577e-06,  1.5071e-06,  ...,  6.5245e-06,\n",
       "             3.1280e-06, -3.2142e-06]]], device='cuda:0', grad_fn=<MulBackward0>),\n",
       "  tensor([[[ 1.0379e-03, -4.6748e-03, -8.9398e-03,  ...,  7.0290e-04,\n",
       "            -6.1708e-04, -5.3265e-03],\n",
       "           [-2.4123e-03, -2.9260e-03,  1.2324e-02,  ..., -7.6300e-03,\n",
       "            -6.8469e-03, -6.3289e-05],\n",
       "           [ 4.8633e-03,  7.4614e-04, -4.0602e-02,  ..., -4.6208e-03,\n",
       "            -1.4919e-02,  2.1663e-02],\n",
       "           [-1.0174e-03, -1.8945e-04, -5.7600e-03,  ..., -3.1872e-03,\n",
       "            -8.1110e-04,  2.9916e-03]]], device='cuda:0', grad_fn=<MulBackward0>),\n",
       "  tensor([[[-9.1435e-05, -8.6919e-04,  7.0157e-04,  ...,  6.6595e-05,\n",
       "             1.1701e-04, -1.0059e-03],\n",
       "           [ 2.5527e-03,  5.9394e-04,  1.0691e-03,  ..., -2.0564e-03,\n",
       "            -2.1816e-03, -2.7999e-03],\n",
       "           [-1.1658e-03, -6.8818e-05,  3.1227e-04,  ..., -1.5548e-03,\n",
       "            -1.7358e-04, -4.8131e-04],\n",
       "           ...,\n",
       "           [ 2.3421e-05,  1.8305e-04, -4.4113e-04,  ...,  2.2647e-04,\n",
       "             2.6936e-04, -9.4584e-05],\n",
       "           [-1.0070e-04, -4.1464e-04,  2.7109e-05,  ...,  7.5709e-04,\n",
       "            -1.2032e-03,  1.0475e-03],\n",
       "           [ 8.2343e-05, -2.3425e-04, -1.0267e-04,  ...,  3.3810e-05,\n",
       "             1.5067e-04,  3.0931e-04]]], device='cuda:0', grad_fn=<MulBackward0>),\n",
       "  tensor([[[ 4.2406e-06,  2.2621e-05, -1.5869e-06,  ..., -3.1262e-06,\n",
       "             7.7343e-07, -1.5447e-05],\n",
       "           [ 1.9777e-05, -1.1041e-05, -1.4064e-07,  ..., -6.4540e-07,\n",
       "            -1.5472e-06,  1.2483e-04],\n",
       "           [ 5.0701e-06,  8.2930e-08,  1.1069e-05,  ..., -1.8352e-06,\n",
       "            -7.0496e-05, -1.1320e-05],\n",
       "           [ 9.6923e-07,  8.1154e-06, -8.9970e-06,  ..., -9.4392e-06,\n",
       "             5.4063e-06,  2.8858e-05],\n",
       "           [-3.0407e-06,  6.4325e-06,  6.5157e-07,  ...,  1.4936e-06,\n",
       "            -3.2511e-07,  9.4782e-07]]], device='cuda:0', grad_fn=<MulBackward0>),\n",
       "  tensor([[[ 2.5424e-05,  9.8927e-07,  4.6493e-05,  ...,  5.9984e-06,\n",
       "            -1.7587e-06,  2.0506e-05],\n",
       "           [-9.9847e-06,  1.2096e-06, -1.5011e-07,  ...,  7.9940e-07,\n",
       "            -7.9229e-06, -5.4823e-06],\n",
       "           [ 2.6927e-06, -2.0933e-06,  9.3482e-07,  ...,  4.3520e-05,\n",
       "             3.2611e-05, -3.0749e-06],\n",
       "           ...,\n",
       "           [ 5.5515e-06,  1.3194e-05,  2.8426e-05,  ...,  2.5692e-07,\n",
       "            -8.1444e-05,  4.4070e-05],\n",
       "           [ 4.6531e-05, -1.3146e-07,  3.1142e-05,  ..., -3.3834e-04,\n",
       "             2.8821e-05, -1.2566e-05],\n",
       "           [-1.6503e-05,  7.2004e-07, -1.0738e-05,  ...,  2.2778e-05,\n",
       "            -8.3174e-06,  1.7691e-06]]], device='cuda:0', grad_fn=<MulBackward0>),\n",
       "  tensor([[[ 1.3003e-05, -3.4840e-06,  2.1554e-05,  ...,  2.7915e-06,\n",
       "             1.4233e-05,  2.2595e-05],\n",
       "           [ 2.5814e-04, -3.4895e-06, -1.4852e-04,  ..., -2.1536e-06,\n",
       "             4.0179e-04, -2.9546e-06],\n",
       "           [-1.6582e-07, -2.2195e-05, -1.8122e-05,  ..., -7.5915e-07,\n",
       "             1.1293e-04,  2.8901e-05],\n",
       "           [-5.9614e-05, -5.0068e-04, -2.3245e-04,  ...,  8.5754e-05,\n",
       "             5.6625e-05,  6.9190e-05],\n",
       "           [-2.1531e-05,  1.7098e-05,  8.6693e-06,  ...,  9.1772e-06,\n",
       "             3.1575e-05, -6.0095e-06]]], device='cuda:0', grad_fn=<MulBackward0>),\n",
       "  tensor([[[ 1.1836e-05, -2.3209e-05, -3.1712e-07,  ..., -4.6406e-06,\n",
       "             3.6389e-07,  1.1351e-05],\n",
       "           [-7.8066e-06, -3.6419e-06, -3.4418e-05,  ..., -4.8732e-06,\n",
       "            -6.2794e-06,  3.7726e-06],\n",
       "           [-7.3914e-05,  1.8009e-05, -6.5447e-05,  ..., -9.7095e-06,\n",
       "            -9.3875e-05,  5.2328e-05],\n",
       "           ...,\n",
       "           [-9.2898e-05, -1.9067e-06, -2.0547e-05,  ..., -5.3944e-06,\n",
       "             4.5192e-05, -3.3098e-06],\n",
       "           [ 1.3114e-05,  2.0216e-06,  2.0756e-06,  ..., -5.3977e-05,\n",
       "             5.8284e-07,  1.8857e-05],\n",
       "           [ 2.3633e-05,  1.0488e-06,  7.4227e-06,  ...,  3.9608e-06,\n",
       "            -4.6717e-06, -1.8165e-06]]], device='cuda:0', grad_fn=<MulBackward0>),\n",
       "  tensor([[[ 4.5990e-06,  1.0225e-05,  2.1031e-06,  ...,  5.8706e-07,\n",
       "             9.5583e-07, -3.6429e-06],\n",
       "           [-6.5987e-06, -1.7529e-06,  7.3496e-07,  ...,  1.5325e-06,\n",
       "            -2.3306e-06, -6.3653e-06],\n",
       "           [ 3.4367e-06, -1.8452e-06, -1.3927e-05,  ..., -9.1007e-06,\n",
       "             2.3928e-05,  4.2994e-07],\n",
       "           [-3.2601e-05,  3.7703e-06,  3.2282e-05,  ..., -1.5766e-05,\n",
       "             8.6266e-06,  1.6474e-05],\n",
       "           [ 7.4274e-06,  3.7540e-06, -4.1817e-07,  ..., -1.7549e-06,\n",
       "            -1.8136e-06, -5.1508e-08]]], device='cuda:0', grad_fn=<MulBackward0>),\n",
       "  tensor([[[-2.9200e-05, -3.1171e-05,  1.3739e-05,  ...,  4.2093e-06,\n",
       "            -8.7913e-06, -2.8514e-05],\n",
       "           [ 1.2738e-05,  2.7147e-05, -2.2429e-06,  ..., -2.7736e-05,\n",
       "             8.2676e-05, -1.5924e-04],\n",
       "           [ 2.6924e-05, -9.6804e-07, -3.0627e-07,  ..., -2.6370e-05,\n",
       "            -4.8527e-05, -1.3226e-05]]], device='cuda:0', grad_fn=<MulBackward0>),\n",
       "  tensor([[[-5.9432e-04, -6.7018e-05,  9.4269e-04,  ...,  2.9803e-06,\n",
       "             1.1572e-04, -1.1610e-05],\n",
       "           [ 6.3845e-05, -1.5802e-04,  6.9550e-05,  ..., -3.2513e-04,\n",
       "            -5.1666e-05, -1.3924e-04],\n",
       "           [ 2.0097e-04, -2.0710e-05, -6.0184e-04,  ...,  1.3954e-03,\n",
       "            -4.7985e-04,  3.2919e-04],\n",
       "           ...,\n",
       "           [ 1.6294e-04,  1.1874e-04,  2.2447e-04,  ...,  8.4560e-04,\n",
       "            -5.8056e-04,  4.4037e-04],\n",
       "           [ 8.4697e-04, -2.2847e-04, -8.3270e-05,  ..., -7.6540e-04,\n",
       "             1.4077e-03, -2.4357e-03],\n",
       "           [-4.2073e-04,  6.8385e-05,  7.4618e-05,  ..., -4.3104e-04,\n",
       "            -1.5255e-04,  2.3316e-06]]], device='cuda:0', grad_fn=<MulBackward0>),\n",
       "  tensor([[[-1.8261e-05, -1.5745e-05,  3.1469e-05,  ..., -8.2664e-07,\n",
       "             4.6046e-07, -1.5507e-05],\n",
       "           [-3.5608e-06, -1.3534e-04, -1.3722e-05,  ..., -7.9951e-05,\n",
       "            -2.2519e-04,  7.8651e-06],\n",
       "           [ 3.0546e-05,  4.1837e-06, -4.3858e-06,  ..., -1.3894e-06,\n",
       "             9.9586e-08, -5.6488e-06],\n",
       "           [ 2.3559e-05,  3.2658e-06, -4.2791e-06,  ..., -3.5776e-05,\n",
       "             3.5778e-05, -1.0870e-06],\n",
       "           [ 9.0354e-06,  3.7339e-06, -8.4466e-07,  ...,  7.0189e-06,\n",
       "            -2.5712e-06, -3.7693e-06]]], device='cuda:0', grad_fn=<MulBackward0>),\n",
       "  tensor([[[-2.1256e-03, -4.5874e-04,  2.5109e-03,  ...,  2.4725e-04,\n",
       "             1.3100e-04, -1.7620e-03],\n",
       "           [-2.2004e-04,  1.8046e-05,  8.6164e-04,  ..., -2.6298e-03,\n",
       "            -3.7478e-04, -5.5277e-04],\n",
       "           [ 1.9977e-03,  1.4204e-03,  2.1827e-04,  ...,  5.2927e-04,\n",
       "             1.3335e-03,  1.4949e-03],\n",
       "           ...,\n",
       "           [ 7.5747e-04,  1.0216e-02, -1.3589e-03,  ..., -1.8058e-03,\n",
       "            -8.4508e-03, -3.3951e-03],\n",
       "           [ 1.8165e-03,  2.4838e-03,  4.6505e-05,  ...,  6.2739e-04,\n",
       "             2.0356e-03,  2.2109e-03],\n",
       "           [ 8.9626e-04,  3.5870e-05,  5.7838e-04,  ..., -7.1989e-04,\n",
       "             1.9110e-05, -1.0278e-04]]], device='cuda:0', grad_fn=<MulBackward0>),\n",
       "  tensor([[[-2.0571e-05, -2.6833e-05,  1.7688e-05,  ...,  3.7190e-06,\n",
       "             8.7809e-07, -1.7870e-06],\n",
       "           [ 2.1639e-05,  2.5826e-05,  1.4985e-06,  ..., -4.5526e-05,\n",
       "             1.1720e-05, -5.7160e-06],\n",
       "           [ 6.0836e-05,  1.1566e-04,  2.9436e-06,  ..., -4.3360e-05,\n",
       "            -2.0227e-05,  7.4383e-05],\n",
       "           [-3.0682e-05,  4.1466e-06, -1.2565e-05,  ...,  3.5816e-06,\n",
       "             3.4802e-06, -5.2830e-06]]], device='cuda:0', grad_fn=<MulBackward0>),\n",
       "  tensor([[[ 2.2772e-05, -5.2816e-06,  5.7125e-05,  ..., -3.2302e-06,\n",
       "             3.2345e-06, -5.0330e-06],\n",
       "           [ 6.0529e-05, -3.8232e-05,  9.9955e-06,  ...,  5.9758e-06,\n",
       "            -4.0676e-05,  4.3531e-05],\n",
       "           [ 1.2755e-06,  4.9395e-05, -1.2895e-04,  ..., -4.2841e-06,\n",
       "             8.2494e-06, -6.5960e-05],\n",
       "           ...,\n",
       "           [-8.6556e-05,  1.1990e-05, -2.7840e-06,  ...,  3.0240e-05,\n",
       "             6.6806e-06,  1.8197e-05],\n",
       "           [-1.3626e-05, -3.8757e-06,  1.5376e-05,  ..., -8.7120e-07,\n",
       "            -3.9908e-05, -1.9435e-05],\n",
       "           [-1.1692e-05,  5.7777e-06, -7.1885e-06,  ..., -3.7721e-05,\n",
       "            -2.5837e-06, -3.8318e-06]]], device='cuda:0', grad_fn=<MulBackward0>),\n",
       "  tensor([[[ 8.0306e-04, -2.1255e-03,  3.6047e-03,  ..., -2.7896e-04,\n",
       "            -5.9563e-05, -1.7721e-04],\n",
       "           [-6.1843e-03,  1.0272e-04, -1.1437e-03,  ..., -9.0550e-03,\n",
       "            -5.8289e-04,  1.0072e-02],\n",
       "           [ 4.3839e-03, -9.0446e-05,  1.4143e-04,  ..., -1.1379e-03,\n",
       "             3.2321e-03,  3.2111e-04],\n",
       "           ...,\n",
       "           [ 5.0151e-03,  4.5829e-03,  7.1244e-03,  ..., -1.2043e-04,\n",
       "             9.4204e-03, -5.4068e-03],\n",
       "           [ 1.4444e-02, -1.6738e-02,  2.9304e-03,  ..., -9.5457e-06,\n",
       "            -6.7996e-03,  1.7686e-02],\n",
       "           [-1.0741e-03,  1.4101e-03, -1.4263e-04,  ..., -3.9760e-03,\n",
       "             1.2041e-03, -1.3424e-04]]], device='cuda:0', grad_fn=<MulBackward0>),\n",
       "  tensor([[[ 3.4170e-05,  9.5472e-05, -7.9500e-05,  ..., -1.6005e-06,\n",
       "            -4.9568e-06, -1.2914e-05],\n",
       "           [-9.5885e-07, -1.4665e-06, -1.9430e-05,  ..., -9.0023e-06,\n",
       "            -2.8354e-05,  6.1265e-05],\n",
       "           [-2.4150e-05, -6.2100e-05,  1.2712e-04,  ...,  1.6347e-05,\n",
       "             1.8968e-06,  1.3089e-05],\n",
       "           ...,\n",
       "           [-4.2777e-07, -5.5688e-06,  2.1140e-05,  ..., -1.3309e-05,\n",
       "            -5.3840e-05, -7.8708e-06],\n",
       "           [-1.4479e-05, -1.5268e-04, -1.0317e-05,  ...,  1.0369e-04,\n",
       "            -1.4633e-04,  3.4000e-05],\n",
       "           [ 6.6582e-06,  1.8390e-05,  3.7970e-07,  ...,  8.9269e-06,\n",
       "             9.6785e-06,  1.0217e-05]]], device='cuda:0', grad_fn=<MulBackward0>),\n",
       "  tensor([[[-5.1231e-05, -9.9649e-06, -3.8992e-05,  ..., -2.9077e-06,\n",
       "            -7.6489e-05,  1.6091e-04],\n",
       "           [ 2.5416e-04,  7.8922e-04,  5.3413e-05,  ..., -1.7934e-04,\n",
       "             6.0090e-04, -2.8204e-04],\n",
       "           [ 3.1913e-04,  2.9382e-04, -2.5789e-04,  ...,  9.9621e-05,\n",
       "             1.7095e-04,  5.9854e-04],\n",
       "           [-1.1335e-04, -6.4755e-05,  3.3120e-06,  ...,  3.8573e-05,\n",
       "            -5.2585e-05, -9.4301e-05],\n",
       "           [-4.0870e-04,  1.8029e-03,  1.0233e-04,  ..., -6.5031e-05,\n",
       "             6.2098e-04, -3.1521e-05],\n",
       "           [-1.1038e-04,  1.6153e-04, -8.4519e-05,  ..., -4.0412e-05,\n",
       "            -2.4055e-04,  1.1017e-05]]], device='cuda:0', grad_fn=<MulBackward0>),\n",
       "  tensor([[[-7.4432e-06, -7.8455e-06, -7.6932e-07,  ..., -1.1307e-06,\n",
       "             4.7009e-07, -8.0915e-06],\n",
       "           [-5.5400e-07,  3.4335e-05, -1.3834e-05,  ...,  2.9367e-07,\n",
       "            -1.0810e-04,  4.6901e-06],\n",
       "           [-5.6399e-06,  7.7074e-06, -1.0949e-04,  ...,  1.6204e-06,\n",
       "            -2.9452e-06,  7.2150e-07],\n",
       "           [ 1.0997e-06,  1.0337e-06, -1.4862e-05,  ...,  3.9897e-06,\n",
       "             1.9597e-05,  1.5268e-05],\n",
       "           [ 7.5333e-06, -6.6334e-07,  2.0532e-06,  ..., -3.0152e-06,\n",
       "             3.9268e-06, -6.6717e-07]]], device='cuda:0', grad_fn=<MulBackward0>),\n",
       "  tensor([[[ 2.7601e-05,  5.4929e-06, -2.4252e-05,  ..., -2.7634e-06,\n",
       "             5.8310e-07, -2.0370e-05],\n",
       "           [-1.0388e-05, -2.8531e-05, -1.1524e-06,  ...,  5.6069e-06,\n",
       "             3.0748e-05, -8.5304e-06],\n",
       "           [-4.8969e-05,  2.0103e-05, -1.3602e-05,  ..., -7.1713e-05,\n",
       "             3.3785e-06, -3.2415e-06],\n",
       "           ...,\n",
       "           [-3.8149e-05,  2.8576e-05, -3.8487e-05,  ...,  1.2241e-05,\n",
       "             1.5599e-05,  3.6707e-05],\n",
       "           [-1.1136e-04, -4.4063e-05,  1.6994e-05,  ..., -5.5617e-05,\n",
       "            -1.5765e-05,  1.0447e-06],\n",
       "           [-1.0733e-05,  3.0990e-05,  1.3424e-06,  ..., -1.3675e-05,\n",
       "             7.9439e-06,  1.5021e-06]]], device='cuda:0', grad_fn=<MulBackward0>),\n",
       "  tensor([[[-5.0932e-05,  2.3735e-04,  1.0253e-04,  ...,  3.7167e-06,\n",
       "             8.4862e-06, -2.1775e-05],\n",
       "           [ 1.4791e-04,  7.9285e-05,  6.6500e-06,  ..., -8.5358e-06,\n",
       "             4.2509e-05, -3.8912e-05],\n",
       "           [-7.6876e-06, -2.3183e-05,  4.4211e-05,  ...,  1.2544e-05,\n",
       "            -1.2477e-04,  4.0753e-04],\n",
       "           ...,\n",
       "           [ 3.0143e-05, -1.1868e-04,  4.4400e-05,  ..., -2.4459e-05,\n",
       "             1.8960e-05,  2.9790e-04],\n",
       "           [ 2.1512e-04, -2.1647e-04, -1.9964e-04,  ..., -2.7027e-04,\n",
       "             9.8625e-05,  1.1624e-03],\n",
       "           [ 1.2027e-04, -6.8007e-05, -3.3549e-05,  ...,  8.9351e-05,\n",
       "             6.3180e-05, -3.7675e-05]]], device='cuda:0', grad_fn=<MulBackward0>),\n",
       "  tensor([[[-2.3059e-06,  2.7991e-06, -5.6671e-05,  ...,  2.6393e-06,\n",
       "            -5.5743e-06,  5.3663e-06],\n",
       "           [-8.7948e-05, -2.1978e-05, -2.4967e-04,  ..., -1.5306e-06,\n",
       "            -2.8557e-05,  8.4513e-05],\n",
       "           [ 5.2462e-06, -4.3723e-06,  1.1273e-05,  ...,  2.3619e-05,\n",
       "             2.4021e-06,  4.4633e-06],\n",
       "           [-6.6639e-06, -5.4298e-06, -1.2204e-05,  ...,  1.2386e-06,\n",
       "            -4.2196e-06, -1.2705e-05]]], device='cuda:0', grad_fn=<MulBackward0>),\n",
       "  tensor([[[-2.4221e-04,  3.1198e-05, -1.5227e-04,  ...,  1.0230e-06,\n",
       "            -1.3442e-05, -1.1203e-04],\n",
       "           [-1.7860e-04, -2.9103e-04, -4.6339e-05,  ...,  2.4535e-05,\n",
       "            -3.3969e-05,  2.1278e-04],\n",
       "           [ 3.2959e-05,  9.6766e-06,  4.8912e-07,  ..., -1.7937e-04,\n",
       "            -3.0743e-05, -2.8723e-05],\n",
       "           ...,\n",
       "           [ 8.6117e-06, -1.4341e-05, -8.1493e-05,  ..., -4.6342e-05,\n",
       "            -4.3451e-06, -8.7476e-06],\n",
       "           [-9.2865e-05, -7.5799e-06,  6.7464e-05,  ..., -3.3241e-05,\n",
       "             9.6917e-06,  2.1320e-05],\n",
       "           [ 1.6996e-04, -2.5760e-06,  1.3304e-05,  ...,  9.1554e-06,\n",
       "             1.1807e-05,  3.8147e-07]]], device='cuda:0', grad_fn=<MulBackward0>),\n",
       "  tensor([[[-5.1438e-05, -5.0600e-05,  9.4919e-05,  ...,  7.1870e-06,\n",
       "            -8.8720e-06, -9.1183e-06],\n",
       "           [-1.6962e-04, -2.7740e-05,  6.2565e-06,  ...,  1.8372e-05,\n",
       "            -2.0037e-05,  8.6816e-06],\n",
       "           [-4.1648e-05,  3.6932e-05, -1.1928e-04,  ...,  1.0243e-04,\n",
       "            -7.6905e-05,  4.7857e-05],\n",
       "           [ 1.5864e-04, -4.4433e-06, -5.1122e-05,  ..., -5.0449e-05,\n",
       "             4.6491e-05, -1.4669e-05],\n",
       "           [-2.4869e-05, -5.1354e-05,  4.9901e-05,  ...,  2.0048e-06,\n",
       "             1.4721e-05,  8.2482e-05],\n",
       "           [ 8.3210e-05, -1.2396e-05,  1.1059e-05,  ...,  2.5008e-05,\n",
       "             5.2534e-05, -1.5865e-05]]], device='cuda:0', grad_fn=<MulBackward0>),\n",
       "  tensor([[[-2.4179e-04, -1.4150e-04,  1.1778e-05,  ...,  1.4522e-05,\n",
       "            -6.4392e-06,  9.2467e-05],\n",
       "           [ 6.8995e-05, -1.4997e-04,  2.6833e-04,  ..., -3.1413e-04,\n",
       "             1.2052e-04,  1.2799e-04],\n",
       "           [ 2.4605e-04,  1.6539e-05,  2.5443e-06,  ..., -6.2416e-06,\n",
       "            -1.1843e-04,  9.3132e-05],\n",
       "           [-4.3141e-04,  6.7551e-04, -2.0786e-05,  ..., -1.0044e-04,\n",
       "            -2.4132e-04,  5.1252e-04],\n",
       "           [-7.9226e-04, -4.0949e-04,  1.2873e-05,  ..., -6.3775e-05,\n",
       "            -3.5598e-04, -1.5137e-04],\n",
       "           [ 8.9609e-05, -4.9970e-05, -2.4745e-05,  ...,  6.3400e-05,\n",
       "            -3.2762e-05, -3.2148e-05]]], device='cuda:0', grad_fn=<MulBackward0>),\n",
       "  tensor([[[ 1.0404e-05,  1.8273e-05, -1.2888e-05,  ..., -6.3736e-07,\n",
       "             5.6460e-07, -1.8946e-06],\n",
       "           [-5.0572e-07,  3.6793e-06,  1.1104e-07,  ..., -2.1744e-06,\n",
       "             2.6047e-06,  3.5065e-05],\n",
       "           [-2.1316e-06,  3.8446e-06,  1.0390e-05,  ..., -1.8426e-06,\n",
       "             1.0138e-06, -8.3763e-08],\n",
       "           ...,\n",
       "           [ 3.0015e-05, -2.6490e-06,  3.8160e-06,  ..., -3.0769e-05,\n",
       "             7.6385e-05, -7.2911e-06],\n",
       "           [-2.8872e-05,  6.1580e-06, -4.8560e-07,  ..., -2.0612e-06,\n",
       "            -4.9739e-05,  2.9662e-05],\n",
       "           [ 2.1351e-06, -2.0225e-06, -1.8286e-06,  ...,  1.2343e-05,\n",
       "             2.6528e-06, -5.4732e-07]]], device='cuda:0', grad_fn=<MulBackward0>),\n",
       "  tensor([[[-4.3081e-05, -7.3367e-05,  3.5844e-06,  ...,  9.8761e-06,\n",
       "            -2.4780e-05, -4.3947e-05],\n",
       "           [-5.4250e-05, -2.3956e-04, -1.7614e-05,  ..., -2.0792e-04,\n",
       "             2.8651e-06,  1.0770e-05],\n",
       "           [ 5.7474e-06,  2.4671e-04, -1.0255e-04,  ..., -6.2818e-04,\n",
       "             1.3075e-03, -5.0813e-04],\n",
       "           [ 4.8318e-05, -2.8089e-05, -9.7974e-05,  ...,  1.7133e-05,\n",
       "            -4.3909e-04,  2.1030e-04],\n",
       "           [ 1.7274e-05, -2.0414e-05,  1.3524e-05,  ..., -6.4309e-06,\n",
       "             1.0331e-05, -7.1466e-06]]], device='cuda:0', grad_fn=<MulBackward0>),\n",
       "  tensor([[[-6.4100e-06, -1.4687e-05,  1.6569e-05,  ...,  4.8287e-07,\n",
       "            -8.2233e-07, -5.0431e-06],\n",
       "           [ 4.3660e-05,  2.9173e-06,  3.2399e-05,  ..., -7.8593e-06,\n",
       "            -1.2787e-04, -4.6018e-05],\n",
       "           [ 7.2430e-06, -2.6208e-06, -1.9234e-05,  ..., -1.4488e-04,\n",
       "            -6.0006e-05, -4.5737e-05],\n",
       "           ...,\n",
       "           [-2.3754e-05,  6.7874e-05, -5.7904e-06,  ...,  4.7077e-06,\n",
       "            -7.2021e-06,  1.2990e-05],\n",
       "           [ 7.7457e-06, -7.8071e-06,  1.6035e-06,  ...,  1.5910e-05,\n",
       "             1.7633e-06,  4.8826e-06],\n",
       "           [ 1.5089e-05, -1.4728e-06, -2.8616e-07,  ..., -5.1325e-06,\n",
       "            -1.5265e-06, -8.8243e-07]]], device='cuda:0', grad_fn=<MulBackward0>),\n",
       "  tensor([[[-4.0405e-04, -2.5737e-04, -2.2564e-04,  ..., -4.2312e-05,\n",
       "            -1.4568e-04, -2.0118e-06],\n",
       "           [-1.1658e-04, -2.4455e-04, -3.5859e-04,  ...,  1.0965e-05,\n",
       "            -5.1067e-05,  1.7353e-03],\n",
       "           [ 1.1772e-05, -7.4614e-05,  1.4583e-04,  ..., -5.9282e-04,\n",
       "             1.1546e-04,  7.6566e-05],\n",
       "           [-5.6708e-05,  2.5974e-04,  6.8480e-04,  ..., -7.3350e-05,\n",
       "            -4.6649e-04,  1.2259e-04],\n",
       "           [-2.7495e-05,  4.3424e-04, -1.3559e-04,  ...,  4.9603e-05,\n",
       "            -2.1369e-04,  1.1825e-04],\n",
       "           [ 5.9842e-05, -1.7499e-05,  8.7329e-05,  ..., -1.8697e-04,\n",
       "            -4.0745e-04, -7.0866e-06]]], device='cuda:0', grad_fn=<MulBackward0>),\n",
       "  tensor([[[ 4.0470e-05,  1.0888e-04, -4.6636e-05,  ...,  3.5926e-06,\n",
       "             8.1323e-06,  4.2345e-06],\n",
       "           [ 4.0090e-05,  2.0899e-05,  3.6053e-06,  ..., -1.5144e-05,\n",
       "             1.0153e-05, -9.0860e-06],\n",
       "           [-2.8734e-05,  3.8850e-05,  6.3457e-06,  ..., -1.0364e-05,\n",
       "            -2.2887e-05, -4.0596e-05],\n",
       "           ...,\n",
       "           [ 1.1805e-06,  6.3734e-06, -1.6737e-05,  ...,  3.0313e-05,\n",
       "             3.6379e-06, -1.2638e-05],\n",
       "           [-3.7755e-05, -8.4593e-05, -8.8361e-06,  ..., -2.1190e-05,\n",
       "            -3.5740e-05,  4.8105e-05],\n",
       "           [ 6.9885e-05,  9.0841e-05,  1.3593e-05,  ...,  7.8537e-06,\n",
       "            -1.3715e-05, -1.2171e-05]]], device='cuda:0', grad_fn=<MulBackward0>),\n",
       "  tensor([[[-6.0888e-04, -7.5755e-04,  5.5031e-04,  ...,  3.2403e-05,\n",
       "            -5.0295e-05,  2.2868e-04],\n",
       "           [-7.4826e-04, -7.0843e-04,  6.2243e-04,  ..., -1.3996e-04,\n",
       "            -2.9877e-04,  1.4333e-05],\n",
       "           [-7.9749e-04,  1.4677e-04, -1.7665e-04,  ..., -1.8721e-04,\n",
       "            -3.4514e-05, -2.5502e-03],\n",
       "           [ 5.9640e-04,  3.2729e-03, -2.3313e-04,  ..., -5.0972e-04,\n",
       "             7.0091e-04,  2.5094e-04],\n",
       "           [-6.5292e-04,  1.5112e-04, -6.4866e-05,  ...,  1.3474e-04,\n",
       "             3.3646e-05,  2.0768e-05]]], device='cuda:0', grad_fn=<MulBackward0>),\n",
       "  tensor([[[ 1.5775e-05, -8.5060e-07,  2.7332e-05,  ..., -6.1155e-06,\n",
       "            -6.1305e-06, -1.8506e-05],\n",
       "           [ 4.8713e-06,  5.6960e-06, -2.2698e-06,  ...,  4.2367e-06,\n",
       "             2.5065e-06, -1.7723e-06],\n",
       "           [-8.1399e-06,  7.3927e-07, -6.2369e-06,  ..., -3.0193e-06,\n",
       "             1.2773e-06,  1.9296e-05],\n",
       "           ...,\n",
       "           [ 7.7650e-06, -1.1659e-05, -2.2486e-06,  ...,  8.5044e-06,\n",
       "            -1.2263e-05, -8.4641e-07],\n",
       "           [-1.0041e-04,  2.1021e-05, -1.2503e-06,  ..., -2.8233e-05,\n",
       "            -1.5045e-05, -2.4959e-04],\n",
       "           [ 2.2449e-05,  1.1523e-05,  2.2511e-06,  ...,  4.3595e-05,\n",
       "             4.7137e-05, -7.2063e-07]]], device='cuda:0', grad_fn=<MulBackward0>),\n",
       "  tensor([[[ 1.5815e-05, -2.3491e-05,  4.6316e-05,  ...,  7.7828e-07,\n",
       "            -3.2160e-07,  9.4690e-06],\n",
       "           [ 1.3453e-06,  3.1635e-05,  4.8449e-06,  ...,  2.7331e-05,\n",
       "            -3.5726e-05, -1.2598e-05],\n",
       "           [-9.8613e-07,  6.9200e-07, -8.3341e-07,  ...,  1.0796e-05,\n",
       "            -1.5728e-05, -4.7740e-05],\n",
       "           ...,\n",
       "           [-3.4414e-05, -2.8156e-06, -1.0742e-04,  ..., -2.5576e-05,\n",
       "             1.6748e-06, -1.6574e-04],\n",
       "           [-5.7859e-06, -4.6070e-07, -5.2541e-05,  ...,  8.8520e-06,\n",
       "            -6.6095e-05,  8.4086e-05],\n",
       "           [ 1.1504e-06, -2.0708e-05,  2.4393e-06,  ...,  8.8830e-06,\n",
       "             8.9085e-06,  1.7979e-06]]], device='cuda:0', grad_fn=<MulBackward0>),\n",
       "  tensor([[[-3.6113e-04, -5.7213e-04,  1.1432e-03,  ...,  1.3904e-04,\n",
       "            -7.6052e-05,  1.0113e-04],\n",
       "           [ 5.0763e-05,  4.1603e-04,  3.5634e-04,  ...,  6.2527e-04,\n",
       "             8.3951e-04, -2.3891e-03],\n",
       "           [-1.4727e-03,  4.0906e-04,  1.1781e-05,  ...,  9.6723e-04,\n",
       "             1.9331e-04, -2.5655e-05],\n",
       "           ...,\n",
       "           [ 6.5605e-04, -6.6293e-04, -6.1023e-05,  ..., -2.1259e-04,\n",
       "            -1.7263e-03, -8.5260e-05],\n",
       "           [-6.3274e-04,  2.1620e-04,  7.2914e-04,  ..., -1.0014e-03,\n",
       "            -7.1703e-04,  7.9821e-04],\n",
       "           [-1.7052e-03, -3.5397e-05, -4.6841e-05,  ..., -6.6097e-04,\n",
       "            -4.6217e-04,  4.0366e-05]]], device='cuda:0', grad_fn=<MulBackward0>),\n",
       "  tensor([[[ 4.0940e-06,  2.0729e-05, -5.5242e-06,  ..., -9.8998e-07,\n",
       "            -7.2100e-07, -5.0538e-06],\n",
       "           [ 4.9871e-06,  3.1686e-05,  4.4112e-05,  ...,  3.0348e-06,\n",
       "            -1.6212e-05,  4.2934e-05],\n",
       "           [ 5.8537e-06, -1.1315e-05, -1.4666e-05,  ...,  1.5916e-05,\n",
       "            -6.7978e-06,  2.8470e-05],\n",
       "           [-5.4508e-05,  9.4218e-06,  6.0912e-05,  ...,  3.2643e-07,\n",
       "            -9.6580e-06,  1.2681e-05],\n",
       "           [ 2.1740e-06, -3.8447e-06, -8.2359e-07,  ...,  1.0103e-05,\n",
       "            -3.3026e-06, -5.2530e-07]]], device='cuda:0', grad_fn=<MulBackward0>),\n",
       "  tensor([[[ 1.8556e-04, -6.9281e-04,  8.8123e-04,  ..., -2.1392e-04,\n",
       "            -3.5891e-04, -1.4708e-03],\n",
       "           [-1.4992e-03, -1.7796e-04,  8.6148e-05,  ...,  1.0860e-03,\n",
       "            -5.3570e-04, -1.7684e-03],\n",
       "           [ 4.9134e-03,  8.1429e-03, -9.3557e-03,  ...,  6.3338e-03,\n",
       "             5.0668e-04,  6.7864e-03],\n",
       "           [-9.8564e-03,  1.0866e-02, -6.3239e-03,  ..., -6.5690e-03,\n",
       "             1.3268e-03,  1.3760e-03],\n",
       "           [-3.2200e-03,  1.0875e-03,  1.5072e-04,  ..., -6.4029e-06,\n",
       "            -5.2989e-04,  3.6201e-04]]], device='cuda:0', grad_fn=<MulBackward0>),\n",
       "  tensor([[[ 7.8599e-05, -2.2706e-05,  1.5603e-05,  ...,  1.6739e-05,\n",
       "             8.2705e-06,  5.0344e-05],\n",
       "           [ 3.5836e-05,  9.4117e-05,  8.5414e-05,  ..., -5.0477e-04,\n",
       "            -1.7084e-05,  2.4279e-04],\n",
       "           [ 2.9120e-06, -2.6582e-05, -9.2287e-05,  ..., -1.6964e-04,\n",
       "             7.3992e-05,  8.3772e-05],\n",
       "           [ 3.0821e-04,  7.5290e-04,  2.3798e-05,  ..., -2.2726e-07,\n",
       "            -2.0250e-04, -3.5408e-04],\n",
       "           [-2.4385e-04,  1.1147e-04,  2.6131e-05,  ...,  1.1612e-05,\n",
       "             1.2527e-05, -1.7640e-05]]], device='cuda:0', grad_fn=<MulBackward0>)],\n",
       " 'conti_attr_list': [tensor([-0.1280,  0.8599,  0.0020,  0.2199, -0.4425]),\n",
       "  tensor([-0.3855, -0.0547,  0.5361,  0.4271, -0.0611]),\n",
       "  tensor([ 0.1345, -0.2194,  0.0508,  0.4285, -0.0131, -0.1616]),\n",
       "  tensor([ 0.0333,  0.1176, -0.5228,  0.1778,  0.1797,  0.1555,  0.1022]),\n",
       "  tensor([ 6.0170e-02,  4.4408e-02, -1.0603e-01, -1.7029e-01,  4.2283e-01,\n",
       "          -1.4441e-01,  1.6921e-01, -1.3482e-04,  2.5568e-02,  6.1508e-02,\n",
       "           3.0981e-02,  1.6118e-03,  1.6168e-01, -3.2723e-02, -2.7506e-01,\n",
       "           2.9304e-01, -1.0138e-01,  2.5005e-01,  1.8151e-02,  3.0478e-02,\n",
       "           2.3629e-02, -7.7684e-02, -4.0281e-03, -1.0981e-01,  1.0164e-01,\n",
       "           4.3199e-02,  1.4029e-01,  1.0016e-01]),\n",
       "  tensor([-0.3041, -0.1138, -0.3070, -0.0043, -0.0181,  0.4660,  0.4712,  0.3860,\n",
       "           0.1301, -0.4238,  0.1234]),\n",
       "  tensor([ 0.0676,  0.5883, -0.7645,  0.2546]),\n",
       "  tensor([-0.0860, -0.2416,  0.3111, -0.1323, -0.2653, -0.2962,  0.1951, -0.1076,\n",
       "           0.0984, -0.2074, -0.0052,  0.1982,  0.2450,  0.5273, -0.1517,  0.1446,\n",
       "          -0.0185, -0.0184,  0.1705,  0.0174,  0.0208, -0.1882,  0.1315, -0.1476,\n",
       "           0.0736,  0.0078, -0.0467,  0.0846,  0.1359]),\n",
       "  tensor([-0.0812,  0.3876, -0.3306, -0.3510, -0.0677, -0.2286, -0.0285]),\n",
       "  tensor([-0.3227,  0.1405, -0.1082, -0.5092,  0.6779, -0.3816]),\n",
       "  tensor([-0.0735,  0.0076,  0.0023, -0.1994, -0.2235, -0.1387, -0.0027, -0.2147,\n",
       "           0.0199,  0.1928, -0.1588,  0.0501, -0.0973,  0.0055,  0.4334,  0.1711,\n",
       "          -0.0131,  0.1855, -0.4249, -0.0127, -0.0095]),\n",
       "  tensor([-0.2566,  0.9055, -0.2357, -0.2242, -0.0922]),\n",
       "  tensor([ 0.1257,  0.0214, -0.3005, -0.0575, -0.0142,  0.2293, -0.1183,  0.0467,\n",
       "          -0.2477, -0.0465,  0.3431,  0.0308, -0.1079, -0.1439]),\n",
       "  tensor([-0.2864,  0.8182,  0.2492, -0.4317]),\n",
       "  tensor([-0.0372, -0.2926,  0.4573, -0.8390]),\n",
       "  tensor([-0.6929,  0.0327,  0.7190]),\n",
       "  tensor([-0.0937, -0.3520, -0.0391,  0.1583, -0.3297, -0.0060,  0.1230, -0.2364,\n",
       "           0.7079,  0.0739, -0.1788,  0.0511,  0.2818, -0.0439, -0.0904, -0.0553]),\n",
       "  tensor([ 0.3049, -0.2801,  0.3087,  0.1485]),\n",
       "  tensor([-0.2099,  0.0587,  0.3264, -0.0168,  0.0746,  0.1420,  0.0701, -0.0436,\n",
       "          -0.1681, -0.1138, -0.2246]),\n",
       "  tensor([ 0.0858,  0.2892, -0.8401, -0.0206]),\n",
       "  tensor([ 0.0321,  0.1144, -0.1595,  0.1129, -0.0523,  0.5110,  0.0254,  0.0619,\n",
       "          -0.0430,  0.1437, -0.1046, -0.0371,  0.0089,  0.0781, -0.0504]),\n",
       "  tensor([-0.1021, -0.0564, -0.2521,  0.6676, -0.6908]),\n",
       "  tensor([-0.0441, -0.9748,  0.2185]),\n",
       "  tensor([ 0.2094, -0.0305,  0.0692,  0.0709,  0.2173, -0.4039, -0.0596,  0.4814,\n",
       "           0.0401, -0.4982, -0.3566]),\n",
       "  tensor([ 0.1802, -0.1849, -0.4305,  0.8027]),\n",
       "  tensor([-0.3521, -0.0694,  0.1465,  0.6815, -0.1752,  0.1748,  0.0719, -0.0242,\n",
       "           0.0157, -0.1154, -0.1254, -0.0639, -0.1892,  0.1850,  0.0712, -0.0792,\n",
       "           0.2037, -0.0370]),\n",
       "  tensor([-0.2823, -0.0730,  0.6320, -0.7180]),\n",
       "  tensor([ 0.0207, -0.2282, -0.0025, -0.2029, -0.1203,  0.1541]),\n",
       "  tensor([ 0.4739, -0.3319, -0.1223,  0.0551, -0.2227, -0.0577, -0.1739]),\n",
       "  tensor([ 0.1722,  0.0203, -0.1694, -0.1690, -0.0670,  0.0039, -0.0829,  0.0585,\n",
       "           0.1257,  0.0174, -0.3591, -0.2321,  0.0824,  0.1050, -0.1056,  0.0977,\n",
       "          -0.1998,  0.1788, -0.2180, -0.0382,  0.1081]),\n",
       "  tensor([ 0.1639, -0.4746, -0.0159,  0.4302,  0.4550, -0.5963]),\n",
       "  tensor([ 0.1182, -0.8016,  0.1670, -0.4934,  0.2686]),\n",
       "  tensor([-0.0248, -0.1604,  0.2126,  0.7878, -0.4115]),\n",
       "  tensor([-0.0677,  0.0938, -0.2889,  0.1519,  0.2797, -0.0191,  0.0908, -0.0799,\n",
       "          -0.0278,  0.0238, -0.0615, -0.0036, -0.0946, -0.0509, -0.0507,  0.0192,\n",
       "           0.0257, -0.1557, -0.1495,  0.5640, -0.5316]),\n",
       "  tensor([0.1431, 0.0809, 0.1257]),\n",
       "  tensor([ 0.5633, -0.1133, -0.3730, -0.0659, -0.4943,  0.0195,  0.1263, -0.1298,\n",
       "          -0.2530, -0.1548,  0.0218, -0.0138, -0.1853]),\n",
       "  tensor([-0.3632, -0.4795, -0.1096,  0.4868]),\n",
       "  tensor([-0.2666,  0.4621,  0.0466, -0.0885, -0.4049]),\n",
       "  tensor([-0.2413,  0.0650,  0.0862,  0.8537,  0.2256, -0.3417,  0.1617]),\n",
       "  tensor([-0.1907, -0.5888,  0.1112,  0.5882]),\n",
       "  tensor([ 0.0800,  0.2772, -0.2622,  0.2991,  0.1363,  0.2143, -0.1899, -0.2559,\n",
       "          -0.1818,  0.1370, -0.0597,  0.0989, -0.2767, -0.1877,  0.2230,  0.0459,\n",
       "          -0.0073,  0.0460, -0.1864, -0.0189,  0.4637, -0.2685, -0.0654]),\n",
       "  tensor([ 0.2013, -0.2020, -0.6444, -0.6291, -0.0306,  0.3268]),\n",
       "  tensor([-0.0759,  0.0928, -0.0268, -0.0827,  0.0117, -0.0501,  0.0817,  0.1021,\n",
       "          -0.0480,  0.0381,  0.1383,  0.1046,  0.0748, -0.0059]),\n",
       "  tensor([-0.2531,  0.1967, -0.0644]),\n",
       "  tensor([ 0.1342,  0.0199,  0.0057,  0.0777, -0.1481,  0.1467,  0.1508, -0.0572,\n",
       "          -0.1250,  0.0253,  0.0919, -0.0436, -0.1580,  0.0554,  0.0494, -0.0259,\n",
       "          -0.0377,  0.0067, -0.1761,  0.0581, -0.2294, -0.0380, -0.1477,  0.0992,\n",
       "          -0.0022, -0.1233, -0.1526,  0.0977,  0.0674, -0.0574, -0.3043,  0.0732,\n",
       "           0.1956, -0.0663,  0.4468, -0.3141,  0.2269, -0.3082, -0.1998, -0.0117,\n",
       "           0.2129]),\n",
       "  tensor([-0.1808,  0.0018,  0.1921, -0.4400, -0.2052,  0.0784]),\n",
       "  tensor([ 0.3345,  0.3745, -0.1974, -0.2024, -0.0382,  0.0785, -0.1223]),\n",
       "  tensor([ 0.1350,  0.4248, -0.7855,  0.0259]),\n",
       "  tensor([ 0.7279, -0.2331,  0.1388]),\n",
       "  tensor([ 0.3855, -0.4229,  0.2609])],\n",
       " 'raw_input_list': [['[CLS]', 'its', 'oscar', 'nomination', '[SEP]'],\n",
       "  ['[CLS]', 'shenanigans', 'and', 'slapstick', '[SEP]'],\n",
       "  ['[CLS]', 'an', 'unsettling', 'sight', ',', '[SEP]'],\n",
       "  ['[CLS]', 'the', 'climactic', 'hourlong', 'cricket', 'match', '[SEP]'],\n",
       "  ['[CLS]',\n",
       "   'alternating',\n",
       "   'between',\n",
       "   'facetious',\n",
       "   'comic',\n",
       "   'parody',\n",
       "   'and',\n",
       "   'pulp',\n",
       "   'melodrama',\n",
       "   ',',\n",
       "   'this',\n",
       "   'smart-aleck',\n",
       "   'movie',\n",
       "   '...',\n",
       "   'tosses',\n",
       "   'around',\n",
       "   'some',\n",
       "   'intriguing',\n",
       "   'questions',\n",
       "   'about',\n",
       "   'the',\n",
       "   'difference',\n",
       "   'between',\n",
       "   'human',\n",
       "   'and',\n",
       "   'android',\n",
       "   'life',\n",
       "   '[SEP]'],\n",
       "  ['[CLS]',\n",
       "   'to',\n",
       "   'be',\n",
       "   'a',\n",
       "   'part',\n",
       "   'of',\n",
       "   'that',\n",
       "   'elusive',\n",
       "   'adult',\n",
       "   'world',\n",
       "   '[SEP]'],\n",
       "  ['[CLS]', 'emotional', 'power', '[SEP]'],\n",
       "  ['[CLS]',\n",
       "   'reminds',\n",
       "   'you',\n",
       "   'of',\n",
       "   'why',\n",
       "   'animation',\n",
       "   'is',\n",
       "   'such',\n",
       "   'a',\n",
       "   'perfect',\n",
       "   'medium',\n",
       "   'for',\n",
       "   'children',\n",
       "   ',',\n",
       "   'because',\n",
       "   'of',\n",
       "   'the',\n",
       "   'way',\n",
       "   'it',\n",
       "   'allows',\n",
       "   'the',\n",
       "   'mind',\n",
       "   'to',\n",
       "   'enter',\n",
       "   'and',\n",
       "   'accept',\n",
       "   'another',\n",
       "   'world',\n",
       "   '[SEP]'],\n",
       "  ['[CLS]',\n",
       "   'unparalleled',\n",
       "   'proportions',\n",
       "   ',',\n",
       "   'writer-director',\n",
       "   'parker',\n",
       "   '[SEP]'],\n",
       "  ['[CLS]', 'this', 'surprisingly', 'decent', 'flick', '[SEP]'],\n",
       "  ['[CLS]',\n",
       "   'about',\n",
       "   'the',\n",
       "   'best',\n",
       "   'thing',\n",
       "   'you',\n",
       "   'could',\n",
       "   'say',\n",
       "   'about',\n",
       "   'narc',\n",
       "   'is',\n",
       "   'that',\n",
       "   'it',\n",
       "   \"'s\",\n",
       "   'a',\n",
       "   'rock-solid',\n",
       "   'little',\n",
       "   'genre',\n",
       "   'picture',\n",
       "   '.',\n",
       "   '[SEP]'],\n",
       "  ['[CLS]', 'the', 'very', 'best', '[SEP]'],\n",
       "  ['[CLS]',\n",
       "   'been',\n",
       "   'modeled',\n",
       "   'on',\n",
       "   'the',\n",
       "   'worst',\n",
       "   'revenge-of-the-nerds',\n",
       "   'cliches',\n",
       "   'the',\n",
       "   'filmmakers',\n",
       "   'could',\n",
       "   'dredge',\n",
       "   'up',\n",
       "   '[SEP]'],\n",
       "  ['[CLS]', 'tell', 'you', '[SEP]'],\n",
       "  ['[CLS]', 'utterly', 'absorbing', '[SEP]'],\n",
       "  ['[CLS]', 'restate', '[SEP]'],\n",
       "  ['[CLS]',\n",
       "   'bears',\n",
       "   'about',\n",
       "   'as',\n",
       "   'much',\n",
       "   'resemblance',\n",
       "   'to',\n",
       "   'the',\n",
       "   'experiences',\n",
       "   'of',\n",
       "   'most',\n",
       "   'battered',\n",
       "   'women',\n",
       "   'as',\n",
       "   'spider-man',\n",
       "   '[SEP]'],\n",
       "  ['[CLS]', 'expressively', 'performed', '[SEP]'],\n",
       "  ['[CLS]',\n",
       "   'the',\n",
       "   'acting',\n",
       "   'is',\n",
       "   'amateurish',\n",
       "   ',',\n",
       "   'the',\n",
       "   'cinematography',\n",
       "   'is',\n",
       "   'atrocious',\n",
       "   '[SEP]'],\n",
       "  ['[CLS]', 'solidly', 'constructed', '[SEP]'],\n",
       "  ['[CLS]',\n",
       "   'are',\n",
       "   'undermined',\n",
       "   'by',\n",
       "   'the',\n",
       "   'movie',\n",
       "   \"'s\",\n",
       "   'presentation',\n",
       "   ',',\n",
       "   'which',\n",
       "   'is',\n",
       "   'way',\n",
       "   'too',\n",
       "   'stagy',\n",
       "   '[SEP]'],\n",
       "  ['[CLS]', 'a', 'great', 'film', '[SEP]'],\n",
       "  ['[CLS]', 'charm', '[SEP]'],\n",
       "  ['[CLS]',\n",
       "   'this',\n",
       "   'new',\n",
       "   'jangle',\n",
       "   'of',\n",
       "   'noise',\n",
       "   ',',\n",
       "   'mayhem',\n",
       "   'and',\n",
       "   'stupidity',\n",
       "   '[SEP]'],\n",
       "  ['[CLS]', 'sustains', 'it', '[SEP]'],\n",
       "  ['[CLS]',\n",
       "   'is',\n",
       "   'so',\n",
       "   'deadly',\n",
       "   'dull',\n",
       "   'that',\n",
       "   'watching',\n",
       "   'the',\n",
       "   'proverbial',\n",
       "   'paint',\n",
       "   'dry',\n",
       "   'would',\n",
       "   'be',\n",
       "   'a',\n",
       "   'welcome',\n",
       "   'improvement',\n",
       "   '.',\n",
       "   '[SEP]'],\n",
       "  ['[CLS]', 'to', 'accomplish', '[SEP]'],\n",
       "  ['[CLS]', 'does', \"n't\", 'work', '.', '[SEP]'],\n",
       "  ['[CLS]', 'given', 'it', 'a', 'one-star', 'rating', '[SEP]'],\n",
       "  ['[CLS]',\n",
       "   'ice',\n",
       "   'cube',\n",
       "   'is',\n",
       "   \"n't\",\n",
       "   'quite',\n",
       "   'out',\n",
       "   'of',\n",
       "   'ripe',\n",
       "   'screwball',\n",
       "   'ideas',\n",
       "   ',',\n",
       "   'but',\n",
       "   'friday',\n",
       "   'after',\n",
       "   'next',\n",
       "   'spreads',\n",
       "   'them',\n",
       "   'pretty',\n",
       "   'thin',\n",
       "   '[SEP]'],\n",
       "  ['[CLS]', 'been', 'trying', 'to', 'forget', '[SEP]'],\n",
       "  ['[CLS]', 'big', 'stars', 'and', '[SEP]'],\n",
       "  ['[CLS]', 'of', 'cheesy', 'dialogue', '[SEP]'],\n",
       "  ['[CLS]',\n",
       "   'the',\n",
       "   'chateau',\n",
       "   'is',\n",
       "   'never',\n",
       "   'quite',\n",
       "   'able',\n",
       "   'to',\n",
       "   'overcome',\n",
       "   'the',\n",
       "   'cultural',\n",
       "   'moat',\n",
       "   'surrounding',\n",
       "   'its',\n",
       "   'ludicrous',\n",
       "   'and',\n",
       "   'contrived',\n",
       "   'plot',\n",
       "   '.',\n",
       "   \"'\",\n",
       "   '[SEP]'],\n",
       "  ['[CLS]', 'principled', '[SEP]'],\n",
       "  ['[CLS]',\n",
       "   'end',\n",
       "   'it',\n",
       "   'all',\n",
       "   'by',\n",
       "   'stuffing',\n",
       "   'himself',\n",
       "   'into',\n",
       "   'an',\n",
       "   'electric',\n",
       "   'pencil',\n",
       "   'sharpener',\n",
       "   '[SEP]'],\n",
       "  ['[CLS]', 'funniest', 'idea', '[SEP]'],\n",
       "  ['[CLS]', 'silly', 'and', 'tedious', '[SEP]'],\n",
       "  ['[CLS]', 'two', 'surefire', ',', 'beloved', 'genres', '[SEP]'],\n",
       "  ['[CLS]', 'most', 'charmless', '[SEP]'],\n",
       "  ['[CLS]',\n",
       "   'offers',\n",
       "   'us',\n",
       "   'the',\n",
       "   'sense',\n",
       "   'that',\n",
       "   'on',\n",
       "   'some',\n",
       "   'elemental',\n",
       "   'level',\n",
       "   ',',\n",
       "   'lilia',\n",
       "   'deeply',\n",
       "   'wants',\n",
       "   'to',\n",
       "   'break',\n",
       "   'free',\n",
       "   'of',\n",
       "   'her',\n",
       "   'old',\n",
       "   'life',\n",
       "   '.',\n",
       "   '[SEP]'],\n",
       "  ['[CLS]', 'might', 'be', 'best', 'forgotten', '[SEP]'],\n",
       "  ['[CLS]',\n",
       "   'a',\n",
       "   'substantial',\n",
       "   'arc',\n",
       "   'of',\n",
       "   'change',\n",
       "   'that',\n",
       "   'does',\n",
       "   \"n't\",\n",
       "   'produce',\n",
       "   'any',\n",
       "   'real',\n",
       "   'transformation',\n",
       "   '[SEP]'],\n",
       "  ['[CLS]', 'unadorned', '[SEP]'],\n",
       "  ['[CLS]',\n",
       "   'this',\n",
       "   'is',\n",
       "   'the',\n",
       "   'kind',\n",
       "   'of',\n",
       "   'movie',\n",
       "   'that',\n",
       "   'you',\n",
       "   'only',\n",
       "   'need',\n",
       "   'to',\n",
       "   'watch',\n",
       "   'for',\n",
       "   'about',\n",
       "   'thirty',\n",
       "   'seconds',\n",
       "   'before',\n",
       "   'you',\n",
       "   'say',\n",
       "   'to',\n",
       "   'yourself',\n",
       "   ',',\n",
       "   '`',\n",
       "   'ah',\n",
       "   ',',\n",
       "   'yes',\n",
       "   ',',\n",
       "   'here',\n",
       "   'we',\n",
       "   'have',\n",
       "   'a',\n",
       "   'bad',\n",
       "   ',',\n",
       "   'bad',\n",
       "   ',',\n",
       "   'bad',\n",
       "   'movie',\n",
       "   '.',\n",
       "   \"'\",\n",
       "   '[SEP]'],\n",
       "  ['[CLS]', 'feel', 'sanitised', 'and', 'stagey', '[SEP]'],\n",
       "  ['[CLS]',\n",
       "   'replete',\n",
       "   'with',\n",
       "   'stereotypical',\n",
       "   'familial',\n",
       "   'quandaries',\n",
       "   '[SEP]'],\n",
       "  ['[CLS]', 'quirky', 'comedy', '[SEP]'],\n",
       "  ['[CLS]', 'unrewarding', '[SEP]'],\n",
       "  ['[CLS]', 'old-hat', '[SEP]']]}"
      ]
     },
     "execution_count": 10,
     "metadata": {},
     "output_type": "execute_result"
    }
   ],
   "source": [
    "save_info(idxs, sst2_data_raw, targets, model_out_list, raw_attr_list, conti_attr_list, raw_input_list, \n",
    "          fname=f'../MethodOutputs/{file_name_base}_out.pkl')"
   ]
  },
  {
   "cell_type": "code",
   "execution_count": 11,
   "id": "db9de1f3",
   "metadata": {},
   "outputs": [
    {
     "data": {
      "application/javascript": [
       "IPython.notebook.save_notebook()"
      ]
     },
     "metadata": {},
     "output_type": "display_data"
    }
   ],
   "source": [
    "download_HTML(cur_file_name=f'{file_name_base}_SST2_BERT.ipynb',\n",
    "              out_file_name=f'{file_name_base}_SST2_BERT.html')"
   ]
  },
  {
   "cell_type": "code",
   "execution_count": null,
   "id": "70fe07dc",
   "metadata": {},
   "outputs": [],
   "source": []
  }
 ],
 "metadata": {
  "kernelspec": {
   "display_name": "Python 3 (ipykernel)",
   "language": "python",
   "name": "python3"
  },
  "language_info": {
   "codemirror_mode": {
    "name": "ipython",
    "version": 3
   },
   "file_extension": ".py",
   "mimetype": "text/x-python",
   "name": "python",
   "nbconvert_exporter": "python",
   "pygments_lexer": "ipython3",
   "version": "3.9.13"
  }
 },
 "nbformat": 4,
 "nbformat_minor": 5
}
