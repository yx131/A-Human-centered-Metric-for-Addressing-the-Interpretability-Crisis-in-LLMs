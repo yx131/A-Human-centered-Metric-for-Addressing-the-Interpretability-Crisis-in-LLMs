{
 "cells": [
  {
   "cell_type": "code",
   "execution_count": 1,
   "id": "0379fb82",
   "metadata": {},
   "outputs": [],
   "source": [
    "import sys, time, pickle\n",
    "import torch\n",
    "\n",
    "sys.path.insert(0, '../../Utils')\n",
    "from global_constants import gpu_device\n",
    "\n",
    "sys.path.insert(0, '../')\n",
    "from BERT_models import BERT_SST2_MODEL\n",
    "\n",
    "from _utils import sample_random_glue_sst2, get_continuation_mapping, \\\n",
    "                    get_continuous_attributions, get_continuous_raw_inputs, \\\n",
    "                    collect_info_for_metric, save_info, download_HTML"
   ]
  },
  {
   "cell_type": "code",
   "execution_count": 2,
   "id": "4bd7ee44",
   "metadata": {},
   "outputs": [
    {
     "name": "stderr",
     "output_type": "stream",
     "text": [
      "Reusing dataset glue (/home/user/.cache/huggingface/datasets/glue/sst2/1.0.0/dacbe3125aa31d7f70367a07a8a9e72a5a0bfeb5fc42e75c9db75b96da6053ad)\n"
     ]
    },
    {
     "data": {
      "application/vnd.jupyter.widget-view+json": {
       "model_id": "1526cb364f9c47f9b1e83f69d5089d87",
       "version_major": 2,
       "version_minor": 0
      },
      "text/plain": [
       "  0%|          | 0/3 [00:00<?, ?it/s]"
      ]
     },
     "metadata": {},
     "output_type": "display_data"
    },
    {
     "name": "stderr",
     "output_type": "stream",
     "text": [
      "Loading cached processed dataset at /home/user/.cache/huggingface/datasets/glue/sst2/1.0.0/dacbe3125aa31d7f70367a07a8a9e72a5a0bfeb5fc42e75c9db75b96da6053ad/cache-3b24abff24d1d8c0.arrow\n",
      "Loading cached processed dataset at /home/user/.cache/huggingface/datasets/glue/sst2/1.0.0/dacbe3125aa31d7f70367a07a8a9e72a5a0bfeb5fc42e75c9db75b96da6053ad/cache-5960909ab3834668.arrow\n"
     ]
    }
   ],
   "source": [
    "sst2_data_raw, targets, idxs = sample_random_glue_sst2()"
   ]
  },
  {
   "cell_type": "code",
   "execution_count": 3,
   "id": "50cc7ee5",
   "metadata": {},
   "outputs": [],
   "source": [
    "model = BERT_SST2_MODEL()\n",
    "tokenizer = model.tokenizer"
   ]
  },
  {
   "cell_type": "code",
   "execution_count": 4,
   "id": "3e778996",
   "metadata": {},
   "outputs": [],
   "source": [
    "model_out_list, raw_attr_list, conti_attr_list, raw_input_list = [], [], [], []"
   ]
  },
  {
   "cell_type": "code",
   "execution_count": 5,
   "id": "60cece0e",
   "metadata": {
    "scrolled": false
   },
   "outputs": [],
   "source": [
    "from captum.attr import GuidedBackprop\n",
    "from captum.attr import visualization "
   ]
  },
  {
   "cell_type": "code",
   "execution_count": 6,
   "id": "9937c409",
   "metadata": {},
   "outputs": [],
   "source": [
    "gbp  = GuidedBackprop(model)"
   ]
  },
  {
   "cell_type": "code",
   "execution_count": 7,
   "id": "eb6c1691",
   "metadata": {},
   "outputs": [],
   "source": [
    "def generate_record(raw_review, target):\n",
    "    #tokenizer operations\n",
    "    tokenized = tokenizer(raw_review, truncation=True, return_offsets_mapping=True)\n",
    "    offset_mapping = tokenized['offset_mapping']\n",
    "    conti_map = get_continuation_mapping(offset_mapping)\n",
    "    input_ids = torch.tensor(tokenized['input_ids']).unsqueeze(0).to(gpu_device)\n",
    "    detokenized = [t.replace('#', '') for t in tokenizer.convert_ids_to_tokens(input_ids[0])]\n",
    "    \n",
    "    #feeding input forward \n",
    "    input_emb = model.get_embeddings(input_ids)\n",
    "    pred_prob = model(input_emb).item()\n",
    "    \n",
    "    #categorizing results\n",
    "    pred_class = 'Pos' if pred_prob > 0.5 else 'Neg' \n",
    "    true_class = 'Pos' if target > 0.5 else 'Neg' \n",
    "    \n",
    "    #attribution algorithm working\n",
    "    attribution = gbp.attribute(input_emb)\n",
    "    word_attributions = attribution.squeeze(0).sum(dim=1)\n",
    "    word_attributions /= torch.norm(word_attributions)\n",
    "    attr_score = torch.sum(word_attributions)\n",
    "    attr_class = 'Pos' if attr_score > 0.5 else 'Neg'\n",
    "    convergence_score = None\n",
    "    \n",
    "    \n",
    "    #re-organizing tensors and arrays because words get split down\n",
    "    conti_attr = get_continuous_attributions(conti_map, word_attributions)\n",
    "    raw_input = get_continuous_raw_inputs(conti_map, detokenized)\n",
    "\n",
    "#     print(f'word attributions {word_attributions}')\n",
    "#     print(f'pred_prob {pred_prob}')\n",
    "#     print(f'pred_class {pred_class}')\n",
    "#     print(f'true_class {true_class}')\n",
    "#     print(f'attribution {attribution}')\n",
    "#     print(f'attr_class {attr_class}')\n",
    "#     print(f'attr_score {attr_score}')\n",
    "#     print(f'raw_input {raw_input}')\n",
    "\n",
    "        \n",
    "#     collect info for metrics later\n",
    "    collect_info_for_metric(model_out_list, pred_prob, raw_attr_list, attribution, conti_attr_list, conti_attr, raw_input_list, raw_input)\n",
    "        \n",
    "    \n",
    "    visual_record = visualization.VisualizationDataRecord(word_attributions=word_attributions,\n",
    "                                                         pred_prob=pred_prob,\n",
    "                                                         pred_class=pred_class,\n",
    "                                                         true_class=true_class,\n",
    "                                                         attr_class=attr_class,\n",
    "                                                         attr_score=attr_score,\n",
    "                                                         raw_input_ids=raw_input,\n",
    "                                                         convergence_score=convergence_score)\n",
    "        \n",
    "        \n",
    "    return visual_record\n",
    "      \n",
    "    "
   ]
  },
  {
   "cell_type": "code",
   "execution_count": 8,
   "id": "e6941070",
   "metadata": {
    "scrolled": false
   },
   "outputs": [
    {
     "name": "stdout",
     "output_type": "stream",
     "text": [
      "Raw review: its oscar nomination \n",
      "GT target: 1\n",
      "word attr tensor([-0.6134,  0.3798,  0.3681,  0.4772, -0.3409], device='cuda:0')\n",
      "conti attr [tensor(-0.6134, device='cuda:0'), tensor(0.3798, device='cuda:0'), tensor(0.3681, device='cuda:0'), tensor(0.4772, device='cuda:0'), tensor(-0.3409, device='cuda:0')]\n",
      "detokenized ['[CLS]', 'its', 'oscar', 'nomination', '[SEP]']\n",
      "len conti_raw 5\n",
      "conti_raw ['[CLS]', 'its', 'oscar', 'nomination', '[SEP]']\n"
     ]
    },
    {
     "name": "stderr",
     "output_type": "stream",
     "text": [
      "/home/user/anaconda3/envs/metric/lib/python3.9/site-packages/captum/attr/_core/guided_backprop_deconvnet.py:64: UserWarning: Setting backward hooks on ReLU activations.The hooks will be removed after the attribution is finished\n",
      "  warnings.warn(\n"
     ]
    },
    {
     "data": {
      "text/html": [
       "<table width: 100%><div style=\"border-top: 1px solid; margin-top: 5px;             padding-top: 5px; display: inline-block\"><b>Legend: </b><span style=\"display: inline-block; width: 10px; height: 10px;                 border: 1px solid; background-color:                 hsl(0, 75%, 60%)\"></span> Negative  <span style=\"display: inline-block; width: 10px; height: 10px;                 border: 1px solid; background-color:                 hsl(0, 75%, 100%)\"></span> Neutral  <span style=\"display: inline-block; width: 10px; height: 10px;                 border: 1px solid; background-color:                 hsl(120, 75%, 50%)\"></span> Positive  </div><tr><th>True Label</th><th>Predicted Label</th><th>Attribution Label</th><th>Attribution Score</th><th>Word Importance</th><tr><td><text style=\"padding-right:2em\"><b>Pos</b></text></td><td><text style=\"padding-right:2em\"><b>Pos (0.96)</b></text></td><td><text style=\"padding-right:2em\"><b>Neg</b></text></td><td><text style=\"padding-right:2em\"><b>0.27</b></text></td><td><mark style=\"background-color: hsl(0, 75%, 76%); opacity:1.0;                     line-height:1.75\"><font color=\"black\"> [CLS]                    </font></mark><mark style=\"background-color: hsl(120, 75%, 82%); opacity:1.0;                     line-height:1.75\"><font color=\"black\"> its                    </font></mark><mark style=\"background-color: hsl(120, 75%, 82%); opacity:1.0;                     line-height:1.75\"><font color=\"black\"> oscar                    </font></mark><mark style=\"background-color: hsl(120, 75%, 77%); opacity:1.0;                     line-height:1.75\"><font color=\"black\"> nomination                    </font></mark><mark style=\"background-color: hsl(0, 75%, 87%); opacity:1.0;                     line-height:1.75\"><font color=\"black\"> [SEP]                    </font></mark></td><tr></table>"
      ],
      "text/plain": [
       "<IPython.core.display.HTML object>"
      ]
     },
     "metadata": {},
     "output_type": "display_data"
    },
    {
     "name": "stdout",
     "output_type": "stream",
     "text": [
      "<IPython.core.display.HTML object>\n",
      "Raw review: shenanigans and slapstick \n",
      "GT target: 1\n",
      "word attr tensor([-0.0973, -0.1058,  0.2980, -0.1760,  0.2896,  0.0049,  0.6370,  0.6079,\n",
      "         0.0207], device='cuda:0')\n",
      "conti attr [tensor(-0.0973, device='cuda:0'), tensor(0.1248, device='cuda:0'), tensor(0.0049, device='cuda:0'), tensor(0.6224, device='cuda:0'), tensor(0.0207, device='cuda:0')]\n",
      "detokenized ['[CLS]', 'shen', 'ani', 'gan', 's', 'and', 'slap', 'stick', '[SEP]']\n",
      "len conti_raw 5\n",
      "conti_raw ['[CLS]', 'shenanigans', 'and', 'slapstick', '[SEP]']\n"
     ]
    },
    {
     "data": {
      "text/html": [
       "<table width: 100%><div style=\"border-top: 1px solid; margin-top: 5px;             padding-top: 5px; display: inline-block\"><b>Legend: </b><span style=\"display: inline-block; width: 10px; height: 10px;                 border: 1px solid; background-color:                 hsl(0, 75%, 60%)\"></span> Negative  <span style=\"display: inline-block; width: 10px; height: 10px;                 border: 1px solid; background-color:                 hsl(0, 75%, 100%)\"></span> Neutral  <span style=\"display: inline-block; width: 10px; height: 10px;                 border: 1px solid; background-color:                 hsl(120, 75%, 50%)\"></span> Positive  </div><tr><th>True Label</th><th>Predicted Label</th><th>Attribution Label</th><th>Attribution Score</th><th>Word Importance</th><tr><td><text style=\"padding-right:2em\"><b>Pos</b></text></td><td><text style=\"padding-right:2em\"><b>Neg (0.03)</b></text></td><td><text style=\"padding-right:2em\"><b>Pos</b></text></td><td><text style=\"padding-right:2em\"><b>1.48</b></text></td><td><mark style=\"background-color: hsl(0, 75%, 97%); opacity:1.0;                     line-height:1.75\"><font color=\"black\"> [CLS]                    </font></mark><mark style=\"background-color: hsl(0, 75%, 96%); opacity:1.0;                     line-height:1.75\"><font color=\"black\"> shenanigans                    </font></mark><mark style=\"background-color: hsl(120, 75%, 86%); opacity:1.0;                     line-height:1.75\"><font color=\"black\"> and                    </font></mark><mark style=\"background-color: hsl(0, 75%, 93%); opacity:1.0;                     line-height:1.75\"><font color=\"black\"> slapstick                    </font></mark><mark style=\"background-color: hsl(120, 75%, 86%); opacity:1.0;                     line-height:1.75\"><font color=\"black\"> [SEP]                    </font></mark></td><tr></table>"
      ],
      "text/plain": [
       "<IPython.core.display.HTML object>"
      ]
     },
     "metadata": {},
     "output_type": "display_data"
    },
    {
     "name": "stdout",
     "output_type": "stream",
     "text": [
      "<IPython.core.display.HTML object>\n",
      "Raw review: an unsettling sight , \n",
      "GT target: 0\n",
      "word attr tensor([-0.4192,  0.2281, -0.0226,  0.5417, -0.3297,  0.4801, -0.2229,  0.2991],\n",
      "       device='cuda:0')\n",
      "conti attr [tensor(-0.4192, device='cuda:0'), tensor(0.2281, device='cuda:0'), tensor(-0.0351, device='cuda:0'), tensor(0.4801, device='cuda:0'), tensor(-0.2229, device='cuda:0'), tensor(0.2991, device='cuda:0')]\n",
      "detokenized ['[CLS]', 'an', 'un', 'sett', 'ling', 'sight', ',', '[SEP]']\n",
      "len conti_raw 6\n",
      "conti_raw ['[CLS]', 'an', 'unsettling', 'sight', ',', '[SEP]']\n"
     ]
    },
    {
     "data": {
      "text/html": [
       "<table width: 100%><div style=\"border-top: 1px solid; margin-top: 5px;             padding-top: 5px; display: inline-block\"><b>Legend: </b><span style=\"display: inline-block; width: 10px; height: 10px;                 border: 1px solid; background-color:                 hsl(0, 75%, 60%)\"></span> Negative  <span style=\"display: inline-block; width: 10px; height: 10px;                 border: 1px solid; background-color:                 hsl(0, 75%, 100%)\"></span> Neutral  <span style=\"display: inline-block; width: 10px; height: 10px;                 border: 1px solid; background-color:                 hsl(120, 75%, 50%)\"></span> Positive  </div><tr><th>True Label</th><th>Predicted Label</th><th>Attribution Label</th><th>Attribution Score</th><th>Word Importance</th><tr><td><text style=\"padding-right:2em\"><b>Neg</b></text></td><td><text style=\"padding-right:2em\"><b>Pos (0.93)</b></text></td><td><text style=\"padding-right:2em\"><b>Pos</b></text></td><td><text style=\"padding-right:2em\"><b>0.55</b></text></td><td><mark style=\"background-color: hsl(0, 75%, 84%); opacity:1.0;                     line-height:1.75\"><font color=\"black\"> [CLS]                    </font></mark><mark style=\"background-color: hsl(120, 75%, 89%); opacity:1.0;                     line-height:1.75\"><font color=\"black\"> an                    </font></mark><mark style=\"background-color: hsl(0, 75%, 100%); opacity:1.0;                     line-height:1.75\"><font color=\"black\"> unsettling                    </font></mark><mark style=\"background-color: hsl(120, 75%, 73%); opacity:1.0;                     line-height:1.75\"><font color=\"black\"> sight                    </font></mark><mark style=\"background-color: hsl(0, 75%, 87%); opacity:1.0;                     line-height:1.75\"><font color=\"black\"> ,                    </font></mark><mark style=\"background-color: hsl(120, 75%, 76%); opacity:1.0;                     line-height:1.75\"><font color=\"black\"> [SEP]                    </font></mark></td><tr></table>"
      ],
      "text/plain": [
       "<IPython.core.display.HTML object>"
      ]
     },
     "metadata": {},
     "output_type": "display_data"
    },
    {
     "name": "stdout",
     "output_type": "stream",
     "text": [
      "<IPython.core.display.HTML object>\n",
      "Raw review: the climactic hourlong cricket match \n",
      "GT target: 1\n",
      "word attr tensor([-0.1837, -0.1459,  0.4669, -0.5328, -0.5444,  0.2762,  0.1427, -0.1022,\n",
      "        -0.1611,  0.1167], device='cuda:0')\n",
      "conti attr [tensor(-0.1837, device='cuda:0'), tensor(-0.1459, device='cuda:0'), tensor(-0.2887, device='cuda:0'), tensor(0.2095, device='cuda:0'), tensor(-0.1022, device='cuda:0'), tensor(-0.1611, device='cuda:0'), tensor(0.1167, device='cuda:0')]\n",
      "detokenized ['[CLS]', 'the', 'cl', 'ima', 'ctic', 'hour', 'long', 'cricket', 'match', '[SEP]']\n",
      "len conti_raw 7\n",
      "conti_raw ['[CLS]', 'the', 'climactic', 'hourlong', 'cricket', 'match', '[SEP]']\n"
     ]
    },
    {
     "data": {
      "text/html": [
       "<table width: 100%><div style=\"border-top: 1px solid; margin-top: 5px;             padding-top: 5px; display: inline-block\"><b>Legend: </b><span style=\"display: inline-block; width: 10px; height: 10px;                 border: 1px solid; background-color:                 hsl(0, 75%, 60%)\"></span> Negative  <span style=\"display: inline-block; width: 10px; height: 10px;                 border: 1px solid; background-color:                 hsl(0, 75%, 100%)\"></span> Neutral  <span style=\"display: inline-block; width: 10px; height: 10px;                 border: 1px solid; background-color:                 hsl(120, 75%, 50%)\"></span> Positive  </div><tr><th>True Label</th><th>Predicted Label</th><th>Attribution Label</th><th>Attribution Score</th><th>Word Importance</th><tr><td><text style=\"padding-right:2em\"><b>Pos</b></text></td><td><text style=\"padding-right:2em\"><b>Pos (0.60)</b></text></td><td><text style=\"padding-right:2em\"><b>Neg</b></text></td><td><text style=\"padding-right:2em\"><b>-0.67</b></text></td><td><mark style=\"background-color: hsl(0, 75%, 93%); opacity:1.0;                     line-height:1.75\"><font color=\"black\"> [CLS]                    </font></mark><mark style=\"background-color: hsl(0, 75%, 95%); opacity:1.0;                     line-height:1.75\"><font color=\"black\"> the                    </font></mark><mark style=\"background-color: hsl(120, 75%, 77%); opacity:1.0;                     line-height:1.75\"><font color=\"black\"> climactic                    </font></mark><mark style=\"background-color: hsl(0, 75%, 79%); opacity:1.0;                     line-height:1.75\"><font color=\"black\"> hourlong                    </font></mark><mark style=\"background-color: hsl(0, 75%, 79%); opacity:1.0;                     line-height:1.75\"><font color=\"black\"> cricket                    </font></mark><mark style=\"background-color: hsl(120, 75%, 87%); opacity:1.0;                     line-height:1.75\"><font color=\"black\"> match                    </font></mark><mark style=\"background-color: hsl(120, 75%, 93%); opacity:1.0;                     line-height:1.75\"><font color=\"black\"> [SEP]                    </font></mark></td><tr></table>"
      ],
      "text/plain": [
       "<IPython.core.display.HTML object>"
      ]
     },
     "metadata": {},
     "output_type": "display_data"
    },
    {
     "name": "stdout",
     "output_type": "stream",
     "text": [
      "<IPython.core.display.HTML object>\n",
      "Raw review: alternating between facetious comic parody and pulp melodrama , this smart-aleck movie ... tosses around some intriguing questions about the difference between human and android life \n",
      "GT target: 1\n",
      "word attr tensor([ 0.1281,  0.0517, -0.0033, -0.1260,  0.3515, -0.0961,  0.0538,  0.0349,\n",
      "         0.0134,  0.0797,  0.0318,  0.1195, -0.0754, -0.0806, -0.0533,  0.0574,\n",
      "         0.2234,  0.0720,  0.1228,  0.1023,  0.1112, -0.1307,  0.4421, -0.2023,\n",
      "         0.3256,  0.1629,  0.2857,  0.3762,  0.1201,  0.0837,  0.0430,  0.0696,\n",
      "         0.0714,  0.0497,  0.1836,  0.1270, -0.0175], device='cuda:0')\n",
      "conti attr [tensor(0.1281, device='cuda:0'), tensor(0.0517, device='cuda:0'), tensor(-0.0033, device='cuda:0'), tensor(0.1128, device='cuda:0'), tensor(-0.0961, device='cuda:0'), tensor(0.0538, device='cuda:0'), tensor(0.0349, device='cuda:0'), tensor(0.0134, device='cuda:0'), tensor(0.0877, device='cuda:0'), tensor(-0.0754, device='cuda:0'), tensor(-0.0806, device='cuda:0'), tensor(0.0924, device='cuda:0'), tensor(0.1228, device='cuda:0'), tensor(-0.0120, device='cuda:0'), tensor(0.1199, device='cuda:0'), tensor(0.3256, device='cuda:0'), tensor(0.1629, device='cuda:0'), tensor(0.2857, device='cuda:0'), tensor(0.3762, device='cuda:0'), tensor(0.1201, device='cuda:0'), tensor(0.0837, device='cuda:0'), tensor(0.0430, device='cuda:0'), tensor(0.0696, device='cuda:0'), tensor(0.0714, device='cuda:0'), tensor(0.0497, device='cuda:0'), tensor(0.1836, device='cuda:0'), tensor(0.1270, device='cuda:0'), tensor(-0.0175, device='cuda:0')]\n",
      "detokenized ['[CLS]', 'alternating', 'between', 'face', 'tious', 'comic', 'parody', 'and', 'pulp', 'mel', 'od', 'rama', ',', 'this', 'smart', '-', 'alec', 'k', 'movie', '.', '.', '.', 'toss', 'es', 'around', 'some', 'intriguing', 'questions', 'about', 'the', 'difference', 'between', 'human', 'and', 'android', 'life', '[SEP]']\n",
      "len conti_raw 28\n",
      "conti_raw ['[CLS]', 'alternating', 'between', 'facetious', 'comic', 'parody', 'and', 'pulp', 'melodrama', ',', 'this', 'smart-aleck', 'movie', '...', 'tosses', 'around', 'some', 'intriguing', 'questions', 'about', 'the', 'difference', 'between', 'human', 'and', 'android', 'life', '[SEP]']\n"
     ]
    },
    {
     "data": {
      "text/html": [
       "<table width: 100%><div style=\"border-top: 1px solid; margin-top: 5px;             padding-top: 5px; display: inline-block\"><b>Legend: </b><span style=\"display: inline-block; width: 10px; height: 10px;                 border: 1px solid; background-color:                 hsl(0, 75%, 60%)\"></span> Negative  <span style=\"display: inline-block; width: 10px; height: 10px;                 border: 1px solid; background-color:                 hsl(0, 75%, 100%)\"></span> Neutral  <span style=\"display: inline-block; width: 10px; height: 10px;                 border: 1px solid; background-color:                 hsl(120, 75%, 50%)\"></span> Positive  </div><tr><th>True Label</th><th>Predicted Label</th><th>Attribution Label</th><th>Attribution Score</th><th>Word Importance</th><tr><td><text style=\"padding-right:2em\"><b>Pos</b></text></td><td><text style=\"padding-right:2em\"><b>Pos (0.93)</b></text></td><td><text style=\"padding-right:2em\"><b>Pos</b></text></td><td><text style=\"padding-right:2em\"><b>3.11</b></text></td><td><mark style=\"background-color: hsl(120, 75%, 94%); opacity:1.0;                     line-height:1.75\"><font color=\"black\"> [CLS]                    </font></mark><mark style=\"background-color: hsl(120, 75%, 98%); opacity:1.0;                     line-height:1.75\"><font color=\"black\"> alternating                    </font></mark><mark style=\"background-color: hsl(0, 75%, 100%); opacity:1.0;                     line-height:1.75\"><font color=\"black\"> between                    </font></mark><mark style=\"background-color: hsl(0, 75%, 95%); opacity:1.0;                     line-height:1.75\"><font color=\"black\"> facetious                    </font></mark><mark style=\"background-color: hsl(120, 75%, 83%); opacity:1.0;                     line-height:1.75\"><font color=\"black\"> comic                    </font></mark><mark style=\"background-color: hsl(0, 75%, 97%); opacity:1.0;                     line-height:1.75\"><font color=\"black\"> parody                    </font></mark><mark style=\"background-color: hsl(120, 75%, 98%); opacity:1.0;                     line-height:1.75\"><font color=\"black\"> and                    </font></mark><mark style=\"background-color: hsl(120, 75%, 99%); opacity:1.0;                     line-height:1.75\"><font color=\"black\"> pulp                    </font></mark><mark style=\"background-color: hsl(120, 75%, 100%); opacity:1.0;                     line-height:1.75\"><font color=\"black\"> melodrama                    </font></mark><mark style=\"background-color: hsl(120, 75%, 97%); opacity:1.0;                     line-height:1.75\"><font color=\"black\"> ,                    </font></mark><mark style=\"background-color: hsl(120, 75%, 99%); opacity:1.0;                     line-height:1.75\"><font color=\"black\"> this                    </font></mark><mark style=\"background-color: hsl(120, 75%, 95%); opacity:1.0;                     line-height:1.75\"><font color=\"black\"> smart-aleck                    </font></mark><mark style=\"background-color: hsl(0, 75%, 97%); opacity:1.0;                     line-height:1.75\"><font color=\"black\"> movie                    </font></mark><mark style=\"background-color: hsl(0, 75%, 97%); opacity:1.0;                     line-height:1.75\"><font color=\"black\"> ...                    </font></mark><mark style=\"background-color: hsl(0, 75%, 98%); opacity:1.0;                     line-height:1.75\"><font color=\"black\"> tosses                    </font></mark><mark style=\"background-color: hsl(120, 75%, 98%); opacity:1.0;                     line-height:1.75\"><font color=\"black\"> around                    </font></mark><mark style=\"background-color: hsl(120, 75%, 89%); opacity:1.0;                     line-height:1.75\"><font color=\"black\"> some                    </font></mark><mark style=\"background-color: hsl(120, 75%, 97%); opacity:1.0;                     line-height:1.75\"><font color=\"black\"> intriguing                    </font></mark><mark style=\"background-color: hsl(120, 75%, 94%); opacity:1.0;                     line-height:1.75\"><font color=\"black\"> questions                    </font></mark><mark style=\"background-color: hsl(120, 75%, 95%); opacity:1.0;                     line-height:1.75\"><font color=\"black\"> about                    </font></mark><mark style=\"background-color: hsl(120, 75%, 95%); opacity:1.0;                     line-height:1.75\"><font color=\"black\"> the                    </font></mark><mark style=\"background-color: hsl(0, 75%, 95%); opacity:1.0;                     line-height:1.75\"><font color=\"black\"> difference                    </font></mark><mark style=\"background-color: hsl(120, 75%, 78%); opacity:1.0;                     line-height:1.75\"><font color=\"black\"> between                    </font></mark><mark style=\"background-color: hsl(0, 75%, 92%); opacity:1.0;                     line-height:1.75\"><font color=\"black\"> human                    </font></mark><mark style=\"background-color: hsl(120, 75%, 84%); opacity:1.0;                     line-height:1.75\"><font color=\"black\"> and                    </font></mark><mark style=\"background-color: hsl(120, 75%, 92%); opacity:1.0;                     line-height:1.75\"><font color=\"black\"> android                    </font></mark><mark style=\"background-color: hsl(120, 75%, 86%); opacity:1.0;                     line-height:1.75\"><font color=\"black\"> life                    </font></mark><mark style=\"background-color: hsl(120, 75%, 82%); opacity:1.0;                     line-height:1.75\"><font color=\"black\"> [SEP]                    </font></mark></td><tr></table>"
      ],
      "text/plain": [
       "<IPython.core.display.HTML object>"
      ]
     },
     "metadata": {},
     "output_type": "display_data"
    },
    {
     "name": "stdout",
     "output_type": "stream",
     "text": [
      "<IPython.core.display.HTML object>\n",
      "Raw review: to be a part of that elusive adult world \n",
      "GT target: 1\n",
      "word attr tensor([-0.3730, -0.0292,  0.0186,  0.5110,  0.1792,  0.1451,  0.2783,  0.4092,\n",
      "         0.5258,  0.1010,  0.1175], device='cuda:0')\n",
      "conti attr [tensor(-0.3730, device='cuda:0'), tensor(-0.0292, device='cuda:0'), tensor(0.0186, device='cuda:0'), tensor(0.5110, device='cuda:0'), tensor(0.1792, device='cuda:0'), tensor(0.1451, device='cuda:0'), tensor(0.2783, device='cuda:0'), tensor(0.4092, device='cuda:0'), tensor(0.5258, device='cuda:0'), tensor(0.1010, device='cuda:0'), tensor(0.1175, device='cuda:0')]\n",
      "detokenized ['[CLS]', 'to', 'be', 'a', 'part', 'of', 'that', 'elusive', 'adult', 'world', '[SEP]']\n",
      "len conti_raw 11\n",
      "conti_raw ['[CLS]', 'to', 'be', 'a', 'part', 'of', 'that', 'elusive', 'adult', 'world', '[SEP]']\n"
     ]
    },
    {
     "data": {
      "text/html": [
       "<table width: 100%><div style=\"border-top: 1px solid; margin-top: 5px;             padding-top: 5px; display: inline-block\"><b>Legend: </b><span style=\"display: inline-block; width: 10px; height: 10px;                 border: 1px solid; background-color:                 hsl(0, 75%, 60%)\"></span> Negative  <span style=\"display: inline-block; width: 10px; height: 10px;                 border: 1px solid; background-color:                 hsl(0, 75%, 100%)\"></span> Neutral  <span style=\"display: inline-block; width: 10px; height: 10px;                 border: 1px solid; background-color:                 hsl(120, 75%, 50%)\"></span> Positive  </div><tr><th>True Label</th><th>Predicted Label</th><th>Attribution Label</th><th>Attribution Score</th><th>Word Importance</th><tr><td><text style=\"padding-right:2em\"><b>Pos</b></text></td><td><text style=\"padding-right:2em\"><b>Pos (0.96)</b></text></td><td><text style=\"padding-right:2em\"><b>Pos</b></text></td><td><text style=\"padding-right:2em\"><b>1.88</b></text></td><td><mark style=\"background-color: hsl(0, 75%, 86%); opacity:1.0;                     line-height:1.75\"><font color=\"black\"> [CLS]                    </font></mark><mark style=\"background-color: hsl(0, 75%, 99%); opacity:1.0;                     line-height:1.75\"><font color=\"black\"> to                    </font></mark><mark style=\"background-color: hsl(120, 75%, 100%); opacity:1.0;                     line-height:1.75\"><font color=\"black\"> be                    </font></mark><mark style=\"background-color: hsl(120, 75%, 75%); opacity:1.0;                     line-height:1.75\"><font color=\"black\"> a                    </font></mark><mark style=\"background-color: hsl(120, 75%, 92%); opacity:1.0;                     line-height:1.75\"><font color=\"black\"> part                    </font></mark><mark style=\"background-color: hsl(120, 75%, 93%); opacity:1.0;                     line-height:1.75\"><font color=\"black\"> of                    </font></mark><mark style=\"background-color: hsl(120, 75%, 87%); opacity:1.0;                     line-height:1.75\"><font color=\"black\"> that                    </font></mark><mark style=\"background-color: hsl(120, 75%, 80%); opacity:1.0;                     line-height:1.75\"><font color=\"black\"> elusive                    </font></mark><mark style=\"background-color: hsl(120, 75%, 74%); opacity:1.0;                     line-height:1.75\"><font color=\"black\"> adult                    </font></mark><mark style=\"background-color: hsl(120, 75%, 95%); opacity:1.0;                     line-height:1.75\"><font color=\"black\"> world                    </font></mark><mark style=\"background-color: hsl(120, 75%, 95%); opacity:1.0;                     line-height:1.75\"><font color=\"black\"> [SEP]                    </font></mark></td><tr></table>"
      ],
      "text/plain": [
       "<IPython.core.display.HTML object>"
      ]
     },
     "metadata": {},
     "output_type": "display_data"
    },
    {
     "name": "stdout",
     "output_type": "stream",
     "text": [
      "<IPython.core.display.HTML object>\n",
      "Raw review: emotional power \n",
      "GT target: 1\n",
      "word attr tensor([ 0.4173,  0.6296, -0.1062,  0.6467], device='cuda:0')\n",
      "conti attr [tensor(0.4173, device='cuda:0'), tensor(0.6296, device='cuda:0'), tensor(-0.1062, device='cuda:0'), tensor(0.6467, device='cuda:0')]\n",
      "detokenized ['[CLS]', 'emotional', 'power', '[SEP]']\n",
      "len conti_raw 4\n",
      "conti_raw ['[CLS]', 'emotional', 'power', '[SEP]']\n"
     ]
    },
    {
     "data": {
      "text/html": [
       "<table width: 100%><div style=\"border-top: 1px solid; margin-top: 5px;             padding-top: 5px; display: inline-block\"><b>Legend: </b><span style=\"display: inline-block; width: 10px; height: 10px;                 border: 1px solid; background-color:                 hsl(0, 75%, 60%)\"></span> Negative  <span style=\"display: inline-block; width: 10px; height: 10px;                 border: 1px solid; background-color:                 hsl(0, 75%, 100%)\"></span> Neutral  <span style=\"display: inline-block; width: 10px; height: 10px;                 border: 1px solid; background-color:                 hsl(120, 75%, 50%)\"></span> Positive  </div><tr><th>True Label</th><th>Predicted Label</th><th>Attribution Label</th><th>Attribution Score</th><th>Word Importance</th><tr><td><text style=\"padding-right:2em\"><b>Pos</b></text></td><td><text style=\"padding-right:2em\"><b>Pos (0.98)</b></text></td><td><text style=\"padding-right:2em\"><b>Pos</b></text></td><td><text style=\"padding-right:2em\"><b>1.59</b></text></td><td><mark style=\"background-color: hsl(120, 75%, 80%); opacity:1.0;                     line-height:1.75\"><font color=\"black\"> [CLS]                    </font></mark><mark style=\"background-color: hsl(120, 75%, 69%); opacity:1.0;                     line-height:1.75\"><font color=\"black\"> emotional                    </font></mark><mark style=\"background-color: hsl(0, 75%, 96%); opacity:1.0;                     line-height:1.75\"><font color=\"black\"> power                    </font></mark><mark style=\"background-color: hsl(120, 75%, 68%); opacity:1.0;                     line-height:1.75\"><font color=\"black\"> [SEP]                    </font></mark></td><tr></table>"
      ],
      "text/plain": [
       "<IPython.core.display.HTML object>"
      ]
     },
     "metadata": {},
     "output_type": "display_data"
    },
    {
     "name": "stdout",
     "output_type": "stream",
     "text": [
      "<IPython.core.display.HTML object>\n",
      "Raw review: reminds you of why animation is such a perfect medium for children , because of the way it allows the mind to enter and accept another world \n",
      "GT target: 1\n",
      "word attr tensor([ 2.8247e-04, -3.3875e-01,  4.5483e-01,  2.5710e-01,  3.1463e-01,\n",
      "         6.9152e-02,  6.7253e-02,  6.1297e-02,  6.9382e-02,  5.9340e-02,\n",
      "         1.2710e-01,  1.4633e-01,  2.4670e-01, -7.5798e-02,  8.5908e-02,\n",
      "         1.8649e-01,  1.3338e-01, -5.0451e-02,  2.0722e-01, -2.2460e-01,\n",
      "         1.4729e-01, -1.9436e-01,  9.1560e-02,  7.3154e-03,  1.2685e-01,\n",
      "        -4.4251e-02,  6.8365e-02,  1.6867e-01,  3.3579e-01], device='cuda:0')\n",
      "conti attr [tensor(0.0003, device='cuda:0'), tensor(-0.3387, device='cuda:0'), tensor(0.4548, device='cuda:0'), tensor(0.2571, device='cuda:0'), tensor(0.3146, device='cuda:0'), tensor(0.0692, device='cuda:0'), tensor(0.0673, device='cuda:0'), tensor(0.0613, device='cuda:0'), tensor(0.0694, device='cuda:0'), tensor(0.0593, device='cuda:0'), tensor(0.1271, device='cuda:0'), tensor(0.1463, device='cuda:0'), tensor(0.2467, device='cuda:0'), tensor(-0.0758, device='cuda:0'), tensor(0.0859, device='cuda:0'), tensor(0.1865, device='cuda:0'), tensor(0.1334, device='cuda:0'), tensor(-0.0505, device='cuda:0'), tensor(0.2072, device='cuda:0'), tensor(-0.2246, device='cuda:0'), tensor(0.1473, device='cuda:0'), tensor(-0.1944, device='cuda:0'), tensor(0.0916, device='cuda:0'), tensor(0.0073, device='cuda:0'), tensor(0.1269, device='cuda:0'), tensor(-0.0443, device='cuda:0'), tensor(0.0684, device='cuda:0'), tensor(0.1687, device='cuda:0'), tensor(0.3358, device='cuda:0')]\n",
      "detokenized ['[CLS]', 'reminds', 'you', 'of', 'why', 'animation', 'is', 'such', 'a', 'perfect', 'medium', 'for', 'children', ',', 'because', 'of', 'the', 'way', 'it', 'allows', 'the', 'mind', 'to', 'enter', 'and', 'accept', 'another', 'world', '[SEP]']\n",
      "len conti_raw 29\n",
      "conti_raw ['[CLS]', 'reminds', 'you', 'of', 'why', 'animation', 'is', 'such', 'a', 'perfect', 'medium', 'for', 'children', ',', 'because', 'of', 'the', 'way', 'it', 'allows', 'the', 'mind', 'to', 'enter', 'and', 'accept', 'another', 'world', '[SEP]']\n"
     ]
    },
    {
     "data": {
      "text/html": [
       "<table width: 100%><div style=\"border-top: 1px solid; margin-top: 5px;             padding-top: 5px; display: inline-block\"><b>Legend: </b><span style=\"display: inline-block; width: 10px; height: 10px;                 border: 1px solid; background-color:                 hsl(0, 75%, 60%)\"></span> Negative  <span style=\"display: inline-block; width: 10px; height: 10px;                 border: 1px solid; background-color:                 hsl(0, 75%, 100%)\"></span> Neutral  <span style=\"display: inline-block; width: 10px; height: 10px;                 border: 1px solid; background-color:                 hsl(120, 75%, 50%)\"></span> Positive  </div><tr><th>True Label</th><th>Predicted Label</th><th>Attribution Label</th><th>Attribution Score</th><th>Word Importance</th><tr><td><text style=\"padding-right:2em\"><b>Pos</b></text></td><td><text style=\"padding-right:2em\"><b>Pos (0.97)</b></text></td><td><text style=\"padding-right:2em\"><b>Pos</b></text></td><td><text style=\"padding-right:2em\"><b>2.50</b></text></td><td><mark style=\"background-color: hsl(120, 75%, 100%); opacity:1.0;                     line-height:1.75\"><font color=\"black\"> [CLS]                    </font></mark><mark style=\"background-color: hsl(0, 75%, 87%); opacity:1.0;                     line-height:1.75\"><font color=\"black\"> reminds                    </font></mark><mark style=\"background-color: hsl(120, 75%, 78%); opacity:1.0;                     line-height:1.75\"><font color=\"black\"> you                    </font></mark><mark style=\"background-color: hsl(120, 75%, 88%); opacity:1.0;                     line-height:1.75\"><font color=\"black\"> of                    </font></mark><mark style=\"background-color: hsl(120, 75%, 85%); opacity:1.0;                     line-height:1.75\"><font color=\"black\"> why                    </font></mark><mark style=\"background-color: hsl(120, 75%, 97%); opacity:1.0;                     line-height:1.75\"><font color=\"black\"> animation                    </font></mark><mark style=\"background-color: hsl(120, 75%, 97%); opacity:1.0;                     line-height:1.75\"><font color=\"black\"> is                    </font></mark><mark style=\"background-color: hsl(120, 75%, 97%); opacity:1.0;                     line-height:1.75\"><font color=\"black\"> such                    </font></mark><mark style=\"background-color: hsl(120, 75%, 97%); opacity:1.0;                     line-height:1.75\"><font color=\"black\"> a                    </font></mark><mark style=\"background-color: hsl(120, 75%, 98%); opacity:1.0;                     line-height:1.75\"><font color=\"black\"> perfect                    </font></mark><mark style=\"background-color: hsl(120, 75%, 94%); opacity:1.0;                     line-height:1.75\"><font color=\"black\"> medium                    </font></mark><mark style=\"background-color: hsl(120, 75%, 93%); opacity:1.0;                     line-height:1.75\"><font color=\"black\"> for                    </font></mark><mark style=\"background-color: hsl(120, 75%, 88%); opacity:1.0;                     line-height:1.75\"><font color=\"black\"> children                    </font></mark><mark style=\"background-color: hsl(0, 75%, 97%); opacity:1.0;                     line-height:1.75\"><font color=\"black\"> ,                    </font></mark><mark style=\"background-color: hsl(120, 75%, 96%); opacity:1.0;                     line-height:1.75\"><font color=\"black\"> because                    </font></mark><mark style=\"background-color: hsl(120, 75%, 91%); opacity:1.0;                     line-height:1.75\"><font color=\"black\"> of                    </font></mark><mark style=\"background-color: hsl(120, 75%, 94%); opacity:1.0;                     line-height:1.75\"><font color=\"black\"> the                    </font></mark><mark style=\"background-color: hsl(0, 75%, 98%); opacity:1.0;                     line-height:1.75\"><font color=\"black\"> way                    </font></mark><mark style=\"background-color: hsl(120, 75%, 90%); opacity:1.0;                     line-height:1.75\"><font color=\"black\"> it                    </font></mark><mark style=\"background-color: hsl(0, 75%, 92%); opacity:1.0;                     line-height:1.75\"><font color=\"black\"> allows                    </font></mark><mark style=\"background-color: hsl(120, 75%, 93%); opacity:1.0;                     line-height:1.75\"><font color=\"black\"> the                    </font></mark><mark style=\"background-color: hsl(0, 75%, 93%); opacity:1.0;                     line-height:1.75\"><font color=\"black\"> mind                    </font></mark><mark style=\"background-color: hsl(120, 75%, 96%); opacity:1.0;                     line-height:1.75\"><font color=\"black\"> to                    </font></mark><mark style=\"background-color: hsl(120, 75%, 100%); opacity:1.0;                     line-height:1.75\"><font color=\"black\"> enter                    </font></mark><mark style=\"background-color: hsl(120, 75%, 94%); opacity:1.0;                     line-height:1.75\"><font color=\"black\"> and                    </font></mark><mark style=\"background-color: hsl(0, 75%, 99%); opacity:1.0;                     line-height:1.75\"><font color=\"black\"> accept                    </font></mark><mark style=\"background-color: hsl(120, 75%, 97%); opacity:1.0;                     line-height:1.75\"><font color=\"black\"> another                    </font></mark><mark style=\"background-color: hsl(120, 75%, 92%); opacity:1.0;                     line-height:1.75\"><font color=\"black\"> world                    </font></mark><mark style=\"background-color: hsl(120, 75%, 84%); opacity:1.0;                     line-height:1.75\"><font color=\"black\"> [SEP]                    </font></mark></td><tr></table>"
      ],
      "text/plain": [
       "<IPython.core.display.HTML object>"
      ]
     },
     "metadata": {},
     "output_type": "display_data"
    },
    {
     "name": "stdout",
     "output_type": "stream",
     "text": [
      "<IPython.core.display.HTML object>\n",
      "Raw review: unparalleled proportions , writer-director parker \n",
      "GT target: 1\n",
      "word attr tensor([ 0.1673, -0.3348, -0.1390, -0.6359, -0.2386,  0.1586, -0.0719,  0.0424,\n",
      "        -0.2150, -0.0391, -0.0745, -0.5421], device='cuda:0')\n",
      "conti attr [tensor(0.1673, device='cuda:0'), tensor(-0.3375, device='cuda:0'), tensor(0.1586, device='cuda:0'), tensor(-0.0719, device='cuda:0'), tensor(-0.0627, device='cuda:0'), tensor(-0.0745, device='cuda:0'), tensor(-0.5421, device='cuda:0')]\n",
      "detokenized ['[CLS]', 'un', 'para', 'lle', 'led', 'proportions', ',', 'writer', '-', 'director', 'parker', '[SEP]']\n",
      "len conti_raw 7\n",
      "conti_raw ['[CLS]', 'unparalleled', 'proportions', ',', 'writer-director', 'parker', '[SEP]']\n"
     ]
    },
    {
     "data": {
      "text/html": [
       "<table width: 100%><div style=\"border-top: 1px solid; margin-top: 5px;             padding-top: 5px; display: inline-block\"><b>Legend: </b><span style=\"display: inline-block; width: 10px; height: 10px;                 border: 1px solid; background-color:                 hsl(0, 75%, 60%)\"></span> Negative  <span style=\"display: inline-block; width: 10px; height: 10px;                 border: 1px solid; background-color:                 hsl(0, 75%, 100%)\"></span> Neutral  <span style=\"display: inline-block; width: 10px; height: 10px;                 border: 1px solid; background-color:                 hsl(120, 75%, 50%)\"></span> Positive  </div><tr><th>True Label</th><th>Predicted Label</th><th>Attribution Label</th><th>Attribution Score</th><th>Word Importance</th><tr><td><text style=\"padding-right:2em\"><b>Pos</b></text></td><td><text style=\"padding-right:2em\"><b>Pos (0.88)</b></text></td><td><text style=\"padding-right:2em\"><b>Neg</b></text></td><td><text style=\"padding-right:2em\"><b>-1.92</b></text></td><td><mark style=\"background-color: hsl(120, 75%, 92%); opacity:1.0;                     line-height:1.75\"><font color=\"black\"> [CLS]                    </font></mark><mark style=\"background-color: hsl(0, 75%, 87%); opacity:1.0;                     line-height:1.75\"><font color=\"black\"> unparalleled                    </font></mark><mark style=\"background-color: hsl(0, 75%, 95%); opacity:1.0;                     line-height:1.75\"><font color=\"black\"> proportions                    </font></mark><mark style=\"background-color: hsl(0, 75%, 75%); opacity:1.0;                     line-height:1.75\"><font color=\"black\"> ,                    </font></mark><mark style=\"background-color: hsl(0, 75%, 91%); opacity:1.0;                     line-height:1.75\"><font color=\"black\"> writer-director                    </font></mark><mark style=\"background-color: hsl(120, 75%, 93%); opacity:1.0;                     line-height:1.75\"><font color=\"black\"> parker                    </font></mark><mark style=\"background-color: hsl(0, 75%, 98%); opacity:1.0;                     line-height:1.75\"><font color=\"black\"> [SEP]                    </font></mark></td><tr></table>"
      ],
      "text/plain": [
       "<IPython.core.display.HTML object>"
      ]
     },
     "metadata": {},
     "output_type": "display_data"
    },
    {
     "name": "stdout",
     "output_type": "stream",
     "text": [
      "<IPython.core.display.HTML object>\n",
      "Raw review: this surprisingly decent flick \n",
      "GT target: 1\n",
      "word attr tensor([-0.2811, -0.2440, -0.2501, -0.8031, -0.2355, -0.3137], device='cuda:0')\n",
      "conti attr [tensor(-0.2811, device='cuda:0'), tensor(-0.2440, device='cuda:0'), tensor(-0.2501, device='cuda:0'), tensor(-0.8031, device='cuda:0'), tensor(-0.2355, device='cuda:0'), tensor(-0.3137, device='cuda:0')]\n",
      "detokenized ['[CLS]', 'this', 'surprisingly', 'decent', 'flick', '[SEP]']\n",
      "len conti_raw 6\n",
      "conti_raw ['[CLS]', 'this', 'surprisingly', 'decent', 'flick', '[SEP]']\n"
     ]
    },
    {
     "data": {
      "text/html": [
       "<table width: 100%><div style=\"border-top: 1px solid; margin-top: 5px;             padding-top: 5px; display: inline-block\"><b>Legend: </b><span style=\"display: inline-block; width: 10px; height: 10px;                 border: 1px solid; background-color:                 hsl(0, 75%, 60%)\"></span> Negative  <span style=\"display: inline-block; width: 10px; height: 10px;                 border: 1px solid; background-color:                 hsl(0, 75%, 100%)\"></span> Neutral  <span style=\"display: inline-block; width: 10px; height: 10px;                 border: 1px solid; background-color:                 hsl(120, 75%, 50%)\"></span> Positive  </div><tr><th>True Label</th><th>Predicted Label</th><th>Attribution Label</th><th>Attribution Score</th><th>Word Importance</th><tr><td><text style=\"padding-right:2em\"><b>Pos</b></text></td><td><text style=\"padding-right:2em\"><b>Pos (0.97)</b></text></td><td><text style=\"padding-right:2em\"><b>Neg</b></text></td><td><text style=\"padding-right:2em\"><b>-2.13</b></text></td><td><mark style=\"background-color: hsl(0, 75%, 89%); opacity:1.0;                     line-height:1.75\"><font color=\"black\"> [CLS]                    </font></mark><mark style=\"background-color: hsl(0, 75%, 91%); opacity:1.0;                     line-height:1.75\"><font color=\"black\"> this                    </font></mark><mark style=\"background-color: hsl(0, 75%, 90%); opacity:1.0;                     line-height:1.75\"><font color=\"black\"> surprisingly                    </font></mark><mark style=\"background-color: hsl(0, 75%, 68%); opacity:1.0;                     line-height:1.75\"><font color=\"black\"> decent                    </font></mark><mark style=\"background-color: hsl(0, 75%, 91%); opacity:1.0;                     line-height:1.75\"><font color=\"black\"> flick                    </font></mark><mark style=\"background-color: hsl(0, 75%, 88%); opacity:1.0;                     line-height:1.75\"><font color=\"black\"> [SEP]                    </font></mark></td><tr></table>"
      ],
      "text/plain": [
       "<IPython.core.display.HTML object>"
      ]
     },
     "metadata": {},
     "output_type": "display_data"
    },
    {
     "name": "stdout",
     "output_type": "stream",
     "text": [
      "<IPython.core.display.HTML object>\n",
      "Raw review: about the best thing you could say about narc is that it 's a rock-solid little genre picture . \n",
      "GT target: 1\n",
      "word attr tensor([-0.1701, -0.0922,  0.0543, -0.2773, -0.0535, -0.1595, -0.0228, -0.1457,\n",
      "         0.0340, -0.0364, -0.1313, -0.2781,  0.0125, -0.0631, -0.1051,  0.0718,\n",
      "         0.3889, -0.3301, -0.1660,  0.5104,  0.0413,  0.3275, -0.0176,  0.1504,\n",
      "         0.1875], device='cuda:0')\n",
      "conti attr [tensor(-0.1701, device='cuda:0'), tensor(-0.0922, device='cuda:0'), tensor(0.0543, device='cuda:0'), tensor(-0.2773, device='cuda:0'), tensor(-0.0535, device='cuda:0'), tensor(-0.1595, device='cuda:0'), tensor(-0.0228, device='cuda:0'), tensor(-0.1457, device='cuda:0'), tensor(0.0340, device='cuda:0'), tensor(-0.0838, device='cuda:0'), tensor(-0.2781, device='cuda:0'), tensor(0.0125, device='cuda:0'), tensor(-0.0631, device='cuda:0'), tensor(-0.0166, device='cuda:0'), tensor(0.3889, device='cuda:0'), tensor(0.1312, device='cuda:0'), tensor(0.0413, device='cuda:0'), tensor(0.3275, device='cuda:0'), tensor(-0.0176, device='cuda:0'), tensor(0.1504, device='cuda:0'), tensor(0.1875, device='cuda:0')]\n",
      "detokenized ['[CLS]', 'about', 'the', 'best', 'thing', 'you', 'could', 'say', 'about', 'na', 'rc', 'is', 'that', 'it', \"'\", 's', 'a', 'rock', '-', 'solid', 'little', 'genre', 'picture', '.', '[SEP]']\n",
      "len conti_raw 21\n",
      "conti_raw ['[CLS]', 'about', 'the', 'best', 'thing', 'you', 'could', 'say', 'about', 'narc', 'is', 'that', 'it', \"'s\", 'a', 'rock-solid', 'little', 'genre', 'picture', '.', '[SEP]']\n"
     ]
    },
    {
     "data": {
      "text/html": [
       "<table width: 100%><div style=\"border-top: 1px solid; margin-top: 5px;             padding-top: 5px; display: inline-block\"><b>Legend: </b><span style=\"display: inline-block; width: 10px; height: 10px;                 border: 1px solid; background-color:                 hsl(0, 75%, 60%)\"></span> Negative  <span style=\"display: inline-block; width: 10px; height: 10px;                 border: 1px solid; background-color:                 hsl(0, 75%, 100%)\"></span> Neutral  <span style=\"display: inline-block; width: 10px; height: 10px;                 border: 1px solid; background-color:                 hsl(120, 75%, 50%)\"></span> Positive  </div><tr><th>True Label</th><th>Predicted Label</th><th>Attribution Label</th><th>Attribution Score</th><th>Word Importance</th><tr><td><text style=\"padding-right:2em\"><b>Pos</b></text></td><td><text style=\"padding-right:2em\"><b>Pos (0.95)</b></text></td><td><text style=\"padding-right:2em\"><b>Neg</b></text></td><td><text style=\"padding-right:2em\"><b>-0.27</b></text></td><td><mark style=\"background-color: hsl(0, 75%, 94%); opacity:1.0;                     line-height:1.75\"><font color=\"black\"> [CLS]                    </font></mark><mark style=\"background-color: hsl(0, 75%, 97%); opacity:1.0;                     line-height:1.75\"><font color=\"black\"> about                    </font></mark><mark style=\"background-color: hsl(120, 75%, 98%); opacity:1.0;                     line-height:1.75\"><font color=\"black\"> the                    </font></mark><mark style=\"background-color: hsl(0, 75%, 89%); opacity:1.0;                     line-height:1.75\"><font color=\"black\"> best                    </font></mark><mark style=\"background-color: hsl(0, 75%, 98%); opacity:1.0;                     line-height:1.75\"><font color=\"black\"> thing                    </font></mark><mark style=\"background-color: hsl(0, 75%, 94%); opacity:1.0;                     line-height:1.75\"><font color=\"black\"> you                    </font></mark><mark style=\"background-color: hsl(0, 75%, 100%); opacity:1.0;                     line-height:1.75\"><font color=\"black\"> could                    </font></mark><mark style=\"background-color: hsl(0, 75%, 95%); opacity:1.0;                     line-height:1.75\"><font color=\"black\"> say                    </font></mark><mark style=\"background-color: hsl(120, 75%, 99%); opacity:1.0;                     line-height:1.75\"><font color=\"black\"> about                    </font></mark><mark style=\"background-color: hsl(0, 75%, 99%); opacity:1.0;                     line-height:1.75\"><font color=\"black\"> narc                    </font></mark><mark style=\"background-color: hsl(0, 75%, 95%); opacity:1.0;                     line-height:1.75\"><font color=\"black\"> is                    </font></mark><mark style=\"background-color: hsl(0, 75%, 89%); opacity:1.0;                     line-height:1.75\"><font color=\"black\"> that                    </font></mark><mark style=\"background-color: hsl(120, 75%, 100%); opacity:1.0;                     line-height:1.75\"><font color=\"black\"> it                    </font></mark><mark style=\"background-color: hsl(0, 75%, 98%); opacity:1.0;                     line-height:1.75\"><font color=\"black\"> 's                    </font></mark><mark style=\"background-color: hsl(0, 75%, 96%); opacity:1.0;                     line-height:1.75\"><font color=\"black\"> a                    </font></mark><mark style=\"background-color: hsl(120, 75%, 97%); opacity:1.0;                     line-height:1.75\"><font color=\"black\"> rock-solid                    </font></mark><mark style=\"background-color: hsl(120, 75%, 81%); opacity:1.0;                     line-height:1.75\"><font color=\"black\"> little                    </font></mark><mark style=\"background-color: hsl(0, 75%, 87%); opacity:1.0;                     line-height:1.75\"><font color=\"black\"> genre                    </font></mark><mark style=\"background-color: hsl(0, 75%, 94%); opacity:1.0;                     line-height:1.75\"><font color=\"black\"> picture                    </font></mark><mark style=\"background-color: hsl(120, 75%, 75%); opacity:1.0;                     line-height:1.75\"><font color=\"black\"> .                    </font></mark><mark style=\"background-color: hsl(120, 75%, 98%); opacity:1.0;                     line-height:1.75\"><font color=\"black\"> [SEP]                    </font></mark></td><tr></table>"
      ],
      "text/plain": [
       "<IPython.core.display.HTML object>"
      ]
     },
     "metadata": {},
     "output_type": "display_data"
    },
    {
     "name": "stdout",
     "output_type": "stream",
     "text": [
      "<IPython.core.display.HTML object>\n",
      "Raw review: the very best \n",
      "GT target: 1\n",
      "word attr tensor([-0.7216, -0.2030, -0.5044, -0.1171, -0.4122], device='cuda:0')\n",
      "conti attr [tensor(-0.7216, device='cuda:0'), tensor(-0.2030, device='cuda:0'), tensor(-0.5044, device='cuda:0'), tensor(-0.1171, device='cuda:0'), tensor(-0.4122, device='cuda:0')]\n",
      "detokenized ['[CLS]', 'the', 'very', 'best', '[SEP]']\n",
      "len conti_raw 5\n",
      "conti_raw ['[CLS]', 'the', 'very', 'best', '[SEP]']\n"
     ]
    },
    {
     "data": {
      "text/html": [
       "<table width: 100%><div style=\"border-top: 1px solid; margin-top: 5px;             padding-top: 5px; display: inline-block\"><b>Legend: </b><span style=\"display: inline-block; width: 10px; height: 10px;                 border: 1px solid; background-color:                 hsl(0, 75%, 60%)\"></span> Negative  <span style=\"display: inline-block; width: 10px; height: 10px;                 border: 1px solid; background-color:                 hsl(0, 75%, 100%)\"></span> Neutral  <span style=\"display: inline-block; width: 10px; height: 10px;                 border: 1px solid; background-color:                 hsl(120, 75%, 50%)\"></span> Positive  </div><tr><th>True Label</th><th>Predicted Label</th><th>Attribution Label</th><th>Attribution Score</th><th>Word Importance</th><tr><td><text style=\"padding-right:2em\"><b>Pos</b></text></td><td><text style=\"padding-right:2em\"><b>Pos (0.97)</b></text></td><td><text style=\"padding-right:2em\"><b>Neg</b></text></td><td><text style=\"padding-right:2em\"><b>-1.96</b></text></td><td><mark style=\"background-color: hsl(0, 75%, 72%); opacity:1.0;                     line-height:1.75\"><font color=\"black\"> [CLS]                    </font></mark><mark style=\"background-color: hsl(0, 75%, 92%); opacity:1.0;                     line-height:1.75\"><font color=\"black\"> the                    </font></mark><mark style=\"background-color: hsl(0, 75%, 80%); opacity:1.0;                     line-height:1.75\"><font color=\"black\"> very                    </font></mark><mark style=\"background-color: hsl(0, 75%, 96%); opacity:1.0;                     line-height:1.75\"><font color=\"black\"> best                    </font></mark><mark style=\"background-color: hsl(0, 75%, 84%); opacity:1.0;                     line-height:1.75\"><font color=\"black\"> [SEP]                    </font></mark></td><tr></table>"
      ],
      "text/plain": [
       "<IPython.core.display.HTML object>"
      ]
     },
     "metadata": {},
     "output_type": "display_data"
    },
    {
     "name": "stdout",
     "output_type": "stream",
     "text": [
      "<IPython.core.display.HTML object>\n",
      "Raw review: been modeled on the worst revenge-of-the-nerds clichés the filmmakers could dredge up \n",
      "GT target: 0\n",
      "word attr tensor([-0.0323, -0.3174, -0.1743, -0.1173, -0.1819, -0.0401,  0.1564,  0.0265,\n",
      "        -0.1757, -0.0113, -0.0767,  0.0441, -0.2809, -0.0219, -0.4369,  0.1252,\n",
      "        -0.2351, -0.0685,  0.1796, -0.1527, -0.2808,  0.0407, -0.4760, -0.2162],\n",
      "       device='cuda:0')\n",
      "conti attr [tensor(-0.0323, device='cuda:0'), tensor(-0.3174, device='cuda:0'), tensor(-0.1743, device='cuda:0'), tensor(-0.1173, device='cuda:0'), tensor(-0.1819, device='cuda:0'), tensor(-0.0401, device='cuda:0'), tensor(-0.0821, device='cuda:0'), tensor(-0.1955, device='cuda:0'), tensor(-0.0685, device='cuda:0'), tensor(0.1796, device='cuda:0'), tensor(-0.1527, device='cuda:0'), tensor(-0.1201, device='cuda:0'), tensor(-0.4760, device='cuda:0'), tensor(-0.2162, device='cuda:0')]\n",
      "detokenized ['[CLS]', 'been', 'modeled', 'on', 'the', 'worst', 'revenge', '-', 'of', '-', 'the', '-', 'ne', 'rds', 'cl', 'iche', 's', 'the', 'filmmakers', 'could', 'dr', 'edge', 'up', '[SEP]']\n",
      "len conti_raw 14\n",
      "conti_raw ['[CLS]', 'been', 'modeled', 'on', 'the', 'worst', 'revenge-of-the-nerds', 'cliches', 'the', 'filmmakers', 'could', 'dredge', 'up', '[SEP]']\n"
     ]
    },
    {
     "data": {
      "text/html": [
       "<table width: 100%><div style=\"border-top: 1px solid; margin-top: 5px;             padding-top: 5px; display: inline-block\"><b>Legend: </b><span style=\"display: inline-block; width: 10px; height: 10px;                 border: 1px solid; background-color:                 hsl(0, 75%, 60%)\"></span> Negative  <span style=\"display: inline-block; width: 10px; height: 10px;                 border: 1px solid; background-color:                 hsl(0, 75%, 100%)\"></span> Neutral  <span style=\"display: inline-block; width: 10px; height: 10px;                 border: 1px solid; background-color:                 hsl(120, 75%, 50%)\"></span> Positive  </div><tr><th>True Label</th><th>Predicted Label</th><th>Attribution Label</th><th>Attribution Score</th><th>Word Importance</th><tr><td><text style=\"padding-right:2em\"><b>Neg</b></text></td><td><text style=\"padding-right:2em\"><b>Neg (0.03)</b></text></td><td><text style=\"padding-right:2em\"><b>Neg</b></text></td><td><text style=\"padding-right:2em\"><b>-2.72</b></text></td><td><mark style=\"background-color: hsl(0, 75%, 99%); opacity:1.0;                     line-height:1.75\"><font color=\"black\"> [CLS]                    </font></mark><mark style=\"background-color: hsl(0, 75%, 88%); opacity:1.0;                     line-height:1.75\"><font color=\"black\"> been                    </font></mark><mark style=\"background-color: hsl(0, 75%, 94%); opacity:1.0;                     line-height:1.75\"><font color=\"black\"> modeled                    </font></mark><mark style=\"background-color: hsl(0, 75%, 96%); opacity:1.0;                     line-height:1.75\"><font color=\"black\"> on                    </font></mark><mark style=\"background-color: hsl(0, 75%, 93%); opacity:1.0;                     line-height:1.75\"><font color=\"black\"> the                    </font></mark><mark style=\"background-color: hsl(0, 75%, 99%); opacity:1.0;                     line-height:1.75\"><font color=\"black\"> worst                    </font></mark><mark style=\"background-color: hsl(120, 75%, 93%); opacity:1.0;                     line-height:1.75\"><font color=\"black\"> revenge-of-the-nerds                    </font></mark><mark style=\"background-color: hsl(120, 75%, 99%); opacity:1.0;                     line-height:1.75\"><font color=\"black\"> cliches                    </font></mark><mark style=\"background-color: hsl(0, 75%, 93%); opacity:1.0;                     line-height:1.75\"><font color=\"black\"> the                    </font></mark><mark style=\"background-color: hsl(0, 75%, 100%); opacity:1.0;                     line-height:1.75\"><font color=\"black\"> filmmakers                    </font></mark><mark style=\"background-color: hsl(0, 75%, 97%); opacity:1.0;                     line-height:1.75\"><font color=\"black\"> could                    </font></mark><mark style=\"background-color: hsl(120, 75%, 98%); opacity:1.0;                     line-height:1.75\"><font color=\"black\"> dredge                    </font></mark><mark style=\"background-color: hsl(0, 75%, 89%); opacity:1.0;                     line-height:1.75\"><font color=\"black\"> up                    </font></mark><mark style=\"background-color: hsl(0, 75%, 100%); opacity:1.0;                     line-height:1.75\"><font color=\"black\"> [SEP]                    </font></mark></td><tr></table>"
      ],
      "text/plain": [
       "<IPython.core.display.HTML object>"
      ]
     },
     "metadata": {},
     "output_type": "display_data"
    },
    {
     "name": "stdout",
     "output_type": "stream",
     "text": [
      "<IPython.core.display.HTML object>\n",
      "Raw review: tell you \n",
      "GT target: 1\n",
      "word attr tensor([0.3698, 0.7387, 0.5453, 0.1423], device='cuda:0')\n",
      "conti attr [tensor(0.3698, device='cuda:0'), tensor(0.7387, device='cuda:0'), tensor(0.5453, device='cuda:0'), tensor(0.1423, device='cuda:0')]\n",
      "detokenized ['[CLS]', 'tell', 'you', '[SEP]']\n",
      "len conti_raw 4\n",
      "conti_raw ['[CLS]', 'tell', 'you', '[SEP]']\n"
     ]
    },
    {
     "data": {
      "text/html": [
       "<table width: 100%><div style=\"border-top: 1px solid; margin-top: 5px;             padding-top: 5px; display: inline-block\"><b>Legend: </b><span style=\"display: inline-block; width: 10px; height: 10px;                 border: 1px solid; background-color:                 hsl(0, 75%, 60%)\"></span> Negative  <span style=\"display: inline-block; width: 10px; height: 10px;                 border: 1px solid; background-color:                 hsl(0, 75%, 100%)\"></span> Neutral  <span style=\"display: inline-block; width: 10px; height: 10px;                 border: 1px solid; background-color:                 hsl(120, 75%, 50%)\"></span> Positive  </div><tr><th>True Label</th><th>Predicted Label</th><th>Attribution Label</th><th>Attribution Score</th><th>Word Importance</th><tr><td><text style=\"padding-right:2em\"><b>Pos</b></text></td><td><text style=\"padding-right:2em\"><b>Pos (0.90)</b></text></td><td><text style=\"padding-right:2em\"><b>Pos</b></text></td><td><text style=\"padding-right:2em\"><b>1.80</b></text></td><td><mark style=\"background-color: hsl(120, 75%, 82%); opacity:1.0;                     line-height:1.75\"><font color=\"black\"> [CLS]                    </font></mark><mark style=\"background-color: hsl(120, 75%, 64%); opacity:1.0;                     line-height:1.75\"><font color=\"black\"> tell                    </font></mark><mark style=\"background-color: hsl(120, 75%, 73%); opacity:1.0;                     line-height:1.75\"><font color=\"black\"> you                    </font></mark><mark style=\"background-color: hsl(120, 75%, 93%); opacity:1.0;                     line-height:1.75\"><font color=\"black\"> [SEP]                    </font></mark></td><tr></table>"
      ],
      "text/plain": [
       "<IPython.core.display.HTML object>"
      ]
     },
     "metadata": {},
     "output_type": "display_data"
    },
    {
     "name": "stdout",
     "output_type": "stream",
     "text": [
      "<IPython.core.display.HTML object>\n",
      "Raw review: utterly absorbing \n",
      "GT target: 1\n",
      "word attr tensor([ 0.1808, -0.3295, -0.7829, -0.4958], device='cuda:0')\n",
      "conti attr [tensor(0.1808, device='cuda:0'), tensor(-0.3295, device='cuda:0'), tensor(-0.7829, device='cuda:0'), tensor(-0.4958, device='cuda:0')]\n",
      "detokenized ['[CLS]', 'utterly', 'absorbing', '[SEP]']\n",
      "len conti_raw 4\n",
      "conti_raw ['[CLS]', 'utterly', 'absorbing', '[SEP]']\n"
     ]
    },
    {
     "data": {
      "text/html": [
       "<table width: 100%><div style=\"border-top: 1px solid; margin-top: 5px;             padding-top: 5px; display: inline-block\"><b>Legend: </b><span style=\"display: inline-block; width: 10px; height: 10px;                 border: 1px solid; background-color:                 hsl(0, 75%, 60%)\"></span> Negative  <span style=\"display: inline-block; width: 10px; height: 10px;                 border: 1px solid; background-color:                 hsl(0, 75%, 100%)\"></span> Neutral  <span style=\"display: inline-block; width: 10px; height: 10px;                 border: 1px solid; background-color:                 hsl(120, 75%, 50%)\"></span> Positive  </div><tr><th>True Label</th><th>Predicted Label</th><th>Attribution Label</th><th>Attribution Score</th><th>Word Importance</th><tr><td><text style=\"padding-right:2em\"><b>Pos</b></text></td><td><text style=\"padding-right:2em\"><b>Pos (0.97)</b></text></td><td><text style=\"padding-right:2em\"><b>Neg</b></text></td><td><text style=\"padding-right:2em\"><b>-1.43</b></text></td><td><mark style=\"background-color: hsl(120, 75%, 91%); opacity:1.0;                     line-height:1.75\"><font color=\"black\"> [CLS]                    </font></mark><mark style=\"background-color: hsl(0, 75%, 87%); opacity:1.0;                     line-height:1.75\"><font color=\"black\"> utterly                    </font></mark><mark style=\"background-color: hsl(0, 75%, 69%); opacity:1.0;                     line-height:1.75\"><font color=\"black\"> absorbing                    </font></mark><mark style=\"background-color: hsl(0, 75%, 81%); opacity:1.0;                     line-height:1.75\"><font color=\"black\"> [SEP]                    </font></mark></td><tr></table>"
      ],
      "text/plain": [
       "<IPython.core.display.HTML object>"
      ]
     },
     "metadata": {},
     "output_type": "display_data"
    },
    {
     "name": "stdout",
     "output_type": "stream",
     "text": [
      "<IPython.core.display.HTML object>\n",
      "Raw review: restate \n",
      "GT target: 0\n",
      "word attr tensor([-0.7425, -0.5723,  0.0309, -0.3466], device='cuda:0')\n",
      "conti attr [tensor(-0.7425, device='cuda:0'), tensor(-0.2707, device='cuda:0'), tensor(-0.3466, device='cuda:0')]\n",
      "detokenized ['[CLS]', 'rest', 'ate', '[SEP]']\n",
      "len conti_raw 3\n",
      "conti_raw ['[CLS]', 'restate', '[SEP]']\n"
     ]
    },
    {
     "data": {
      "text/html": [
       "<table width: 100%><div style=\"border-top: 1px solid; margin-top: 5px;             padding-top: 5px; display: inline-block\"><b>Legend: </b><span style=\"display: inline-block; width: 10px; height: 10px;                 border: 1px solid; background-color:                 hsl(0, 75%, 60%)\"></span> Negative  <span style=\"display: inline-block; width: 10px; height: 10px;                 border: 1px solid; background-color:                 hsl(0, 75%, 100%)\"></span> Neutral  <span style=\"display: inline-block; width: 10px; height: 10px;                 border: 1px solid; background-color:                 hsl(120, 75%, 50%)\"></span> Positive  </div><tr><th>True Label</th><th>Predicted Label</th><th>Attribution Label</th><th>Attribution Score</th><th>Word Importance</th><tr><td><text style=\"padding-right:2em\"><b>Neg</b></text></td><td><text style=\"padding-right:2em\"><b>Pos (0.55)</b></text></td><td><text style=\"padding-right:2em\"><b>Neg</b></text></td><td><text style=\"padding-right:2em\"><b>-1.63</b></text></td><td><mark style=\"background-color: hsl(0, 75%, 71%); opacity:1.0;                     line-height:1.75\"><font color=\"black\"> [CLS]                    </font></mark><mark style=\"background-color: hsl(0, 75%, 78%); opacity:1.0;                     line-height:1.75\"><font color=\"black\"> restate                    </font></mark><mark style=\"background-color: hsl(120, 75%, 99%); opacity:1.0;                     line-height:1.75\"><font color=\"black\"> [SEP]                    </font></mark></td><tr></table>"
      ],
      "text/plain": [
       "<IPython.core.display.HTML object>"
      ]
     },
     "metadata": {},
     "output_type": "display_data"
    },
    {
     "name": "stdout",
     "output_type": "stream",
     "text": [
      "<IPython.core.display.HTML object>\n",
      "Raw review: bears about as much resemblance to the experiences of most battered women as spider-man \n",
      "GT target: 0\n",
      "word attr tensor([ 0.4188,  0.0860,  0.2456,  0.2400,  0.0066,  0.1543,  0.1532, -0.1212,\n",
      "         0.5021,  0.0533,  0.0875,  0.2815,  0.4947,  0.0180,  0.0176,  0.2115,\n",
      "         0.0056,  0.0724], device='cuda:0')\n",
      "conti attr [tensor(0.4188, device='cuda:0'), tensor(0.0860, device='cuda:0'), tensor(0.2456, device='cuda:0'), tensor(0.2400, device='cuda:0'), tensor(0.0066, device='cuda:0'), tensor(0.1543, device='cuda:0'), tensor(0.1532, device='cuda:0'), tensor(-0.1212, device='cuda:0'), tensor(0.5021, device='cuda:0'), tensor(0.0533, device='cuda:0'), tensor(0.0875, device='cuda:0'), tensor(0.2815, device='cuda:0'), tensor(0.4947, device='cuda:0'), tensor(0.0180, device='cuda:0'), tensor(0.0600, device='cuda:0'), tensor(0.0724, device='cuda:0')]\n",
      "detokenized ['[CLS]', 'bears', 'about', 'as', 'much', 'resemblance', 'to', 'the', 'experiences', 'of', 'most', 'battered', 'women', 'as', 'spider', '-', 'man', '[SEP]']\n",
      "len conti_raw 16\n",
      "conti_raw ['[CLS]', 'bears', 'about', 'as', 'much', 'resemblance', 'to', 'the', 'experiences', 'of', 'most', 'battered', 'women', 'as', 'spider-man', '[SEP]']\n"
     ]
    },
    {
     "data": {
      "text/html": [
       "<table width: 100%><div style=\"border-top: 1px solid; margin-top: 5px;             padding-top: 5px; display: inline-block\"><b>Legend: </b><span style=\"display: inline-block; width: 10px; height: 10px;                 border: 1px solid; background-color:                 hsl(0, 75%, 60%)\"></span> Negative  <span style=\"display: inline-block; width: 10px; height: 10px;                 border: 1px solid; background-color:                 hsl(0, 75%, 100%)\"></span> Neutral  <span style=\"display: inline-block; width: 10px; height: 10px;                 border: 1px solid; background-color:                 hsl(120, 75%, 50%)\"></span> Positive  </div><tr><th>True Label</th><th>Predicted Label</th><th>Attribution Label</th><th>Attribution Score</th><th>Word Importance</th><tr><td><text style=\"padding-right:2em\"><b>Neg</b></text></td><td><text style=\"padding-right:2em\"><b>Pos (0.71)</b></text></td><td><text style=\"padding-right:2em\"><b>Pos</b></text></td><td><text style=\"padding-right:2em\"><b>2.93</b></text></td><td><mark style=\"background-color: hsl(120, 75%, 80%); opacity:1.0;                     line-height:1.75\"><font color=\"black\"> [CLS]                    </font></mark><mark style=\"background-color: hsl(120, 75%, 96%); opacity:1.0;                     line-height:1.75\"><font color=\"black\"> bears                    </font></mark><mark style=\"background-color: hsl(120, 75%, 88%); opacity:1.0;                     line-height:1.75\"><font color=\"black\"> about                    </font></mark><mark style=\"background-color: hsl(120, 75%, 88%); opacity:1.0;                     line-height:1.75\"><font color=\"black\"> as                    </font></mark><mark style=\"background-color: hsl(120, 75%, 100%); opacity:1.0;                     line-height:1.75\"><font color=\"black\"> much                    </font></mark><mark style=\"background-color: hsl(120, 75%, 93%); opacity:1.0;                     line-height:1.75\"><font color=\"black\"> resemblance                    </font></mark><mark style=\"background-color: hsl(120, 75%, 93%); opacity:1.0;                     line-height:1.75\"><font color=\"black\"> to                    </font></mark><mark style=\"background-color: hsl(0, 75%, 96%); opacity:1.0;                     line-height:1.75\"><font color=\"black\"> the                    </font></mark><mark style=\"background-color: hsl(120, 75%, 75%); opacity:1.0;                     line-height:1.75\"><font color=\"black\"> experiences                    </font></mark><mark style=\"background-color: hsl(120, 75%, 98%); opacity:1.0;                     line-height:1.75\"><font color=\"black\"> of                    </font></mark><mark style=\"background-color: hsl(120, 75%, 96%); opacity:1.0;                     line-height:1.75\"><font color=\"black\"> most                    </font></mark><mark style=\"background-color: hsl(120, 75%, 86%); opacity:1.0;                     line-height:1.75\"><font color=\"black\"> battered                    </font></mark><mark style=\"background-color: hsl(120, 75%, 76%); opacity:1.0;                     line-height:1.75\"><font color=\"black\"> women                    </font></mark><mark style=\"background-color: hsl(120, 75%, 100%); opacity:1.0;                     line-height:1.75\"><font color=\"black\"> as                    </font></mark><mark style=\"background-color: hsl(120, 75%, 100%); opacity:1.0;                     line-height:1.75\"><font color=\"black\"> spider-man                    </font></mark><mark style=\"background-color: hsl(120, 75%, 90%); opacity:1.0;                     line-height:1.75\"><font color=\"black\"> [SEP]                    </font></mark></td><tr></table>"
      ],
      "text/plain": [
       "<IPython.core.display.HTML object>"
      ]
     },
     "metadata": {},
     "output_type": "display_data"
    },
    {
     "name": "stdout",
     "output_type": "stream",
     "text": [
      "<IPython.core.display.HTML object>\n",
      "Raw review: expressively performed \n",
      "GT target: 1\n",
      "word attr tensor([-0.6858,  0.0501,  0.2264,  0.6590,  0.2040], device='cuda:0')\n",
      "conti attr [tensor(-0.6858, device='cuda:0'), tensor(0.1383, device='cuda:0'), tensor(0.6590, device='cuda:0'), tensor(0.2040, device='cuda:0')]\n",
      "detokenized ['[CLS]', 'expressive', 'ly', 'performed', '[SEP]']\n",
      "len conti_raw 4\n",
      "conti_raw ['[CLS]', 'expressively', 'performed', '[SEP]']\n"
     ]
    },
    {
     "data": {
      "text/html": [
       "<table width: 100%><div style=\"border-top: 1px solid; margin-top: 5px;             padding-top: 5px; display: inline-block\"><b>Legend: </b><span style=\"display: inline-block; width: 10px; height: 10px;                 border: 1px solid; background-color:                 hsl(0, 75%, 60%)\"></span> Negative  <span style=\"display: inline-block; width: 10px; height: 10px;                 border: 1px solid; background-color:                 hsl(0, 75%, 100%)\"></span> Neutral  <span style=\"display: inline-block; width: 10px; height: 10px;                 border: 1px solid; background-color:                 hsl(120, 75%, 50%)\"></span> Positive  </div><tr><th>True Label</th><th>Predicted Label</th><th>Attribution Label</th><th>Attribution Score</th><th>Word Importance</th><tr><td><text style=\"padding-right:2em\"><b>Pos</b></text></td><td><text style=\"padding-right:2em\"><b>Pos (0.98)</b></text></td><td><text style=\"padding-right:2em\"><b>Neg</b></text></td><td><text style=\"padding-right:2em\"><b>0.45</b></text></td><td><mark style=\"background-color: hsl(0, 75%, 73%); opacity:1.0;                     line-height:1.75\"><font color=\"black\"> [CLS]                    </font></mark><mark style=\"background-color: hsl(120, 75%, 98%); opacity:1.0;                     line-height:1.75\"><font color=\"black\"> expressively                    </font></mark><mark style=\"background-color: hsl(120, 75%, 89%); opacity:1.0;                     line-height:1.75\"><font color=\"black\"> performed                    </font></mark><mark style=\"background-color: hsl(120, 75%, 68%); opacity:1.0;                     line-height:1.75\"><font color=\"black\"> [SEP]                    </font></mark></td><tr></table>"
      ],
      "text/plain": [
       "<IPython.core.display.HTML object>"
      ]
     },
     "metadata": {},
     "output_type": "display_data"
    },
    {
     "name": "stdout",
     "output_type": "stream",
     "text": [
      "<IPython.core.display.HTML object>\n",
      "Raw review: the acting is amateurish , the cinematography is atrocious \n",
      "GT target: 0\n",
      "word attr tensor([ 0.7112,  0.0170, -0.0680,  0.0044,  0.3209, -0.1130,  0.1644,  0.1448,\n",
      "        -0.1912, -0.1428,  0.3412,  0.1532,  0.0456, -0.3558], device='cuda:0')\n",
      "conti attr [tensor(0.7112, device='cuda:0'), tensor(0.0170, device='cuda:0'), tensor(-0.0680, device='cuda:0'), tensor(0.0044, device='cuda:0'), tensor(0.1039, device='cuda:0'), tensor(0.1644, device='cuda:0'), tensor(0.1448, device='cuda:0'), tensor(-0.1912, device='cuda:0'), tensor(-0.1428, device='cuda:0'), tensor(0.1464, device='cuda:0'), tensor(-0.3558, device='cuda:0')]\n",
      "detokenized ['[CLS]', 'the', 'acting', 'is', 'amateur', 'ish', ',', 'the', 'cinematography', 'is', 'at', 'ro', 'cious', '[SEP]']\n",
      "len conti_raw 11\n",
      "conti_raw ['[CLS]', 'the', 'acting', 'is', 'amateurish', ',', 'the', 'cinematography', 'is', 'atrocious', '[SEP]']\n"
     ]
    },
    {
     "data": {
      "text/html": [
       "<table width: 100%><div style=\"border-top: 1px solid; margin-top: 5px;             padding-top: 5px; display: inline-block\"><b>Legend: </b><span style=\"display: inline-block; width: 10px; height: 10px;                 border: 1px solid; background-color:                 hsl(0, 75%, 60%)\"></span> Negative  <span style=\"display: inline-block; width: 10px; height: 10px;                 border: 1px solid; background-color:                 hsl(0, 75%, 100%)\"></span> Neutral  <span style=\"display: inline-block; width: 10px; height: 10px;                 border: 1px solid; background-color:                 hsl(120, 75%, 50%)\"></span> Positive  </div><tr><th>True Label</th><th>Predicted Label</th><th>Attribution Label</th><th>Attribution Score</th><th>Word Importance</th><tr><td><text style=\"padding-right:2em\"><b>Neg</b></text></td><td><text style=\"padding-right:2em\"><b>Neg (0.03)</b></text></td><td><text style=\"padding-right:2em\"><b>Pos</b></text></td><td><text style=\"padding-right:2em\"><b>1.03</b></text></td><td><mark style=\"background-color: hsl(120, 75%, 65%); opacity:1.0;                     line-height:1.75\"><font color=\"black\"> [CLS]                    </font></mark><mark style=\"background-color: hsl(120, 75%, 100%); opacity:1.0;                     line-height:1.75\"><font color=\"black\"> the                    </font></mark><mark style=\"background-color: hsl(0, 75%, 98%); opacity:1.0;                     line-height:1.75\"><font color=\"black\"> acting                    </font></mark><mark style=\"background-color: hsl(120, 75%, 100%); opacity:1.0;                     line-height:1.75\"><font color=\"black\"> is                    </font></mark><mark style=\"background-color: hsl(120, 75%, 84%); opacity:1.0;                     line-height:1.75\"><font color=\"black\"> amateurish                    </font></mark><mark style=\"background-color: hsl(0, 75%, 96%); opacity:1.0;                     line-height:1.75\"><font color=\"black\"> ,                    </font></mark><mark style=\"background-color: hsl(120, 75%, 92%); opacity:1.0;                     line-height:1.75\"><font color=\"black\"> the                    </font></mark><mark style=\"background-color: hsl(120, 75%, 93%); opacity:1.0;                     line-height:1.75\"><font color=\"black\"> cinematography                    </font></mark><mark style=\"background-color: hsl(0, 75%, 93%); opacity:1.0;                     line-height:1.75\"><font color=\"black\"> is                    </font></mark><mark style=\"background-color: hsl(0, 75%, 95%); opacity:1.0;                     line-height:1.75\"><font color=\"black\"> atrocious                    </font></mark><mark style=\"background-color: hsl(120, 75%, 83%); opacity:1.0;                     line-height:1.75\"><font color=\"black\"> [SEP]                    </font></mark></td><tr></table>"
      ],
      "text/plain": [
       "<IPython.core.display.HTML object>"
      ]
     },
     "metadata": {},
     "output_type": "display_data"
    },
    {
     "name": "stdout",
     "output_type": "stream",
     "text": [
      "<IPython.core.display.HTML object>\n",
      "Raw review: solidly constructed \n",
      "GT target: 1\n",
      "word attr tensor([-0.4025,  0.0574,  0.0750, -0.9014,  0.1288], device='cuda:0')\n",
      "conti attr [tensor(-0.4025, device='cuda:0'), tensor(0.0662, device='cuda:0'), tensor(-0.9014, device='cuda:0'), tensor(0.1288, device='cuda:0')]\n",
      "detokenized ['[CLS]', 'solid', 'ly', 'constructed', '[SEP]']\n",
      "len conti_raw 4\n",
      "conti_raw ['[CLS]', 'solidly', 'constructed', '[SEP]']\n"
     ]
    },
    {
     "data": {
      "text/html": [
       "<table width: 100%><div style=\"border-top: 1px solid; margin-top: 5px;             padding-top: 5px; display: inline-block\"><b>Legend: </b><span style=\"display: inline-block; width: 10px; height: 10px;                 border: 1px solid; background-color:                 hsl(0, 75%, 60%)\"></span> Negative  <span style=\"display: inline-block; width: 10px; height: 10px;                 border: 1px solid; background-color:                 hsl(0, 75%, 100%)\"></span> Neutral  <span style=\"display: inline-block; width: 10px; height: 10px;                 border: 1px solid; background-color:                 hsl(120, 75%, 50%)\"></span> Positive  </div><tr><th>True Label</th><th>Predicted Label</th><th>Attribution Label</th><th>Attribution Score</th><th>Word Importance</th><tr><td><text style=\"padding-right:2em\"><b>Pos</b></text></td><td><text style=\"padding-right:2em\"><b>Pos (0.97)</b></text></td><td><text style=\"padding-right:2em\"><b>Neg</b></text></td><td><text style=\"padding-right:2em\"><b>-1.04</b></text></td><td><mark style=\"background-color: hsl(0, 75%, 84%); opacity:1.0;                     line-height:1.75\"><font color=\"black\"> [CLS]                    </font></mark><mark style=\"background-color: hsl(120, 75%, 98%); opacity:1.0;                     line-height:1.75\"><font color=\"black\"> solidly                    </font></mark><mark style=\"background-color: hsl(120, 75%, 97%); opacity:1.0;                     line-height:1.75\"><font color=\"black\"> constructed                    </font></mark><mark style=\"background-color: hsl(0, 75%, 64%); opacity:1.0;                     line-height:1.75\"><font color=\"black\"> [SEP]                    </font></mark></td><tr></table>"
      ],
      "text/plain": [
       "<IPython.core.display.HTML object>"
      ]
     },
     "metadata": {},
     "output_type": "display_data"
    },
    {
     "name": "stdout",
     "output_type": "stream",
     "text": [
      "<IPython.core.display.HTML object>\n",
      "Raw review: are undermined by the movie 's presentation , which is way too stagy \n",
      "GT target: 0\n",
      "word attr tensor([-0.3194,  0.3201, -0.5906,  0.0606,  0.1568, -0.2637,  0.0541,  0.0947,\n",
      "         0.1024, -0.1716, -0.2222,  0.1014, -0.0257, -0.2292,  0.1326,  0.1055,\n",
      "         0.1072, -0.3767,  0.0462], device='cuda:0')\n",
      "conti attr [tensor(-0.3194, device='cuda:0'), tensor(0.3201, device='cuda:0'), tensor(-0.2650, device='cuda:0'), tensor(0.1568, device='cuda:0'), tensor(-0.2637, device='cuda:0'), tensor(0.0541, device='cuda:0'), tensor(0.0986, device='cuda:0'), tensor(-0.1716, device='cuda:0'), tensor(-0.2222, device='cuda:0'), tensor(0.1014, device='cuda:0'), tensor(-0.0257, device='cuda:0'), tensor(-0.2292, device='cuda:0'), tensor(0.1326, device='cuda:0'), tensor(-0.1352, device='cuda:0'), tensor(0.0462, device='cuda:0')]\n",
      "detokenized ['[CLS]', 'are', 'undermine', 'd', 'by', 'the', 'movie', \"'\", 's', 'presentation', ',', 'which', 'is', 'way', 'too', 'st', 'ag', 'y', '[SEP]']\n",
      "len conti_raw 15\n",
      "conti_raw ['[CLS]', 'are', 'undermined', 'by', 'the', 'movie', \"'s\", 'presentation', ',', 'which', 'is', 'way', 'too', 'stagy', '[SEP]']\n"
     ]
    },
    {
     "data": {
      "text/html": [
       "<table width: 100%><div style=\"border-top: 1px solid; margin-top: 5px;             padding-top: 5px; display: inline-block\"><b>Legend: </b><span style=\"display: inline-block; width: 10px; height: 10px;                 border: 1px solid; background-color:                 hsl(0, 75%, 60%)\"></span> Negative  <span style=\"display: inline-block; width: 10px; height: 10px;                 border: 1px solid; background-color:                 hsl(0, 75%, 100%)\"></span> Neutral  <span style=\"display: inline-block; width: 10px; height: 10px;                 border: 1px solid; background-color:                 hsl(120, 75%, 50%)\"></span> Positive  </div><tr><th>True Label</th><th>Predicted Label</th><th>Attribution Label</th><th>Attribution Score</th><th>Word Importance</th><tr><td><text style=\"padding-right:2em\"><b>Neg</b></text></td><td><text style=\"padding-right:2em\"><b>Neg (0.04)</b></text></td><td><text style=\"padding-right:2em\"><b>Neg</b></text></td><td><text style=\"padding-right:2em\"><b>-0.92</b></text></td><td><mark style=\"background-color: hsl(0, 75%, 88%); opacity:1.0;                     line-height:1.75\"><font color=\"black\"> [CLS]                    </font></mark><mark style=\"background-color: hsl(120, 75%, 84%); opacity:1.0;                     line-height:1.75\"><font color=\"black\"> are                    </font></mark><mark style=\"background-color: hsl(0, 75%, 77%); opacity:1.0;                     line-height:1.75\"><font color=\"black\"> undermined                    </font></mark><mark style=\"background-color: hsl(120, 75%, 97%); opacity:1.0;                     line-height:1.75\"><font color=\"black\"> by                    </font></mark><mark style=\"background-color: hsl(120, 75%, 93%); opacity:1.0;                     line-height:1.75\"><font color=\"black\"> the                    </font></mark><mark style=\"background-color: hsl(0, 75%, 90%); opacity:1.0;                     line-height:1.75\"><font color=\"black\"> movie                    </font></mark><mark style=\"background-color: hsl(120, 75%, 98%); opacity:1.0;                     line-height:1.75\"><font color=\"black\"> 's                    </font></mark><mark style=\"background-color: hsl(120, 75%, 96%); opacity:1.0;                     line-height:1.75\"><font color=\"black\"> presentation                    </font></mark><mark style=\"background-color: hsl(120, 75%, 95%); opacity:1.0;                     line-height:1.75\"><font color=\"black\"> ,                    </font></mark><mark style=\"background-color: hsl(0, 75%, 94%); opacity:1.0;                     line-height:1.75\"><font color=\"black\"> which                    </font></mark><mark style=\"background-color: hsl(0, 75%, 92%); opacity:1.0;                     line-height:1.75\"><font color=\"black\"> is                    </font></mark><mark style=\"background-color: hsl(120, 75%, 95%); opacity:1.0;                     line-height:1.75\"><font color=\"black\"> way                    </font></mark><mark style=\"background-color: hsl(0, 75%, 99%); opacity:1.0;                     line-height:1.75\"><font color=\"black\"> too                    </font></mark><mark style=\"background-color: hsl(0, 75%, 91%); opacity:1.0;                     line-height:1.75\"><font color=\"black\"> stagy                    </font></mark><mark style=\"background-color: hsl(120, 75%, 94%); opacity:1.0;                     line-height:1.75\"><font color=\"black\"> [SEP]                    </font></mark></td><tr></table>"
      ],
      "text/plain": [
       "<IPython.core.display.HTML object>"
      ]
     },
     "metadata": {},
     "output_type": "display_data"
    },
    {
     "name": "stdout",
     "output_type": "stream",
     "text": [
      "<IPython.core.display.HTML object>\n",
      "Raw review: a great film \n",
      "GT target: 1\n",
      "word attr tensor([ 0.0568,  0.0425,  0.8763,  0.3669, -0.3041], device='cuda:0')\n",
      "conti attr [tensor(0.0568, device='cuda:0'), tensor(0.0425, device='cuda:0'), tensor(0.8763, device='cuda:0'), tensor(0.3669, device='cuda:0'), tensor(-0.3041, device='cuda:0')]\n",
      "detokenized ['[CLS]', 'a', 'great', 'film', '[SEP]']\n",
      "len conti_raw 5\n",
      "conti_raw ['[CLS]', 'a', 'great', 'film', '[SEP]']\n"
     ]
    },
    {
     "data": {
      "text/html": [
       "<table width: 100%><div style=\"border-top: 1px solid; margin-top: 5px;             padding-top: 5px; display: inline-block\"><b>Legend: </b><span style=\"display: inline-block; width: 10px; height: 10px;                 border: 1px solid; background-color:                 hsl(0, 75%, 60%)\"></span> Negative  <span style=\"display: inline-block; width: 10px; height: 10px;                 border: 1px solid; background-color:                 hsl(0, 75%, 100%)\"></span> Neutral  <span style=\"display: inline-block; width: 10px; height: 10px;                 border: 1px solid; background-color:                 hsl(120, 75%, 50%)\"></span> Positive  </div><tr><th>True Label</th><th>Predicted Label</th><th>Attribution Label</th><th>Attribution Score</th><th>Word Importance</th><tr><td><text style=\"padding-right:2em\"><b>Pos</b></text></td><td><text style=\"padding-right:2em\"><b>Pos (0.97)</b></text></td><td><text style=\"padding-right:2em\"><b>Pos</b></text></td><td><text style=\"padding-right:2em\"><b>1.04</b></text></td><td><mark style=\"background-color: hsl(120, 75%, 98%); opacity:1.0;                     line-height:1.75\"><font color=\"black\"> [CLS]                    </font></mark><mark style=\"background-color: hsl(120, 75%, 98%); opacity:1.0;                     line-height:1.75\"><font color=\"black\"> a                    </font></mark><mark style=\"background-color: hsl(120, 75%, 57%); opacity:1.0;                     line-height:1.75\"><font color=\"black\"> great                    </font></mark><mark style=\"background-color: hsl(120, 75%, 82%); opacity:1.0;                     line-height:1.75\"><font color=\"black\"> film                    </font></mark><mark style=\"background-color: hsl(0, 75%, 88%); opacity:1.0;                     line-height:1.75\"><font color=\"black\"> [SEP]                    </font></mark></td><tr></table>"
      ],
      "text/plain": [
       "<IPython.core.display.HTML object>"
      ]
     },
     "metadata": {},
     "output_type": "display_data"
    },
    {
     "name": "stdout",
     "output_type": "stream",
     "text": [
      "<IPython.core.display.HTML object>\n",
      "Raw review: charm \n",
      "GT target: 1\n",
      "word attr tensor([-0.3845, -0.8046, -0.4525], device='cuda:0')\n",
      "conti attr [tensor(-0.3845, device='cuda:0'), tensor(-0.8046, device='cuda:0'), tensor(-0.4525, device='cuda:0')]\n",
      "detokenized ['[CLS]', 'charm', '[SEP]']\n",
      "len conti_raw 3\n",
      "conti_raw ['[CLS]', 'charm', '[SEP]']\n"
     ]
    },
    {
     "data": {
      "text/html": [
       "<table width: 100%><div style=\"border-top: 1px solid; margin-top: 5px;             padding-top: 5px; display: inline-block\"><b>Legend: </b><span style=\"display: inline-block; width: 10px; height: 10px;                 border: 1px solid; background-color:                 hsl(0, 75%, 60%)\"></span> Negative  <span style=\"display: inline-block; width: 10px; height: 10px;                 border: 1px solid; background-color:                 hsl(0, 75%, 100%)\"></span> Neutral  <span style=\"display: inline-block; width: 10px; height: 10px;                 border: 1px solid; background-color:                 hsl(120, 75%, 50%)\"></span> Positive  </div><tr><th>True Label</th><th>Predicted Label</th><th>Attribution Label</th><th>Attribution Score</th><th>Word Importance</th><tr><td><text style=\"padding-right:2em\"><b>Pos</b></text></td><td><text style=\"padding-right:2em\"><b>Pos (0.97)</b></text></td><td><text style=\"padding-right:2em\"><b>Neg</b></text></td><td><text style=\"padding-right:2em\"><b>-1.64</b></text></td><td><mark style=\"background-color: hsl(0, 75%, 85%); opacity:1.0;                     line-height:1.75\"><font color=\"black\"> [CLS]                    </font></mark><mark style=\"background-color: hsl(0, 75%, 68%); opacity:1.0;                     line-height:1.75\"><font color=\"black\"> charm                    </font></mark><mark style=\"background-color: hsl(0, 75%, 82%); opacity:1.0;                     line-height:1.75\"><font color=\"black\"> [SEP]                    </font></mark></td><tr></table>"
      ],
      "text/plain": [
       "<IPython.core.display.HTML object>"
      ]
     },
     "metadata": {},
     "output_type": "display_data"
    },
    {
     "name": "stdout",
     "output_type": "stream",
     "text": [
      "<IPython.core.display.HTML object>\n",
      "Raw review: this new jangle of noise , mayhem and stupidity \n",
      "GT target: 0\n",
      "word attr tensor([-0.7127, -0.0517, -0.1028,  0.3309,  0.0687,  0.0967,  0.2244, -0.1516,\n",
      "         0.2402,  0.0147,  0.4717,  0.0388], device='cuda:0')\n",
      "conti attr [tensor(-0.7127, device='cuda:0'), tensor(-0.0517, device='cuda:0'), tensor(-0.1028, device='cuda:0'), tensor(0.1998, device='cuda:0'), tensor(0.0967, device='cuda:0'), tensor(0.2244, device='cuda:0'), tensor(-0.1516, device='cuda:0'), tensor(0.2402, device='cuda:0'), tensor(0.0147, device='cuda:0'), tensor(0.4717, device='cuda:0'), tensor(0.0388, device='cuda:0')]\n",
      "detokenized ['[CLS]', 'this', 'new', 'jang', 'le', 'of', 'noise', ',', 'mayhem', 'and', 'stupidity', '[SEP]']\n",
      "len conti_raw 11\n",
      "conti_raw ['[CLS]', 'this', 'new', 'jangle', 'of', 'noise', ',', 'mayhem', 'and', 'stupidity', '[SEP]']\n"
     ]
    },
    {
     "data": {
      "text/html": [
       "<table width: 100%><div style=\"border-top: 1px solid; margin-top: 5px;             padding-top: 5px; display: inline-block\"><b>Legend: </b><span style=\"display: inline-block; width: 10px; height: 10px;                 border: 1px solid; background-color:                 hsl(0, 75%, 60%)\"></span> Negative  <span style=\"display: inline-block; width: 10px; height: 10px;                 border: 1px solid; background-color:                 hsl(0, 75%, 100%)\"></span> Neutral  <span style=\"display: inline-block; width: 10px; height: 10px;                 border: 1px solid; background-color:                 hsl(120, 75%, 50%)\"></span> Positive  </div><tr><th>True Label</th><th>Predicted Label</th><th>Attribution Label</th><th>Attribution Score</th><th>Word Importance</th><tr><td><text style=\"padding-right:2em\"><b>Neg</b></text></td><td><text style=\"padding-right:2em\"><b>Neg (0.09)</b></text></td><td><text style=\"padding-right:2em\"><b>Neg</b></text></td><td><text style=\"padding-right:2em\"><b>0.47</b></text></td><td><mark style=\"background-color: hsl(0, 75%, 72%); opacity:1.0;                     line-height:1.75\"><font color=\"black\"> [CLS]                    </font></mark><mark style=\"background-color: hsl(0, 75%, 98%); opacity:1.0;                     line-height:1.75\"><font color=\"black\"> this                    </font></mark><mark style=\"background-color: hsl(0, 75%, 96%); opacity:1.0;                     line-height:1.75\"><font color=\"black\"> new                    </font></mark><mark style=\"background-color: hsl(120, 75%, 84%); opacity:1.0;                     line-height:1.75\"><font color=\"black\"> jangle                    </font></mark><mark style=\"background-color: hsl(120, 75%, 97%); opacity:1.0;                     line-height:1.75\"><font color=\"black\"> of                    </font></mark><mark style=\"background-color: hsl(120, 75%, 96%); opacity:1.0;                     line-height:1.75\"><font color=\"black\"> noise                    </font></mark><mark style=\"background-color: hsl(120, 75%, 89%); opacity:1.0;                     line-height:1.75\"><font color=\"black\"> ,                    </font></mark><mark style=\"background-color: hsl(0, 75%, 94%); opacity:1.0;                     line-height:1.75\"><font color=\"black\"> mayhem                    </font></mark><mark style=\"background-color: hsl(120, 75%, 88%); opacity:1.0;                     line-height:1.75\"><font color=\"black\"> and                    </font></mark><mark style=\"background-color: hsl(120, 75%, 100%); opacity:1.0;                     line-height:1.75\"><font color=\"black\"> stupidity                    </font></mark><mark style=\"background-color: hsl(120, 75%, 77%); opacity:1.0;                     line-height:1.75\"><font color=\"black\"> [SEP]                    </font></mark></td><tr></table>"
      ],
      "text/plain": [
       "<IPython.core.display.HTML object>"
      ]
     },
     "metadata": {},
     "output_type": "display_data"
    },
    {
     "name": "stdout",
     "output_type": "stream",
     "text": [
      "<IPython.core.display.HTML object>\n",
      "Raw review: sustains it \n",
      "GT target: 1\n",
      "word attr tensor([-0.3333, -0.7091, -0.2649, -0.4913, -0.2730], device='cuda:0')\n",
      "conti attr [tensor(-0.3333, device='cuda:0'), tensor(-0.4870, device='cuda:0'), tensor(-0.4913, device='cuda:0'), tensor(-0.2730, device='cuda:0')]\n",
      "detokenized ['[CLS]', 'sustain', 's', 'it', '[SEP]']\n",
      "len conti_raw 4\n",
      "conti_raw ['[CLS]', 'sustains', 'it', '[SEP]']\n"
     ]
    },
    {
     "data": {
      "text/html": [
       "<table width: 100%><div style=\"border-top: 1px solid; margin-top: 5px;             padding-top: 5px; display: inline-block\"><b>Legend: </b><span style=\"display: inline-block; width: 10px; height: 10px;                 border: 1px solid; background-color:                 hsl(0, 75%, 60%)\"></span> Negative  <span style=\"display: inline-block; width: 10px; height: 10px;                 border: 1px solid; background-color:                 hsl(0, 75%, 100%)\"></span> Neutral  <span style=\"display: inline-block; width: 10px; height: 10px;                 border: 1px solid; background-color:                 hsl(120, 75%, 50%)\"></span> Positive  </div><tr><th>True Label</th><th>Predicted Label</th><th>Attribution Label</th><th>Attribution Score</th><th>Word Importance</th><tr><td><text style=\"padding-right:2em\"><b>Pos</b></text></td><td><text style=\"padding-right:2em\"><b>Pos (0.97)</b></text></td><td><text style=\"padding-right:2em\"><b>Neg</b></text></td><td><text style=\"padding-right:2em\"><b>-2.07</b></text></td><td><mark style=\"background-color: hsl(0, 75%, 87%); opacity:1.0;                     line-height:1.75\"><font color=\"black\"> [CLS]                    </font></mark><mark style=\"background-color: hsl(0, 75%, 72%); opacity:1.0;                     line-height:1.75\"><font color=\"black\"> sustains                    </font></mark><mark style=\"background-color: hsl(0, 75%, 90%); opacity:1.0;                     line-height:1.75\"><font color=\"black\"> it                    </font></mark><mark style=\"background-color: hsl(0, 75%, 81%); opacity:1.0;                     line-height:1.75\"><font color=\"black\"> [SEP]                    </font></mark></td><tr></table>"
      ],
      "text/plain": [
       "<IPython.core.display.HTML object>"
      ]
     },
     "metadata": {},
     "output_type": "display_data"
    },
    {
     "name": "stdout",
     "output_type": "stream",
     "text": [
      "<IPython.core.display.HTML object>\n",
      "Raw review: is so deadly dull that watching the proverbial paint dry would be a welcome improvement . \n",
      "GT target: 0\n",
      "word attr tensor([-0.7165, -0.0856, -0.0487,  0.0591, -0.1080, -0.0752, -0.2472,  0.0684,\n",
      "        -0.0422,  0.2285, -0.1903, -0.1216, -0.2095,  0.0949, -0.0866,  0.1275,\n",
      "        -0.1628,  0.0888, -0.4168, -0.0251], device='cuda:0')\n",
      "conti attr [tensor(-0.7165, device='cuda:0'), tensor(-0.0856, device='cuda:0'), tensor(-0.0487, device='cuda:0'), tensor(0.0591, device='cuda:0'), tensor(-0.1080, device='cuda:0'), tensor(-0.0752, device='cuda:0'), tensor(-0.2472, device='cuda:0'), tensor(0.0684, device='cuda:0'), tensor(-0.0486, device='cuda:0'), tensor(-0.1216, device='cuda:0'), tensor(-0.2095, device='cuda:0'), tensor(0.0949, device='cuda:0'), tensor(-0.0866, device='cuda:0'), tensor(0.1275, device='cuda:0'), tensor(-0.1628, device='cuda:0'), tensor(0.0888, device='cuda:0'), tensor(-0.4168, device='cuda:0'), tensor(-0.0251, device='cuda:0')]\n",
      "detokenized ['[CLS]', 'is', 'so', 'deadly', 'dull', 'that', 'watching', 'the', 'prove', 'rb', 'ial', 'paint', 'dry', 'would', 'be', 'a', 'welcome', 'improvement', '.', '[SEP]']\n",
      "len conti_raw 18\n",
      "conti_raw ['[CLS]', 'is', 'so', 'deadly', 'dull', 'that', 'watching', 'the', 'proverbial', 'paint', 'dry', 'would', 'be', 'a', 'welcome', 'improvement', '.', '[SEP]']\n"
     ]
    },
    {
     "data": {
      "text/html": [
       "<table width: 100%><div style=\"border-top: 1px solid; margin-top: 5px;             padding-top: 5px; display: inline-block\"><b>Legend: </b><span style=\"display: inline-block; width: 10px; height: 10px;                 border: 1px solid; background-color:                 hsl(0, 75%, 60%)\"></span> Negative  <span style=\"display: inline-block; width: 10px; height: 10px;                 border: 1px solid; background-color:                 hsl(0, 75%, 100%)\"></span> Neutral  <span style=\"display: inline-block; width: 10px; height: 10px;                 border: 1px solid; background-color:                 hsl(120, 75%, 50%)\"></span> Positive  </div><tr><th>True Label</th><th>Predicted Label</th><th>Attribution Label</th><th>Attribution Score</th><th>Word Importance</th><tr><td><text style=\"padding-right:2em\"><b>Neg</b></text></td><td><text style=\"padding-right:2em\"><b>Neg (0.42)</b></text></td><td><text style=\"padding-right:2em\"><b>Neg</b></text></td><td><text style=\"padding-right:2em\"><b>-1.87</b></text></td><td><mark style=\"background-color: hsl(0, 75%, 72%); opacity:1.0;                     line-height:1.75\"><font color=\"black\"> [CLS]                    </font></mark><mark style=\"background-color: hsl(0, 75%, 97%); opacity:1.0;                     line-height:1.75\"><font color=\"black\"> is                    </font></mark><mark style=\"background-color: hsl(0, 75%, 99%); opacity:1.0;                     line-height:1.75\"><font color=\"black\"> so                    </font></mark><mark style=\"background-color: hsl(120, 75%, 98%); opacity:1.0;                     line-height:1.75\"><font color=\"black\"> deadly                    </font></mark><mark style=\"background-color: hsl(0, 75%, 96%); opacity:1.0;                     line-height:1.75\"><font color=\"black\"> dull                    </font></mark><mark style=\"background-color: hsl(0, 75%, 97%); opacity:1.0;                     line-height:1.75\"><font color=\"black\"> that                    </font></mark><mark style=\"background-color: hsl(0, 75%, 91%); opacity:1.0;                     line-height:1.75\"><font color=\"black\"> watching                    </font></mark><mark style=\"background-color: hsl(120, 75%, 97%); opacity:1.0;                     line-height:1.75\"><font color=\"black\"> the                    </font></mark><mark style=\"background-color: hsl(0, 75%, 99%); opacity:1.0;                     line-height:1.75\"><font color=\"black\"> proverbial                    </font></mark><mark style=\"background-color: hsl(120, 75%, 89%); opacity:1.0;                     line-height:1.75\"><font color=\"black\"> paint                    </font></mark><mark style=\"background-color: hsl(0, 75%, 93%); opacity:1.0;                     line-height:1.75\"><font color=\"black\"> dry                    </font></mark><mark style=\"background-color: hsl(0, 75%, 96%); opacity:1.0;                     line-height:1.75\"><font color=\"black\"> would                    </font></mark><mark style=\"background-color: hsl(0, 75%, 92%); opacity:1.0;                     line-height:1.75\"><font color=\"black\"> be                    </font></mark><mark style=\"background-color: hsl(120, 75%, 96%); opacity:1.0;                     line-height:1.75\"><font color=\"black\"> a                    </font></mark><mark style=\"background-color: hsl(0, 75%, 97%); opacity:1.0;                     line-height:1.75\"><font color=\"black\"> welcome                    </font></mark><mark style=\"background-color: hsl(120, 75%, 94%); opacity:1.0;                     line-height:1.75\"><font color=\"black\"> improvement                    </font></mark><mark style=\"background-color: hsl(0, 75%, 94%); opacity:1.0;                     line-height:1.75\"><font color=\"black\"> .                    </font></mark><mark style=\"background-color: hsl(120, 75%, 96%); opacity:1.0;                     line-height:1.75\"><font color=\"black\"> [SEP]                    </font></mark></td><tr></table>"
      ],
      "text/plain": [
       "<IPython.core.display.HTML object>"
      ]
     },
     "metadata": {},
     "output_type": "display_data"
    },
    {
     "name": "stdout",
     "output_type": "stream",
     "text": [
      "<IPython.core.display.HTML object>\n",
      "Raw review: to accomplish \n",
      "GT target: 1\n",
      "word attr tensor([-0.7762, -0.5959,  0.0575, -0.1977], device='cuda:0')\n",
      "conti attr [tensor(-0.7762, device='cuda:0'), tensor(-0.5959, device='cuda:0'), tensor(0.0575, device='cuda:0'), tensor(-0.1977, device='cuda:0')]\n",
      "detokenized ['[CLS]', 'to', 'accomplish', '[SEP]']\n",
      "len conti_raw 4\n",
      "conti_raw ['[CLS]', 'to', 'accomplish', '[SEP]']\n"
     ]
    },
    {
     "data": {
      "text/html": [
       "<table width: 100%><div style=\"border-top: 1px solid; margin-top: 5px;             padding-top: 5px; display: inline-block\"><b>Legend: </b><span style=\"display: inline-block; width: 10px; height: 10px;                 border: 1px solid; background-color:                 hsl(0, 75%, 60%)\"></span> Negative  <span style=\"display: inline-block; width: 10px; height: 10px;                 border: 1px solid; background-color:                 hsl(0, 75%, 100%)\"></span> Neutral  <span style=\"display: inline-block; width: 10px; height: 10px;                 border: 1px solid; background-color:                 hsl(120, 75%, 50%)\"></span> Positive  </div><tr><th>True Label</th><th>Predicted Label</th><th>Attribution Label</th><th>Attribution Score</th><th>Word Importance</th><tr><td><text style=\"padding-right:2em\"><b>Pos</b></text></td><td><text style=\"padding-right:2em\"><b>Pos (0.97)</b></text></td><td><text style=\"padding-right:2em\"><b>Neg</b></text></td><td><text style=\"padding-right:2em\"><b>-1.51</b></text></td><td><mark style=\"background-color: hsl(0, 75%, 69%); opacity:1.0;                     line-height:1.75\"><font color=\"black\"> [CLS]                    </font></mark><mark style=\"background-color: hsl(0, 75%, 77%); opacity:1.0;                     line-height:1.75\"><font color=\"black\"> to                    </font></mark><mark style=\"background-color: hsl(120, 75%, 98%); opacity:1.0;                     line-height:1.75\"><font color=\"black\"> accomplish                    </font></mark><mark style=\"background-color: hsl(0, 75%, 93%); opacity:1.0;                     line-height:1.75\"><font color=\"black\"> [SEP]                    </font></mark></td><tr></table>"
      ],
      "text/plain": [
       "<IPython.core.display.HTML object>"
      ]
     },
     "metadata": {},
     "output_type": "display_data"
    },
    {
     "name": "stdout",
     "output_type": "stream",
     "text": [
      "<IPython.core.display.HTML object>\n",
      "Raw review: does n't work . \n",
      "GT target: 0\n",
      "word attr tensor([-0.4520,  0.5343,  0.0034,  0.2397,  0.4103, -0.1074,  0.5063,  0.1283],\n",
      "       device='cuda:0')\n",
      "conti attr [tensor(-0.4520, device='cuda:0'), tensor(0.5343, device='cuda:0'), tensor(0.2659, device='cuda:0'), tensor(-0.1074, device='cuda:0'), tensor(0.5063, device='cuda:0'), tensor(0.1283, device='cuda:0')]\n",
      "detokenized ['[CLS]', 'does', 'n', \"'\", 't', 'work', '.', '[SEP]']\n",
      "len conti_raw 6\n",
      "conti_raw ['[CLS]', 'does', \"n't\", 'work', '.', '[SEP]']\n"
     ]
    },
    {
     "data": {
      "text/html": [
       "<table width: 100%><div style=\"border-top: 1px solid; margin-top: 5px;             padding-top: 5px; display: inline-block\"><b>Legend: </b><span style=\"display: inline-block; width: 10px; height: 10px;                 border: 1px solid; background-color:                 hsl(0, 75%, 60%)\"></span> Negative  <span style=\"display: inline-block; width: 10px; height: 10px;                 border: 1px solid; background-color:                 hsl(0, 75%, 100%)\"></span> Neutral  <span style=\"display: inline-block; width: 10px; height: 10px;                 border: 1px solid; background-color:                 hsl(120, 75%, 50%)\"></span> Positive  </div><tr><th>True Label</th><th>Predicted Label</th><th>Attribution Label</th><th>Attribution Score</th><th>Word Importance</th><tr><td><text style=\"padding-right:2em\"><b>Neg</b></text></td><td><text style=\"padding-right:2em\"><b>Neg (0.04)</b></text></td><td><text style=\"padding-right:2em\"><b>Pos</b></text></td><td><text style=\"padding-right:2em\"><b>1.26</b></text></td><td><mark style=\"background-color: hsl(0, 75%, 82%); opacity:1.0;                     line-height:1.75\"><font color=\"black\"> [CLS]                    </font></mark><mark style=\"background-color: hsl(120, 75%, 74%); opacity:1.0;                     line-height:1.75\"><font color=\"black\"> does                    </font></mark><mark style=\"background-color: hsl(120, 75%, 100%); opacity:1.0;                     line-height:1.75\"><font color=\"black\"> n't                    </font></mark><mark style=\"background-color: hsl(120, 75%, 89%); opacity:1.0;                     line-height:1.75\"><font color=\"black\"> work                    </font></mark><mark style=\"background-color: hsl(120, 75%, 80%); opacity:1.0;                     line-height:1.75\"><font color=\"black\"> .                    </font></mark><mark style=\"background-color: hsl(0, 75%, 96%); opacity:1.0;                     line-height:1.75\"><font color=\"black\"> [SEP]                    </font></mark></td><tr></table>"
      ],
      "text/plain": [
       "<IPython.core.display.HTML object>"
      ]
     },
     "metadata": {},
     "output_type": "display_data"
    },
    {
     "name": "stdout",
     "output_type": "stream",
     "text": [
      "<IPython.core.display.HTML object>\n",
      "Raw review: given it a one-star rating \n",
      "GT target: 0\n",
      "word attr tensor([-0.1354, -0.1138, -0.2516,  0.0505, -0.0934,  0.4060, -0.6622, -0.2515,\n",
      "        -0.4770], device='cuda:0')\n",
      "conti attr [tensor(-0.1354, device='cuda:0'), tensor(-0.1138, device='cuda:0'), tensor(-0.2516, device='cuda:0'), tensor(0.0505, device='cuda:0'), tensor(-0.2530, device='cuda:0'), tensor(-0.2515, device='cuda:0'), tensor(-0.4770, device='cuda:0')]\n",
      "detokenized ['[CLS]', 'given', 'it', 'a', 'one', '-', 'star', 'rating', '[SEP]']\n",
      "len conti_raw 7\n",
      "conti_raw ['[CLS]', 'given', 'it', 'a', 'one-star', 'rating', '[SEP]']\n"
     ]
    },
    {
     "data": {
      "text/html": [
       "<table width: 100%><div style=\"border-top: 1px solid; margin-top: 5px;             padding-top: 5px; display: inline-block\"><b>Legend: </b><span style=\"display: inline-block; width: 10px; height: 10px;                 border: 1px solid; background-color:                 hsl(0, 75%, 60%)\"></span> Negative  <span style=\"display: inline-block; width: 10px; height: 10px;                 border: 1px solid; background-color:                 hsl(0, 75%, 100%)\"></span> Neutral  <span style=\"display: inline-block; width: 10px; height: 10px;                 border: 1px solid; background-color:                 hsl(120, 75%, 50%)\"></span> Positive  </div><tr><th>True Label</th><th>Predicted Label</th><th>Attribution Label</th><th>Attribution Score</th><th>Word Importance</th><tr><td><text style=\"padding-right:2em\"><b>Neg</b></text></td><td><text style=\"padding-right:2em\"><b>Pos (0.73)</b></text></td><td><text style=\"padding-right:2em\"><b>Neg</b></text></td><td><text style=\"padding-right:2em\"><b>-1.53</b></text></td><td><mark style=\"background-color: hsl(0, 75%, 95%); opacity:1.0;                     line-height:1.75\"><font color=\"black\"> [CLS]                    </font></mark><mark style=\"background-color: hsl(0, 75%, 96%); opacity:1.0;                     line-height:1.75\"><font color=\"black\"> given                    </font></mark><mark style=\"background-color: hsl(0, 75%, 90%); opacity:1.0;                     line-height:1.75\"><font color=\"black\"> it                    </font></mark><mark style=\"background-color: hsl(120, 75%, 98%); opacity:1.0;                     line-height:1.75\"><font color=\"black\"> a                    </font></mark><mark style=\"background-color: hsl(0, 75%, 97%); opacity:1.0;                     line-height:1.75\"><font color=\"black\"> one-star                    </font></mark><mark style=\"background-color: hsl(120, 75%, 80%); opacity:1.0;                     line-height:1.75\"><font color=\"black\"> rating                    </font></mark><mark style=\"background-color: hsl(0, 75%, 74%); opacity:1.0;                     line-height:1.75\"><font color=\"black\"> [SEP]                    </font></mark></td><tr></table>"
      ],
      "text/plain": [
       "<IPython.core.display.HTML object>"
      ]
     },
     "metadata": {},
     "output_type": "display_data"
    },
    {
     "name": "stdout",
     "output_type": "stream",
     "text": [
      "<IPython.core.display.HTML object>\n",
      "Raw review: ice cube is n't quite out of ripe screwball ideas , but friday after next spreads them pretty thin \n",
      "GT target: 0\n",
      "word attr tensor([-0.7838,  0.0444, -0.0675,  0.0430, -0.0531,  0.1720,  0.1665, -0.1229,\n",
      "        -0.0497, -0.0554, -0.0079,  0.2010, -0.0479, -0.1261, -0.0115,  0.0848,\n",
      "        -0.1627, -0.1231,  0.1405, -0.0987,  0.1195,  0.0041, -0.1606,  0.3456],\n",
      "       device='cuda:0')\n",
      "conti attr [tensor(-0.7838, device='cuda:0'), tensor(0.0444, device='cuda:0'), tensor(-0.0675, device='cuda:0'), tensor(0.0430, device='cuda:0'), tensor(0.1130, device='cuda:0'), tensor(-0.1229, device='cuda:0'), tensor(-0.0497, device='cuda:0'), tensor(-0.0554, device='cuda:0'), tensor(-0.0079, device='cuda:0'), tensor(0.0765, device='cuda:0'), tensor(-0.1261, device='cuda:0'), tensor(-0.0115, device='cuda:0'), tensor(0.0848, device='cuda:0'), tensor(-0.1627, device='cuda:0'), tensor(-0.1231, device='cuda:0'), tensor(0.1405, device='cuda:0'), tensor(-0.0987, device='cuda:0'), tensor(0.1195, device='cuda:0'), tensor(0.0041, device='cuda:0'), tensor(-0.1606, device='cuda:0'), tensor(0.3456, device='cuda:0')]\n",
      "detokenized ['[CLS]', 'ice', 'cube', 'is', 'n', \"'\", 't', 'quite', 'out', 'of', 'ripe', 'screw', 'ball', 'ideas', ',', 'but', 'friday', 'after', 'next', 'spreads', 'them', 'pretty', 'thin', '[SEP]']\n",
      "len conti_raw 21\n",
      "conti_raw ['[CLS]', 'ice', 'cube', 'is', \"n't\", 'quite', 'out', 'of', 'ripe', 'screwball', 'ideas', ',', 'but', 'friday', 'after', 'next', 'spreads', 'them', 'pretty', 'thin', '[SEP]']\n"
     ]
    },
    {
     "data": {
      "text/html": [
       "<table width: 100%><div style=\"border-top: 1px solid; margin-top: 5px;             padding-top: 5px; display: inline-block\"><b>Legend: </b><span style=\"display: inline-block; width: 10px; height: 10px;                 border: 1px solid; background-color:                 hsl(0, 75%, 60%)\"></span> Negative  <span style=\"display: inline-block; width: 10px; height: 10px;                 border: 1px solid; background-color:                 hsl(0, 75%, 100%)\"></span> Neutral  <span style=\"display: inline-block; width: 10px; height: 10px;                 border: 1px solid; background-color:                 hsl(120, 75%, 50%)\"></span> Positive  </div><tr><th>True Label</th><th>Predicted Label</th><th>Attribution Label</th><th>Attribution Score</th><th>Word Importance</th><tr><td><text style=\"padding-right:2em\"><b>Neg</b></text></td><td><text style=\"padding-right:2em\"><b>Neg (0.04)</b></text></td><td><text style=\"padding-right:2em\"><b>Neg</b></text></td><td><text style=\"padding-right:2em\"><b>-0.55</b></text></td><td><mark style=\"background-color: hsl(0, 75%, 69%); opacity:1.0;                     line-height:1.75\"><font color=\"black\"> [CLS]                    </font></mark><mark style=\"background-color: hsl(120, 75%, 98%); opacity:1.0;                     line-height:1.75\"><font color=\"black\"> ice                    </font></mark><mark style=\"background-color: hsl(0, 75%, 98%); opacity:1.0;                     line-height:1.75\"><font color=\"black\"> cube                    </font></mark><mark style=\"background-color: hsl(120, 75%, 98%); opacity:1.0;                     line-height:1.75\"><font color=\"black\"> is                    </font></mark><mark style=\"background-color: hsl(0, 75%, 98%); opacity:1.0;                     line-height:1.75\"><font color=\"black\"> n't                    </font></mark><mark style=\"background-color: hsl(120, 75%, 92%); opacity:1.0;                     line-height:1.75\"><font color=\"black\"> quite                    </font></mark><mark style=\"background-color: hsl(120, 75%, 92%); opacity:1.0;                     line-height:1.75\"><font color=\"black\"> out                    </font></mark><mark style=\"background-color: hsl(0, 75%, 96%); opacity:1.0;                     line-height:1.75\"><font color=\"black\"> of                    </font></mark><mark style=\"background-color: hsl(0, 75%, 99%); opacity:1.0;                     line-height:1.75\"><font color=\"black\"> ripe                    </font></mark><mark style=\"background-color: hsl(0, 75%, 98%); opacity:1.0;                     line-height:1.75\"><font color=\"black\"> screwball                    </font></mark><mark style=\"background-color: hsl(0, 75%, 100%); opacity:1.0;                     line-height:1.75\"><font color=\"black\"> ideas                    </font></mark><mark style=\"background-color: hsl(120, 75%, 90%); opacity:1.0;                     line-height:1.75\"><font color=\"black\"> ,                    </font></mark><mark style=\"background-color: hsl(0, 75%, 99%); opacity:1.0;                     line-height:1.75\"><font color=\"black\"> but                    </font></mark><mark style=\"background-color: hsl(0, 75%, 95%); opacity:1.0;                     line-height:1.75\"><font color=\"black\"> friday                    </font></mark><mark style=\"background-color: hsl(0, 75%, 100%); opacity:1.0;                     line-height:1.75\"><font color=\"black\"> after                    </font></mark><mark style=\"background-color: hsl(120, 75%, 96%); opacity:1.0;                     line-height:1.75\"><font color=\"black\"> next                    </font></mark><mark style=\"background-color: hsl(0, 75%, 94%); opacity:1.0;                     line-height:1.75\"><font color=\"black\"> spreads                    </font></mark><mark style=\"background-color: hsl(0, 75%, 96%); opacity:1.0;                     line-height:1.75\"><font color=\"black\"> them                    </font></mark><mark style=\"background-color: hsl(120, 75%, 93%); opacity:1.0;                     line-height:1.75\"><font color=\"black\"> pretty                    </font></mark><mark style=\"background-color: hsl(0, 75%, 97%); opacity:1.0;                     line-height:1.75\"><font color=\"black\"> thin                    </font></mark><mark style=\"background-color: hsl(120, 75%, 95%); opacity:1.0;                     line-height:1.75\"><font color=\"black\"> [SEP]                    </font></mark></td><tr></table>"
      ],
      "text/plain": [
       "<IPython.core.display.HTML object>"
      ]
     },
     "metadata": {},
     "output_type": "display_data"
    },
    {
     "name": "stdout",
     "output_type": "stream",
     "text": [
      "<IPython.core.display.HTML object>\n",
      "Raw review: been trying to forget \n",
      "GT target: 0\n",
      "word attr tensor([ 0.3881, -0.1031, -0.0736,  0.2101,  0.8097, -0.3654], device='cuda:0')\n",
      "conti attr [tensor(0.3881, device='cuda:0'), tensor(-0.1031, device='cuda:0'), tensor(-0.0736, device='cuda:0'), tensor(0.2101, device='cuda:0'), tensor(0.8097, device='cuda:0'), tensor(-0.3654, device='cuda:0')]\n",
      "detokenized ['[CLS]', 'been', 'trying', 'to', 'forget', '[SEP]']\n",
      "len conti_raw 6\n",
      "conti_raw ['[CLS]', 'been', 'trying', 'to', 'forget', '[SEP]']\n"
     ]
    },
    {
     "data": {
      "text/html": [
       "<table width: 100%><div style=\"border-top: 1px solid; margin-top: 5px;             padding-top: 5px; display: inline-block\"><b>Legend: </b><span style=\"display: inline-block; width: 10px; height: 10px;                 border: 1px solid; background-color:                 hsl(0, 75%, 60%)\"></span> Negative  <span style=\"display: inline-block; width: 10px; height: 10px;                 border: 1px solid; background-color:                 hsl(0, 75%, 100%)\"></span> Neutral  <span style=\"display: inline-block; width: 10px; height: 10px;                 border: 1px solid; background-color:                 hsl(120, 75%, 50%)\"></span> Positive  </div><tr><th>True Label</th><th>Predicted Label</th><th>Attribution Label</th><th>Attribution Score</th><th>Word Importance</th><tr><td><text style=\"padding-right:2em\"><b>Neg</b></text></td><td><text style=\"padding-right:2em\"><b>Neg (0.07)</b></text></td><td><text style=\"padding-right:2em\"><b>Pos</b></text></td><td><text style=\"padding-right:2em\"><b>0.87</b></text></td><td><mark style=\"background-color: hsl(120, 75%, 81%); opacity:1.0;                     line-height:1.75\"><font color=\"black\"> [CLS]                    </font></mark><mark style=\"background-color: hsl(0, 75%, 96%); opacity:1.0;                     line-height:1.75\"><font color=\"black\"> been                    </font></mark><mark style=\"background-color: hsl(0, 75%, 98%); opacity:1.0;                     line-height:1.75\"><font color=\"black\"> trying                    </font></mark><mark style=\"background-color: hsl(120, 75%, 90%); opacity:1.0;                     line-height:1.75\"><font color=\"black\"> to                    </font></mark><mark style=\"background-color: hsl(120, 75%, 60%); opacity:1.0;                     line-height:1.75\"><font color=\"black\"> forget                    </font></mark><mark style=\"background-color: hsl(0, 75%, 86%); opacity:1.0;                     line-height:1.75\"><font color=\"black\"> [SEP]                    </font></mark></td><tr></table>"
      ],
      "text/plain": [
       "<IPython.core.display.HTML object>"
      ]
     },
     "metadata": {},
     "output_type": "display_data"
    },
    {
     "name": "stdout",
     "output_type": "stream",
     "text": [
      "<IPython.core.display.HTML object>\n",
      "Raw review: big stars and \n",
      "GT target: 1\n",
      "word attr tensor([ 0.4945, -0.7464, -0.0026, -0.4272, -0.1255], device='cuda:0')\n",
      "conti attr [tensor(0.4945, device='cuda:0'), tensor(-0.7464, device='cuda:0'), tensor(-0.0026, device='cuda:0'), tensor(-0.4272, device='cuda:0'), tensor(-0.1255, device='cuda:0')]\n",
      "detokenized ['[CLS]', 'big', 'stars', 'and', '[SEP]']\n",
      "len conti_raw 5\n",
      "conti_raw ['[CLS]', 'big', 'stars', 'and', '[SEP]']\n"
     ]
    },
    {
     "data": {
      "text/html": [
       "<table width: 100%><div style=\"border-top: 1px solid; margin-top: 5px;             padding-top: 5px; display: inline-block\"><b>Legend: </b><span style=\"display: inline-block; width: 10px; height: 10px;                 border: 1px solid; background-color:                 hsl(0, 75%, 60%)\"></span> Negative  <span style=\"display: inline-block; width: 10px; height: 10px;                 border: 1px solid; background-color:                 hsl(0, 75%, 100%)\"></span> Neutral  <span style=\"display: inline-block; width: 10px; height: 10px;                 border: 1px solid; background-color:                 hsl(120, 75%, 50%)\"></span> Positive  </div><tr><th>True Label</th><th>Predicted Label</th><th>Attribution Label</th><th>Attribution Score</th><th>Word Importance</th><tr><td><text style=\"padding-right:2em\"><b>Pos</b></text></td><td><text style=\"padding-right:2em\"><b>Pos (0.97)</b></text></td><td><text style=\"padding-right:2em\"><b>Neg</b></text></td><td><text style=\"padding-right:2em\"><b>-0.81</b></text></td><td><mark style=\"background-color: hsl(120, 75%, 76%); opacity:1.0;                     line-height:1.75\"><font color=\"black\"> [CLS]                    </font></mark><mark style=\"background-color: hsl(0, 75%, 71%); opacity:1.0;                     line-height:1.75\"><font color=\"black\"> big                    </font></mark><mark style=\"background-color: hsl(0, 75%, 100%); opacity:1.0;                     line-height:1.75\"><font color=\"black\"> stars                    </font></mark><mark style=\"background-color: hsl(0, 75%, 83%); opacity:1.0;                     line-height:1.75\"><font color=\"black\"> and                    </font></mark><mark style=\"background-color: hsl(0, 75%, 95%); opacity:1.0;                     line-height:1.75\"><font color=\"black\"> [SEP]                    </font></mark></td><tr></table>"
      ],
      "text/plain": [
       "<IPython.core.display.HTML object>"
      ]
     },
     "metadata": {},
     "output_type": "display_data"
    },
    {
     "name": "stdout",
     "output_type": "stream",
     "text": [
      "<IPython.core.display.HTML object>\n",
      "Raw review: of cheesy dialogue \n",
      "GT target: 0\n",
      "word attr tensor([ 0.1163, -0.0015,  0.4057, -0.0280,  0.5223,  0.7290, -0.1300],\n",
      "       device='cuda:0')\n",
      "conti attr [tensor(0.1163, device='cuda:0'), tensor(-0.0015, device='cuda:0'), tensor(0.3556, device='cuda:0'), tensor(0.7290, device='cuda:0'), tensor(-0.1300, device='cuda:0')]\n",
      "detokenized ['[CLS]', 'of', 'che', 'es', 'y', 'dialogue', '[SEP]']\n",
      "len conti_raw 5\n",
      "conti_raw ['[CLS]', 'of', 'cheesy', 'dialogue', '[SEP]']\n"
     ]
    },
    {
     "data": {
      "text/html": [
       "<table width: 100%><div style=\"border-top: 1px solid; margin-top: 5px;             padding-top: 5px; display: inline-block\"><b>Legend: </b><span style=\"display: inline-block; width: 10px; height: 10px;                 border: 1px solid; background-color:                 hsl(0, 75%, 60%)\"></span> Negative  <span style=\"display: inline-block; width: 10px; height: 10px;                 border: 1px solid; background-color:                 hsl(0, 75%, 100%)\"></span> Neutral  <span style=\"display: inline-block; width: 10px; height: 10px;                 border: 1px solid; background-color:                 hsl(120, 75%, 50%)\"></span> Positive  </div><tr><th>True Label</th><th>Predicted Label</th><th>Attribution Label</th><th>Attribution Score</th><th>Word Importance</th><tr><td><text style=\"padding-right:2em\"><b>Neg</b></text></td><td><text style=\"padding-right:2em\"><b>Neg (0.02)</b></text></td><td><text style=\"padding-right:2em\"><b>Pos</b></text></td><td><text style=\"padding-right:2em\"><b>1.61</b></text></td><td><mark style=\"background-color: hsl(120, 75%, 95%); opacity:1.0;                     line-height:1.75\"><font color=\"black\"> [CLS]                    </font></mark><mark style=\"background-color: hsl(0, 75%, 100%); opacity:1.0;                     line-height:1.75\"><font color=\"black\"> of                    </font></mark><mark style=\"background-color: hsl(120, 75%, 80%); opacity:1.0;                     line-height:1.75\"><font color=\"black\"> cheesy                    </font></mark><mark style=\"background-color: hsl(0, 75%, 99%); opacity:1.0;                     line-height:1.75\"><font color=\"black\"> dialogue                    </font></mark><mark style=\"background-color: hsl(120, 75%, 74%); opacity:1.0;                     line-height:1.75\"><font color=\"black\"> [SEP]                    </font></mark></td><tr></table>"
      ],
      "text/plain": [
       "<IPython.core.display.HTML object>"
      ]
     },
     "metadata": {},
     "output_type": "display_data"
    },
    {
     "name": "stdout",
     "output_type": "stream",
     "text": [
      "<IPython.core.display.HTML object>\n",
      "Raw review: the château is never quite able to overcome the cultural moat surrounding its ludicrous and contrived plot . ' \n",
      "GT target: 0\n",
      "word attr tensor([-0.3942, -0.0698, -0.4623,  0.0754, -0.0099, -0.2562, -0.1538, -0.1530,\n",
      "        -0.1047, -0.2128, -0.1081,  0.0310, -0.2919, -0.2356,  0.0705, -0.0083,\n",
      "         0.0438, -0.1044, -0.1073, -0.0019, -0.1171,  0.0425,  0.0356,  0.0275,\n",
      "        -0.5010], device='cuda:0')\n",
      "conti attr [tensor(-0.3942, device='cuda:0'), tensor(-0.0698, device='cuda:0'), tensor(-0.4623, device='cuda:0'), tensor(0.0754, device='cuda:0'), tensor(-0.0099, device='cuda:0'), tensor(-0.2562, device='cuda:0'), tensor(-0.1538, device='cuda:0'), tensor(-0.1530, device='cuda:0'), tensor(-0.1047, device='cuda:0'), tensor(-0.2128, device='cuda:0'), tensor(-0.1081, device='cuda:0'), tensor(0.0310, device='cuda:0'), tensor(-0.2919, device='cuda:0'), tensor(-0.2356, device='cuda:0'), tensor(0.0375, device='cuda:0'), tensor(-0.1044, device='cuda:0'), tensor(-0.0859, device='cuda:0'), tensor(0.0425, device='cuda:0'), tensor(0.0356, device='cuda:0'), tensor(0.0275, device='cuda:0'), tensor(-0.5010, device='cuda:0')]\n",
      "detokenized ['[CLS]', 'the', 'chateau', 'is', 'never', 'quite', 'able', 'to', 'overcome', 'the', 'cultural', 'moat', 'surrounding', 'its', 'lu', 'dic', 'rous', 'and', 'con', 'tri', 'ved', 'plot', '.', \"'\", '[SEP]']\n",
      "len conti_raw 21\n",
      "conti_raw ['[CLS]', 'the', 'chateau', 'is', 'never', 'quite', 'able', 'to', 'overcome', 'the', 'cultural', 'moat', 'surrounding', 'its', 'ludicrous', 'and', 'contrived', 'plot', '.', \"'\", '[SEP]']\n"
     ]
    },
    {
     "data": {
      "text/html": [
       "<table width: 100%><div style=\"border-top: 1px solid; margin-top: 5px;             padding-top: 5px; display: inline-block\"><b>Legend: </b><span style=\"display: inline-block; width: 10px; height: 10px;                 border: 1px solid; background-color:                 hsl(0, 75%, 60%)\"></span> Negative  <span style=\"display: inline-block; width: 10px; height: 10px;                 border: 1px solid; background-color:                 hsl(0, 75%, 100%)\"></span> Neutral  <span style=\"display: inline-block; width: 10px; height: 10px;                 border: 1px solid; background-color:                 hsl(120, 75%, 50%)\"></span> Positive  </div><tr><th>True Label</th><th>Predicted Label</th><th>Attribution Label</th><th>Attribution Score</th><th>Word Importance</th><tr><td><text style=\"padding-right:2em\"><b>Neg</b></text></td><td><text style=\"padding-right:2em\"><b>Neg (0.06)</b></text></td><td><text style=\"padding-right:2em\"><b>Neg</b></text></td><td><text style=\"padding-right:2em\"><b>-2.97</b></text></td><td><mark style=\"background-color: hsl(0, 75%, 85%); opacity:1.0;                     line-height:1.75\"><font color=\"black\"> [CLS]                    </font></mark><mark style=\"background-color: hsl(0, 75%, 98%); opacity:1.0;                     line-height:1.75\"><font color=\"black\"> the                    </font></mark><mark style=\"background-color: hsl(0, 75%, 82%); opacity:1.0;                     line-height:1.75\"><font color=\"black\"> chateau                    </font></mark><mark style=\"background-color: hsl(120, 75%, 97%); opacity:1.0;                     line-height:1.75\"><font color=\"black\"> is                    </font></mark><mark style=\"background-color: hsl(0, 75%, 100%); opacity:1.0;                     line-height:1.75\"><font color=\"black\"> never                    </font></mark><mark style=\"background-color: hsl(0, 75%, 90%); opacity:1.0;                     line-height:1.75\"><font color=\"black\"> quite                    </font></mark><mark style=\"background-color: hsl(0, 75%, 94%); opacity:1.0;                     line-height:1.75\"><font color=\"black\"> able                    </font></mark><mark style=\"background-color: hsl(0, 75%, 94%); opacity:1.0;                     line-height:1.75\"><font color=\"black\"> to                    </font></mark><mark style=\"background-color: hsl(0, 75%, 96%); opacity:1.0;                     line-height:1.75\"><font color=\"black\"> overcome                    </font></mark><mark style=\"background-color: hsl(0, 75%, 92%); opacity:1.0;                     line-height:1.75\"><font color=\"black\"> the                    </font></mark><mark style=\"background-color: hsl(0, 75%, 96%); opacity:1.0;                     line-height:1.75\"><font color=\"black\"> cultural                    </font></mark><mark style=\"background-color: hsl(120, 75%, 99%); opacity:1.0;                     line-height:1.75\"><font color=\"black\"> moat                    </font></mark><mark style=\"background-color: hsl(0, 75%, 89%); opacity:1.0;                     line-height:1.75\"><font color=\"black\"> surrounding                    </font></mark><mark style=\"background-color: hsl(0, 75%, 91%); opacity:1.0;                     line-height:1.75\"><font color=\"black\"> its                    </font></mark><mark style=\"background-color: hsl(120, 75%, 97%); opacity:1.0;                     line-height:1.75\"><font color=\"black\"> ludicrous                    </font></mark><mark style=\"background-color: hsl(0, 75%, 100%); opacity:1.0;                     line-height:1.75\"><font color=\"black\"> and                    </font></mark><mark style=\"background-color: hsl(120, 75%, 98%); opacity:1.0;                     line-height:1.75\"><font color=\"black\"> contrived                    </font></mark><mark style=\"background-color: hsl(0, 75%, 96%); opacity:1.0;                     line-height:1.75\"><font color=\"black\"> plot                    </font></mark><mark style=\"background-color: hsl(0, 75%, 96%); opacity:1.0;                     line-height:1.75\"><font color=\"black\"> .                    </font></mark><mark style=\"background-color: hsl(0, 75%, 100%); opacity:1.0;                     line-height:1.75\"><font color=\"black\"> '                    </font></mark><mark style=\"background-color: hsl(0, 75%, 96%); opacity:1.0;                     line-height:1.75\"><font color=\"black\"> [SEP]                    </font></mark></td><tr></table>"
      ],
      "text/plain": [
       "<IPython.core.display.HTML object>"
      ]
     },
     "metadata": {},
     "output_type": "display_data"
    },
    {
     "name": "stdout",
     "output_type": "stream",
     "text": [
      "<IPython.core.display.HTML object>\n",
      "Raw review: principled \n",
      "GT target: 1\n",
      "word attr tensor([-0.5381, -0.7785, -0.3158, -0.0686], device='cuda:0')\n",
      "conti attr [tensor(-0.5381, device='cuda:0'), tensor(-0.5471, device='cuda:0'), tensor(-0.0686, device='cuda:0')]\n",
      "detokenized ['[CLS]', 'principle', 'd', '[SEP]']\n",
      "len conti_raw 3\n",
      "conti_raw ['[CLS]', 'principled', '[SEP]']\n"
     ]
    },
    {
     "data": {
      "text/html": [
       "<table width: 100%><div style=\"border-top: 1px solid; margin-top: 5px;             padding-top: 5px; display: inline-block\"><b>Legend: </b><span style=\"display: inline-block; width: 10px; height: 10px;                 border: 1px solid; background-color:                 hsl(0, 75%, 60%)\"></span> Negative  <span style=\"display: inline-block; width: 10px; height: 10px;                 border: 1px solid; background-color:                 hsl(0, 75%, 100%)\"></span> Neutral  <span style=\"display: inline-block; width: 10px; height: 10px;                 border: 1px solid; background-color:                 hsl(120, 75%, 50%)\"></span> Positive  </div><tr><th>True Label</th><th>Predicted Label</th><th>Attribution Label</th><th>Attribution Score</th><th>Word Importance</th><tr><td><text style=\"padding-right:2em\"><b>Pos</b></text></td><td><text style=\"padding-right:2em\"><b>Pos (0.97)</b></text></td><td><text style=\"padding-right:2em\"><b>Neg</b></text></td><td><text style=\"padding-right:2em\"><b>-1.70</b></text></td><td><mark style=\"background-color: hsl(0, 75%, 79%); opacity:1.0;                     line-height:1.75\"><font color=\"black\"> [CLS]                    </font></mark><mark style=\"background-color: hsl(0, 75%, 69%); opacity:1.0;                     line-height:1.75\"><font color=\"black\"> principled                    </font></mark><mark style=\"background-color: hsl(0, 75%, 88%); opacity:1.0;                     line-height:1.75\"><font color=\"black\"> [SEP]                    </font></mark></td><tr></table>"
      ],
      "text/plain": [
       "<IPython.core.display.HTML object>"
      ]
     },
     "metadata": {},
     "output_type": "display_data"
    },
    {
     "name": "stdout",
     "output_type": "stream",
     "text": [
      "<IPython.core.display.HTML object>\n",
      "Raw review: end it all by stuffing himself into an electric pencil sharpener \n",
      "GT target: 0\n",
      "word attr tensor([-0.2982,  0.0388, -0.2726, -0.2088, -0.3199, -0.1625, -0.2205, -0.2168,\n",
      "        -0.2098, -0.2647, -0.4544, -0.4162, -0.2409, -0.1242], device='cuda:0')\n",
      "conti attr [tensor(-0.2982, device='cuda:0'), tensor(0.0388, device='cuda:0'), tensor(-0.2726, device='cuda:0'), tensor(-0.2088, device='cuda:0'), tensor(-0.3199, device='cuda:0'), tensor(-0.1625, device='cuda:0'), tensor(-0.2205, device='cuda:0'), tensor(-0.2168, device='cuda:0'), tensor(-0.2098, device='cuda:0'), tensor(-0.2647, device='cuda:0'), tensor(-0.4544, device='cuda:0'), tensor(-0.3286, device='cuda:0'), tensor(-0.1242, device='cuda:0')]\n",
      "detokenized ['[CLS]', 'end', 'it', 'all', 'by', 'stuffing', 'himself', 'into', 'an', 'electric', 'pencil', 'sharpe', 'ner', '[SEP]']\n",
      "len conti_raw 13\n",
      "conti_raw ['[CLS]', 'end', 'it', 'all', 'by', 'stuffing', 'himself', 'into', 'an', 'electric', 'pencil', 'sharpener', '[SEP]']\n"
     ]
    },
    {
     "data": {
      "text/html": [
       "<table width: 100%><div style=\"border-top: 1px solid; margin-top: 5px;             padding-top: 5px; display: inline-block\"><b>Legend: </b><span style=\"display: inline-block; width: 10px; height: 10px;                 border: 1px solid; background-color:                 hsl(0, 75%, 60%)\"></span> Negative  <span style=\"display: inline-block; width: 10px; height: 10px;                 border: 1px solid; background-color:                 hsl(0, 75%, 100%)\"></span> Neutral  <span style=\"display: inline-block; width: 10px; height: 10px;                 border: 1px solid; background-color:                 hsl(120, 75%, 50%)\"></span> Positive  </div><tr><th>True Label</th><th>Predicted Label</th><th>Attribution Label</th><th>Attribution Score</th><th>Word Importance</th><tr><td><text style=\"padding-right:2em\"><b>Neg</b></text></td><td><text style=\"padding-right:2em\"><b>Neg (0.06)</b></text></td><td><text style=\"padding-right:2em\"><b>Neg</b></text></td><td><text style=\"padding-right:2em\"><b>-3.37</b></text></td><td><mark style=\"background-color: hsl(0, 75%, 89%); opacity:1.0;                     line-height:1.75\"><font color=\"black\"> [CLS]                    </font></mark><mark style=\"background-color: hsl(120, 75%, 99%); opacity:1.0;                     line-height:1.75\"><font color=\"black\"> end                    </font></mark><mark style=\"background-color: hsl(0, 75%, 90%); opacity:1.0;                     line-height:1.75\"><font color=\"black\"> it                    </font></mark><mark style=\"background-color: hsl(0, 75%, 92%); opacity:1.0;                     line-height:1.75\"><font color=\"black\"> all                    </font></mark><mark style=\"background-color: hsl(0, 75%, 88%); opacity:1.0;                     line-height:1.75\"><font color=\"black\"> by                    </font></mark><mark style=\"background-color: hsl(0, 75%, 94%); opacity:1.0;                     line-height:1.75\"><font color=\"black\"> stuffing                    </font></mark><mark style=\"background-color: hsl(0, 75%, 92%); opacity:1.0;                     line-height:1.75\"><font color=\"black\"> himself                    </font></mark><mark style=\"background-color: hsl(0, 75%, 92%); opacity:1.0;                     line-height:1.75\"><font color=\"black\"> into                    </font></mark><mark style=\"background-color: hsl(0, 75%, 92%); opacity:1.0;                     line-height:1.75\"><font color=\"black\"> an                    </font></mark><mark style=\"background-color: hsl(0, 75%, 90%); opacity:1.0;                     line-height:1.75\"><font color=\"black\"> electric                    </font></mark><mark style=\"background-color: hsl(0, 75%, 82%); opacity:1.0;                     line-height:1.75\"><font color=\"black\"> pencil                    </font></mark><mark style=\"background-color: hsl(0, 75%, 84%); opacity:1.0;                     line-height:1.75\"><font color=\"black\"> sharpener                    </font></mark><mark style=\"background-color: hsl(0, 75%, 91%); opacity:1.0;                     line-height:1.75\"><font color=\"black\"> [SEP]                    </font></mark></td><tr></table>"
      ],
      "text/plain": [
       "<IPython.core.display.HTML object>"
      ]
     },
     "metadata": {},
     "output_type": "display_data"
    },
    {
     "name": "stdout",
     "output_type": "stream",
     "text": [
      "<IPython.core.display.HTML object>\n",
      "Raw review: funniest idea \n",
      "GT target: 1\n",
      "word attr tensor([-0.2593, -0.0231,  0.0278, -0.7129,  0.1703, -0.6279], device='cuda:0')\n",
      "conti attr [tensor(-0.2593, device='cuda:0'), tensor(-0.3553, device='cuda:0'), tensor(0.1703, device='cuda:0'), tensor(-0.6279, device='cuda:0')]\n",
      "detokenized ['[CLS]', 'fun', 'nies', 't', 'idea', '[SEP]']\n",
      "len conti_raw 4\n",
      "conti_raw ['[CLS]', 'funniest', 'idea', '[SEP]']\n"
     ]
    },
    {
     "data": {
      "text/html": [
       "<table width: 100%><div style=\"border-top: 1px solid; margin-top: 5px;             padding-top: 5px; display: inline-block\"><b>Legend: </b><span style=\"display: inline-block; width: 10px; height: 10px;                 border: 1px solid; background-color:                 hsl(0, 75%, 60%)\"></span> Negative  <span style=\"display: inline-block; width: 10px; height: 10px;                 border: 1px solid; background-color:                 hsl(0, 75%, 100%)\"></span> Neutral  <span style=\"display: inline-block; width: 10px; height: 10px;                 border: 1px solid; background-color:                 hsl(120, 75%, 50%)\"></span> Positive  </div><tr><th>True Label</th><th>Predicted Label</th><th>Attribution Label</th><th>Attribution Score</th><th>Word Importance</th><tr><td><text style=\"padding-right:2em\"><b>Pos</b></text></td><td><text style=\"padding-right:2em\"><b>Pos (0.96)</b></text></td><td><text style=\"padding-right:2em\"><b>Neg</b></text></td><td><text style=\"padding-right:2em\"><b>-1.43</b></text></td><td><mark style=\"background-color: hsl(0, 75%, 90%); opacity:1.0;                     line-height:1.75\"><font color=\"black\"> [CLS]                    </font></mark><mark style=\"background-color: hsl(0, 75%, 100%); opacity:1.0;                     line-height:1.75\"><font color=\"black\"> funniest                    </font></mark><mark style=\"background-color: hsl(120, 75%, 99%); opacity:1.0;                     line-height:1.75\"><font color=\"black\"> idea                    </font></mark><mark style=\"background-color: hsl(0, 75%, 72%); opacity:1.0;                     line-height:1.75\"><font color=\"black\"> [SEP]                    </font></mark></td><tr></table>"
      ],
      "text/plain": [
       "<IPython.core.display.HTML object>"
      ]
     },
     "metadata": {},
     "output_type": "display_data"
    },
    {
     "name": "stdout",
     "output_type": "stream",
     "text": [
      "<IPython.core.display.HTML object>\n",
      "Raw review: silly and tedious \n",
      "GT target: 0\n",
      "word attr tensor([-0.1482, -0.3807, -0.2666, -0.4823, -0.6693, -0.2856], device='cuda:0')\n",
      "conti attr [tensor(-0.1482, device='cuda:0'), tensor(-0.3807, device='cuda:0'), tensor(-0.2666, device='cuda:0'), tensor(-0.5758, device='cuda:0'), tensor(-0.2856, device='cuda:0')]\n",
      "detokenized ['[CLS]', 'silly', 'and', 'ted', 'ious', '[SEP]']\n",
      "len conti_raw 5\n",
      "conti_raw ['[CLS]', 'silly', 'and', 'tedious', '[SEP]']\n"
     ]
    },
    {
     "data": {
      "text/html": [
       "<table width: 100%><div style=\"border-top: 1px solid; margin-top: 5px;             padding-top: 5px; display: inline-block\"><b>Legend: </b><span style=\"display: inline-block; width: 10px; height: 10px;                 border: 1px solid; background-color:                 hsl(0, 75%, 60%)\"></span> Negative  <span style=\"display: inline-block; width: 10px; height: 10px;                 border: 1px solid; background-color:                 hsl(0, 75%, 100%)\"></span> Neutral  <span style=\"display: inline-block; width: 10px; height: 10px;                 border: 1px solid; background-color:                 hsl(120, 75%, 50%)\"></span> Positive  </div><tr><th>True Label</th><th>Predicted Label</th><th>Attribution Label</th><th>Attribution Score</th><th>Word Importance</th><tr><td><text style=\"padding-right:2em\"><b>Neg</b></text></td><td><text style=\"padding-right:2em\"><b>Neg (0.04)</b></text></td><td><text style=\"padding-right:2em\"><b>Neg</b></text></td><td><text style=\"padding-right:2em\"><b>-2.23</b></text></td><td><mark style=\"background-color: hsl(0, 75%, 95%); opacity:1.0;                     line-height:1.75\"><font color=\"black\"> [CLS]                    </font></mark><mark style=\"background-color: hsl(0, 75%, 85%); opacity:1.0;                     line-height:1.75\"><font color=\"black\"> silly                    </font></mark><mark style=\"background-color: hsl(0, 75%, 90%); opacity:1.0;                     line-height:1.75\"><font color=\"black\"> and                    </font></mark><mark style=\"background-color: hsl(0, 75%, 81%); opacity:1.0;                     line-height:1.75\"><font color=\"black\"> tedious                    </font></mark><mark style=\"background-color: hsl(0, 75%, 74%); opacity:1.0;                     line-height:1.75\"><font color=\"black\"> [SEP]                    </font></mark></td><tr></table>"
      ],
      "text/plain": [
       "<IPython.core.display.HTML object>"
      ]
     },
     "metadata": {},
     "output_type": "display_data"
    },
    {
     "name": "stdout",
     "output_type": "stream",
     "text": [
      "<IPython.core.display.HTML object>\n",
      "Raw review: two surefire , beloved genres \n",
      "GT target: 1\n",
      "word attr tensor([-0.3224,  0.1638, -0.0686, -0.2910,  0.5188, -0.1748, -0.6193, -0.3109],\n",
      "       device='cuda:0')\n",
      "conti attr [tensor(-0.3224, device='cuda:0'), tensor(0.1638, device='cuda:0'), tensor(-0.1798, device='cuda:0'), tensor(0.5188, device='cuda:0'), tensor(-0.1748, device='cuda:0'), tensor(-0.6193, device='cuda:0'), tensor(-0.3109, device='cuda:0')]\n",
      "detokenized ['[CLS]', 'two', 'sure', 'fire', ',', 'beloved', 'genres', '[SEP]']\n",
      "len conti_raw 7\n",
      "conti_raw ['[CLS]', 'two', 'surefire', ',', 'beloved', 'genres', '[SEP]']\n"
     ]
    },
    {
     "data": {
      "text/html": [
       "<table width: 100%><div style=\"border-top: 1px solid; margin-top: 5px;             padding-top: 5px; display: inline-block\"><b>Legend: </b><span style=\"display: inline-block; width: 10px; height: 10px;                 border: 1px solid; background-color:                 hsl(0, 75%, 60%)\"></span> Negative  <span style=\"display: inline-block; width: 10px; height: 10px;                 border: 1px solid; background-color:                 hsl(0, 75%, 100%)\"></span> Neutral  <span style=\"display: inline-block; width: 10px; height: 10px;                 border: 1px solid; background-color:                 hsl(120, 75%, 50%)\"></span> Positive  </div><tr><th>True Label</th><th>Predicted Label</th><th>Attribution Label</th><th>Attribution Score</th><th>Word Importance</th><tr><td><text style=\"padding-right:2em\"><b>Pos</b></text></td><td><text style=\"padding-right:2em\"><b>Pos (0.98)</b></text></td><td><text style=\"padding-right:2em\"><b>Neg</b></text></td><td><text style=\"padding-right:2em\"><b>-1.10</b></text></td><td><mark style=\"background-color: hsl(0, 75%, 88%); opacity:1.0;                     line-height:1.75\"><font color=\"black\"> [CLS]                    </font></mark><mark style=\"background-color: hsl(120, 75%, 92%); opacity:1.0;                     line-height:1.75\"><font color=\"black\"> two                    </font></mark><mark style=\"background-color: hsl(0, 75%, 98%); opacity:1.0;                     line-height:1.75\"><font color=\"black\"> surefire                    </font></mark><mark style=\"background-color: hsl(0, 75%, 89%); opacity:1.0;                     line-height:1.75\"><font color=\"black\"> ,                    </font></mark><mark style=\"background-color: hsl(120, 75%, 75%); opacity:1.0;                     line-height:1.75\"><font color=\"black\"> beloved                    </font></mark><mark style=\"background-color: hsl(0, 75%, 94%); opacity:1.0;                     line-height:1.75\"><font color=\"black\"> genres                    </font></mark><mark style=\"background-color: hsl(0, 75%, 76%); opacity:1.0;                     line-height:1.75\"><font color=\"black\"> [SEP]                    </font></mark></td><tr></table>"
      ],
      "text/plain": [
       "<IPython.core.display.HTML object>"
      ]
     },
     "metadata": {},
     "output_type": "display_data"
    },
    {
     "name": "stdout",
     "output_type": "stream",
     "text": [
      "<IPython.core.display.HTML object>\n",
      "Raw review: most charmless \n",
      "GT target: 0\n",
      "word attr tensor([-0.4410, -0.4311, -0.6663, -0.2069, -0.3646], device='cuda:0')\n",
      "conti attr [tensor(-0.4410, device='cuda:0'), tensor(-0.4311, device='cuda:0'), tensor(-0.4366, device='cuda:0'), tensor(-0.3646, device='cuda:0')]\n",
      "detokenized ['[CLS]', 'most', 'charm', 'less', '[SEP]']\n",
      "len conti_raw 4\n",
      "conti_raw ['[CLS]', 'most', 'charmless', '[SEP]']\n"
     ]
    },
    {
     "data": {
      "text/html": [
       "<table width: 100%><div style=\"border-top: 1px solid; margin-top: 5px;             padding-top: 5px; display: inline-block\"><b>Legend: </b><span style=\"display: inline-block; width: 10px; height: 10px;                 border: 1px solid; background-color:                 hsl(0, 75%, 60%)\"></span> Negative  <span style=\"display: inline-block; width: 10px; height: 10px;                 border: 1px solid; background-color:                 hsl(0, 75%, 100%)\"></span> Neutral  <span style=\"display: inline-block; width: 10px; height: 10px;                 border: 1px solid; background-color:                 hsl(120, 75%, 50%)\"></span> Positive  </div><tr><th>True Label</th><th>Predicted Label</th><th>Attribution Label</th><th>Attribution Score</th><th>Word Importance</th><tr><td><text style=\"padding-right:2em\"><b>Neg</b></text></td><td><text style=\"padding-right:2em\"><b>Pos (0.97)</b></text></td><td><text style=\"padding-right:2em\"><b>Neg</b></text></td><td><text style=\"padding-right:2em\"><b>-2.11</b></text></td><td><mark style=\"background-color: hsl(0, 75%, 83%); opacity:1.0;                     line-height:1.75\"><font color=\"black\"> [CLS]                    </font></mark><mark style=\"background-color: hsl(0, 75%, 83%); opacity:1.0;                     line-height:1.75\"><font color=\"black\"> most                    </font></mark><mark style=\"background-color: hsl(0, 75%, 74%); opacity:1.0;                     line-height:1.75\"><font color=\"black\"> charmless                    </font></mark><mark style=\"background-color: hsl(0, 75%, 92%); opacity:1.0;                     line-height:1.75\"><font color=\"black\"> [SEP]                    </font></mark></td><tr></table>"
      ],
      "text/plain": [
       "<IPython.core.display.HTML object>"
      ]
     },
     "metadata": {},
     "output_type": "display_data"
    },
    {
     "name": "stdout",
     "output_type": "stream",
     "text": [
      "<IPython.core.display.HTML object>\n",
      "Raw review: offers us the sense that on some elemental level , lilia deeply wants to break free of her old life . \n",
      "GT target: 1\n",
      "word attr tensor([ 0.1978,  0.2108,  0.3066,  0.3490,  0.3169,  0.1280, -0.1184,  0.0178,\n",
      "         0.1863,  0.1440, -0.0404, -0.0668,  0.2021,  0.2977,  0.2813, -0.0557,\n",
      "         0.2994,  0.1813,  0.0554, -0.0655,  0.1772,  0.3588,  0.0166, -0.0765],\n",
      "       device='cuda:0')\n",
      "conti attr [tensor(0.1978, device='cuda:0'), tensor(0.2108, device='cuda:0'), tensor(0.3066, device='cuda:0'), tensor(0.3490, device='cuda:0'), tensor(0.3169, device='cuda:0'), tensor(0.1280, device='cuda:0'), tensor(-0.1184, device='cuda:0'), tensor(0.0178, device='cuda:0'), tensor(0.1863, device='cuda:0'), tensor(0.1440, device='cuda:0'), tensor(-0.0404, device='cuda:0'), tensor(0.0677, device='cuda:0'), tensor(0.2977, device='cuda:0'), tensor(0.2813, device='cuda:0'), tensor(-0.0557, device='cuda:0'), tensor(0.2994, device='cuda:0'), tensor(0.1813, device='cuda:0'), tensor(0.0554, device='cuda:0'), tensor(-0.0655, device='cuda:0'), tensor(0.1772, device='cuda:0'), tensor(0.3588, device='cuda:0'), tensor(0.0166, device='cuda:0'), tensor(-0.0765, device='cuda:0')]\n",
      "detokenized ['[CLS]', 'offers', 'us', 'the', 'sense', 'that', 'on', 'some', 'elemental', 'level', ',', 'lil', 'ia', 'deeply', 'wants', 'to', 'break', 'free', 'of', 'her', 'old', 'life', '.', '[SEP]']\n",
      "len conti_raw 23\n",
      "conti_raw ['[CLS]', 'offers', 'us', 'the', 'sense', 'that', 'on', 'some', 'elemental', 'level', ',', 'lilia', 'deeply', 'wants', 'to', 'break', 'free', 'of', 'her', 'old', 'life', '.', '[SEP]']\n"
     ]
    },
    {
     "data": {
      "text/html": [
       "<table width: 100%><div style=\"border-top: 1px solid; margin-top: 5px;             padding-top: 5px; display: inline-block\"><b>Legend: </b><span style=\"display: inline-block; width: 10px; height: 10px;                 border: 1px solid; background-color:                 hsl(0, 75%, 60%)\"></span> Negative  <span style=\"display: inline-block; width: 10px; height: 10px;                 border: 1px solid; background-color:                 hsl(0, 75%, 100%)\"></span> Neutral  <span style=\"display: inline-block; width: 10px; height: 10px;                 border: 1px solid; background-color:                 hsl(120, 75%, 50%)\"></span> Positive  </div><tr><th>True Label</th><th>Predicted Label</th><th>Attribution Label</th><th>Attribution Score</th><th>Word Importance</th><tr><td><text style=\"padding-right:2em\"><b>Pos</b></text></td><td><text style=\"padding-right:2em\"><b>Pos (0.96)</b></text></td><td><text style=\"padding-right:2em\"><b>Pos</b></text></td><td><text style=\"padding-right:2em\"><b>3.30</b></text></td><td><mark style=\"background-color: hsl(120, 75%, 91%); opacity:1.0;                     line-height:1.75\"><font color=\"black\"> [CLS]                    </font></mark><mark style=\"background-color: hsl(120, 75%, 90%); opacity:1.0;                     line-height:1.75\"><font color=\"black\"> offers                    </font></mark><mark style=\"background-color: hsl(120, 75%, 85%); opacity:1.0;                     line-height:1.75\"><font color=\"black\"> us                    </font></mark><mark style=\"background-color: hsl(120, 75%, 83%); opacity:1.0;                     line-height:1.75\"><font color=\"black\"> the                    </font></mark><mark style=\"background-color: hsl(120, 75%, 85%); opacity:1.0;                     line-height:1.75\"><font color=\"black\"> sense                    </font></mark><mark style=\"background-color: hsl(120, 75%, 94%); opacity:1.0;                     line-height:1.75\"><font color=\"black\"> that                    </font></mark><mark style=\"background-color: hsl(0, 75%, 96%); opacity:1.0;                     line-height:1.75\"><font color=\"black\"> on                    </font></mark><mark style=\"background-color: hsl(120, 75%, 100%); opacity:1.0;                     line-height:1.75\"><font color=\"black\"> some                    </font></mark><mark style=\"background-color: hsl(120, 75%, 91%); opacity:1.0;                     line-height:1.75\"><font color=\"black\"> elemental                    </font></mark><mark style=\"background-color: hsl(120, 75%, 93%); opacity:1.0;                     line-height:1.75\"><font color=\"black\"> level                    </font></mark><mark style=\"background-color: hsl(0, 75%, 99%); opacity:1.0;                     line-height:1.75\"><font color=\"black\"> ,                    </font></mark><mark style=\"background-color: hsl(0, 75%, 98%); opacity:1.0;                     line-height:1.75\"><font color=\"black\"> lilia                    </font></mark><mark style=\"background-color: hsl(120, 75%, 90%); opacity:1.0;                     line-height:1.75\"><font color=\"black\"> deeply                    </font></mark><mark style=\"background-color: hsl(120, 75%, 86%); opacity:1.0;                     line-height:1.75\"><font color=\"black\"> wants                    </font></mark><mark style=\"background-color: hsl(120, 75%, 86%); opacity:1.0;                     line-height:1.75\"><font color=\"black\"> to                    </font></mark><mark style=\"background-color: hsl(0, 75%, 98%); opacity:1.0;                     line-height:1.75\"><font color=\"black\"> break                    </font></mark><mark style=\"background-color: hsl(120, 75%, 86%); opacity:1.0;                     line-height:1.75\"><font color=\"black\"> free                    </font></mark><mark style=\"background-color: hsl(120, 75%, 91%); opacity:1.0;                     line-height:1.75\"><font color=\"black\"> of                    </font></mark><mark style=\"background-color: hsl(120, 75%, 98%); opacity:1.0;                     line-height:1.75\"><font color=\"black\"> her                    </font></mark><mark style=\"background-color: hsl(0, 75%, 98%); opacity:1.0;                     line-height:1.75\"><font color=\"black\"> old                    </font></mark><mark style=\"background-color: hsl(120, 75%, 92%); opacity:1.0;                     line-height:1.75\"><font color=\"black\"> life                    </font></mark><mark style=\"background-color: hsl(120, 75%, 83%); opacity:1.0;                     line-height:1.75\"><font color=\"black\"> .                    </font></mark><mark style=\"background-color: hsl(120, 75%, 100%); opacity:1.0;                     line-height:1.75\"><font color=\"black\"> [SEP]                    </font></mark></td><tr></table>"
      ],
      "text/plain": [
       "<IPython.core.display.HTML object>"
      ]
     },
     "metadata": {},
     "output_type": "display_data"
    },
    {
     "name": "stdout",
     "output_type": "stream",
     "text": [
      "<IPython.core.display.HTML object>\n",
      "Raw review: might be best forgotten \n",
      "GT target: 0\n",
      "word attr tensor([-0.4740, -0.3846, -0.4006, -0.4644, -0.3318, -0.3756], device='cuda:0')\n",
      "conti attr [tensor(-0.4740, device='cuda:0'), tensor(-0.3846, device='cuda:0'), tensor(-0.4006, device='cuda:0'), tensor(-0.4644, device='cuda:0'), tensor(-0.3318, device='cuda:0'), tensor(-0.3756, device='cuda:0')]\n",
      "detokenized ['[CLS]', 'might', 'be', 'best', 'forgotten', '[SEP]']\n",
      "len conti_raw 6\n",
      "conti_raw ['[CLS]', 'might', 'be', 'best', 'forgotten', '[SEP]']\n"
     ]
    },
    {
     "data": {
      "text/html": [
       "<table width: 100%><div style=\"border-top: 1px solid; margin-top: 5px;             padding-top: 5px; display: inline-block\"><b>Legend: </b><span style=\"display: inline-block; width: 10px; height: 10px;                 border: 1px solid; background-color:                 hsl(0, 75%, 60%)\"></span> Negative  <span style=\"display: inline-block; width: 10px; height: 10px;                 border: 1px solid; background-color:                 hsl(0, 75%, 100%)\"></span> Neutral  <span style=\"display: inline-block; width: 10px; height: 10px;                 border: 1px solid; background-color:                 hsl(120, 75%, 50%)\"></span> Positive  </div><tr><th>True Label</th><th>Predicted Label</th><th>Attribution Label</th><th>Attribution Score</th><th>Word Importance</th><tr><td><text style=\"padding-right:2em\"><b>Neg</b></text></td><td><text style=\"padding-right:2em\"><b>Neg (0.07)</b></text></td><td><text style=\"padding-right:2em\"><b>Neg</b></text></td><td><text style=\"padding-right:2em\"><b>-2.43</b></text></td><td><mark style=\"background-color: hsl(0, 75%, 82%); opacity:1.0;                     line-height:1.75\"><font color=\"black\"> [CLS]                    </font></mark><mark style=\"background-color: hsl(0, 75%, 85%); opacity:1.0;                     line-height:1.75\"><font color=\"black\"> might                    </font></mark><mark style=\"background-color: hsl(0, 75%, 84%); opacity:1.0;                     line-height:1.75\"><font color=\"black\"> be                    </font></mark><mark style=\"background-color: hsl(0, 75%, 82%); opacity:1.0;                     line-height:1.75\"><font color=\"black\"> best                    </font></mark><mark style=\"background-color: hsl(0, 75%, 87%); opacity:1.0;                     line-height:1.75\"><font color=\"black\"> forgotten                    </font></mark><mark style=\"background-color: hsl(0, 75%, 85%); opacity:1.0;                     line-height:1.75\"><font color=\"black\"> [SEP]                    </font></mark></td><tr></table>"
      ],
      "text/plain": [
       "<IPython.core.display.HTML object>"
      ]
     },
     "metadata": {},
     "output_type": "display_data"
    },
    {
     "name": "stdout",
     "output_type": "stream",
     "text": [
      "<IPython.core.display.HTML object>\n",
      "Raw review: a substantial arc of change that does n't produce any real transformation \n",
      "GT target: 0\n",
      "word attr tensor([ 0.4506,  0.1081,  0.1668,  0.0153,  0.1162,  0.0712,  0.1096,  0.3432,\n",
      "        -0.0103, -0.1849, -0.6272,  0.3691,  0.1175,  0.1367, -0.1032,  0.0420],\n",
      "       device='cuda:0')\n",
      "conti attr [tensor(0.4506, device='cuda:0'), tensor(0.1081, device='cuda:0'), tensor(0.1668, device='cuda:0'), tensor(0.0153, device='cuda:0'), tensor(0.1162, device='cuda:0'), tensor(0.0712, device='cuda:0'), tensor(0.1096, device='cuda:0'), tensor(0.3432, device='cuda:0'), tensor(-0.3624, device='cuda:0'), tensor(0.3691, device='cuda:0'), tensor(0.1175, device='cuda:0'), tensor(0.1367, device='cuda:0'), tensor(-0.1032, device='cuda:0'), tensor(0.0420, device='cuda:0')]\n",
      "detokenized ['[CLS]', 'a', 'substantial', 'arc', 'of', 'change', 'that', 'does', 'n', \"'\", 't', 'produce', 'any', 'real', 'transformation', '[SEP]']\n",
      "len conti_raw 14\n",
      "conti_raw ['[CLS]', 'a', 'substantial', 'arc', 'of', 'change', 'that', 'does', \"n't\", 'produce', 'any', 'real', 'transformation', '[SEP]']\n"
     ]
    },
    {
     "data": {
      "text/html": [
       "<table width: 100%><div style=\"border-top: 1px solid; margin-top: 5px;             padding-top: 5px; display: inline-block\"><b>Legend: </b><span style=\"display: inline-block; width: 10px; height: 10px;                 border: 1px solid; background-color:                 hsl(0, 75%, 60%)\"></span> Negative  <span style=\"display: inline-block; width: 10px; height: 10px;                 border: 1px solid; background-color:                 hsl(0, 75%, 100%)\"></span> Neutral  <span style=\"display: inline-block; width: 10px; height: 10px;                 border: 1px solid; background-color:                 hsl(120, 75%, 50%)\"></span> Positive  </div><tr><th>True Label</th><th>Predicted Label</th><th>Attribution Label</th><th>Attribution Score</th><th>Word Importance</th><tr><td><text style=\"padding-right:2em\"><b>Neg</b></text></td><td><text style=\"padding-right:2em\"><b>Neg (0.04)</b></text></td><td><text style=\"padding-right:2em\"><b>Pos</b></text></td><td><text style=\"padding-right:2em\"><b>1.12</b></text></td><td><mark style=\"background-color: hsl(120, 75%, 78%); opacity:1.0;                     line-height:1.75\"><font color=\"black\"> [CLS]                    </font></mark><mark style=\"background-color: hsl(120, 75%, 95%); opacity:1.0;                     line-height:1.75\"><font color=\"black\"> a                    </font></mark><mark style=\"background-color: hsl(120, 75%, 92%); opacity:1.0;                     line-height:1.75\"><font color=\"black\"> substantial                    </font></mark><mark style=\"background-color: hsl(120, 75%, 100%); opacity:1.0;                     line-height:1.75\"><font color=\"black\"> arc                    </font></mark><mark style=\"background-color: hsl(120, 75%, 95%); opacity:1.0;                     line-height:1.75\"><font color=\"black\"> of                    </font></mark><mark style=\"background-color: hsl(120, 75%, 97%); opacity:1.0;                     line-height:1.75\"><font color=\"black\"> change                    </font></mark><mark style=\"background-color: hsl(120, 75%, 95%); opacity:1.0;                     line-height:1.75\"><font color=\"black\"> that                    </font></mark><mark style=\"background-color: hsl(120, 75%, 83%); opacity:1.0;                     line-height:1.75\"><font color=\"black\"> does                    </font></mark><mark style=\"background-color: hsl(0, 75%, 100%); opacity:1.0;                     line-height:1.75\"><font color=\"black\"> n't                    </font></mark><mark style=\"background-color: hsl(0, 75%, 93%); opacity:1.0;                     line-height:1.75\"><font color=\"black\"> produce                    </font></mark><mark style=\"background-color: hsl(0, 75%, 75%); opacity:1.0;                     line-height:1.75\"><font color=\"black\"> any                    </font></mark><mark style=\"background-color: hsl(120, 75%, 82%); opacity:1.0;                     line-height:1.75\"><font color=\"black\"> real                    </font></mark><mark style=\"background-color: hsl(120, 75%, 95%); opacity:1.0;                     line-height:1.75\"><font color=\"black\"> transformation                    </font></mark><mark style=\"background-color: hsl(120, 75%, 94%); opacity:1.0;                     line-height:1.75\"><font color=\"black\"> [SEP]                    </font></mark></td><tr></table>"
      ],
      "text/plain": [
       "<IPython.core.display.HTML object>"
      ]
     },
     "metadata": {},
     "output_type": "display_data"
    },
    {
     "name": "stdout",
     "output_type": "stream",
     "text": [
      "<IPython.core.display.HTML object>\n",
      "Raw review: unadorned \n",
      "GT target: 0\n",
      "word attr tensor([ 0.8833, -0.1468, -0.1313, -0.3377,  0.2588], device='cuda:0')\n",
      "conti attr [tensor(0.8833, device='cuda:0'), tensor(-0.2384, device='cuda:0'), tensor(0.2588, device='cuda:0')]\n",
      "detokenized ['[CLS]', 'una', 'dor', 'ned', '[SEP]']\n",
      "len conti_raw 3\n",
      "conti_raw ['[CLS]', 'unadorned', '[SEP]']\n"
     ]
    },
    {
     "data": {
      "text/html": [
       "<table width: 100%><div style=\"border-top: 1px solid; margin-top: 5px;             padding-top: 5px; display: inline-block\"><b>Legend: </b><span style=\"display: inline-block; width: 10px; height: 10px;                 border: 1px solid; background-color:                 hsl(0, 75%, 60%)\"></span> Negative  <span style=\"display: inline-block; width: 10px; height: 10px;                 border: 1px solid; background-color:                 hsl(0, 75%, 100%)\"></span> Neutral  <span style=\"display: inline-block; width: 10px; height: 10px;                 border: 1px solid; background-color:                 hsl(120, 75%, 50%)\"></span> Positive  </div><tr><th>True Label</th><th>Predicted Label</th><th>Attribution Label</th><th>Attribution Score</th><th>Word Importance</th><tr><td><text style=\"padding-right:2em\"><b>Neg</b></text></td><td><text style=\"padding-right:2em\"><b>Neg (0.06)</b></text></td><td><text style=\"padding-right:2em\"><b>Pos</b></text></td><td><text style=\"padding-right:2em\"><b>0.53</b></text></td><td><mark style=\"background-color: hsl(120, 75%, 56%); opacity:1.0;                     line-height:1.75\"><font color=\"black\"> [CLS]                    </font></mark><mark style=\"background-color: hsl(0, 75%, 95%); opacity:1.0;                     line-height:1.75\"><font color=\"black\"> unadorned                    </font></mark><mark style=\"background-color: hsl(0, 75%, 95%); opacity:1.0;                     line-height:1.75\"><font color=\"black\"> [SEP]                    </font></mark></td><tr></table>"
      ],
      "text/plain": [
       "<IPython.core.display.HTML object>"
      ]
     },
     "metadata": {},
     "output_type": "display_data"
    },
    {
     "name": "stdout",
     "output_type": "stream",
     "text": [
      "<IPython.core.display.HTML object>\n",
      "Raw review: this is the kind of movie that you only need to watch for about thirty seconds before you say to yourself , ` ah , yes , here we have a bad , bad , bad movie . ' \n",
      "GT target: 0\n",
      "word attr tensor([ 0.0980, -0.0713, -0.0430, -0.0507, -0.0856,  0.1174,  0.0459, -0.1490,\n",
      "        -0.1659,  0.0145,  0.0635, -0.0855, -0.1437,  0.0263, -0.0067,  0.0669,\n",
      "         0.0209,  0.0303, -0.1504,  0.0393, -0.1890, -0.1522, -0.0233, -0.3629,\n",
      "         0.0454, -0.0329, -0.0046,  0.1695,  0.0542,  0.0147, -0.1409,  0.0528,\n",
      "        -0.1304,  0.0466,  0.1841, -0.1055,  0.1376, -0.6486, -0.0758,  0.0425,\n",
      "        -0.2912], device='cuda:0')\n",
      "conti attr [tensor(0.0980, device='cuda:0'), tensor(-0.0713, device='cuda:0'), tensor(-0.0430, device='cuda:0'), tensor(-0.0507, device='cuda:0'), tensor(-0.0856, device='cuda:0'), tensor(0.1174, device='cuda:0'), tensor(0.0459, device='cuda:0'), tensor(-0.1490, device='cuda:0'), tensor(-0.1659, device='cuda:0'), tensor(0.0145, device='cuda:0'), tensor(0.0635, device='cuda:0'), tensor(-0.0855, device='cuda:0'), tensor(-0.1437, device='cuda:0'), tensor(0.0263, device='cuda:0'), tensor(-0.0067, device='cuda:0'), tensor(0.0669, device='cuda:0'), tensor(0.0209, device='cuda:0'), tensor(0.0303, device='cuda:0'), tensor(-0.1504, device='cuda:0'), tensor(0.0393, device='cuda:0'), tensor(-0.1890, device='cuda:0'), tensor(-0.1522, device='cuda:0'), tensor(-0.0233, device='cuda:0'), tensor(-0.3629, device='cuda:0'), tensor(0.0454, device='cuda:0'), tensor(-0.0329, device='cuda:0'), tensor(-0.0046, device='cuda:0'), tensor(0.1695, device='cuda:0'), tensor(0.0542, device='cuda:0'), tensor(0.0147, device='cuda:0'), tensor(-0.1409, device='cuda:0'), tensor(0.0528, device='cuda:0'), tensor(-0.1304, device='cuda:0'), tensor(0.0466, device='cuda:0'), tensor(0.1841, device='cuda:0'), tensor(-0.1055, device='cuda:0'), tensor(0.1376, device='cuda:0'), tensor(-0.6486, device='cuda:0'), tensor(-0.0758, device='cuda:0'), tensor(0.0425, device='cuda:0'), tensor(-0.2912, device='cuda:0')]\n",
      "detokenized ['[CLS]', 'this', 'is', 'the', 'kind', 'of', 'movie', 'that', 'you', 'only', 'need', 'to', 'watch', 'for', 'about', 'thirty', 'seconds', 'before', 'you', 'say', 'to', 'yourself', ',', '`', 'ah', ',', 'yes', ',', 'here', 'we', 'have', 'a', 'bad', ',', 'bad', ',', 'bad', 'movie', '.', \"'\", '[SEP]']\n",
      "len conti_raw 41\n",
      "conti_raw ['[CLS]', 'this', 'is', 'the', 'kind', 'of', 'movie', 'that', 'you', 'only', 'need', 'to', 'watch', 'for', 'about', 'thirty', 'seconds', 'before', 'you', 'say', 'to', 'yourself', ',', '`', 'ah', ',', 'yes', ',', 'here', 'we', 'have', 'a', 'bad', ',', 'bad', ',', 'bad', 'movie', '.', \"'\", '[SEP]']\n"
     ]
    },
    {
     "data": {
      "text/html": [
       "<table width: 100%><div style=\"border-top: 1px solid; margin-top: 5px;             padding-top: 5px; display: inline-block\"><b>Legend: </b><span style=\"display: inline-block; width: 10px; height: 10px;                 border: 1px solid; background-color:                 hsl(0, 75%, 60%)\"></span> Negative  <span style=\"display: inline-block; width: 10px; height: 10px;                 border: 1px solid; background-color:                 hsl(0, 75%, 100%)\"></span> Neutral  <span style=\"display: inline-block; width: 10px; height: 10px;                 border: 1px solid; background-color:                 hsl(120, 75%, 50%)\"></span> Positive  </div><tr><th>True Label</th><th>Predicted Label</th><th>Attribution Label</th><th>Attribution Score</th><th>Word Importance</th><tr><td><text style=\"padding-right:2em\"><b>Neg</b></text></td><td><text style=\"padding-right:2em\"><b>Neg (0.07)</b></text></td><td><text style=\"padding-right:2em\"><b>Neg</b></text></td><td><text style=\"padding-right:2em\"><b>-1.84</b></text></td><td><mark style=\"background-color: hsl(120, 75%, 96%); opacity:1.0;                     line-height:1.75\"><font color=\"black\"> [CLS]                    </font></mark><mark style=\"background-color: hsl(0, 75%, 98%); opacity:1.0;                     line-height:1.75\"><font color=\"black\"> this                    </font></mark><mark style=\"background-color: hsl(0, 75%, 99%); opacity:1.0;                     line-height:1.75\"><font color=\"black\"> is                    </font></mark><mark style=\"background-color: hsl(0, 75%, 98%); opacity:1.0;                     line-height:1.75\"><font color=\"black\"> the                    </font></mark><mark style=\"background-color: hsl(0, 75%, 97%); opacity:1.0;                     line-height:1.75\"><font color=\"black\"> kind                    </font></mark><mark style=\"background-color: hsl(120, 75%, 95%); opacity:1.0;                     line-height:1.75\"><font color=\"black\"> of                    </font></mark><mark style=\"background-color: hsl(120, 75%, 98%); opacity:1.0;                     line-height:1.75\"><font color=\"black\"> movie                    </font></mark><mark style=\"background-color: hsl(0, 75%, 95%); opacity:1.0;                     line-height:1.75\"><font color=\"black\"> that                    </font></mark><mark style=\"background-color: hsl(0, 75%, 94%); opacity:1.0;                     line-height:1.75\"><font color=\"black\"> you                    </font></mark><mark style=\"background-color: hsl(120, 75%, 100%); opacity:1.0;                     line-height:1.75\"><font color=\"black\"> only                    </font></mark><mark style=\"background-color: hsl(120, 75%, 97%); opacity:1.0;                     line-height:1.75\"><font color=\"black\"> need                    </font></mark><mark style=\"background-color: hsl(0, 75%, 97%); opacity:1.0;                     line-height:1.75\"><font color=\"black\"> to                    </font></mark><mark style=\"background-color: hsl(0, 75%, 95%); opacity:1.0;                     line-height:1.75\"><font color=\"black\"> watch                    </font></mark><mark style=\"background-color: hsl(120, 75%, 99%); opacity:1.0;                     line-height:1.75\"><font color=\"black\"> for                    </font></mark><mark style=\"background-color: hsl(0, 75%, 100%); opacity:1.0;                     line-height:1.75\"><font color=\"black\"> about                    </font></mark><mark style=\"background-color: hsl(120, 75%, 97%); opacity:1.0;                     line-height:1.75\"><font color=\"black\"> thirty                    </font></mark><mark style=\"background-color: hsl(120, 75%, 99%); opacity:1.0;                     line-height:1.75\"><font color=\"black\"> seconds                    </font></mark><mark style=\"background-color: hsl(120, 75%, 99%); opacity:1.0;                     line-height:1.75\"><font color=\"black\"> before                    </font></mark><mark style=\"background-color: hsl(0, 75%, 94%); opacity:1.0;                     line-height:1.75\"><font color=\"black\"> you                    </font></mark><mark style=\"background-color: hsl(120, 75%, 99%); opacity:1.0;                     line-height:1.75\"><font color=\"black\"> say                    </font></mark><mark style=\"background-color: hsl(0, 75%, 93%); opacity:1.0;                     line-height:1.75\"><font color=\"black\"> to                    </font></mark><mark style=\"background-color: hsl(0, 75%, 94%); opacity:1.0;                     line-height:1.75\"><font color=\"black\"> yourself                    </font></mark><mark style=\"background-color: hsl(0, 75%, 100%); opacity:1.0;                     line-height:1.75\"><font color=\"black\"> ,                    </font></mark><mark style=\"background-color: hsl(0, 75%, 86%); opacity:1.0;                     line-height:1.75\"><font color=\"black\"> `                    </font></mark><mark style=\"background-color: hsl(120, 75%, 98%); opacity:1.0;                     line-height:1.75\"><font color=\"black\"> ah                    </font></mark><mark style=\"background-color: hsl(0, 75%, 99%); opacity:1.0;                     line-height:1.75\"><font color=\"black\"> ,                    </font></mark><mark style=\"background-color: hsl(0, 75%, 100%); opacity:1.0;                     line-height:1.75\"><font color=\"black\"> yes                    </font></mark><mark style=\"background-color: hsl(120, 75%, 92%); opacity:1.0;                     line-height:1.75\"><font color=\"black\"> ,                    </font></mark><mark style=\"background-color: hsl(120, 75%, 98%); opacity:1.0;                     line-height:1.75\"><font color=\"black\"> here                    </font></mark><mark style=\"background-color: hsl(120, 75%, 100%); opacity:1.0;                     line-height:1.75\"><font color=\"black\"> we                    </font></mark><mark style=\"background-color: hsl(0, 75%, 95%); opacity:1.0;                     line-height:1.75\"><font color=\"black\"> have                    </font></mark><mark style=\"background-color: hsl(120, 75%, 98%); opacity:1.0;                     line-height:1.75\"><font color=\"black\"> a                    </font></mark><mark style=\"background-color: hsl(0, 75%, 95%); opacity:1.0;                     line-height:1.75\"><font color=\"black\"> bad                    </font></mark><mark style=\"background-color: hsl(120, 75%, 98%); opacity:1.0;                     line-height:1.75\"><font color=\"black\"> ,                    </font></mark><mark style=\"background-color: hsl(120, 75%, 91%); opacity:1.0;                     line-height:1.75\"><font color=\"black\"> bad                    </font></mark><mark style=\"background-color: hsl(0, 75%, 96%); opacity:1.0;                     line-height:1.75\"><font color=\"black\"> ,                    </font></mark><mark style=\"background-color: hsl(120, 75%, 94%); opacity:1.0;                     line-height:1.75\"><font color=\"black\"> bad                    </font></mark><mark style=\"background-color: hsl(0, 75%, 75%); opacity:1.0;                     line-height:1.75\"><font color=\"black\"> movie                    </font></mark><mark style=\"background-color: hsl(0, 75%, 97%); opacity:1.0;                     line-height:1.75\"><font color=\"black\"> .                    </font></mark><mark style=\"background-color: hsl(120, 75%, 98%); opacity:1.0;                     line-height:1.75\"><font color=\"black\"> '                    </font></mark><mark style=\"background-color: hsl(0, 75%, 89%); opacity:1.0;                     line-height:1.75\"><font color=\"black\"> [SEP]                    </font></mark></td><tr></table>"
      ],
      "text/plain": [
       "<IPython.core.display.HTML object>"
      ]
     },
     "metadata": {},
     "output_type": "display_data"
    },
    {
     "name": "stdout",
     "output_type": "stream",
     "text": [
      "<IPython.core.display.HTML object>\n",
      "Raw review: feel sanitised and stagey \n",
      "GT target: 0\n",
      "word attr tensor([ 0.4699,  0.3353,  0.0761,  0.1217,  0.4140, -0.4560, -0.1293,  0.5001,\n",
      "        -0.0033], device='cuda:0')\n",
      "conti attr [tensor(0.4699, device='cuda:0'), tensor(0.3353, device='cuda:0'), tensor(0.2565, device='cuda:0'), tensor(-0.4560, device='cuda:0'), tensor(0.1854, device='cuda:0'), tensor(-0.0033, device='cuda:0')]\n",
      "detokenized ['[CLS]', 'feel', 'san', 'itis', 'ed', 'and', 'stage', 'y', '[SEP]']\n",
      "len conti_raw 6\n",
      "conti_raw ['[CLS]', 'feel', 'sanitised', 'and', 'stagey', '[SEP]']\n"
     ]
    },
    {
     "data": {
      "text/html": [
       "<table width: 100%><div style=\"border-top: 1px solid; margin-top: 5px;             padding-top: 5px; display: inline-block\"><b>Legend: </b><span style=\"display: inline-block; width: 10px; height: 10px;                 border: 1px solid; background-color:                 hsl(0, 75%, 60%)\"></span> Negative  <span style=\"display: inline-block; width: 10px; height: 10px;                 border: 1px solid; background-color:                 hsl(0, 75%, 100%)\"></span> Neutral  <span style=\"display: inline-block; width: 10px; height: 10px;                 border: 1px solid; background-color:                 hsl(120, 75%, 50%)\"></span> Positive  </div><tr><th>True Label</th><th>Predicted Label</th><th>Attribution Label</th><th>Attribution Score</th><th>Word Importance</th><tr><td><text style=\"padding-right:2em\"><b>Neg</b></text></td><td><text style=\"padding-right:2em\"><b>Neg (0.03)</b></text></td><td><text style=\"padding-right:2em\"><b>Pos</b></text></td><td><text style=\"padding-right:2em\"><b>1.33</b></text></td><td><mark style=\"background-color: hsl(120, 75%, 77%); opacity:1.0;                     line-height:1.75\"><font color=\"black\"> [CLS]                    </font></mark><mark style=\"background-color: hsl(120, 75%, 84%); opacity:1.0;                     line-height:1.75\"><font color=\"black\"> feel                    </font></mark><mark style=\"background-color: hsl(120, 75%, 97%); opacity:1.0;                     line-height:1.75\"><font color=\"black\"> sanitised                    </font></mark><mark style=\"background-color: hsl(120, 75%, 94%); opacity:1.0;                     line-height:1.75\"><font color=\"black\"> and                    </font></mark><mark style=\"background-color: hsl(120, 75%, 80%); opacity:1.0;                     line-height:1.75\"><font color=\"black\"> stagey                    </font></mark><mark style=\"background-color: hsl(0, 75%, 82%); opacity:1.0;                     line-height:1.75\"><font color=\"black\"> [SEP]                    </font></mark></td><tr></table>"
      ],
      "text/plain": [
       "<IPython.core.display.HTML object>"
      ]
     },
     "metadata": {},
     "output_type": "display_data"
    },
    {
     "name": "stdout",
     "output_type": "stream",
     "text": [
      "<IPython.core.display.HTML object>\n",
      "Raw review: replete with stereotypical familial quandaries \n",
      "GT target: 0\n",
      "word attr tensor([-0.1476, -0.1091, -0.8026, -0.2045,  0.0658, -0.1579,  0.0018, -0.3082,\n",
      "        -0.1885, -0.0622, -0.1320, -0.0460, -0.1345,  0.2811], device='cuda:0')\n",
      "conti attr [tensor(-0.1476, device='cuda:0'), tensor(-0.4558, device='cuda:0'), tensor(-0.2045, device='cuda:0'), tensor(-0.0461, device='cuda:0'), tensor(-0.1165, device='cuda:0'), tensor(-0.1117, device='cuda:0'), tensor(0.2811, device='cuda:0')]\n",
      "detokenized ['[CLS]', 'rep', 'lete', 'with', 'stereo', 'typical', 'fa', 'mi', 'lia', 'l', 'quan', 'dar', 'ies', '[SEP]']\n",
      "len conti_raw 7\n",
      "conti_raw ['[CLS]', 'replete', 'with', 'stereotypical', 'familial', 'quandaries', '[SEP]']\n"
     ]
    },
    {
     "data": {
      "text/html": [
       "<table width: 100%><div style=\"border-top: 1px solid; margin-top: 5px;             padding-top: 5px; display: inline-block\"><b>Legend: </b><span style=\"display: inline-block; width: 10px; height: 10px;                 border: 1px solid; background-color:                 hsl(0, 75%, 60%)\"></span> Negative  <span style=\"display: inline-block; width: 10px; height: 10px;                 border: 1px solid; background-color:                 hsl(0, 75%, 100%)\"></span> Neutral  <span style=\"display: inline-block; width: 10px; height: 10px;                 border: 1px solid; background-color:                 hsl(120, 75%, 50%)\"></span> Positive  </div><tr><th>True Label</th><th>Predicted Label</th><th>Attribution Label</th><th>Attribution Score</th><th>Word Importance</th><tr><td><text style=\"padding-right:2em\"><b>Neg</b></text></td><td><text style=\"padding-right:2em\"><b>Neg (0.08)</b></text></td><td><text style=\"padding-right:2em\"><b>Neg</b></text></td><td><text style=\"padding-right:2em\"><b>-1.94</b></text></td><td><mark style=\"background-color: hsl(0, 75%, 95%); opacity:1.0;                     line-height:1.75\"><font color=\"black\"> [CLS]                    </font></mark><mark style=\"background-color: hsl(0, 75%, 96%); opacity:1.0;                     line-height:1.75\"><font color=\"black\"> replete                    </font></mark><mark style=\"background-color: hsl(0, 75%, 68%); opacity:1.0;                     line-height:1.75\"><font color=\"black\"> with                    </font></mark><mark style=\"background-color: hsl(0, 75%, 92%); opacity:1.0;                     line-height:1.75\"><font color=\"black\"> stereotypical                    </font></mark><mark style=\"background-color: hsl(120, 75%, 97%); opacity:1.0;                     line-height:1.75\"><font color=\"black\"> familial                    </font></mark><mark style=\"background-color: hsl(0, 75%, 94%); opacity:1.0;                     line-height:1.75\"><font color=\"black\"> quandaries                    </font></mark><mark style=\"background-color: hsl(120, 75%, 100%); opacity:1.0;                     line-height:1.75\"><font color=\"black\"> [SEP]                    </font></mark></td><tr></table>"
      ],
      "text/plain": [
       "<IPython.core.display.HTML object>"
      ]
     },
     "metadata": {},
     "output_type": "display_data"
    },
    {
     "name": "stdout",
     "output_type": "stream",
     "text": [
      "<IPython.core.display.HTML object>\n",
      "Raw review: quirky comedy \n",
      "GT target: 1\n",
      "word attr tensor([-0.5744,  0.2607, -0.3850, -0.6659, -0.1021], device='cuda:0')\n",
      "conti attr [tensor(-0.5744, device='cuda:0'), tensor(-0.0622, device='cuda:0'), tensor(-0.6659, device='cuda:0'), tensor(-0.1021, device='cuda:0')]\n",
      "detokenized ['[CLS]', 'qui', 'rky', 'comedy', '[SEP]']\n",
      "len conti_raw 4\n",
      "conti_raw ['[CLS]', 'quirky', 'comedy', '[SEP]']\n"
     ]
    },
    {
     "data": {
      "text/html": [
       "<table width: 100%><div style=\"border-top: 1px solid; margin-top: 5px;             padding-top: 5px; display: inline-block\"><b>Legend: </b><span style=\"display: inline-block; width: 10px; height: 10px;                 border: 1px solid; background-color:                 hsl(0, 75%, 60%)\"></span> Negative  <span style=\"display: inline-block; width: 10px; height: 10px;                 border: 1px solid; background-color:                 hsl(0, 75%, 100%)\"></span> Neutral  <span style=\"display: inline-block; width: 10px; height: 10px;                 border: 1px solid; background-color:                 hsl(120, 75%, 50%)\"></span> Positive  </div><tr><th>True Label</th><th>Predicted Label</th><th>Attribution Label</th><th>Attribution Score</th><th>Word Importance</th><tr><td><text style=\"padding-right:2em\"><b>Pos</b></text></td><td><text style=\"padding-right:2em\"><b>Pos (0.97)</b></text></td><td><text style=\"padding-right:2em\"><b>Neg</b></text></td><td><text style=\"padding-right:2em\"><b>-1.47</b></text></td><td><mark style=\"background-color: hsl(0, 75%, 78%); opacity:1.0;                     line-height:1.75\"><font color=\"black\"> [CLS]                    </font></mark><mark style=\"background-color: hsl(120, 75%, 87%); opacity:1.0;                     line-height:1.75\"><font color=\"black\"> quirky                    </font></mark><mark style=\"background-color: hsl(0, 75%, 85%); opacity:1.0;                     line-height:1.75\"><font color=\"black\"> comedy                    </font></mark><mark style=\"background-color: hsl(0, 75%, 74%); opacity:1.0;                     line-height:1.75\"><font color=\"black\"> [SEP]                    </font></mark></td><tr></table>"
      ],
      "text/plain": [
       "<IPython.core.display.HTML object>"
      ]
     },
     "metadata": {},
     "output_type": "display_data"
    },
    {
     "name": "stdout",
     "output_type": "stream",
     "text": [
      "<IPython.core.display.HTML object>\n",
      "Raw review: unrewarding \n",
      "GT target: 0\n",
      "word attr tensor([-0.5483, -0.1399, -0.2521, -0.6928,  0.3691], device='cuda:0')\n",
      "conti attr [tensor(-0.5483, device='cuda:0'), tensor(-0.4444, device='cuda:0'), tensor(0.3691, device='cuda:0')]\n",
      "detokenized ['[CLS]', 'un', 'rew', 'arding', '[SEP]']\n",
      "len conti_raw 3\n",
      "conti_raw ['[CLS]', 'unrewarding', '[SEP]']\n"
     ]
    },
    {
     "data": {
      "text/html": [
       "<table width: 100%><div style=\"border-top: 1px solid; margin-top: 5px;             padding-top: 5px; display: inline-block\"><b>Legend: </b><span style=\"display: inline-block; width: 10px; height: 10px;                 border: 1px solid; background-color:                 hsl(0, 75%, 60%)\"></span> Negative  <span style=\"display: inline-block; width: 10px; height: 10px;                 border: 1px solid; background-color:                 hsl(0, 75%, 100%)\"></span> Neutral  <span style=\"display: inline-block; width: 10px; height: 10px;                 border: 1px solid; background-color:                 hsl(120, 75%, 50%)\"></span> Positive  </div><tr><th>True Label</th><th>Predicted Label</th><th>Attribution Label</th><th>Attribution Score</th><th>Word Importance</th><tr><td><text style=\"padding-right:2em\"><b>Neg</b></text></td><td><text style=\"padding-right:2em\"><b>Neg (0.14)</b></text></td><td><text style=\"padding-right:2em\"><b>Neg</b></text></td><td><text style=\"padding-right:2em\"><b>-1.26</b></text></td><td><mark style=\"background-color: hsl(0, 75%, 79%); opacity:1.0;                     line-height:1.75\"><font color=\"black\"> [CLS]                    </font></mark><mark style=\"background-color: hsl(0, 75%, 95%); opacity:1.0;                     line-height:1.75\"><font color=\"black\"> unrewarding                    </font></mark><mark style=\"background-color: hsl(0, 75%, 90%); opacity:1.0;                     line-height:1.75\"><font color=\"black\"> [SEP]                    </font></mark></td><tr></table>"
      ],
      "text/plain": [
       "<IPython.core.display.HTML object>"
      ]
     },
     "metadata": {},
     "output_type": "display_data"
    },
    {
     "name": "stdout",
     "output_type": "stream",
     "text": [
      "<IPython.core.display.HTML object>\n",
      "Raw review: old-hat \n",
      "GT target: 0\n",
      "word attr tensor([-0.1731, -0.5756, -0.2757, -0.4593, -0.5930], device='cuda:0')\n",
      "conti attr [tensor(-0.1731, device='cuda:0'), tensor(-0.4425, device='cuda:0'), tensor(-0.5930, device='cuda:0')]\n",
      "detokenized ['[CLS]', 'old', '-', 'hat', '[SEP]']\n",
      "len conti_raw 3\n",
      "conti_raw ['[CLS]', 'old-hat', '[SEP]']\n"
     ]
    },
    {
     "data": {
      "text/html": [
       "<table width: 100%><div style=\"border-top: 1px solid; margin-top: 5px;             padding-top: 5px; display: inline-block\"><b>Legend: </b><span style=\"display: inline-block; width: 10px; height: 10px;                 border: 1px solid; background-color:                 hsl(0, 75%, 60%)\"></span> Negative  <span style=\"display: inline-block; width: 10px; height: 10px;                 border: 1px solid; background-color:                 hsl(0, 75%, 100%)\"></span> Neutral  <span style=\"display: inline-block; width: 10px; height: 10px;                 border: 1px solid; background-color:                 hsl(120, 75%, 50%)\"></span> Positive  </div><tr><th>True Label</th><th>Predicted Label</th><th>Attribution Label</th><th>Attribution Score</th><th>Word Importance</th><tr><td><text style=\"padding-right:2em\"><b>Neg</b></text></td><td><text style=\"padding-right:2em\"><b>Neg (0.05)</b></text></td><td><text style=\"padding-right:2em\"><b>Neg</b></text></td><td><text style=\"padding-right:2em\"><b>-2.08</b></text></td><td><mark style=\"background-color: hsl(0, 75%, 94%); opacity:1.0;                     line-height:1.75\"><font color=\"black\"> [CLS]                    </font></mark><mark style=\"background-color: hsl(0, 75%, 77%); opacity:1.0;                     line-height:1.75\"><font color=\"black\"> old-hat                    </font></mark><mark style=\"background-color: hsl(0, 75%, 89%); opacity:1.0;                     line-height:1.75\"><font color=\"black\"> [SEP]                    </font></mark></td><tr></table>"
      ],
      "text/plain": [
       "<IPython.core.display.HTML object>"
      ]
     },
     "metadata": {},
     "output_type": "display_data"
    },
    {
     "name": "stdout",
     "output_type": "stream",
     "text": [
      "<IPython.core.display.HTML object>\n"
     ]
    }
   ],
   "source": [
    "for i, (datum_raw, target) in enumerate(zip(sst2_data_raw, targets), start=1):\n",
    "    print(f'Raw review: {datum_raw}')\n",
    "    print(f'GT target: {target}')\n",
    "    visual_record=generate_record(datum_raw, target)\n",
    "    print(visualization.visualize_text([visual_record]))\n"
   ]
  },
  {
   "cell_type": "code",
   "execution_count": 9,
   "id": "c5ca5004",
   "metadata": {},
   "outputs": [],
   "source": [
    "file_name_base = 'Guided_Backprop'"
   ]
  },
  {
   "cell_type": "code",
   "execution_count": 10,
   "id": "ce01966e",
   "metadata": {
    "scrolled": true
   },
   "outputs": [
    {
     "data": {
      "text/plain": [
       "{'indices': [27798,\n",
       "  28244,\n",
       "  48083,\n",
       "  8795,\n",
       "  91,\n",
       "  20682,\n",
       "  59890,\n",
       "  41763,\n",
       "  19795,\n",
       "  9957,\n",
       "  28334,\n",
       "  55664,\n",
       "  16438,\n",
       "  18031,\n",
       "  9297,\n",
       "  66913,\n",
       "  9289,\n",
       "  6789,\n",
       "  25294,\n",
       "  33294,\n",
       "  29699,\n",
       "  41960,\n",
       "  6554,\n",
       "  8772,\n",
       "  17921,\n",
       "  8027,\n",
       "  49091,\n",
       "  54186,\n",
       "  15080,\n",
       "  22382,\n",
       "  23856,\n",
       "  9464,\n",
       "  23831,\n",
       "  59434,\n",
       "  17862,\n",
       "  24584,\n",
       "  26216,\n",
       "  63094,\n",
       "  55787,\n",
       "  3993,\n",
       "  25463,\n",
       "  17540,\n",
       "  51128,\n",
       "  46224,\n",
       "  32656,\n",
       "  30105,\n",
       "  28646,\n",
       "  17011,\n",
       "  7812,\n",
       "  48236],\n",
       " 'raw_data': ['its oscar nomination ',\n",
       "  'shenanigans and slapstick ',\n",
       "  'an unsettling sight , ',\n",
       "  'the climactic hourlong cricket match ',\n",
       "  'alternating between facetious comic parody and pulp melodrama , this smart-aleck movie ... tosses around some intriguing questions about the difference between human and android life ',\n",
       "  'to be a part of that elusive adult world ',\n",
       "  'emotional power ',\n",
       "  'reminds you of why animation is such a perfect medium for children , because of the way it allows the mind to enter and accept another world ',\n",
       "  'unparalleled proportions , writer-director parker ',\n",
       "  'this surprisingly decent flick ',\n",
       "  \"about the best thing you could say about narc is that it 's a rock-solid little genre picture . \",\n",
       "  'the very best ',\n",
       "  'been modeled on the worst revenge-of-the-nerds clichés the filmmakers could dredge up ',\n",
       "  'tell you ',\n",
       "  'utterly absorbing ',\n",
       "  'restate ',\n",
       "  'bears about as much resemblance to the experiences of most battered women as spider-man ',\n",
       "  'expressively performed ',\n",
       "  'the acting is amateurish , the cinematography is atrocious ',\n",
       "  'solidly constructed ',\n",
       "  \"are undermined by the movie 's presentation , which is way too stagy \",\n",
       "  'a great film ',\n",
       "  'charm ',\n",
       "  'this new jangle of noise , mayhem and stupidity ',\n",
       "  'sustains it ',\n",
       "  'is so deadly dull that watching the proverbial paint dry would be a welcome improvement . ',\n",
       "  'to accomplish ',\n",
       "  \"does n't work . \",\n",
       "  'given it a one-star rating ',\n",
       "  \"ice cube is n't quite out of ripe screwball ideas , but friday after next spreads them pretty thin \",\n",
       "  'been trying to forget ',\n",
       "  'big stars and ',\n",
       "  'of cheesy dialogue ',\n",
       "  \"the château is never quite able to overcome the cultural moat surrounding its ludicrous and contrived plot . ' \",\n",
       "  'principled ',\n",
       "  'end it all by stuffing himself into an electric pencil sharpener ',\n",
       "  'funniest idea ',\n",
       "  'silly and tedious ',\n",
       "  'two surefire , beloved genres ',\n",
       "  'most charmless ',\n",
       "  'offers us the sense that on some elemental level , lilia deeply wants to break free of her old life . ',\n",
       "  'might be best forgotten ',\n",
       "  \"a substantial arc of change that does n't produce any real transformation \",\n",
       "  'unadorned ',\n",
       "  \"this is the kind of movie that you only need to watch for about thirty seconds before you say to yourself , ` ah , yes , here we have a bad , bad , bad movie . ' \",\n",
       "  'feel sanitised and stagey ',\n",
       "  'replete with stereotypical familial quandaries ',\n",
       "  'quirky comedy ',\n",
       "  'unrewarding ',\n",
       "  'old-hat '],\n",
       " 'targets': [1,\n",
       "  1,\n",
       "  0,\n",
       "  1,\n",
       "  1,\n",
       "  1,\n",
       "  1,\n",
       "  1,\n",
       "  1,\n",
       "  1,\n",
       "  1,\n",
       "  1,\n",
       "  0,\n",
       "  1,\n",
       "  1,\n",
       "  0,\n",
       "  0,\n",
       "  1,\n",
       "  0,\n",
       "  1,\n",
       "  0,\n",
       "  1,\n",
       "  1,\n",
       "  0,\n",
       "  1,\n",
       "  0,\n",
       "  1,\n",
       "  0,\n",
       "  0,\n",
       "  0,\n",
       "  0,\n",
       "  1,\n",
       "  0,\n",
       "  0,\n",
       "  1,\n",
       "  0,\n",
       "  1,\n",
       "  0,\n",
       "  1,\n",
       "  0,\n",
       "  1,\n",
       "  0,\n",
       "  0,\n",
       "  0,\n",
       "  0,\n",
       "  0,\n",
       "  0,\n",
       "  1,\n",
       "  0,\n",
       "  0],\n",
       " 'model_out_list': [0.9578894972801208,\n",
       "  0.02607199177145958,\n",
       "  0.9280797243118286,\n",
       "  0.6026754379272461,\n",
       "  0.9272036552429199,\n",
       "  0.9597240090370178,\n",
       "  0.9770727157592773,\n",
       "  0.9707044959068298,\n",
       "  0.8834286332130432,\n",
       "  0.9658218622207642,\n",
       "  0.9529748558998108,\n",
       "  0.9749705791473389,\n",
       "  0.030051304027438164,\n",
       "  0.8954260945320129,\n",
       "  0.974568247795105,\n",
       "  0.5530857443809509,\n",
       "  0.7086556553840637,\n",
       "  0.9764208197593689,\n",
       "  0.031884290277957916,\n",
       "  0.9670499563217163,\n",
       "  0.04456028714776039,\n",
       "  0.9733861684799194,\n",
       "  0.9737695455551147,\n",
       "  0.09326992928981781,\n",
       "  0.9708950519561768,\n",
       "  0.41628754138946533,\n",
       "  0.9736232161521912,\n",
       "  0.04155701398849487,\n",
       "  0.7330113053321838,\n",
       "  0.04169812798500061,\n",
       "  0.06650674343109131,\n",
       "  0.9741768836975098,\n",
       "  0.02389264479279518,\n",
       "  0.060439176857471466,\n",
       "  0.9714932441711426,\n",
       "  0.06462432444095612,\n",
       "  0.9628397226333618,\n",
       "  0.035474635660648346,\n",
       "  0.9750030040740967,\n",
       "  0.9686804413795471,\n",
       "  0.9634529948234558,\n",
       "  0.06778600811958313,\n",
       "  0.0436873659491539,\n",
       "  0.058859918266534805,\n",
       "  0.06825332343578339,\n",
       "  0.026674073189496994,\n",
       "  0.07909509539604187,\n",
       "  0.9688959121704102,\n",
       "  0.136697456240654,\n",
       "  0.05097651481628418],\n",
       " 'raw_attr_list': [tensor([[[ 2.6378e-04, -6.2231e-04, -2.1858e-04,  ..., -1.6178e-04,\n",
       "             1.0229e-04,  2.0850e-04],\n",
       "           [ 5.8590e-05,  8.1254e-05,  1.8025e-04,  ...,  2.2482e-04,\n",
       "            -1.3342e-04, -1.2069e-05],\n",
       "           [ 2.1977e-04,  2.0836e-05,  2.2431e-05,  ..., -1.9277e-04,\n",
       "             3.9043e-05,  5.3665e-04],\n",
       "           [-2.8573e-04,  2.5277e-04,  2.3054e-04,  ..., -2.9660e-04,\n",
       "            -2.2705e-04,  1.1889e-04],\n",
       "           [-2.2307e-05, -1.8010e-04,  1.5038e-04,  ..., -3.4552e-05,\n",
       "            -1.3725e-04,  1.5661e-04]]], device='cuda:0'),\n",
       "  tensor([[[ 5.3372e-05,  3.6720e-06, -3.7984e-05,  ...,  2.4330e-05,\n",
       "             7.1787e-05, -1.2997e-05],\n",
       "           [ 2.1561e-04,  4.0181e-05,  1.0178e-04,  ...,  7.0028e-05,\n",
       "             1.3041e-06, -1.0596e-05],\n",
       "           [-2.3440e-05,  9.1671e-05, -2.0760e-05,  ...,  6.2542e-05,\n",
       "             2.6021e-05, -2.8790e-05],\n",
       "           ...,\n",
       "           [ 2.4874e-05,  1.3361e-04, -1.1026e-04,  ...,  9.7833e-05,\n",
       "            -4.5771e-05, -1.1125e-04],\n",
       "           [ 2.1357e-05,  1.3013e-04,  5.3960e-05,  ...,  1.9094e-04,\n",
       "            -1.1496e-04, -2.8432e-05],\n",
       "           [-1.2304e-05,  1.2534e-05, -2.3293e-05,  ..., -4.8959e-05,\n",
       "             6.4688e-05, -4.7554e-05]]], device='cuda:0'),\n",
       "  tensor([[[-0.0036,  0.0034, -0.0049,  ..., -0.0004,  0.0020, -0.0060],\n",
       "           [ 0.0009,  0.0011, -0.0029,  ..., -0.0015, -0.0005, -0.0013],\n",
       "           [ 0.0052, -0.0005, -0.0049,  ...,  0.0028,  0.0012, -0.0099],\n",
       "           ...,\n",
       "           [ 0.0013,  0.0041, -0.0004,  ...,  0.0017,  0.0040, -0.0043],\n",
       "           [-0.0023,  0.0017, -0.0026,  ..., -0.0005, -0.0003, -0.0005],\n",
       "           [ 0.0023, -0.0011,  0.0003,  ..., -0.0003,  0.0011, -0.0014]]],\n",
       "         device='cuda:0'),\n",
       "  tensor([[[-0.0157,  0.0122, -0.0110,  ..., -0.0199, -0.0123, -0.0023],\n",
       "           [-0.0022,  0.0046, -0.0021,  ..., -0.0030,  0.0028, -0.0052],\n",
       "           [-0.0048, -0.0021,  0.0003,  ..., -0.0088,  0.0059,  0.0012],\n",
       "           ...,\n",
       "           [-0.0076, -0.0030, -0.0069,  ..., -0.0006,  0.0033, -0.0005],\n",
       "           [-0.0046,  0.0015, -0.0107,  ...,  0.0029, -0.0003,  0.0031],\n",
       "           [-0.0004, -0.0014, -0.0067,  ...,  0.0012,  0.0076,  0.0043]]],\n",
       "         device='cuda:0'),\n",
       "  tensor([[[-3.7403e-04,  1.1567e-03, -1.1724e-03,  ..., -1.4701e-04,\n",
       "             6.4862e-04, -6.1320e-04],\n",
       "           [-1.4571e-04,  1.1581e-03, -2.4642e-05,  ...,  2.6256e-04,\n",
       "             3.5437e-05,  5.0171e-04],\n",
       "           [ 1.8379e-05,  2.0942e-04, -3.3550e-04,  ..., -2.8101e-04,\n",
       "             1.4931e-04,  1.7705e-04],\n",
       "           ...,\n",
       "           [-3.2428e-04,  3.8458e-04, -1.3076e-04,  ..., -3.7054e-04,\n",
       "             1.3207e-04,  8.4518e-05],\n",
       "           [-1.5466e-04,  1.6883e-04, -1.3517e-04,  ...,  8.8772e-05,\n",
       "             6.1307e-05,  5.1302e-06],\n",
       "           [ 1.5342e-04, -1.8607e-04, -2.5905e-05,  ...,  1.2462e-04,\n",
       "            -1.1292e-04,  1.8345e-04]]], device='cuda:0'),\n",
       "  tensor([[[-2.0172e-05,  1.1111e-04,  2.5280e-04,  ..., -8.4956e-05,\n",
       "             1.2882e-04, -2.3401e-04],\n",
       "           [-4.3723e-05,  1.0285e-04,  1.3921e-05,  ..., -1.0136e-05,\n",
       "             3.5546e-05,  1.5194e-04],\n",
       "           [-1.2890e-05,  9.1183e-05, -5.7041e-06,  ..., -1.6249e-04,\n",
       "             8.1824e-06,  5.4660e-05],\n",
       "           ...,\n",
       "           [ 8.7168e-05,  1.9931e-04,  1.8634e-04,  ..., -3.1771e-04,\n",
       "            -3.6499e-04,  3.2314e-04],\n",
       "           [ 3.4804e-05, -9.4896e-05,  3.8062e-06,  ..., -2.3685e-04,\n",
       "            -2.5310e-05,  1.1792e-04],\n",
       "           [-2.6079e-06,  5.3226e-05,  3.6082e-05,  ..., -1.9394e-04,\n",
       "             1.3646e-05,  5.8365e-05]]], device='cuda:0'),\n",
       "  tensor([[[-3.8804e-06, -5.1660e-05, -7.8084e-05,  ...,  5.8111e-06,\n",
       "             6.7702e-05, -2.1960e-05],\n",
       "           [-2.8390e-06,  7.0624e-05,  9.5630e-06,  ..., -3.9675e-05,\n",
       "            -1.0275e-04,  2.3088e-05],\n",
       "           [-4.6382e-05, -3.3987e-06,  5.5836e-05,  ..., -5.7463e-05,\n",
       "            -5.8414e-05,  2.1234e-05],\n",
       "           [ 7.5863e-07, -4.8666e-05, -1.5955e-07,  ..., -2.4060e-05,\n",
       "             1.5750e-06,  4.1109e-06]]], device='cuda:0'),\n",
       "  tensor([[[-2.7677e-05, -2.3470e-05, -3.3271e-05,  ...,  7.2131e-06,\n",
       "            -3.0246e-05,  4.1940e-05],\n",
       "           [ 1.7879e-05,  1.1549e-04, -2.7952e-05,  ..., -7.6546e-06,\n",
       "            -1.2120e-04, -6.3260e-05],\n",
       "           [-5.7121e-05,  3.4315e-05,  2.0442e-05,  ...,  1.7922e-05,\n",
       "             1.0121e-05, -3.2203e-05],\n",
       "           ...,\n",
       "           [ 1.9553e-06,  9.2116e-06, -5.3409e-06,  ..., -1.5807e-05,\n",
       "            -8.7530e-06,  3.2354e-06],\n",
       "           [-3.0921e-06, -4.4386e-06, -1.9577e-05,  ..., -1.4732e-05,\n",
       "            -2.2101e-05,  2.2093e-05],\n",
       "           [-1.9151e-05,  1.2228e-05, -1.2013e-05,  ..., -3.9852e-05,\n",
       "             1.2049e-05,  1.0571e-06]]], device='cuda:0'),\n",
       "  tensor([[[-0.0069, -0.0017, -0.0115,  ..., -0.0098, -0.0018,  0.0045],\n",
       "           [ 0.0072,  0.0016,  0.0058,  ..., -0.0029,  0.0009, -0.0030],\n",
       "           [ 0.0032, -0.0090, -0.0009,  ...,  0.0059,  0.0023, -0.0079],\n",
       "           ...,\n",
       "           [ 0.0028,  0.0019, -0.0012,  ..., -0.0029,  0.0034, -0.0008],\n",
       "           [-0.0016,  0.0023,  0.0098,  ..., -0.0048,  0.0040,  0.0024],\n",
       "           [-0.0001, -0.0023, -0.0011,  ..., -0.0027,  0.0047,  0.0010]]],\n",
       "         device='cuda:0'),\n",
       "  tensor([[[-1.4160e-04,  1.4313e-04,  1.7050e-05,  ..., -1.9363e-05,\n",
       "            -1.1354e-05, -1.9886e-04],\n",
       "           [-5.5128e-05,  4.4216e-05,  4.1982e-05,  ..., -1.6232e-05,\n",
       "            -4.2754e-06, -1.1460e-04],\n",
       "           [ 1.2749e-04, -3.1495e-05,  1.2252e-04,  ..., -6.1346e-05,\n",
       "            -8.8609e-06, -2.6263e-05],\n",
       "           [ 1.5299e-04,  1.3637e-04, -6.4455e-05,  ...,  7.9446e-05,\n",
       "             1.6384e-05, -8.9135e-05],\n",
       "           [ 9.4348e-06, -4.6436e-05, -2.1674e-04,  ...,  3.5419e-05,\n",
       "             6.1289e-05, -1.0692e-04],\n",
       "           [ 1.1835e-04,  2.8536e-07,  3.6265e-05,  ...,  5.5374e-05,\n",
       "            -5.6856e-05, -5.1622e-05]]], device='cuda:0'),\n",
       "  tensor([[[-2.6456e-04, -2.2869e-05, -1.7655e-04,  ..., -2.5483e-04,\n",
       "            -4.2159e-04, -2.4377e-04],\n",
       "           [-1.9941e-05,  7.8891e-05, -4.6478e-06,  ...,  5.3909e-05,\n",
       "            -8.6038e-05, -5.7909e-05],\n",
       "           [-1.3783e-04,  8.9571e-05,  6.9359e-05,  ...,  3.8735e-06,\n",
       "            -9.4265e-06,  4.3994e-05],\n",
       "           ...,\n",
       "           [-2.5486e-04,  2.3383e-04,  4.8373e-04,  ..., -3.5263e-05,\n",
       "            -4.3146e-04,  4.1610e-04],\n",
       "           [-9.3361e-05,  1.8709e-04, -2.5649e-04,  ..., -7.4771e-05,\n",
       "             1.0232e-04,  4.7722e-05],\n",
       "           [-1.1380e-05,  2.1762e-05, -1.5580e-04,  ..., -2.7422e-06,\n",
       "            -1.5143e-04,  9.4256e-05]]], device='cuda:0'),\n",
       "  tensor([[[-6.8401e-06,  2.9531e-05,  9.6374e-05,  ..., -4.7726e-06,\n",
       "            -6.2847e-05, -3.4081e-05],\n",
       "           [-8.2592e-07,  1.9179e-05,  1.6723e-05,  ...,  1.0926e-05,\n",
       "             2.5632e-05, -5.5505e-05],\n",
       "           [-7.1862e-05,  7.7143e-05,  6.4242e-06,  ...,  5.0291e-05,\n",
       "             6.1752e-06, -6.3985e-05],\n",
       "           [-5.5120e-05, -3.2001e-06,  2.7438e-05,  ..., -2.3302e-05,\n",
       "             2.5958e-05, -4.6994e-05],\n",
       "           [ 1.0014e-05,  2.5835e-05,  2.2762e-05,  ..., -3.4850e-06,\n",
       "            -2.4642e-05, -5.4551e-06]]], device='cuda:0'),\n",
       "  tensor([[[ 7.4989e-05, -5.2707e-05,  8.4260e-05,  ...,  3.2554e-05,\n",
       "            -4.5509e-05, -9.5236e-05],\n",
       "           [-2.2294e-05,  6.5101e-05, -4.4220e-05,  ..., -2.0489e-05,\n",
       "            -6.6597e-05,  7.3189e-05],\n",
       "           [ 1.4669e-05,  1.2218e-05,  6.5884e-05,  ..., -8.8447e-05,\n",
       "             3.7620e-05, -1.7943e-05],\n",
       "           ...,\n",
       "           [ 7.4250e-06, -1.1078e-05,  1.7270e-05,  ...,  6.8635e-05,\n",
       "            -2.1793e-05,  1.6911e-05],\n",
       "           [-4.0912e-05,  1.4957e-05,  6.1782e-06,  ..., -2.1998e-06,\n",
       "            -2.2417e-05,  6.3291e-06],\n",
       "           [ 2.2564e-05, -3.7834e-05, -9.6945e-07,  ...,  3.7236e-05,\n",
       "            -6.0061e-05, -6.6496e-07]]], device='cuda:0'),\n",
       "  tensor([[[ 5.0767e-04, -4.1295e-04, -1.8147e-03,  ..., -6.5134e-04,\n",
       "             1.4773e-03, -1.0981e-03],\n",
       "           [ 1.5840e-05,  1.7939e-03, -2.5632e-03,  ...,  2.8322e-03,\n",
       "            -3.4163e-03,  3.7604e-03],\n",
       "           [-3.2088e-04,  4.5495e-04, -1.2059e-03,  ...,  3.6364e-04,\n",
       "             9.8556e-04,  2.2770e-04],\n",
       "           [-2.7067e-04, -6.2874e-04,  8.8867e-04,  ..., -6.2131e-04,\n",
       "             4.8471e-04, -2.9217e-04]]], device='cuda:0'),\n",
       "  tensor([[[-1.6769e-05, -4.2833e-06,  3.1567e-05,  ..., -6.0581e-05,\n",
       "             5.7308e-05, -3.1365e-05],\n",
       "           [ 1.2221e-05, -1.1325e-04,  3.4912e-05,  ..., -5.5663e-05,\n",
       "            -6.2619e-05,  3.2245e-05],\n",
       "           [-2.7128e-05, -2.0223e-05, -5.8619e-05,  ..., -4.4766e-05,\n",
       "             3.1475e-05, -5.6299e-05],\n",
       "           [-6.4736e-06, -3.8825e-05, -9.1401e-06,  ..., -4.1070e-05,\n",
       "             1.9864e-05,  1.8016e-05]]], device='cuda:0'),\n",
       "  tensor([[[ 0.0060,  0.0163,  0.0271,  ..., -0.0224, -0.0151, -0.0326],\n",
       "           [-0.0162,  0.0058,  0.0158,  ..., -0.0111, -0.0062,  0.0001],\n",
       "           [-0.0203, -0.0374,  0.0737,  ..., -0.0068, -0.0240,  0.0293],\n",
       "           [ 0.0031,  0.0010,  0.0349,  ...,  0.0201, -0.0052, -0.0168]]],\n",
       "         device='cuda:0'),\n",
       "  tensor([[[-0.0005,  0.0030, -0.0021,  ..., -0.0021,  0.0029, -0.0062],\n",
       "           [ 0.0063, -0.0017, -0.0025,  ..., -0.0026,  0.0058, -0.0055],\n",
       "           [ 0.0036,  0.0029,  0.0012,  ..., -0.0024,  0.0007, -0.0016],\n",
       "           ...,\n",
       "           [-0.0012,  0.0004, -0.0012,  ...,  0.0003,  0.0005, -0.0002],\n",
       "           [ 0.0006, -0.0026,  0.0003,  ...,  0.0012,  0.0020, -0.0020],\n",
       "           [-0.0002, -0.0014, -0.0008,  ...,  0.0010, -0.0006, -0.0016]]],\n",
       "         device='cuda:0'),\n",
       "  tensor([[[ 2.4569e-05, -7.8783e-05,  4.8137e-06,  ...,  9.9408e-05,\n",
       "             1.8955e-05, -9.4646e-05],\n",
       "           [-2.0347e-05, -1.9582e-05,  1.1817e-06,  ...,  8.6355e-06,\n",
       "            -9.7936e-05, -1.6000e-04],\n",
       "           [ 1.1393e-05,  6.1425e-07, -2.3488e-05,  ..., -5.0438e-05,\n",
       "            -9.8708e-05, -2.6669e-05],\n",
       "           [-9.8338e-06,  2.8205e-05,  6.7144e-06,  ...,  1.4405e-05,\n",
       "            -1.1291e-05, -6.0817e-05],\n",
       "           [ 8.5399e-06, -4.0957e-05,  8.4526e-06,  ..., -8.2463e-06,\n",
       "            -2.5505e-06, -2.0584e-05]]], device='cuda:0'),\n",
       "  tensor([[[ 1.4730e-04, -3.4454e-06, -1.4103e-04,  ..., -1.9074e-04,\n",
       "            -4.3103e-05,  1.2564e-04],\n",
       "           [ 2.2949e-05,  2.2965e-06,  2.9789e-06,  ..., -1.7855e-05,\n",
       "            -1.1641e-05,  1.0287e-05],\n",
       "           [-6.4590e-05, -4.0281e-05, -7.4907e-05,  ..., -1.2831e-04,\n",
       "             2.4682e-05, -1.0815e-04],\n",
       "           ...,\n",
       "           [-4.7789e-06, -6.9671e-05,  6.5396e-05,  ...,  9.6179e-07,\n",
       "            -1.0019e-04, -1.0182e-04],\n",
       "           [-1.1061e-04, -2.9470e-06,  8.3442e-05,  ..., -4.5830e-04,\n",
       "             5.5303e-05, -1.5207e-04],\n",
       "           [ 2.7883e-05,  7.3340e-06, -5.8083e-05,  ..., -7.9707e-05,\n",
       "            -4.4090e-05,  3.4275e-05]]], device='cuda:0'),\n",
       "  tensor([[[ 7.5336e-05,  1.2134e-05, -6.5384e-05,  ..., -8.8764e-05,\n",
       "             3.4882e-04,  1.3844e-04],\n",
       "           [ 2.7575e-04, -2.6181e-05,  1.1185e-04,  ...,  2.2322e-04,\n",
       "             6.0878e-04,  6.9573e-06],\n",
       "           [-3.7263e-07, -1.6440e-04,  3.8456e-05,  ..., -2.0864e-05,\n",
       "             1.5813e-04,  6.8089e-05],\n",
       "           [-3.8214e-04, -7.7671e-04,  2.0697e-04,  ...,  2.2115e-04,\n",
       "             1.7005e-04,  2.7199e-04],\n",
       "           [ 6.0470e-05, -1.0887e-04,  1.1246e-04,  ..., -5.0668e-05,\n",
       "             2.4771e-04,  1.3051e-04]]], device='cuda:0'),\n",
       "  tensor([[[ 6.8576e-05,  8.0831e-05,  9.6198e-07,  ...,  1.4756e-04,\n",
       "             8.9182e-06,  6.9550e-05],\n",
       "           [-8.4895e-05, -2.1756e-05, -9.3325e-05,  ..., -9.9817e-06,\n",
       "            -1.8411e-05,  9.6878e-06],\n",
       "           [-1.0689e-04, -3.8770e-05,  6.0793e-05,  ...,  1.1948e-04,\n",
       "             1.2652e-04,  1.2275e-04],\n",
       "           ...,\n",
       "           [ 1.2461e-04, -2.3217e-06,  2.0983e-05,  ..., -7.6909e-05,\n",
       "             5.2022e-05, -1.6025e-05],\n",
       "           [-2.0142e-05, -5.9358e-05,  3.9765e-06,  ..., -6.1835e-05,\n",
       "            -1.5273e-05,  3.2055e-05],\n",
       "           [-5.6432e-05,  3.7038e-05,  4.5961e-05,  ..., -4.7869e-05,\n",
       "             6.3807e-05,  9.6714e-06]]], device='cuda:0'),\n",
       "  tensor([[[ 2.6646e-05, -3.5612e-05, -6.3796e-06,  ..., -1.8668e-05,\n",
       "             2.3426e-05, -2.2321e-05],\n",
       "           [-1.0996e-05, -3.2665e-06,  1.7059e-05,  ...,  3.5398e-06,\n",
       "            -4.2110e-06, -1.8565e-05],\n",
       "           [ 9.6200e-06, -1.0222e-05,  1.8955e-05,  ...,  1.9196e-05,\n",
       "            -2.3061e-05, -9.2839e-07],\n",
       "           [-4.9239e-05,  6.2395e-05, -3.4015e-05,  ..., -2.2883e-05,\n",
       "             1.4806e-05, -3.6969e-05],\n",
       "           [-2.0860e-05, -2.3903e-05, -5.4247e-06,  ...,  9.6889e-06,\n",
       "            -1.4228e-05,  1.1186e-06]]], device='cuda:0'),\n",
       "  tensor([[[-1.6918e-04,  1.0856e-04, -4.1677e-05,  ..., -1.3385e-04,\n",
       "            -2.1546e-04, -1.7471e-04],\n",
       "           [ 4.6692e-05, -4.1613e-05, -3.4501e-05,  ...,  7.6170e-05,\n",
       "             4.9234e-05, -1.8120e-04],\n",
       "           [-5.6920e-05,  4.5932e-05, -2.1434e-04,  ...,  9.2622e-05,\n",
       "            -1.2538e-04,  4.6576e-05]]], device='cuda:0'),\n",
       "  tensor([[[-3.4434e-03,  2.3341e-04, -2.8596e-03,  ..., -9.4769e-05,\n",
       "             2.8361e-03, -7.1139e-05],\n",
       "           [-9.8464e-05, -2.3785e-04, -7.5433e-04,  ..., -7.3234e-04,\n",
       "            -7.7645e-05, -7.6012e-04],\n",
       "           [-1.4496e-03,  2.7364e-04, -1.3723e-03,  ..., -2.1331e-03,\n",
       "            -1.5744e-03, -2.8223e-04],\n",
       "           ...,\n",
       "           [-1.2978e-03,  3.4047e-04, -1.5957e-03,  ...,  1.3762e-03,\n",
       "            -1.1007e-03,  7.6901e-04],\n",
       "           [ 2.5465e-03, -3.9971e-04, -1.4794e-03,  ..., -5.6226e-04,\n",
       "             3.7640e-03,  6.8392e-03],\n",
       "           [ 9.1968e-04,  7.7982e-04, -8.7135e-04,  ...,  1.9849e-03,\n",
       "            -4.9645e-04,  1.2554e-04]]], device='cuda:0'),\n",
       "  tensor([[[-1.0580e-04,  5.4835e-05, -9.5459e-05,  ...,  2.6286e-05,\n",
       "             1.1285e-05, -9.5013e-05],\n",
       "           [-3.6509e-05,  2.4687e-04,  5.4675e-05,  ..., -2.7275e-04,\n",
       "            -2.6751e-04, -2.9525e-05],\n",
       "           [-3.8246e-05, -2.6282e-05, -7.8272e-06,  ..., -1.0918e-05,\n",
       "             2.9079e-06, -3.3313e-05],\n",
       "           [-3.7752e-05, -1.2685e-05,  2.4601e-05,  ..., -5.7498e-05,\n",
       "             5.9772e-05, -4.0398e-06],\n",
       "           [-2.5376e-05, -2.3775e-05, -1.0957e-05,  ..., -3.8752e-05,\n",
       "            -2.0171e-05,  8.1857e-05]]], device='cuda:0'),\n",
       "  tensor([[[-0.0123,  0.0016, -0.0076,  ..., -0.0079,  0.0032, -0.0108],\n",
       "           [ 0.0008, -0.0025, -0.0020,  ..., -0.0050, -0.0006, -0.0011],\n",
       "           [-0.0044,  0.0037,  0.0009,  ...,  0.0045,  0.0017,  0.0027],\n",
       "           ...,\n",
       "           [-0.0026,  0.0208,  0.0063,  ...,  0.0087, -0.0216,  0.0042],\n",
       "           [-0.0053,  0.0078,  0.0014,  ...,  0.0010,  0.0059,  0.0046],\n",
       "           [-0.0034,  0.0073, -0.0032,  ...,  0.0051,  0.0003,  0.0007]]],\n",
       "         device='cuda:0'),\n",
       "  tensor([[[-1.1918e-04,  9.3450e-05, -5.3657e-05,  ..., -1.1826e-04,\n",
       "             2.1520e-05, -1.0949e-05],\n",
       "           [ 4.1597e-05,  5.2429e-05, -7.8126e-06,  ..., -6.7255e-05,\n",
       "             2.4251e-05, -2.0118e-05],\n",
       "           [ 1.3376e-04,  2.8510e-04,  1.6376e-05,  ..., -9.0976e-05,\n",
       "            -2.4231e-05, -1.9610e-04],\n",
       "           [ 9.2494e-05, -2.1587e-05,  7.6203e-05,  ..., -2.2545e-05,\n",
       "             2.2100e-05,  2.9612e-05]]], device='cuda:0'),\n",
       "  tensor([[[ 1.3194e-04,  1.8394e-05, -1.7329e-04,  ...,  1.0271e-04,\n",
       "             7.9271e-05, -3.0838e-05],\n",
       "           [ 8.2319e-05,  6.3705e-05, -4.1319e-05,  ..., -1.6333e-04,\n",
       "            -1.8156e-04, -1.2500e-04],\n",
       "           [-3.7475e-05, -9.9631e-05, -2.2036e-04,  ..., -1.6794e-05,\n",
       "             1.8453e-05, -1.8995e-04],\n",
       "           ...,\n",
       "           [-9.8544e-05,  2.8094e-05,  5.6889e-05,  ..., -5.7188e-05,\n",
       "            -5.4127e-05,  6.2383e-05],\n",
       "           [ 1.7664e-04, -1.9836e-04, -5.4413e-05,  ..., -3.7153e-06,\n",
       "            -6.0936e-05, -3.2799e-05],\n",
       "           [ 4.8384e-05, -2.2037e-05, -1.0208e-04,  ...,  8.6999e-05,\n",
       "            -7.5070e-06,  3.6248e-05]]], device='cuda:0'),\n",
       "  tensor([[[ 0.0047,  0.0074, -0.0109,  ...,  0.0089, -0.0015, -0.0011],\n",
       "           [ 0.0128,  0.0007, -0.0022,  ..., -0.0129,  0.0083,  0.0181],\n",
       "           [-0.0058,  0.0010, -0.0090,  ..., -0.0022,  0.0039,  0.0019],\n",
       "           ...,\n",
       "           [ 0.0080, -0.0084, -0.0038,  ..., -0.0006, -0.0102,  0.0265],\n",
       "           [ 0.0113,  0.0202, -0.0291,  ..., -0.0002,  0.0161,  0.0266],\n",
       "           [ 0.0050, -0.0059,  0.0029,  ...,  0.0136,  0.0049,  0.0019]]],\n",
       "         device='cuda:0'),\n",
       "  tensor([[[ 1.9797e-04, -3.3250e-04,  2.4116e-04,  ...,  5.0892e-05,\n",
       "            -1.2148e-04, -7.9124e-05],\n",
       "           [-1.0860e-05,  9.3963e-05,  7.8920e-05,  ..., -3.6486e-05,\n",
       "            -2.6626e-05,  6.3026e-05],\n",
       "           [-5.3656e-05,  5.9495e-05,  1.7368e-04,  ...,  7.0625e-05,\n",
       "            -1.5731e-05, -3.5025e-05],\n",
       "           ...,\n",
       "           [-1.5564e-06, -7.5994e-06,  5.7901e-05,  ..., -3.8772e-05,\n",
       "            -9.0283e-05, -2.1913e-05],\n",
       "           [-3.0119e-05,  2.4802e-04, -2.1502e-04,  ..., -3.0537e-04,\n",
       "            -1.9005e-04,  1.8011e-04],\n",
       "           [-2.4163e-05,  8.1834e-05,  8.6585e-05,  ..., -6.4232e-05,\n",
       "             2.7361e-04, -3.9550e-05]]], device='cuda:0'),\n",
       "  tensor([[[-2.9682e-04,  3.4705e-05,  1.1828e-04,  ...,  9.2458e-05,\n",
       "            -1.8746e-03,  9.8592e-04],\n",
       "           [ 1.2456e-03,  1.5064e-03,  6.8399e-04,  ..., -7.3053e-04,\n",
       "            -1.6926e-03, -9.3686e-04],\n",
       "           [-1.0921e-03, -6.6639e-04,  8.8800e-04,  ...,  2.4748e-04,\n",
       "             2.0570e-04, -1.1577e-03],\n",
       "           [-3.4571e-04, -2.3655e-04, -1.5227e-05,  ...,  6.4939e-05,\n",
       "            -5.0305e-04, -2.6862e-04],\n",
       "           [ 3.6472e-04,  2.1286e-03,  2.5191e-04,  ..., -8.7859e-05,\n",
       "            -1.0299e-03, -3.7688e-04],\n",
       "           [ 3.4986e-04, -5.0070e-04,  6.7287e-04,  ...,  1.0157e-04,\n",
       "            -5.8824e-04, -1.4213e-04]]], device='cuda:0'),\n",
       "  tensor([[[-4.3125e-05,  2.7324e-05,  2.3337e-06,  ...,  3.5953e-05,\n",
       "             1.1521e-05, -4.9578e-05],\n",
       "           [ 9.3685e-06,  4.2604e-05,  4.0096e-05,  ...,  4.4446e-06,\n",
       "            -9.5577e-05, -1.0458e-05],\n",
       "           [-2.1718e-05,  9.1636e-06,  8.4072e-05,  ...,  9.0297e-06,\n",
       "            -3.3639e-05, -2.6325e-06],\n",
       "           [-3.6437e-06,  4.9629e-06,  6.6746e-05,  ...,  6.9416e-06,\n",
       "             3.1091e-05,  3.3049e-05],\n",
       "           [-2.1158e-05,  4.2237e-06,  2.6636e-05,  ...,  1.6647e-05,\n",
       "             3.0806e-05,  1.4489e-05]]], device='cuda:0'),\n",
       "  tensor([[[ 1.5992e-04, -1.9130e-05,  7.3568e-05,  ...,  8.7870e-05,\n",
       "             1.4291e-05, -1.2481e-04],\n",
       "           [ 2.9379e-05, -5.8064e-05, -1.6251e-05,  ...,  8.2449e-06,\n",
       "             5.9487e-05, -2.6171e-05],\n",
       "           [ 1.8798e-04, -6.3626e-05, -5.7164e-05,  ...,  1.0228e-04,\n",
       "             5.9448e-05,  3.2476e-05],\n",
       "           ...,\n",
       "           [ 6.5530e-05, -8.5267e-05, -8.1366e-05,  ...,  1.8409e-05,\n",
       "             4.9437e-05,  5.0794e-05],\n",
       "           [ 1.7307e-04, -1.5513e-04, -3.7456e-04,  ...,  2.0458e-04,\n",
       "             1.1930e-04, -1.0618e-06],\n",
       "           [ 7.9073e-05, -1.0796e-04, -7.6668e-06,  ...,  2.7210e-05,\n",
       "             3.0940e-05, -2.1937e-05]]], device='cuda:0'),\n",
       "  tensor([[[-2.9509e-04, -8.2662e-04, -3.1103e-04,  ..., -1.1819e-04,\n",
       "             2.0798e-04, -1.3342e-04],\n",
       "           [-3.3995e-04,  1.5053e-04, -1.3197e-04,  ...,  1.9065e-04,\n",
       "             6.2458e-05,  7.3014e-05],\n",
       "           [ 7.4219e-05,  1.9379e-04, -1.0004e-04,  ..., -1.0041e-04,\n",
       "             3.8530e-04, -6.2860e-04],\n",
       "           ...,\n",
       "           [-4.1675e-04, -3.2657e-04, -2.1058e-04,  ..., -6.2668e-05,\n",
       "             3.9082e-05,  8.0507e-04],\n",
       "           [-4.5162e-04, -4.9719e-04, -8.9736e-04,  ..., -4.4945e-04,\n",
       "             2.7824e-04, -1.1225e-03],\n",
       "           [-2.7061e-04, -3.9948e-04,  2.4592e-04,  ..., -4.3743e-04,\n",
       "             5.6973e-04,  2.4310e-04]]], device='cuda:0'),\n",
       "  tensor([[[-1.3360e-05, -9.7485e-06,  1.7191e-04,  ..., -8.3925e-05,\n",
       "            -1.3662e-04,  3.2880e-05],\n",
       "           [ 2.4838e-04,  1.1350e-04,  1.6450e-04,  ..., -1.2387e-05,\n",
       "             7.1571e-05, -3.1337e-04],\n",
       "           [-2.1984e-05, -9.0001e-06,  2.7464e-05,  ..., -3.3469e-05,\n",
       "             1.3671e-05,  1.6936e-05],\n",
       "           [ 2.0089e-05,  2.8267e-05,  7.4015e-05,  ..., -7.7963e-06,\n",
       "            -2.6795e-05,  7.1215e-05]]], device='cuda:0'),\n",
       "  tensor([[[-1.4033e-03, -1.0865e-04,  4.6190e-04,  ..., -3.2529e-05,\n",
       "            -3.2945e-04, -6.8643e-04],\n",
       "           [-2.2843e-04,  6.6494e-04,  5.7067e-04,  ...,  9.5029e-05,\n",
       "            -2.1905e-05, -1.9495e-04],\n",
       "           [-4.3307e-05, -1.0169e-04, -3.1255e-05,  ..., -3.5246e-04,\n",
       "            -3.7450e-05, -1.6673e-04],\n",
       "           ...,\n",
       "           [-4.6524e-04,  1.8484e-05,  2.4089e-04,  ..., -7.9625e-05,\n",
       "            -4.0583e-05, -1.3261e-04],\n",
       "           [-2.3058e-04,  1.9708e-05,  2.9149e-04,  ...,  3.2756e-04,\n",
       "             2.3681e-04,  6.1932e-05],\n",
       "           [-2.8716e-04, -2.6238e-05,  7.1965e-05,  ..., -3.2038e-05,\n",
       "             6.2587e-05,  7.3906e-06]]], device='cuda:0'),\n",
       "  tensor([[[-2.9802e-04,  1.7623e-04, -2.8793e-04,  ..., -2.2853e-04,\n",
       "            -2.1744e-04, -5.5869e-05],\n",
       "           [-5.1495e-04,  1.2604e-04,  1.0616e-05,  ...,  6.2149e-05,\n",
       "            -1.2146e-04, -7.4549e-05],\n",
       "           [-9.1650e-05, -7.0577e-05, -2.2237e-04,  ...,  8.4549e-05,\n",
       "             9.3778e-05,  9.1511e-05],\n",
       "           [-1.3827e-04, -1.0753e-04, -7.5791e-05,  ..., -9.3191e-05,\n",
       "             9.0198e-05, -8.4585e-05],\n",
       "           [-2.0357e-04, -2.5633e-04,  1.6797e-04,  ...,  2.3456e-05,\n",
       "             1.5271e-04,  1.4356e-04],\n",
       "           [-2.6373e-04,  3.8424e-05, -8.8039e-05,  ..., -6.2853e-05,\n",
       "             1.2847e-04,  2.0469e-04]]], device='cuda:0'),\n",
       "  tensor([[[-1.4009e-03,  4.9280e-04, -3.5729e-05,  ..., -4.6177e-04,\n",
       "            -1.5781e-04,  5.6656e-04],\n",
       "           [-2.0332e-04, -6.5534e-04,  1.5159e-03,  ..., -8.5672e-04,\n",
       "             4.6494e-04, -2.1174e-04],\n",
       "           [-5.7376e-04,  4.5137e-05, -3.7134e-05,  ..., -1.3565e-05,\n",
       "            -1.4107e-04,  2.5399e-04],\n",
       "           [-9.0550e-04, -4.1444e-04, -3.9834e-05,  ..., -1.0977e-03,\n",
       "            -5.4215e-04,  9.2638e-04],\n",
       "           [ 1.2235e-03,  4.7051e-04, -3.7331e-05,  ...,  2.4290e-04,\n",
       "             5.2119e-04,  1.5553e-04],\n",
       "           [-2.8401e-04,  1.5489e-04,  1.9700e-04,  ..., -1.5934e-04,\n",
       "            -8.0117e-05,  4.1477e-04]]], device='cuda:0'),\n",
       "  tensor([[[ 6.0279e-05, -6.3640e-05,  3.9095e-05,  ...,  2.0267e-05,\n",
       "             1.3837e-05, -1.1608e-05],\n",
       "           [-3.5668e-06,  1.3090e-05, -1.9000e-05,  ...,  1.2954e-05,\n",
       "             2.1797e-05, -5.9015e-05],\n",
       "           [ 4.8561e-06,  9.5519e-06, -2.3907e-05,  ..., -5.4077e-06,\n",
       "            -6.7949e-06,  1.0567e-06],\n",
       "           ...,\n",
       "           [-3.2027e-05,  3.2752e-05,  1.6223e-05,  ...,  2.9967e-05,\n",
       "            -6.9342e-05, -2.8817e-05],\n",
       "           [-6.4955e-05, -8.8097e-06,  5.7529e-06,  ..., -1.7679e-05,\n",
       "            -5.8917e-05, -4.5103e-05],\n",
       "           [-8.8357e-06,  7.7142e-06, -2.5965e-05,  ..., -2.8467e-05,\n",
       "             7.7078e-06,  5.1776e-06]]], device='cuda:0'),\n",
       "  tensor([[[-2.4960e-04,  2.5552e-04, -1.0873e-05,  ..., -3.1404e-04,\n",
       "            -6.0732e-04, -2.6927e-04],\n",
       "           [ 1.7909e-04, -2.6674e-04,  3.7966e-04,  ..., -4.4041e-04,\n",
       "             3.0743e-06, -1.1440e-04],\n",
       "           [-1.6408e-04, -3.3840e-04, -5.3145e-04,  ...,  1.1050e-03,\n",
       "             8.4117e-04, -5.8280e-04],\n",
       "           [ 3.2678e-04, -4.5629e-04, -3.5543e-04,  ..., -3.1957e-04,\n",
       "            -5.0037e-04, -3.1339e-04],\n",
       "           [-4.8514e-05,  1.2998e-04,  1.7545e-04,  ...,  3.5506e-05,\n",
       "             8.1048e-05,  1.5520e-04]]], device='cuda:0'),\n",
       "  tensor([[[-3.7138e-05,  5.1149e-05, -5.0262e-05,  ..., -1.5355e-05,\n",
       "            -2.0154e-05, -3.0900e-05],\n",
       "           [-9.8421e-05,  3.7986e-05, -1.2678e-04,  ..., -1.6531e-04,\n",
       "            -9.0178e-05, -7.1874e-05],\n",
       "           [-1.8443e-05,  1.6495e-04,  1.7278e-05,  ..., -2.1202e-04,\n",
       "            -4.2374e-05, -1.2390e-04],\n",
       "           ...,\n",
       "           [-7.5760e-05,  8.9659e-05, -1.3600e-04,  ...,  4.6393e-05,\n",
       "             3.5183e-05, -2.3930e-05],\n",
       "           [-1.0709e-04, -2.1484e-05, -7.6047e-06,  ...,  4.0766e-05,\n",
       "             3.6347e-06,  1.3195e-05],\n",
       "           [-5.4757e-05, -6.5538e-06, -6.5256e-05,  ...,  3.6930e-05,\n",
       "            -4.3155e-05,  3.4157e-06]]], device='cuda:0'),\n",
       "  tensor([[[-2.3410e-03,  8.9633e-04,  6.8448e-04,  ...,  1.3455e-03,\n",
       "            -3.5704e-03, -1.2327e-05],\n",
       "           [-3.3437e-04,  2.5216e-04,  7.4202e-04,  ...,  2.0551e-04,\n",
       "             3.8552e-04, -1.2764e-03],\n",
       "           [ 3.0511e-05, -2.7884e-04, -2.4464e-04,  ..., -1.1108e-03,\n",
       "            -4.4683e-04,  1.4783e-04],\n",
       "           [ 8.4410e-04,  7.5473e-04, -5.5180e-04,  ..., -1.6772e-04,\n",
       "            -1.2379e-03, -3.1709e-04],\n",
       "           [ 1.4019e-04,  6.4303e-04, -2.2410e-04,  ...,  3.9932e-04,\n",
       "             3.6794e-04,  3.0955e-04],\n",
       "           [-1.8967e-04,  5.4243e-05, -6.9524e-04,  ...,  4.6991e-04,\n",
       "            -9.9639e-04,  9.1429e-05]]], device='cuda:0'),\n",
       "  tensor([[[ 2.3447e-04, -3.7920e-04,  1.4147e-04,  ..., -1.1424e-04,\n",
       "             1.9931e-04,  2.5946e-05],\n",
       "           [ 6.6808e-05,  3.8943e-05,  8.3682e-05,  ..., -3.4980e-05,\n",
       "             1.8344e-05, -2.6499e-05],\n",
       "           [ 5.5221e-05, -1.4623e-04, -1.0327e-05,  ...,  7.0518e-05,\n",
       "             9.7019e-05,  2.3669e-04],\n",
       "           ...,\n",
       "           [ 6.2212e-05,  1.6288e-05, -4.0002e-05,  ...,  4.8164e-05,\n",
       "             8.5244e-06, -6.1283e-05],\n",
       "           [-6.4726e-05, -1.8210e-04,  1.5439e-05,  ...,  4.1124e-05,\n",
       "             9.6971e-05, -8.5061e-05],\n",
       "           [-1.5106e-04,  2.4638e-04,  7.2792e-05,  ..., -2.5404e-04,\n",
       "             2.1051e-04, -2.0718e-04]]], device='cuda:0'),\n",
       "  tensor([[[-0.0035,  0.0026, -0.0017,  ..., -0.0010, -0.0012,  0.0014],\n",
       "           [ 0.0016, -0.0017, -0.0005,  ..., -0.0002, -0.0003,  0.0002],\n",
       "           [ 0.0037, -0.0007,  0.0003,  ..., -0.0002,  0.0002, -0.0044],\n",
       "           [ 0.0012, -0.0040, -0.0006,  ..., -0.0009,  0.0017, -0.0019],\n",
       "           [ 0.0018, -0.0010, -0.0008,  ..., -0.0007,  0.0003, -0.0005]]],\n",
       "         device='cuda:0'),\n",
       "  tensor([[[ 9.1398e-05,  2.9624e-06, -8.2910e-05,  ...,  1.9446e-04,\n",
       "            -1.5025e-04, -1.1339e-04],\n",
       "           [-7.5127e-06,  8.5736e-06,  2.4618e-05,  ...,  9.5431e-06,\n",
       "             3.7668e-06, -9.6749e-06],\n",
       "           [ 1.3107e-05, -1.0487e-05,  1.9905e-05,  ..., -8.9411e-06,\n",
       "             2.7939e-06,  4.1721e-05],\n",
       "           ...,\n",
       "           [-2.3400e-05, -5.3537e-05, -3.0900e-05,  ...,  4.8810e-05,\n",
       "            -1.8082e-05, -1.4422e-06],\n",
       "           [ 1.9260e-04,  6.9434e-05, -3.3320e-06,  ..., -8.7715e-05,\n",
       "            -3.0821e-05,  3.1070e-04],\n",
       "           [-4.7072e-05,  7.5998e-05,  1.4258e-05,  ..., -7.8861e-05,\n",
       "             1.2218e-04, -7.0561e-06]]], device='cuda:0'),\n",
       "  tensor([[[ 9.1629e-05,  8.1812e-05, -1.4050e-04,  ..., -2.4748e-05,\n",
       "            -7.8817e-06,  5.8018e-05],\n",
       "           [ 4.4081e-06,  1.0842e-04,  1.8597e-05,  ...,  3.9215e-05,\n",
       "            -3.9536e-05, -3.9647e-05],\n",
       "           [ 2.3284e-06, -1.6324e-05, -1.3464e-05,  ...,  9.9981e-05,\n",
       "             4.3391e-05,  4.7648e-05],\n",
       "           ...,\n",
       "           [-2.4820e-05, -7.5505e-06,  7.2246e-05,  ...,  5.3413e-05,\n",
       "             2.9580e-06,  1.1216e-04],\n",
       "           [ 1.2142e-05,  1.0635e-06, -1.1209e-04,  ...,  2.0324e-05,\n",
       "            -1.2781e-04,  1.2524e-04],\n",
       "           [-5.3438e-06,  8.6605e-05, -4.9505e-05,  ..., -3.0455e-05,\n",
       "             3.5941e-05, -2.5506e-05]]], device='cuda:0'),\n",
       "  tensor([[[-2.0923e-03,  1.9926e-03, -3.4677e-03,  ..., -4.4212e-03,\n",
       "            -1.8639e-03,  6.1967e-04],\n",
       "           [ 1.9118e-03, -8.3090e-04,  2.3029e-03,  ...,  9.5198e-04,\n",
       "             1.3545e-03, -4.6777e-03],\n",
       "           [-5.2928e-03,  6.5118e-03, -1.2506e-03,  ...,  9.9551e-04,\n",
       "            -1.7817e-04,  1.9654e-05],\n",
       "           ...,\n",
       "           [ 1.0360e-03, -3.2569e-03,  4.8553e-04,  ...,  3.8226e-03,\n",
       "            -1.5208e-03, -8.3559e-05],\n",
       "           [ 1.5467e-03,  3.3624e-04,  1.6256e-03,  ..., -1.3846e-03,\n",
       "             2.6543e-03,  1.2516e-03],\n",
       "           [ 2.8811e-03, -3.6054e-04, -2.5338e-04,  ...,  2.3130e-03,\n",
       "            -2.4499e-03,  7.8205e-04]]], device='cuda:0'),\n",
       "  tensor([[[ 2.3720e-05, -7.2194e-05,  1.6757e-05,  ...,  3.1480e-05,\n",
       "            -1.7670e-05, -3.0966e-05],\n",
       "           [-4.0000e-05, -2.3659e-05,  1.0781e-04,  ..., -2.6529e-05,\n",
       "            -2.6142e-05, -6.8533e-05],\n",
       "           [-3.6573e-05, -3.5022e-05,  1.8553e-05,  ..., -2.2875e-05,\n",
       "            -2.3022e-05,  2.6230e-05],\n",
       "           [ 7.0007e-05,  4.4531e-05,  1.5303e-04,  ...,  1.1417e-06,\n",
       "            -3.1864e-05,  2.2167e-05],\n",
       "           [-6.1056e-06,  2.4480e-05, -1.0684e-05,  ..., -5.5780e-05,\n",
       "            -2.5909e-05,  1.1408e-05]]], device='cuda:0'),\n",
       "  tensor([[[ 1.0751e-03,  2.4129e-03, -2.6732e-03,  ...,  6.8024e-03,\n",
       "            -8.7963e-03, -9.0118e-03],\n",
       "           [ 2.6459e-03,  6.2760e-04,  1.6736e-03,  ...,  3.4658e-03,\n",
       "            -9.6257e-04, -6.0914e-03],\n",
       "           [-7.4743e-03, -1.6665e-02,  1.8502e-02,  ..., -1.2141e-02,\n",
       "             1.1851e-02, -1.1463e-02],\n",
       "           [-1.6503e-02, -2.0224e-02,  6.4768e-03,  ..., -1.3962e-02,\n",
       "             1.0527e-03, -7.5124e-03],\n",
       "           [ 9.0433e-03, -6.9244e-03,  1.9552e-03,  ...,  3.5351e-05,\n",
       "            -4.1570e-03, -7.8617e-03]]], device='cuda:0'),\n",
       "  tensor([[[ 4.5539e-04,  7.9077e-05, -4.7332e-05,  ..., -5.3225e-04,\n",
       "             2.0269e-04,  3.0846e-04],\n",
       "           [ 3.7930e-04,  1.2013e-04, -6.1804e-04,  ..., -9.8255e-04,\n",
       "            -6.7007e-05, -4.0157e-04],\n",
       "           [-1.0310e-04, -1.8991e-04, -4.6620e-04,  ..., -2.5712e-04,\n",
       "             7.8864e-05,  2.6796e-04],\n",
       "           [ 4.7911e-04, -5.6526e-04, -4.9282e-04,  ...,  1.9536e-06,\n",
       "             2.4831e-04, -5.5488e-04],\n",
       "           [ 6.8487e-04, -7.0975e-04,  3.3899e-04,  ..., -6.4110e-05,\n",
       "             9.8279e-05,  3.8309e-04]]], device='cuda:0')],\n",
       " 'conti_attr_list': [tensor([-0.6134,  0.3798,  0.3681,  0.4772, -0.3409]),\n",
       "  tensor([-0.0973,  0.1248,  0.0049,  0.6224,  0.0207]),\n",
       "  tensor([-0.4192,  0.2281, -0.0351,  0.4801, -0.2229,  0.2991]),\n",
       "  tensor([-0.1837, -0.1459, -0.2887,  0.2095, -0.1022, -0.1611,  0.1167]),\n",
       "  tensor([ 0.1281,  0.0517, -0.0033,  0.1128, -0.0961,  0.0538,  0.0349,  0.0134,\n",
       "           0.0877, -0.0754, -0.0806,  0.0924,  0.1228, -0.0120,  0.1199,  0.3256,\n",
       "           0.1629,  0.2857,  0.3762,  0.1201,  0.0837,  0.0430,  0.0696,  0.0714,\n",
       "           0.0497,  0.1836,  0.1270, -0.0175]),\n",
       "  tensor([-0.3730, -0.0292,  0.0186,  0.5110,  0.1792,  0.1451,  0.2783,  0.4092,\n",
       "           0.5258,  0.1010,  0.1175]),\n",
       "  tensor([ 0.4173,  0.6296, -0.1062,  0.6467]),\n",
       "  tensor([ 2.8247e-04, -3.3875e-01,  4.5483e-01,  2.5710e-01,  3.1463e-01,\n",
       "           6.9152e-02,  6.7253e-02,  6.1297e-02,  6.9382e-02,  5.9340e-02,\n",
       "           1.2710e-01,  1.4633e-01,  2.4670e-01, -7.5798e-02,  8.5908e-02,\n",
       "           1.8649e-01,  1.3338e-01, -5.0451e-02,  2.0722e-01, -2.2460e-01,\n",
       "           1.4729e-01, -1.9436e-01,  9.1560e-02,  7.3154e-03,  1.2685e-01,\n",
       "          -4.4251e-02,  6.8365e-02,  1.6867e-01,  3.3579e-01]),\n",
       "  tensor([ 0.1673, -0.3375,  0.1586, -0.0719, -0.0627, -0.0745, -0.5421]),\n",
       "  tensor([-0.2811, -0.2440, -0.2501, -0.8031, -0.2355, -0.3137]),\n",
       "  tensor([-0.1701, -0.0922,  0.0543, -0.2773, -0.0535, -0.1595, -0.0228, -0.1457,\n",
       "           0.0340, -0.0838, -0.2781,  0.0125, -0.0631, -0.0166,  0.3889,  0.1312,\n",
       "           0.0413,  0.3275, -0.0176,  0.1504,  0.1875]),\n",
       "  tensor([-0.7216, -0.2030, -0.5044, -0.1171, -0.4122]),\n",
       "  tensor([-0.0323, -0.3174, -0.1743, -0.1173, -0.1819, -0.0401, -0.0821, -0.1955,\n",
       "          -0.0685,  0.1796, -0.1527, -0.1201, -0.4760, -0.2162]),\n",
       "  tensor([0.3698, 0.7387, 0.5453, 0.1423]),\n",
       "  tensor([ 0.1808, -0.3295, -0.7829, -0.4958]),\n",
       "  tensor([-0.7425, -0.2707, -0.3466]),\n",
       "  tensor([ 0.4188,  0.0860,  0.2456,  0.2400,  0.0066,  0.1543,  0.1532, -0.1212,\n",
       "           0.5021,  0.0533,  0.0875,  0.2815,  0.4947,  0.0180,  0.0600,  0.0724]),\n",
       "  tensor([-0.6858,  0.1383,  0.6590,  0.2040]),\n",
       "  tensor([ 0.7112,  0.0170, -0.0680,  0.0044,  0.1039,  0.1644,  0.1448, -0.1912,\n",
       "          -0.1428,  0.1464, -0.3558]),\n",
       "  tensor([-0.4025,  0.0662, -0.9014,  0.1288]),\n",
       "  tensor([-0.3194,  0.3201, -0.2650,  0.1568, -0.2637,  0.0541,  0.0986, -0.1716,\n",
       "          -0.2222,  0.1014, -0.0257, -0.2292,  0.1326, -0.1352,  0.0462]),\n",
       "  tensor([ 0.0568,  0.0425,  0.8763,  0.3669, -0.3041]),\n",
       "  tensor([-0.3845, -0.8046, -0.4525]),\n",
       "  tensor([-0.7127, -0.0517, -0.1028,  0.1998,  0.0967,  0.2244, -0.1516,  0.2402,\n",
       "           0.0147,  0.4717,  0.0388]),\n",
       "  tensor([-0.3333, -0.4870, -0.4913, -0.2730]),\n",
       "  tensor([-0.7165, -0.0856, -0.0487,  0.0591, -0.1080, -0.0752, -0.2472,  0.0684,\n",
       "          -0.0486, -0.1216, -0.2095,  0.0949, -0.0866,  0.1275, -0.1628,  0.0888,\n",
       "          -0.4168, -0.0251]),\n",
       "  tensor([-0.7762, -0.5959,  0.0575, -0.1977]),\n",
       "  tensor([-0.4520,  0.5343,  0.2659, -0.1074,  0.5063,  0.1283]),\n",
       "  tensor([-0.1354, -0.1138, -0.2516,  0.0505, -0.2530, -0.2515, -0.4770]),\n",
       "  tensor([-0.7838,  0.0444, -0.0675,  0.0430,  0.1130, -0.1229, -0.0497, -0.0554,\n",
       "          -0.0079,  0.0765, -0.1261, -0.0115,  0.0848, -0.1627, -0.1231,  0.1405,\n",
       "          -0.0987,  0.1195,  0.0041, -0.1606,  0.3456]),\n",
       "  tensor([ 0.3881, -0.1031, -0.0736,  0.2101,  0.8097, -0.3654]),\n",
       "  tensor([ 0.4945, -0.7464, -0.0026, -0.4272, -0.1255]),\n",
       "  tensor([ 0.1163, -0.0015,  0.3556,  0.7290, -0.1300]),\n",
       "  tensor([-0.3942, -0.0698, -0.4623,  0.0754, -0.0099, -0.2562, -0.1538, -0.1530,\n",
       "          -0.1047, -0.2128, -0.1081,  0.0310, -0.2919, -0.2356,  0.0375, -0.1044,\n",
       "          -0.0859,  0.0425,  0.0356,  0.0275, -0.5010]),\n",
       "  tensor([-0.5381, -0.5471, -0.0686]),\n",
       "  tensor([-0.2982,  0.0388, -0.2726, -0.2088, -0.3199, -0.1625, -0.2205, -0.2168,\n",
       "          -0.2098, -0.2647, -0.4544, -0.3286, -0.1242]),\n",
       "  tensor([-0.2593, -0.3553,  0.1703, -0.6279]),\n",
       "  tensor([-0.1482, -0.3807, -0.2666, -0.5758, -0.2856]),\n",
       "  tensor([-0.3224,  0.1638, -0.1798,  0.5188, -0.1748, -0.6193, -0.3109]),\n",
       "  tensor([-0.4410, -0.4311, -0.4366, -0.3646]),\n",
       "  tensor([ 0.1978,  0.2108,  0.3066,  0.3490,  0.3169,  0.1280, -0.1184,  0.0178,\n",
       "           0.1863,  0.1440, -0.0404,  0.0677,  0.2977,  0.2813, -0.0557,  0.2994,\n",
       "           0.1813,  0.0554, -0.0655,  0.1772,  0.3588,  0.0166, -0.0765]),\n",
       "  tensor([-0.4740, -0.3846, -0.4006, -0.4644, -0.3318, -0.3756]),\n",
       "  tensor([ 0.4506,  0.1081,  0.1668,  0.0153,  0.1162,  0.0712,  0.1096,  0.3432,\n",
       "          -0.3624,  0.3691,  0.1175,  0.1367, -0.1032,  0.0420]),\n",
       "  tensor([ 0.8833, -0.2384,  0.2588]),\n",
       "  tensor([ 0.0980, -0.0713, -0.0430, -0.0507, -0.0856,  0.1174,  0.0459, -0.1490,\n",
       "          -0.1659,  0.0145,  0.0635, -0.0855, -0.1437,  0.0263, -0.0067,  0.0669,\n",
       "           0.0209,  0.0303, -0.1504,  0.0393, -0.1890, -0.1522, -0.0233, -0.3629,\n",
       "           0.0454, -0.0329, -0.0046,  0.1695,  0.0542,  0.0147, -0.1409,  0.0528,\n",
       "          -0.1304,  0.0466,  0.1841, -0.1055,  0.1376, -0.6486, -0.0758,  0.0425,\n",
       "          -0.2912]),\n",
       "  tensor([ 0.4699,  0.3353,  0.2565, -0.4560,  0.1854, -0.0033]),\n",
       "  tensor([-0.1476, -0.4558, -0.2045, -0.0461, -0.1165, -0.1117,  0.2811]),\n",
       "  tensor([-0.5744, -0.0622, -0.6659, -0.1021]),\n",
       "  tensor([-0.5483, -0.4444,  0.3691]),\n",
       "  tensor([-0.1731, -0.4425, -0.5930])],\n",
       " 'raw_input_list': [['[CLS]', 'its', 'oscar', 'nomination', '[SEP]'],\n",
       "  ['[CLS]', 'shenanigans', 'and', 'slapstick', '[SEP]'],\n",
       "  ['[CLS]', 'an', 'unsettling', 'sight', ',', '[SEP]'],\n",
       "  ['[CLS]', 'the', 'climactic', 'hourlong', 'cricket', 'match', '[SEP]'],\n",
       "  ['[CLS]',\n",
       "   'alternating',\n",
       "   'between',\n",
       "   'facetious',\n",
       "   'comic',\n",
       "   'parody',\n",
       "   'and',\n",
       "   'pulp',\n",
       "   'melodrama',\n",
       "   ',',\n",
       "   'this',\n",
       "   'smart-aleck',\n",
       "   'movie',\n",
       "   '...',\n",
       "   'tosses',\n",
       "   'around',\n",
       "   'some',\n",
       "   'intriguing',\n",
       "   'questions',\n",
       "   'about',\n",
       "   'the',\n",
       "   'difference',\n",
       "   'between',\n",
       "   'human',\n",
       "   'and',\n",
       "   'android',\n",
       "   'life',\n",
       "   '[SEP]'],\n",
       "  ['[CLS]',\n",
       "   'to',\n",
       "   'be',\n",
       "   'a',\n",
       "   'part',\n",
       "   'of',\n",
       "   'that',\n",
       "   'elusive',\n",
       "   'adult',\n",
       "   'world',\n",
       "   '[SEP]'],\n",
       "  ['[CLS]', 'emotional', 'power', '[SEP]'],\n",
       "  ['[CLS]',\n",
       "   'reminds',\n",
       "   'you',\n",
       "   'of',\n",
       "   'why',\n",
       "   'animation',\n",
       "   'is',\n",
       "   'such',\n",
       "   'a',\n",
       "   'perfect',\n",
       "   'medium',\n",
       "   'for',\n",
       "   'children',\n",
       "   ',',\n",
       "   'because',\n",
       "   'of',\n",
       "   'the',\n",
       "   'way',\n",
       "   'it',\n",
       "   'allows',\n",
       "   'the',\n",
       "   'mind',\n",
       "   'to',\n",
       "   'enter',\n",
       "   'and',\n",
       "   'accept',\n",
       "   'another',\n",
       "   'world',\n",
       "   '[SEP]'],\n",
       "  ['[CLS]',\n",
       "   'unparalleled',\n",
       "   'proportions',\n",
       "   ',',\n",
       "   'writer-director',\n",
       "   'parker',\n",
       "   '[SEP]'],\n",
       "  ['[CLS]', 'this', 'surprisingly', 'decent', 'flick', '[SEP]'],\n",
       "  ['[CLS]',\n",
       "   'about',\n",
       "   'the',\n",
       "   'best',\n",
       "   'thing',\n",
       "   'you',\n",
       "   'could',\n",
       "   'say',\n",
       "   'about',\n",
       "   'narc',\n",
       "   'is',\n",
       "   'that',\n",
       "   'it',\n",
       "   \"'s\",\n",
       "   'a',\n",
       "   'rock-solid',\n",
       "   'little',\n",
       "   'genre',\n",
       "   'picture',\n",
       "   '.',\n",
       "   '[SEP]'],\n",
       "  ['[CLS]', 'the', 'very', 'best', '[SEP]'],\n",
       "  ['[CLS]',\n",
       "   'been',\n",
       "   'modeled',\n",
       "   'on',\n",
       "   'the',\n",
       "   'worst',\n",
       "   'revenge-of-the-nerds',\n",
       "   'cliches',\n",
       "   'the',\n",
       "   'filmmakers',\n",
       "   'could',\n",
       "   'dredge',\n",
       "   'up',\n",
       "   '[SEP]'],\n",
       "  ['[CLS]', 'tell', 'you', '[SEP]'],\n",
       "  ['[CLS]', 'utterly', 'absorbing', '[SEP]'],\n",
       "  ['[CLS]', 'restate', '[SEP]'],\n",
       "  ['[CLS]',\n",
       "   'bears',\n",
       "   'about',\n",
       "   'as',\n",
       "   'much',\n",
       "   'resemblance',\n",
       "   'to',\n",
       "   'the',\n",
       "   'experiences',\n",
       "   'of',\n",
       "   'most',\n",
       "   'battered',\n",
       "   'women',\n",
       "   'as',\n",
       "   'spider-man',\n",
       "   '[SEP]'],\n",
       "  ['[CLS]', 'expressively', 'performed', '[SEP]'],\n",
       "  ['[CLS]',\n",
       "   'the',\n",
       "   'acting',\n",
       "   'is',\n",
       "   'amateurish',\n",
       "   ',',\n",
       "   'the',\n",
       "   'cinematography',\n",
       "   'is',\n",
       "   'atrocious',\n",
       "   '[SEP]'],\n",
       "  ['[CLS]', 'solidly', 'constructed', '[SEP]'],\n",
       "  ['[CLS]',\n",
       "   'are',\n",
       "   'undermined',\n",
       "   'by',\n",
       "   'the',\n",
       "   'movie',\n",
       "   \"'s\",\n",
       "   'presentation',\n",
       "   ',',\n",
       "   'which',\n",
       "   'is',\n",
       "   'way',\n",
       "   'too',\n",
       "   'stagy',\n",
       "   '[SEP]'],\n",
       "  ['[CLS]', 'a', 'great', 'film', '[SEP]'],\n",
       "  ['[CLS]', 'charm', '[SEP]'],\n",
       "  ['[CLS]',\n",
       "   'this',\n",
       "   'new',\n",
       "   'jangle',\n",
       "   'of',\n",
       "   'noise',\n",
       "   ',',\n",
       "   'mayhem',\n",
       "   'and',\n",
       "   'stupidity',\n",
       "   '[SEP]'],\n",
       "  ['[CLS]', 'sustains', 'it', '[SEP]'],\n",
       "  ['[CLS]',\n",
       "   'is',\n",
       "   'so',\n",
       "   'deadly',\n",
       "   'dull',\n",
       "   'that',\n",
       "   'watching',\n",
       "   'the',\n",
       "   'proverbial',\n",
       "   'paint',\n",
       "   'dry',\n",
       "   'would',\n",
       "   'be',\n",
       "   'a',\n",
       "   'welcome',\n",
       "   'improvement',\n",
       "   '.',\n",
       "   '[SEP]'],\n",
       "  ['[CLS]', 'to', 'accomplish', '[SEP]'],\n",
       "  ['[CLS]', 'does', \"n't\", 'work', '.', '[SEP]'],\n",
       "  ['[CLS]', 'given', 'it', 'a', 'one-star', 'rating', '[SEP]'],\n",
       "  ['[CLS]',\n",
       "   'ice',\n",
       "   'cube',\n",
       "   'is',\n",
       "   \"n't\",\n",
       "   'quite',\n",
       "   'out',\n",
       "   'of',\n",
       "   'ripe',\n",
       "   'screwball',\n",
       "   'ideas',\n",
       "   ',',\n",
       "   'but',\n",
       "   'friday',\n",
       "   'after',\n",
       "   'next',\n",
       "   'spreads',\n",
       "   'them',\n",
       "   'pretty',\n",
       "   'thin',\n",
       "   '[SEP]'],\n",
       "  ['[CLS]', 'been', 'trying', 'to', 'forget', '[SEP]'],\n",
       "  ['[CLS]', 'big', 'stars', 'and', '[SEP]'],\n",
       "  ['[CLS]', 'of', 'cheesy', 'dialogue', '[SEP]'],\n",
       "  ['[CLS]',\n",
       "   'the',\n",
       "   'chateau',\n",
       "   'is',\n",
       "   'never',\n",
       "   'quite',\n",
       "   'able',\n",
       "   'to',\n",
       "   'overcome',\n",
       "   'the',\n",
       "   'cultural',\n",
       "   'moat',\n",
       "   'surrounding',\n",
       "   'its',\n",
       "   'ludicrous',\n",
       "   'and',\n",
       "   'contrived',\n",
       "   'plot',\n",
       "   '.',\n",
       "   \"'\",\n",
       "   '[SEP]'],\n",
       "  ['[CLS]', 'principled', '[SEP]'],\n",
       "  ['[CLS]',\n",
       "   'end',\n",
       "   'it',\n",
       "   'all',\n",
       "   'by',\n",
       "   'stuffing',\n",
       "   'himself',\n",
       "   'into',\n",
       "   'an',\n",
       "   'electric',\n",
       "   'pencil',\n",
       "   'sharpener',\n",
       "   '[SEP]'],\n",
       "  ['[CLS]', 'funniest', 'idea', '[SEP]'],\n",
       "  ['[CLS]', 'silly', 'and', 'tedious', '[SEP]'],\n",
       "  ['[CLS]', 'two', 'surefire', ',', 'beloved', 'genres', '[SEP]'],\n",
       "  ['[CLS]', 'most', 'charmless', '[SEP]'],\n",
       "  ['[CLS]',\n",
       "   'offers',\n",
       "   'us',\n",
       "   'the',\n",
       "   'sense',\n",
       "   'that',\n",
       "   'on',\n",
       "   'some',\n",
       "   'elemental',\n",
       "   'level',\n",
       "   ',',\n",
       "   'lilia',\n",
       "   'deeply',\n",
       "   'wants',\n",
       "   'to',\n",
       "   'break',\n",
       "   'free',\n",
       "   'of',\n",
       "   'her',\n",
       "   'old',\n",
       "   'life',\n",
       "   '.',\n",
       "   '[SEP]'],\n",
       "  ['[CLS]', 'might', 'be', 'best', 'forgotten', '[SEP]'],\n",
       "  ['[CLS]',\n",
       "   'a',\n",
       "   'substantial',\n",
       "   'arc',\n",
       "   'of',\n",
       "   'change',\n",
       "   'that',\n",
       "   'does',\n",
       "   \"n't\",\n",
       "   'produce',\n",
       "   'any',\n",
       "   'real',\n",
       "   'transformation',\n",
       "   '[SEP]'],\n",
       "  ['[CLS]', 'unadorned', '[SEP]'],\n",
       "  ['[CLS]',\n",
       "   'this',\n",
       "   'is',\n",
       "   'the',\n",
       "   'kind',\n",
       "   'of',\n",
       "   'movie',\n",
       "   'that',\n",
       "   'you',\n",
       "   'only',\n",
       "   'need',\n",
       "   'to',\n",
       "   'watch',\n",
       "   'for',\n",
       "   'about',\n",
       "   'thirty',\n",
       "   'seconds',\n",
       "   'before',\n",
       "   'you',\n",
       "   'say',\n",
       "   'to',\n",
       "   'yourself',\n",
       "   ',',\n",
       "   '`',\n",
       "   'ah',\n",
       "   ',',\n",
       "   'yes',\n",
       "   ',',\n",
       "   'here',\n",
       "   'we',\n",
       "   'have',\n",
       "   'a',\n",
       "   'bad',\n",
       "   ',',\n",
       "   'bad',\n",
       "   ',',\n",
       "   'bad',\n",
       "   'movie',\n",
       "   '.',\n",
       "   \"'\",\n",
       "   '[SEP]'],\n",
       "  ['[CLS]', 'feel', 'sanitised', 'and', 'stagey', '[SEP]'],\n",
       "  ['[CLS]',\n",
       "   'replete',\n",
       "   'with',\n",
       "   'stereotypical',\n",
       "   'familial',\n",
       "   'quandaries',\n",
       "   '[SEP]'],\n",
       "  ['[CLS]', 'quirky', 'comedy', '[SEP]'],\n",
       "  ['[CLS]', 'unrewarding', '[SEP]'],\n",
       "  ['[CLS]', 'old-hat', '[SEP]']]}"
      ]
     },
     "execution_count": 10,
     "metadata": {},
     "output_type": "execute_result"
    }
   ],
   "source": [
    "save_info(idxs, sst2_data_raw, targets, model_out_list, raw_attr_list, conti_attr_list, raw_input_list, \n",
    "          fname=f'../MethodOutputs/{file_name_base}_out.pkl')"
   ]
  },
  {
   "cell_type": "code",
   "execution_count": 11,
   "id": "db9de1f3",
   "metadata": {},
   "outputs": [
    {
     "data": {
      "application/javascript": [
       "IPython.notebook.save_notebook()"
      ]
     },
     "metadata": {},
     "output_type": "display_data"
    }
   ],
   "source": [
    "download_HTML(cur_file_name=f'{file_name_base}_SST2_BERT.ipynb',\n",
    "              out_file_name=f'{file_name_base}_SST2_BERT.html')"
   ]
  },
  {
   "cell_type": "code",
   "execution_count": null,
   "id": "1ef8fc76",
   "metadata": {},
   "outputs": [],
   "source": []
  }
 ],
 "metadata": {
  "kernelspec": {
   "display_name": "Python 3 (ipykernel)",
   "language": "python",
   "name": "python3"
  },
  "language_info": {
   "codemirror_mode": {
    "name": "ipython",
    "version": 3
   },
   "file_extension": ".py",
   "mimetype": "text/x-python",
   "name": "python",
   "nbconvert_exporter": "python",
   "pygments_lexer": "ipython3",
   "version": "3.9.13"
  }
 },
 "nbformat": 4,
 "nbformat_minor": 5
}
