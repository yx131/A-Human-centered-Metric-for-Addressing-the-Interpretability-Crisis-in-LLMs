{
 "cells": [
  {
   "cell_type": "code",
   "execution_count": 1,
   "id": "806fb4a1",
   "metadata": {},
   "outputs": [],
   "source": [
    "import sys, time, pickle\n",
    "import torch\n",
    "\n",
    "sys.path.insert(0, '../../Utils')\n",
    "from global_constants import gpu_device\n",
    "\n",
    "sys.path.insert(0, '../')\n",
    "from BERT_models import BERT_QNLI_MODEL\n",
    "\n",
    "from _utils import sample_random_glue_qnli, get_continuation_mapping, \\\n",
    "                    get_continuous_attributions, get_continuous_raw_inputs, \\\n",
    "                    collect_info_for_metric, save_info, download_HTML"
   ]
  },
  {
   "cell_type": "code",
   "execution_count": 2,
   "id": "5b0e3ec3",
   "metadata": {},
   "outputs": [
    {
     "name": "stderr",
     "output_type": "stream",
     "text": [
      "Reusing dataset glue (/home/user/.cache/huggingface/datasets/glue/qnli/1.0.0/dacbe3125aa31d7f70367a07a8a9e72a5a0bfeb5fc42e75c9db75b96da6053ad)\n"
     ]
    },
    {
     "data": {
      "application/vnd.jupyter.widget-view+json": {
       "model_id": "20a5975ca9fb4012a618c7cef9f23c83",
       "version_major": 2,
       "version_minor": 0
      },
      "text/plain": [
       "  0%|          | 0/3 [00:00<?, ?it/s]"
      ]
     },
     "metadata": {},
     "output_type": "display_data"
    },
    {
     "name": "stderr",
     "output_type": "stream",
     "text": [
      "Loading cached processed dataset at /home/user/.cache/huggingface/datasets/glue/qnli/1.0.0/dacbe3125aa31d7f70367a07a8a9e72a5a0bfeb5fc42e75c9db75b96da6053ad/cache-e6d0a9c9270b6822.arrow\n",
      "Loading cached processed dataset at /home/user/.cache/huggingface/datasets/glue/qnli/1.0.0/dacbe3125aa31d7f70367a07a8a9e72a5a0bfeb5fc42e75c9db75b96da6053ad/cache-c46c5e78d2bda808.arrow\n"
     ]
    }
   ],
   "source": [
    "qnli_data_raw, targets, idxs = sample_random_glue_qnli()"
   ]
  },
  {
   "cell_type": "code",
   "execution_count": 3,
   "id": "bca0a095",
   "metadata": {},
   "outputs": [],
   "source": [
    "model = BERT_QNLI_MODEL()\n",
    "tokenizer = model.tokenizer"
   ]
  },
  {
   "cell_type": "code",
   "execution_count": 4,
   "id": "e92a7d03",
   "metadata": {},
   "outputs": [],
   "source": [
    "#define some containers to save some info\n",
    "model_out_list, raw_attr_list, conti_attr_list, raw_input_list = [], [], [], []"
   ]
  },
  {
   "cell_type": "code",
   "execution_count": 5,
   "id": "ad13b757",
   "metadata": {},
   "outputs": [],
   "source": [
    "from captum.attr import Lime\n",
    "from captum._utils.models.linear_model import SkLearnLasso\n",
    "from captum.attr import visualization "
   ]
  },
  {
   "cell_type": "code",
   "execution_count": 6,
   "id": "6a26c83d",
   "metadata": {},
   "outputs": [],
   "source": [
    "lime = Lime(model, interpretable_model=SkLearnLasso(alpha=0.0003))"
   ]
  },
  {
   "cell_type": "code",
   "execution_count": 7,
   "id": "1cc7ffbf",
   "metadata": {},
   "outputs": [],
   "source": [
    "def generate_record(raw_datum, target): #raw_datum expected to be a tuple/list of 2 sentences\n",
    "    #tokenizer operations\n",
    "    tokenized = tokenizer(raw_datum, truncation=True, return_offsets_mapping=True)\n",
    "    offset_mappings = tokenized['offset_mapping']\n",
    "    #concatenate the two offset_mappings together because they are fed in together\n",
    "    conti_map = get_continuation_mapping(offset_mappings[0]) + get_continuation_mapping(offset_mappings[1])\n",
    "    #change the first input_id of the second sentence to be the last input_id of the 1st sentence (i.e. an [END] token))\n",
    "    tokenized_input_ids = tokenized['input_ids'][0] + \\\n",
    "                        [tokenized['input_ids'][1][i] if i != 0 else tokenized['input_ids'][0][-1] \\\n",
    "                         for i in range(len(tokenized['input_ids'][1]))]\n",
    "    input_ids = torch.tensor(tokenized_input_ids).unsqueeze(0).to(gpu_device)\n",
    "    detokenized = [t.replace('#', '') for t in tokenizer.convert_ids_to_tokens(input_ids[0])]\n",
    "    \n",
    "    #feeding input forward \n",
    "    input_emb = model.get_embeddings(input_ids)\n",
    "    pred_prob = model(input_emb).item()\n",
    "\n",
    "     #categorizing results\n",
    "    pred_class = 'No Entailment' if pred_prob < 0.5 else 'Entailment' \n",
    "    true_class = 'No Entailment' if target < 0.5 else 'Entailment' \n",
    "    \n",
    "    #attribution algorithm working\n",
    "    attribution = lime.attribute(input_emb, n_samples=5000, show_progress=True, perturbations_per_eval=1000)\n",
    "    attribution[torch.isnan(attribution)] = 0\n",
    "    word_attributions = attribution.squeeze(0).sum(dim=1)\n",
    "    word_attributions /= torch.norm(word_attributions)\n",
    "    attr_score = torch.sum(word_attributions)\n",
    "    attr_class = 'No Entailment' if attr_score < 0.5 else 'Entailment'\n",
    "    convergence_score = None\n",
    "    \n",
    "    if torch.all(torch.isnan(attr_score)):\n",
    "        print(f'nan attri score')\n",
    "        word_attributions = torch.zeros(word_attributions.size())\n",
    "    \n",
    "    \n",
    "#     #re-organizing tensors and arrays because words get split down\n",
    "    conti_attr = get_continuous_attributions(conti_map, word_attributions)\n",
    "    raw_input = get_continuous_raw_inputs(conti_map, detokenized)\n",
    "\n",
    "#     print(f'word attributions {word_attributions}')\n",
    "    print(f'pred_prob {pred_prob}')\n",
    "#     print(f'pred_class {pred_class}')\n",
    "#     print(f'true_class {true_class}')\n",
    "#     print(f'attribution {attribution}')\n",
    "#     print(f'attr_class {attr_class}')\n",
    "#     print(f'attr_score {attr_score}')\n",
    "#     print(f'raw_input {raw_input}')\n",
    "\n",
    "        \n",
    "# #     collect info for metrics later\n",
    "    collect_info_for_metric(model_out_list, pred_prob, raw_attr_list, attribution, conti_attr_list, conti_attr, raw_input_list, raw_input)\n",
    "        \n",
    "    \n",
    "    visual_record = visualization.VisualizationDataRecord(word_attributions=conti_attr,\n",
    "                                                         pred_prob=pred_prob,\n",
    "                                                         pred_class=pred_class,\n",
    "                                                         true_class=true_class,\n",
    "                                                         attr_class=attr_class,\n",
    "                                                         attr_score=attr_score,\n",
    "                                                         raw_input_ids=raw_input,\n",
    "                                                         convergence_score=convergence_score)\n",
    "        \n",
    "        \n",
    "    return visual_record\n",
    "      \n",
    "    "
   ]
  },
  {
   "cell_type": "code",
   "execution_count": 8,
   "id": "b0321c07",
   "metadata": {
    "scrolled": true
   },
   "outputs": [
    {
     "name": "stdout",
     "output_type": "stream",
     "text": [
      "Raw datum: ['What would a teacher assess the levels of a student on?', 'For example, an experienced teacher and parent described the place of a teacher in learning as follows: \"The real bulk of learning takes place in self-study and problem solving with a lot of feedback around that loop.']\n",
      "GT target: 0\n"
     ]
    },
    {
     "name": "stderr",
     "output_type": "stream",
     "text": [
      "/home/user/anaconda3/envs/metric/lib/python3.9/site-packages/captum/attr/_core/lime.py:1096: UserWarning: Attempting to construct interpretable model with > 10000 features.This can be very slow or lead to OOM issues. Please provide a featuremask which groups input features to reduce the number of interpretablefeatures. \n",
      "  warnings.warn(\n",
      "Lime attribution: 100%|██████████████████████████████████████████████████████████████████████████████████████████████████████████| 5/5 [00:07<00:00,  1.53s/it]\n"
     ]
    },
    {
     "name": "stdout",
     "output_type": "stream",
     "text": [
      "word attr tensor([ 7.5461e-01, -3.0925e-02, -1.5113e-01, -8.6343e-02, -1.9287e-02,\n",
      "        -1.8000e-02,  1.2613e-02, -5.5566e-02, -1.3494e-02,  6.3209e-02,\n",
      "         4.2473e-02,  2.8217e-02,  8.4276e-03, -1.0741e-01, -1.3196e-01,\n",
      "         1.2674e-01,  7.2729e-02, -1.0328e-01, -7.4075e-04, -3.5120e-02,\n",
      "        -1.7827e-02,  6.7633e-02,  1.5794e-01, -2.4314e-02,  6.2301e-02,\n",
      "         1.4776e-02,  1.7038e-01,  1.9442e-01,  6.4709e-03,  5.7674e-02,\n",
      "        -7.8514e-02, -3.6575e-03, -4.0663e-02, -1.2943e-01,  1.0602e-01,\n",
      "        -3.6151e-03, -4.4546e-02,  1.0608e-01, -5.9324e-03,  1.0118e-01,\n",
      "         1.1696e-01,  1.3627e-02,  5.3589e-02,  2.9317e-02,  3.0544e-02,\n",
      "         3.8907e-02, -8.4504e-02,  2.4649e-01, -8.4385e-04, -1.5330e-01,\n",
      "         9.1178e-02,  7.3989e-02, -2.6019e-02,  3.7808e-02,  9.1646e-02,\n",
      "        -1.3450e-01,  5.3882e-02,  4.0919e-02, -6.1915e-02], device='cuda:0')\n",
      "conti attr [tensor(0.7546, device='cuda:0'), tensor(-0.0309, device='cuda:0'), tensor(-0.1511, device='cuda:0'), tensor(-0.0863, device='cuda:0'), tensor(-0.0193, device='cuda:0'), tensor(-0.0180, device='cuda:0'), tensor(0.0126, device='cuda:0'), tensor(-0.0556, device='cuda:0'), tensor(-0.0135, device='cuda:0'), tensor(0.0632, device='cuda:0'), tensor(0.0425, device='cuda:0'), tensor(0.0183, device='cuda:0'), tensor(-0.1074, device='cuda:0'), tensor(-0.1320, device='cuda:0'), tensor(0.1267, device='cuda:0'), tensor(-0.0153, device='cuda:0'), tensor(-0.0007, device='cuda:0'), tensor(-0.0351, device='cuda:0'), tensor(-0.0178, device='cuda:0'), tensor(0.0676, device='cuda:0'), tensor(0.1579, device='cuda:0'), tensor(-0.0243, device='cuda:0'), tensor(0.0623, device='cuda:0'), tensor(0.0148, device='cuda:0'), tensor(0.1704, device='cuda:0'), tensor(0.1944, device='cuda:0'), tensor(0.0065, device='cuda:0'), tensor(0.0577, device='cuda:0'), tensor(-0.0785, device='cuda:0'), tensor(-0.0037, device='cuda:0'), tensor(-0.0850, device='cuda:0'), tensor(0.0512, device='cuda:0'), tensor(-0.0445, device='cuda:0'), tensor(0.1061, device='cuda:0'), tensor(-0.0059, device='cuda:0'), tensor(0.1012, device='cuda:0'), tensor(0.1170, device='cuda:0'), tensor(0.0136, device='cuda:0'), tensor(0.0536, device='cuda:0'), tensor(0.0344, device='cuda:0'), tensor(-0.0845, device='cuda:0'), tensor(0.2465, device='cuda:0'), tensor(-0.0008, device='cuda:0'), tensor(-0.1533, device='cuda:0'), tensor(0.0912, device='cuda:0'), tensor(0.0740, device='cuda:0'), tensor(-0.0260, device='cuda:0'), tensor(0.0378, device='cuda:0'), tensor(0.0916, device='cuda:0'), tensor(-0.1345, device='cuda:0'), tensor(0.0474, device='cuda:0'), tensor(-0.0619, device='cuda:0')]\n",
      "detokenized ['[CLS]', 'what', 'would', 'a', 'teacher', 'assess', 'the', 'levels', 'of', 'a', 'student', 'on', '?', '[SEP]', '[SEP]', 'for', 'example', ',', 'an', 'experienced', 'teacher', 'and', 'parent', 'described', 'the', 'place', 'of', 'a', 'teacher', 'in', 'learning', 'as', 'follows', ':', '\"', 'the', 'real', 'bulk', 'of', 'learning', 'takes', 'place', 'in', 'self', '-', 'study', 'and', 'problem', 'solving', 'with', 'a', 'lot', 'of', 'feedback', 'around', 'that', 'loop', '.', '[SEP]']\n",
      "len conti_raw 52\n",
      "conti_raw ['[CLS]', 'what', 'would', 'a', 'teacher', 'assess', 'the', 'levels', 'of', 'a', 'student', 'on?', '[SEP]', '[SEP]', 'for', 'example,', 'an', 'experienced', 'teacher', 'and', 'parent', 'described', 'the', 'place', 'of', 'a', 'teacher', 'in', 'learning', 'as', 'follows:', '\"the', 'real', 'bulk', 'of', 'learning', 'takes', 'place', 'in', 'self-study', 'and', 'problem', 'solving', 'with', 'a', 'lot', 'of', 'feedback', 'around', 'that', 'loop.', '[SEP]']\n",
      "pred_prob 0.6311678290367126\n"
     ]
    },
    {
     "data": {
      "text/html": [
       "<table width: 100%><div style=\"border-top: 1px solid; margin-top: 5px;             padding-top: 5px; display: inline-block\"><b>Legend: </b><span style=\"display: inline-block; width: 10px; height: 10px;                 border: 1px solid; background-color:                 hsl(0, 75%, 60%)\"></span> Negative  <span style=\"display: inline-block; width: 10px; height: 10px;                 border: 1px solid; background-color:                 hsl(0, 75%, 100%)\"></span> Neutral  <span style=\"display: inline-block; width: 10px; height: 10px;                 border: 1px solid; background-color:                 hsl(120, 75%, 50%)\"></span> Positive  </div><tr><th>True Label</th><th>Predicted Label</th><th>Attribution Label</th><th>Attribution Score</th><th>Word Importance</th><tr><td><text style=\"padding-right:2em\"><b>No Entailment</b></text></td><td><text style=\"padding-right:2em\"><b>Entailment (0.63)</b></text></td><td><text style=\"padding-right:2em\"><b>Entailment</b></text></td><td><text style=\"padding-right:2em\"><b>1.51</b></text></td><td><mark style=\"background-color: hsl(120, 75%, 63%); opacity:1.0;                     line-height:1.75\"><font color=\"black\"> [CLS]                    </font></mark><mark style=\"background-color: hsl(0, 75%, 99%); opacity:1.0;                     line-height:1.75\"><font color=\"black\"> what                    </font></mark><mark style=\"background-color: hsl(0, 75%, 94%); opacity:1.0;                     line-height:1.75\"><font color=\"black\"> would                    </font></mark><mark style=\"background-color: hsl(0, 75%, 97%); opacity:1.0;                     line-height:1.75\"><font color=\"black\"> a                    </font></mark><mark style=\"background-color: hsl(0, 75%, 100%); opacity:1.0;                     line-height:1.75\"><font color=\"black\"> teacher                    </font></mark><mark style=\"background-color: hsl(0, 75%, 100%); opacity:1.0;                     line-height:1.75\"><font color=\"black\"> assess                    </font></mark><mark style=\"background-color: hsl(120, 75%, 100%); opacity:1.0;                     line-height:1.75\"><font color=\"black\"> the                    </font></mark><mark style=\"background-color: hsl(0, 75%, 98%); opacity:1.0;                     line-height:1.75\"><font color=\"black\"> levels                    </font></mark><mark style=\"background-color: hsl(0, 75%, 100%); opacity:1.0;                     line-height:1.75\"><font color=\"black\"> of                    </font></mark><mark style=\"background-color: hsl(120, 75%, 97%); opacity:1.0;                     line-height:1.75\"><font color=\"black\"> a                    </font></mark><mark style=\"background-color: hsl(120, 75%, 98%); opacity:1.0;                     line-height:1.75\"><font color=\"black\"> student                    </font></mark><mark style=\"background-color: hsl(120, 75%, 100%); opacity:1.0;                     line-height:1.75\"><font color=\"black\"> on?                    </font></mark><mark style=\"background-color: hsl(0, 75%, 96%); opacity:1.0;                     line-height:1.75\"><font color=\"black\"> [SEP]                    </font></mark><mark style=\"background-color: hsl(0, 75%, 95%); opacity:1.0;                     line-height:1.75\"><font color=\"black\"> [SEP]                    </font></mark><mark style=\"background-color: hsl(120, 75%, 94%); opacity:1.0;                     line-height:1.75\"><font color=\"black\"> for                    </font></mark><mark style=\"background-color: hsl(0, 75%, 100%); opacity:1.0;                     line-height:1.75\"><font color=\"black\"> example,                    </font></mark><mark style=\"background-color: hsl(0, 75%, 100%); opacity:1.0;                     line-height:1.75\"><font color=\"black\"> an                    </font></mark><mark style=\"background-color: hsl(0, 75%, 99%); opacity:1.0;                     line-height:1.75\"><font color=\"black\"> experienced                    </font></mark><mark style=\"background-color: hsl(0, 75%, 100%); opacity:1.0;                     line-height:1.75\"><font color=\"black\"> teacher                    </font></mark><mark style=\"background-color: hsl(120, 75%, 97%); opacity:1.0;                     line-height:1.75\"><font color=\"black\"> and                    </font></mark><mark style=\"background-color: hsl(120, 75%, 93%); opacity:1.0;                     line-height:1.75\"><font color=\"black\"> parent                    </font></mark><mark style=\"background-color: hsl(0, 75%, 100%); opacity:1.0;                     line-height:1.75\"><font color=\"black\"> described                    </font></mark><mark style=\"background-color: hsl(120, 75%, 97%); opacity:1.0;                     line-height:1.75\"><font color=\"black\"> the                    </font></mark><mark style=\"background-color: hsl(120, 75%, 100%); opacity:1.0;                     line-height:1.75\"><font color=\"black\"> place                    </font></mark><mark style=\"background-color: hsl(120, 75%, 92%); opacity:1.0;                     line-height:1.75\"><font color=\"black\"> of                    </font></mark><mark style=\"background-color: hsl(120, 75%, 91%); opacity:1.0;                     line-height:1.75\"><font color=\"black\"> a                    </font></mark><mark style=\"background-color: hsl(120, 75%, 100%); opacity:1.0;                     line-height:1.75\"><font color=\"black\"> teacher                    </font></mark><mark style=\"background-color: hsl(120, 75%, 98%); opacity:1.0;                     line-height:1.75\"><font color=\"black\"> in                    </font></mark><mark style=\"background-color: hsl(0, 75%, 97%); opacity:1.0;                     line-height:1.75\"><font color=\"black\"> learning                    </font></mark><mark style=\"background-color: hsl(0, 75%, 100%); opacity:1.0;                     line-height:1.75\"><font color=\"black\"> as                    </font></mark><mark style=\"background-color: hsl(0, 75%, 97%); opacity:1.0;                     line-height:1.75\"><font color=\"black\"> follows:                    </font></mark><mark style=\"background-color: hsl(120, 75%, 98%); opacity:1.0;                     line-height:1.75\"><font color=\"black\"> \"the                    </font></mark><mark style=\"background-color: hsl(0, 75%, 99%); opacity:1.0;                     line-height:1.75\"><font color=\"black\"> real                    </font></mark><mark style=\"background-color: hsl(120, 75%, 95%); opacity:1.0;                     line-height:1.75\"><font color=\"black\"> bulk                    </font></mark><mark style=\"background-color: hsl(0, 75%, 100%); opacity:1.0;                     line-height:1.75\"><font color=\"black\"> of                    </font></mark><mark style=\"background-color: hsl(120, 75%, 95%); opacity:1.0;                     line-height:1.75\"><font color=\"black\"> learning                    </font></mark><mark style=\"background-color: hsl(120, 75%, 95%); opacity:1.0;                     line-height:1.75\"><font color=\"black\"> takes                    </font></mark><mark style=\"background-color: hsl(120, 75%, 100%); opacity:1.0;                     line-height:1.75\"><font color=\"black\"> place                    </font></mark><mark style=\"background-color: hsl(120, 75%, 98%); opacity:1.0;                     line-height:1.75\"><font color=\"black\"> in                    </font></mark><mark style=\"background-color: hsl(120, 75%, 99%); opacity:1.0;                     line-height:1.75\"><font color=\"black\"> self-study                    </font></mark><mark style=\"background-color: hsl(0, 75%, 97%); opacity:1.0;                     line-height:1.75\"><font color=\"black\"> and                    </font></mark><mark style=\"background-color: hsl(120, 75%, 88%); opacity:1.0;                     line-height:1.75\"><font color=\"black\"> problem                    </font></mark><mark style=\"background-color: hsl(0, 75%, 100%); opacity:1.0;                     line-height:1.75\"><font color=\"black\"> solving                    </font></mark><mark style=\"background-color: hsl(0, 75%, 94%); opacity:1.0;                     line-height:1.75\"><font color=\"black\"> with                    </font></mark><mark style=\"background-color: hsl(120, 75%, 96%); opacity:1.0;                     line-height:1.75\"><font color=\"black\"> a                    </font></mark><mark style=\"background-color: hsl(120, 75%, 97%); opacity:1.0;                     line-height:1.75\"><font color=\"black\"> lot                    </font></mark><mark style=\"background-color: hsl(0, 75%, 99%); opacity:1.0;                     line-height:1.75\"><font color=\"black\"> of                    </font></mark><mark style=\"background-color: hsl(120, 75%, 99%); opacity:1.0;                     line-height:1.75\"><font color=\"black\"> feedback                    </font></mark><mark style=\"background-color: hsl(120, 75%, 96%); opacity:1.0;                     line-height:1.75\"><font color=\"black\"> around                    </font></mark><mark style=\"background-color: hsl(0, 75%, 95%); opacity:1.0;                     line-height:1.75\"><font color=\"black\"> that                    </font></mark><mark style=\"background-color: hsl(120, 75%, 98%); opacity:1.0;                     line-height:1.75\"><font color=\"black\"> loop.                    </font></mark><mark style=\"background-color: hsl(0, 75%, 98%); opacity:1.0;                     line-height:1.75\"><font color=\"black\"> [SEP]                    </font></mark></td><tr></table>"
      ],
      "text/plain": [
       "<IPython.core.display.HTML object>"
      ]
     },
     "metadata": {},
     "output_type": "display_data"
    },
    {
     "name": "stderr",
     "output_type": "stream",
     "text": [
      "/home/user/anaconda3/envs/metric/lib/python3.9/site-packages/captum/attr/_core/lime.py:1096: UserWarning: Attempting to construct interpretable model with > 10000 features.This can be very slow or lead to OOM issues. Please provide a featuremask which groups input features to reduce the number of interpretablefeatures. \n",
      "  warnings.warn(\n"
     ]
    },
    {
     "name": "stdout",
     "output_type": "stream",
     "text": [
      "<IPython.core.display.HTML object>\n",
      "Raw datum: ['What company created Doctor Who?', 'Who character by BBC Television in the early 1960s, a myriad of stories have been published about Doctor Who, in different media: apart from the actual television episodes that continue to be produced by the BBC, there have also been novels, comics, short stories, audio books, radio plays, interactive video games, game books, webcasts, DVD extras, and even stage performances.']\n",
      "GT target: 1\n"
     ]
    },
    {
     "name": "stderr",
     "output_type": "stream",
     "text": [
      "Lime attribution: 100%|██████████████████████████████████████████████████████████████████████████████████████████████████████████| 5/5 [00:12<00:00,  2.42s/it]\n"
     ]
    },
    {
     "name": "stdout",
     "output_type": "stream",
     "text": [
      "word attr tensor([-0.0850, -0.0946,  0.0603, -0.1091, -0.2394, -0.3502, -0.0148,  0.1456,\n",
      "         0.0781,  0.2127, -0.0702,  0.1024,  0.1083, -0.0170, -0.0614, -0.0617,\n",
      "         0.0891, -0.0560,  0.2277, -0.0158,  0.1521, -0.2160, -0.0654,  0.1268,\n",
      "        -0.2373, -0.0775,  0.0477,  0.0727,  0.0272, -0.0584,  0.0559, -0.0370,\n",
      "        -0.1031, -0.0580,  0.1075,  0.0550,  0.1741,  0.0721,  0.0980,  0.0605,\n",
      "        -0.1387, -0.0359, -0.0902,  0.0931, -0.0352,  0.0809, -0.1556,  0.0391,\n",
      "        -0.0820, -0.0272, -0.0561, -0.1418, -0.1090,  0.0116, -0.1154,  0.0311,\n",
      "        -0.0769, -0.0727, -0.1438, -0.0914, -0.0576, -0.1348, -0.0255,  0.0411,\n",
      "         0.0110, -0.0088, -0.0748, -0.0044, -0.1851,  0.0084, -0.1047, -0.0557,\n",
      "        -0.0476,  0.1060,  0.0897,  0.1053,  0.0579, -0.0995,  0.0472,  0.0144,\n",
      "        -0.2120, -0.1289, -0.0498,  0.0315,  0.0542,  0.0944], device='cuda:0')\n",
      "conti attr [tensor(-0.0850, device='cuda:0'), tensor(-0.0946, device='cuda:0'), tensor(0.0603, device='cuda:0'), tensor(-0.1091, device='cuda:0'), tensor(-0.2394, device='cuda:0'), tensor(-0.1825, device='cuda:0'), tensor(0.1456, device='cuda:0'), tensor(0.0781, device='cuda:0'), tensor(0.2127, device='cuda:0'), tensor(-0.0702, device='cuda:0'), tensor(0.1024, device='cuda:0'), tensor(0.1083, device='cuda:0'), tensor(-0.0170, device='cuda:0'), tensor(-0.0614, device='cuda:0'), tensor(-0.0617, device='cuda:0'), tensor(0.0891, device='cuda:0'), tensor(0.0859, device='cuda:0'), tensor(-0.0158, device='cuda:0'), tensor(0.1521, device='cuda:0'), tensor(-0.2160, device='cuda:0'), tensor(-0.0654, device='cuda:0'), tensor(0.1268, device='cuda:0'), tensor(-0.2373, device='cuda:0'), tensor(-0.0775, device='cuda:0'), tensor(0.0477, device='cuda:0'), tensor(0.0727, device='cuda:0'), tensor(-0.0156, device='cuda:0'), tensor(0.0559, device='cuda:0'), tensor(-0.0370, device='cuda:0'), tensor(-0.0805, device='cuda:0'), tensor(0.1075, device='cuda:0'), tensor(0.0550, device='cuda:0'), tensor(0.1741, device='cuda:0'), tensor(0.0721, device='cuda:0'), tensor(0.0980, device='cuda:0'), tensor(0.0605, device='cuda:0'), tensor(-0.1387, device='cuda:0'), tensor(-0.0359, device='cuda:0'), tensor(-0.0902, device='cuda:0'), tensor(0.0931, device='cuda:0'), tensor(-0.0352, device='cuda:0'), tensor(0.0809, device='cuda:0'), tensor(-0.1556, device='cuda:0'), tensor(-0.0215, device='cuda:0'), tensor(-0.0272, device='cuda:0'), tensor(-0.0561, device='cuda:0'), tensor(-0.1418, device='cuda:0'), tensor(-0.1090, device='cuda:0'), tensor(-0.0519, device='cuda:0'), tensor(-0.0229, device='cuda:0'), tensor(-0.0727, device='cuda:0'), tensor(-0.1176, device='cuda:0'), tensor(-0.0576, device='cuda:0'), tensor(-0.0801, device='cuda:0'), tensor(0.0411, device='cuda:0'), tensor(0.0011, device='cuda:0'), tensor(-0.0748, device='cuda:0'), tensor(-0.0044, device='cuda:0'), tensor(-0.0884, device='cuda:0'), tensor(-0.1047, device='cuda:0'), tensor(-0.0516, device='cuda:0'), tensor(0.0797, device='cuda:0'), tensor(-0.0995, device='cuda:0'), tensor(0.0308, device='cuda:0'), tensor(-0.2120, device='cuda:0'), tensor(-0.1289, device='cuda:0'), tensor(-0.0498, device='cuda:0'), tensor(0.0428, device='cuda:0'), tensor(0.0944, device='cuda:0')]\n",
      "detokenized ['[CLS]', 'what', 'company', 'created', 'doctor', 'who', '?', '[SEP]', '[SEP]', 'who', 'character', 'by', 'bbc', 'television', 'in', 'the', 'early', '1960s', ',', 'a', 'myriad', 'of', 'stories', 'have', 'been', 'published', 'about', 'doctor', 'who', ',', 'in', 'different', 'media', ':', 'apart', 'from', 'the', 'actual', 'television', 'episodes', 'that', 'continue', 'to', 'be', 'produced', 'by', 'the', 'bbc', ',', 'there', 'have', 'also', 'been', 'novels', ',', 'comics', ',', 'short', 'stories', ',', 'audio', 'books', ',', 'radio', 'plays', ',', 'interactive', 'video', 'games', ',', 'game', 'books', ',', 'web', 'cast', 's', ',', 'dvd', 'extras', ',', 'and', 'even', 'stage', 'performances', '.', '[SEP]']\n",
      "len conti_raw 69\n",
      "conti_raw ['[CLS]', 'what', 'company', 'created', 'doctor', 'who?', '[SEP]', '[SEP]', 'who', 'character', 'by', 'bbc', 'television', 'in', 'the', 'early', '1960s,', 'a', 'myriad', 'of', 'stories', 'have', 'been', 'published', 'about', 'doctor', 'who,', 'in', 'different', 'media:', 'apart', 'from', 'the', 'actual', 'television', 'episodes', 'that', 'continue', 'to', 'be', 'produced', 'by', 'the', 'bbc,', 'there', 'have', 'also', 'been', 'novels,', 'comics,', 'short', 'stories,', 'audio', 'books,', 'radio', 'plays,', 'interactive', 'video', 'games,', 'game', 'books,', 'webcasts,', 'dvd', 'extras,', 'and', 'even', 'stage', 'performances.', '[SEP]']\n",
      "pred_prob 0.7619203925132751\n"
     ]
    },
    {
     "data": {
      "text/html": [
       "<table width: 100%><div style=\"border-top: 1px solid; margin-top: 5px;             padding-top: 5px; display: inline-block\"><b>Legend: </b><span style=\"display: inline-block; width: 10px; height: 10px;                 border: 1px solid; background-color:                 hsl(0, 75%, 60%)\"></span> Negative  <span style=\"display: inline-block; width: 10px; height: 10px;                 border: 1px solid; background-color:                 hsl(0, 75%, 100%)\"></span> Neutral  <span style=\"display: inline-block; width: 10px; height: 10px;                 border: 1px solid; background-color:                 hsl(120, 75%, 50%)\"></span> Positive  </div><tr><th>True Label</th><th>Predicted Label</th><th>Attribution Label</th><th>Attribution Score</th><th>Word Importance</th><tr><td><text style=\"padding-right:2em\"><b>Entailment</b></text></td><td><text style=\"padding-right:2em\"><b>Entailment (0.76)</b></text></td><td><text style=\"padding-right:2em\"><b>No Entailment</b></text></td><td><text style=\"padding-right:2em\"><b>-1.60</b></text></td><td><mark style=\"background-color: hsl(0, 75%, 97%); opacity:1.0;                     line-height:1.75\"><font color=\"black\"> [CLS]                    </font></mark><mark style=\"background-color: hsl(0, 75%, 97%); opacity:1.0;                     line-height:1.75\"><font color=\"black\"> what                    </font></mark><mark style=\"background-color: hsl(120, 75%, 97%); opacity:1.0;                     line-height:1.75\"><font color=\"black\"> company                    </font></mark><mark style=\"background-color: hsl(0, 75%, 96%); opacity:1.0;                     line-height:1.75\"><font color=\"black\"> created                    </font></mark><mark style=\"background-color: hsl(0, 75%, 91%); opacity:1.0;                     line-height:1.75\"><font color=\"black\"> doctor                    </font></mark><mark style=\"background-color: hsl(0, 75%, 93%); opacity:1.0;                     line-height:1.75\"><font color=\"black\"> who?                    </font></mark><mark style=\"background-color: hsl(120, 75%, 93%); opacity:1.0;                     line-height:1.75\"><font color=\"black\"> [SEP]                    </font></mark><mark style=\"background-color: hsl(120, 75%, 97%); opacity:1.0;                     line-height:1.75\"><font color=\"black\"> [SEP]                    </font></mark><mark style=\"background-color: hsl(120, 75%, 90%); opacity:1.0;                     line-height:1.75\"><font color=\"black\"> who                    </font></mark><mark style=\"background-color: hsl(0, 75%, 98%); opacity:1.0;                     line-height:1.75\"><font color=\"black\"> character                    </font></mark><mark style=\"background-color: hsl(120, 75%, 95%); opacity:1.0;                     line-height:1.75\"><font color=\"black\"> by                    </font></mark><mark style=\"background-color: hsl(120, 75%, 95%); opacity:1.0;                     line-height:1.75\"><font color=\"black\"> bbc                    </font></mark><mark style=\"background-color: hsl(0, 75%, 100%); opacity:1.0;                     line-height:1.75\"><font color=\"black\"> television                    </font></mark><mark style=\"background-color: hsl(0, 75%, 98%); opacity:1.0;                     line-height:1.75\"><font color=\"black\"> in                    </font></mark><mark style=\"background-color: hsl(0, 75%, 98%); opacity:1.0;                     line-height:1.75\"><font color=\"black\"> the                    </font></mark><mark style=\"background-color: hsl(120, 75%, 96%); opacity:1.0;                     line-height:1.75\"><font color=\"black\"> early                    </font></mark><mark style=\"background-color: hsl(120, 75%, 96%); opacity:1.0;                     line-height:1.75\"><font color=\"black\"> 1960s,                    </font></mark><mark style=\"background-color: hsl(0, 75%, 100%); opacity:1.0;                     line-height:1.75\"><font color=\"black\"> a                    </font></mark><mark style=\"background-color: hsl(120, 75%, 93%); opacity:1.0;                     line-height:1.75\"><font color=\"black\"> myriad                    </font></mark><mark style=\"background-color: hsl(0, 75%, 92%); opacity:1.0;                     line-height:1.75\"><font color=\"black\"> of                    </font></mark><mark style=\"background-color: hsl(0, 75%, 98%); opacity:1.0;                     line-height:1.75\"><font color=\"black\"> stories                    </font></mark><mark style=\"background-color: hsl(120, 75%, 94%); opacity:1.0;                     line-height:1.75\"><font color=\"black\"> have                    </font></mark><mark style=\"background-color: hsl(0, 75%, 91%); opacity:1.0;                     line-height:1.75\"><font color=\"black\"> been                    </font></mark><mark style=\"background-color: hsl(0, 75%, 97%); opacity:1.0;                     line-height:1.75\"><font color=\"black\"> published                    </font></mark><mark style=\"background-color: hsl(120, 75%, 98%); opacity:1.0;                     line-height:1.75\"><font color=\"black\"> about                    </font></mark><mark style=\"background-color: hsl(120, 75%, 97%); opacity:1.0;                     line-height:1.75\"><font color=\"black\"> doctor                    </font></mark><mark style=\"background-color: hsl(0, 75%, 100%); opacity:1.0;                     line-height:1.75\"><font color=\"black\"> who,                    </font></mark><mark style=\"background-color: hsl(120, 75%, 98%); opacity:1.0;                     line-height:1.75\"><font color=\"black\"> in                    </font></mark><mark style=\"background-color: hsl(0, 75%, 99%); opacity:1.0;                     line-height:1.75\"><font color=\"black\"> different                    </font></mark><mark style=\"background-color: hsl(0, 75%, 97%); opacity:1.0;                     line-height:1.75\"><font color=\"black\"> media:                    </font></mark><mark style=\"background-color: hsl(120, 75%, 95%); opacity:1.0;                     line-height:1.75\"><font color=\"black\"> apart                    </font></mark><mark style=\"background-color: hsl(120, 75%, 98%); opacity:1.0;                     line-height:1.75\"><font color=\"black\"> from                    </font></mark><mark style=\"background-color: hsl(120, 75%, 92%); opacity:1.0;                     line-height:1.75\"><font color=\"black\"> the                    </font></mark><mark style=\"background-color: hsl(120, 75%, 97%); opacity:1.0;                     line-height:1.75\"><font color=\"black\"> actual                    </font></mark><mark style=\"background-color: hsl(120, 75%, 96%); opacity:1.0;                     line-height:1.75\"><font color=\"black\"> television                    </font></mark><mark style=\"background-color: hsl(120, 75%, 97%); opacity:1.0;                     line-height:1.75\"><font color=\"black\"> episodes                    </font></mark><mark style=\"background-color: hsl(0, 75%, 95%); opacity:1.0;                     line-height:1.75\"><font color=\"black\"> that                    </font></mark><mark style=\"background-color: hsl(0, 75%, 99%); opacity:1.0;                     line-height:1.75\"><font color=\"black\"> continue                    </font></mark><mark style=\"background-color: hsl(0, 75%, 97%); opacity:1.0;                     line-height:1.75\"><font color=\"black\"> to                    </font></mark><mark style=\"background-color: hsl(120, 75%, 96%); opacity:1.0;                     line-height:1.75\"><font color=\"black\"> be                    </font></mark><mark style=\"background-color: hsl(0, 75%, 99%); opacity:1.0;                     line-height:1.75\"><font color=\"black\"> produced                    </font></mark><mark style=\"background-color: hsl(120, 75%, 96%); opacity:1.0;                     line-height:1.75\"><font color=\"black\"> by                    </font></mark><mark style=\"background-color: hsl(0, 75%, 94%); opacity:1.0;                     line-height:1.75\"><font color=\"black\"> the                    </font></mark><mark style=\"background-color: hsl(0, 75%, 100%); opacity:1.0;                     line-height:1.75\"><font color=\"black\"> bbc,                    </font></mark><mark style=\"background-color: hsl(0, 75%, 99%); opacity:1.0;                     line-height:1.75\"><font color=\"black\"> there                    </font></mark><mark style=\"background-color: hsl(0, 75%, 98%); opacity:1.0;                     line-height:1.75\"><font color=\"black\"> have                    </font></mark><mark style=\"background-color: hsl(0, 75%, 95%); opacity:1.0;                     line-height:1.75\"><font color=\"black\"> also                    </font></mark><mark style=\"background-color: hsl(0, 75%, 96%); opacity:1.0;                     line-height:1.75\"><font color=\"black\"> been                    </font></mark><mark style=\"background-color: hsl(0, 75%, 98%); opacity:1.0;                     line-height:1.75\"><font color=\"black\"> novels,                    </font></mark><mark style=\"background-color: hsl(0, 75%, 100%); opacity:1.0;                     line-height:1.75\"><font color=\"black\"> comics,                    </font></mark><mark style=\"background-color: hsl(0, 75%, 98%); opacity:1.0;                     line-height:1.75\"><font color=\"black\"> short                    </font></mark><mark style=\"background-color: hsl(0, 75%, 96%); opacity:1.0;                     line-height:1.75\"><font color=\"black\"> stories,                    </font></mark><mark style=\"background-color: hsl(0, 75%, 98%); opacity:1.0;                     line-height:1.75\"><font color=\"black\"> audio                    </font></mark><mark style=\"background-color: hsl(0, 75%, 97%); opacity:1.0;                     line-height:1.75\"><font color=\"black\"> books,                    </font></mark><mark style=\"background-color: hsl(120, 75%, 98%); opacity:1.0;                     line-height:1.75\"><font color=\"black\"> radio                    </font></mark><mark style=\"background-color: hsl(120, 75%, 100%); opacity:1.0;                     line-height:1.75\"><font color=\"black\"> plays,                    </font></mark><mark style=\"background-color: hsl(0, 75%, 98%); opacity:1.0;                     line-height:1.75\"><font color=\"black\"> interactive                    </font></mark><mark style=\"background-color: hsl(0, 75%, 100%); opacity:1.0;                     line-height:1.75\"><font color=\"black\"> video                    </font></mark><mark style=\"background-color: hsl(0, 75%, 97%); opacity:1.0;                     line-height:1.75\"><font color=\"black\"> games,                    </font></mark><mark style=\"background-color: hsl(0, 75%, 96%); opacity:1.0;                     line-height:1.75\"><font color=\"black\"> game                    </font></mark><mark style=\"background-color: hsl(0, 75%, 98%); opacity:1.0;                     line-height:1.75\"><font color=\"black\"> books,                    </font></mark><mark style=\"background-color: hsl(120, 75%, 97%); opacity:1.0;                     line-height:1.75\"><font color=\"black\"> webcasts,                    </font></mark><mark style=\"background-color: hsl(0, 75%, 97%); opacity:1.0;                     line-height:1.75\"><font color=\"black\"> dvd                    </font></mark><mark style=\"background-color: hsl(120, 75%, 99%); opacity:1.0;                     line-height:1.75\"><font color=\"black\"> extras,                    </font></mark><mark style=\"background-color: hsl(0, 75%, 92%); opacity:1.0;                     line-height:1.75\"><font color=\"black\"> and                    </font></mark><mark style=\"background-color: hsl(0, 75%, 95%); opacity:1.0;                     line-height:1.75\"><font color=\"black\"> even                    </font></mark><mark style=\"background-color: hsl(0, 75%, 99%); opacity:1.0;                     line-height:1.75\"><font color=\"black\"> stage                    </font></mark><mark style=\"background-color: hsl(120, 75%, 98%); opacity:1.0;                     line-height:1.75\"><font color=\"black\"> performances.                    </font></mark><mark style=\"background-color: hsl(120, 75%, 96%); opacity:1.0;                     line-height:1.75\"><font color=\"black\"> [SEP]                    </font></mark></td><tr></table>"
      ],
      "text/plain": [
       "<IPython.core.display.HTML object>"
      ]
     },
     "metadata": {},
     "output_type": "display_data"
    },
    {
     "name": "stderr",
     "output_type": "stream",
     "text": [
      "/home/user/anaconda3/envs/metric/lib/python3.9/site-packages/captum/attr/_core/lime.py:1096: UserWarning: Attempting to construct interpretable model with > 10000 features.This can be very slow or lead to OOM issues. Please provide a featuremask which groups input features to reduce the number of interpretablefeatures. \n",
      "  warnings.warn(\n"
     ]
    },
    {
     "name": "stdout",
     "output_type": "stream",
     "text": [
      "<IPython.core.display.HTML object>\n",
      "Raw datum: ['What was the name of the Media Day event for Super Bowl 50?', \"The game's media day, which was typically held on the Tuesday afternoon prior to the game, was moved to the Monday evening and re-branded as Super Bowl Opening Night.\"]\n",
      "GT target: 1\n"
     ]
    },
    {
     "name": "stderr",
     "output_type": "stream",
     "text": [
      "Lime attribution: 100%|██████████████████████████████████████████████████████████████████████████████████████████████████████████| 5/5 [00:09<00:00,  1.86s/it]\n"
     ]
    },
    {
     "name": "stdout",
     "output_type": "stream",
     "text": [
      "word attr tensor([ 0.2429, -0.0275,  0.0818, -0.0622,  0.3645,  0.1273, -0.0024,  0.2116,\n",
      "        -0.3163, -0.1207,  0.1038,  0.0570,  0.1072, -0.0021, -0.3322,  0.1910,\n",
      "         0.0089,  0.0229,  0.1771,  0.0077,  0.0347,  0.0278, -0.2233, -0.0723,\n",
      "        -0.0127, -0.0141, -0.0716,  0.2051, -0.1508,  0.2727,  0.0729, -0.0736,\n",
      "        -0.0663,  0.1168, -0.0169, -0.0477,  0.0896, -0.0656,  0.0314, -0.0962,\n",
      "        -0.0284,  0.0920, -0.0842,  0.1098,  0.0558, -0.0440,  0.1636, -0.0745,\n",
      "        -0.1372,  0.1714,  0.0764,  0.0388,  0.1995, -0.0030], device='cuda:0')\n",
      "conti attr [tensor(0.2429, device='cuda:0'), tensor(-0.0275, device='cuda:0'), tensor(0.0818, device='cuda:0'), tensor(-0.0622, device='cuda:0'), tensor(0.3645, device='cuda:0'), tensor(0.1273, device='cuda:0'), tensor(-0.0024, device='cuda:0'), tensor(0.2116, device='cuda:0'), tensor(-0.3163, device='cuda:0'), tensor(-0.1207, device='cuda:0'), tensor(0.1038, device='cuda:0'), tensor(0.0570, device='cuda:0'), tensor(0.1072, device='cuda:0'), tensor(-0.1672, device='cuda:0'), tensor(0.1910, device='cuda:0'), tensor(0.0089, device='cuda:0'), tensor(0.0229, device='cuda:0'), tensor(0.0636, device='cuda:0'), tensor(0.0278, device='cuda:0'), tensor(-0.1478, device='cuda:0'), tensor(-0.0127, device='cuda:0'), tensor(-0.0141, device='cuda:0'), tensor(-0.0716, device='cuda:0'), tensor(0.2051, device='cuda:0'), tensor(-0.1508, device='cuda:0'), tensor(0.2727, device='cuda:0'), tensor(0.0729, device='cuda:0'), tensor(-0.0736, device='cuda:0'), tensor(-0.0663, device='cuda:0'), tensor(0.1168, device='cuda:0'), tensor(-0.0169, device='cuda:0'), tensor(0.0210, device='cuda:0'), tensor(-0.0656, device='cuda:0'), tensor(0.0314, device='cuda:0'), tensor(-0.0962, device='cuda:0'), tensor(-0.0284, device='cuda:0'), tensor(0.0920, device='cuda:0'), tensor(-0.0842, device='cuda:0'), tensor(0.1098, device='cuda:0'), tensor(0.0847, device='cuda:0'), tensor(-0.0745, device='cuda:0'), tensor(-0.1372, device='cuda:0'), tensor(0.1714, device='cuda:0'), tensor(0.0764, device='cuda:0'), tensor(0.1191, device='cuda:0'), tensor(-0.0030, device='cuda:0')]\n",
      "detokenized ['[CLS]', 'what', 'was', 'the', 'name', 'of', 'the', 'media', 'day', 'event', 'for', 'super', 'bowl', '50', '?', '[SEP]', '[SEP]', 'the', 'game', \"'\", 's', 'media', 'day', ',', 'which', 'was', 'typically', 'held', 'on', 'the', 'tuesday', 'afternoon', 'prior', 'to', 'the', 'game', ',', 'was', 'moved', 'to', 'the', 'monday', 'evening', 'and', 're', '-', 'branded', 'as', 'super', 'bowl', 'opening', 'night', '.', '[SEP]']\n",
      "len conti_raw 46\n",
      "conti_raw ['[CLS]', 'what', 'was', 'the', 'name', 'of', 'the', 'media', 'day', 'event', 'for', 'super', 'bowl', '50?', '[SEP]', '[SEP]', 'the', \"game's\", 'media', 'day,', 'which', 'was', 'typically', 'held', 'on', 'the', 'tuesday', 'afternoon', 'prior', 'to', 'the', 'game,', 'was', 'moved', 'to', 'the', 'monday', 'evening', 'and', 're-branded', 'as', 'super', 'bowl', 'opening', 'night.', '[SEP]']\n",
      "pred_prob 0.7368832230567932\n"
     ]
    },
    {
     "data": {
      "text/html": [
       "<table width: 100%><div style=\"border-top: 1px solid; margin-top: 5px;             padding-top: 5px; display: inline-block\"><b>Legend: </b><span style=\"display: inline-block; width: 10px; height: 10px;                 border: 1px solid; background-color:                 hsl(0, 75%, 60%)\"></span> Negative  <span style=\"display: inline-block; width: 10px; height: 10px;                 border: 1px solid; background-color:                 hsl(0, 75%, 100%)\"></span> Neutral  <span style=\"display: inline-block; width: 10px; height: 10px;                 border: 1px solid; background-color:                 hsl(120, 75%, 50%)\"></span> Positive  </div><tr><th>True Label</th><th>Predicted Label</th><th>Attribution Label</th><th>Attribution Score</th><th>Word Importance</th><tr><td><text style=\"padding-right:2em\"><b>Entailment</b></text></td><td><text style=\"padding-right:2em\"><b>Entailment (0.74)</b></text></td><td><text style=\"padding-right:2em\"><b>Entailment</b></text></td><td><text style=\"padding-right:2em\"><b>1.32</b></text></td><td><mark style=\"background-color: hsl(120, 75%, 88%); opacity:1.0;                     line-height:1.75\"><font color=\"black\"> [CLS]                    </font></mark><mark style=\"background-color: hsl(0, 75%, 99%); opacity:1.0;                     line-height:1.75\"><font color=\"black\"> what                    </font></mark><mark style=\"background-color: hsl(120, 75%, 96%); opacity:1.0;                     line-height:1.75\"><font color=\"black\"> was                    </font></mark><mark style=\"background-color: hsl(0, 75%, 98%); opacity:1.0;                     line-height:1.75\"><font color=\"black\"> the                    </font></mark><mark style=\"background-color: hsl(120, 75%, 82%); opacity:1.0;                     line-height:1.75\"><font color=\"black\"> name                    </font></mark><mark style=\"background-color: hsl(120, 75%, 94%); opacity:1.0;                     line-height:1.75\"><font color=\"black\"> of                    </font></mark><mark style=\"background-color: hsl(0, 75%, 100%); opacity:1.0;                     line-height:1.75\"><font color=\"black\"> the                    </font></mark><mark style=\"background-color: hsl(120, 75%, 90%); opacity:1.0;                     line-height:1.75\"><font color=\"black\"> media                    </font></mark><mark style=\"background-color: hsl(0, 75%, 88%); opacity:1.0;                     line-height:1.75\"><font color=\"black\"> day                    </font></mark><mark style=\"background-color: hsl(0, 75%, 96%); opacity:1.0;                     line-height:1.75\"><font color=\"black\"> event                    </font></mark><mark style=\"background-color: hsl(120, 75%, 95%); opacity:1.0;                     line-height:1.75\"><font color=\"black\"> for                    </font></mark><mark style=\"background-color: hsl(120, 75%, 98%); opacity:1.0;                     line-height:1.75\"><font color=\"black\"> super                    </font></mark><mark style=\"background-color: hsl(120, 75%, 95%); opacity:1.0;                     line-height:1.75\"><font color=\"black\"> bowl                    </font></mark><mark style=\"background-color: hsl(0, 75%, 94%); opacity:1.0;                     line-height:1.75\"><font color=\"black\"> 50?                    </font></mark><mark style=\"background-color: hsl(120, 75%, 91%); opacity:1.0;                     line-height:1.75\"><font color=\"black\"> [SEP]                    </font></mark><mark style=\"background-color: hsl(120, 75%, 100%); opacity:1.0;                     line-height:1.75\"><font color=\"black\"> [SEP]                    </font></mark><mark style=\"background-color: hsl(120, 75%, 99%); opacity:1.0;                     line-height:1.75\"><font color=\"black\"> the                    </font></mark><mark style=\"background-color: hsl(120, 75%, 97%); opacity:1.0;                     line-height:1.75\"><font color=\"black\"> game's                    </font></mark><mark style=\"background-color: hsl(120, 75%, 99%); opacity:1.0;                     line-height:1.75\"><font color=\"black\"> media                    </font></mark><mark style=\"background-color: hsl(0, 75%, 95%); opacity:1.0;                     line-height:1.75\"><font color=\"black\"> day,                    </font></mark><mark style=\"background-color: hsl(0, 75%, 100%); opacity:1.0;                     line-height:1.75\"><font color=\"black\"> which                    </font></mark><mark style=\"background-color: hsl(0, 75%, 100%); opacity:1.0;                     line-height:1.75\"><font color=\"black\"> was                    </font></mark><mark style=\"background-color: hsl(0, 75%, 98%); opacity:1.0;                     line-height:1.75\"><font color=\"black\"> typically                    </font></mark><mark style=\"background-color: hsl(120, 75%, 90%); opacity:1.0;                     line-height:1.75\"><font color=\"black\"> held                    </font></mark><mark style=\"background-color: hsl(0, 75%, 94%); opacity:1.0;                     line-height:1.75\"><font color=\"black\"> on                    </font></mark><mark style=\"background-color: hsl(120, 75%, 87%); opacity:1.0;                     line-height:1.75\"><font color=\"black\"> the                    </font></mark><mark style=\"background-color: hsl(120, 75%, 97%); opacity:1.0;                     line-height:1.75\"><font color=\"black\"> tuesday                    </font></mark><mark style=\"background-color: hsl(0, 75%, 98%); opacity:1.0;                     line-height:1.75\"><font color=\"black\"> afternoon                    </font></mark><mark style=\"background-color: hsl(0, 75%, 98%); opacity:1.0;                     line-height:1.75\"><font color=\"black\"> prior                    </font></mark><mark style=\"background-color: hsl(120, 75%, 95%); opacity:1.0;                     line-height:1.75\"><font color=\"black\"> to                    </font></mark><mark style=\"background-color: hsl(0, 75%, 100%); opacity:1.0;                     line-height:1.75\"><font color=\"black\"> the                    </font></mark><mark style=\"background-color: hsl(120, 75%, 99%); opacity:1.0;                     line-height:1.75\"><font color=\"black\"> game,                    </font></mark><mark style=\"background-color: hsl(0, 75%, 98%); opacity:1.0;                     line-height:1.75\"><font color=\"black\"> was                    </font></mark><mark style=\"background-color: hsl(120, 75%, 99%); opacity:1.0;                     line-height:1.75\"><font color=\"black\"> moved                    </font></mark><mark style=\"background-color: hsl(0, 75%, 97%); opacity:1.0;                     line-height:1.75\"><font color=\"black\"> to                    </font></mark><mark style=\"background-color: hsl(0, 75%, 99%); opacity:1.0;                     line-height:1.75\"><font color=\"black\"> the                    </font></mark><mark style=\"background-color: hsl(120, 75%, 96%); opacity:1.0;                     line-height:1.75\"><font color=\"black\"> monday                    </font></mark><mark style=\"background-color: hsl(0, 75%, 97%); opacity:1.0;                     line-height:1.75\"><font color=\"black\"> evening                    </font></mark><mark style=\"background-color: hsl(120, 75%, 95%); opacity:1.0;                     line-height:1.75\"><font color=\"black\"> and                    </font></mark><mark style=\"background-color: hsl(120, 75%, 96%); opacity:1.0;                     line-height:1.75\"><font color=\"black\"> re-branded                    </font></mark><mark style=\"background-color: hsl(0, 75%, 98%); opacity:1.0;                     line-height:1.75\"><font color=\"black\"> as                    </font></mark><mark style=\"background-color: hsl(0, 75%, 95%); opacity:1.0;                     line-height:1.75\"><font color=\"black\"> super                    </font></mark><mark style=\"background-color: hsl(120, 75%, 92%); opacity:1.0;                     line-height:1.75\"><font color=\"black\"> bowl                    </font></mark><mark style=\"background-color: hsl(120, 75%, 97%); opacity:1.0;                     line-height:1.75\"><font color=\"black\"> opening                    </font></mark><mark style=\"background-color: hsl(120, 75%, 95%); opacity:1.0;                     line-height:1.75\"><font color=\"black\"> night.                    </font></mark><mark style=\"background-color: hsl(0, 75%, 100%); opacity:1.0;                     line-height:1.75\"><font color=\"black\"> [SEP]                    </font></mark></td><tr></table>"
      ],
      "text/plain": [
       "<IPython.core.display.HTML object>"
      ]
     },
     "metadata": {},
     "output_type": "display_data"
    },
    {
     "name": "stderr",
     "output_type": "stream",
     "text": [
      "/home/user/anaconda3/envs/metric/lib/python3.9/site-packages/captum/attr/_core/lime.py:1096: UserWarning: Attempting to construct interpretable model with > 10000 features.This can be very slow or lead to OOM issues. Please provide a featuremask which groups input features to reduce the number of interpretablefeatures. \n",
      "  warnings.warn(\n"
     ]
    },
    {
     "name": "stdout",
     "output_type": "stream",
     "text": [
      "<IPython.core.display.HTML object>\n",
      "Raw datum: ['How many Doctor Who soundtracks have been released since 2005?', 'The fourth was released on 4 October 2010 as a two disc special edition and contained music from the 2008–2010 specials (The Next Doctor to End of Time Part 2).']\n",
      "GT target: 0\n"
     ]
    },
    {
     "name": "stderr",
     "output_type": "stream",
     "text": [
      "Lime attribution: 100%|██████████████████████████████████████████████████████████████████████████████████████████████████████████| 5/5 [00:08<00:00,  1.77s/it]\n"
     ]
    },
    {
     "name": "stdout",
     "output_type": "stream",
     "text": [
      "word attr tensor([ 0.5223, -0.0801, -0.1292, -0.0698, -0.1003, -0.1750, -0.0158,  0.0220,\n",
      "        -0.0150,  0.0530,  0.1037, -0.0096, -0.1077,  0.0045, -0.0733, -0.6318,\n",
      "         0.0048, -0.2058, -0.0200, -0.1318, -0.0785, -0.0634,  0.0118, -0.0518,\n",
      "         0.0447, -0.0085, -0.0553, -0.1796, -0.0521, -0.0206, -0.1354, -0.0058,\n",
      "         0.1392, -0.1037,  0.1128, -0.0527,  0.0368, -0.0015, -0.1464,  0.0335,\n",
      "         0.0803, -0.0042,  0.0026,  0.0460,  0.0659,  0.0420,  0.0558,  0.0014,\n",
      "         0.0798, -0.0449], device='cuda:0')\n",
      "conti attr [tensor(0.5223, device='cuda:0'), tensor(-0.0801, device='cuda:0'), tensor(-0.1292, device='cuda:0'), tensor(-0.0698, device='cuda:0'), tensor(-0.1003, device='cuda:0'), tensor(-0.1750, device='cuda:0'), tensor(-0.0158, device='cuda:0'), tensor(0.0220, device='cuda:0'), tensor(-0.0150, device='cuda:0'), tensor(0.0530, device='cuda:0'), tensor(0.0471, device='cuda:0'), tensor(-0.1077, device='cuda:0'), tensor(0.0045, device='cuda:0'), tensor(-0.0733, device='cuda:0'), tensor(-0.6318, device='cuda:0'), tensor(0.0048, device='cuda:0'), tensor(-0.2058, device='cuda:0'), tensor(-0.0200, device='cuda:0'), tensor(-0.1318, device='cuda:0'), tensor(-0.0785, device='cuda:0'), tensor(-0.0634, device='cuda:0'), tensor(0.0118, device='cuda:0'), tensor(-0.0518, device='cuda:0'), tensor(0.0447, device='cuda:0'), tensor(-0.0085, device='cuda:0'), tensor(-0.0553, device='cuda:0'), tensor(-0.1796, device='cuda:0'), tensor(-0.0521, device='cuda:0'), tensor(-0.0206, device='cuda:0'), tensor(-0.1354, device='cuda:0'), tensor(-0.0058, device='cuda:0'), tensor(0.1392, device='cuda:0'), tensor(-0.0240, device='cuda:0'), tensor(0.0368, device='cuda:0'), tensor(-0.0739, device='cuda:0'), tensor(0.0335, device='cuda:0'), tensor(0.0803, device='cuda:0'), tensor(-0.0042, device='cuda:0'), tensor(0.0026, device='cuda:0'), tensor(0.0460, device='cuda:0'), tensor(0.0659, device='cuda:0'), tensor(0.0420, device='cuda:0'), tensor(0.0542, device='cuda:0'), tensor(-0.0449, device='cuda:0')]\n",
      "detokenized ['[CLS]', 'how', 'many', 'doctor', 'who', 'soundtracks', 'have', 'been', 'released', 'since', '2005', '?', '[SEP]', '[SEP]', 'the', 'fourth', 'was', 'released', 'on', '4', 'october', '2010', 'as', 'a', 'two', 'disc', 'special', 'edition', 'and', 'contained', 'music', 'from', 'the', '2008', '–', '2010', 'specials', '(', 'the', 'next', 'doctor', 'to', 'end', 'of', 'time', 'part', '2', ')', '.', '[SEP]']\n",
      "len conti_raw 44\n",
      "conti_raw ['[CLS]', 'how', 'many', 'doctor', 'who', 'soundtracks', 'have', 'been', 'released', 'since', '2005?', '[SEP]', '[SEP]', 'the', 'fourth', 'was', 'released', 'on', '4', 'october', '2010', 'as', 'a', 'two', 'disc', 'special', 'edition', 'and', 'contained', 'music', 'from', 'the', '2008–2010', 'specials', '(the', 'next', 'doctor', 'to', 'end', 'of', 'time', 'part', '2).', '[SEP]']\n",
      "pred_prob 0.8182130455970764\n"
     ]
    },
    {
     "data": {
      "text/html": [
       "<table width: 100%><div style=\"border-top: 1px solid; margin-top: 5px;             padding-top: 5px; display: inline-block\"><b>Legend: </b><span style=\"display: inline-block; width: 10px; height: 10px;                 border: 1px solid; background-color:                 hsl(0, 75%, 60%)\"></span> Negative  <span style=\"display: inline-block; width: 10px; height: 10px;                 border: 1px solid; background-color:                 hsl(0, 75%, 100%)\"></span> Neutral  <span style=\"display: inline-block; width: 10px; height: 10px;                 border: 1px solid; background-color:                 hsl(120, 75%, 50%)\"></span> Positive  </div><tr><th>True Label</th><th>Predicted Label</th><th>Attribution Label</th><th>Attribution Score</th><th>Word Importance</th><tr><td><text style=\"padding-right:2em\"><b>No Entailment</b></text></td><td><text style=\"padding-right:2em\"><b>Entailment (0.82)</b></text></td><td><text style=\"padding-right:2em\"><b>No Entailment</b></text></td><td><text style=\"padding-right:2em\"><b>-1.31</b></text></td><td><mark style=\"background-color: hsl(120, 75%, 74%); opacity:1.0;                     line-height:1.75\"><font color=\"black\"> [CLS]                    </font></mark><mark style=\"background-color: hsl(0, 75%, 97%); opacity:1.0;                     line-height:1.75\"><font color=\"black\"> how                    </font></mark><mark style=\"background-color: hsl(0, 75%, 95%); opacity:1.0;                     line-height:1.75\"><font color=\"black\"> many                    </font></mark><mark style=\"background-color: hsl(0, 75%, 98%); opacity:1.0;                     line-height:1.75\"><font color=\"black\"> doctor                    </font></mark><mark style=\"background-color: hsl(0, 75%, 96%); opacity:1.0;                     line-height:1.75\"><font color=\"black\"> who                    </font></mark><mark style=\"background-color: hsl(0, 75%, 93%); opacity:1.0;                     line-height:1.75\"><font color=\"black\"> soundtracks                    </font></mark><mark style=\"background-color: hsl(0, 75%, 100%); opacity:1.0;                     line-height:1.75\"><font color=\"black\"> have                    </font></mark><mark style=\"background-color: hsl(120, 75%, 99%); opacity:1.0;                     line-height:1.75\"><font color=\"black\"> been                    </font></mark><mark style=\"background-color: hsl(0, 75%, 100%); opacity:1.0;                     line-height:1.75\"><font color=\"black\"> released                    </font></mark><mark style=\"background-color: hsl(120, 75%, 98%); opacity:1.0;                     line-height:1.75\"><font color=\"black\"> since                    </font></mark><mark style=\"background-color: hsl(120, 75%, 98%); opacity:1.0;                     line-height:1.75\"><font color=\"black\"> 2005?                    </font></mark><mark style=\"background-color: hsl(0, 75%, 96%); opacity:1.0;                     line-height:1.75\"><font color=\"black\"> [SEP]                    </font></mark><mark style=\"background-color: hsl(120, 75%, 100%); opacity:1.0;                     line-height:1.75\"><font color=\"black\"> [SEP]                    </font></mark><mark style=\"background-color: hsl(0, 75%, 98%); opacity:1.0;                     line-height:1.75\"><font color=\"black\"> the                    </font></mark><mark style=\"background-color: hsl(0, 75%, 75%); opacity:1.0;                     line-height:1.75\"><font color=\"black\"> fourth                    </font></mark><mark style=\"background-color: hsl(120, 75%, 100%); opacity:1.0;                     line-height:1.75\"><font color=\"black\"> was                    </font></mark><mark style=\"background-color: hsl(0, 75%, 92%); opacity:1.0;                     line-height:1.75\"><font color=\"black\"> released                    </font></mark><mark style=\"background-color: hsl(0, 75%, 100%); opacity:1.0;                     line-height:1.75\"><font color=\"black\"> on                    </font></mark><mark style=\"background-color: hsl(0, 75%, 95%); opacity:1.0;                     line-height:1.75\"><font color=\"black\"> 4                    </font></mark><mark style=\"background-color: hsl(0, 75%, 97%); opacity:1.0;                     line-height:1.75\"><font color=\"black\"> october                    </font></mark><mark style=\"background-color: hsl(0, 75%, 98%); opacity:1.0;                     line-height:1.75\"><font color=\"black\"> 2010                    </font></mark><mark style=\"background-color: hsl(120, 75%, 100%); opacity:1.0;                     line-height:1.75\"><font color=\"black\"> as                    </font></mark><mark style=\"background-color: hsl(0, 75%, 98%); opacity:1.0;                     line-height:1.75\"><font color=\"black\"> a                    </font></mark><mark style=\"background-color: hsl(120, 75%, 98%); opacity:1.0;                     line-height:1.75\"><font color=\"black\"> two                    </font></mark><mark style=\"background-color: hsl(0, 75%, 100%); opacity:1.0;                     line-height:1.75\"><font color=\"black\"> disc                    </font></mark><mark style=\"background-color: hsl(0, 75%, 98%); opacity:1.0;                     line-height:1.75\"><font color=\"black\"> special                    </font></mark><mark style=\"background-color: hsl(0, 75%, 93%); opacity:1.0;                     line-height:1.75\"><font color=\"black\"> edition                    </font></mark><mark style=\"background-color: hsl(0, 75%, 98%); opacity:1.0;                     line-height:1.75\"><font color=\"black\"> and                    </font></mark><mark style=\"background-color: hsl(0, 75%, 100%); opacity:1.0;                     line-height:1.75\"><font color=\"black\"> contained                    </font></mark><mark style=\"background-color: hsl(0, 75%, 95%); opacity:1.0;                     line-height:1.75\"><font color=\"black\"> music                    </font></mark><mark style=\"background-color: hsl(0, 75%, 100%); opacity:1.0;                     line-height:1.75\"><font color=\"black\"> from                    </font></mark><mark style=\"background-color: hsl(120, 75%, 94%); opacity:1.0;                     line-height:1.75\"><font color=\"black\"> the                    </font></mark><mark style=\"background-color: hsl(0, 75%, 100%); opacity:1.0;                     line-height:1.75\"><font color=\"black\"> 2008–2010                    </font></mark><mark style=\"background-color: hsl(120, 75%, 99%); opacity:1.0;                     line-height:1.75\"><font color=\"black\"> specials                    </font></mark><mark style=\"background-color: hsl(0, 75%, 98%); opacity:1.0;                     line-height:1.75\"><font color=\"black\"> (the                    </font></mark><mark style=\"background-color: hsl(120, 75%, 99%); opacity:1.0;                     line-height:1.75\"><font color=\"black\"> next                    </font></mark><mark style=\"background-color: hsl(120, 75%, 96%); opacity:1.0;                     line-height:1.75\"><font color=\"black\"> doctor                    </font></mark><mark style=\"background-color: hsl(0, 75%, 100%); opacity:1.0;                     line-height:1.75\"><font color=\"black\"> to                    </font></mark><mark style=\"background-color: hsl(120, 75%, 100%); opacity:1.0;                     line-height:1.75\"><font color=\"black\"> end                    </font></mark><mark style=\"background-color: hsl(120, 75%, 98%); opacity:1.0;                     line-height:1.75\"><font color=\"black\"> of                    </font></mark><mark style=\"background-color: hsl(120, 75%, 97%); opacity:1.0;                     line-height:1.75\"><font color=\"black\"> time                    </font></mark><mark style=\"background-color: hsl(120, 75%, 98%); opacity:1.0;                     line-height:1.75\"><font color=\"black\"> part                    </font></mark><mark style=\"background-color: hsl(120, 75%, 98%); opacity:1.0;                     line-height:1.75\"><font color=\"black\"> 2).                    </font></mark><mark style=\"background-color: hsl(0, 75%, 99%); opacity:1.0;                     line-height:1.75\"><font color=\"black\"> [SEP]                    </font></mark></td><tr></table>"
      ],
      "text/plain": [
       "<IPython.core.display.HTML object>"
      ]
     },
     "metadata": {},
     "output_type": "display_data"
    },
    {
     "name": "stderr",
     "output_type": "stream",
     "text": [
      "/home/user/anaconda3/envs/metric/lib/python3.9/site-packages/captum/attr/_core/lime.py:1096: UserWarning: Attempting to construct interpretable model with > 10000 features.This can be very slow or lead to OOM issues. Please provide a featuremask which groups input features to reduce the number of interpretablefeatures. \n",
      "  warnings.warn(\n"
     ]
    },
    {
     "name": "stdout",
     "output_type": "stream",
     "text": [
      "<IPython.core.display.HTML object>\n",
      "Raw datum: [\"What is the name of the country's longest continuously running student film society?\", 'Students at the University of Chicago run over 400 clubs and organizations known as Recognized Student Organizations (RSOs).']\n",
      "GT target: 0\n"
     ]
    },
    {
     "name": "stderr",
     "output_type": "stream",
     "text": [
      "Lime attribution: 100%|██████████████████████████████████████████████████████████████████████████████████████████████████████████| 5/5 [00:04<00:00,  1.16it/s]\n"
     ]
    },
    {
     "name": "stdout",
     "output_type": "stream",
     "text": [
      "word attr tensor([ 1.3830e-01,  3.2192e-02,  1.7933e-01,  9.5139e-02,  1.8674e-01,\n",
      "         1.2585e-01, -4.9825e-02, -3.0518e-01, -3.9668e-02,  9.8826e-02,\n",
      "         2.8467e-01, -9.0514e-02, -1.4478e-01, -3.6172e-02, -1.9796e-01,\n",
      "         1.0179e-01, -1.6070e-02, -2.5613e-02, -1.1629e-01,  3.7661e-01,\n",
      "         1.3623e-01, -1.7436e-02, -1.3614e-01,  6.6375e-02, -4.8946e-02,\n",
      "         2.5568e-01,  6.4932e-02, -4.7936e-02,  5.0728e-02,  2.2235e-01,\n",
      "         2.6364e-04,  1.1175e-01,  1.4267e-01,  2.0920e-01,  1.5888e-01,\n",
      "        -2.3105e-01,  9.8008e-02, -2.1774e-01,  1.6812e-01,  3.1957e-02,\n",
      "        -1.5252e-01,  1.7535e-01], device='cuda:0')\n",
      "conti attr [tensor(0.1383, device='cuda:0'), tensor(0.0322, device='cuda:0'), tensor(0.1793, device='cuda:0'), tensor(0.0951, device='cuda:0'), tensor(0.1867, device='cuda:0'), tensor(0.1258, device='cuda:0'), tensor(-0.0498, device='cuda:0'), tensor(-0.0368, device='cuda:0'), tensor(0.2847, device='cuda:0'), tensor(-0.0905, device='cuda:0'), tensor(-0.1448, device='cuda:0'), tensor(-0.0362, device='cuda:0'), tensor(-0.1980, device='cuda:0'), tensor(0.0429, device='cuda:0'), tensor(-0.0256, device='cuda:0'), tensor(-0.1163, device='cuda:0'), tensor(0.3766, device='cuda:0'), tensor(0.1362, device='cuda:0'), tensor(-0.0174, device='cuda:0'), tensor(-0.1361, device='cuda:0'), tensor(0.0664, device='cuda:0'), tensor(-0.0489, device='cuda:0'), tensor(0.2557, device='cuda:0'), tensor(0.0649, device='cuda:0'), tensor(-0.0479, device='cuda:0'), tensor(0.0507, device='cuda:0'), tensor(0.2224, device='cuda:0'), tensor(0.0003, device='cuda:0'), tensor(0.1118, device='cuda:0'), tensor(0.1427, device='cuda:0'), tensor(0.2092, device='cuda:0'), tensor(0.1589, device='cuda:0'), tensor(-0.2311, device='cuda:0'), tensor(-0.0547, device='cuda:0'), tensor(0.1754, device='cuda:0')]\n",
      "detokenized ['[CLS]', 'what', 'is', 'the', 'name', 'of', 'the', 'country', \"'\", 's', 'longest', 'continuously', 'running', 'student', 'film', 'society', '?', '[SEP]', '[SEP]', 'students', 'at', 'the', 'university', 'of', 'chicago', 'run', 'over', '400', 'clubs', 'and', 'organizations', 'known', 'as', 'recognized', 'student', 'organizations', '(', 'rs', 'os', ')', '.', '[SEP]']\n",
      "len conti_raw 35\n",
      "conti_raw ['[CLS]', 'what', 'is', 'the', 'name', 'of', 'the', \"country's\", 'longest', 'continuously', 'running', 'student', 'film', 'society?', '[SEP]', '[SEP]', 'students', 'at', 'the', 'university', 'of', 'chicago', 'run', 'over', '400', 'clubs', 'and', 'organizations', 'known', 'as', 'recognized', 'student', 'organizations', '(rsos).', '[SEP]']\n",
      "pred_prob 0.9198501110076904\n"
     ]
    },
    {
     "data": {
      "text/html": [
       "<table width: 100%><div style=\"border-top: 1px solid; margin-top: 5px;             padding-top: 5px; display: inline-block\"><b>Legend: </b><span style=\"display: inline-block; width: 10px; height: 10px;                 border: 1px solid; background-color:                 hsl(0, 75%, 60%)\"></span> Negative  <span style=\"display: inline-block; width: 10px; height: 10px;                 border: 1px solid; background-color:                 hsl(0, 75%, 100%)\"></span> Neutral  <span style=\"display: inline-block; width: 10px; height: 10px;                 border: 1px solid; background-color:                 hsl(120, 75%, 50%)\"></span> Positive  </div><tr><th>True Label</th><th>Predicted Label</th><th>Attribution Label</th><th>Attribution Score</th><th>Word Importance</th><tr><td><text style=\"padding-right:2em\"><b>No Entailment</b></text></td><td><text style=\"padding-right:2em\"><b>Entailment (0.92)</b></text></td><td><text style=\"padding-right:2em\"><b>Entailment</b></text></td><td><text style=\"padding-right:2em\"><b>1.64</b></text></td><td><mark style=\"background-color: hsl(120, 75%, 94%); opacity:1.0;                     line-height:1.75\"><font color=\"black\"> [CLS]                    </font></mark><mark style=\"background-color: hsl(120, 75%, 99%); opacity:1.0;                     line-height:1.75\"><font color=\"black\"> what                    </font></mark><mark style=\"background-color: hsl(120, 75%, 92%); opacity:1.0;                     line-height:1.75\"><font color=\"black\"> is                    </font></mark><mark style=\"background-color: hsl(120, 75%, 96%); opacity:1.0;                     line-height:1.75\"><font color=\"black\"> the                    </font></mark><mark style=\"background-color: hsl(120, 75%, 91%); opacity:1.0;                     line-height:1.75\"><font color=\"black\"> name                    </font></mark><mark style=\"background-color: hsl(120, 75%, 94%); opacity:1.0;                     line-height:1.75\"><font color=\"black\"> of                    </font></mark><mark style=\"background-color: hsl(0, 75%, 99%); opacity:1.0;                     line-height:1.75\"><font color=\"black\"> the                    </font></mark><mark style=\"background-color: hsl(0, 75%, 99%); opacity:1.0;                     line-height:1.75\"><font color=\"black\"> country's                    </font></mark><mark style=\"background-color: hsl(120, 75%, 86%); opacity:1.0;                     line-height:1.75\"><font color=\"black\"> longest                    </font></mark><mark style=\"background-color: hsl(0, 75%, 97%); opacity:1.0;                     line-height:1.75\"><font color=\"black\"> continuously                    </font></mark><mark style=\"background-color: hsl(0, 75%, 95%); opacity:1.0;                     line-height:1.75\"><font color=\"black\"> running                    </font></mark><mark style=\"background-color: hsl(0, 75%, 99%); opacity:1.0;                     line-height:1.75\"><font color=\"black\"> student                    </font></mark><mark style=\"background-color: hsl(0, 75%, 93%); opacity:1.0;                     line-height:1.75\"><font color=\"black\"> film                    </font></mark><mark style=\"background-color: hsl(120, 75%, 98%); opacity:1.0;                     line-height:1.75\"><font color=\"black\"> society?                    </font></mark><mark style=\"background-color: hsl(0, 75%, 99%); opacity:1.0;                     line-height:1.75\"><font color=\"black\"> [SEP]                    </font></mark><mark style=\"background-color: hsl(0, 75%, 96%); opacity:1.0;                     line-height:1.75\"><font color=\"black\"> [SEP]                    </font></mark><mark style=\"background-color: hsl(120, 75%, 82%); opacity:1.0;                     line-height:1.75\"><font color=\"black\"> students                    </font></mark><mark style=\"background-color: hsl(120, 75%, 94%); opacity:1.0;                     line-height:1.75\"><font color=\"black\"> at                    </font></mark><mark style=\"background-color: hsl(0, 75%, 100%); opacity:1.0;                     line-height:1.75\"><font color=\"black\"> the                    </font></mark><mark style=\"background-color: hsl(0, 75%, 95%); opacity:1.0;                     line-height:1.75\"><font color=\"black\"> university                    </font></mark><mark style=\"background-color: hsl(120, 75%, 97%); opacity:1.0;                     line-height:1.75\"><font color=\"black\"> of                    </font></mark><mark style=\"background-color: hsl(0, 75%, 99%); opacity:1.0;                     line-height:1.75\"><font color=\"black\"> chicago                    </font></mark><mark style=\"background-color: hsl(120, 75%, 88%); opacity:1.0;                     line-height:1.75\"><font color=\"black\"> run                    </font></mark><mark style=\"background-color: hsl(120, 75%, 97%); opacity:1.0;                     line-height:1.75\"><font color=\"black\"> over                    </font></mark><mark style=\"background-color: hsl(0, 75%, 99%); opacity:1.0;                     line-height:1.75\"><font color=\"black\"> 400                    </font></mark><mark style=\"background-color: hsl(120, 75%, 98%); opacity:1.0;                     line-height:1.75\"><font color=\"black\"> clubs                    </font></mark><mark style=\"background-color: hsl(120, 75%, 89%); opacity:1.0;                     line-height:1.75\"><font color=\"black\"> and                    </font></mark><mark style=\"background-color: hsl(120, 75%, 100%); opacity:1.0;                     line-height:1.75\"><font color=\"black\"> organizations                    </font></mark><mark style=\"background-color: hsl(120, 75%, 95%); opacity:1.0;                     line-height:1.75\"><font color=\"black\"> known                    </font></mark><mark style=\"background-color: hsl(120, 75%, 93%); opacity:1.0;                     line-height:1.75\"><font color=\"black\"> as                    </font></mark><mark style=\"background-color: hsl(120, 75%, 90%); opacity:1.0;                     line-height:1.75\"><font color=\"black\"> recognized                    </font></mark><mark style=\"background-color: hsl(120, 75%, 93%); opacity:1.0;                     line-height:1.75\"><font color=\"black\"> student                    </font></mark><mark style=\"background-color: hsl(0, 75%, 91%); opacity:1.0;                     line-height:1.75\"><font color=\"black\"> organizations                    </font></mark><mark style=\"background-color: hsl(0, 75%, 98%); opacity:1.0;                     line-height:1.75\"><font color=\"black\"> (rsos).                    </font></mark><mark style=\"background-color: hsl(120, 75%, 92%); opacity:1.0;                     line-height:1.75\"><font color=\"black\"> [SEP]                    </font></mark></td><tr></table>"
      ],
      "text/plain": [
       "<IPython.core.display.HTML object>"
      ]
     },
     "metadata": {},
     "output_type": "display_data"
    },
    {
     "name": "stderr",
     "output_type": "stream",
     "text": [
      "/home/user/anaconda3/envs/metric/lib/python3.9/site-packages/captum/attr/_core/lime.py:1096: UserWarning: Attempting to construct interpretable model with > 10000 features.This can be very slow or lead to OOM issues. Please provide a featuremask which groups input features to reduce the number of interpretablefeatures. \n",
      "  warnings.warn(\n"
     ]
    },
    {
     "name": "stdout",
     "output_type": "stream",
     "text": [
      "<IPython.core.display.HTML object>\n",
      "Raw datum: ['How many times has the South Florida/Miami area hosted the Super Bowl?', 'The South Florida/Miami area has previously hosted the event 10 times (tied for most with New Orleans), with the most recent one being Super Bowl XLIV in 2010.']\n",
      "GT target: 1\n"
     ]
    },
    {
     "name": "stderr",
     "output_type": "stream",
     "text": [
      "Lime attribution: 100%|██████████████████████████████████████████████████████████████████████████████████████████████████████████| 5/5 [00:07<00:00,  1.55s/it]\n"
     ]
    },
    {
     "name": "stdout",
     "output_type": "stream",
     "text": [
      "word attr tensor([ 0.1232,  0.1259, -0.0853,  0.0686, -0.0537,  0.2646,  0.0514,  0.1575,\n",
      "        -0.0668,  0.0436,  0.2347,  0.0759, -0.0225, -0.2253, -0.2174,  0.2705,\n",
      "        -0.3203,  0.1316, -0.0041, -0.0509,  0.0694,  0.0121, -0.1207,  0.0587,\n",
      "         0.1120,  0.0979,  0.1026,  0.0554,  0.1903, -0.0746, -0.1871, -0.1129,\n",
      "        -0.0638, -0.1142, -0.0062, -0.0939,  0.0128,  0.1189, -0.0064, -0.2067,\n",
      "        -0.0251,  0.0583, -0.0831,  0.0450, -0.1569,  0.0292,  0.2009, -0.3480,\n",
      "        -0.1951,  0.0179,  0.0027, -0.1238, -0.1007, -0.0129], device='cuda:0')\n",
      "conti attr [tensor(0.1232, device='cuda:0'), tensor(0.1259, device='cuda:0'), tensor(-0.0853, device='cuda:0'), tensor(0.0686, device='cuda:0'), tensor(-0.0537, device='cuda:0'), tensor(0.2646, device='cuda:0'), tensor(0.0514, device='cuda:0'), tensor(0.0445, device='cuda:0'), tensor(0.2347, device='cuda:0'), tensor(0.0759, device='cuda:0'), tensor(-0.0225, device='cuda:0'), tensor(-0.2253, device='cuda:0'), tensor(0.0265, device='cuda:0'), tensor(-0.3203, device='cuda:0'), tensor(0.1316, device='cuda:0'), tensor(-0.0041, device='cuda:0'), tensor(-0.0509, device='cuda:0'), tensor(-0.0400, device='cuda:0'), tensor(0.0587, device='cuda:0'), tensor(0.1120, device='cuda:0'), tensor(0.0979, device='cuda:0'), tensor(0.1026, device='cuda:0'), tensor(0.0554, device='cuda:0'), tensor(0.1903, device='cuda:0'), tensor(-0.0746, device='cuda:0'), tensor(-0.1871, device='cuda:0'), tensor(-0.0883, device='cuda:0'), tensor(-0.1142, device='cuda:0'), tensor(-0.0062, device='cuda:0'), tensor(-0.0939, device='cuda:0'), tensor(0.0128, device='cuda:0'), tensor(-0.0752, device='cuda:0'), tensor(-0.0251, device='cuda:0'), tensor(0.0583, device='cuda:0'), tensor(-0.0831, device='cuda:0'), tensor(0.0450, device='cuda:0'), tensor(-0.1569, device='cuda:0'), tensor(0.0292, device='cuda:0'), tensor(0.2009, device='cuda:0'), tensor(-0.3480, device='cuda:0'), tensor(-0.0886, device='cuda:0'), tensor(0.0027, device='cuda:0'), tensor(-0.1123, device='cuda:0'), tensor(-0.0129, device='cuda:0')]\n",
      "detokenized ['[CLS]', 'how', 'many', 'times', 'has', 'the', 'south', 'florida', '/', 'miami', 'area', 'hosted', 'the', 'super', 'bowl', '?', '[SEP]', '[SEP]', 'the', 'south', 'florida', '/', 'miami', 'area', 'has', 'previously', 'hosted', 'the', 'event', '10', 'times', '(', 'tied', 'for', 'most', 'with', 'new', 'orleans', ')', ',', 'with', 'the', 'most', 'recent', 'one', 'being', 'super', 'bowl', 'xl', 'iv', 'in', '2010', '.', '[SEP]']\n",
      "len conti_raw 44\n",
      "conti_raw ['[CLS]', 'how', 'many', 'times', 'has', 'the', 'south', 'florida/miami', 'area', 'hosted', 'the', 'super', 'bowl?', '[SEP]', '[SEP]', 'the', 'south', 'florida/miami', 'area', 'has', 'previously', 'hosted', 'the', 'event', '10', 'times', '(tied', 'for', 'most', 'with', 'new', 'orleans),', 'with', 'the', 'most', 'recent', 'one', 'being', 'super', 'bowl', 'xliv', 'in', '2010.', '[SEP]']\n",
      "pred_prob 0.8666946887969971\n"
     ]
    },
    {
     "data": {
      "text/html": [
       "<table width: 100%><div style=\"border-top: 1px solid; margin-top: 5px;             padding-top: 5px; display: inline-block\"><b>Legend: </b><span style=\"display: inline-block; width: 10px; height: 10px;                 border: 1px solid; background-color:                 hsl(0, 75%, 60%)\"></span> Negative  <span style=\"display: inline-block; width: 10px; height: 10px;                 border: 1px solid; background-color:                 hsl(0, 75%, 100%)\"></span> Neutral  <span style=\"display: inline-block; width: 10px; height: 10px;                 border: 1px solid; background-color:                 hsl(120, 75%, 50%)\"></span> Positive  </div><tr><th>True Label</th><th>Predicted Label</th><th>Attribution Label</th><th>Attribution Score</th><th>Word Importance</th><tr><td><text style=\"padding-right:2em\"><b>Entailment</b></text></td><td><text style=\"padding-right:2em\"><b>Entailment (0.87)</b></text></td><td><text style=\"padding-right:2em\"><b>No Entailment</b></text></td><td><text style=\"padding-right:2em\"><b>-0.35</b></text></td><td><mark style=\"background-color: hsl(120, 75%, 94%); opacity:1.0;                     line-height:1.75\"><font color=\"black\"> [CLS]                    </font></mark><mark style=\"background-color: hsl(120, 75%, 94%); opacity:1.0;                     line-height:1.75\"><font color=\"black\"> how                    </font></mark><mark style=\"background-color: hsl(0, 75%, 97%); opacity:1.0;                     line-height:1.75\"><font color=\"black\"> many                    </font></mark><mark style=\"background-color: hsl(120, 75%, 97%); opacity:1.0;                     line-height:1.75\"><font color=\"black\"> times                    </font></mark><mark style=\"background-color: hsl(0, 75%, 98%); opacity:1.0;                     line-height:1.75\"><font color=\"black\"> has                    </font></mark><mark style=\"background-color: hsl(120, 75%, 87%); opacity:1.0;                     line-height:1.75\"><font color=\"black\"> the                    </font></mark><mark style=\"background-color: hsl(120, 75%, 98%); opacity:1.0;                     line-height:1.75\"><font color=\"black\"> south                    </font></mark><mark style=\"background-color: hsl(120, 75%, 98%); opacity:1.0;                     line-height:1.75\"><font color=\"black\"> florida/miami                    </font></mark><mark style=\"background-color: hsl(120, 75%, 89%); opacity:1.0;                     line-height:1.75\"><font color=\"black\"> area                    </font></mark><mark style=\"background-color: hsl(120, 75%, 97%); opacity:1.0;                     line-height:1.75\"><font color=\"black\"> hosted                    </font></mark><mark style=\"background-color: hsl(0, 75%, 100%); opacity:1.0;                     line-height:1.75\"><font color=\"black\"> the                    </font></mark><mark style=\"background-color: hsl(0, 75%, 91%); opacity:1.0;                     line-height:1.75\"><font color=\"black\"> super                    </font></mark><mark style=\"background-color: hsl(120, 75%, 99%); opacity:1.0;                     line-height:1.75\"><font color=\"black\"> bowl?                    </font></mark><mark style=\"background-color: hsl(0, 75%, 88%); opacity:1.0;                     line-height:1.75\"><font color=\"black\"> [SEP]                    </font></mark><mark style=\"background-color: hsl(120, 75%, 94%); opacity:1.0;                     line-height:1.75\"><font color=\"black\"> [SEP]                    </font></mark><mark style=\"background-color: hsl(0, 75%, 100%); opacity:1.0;                     line-height:1.75\"><font color=\"black\"> the                    </font></mark><mark style=\"background-color: hsl(0, 75%, 98%); opacity:1.0;                     line-height:1.75\"><font color=\"black\"> south                    </font></mark><mark style=\"background-color: hsl(0, 75%, 99%); opacity:1.0;                     line-height:1.75\"><font color=\"black\"> florida/miami                    </font></mark><mark style=\"background-color: hsl(120, 75%, 98%); opacity:1.0;                     line-height:1.75\"><font color=\"black\"> area                    </font></mark><mark style=\"background-color: hsl(120, 75%, 95%); opacity:1.0;                     line-height:1.75\"><font color=\"black\"> has                    </font></mark><mark style=\"background-color: hsl(120, 75%, 96%); opacity:1.0;                     line-height:1.75\"><font color=\"black\"> previously                    </font></mark><mark style=\"background-color: hsl(120, 75%, 95%); opacity:1.0;                     line-height:1.75\"><font color=\"black\"> hosted                    </font></mark><mark style=\"background-color: hsl(120, 75%, 98%); opacity:1.0;                     line-height:1.75\"><font color=\"black\"> the                    </font></mark><mark style=\"background-color: hsl(120, 75%, 91%); opacity:1.0;                     line-height:1.75\"><font color=\"black\"> event                    </font></mark><mark style=\"background-color: hsl(0, 75%, 98%); opacity:1.0;                     line-height:1.75\"><font color=\"black\"> 10                    </font></mark><mark style=\"background-color: hsl(0, 75%, 93%); opacity:1.0;                     line-height:1.75\"><font color=\"black\"> times                    </font></mark><mark style=\"background-color: hsl(0, 75%, 97%); opacity:1.0;                     line-height:1.75\"><font color=\"black\"> (tied                    </font></mark><mark style=\"background-color: hsl(0, 75%, 96%); opacity:1.0;                     line-height:1.75\"><font color=\"black\"> for                    </font></mark><mark style=\"background-color: hsl(0, 75%, 100%); opacity:1.0;                     line-height:1.75\"><font color=\"black\"> most                    </font></mark><mark style=\"background-color: hsl(0, 75%, 97%); opacity:1.0;                     line-height:1.75\"><font color=\"black\"> with                    </font></mark><mark style=\"background-color: hsl(120, 75%, 100%); opacity:1.0;                     line-height:1.75\"><font color=\"black\"> new                    </font></mark><mark style=\"background-color: hsl(0, 75%, 97%); opacity:1.0;                     line-height:1.75\"><font color=\"black\"> orleans),                    </font></mark><mark style=\"background-color: hsl(0, 75%, 99%); opacity:1.0;                     line-height:1.75\"><font color=\"black\"> with                    </font></mark><mark style=\"background-color: hsl(120, 75%, 98%); opacity:1.0;                     line-height:1.75\"><font color=\"black\"> the                    </font></mark><mark style=\"background-color: hsl(0, 75%, 97%); opacity:1.0;                     line-height:1.75\"><font color=\"black\"> most                    </font></mark><mark style=\"background-color: hsl(120, 75%, 98%); opacity:1.0;                     line-height:1.75\"><font color=\"black\"> recent                    </font></mark><mark style=\"background-color: hsl(0, 75%, 94%); opacity:1.0;                     line-height:1.75\"><font color=\"black\"> one                    </font></mark><mark style=\"background-color: hsl(120, 75%, 99%); opacity:1.0;                     line-height:1.75\"><font color=\"black\"> being                    </font></mark><mark style=\"background-color: hsl(120, 75%, 90%); opacity:1.0;                     line-height:1.75\"><font color=\"black\"> super                    </font></mark><mark style=\"background-color: hsl(0, 75%, 87%); opacity:1.0;                     line-height:1.75\"><font color=\"black\"> bowl                    </font></mark><mark style=\"background-color: hsl(0, 75%, 97%); opacity:1.0;                     line-height:1.75\"><font color=\"black\"> xliv                    </font></mark><mark style=\"background-color: hsl(120, 75%, 100%); opacity:1.0;                     line-height:1.75\"><font color=\"black\"> in                    </font></mark><mark style=\"background-color: hsl(0, 75%, 96%); opacity:1.0;                     line-height:1.75\"><font color=\"black\"> 2010.                    </font></mark><mark style=\"background-color: hsl(0, 75%, 100%); opacity:1.0;                     line-height:1.75\"><font color=\"black\"> [SEP]                    </font></mark></td><tr></table>"
      ],
      "text/plain": [
       "<IPython.core.display.HTML object>"
      ]
     },
     "metadata": {},
     "output_type": "display_data"
    },
    {
     "name": "stderr",
     "output_type": "stream",
     "text": [
      "/home/user/anaconda3/envs/metric/lib/python3.9/site-packages/captum/attr/_core/lime.py:1096: UserWarning: Attempting to construct interpretable model with > 10000 features.This can be very slow or lead to OOM issues. Please provide a featuremask which groups input features to reduce the number of interpretablefeatures. \n",
      "  warnings.warn(\n"
     ]
    },
    {
     "name": "stdout",
     "output_type": "stream",
     "text": [
      "<IPython.core.display.HTML object>\n",
      "Raw datum: ['What is different about Paulinella chromatophora?', 'It is not clear whether that symbiont is closely related to the ancestral chloroplast of other eukaryotes.']\n",
      "GT target: 0\n"
     ]
    },
    {
     "name": "stderr",
     "output_type": "stream",
     "text": [
      "Lime attribution: 100%|██████████████████████████████████████████████████████████████████████████████████████████████████████████| 5/5 [00:04<00:00,  1.16it/s]\n"
     ]
    },
    {
     "name": "stdout",
     "output_type": "stream",
     "text": [
      "word attr tensor([ 0.8163,  0.0733, -0.1345, -0.2100, -0.0997, -0.0385,  0.0148, -0.0098,\n",
      "         0.0378, -0.0728,  0.0353, -0.0265, -0.0511,  0.2773,  0.0317,  0.0654,\n",
      "         0.0365,  0.0669,  0.0843, -0.0907,  0.0547, -0.0226, -0.0768, -0.0589,\n",
      "         0.0556,  0.0915, -0.0039, -0.0458, -0.1355,  0.0375, -0.0588,  0.1413,\n",
      "         0.0307,  0.0175, -0.0853,  0.1127, -0.0186,  0.0997, -0.1159,  0.0864,\n",
      "        -0.0705,  0.0225,  0.0926,  0.0606], device='cuda:0')\n",
      "conti attr [tensor(0.8163, device='cuda:0'), tensor(0.0733, device='cuda:0'), tensor(-0.1345, device='cuda:0'), tensor(-0.2100, device='cuda:0'), tensor(-0.0997, device='cuda:0'), tensor(-0.0118, device='cuda:0'), tensor(-0.0315, device='cuda:0'), tensor(0.2773, device='cuda:0'), tensor(0.0317, device='cuda:0'), tensor(0.0654, device='cuda:0'), tensor(0.0365, device='cuda:0'), tensor(0.0669, device='cuda:0'), tensor(0.0843, device='cuda:0'), tensor(-0.0907, device='cuda:0'), tensor(0.0547, device='cuda:0'), tensor(0.0006, device='cuda:0'), tensor(0.0915, device='cuda:0'), tensor(-0.0039, device='cuda:0'), tensor(-0.0458, device='cuda:0'), tensor(-0.1355, device='cuda:0'), tensor(0.0375, device='cuda:0'), tensor(-0.0588, device='cuda:0'), tensor(0.0480, device='cuda:0'), tensor(-0.0186, device='cuda:0'), tensor(0.0997, device='cuda:0'), tensor(0.0413, device='cuda:0'), tensor(0.0606, device='cuda:0')]\n",
      "detokenized ['[CLS]', 'what', 'is', 'different', 'about', 'pauline', 'lla', 'ch', 'rom', 'ato', 'ph', 'ora', '?', '[SEP]', '[SEP]', 'it', 'is', 'not', 'clear', 'whether', 'that', 'sy', 'mb', 'ion', 't', 'is', 'closely', 'related', 'to', 'the', 'ancestral', 'ch', 'lor', 'op', 'las', 't', 'of', 'other', 'eu', 'kar', 'yo', 'tes', '.', '[SEP]']\n",
      "len conti_raw 27\n",
      "conti_raw ['[CLS]', 'what', 'is', 'different', 'about', 'paulinella', 'chromatophora?', '[SEP]', '[SEP]', 'it', 'is', 'not', 'clear', 'whether', 'that', 'symbiont', 'is', 'closely', 'related', 'to', 'the', 'ancestral', 'chloroplast', 'of', 'other', 'eukaryotes.', '[SEP]']\n",
      "pred_prob 0.5214384198188782\n"
     ]
    },
    {
     "data": {
      "text/html": [
       "<table width: 100%><div style=\"border-top: 1px solid; margin-top: 5px;             padding-top: 5px; display: inline-block\"><b>Legend: </b><span style=\"display: inline-block; width: 10px; height: 10px;                 border: 1px solid; background-color:                 hsl(0, 75%, 60%)\"></span> Negative  <span style=\"display: inline-block; width: 10px; height: 10px;                 border: 1px solid; background-color:                 hsl(0, 75%, 100%)\"></span> Neutral  <span style=\"display: inline-block; width: 10px; height: 10px;                 border: 1px solid; background-color:                 hsl(120, 75%, 50%)\"></span> Positive  </div><tr><th>True Label</th><th>Predicted Label</th><th>Attribution Label</th><th>Attribution Score</th><th>Word Importance</th><tr><td><text style=\"padding-right:2em\"><b>No Entailment</b></text></td><td><text style=\"padding-right:2em\"><b>Entailment (0.52)</b></text></td><td><text style=\"padding-right:2em\"><b>Entailment</b></text></td><td><text style=\"padding-right:2em\"><b>1.02</b></text></td><td><mark style=\"background-color: hsl(120, 75%, 60%); opacity:1.0;                     line-height:1.75\"><font color=\"black\"> [CLS]                    </font></mark><mark style=\"background-color: hsl(120, 75%, 97%); opacity:1.0;                     line-height:1.75\"><font color=\"black\"> what                    </font></mark><mark style=\"background-color: hsl(0, 75%, 95%); opacity:1.0;                     line-height:1.75\"><font color=\"black\"> is                    </font></mark><mark style=\"background-color: hsl(0, 75%, 92%); opacity:1.0;                     line-height:1.75\"><font color=\"black\"> different                    </font></mark><mark style=\"background-color: hsl(0, 75%, 97%); opacity:1.0;                     line-height:1.75\"><font color=\"black\"> about                    </font></mark><mark style=\"background-color: hsl(0, 75%, 100%); opacity:1.0;                     line-height:1.75\"><font color=\"black\"> paulinella                    </font></mark><mark style=\"background-color: hsl(0, 75%, 99%); opacity:1.0;                     line-height:1.75\"><font color=\"black\"> chromatophora?                    </font></mark><mark style=\"background-color: hsl(120, 75%, 87%); opacity:1.0;                     line-height:1.75\"><font color=\"black\"> [SEP]                    </font></mark><mark style=\"background-color: hsl(120, 75%, 99%); opacity:1.0;                     line-height:1.75\"><font color=\"black\"> [SEP]                    </font></mark><mark style=\"background-color: hsl(120, 75%, 97%); opacity:1.0;                     line-height:1.75\"><font color=\"black\"> it                    </font></mark><mark style=\"background-color: hsl(120, 75%, 99%); opacity:1.0;                     line-height:1.75\"><font color=\"black\"> is                    </font></mark><mark style=\"background-color: hsl(120, 75%, 97%); opacity:1.0;                     line-height:1.75\"><font color=\"black\"> not                    </font></mark><mark style=\"background-color: hsl(120, 75%, 96%); opacity:1.0;                     line-height:1.75\"><font color=\"black\"> clear                    </font></mark><mark style=\"background-color: hsl(0, 75%, 97%); opacity:1.0;                     line-height:1.75\"><font color=\"black\"> whether                    </font></mark><mark style=\"background-color: hsl(120, 75%, 98%); opacity:1.0;                     line-height:1.75\"><font color=\"black\"> that                    </font></mark><mark style=\"background-color: hsl(120, 75%, 100%); opacity:1.0;                     line-height:1.75\"><font color=\"black\"> symbiont                    </font></mark><mark style=\"background-color: hsl(120, 75%, 96%); opacity:1.0;                     line-height:1.75\"><font color=\"black\"> is                    </font></mark><mark style=\"background-color: hsl(0, 75%, 100%); opacity:1.0;                     line-height:1.75\"><font color=\"black\"> closely                    </font></mark><mark style=\"background-color: hsl(0, 75%, 99%); opacity:1.0;                     line-height:1.75\"><font color=\"black\"> related                    </font></mark><mark style=\"background-color: hsl(0, 75%, 95%); opacity:1.0;                     line-height:1.75\"><font color=\"black\"> to                    </font></mark><mark style=\"background-color: hsl(120, 75%, 99%); opacity:1.0;                     line-height:1.75\"><font color=\"black\"> the                    </font></mark><mark style=\"background-color: hsl(0, 75%, 98%); opacity:1.0;                     line-height:1.75\"><font color=\"black\"> ancestral                    </font></mark><mark style=\"background-color: hsl(120, 75%, 98%); opacity:1.0;                     line-height:1.75\"><font color=\"black\"> chloroplast                    </font></mark><mark style=\"background-color: hsl(0, 75%, 100%); opacity:1.0;                     line-height:1.75\"><font color=\"black\"> of                    </font></mark><mark style=\"background-color: hsl(120, 75%, 96%); opacity:1.0;                     line-height:1.75\"><font color=\"black\"> other                    </font></mark><mark style=\"background-color: hsl(120, 75%, 98%); opacity:1.0;                     line-height:1.75\"><font color=\"black\"> eukaryotes.                    </font></mark><mark style=\"background-color: hsl(120, 75%, 97%); opacity:1.0;                     line-height:1.75\"><font color=\"black\"> [SEP]                    </font></mark></td><tr></table>"
      ],
      "text/plain": [
       "<IPython.core.display.HTML object>"
      ]
     },
     "metadata": {},
     "output_type": "display_data"
    },
    {
     "name": "stderr",
     "output_type": "stream",
     "text": [
      "/home/user/anaconda3/envs/metric/lib/python3.9/site-packages/captum/attr/_core/lime.py:1096: UserWarning: Attempting to construct interpretable model with > 10000 features.This can be very slow or lead to OOM issues. Please provide a featuremask which groups input features to reduce the number of interpretablefeatures. \n",
      "  warnings.warn(\n"
     ]
    },
    {
     "name": "stdout",
     "output_type": "stream",
     "text": [
      "<IPython.core.display.HTML object>\n",
      "Raw datum: [\"Who played Doctor Who on stage in the 70's?\", 'Doctor Who has appeared on stage numerous times.']\n",
      "GT target: 0\n"
     ]
    },
    {
     "name": "stderr",
     "output_type": "stream",
     "text": [
      "Lime attribution: 100%|██████████████████████████████████████████████████████████████████████████████████████████████████████████| 5/5 [00:03<00:00,  1.53it/s]\n"
     ]
    },
    {
     "name": "stdout",
     "output_type": "stream",
     "text": [
      "word attr tensor([-0.3426,  0.1590, -0.1520,  0.3511, -0.0478, -0.0199,  0.0854,  0.0242,\n",
      "         0.0381,  0.2862, -0.0601, -0.0617,  0.2025, -0.2681, -0.0414,  0.4497,\n",
      "        -0.2857,  0.0942,  0.2500,  0.1773,  0.0178, -0.1808, -0.2002, -0.0033,\n",
      "         0.1878], device='cuda:0')\n",
      "conti attr [tensor(-0.3426, device='cuda:0'), tensor(0.1590, device='cuda:0'), tensor(-0.1520, device='cuda:0'), tensor(0.3511, device='cuda:0'), tensor(-0.0478, device='cuda:0'), tensor(-0.0199, device='cuda:0'), tensor(0.0854, device='cuda:0'), tensor(0.0242, device='cuda:0'), tensor(0.0381, device='cuda:0'), tensor(0.1141, device='cuda:0'), tensor(-0.2681, device='cuda:0'), tensor(-0.0414, device='cuda:0'), tensor(0.4497, device='cuda:0'), tensor(-0.2857, device='cuda:0'), tensor(0.0942, device='cuda:0'), tensor(0.2500, device='cuda:0'), tensor(0.1773, device='cuda:0'), tensor(0.0178, device='cuda:0'), tensor(-0.1808, device='cuda:0'), tensor(-0.1018, device='cuda:0'), tensor(0.1878, device='cuda:0')]\n",
      "detokenized ['[CLS]', 'who', 'played', 'doctor', 'who', 'on', 'stage', 'in', 'the', '70', \"'\", 's', '?', '[SEP]', '[SEP]', 'doctor', 'who', 'has', 'appeared', 'on', 'stage', 'numerous', 'times', '.', '[SEP]']\n",
      "len conti_raw 21\n",
      "conti_raw ['[CLS]', 'who', 'played', 'doctor', 'who', 'on', 'stage', 'in', 'the', \"70's?\", '[SEP]', '[SEP]', 'doctor', 'who', 'has', 'appeared', 'on', 'stage', 'numerous', 'times.', '[SEP]']\n",
      "pred_prob 0.8973642587661743\n"
     ]
    },
    {
     "data": {
      "text/html": [
       "<table width: 100%><div style=\"border-top: 1px solid; margin-top: 5px;             padding-top: 5px; display: inline-block\"><b>Legend: </b><span style=\"display: inline-block; width: 10px; height: 10px;                 border: 1px solid; background-color:                 hsl(0, 75%, 60%)\"></span> Negative  <span style=\"display: inline-block; width: 10px; height: 10px;                 border: 1px solid; background-color:                 hsl(0, 75%, 100%)\"></span> Neutral  <span style=\"display: inline-block; width: 10px; height: 10px;                 border: 1px solid; background-color:                 hsl(120, 75%, 50%)\"></span> Positive  </div><tr><th>True Label</th><th>Predicted Label</th><th>Attribution Label</th><th>Attribution Score</th><th>Word Importance</th><tr><td><text style=\"padding-right:2em\"><b>No Entailment</b></text></td><td><text style=\"padding-right:2em\"><b>Entailment (0.90)</b></text></td><td><text style=\"padding-right:2em\"><b>Entailment</b></text></td><td><text style=\"padding-right:2em\"><b>0.66</b></text></td><td><mark style=\"background-color: hsl(0, 75%, 87%); opacity:1.0;                     line-height:1.75\"><font color=\"black\"> [CLS]                    </font></mark><mark style=\"background-color: hsl(120, 75%, 93%); opacity:1.0;                     line-height:1.75\"><font color=\"black\"> who                    </font></mark><mark style=\"background-color: hsl(0, 75%, 94%); opacity:1.0;                     line-height:1.75\"><font color=\"black\"> played                    </font></mark><mark style=\"background-color: hsl(120, 75%, 83%); opacity:1.0;                     line-height:1.75\"><font color=\"black\"> doctor                    </font></mark><mark style=\"background-color: hsl(0, 75%, 99%); opacity:1.0;                     line-height:1.75\"><font color=\"black\"> who                    </font></mark><mark style=\"background-color: hsl(0, 75%, 100%); opacity:1.0;                     line-height:1.75\"><font color=\"black\"> on                    </font></mark><mark style=\"background-color: hsl(120, 75%, 96%); opacity:1.0;                     line-height:1.75\"><font color=\"black\"> stage                    </font></mark><mark style=\"background-color: hsl(120, 75%, 99%); opacity:1.0;                     line-height:1.75\"><font color=\"black\"> in                    </font></mark><mark style=\"background-color: hsl(120, 75%, 99%); opacity:1.0;                     line-height:1.75\"><font color=\"black\"> the                    </font></mark><mark style=\"background-color: hsl(120, 75%, 95%); opacity:1.0;                     line-height:1.75\"><font color=\"black\"> 70's?                    </font></mark><mark style=\"background-color: hsl(0, 75%, 90%); opacity:1.0;                     line-height:1.75\"><font color=\"black\"> [SEP]                    </font></mark><mark style=\"background-color: hsl(0, 75%, 99%); opacity:1.0;                     line-height:1.75\"><font color=\"black\"> [SEP]                    </font></mark><mark style=\"background-color: hsl(120, 75%, 78%); opacity:1.0;                     line-height:1.75\"><font color=\"black\"> doctor                    </font></mark><mark style=\"background-color: hsl(0, 75%, 89%); opacity:1.0;                     line-height:1.75\"><font color=\"black\"> who                    </font></mark><mark style=\"background-color: hsl(120, 75%, 96%); opacity:1.0;                     line-height:1.75\"><font color=\"black\"> has                    </font></mark><mark style=\"background-color: hsl(120, 75%, 88%); opacity:1.0;                     line-height:1.75\"><font color=\"black\"> appeared                    </font></mark><mark style=\"background-color: hsl(120, 75%, 92%); opacity:1.0;                     line-height:1.75\"><font color=\"black\"> on                    </font></mark><mark style=\"background-color: hsl(120, 75%, 100%); opacity:1.0;                     line-height:1.75\"><font color=\"black\"> stage                    </font></mark><mark style=\"background-color: hsl(0, 75%, 93%); opacity:1.0;                     line-height:1.75\"><font color=\"black\"> numerous                    </font></mark><mark style=\"background-color: hsl(0, 75%, 96%); opacity:1.0;                     line-height:1.75\"><font color=\"black\"> times.                    </font></mark><mark style=\"background-color: hsl(120, 75%, 91%); opacity:1.0;                     line-height:1.75\"><font color=\"black\"> [SEP]                    </font></mark></td><tr></table>"
      ],
      "text/plain": [
       "<IPython.core.display.HTML object>"
      ]
     },
     "metadata": {},
     "output_type": "display_data"
    },
    {
     "name": "stderr",
     "output_type": "stream",
     "text": [
      "/home/user/anaconda3/envs/metric/lib/python3.9/site-packages/captum/attr/_core/lime.py:1096: UserWarning: Attempting to construct interpretable model with > 10000 features.This can be very slow or lead to OOM issues. Please provide a featuremask which groups input features to reduce the number of interpretablefeatures. \n",
      "  warnings.warn(\n"
     ]
    },
    {
     "name": "stdout",
     "output_type": "stream",
     "text": [
      "<IPython.core.display.HTML object>\n",
      "Raw datum: ['Who do clinical pharmacists work with much of the time?', 'Clinical pharmacists often collaborate with physicians and other healthcare professionals to improve pharmaceutical care.']\n",
      "GT target: 1\n"
     ]
    },
    {
     "name": "stderr",
     "output_type": "stream",
     "text": [
      "Lime attribution: 100%|██████████████████████████████████████████████████████████████████████████████████████████████████████████| 5/5 [00:03<00:00,  1.28it/s]\n"
     ]
    },
    {
     "name": "stdout",
     "output_type": "stream",
     "text": [
      "word attr tensor([ 0.5315,  0.0957,  0.2160,  0.1580, -0.0811, -0.0094, -0.0295,  0.0917,\n",
      "        -0.0050,  0.1732, -0.0297, -0.0989, -0.1478, -0.1727, -0.0548, -0.0809,\n",
      "         0.2244, -0.0407,  0.1261,  0.2680,  0.1588,  0.0909,  0.0358,  0.0163,\n",
      "         0.0702, -0.1279,  0.0268,  0.1437,  0.3204,  0.0277, -0.0833,  0.0626,\n",
      "        -0.0355,  0.2731,  0.3087,  0.1273], device='cuda:0')\n",
      "conti attr [tensor(0.5315, device='cuda:0'), tensor(0.0957, device='cuda:0'), tensor(0.2160, device='cuda:0'), tensor(0.1580, device='cuda:0'), tensor(0.0272, device='cuda:0'), tensor(-0.0050, device='cuda:0'), tensor(0.1732, device='cuda:0'), tensor(-0.0297, device='cuda:0'), tensor(-0.0989, device='cuda:0'), tensor(-0.1478, device='cuda:0'), tensor(-0.1137, device='cuda:0'), tensor(-0.0809, device='cuda:0'), tensor(0.2244, device='cuda:0'), tensor(-0.0407, device='cuda:0'), tensor(0.1344, device='cuda:0'), tensor(0.0358, device='cuda:0'), tensor(0.0163, device='cuda:0'), tensor(0.0702, device='cuda:0'), tensor(-0.1279, device='cuda:0'), tensor(0.0268, device='cuda:0'), tensor(0.1437, device='cuda:0'), tensor(0.3204, device='cuda:0'), tensor(0.0277, device='cuda:0'), tensor(-0.0833, device='cuda:0'), tensor(0.0626, device='cuda:0'), tensor(-0.0355, device='cuda:0'), tensor(0.2909, device='cuda:0'), tensor(0.1273, device='cuda:0')]\n",
      "detokenized ['[CLS]', 'who', 'do', 'clinical', 'ph', 'arm', 'ac', 'ists', 'work', 'with', 'much', 'of', 'the', 'time', '?', '[SEP]', '[SEP]', 'clinical', 'ph', 'arm', 'ac', 'ists', 'often', 'collaborate', 'with', 'physicians', 'and', 'other', 'healthcare', 'professionals', 'to', 'improve', 'pharmaceutical', 'care', '.', '[SEP]']\n",
      "len conti_raw 28\n",
      "conti_raw ['[CLS]', 'who', 'do', 'clinical', 'pharmacists', 'work', 'with', 'much', 'of', 'the', 'time?', '[SEP]', '[SEP]', 'clinical', 'pharmacists', 'often', 'collaborate', 'with', 'physicians', 'and', 'other', 'healthcare', 'professionals', 'to', 'improve', 'pharmaceutical', 'care.', '[SEP]']\n",
      "pred_prob 0.8218711018562317\n"
     ]
    },
    {
     "data": {
      "text/html": [
       "<table width: 100%><div style=\"border-top: 1px solid; margin-top: 5px;             padding-top: 5px; display: inline-block\"><b>Legend: </b><span style=\"display: inline-block; width: 10px; height: 10px;                 border: 1px solid; background-color:                 hsl(0, 75%, 60%)\"></span> Negative  <span style=\"display: inline-block; width: 10px; height: 10px;                 border: 1px solid; background-color:                 hsl(0, 75%, 100%)\"></span> Neutral  <span style=\"display: inline-block; width: 10px; height: 10px;                 border: 1px solid; background-color:                 hsl(120, 75%, 50%)\"></span> Positive  </div><tr><th>True Label</th><th>Predicted Label</th><th>Attribution Label</th><th>Attribution Score</th><th>Word Importance</th><tr><td><text style=\"padding-right:2em\"><b>Entailment</b></text></td><td><text style=\"padding-right:2em\"><b>Entailment (0.82)</b></text></td><td><text style=\"padding-right:2em\"><b>Entailment</b></text></td><td><text style=\"padding-right:2em\"><b>2.55</b></text></td><td><mark style=\"background-color: hsl(120, 75%, 74%); opacity:1.0;                     line-height:1.75\"><font color=\"black\"> [CLS]                    </font></mark><mark style=\"background-color: hsl(120, 75%, 96%); opacity:1.0;                     line-height:1.75\"><font color=\"black\"> who                    </font></mark><mark style=\"background-color: hsl(120, 75%, 90%); opacity:1.0;                     line-height:1.75\"><font color=\"black\"> do                    </font></mark><mark style=\"background-color: hsl(120, 75%, 93%); opacity:1.0;                     line-height:1.75\"><font color=\"black\"> clinical                    </font></mark><mark style=\"background-color: hsl(120, 75%, 99%); opacity:1.0;                     line-height:1.75\"><font color=\"black\"> pharmacists                    </font></mark><mark style=\"background-color: hsl(0, 75%, 100%); opacity:1.0;                     line-height:1.75\"><font color=\"black\"> work                    </font></mark><mark style=\"background-color: hsl(120, 75%, 92%); opacity:1.0;                     line-height:1.75\"><font color=\"black\"> with                    </font></mark><mark style=\"background-color: hsl(0, 75%, 99%); opacity:1.0;                     line-height:1.75\"><font color=\"black\"> much                    </font></mark><mark style=\"background-color: hsl(0, 75%, 97%); opacity:1.0;                     line-height:1.75\"><font color=\"black\"> of                    </font></mark><mark style=\"background-color: hsl(0, 75%, 95%); opacity:1.0;                     line-height:1.75\"><font color=\"black\"> the                    </font></mark><mark style=\"background-color: hsl(0, 75%, 96%); opacity:1.0;                     line-height:1.75\"><font color=\"black\"> time?                    </font></mark><mark style=\"background-color: hsl(0, 75%, 97%); opacity:1.0;                     line-height:1.75\"><font color=\"black\"> [SEP]                    </font></mark><mark style=\"background-color: hsl(120, 75%, 89%); opacity:1.0;                     line-height:1.75\"><font color=\"black\"> [SEP]                    </font></mark><mark style=\"background-color: hsl(0, 75%, 99%); opacity:1.0;                     line-height:1.75\"><font color=\"black\"> clinical                    </font></mark><mark style=\"background-color: hsl(120, 75%, 94%); opacity:1.0;                     line-height:1.75\"><font color=\"black\"> pharmacists                    </font></mark><mark style=\"background-color: hsl(120, 75%, 99%); opacity:1.0;                     line-height:1.75\"><font color=\"black\"> often                    </font></mark><mark style=\"background-color: hsl(120, 75%, 100%); opacity:1.0;                     line-height:1.75\"><font color=\"black\"> collaborate                    </font></mark><mark style=\"background-color: hsl(120, 75%, 97%); opacity:1.0;                     line-height:1.75\"><font color=\"black\"> with                    </font></mark><mark style=\"background-color: hsl(0, 75%, 95%); opacity:1.0;                     line-height:1.75\"><font color=\"black\"> physicians                    </font></mark><mark style=\"background-color: hsl(120, 75%, 99%); opacity:1.0;                     line-height:1.75\"><font color=\"black\"> and                    </font></mark><mark style=\"background-color: hsl(120, 75%, 93%); opacity:1.0;                     line-height:1.75\"><font color=\"black\"> other                    </font></mark><mark style=\"background-color: hsl(120, 75%, 84%); opacity:1.0;                     line-height:1.75\"><font color=\"black\"> healthcare                    </font></mark><mark style=\"background-color: hsl(120, 75%, 99%); opacity:1.0;                     line-height:1.75\"><font color=\"black\"> professionals                    </font></mark><mark style=\"background-color: hsl(0, 75%, 97%); opacity:1.0;                     line-height:1.75\"><font color=\"black\"> to                    </font></mark><mark style=\"background-color: hsl(120, 75%, 97%); opacity:1.0;                     line-height:1.75\"><font color=\"black\"> improve                    </font></mark><mark style=\"background-color: hsl(0, 75%, 99%); opacity:1.0;                     line-height:1.75\"><font color=\"black\"> pharmaceutical                    </font></mark><mark style=\"background-color: hsl(120, 75%, 86%); opacity:1.0;                     line-height:1.75\"><font color=\"black\"> care.                    </font></mark><mark style=\"background-color: hsl(120, 75%, 94%); opacity:1.0;                     line-height:1.75\"><font color=\"black\"> [SEP]                    </font></mark></td><tr></table>"
      ],
      "text/plain": [
       "<IPython.core.display.HTML object>"
      ]
     },
     "metadata": {},
     "output_type": "display_data"
    },
    {
     "name": "stderr",
     "output_type": "stream",
     "text": [
      "/home/user/anaconda3/envs/metric/lib/python3.9/site-packages/captum/attr/_core/lime.py:1096: UserWarning: Attempting to construct interpretable model with > 10000 features.This can be very slow or lead to OOM issues. Please provide a featuremask which groups input features to reduce the number of interpretablefeatures. \n",
      "  warnings.warn(\n"
     ]
    },
    {
     "name": "stdout",
     "output_type": "stream",
     "text": [
      "<IPython.core.display.HTML object>\n",
      "Raw datum: ['In which county does Jacksonville reside?', 'It is the county seat of Duval County, with which the city government consolidated in 1968.']\n",
      "GT target: 1\n"
     ]
    },
    {
     "name": "stderr",
     "output_type": "stream",
     "text": [
      "Lime attribution: 100%|██████████████████████████████████████████████████████████████████████████████████████████████████████████| 5/5 [00:03<00:00,  1.50it/s]\n"
     ]
    },
    {
     "name": "stdout",
     "output_type": "stream",
     "text": [
      "word attr tensor([ 0.2248,  0.1749,  0.0681,  0.0819,  0.1555,  0.4048,  0.0377, -0.1238,\n",
      "        -0.1539, -0.0107, -0.0828, -0.1289,  0.2813, -0.0123,  0.2212, -0.0019,\n",
      "         0.5140,  0.2938, -0.0967, -0.0605, -0.0088,  0.1121,  0.0287, -0.1466,\n",
      "         0.0367, -0.1437, -0.1946,  0.1535, -0.2130], device='cuda:0')\n",
      "conti attr [tensor(0.2248, device='cuda:0'), tensor(0.1749, device='cuda:0'), tensor(0.0681, device='cuda:0'), tensor(0.0819, device='cuda:0'), tensor(0.1555, device='cuda:0'), tensor(0.4048, device='cuda:0'), tensor(-0.0431, device='cuda:0'), tensor(-0.1539, device='cuda:0'), tensor(-0.0107, device='cuda:0'), tensor(-0.0828, device='cuda:0'), tensor(-0.1289, device='cuda:0'), tensor(0.2813, device='cuda:0'), tensor(-0.0123, device='cuda:0'), tensor(0.2212, device='cuda:0'), tensor(-0.0019, device='cuda:0'), tensor(0.5140, device='cuda:0'), tensor(0.0986, device='cuda:0'), tensor(-0.0605, device='cuda:0'), tensor(-0.0088, device='cuda:0'), tensor(0.1121, device='cuda:0'), tensor(0.0287, device='cuda:0'), tensor(-0.1466, device='cuda:0'), tensor(0.0367, device='cuda:0'), tensor(-0.1437, device='cuda:0'), tensor(-0.0206, device='cuda:0'), tensor(-0.2130, device='cuda:0')]\n",
      "detokenized ['[CLS]', 'in', 'which', 'county', 'does', 'jacksonville', 'reside', '?', '[SEP]', '[SEP]', 'it', 'is', 'the', 'county', 'seat', 'of', 'duval', 'county', ',', 'with', 'which', 'the', 'city', 'government', 'consolidated', 'in', '1968', '.', '[SEP]']\n",
      "len conti_raw 26\n",
      "conti_raw ['[CLS]', 'in', 'which', 'county', 'does', 'jacksonville', 'reside?', '[SEP]', '[SEP]', 'it', 'is', 'the', 'county', 'seat', 'of', 'duval', 'county,', 'with', 'which', 'the', 'city', 'government', 'consolidated', 'in', '1968.', '[SEP]']\n",
      "pred_prob 0.8931249976158142\n"
     ]
    },
    {
     "data": {
      "text/html": [
       "<table width: 100%><div style=\"border-top: 1px solid; margin-top: 5px;             padding-top: 5px; display: inline-block\"><b>Legend: </b><span style=\"display: inline-block; width: 10px; height: 10px;                 border: 1px solid; background-color:                 hsl(0, 75%, 60%)\"></span> Negative  <span style=\"display: inline-block; width: 10px; height: 10px;                 border: 1px solid; background-color:                 hsl(0, 75%, 100%)\"></span> Neutral  <span style=\"display: inline-block; width: 10px; height: 10px;                 border: 1px solid; background-color:                 hsl(120, 75%, 50%)\"></span> Positive  </div><tr><th>True Label</th><th>Predicted Label</th><th>Attribution Label</th><th>Attribution Score</th><th>Word Importance</th><tr><td><text style=\"padding-right:2em\"><b>Entailment</b></text></td><td><text style=\"padding-right:2em\"><b>Entailment (0.89)</b></text></td><td><text style=\"padding-right:2em\"><b>Entailment</b></text></td><td><text style=\"padding-right:2em\"><b>1.41</b></text></td><td><mark style=\"background-color: hsl(120, 75%, 89%); opacity:1.0;                     line-height:1.75\"><font color=\"black\"> [CLS]                    </font></mark><mark style=\"background-color: hsl(120, 75%, 92%); opacity:1.0;                     line-height:1.75\"><font color=\"black\"> in                    </font></mark><mark style=\"background-color: hsl(120, 75%, 97%); opacity:1.0;                     line-height:1.75\"><font color=\"black\"> which                    </font></mark><mark style=\"background-color: hsl(120, 75%, 96%); opacity:1.0;                     line-height:1.75\"><font color=\"black\"> county                    </font></mark><mark style=\"background-color: hsl(120, 75%, 93%); opacity:1.0;                     line-height:1.75\"><font color=\"black\"> does                    </font></mark><mark style=\"background-color: hsl(120, 75%, 80%); opacity:1.0;                     line-height:1.75\"><font color=\"black\"> jacksonville                    </font></mark><mark style=\"background-color: hsl(0, 75%, 99%); opacity:1.0;                     line-height:1.75\"><font color=\"black\"> reside?                    </font></mark><mark style=\"background-color: hsl(0, 75%, 94%); opacity:1.0;                     line-height:1.75\"><font color=\"black\"> [SEP]                    </font></mark><mark style=\"background-color: hsl(0, 75%, 100%); opacity:1.0;                     line-height:1.75\"><font color=\"black\"> [SEP]                    </font></mark><mark style=\"background-color: hsl(0, 75%, 97%); opacity:1.0;                     line-height:1.75\"><font color=\"black\"> it                    </font></mark><mark style=\"background-color: hsl(0, 75%, 95%); opacity:1.0;                     line-height:1.75\"><font color=\"black\"> is                    </font></mark><mark style=\"background-color: hsl(120, 75%, 86%); opacity:1.0;                     line-height:1.75\"><font color=\"black\"> the                    </font></mark><mark style=\"background-color: hsl(0, 75%, 100%); opacity:1.0;                     line-height:1.75\"><font color=\"black\"> county                    </font></mark><mark style=\"background-color: hsl(120, 75%, 89%); opacity:1.0;                     line-height:1.75\"><font color=\"black\"> seat                    </font></mark><mark style=\"background-color: hsl(0, 75%, 100%); opacity:1.0;                     line-height:1.75\"><font color=\"black\"> of                    </font></mark><mark style=\"background-color: hsl(120, 75%, 75%); opacity:1.0;                     line-height:1.75\"><font color=\"black\"> duval                    </font></mark><mark style=\"background-color: hsl(120, 75%, 96%); opacity:1.0;                     line-height:1.75\"><font color=\"black\"> county,                    </font></mark><mark style=\"background-color: hsl(0, 75%, 98%); opacity:1.0;                     line-height:1.75\"><font color=\"black\"> with                    </font></mark><mark style=\"background-color: hsl(0, 75%, 100%); opacity:1.0;                     line-height:1.75\"><font color=\"black\"> which                    </font></mark><mark style=\"background-color: hsl(120, 75%, 95%); opacity:1.0;                     line-height:1.75\"><font color=\"black\"> the                    </font></mark><mark style=\"background-color: hsl(120, 75%, 99%); opacity:1.0;                     line-height:1.75\"><font color=\"black\"> city                    </font></mark><mark style=\"background-color: hsl(0, 75%, 95%); opacity:1.0;                     line-height:1.75\"><font color=\"black\"> government                    </font></mark><mark style=\"background-color: hsl(120, 75%, 99%); opacity:1.0;                     line-height:1.75\"><font color=\"black\"> consolidated                    </font></mark><mark style=\"background-color: hsl(0, 75%, 95%); opacity:1.0;                     line-height:1.75\"><font color=\"black\"> in                    </font></mark><mark style=\"background-color: hsl(0, 75%, 100%); opacity:1.0;                     line-height:1.75\"><font color=\"black\"> 1968.                    </font></mark><mark style=\"background-color: hsl(0, 75%, 92%); opacity:1.0;                     line-height:1.75\"><font color=\"black\"> [SEP]                    </font></mark></td><tr></table>"
      ],
      "text/plain": [
       "<IPython.core.display.HTML object>"
      ]
     },
     "metadata": {},
     "output_type": "display_data"
    },
    {
     "name": "stderr",
     "output_type": "stream",
     "text": [
      "/home/user/anaconda3/envs/metric/lib/python3.9/site-packages/captum/attr/_core/lime.py:1096: UserWarning: Attempting to construct interpretable model with > 10000 features.This can be very slow or lead to OOM issues. Please provide a featuremask which groups input features to reduce the number of interpretablefeatures. \n",
      "  warnings.warn(\n"
     ]
    },
    {
     "name": "stdout",
     "output_type": "stream",
     "text": [
      "<IPython.core.display.HTML object>\n",
      "Raw datum: ['Who did Genghis Khan charge with finding and punishing the Shah?', 'Genghis Khan ordered the wholesale massacre of many of the civilians, enslaved the rest of the population and executed Inalchuq by pouring molten silver into his ears and eyes, as retribution for his actions.']\n",
      "GT target: 0\n"
     ]
    },
    {
     "name": "stderr",
     "output_type": "stream",
     "text": [
      "Lime attribution: 100%|██████████████████████████████████████████████████████████████████████████████████████████████████████████| 5/5 [00:06<00:00,  1.25s/it]\n"
     ]
    },
    {
     "name": "stdout",
     "output_type": "stream",
     "text": [
      "word attr tensor([ 0.5957, -0.0606, -0.2543, -0.1492, -0.0854,  0.0631,  0.1325,  0.1429,\n",
      "        -0.0223, -0.0177, -0.0748,  0.0674,  0.1663, -0.0343,  0.0088, -0.0227,\n",
      "         0.1151, -0.2140, -0.0059,  0.0328,  0.1243,  0.0676,  0.1054, -0.1460,\n",
      "        -0.0843, -0.0451,  0.0801, -0.0861, -0.0302,  0.0138, -0.0021,  0.0365,\n",
      "         0.0662,  0.0394, -0.1192,  0.0861, -0.0705,  0.0757,  0.1073,  0.1628,\n",
      "        -0.0500, -0.2225, -0.1362,  0.0126, -0.0247,  0.1865,  0.1454, -0.1388,\n",
      "        -0.0208, -0.1205,  0.0492, -0.0540, -0.0185, -0.0216, -0.0990,  0.0703,\n",
      "        -0.0620,  0.1526, -0.1802,  0.0648, -0.0667], device='cuda:0')\n",
      "conti attr [tensor(0.5957, device='cuda:0'), tensor(-0.0606, device='cuda:0'), tensor(-0.2543, device='cuda:0'), tensor(-0.0271, device='cuda:0'), tensor(0.1325, device='cuda:0'), tensor(0.1429, device='cuda:0'), tensor(-0.0223, device='cuda:0'), tensor(-0.0177, device='cuda:0'), tensor(-0.0748, device='cuda:0'), tensor(0.1168, device='cuda:0'), tensor(-0.0343, device='cuda:0'), tensor(-0.0069, device='cuda:0'), tensor(0.1151, device='cuda:0'), tensor(-0.2140, device='cuda:0'), tensor(0.0689, device='cuda:0'), tensor(0.0676, device='cuda:0'), tensor(0.1054, device='cuda:0'), tensor(-0.1460, device='cuda:0'), tensor(-0.0843, device='cuda:0'), tensor(-0.0451, device='cuda:0'), tensor(0.0801, device='cuda:0'), tensor(-0.0861, device='cuda:0'), tensor(-0.0302, device='cuda:0'), tensor(0.0138, device='cuda:0'), tensor(0.0172, device='cuda:0'), tensor(0.0662, device='cuda:0'), tensor(0.0394, device='cuda:0'), tensor(-0.1192, device='cuda:0'), tensor(0.0861, device='cuda:0'), tensor(-0.0705, device='cuda:0'), tensor(0.0757, device='cuda:0'), tensor(0.1073, device='cuda:0'), tensor(0.1628, device='cuda:0'), tensor(-0.0618, device='cuda:0'), tensor(-0.0247, device='cuda:0'), tensor(0.1865, device='cuda:0'), tensor(0.1454, device='cuda:0'), tensor(-0.1388, device='cuda:0'), tensor(-0.0208, device='cuda:0'), tensor(-0.1205, device='cuda:0'), tensor(0.0492, device='cuda:0'), tensor(-0.0540, device='cuda:0'), tensor(-0.0200, device='cuda:0'), tensor(-0.0990, device='cuda:0'), tensor(0.0703, device='cuda:0'), tensor(-0.0620, device='cuda:0'), tensor(0.1526, device='cuda:0'), tensor(-0.0577, device='cuda:0'), tensor(-0.0667, device='cuda:0')]\n",
      "detokenized ['[CLS]', 'who', 'did', 'gen', 'ghi', 's', 'khan', 'charge', 'with', 'finding', 'and', 'punish', 'ing', 'the', 'shah', '?', '[SEP]', '[SEP]', 'gen', 'ghi', 's', 'khan', 'ordered', 'the', 'wholesale', 'massacre', 'of', 'many', 'of', 'the', 'civilians', ',', 'enslaved', 'the', 'rest', 'of', 'the', 'population', 'and', 'executed', 'ina', 'lch', 'u', 'q', 'by', 'pouring', 'molten', 'silver', 'into', 'his', 'ears', 'and', 'eyes', ',', 'as', 'retribution', 'for', 'his', 'actions', '.', '[SEP]']\n",
      "len conti_raw 49\n",
      "conti_raw ['[CLS]', 'who', 'did', 'genghis', 'khan', 'charge', 'with', 'finding', 'and', 'punishing', 'the', 'shah?', '[SEP]', '[SEP]', 'genghis', 'khan', 'ordered', 'the', 'wholesale', 'massacre', 'of', 'many', 'of', 'the', 'civilians,', 'enslaved', 'the', 'rest', 'of', 'the', 'population', 'and', 'executed', 'inalchuq', 'by', 'pouring', 'molten', 'silver', 'into', 'his', 'ears', 'and', 'eyes,', 'as', 'retribution', 'for', 'his', 'actions.', '[SEP]']\n",
      "pred_prob 0.7466775178909302\n"
     ]
    },
    {
     "data": {
      "text/html": [
       "<table width: 100%><div style=\"border-top: 1px solid; margin-top: 5px;             padding-top: 5px; display: inline-block\"><b>Legend: </b><span style=\"display: inline-block; width: 10px; height: 10px;                 border: 1px solid; background-color:                 hsl(0, 75%, 60%)\"></span> Negative  <span style=\"display: inline-block; width: 10px; height: 10px;                 border: 1px solid; background-color:                 hsl(0, 75%, 100%)\"></span> Neutral  <span style=\"display: inline-block; width: 10px; height: 10px;                 border: 1px solid; background-color:                 hsl(120, 75%, 50%)\"></span> Positive  </div><tr><th>True Label</th><th>Predicted Label</th><th>Attribution Label</th><th>Attribution Score</th><th>Word Importance</th><tr><td><text style=\"padding-right:2em\"><b>No Entailment</b></text></td><td><text style=\"padding-right:2em\"><b>Entailment (0.75)</b></text></td><td><text style=\"padding-right:2em\"><b>No Entailment</b></text></td><td><text style=\"padding-right:2em\"><b>0.23</b></text></td><td><mark style=\"background-color: hsl(120, 75%, 71%); opacity:1.0;                     line-height:1.75\"><font color=\"black\"> [CLS]                    </font></mark><mark style=\"background-color: hsl(0, 75%, 98%); opacity:1.0;                     line-height:1.75\"><font color=\"black\"> who                    </font></mark><mark style=\"background-color: hsl(0, 75%, 90%); opacity:1.0;                     line-height:1.75\"><font color=\"black\"> did                    </font></mark><mark style=\"background-color: hsl(0, 75%, 99%); opacity:1.0;                     line-height:1.75\"><font color=\"black\"> genghis                    </font></mark><mark style=\"background-color: hsl(120, 75%, 94%); opacity:1.0;                     line-height:1.75\"><font color=\"black\"> khan                    </font></mark><mark style=\"background-color: hsl(120, 75%, 93%); opacity:1.0;                     line-height:1.75\"><font color=\"black\"> charge                    </font></mark><mark style=\"background-color: hsl(0, 75%, 100%); opacity:1.0;                     line-height:1.75\"><font color=\"black\"> with                    </font></mark><mark style=\"background-color: hsl(0, 75%, 100%); opacity:1.0;                     line-height:1.75\"><font color=\"black\"> finding                    </font></mark><mark style=\"background-color: hsl(0, 75%, 98%); opacity:1.0;                     line-height:1.75\"><font color=\"black\"> and                    </font></mark><mark style=\"background-color: hsl(120, 75%, 95%); opacity:1.0;                     line-height:1.75\"><font color=\"black\"> punishing                    </font></mark><mark style=\"background-color: hsl(0, 75%, 99%); opacity:1.0;                     line-height:1.75\"><font color=\"black\"> the                    </font></mark><mark style=\"background-color: hsl(0, 75%, 100%); opacity:1.0;                     line-height:1.75\"><font color=\"black\"> shah?                    </font></mark><mark style=\"background-color: hsl(120, 75%, 95%); opacity:1.0;                     line-height:1.75\"><font color=\"black\"> [SEP]                    </font></mark><mark style=\"background-color: hsl(0, 75%, 92%); opacity:1.0;                     line-height:1.75\"><font color=\"black\"> [SEP]                    </font></mark><mark style=\"background-color: hsl(120, 75%, 97%); opacity:1.0;                     line-height:1.75\"><font color=\"black\"> genghis                    </font></mark><mark style=\"background-color: hsl(120, 75%, 97%); opacity:1.0;                     line-height:1.75\"><font color=\"black\"> khan                    </font></mark><mark style=\"background-color: hsl(120, 75%, 95%); opacity:1.0;                     line-height:1.75\"><font color=\"black\"> ordered                    </font></mark><mark style=\"background-color: hsl(0, 75%, 95%); opacity:1.0;                     line-height:1.75\"><font color=\"black\"> the                    </font></mark><mark style=\"background-color: hsl(0, 75%, 97%); opacity:1.0;                     line-height:1.75\"><font color=\"black\"> wholesale                    </font></mark><mark style=\"background-color: hsl(0, 75%, 99%); opacity:1.0;                     line-height:1.75\"><font color=\"black\"> massacre                    </font></mark><mark style=\"background-color: hsl(120, 75%, 96%); opacity:1.0;                     line-height:1.75\"><font color=\"black\"> of                    </font></mark><mark style=\"background-color: hsl(0, 75%, 97%); opacity:1.0;                     line-height:1.75\"><font color=\"black\"> many                    </font></mark><mark style=\"background-color: hsl(0, 75%, 99%); opacity:1.0;                     line-height:1.75\"><font color=\"black\"> of                    </font></mark><mark style=\"background-color: hsl(120, 75%, 100%); opacity:1.0;                     line-height:1.75\"><font color=\"black\"> the                    </font></mark><mark style=\"background-color: hsl(120, 75%, 100%); opacity:1.0;                     line-height:1.75\"><font color=\"black\"> civilians,                    </font></mark><mark style=\"background-color: hsl(120, 75%, 97%); opacity:1.0;                     line-height:1.75\"><font color=\"black\"> enslaved                    </font></mark><mark style=\"background-color: hsl(120, 75%, 99%); opacity:1.0;                     line-height:1.75\"><font color=\"black\"> the                    </font></mark><mark style=\"background-color: hsl(0, 75%, 96%); opacity:1.0;                     line-height:1.75\"><font color=\"black\"> rest                    </font></mark><mark style=\"background-color: hsl(120, 75%, 96%); opacity:1.0;                     line-height:1.75\"><font color=\"black\"> of                    </font></mark><mark style=\"background-color: hsl(0, 75%, 98%); opacity:1.0;                     line-height:1.75\"><font color=\"black\"> the                    </font></mark><mark style=\"background-color: hsl(120, 75%, 97%); opacity:1.0;                     line-height:1.75\"><font color=\"black\"> population                    </font></mark><mark style=\"background-color: hsl(120, 75%, 95%); opacity:1.0;                     line-height:1.75\"><font color=\"black\"> and                    </font></mark><mark style=\"background-color: hsl(120, 75%, 92%); opacity:1.0;                     line-height:1.75\"><font color=\"black\"> executed                    </font></mark><mark style=\"background-color: hsl(0, 75%, 98%); opacity:1.0;                     line-height:1.75\"><font color=\"black\"> inalchuq                    </font></mark><mark style=\"background-color: hsl(0, 75%, 100%); opacity:1.0;                     line-height:1.75\"><font color=\"black\"> by                    </font></mark><mark style=\"background-color: hsl(120, 75%, 91%); opacity:1.0;                     line-height:1.75\"><font color=\"black\"> pouring                    </font></mark><mark style=\"background-color: hsl(120, 75%, 93%); opacity:1.0;                     line-height:1.75\"><font color=\"black\"> molten                    </font></mark><mark style=\"background-color: hsl(0, 75%, 95%); opacity:1.0;                     line-height:1.75\"><font color=\"black\"> silver                    </font></mark><mark style=\"background-color: hsl(0, 75%, 100%); opacity:1.0;                     line-height:1.75\"><font color=\"black\"> into                    </font></mark><mark style=\"background-color: hsl(0, 75%, 96%); opacity:1.0;                     line-height:1.75\"><font color=\"black\"> his                    </font></mark><mark style=\"background-color: hsl(120, 75%, 98%); opacity:1.0;                     line-height:1.75\"><font color=\"black\"> ears                    </font></mark><mark style=\"background-color: hsl(0, 75%, 98%); opacity:1.0;                     line-height:1.75\"><font color=\"black\"> and                    </font></mark><mark style=\"background-color: hsl(0, 75%, 100%); opacity:1.0;                     line-height:1.75\"><font color=\"black\"> eyes,                    </font></mark><mark style=\"background-color: hsl(0, 75%, 97%); opacity:1.0;                     line-height:1.75\"><font color=\"black\"> as                    </font></mark><mark style=\"background-color: hsl(120, 75%, 97%); opacity:1.0;                     line-height:1.75\"><font color=\"black\"> retribution                    </font></mark><mark style=\"background-color: hsl(0, 75%, 98%); opacity:1.0;                     line-height:1.75\"><font color=\"black\"> for                    </font></mark><mark style=\"background-color: hsl(120, 75%, 93%); opacity:1.0;                     line-height:1.75\"><font color=\"black\"> his                    </font></mark><mark style=\"background-color: hsl(0, 75%, 98%); opacity:1.0;                     line-height:1.75\"><font color=\"black\"> actions.                    </font></mark><mark style=\"background-color: hsl(0, 75%, 98%); opacity:1.0;                     line-height:1.75\"><font color=\"black\"> [SEP]                    </font></mark></td><tr></table>"
      ],
      "text/plain": [
       "<IPython.core.display.HTML object>"
      ]
     },
     "metadata": {},
     "output_type": "display_data"
    },
    {
     "name": "stderr",
     "output_type": "stream",
     "text": [
      "/home/user/anaconda3/envs/metric/lib/python3.9/site-packages/captum/attr/_core/lime.py:1096: UserWarning: Attempting to construct interpretable model with > 10000 features.This can be very slow or lead to OOM issues. Please provide a featuremask which groups input features to reduce the number of interpretablefeatures. \n",
      "  warnings.warn(\n"
     ]
    },
    {
     "name": "stdout",
     "output_type": "stream",
     "text": [
      "<IPython.core.display.HTML object>\n",
      "Raw datum: ['What entity enforces the Charter of Fundamental Rights of the European Union?', 'In effect, after the Lisbon Treaty, the Charter and the Convention now co-exist under European Union law, though the former is enforced by the European Court of Justice in relation to European Union measures, and the latter by the European Court of Human Rights in relation to measures by member states.']\n",
      "GT target: 1\n"
     ]
    },
    {
     "name": "stderr",
     "output_type": "stream",
     "text": [
      "Lime attribution: 100%|██████████████████████████████████████████████████████████████████████████████████████████████████████████| 5/5 [00:05<00:00,  1.19s/it]\n"
     ]
    },
    {
     "name": "stdout",
     "output_type": "stream",
     "text": [
      "word attr tensor([ 0.6737, -0.0887,  0.0205, -0.0142, -0.0337, -0.0892,  0.0226, -0.0702,\n",
      "        -0.2037, -0.0985, -0.1400, -0.0246, -0.1189, -0.1294,  0.0043, -0.0669,\n",
      "        -0.0491, -0.0988, -0.0373,  0.0968, -0.0715,  0.0799,  0.0159, -0.0109,\n",
      "        -0.1654,  0.0103,  0.1326,  0.0373, -0.1031,  0.0334, -0.0647, -0.0512,\n",
      "        -0.1048,  0.0090, -0.0147, -0.0272,  0.0274, -0.0900,  0.0292,  0.0034,\n",
      "         0.0212, -0.0960, -0.0461, -0.0101,  0.0866,  0.0165,  0.0509,  0.1253,\n",
      "        -0.1251, -0.1041, -0.0528,  0.1241, -0.0210, -0.0670, -0.0693,  0.0614,\n",
      "        -0.0759,  0.0945,  0.0175,  0.1103,  0.1015,  0.0134,  0.1469,  0.0479,\n",
      "        -0.0114, -0.1029,  0.0537,  0.1025,  0.0656, -0.1318, -0.1257, -0.1004,\n",
      "         0.0520, -0.1030,  0.2238,  0.0453], device='cuda:0')\n",
      "conti attr [tensor(0.6737, device='cuda:0'), tensor(-0.0887, device='cuda:0'), tensor(0.0205, device='cuda:0'), tensor(-0.0240, device='cuda:0'), tensor(-0.0892, device='cuda:0'), tensor(0.0226, device='cuda:0'), tensor(-0.0702, device='cuda:0'), tensor(-0.2037, device='cuda:0'), tensor(-0.0985, device='cuda:0'), tensor(-0.1400, device='cuda:0'), tensor(-0.0246, device='cuda:0'), tensor(-0.1189, device='cuda:0'), tensor(-0.0625, device='cuda:0'), tensor(-0.0669, device='cuda:0'), tensor(-0.0491, device='cuda:0'), tensor(-0.0988, device='cuda:0'), tensor(0.0298, device='cuda:0'), tensor(-0.0715, device='cuda:0'), tensor(0.0799, device='cuda:0'), tensor(0.0159, device='cuda:0'), tensor(-0.0882, device='cuda:0'), tensor(0.0103, device='cuda:0'), tensor(0.1326, device='cuda:0'), tensor(0.0373, device='cuda:0'), tensor(-0.1031, device='cuda:0'), tensor(0.0334, device='cuda:0'), tensor(-0.0647, device='cuda:0'), tensor(-0.0345, device='cuda:0'), tensor(-0.0147, device='cuda:0'), tensor(-0.0272, device='cuda:0'), tensor(0.0274, device='cuda:0'), tensor(-0.0304, device='cuda:0'), tensor(0.0034, device='cuda:0'), tensor(0.0212, device='cuda:0'), tensor(-0.0960, device='cuda:0'), tensor(-0.0461, device='cuda:0'), tensor(-0.0101, device='cuda:0'), tensor(0.0866, device='cuda:0'), tensor(0.0165, device='cuda:0'), tensor(0.0509, device='cuda:0'), tensor(0.1253, device='cuda:0'), tensor(-0.1251, device='cuda:0'), tensor(-0.1041, device='cuda:0'), tensor(-0.0528, device='cuda:0'), tensor(0.1241, device='cuda:0'), tensor(-0.0210, device='cuda:0'), tensor(-0.0670, device='cuda:0'), tensor(-0.0693, device='cuda:0'), tensor(-0.0072, device='cuda:0'), tensor(0.0945, device='cuda:0'), tensor(0.0175, device='cuda:0'), tensor(0.1103, device='cuda:0'), tensor(0.1015, device='cuda:0'), tensor(0.0134, device='cuda:0'), tensor(0.1469, device='cuda:0'), tensor(0.0479, device='cuda:0'), tensor(-0.0114, device='cuda:0'), tensor(-0.1029, device='cuda:0'), tensor(0.0537, device='cuda:0'), tensor(0.1025, device='cuda:0'), tensor(0.0656, device='cuda:0'), tensor(-0.1318, device='cuda:0'), tensor(-0.1257, device='cuda:0'), tensor(-0.1004, device='cuda:0'), tensor(0.0520, device='cuda:0'), tensor(0.0604, device='cuda:0'), tensor(0.0453, device='cuda:0')]\n",
      "detokenized ['[CLS]', 'what', 'entity', 'enforce', 's', 'the', 'charter', 'of', 'fundamental', 'rights', 'of', 'the', 'european', 'union', '?', '[SEP]', '[SEP]', 'in', 'effect', ',', 'after', 'the', 'lisbon', 'treaty', ',', 'the', 'charter', 'and', 'the', 'convention', 'now', 'co', '-', 'exist', 'under', 'european', 'union', 'law', ',', 'though', 'the', 'former', 'is', 'enforced', 'by', 'the', 'european', 'court', 'of', 'justice', 'in', 'relation', 'to', 'european', 'union', 'measures', ',', 'and', 'the', 'latter', 'by', 'the', 'european', 'court', 'of', 'human', 'rights', 'in', 'relation', 'to', 'measures', 'by', 'member', 'states', '.', '[SEP]']\n",
      "len conti_raw 67\n",
      "conti_raw ['[CLS]', 'what', 'entity', 'enforces', 'the', 'charter', 'of', 'fundamental', 'rights', 'of', 'the', 'european', 'union?', '[SEP]', '[SEP]', 'in', 'effect,', 'after', 'the', 'lisbon', 'treaty,', 'the', 'charter', 'and', 'the', 'convention', 'now', 'co-exist', 'under', 'european', 'union', 'law,', 'though', 'the', 'former', 'is', 'enforced', 'by', 'the', 'european', 'court', 'of', 'justice', 'in', 'relation', 'to', 'european', 'union', 'measures,', 'and', 'the', 'latter', 'by', 'the', 'european', 'court', 'of', 'human', 'rights', 'in', 'relation', 'to', 'measures', 'by', 'member', 'states.', '[SEP]']\n",
      "pred_prob 0.3837520182132721\n"
     ]
    },
    {
     "data": {
      "text/html": [
       "<table width: 100%><div style=\"border-top: 1px solid; margin-top: 5px;             padding-top: 5px; display: inline-block\"><b>Legend: </b><span style=\"display: inline-block; width: 10px; height: 10px;                 border: 1px solid; background-color:                 hsl(0, 75%, 60%)\"></span> Negative  <span style=\"display: inline-block; width: 10px; height: 10px;                 border: 1px solid; background-color:                 hsl(0, 75%, 100%)\"></span> Neutral  <span style=\"display: inline-block; width: 10px; height: 10px;                 border: 1px solid; background-color:                 hsl(120, 75%, 50%)\"></span> Positive  </div><tr><th>True Label</th><th>Predicted Label</th><th>Attribution Label</th><th>Attribution Score</th><th>Word Importance</th><tr><td><text style=\"padding-right:2em\"><b>Entailment</b></text></td><td><text style=\"padding-right:2em\"><b>No Entailment (0.38)</b></text></td><td><text style=\"padding-right:2em\"><b>No Entailment</b></text></td><td><text style=\"padding-right:2em\"><b>-0.45</b></text></td><td><mark style=\"background-color: hsl(120, 75%, 67%); opacity:1.0;                     line-height:1.75\"><font color=\"black\"> [CLS]                    </font></mark><mark style=\"background-color: hsl(0, 75%, 97%); opacity:1.0;                     line-height:1.75\"><font color=\"black\"> what                    </font></mark><mark style=\"background-color: hsl(120, 75%, 99%); opacity:1.0;                     line-height:1.75\"><font color=\"black\"> entity                    </font></mark><mark style=\"background-color: hsl(0, 75%, 100%); opacity:1.0;                     line-height:1.75\"><font color=\"black\"> enforces                    </font></mark><mark style=\"background-color: hsl(0, 75%, 97%); opacity:1.0;                     line-height:1.75\"><font color=\"black\"> the                    </font></mark><mark style=\"background-color: hsl(120, 75%, 99%); opacity:1.0;                     line-height:1.75\"><font color=\"black\"> charter                    </font></mark><mark style=\"background-color: hsl(0, 75%, 98%); opacity:1.0;                     line-height:1.75\"><font color=\"black\"> of                    </font></mark><mark style=\"background-color: hsl(0, 75%, 92%); opacity:1.0;                     line-height:1.75\"><font color=\"black\"> fundamental                    </font></mark><mark style=\"background-color: hsl(0, 75%, 97%); opacity:1.0;                     line-height:1.75\"><font color=\"black\"> rights                    </font></mark><mark style=\"background-color: hsl(0, 75%, 95%); opacity:1.0;                     line-height:1.75\"><font color=\"black\"> of                    </font></mark><mark style=\"background-color: hsl(0, 75%, 100%); opacity:1.0;                     line-height:1.75\"><font color=\"black\"> the                    </font></mark><mark style=\"background-color: hsl(0, 75%, 96%); opacity:1.0;                     line-height:1.75\"><font color=\"black\"> european                    </font></mark><mark style=\"background-color: hsl(0, 75%, 98%); opacity:1.0;                     line-height:1.75\"><font color=\"black\"> union?                    </font></mark><mark style=\"background-color: hsl(0, 75%, 98%); opacity:1.0;                     line-height:1.75\"><font color=\"black\"> [SEP]                    </font></mark><mark style=\"background-color: hsl(0, 75%, 99%); opacity:1.0;                     line-height:1.75\"><font color=\"black\"> [SEP]                    </font></mark><mark style=\"background-color: hsl(0, 75%, 97%); opacity:1.0;                     line-height:1.75\"><font color=\"black\"> in                    </font></mark><mark style=\"background-color: hsl(120, 75%, 99%); opacity:1.0;                     line-height:1.75\"><font color=\"black\"> effect,                    </font></mark><mark style=\"background-color: hsl(0, 75%, 98%); opacity:1.0;                     line-height:1.75\"><font color=\"black\"> after                    </font></mark><mark style=\"background-color: hsl(120, 75%, 97%); opacity:1.0;                     line-height:1.75\"><font color=\"black\"> the                    </font></mark><mark style=\"background-color: hsl(120, 75%, 100%); opacity:1.0;                     line-height:1.75\"><font color=\"black\"> lisbon                    </font></mark><mark style=\"background-color: hsl(0, 75%, 97%); opacity:1.0;                     line-height:1.75\"><font color=\"black\"> treaty,                    </font></mark><mark style=\"background-color: hsl(120, 75%, 100%); opacity:1.0;                     line-height:1.75\"><font color=\"black\"> the                    </font></mark><mark style=\"background-color: hsl(120, 75%, 94%); opacity:1.0;                     line-height:1.75\"><font color=\"black\"> charter                    </font></mark><mark style=\"background-color: hsl(120, 75%, 99%); opacity:1.0;                     line-height:1.75\"><font color=\"black\"> and                    </font></mark><mark style=\"background-color: hsl(0, 75%, 96%); opacity:1.0;                     line-height:1.75\"><font color=\"black\"> the                    </font></mark><mark style=\"background-color: hsl(120, 75%, 99%); opacity:1.0;                     line-height:1.75\"><font color=\"black\"> convention                    </font></mark><mark style=\"background-color: hsl(0, 75%, 98%); opacity:1.0;                     line-height:1.75\"><font color=\"black\"> now                    </font></mark><mark style=\"background-color: hsl(0, 75%, 99%); opacity:1.0;                     line-height:1.75\"><font color=\"black\"> co-exist                    </font></mark><mark style=\"background-color: hsl(0, 75%, 100%); opacity:1.0;                     line-height:1.75\"><font color=\"black\"> under                    </font></mark><mark style=\"background-color: hsl(0, 75%, 99%); opacity:1.0;                     line-height:1.75\"><font color=\"black\"> european                    </font></mark><mark style=\"background-color: hsl(120, 75%, 99%); opacity:1.0;                     line-height:1.75\"><font color=\"black\"> union                    </font></mark><mark style=\"background-color: hsl(0, 75%, 99%); opacity:1.0;                     line-height:1.75\"><font color=\"black\"> law,                    </font></mark><mark style=\"background-color: hsl(120, 75%, 100%); opacity:1.0;                     line-height:1.75\"><font color=\"black\"> though                    </font></mark><mark style=\"background-color: hsl(120, 75%, 99%); opacity:1.0;                     line-height:1.75\"><font color=\"black\"> the                    </font></mark><mark style=\"background-color: hsl(0, 75%, 97%); opacity:1.0;                     line-height:1.75\"><font color=\"black\"> former                    </font></mark><mark style=\"background-color: hsl(0, 75%, 99%); opacity:1.0;                     line-height:1.75\"><font color=\"black\"> is                    </font></mark><mark style=\"background-color: hsl(0, 75%, 100%); opacity:1.0;                     line-height:1.75\"><font color=\"black\"> enforced                    </font></mark><mark style=\"background-color: hsl(120, 75%, 96%); opacity:1.0;                     line-height:1.75\"><font color=\"black\"> by                    </font></mark><mark style=\"background-color: hsl(120, 75%, 100%); opacity:1.0;                     line-height:1.75\"><font color=\"black\"> the                    </font></mark><mark style=\"background-color: hsl(120, 75%, 98%); opacity:1.0;                     line-height:1.75\"><font color=\"black\"> european                    </font></mark><mark style=\"background-color: hsl(120, 75%, 94%); opacity:1.0;                     line-height:1.75\"><font color=\"black\"> court                    </font></mark><mark style=\"background-color: hsl(0, 75%, 95%); opacity:1.0;                     line-height:1.75\"><font color=\"black\"> of                    </font></mark><mark style=\"background-color: hsl(0, 75%, 96%); opacity:1.0;                     line-height:1.75\"><font color=\"black\"> justice                    </font></mark><mark style=\"background-color: hsl(0, 75%, 98%); opacity:1.0;                     line-height:1.75\"><font color=\"black\"> in                    </font></mark><mark style=\"background-color: hsl(120, 75%, 94%); opacity:1.0;                     line-height:1.75\"><font color=\"black\"> relation                    </font></mark><mark style=\"background-color: hsl(0, 75%, 100%); opacity:1.0;                     line-height:1.75\"><font color=\"black\"> to                    </font></mark><mark style=\"background-color: hsl(0, 75%, 98%); opacity:1.0;                     line-height:1.75\"><font color=\"black\"> european                    </font></mark><mark style=\"background-color: hsl(0, 75%, 98%); opacity:1.0;                     line-height:1.75\"><font color=\"black\"> union                    </font></mark><mark style=\"background-color: hsl(0, 75%, 100%); opacity:1.0;                     line-height:1.75\"><font color=\"black\"> measures,                    </font></mark><mark style=\"background-color: hsl(120, 75%, 96%); opacity:1.0;                     line-height:1.75\"><font color=\"black\"> and                    </font></mark><mark style=\"background-color: hsl(120, 75%, 100%); opacity:1.0;                     line-height:1.75\"><font color=\"black\"> the                    </font></mark><mark style=\"background-color: hsl(120, 75%, 95%); opacity:1.0;                     line-height:1.75\"><font color=\"black\"> latter                    </font></mark><mark style=\"background-color: hsl(120, 75%, 95%); opacity:1.0;                     line-height:1.75\"><font color=\"black\"> by                    </font></mark><mark style=\"background-color: hsl(120, 75%, 100%); opacity:1.0;                     line-height:1.75\"><font color=\"black\"> the                    </font></mark><mark style=\"background-color: hsl(120, 75%, 93%); opacity:1.0;                     line-height:1.75\"><font color=\"black\"> european                    </font></mark><mark style=\"background-color: hsl(120, 75%, 98%); opacity:1.0;                     line-height:1.75\"><font color=\"black\"> court                    </font></mark><mark style=\"background-color: hsl(0, 75%, 100%); opacity:1.0;                     line-height:1.75\"><font color=\"black\"> of                    </font></mark><mark style=\"background-color: hsl(0, 75%, 96%); opacity:1.0;                     line-height:1.75\"><font color=\"black\"> human                    </font></mark><mark style=\"background-color: hsl(120, 75%, 98%); opacity:1.0;                     line-height:1.75\"><font color=\"black\"> rights                    </font></mark><mark style=\"background-color: hsl(120, 75%, 95%); opacity:1.0;                     line-height:1.75\"><font color=\"black\"> in                    </font></mark><mark style=\"background-color: hsl(120, 75%, 97%); opacity:1.0;                     line-height:1.75\"><font color=\"black\"> relation                    </font></mark><mark style=\"background-color: hsl(0, 75%, 95%); opacity:1.0;                     line-height:1.75\"><font color=\"black\"> to                    </font></mark><mark style=\"background-color: hsl(0, 75%, 95%); opacity:1.0;                     line-height:1.75\"><font color=\"black\"> measures                    </font></mark><mark style=\"background-color: hsl(0, 75%, 96%); opacity:1.0;                     line-height:1.75\"><font color=\"black\"> by                    </font></mark><mark style=\"background-color: hsl(120, 75%, 98%); opacity:1.0;                     line-height:1.75\"><font color=\"black\"> member                    </font></mark><mark style=\"background-color: hsl(120, 75%, 97%); opacity:1.0;                     line-height:1.75\"><font color=\"black\"> states.                    </font></mark><mark style=\"background-color: hsl(120, 75%, 98%); opacity:1.0;                     line-height:1.75\"><font color=\"black\"> [SEP]                    </font></mark></td><tr></table>"
      ],
      "text/plain": [
       "<IPython.core.display.HTML object>"
      ]
     },
     "metadata": {},
     "output_type": "display_data"
    },
    {
     "name": "stderr",
     "output_type": "stream",
     "text": [
      "/home/user/anaconda3/envs/metric/lib/python3.9/site-packages/captum/attr/_core/lime.py:1096: UserWarning: Attempting to construct interpretable model with > 10000 features.This can be very slow or lead to OOM issues. Please provide a featuremask which groups input features to reduce the number of interpretablefeatures. \n",
      "  warnings.warn(\n"
     ]
    },
    {
     "name": "stdout",
     "output_type": "stream",
     "text": [
      "<IPython.core.display.HTML object>\n",
      "Raw datum: [\"Most of the museum's collection had been returned by which year?\", 'Before the return of the collections after the war, the Britain Can Make It exhibition was held between September and November 1946, attracting nearly a million and a half visitors.']\n",
      "GT target: 0\n"
     ]
    },
    {
     "name": "stderr",
     "output_type": "stream",
     "text": [
      "Lime attribution: 100%|██████████████████████████████████████████████████████████████████████████████████████████████████████████| 5/5 [00:07<00:00,  1.53s/it]\n"
     ]
    },
    {
     "name": "stdout",
     "output_type": "stream",
     "text": [
      "word attr tensor([ 0.0216,  0.0596, -0.0378, -0.1737,  0.1957,  0.0006, -0.2033,  0.0878,\n",
      "         0.0905, -0.1542, -0.1849, -0.2213,  0.0243, -0.3593,  0.0871,  0.1201,\n",
      "        -0.0356, -0.0926, -0.0154,  0.0127, -0.1757,  0.2362,  0.0925,  0.2225,\n",
      "         0.2173,  0.2805,  0.0393, -0.0395,  0.0333, -0.0933,  0.0774,  0.0186,\n",
      "        -0.0518,  0.2700, -0.0700,  0.0009,  0.1449,  0.0476,  0.0022,  0.3046,\n",
      "        -0.0203, -0.1178, -0.0853, -0.1354, -0.1534, -0.0166, -0.0872, -0.0932,\n",
      "         0.0727,  0.1681,  0.0040], device='cuda:0')\n",
      "conti attr [tensor(0.0216, device='cuda:0'), tensor(0.0596, device='cuda:0'), tensor(-0.0378, device='cuda:0'), tensor(-0.1737, device='cuda:0'), tensor(-0.0526, device='cuda:0'), tensor(0.0878, device='cuda:0'), tensor(0.0905, device='cuda:0'), tensor(-0.1542, device='cuda:0'), tensor(-0.1849, device='cuda:0'), tensor(-0.2213, device='cuda:0'), tensor(0.0243, device='cuda:0'), tensor(-0.1361, device='cuda:0'), tensor(0.1201, device='cuda:0'), tensor(-0.0356, device='cuda:0'), tensor(-0.0926, device='cuda:0'), tensor(-0.0154, device='cuda:0'), tensor(0.0127, device='cuda:0'), tensor(-0.1757, device='cuda:0'), tensor(0.2362, device='cuda:0'), tensor(0.0925, device='cuda:0'), tensor(0.2225, device='cuda:0'), tensor(0.2173, device='cuda:0'), tensor(0.1599, device='cuda:0'), tensor(-0.0395, device='cuda:0'), tensor(0.0333, device='cuda:0'), tensor(-0.0933, device='cuda:0'), tensor(0.0774, device='cuda:0'), tensor(0.0186, device='cuda:0'), tensor(-0.0518, device='cuda:0'), tensor(0.2700, device='cuda:0'), tensor(-0.0700, device='cuda:0'), tensor(0.0009, device='cuda:0'), tensor(0.1449, device='cuda:0'), tensor(0.0476, device='cuda:0'), tensor(0.0022, device='cuda:0'), tensor(0.1422, device='cuda:0'), tensor(-0.1178, device='cuda:0'), tensor(-0.0853, device='cuda:0'), tensor(-0.1354, device='cuda:0'), tensor(-0.1534, device='cuda:0'), tensor(-0.0166, device='cuda:0'), tensor(-0.0872, device='cuda:0'), tensor(-0.0932, device='cuda:0'), tensor(0.1204, device='cuda:0'), tensor(0.0040, device='cuda:0')]\n",
      "detokenized ['[CLS]', 'most', 'of', 'the', 'museum', \"'\", 's', 'collection', 'had', 'been', 'returned', 'by', 'which', 'year', '?', '[SEP]', '[SEP]', 'before', 'the', 'return', 'of', 'the', 'collections', 'after', 'the', 'war', ',', 'the', 'britain', 'can', 'make', 'it', 'exhibition', 'was', 'held', 'between', 'september', 'and', 'november', '1946', ',', 'attracting', 'nearly', 'a', 'million', 'and', 'a', 'half', 'visitors', '.', '[SEP]']\n",
      "len conti_raw 45\n",
      "conti_raw ['[CLS]', 'most', 'of', 'the', \"museum's\", 'collection', 'had', 'been', 'returned', 'by', 'which', 'year?', '[SEP]', '[SEP]', 'before', 'the', 'return', 'of', 'the', 'collections', 'after', 'the', 'war,', 'the', 'britain', 'can', 'make', 'it', 'exhibition', 'was', 'held', 'between', 'september', 'and', 'november', '1946,', 'attracting', 'nearly', 'a', 'million', 'and', 'a', 'half', 'visitors.', '[SEP]']\n",
      "pred_prob 0.8580110669136047\n"
     ]
    },
    {
     "data": {
      "text/html": [
       "<table width: 100%><div style=\"border-top: 1px solid; margin-top: 5px;             padding-top: 5px; display: inline-block\"><b>Legend: </b><span style=\"display: inline-block; width: 10px; height: 10px;                 border: 1px solid; background-color:                 hsl(0, 75%, 60%)\"></span> Negative  <span style=\"display: inline-block; width: 10px; height: 10px;                 border: 1px solid; background-color:                 hsl(0, 75%, 100%)\"></span> Neutral  <span style=\"display: inline-block; width: 10px; height: 10px;                 border: 1px solid; background-color:                 hsl(120, 75%, 50%)\"></span> Positive  </div><tr><th>True Label</th><th>Predicted Label</th><th>Attribution Label</th><th>Attribution Score</th><th>Word Importance</th><tr><td><text style=\"padding-right:2em\"><b>No Entailment</b></text></td><td><text style=\"padding-right:2em\"><b>Entailment (0.86)</b></text></td><td><text style=\"padding-right:2em\"><b>No Entailment</b></text></td><td><text style=\"padding-right:2em\"><b>0.32</b></text></td><td><mark style=\"background-color: hsl(120, 75%, 99%); opacity:1.0;                     line-height:1.75\"><font color=\"black\"> [CLS]                    </font></mark><mark style=\"background-color: hsl(120, 75%, 98%); opacity:1.0;                     line-height:1.75\"><font color=\"black\"> most                    </font></mark><mark style=\"background-color: hsl(0, 75%, 99%); opacity:1.0;                     line-height:1.75\"><font color=\"black\"> of                    </font></mark><mark style=\"background-color: hsl(0, 75%, 94%); opacity:1.0;                     line-height:1.75\"><font color=\"black\"> the                    </font></mark><mark style=\"background-color: hsl(0, 75%, 98%); opacity:1.0;                     line-height:1.75\"><font color=\"black\"> museum's                    </font></mark><mark style=\"background-color: hsl(120, 75%, 96%); opacity:1.0;                     line-height:1.75\"><font color=\"black\"> collection                    </font></mark><mark style=\"background-color: hsl(120, 75%, 96%); opacity:1.0;                     line-height:1.75\"><font color=\"black\"> had                    </font></mark><mark style=\"background-color: hsl(0, 75%, 94%); opacity:1.0;                     line-height:1.75\"><font color=\"black\"> been                    </font></mark><mark style=\"background-color: hsl(0, 75%, 93%); opacity:1.0;                     line-height:1.75\"><font color=\"black\"> returned                    </font></mark><mark style=\"background-color: hsl(0, 75%, 92%); opacity:1.0;                     line-height:1.75\"><font color=\"black\"> by                    </font></mark><mark style=\"background-color: hsl(120, 75%, 99%); opacity:1.0;                     line-height:1.75\"><font color=\"black\"> which                    </font></mark><mark style=\"background-color: hsl(0, 75%, 95%); opacity:1.0;                     line-height:1.75\"><font color=\"black\"> year?                    </font></mark><mark style=\"background-color: hsl(120, 75%, 94%); opacity:1.0;                     line-height:1.75\"><font color=\"black\"> [SEP]                    </font></mark><mark style=\"background-color: hsl(0, 75%, 99%); opacity:1.0;                     line-height:1.75\"><font color=\"black\"> [SEP]                    </font></mark><mark style=\"background-color: hsl(0, 75%, 97%); opacity:1.0;                     line-height:1.75\"><font color=\"black\"> before                    </font></mark><mark style=\"background-color: hsl(0, 75%, 100%); opacity:1.0;                     line-height:1.75\"><font color=\"black\"> the                    </font></mark><mark style=\"background-color: hsl(120, 75%, 100%); opacity:1.0;                     line-height:1.75\"><font color=\"black\"> return                    </font></mark><mark style=\"background-color: hsl(0, 75%, 93%); opacity:1.0;                     line-height:1.75\"><font color=\"black\"> of                    </font></mark><mark style=\"background-color: hsl(120, 75%, 89%); opacity:1.0;                     line-height:1.75\"><font color=\"black\"> the                    </font></mark><mark style=\"background-color: hsl(120, 75%, 96%); opacity:1.0;                     line-height:1.75\"><font color=\"black\"> collections                    </font></mark><mark style=\"background-color: hsl(120, 75%, 89%); opacity:1.0;                     line-height:1.75\"><font color=\"black\"> after                    </font></mark><mark style=\"background-color: hsl(120, 75%, 90%); opacity:1.0;                     line-height:1.75\"><font color=\"black\"> the                    </font></mark><mark style=\"background-color: hsl(120, 75%, 93%); opacity:1.0;                     line-height:1.75\"><font color=\"black\"> war,                    </font></mark><mark style=\"background-color: hsl(0, 75%, 99%); opacity:1.0;                     line-height:1.75\"><font color=\"black\"> the                    </font></mark><mark style=\"background-color: hsl(120, 75%, 99%); opacity:1.0;                     line-height:1.75\"><font color=\"black\"> britain                    </font></mark><mark style=\"background-color: hsl(0, 75%, 97%); opacity:1.0;                     line-height:1.75\"><font color=\"black\"> can                    </font></mark><mark style=\"background-color: hsl(120, 75%, 97%); opacity:1.0;                     line-height:1.75\"><font color=\"black\"> make                    </font></mark><mark style=\"background-color: hsl(120, 75%, 100%); opacity:1.0;                     line-height:1.75\"><font color=\"black\"> it                    </font></mark><mark style=\"background-color: hsl(0, 75%, 98%); opacity:1.0;                     line-height:1.75\"><font color=\"black\"> exhibition                    </font></mark><mark style=\"background-color: hsl(120, 75%, 87%); opacity:1.0;                     line-height:1.75\"><font color=\"black\"> was                    </font></mark><mark style=\"background-color: hsl(0, 75%, 98%); opacity:1.0;                     line-height:1.75\"><font color=\"black\"> held                    </font></mark><mark style=\"background-color: hsl(120, 75%, 100%); opacity:1.0;                     line-height:1.75\"><font color=\"black\"> between                    </font></mark><mark style=\"background-color: hsl(120, 75%, 93%); opacity:1.0;                     line-height:1.75\"><font color=\"black\"> september                    </font></mark><mark style=\"background-color: hsl(120, 75%, 98%); opacity:1.0;                     line-height:1.75\"><font color=\"black\"> and                    </font></mark><mark style=\"background-color: hsl(120, 75%, 100%); opacity:1.0;                     line-height:1.75\"><font color=\"black\"> november                    </font></mark><mark style=\"background-color: hsl(120, 75%, 93%); opacity:1.0;                     line-height:1.75\"><font color=\"black\"> 1946,                    </font></mark><mark style=\"background-color: hsl(0, 75%, 96%); opacity:1.0;                     line-height:1.75\"><font color=\"black\"> attracting                    </font></mark><mark style=\"background-color: hsl(0, 75%, 97%); opacity:1.0;                     line-height:1.75\"><font color=\"black\"> nearly                    </font></mark><mark style=\"background-color: hsl(0, 75%, 95%); opacity:1.0;                     line-height:1.75\"><font color=\"black\"> a                    </font></mark><mark style=\"background-color: hsl(0, 75%, 94%); opacity:1.0;                     line-height:1.75\"><font color=\"black\"> million                    </font></mark><mark style=\"background-color: hsl(0, 75%, 100%); opacity:1.0;                     line-height:1.75\"><font color=\"black\"> and                    </font></mark><mark style=\"background-color: hsl(0, 75%, 97%); opacity:1.0;                     line-height:1.75\"><font color=\"black\"> a                    </font></mark><mark style=\"background-color: hsl(0, 75%, 97%); opacity:1.0;                     line-height:1.75\"><font color=\"black\"> half                    </font></mark><mark style=\"background-color: hsl(120, 75%, 94%); opacity:1.0;                     line-height:1.75\"><font color=\"black\"> visitors.                    </font></mark><mark style=\"background-color: hsl(120, 75%, 100%); opacity:1.0;                     line-height:1.75\"><font color=\"black\"> [SEP]                    </font></mark></td><tr></table>"
      ],
      "text/plain": [
       "<IPython.core.display.HTML object>"
      ]
     },
     "metadata": {},
     "output_type": "display_data"
    },
    {
     "name": "stderr",
     "output_type": "stream",
     "text": [
      "/home/user/anaconda3/envs/metric/lib/python3.9/site-packages/captum/attr/_core/lime.py:1096: UserWarning: Attempting to construct interpretable model with > 10000 features.This can be very slow or lead to OOM issues. Please provide a featuremask which groups input features to reduce the number of interpretablefeatures. \n",
      "  warnings.warn(\n"
     ]
    },
    {
     "name": "stdout",
     "output_type": "stream",
     "text": [
      "<IPython.core.display.HTML object>\n",
      "Raw datum: ['Within the 30 days how many digiboxes had been sold?', \"Within 30 days, over 100,000 digiboxes had been sold, which help bolstered BSkyB's decision to give away free digiboxes and minidishes from May 1999.\"]\n",
      "GT target: 1\n"
     ]
    },
    {
     "name": "stderr",
     "output_type": "stream",
     "text": [
      "Lime attribution: 100%|██████████████████████████████████████████████████████████████████████████████████████████████████████████| 5/5 [00:10<00:00,  2.02s/it]\n"
     ]
    },
    {
     "name": "stdout",
     "output_type": "stream",
     "text": [
      "word attr tensor([-0.0036,  0.0742,  0.1070,  0.0748, -0.0081,  0.0431,  0.1122,  0.1633,\n",
      "        -0.0363, -0.1845,  0.1930, -0.1702,  0.1683, -0.3087,  0.1049,  0.0046,\n",
      "         0.0919, -0.0853, -0.0380, -0.0459, -0.1301, -0.0545,  0.0691,  0.0030,\n",
      "         0.2626, -0.0138,  0.0396,  0.0356,  0.3967,  0.1678,  0.0012, -0.0109,\n",
      "         0.2119,  0.0764, -0.0324,  0.2057,  0.1851,  0.1106, -0.0145,  0.0070,\n",
      "        -0.1246,  0.1465,  0.0567,  0.2360, -0.0147, -0.1081, -0.1917, -0.0704,\n",
      "        -0.0643, -0.0924, -0.0358,  0.1274,  0.1349, -0.0472, -0.0421, -0.0835,\n",
      "         0.0729, -0.0877, -0.0788, -0.1147,  0.1276], device='cuda:0')\n",
      "conti attr [tensor(-0.0036, device='cuda:0'), tensor(0.0742, device='cuda:0'), tensor(0.1070, device='cuda:0'), tensor(0.0748, device='cuda:0'), tensor(-0.0081, device='cuda:0'), tensor(0.0431, device='cuda:0'), tensor(0.1122, device='cuda:0'), tensor(0.0662, device='cuda:0'), tensor(-0.1702, device='cuda:0'), tensor(0.1683, device='cuda:0'), tensor(-0.1019, device='cuda:0'), tensor(0.0046, device='cuda:0'), tensor(0.0919, device='cuda:0'), tensor(-0.0853, device='cuda:0'), tensor(-0.0380, device='cuda:0'), tensor(-0.0880, device='cuda:0'), tensor(-0.0545, device='cuda:0'), tensor(0.1493, device='cuda:0'), tensor(0.2105, device='cuda:0'), tensor(0.1678, device='cuda:0'), tensor(0.0012, device='cuda:0'), tensor(0.1005, device='cuda:0'), tensor(0.0764, device='cuda:0'), tensor(-0.0324, device='cuda:0'), tensor(0.1530, device='cuda:0'), tensor(0.0490, device='cuda:0'), tensor(0.2360, device='cuda:0'), tensor(-0.0147, device='cuda:0'), tensor(-0.1081, device='cuda:0'), tensor(-0.1917, device='cuda:0'), tensor(-0.0704, device='cuda:0'), tensor(0.0352, device='cuda:0'), tensor(0.1349, device='cuda:0'), tensor(-0.0641, device='cuda:0'), tensor(0.0729, device='cuda:0'), tensor(-0.0877, device='cuda:0'), tensor(-0.0967, device='cuda:0'), tensor(0.1276, device='cuda:0')]\n",
      "detokenized ['[CLS]', 'within', 'the', '30', 'days', 'how', 'many', 'dig', 'ib', 'ox', 'es', 'had', 'been', 'sold', '?', '[SEP]', '[SEP]', 'within', '30', 'days', ',', 'over', '100', ',', '000', 'dig', 'ib', 'ox', 'es', 'had', 'been', 'sold', ',', 'which', 'help', 'bo', 'lster', 'ed', 'bs', 'ky', 'b', \"'\", 's', 'decision', 'to', 'give', 'away', 'free', 'dig', 'ib', 'ox', 'es', 'and', 'mini', 'dis', 'hes', 'from', 'may', '1999', '.', '[SEP]']\n",
      "len conti_raw 38\n",
      "conti_raw ['[CLS]', 'within', 'the', '30', 'days', 'how', 'many', 'digiboxes', 'had', 'been', 'sold?', '[SEP]', '[SEP]', 'within', '30', 'days,', 'over', '100,000', 'digiboxes', 'had', 'been', 'sold,', 'which', 'help', 'bolstered', \"bskyb's\", 'decision', 'to', 'give', 'away', 'free', 'digiboxes', 'and', 'minidishes', 'from', 'may', '1999.', '[SEP]']\n",
      "pred_prob 0.7189930081367493\n"
     ]
    },
    {
     "data": {
      "text/html": [
       "<table width: 100%><div style=\"border-top: 1px solid; margin-top: 5px;             padding-top: 5px; display: inline-block\"><b>Legend: </b><span style=\"display: inline-block; width: 10px; height: 10px;                 border: 1px solid; background-color:                 hsl(0, 75%, 60%)\"></span> Negative  <span style=\"display: inline-block; width: 10px; height: 10px;                 border: 1px solid; background-color:                 hsl(0, 75%, 100%)\"></span> Neutral  <span style=\"display: inline-block; width: 10px; height: 10px;                 border: 1px solid; background-color:                 hsl(120, 75%, 50%)\"></span> Positive  </div><tr><th>True Label</th><th>Predicted Label</th><th>Attribution Label</th><th>Attribution Score</th><th>Word Importance</th><tr><td><text style=\"padding-right:2em\"><b>Entailment</b></text></td><td><text style=\"padding-right:2em\"><b>Entailment (0.72)</b></text></td><td><text style=\"padding-right:2em\"><b>Entailment</b></text></td><td><text style=\"padding-right:2em\"><b>1.52</b></text></td><td><mark style=\"background-color: hsl(0, 75%, 100%); opacity:1.0;                     line-height:1.75\"><font color=\"black\"> [CLS]                    </font></mark><mark style=\"background-color: hsl(120, 75%, 97%); opacity:1.0;                     line-height:1.75\"><font color=\"black\"> within                    </font></mark><mark style=\"background-color: hsl(120, 75%, 95%); opacity:1.0;                     line-height:1.75\"><font color=\"black\"> the                    </font></mark><mark style=\"background-color: hsl(120, 75%, 97%); opacity:1.0;                     line-height:1.75\"><font color=\"black\"> 30                    </font></mark><mark style=\"background-color: hsl(0, 75%, 100%); opacity:1.0;                     line-height:1.75\"><font color=\"black\"> days                    </font></mark><mark style=\"background-color: hsl(120, 75%, 98%); opacity:1.0;                     line-height:1.75\"><font color=\"black\"> how                    </font></mark><mark style=\"background-color: hsl(120, 75%, 95%); opacity:1.0;                     line-height:1.75\"><font color=\"black\"> many                    </font></mark><mark style=\"background-color: hsl(120, 75%, 97%); opacity:1.0;                     line-height:1.75\"><font color=\"black\"> digiboxes                    </font></mark><mark style=\"background-color: hsl(0, 75%, 94%); opacity:1.0;                     line-height:1.75\"><font color=\"black\"> had                    </font></mark><mark style=\"background-color: hsl(120, 75%, 92%); opacity:1.0;                     line-height:1.75\"><font color=\"black\"> been                    </font></mark><mark style=\"background-color: hsl(0, 75%, 96%); opacity:1.0;                     line-height:1.75\"><font color=\"black\"> sold?                    </font></mark><mark style=\"background-color: hsl(120, 75%, 100%); opacity:1.0;                     line-height:1.75\"><font color=\"black\"> [SEP]                    </font></mark><mark style=\"background-color: hsl(120, 75%, 96%); opacity:1.0;                     line-height:1.75\"><font color=\"black\"> [SEP]                    </font></mark><mark style=\"background-color: hsl(0, 75%, 97%); opacity:1.0;                     line-height:1.75\"><font color=\"black\"> within                    </font></mark><mark style=\"background-color: hsl(0, 75%, 99%); opacity:1.0;                     line-height:1.75\"><font color=\"black\"> 30                    </font></mark><mark style=\"background-color: hsl(0, 75%, 97%); opacity:1.0;                     line-height:1.75\"><font color=\"black\"> days,                    </font></mark><mark style=\"background-color: hsl(0, 75%, 98%); opacity:1.0;                     line-height:1.75\"><font color=\"black\"> over                    </font></mark><mark style=\"background-color: hsl(120, 75%, 93%); opacity:1.0;                     line-height:1.75\"><font color=\"black\"> 100,000                    </font></mark><mark style=\"background-color: hsl(120, 75%, 90%); opacity:1.0;                     line-height:1.75\"><font color=\"black\"> digiboxes                    </font></mark><mark style=\"background-color: hsl(120, 75%, 92%); opacity:1.0;                     line-height:1.75\"><font color=\"black\"> had                    </font></mark><mark style=\"background-color: hsl(120, 75%, 100%); opacity:1.0;                     line-height:1.75\"><font color=\"black\"> been                    </font></mark><mark style=\"background-color: hsl(120, 75%, 95%); opacity:1.0;                     line-height:1.75\"><font color=\"black\"> sold,                    </font></mark><mark style=\"background-color: hsl(120, 75%, 97%); opacity:1.0;                     line-height:1.75\"><font color=\"black\"> which                    </font></mark><mark style=\"background-color: hsl(0, 75%, 99%); opacity:1.0;                     line-height:1.75\"><font color=\"black\"> help                    </font></mark><mark style=\"background-color: hsl(120, 75%, 93%); opacity:1.0;                     line-height:1.75\"><font color=\"black\"> bolstered                    </font></mark><mark style=\"background-color: hsl(120, 75%, 98%); opacity:1.0;                     line-height:1.75\"><font color=\"black\"> bskyb's                    </font></mark><mark style=\"background-color: hsl(120, 75%, 89%); opacity:1.0;                     line-height:1.75\"><font color=\"black\"> decision                    </font></mark><mark style=\"background-color: hsl(0, 75%, 100%); opacity:1.0;                     line-height:1.75\"><font color=\"black\"> to                    </font></mark><mark style=\"background-color: hsl(0, 75%, 96%); opacity:1.0;                     line-height:1.75\"><font color=\"black\"> give                    </font></mark><mark style=\"background-color: hsl(0, 75%, 93%); opacity:1.0;                     line-height:1.75\"><font color=\"black\"> away                    </font></mark><mark style=\"background-color: hsl(0, 75%, 98%); opacity:1.0;                     line-height:1.75\"><font color=\"black\"> free                    </font></mark><mark style=\"background-color: hsl(120, 75%, 99%); opacity:1.0;                     line-height:1.75\"><font color=\"black\"> digiboxes                    </font></mark><mark style=\"background-color: hsl(120, 75%, 94%); opacity:1.0;                     line-height:1.75\"><font color=\"black\"> and                    </font></mark><mark style=\"background-color: hsl(0, 75%, 98%); opacity:1.0;                     line-height:1.75\"><font color=\"black\"> minidishes                    </font></mark><mark style=\"background-color: hsl(120, 75%, 97%); opacity:1.0;                     line-height:1.75\"><font color=\"black\"> from                    </font></mark><mark style=\"background-color: hsl(0, 75%, 97%); opacity:1.0;                     line-height:1.75\"><font color=\"black\"> may                    </font></mark><mark style=\"background-color: hsl(0, 75%, 97%); opacity:1.0;                     line-height:1.75\"><font color=\"black\"> 1999.                    </font></mark><mark style=\"background-color: hsl(120, 75%, 94%); opacity:1.0;                     line-height:1.75\"><font color=\"black\"> [SEP]                    </font></mark></td><tr></table>"
      ],
      "text/plain": [
       "<IPython.core.display.HTML object>"
      ]
     },
     "metadata": {},
     "output_type": "display_data"
    },
    {
     "name": "stderr",
     "output_type": "stream",
     "text": [
      "/home/user/anaconda3/envs/metric/lib/python3.9/site-packages/captum/attr/_core/lime.py:1096: UserWarning: Attempting to construct interpretable model with > 10000 features.This can be very slow or lead to OOM issues. Please provide a featuremask which groups input features to reduce the number of interpretablefeatures. \n",
      "  warnings.warn(\n"
     ]
    },
    {
     "name": "stdout",
     "output_type": "stream",
     "text": [
      "<IPython.core.display.HTML object>\n",
      "Raw datum: ['The receptors on a killer T cell must bind to how many MHC: antigen complexes in order to activate the cell?', \"The MHC:antigen complex is also recognized by the helper cell's CD4 co-receptor, which recruits molecules inside the T cell (e.g., Lck) that are responsible for the T cell's activation.\"]\n",
      "GT target: 0\n"
     ]
    },
    {
     "name": "stderr",
     "output_type": "stream",
     "text": [
      "Lime attribution: 100%|██████████████████████████████████████████████████████████████████████████████████████████████████████████| 5/5 [00:10<00:00,  2.19s/it]\n"
     ]
    },
    {
     "name": "stdout",
     "output_type": "stream",
     "text": [
      "word attr tensor([ 0.5396, -0.0422,  0.0431, -0.1067,  0.2082, -0.1149,  0.0633, -0.0574,\n",
      "        -0.1035,  0.0339,  0.0230,  0.0399, -0.0051,  0.0241, -0.1135, -0.0091,\n",
      "        -0.0983, -0.0303,  0.2110, -0.0248,  0.0462,  0.0194, -0.0423, -0.0122,\n",
      "         0.2604,  0.1370,  0.0818,  0.2092,  0.0074, -0.0217, -0.0074,  0.0098,\n",
      "        -0.0801,  0.0739,  0.0052,  0.1661, -0.0368,  0.0530, -0.0982,  0.1782,\n",
      "         0.0225,  0.0984,  0.0444, -0.0066, -0.1417, -0.0761, -0.0327, -0.0375,\n",
      "         0.0715,  0.0204,  0.0612, -0.0180,  0.0571,  0.0930,  0.0819,  0.1288,\n",
      "         0.0314,  0.0667,  0.0309, -0.0430, -0.2162,  0.0956, -0.1547, -0.1487,\n",
      "        -0.0019, -0.0419,  0.0901, -0.2194,  0.0354,  0.0974,  0.1923,  0.0122,\n",
      "        -0.0091, -0.0623, -0.0206,  0.0496, -0.1062], device='cuda:0')\n",
      "conti attr [tensor(0.5396, device='cuda:0'), tensor(-0.0422, device='cuda:0'), tensor(0.0431, device='cuda:0'), tensor(-0.1067, device='cuda:0'), tensor(0.2082, device='cuda:0'), tensor(-0.1149, device='cuda:0'), tensor(0.0633, device='cuda:0'), tensor(-0.0574, device='cuda:0'), tensor(-0.1035, device='cuda:0'), tensor(0.0339, device='cuda:0'), tensor(0.0230, device='cuda:0'), tensor(0.0399, device='cuda:0'), tensor(-0.0051, device='cuda:0'), tensor(-0.0269, device='cuda:0'), tensor(-0.0983, device='cuda:0'), tensor(-0.0303, device='cuda:0'), tensor(0.2110, device='cuda:0'), tensor(-0.0248, device='cuda:0'), tensor(0.0462, device='cuda:0'), tensor(0.0194, device='cuda:0'), tensor(-0.0423, device='cuda:0'), tensor(0.1241, device='cuda:0'), tensor(0.1370, device='cuda:0'), tensor(0.0818, device='cuda:0'), tensor(0.2092, device='cuda:0'), tensor(0.0013, device='cuda:0'), tensor(-0.0801, device='cuda:0'), tensor(0.0739, device='cuda:0'), tensor(0.0052, device='cuda:0'), tensor(0.1661, device='cuda:0'), tensor(-0.0368, device='cuda:0'), tensor(0.0530, device='cuda:0'), tensor(0.0400, device='cuda:0'), tensor(0.0525, device='cuda:0'), tensor(-0.0742, device='cuda:0'), tensor(0.0128, device='cuda:0'), tensor(0.0204, device='cuda:0'), tensor(0.0612, device='cuda:0'), tensor(-0.0180, device='cuda:0'), tensor(0.0571, device='cuda:0'), tensor(0.0930, device='cuda:0'), tensor(0.0819, device='cuda:0'), tensor(0.1288, device='cuda:0'), tensor(-0.0066, device='cuda:0'), tensor(-0.0768, device='cuda:0'), tensor(-0.0419, device='cuda:0'), tensor(0.0901, device='cuda:0'), tensor(-0.2194, device='cuda:0'), tensor(0.0354, device='cuda:0'), tensor(0.0974, device='cuda:0'), tensor(0.1923, device='cuda:0'), tensor(-0.0303, device='cuda:0'), tensor(0.0145, device='cuda:0'), tensor(-0.1062, device='cuda:0')]\n",
      "detokenized ['[CLS]', 'the', 'receptors', 'on', 'a', 'killer', 't', 'cell', 'must', 'bind', 'to', 'how', 'many', 'm', 'hc', ':', 'antigen', 'complexes', 'in', 'order', 'to', 'activate', 'the', 'cell', '?', '[SEP]', '[SEP]', 'the', 'm', 'hc', ':', 'antigen', 'complex', 'is', 'also', 'recognized', 'by', 'the', 'help', 'er', 'cell', \"'\", 's', 'cd', '4', 'co', '-', 'receptor', ',', 'which', 'recruits', 'molecules', 'inside', 'the', 't', 'cell', '(', 'e', '.', 'g', '.', ',', 'lc', 'k', ')', 'that', 'are', 'responsible', 'for', 'the', 't', 'cell', \"'\", 's', 'activation', '.', '[SEP]']\n",
      "len conti_raw 54\n",
      "conti_raw ['[CLS]', 'the', 'receptors', 'on', 'a', 'killer', 't', 'cell', 'must', 'bind', 'to', 'how', 'many', 'mhc:', 'antigen', 'complexes', 'in', 'order', 'to', 'activate', 'the', 'cell?', '[SEP]', '[SEP]', 'the', 'mhc:antigen', 'complex', 'is', 'also', 'recognized', 'by', 'the', 'helper', \"cell's\", 'cd4', 'co-receptor,', 'which', 'recruits', 'molecules', 'inside', 'the', 't', 'cell', '(e.g.,', 'lck)', 'that', 'are', 'responsible', 'for', 'the', 't', \"cell's\", 'activation.', '[SEP]']\n",
      "pred_prob 0.9368581175804138\n"
     ]
    },
    {
     "data": {
      "text/html": [
       "<table width: 100%><div style=\"border-top: 1px solid; margin-top: 5px;             padding-top: 5px; display: inline-block\"><b>Legend: </b><span style=\"display: inline-block; width: 10px; height: 10px;                 border: 1px solid; background-color:                 hsl(0, 75%, 60%)\"></span> Negative  <span style=\"display: inline-block; width: 10px; height: 10px;                 border: 1px solid; background-color:                 hsl(0, 75%, 100%)\"></span> Neutral  <span style=\"display: inline-block; width: 10px; height: 10px;                 border: 1px solid; background-color:                 hsl(120, 75%, 50%)\"></span> Positive  </div><tr><th>True Label</th><th>Predicted Label</th><th>Attribution Label</th><th>Attribution Score</th><th>Word Importance</th><tr><td><text style=\"padding-right:2em\"><b>No Entailment</b></text></td><td><text style=\"padding-right:2em\"><b>Entailment (0.94)</b></text></td><td><text style=\"padding-right:2em\"><b>Entailment</b></text></td><td><text style=\"padding-right:2em\"><b>1.47</b></text></td><td><mark style=\"background-color: hsl(120, 75%, 74%); opacity:1.0;                     line-height:1.75\"><font color=\"black\"> [CLS]                    </font></mark><mark style=\"background-color: hsl(0, 75%, 99%); opacity:1.0;                     line-height:1.75\"><font color=\"black\"> the                    </font></mark><mark style=\"background-color: hsl(120, 75%, 98%); opacity:1.0;                     line-height:1.75\"><font color=\"black\"> receptors                    </font></mark><mark style=\"background-color: hsl(0, 75%, 96%); opacity:1.0;                     line-height:1.75\"><font color=\"black\"> on                    </font></mark><mark style=\"background-color: hsl(120, 75%, 90%); opacity:1.0;                     line-height:1.75\"><font color=\"black\"> a                    </font></mark><mark style=\"background-color: hsl(0, 75%, 96%); opacity:1.0;                     line-height:1.75\"><font color=\"black\"> killer                    </font></mark><mark style=\"background-color: hsl(120, 75%, 97%); opacity:1.0;                     line-height:1.75\"><font color=\"black\"> t                    </font></mark><mark style=\"background-color: hsl(0, 75%, 98%); opacity:1.0;                     line-height:1.75\"><font color=\"black\"> cell                    </font></mark><mark style=\"background-color: hsl(0, 75%, 96%); opacity:1.0;                     line-height:1.75\"><font color=\"black\"> must                    </font></mark><mark style=\"background-color: hsl(120, 75%, 99%); opacity:1.0;                     line-height:1.75\"><font color=\"black\"> bind                    </font></mark><mark style=\"background-color: hsl(120, 75%, 99%); opacity:1.0;                     line-height:1.75\"><font color=\"black\"> to                    </font></mark><mark style=\"background-color: hsl(120, 75%, 99%); opacity:1.0;                     line-height:1.75\"><font color=\"black\"> how                    </font></mark><mark style=\"background-color: hsl(0, 75%, 100%); opacity:1.0;                     line-height:1.75\"><font color=\"black\"> many                    </font></mark><mark style=\"background-color: hsl(0, 75%, 99%); opacity:1.0;                     line-height:1.75\"><font color=\"black\"> mhc:                    </font></mark><mark style=\"background-color: hsl(0, 75%, 97%); opacity:1.0;                     line-height:1.75\"><font color=\"black\"> antigen                    </font></mark><mark style=\"background-color: hsl(0, 75%, 99%); opacity:1.0;                     line-height:1.75\"><font color=\"black\"> complexes                    </font></mark><mark style=\"background-color: hsl(120, 75%, 90%); opacity:1.0;                     line-height:1.75\"><font color=\"black\"> in                    </font></mark><mark style=\"background-color: hsl(0, 75%, 100%); opacity:1.0;                     line-height:1.75\"><font color=\"black\"> order                    </font></mark><mark style=\"background-color: hsl(120, 75%, 98%); opacity:1.0;                     line-height:1.75\"><font color=\"black\"> to                    </font></mark><mark style=\"background-color: hsl(120, 75%, 100%); opacity:1.0;                     line-height:1.75\"><font color=\"black\"> activate                    </font></mark><mark style=\"background-color: hsl(0, 75%, 99%); opacity:1.0;                     line-height:1.75\"><font color=\"black\"> the                    </font></mark><mark style=\"background-color: hsl(120, 75%, 94%); opacity:1.0;                     line-height:1.75\"><font color=\"black\"> cell?                    </font></mark><mark style=\"background-color: hsl(120, 75%, 94%); opacity:1.0;                     line-height:1.75\"><font color=\"black\"> [SEP]                    </font></mark><mark style=\"background-color: hsl(120, 75%, 96%); opacity:1.0;                     line-height:1.75\"><font color=\"black\"> [SEP]                    </font></mark><mark style=\"background-color: hsl(120, 75%, 90%); opacity:1.0;                     line-height:1.75\"><font color=\"black\"> the                    </font></mark><mark style=\"background-color: hsl(120, 75%, 100%); opacity:1.0;                     line-height:1.75\"><font color=\"black\"> mhc:antigen                    </font></mark><mark style=\"background-color: hsl(0, 75%, 97%); opacity:1.0;                     line-height:1.75\"><font color=\"black\"> complex                    </font></mark><mark style=\"background-color: hsl(120, 75%, 97%); opacity:1.0;                     line-height:1.75\"><font color=\"black\"> is                    </font></mark><mark style=\"background-color: hsl(120, 75%, 100%); opacity:1.0;                     line-height:1.75\"><font color=\"black\"> also                    </font></mark><mark style=\"background-color: hsl(120, 75%, 92%); opacity:1.0;                     line-height:1.75\"><font color=\"black\"> recognized                    </font></mark><mark style=\"background-color: hsl(0, 75%, 99%); opacity:1.0;                     line-height:1.75\"><font color=\"black\"> by                    </font></mark><mark style=\"background-color: hsl(120, 75%, 98%); opacity:1.0;                     line-height:1.75\"><font color=\"black\"> the                    </font></mark><mark style=\"background-color: hsl(120, 75%, 98%); opacity:1.0;                     line-height:1.75\"><font color=\"black\"> helper                    </font></mark><mark style=\"background-color: hsl(120, 75%, 98%); opacity:1.0;                     line-height:1.75\"><font color=\"black\"> cell's                    </font></mark><mark style=\"background-color: hsl(0, 75%, 98%); opacity:1.0;                     line-height:1.75\"><font color=\"black\"> cd4                    </font></mark><mark style=\"background-color: hsl(120, 75%, 100%); opacity:1.0;                     line-height:1.75\"><font color=\"black\"> co-receptor,                    </font></mark><mark style=\"background-color: hsl(120, 75%, 99%); opacity:1.0;                     line-height:1.75\"><font color=\"black\"> which                    </font></mark><mark style=\"background-color: hsl(120, 75%, 97%); opacity:1.0;                     line-height:1.75\"><font color=\"black\"> recruits                    </font></mark><mark style=\"background-color: hsl(0, 75%, 100%); opacity:1.0;                     line-height:1.75\"><font color=\"black\"> molecules                    </font></mark><mark style=\"background-color: hsl(120, 75%, 98%); opacity:1.0;                     line-height:1.75\"><font color=\"black\"> inside                    </font></mark><mark style=\"background-color: hsl(120, 75%, 96%); opacity:1.0;                     line-height:1.75\"><font color=\"black\"> the                    </font></mark><mark style=\"background-color: hsl(120, 75%, 96%); opacity:1.0;                     line-height:1.75\"><font color=\"black\"> t                    </font></mark><mark style=\"background-color: hsl(120, 75%, 94%); opacity:1.0;                     line-height:1.75\"><font color=\"black\"> cell                    </font></mark><mark style=\"background-color: hsl(0, 75%, 100%); opacity:1.0;                     line-height:1.75\"><font color=\"black\"> (e.g.,                    </font></mark><mark style=\"background-color: hsl(0, 75%, 97%); opacity:1.0;                     line-height:1.75\"><font color=\"black\"> lck)                    </font></mark><mark style=\"background-color: hsl(0, 75%, 99%); opacity:1.0;                     line-height:1.75\"><font color=\"black\"> that                    </font></mark><mark style=\"background-color: hsl(120, 75%, 96%); opacity:1.0;                     line-height:1.75\"><font color=\"black\"> are                    </font></mark><mark style=\"background-color: hsl(0, 75%, 92%); opacity:1.0;                     line-height:1.75\"><font color=\"black\"> responsible                    </font></mark><mark style=\"background-color: hsl(120, 75%, 99%); opacity:1.0;                     line-height:1.75\"><font color=\"black\"> for                    </font></mark><mark style=\"background-color: hsl(120, 75%, 96%); opacity:1.0;                     line-height:1.75\"><font color=\"black\"> the                    </font></mark><mark style=\"background-color: hsl(120, 75%, 91%); opacity:1.0;                     line-height:1.75\"><font color=\"black\"> t                    </font></mark><mark style=\"background-color: hsl(0, 75%, 99%); opacity:1.0;                     line-height:1.75\"><font color=\"black\"> cell's                    </font></mark><mark style=\"background-color: hsl(120, 75%, 100%); opacity:1.0;                     line-height:1.75\"><font color=\"black\"> activation.                    </font></mark><mark style=\"background-color: hsl(0, 75%, 96%); opacity:1.0;                     line-height:1.75\"><font color=\"black\"> [SEP]                    </font></mark></td><tr></table>"
      ],
      "text/plain": [
       "<IPython.core.display.HTML object>"
      ]
     },
     "metadata": {},
     "output_type": "display_data"
    },
    {
     "name": "stderr",
     "output_type": "stream",
     "text": [
      "/home/user/anaconda3/envs/metric/lib/python3.9/site-packages/captum/attr/_core/lime.py:1096: UserWarning: Attempting to construct interpretable model with > 10000 features.This can be very slow or lead to OOM issues. Please provide a featuremask which groups input features to reduce the number of interpretablefeatures. \n",
      "  warnings.warn(\n"
     ]
    },
    {
     "name": "stdout",
     "output_type": "stream",
     "text": [
      "<IPython.core.display.HTML object>\n",
      "Raw datum: [\"How much did Westinghouse pay for Tesla's designs?\", \"In July 1888, Brown and Peck negotiated a licensing deal with George Westinghouse for Tesla's polyphase induction motor and transformer designs for $60,000 in cash and stock and a royalty of $2.50 per AC horsepower produced by each motor.\"]\n",
      "GT target: 1\n"
     ]
    },
    {
     "name": "stderr",
     "output_type": "stream",
     "text": [
      "Lime attribution: 100%|██████████████████████████████████████████████████████████████████████████████████████████████████████████| 5/5 [00:07<00:00,  1.45s/it]\n"
     ]
    },
    {
     "name": "stdout",
     "output_type": "stream",
     "text": [
      "word attr tensor([ 6.3736e-02, -5.2619e-02,  1.0712e-01, -7.3844e-02,  1.6701e-01,\n",
      "         1.3601e-02, -8.3151e-02, -2.5962e-01, -3.4164e-02,  1.6859e-01,\n",
      "         1.6124e-01,  1.8131e-02,  2.8390e-02, -3.4152e-02,  6.9431e-02,\n",
      "        -4.4781e-02, -2.1720e-02, -7.9112e-02, -5.8135e-02,  3.2929e-02,\n",
      "        -1.7505e-03,  1.6996e-01, -1.3146e-01, -7.4470e-02, -9.0948e-03,\n",
      "         1.7701e-01, -4.6988e-02,  1.0680e-01, -1.7529e-02, -2.2231e-01,\n",
      "        -1.5662e-02, -1.3995e-01,  8.3292e-02,  1.8073e-01,  4.1664e-02,\n",
      "         1.8471e-01, -3.4606e-01, -2.3664e-01, -1.1810e-02,  1.7392e-02,\n",
      "         3.2983e-02, -4.7742e-02, -9.4026e-02, -1.4101e-04, -1.0324e-01,\n",
      "         1.2120e-01,  1.6891e-01, -2.8192e-02, -1.8271e-02, -4.6023e-02,\n",
      "        -1.7691e-01,  5.0189e-03,  2.1847e-01, -1.0977e-02,  1.5355e-01,\n",
      "         1.5021e-01,  8.3171e-02,  5.7159e-02,  1.6388e-01,  1.3475e-02,\n",
      "         1.0929e-01,  1.5375e-01,  2.2106e-01,  1.4175e-01,  1.1885e-01,\n",
      "         7.6569e-02, -1.7998e-02, -4.0065e-02, -8.1725e-02, -1.0197e-01,\n",
      "         6.7535e-02], device='cuda:0')\n",
      "conti attr [tensor(0.0637, device='cuda:0'), tensor(-0.0526, device='cuda:0'), tensor(0.1071, device='cuda:0'), tensor(-0.0738, device='cuda:0'), tensor(0.0036, device='cuda:0'), tensor(-0.2596, device='cuda:0'), tensor(-0.0342, device='cuda:0'), tensor(0.0915, device='cuda:0'), tensor(-0.0029, device='cuda:0'), tensor(0.0694, device='cuda:0'), tensor(-0.0448, device='cuda:0'), tensor(-0.0217, device='cuda:0'), tensor(-0.0791, device='cuda:0'), tensor(-0.0126, device='cuda:0'), tensor(-0.0018, device='cuda:0'), tensor(0.1700, device='cuda:0'), tensor(-0.1315, device='cuda:0'), tensor(-0.0745, device='cuda:0'), tensor(-0.0091, device='cuda:0'), tensor(0.1770, device='cuda:0'), tensor(-0.0470, device='cuda:0'), tensor(0.1068, device='cuda:0'), tensor(-0.0175, device='cuda:0'), tensor(-0.1295, device='cuda:0'), tensor(0.0833, device='cuda:0'), tensor(0.1480, device='cuda:0'), tensor(-0.1516, device='cuda:0'), tensor(0.0174, device='cuda:0'), tensor(0.0330, device='cuda:0'), tensor(-0.0477, device='cuda:0'), tensor(-0.0471, device='cuda:0'), tensor(-0.1032, device='cuda:0'), tensor(0.1212, device='cuda:0'), tensor(-0.0100, device='cuda:0'), tensor(-0.1769, device='cuda:0'), tensor(0.0050, device='cuda:0'), tensor(0.2185, device='cuda:0'), tensor(-0.0110, device='cuda:0'), tensor(0.1536, device='cuda:0'), tensor(0.1502, device='cuda:0'), tensor(0.0832, device='cuda:0'), tensor(0.0572, device='cuda:0'), tensor(0.1264, device='cuda:0'), tensor(0.2211, device='cuda:0'), tensor(0.1418, device='cuda:0'), tensor(0.1189, device='cuda:0'), tensor(0.0766, device='cuda:0'), tensor(-0.0180, device='cuda:0'), tensor(-0.0401, device='cuda:0'), tensor(-0.0918, device='cuda:0'), tensor(0.0675, device='cuda:0')]\n",
      "detokenized ['[CLS]', 'how', 'much', 'did', 'west', 'ing', 'house', 'pay', 'for', 'tesla', \"'\", 's', 'designs', '?', '[SEP]', '[SEP]', 'in', 'july', '1888', ',', 'brown', 'and', 'peck', 'negotiated', 'a', 'licensing', 'deal', 'with', 'george', 'west', 'ing', 'house', 'for', 'tesla', \"'\", 's', 'poly', 'pha', 'se', 'induction', 'motor', 'and', 'transform', 'er', 'designs', 'for', '$', '60', ',', '000', 'in', 'cash', 'and', 'stock', 'and', 'a', 'royalty', 'of', '$', '2', '.', '50', 'per', 'ac', 'horsepower', 'produced', 'by', 'each', 'motor', '.', '[SEP]']\n",
      "len conti_raw 51\n",
      "conti_raw ['[CLS]', 'how', 'much', 'did', 'westinghouse', 'pay', 'for', \"tesla's\", 'designs?', '[SEP]', '[SEP]', 'in', 'july', '1888,', 'brown', 'and', 'peck', 'negotiated', 'a', 'licensing', 'deal', 'with', 'george', 'westinghouse', 'for', \"tesla's\", 'polyphase', 'induction', 'motor', 'and', 'transformer', 'designs', 'for', '$60,000', 'in', 'cash', 'and', 'stock', 'and', 'a', 'royalty', 'of', '$2.50', 'per', 'ac', 'horsepower', 'produced', 'by', 'each', 'motor.', '[SEP]']\n",
      "pred_prob 0.7738507390022278\n"
     ]
    },
    {
     "data": {
      "text/html": [
       "<table width: 100%><div style=\"border-top: 1px solid; margin-top: 5px;             padding-top: 5px; display: inline-block\"><b>Legend: </b><span style=\"display: inline-block; width: 10px; height: 10px;                 border: 1px solid; background-color:                 hsl(0, 75%, 60%)\"></span> Negative  <span style=\"display: inline-block; width: 10px; height: 10px;                 border: 1px solid; background-color:                 hsl(0, 75%, 100%)\"></span> Neutral  <span style=\"display: inline-block; width: 10px; height: 10px;                 border: 1px solid; background-color:                 hsl(120, 75%, 50%)\"></span> Positive  </div><tr><th>True Label</th><th>Predicted Label</th><th>Attribution Label</th><th>Attribution Score</th><th>Word Importance</th><tr><td><text style=\"padding-right:2em\"><b>Entailment</b></text></td><td><text style=\"padding-right:2em\"><b>Entailment (0.77)</b></text></td><td><text style=\"padding-right:2em\"><b>Entailment</b></text></td><td><text style=\"padding-right:2em\"><b>1.09</b></text></td><td><mark style=\"background-color: hsl(120, 75%, 97%); opacity:1.0;                     line-height:1.75\"><font color=\"black\"> [CLS]                    </font></mark><mark style=\"background-color: hsl(0, 75%, 98%); opacity:1.0;                     line-height:1.75\"><font color=\"black\"> how                    </font></mark><mark style=\"background-color: hsl(120, 75%, 95%); opacity:1.0;                     line-height:1.75\"><font color=\"black\"> much                    </font></mark><mark style=\"background-color: hsl(0, 75%, 98%); opacity:1.0;                     line-height:1.75\"><font color=\"black\"> did                    </font></mark><mark style=\"background-color: hsl(120, 75%, 100%); opacity:1.0;                     line-height:1.75\"><font color=\"black\"> westinghouse                    </font></mark><mark style=\"background-color: hsl(0, 75%, 90%); opacity:1.0;                     line-height:1.75\"><font color=\"black\"> pay                    </font></mark><mark style=\"background-color: hsl(0, 75%, 99%); opacity:1.0;                     line-height:1.75\"><font color=\"black\"> for                    </font></mark><mark style=\"background-color: hsl(120, 75%, 96%); opacity:1.0;                     line-height:1.75\"><font color=\"black\"> tesla's                    </font></mark><mark style=\"background-color: hsl(0, 75%, 100%); opacity:1.0;                     line-height:1.75\"><font color=\"black\"> designs?                    </font></mark><mark style=\"background-color: hsl(120, 75%, 97%); opacity:1.0;                     line-height:1.75\"><font color=\"black\"> [SEP]                    </font></mark><mark style=\"background-color: hsl(0, 75%, 99%); opacity:1.0;                     line-height:1.75\"><font color=\"black\"> [SEP]                    </font></mark><mark style=\"background-color: hsl(0, 75%, 100%); opacity:1.0;                     line-height:1.75\"><font color=\"black\"> in                    </font></mark><mark style=\"background-color: hsl(0, 75%, 97%); opacity:1.0;                     line-height:1.75\"><font color=\"black\"> july                    </font></mark><mark style=\"background-color: hsl(0, 75%, 100%); opacity:1.0;                     line-height:1.75\"><font color=\"black\"> 1888,                    </font></mark><mark style=\"background-color: hsl(0, 75%, 100%); opacity:1.0;                     line-height:1.75\"><font color=\"black\"> brown                    </font></mark><mark style=\"background-color: hsl(120, 75%, 92%); opacity:1.0;                     line-height:1.75\"><font color=\"black\"> and                    </font></mark><mark style=\"background-color: hsl(0, 75%, 95%); opacity:1.0;                     line-height:1.75\"><font color=\"black\"> peck                    </font></mark><mark style=\"background-color: hsl(0, 75%, 98%); opacity:1.0;                     line-height:1.75\"><font color=\"black\"> negotiated                    </font></mark><mark style=\"background-color: hsl(0, 75%, 100%); opacity:1.0;                     line-height:1.75\"><font color=\"black\"> a                    </font></mark><mark style=\"background-color: hsl(120, 75%, 92%); opacity:1.0;                     line-height:1.75\"><font color=\"black\"> licensing                    </font></mark><mark style=\"background-color: hsl(0, 75%, 99%); opacity:1.0;                     line-height:1.75\"><font color=\"black\"> deal                    </font></mark><mark style=\"background-color: hsl(120, 75%, 95%); opacity:1.0;                     line-height:1.75\"><font color=\"black\"> with                    </font></mark><mark style=\"background-color: hsl(0, 75%, 100%); opacity:1.0;                     line-height:1.75\"><font color=\"black\"> george                    </font></mark><mark style=\"background-color: hsl(0, 75%, 95%); opacity:1.0;                     line-height:1.75\"><font color=\"black\"> westinghouse                    </font></mark><mark style=\"background-color: hsl(120, 75%, 96%); opacity:1.0;                     line-height:1.75\"><font color=\"black\"> for                    </font></mark><mark style=\"background-color: hsl(120, 75%, 93%); opacity:1.0;                     line-height:1.75\"><font color=\"black\"> tesla's                    </font></mark><mark style=\"background-color: hsl(0, 75%, 94%); opacity:1.0;                     line-height:1.75\"><font color=\"black\"> polyphase                    </font></mark><mark style=\"background-color: hsl(120, 75%, 100%); opacity:1.0;                     line-height:1.75\"><font color=\"black\"> induction                    </font></mark><mark style=\"background-color: hsl(120, 75%, 99%); opacity:1.0;                     line-height:1.75\"><font color=\"black\"> motor                    </font></mark><mark style=\"background-color: hsl(0, 75%, 99%); opacity:1.0;                     line-height:1.75\"><font color=\"black\"> and                    </font></mark><mark style=\"background-color: hsl(0, 75%, 99%); opacity:1.0;                     line-height:1.75\"><font color=\"black\"> transformer                    </font></mark><mark style=\"background-color: hsl(0, 75%, 96%); opacity:1.0;                     line-height:1.75\"><font color=\"black\"> designs                    </font></mark><mark style=\"background-color: hsl(120, 75%, 94%); opacity:1.0;                     line-height:1.75\"><font color=\"black\"> for                    </font></mark><mark style=\"background-color: hsl(0, 75%, 100%); opacity:1.0;                     line-height:1.75\"><font color=\"black\"> $60,000                    </font></mark><mark style=\"background-color: hsl(0, 75%, 93%); opacity:1.0;                     line-height:1.75\"><font color=\"black\"> in                    </font></mark><mark style=\"background-color: hsl(120, 75%, 100%); opacity:1.0;                     line-height:1.75\"><font color=\"black\"> cash                    </font></mark><mark style=\"background-color: hsl(120, 75%, 90%); opacity:1.0;                     line-height:1.75\"><font color=\"black\"> and                    </font></mark><mark style=\"background-color: hsl(0, 75%, 100%); opacity:1.0;                     line-height:1.75\"><font color=\"black\"> stock                    </font></mark><mark style=\"background-color: hsl(120, 75%, 93%); opacity:1.0;                     line-height:1.75\"><font color=\"black\"> and                    </font></mark><mark style=\"background-color: hsl(120, 75%, 93%); opacity:1.0;                     line-height:1.75\"><font color=\"black\"> a                    </font></mark><mark style=\"background-color: hsl(120, 75%, 96%); opacity:1.0;                     line-height:1.75\"><font color=\"black\"> royalty                    </font></mark><mark style=\"background-color: hsl(120, 75%, 98%); opacity:1.0;                     line-height:1.75\"><font color=\"black\"> of                    </font></mark><mark style=\"background-color: hsl(120, 75%, 94%); opacity:1.0;                     line-height:1.75\"><font color=\"black\"> $2.50                    </font></mark><mark style=\"background-color: hsl(120, 75%, 89%); opacity:1.0;                     line-height:1.75\"><font color=\"black\"> per                    </font></mark><mark style=\"background-color: hsl(120, 75%, 93%); opacity:1.0;                     line-height:1.75\"><font color=\"black\"> ac                    </font></mark><mark style=\"background-color: hsl(120, 75%, 95%); opacity:1.0;                     line-height:1.75\"><font color=\"black\"> horsepower                    </font></mark><mark style=\"background-color: hsl(120, 75%, 97%); opacity:1.0;                     line-height:1.75\"><font color=\"black\"> produced                    </font></mark><mark style=\"background-color: hsl(0, 75%, 100%); opacity:1.0;                     line-height:1.75\"><font color=\"black\"> by                    </font></mark><mark style=\"background-color: hsl(0, 75%, 99%); opacity:1.0;                     line-height:1.75\"><font color=\"black\"> each                    </font></mark><mark style=\"background-color: hsl(0, 75%, 97%); opacity:1.0;                     line-height:1.75\"><font color=\"black\"> motor.                    </font></mark><mark style=\"background-color: hsl(120, 75%, 97%); opacity:1.0;                     line-height:1.75\"><font color=\"black\"> [SEP]                    </font></mark></td><tr></table>"
      ],
      "text/plain": [
       "<IPython.core.display.HTML object>"
      ]
     },
     "metadata": {},
     "output_type": "display_data"
    },
    {
     "name": "stderr",
     "output_type": "stream",
     "text": [
      "/home/user/anaconda3/envs/metric/lib/python3.9/site-packages/captum/attr/_core/lime.py:1096: UserWarning: Attempting to construct interpretable model with > 10000 features.This can be very slow or lead to OOM issues. Please provide a featuremask which groups input features to reduce the number of interpretablefeatures. \n",
      "  warnings.warn(\n"
     ]
    },
    {
     "name": "stdout",
     "output_type": "stream",
     "text": [
      "<IPython.core.display.HTML object>\n",
      "Raw datum: [\"What type of movies were produced in Jacksonville's 30 studios?\", 'One converted movie studio site, Norman Studios, remains in Arlington; It has been converted to the Jacksonville Silent Film Museum at Norman Studios.']\n",
      "GT target: 0\n"
     ]
    },
    {
     "name": "stderr",
     "output_type": "stream",
     "text": [
      "Lime attribution: 100%|██████████████████████████████████████████████████████████████████████████████████████████████████████████| 5/5 [00:06<00:00,  1.31s/it]\n"
     ]
    },
    {
     "name": "stdout",
     "output_type": "stream",
     "text": [
      "word attr tensor([ 0.7202, -0.1905, -0.0031, -0.0623,  0.0014,  0.1799, -0.0827,  0.0870,\n",
      "        -0.0852, -0.0511,  0.1103,  0.0524,  0.0713,  0.0247,  0.0634, -0.0354,\n",
      "        -0.0205, -0.0610, -0.0574,  0.0408, -0.0818, -0.0105, -0.1579,  0.0178,\n",
      "         0.0500, -0.0545,  0.0492,  0.0640, -0.0966,  0.0519,  0.0605, -0.1743,\n",
      "        -0.1097, -0.1772, -0.0102,  0.0950,  0.0623, -0.1158,  0.4251, -0.0212,\n",
      "        -0.0154, -0.0757, -0.0238, -0.0435], device='cuda:0')\n",
      "conti attr [tensor(0.7202, device='cuda:0'), tensor(-0.1905, device='cuda:0'), tensor(-0.0031, device='cuda:0'), tensor(-0.0623, device='cuda:0'), tensor(0.0014, device='cuda:0'), tensor(0.1799, device='cuda:0'), tensor(-0.0827, device='cuda:0'), tensor(0.0870, device='cuda:0'), tensor(0.0211, device='cuda:0'), tensor(0.0524, device='cuda:0'), tensor(0.0480, device='cuda:0'), tensor(0.0634, device='cuda:0'), tensor(-0.0354, device='cuda:0'), tensor(-0.0205, device='cuda:0'), tensor(-0.0610, device='cuda:0'), tensor(-0.0574, device='cuda:0'), tensor(0.0408, device='cuda:0'), tensor(-0.0461, device='cuda:0'), tensor(-0.1579, device='cuda:0'), tensor(0.0339, device='cuda:0'), tensor(-0.0545, device='cuda:0'), tensor(0.0492, device='cuda:0'), tensor(-0.0163, device='cuda:0'), tensor(0.0519, device='cuda:0'), tensor(0.0605, device='cuda:0'), tensor(-0.1743, device='cuda:0'), tensor(-0.1097, device='cuda:0'), tensor(-0.1772, device='cuda:0'), tensor(-0.0102, device='cuda:0'), tensor(0.0950, device='cuda:0'), tensor(0.0623, device='cuda:0'), tensor(-0.1158, device='cuda:0'), tensor(0.4251, device='cuda:0'), tensor(-0.0212, device='cuda:0'), tensor(-0.0154, device='cuda:0'), tensor(-0.0497, device='cuda:0'), tensor(-0.0435, device='cuda:0')]\n",
      "detokenized ['[CLS]', 'what', 'type', 'of', 'movies', 'were', 'produced', 'in', 'jacksonville', \"'\", 's', '30', 'studios', '?', '[SEP]', '[SEP]', 'one', 'converted', 'movie', 'studio', 'site', ',', 'norman', 'studios', ',', 'remains', 'in', 'arlington', ';', 'it', 'has', 'been', 'converted', 'to', 'the', 'jacksonville', 'silent', 'film', 'museum', 'at', 'norman', 'studios', '.', '[SEP]']\n",
      "len conti_raw 37\n",
      "conti_raw ['[CLS]', 'what', 'type', 'of', 'movies', 'were', 'produced', 'in', \"jacksonville's\", '30', 'studios?', '[SEP]', '[SEP]', 'one', 'converted', 'movie', 'studio', 'site,', 'norman', 'studios,', 'remains', 'in', 'arlington;', 'it', 'has', 'been', 'converted', 'to', 'the', 'jacksonville', 'silent', 'film', 'museum', 'at', 'norman', 'studios.', '[SEP]']\n",
      "pred_prob 0.575401782989502\n"
     ]
    },
    {
     "data": {
      "text/html": [
       "<table width: 100%><div style=\"border-top: 1px solid; margin-top: 5px;             padding-top: 5px; display: inline-block\"><b>Legend: </b><span style=\"display: inline-block; width: 10px; height: 10px;                 border: 1px solid; background-color:                 hsl(0, 75%, 60%)\"></span> Negative  <span style=\"display: inline-block; width: 10px; height: 10px;                 border: 1px solid; background-color:                 hsl(0, 75%, 100%)\"></span> Neutral  <span style=\"display: inline-block; width: 10px; height: 10px;                 border: 1px solid; background-color:                 hsl(120, 75%, 50%)\"></span> Positive  </div><tr><th>True Label</th><th>Predicted Label</th><th>Attribution Label</th><th>Attribution Score</th><th>Word Importance</th><tr><td><text style=\"padding-right:2em\"><b>No Entailment</b></text></td><td><text style=\"padding-right:2em\"><b>Entailment (0.58)</b></text></td><td><text style=\"padding-right:2em\"><b>No Entailment</b></text></td><td><text style=\"padding-right:2em\"><b>0.41</b></text></td><td><mark style=\"background-color: hsl(120, 75%, 64%); opacity:1.0;                     line-height:1.75\"><font color=\"black\"> [CLS]                    </font></mark><mark style=\"background-color: hsl(0, 75%, 93%); opacity:1.0;                     line-height:1.75\"><font color=\"black\"> what                    </font></mark><mark style=\"background-color: hsl(0, 75%, 100%); opacity:1.0;                     line-height:1.75\"><font color=\"black\"> type                    </font></mark><mark style=\"background-color: hsl(0, 75%, 98%); opacity:1.0;                     line-height:1.75\"><font color=\"black\"> of                    </font></mark><mark style=\"background-color: hsl(120, 75%, 100%); opacity:1.0;                     line-height:1.75\"><font color=\"black\"> movies                    </font></mark><mark style=\"background-color: hsl(120, 75%, 92%); opacity:1.0;                     line-height:1.75\"><font color=\"black\"> were                    </font></mark><mark style=\"background-color: hsl(0, 75%, 97%); opacity:1.0;                     line-height:1.75\"><font color=\"black\"> produced                    </font></mark><mark style=\"background-color: hsl(120, 75%, 96%); opacity:1.0;                     line-height:1.75\"><font color=\"black\"> in                    </font></mark><mark style=\"background-color: hsl(120, 75%, 99%); opacity:1.0;                     line-height:1.75\"><font color=\"black\"> jacksonville's                    </font></mark><mark style=\"background-color: hsl(120, 75%, 98%); opacity:1.0;                     line-height:1.75\"><font color=\"black\"> 30                    </font></mark><mark style=\"background-color: hsl(120, 75%, 98%); opacity:1.0;                     line-height:1.75\"><font color=\"black\"> studios?                    </font></mark><mark style=\"background-color: hsl(120, 75%, 97%); opacity:1.0;                     line-height:1.75\"><font color=\"black\"> [SEP]                    </font></mark><mark style=\"background-color: hsl(0, 75%, 99%); opacity:1.0;                     line-height:1.75\"><font color=\"black\"> [SEP]                    </font></mark><mark style=\"background-color: hsl(0, 75%, 100%); opacity:1.0;                     line-height:1.75\"><font color=\"black\"> one                    </font></mark><mark style=\"background-color: hsl(0, 75%, 98%); opacity:1.0;                     line-height:1.75\"><font color=\"black\"> converted                    </font></mark><mark style=\"background-color: hsl(0, 75%, 98%); opacity:1.0;                     line-height:1.75\"><font color=\"black\"> movie                    </font></mark><mark style=\"background-color: hsl(120, 75%, 98%); opacity:1.0;                     line-height:1.75\"><font color=\"black\"> studio                    </font></mark><mark style=\"background-color: hsl(0, 75%, 99%); opacity:1.0;                     line-height:1.75\"><font color=\"black\"> site,                    </font></mark><mark style=\"background-color: hsl(0, 75%, 94%); opacity:1.0;                     line-height:1.75\"><font color=\"black\"> norman                    </font></mark><mark style=\"background-color: hsl(120, 75%, 99%); opacity:1.0;                     line-height:1.75\"><font color=\"black\"> studios,                    </font></mark><mark style=\"background-color: hsl(0, 75%, 98%); opacity:1.0;                     line-height:1.75\"><font color=\"black\"> remains                    </font></mark><mark style=\"background-color: hsl(120, 75%, 98%); opacity:1.0;                     line-height:1.75\"><font color=\"black\"> in                    </font></mark><mark style=\"background-color: hsl(0, 75%, 100%); opacity:1.0;                     line-height:1.75\"><font color=\"black\"> arlington;                    </font></mark><mark style=\"background-color: hsl(120, 75%, 98%); opacity:1.0;                     line-height:1.75\"><font color=\"black\"> it                    </font></mark><mark style=\"background-color: hsl(120, 75%, 97%); opacity:1.0;                     line-height:1.75\"><font color=\"black\"> has                    </font></mark><mark style=\"background-color: hsl(0, 75%, 94%); opacity:1.0;                     line-height:1.75\"><font color=\"black\"> been                    </font></mark><mark style=\"background-color: hsl(0, 75%, 96%); opacity:1.0;                     line-height:1.75\"><font color=\"black\"> converted                    </font></mark><mark style=\"background-color: hsl(0, 75%, 93%); opacity:1.0;                     line-height:1.75\"><font color=\"black\"> to                    </font></mark><mark style=\"background-color: hsl(0, 75%, 100%); opacity:1.0;                     line-height:1.75\"><font color=\"black\"> the                    </font></mark><mark style=\"background-color: hsl(120, 75%, 96%); opacity:1.0;                     line-height:1.75\"><font color=\"black\"> jacksonville                    </font></mark><mark style=\"background-color: hsl(120, 75%, 97%); opacity:1.0;                     line-height:1.75\"><font color=\"black\"> silent                    </font></mark><mark style=\"background-color: hsl(0, 75%, 96%); opacity:1.0;                     line-height:1.75\"><font color=\"black\"> film                    </font></mark><mark style=\"background-color: hsl(120, 75%, 79%); opacity:1.0;                     line-height:1.75\"><font color=\"black\"> museum                    </font></mark><mark style=\"background-color: hsl(0, 75%, 100%); opacity:1.0;                     line-height:1.75\"><font color=\"black\"> at                    </font></mark><mark style=\"background-color: hsl(0, 75%, 100%); opacity:1.0;                     line-height:1.75\"><font color=\"black\"> norman                    </font></mark><mark style=\"background-color: hsl(0, 75%, 99%); opacity:1.0;                     line-height:1.75\"><font color=\"black\"> studios.                    </font></mark><mark style=\"background-color: hsl(0, 75%, 99%); opacity:1.0;                     line-height:1.75\"><font color=\"black\"> [SEP]                    </font></mark></td><tr></table>"
      ],
      "text/plain": [
       "<IPython.core.display.HTML object>"
      ]
     },
     "metadata": {},
     "output_type": "display_data"
    },
    {
     "name": "stderr",
     "output_type": "stream",
     "text": [
      "/home/user/anaconda3/envs/metric/lib/python3.9/site-packages/captum/attr/_core/lime.py:1096: UserWarning: Attempting to construct interpretable model with > 10000 features.This can be very slow or lead to OOM issues. Please provide a featuremask which groups input features to reduce the number of interpretablefeatures. \n",
      "  warnings.warn(\n"
     ]
    },
    {
     "name": "stdout",
     "output_type": "stream",
     "text": [
      "<IPython.core.display.HTML object>\n",
      "Raw datum: ['What voyager said that Mombasa was a great harbour and moored small crafts and great ships?', 'The Swahili built Mombasa into a major port city and established trade links with other nearby city-states, as well as commercial centres in Persia, Arabia, and even India.']\n",
      "GT target: 0\n"
     ]
    },
    {
     "name": "stderr",
     "output_type": "stream",
     "text": [
      "Lime attribution: 100%|██████████████████████████████████████████████████████████████████████████████████████████████████████████| 5/5 [00:07<00:00,  1.55s/it]\n"
     ]
    },
    {
     "name": "stdout",
     "output_type": "stream",
     "text": [
      "word attr tensor([-8.2957e-02,  3.6182e-01,  5.9165e-01, -4.2916e-05, -3.2314e-02,\n",
      "         5.5882e-02,  3.3820e-02,  1.0076e-01, -2.5552e-02,  6.7155e-02,\n",
      "         2.4865e-01,  1.4861e-01,  9.3080e-02, -6.0994e-02,  2.4686e-02,\n",
      "        -2.3760e-02,  5.9513e-02,  9.0853e-02, -1.5704e-02,  3.5710e-03,\n",
      "        -4.2989e-02, -1.0244e-01,  6.1682e-02,  1.8177e-02, -1.2077e-01,\n",
      "        -3.1175e-02,  4.7250e-02,  1.4195e-01, -9.6264e-02, -7.9758e-02,\n",
      "        -8.0515e-02,  2.3712e-01, -8.1251e-03, -1.0131e-01, -7.8625e-02,\n",
      "        -3.2930e-02,  5.8017e-02,  4.7153e-02,  1.1240e-01,  2.5597e-02,\n",
      "        -1.4261e-01, -1.2105e-01, -4.6391e-02,  1.8021e-02,  1.2450e-01,\n",
      "        -3.6686e-02,  3.5336e-02,  2.5922e-02,  6.1564e-02, -9.4531e-04,\n",
      "        -2.1246e-01,  6.4198e-02,  1.9936e-02, -1.8528e-01, -1.3690e-01,\n",
      "        -2.2084e-03,  4.6395e-02, -1.2861e-01, -2.9921e-02, -6.6090e-02,\n",
      "        -1.2673e-01, -1.0001e-01], device='cuda:0')\n",
      "conti attr [tensor(-0.0830, device='cuda:0'), tensor(0.3618, device='cuda:0'), tensor(0.5916, device='cuda:0'), tensor(-4.2916e-05, device='cuda:0'), tensor(-0.0323, device='cuda:0'), tensor(0.0728, device='cuda:0'), tensor(-0.0256, device='cuda:0'), tensor(0.0672, device='cuda:0'), tensor(0.2487, device='cuda:0'), tensor(0.1486, device='cuda:0'), tensor(0.0931, device='cuda:0'), tensor(-0.0182, device='cuda:0'), tensor(-0.0238, device='cuda:0'), tensor(0.0595, device='cuda:0'), tensor(0.0909, device='cuda:0'), tensor(-0.0157, device='cuda:0'), tensor(-0.0197, device='cuda:0'), tensor(-0.1024, device='cuda:0'), tensor(0.0617, device='cuda:0'), tensor(0.0182, device='cuda:0'), tensor(-0.0144, device='cuda:0'), tensor(0.1419, device='cuda:0'), tensor(-0.0843, device='cuda:0'), tensor(0.2371, device='cuda:0'), tensor(-0.0081, device='cuda:0'), tensor(-0.1013, device='cuda:0'), tensor(-0.0786, device='cuda:0'), tensor(-0.0329, device='cuda:0'), tensor(0.0580, device='cuda:0'), tensor(0.0472, device='cuda:0'), tensor(0.1124, device='cuda:0'), tensor(0.0256, device='cuda:0'), tensor(-0.1426, device='cuda:0'), tensor(-0.1211, device='cuda:0'), tensor(-0.0464, device='cuda:0'), tensor(0.0263, device='cuda:0'), tensor(0.0259, device='cuda:0'), tensor(0.0616, device='cuda:0'), tensor(-0.0009, device='cuda:0'), tensor(-0.2125, device='cuda:0'), tensor(0.0642, device='cuda:0'), tensor(0.0199, device='cuda:0'), tensor(-0.1611, device='cuda:0'), tensor(0.0221, device='cuda:0'), tensor(-0.1286, device='cuda:0'), tensor(-0.0299, device='cuda:0'), tensor(-0.0964, device='cuda:0'), tensor(-0.1000, device='cuda:0')]\n",
      "detokenized ['[CLS]', 'what', 'voyager', 'said', 'that', 'mom', 'bas', 'a', 'was', 'a', 'great', 'harbour', 'and', 'moore', 'd', 'small', 'crafts', 'and', 'great', 'ships', '?', '[SEP]', '[SEP]', 'the', 'sw', 'ah', 'ili', 'built', 'mom', 'bas', 'a', 'into', 'a', 'major', 'port', 'city', 'and', 'established', 'trade', 'links', 'with', 'other', 'nearby', 'city', '-', 'states', ',', 'as', 'well', 'as', 'commercial', 'centres', 'in', 'persia', ',', 'arabia', ',', 'and', 'even', 'india', '.', '[SEP]']\n",
      "len conti_raw 48\n",
      "conti_raw ['[CLS]', 'what', 'voyager', 'said', 'that', 'mombasa', 'was', 'a', 'great', 'harbour', 'and', 'moored', 'small', 'crafts', 'and', 'great', 'ships?', '[SEP]', '[SEP]', 'the', 'swahili', 'built', 'mombasa', 'into', 'a', 'major', 'port', 'city', 'and', 'established', 'trade', 'links', 'with', 'other', 'nearby', 'city-states,', 'as', 'well', 'as', 'commercial', 'centres', 'in', 'persia,', 'arabia,', 'and', 'even', 'india.', '[SEP]']\n",
      "pred_prob 0.9446513652801514\n"
     ]
    },
    {
     "data": {
      "text/html": [
       "<table width: 100%><div style=\"border-top: 1px solid; margin-top: 5px;             padding-top: 5px; display: inline-block\"><b>Legend: </b><span style=\"display: inline-block; width: 10px; height: 10px;                 border: 1px solid; background-color:                 hsl(0, 75%, 60%)\"></span> Negative  <span style=\"display: inline-block; width: 10px; height: 10px;                 border: 1px solid; background-color:                 hsl(0, 75%, 100%)\"></span> Neutral  <span style=\"display: inline-block; width: 10px; height: 10px;                 border: 1px solid; background-color:                 hsl(120, 75%, 50%)\"></span> Positive  </div><tr><th>True Label</th><th>Predicted Label</th><th>Attribution Label</th><th>Attribution Score</th><th>Word Importance</th><tr><td><text style=\"padding-right:2em\"><b>No Entailment</b></text></td><td><text style=\"padding-right:2em\"><b>Entailment (0.94)</b></text></td><td><text style=\"padding-right:2em\"><b>Entailment</b></text></td><td><text style=\"padding-right:2em\"><b>0.67</b></text></td><td><mark style=\"background-color: hsl(0, 75%, 97%); opacity:1.0;                     line-height:1.75\"><font color=\"black\"> [CLS]                    </font></mark><mark style=\"background-color: hsl(120, 75%, 82%); opacity:1.0;                     line-height:1.75\"><font color=\"black\"> what                    </font></mark><mark style=\"background-color: hsl(120, 75%, 71%); opacity:1.0;                     line-height:1.75\"><font color=\"black\"> voyager                    </font></mark><mark style=\"background-color: hsl(0, 75%, 100%); opacity:1.0;                     line-height:1.75\"><font color=\"black\"> said                    </font></mark><mark style=\"background-color: hsl(0, 75%, 99%); opacity:1.0;                     line-height:1.75\"><font color=\"black\"> that                    </font></mark><mark style=\"background-color: hsl(120, 75%, 97%); opacity:1.0;                     line-height:1.75\"><font color=\"black\"> mombasa                    </font></mark><mark style=\"background-color: hsl(0, 75%, 99%); opacity:1.0;                     line-height:1.75\"><font color=\"black\"> was                    </font></mark><mark style=\"background-color: hsl(120, 75%, 97%); opacity:1.0;                     line-height:1.75\"><font color=\"black\"> a                    </font></mark><mark style=\"background-color: hsl(120, 75%, 88%); opacity:1.0;                     line-height:1.75\"><font color=\"black\"> great                    </font></mark><mark style=\"background-color: hsl(120, 75%, 93%); opacity:1.0;                     line-height:1.75\"><font color=\"black\"> harbour                    </font></mark><mark style=\"background-color: hsl(120, 75%, 96%); opacity:1.0;                     line-height:1.75\"><font color=\"black\"> and                    </font></mark><mark style=\"background-color: hsl(0, 75%, 100%); opacity:1.0;                     line-height:1.75\"><font color=\"black\"> moored                    </font></mark><mark style=\"background-color: hsl(0, 75%, 100%); opacity:1.0;                     line-height:1.75\"><font color=\"black\"> small                    </font></mark><mark style=\"background-color: hsl(120, 75%, 98%); opacity:1.0;                     line-height:1.75\"><font color=\"black\"> crafts                    </font></mark><mark style=\"background-color: hsl(120, 75%, 96%); opacity:1.0;                     line-height:1.75\"><font color=\"black\"> and                    </font></mark><mark style=\"background-color: hsl(0, 75%, 100%); opacity:1.0;                     line-height:1.75\"><font color=\"black\"> great                    </font></mark><mark style=\"background-color: hsl(0, 75%, 100%); opacity:1.0;                     line-height:1.75\"><font color=\"black\"> ships?                    </font></mark><mark style=\"background-color: hsl(0, 75%, 96%); opacity:1.0;                     line-height:1.75\"><font color=\"black\"> [SEP]                    </font></mark><mark style=\"background-color: hsl(120, 75%, 97%); opacity:1.0;                     line-height:1.75\"><font color=\"black\"> [SEP]                    </font></mark><mark style=\"background-color: hsl(120, 75%, 100%); opacity:1.0;                     line-height:1.75\"><font color=\"black\"> the                    </font></mark><mark style=\"background-color: hsl(0, 75%, 100%); opacity:1.0;                     line-height:1.75\"><font color=\"black\"> swahili                    </font></mark><mark style=\"background-color: hsl(120, 75%, 93%); opacity:1.0;                     line-height:1.75\"><font color=\"black\"> built                    </font></mark><mark style=\"background-color: hsl(0, 75%, 97%); opacity:1.0;                     line-height:1.75\"><font color=\"black\"> mombasa                    </font></mark><mark style=\"background-color: hsl(120, 75%, 89%); opacity:1.0;                     line-height:1.75\"><font color=\"black\"> into                    </font></mark><mark style=\"background-color: hsl(0, 75%, 100%); opacity:1.0;                     line-height:1.75\"><font color=\"black\"> a                    </font></mark><mark style=\"background-color: hsl(0, 75%, 96%); opacity:1.0;                     line-height:1.75\"><font color=\"black\"> major                    </font></mark><mark style=\"background-color: hsl(0, 75%, 97%); opacity:1.0;                     line-height:1.75\"><font color=\"black\"> port                    </font></mark><mark style=\"background-color: hsl(0, 75%, 99%); opacity:1.0;                     line-height:1.75\"><font color=\"black\"> city                    </font></mark><mark style=\"background-color: hsl(120, 75%, 98%); opacity:1.0;                     line-height:1.75\"><font color=\"black\"> and                    </font></mark><mark style=\"background-color: hsl(120, 75%, 98%); opacity:1.0;                     line-height:1.75\"><font color=\"black\"> established                    </font></mark><mark style=\"background-color: hsl(120, 75%, 95%); opacity:1.0;                     line-height:1.75\"><font color=\"black\"> trade                    </font></mark><mark style=\"background-color: hsl(120, 75%, 99%); opacity:1.0;                     line-height:1.75\"><font color=\"black\"> links                    </font></mark><mark style=\"background-color: hsl(0, 75%, 95%); opacity:1.0;                     line-height:1.75\"><font color=\"black\"> with                    </font></mark><mark style=\"background-color: hsl(0, 75%, 96%); opacity:1.0;                     line-height:1.75\"><font color=\"black\"> other                    </font></mark><mark style=\"background-color: hsl(0, 75%, 99%); opacity:1.0;                     line-height:1.75\"><font color=\"black\"> nearby                    </font></mark><mark style=\"background-color: hsl(120, 75%, 99%); opacity:1.0;                     line-height:1.75\"><font color=\"black\"> city-states,                    </font></mark><mark style=\"background-color: hsl(120, 75%, 99%); opacity:1.0;                     line-height:1.75\"><font color=\"black\"> as                    </font></mark><mark style=\"background-color: hsl(120, 75%, 97%); opacity:1.0;                     line-height:1.75\"><font color=\"black\"> well                    </font></mark><mark style=\"background-color: hsl(0, 75%, 100%); opacity:1.0;                     line-height:1.75\"><font color=\"black\"> as                    </font></mark><mark style=\"background-color: hsl(0, 75%, 92%); opacity:1.0;                     line-height:1.75\"><font color=\"black\"> commercial                    </font></mark><mark style=\"background-color: hsl(120, 75%, 97%); opacity:1.0;                     line-height:1.75\"><font color=\"black\"> centres                    </font></mark><mark style=\"background-color: hsl(120, 75%, 100%); opacity:1.0;                     line-height:1.75\"><font color=\"black\"> in                    </font></mark><mark style=\"background-color: hsl(0, 75%, 94%); opacity:1.0;                     line-height:1.75\"><font color=\"black\"> persia,                    </font></mark><mark style=\"background-color: hsl(120, 75%, 99%); opacity:1.0;                     line-height:1.75\"><font color=\"black\"> arabia,                    </font></mark><mark style=\"background-color: hsl(0, 75%, 95%); opacity:1.0;                     line-height:1.75\"><font color=\"black\"> and                    </font></mark><mark style=\"background-color: hsl(0, 75%, 99%); opacity:1.0;                     line-height:1.75\"><font color=\"black\"> even                    </font></mark><mark style=\"background-color: hsl(0, 75%, 97%); opacity:1.0;                     line-height:1.75\"><font color=\"black\"> india.                    </font></mark><mark style=\"background-color: hsl(0, 75%, 96%); opacity:1.0;                     line-height:1.75\"><font color=\"black\"> [SEP]                    </font></mark></td><tr></table>"
      ],
      "text/plain": [
       "<IPython.core.display.HTML object>"
      ]
     },
     "metadata": {},
     "output_type": "display_data"
    },
    {
     "name": "stderr",
     "output_type": "stream",
     "text": [
      "/home/user/anaconda3/envs/metric/lib/python3.9/site-packages/captum/attr/_core/lime.py:1096: UserWarning: Attempting to construct interpretable model with > 10000 features.This can be very slow or lead to OOM issues. Please provide a featuremask which groups input features to reduce the number of interpretablefeatures. \n",
      "  warnings.warn(\n"
     ]
    },
    {
     "name": "stdout",
     "output_type": "stream",
     "text": [
      "<IPython.core.display.HTML object>\n",
      "Raw datum: ['Where is Energiprojekt AB based?', 'Although the reciprocating steam engine is no longer in widespread commercial use, various companies are exploring or exploiting the potential of the engine as an alternative to internal combustion engines.']\n",
      "GT target: 0\n"
     ]
    },
    {
     "name": "stderr",
     "output_type": "stream",
     "text": [
      "Lime attribution: 100%|██████████████████████████████████████████████████████████████████████████████████████████████████████████| 5/5 [00:06<00:00,  1.21s/it]\n"
     ]
    },
    {
     "name": "stdout",
     "output_type": "stream",
     "text": [
      "word attr tensor([ 0.3871, -0.1124, -0.1242, -0.0144,  0.2042,  0.1029,  0.0562,  0.0995,\n",
      "         0.0461,  0.4017,  0.1458, -0.1085, -0.0058,  0.0728,  0.0735,  0.0388,\n",
      "        -0.1754, -0.0630,  0.1142,  0.0193,  0.1727,  0.0692,  0.1983,  0.1114,\n",
      "         0.1033, -0.0120, -0.0788, -0.0086,  0.1920, -0.1222, -0.0172,  0.1766,\n",
      "         0.1055,  0.0043, -0.0839,  0.0166,  0.1570, -0.1627,  0.2618, -0.1919,\n",
      "        -0.1841, -0.1133,  0.1840,  0.0517,  0.0133,  0.0358,  0.1403,  0.0495,\n",
      "         0.1023, -0.0624,  0.1296], device='cuda:0')\n",
      "conti attr [tensor(0.3871, device='cuda:0'), tensor(-0.1124, device='cuda:0'), tensor(-0.1242, device='cuda:0'), tensor(0.0673, device='cuda:0'), tensor(0.4017, device='cuda:0'), tensor(0.0186, device='cuda:0'), tensor(-0.0058, device='cuda:0'), tensor(0.0728, device='cuda:0'), tensor(0.0735, device='cuda:0'), tensor(0.0388, device='cuda:0'), tensor(0.0084, device='cuda:0'), tensor(0.1727, device='cuda:0'), tensor(0.0692, device='cuda:0'), tensor(0.1983, device='cuda:0'), tensor(0.1114, device='cuda:0'), tensor(0.1033, device='cuda:0'), tensor(-0.0120, device='cuda:0'), tensor(-0.0788, device='cuda:0'), tensor(-0.0086, device='cuda:0'), tensor(0.0349, device='cuda:0'), tensor(-0.0172, device='cuda:0'), tensor(0.1766, device='cuda:0'), tensor(0.1055, device='cuda:0'), tensor(0.0043, device='cuda:0'), tensor(-0.0839, device='cuda:0'), tensor(0.0868, device='cuda:0'), tensor(-0.1627, device='cuda:0'), tensor(0.2618, device='cuda:0'), tensor(-0.1919, device='cuda:0'), tensor(-0.1841, device='cuda:0'), tensor(-0.1133, device='cuda:0'), tensor(0.1840, device='cuda:0'), tensor(0.0517, device='cuda:0'), tensor(0.0133, device='cuda:0'), tensor(0.0358, device='cuda:0'), tensor(0.1403, device='cuda:0'), tensor(0.0495, device='cuda:0'), tensor(0.0199, device='cuda:0'), tensor(0.1296, device='cuda:0')]\n",
      "detokenized ['[CLS]', 'where', 'is', 'en', 'er', 'gi', 'pro', 'je', 'kt', 'ab', 'based', '?', '[SEP]', '[SEP]', 'although', 'the', 'rec', 'ip', 'ro', 'cating', 'steam', 'engine', 'is', 'no', 'longer', 'in', 'widespread', 'commercial', 'use', ',', 'various', 'companies', 'are', 'exploring', 'or', 'exploit', 'ing', 'the', 'potential', 'of', 'the', 'engine', 'as', 'an', 'alternative', 'to', 'internal', 'combustion', 'engines', '.', '[SEP]']\n",
      "len conti_raw 39\n",
      "conti_raw ['[CLS]', 'where', 'is', 'energiprojekt', 'ab', 'based?', '[SEP]', '[SEP]', 'although', 'the', 'reciprocating', 'steam', 'engine', 'is', 'no', 'longer', 'in', 'widespread', 'commercial', 'use,', 'various', 'companies', 'are', 'exploring', 'or', 'exploiting', 'the', 'potential', 'of', 'the', 'engine', 'as', 'an', 'alternative', 'to', 'internal', 'combustion', 'engines.', '[SEP]']\n",
      "pred_prob 0.8502684831619263\n"
     ]
    },
    {
     "data": {
      "text/html": [
       "<table width: 100%><div style=\"border-top: 1px solid; margin-top: 5px;             padding-top: 5px; display: inline-block\"><b>Legend: </b><span style=\"display: inline-block; width: 10px; height: 10px;                 border: 1px solid; background-color:                 hsl(0, 75%, 60%)\"></span> Negative  <span style=\"display: inline-block; width: 10px; height: 10px;                 border: 1px solid; background-color:                 hsl(0, 75%, 100%)\"></span> Neutral  <span style=\"display: inline-block; width: 10px; height: 10px;                 border: 1px solid; background-color:                 hsl(120, 75%, 50%)\"></span> Positive  </div><tr><th>True Label</th><th>Predicted Label</th><th>Attribution Label</th><th>Attribution Score</th><th>Word Importance</th><tr><td><text style=\"padding-right:2em\"><b>No Entailment</b></text></td><td><text style=\"padding-right:2em\"><b>Entailment (0.85)</b></text></td><td><text style=\"padding-right:2em\"><b>Entailment</b></text></td><td><text style=\"padding-right:2em\"><b>2.40</b></text></td><td><mark style=\"background-color: hsl(120, 75%, 81%); opacity:1.0;                     line-height:1.75\"><font color=\"black\"> [CLS]                    </font></mark><mark style=\"background-color: hsl(0, 75%, 96%); opacity:1.0;                     line-height:1.75\"><font color=\"black\"> where                    </font></mark><mark style=\"background-color: hsl(0, 75%, 96%); opacity:1.0;                     line-height:1.75\"><font color=\"black\"> is                    </font></mark><mark style=\"background-color: hsl(120, 75%, 97%); opacity:1.0;                     line-height:1.75\"><font color=\"black\"> energiprojekt                    </font></mark><mark style=\"background-color: hsl(120, 75%, 80%); opacity:1.0;                     line-height:1.75\"><font color=\"black\"> ab                    </font></mark><mark style=\"background-color: hsl(120, 75%, 100%); opacity:1.0;                     line-height:1.75\"><font color=\"black\"> based?                    </font></mark><mark style=\"background-color: hsl(0, 75%, 100%); opacity:1.0;                     line-height:1.75\"><font color=\"black\"> [SEP]                    </font></mark><mark style=\"background-color: hsl(120, 75%, 97%); opacity:1.0;                     line-height:1.75\"><font color=\"black\"> [SEP]                    </font></mark><mark style=\"background-color: hsl(120, 75%, 97%); opacity:1.0;                     line-height:1.75\"><font color=\"black\"> although                    </font></mark><mark style=\"background-color: hsl(120, 75%, 99%); opacity:1.0;                     line-height:1.75\"><font color=\"black\"> the                    </font></mark><mark style=\"background-color: hsl(120, 75%, 100%); opacity:1.0;                     line-height:1.75\"><font color=\"black\"> reciprocating                    </font></mark><mark style=\"background-color: hsl(120, 75%, 92%); opacity:1.0;                     line-height:1.75\"><font color=\"black\"> steam                    </font></mark><mark style=\"background-color: hsl(120, 75%, 97%); opacity:1.0;                     line-height:1.75\"><font color=\"black\"> engine                    </font></mark><mark style=\"background-color: hsl(120, 75%, 91%); opacity:1.0;                     line-height:1.75\"><font color=\"black\"> is                    </font></mark><mark style=\"background-color: hsl(120, 75%, 95%); opacity:1.0;                     line-height:1.75\"><font color=\"black\"> no                    </font></mark><mark style=\"background-color: hsl(120, 75%, 95%); opacity:1.0;                     line-height:1.75\"><font color=\"black\"> longer                    </font></mark><mark style=\"background-color: hsl(0, 75%, 100%); opacity:1.0;                     line-height:1.75\"><font color=\"black\"> in                    </font></mark><mark style=\"background-color: hsl(0, 75%, 97%); opacity:1.0;                     line-height:1.75\"><font color=\"black\"> widespread                    </font></mark><mark style=\"background-color: hsl(0, 75%, 100%); opacity:1.0;                     line-height:1.75\"><font color=\"black\"> commercial                    </font></mark><mark style=\"background-color: hsl(120, 75%, 99%); opacity:1.0;                     line-height:1.75\"><font color=\"black\"> use,                    </font></mark><mark style=\"background-color: hsl(0, 75%, 100%); opacity:1.0;                     line-height:1.75\"><font color=\"black\"> various                    </font></mark><mark style=\"background-color: hsl(120, 75%, 92%); opacity:1.0;                     line-height:1.75\"><font color=\"black\"> companies                    </font></mark><mark style=\"background-color: hsl(120, 75%, 95%); opacity:1.0;                     line-height:1.75\"><font color=\"black\"> are                    </font></mark><mark style=\"background-color: hsl(120, 75%, 100%); opacity:1.0;                     line-height:1.75\"><font color=\"black\"> exploring                    </font></mark><mark style=\"background-color: hsl(0, 75%, 97%); opacity:1.0;                     line-height:1.75\"><font color=\"black\"> or                    </font></mark><mark style=\"background-color: hsl(120, 75%, 96%); opacity:1.0;                     line-height:1.75\"><font color=\"black\"> exploiting                    </font></mark><mark style=\"background-color: hsl(0, 75%, 94%); opacity:1.0;                     line-height:1.75\"><font color=\"black\"> the                    </font></mark><mark style=\"background-color: hsl(120, 75%, 87%); opacity:1.0;                     line-height:1.75\"><font color=\"black\"> potential                    </font></mark><mark style=\"background-color: hsl(0, 75%, 93%); opacity:1.0;                     line-height:1.75\"><font color=\"black\"> of                    </font></mark><mark style=\"background-color: hsl(0, 75%, 93%); opacity:1.0;                     line-height:1.75\"><font color=\"black\"> the                    </font></mark><mark style=\"background-color: hsl(0, 75%, 96%); opacity:1.0;                     line-height:1.75\"><font color=\"black\"> engine                    </font></mark><mark style=\"background-color: hsl(120, 75%, 91%); opacity:1.0;                     line-height:1.75\"><font color=\"black\"> as                    </font></mark><mark style=\"background-color: hsl(120, 75%, 98%); opacity:1.0;                     line-height:1.75\"><font color=\"black\"> an                    </font></mark><mark style=\"background-color: hsl(120, 75%, 100%); opacity:1.0;                     line-height:1.75\"><font color=\"black\"> alternative                    </font></mark><mark style=\"background-color: hsl(120, 75%, 99%); opacity:1.0;                     line-height:1.75\"><font color=\"black\"> to                    </font></mark><mark style=\"background-color: hsl(120, 75%, 93%); opacity:1.0;                     line-height:1.75\"><font color=\"black\"> internal                    </font></mark><mark style=\"background-color: hsl(120, 75%, 98%); opacity:1.0;                     line-height:1.75\"><font color=\"black\"> combustion                    </font></mark><mark style=\"background-color: hsl(120, 75%, 100%); opacity:1.0;                     line-height:1.75\"><font color=\"black\"> engines.                    </font></mark><mark style=\"background-color: hsl(120, 75%, 94%); opacity:1.0;                     line-height:1.75\"><font color=\"black\"> [SEP]                    </font></mark></td><tr></table>"
      ],
      "text/plain": [
       "<IPython.core.display.HTML object>"
      ]
     },
     "metadata": {},
     "output_type": "display_data"
    },
    {
     "name": "stderr",
     "output_type": "stream",
     "text": [
      "/home/user/anaconda3/envs/metric/lib/python3.9/site-packages/captum/attr/_core/lime.py:1096: UserWarning: Attempting to construct interpretable model with > 10000 features.This can be very slow or lead to OOM issues. Please provide a featuremask which groups input features to reduce the number of interpretablefeatures. \n",
      "  warnings.warn(\n"
     ]
    },
    {
     "name": "stdout",
     "output_type": "stream",
     "text": [
      "<IPython.core.display.HTML object>\n",
      "Raw datum: ['Who other than Tesla did Westinghouse consider for the patents?', \"Westinghouse looked into getting a patent on a similar commutator-less, rotating magnetic field-based induction motor presented in a paper in March 1888 by the Italian physicist Galileo Ferraris, but decided Tesla's patent would probably control the market.\"]\n",
      "GT target: 1\n"
     ]
    },
    {
     "name": "stderr",
     "output_type": "stream",
     "text": [
      "Lime attribution: 100%|██████████████████████████████████████████████████████████████████████████████████████████████████████████| 5/5 [00:08<00:00,  1.68s/it]\n"
     ]
    },
    {
     "name": "stdout",
     "output_type": "stream",
     "text": [
      "word attr tensor([ 0.4065, -0.2357,  0.1731,  0.0812,  0.0018, -0.0458, -0.0412,  0.0911,\n",
      "        -0.0645,  0.0892, -0.0151,  0.0480,  0.0352,  0.0468,  0.2703, -0.1876,\n",
      "        -0.2113,  0.0134,  0.0628, -0.0641, -0.1230, -0.0346, -0.0851,  0.0986,\n",
      "        -0.0606,  0.1317,  0.2063, -0.1221, -0.1027,  0.0214,  0.1044, -0.0032,\n",
      "        -0.1484,  0.1307,  0.0834, -0.1475,  0.0242, -0.0116,  0.0285,  0.1228,\n",
      "        -0.0736,  0.1000, -0.1807,  0.0087, -0.0283,  0.0834, -0.0632, -0.0036,\n",
      "         0.1519,  0.1098, -0.1248, -0.2277, -0.0396, -0.0927, -0.0650,  0.1347,\n",
      "         0.1396, -0.0215,  0.1017, -0.0126, -0.1452,  0.1542, -0.0278,  0.1243,\n",
      "         0.0940, -0.0541, -0.1770,  0.0595], device='cuda:0')\n",
      "conti attr [tensor(0.4065, device='cuda:0'), tensor(-0.2357, device='cuda:0'), tensor(0.1731, device='cuda:0'), tensor(0.0812, device='cuda:0'), tensor(0.0018, device='cuda:0'), tensor(-0.0458, device='cuda:0'), tensor(-0.0198, device='cuda:0'), tensor(0.0892, device='cuda:0'), tensor(-0.0151, device='cuda:0'), tensor(0.0480, device='cuda:0'), tensor(0.0410, device='cuda:0'), tensor(0.2703, device='cuda:0'), tensor(-0.1876, device='cuda:0'), tensor(-0.0181, device='cuda:0'), tensor(-0.0641, device='cuda:0'), tensor(-0.1230, device='cuda:0'), tensor(-0.0346, device='cuda:0'), tensor(-0.0851, device='cuda:0'), tensor(0.0986, device='cuda:0'), tensor(-0.0606, device='cuda:0'), tensor(0.1317, device='cuda:0'), tensor(0.2063, device='cuda:0'), tensor(-0.0677, device='cuda:0'), tensor(0.1307, device='cuda:0'), tensor(0.0834, device='cuda:0'), tensor(-0.0366, device='cuda:0'), tensor(0.0285, device='cuda:0'), tensor(0.1228, device='cuda:0'), tensor(-0.0736, device='cuda:0'), tensor(0.1000, device='cuda:0'), tensor(-0.1807, device='cuda:0'), tensor(0.0087, device='cuda:0'), tensor(-0.0283, device='cuda:0'), tensor(0.0834, device='cuda:0'), tensor(-0.0632, device='cuda:0'), tensor(-0.0036, device='cuda:0'), tensor(0.1519, device='cuda:0'), tensor(0.1098, device='cuda:0'), tensor(-0.1248, device='cuda:0'), tensor(-0.2277, device='cuda:0'), tensor(-0.0656, device='cuda:0'), tensor(0.1347, device='cuda:0'), tensor(0.1396, device='cuda:0'), tensor(0.0137, device='cuda:0'), tensor(-0.1452, device='cuda:0'), tensor(0.1542, device='cuda:0'), tensor(-0.0278, device='cuda:0'), tensor(0.1243, device='cuda:0'), tensor(0.0940, device='cuda:0'), tensor(-0.1155, device='cuda:0'), tensor(0.0595, device='cuda:0')]\n",
      "detokenized ['[CLS]', 'who', 'other', 'than', 'tesla', 'did', 'west', 'ing', 'house', 'consider', 'for', 'the', 'patents', '?', '[SEP]', '[SEP]', 'west', 'ing', 'house', 'looked', 'into', 'getting', 'a', 'patent', 'on', 'a', 'similar', 'com', 'mut', 'ator', '-', 'less', ',', 'rotating', 'magnetic', 'field', '-', 'based', 'induction', 'motor', 'presented', 'in', 'a', 'paper', 'in', 'march', '1888', 'by', 'the', 'italian', 'physicist', 'galileo', 'ferrari', 's', ',', 'but', 'decided', 'tesla', \"'\", 's', 'patent', 'would', 'probably', 'control', 'the', 'market', '.', '[SEP]']\n",
      "len conti_raw 51\n",
      "conti_raw ['[CLS]', 'who', 'other', 'than', 'tesla', 'did', 'westinghouse', 'consider', 'for', 'the', 'patents?', '[SEP]', '[SEP]', 'westinghouse', 'looked', 'into', 'getting', 'a', 'patent', 'on', 'a', 'similar', 'commutator-less,', 'rotating', 'magnetic', 'field-based', 'induction', 'motor', 'presented', 'in', 'a', 'paper', 'in', 'march', '1888', 'by', 'the', 'italian', 'physicist', 'galileo', 'ferraris,', 'but', 'decided', \"tesla's\", 'patent', 'would', 'probably', 'control', 'the', 'market.', '[SEP]']\n",
      "pred_prob 0.7733870148658752\n"
     ]
    },
    {
     "data": {
      "text/html": [
       "<table width: 100%><div style=\"border-top: 1px solid; margin-top: 5px;             padding-top: 5px; display: inline-block\"><b>Legend: </b><span style=\"display: inline-block; width: 10px; height: 10px;                 border: 1px solid; background-color:                 hsl(0, 75%, 60%)\"></span> Negative  <span style=\"display: inline-block; width: 10px; height: 10px;                 border: 1px solid; background-color:                 hsl(0, 75%, 100%)\"></span> Neutral  <span style=\"display: inline-block; width: 10px; height: 10px;                 border: 1px solid; background-color:                 hsl(120, 75%, 50%)\"></span> Positive  </div><tr><th>True Label</th><th>Predicted Label</th><th>Attribution Label</th><th>Attribution Score</th><th>Word Importance</th><tr><td><text style=\"padding-right:2em\"><b>Entailment</b></text></td><td><text style=\"padding-right:2em\"><b>Entailment (0.77)</b></text></td><td><text style=\"padding-right:2em\"><b>No Entailment</b></text></td><td><text style=\"padding-right:2em\"><b>0.49</b></text></td><td><mark style=\"background-color: hsl(120, 75%, 80%); opacity:1.0;                     line-height:1.75\"><font color=\"black\"> [CLS]                    </font></mark><mark style=\"background-color: hsl(0, 75%, 91%); opacity:1.0;                     line-height:1.75\"><font color=\"black\"> who                    </font></mark><mark style=\"background-color: hsl(120, 75%, 92%); opacity:1.0;                     line-height:1.75\"><font color=\"black\"> other                    </font></mark><mark style=\"background-color: hsl(120, 75%, 96%); opacity:1.0;                     line-height:1.75\"><font color=\"black\"> than                    </font></mark><mark style=\"background-color: hsl(120, 75%, 100%); opacity:1.0;                     line-height:1.75\"><font color=\"black\"> tesla                    </font></mark><mark style=\"background-color: hsl(0, 75%, 99%); opacity:1.0;                     line-height:1.75\"><font color=\"black\"> did                    </font></mark><mark style=\"background-color: hsl(0, 75%, 100%); opacity:1.0;                     line-height:1.75\"><font color=\"black\"> westinghouse                    </font></mark><mark style=\"background-color: hsl(120, 75%, 96%); opacity:1.0;                     line-height:1.75\"><font color=\"black\"> consider                    </font></mark><mark style=\"background-color: hsl(0, 75%, 100%); opacity:1.0;                     line-height:1.75\"><font color=\"black\"> for                    </font></mark><mark style=\"background-color: hsl(120, 75%, 98%); opacity:1.0;                     line-height:1.75\"><font color=\"black\"> the                    </font></mark><mark style=\"background-color: hsl(120, 75%, 98%); opacity:1.0;                     line-height:1.75\"><font color=\"black\"> patents?                    </font></mark><mark style=\"background-color: hsl(120, 75%, 87%); opacity:1.0;                     line-height:1.75\"><font color=\"black\"> [SEP]                    </font></mark><mark style=\"background-color: hsl(0, 75%, 93%); opacity:1.0;                     line-height:1.75\"><font color=\"black\"> [SEP]                    </font></mark><mark style=\"background-color: hsl(0, 75%, 100%); opacity:1.0;                     line-height:1.75\"><font color=\"black\"> westinghouse                    </font></mark><mark style=\"background-color: hsl(0, 75%, 98%); opacity:1.0;                     line-height:1.75\"><font color=\"black\"> looked                    </font></mark><mark style=\"background-color: hsl(0, 75%, 96%); opacity:1.0;                     line-height:1.75\"><font color=\"black\"> into                    </font></mark><mark style=\"background-color: hsl(0, 75%, 99%); opacity:1.0;                     line-height:1.75\"><font color=\"black\"> getting                    </font></mark><mark style=\"background-color: hsl(0, 75%, 97%); opacity:1.0;                     line-height:1.75\"><font color=\"black\"> a                    </font></mark><mark style=\"background-color: hsl(120, 75%, 96%); opacity:1.0;                     line-height:1.75\"><font color=\"black\"> patent                    </font></mark><mark style=\"background-color: hsl(0, 75%, 98%); opacity:1.0;                     line-height:1.75\"><font color=\"black\"> on                    </font></mark><mark style=\"background-color: hsl(120, 75%, 94%); opacity:1.0;                     line-height:1.75\"><font color=\"black\"> a                    </font></mark><mark style=\"background-color: hsl(120, 75%, 90%); opacity:1.0;                     line-height:1.75\"><font color=\"black\"> similar                    </font></mark><mark style=\"background-color: hsl(0, 75%, 98%); opacity:1.0;                     line-height:1.75\"><font color=\"black\"> commutator-less,                    </font></mark><mark style=\"background-color: hsl(120, 75%, 94%); opacity:1.0;                     line-height:1.75\"><font color=\"black\"> rotating                    </font></mark><mark style=\"background-color: hsl(120, 75%, 96%); opacity:1.0;                     line-height:1.75\"><font color=\"black\"> magnetic                    </font></mark><mark style=\"background-color: hsl(0, 75%, 99%); opacity:1.0;                     line-height:1.75\"><font color=\"black\"> field-based                    </font></mark><mark style=\"background-color: hsl(120, 75%, 99%); opacity:1.0;                     line-height:1.75\"><font color=\"black\"> induction                    </font></mark><mark style=\"background-color: hsl(120, 75%, 94%); opacity:1.0;                     line-height:1.75\"><font color=\"black\"> motor                    </font></mark><mark style=\"background-color: hsl(0, 75%, 98%); opacity:1.0;                     line-height:1.75\"><font color=\"black\"> presented                    </font></mark><mark style=\"background-color: hsl(120, 75%, 95%); opacity:1.0;                     line-height:1.75\"><font color=\"black\"> in                    </font></mark><mark style=\"background-color: hsl(0, 75%, 93%); opacity:1.0;                     line-height:1.75\"><font color=\"black\"> a                    </font></mark><mark style=\"background-color: hsl(120, 75%, 100%); opacity:1.0;                     line-height:1.75\"><font color=\"black\"> paper                    </font></mark><mark style=\"background-color: hsl(0, 75%, 99%); opacity:1.0;                     line-height:1.75\"><font color=\"black\"> in                    </font></mark><mark style=\"background-color: hsl(120, 75%, 96%); opacity:1.0;                     line-height:1.75\"><font color=\"black\"> march                    </font></mark><mark style=\"background-color: hsl(0, 75%, 98%); opacity:1.0;                     line-height:1.75\"><font color=\"black\"> 1888                    </font></mark><mark style=\"background-color: hsl(0, 75%, 100%); opacity:1.0;                     line-height:1.75\"><font color=\"black\"> by                    </font></mark><mark style=\"background-color: hsl(120, 75%, 93%); opacity:1.0;                     line-height:1.75\"><font color=\"black\"> the                    </font></mark><mark style=\"background-color: hsl(120, 75%, 95%); opacity:1.0;                     line-height:1.75\"><font color=\"black\"> italian                    </font></mark><mark style=\"background-color: hsl(0, 75%, 96%); opacity:1.0;                     line-height:1.75\"><font color=\"black\"> physicist                    </font></mark><mark style=\"background-color: hsl(0, 75%, 91%); opacity:1.0;                     line-height:1.75\"><font color=\"black\"> galileo                    </font></mark><mark style=\"background-color: hsl(0, 75%, 98%); opacity:1.0;                     line-height:1.75\"><font color=\"black\"> ferraris,                    </font></mark><mark style=\"background-color: hsl(120, 75%, 94%); opacity:1.0;                     line-height:1.75\"><font color=\"black\"> but                    </font></mark><mark style=\"background-color: hsl(120, 75%, 94%); opacity:1.0;                     line-height:1.75\"><font color=\"black\"> decided                    </font></mark><mark style=\"background-color: hsl(120, 75%, 100%); opacity:1.0;                     line-height:1.75\"><font color=\"black\"> tesla's                    </font></mark><mark style=\"background-color: hsl(0, 75%, 95%); opacity:1.0;                     line-height:1.75\"><font color=\"black\"> patent                    </font></mark><mark style=\"background-color: hsl(120, 75%, 93%); opacity:1.0;                     line-height:1.75\"><font color=\"black\"> would                    </font></mark><mark style=\"background-color: hsl(0, 75%, 99%); opacity:1.0;                     line-height:1.75\"><font color=\"black\"> probably                    </font></mark><mark style=\"background-color: hsl(120, 75%, 94%); opacity:1.0;                     line-height:1.75\"><font color=\"black\"> control                    </font></mark><mark style=\"background-color: hsl(120, 75%, 96%); opacity:1.0;                     line-height:1.75\"><font color=\"black\"> the                    </font></mark><mark style=\"background-color: hsl(0, 75%, 96%); opacity:1.0;                     line-height:1.75\"><font color=\"black\"> market.                    </font></mark><mark style=\"background-color: hsl(120, 75%, 98%); opacity:1.0;                     line-height:1.75\"><font color=\"black\"> [SEP]                    </font></mark></td><tr></table>"
      ],
      "text/plain": [
       "<IPython.core.display.HTML object>"
      ]
     },
     "metadata": {},
     "output_type": "display_data"
    },
    {
     "name": "stderr",
     "output_type": "stream",
     "text": [
      "/home/user/anaconda3/envs/metric/lib/python3.9/site-packages/captum/attr/_core/lime.py:1096: UserWarning: Attempting to construct interpretable model with > 10000 features.This can be very slow or lead to OOM issues. Please provide a featuremask which groups input features to reduce the number of interpretablefeatures. \n",
      "  warnings.warn(\n"
     ]
    },
    {
     "name": "stdout",
     "output_type": "stream",
     "text": [
      "<IPython.core.display.HTML object>\n",
      "Raw datum: ['What separates the neuroimmune system and peripheral immune system in humans?', 'In humans, the blood–brain barrier, blood–cerebrospinal fluid barrier, and similar fluid–brain barriers separate the peripheral immune system from the neuroimmune system which protects the brain.']\n",
      "GT target: 1\n"
     ]
    },
    {
     "name": "stderr",
     "output_type": "stream",
     "text": [
      "Lime attribution: 100%|██████████████████████████████████████████████████████████████████████████████████████████████████████████| 5/5 [00:06<00:00,  1.31s/it]\n"
     ]
    },
    {
     "name": "stdout",
     "output_type": "stream",
     "text": [
      "word attr tensor([ 0.4032,  0.0419,  0.3350,  0.1111, -0.1368,  0.0774,  0.0550, -0.0250,\n",
      "         0.1008,  0.0037,  0.1920, -0.0094,  0.0400, -0.0516, -0.2101, -0.0768,\n",
      "         0.0043,  0.0156, -0.1142,  0.1020, -0.0743,  0.2663,  0.0595, -0.1943,\n",
      "        -0.0073,  0.0722,  0.0884, -0.1327,  0.1099,  0.1479,  0.1161,  0.0357,\n",
      "         0.0238,  0.0633,  0.1380,  0.1050,  0.1180,  0.1574, -0.1398, -0.0536,\n",
      "        -0.0896, -0.0530,  0.2016,  0.0601,  0.0394, -0.0056, -0.0808,  0.0859,\n",
      "        -0.0257,  0.1258, -0.0577,  0.0513, -0.1107, -0.1463, -0.2345, -0.0315,\n",
      "        -0.0430, -0.1127, -0.0729,  0.1385,  0.0274, -0.0337, -0.2030],\n",
      "       device='cuda:0')\n",
      "conti attr [tensor(0.4032, device='cuda:0'), tensor(0.0419, device='cuda:0'), tensor(0.3350, device='cuda:0'), tensor(0.1111, device='cuda:0'), tensor(0.0473, device='cuda:0'), tensor(0.0037, device='cuda:0'), tensor(0.1920, device='cuda:0'), tensor(-0.0094, device='cuda:0'), tensor(0.0400, device='cuda:0'), tensor(-0.0516, device='cuda:0'), tensor(-0.2101, device='cuda:0'), tensor(-0.0362, device='cuda:0'), tensor(0.0156, device='cuda:0'), tensor(-0.1142, device='cuda:0'), tensor(0.1020, device='cuda:0'), tensor(0.0960, device='cuda:0'), tensor(0.0595, device='cuda:0'), tensor(-0.0143, device='cuda:0'), tensor(-0.0221, device='cuda:0'), tensor(0.0977, device='cuda:0'), tensor(0.1050, device='cuda:0'), tensor(0.1377, device='cuda:0'), tensor(-0.1398, device='cuda:0'), tensor(-0.0536, device='cuda:0'), tensor(0.0651, device='cuda:0'), tensor(0.0601, device='cuda:0'), tensor(0.0394, device='cuda:0'), tensor(-0.0056, device='cuda:0'), tensor(-0.0808, device='cuda:0'), tensor(0.0859, device='cuda:0'), tensor(-0.0257, device='cuda:0'), tensor(0.1258, device='cuda:0'), tensor(-0.0577, device='cuda:0'), tensor(-0.0964, device='cuda:0'), tensor(-0.0430, device='cuda:0'), tensor(-0.1127, device='cuda:0'), tensor(-0.0729, device='cuda:0'), tensor(0.1385, device='cuda:0'), tensor(-0.0031, device='cuda:0'), tensor(-0.2030, device='cuda:0')]\n",
      "detokenized ['[CLS]', 'what', 'separates', 'the', 'ne', 'uro', 'im', 'mun', 'e', 'system', 'and', 'peripheral', 'immune', 'system', 'in', 'humans', '?', '[SEP]', '[SEP]', 'in', 'humans', ',', 'the', 'blood', '–', 'brain', 'barrier', ',', 'blood', '–', 'ce', 're', 'bro', 'sp', 'inal', 'fluid', 'barrier', ',', 'and', 'similar', 'fluid', '–', 'brain', 'barriers', 'separate', 'the', 'peripheral', 'immune', 'system', 'from', 'the', 'ne', 'uro', 'im', 'mun', 'e', 'system', 'which', 'protects', 'the', 'brain', '.', '[SEP]']\n",
      "len conti_raw 40\n",
      "conti_raw ['[CLS]', 'what', 'separates', 'the', 'neuroimmune', 'system', 'and', 'peripheral', 'immune', 'system', 'in', 'humans?', '[SEP]', '[SEP]', 'in', 'humans,', 'the', 'blood–brain', 'barrier,', 'blood–cerebrospinal', 'fluid', 'barrier,', 'and', 'similar', 'fluid–brain', 'barriers', 'separate', 'the', 'peripheral', 'immune', 'system', 'from', 'the', 'neuroimmune', 'system', 'which', 'protects', 'the', 'brain.', '[SEP]']\n",
      "pred_prob 0.8900112509727478\n"
     ]
    },
    {
     "data": {
      "text/html": [
       "<table width: 100%><div style=\"border-top: 1px solid; margin-top: 5px;             padding-top: 5px; display: inline-block\"><b>Legend: </b><span style=\"display: inline-block; width: 10px; height: 10px;                 border: 1px solid; background-color:                 hsl(0, 75%, 60%)\"></span> Negative  <span style=\"display: inline-block; width: 10px; height: 10px;                 border: 1px solid; background-color:                 hsl(0, 75%, 100%)\"></span> Neutral  <span style=\"display: inline-block; width: 10px; height: 10px;                 border: 1px solid; background-color:                 hsl(120, 75%, 50%)\"></span> Positive  </div><tr><th>True Label</th><th>Predicted Label</th><th>Attribution Label</th><th>Attribution Score</th><th>Word Importance</th><tr><td><text style=\"padding-right:2em\"><b>Entailment</b></text></td><td><text style=\"padding-right:2em\"><b>Entailment (0.89)</b></text></td><td><text style=\"padding-right:2em\"><b>Entailment</b></text></td><td><text style=\"padding-right:2em\"><b>1.19</b></text></td><td><mark style=\"background-color: hsl(120, 75%, 80%); opacity:1.0;                     line-height:1.75\"><font color=\"black\"> [CLS]                    </font></mark><mark style=\"background-color: hsl(120, 75%, 98%); opacity:1.0;                     line-height:1.75\"><font color=\"black\"> what                    </font></mark><mark style=\"background-color: hsl(120, 75%, 84%); opacity:1.0;                     line-height:1.75\"><font color=\"black\"> separates                    </font></mark><mark style=\"background-color: hsl(120, 75%, 95%); opacity:1.0;                     line-height:1.75\"><font color=\"black\"> the                    </font></mark><mark style=\"background-color: hsl(120, 75%, 98%); opacity:1.0;                     line-height:1.75\"><font color=\"black\"> neuroimmune                    </font></mark><mark style=\"background-color: hsl(120, 75%, 100%); opacity:1.0;                     line-height:1.75\"><font color=\"black\"> system                    </font></mark><mark style=\"background-color: hsl(120, 75%, 91%); opacity:1.0;                     line-height:1.75\"><font color=\"black\"> and                    </font></mark><mark style=\"background-color: hsl(0, 75%, 100%); opacity:1.0;                     line-height:1.75\"><font color=\"black\"> peripheral                    </font></mark><mark style=\"background-color: hsl(120, 75%, 99%); opacity:1.0;                     line-height:1.75\"><font color=\"black\"> immune                    </font></mark><mark style=\"background-color: hsl(0, 75%, 98%); opacity:1.0;                     line-height:1.75\"><font color=\"black\"> system                    </font></mark><mark style=\"background-color: hsl(0, 75%, 92%); opacity:1.0;                     line-height:1.75\"><font color=\"black\"> in                    </font></mark><mark style=\"background-color: hsl(0, 75%, 99%); opacity:1.0;                     line-height:1.75\"><font color=\"black\"> humans?                    </font></mark><mark style=\"background-color: hsl(120, 75%, 100%); opacity:1.0;                     line-height:1.75\"><font color=\"black\"> [SEP]                    </font></mark><mark style=\"background-color: hsl(0, 75%, 96%); opacity:1.0;                     line-height:1.75\"><font color=\"black\"> [SEP]                    </font></mark><mark style=\"background-color: hsl(120, 75%, 95%); opacity:1.0;                     line-height:1.75\"><font color=\"black\"> in                    </font></mark><mark style=\"background-color: hsl(120, 75%, 96%); opacity:1.0;                     line-height:1.75\"><font color=\"black\"> humans,                    </font></mark><mark style=\"background-color: hsl(120, 75%, 98%); opacity:1.0;                     line-height:1.75\"><font color=\"black\"> the                    </font></mark><mark style=\"background-color: hsl(0, 75%, 100%); opacity:1.0;                     line-height:1.75\"><font color=\"black\"> blood–brain                    </font></mark><mark style=\"background-color: hsl(0, 75%, 100%); opacity:1.0;                     line-height:1.75\"><font color=\"black\"> barrier,                    </font></mark><mark style=\"background-color: hsl(120, 75%, 96%); opacity:1.0;                     line-height:1.75\"><font color=\"black\"> blood–cerebrospinal                    </font></mark><mark style=\"background-color: hsl(120, 75%, 95%); opacity:1.0;                     line-height:1.75\"><font color=\"black\"> fluid                    </font></mark><mark style=\"background-color: hsl(120, 75%, 94%); opacity:1.0;                     line-height:1.75\"><font color=\"black\"> barrier,                    </font></mark><mark style=\"background-color: hsl(0, 75%, 95%); opacity:1.0;                     line-height:1.75\"><font color=\"black\"> and                    </font></mark><mark style=\"background-color: hsl(0, 75%, 98%); opacity:1.0;                     line-height:1.75\"><font color=\"black\"> similar                    </font></mark><mark style=\"background-color: hsl(120, 75%, 97%); opacity:1.0;                     line-height:1.75\"><font color=\"black\"> fluid–brain                    </font></mark><mark style=\"background-color: hsl(120, 75%, 97%); opacity:1.0;                     line-height:1.75\"><font color=\"black\"> barriers                    </font></mark><mark style=\"background-color: hsl(120, 75%, 99%); opacity:1.0;                     line-height:1.75\"><font color=\"black\"> separate                    </font></mark><mark style=\"background-color: hsl(0, 75%, 100%); opacity:1.0;                     line-height:1.75\"><font color=\"black\"> the                    </font></mark><mark style=\"background-color: hsl(0, 75%, 97%); opacity:1.0;                     line-height:1.75\"><font color=\"black\"> peripheral                    </font></mark><mark style=\"background-color: hsl(120, 75%, 96%); opacity:1.0;                     line-height:1.75\"><font color=\"black\"> immune                    </font></mark><mark style=\"background-color: hsl(0, 75%, 99%); opacity:1.0;                     line-height:1.75\"><font color=\"black\"> system                    </font></mark><mark style=\"background-color: hsl(120, 75%, 94%); opacity:1.0;                     line-height:1.75\"><font color=\"black\"> from                    </font></mark><mark style=\"background-color: hsl(0, 75%, 98%); opacity:1.0;                     line-height:1.75\"><font color=\"black\"> the                    </font></mark><mark style=\"background-color: hsl(0, 75%, 97%); opacity:1.0;                     line-height:1.75\"><font color=\"black\"> neuroimmune                    </font></mark><mark style=\"background-color: hsl(0, 75%, 99%); opacity:1.0;                     line-height:1.75\"><font color=\"black\"> system                    </font></mark><mark style=\"background-color: hsl(0, 75%, 96%); opacity:1.0;                     line-height:1.75\"><font color=\"black\"> which                    </font></mark><mark style=\"background-color: hsl(0, 75%, 98%); opacity:1.0;                     line-height:1.75\"><font color=\"black\"> protects                    </font></mark><mark style=\"background-color: hsl(120, 75%, 94%); opacity:1.0;                     line-height:1.75\"><font color=\"black\"> the                    </font></mark><mark style=\"background-color: hsl(0, 75%, 100%); opacity:1.0;                     line-height:1.75\"><font color=\"black\"> brain.                    </font></mark><mark style=\"background-color: hsl(0, 75%, 92%); opacity:1.0;                     line-height:1.75\"><font color=\"black\"> [SEP]                    </font></mark></td><tr></table>"
      ],
      "text/plain": [
       "<IPython.core.display.HTML object>"
      ]
     },
     "metadata": {},
     "output_type": "display_data"
    },
    {
     "name": "stderr",
     "output_type": "stream",
     "text": [
      "/home/user/anaconda3/envs/metric/lib/python3.9/site-packages/captum/attr/_core/lime.py:1096: UserWarning: Attempting to construct interpretable model with > 10000 features.This can be very slow or lead to OOM issues. Please provide a featuremask which groups input features to reduce the number of interpretablefeatures. \n",
      "  warnings.warn(\n"
     ]
    },
    {
     "name": "stdout",
     "output_type": "stream",
     "text": [
      "<IPython.core.display.HTML object>\n",
      "Raw datum: [\"What did Kublai's government have to balance between?\", \"Kublai's government after 1262 was a compromise between preserving Mongol interests in China and satisfying the demands of his Chinese subjects.\"]\n",
      "GT target: 1\n"
     ]
    },
    {
     "name": "stderr",
     "output_type": "stream",
     "text": [
      "Lime attribution: 100%|██████████████████████████████████████████████████████████████████████████████████████████████████████████| 5/5 [00:04<00:00,  1.12it/s]\n"
     ]
    },
    {
     "name": "stdout",
     "output_type": "stream",
     "text": [
      "word attr tensor([ 6.1564e-01, -1.7492e-01,  8.6713e-02, -3.7890e-02,  2.3333e-03,\n",
      "         1.5786e-01,  9.6566e-02,  1.2596e-01, -9.4986e-03, -8.5830e-02,\n",
      "        -1.0061e-01, -2.9665e-01, -7.9064e-02,  3.2146e-02, -8.7509e-03,\n",
      "        -2.0257e-01,  1.5155e-02, -1.0319e-01,  9.1731e-02,  2.7111e-02,\n",
      "        -1.0211e-02, -6.6793e-02, -8.9620e-02,  9.2650e-04, -9.3969e-02,\n",
      "         2.4777e-02, -1.3056e-01, -3.7994e-01, -2.6053e-01, -9.1608e-02,\n",
      "        -5.2023e-02, -4.0846e-04, -9.1460e-02,  2.4332e-02, -1.3883e-01,\n",
      "        -4.1122e-02, -2.2515e-02, -1.2067e-01, -1.4045e-01, -4.7143e-02,\n",
      "         8.3402e-02,  1.1980e-01, -7.4692e-02,  3.2750e-02], device='cuda:0')\n",
      "conti attr [tensor(0.6156, device='cuda:0'), tensor(-0.1749, device='cuda:0'), tensor(0.0867, device='cuda:0'), tensor(0.1046, device='cuda:0'), tensor(-0.0095, device='cuda:0'), tensor(-0.0858, device='cuda:0'), tensor(-0.1006, device='cuda:0'), tensor(-0.2966, device='cuda:0'), tensor(-0.0235, device='cuda:0'), tensor(-0.0088, device='cuda:0'), tensor(-0.2026, device='cuda:0'), tensor(0.0076, device='cuda:0'), tensor(-0.0668, device='cuda:0'), tensor(-0.0896, device='cuda:0'), tensor(-0.0465, device='cuda:0'), tensor(0.0248, device='cuda:0'), tensor(-0.1306, device='cuda:0'), tensor(-0.3799, device='cuda:0'), tensor(-0.2605, device='cuda:0'), tensor(-0.0916, device='cuda:0'), tensor(-0.0520, device='cuda:0'), tensor(-0.0004, device='cuda:0'), tensor(-0.0915, device='cuda:0'), tensor(0.0243, device='cuda:0'), tensor(-0.1388, device='cuda:0'), tensor(-0.0411, device='cuda:0'), tensor(-0.0225, device='cuda:0'), tensor(-0.1207, device='cuda:0'), tensor(-0.1405, device='cuda:0'), tensor(-0.0471, device='cuda:0'), tensor(0.0834, device='cuda:0'), tensor(0.0226, device='cuda:0'), tensor(0.0328, device='cuda:0')]\n",
      "detokenized ['[CLS]', 'what', 'did', 'ku', 'bla', 'i', \"'\", 's', 'government', 'have', 'to', 'balance', 'between', '?', '[SEP]', '[SEP]', 'ku', 'bla', 'i', \"'\", 's', 'government', 'after', '126', '2', 'was', 'a', 'compromise', 'between', 'preserving', 'mongol', 'interests', 'in', 'china', 'and', 'satisfying', 'the', 'demands', 'of', 'his', 'chinese', 'subjects', '.', '[SEP]']\n",
      "len conti_raw 33\n",
      "conti_raw ['[CLS]', 'what', 'did', \"kublai's\", 'government', 'have', 'to', 'balance', 'between?', '[SEP]', '[SEP]', \"kublai's\", 'government', 'after', '1262', 'was', 'a', 'compromise', 'between', 'preserving', 'mongol', 'interests', 'in', 'china', 'and', 'satisfying', 'the', 'demands', 'of', 'his', 'chinese', 'subjects.', '[SEP]']\n",
      "pred_prob 0.13032764196395874\n"
     ]
    },
    {
     "data": {
      "text/html": [
       "<table width: 100%><div style=\"border-top: 1px solid; margin-top: 5px;             padding-top: 5px; display: inline-block\"><b>Legend: </b><span style=\"display: inline-block; width: 10px; height: 10px;                 border: 1px solid; background-color:                 hsl(0, 75%, 60%)\"></span> Negative  <span style=\"display: inline-block; width: 10px; height: 10px;                 border: 1px solid; background-color:                 hsl(0, 75%, 100%)\"></span> Neutral  <span style=\"display: inline-block; width: 10px; height: 10px;                 border: 1px solid; background-color:                 hsl(120, 75%, 50%)\"></span> Positive  </div><tr><th>True Label</th><th>Predicted Label</th><th>Attribution Label</th><th>Attribution Score</th><th>Word Importance</th><tr><td><text style=\"padding-right:2em\"><b>Entailment</b></text></td><td><text style=\"padding-right:2em\"><b>No Entailment (0.13)</b></text></td><td><text style=\"padding-right:2em\"><b>No Entailment</b></text></td><td><text style=\"padding-right:2em\"><b>-1.41</b></text></td><td><mark style=\"background-color: hsl(120, 75%, 70%); opacity:1.0;                     line-height:1.75\"><font color=\"black\"> [CLS]                    </font></mark><mark style=\"background-color: hsl(0, 75%, 94%); opacity:1.0;                     line-height:1.75\"><font color=\"black\"> what                    </font></mark><mark style=\"background-color: hsl(120, 75%, 96%); opacity:1.0;                     line-height:1.75\"><font color=\"black\"> did                    </font></mark><mark style=\"background-color: hsl(120, 75%, 95%); opacity:1.0;                     line-height:1.75\"><font color=\"black\"> kublai's                    </font></mark><mark style=\"background-color: hsl(0, 75%, 100%); opacity:1.0;                     line-height:1.75\"><font color=\"black\"> government                    </font></mark><mark style=\"background-color: hsl(0, 75%, 97%); opacity:1.0;                     line-height:1.75\"><font color=\"black\"> have                    </font></mark><mark style=\"background-color: hsl(0, 75%, 96%); opacity:1.0;                     line-height:1.75\"><font color=\"black\"> to                    </font></mark><mark style=\"background-color: hsl(0, 75%, 89%); opacity:1.0;                     line-height:1.75\"><font color=\"black\"> balance                    </font></mark><mark style=\"background-color: hsl(0, 75%, 100%); opacity:1.0;                     line-height:1.75\"><font color=\"black\"> between?                    </font></mark><mark style=\"background-color: hsl(0, 75%, 100%); opacity:1.0;                     line-height:1.75\"><font color=\"black\"> [SEP]                    </font></mark><mark style=\"background-color: hsl(0, 75%, 92%); opacity:1.0;                     line-height:1.75\"><font color=\"black\"> [SEP]                    </font></mark><mark style=\"background-color: hsl(120, 75%, 100%); opacity:1.0;                     line-height:1.75\"><font color=\"black\"> kublai's                    </font></mark><mark style=\"background-color: hsl(0, 75%, 98%); opacity:1.0;                     line-height:1.75\"><font color=\"black\"> government                    </font></mark><mark style=\"background-color: hsl(0, 75%, 97%); opacity:1.0;                     line-height:1.75\"><font color=\"black\"> after                    </font></mark><mark style=\"background-color: hsl(0, 75%, 99%); opacity:1.0;                     line-height:1.75\"><font color=\"black\"> 1262                    </font></mark><mark style=\"background-color: hsl(120, 75%, 99%); opacity:1.0;                     line-height:1.75\"><font color=\"black\"> was                    </font></mark><mark style=\"background-color: hsl(0, 75%, 95%); opacity:1.0;                     line-height:1.75\"><font color=\"black\"> a                    </font></mark><mark style=\"background-color: hsl(0, 75%, 85%); opacity:1.0;                     line-height:1.75\"><font color=\"black\"> compromise                    </font></mark><mark style=\"background-color: hsl(0, 75%, 90%); opacity:1.0;                     line-height:1.75\"><font color=\"black\"> between                    </font></mark><mark style=\"background-color: hsl(0, 75%, 97%); opacity:1.0;                     line-height:1.75\"><font color=\"black\"> preserving                    </font></mark><mark style=\"background-color: hsl(0, 75%, 98%); opacity:1.0;                     line-height:1.75\"><font color=\"black\"> mongol                    </font></mark><mark style=\"background-color: hsl(0, 75%, 100%); opacity:1.0;                     line-height:1.75\"><font color=\"black\"> interests                    </font></mark><mark style=\"background-color: hsl(0, 75%, 97%); opacity:1.0;                     line-height:1.75\"><font color=\"black\"> in                    </font></mark><mark style=\"background-color: hsl(120, 75%, 99%); opacity:1.0;                     line-height:1.75\"><font color=\"black\"> china                    </font></mark><mark style=\"background-color: hsl(0, 75%, 95%); opacity:1.0;                     line-height:1.75\"><font color=\"black\"> and                    </font></mark><mark style=\"background-color: hsl(0, 75%, 99%); opacity:1.0;                     line-height:1.75\"><font color=\"black\"> satisfying                    </font></mark><mark style=\"background-color: hsl(0, 75%, 100%); opacity:1.0;                     line-height:1.75\"><font color=\"black\"> the                    </font></mark><mark style=\"background-color: hsl(0, 75%, 96%); opacity:1.0;                     line-height:1.75\"><font color=\"black\"> demands                    </font></mark><mark style=\"background-color: hsl(0, 75%, 95%); opacity:1.0;                     line-height:1.75\"><font color=\"black\"> of                    </font></mark><mark style=\"background-color: hsl(0, 75%, 99%); opacity:1.0;                     line-height:1.75\"><font color=\"black\"> his                    </font></mark><mark style=\"background-color: hsl(120, 75%, 96%); opacity:1.0;                     line-height:1.75\"><font color=\"black\"> chinese                    </font></mark><mark style=\"background-color: hsl(120, 75%, 99%); opacity:1.0;                     line-height:1.75\"><font color=\"black\"> subjects.                    </font></mark><mark style=\"background-color: hsl(120, 75%, 99%); opacity:1.0;                     line-height:1.75\"><font color=\"black\"> [SEP]                    </font></mark></td><tr></table>"
      ],
      "text/plain": [
       "<IPython.core.display.HTML object>"
      ]
     },
     "metadata": {},
     "output_type": "display_data"
    },
    {
     "name": "stderr",
     "output_type": "stream",
     "text": [
      "/home/user/anaconda3/envs/metric/lib/python3.9/site-packages/captum/attr/_core/lime.py:1096: UserWarning: Attempting to construct interpretable model with > 10000 features.This can be very slow or lead to OOM issues. Please provide a featuremask which groups input features to reduce the number of interpretablefeatures. \n",
      "  warnings.warn(\n"
     ]
    },
    {
     "name": "stdout",
     "output_type": "stream",
     "text": [
      "<IPython.core.display.HTML object>\n",
      "Raw datum: [\"What did Gasquet's book blame the plague on?\", 'The historian Francis Aidan Gasquet wrote about the \\'Great Pestilence\\' in 1893 and suggested that \"it would appear to be some form of the ordinary Eastern or bubonic plague\".']\n",
      "GT target: 0\n"
     ]
    },
    {
     "name": "stderr",
     "output_type": "stream",
     "text": [
      "Lime attribution: 100%|██████████████████████████████████████████████████████████████████████████████████████████████████████████| 5/5 [00:04<00:00,  1.07it/s]\n"
     ]
    },
    {
     "name": "stdout",
     "output_type": "stream",
     "text": [
      "word attr tensor([ 0.0420,  0.1048, -0.1723, -0.0355, -0.1463,  0.1063,  0.0423,  0.0013,\n",
      "        -0.2790, -0.1846,  0.1477, -0.1460,  0.2111,  0.0055,  0.0158,  0.2459,\n",
      "        -0.0663, -0.1670,  0.0798,  0.0502,  0.0285, -0.2387, -0.2070,  0.1782,\n",
      "         0.0922, -0.0854, -0.0794, -0.2168,  0.2191, -0.1128,  0.1579, -0.1228,\n",
      "        -0.0343,  0.0384, -0.0629,  0.0366, -0.0519,  0.0277, -0.0090, -0.2492,\n",
      "        -0.0172,  0.0583, -0.0610,  0.0886, -0.0637,  0.1459,  0.0930, -0.0871,\n",
      "        -0.1756,  0.3260, -0.0222,  0.0911,  0.0099,  0.1630, -0.1225],\n",
      "       device='cuda:0')\n",
      "conti attr [tensor(0.0420, device='cuda:0'), tensor(0.1048, device='cuda:0'), tensor(-0.1723, device='cuda:0'), tensor(0.0250, device='cuda:0'), tensor(0.0013, device='cuda:0'), tensor(-0.2790, device='cuda:0'), tensor(-0.1846, device='cuda:0'), tensor(0.1477, device='cuda:0'), tensor(0.0325, device='cuda:0'), tensor(0.0055, device='cuda:0'), tensor(0.0158, device='cuda:0'), tensor(0.2459, device='cuda:0'), tensor(-0.0663, device='cuda:0'), tensor(-0.1670, device='cuda:0'), tensor(0.0798, device='cuda:0'), tensor(0.0394, device='cuda:0'), tensor(-0.2387, device='cuda:0'), tensor(-0.2070, device='cuda:0'), tensor(0.1782, device='cuda:0'), tensor(0.0034, device='cuda:0'), tensor(-0.0386, device='cuda:0'), tensor(0.1579, device='cuda:0'), tensor(-0.1228, device='cuda:0'), tensor(-0.0343, device='cuda:0'), tensor(0.0384, device='cuda:0'), tensor(-0.0629, device='cuda:0'), tensor(-0.0076, device='cuda:0'), tensor(0.0277, device='cuda:0'), tensor(-0.0090, device='cuda:0'), tensor(-0.2492, device='cuda:0'), tensor(-0.0172, device='cuda:0'), tensor(0.0583, device='cuda:0'), tensor(-0.0610, device='cuda:0'), tensor(0.0886, device='cuda:0'), tensor(-0.0637, device='cuda:0'), tensor(0.1459, device='cuda:0'), tensor(0.0930, device='cuda:0'), tensor(-0.0871, device='cuda:0'), tensor(0.0265, device='cuda:0'), tensor(0.1067, device='cuda:0'), tensor(-0.1225, device='cuda:0')]\n",
      "detokenized ['[CLS]', 'what', 'did', 'gas', 'quet', \"'\", 's', 'book', 'blame', 'the', 'plague', 'on', '?', '[SEP]', '[SEP]', 'the', 'historian', 'francis', 'aidan', 'gas', 'quet', 'wrote', 'about', 'the', \"'\", 'great', 'pest', 'ile', 'nce', \"'\", 'in', '1893', 'and', 'suggested', 'that', '\"', 'it', 'would', 'appear', 'to', 'be', 'some', 'form', 'of', 'the', 'ordinary', 'eastern', 'or', 'bu', 'bon', 'ic', 'plague', '\"', '.', '[SEP]']\n",
      "len conti_raw 41\n",
      "conti_raw ['[CLS]', 'what', 'did', \"gasquet's\", 'book', 'blame', 'the', 'plague', 'on?', '[SEP]', '[SEP]', 'the', 'historian', 'francis', 'aidan', 'gasquet', 'wrote', 'about', 'the', \"'great\", \"pestilence'\", 'in', '1893', 'and', 'suggested', 'that', '\"it', 'would', 'appear', 'to', 'be', 'some', 'form', 'of', 'the', 'ordinary', 'eastern', 'or', 'bubonic', 'plague\".', '[SEP]']\n",
      "pred_prob 0.7593749761581421\n"
     ]
    },
    {
     "data": {
      "text/html": [
       "<table width: 100%><div style=\"border-top: 1px solid; margin-top: 5px;             padding-top: 5px; display: inline-block\"><b>Legend: </b><span style=\"display: inline-block; width: 10px; height: 10px;                 border: 1px solid; background-color:                 hsl(0, 75%, 60%)\"></span> Negative  <span style=\"display: inline-block; width: 10px; height: 10px;                 border: 1px solid; background-color:                 hsl(0, 75%, 100%)\"></span> Neutral  <span style=\"display: inline-block; width: 10px; height: 10px;                 border: 1px solid; background-color:                 hsl(120, 75%, 50%)\"></span> Positive  </div><tr><th>True Label</th><th>Predicted Label</th><th>Attribution Label</th><th>Attribution Score</th><th>Word Importance</th><tr><td><text style=\"padding-right:2em\"><b>No Entailment</b></text></td><td><text style=\"padding-right:2em\"><b>Entailment (0.76)</b></text></td><td><text style=\"padding-right:2em\"><b>No Entailment</b></text></td><td><text style=\"padding-right:2em\"><b>-0.41</b></text></td><td><mark style=\"background-color: hsl(120, 75%, 98%); opacity:1.0;                     line-height:1.75\"><font color=\"black\"> [CLS]                    </font></mark><mark style=\"background-color: hsl(120, 75%, 95%); opacity:1.0;                     line-height:1.75\"><font color=\"black\"> what                    </font></mark><mark style=\"background-color: hsl(0, 75%, 94%); opacity:1.0;                     line-height:1.75\"><font color=\"black\"> did                    </font></mark><mark style=\"background-color: hsl(120, 75%, 99%); opacity:1.0;                     line-height:1.75\"><font color=\"black\"> gasquet's                    </font></mark><mark style=\"background-color: hsl(120, 75%, 100%); opacity:1.0;                     line-height:1.75\"><font color=\"black\"> book                    </font></mark><mark style=\"background-color: hsl(0, 75%, 89%); opacity:1.0;                     line-height:1.75\"><font color=\"black\"> blame                    </font></mark><mark style=\"background-color: hsl(0, 75%, 93%); opacity:1.0;                     line-height:1.75\"><font color=\"black\"> the                    </font></mark><mark style=\"background-color: hsl(120, 75%, 93%); opacity:1.0;                     line-height:1.75\"><font color=\"black\"> plague                    </font></mark><mark style=\"background-color: hsl(120, 75%, 99%); opacity:1.0;                     line-height:1.75\"><font color=\"black\"> on?                    </font></mark><mark style=\"background-color: hsl(120, 75%, 100%); opacity:1.0;                     line-height:1.75\"><font color=\"black\"> [SEP]                    </font></mark><mark style=\"background-color: hsl(120, 75%, 100%); opacity:1.0;                     line-height:1.75\"><font color=\"black\"> [SEP]                    </font></mark><mark style=\"background-color: hsl(120, 75%, 88%); opacity:1.0;                     line-height:1.75\"><font color=\"black\"> the                    </font></mark><mark style=\"background-color: hsl(0, 75%, 98%); opacity:1.0;                     line-height:1.75\"><font color=\"black\"> historian                    </font></mark><mark style=\"background-color: hsl(0, 75%, 94%); opacity:1.0;                     line-height:1.75\"><font color=\"black\"> francis                    </font></mark><mark style=\"background-color: hsl(120, 75%, 97%); opacity:1.0;                     line-height:1.75\"><font color=\"black\"> aidan                    </font></mark><mark style=\"background-color: hsl(120, 75%, 99%); opacity:1.0;                     line-height:1.75\"><font color=\"black\"> gasquet                    </font></mark><mark style=\"background-color: hsl(0, 75%, 91%); opacity:1.0;                     line-height:1.75\"><font color=\"black\"> wrote                    </font></mark><mark style=\"background-color: hsl(0, 75%, 92%); opacity:1.0;                     line-height:1.75\"><font color=\"black\"> about                    </font></mark><mark style=\"background-color: hsl(120, 75%, 92%); opacity:1.0;                     line-height:1.75\"><font color=\"black\"> the                    </font></mark><mark style=\"background-color: hsl(120, 75%, 100%); opacity:1.0;                     line-height:1.75\"><font color=\"black\"> 'great                    </font></mark><mark style=\"background-color: hsl(0, 75%, 99%); opacity:1.0;                     line-height:1.75\"><font color=\"black\"> pestilence'                    </font></mark><mark style=\"background-color: hsl(120, 75%, 93%); opacity:1.0;                     line-height:1.75\"><font color=\"black\"> in                    </font></mark><mark style=\"background-color: hsl(0, 75%, 96%); opacity:1.0;                     line-height:1.75\"><font color=\"black\"> 1893                    </font></mark><mark style=\"background-color: hsl(0, 75%, 99%); opacity:1.0;                     line-height:1.75\"><font color=\"black\"> and                    </font></mark><mark style=\"background-color: hsl(120, 75%, 99%); opacity:1.0;                     line-height:1.75\"><font color=\"black\"> suggested                    </font></mark><mark style=\"background-color: hsl(0, 75%, 98%); opacity:1.0;                     line-height:1.75\"><font color=\"black\"> that                    </font></mark><mark style=\"background-color: hsl(0, 75%, 100%); opacity:1.0;                     line-height:1.75\"><font color=\"black\"> \"it                    </font></mark><mark style=\"background-color: hsl(120, 75%, 99%); opacity:1.0;                     line-height:1.75\"><font color=\"black\"> would                    </font></mark><mark style=\"background-color: hsl(0, 75%, 100%); opacity:1.0;                     line-height:1.75\"><font color=\"black\"> appear                    </font></mark><mark style=\"background-color: hsl(0, 75%, 91%); opacity:1.0;                     line-height:1.75\"><font color=\"black\"> to                    </font></mark><mark style=\"background-color: hsl(0, 75%, 100%); opacity:1.0;                     line-height:1.75\"><font color=\"black\"> be                    </font></mark><mark style=\"background-color: hsl(120, 75%, 98%); opacity:1.0;                     line-height:1.75\"><font color=\"black\"> some                    </font></mark><mark style=\"background-color: hsl(0, 75%, 98%); opacity:1.0;                     line-height:1.75\"><font color=\"black\"> form                    </font></mark><mark style=\"background-color: hsl(120, 75%, 96%); opacity:1.0;                     line-height:1.75\"><font color=\"black\"> of                    </font></mark><mark style=\"background-color: hsl(0, 75%, 98%); opacity:1.0;                     line-height:1.75\"><font color=\"black\"> the                    </font></mark><mark style=\"background-color: hsl(120, 75%, 93%); opacity:1.0;                     line-height:1.75\"><font color=\"black\"> ordinary                    </font></mark><mark style=\"background-color: hsl(120, 75%, 96%); opacity:1.0;                     line-height:1.75\"><font color=\"black\"> eastern                    </font></mark><mark style=\"background-color: hsl(0, 75%, 97%); opacity:1.0;                     line-height:1.75\"><font color=\"black\"> or                    </font></mark><mark style=\"background-color: hsl(120, 75%, 99%); opacity:1.0;                     line-height:1.75\"><font color=\"black\"> bubonic                    </font></mark><mark style=\"background-color: hsl(120, 75%, 95%); opacity:1.0;                     line-height:1.75\"><font color=\"black\"> plague\".                    </font></mark><mark style=\"background-color: hsl(0, 75%, 96%); opacity:1.0;                     line-height:1.75\"><font color=\"black\"> [SEP]                    </font></mark></td><tr></table>"
      ],
      "text/plain": [
       "<IPython.core.display.HTML object>"
      ]
     },
     "metadata": {},
     "output_type": "display_data"
    },
    {
     "name": "stderr",
     "output_type": "stream",
     "text": [
      "/home/user/anaconda3/envs/metric/lib/python3.9/site-packages/captum/attr/_core/lime.py:1096: UserWarning: Attempting to construct interpretable model with > 10000 features.This can be very slow or lead to OOM issues. Please provide a featuremask which groups input features to reduce the number of interpretablefeatures. \n",
      "  warnings.warn(\n"
     ]
    },
    {
     "name": "stdout",
     "output_type": "stream",
     "text": [
      "<IPython.core.display.HTML object>\n",
      "Raw datum: ['Who shared sideline duties with Evan Washburn?', 'In the United States, the game was televised by CBS, as part of a cycle between the three main broadcast television partners of the NFL.']\n",
      "GT target: 0\n"
     ]
    },
    {
     "name": "stderr",
     "output_type": "stream",
     "text": [
      "Lime attribution: 100%|██████████████████████████████████████████████████████████████████████████████████████████████████████████| 5/5 [00:04<00:00,  1.16it/s]\n"
     ]
    },
    {
     "name": "stdout",
     "output_type": "stream",
     "text": [
      "word attr tensor([ 0.0790, -0.0932, -0.1718,  0.1110, -0.1534, -0.0054,  0.1949,  0.1788,\n",
      "        -0.0348, -0.0091,  0.3502, -0.0743, -0.0325, -0.0657,  0.0903,  0.1509,\n",
      "         0.3654,  0.0338,  0.2281, -0.0684, -0.3477,  0.0016, -0.1044, -0.0911,\n",
      "         0.1227,  0.2284,  0.0141, -0.2544,  0.0755,  0.0091, -0.0822, -0.2157,\n",
      "         0.1664, -0.0121,  0.0810,  0.0716, -0.2722, -0.0154, -0.0080,  0.0787,\n",
      "        -0.1162, -0.1661], device='cuda:0')\n",
      "conti attr [tensor(0.0790, device='cuda:0'), tensor(-0.0932, device='cuda:0'), tensor(-0.1718, device='cuda:0'), tensor(-0.0212, device='cuda:0'), tensor(-0.0054, device='cuda:0'), tensor(0.1949, device='cuda:0'), tensor(0.1788, device='cuda:0'), tensor(0.1641, device='cuda:0'), tensor(-0.0743, device='cuda:0'), tensor(-0.0325, device='cuda:0'), tensor(-0.0657, device='cuda:0'), tensor(0.0903, device='cuda:0'), tensor(0.1509, device='cuda:0'), tensor(0.1996, device='cuda:0'), tensor(0.2281, device='cuda:0'), tensor(-0.0684, device='cuda:0'), tensor(-0.3477, device='cuda:0'), tensor(0.0016, device='cuda:0'), tensor(-0.1044, device='cuda:0'), tensor(0.0158, device='cuda:0'), tensor(0.2284, device='cuda:0'), tensor(0.0141, device='cuda:0'), tensor(-0.2544, device='cuda:0'), tensor(0.0755, device='cuda:0'), tensor(0.0091, device='cuda:0'), tensor(-0.0822, device='cuda:0'), tensor(-0.2157, device='cuda:0'), tensor(0.1664, device='cuda:0'), tensor(-0.0121, device='cuda:0'), tensor(0.0810, device='cuda:0'), tensor(0.0716, device='cuda:0'), tensor(-0.2722, device='cuda:0'), tensor(-0.0154, device='cuda:0'), tensor(-0.0080, device='cuda:0'), tensor(-0.0187, device='cuda:0'), tensor(-0.1661, device='cuda:0')]\n",
      "detokenized ['[CLS]', 'who', 'shared', 'side', 'line', 'duties', 'with', 'evan', 'wash', 'burn', '?', '[SEP]', '[SEP]', 'in', 'the', 'united', 'states', ',', 'the', 'game', 'was', 'televised', 'by', 'cbs', ',', 'as', 'part', 'of', 'a', 'cycle', 'between', 'the', 'three', 'main', 'broadcast', 'television', 'partners', 'of', 'the', 'nfl', '.', '[SEP]']\n",
      "len conti_raw 36\n",
      "conti_raw ['[CLS]', 'who', 'shared', 'sideline', 'duties', 'with', 'evan', 'washburn?', '[SEP]', '[SEP]', 'in', 'the', 'united', 'states,', 'the', 'game', 'was', 'televised', 'by', 'cbs,', 'as', 'part', 'of', 'a', 'cycle', 'between', 'the', 'three', 'main', 'broadcast', 'television', 'partners', 'of', 'the', 'nfl.', '[SEP]']\n",
      "pred_prob 0.9370878338813782\n"
     ]
    },
    {
     "data": {
      "text/html": [
       "<table width: 100%><div style=\"border-top: 1px solid; margin-top: 5px;             padding-top: 5px; display: inline-block\"><b>Legend: </b><span style=\"display: inline-block; width: 10px; height: 10px;                 border: 1px solid; background-color:                 hsl(0, 75%, 60%)\"></span> Negative  <span style=\"display: inline-block; width: 10px; height: 10px;                 border: 1px solid; background-color:                 hsl(0, 75%, 100%)\"></span> Neutral  <span style=\"display: inline-block; width: 10px; height: 10px;                 border: 1px solid; background-color:                 hsl(120, 75%, 50%)\"></span> Positive  </div><tr><th>True Label</th><th>Predicted Label</th><th>Attribution Label</th><th>Attribution Score</th><th>Word Importance</th><tr><td><text style=\"padding-right:2em\"><b>No Entailment</b></text></td><td><text style=\"padding-right:2em\"><b>Entailment (0.94)</b></text></td><td><text style=\"padding-right:2em\"><b>No Entailment</b></text></td><td><text style=\"padding-right:2em\"><b>0.24</b></text></td><td><mark style=\"background-color: hsl(120, 75%, 97%); opacity:1.0;                     line-height:1.75\"><font color=\"black\"> [CLS]                    </font></mark><mark style=\"background-color: hsl(0, 75%, 97%); opacity:1.0;                     line-height:1.75\"><font color=\"black\"> who                    </font></mark><mark style=\"background-color: hsl(0, 75%, 94%); opacity:1.0;                     line-height:1.75\"><font color=\"black\"> shared                    </font></mark><mark style=\"background-color: hsl(0, 75%, 100%); opacity:1.0;                     line-height:1.75\"><font color=\"black\"> sideline                    </font></mark><mark style=\"background-color: hsl(0, 75%, 100%); opacity:1.0;                     line-height:1.75\"><font color=\"black\"> duties                    </font></mark><mark style=\"background-color: hsl(120, 75%, 91%); opacity:1.0;                     line-height:1.75\"><font color=\"black\"> with                    </font></mark><mark style=\"background-color: hsl(120, 75%, 92%); opacity:1.0;                     line-height:1.75\"><font color=\"black\"> evan                    </font></mark><mark style=\"background-color: hsl(120, 75%, 92%); opacity:1.0;                     line-height:1.75\"><font color=\"black\"> washburn?                    </font></mark><mark style=\"background-color: hsl(0, 75%, 98%); opacity:1.0;                     line-height:1.75\"><font color=\"black\"> [SEP]                    </font></mark><mark style=\"background-color: hsl(0, 75%, 99%); opacity:1.0;                     line-height:1.75\"><font color=\"black\"> [SEP]                    </font></mark><mark style=\"background-color: hsl(0, 75%, 98%); opacity:1.0;                     line-height:1.75\"><font color=\"black\"> in                    </font></mark><mark style=\"background-color: hsl(120, 75%, 96%); opacity:1.0;                     line-height:1.75\"><font color=\"black\"> the                    </font></mark><mark style=\"background-color: hsl(120, 75%, 93%); opacity:1.0;                     line-height:1.75\"><font color=\"black\"> united                    </font></mark><mark style=\"background-color: hsl(120, 75%, 91%); opacity:1.0;                     line-height:1.75\"><font color=\"black\"> states,                    </font></mark><mark style=\"background-color: hsl(120, 75%, 89%); opacity:1.0;                     line-height:1.75\"><font color=\"black\"> the                    </font></mark><mark style=\"background-color: hsl(0, 75%, 98%); opacity:1.0;                     line-height:1.75\"><font color=\"black\"> game                    </font></mark><mark style=\"background-color: hsl(0, 75%, 87%); opacity:1.0;                     line-height:1.75\"><font color=\"black\"> was                    </font></mark><mark style=\"background-color: hsl(120, 75%, 100%); opacity:1.0;                     line-height:1.75\"><font color=\"black\"> televised                    </font></mark><mark style=\"background-color: hsl(0, 75%, 96%); opacity:1.0;                     line-height:1.75\"><font color=\"black\"> by                    </font></mark><mark style=\"background-color: hsl(120, 75%, 100%); opacity:1.0;                     line-height:1.75\"><font color=\"black\"> cbs,                    </font></mark><mark style=\"background-color: hsl(120, 75%, 89%); opacity:1.0;                     line-height:1.75\"><font color=\"black\"> as                    </font></mark><mark style=\"background-color: hsl(120, 75%, 100%); opacity:1.0;                     line-height:1.75\"><font color=\"black\"> part                    </font></mark><mark style=\"background-color: hsl(0, 75%, 90%); opacity:1.0;                     line-height:1.75\"><font color=\"black\"> of                    </font></mark><mark style=\"background-color: hsl(120, 75%, 97%); opacity:1.0;                     line-height:1.75\"><font color=\"black\"> a                    </font></mark><mark style=\"background-color: hsl(120, 75%, 100%); opacity:1.0;                     line-height:1.75\"><font color=\"black\"> cycle                    </font></mark><mark style=\"background-color: hsl(0, 75%, 97%); opacity:1.0;                     line-height:1.75\"><font color=\"black\"> between                    </font></mark><mark style=\"background-color: hsl(0, 75%, 92%); opacity:1.0;                     line-height:1.75\"><font color=\"black\"> the                    </font></mark><mark style=\"background-color: hsl(120, 75%, 92%); opacity:1.0;                     line-height:1.75\"><font color=\"black\"> three                    </font></mark><mark style=\"background-color: hsl(0, 75%, 100%); opacity:1.0;                     line-height:1.75\"><font color=\"black\"> main                    </font></mark><mark style=\"background-color: hsl(120, 75%, 96%); opacity:1.0;                     line-height:1.75\"><font color=\"black\"> broadcast                    </font></mark><mark style=\"background-color: hsl(120, 75%, 97%); opacity:1.0;                     line-height:1.75\"><font color=\"black\"> television                    </font></mark><mark style=\"background-color: hsl(0, 75%, 90%); opacity:1.0;                     line-height:1.75\"><font color=\"black\"> partners                    </font></mark><mark style=\"background-color: hsl(0, 75%, 100%); opacity:1.0;                     line-height:1.75\"><font color=\"black\"> of                    </font></mark><mark style=\"background-color: hsl(0, 75%, 100%); opacity:1.0;                     line-height:1.75\"><font color=\"black\"> the                    </font></mark><mark style=\"background-color: hsl(0, 75%, 100%); opacity:1.0;                     line-height:1.75\"><font color=\"black\"> nfl.                    </font></mark><mark style=\"background-color: hsl(0, 75%, 94%); opacity:1.0;                     line-height:1.75\"><font color=\"black\"> [SEP]                    </font></mark></td><tr></table>"
      ],
      "text/plain": [
       "<IPython.core.display.HTML object>"
      ]
     },
     "metadata": {},
     "output_type": "display_data"
    },
    {
     "name": "stderr",
     "output_type": "stream",
     "text": [
      "/home/user/anaconda3/envs/metric/lib/python3.9/site-packages/captum/attr/_core/lime.py:1096: UserWarning: Attempting to construct interpretable model with > 10000 features.This can be very slow or lead to OOM issues. Please provide a featuremask which groups input features to reduce the number of interpretablefeatures. \n",
      "  warnings.warn(\n"
     ]
    },
    {
     "name": "stdout",
     "output_type": "stream",
     "text": [
      "<IPython.core.display.HTML object>\n",
      "Raw datum: ['Who was added to party as Washington went on the way?', 'Washington left with a small party, picking up along the way Jacob Van Braam as an interpreter; Christopher Gist, a company surveyor working in the area; and a few Mingo led by Tanaghrisson.']\n",
      "GT target: 1\n"
     ]
    },
    {
     "name": "stderr",
     "output_type": "stream",
     "text": [
      "Lime attribution: 100%|██████████████████████████████████████████████████████████████████████████████████████████████████████████| 5/5 [00:06<00:00,  1.31s/it]\n"
     ]
    },
    {
     "name": "stdout",
     "output_type": "stream",
     "text": [
      "word attr tensor([-0.4101,  0.1395, -0.0868,  0.0419, -0.0185,  0.0798, -0.1806,  0.1791,\n",
      "         0.0344,  0.0746,  0.0705,  0.0703,  0.0877,  0.0289, -0.0389,  0.1642,\n",
      "         0.1223,  0.1475, -0.2036, -0.0025, -0.0038, -0.1902,  0.1116,  0.0766,\n",
      "         0.0902, -0.1540, -0.1227,  0.0542,  0.0705, -0.1520, -0.0262, -0.1286,\n",
      "         0.0419,  0.1540, -0.1511,  0.0567, -0.0482,  0.1347, -0.2861,  0.0931,\n",
      "         0.0268,  0.0250, -0.1779, -0.1445,  0.0724, -0.1144,  0.1940,  0.2529,\n",
      "         0.0130,  0.0099, -0.0517,  0.0345, -0.0377,  0.2144,  0.1172,  0.0307,\n",
      "         0.0792, -0.0468,  0.1881, -0.0628], device='cuda:0')\n",
      "conti attr [tensor(-0.4101, device='cuda:0'), tensor(0.1395, device='cuda:0'), tensor(-0.0868, device='cuda:0'), tensor(0.0419, device='cuda:0'), tensor(-0.0185, device='cuda:0'), tensor(0.0798, device='cuda:0'), tensor(-0.1806, device='cuda:0'), tensor(0.1791, device='cuda:0'), tensor(0.0344, device='cuda:0'), tensor(0.0746, device='cuda:0'), tensor(0.0705, device='cuda:0'), tensor(0.0790, device='cuda:0'), tensor(0.0289, device='cuda:0'), tensor(-0.0389, device='cuda:0'), tensor(0.1642, device='cuda:0'), tensor(0.1223, device='cuda:0'), tensor(0.1475, device='cuda:0'), tensor(-0.2036, device='cuda:0'), tensor(-0.0025, device='cuda:0'), tensor(-0.0970, device='cuda:0'), tensor(0.1116, device='cuda:0'), tensor(0.0766, device='cuda:0'), tensor(0.0902, device='cuda:0'), tensor(-0.1540, device='cuda:0'), tensor(-0.1227, device='cuda:0'), tensor(0.0542, device='cuda:0'), tensor(0.0705, device='cuda:0'), tensor(-0.0891, device='cuda:0'), tensor(-0.1286, device='cuda:0'), tensor(0.0419, device='cuda:0'), tensor(0.0014, device='cuda:0'), tensor(0.0567, device='cuda:0'), tensor(-0.1214, device='cuda:0'), tensor(0.0931, device='cuda:0'), tensor(0.0268, device='cuda:0'), tensor(0.0250, device='cuda:0'), tensor(-0.1779, device='cuda:0'), tensor(-0.1445, device='cuda:0'), tensor(0.0724, device='cuda:0'), tensor(0.0398, device='cuda:0'), tensor(0.2529, device='cuda:0'), tensor(0.0130, device='cuda:0'), tensor(0.0099, device='cuda:0'), tensor(-0.0086, device='cuda:0'), tensor(-0.0377, device='cuda:0'), tensor(0.2144, device='cuda:0'), tensor(0.1015, device='cuda:0'), tensor(-0.0628, device='cuda:0')]\n",
      "detokenized ['[CLS]', 'who', 'was', 'added', 'to', 'party', 'as', 'washington', 'went', 'on', 'the', 'way', '?', '[SEP]', '[SEP]', 'washington', 'left', 'with', 'a', 'small', 'party', ',', 'picking', 'up', 'along', 'the', 'way', 'jacob', 'van', 'bra', 'am', 'as', 'an', 'interpreter', ';', 'christopher', 'gi', 'st', ',', 'a', 'company', 'surveyor', 'working', 'in', 'the', 'area', ';', 'and', 'a', 'few', 'ming', 'o', 'led', 'by', 'tan', 'agh', 'ris', 'son', '.', '[SEP]']\n",
      "len conti_raw 48\n",
      "conti_raw ['[CLS]', 'who', 'was', 'added', 'to', 'party', 'as', 'washington', 'went', 'on', 'the', 'way?', '[SEP]', '[SEP]', 'washington', 'left', 'with', 'a', 'small', 'party,', 'picking', 'up', 'along', 'the', 'way', 'jacob', 'van', 'braam', 'as', 'an', 'interpreter;', 'christopher', 'gist,', 'a', 'company', 'surveyor', 'working', 'in', 'the', 'area;', 'and', 'a', 'few', 'mingo', 'led', 'by', 'tanaghrisson.', '[SEP]']\n",
      "pred_prob 0.8867630362510681\n"
     ]
    },
    {
     "data": {
      "text/html": [
       "<table width: 100%><div style=\"border-top: 1px solid; margin-top: 5px;             padding-top: 5px; display: inline-block\"><b>Legend: </b><span style=\"display: inline-block; width: 10px; height: 10px;                 border: 1px solid; background-color:                 hsl(0, 75%, 60%)\"></span> Negative  <span style=\"display: inline-block; width: 10px; height: 10px;                 border: 1px solid; background-color:                 hsl(0, 75%, 100%)\"></span> Neutral  <span style=\"display: inline-block; width: 10px; height: 10px;                 border: 1px solid; background-color:                 hsl(120, 75%, 50%)\"></span> Positive  </div><tr><th>True Label</th><th>Predicted Label</th><th>Attribution Label</th><th>Attribution Score</th><th>Word Importance</th><tr><td><text style=\"padding-right:2em\"><b>Entailment</b></text></td><td><text style=\"padding-right:2em\"><b>Entailment (0.89)</b></text></td><td><text style=\"padding-right:2em\"><b>Entailment</b></text></td><td><text style=\"padding-right:2em\"><b>0.54</b></text></td><td><mark style=\"background-color: hsl(0, 75%, 84%); opacity:1.0;                     line-height:1.75\"><font color=\"black\"> [CLS]                    </font></mark><mark style=\"background-color: hsl(120, 75%, 94%); opacity:1.0;                     line-height:1.75\"><font color=\"black\"> who                    </font></mark><mark style=\"background-color: hsl(0, 75%, 97%); opacity:1.0;                     line-height:1.75\"><font color=\"black\"> was                    </font></mark><mark style=\"background-color: hsl(120, 75%, 98%); opacity:1.0;                     line-height:1.75\"><font color=\"black\"> added                    </font></mark><mark style=\"background-color: hsl(0, 75%, 100%); opacity:1.0;                     line-height:1.75\"><font color=\"black\"> to                    </font></mark><mark style=\"background-color: hsl(120, 75%, 97%); opacity:1.0;                     line-height:1.75\"><font color=\"black\"> party                    </font></mark><mark style=\"background-color: hsl(0, 75%, 93%); opacity:1.0;                     line-height:1.75\"><font color=\"black\"> as                    </font></mark><mark style=\"background-color: hsl(120, 75%, 92%); opacity:1.0;                     line-height:1.75\"><font color=\"black\"> washington                    </font></mark><mark style=\"background-color: hsl(120, 75%, 99%); opacity:1.0;                     line-height:1.75\"><font color=\"black\"> went                    </font></mark><mark style=\"background-color: hsl(120, 75%, 97%); opacity:1.0;                     line-height:1.75\"><font color=\"black\"> on                    </font></mark><mark style=\"background-color: hsl(120, 75%, 97%); opacity:1.0;                     line-height:1.75\"><font color=\"black\"> the                    </font></mark><mark style=\"background-color: hsl(120, 75%, 97%); opacity:1.0;                     line-height:1.75\"><font color=\"black\"> way?                    </font></mark><mark style=\"background-color: hsl(120, 75%, 99%); opacity:1.0;                     line-height:1.75\"><font color=\"black\"> [SEP]                    </font></mark><mark style=\"background-color: hsl(0, 75%, 99%); opacity:1.0;                     line-height:1.75\"><font color=\"black\"> [SEP]                    </font></mark><mark style=\"background-color: hsl(120, 75%, 92%); opacity:1.0;                     line-height:1.75\"><font color=\"black\"> washington                    </font></mark><mark style=\"background-color: hsl(120, 75%, 94%); opacity:1.0;                     line-height:1.75\"><font color=\"black\"> left                    </font></mark><mark style=\"background-color: hsl(120, 75%, 93%); opacity:1.0;                     line-height:1.75\"><font color=\"black\"> with                    </font></mark><mark style=\"background-color: hsl(0, 75%, 92%); opacity:1.0;                     line-height:1.75\"><font color=\"black\"> a                    </font></mark><mark style=\"background-color: hsl(0, 75%, 100%); opacity:1.0;                     line-height:1.75\"><font color=\"black\"> small                    </font></mark><mark style=\"background-color: hsl(0, 75%, 97%); opacity:1.0;                     line-height:1.75\"><font color=\"black\"> party,                    </font></mark><mark style=\"background-color: hsl(120, 75%, 95%); opacity:1.0;                     line-height:1.75\"><font color=\"black\"> picking                    </font></mark><mark style=\"background-color: hsl(120, 75%, 97%); opacity:1.0;                     line-height:1.75\"><font color=\"black\"> up                    </font></mark><mark style=\"background-color: hsl(120, 75%, 96%); opacity:1.0;                     line-height:1.75\"><font color=\"black\"> along                    </font></mark><mark style=\"background-color: hsl(0, 75%, 94%); opacity:1.0;                     line-height:1.75\"><font color=\"black\"> the                    </font></mark><mark style=\"background-color: hsl(0, 75%, 96%); opacity:1.0;                     line-height:1.75\"><font color=\"black\"> way                    </font></mark><mark style=\"background-color: hsl(120, 75%, 98%); opacity:1.0;                     line-height:1.75\"><font color=\"black\"> jacob                    </font></mark><mark style=\"background-color: hsl(120, 75%, 97%); opacity:1.0;                     line-height:1.75\"><font color=\"black\"> van                    </font></mark><mark style=\"background-color: hsl(0, 75%, 97%); opacity:1.0;                     line-height:1.75\"><font color=\"black\"> braam                    </font></mark><mark style=\"background-color: hsl(0, 75%, 95%); opacity:1.0;                     line-height:1.75\"><font color=\"black\"> as                    </font></mark><mark style=\"background-color: hsl(120, 75%, 98%); opacity:1.0;                     line-height:1.75\"><font color=\"black\"> an                    </font></mark><mark style=\"background-color: hsl(120, 75%, 100%); opacity:1.0;                     line-height:1.75\"><font color=\"black\"> interpreter;                    </font></mark><mark style=\"background-color: hsl(120, 75%, 98%); opacity:1.0;                     line-height:1.75\"><font color=\"black\"> christopher                    </font></mark><mark style=\"background-color: hsl(0, 75%, 96%); opacity:1.0;                     line-height:1.75\"><font color=\"black\"> gist,                    </font></mark><mark style=\"background-color: hsl(120, 75%, 96%); opacity:1.0;                     line-height:1.75\"><font color=\"black\"> a                    </font></mark><mark style=\"background-color: hsl(120, 75%, 99%); opacity:1.0;                     line-height:1.75\"><font color=\"black\"> company                    </font></mark><mark style=\"background-color: hsl(120, 75%, 99%); opacity:1.0;                     line-height:1.75\"><font color=\"black\"> surveyor                    </font></mark><mark style=\"background-color: hsl(0, 75%, 93%); opacity:1.0;                     line-height:1.75\"><font color=\"black\"> working                    </font></mark><mark style=\"background-color: hsl(0, 75%, 95%); opacity:1.0;                     line-height:1.75\"><font color=\"black\"> in                    </font></mark><mark style=\"background-color: hsl(120, 75%, 97%); opacity:1.0;                     line-height:1.75\"><font color=\"black\"> the                    </font></mark><mark style=\"background-color: hsl(120, 75%, 99%); opacity:1.0;                     line-height:1.75\"><font color=\"black\"> area;                    </font></mark><mark style=\"background-color: hsl(120, 75%, 88%); opacity:1.0;                     line-height:1.75\"><font color=\"black\"> and                    </font></mark><mark style=\"background-color: hsl(120, 75%, 100%); opacity:1.0;                     line-height:1.75\"><font color=\"black\"> a                    </font></mark><mark style=\"background-color: hsl(120, 75%, 100%); opacity:1.0;                     line-height:1.75\"><font color=\"black\"> few                    </font></mark><mark style=\"background-color: hsl(0, 75%, 100%); opacity:1.0;                     line-height:1.75\"><font color=\"black\"> mingo                    </font></mark><mark style=\"background-color: hsl(0, 75%, 99%); opacity:1.0;                     line-height:1.75\"><font color=\"black\"> led                    </font></mark><mark style=\"background-color: hsl(120, 75%, 90%); opacity:1.0;                     line-height:1.75\"><font color=\"black\"> by                    </font></mark><mark style=\"background-color: hsl(120, 75%, 95%); opacity:1.0;                     line-height:1.75\"><font color=\"black\"> tanaghrisson.                    </font></mark><mark style=\"background-color: hsl(0, 75%, 98%); opacity:1.0;                     line-height:1.75\"><font color=\"black\"> [SEP]                    </font></mark></td><tr></table>"
      ],
      "text/plain": [
       "<IPython.core.display.HTML object>"
      ]
     },
     "metadata": {},
     "output_type": "display_data"
    },
    {
     "name": "stderr",
     "output_type": "stream",
     "text": [
      "/home/user/anaconda3/envs/metric/lib/python3.9/site-packages/captum/attr/_core/lime.py:1096: UserWarning: Attempting to construct interpretable model with > 10000 features.This can be very slow or lead to OOM issues. Please provide a featuremask which groups input features to reduce the number of interpretablefeatures. \n",
      "  warnings.warn(\n"
     ]
    },
    {
     "name": "stdout",
     "output_type": "stream",
     "text": [
      "<IPython.core.display.HTML object>\n",
      "Raw datum: ['What did Queen Elizabeth II open in Newcastle in 1981?', \"It was opened in five phases between 1980 and 1984, and was Britain's first urban light rail transit system; two extensions were opened in 1991 and 2002.\"]\n",
      "GT target: 0\n"
     ]
    },
    {
     "name": "stderr",
     "output_type": "stream",
     "text": [
      "Lime attribution: 100%|██████████████████████████████████████████████████████████████████████████████████████████████████████████| 5/5 [00:04<00:00,  1.02it/s]\n"
     ]
    },
    {
     "name": "stdout",
     "output_type": "stream",
     "text": [
      "word attr tensor([ 0.4795,  0.0326,  0.0775, -0.1589, -0.0439,  0.0398,  0.0170,  0.0070,\n",
      "         0.2946, -0.0547,  0.1701,  0.0202,  0.1567, -0.0718,  0.1032, -0.1204,\n",
      "         0.2496, -0.1150,  0.0570, -0.0300, -0.0299,  0.1691,  0.2363, -0.0748,\n",
      "         0.0865,  0.1033,  0.1212, -0.2130, -0.1762, -0.2506,  0.0062, -0.0494,\n",
      "         0.0237, -0.0267,  0.1099,  0.0827,  0.1265, -0.1017, -0.1729, -0.1466,\n",
      "         0.1339, -0.1488, -0.0833,  0.1035,  0.2163,  0.0235,  0.1089],\n",
      "       device='cuda:0')\n",
      "conti attr [tensor(0.4795, device='cuda:0'), tensor(0.0326, device='cuda:0'), tensor(0.0775, device='cuda:0'), tensor(-0.1589, device='cuda:0'), tensor(-0.0439, device='cuda:0'), tensor(0.0398, device='cuda:0'), tensor(0.0170, device='cuda:0'), tensor(0.0070, device='cuda:0'), tensor(0.2946, device='cuda:0'), tensor(-0.0547, device='cuda:0'), tensor(0.0951, device='cuda:0'), tensor(0.1567, device='cuda:0'), tensor(-0.0718, device='cuda:0'), tensor(0.1032, device='cuda:0'), tensor(-0.1204, device='cuda:0'), tensor(0.2496, device='cuda:0'), tensor(-0.1150, device='cuda:0'), tensor(0.0570, device='cuda:0'), tensor(-0.0300, device='cuda:0'), tensor(-0.0299, device='cuda:0'), tensor(0.1691, device='cuda:0'), tensor(0.2363, device='cuda:0'), tensor(0.0058, device='cuda:0'), tensor(0.1033, device='cuda:0'), tensor(0.1212, device='cuda:0'), tensor(-0.2226, device='cuda:0'), tensor(0.0062, device='cuda:0'), tensor(-0.0494, device='cuda:0'), tensor(0.0237, device='cuda:0'), tensor(-0.0267, device='cuda:0'), tensor(0.1099, device='cuda:0'), tensor(0.1046, device='cuda:0'), tensor(-0.1017, device='cuda:0'), tensor(-0.1729, device='cuda:0'), tensor(-0.1466, device='cuda:0'), tensor(0.1339, device='cuda:0'), tensor(-0.1488, device='cuda:0'), tensor(-0.0833, device='cuda:0'), tensor(0.1035, device='cuda:0'), tensor(0.1199, device='cuda:0'), tensor(0.1089, device='cuda:0')]\n",
      "detokenized ['[CLS]', 'what', 'did', 'queen', 'elizabeth', 'ii', 'open', 'in', 'newcastle', 'in', '1981', '?', '[SEP]', '[SEP]', 'it', 'was', 'opened', 'in', 'five', 'phases', 'between', '1980', 'and', '1984', ',', 'and', 'was', 'britain', \"'\", 's', 'first', 'urban', 'light', 'rail', 'transit', 'system', ';', 'two', 'extensions', 'were', 'opened', 'in', '1991', 'and', '2002', '.', '[SEP]']\n",
      "len conti_raw 41\n",
      "conti_raw ['[CLS]', 'what', 'did', 'queen', 'elizabeth', 'ii', 'open', 'in', 'newcastle', 'in', '1981?', '[SEP]', '[SEP]', 'it', 'was', 'opened', 'in', 'five', 'phases', 'between', '1980', 'and', '1984,', 'and', 'was', \"britain's\", 'first', 'urban', 'light', 'rail', 'transit', 'system;', 'two', 'extensions', 'were', 'opened', 'in', '1991', 'and', '2002.', '[SEP]']\n",
      "pred_prob 0.8243213295936584\n"
     ]
    },
    {
     "data": {
      "text/html": [
       "<table width: 100%><div style=\"border-top: 1px solid; margin-top: 5px;             padding-top: 5px; display: inline-block\"><b>Legend: </b><span style=\"display: inline-block; width: 10px; height: 10px;                 border: 1px solid; background-color:                 hsl(0, 75%, 60%)\"></span> Negative  <span style=\"display: inline-block; width: 10px; height: 10px;                 border: 1px solid; background-color:                 hsl(0, 75%, 100%)\"></span> Neutral  <span style=\"display: inline-block; width: 10px; height: 10px;                 border: 1px solid; background-color:                 hsl(120, 75%, 50%)\"></span> Positive  </div><tr><th>True Label</th><th>Predicted Label</th><th>Attribution Label</th><th>Attribution Score</th><th>Word Importance</th><tr><td><text style=\"padding-right:2em\"><b>No Entailment</b></text></td><td><text style=\"padding-right:2em\"><b>Entailment (0.82)</b></text></td><td><text style=\"padding-right:2em\"><b>Entailment</b></text></td><td><text style=\"padding-right:2em\"><b>1.29</b></text></td><td><mark style=\"background-color: hsl(120, 75%, 77%); opacity:1.0;                     line-height:1.75\"><font color=\"black\"> [CLS]                    </font></mark><mark style=\"background-color: hsl(120, 75%, 99%); opacity:1.0;                     line-height:1.75\"><font color=\"black\"> what                    </font></mark><mark style=\"background-color: hsl(120, 75%, 97%); opacity:1.0;                     line-height:1.75\"><font color=\"black\"> did                    </font></mark><mark style=\"background-color: hsl(0, 75%, 94%); opacity:1.0;                     line-height:1.75\"><font color=\"black\"> queen                    </font></mark><mark style=\"background-color: hsl(0, 75%, 99%); opacity:1.0;                     line-height:1.75\"><font color=\"black\"> elizabeth                    </font></mark><mark style=\"background-color: hsl(120, 75%, 99%); opacity:1.0;                     line-height:1.75\"><font color=\"black\"> ii                    </font></mark><mark style=\"background-color: hsl(120, 75%, 100%); opacity:1.0;                     line-height:1.75\"><font color=\"black\"> open                    </font></mark><mark style=\"background-color: hsl(120, 75%, 100%); opacity:1.0;                     line-height:1.75\"><font color=\"black\"> in                    </font></mark><mark style=\"background-color: hsl(120, 75%, 86%); opacity:1.0;                     line-height:1.75\"><font color=\"black\"> newcastle                    </font></mark><mark style=\"background-color: hsl(0, 75%, 98%); opacity:1.0;                     line-height:1.75\"><font color=\"black\"> in                    </font></mark><mark style=\"background-color: hsl(120, 75%, 96%); opacity:1.0;                     line-height:1.75\"><font color=\"black\"> 1981?                    </font></mark><mark style=\"background-color: hsl(120, 75%, 93%); opacity:1.0;                     line-height:1.75\"><font color=\"black\"> [SEP]                    </font></mark><mark style=\"background-color: hsl(0, 75%, 98%); opacity:1.0;                     line-height:1.75\"><font color=\"black\"> [SEP]                    </font></mark><mark style=\"background-color: hsl(120, 75%, 95%); opacity:1.0;                     line-height:1.75\"><font color=\"black\"> it                    </font></mark><mark style=\"background-color: hsl(0, 75%, 96%); opacity:1.0;                     line-height:1.75\"><font color=\"black\"> was                    </font></mark><mark style=\"background-color: hsl(120, 75%, 88%); opacity:1.0;                     line-height:1.75\"><font color=\"black\"> opened                    </font></mark><mark style=\"background-color: hsl(0, 75%, 96%); opacity:1.0;                     line-height:1.75\"><font color=\"black\"> in                    </font></mark><mark style=\"background-color: hsl(120, 75%, 98%); opacity:1.0;                     line-height:1.75\"><font color=\"black\"> five                    </font></mark><mark style=\"background-color: hsl(0, 75%, 99%); opacity:1.0;                     line-height:1.75\"><font color=\"black\"> phases                    </font></mark><mark style=\"background-color: hsl(0, 75%, 99%); opacity:1.0;                     line-height:1.75\"><font color=\"black\"> between                    </font></mark><mark style=\"background-color: hsl(120, 75%, 92%); opacity:1.0;                     line-height:1.75\"><font color=\"black\"> 1980                    </font></mark><mark style=\"background-color: hsl(120, 75%, 89%); opacity:1.0;                     line-height:1.75\"><font color=\"black\"> and                    </font></mark><mark style=\"background-color: hsl(120, 75%, 100%); opacity:1.0;                     line-height:1.75\"><font color=\"black\"> 1984,                    </font></mark><mark style=\"background-color: hsl(120, 75%, 95%); opacity:1.0;                     line-height:1.75\"><font color=\"black\"> and                    </font></mark><mark style=\"background-color: hsl(120, 75%, 94%); opacity:1.0;                     line-height:1.75\"><font color=\"black\"> was                    </font></mark><mark style=\"background-color: hsl(0, 75%, 92%); opacity:1.0;                     line-height:1.75\"><font color=\"black\"> britain's                    </font></mark><mark style=\"background-color: hsl(120, 75%, 100%); opacity:1.0;                     line-height:1.75\"><font color=\"black\"> first                    </font></mark><mark style=\"background-color: hsl(0, 75%, 99%); opacity:1.0;                     line-height:1.75\"><font color=\"black\"> urban                    </font></mark><mark style=\"background-color: hsl(120, 75%, 99%); opacity:1.0;                     line-height:1.75\"><font color=\"black\"> light                    </font></mark><mark style=\"background-color: hsl(0, 75%, 99%); opacity:1.0;                     line-height:1.75\"><font color=\"black\"> rail                    </font></mark><mark style=\"background-color: hsl(120, 75%, 95%); opacity:1.0;                     line-height:1.75\"><font color=\"black\"> transit                    </font></mark><mark style=\"background-color: hsl(120, 75%, 95%); opacity:1.0;                     line-height:1.75\"><font color=\"black\"> system;                    </font></mark><mark style=\"background-color: hsl(0, 75%, 96%); opacity:1.0;                     line-height:1.75\"><font color=\"black\"> two                    </font></mark><mark style=\"background-color: hsl(0, 75%, 94%); opacity:1.0;                     line-height:1.75\"><font color=\"black\"> extensions                    </font></mark><mark style=\"background-color: hsl(0, 75%, 95%); opacity:1.0;                     line-height:1.75\"><font color=\"black\"> were                    </font></mark><mark style=\"background-color: hsl(120, 75%, 94%); opacity:1.0;                     line-height:1.75\"><font color=\"black\"> opened                    </font></mark><mark style=\"background-color: hsl(0, 75%, 95%); opacity:1.0;                     line-height:1.75\"><font color=\"black\"> in                    </font></mark><mark style=\"background-color: hsl(0, 75%, 97%); opacity:1.0;                     line-height:1.75\"><font color=\"black\"> 1991                    </font></mark><mark style=\"background-color: hsl(120, 75%, 95%); opacity:1.0;                     line-height:1.75\"><font color=\"black\"> and                    </font></mark><mark style=\"background-color: hsl(120, 75%, 95%); opacity:1.0;                     line-height:1.75\"><font color=\"black\"> 2002.                    </font></mark><mark style=\"background-color: hsl(120, 75%, 95%); opacity:1.0;                     line-height:1.75\"><font color=\"black\"> [SEP]                    </font></mark></td><tr></table>"
      ],
      "text/plain": [
       "<IPython.core.display.HTML object>"
      ]
     },
     "metadata": {},
     "output_type": "display_data"
    },
    {
     "name": "stderr",
     "output_type": "stream",
     "text": [
      "/home/user/anaconda3/envs/metric/lib/python3.9/site-packages/captum/attr/_core/lime.py:1096: UserWarning: Attempting to construct interpretable model with > 10000 features.This can be very slow or lead to OOM issues. Please provide a featuremask which groups input features to reduce the number of interpretablefeatures. \n",
      "  warnings.warn(\n"
     ]
    },
    {
     "name": "stdout",
     "output_type": "stream",
     "text": [
      "<IPython.core.display.HTML object>\n",
      "Raw datum: ['What writing inspired the name Great Yuan?', 'Furthermore, the Yuan is sometimes known as the \"Empire of the Great Khan\" or \"Khanate of the Great Khan\", which particularly appeared on some Yuan maps, since Yuan emperors held the nominal title of Great Khan.']\n",
      "GT target: 0\n"
     ]
    },
    {
     "name": "stderr",
     "output_type": "stream",
     "text": [
      "Lime attribution: 100%|██████████████████████████████████████████████████████████████████████████████████████████████████████████| 5/5 [00:05<00:00,  1.12s/it]\n"
     ]
    },
    {
     "name": "stdout",
     "output_type": "stream",
     "text": [
      "word attr tensor([ 0.4468,  0.0791,  0.4461,  0.3754, -0.0283,  0.0830, -0.0014, -0.0104,\n",
      "        -0.2004, -0.0533, -0.0173, -0.0411,  0.0216,  0.1340,  0.0573, -0.0706,\n",
      "         0.0539, -0.0611, -0.0672, -0.1406,  0.0523, -0.0663, -0.0202,  0.0628,\n",
      "        -0.0398,  0.0037, -0.0437, -0.0805,  0.1098, -0.0212, -0.0669,  0.1557,\n",
      "         0.0280,  0.1362, -0.1141,  0.0881,  0.1327, -0.0279,  0.0619, -0.0404,\n",
      "        -0.0672, -0.0541, -0.1493, -0.0392, -0.0281,  0.0097,  0.2448, -0.1245,\n",
      "        -0.0512,  0.0988, -0.0196, -0.2677, -0.0103, -0.1441, -0.0530,  0.0299,\n",
      "        -0.0234], device='cuda:0')\n",
      "conti attr [tensor(0.4468, device='cuda:0'), tensor(0.0791, device='cuda:0'), tensor(0.4461, device='cuda:0'), tensor(0.3754, device='cuda:0'), tensor(-0.0283, device='cuda:0'), tensor(0.0830, device='cuda:0'), tensor(-0.0014, device='cuda:0'), tensor(-0.1054, device='cuda:0'), tensor(-0.0533, device='cuda:0'), tensor(-0.0173, device='cuda:0'), tensor(-0.0098, device='cuda:0'), tensor(0.1340, device='cuda:0'), tensor(0.0573, device='cuda:0'), tensor(-0.0706, device='cuda:0'), tensor(0.0539, device='cuda:0'), tensor(-0.0611, device='cuda:0'), tensor(-0.0672, device='cuda:0'), tensor(-0.1406, device='cuda:0'), tensor(-0.0070, device='cuda:0'), tensor(-0.0202, device='cuda:0'), tensor(0.0628, device='cuda:0'), tensor(-0.0398, device='cuda:0'), tensor(-0.0200, device='cuda:0'), tensor(-0.0805, device='cuda:0'), tensor(-0.0113, device='cuda:0'), tensor(0.1557, device='cuda:0'), tensor(0.0280, device='cuda:0'), tensor(0.1362, device='cuda:0'), tensor(0.0598, device='cuda:0'), tensor(-0.0279, device='cuda:0'), tensor(0.0619, device='cuda:0'), tensor(-0.0404, device='cuda:0'), tensor(-0.0672, device='cuda:0'), tensor(-0.0541, device='cuda:0'), tensor(-0.1493, device='cuda:0'), tensor(-0.0337, device='cuda:0'), tensor(0.0097, device='cuda:0'), tensor(0.2448, device='cuda:0'), tensor(-0.1245, device='cuda:0'), tensor(-0.0512, device='cuda:0'), tensor(0.0988, device='cuda:0'), tensor(-0.0196, device='cuda:0'), tensor(-0.2677, device='cuda:0'), tensor(-0.0103, device='cuda:0'), tensor(-0.1441, device='cuda:0'), tensor(-0.0116, device='cuda:0'), tensor(-0.0234, device='cuda:0')]\n",
      "detokenized ['[CLS]', 'what', 'writing', 'inspired', 'the', 'name', 'great', 'yuan', '?', '[SEP]', '[SEP]', 'furthermore', ',', 'the', 'yuan', 'is', 'sometimes', 'known', 'as', 'the', '\"', 'empire', 'of', 'the', 'great', 'khan', '\"', 'or', '\"', 'khan', 'ate', 'of', 'the', 'great', 'khan', '\"', ',', 'which', 'particularly', 'appeared', 'on', 'some', 'yuan', 'maps', ',', 'since', 'yuan', 'emperors', 'held', 'the', 'nominal', 'title', 'of', 'great', 'khan', '.', '[SEP]']\n",
      "len conti_raw 47\n",
      "conti_raw ['[CLS]', 'what', 'writing', 'inspired', 'the', 'name', 'great', 'yuan?', '[SEP]', '[SEP]', 'furthermore,', 'the', 'yuan', 'is', 'sometimes', 'known', 'as', 'the', '\"empire', 'of', 'the', 'great', 'khan\"', 'or', '\"khanate', 'of', 'the', 'great', 'khan\",', 'which', 'particularly', 'appeared', 'on', 'some', 'yuan', 'maps,', 'since', 'yuan', 'emperors', 'held', 'the', 'nominal', 'title', 'of', 'great', 'khan.', '[SEP]']\n",
      "pred_prob 0.9457733035087585\n"
     ]
    },
    {
     "data": {
      "text/html": [
       "<table width: 100%><div style=\"border-top: 1px solid; margin-top: 5px;             padding-top: 5px; display: inline-block\"><b>Legend: </b><span style=\"display: inline-block; width: 10px; height: 10px;                 border: 1px solid; background-color:                 hsl(0, 75%, 60%)\"></span> Negative  <span style=\"display: inline-block; width: 10px; height: 10px;                 border: 1px solid; background-color:                 hsl(0, 75%, 100%)\"></span> Neutral  <span style=\"display: inline-block; width: 10px; height: 10px;                 border: 1px solid; background-color:                 hsl(120, 75%, 50%)\"></span> Positive  </div><tr><th>True Label</th><th>Predicted Label</th><th>Attribution Label</th><th>Attribution Score</th><th>Word Importance</th><tr><td><text style=\"padding-right:2em\"><b>No Entailment</b></text></td><td><text style=\"padding-right:2em\"><b>Entailment (0.95)</b></text></td><td><text style=\"padding-right:2em\"><b>Entailment</b></text></td><td><text style=\"padding-right:2em\"><b>0.67</b></text></td><td><mark style=\"background-color: hsl(120, 75%, 78%); opacity:1.0;                     line-height:1.75\"><font color=\"black\"> [CLS]                    </font></mark><mark style=\"background-color: hsl(120, 75%, 97%); opacity:1.0;                     line-height:1.75\"><font color=\"black\"> what                    </font></mark><mark style=\"background-color: hsl(120, 75%, 78%); opacity:1.0;                     line-height:1.75\"><font color=\"black\"> writing                    </font></mark><mark style=\"background-color: hsl(120, 75%, 82%); opacity:1.0;                     line-height:1.75\"><font color=\"black\"> inspired                    </font></mark><mark style=\"background-color: hsl(0, 75%, 99%); opacity:1.0;                     line-height:1.75\"><font color=\"black\"> the                    </font></mark><mark style=\"background-color: hsl(120, 75%, 96%); opacity:1.0;                     line-height:1.75\"><font color=\"black\"> name                    </font></mark><mark style=\"background-color: hsl(0, 75%, 100%); opacity:1.0;                     line-height:1.75\"><font color=\"black\"> great                    </font></mark><mark style=\"background-color: hsl(0, 75%, 96%); opacity:1.0;                     line-height:1.75\"><font color=\"black\"> yuan?                    </font></mark><mark style=\"background-color: hsl(0, 75%, 98%); opacity:1.0;                     line-height:1.75\"><font color=\"black\"> [SEP]                    </font></mark><mark style=\"background-color: hsl(0, 75%, 100%); opacity:1.0;                     line-height:1.75\"><font color=\"black\"> [SEP]                    </font></mark><mark style=\"background-color: hsl(0, 75%, 100%); opacity:1.0;                     line-height:1.75\"><font color=\"black\"> furthermore,                    </font></mark><mark style=\"background-color: hsl(120, 75%, 94%); opacity:1.0;                     line-height:1.75\"><font color=\"black\"> the                    </font></mark><mark style=\"background-color: hsl(120, 75%, 98%); opacity:1.0;                     line-height:1.75\"><font color=\"black\"> yuan                    </font></mark><mark style=\"background-color: hsl(0, 75%, 98%); opacity:1.0;                     line-height:1.75\"><font color=\"black\"> is                    </font></mark><mark style=\"background-color: hsl(120, 75%, 98%); opacity:1.0;                     line-height:1.75\"><font color=\"black\"> sometimes                    </font></mark><mark style=\"background-color: hsl(0, 75%, 98%); opacity:1.0;                     line-height:1.75\"><font color=\"black\"> known                    </font></mark><mark style=\"background-color: hsl(0, 75%, 98%); opacity:1.0;                     line-height:1.75\"><font color=\"black\"> as                    </font></mark><mark style=\"background-color: hsl(0, 75%, 95%); opacity:1.0;                     line-height:1.75\"><font color=\"black\"> the                    </font></mark><mark style=\"background-color: hsl(0, 75%, 100%); opacity:1.0;                     line-height:1.75\"><font color=\"black\"> \"empire                    </font></mark><mark style=\"background-color: hsl(0, 75%, 100%); opacity:1.0;                     line-height:1.75\"><font color=\"black\"> of                    </font></mark><mark style=\"background-color: hsl(120, 75%, 97%); opacity:1.0;                     line-height:1.75\"><font color=\"black\"> the                    </font></mark><mark style=\"background-color: hsl(0, 75%, 99%); opacity:1.0;                     line-height:1.75\"><font color=\"black\"> great                    </font></mark><mark style=\"background-color: hsl(0, 75%, 100%); opacity:1.0;                     line-height:1.75\"><font color=\"black\"> khan\"                    </font></mark><mark style=\"background-color: hsl(0, 75%, 97%); opacity:1.0;                     line-height:1.75\"><font color=\"black\"> or                    </font></mark><mark style=\"background-color: hsl(0, 75%, 100%); opacity:1.0;                     line-height:1.75\"><font color=\"black\"> \"khanate                    </font></mark><mark style=\"background-color: hsl(120, 75%, 93%); opacity:1.0;                     line-height:1.75\"><font color=\"black\"> of                    </font></mark><mark style=\"background-color: hsl(120, 75%, 99%); opacity:1.0;                     line-height:1.75\"><font color=\"black\"> the                    </font></mark><mark style=\"background-color: hsl(120, 75%, 94%); opacity:1.0;                     line-height:1.75\"><font color=\"black\"> great                    </font></mark><mark style=\"background-color: hsl(120, 75%, 98%); opacity:1.0;                     line-height:1.75\"><font color=\"black\"> khan\",                    </font></mark><mark style=\"background-color: hsl(0, 75%, 99%); opacity:1.0;                     line-height:1.75\"><font color=\"black\"> which                    </font></mark><mark style=\"background-color: hsl(120, 75%, 97%); opacity:1.0;                     line-height:1.75\"><font color=\"black\"> particularly                    </font></mark><mark style=\"background-color: hsl(0, 75%, 99%); opacity:1.0;                     line-height:1.75\"><font color=\"black\"> appeared                    </font></mark><mark style=\"background-color: hsl(0, 75%, 98%); opacity:1.0;                     line-height:1.75\"><font color=\"black\"> on                    </font></mark><mark style=\"background-color: hsl(0, 75%, 98%); opacity:1.0;                     line-height:1.75\"><font color=\"black\"> some                    </font></mark><mark style=\"background-color: hsl(0, 75%, 95%); opacity:1.0;                     line-height:1.75\"><font color=\"black\"> yuan                    </font></mark><mark style=\"background-color: hsl(0, 75%, 99%); opacity:1.0;                     line-height:1.75\"><font color=\"black\"> maps,                    </font></mark><mark style=\"background-color: hsl(120, 75%, 100%); opacity:1.0;                     line-height:1.75\"><font color=\"black\"> since                    </font></mark><mark style=\"background-color: hsl(120, 75%, 88%); opacity:1.0;                     line-height:1.75\"><font color=\"black\"> yuan                    </font></mark><mark style=\"background-color: hsl(0, 75%, 96%); opacity:1.0;                     line-height:1.75\"><font color=\"black\"> emperors                    </font></mark><mark style=\"background-color: hsl(0, 75%, 98%); opacity:1.0;                     line-height:1.75\"><font color=\"black\"> held                    </font></mark><mark style=\"background-color: hsl(120, 75%, 96%); opacity:1.0;                     line-height:1.75\"><font color=\"black\"> the                    </font></mark><mark style=\"background-color: hsl(0, 75%, 100%); opacity:1.0;                     line-height:1.75\"><font color=\"black\"> nominal                    </font></mark><mark style=\"background-color: hsl(0, 75%, 90%); opacity:1.0;                     line-height:1.75\"><font color=\"black\"> title                    </font></mark><mark style=\"background-color: hsl(0, 75%, 100%); opacity:1.0;                     line-height:1.75\"><font color=\"black\"> of                    </font></mark><mark style=\"background-color: hsl(0, 75%, 95%); opacity:1.0;                     line-height:1.75\"><font color=\"black\"> great                    </font></mark><mark style=\"background-color: hsl(0, 75%, 100%); opacity:1.0;                     line-height:1.75\"><font color=\"black\"> khan.                    </font></mark><mark style=\"background-color: hsl(0, 75%, 100%); opacity:1.0;                     line-height:1.75\"><font color=\"black\"> [SEP]                    </font></mark></td><tr></table>"
      ],
      "text/plain": [
       "<IPython.core.display.HTML object>"
      ]
     },
     "metadata": {},
     "output_type": "display_data"
    },
    {
     "name": "stderr",
     "output_type": "stream",
     "text": [
      "/home/user/anaconda3/envs/metric/lib/python3.9/site-packages/captum/attr/_core/lime.py:1096: UserWarning: Attempting to construct interpretable model with > 10000 features.This can be very slow or lead to OOM issues. Please provide a featuremask which groups input features to reduce the number of interpretablefeatures. \n",
      "  warnings.warn(\n"
     ]
    },
    {
     "name": "stdout",
     "output_type": "stream",
     "text": [
      "<IPython.core.display.HTML object>\n",
      "Raw datum: ['What happened to the East India Trading Company in 1767?', 'In 1599 the British East India Company was established and was chartered by Queen Elizabeth in the following year.']\n",
      "GT target: 0\n"
     ]
    },
    {
     "name": "stderr",
     "output_type": "stream",
     "text": [
      "Lime attribution: 100%|██████████████████████████████████████████████████████████████████████████████████████████████████████████| 5/5 [00:05<00:00,  1.03s/it]\n"
     ]
    },
    {
     "name": "stdout",
     "output_type": "stream",
     "text": [
      "word attr tensor([ 8.3780e-01, -9.3123e-02,  2.4550e-01,  5.0704e-04,  2.8381e-02,\n",
      "        -1.0288e-01, -9.7750e-02, -9.7519e-02, -2.2666e-02, -7.0244e-02,\n",
      "         8.9205e-02, -7.0551e-02,  4.3342e-02,  7.5344e-02, -5.0098e-02,\n",
      "         3.5884e-02, -1.5988e-01, -2.1428e-01, -3.4603e-02,  3.1099e-02,\n",
      "        -5.4199e-02, -1.4721e-01,  1.2058e-02,  3.2527e-02,  4.3780e-02,\n",
      "        -1.7079e-02, -3.2469e-02,  1.6856e-01, -1.1603e-01,  2.7861e-02,\n",
      "         2.8723e-02, -1.3855e-02, -9.4878e-02, -8.0355e-02, -7.4571e-02,\n",
      "        -3.9459e-02], device='cuda:0')\n",
      "conti attr [tensor(0.8378, device='cuda:0'), tensor(-0.0931, device='cuda:0'), tensor(0.2455, device='cuda:0'), tensor(0.0005, device='cuda:0'), tensor(0.0284, device='cuda:0'), tensor(-0.1029, device='cuda:0'), tensor(-0.0977, device='cuda:0'), tensor(-0.0975, device='cuda:0'), tensor(-0.0227, device='cuda:0'), tensor(-0.0702, device='cuda:0'), tensor(0.0093, device='cuda:0'), tensor(0.0433, device='cuda:0'), tensor(0.0753, device='cuda:0'), tensor(-0.0501, device='cuda:0'), tensor(-0.0620, device='cuda:0'), tensor(-0.2143, device='cuda:0'), tensor(-0.0346, device='cuda:0'), tensor(0.0311, device='cuda:0'), tensor(-0.0542, device='cuda:0'), tensor(-0.1472, device='cuda:0'), tensor(0.0121, device='cuda:0'), tensor(0.0325, device='cuda:0'), tensor(0.0438, device='cuda:0'), tensor(-0.0171, device='cuda:0'), tensor(-0.0325, device='cuda:0'), tensor(0.1686, device='cuda:0'), tensor(-0.1160, device='cuda:0'), tensor(0.0279, device='cuda:0'), tensor(0.0287, device='cuda:0'), tensor(-0.0139, device='cuda:0'), tensor(-0.0949, device='cuda:0'), tensor(-0.0775, device='cuda:0'), tensor(-0.0395, device='cuda:0')]\n",
      "detokenized ['[CLS]', 'what', 'happened', 'to', 'the', 'east', 'india', 'trading', 'company', 'in', '1767', '?', '[SEP]', '[SEP]', 'in', '159', '9', 'the', 'british', 'east', 'india', 'company', 'was', 'established', 'and', 'was', 'chartered', 'by', 'queen', 'elizabeth', 'in', 'the', 'following', 'year', '.', '[SEP]']\n",
      "len conti_raw 33\n",
      "conti_raw ['[CLS]', 'what', 'happened', 'to', 'the', 'east', 'india', 'trading', 'company', 'in', '1767?', '[SEP]', '[SEP]', 'in', '1599', 'the', 'british', 'east', 'india', 'company', 'was', 'established', 'and', 'was', 'chartered', 'by', 'queen', 'elizabeth', 'in', 'the', 'following', 'year.', '[SEP]']\n",
      "pred_prob 0.7392330169677734\n"
     ]
    },
    {
     "data": {
      "text/html": [
       "<table width: 100%><div style=\"border-top: 1px solid; margin-top: 5px;             padding-top: 5px; display: inline-block\"><b>Legend: </b><span style=\"display: inline-block; width: 10px; height: 10px;                 border: 1px solid; background-color:                 hsl(0, 75%, 60%)\"></span> Negative  <span style=\"display: inline-block; width: 10px; height: 10px;                 border: 1px solid; background-color:                 hsl(0, 75%, 100%)\"></span> Neutral  <span style=\"display: inline-block; width: 10px; height: 10px;                 border: 1px solid; background-color:                 hsl(120, 75%, 50%)\"></span> Positive  </div><tr><th>True Label</th><th>Predicted Label</th><th>Attribution Label</th><th>Attribution Score</th><th>Word Importance</th><tr><td><text style=\"padding-right:2em\"><b>No Entailment</b></text></td><td><text style=\"padding-right:2em\"><b>Entailment (0.74)</b></text></td><td><text style=\"padding-right:2em\"><b>No Entailment</b></text></td><td><text style=\"padding-right:2em\"><b>0.02</b></text></td><td><mark style=\"background-color: hsl(120, 75%, 59%); opacity:1.0;                     line-height:1.75\"><font color=\"black\"> [CLS]                    </font></mark><mark style=\"background-color: hsl(0, 75%, 97%); opacity:1.0;                     line-height:1.75\"><font color=\"black\"> what                    </font></mark><mark style=\"background-color: hsl(120, 75%, 88%); opacity:1.0;                     line-height:1.75\"><font color=\"black\"> happened                    </font></mark><mark style=\"background-color: hsl(120, 75%, 100%); opacity:1.0;                     line-height:1.75\"><font color=\"black\"> to                    </font></mark><mark style=\"background-color: hsl(120, 75%, 99%); opacity:1.0;                     line-height:1.75\"><font color=\"black\"> the                    </font></mark><mark style=\"background-color: hsl(0, 75%, 96%); opacity:1.0;                     line-height:1.75\"><font color=\"black\"> east                    </font></mark><mark style=\"background-color: hsl(0, 75%, 97%); opacity:1.0;                     line-height:1.75\"><font color=\"black\"> india                    </font></mark><mark style=\"background-color: hsl(0, 75%, 97%); opacity:1.0;                     line-height:1.75\"><font color=\"black\"> trading                    </font></mark><mark style=\"background-color: hsl(0, 75%, 100%); opacity:1.0;                     line-height:1.75\"><font color=\"black\"> company                    </font></mark><mark style=\"background-color: hsl(0, 75%, 98%); opacity:1.0;                     line-height:1.75\"><font color=\"black\"> in                    </font></mark><mark style=\"background-color: hsl(120, 75%, 100%); opacity:1.0;                     line-height:1.75\"><font color=\"black\"> 1767?                    </font></mark><mark style=\"background-color: hsl(120, 75%, 98%); opacity:1.0;                     line-height:1.75\"><font color=\"black\"> [SEP]                    </font></mark><mark style=\"background-color: hsl(120, 75%, 97%); opacity:1.0;                     line-height:1.75\"><font color=\"black\"> [SEP]                    </font></mark><mark style=\"background-color: hsl(0, 75%, 98%); opacity:1.0;                     line-height:1.75\"><font color=\"black\"> in                    </font></mark><mark style=\"background-color: hsl(0, 75%, 98%); opacity:1.0;                     line-height:1.75\"><font color=\"black\"> 1599                    </font></mark><mark style=\"background-color: hsl(0, 75%, 92%); opacity:1.0;                     line-height:1.75\"><font color=\"black\"> the                    </font></mark><mark style=\"background-color: hsl(0, 75%, 99%); opacity:1.0;                     line-height:1.75\"><font color=\"black\"> british                    </font></mark><mark style=\"background-color: hsl(120, 75%, 99%); opacity:1.0;                     line-height:1.75\"><font color=\"black\"> east                    </font></mark><mark style=\"background-color: hsl(0, 75%, 98%); opacity:1.0;                     line-height:1.75\"><font color=\"black\"> india                    </font></mark><mark style=\"background-color: hsl(0, 75%, 95%); opacity:1.0;                     line-height:1.75\"><font color=\"black\"> company                    </font></mark><mark style=\"background-color: hsl(120, 75%, 100%); opacity:1.0;                     line-height:1.75\"><font color=\"black\"> was                    </font></mark><mark style=\"background-color: hsl(120, 75%, 99%); opacity:1.0;                     line-height:1.75\"><font color=\"black\"> established                    </font></mark><mark style=\"background-color: hsl(120, 75%, 98%); opacity:1.0;                     line-height:1.75\"><font color=\"black\"> and                    </font></mark><mark style=\"background-color: hsl(0, 75%, 100%); opacity:1.0;                     line-height:1.75\"><font color=\"black\"> was                    </font></mark><mark style=\"background-color: hsl(0, 75%, 99%); opacity:1.0;                     line-height:1.75\"><font color=\"black\"> chartered                    </font></mark><mark style=\"background-color: hsl(120, 75%, 92%); opacity:1.0;                     line-height:1.75\"><font color=\"black\"> by                    </font></mark><mark style=\"background-color: hsl(0, 75%, 96%); opacity:1.0;                     line-height:1.75\"><font color=\"black\"> queen                    </font></mark><mark style=\"background-color: hsl(120, 75%, 99%); opacity:1.0;                     line-height:1.75\"><font color=\"black\"> elizabeth                    </font></mark><mark style=\"background-color: hsl(120, 75%, 99%); opacity:1.0;                     line-height:1.75\"><font color=\"black\"> in                    </font></mark><mark style=\"background-color: hsl(0, 75%, 100%); opacity:1.0;                     line-height:1.75\"><font color=\"black\"> the                    </font></mark><mark style=\"background-color: hsl(0, 75%, 97%); opacity:1.0;                     line-height:1.75\"><font color=\"black\"> following                    </font></mark><mark style=\"background-color: hsl(0, 75%, 97%); opacity:1.0;                     line-height:1.75\"><font color=\"black\"> year.                    </font></mark><mark style=\"background-color: hsl(0, 75%, 99%); opacity:1.0;                     line-height:1.75\"><font color=\"black\"> [SEP]                    </font></mark></td><tr></table>"
      ],
      "text/plain": [
       "<IPython.core.display.HTML object>"
      ]
     },
     "metadata": {},
     "output_type": "display_data"
    },
    {
     "name": "stderr",
     "output_type": "stream",
     "text": [
      "/home/user/anaconda3/envs/metric/lib/python3.9/site-packages/captum/attr/_core/lime.py:1096: UserWarning: Attempting to construct interpretable model with > 10000 features.This can be very slow or lead to OOM issues. Please provide a featuremask which groups input features to reduce the number of interpretablefeatures. \n",
      "  warnings.warn(\n"
     ]
    },
    {
     "name": "stdout",
     "output_type": "stream",
     "text": [
      "<IPython.core.display.HTML object>\n",
      "Raw datum: ['The principle of faunal succession was developed 100 years before whose theory of evolution?', \"Based on principles laid out by William Smith almost a hundred years before the publication of Charles Darwin's theory of evolution, the principles of succession were developed independently of evolutionary thought.\"]\n",
      "GT target: 1\n"
     ]
    },
    {
     "name": "stderr",
     "output_type": "stream",
     "text": [
      "Lime attribution: 100%|██████████████████████████████████████████████████████████████████████████████████████████████████████████| 5/5 [00:05<00:00,  1.11s/it]\n"
     ]
    },
    {
     "name": "stdout",
     "output_type": "stream",
     "text": [
      "word attr tensor([ 0.2637, -0.0622,  0.0861, -0.0963,  0.1759,  0.1478, -0.0802,  0.0332,\n",
      "         0.0198, -0.1170,  0.1116,  0.0531,  0.1348,  0.2849, -0.0545, -0.0882,\n",
      "        -0.2050, -0.0243,  0.1143,  0.1962,  0.2643, -0.2919,  0.0422, -0.1017,\n",
      "        -0.2688,  0.1492, -0.0593,  0.1612,  0.1819, -0.2207,  0.1198,  0.0014,\n",
      "         0.0168, -0.0019,  0.0676,  0.0065,  0.0226,  0.1197,  0.0019, -0.0316,\n",
      "        -0.1436, -0.0187,  0.2704,  0.0474, -0.0357, -0.1331, -0.1401, -0.0594,\n",
      "         0.0776,  0.1767,  0.0273,  0.1528, -0.0022,  0.0150, -0.0886],\n",
      "       device='cuda:0')\n",
      "conti attr [tensor(0.2637, device='cuda:0'), tensor(-0.0622, device='cuda:0'), tensor(0.0861, device='cuda:0'), tensor(-0.0963, device='cuda:0'), tensor(0.1619, device='cuda:0'), tensor(-0.0802, device='cuda:0'), tensor(0.0332, device='cuda:0'), tensor(0.0198, device='cuda:0'), tensor(-0.1170, device='cuda:0'), tensor(0.1116, device='cuda:0'), tensor(0.0531, device='cuda:0'), tensor(0.1348, device='cuda:0'), tensor(0.2849, device='cuda:0'), tensor(-0.0545, device='cuda:0'), tensor(-0.1466, device='cuda:0'), tensor(-0.0243, device='cuda:0'), tensor(0.1143, device='cuda:0'), tensor(0.1962, device='cuda:0'), tensor(0.2643, device='cuda:0'), tensor(-0.2919, device='cuda:0'), tensor(0.0422, device='cuda:0'), tensor(-0.1017, device='cuda:0'), tensor(-0.2688, device='cuda:0'), tensor(0.1492, device='cuda:0'), tensor(-0.0593, device='cuda:0'), tensor(0.1612, device='cuda:0'), tensor(0.1819, device='cuda:0'), tensor(-0.2207, device='cuda:0'), tensor(0.1198, device='cuda:0'), tensor(0.0014, device='cuda:0'), tensor(0.0168, device='cuda:0'), tensor(-0.0019, device='cuda:0'), tensor(0.0676, device='cuda:0'), tensor(0.0065, device='cuda:0'), tensor(0.0366, device='cuda:0'), tensor(-0.0316, device='cuda:0'), tensor(-0.1436, device='cuda:0'), tensor(0.1258, device='cuda:0'), tensor(0.0474, device='cuda:0'), tensor(-0.0357, device='cuda:0'), tensor(-0.1331, device='cuda:0'), tensor(-0.1401, device='cuda:0'), tensor(-0.0594, device='cuda:0'), tensor(0.0776, device='cuda:0'), tensor(0.1767, device='cuda:0'), tensor(0.0273, device='cuda:0'), tensor(0.1528, device='cuda:0'), tensor(0.0064, device='cuda:0'), tensor(-0.0886, device='cuda:0')]\n",
      "detokenized ['[CLS]', 'the', 'principle', 'of', 'fauna', 'l', 'succession', 'was', 'developed', '100', 'years', 'before', 'whose', 'theory', 'of', 'evolution', '?', '[SEP]', '[SEP]', 'based', 'on', 'principles', 'laid', 'out', 'by', 'william', 'smith', 'almost', 'a', 'hundred', 'years', 'before', 'the', 'publication', 'of', 'charles', 'darwin', \"'\", 's', 'theory', 'of', 'evolution', ',', 'the', 'principles', 'of', 'succession', 'were', 'developed', 'independently', 'of', 'evolutionary', 'thought', '.', '[SEP]']\n",
      "len conti_raw 49\n",
      "conti_raw ['[CLS]', 'the', 'principle', 'of', 'faunal', 'succession', 'was', 'developed', '100', 'years', 'before', 'whose', 'theory', 'of', 'evolution?', '[SEP]', '[SEP]', 'based', 'on', 'principles', 'laid', 'out', 'by', 'william', 'smith', 'almost', 'a', 'hundred', 'years', 'before', 'the', 'publication', 'of', 'charles', \"darwin's\", 'theory', 'of', 'evolution,', 'the', 'principles', 'of', 'succession', 'were', 'developed', 'independently', 'of', 'evolutionary', 'thought.', '[SEP]']\n",
      "pred_prob 0.3316514492034912\n"
     ]
    },
    {
     "data": {
      "text/html": [
       "<table width: 100%><div style=\"border-top: 1px solid; margin-top: 5px;             padding-top: 5px; display: inline-block\"><b>Legend: </b><span style=\"display: inline-block; width: 10px; height: 10px;                 border: 1px solid; background-color:                 hsl(0, 75%, 60%)\"></span> Negative  <span style=\"display: inline-block; width: 10px; height: 10px;                 border: 1px solid; background-color:                 hsl(0, 75%, 100%)\"></span> Neutral  <span style=\"display: inline-block; width: 10px; height: 10px;                 border: 1px solid; background-color:                 hsl(120, 75%, 50%)\"></span> Positive  </div><tr><th>True Label</th><th>Predicted Label</th><th>Attribution Label</th><th>Attribution Score</th><th>Word Importance</th><tr><td><text style=\"padding-right:2em\"><b>Entailment</b></text></td><td><text style=\"padding-right:2em\"><b>No Entailment (0.33)</b></text></td><td><text style=\"padding-right:2em\"><b>Entailment</b></text></td><td><text style=\"padding-right:2em\"><b>1.22</b></text></td><td><mark style=\"background-color: hsl(120, 75%, 87%); opacity:1.0;                     line-height:1.75\"><font color=\"black\"> [CLS]                    </font></mark><mark style=\"background-color: hsl(0, 75%, 98%); opacity:1.0;                     line-height:1.75\"><font color=\"black\"> the                    </font></mark><mark style=\"background-color: hsl(120, 75%, 96%); opacity:1.0;                     line-height:1.75\"><font color=\"black\"> principle                    </font></mark><mark style=\"background-color: hsl(0, 75%, 97%); opacity:1.0;                     line-height:1.75\"><font color=\"black\"> of                    </font></mark><mark style=\"background-color: hsl(120, 75%, 92%); opacity:1.0;                     line-height:1.75\"><font color=\"black\"> faunal                    </font></mark><mark style=\"background-color: hsl(0, 75%, 97%); opacity:1.0;                     line-height:1.75\"><font color=\"black\"> succession                    </font></mark><mark style=\"background-color: hsl(120, 75%, 99%); opacity:1.0;                     line-height:1.75\"><font color=\"black\"> was                    </font></mark><mark style=\"background-color: hsl(120, 75%, 100%); opacity:1.0;                     line-height:1.75\"><font color=\"black\"> developed                    </font></mark><mark style=\"background-color: hsl(0, 75%, 96%); opacity:1.0;                     line-height:1.75\"><font color=\"black\"> 100                    </font></mark><mark style=\"background-color: hsl(120, 75%, 95%); opacity:1.0;                     line-height:1.75\"><font color=\"black\"> years                    </font></mark><mark style=\"background-color: hsl(120, 75%, 98%); opacity:1.0;                     line-height:1.75\"><font color=\"black\"> before                    </font></mark><mark style=\"background-color: hsl(120, 75%, 94%); opacity:1.0;                     line-height:1.75\"><font color=\"black\"> whose                    </font></mark><mark style=\"background-color: hsl(120, 75%, 86%); opacity:1.0;                     line-height:1.75\"><font color=\"black\"> theory                    </font></mark><mark style=\"background-color: hsl(0, 75%, 98%); opacity:1.0;                     line-height:1.75\"><font color=\"black\"> of                    </font></mark><mark style=\"background-color: hsl(0, 75%, 95%); opacity:1.0;                     line-height:1.75\"><font color=\"black\"> evolution?                    </font></mark><mark style=\"background-color: hsl(0, 75%, 100%); opacity:1.0;                     line-height:1.75\"><font color=\"black\"> [SEP]                    </font></mark><mark style=\"background-color: hsl(120, 75%, 95%); opacity:1.0;                     line-height:1.75\"><font color=\"black\"> [SEP]                    </font></mark><mark style=\"background-color: hsl(120, 75%, 91%); opacity:1.0;                     line-height:1.75\"><font color=\"black\"> based                    </font></mark><mark style=\"background-color: hsl(120, 75%, 87%); opacity:1.0;                     line-height:1.75\"><font color=\"black\"> on                    </font></mark><mark style=\"background-color: hsl(0, 75%, 89%); opacity:1.0;                     line-height:1.75\"><font color=\"black\"> principles                    </font></mark><mark style=\"background-color: hsl(120, 75%, 98%); opacity:1.0;                     line-height:1.75\"><font color=\"black\"> laid                    </font></mark><mark style=\"background-color: hsl(0, 75%, 96%); opacity:1.0;                     line-height:1.75\"><font color=\"black\"> out                    </font></mark><mark style=\"background-color: hsl(0, 75%, 90%); opacity:1.0;                     line-height:1.75\"><font color=\"black\"> by                    </font></mark><mark style=\"background-color: hsl(120, 75%, 93%); opacity:1.0;                     line-height:1.75\"><font color=\"black\"> william                    </font></mark><mark style=\"background-color: hsl(0, 75%, 98%); opacity:1.0;                     line-height:1.75\"><font color=\"black\"> smith                    </font></mark><mark style=\"background-color: hsl(120, 75%, 92%); opacity:1.0;                     line-height:1.75\"><font color=\"black\"> almost                    </font></mark><mark style=\"background-color: hsl(120, 75%, 91%); opacity:1.0;                     line-height:1.75\"><font color=\"black\"> a                    </font></mark><mark style=\"background-color: hsl(0, 75%, 92%); opacity:1.0;                     line-height:1.75\"><font color=\"black\"> hundred                    </font></mark><mark style=\"background-color: hsl(120, 75%, 95%); opacity:1.0;                     line-height:1.75\"><font color=\"black\"> years                    </font></mark><mark style=\"background-color: hsl(120, 75%, 100%); opacity:1.0;                     line-height:1.75\"><font color=\"black\"> before                    </font></mark><mark style=\"background-color: hsl(120, 75%, 100%); opacity:1.0;                     line-height:1.75\"><font color=\"black\"> the                    </font></mark><mark style=\"background-color: hsl(0, 75%, 100%); opacity:1.0;                     line-height:1.75\"><font color=\"black\"> publication                    </font></mark><mark style=\"background-color: hsl(120, 75%, 97%); opacity:1.0;                     line-height:1.75\"><font color=\"black\"> of                    </font></mark><mark style=\"background-color: hsl(120, 75%, 100%); opacity:1.0;                     line-height:1.75\"><font color=\"black\"> charles                    </font></mark><mark style=\"background-color: hsl(120, 75%, 99%); opacity:1.0;                     line-height:1.75\"><font color=\"black\"> darwin's                    </font></mark><mark style=\"background-color: hsl(0, 75%, 99%); opacity:1.0;                     line-height:1.75\"><font color=\"black\"> theory                    </font></mark><mark style=\"background-color: hsl(0, 75%, 95%); opacity:1.0;                     line-height:1.75\"><font color=\"black\"> of                    </font></mark><mark style=\"background-color: hsl(120, 75%, 94%); opacity:1.0;                     line-height:1.75\"><font color=\"black\"> evolution,                    </font></mark><mark style=\"background-color: hsl(120, 75%, 98%); opacity:1.0;                     line-height:1.75\"><font color=\"black\"> the                    </font></mark><mark style=\"background-color: hsl(0, 75%, 99%); opacity:1.0;                     line-height:1.75\"><font color=\"black\"> principles                    </font></mark><mark style=\"background-color: hsl(0, 75%, 95%); opacity:1.0;                     line-height:1.75\"><font color=\"black\"> of                    </font></mark><mark style=\"background-color: hsl(0, 75%, 95%); opacity:1.0;                     line-height:1.75\"><font color=\"black\"> succession                    </font></mark><mark style=\"background-color: hsl(0, 75%, 98%); opacity:1.0;                     line-height:1.75\"><font color=\"black\"> were                    </font></mark><mark style=\"background-color: hsl(120, 75%, 97%); opacity:1.0;                     line-height:1.75\"><font color=\"black\"> developed                    </font></mark><mark style=\"background-color: hsl(120, 75%, 92%); opacity:1.0;                     line-height:1.75\"><font color=\"black\"> independently                    </font></mark><mark style=\"background-color: hsl(120, 75%, 99%); opacity:1.0;                     line-height:1.75\"><font color=\"black\"> of                    </font></mark><mark style=\"background-color: hsl(120, 75%, 93%); opacity:1.0;                     line-height:1.75\"><font color=\"black\"> evolutionary                    </font></mark><mark style=\"background-color: hsl(120, 75%, 100%); opacity:1.0;                     line-height:1.75\"><font color=\"black\"> thought.                    </font></mark><mark style=\"background-color: hsl(0, 75%, 97%); opacity:1.0;                     line-height:1.75\"><font color=\"black\"> [SEP]                    </font></mark></td><tr></table>"
      ],
      "text/plain": [
       "<IPython.core.display.HTML object>"
      ]
     },
     "metadata": {},
     "output_type": "display_data"
    },
    {
     "name": "stderr",
     "output_type": "stream",
     "text": [
      "/home/user/anaconda3/envs/metric/lib/python3.9/site-packages/captum/attr/_core/lime.py:1096: UserWarning: Attempting to construct interpretable model with > 10000 features.This can be very slow or lead to OOM issues. Please provide a featuremask which groups input features to reduce the number of interpretablefeatures. \n",
      "  warnings.warn(\n"
     ]
    },
    {
     "name": "stdout",
     "output_type": "stream",
     "text": [
      "<IPython.core.display.HTML object>\n",
      "Raw datum: ['How many times did Luther preach in Halle in 1545 and 1546?', 'In 1545 and 1546 Luther preached three times in the Market Church in Halle, staying with his friend Justus Jonas during Christmas.']\n",
      "GT target: 1\n"
     ]
    },
    {
     "name": "stderr",
     "output_type": "stream",
     "text": [
      "Lime attribution: 100%|██████████████████████████████████████████████████████████████████████████████████████████████████████████| 5/5 [00:05<00:00,  1.16s/it]\n"
     ]
    },
    {
     "name": "stdout",
     "output_type": "stream",
     "text": [
      "word attr tensor([ 0.2336,  0.1676, -0.2869,  0.0821,  0.2552, -0.1178,  0.0561, -0.1128,\n",
      "        -0.0389,  0.0234, -0.1851, -0.0904, -0.0087, -0.0938, -0.0408, -0.1077,\n",
      "         0.1608, -0.0828, -0.0799,  0.0427, -0.0280, -0.1959,  0.2923, -0.1759,\n",
      "         0.1584,  0.1197,  0.4048, -0.0855,  0.1436,  0.0223,  0.0685, -0.2033,\n",
      "        -0.1369,  0.0092,  0.1033, -0.0297,  0.0379,  0.0769, -0.0055, -0.2162,\n",
      "        -0.2874,  0.0466,  0.1196,  0.0208, -0.0234, -0.0899], device='cuda:0')\n",
      "conti attr [tensor(0.2336, device='cuda:0'), tensor(0.1676, device='cuda:0'), tensor(-0.2869, device='cuda:0'), tensor(0.0821, device='cuda:0'), tensor(0.2552, device='cuda:0'), tensor(-0.1178, device='cuda:0'), tensor(0.0561, device='cuda:0'), tensor(-0.1128, device='cuda:0'), tensor(-0.0389, device='cuda:0'), tensor(0.0234, device='cuda:0'), tensor(-0.1377, device='cuda:0'), tensor(-0.0087, device='cuda:0'), tensor(-0.0875, device='cuda:0'), tensor(0.1608, device='cuda:0'), tensor(-0.0828, device='cuda:0'), tensor(-0.0799, device='cuda:0'), tensor(0.0074, device='cuda:0'), tensor(-0.1959, device='cuda:0'), tensor(0.0582, device='cuda:0'), tensor(0.1584, device='cuda:0'), tensor(0.1197, device='cuda:0'), tensor(0.4048, device='cuda:0'), tensor(-0.0855, device='cuda:0'), tensor(0.1436, device='cuda:0'), tensor(0.0223, device='cuda:0'), tensor(0.0685, device='cuda:0'), tensor(-0.2033, device='cuda:0'), tensor(-0.1369, device='cuda:0'), tensor(0.0562, device='cuda:0'), tensor(-0.0297, device='cuda:0'), tensor(0.0379, device='cuda:0'), tensor(0.0769, device='cuda:0'), tensor(-0.0055, device='cuda:0'), tensor(-0.2518, device='cuda:0'), tensor(0.0466, device='cuda:0'), tensor(0.1196, device='cuda:0'), tensor(-0.0013, device='cuda:0'), tensor(-0.0899, device='cuda:0')]\n",
      "detokenized ['[CLS]', 'how', 'many', 'times', 'did', 'luther', 'preach', 'in', 'halle', 'in', '154', '5', 'and', '154', '6', '?', '[SEP]', '[SEP]', 'in', '154', '5', 'and', '154', '6', 'luther', 'preached', 'three', 'times', 'in', 'the', 'market', 'church', 'in', 'halle', ',', 'staying', 'with', 'his', 'friend', 'just', 'us', 'jonas', 'during', 'christmas', '.', '[SEP]']\n",
      "len conti_raw 38\n",
      "conti_raw ['[CLS]', 'how', 'many', 'times', 'did', 'luther', 'preach', 'in', 'halle', 'in', '1545', 'and', '1546?', '[SEP]', '[SEP]', 'in', '1545', 'and', '1546', 'luther', 'preached', 'three', 'times', 'in', 'the', 'market', 'church', 'in', 'halle,', 'staying', 'with', 'his', 'friend', 'justus', 'jonas', 'during', 'christmas.', '[SEP]']\n",
      "pred_prob 0.909346342086792\n"
     ]
    },
    {
     "data": {
      "text/html": [
       "<table width: 100%><div style=\"border-top: 1px solid; margin-top: 5px;             padding-top: 5px; display: inline-block\"><b>Legend: </b><span style=\"display: inline-block; width: 10px; height: 10px;                 border: 1px solid; background-color:                 hsl(0, 75%, 60%)\"></span> Negative  <span style=\"display: inline-block; width: 10px; height: 10px;                 border: 1px solid; background-color:                 hsl(0, 75%, 100%)\"></span> Neutral  <span style=\"display: inline-block; width: 10px; height: 10px;                 border: 1px solid; background-color:                 hsl(120, 75%, 50%)\"></span> Positive  </div><tr><th>True Label</th><th>Predicted Label</th><th>Attribution Label</th><th>Attribution Score</th><th>Word Importance</th><tr><td><text style=\"padding-right:2em\"><b>Entailment</b></text></td><td><text style=\"padding-right:2em\"><b>Entailment (0.91)</b></text></td><td><text style=\"padding-right:2em\"><b>No Entailment</b></text></td><td><text style=\"padding-right:2em\"><b>-0.08</b></text></td><td><mark style=\"background-color: hsl(120, 75%, 89%); opacity:1.0;                     line-height:1.75\"><font color=\"black\"> [CLS]                    </font></mark><mark style=\"background-color: hsl(120, 75%, 92%); opacity:1.0;                     line-height:1.75\"><font color=\"black\"> how                    </font></mark><mark style=\"background-color: hsl(0, 75%, 89%); opacity:1.0;                     line-height:1.75\"><font color=\"black\"> many                    </font></mark><mark style=\"background-color: hsl(120, 75%, 96%); opacity:1.0;                     line-height:1.75\"><font color=\"black\"> times                    </font></mark><mark style=\"background-color: hsl(120, 75%, 88%); opacity:1.0;                     line-height:1.75\"><font color=\"black\"> did                    </font></mark><mark style=\"background-color: hsl(0, 75%, 96%); opacity:1.0;                     line-height:1.75\"><font color=\"black\"> luther                    </font></mark><mark style=\"background-color: hsl(120, 75%, 98%); opacity:1.0;                     line-height:1.75\"><font color=\"black\"> preach                    </font></mark><mark style=\"background-color: hsl(0, 75%, 96%); opacity:1.0;                     line-height:1.75\"><font color=\"black\"> in                    </font></mark><mark style=\"background-color: hsl(0, 75%, 99%); opacity:1.0;                     line-height:1.75\"><font color=\"black\"> halle                    </font></mark><mark style=\"background-color: hsl(120, 75%, 99%); opacity:1.0;                     line-height:1.75\"><font color=\"black\"> in                    </font></mark><mark style=\"background-color: hsl(0, 75%, 95%); opacity:1.0;                     line-height:1.75\"><font color=\"black\"> 1545                    </font></mark><mark style=\"background-color: hsl(0, 75%, 100%); opacity:1.0;                     line-height:1.75\"><font color=\"black\"> and                    </font></mark><mark style=\"background-color: hsl(0, 75%, 97%); opacity:1.0;                     line-height:1.75\"><font color=\"black\"> 1546?                    </font></mark><mark style=\"background-color: hsl(120, 75%, 92%); opacity:1.0;                     line-height:1.75\"><font color=\"black\"> [SEP]                    </font></mark><mark style=\"background-color: hsl(0, 75%, 97%); opacity:1.0;                     line-height:1.75\"><font color=\"black\"> [SEP]                    </font></mark><mark style=\"background-color: hsl(0, 75%, 97%); opacity:1.0;                     line-height:1.75\"><font color=\"black\"> in                    </font></mark><mark style=\"background-color: hsl(120, 75%, 100%); opacity:1.0;                     line-height:1.75\"><font color=\"black\"> 1545                    </font></mark><mark style=\"background-color: hsl(0, 75%, 93%); opacity:1.0;                     line-height:1.75\"><font color=\"black\"> and                    </font></mark><mark style=\"background-color: hsl(120, 75%, 98%); opacity:1.0;                     line-height:1.75\"><font color=\"black\"> 1546                    </font></mark><mark style=\"background-color: hsl(120, 75%, 93%); opacity:1.0;                     line-height:1.75\"><font color=\"black\"> luther                    </font></mark><mark style=\"background-color: hsl(120, 75%, 95%); opacity:1.0;                     line-height:1.75\"><font color=\"black\"> preached                    </font></mark><mark style=\"background-color: hsl(120, 75%, 80%); opacity:1.0;                     line-height:1.75\"><font color=\"black\"> three                    </font></mark><mark style=\"background-color: hsl(0, 75%, 97%); opacity:1.0;                     line-height:1.75\"><font color=\"black\"> times                    </font></mark><mark style=\"background-color: hsl(120, 75%, 93%); opacity:1.0;                     line-height:1.75\"><font color=\"black\"> in                    </font></mark><mark style=\"background-color: hsl(120, 75%, 99%); opacity:1.0;                     line-height:1.75\"><font color=\"black\"> the                    </font></mark><mark style=\"background-color: hsl(120, 75%, 97%); opacity:1.0;                     line-height:1.75\"><font color=\"black\"> market                    </font></mark><mark style=\"background-color: hsl(0, 75%, 92%); opacity:1.0;                     line-height:1.75\"><font color=\"black\"> church                    </font></mark><mark style=\"background-color: hsl(0, 75%, 95%); opacity:1.0;                     line-height:1.75\"><font color=\"black\"> in                    </font></mark><mark style=\"background-color: hsl(120, 75%, 98%); opacity:1.0;                     line-height:1.75\"><font color=\"black\"> halle,                    </font></mark><mark style=\"background-color: hsl(0, 75%, 99%); opacity:1.0;                     line-height:1.75\"><font color=\"black\"> staying                    </font></mark><mark style=\"background-color: hsl(120, 75%, 99%); opacity:1.0;                     line-height:1.75\"><font color=\"black\"> with                    </font></mark><mark style=\"background-color: hsl(120, 75%, 97%); opacity:1.0;                     line-height:1.75\"><font color=\"black\"> his                    </font></mark><mark style=\"background-color: hsl(0, 75%, 100%); opacity:1.0;                     line-height:1.75\"><font color=\"black\"> friend                    </font></mark><mark style=\"background-color: hsl(0, 75%, 90%); opacity:1.0;                     line-height:1.75\"><font color=\"black\"> justus                    </font></mark><mark style=\"background-color: hsl(120, 75%, 98%); opacity:1.0;                     line-height:1.75\"><font color=\"black\"> jonas                    </font></mark><mark style=\"background-color: hsl(120, 75%, 95%); opacity:1.0;                     line-height:1.75\"><font color=\"black\"> during                    </font></mark><mark style=\"background-color: hsl(0, 75%, 100%); opacity:1.0;                     line-height:1.75\"><font color=\"black\"> christmas.                    </font></mark><mark style=\"background-color: hsl(0, 75%, 97%); opacity:1.0;                     line-height:1.75\"><font color=\"black\"> [SEP]                    </font></mark></td><tr></table>"
      ],
      "text/plain": [
       "<IPython.core.display.HTML object>"
      ]
     },
     "metadata": {},
     "output_type": "display_data"
    },
    {
     "name": "stderr",
     "output_type": "stream",
     "text": [
      "/home/user/anaconda3/envs/metric/lib/python3.9/site-packages/captum/attr/_core/lime.py:1096: UserWarning: Attempting to construct interpretable model with > 10000 features.This can be very slow or lead to OOM issues. Please provide a featuremask which groups input features to reduce the number of interpretablefeatures. \n",
      "  warnings.warn(\n"
     ]
    },
    {
     "name": "stdout",
     "output_type": "stream",
     "text": [
      "<IPython.core.display.HTML object>\n",
      "Raw datum: ['What part of the Rhine flows through North Rhine-Westphalia?', 'Here the Rhine flows through the largest conurbation in Germany, the Rhine-Ruhr region.']\n",
      "GT target: 0\n"
     ]
    },
    {
     "name": "stderr",
     "output_type": "stream",
     "text": [
      "Lime attribution: 100%|██████████████████████████████████████████████████████████████████████████████████████████████████████████| 5/5 [00:03<00:00,  1.38it/s]\n"
     ]
    },
    {
     "name": "stdout",
     "output_type": "stream",
     "text": [
      "word attr tensor([ 0.3115,  0.0260,  0.0189,  0.1949,  0.2839,  0.0241, -0.1736,  0.0373,\n",
      "         0.0619,  0.0689,  0.0979, -0.1411,  0.3379, -0.0214, -0.1776, -0.1206,\n",
      "         0.0487,  0.2988,  0.0509, -0.0178,  0.0759, -0.2189, -0.1619,  0.0620,\n",
      "         0.3973,  0.1373,  0.0551, -0.1644, -0.2163,  0.0339,  0.1676,  0.0894,\n",
      "         0.2275,  0.1758, -0.0116, -0.0241], device='cuda:0')\n",
      "conti attr [tensor(0.3115, device='cuda:0'), tensor(0.0260, device='cuda:0'), tensor(0.0189, device='cuda:0'), tensor(0.1949, device='cuda:0'), tensor(0.2839, device='cuda:0'), tensor(0.0241, device='cuda:0'), tensor(-0.1736, device='cuda:0'), tensor(0.0373, device='cuda:0'), tensor(0.0619, device='cuda:0'), tensor(0.1545, device='cuda:0'), tensor(-0.0214, device='cuda:0'), tensor(-0.1776, device='cuda:0'), tensor(-0.1206, device='cuda:0'), tensor(0.0487, device='cuda:0'), tensor(0.2988, device='cuda:0'), tensor(0.0509, device='cuda:0'), tensor(-0.0178, device='cuda:0'), tensor(0.0759, device='cuda:0'), tensor(-0.2189, device='cuda:0'), tensor(0.1737, device='cuda:0'), tensor(0.1373, device='cuda:0'), tensor(-0.0547, device='cuda:0'), tensor(-0.2163, device='cuda:0'), tensor(0.1613, device='cuda:0'), tensor(0.0821, device='cuda:0'), tensor(-0.0241, device='cuda:0')]\n",
      "detokenized ['[CLS]', 'what', 'part', 'of', 'the', 'rhine', 'flows', 'through', 'north', 'rhine', '-', 'westphalia', '?', '[SEP]', '[SEP]', 'here', 'the', 'rhine', 'flows', 'through', 'the', 'largest', 'con', 'ur', 'bation', 'in', 'germany', ',', 'the', 'rhine', '-', 'ru', 'hr', 'region', '.', '[SEP]']\n",
      "len conti_raw 26\n",
      "conti_raw ['[CLS]', 'what', 'part', 'of', 'the', 'rhine', 'flows', 'through', 'north', 'rhine-westphalia?', '[SEP]', '[SEP]', 'here', 'the', 'rhine', 'flows', 'through', 'the', 'largest', 'conurbation', 'in', 'germany,', 'the', 'rhine-ruhr', 'region.', '[SEP]']\n",
      "pred_prob 0.7328494191169739\n"
     ]
    },
    {
     "data": {
      "text/html": [
       "<table width: 100%><div style=\"border-top: 1px solid; margin-top: 5px;             padding-top: 5px; display: inline-block\"><b>Legend: </b><span style=\"display: inline-block; width: 10px; height: 10px;                 border: 1px solid; background-color:                 hsl(0, 75%, 60%)\"></span> Negative  <span style=\"display: inline-block; width: 10px; height: 10px;                 border: 1px solid; background-color:                 hsl(0, 75%, 100%)\"></span> Neutral  <span style=\"display: inline-block; width: 10px; height: 10px;                 border: 1px solid; background-color:                 hsl(120, 75%, 50%)\"></span> Positive  </div><tr><th>True Label</th><th>Predicted Label</th><th>Attribution Label</th><th>Attribution Score</th><th>Word Importance</th><tr><td><text style=\"padding-right:2em\"><b>No Entailment</b></text></td><td><text style=\"padding-right:2em\"><b>Entailment (0.73)</b></text></td><td><text style=\"padding-right:2em\"><b>Entailment</b></text></td><td><text style=\"padding-right:2em\"><b>1.83</b></text></td><td><mark style=\"background-color: hsl(120, 75%, 85%); opacity:1.0;                     line-height:1.75\"><font color=\"black\"> [CLS]                    </font></mark><mark style=\"background-color: hsl(120, 75%, 99%); opacity:1.0;                     line-height:1.75\"><font color=\"black\"> what                    </font></mark><mark style=\"background-color: hsl(120, 75%, 100%); opacity:1.0;                     line-height:1.75\"><font color=\"black\"> part                    </font></mark><mark style=\"background-color: hsl(120, 75%, 91%); opacity:1.0;                     line-height:1.75\"><font color=\"black\"> of                    </font></mark><mark style=\"background-color: hsl(120, 75%, 86%); opacity:1.0;                     line-height:1.75\"><font color=\"black\"> the                    </font></mark><mark style=\"background-color: hsl(120, 75%, 99%); opacity:1.0;                     line-height:1.75\"><font color=\"black\"> rhine                    </font></mark><mark style=\"background-color: hsl(0, 75%, 94%); opacity:1.0;                     line-height:1.75\"><font color=\"black\"> flows                    </font></mark><mark style=\"background-color: hsl(120, 75%, 99%); opacity:1.0;                     line-height:1.75\"><font color=\"black\"> through                    </font></mark><mark style=\"background-color: hsl(120, 75%, 97%); opacity:1.0;                     line-height:1.75\"><font color=\"black\"> north                    </font></mark><mark style=\"background-color: hsl(120, 75%, 93%); opacity:1.0;                     line-height:1.75\"><font color=\"black\"> rhine-westphalia?                    </font></mark><mark style=\"background-color: hsl(0, 75%, 100%); opacity:1.0;                     line-height:1.75\"><font color=\"black\"> [SEP]                    </font></mark><mark style=\"background-color: hsl(0, 75%, 93%); opacity:1.0;                     line-height:1.75\"><font color=\"black\"> [SEP]                    </font></mark><mark style=\"background-color: hsl(0, 75%, 96%); opacity:1.0;                     line-height:1.75\"><font color=\"black\"> here                    </font></mark><mark style=\"background-color: hsl(120, 75%, 98%); opacity:1.0;                     line-height:1.75\"><font color=\"black\"> the                    </font></mark><mark style=\"background-color: hsl(120, 75%, 86%); opacity:1.0;                     line-height:1.75\"><font color=\"black\"> rhine                    </font></mark><mark style=\"background-color: hsl(120, 75%, 98%); opacity:1.0;                     line-height:1.75\"><font color=\"black\"> flows                    </font></mark><mark style=\"background-color: hsl(0, 75%, 100%); opacity:1.0;                     line-height:1.75\"><font color=\"black\"> through                    </font></mark><mark style=\"background-color: hsl(120, 75%, 97%); opacity:1.0;                     line-height:1.75\"><font color=\"black\"> the                    </font></mark><mark style=\"background-color: hsl(0, 75%, 92%); opacity:1.0;                     line-height:1.75\"><font color=\"black\"> largest                    </font></mark><mark style=\"background-color: hsl(120, 75%, 92%); opacity:1.0;                     line-height:1.75\"><font color=\"black\"> conurbation                    </font></mark><mark style=\"background-color: hsl(120, 75%, 94%); opacity:1.0;                     line-height:1.75\"><font color=\"black\"> in                    </font></mark><mark style=\"background-color: hsl(0, 75%, 98%); opacity:1.0;                     line-height:1.75\"><font color=\"black\"> germany,                    </font></mark><mark style=\"background-color: hsl(0, 75%, 92%); opacity:1.0;                     line-height:1.75\"><font color=\"black\"> the                    </font></mark><mark style=\"background-color: hsl(120, 75%, 92%); opacity:1.0;                     line-height:1.75\"><font color=\"black\"> rhine-ruhr                    </font></mark><mark style=\"background-color: hsl(120, 75%, 96%); opacity:1.0;                     line-height:1.75\"><font color=\"black\"> region.                    </font></mark><mark style=\"background-color: hsl(0, 75%, 100%); opacity:1.0;                     line-height:1.75\"><font color=\"black\"> [SEP]                    </font></mark></td><tr></table>"
      ],
      "text/plain": [
       "<IPython.core.display.HTML object>"
      ]
     },
     "metadata": {},
     "output_type": "display_data"
    },
    {
     "name": "stderr",
     "output_type": "stream",
     "text": [
      "/home/user/anaconda3/envs/metric/lib/python3.9/site-packages/captum/attr/_core/lime.py:1096: UserWarning: Attempting to construct interpretable model with > 10000 features.This can be very slow or lead to OOM issues. Please provide a featuremask which groups input features to reduce the number of interpretablefeatures. \n",
      "  warnings.warn(\n"
     ]
    },
    {
     "name": "stdout",
     "output_type": "stream",
     "text": [
      "<IPython.core.display.HTML object>\n",
      "Raw datum: ['What is the most important thing apicoplasts do?', 'The most important apicoplast function is isopentenyl pyrophosphate synthesis—in fact, apicomplexans die when something interferes with this apicoplast function, and when apicomplexans are grown in an isopentenyl pyrophosphate-rich medium, they dump the organelle.']\n",
      "GT target: 1\n"
     ]
    },
    {
     "name": "stderr",
     "output_type": "stream",
     "text": [
      "Lime attribution: 100%|██████████████████████████████████████████████████████████████████████████████████████████████████████████| 5/5 [00:09<00:00,  1.96s/it]\n"
     ]
    },
    {
     "name": "stdout",
     "output_type": "stream",
     "text": [
      "word attr tensor([ 0.6359, -0.0847,  0.0499, -0.0873,  0.1743,  0.0115,  0.0635, -0.0790,\n",
      "        -0.1296, -0.0588,  0.0423,  0.1139, -0.0160, -0.1540,  0.2155,  0.0340,\n",
      "        -0.0425,  0.0601, -0.0811,  0.0145,  0.0488,  0.0810, -0.0478,  0.0748,\n",
      "         0.2264,  0.0385, -0.0997,  0.0078, -0.0623,  0.0111,  0.0707,  0.1550,\n",
      "        -0.0493, -0.0607, -0.0325,  0.1464, -0.0342,  0.0196, -0.1330, -0.0556,\n",
      "         0.0745, -0.1130, -0.0977,  0.1129,  0.0264, -0.1601, -0.0712,  0.0254,\n",
      "        -0.0265, -0.1415, -0.0358,  0.0733, -0.0104,  0.0152, -0.0099, -0.0249,\n",
      "         0.0269, -0.0798, -0.0770, -0.0045, -0.0427,  0.0597,  0.1027,  0.1236,\n",
      "        -0.0480,  0.0022,  0.0953, -0.0080, -0.0479,  0.0888, -0.0757,  0.0381,\n",
      "         0.1579, -0.0045,  0.1758,  0.0569, -0.0374, -0.0818, -0.0571, -0.0519,\n",
      "        -0.0376,  0.0199,  0.0279,  0.0342, -0.0364, -0.0538], device='cuda:0')\n",
      "conti attr [tensor(0.6359, device='cuda:0'), tensor(-0.0847, device='cuda:0'), tensor(0.0499, device='cuda:0'), tensor(-0.0873, device='cuda:0'), tensor(0.1743, device='cuda:0'), tensor(0.0115, device='cuda:0'), tensor(0.0635, device='cuda:0'), tensor(0.0471, device='cuda:0'), tensor(-0.0850, device='cuda:0'), tensor(0.2155, device='cuda:0'), tensor(0.0340, device='cuda:0'), tensor(-0.0425, device='cuda:0'), tensor(0.0601, device='cuda:0'), tensor(-0.0811, device='cuda:0'), tensor(0.0042, device='cuda:0'), tensor(0.0748, device='cuda:0'), tensor(0.2264, device='cuda:0'), tensor(-0.0368, device='cuda:0'), tensor(-0.0182, device='cuda:0'), tensor(0.0114, device='cuda:0'), tensor(-0.0567, device='cuda:0'), tensor(-0.0747, device='cuda:0'), tensor(0.1129, device='cuda:0'), tensor(0.0264, device='cuda:0'), tensor(-0.1601, device='cuda:0'), tensor(-0.0229, device='cuda:0'), tensor(-0.0265, device='cuda:0'), tensor(-0.1415, device='cuda:0'), tensor(0.0097, device='cuda:0'), tensor(-0.0174, device='cuda:0'), tensor(0.0269, device='cuda:0'), tensor(-0.0798, device='cuda:0'), tensor(0.0090, device='cuda:0'), tensor(0.1027, device='cuda:0'), tensor(0.1236, device='cuda:0'), tensor(-0.0480, device='cuda:0'), tensor(0.0022, device='cuda:0'), tensor(0.0433, device='cuda:0'), tensor(0.0216, device='cuda:0'), tensor(-0.0695, device='cuda:0'), tensor(-0.0519, device='cuda:0'), tensor(-0.0376, device='cuda:0'), tensor(0.0199, device='cuda:0'), tensor(-0.0027, device='cuda:0'), tensor(-0.0538, device='cuda:0')]\n",
      "detokenized ['[CLS]', 'what', 'is', 'the', 'most', 'important', 'thing', 'api', 'co', 'pl', 'ast', 's', 'do', '?', '[SEP]', '[SEP]', 'the', 'most', 'important', 'api', 'co', 'pl', 'ast', 'function', 'is', 'iso', 'pen', 'ten', 'yl', 'p', 'yr', 'op', 'hos', 'phate', 'synthesis', '—', 'in', 'fact', ',', 'api', 'com', 'plex', 'ans', 'die', 'when', 'something', 'interfere', 's', 'with', 'this', 'api', 'co', 'pl', 'ast', 'function', ',', 'and', 'when', 'api', 'com', 'plex', 'ans', 'are', 'grown', 'in', 'an', 'iso', 'pen', 'ten', 'yl', 'p', 'yr', 'op', 'hos', 'phate', '-', 'rich', 'medium', ',', 'they', 'dump', 'the', 'organ', 'elle', '.', '[SEP]']\n",
      "len conti_raw 45\n",
      "conti_raw ['[CLS]', 'what', 'is', 'the', 'most', 'important', 'thing', 'apicoplasts', 'do?', '[SEP]', '[SEP]', 'the', 'most', 'important', 'apicoplast', 'function', 'is', 'isopentenyl', 'pyrophosphate', 'synthesis—in', 'fact,', 'apicomplexans', 'die', 'when', 'something', 'interferes', 'with', 'this', 'apicoplast', 'function,', 'and', 'when', 'apicomplexans', 'are', 'grown', 'in', 'an', 'isopentenyl', 'pyrophosphate-rich', 'medium,', 'they', 'dump', 'the', 'organelle.', '[SEP]']\n",
      "pred_prob 0.7642964720726013\n"
     ]
    },
    {
     "data": {
      "text/html": [
       "<table width: 100%><div style=\"border-top: 1px solid; margin-top: 5px;             padding-top: 5px; display: inline-block\"><b>Legend: </b><span style=\"display: inline-block; width: 10px; height: 10px;                 border: 1px solid; background-color:                 hsl(0, 75%, 60%)\"></span> Negative  <span style=\"display: inline-block; width: 10px; height: 10px;                 border: 1px solid; background-color:                 hsl(0, 75%, 100%)\"></span> Neutral  <span style=\"display: inline-block; width: 10px; height: 10px;                 border: 1px solid; background-color:                 hsl(120, 75%, 50%)\"></span> Positive  </div><tr><th>True Label</th><th>Predicted Label</th><th>Attribution Label</th><th>Attribution Score</th><th>Word Importance</th><tr><td><text style=\"padding-right:2em\"><b>Entailment</b></text></td><td><text style=\"padding-right:2em\"><b>Entailment (0.76)</b></text></td><td><text style=\"padding-right:2em\"><b>Entailment</b></text></td><td><text style=\"padding-right:2em\"><b>0.89</b></text></td><td><mark style=\"background-color: hsl(120, 75%, 69%); opacity:1.0;                     line-height:1.75\"><font color=\"black\"> [CLS]                    </font></mark><mark style=\"background-color: hsl(0, 75%, 97%); opacity:1.0;                     line-height:1.75\"><font color=\"black\"> what                    </font></mark><mark style=\"background-color: hsl(120, 75%, 98%); opacity:1.0;                     line-height:1.75\"><font color=\"black\"> is                    </font></mark><mark style=\"background-color: hsl(0, 75%, 97%); opacity:1.0;                     line-height:1.75\"><font color=\"black\"> the                    </font></mark><mark style=\"background-color: hsl(120, 75%, 92%); opacity:1.0;                     line-height:1.75\"><font color=\"black\"> most                    </font></mark><mark style=\"background-color: hsl(120, 75%, 100%); opacity:1.0;                     line-height:1.75\"><font color=\"black\"> important                    </font></mark><mark style=\"background-color: hsl(120, 75%, 97%); opacity:1.0;                     line-height:1.75\"><font color=\"black\"> thing                    </font></mark><mark style=\"background-color: hsl(120, 75%, 98%); opacity:1.0;                     line-height:1.75\"><font color=\"black\"> apicoplasts                    </font></mark><mark style=\"background-color: hsl(0, 75%, 97%); opacity:1.0;                     line-height:1.75\"><font color=\"black\"> do?                    </font></mark><mark style=\"background-color: hsl(120, 75%, 90%); opacity:1.0;                     line-height:1.75\"><font color=\"black\"> [SEP]                    </font></mark><mark style=\"background-color: hsl(120, 75%, 99%); opacity:1.0;                     line-height:1.75\"><font color=\"black\"> [SEP]                    </font></mark><mark style=\"background-color: hsl(0, 75%, 99%); opacity:1.0;                     line-height:1.75\"><font color=\"black\"> the                    </font></mark><mark style=\"background-color: hsl(120, 75%, 97%); opacity:1.0;                     line-height:1.75\"><font color=\"black\"> most                    </font></mark><mark style=\"background-color: hsl(0, 75%, 97%); opacity:1.0;                     line-height:1.75\"><font color=\"black\"> important                    </font></mark><mark style=\"background-color: hsl(120, 75%, 100%); opacity:1.0;                     line-height:1.75\"><font color=\"black\"> apicoplast                    </font></mark><mark style=\"background-color: hsl(120, 75%, 97%); opacity:1.0;                     line-height:1.75\"><font color=\"black\"> function                    </font></mark><mark style=\"background-color: hsl(120, 75%, 89%); opacity:1.0;                     line-height:1.75\"><font color=\"black\"> is                    </font></mark><mark style=\"background-color: hsl(0, 75%, 99%); opacity:1.0;                     line-height:1.75\"><font color=\"black\"> isopentenyl                    </font></mark><mark style=\"background-color: hsl(0, 75%, 100%); opacity:1.0;                     line-height:1.75\"><font color=\"black\"> pyrophosphate                    </font></mark><mark style=\"background-color: hsl(120, 75%, 100%); opacity:1.0;                     line-height:1.75\"><font color=\"black\"> synthesis—in                    </font></mark><mark style=\"background-color: hsl(0, 75%, 98%); opacity:1.0;                     line-height:1.75\"><font color=\"black\"> fact,                    </font></mark><mark style=\"background-color: hsl(0, 75%, 98%); opacity:1.0;                     line-height:1.75\"><font color=\"black\"> apicomplexans                    </font></mark><mark style=\"background-color: hsl(120, 75%, 95%); opacity:1.0;                     line-height:1.75\"><font color=\"black\"> die                    </font></mark><mark style=\"background-color: hsl(120, 75%, 99%); opacity:1.0;                     line-height:1.75\"><font color=\"black\"> when                    </font></mark><mark style=\"background-color: hsl(0, 75%, 94%); opacity:1.0;                     line-height:1.75\"><font color=\"black\"> something                    </font></mark><mark style=\"background-color: hsl(0, 75%, 100%); opacity:1.0;                     line-height:1.75\"><font color=\"black\"> interferes                    </font></mark><mark style=\"background-color: hsl(0, 75%, 99%); opacity:1.0;                     line-height:1.75\"><font color=\"black\"> with                    </font></mark><mark style=\"background-color: hsl(0, 75%, 95%); opacity:1.0;                     line-height:1.75\"><font color=\"black\"> this                    </font></mark><mark style=\"background-color: hsl(120, 75%, 100%); opacity:1.0;                     line-height:1.75\"><font color=\"black\"> apicoplast                    </font></mark><mark style=\"background-color: hsl(0, 75%, 100%); opacity:1.0;                     line-height:1.75\"><font color=\"black\"> function,                    </font></mark><mark style=\"background-color: hsl(120, 75%, 99%); opacity:1.0;                     line-height:1.75\"><font color=\"black\"> and                    </font></mark><mark style=\"background-color: hsl(0, 75%, 97%); opacity:1.0;                     line-height:1.75\"><font color=\"black\"> when                    </font></mark><mark style=\"background-color: hsl(120, 75%, 100%); opacity:1.0;                     line-height:1.75\"><font color=\"black\"> apicomplexans                    </font></mark><mark style=\"background-color: hsl(120, 75%, 95%); opacity:1.0;                     line-height:1.75\"><font color=\"black\"> are                    </font></mark><mark style=\"background-color: hsl(120, 75%, 94%); opacity:1.0;                     line-height:1.75\"><font color=\"black\"> grown                    </font></mark><mark style=\"background-color: hsl(0, 75%, 99%); opacity:1.0;                     line-height:1.75\"><font color=\"black\"> in                    </font></mark><mark style=\"background-color: hsl(120, 75%, 100%); opacity:1.0;                     line-height:1.75\"><font color=\"black\"> an                    </font></mark><mark style=\"background-color: hsl(120, 75%, 98%); opacity:1.0;                     line-height:1.75\"><font color=\"black\"> isopentenyl                    </font></mark><mark style=\"background-color: hsl(120, 75%, 99%); opacity:1.0;                     line-height:1.75\"><font color=\"black\"> pyrophosphate-rich                    </font></mark><mark style=\"background-color: hsl(0, 75%, 98%); opacity:1.0;                     line-height:1.75\"><font color=\"black\"> medium,                    </font></mark><mark style=\"background-color: hsl(0, 75%, 98%); opacity:1.0;                     line-height:1.75\"><font color=\"black\"> they                    </font></mark><mark style=\"background-color: hsl(0, 75%, 99%); opacity:1.0;                     line-height:1.75\"><font color=\"black\"> dump                    </font></mark><mark style=\"background-color: hsl(120, 75%, 100%); opacity:1.0;                     line-height:1.75\"><font color=\"black\"> the                    </font></mark><mark style=\"background-color: hsl(0, 75%, 100%); opacity:1.0;                     line-height:1.75\"><font color=\"black\"> organelle.                    </font></mark><mark style=\"background-color: hsl(0, 75%, 98%); opacity:1.0;                     line-height:1.75\"><font color=\"black\"> [SEP]                    </font></mark></td><tr></table>"
      ],
      "text/plain": [
       "<IPython.core.display.HTML object>"
      ]
     },
     "metadata": {},
     "output_type": "display_data"
    },
    {
     "name": "stderr",
     "output_type": "stream",
     "text": [
      "/home/user/anaconda3/envs/metric/lib/python3.9/site-packages/captum/attr/_core/lime.py:1096: UserWarning: Attempting to construct interpretable model with > 10000 features.This can be very slow or lead to OOM issues. Please provide a featuremask which groups input features to reduce the number of interpretablefeatures. \n",
      "  warnings.warn(\n"
     ]
    },
    {
     "name": "stdout",
     "output_type": "stream",
     "text": [
      "<IPython.core.display.HTML object>\n",
      "Raw datum: [\"When did ABC begin airing Dick Clark's New Year's Rockin' Eve?\", \"Since 1974, ABC has generally aired Dick Clark's New Year's Rockin' Eve on New Year's Eve (hosted first by its creator Dick Clark, and later by his successor Ryan Seacrest); the only exception was in 1999, when ABC put it on a one-year hiatus to provide coverage of the international millennium festivities, though Clark's traditional countdown from Times Square was still featured within the coverage.\"]\n",
      "GT target: 1\n"
     ]
    },
    {
     "name": "stderr",
     "output_type": "stream",
     "text": [
      "Lime attribution: 100%|██████████████████████████████████████████████████████████████████████████████████████████████████████████| 5/5 [00:09<00:00,  1.83s/it]\n"
     ]
    },
    {
     "name": "stdout",
     "output_type": "stream",
     "text": [
      "word attr tensor([ 0.1747, -0.0039,  0.0983, -0.0303, -0.0133,  0.0294, -0.0632, -0.1067,\n",
      "        -0.0645, -0.0886, -0.0612,  0.0880, -0.0147,  0.0242, -0.0695, -0.0030,\n",
      "        -0.0361,  0.1166,  0.0986,  0.0082,  0.2218,  0.0164,  0.0752,  0.1490,\n",
      "        -0.0266, -0.0363, -0.2741, -0.0803,  0.0495, -0.0685,  0.1271, -0.0281,\n",
      "        -0.0276, -0.0869,  0.1503,  0.0521, -0.2420,  0.0478,  0.0091, -0.1283,\n",
      "         0.0404, -0.0540, -0.0095, -0.0635,  0.0228,  0.0323, -0.0739,  0.1004,\n",
      "        -0.0502, -0.0879,  0.0837,  0.1683, -0.1566,  0.0670,  0.0176,  0.0022,\n",
      "        -0.0068, -0.0611,  0.0360, -0.1174,  0.0420, -0.0271,  0.0425,  0.0967,\n",
      "        -0.1136,  0.0458, -0.0301, -0.1540,  0.2071, -0.1403,  0.1684,  0.0079,\n",
      "        -0.2064, -0.0989, -0.0958, -0.0125, -0.0133, -0.0506,  0.0327, -0.0406,\n",
      "        -0.0794, -0.0434,  0.0132,  0.0903, -0.1211,  0.0979,  0.0468,  0.0405,\n",
      "        -0.0723,  0.0908, -0.1655, -0.0947,  0.1825,  0.0851, -0.0378,  0.0994,\n",
      "         0.0239, -0.1196, -0.1583, -0.1121, -0.0742,  0.0764, -0.0402, -0.0543,\n",
      "         0.1072, -0.0364,  0.1417,  0.1185], device='cuda:0')\n",
      "conti attr [tensor(0.1747, device='cuda:0'), tensor(-0.0039, device='cuda:0'), tensor(0.0983, device='cuda:0'), tensor(-0.0303, device='cuda:0'), tensor(-0.0133, device='cuda:0'), tensor(0.0294, device='cuda:0'), tensor(-0.0632, device='cuda:0'), tensor(-0.0871, device='cuda:0'), tensor(-0.0612, device='cuda:0'), tensor(0.0304, device='cuda:0'), tensor(-0.0361, device='cuda:0'), tensor(0.1076, device='cuda:0'), tensor(0.0082, device='cuda:0'), tensor(0.2218, device='cuda:0'), tensor(0.0164, device='cuda:0'), tensor(0.1121, device='cuda:0'), tensor(-0.0266, device='cuda:0'), tensor(-0.0363, device='cuda:0'), tensor(-0.2741, device='cuda:0'), tensor(-0.0803, device='cuda:0'), tensor(0.0495, device='cuda:0'), tensor(0.0006, device='cuda:0'), tensor(-0.0276, device='cuda:0'), tensor(0.0419, device='cuda:0'), tensor(-0.0440, device='cuda:0'), tensor(-0.1283, device='cuda:0'), tensor(0.0404, device='cuda:0'), tensor(-0.0540, device='cuda:0'), tensor(-0.0069, device='cuda:0'), tensor(0.0323, device='cuda:0'), tensor(0.0133, device='cuda:0'), tensor(-0.0502, device='cuda:0'), tensor(-0.0879, device='cuda:0'), tensor(0.0837, device='cuda:0'), tensor(0.1683, device='cuda:0'), tensor(-0.1566, device='cuda:0'), tensor(0.0423, device='cuda:0'), tensor(0.0022, device='cuda:0'), tensor(-0.0068, device='cuda:0'), tensor(-0.0611, device='cuda:0'), tensor(0.0360, device='cuda:0'), tensor(-0.1174, device='cuda:0'), tensor(0.0420, device='cuda:0'), tensor(-0.0307, device='cuda:0'), tensor(0.0458, device='cuda:0'), tensor(-0.0301, device='cuda:0'), tensor(-0.1540, device='cuda:0'), tensor(0.2071, device='cuda:0'), tensor(-0.1403, device='cuda:0'), tensor(0.0881, device='cuda:0'), tensor(-0.2064, device='cuda:0'), tensor(-0.0989, device='cuda:0'), tensor(-0.0958, device='cuda:0'), tensor(-0.0125, device='cuda:0'), tensor(-0.0133, device='cuda:0'), tensor(-0.0506, device='cuda:0'), tensor(-0.0417, device='cuda:0'), tensor(-0.0434, device='cuda:0'), tensor(0.0132, device='cuda:0'), tensor(0.0903, device='cuda:0'), tensor(-0.1211, device='cuda:0'), tensor(0.0979, device='cuda:0'), tensor(0.0468, device='cuda:0'), tensor(0.0405, device='cuda:0'), tensor(-0.0723, device='cuda:0'), tensor(-0.0373, device='cuda:0'), tensor(-0.0947, device='cuda:0'), tensor(0.0480, device='cuda:0'), tensor(0.0994, device='cuda:0'), tensor(0.0239, device='cuda:0'), tensor(-0.1196, device='cuda:0'), tensor(-0.1583, device='cuda:0'), tensor(-0.1121, device='cuda:0'), tensor(-0.0742, device='cuda:0'), tensor(0.0764, device='cuda:0'), tensor(-0.0402, device='cuda:0'), tensor(-0.0543, device='cuda:0'), tensor(0.1072, device='cuda:0'), tensor(0.0527, device='cuda:0'), tensor(0.1185, device='cuda:0')]\n",
      "detokenized ['[CLS]', 'when', 'did', 'abc', 'begin', 'airing', 'dick', 'clark', \"'\", 's', 'new', 'year', \"'\", 's', 'rock', 'in', \"'\", 'eve', '?', '[SEP]', '[SEP]', 'since', '1974', ',', 'abc', 'has', 'generally', 'aired', 'dick', 'clark', \"'\", 's', 'new', 'year', \"'\", 's', 'rock', 'in', \"'\", 'eve', 'on', 'new', 'year', \"'\", 's', 'eve', '(', 'hosted', 'first', 'by', 'its', 'creator', 'dick', 'clark', ',', 'and', 'later', 'by', 'his', 'successor', 'ryan', 'sea', 'crest', ')', ';', 'the', 'only', 'exception', 'was', 'in', '1999', ',', 'when', 'abc', 'put', 'it', 'on', 'a', 'one', '-', 'year', 'hiatus', 'to', 'provide', 'coverage', 'of', 'the', 'international', 'millennium', 'festivities', ',', 'though', 'clark', \"'\", 's', 'traditional', 'countdown', 'from', 'times', 'square', 'was', 'still', 'featured', 'within', 'the', 'coverage', '.', '[SEP]']\n",
      "len conti_raw 80\n",
      "conti_raw ['[CLS]', 'when', 'did', 'abc', 'begin', 'airing', 'dick', \"clark's\", 'new', \"year's\", \"rockin'\", 'eve?', '[SEP]', '[SEP]', 'since', '1974,', 'abc', 'has', 'generally', 'aired', 'dick', \"clark's\", 'new', \"year's\", \"rockin'\", 'eve', 'on', 'new', \"year's\", 'eve', '(hosted', 'first', 'by', 'its', 'creator', 'dick', 'clark,', 'and', 'later', 'by', 'his', 'successor', 'ryan', 'seacrest);', 'the', 'only', 'exception', 'was', 'in', '1999,', 'when', 'abc', 'put', 'it', 'on', 'a', 'one-year', 'hiatus', 'to', 'provide', 'coverage', 'of', 'the', 'international', 'millennium', 'festivities,', 'though', \"clark's\", 'traditional', 'countdown', 'from', 'times', 'square', 'was', 'still', 'featured', 'within', 'the', 'coverage.', '[SEP]']\n",
      "pred_prob 0.7005867958068848\n"
     ]
    },
    {
     "data": {
      "text/html": [
       "<table width: 100%><div style=\"border-top: 1px solid; margin-top: 5px;             padding-top: 5px; display: inline-block\"><b>Legend: </b><span style=\"display: inline-block; width: 10px; height: 10px;                 border: 1px solid; background-color:                 hsl(0, 75%, 60%)\"></span> Negative  <span style=\"display: inline-block; width: 10px; height: 10px;                 border: 1px solid; background-color:                 hsl(0, 75%, 100%)\"></span> Neutral  <span style=\"display: inline-block; width: 10px; height: 10px;                 border: 1px solid; background-color:                 hsl(120, 75%, 50%)\"></span> Positive  </div><tr><th>True Label</th><th>Predicted Label</th><th>Attribution Label</th><th>Attribution Score</th><th>Word Importance</th><tr><td><text style=\"padding-right:2em\"><b>Entailment</b></text></td><td><text style=\"padding-right:2em\"><b>Entailment (0.70)</b></text></td><td><text style=\"padding-right:2em\"><b>No Entailment</b></text></td><td><text style=\"padding-right:2em\"><b>-0.46</b></text></td><td><mark style=\"background-color: hsl(120, 75%, 92%); opacity:1.0;                     line-height:1.75\"><font color=\"black\"> [CLS]                    </font></mark><mark style=\"background-color: hsl(0, 75%, 100%); opacity:1.0;                     line-height:1.75\"><font color=\"black\"> when                    </font></mark><mark style=\"background-color: hsl(120, 75%, 96%); opacity:1.0;                     line-height:1.75\"><font color=\"black\"> did                    </font></mark><mark style=\"background-color: hsl(0, 75%, 99%); opacity:1.0;                     line-height:1.75\"><font color=\"black\"> abc                    </font></mark><mark style=\"background-color: hsl(0, 75%, 100%); opacity:1.0;                     line-height:1.75\"><font color=\"black\"> begin                    </font></mark><mark style=\"background-color: hsl(120, 75%, 99%); opacity:1.0;                     line-height:1.75\"><font color=\"black\"> airing                    </font></mark><mark style=\"background-color: hsl(0, 75%, 98%); opacity:1.0;                     line-height:1.75\"><font color=\"black\"> dick                    </font></mark><mark style=\"background-color: hsl(0, 75%, 97%); opacity:1.0;                     line-height:1.75\"><font color=\"black\"> clark's                    </font></mark><mark style=\"background-color: hsl(0, 75%, 98%); opacity:1.0;                     line-height:1.75\"><font color=\"black\"> new                    </font></mark><mark style=\"background-color: hsl(120, 75%, 99%); opacity:1.0;                     line-height:1.75\"><font color=\"black\"> year's                    </font></mark><mark style=\"background-color: hsl(0, 75%, 99%); opacity:1.0;                     line-height:1.75\"><font color=\"black\"> rockin'                    </font></mark><mark style=\"background-color: hsl(120, 75%, 95%); opacity:1.0;                     line-height:1.75\"><font color=\"black\"> eve?                    </font></mark><mark style=\"background-color: hsl(120, 75%, 100%); opacity:1.0;                     line-height:1.75\"><font color=\"black\"> [SEP]                    </font></mark><mark style=\"background-color: hsl(120, 75%, 89%); opacity:1.0;                     line-height:1.75\"><font color=\"black\"> [SEP]                    </font></mark><mark style=\"background-color: hsl(120, 75%, 100%); opacity:1.0;                     line-height:1.75\"><font color=\"black\"> since                    </font></mark><mark style=\"background-color: hsl(120, 75%, 95%); opacity:1.0;                     line-height:1.75\"><font color=\"black\"> 1974,                    </font></mark><mark style=\"background-color: hsl(0, 75%, 99%); opacity:1.0;                     line-height:1.75\"><font color=\"black\"> abc                    </font></mark><mark style=\"background-color: hsl(0, 75%, 99%); opacity:1.0;                     line-height:1.75\"><font color=\"black\"> has                    </font></mark><mark style=\"background-color: hsl(0, 75%, 90%); opacity:1.0;                     line-height:1.75\"><font color=\"black\"> generally                    </font></mark><mark style=\"background-color: hsl(0, 75%, 97%); opacity:1.0;                     line-height:1.75\"><font color=\"black\"> aired                    </font></mark><mark style=\"background-color: hsl(120, 75%, 98%); opacity:1.0;                     line-height:1.75\"><font color=\"black\"> dick                    </font></mark><mark style=\"background-color: hsl(120, 75%, 100%); opacity:1.0;                     line-height:1.75\"><font color=\"black\"> clark's                    </font></mark><mark style=\"background-color: hsl(0, 75%, 99%); opacity:1.0;                     line-height:1.75\"><font color=\"black\"> new                    </font></mark><mark style=\"background-color: hsl(120, 75%, 98%); opacity:1.0;                     line-height:1.75\"><font color=\"black\"> year's                    </font></mark><mark style=\"background-color: hsl(0, 75%, 99%); opacity:1.0;                     line-height:1.75\"><font color=\"black\"> rockin'                    </font></mark><mark style=\"background-color: hsl(0, 75%, 95%); opacity:1.0;                     line-height:1.75\"><font color=\"black\"> eve                    </font></mark><mark style=\"background-color: hsl(120, 75%, 98%); opacity:1.0;                     line-height:1.75\"><font color=\"black\"> on                    </font></mark><mark style=\"background-color: hsl(0, 75%, 98%); opacity:1.0;                     line-height:1.75\"><font color=\"black\"> new                    </font></mark><mark style=\"background-color: hsl(0, 75%, 100%); opacity:1.0;                     line-height:1.75\"><font color=\"black\"> year's                    </font></mark><mark style=\"background-color: hsl(120, 75%, 99%); opacity:1.0;                     line-height:1.75\"><font color=\"black\"> eve                    </font></mark><mark style=\"background-color: hsl(120, 75%, 100%); opacity:1.0;                     line-height:1.75\"><font color=\"black\"> (hosted                    </font></mark><mark style=\"background-color: hsl(0, 75%, 98%); opacity:1.0;                     line-height:1.75\"><font color=\"black\"> first                    </font></mark><mark style=\"background-color: hsl(0, 75%, 97%); opacity:1.0;                     line-height:1.75\"><font color=\"black\"> by                    </font></mark><mark style=\"background-color: hsl(120, 75%, 96%); opacity:1.0;                     line-height:1.75\"><font color=\"black\"> its                    </font></mark><mark style=\"background-color: hsl(120, 75%, 92%); opacity:1.0;                     line-height:1.75\"><font color=\"black\"> creator                    </font></mark><mark style=\"background-color: hsl(0, 75%, 94%); opacity:1.0;                     line-height:1.75\"><font color=\"black\"> dick                    </font></mark><mark style=\"background-color: hsl(120, 75%, 98%); opacity:1.0;                     line-height:1.75\"><font color=\"black\"> clark,                    </font></mark><mark style=\"background-color: hsl(120, 75%, 100%); opacity:1.0;                     line-height:1.75\"><font color=\"black\"> and                    </font></mark><mark style=\"background-color: hsl(0, 75%, 100%); opacity:1.0;                     line-height:1.75\"><font color=\"black\"> later                    </font></mark><mark style=\"background-color: hsl(0, 75%, 98%); opacity:1.0;                     line-height:1.75\"><font color=\"black\"> by                    </font></mark><mark style=\"background-color: hsl(120, 75%, 99%); opacity:1.0;                     line-height:1.75\"><font color=\"black\"> his                    </font></mark><mark style=\"background-color: hsl(0, 75%, 96%); opacity:1.0;                     line-height:1.75\"><font color=\"black\"> successor                    </font></mark><mark style=\"background-color: hsl(120, 75%, 98%); opacity:1.0;                     line-height:1.75\"><font color=\"black\"> ryan                    </font></mark><mark style=\"background-color: hsl(0, 75%, 99%); opacity:1.0;                     line-height:1.75\"><font color=\"black\"> seacrest);                    </font></mark><mark style=\"background-color: hsl(120, 75%, 98%); opacity:1.0;                     line-height:1.75\"><font color=\"black\"> the                    </font></mark><mark style=\"background-color: hsl(0, 75%, 99%); opacity:1.0;                     line-height:1.75\"><font color=\"black\"> only                    </font></mark><mark style=\"background-color: hsl(0, 75%, 94%); opacity:1.0;                     line-height:1.75\"><font color=\"black\"> exception                    </font></mark><mark style=\"background-color: hsl(120, 75%, 90%); opacity:1.0;                     line-height:1.75\"><font color=\"black\"> was                    </font></mark><mark style=\"background-color: hsl(0, 75%, 95%); opacity:1.0;                     line-height:1.75\"><font color=\"black\"> in                    </font></mark><mark style=\"background-color: hsl(120, 75%, 96%); opacity:1.0;                     line-height:1.75\"><font color=\"black\"> 1999,                    </font></mark><mark style=\"background-color: hsl(0, 75%, 92%); opacity:1.0;                     line-height:1.75\"><font color=\"black\"> when                    </font></mark><mark style=\"background-color: hsl(0, 75%, 97%); opacity:1.0;                     line-height:1.75\"><font color=\"black\"> abc                    </font></mark><mark style=\"background-color: hsl(0, 75%, 97%); opacity:1.0;                     line-height:1.75\"><font color=\"black\"> put                    </font></mark><mark style=\"background-color: hsl(0, 75%, 100%); opacity:1.0;                     line-height:1.75\"><font color=\"black\"> it                    </font></mark><mark style=\"background-color: hsl(0, 75%, 100%); opacity:1.0;                     line-height:1.75\"><font color=\"black\"> on                    </font></mark><mark style=\"background-color: hsl(0, 75%, 98%); opacity:1.0;                     line-height:1.75\"><font color=\"black\"> a                    </font></mark><mark style=\"background-color: hsl(0, 75%, 99%); opacity:1.0;                     line-height:1.75\"><font color=\"black\"> one-year                    </font></mark><mark style=\"background-color: hsl(0, 75%, 99%); opacity:1.0;                     line-height:1.75\"><font color=\"black\"> hiatus                    </font></mark><mark style=\"background-color: hsl(120, 75%, 100%); opacity:1.0;                     line-height:1.75\"><font color=\"black\"> to                    </font></mark><mark style=\"background-color: hsl(120, 75%, 96%); opacity:1.0;                     line-height:1.75\"><font color=\"black\"> provide                    </font></mark><mark style=\"background-color: hsl(0, 75%, 96%); opacity:1.0;                     line-height:1.75\"><font color=\"black\"> coverage                    </font></mark><mark style=\"background-color: hsl(120, 75%, 96%); opacity:1.0;                     line-height:1.75\"><font color=\"black\"> of                    </font></mark><mark style=\"background-color: hsl(120, 75%, 98%); opacity:1.0;                     line-height:1.75\"><font color=\"black\"> the                    </font></mark><mark style=\"background-color: hsl(120, 75%, 98%); opacity:1.0;                     line-height:1.75\"><font color=\"black\"> international                    </font></mark><mark style=\"background-color: hsl(0, 75%, 98%); opacity:1.0;                     line-height:1.75\"><font color=\"black\"> millennium                    </font></mark><mark style=\"background-color: hsl(0, 75%, 99%); opacity:1.0;                     line-height:1.75\"><font color=\"black\"> festivities,                    </font></mark><mark style=\"background-color: hsl(0, 75%, 97%); opacity:1.0;                     line-height:1.75\"><font color=\"black\"> though                    </font></mark><mark style=\"background-color: hsl(120, 75%, 98%); opacity:1.0;                     line-height:1.75\"><font color=\"black\"> clark's                    </font></mark><mark style=\"background-color: hsl(120, 75%, 96%); opacity:1.0;                     line-height:1.75\"><font color=\"black\"> traditional                    </font></mark><mark style=\"background-color: hsl(120, 75%, 99%); opacity:1.0;                     line-height:1.75\"><font color=\"black\"> countdown                    </font></mark><mark style=\"background-color: hsl(0, 75%, 96%); opacity:1.0;                     line-height:1.75\"><font color=\"black\"> from                    </font></mark><mark style=\"background-color: hsl(0, 75%, 94%); opacity:1.0;                     line-height:1.75\"><font color=\"black\"> times                    </font></mark><mark style=\"background-color: hsl(0, 75%, 96%); opacity:1.0;                     line-height:1.75\"><font color=\"black\"> square                    </font></mark><mark style=\"background-color: hsl(0, 75%, 98%); opacity:1.0;                     line-height:1.75\"><font color=\"black\"> was                    </font></mark><mark style=\"background-color: hsl(120, 75%, 97%); opacity:1.0;                     line-height:1.75\"><font color=\"black\"> still                    </font></mark><mark style=\"background-color: hsl(0, 75%, 99%); opacity:1.0;                     line-height:1.75\"><font color=\"black\"> featured                    </font></mark><mark style=\"background-color: hsl(0, 75%, 98%); opacity:1.0;                     line-height:1.75\"><font color=\"black\"> within                    </font></mark><mark style=\"background-color: hsl(120, 75%, 95%); opacity:1.0;                     line-height:1.75\"><font color=\"black\"> the                    </font></mark><mark style=\"background-color: hsl(120, 75%, 98%); opacity:1.0;                     line-height:1.75\"><font color=\"black\"> coverage.                    </font></mark><mark style=\"background-color: hsl(120, 75%, 95%); opacity:1.0;                     line-height:1.75\"><font color=\"black\"> [SEP]                    </font></mark></td><tr></table>"
      ],
      "text/plain": [
       "<IPython.core.display.HTML object>"
      ]
     },
     "metadata": {},
     "output_type": "display_data"
    },
    {
     "name": "stderr",
     "output_type": "stream",
     "text": [
      "/home/user/anaconda3/envs/metric/lib/python3.9/site-packages/captum/attr/_core/lime.py:1096: UserWarning: Attempting to construct interpretable model with > 10000 features.This can be very slow or lead to OOM issues. Please provide a featuremask which groups input features to reduce the number of interpretablefeatures. \n",
      "  warnings.warn(\n"
     ]
    },
    {
     "name": "stdout",
     "output_type": "stream",
     "text": [
      "<IPython.core.display.HTML object>\n",
      "Raw datum: ['The Kronenberg Palace had been an exceptional example of what type of architecture?', 'Despite that the Warsaw University of Technology building (1899–1902) is the most interesting of the late 19th-century architecture.']\n",
      "GT target: 0\n"
     ]
    },
    {
     "name": "stderr",
     "output_type": "stream",
     "text": [
      "Lime attribution: 100%|██████████████████████████████████████████████████████████████████████████████████████████████████████████| 5/5 [00:06<00:00,  1.25s/it]\n"
     ]
    },
    {
     "name": "stdout",
     "output_type": "stream",
     "text": [
      "word attr tensor([ 0.6680, -0.1121, -0.0782,  0.0292,  0.0025,  0.0388, -0.1346, -0.1738,\n",
      "         0.0377, -0.0306, -0.1224,  0.0654, -0.1446,  0.0864, -0.1225,  0.1953,\n",
      "        -0.0903, -0.0053, -0.0140,  0.1344, -0.1409, -0.0936,  0.0693,  0.2354,\n",
      "         0.0218, -0.0482,  0.0576,  0.1597,  0.2096, -0.0590, -0.0154,  0.2386,\n",
      "        -0.1137, -0.0247, -0.0920,  0.0366, -0.0639, -0.1333, -0.1387,  0.0249,\n",
      "        -0.0812, -0.1023,  0.0644,  0.2084, -0.0041], device='cuda:0')\n",
      "conti attr [tensor(0.6680, device='cuda:0'), tensor(-0.1121, device='cuda:0'), tensor(-0.0110, device='cuda:0'), tensor(0.0388, device='cuda:0'), tensor(-0.1346, device='cuda:0'), tensor(-0.1738, device='cuda:0'), tensor(0.0377, device='cuda:0'), tensor(-0.0306, device='cuda:0'), tensor(-0.1224, device='cuda:0'), tensor(0.0654, device='cuda:0'), tensor(-0.1446, device='cuda:0'), tensor(0.0864, device='cuda:0'), tensor(-0.1225, device='cuda:0'), tensor(0.0525, device='cuda:0'), tensor(-0.0053, device='cuda:0'), tensor(-0.0140, device='cuda:0'), tensor(0.1344, device='cuda:0'), tensor(-0.1409, device='cuda:0'), tensor(-0.0936, device='cuda:0'), tensor(0.0693, device='cuda:0'), tensor(0.2354, device='cuda:0'), tensor(0.0218, device='cuda:0'), tensor(-0.0482, device='cuda:0'), tensor(0.0576, device='cuda:0'), tensor(0.1312, device='cuda:0'), tensor(-0.1137, device='cuda:0'), tensor(-0.0247, device='cuda:0'), tensor(-0.0920, device='cuda:0'), tensor(0.0366, device='cuda:0'), tensor(-0.0639, device='cuda:0'), tensor(-0.1333, device='cuda:0'), tensor(-0.1387, device='cuda:0'), tensor(-0.0652, device='cuda:0'), tensor(0.1364, device='cuda:0'), tensor(-0.0041, device='cuda:0')]\n",
      "detokenized ['[CLS]', 'the', 'k', 'rone', 'nberg', 'palace', 'had', 'been', 'an', 'exceptional', 'example', 'of', 'what', 'type', 'of', 'architecture', '?', '[SEP]', '[SEP]', 'despite', 'that', 'the', 'warsaw', 'university', 'of', 'technology', 'building', '(', '1899', '–', '1902', ')', 'is', 'the', 'most', 'interesting', 'of', 'the', 'late', '19th', '-', 'century', 'architecture', '.', '[SEP]']\n",
      "len conti_raw 35\n",
      "conti_raw ['[CLS]', 'the', 'kronenberg', 'palace', 'had', 'been', 'an', 'exceptional', 'example', 'of', 'what', 'type', 'of', 'architecture?', '[SEP]', '[SEP]', 'despite', 'that', 'the', 'warsaw', 'university', 'of', 'technology', 'building', '(1899–1902)', 'is', 'the', 'most', 'interesting', 'of', 'the', 'late', '19th-century', 'architecture.', '[SEP]']\n",
      "pred_prob 0.5980805158615112\n"
     ]
    },
    {
     "data": {
      "text/html": [
       "<table width: 100%><div style=\"border-top: 1px solid; margin-top: 5px;             padding-top: 5px; display: inline-block\"><b>Legend: </b><span style=\"display: inline-block; width: 10px; height: 10px;                 border: 1px solid; background-color:                 hsl(0, 75%, 60%)\"></span> Negative  <span style=\"display: inline-block; width: 10px; height: 10px;                 border: 1px solid; background-color:                 hsl(0, 75%, 100%)\"></span> Neutral  <span style=\"display: inline-block; width: 10px; height: 10px;                 border: 1px solid; background-color:                 hsl(120, 75%, 50%)\"></span> Positive  </div><tr><th>True Label</th><th>Predicted Label</th><th>Attribution Label</th><th>Attribution Score</th><th>Word Importance</th><tr><td><text style=\"padding-right:2em\"><b>No Entailment</b></text></td><td><text style=\"padding-right:2em\"><b>Entailment (0.60)</b></text></td><td><text style=\"padding-right:2em\"><b>No Entailment</b></text></td><td><text style=\"padding-right:2em\"><b>0.45</b></text></td><td><mark style=\"background-color: hsl(120, 75%, 67%); opacity:1.0;                     line-height:1.75\"><font color=\"black\"> [CLS]                    </font></mark><mark style=\"background-color: hsl(0, 75%, 96%); opacity:1.0;                     line-height:1.75\"><font color=\"black\"> the                    </font></mark><mark style=\"background-color: hsl(0, 75%, 100%); opacity:1.0;                     line-height:1.75\"><font color=\"black\"> kronenberg                    </font></mark><mark style=\"background-color: hsl(120, 75%, 99%); opacity:1.0;                     line-height:1.75\"><font color=\"black\"> palace                    </font></mark><mark style=\"background-color: hsl(0, 75%, 95%); opacity:1.0;                     line-height:1.75\"><font color=\"black\"> had                    </font></mark><mark style=\"background-color: hsl(0, 75%, 94%); opacity:1.0;                     line-height:1.75\"><font color=\"black\"> been                    </font></mark><mark style=\"background-color: hsl(120, 75%, 99%); opacity:1.0;                     line-height:1.75\"><font color=\"black\"> an                    </font></mark><mark style=\"background-color: hsl(0, 75%, 99%); opacity:1.0;                     line-height:1.75\"><font color=\"black\"> exceptional                    </font></mark><mark style=\"background-color: hsl(0, 75%, 96%); opacity:1.0;                     line-height:1.75\"><font color=\"black\"> example                    </font></mark><mark style=\"background-color: hsl(120, 75%, 97%); opacity:1.0;                     line-height:1.75\"><font color=\"black\"> of                    </font></mark><mark style=\"background-color: hsl(0, 75%, 95%); opacity:1.0;                     line-height:1.75\"><font color=\"black\"> what                    </font></mark><mark style=\"background-color: hsl(120, 75%, 96%); opacity:1.0;                     line-height:1.75\"><font color=\"black\"> type                    </font></mark><mark style=\"background-color: hsl(0, 75%, 96%); opacity:1.0;                     line-height:1.75\"><font color=\"black\"> of                    </font></mark><mark style=\"background-color: hsl(120, 75%, 98%); opacity:1.0;                     line-height:1.75\"><font color=\"black\"> architecture?                    </font></mark><mark style=\"background-color: hsl(0, 75%, 100%); opacity:1.0;                     line-height:1.75\"><font color=\"black\"> [SEP]                    </font></mark><mark style=\"background-color: hsl(0, 75%, 100%); opacity:1.0;                     line-height:1.75\"><font color=\"black\"> [SEP]                    </font></mark><mark style=\"background-color: hsl(120, 75%, 94%); opacity:1.0;                     line-height:1.75\"><font color=\"black\"> despite                    </font></mark><mark style=\"background-color: hsl(0, 75%, 95%); opacity:1.0;                     line-height:1.75\"><font color=\"black\"> that                    </font></mark><mark style=\"background-color: hsl(0, 75%, 97%); opacity:1.0;                     line-height:1.75\"><font color=\"black\"> the                    </font></mark><mark style=\"background-color: hsl(120, 75%, 97%); opacity:1.0;                     line-height:1.75\"><font color=\"black\"> warsaw                    </font></mark><mark style=\"background-color: hsl(120, 75%, 89%); opacity:1.0;                     line-height:1.75\"><font color=\"black\"> university                    </font></mark><mark style=\"background-color: hsl(120, 75%, 99%); opacity:1.0;                     line-height:1.75\"><font color=\"black\"> of                    </font></mark><mark style=\"background-color: hsl(0, 75%, 99%); opacity:1.0;                     line-height:1.75\"><font color=\"black\"> technology                    </font></mark><mark style=\"background-color: hsl(120, 75%, 98%); opacity:1.0;                     line-height:1.75\"><font color=\"black\"> building                    </font></mark><mark style=\"background-color: hsl(120, 75%, 94%); opacity:1.0;                     line-height:1.75\"><font color=\"black\"> (1899–1902)                    </font></mark><mark style=\"background-color: hsl(0, 75%, 96%); opacity:1.0;                     line-height:1.75\"><font color=\"black\"> is                    </font></mark><mark style=\"background-color: hsl(0, 75%, 100%); opacity:1.0;                     line-height:1.75\"><font color=\"black\"> the                    </font></mark><mark style=\"background-color: hsl(0, 75%, 97%); opacity:1.0;                     line-height:1.75\"><font color=\"black\"> most                    </font></mark><mark style=\"background-color: hsl(120, 75%, 99%); opacity:1.0;                     line-height:1.75\"><font color=\"black\"> interesting                    </font></mark><mark style=\"background-color: hsl(0, 75%, 98%); opacity:1.0;                     line-height:1.75\"><font color=\"black\"> of                    </font></mark><mark style=\"background-color: hsl(0, 75%, 95%); opacity:1.0;                     line-height:1.75\"><font color=\"black\"> the                    </font></mark><mark style=\"background-color: hsl(0, 75%, 95%); opacity:1.0;                     line-height:1.75\"><font color=\"black\"> late                    </font></mark><mark style=\"background-color: hsl(0, 75%, 98%); opacity:1.0;                     line-height:1.75\"><font color=\"black\"> 19th-century                    </font></mark><mark style=\"background-color: hsl(120, 75%, 94%); opacity:1.0;                     line-height:1.75\"><font color=\"black\"> architecture.                    </font></mark><mark style=\"background-color: hsl(0, 75%, 100%); opacity:1.0;                     line-height:1.75\"><font color=\"black\"> [SEP]                    </font></mark></td><tr></table>"
      ],
      "text/plain": [
       "<IPython.core.display.HTML object>"
      ]
     },
     "metadata": {},
     "output_type": "display_data"
    },
    {
     "name": "stderr",
     "output_type": "stream",
     "text": [
      "/home/user/anaconda3/envs/metric/lib/python3.9/site-packages/captum/attr/_core/lime.py:1096: UserWarning: Attempting to construct interpretable model with > 10000 features.This can be very slow or lead to OOM issues. Please provide a featuremask which groups input features to reduce the number of interpretablefeatures. \n",
      "  warnings.warn(\n"
     ]
    },
    {
     "name": "stdout",
     "output_type": "stream",
     "text": [
      "<IPython.core.display.HTML object>\n",
      "Raw datum: ['What was the definition of professionals, for this study?', 'It is important to note, however, that the British study referenced above is the only one of its kind and consisted of \"a random ... probability sample of 2,869 young people between the ages of 18 and 24 in a computer-assisted study\" and that the questions referred to \"sexual abuse with a professional,\" not necessarily a teacher.']\n",
      "GT target: 0\n"
     ]
    },
    {
     "name": "stderr",
     "output_type": "stream",
     "text": [
      "Lime attribution: 100%|██████████████████████████████████████████████████████████████████████████████████████████████████████████| 5/5 [00:09<00:00,  1.81s/it]\n"
     ]
    },
    {
     "name": "stdout",
     "output_type": "stream",
     "text": [
      "word attr tensor([ 0.6119,  0.0493, -0.0412, -0.0021, -0.1920, -0.0499,  0.1763,  0.0183,\n",
      "         0.0610, -0.0258,  0.0874,  0.1181, -0.0148, -0.1866, -0.0473, -0.2362,\n",
      "        -0.0572, -0.1378,  0.0021, -0.1461,  0.0055,  0.0289,  0.0319,  0.0467,\n",
      "        -0.0706,  0.0106,  0.0392, -0.0070, -0.1935,  0.0258,  0.0238, -0.1153,\n",
      "         0.0071, -0.0202,  0.0356, -0.1152, -0.0313, -0.0657,  0.0124,  0.0244,\n",
      "         0.0935,  0.0632, -0.1576,  0.0313,  0.0009,  0.0967,  0.0067, -0.0985,\n",
      "         0.0365, -0.0017,  0.0326, -0.0804, -0.0228, -0.0293,  0.0652, -0.0170,\n",
      "        -0.0065,  0.1683,  0.0225,  0.0573, -0.0900,  0.0365, -0.0517,  0.0830,\n",
      "        -0.0914,  0.0156,  0.0817,  0.0235, -0.0547,  0.0878, -0.1104, -0.1398,\n",
      "        -0.0061, -0.0062, -0.0370, -0.0526, -0.1752,  0.1271,  0.0182,  0.0271,\n",
      "         0.2029,  0.0281,  0.0729, -0.1255, -0.0223,  0.0608, -0.0551],\n",
      "       device='cuda:0')\n",
      "conti attr [tensor(0.6119, device='cuda:0'), tensor(0.0493, device='cuda:0'), tensor(-0.0412, device='cuda:0'), tensor(-0.0021, device='cuda:0'), tensor(-0.1920, device='cuda:0'), tensor(-0.0499, device='cuda:0'), tensor(0.0973, device='cuda:0'), tensor(0.0610, device='cuda:0'), tensor(-0.0258, device='cuda:0'), tensor(0.1027, device='cuda:0'), tensor(-0.0148, device='cuda:0'), tensor(-0.1866, device='cuda:0'), tensor(-0.0473, device='cuda:0'), tensor(-0.2362, device='cuda:0'), tensor(-0.0572, device='cuda:0'), tensor(-0.1378, device='cuda:0'), tensor(-0.0720, device='cuda:0'), tensor(0.0172, device='cuda:0'), tensor(0.0319, device='cuda:0'), tensor(0.0467, device='cuda:0'), tensor(-0.0706, device='cuda:0'), tensor(0.0106, device='cuda:0'), tensor(0.0392, device='cuda:0'), tensor(-0.0070, device='cuda:0'), tensor(-0.1935, device='cuda:0'), tensor(0.0258, device='cuda:0'), tensor(0.0238, device='cuda:0'), tensor(-0.1153, device='cuda:0'), tensor(0.0071, device='cuda:0'), tensor(-0.0202, device='cuda:0'), tensor(0.0356, device='cuda:0'), tensor(-0.1152, device='cuda:0'), tensor(-0.0313, device='cuda:0'), tensor(-0.0657, device='cuda:0'), tensor(0.0184, device='cuda:0'), tensor(0.0935, device='cuda:0'), tensor(-0.0080, device='cuda:0'), tensor(0.0009, device='cuda:0'), tensor(0.0967, device='cuda:0'), tensor(0.0067, device='cuda:0'), tensor(0.0081, device='cuda:0'), tensor(-0.0804, device='cuda:0'), tensor(-0.0228, device='cuda:0'), tensor(-0.0293, device='cuda:0'), tensor(0.0652, device='cuda:0'), tensor(-0.0170, device='cuda:0'), tensor(-0.0065, device='cuda:0'), tensor(0.1683, device='cuda:0'), tensor(0.0225, device='cuda:0'), tensor(0.0573, device='cuda:0'), tensor(-0.0900, device='cuda:0'), tensor(0.0365, device='cuda:0'), tensor(-0.0379, device='cuda:0'), tensor(0.0486, device='cuda:0'), tensor(0.0235, device='cuda:0'), tensor(-0.0547, device='cuda:0'), tensor(0.0878, device='cuda:0'), tensor(-0.1104, device='cuda:0'), tensor(-0.1398, device='cuda:0'), tensor(-0.0061, device='cuda:0'), tensor(-0.0216, device='cuda:0'), tensor(-0.0526, device='cuda:0'), tensor(-0.1752, device='cuda:0'), tensor(0.1271, device='cuda:0'), tensor(0.1128, device='cuda:0'), tensor(0.0281, device='cuda:0'), tensor(0.0729, device='cuda:0'), tensor(-0.1255, device='cuda:0'), tensor(0.0193, device='cuda:0'), tensor(-0.0551, device='cuda:0')]\n",
      "detokenized ['[CLS]', 'what', 'was', 'the', 'definition', 'of', 'professionals', ',', 'for', 'this', 'study', '?', '[SEP]', '[SEP]', 'it', 'is', 'important', 'to', 'note', ',', 'however', ',', 'that', 'the', 'british', 'study', 'referenced', 'above', 'is', 'the', 'only', 'one', 'of', 'its', 'kind', 'and', 'consisted', 'of', '\"', 'a', 'random', '.', '.', '.', 'probability', 'sample', 'of', '2', ',', '86', '9', 'young', 'people', 'between', 'the', 'ages', 'of', '18', 'and', '24', 'in', 'a', 'computer', '-', 'assisted', 'study', '\"', 'and', 'that', 'the', 'questions', 'referred', 'to', '\"', 'sexual', 'abuse', 'with', 'a', 'professional', ',', '\"', 'not', 'necessarily', 'a', 'teacher', '.', '[SEP]']\n",
      "len conti_raw 70\n",
      "conti_raw ['[CLS]', 'what', 'was', 'the', 'definition', 'of', 'professionals,', 'for', 'this', 'study?', '[SEP]', '[SEP]', 'it', 'is', 'important', 'to', 'note,', 'however,', 'that', 'the', 'british', 'study', 'referenced', 'above', 'is', 'the', 'only', 'one', 'of', 'its', 'kind', 'and', 'consisted', 'of', '\"a', 'random', '...', 'probability', 'sample', 'of', '2,869', 'young', 'people', 'between', 'the', 'ages', 'of', '18', 'and', '24', 'in', 'a', 'computer-assisted', 'study\"', 'and', 'that', 'the', 'questions', 'referred', 'to', '\"sexual', 'abuse', 'with', 'a', 'professional,\"', 'not', 'necessarily', 'a', 'teacher.', '[SEP]']\n",
      "pred_prob 0.42063799500465393\n"
     ]
    },
    {
     "data": {
      "text/html": [
       "<table width: 100%><div style=\"border-top: 1px solid; margin-top: 5px;             padding-top: 5px; display: inline-block\"><b>Legend: </b><span style=\"display: inline-block; width: 10px; height: 10px;                 border: 1px solid; background-color:                 hsl(0, 75%, 60%)\"></span> Negative  <span style=\"display: inline-block; width: 10px; height: 10px;                 border: 1px solid; background-color:                 hsl(0, 75%, 100%)\"></span> Neutral  <span style=\"display: inline-block; width: 10px; height: 10px;                 border: 1px solid; background-color:                 hsl(120, 75%, 50%)\"></span> Positive  </div><tr><th>True Label</th><th>Predicted Label</th><th>Attribution Label</th><th>Attribution Score</th><th>Word Importance</th><tr><td><text style=\"padding-right:2em\"><b>No Entailment</b></text></td><td><text style=\"padding-right:2em\"><b>No Entailment (0.42)</b></text></td><td><text style=\"padding-right:2em\"><b>No Entailment</b></text></td><td><text style=\"padding-right:2em\"><b>-0.23</b></text></td><td><mark style=\"background-color: hsl(120, 75%, 70%); opacity:1.0;                     line-height:1.75\"><font color=\"black\"> [CLS]                    </font></mark><mark style=\"background-color: hsl(120, 75%, 98%); opacity:1.0;                     line-height:1.75\"><font color=\"black\"> what                    </font></mark><mark style=\"background-color: hsl(0, 75%, 99%); opacity:1.0;                     line-height:1.75\"><font color=\"black\"> was                    </font></mark><mark style=\"background-color: hsl(0, 75%, 100%); opacity:1.0;                     line-height:1.75\"><font color=\"black\"> the                    </font></mark><mark style=\"background-color: hsl(0, 75%, 93%); opacity:1.0;                     line-height:1.75\"><font color=\"black\"> definition                    </font></mark><mark style=\"background-color: hsl(0, 75%, 99%); opacity:1.0;                     line-height:1.75\"><font color=\"black\"> of                    </font></mark><mark style=\"background-color: hsl(120, 75%, 96%); opacity:1.0;                     line-height:1.75\"><font color=\"black\"> professionals,                    </font></mark><mark style=\"background-color: hsl(120, 75%, 97%); opacity:1.0;                     line-height:1.75\"><font color=\"black\"> for                    </font></mark><mark style=\"background-color: hsl(0, 75%, 99%); opacity:1.0;                     line-height:1.75\"><font color=\"black\"> this                    </font></mark><mark style=\"background-color: hsl(120, 75%, 95%); opacity:1.0;                     line-height:1.75\"><font color=\"black\"> study?                    </font></mark><mark style=\"background-color: hsl(0, 75%, 100%); opacity:1.0;                     line-height:1.75\"><font color=\"black\"> [SEP]                    </font></mark><mark style=\"background-color: hsl(0, 75%, 93%); opacity:1.0;                     line-height:1.75\"><font color=\"black\"> [SEP]                    </font></mark><mark style=\"background-color: hsl(0, 75%, 99%); opacity:1.0;                     line-height:1.75\"><font color=\"black\"> it                    </font></mark><mark style=\"background-color: hsl(0, 75%, 91%); opacity:1.0;                     line-height:1.75\"><font color=\"black\"> is                    </font></mark><mark style=\"background-color: hsl(0, 75%, 98%); opacity:1.0;                     line-height:1.75\"><font color=\"black\"> important                    </font></mark><mark style=\"background-color: hsl(0, 75%, 95%); opacity:1.0;                     line-height:1.75\"><font color=\"black\"> to                    </font></mark><mark style=\"background-color: hsl(0, 75%, 98%); opacity:1.0;                     line-height:1.75\"><font color=\"black\"> note,                    </font></mark><mark style=\"background-color: hsl(120, 75%, 100%); opacity:1.0;                     line-height:1.75\"><font color=\"black\"> however,                    </font></mark><mark style=\"background-color: hsl(120, 75%, 99%); opacity:1.0;                     line-height:1.75\"><font color=\"black\"> that                    </font></mark><mark style=\"background-color: hsl(120, 75%, 98%); opacity:1.0;                     line-height:1.75\"><font color=\"black\"> the                    </font></mark><mark style=\"background-color: hsl(0, 75%, 98%); opacity:1.0;                     line-height:1.75\"><font color=\"black\"> british                    </font></mark><mark style=\"background-color: hsl(120, 75%, 100%); opacity:1.0;                     line-height:1.75\"><font color=\"black\"> study                    </font></mark><mark style=\"background-color: hsl(120, 75%, 99%); opacity:1.0;                     line-height:1.75\"><font color=\"black\"> referenced                    </font></mark><mark style=\"background-color: hsl(0, 75%, 100%); opacity:1.0;                     line-height:1.75\"><font color=\"black\"> above                    </font></mark><mark style=\"background-color: hsl(0, 75%, 93%); opacity:1.0;                     line-height:1.75\"><font color=\"black\"> is                    </font></mark><mark style=\"background-color: hsl(120, 75%, 99%); opacity:1.0;                     line-height:1.75\"><font color=\"black\"> the                    </font></mark><mark style=\"background-color: hsl(120, 75%, 99%); opacity:1.0;                     line-height:1.75\"><font color=\"black\"> only                    </font></mark><mark style=\"background-color: hsl(0, 75%, 96%); opacity:1.0;                     line-height:1.75\"><font color=\"black\"> one                    </font></mark><mark style=\"background-color: hsl(120, 75%, 100%); opacity:1.0;                     line-height:1.75\"><font color=\"black\"> of                    </font></mark><mark style=\"background-color: hsl(0, 75%, 100%); opacity:1.0;                     line-height:1.75\"><font color=\"black\"> its                    </font></mark><mark style=\"background-color: hsl(120, 75%, 99%); opacity:1.0;                     line-height:1.75\"><font color=\"black\"> kind                    </font></mark><mark style=\"background-color: hsl(0, 75%, 96%); opacity:1.0;                     line-height:1.75\"><font color=\"black\"> and                    </font></mark><mark style=\"background-color: hsl(0, 75%, 99%); opacity:1.0;                     line-height:1.75\"><font color=\"black\"> consisted                    </font></mark><mark style=\"background-color: hsl(0, 75%, 98%); opacity:1.0;                     line-height:1.75\"><font color=\"black\"> of                    </font></mark><mark style=\"background-color: hsl(120, 75%, 100%); opacity:1.0;                     line-height:1.75\"><font color=\"black\"> \"a                    </font></mark><mark style=\"background-color: hsl(120, 75%, 96%); opacity:1.0;                     line-height:1.75\"><font color=\"black\"> random                    </font></mark><mark style=\"background-color: hsl(0, 75%, 100%); opacity:1.0;                     line-height:1.75\"><font color=\"black\"> ...                    </font></mark><mark style=\"background-color: hsl(120, 75%, 100%); opacity:1.0;                     line-height:1.75\"><font color=\"black\"> probability                    </font></mark><mark style=\"background-color: hsl(120, 75%, 96%); opacity:1.0;                     line-height:1.75\"><font color=\"black\"> sample                    </font></mark><mark style=\"background-color: hsl(120, 75%, 100%); opacity:1.0;                     line-height:1.75\"><font color=\"black\"> of                    </font></mark><mark style=\"background-color: hsl(120, 75%, 100%); opacity:1.0;                     line-height:1.75\"><font color=\"black\"> 2,869                    </font></mark><mark style=\"background-color: hsl(0, 75%, 97%); opacity:1.0;                     line-height:1.75\"><font color=\"black\"> young                    </font></mark><mark style=\"background-color: hsl(0, 75%, 100%); opacity:1.0;                     line-height:1.75\"><font color=\"black\"> people                    </font></mark><mark style=\"background-color: hsl(0, 75%, 99%); opacity:1.0;                     line-height:1.75\"><font color=\"black\"> between                    </font></mark><mark style=\"background-color: hsl(120, 75%, 97%); opacity:1.0;                     line-height:1.75\"><font color=\"black\"> the                    </font></mark><mark style=\"background-color: hsl(0, 75%, 100%); opacity:1.0;                     line-height:1.75\"><font color=\"black\"> ages                    </font></mark><mark style=\"background-color: hsl(0, 75%, 100%); opacity:1.0;                     line-height:1.75\"><font color=\"black\"> of                    </font></mark><mark style=\"background-color: hsl(120, 75%, 92%); opacity:1.0;                     line-height:1.75\"><font color=\"black\"> 18                    </font></mark><mark style=\"background-color: hsl(120, 75%, 99%); opacity:1.0;                     line-height:1.75\"><font color=\"black\"> and                    </font></mark><mark style=\"background-color: hsl(120, 75%, 98%); opacity:1.0;                     line-height:1.75\"><font color=\"black\"> 24                    </font></mark><mark style=\"background-color: hsl(0, 75%, 97%); opacity:1.0;                     line-height:1.75\"><font color=\"black\"> in                    </font></mark><mark style=\"background-color: hsl(120, 75%, 99%); opacity:1.0;                     line-height:1.75\"><font color=\"black\"> a                    </font></mark><mark style=\"background-color: hsl(0, 75%, 99%); opacity:1.0;                     line-height:1.75\"><font color=\"black\"> computer-assisted                    </font></mark><mark style=\"background-color: hsl(120, 75%, 98%); opacity:1.0;                     line-height:1.75\"><font color=\"black\"> study\"                    </font></mark><mark style=\"background-color: hsl(120, 75%, 99%); opacity:1.0;                     line-height:1.75\"><font color=\"black\"> and                    </font></mark><mark style=\"background-color: hsl(0, 75%, 98%); opacity:1.0;                     line-height:1.75\"><font color=\"black\"> that                    </font></mark><mark style=\"background-color: hsl(120, 75%, 96%); opacity:1.0;                     line-height:1.75\"><font color=\"black\"> the                    </font></mark><mark style=\"background-color: hsl(0, 75%, 96%); opacity:1.0;                     line-height:1.75\"><font color=\"black\"> questions                    </font></mark><mark style=\"background-color: hsl(0, 75%, 95%); opacity:1.0;                     line-height:1.75\"><font color=\"black\"> referred                    </font></mark><mark style=\"background-color: hsl(0, 75%, 100%); opacity:1.0;                     line-height:1.75\"><font color=\"black\"> to                    </font></mark><mark style=\"background-color: hsl(0, 75%, 100%); opacity:1.0;                     line-height:1.75\"><font color=\"black\"> \"sexual                    </font></mark><mark style=\"background-color: hsl(0, 75%, 98%); opacity:1.0;                     line-height:1.75\"><font color=\"black\"> abuse                    </font></mark><mark style=\"background-color: hsl(0, 75%, 93%); opacity:1.0;                     line-height:1.75\"><font color=\"black\"> with                    </font></mark><mark style=\"background-color: hsl(120, 75%, 94%); opacity:1.0;                     line-height:1.75\"><font color=\"black\"> a                    </font></mark><mark style=\"background-color: hsl(120, 75%, 95%); opacity:1.0;                     line-height:1.75\"><font color=\"black\"> professional,\"                    </font></mark><mark style=\"background-color: hsl(120, 75%, 99%); opacity:1.0;                     line-height:1.75\"><font color=\"black\"> not                    </font></mark><mark style=\"background-color: hsl(120, 75%, 97%); opacity:1.0;                     line-height:1.75\"><font color=\"black\"> necessarily                    </font></mark><mark style=\"background-color: hsl(0, 75%, 95%); opacity:1.0;                     line-height:1.75\"><font color=\"black\"> a                    </font></mark><mark style=\"background-color: hsl(120, 75%, 100%); opacity:1.0;                     line-height:1.75\"><font color=\"black\"> teacher.                    </font></mark><mark style=\"background-color: hsl(0, 75%, 98%); opacity:1.0;                     line-height:1.75\"><font color=\"black\"> [SEP]                    </font></mark></td><tr></table>"
      ],
      "text/plain": [
       "<IPython.core.display.HTML object>"
      ]
     },
     "metadata": {},
     "output_type": "display_data"
    },
    {
     "name": "stderr",
     "output_type": "stream",
     "text": [
      "/home/user/anaconda3/envs/metric/lib/python3.9/site-packages/captum/attr/_core/lime.py:1096: UserWarning: Attempting to construct interpretable model with > 10000 features.This can be very slow or lead to OOM issues. Please provide a featuremask which groups input features to reduce the number of interpretablefeatures. \n",
      "  warnings.warn(\n"
     ]
    },
    {
     "name": "stdout",
     "output_type": "stream",
     "text": [
      "<IPython.core.display.HTML object>\n",
      "Raw datum: ['bassett focuses on what to illustrate his idea?', 'To better illustrate this idea, Bassett focuses his analysis of the role of nineteenth-century maps during the \"scramble for Africa\".']\n",
      "GT target: 1\n"
     ]
    },
    {
     "name": "stderr",
     "output_type": "stream",
     "text": [
      "Lime attribution: 100%|██████████████████████████████████████████████████████████████████████████████████████████████████████████| 5/5 [00:03<00:00,  1.29it/s]\n"
     ]
    },
    {
     "name": "stdout",
     "output_type": "stream",
     "text": [
      "word attr tensor([ 0.7106, -0.2622, -0.3108, -0.0028, -0.0022,  0.0387,  0.0107, -0.0549,\n",
      "         0.0069,  0.1029, -0.1273,  0.0408, -0.1505, -0.1542, -0.0905, -0.0518,\n",
      "        -0.0163, -0.0653,  0.0035, -0.0109, -0.0113,  0.1759,  0.1225,  0.1083,\n",
      "         0.0340, -0.0981, -0.0652, -0.2086,  0.0643, -0.0525, -0.0622,  0.0067,\n",
      "         0.1909, -0.1007,  0.0992, -0.0248,  0.2200,  0.0373, -0.0258],\n",
      "       device='cuda:0')\n",
      "conti attr [tensor(0.7106, device='cuda:0'), tensor(-0.2622, device='cuda:0'), tensor(-0.3108, device='cuda:0'), tensor(-0.0028, device='cuda:0'), tensor(-0.0022, device='cuda:0'), tensor(0.0387, device='cuda:0'), tensor(0.0107, device='cuda:0'), tensor(-0.0549, device='cuda:0'), tensor(0.0549, device='cuda:0'), tensor(-0.1273, device='cuda:0'), tensor(0.0408, device='cuda:0'), tensor(-0.1505, device='cuda:0'), tensor(-0.1542, device='cuda:0'), tensor(-0.0905, device='cuda:0'), tensor(-0.0518, device='cuda:0'), tensor(-0.0408, device='cuda:0'), tensor(0.0035, device='cuda:0'), tensor(-0.0109, device='cuda:0'), tensor(-0.0113, device='cuda:0'), tensor(0.1759, device='cuda:0'), tensor(0.1225, device='cuda:0'), tensor(0.1083, device='cuda:0'), tensor(0.0340, device='cuda:0'), tensor(-0.0981, device='cuda:0'), tensor(-0.0363, device='cuda:0'), tensor(-0.0525, device='cuda:0'), tensor(-0.0622, device='cuda:0'), tensor(0.0067, device='cuda:0'), tensor(0.0451, device='cuda:0'), tensor(0.0992, device='cuda:0'), tensor(0.0674, device='cuda:0'), tensor(-0.0258, device='cuda:0')]\n",
      "detokenized ['[CLS]', 'bassett', 'focuses', 'on', 'what', 'to', 'illustrate', 'his', 'idea', '?', '[SEP]', '[SEP]', 'to', 'better', 'illustrate', 'this', 'idea', ',', 'bassett', 'focuses', 'his', 'analysis', 'of', 'the', 'role', 'of', 'nineteenth', '-', 'century', 'maps', 'during', 'the', '\"', 'scramble', 'for', 'africa', '\"', '.', '[SEP]']\n",
      "len conti_raw 32\n",
      "conti_raw ['[CLS]', 'bassett', 'focuses', 'on', 'what', 'to', 'illustrate', 'his', 'idea?', '[SEP]', '[SEP]', 'to', 'better', 'illustrate', 'this', 'idea,', 'bassett', 'focuses', 'his', 'analysis', 'of', 'the', 'role', 'of', 'nineteenth-century', 'maps', 'during', 'the', '\"scramble', 'for', 'africa\".', '[SEP]']\n",
      "pred_prob 0.5277463793754578\n"
     ]
    },
    {
     "data": {
      "text/html": [
       "<table width: 100%><div style=\"border-top: 1px solid; margin-top: 5px;             padding-top: 5px; display: inline-block\"><b>Legend: </b><span style=\"display: inline-block; width: 10px; height: 10px;                 border: 1px solid; background-color:                 hsl(0, 75%, 60%)\"></span> Negative  <span style=\"display: inline-block; width: 10px; height: 10px;                 border: 1px solid; background-color:                 hsl(0, 75%, 100%)\"></span> Neutral  <span style=\"display: inline-block; width: 10px; height: 10px;                 border: 1px solid; background-color:                 hsl(120, 75%, 50%)\"></span> Positive  </div><tr><th>True Label</th><th>Predicted Label</th><th>Attribution Label</th><th>Attribution Score</th><th>Word Importance</th><tr><td><text style=\"padding-right:2em\"><b>Entailment</b></text></td><td><text style=\"padding-right:2em\"><b>Entailment (0.53)</b></text></td><td><text style=\"padding-right:2em\"><b>No Entailment</b></text></td><td><text style=\"padding-right:2em\"><b>0.02</b></text></td><td><mark style=\"background-color: hsl(120, 75%, 65%); opacity:1.0;                     line-height:1.75\"><font color=\"black\"> [CLS]                    </font></mark><mark style=\"background-color: hsl(0, 75%, 90%); opacity:1.0;                     line-height:1.75\"><font color=\"black\"> bassett                    </font></mark><mark style=\"background-color: hsl(0, 75%, 88%); opacity:1.0;                     line-height:1.75\"><font color=\"black\"> focuses                    </font></mark><mark style=\"background-color: hsl(0, 75%, 100%); opacity:1.0;                     line-height:1.75\"><font color=\"black\"> on                    </font></mark><mark style=\"background-color: hsl(0, 75%, 100%); opacity:1.0;                     line-height:1.75\"><font color=\"black\"> what                    </font></mark><mark style=\"background-color: hsl(120, 75%, 99%); opacity:1.0;                     line-height:1.75\"><font color=\"black\"> to                    </font></mark><mark style=\"background-color: hsl(120, 75%, 100%); opacity:1.0;                     line-height:1.75\"><font color=\"black\"> illustrate                    </font></mark><mark style=\"background-color: hsl(0, 75%, 98%); opacity:1.0;                     line-height:1.75\"><font color=\"black\"> his                    </font></mark><mark style=\"background-color: hsl(120, 75%, 98%); opacity:1.0;                     line-height:1.75\"><font color=\"black\"> idea?                    </font></mark><mark style=\"background-color: hsl(0, 75%, 95%); opacity:1.0;                     line-height:1.75\"><font color=\"black\"> [SEP]                    </font></mark><mark style=\"background-color: hsl(120, 75%, 98%); opacity:1.0;                     line-height:1.75\"><font color=\"black\"> [SEP]                    </font></mark><mark style=\"background-color: hsl(0, 75%, 94%); opacity:1.0;                     line-height:1.75\"><font color=\"black\"> to                    </font></mark><mark style=\"background-color: hsl(0, 75%, 94%); opacity:1.0;                     line-height:1.75\"><font color=\"black\"> better                    </font></mark><mark style=\"background-color: hsl(0, 75%, 97%); opacity:1.0;                     line-height:1.75\"><font color=\"black\"> illustrate                    </font></mark><mark style=\"background-color: hsl(0, 75%, 98%); opacity:1.0;                     line-height:1.75\"><font color=\"black\"> this                    </font></mark><mark style=\"background-color: hsl(0, 75%, 99%); opacity:1.0;                     line-height:1.75\"><font color=\"black\"> idea,                    </font></mark><mark style=\"background-color: hsl(120, 75%, 100%); opacity:1.0;                     line-height:1.75\"><font color=\"black\"> bassett                    </font></mark><mark style=\"background-color: hsl(0, 75%, 100%); opacity:1.0;                     line-height:1.75\"><font color=\"black\"> focuses                    </font></mark><mark style=\"background-color: hsl(0, 75%, 100%); opacity:1.0;                     line-height:1.75\"><font color=\"black\"> his                    </font></mark><mark style=\"background-color: hsl(120, 75%, 92%); opacity:1.0;                     line-height:1.75\"><font color=\"black\"> analysis                    </font></mark><mark style=\"background-color: hsl(120, 75%, 94%); opacity:1.0;                     line-height:1.75\"><font color=\"black\"> of                    </font></mark><mark style=\"background-color: hsl(120, 75%, 95%); opacity:1.0;                     line-height:1.75\"><font color=\"black\"> the                    </font></mark><mark style=\"background-color: hsl(120, 75%, 99%); opacity:1.0;                     line-height:1.75\"><font color=\"black\"> role                    </font></mark><mark style=\"background-color: hsl(0, 75%, 97%); opacity:1.0;                     line-height:1.75\"><font color=\"black\"> of                    </font></mark><mark style=\"background-color: hsl(0, 75%, 99%); opacity:1.0;                     line-height:1.75\"><font color=\"black\"> nineteenth-century                    </font></mark><mark style=\"background-color: hsl(0, 75%, 98%); opacity:1.0;                     line-height:1.75\"><font color=\"black\"> maps                    </font></mark><mark style=\"background-color: hsl(0, 75%, 98%); opacity:1.0;                     line-height:1.75\"><font color=\"black\"> during                    </font></mark><mark style=\"background-color: hsl(120, 75%, 100%); opacity:1.0;                     line-height:1.75\"><font color=\"black\"> the                    </font></mark><mark style=\"background-color: hsl(120, 75%, 98%); opacity:1.0;                     line-height:1.75\"><font color=\"black\"> \"scramble                    </font></mark><mark style=\"background-color: hsl(120, 75%, 96%); opacity:1.0;                     line-height:1.75\"><font color=\"black\"> for                    </font></mark><mark style=\"background-color: hsl(120, 75%, 97%); opacity:1.0;                     line-height:1.75\"><font color=\"black\"> africa\".                    </font></mark><mark style=\"background-color: hsl(0, 75%, 99%); opacity:1.0;                     line-height:1.75\"><font color=\"black\"> [SEP]                    </font></mark></td><tr></table>"
      ],
      "text/plain": [
       "<IPython.core.display.HTML object>"
      ]
     },
     "metadata": {},
     "output_type": "display_data"
    },
    {
     "name": "stderr",
     "output_type": "stream",
     "text": [
      "/home/user/anaconda3/envs/metric/lib/python3.9/site-packages/captum/attr/_core/lime.py:1096: UserWarning: Attempting to construct interpretable model with > 10000 features.This can be very slow or lead to OOM issues. Please provide a featuremask which groups input features to reduce the number of interpretablefeatures. \n",
      "  warnings.warn(\n"
     ]
    },
    {
     "name": "stdout",
     "output_type": "stream",
     "text": [
      "<IPython.core.display.HTML object>\n",
      "Raw datum: ['Where did Tesla believe his talents came from?', \"Tesla's mother, Đuka Tesla (née Mandić), whose father was also an Orthodox priest,:10 had a talent for making home craft tools, mechanical appliances, and the ability to memorize Serbian epic poems.\"]\n",
      "GT target: 0\n"
     ]
    },
    {
     "name": "stderr",
     "output_type": "stream",
     "text": [
      "Lime attribution: 100%|██████████████████████████████████████████████████████████████████████████████████████████████████████████| 5/5 [00:05<00:00,  1.16s/it]\n"
     ]
    },
    {
     "name": "stdout",
     "output_type": "stream",
     "text": [
      "word attr tensor([ 4.8387e-01, -4.0950e-02, -8.7724e-04,  3.4052e-02,  7.9562e-02,\n",
      "         9.6615e-02, -1.0952e-01,  7.2742e-02,  3.1162e-02, -1.2239e-02,\n",
      "         3.1703e-02, -7.8487e-02,  5.5543e-02, -4.7589e-02,  7.1935e-02,\n",
      "        -1.4186e-01, -1.7839e-01, -2.9968e-02,  2.4379e-01, -1.9173e-01,\n",
      "         6.2136e-02, -1.0025e-01, -1.6562e-01,  5.2106e-02,  1.9333e-01,\n",
      "        -1.6102e-02, -1.6353e-01,  9.1883e-03, -1.2551e-01, -1.0600e-01,\n",
      "         1.1700e-01, -2.2802e-01,  3.9479e-02,  1.3584e-01,  5.4198e-02,\n",
      "        -2.6756e-02,  1.8504e-01, -2.4366e-02, -3.0363e-02,  3.7910e-02,\n",
      "        -1.3110e-01, -2.2142e-01,  6.3346e-02,  1.2532e-04, -1.5742e-01,\n",
      "         2.3907e-01,  1.5239e-01,  2.0847e-01, -3.4901e-02, -6.8607e-02,\n",
      "         1.5666e-01,  4.4866e-02,  4.8620e-02,  8.5868e-02, -3.7252e-02,\n",
      "         1.4394e-01,  1.2429e-01, -3.5872e-02, -1.6886e-02], device='cuda:0')\n",
      "conti attr [tensor(0.4839, device='cuda:0'), tensor(-0.0410, device='cuda:0'), tensor(-0.0009, device='cuda:0'), tensor(0.0341, device='cuda:0'), tensor(0.0796, device='cuda:0'), tensor(0.0966, device='cuda:0'), tensor(-0.1095, device='cuda:0'), tensor(0.0727, device='cuda:0'), tensor(0.0095, device='cuda:0'), tensor(0.0317, device='cuda:0'), tensor(-0.0785, device='cuda:0'), tensor(0.0380, device='cuda:0'), tensor(-0.1601, device='cuda:0'), tensor(0.1069, device='cuda:0'), tensor(-0.1917, device='cuda:0'), tensor(-0.0191, device='cuda:0'), tensor(0.0261, device='cuda:0'), tensor(-0.1635, device='cuda:0'), tensor(0.0092, device='cuda:0'), tensor(-0.1255, device='cuda:0'), tensor(-0.1060, device='cuda:0'), tensor(0.1170, device='cuda:0'), tensor(-0.2280, device='cuda:0'), tensor(0.0221, device='cuda:0'), tensor(0.1850, device='cuda:0'), tensor(-0.0244, device='cuda:0'), tensor(-0.0304, device='cuda:0'), tensor(0.0379, device='cuda:0'), tensor(-0.1311, device='cuda:0'), tensor(-0.2214, device='cuda:0'), tensor(0.0633, device='cuda:0'), tensor(-0.0786, device='cuda:0'), tensor(0.2391, device='cuda:0'), tensor(0.1804, device='cuda:0'), tensor(-0.0349, device='cuda:0'), tensor(-0.0686, device='cuda:0'), tensor(0.1567, device='cuda:0'), tensor(0.0449, device='cuda:0'), tensor(0.0672, device='cuda:0'), tensor(-0.0373, device='cuda:0'), tensor(0.1439, device='cuda:0'), tensor(0.0442, device='cuda:0'), tensor(-0.0169, device='cuda:0')]\n",
      "detokenized ['[CLS]', 'where', 'did', 'tesla', 'believe', 'his', 'talents', 'came', 'from', '?', '[SEP]', '[SEP]', 'tesla', \"'\", 's', 'mother', ',', 'đ', 'uka', 'tesla', '(', 'nee', 'man', 'dic', ')', ',', 'whose', 'father', 'was', 'also', 'an', 'orthodox', 'priest', ',', ':', '10', 'had', 'a', 'talent', 'for', 'making', 'home', 'craft', 'tools', ',', 'mechanical', 'appliances', ',', 'and', 'the', 'ability', 'to', 'memo', 'rize', 'serbian', 'epic', 'poems', '.', '[SEP]']\n",
      "len conti_raw 43\n",
      "conti_raw ['[CLS]', 'where', 'did', 'tesla', 'believe', 'his', 'talents', 'came', 'from?', '[SEP]', '[SEP]', \"tesla's\", 'mother,', 'đuka', 'tesla', '(nee', 'mandic),', 'whose', 'father', 'was', 'also', 'an', 'orthodox', 'priest,:10', 'had', 'a', 'talent', 'for', 'making', 'home', 'craft', 'tools,', 'mechanical', 'appliances,', 'and', 'the', 'ability', 'to', 'memorize', 'serbian', 'epic', 'poems.', '[SEP]']\n",
      "pred_prob 0.7914941310882568\n"
     ]
    },
    {
     "data": {
      "text/html": [
       "<table width: 100%><div style=\"border-top: 1px solid; margin-top: 5px;             padding-top: 5px; display: inline-block\"><b>Legend: </b><span style=\"display: inline-block; width: 10px; height: 10px;                 border: 1px solid; background-color:                 hsl(0, 75%, 60%)\"></span> Negative  <span style=\"display: inline-block; width: 10px; height: 10px;                 border: 1px solid; background-color:                 hsl(0, 75%, 100%)\"></span> Neutral  <span style=\"display: inline-block; width: 10px; height: 10px;                 border: 1px solid; background-color:                 hsl(120, 75%, 50%)\"></span> Positive  </div><tr><th>True Label</th><th>Predicted Label</th><th>Attribution Label</th><th>Attribution Score</th><th>Word Importance</th><tr><td><text style=\"padding-right:2em\"><b>No Entailment</b></text></td><td><text style=\"padding-right:2em\"><b>Entailment (0.79)</b></text></td><td><text style=\"padding-right:2em\"><b>Entailment</b></text></td><td><text style=\"padding-right:2em\"><b>0.83</b></text></td><td><mark style=\"background-color: hsl(120, 75%, 76%); opacity:1.0;                     line-height:1.75\"><font color=\"black\"> [CLS]                    </font></mark><mark style=\"background-color: hsl(0, 75%, 99%); opacity:1.0;                     line-height:1.75\"><font color=\"black\"> where                    </font></mark><mark style=\"background-color: hsl(0, 75%, 100%); opacity:1.0;                     line-height:1.75\"><font color=\"black\"> did                    </font></mark><mark style=\"background-color: hsl(120, 75%, 99%); opacity:1.0;                     line-height:1.75\"><font color=\"black\"> tesla                    </font></mark><mark style=\"background-color: hsl(120, 75%, 97%); opacity:1.0;                     line-height:1.75\"><font color=\"black\"> believe                    </font></mark><mark style=\"background-color: hsl(120, 75%, 96%); opacity:1.0;                     line-height:1.75\"><font color=\"black\"> his                    </font></mark><mark style=\"background-color: hsl(0, 75%, 96%); opacity:1.0;                     line-height:1.75\"><font color=\"black\"> talents                    </font></mark><mark style=\"background-color: hsl(120, 75%, 97%); opacity:1.0;                     line-height:1.75\"><font color=\"black\"> came                    </font></mark><mark style=\"background-color: hsl(120, 75%, 100%); opacity:1.0;                     line-height:1.75\"><font color=\"black\"> from?                    </font></mark><mark style=\"background-color: hsl(120, 75%, 99%); opacity:1.0;                     line-height:1.75\"><font color=\"black\"> [SEP]                    </font></mark><mark style=\"background-color: hsl(0, 75%, 97%); opacity:1.0;                     line-height:1.75\"><font color=\"black\"> [SEP]                    </font></mark><mark style=\"background-color: hsl(120, 75%, 99%); opacity:1.0;                     line-height:1.75\"><font color=\"black\"> tesla's                    </font></mark><mark style=\"background-color: hsl(0, 75%, 94%); opacity:1.0;                     line-height:1.75\"><font color=\"black\"> mother,                    </font></mark><mark style=\"background-color: hsl(120, 75%, 95%); opacity:1.0;                     line-height:1.75\"><font color=\"black\"> đuka                    </font></mark><mark style=\"background-color: hsl(0, 75%, 93%); opacity:1.0;                     line-height:1.75\"><font color=\"black\"> tesla                    </font></mark><mark style=\"background-color: hsl(0, 75%, 100%); opacity:1.0;                     line-height:1.75\"><font color=\"black\"> (nee                    </font></mark><mark style=\"background-color: hsl(120, 75%, 99%); opacity:1.0;                     line-height:1.75\"><font color=\"black\"> mandic),                    </font></mark><mark style=\"background-color: hsl(0, 75%, 94%); opacity:1.0;                     line-height:1.75\"><font color=\"black\"> whose                    </font></mark><mark style=\"background-color: hsl(120, 75%, 100%); opacity:1.0;                     line-height:1.75\"><font color=\"black\"> father                    </font></mark><mark style=\"background-color: hsl(0, 75%, 95%); opacity:1.0;                     line-height:1.75\"><font color=\"black\"> was                    </font></mark><mark style=\"background-color: hsl(0, 75%, 96%); opacity:1.0;                     line-height:1.75\"><font color=\"black\"> also                    </font></mark><mark style=\"background-color: hsl(120, 75%, 95%); opacity:1.0;                     line-height:1.75\"><font color=\"black\"> an                    </font></mark><mark style=\"background-color: hsl(0, 75%, 91%); opacity:1.0;                     line-height:1.75\"><font color=\"black\"> orthodox                    </font></mark><mark style=\"background-color: hsl(120, 75%, 99%); opacity:1.0;                     line-height:1.75\"><font color=\"black\"> priest,:10                    </font></mark><mark style=\"background-color: hsl(120, 75%, 91%); opacity:1.0;                     line-height:1.75\"><font color=\"black\"> had                    </font></mark><mark style=\"background-color: hsl(0, 75%, 100%); opacity:1.0;                     line-height:1.75\"><font color=\"black\"> a                    </font></mark><mark style=\"background-color: hsl(0, 75%, 99%); opacity:1.0;                     line-height:1.75\"><font color=\"black\"> talent                    </font></mark><mark style=\"background-color: hsl(120, 75%, 99%); opacity:1.0;                     line-height:1.75\"><font color=\"black\"> for                    </font></mark><mark style=\"background-color: hsl(0, 75%, 95%); opacity:1.0;                     line-height:1.75\"><font color=\"black\"> making                    </font></mark><mark style=\"background-color: hsl(0, 75%, 92%); opacity:1.0;                     line-height:1.75\"><font color=\"black\"> home                    </font></mark><mark style=\"background-color: hsl(120, 75%, 97%); opacity:1.0;                     line-height:1.75\"><font color=\"black\"> craft                    </font></mark><mark style=\"background-color: hsl(0, 75%, 97%); opacity:1.0;                     line-height:1.75\"><font color=\"black\"> tools,                    </font></mark><mark style=\"background-color: hsl(120, 75%, 89%); opacity:1.0;                     line-height:1.75\"><font color=\"black\"> mechanical                    </font></mark><mark style=\"background-color: hsl(120, 75%, 91%); opacity:1.0;                     line-height:1.75\"><font color=\"black\"> appliances,                    </font></mark><mark style=\"background-color: hsl(0, 75%, 99%); opacity:1.0;                     line-height:1.75\"><font color=\"black\"> and                    </font></mark><mark style=\"background-color: hsl(0, 75%, 98%); opacity:1.0;                     line-height:1.75\"><font color=\"black\"> the                    </font></mark><mark style=\"background-color: hsl(120, 75%, 93%); opacity:1.0;                     line-height:1.75\"><font color=\"black\"> ability                    </font></mark><mark style=\"background-color: hsl(120, 75%, 98%); opacity:1.0;                     line-height:1.75\"><font color=\"black\"> to                    </font></mark><mark style=\"background-color: hsl(120, 75%, 97%); opacity:1.0;                     line-height:1.75\"><font color=\"black\"> memorize                    </font></mark><mark style=\"background-color: hsl(0, 75%, 99%); opacity:1.0;                     line-height:1.75\"><font color=\"black\"> serbian                    </font></mark><mark style=\"background-color: hsl(120, 75%, 93%); opacity:1.0;                     line-height:1.75\"><font color=\"black\"> epic                    </font></mark><mark style=\"background-color: hsl(120, 75%, 98%); opacity:1.0;                     line-height:1.75\"><font color=\"black\"> poems.                    </font></mark><mark style=\"background-color: hsl(0, 75%, 100%); opacity:1.0;                     line-height:1.75\"><font color=\"black\"> [SEP]                    </font></mark></td><tr></table>"
      ],
      "text/plain": [
       "<IPython.core.display.HTML object>"
      ]
     },
     "metadata": {},
     "output_type": "display_data"
    },
    {
     "name": "stderr",
     "output_type": "stream",
     "text": [
      "/home/user/anaconda3/envs/metric/lib/python3.9/site-packages/captum/attr/_core/lime.py:1096: UserWarning: Attempting to construct interpretable model with > 10000 features.This can be very slow or lead to OOM issues. Please provide a featuremask which groups input features to reduce the number of interpretablefeatures. \n",
      "  warnings.warn(\n"
     ]
    },
    {
     "name": "stdout",
     "output_type": "stream",
     "text": [
      "<IPython.core.display.HTML object>\n",
      "Raw datum: ['Who was given the esteemed status of MVP for Super Bowl 50?', 'Denver linebacker Von Miller was named Super Bowl MVP, recording five solo tackles, 2½ sacks, and two forced fumbles.']\n",
      "GT target: 1\n"
     ]
    },
    {
     "name": "stderr",
     "output_type": "stream",
     "text": [
      "Lime attribution: 100%|██████████████████████████████████████████████████████████████████████████████████████████████████████████| 5/5 [00:06<00:00,  1.28s/it]\n"
     ]
    },
    {
     "name": "stdout",
     "output_type": "stream",
     "text": [
      "word attr tensor([ 0.4296,  0.0547,  0.1008,  0.0969,  0.1063,  0.0162, -0.1078, -0.0497,\n",
      "        -0.4286, -0.2184, -0.2303, -0.0632,  0.1376, -0.2229,  0.0300, -0.1759,\n",
      "         0.0027,  0.1354,  0.0274,  0.2506,  0.2252,  0.0673, -0.0626, -0.1521,\n",
      "        -0.1817,  0.0972, -0.0943,  0.0272,  0.0421, -0.0847,  0.0616,  0.0110,\n",
      "         0.2196,  0.1326, -0.0406, -0.2302,  0.0563, -0.0908, -0.0992, -0.0105,\n",
      "        -0.0033, -0.0751,  0.0426], device='cuda:0')\n",
      "conti attr [tensor(0.4296, device='cuda:0'), tensor(0.0547, device='cuda:0'), tensor(0.1008, device='cuda:0'), tensor(0.0969, device='cuda:0'), tensor(0.1063, device='cuda:0'), tensor(-0.0458, device='cuda:0'), tensor(-0.0497, device='cuda:0'), tensor(-0.4286, device='cuda:0'), tensor(-0.2184, device='cuda:0'), tensor(-0.2303, device='cuda:0'), tensor(-0.0632, device='cuda:0'), tensor(0.1376, device='cuda:0'), tensor(-0.0964, device='cuda:0'), tensor(-0.1759, device='cuda:0'), tensor(0.0027, device='cuda:0'), tensor(0.1354, device='cuda:0'), tensor(0.0274, device='cuda:0'), tensor(0.2506, device='cuda:0'), tensor(0.2252, device='cuda:0'), tensor(0.0673, device='cuda:0'), tensor(-0.0626, device='cuda:0'), tensor(-0.1521, device='cuda:0'), tensor(-0.1817, device='cuda:0'), tensor(0.0014, device='cuda:0'), tensor(0.0272, device='cuda:0'), tensor(0.0421, device='cuda:0'), tensor(-0.0847, device='cuda:0'), tensor(0.0363, device='cuda:0'), tensor(0.1761, device='cuda:0'), tensor(-0.1354, device='cuda:0'), tensor(0.0563, device='cuda:0'), tensor(-0.0908, device='cuda:0'), tensor(-0.0992, device='cuda:0'), tensor(-0.0410, device='cuda:0'), tensor(0.0426, device='cuda:0')]\n",
      "detokenized ['[CLS]', 'who', 'was', 'given', 'the', 'esteem', 'ed', 'status', 'of', 'mvp', 'for', 'super', 'bowl', '50', '?', '[SEP]', '[SEP]', 'denver', 'linebacker', 'von', 'miller', 'was', 'named', 'super', 'bowl', 'mvp', ',', 'recording', 'five', 'solo', 'tackles', ',', '2', '½', 'sacks', ',', 'and', 'two', 'forced', 'fumble', 's', '.', '[SEP]']\n",
      "len conti_raw 35\n",
      "conti_raw ['[CLS]', 'who', 'was', 'given', 'the', 'esteemed', 'status', 'of', 'mvp', 'for', 'super', 'bowl', '50?', '[SEP]', '[SEP]', 'denver', 'linebacker', 'von', 'miller', 'was', 'named', 'super', 'bowl', 'mvp,', 'recording', 'five', 'solo', 'tackles,', '2½', 'sacks,', 'and', 'two', 'forced', 'fumbles.', '[SEP]']\n",
      "pred_prob 0.9407644867897034\n"
     ]
    },
    {
     "data": {
      "text/html": [
       "<table width: 100%><div style=\"border-top: 1px solid; margin-top: 5px;             padding-top: 5px; display: inline-block\"><b>Legend: </b><span style=\"display: inline-block; width: 10px; height: 10px;                 border: 1px solid; background-color:                 hsl(0, 75%, 60%)\"></span> Negative  <span style=\"display: inline-block; width: 10px; height: 10px;                 border: 1px solid; background-color:                 hsl(0, 75%, 100%)\"></span> Neutral  <span style=\"display: inline-block; width: 10px; height: 10px;                 border: 1px solid; background-color:                 hsl(120, 75%, 50%)\"></span> Positive  </div><tr><th>True Label</th><th>Predicted Label</th><th>Attribution Label</th><th>Attribution Score</th><th>Word Importance</th><tr><td><text style=\"padding-right:2em\"><b>Entailment</b></text></td><td><text style=\"padding-right:2em\"><b>Entailment (0.94)</b></text></td><td><text style=\"padding-right:2em\"><b>No Entailment</b></text></td><td><text style=\"padding-right:2em\"><b>-0.25</b></text></td><td><mark style=\"background-color: hsl(120, 75%, 79%); opacity:1.0;                     line-height:1.75\"><font color=\"black\"> [CLS]                    </font></mark><mark style=\"background-color: hsl(120, 75%, 98%); opacity:1.0;                     line-height:1.75\"><font color=\"black\"> who                    </font></mark><mark style=\"background-color: hsl(120, 75%, 95%); opacity:1.0;                     line-height:1.75\"><font color=\"black\"> was                    </font></mark><mark style=\"background-color: hsl(120, 75%, 96%); opacity:1.0;                     line-height:1.75\"><font color=\"black\"> given                    </font></mark><mark style=\"background-color: hsl(120, 75%, 95%); opacity:1.0;                     line-height:1.75\"><font color=\"black\"> the                    </font></mark><mark style=\"background-color: hsl(0, 75%, 99%); opacity:1.0;                     line-height:1.75\"><font color=\"black\"> esteemed                    </font></mark><mark style=\"background-color: hsl(0, 75%, 99%); opacity:1.0;                     line-height:1.75\"><font color=\"black\"> status                    </font></mark><mark style=\"background-color: hsl(0, 75%, 83%); opacity:1.0;                     line-height:1.75\"><font color=\"black\"> of                    </font></mark><mark style=\"background-color: hsl(0, 75%, 92%); opacity:1.0;                     line-height:1.75\"><font color=\"black\"> mvp                    </font></mark><mark style=\"background-color: hsl(0, 75%, 91%); opacity:1.0;                     line-height:1.75\"><font color=\"black\"> for                    </font></mark><mark style=\"background-color: hsl(0, 75%, 98%); opacity:1.0;                     line-height:1.75\"><font color=\"black\"> super                    </font></mark><mark style=\"background-color: hsl(120, 75%, 94%); opacity:1.0;                     line-height:1.75\"><font color=\"black\"> bowl                    </font></mark><mark style=\"background-color: hsl(0, 75%, 97%); opacity:1.0;                     line-height:1.75\"><font color=\"black\"> 50?                    </font></mark><mark style=\"background-color: hsl(0, 75%, 93%); opacity:1.0;                     line-height:1.75\"><font color=\"black\"> [SEP]                    </font></mark><mark style=\"background-color: hsl(120, 75%, 100%); opacity:1.0;                     line-height:1.75\"><font color=\"black\"> [SEP]                    </font></mark><mark style=\"background-color: hsl(120, 75%, 94%); opacity:1.0;                     line-height:1.75\"><font color=\"black\"> denver                    </font></mark><mark style=\"background-color: hsl(120, 75%, 99%); opacity:1.0;                     line-height:1.75\"><font color=\"black\"> linebacker                    </font></mark><mark style=\"background-color: hsl(120, 75%, 88%); opacity:1.0;                     line-height:1.75\"><font color=\"black\"> von                    </font></mark><mark style=\"background-color: hsl(120, 75%, 89%); opacity:1.0;                     line-height:1.75\"><font color=\"black\"> miller                    </font></mark><mark style=\"background-color: hsl(120, 75%, 97%); opacity:1.0;                     line-height:1.75\"><font color=\"black\"> was                    </font></mark><mark style=\"background-color: hsl(0, 75%, 98%); opacity:1.0;                     line-height:1.75\"><font color=\"black\"> named                    </font></mark><mark style=\"background-color: hsl(0, 75%, 94%); opacity:1.0;                     line-height:1.75\"><font color=\"black\"> super                    </font></mark><mark style=\"background-color: hsl(0, 75%, 93%); opacity:1.0;                     line-height:1.75\"><font color=\"black\"> bowl                    </font></mark><mark style=\"background-color: hsl(120, 75%, 100%); opacity:1.0;                     line-height:1.75\"><font color=\"black\"> mvp,                    </font></mark><mark style=\"background-color: hsl(120, 75%, 99%); opacity:1.0;                     line-height:1.75\"><font color=\"black\"> recording                    </font></mark><mark style=\"background-color: hsl(120, 75%, 98%); opacity:1.0;                     line-height:1.75\"><font color=\"black\"> five                    </font></mark><mark style=\"background-color: hsl(0, 75%, 97%); opacity:1.0;                     line-height:1.75\"><font color=\"black\"> solo                    </font></mark><mark style=\"background-color: hsl(120, 75%, 99%); opacity:1.0;                     line-height:1.75\"><font color=\"black\"> tackles,                    </font></mark><mark style=\"background-color: hsl(120, 75%, 92%); opacity:1.0;                     line-height:1.75\"><font color=\"black\"> 2½                    </font></mark><mark style=\"background-color: hsl(0, 75%, 95%); opacity:1.0;                     line-height:1.75\"><font color=\"black\"> sacks,                    </font></mark><mark style=\"background-color: hsl(120, 75%, 98%); opacity:1.0;                     line-height:1.75\"><font color=\"black\"> and                    </font></mark><mark style=\"background-color: hsl(0, 75%, 97%); opacity:1.0;                     line-height:1.75\"><font color=\"black\"> two                    </font></mark><mark style=\"background-color: hsl(0, 75%, 97%); opacity:1.0;                     line-height:1.75\"><font color=\"black\"> forced                    </font></mark><mark style=\"background-color: hsl(0, 75%, 99%); opacity:1.0;                     line-height:1.75\"><font color=\"black\"> fumbles.                    </font></mark><mark style=\"background-color: hsl(120, 75%, 98%); opacity:1.0;                     line-height:1.75\"><font color=\"black\"> [SEP]                    </font></mark></td><tr></table>"
      ],
      "text/plain": [
       "<IPython.core.display.HTML object>"
      ]
     },
     "metadata": {},
     "output_type": "display_data"
    },
    {
     "name": "stderr",
     "output_type": "stream",
     "text": [
      "/home/user/anaconda3/envs/metric/lib/python3.9/site-packages/captum/attr/_core/lime.py:1096: UserWarning: Attempting to construct interpretable model with > 10000 features.This can be very slow or lead to OOM issues. Please provide a featuremask which groups input features to reduce the number of interpretablefeatures. \n",
      "  warnings.warn(\n"
     ]
    },
    {
     "name": "stdout",
     "output_type": "stream",
     "text": [
      "<IPython.core.display.HTML object>\n",
      "Raw datum: ['What was the percentage of Black or African-Americans living in the city?', 'Hispanic or Latino of any race were 39.9% of the population.']\n",
      "GT target: 0\n"
     ]
    },
    {
     "name": "stderr",
     "output_type": "stream",
     "text": [
      "Lime attribution: 100%|██████████████████████████████████████████████████████████████████████████████████████████████████████████| 5/5 [00:03<00:00,  1.36it/s]\n"
     ]
    },
    {
     "name": "stdout",
     "output_type": "stream",
     "text": [
      "word attr tensor([ 0.3108,  0.2708, -0.1516,  0.2787, -0.1359,  0.0884, -0.2202, -0.2042,\n",
      "         0.0407,  0.0410,  0.0958, -0.1343, -0.0471,  0.0053, -0.0121,  0.0886,\n",
      "        -0.0642,  0.2945, -0.3072, -0.1148,  0.2262, -0.0694,  0.0459, -0.1544,\n",
      "         0.1817,  0.0899,  0.4147, -0.0935,  0.1420,  0.1257,  0.0852,  0.0242,\n",
      "         0.0424, -0.1563], device='cuda:0')\n",
      "conti attr [tensor(0.3108, device='cuda:0'), tensor(0.2708, device='cuda:0'), tensor(-0.1516, device='cuda:0'), tensor(0.2787, device='cuda:0'), tensor(-0.1359, device='cuda:0'), tensor(0.0884, device='cuda:0'), tensor(-0.2202, device='cuda:0'), tensor(-0.2042, device='cuda:0'), tensor(0.0683, device='cuda:0'), tensor(-0.1343, device='cuda:0'), tensor(-0.0471, device='cuda:0'), tensor(0.0053, device='cuda:0'), tensor(0.0382, device='cuda:0'), tensor(-0.0642, device='cuda:0'), tensor(0.2945, device='cuda:0'), tensor(-0.3072, device='cuda:0'), tensor(-0.1148, device='cuda:0'), tensor(0.2262, device='cuda:0'), tensor(-0.0694, device='cuda:0'), tensor(0.0459, device='cuda:0'), tensor(-0.1544, device='cuda:0'), tensor(0.1817, device='cuda:0'), tensor(0.1107, device='cuda:0'), tensor(0.1257, device='cuda:0'), tensor(0.0852, device='cuda:0'), tensor(0.0333, device='cuda:0'), tensor(-0.1563, device='cuda:0')]\n",
      "detokenized ['[CLS]', 'what', 'was', 'the', 'percentage', 'of', 'black', 'or', 'african', '-', 'americans', 'living', 'in', 'the', 'city', '?', '[SEP]', '[SEP]', 'hispanic', 'or', 'latino', 'of', 'any', 'race', 'were', '39', '.', '9', '%', 'of', 'the', 'population', '.', '[SEP]']\n",
      "len conti_raw 27\n",
      "conti_raw ['[CLS]', 'what', 'was', 'the', 'percentage', 'of', 'black', 'or', 'african-americans', 'living', 'in', 'the', 'city?', '[SEP]', '[SEP]', 'hispanic', 'or', 'latino', 'of', 'any', 'race', 'were', '39.9%', 'of', 'the', 'population.', '[SEP]']\n",
      "pred_prob 0.9827529191970825\n"
     ]
    },
    {
     "data": {
      "text/html": [
       "<table width: 100%><div style=\"border-top: 1px solid; margin-top: 5px;             padding-top: 5px; display: inline-block\"><b>Legend: </b><span style=\"display: inline-block; width: 10px; height: 10px;                 border: 1px solid; background-color:                 hsl(0, 75%, 60%)\"></span> Negative  <span style=\"display: inline-block; width: 10px; height: 10px;                 border: 1px solid; background-color:                 hsl(0, 75%, 100%)\"></span> Neutral  <span style=\"display: inline-block; width: 10px; height: 10px;                 border: 1px solid; background-color:                 hsl(120, 75%, 50%)\"></span> Positive  </div><tr><th>True Label</th><th>Predicted Label</th><th>Attribution Label</th><th>Attribution Score</th><th>Word Importance</th><tr><td><text style=\"padding-right:2em\"><b>No Entailment</b></text></td><td><text style=\"padding-right:2em\"><b>Entailment (0.98)</b></text></td><td><text style=\"padding-right:2em\"><b>Entailment</b></text></td><td><text style=\"padding-right:2em\"><b>1.03</b></text></td><td><mark style=\"background-color: hsl(120, 75%, 85%); opacity:1.0;                     line-height:1.75\"><font color=\"black\"> [CLS]                    </font></mark><mark style=\"background-color: hsl(120, 75%, 87%); opacity:1.0;                     line-height:1.75\"><font color=\"black\"> what                    </font></mark><mark style=\"background-color: hsl(0, 75%, 94%); opacity:1.0;                     line-height:1.75\"><font color=\"black\"> was                    </font></mark><mark style=\"background-color: hsl(120, 75%, 87%); opacity:1.0;                     line-height:1.75\"><font color=\"black\"> the                    </font></mark><mark style=\"background-color: hsl(0, 75%, 95%); opacity:1.0;                     line-height:1.75\"><font color=\"black\"> percentage                    </font></mark><mark style=\"background-color: hsl(120, 75%, 96%); opacity:1.0;                     line-height:1.75\"><font color=\"black\"> of                    </font></mark><mark style=\"background-color: hsl(0, 75%, 92%); opacity:1.0;                     line-height:1.75\"><font color=\"black\"> black                    </font></mark><mark style=\"background-color: hsl(0, 75%, 92%); opacity:1.0;                     line-height:1.75\"><font color=\"black\"> or                    </font></mark><mark style=\"background-color: hsl(120, 75%, 97%); opacity:1.0;                     line-height:1.75\"><font color=\"black\"> african-americans                    </font></mark><mark style=\"background-color: hsl(0, 75%, 95%); opacity:1.0;                     line-height:1.75\"><font color=\"black\"> living                    </font></mark><mark style=\"background-color: hsl(0, 75%, 99%); opacity:1.0;                     line-height:1.75\"><font color=\"black\"> in                    </font></mark><mark style=\"background-color: hsl(120, 75%, 100%); opacity:1.0;                     line-height:1.75\"><font color=\"black\"> the                    </font></mark><mark style=\"background-color: hsl(120, 75%, 99%); opacity:1.0;                     line-height:1.75\"><font color=\"black\"> city?                    </font></mark><mark style=\"background-color: hsl(0, 75%, 98%); opacity:1.0;                     line-height:1.75\"><font color=\"black\"> [SEP]                    </font></mark><mark style=\"background-color: hsl(120, 75%, 86%); opacity:1.0;                     line-height:1.75\"><font color=\"black\"> [SEP]                    </font></mark><mark style=\"background-color: hsl(0, 75%, 88%); opacity:1.0;                     line-height:1.75\"><font color=\"black\"> hispanic                    </font></mark><mark style=\"background-color: hsl(0, 75%, 96%); opacity:1.0;                     line-height:1.75\"><font color=\"black\"> or                    </font></mark><mark style=\"background-color: hsl(120, 75%, 89%); opacity:1.0;                     line-height:1.75\"><font color=\"black\"> latino                    </font></mark><mark style=\"background-color: hsl(0, 75%, 98%); opacity:1.0;                     line-height:1.75\"><font color=\"black\"> of                    </font></mark><mark style=\"background-color: hsl(120, 75%, 98%); opacity:1.0;                     line-height:1.75\"><font color=\"black\"> any                    </font></mark><mark style=\"background-color: hsl(0, 75%, 94%); opacity:1.0;                     line-height:1.75\"><font color=\"black\"> race                    </font></mark><mark style=\"background-color: hsl(120, 75%, 91%); opacity:1.0;                     line-height:1.75\"><font color=\"black\"> were                    </font></mark><mark style=\"background-color: hsl(120, 75%, 95%); opacity:1.0;                     line-height:1.75\"><font color=\"black\"> 39.9%                    </font></mark><mark style=\"background-color: hsl(120, 75%, 94%); opacity:1.0;                     line-height:1.75\"><font color=\"black\"> of                    </font></mark><mark style=\"background-color: hsl(120, 75%, 96%); opacity:1.0;                     line-height:1.75\"><font color=\"black\"> the                    </font></mark><mark style=\"background-color: hsl(120, 75%, 99%); opacity:1.0;                     line-height:1.75\"><font color=\"black\"> population.                    </font></mark><mark style=\"background-color: hsl(0, 75%, 94%); opacity:1.0;                     line-height:1.75\"><font color=\"black\"> [SEP]                    </font></mark></td><tr></table>"
      ],
      "text/plain": [
       "<IPython.core.display.HTML object>"
      ]
     },
     "metadata": {},
     "output_type": "display_data"
    },
    {
     "name": "stderr",
     "output_type": "stream",
     "text": [
      "/home/user/anaconda3/envs/metric/lib/python3.9/site-packages/captum/attr/_core/lime.py:1096: UserWarning: Attempting to construct interpretable model with > 10000 features.This can be very slow or lead to OOM issues. Please provide a featuremask which groups input features to reduce the number of interpretablefeatures. \n",
      "  warnings.warn(\n"
     ]
    },
    {
     "name": "stdout",
     "output_type": "stream",
     "text": [
      "<IPython.core.display.HTML object>\n",
      "Raw datum: ['What was the result of the 2007 election?', 'With International Criminal Court trial dates in 2013 for both President Kenyatta and Deputy President William Ruto related to the 2007 election aftermath, US President Barack Obama chose not to visit the country during his mid-2013 African trip.']\n",
      "GT target: 1\n"
     ]
    },
    {
     "name": "stderr",
     "output_type": "stream",
     "text": [
      "Lime attribution: 100%|██████████████████████████████████████████████████████████████████████████████████████████████████████████| 5/5 [00:05<00:00,  1.13s/it]\n"
     ]
    },
    {
     "name": "stdout",
     "output_type": "stream",
     "text": [
      "word attr tensor([ 0.6907,  0.0474, -0.1234,  0.0142,  0.1685,  0.0781,  0.0525,  0.0447,\n",
      "         0.3684, -0.1253,  0.0685,  0.0620,  0.0108,  0.1004,  0.0900, -0.0163,\n",
      "         0.0523, -0.0292,  0.2446, -0.0261, -0.0092, -0.0084,  0.0063,  0.1738,\n",
      "        -0.0677,  0.1025,  0.1977, -0.0218,  0.0171,  0.0229, -0.0678,  0.0483,\n",
      "        -0.0225, -0.0860, -0.0572, -0.0931, -0.1149,  0.0403,  0.0896,  0.0712,\n",
      "        -0.1021,  0.0027,  0.0391,  0.0513,  0.0071,  0.0296,  0.0824, -0.0731,\n",
      "        -0.0820,  0.0985, -0.0029, -0.0220, -0.1087,  0.0080,  0.0866,  0.1316,\n",
      "         0.0399], device='cuda:0')\n",
      "conti attr [tensor(0.6907, device='cuda:0'), tensor(0.0474, device='cuda:0'), tensor(-0.1234, device='cuda:0'), tensor(0.0142, device='cuda:0'), tensor(0.1685, device='cuda:0'), tensor(0.0781, device='cuda:0'), tensor(0.0525, device='cuda:0'), tensor(0.0447, device='cuda:0'), tensor(0.1215, device='cuda:0'), tensor(0.0685, device='cuda:0'), tensor(0.0620, device='cuda:0'), tensor(0.0108, device='cuda:0'), tensor(0.1004, device='cuda:0'), tensor(0.0900, device='cuda:0'), tensor(-0.0163, device='cuda:0'), tensor(0.0523, device='cuda:0'), tensor(-0.0292, device='cuda:0'), tensor(0.2446, device='cuda:0'), tensor(-0.0261, device='cuda:0'), tensor(-0.0092, device='cuda:0'), tensor(-0.0084, device='cuda:0'), tensor(0.0063, device='cuda:0'), tensor(0.0530, device='cuda:0'), tensor(0.1025, device='cuda:0'), tensor(0.1977, device='cuda:0'), tensor(-0.0218, device='cuda:0'), tensor(0.0171, device='cuda:0'), tensor(-0.0224, device='cuda:0'), tensor(0.0483, device='cuda:0'), tensor(-0.0225, device='cuda:0'), tensor(-0.0860, device='cuda:0'), tensor(-0.0572, device='cuda:0'), tensor(-0.0931, device='cuda:0'), tensor(-0.0373, device='cuda:0'), tensor(0.0896, device='cuda:0'), tensor(0.0712, device='cuda:0'), tensor(-0.1021, device='cuda:0'), tensor(0.0027, device='cuda:0'), tensor(0.0391, device='cuda:0'), tensor(0.0513, device='cuda:0'), tensor(0.0071, device='cuda:0'), tensor(0.0296, device='cuda:0'), tensor(0.0824, device='cuda:0'), tensor(-0.0731, device='cuda:0'), tensor(-0.0820, device='cuda:0'), tensor(0.0985, device='cuda:0'), tensor(-0.0606, device='cuda:0'), tensor(0.0080, device='cuda:0'), tensor(0.1091, device='cuda:0'), tensor(0.0399, device='cuda:0')]\n",
      "detokenized ['[CLS]', 'what', 'was', 'the', 'result', 'of', 'the', '2007', 'election', '?', '[SEP]', '[SEP]', 'with', 'international', 'criminal', 'court', 'trial', 'dates', 'in', '2013', 'for', 'both', 'president', 'kenya', 'tta', 'and', 'deputy', 'president', 'william', 'ru', 'to', 'related', 'to', 'the', '2007', 'election', 'aftermath', ',', 'us', 'president', 'barack', 'obama', 'chose', 'not', 'to', 'visit', 'the', 'country', 'during', 'his', 'mid', '-', '2013', 'african', 'trip', '.', '[SEP]']\n",
      "len conti_raw 50\n",
      "conti_raw ['[CLS]', 'what', 'was', 'the', 'result', 'of', 'the', '2007', 'election?', '[SEP]', '[SEP]', 'with', 'international', 'criminal', 'court', 'trial', 'dates', 'in', '2013', 'for', 'both', 'president', 'kenyatta', 'and', 'deputy', 'president', 'william', 'ruto', 'related', 'to', 'the', '2007', 'election', 'aftermath,', 'us', 'president', 'barack', 'obama', 'chose', 'not', 'to', 'visit', 'the', 'country', 'during', 'his', 'mid-2013', 'african', 'trip.', '[SEP]']\n",
      "pred_prob 0.3425130546092987\n"
     ]
    },
    {
     "data": {
      "text/html": [
       "<table width: 100%><div style=\"border-top: 1px solid; margin-top: 5px;             padding-top: 5px; display: inline-block\"><b>Legend: </b><span style=\"display: inline-block; width: 10px; height: 10px;                 border: 1px solid; background-color:                 hsl(0, 75%, 60%)\"></span> Negative  <span style=\"display: inline-block; width: 10px; height: 10px;                 border: 1px solid; background-color:                 hsl(0, 75%, 100%)\"></span> Neutral  <span style=\"display: inline-block; width: 10px; height: 10px;                 border: 1px solid; background-color:                 hsl(120, 75%, 50%)\"></span> Positive  </div><tr><th>True Label</th><th>Predicted Label</th><th>Attribution Label</th><th>Attribution Score</th><th>Word Importance</th><tr><td><text style=\"padding-right:2em\"><b>Entailment</b></text></td><td><text style=\"padding-right:2em\"><b>No Entailment (0.34)</b></text></td><td><text style=\"padding-right:2em\"><b>Entailment</b></text></td><td><text style=\"padding-right:2em\"><b>2.18</b></text></td><td><mark style=\"background-color: hsl(120, 75%, 66%); opacity:1.0;                     line-height:1.75\"><font color=\"black\"> [CLS]                    </font></mark><mark style=\"background-color: hsl(120, 75%, 98%); opacity:1.0;                     line-height:1.75\"><font color=\"black\"> what                    </font></mark><mark style=\"background-color: hsl(0, 75%, 96%); opacity:1.0;                     line-height:1.75\"><font color=\"black\"> was                    </font></mark><mark style=\"background-color: hsl(120, 75%, 100%); opacity:1.0;                     line-height:1.75\"><font color=\"black\"> the                    </font></mark><mark style=\"background-color: hsl(120, 75%, 92%); opacity:1.0;                     line-height:1.75\"><font color=\"black\"> result                    </font></mark><mark style=\"background-color: hsl(120, 75%, 97%); opacity:1.0;                     line-height:1.75\"><font color=\"black\"> of                    </font></mark><mark style=\"background-color: hsl(120, 75%, 98%); opacity:1.0;                     line-height:1.75\"><font color=\"black\"> the                    </font></mark><mark style=\"background-color: hsl(120, 75%, 98%); opacity:1.0;                     line-height:1.75\"><font color=\"black\"> 2007                    </font></mark><mark style=\"background-color: hsl(120, 75%, 94%); opacity:1.0;                     line-height:1.75\"><font color=\"black\"> election?                    </font></mark><mark style=\"background-color: hsl(120, 75%, 97%); opacity:1.0;                     line-height:1.75\"><font color=\"black\"> [SEP]                    </font></mark><mark style=\"background-color: hsl(120, 75%, 97%); opacity:1.0;                     line-height:1.75\"><font color=\"black\"> [SEP]                    </font></mark><mark style=\"background-color: hsl(120, 75%, 100%); opacity:1.0;                     line-height:1.75\"><font color=\"black\"> with                    </font></mark><mark style=\"background-color: hsl(120, 75%, 95%); opacity:1.0;                     line-height:1.75\"><font color=\"black\"> international                    </font></mark><mark style=\"background-color: hsl(120, 75%, 96%); opacity:1.0;                     line-height:1.75\"><font color=\"black\"> criminal                    </font></mark><mark style=\"background-color: hsl(0, 75%, 100%); opacity:1.0;                     line-height:1.75\"><font color=\"black\"> court                    </font></mark><mark style=\"background-color: hsl(120, 75%, 98%); opacity:1.0;                     line-height:1.75\"><font color=\"black\"> trial                    </font></mark><mark style=\"background-color: hsl(0, 75%, 99%); opacity:1.0;                     line-height:1.75\"><font color=\"black\"> dates                    </font></mark><mark style=\"background-color: hsl(120, 75%, 88%); opacity:1.0;                     line-height:1.75\"><font color=\"black\"> in                    </font></mark><mark style=\"background-color: hsl(0, 75%, 99%); opacity:1.0;                     line-height:1.75\"><font color=\"black\"> 2013                    </font></mark><mark style=\"background-color: hsl(0, 75%, 100%); opacity:1.0;                     line-height:1.75\"><font color=\"black\"> for                    </font></mark><mark style=\"background-color: hsl(0, 75%, 100%); opacity:1.0;                     line-height:1.75\"><font color=\"black\"> both                    </font></mark><mark style=\"background-color: hsl(120, 75%, 100%); opacity:1.0;                     line-height:1.75\"><font color=\"black\"> president                    </font></mark><mark style=\"background-color: hsl(120, 75%, 98%); opacity:1.0;                     line-height:1.75\"><font color=\"black\"> kenyatta                    </font></mark><mark style=\"background-color: hsl(120, 75%, 95%); opacity:1.0;                     line-height:1.75\"><font color=\"black\"> and                    </font></mark><mark style=\"background-color: hsl(120, 75%, 91%); opacity:1.0;                     line-height:1.75\"><font color=\"black\"> deputy                    </font></mark><mark style=\"background-color: hsl(0, 75%, 100%); opacity:1.0;                     line-height:1.75\"><font color=\"black\"> president                    </font></mark><mark style=\"background-color: hsl(120, 75%, 100%); opacity:1.0;                     line-height:1.75\"><font color=\"black\"> william                    </font></mark><mark style=\"background-color: hsl(0, 75%, 100%); opacity:1.0;                     line-height:1.75\"><font color=\"black\"> ruto                    </font></mark><mark style=\"background-color: hsl(120, 75%, 98%); opacity:1.0;                     line-height:1.75\"><font color=\"black\"> related                    </font></mark><mark style=\"background-color: hsl(0, 75%, 100%); opacity:1.0;                     line-height:1.75\"><font color=\"black\"> to                    </font></mark><mark style=\"background-color: hsl(0, 75%, 97%); opacity:1.0;                     line-height:1.75\"><font color=\"black\"> the                    </font></mark><mark style=\"background-color: hsl(0, 75%, 98%); opacity:1.0;                     line-height:1.75\"><font color=\"black\"> 2007                    </font></mark><mark style=\"background-color: hsl(0, 75%, 97%); opacity:1.0;                     line-height:1.75\"><font color=\"black\"> election                    </font></mark><mark style=\"background-color: hsl(0, 75%, 99%); opacity:1.0;                     line-height:1.75\"><font color=\"black\"> aftermath,                    </font></mark><mark style=\"background-color: hsl(120, 75%, 96%); opacity:1.0;                     line-height:1.75\"><font color=\"black\"> us                    </font></mark><mark style=\"background-color: hsl(120, 75%, 97%); opacity:1.0;                     line-height:1.75\"><font color=\"black\"> president                    </font></mark><mark style=\"background-color: hsl(0, 75%, 96%); opacity:1.0;                     line-height:1.75\"><font color=\"black\"> barack                    </font></mark><mark style=\"background-color: hsl(120, 75%, 100%); opacity:1.0;                     line-height:1.75\"><font color=\"black\"> obama                    </font></mark><mark style=\"background-color: hsl(120, 75%, 99%); opacity:1.0;                     line-height:1.75\"><font color=\"black\"> chose                    </font></mark><mark style=\"background-color: hsl(120, 75%, 98%); opacity:1.0;                     line-height:1.75\"><font color=\"black\"> not                    </font></mark><mark style=\"background-color: hsl(120, 75%, 100%); opacity:1.0;                     line-height:1.75\"><font color=\"black\"> to                    </font></mark><mark style=\"background-color: hsl(120, 75%, 99%); opacity:1.0;                     line-height:1.75\"><font color=\"black\"> visit                    </font></mark><mark style=\"background-color: hsl(120, 75%, 96%); opacity:1.0;                     line-height:1.75\"><font color=\"black\"> the                    </font></mark><mark style=\"background-color: hsl(0, 75%, 98%); opacity:1.0;                     line-height:1.75\"><font color=\"black\"> country                    </font></mark><mark style=\"background-color: hsl(0, 75%, 97%); opacity:1.0;                     line-height:1.75\"><font color=\"black\"> during                    </font></mark><mark style=\"background-color: hsl(120, 75%, 96%); opacity:1.0;                     line-height:1.75\"><font color=\"black\"> his                    </font></mark><mark style=\"background-color: hsl(0, 75%, 98%); opacity:1.0;                     line-height:1.75\"><font color=\"black\"> mid-2013                    </font></mark><mark style=\"background-color: hsl(120, 75%, 100%); opacity:1.0;                     line-height:1.75\"><font color=\"black\"> african                    </font></mark><mark style=\"background-color: hsl(120, 75%, 95%); opacity:1.0;                     line-height:1.75\"><font color=\"black\"> trip.                    </font></mark><mark style=\"background-color: hsl(120, 75%, 99%); opacity:1.0;                     line-height:1.75\"><font color=\"black\"> [SEP]                    </font></mark></td><tr></table>"
      ],
      "text/plain": [
       "<IPython.core.display.HTML object>"
      ]
     },
     "metadata": {},
     "output_type": "display_data"
    },
    {
     "name": "stderr",
     "output_type": "stream",
     "text": [
      "/home/user/anaconda3/envs/metric/lib/python3.9/site-packages/captum/attr/_core/lime.py:1096: UserWarning: Attempting to construct interpretable model with > 10000 features.This can be very slow or lead to OOM issues. Please provide a featuremask which groups input features to reduce the number of interpretablefeatures. \n",
      "  warnings.warn(\n"
     ]
    },
    {
     "name": "stdout",
     "output_type": "stream",
     "text": [
      "<IPython.core.display.HTML object>\n",
      "Raw datum: ['What equation currently decribes the physics of force.', 'The notion \"force\" keeps its meaning in quantum mechanics, though one is now dealing with operators instead of classical variables and though the physics is now described by the Schrödinger equation instead of Newtonian equations.']\n",
      "GT target: 1\n"
     ]
    },
    {
     "name": "stderr",
     "output_type": "stream",
     "text": [
      "Lime attribution: 100%|██████████████████████████████████████████████████████████████████████████████████████████████████████████| 5/5 [00:08<00:00,  1.61s/it]\n"
     ]
    },
    {
     "name": "stdout",
     "output_type": "stream",
     "text": [
      "word attr tensor([ 0.1004, -0.0434, -0.4921, -0.0812,  0.1219, -0.0030,  0.2068,  0.0053,\n",
      "         0.0249,  0.0280,  0.0661,  0.0711, -0.1121, -0.0870,  0.0203,  0.1864,\n",
      "        -0.1071,  0.0415,  0.0531, -0.0832,  0.1241,  0.2080,  0.1701, -0.0351,\n",
      "        -0.2286, -0.0432,  0.1610,  0.0633,  0.0881,  0.0507, -0.0222,  0.0429,\n",
      "         0.0362, -0.0831, -0.0181,  0.1741,  0.1259, -0.1339,  0.0230,  0.0408,\n",
      "         0.0204,  0.1442,  0.2870, -0.0543, -0.0586,  0.2197, -0.1407, -0.0460,\n",
      "        -0.0230,  0.0455, -0.3214, -0.0077,  0.0232, -0.1073,  0.1741,  0.0424,\n",
      "        -0.0073,  0.0439], device='cuda:0')\n",
      "conti attr [tensor(0.1004, device='cuda:0'), tensor(-0.0434, device='cuda:0'), tensor(-0.4921, device='cuda:0'), tensor(-0.0812, device='cuda:0'), tensor(0.1331, device='cuda:0'), tensor(0.0053, device='cuda:0'), tensor(0.0249, device='cuda:0'), tensor(0.0280, device='cuda:0'), tensor(0.0686, device='cuda:0'), tensor(-0.1121, device='cuda:0'), tensor(-0.0870, device='cuda:0'), tensor(0.0203, device='cuda:0'), tensor(0.1864, device='cuda:0'), tensor(0.0101, device='cuda:0'), tensor(-0.0832, device='cuda:0'), tensor(0.1241, device='cuda:0'), tensor(0.2080, device='cuda:0'), tensor(0.1701, device='cuda:0'), tensor(-0.0351, device='cuda:0'), tensor(-0.1359, device='cuda:0'), tensor(0.1610, device='cuda:0'), tensor(0.0633, device='cuda:0'), tensor(0.0881, device='cuda:0'), tensor(0.0507, device='cuda:0'), tensor(-0.0222, device='cuda:0'), tensor(0.0429, device='cuda:0'), tensor(0.0362, device='cuda:0'), tensor(-0.0831, device='cuda:0'), tensor(-0.0181, device='cuda:0'), tensor(0.1741, device='cuda:0'), tensor(0.1259, device='cuda:0'), tensor(-0.1339, device='cuda:0'), tensor(0.0230, device='cuda:0'), tensor(0.0408, device='cuda:0'), tensor(0.0204, device='cuda:0'), tensor(0.1442, device='cuda:0'), tensor(0.2870, device='cuda:0'), tensor(-0.0543, device='cuda:0'), tensor(-0.0586, device='cuda:0'), tensor(0.2197, device='cuda:0'), tensor(-0.0064, device='cuda:0'), tensor(-0.3214, device='cuda:0'), tensor(-0.0077, device='cuda:0'), tensor(0.0232, device='cuda:0'), tensor(0.0334, device='cuda:0'), tensor(0.0175, device='cuda:0'), tensor(0.0439, device='cuda:0')]\n",
      "detokenized ['[CLS]', 'what', 'equation', 'currently', 'dec', 'ri', 'bes', 'the', 'physics', 'of', 'force', '.', '[SEP]', '[SEP]', 'the', 'notion', '\"', 'force', '\"', 'keeps', 'its', 'meaning', 'in', 'quantum', 'mechanics', ',', 'though', 'one', 'is', 'now', 'dealing', 'with', 'operators', 'instead', 'of', 'classical', 'variables', 'and', 'though', 'the', 'physics', 'is', 'now', 'described', 'by', 'the', 'sc', 'hr', 'od', 'inger', 'equation', 'instead', 'of', 'newton', 'ian', 'equations', '.', '[SEP]']\n",
      "len conti_raw 47\n",
      "conti_raw ['[CLS]', 'what', 'equation', 'currently', 'decribes', 'the', 'physics', 'of', 'force.', '[SEP]', '[SEP]', 'the', 'notion', '\"force\"', 'keeps', 'its', 'meaning', 'in', 'quantum', 'mechanics,', 'though', 'one', 'is', 'now', 'dealing', 'with', 'operators', 'instead', 'of', 'classical', 'variables', 'and', 'though', 'the', 'physics', 'is', 'now', 'described', 'by', 'the', 'schrodinger', 'equation', 'instead', 'of', 'newtonian', 'equations.', '[SEP]']\n",
      "pred_prob 0.23880738019943237\n"
     ]
    },
    {
     "data": {
      "text/html": [
       "<table width: 100%><div style=\"border-top: 1px solid; margin-top: 5px;             padding-top: 5px; display: inline-block\"><b>Legend: </b><span style=\"display: inline-block; width: 10px; height: 10px;                 border: 1px solid; background-color:                 hsl(0, 75%, 60%)\"></span> Negative  <span style=\"display: inline-block; width: 10px; height: 10px;                 border: 1px solid; background-color:                 hsl(0, 75%, 100%)\"></span> Neutral  <span style=\"display: inline-block; width: 10px; height: 10px;                 border: 1px solid; background-color:                 hsl(120, 75%, 50%)\"></span> Positive  </div><tr><th>True Label</th><th>Predicted Label</th><th>Attribution Label</th><th>Attribution Score</th><th>Word Importance</th><tr><td><text style=\"padding-right:2em\"><b>Entailment</b></text></td><td><text style=\"padding-right:2em\"><b>No Entailment (0.24)</b></text></td><td><text style=\"padding-right:2em\"><b>Entailment</b></text></td><td><text style=\"padding-right:2em\"><b>0.89</b></text></td><td><mark style=\"background-color: hsl(120, 75%, 95%); opacity:1.0;                     line-height:1.75\"><font color=\"black\"> [CLS]                    </font></mark><mark style=\"background-color: hsl(0, 75%, 99%); opacity:1.0;                     line-height:1.75\"><font color=\"black\"> what                    </font></mark><mark style=\"background-color: hsl(0, 75%, 81%); opacity:1.0;                     line-height:1.75\"><font color=\"black\"> equation                    </font></mark><mark style=\"background-color: hsl(0, 75%, 97%); opacity:1.0;                     line-height:1.75\"><font color=\"black\"> currently                    </font></mark><mark style=\"background-color: hsl(120, 75%, 94%); opacity:1.0;                     line-height:1.75\"><font color=\"black\"> decribes                    </font></mark><mark style=\"background-color: hsl(120, 75%, 100%); opacity:1.0;                     line-height:1.75\"><font color=\"black\"> the                    </font></mark><mark style=\"background-color: hsl(120, 75%, 99%); opacity:1.0;                     line-height:1.75\"><font color=\"black\"> physics                    </font></mark><mark style=\"background-color: hsl(120, 75%, 99%); opacity:1.0;                     line-height:1.75\"><font color=\"black\"> of                    </font></mark><mark style=\"background-color: hsl(120, 75%, 97%); opacity:1.0;                     line-height:1.75\"><font color=\"black\"> force.                    </font></mark><mark style=\"background-color: hsl(0, 75%, 96%); opacity:1.0;                     line-height:1.75\"><font color=\"black\"> [SEP]                    </font></mark><mark style=\"background-color: hsl(0, 75%, 97%); opacity:1.0;                     line-height:1.75\"><font color=\"black\"> [SEP]                    </font></mark><mark style=\"background-color: hsl(120, 75%, 99%); opacity:1.0;                     line-height:1.75\"><font color=\"black\"> the                    </font></mark><mark style=\"background-color: hsl(120, 75%, 91%); opacity:1.0;                     line-height:1.75\"><font color=\"black\"> notion                    </font></mark><mark style=\"background-color: hsl(120, 75%, 100%); opacity:1.0;                     line-height:1.75\"><font color=\"black\"> \"force\"                    </font></mark><mark style=\"background-color: hsl(0, 75%, 97%); opacity:1.0;                     line-height:1.75\"><font color=\"black\"> keeps                    </font></mark><mark style=\"background-color: hsl(120, 75%, 94%); opacity:1.0;                     line-height:1.75\"><font color=\"black\"> its                    </font></mark><mark style=\"background-color: hsl(120, 75%, 90%); opacity:1.0;                     line-height:1.75\"><font color=\"black\"> meaning                    </font></mark><mark style=\"background-color: hsl(120, 75%, 92%); opacity:1.0;                     line-height:1.75\"><font color=\"black\"> in                    </font></mark><mark style=\"background-color: hsl(0, 75%, 99%); opacity:1.0;                     line-height:1.75\"><font color=\"black\"> quantum                    </font></mark><mark style=\"background-color: hsl(0, 75%, 95%); opacity:1.0;                     line-height:1.75\"><font color=\"black\"> mechanics,                    </font></mark><mark style=\"background-color: hsl(120, 75%, 92%); opacity:1.0;                     line-height:1.75\"><font color=\"black\"> though                    </font></mark><mark style=\"background-color: hsl(120, 75%, 97%); opacity:1.0;                     line-height:1.75\"><font color=\"black\"> one                    </font></mark><mark style=\"background-color: hsl(120, 75%, 96%); opacity:1.0;                     line-height:1.75\"><font color=\"black\"> is                    </font></mark><mark style=\"background-color: hsl(120, 75%, 98%); opacity:1.0;                     line-height:1.75\"><font color=\"black\"> now                    </font></mark><mark style=\"background-color: hsl(0, 75%, 100%); opacity:1.0;                     line-height:1.75\"><font color=\"black\"> dealing                    </font></mark><mark style=\"background-color: hsl(120, 75%, 98%); opacity:1.0;                     line-height:1.75\"><font color=\"black\"> with                    </font></mark><mark style=\"background-color: hsl(120, 75%, 99%); opacity:1.0;                     line-height:1.75\"><font color=\"black\"> operators                    </font></mark><mark style=\"background-color: hsl(0, 75%, 97%); opacity:1.0;                     line-height:1.75\"><font color=\"black\"> instead                    </font></mark><mark style=\"background-color: hsl(0, 75%, 100%); opacity:1.0;                     line-height:1.75\"><font color=\"black\"> of                    </font></mark><mark style=\"background-color: hsl(120, 75%, 92%); opacity:1.0;                     line-height:1.75\"><font color=\"black\"> classical                    </font></mark><mark style=\"background-color: hsl(120, 75%, 94%); opacity:1.0;                     line-height:1.75\"><font color=\"black\"> variables                    </font></mark><mark style=\"background-color: hsl(0, 75%, 95%); opacity:1.0;                     line-height:1.75\"><font color=\"black\"> and                    </font></mark><mark style=\"background-color: hsl(120, 75%, 99%); opacity:1.0;                     line-height:1.75\"><font color=\"black\"> though                    </font></mark><mark style=\"background-color: hsl(120, 75%, 98%); opacity:1.0;                     line-height:1.75\"><font color=\"black\"> the                    </font></mark><mark style=\"background-color: hsl(120, 75%, 99%); opacity:1.0;                     line-height:1.75\"><font color=\"black\"> physics                    </font></mark><mark style=\"background-color: hsl(120, 75%, 93%); opacity:1.0;                     line-height:1.75\"><font color=\"black\"> is                    </font></mark><mark style=\"background-color: hsl(120, 75%, 86%); opacity:1.0;                     line-height:1.75\"><font color=\"black\"> now                    </font></mark><mark style=\"background-color: hsl(0, 75%, 98%); opacity:1.0;                     line-height:1.75\"><font color=\"black\"> described                    </font></mark><mark style=\"background-color: hsl(0, 75%, 98%); opacity:1.0;                     line-height:1.75\"><font color=\"black\"> by                    </font></mark><mark style=\"background-color: hsl(120, 75%, 90%); opacity:1.0;                     line-height:1.75\"><font color=\"black\"> the                    </font></mark><mark style=\"background-color: hsl(0, 75%, 100%); opacity:1.0;                     line-height:1.75\"><font color=\"black\"> schrodinger                    </font></mark><mark style=\"background-color: hsl(0, 75%, 88%); opacity:1.0;                     line-height:1.75\"><font color=\"black\"> equation                    </font></mark><mark style=\"background-color: hsl(0, 75%, 100%); opacity:1.0;                     line-height:1.75\"><font color=\"black\"> instead                    </font></mark><mark style=\"background-color: hsl(120, 75%, 99%); opacity:1.0;                     line-height:1.75\"><font color=\"black\"> of                    </font></mark><mark style=\"background-color: hsl(120, 75%, 99%); opacity:1.0;                     line-height:1.75\"><font color=\"black\"> newtonian                    </font></mark><mark style=\"background-color: hsl(120, 75%, 100%); opacity:1.0;                     line-height:1.75\"><font color=\"black\"> equations.                    </font></mark><mark style=\"background-color: hsl(120, 75%, 98%); opacity:1.0;                     line-height:1.75\"><font color=\"black\"> [SEP]                    </font></mark></td><tr></table>"
      ],
      "text/plain": [
       "<IPython.core.display.HTML object>"
      ]
     },
     "metadata": {},
     "output_type": "display_data"
    },
    {
     "name": "stderr",
     "output_type": "stream",
     "text": [
      "/home/user/anaconda3/envs/metric/lib/python3.9/site-packages/captum/attr/_core/lime.py:1096: UserWarning: Attempting to construct interpretable model with > 10000 features.This can be very slow or lead to OOM issues. Please provide a featuremask which groups input features to reduce the number of interpretablefeatures. \n",
      "  warnings.warn(\n"
     ]
    },
    {
     "name": "stdout",
     "output_type": "stream",
     "text": [
      "<IPython.core.display.HTML object>\n",
      "Raw datum: ['What did Iqbal fear would weaken the spiritual foundations of Islam and Muslim society?', 'In his travels to Egypt, Afghanistan, Palestine and Syria, he promoted ideas of greater Islamic political co-operation and unity, calling for the shedding of nationalist differences.']\n",
      "GT target: 0\n"
     ]
    },
    {
     "name": "stderr",
     "output_type": "stream",
     "text": [
      "Lime attribution: 100%|██████████████████████████████████████████████████████████████████████████████████████████████████████████| 5/5 [00:04<00:00,  1.07it/s]\n"
     ]
    },
    {
     "name": "stdout",
     "output_type": "stream",
     "text": [
      "word attr tensor([ 0.8032,  0.0913,  0.0678, -0.2041,  0.0883,  0.0038, -0.0580, -0.0029,\n",
      "        -0.1281,  0.0072,  0.0929,  0.0014, -0.0057,  0.0293,  0.0629, -0.0363,\n",
      "         0.2588, -0.0527,  0.0054, -0.0047, -0.0527, -0.0345,  0.0998, -0.0075,\n",
      "         0.0154, -0.0638,  0.0999, -0.0202, -0.0064,  0.0792,  0.0460, -0.0679,\n",
      "         0.1451, -0.1733,  0.0663, -0.0026,  0.0746, -0.0378, -0.0535,  0.0117,\n",
      "        -0.0810,  0.0748, -0.0304,  0.0106,  0.0294, -0.1259,  0.0343,  0.1748,\n",
      "        -0.0217,  0.1345,  0.0105,  0.0090,  0.0206], device='cuda:0')\n",
      "conti attr [tensor(0.8032, device='cuda:0'), tensor(0.0913, device='cuda:0'), tensor(0.0678, device='cuda:0'), tensor(-0.2041, device='cuda:0'), tensor(0.0883, device='cuda:0'), tensor(0.0038, device='cuda:0'), tensor(-0.0580, device='cuda:0'), tensor(-0.0029, device='cuda:0'), tensor(-0.1281, device='cuda:0'), tensor(0.0072, device='cuda:0'), tensor(0.0929, device='cuda:0'), tensor(0.0014, device='cuda:0'), tensor(-0.0057, device='cuda:0'), tensor(0.0293, device='cuda:0'), tensor(0.0133, device='cuda:0'), tensor(0.2588, device='cuda:0'), tensor(-0.0527, device='cuda:0'), tensor(0.0054, device='cuda:0'), tensor(-0.0047, device='cuda:0'), tensor(-0.0527, device='cuda:0'), tensor(-0.0345, device='cuda:0'), tensor(0.0462, device='cuda:0'), tensor(-0.0242, device='cuda:0'), tensor(0.0999, device='cuda:0'), tensor(-0.0202, device='cuda:0'), tensor(0.0364, device='cuda:0'), tensor(0.0460, device='cuda:0'), tensor(-0.0679, device='cuda:0'), tensor(0.1451, device='cuda:0'), tensor(-0.1733, device='cuda:0'), tensor(0.0663, device='cuda:0'), tensor(-0.0026, device='cuda:0'), tensor(0.0746, device='cuda:0'), tensor(-0.0170, device='cuda:0'), tensor(-0.0810, device='cuda:0'), tensor(0.0222, device='cuda:0'), tensor(0.0106, device='cuda:0'), tensor(0.0294, device='cuda:0'), tensor(-0.1259, device='cuda:0'), tensor(0.1046, device='cuda:0'), tensor(-0.0217, device='cuda:0'), tensor(0.1345, device='cuda:0'), tensor(0.0097, device='cuda:0'), tensor(0.0206, device='cuda:0')]\n",
      "detokenized ['[CLS]', 'what', 'did', 'iqbal', 'fear', 'would', 'weaken', 'the', 'spiritual', 'foundations', 'of', 'islam', 'and', 'muslim', 'society', '?', '[SEP]', '[SEP]', 'in', 'his', 'travels', 'to', 'egypt', ',', 'afghanistan', ',', 'palestine', 'and', 'syria', ',', 'he', 'promoted', 'ideas', 'of', 'greater', 'islamic', 'political', 'co', '-', 'operation', 'and', 'unity', ',', 'calling', 'for', 'the', 'shed', 'ding', 'of', 'nationalist', 'differences', '.', '[SEP]']\n",
      "len conti_raw 44\n",
      "conti_raw ['[CLS]', 'what', 'did', 'iqbal', 'fear', 'would', 'weaken', 'the', 'spiritual', 'foundations', 'of', 'islam', 'and', 'muslim', 'society?', '[SEP]', '[SEP]', 'in', 'his', 'travels', 'to', 'egypt,', 'afghanistan,', 'palestine', 'and', 'syria,', 'he', 'promoted', 'ideas', 'of', 'greater', 'islamic', 'political', 'co-operation', 'and', 'unity,', 'calling', 'for', 'the', 'shedding', 'of', 'nationalist', 'differences.', '[SEP]']\n",
      "pred_prob 0.38441193103790283\n"
     ]
    },
    {
     "data": {
      "text/html": [
       "<table width: 100%><div style=\"border-top: 1px solid; margin-top: 5px;             padding-top: 5px; display: inline-block\"><b>Legend: </b><span style=\"display: inline-block; width: 10px; height: 10px;                 border: 1px solid; background-color:                 hsl(0, 75%, 60%)\"></span> Negative  <span style=\"display: inline-block; width: 10px; height: 10px;                 border: 1px solid; background-color:                 hsl(0, 75%, 100%)\"></span> Neutral  <span style=\"display: inline-block; width: 10px; height: 10px;                 border: 1px solid; background-color:                 hsl(120, 75%, 50%)\"></span> Positive  </div><tr><th>True Label</th><th>Predicted Label</th><th>Attribution Label</th><th>Attribution Score</th><th>Word Importance</th><tr><td><text style=\"padding-right:2em\"><b>No Entailment</b></text></td><td><text style=\"padding-right:2em\"><b>No Entailment (0.38)</b></text></td><td><text style=\"padding-right:2em\"><b>Entailment</b></text></td><td><text style=\"padding-right:2em\"><b>1.38</b></text></td><td><mark style=\"background-color: hsl(120, 75%, 60%); opacity:1.0;                     line-height:1.75\"><font color=\"black\"> [CLS]                    </font></mark><mark style=\"background-color: hsl(120, 75%, 96%); opacity:1.0;                     line-height:1.75\"><font color=\"black\"> what                    </font></mark><mark style=\"background-color: hsl(120, 75%, 97%); opacity:1.0;                     line-height:1.75\"><font color=\"black\"> did                    </font></mark><mark style=\"background-color: hsl(0, 75%, 92%); opacity:1.0;                     line-height:1.75\"><font color=\"black\"> iqbal                    </font></mark><mark style=\"background-color: hsl(120, 75%, 96%); opacity:1.0;                     line-height:1.75\"><font color=\"black\"> fear                    </font></mark><mark style=\"background-color: hsl(120, 75%, 100%); opacity:1.0;                     line-height:1.75\"><font color=\"black\"> would                    </font></mark><mark style=\"background-color: hsl(0, 75%, 98%); opacity:1.0;                     line-height:1.75\"><font color=\"black\"> weaken                    </font></mark><mark style=\"background-color: hsl(0, 75%, 100%); opacity:1.0;                     line-height:1.75\"><font color=\"black\"> the                    </font></mark><mark style=\"background-color: hsl(0, 75%, 95%); opacity:1.0;                     line-height:1.75\"><font color=\"black\"> spiritual                    </font></mark><mark style=\"background-color: hsl(120, 75%, 100%); opacity:1.0;                     line-height:1.75\"><font color=\"black\"> foundations                    </font></mark><mark style=\"background-color: hsl(120, 75%, 96%); opacity:1.0;                     line-height:1.75\"><font color=\"black\"> of                    </font></mark><mark style=\"background-color: hsl(120, 75%, 100%); opacity:1.0;                     line-height:1.75\"><font color=\"black\"> islam                    </font></mark><mark style=\"background-color: hsl(0, 75%, 100%); opacity:1.0;                     line-height:1.75\"><font color=\"black\"> and                    </font></mark><mark style=\"background-color: hsl(120, 75%, 99%); opacity:1.0;                     line-height:1.75\"><font color=\"black\"> muslim                    </font></mark><mark style=\"background-color: hsl(120, 75%, 100%); opacity:1.0;                     line-height:1.75\"><font color=\"black\"> society?                    </font></mark><mark style=\"background-color: hsl(120, 75%, 88%); opacity:1.0;                     line-height:1.75\"><font color=\"black\"> [SEP]                    </font></mark><mark style=\"background-color: hsl(0, 75%, 98%); opacity:1.0;                     line-height:1.75\"><font color=\"black\"> [SEP]                    </font></mark><mark style=\"background-color: hsl(120, 75%, 100%); opacity:1.0;                     line-height:1.75\"><font color=\"black\"> in                    </font></mark><mark style=\"background-color: hsl(0, 75%, 100%); opacity:1.0;                     line-height:1.75\"><font color=\"black\"> his                    </font></mark><mark style=\"background-color: hsl(0, 75%, 98%); opacity:1.0;                     line-height:1.75\"><font color=\"black\"> travels                    </font></mark><mark style=\"background-color: hsl(0, 75%, 99%); opacity:1.0;                     line-height:1.75\"><font color=\"black\"> to                    </font></mark><mark style=\"background-color: hsl(120, 75%, 98%); opacity:1.0;                     line-height:1.75\"><font color=\"black\"> egypt,                    </font></mark><mark style=\"background-color: hsl(0, 75%, 100%); opacity:1.0;                     line-height:1.75\"><font color=\"black\"> afghanistan,                    </font></mark><mark style=\"background-color: hsl(120, 75%, 96%); opacity:1.0;                     line-height:1.75\"><font color=\"black\"> palestine                    </font></mark><mark style=\"background-color: hsl(0, 75%, 100%); opacity:1.0;                     line-height:1.75\"><font color=\"black\"> and                    </font></mark><mark style=\"background-color: hsl(120, 75%, 99%); opacity:1.0;                     line-height:1.75\"><font color=\"black\"> syria,                    </font></mark><mark style=\"background-color: hsl(120, 75%, 98%); opacity:1.0;                     line-height:1.75\"><font color=\"black\"> he                    </font></mark><mark style=\"background-color: hsl(0, 75%, 98%); opacity:1.0;                     line-height:1.75\"><font color=\"black\"> promoted                    </font></mark><mark style=\"background-color: hsl(120, 75%, 93%); opacity:1.0;                     line-height:1.75\"><font color=\"black\"> ideas                    </font></mark><mark style=\"background-color: hsl(0, 75%, 94%); opacity:1.0;                     line-height:1.75\"><font color=\"black\"> of                    </font></mark><mark style=\"background-color: hsl(120, 75%, 97%); opacity:1.0;                     line-height:1.75\"><font color=\"black\"> greater                    </font></mark><mark style=\"background-color: hsl(0, 75%, 100%); opacity:1.0;                     line-height:1.75\"><font color=\"black\"> islamic                    </font></mark><mark style=\"background-color: hsl(120, 75%, 97%); opacity:1.0;                     line-height:1.75\"><font color=\"black\"> political                    </font></mark><mark style=\"background-color: hsl(0, 75%, 100%); opacity:1.0;                     line-height:1.75\"><font color=\"black\"> co-operation                    </font></mark><mark style=\"background-color: hsl(0, 75%, 97%); opacity:1.0;                     line-height:1.75\"><font color=\"black\"> and                    </font></mark><mark style=\"background-color: hsl(120, 75%, 99%); opacity:1.0;                     line-height:1.75\"><font color=\"black\"> unity,                    </font></mark><mark style=\"background-color: hsl(120, 75%, 100%); opacity:1.0;                     line-height:1.75\"><font color=\"black\"> calling                    </font></mark><mark style=\"background-color: hsl(120, 75%, 99%); opacity:1.0;                     line-height:1.75\"><font color=\"black\"> for                    </font></mark><mark style=\"background-color: hsl(0, 75%, 95%); opacity:1.0;                     line-height:1.75\"><font color=\"black\"> the                    </font></mark><mark style=\"background-color: hsl(120, 75%, 95%); opacity:1.0;                     line-height:1.75\"><font color=\"black\"> shedding                    </font></mark><mark style=\"background-color: hsl(0, 75%, 100%); opacity:1.0;                     line-height:1.75\"><font color=\"black\"> of                    </font></mark><mark style=\"background-color: hsl(120, 75%, 94%); opacity:1.0;                     line-height:1.75\"><font color=\"black\"> nationalist                    </font></mark><mark style=\"background-color: hsl(120, 75%, 100%); opacity:1.0;                     line-height:1.75\"><font color=\"black\"> differences.                    </font></mark><mark style=\"background-color: hsl(120, 75%, 99%); opacity:1.0;                     line-height:1.75\"><font color=\"black\"> [SEP]                    </font></mark></td><tr></table>"
      ],
      "text/plain": [
       "<IPython.core.display.HTML object>"
      ]
     },
     "metadata": {},
     "output_type": "display_data"
    },
    {
     "name": "stderr",
     "output_type": "stream",
     "text": [
      "/home/user/anaconda3/envs/metric/lib/python3.9/site-packages/captum/attr/_core/lime.py:1096: UserWarning: Attempting to construct interpretable model with > 10000 features.This can be very slow or lead to OOM issues. Please provide a featuremask which groups input features to reduce the number of interpretablefeatures. \n",
      "  warnings.warn(\n"
     ]
    },
    {
     "name": "stdout",
     "output_type": "stream",
     "text": [
      "<IPython.core.display.HTML object>\n",
      "Raw datum: ['In what meeting did Shirley lay out plans for 1756?', 'At a meeting in Albany in December 1755, he laid out his plans for 1756.']\n",
      "GT target: 1\n"
     ]
    },
    {
     "name": "stderr",
     "output_type": "stream",
     "text": [
      "Lime attribution: 100%|██████████████████████████████████████████████████████████████████████████████████████████████████████████| 5/5 [00:03<00:00,  1.55it/s]\n"
     ]
    },
    {
     "name": "stdout",
     "output_type": "stream",
     "text": [
      "word attr tensor([ 0.2058,  0.1297,  0.4957,  0.2252,  0.3513, -0.1046,  0.0136,  0.2747,\n",
      "         0.3254,  0.1312,  0.1356, -0.2088, -0.0488, -0.1197,  0.1974, -0.1740,\n",
      "        -0.0105, -0.0275, -0.0939, -0.0747, -0.1429, -0.1040,  0.1778,  0.0249,\n",
      "        -0.1341, -0.1858, -0.0896, -0.0940, -0.0169, -0.0008, -0.0477, -0.1129],\n",
      "       device='cuda:0')\n",
      "conti attr [tensor(0.2058, device='cuda:0'), tensor(0.1297, device='cuda:0'), tensor(0.4957, device='cuda:0'), tensor(0.2252, device='cuda:0'), tensor(0.3513, device='cuda:0'), tensor(-0.1046, device='cuda:0'), tensor(0.0136, device='cuda:0'), tensor(0.2747, device='cuda:0'), tensor(0.3254, device='cuda:0'), tensor(0.1312, device='cuda:0'), tensor(-0.0366, device='cuda:0'), tensor(-0.0488, device='cuda:0'), tensor(-0.1197, device='cuda:0'), tensor(0.1974, device='cuda:0'), tensor(-0.1740, device='cuda:0'), tensor(-0.0105, device='cuda:0'), tensor(-0.0275, device='cuda:0'), tensor(-0.0939, device='cuda:0'), tensor(-0.0747, device='cuda:0'), tensor(-0.1429, device='cuda:0'), tensor(0.0369, device='cuda:0'), tensor(0.0249, device='cuda:0'), tensor(-0.1341, device='cuda:0'), tensor(-0.1858, device='cuda:0'), tensor(-0.0896, device='cuda:0'), tensor(-0.0940, device='cuda:0'), tensor(-0.0169, device='cuda:0'), tensor(-0.0243, device='cuda:0'), tensor(-0.1129, device='cuda:0')]\n",
      "detokenized ['[CLS]', 'in', 'what', 'meeting', 'did', 'shirley', 'lay', 'out', 'plans', 'for', '1756', '?', '[SEP]', '[SEP]', 'at', 'a', 'meeting', 'in', 'albany', 'in', 'december', '1755', ',', 'he', 'laid', 'out', 'his', 'plans', 'for', '1756', '.', '[SEP]']\n",
      "len conti_raw 29\n",
      "conti_raw ['[CLS]', 'in', 'what', 'meeting', 'did', 'shirley', 'lay', 'out', 'plans', 'for', '1756?', '[SEP]', '[SEP]', 'at', 'a', 'meeting', 'in', 'albany', 'in', 'december', '1755,', 'he', 'laid', 'out', 'his', 'plans', 'for', '1756.', '[SEP]']\n",
      "pred_prob 0.6875017881393433\n"
     ]
    },
    {
     "data": {
      "text/html": [
       "<table width: 100%><div style=\"border-top: 1px solid; margin-top: 5px;             padding-top: 5px; display: inline-block\"><b>Legend: </b><span style=\"display: inline-block; width: 10px; height: 10px;                 border: 1px solid; background-color:                 hsl(0, 75%, 60%)\"></span> Negative  <span style=\"display: inline-block; width: 10px; height: 10px;                 border: 1px solid; background-color:                 hsl(0, 75%, 100%)\"></span> Neutral  <span style=\"display: inline-block; width: 10px; height: 10px;                 border: 1px solid; background-color:                 hsl(120, 75%, 50%)\"></span> Positive  </div><tr><th>True Label</th><th>Predicted Label</th><th>Attribution Label</th><th>Attribution Score</th><th>Word Importance</th><tr><td><text style=\"padding-right:2em\"><b>Entailment</b></text></td><td><text style=\"padding-right:2em\"><b>Entailment (0.69)</b></text></td><td><text style=\"padding-right:2em\"><b>Entailment</b></text></td><td><text style=\"padding-right:2em\"><b>0.90</b></text></td><td><mark style=\"background-color: hsl(120, 75%, 90%); opacity:1.0;                     line-height:1.75\"><font color=\"black\"> [CLS]                    </font></mark><mark style=\"background-color: hsl(120, 75%, 94%); opacity:1.0;                     line-height:1.75\"><font color=\"black\"> in                    </font></mark><mark style=\"background-color: hsl(120, 75%, 76%); opacity:1.0;                     line-height:1.75\"><font color=\"black\"> what                    </font></mark><mark style=\"background-color: hsl(120, 75%, 89%); opacity:1.0;                     line-height:1.75\"><font color=\"black\"> meeting                    </font></mark><mark style=\"background-color: hsl(120, 75%, 83%); opacity:1.0;                     line-height:1.75\"><font color=\"black\"> did                    </font></mark><mark style=\"background-color: hsl(0, 75%, 96%); opacity:1.0;                     line-height:1.75\"><font color=\"black\"> shirley                    </font></mark><mark style=\"background-color: hsl(120, 75%, 100%); opacity:1.0;                     line-height:1.75\"><font color=\"black\"> lay                    </font></mark><mark style=\"background-color: hsl(120, 75%, 87%); opacity:1.0;                     line-height:1.75\"><font color=\"black\"> out                    </font></mark><mark style=\"background-color: hsl(120, 75%, 84%); opacity:1.0;                     line-height:1.75\"><font color=\"black\"> plans                    </font></mark><mark style=\"background-color: hsl(120, 75%, 94%); opacity:1.0;                     line-height:1.75\"><font color=\"black\"> for                    </font></mark><mark style=\"background-color: hsl(0, 75%, 99%); opacity:1.0;                     line-height:1.75\"><font color=\"black\"> 1756?                    </font></mark><mark style=\"background-color: hsl(0, 75%, 99%); opacity:1.0;                     line-height:1.75\"><font color=\"black\"> [SEP]                    </font></mark><mark style=\"background-color: hsl(0, 75%, 96%); opacity:1.0;                     line-height:1.75\"><font color=\"black\"> [SEP]                    </font></mark><mark style=\"background-color: hsl(120, 75%, 91%); opacity:1.0;                     line-height:1.75\"><font color=\"black\"> at                    </font></mark><mark style=\"background-color: hsl(0, 75%, 94%); opacity:1.0;                     line-height:1.75\"><font color=\"black\"> a                    </font></mark><mark style=\"background-color: hsl(0, 75%, 100%); opacity:1.0;                     line-height:1.75\"><font color=\"black\"> meeting                    </font></mark><mark style=\"background-color: hsl(0, 75%, 99%); opacity:1.0;                     line-height:1.75\"><font color=\"black\"> in                    </font></mark><mark style=\"background-color: hsl(0, 75%, 97%); opacity:1.0;                     line-height:1.75\"><font color=\"black\"> albany                    </font></mark><mark style=\"background-color: hsl(0, 75%, 98%); opacity:1.0;                     line-height:1.75\"><font color=\"black\"> in                    </font></mark><mark style=\"background-color: hsl(0, 75%, 95%); opacity:1.0;                     line-height:1.75\"><font color=\"black\"> december                    </font></mark><mark style=\"background-color: hsl(120, 75%, 99%); opacity:1.0;                     line-height:1.75\"><font color=\"black\"> 1755,                    </font></mark><mark style=\"background-color: hsl(120, 75%, 99%); opacity:1.0;                     line-height:1.75\"><font color=\"black\"> he                    </font></mark><mark style=\"background-color: hsl(0, 75%, 95%); opacity:1.0;                     line-height:1.75\"><font color=\"black\"> laid                    </font></mark><mark style=\"background-color: hsl(0, 75%, 93%); opacity:1.0;                     line-height:1.75\"><font color=\"black\"> out                    </font></mark><mark style=\"background-color: hsl(0, 75%, 97%); opacity:1.0;                     line-height:1.75\"><font color=\"black\"> his                    </font></mark><mark style=\"background-color: hsl(0, 75%, 97%); opacity:1.0;                     line-height:1.75\"><font color=\"black\"> plans                    </font></mark><mark style=\"background-color: hsl(0, 75%, 100%); opacity:1.0;                     line-height:1.75\"><font color=\"black\"> for                    </font></mark><mark style=\"background-color: hsl(0, 75%, 100%); opacity:1.0;                     line-height:1.75\"><font color=\"black\"> 1756.                    </font></mark><mark style=\"background-color: hsl(0, 75%, 96%); opacity:1.0;                     line-height:1.75\"><font color=\"black\"> [SEP]                    </font></mark></td><tr></table>"
      ],
      "text/plain": [
       "<IPython.core.display.HTML object>"
      ]
     },
     "metadata": {},
     "output_type": "display_data"
    },
    {
     "name": "stderr",
     "output_type": "stream",
     "text": [
      "/home/user/anaconda3/envs/metric/lib/python3.9/site-packages/captum/attr/_core/lime.py:1096: UserWarning: Attempting to construct interpretable model with > 10000 features.This can be very slow or lead to OOM issues. Please provide a featuremask which groups input features to reduce the number of interpretablefeatures. \n",
      "  warnings.warn(\n"
     ]
    },
    {
     "name": "stdout",
     "output_type": "stream",
     "text": [
      "<IPython.core.display.HTML object>\n",
      "Raw datum: [\"In autoimmune disorders, the immune system doesn't distinguish between what types of cells?\", 'One of the functions of specialized cells (located in the thymus and bone marrow) is to present young lymphocytes with self antigens produced throughout the body and to eliminate those cells that recognize self-antigens, preventing autoimmunity.']\n",
      "GT target: 0\n"
     ]
    },
    {
     "name": "stderr",
     "output_type": "stream",
     "text": [
      "Lime attribution: 100%|██████████████████████████████████████████████████████████████████████████████████████████████████████████| 5/5 [00:09<00:00,  1.93s/it]\n"
     ]
    },
    {
     "name": "stdout",
     "output_type": "stream",
     "text": [
      "word attr tensor([ 4.5200e-01,  3.5643e-02,  1.6443e-01,  9.3370e-02, -4.3008e-02,\n",
      "        -2.4331e-02, -3.2156e-02,  1.4733e-01,  3.3833e-02, -6.3928e-02,\n",
      "         4.5769e-02, -8.6479e-02,  2.6425e-02,  9.8104e-02, -1.5043e-01,\n",
      "         9.8583e-02,  3.7671e-01,  8.3250e-02, -9.9029e-02,  1.6446e-01,\n",
      "         8.4893e-02, -1.5109e-02, -2.0234e-01,  1.7041e-01,  6.1537e-02,\n",
      "         1.9720e-01,  1.3409e-01, -3.5633e-02,  5.5488e-02, -1.0433e-02,\n",
      "        -4.0655e-02,  1.2573e-01,  8.5964e-02, -2.2530e-02,  4.6932e-02,\n",
      "         5.0833e-03,  4.1325e-02, -1.0749e-01,  1.6893e-01,  9.6954e-03,\n",
      "         1.2167e-01, -5.5496e-02,  1.0175e-01,  1.1447e-01, -8.8982e-02,\n",
      "         3.9800e-02,  2.2318e-02,  1.0452e-01, -9.0850e-02,  4.7585e-02,\n",
      "         9.7210e-02,  1.7024e-01, -2.4043e-02,  1.2702e-02, -5.8430e-02,\n",
      "         9.1669e-02, -1.6046e-01,  1.4583e-01, -3.0829e-02,  7.3687e-02,\n",
      "         2.0600e-02, -4.4923e-02,  4.2675e-04, -4.4956e-02,  1.7833e-01,\n",
      "        -1.0711e-02, -4.8778e-02, -9.4256e-03,  8.2455e-02,  1.6627e-01,\n",
      "         2.5529e-02,  1.5698e-01, -1.3505e-02,  4.6813e-02,  1.3470e-02],\n",
      "       device='cuda:0')\n",
      "conti attr [tensor(0.4520, device='cuda:0'), tensor(0.0356, device='cuda:0'), tensor(0.0093, device='cuda:0'), tensor(0.0576, device='cuda:0'), tensor(0.0338, device='cuda:0'), tensor(-0.0639, device='cuda:0'), tensor(0.0458, device='cuda:0'), tensor(0.0340, device='cuda:0'), tensor(-0.1504, device='cuda:0'), tensor(0.0986, device='cuda:0'), tensor(0.3767, device='cuda:0'), tensor(0.0832, device='cuda:0'), tensor(-0.0990, device='cuda:0'), tensor(0.1247, device='cuda:0'), tensor(-0.0151, device='cuda:0'), tensor(-0.2023, device='cuda:0'), tensor(0.1704, device='cuda:0'), tensor(0.0615, device='cuda:0'), tensor(0.1972, device='cuda:0'), tensor(0.1341, device='cuda:0'), tensor(-0.0356, device='cuda:0'), tensor(0.0555, device='cuda:0'), tensor(-0.0104, device='cuda:0'), tensor(0.0425, device='cuda:0'), tensor(0.0860, device='cuda:0'), tensor(-0.0225, device='cuda:0'), tensor(0.0260, device='cuda:0'), tensor(0.0413, device='cuda:0'), tensor(-0.1075, device='cuda:0'), tensor(0.0893, device='cuda:0'), tensor(0.1217, device='cuda:0'), tensor(-0.0555, device='cuda:0'), tensor(0.1018, device='cuda:0'), tensor(0.1145, device='cuda:0'), tensor(0.0517, device='cuda:0'), tensor(-0.0909, device='cuda:0'), tensor(0.0476, device='cuda:0'), tensor(0.1337, device='cuda:0'), tensor(-0.0240, device='cuda:0'), tensor(0.0127, device='cuda:0'), tensor(-0.0584, device='cuda:0'), tensor(0.0917, device='cuda:0'), tensor(-0.1605, device='cuda:0'), tensor(0.1458, device='cuda:0'), tensor(-0.0308, device='cuda:0'), tensor(0.0737, device='cuda:0'), tensor(0.0206, device='cuda:0'), tensor(-0.0449, device='cuda:0'), tensor(0.0004, device='cuda:0'), tensor(-0.0099, device='cuda:0'), tensor(0.0825, device='cuda:0'), tensor(0.0516, device='cuda:0'), tensor(0.0135, device='cuda:0')]\n",
      "detokenized ['[CLS]', 'in', 'auto', 'im', 'mun', 'e', 'disorders', ',', 'the', 'immune', 'system', 'doesn', \"'\", 't', 'distinguish', 'between', 'what', 'types', 'of', 'cells', '?', '[SEP]', '[SEP]', 'one', 'of', 'the', 'functions', 'of', 'specialized', 'cells', '(', 'located', 'in', 'the', 'thy', 'mus', 'and', 'bone', 'marrow', ')', 'is', 'to', 'present', 'young', 'l', 'ym', 'ph', 'ocytes', 'with', 'self', 'antigen', 's', 'produced', 'throughout', 'the', 'body', 'and', 'to', 'eliminate', 'those', 'cells', 'that', 'recognize', 'self', '-', 'antigen', 's', ',', 'preventing', 'auto', 'im', 'mun', 'ity', '.', '[SEP]']\n",
      "len conti_raw 53\n",
      "conti_raw ['[CLS]', 'in', 'autoimmune', 'disorders,', 'the', 'immune', 'system', \"doesn't\", 'distinguish', 'between', 'what', 'types', 'of', 'cells?', '[SEP]', '[SEP]', 'one', 'of', 'the', 'functions', 'of', 'specialized', 'cells', '(located', 'in', 'the', 'thymus', 'and', 'bone', 'marrow)', 'is', 'to', 'present', 'young', 'lymphocytes', 'with', 'self', 'antigens', 'produced', 'throughout', 'the', 'body', 'and', 'to', 'eliminate', 'those', 'cells', 'that', 'recognize', 'self-antigens,', 'preventing', 'autoimmunity.', '[SEP]']\n",
      "pred_prob 0.8891812562942505\n"
     ]
    },
    {
     "data": {
      "text/html": [
       "<table width: 100%><div style=\"border-top: 1px solid; margin-top: 5px;             padding-top: 5px; display: inline-block\"><b>Legend: </b><span style=\"display: inline-block; width: 10px; height: 10px;                 border: 1px solid; background-color:                 hsl(0, 75%, 60%)\"></span> Negative  <span style=\"display: inline-block; width: 10px; height: 10px;                 border: 1px solid; background-color:                 hsl(0, 75%, 100%)\"></span> Neutral  <span style=\"display: inline-block; width: 10px; height: 10px;                 border: 1px solid; background-color:                 hsl(120, 75%, 50%)\"></span> Positive  </div><tr><th>True Label</th><th>Predicted Label</th><th>Attribution Label</th><th>Attribution Score</th><th>Word Importance</th><tr><td><text style=\"padding-right:2em\"><b>No Entailment</b></text></td><td><text style=\"padding-right:2em\"><b>Entailment (0.89)</b></text></td><td><text style=\"padding-right:2em\"><b>Entailment</b></text></td><td><text style=\"padding-right:2em\"><b>3.23</b></text></td><td><mark style=\"background-color: hsl(120, 75%, 78%); opacity:1.0;                     line-height:1.75\"><font color=\"black\"> [CLS]                    </font></mark><mark style=\"background-color: hsl(120, 75%, 99%); opacity:1.0;                     line-height:1.75\"><font color=\"black\"> in                    </font></mark><mark style=\"background-color: hsl(120, 75%, 100%); opacity:1.0;                     line-height:1.75\"><font color=\"black\"> autoimmune                    </font></mark><mark style=\"background-color: hsl(120, 75%, 98%); opacity:1.0;                     line-height:1.75\"><font color=\"black\"> disorders,                    </font></mark><mark style=\"background-color: hsl(120, 75%, 99%); opacity:1.0;                     line-height:1.75\"><font color=\"black\"> the                    </font></mark><mark style=\"background-color: hsl(0, 75%, 98%); opacity:1.0;                     line-height:1.75\"><font color=\"black\"> immune                    </font></mark><mark style=\"background-color: hsl(120, 75%, 98%); opacity:1.0;                     line-height:1.75\"><font color=\"black\"> system                    </font></mark><mark style=\"background-color: hsl(120, 75%, 99%); opacity:1.0;                     line-height:1.75\"><font color=\"black\"> doesn't                    </font></mark><mark style=\"background-color: hsl(0, 75%, 94%); opacity:1.0;                     line-height:1.75\"><font color=\"black\"> distinguish                    </font></mark><mark style=\"background-color: hsl(120, 75%, 96%); opacity:1.0;                     line-height:1.75\"><font color=\"black\"> between                    </font></mark><mark style=\"background-color: hsl(120, 75%, 82%); opacity:1.0;                     line-height:1.75\"><font color=\"black\"> what                    </font></mark><mark style=\"background-color: hsl(120, 75%, 96%); opacity:1.0;                     line-height:1.75\"><font color=\"black\"> types                    </font></mark><mark style=\"background-color: hsl(0, 75%, 97%); opacity:1.0;                     line-height:1.75\"><font color=\"black\"> of                    </font></mark><mark style=\"background-color: hsl(120, 75%, 94%); opacity:1.0;                     line-height:1.75\"><font color=\"black\"> cells?                    </font></mark><mark style=\"background-color: hsl(0, 75%, 100%); opacity:1.0;                     line-height:1.75\"><font color=\"black\"> [SEP]                    </font></mark><mark style=\"background-color: hsl(0, 75%, 92%); opacity:1.0;                     line-height:1.75\"><font color=\"black\"> [SEP]                    </font></mark><mark style=\"background-color: hsl(120, 75%, 92%); opacity:1.0;                     line-height:1.75\"><font color=\"black\"> one                    </font></mark><mark style=\"background-color: hsl(120, 75%, 97%); opacity:1.0;                     line-height:1.75\"><font color=\"black\"> of                    </font></mark><mark style=\"background-color: hsl(120, 75%, 91%); opacity:1.0;                     line-height:1.75\"><font color=\"black\"> the                    </font></mark><mark style=\"background-color: hsl(120, 75%, 94%); opacity:1.0;                     line-height:1.75\"><font color=\"black\"> functions                    </font></mark><mark style=\"background-color: hsl(0, 75%, 99%); opacity:1.0;                     line-height:1.75\"><font color=\"black\"> of                    </font></mark><mark style=\"background-color: hsl(120, 75%, 98%); opacity:1.0;                     line-height:1.75\"><font color=\"black\"> specialized                    </font></mark><mark style=\"background-color: hsl(0, 75%, 100%); opacity:1.0;                     line-height:1.75\"><font color=\"black\"> cells                    </font></mark><mark style=\"background-color: hsl(120, 75%, 98%); opacity:1.0;                     line-height:1.75\"><font color=\"black\"> (located                    </font></mark><mark style=\"background-color: hsl(120, 75%, 96%); opacity:1.0;                     line-height:1.75\"><font color=\"black\"> in                    </font></mark><mark style=\"background-color: hsl(0, 75%, 100%); opacity:1.0;                     line-height:1.75\"><font color=\"black\"> the                    </font></mark><mark style=\"background-color: hsl(120, 75%, 99%); opacity:1.0;                     line-height:1.75\"><font color=\"black\"> thymus                    </font></mark><mark style=\"background-color: hsl(120, 75%, 98%); opacity:1.0;                     line-height:1.75\"><font color=\"black\"> and                    </font></mark><mark style=\"background-color: hsl(0, 75%, 96%); opacity:1.0;                     line-height:1.75\"><font color=\"black\"> bone                    </font></mark><mark style=\"background-color: hsl(120, 75%, 96%); opacity:1.0;                     line-height:1.75\"><font color=\"black\"> marrow)                    </font></mark><mark style=\"background-color: hsl(120, 75%, 94%); opacity:1.0;                     line-height:1.75\"><font color=\"black\"> is                    </font></mark><mark style=\"background-color: hsl(0, 75%, 98%); opacity:1.0;                     line-height:1.75\"><font color=\"black\"> to                    </font></mark><mark style=\"background-color: hsl(120, 75%, 95%); opacity:1.0;                     line-height:1.75\"><font color=\"black\"> present                    </font></mark><mark style=\"background-color: hsl(120, 75%, 95%); opacity:1.0;                     line-height:1.75\"><font color=\"black\"> young                    </font></mark><mark style=\"background-color: hsl(120, 75%, 98%); opacity:1.0;                     line-height:1.75\"><font color=\"black\"> lymphocytes                    </font></mark><mark style=\"background-color: hsl(0, 75%, 97%); opacity:1.0;                     line-height:1.75\"><font color=\"black\"> with                    </font></mark><mark style=\"background-color: hsl(120, 75%, 98%); opacity:1.0;                     line-height:1.75\"><font color=\"black\"> self                    </font></mark><mark style=\"background-color: hsl(120, 75%, 94%); opacity:1.0;                     line-height:1.75\"><font color=\"black\"> antigens                    </font></mark><mark style=\"background-color: hsl(0, 75%, 100%); opacity:1.0;                     line-height:1.75\"><font color=\"black\"> produced                    </font></mark><mark style=\"background-color: hsl(120, 75%, 100%); opacity:1.0;                     line-height:1.75\"><font color=\"black\"> throughout                    </font></mark><mark style=\"background-color: hsl(0, 75%, 98%); opacity:1.0;                     line-height:1.75\"><font color=\"black\"> the                    </font></mark><mark style=\"background-color: hsl(120, 75%, 96%); opacity:1.0;                     line-height:1.75\"><font color=\"black\"> body                    </font></mark><mark style=\"background-color: hsl(0, 75%, 94%); opacity:1.0;                     line-height:1.75\"><font color=\"black\"> and                    </font></mark><mark style=\"background-color: hsl(120, 75%, 93%); opacity:1.0;                     line-height:1.75\"><font color=\"black\"> to                    </font></mark><mark style=\"background-color: hsl(0, 75%, 99%); opacity:1.0;                     line-height:1.75\"><font color=\"black\"> eliminate                    </font></mark><mark style=\"background-color: hsl(120, 75%, 97%); opacity:1.0;                     line-height:1.75\"><font color=\"black\"> those                    </font></mark><mark style=\"background-color: hsl(120, 75%, 99%); opacity:1.0;                     line-height:1.75\"><font color=\"black\"> cells                    </font></mark><mark style=\"background-color: hsl(0, 75%, 99%); opacity:1.0;                     line-height:1.75\"><font color=\"black\"> that                    </font></mark><mark style=\"background-color: hsl(120, 75%, 100%); opacity:1.0;                     line-height:1.75\"><font color=\"black\"> recognize                    </font></mark><mark style=\"background-color: hsl(0, 75%, 100%); opacity:1.0;                     line-height:1.75\"><font color=\"black\"> self-antigens,                    </font></mark><mark style=\"background-color: hsl(120, 75%, 96%); opacity:1.0;                     line-height:1.75\"><font color=\"black\"> preventing                    </font></mark><mark style=\"background-color: hsl(120, 75%, 98%); opacity:1.0;                     line-height:1.75\"><font color=\"black\"> autoimmunity.                    </font></mark><mark style=\"background-color: hsl(120, 75%, 100%); opacity:1.0;                     line-height:1.75\"><font color=\"black\"> [SEP]                    </font></mark></td><tr></table>"
      ],
      "text/plain": [
       "<IPython.core.display.HTML object>"
      ]
     },
     "metadata": {},
     "output_type": "display_data"
    },
    {
     "name": "stderr",
     "output_type": "stream",
     "text": [
      "/home/user/anaconda3/envs/metric/lib/python3.9/site-packages/captum/attr/_core/lime.py:1096: UserWarning: Attempting to construct interpretable model with > 10000 features.This can be very slow or lead to OOM issues. Please provide a featuremask which groups input features to reduce the number of interpretablefeatures. \n",
      "  warnings.warn(\n"
     ]
    },
    {
     "name": "stdout",
     "output_type": "stream",
     "text": [
      "<IPython.core.display.HTML object>\n",
      "Raw datum: ['Which husband and wife modern furniture design team are represented in the V&A furniture collection?', 'One of the finest pieces of continental furniture in the collection is the Rococo Augustus Rex Bureau Cabinet dated c1750 from Germany, with especially fine marquetry and ormolu mounts.']\n",
      "GT target: 0\n"
     ]
    },
    {
     "name": "stderr",
     "output_type": "stream",
     "text": [
      "Lime attribution: 100%|██████████████████████████████████████████████████████████████████████████████████████████████████████████| 5/5 [00:05<00:00,  1.09s/it]\n"
     ]
    },
    {
     "name": "stdout",
     "output_type": "stream",
     "text": [
      "word attr tensor([ 5.5700e-01,  2.8730e-01,  3.2456e-01,  1.6863e-01, -1.3353e-01,\n",
      "         1.8682e-01, -7.1501e-03,  8.2187e-03,  3.3920e-02, -1.4937e-01,\n",
      "         7.9210e-02, -1.0585e-02, -9.4205e-02,  5.0778e-02,  1.3008e-01,\n",
      "        -1.7346e-01,  1.1262e-01, -1.4771e-02,  6.2708e-02,  2.4773e-01,\n",
      "         8.6267e-02, -6.2665e-02,  1.6855e-01,  2.4937e-02, -1.0991e-01,\n",
      "         8.7183e-02, -3.5888e-02, -8.1096e-02, -4.7949e-02, -2.2714e-02,\n",
      "        -7.0726e-02, -6.0928e-02, -1.9142e-01,  4.0291e-02, -2.8630e-02,\n",
      "        -6.1536e-03, -2.9195e-02,  9.2701e-02,  3.5228e-04, -6.6105e-02,\n",
      "         6.6282e-02, -1.1788e-01, -6.9074e-02,  7.1642e-02,  2.4747e-03,\n",
      "        -3.8414e-03, -7.0584e-02,  6.4242e-02,  1.3870e-02,  7.2984e-03,\n",
      "        -7.3884e-02,  5.7361e-02,  3.0141e-03, -1.4502e-01, -3.9852e-02,\n",
      "         6.0712e-02,  3.6169e-02,  3.5116e-02,  1.1191e-01, -1.8429e-01],\n",
      "       device='cuda:0')\n",
      "conti attr [tensor(0.5570, device='cuda:0'), tensor(0.2873, device='cuda:0'), tensor(0.3246, device='cuda:0'), tensor(0.1686, device='cuda:0'), tensor(-0.1335, device='cuda:0'), tensor(0.1868, device='cuda:0'), tensor(-0.0072, device='cuda:0'), tensor(0.0082, device='cuda:0'), tensor(0.0339, device='cuda:0'), tensor(-0.1494, device='cuda:0'), tensor(0.0792, device='cuda:0'), tensor(-0.0106, device='cuda:0'), tensor(-0.0942, device='cuda:0'), tensor(-0.0415, device='cuda:0'), tensor(0.1126, device='cuda:0'), tensor(0.0240, device='cuda:0'), tensor(0.2477, device='cuda:0'), tensor(0.0863, device='cuda:0'), tensor(-0.0627, device='cuda:0'), tensor(0.1685, device='cuda:0'), tensor(0.0249, device='cuda:0'), tensor(-0.1099, device='cuda:0'), tensor(0.0872, device='cuda:0'), tensor(-0.0359, device='cuda:0'), tensor(-0.0811, device='cuda:0'), tensor(-0.0479, device='cuda:0'), tensor(-0.0227, device='cuda:0'), tensor(-0.0707, device='cuda:0'), tensor(-0.0609, device='cuda:0'), tensor(-0.1914, device='cuda:0'), tensor(0.0403, device='cuda:0'), tensor(-0.0174, device='cuda:0'), tensor(-0.0292, device='cuda:0'), tensor(0.0927, device='cuda:0'), tensor(0.0004, device='cuda:0'), tensor(-0.0661, device='cuda:0'), tensor(0.0663, device='cuda:0'), tensor(-0.0109, device='cuda:0'), tensor(0.0025, device='cuda:0'), tensor(-0.0372, device='cuda:0'), tensor(0.0642, device='cuda:0'), tensor(0.0139, device='cuda:0'), tensor(0.0073, device='cuda:0'), tensor(-0.0026, device='cuda:0'), tensor(-0.1450, device='cuda:0'), tensor(0.0233, device='cuda:0'), tensor(0.0735, device='cuda:0'), tensor(-0.1843, device='cuda:0')]\n",
      "detokenized ['[CLS]', 'which', 'husband', 'and', 'wife', 'modern', 'furniture', 'design', 'team', 'are', 'represented', 'in', 'the', 'v', '&', 'a', 'furniture', 'collection', '?', '[SEP]', '[SEP]', 'one', 'of', 'the', 'finest', 'pieces', 'of', 'continental', 'furniture', 'in', 'the', 'collection', 'is', 'the', 'roc', 'oco', 'augustus', 'rex', 'bureau', 'cabinet', 'dated', 'c1', '75', '0', 'from', 'germany', ',', 'with', 'especially', 'fine', 'mar', 'quet', 'ry', 'and', 'or', 'mo', 'lu', 'mounts', '.', '[SEP]']\n",
      "len conti_raw 48\n",
      "conti_raw ['[CLS]', 'which', 'husband', 'and', 'wife', 'modern', 'furniture', 'design', 'team', 'are', 'represented', 'in', 'the', 'v&a', 'furniture', 'collection?', '[SEP]', '[SEP]', 'one', 'of', 'the', 'finest', 'pieces', 'of', 'continental', 'furniture', 'in', 'the', 'collection', 'is', 'the', 'rococo', 'augustus', 'rex', 'bureau', 'cabinet', 'dated', 'c1750', 'from', 'germany,', 'with', 'especially', 'fine', 'marquetry', 'and', 'ormolu', 'mounts.', '[SEP]']\n",
      "pred_prob 0.918213963508606\n"
     ]
    },
    {
     "data": {
      "text/html": [
       "<table width: 100%><div style=\"border-top: 1px solid; margin-top: 5px;             padding-top: 5px; display: inline-block\"><b>Legend: </b><span style=\"display: inline-block; width: 10px; height: 10px;                 border: 1px solid; background-color:                 hsl(0, 75%, 60%)\"></span> Negative  <span style=\"display: inline-block; width: 10px; height: 10px;                 border: 1px solid; background-color:                 hsl(0, 75%, 100%)\"></span> Neutral  <span style=\"display: inline-block; width: 10px; height: 10px;                 border: 1px solid; background-color:                 hsl(120, 75%, 50%)\"></span> Positive  </div><tr><th>True Label</th><th>Predicted Label</th><th>Attribution Label</th><th>Attribution Score</th><th>Word Importance</th><tr><td><text style=\"padding-right:2em\"><b>No Entailment</b></text></td><td><text style=\"padding-right:2em\"><b>Entailment (0.92)</b></text></td><td><text style=\"padding-right:2em\"><b>Entailment</b></text></td><td><text style=\"padding-right:2em\"><b>1.18</b></text></td><td><mark style=\"background-color: hsl(120, 75%, 73%); opacity:1.0;                     line-height:1.75\"><font color=\"black\"> [CLS]                    </font></mark><mark style=\"background-color: hsl(120, 75%, 86%); opacity:1.0;                     line-height:1.75\"><font color=\"black\"> which                    </font></mark><mark style=\"background-color: hsl(120, 75%, 84%); opacity:1.0;                     line-height:1.75\"><font color=\"black\"> husband                    </font></mark><mark style=\"background-color: hsl(120, 75%, 92%); opacity:1.0;                     line-height:1.75\"><font color=\"black\"> and                    </font></mark><mark style=\"background-color: hsl(0, 75%, 95%); opacity:1.0;                     line-height:1.75\"><font color=\"black\"> wife                    </font></mark><mark style=\"background-color: hsl(120, 75%, 91%); opacity:1.0;                     line-height:1.75\"><font color=\"black\"> modern                    </font></mark><mark style=\"background-color: hsl(0, 75%, 100%); opacity:1.0;                     line-height:1.75\"><font color=\"black\"> furniture                    </font></mark><mark style=\"background-color: hsl(120, 75%, 100%); opacity:1.0;                     line-height:1.75\"><font color=\"black\"> design                    </font></mark><mark style=\"background-color: hsl(120, 75%, 99%); opacity:1.0;                     line-height:1.75\"><font color=\"black\"> team                    </font></mark><mark style=\"background-color: hsl(0, 75%, 95%); opacity:1.0;                     line-height:1.75\"><font color=\"black\"> are                    </font></mark><mark style=\"background-color: hsl(120, 75%, 97%); opacity:1.0;                     line-height:1.75\"><font color=\"black\"> represented                    </font></mark><mark style=\"background-color: hsl(0, 75%, 100%); opacity:1.0;                     line-height:1.75\"><font color=\"black\"> in                    </font></mark><mark style=\"background-color: hsl(0, 75%, 97%); opacity:1.0;                     line-height:1.75\"><font color=\"black\"> the                    </font></mark><mark style=\"background-color: hsl(0, 75%, 99%); opacity:1.0;                     line-height:1.75\"><font color=\"black\"> v&a                    </font></mark><mark style=\"background-color: hsl(120, 75%, 95%); opacity:1.0;                     line-height:1.75\"><font color=\"black\"> furniture                    </font></mark><mark style=\"background-color: hsl(120, 75%, 99%); opacity:1.0;                     line-height:1.75\"><font color=\"black\"> collection?                    </font></mark><mark style=\"background-color: hsl(120, 75%, 88%); opacity:1.0;                     line-height:1.75\"><font color=\"black\"> [SEP]                    </font></mark><mark style=\"background-color: hsl(120, 75%, 96%); opacity:1.0;                     line-height:1.75\"><font color=\"black\"> [SEP]                    </font></mark><mark style=\"background-color: hsl(0, 75%, 98%); opacity:1.0;                     line-height:1.75\"><font color=\"black\"> one                    </font></mark><mark style=\"background-color: hsl(120, 75%, 92%); opacity:1.0;                     line-height:1.75\"><font color=\"black\"> of                    </font></mark><mark style=\"background-color: hsl(120, 75%, 99%); opacity:1.0;                     line-height:1.75\"><font color=\"black\"> the                    </font></mark><mark style=\"background-color: hsl(0, 75%, 96%); opacity:1.0;                     line-height:1.75\"><font color=\"black\"> finest                    </font></mark><mark style=\"background-color: hsl(120, 75%, 96%); opacity:1.0;                     line-height:1.75\"><font color=\"black\"> pieces                    </font></mark><mark style=\"background-color: hsl(0, 75%, 99%); opacity:1.0;                     line-height:1.75\"><font color=\"black\"> of                    </font></mark><mark style=\"background-color: hsl(0, 75%, 97%); opacity:1.0;                     line-height:1.75\"><font color=\"black\"> continental                    </font></mark><mark style=\"background-color: hsl(0, 75%, 99%); opacity:1.0;                     line-height:1.75\"><font color=\"black\"> furniture                    </font></mark><mark style=\"background-color: hsl(0, 75%, 100%); opacity:1.0;                     line-height:1.75\"><font color=\"black\"> in                    </font></mark><mark style=\"background-color: hsl(0, 75%, 98%); opacity:1.0;                     line-height:1.75\"><font color=\"black\"> the                    </font></mark><mark style=\"background-color: hsl(0, 75%, 98%); opacity:1.0;                     line-height:1.75\"><font color=\"black\"> collection                    </font></mark><mark style=\"background-color: hsl(0, 75%, 93%); opacity:1.0;                     line-height:1.75\"><font color=\"black\"> is                    </font></mark><mark style=\"background-color: hsl(120, 75%, 98%); opacity:1.0;                     line-height:1.75\"><font color=\"black\"> the                    </font></mark><mark style=\"background-color: hsl(0, 75%, 100%); opacity:1.0;                     line-height:1.75\"><font color=\"black\"> rococo                    </font></mark><mark style=\"background-color: hsl(0, 75%, 99%); opacity:1.0;                     line-height:1.75\"><font color=\"black\"> augustus                    </font></mark><mark style=\"background-color: hsl(120, 75%, 96%); opacity:1.0;                     line-height:1.75\"><font color=\"black\"> rex                    </font></mark><mark style=\"background-color: hsl(120, 75%, 100%); opacity:1.0;                     line-height:1.75\"><font color=\"black\"> bureau                    </font></mark><mark style=\"background-color: hsl(0, 75%, 98%); opacity:1.0;                     line-height:1.75\"><font color=\"black\"> cabinet                    </font></mark><mark style=\"background-color: hsl(120, 75%, 97%); opacity:1.0;                     line-height:1.75\"><font color=\"black\"> dated                    </font></mark><mark style=\"background-color: hsl(0, 75%, 100%); opacity:1.0;                     line-height:1.75\"><font color=\"black\"> c1750                    </font></mark><mark style=\"background-color: hsl(120, 75%, 100%); opacity:1.0;                     line-height:1.75\"><font color=\"black\"> from                    </font></mark><mark style=\"background-color: hsl(0, 75%, 99%); opacity:1.0;                     line-height:1.75\"><font color=\"black\"> germany,                    </font></mark><mark style=\"background-color: hsl(120, 75%, 97%); opacity:1.0;                     line-height:1.75\"><font color=\"black\"> with                    </font></mark><mark style=\"background-color: hsl(120, 75%, 100%); opacity:1.0;                     line-height:1.75\"><font color=\"black\"> especially                    </font></mark><mark style=\"background-color: hsl(120, 75%, 100%); opacity:1.0;                     line-height:1.75\"><font color=\"black\"> fine                    </font></mark><mark style=\"background-color: hsl(0, 75%, 100%); opacity:1.0;                     line-height:1.75\"><font color=\"black\"> marquetry                    </font></mark><mark style=\"background-color: hsl(0, 75%, 95%); opacity:1.0;                     line-height:1.75\"><font color=\"black\"> and                    </font></mark><mark style=\"background-color: hsl(120, 75%, 99%); opacity:1.0;                     line-height:1.75\"><font color=\"black\"> ormolu                    </font></mark><mark style=\"background-color: hsl(120, 75%, 97%); opacity:1.0;                     line-height:1.75\"><font color=\"black\"> mounts.                    </font></mark><mark style=\"background-color: hsl(0, 75%, 93%); opacity:1.0;                     line-height:1.75\"><font color=\"black\"> [SEP]                    </font></mark></td><tr></table>"
      ],
      "text/plain": [
       "<IPython.core.display.HTML object>"
      ]
     },
     "metadata": {},
     "output_type": "display_data"
    },
    {
     "name": "stderr",
     "output_type": "stream",
     "text": [
      "/home/user/anaconda3/envs/metric/lib/python3.9/site-packages/captum/attr/_core/lime.py:1096: UserWarning: Attempting to construct interpretable model with > 10000 features.This can be very slow or lead to OOM issues. Please provide a featuremask which groups input features to reduce the number of interpretablefeatures. \n",
      "  warnings.warn(\n"
     ]
    },
    {
     "name": "stdout",
     "output_type": "stream",
     "text": [
      "<IPython.core.display.HTML object>\n",
      "Raw datum: ['Why did oil start getting priced in terms of gold?', \"Because oil was priced in dollars, oil producers' real income decreased.\"]\n",
      "GT target: 1\n"
     ]
    },
    {
     "name": "stderr",
     "output_type": "stream",
     "text": [
      "Lime attribution: 100%|██████████████████████████████████████████████████████████████████████████████████████████████████████████| 5/5 [00:03<00:00,  1.48it/s]\n"
     ]
    },
    {
     "name": "stdout",
     "output_type": "stream",
     "text": [
      "word attr tensor([ 0.8529, -0.1448, -0.0273, -0.0381,  0.0472, -0.0103, -0.1604,  0.0981,\n",
      "         0.1335, -0.1068,  0.0624,  0.0069, -0.0785, -0.0359, -0.0922,  0.0566,\n",
      "         0.0778,  0.0150, -0.0016,  0.0703, -0.2262,  0.0157,  0.0494,  0.0122,\n",
      "        -0.1693, -0.0011, -0.2375,  0.0190, -0.0934], device='cuda:0')\n",
      "conti attr [tensor(0.8529, device='cuda:0'), tensor(-0.1448, device='cuda:0'), tensor(-0.0273, device='cuda:0'), tensor(-0.0381, device='cuda:0'), tensor(0.0472, device='cuda:0'), tensor(-0.0103, device='cuda:0'), tensor(-0.1604, device='cuda:0'), tensor(0.0981, device='cuda:0'), tensor(0.1335, device='cuda:0'), tensor(-0.1068, device='cuda:0'), tensor(0.0347, device='cuda:0'), tensor(-0.0785, device='cuda:0'), tensor(-0.0359, device='cuda:0'), tensor(-0.0922, device='cuda:0'), tensor(0.0566, device='cuda:0'), tensor(0.0778, device='cuda:0'), tensor(0.0150, device='cuda:0'), tensor(-0.0016, device='cuda:0'), tensor(-0.0780, device='cuda:0'), tensor(0.0157, device='cuda:0'), tensor(0.0308, device='cuda:0'), tensor(-0.1693, device='cuda:0'), tensor(-0.0011, device='cuda:0'), tensor(-0.1093, device='cuda:0'), tensor(-0.0934, device='cuda:0')]\n",
      "detokenized ['[CLS]', 'why', 'did', 'oil', 'start', 'getting', 'priced', 'in', 'terms', 'of', 'gold', '?', '[SEP]', '[SEP]', 'because', 'oil', 'was', 'priced', 'in', 'dollars', ',', 'oil', 'producers', \"'\", 'real', 'income', 'decreased', '.', '[SEP]']\n",
      "len conti_raw 25\n",
      "conti_raw ['[CLS]', 'why', 'did', 'oil', 'start', 'getting', 'priced', 'in', 'terms', 'of', 'gold?', '[SEP]', '[SEP]', 'because', 'oil', 'was', 'priced', 'in', 'dollars,', 'oil', \"producers'\", 'real', 'income', 'decreased.', '[SEP]']\n",
      "pred_prob 0.3373945653438568\n"
     ]
    },
    {
     "data": {
      "text/html": [
       "<table width: 100%><div style=\"border-top: 1px solid; margin-top: 5px;             padding-top: 5px; display: inline-block\"><b>Legend: </b><span style=\"display: inline-block; width: 10px; height: 10px;                 border: 1px solid; background-color:                 hsl(0, 75%, 60%)\"></span> Negative  <span style=\"display: inline-block; width: 10px; height: 10px;                 border: 1px solid; background-color:                 hsl(0, 75%, 100%)\"></span> Neutral  <span style=\"display: inline-block; width: 10px; height: 10px;                 border: 1px solid; background-color:                 hsl(120, 75%, 50%)\"></span> Positive  </div><tr><th>True Label</th><th>Predicted Label</th><th>Attribution Label</th><th>Attribution Score</th><th>Word Importance</th><tr><td><text style=\"padding-right:2em\"><b>Entailment</b></text></td><td><text style=\"padding-right:2em\"><b>No Entailment (0.34)</b></text></td><td><text style=\"padding-right:2em\"><b>No Entailment</b></text></td><td><text style=\"padding-right:2em\"><b>0.09</b></text></td><td><mark style=\"background-color: hsl(120, 75%, 58%); opacity:1.0;                     line-height:1.75\"><font color=\"black\"> [CLS]                    </font></mark><mark style=\"background-color: hsl(0, 75%, 95%); opacity:1.0;                     line-height:1.75\"><font color=\"black\"> why                    </font></mark><mark style=\"background-color: hsl(0, 75%, 99%); opacity:1.0;                     line-height:1.75\"><font color=\"black\"> did                    </font></mark><mark style=\"background-color: hsl(0, 75%, 99%); opacity:1.0;                     line-height:1.75\"><font color=\"black\"> oil                    </font></mark><mark style=\"background-color: hsl(120, 75%, 98%); opacity:1.0;                     line-height:1.75\"><font color=\"black\"> start                    </font></mark><mark style=\"background-color: hsl(0, 75%, 100%); opacity:1.0;                     line-height:1.75\"><font color=\"black\"> getting                    </font></mark><mark style=\"background-color: hsl(0, 75%, 94%); opacity:1.0;                     line-height:1.75\"><font color=\"black\"> priced                    </font></mark><mark style=\"background-color: hsl(120, 75%, 96%); opacity:1.0;                     line-height:1.75\"><font color=\"black\"> in                    </font></mark><mark style=\"background-color: hsl(120, 75%, 94%); opacity:1.0;                     line-height:1.75\"><font color=\"black\"> terms                    </font></mark><mark style=\"background-color: hsl(0, 75%, 96%); opacity:1.0;                     line-height:1.75\"><font color=\"black\"> of                    </font></mark><mark style=\"background-color: hsl(120, 75%, 99%); opacity:1.0;                     line-height:1.75\"><font color=\"black\"> gold?                    </font></mark><mark style=\"background-color: hsl(0, 75%, 97%); opacity:1.0;                     line-height:1.75\"><font color=\"black\"> [SEP]                    </font></mark><mark style=\"background-color: hsl(0, 75%, 99%); opacity:1.0;                     line-height:1.75\"><font color=\"black\"> [SEP]                    </font></mark><mark style=\"background-color: hsl(0, 75%, 97%); opacity:1.0;                     line-height:1.75\"><font color=\"black\"> because                    </font></mark><mark style=\"background-color: hsl(120, 75%, 98%); opacity:1.0;                     line-height:1.75\"><font color=\"black\"> oil                    </font></mark><mark style=\"background-color: hsl(120, 75%, 97%); opacity:1.0;                     line-height:1.75\"><font color=\"black\"> was                    </font></mark><mark style=\"background-color: hsl(120, 75%, 100%); opacity:1.0;                     line-height:1.75\"><font color=\"black\"> priced                    </font></mark><mark style=\"background-color: hsl(0, 75%, 100%); opacity:1.0;                     line-height:1.75\"><font color=\"black\"> in                    </font></mark><mark style=\"background-color: hsl(0, 75%, 97%); opacity:1.0;                     line-height:1.75\"><font color=\"black\"> dollars,                    </font></mark><mark style=\"background-color: hsl(120, 75%, 100%); opacity:1.0;                     line-height:1.75\"><font color=\"black\"> oil                    </font></mark><mark style=\"background-color: hsl(120, 75%, 99%); opacity:1.0;                     line-height:1.75\"><font color=\"black\"> producers'                    </font></mark><mark style=\"background-color: hsl(0, 75%, 94%); opacity:1.0;                     line-height:1.75\"><font color=\"black\"> real                    </font></mark><mark style=\"background-color: hsl(0, 75%, 100%); opacity:1.0;                     line-height:1.75\"><font color=\"black\"> income                    </font></mark><mark style=\"background-color: hsl(0, 75%, 96%); opacity:1.0;                     line-height:1.75\"><font color=\"black\"> decreased.                    </font></mark><mark style=\"background-color: hsl(0, 75%, 97%); opacity:1.0;                     line-height:1.75\"><font color=\"black\"> [SEP]                    </font></mark></td><tr></table>"
      ],
      "text/plain": [
       "<IPython.core.display.HTML object>"
      ]
     },
     "metadata": {},
     "output_type": "display_data"
    },
    {
     "name": "stderr",
     "output_type": "stream",
     "text": [
      "/home/user/anaconda3/envs/metric/lib/python3.9/site-packages/captum/attr/_core/lime.py:1096: UserWarning: Attempting to construct interpretable model with > 10000 features.This can be very slow or lead to OOM issues. Please provide a featuremask which groups input features to reduce the number of interpretablefeatures. \n",
      "  warnings.warn(\n"
     ]
    },
    {
     "name": "stdout",
     "output_type": "stream",
     "text": [
      "<IPython.core.display.HTML object>\n",
      "Raw datum: ['Who did Britain exploit in India?', 'Although a substantial number of colonies had been designed to provide economic profit and to ship resources to home ports in the seventeenth and eighteenth centuries, Fieldhouse suggests that in the nineteenth and twentieth centuries in places such as Africa and Asia, this idea is not necessarily valid:']\n",
      "GT target: 0\n"
     ]
    },
    {
     "name": "stderr",
     "output_type": "stream",
     "text": [
      "Lime attribution: 100%|██████████████████████████████████████████████████████████████████████████████████████████████████████████| 5/5 [00:05<00:00,  1.17s/it]\n"
     ]
    },
    {
     "name": "stdout",
     "output_type": "stream",
     "text": [
      "word attr tensor([ 0.6146,  0.1109, -0.0317, -0.2196, -0.0325, -0.0283, -0.0269,  0.0656,\n",
      "        -0.1624,  0.1090,  0.0627, -0.0054,  0.0440, -0.0677, -0.0190, -0.1021,\n",
      "        -0.1184,  0.0329, -0.0034, -0.1624, -0.0311, -0.0639, -0.1208, -0.0937,\n",
      "        -0.1305, -0.1025,  0.0646,  0.0624, -0.1140,  0.1167,  0.0074,  0.0687,\n",
      "        -0.1124,  0.0110,  0.0496,  0.1464,  0.0127, -0.1939, -0.0096, -0.1308,\n",
      "        -0.0255,  0.0803, -0.1256, -0.0300, -0.2526,  0.0458,  0.0680, -0.0450,\n",
      "         0.0585,  0.0305, -0.0621, -0.1171,  0.0594, -0.0016, -0.1163,  0.0406,\n",
      "         0.1427, -0.0742, -0.0554,  0.0097, -0.0668, -0.1388,  0.2760],\n",
      "       device='cuda:0')\n",
      "conti attr [tensor(0.6146, device='cuda:0'), tensor(0.1109, device='cuda:0'), tensor(-0.0317, device='cuda:0'), tensor(-0.2196, device='cuda:0'), tensor(-0.0325, device='cuda:0'), tensor(-0.0283, device='cuda:0'), tensor(0.0193, device='cuda:0'), tensor(-0.1624, device='cuda:0'), tensor(0.1090, device='cuda:0'), tensor(0.0627, device='cuda:0'), tensor(-0.0054, device='cuda:0'), tensor(0.0440, device='cuda:0'), tensor(-0.0677, device='cuda:0'), tensor(-0.0190, device='cuda:0'), tensor(-0.1021, device='cuda:0'), tensor(-0.1184, device='cuda:0'), tensor(0.0329, device='cuda:0'), tensor(-0.0034, device='cuda:0'), tensor(-0.1624, device='cuda:0'), tensor(-0.0311, device='cuda:0'), tensor(-0.0639, device='cuda:0'), tensor(-0.1208, device='cuda:0'), tensor(-0.0937, device='cuda:0'), tensor(-0.1305, device='cuda:0'), tensor(-0.1025, device='cuda:0'), tensor(0.0646, device='cuda:0'), tensor(0.0624, device='cuda:0'), tensor(-0.1140, device='cuda:0'), tensor(0.1167, device='cuda:0'), tensor(0.0074, device='cuda:0'), tensor(0.0687, device='cuda:0'), tensor(-0.1124, device='cuda:0'), tensor(0.0110, device='cuda:0'), tensor(0.0496, device='cuda:0'), tensor(0.0796, device='cuda:0'), tensor(-0.1018, device='cuda:0'), tensor(-0.1308, device='cuda:0'), tensor(-0.0255, device='cuda:0'), tensor(0.0803, device='cuda:0'), tensor(-0.1256, device='cuda:0'), tensor(-0.0300, device='cuda:0'), tensor(-0.2526, device='cuda:0'), tensor(0.0458, device='cuda:0'), tensor(0.0680, device='cuda:0'), tensor(-0.0450, device='cuda:0'), tensor(0.0585, device='cuda:0'), tensor(0.0305, device='cuda:0'), tensor(-0.0621, device='cuda:0'), tensor(-0.1171, device='cuda:0'), tensor(0.0594, device='cuda:0'), tensor(-0.0589, device='cuda:0'), tensor(0.0406, device='cuda:0'), tensor(0.1427, device='cuda:0'), tensor(-0.0742, device='cuda:0'), tensor(-0.0554, device='cuda:0'), tensor(0.0097, device='cuda:0'), tensor(-0.1028, device='cuda:0'), tensor(0.2760, device='cuda:0')]\n",
      "detokenized ['[CLS]', 'who', 'did', 'britain', 'exploit', 'in', 'india', '?', '[SEP]', '[SEP]', 'although', 'a', 'substantial', 'number', 'of', 'colonies', 'had', 'been', 'designed', 'to', 'provide', 'economic', 'profit', 'and', 'to', 'ship', 'resources', 'to', 'home', 'ports', 'in', 'the', 'seventeenth', 'and', 'eighteenth', 'centuries', ',', 'field', 'house', 'suggests', 'that', 'in', 'the', 'nineteenth', 'and', 'twentieth', 'centuries', 'in', 'places', 'such', 'as', 'africa', 'and', 'asia', ',', 'this', 'idea', 'is', 'not', 'necessarily', 'valid', ':', '[SEP]']\n",
      "len conti_raw 58\n",
      "conti_raw ['[CLS]', 'who', 'did', 'britain', 'exploit', 'in', 'india?', '[SEP]', '[SEP]', 'although', 'a', 'substantial', 'number', 'of', 'colonies', 'had', 'been', 'designed', 'to', 'provide', 'economic', 'profit', 'and', 'to', 'ship', 'resources', 'to', 'home', 'ports', 'in', 'the', 'seventeenth', 'and', 'eighteenth', 'centuries,', 'fieldhouse', 'suggests', 'that', 'in', 'the', 'nineteenth', 'and', 'twentieth', 'centuries', 'in', 'places', 'such', 'as', 'africa', 'and', 'asia,', 'this', 'idea', 'is', 'not', 'necessarily', 'valid:', '[SEP]']\n",
      "pred_prob 0.6999862194061279\n"
     ]
    },
    {
     "data": {
      "text/html": [
       "<table width: 100%><div style=\"border-top: 1px solid; margin-top: 5px;             padding-top: 5px; display: inline-block\"><b>Legend: </b><span style=\"display: inline-block; width: 10px; height: 10px;                 border: 1px solid; background-color:                 hsl(0, 75%, 60%)\"></span> Negative  <span style=\"display: inline-block; width: 10px; height: 10px;                 border: 1px solid; background-color:                 hsl(0, 75%, 100%)\"></span> Neutral  <span style=\"display: inline-block; width: 10px; height: 10px;                 border: 1px solid; background-color:                 hsl(120, 75%, 50%)\"></span> Positive  </div><tr><th>True Label</th><th>Predicted Label</th><th>Attribution Label</th><th>Attribution Score</th><th>Word Importance</th><tr><td><text style=\"padding-right:2em\"><b>No Entailment</b></text></td><td><text style=\"padding-right:2em\"><b>Entailment (0.70)</b></text></td><td><text style=\"padding-right:2em\"><b>No Entailment</b></text></td><td><text style=\"padding-right:2em\"><b>-0.80</b></text></td><td><mark style=\"background-color: hsl(120, 75%, 70%); opacity:1.0;                     line-height:1.75\"><font color=\"black\"> [CLS]                    </font></mark><mark style=\"background-color: hsl(120, 75%, 95%); opacity:1.0;                     line-height:1.75\"><font color=\"black\"> who                    </font></mark><mark style=\"background-color: hsl(0, 75%, 99%); opacity:1.0;                     line-height:1.75\"><font color=\"black\"> did                    </font></mark><mark style=\"background-color: hsl(0, 75%, 92%); opacity:1.0;                     line-height:1.75\"><font color=\"black\"> britain                    </font></mark><mark style=\"background-color: hsl(0, 75%, 99%); opacity:1.0;                     line-height:1.75\"><font color=\"black\"> exploit                    </font></mark><mark style=\"background-color: hsl(0, 75%, 99%); opacity:1.0;                     line-height:1.75\"><font color=\"black\"> in                    </font></mark><mark style=\"background-color: hsl(120, 75%, 100%); opacity:1.0;                     line-height:1.75\"><font color=\"black\"> india?                    </font></mark><mark style=\"background-color: hsl(0, 75%, 94%); opacity:1.0;                     line-height:1.75\"><font color=\"black\"> [SEP]                    </font></mark><mark style=\"background-color: hsl(120, 75%, 95%); opacity:1.0;                     line-height:1.75\"><font color=\"black\"> [SEP]                    </font></mark><mark style=\"background-color: hsl(120, 75%, 97%); opacity:1.0;                     line-height:1.75\"><font color=\"black\"> although                    </font></mark><mark style=\"background-color: hsl(0, 75%, 100%); opacity:1.0;                     line-height:1.75\"><font color=\"black\"> a                    </font></mark><mark style=\"background-color: hsl(120, 75%, 98%); opacity:1.0;                     line-height:1.75\"><font color=\"black\"> substantial                    </font></mark><mark style=\"background-color: hsl(0, 75%, 98%); opacity:1.0;                     line-height:1.75\"><font color=\"black\"> number                    </font></mark><mark style=\"background-color: hsl(0, 75%, 100%); opacity:1.0;                     line-height:1.75\"><font color=\"black\"> of                    </font></mark><mark style=\"background-color: hsl(0, 75%, 96%); opacity:1.0;                     line-height:1.75\"><font color=\"black\"> colonies                    </font></mark><mark style=\"background-color: hsl(0, 75%, 96%); opacity:1.0;                     line-height:1.75\"><font color=\"black\"> had                    </font></mark><mark style=\"background-color: hsl(120, 75%, 99%); opacity:1.0;                     line-height:1.75\"><font color=\"black\"> been                    </font></mark><mark style=\"background-color: hsl(0, 75%, 100%); opacity:1.0;                     line-height:1.75\"><font color=\"black\"> designed                    </font></mark><mark style=\"background-color: hsl(0, 75%, 94%); opacity:1.0;                     line-height:1.75\"><font color=\"black\"> to                    </font></mark><mark style=\"background-color: hsl(0, 75%, 99%); opacity:1.0;                     line-height:1.75\"><font color=\"black\"> provide                    </font></mark><mark style=\"background-color: hsl(0, 75%, 98%); opacity:1.0;                     line-height:1.75\"><font color=\"black\"> economic                    </font></mark><mark style=\"background-color: hsl(0, 75%, 96%); opacity:1.0;                     line-height:1.75\"><font color=\"black\"> profit                    </font></mark><mark style=\"background-color: hsl(0, 75%, 97%); opacity:1.0;                     line-height:1.75\"><font color=\"black\"> and                    </font></mark><mark style=\"background-color: hsl(0, 75%, 95%); opacity:1.0;                     line-height:1.75\"><font color=\"black\"> to                    </font></mark><mark style=\"background-color: hsl(0, 75%, 96%); opacity:1.0;                     line-height:1.75\"><font color=\"black\"> ship                    </font></mark><mark style=\"background-color: hsl(120, 75%, 97%); opacity:1.0;                     line-height:1.75\"><font color=\"black\"> resources                    </font></mark><mark style=\"background-color: hsl(120, 75%, 97%); opacity:1.0;                     line-height:1.75\"><font color=\"black\"> to                    </font></mark><mark style=\"background-color: hsl(0, 75%, 96%); opacity:1.0;                     line-height:1.75\"><font color=\"black\"> home                    </font></mark><mark style=\"background-color: hsl(120, 75%, 95%); opacity:1.0;                     line-height:1.75\"><font color=\"black\"> ports                    </font></mark><mark style=\"background-color: hsl(120, 75%, 100%); opacity:1.0;                     line-height:1.75\"><font color=\"black\"> in                    </font></mark><mark style=\"background-color: hsl(120, 75%, 97%); opacity:1.0;                     line-height:1.75\"><font color=\"black\"> the                    </font></mark><mark style=\"background-color: hsl(0, 75%, 96%); opacity:1.0;                     line-height:1.75\"><font color=\"black\"> seventeenth                    </font></mark><mark style=\"background-color: hsl(120, 75%, 100%); opacity:1.0;                     line-height:1.75\"><font color=\"black\"> and                    </font></mark><mark style=\"background-color: hsl(120, 75%, 98%); opacity:1.0;                     line-height:1.75\"><font color=\"black\"> eighteenth                    </font></mark><mark style=\"background-color: hsl(120, 75%, 97%); opacity:1.0;                     line-height:1.75\"><font color=\"black\"> centuries,                    </font></mark><mark style=\"background-color: hsl(0, 75%, 96%); opacity:1.0;                     line-height:1.75\"><font color=\"black\"> fieldhouse                    </font></mark><mark style=\"background-color: hsl(0, 75%, 95%); opacity:1.0;                     line-height:1.75\"><font color=\"black\"> suggests                    </font></mark><mark style=\"background-color: hsl(0, 75%, 99%); opacity:1.0;                     line-height:1.75\"><font color=\"black\"> that                    </font></mark><mark style=\"background-color: hsl(120, 75%, 96%); opacity:1.0;                     line-height:1.75\"><font color=\"black\"> in                    </font></mark><mark style=\"background-color: hsl(0, 75%, 95%); opacity:1.0;                     line-height:1.75\"><font color=\"black\"> the                    </font></mark><mark style=\"background-color: hsl(0, 75%, 99%); opacity:1.0;                     line-height:1.75\"><font color=\"black\"> nineteenth                    </font></mark><mark style=\"background-color: hsl(0, 75%, 90%); opacity:1.0;                     line-height:1.75\"><font color=\"black\"> and                    </font></mark><mark style=\"background-color: hsl(120, 75%, 98%); opacity:1.0;                     line-height:1.75\"><font color=\"black\"> twentieth                    </font></mark><mark style=\"background-color: hsl(120, 75%, 97%); opacity:1.0;                     line-height:1.75\"><font color=\"black\"> centuries                    </font></mark><mark style=\"background-color: hsl(0, 75%, 99%); opacity:1.0;                     line-height:1.75\"><font color=\"black\"> in                    </font></mark><mark style=\"background-color: hsl(120, 75%, 98%); opacity:1.0;                     line-height:1.75\"><font color=\"black\"> places                    </font></mark><mark style=\"background-color: hsl(120, 75%, 99%); opacity:1.0;                     line-height:1.75\"><font color=\"black\"> such                    </font></mark><mark style=\"background-color: hsl(0, 75%, 98%); opacity:1.0;                     line-height:1.75\"><font color=\"black\"> as                    </font></mark><mark style=\"background-color: hsl(0, 75%, 96%); opacity:1.0;                     line-height:1.75\"><font color=\"black\"> africa                    </font></mark><mark style=\"background-color: hsl(120, 75%, 98%); opacity:1.0;                     line-height:1.75\"><font color=\"black\"> and                    </font></mark><mark style=\"background-color: hsl(0, 75%, 98%); opacity:1.0;                     line-height:1.75\"><font color=\"black\"> asia,                    </font></mark><mark style=\"background-color: hsl(120, 75%, 98%); opacity:1.0;                     line-height:1.75\"><font color=\"black\"> this                    </font></mark><mark style=\"background-color: hsl(120, 75%, 93%); opacity:1.0;                     line-height:1.75\"><font color=\"black\"> idea                    </font></mark><mark style=\"background-color: hsl(0, 75%, 98%); opacity:1.0;                     line-height:1.75\"><font color=\"black\"> is                    </font></mark><mark style=\"background-color: hsl(0, 75%, 98%); opacity:1.0;                     line-height:1.75\"><font color=\"black\"> not                    </font></mark><mark style=\"background-color: hsl(120, 75%, 100%); opacity:1.0;                     line-height:1.75\"><font color=\"black\"> necessarily                    </font></mark><mark style=\"background-color: hsl(0, 75%, 96%); opacity:1.0;                     line-height:1.75\"><font color=\"black\"> valid:                    </font></mark><mark style=\"background-color: hsl(120, 75%, 87%); opacity:1.0;                     line-height:1.75\"><font color=\"black\"> [SEP]                    </font></mark></td><tr></table>"
      ],
      "text/plain": [
       "<IPython.core.display.HTML object>"
      ]
     },
     "metadata": {},
     "output_type": "display_data"
    },
    {
     "name": "stderr",
     "output_type": "stream",
     "text": [
      "/home/user/anaconda3/envs/metric/lib/python3.9/site-packages/captum/attr/_core/lime.py:1096: UserWarning: Attempting to construct interpretable model with > 10000 features.This can be very slow or lead to OOM issues. Please provide a featuremask which groups input features to reduce the number of interpretablefeatures. \n",
      "  warnings.warn(\n"
     ]
    },
    {
     "name": "stdout",
     "output_type": "stream",
     "text": [
      "<IPython.core.display.HTML object>\n",
      "Raw datum: ['What popular environmentalist is also a university alumni member?', 'In science, alumni include astronomers Carl Sagan, a prominent contributor to the scientific research of extraterrestrial life, and Edwin Hubble, known for \"Hubble\\'s Law\", NASA astronaut John M. Grunsfeld, geneticist James Watson, best known as one of the co-discoverers of the structure of DNA, experimental physicist Luis Alvarez, popular environmentalist David Suzuki, balloonist Jeannette Piccard, biologists Ernest Everett']\n",
      "GT target: 1\n"
     ]
    },
    {
     "name": "stderr",
     "output_type": "stream",
     "text": [
      "Lime attribution: 100%|██████████████████████████████████████████████████████████████████████████████████████████████████████████| 5/5 [00:08<00:00,  1.61s/it]\n"
     ]
    },
    {
     "name": "stdout",
     "output_type": "stream",
     "text": [
      "word attr tensor([ 0.1932,  0.0382, -0.1712, -0.2537, -0.1718, -0.0895,  0.0173,  0.0850,\n",
      "        -0.0066,  0.0893,  0.0642, -0.0152, -0.0066,  0.0889,  0.1336,  0.0491,\n",
      "        -0.2383, -0.1877,  0.1179, -0.0660,  0.1401, -0.0890,  0.0030, -0.1502,\n",
      "        -0.0174,  0.0458, -0.0960,  0.0143,  0.0448, -0.1123, -0.1842,  0.1174,\n",
      "         0.0333,  0.0730,  0.0082,  0.0965, -0.0206, -0.0294,  0.0448, -0.0980,\n",
      "         0.0354, -0.1225, -0.0980, -0.1006, -0.1088,  0.0316,  0.0670, -0.0137,\n",
      "        -0.2043, -0.0050, -0.0264,  0.0813, -0.1260,  0.1210,  0.1021,  0.1094,\n",
      "         0.0563, -0.0855, -0.0116,  0.1060,  0.0091,  0.0338,  0.0783,  0.0659,\n",
      "         0.0055, -0.1328,  0.0455,  0.0773,  0.0048, -0.0018, -0.0411,  0.0222,\n",
      "         0.1662, -0.1460,  0.0363, -0.0651, -0.0610, -0.0615,  0.0516, -0.0488,\n",
      "        -0.0199,  0.0979, -0.0528,  0.0006, -0.2111,  0.0308,  0.0393, -0.0641,\n",
      "         0.0227,  0.0561,  0.0981, -0.1331,  0.1053, -0.0448, -0.0286,  0.0114,\n",
      "        -0.1823, -0.0619, -0.1082,  0.0847,  0.0284, -0.1863, -0.0628,  0.0799,\n",
      "        -0.0224,  0.1030,  0.1130], device='cuda:0')\n",
      "conti attr [tensor(0.1932, device='cuda:0'), tensor(0.0382, device='cuda:0'), tensor(-0.1712, device='cuda:0'), tensor(-0.2128, device='cuda:0'), tensor(-0.0895, device='cuda:0'), tensor(0.0173, device='cuda:0'), tensor(0.0850, device='cuda:0'), tensor(-0.0066, device='cuda:0'), tensor(0.0893, device='cuda:0'), tensor(0.0245, device='cuda:0'), tensor(-0.0066, device='cuda:0'), tensor(0.0889, device='cuda:0'), tensor(0.1336, device='cuda:0'), tensor(-0.0946, device='cuda:0'), tensor(-0.1877, device='cuda:0'), tensor(0.1179, device='cuda:0'), tensor(-0.0660, device='cuda:0'), tensor(0.1401, device='cuda:0'), tensor(-0.0966, device='cuda:0'), tensor(-0.0174, device='cuda:0'), tensor(0.0458, device='cuda:0'), tensor(-0.0960, device='cuda:0'), tensor(0.0143, device='cuda:0'), tensor(0.0448, device='cuda:0'), tensor(-0.1123, device='cuda:0'), tensor(-0.1842, device='cuda:0'), tensor(0.1174, device='cuda:0'), tensor(0.0636, device='cuda:0'), tensor(-0.0250, device='cuda:0'), tensor(0.0448, device='cuda:0'), tensor(-0.0980, device='cuda:0'), tensor(-0.0708, device='cuda:0'), tensor(-0.1006, device='cuda:0'), tensor(-0.1088, device='cuda:0'), tensor(-0.0492, device='cuda:0'), tensor(-0.0493, device='cuda:0'), tensor(0.1210, device='cuda:0'), tensor(0.1021, device='cuda:0'), tensor(0.1094, device='cuda:0'), tensor(-0.0146, device='cuda:0'), tensor(0.0546, device='cuda:0'), tensor(0.0357, device='cuda:0'), tensor(-0.1328, device='cuda:0'), tensor(0.0614, device='cuda:0'), tensor(0.0048, device='cuda:0'), tensor(-0.0018, device='cuda:0'), tensor(-0.0411, device='cuda:0'), tensor(0.0222, device='cuda:0'), tensor(0.1662, device='cuda:0'), tensor(-0.1460, device='cuda:0'), tensor(-0.0496, device='cuda:0'), tensor(0.0516, device='cuda:0'), tensor(-0.0488, device='cuda:0'), tensor(-0.0199, device='cuda:0'), tensor(0.0979, device='cuda:0'), tensor(-0.0261, device='cuda:0'), tensor(-0.2111, device='cuda:0'), tensor(0.0308, device='cuda:0'), tensor(0.0393, device='cuda:0'), tensor(-0.0207, device='cuda:0'), tensor(0.0561, device='cuda:0'), tensor(-0.0175, device='cuda:0'), tensor(0.1053, device='cuda:0'), tensor(-0.0367, device='cuda:0'), tensor(-0.0855, device='cuda:0'), tensor(-0.0850, device='cuda:0'), tensor(-0.0649, device='cuda:0'), tensor(0.0086, device='cuda:0'), tensor(-0.0224, device='cuda:0'), tensor(0.1030, device='cuda:0'), tensor(0.1130, device='cuda:0')]\n",
      "detokenized ['[CLS]', 'what', 'popular', 'environmental', 'ist', 'is', 'also', 'a', 'university', 'alumni', 'member', '?', '[SEP]', '[SEP]', 'in', 'science', ',', 'alumni', 'include', 'astronomers', 'carl', 'saga', 'n', ',', 'a', 'prominent', 'contributor', 'to', 'the', 'scientific', 'research', 'of', 'extra', 'ter', 'rest', 'rial', 'life', ',', 'and', 'edwin', 'hub', 'ble', ',', 'known', 'for', '\"', 'hub', 'ble', \"'\", 's', 'law', '\"', ',', 'nasa', 'astronaut', 'john', 'm', '.', 'gr', 'un', 'sf', 'eld', ',', 'genetic', 'ist', 'james', 'watson', ',', 'best', 'known', 'as', 'one', 'of', 'the', 'co', '-', 'discover', 'ers', 'of', 'the', 'structure', 'of', 'dna', ',', 'experimental', 'physicist', 'luis', 'alvarez', ',', 'popular', 'environmental', 'ist', 'david', 'suzuki', ',', 'balloon', 'ist', 'jeanne', 'tte', 'pic', 'card', ',', 'biologist', 's', 'ernest', 'everett', '[SEP]']\n",
      "len conti_raw 71\n",
      "conti_raw ['[CLS]', 'what', 'popular', 'environmentalist', 'is', 'also', 'a', 'university', 'alumni', 'member?', '[SEP]', '[SEP]', 'in', 'science,', 'alumni', 'include', 'astronomers', 'carl', 'sagan,', 'a', 'prominent', 'contributor', 'to', 'the', 'scientific', 'research', 'of', 'extraterrestrial', 'life,', 'and', 'edwin', 'hubble,', 'known', 'for', '\"hubble\\'s', 'law\",', 'nasa', 'astronaut', 'john', 'm.', 'grunsfeld,', 'geneticist', 'james', 'watson,', 'best', 'known', 'as', 'one', 'of', 'the', 'co-discoverers', 'of', 'the', 'structure', 'of', 'dna,', 'experimental', 'physicist', 'luis', 'alvarez,', 'popular', 'environmentalist', 'david', 'suzuki,', 'balloonist', 'jeannette', 'piccard,', 'biologists', 'ernest', 'everett', '[SEP]']\n",
      "pred_prob 0.31498053669929504\n"
     ]
    },
    {
     "data": {
      "text/html": [
       "<table width: 100%><div style=\"border-top: 1px solid; margin-top: 5px;             padding-top: 5px; display: inline-block\"><b>Legend: </b><span style=\"display: inline-block; width: 10px; height: 10px;                 border: 1px solid; background-color:                 hsl(0, 75%, 60%)\"></span> Negative  <span style=\"display: inline-block; width: 10px; height: 10px;                 border: 1px solid; background-color:                 hsl(0, 75%, 100%)\"></span> Neutral  <span style=\"display: inline-block; width: 10px; height: 10px;                 border: 1px solid; background-color:                 hsl(120, 75%, 50%)\"></span> Positive  </div><tr><th>True Label</th><th>Predicted Label</th><th>Attribution Label</th><th>Attribution Score</th><th>Word Importance</th><tr><td><text style=\"padding-right:2em\"><b>Entailment</b></text></td><td><text style=\"padding-right:2em\"><b>No Entailment (0.31)</b></text></td><td><text style=\"padding-right:2em\"><b>No Entailment</b></text></td><td><text style=\"padding-right:2em\"><b>-0.97</b></text></td><td><mark style=\"background-color: hsl(120, 75%, 91%); opacity:1.0;                     line-height:1.75\"><font color=\"black\"> [CLS]                    </font></mark><mark style=\"background-color: hsl(120, 75%, 99%); opacity:1.0;                     line-height:1.75\"><font color=\"black\"> what                    </font></mark><mark style=\"background-color: hsl(0, 75%, 94%); opacity:1.0;                     line-height:1.75\"><font color=\"black\"> popular                    </font></mark><mark style=\"background-color: hsl(0, 75%, 92%); opacity:1.0;                     line-height:1.75\"><font color=\"black\"> environmentalist                    </font></mark><mark style=\"background-color: hsl(0, 75%, 97%); opacity:1.0;                     line-height:1.75\"><font color=\"black\"> is                    </font></mark><mark style=\"background-color: hsl(120, 75%, 100%); opacity:1.0;                     line-height:1.75\"><font color=\"black\"> also                    </font></mark><mark style=\"background-color: hsl(120, 75%, 96%); opacity:1.0;                     line-height:1.75\"><font color=\"black\"> a                    </font></mark><mark style=\"background-color: hsl(0, 75%, 100%); opacity:1.0;                     line-height:1.75\"><font color=\"black\"> university                    </font></mark><mark style=\"background-color: hsl(120, 75%, 96%); opacity:1.0;                     line-height:1.75\"><font color=\"black\"> alumni                    </font></mark><mark style=\"background-color: hsl(120, 75%, 99%); opacity:1.0;                     line-height:1.75\"><font color=\"black\"> member?                    </font></mark><mark style=\"background-color: hsl(0, 75%, 100%); opacity:1.0;                     line-height:1.75\"><font color=\"black\"> [SEP]                    </font></mark><mark style=\"background-color: hsl(120, 75%, 96%); opacity:1.0;                     line-height:1.75\"><font color=\"black\"> [SEP]                    </font></mark><mark style=\"background-color: hsl(120, 75%, 94%); opacity:1.0;                     line-height:1.75\"><font color=\"black\"> in                    </font></mark><mark style=\"background-color: hsl(0, 75%, 97%); opacity:1.0;                     line-height:1.75\"><font color=\"black\"> science,                    </font></mark><mark style=\"background-color: hsl(0, 75%, 93%); opacity:1.0;                     line-height:1.75\"><font color=\"black\"> alumni                    </font></mark><mark style=\"background-color: hsl(120, 75%, 95%); opacity:1.0;                     line-height:1.75\"><font color=\"black\"> include                    </font></mark><mark style=\"background-color: hsl(0, 75%, 98%); opacity:1.0;                     line-height:1.75\"><font color=\"black\"> astronomers                    </font></mark><mark style=\"background-color: hsl(120, 75%, 93%); opacity:1.0;                     line-height:1.75\"><font color=\"black\"> carl                    </font></mark><mark style=\"background-color: hsl(0, 75%, 97%); opacity:1.0;                     line-height:1.75\"><font color=\"black\"> sagan,                    </font></mark><mark style=\"background-color: hsl(0, 75%, 100%); opacity:1.0;                     line-height:1.75\"><font color=\"black\"> a                    </font></mark><mark style=\"background-color: hsl(120, 75%, 98%); opacity:1.0;                     line-height:1.75\"><font color=\"black\"> prominent                    </font></mark><mark style=\"background-color: hsl(0, 75%, 97%); opacity:1.0;                     line-height:1.75\"><font color=\"black\"> contributor                    </font></mark><mark style=\"background-color: hsl(120, 75%, 100%); opacity:1.0;                     line-height:1.75\"><font color=\"black\"> to                    </font></mark><mark style=\"background-color: hsl(120, 75%, 98%); opacity:1.0;                     line-height:1.75\"><font color=\"black\"> the                    </font></mark><mark style=\"background-color: hsl(0, 75%, 96%); opacity:1.0;                     line-height:1.75\"><font color=\"black\"> scientific                    </font></mark><mark style=\"background-color: hsl(0, 75%, 93%); opacity:1.0;                     line-height:1.75\"><font color=\"black\"> research                    </font></mark><mark style=\"background-color: hsl(120, 75%, 95%); opacity:1.0;                     line-height:1.75\"><font color=\"black\"> of                    </font></mark><mark style=\"background-color: hsl(120, 75%, 97%); opacity:1.0;                     line-height:1.75\"><font color=\"black\"> extraterrestrial                    </font></mark><mark style=\"background-color: hsl(0, 75%, 99%); opacity:1.0;                     line-height:1.75\"><font color=\"black\"> life,                    </font></mark><mark style=\"background-color: hsl(120, 75%, 98%); opacity:1.0;                     line-height:1.75\"><font color=\"black\"> and                    </font></mark><mark style=\"background-color: hsl(0, 75%, 97%); opacity:1.0;                     line-height:1.75\"><font color=\"black\"> edwin                    </font></mark><mark style=\"background-color: hsl(0, 75%, 98%); opacity:1.0;                     line-height:1.75\"><font color=\"black\"> hubble,                    </font></mark><mark style=\"background-color: hsl(0, 75%, 96%); opacity:1.0;                     line-height:1.75\"><font color=\"black\"> known                    </font></mark><mark style=\"background-color: hsl(0, 75%, 96%); opacity:1.0;                     line-height:1.75\"><font color=\"black\"> for                    </font></mark><mark style=\"background-color: hsl(0, 75%, 99%); opacity:1.0;                     line-height:1.75\"><font color=\"black\"> \"hubble's                    </font></mark><mark style=\"background-color: hsl(0, 75%, 99%); opacity:1.0;                     line-height:1.75\"><font color=\"black\"> law\",                    </font></mark><mark style=\"background-color: hsl(120, 75%, 94%); opacity:1.0;                     line-height:1.75\"><font color=\"black\"> nasa                    </font></mark><mark style=\"background-color: hsl(120, 75%, 95%); opacity:1.0;                     line-height:1.75\"><font color=\"black\"> astronaut                    </font></mark><mark style=\"background-color: hsl(120, 75%, 95%); opacity:1.0;                     line-height:1.75\"><font color=\"black\"> john                    </font></mark><mark style=\"background-color: hsl(0, 75%, 100%); opacity:1.0;                     line-height:1.75\"><font color=\"black\"> m.                    </font></mark><mark style=\"background-color: hsl(120, 75%, 98%); opacity:1.0;                     line-height:1.75\"><font color=\"black\"> grunsfeld,                    </font></mark><mark style=\"background-color: hsl(120, 75%, 99%); opacity:1.0;                     line-height:1.75\"><font color=\"black\"> geneticist                    </font></mark><mark style=\"background-color: hsl(0, 75%, 95%); opacity:1.0;                     line-height:1.75\"><font color=\"black\"> james                    </font></mark><mark style=\"background-color: hsl(120, 75%, 97%); opacity:1.0;                     line-height:1.75\"><font color=\"black\"> watson,                    </font></mark><mark style=\"background-color: hsl(120, 75%, 100%); opacity:1.0;                     line-height:1.75\"><font color=\"black\"> best                    </font></mark><mark style=\"background-color: hsl(0, 75%, 100%); opacity:1.0;                     line-height:1.75\"><font color=\"black\"> known                    </font></mark><mark style=\"background-color: hsl(0, 75%, 99%); opacity:1.0;                     line-height:1.75\"><font color=\"black\"> as                    </font></mark><mark style=\"background-color: hsl(120, 75%, 99%); opacity:1.0;                     line-height:1.75\"><font color=\"black\"> one                    </font></mark><mark style=\"background-color: hsl(120, 75%, 92%); opacity:1.0;                     line-height:1.75\"><font color=\"black\"> of                    </font></mark><mark style=\"background-color: hsl(0, 75%, 95%); opacity:1.0;                     line-height:1.75\"><font color=\"black\"> the                    </font></mark><mark style=\"background-color: hsl(0, 75%, 99%); opacity:1.0;                     line-height:1.75\"><font color=\"black\"> co-discoverers                    </font></mark><mark style=\"background-color: hsl(120, 75%, 98%); opacity:1.0;                     line-height:1.75\"><font color=\"black\"> of                    </font></mark><mark style=\"background-color: hsl(0, 75%, 99%); opacity:1.0;                     line-height:1.75\"><font color=\"black\"> the                    </font></mark><mark style=\"background-color: hsl(0, 75%, 100%); opacity:1.0;                     line-height:1.75\"><font color=\"black\"> structure                    </font></mark><mark style=\"background-color: hsl(120, 75%, 96%); opacity:1.0;                     line-height:1.75\"><font color=\"black\"> of                    </font></mark><mark style=\"background-color: hsl(0, 75%, 99%); opacity:1.0;                     line-height:1.75\"><font color=\"black\"> dna,                    </font></mark><mark style=\"background-color: hsl(0, 75%, 92%); opacity:1.0;                     line-height:1.75\"><font color=\"black\"> experimental                    </font></mark><mark style=\"background-color: hsl(120, 75%, 99%); opacity:1.0;                     line-height:1.75\"><font color=\"black\"> physicist                    </font></mark><mark style=\"background-color: hsl(120, 75%, 99%); opacity:1.0;                     line-height:1.75\"><font color=\"black\"> luis                    </font></mark><mark style=\"background-color: hsl(0, 75%, 100%); opacity:1.0;                     line-height:1.75\"><font color=\"black\"> alvarez,                    </font></mark><mark style=\"background-color: hsl(120, 75%, 98%); opacity:1.0;                     line-height:1.75\"><font color=\"black\"> popular                    </font></mark><mark style=\"background-color: hsl(0, 75%, 100%); opacity:1.0;                     line-height:1.75\"><font color=\"black\"> environmentalist                    </font></mark><mark style=\"background-color: hsl(120, 75%, 95%); opacity:1.0;                     line-height:1.75\"><font color=\"black\"> david                    </font></mark><mark style=\"background-color: hsl(0, 75%, 99%); opacity:1.0;                     line-height:1.75\"><font color=\"black\"> suzuki,                    </font></mark><mark style=\"background-color: hsl(0, 75%, 97%); opacity:1.0;                     line-height:1.75\"><font color=\"black\"> balloonist                    </font></mark><mark style=\"background-color: hsl(0, 75%, 97%); opacity:1.0;                     line-height:1.75\"><font color=\"black\"> jeannette                    </font></mark><mark style=\"background-color: hsl(0, 75%, 98%); opacity:1.0;                     line-height:1.75\"><font color=\"black\"> piccard,                    </font></mark><mark style=\"background-color: hsl(120, 75%, 100%); opacity:1.0;                     line-height:1.75\"><font color=\"black\"> biologists                    </font></mark><mark style=\"background-color: hsl(0, 75%, 100%); opacity:1.0;                     line-height:1.75\"><font color=\"black\"> ernest                    </font></mark><mark style=\"background-color: hsl(120, 75%, 95%); opacity:1.0;                     line-height:1.75\"><font color=\"black\"> everett                    </font></mark><mark style=\"background-color: hsl(120, 75%, 95%); opacity:1.0;                     line-height:1.75\"><font color=\"black\"> [SEP]                    </font></mark></td><tr></table>"
      ],
      "text/plain": [
       "<IPython.core.display.HTML object>"
      ]
     },
     "metadata": {},
     "output_type": "display_data"
    },
    {
     "name": "stderr",
     "output_type": "stream",
     "text": [
      "/home/user/anaconda3/envs/metric/lib/python3.9/site-packages/captum/attr/_core/lime.py:1096: UserWarning: Attempting to construct interpretable model with > 10000 features.This can be very slow or lead to OOM issues. Please provide a featuremask which groups input features to reduce the number of interpretablefeatures. \n",
      "  warnings.warn(\n"
     ]
    },
    {
     "name": "stdout",
     "output_type": "stream",
     "text": [
      "<IPython.core.display.HTML object>\n",
      "Raw datum: ['What publication did Philip Howard work for?', 'Responding to the findings of the survey in The Times newspaper, journalist Philip Howard maintained that, \"to compare the violence of Dr Who, sired by a horse-laugh out of a nightmare, with the more realistic violence of other television series, where actors who look like human beings bleed paint that looks like blood, is like comparing Monopoly with the property market in London: both are fantasies, but one is meant to be taken seriously.\"']\n",
      "GT target: 1\n"
     ]
    },
    {
     "name": "stderr",
     "output_type": "stream",
     "text": [
      "Lime attribution: 100%|██████████████████████████████████████████████████████████████████████████████████████████████████████████| 5/5 [00:08<00:00,  1.68s/it]\n"
     ]
    },
    {
     "name": "stdout",
     "output_type": "stream",
     "text": [
      "word attr tensor([-9.1831e-02,  8.7778e-03, -1.9003e-01,  9.1342e-02,  2.1472e-02,\n",
      "        -3.3844e-01,  4.9760e-02, -1.6213e-01, -1.3317e-01,  5.7623e-02,\n",
      "        -6.1080e-03, -4.8973e-02,  5.8075e-02,  4.4199e-02, -1.2398e-04,\n",
      "         2.1687e-01, -8.5400e-03,  8.5159e-02,  1.4752e-01,  1.1472e-01,\n",
      "        -3.6019e-02,  5.3086e-02,  3.3301e-02, -1.0025e-01, -6.1543e-02,\n",
      "        -3.1022e-01, -1.7687e-01, -1.5383e-02,  1.4842e-01,  1.3891e-01,\n",
      "         1.5001e-02, -1.1214e-02, -2.3568e-02, -1.7843e-02,  3.6807e-03,\n",
      "        -6.5881e-02,  5.8159e-02,  2.4486e-03, -3.5806e-02,  6.9862e-02,\n",
      "        -6.0574e-02,  8.5560e-02, -6.6904e-02, -1.4055e-03,  1.1593e-02,\n",
      "         5.0440e-02, -5.2881e-02, -9.7811e-02,  1.8537e-01, -7.6069e-02,\n",
      "        -3.0567e-02,  4.0918e-03, -4.3341e-02, -1.1390e-01, -3.6302e-02,\n",
      "         6.5647e-02, -5.4938e-02,  7.7328e-03, -7.3100e-02, -1.0538e-01,\n",
      "         4.3457e-02, -8.1641e-02,  1.6700e-01,  1.0726e-01,  3.7825e-02,\n",
      "        -4.8712e-02,  1.8309e-01,  9.2319e-03,  7.6995e-02,  1.4410e-01,\n",
      "         4.4108e-02,  9.3290e-02, -1.8515e-03, -1.2969e-02, -1.2769e-01,\n",
      "         1.4278e-01,  8.8057e-02, -7.0665e-02,  9.3274e-02, -3.0640e-02,\n",
      "         2.0039e-01,  7.5836e-02, -1.2887e-02, -2.6768e-02, -6.9258e-02,\n",
      "        -1.4404e-02, -9.3978e-02,  1.1311e-01, -1.1239e-01, -2.7038e-02,\n",
      "        -9.1854e-04, -5.6277e-02, -1.4927e-01,  5.0003e-02,  7.3351e-02,\n",
      "         1.6895e-01,  1.6183e-01,  6.0738e-02,  9.9019e-02], device='cuda:0')\n",
      "conti attr [tensor(-0.0918, device='cuda:0'), tensor(0.0088, device='cuda:0'), tensor(-0.1900, device='cuda:0'), tensor(0.0913, device='cuda:0'), tensor(0.0215, device='cuda:0'), tensor(-0.3384, device='cuda:0'), tensor(0.0498, device='cuda:0'), tensor(-0.1476, device='cuda:0'), tensor(0.0576, device='cuda:0'), tensor(-0.0061, device='cuda:0'), tensor(-0.0490, device='cuda:0'), tensor(0.0581, device='cuda:0'), tensor(0.0442, device='cuda:0'), tensor(-0.0001, device='cuda:0'), tensor(0.2169, device='cuda:0'), tensor(-0.0085, device='cuda:0'), tensor(0.0852, device='cuda:0'), tensor(0.1475, device='cuda:0'), tensor(0.1147, device='cuda:0'), tensor(-0.0360, device='cuda:0'), tensor(0.0432, device='cuda:0'), tensor(-0.1003, device='cuda:0'), tensor(-0.0615, device='cuda:0'), tensor(-0.3102, device='cuda:0'), tensor(-0.1769, device='cuda:0'), tensor(0.0665, device='cuda:0'), tensor(0.0770, device='cuda:0'), tensor(-0.0112, device='cuda:0'), tensor(-0.0236, device='cuda:0'), tensor(-0.0178, device='cuda:0'), tensor(0.0037, device='cuda:0'), tensor(-0.0659, device='cuda:0'), tensor(0.0303, device='cuda:0'), tensor(-0.0358, device='cuda:0'), tensor(0.0699, device='cuda:0'), tensor(-0.0606, device='cuda:0'), tensor(0.0040, device='cuda:0'), tensor(0.0116, device='cuda:0'), tensor(0.0504, device='cuda:0'), tensor(-0.0529, device='cuda:0'), tensor(0.0438, device='cuda:0'), tensor(-0.0761, device='cuda:0'), tensor(-0.0306, device='cuda:0'), tensor(0.0041, device='cuda:0'), tensor(-0.0433, device='cuda:0'), tensor(-0.1139, device='cuda:0'), tensor(-0.0363, device='cuda:0'), tensor(0.0656, device='cuda:0'), tensor(-0.0549, device='cuda:0'), tensor(-0.0327, device='cuda:0'), tensor(-0.1054, device='cuda:0'), tensor(0.0435, device='cuda:0'), tensor(-0.0816, device='cuda:0'), tensor(0.1670, device='cuda:0'), tensor(0.1073, device='cuda:0'), tensor(0.0378, device='cuda:0'), tensor(-0.0487, device='cuda:0'), tensor(0.1831, device='cuda:0'), tensor(0.0092, device='cuda:0'), tensor(0.0770, device='cuda:0'), tensor(0.1441, device='cuda:0'), tensor(0.0441, device='cuda:0'), tensor(0.0457, device='cuda:0'), tensor(-0.0130, device='cuda:0'), tensor(-0.1277, device='cuda:0'), tensor(0.1428, device='cuda:0'), tensor(0.0881, device='cuda:0'), tensor(-0.0707, device='cuda:0'), tensor(0.0933, device='cuda:0'), tensor(-0.0306, device='cuda:0'), tensor(0.2004, device='cuda:0'), tensor(0.0758, device='cuda:0'), tensor(-0.0198, device='cuda:0'), tensor(-0.0693, device='cuda:0'), tensor(-0.0144, device='cuda:0'), tensor(0.0096, device='cuda:0'), tensor(-0.1124, device='cuda:0'), tensor(-0.0270, device='cuda:0'), tensor(-0.0009, device='cuda:0'), tensor(-0.0563, device='cuda:0'), tensor(-0.1493, device='cuda:0'), tensor(0.0500, device='cuda:0'), tensor(0.0734, device='cuda:0'), tensor(0.1131, device='cuda:0'), tensor(0.0990, device='cuda:0')]\n",
      "detokenized ['[CLS]', 'what', 'publication', 'did', 'philip', 'howard', 'work', 'for', '?', '[SEP]', '[SEP]', 'responding', 'to', 'the', 'findings', 'of', 'the', 'survey', 'in', 'the', 'times', 'newspaper', ',', 'journalist', 'philip', 'howard', 'maintained', 'that', ',', '\"', 'to', 'compare', 'the', 'violence', 'of', 'dr', 'who', ',', 'sired', 'by', 'a', 'horse', '-', 'laugh', 'out', 'of', 'a', 'nightmare', ',', 'with', 'the', 'more', 'realistic', 'violence', 'of', 'other', 'television', 'series', ',', 'where', 'actors', 'who', 'look', 'like', 'human', 'beings', 'bleed', 'paint', 'that', 'looks', 'like', 'blood', ',', 'is', 'like', 'comparing', 'monopoly', 'with', 'the', 'property', 'market', 'in', 'london', ':', 'both', 'are', 'fantasies', ',', 'but', 'one', 'is', 'meant', 'to', 'be', 'taken', 'seriously', '.', '\"', '[SEP]']\n",
      "len conti_raw 85\n",
      "conti_raw ['[CLS]', 'what', 'publication', 'did', 'philip', 'howard', 'work', 'for?', '[SEP]', '[SEP]', 'responding', 'to', 'the', 'findings', 'of', 'the', 'survey', 'in', 'the', 'times', 'newspaper,', 'journalist', 'philip', 'howard', 'maintained', 'that,', '\"to', 'compare', 'the', 'violence', 'of', 'dr', 'who,', 'sired', 'by', 'a', 'horse-laugh', 'out', 'of', 'a', 'nightmare,', 'with', 'the', 'more', 'realistic', 'violence', 'of', 'other', 'television', 'series,', 'where', 'actors', 'who', 'look', 'like', 'human', 'beings', 'bleed', 'paint', 'that', 'looks', 'like', 'blood,', 'is', 'like', 'comparing', 'monopoly', 'with', 'the', 'property', 'market', 'in', 'london:', 'both', 'are', 'fantasies,', 'but', 'one', 'is', 'meant', 'to', 'be', 'taken', 'seriously.\"', '[SEP]']\n",
      "pred_prob 0.7388923764228821\n"
     ]
    },
    {
     "data": {
      "text/html": [
       "<table width: 100%><div style=\"border-top: 1px solid; margin-top: 5px;             padding-top: 5px; display: inline-block\"><b>Legend: </b><span style=\"display: inline-block; width: 10px; height: 10px;                 border: 1px solid; background-color:                 hsl(0, 75%, 60%)\"></span> Negative  <span style=\"display: inline-block; width: 10px; height: 10px;                 border: 1px solid; background-color:                 hsl(0, 75%, 100%)\"></span> Neutral  <span style=\"display: inline-block; width: 10px; height: 10px;                 border: 1px solid; background-color:                 hsl(120, 75%, 50%)\"></span> Positive  </div><tr><th>True Label</th><th>Predicted Label</th><th>Attribution Label</th><th>Attribution Score</th><th>Word Importance</th><tr><td><text style=\"padding-right:2em\"><b>Entailment</b></text></td><td><text style=\"padding-right:2em\"><b>Entailment (0.74)</b></text></td><td><text style=\"padding-right:2em\"><b>No Entailment</b></text></td><td><text style=\"padding-right:2em\"><b>0.48</b></text></td><td><mark style=\"background-color: hsl(0, 75%, 97%); opacity:1.0;                     line-height:1.75\"><font color=\"black\"> [CLS]                    </font></mark><mark style=\"background-color: hsl(120, 75%, 100%); opacity:1.0;                     line-height:1.75\"><font color=\"black\"> what                    </font></mark><mark style=\"background-color: hsl(0, 75%, 93%); opacity:1.0;                     line-height:1.75\"><font color=\"black\"> publication                    </font></mark><mark style=\"background-color: hsl(120, 75%, 96%); opacity:1.0;                     line-height:1.75\"><font color=\"black\"> did                    </font></mark><mark style=\"background-color: hsl(120, 75%, 99%); opacity:1.0;                     line-height:1.75\"><font color=\"black\"> philip                    </font></mark><mark style=\"background-color: hsl(0, 75%, 87%); opacity:1.0;                     line-height:1.75\"><font color=\"black\"> howard                    </font></mark><mark style=\"background-color: hsl(120, 75%, 98%); opacity:1.0;                     line-height:1.75\"><font color=\"black\"> work                    </font></mark><mark style=\"background-color: hsl(0, 75%, 95%); opacity:1.0;                     line-height:1.75\"><font color=\"black\"> for?                    </font></mark><mark style=\"background-color: hsl(120, 75%, 98%); opacity:1.0;                     line-height:1.75\"><font color=\"black\"> [SEP]                    </font></mark><mark style=\"background-color: hsl(0, 75%, 100%); opacity:1.0;                     line-height:1.75\"><font color=\"black\"> [SEP]                    </font></mark><mark style=\"background-color: hsl(0, 75%, 99%); opacity:1.0;                     line-height:1.75\"><font color=\"black\"> responding                    </font></mark><mark style=\"background-color: hsl(120, 75%, 98%); opacity:1.0;                     line-height:1.75\"><font color=\"black\"> to                    </font></mark><mark style=\"background-color: hsl(120, 75%, 98%); opacity:1.0;                     line-height:1.75\"><font color=\"black\"> the                    </font></mark><mark style=\"background-color: hsl(0, 75%, 100%); opacity:1.0;                     line-height:1.75\"><font color=\"black\"> findings                    </font></mark><mark style=\"background-color: hsl(120, 75%, 90%); opacity:1.0;                     line-height:1.75\"><font color=\"black\"> of                    </font></mark><mark style=\"background-color: hsl(0, 75%, 100%); opacity:1.0;                     line-height:1.75\"><font color=\"black\"> the                    </font></mark><mark style=\"background-color: hsl(120, 75%, 96%); opacity:1.0;                     line-height:1.75\"><font color=\"black\"> survey                    </font></mark><mark style=\"background-color: hsl(120, 75%, 93%); opacity:1.0;                     line-height:1.75\"><font color=\"black\"> in                    </font></mark><mark style=\"background-color: hsl(120, 75%, 95%); opacity:1.0;                     line-height:1.75\"><font color=\"black\"> the                    </font></mark><mark style=\"background-color: hsl(0, 75%, 99%); opacity:1.0;                     line-height:1.75\"><font color=\"black\"> times                    </font></mark><mark style=\"background-color: hsl(120, 75%, 98%); opacity:1.0;                     line-height:1.75\"><font color=\"black\"> newspaper,                    </font></mark><mark style=\"background-color: hsl(0, 75%, 96%); opacity:1.0;                     line-height:1.75\"><font color=\"black\"> journalist                    </font></mark><mark style=\"background-color: hsl(0, 75%, 98%); opacity:1.0;                     line-height:1.75\"><font color=\"black\"> philip                    </font></mark><mark style=\"background-color: hsl(0, 75%, 88%); opacity:1.0;                     line-height:1.75\"><font color=\"black\"> howard                    </font></mark><mark style=\"background-color: hsl(0, 75%, 93%); opacity:1.0;                     line-height:1.75\"><font color=\"black\"> maintained                    </font></mark><mark style=\"background-color: hsl(120, 75%, 97%); opacity:1.0;                     line-height:1.75\"><font color=\"black\"> that,                    </font></mark><mark style=\"background-color: hsl(120, 75%, 97%); opacity:1.0;                     line-height:1.75\"><font color=\"black\"> \"to                    </font></mark><mark style=\"background-color: hsl(0, 75%, 100%); opacity:1.0;                     line-height:1.75\"><font color=\"black\"> compare                    </font></mark><mark style=\"background-color: hsl(0, 75%, 100%); opacity:1.0;                     line-height:1.75\"><font color=\"black\"> the                    </font></mark><mark style=\"background-color: hsl(0, 75%, 100%); opacity:1.0;                     line-height:1.75\"><font color=\"black\"> violence                    </font></mark><mark style=\"background-color: hsl(120, 75%, 100%); opacity:1.0;                     line-height:1.75\"><font color=\"black\"> of                    </font></mark><mark style=\"background-color: hsl(0, 75%, 98%); opacity:1.0;                     line-height:1.75\"><font color=\"black\"> dr                    </font></mark><mark style=\"background-color: hsl(120, 75%, 99%); opacity:1.0;                     line-height:1.75\"><font color=\"black\"> who,                    </font></mark><mark style=\"background-color: hsl(0, 75%, 99%); opacity:1.0;                     line-height:1.75\"><font color=\"black\"> sired                    </font></mark><mark style=\"background-color: hsl(120, 75%, 97%); opacity:1.0;                     line-height:1.75\"><font color=\"black\"> by                    </font></mark><mark style=\"background-color: hsl(0, 75%, 98%); opacity:1.0;                     line-height:1.75\"><font color=\"black\"> a                    </font></mark><mark style=\"background-color: hsl(120, 75%, 100%); opacity:1.0;                     line-height:1.75\"><font color=\"black\"> horse-laugh                    </font></mark><mark style=\"background-color: hsl(120, 75%, 100%); opacity:1.0;                     line-height:1.75\"><font color=\"black\"> out                    </font></mark><mark style=\"background-color: hsl(120, 75%, 98%); opacity:1.0;                     line-height:1.75\"><font color=\"black\"> of                    </font></mark><mark style=\"background-color: hsl(0, 75%, 98%); opacity:1.0;                     line-height:1.75\"><font color=\"black\"> a                    </font></mark><mark style=\"background-color: hsl(120, 75%, 98%); opacity:1.0;                     line-height:1.75\"><font color=\"black\"> nightmare,                    </font></mark><mark style=\"background-color: hsl(0, 75%, 97%); opacity:1.0;                     line-height:1.75\"><font color=\"black\"> with                    </font></mark><mark style=\"background-color: hsl(0, 75%, 99%); opacity:1.0;                     line-height:1.75\"><font color=\"black\"> the                    </font></mark><mark style=\"background-color: hsl(120, 75%, 100%); opacity:1.0;                     line-height:1.75\"><font color=\"black\"> more                    </font></mark><mark style=\"background-color: hsl(0, 75%, 99%); opacity:1.0;                     line-height:1.75\"><font color=\"black\"> realistic                    </font></mark><mark style=\"background-color: hsl(0, 75%, 96%); opacity:1.0;                     line-height:1.75\"><font color=\"black\"> violence                    </font></mark><mark style=\"background-color: hsl(0, 75%, 99%); opacity:1.0;                     line-height:1.75\"><font color=\"black\"> of                    </font></mark><mark style=\"background-color: hsl(120, 75%, 97%); opacity:1.0;                     line-height:1.75\"><font color=\"black\"> other                    </font></mark><mark style=\"background-color: hsl(0, 75%, 98%); opacity:1.0;                     line-height:1.75\"><font color=\"black\"> television                    </font></mark><mark style=\"background-color: hsl(0, 75%, 99%); opacity:1.0;                     line-height:1.75\"><font color=\"black\"> series,                    </font></mark><mark style=\"background-color: hsl(0, 75%, 96%); opacity:1.0;                     line-height:1.75\"><font color=\"black\"> where                    </font></mark><mark style=\"background-color: hsl(120, 75%, 98%); opacity:1.0;                     line-height:1.75\"><font color=\"black\"> actors                    </font></mark><mark style=\"background-color: hsl(0, 75%, 97%); opacity:1.0;                     line-height:1.75\"><font color=\"black\"> who                    </font></mark><mark style=\"background-color: hsl(120, 75%, 92%); opacity:1.0;                     line-height:1.75\"><font color=\"black\"> look                    </font></mark><mark style=\"background-color: hsl(120, 75%, 95%); opacity:1.0;                     line-height:1.75\"><font color=\"black\"> like                    </font></mark><mark style=\"background-color: hsl(120, 75%, 99%); opacity:1.0;                     line-height:1.75\"><font color=\"black\"> human                    </font></mark><mark style=\"background-color: hsl(0, 75%, 99%); opacity:1.0;                     line-height:1.75\"><font color=\"black\"> beings                    </font></mark><mark style=\"background-color: hsl(120, 75%, 91%); opacity:1.0;                     line-height:1.75\"><font color=\"black\"> bleed                    </font></mark><mark style=\"background-color: hsl(120, 75%, 100%); opacity:1.0;                     line-height:1.75\"><font color=\"black\"> paint                    </font></mark><mark style=\"background-color: hsl(120, 75%, 97%); opacity:1.0;                     line-height:1.75\"><font color=\"black\"> that                    </font></mark><mark style=\"background-color: hsl(120, 75%, 93%); opacity:1.0;                     line-height:1.75\"><font color=\"black\"> looks                    </font></mark><mark style=\"background-color: hsl(120, 75%, 98%); opacity:1.0;                     line-height:1.75\"><font color=\"black\"> like                    </font></mark><mark style=\"background-color: hsl(120, 75%, 98%); opacity:1.0;                     line-height:1.75\"><font color=\"black\"> blood,                    </font></mark><mark style=\"background-color: hsl(0, 75%, 100%); opacity:1.0;                     line-height:1.75\"><font color=\"black\"> is                    </font></mark><mark style=\"background-color: hsl(0, 75%, 95%); opacity:1.0;                     line-height:1.75\"><font color=\"black\"> like                    </font></mark><mark style=\"background-color: hsl(120, 75%, 93%); opacity:1.0;                     line-height:1.75\"><font color=\"black\"> comparing                    </font></mark><mark style=\"background-color: hsl(120, 75%, 96%); opacity:1.0;                     line-height:1.75\"><font color=\"black\"> monopoly                    </font></mark><mark style=\"background-color: hsl(0, 75%, 98%); opacity:1.0;                     line-height:1.75\"><font color=\"black\"> with                    </font></mark><mark style=\"background-color: hsl(120, 75%, 96%); opacity:1.0;                     line-height:1.75\"><font color=\"black\"> the                    </font></mark><mark style=\"background-color: hsl(0, 75%, 99%); opacity:1.0;                     line-height:1.75\"><font color=\"black\"> property                    </font></mark><mark style=\"background-color: hsl(120, 75%, 90%); opacity:1.0;                     line-height:1.75\"><font color=\"black\"> market                    </font></mark><mark style=\"background-color: hsl(120, 75%, 97%); opacity:1.0;                     line-height:1.75\"><font color=\"black\"> in                    </font></mark><mark style=\"background-color: hsl(0, 75%, 100%); opacity:1.0;                     line-height:1.75\"><font color=\"black\"> london:                    </font></mark><mark style=\"background-color: hsl(0, 75%, 98%); opacity:1.0;                     line-height:1.75\"><font color=\"black\"> both                    </font></mark><mark style=\"background-color: hsl(0, 75%, 100%); opacity:1.0;                     line-height:1.75\"><font color=\"black\"> are                    </font></mark><mark style=\"background-color: hsl(120, 75%, 100%); opacity:1.0;                     line-height:1.75\"><font color=\"black\"> fantasies,                    </font></mark><mark style=\"background-color: hsl(0, 75%, 96%); opacity:1.0;                     line-height:1.75\"><font color=\"black\"> but                    </font></mark><mark style=\"background-color: hsl(0, 75%, 99%); opacity:1.0;                     line-height:1.75\"><font color=\"black\"> one                    </font></mark><mark style=\"background-color: hsl(0, 75%, 100%); opacity:1.0;                     line-height:1.75\"><font color=\"black\"> is                    </font></mark><mark style=\"background-color: hsl(0, 75%, 98%); opacity:1.0;                     line-height:1.75\"><font color=\"black\"> meant                    </font></mark><mark style=\"background-color: hsl(0, 75%, 95%); opacity:1.0;                     line-height:1.75\"><font color=\"black\"> to                    </font></mark><mark style=\"background-color: hsl(120, 75%, 98%); opacity:1.0;                     line-height:1.75\"><font color=\"black\"> be                    </font></mark><mark style=\"background-color: hsl(120, 75%, 97%); opacity:1.0;                     line-height:1.75\"><font color=\"black\"> taken                    </font></mark><mark style=\"background-color: hsl(120, 75%, 95%); opacity:1.0;                     line-height:1.75\"><font color=\"black\"> seriously.\"                    </font></mark><mark style=\"background-color: hsl(120, 75%, 96%); opacity:1.0;                     line-height:1.75\"><font color=\"black\"> [SEP]                    </font></mark></td><tr></table>"
      ],
      "text/plain": [
       "<IPython.core.display.HTML object>"
      ]
     },
     "metadata": {},
     "output_type": "display_data"
    },
    {
     "name": "stderr",
     "output_type": "stream",
     "text": [
      "/home/user/anaconda3/envs/metric/lib/python3.9/site-packages/captum/attr/_core/lime.py:1096: UserWarning: Attempting to construct interpretable model with > 10000 features.This can be very slow or lead to OOM issues. Please provide a featuremask which groups input features to reduce the number of interpretablefeatures. \n",
      "  warnings.warn(\n"
     ]
    },
    {
     "name": "stdout",
     "output_type": "stream",
     "text": [
      "<IPython.core.display.HTML object>\n",
      "Raw datum: ['If the apparant force of two fermions is attractive, what is the spin function?', 'If two identical fermions (e.g. electrons) have a symmetric spin function (e.g. parallel spins) the spatial variables must be antisymmetric (i.e. they exclude each other from their places much as if there was a repulsive force), and vice versa, i.e. for antiparallel spins the position variables must be symmetric (i.e. the apparent force must be attractive).']\n",
      "GT target: 1\n"
     ]
    },
    {
     "name": "stderr",
     "output_type": "stream",
     "text": [
      "Lime attribution: 100%|██████████████████████████████████████████████████████████████████████████████████████████████████████████| 5/5 [00:08<00:00,  1.71s/it]\n"
     ]
    },
    {
     "name": "stdout",
     "output_type": "stream",
     "text": [
      "word attr tensor([ 0.0192,  0.0380,  0.1420,  0.2164, -0.0426,  0.0660, -0.0106, -0.0253,\n",
      "        -0.0054,  0.0260, -0.1115, -0.0783, -0.0862, -0.2678,  0.1400,  0.0348,\n",
      "        -0.0047, -0.0415,  0.1713,  0.0256, -0.0706, -0.0396,  0.0175, -0.1527,\n",
      "        -0.0578, -0.1054, -0.0375, -0.0154, -0.0263,  0.1724, -0.0029,  0.0344,\n",
      "         0.0210, -0.0861,  0.0978, -0.1109,  0.0955, -0.0199,  0.0958,  0.2416,\n",
      "         0.0587, -0.0125,  0.0996, -0.0084, -0.0535,  0.0290,  0.1997, -0.0746,\n",
      "         0.0366,  0.1220, -0.0224, -0.0291,  0.0121,  0.1180, -0.0139,  0.0048,\n",
      "         0.0472,  0.0612, -0.0710, -0.0311, -0.0046, -0.1525, -0.0010, -0.0170,\n",
      "         0.0088, -0.0716, -0.0496, -0.0396, -0.0381, -0.0146, -0.1205, -0.0649,\n",
      "         0.0220,  0.0193, -0.0368,  0.0157,  0.0449, -0.0685, -0.0201, -0.0599,\n",
      "         0.0597, -0.1634, -0.1503, -0.0246, -0.0272,  0.1238, -0.0287, -0.1160,\n",
      "        -0.1199, -0.0963,  0.0954,  0.0613, -0.0719, -0.1883, -0.1579,  0.1499,\n",
      "         0.0157, -0.0606,  0.0765,  0.2534, -0.0346,  0.0931,  0.2123,  0.0032,\n",
      "         0.1505, -0.0053,  0.1001,  0.0594,  0.0245, -0.0755,  0.0482,  0.0486,\n",
      "         0.0014, -0.1767, -0.0042], device='cuda:0')\n",
      "conti attr [tensor(0.0192, device='cuda:0'), tensor(0.0380, device='cuda:0'), tensor(0.1420, device='cuda:0'), tensor(0.0764, device='cuda:0'), tensor(-0.0106, device='cuda:0'), tensor(-0.0253, device='cuda:0'), tensor(-0.0054, device='cuda:0'), tensor(-0.0605, device='cuda:0'), tensor(-0.0862, device='cuda:0'), tensor(-0.0639, device='cuda:0'), tensor(0.0348, device='cuda:0'), tensor(-0.0047, device='cuda:0'), tensor(-0.0415, device='cuda:0'), tensor(0.1713, device='cuda:0'), tensor(-0.0225, device='cuda:0'), tensor(-0.0396, device='cuda:0'), tensor(0.0175, device='cuda:0'), tensor(-0.1527, device='cuda:0'), tensor(-0.0578, device='cuda:0'), tensor(-0.1054, device='cuda:0'), tensor(-0.0264, device='cuda:0'), tensor(-0.0229, device='cuda:0'), tensor(-0.0065, device='cuda:0'), tensor(0.0955, device='cuda:0'), tensor(-0.0199, device='cuda:0'), tensor(0.0958, device='cuda:0'), tensor(0.2416, device='cuda:0'), tensor(0.0587, device='cuda:0'), tensor(0.0055, device='cuda:0'), tensor(0.1997, device='cuda:0'), tensor(-0.0190, device='cuda:0'), tensor(0.1220, device='cuda:0'), tensor(-0.0224, device='cuda:0'), tensor(-0.0291, device='cuda:0'), tensor(0.0121, device='cuda:0'), tensor(0.1180, device='cuda:0'), tensor(0.0412, device='cuda:0'), tensor(-0.0456, device='cuda:0'), tensor(-0.0170, device='cuda:0'), tensor(0.0088, device='cuda:0'), tensor(-0.0716, device='cuda:0'), tensor(-0.0496, device='cuda:0'), tensor(-0.0396, device='cuda:0'), tensor(-0.0381, device='cuda:0'), tensor(-0.0146, device='cuda:0'), tensor(-0.1205, device='cuda:0'), tensor(-0.0649, device='cuda:0'), tensor(0.0220, device='cuda:0'), tensor(0.0193, device='cuda:0'), tensor(-0.0368, device='cuda:0'), tensor(0.0157, device='cuda:0'), tensor(-0.0118, device='cuda:0'), tensor(0.0099, device='cuda:0'), tensor(-0.1634, device='cuda:0'), tensor(-0.1503, device='cuda:0'), tensor(-0.0259, device='cuda:0'), tensor(-0.0771, device='cuda:0'), tensor(-0.0963, device='cuda:0'), tensor(-0.0925, device='cuda:0'), tensor(-0.1579, device='cuda:0'), tensor(0.1499, device='cuda:0'), tensor(0.0157, device='cuda:0'), tensor(-0.0606, device='cuda:0'), tensor(0.0765, device='cuda:0'), tensor(0.2534, device='cuda:0'), tensor(-0.0346, device='cuda:0'), tensor(0.0544, device='cuda:0'), tensor(0.1001, device='cuda:0'), tensor(0.0594, device='cuda:0'), tensor(0.0245, device='cuda:0'), tensor(-0.0755, device='cuda:0'), tensor(0.0482, device='cuda:0'), tensor(-0.0758, device='cuda:0'), tensor(-0.0042, device='cuda:0')]\n",
      "detokenized ['[CLS]', 'if', 'the', 'app', 'aran', 't', 'force', 'of', 'two', 'fe', 'rmi', 'ons', 'is', 'attractive', ',', 'what', 'is', 'the', 'spin', 'function', '?', '[SEP]', '[SEP]', 'if', 'two', 'identical', 'fe', 'rmi', 'ons', '(', 'e', '.', 'g', '.', 'electrons', ')', 'have', 'a', 'symmetric', 'spin', 'function', '(', 'e', '.', 'g', '.', 'parallel', 'spins', ')', 'the', 'spatial', 'variables', 'must', 'be', 'anti', 'sy', 'mme', 'tric', '(', 'i', '.', 'e', '.', 'they', 'exclude', 'each', 'other', 'from', 'their', 'places', 'much', 'as', 'if', 'there', 'was', 'a', 'rep', 'ulsive', 'force', ')', ',', 'and', 'vice', 'versa', ',', 'i', '.', 'e', '.', 'for', 'anti', 'para', 'lle', 'l', 'spins', 'the', 'position', 'variables', 'must', 'be', 'symmetric', '(', 'i', '.', 'e', '.', 'the', 'apparent', 'force', 'must', 'be', 'attractive', ')', '.', '[SEP]']\n",
      "len conti_raw 74\n",
      "conti_raw ['[CLS]', 'if', 'the', 'apparant', 'force', 'of', 'two', 'fermions', 'is', 'attractive,', 'what', 'is', 'the', 'spin', 'function?', '[SEP]', '[SEP]', 'if', 'two', 'identical', 'fermions', '(e.g.', 'electrons)', 'have', 'a', 'symmetric', 'spin', 'function', '(e.g.', 'parallel', 'spins)', 'the', 'spatial', 'variables', 'must', 'be', 'antisymmetric', '(i.e.', 'they', 'exclude', 'each', 'other', 'from', 'their', 'places', 'much', 'as', 'if', 'there', 'was', 'a', 'repulsive', 'force),', 'and', 'vice', 'versa,', 'i.e.', 'for', 'antiparallel', 'spins', 'the', 'position', 'variables', 'must', 'be', 'symmetric', '(i.e.', 'the', 'apparent', 'force', 'must', 'be', 'attractive).', '[SEP]']\n",
      "pred_prob 0.3203403353691101\n"
     ]
    },
    {
     "data": {
      "text/html": [
       "<table width: 100%><div style=\"border-top: 1px solid; margin-top: 5px;             padding-top: 5px; display: inline-block\"><b>Legend: </b><span style=\"display: inline-block; width: 10px; height: 10px;                 border: 1px solid; background-color:                 hsl(0, 75%, 60%)\"></span> Negative  <span style=\"display: inline-block; width: 10px; height: 10px;                 border: 1px solid; background-color:                 hsl(0, 75%, 100%)\"></span> Neutral  <span style=\"display: inline-block; width: 10px; height: 10px;                 border: 1px solid; background-color:                 hsl(120, 75%, 50%)\"></span> Positive  </div><tr><th>True Label</th><th>Predicted Label</th><th>Attribution Label</th><th>Attribution Score</th><th>Word Importance</th><tr><td><text style=\"padding-right:2em\"><b>Entailment</b></text></td><td><text style=\"padding-right:2em\"><b>No Entailment (0.32)</b></text></td><td><text style=\"padding-right:2em\"><b>No Entailment</b></text></td><td><text style=\"padding-right:2em\"><b>0.16</b></text></td><td><mark style=\"background-color: hsl(120, 75%, 100%); opacity:1.0;                     line-height:1.75\"><font color=\"black\"> [CLS]                    </font></mark><mark style=\"background-color: hsl(120, 75%, 99%); opacity:1.0;                     line-height:1.75\"><font color=\"black\"> if                    </font></mark><mark style=\"background-color: hsl(120, 75%, 93%); opacity:1.0;                     line-height:1.75\"><font color=\"black\"> the                    </font></mark><mark style=\"background-color: hsl(120, 75%, 97%); opacity:1.0;                     line-height:1.75\"><font color=\"black\"> apparant                    </font></mark><mark style=\"background-color: hsl(0, 75%, 100%); opacity:1.0;                     line-height:1.75\"><font color=\"black\"> force                    </font></mark><mark style=\"background-color: hsl(0, 75%, 99%); opacity:1.0;                     line-height:1.75\"><font color=\"black\"> of                    </font></mark><mark style=\"background-color: hsl(0, 75%, 100%); opacity:1.0;                     line-height:1.75\"><font color=\"black\"> two                    </font></mark><mark style=\"background-color: hsl(0, 75%, 98%); opacity:1.0;                     line-height:1.75\"><font color=\"black\"> fermions                    </font></mark><mark style=\"background-color: hsl(0, 75%, 97%); opacity:1.0;                     line-height:1.75\"><font color=\"black\"> is                    </font></mark><mark style=\"background-color: hsl(0, 75%, 98%); opacity:1.0;                     line-height:1.75\"><font color=\"black\"> attractive,                    </font></mark><mark style=\"background-color: hsl(120, 75%, 99%); opacity:1.0;                     line-height:1.75\"><font color=\"black\"> what                    </font></mark><mark style=\"background-color: hsl(0, 75%, 100%); opacity:1.0;                     line-height:1.75\"><font color=\"black\"> is                    </font></mark><mark style=\"background-color: hsl(0, 75%, 99%); opacity:1.0;                     line-height:1.75\"><font color=\"black\"> the                    </font></mark><mark style=\"background-color: hsl(120, 75%, 92%); opacity:1.0;                     line-height:1.75\"><font color=\"black\"> spin                    </font></mark><mark style=\"background-color: hsl(0, 75%, 100%); opacity:1.0;                     line-height:1.75\"><font color=\"black\"> function?                    </font></mark><mark style=\"background-color: hsl(0, 75%, 99%); opacity:1.0;                     line-height:1.75\"><font color=\"black\"> [SEP]                    </font></mark><mark style=\"background-color: hsl(120, 75%, 100%); opacity:1.0;                     line-height:1.75\"><font color=\"black\"> [SEP]                    </font></mark><mark style=\"background-color: hsl(0, 75%, 94%); opacity:1.0;                     line-height:1.75\"><font color=\"black\"> if                    </font></mark><mark style=\"background-color: hsl(0, 75%, 98%); opacity:1.0;                     line-height:1.75\"><font color=\"black\"> two                    </font></mark><mark style=\"background-color: hsl(0, 75%, 96%); opacity:1.0;                     line-height:1.75\"><font color=\"black\"> identical                    </font></mark><mark style=\"background-color: hsl(0, 75%, 99%); opacity:1.0;                     line-height:1.75\"><font color=\"black\"> fermions                    </font></mark><mark style=\"background-color: hsl(0, 75%, 100%); opacity:1.0;                     line-height:1.75\"><font color=\"black\"> (e.g.                    </font></mark><mark style=\"background-color: hsl(0, 75%, 100%); opacity:1.0;                     line-height:1.75\"><font color=\"black\"> electrons)                    </font></mark><mark style=\"background-color: hsl(120, 75%, 96%); opacity:1.0;                     line-height:1.75\"><font color=\"black\"> have                    </font></mark><mark style=\"background-color: hsl(0, 75%, 100%); opacity:1.0;                     line-height:1.75\"><font color=\"black\"> a                    </font></mark><mark style=\"background-color: hsl(120, 75%, 96%); opacity:1.0;                     line-height:1.75\"><font color=\"black\"> symmetric                    </font></mark><mark style=\"background-color: hsl(120, 75%, 88%); opacity:1.0;                     line-height:1.75\"><font color=\"black\"> spin                    </font></mark><mark style=\"background-color: hsl(120, 75%, 98%); opacity:1.0;                     line-height:1.75\"><font color=\"black\"> function                    </font></mark><mark style=\"background-color: hsl(120, 75%, 100%); opacity:1.0;                     line-height:1.75\"><font color=\"black\"> (e.g.                    </font></mark><mark style=\"background-color: hsl(120, 75%, 91%); opacity:1.0;                     line-height:1.75\"><font color=\"black\"> parallel                    </font></mark><mark style=\"background-color: hsl(0, 75%, 100%); opacity:1.0;                     line-height:1.75\"><font color=\"black\"> spins)                    </font></mark><mark style=\"background-color: hsl(120, 75%, 94%); opacity:1.0;                     line-height:1.75\"><font color=\"black\"> the                    </font></mark><mark style=\"background-color: hsl(0, 75%, 100%); opacity:1.0;                     line-height:1.75\"><font color=\"black\"> spatial                    </font></mark><mark style=\"background-color: hsl(0, 75%, 99%); opacity:1.0;                     line-height:1.75\"><font color=\"black\"> variables                    </font></mark><mark style=\"background-color: hsl(120, 75%, 100%); opacity:1.0;                     line-height:1.75\"><font color=\"black\"> must                    </font></mark><mark style=\"background-color: hsl(120, 75%, 95%); opacity:1.0;                     line-height:1.75\"><font color=\"black\"> be                    </font></mark><mark style=\"background-color: hsl(120, 75%, 98%); opacity:1.0;                     line-height:1.75\"><font color=\"black\"> antisymmetric                    </font></mark><mark style=\"background-color: hsl(0, 75%, 99%); opacity:1.0;                     line-height:1.75\"><font color=\"black\"> (i.e.                    </font></mark><mark style=\"background-color: hsl(0, 75%, 100%); opacity:1.0;                     line-height:1.75\"><font color=\"black\"> they                    </font></mark><mark style=\"background-color: hsl(120, 75%, 100%); opacity:1.0;                     line-height:1.75\"><font color=\"black\"> exclude                    </font></mark><mark style=\"background-color: hsl(0, 75%, 98%); opacity:1.0;                     line-height:1.75\"><font color=\"black\"> each                    </font></mark><mark style=\"background-color: hsl(0, 75%, 99%); opacity:1.0;                     line-height:1.75\"><font color=\"black\"> other                    </font></mark><mark style=\"background-color: hsl(0, 75%, 99%); opacity:1.0;                     line-height:1.75\"><font color=\"black\"> from                    </font></mark><mark style=\"background-color: hsl(0, 75%, 99%); opacity:1.0;                     line-height:1.75\"><font color=\"black\"> their                    </font></mark><mark style=\"background-color: hsl(0, 75%, 100%); opacity:1.0;                     line-height:1.75\"><font color=\"black\"> places                    </font></mark><mark style=\"background-color: hsl(0, 75%, 96%); opacity:1.0;                     line-height:1.75\"><font color=\"black\"> much                    </font></mark><mark style=\"background-color: hsl(0, 75%, 98%); opacity:1.0;                     line-height:1.75\"><font color=\"black\"> as                    </font></mark><mark style=\"background-color: hsl(120, 75%, 99%); opacity:1.0;                     line-height:1.75\"><font color=\"black\"> if                    </font></mark><mark style=\"background-color: hsl(120, 75%, 100%); opacity:1.0;                     line-height:1.75\"><font color=\"black\"> there                    </font></mark><mark style=\"background-color: hsl(0, 75%, 99%); opacity:1.0;                     line-height:1.75\"><font color=\"black\"> was                    </font></mark><mark style=\"background-color: hsl(120, 75%, 100%); opacity:1.0;                     line-height:1.75\"><font color=\"black\"> a                    </font></mark><mark style=\"background-color: hsl(0, 75%, 100%); opacity:1.0;                     line-height:1.75\"><font color=\"black\"> repulsive                    </font></mark><mark style=\"background-color: hsl(120, 75%, 100%); opacity:1.0;                     line-height:1.75\"><font color=\"black\"> force),                    </font></mark><mark style=\"background-color: hsl(0, 75%, 94%); opacity:1.0;                     line-height:1.75\"><font color=\"black\"> and                    </font></mark><mark style=\"background-color: hsl(0, 75%, 94%); opacity:1.0;                     line-height:1.75\"><font color=\"black\"> vice                    </font></mark><mark style=\"background-color: hsl(0, 75%, 99%); opacity:1.0;                     line-height:1.75\"><font color=\"black\"> versa,                    </font></mark><mark style=\"background-color: hsl(0, 75%, 97%); opacity:1.0;                     line-height:1.75\"><font color=\"black\"> i.e.                    </font></mark><mark style=\"background-color: hsl(0, 75%, 97%); opacity:1.0;                     line-height:1.75\"><font color=\"black\"> for                    </font></mark><mark style=\"background-color: hsl(0, 75%, 97%); opacity:1.0;                     line-height:1.75\"><font color=\"black\"> antiparallel                    </font></mark><mark style=\"background-color: hsl(0, 75%, 94%); opacity:1.0;                     line-height:1.75\"><font color=\"black\"> spins                    </font></mark><mark style=\"background-color: hsl(120, 75%, 93%); opacity:1.0;                     line-height:1.75\"><font color=\"black\"> the                    </font></mark><mark style=\"background-color: hsl(120, 75%, 100%); opacity:1.0;                     line-height:1.75\"><font color=\"black\"> position                    </font></mark><mark style=\"background-color: hsl(0, 75%, 98%); opacity:1.0;                     line-height:1.75\"><font color=\"black\"> variables                    </font></mark><mark style=\"background-color: hsl(120, 75%, 97%); opacity:1.0;                     line-height:1.75\"><font color=\"black\"> must                    </font></mark><mark style=\"background-color: hsl(120, 75%, 88%); opacity:1.0;                     line-height:1.75\"><font color=\"black\"> be                    </font></mark><mark style=\"background-color: hsl(0, 75%, 99%); opacity:1.0;                     line-height:1.75\"><font color=\"black\"> symmetric                    </font></mark><mark style=\"background-color: hsl(120, 75%, 98%); opacity:1.0;                     line-height:1.75\"><font color=\"black\"> (i.e.                    </font></mark><mark style=\"background-color: hsl(120, 75%, 95%); opacity:1.0;                     line-height:1.75\"><font color=\"black\"> the                    </font></mark><mark style=\"background-color: hsl(120, 75%, 98%); opacity:1.0;                     line-height:1.75\"><font color=\"black\"> apparent                    </font></mark><mark style=\"background-color: hsl(120, 75%, 99%); opacity:1.0;                     line-height:1.75\"><font color=\"black\"> force                    </font></mark><mark style=\"background-color: hsl(0, 75%, 97%); opacity:1.0;                     line-height:1.75\"><font color=\"black\"> must                    </font></mark><mark style=\"background-color: hsl(120, 75%, 98%); opacity:1.0;                     line-height:1.75\"><font color=\"black\"> be                    </font></mark><mark style=\"background-color: hsl(0, 75%, 97%); opacity:1.0;                     line-height:1.75\"><font color=\"black\"> attractive).                    </font></mark><mark style=\"background-color: hsl(0, 75%, 100%); opacity:1.0;                     line-height:1.75\"><font color=\"black\"> [SEP]                    </font></mark></td><tr></table>"
      ],
      "text/plain": [
       "<IPython.core.display.HTML object>"
      ]
     },
     "metadata": {},
     "output_type": "display_data"
    },
    {
     "name": "stdout",
     "output_type": "stream",
     "text": [
      "<IPython.core.display.HTML object>\n"
     ]
    }
   ],
   "source": [
    "for i, (datum_raw, target) in enumerate(zip(qnli_data_raw, targets), start=1):\n",
    "#     example_1 = \"How many times has the South Florida/Miami area hosted the Super Bowl?\"\n",
    "#     example_2 = \"The South Florida/Miami area has previously hosted the event 10 times (tied for most with New Orleans), with the most recent one being Super Bowl XLIV in 2010.\"\n",
    "    \n",
    "#     example_1 = \"When did the third Digimon series begin?\"\n",
    "#     example_2 = \"Unlike the two seasons before it and most of the seasons that followed, Digimon Tamers takes a darker and more realistic approach to its story featuring Digimon who do not reincarnate after their deaths and more complex character development in the original Japanese.\"\n",
    "#     datum_raw, target = [example_1, example_2], 1\n",
    "    print(f'Raw datum: {datum_raw}') #datum expected to be a list of 2 sentences\n",
    "    print(f'GT target: {target}')\n",
    "    visual_record=generate_record(datum_raw, target)\n",
    "    print(visualization.visualize_text([visual_record])) \n"
   ]
  },
  {
   "cell_type": "code",
   "execution_count": 9,
   "id": "c5ca5004",
   "metadata": {},
   "outputs": [],
   "source": [
    "file_name_base = 'LIME'"
   ]
  },
  {
   "cell_type": "code",
   "execution_count": 10,
   "id": "ce01966e",
   "metadata": {
    "scrolled": true
   },
   "outputs": [
    {
     "data": {
      "text/plain": [
       "{'indices': [4013,\n",
       "  2281,\n",
       "  2771,\n",
       "  5109,\n",
       "  1852,\n",
       "  2016,\n",
       "  642,\n",
       "  3912,\n",
       "  4427,\n",
       "  2330,\n",
       "  4581,\n",
       "  2611,\n",
       "  5186,\n",
       "  2700,\n",
       "  4920,\n",
       "  4335,\n",
       "  1246,\n",
       "  2811,\n",
       "  5290,\n",
       "  5385,\n",
       "  4774,\n",
       "  653,\n",
       "  2816,\n",
       "  916,\n",
       "  3297,\n",
       "  3459,\n",
       "  1475,\n",
       "  1287,\n",
       "  4548,\n",
       "  1476,\n",
       "  2328,\n",
       "  2208,\n",
       "  2772,\n",
       "  5301,\n",
       "  869,\n",
       "  4968,\n",
       "  4456,\n",
       "  4711,\n",
       "  1929,\n",
       "  634,\n",
       "  3774,\n",
       "  5389,\n",
       "  497,\n",
       "  4901,\n",
       "  4602,\n",
       "  831,\n",
       "  1292,\n",
       "  1087,\n",
       "  3159,\n",
       "  3492],\n",
       " 'raw_data': [['What would a teacher assess the levels of a student on?',\n",
       "   'For example, an experienced teacher and parent described the place of a teacher in learning as follows: \"The real bulk of learning takes place in self-study and problem solving with a lot of feedback around that loop.'],\n",
       "  ['What company created Doctor Who?',\n",
       "   'Who character by BBC Television in the early 1960s, a myriad of stories have been published about Doctor Who, in different media: apart from the actual television episodes that continue to be produced by the BBC, there have also been novels, comics, short stories, audio books, radio plays, interactive video games, game books, webcasts, DVD extras, and even stage performances.'],\n",
       "  ['What was the name of the Media Day event for Super Bowl 50?',\n",
       "   \"The game's media day, which was typically held on the Tuesday afternoon prior to the game, was moved to the Monday evening and re-branded as Super Bowl Opening Night.\"],\n",
       "  ['How many Doctor Who soundtracks have been released since 2005?',\n",
       "   'The fourth was released on 4 October 2010 as a two disc special edition and contained music from the 2008–2010 specials (The Next Doctor to End of Time Part 2).'],\n",
       "  [\"What is the name of the country's longest continuously running student film society?\",\n",
       "   'Students at the University of Chicago run over 400 clubs and organizations known as Recognized Student Organizations (RSOs).'],\n",
       "  ['How many times has the South Florida/Miami area hosted the Super Bowl?',\n",
       "   'The South Florida/Miami area has previously hosted the event 10 times (tied for most with New Orleans), with the most recent one being Super Bowl XLIV in 2010.'],\n",
       "  ['What is different about Paulinella chromatophora?',\n",
       "   'It is not clear whether that symbiont is closely related to the ancestral chloroplast of other eukaryotes.'],\n",
       "  [\"Who played Doctor Who on stage in the 70's?\",\n",
       "   'Doctor Who has appeared on stage numerous times.'],\n",
       "  ['Who do clinical pharmacists work with much of the time?',\n",
       "   'Clinical pharmacists often collaborate with physicians and other healthcare professionals to improve pharmaceutical care.'],\n",
       "  ['In which county does Jacksonville reside?',\n",
       "   'It is the county seat of Duval County, with which the city government consolidated in 1968.'],\n",
       "  ['Who did Genghis Khan charge with finding and punishing the Shah?',\n",
       "   'Genghis Khan ordered the wholesale massacre of many of the civilians, enslaved the rest of the population and executed Inalchuq by pouring molten silver into his ears and eyes, as retribution for his actions.'],\n",
       "  ['What entity enforces the Charter of Fundamental Rights of the European Union?',\n",
       "   'In effect, after the Lisbon Treaty, the Charter and the Convention now co-exist under European Union law, though the former is enforced by the European Court of Justice in relation to European Union measures, and the latter by the European Court of Human Rights in relation to measures by member states.'],\n",
       "  [\"Most of the museum's collection had been returned by which year?\",\n",
       "   'Before the return of the collections after the war, the Britain Can Make It exhibition was held between September and November 1946, attracting nearly a million and a half visitors.'],\n",
       "  ['Within the 30 days how many digiboxes had been sold?',\n",
       "   \"Within 30 days, over 100,000 digiboxes had been sold, which help bolstered BSkyB's decision to give away free digiboxes and minidishes from May 1999.\"],\n",
       "  ['The receptors on a killer T cell must bind to how many MHC: antigen complexes in order to activate the cell?',\n",
       "   \"The MHC:antigen complex is also recognized by the helper cell's CD4 co-receptor, which recruits molecules inside the T cell (e.g., Lck) that are responsible for the T cell's activation.\"],\n",
       "  [\"How much did Westinghouse pay for Tesla's designs?\",\n",
       "   \"In July 1888, Brown and Peck negotiated a licensing deal with George Westinghouse for Tesla's polyphase induction motor and transformer designs for $60,000 in cash and stock and a royalty of $2.50 per AC horsepower produced by each motor.\"],\n",
       "  [\"What type of movies were produced in Jacksonville's 30 studios?\",\n",
       "   'One converted movie studio site, Norman Studios, remains in Arlington; It has been converted to the Jacksonville Silent Film Museum at Norman Studios.'],\n",
       "  ['What voyager said that Mombasa was a great harbour and moored small crafts and great ships?',\n",
       "   'The Swahili built Mombasa into a major port city and established trade links with other nearby city-states, as well as commercial centres in Persia, Arabia, and even India.'],\n",
       "  ['Where is Energiprojekt AB based?',\n",
       "   'Although the reciprocating steam engine is no longer in widespread commercial use, various companies are exploring or exploiting the potential of the engine as an alternative to internal combustion engines.'],\n",
       "  ['Who other than Tesla did Westinghouse consider for the patents?',\n",
       "   \"Westinghouse looked into getting a patent on a similar commutator-less, rotating magnetic field-based induction motor presented in a paper in March 1888 by the Italian physicist Galileo Ferraris, but decided Tesla's patent would probably control the market.\"],\n",
       "  ['What separates the neuroimmune system and peripheral immune system in humans?',\n",
       "   'In humans, the blood–brain barrier, blood–cerebrospinal fluid barrier, and similar fluid–brain barriers separate the peripheral immune system from the neuroimmune system which protects the brain.'],\n",
       "  [\"What did Kublai's government have to balance between?\",\n",
       "   \"Kublai's government after 1262 was a compromise between preserving Mongol interests in China and satisfying the demands of his Chinese subjects.\"],\n",
       "  [\"What did Gasquet's book blame the plague on?\",\n",
       "   'The historian Francis Aidan Gasquet wrote about the \\'Great Pestilence\\' in 1893 and suggested that \"it would appear to be some form of the ordinary Eastern or bubonic plague\".'],\n",
       "  ['Who shared sideline duties with Evan Washburn?',\n",
       "   'In the United States, the game was televised by CBS, as part of a cycle between the three main broadcast television partners of the NFL.'],\n",
       "  ['Who was added to party as Washington went on the way?',\n",
       "   'Washington left with a small party, picking up along the way Jacob Van Braam as an interpreter; Christopher Gist, a company surveyor working in the area; and a few Mingo led by Tanaghrisson.'],\n",
       "  ['What did Queen Elizabeth II open in Newcastle in 1981?',\n",
       "   \"It was opened in five phases between 1980 and 1984, and was Britain's first urban light rail transit system; two extensions were opened in 1991 and 2002.\"],\n",
       "  ['What writing inspired the name Great Yuan?',\n",
       "   'Furthermore, the Yuan is sometimes known as the \"Empire of the Great Khan\" or \"Khanate of the Great Khan\", which particularly appeared on some Yuan maps, since Yuan emperors held the nominal title of Great Khan.'],\n",
       "  ['What happened to the East India Trading Company in 1767?',\n",
       "   'In 1599 the British East India Company was established and was chartered by Queen Elizabeth in the following year.'],\n",
       "  ['The principle of faunal succession was developed 100 years before whose theory of evolution?',\n",
       "   \"Based on principles laid out by William Smith almost a hundred years before the publication of Charles Darwin's theory of evolution, the principles of succession were developed independently of evolutionary thought.\"],\n",
       "  ['How many times did Luther preach in Halle in 1545 and 1546?',\n",
       "   'In 1545 and 1546 Luther preached three times in the Market Church in Halle, staying with his friend Justus Jonas during Christmas.'],\n",
       "  ['What part of the Rhine flows through North Rhine-Westphalia?',\n",
       "   'Here the Rhine flows through the largest conurbation in Germany, the Rhine-Ruhr region.'],\n",
       "  ['What is the most important thing apicoplasts do?',\n",
       "   'The most important apicoplast function is isopentenyl pyrophosphate synthesis—in fact, apicomplexans die when something interferes with this apicoplast function, and when apicomplexans are grown in an isopentenyl pyrophosphate-rich medium, they dump the organelle.'],\n",
       "  [\"When did ABC begin airing Dick Clark's New Year's Rockin' Eve?\",\n",
       "   \"Since 1974, ABC has generally aired Dick Clark's New Year's Rockin' Eve on New Year's Eve (hosted first by its creator Dick Clark, and later by his successor Ryan Seacrest); the only exception was in 1999, when ABC put it on a one-year hiatus to provide coverage of the international millennium festivities, though Clark's traditional countdown from Times Square was still featured within the coverage.\"],\n",
       "  ['The Kronenberg Palace had been an exceptional example of what type of architecture?',\n",
       "   'Despite that the Warsaw University of Technology building (1899–1902) is the most interesting of the late 19th-century architecture.'],\n",
       "  ['What was the definition of professionals, for this study?',\n",
       "   'It is important to note, however, that the British study referenced above is the only one of its kind and consisted of \"a random ... probability sample of 2,869 young people between the ages of 18 and 24 in a computer-assisted study\" and that the questions referred to \"sexual abuse with a professional,\" not necessarily a teacher.'],\n",
       "  ['bassett focuses on what to illustrate his idea?',\n",
       "   'To better illustrate this idea, Bassett focuses his analysis of the role of nineteenth-century maps during the \"scramble for Africa\".'],\n",
       "  ['Where did Tesla believe his talents came from?',\n",
       "   \"Tesla's mother, Đuka Tesla (née Mandić), whose father was also an Orthodox priest,:10 had a talent for making home craft tools, mechanical appliances, and the ability to memorize Serbian epic poems.\"],\n",
       "  ['Who was given the esteemed status of MVP for Super Bowl 50?',\n",
       "   'Denver linebacker Von Miller was named Super Bowl MVP, recording five solo tackles, 2½ sacks, and two forced fumbles.'],\n",
       "  ['What was the percentage of Black or African-Americans living in the city?',\n",
       "   'Hispanic or Latino of any race were 39.9% of the population.'],\n",
       "  ['What was the result of the 2007 election?',\n",
       "   'With International Criminal Court trial dates in 2013 for both President Kenyatta and Deputy President William Ruto related to the 2007 election aftermath, US President Barack Obama chose not to visit the country during his mid-2013 African trip.'],\n",
       "  ['What equation currently decribes the physics of force.',\n",
       "   'The notion \"force\" keeps its meaning in quantum mechanics, though one is now dealing with operators instead of classical variables and though the physics is now described by the Schrödinger equation instead of Newtonian equations.'],\n",
       "  ['What did Iqbal fear would weaken the spiritual foundations of Islam and Muslim society?',\n",
       "   'In his travels to Egypt, Afghanistan, Palestine and Syria, he promoted ideas of greater Islamic political co-operation and unity, calling for the shedding of nationalist differences.'],\n",
       "  ['In what meeting did Shirley lay out plans for 1756?',\n",
       "   'At a meeting in Albany in December 1755, he laid out his plans for 1756.'],\n",
       "  [\"In autoimmune disorders, the immune system doesn't distinguish between what types of cells?\",\n",
       "   'One of the functions of specialized cells (located in the thymus and bone marrow) is to present young lymphocytes with self antigens produced throughout the body and to eliminate those cells that recognize self-antigens, preventing autoimmunity.'],\n",
       "  ['Which husband and wife modern furniture design team are represented in the V&A furniture collection?',\n",
       "   'One of the finest pieces of continental furniture in the collection is the Rococo Augustus Rex Bureau Cabinet dated c1750 from Germany, with especially fine marquetry and ormolu mounts.'],\n",
       "  ['Why did oil start getting priced in terms of gold?',\n",
       "   \"Because oil was priced in dollars, oil producers' real income decreased.\"],\n",
       "  ['Who did Britain exploit in India?',\n",
       "   'Although a substantial number of colonies had been designed to provide economic profit and to ship resources to home ports in the seventeenth and eighteenth centuries, Fieldhouse suggests that in the nineteenth and twentieth centuries in places such as Africa and Asia, this idea is not necessarily valid:'],\n",
       "  ['What popular environmentalist is also a university alumni member?',\n",
       "   'In science, alumni include astronomers Carl Sagan, a prominent contributor to the scientific research of extraterrestrial life, and Edwin Hubble, known for \"Hubble\\'s Law\", NASA astronaut John M. Grunsfeld, geneticist James Watson, best known as one of the co-discoverers of the structure of DNA, experimental physicist Luis Alvarez, popular environmentalist David Suzuki, balloonist Jeannette Piccard, biologists Ernest Everett'],\n",
       "  ['What publication did Philip Howard work for?',\n",
       "   'Responding to the findings of the survey in The Times newspaper, journalist Philip Howard maintained that, \"to compare the violence of Dr Who, sired by a horse-laugh out of a nightmare, with the more realistic violence of other television series, where actors who look like human beings bleed paint that looks like blood, is like comparing Monopoly with the property market in London: both are fantasies, but one is meant to be taken seriously.\"'],\n",
       "  ['If the apparant force of two fermions is attractive, what is the spin function?',\n",
       "   'If two identical fermions (e.g. electrons) have a symmetric spin function (e.g. parallel spins) the spatial variables must be antisymmetric (i.e. they exclude each other from their places much as if there was a repulsive force), and vice versa, i.e. for antiparallel spins the position variables must be symmetric (i.e. the apparent force must be attractive).']],\n",
       " 'targets': [0,\n",
       "  1,\n",
       "  1,\n",
       "  0,\n",
       "  0,\n",
       "  1,\n",
       "  0,\n",
       "  0,\n",
       "  1,\n",
       "  1,\n",
       "  0,\n",
       "  1,\n",
       "  0,\n",
       "  1,\n",
       "  0,\n",
       "  1,\n",
       "  0,\n",
       "  0,\n",
       "  0,\n",
       "  1,\n",
       "  1,\n",
       "  1,\n",
       "  0,\n",
       "  0,\n",
       "  1,\n",
       "  0,\n",
       "  0,\n",
       "  0,\n",
       "  1,\n",
       "  1,\n",
       "  0,\n",
       "  1,\n",
       "  1,\n",
       "  0,\n",
       "  0,\n",
       "  1,\n",
       "  0,\n",
       "  1,\n",
       "  0,\n",
       "  1,\n",
       "  1,\n",
       "  0,\n",
       "  1,\n",
       "  0,\n",
       "  0,\n",
       "  1,\n",
       "  0,\n",
       "  1,\n",
       "  1,\n",
       "  1],\n",
       " 'model_out_list': [0.6311678290367126,\n",
       "  0.7619203925132751,\n",
       "  0.7368832230567932,\n",
       "  0.8182130455970764,\n",
       "  0.9198501110076904,\n",
       "  0.8666946887969971,\n",
       "  0.5214384198188782,\n",
       "  0.8973642587661743,\n",
       "  0.8218711018562317,\n",
       "  0.8931249976158142,\n",
       "  0.7466775178909302,\n",
       "  0.3837520182132721,\n",
       "  0.8580110669136047,\n",
       "  0.7189930081367493,\n",
       "  0.9368581175804138,\n",
       "  0.7738507390022278,\n",
       "  0.575401782989502,\n",
       "  0.9446513652801514,\n",
       "  0.8502684831619263,\n",
       "  0.7733870148658752,\n",
       "  0.8900112509727478,\n",
       "  0.13032764196395874,\n",
       "  0.7593749761581421,\n",
       "  0.9370878338813782,\n",
       "  0.8867630362510681,\n",
       "  0.8243213295936584,\n",
       "  0.9457733035087585,\n",
       "  0.7392330169677734,\n",
       "  0.3316514492034912,\n",
       "  0.909346342086792,\n",
       "  0.7328494191169739,\n",
       "  0.7642964720726013,\n",
       "  0.7005867958068848,\n",
       "  0.5980805158615112,\n",
       "  0.42063799500465393,\n",
       "  0.5277463793754578,\n",
       "  0.7914941310882568,\n",
       "  0.9407644867897034,\n",
       "  0.9827529191970825,\n",
       "  0.3425130546092987,\n",
       "  0.23880738019943237,\n",
       "  0.38441193103790283,\n",
       "  0.6875017881393433,\n",
       "  0.8891812562942505,\n",
       "  0.918213963508606,\n",
       "  0.3373945653438568,\n",
       "  0.6999862194061279,\n",
       "  0.31498053669929504,\n",
       "  0.7388923764228821,\n",
       "  0.3203403353691101],\n",
       " 'raw_attr_list': [tensor([[[ 0.0014,  0.0000,  0.0000,  ...,  0.0000,  0.0000,  0.0000],\n",
       "           [ 0.0000,  0.0000,  0.0000,  ...,  0.0000,  0.0000,  0.0000],\n",
       "           [ 0.0000,  0.0002,  0.0000,  ..., -0.0006,  0.0000,  0.0000],\n",
       "           ...,\n",
       "           [ 0.0000,  0.0000,  0.0000,  ..., -0.0016,  0.0000,  0.0000],\n",
       "           [ 0.0000,  0.0000,  0.0000,  ...,  0.0000,  0.0000, -0.0008],\n",
       "           [ 0.0000,  0.0000,  0.0000,  ...,  0.0000,  0.0000,  0.0000]]],\n",
       "         device='cuda:0'),\n",
       "  tensor([[[ 0.0000,  0.0000,  0.0000,  ..., -0.0016,  0.0000,  0.0000],\n",
       "           [ 0.0000,  0.0000,  0.0000,  ...,  0.0000,  0.0000,  0.0000],\n",
       "           [ 0.0000,  0.0000,  0.0000,  ...,  0.0000,  0.0000,  0.0000],\n",
       "           ...,\n",
       "           [ 0.0000,  0.0000,  0.0000,  ...,  0.0000,  0.0000,  0.0000],\n",
       "           [ 0.0000,  0.0000,  0.0000,  ...,  0.0000,  0.0000,  0.0000],\n",
       "           [ 0.0000,  0.0000,  0.0000,  ...,  0.0000,  0.0000,  0.0000]]],\n",
       "         device='cuda:0'),\n",
       "  tensor([[[ 0.0000,  0.0025,  0.0000,  ..., -0.0003,  0.0000,  0.0000],\n",
       "           [-0.0004,  0.0000,  0.0000,  ...,  0.0000,  0.0000,  0.0000],\n",
       "           [ 0.0000,  0.0000,  0.0000,  ...,  0.0000,  0.0000,  0.0000],\n",
       "           ...,\n",
       "           [ 0.0000,  0.0000,  0.0000,  ...,  0.0000,  0.0000,  0.0000],\n",
       "           [ 0.0000,  0.0000,  0.0000,  ...,  0.0000,  0.0021,  0.0000],\n",
       "           [ 0.0000,  0.0000,  0.0000,  ...,  0.0000,  0.0000,  0.0000]]],\n",
       "         device='cuda:0'),\n",
       "  tensor([[[ 0.0007,  0.0000,  0.0000,  ...,  0.0000,  0.0000, -0.0001],\n",
       "           [ 0.0000,  0.0000,  0.0000,  ...,  0.0000,  0.0000,  0.0000],\n",
       "           [ 0.0000,  0.0000,  0.0000,  ...,  0.0000,  0.0000,  0.0019],\n",
       "           ...,\n",
       "           [ 0.0000,  0.0000,  0.0000,  ...,  0.0000,  0.0000,  0.0000],\n",
       "           [ 0.0000,  0.0000,  0.0000,  ...,  0.0000,  0.0000,  0.0000],\n",
       "           [ 0.0006,  0.0000,  0.0000,  ...,  0.0010,  0.0000,  0.0000]]],\n",
       "         device='cuda:0'),\n",
       "  tensor([[[ 0.0000,  0.0000,  0.0000,  ..., -0.0012,  0.0000,  0.0000],\n",
       "           [ 0.0000,  0.0000,  0.0000,  ...,  0.0000,  0.0000,  0.0000],\n",
       "           [ 0.0000,  0.0000,  0.0000,  ...,  0.0000,  0.0006,  0.0000],\n",
       "           ...,\n",
       "           [ 0.0000,  0.0000,  0.0000,  ...,  0.0000,  0.0000,  0.0000],\n",
       "           [ 0.0000,  0.0000,  0.0000,  ...,  0.0000,  0.0000,  0.0000],\n",
       "           [ 0.0000,  0.0000,  0.0000,  ...,  0.0000,  0.0000,  0.0000]]],\n",
       "         device='cuda:0'),\n",
       "  tensor([[[0., 0., 0.,  ..., 0., 0., 0.],\n",
       "           [0., 0., 0.,  ..., 0., 0., 0.],\n",
       "           [0., 0., 0.,  ..., 0., 0., 0.],\n",
       "           ...,\n",
       "           [0., 0., 0.,  ..., 0., 0., 0.],\n",
       "           [0., 0., 0.,  ..., 0., 0., 0.],\n",
       "           [0., 0., 0.,  ..., 0., 0., 0.]]], device='cuda:0'),\n",
       "  tensor([[[ 0.0000,  0.0000,  0.0000,  ...,  0.0000,  0.0000,  0.0000],\n",
       "           [ 0.0000,  0.0000,  0.0000,  ...,  0.0000,  0.0000,  0.0000],\n",
       "           [ 0.0000,  0.0000,  0.0000,  ...,  0.0000,  0.0000,  0.0000],\n",
       "           ...,\n",
       "           [ 0.0000,  0.0000,  0.0000,  ...,  0.0000,  0.0000,  0.0000],\n",
       "           [ 0.0000,  0.0000,  0.0000,  ...,  0.0000,  0.0000,  0.0000],\n",
       "           [ 0.0000,  0.0000,  0.0000,  ...,  0.0000, -0.0003,  0.0000]]],\n",
       "         device='cuda:0'),\n",
       "  tensor([[[ 0.0000, -0.0039,  0.0000,  ...,  0.0000,  0.0007,  0.0000],\n",
       "           [ 0.0000,  0.0000,  0.0000,  ...,  0.0000,  0.0000, -0.0003],\n",
       "           [ 0.0000, -0.0081,  0.0000,  ...,  0.0000, -0.0025, -0.0016],\n",
       "           ...,\n",
       "           [ 0.0000,  0.0000,  0.0000,  ..., -0.0032,  0.0014,  0.0000],\n",
       "           [ 0.0000,  0.0037,  0.0000,  ...,  0.0000,  0.0000,  0.0000],\n",
       "           [ 0.0000,  0.0000,  0.0000,  ...,  0.0000,  0.0000,  0.0000]]],\n",
       "         device='cuda:0'),\n",
       "  tensor([[[ 0.0000,  0.0000,  0.0000,  ...,  0.0000,  0.0000,  0.0000],\n",
       "           [ 0.0000,  0.0000,  0.0000,  ...,  0.0000,  0.0000,  0.0000],\n",
       "           [ 0.0001,  0.0000,  0.0000,  ...,  0.0000,  0.0000,  0.0000],\n",
       "           ...,\n",
       "           [ 0.0000,  0.0000,  0.0000,  ...,  0.0000,  0.0000, -0.0012],\n",
       "           [ 0.0000,  0.0000,  0.0000,  ...,  0.0000,  0.0000,  0.0000],\n",
       "           [ 0.0000,  0.0000,  0.0000,  ...,  0.0000,  0.0000,  0.0000]]],\n",
       "         device='cuda:0'),\n",
       "  tensor([[[ 0.0000,  0.0000,  0.0000,  ..., -0.0008,  0.0000,  0.0000],\n",
       "           [ 0.0000,  0.0000,  0.0000,  ...,  0.0000,  0.0000,  0.0000],\n",
       "           [ 0.0000,  0.0000,  0.0000,  ...,  0.0000,  0.0000,  0.0000],\n",
       "           ...,\n",
       "           [ 0.0000,  0.0000,  0.0000,  ...,  0.0000,  0.0000,  0.0000],\n",
       "           [ 0.0000,  0.0000,  0.0000,  ...,  0.0000,  0.0000,  0.0000],\n",
       "           [ 0.0000,  0.0000,  0.0000,  ...,  0.0000,  0.0000, -0.0009]]],\n",
       "         device='cuda:0'),\n",
       "  tensor([[[ 0.0000,  0.0000,  0.0000,  ...,  0.0000,  0.0000,  0.0000],\n",
       "           [ 0.0000,  0.0000,  0.0000,  ...,  0.0000, -0.0016,  0.0000],\n",
       "           [ 0.0000,  0.0010,  0.0000,  ...,  0.0000,  0.0000,  0.0000],\n",
       "           ...,\n",
       "           [ 0.0000,  0.0000,  0.0000,  ...,  0.0000,  0.0000,  0.0000],\n",
       "           [ 0.0000, -0.0010,  0.0000,  ...,  0.0000,  0.0000,  0.0000],\n",
       "           [ 0.0000,  0.0000,  0.0000,  ...,  0.0000,  0.0000,  0.0000]]],\n",
       "         device='cuda:0'),\n",
       "  tensor([[[ 0.0000,  0.0000,  0.0000,  ...,  0.0000,  0.0000,  0.0000],\n",
       "           [ 0.0000, -0.0004,  0.0000,  ...,  0.0000,  0.0000,  0.0000],\n",
       "           [ 0.0000,  0.0000, -0.0005,  ...,  0.0000,  0.0000,  0.0000],\n",
       "           ...,\n",
       "           [ 0.0000,  0.0000,  0.0000,  ...,  0.0000,  0.0000,  0.0000],\n",
       "           [ 0.0000,  0.0000,  0.0000,  ...,  0.0000,  0.0000,  0.0000],\n",
       "           [ 0.0000,  0.0000,  0.0000,  ...,  0.0000,  0.0000, -0.0008]]],\n",
       "         device='cuda:0'),\n",
       "  tensor([[[ 0.0000,  0.0008,  0.0000,  ...,  0.0000,  0.0012,  0.0000],\n",
       "           [ 0.0000,  0.0000,  0.0000,  ...,  0.0000,  0.0000,  0.0000],\n",
       "           [ 0.0000,  0.0000,  0.0000,  ...,  0.0000, -0.0008,  0.0000],\n",
       "           ...,\n",
       "           [ 0.0000,  0.0000,  0.0000,  ...,  0.0000,  0.0000,  0.0000],\n",
       "           [ 0.0000,  0.0000,  0.0000,  ...,  0.0000,  0.0000,  0.0000],\n",
       "           [ 0.0000,  0.0000,  0.0000,  ...,  0.0000,  0.0000,  0.0000]]],\n",
       "         device='cuda:0'),\n",
       "  tensor([[[ 0.0000,  0.0000,  0.0000,  ...,  0.0000,  0.0000,  0.0000],\n",
       "           [ 0.0000,  0.0000,  0.0000,  ...,  0.0000,  0.0000,  0.0000],\n",
       "           [ 0.0000,  0.0000,  0.0000,  ...,  0.0000,  0.0000,  0.0000],\n",
       "           ...,\n",
       "           [ 0.0000,  0.0000,  0.0000,  ...,  0.0000,  0.0000,  0.0000],\n",
       "           [ 0.0000,  0.0000,  0.0000,  ...,  0.0000, -0.0004,  0.0000],\n",
       "           [ 0.0000,  0.0000,  0.0000,  ...,  0.0000,  0.0000,  0.0000]]],\n",
       "         device='cuda:0'),\n",
       "  tensor([[[0.0000, 0.0000, 0.0000,  ..., 0.0000, 0.0000, 0.0000],\n",
       "           [0.0000, 0.0000, 0.0000,  ..., 0.0000, 0.0000, 0.0000],\n",
       "           [0.0000, 0.0000, 0.0000,  ..., 0.0000, 0.0002, 0.0000],\n",
       "           ...,\n",
       "           [0.0000, 0.0000, 0.0000,  ..., 0.0000, 0.0000, 0.0000],\n",
       "           [0.0000, 0.0000, 0.0000,  ..., 0.0000, 0.0000, 0.0000],\n",
       "           [0.0000, 0.0000, 0.0000,  ..., 0.0000, 0.0000, 0.0000]]],\n",
       "         device='cuda:0'),\n",
       "  tensor([[[ 0.0000,  0.0000,  0.0000,  ...,  0.0000,  0.0000,  0.0000],\n",
       "           [ 0.0000,  0.0000,  0.0000,  ...,  0.0000,  0.0000,  0.0000],\n",
       "           [ 0.0000,  0.0000,  0.0000,  ..., -0.0036,  0.0000,  0.0000],\n",
       "           ...,\n",
       "           [ 0.0000,  0.0000,  0.0000,  ...,  0.0000,  0.0000,  0.0000],\n",
       "           [ 0.0000,  0.0000,  0.0000,  ...,  0.0000,  0.0000,  0.0000],\n",
       "           [-0.0021,  0.0000,  0.0000,  ...,  0.0000,  0.0000,  0.0000]]],\n",
       "         device='cuda:0'),\n",
       "  tensor([[[ 0.0000,  0.0000, -0.0002,  ...,  0.0000, -0.0029,  0.0000],\n",
       "           [ 0.0000,  0.0000,  0.0000,  ...,  0.0000,  0.0000,  0.0000],\n",
       "           [ 0.0000,  0.0000, -0.0009,  ...,  0.0028,  0.0000,  0.0000],\n",
       "           ...,\n",
       "           [ 0.0000,  0.0000,  0.0000,  ...,  0.0000,  0.0000,  0.0000],\n",
       "           [ 0.0000,  0.0000,  0.0000,  ...,  0.0000,  0.0000,  0.0000],\n",
       "           [ 0.0000,  0.0000,  0.0000,  ...,  0.0000,  0.0000,  0.0000]]],\n",
       "         device='cuda:0'),\n",
       "  tensor([[[ 0.0000,  0.0000,  0.0000,  ...,  0.0000,  0.0000,  0.0000],\n",
       "           [ 0.0000,  0.0000,  0.0000,  ...,  0.0000,  0.0000, -0.0016],\n",
       "           [-0.0023,  0.0000,  0.0000,  ...,  0.0000,  0.0000,  0.0000],\n",
       "           ...,\n",
       "           [ 0.0000,  0.0000,  0.0000,  ...,  0.0000,  0.0000, -0.0007],\n",
       "           [-0.0004,  0.0000,  0.0000,  ...,  0.0000,  0.0005,  0.0000],\n",
       "           [ 0.0000,  0.0000,  0.0000,  ...,  0.0000,  0.0000,  0.0000]]],\n",
       "         device='cuda:0'),\n",
       "  tensor([[[ 0.0000,  0.0000,  0.0000,  ...,  0.0000,  0.0000,  0.0000],\n",
       "           [-0.0006,  0.0000,  0.0000,  ...,  0.0000,  0.0000,  0.0000],\n",
       "           [ 0.0019,  0.0000,  0.0000,  ...,  0.0000,  0.0000,  0.0000],\n",
       "           ...,\n",
       "           [ 0.0000,  0.0000,  0.0000,  ...,  0.0000,  0.0000,  0.0000],\n",
       "           [ 0.0000,  0.0000,  0.0000,  ...,  0.0000,  0.0000,  0.0000],\n",
       "           [ 0.0000,  0.0000,  0.0000,  ...,  0.0000,  0.0000,  0.0000]]],\n",
       "         device='cuda:0'),\n",
       "  tensor([[[ 0.0000,  0.0010,  0.0000,  ...,  0.0000,  0.0000,  0.0000],\n",
       "           [ 0.0000, -0.0011,  0.0000,  ...,  0.0000,  0.0000,  0.0000],\n",
       "           [ 0.0000,  0.0000,  0.0000,  ...,  0.0000,  0.0000,  0.0000],\n",
       "           ...,\n",
       "           [ 0.0000,  0.0000,  0.0000,  ...,  0.0000,  0.0000,  0.0000],\n",
       "           [ 0.0000,  0.0000, -0.0005,  ...,  0.0000,  0.0000,  0.0000],\n",
       "           [ 0.0000,  0.0000,  0.0000,  ...,  0.0000,  0.0000,  0.0000]]],\n",
       "         device='cuda:0'),\n",
       "  tensor([[[ 0.0000,  0.0000,  0.0000,  ...,  0.0000, -0.0002,  0.0000],\n",
       "           [ 0.0000,  0.0000,  0.0000,  ...,  0.0000,  0.0000,  0.0000],\n",
       "           [ 0.0000,  0.0000,  0.0000,  ...,  0.0000,  0.0004,  0.0000],\n",
       "           ...,\n",
       "           [ 0.0000,  0.0000,  0.0000,  ...,  0.0000,  0.0000,  0.0000],\n",
       "           [ 0.0000,  0.0000,  0.0000,  ...,  0.0000,  0.0000,  0.0000],\n",
       "           [ 0.0000,  0.0000,  0.0000,  ...,  0.0000,  0.0000,  0.0000]]],\n",
       "         device='cuda:0'),\n",
       "  tensor([[[ 0.0000,  0.0000,  0.0000,  ..., -0.0016,  0.0000,  0.0000],\n",
       "           [ 0.0000,  0.0000, -0.0002,  ...,  0.0000,  0.0000,  0.0000],\n",
       "           [ 0.0000,  0.0010,  0.0000,  ...,  0.0000,  0.0000,  0.0000],\n",
       "           ...,\n",
       "           [-0.0002,  0.0000,  0.0000,  ...,  0.0000,  0.0006,  0.0000],\n",
       "           [ 0.0000,  0.0000,  0.0000,  ...,  0.0000,  0.0000,  0.0000],\n",
       "           [ 0.0000,  0.0000,  0.0000,  ...,  0.0000,  0.0000,  0.0000]]],\n",
       "         device='cuda:0'),\n",
       "  tensor([[[ 0.0000,  0.0000,  0.0000,  ...,  0.0000,  0.0000,  0.0000],\n",
       "           [ 0.0000,  0.0000,  0.0000,  ...,  0.0000,  0.0000,  0.0000],\n",
       "           [ 0.0000,  0.0000,  0.0000,  ...,  0.0000,  0.0000,  0.0000],\n",
       "           ...,\n",
       "           [ 0.0000,  0.0005,  0.0000,  ...,  0.0000,  0.0000, -0.0005],\n",
       "           [ 0.0000,  0.0000,  0.0000,  ...,  0.0000,  0.0000,  0.0000],\n",
       "           [ 0.0000,  0.0000,  0.0000,  ...,  0.0000,  0.0000,  0.0000]]],\n",
       "         device='cuda:0'),\n",
       "  tensor([[[ 0.0000,  0.0000,  0.0000,  ...,  0.0000,  0.0000,  0.0000],\n",
       "           [ 0.0000,  0.0000,  0.0000,  ...,  0.0000,  0.0000,  0.0000],\n",
       "           [ 0.0000, -0.0013,  0.0000,  ...,  0.0000,  0.0000, -0.0003],\n",
       "           ...,\n",
       "           [ 0.0000,  0.0000,  0.0011,  ...,  0.0000,  0.0000,  0.0000],\n",
       "           [ 0.0000,  0.0000,  0.0000,  ...,  0.0000,  0.0029,  0.0000],\n",
       "           [ 0.0000,  0.0000,  0.0000,  ...,  0.0004,  0.0019,  0.0000]]],\n",
       "         device='cuda:0'),\n",
       "  tensor([[[ 0.0000,  0.0000,  0.0000,  ...,  0.0000,  0.0000,  0.0000],\n",
       "           [ 0.0000,  0.0000,  0.0000,  ...,  0.0000,  0.0000,  0.0000],\n",
       "           [ 0.0000,  0.0000,  0.0000,  ...,  0.0000,  0.0000,  0.0000],\n",
       "           ...,\n",
       "           [ 0.0000,  0.0000,  0.0000,  ...,  0.0000,  0.0000,  0.0000],\n",
       "           [ 0.0000,  0.0000,  0.0000,  ...,  0.0000,  0.0000,  0.0008],\n",
       "           [ 0.0000,  0.0000,  0.0000,  ...,  0.0000, -0.0013,  0.0000]]],\n",
       "         device='cuda:0'),\n",
       "  tensor([[[ 0.0000e+00,  0.0000e+00,  0.0000e+00,  ...,  0.0000e+00,\n",
       "            -9.2008e-05,  0.0000e+00],\n",
       "           [ 3.5235e-05,  0.0000e+00,  0.0000e+00,  ...,  0.0000e+00,\n",
       "             0.0000e+00,  0.0000e+00],\n",
       "           [ 2.1410e-03,  1.2623e-03,  0.0000e+00,  ...,  0.0000e+00,\n",
       "             0.0000e+00,  0.0000e+00],\n",
       "           ...,\n",
       "           [ 0.0000e+00,  0.0000e+00,  0.0000e+00,  ...,  0.0000e+00,\n",
       "             0.0000e+00,  0.0000e+00],\n",
       "           [ 0.0000e+00,  0.0000e+00,  0.0000e+00,  ...,  0.0000e+00,\n",
       "             0.0000e+00,  0.0000e+00],\n",
       "           [ 0.0000e+00,  0.0000e+00,  7.6516e-04,  ..., -6.3666e-04,\n",
       "             0.0000e+00,  0.0000e+00]]], device='cuda:0'),\n",
       "  tensor([[[0., 0., 0.,  ..., 0., 0., 0.],\n",
       "           [0., 0., 0.,  ..., 0., 0., 0.],\n",
       "           [0., 0., 0.,  ..., 0., 0., 0.],\n",
       "           ...,\n",
       "           [0., 0., 0.,  ..., 0., 0., 0.],\n",
       "           [0., 0., 0.,  ..., 0., 0., 0.],\n",
       "           [0., 0., 0.,  ..., 0., 0., 0.]]], device='cuda:0'),\n",
       "  tensor([[[ 0.0000e+00,  0.0000e+00,  0.0000e+00,  ...,  0.0000e+00,\n",
       "             0.0000e+00,  0.0000e+00],\n",
       "           [ 0.0000e+00,  0.0000e+00,  0.0000e+00,  ...,  0.0000e+00,\n",
       "             0.0000e+00,  0.0000e+00],\n",
       "           [ 0.0000e+00,  0.0000e+00,  0.0000e+00,  ...,  0.0000e+00,\n",
       "             0.0000e+00, -3.9713e-05],\n",
       "           ...,\n",
       "           [ 0.0000e+00,  0.0000e+00,  0.0000e+00,  ...,  6.1319e-04,\n",
       "             0.0000e+00,  0.0000e+00],\n",
       "           [ 0.0000e+00,  0.0000e+00,  0.0000e+00,  ...,  0.0000e+00,\n",
       "             0.0000e+00,  0.0000e+00],\n",
       "           [ 0.0000e+00,  0.0000e+00,  0.0000e+00,  ...,  0.0000e+00,\n",
       "             0.0000e+00,  0.0000e+00]]], device='cuda:0'),\n",
       "  tensor([[[ 0.0000,  0.0000, -0.0002,  ...,  0.0000,  0.0000,  0.0010],\n",
       "           [ 0.0000,  0.0000,  0.0000,  ...,  0.0000,  0.0000,  0.0000],\n",
       "           [ 0.0000,  0.0017,  0.0000,  ...,  0.0055,  0.0000,  0.0000],\n",
       "           ...,\n",
       "           [ 0.0000,  0.0000,  0.0000,  ...,  0.0000,  0.0000,  0.0000],\n",
       "           [ 0.0000,  0.0000, -0.0003,  ...,  0.0000, -0.0002,  0.0000],\n",
       "           [ 0.0000,  0.0000,  0.0000,  ...,  0.0000,  0.0000,  0.0000]]],\n",
       "         device='cuda:0'),\n",
       "  tensor([[[ 0.0000e+00,  0.0000e+00,  0.0000e+00,  ...,  0.0000e+00,\n",
       "             0.0000e+00,  0.0000e+00],\n",
       "           [ 0.0000e+00,  0.0000e+00,  5.2628e-04,  ...,  0.0000e+00,\n",
       "             0.0000e+00,  0.0000e+00],\n",
       "           [ 0.0000e+00,  0.0000e+00,  0.0000e+00,  ...,  0.0000e+00,\n",
       "            -1.2245e-05,  0.0000e+00],\n",
       "           ...,\n",
       "           [ 0.0000e+00,  0.0000e+00,  0.0000e+00,  ...,  1.8377e-03,\n",
       "             0.0000e+00, -2.1858e-03],\n",
       "           [ 0.0000e+00,  0.0000e+00,  0.0000e+00,  ..., -6.4804e-04,\n",
       "             0.0000e+00,  0.0000e+00],\n",
       "           [ 0.0000e+00,  0.0000e+00,  0.0000e+00,  ...,  0.0000e+00,\n",
       "             9.8594e-04,  0.0000e+00]]], device='cuda:0'),\n",
       "  tensor([[[ 0.0000,  0.0000,  0.0000,  ...,  0.0000,  0.0000,  0.0000],\n",
       "           [ 0.0000, -0.0003,  0.0000,  ...,  0.0000,  0.0000, -0.0030],\n",
       "           [ 0.0000,  0.0000,  0.0000,  ...,  0.0000,  0.0000,  0.0000],\n",
       "           ...,\n",
       "           [ 0.0000,  0.0000,  0.0000,  ...,  0.0000,  0.0000, -0.0048],\n",
       "           [ 0.0000,  0.0000, -0.0024,  ...,  0.0000, -0.0020,  0.0000],\n",
       "           [-0.0017,  0.0000,  0.0010,  ...,  0.0007,  0.0012,  0.0000]]],\n",
       "         device='cuda:0'),\n",
       "  tensor([[[0., 0., 0.,  ..., 0., 0., 0.],\n",
       "           [0., 0., 0.,  ..., 0., 0., 0.],\n",
       "           [0., 0., 0.,  ..., 0., 0., 0.],\n",
       "           ...,\n",
       "           [0., 0., 0.,  ..., 0., 0., 0.],\n",
       "           [0., 0., 0.,  ..., 0., 0., 0.],\n",
       "           [0., 0., 0.,  ..., 0., 0., 0.]]], device='cuda:0'),\n",
       "  tensor([[[ 0.0000,  0.0000,  0.0000,  ..., -0.0013,  0.0000,  0.0000],\n",
       "           [ 0.0000,  0.0000,  0.0000,  ...,  0.0000,  0.0000,  0.0000],\n",
       "           [ 0.0000,  0.0000,  0.0000,  ...,  0.0000,  0.0000,  0.0000],\n",
       "           ...,\n",
       "           [ 0.0000,  0.0000,  0.0000,  ...,  0.0000,  0.0000,  0.0000],\n",
       "           [ 0.0000,  0.0000,  0.0000,  ...,  0.0000,  0.0000,  0.0000],\n",
       "           [ 0.0000,  0.0000,  0.0000,  ...,  0.0000,  0.0000,  0.0000]]],\n",
       "         device='cuda:0'),\n",
       "  tensor([[[ 0.0000,  0.0000,  0.0000,  ...,  0.0000,  0.0000, -0.0007],\n",
       "           [ 0.0000,  0.0000,  0.0000,  ...,  0.0000,  0.0000,  0.0000],\n",
       "           [ 0.0000,  0.0000,  0.0000,  ...,  0.0002,  0.0000,  0.0000],\n",
       "           ...,\n",
       "           [ 0.0000,  0.0000,  0.0000,  ...,  0.0002,  0.0000,  0.0000],\n",
       "           [ 0.0000,  0.0000,  0.0000,  ...,  0.0000,  0.0000,  0.0000],\n",
       "           [ 0.0000,  0.0000,  0.0000,  ...,  0.0000,  0.0000,  0.0000]]],\n",
       "         device='cuda:0'),\n",
       "  tensor([[[0.0000e+00, 0.0000e+00, 0.0000e+00,  ..., 0.0000e+00,\n",
       "            0.0000e+00, 0.0000e+00],\n",
       "           [0.0000e+00, 0.0000e+00, 0.0000e+00,  ..., 0.0000e+00,\n",
       "            0.0000e+00, 0.0000e+00],\n",
       "           [0.0000e+00, 0.0000e+00, 0.0000e+00,  ..., 0.0000e+00,\n",
       "            0.0000e+00, 0.0000e+00],\n",
       "           ...,\n",
       "           [0.0000e+00, 0.0000e+00, 0.0000e+00,  ..., 0.0000e+00,\n",
       "            0.0000e+00, 0.0000e+00],\n",
       "           [0.0000e+00, 0.0000e+00, 3.2738e-05,  ..., 0.0000e+00,\n",
       "            0.0000e+00, 0.0000e+00],\n",
       "           [0.0000e+00, 0.0000e+00, 0.0000e+00,  ..., 0.0000e+00,\n",
       "            0.0000e+00, 0.0000e+00]]], device='cuda:0'),\n",
       "  tensor([[[0.0000, 0.0000, 0.0000,  ..., 0.0005, 0.0000, 0.0000],\n",
       "           [0.0000, 0.0000, 0.0000,  ..., 0.0000, 0.0000, 0.0000],\n",
       "           [0.0000, 0.0000, 0.0000,  ..., 0.0000, 0.0000, 0.0000],\n",
       "           ...,\n",
       "           [0.0012, 0.0000, 0.0023,  ..., 0.0000, 0.0000, 0.0000],\n",
       "           [0.0000, 0.0000, 0.0000,  ..., 0.0001, 0.0000, 0.0000],\n",
       "           [0.0000, 0.0000, 0.0000,  ..., 0.0000, 0.0000, 0.0000]]],\n",
       "         device='cuda:0'),\n",
       "  tensor([[[ 0.0000,  0.0000,  0.0000,  ...,  0.0000,  0.0000,  0.0000],\n",
       "           [ 0.0000,  0.0000,  0.0000,  ...,  0.0000,  0.0000,  0.0000],\n",
       "           [ 0.0000,  0.0000,  0.0000,  ...,  0.0000,  0.0020,  0.0000],\n",
       "           ...,\n",
       "           [ 0.0000,  0.0000,  0.0000,  ...,  0.0006,  0.0000, -0.0038],\n",
       "           [ 0.0000,  0.0000,  0.0000,  ...,  0.0000, -0.0001,  0.0000],\n",
       "           [ 0.0000,  0.0000,  0.0000,  ...,  0.0000,  0.0000, -0.0013]]],\n",
       "         device='cuda:0'),\n",
       "  tensor([[[ 0.0000,  0.0000,  0.0000,  ...,  0.0000,  0.0000,  0.0008],\n",
       "           [ 0.0000,  0.0000,  0.0067,  ...,  0.0000,  0.0008,  0.0000],\n",
       "           [ 0.0000,  0.0000,  0.0000,  ...,  0.0000, -0.0014,  0.0013],\n",
       "           ...,\n",
       "           [ 0.0000,  0.0000,  0.0000,  ...,  0.0000,  0.0000,  0.0015],\n",
       "           [ 0.0000,  0.0000,  0.0000,  ...,  0.0000,  0.0000,  0.0000],\n",
       "           [ 0.0000,  0.0000,  0.0000,  ...,  0.0000,  0.0000,  0.0000]]],\n",
       "         device='cuda:0'),\n",
       "  tensor([[[0.0000, 0.0000, 0.0000,  ..., 0.0000, 0.0000, 0.0000],\n",
       "           [0.0000, 0.0000, 0.0000,  ..., 0.0000, 0.0000, 0.0019],\n",
       "           [0.0000, 0.0000, 0.0000,  ..., 0.0002, 0.0000, 0.0000],\n",
       "           ...,\n",
       "           [0.0000, 0.0000, 0.0000,  ..., 0.0000, 0.0000, 0.0000],\n",
       "           [0.0000, 0.0007, 0.0014,  ..., 0.0000, 0.0000, 0.0000],\n",
       "           [0.0000, 0.0000, 0.0000,  ..., 0.0000, 0.0002, 0.0000]]],\n",
       "         device='cuda:0'),\n",
       "  tensor([[[ 0.0000e+00,  0.0000e+00,  0.0000e+00,  ...,  0.0000e+00,\n",
       "             0.0000e+00,  0.0000e+00],\n",
       "           [ 0.0000e+00,  0.0000e+00,  0.0000e+00,  ...,  0.0000e+00,\n",
       "             0.0000e+00,  0.0000e+00],\n",
       "           [ 0.0000e+00,  0.0000e+00,  0.0000e+00,  ..., -1.3660e-03,\n",
       "             0.0000e+00,  1.8027e-03],\n",
       "           ...,\n",
       "           [ 0.0000e+00,  0.0000e+00, -3.7067e-03,  ...,  0.0000e+00,\n",
       "             0.0000e+00,  0.0000e+00],\n",
       "           [ 0.0000e+00,  0.0000e+00,  0.0000e+00,  ...,  0.0000e+00,\n",
       "            -8.2610e-06,  0.0000e+00],\n",
       "           [ 0.0000e+00,  0.0000e+00,  0.0000e+00,  ...,  0.0000e+00,\n",
       "             0.0000e+00,  0.0000e+00]]], device='cuda:0'),\n",
       "  tensor([[[-0.0003,  0.0000,  0.0000,  ...,  0.0000,  0.0000,  0.0000],\n",
       "           [ 0.0000,  0.0000,  0.0000,  ...,  0.0000,  0.0000,  0.0000],\n",
       "           [ 0.0000,  0.0000,  0.0000,  ...,  0.0000,  0.0000,  0.0000],\n",
       "           ...,\n",
       "           [ 0.0000,  0.0000,  0.0000,  ...,  0.0003,  0.0000,  0.0000],\n",
       "           [ 0.0000,  0.0000,  0.0000,  ...,  0.0000,  0.0000,  0.0000],\n",
       "           [ 0.0000,  0.0000, -0.0002,  ...,  0.0000,  0.0000,  0.0000]]],\n",
       "         device='cuda:0'),\n",
       "  tensor([[[ 0.0000,  0.0000,  0.0000,  ...,  0.0000,  0.0000,  0.0000],\n",
       "           [ 0.0000,  0.0000,  0.0000,  ...,  0.0000,  0.0000,  0.0000],\n",
       "           [ 0.0000,  0.0000, -0.0008,  ...,  0.0000,  0.0000,  0.0011],\n",
       "           ...,\n",
       "           [ 0.0000,  0.0000,  0.0000,  ...,  0.0000,  0.0000,  0.0000],\n",
       "           [-0.0006,  0.0000,  0.0000,  ...,  0.0000,  0.0005,  0.0008],\n",
       "           [ 0.0000,  0.0000,  0.0000,  ...,  0.0000,  0.0000,  0.0000]]],\n",
       "         device='cuda:0'),\n",
       "  tensor([[[ 0.0000,  0.0000,  0.0000,  ...,  0.0000,  0.0000,  0.0000],\n",
       "           [ 0.0000,  0.0000,  0.0000,  ...,  0.0000,  0.0000,  0.0000],\n",
       "           [ 0.0012,  0.0000,  0.0000,  ..., -0.0002,  0.0000,  0.0000],\n",
       "           ...,\n",
       "           [ 0.0000,  0.0000,  0.0009,  ...,  0.0000,  0.0000,  0.0000],\n",
       "           [ 0.0000,  0.0000,  0.0000,  ...,  0.0000,  0.0000,  0.0000],\n",
       "           [ 0.0000,  0.0000,  0.0000,  ...,  0.0000, -0.0046,  0.0000]]],\n",
       "         device='cuda:0'),\n",
       "  tensor([[[-0.0005,  0.0000,  0.0000,  ...,  0.0000,  0.0000,  0.0000],\n",
       "           [ 0.0000,  0.0000,  0.0000,  ...,  0.0000,  0.0000,  0.0000],\n",
       "           [ 0.0000,  0.0000,  0.0000,  ...,  0.0000,  0.0000,  0.0000],\n",
       "           ...,\n",
       "           [ 0.0000,  0.0000,  0.0000,  ...,  0.0000,  0.0000,  0.0000],\n",
       "           [ 0.0000,  0.0000, -0.0001,  ...,  0.0000,  0.0000,  0.0000],\n",
       "           [ 0.0000,  0.0000,  0.0000,  ...,  0.0000,  0.0000,  0.0000]]],\n",
       "         device='cuda:0'),\n",
       "  tensor([[[ 2.0065e-04,  0.0000e+00,  0.0000e+00,  ...,  0.0000e+00,\n",
       "             0.0000e+00,  0.0000e+00],\n",
       "           [-6.5449e-05,  0.0000e+00,  1.3294e-04,  ...,  0.0000e+00,\n",
       "             0.0000e+00,  0.0000e+00],\n",
       "           [ 0.0000e+00,  0.0000e+00,  0.0000e+00,  ...,  0.0000e+00,\n",
       "             0.0000e+00,  0.0000e+00],\n",
       "           ...,\n",
       "           [ 0.0000e+00,  0.0000e+00,  0.0000e+00,  ...,  0.0000e+00,\n",
       "             0.0000e+00,  0.0000e+00],\n",
       "           [ 0.0000e+00,  1.9988e-04,  0.0000e+00,  ...,  0.0000e+00,\n",
       "             0.0000e+00,  0.0000e+00],\n",
       "           [ 0.0000e+00,  0.0000e+00,  0.0000e+00,  ...,  0.0000e+00,\n",
       "             0.0000e+00,  0.0000e+00]]], device='cuda:0'),\n",
       "  tensor([[[ 0.0000e+00,  2.9868e-05,  0.0000e+00,  ...,  0.0000e+00,\n",
       "             0.0000e+00, -1.3688e-03],\n",
       "           [ 4.8827e-04,  0.0000e+00,  1.2914e-03,  ...,  0.0000e+00,\n",
       "             0.0000e+00,  0.0000e+00],\n",
       "           [-4.4954e-04,  0.0000e+00,  0.0000e+00,  ...,  0.0000e+00,\n",
       "             0.0000e+00,  0.0000e+00],\n",
       "           ...,\n",
       "           [ 0.0000e+00,  0.0000e+00,  0.0000e+00,  ...,  0.0000e+00,\n",
       "             0.0000e+00,  0.0000e+00],\n",
       "           [ 0.0000e+00,  0.0000e+00,  0.0000e+00,  ...,  0.0000e+00,\n",
       "             0.0000e+00,  0.0000e+00],\n",
       "           [ 0.0000e+00,  0.0000e+00, -3.0787e-04,  ...,  2.7628e-05,\n",
       "             0.0000e+00,  0.0000e+00]]], device='cuda:0'),\n",
       "  tensor([[[ 0.0002,  0.0000,  0.0000,  ...,  0.0000,  0.0000,  0.0000],\n",
       "           [ 0.0000,  0.0000,  0.0000,  ...,  0.0000,  0.0000,  0.0000],\n",
       "           [ 0.0000, -0.0012,  0.0008,  ...,  0.0000,  0.0000,  0.0000],\n",
       "           ...,\n",
       "           [ 0.0000,  0.0000,  0.0000,  ...,  0.0000,  0.0000,  0.0042],\n",
       "           [ 0.0008,  0.0000,  0.0000,  ...,  0.0000,  0.0000,  0.0001],\n",
       "           [ 0.0000,  0.0000,  0.0000,  ...,  0.0000,  0.0000,  0.0000]]],\n",
       "         device='cuda:0'),\n",
       "  tensor([[[ 0.0000,  0.0000,  0.0000,  ...,  0.0000,  0.0000,  0.0000],\n",
       "           [ 0.0000,  0.0000,  0.0000,  ...,  0.0000,  0.0000,  0.0000],\n",
       "           [ 0.0000,  0.0000,  0.0000,  ...,  0.0000,  0.0000,  0.0000],\n",
       "           ...,\n",
       "           [ 0.0000,  0.0000,  0.0000,  ...,  0.0000,  0.0000,  0.0000],\n",
       "           [ 0.0000,  0.0000,  0.0000,  ..., -0.0021,  0.0000,  0.0000],\n",
       "           [ 0.0000,  0.0000,  0.0000,  ...,  0.0000,  0.0000,  0.0000]]],\n",
       "         device='cuda:0'),\n",
       "  tensor([[[ 0.0000,  0.0000,  0.0000,  ...,  0.0000,  0.0000,  0.0000],\n",
       "           [ 0.0000,  0.0000,  0.0000,  ...,  0.0000,  0.0000,  0.0000],\n",
       "           [ 0.0000,  0.0000,  0.0000,  ...,  0.0000,  0.0000, -0.0022],\n",
       "           ...,\n",
       "           [ 0.0000,  0.0000,  0.0000,  ...,  0.0000,  0.0000,  0.0000],\n",
       "           [ 0.0000,  0.0000, -0.0029,  ...,  0.0000,  0.0000,  0.0000],\n",
       "           [ 0.0000, -0.0005,  0.0000,  ...,  0.0000,  0.0000,  0.0000]]],\n",
       "         device='cuda:0'),\n",
       "  tensor([[[0., 0., 0.,  ..., 0., 0., 0.],\n",
       "           [0., 0., 0.,  ..., 0., 0., 0.],\n",
       "           [0., 0., 0.,  ..., 0., 0., 0.],\n",
       "           ...,\n",
       "           [0., 0., 0.,  ..., 0., 0., 0.],\n",
       "           [0., 0., 0.,  ..., 0., 0., 0.],\n",
       "           [0., 0., 0.,  ..., 0., 0., 0.]]], device='cuda:0')],\n",
       " 'conti_attr_list': [tensor([ 7.5461e-01, -3.0925e-02, -1.5113e-01, -8.6343e-02, -1.9287e-02,\n",
       "          -1.8000e-02,  1.2613e-02, -5.5566e-02, -1.3494e-02,  6.3209e-02,\n",
       "           4.2473e-02,  1.8322e-02, -1.0741e-01, -1.3196e-01,  1.2674e-01,\n",
       "          -1.5274e-02, -7.4075e-04, -3.5120e-02, -1.7827e-02,  6.7633e-02,\n",
       "           1.5794e-01, -2.4314e-02,  6.2301e-02,  1.4776e-02,  1.7038e-01,\n",
       "           1.9442e-01,  6.4709e-03,  5.7674e-02, -7.8514e-02, -3.6575e-03,\n",
       "          -8.5047e-02,  5.1202e-02, -4.4546e-02,  1.0608e-01, -5.9324e-03,\n",
       "           1.0118e-01,  1.1696e-01,  1.3627e-02,  5.3589e-02,  3.4419e-02,\n",
       "          -8.4504e-02,  2.4649e-01, -8.4385e-04, -1.5330e-01,  9.1178e-02,\n",
       "           7.3989e-02, -2.6019e-02,  3.7808e-02,  9.1646e-02, -1.3450e-01,\n",
       "           4.7401e-02, -6.1915e-02]),\n",
       "  tensor([-0.0850, -0.0946,  0.0603, -0.1091, -0.2394, -0.1825,  0.1456,  0.0781,\n",
       "           0.2127, -0.0702,  0.1024,  0.1083, -0.0170, -0.0614, -0.0617,  0.0891,\n",
       "           0.0859, -0.0158,  0.1521, -0.2160, -0.0654,  0.1268, -0.2373, -0.0775,\n",
       "           0.0477,  0.0727, -0.0156,  0.0559, -0.0370, -0.0805,  0.1075,  0.0550,\n",
       "           0.1741,  0.0721,  0.0980,  0.0605, -0.1387, -0.0359, -0.0902,  0.0931,\n",
       "          -0.0352,  0.0809, -0.1556, -0.0215, -0.0272, -0.0561, -0.1418, -0.1090,\n",
       "          -0.0519, -0.0229, -0.0727, -0.1176, -0.0576, -0.0801,  0.0411,  0.0011,\n",
       "          -0.0748, -0.0044, -0.0884, -0.1047, -0.0516,  0.0797, -0.0995,  0.0308,\n",
       "          -0.2120, -0.1289, -0.0498,  0.0428,  0.0944]),\n",
       "  tensor([ 0.2429, -0.0275,  0.0818, -0.0622,  0.3645,  0.1273, -0.0024,  0.2116,\n",
       "          -0.3163, -0.1207,  0.1038,  0.0570,  0.1072, -0.1672,  0.1910,  0.0089,\n",
       "           0.0229,  0.0636,  0.0278, -0.1478, -0.0127, -0.0141, -0.0716,  0.2051,\n",
       "          -0.1508,  0.2727,  0.0729, -0.0736, -0.0663,  0.1168, -0.0169,  0.0210,\n",
       "          -0.0656,  0.0314, -0.0962, -0.0284,  0.0920, -0.0842,  0.1098,  0.0847,\n",
       "          -0.0745, -0.1372,  0.1714,  0.0764,  0.1191, -0.0030]),\n",
       "  tensor([ 0.5223, -0.0801, -0.1292, -0.0698, -0.1003, -0.1750, -0.0158,  0.0220,\n",
       "          -0.0150,  0.0530,  0.0471, -0.1077,  0.0045, -0.0733, -0.6318,  0.0048,\n",
       "          -0.2058, -0.0200, -0.1318, -0.0785, -0.0634,  0.0118, -0.0518,  0.0447,\n",
       "          -0.0085, -0.0553, -0.1796, -0.0521, -0.0206, -0.1354, -0.0058,  0.1392,\n",
       "          -0.0240,  0.0368, -0.0739,  0.0335,  0.0803, -0.0042,  0.0026,  0.0460,\n",
       "           0.0659,  0.0420,  0.0542, -0.0449]),\n",
       "  tensor([ 1.3830e-01,  3.2192e-02,  1.7933e-01,  9.5139e-02,  1.8674e-01,\n",
       "           1.2585e-01, -4.9825e-02, -3.6799e-02,  2.8467e-01, -9.0514e-02,\n",
       "          -1.4478e-01, -3.6172e-02, -1.9796e-01,  4.2862e-02, -2.5613e-02,\n",
       "          -1.1629e-01,  3.7661e-01,  1.3623e-01, -1.7436e-02, -1.3614e-01,\n",
       "           6.6375e-02, -4.8946e-02,  2.5568e-01,  6.4932e-02, -4.7936e-02,\n",
       "           5.0728e-02,  2.2235e-01,  2.6364e-04,  1.1175e-01,  1.4267e-01,\n",
       "           2.0920e-01,  1.5888e-01, -2.3105e-01, -5.4738e-02,  1.7535e-01]),\n",
       "  tensor([ 0.1232,  0.1259, -0.0853,  0.0686, -0.0537,  0.2646,  0.0514,  0.0445,\n",
       "           0.2347,  0.0759, -0.0225, -0.2253,  0.0265, -0.3203,  0.1316, -0.0041,\n",
       "          -0.0509, -0.0400,  0.0587,  0.1120,  0.0979,  0.1026,  0.0554,  0.1903,\n",
       "          -0.0746, -0.1871, -0.0883, -0.1142, -0.0062, -0.0939,  0.0128, -0.0752,\n",
       "          -0.0251,  0.0583, -0.0831,  0.0450, -0.1569,  0.0292,  0.2009, -0.3480,\n",
       "          -0.0886,  0.0027, -0.1123, -0.0129]),\n",
       "  tensor([ 8.1630e-01,  7.3314e-02, -1.3446e-01, -2.1000e-01, -9.9730e-02,\n",
       "          -1.1838e-02, -3.1460e-02,  2.7727e-01,  3.1696e-02,  6.5422e-02,\n",
       "           3.6519e-02,  6.6914e-02,  8.4348e-02, -9.0678e-02,  5.4702e-02,\n",
       "           6.4278e-04,  9.1460e-02, -3.9335e-03, -4.5753e-02, -1.3547e-01,\n",
       "           3.7454e-02, -5.8761e-02,  4.7954e-02, -1.8571e-02,  9.9701e-02,\n",
       "           4.1262e-02,  6.0590e-02]),\n",
       "  tensor([-0.3426,  0.1590, -0.1520,  0.3511, -0.0478, -0.0199,  0.0854,  0.0242,\n",
       "           0.0381,  0.1141, -0.2681, -0.0414,  0.4497, -0.2857,  0.0942,  0.2500,\n",
       "           0.1773,  0.0178, -0.1808, -0.1018,  0.1878]),\n",
       "  tensor([ 0.5315,  0.0957,  0.2160,  0.1580,  0.0272, -0.0050,  0.1732, -0.0297,\n",
       "          -0.0989, -0.1478, -0.1137, -0.0809,  0.2244, -0.0407,  0.1344,  0.0358,\n",
       "           0.0163,  0.0702, -0.1279,  0.0268,  0.1437,  0.3204,  0.0277, -0.0833,\n",
       "           0.0626, -0.0355,  0.2909,  0.1273]),\n",
       "  tensor([ 0.2248,  0.1749,  0.0681,  0.0819,  0.1555,  0.4048, -0.0431, -0.1539,\n",
       "          -0.0107, -0.0828, -0.1289,  0.2813, -0.0123,  0.2212, -0.0019,  0.5140,\n",
       "           0.0986, -0.0605, -0.0088,  0.1121,  0.0287, -0.1466,  0.0367, -0.1437,\n",
       "          -0.0206, -0.2130]),\n",
       "  tensor([ 0.5957, -0.0606, -0.2543, -0.0271,  0.1325,  0.1429, -0.0223, -0.0177,\n",
       "          -0.0748,  0.1168, -0.0343, -0.0069,  0.1151, -0.2140,  0.0689,  0.0676,\n",
       "           0.1054, -0.1460, -0.0843, -0.0451,  0.0801, -0.0861, -0.0302,  0.0138,\n",
       "           0.0172,  0.0662,  0.0394, -0.1192,  0.0861, -0.0705,  0.0757,  0.1073,\n",
       "           0.1628, -0.0618, -0.0247,  0.1865,  0.1454, -0.1388, -0.0208, -0.1205,\n",
       "           0.0492, -0.0540, -0.0200, -0.0990,  0.0703, -0.0620,  0.1526, -0.0577,\n",
       "          -0.0667]),\n",
       "  tensor([ 0.6737, -0.0887,  0.0205, -0.0240, -0.0892,  0.0226, -0.0702, -0.2037,\n",
       "          -0.0985, -0.1400, -0.0246, -0.1189, -0.0625, -0.0669, -0.0491, -0.0988,\n",
       "           0.0298, -0.0715,  0.0799,  0.0159, -0.0882,  0.0103,  0.1326,  0.0373,\n",
       "          -0.1031,  0.0334, -0.0647, -0.0345, -0.0147, -0.0272,  0.0274, -0.0304,\n",
       "           0.0034,  0.0212, -0.0960, -0.0461, -0.0101,  0.0866,  0.0165,  0.0509,\n",
       "           0.1253, -0.1251, -0.1041, -0.0528,  0.1241, -0.0210, -0.0670, -0.0693,\n",
       "          -0.0072,  0.0945,  0.0175,  0.1103,  0.1015,  0.0134,  0.1469,  0.0479,\n",
       "          -0.0114, -0.1029,  0.0537,  0.1025,  0.0656, -0.1318, -0.1257, -0.1004,\n",
       "           0.0520,  0.0604,  0.0453]),\n",
       "  tensor([ 0.0216,  0.0596, -0.0378, -0.1737, -0.0526,  0.0878,  0.0905, -0.1542,\n",
       "          -0.1849, -0.2213,  0.0243, -0.1361,  0.1201, -0.0356, -0.0926, -0.0154,\n",
       "           0.0127, -0.1757,  0.2362,  0.0925,  0.2225,  0.2173,  0.1599, -0.0395,\n",
       "           0.0333, -0.0933,  0.0774,  0.0186, -0.0518,  0.2700, -0.0700,  0.0009,\n",
       "           0.1449,  0.0476,  0.0022,  0.1422, -0.1178, -0.0853, -0.1354, -0.1534,\n",
       "          -0.0166, -0.0872, -0.0932,  0.1204,  0.0040]),\n",
       "  tensor([-0.0036,  0.0742,  0.1070,  0.0748, -0.0081,  0.0431,  0.1122,  0.0662,\n",
       "          -0.1702,  0.1683, -0.1019,  0.0046,  0.0919, -0.0853, -0.0380, -0.0880,\n",
       "          -0.0545,  0.1493,  0.2105,  0.1678,  0.0012,  0.1005,  0.0764, -0.0324,\n",
       "           0.1530,  0.0490,  0.2360, -0.0147, -0.1081, -0.1917, -0.0704,  0.0352,\n",
       "           0.1349, -0.0641,  0.0729, -0.0877, -0.0967,  0.1276]),\n",
       "  tensor([ 0.5396, -0.0422,  0.0431, -0.1067,  0.2082, -0.1149,  0.0633, -0.0574,\n",
       "          -0.1035,  0.0339,  0.0230,  0.0399, -0.0051, -0.0269, -0.0983, -0.0303,\n",
       "           0.2110, -0.0248,  0.0462,  0.0194, -0.0423,  0.1241,  0.1370,  0.0818,\n",
       "           0.2092,  0.0013, -0.0801,  0.0739,  0.0052,  0.1661, -0.0368,  0.0530,\n",
       "           0.0400,  0.0525, -0.0742,  0.0128,  0.0204,  0.0612, -0.0180,  0.0571,\n",
       "           0.0930,  0.0819,  0.1288, -0.0066, -0.0768, -0.0419,  0.0901, -0.2194,\n",
       "           0.0354,  0.0974,  0.1923, -0.0303,  0.0145, -0.1062]),\n",
       "  tensor([ 0.0637, -0.0526,  0.1071, -0.0738,  0.0036, -0.2596, -0.0342,  0.0915,\n",
       "          -0.0029,  0.0694, -0.0448, -0.0217, -0.0791, -0.0126, -0.0018,  0.1700,\n",
       "          -0.1315, -0.0745, -0.0091,  0.1770, -0.0470,  0.1068, -0.0175, -0.1295,\n",
       "           0.0833,  0.1480, -0.1516,  0.0174,  0.0330, -0.0477, -0.0471, -0.1032,\n",
       "           0.1212, -0.0100, -0.1769,  0.0050,  0.2185, -0.0110,  0.1536,  0.1502,\n",
       "           0.0832,  0.0572,  0.1264,  0.2211,  0.1418,  0.1189,  0.0766, -0.0180,\n",
       "          -0.0401, -0.0918,  0.0675]),\n",
       "  tensor([ 0.7202, -0.1905, -0.0031, -0.0623,  0.0014,  0.1799, -0.0827,  0.0870,\n",
       "           0.0211,  0.0524,  0.0480,  0.0634, -0.0354, -0.0205, -0.0610, -0.0574,\n",
       "           0.0408, -0.0461, -0.1579,  0.0339, -0.0545,  0.0492, -0.0163,  0.0519,\n",
       "           0.0605, -0.1743, -0.1097, -0.1772, -0.0102,  0.0950,  0.0623, -0.1158,\n",
       "           0.4251, -0.0212, -0.0154, -0.0497, -0.0435]),\n",
       "  tensor([-8.2957e-02,  3.6182e-01,  5.9165e-01, -4.2916e-05, -3.2314e-02,\n",
       "           7.2803e-02, -2.5552e-02,  6.7155e-02,  2.4865e-01,  1.4861e-01,\n",
       "           9.3080e-02, -1.8154e-02, -2.3760e-02,  5.9513e-02,  9.0853e-02,\n",
       "          -1.5704e-02, -1.9709e-02, -1.0244e-01,  6.1682e-02,  1.8177e-02,\n",
       "          -1.4361e-02,  1.4195e-01, -8.4263e-02,  2.3712e-01, -8.1251e-03,\n",
       "          -1.0131e-01, -7.8625e-02, -3.2930e-02,  5.8017e-02,  4.7153e-02,\n",
       "           1.1240e-01,  2.5597e-02, -1.4261e-01, -1.2105e-01, -4.6391e-02,\n",
       "           2.6311e-02,  2.5922e-02,  6.1564e-02, -9.4531e-04, -2.1246e-01,\n",
       "           6.4198e-02,  1.9936e-02, -1.6109e-01,  2.2093e-02, -1.2861e-01,\n",
       "          -2.9921e-02, -9.6411e-02, -1.0001e-01]),\n",
       "  tensor([ 0.3871, -0.1124, -0.1242,  0.0673,  0.4017,  0.0186, -0.0058,  0.0728,\n",
       "           0.0735,  0.0388,  0.0084,  0.1727,  0.0692,  0.1983,  0.1114,  0.1033,\n",
       "          -0.0120, -0.0788, -0.0086,  0.0349, -0.0172,  0.1766,  0.1055,  0.0043,\n",
       "          -0.0839,  0.0868, -0.1627,  0.2618, -0.1919, -0.1841, -0.1133,  0.1840,\n",
       "           0.0517,  0.0133,  0.0358,  0.1403,  0.0495,  0.0199,  0.1296]),\n",
       "  tensor([ 0.4065, -0.2357,  0.1731,  0.0812,  0.0018, -0.0458, -0.0198,  0.0892,\n",
       "          -0.0151,  0.0480,  0.0410,  0.2703, -0.1876, -0.0181, -0.0641, -0.1230,\n",
       "          -0.0346, -0.0851,  0.0986, -0.0606,  0.1317,  0.2063, -0.0677,  0.1307,\n",
       "           0.0834, -0.0366,  0.0285,  0.1228, -0.0736,  0.1000, -0.1807,  0.0087,\n",
       "          -0.0283,  0.0834, -0.0632, -0.0036,  0.1519,  0.1098, -0.1248, -0.2277,\n",
       "          -0.0656,  0.1347,  0.1396,  0.0137, -0.1452,  0.1542, -0.0278,  0.1243,\n",
       "           0.0940, -0.1155,  0.0595]),\n",
       "  tensor([ 0.4032,  0.0419,  0.3350,  0.1111,  0.0473,  0.0037,  0.1920, -0.0094,\n",
       "           0.0400, -0.0516, -0.2101, -0.0362,  0.0156, -0.1142,  0.1020,  0.0960,\n",
       "           0.0595, -0.0143, -0.0221,  0.0977,  0.1050,  0.1377, -0.1398, -0.0536,\n",
       "           0.0651,  0.0601,  0.0394, -0.0056, -0.0808,  0.0859, -0.0257,  0.1258,\n",
       "          -0.0577, -0.0964, -0.0430, -0.1127, -0.0729,  0.1385, -0.0031, -0.2030]),\n",
       "  tensor([ 6.1564e-01, -1.7492e-01,  8.6713e-02,  1.0463e-01, -9.4986e-03,\n",
       "          -8.5830e-02, -1.0061e-01, -2.9665e-01, -2.3459e-02, -8.7509e-03,\n",
       "          -2.0257e-01,  7.6368e-03, -6.6793e-02, -8.9620e-02, -4.6521e-02,\n",
       "           2.4777e-02, -1.3056e-01, -3.7994e-01, -2.6053e-01, -9.1608e-02,\n",
       "          -5.2023e-02, -4.0846e-04, -9.1460e-02,  2.4332e-02, -1.3883e-01,\n",
       "          -4.1122e-02, -2.2515e-02, -1.2067e-01, -1.4045e-01, -4.7143e-02,\n",
       "           8.3402e-02,  2.2556e-02,  3.2750e-02]),\n",
       "  tensor([ 0.0420,  0.1048, -0.1723,  0.0250,  0.0013, -0.2790, -0.1846,  0.1477,\n",
       "           0.0325,  0.0055,  0.0158,  0.2459, -0.0663, -0.1670,  0.0798,  0.0394,\n",
       "          -0.2387, -0.2070,  0.1782,  0.0034, -0.0386,  0.1579, -0.1228, -0.0343,\n",
       "           0.0384, -0.0629, -0.0076,  0.0277, -0.0090, -0.2492, -0.0172,  0.0583,\n",
       "          -0.0610,  0.0886, -0.0637,  0.1459,  0.0930, -0.0871,  0.0265,  0.1067,\n",
       "          -0.1225]),\n",
       "  tensor([ 0.0790, -0.0932, -0.1718, -0.0212, -0.0054,  0.1949,  0.1788,  0.1641,\n",
       "          -0.0743, -0.0325, -0.0657,  0.0903,  0.1509,  0.1996,  0.2281, -0.0684,\n",
       "          -0.3477,  0.0016, -0.1044,  0.0158,  0.2284,  0.0141, -0.2544,  0.0755,\n",
       "           0.0091, -0.0822, -0.2157,  0.1664, -0.0121,  0.0810,  0.0716, -0.2722,\n",
       "          -0.0154, -0.0080, -0.0187, -0.1661]),\n",
       "  tensor([-0.4101,  0.1395, -0.0868,  0.0419, -0.0185,  0.0798, -0.1806,  0.1791,\n",
       "           0.0344,  0.0746,  0.0705,  0.0790,  0.0289, -0.0389,  0.1642,  0.1223,\n",
       "           0.1475, -0.2036, -0.0025, -0.0970,  0.1116,  0.0766,  0.0902, -0.1540,\n",
       "          -0.1227,  0.0542,  0.0705, -0.0891, -0.1286,  0.0419,  0.0014,  0.0567,\n",
       "          -0.1214,  0.0931,  0.0268,  0.0250, -0.1779, -0.1445,  0.0724,  0.0398,\n",
       "           0.2529,  0.0130,  0.0099, -0.0086, -0.0377,  0.2144,  0.1015, -0.0628]),\n",
       "  tensor([ 0.4795,  0.0326,  0.0775, -0.1589, -0.0439,  0.0398,  0.0170,  0.0070,\n",
       "           0.2946, -0.0547,  0.0951,  0.1567, -0.0718,  0.1032, -0.1204,  0.2496,\n",
       "          -0.1150,  0.0570, -0.0300, -0.0299,  0.1691,  0.2363,  0.0058,  0.1033,\n",
       "           0.1212, -0.2226,  0.0062, -0.0494,  0.0237, -0.0267,  0.1099,  0.1046,\n",
       "          -0.1017, -0.1729, -0.1466,  0.1339, -0.1488, -0.0833,  0.1035,  0.1199,\n",
       "           0.1089]),\n",
       "  tensor([ 0.4468,  0.0791,  0.4461,  0.3754, -0.0283,  0.0830, -0.0014, -0.1054,\n",
       "          -0.0533, -0.0173, -0.0098,  0.1340,  0.0573, -0.0706,  0.0539, -0.0611,\n",
       "          -0.0672, -0.1406, -0.0070, -0.0202,  0.0628, -0.0398, -0.0200, -0.0805,\n",
       "          -0.0113,  0.1557,  0.0280,  0.1362,  0.0598, -0.0279,  0.0619, -0.0404,\n",
       "          -0.0672, -0.0541, -0.1493, -0.0337,  0.0097,  0.2448, -0.1245, -0.0512,\n",
       "           0.0988, -0.0196, -0.2677, -0.0103, -0.1441, -0.0116, -0.0234]),\n",
       "  tensor([ 8.3780e-01, -9.3123e-02,  2.4550e-01,  5.0704e-04,  2.8381e-02,\n",
       "          -1.0288e-01, -9.7750e-02, -9.7519e-02, -2.2666e-02, -7.0244e-02,\n",
       "           9.3268e-03,  4.3342e-02,  7.5344e-02, -5.0098e-02, -6.2000e-02,\n",
       "          -2.1428e-01, -3.4603e-02,  3.1099e-02, -5.4199e-02, -1.4721e-01,\n",
       "           1.2058e-02,  3.2527e-02,  4.3780e-02, -1.7079e-02, -3.2469e-02,\n",
       "           1.6856e-01, -1.1603e-01,  2.7861e-02,  2.8723e-02, -1.3855e-02,\n",
       "          -9.4878e-02, -7.7463e-02, -3.9459e-02]),\n",
       "  tensor([ 0.2637, -0.0622,  0.0861, -0.0963,  0.1619, -0.0802,  0.0332,  0.0198,\n",
       "          -0.1170,  0.1116,  0.0531,  0.1348,  0.2849, -0.0545, -0.1466, -0.0243,\n",
       "           0.1143,  0.1962,  0.2643, -0.2919,  0.0422, -0.1017, -0.2688,  0.1492,\n",
       "          -0.0593,  0.1612,  0.1819, -0.2207,  0.1198,  0.0014,  0.0168, -0.0019,\n",
       "           0.0676,  0.0065,  0.0366, -0.0316, -0.1436,  0.1258,  0.0474, -0.0357,\n",
       "          -0.1331, -0.1401, -0.0594,  0.0776,  0.1767,  0.0273,  0.1528,  0.0064,\n",
       "          -0.0886]),\n",
       "  tensor([ 0.2336,  0.1676, -0.2869,  0.0821,  0.2552, -0.1178,  0.0561, -0.1128,\n",
       "          -0.0389,  0.0234, -0.1377, -0.0087, -0.0875,  0.1608, -0.0828, -0.0799,\n",
       "           0.0074, -0.1959,  0.0582,  0.1584,  0.1197,  0.4048, -0.0855,  0.1436,\n",
       "           0.0223,  0.0685, -0.2033, -0.1369,  0.0562, -0.0297,  0.0379,  0.0769,\n",
       "          -0.0055, -0.2518,  0.0466,  0.1196, -0.0013, -0.0899]),\n",
       "  tensor([ 0.3115,  0.0260,  0.0189,  0.1949,  0.2839,  0.0241, -0.1736,  0.0373,\n",
       "           0.0619,  0.1545, -0.0214, -0.1776, -0.1206,  0.0487,  0.2988,  0.0509,\n",
       "          -0.0178,  0.0759, -0.2189,  0.1737,  0.1373, -0.0547, -0.2163,  0.1613,\n",
       "           0.0821, -0.0241]),\n",
       "  tensor([ 0.6359, -0.0847,  0.0499, -0.0873,  0.1743,  0.0115,  0.0635,  0.0471,\n",
       "          -0.0850,  0.2155,  0.0340, -0.0425,  0.0601, -0.0811,  0.0042,  0.0748,\n",
       "           0.2264, -0.0368, -0.0182,  0.0114, -0.0567, -0.0747,  0.1129,  0.0264,\n",
       "          -0.1601, -0.0229, -0.0265, -0.1415,  0.0097, -0.0174,  0.0269, -0.0798,\n",
       "           0.0090,  0.1027,  0.1236, -0.0480,  0.0022,  0.0433,  0.0216, -0.0695,\n",
       "          -0.0519, -0.0376,  0.0199, -0.0027, -0.0538]),\n",
       "  tensor([ 0.1747, -0.0039,  0.0983, -0.0303, -0.0133,  0.0294, -0.0632, -0.0871,\n",
       "          -0.0612,  0.0304, -0.0361,  0.1076,  0.0082,  0.2218,  0.0164,  0.1121,\n",
       "          -0.0266, -0.0363, -0.2741, -0.0803,  0.0495,  0.0006, -0.0276,  0.0419,\n",
       "          -0.0440, -0.1283,  0.0404, -0.0540, -0.0069,  0.0323,  0.0133, -0.0502,\n",
       "          -0.0879,  0.0837,  0.1683, -0.1566,  0.0423,  0.0022, -0.0068, -0.0611,\n",
       "           0.0360, -0.1174,  0.0420, -0.0307,  0.0458, -0.0301, -0.1540,  0.2071,\n",
       "          -0.1403,  0.0881, -0.2064, -0.0989, -0.0958, -0.0125, -0.0133, -0.0506,\n",
       "          -0.0417, -0.0434,  0.0132,  0.0903, -0.1211,  0.0979,  0.0468,  0.0405,\n",
       "          -0.0723, -0.0373, -0.0947,  0.0480,  0.0994,  0.0239, -0.1196, -0.1583,\n",
       "          -0.1121, -0.0742,  0.0764, -0.0402, -0.0543,  0.1072,  0.0527,  0.1185]),\n",
       "  tensor([ 0.6680, -0.1121, -0.0110,  0.0388, -0.1346, -0.1738,  0.0377, -0.0306,\n",
       "          -0.1224,  0.0654, -0.1446,  0.0864, -0.1225,  0.0525, -0.0053, -0.0140,\n",
       "           0.1344, -0.1409, -0.0936,  0.0693,  0.2354,  0.0218, -0.0482,  0.0576,\n",
       "           0.1312, -0.1137, -0.0247, -0.0920,  0.0366, -0.0639, -0.1333, -0.1387,\n",
       "          -0.0652,  0.1364, -0.0041]),\n",
       "  tensor([ 0.6119,  0.0493, -0.0412, -0.0021, -0.1920, -0.0499,  0.0973,  0.0610,\n",
       "          -0.0258,  0.1027, -0.0148, -0.1866, -0.0473, -0.2362, -0.0572, -0.1378,\n",
       "          -0.0720,  0.0172,  0.0319,  0.0467, -0.0706,  0.0106,  0.0392, -0.0070,\n",
       "          -0.1935,  0.0258,  0.0238, -0.1153,  0.0071, -0.0202,  0.0356, -0.1152,\n",
       "          -0.0313, -0.0657,  0.0184,  0.0935, -0.0080,  0.0009,  0.0967,  0.0067,\n",
       "           0.0081, -0.0804, -0.0228, -0.0293,  0.0652, -0.0170, -0.0065,  0.1683,\n",
       "           0.0225,  0.0573, -0.0900,  0.0365, -0.0379,  0.0486,  0.0235, -0.0547,\n",
       "           0.0878, -0.1104, -0.1398, -0.0061, -0.0216, -0.0526, -0.1752,  0.1271,\n",
       "           0.1128,  0.0281,  0.0729, -0.1255,  0.0193, -0.0551]),\n",
       "  tensor([ 0.7106, -0.2622, -0.3108, -0.0028, -0.0022,  0.0387,  0.0107, -0.0549,\n",
       "           0.0549, -0.1273,  0.0408, -0.1505, -0.1542, -0.0905, -0.0518, -0.0408,\n",
       "           0.0035, -0.0109, -0.0113,  0.1759,  0.1225,  0.1083,  0.0340, -0.0981,\n",
       "          -0.0363, -0.0525, -0.0622,  0.0067,  0.0451,  0.0992,  0.0674, -0.0258]),\n",
       "  tensor([ 0.4839, -0.0410, -0.0009,  0.0341,  0.0796,  0.0966, -0.1095,  0.0727,\n",
       "           0.0095,  0.0317, -0.0785,  0.0380, -0.1601,  0.1069, -0.1917, -0.0191,\n",
       "           0.0261, -0.1635,  0.0092, -0.1255, -0.1060,  0.1170, -0.2280,  0.0221,\n",
       "           0.1850, -0.0244, -0.0304,  0.0379, -0.1311, -0.2214,  0.0633, -0.0786,\n",
       "           0.2391,  0.1804, -0.0349, -0.0686,  0.1567,  0.0449,  0.0672, -0.0373,\n",
       "           0.1439,  0.0442, -0.0169]),\n",
       "  tensor([ 0.4296,  0.0547,  0.1008,  0.0969,  0.1063, -0.0458, -0.0497, -0.4286,\n",
       "          -0.2184, -0.2303, -0.0632,  0.1376, -0.0964, -0.1759,  0.0027,  0.1354,\n",
       "           0.0274,  0.2506,  0.2252,  0.0673, -0.0626, -0.1521, -0.1817,  0.0014,\n",
       "           0.0272,  0.0421, -0.0847,  0.0363,  0.1761, -0.1354,  0.0563, -0.0908,\n",
       "          -0.0992, -0.0410,  0.0426]),\n",
       "  tensor([ 0.3108,  0.2708, -0.1516,  0.2787, -0.1359,  0.0884, -0.2202, -0.2042,\n",
       "           0.0683, -0.1343, -0.0471,  0.0053,  0.0382, -0.0642,  0.2945, -0.3072,\n",
       "          -0.1148,  0.2262, -0.0694,  0.0459, -0.1544,  0.1817,  0.1107,  0.1257,\n",
       "           0.0852,  0.0333, -0.1563]),\n",
       "  tensor([ 0.6907,  0.0474, -0.1234,  0.0142,  0.1685,  0.0781,  0.0525,  0.0447,\n",
       "           0.1215,  0.0685,  0.0620,  0.0108,  0.1004,  0.0900, -0.0163,  0.0523,\n",
       "          -0.0292,  0.2446, -0.0261, -0.0092, -0.0084,  0.0063,  0.0530,  0.1025,\n",
       "           0.1977, -0.0218,  0.0171, -0.0224,  0.0483, -0.0225, -0.0860, -0.0572,\n",
       "          -0.0931, -0.0373,  0.0896,  0.0712, -0.1021,  0.0027,  0.0391,  0.0513,\n",
       "           0.0071,  0.0296,  0.0824, -0.0731, -0.0820,  0.0985, -0.0606,  0.0080,\n",
       "           0.1091,  0.0399]),\n",
       "  tensor([ 0.1004, -0.0434, -0.4921, -0.0812,  0.1331,  0.0053,  0.0249,  0.0280,\n",
       "           0.0686, -0.1121, -0.0870,  0.0203,  0.1864,  0.0101, -0.0832,  0.1241,\n",
       "           0.2080,  0.1701, -0.0351, -0.1359,  0.1610,  0.0633,  0.0881,  0.0507,\n",
       "          -0.0222,  0.0429,  0.0362, -0.0831, -0.0181,  0.1741,  0.1259, -0.1339,\n",
       "           0.0230,  0.0408,  0.0204,  0.1442,  0.2870, -0.0543, -0.0586,  0.2197,\n",
       "          -0.0064, -0.3214, -0.0077,  0.0232,  0.0334,  0.0175,  0.0439]),\n",
       "  tensor([ 0.8032,  0.0913,  0.0678, -0.2041,  0.0883,  0.0038, -0.0580, -0.0029,\n",
       "          -0.1281,  0.0072,  0.0929,  0.0014, -0.0057,  0.0293,  0.0133,  0.2588,\n",
       "          -0.0527,  0.0054, -0.0047, -0.0527, -0.0345,  0.0462, -0.0242,  0.0999,\n",
       "          -0.0202,  0.0364,  0.0460, -0.0679,  0.1451, -0.1733,  0.0663, -0.0026,\n",
       "           0.0746, -0.0170, -0.0810,  0.0222,  0.0106,  0.0294, -0.1259,  0.1046,\n",
       "          -0.0217,  0.1345,  0.0097,  0.0206]),\n",
       "  tensor([ 0.2058,  0.1297,  0.4957,  0.2252,  0.3513, -0.1046,  0.0136,  0.2747,\n",
       "           0.3254,  0.1312, -0.0366, -0.0488, -0.1197,  0.1974, -0.1740, -0.0105,\n",
       "          -0.0275, -0.0939, -0.0747, -0.1429,  0.0369,  0.0249, -0.1341, -0.1858,\n",
       "          -0.0896, -0.0940, -0.0169, -0.0243, -0.1129]),\n",
       "  tensor([ 4.5200e-01,  3.5643e-02,  9.3076e-03,  5.7588e-02,  3.3833e-02,\n",
       "          -6.3928e-02,  4.5769e-02,  3.4038e-02, -1.5043e-01,  9.8583e-02,\n",
       "           3.7671e-01,  8.3250e-02, -9.9029e-02,  1.2468e-01, -1.5109e-02,\n",
       "          -2.0234e-01,  1.7041e-01,  6.1537e-02,  1.9720e-01,  1.3409e-01,\n",
       "          -3.5633e-02,  5.5488e-02, -1.0433e-02,  4.2537e-02,  8.5964e-02,\n",
       "          -2.2530e-02,  2.6008e-02,  4.1325e-02, -1.0749e-01,  8.9312e-02,\n",
       "           1.2167e-01, -5.5496e-02,  1.0175e-01,  1.1447e-01,  5.1690e-02,\n",
       "          -9.0850e-02,  4.7585e-02,  1.3373e-01, -2.4043e-02,  1.2702e-02,\n",
       "          -5.8430e-02,  9.1669e-02, -1.6046e-01,  1.4583e-01, -3.0829e-02,\n",
       "           7.3687e-02,  2.0600e-02, -4.4923e-02,  4.2675e-04, -9.9101e-03,\n",
       "           8.2455e-02,  5.1640e-02,  1.3470e-02]),\n",
       "  tensor([ 5.5700e-01,  2.8730e-01,  3.2456e-01,  1.6863e-01, -1.3353e-01,\n",
       "           1.8682e-01, -7.1501e-03,  8.2187e-03,  3.3920e-02, -1.4937e-01,\n",
       "           7.9210e-02, -1.0585e-02, -9.4205e-02, -4.1513e-02,  1.1262e-01,\n",
       "           2.3968e-02,  2.4773e-01,  8.6267e-02, -6.2665e-02,  1.6855e-01,\n",
       "           2.4937e-02, -1.0991e-01,  8.7183e-02, -3.5888e-02, -8.1096e-02,\n",
       "          -4.7949e-02, -2.2714e-02, -7.0726e-02, -6.0928e-02, -1.9142e-01,\n",
       "           4.0291e-02, -1.7392e-02, -2.9195e-02,  9.2701e-02,  3.5228e-04,\n",
       "          -6.6105e-02,  6.6282e-02, -1.0917e-02,  2.4747e-03, -3.7213e-02,\n",
       "           6.4242e-02,  1.3870e-02,  7.2984e-03, -2.6237e-03, -1.4502e-01,\n",
       "           2.3300e-02,  7.3513e-02, -1.8429e-01]),\n",
       "  tensor([ 0.8529, -0.1448, -0.0273, -0.0381,  0.0472, -0.0103, -0.1604,  0.0981,\n",
       "           0.1335, -0.1068,  0.0347, -0.0785, -0.0359, -0.0922,  0.0566,  0.0778,\n",
       "           0.0150, -0.0016, -0.0780,  0.0157,  0.0308, -0.1693, -0.0011, -0.1093,\n",
       "          -0.0934]),\n",
       "  tensor([ 0.6146,  0.1109, -0.0317, -0.2196, -0.0325, -0.0283,  0.0193, -0.1624,\n",
       "           0.1090,  0.0627, -0.0054,  0.0440, -0.0677, -0.0190, -0.1021, -0.1184,\n",
       "           0.0329, -0.0034, -0.1624, -0.0311, -0.0639, -0.1208, -0.0937, -0.1305,\n",
       "          -0.1025,  0.0646,  0.0624, -0.1140,  0.1167,  0.0074,  0.0687, -0.1124,\n",
       "           0.0110,  0.0496,  0.0796, -0.1018, -0.1308, -0.0255,  0.0803, -0.1256,\n",
       "          -0.0300, -0.2526,  0.0458,  0.0680, -0.0450,  0.0585,  0.0305, -0.0621,\n",
       "          -0.1171,  0.0594, -0.0589,  0.0406,  0.1427, -0.0742, -0.0554,  0.0097,\n",
       "          -0.1028,  0.2760]),\n",
       "  tensor([ 0.1932,  0.0382, -0.1712, -0.2128, -0.0895,  0.0173,  0.0850, -0.0066,\n",
       "           0.0893,  0.0245, -0.0066,  0.0889,  0.1336, -0.0946, -0.1877,  0.1179,\n",
       "          -0.0660,  0.1401, -0.0966, -0.0174,  0.0458, -0.0960,  0.0143,  0.0448,\n",
       "          -0.1123, -0.1842,  0.1174,  0.0636, -0.0250,  0.0448, -0.0980, -0.0708,\n",
       "          -0.1006, -0.1088, -0.0492, -0.0493,  0.1210,  0.1021,  0.1094, -0.0146,\n",
       "           0.0546,  0.0357, -0.1328,  0.0614,  0.0048, -0.0018, -0.0411,  0.0222,\n",
       "           0.1662, -0.1460, -0.0496,  0.0516, -0.0488, -0.0199,  0.0979, -0.0261,\n",
       "          -0.2111,  0.0308,  0.0393, -0.0207,  0.0561, -0.0175,  0.1053, -0.0367,\n",
       "          -0.0855, -0.0850, -0.0649,  0.0086, -0.0224,  0.1030,  0.1130]),\n",
       "  tensor([-9.1831e-02,  8.7778e-03, -1.9003e-01,  9.1342e-02,  2.1472e-02,\n",
       "          -3.3844e-01,  4.9760e-02, -1.4765e-01,  5.7623e-02, -6.1080e-03,\n",
       "          -4.8973e-02,  5.8075e-02,  4.4199e-02, -1.2398e-04,  2.1687e-01,\n",
       "          -8.5400e-03,  8.5159e-02,  1.4752e-01,  1.1472e-01, -3.6019e-02,\n",
       "           4.3194e-02, -1.0025e-01, -6.1543e-02, -3.1022e-01, -1.7687e-01,\n",
       "           6.6517e-02,  7.6956e-02, -1.1214e-02, -2.3568e-02, -1.7843e-02,\n",
       "           3.6807e-03, -6.5881e-02,  3.0304e-02, -3.5806e-02,  6.9862e-02,\n",
       "          -6.0574e-02,  3.9610e-03,  1.1593e-02,  5.0440e-02, -5.2881e-02,\n",
       "           4.3779e-02, -7.6069e-02, -3.0567e-02,  4.0918e-03, -4.3341e-02,\n",
       "          -1.1390e-01, -3.6302e-02,  6.5647e-02, -5.4938e-02, -3.2684e-02,\n",
       "          -1.0538e-01,  4.3457e-02, -8.1641e-02,  1.6700e-01,  1.0726e-01,\n",
       "           3.7825e-02, -4.8712e-02,  1.8309e-01,  9.2319e-03,  7.6995e-02,\n",
       "           1.4410e-01,  4.4108e-02,  4.5719e-02, -1.2969e-02, -1.2769e-01,\n",
       "           1.4278e-01,  8.8057e-02, -7.0665e-02,  9.3274e-02, -3.0640e-02,\n",
       "           2.0039e-01,  7.5836e-02, -1.9827e-02, -6.9258e-02, -1.4404e-02,\n",
       "           9.5669e-03, -1.1239e-01, -2.7038e-02, -9.1854e-04, -5.6277e-02,\n",
       "          -1.4927e-01,  5.0003e-02,  7.3351e-02,  1.1306e-01,  9.9019e-02]),\n",
       "  tensor([ 0.0192,  0.0380,  0.1420,  0.0764, -0.0106, -0.0253, -0.0054, -0.0605,\n",
       "          -0.0862, -0.0639,  0.0348, -0.0047, -0.0415,  0.1713, -0.0225, -0.0396,\n",
       "           0.0175, -0.1527, -0.0578, -0.1054, -0.0264, -0.0229, -0.0065,  0.0955,\n",
       "          -0.0199,  0.0958,  0.2416,  0.0587,  0.0055,  0.1997, -0.0190,  0.1220,\n",
       "          -0.0224, -0.0291,  0.0121,  0.1180,  0.0412, -0.0456, -0.0170,  0.0088,\n",
       "          -0.0716, -0.0496, -0.0396, -0.0381, -0.0146, -0.1205, -0.0649,  0.0220,\n",
       "           0.0193, -0.0368,  0.0157, -0.0118,  0.0099, -0.1634, -0.1503, -0.0259,\n",
       "          -0.0771, -0.0963, -0.0925, -0.1579,  0.1499,  0.0157, -0.0606,  0.0765,\n",
       "           0.2534, -0.0346,  0.0544,  0.1001,  0.0594,  0.0245, -0.0755,  0.0482,\n",
       "          -0.0758, -0.0042])],\n",
       " 'raw_input_list': [['[CLS]',\n",
       "   'what',\n",
       "   'would',\n",
       "   'a',\n",
       "   'teacher',\n",
       "   'assess',\n",
       "   'the',\n",
       "   'levels',\n",
       "   'of',\n",
       "   'a',\n",
       "   'student',\n",
       "   'on?',\n",
       "   '[SEP]',\n",
       "   '[SEP]',\n",
       "   'for',\n",
       "   'example,',\n",
       "   'an',\n",
       "   'experienced',\n",
       "   'teacher',\n",
       "   'and',\n",
       "   'parent',\n",
       "   'described',\n",
       "   'the',\n",
       "   'place',\n",
       "   'of',\n",
       "   'a',\n",
       "   'teacher',\n",
       "   'in',\n",
       "   'learning',\n",
       "   'as',\n",
       "   'follows:',\n",
       "   '\"the',\n",
       "   'real',\n",
       "   'bulk',\n",
       "   'of',\n",
       "   'learning',\n",
       "   'takes',\n",
       "   'place',\n",
       "   'in',\n",
       "   'self-study',\n",
       "   'and',\n",
       "   'problem',\n",
       "   'solving',\n",
       "   'with',\n",
       "   'a',\n",
       "   'lot',\n",
       "   'of',\n",
       "   'feedback',\n",
       "   'around',\n",
       "   'that',\n",
       "   'loop.',\n",
       "   '[SEP]'],\n",
       "  ['[CLS]',\n",
       "   'what',\n",
       "   'company',\n",
       "   'created',\n",
       "   'doctor',\n",
       "   'who?',\n",
       "   '[SEP]',\n",
       "   '[SEP]',\n",
       "   'who',\n",
       "   'character',\n",
       "   'by',\n",
       "   'bbc',\n",
       "   'television',\n",
       "   'in',\n",
       "   'the',\n",
       "   'early',\n",
       "   '1960s,',\n",
       "   'a',\n",
       "   'myriad',\n",
       "   'of',\n",
       "   'stories',\n",
       "   'have',\n",
       "   'been',\n",
       "   'published',\n",
       "   'about',\n",
       "   'doctor',\n",
       "   'who,',\n",
       "   'in',\n",
       "   'different',\n",
       "   'media:',\n",
       "   'apart',\n",
       "   'from',\n",
       "   'the',\n",
       "   'actual',\n",
       "   'television',\n",
       "   'episodes',\n",
       "   'that',\n",
       "   'continue',\n",
       "   'to',\n",
       "   'be',\n",
       "   'produced',\n",
       "   'by',\n",
       "   'the',\n",
       "   'bbc,',\n",
       "   'there',\n",
       "   'have',\n",
       "   'also',\n",
       "   'been',\n",
       "   'novels,',\n",
       "   'comics,',\n",
       "   'short',\n",
       "   'stories,',\n",
       "   'audio',\n",
       "   'books,',\n",
       "   'radio',\n",
       "   'plays,',\n",
       "   'interactive',\n",
       "   'video',\n",
       "   'games,',\n",
       "   'game',\n",
       "   'books,',\n",
       "   'webcasts,',\n",
       "   'dvd',\n",
       "   'extras,',\n",
       "   'and',\n",
       "   'even',\n",
       "   'stage',\n",
       "   'performances.',\n",
       "   '[SEP]'],\n",
       "  ['[CLS]',\n",
       "   'what',\n",
       "   'was',\n",
       "   'the',\n",
       "   'name',\n",
       "   'of',\n",
       "   'the',\n",
       "   'media',\n",
       "   'day',\n",
       "   'event',\n",
       "   'for',\n",
       "   'super',\n",
       "   'bowl',\n",
       "   '50?',\n",
       "   '[SEP]',\n",
       "   '[SEP]',\n",
       "   'the',\n",
       "   \"game's\",\n",
       "   'media',\n",
       "   'day,',\n",
       "   'which',\n",
       "   'was',\n",
       "   'typically',\n",
       "   'held',\n",
       "   'on',\n",
       "   'the',\n",
       "   'tuesday',\n",
       "   'afternoon',\n",
       "   'prior',\n",
       "   'to',\n",
       "   'the',\n",
       "   'game,',\n",
       "   'was',\n",
       "   'moved',\n",
       "   'to',\n",
       "   'the',\n",
       "   'monday',\n",
       "   'evening',\n",
       "   'and',\n",
       "   're-branded',\n",
       "   'as',\n",
       "   'super',\n",
       "   'bowl',\n",
       "   'opening',\n",
       "   'night.',\n",
       "   '[SEP]'],\n",
       "  ['[CLS]',\n",
       "   'how',\n",
       "   'many',\n",
       "   'doctor',\n",
       "   'who',\n",
       "   'soundtracks',\n",
       "   'have',\n",
       "   'been',\n",
       "   'released',\n",
       "   'since',\n",
       "   '2005?',\n",
       "   '[SEP]',\n",
       "   '[SEP]',\n",
       "   'the',\n",
       "   'fourth',\n",
       "   'was',\n",
       "   'released',\n",
       "   'on',\n",
       "   '4',\n",
       "   'october',\n",
       "   '2010',\n",
       "   'as',\n",
       "   'a',\n",
       "   'two',\n",
       "   'disc',\n",
       "   'special',\n",
       "   'edition',\n",
       "   'and',\n",
       "   'contained',\n",
       "   'music',\n",
       "   'from',\n",
       "   'the',\n",
       "   '2008–2010',\n",
       "   'specials',\n",
       "   '(the',\n",
       "   'next',\n",
       "   'doctor',\n",
       "   'to',\n",
       "   'end',\n",
       "   'of',\n",
       "   'time',\n",
       "   'part',\n",
       "   '2).',\n",
       "   '[SEP]'],\n",
       "  ['[CLS]',\n",
       "   'what',\n",
       "   'is',\n",
       "   'the',\n",
       "   'name',\n",
       "   'of',\n",
       "   'the',\n",
       "   \"country's\",\n",
       "   'longest',\n",
       "   'continuously',\n",
       "   'running',\n",
       "   'student',\n",
       "   'film',\n",
       "   'society?',\n",
       "   '[SEP]',\n",
       "   '[SEP]',\n",
       "   'students',\n",
       "   'at',\n",
       "   'the',\n",
       "   'university',\n",
       "   'of',\n",
       "   'chicago',\n",
       "   'run',\n",
       "   'over',\n",
       "   '400',\n",
       "   'clubs',\n",
       "   'and',\n",
       "   'organizations',\n",
       "   'known',\n",
       "   'as',\n",
       "   'recognized',\n",
       "   'student',\n",
       "   'organizations',\n",
       "   '(rsos).',\n",
       "   '[SEP]'],\n",
       "  ['[CLS]',\n",
       "   'how',\n",
       "   'many',\n",
       "   'times',\n",
       "   'has',\n",
       "   'the',\n",
       "   'south',\n",
       "   'florida/miami',\n",
       "   'area',\n",
       "   'hosted',\n",
       "   'the',\n",
       "   'super',\n",
       "   'bowl?',\n",
       "   '[SEP]',\n",
       "   '[SEP]',\n",
       "   'the',\n",
       "   'south',\n",
       "   'florida/miami',\n",
       "   'area',\n",
       "   'has',\n",
       "   'previously',\n",
       "   'hosted',\n",
       "   'the',\n",
       "   'event',\n",
       "   '10',\n",
       "   'times',\n",
       "   '(tied',\n",
       "   'for',\n",
       "   'most',\n",
       "   'with',\n",
       "   'new',\n",
       "   'orleans),',\n",
       "   'with',\n",
       "   'the',\n",
       "   'most',\n",
       "   'recent',\n",
       "   'one',\n",
       "   'being',\n",
       "   'super',\n",
       "   'bowl',\n",
       "   'xliv',\n",
       "   'in',\n",
       "   '2010.',\n",
       "   '[SEP]'],\n",
       "  ['[CLS]',\n",
       "   'what',\n",
       "   'is',\n",
       "   'different',\n",
       "   'about',\n",
       "   'paulinella',\n",
       "   'chromatophora?',\n",
       "   '[SEP]',\n",
       "   '[SEP]',\n",
       "   'it',\n",
       "   'is',\n",
       "   'not',\n",
       "   'clear',\n",
       "   'whether',\n",
       "   'that',\n",
       "   'symbiont',\n",
       "   'is',\n",
       "   'closely',\n",
       "   'related',\n",
       "   'to',\n",
       "   'the',\n",
       "   'ancestral',\n",
       "   'chloroplast',\n",
       "   'of',\n",
       "   'other',\n",
       "   'eukaryotes.',\n",
       "   '[SEP]'],\n",
       "  ['[CLS]',\n",
       "   'who',\n",
       "   'played',\n",
       "   'doctor',\n",
       "   'who',\n",
       "   'on',\n",
       "   'stage',\n",
       "   'in',\n",
       "   'the',\n",
       "   \"70's?\",\n",
       "   '[SEP]',\n",
       "   '[SEP]',\n",
       "   'doctor',\n",
       "   'who',\n",
       "   'has',\n",
       "   'appeared',\n",
       "   'on',\n",
       "   'stage',\n",
       "   'numerous',\n",
       "   'times.',\n",
       "   '[SEP]'],\n",
       "  ['[CLS]',\n",
       "   'who',\n",
       "   'do',\n",
       "   'clinical',\n",
       "   'pharmacists',\n",
       "   'work',\n",
       "   'with',\n",
       "   'much',\n",
       "   'of',\n",
       "   'the',\n",
       "   'time?',\n",
       "   '[SEP]',\n",
       "   '[SEP]',\n",
       "   'clinical',\n",
       "   'pharmacists',\n",
       "   'often',\n",
       "   'collaborate',\n",
       "   'with',\n",
       "   'physicians',\n",
       "   'and',\n",
       "   'other',\n",
       "   'healthcare',\n",
       "   'professionals',\n",
       "   'to',\n",
       "   'improve',\n",
       "   'pharmaceutical',\n",
       "   'care.',\n",
       "   '[SEP]'],\n",
       "  ['[CLS]',\n",
       "   'in',\n",
       "   'which',\n",
       "   'county',\n",
       "   'does',\n",
       "   'jacksonville',\n",
       "   'reside?',\n",
       "   '[SEP]',\n",
       "   '[SEP]',\n",
       "   'it',\n",
       "   'is',\n",
       "   'the',\n",
       "   'county',\n",
       "   'seat',\n",
       "   'of',\n",
       "   'duval',\n",
       "   'county,',\n",
       "   'with',\n",
       "   'which',\n",
       "   'the',\n",
       "   'city',\n",
       "   'government',\n",
       "   'consolidated',\n",
       "   'in',\n",
       "   '1968.',\n",
       "   '[SEP]'],\n",
       "  ['[CLS]',\n",
       "   'who',\n",
       "   'did',\n",
       "   'genghis',\n",
       "   'khan',\n",
       "   'charge',\n",
       "   'with',\n",
       "   'finding',\n",
       "   'and',\n",
       "   'punishing',\n",
       "   'the',\n",
       "   'shah?',\n",
       "   '[SEP]',\n",
       "   '[SEP]',\n",
       "   'genghis',\n",
       "   'khan',\n",
       "   'ordered',\n",
       "   'the',\n",
       "   'wholesale',\n",
       "   'massacre',\n",
       "   'of',\n",
       "   'many',\n",
       "   'of',\n",
       "   'the',\n",
       "   'civilians,',\n",
       "   'enslaved',\n",
       "   'the',\n",
       "   'rest',\n",
       "   'of',\n",
       "   'the',\n",
       "   'population',\n",
       "   'and',\n",
       "   'executed',\n",
       "   'inalchuq',\n",
       "   'by',\n",
       "   'pouring',\n",
       "   'molten',\n",
       "   'silver',\n",
       "   'into',\n",
       "   'his',\n",
       "   'ears',\n",
       "   'and',\n",
       "   'eyes,',\n",
       "   'as',\n",
       "   'retribution',\n",
       "   'for',\n",
       "   'his',\n",
       "   'actions.',\n",
       "   '[SEP]'],\n",
       "  ['[CLS]',\n",
       "   'what',\n",
       "   'entity',\n",
       "   'enforces',\n",
       "   'the',\n",
       "   'charter',\n",
       "   'of',\n",
       "   'fundamental',\n",
       "   'rights',\n",
       "   'of',\n",
       "   'the',\n",
       "   'european',\n",
       "   'union?',\n",
       "   '[SEP]',\n",
       "   '[SEP]',\n",
       "   'in',\n",
       "   'effect,',\n",
       "   'after',\n",
       "   'the',\n",
       "   'lisbon',\n",
       "   'treaty,',\n",
       "   'the',\n",
       "   'charter',\n",
       "   'and',\n",
       "   'the',\n",
       "   'convention',\n",
       "   'now',\n",
       "   'co-exist',\n",
       "   'under',\n",
       "   'european',\n",
       "   'union',\n",
       "   'law,',\n",
       "   'though',\n",
       "   'the',\n",
       "   'former',\n",
       "   'is',\n",
       "   'enforced',\n",
       "   'by',\n",
       "   'the',\n",
       "   'european',\n",
       "   'court',\n",
       "   'of',\n",
       "   'justice',\n",
       "   'in',\n",
       "   'relation',\n",
       "   'to',\n",
       "   'european',\n",
       "   'union',\n",
       "   'measures,',\n",
       "   'and',\n",
       "   'the',\n",
       "   'latter',\n",
       "   'by',\n",
       "   'the',\n",
       "   'european',\n",
       "   'court',\n",
       "   'of',\n",
       "   'human',\n",
       "   'rights',\n",
       "   'in',\n",
       "   'relation',\n",
       "   'to',\n",
       "   'measures',\n",
       "   'by',\n",
       "   'member',\n",
       "   'states.',\n",
       "   '[SEP]'],\n",
       "  ['[CLS]',\n",
       "   'most',\n",
       "   'of',\n",
       "   'the',\n",
       "   \"museum's\",\n",
       "   'collection',\n",
       "   'had',\n",
       "   'been',\n",
       "   'returned',\n",
       "   'by',\n",
       "   'which',\n",
       "   'year?',\n",
       "   '[SEP]',\n",
       "   '[SEP]',\n",
       "   'before',\n",
       "   'the',\n",
       "   'return',\n",
       "   'of',\n",
       "   'the',\n",
       "   'collections',\n",
       "   'after',\n",
       "   'the',\n",
       "   'war,',\n",
       "   'the',\n",
       "   'britain',\n",
       "   'can',\n",
       "   'make',\n",
       "   'it',\n",
       "   'exhibition',\n",
       "   'was',\n",
       "   'held',\n",
       "   'between',\n",
       "   'september',\n",
       "   'and',\n",
       "   'november',\n",
       "   '1946,',\n",
       "   'attracting',\n",
       "   'nearly',\n",
       "   'a',\n",
       "   'million',\n",
       "   'and',\n",
       "   'a',\n",
       "   'half',\n",
       "   'visitors.',\n",
       "   '[SEP]'],\n",
       "  ['[CLS]',\n",
       "   'within',\n",
       "   'the',\n",
       "   '30',\n",
       "   'days',\n",
       "   'how',\n",
       "   'many',\n",
       "   'digiboxes',\n",
       "   'had',\n",
       "   'been',\n",
       "   'sold?',\n",
       "   '[SEP]',\n",
       "   '[SEP]',\n",
       "   'within',\n",
       "   '30',\n",
       "   'days,',\n",
       "   'over',\n",
       "   '100,000',\n",
       "   'digiboxes',\n",
       "   'had',\n",
       "   'been',\n",
       "   'sold,',\n",
       "   'which',\n",
       "   'help',\n",
       "   'bolstered',\n",
       "   \"bskyb's\",\n",
       "   'decision',\n",
       "   'to',\n",
       "   'give',\n",
       "   'away',\n",
       "   'free',\n",
       "   'digiboxes',\n",
       "   'and',\n",
       "   'minidishes',\n",
       "   'from',\n",
       "   'may',\n",
       "   '1999.',\n",
       "   '[SEP]'],\n",
       "  ['[CLS]',\n",
       "   'the',\n",
       "   'receptors',\n",
       "   'on',\n",
       "   'a',\n",
       "   'killer',\n",
       "   't',\n",
       "   'cell',\n",
       "   'must',\n",
       "   'bind',\n",
       "   'to',\n",
       "   'how',\n",
       "   'many',\n",
       "   'mhc:',\n",
       "   'antigen',\n",
       "   'complexes',\n",
       "   'in',\n",
       "   'order',\n",
       "   'to',\n",
       "   'activate',\n",
       "   'the',\n",
       "   'cell?',\n",
       "   '[SEP]',\n",
       "   '[SEP]',\n",
       "   'the',\n",
       "   'mhc:antigen',\n",
       "   'complex',\n",
       "   'is',\n",
       "   'also',\n",
       "   'recognized',\n",
       "   'by',\n",
       "   'the',\n",
       "   'helper',\n",
       "   \"cell's\",\n",
       "   'cd4',\n",
       "   'co-receptor,',\n",
       "   'which',\n",
       "   'recruits',\n",
       "   'molecules',\n",
       "   'inside',\n",
       "   'the',\n",
       "   't',\n",
       "   'cell',\n",
       "   '(e.g.,',\n",
       "   'lck)',\n",
       "   'that',\n",
       "   'are',\n",
       "   'responsible',\n",
       "   'for',\n",
       "   'the',\n",
       "   't',\n",
       "   \"cell's\",\n",
       "   'activation.',\n",
       "   '[SEP]'],\n",
       "  ['[CLS]',\n",
       "   'how',\n",
       "   'much',\n",
       "   'did',\n",
       "   'westinghouse',\n",
       "   'pay',\n",
       "   'for',\n",
       "   \"tesla's\",\n",
       "   'designs?',\n",
       "   '[SEP]',\n",
       "   '[SEP]',\n",
       "   'in',\n",
       "   'july',\n",
       "   '1888,',\n",
       "   'brown',\n",
       "   'and',\n",
       "   'peck',\n",
       "   'negotiated',\n",
       "   'a',\n",
       "   'licensing',\n",
       "   'deal',\n",
       "   'with',\n",
       "   'george',\n",
       "   'westinghouse',\n",
       "   'for',\n",
       "   \"tesla's\",\n",
       "   'polyphase',\n",
       "   'induction',\n",
       "   'motor',\n",
       "   'and',\n",
       "   'transformer',\n",
       "   'designs',\n",
       "   'for',\n",
       "   '$60,000',\n",
       "   'in',\n",
       "   'cash',\n",
       "   'and',\n",
       "   'stock',\n",
       "   'and',\n",
       "   'a',\n",
       "   'royalty',\n",
       "   'of',\n",
       "   '$2.50',\n",
       "   'per',\n",
       "   'ac',\n",
       "   'horsepower',\n",
       "   'produced',\n",
       "   'by',\n",
       "   'each',\n",
       "   'motor.',\n",
       "   '[SEP]'],\n",
       "  ['[CLS]',\n",
       "   'what',\n",
       "   'type',\n",
       "   'of',\n",
       "   'movies',\n",
       "   'were',\n",
       "   'produced',\n",
       "   'in',\n",
       "   \"jacksonville's\",\n",
       "   '30',\n",
       "   'studios?',\n",
       "   '[SEP]',\n",
       "   '[SEP]',\n",
       "   'one',\n",
       "   'converted',\n",
       "   'movie',\n",
       "   'studio',\n",
       "   'site,',\n",
       "   'norman',\n",
       "   'studios,',\n",
       "   'remains',\n",
       "   'in',\n",
       "   'arlington;',\n",
       "   'it',\n",
       "   'has',\n",
       "   'been',\n",
       "   'converted',\n",
       "   'to',\n",
       "   'the',\n",
       "   'jacksonville',\n",
       "   'silent',\n",
       "   'film',\n",
       "   'museum',\n",
       "   'at',\n",
       "   'norman',\n",
       "   'studios.',\n",
       "   '[SEP]'],\n",
       "  ['[CLS]',\n",
       "   'what',\n",
       "   'voyager',\n",
       "   'said',\n",
       "   'that',\n",
       "   'mombasa',\n",
       "   'was',\n",
       "   'a',\n",
       "   'great',\n",
       "   'harbour',\n",
       "   'and',\n",
       "   'moored',\n",
       "   'small',\n",
       "   'crafts',\n",
       "   'and',\n",
       "   'great',\n",
       "   'ships?',\n",
       "   '[SEP]',\n",
       "   '[SEP]',\n",
       "   'the',\n",
       "   'swahili',\n",
       "   'built',\n",
       "   'mombasa',\n",
       "   'into',\n",
       "   'a',\n",
       "   'major',\n",
       "   'port',\n",
       "   'city',\n",
       "   'and',\n",
       "   'established',\n",
       "   'trade',\n",
       "   'links',\n",
       "   'with',\n",
       "   'other',\n",
       "   'nearby',\n",
       "   'city-states,',\n",
       "   'as',\n",
       "   'well',\n",
       "   'as',\n",
       "   'commercial',\n",
       "   'centres',\n",
       "   'in',\n",
       "   'persia,',\n",
       "   'arabia,',\n",
       "   'and',\n",
       "   'even',\n",
       "   'india.',\n",
       "   '[SEP]'],\n",
       "  ['[CLS]',\n",
       "   'where',\n",
       "   'is',\n",
       "   'energiprojekt',\n",
       "   'ab',\n",
       "   'based?',\n",
       "   '[SEP]',\n",
       "   '[SEP]',\n",
       "   'although',\n",
       "   'the',\n",
       "   'reciprocating',\n",
       "   'steam',\n",
       "   'engine',\n",
       "   'is',\n",
       "   'no',\n",
       "   'longer',\n",
       "   'in',\n",
       "   'widespread',\n",
       "   'commercial',\n",
       "   'use,',\n",
       "   'various',\n",
       "   'companies',\n",
       "   'are',\n",
       "   'exploring',\n",
       "   'or',\n",
       "   'exploiting',\n",
       "   'the',\n",
       "   'potential',\n",
       "   'of',\n",
       "   'the',\n",
       "   'engine',\n",
       "   'as',\n",
       "   'an',\n",
       "   'alternative',\n",
       "   'to',\n",
       "   'internal',\n",
       "   'combustion',\n",
       "   'engines.',\n",
       "   '[SEP]'],\n",
       "  ['[CLS]',\n",
       "   'who',\n",
       "   'other',\n",
       "   'than',\n",
       "   'tesla',\n",
       "   'did',\n",
       "   'westinghouse',\n",
       "   'consider',\n",
       "   'for',\n",
       "   'the',\n",
       "   'patents?',\n",
       "   '[SEP]',\n",
       "   '[SEP]',\n",
       "   'westinghouse',\n",
       "   'looked',\n",
       "   'into',\n",
       "   'getting',\n",
       "   'a',\n",
       "   'patent',\n",
       "   'on',\n",
       "   'a',\n",
       "   'similar',\n",
       "   'commutator-less,',\n",
       "   'rotating',\n",
       "   'magnetic',\n",
       "   'field-based',\n",
       "   'induction',\n",
       "   'motor',\n",
       "   'presented',\n",
       "   'in',\n",
       "   'a',\n",
       "   'paper',\n",
       "   'in',\n",
       "   'march',\n",
       "   '1888',\n",
       "   'by',\n",
       "   'the',\n",
       "   'italian',\n",
       "   'physicist',\n",
       "   'galileo',\n",
       "   'ferraris,',\n",
       "   'but',\n",
       "   'decided',\n",
       "   \"tesla's\",\n",
       "   'patent',\n",
       "   'would',\n",
       "   'probably',\n",
       "   'control',\n",
       "   'the',\n",
       "   'market.',\n",
       "   '[SEP]'],\n",
       "  ['[CLS]',\n",
       "   'what',\n",
       "   'separates',\n",
       "   'the',\n",
       "   'neuroimmune',\n",
       "   'system',\n",
       "   'and',\n",
       "   'peripheral',\n",
       "   'immune',\n",
       "   'system',\n",
       "   'in',\n",
       "   'humans?',\n",
       "   '[SEP]',\n",
       "   '[SEP]',\n",
       "   'in',\n",
       "   'humans,',\n",
       "   'the',\n",
       "   'blood–brain',\n",
       "   'barrier,',\n",
       "   'blood–cerebrospinal',\n",
       "   'fluid',\n",
       "   'barrier,',\n",
       "   'and',\n",
       "   'similar',\n",
       "   'fluid–brain',\n",
       "   'barriers',\n",
       "   'separate',\n",
       "   'the',\n",
       "   'peripheral',\n",
       "   'immune',\n",
       "   'system',\n",
       "   'from',\n",
       "   'the',\n",
       "   'neuroimmune',\n",
       "   'system',\n",
       "   'which',\n",
       "   'protects',\n",
       "   'the',\n",
       "   'brain.',\n",
       "   '[SEP]'],\n",
       "  ['[CLS]',\n",
       "   'what',\n",
       "   'did',\n",
       "   \"kublai's\",\n",
       "   'government',\n",
       "   'have',\n",
       "   'to',\n",
       "   'balance',\n",
       "   'between?',\n",
       "   '[SEP]',\n",
       "   '[SEP]',\n",
       "   \"kublai's\",\n",
       "   'government',\n",
       "   'after',\n",
       "   '1262',\n",
       "   'was',\n",
       "   'a',\n",
       "   'compromise',\n",
       "   'between',\n",
       "   'preserving',\n",
       "   'mongol',\n",
       "   'interests',\n",
       "   'in',\n",
       "   'china',\n",
       "   'and',\n",
       "   'satisfying',\n",
       "   'the',\n",
       "   'demands',\n",
       "   'of',\n",
       "   'his',\n",
       "   'chinese',\n",
       "   'subjects.',\n",
       "   '[SEP]'],\n",
       "  ['[CLS]',\n",
       "   'what',\n",
       "   'did',\n",
       "   \"gasquet's\",\n",
       "   'book',\n",
       "   'blame',\n",
       "   'the',\n",
       "   'plague',\n",
       "   'on?',\n",
       "   '[SEP]',\n",
       "   '[SEP]',\n",
       "   'the',\n",
       "   'historian',\n",
       "   'francis',\n",
       "   'aidan',\n",
       "   'gasquet',\n",
       "   'wrote',\n",
       "   'about',\n",
       "   'the',\n",
       "   \"'great\",\n",
       "   \"pestilence'\",\n",
       "   'in',\n",
       "   '1893',\n",
       "   'and',\n",
       "   'suggested',\n",
       "   'that',\n",
       "   '\"it',\n",
       "   'would',\n",
       "   'appear',\n",
       "   'to',\n",
       "   'be',\n",
       "   'some',\n",
       "   'form',\n",
       "   'of',\n",
       "   'the',\n",
       "   'ordinary',\n",
       "   'eastern',\n",
       "   'or',\n",
       "   'bubonic',\n",
       "   'plague\".',\n",
       "   '[SEP]'],\n",
       "  ['[CLS]',\n",
       "   'who',\n",
       "   'shared',\n",
       "   'sideline',\n",
       "   'duties',\n",
       "   'with',\n",
       "   'evan',\n",
       "   'washburn?',\n",
       "   '[SEP]',\n",
       "   '[SEP]',\n",
       "   'in',\n",
       "   'the',\n",
       "   'united',\n",
       "   'states,',\n",
       "   'the',\n",
       "   'game',\n",
       "   'was',\n",
       "   'televised',\n",
       "   'by',\n",
       "   'cbs,',\n",
       "   'as',\n",
       "   'part',\n",
       "   'of',\n",
       "   'a',\n",
       "   'cycle',\n",
       "   'between',\n",
       "   'the',\n",
       "   'three',\n",
       "   'main',\n",
       "   'broadcast',\n",
       "   'television',\n",
       "   'partners',\n",
       "   'of',\n",
       "   'the',\n",
       "   'nfl.',\n",
       "   '[SEP]'],\n",
       "  ['[CLS]',\n",
       "   'who',\n",
       "   'was',\n",
       "   'added',\n",
       "   'to',\n",
       "   'party',\n",
       "   'as',\n",
       "   'washington',\n",
       "   'went',\n",
       "   'on',\n",
       "   'the',\n",
       "   'way?',\n",
       "   '[SEP]',\n",
       "   '[SEP]',\n",
       "   'washington',\n",
       "   'left',\n",
       "   'with',\n",
       "   'a',\n",
       "   'small',\n",
       "   'party,',\n",
       "   'picking',\n",
       "   'up',\n",
       "   'along',\n",
       "   'the',\n",
       "   'way',\n",
       "   'jacob',\n",
       "   'van',\n",
       "   'braam',\n",
       "   'as',\n",
       "   'an',\n",
       "   'interpreter;',\n",
       "   'christopher',\n",
       "   'gist,',\n",
       "   'a',\n",
       "   'company',\n",
       "   'surveyor',\n",
       "   'working',\n",
       "   'in',\n",
       "   'the',\n",
       "   'area;',\n",
       "   'and',\n",
       "   'a',\n",
       "   'few',\n",
       "   'mingo',\n",
       "   'led',\n",
       "   'by',\n",
       "   'tanaghrisson.',\n",
       "   '[SEP]'],\n",
       "  ['[CLS]',\n",
       "   'what',\n",
       "   'did',\n",
       "   'queen',\n",
       "   'elizabeth',\n",
       "   'ii',\n",
       "   'open',\n",
       "   'in',\n",
       "   'newcastle',\n",
       "   'in',\n",
       "   '1981?',\n",
       "   '[SEP]',\n",
       "   '[SEP]',\n",
       "   'it',\n",
       "   'was',\n",
       "   'opened',\n",
       "   'in',\n",
       "   'five',\n",
       "   'phases',\n",
       "   'between',\n",
       "   '1980',\n",
       "   'and',\n",
       "   '1984,',\n",
       "   'and',\n",
       "   'was',\n",
       "   \"britain's\",\n",
       "   'first',\n",
       "   'urban',\n",
       "   'light',\n",
       "   'rail',\n",
       "   'transit',\n",
       "   'system;',\n",
       "   'two',\n",
       "   'extensions',\n",
       "   'were',\n",
       "   'opened',\n",
       "   'in',\n",
       "   '1991',\n",
       "   'and',\n",
       "   '2002.',\n",
       "   '[SEP]'],\n",
       "  ['[CLS]',\n",
       "   'what',\n",
       "   'writing',\n",
       "   'inspired',\n",
       "   'the',\n",
       "   'name',\n",
       "   'great',\n",
       "   'yuan?',\n",
       "   '[SEP]',\n",
       "   '[SEP]',\n",
       "   'furthermore,',\n",
       "   'the',\n",
       "   'yuan',\n",
       "   'is',\n",
       "   'sometimes',\n",
       "   'known',\n",
       "   'as',\n",
       "   'the',\n",
       "   '\"empire',\n",
       "   'of',\n",
       "   'the',\n",
       "   'great',\n",
       "   'khan\"',\n",
       "   'or',\n",
       "   '\"khanate',\n",
       "   'of',\n",
       "   'the',\n",
       "   'great',\n",
       "   'khan\",',\n",
       "   'which',\n",
       "   'particularly',\n",
       "   'appeared',\n",
       "   'on',\n",
       "   'some',\n",
       "   'yuan',\n",
       "   'maps,',\n",
       "   'since',\n",
       "   'yuan',\n",
       "   'emperors',\n",
       "   'held',\n",
       "   'the',\n",
       "   'nominal',\n",
       "   'title',\n",
       "   'of',\n",
       "   'great',\n",
       "   'khan.',\n",
       "   '[SEP]'],\n",
       "  ['[CLS]',\n",
       "   'what',\n",
       "   'happened',\n",
       "   'to',\n",
       "   'the',\n",
       "   'east',\n",
       "   'india',\n",
       "   'trading',\n",
       "   'company',\n",
       "   'in',\n",
       "   '1767?',\n",
       "   '[SEP]',\n",
       "   '[SEP]',\n",
       "   'in',\n",
       "   '1599',\n",
       "   'the',\n",
       "   'british',\n",
       "   'east',\n",
       "   'india',\n",
       "   'company',\n",
       "   'was',\n",
       "   'established',\n",
       "   'and',\n",
       "   'was',\n",
       "   'chartered',\n",
       "   'by',\n",
       "   'queen',\n",
       "   'elizabeth',\n",
       "   'in',\n",
       "   'the',\n",
       "   'following',\n",
       "   'year.',\n",
       "   '[SEP]'],\n",
       "  ['[CLS]',\n",
       "   'the',\n",
       "   'principle',\n",
       "   'of',\n",
       "   'faunal',\n",
       "   'succession',\n",
       "   'was',\n",
       "   'developed',\n",
       "   '100',\n",
       "   'years',\n",
       "   'before',\n",
       "   'whose',\n",
       "   'theory',\n",
       "   'of',\n",
       "   'evolution?',\n",
       "   '[SEP]',\n",
       "   '[SEP]',\n",
       "   'based',\n",
       "   'on',\n",
       "   'principles',\n",
       "   'laid',\n",
       "   'out',\n",
       "   'by',\n",
       "   'william',\n",
       "   'smith',\n",
       "   'almost',\n",
       "   'a',\n",
       "   'hundred',\n",
       "   'years',\n",
       "   'before',\n",
       "   'the',\n",
       "   'publication',\n",
       "   'of',\n",
       "   'charles',\n",
       "   \"darwin's\",\n",
       "   'theory',\n",
       "   'of',\n",
       "   'evolution,',\n",
       "   'the',\n",
       "   'principles',\n",
       "   'of',\n",
       "   'succession',\n",
       "   'were',\n",
       "   'developed',\n",
       "   'independently',\n",
       "   'of',\n",
       "   'evolutionary',\n",
       "   'thought.',\n",
       "   '[SEP]'],\n",
       "  ['[CLS]',\n",
       "   'how',\n",
       "   'many',\n",
       "   'times',\n",
       "   'did',\n",
       "   'luther',\n",
       "   'preach',\n",
       "   'in',\n",
       "   'halle',\n",
       "   'in',\n",
       "   '1545',\n",
       "   'and',\n",
       "   '1546?',\n",
       "   '[SEP]',\n",
       "   '[SEP]',\n",
       "   'in',\n",
       "   '1545',\n",
       "   'and',\n",
       "   '1546',\n",
       "   'luther',\n",
       "   'preached',\n",
       "   'three',\n",
       "   'times',\n",
       "   'in',\n",
       "   'the',\n",
       "   'market',\n",
       "   'church',\n",
       "   'in',\n",
       "   'halle,',\n",
       "   'staying',\n",
       "   'with',\n",
       "   'his',\n",
       "   'friend',\n",
       "   'justus',\n",
       "   'jonas',\n",
       "   'during',\n",
       "   'christmas.',\n",
       "   '[SEP]'],\n",
       "  ['[CLS]',\n",
       "   'what',\n",
       "   'part',\n",
       "   'of',\n",
       "   'the',\n",
       "   'rhine',\n",
       "   'flows',\n",
       "   'through',\n",
       "   'north',\n",
       "   'rhine-westphalia?',\n",
       "   '[SEP]',\n",
       "   '[SEP]',\n",
       "   'here',\n",
       "   'the',\n",
       "   'rhine',\n",
       "   'flows',\n",
       "   'through',\n",
       "   'the',\n",
       "   'largest',\n",
       "   'conurbation',\n",
       "   'in',\n",
       "   'germany,',\n",
       "   'the',\n",
       "   'rhine-ruhr',\n",
       "   'region.',\n",
       "   '[SEP]'],\n",
       "  ['[CLS]',\n",
       "   'what',\n",
       "   'is',\n",
       "   'the',\n",
       "   'most',\n",
       "   'important',\n",
       "   'thing',\n",
       "   'apicoplasts',\n",
       "   'do?',\n",
       "   '[SEP]',\n",
       "   '[SEP]',\n",
       "   'the',\n",
       "   'most',\n",
       "   'important',\n",
       "   'apicoplast',\n",
       "   'function',\n",
       "   'is',\n",
       "   'isopentenyl',\n",
       "   'pyrophosphate',\n",
       "   'synthesis—in',\n",
       "   'fact,',\n",
       "   'apicomplexans',\n",
       "   'die',\n",
       "   'when',\n",
       "   'something',\n",
       "   'interferes',\n",
       "   'with',\n",
       "   'this',\n",
       "   'apicoplast',\n",
       "   'function,',\n",
       "   'and',\n",
       "   'when',\n",
       "   'apicomplexans',\n",
       "   'are',\n",
       "   'grown',\n",
       "   'in',\n",
       "   'an',\n",
       "   'isopentenyl',\n",
       "   'pyrophosphate-rich',\n",
       "   'medium,',\n",
       "   'they',\n",
       "   'dump',\n",
       "   'the',\n",
       "   'organelle.',\n",
       "   '[SEP]'],\n",
       "  ['[CLS]',\n",
       "   'when',\n",
       "   'did',\n",
       "   'abc',\n",
       "   'begin',\n",
       "   'airing',\n",
       "   'dick',\n",
       "   \"clark's\",\n",
       "   'new',\n",
       "   \"year's\",\n",
       "   \"rockin'\",\n",
       "   'eve?',\n",
       "   '[SEP]',\n",
       "   '[SEP]',\n",
       "   'since',\n",
       "   '1974,',\n",
       "   'abc',\n",
       "   'has',\n",
       "   'generally',\n",
       "   'aired',\n",
       "   'dick',\n",
       "   \"clark's\",\n",
       "   'new',\n",
       "   \"year's\",\n",
       "   \"rockin'\",\n",
       "   'eve',\n",
       "   'on',\n",
       "   'new',\n",
       "   \"year's\",\n",
       "   'eve',\n",
       "   '(hosted',\n",
       "   'first',\n",
       "   'by',\n",
       "   'its',\n",
       "   'creator',\n",
       "   'dick',\n",
       "   'clark,',\n",
       "   'and',\n",
       "   'later',\n",
       "   'by',\n",
       "   'his',\n",
       "   'successor',\n",
       "   'ryan',\n",
       "   'seacrest);',\n",
       "   'the',\n",
       "   'only',\n",
       "   'exception',\n",
       "   'was',\n",
       "   'in',\n",
       "   '1999,',\n",
       "   'when',\n",
       "   'abc',\n",
       "   'put',\n",
       "   'it',\n",
       "   'on',\n",
       "   'a',\n",
       "   'one-year',\n",
       "   'hiatus',\n",
       "   'to',\n",
       "   'provide',\n",
       "   'coverage',\n",
       "   'of',\n",
       "   'the',\n",
       "   'international',\n",
       "   'millennium',\n",
       "   'festivities,',\n",
       "   'though',\n",
       "   \"clark's\",\n",
       "   'traditional',\n",
       "   'countdown',\n",
       "   'from',\n",
       "   'times',\n",
       "   'square',\n",
       "   'was',\n",
       "   'still',\n",
       "   'featured',\n",
       "   'within',\n",
       "   'the',\n",
       "   'coverage.',\n",
       "   '[SEP]'],\n",
       "  ['[CLS]',\n",
       "   'the',\n",
       "   'kronenberg',\n",
       "   'palace',\n",
       "   'had',\n",
       "   'been',\n",
       "   'an',\n",
       "   'exceptional',\n",
       "   'example',\n",
       "   'of',\n",
       "   'what',\n",
       "   'type',\n",
       "   'of',\n",
       "   'architecture?',\n",
       "   '[SEP]',\n",
       "   '[SEP]',\n",
       "   'despite',\n",
       "   'that',\n",
       "   'the',\n",
       "   'warsaw',\n",
       "   'university',\n",
       "   'of',\n",
       "   'technology',\n",
       "   'building',\n",
       "   '(1899–1902)',\n",
       "   'is',\n",
       "   'the',\n",
       "   'most',\n",
       "   'interesting',\n",
       "   'of',\n",
       "   'the',\n",
       "   'late',\n",
       "   '19th-century',\n",
       "   'architecture.',\n",
       "   '[SEP]'],\n",
       "  ['[CLS]',\n",
       "   'what',\n",
       "   'was',\n",
       "   'the',\n",
       "   'definition',\n",
       "   'of',\n",
       "   'professionals,',\n",
       "   'for',\n",
       "   'this',\n",
       "   'study?',\n",
       "   '[SEP]',\n",
       "   '[SEP]',\n",
       "   'it',\n",
       "   'is',\n",
       "   'important',\n",
       "   'to',\n",
       "   'note,',\n",
       "   'however,',\n",
       "   'that',\n",
       "   'the',\n",
       "   'british',\n",
       "   'study',\n",
       "   'referenced',\n",
       "   'above',\n",
       "   'is',\n",
       "   'the',\n",
       "   'only',\n",
       "   'one',\n",
       "   'of',\n",
       "   'its',\n",
       "   'kind',\n",
       "   'and',\n",
       "   'consisted',\n",
       "   'of',\n",
       "   '\"a',\n",
       "   'random',\n",
       "   '...',\n",
       "   'probability',\n",
       "   'sample',\n",
       "   'of',\n",
       "   '2,869',\n",
       "   'young',\n",
       "   'people',\n",
       "   'between',\n",
       "   'the',\n",
       "   'ages',\n",
       "   'of',\n",
       "   '18',\n",
       "   'and',\n",
       "   '24',\n",
       "   'in',\n",
       "   'a',\n",
       "   'computer-assisted',\n",
       "   'study\"',\n",
       "   'and',\n",
       "   'that',\n",
       "   'the',\n",
       "   'questions',\n",
       "   'referred',\n",
       "   'to',\n",
       "   '\"sexual',\n",
       "   'abuse',\n",
       "   'with',\n",
       "   'a',\n",
       "   'professional,\"',\n",
       "   'not',\n",
       "   'necessarily',\n",
       "   'a',\n",
       "   'teacher.',\n",
       "   '[SEP]'],\n",
       "  ['[CLS]',\n",
       "   'bassett',\n",
       "   'focuses',\n",
       "   'on',\n",
       "   'what',\n",
       "   'to',\n",
       "   'illustrate',\n",
       "   'his',\n",
       "   'idea?',\n",
       "   '[SEP]',\n",
       "   '[SEP]',\n",
       "   'to',\n",
       "   'better',\n",
       "   'illustrate',\n",
       "   'this',\n",
       "   'idea,',\n",
       "   'bassett',\n",
       "   'focuses',\n",
       "   'his',\n",
       "   'analysis',\n",
       "   'of',\n",
       "   'the',\n",
       "   'role',\n",
       "   'of',\n",
       "   'nineteenth-century',\n",
       "   'maps',\n",
       "   'during',\n",
       "   'the',\n",
       "   '\"scramble',\n",
       "   'for',\n",
       "   'africa\".',\n",
       "   '[SEP]'],\n",
       "  ['[CLS]',\n",
       "   'where',\n",
       "   'did',\n",
       "   'tesla',\n",
       "   'believe',\n",
       "   'his',\n",
       "   'talents',\n",
       "   'came',\n",
       "   'from?',\n",
       "   '[SEP]',\n",
       "   '[SEP]',\n",
       "   \"tesla's\",\n",
       "   'mother,',\n",
       "   'đuka',\n",
       "   'tesla',\n",
       "   '(nee',\n",
       "   'mandic),',\n",
       "   'whose',\n",
       "   'father',\n",
       "   'was',\n",
       "   'also',\n",
       "   'an',\n",
       "   'orthodox',\n",
       "   'priest,:10',\n",
       "   'had',\n",
       "   'a',\n",
       "   'talent',\n",
       "   'for',\n",
       "   'making',\n",
       "   'home',\n",
       "   'craft',\n",
       "   'tools,',\n",
       "   'mechanical',\n",
       "   'appliances,',\n",
       "   'and',\n",
       "   'the',\n",
       "   'ability',\n",
       "   'to',\n",
       "   'memorize',\n",
       "   'serbian',\n",
       "   'epic',\n",
       "   'poems.',\n",
       "   '[SEP]'],\n",
       "  ['[CLS]',\n",
       "   'who',\n",
       "   'was',\n",
       "   'given',\n",
       "   'the',\n",
       "   'esteemed',\n",
       "   'status',\n",
       "   'of',\n",
       "   'mvp',\n",
       "   'for',\n",
       "   'super',\n",
       "   'bowl',\n",
       "   '50?',\n",
       "   '[SEP]',\n",
       "   '[SEP]',\n",
       "   'denver',\n",
       "   'linebacker',\n",
       "   'von',\n",
       "   'miller',\n",
       "   'was',\n",
       "   'named',\n",
       "   'super',\n",
       "   'bowl',\n",
       "   'mvp,',\n",
       "   'recording',\n",
       "   'five',\n",
       "   'solo',\n",
       "   'tackles,',\n",
       "   '2½',\n",
       "   'sacks,',\n",
       "   'and',\n",
       "   'two',\n",
       "   'forced',\n",
       "   'fumbles.',\n",
       "   '[SEP]'],\n",
       "  ['[CLS]',\n",
       "   'what',\n",
       "   'was',\n",
       "   'the',\n",
       "   'percentage',\n",
       "   'of',\n",
       "   'black',\n",
       "   'or',\n",
       "   'african-americans',\n",
       "   'living',\n",
       "   'in',\n",
       "   'the',\n",
       "   'city?',\n",
       "   '[SEP]',\n",
       "   '[SEP]',\n",
       "   'hispanic',\n",
       "   'or',\n",
       "   'latino',\n",
       "   'of',\n",
       "   'any',\n",
       "   'race',\n",
       "   'were',\n",
       "   '39.9%',\n",
       "   'of',\n",
       "   'the',\n",
       "   'population.',\n",
       "   '[SEP]'],\n",
       "  ['[CLS]',\n",
       "   'what',\n",
       "   'was',\n",
       "   'the',\n",
       "   'result',\n",
       "   'of',\n",
       "   'the',\n",
       "   '2007',\n",
       "   'election?',\n",
       "   '[SEP]',\n",
       "   '[SEP]',\n",
       "   'with',\n",
       "   'international',\n",
       "   'criminal',\n",
       "   'court',\n",
       "   'trial',\n",
       "   'dates',\n",
       "   'in',\n",
       "   '2013',\n",
       "   'for',\n",
       "   'both',\n",
       "   'president',\n",
       "   'kenyatta',\n",
       "   'and',\n",
       "   'deputy',\n",
       "   'president',\n",
       "   'william',\n",
       "   'ruto',\n",
       "   'related',\n",
       "   'to',\n",
       "   'the',\n",
       "   '2007',\n",
       "   'election',\n",
       "   'aftermath,',\n",
       "   'us',\n",
       "   'president',\n",
       "   'barack',\n",
       "   'obama',\n",
       "   'chose',\n",
       "   'not',\n",
       "   'to',\n",
       "   'visit',\n",
       "   'the',\n",
       "   'country',\n",
       "   'during',\n",
       "   'his',\n",
       "   'mid-2013',\n",
       "   'african',\n",
       "   'trip.',\n",
       "   '[SEP]'],\n",
       "  ['[CLS]',\n",
       "   'what',\n",
       "   'equation',\n",
       "   'currently',\n",
       "   'decribes',\n",
       "   'the',\n",
       "   'physics',\n",
       "   'of',\n",
       "   'force.',\n",
       "   '[SEP]',\n",
       "   '[SEP]',\n",
       "   'the',\n",
       "   'notion',\n",
       "   '\"force\"',\n",
       "   'keeps',\n",
       "   'its',\n",
       "   'meaning',\n",
       "   'in',\n",
       "   'quantum',\n",
       "   'mechanics,',\n",
       "   'though',\n",
       "   'one',\n",
       "   'is',\n",
       "   'now',\n",
       "   'dealing',\n",
       "   'with',\n",
       "   'operators',\n",
       "   'instead',\n",
       "   'of',\n",
       "   'classical',\n",
       "   'variables',\n",
       "   'and',\n",
       "   'though',\n",
       "   'the',\n",
       "   'physics',\n",
       "   'is',\n",
       "   'now',\n",
       "   'described',\n",
       "   'by',\n",
       "   'the',\n",
       "   'schrodinger',\n",
       "   'equation',\n",
       "   'instead',\n",
       "   'of',\n",
       "   'newtonian',\n",
       "   'equations.',\n",
       "   '[SEP]'],\n",
       "  ['[CLS]',\n",
       "   'what',\n",
       "   'did',\n",
       "   'iqbal',\n",
       "   'fear',\n",
       "   'would',\n",
       "   'weaken',\n",
       "   'the',\n",
       "   'spiritual',\n",
       "   'foundations',\n",
       "   'of',\n",
       "   'islam',\n",
       "   'and',\n",
       "   'muslim',\n",
       "   'society?',\n",
       "   '[SEP]',\n",
       "   '[SEP]',\n",
       "   'in',\n",
       "   'his',\n",
       "   'travels',\n",
       "   'to',\n",
       "   'egypt,',\n",
       "   'afghanistan,',\n",
       "   'palestine',\n",
       "   'and',\n",
       "   'syria,',\n",
       "   'he',\n",
       "   'promoted',\n",
       "   'ideas',\n",
       "   'of',\n",
       "   'greater',\n",
       "   'islamic',\n",
       "   'political',\n",
       "   'co-operation',\n",
       "   'and',\n",
       "   'unity,',\n",
       "   'calling',\n",
       "   'for',\n",
       "   'the',\n",
       "   'shedding',\n",
       "   'of',\n",
       "   'nationalist',\n",
       "   'differences.',\n",
       "   '[SEP]'],\n",
       "  ['[CLS]',\n",
       "   'in',\n",
       "   'what',\n",
       "   'meeting',\n",
       "   'did',\n",
       "   'shirley',\n",
       "   'lay',\n",
       "   'out',\n",
       "   'plans',\n",
       "   'for',\n",
       "   '1756?',\n",
       "   '[SEP]',\n",
       "   '[SEP]',\n",
       "   'at',\n",
       "   'a',\n",
       "   'meeting',\n",
       "   'in',\n",
       "   'albany',\n",
       "   'in',\n",
       "   'december',\n",
       "   '1755,',\n",
       "   'he',\n",
       "   'laid',\n",
       "   'out',\n",
       "   'his',\n",
       "   'plans',\n",
       "   'for',\n",
       "   '1756.',\n",
       "   '[SEP]'],\n",
       "  ['[CLS]',\n",
       "   'in',\n",
       "   'autoimmune',\n",
       "   'disorders,',\n",
       "   'the',\n",
       "   'immune',\n",
       "   'system',\n",
       "   \"doesn't\",\n",
       "   'distinguish',\n",
       "   'between',\n",
       "   'what',\n",
       "   'types',\n",
       "   'of',\n",
       "   'cells?',\n",
       "   '[SEP]',\n",
       "   '[SEP]',\n",
       "   'one',\n",
       "   'of',\n",
       "   'the',\n",
       "   'functions',\n",
       "   'of',\n",
       "   'specialized',\n",
       "   'cells',\n",
       "   '(located',\n",
       "   'in',\n",
       "   'the',\n",
       "   'thymus',\n",
       "   'and',\n",
       "   'bone',\n",
       "   'marrow)',\n",
       "   'is',\n",
       "   'to',\n",
       "   'present',\n",
       "   'young',\n",
       "   'lymphocytes',\n",
       "   'with',\n",
       "   'self',\n",
       "   'antigens',\n",
       "   'produced',\n",
       "   'throughout',\n",
       "   'the',\n",
       "   'body',\n",
       "   'and',\n",
       "   'to',\n",
       "   'eliminate',\n",
       "   'those',\n",
       "   'cells',\n",
       "   'that',\n",
       "   'recognize',\n",
       "   'self-antigens,',\n",
       "   'preventing',\n",
       "   'autoimmunity.',\n",
       "   '[SEP]'],\n",
       "  ['[CLS]',\n",
       "   'which',\n",
       "   'husband',\n",
       "   'and',\n",
       "   'wife',\n",
       "   'modern',\n",
       "   'furniture',\n",
       "   'design',\n",
       "   'team',\n",
       "   'are',\n",
       "   'represented',\n",
       "   'in',\n",
       "   'the',\n",
       "   'v&a',\n",
       "   'furniture',\n",
       "   'collection?',\n",
       "   '[SEP]',\n",
       "   '[SEP]',\n",
       "   'one',\n",
       "   'of',\n",
       "   'the',\n",
       "   'finest',\n",
       "   'pieces',\n",
       "   'of',\n",
       "   'continental',\n",
       "   'furniture',\n",
       "   'in',\n",
       "   'the',\n",
       "   'collection',\n",
       "   'is',\n",
       "   'the',\n",
       "   'rococo',\n",
       "   'augustus',\n",
       "   'rex',\n",
       "   'bureau',\n",
       "   'cabinet',\n",
       "   'dated',\n",
       "   'c1750',\n",
       "   'from',\n",
       "   'germany,',\n",
       "   'with',\n",
       "   'especially',\n",
       "   'fine',\n",
       "   'marquetry',\n",
       "   'and',\n",
       "   'ormolu',\n",
       "   'mounts.',\n",
       "   '[SEP]'],\n",
       "  ['[CLS]',\n",
       "   'why',\n",
       "   'did',\n",
       "   'oil',\n",
       "   'start',\n",
       "   'getting',\n",
       "   'priced',\n",
       "   'in',\n",
       "   'terms',\n",
       "   'of',\n",
       "   'gold?',\n",
       "   '[SEP]',\n",
       "   '[SEP]',\n",
       "   'because',\n",
       "   'oil',\n",
       "   'was',\n",
       "   'priced',\n",
       "   'in',\n",
       "   'dollars,',\n",
       "   'oil',\n",
       "   \"producers'\",\n",
       "   'real',\n",
       "   'income',\n",
       "   'decreased.',\n",
       "   '[SEP]'],\n",
       "  ['[CLS]',\n",
       "   'who',\n",
       "   'did',\n",
       "   'britain',\n",
       "   'exploit',\n",
       "   'in',\n",
       "   'india?',\n",
       "   '[SEP]',\n",
       "   '[SEP]',\n",
       "   'although',\n",
       "   'a',\n",
       "   'substantial',\n",
       "   'number',\n",
       "   'of',\n",
       "   'colonies',\n",
       "   'had',\n",
       "   'been',\n",
       "   'designed',\n",
       "   'to',\n",
       "   'provide',\n",
       "   'economic',\n",
       "   'profit',\n",
       "   'and',\n",
       "   'to',\n",
       "   'ship',\n",
       "   'resources',\n",
       "   'to',\n",
       "   'home',\n",
       "   'ports',\n",
       "   'in',\n",
       "   'the',\n",
       "   'seventeenth',\n",
       "   'and',\n",
       "   'eighteenth',\n",
       "   'centuries,',\n",
       "   'fieldhouse',\n",
       "   'suggests',\n",
       "   'that',\n",
       "   'in',\n",
       "   'the',\n",
       "   'nineteenth',\n",
       "   'and',\n",
       "   'twentieth',\n",
       "   'centuries',\n",
       "   'in',\n",
       "   'places',\n",
       "   'such',\n",
       "   'as',\n",
       "   'africa',\n",
       "   'and',\n",
       "   'asia,',\n",
       "   'this',\n",
       "   'idea',\n",
       "   'is',\n",
       "   'not',\n",
       "   'necessarily',\n",
       "   'valid:',\n",
       "   '[SEP]'],\n",
       "  ['[CLS]',\n",
       "   'what',\n",
       "   'popular',\n",
       "   'environmentalist',\n",
       "   'is',\n",
       "   'also',\n",
       "   'a',\n",
       "   'university',\n",
       "   'alumni',\n",
       "   'member?',\n",
       "   '[SEP]',\n",
       "   '[SEP]',\n",
       "   'in',\n",
       "   'science,',\n",
       "   'alumni',\n",
       "   'include',\n",
       "   'astronomers',\n",
       "   'carl',\n",
       "   'sagan,',\n",
       "   'a',\n",
       "   'prominent',\n",
       "   'contributor',\n",
       "   'to',\n",
       "   'the',\n",
       "   'scientific',\n",
       "   'research',\n",
       "   'of',\n",
       "   'extraterrestrial',\n",
       "   'life,',\n",
       "   'and',\n",
       "   'edwin',\n",
       "   'hubble,',\n",
       "   'known',\n",
       "   'for',\n",
       "   '\"hubble\\'s',\n",
       "   'law\",',\n",
       "   'nasa',\n",
       "   'astronaut',\n",
       "   'john',\n",
       "   'm.',\n",
       "   'grunsfeld,',\n",
       "   'geneticist',\n",
       "   'james',\n",
       "   'watson,',\n",
       "   'best',\n",
       "   'known',\n",
       "   'as',\n",
       "   'one',\n",
       "   'of',\n",
       "   'the',\n",
       "   'co-discoverers',\n",
       "   'of',\n",
       "   'the',\n",
       "   'structure',\n",
       "   'of',\n",
       "   'dna,',\n",
       "   'experimental',\n",
       "   'physicist',\n",
       "   'luis',\n",
       "   'alvarez,',\n",
       "   'popular',\n",
       "   'environmentalist',\n",
       "   'david',\n",
       "   'suzuki,',\n",
       "   'balloonist',\n",
       "   'jeannette',\n",
       "   'piccard,',\n",
       "   'biologists',\n",
       "   'ernest',\n",
       "   'everett',\n",
       "   '[SEP]'],\n",
       "  ['[CLS]',\n",
       "   'what',\n",
       "   'publication',\n",
       "   'did',\n",
       "   'philip',\n",
       "   'howard',\n",
       "   'work',\n",
       "   'for?',\n",
       "   '[SEP]',\n",
       "   '[SEP]',\n",
       "   'responding',\n",
       "   'to',\n",
       "   'the',\n",
       "   'findings',\n",
       "   'of',\n",
       "   'the',\n",
       "   'survey',\n",
       "   'in',\n",
       "   'the',\n",
       "   'times',\n",
       "   'newspaper,',\n",
       "   'journalist',\n",
       "   'philip',\n",
       "   'howard',\n",
       "   'maintained',\n",
       "   'that,',\n",
       "   '\"to',\n",
       "   'compare',\n",
       "   'the',\n",
       "   'violence',\n",
       "   'of',\n",
       "   'dr',\n",
       "   'who,',\n",
       "   'sired',\n",
       "   'by',\n",
       "   'a',\n",
       "   'horse-laugh',\n",
       "   'out',\n",
       "   'of',\n",
       "   'a',\n",
       "   'nightmare,',\n",
       "   'with',\n",
       "   'the',\n",
       "   'more',\n",
       "   'realistic',\n",
       "   'violence',\n",
       "   'of',\n",
       "   'other',\n",
       "   'television',\n",
       "   'series,',\n",
       "   'where',\n",
       "   'actors',\n",
       "   'who',\n",
       "   'look',\n",
       "   'like',\n",
       "   'human',\n",
       "   'beings',\n",
       "   'bleed',\n",
       "   'paint',\n",
       "   'that',\n",
       "   'looks',\n",
       "   'like',\n",
       "   'blood,',\n",
       "   'is',\n",
       "   'like',\n",
       "   'comparing',\n",
       "   'monopoly',\n",
       "   'with',\n",
       "   'the',\n",
       "   'property',\n",
       "   'market',\n",
       "   'in',\n",
       "   'london:',\n",
       "   'both',\n",
       "   'are',\n",
       "   'fantasies,',\n",
       "   'but',\n",
       "   'one',\n",
       "   'is',\n",
       "   'meant',\n",
       "   'to',\n",
       "   'be',\n",
       "   'taken',\n",
       "   'seriously.\"',\n",
       "   '[SEP]'],\n",
       "  ['[CLS]',\n",
       "   'if',\n",
       "   'the',\n",
       "   'apparant',\n",
       "   'force',\n",
       "   'of',\n",
       "   'two',\n",
       "   'fermions',\n",
       "   'is',\n",
       "   'attractive,',\n",
       "   'what',\n",
       "   'is',\n",
       "   'the',\n",
       "   'spin',\n",
       "   'function?',\n",
       "   '[SEP]',\n",
       "   '[SEP]',\n",
       "   'if',\n",
       "   'two',\n",
       "   'identical',\n",
       "   'fermions',\n",
       "   '(e.g.',\n",
       "   'electrons)',\n",
       "   'have',\n",
       "   'a',\n",
       "   'symmetric',\n",
       "   'spin',\n",
       "   'function',\n",
       "   '(e.g.',\n",
       "   'parallel',\n",
       "   'spins)',\n",
       "   'the',\n",
       "   'spatial',\n",
       "   'variables',\n",
       "   'must',\n",
       "   'be',\n",
       "   'antisymmetric',\n",
       "   '(i.e.',\n",
       "   'they',\n",
       "   'exclude',\n",
       "   'each',\n",
       "   'other',\n",
       "   'from',\n",
       "   'their',\n",
       "   'places',\n",
       "   'much',\n",
       "   'as',\n",
       "   'if',\n",
       "   'there',\n",
       "   'was',\n",
       "   'a',\n",
       "   'repulsive',\n",
       "   'force),',\n",
       "   'and',\n",
       "   'vice',\n",
       "   'versa,',\n",
       "   'i.e.',\n",
       "   'for',\n",
       "   'antiparallel',\n",
       "   'spins',\n",
       "   'the',\n",
       "   'position',\n",
       "   'variables',\n",
       "   'must',\n",
       "   'be',\n",
       "   'symmetric',\n",
       "   '(i.e.',\n",
       "   'the',\n",
       "   'apparent',\n",
       "   'force',\n",
       "   'must',\n",
       "   'be',\n",
       "   'attractive).',\n",
       "   '[SEP]']]}"
      ]
     },
     "execution_count": 10,
     "metadata": {},
     "output_type": "execute_result"
    }
   ],
   "source": [
    "save_info(idxs, qnli_data_raw, targets, model_out_list, raw_attr_list, conti_attr_list, raw_input_list, \n",
    "          fname=f'../MethodOutputs/{file_name_base}_out.pkl')"
   ]
  },
  {
   "cell_type": "code",
   "execution_count": 11,
   "id": "db9de1f3",
   "metadata": {},
   "outputs": [
    {
     "data": {
      "application/javascript": [
       "IPython.notebook.save_notebook()"
      ]
     },
     "metadata": {},
     "output_type": "display_data"
    }
   ],
   "source": [
    "download_HTML(cur_file_name=f'{file_name_base}_QNLI_BERT.ipynb',\n",
    "              out_file_name=f'{file_name_base}_QNLI_BERT.html')"
   ]
  }
 ],
 "metadata": {
  "kernelspec": {
   "display_name": "Python 3 (ipykernel)",
   "language": "python",
   "name": "python3"
  },
  "language_info": {
   "codemirror_mode": {
    "name": "ipython",
    "version": 3
   },
   "file_extension": ".py",
   "mimetype": "text/x-python",
   "name": "python",
   "nbconvert_exporter": "python",
   "pygments_lexer": "ipython3",
   "version": "3.9.13"
  }
 },
 "nbformat": 4,
 "nbformat_minor": 5
}
