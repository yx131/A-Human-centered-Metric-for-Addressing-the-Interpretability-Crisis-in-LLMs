{
 "cells": [
  {
   "cell_type": "code",
   "execution_count": 1,
   "id": "0379fb82",
   "metadata": {},
   "outputs": [],
   "source": [
    "import sys, time, pickle\n",
    "import torch\n",
    "\n",
    "sys.path.insert(0, '../../Utils')\n",
    "from global_constants import gpu_device\n",
    "\n",
    "sys.path.insert(0, '../')\n",
    "from BERT_models import BERT_SST2_MODEL\n",
    "\n",
    "from _utils import sample_random_glue_sst2, get_continuation_mapping, \\\n",
    "                    get_continuous_attributions, get_continuous_raw_inputs, \\\n",
    "                    collect_info_for_metric, save_info, download_HTML"
   ]
  },
  {
   "cell_type": "code",
   "execution_count": 2,
   "id": "4bd7ee44",
   "metadata": {},
   "outputs": [
    {
     "name": "stderr",
     "output_type": "stream",
     "text": [
      "Reusing dataset glue (/home/user/.cache/huggingface/datasets/glue/sst2/1.0.0/dacbe3125aa31d7f70367a07a8a9e72a5a0bfeb5fc42e75c9db75b96da6053ad)\n"
     ]
    },
    {
     "data": {
      "application/vnd.jupyter.widget-view+json": {
       "model_id": "2a71143665ac4f10872351abf2bfbf7d",
       "version_major": 2,
       "version_minor": 0
      },
      "text/plain": [
       "  0%|          | 0/3 [00:00<?, ?it/s]"
      ]
     },
     "metadata": {},
     "output_type": "display_data"
    },
    {
     "name": "stderr",
     "output_type": "stream",
     "text": [
      "Loading cached processed dataset at /home/user/.cache/huggingface/datasets/glue/sst2/1.0.0/dacbe3125aa31d7f70367a07a8a9e72a5a0bfeb5fc42e75c9db75b96da6053ad/cache-3b24abff24d1d8c0.arrow\n",
      "Loading cached processed dataset at /home/user/.cache/huggingface/datasets/glue/sst2/1.0.0/dacbe3125aa31d7f70367a07a8a9e72a5a0bfeb5fc42e75c9db75b96da6053ad/cache-5960909ab3834668.arrow\n"
     ]
    }
   ],
   "source": [
    "sst2_data_raw, targets, idxs = sample_random_glue_sst2()"
   ]
  },
  {
   "cell_type": "code",
   "execution_count": 3,
   "id": "50cc7ee5",
   "metadata": {},
   "outputs": [],
   "source": [
    "model = BERT_SST2_MODEL()\n",
    "tokenizer = model.tokenizer"
   ]
  },
  {
   "cell_type": "code",
   "execution_count": 4,
   "id": "3e778996",
   "metadata": {},
   "outputs": [],
   "source": [
    "model_out_list, raw_attr_list, conti_attr_list, raw_input_list = [], [], [], []"
   ]
  },
  {
   "cell_type": "code",
   "execution_count": 5,
   "id": "60cece0e",
   "metadata": {
    "scrolled": false
   },
   "outputs": [],
   "source": [
    "from captum.attr import Lime\n",
    "from captum._utils.models.linear_model import SkLearnLasso\n",
    "from captum.attr import visualization "
   ]
  },
  {
   "cell_type": "code",
   "execution_count": 6,
   "id": "9937c409",
   "metadata": {},
   "outputs": [],
   "source": [
    "lime = Lime(model, interpretable_model=SkLearnLasso(alpha=0.000003))"
   ]
  },
  {
   "cell_type": "code",
   "execution_count": 7,
   "id": "eb6c1691",
   "metadata": {},
   "outputs": [],
   "source": [
    "def generate_record(raw_review, target):\n",
    "    #tokenizer operations\n",
    "    tokenized = tokenizer(raw_review, truncation=True, return_offsets_mapping=True)\n",
    "    offset_mapping = tokenized['offset_mapping']\n",
    "    conti_map = get_continuation_mapping(offset_mapping)\n",
    "    input_ids = torch.tensor(tokenized['input_ids']).unsqueeze(0).to(gpu_device)\n",
    "    detokenized = [t.replace('#', '') for t in tokenizer.convert_ids_to_tokens(input_ids[0])]\n",
    "    print(f'deotk {detokenized}')\n",
    "    \n",
    "    #feeding input forward \n",
    "    input_emb = model.get_embeddings(input_ids)\n",
    "    pred_prob = model(input_emb).item()\n",
    "    \n",
    "    #categorizing results\n",
    "    pred_class = 'Pos' if pred_prob > 0.5 else 'Neg' \n",
    "    true_class = 'Pos' if target > 0.5 else 'Neg' \n",
    "    \n",
    "    #attribution algorithm working\n",
    "    attribution = lime.attribute(input_emb, n_samples=5000, show_progress=True, perturbations_per_eval=200)\n",
    "    attribution[torch.isnan(attribution)] = 0\n",
    "    word_attributions = attribution.squeeze(0).sum(dim=1)\n",
    "    word_attributions /= torch.norm(word_attributions)\n",
    "    attr_score = torch.sum(word_attributions)\n",
    "    attr_class = 'Pos' if attr_score > 0.5 else 'Neg'\n",
    "    convergence_score = None\n",
    "   \n",
    "    attr_score = torch.sum(word_attributions)\n",
    "    attr_class = 'Pos' if attr_score > 0.5 else 'Neg'\n",
    "    convergence_score = None\n",
    "    \n",
    "    if torch.all(torch.isnan(attr_score)):\n",
    "        print(f'nan attri score')\n",
    "        word_attributions = torch.zeros(word_attributions.size())\n",
    "    \n",
    "    #re-organizing tensors and arrays because words get split down\n",
    "    conti_attr = get_continuous_attributions(conti_map, word_attributions)\n",
    "    raw_input = get_continuous_raw_inputs(conti_map, detokenized)\n",
    "    print(f'word attri {word_attributions}')\n",
    "    print(f'conti attri {conti_attr}')\n",
    "#     print(f'word attributions {word_attributions}')\n",
    "#     print(f'pred_prob {pred_prob}')\n",
    "#     print(f'pred_class {pred_class}')\n",
    "#     print(f'true_class {true_class}')\n",
    "#     print(f'attribution {attribution}')\n",
    "#     print(f'attr_class {attr_class}')\n",
    "#     print(f'attr_score {attr_score}')\n",
    "#     print(f'raw_input {raw_input}')\n",
    "\n",
    "        \n",
    "#     collect info for metrics later\n",
    "    collect_info_for_metric(model_out_list, pred_prob, raw_attr_list, attribution, conti_attr_list, conti_attr, raw_input_list, raw_input)\n",
    "        \n",
    "    \n",
    "    visual_record = visualization.VisualizationDataRecord(word_attributions=conti_attr,\n",
    "                                                         pred_prob=pred_prob,\n",
    "                                                         pred_class=pred_class,\n",
    "                                                         true_class=true_class,\n",
    "                                                         attr_class=attr_class,\n",
    "                                                         attr_score=attr_score,\n",
    "                                                         raw_input_ids=raw_input,\n",
    "                                                         convergence_score=convergence_score)\n",
    "        \n",
    "        \n",
    "    return visual_record\n",
    "      \n",
    "    "
   ]
  },
  {
   "cell_type": "code",
   "execution_count": 8,
   "id": "e6941070",
   "metadata": {
    "scrolled": false
   },
   "outputs": [
    {
     "name": "stdout",
     "output_type": "stream",
     "text": [
      "Raw review: its oscar nomination \n",
      "GT target: 1\n",
      "deotk ['[CLS]', 'its', 'oscar', 'nomination', '[SEP]']\n"
     ]
    },
    {
     "name": "stderr",
     "output_type": "stream",
     "text": [
      "Lime attribution: 100%|████████████████████████████████████████████████████████████████████████████████████████████████████████| 25/25 [00:02<00:00, 12.22it/s]\n"
     ]
    },
    {
     "name": "stdout",
     "output_type": "stream",
     "text": [
      "word attr tensor([ 0.6960,  0.1234, -0.5791, -0.2380,  0.3291], device='cuda:0')\n",
      "conti attr [tensor(0.6960, device='cuda:0'), tensor(0.1234, device='cuda:0'), tensor(-0.5791, device='cuda:0'), tensor(-0.2380, device='cuda:0'), tensor(0.3291, device='cuda:0')]\n",
      "detokenized ['[CLS]', 'its', 'oscar', 'nomination', '[SEP]']\n",
      "len conti_raw 5\n",
      "conti_raw ['[CLS]', 'its', 'oscar', 'nomination', '[SEP]']\n",
      "word attri tensor([ 0.6960,  0.1234, -0.5791, -0.2380,  0.3291], device='cuda:0')\n",
      "conti attri tensor([ 0.6960,  0.1234, -0.5791, -0.2380,  0.3291])\n"
     ]
    },
    {
     "data": {
      "text/html": [
       "<table width: 100%><div style=\"border-top: 1px solid; margin-top: 5px;             padding-top: 5px; display: inline-block\"><b>Legend: </b><span style=\"display: inline-block; width: 10px; height: 10px;                 border: 1px solid; background-color:                 hsl(0, 75%, 60%)\"></span> Negative  <span style=\"display: inline-block; width: 10px; height: 10px;                 border: 1px solid; background-color:                 hsl(0, 75%, 100%)\"></span> Neutral  <span style=\"display: inline-block; width: 10px; height: 10px;                 border: 1px solid; background-color:                 hsl(120, 75%, 50%)\"></span> Positive  </div><tr><th>True Label</th><th>Predicted Label</th><th>Attribution Label</th><th>Attribution Score</th><th>Word Importance</th><tr><td><text style=\"padding-right:2em\"><b>Pos</b></text></td><td><text style=\"padding-right:2em\"><b>Pos (0.96)</b></text></td><td><text style=\"padding-right:2em\"><b>Neg</b></text></td><td><text style=\"padding-right:2em\"><b>0.33</b></text></td><td><mark style=\"background-color: hsl(120, 75%, 66%); opacity:1.0;                     line-height:1.75\"><font color=\"black\"> [CLS]                    </font></mark><mark style=\"background-color: hsl(120, 75%, 94%); opacity:1.0;                     line-height:1.75\"><font color=\"black\"> its                    </font></mark><mark style=\"background-color: hsl(0, 75%, 77%); opacity:1.0;                     line-height:1.75\"><font color=\"black\"> oscar                    </font></mark><mark style=\"background-color: hsl(0, 75%, 91%); opacity:1.0;                     line-height:1.75\"><font color=\"black\"> nomination                    </font></mark><mark style=\"background-color: hsl(120, 75%, 84%); opacity:1.0;                     line-height:1.75\"><font color=\"black\"> [SEP]                    </font></mark></td><tr></table>"
      ],
      "text/plain": [
       "<IPython.core.display.HTML object>"
      ]
     },
     "metadata": {},
     "output_type": "display_data"
    },
    {
     "name": "stdout",
     "output_type": "stream",
     "text": [
      "<IPython.core.display.HTML object>\n",
      "Raw review: shenanigans and slapstick \n",
      "GT target: 1\n",
      "deotk ['[CLS]', 'shen', 'ani', 'gan', 's', 'and', 'slap', 'stick', '[SEP]']\n"
     ]
    },
    {
     "name": "stderr",
     "output_type": "stream",
     "text": [
      "Lime attribution: 100%|████████████████████████████████████████████████████████████████████████████████████████████████████████| 25/25 [00:02<00:00, 10.69it/s]\n",
      "/home/user/anaconda3/envs/metric/lib/python3.9/site-packages/sklearn/linear_model/_coordinate_descent.py:647: ConvergenceWarning: Objective did not converge. You might want to increase the number of iterations, check the scale of the features or consider increasing regularisation. Duality gap: 1.670e-01, tolerance: 2.230e-02\n",
      "  model = cd_fast.enet_coordinate_descent(\n"
     ]
    },
    {
     "name": "stdout",
     "output_type": "stream",
     "text": [
      "word attr tensor([-0.0397,  0.2453, -0.4867,  0.4904, -0.1922,  0.4674, -0.4034,  0.1914,\n",
      "        -0.0778], device='cuda:0')\n",
      "conti attr [tensor(-0.0397, device='cuda:0'), tensor(-0.0037, device='cuda:0'), tensor(0.4674, device='cuda:0'), tensor(-0.1060, device='cuda:0'), tensor(-0.0778, device='cuda:0')]\n",
      "detokenized ['[CLS]', 'shen', 'ani', 'gan', 's', 'and', 'slap', 'stick', '[SEP]']\n",
      "len conti_raw 5\n",
      "conti_raw ['[CLS]', 'shenanigans', 'and', 'slapstick', '[SEP]']\n",
      "word attri tensor([-0.0397,  0.2453, -0.4867,  0.4904, -0.1922,  0.4674, -0.4034,  0.1914,\n",
      "        -0.0778], device='cuda:0')\n",
      "conti attri tensor([-0.0397, -0.0037,  0.4674, -0.1060, -0.0778])\n"
     ]
    },
    {
     "data": {
      "text/html": [
       "<table width: 100%><div style=\"border-top: 1px solid; margin-top: 5px;             padding-top: 5px; display: inline-block\"><b>Legend: </b><span style=\"display: inline-block; width: 10px; height: 10px;                 border: 1px solid; background-color:                 hsl(0, 75%, 60%)\"></span> Negative  <span style=\"display: inline-block; width: 10px; height: 10px;                 border: 1px solid; background-color:                 hsl(0, 75%, 100%)\"></span> Neutral  <span style=\"display: inline-block; width: 10px; height: 10px;                 border: 1px solid; background-color:                 hsl(120, 75%, 50%)\"></span> Positive  </div><tr><th>True Label</th><th>Predicted Label</th><th>Attribution Label</th><th>Attribution Score</th><th>Word Importance</th><tr><td><text style=\"padding-right:2em\"><b>Pos</b></text></td><td><text style=\"padding-right:2em\"><b>Neg (0.03)</b></text></td><td><text style=\"padding-right:2em\"><b>Neg</b></text></td><td><text style=\"padding-right:2em\"><b>0.19</b></text></td><td><mark style=\"background-color: hsl(0, 75%, 99%); opacity:1.0;                     line-height:1.75\"><font color=\"black\"> [CLS]                    </font></mark><mark style=\"background-color: hsl(0, 75%, 100%); opacity:1.0;                     line-height:1.75\"><font color=\"black\"> shenanigans                    </font></mark><mark style=\"background-color: hsl(120, 75%, 77%); opacity:1.0;                     line-height:1.75\"><font color=\"black\"> and                    </font></mark><mark style=\"background-color: hsl(0, 75%, 96%); opacity:1.0;                     line-height:1.75\"><font color=\"black\"> slapstick                    </font></mark><mark style=\"background-color: hsl(0, 75%, 97%); opacity:1.0;                     line-height:1.75\"><font color=\"black\"> [SEP]                    </font></mark></td><tr></table>"
      ],
      "text/plain": [
       "<IPython.core.display.HTML object>"
      ]
     },
     "metadata": {},
     "output_type": "display_data"
    },
    {
     "name": "stdout",
     "output_type": "stream",
     "text": [
      "<IPython.core.display.HTML object>\n",
      "Raw review: an unsettling sight , \n",
      "GT target: 0\n",
      "deotk ['[CLS]', 'an', 'un', 'sett', 'ling', 'sight', ',', '[SEP]']\n"
     ]
    },
    {
     "name": "stderr",
     "output_type": "stream",
     "text": [
      "Lime attribution: 100%|████████████████████████████████████████████████████████████████████████████████████████████████████████| 25/25 [00:02<00:00, 12.14it/s]\n",
      "/home/user/anaconda3/envs/metric/lib/python3.9/site-packages/sklearn/linear_model/_coordinate_descent.py:647: ConvergenceWarning: Objective did not converge. You might want to increase the number of iterations, check the scale of the features or consider increasing regularisation. Duality gap: 3.824e-01, tolerance: 5.754e-02\n",
      "  model = cd_fast.enet_coordinate_descent(\n"
     ]
    },
    {
     "name": "stdout",
     "output_type": "stream",
     "text": [
      "word attr tensor([-0.1081,  0.0201,  0.4478, -0.6171,  0.1718, -0.3265,  0.5033,  0.1306],\n",
      "       device='cuda:0')\n",
      "conti attr [tensor(-0.1081, device='cuda:0'), tensor(0.0201, device='cuda:0'), tensor(0.0436, device='cuda:0'), tensor(-0.3265, device='cuda:0'), tensor(0.5033, device='cuda:0'), tensor(0.1306, device='cuda:0')]\n",
      "detokenized ['[CLS]', 'an', 'un', 'sett', 'ling', 'sight', ',', '[SEP]']\n",
      "len conti_raw 6\n",
      "conti_raw ['[CLS]', 'an', 'unsettling', 'sight', ',', '[SEP]']\n",
      "word attri tensor([-0.1081,  0.0201,  0.4478, -0.6171,  0.1718, -0.3265,  0.5033,  0.1306],\n",
      "       device='cuda:0')\n",
      "conti attri tensor([-0.1081,  0.0201,  0.0436, -0.3265,  0.5033,  0.1306])\n"
     ]
    },
    {
     "data": {
      "text/html": [
       "<table width: 100%><div style=\"border-top: 1px solid; margin-top: 5px;             padding-top: 5px; display: inline-block\"><b>Legend: </b><span style=\"display: inline-block; width: 10px; height: 10px;                 border: 1px solid; background-color:                 hsl(0, 75%, 60%)\"></span> Negative  <span style=\"display: inline-block; width: 10px; height: 10px;                 border: 1px solid; background-color:                 hsl(0, 75%, 100%)\"></span> Neutral  <span style=\"display: inline-block; width: 10px; height: 10px;                 border: 1px solid; background-color:                 hsl(120, 75%, 50%)\"></span> Positive  </div><tr><th>True Label</th><th>Predicted Label</th><th>Attribution Label</th><th>Attribution Score</th><th>Word Importance</th><tr><td><text style=\"padding-right:2em\"><b>Neg</b></text></td><td><text style=\"padding-right:2em\"><b>Pos (0.93)</b></text></td><td><text style=\"padding-right:2em\"><b>Neg</b></text></td><td><text style=\"padding-right:2em\"><b>0.22</b></text></td><td><mark style=\"background-color: hsl(0, 75%, 96%); opacity:1.0;                     line-height:1.75\"><font color=\"black\"> [CLS]                    </font></mark><mark style=\"background-color: hsl(120, 75%, 99%); opacity:1.0;                     line-height:1.75\"><font color=\"black\"> an                    </font></mark><mark style=\"background-color: hsl(120, 75%, 98%); opacity:1.0;                     line-height:1.75\"><font color=\"black\"> unsettling                    </font></mark><mark style=\"background-color: hsl(0, 75%, 87%); opacity:1.0;                     line-height:1.75\"><font color=\"black\"> sight                    </font></mark><mark style=\"background-color: hsl(120, 75%, 75%); opacity:1.0;                     line-height:1.75\"><font color=\"black\"> ,                    </font></mark><mark style=\"background-color: hsl(120, 75%, 94%); opacity:1.0;                     line-height:1.75\"><font color=\"black\"> [SEP]                    </font></mark></td><tr></table>"
      ],
      "text/plain": [
       "<IPython.core.display.HTML object>"
      ]
     },
     "metadata": {},
     "output_type": "display_data"
    },
    {
     "name": "stdout",
     "output_type": "stream",
     "text": [
      "<IPython.core.display.HTML object>\n",
      "Raw review: the climactic hourlong cricket match \n",
      "GT target: 1\n",
      "deotk ['[CLS]', 'the', 'cl', 'ima', 'ctic', 'hour', 'long', 'cricket', 'match', '[SEP]']\n"
     ]
    },
    {
     "name": "stderr",
     "output_type": "stream",
     "text": [
      "Lime attribution: 100%|████████████████████████████████████████████████████████████████████████████████████████████████████████| 25/25 [00:02<00:00, 11.01it/s]\n",
      "/home/user/anaconda3/envs/metric/lib/python3.9/site-packages/sklearn/linear_model/_coordinate_descent.py:647: ConvergenceWarning: Objective did not converge. You might want to increase the number of iterations, check the scale of the features or consider increasing regularisation. Duality gap: 1.748e-01, tolerance: 2.857e-02\n",
      "  model = cd_fast.enet_coordinate_descent(\n"
     ]
    },
    {
     "name": "stdout",
     "output_type": "stream",
     "text": [
      "word attr tensor([-0.1619,  0.1914,  0.0092,  0.3868,  0.2405, -0.4674,  0.6436, -0.2805,\n",
      "         0.0689,  0.1161], device='cuda:0')\n",
      "conti attr [tensor(-0.1619, device='cuda:0'), tensor(0.1914, device='cuda:0'), tensor(0.2192, device='cuda:0'), tensor(0.0881, device='cuda:0'), tensor(-0.2805, device='cuda:0'), tensor(0.0689, device='cuda:0'), tensor(0.1161, device='cuda:0')]\n",
      "detokenized ['[CLS]', 'the', 'cl', 'ima', 'ctic', 'hour', 'long', 'cricket', 'match', '[SEP]']\n",
      "len conti_raw 7\n",
      "conti_raw ['[CLS]', 'the', 'climactic', 'hourlong', 'cricket', 'match', '[SEP]']\n",
      "word attri tensor([-0.1619,  0.1914,  0.0092,  0.3868,  0.2405, -0.4674,  0.6436, -0.2805,\n",
      "         0.0689,  0.1161], device='cuda:0')\n",
      "conti attri tensor([-0.1619,  0.1914,  0.2192,  0.0881, -0.2805,  0.0689,  0.1161])\n"
     ]
    },
    {
     "data": {
      "text/html": [
       "<table width: 100%><div style=\"border-top: 1px solid; margin-top: 5px;             padding-top: 5px; display: inline-block\"><b>Legend: </b><span style=\"display: inline-block; width: 10px; height: 10px;                 border: 1px solid; background-color:                 hsl(0, 75%, 60%)\"></span> Negative  <span style=\"display: inline-block; width: 10px; height: 10px;                 border: 1px solid; background-color:                 hsl(0, 75%, 100%)\"></span> Neutral  <span style=\"display: inline-block; width: 10px; height: 10px;                 border: 1px solid; background-color:                 hsl(120, 75%, 50%)\"></span> Positive  </div><tr><th>True Label</th><th>Predicted Label</th><th>Attribution Label</th><th>Attribution Score</th><th>Word Importance</th><tr><td><text style=\"padding-right:2em\"><b>Pos</b></text></td><td><text style=\"padding-right:2em\"><b>Pos (0.60)</b></text></td><td><text style=\"padding-right:2em\"><b>Pos</b></text></td><td><text style=\"padding-right:2em\"><b>0.75</b></text></td><td><mark style=\"background-color: hsl(0, 75%, 94%); opacity:1.0;                     line-height:1.75\"><font color=\"black\"> [CLS]                    </font></mark><mark style=\"background-color: hsl(120, 75%, 91%); opacity:1.0;                     line-height:1.75\"><font color=\"black\"> the                    </font></mark><mark style=\"background-color: hsl(120, 75%, 90%); opacity:1.0;                     line-height:1.75\"><font color=\"black\"> climactic                    </font></mark><mark style=\"background-color: hsl(120, 75%, 96%); opacity:1.0;                     line-height:1.75\"><font color=\"black\"> hourlong                    </font></mark><mark style=\"background-color: hsl(0, 75%, 89%); opacity:1.0;                     line-height:1.75\"><font color=\"black\"> cricket                    </font></mark><mark style=\"background-color: hsl(120, 75%, 97%); opacity:1.0;                     line-height:1.75\"><font color=\"black\"> match                    </font></mark><mark style=\"background-color: hsl(120, 75%, 95%); opacity:1.0;                     line-height:1.75\"><font color=\"black\"> [SEP]                    </font></mark></td><tr></table>"
      ],
      "text/plain": [
       "<IPython.core.display.HTML object>"
      ]
     },
     "metadata": {},
     "output_type": "display_data"
    },
    {
     "name": "stderr",
     "output_type": "stream",
     "text": [
      "/home/user/anaconda3/envs/metric/lib/python3.9/site-packages/captum/attr/_core/lime.py:1096: UserWarning: Attempting to construct interpretable model with > 10000 features.This can be very slow or lead to OOM issues. Please provide a featuremask which groups input features to reduce the number of interpretablefeatures. \n",
      "  warnings.warn(\n"
     ]
    },
    {
     "name": "stdout",
     "output_type": "stream",
     "text": [
      "<IPython.core.display.HTML object>\n",
      "Raw review: alternating between facetious comic parody and pulp melodrama , this smart-aleck movie ... tosses around some intriguing questions about the difference between human and android life \n",
      "GT target: 1\n",
      "deotk ['[CLS]', 'alternating', 'between', 'face', 'tious', 'comic', 'parody', 'and', 'pulp', 'mel', 'od', 'rama', ',', 'this', 'smart', '-', 'alec', 'k', 'movie', '.', '.', '.', 'toss', 'es', 'around', 'some', 'intriguing', 'questions', 'about', 'the', 'difference', 'between', 'human', 'and', 'android', 'life', '[SEP]']\n"
     ]
    },
    {
     "name": "stderr",
     "output_type": "stream",
     "text": [
      "Lime attribution: 100%|████████████████████████████████████████████████████████████████████████████████████████████████████████| 25/25 [00:04<00:00,  5.92it/s]\n",
      "/home/user/anaconda3/envs/metric/lib/python3.9/site-packages/sklearn/linear_model/_coordinate_descent.py:647: ConvergenceWarning: Objective did not converge. You might want to increase the number of iterations, check the scale of the features or consider increasing regularisation. Duality gap: 6.684e-02, tolerance: 1.604e-02\n",
      "  model = cd_fast.enet_coordinate_descent(\n"
     ]
    },
    {
     "name": "stdout",
     "output_type": "stream",
     "text": [
      "word attr tensor([-5.2124e-01,  6.1221e-02, -9.4890e-02, -8.7900e-02,  1.0622e-01,\n",
      "        -8.5965e-02,  2.1266e-02,  3.4022e-01,  1.6393e-02, -3.5053e-02,\n",
      "        -3.8323e-01,  2.7402e-02,  1.2735e-02, -5.4637e-02,  2.5461e-02,\n",
      "        -1.7325e-01,  1.3658e-01, -3.9186e-02,  1.5821e-01,  1.7616e-01,\n",
      "        -7.6277e-02,  1.6088e-01,  1.1556e-01,  1.7058e-01,  3.0619e-04,\n",
      "         1.1908e-01,  3.5866e-01, -1.3658e-01,  1.7203e-01, -1.1270e-01,\n",
      "        -7.0654e-02, -3.1458e-02,  6.2045e-02,  1.0970e-01,  5.7158e-02,\n",
      "        -8.8801e-02, -5.3398e-02], device='cuda:0')\n",
      "conti attr [tensor(-0.5212, device='cuda:0'), tensor(0.0612, device='cuda:0'), tensor(-0.0949, device='cuda:0'), tensor(0.0092, device='cuda:0'), tensor(-0.0860, device='cuda:0'), tensor(0.0213, device='cuda:0'), tensor(0.3402, device='cuda:0'), tensor(0.0164, device='cuda:0'), tensor(-0.0909, device='cuda:0'), tensor(0.0127, device='cuda:0'), tensor(-0.0546, device='cuda:0'), tensor(-0.0039, device='cuda:0'), tensor(0.1582, device='cuda:0'), tensor(0.1054, device='cuda:0'), tensor(0.1431, device='cuda:0'), tensor(0.0003, device='cuda:0'), tensor(0.1191, device='cuda:0'), tensor(0.3587, device='cuda:0'), tensor(-0.1366, device='cuda:0'), tensor(0.1720, device='cuda:0'), tensor(-0.1127, device='cuda:0'), tensor(-0.0707, device='cuda:0'), tensor(-0.0315, device='cuda:0'), tensor(0.0620, device='cuda:0'), tensor(0.1097, device='cuda:0'), tensor(0.0572, device='cuda:0'), tensor(-0.0888, device='cuda:0'), tensor(-0.0534, device='cuda:0')]\n",
      "detokenized ['[CLS]', 'alternating', 'between', 'face', 'tious', 'comic', 'parody', 'and', 'pulp', 'mel', 'od', 'rama', ',', 'this', 'smart', '-', 'alec', 'k', 'movie', '.', '.', '.', 'toss', 'es', 'around', 'some', 'intriguing', 'questions', 'about', 'the', 'difference', 'between', 'human', 'and', 'android', 'life', '[SEP]']\n",
      "len conti_raw 28\n",
      "conti_raw ['[CLS]', 'alternating', 'between', 'facetious', 'comic', 'parody', 'and', 'pulp', 'melodrama', ',', 'this', 'smart-aleck', 'movie', '...', 'tosses', 'around', 'some', 'intriguing', 'questions', 'about', 'the', 'difference', 'between', 'human', 'and', 'android', 'life', '[SEP]']\n",
      "word attri tensor([-5.2124e-01,  6.1221e-02, -9.4890e-02, -8.7900e-02,  1.0622e-01,\n",
      "        -8.5965e-02,  2.1266e-02,  3.4022e-01,  1.6393e-02, -3.5053e-02,\n",
      "        -3.8323e-01,  2.7402e-02,  1.2735e-02, -5.4637e-02,  2.5461e-02,\n",
      "        -1.7325e-01,  1.3658e-01, -3.9186e-02,  1.5821e-01,  1.7616e-01,\n",
      "        -7.6277e-02,  1.6088e-01,  1.1556e-01,  1.7058e-01,  3.0619e-04,\n",
      "         1.1908e-01,  3.5866e-01, -1.3658e-01,  1.7203e-01, -1.1270e-01,\n",
      "        -7.0654e-02, -3.1458e-02,  6.2045e-02,  1.0970e-01,  5.7158e-02,\n",
      "        -8.8801e-02, -5.3398e-02], device='cuda:0')\n",
      "conti attri tensor([-5.2124e-01,  6.1221e-02, -9.4890e-02,  9.1595e-03, -8.5965e-02,\n",
      "         2.1266e-02,  3.4022e-01,  1.6393e-02, -9.0871e-02,  1.2735e-02,\n",
      "        -5.4637e-02, -3.9203e-03,  1.5821e-01,  1.0541e-01,  1.4307e-01,\n",
      "         3.0619e-04,  1.1908e-01,  3.5866e-01, -1.3658e-01,  1.7203e-01,\n",
      "        -1.1270e-01, -7.0654e-02, -3.1458e-02,  6.2045e-02,  1.0970e-01,\n",
      "         5.7158e-02, -8.8801e-02, -5.3398e-02])\n"
     ]
    },
    {
     "data": {
      "text/html": [
       "<table width: 100%><div style=\"border-top: 1px solid; margin-top: 5px;             padding-top: 5px; display: inline-block\"><b>Legend: </b><span style=\"display: inline-block; width: 10px; height: 10px;                 border: 1px solid; background-color:                 hsl(0, 75%, 60%)\"></span> Negative  <span style=\"display: inline-block; width: 10px; height: 10px;                 border: 1px solid; background-color:                 hsl(0, 75%, 100%)\"></span> Neutral  <span style=\"display: inline-block; width: 10px; height: 10px;                 border: 1px solid; background-color:                 hsl(120, 75%, 50%)\"></span> Positive  </div><tr><th>True Label</th><th>Predicted Label</th><th>Attribution Label</th><th>Attribution Score</th><th>Word Importance</th><tr><td><text style=\"padding-right:2em\"><b>Pos</b></text></td><td><text style=\"padding-right:2em\"><b>Pos (0.93)</b></text></td><td><text style=\"padding-right:2em\"><b>Neg</b></text></td><td><text style=\"padding-right:2em\"><b>0.36</b></text></td><td><mark style=\"background-color: hsl(0, 75%, 80%); opacity:1.0;                     line-height:1.75\"><font color=\"black\"> [CLS]                    </font></mark><mark style=\"background-color: hsl(120, 75%, 97%); opacity:1.0;                     line-height:1.75\"><font color=\"black\"> alternating                    </font></mark><mark style=\"background-color: hsl(0, 75%, 97%); opacity:1.0;                     line-height:1.75\"><font color=\"black\"> between                    </font></mark><mark style=\"background-color: hsl(120, 75%, 100%); opacity:1.0;                     line-height:1.75\"><font color=\"black\"> facetious                    </font></mark><mark style=\"background-color: hsl(0, 75%, 97%); opacity:1.0;                     line-height:1.75\"><font color=\"black\"> comic                    </font></mark><mark style=\"background-color: hsl(120, 75%, 99%); opacity:1.0;                     line-height:1.75\"><font color=\"black\"> parody                    </font></mark><mark style=\"background-color: hsl(120, 75%, 83%); opacity:1.0;                     line-height:1.75\"><font color=\"black\"> and                    </font></mark><mark style=\"background-color: hsl(120, 75%, 100%); opacity:1.0;                     line-height:1.75\"><font color=\"black\"> pulp                    </font></mark><mark style=\"background-color: hsl(0, 75%, 97%); opacity:1.0;                     line-height:1.75\"><font color=\"black\"> melodrama                    </font></mark><mark style=\"background-color: hsl(120, 75%, 100%); opacity:1.0;                     line-height:1.75\"><font color=\"black\"> ,                    </font></mark><mark style=\"background-color: hsl(0, 75%, 98%); opacity:1.0;                     line-height:1.75\"><font color=\"black\"> this                    </font></mark><mark style=\"background-color: hsl(0, 75%, 100%); opacity:1.0;                     line-height:1.75\"><font color=\"black\"> smart-aleck                    </font></mark><mark style=\"background-color: hsl(120, 75%, 93%); opacity:1.0;                     line-height:1.75\"><font color=\"black\"> movie                    </font></mark><mark style=\"background-color: hsl(120, 75%, 95%); opacity:1.0;                     line-height:1.75\"><font color=\"black\"> ...                    </font></mark><mark style=\"background-color: hsl(120, 75%, 93%); opacity:1.0;                     line-height:1.75\"><font color=\"black\"> tosses                    </font></mark><mark style=\"background-color: hsl(120, 75%, 100%); opacity:1.0;                     line-height:1.75\"><font color=\"black\"> around                    </font></mark><mark style=\"background-color: hsl(120, 75%, 95%); opacity:1.0;                     line-height:1.75\"><font color=\"black\"> some                    </font></mark><mark style=\"background-color: hsl(120, 75%, 83%); opacity:1.0;                     line-height:1.75\"><font color=\"black\"> intriguing                    </font></mark><mark style=\"background-color: hsl(0, 75%, 95%); opacity:1.0;                     line-height:1.75\"><font color=\"black\"> questions                    </font></mark><mark style=\"background-color: hsl(120, 75%, 92%); opacity:1.0;                     line-height:1.75\"><font color=\"black\"> about                    </font></mark><mark style=\"background-color: hsl(0, 75%, 96%); opacity:1.0;                     line-height:1.75\"><font color=\"black\"> the                    </font></mark><mark style=\"background-color: hsl(0, 75%, 98%); opacity:1.0;                     line-height:1.75\"><font color=\"black\"> difference                    </font></mark><mark style=\"background-color: hsl(0, 75%, 99%); opacity:1.0;                     line-height:1.75\"><font color=\"black\"> between                    </font></mark><mark style=\"background-color: hsl(120, 75%, 97%); opacity:1.0;                     line-height:1.75\"><font color=\"black\"> human                    </font></mark><mark style=\"background-color: hsl(120, 75%, 95%); opacity:1.0;                     line-height:1.75\"><font color=\"black\"> and                    </font></mark><mark style=\"background-color: hsl(120, 75%, 98%); opacity:1.0;                     line-height:1.75\"><font color=\"black\"> android                    </font></mark><mark style=\"background-color: hsl(0, 75%, 97%); opacity:1.0;                     line-height:1.75\"><font color=\"black\"> life                    </font></mark><mark style=\"background-color: hsl(0, 75%, 98%); opacity:1.0;                     line-height:1.75\"><font color=\"black\"> [SEP]                    </font></mark></td><tr></table>"
      ],
      "text/plain": [
       "<IPython.core.display.HTML object>"
      ]
     },
     "metadata": {},
     "output_type": "display_data"
    },
    {
     "name": "stdout",
     "output_type": "stream",
     "text": [
      "<IPython.core.display.HTML object>\n",
      "Raw review: to be a part of that elusive adult world \n",
      "GT target: 1\n",
      "deotk ['[CLS]', 'to', 'be', 'a', 'part', 'of', 'that', 'elusive', 'adult', 'world', '[SEP]']\n"
     ]
    },
    {
     "name": "stderr",
     "output_type": "stream",
     "text": [
      "Lime attribution: 100%|████████████████████████████████████████████████████████████████████████████████████████████████████████| 25/25 [00:02<00:00, 11.08it/s]\n",
      "/home/user/anaconda3/envs/metric/lib/python3.9/site-packages/sklearn/linear_model/_coordinate_descent.py:647: ConvergenceWarning: Objective did not converge. You might want to increase the number of iterations, check the scale of the features or consider increasing regularisation. Duality gap: 6.889e-04, tolerance: 2.433e-04\n",
      "  model = cd_fast.enet_coordinate_descent(\n"
     ]
    },
    {
     "name": "stdout",
     "output_type": "stream",
     "text": [
      "word attr tensor([-0.6083,  0.2264, -0.1970, -0.2136,  0.0613,  0.0894,  0.2992,  0.1171,\n",
      "         0.5334,  0.2749, -0.1387], device='cuda:0')\n",
      "conti attr [tensor(-0.6083, device='cuda:0'), tensor(0.2264, device='cuda:0'), tensor(-0.1970, device='cuda:0'), tensor(-0.2136, device='cuda:0'), tensor(0.0613, device='cuda:0'), tensor(0.0894, device='cuda:0'), tensor(0.2992, device='cuda:0'), tensor(0.1171, device='cuda:0'), tensor(0.5334, device='cuda:0'), tensor(0.2749, device='cuda:0'), tensor(-0.1387, device='cuda:0')]\n",
      "detokenized ['[CLS]', 'to', 'be', 'a', 'part', 'of', 'that', 'elusive', 'adult', 'world', '[SEP]']\n",
      "len conti_raw 11\n",
      "conti_raw ['[CLS]', 'to', 'be', 'a', 'part', 'of', 'that', 'elusive', 'adult', 'world', '[SEP]']\n",
      "word attri tensor([-0.6083,  0.2264, -0.1970, -0.2136,  0.0613,  0.0894,  0.2992,  0.1171,\n",
      "         0.5334,  0.2749, -0.1387], device='cuda:0')\n",
      "conti attri tensor([-0.6083,  0.2264, -0.1970, -0.2136,  0.0613,  0.0894,  0.2992,  0.1171,\n",
      "         0.5334,  0.2749, -0.1387])\n"
     ]
    },
    {
     "data": {
      "text/html": [
       "<table width: 100%><div style=\"border-top: 1px solid; margin-top: 5px;             padding-top: 5px; display: inline-block\"><b>Legend: </b><span style=\"display: inline-block; width: 10px; height: 10px;                 border: 1px solid; background-color:                 hsl(0, 75%, 60%)\"></span> Negative  <span style=\"display: inline-block; width: 10px; height: 10px;                 border: 1px solid; background-color:                 hsl(0, 75%, 100%)\"></span> Neutral  <span style=\"display: inline-block; width: 10px; height: 10px;                 border: 1px solid; background-color:                 hsl(120, 75%, 50%)\"></span> Positive  </div><tr><th>True Label</th><th>Predicted Label</th><th>Attribution Label</th><th>Attribution Score</th><th>Word Importance</th><tr><td><text style=\"padding-right:2em\"><b>Pos</b></text></td><td><text style=\"padding-right:2em\"><b>Pos (0.96)</b></text></td><td><text style=\"padding-right:2em\"><b>Neg</b></text></td><td><text style=\"padding-right:2em\"><b>0.44</b></text></td><td><mark style=\"background-color: hsl(0, 75%, 76%); opacity:1.0;                     line-height:1.75\"><font color=\"black\"> [CLS]                    </font></mark><mark style=\"background-color: hsl(120, 75%, 89%); opacity:1.0;                     line-height:1.75\"><font color=\"black\"> to                    </font></mark><mark style=\"background-color: hsl(0, 75%, 93%); opacity:1.0;                     line-height:1.75\"><font color=\"black\"> be                    </font></mark><mark style=\"background-color: hsl(0, 75%, 92%); opacity:1.0;                     line-height:1.75\"><font color=\"black\"> a                    </font></mark><mark style=\"background-color: hsl(120, 75%, 97%); opacity:1.0;                     line-height:1.75\"><font color=\"black\"> part                    </font></mark><mark style=\"background-color: hsl(120, 75%, 96%); opacity:1.0;                     line-height:1.75\"><font color=\"black\"> of                    </font></mark><mark style=\"background-color: hsl(120, 75%, 86%); opacity:1.0;                     line-height:1.75\"><font color=\"black\"> that                    </font></mark><mark style=\"background-color: hsl(120, 75%, 95%); opacity:1.0;                     line-height:1.75\"><font color=\"black\"> elusive                    </font></mark><mark style=\"background-color: hsl(120, 75%, 74%); opacity:1.0;                     line-height:1.75\"><font color=\"black\"> adult                    </font></mark><mark style=\"background-color: hsl(120, 75%, 87%); opacity:1.0;                     line-height:1.75\"><font color=\"black\"> world                    </font></mark><mark style=\"background-color: hsl(0, 75%, 95%); opacity:1.0;                     line-height:1.75\"><font color=\"black\"> [SEP]                    </font></mark></td><tr></table>"
      ],
      "text/plain": [
       "<IPython.core.display.HTML object>"
      ]
     },
     "metadata": {},
     "output_type": "display_data"
    },
    {
     "name": "stdout",
     "output_type": "stream",
     "text": [
      "<IPython.core.display.HTML object>\n",
      "Raw review: emotional power \n",
      "GT target: 1\n",
      "deotk ['[CLS]', 'emotional', 'power', '[SEP]']\n"
     ]
    },
    {
     "name": "stderr",
     "output_type": "stream",
     "text": [
      "Lime attribution: 100%|████████████████████████████████████████████████████████████████████████████████████████████████████████| 25/25 [00:01<00:00, 13.70it/s]\n"
     ]
    },
    {
     "name": "stdout",
     "output_type": "stream",
     "text": [
      "word attr tensor([ 0.8937, -0.2590, -0.1417, -0.3377], device='cuda:0')\n",
      "conti attr [tensor(0.8937, device='cuda:0'), tensor(-0.2590, device='cuda:0'), tensor(-0.1417, device='cuda:0'), tensor(-0.3377, device='cuda:0')]\n",
      "detokenized ['[CLS]', 'emotional', 'power', '[SEP]']\n",
      "len conti_raw 4\n",
      "conti_raw ['[CLS]', 'emotional', 'power', '[SEP]']\n",
      "word attri tensor([ 0.8937, -0.2590, -0.1417, -0.3377], device='cuda:0')\n",
      "conti attri tensor([ 0.8937, -0.2590, -0.1417, -0.3377])\n"
     ]
    },
    {
     "data": {
      "text/html": [
       "<table width: 100%><div style=\"border-top: 1px solid; margin-top: 5px;             padding-top: 5px; display: inline-block\"><b>Legend: </b><span style=\"display: inline-block; width: 10px; height: 10px;                 border: 1px solid; background-color:                 hsl(0, 75%, 60%)\"></span> Negative  <span style=\"display: inline-block; width: 10px; height: 10px;                 border: 1px solid; background-color:                 hsl(0, 75%, 100%)\"></span> Neutral  <span style=\"display: inline-block; width: 10px; height: 10px;                 border: 1px solid; background-color:                 hsl(120, 75%, 50%)\"></span> Positive  </div><tr><th>True Label</th><th>Predicted Label</th><th>Attribution Label</th><th>Attribution Score</th><th>Word Importance</th><tr><td><text style=\"padding-right:2em\"><b>Pos</b></text></td><td><text style=\"padding-right:2em\"><b>Pos (0.98)</b></text></td><td><text style=\"padding-right:2em\"><b>Neg</b></text></td><td><text style=\"padding-right:2em\"><b>0.16</b></text></td><td><mark style=\"background-color: hsl(120, 75%, 56%); opacity:1.0;                     line-height:1.75\"><font color=\"black\"> [CLS]                    </font></mark><mark style=\"background-color: hsl(0, 75%, 90%); opacity:1.0;                     line-height:1.75\"><font color=\"black\"> emotional                    </font></mark><mark style=\"background-color: hsl(0, 75%, 95%); opacity:1.0;                     line-height:1.75\"><font color=\"black\"> power                    </font></mark><mark style=\"background-color: hsl(0, 75%, 87%); opacity:1.0;                     line-height:1.75\"><font color=\"black\"> [SEP]                    </font></mark></td><tr></table>"
      ],
      "text/plain": [
       "<IPython.core.display.HTML object>"
      ]
     },
     "metadata": {},
     "output_type": "display_data"
    },
    {
     "name": "stderr",
     "output_type": "stream",
     "text": [
      "/home/user/anaconda3/envs/metric/lib/python3.9/site-packages/captum/attr/_core/lime.py:1096: UserWarning: Attempting to construct interpretable model with > 10000 features.This can be very slow or lead to OOM issues. Please provide a featuremask which groups input features to reduce the number of interpretablefeatures. \n",
      "  warnings.warn(\n"
     ]
    },
    {
     "name": "stdout",
     "output_type": "stream",
     "text": [
      "<IPython.core.display.HTML object>\n",
      "Raw review: reminds you of why animation is such a perfect medium for children , because of the way it allows the mind to enter and accept another world \n",
      "GT target: 1\n",
      "deotk ['[CLS]', 'reminds', 'you', 'of', 'why', 'animation', 'is', 'such', 'a', 'perfect', 'medium', 'for', 'children', ',', 'because', 'of', 'the', 'way', 'it', 'allows', 'the', 'mind', 'to', 'enter', 'and', 'accept', 'another', 'world', '[SEP]']\n"
     ]
    },
    {
     "name": "stderr",
     "output_type": "stream",
     "text": [
      "Lime attribution: 100%|████████████████████████████████████████████████████████████████████████████████████████████████████████| 25/25 [00:03<00:00,  7.25it/s]\n"
     ]
    },
    {
     "name": "stdout",
     "output_type": "stream",
     "text": [
      "word attr tensor([-0.2470, -0.1258,  0.2586, -0.1130, -0.1316,  0.1167, -0.0596, -0.0872,\n",
      "         0.0512,  0.1361,  0.2232,  0.1095,  0.0154,  0.2154, -0.0403,  0.3203,\n",
      "         0.0771, -0.0277,  0.0075, -0.0798, -0.1974,  0.2379,  0.0399, -0.4135,\n",
      "         0.1072, -0.0749, -0.0275, -0.1181, -0.5045], device='cuda:0')\n",
      "conti attr [tensor(-0.2470, device='cuda:0'), tensor(-0.1258, device='cuda:0'), tensor(0.2586, device='cuda:0'), tensor(-0.1130, device='cuda:0'), tensor(-0.1316, device='cuda:0'), tensor(0.1167, device='cuda:0'), tensor(-0.0596, device='cuda:0'), tensor(-0.0872, device='cuda:0'), tensor(0.0512, device='cuda:0'), tensor(0.1361, device='cuda:0'), tensor(0.2232, device='cuda:0'), tensor(0.1095, device='cuda:0'), tensor(0.0154, device='cuda:0'), tensor(0.2154, device='cuda:0'), tensor(-0.0403, device='cuda:0'), tensor(0.3203, device='cuda:0'), tensor(0.0771, device='cuda:0'), tensor(-0.0277, device='cuda:0'), tensor(0.0075, device='cuda:0'), tensor(-0.0798, device='cuda:0'), tensor(-0.1974, device='cuda:0'), tensor(0.2379, device='cuda:0'), tensor(0.0399, device='cuda:0'), tensor(-0.4135, device='cuda:0'), tensor(0.1072, device='cuda:0'), tensor(-0.0749, device='cuda:0'), tensor(-0.0275, device='cuda:0'), tensor(-0.1181, device='cuda:0'), tensor(-0.5045, device='cuda:0')]\n",
      "detokenized ['[CLS]', 'reminds', 'you', 'of', 'why', 'animation', 'is', 'such', 'a', 'perfect', 'medium', 'for', 'children', ',', 'because', 'of', 'the', 'way', 'it', 'allows', 'the', 'mind', 'to', 'enter', 'and', 'accept', 'another', 'world', '[SEP]']\n",
      "len conti_raw 29\n",
      "conti_raw ['[CLS]', 'reminds', 'you', 'of', 'why', 'animation', 'is', 'such', 'a', 'perfect', 'medium', 'for', 'children', ',', 'because', 'of', 'the', 'way', 'it', 'allows', 'the', 'mind', 'to', 'enter', 'and', 'accept', 'another', 'world', '[SEP]']\n",
      "word attri tensor([-0.2470, -0.1258,  0.2586, -0.1130, -0.1316,  0.1167, -0.0596, -0.0872,\n",
      "         0.0512,  0.1361,  0.2232,  0.1095,  0.0154,  0.2154, -0.0403,  0.3203,\n",
      "         0.0771, -0.0277,  0.0075, -0.0798, -0.1974,  0.2379,  0.0399, -0.4135,\n",
      "         0.1072, -0.0749, -0.0275, -0.1181, -0.5045], device='cuda:0')\n",
      "conti attri tensor([-0.2470, -0.1258,  0.2586, -0.1130, -0.1316,  0.1167, -0.0596, -0.0872,\n",
      "         0.0512,  0.1361,  0.2232,  0.1095,  0.0154,  0.2154, -0.0403,  0.3203,\n",
      "         0.0771, -0.0277,  0.0075, -0.0798, -0.1974,  0.2379,  0.0399, -0.4135,\n",
      "         0.1072, -0.0749, -0.0275, -0.1181, -0.5045])\n"
     ]
    },
    {
     "data": {
      "text/html": [
       "<table width: 100%><div style=\"border-top: 1px solid; margin-top: 5px;             padding-top: 5px; display: inline-block\"><b>Legend: </b><span style=\"display: inline-block; width: 10px; height: 10px;                 border: 1px solid; background-color:                 hsl(0, 75%, 60%)\"></span> Negative  <span style=\"display: inline-block; width: 10px; height: 10px;                 border: 1px solid; background-color:                 hsl(0, 75%, 100%)\"></span> Neutral  <span style=\"display: inline-block; width: 10px; height: 10px;                 border: 1px solid; background-color:                 hsl(120, 75%, 50%)\"></span> Positive  </div><tr><th>True Label</th><th>Predicted Label</th><th>Attribution Label</th><th>Attribution Score</th><th>Word Importance</th><tr><td><text style=\"padding-right:2em\"><b>Pos</b></text></td><td><text style=\"padding-right:2em\"><b>Pos (0.97)</b></text></td><td><text style=\"padding-right:2em\"><b>Neg</b></text></td><td><text style=\"padding-right:2em\"><b>-0.33</b></text></td><td><mark style=\"background-color: hsl(0, 75%, 91%); opacity:1.0;                     line-height:1.75\"><font color=\"black\"> [CLS]                    </font></mark><mark style=\"background-color: hsl(0, 75%, 95%); opacity:1.0;                     line-height:1.75\"><font color=\"black\"> reminds                    </font></mark><mark style=\"background-color: hsl(120, 75%, 88%); opacity:1.0;                     line-height:1.75\"><font color=\"black\"> you                    </font></mark><mark style=\"background-color: hsl(0, 75%, 96%); opacity:1.0;                     line-height:1.75\"><font color=\"black\"> of                    </font></mark><mark style=\"background-color: hsl(0, 75%, 95%); opacity:1.0;                     line-height:1.75\"><font color=\"black\"> why                    </font></mark><mark style=\"background-color: hsl(120, 75%, 95%); opacity:1.0;                     line-height:1.75\"><font color=\"black\"> animation                    </font></mark><mark style=\"background-color: hsl(0, 75%, 98%); opacity:1.0;                     line-height:1.75\"><font color=\"black\"> is                    </font></mark><mark style=\"background-color: hsl(0, 75%, 97%); opacity:1.0;                     line-height:1.75\"><font color=\"black\"> such                    </font></mark><mark style=\"background-color: hsl(120, 75%, 98%); opacity:1.0;                     line-height:1.75\"><font color=\"black\"> a                    </font></mark><mark style=\"background-color: hsl(120, 75%, 94%); opacity:1.0;                     line-height:1.75\"><font color=\"black\"> perfect                    </font></mark><mark style=\"background-color: hsl(120, 75%, 89%); opacity:1.0;                     line-height:1.75\"><font color=\"black\"> medium                    </font></mark><mark style=\"background-color: hsl(120, 75%, 95%); opacity:1.0;                     line-height:1.75\"><font color=\"black\"> for                    </font></mark><mark style=\"background-color: hsl(120, 75%, 100%); opacity:1.0;                     line-height:1.75\"><font color=\"black\"> children                    </font></mark><mark style=\"background-color: hsl(120, 75%, 90%); opacity:1.0;                     line-height:1.75\"><font color=\"black\"> ,                    </font></mark><mark style=\"background-color: hsl(0, 75%, 99%); opacity:1.0;                     line-height:1.75\"><font color=\"black\"> because                    </font></mark><mark style=\"background-color: hsl(120, 75%, 84%); opacity:1.0;                     line-height:1.75\"><font color=\"black\"> of                    </font></mark><mark style=\"background-color: hsl(120, 75%, 97%); opacity:1.0;                     line-height:1.75\"><font color=\"black\"> the                    </font></mark><mark style=\"background-color: hsl(0, 75%, 99%); opacity:1.0;                     line-height:1.75\"><font color=\"black\"> way                    </font></mark><mark style=\"background-color: hsl(120, 75%, 100%); opacity:1.0;                     line-height:1.75\"><font color=\"black\"> it                    </font></mark><mark style=\"background-color: hsl(0, 75%, 97%); opacity:1.0;                     line-height:1.75\"><font color=\"black\"> allows                    </font></mark><mark style=\"background-color: hsl(0, 75%, 93%); opacity:1.0;                     line-height:1.75\"><font color=\"black\"> the                    </font></mark><mark style=\"background-color: hsl(120, 75%, 89%); opacity:1.0;                     line-height:1.75\"><font color=\"black\"> mind                    </font></mark><mark style=\"background-color: hsl(120, 75%, 99%); opacity:1.0;                     line-height:1.75\"><font color=\"black\"> to                    </font></mark><mark style=\"background-color: hsl(0, 75%, 84%); opacity:1.0;                     line-height:1.75\"><font color=\"black\"> enter                    </font></mark><mark style=\"background-color: hsl(120, 75%, 95%); opacity:1.0;                     line-height:1.75\"><font color=\"black\"> and                    </font></mark><mark style=\"background-color: hsl(0, 75%, 98%); opacity:1.0;                     line-height:1.75\"><font color=\"black\"> accept                    </font></mark><mark style=\"background-color: hsl(0, 75%, 99%); opacity:1.0;                     line-height:1.75\"><font color=\"black\"> another                    </font></mark><mark style=\"background-color: hsl(0, 75%, 96%); opacity:1.0;                     line-height:1.75\"><font color=\"black\"> world                    </font></mark><mark style=\"background-color: hsl(0, 75%, 80%); opacity:1.0;                     line-height:1.75\"><font color=\"black\"> [SEP]                    </font></mark></td><tr></table>"
      ],
      "text/plain": [
       "<IPython.core.display.HTML object>"
      ]
     },
     "metadata": {},
     "output_type": "display_data"
    },
    {
     "name": "stdout",
     "output_type": "stream",
     "text": [
      "<IPython.core.display.HTML object>\n",
      "Raw review: unparalleled proportions , writer-director parker \n",
      "GT target: 1\n",
      "deotk ['[CLS]', 'un', 'para', 'lle', 'led', 'proportions', ',', 'writer', '-', 'director', 'parker', '[SEP]']\n"
     ]
    },
    {
     "name": "stderr",
     "output_type": "stream",
     "text": [
      "Lime attribution: 100%|████████████████████████████████████████████████████████████████████████████████████████████████████████| 25/25 [00:02<00:00, 10.80it/s]\n",
      "/home/user/anaconda3/envs/metric/lib/python3.9/site-packages/sklearn/linear_model/_coordinate_descent.py:647: ConvergenceWarning: Objective did not converge. You might want to increase the number of iterations, check the scale of the features or consider increasing regularisation. Duality gap: 2.958e-01, tolerance: 6.449e-02\n",
      "  model = cd_fast.enet_coordinate_descent(\n"
     ]
    },
    {
     "name": "stdout",
     "output_type": "stream",
     "text": [
      "word attr tensor([ 0.3891,  0.1020,  0.2275,  0.6075,  0.3968, -0.2544,  0.0502, -0.2542,\n",
      "        -0.2085, -0.2502, -0.0496, -0.1394], device='cuda:0')\n",
      "conti attr [tensor(0.3891, device='cuda:0'), tensor(0.3915, device='cuda:0'), tensor(-0.2544, device='cuda:0'), tensor(0.0502, device='cuda:0'), tensor(-0.2408, device='cuda:0'), tensor(-0.0496, device='cuda:0'), tensor(-0.1394, device='cuda:0')]\n",
      "detokenized ['[CLS]', 'un', 'para', 'lle', 'led', 'proportions', ',', 'writer', '-', 'director', 'parker', '[SEP]']\n",
      "len conti_raw 7\n",
      "conti_raw ['[CLS]', 'unparalleled', 'proportions', ',', 'writer-director', 'parker', '[SEP]']\n",
      "word attri tensor([ 0.3891,  0.1020,  0.2275,  0.6075,  0.3968, -0.2544,  0.0502, -0.2542,\n",
      "        -0.2085, -0.2502, -0.0496, -0.1394], device='cuda:0')\n",
      "conti attri tensor([ 0.3891,  0.3915, -0.2544,  0.0502, -0.2408, -0.0496, -0.1394])\n"
     ]
    },
    {
     "data": {
      "text/html": [
       "<table width: 100%><div style=\"border-top: 1px solid; margin-top: 5px;             padding-top: 5px; display: inline-block\"><b>Legend: </b><span style=\"display: inline-block; width: 10px; height: 10px;                 border: 1px solid; background-color:                 hsl(0, 75%, 60%)\"></span> Negative  <span style=\"display: inline-block; width: 10px; height: 10px;                 border: 1px solid; background-color:                 hsl(0, 75%, 100%)\"></span> Neutral  <span style=\"display: inline-block; width: 10px; height: 10px;                 border: 1px solid; background-color:                 hsl(120, 75%, 50%)\"></span> Positive  </div><tr><th>True Label</th><th>Predicted Label</th><th>Attribution Label</th><th>Attribution Score</th><th>Word Importance</th><tr><td><text style=\"padding-right:2em\"><b>Pos</b></text></td><td><text style=\"padding-right:2em\"><b>Pos (0.88)</b></text></td><td><text style=\"padding-right:2em\"><b>Pos</b></text></td><td><text style=\"padding-right:2em\"><b>0.62</b></text></td><td><mark style=\"background-color: hsl(120, 75%, 81%); opacity:1.0;                     line-height:1.75\"><font color=\"black\"> [CLS]                    </font></mark><mark style=\"background-color: hsl(120, 75%, 81%); opacity:1.0;                     line-height:1.75\"><font color=\"black\"> unparalleled                    </font></mark><mark style=\"background-color: hsl(0, 75%, 90%); opacity:1.0;                     line-height:1.75\"><font color=\"black\"> proportions                    </font></mark><mark style=\"background-color: hsl(120, 75%, 98%); opacity:1.0;                     line-height:1.75\"><font color=\"black\"> ,                    </font></mark><mark style=\"background-color: hsl(0, 75%, 91%); opacity:1.0;                     line-height:1.75\"><font color=\"black\"> writer-director                    </font></mark><mark style=\"background-color: hsl(0, 75%, 99%); opacity:1.0;                     line-height:1.75\"><font color=\"black\"> parker                    </font></mark><mark style=\"background-color: hsl(0, 75%, 95%); opacity:1.0;                     line-height:1.75\"><font color=\"black\"> [SEP]                    </font></mark></td><tr></table>"
      ],
      "text/plain": [
       "<IPython.core.display.HTML object>"
      ]
     },
     "metadata": {},
     "output_type": "display_data"
    },
    {
     "name": "stdout",
     "output_type": "stream",
     "text": [
      "<IPython.core.display.HTML object>\n",
      "Raw review: this surprisingly decent flick \n",
      "GT target: 1\n",
      "deotk ['[CLS]', 'this', 'surprisingly', 'decent', 'flick', '[SEP]']\n"
     ]
    },
    {
     "name": "stderr",
     "output_type": "stream",
     "text": [
      "Lime attribution: 100%|████████████████████████████████████████████████████████████████████████████████████████████████████████| 25/25 [00:01<00:00, 12.72it/s]\n"
     ]
    },
    {
     "name": "stdout",
     "output_type": "stream",
     "text": [
      "word attr tensor([-0.0463,  0.3863,  0.5070,  0.6398,  0.3945, -0.1632], device='cuda:0')\n",
      "conti attr [tensor(-0.0463, device='cuda:0'), tensor(0.3863, device='cuda:0'), tensor(0.5070, device='cuda:0'), tensor(0.6398, device='cuda:0'), tensor(0.3945, device='cuda:0'), tensor(-0.1632, device='cuda:0')]\n",
      "detokenized ['[CLS]', 'this', 'surprisingly', 'decent', 'flick', '[SEP]']\n",
      "len conti_raw 6\n",
      "conti_raw ['[CLS]', 'this', 'surprisingly', 'decent', 'flick', '[SEP]']\n",
      "word attri tensor([-0.0463,  0.3863,  0.5070,  0.6398,  0.3945, -0.1632], device='cuda:0')\n",
      "conti attri tensor([-0.0463,  0.3863,  0.5070,  0.6398,  0.3945, -0.1632])\n"
     ]
    },
    {
     "data": {
      "text/html": [
       "<table width: 100%><div style=\"border-top: 1px solid; margin-top: 5px;             padding-top: 5px; display: inline-block\"><b>Legend: </b><span style=\"display: inline-block; width: 10px; height: 10px;                 border: 1px solid; background-color:                 hsl(0, 75%, 60%)\"></span> Negative  <span style=\"display: inline-block; width: 10px; height: 10px;                 border: 1px solid; background-color:                 hsl(0, 75%, 100%)\"></span> Neutral  <span style=\"display: inline-block; width: 10px; height: 10px;                 border: 1px solid; background-color:                 hsl(120, 75%, 50%)\"></span> Positive  </div><tr><th>True Label</th><th>Predicted Label</th><th>Attribution Label</th><th>Attribution Score</th><th>Word Importance</th><tr><td><text style=\"padding-right:2em\"><b>Pos</b></text></td><td><text style=\"padding-right:2em\"><b>Pos (0.97)</b></text></td><td><text style=\"padding-right:2em\"><b>Pos</b></text></td><td><text style=\"padding-right:2em\"><b>1.72</b></text></td><td><mark style=\"background-color: hsl(0, 75%, 99%); opacity:1.0;                     line-height:1.75\"><font color=\"black\"> [CLS]                    </font></mark><mark style=\"background-color: hsl(120, 75%, 81%); opacity:1.0;                     line-height:1.75\"><font color=\"black\"> this                    </font></mark><mark style=\"background-color: hsl(120, 75%, 75%); opacity:1.0;                     line-height:1.75\"><font color=\"black\"> surprisingly                    </font></mark><mark style=\"background-color: hsl(120, 75%, 69%); opacity:1.0;                     line-height:1.75\"><font color=\"black\"> decent                    </font></mark><mark style=\"background-color: hsl(120, 75%, 81%); opacity:1.0;                     line-height:1.75\"><font color=\"black\"> flick                    </font></mark><mark style=\"background-color: hsl(0, 75%, 94%); opacity:1.0;                     line-height:1.75\"><font color=\"black\"> [SEP]                    </font></mark></td><tr></table>"
      ],
      "text/plain": [
       "<IPython.core.display.HTML object>"
      ]
     },
     "metadata": {},
     "output_type": "display_data"
    },
    {
     "name": "stderr",
     "output_type": "stream",
     "text": [
      "/home/user/anaconda3/envs/metric/lib/python3.9/site-packages/captum/attr/_core/lime.py:1096: UserWarning: Attempting to construct interpretable model with > 10000 features.This can be very slow or lead to OOM issues. Please provide a featuremask which groups input features to reduce the number of interpretablefeatures. \n",
      "  warnings.warn(\n"
     ]
    },
    {
     "name": "stdout",
     "output_type": "stream",
     "text": [
      "<IPython.core.display.HTML object>\n",
      "Raw review: about the best thing you could say about narc is that it 's a rock-solid little genre picture . \n",
      "GT target: 1\n",
      "deotk ['[CLS]', 'about', 'the', 'best', 'thing', 'you', 'could', 'say', 'about', 'na', 'rc', 'is', 'that', 'it', \"'\", 's', 'a', 'rock', '-', 'solid', 'little', 'genre', 'picture', '.', '[SEP]']\n"
     ]
    },
    {
     "name": "stderr",
     "output_type": "stream",
     "text": [
      "Lime attribution: 100%|████████████████████████████████████████████████████████████████████████████████████████████████████████| 25/25 [00:03<00:00,  7.96it/s]\n",
      "/home/user/anaconda3/envs/metric/lib/python3.9/site-packages/sklearn/linear_model/_coordinate_descent.py:647: ConvergenceWarning: Objective did not converge. You might want to increase the number of iterations, check the scale of the features or consider increasing regularisation. Duality gap: 8.825e-03, tolerance: 2.715e-03\n",
      "  model = cd_fast.enet_coordinate_descent(\n"
     ]
    },
    {
     "name": "stdout",
     "output_type": "stream",
     "text": [
      "word attr tensor([-0.2938,  0.1525, -0.2504,  0.0547, -0.1356,  0.2140, -0.0236, -0.3393,\n",
      "        -0.1285, -0.1830, -0.2584, -0.0877, -0.0471,  0.0006,  0.1397, -0.2508,\n",
      "         0.0268, -0.1086, -0.2492,  0.3945,  0.2343,  0.2072,  0.2984,  0.1226,\n",
      "         0.0610], device='cuda:0')\n",
      "conti attr [tensor(-0.2938, device='cuda:0'), tensor(0.1525, device='cuda:0'), tensor(-0.2504, device='cuda:0'), tensor(0.0547, device='cuda:0'), tensor(-0.1356, device='cuda:0'), tensor(0.2140, device='cuda:0'), tensor(-0.0236, device='cuda:0'), tensor(-0.3393, device='cuda:0'), tensor(-0.1285, device='cuda:0'), tensor(-0.2207, device='cuda:0'), tensor(-0.0877, device='cuda:0'), tensor(-0.0471, device='cuda:0'), tensor(0.0006, device='cuda:0'), tensor(-0.0555, device='cuda:0'), tensor(0.0268, device='cuda:0'), tensor(0.1078, device='cuda:0'), tensor(0.2343, device='cuda:0'), tensor(0.2072, device='cuda:0'), tensor(0.2984, device='cuda:0'), tensor(0.1226, device='cuda:0'), tensor(0.0610, device='cuda:0')]\n",
      "detokenized ['[CLS]', 'about', 'the', 'best', 'thing', 'you', 'could', 'say', 'about', 'na', 'rc', 'is', 'that', 'it', \"'\", 's', 'a', 'rock', '-', 'solid', 'little', 'genre', 'picture', '.', '[SEP]']\n",
      "len conti_raw 21\n",
      "conti_raw ['[CLS]', 'about', 'the', 'best', 'thing', 'you', 'could', 'say', 'about', 'narc', 'is', 'that', 'it', \"'s\", 'a', 'rock-solid', 'little', 'genre', 'picture', '.', '[SEP]']\n",
      "word attri tensor([-0.2938,  0.1525, -0.2504,  0.0547, -0.1356,  0.2140, -0.0236, -0.3393,\n",
      "        -0.1285, -0.1830, -0.2584, -0.0877, -0.0471,  0.0006,  0.1397, -0.2508,\n",
      "         0.0268, -0.1086, -0.2492,  0.3945,  0.2343,  0.2072,  0.2984,  0.1226,\n",
      "         0.0610], device='cuda:0')\n",
      "conti attri tensor([-0.2938,  0.1525, -0.2504,  0.0547, -0.1356,  0.2140, -0.0236, -0.3393,\n",
      "        -0.1285, -0.2207, -0.0877, -0.0471,  0.0006, -0.0555,  0.0268,  0.1078,\n",
      "         0.2343,  0.2072,  0.2984,  0.1226,  0.0610])\n"
     ]
    },
    {
     "data": {
      "text/html": [
       "<table width: 100%><div style=\"border-top: 1px solid; margin-top: 5px;             padding-top: 5px; display: inline-block\"><b>Legend: </b><span style=\"display: inline-block; width: 10px; height: 10px;                 border: 1px solid; background-color:                 hsl(0, 75%, 60%)\"></span> Negative  <span style=\"display: inline-block; width: 10px; height: 10px;                 border: 1px solid; background-color:                 hsl(0, 75%, 100%)\"></span> Neutral  <span style=\"display: inline-block; width: 10px; height: 10px;                 border: 1px solid; background-color:                 hsl(120, 75%, 50%)\"></span> Positive  </div><tr><th>True Label</th><th>Predicted Label</th><th>Attribution Label</th><th>Attribution Score</th><th>Word Importance</th><tr><td><text style=\"padding-right:2em\"><b>Pos</b></text></td><td><text style=\"padding-right:2em\"><b>Pos (0.95)</b></text></td><td><text style=\"padding-right:2em\"><b>Neg</b></text></td><td><text style=\"padding-right:2em\"><b>-0.45</b></text></td><td><mark style=\"background-color: hsl(0, 75%, 89%); opacity:1.0;                     line-height:1.75\"><font color=\"black\"> [CLS]                    </font></mark><mark style=\"background-color: hsl(120, 75%, 93%); opacity:1.0;                     line-height:1.75\"><font color=\"black\"> about                    </font></mark><mark style=\"background-color: hsl(0, 75%, 90%); opacity:1.0;                     line-height:1.75\"><font color=\"black\"> the                    </font></mark><mark style=\"background-color: hsl(120, 75%, 98%); opacity:1.0;                     line-height:1.75\"><font color=\"black\"> best                    </font></mark><mark style=\"background-color: hsl(0, 75%, 95%); opacity:1.0;                     line-height:1.75\"><font color=\"black\"> thing                    </font></mark><mark style=\"background-color: hsl(120, 75%, 90%); opacity:1.0;                     line-height:1.75\"><font color=\"black\"> you                    </font></mark><mark style=\"background-color: hsl(0, 75%, 100%); opacity:1.0;                     line-height:1.75\"><font color=\"black\"> could                    </font></mark><mark style=\"background-color: hsl(0, 75%, 87%); opacity:1.0;                     line-height:1.75\"><font color=\"black\"> say                    </font></mark><mark style=\"background-color: hsl(0, 75%, 95%); opacity:1.0;                     line-height:1.75\"><font color=\"black\"> about                    </font></mark><mark style=\"background-color: hsl(0, 75%, 92%); opacity:1.0;                     line-height:1.75\"><font color=\"black\"> narc                    </font></mark><mark style=\"background-color: hsl(0, 75%, 97%); opacity:1.0;                     line-height:1.75\"><font color=\"black\"> is                    </font></mark><mark style=\"background-color: hsl(0, 75%, 99%); opacity:1.0;                     line-height:1.75\"><font color=\"black\"> that                    </font></mark><mark style=\"background-color: hsl(120, 75%, 100%); opacity:1.0;                     line-height:1.75\"><font color=\"black\"> it                    </font></mark><mark style=\"background-color: hsl(0, 75%, 98%); opacity:1.0;                     line-height:1.75\"><font color=\"black\"> 's                    </font></mark><mark style=\"background-color: hsl(120, 75%, 99%); opacity:1.0;                     line-height:1.75\"><font color=\"black\"> a                    </font></mark><mark style=\"background-color: hsl(120, 75%, 95%); opacity:1.0;                     line-height:1.75\"><font color=\"black\"> rock-solid                    </font></mark><mark style=\"background-color: hsl(120, 75%, 89%); opacity:1.0;                     line-height:1.75\"><font color=\"black\"> little                    </font></mark><mark style=\"background-color: hsl(120, 75%, 90%); opacity:1.0;                     line-height:1.75\"><font color=\"black\"> genre                    </font></mark><mark style=\"background-color: hsl(120, 75%, 86%); opacity:1.0;                     line-height:1.75\"><font color=\"black\"> picture                    </font></mark><mark style=\"background-color: hsl(120, 75%, 94%); opacity:1.0;                     line-height:1.75\"><font color=\"black\"> .                    </font></mark><mark style=\"background-color: hsl(120, 75%, 97%); opacity:1.0;                     line-height:1.75\"><font color=\"black\"> [SEP]                    </font></mark></td><tr></table>"
      ],
      "text/plain": [
       "<IPython.core.display.HTML object>"
      ]
     },
     "metadata": {},
     "output_type": "display_data"
    },
    {
     "name": "stdout",
     "output_type": "stream",
     "text": [
      "<IPython.core.display.HTML object>\n",
      "Raw review: the very best \n",
      "GT target: 1\n",
      "deotk ['[CLS]', 'the', 'very', 'best', '[SEP]']\n"
     ]
    },
    {
     "name": "stderr",
     "output_type": "stream",
     "text": [
      "Lime attribution: 100%|████████████████████████████████████████████████████████████████████████████████████████████████████████| 25/25 [00:01<00:00, 13.11it/s]\n"
     ]
    },
    {
     "name": "stdout",
     "output_type": "stream",
     "text": [
      "word attr tensor([-0.4728,  0.2003,  0.1377,  0.0597, -0.8448], device='cuda:0')\n",
      "conti attr [tensor(-0.4728, device='cuda:0'), tensor(0.2003, device='cuda:0'), tensor(0.1377, device='cuda:0'), tensor(0.0597, device='cuda:0'), tensor(-0.8448, device='cuda:0')]\n",
      "detokenized ['[CLS]', 'the', 'very', 'best', '[SEP]']\n",
      "len conti_raw 5\n",
      "conti_raw ['[CLS]', 'the', 'very', 'best', '[SEP]']\n",
      "word attri tensor([-0.4728,  0.2003,  0.1377,  0.0597, -0.8448], device='cuda:0')\n",
      "conti attri tensor([-0.4728,  0.2003,  0.1377,  0.0597, -0.8448])\n"
     ]
    },
    {
     "data": {
      "text/html": [
       "<table width: 100%><div style=\"border-top: 1px solid; margin-top: 5px;             padding-top: 5px; display: inline-block\"><b>Legend: </b><span style=\"display: inline-block; width: 10px; height: 10px;                 border: 1px solid; background-color:                 hsl(0, 75%, 60%)\"></span> Negative  <span style=\"display: inline-block; width: 10px; height: 10px;                 border: 1px solid; background-color:                 hsl(0, 75%, 100%)\"></span> Neutral  <span style=\"display: inline-block; width: 10px; height: 10px;                 border: 1px solid; background-color:                 hsl(120, 75%, 50%)\"></span> Positive  </div><tr><th>True Label</th><th>Predicted Label</th><th>Attribution Label</th><th>Attribution Score</th><th>Word Importance</th><tr><td><text style=\"padding-right:2em\"><b>Pos</b></text></td><td><text style=\"padding-right:2em\"><b>Pos (0.97)</b></text></td><td><text style=\"padding-right:2em\"><b>Neg</b></text></td><td><text style=\"padding-right:2em\"><b>-0.92</b></text></td><td><mark style=\"background-color: hsl(0, 75%, 82%); opacity:1.0;                     line-height:1.75\"><font color=\"black\"> [CLS]                    </font></mark><mark style=\"background-color: hsl(120, 75%, 90%); opacity:1.0;                     line-height:1.75\"><font color=\"black\"> the                    </font></mark><mark style=\"background-color: hsl(120, 75%, 94%); opacity:1.0;                     line-height:1.75\"><font color=\"black\"> very                    </font></mark><mark style=\"background-color: hsl(120, 75%, 98%); opacity:1.0;                     line-height:1.75\"><font color=\"black\"> best                    </font></mark><mark style=\"background-color: hsl(0, 75%, 67%); opacity:1.0;                     line-height:1.75\"><font color=\"black\"> [SEP]                    </font></mark></td><tr></table>"
      ],
      "text/plain": [
       "<IPython.core.display.HTML object>"
      ]
     },
     "metadata": {},
     "output_type": "display_data"
    },
    {
     "name": "stderr",
     "output_type": "stream",
     "text": [
      "/home/user/anaconda3/envs/metric/lib/python3.9/site-packages/captum/attr/_core/lime.py:1096: UserWarning: Attempting to construct interpretable model with > 10000 features.This can be very slow or lead to OOM issues. Please provide a featuremask which groups input features to reduce the number of interpretablefeatures. \n",
      "  warnings.warn(\n"
     ]
    },
    {
     "name": "stdout",
     "output_type": "stream",
     "text": [
      "<IPython.core.display.HTML object>\n",
      "Raw review: been modeled on the worst revenge-of-the-nerds clichés the filmmakers could dredge up \n",
      "GT target: 0\n",
      "deotk ['[CLS]', 'been', 'modeled', 'on', 'the', 'worst', 'revenge', '-', 'of', '-', 'the', '-', 'ne', 'rds', 'cl', 'iche', 's', 'the', 'filmmakers', 'could', 'dr', 'edge', 'up', '[SEP]']\n"
     ]
    },
    {
     "name": "stderr",
     "output_type": "stream",
     "text": [
      "Lime attribution: 100%|████████████████████████████████████████████████████████████████████████████████████████████████████████| 25/25 [00:03<00:00,  8.24it/s]\n"
     ]
    },
    {
     "name": "stdout",
     "output_type": "stream",
     "text": [
      "word attr tensor([ 0.7035, -0.0315, -0.2268, -0.1170,  0.0156, -0.3402, -0.1311,  0.0646,\n",
      "        -0.0961, -0.0916, -0.1563, -0.1881,  0.0205, -0.0443,  0.0526, -0.2134,\n",
      "        -0.1306, -0.0984,  0.1190,  0.0096,  0.1502,  0.1407, -0.1699, -0.2475],\n",
      "       device='cuda:0')\n",
      "conti attr [tensor(0.7035, device='cuda:0'), tensor(-0.0315, device='cuda:0'), tensor(-0.2268, device='cuda:0'), tensor(-0.1170, device='cuda:0'), tensor(0.0156, device='cuda:0'), tensor(-0.3402, device='cuda:0'), tensor(-0.0552, device='cuda:0'), tensor(-0.1055, device='cuda:0'), tensor(-0.0984, device='cuda:0'), tensor(0.1190, device='cuda:0'), tensor(0.0096, device='cuda:0'), tensor(0.1455, device='cuda:0'), tensor(-0.1699, device='cuda:0'), tensor(-0.2475, device='cuda:0')]\n",
      "detokenized ['[CLS]', 'been', 'modeled', 'on', 'the', 'worst', 'revenge', '-', 'of', '-', 'the', '-', 'ne', 'rds', 'cl', 'iche', 's', 'the', 'filmmakers', 'could', 'dr', 'edge', 'up', '[SEP]']\n",
      "len conti_raw 14\n",
      "conti_raw ['[CLS]', 'been', 'modeled', 'on', 'the', 'worst', 'revenge-of-the-nerds', 'cliches', 'the', 'filmmakers', 'could', 'dredge', 'up', '[SEP]']\n",
      "word attri tensor([ 0.7035, -0.0315, -0.2268, -0.1170,  0.0156, -0.3402, -0.1311,  0.0646,\n",
      "        -0.0961, -0.0916, -0.1563, -0.1881,  0.0205, -0.0443,  0.0526, -0.2134,\n",
      "        -0.1306, -0.0984,  0.1190,  0.0096,  0.1502,  0.1407, -0.1699, -0.2475],\n",
      "       device='cuda:0')\n",
      "conti attri tensor([ 0.7035, -0.0315, -0.2268, -0.1170,  0.0156, -0.3402, -0.0552, -0.1055,\n",
      "        -0.0984,  0.1190,  0.0096,  0.1455, -0.1699, -0.2475])\n"
     ]
    },
    {
     "data": {
      "text/html": [
       "<table width: 100%><div style=\"border-top: 1px solid; margin-top: 5px;             padding-top: 5px; display: inline-block\"><b>Legend: </b><span style=\"display: inline-block; width: 10px; height: 10px;                 border: 1px solid; background-color:                 hsl(0, 75%, 60%)\"></span> Negative  <span style=\"display: inline-block; width: 10px; height: 10px;                 border: 1px solid; background-color:                 hsl(0, 75%, 100%)\"></span> Neutral  <span style=\"display: inline-block; width: 10px; height: 10px;                 border: 1px solid; background-color:                 hsl(120, 75%, 50%)\"></span> Positive  </div><tr><th>True Label</th><th>Predicted Label</th><th>Attribution Label</th><th>Attribution Score</th><th>Word Importance</th><tr><td><text style=\"padding-right:2em\"><b>Neg</b></text></td><td><text style=\"padding-right:2em\"><b>Neg (0.03)</b></text></td><td><text style=\"padding-right:2em\"><b>Neg</b></text></td><td><text style=\"padding-right:2em\"><b>-1.01</b></text></td><td><mark style=\"background-color: hsl(120, 75%, 65%); opacity:1.0;                     line-height:1.75\"><font color=\"black\"> [CLS]                    </font></mark><mark style=\"background-color: hsl(0, 75%, 99%); opacity:1.0;                     line-height:1.75\"><font color=\"black\"> been                    </font></mark><mark style=\"background-color: hsl(0, 75%, 91%); opacity:1.0;                     line-height:1.75\"><font color=\"black\"> modeled                    </font></mark><mark style=\"background-color: hsl(0, 75%, 96%); opacity:1.0;                     line-height:1.75\"><font color=\"black\"> on                    </font></mark><mark style=\"background-color: hsl(120, 75%, 100%); opacity:1.0;                     line-height:1.75\"><font color=\"black\"> the                    </font></mark><mark style=\"background-color: hsl(0, 75%, 87%); opacity:1.0;                     line-height:1.75\"><font color=\"black\"> worst                    </font></mark><mark style=\"background-color: hsl(0, 75%, 98%); opacity:1.0;                     line-height:1.75\"><font color=\"black\"> revenge-of-the-nerds                    </font></mark><mark style=\"background-color: hsl(0, 75%, 96%); opacity:1.0;                     line-height:1.75\"><font color=\"black\"> cliches                    </font></mark><mark style=\"background-color: hsl(0, 75%, 97%); opacity:1.0;                     line-height:1.75\"><font color=\"black\"> the                    </font></mark><mark style=\"background-color: hsl(120, 75%, 95%); opacity:1.0;                     line-height:1.75\"><font color=\"black\"> filmmakers                    </font></mark><mark style=\"background-color: hsl(120, 75%, 100%); opacity:1.0;                     line-height:1.75\"><font color=\"black\"> could                    </font></mark><mark style=\"background-color: hsl(120, 75%, 93%); opacity:1.0;                     line-height:1.75\"><font color=\"black\"> dredge                    </font></mark><mark style=\"background-color: hsl(0, 75%, 94%); opacity:1.0;                     line-height:1.75\"><font color=\"black\"> up                    </font></mark><mark style=\"background-color: hsl(0, 75%, 91%); opacity:1.0;                     line-height:1.75\"><font color=\"black\"> [SEP]                    </font></mark></td><tr></table>"
      ],
      "text/plain": [
       "<IPython.core.display.HTML object>"
      ]
     },
     "metadata": {},
     "output_type": "display_data"
    },
    {
     "name": "stdout",
     "output_type": "stream",
     "text": [
      "<IPython.core.display.HTML object>\n",
      "Raw review: tell you \n",
      "GT target: 1\n",
      "deotk ['[CLS]', 'tell', 'you', '[SEP]']\n"
     ]
    },
    {
     "name": "stderr",
     "output_type": "stream",
     "text": [
      "Lime attribution: 100%|████████████████████████████████████████████████████████████████████████████████████████████████████████| 25/25 [00:01<00:00, 13.77it/s]\n"
     ]
    },
    {
     "name": "stdout",
     "output_type": "stream",
     "text": [
      "word attr tensor([-0.1761,  0.4396,  0.7555, -0.4527], device='cuda:0')\n",
      "conti attr [tensor(-0.1761, device='cuda:0'), tensor(0.4396, device='cuda:0'), tensor(0.7555, device='cuda:0'), tensor(-0.4527, device='cuda:0')]\n",
      "detokenized ['[CLS]', 'tell', 'you', '[SEP]']\n",
      "len conti_raw 4\n",
      "conti_raw ['[CLS]', 'tell', 'you', '[SEP]']\n",
      "word attri tensor([-0.1761,  0.4396,  0.7555, -0.4527], device='cuda:0')\n",
      "conti attri tensor([-0.1761,  0.4396,  0.7555, -0.4527])\n"
     ]
    },
    {
     "data": {
      "text/html": [
       "<table width: 100%><div style=\"border-top: 1px solid; margin-top: 5px;             padding-top: 5px; display: inline-block\"><b>Legend: </b><span style=\"display: inline-block; width: 10px; height: 10px;                 border: 1px solid; background-color:                 hsl(0, 75%, 60%)\"></span> Negative  <span style=\"display: inline-block; width: 10px; height: 10px;                 border: 1px solid; background-color:                 hsl(0, 75%, 100%)\"></span> Neutral  <span style=\"display: inline-block; width: 10px; height: 10px;                 border: 1px solid; background-color:                 hsl(120, 75%, 50%)\"></span> Positive  </div><tr><th>True Label</th><th>Predicted Label</th><th>Attribution Label</th><th>Attribution Score</th><th>Word Importance</th><tr><td><text style=\"padding-right:2em\"><b>Pos</b></text></td><td><text style=\"padding-right:2em\"><b>Pos (0.90)</b></text></td><td><text style=\"padding-right:2em\"><b>Pos</b></text></td><td><text style=\"padding-right:2em\"><b>0.57</b></text></td><td><mark style=\"background-color: hsl(0, 75%, 93%); opacity:1.0;                     line-height:1.75\"><font color=\"black\"> [CLS]                    </font></mark><mark style=\"background-color: hsl(120, 75%, 79%); opacity:1.0;                     line-height:1.75\"><font color=\"black\"> tell                    </font></mark><mark style=\"background-color: hsl(120, 75%, 63%); opacity:1.0;                     line-height:1.75\"><font color=\"black\"> you                    </font></mark><mark style=\"background-color: hsl(0, 75%, 82%); opacity:1.0;                     line-height:1.75\"><font color=\"black\"> [SEP]                    </font></mark></td><tr></table>"
      ],
      "text/plain": [
       "<IPython.core.display.HTML object>"
      ]
     },
     "metadata": {},
     "output_type": "display_data"
    },
    {
     "name": "stdout",
     "output_type": "stream",
     "text": [
      "<IPython.core.display.HTML object>\n",
      "Raw review: utterly absorbing \n",
      "GT target: 1\n",
      "deotk ['[CLS]', 'utterly', 'absorbing', '[SEP]']\n"
     ]
    },
    {
     "name": "stderr",
     "output_type": "stream",
     "text": [
      "Lime attribution: 100%|████████████████████████████████████████████████████████████████████████████████████████████████████████| 25/25 [00:01<00:00, 13.74it/s]\n"
     ]
    },
    {
     "name": "stdout",
     "output_type": "stream",
     "text": [
      "word attr tensor([ 0.7115, -0.3467,  0.2652,  0.5506], device='cuda:0')\n",
      "conti attr [tensor(0.7115, device='cuda:0'), tensor(-0.3467, device='cuda:0'), tensor(0.2652, device='cuda:0'), tensor(0.5506, device='cuda:0')]\n",
      "detokenized ['[CLS]', 'utterly', 'absorbing', '[SEP]']\n",
      "len conti_raw 4\n",
      "conti_raw ['[CLS]', 'utterly', 'absorbing', '[SEP]']\n",
      "word attri tensor([ 0.7115, -0.3467,  0.2652,  0.5506], device='cuda:0')\n",
      "conti attri tensor([ 0.7115, -0.3467,  0.2652,  0.5506])\n"
     ]
    },
    {
     "data": {
      "text/html": [
       "<table width: 100%><div style=\"border-top: 1px solid; margin-top: 5px;             padding-top: 5px; display: inline-block\"><b>Legend: </b><span style=\"display: inline-block; width: 10px; height: 10px;                 border: 1px solid; background-color:                 hsl(0, 75%, 60%)\"></span> Negative  <span style=\"display: inline-block; width: 10px; height: 10px;                 border: 1px solid; background-color:                 hsl(0, 75%, 100%)\"></span> Neutral  <span style=\"display: inline-block; width: 10px; height: 10px;                 border: 1px solid; background-color:                 hsl(120, 75%, 50%)\"></span> Positive  </div><tr><th>True Label</th><th>Predicted Label</th><th>Attribution Label</th><th>Attribution Score</th><th>Word Importance</th><tr><td><text style=\"padding-right:2em\"><b>Pos</b></text></td><td><text style=\"padding-right:2em\"><b>Pos (0.97)</b></text></td><td><text style=\"padding-right:2em\"><b>Pos</b></text></td><td><text style=\"padding-right:2em\"><b>1.18</b></text></td><td><mark style=\"background-color: hsl(120, 75%, 65%); opacity:1.0;                     line-height:1.75\"><font color=\"black\"> [CLS]                    </font></mark><mark style=\"background-color: hsl(0, 75%, 87%); opacity:1.0;                     line-height:1.75\"><font color=\"black\"> utterly                    </font></mark><mark style=\"background-color: hsl(120, 75%, 87%); opacity:1.0;                     line-height:1.75\"><font color=\"black\"> absorbing                    </font></mark><mark style=\"background-color: hsl(120, 75%, 73%); opacity:1.0;                     line-height:1.75\"><font color=\"black\"> [SEP]                    </font></mark></td><tr></table>"
      ],
      "text/plain": [
       "<IPython.core.display.HTML object>"
      ]
     },
     "metadata": {},
     "output_type": "display_data"
    },
    {
     "name": "stdout",
     "output_type": "stream",
     "text": [
      "<IPython.core.display.HTML object>\n",
      "Raw review: restate \n",
      "GT target: 0\n",
      "deotk ['[CLS]', 'rest', 'ate', '[SEP]']\n"
     ]
    },
    {
     "name": "stderr",
     "output_type": "stream",
     "text": [
      "Lime attribution: 100%|████████████████████████████████████████████████████████████████████████████████████████████████████████| 25/25 [00:01<00:00, 13.61it/s]\n"
     ]
    },
    {
     "name": "stdout",
     "output_type": "stream",
     "text": [
      "word attr tensor([ 0.5940, -0.7403,  0.2337, -0.2111], device='cuda:0')\n",
      "conti attr [tensor(0.5940, device='cuda:0'), tensor(-0.2533, device='cuda:0'), tensor(-0.2111, device='cuda:0')]\n",
      "detokenized ['[CLS]', 'rest', 'ate', '[SEP]']\n",
      "len conti_raw 3\n",
      "conti_raw ['[CLS]', 'restate', '[SEP]']\n",
      "word attri tensor([ 0.5940, -0.7403,  0.2337, -0.2111], device='cuda:0')\n",
      "conti attri tensor([ 0.5940, -0.2533, -0.2111])\n"
     ]
    },
    {
     "data": {
      "text/html": [
       "<table width: 100%><div style=\"border-top: 1px solid; margin-top: 5px;             padding-top: 5px; display: inline-block\"><b>Legend: </b><span style=\"display: inline-block; width: 10px; height: 10px;                 border: 1px solid; background-color:                 hsl(0, 75%, 60%)\"></span> Negative  <span style=\"display: inline-block; width: 10px; height: 10px;                 border: 1px solid; background-color:                 hsl(0, 75%, 100%)\"></span> Neutral  <span style=\"display: inline-block; width: 10px; height: 10px;                 border: 1px solid; background-color:                 hsl(120, 75%, 50%)\"></span> Positive  </div><tr><th>True Label</th><th>Predicted Label</th><th>Attribution Label</th><th>Attribution Score</th><th>Word Importance</th><tr><td><text style=\"padding-right:2em\"><b>Neg</b></text></td><td><text style=\"padding-right:2em\"><b>Pos (0.55)</b></text></td><td><text style=\"padding-right:2em\"><b>Neg</b></text></td><td><text style=\"padding-right:2em\"><b>-0.12</b></text></td><td><mark style=\"background-color: hsl(120, 75%, 71%); opacity:1.0;                     line-height:1.75\"><font color=\"black\"> [CLS]                    </font></mark><mark style=\"background-color: hsl(0, 75%, 90%); opacity:1.0;                     line-height:1.75\"><font color=\"black\"> restate                    </font></mark><mark style=\"background-color: hsl(0, 75%, 92%); opacity:1.0;                     line-height:1.75\"><font color=\"black\"> [SEP]                    </font></mark></td><tr></table>"
      ],
      "text/plain": [
       "<IPython.core.display.HTML object>"
      ]
     },
     "metadata": {},
     "output_type": "display_data"
    },
    {
     "name": "stderr",
     "output_type": "stream",
     "text": [
      "/home/user/anaconda3/envs/metric/lib/python3.9/site-packages/captum/attr/_core/lime.py:1096: UserWarning: Attempting to construct interpretable model with > 10000 features.This can be very slow or lead to OOM issues. Please provide a featuremask which groups input features to reduce the number of interpretablefeatures. \n",
      "  warnings.warn(\n"
     ]
    },
    {
     "name": "stdout",
     "output_type": "stream",
     "text": [
      "<IPython.core.display.HTML object>\n",
      "Raw review: bears about as much resemblance to the experiences of most battered women as spider-man \n",
      "GT target: 0\n",
      "deotk ['[CLS]', 'bears', 'about', 'as', 'much', 'resemblance', 'to', 'the', 'experiences', 'of', 'most', 'battered', 'women', 'as', 'spider', '-', 'man', '[SEP]']\n"
     ]
    },
    {
     "name": "stderr",
     "output_type": "stream",
     "text": [
      "Lime attribution: 100%|████████████████████████████████████████████████████████████████████████████████████████████████████████| 25/25 [00:02<00:00,  8.57it/s]\n",
      "/home/user/anaconda3/envs/metric/lib/python3.9/site-packages/sklearn/linear_model/_coordinate_descent.py:647: ConvergenceWarning: Objective did not converge. You might want to increase the number of iterations, check the scale of the features or consider increasing regularisation. Duality gap: 5.369e-02, tolerance: 1.217e-02\n",
      "  model = cd_fast.enet_coordinate_descent(\n"
     ]
    },
    {
     "name": "stdout",
     "output_type": "stream",
     "text": [
      "word attr tensor([ 0.3683, -0.0718, -0.0754,  0.1784, -0.3800,  0.2583, -0.0867,  0.0681,\n",
      "         0.4740,  0.0861, -0.1470, -0.4064, -0.0814, -0.1129,  0.1475,  0.0997,\n",
      "        -0.0961, -0.3452], device='cuda:0')\n",
      "conti attr [tensor(0.3683, device='cuda:0'), tensor(-0.0718, device='cuda:0'), tensor(-0.0754, device='cuda:0'), tensor(0.1784, device='cuda:0'), tensor(-0.3800, device='cuda:0'), tensor(0.2583, device='cuda:0'), tensor(-0.0867, device='cuda:0'), tensor(0.0681, device='cuda:0'), tensor(0.4740, device='cuda:0'), tensor(0.0861, device='cuda:0'), tensor(-0.1470, device='cuda:0'), tensor(-0.4064, device='cuda:0'), tensor(-0.0814, device='cuda:0'), tensor(-0.1129, device='cuda:0'), tensor(0.0137, device='cuda:0'), tensor(-0.3452, device='cuda:0')]\n",
      "detokenized ['[CLS]', 'bears', 'about', 'as', 'much', 'resemblance', 'to', 'the', 'experiences', 'of', 'most', 'battered', 'women', 'as', 'spider', '-', 'man', '[SEP]']\n",
      "len conti_raw 16\n",
      "conti_raw ['[CLS]', 'bears', 'about', 'as', 'much', 'resemblance', 'to', 'the', 'experiences', 'of', 'most', 'battered', 'women', 'as', 'spider-man', '[SEP]']\n",
      "word attri tensor([ 0.3683, -0.0718, -0.0754,  0.1784, -0.3800,  0.2583, -0.0867,  0.0681,\n",
      "         0.4740,  0.0861, -0.1470, -0.4064, -0.0814, -0.1129,  0.1475,  0.0997,\n",
      "        -0.0961, -0.3452], device='cuda:0')\n",
      "conti attri tensor([ 0.3683, -0.0718, -0.0754,  0.1784, -0.3800,  0.2583, -0.0867,  0.0681,\n",
      "         0.4740,  0.0861, -0.1470, -0.4064, -0.0814, -0.1129,  0.0137, -0.3452])\n"
     ]
    },
    {
     "data": {
      "text/html": [
       "<table width: 100%><div style=\"border-top: 1px solid; margin-top: 5px;             padding-top: 5px; display: inline-block\"><b>Legend: </b><span style=\"display: inline-block; width: 10px; height: 10px;                 border: 1px solid; background-color:                 hsl(0, 75%, 60%)\"></span> Negative  <span style=\"display: inline-block; width: 10px; height: 10px;                 border: 1px solid; background-color:                 hsl(0, 75%, 100%)\"></span> Neutral  <span style=\"display: inline-block; width: 10px; height: 10px;                 border: 1px solid; background-color:                 hsl(120, 75%, 50%)\"></span> Positive  </div><tr><th>True Label</th><th>Predicted Label</th><th>Attribution Label</th><th>Attribution Score</th><th>Word Importance</th><tr><td><text style=\"padding-right:2em\"><b>Neg</b></text></td><td><text style=\"padding-right:2em\"><b>Pos (0.71)</b></text></td><td><text style=\"padding-right:2em\"><b>Neg</b></text></td><td><text style=\"padding-right:2em\"><b>-0.12</b></text></td><td><mark style=\"background-color: hsl(120, 75%, 82%); opacity:1.0;                     line-height:1.75\"><font color=\"black\"> [CLS]                    </font></mark><mark style=\"background-color: hsl(0, 75%, 98%); opacity:1.0;                     line-height:1.75\"><font color=\"black\"> bears                    </font></mark><mark style=\"background-color: hsl(0, 75%, 97%); opacity:1.0;                     line-height:1.75\"><font color=\"black\"> about                    </font></mark><mark style=\"background-color: hsl(120, 75%, 92%); opacity:1.0;                     line-height:1.75\"><font color=\"black\"> as                    </font></mark><mark style=\"background-color: hsl(0, 75%, 85%); opacity:1.0;                     line-height:1.75\"><font color=\"black\"> much                    </font></mark><mark style=\"background-color: hsl(120, 75%, 88%); opacity:1.0;                     line-height:1.75\"><font color=\"black\"> resemblance                    </font></mark><mark style=\"background-color: hsl(0, 75%, 97%); opacity:1.0;                     line-height:1.75\"><font color=\"black\"> to                    </font></mark><mark style=\"background-color: hsl(120, 75%, 97%); opacity:1.0;                     line-height:1.75\"><font color=\"black\"> the                    </font></mark><mark style=\"background-color: hsl(120, 75%, 77%); opacity:1.0;                     line-height:1.75\"><font color=\"black\"> experiences                    </font></mark><mark style=\"background-color: hsl(120, 75%, 96%); opacity:1.0;                     line-height:1.75\"><font color=\"black\"> of                    </font></mark><mark style=\"background-color: hsl(0, 75%, 95%); opacity:1.0;                     line-height:1.75\"><font color=\"black\"> most                    </font></mark><mark style=\"background-color: hsl(0, 75%, 84%); opacity:1.0;                     line-height:1.75\"><font color=\"black\"> battered                    </font></mark><mark style=\"background-color: hsl(0, 75%, 97%); opacity:1.0;                     line-height:1.75\"><font color=\"black\"> women                    </font></mark><mark style=\"background-color: hsl(0, 75%, 96%); opacity:1.0;                     line-height:1.75\"><font color=\"black\"> as                    </font></mark><mark style=\"background-color: hsl(120, 75%, 100%); opacity:1.0;                     line-height:1.75\"><font color=\"black\"> spider-man                    </font></mark><mark style=\"background-color: hsl(0, 75%, 87%); opacity:1.0;                     line-height:1.75\"><font color=\"black\"> [SEP]                    </font></mark></td><tr></table>"
      ],
      "text/plain": [
       "<IPython.core.display.HTML object>"
      ]
     },
     "metadata": {},
     "output_type": "display_data"
    },
    {
     "name": "stdout",
     "output_type": "stream",
     "text": [
      "<IPython.core.display.HTML object>\n",
      "Raw review: expressively performed \n",
      "GT target: 1\n",
      "deotk ['[CLS]', 'expressive', 'ly', 'performed', '[SEP]']\n"
     ]
    },
    {
     "name": "stderr",
     "output_type": "stream",
     "text": [
      "Lime attribution: 100%|████████████████████████████████████████████████████████████████████████████████████████████████████████| 25/25 [00:01<00:00, 13.43it/s]\n"
     ]
    },
    {
     "name": "stdout",
     "output_type": "stream",
     "text": [
      "word attr tensor([ 0.3364, -0.5568, -0.5727,  0.4619, -0.1884], device='cuda:0')\n",
      "conti attr [tensor(0.3364, device='cuda:0'), tensor(-0.5647, device='cuda:0'), tensor(0.4619, device='cuda:0'), tensor(-0.1884, device='cuda:0')]\n",
      "detokenized ['[CLS]', 'expressive', 'ly', 'performed', '[SEP]']\n",
      "len conti_raw 4\n",
      "conti_raw ['[CLS]', 'expressively', 'performed', '[SEP]']\n",
      "word attri tensor([ 0.3364, -0.5568, -0.5727,  0.4619, -0.1884], device='cuda:0')\n",
      "conti attri tensor([ 0.3364, -0.5647,  0.4619, -0.1884])\n"
     ]
    },
    {
     "data": {
      "text/html": [
       "<table width: 100%><div style=\"border-top: 1px solid; margin-top: 5px;             padding-top: 5px; display: inline-block\"><b>Legend: </b><span style=\"display: inline-block; width: 10px; height: 10px;                 border: 1px solid; background-color:                 hsl(0, 75%, 60%)\"></span> Negative  <span style=\"display: inline-block; width: 10px; height: 10px;                 border: 1px solid; background-color:                 hsl(0, 75%, 100%)\"></span> Neutral  <span style=\"display: inline-block; width: 10px; height: 10px;                 border: 1px solid; background-color:                 hsl(120, 75%, 50%)\"></span> Positive  </div><tr><th>True Label</th><th>Predicted Label</th><th>Attribution Label</th><th>Attribution Score</th><th>Word Importance</th><tr><td><text style=\"padding-right:2em\"><b>Pos</b></text></td><td><text style=\"padding-right:2em\"><b>Pos (0.98)</b></text></td><td><text style=\"padding-right:2em\"><b>Neg</b></text></td><td><text style=\"padding-right:2em\"><b>-0.52</b></text></td><td><mark style=\"background-color: hsl(120, 75%, 84%); opacity:1.0;                     line-height:1.75\"><font color=\"black\"> [CLS]                    </font></mark><mark style=\"background-color: hsl(0, 75%, 78%); opacity:1.0;                     line-height:1.75\"><font color=\"black\"> expressively                    </font></mark><mark style=\"background-color: hsl(120, 75%, 77%); opacity:1.0;                     line-height:1.75\"><font color=\"black\"> performed                    </font></mark><mark style=\"background-color: hsl(0, 75%, 93%); opacity:1.0;                     line-height:1.75\"><font color=\"black\"> [SEP]                    </font></mark></td><tr></table>"
      ],
      "text/plain": [
       "<IPython.core.display.HTML object>"
      ]
     },
     "metadata": {},
     "output_type": "display_data"
    },
    {
     "name": "stderr",
     "output_type": "stream",
     "text": [
      "/home/user/anaconda3/envs/metric/lib/python3.9/site-packages/captum/attr/_core/lime.py:1096: UserWarning: Attempting to construct interpretable model with > 10000 features.This can be very slow or lead to OOM issues. Please provide a featuremask which groups input features to reduce the number of interpretablefeatures. \n",
      "  warnings.warn(\n"
     ]
    },
    {
     "name": "stdout",
     "output_type": "stream",
     "text": [
      "<IPython.core.display.HTML object>\n",
      "Raw review: the acting is amateurish , the cinematography is atrocious \n",
      "GT target: 0\n",
      "deotk ['[CLS]', 'the', 'acting', 'is', 'amateur', 'ish', ',', 'the', 'cinematography', 'is', 'at', 'ro', 'cious', '[SEP]']\n"
     ]
    },
    {
     "name": "stderr",
     "output_type": "stream",
     "text": [
      "Lime attribution: 100%|████████████████████████████████████████████████████████████████████████████████████████████████████████| 25/25 [00:02<00:00, 10.15it/s]\n",
      "/home/user/anaconda3/envs/metric/lib/python3.9/site-packages/sklearn/linear_model/_coordinate_descent.py:647: ConvergenceWarning: Objective did not converge. You might want to increase the number of iterations, check the scale of the features or consider increasing regularisation. Duality gap: 2.886e-01, tolerance: 6.781e-02\n",
      "  model = cd_fast.enet_coordinate_descent(\n"
     ]
    },
    {
     "name": "stdout",
     "output_type": "stream",
     "text": [
      "word attr tensor([ 0.1522, -0.3250, -0.2878,  0.2177,  0.2540, -0.5264,  0.1431, -0.1945,\n",
      "         0.0653,  0.2721, -0.4660, -0.1534,  0.1133, -0.0958], device='cuda:0')\n",
      "conti attr [tensor(0.1522, device='cuda:0'), tensor(-0.3250, device='cuda:0'), tensor(-0.2878, device='cuda:0'), tensor(0.2177, device='cuda:0'), tensor(-0.1362, device='cuda:0'), tensor(0.1431, device='cuda:0'), tensor(-0.1945, device='cuda:0'), tensor(0.0653, device='cuda:0'), tensor(0.2721, device='cuda:0'), tensor(-0.0982, device='cuda:0'), tensor(-0.0958, device='cuda:0')]\n",
      "detokenized ['[CLS]', 'the', 'acting', 'is', 'amateur', 'ish', ',', 'the', 'cinematography', 'is', 'at', 'ro', 'cious', '[SEP]']\n",
      "len conti_raw 11\n",
      "conti_raw ['[CLS]', 'the', 'acting', 'is', 'amateurish', ',', 'the', 'cinematography', 'is', 'atrocious', '[SEP]']\n",
      "word attri tensor([ 0.1522, -0.3250, -0.2878,  0.2177,  0.2540, -0.5264,  0.1431, -0.1945,\n",
      "         0.0653,  0.2721, -0.4660, -0.1534,  0.1133, -0.0958], device='cuda:0')\n",
      "conti attri tensor([ 0.1522, -0.3250, -0.2878,  0.2177, -0.1362,  0.1431, -0.1945,  0.0653,\n",
      "         0.2721, -0.0982, -0.0958])\n"
     ]
    },
    {
     "data": {
      "text/html": [
       "<table width: 100%><div style=\"border-top: 1px solid; margin-top: 5px;             padding-top: 5px; display: inline-block\"><b>Legend: </b><span style=\"display: inline-block; width: 10px; height: 10px;                 border: 1px solid; background-color:                 hsl(0, 75%, 60%)\"></span> Negative  <span style=\"display: inline-block; width: 10px; height: 10px;                 border: 1px solid; background-color:                 hsl(0, 75%, 100%)\"></span> Neutral  <span style=\"display: inline-block; width: 10px; height: 10px;                 border: 1px solid; background-color:                 hsl(120, 75%, 50%)\"></span> Positive  </div><tr><th>True Label</th><th>Predicted Label</th><th>Attribution Label</th><th>Attribution Score</th><th>Word Importance</th><tr><td><text style=\"padding-right:2em\"><b>Neg</b></text></td><td><text style=\"padding-right:2em\"><b>Neg (0.03)</b></text></td><td><text style=\"padding-right:2em\"><b>Neg</b></text></td><td><text style=\"padding-right:2em\"><b>-0.83</b></text></td><td><mark style=\"background-color: hsl(120, 75%, 93%); opacity:1.0;                     line-height:1.75\"><font color=\"black\"> [CLS]                    </font></mark><mark style=\"background-color: hsl(0, 75%, 88%); opacity:1.0;                     line-height:1.75\"><font color=\"black\"> the                    </font></mark><mark style=\"background-color: hsl(0, 75%, 89%); opacity:1.0;                     line-height:1.75\"><font color=\"black\"> acting                    </font></mark><mark style=\"background-color: hsl(120, 75%, 90%); opacity:1.0;                     line-height:1.75\"><font color=\"black\"> is                    </font></mark><mark style=\"background-color: hsl(0, 75%, 95%); opacity:1.0;                     line-height:1.75\"><font color=\"black\"> amateurish                    </font></mark><mark style=\"background-color: hsl(120, 75%, 93%); opacity:1.0;                     line-height:1.75\"><font color=\"black\"> ,                    </font></mark><mark style=\"background-color: hsl(0, 75%, 93%); opacity:1.0;                     line-height:1.75\"><font color=\"black\"> the                    </font></mark><mark style=\"background-color: hsl(120, 75%, 97%); opacity:1.0;                     line-height:1.75\"><font color=\"black\"> cinematography                    </font></mark><mark style=\"background-color: hsl(120, 75%, 87%); opacity:1.0;                     line-height:1.75\"><font color=\"black\"> is                    </font></mark><mark style=\"background-color: hsl(0, 75%, 97%); opacity:1.0;                     line-height:1.75\"><font color=\"black\"> atrocious                    </font></mark><mark style=\"background-color: hsl(0, 75%, 97%); opacity:1.0;                     line-height:1.75\"><font color=\"black\"> [SEP]                    </font></mark></td><tr></table>"
      ],
      "text/plain": [
       "<IPython.core.display.HTML object>"
      ]
     },
     "metadata": {},
     "output_type": "display_data"
    },
    {
     "name": "stdout",
     "output_type": "stream",
     "text": [
      "<IPython.core.display.HTML object>\n",
      "Raw review: solidly constructed \n",
      "GT target: 1\n",
      "deotk ['[CLS]', 'solid', 'ly', 'constructed', '[SEP]']\n"
     ]
    },
    {
     "name": "stderr",
     "output_type": "stream",
     "text": [
      "Lime attribution: 100%|████████████████████████████████████████████████████████████████████████████████████████████████████████| 25/25 [00:01<00:00, 12.78it/s]\n"
     ]
    },
    {
     "name": "stdout",
     "output_type": "stream",
     "text": [
      "word attr tensor([ 0.6462,  0.3059,  0.3460,  0.5840, -0.1677], device='cuda:0')\n",
      "conti attr [tensor(0.6462, device='cuda:0'), tensor(0.3260, device='cuda:0'), tensor(0.5840, device='cuda:0'), tensor(-0.1677, device='cuda:0')]\n",
      "detokenized ['[CLS]', 'solid', 'ly', 'constructed', '[SEP]']\n",
      "len conti_raw 4\n",
      "conti_raw ['[CLS]', 'solidly', 'constructed', '[SEP]']\n",
      "word attri tensor([ 0.6462,  0.3059,  0.3460,  0.5840, -0.1677], device='cuda:0')\n",
      "conti attri tensor([ 0.6462,  0.3260,  0.5840, -0.1677])\n"
     ]
    },
    {
     "data": {
      "text/html": [
       "<table width: 100%><div style=\"border-top: 1px solid; margin-top: 5px;             padding-top: 5px; display: inline-block\"><b>Legend: </b><span style=\"display: inline-block; width: 10px; height: 10px;                 border: 1px solid; background-color:                 hsl(0, 75%, 60%)\"></span> Negative  <span style=\"display: inline-block; width: 10px; height: 10px;                 border: 1px solid; background-color:                 hsl(0, 75%, 100%)\"></span> Neutral  <span style=\"display: inline-block; width: 10px; height: 10px;                 border: 1px solid; background-color:                 hsl(120, 75%, 50%)\"></span> Positive  </div><tr><th>True Label</th><th>Predicted Label</th><th>Attribution Label</th><th>Attribution Score</th><th>Word Importance</th><tr><td><text style=\"padding-right:2em\"><b>Pos</b></text></td><td><text style=\"padding-right:2em\"><b>Pos (0.97)</b></text></td><td><text style=\"padding-right:2em\"><b>Pos</b></text></td><td><text style=\"padding-right:2em\"><b>1.71</b></text></td><td><mark style=\"background-color: hsl(120, 75%, 68%); opacity:1.0;                     line-height:1.75\"><font color=\"black\"> [CLS]                    </font></mark><mark style=\"background-color: hsl(120, 75%, 84%); opacity:1.0;                     line-height:1.75\"><font color=\"black\"> solidly                    </font></mark><mark style=\"background-color: hsl(120, 75%, 71%); opacity:1.0;                     line-height:1.75\"><font color=\"black\"> constructed                    </font></mark><mark style=\"background-color: hsl(0, 75%, 94%); opacity:1.0;                     line-height:1.75\"><font color=\"black\"> [SEP]                    </font></mark></td><tr></table>"
      ],
      "text/plain": [
       "<IPython.core.display.HTML object>"
      ]
     },
     "metadata": {},
     "output_type": "display_data"
    },
    {
     "name": "stderr",
     "output_type": "stream",
     "text": [
      "/home/user/anaconda3/envs/metric/lib/python3.9/site-packages/captum/attr/_core/lime.py:1096: UserWarning: Attempting to construct interpretable model with > 10000 features.This can be very slow or lead to OOM issues. Please provide a featuremask which groups input features to reduce the number of interpretablefeatures. \n",
      "  warnings.warn(\n"
     ]
    },
    {
     "name": "stdout",
     "output_type": "stream",
     "text": [
      "<IPython.core.display.HTML object>\n",
      "Raw review: are undermined by the movie 's presentation , which is way too stagy \n",
      "GT target: 0\n",
      "deotk ['[CLS]', 'are', 'undermine', 'd', 'by', 'the', 'movie', \"'\", 's', 'presentation', ',', 'which', 'is', 'way', 'too', 'st', 'ag', 'y', '[SEP]']\n"
     ]
    },
    {
     "name": "stderr",
     "output_type": "stream",
     "text": [
      "Lime attribution: 100%|████████████████████████████████████████████████████████████████████████████████████████████████████████| 25/25 [00:02<00:00,  8.93it/s]\n"
     ]
    },
    {
     "name": "stdout",
     "output_type": "stream",
     "text": [
      "word attr tensor([-0.6018, -0.0508,  0.0316,  0.1555,  0.1569,  0.1894, -0.3689, -0.2169,\n",
      "        -0.3653,  0.2139, -0.0245,  0.1128,  0.0038, -0.1219, -0.1063, -0.2670,\n",
      "        -0.0198,  0.0103,  0.2757], device='cuda:0')\n",
      "conti attr [tensor(-0.6018, device='cuda:0'), tensor(-0.0508, device='cuda:0'), tensor(0.0935, device='cuda:0'), tensor(0.1569, device='cuda:0'), tensor(0.1894, device='cuda:0'), tensor(-0.3689, device='cuda:0'), tensor(-0.2911, device='cuda:0'), tensor(0.2139, device='cuda:0'), tensor(-0.0245, device='cuda:0'), tensor(0.1128, device='cuda:0'), tensor(0.0038, device='cuda:0'), tensor(-0.1219, device='cuda:0'), tensor(-0.1063, device='cuda:0'), tensor(-0.0666, device='cuda:0'), tensor(0.2757, device='cuda:0')]\n",
      "detokenized ['[CLS]', 'are', 'undermine', 'd', 'by', 'the', 'movie', \"'\", 's', 'presentation', ',', 'which', 'is', 'way', 'too', 'st', 'ag', 'y', '[SEP]']\n",
      "len conti_raw 15\n",
      "conti_raw ['[CLS]', 'are', 'undermined', 'by', 'the', 'movie', \"'s\", 'presentation', ',', 'which', 'is', 'way', 'too', 'stagy', '[SEP]']\n",
      "word attri tensor([-0.6018, -0.0508,  0.0316,  0.1555,  0.1569,  0.1894, -0.3689, -0.2169,\n",
      "        -0.3653,  0.2139, -0.0245,  0.1128,  0.0038, -0.1219, -0.1063, -0.2670,\n",
      "        -0.0198,  0.0103,  0.2757], device='cuda:0')\n",
      "conti attri tensor([-0.6018, -0.0508,  0.0935,  0.1569,  0.1894, -0.3689, -0.2911,  0.2139,\n",
      "        -0.0245,  0.1128,  0.0038, -0.1219, -0.1063, -0.0666,  0.2757])\n"
     ]
    },
    {
     "data": {
      "text/html": [
       "<table width: 100%><div style=\"border-top: 1px solid; margin-top: 5px;             padding-top: 5px; display: inline-block\"><b>Legend: </b><span style=\"display: inline-block; width: 10px; height: 10px;                 border: 1px solid; background-color:                 hsl(0, 75%, 60%)\"></span> Negative  <span style=\"display: inline-block; width: 10px; height: 10px;                 border: 1px solid; background-color:                 hsl(0, 75%, 100%)\"></span> Neutral  <span style=\"display: inline-block; width: 10px; height: 10px;                 border: 1px solid; background-color:                 hsl(120, 75%, 50%)\"></span> Positive  </div><tr><th>True Label</th><th>Predicted Label</th><th>Attribution Label</th><th>Attribution Score</th><th>Word Importance</th><tr><td><text style=\"padding-right:2em\"><b>Neg</b></text></td><td><text style=\"padding-right:2em\"><b>Neg (0.04)</b></text></td><td><text style=\"padding-right:2em\"><b>Neg</b></text></td><td><text style=\"padding-right:2em\"><b>-0.99</b></text></td><td><mark style=\"background-color: hsl(0, 75%, 76%); opacity:1.0;                     line-height:1.75\"><font color=\"black\"> [CLS]                    </font></mark><mark style=\"background-color: hsl(0, 75%, 98%); opacity:1.0;                     line-height:1.75\"><font color=\"black\"> are                    </font></mark><mark style=\"background-color: hsl(120, 75%, 96%); opacity:1.0;                     line-height:1.75\"><font color=\"black\"> undermined                    </font></mark><mark style=\"background-color: hsl(120, 75%, 93%); opacity:1.0;                     line-height:1.75\"><font color=\"black\"> by                    </font></mark><mark style=\"background-color: hsl(120, 75%, 91%); opacity:1.0;                     line-height:1.75\"><font color=\"black\"> the                    </font></mark><mark style=\"background-color: hsl(0, 75%, 86%); opacity:1.0;                     line-height:1.75\"><font color=\"black\"> movie                    </font></mark><mark style=\"background-color: hsl(0, 75%, 89%); opacity:1.0;                     line-height:1.75\"><font color=\"black\"> 's                    </font></mark><mark style=\"background-color: hsl(120, 75%, 90%); opacity:1.0;                     line-height:1.75\"><font color=\"black\"> presentation                    </font></mark><mark style=\"background-color: hsl(0, 75%, 100%); opacity:1.0;                     line-height:1.75\"><font color=\"black\"> ,                    </font></mark><mark style=\"background-color: hsl(120, 75%, 95%); opacity:1.0;                     line-height:1.75\"><font color=\"black\"> which                    </font></mark><mark style=\"background-color: hsl(120, 75%, 100%); opacity:1.0;                     line-height:1.75\"><font color=\"black\"> is                    </font></mark><mark style=\"background-color: hsl(0, 75%, 96%); opacity:1.0;                     line-height:1.75\"><font color=\"black\"> way                    </font></mark><mark style=\"background-color: hsl(0, 75%, 96%); opacity:1.0;                     line-height:1.75\"><font color=\"black\"> too                    </font></mark><mark style=\"background-color: hsl(0, 75%, 98%); opacity:1.0;                     line-height:1.75\"><font color=\"black\"> stagy                    </font></mark><mark style=\"background-color: hsl(120, 75%, 87%); opacity:1.0;                     line-height:1.75\"><font color=\"black\"> [SEP]                    </font></mark></td><tr></table>"
      ],
      "text/plain": [
       "<IPython.core.display.HTML object>"
      ]
     },
     "metadata": {},
     "output_type": "display_data"
    },
    {
     "name": "stdout",
     "output_type": "stream",
     "text": [
      "<IPython.core.display.HTML object>\n",
      "Raw review: a great film \n",
      "GT target: 1\n",
      "deotk ['[CLS]', 'a', 'great', 'film', '[SEP]']\n"
     ]
    },
    {
     "name": "stderr",
     "output_type": "stream",
     "text": [
      "Lime attribution: 100%|████████████████████████████████████████████████████████████████████████████████████████████████████████| 25/25 [00:01<00:00, 13.20it/s]\n"
     ]
    },
    {
     "name": "stdout",
     "output_type": "stream",
     "text": [
      "word attr tensor([-0.3573, -0.2122, -0.8126, -0.3987,  0.0899], device='cuda:0')\n",
      "conti attr [tensor(-0.3573, device='cuda:0'), tensor(-0.2122, device='cuda:0'), tensor(-0.8126, device='cuda:0'), tensor(-0.3987, device='cuda:0'), tensor(0.0899, device='cuda:0')]\n",
      "detokenized ['[CLS]', 'a', 'great', 'film', '[SEP]']\n",
      "len conti_raw 5\n",
      "conti_raw ['[CLS]', 'a', 'great', 'film', '[SEP]']\n",
      "word attri tensor([-0.3573, -0.2122, -0.8126, -0.3987,  0.0899], device='cuda:0')\n",
      "conti attri tensor([-0.3573, -0.2122, -0.8126, -0.3987,  0.0899])\n"
     ]
    },
    {
     "data": {
      "text/html": [
       "<table width: 100%><div style=\"border-top: 1px solid; margin-top: 5px;             padding-top: 5px; display: inline-block\"><b>Legend: </b><span style=\"display: inline-block; width: 10px; height: 10px;                 border: 1px solid; background-color:                 hsl(0, 75%, 60%)\"></span> Negative  <span style=\"display: inline-block; width: 10px; height: 10px;                 border: 1px solid; background-color:                 hsl(0, 75%, 100%)\"></span> Neutral  <span style=\"display: inline-block; width: 10px; height: 10px;                 border: 1px solid; background-color:                 hsl(120, 75%, 50%)\"></span> Positive  </div><tr><th>True Label</th><th>Predicted Label</th><th>Attribution Label</th><th>Attribution Score</th><th>Word Importance</th><tr><td><text style=\"padding-right:2em\"><b>Pos</b></text></td><td><text style=\"padding-right:2em\"><b>Pos (0.97)</b></text></td><td><text style=\"padding-right:2em\"><b>Neg</b></text></td><td><text style=\"padding-right:2em\"><b>-1.69</b></text></td><td><mark style=\"background-color: hsl(0, 75%, 86%); opacity:1.0;                     line-height:1.75\"><font color=\"black\"> [CLS]                    </font></mark><mark style=\"background-color: hsl(0, 75%, 92%); opacity:1.0;                     line-height:1.75\"><font color=\"black\"> a                    </font></mark><mark style=\"background-color: hsl(0, 75%, 68%); opacity:1.0;                     line-height:1.75\"><font color=\"black\"> great                    </font></mark><mark style=\"background-color: hsl(0, 75%, 85%); opacity:1.0;                     line-height:1.75\"><font color=\"black\"> film                    </font></mark><mark style=\"background-color: hsl(120, 75%, 96%); opacity:1.0;                     line-height:1.75\"><font color=\"black\"> [SEP]                    </font></mark></td><tr></table>"
      ],
      "text/plain": [
       "<IPython.core.display.HTML object>"
      ]
     },
     "metadata": {},
     "output_type": "display_data"
    },
    {
     "name": "stdout",
     "output_type": "stream",
     "text": [
      "<IPython.core.display.HTML object>\n",
      "Raw review: charm \n",
      "GT target: 1\n",
      "deotk ['[CLS]', 'charm', '[SEP]']\n"
     ]
    },
    {
     "name": "stderr",
     "output_type": "stream",
     "text": [
      "Lime attribution: 100%|████████████████████████████████████████████████████████████████████████████████████████████████████████| 25/25 [00:01<00:00, 13.95it/s]\n"
     ]
    },
    {
     "name": "stdout",
     "output_type": "stream",
     "text": [
      "word attr tensor([ 0.8941, -0.4452, -0.0491], device='cuda:0')\n",
      "conti attr [tensor(0.8941, device='cuda:0'), tensor(-0.4452, device='cuda:0'), tensor(-0.0491, device='cuda:0')]\n",
      "detokenized ['[CLS]', 'charm', '[SEP]']\n",
      "len conti_raw 3\n",
      "conti_raw ['[CLS]', 'charm', '[SEP]']\n",
      "word attri tensor([ 0.8941, -0.4452, -0.0491], device='cuda:0')\n",
      "conti attri tensor([ 0.8941, -0.4452, -0.0491])\n"
     ]
    },
    {
     "data": {
      "text/html": [
       "<table width: 100%><div style=\"border-top: 1px solid; margin-top: 5px;             padding-top: 5px; display: inline-block\"><b>Legend: </b><span style=\"display: inline-block; width: 10px; height: 10px;                 border: 1px solid; background-color:                 hsl(0, 75%, 60%)\"></span> Negative  <span style=\"display: inline-block; width: 10px; height: 10px;                 border: 1px solid; background-color:                 hsl(0, 75%, 100%)\"></span> Neutral  <span style=\"display: inline-block; width: 10px; height: 10px;                 border: 1px solid; background-color:                 hsl(120, 75%, 50%)\"></span> Positive  </div><tr><th>True Label</th><th>Predicted Label</th><th>Attribution Label</th><th>Attribution Score</th><th>Word Importance</th><tr><td><text style=\"padding-right:2em\"><b>Pos</b></text></td><td><text style=\"padding-right:2em\"><b>Pos (0.97)</b></text></td><td><text style=\"padding-right:2em\"><b>Neg</b></text></td><td><text style=\"padding-right:2em\"><b>0.40</b></text></td><td><mark style=\"background-color: hsl(120, 75%, 56%); opacity:1.0;                     line-height:1.75\"><font color=\"black\"> [CLS]                    </font></mark><mark style=\"background-color: hsl(0, 75%, 83%); opacity:1.0;                     line-height:1.75\"><font color=\"black\"> charm                    </font></mark><mark style=\"background-color: hsl(0, 75%, 99%); opacity:1.0;                     line-height:1.75\"><font color=\"black\"> [SEP]                    </font></mark></td><tr></table>"
      ],
      "text/plain": [
       "<IPython.core.display.HTML object>"
      ]
     },
     "metadata": {},
     "output_type": "display_data"
    },
    {
     "name": "stdout",
     "output_type": "stream",
     "text": [
      "<IPython.core.display.HTML object>\n",
      "Raw review: this new jangle of noise , mayhem and stupidity \n",
      "GT target: 0\n",
      "deotk ['[CLS]', 'this', 'new', 'jang', 'le', 'of', 'noise', ',', 'mayhem', 'and', 'stupidity', '[SEP]']\n"
     ]
    },
    {
     "name": "stderr",
     "output_type": "stream",
     "text": [
      "Lime attribution: 100%|████████████████████████████████████████████████████████████████████████████████████████████████████████| 25/25 [00:02<00:00, 10.44it/s]\n",
      "/home/user/anaconda3/envs/metric/lib/python3.9/site-packages/sklearn/linear_model/_coordinate_descent.py:647: ConvergenceWarning: Objective did not converge. You might want to increase the number of iterations, check the scale of the features or consider increasing regularisation. Duality gap: 2.257e-01, tolerance: 4.314e-02\n",
      "  model = cd_fast.enet_coordinate_descent(\n"
     ]
    },
    {
     "name": "stdout",
     "output_type": "stream",
     "text": [
      "word attr tensor([ 0.4269, -0.0604, -0.0540, -0.1781,  0.1645,  0.4900, -0.4280, -0.2220,\n",
      "         0.3306, -0.0646, -0.4008, -0.0754], device='cuda:0')\n",
      "conti attr [tensor(0.4269, device='cuda:0'), tensor(-0.0604, device='cuda:0'), tensor(-0.0540, device='cuda:0'), tensor(-0.0068, device='cuda:0'), tensor(0.4900, device='cuda:0'), tensor(-0.4280, device='cuda:0'), tensor(-0.2220, device='cuda:0'), tensor(0.3306, device='cuda:0'), tensor(-0.0646, device='cuda:0'), tensor(-0.4008, device='cuda:0'), tensor(-0.0754, device='cuda:0')]\n",
      "detokenized ['[CLS]', 'this', 'new', 'jang', 'le', 'of', 'noise', ',', 'mayhem', 'and', 'stupidity', '[SEP]']\n",
      "len conti_raw 11\n",
      "conti_raw ['[CLS]', 'this', 'new', 'jangle', 'of', 'noise', ',', 'mayhem', 'and', 'stupidity', '[SEP]']\n",
      "word attri tensor([ 0.4269, -0.0604, -0.0540, -0.1781,  0.1645,  0.4900, -0.4280, -0.2220,\n",
      "         0.3306, -0.0646, -0.4008, -0.0754], device='cuda:0')\n",
      "conti attri tensor([ 0.4269, -0.0604, -0.0540, -0.0068,  0.4900, -0.4280, -0.2220,  0.3306,\n",
      "        -0.0646, -0.4008, -0.0754])\n"
     ]
    },
    {
     "data": {
      "text/html": [
       "<table width: 100%><div style=\"border-top: 1px solid; margin-top: 5px;             padding-top: 5px; display: inline-block\"><b>Legend: </b><span style=\"display: inline-block; width: 10px; height: 10px;                 border: 1px solid; background-color:                 hsl(0, 75%, 60%)\"></span> Negative  <span style=\"display: inline-block; width: 10px; height: 10px;                 border: 1px solid; background-color:                 hsl(0, 75%, 100%)\"></span> Neutral  <span style=\"display: inline-block; width: 10px; height: 10px;                 border: 1px solid; background-color:                 hsl(120, 75%, 50%)\"></span> Positive  </div><tr><th>True Label</th><th>Predicted Label</th><th>Attribution Label</th><th>Attribution Score</th><th>Word Importance</th><tr><td><text style=\"padding-right:2em\"><b>Neg</b></text></td><td><text style=\"padding-right:2em\"><b>Neg (0.09)</b></text></td><td><text style=\"padding-right:2em\"><b>Neg</b></text></td><td><text style=\"padding-right:2em\"><b>-0.07</b></text></td><td><mark style=\"background-color: hsl(120, 75%, 79%); opacity:1.0;                     line-height:1.75\"><font color=\"black\"> [CLS]                    </font></mark><mark style=\"background-color: hsl(0, 75%, 98%); opacity:1.0;                     line-height:1.75\"><font color=\"black\"> this                    </font></mark><mark style=\"background-color: hsl(0, 75%, 98%); opacity:1.0;                     line-height:1.75\"><font color=\"black\"> new                    </font></mark><mark style=\"background-color: hsl(0, 75%, 100%); opacity:1.0;                     line-height:1.75\"><font color=\"black\"> jangle                    </font></mark><mark style=\"background-color: hsl(120, 75%, 76%); opacity:1.0;                     line-height:1.75\"><font color=\"black\"> of                    </font></mark><mark style=\"background-color: hsl(0, 75%, 83%); opacity:1.0;                     line-height:1.75\"><font color=\"black\"> noise                    </font></mark><mark style=\"background-color: hsl(0, 75%, 92%); opacity:1.0;                     line-height:1.75\"><font color=\"black\"> ,                    </font></mark><mark style=\"background-color: hsl(120, 75%, 84%); opacity:1.0;                     line-height:1.75\"><font color=\"black\"> mayhem                    </font></mark><mark style=\"background-color: hsl(0, 75%, 98%); opacity:1.0;                     line-height:1.75\"><font color=\"black\"> and                    </font></mark><mark style=\"background-color: hsl(0, 75%, 84%); opacity:1.0;                     line-height:1.75\"><font color=\"black\"> stupidity                    </font></mark><mark style=\"background-color: hsl(0, 75%, 97%); opacity:1.0;                     line-height:1.75\"><font color=\"black\"> [SEP]                    </font></mark></td><tr></table>"
      ],
      "text/plain": [
       "<IPython.core.display.HTML object>"
      ]
     },
     "metadata": {},
     "output_type": "display_data"
    },
    {
     "name": "stdout",
     "output_type": "stream",
     "text": [
      "<IPython.core.display.HTML object>\n",
      "Raw review: sustains it \n",
      "GT target: 1\n",
      "deotk ['[CLS]', 'sustain', 's', 'it', '[SEP]']\n"
     ]
    },
    {
     "name": "stderr",
     "output_type": "stream",
     "text": [
      "Lime attribution: 100%|████████████████████████████████████████████████████████████████████████████████████████████████████████| 25/25 [00:01<00:00, 13.19it/s]\n"
     ]
    },
    {
     "name": "stdout",
     "output_type": "stream",
     "text": [
      "word attr tensor([ 0.6517,  0.2457,  0.1623, -0.5408,  0.4429], device='cuda:0')\n",
      "conti attr [tensor(0.6517, device='cuda:0'), tensor(0.2040, device='cuda:0'), tensor(-0.5408, device='cuda:0'), tensor(0.4429, device='cuda:0')]\n",
      "detokenized ['[CLS]', 'sustain', 's', 'it', '[SEP]']\n",
      "len conti_raw 4\n",
      "conti_raw ['[CLS]', 'sustains', 'it', '[SEP]']\n",
      "word attri tensor([ 0.6517,  0.2457,  0.1623, -0.5408,  0.4429], device='cuda:0')\n",
      "conti attri tensor([ 0.6517,  0.2040, -0.5408,  0.4429])\n"
     ]
    },
    {
     "data": {
      "text/html": [
       "<table width: 100%><div style=\"border-top: 1px solid; margin-top: 5px;             padding-top: 5px; display: inline-block\"><b>Legend: </b><span style=\"display: inline-block; width: 10px; height: 10px;                 border: 1px solid; background-color:                 hsl(0, 75%, 60%)\"></span> Negative  <span style=\"display: inline-block; width: 10px; height: 10px;                 border: 1px solid; background-color:                 hsl(0, 75%, 100%)\"></span> Neutral  <span style=\"display: inline-block; width: 10px; height: 10px;                 border: 1px solid; background-color:                 hsl(120, 75%, 50%)\"></span> Positive  </div><tr><th>True Label</th><th>Predicted Label</th><th>Attribution Label</th><th>Attribution Score</th><th>Word Importance</th><tr><td><text style=\"padding-right:2em\"><b>Pos</b></text></td><td><text style=\"padding-right:2em\"><b>Pos (0.97)</b></text></td><td><text style=\"padding-right:2em\"><b>Pos</b></text></td><td><text style=\"padding-right:2em\"><b>0.96</b></text></td><td><mark style=\"background-color: hsl(120, 75%, 68%); opacity:1.0;                     line-height:1.75\"><font color=\"black\"> [CLS]                    </font></mark><mark style=\"background-color: hsl(120, 75%, 90%); opacity:1.0;                     line-height:1.75\"><font color=\"black\"> sustains                    </font></mark><mark style=\"background-color: hsl(0, 75%, 79%); opacity:1.0;                     line-height:1.75\"><font color=\"black\"> it                    </font></mark><mark style=\"background-color: hsl(120, 75%, 78%); opacity:1.0;                     line-height:1.75\"><font color=\"black\"> [SEP]                    </font></mark></td><tr></table>"
      ],
      "text/plain": [
       "<IPython.core.display.HTML object>"
      ]
     },
     "metadata": {},
     "output_type": "display_data"
    },
    {
     "name": "stderr",
     "output_type": "stream",
     "text": [
      "/home/user/anaconda3/envs/metric/lib/python3.9/site-packages/captum/attr/_core/lime.py:1096: UserWarning: Attempting to construct interpretable model with > 10000 features.This can be very slow or lead to OOM issues. Please provide a featuremask which groups input features to reduce the number of interpretablefeatures. \n",
      "  warnings.warn(\n"
     ]
    },
    {
     "name": "stdout",
     "output_type": "stream",
     "text": [
      "<IPython.core.display.HTML object>\n",
      "Raw review: is so deadly dull that watching the proverbial paint dry would be a welcome improvement . \n",
      "GT target: 0\n",
      "deotk ['[CLS]', 'is', 'so', 'deadly', 'dull', 'that', 'watching', 'the', 'prove', 'rb', 'ial', 'paint', 'dry', 'would', 'be', 'a', 'welcome', 'improvement', '.', '[SEP]']\n"
     ]
    },
    {
     "name": "stderr",
     "output_type": "stream",
     "text": [
      "Lime attribution: 100%|████████████████████████████████████████████████████████████████████████████████████████████████████████| 25/25 [00:02<00:00,  8.67it/s]\n",
      "/home/user/anaconda3/envs/metric/lib/python3.9/site-packages/sklearn/linear_model/_coordinate_descent.py:647: ConvergenceWarning: Objective did not converge. You might want to increase the number of iterations, check the scale of the features or consider increasing regularisation. Duality gap: 1.283e-01, tolerance: 2.966e-02\n",
      "  model = cd_fast.enet_coordinate_descent(\n"
     ]
    },
    {
     "name": "stdout",
     "output_type": "stream",
     "text": [
      "word attr tensor([-2.3394e-02,  2.1916e-01,  7.5038e-02,  3.3663e-01, -7.1729e-01,\n",
      "         2.1033e-01,  4.1813e-04,  1.3894e-01,  5.1766e-02, -1.6648e-01,\n",
      "        -2.2636e-02,  3.0936e-02, -1.4241e-01,  2.4163e-02,  2.0934e-01,\n",
      "         5.9534e-02,  3.5635e-01,  6.8914e-02, -1.2996e-01,  7.5524e-02],\n",
      "       device='cuda:0')\n",
      "conti attr [tensor(-0.0234, device='cuda:0'), tensor(0.2192, device='cuda:0'), tensor(0.0750, device='cuda:0'), tensor(0.3366, device='cuda:0'), tensor(-0.7173, device='cuda:0'), tensor(0.2103, device='cuda:0'), tensor(0.0004, device='cuda:0'), tensor(0.1389, device='cuda:0'), tensor(-0.0400, device='cuda:0'), tensor(0.0309, device='cuda:0'), tensor(-0.1424, device='cuda:0'), tensor(0.0242, device='cuda:0'), tensor(0.2093, device='cuda:0'), tensor(0.0595, device='cuda:0'), tensor(0.3563, device='cuda:0'), tensor(0.0689, device='cuda:0'), tensor(-0.1300, device='cuda:0'), tensor(0.0755, device='cuda:0')]\n",
      "detokenized ['[CLS]', 'is', 'so', 'deadly', 'dull', 'that', 'watching', 'the', 'prove', 'rb', 'ial', 'paint', 'dry', 'would', 'be', 'a', 'welcome', 'improvement', '.', '[SEP]']\n",
      "len conti_raw 18\n",
      "conti_raw ['[CLS]', 'is', 'so', 'deadly', 'dull', 'that', 'watching', 'the', 'proverbial', 'paint', 'dry', 'would', 'be', 'a', 'welcome', 'improvement', '.', '[SEP]']\n",
      "word attri tensor([-2.3394e-02,  2.1916e-01,  7.5038e-02,  3.3663e-01, -7.1729e-01,\n",
      "         2.1033e-01,  4.1813e-04,  1.3894e-01,  5.1766e-02, -1.6648e-01,\n",
      "        -2.2636e-02,  3.0936e-02, -1.4241e-01,  2.4163e-02,  2.0934e-01,\n",
      "         5.9534e-02,  3.5635e-01,  6.8914e-02, -1.2996e-01,  7.5524e-02],\n",
      "       device='cuda:0')\n",
      "conti attri tensor([-2.3394e-02,  2.1916e-01,  7.5038e-02,  3.3663e-01, -7.1729e-01,\n",
      "         2.1033e-01,  4.1813e-04,  1.3894e-01, -3.9996e-02,  3.0936e-02,\n",
      "        -1.4241e-01,  2.4163e-02,  2.0934e-01,  5.9534e-02,  3.5635e-01,\n",
      "         6.8914e-02, -1.2996e-01,  7.5524e-02])\n"
     ]
    },
    {
     "data": {
      "text/html": [
       "<table width: 100%><div style=\"border-top: 1px solid; margin-top: 5px;             padding-top: 5px; display: inline-block\"><b>Legend: </b><span style=\"display: inline-block; width: 10px; height: 10px;                 border: 1px solid; background-color:                 hsl(0, 75%, 60%)\"></span> Negative  <span style=\"display: inline-block; width: 10px; height: 10px;                 border: 1px solid; background-color:                 hsl(0, 75%, 100%)\"></span> Neutral  <span style=\"display: inline-block; width: 10px; height: 10px;                 border: 1px solid; background-color:                 hsl(120, 75%, 50%)\"></span> Positive  </div><tr><th>True Label</th><th>Predicted Label</th><th>Attribution Label</th><th>Attribution Score</th><th>Word Importance</th><tr><td><text style=\"padding-right:2em\"><b>Neg</b></text></td><td><text style=\"padding-right:2em\"><b>Neg (0.42)</b></text></td><td><text style=\"padding-right:2em\"><b>Pos</b></text></td><td><text style=\"padding-right:2em\"><b>0.65</b></text></td><td><mark style=\"background-color: hsl(0, 75%, 100%); opacity:1.0;                     line-height:1.75\"><font color=\"black\"> [CLS]                    </font></mark><mark style=\"background-color: hsl(120, 75%, 90%); opacity:1.0;                     line-height:1.75\"><font color=\"black\"> is                    </font></mark><mark style=\"background-color: hsl(120, 75%, 97%); opacity:1.0;                     line-height:1.75\"><font color=\"black\"> so                    </font></mark><mark style=\"background-color: hsl(120, 75%, 84%); opacity:1.0;                     line-height:1.75\"><font color=\"black\"> deadly                    </font></mark><mark style=\"background-color: hsl(0, 75%, 72%); opacity:1.0;                     line-height:1.75\"><font color=\"black\"> dull                    </font></mark><mark style=\"background-color: hsl(120, 75%, 90%); opacity:1.0;                     line-height:1.75\"><font color=\"black\"> that                    </font></mark><mark style=\"background-color: hsl(120, 75%, 100%); opacity:1.0;                     line-height:1.75\"><font color=\"black\"> watching                    </font></mark><mark style=\"background-color: hsl(120, 75%, 94%); opacity:1.0;                     line-height:1.75\"><font color=\"black\"> the                    </font></mark><mark style=\"background-color: hsl(0, 75%, 99%); opacity:1.0;                     line-height:1.75\"><font color=\"black\"> proverbial                    </font></mark><mark style=\"background-color: hsl(120, 75%, 99%); opacity:1.0;                     line-height:1.75\"><font color=\"black\"> paint                    </font></mark><mark style=\"background-color: hsl(0, 75%, 95%); opacity:1.0;                     line-height:1.75\"><font color=\"black\"> dry                    </font></mark><mark style=\"background-color: hsl(120, 75%, 99%); opacity:1.0;                     line-height:1.75\"><font color=\"black\"> would                    </font></mark><mark style=\"background-color: hsl(120, 75%, 90%); opacity:1.0;                     line-height:1.75\"><font color=\"black\"> be                    </font></mark><mark style=\"background-color: hsl(120, 75%, 98%); opacity:1.0;                     line-height:1.75\"><font color=\"black\"> a                    </font></mark><mark style=\"background-color: hsl(120, 75%, 83%); opacity:1.0;                     line-height:1.75\"><font color=\"black\"> welcome                    </font></mark><mark style=\"background-color: hsl(120, 75%, 97%); opacity:1.0;                     line-height:1.75\"><font color=\"black\"> improvement                    </font></mark><mark style=\"background-color: hsl(0, 75%, 95%); opacity:1.0;                     line-height:1.75\"><font color=\"black\"> .                    </font></mark><mark style=\"background-color: hsl(120, 75%, 97%); opacity:1.0;                     line-height:1.75\"><font color=\"black\"> [SEP]                    </font></mark></td><tr></table>"
      ],
      "text/plain": [
       "<IPython.core.display.HTML object>"
      ]
     },
     "metadata": {},
     "output_type": "display_data"
    },
    {
     "name": "stdout",
     "output_type": "stream",
     "text": [
      "<IPython.core.display.HTML object>\n",
      "Raw review: to accomplish \n",
      "GT target: 1\n",
      "deotk ['[CLS]', 'to', 'accomplish', '[SEP]']\n"
     ]
    },
    {
     "name": "stderr",
     "output_type": "stream",
     "text": [
      "Lime attribution: 100%|████████████████████████████████████████████████████████████████████████████████████████████████████████| 25/25 [00:01<00:00, 13.55it/s]\n"
     ]
    },
    {
     "name": "stdout",
     "output_type": "stream",
     "text": [
      "word attr tensor([ 8.0561e-01,  5.7877e-01,  1.2654e-01, -7.9212e-04], device='cuda:0')\n",
      "conti attr [tensor(0.8056, device='cuda:0'), tensor(0.5788, device='cuda:0'), tensor(0.1265, device='cuda:0'), tensor(-0.0008, device='cuda:0')]\n",
      "detokenized ['[CLS]', 'to', 'accomplish', '[SEP]']\n",
      "len conti_raw 4\n",
      "conti_raw ['[CLS]', 'to', 'accomplish', '[SEP]']\n",
      "word attri tensor([ 8.0561e-01,  5.7877e-01,  1.2654e-01, -7.9212e-04], device='cuda:0')\n",
      "conti attri tensor([ 8.0561e-01,  5.7877e-01,  1.2654e-01, -7.9212e-04])\n"
     ]
    },
    {
     "data": {
      "text/html": [
       "<table width: 100%><div style=\"border-top: 1px solid; margin-top: 5px;             padding-top: 5px; display: inline-block\"><b>Legend: </b><span style=\"display: inline-block; width: 10px; height: 10px;                 border: 1px solid; background-color:                 hsl(0, 75%, 60%)\"></span> Negative  <span style=\"display: inline-block; width: 10px; height: 10px;                 border: 1px solid; background-color:                 hsl(0, 75%, 100%)\"></span> Neutral  <span style=\"display: inline-block; width: 10px; height: 10px;                 border: 1px solid; background-color:                 hsl(120, 75%, 50%)\"></span> Positive  </div><tr><th>True Label</th><th>Predicted Label</th><th>Attribution Label</th><th>Attribution Score</th><th>Word Importance</th><tr><td><text style=\"padding-right:2em\"><b>Pos</b></text></td><td><text style=\"padding-right:2em\"><b>Pos (0.97)</b></text></td><td><text style=\"padding-right:2em\"><b>Pos</b></text></td><td><text style=\"padding-right:2em\"><b>1.51</b></text></td><td><mark style=\"background-color: hsl(120, 75%, 60%); opacity:1.0;                     line-height:1.75\"><font color=\"black\"> [CLS]                    </font></mark><mark style=\"background-color: hsl(120, 75%, 72%); opacity:1.0;                     line-height:1.75\"><font color=\"black\"> to                    </font></mark><mark style=\"background-color: hsl(120, 75%, 94%); opacity:1.0;                     line-height:1.75\"><font color=\"black\"> accomplish                    </font></mark><mark style=\"background-color: hsl(0, 75%, 100%); opacity:1.0;                     line-height:1.75\"><font color=\"black\"> [SEP]                    </font></mark></td><tr></table>"
      ],
      "text/plain": [
       "<IPython.core.display.HTML object>"
      ]
     },
     "metadata": {},
     "output_type": "display_data"
    },
    {
     "name": "stdout",
     "output_type": "stream",
     "text": [
      "<IPython.core.display.HTML object>\n",
      "Raw review: does n't work . \n",
      "GT target: 0\n",
      "deotk ['[CLS]', 'does', 'n', \"'\", 't', 'work', '.', '[SEP]']\n"
     ]
    },
    {
     "name": "stderr",
     "output_type": "stream",
     "text": [
      "Lime attribution: 100%|████████████████████████████████████████████████████████████████████████████████████████████████████████| 25/25 [00:02<00:00, 11.81it/s]\n"
     ]
    },
    {
     "name": "stdout",
     "output_type": "stream",
     "text": [
      "word attr tensor([ 0.0681, -0.2649, -0.8934, -0.3296,  0.1198, -0.0229, -0.0432,  0.0406],\n",
      "       device='cuda:0')\n",
      "conti attr [tensor(0.0681, device='cuda:0'), tensor(-0.2649, device='cuda:0'), tensor(-0.2459, device='cuda:0'), tensor(-0.0229, device='cuda:0'), tensor(-0.0432, device='cuda:0'), tensor(0.0406, device='cuda:0')]\n",
      "detokenized ['[CLS]', 'does', 'n', \"'\", 't', 'work', '.', '[SEP]']\n",
      "len conti_raw 6\n",
      "conti_raw ['[CLS]', 'does', \"n't\", 'work', '.', '[SEP]']\n",
      "word attri tensor([ 0.0681, -0.2649, -0.8934, -0.3296,  0.1198, -0.0229, -0.0432,  0.0406],\n",
      "       device='cuda:0')\n",
      "conti attri tensor([ 0.0681, -0.2649, -0.2459, -0.0229, -0.0432,  0.0406])\n"
     ]
    },
    {
     "data": {
      "text/html": [
       "<table width: 100%><div style=\"border-top: 1px solid; margin-top: 5px;             padding-top: 5px; display: inline-block\"><b>Legend: </b><span style=\"display: inline-block; width: 10px; height: 10px;                 border: 1px solid; background-color:                 hsl(0, 75%, 60%)\"></span> Negative  <span style=\"display: inline-block; width: 10px; height: 10px;                 border: 1px solid; background-color:                 hsl(0, 75%, 100%)\"></span> Neutral  <span style=\"display: inline-block; width: 10px; height: 10px;                 border: 1px solid; background-color:                 hsl(120, 75%, 50%)\"></span> Positive  </div><tr><th>True Label</th><th>Predicted Label</th><th>Attribution Label</th><th>Attribution Score</th><th>Word Importance</th><tr><td><text style=\"padding-right:2em\"><b>Neg</b></text></td><td><text style=\"padding-right:2em\"><b>Neg (0.04)</b></text></td><td><text style=\"padding-right:2em\"><b>Neg</b></text></td><td><text style=\"padding-right:2em\"><b>-1.33</b></text></td><td><mark style=\"background-color: hsl(120, 75%, 97%); opacity:1.0;                     line-height:1.75\"><font color=\"black\"> [CLS]                    </font></mark><mark style=\"background-color: hsl(0, 75%, 90%); opacity:1.0;                     line-height:1.75\"><font color=\"black\"> does                    </font></mark><mark style=\"background-color: hsl(0, 75%, 91%); opacity:1.0;                     line-height:1.75\"><font color=\"black\"> n't                    </font></mark><mark style=\"background-color: hsl(0, 75%, 100%); opacity:1.0;                     line-height:1.75\"><font color=\"black\"> work                    </font></mark><mark style=\"background-color: hsl(0, 75%, 99%); opacity:1.0;                     line-height:1.75\"><font color=\"black\"> .                    </font></mark><mark style=\"background-color: hsl(120, 75%, 98%); opacity:1.0;                     line-height:1.75\"><font color=\"black\"> [SEP]                    </font></mark></td><tr></table>"
      ],
      "text/plain": [
       "<IPython.core.display.HTML object>"
      ]
     },
     "metadata": {},
     "output_type": "display_data"
    },
    {
     "name": "stdout",
     "output_type": "stream",
     "text": [
      "<IPython.core.display.HTML object>\n",
      "Raw review: given it a one-star rating \n",
      "GT target: 0\n",
      "deotk ['[CLS]', 'given', 'it', 'a', 'one', '-', 'star', 'rating', '[SEP]']\n"
     ]
    },
    {
     "name": "stderr",
     "output_type": "stream",
     "text": [
      "Lime attribution: 100%|████████████████████████████████████████████████████████████████████████████████████████████████████████| 25/25 [00:02<00:00, 11.10it/s]\n",
      "/home/user/anaconda3/envs/metric/lib/python3.9/site-packages/sklearn/linear_model/_coordinate_descent.py:647: ConvergenceWarning: Objective did not converge. You might want to increase the number of iterations, check the scale of the features or consider increasing regularisation. Duality gap: 1.426e-01, tolerance: 1.748e-02\n",
      "  model = cd_fast.enet_coordinate_descent(\n"
     ]
    },
    {
     "name": "stdout",
     "output_type": "stream",
     "text": [
      "word attr tensor([ 0.1161, -0.1778,  0.0030,  0.6051, -0.1681,  0.5308, -0.1091,  0.5118,\n",
      "        -0.0699], device='cuda:0')\n",
      "conti attr [tensor(0.1161, device='cuda:0'), tensor(-0.1778, device='cuda:0'), tensor(0.0030, device='cuda:0'), tensor(0.6051, device='cuda:0'), tensor(0.0361, device='cuda:0'), tensor(0.5118, device='cuda:0'), tensor(-0.0699, device='cuda:0')]\n",
      "detokenized ['[CLS]', 'given', 'it', 'a', 'one', '-', 'star', 'rating', '[SEP]']\n",
      "len conti_raw 7\n",
      "conti_raw ['[CLS]', 'given', 'it', 'a', 'one-star', 'rating', '[SEP]']\n",
      "word attri tensor([ 0.1161, -0.1778,  0.0030,  0.6051, -0.1681,  0.5308, -0.1091,  0.5118,\n",
      "        -0.0699], device='cuda:0')\n",
      "conti attri tensor([ 0.1161, -0.1778,  0.0030,  0.6051,  0.0361,  0.5118, -0.0699])\n"
     ]
    },
    {
     "data": {
      "text/html": [
       "<table width: 100%><div style=\"border-top: 1px solid; margin-top: 5px;             padding-top: 5px; display: inline-block\"><b>Legend: </b><span style=\"display: inline-block; width: 10px; height: 10px;                 border: 1px solid; background-color:                 hsl(0, 75%, 60%)\"></span> Negative  <span style=\"display: inline-block; width: 10px; height: 10px;                 border: 1px solid; background-color:                 hsl(0, 75%, 100%)\"></span> Neutral  <span style=\"display: inline-block; width: 10px; height: 10px;                 border: 1px solid; background-color:                 hsl(120, 75%, 50%)\"></span> Positive  </div><tr><th>True Label</th><th>Predicted Label</th><th>Attribution Label</th><th>Attribution Score</th><th>Word Importance</th><tr><td><text style=\"padding-right:2em\"><b>Neg</b></text></td><td><text style=\"padding-right:2em\"><b>Pos (0.73)</b></text></td><td><text style=\"padding-right:2em\"><b>Pos</b></text></td><td><text style=\"padding-right:2em\"><b>1.24</b></text></td><td><mark style=\"background-color: hsl(120, 75%, 95%); opacity:1.0;                     line-height:1.75\"><font color=\"black\"> [CLS]                    </font></mark><mark style=\"background-color: hsl(0, 75%, 93%); opacity:1.0;                     line-height:1.75\"><font color=\"black\"> given                    </font></mark><mark style=\"background-color: hsl(120, 75%, 100%); opacity:1.0;                     line-height:1.75\"><font color=\"black\"> it                    </font></mark><mark style=\"background-color: hsl(120, 75%, 70%); opacity:1.0;                     line-height:1.75\"><font color=\"black\"> a                    </font></mark><mark style=\"background-color: hsl(120, 75%, 99%); opacity:1.0;                     line-height:1.75\"><font color=\"black\"> one-star                    </font></mark><mark style=\"background-color: hsl(120, 75%, 75%); opacity:1.0;                     line-height:1.75\"><font color=\"black\"> rating                    </font></mark><mark style=\"background-color: hsl(0, 75%, 98%); opacity:1.0;                     line-height:1.75\"><font color=\"black\"> [SEP]                    </font></mark></td><tr></table>"
      ],
      "text/plain": [
       "<IPython.core.display.HTML object>"
      ]
     },
     "metadata": {},
     "output_type": "display_data"
    },
    {
     "name": "stderr",
     "output_type": "stream",
     "text": [
      "/home/user/anaconda3/envs/metric/lib/python3.9/site-packages/captum/attr/_core/lime.py:1096: UserWarning: Attempting to construct interpretable model with > 10000 features.This can be very slow or lead to OOM issues. Please provide a featuremask which groups input features to reduce the number of interpretablefeatures. \n",
      "  warnings.warn(\n"
     ]
    },
    {
     "name": "stdout",
     "output_type": "stream",
     "text": [
      "<IPython.core.display.HTML object>\n",
      "Raw review: ice cube is n't quite out of ripe screwball ideas , but friday after next spreads them pretty thin \n",
      "GT target: 0\n",
      "deotk ['[CLS]', 'ice', 'cube', 'is', 'n', \"'\", 't', 'quite', 'out', 'of', 'ripe', 'screw', 'ball', 'ideas', ',', 'but', 'friday', 'after', 'next', 'spreads', 'them', 'pretty', 'thin', '[SEP]']\n"
     ]
    },
    {
     "name": "stderr",
     "output_type": "stream",
     "text": [
      "Lime attribution: 100%|████████████████████████████████████████████████████████████████████████████████████████████████████████| 25/25 [00:03<00:00,  8.27it/s]\n",
      "/home/user/anaconda3/envs/metric/lib/python3.9/site-packages/sklearn/linear_model/_coordinate_descent.py:647: ConvergenceWarning: Objective did not converge. You might want to increase the number of iterations, check the scale of the features or consider increasing regularisation. Duality gap: 2.643e-04, tolerance: 2.181e-04\n",
      "  model = cd_fast.enet_coordinate_descent(\n"
     ]
    },
    {
     "name": "stdout",
     "output_type": "stream",
     "text": [
      "word attr tensor([ 0.1626, -0.0100,  0.1116, -0.0970, -0.1121,  0.3734,  0.1334, -0.0193,\n",
      "         0.1889,  0.0264,  0.0961, -0.2223,  0.0991,  0.1105, -0.2039, -0.0383,\n",
      "        -0.1602, -0.0901,  0.0645,  0.0148,  0.2647, -0.4121, -0.4971,  0.3103],\n",
      "       device='cuda:0')\n",
      "conti attr [tensor(0.1626, device='cuda:0'), tensor(-0.0100, device='cuda:0'), tensor(0.1116, device='cuda:0'), tensor(-0.0970, device='cuda:0'), tensor(0.1320, device='cuda:0'), tensor(-0.0193, device='cuda:0'), tensor(0.1889, device='cuda:0'), tensor(0.0264, device='cuda:0'), tensor(0.0961, device='cuda:0'), tensor(-0.0616, device='cuda:0'), tensor(0.1105, device='cuda:0'), tensor(-0.2039, device='cuda:0'), tensor(-0.0383, device='cuda:0'), tensor(-0.1602, device='cuda:0'), tensor(-0.0901, device='cuda:0'), tensor(0.0645, device='cuda:0'), tensor(0.0148, device='cuda:0'), tensor(0.2647, device='cuda:0'), tensor(-0.4121, device='cuda:0'), tensor(-0.4971, device='cuda:0'), tensor(0.3103, device='cuda:0')]\n",
      "detokenized ['[CLS]', 'ice', 'cube', 'is', 'n', \"'\", 't', 'quite', 'out', 'of', 'ripe', 'screw', 'ball', 'ideas', ',', 'but', 'friday', 'after', 'next', 'spreads', 'them', 'pretty', 'thin', '[SEP]']\n",
      "len conti_raw 21\n",
      "conti_raw ['[CLS]', 'ice', 'cube', 'is', \"n't\", 'quite', 'out', 'of', 'ripe', 'screwball', 'ideas', ',', 'but', 'friday', 'after', 'next', 'spreads', 'them', 'pretty', 'thin', '[SEP]']\n",
      "word attri tensor([ 0.1626, -0.0100,  0.1116, -0.0970, -0.1121,  0.3734,  0.1334, -0.0193,\n",
      "         0.1889,  0.0264,  0.0961, -0.2223,  0.0991,  0.1105, -0.2039, -0.0383,\n",
      "        -0.1602, -0.0901,  0.0645,  0.0148,  0.2647, -0.4121, -0.4971,  0.3103],\n",
      "       device='cuda:0')\n",
      "conti attri tensor([ 0.1626, -0.0100,  0.1116, -0.0970,  0.1320, -0.0193,  0.1889,  0.0264,\n",
      "         0.0961, -0.0616,  0.1105, -0.2039, -0.0383, -0.1602, -0.0901,  0.0645,\n",
      "         0.0148,  0.2647, -0.4121, -0.4971,  0.3103])\n"
     ]
    },
    {
     "data": {
      "text/html": [
       "<table width: 100%><div style=\"border-top: 1px solid; margin-top: 5px;             padding-top: 5px; display: inline-block\"><b>Legend: </b><span style=\"display: inline-block; width: 10px; height: 10px;                 border: 1px solid; background-color:                 hsl(0, 75%, 60%)\"></span> Negative  <span style=\"display: inline-block; width: 10px; height: 10px;                 border: 1px solid; background-color:                 hsl(0, 75%, 100%)\"></span> Neutral  <span style=\"display: inline-block; width: 10px; height: 10px;                 border: 1px solid; background-color:                 hsl(120, 75%, 50%)\"></span> Positive  </div><tr><th>True Label</th><th>Predicted Label</th><th>Attribution Label</th><th>Attribution Score</th><th>Word Importance</th><tr><td><text style=\"padding-right:2em\"><b>Neg</b></text></td><td><text style=\"padding-right:2em\"><b>Neg (0.04)</b></text></td><td><text style=\"padding-right:2em\"><b>Neg</b></text></td><td><text style=\"padding-right:2em\"><b>0.09</b></text></td><td><mark style=\"background-color: hsl(120, 75%, 92%); opacity:1.0;                     line-height:1.75\"><font color=\"black\"> [CLS]                    </font></mark><mark style=\"background-color: hsl(0, 75%, 100%); opacity:1.0;                     line-height:1.75\"><font color=\"black\"> ice                    </font></mark><mark style=\"background-color: hsl(120, 75%, 95%); opacity:1.0;                     line-height:1.75\"><font color=\"black\"> cube                    </font></mark><mark style=\"background-color: hsl(0, 75%, 97%); opacity:1.0;                     line-height:1.75\"><font color=\"black\"> is                    </font></mark><mark style=\"background-color: hsl(120, 75%, 94%); opacity:1.0;                     line-height:1.75\"><font color=\"black\"> n't                    </font></mark><mark style=\"background-color: hsl(0, 75%, 100%); opacity:1.0;                     line-height:1.75\"><font color=\"black\"> quite                    </font></mark><mark style=\"background-color: hsl(120, 75%, 91%); opacity:1.0;                     line-height:1.75\"><font color=\"black\"> out                    </font></mark><mark style=\"background-color: hsl(120, 75%, 99%); opacity:1.0;                     line-height:1.75\"><font color=\"black\"> of                    </font></mark><mark style=\"background-color: hsl(120, 75%, 96%); opacity:1.0;                     line-height:1.75\"><font color=\"black\"> ripe                    </font></mark><mark style=\"background-color: hsl(0, 75%, 98%); opacity:1.0;                     line-height:1.75\"><font color=\"black\"> screwball                    </font></mark><mark style=\"background-color: hsl(120, 75%, 95%); opacity:1.0;                     line-height:1.75\"><font color=\"black\"> ideas                    </font></mark><mark style=\"background-color: hsl(0, 75%, 92%); opacity:1.0;                     line-height:1.75\"><font color=\"black\"> ,                    </font></mark><mark style=\"background-color: hsl(0, 75%, 99%); opacity:1.0;                     line-height:1.75\"><font color=\"black\"> but                    </font></mark><mark style=\"background-color: hsl(0, 75%, 94%); opacity:1.0;                     line-height:1.75\"><font color=\"black\"> friday                    </font></mark><mark style=\"background-color: hsl(0, 75%, 97%); opacity:1.0;                     line-height:1.75\"><font color=\"black\"> after                    </font></mark><mark style=\"background-color: hsl(120, 75%, 97%); opacity:1.0;                     line-height:1.75\"><font color=\"black\"> next                    </font></mark><mark style=\"background-color: hsl(120, 75%, 100%); opacity:1.0;                     line-height:1.75\"><font color=\"black\"> spreads                    </font></mark><mark style=\"background-color: hsl(120, 75%, 87%); opacity:1.0;                     line-height:1.75\"><font color=\"black\"> them                    </font></mark><mark style=\"background-color: hsl(0, 75%, 84%); opacity:1.0;                     line-height:1.75\"><font color=\"black\"> pretty                    </font></mark><mark style=\"background-color: hsl(0, 75%, 81%); opacity:1.0;                     line-height:1.75\"><font color=\"black\"> thin                    </font></mark><mark style=\"background-color: hsl(120, 75%, 85%); opacity:1.0;                     line-height:1.75\"><font color=\"black\"> [SEP]                    </font></mark></td><tr></table>"
      ],
      "text/plain": [
       "<IPython.core.display.HTML object>"
      ]
     },
     "metadata": {},
     "output_type": "display_data"
    },
    {
     "name": "stdout",
     "output_type": "stream",
     "text": [
      "<IPython.core.display.HTML object>\n",
      "Raw review: been trying to forget \n",
      "GT target: 0\n",
      "deotk ['[CLS]', 'been', 'trying', 'to', 'forget', '[SEP]']\n"
     ]
    },
    {
     "name": "stderr",
     "output_type": "stream",
     "text": [
      "Lime attribution: 100%|████████████████████████████████████████████████████████████████████████████████████████████████████████| 25/25 [00:01<00:00, 12.92it/s]\n"
     ]
    },
    {
     "name": "stdout",
     "output_type": "stream",
     "text": [
      "word attr tensor([-0.7098, -0.2284, -0.4423, -0.1778,  0.0281, -0.4648], device='cuda:0')\n",
      "conti attr [tensor(-0.7098, device='cuda:0'), tensor(-0.2284, device='cuda:0'), tensor(-0.4423, device='cuda:0'), tensor(-0.1778, device='cuda:0'), tensor(0.0281, device='cuda:0'), tensor(-0.4648, device='cuda:0')]\n",
      "detokenized ['[CLS]', 'been', 'trying', 'to', 'forget', '[SEP]']\n",
      "len conti_raw 6\n",
      "conti_raw ['[CLS]', 'been', 'trying', 'to', 'forget', '[SEP]']\n",
      "word attri tensor([-0.7098, -0.2284, -0.4423, -0.1778,  0.0281, -0.4648], device='cuda:0')\n",
      "conti attri tensor([-0.7098, -0.2284, -0.4423, -0.1778,  0.0281, -0.4648])\n"
     ]
    },
    {
     "data": {
      "text/html": [
       "<table width: 100%><div style=\"border-top: 1px solid; margin-top: 5px;             padding-top: 5px; display: inline-block\"><b>Legend: </b><span style=\"display: inline-block; width: 10px; height: 10px;                 border: 1px solid; background-color:                 hsl(0, 75%, 60%)\"></span> Negative  <span style=\"display: inline-block; width: 10px; height: 10px;                 border: 1px solid; background-color:                 hsl(0, 75%, 100%)\"></span> Neutral  <span style=\"display: inline-block; width: 10px; height: 10px;                 border: 1px solid; background-color:                 hsl(120, 75%, 50%)\"></span> Positive  </div><tr><th>True Label</th><th>Predicted Label</th><th>Attribution Label</th><th>Attribution Score</th><th>Word Importance</th><tr><td><text style=\"padding-right:2em\"><b>Neg</b></text></td><td><text style=\"padding-right:2em\"><b>Neg (0.07)</b></text></td><td><text style=\"padding-right:2em\"><b>Neg</b></text></td><td><text style=\"padding-right:2em\"><b>-1.99</b></text></td><td><mark style=\"background-color: hsl(0, 75%, 72%); opacity:1.0;                     line-height:1.75\"><font color=\"black\"> [CLS]                    </font></mark><mark style=\"background-color: hsl(0, 75%, 91%); opacity:1.0;                     line-height:1.75\"><font color=\"black\"> been                    </font></mark><mark style=\"background-color: hsl(0, 75%, 83%); opacity:1.0;                     line-height:1.75\"><font color=\"black\"> trying                    </font></mark><mark style=\"background-color: hsl(0, 75%, 93%); opacity:1.0;                     line-height:1.75\"><font color=\"black\"> to                    </font></mark><mark style=\"background-color: hsl(120, 75%, 99%); opacity:1.0;                     line-height:1.75\"><font color=\"black\"> forget                    </font></mark><mark style=\"background-color: hsl(0, 75%, 82%); opacity:1.0;                     line-height:1.75\"><font color=\"black\"> [SEP]                    </font></mark></td><tr></table>"
      ],
      "text/plain": [
       "<IPython.core.display.HTML object>"
      ]
     },
     "metadata": {},
     "output_type": "display_data"
    },
    {
     "name": "stdout",
     "output_type": "stream",
     "text": [
      "<IPython.core.display.HTML object>\n",
      "Raw review: big stars and \n",
      "GT target: 1\n",
      "deotk ['[CLS]', 'big', 'stars', 'and', '[SEP]']\n"
     ]
    },
    {
     "name": "stderr",
     "output_type": "stream",
     "text": [
      "Lime attribution: 100%|████████████████████████████████████████████████████████████████████████████████████████████████████████| 25/25 [00:01<00:00, 13.25it/s]\n"
     ]
    },
    {
     "name": "stdout",
     "output_type": "stream",
     "text": [
      "word attr tensor([ 0.2479,  0.2961, -0.7740,  0.4787, -0.1506], device='cuda:0')\n",
      "conti attr [tensor(0.2479, device='cuda:0'), tensor(0.2961, device='cuda:0'), tensor(-0.7740, device='cuda:0'), tensor(0.4787, device='cuda:0'), tensor(-0.1506, device='cuda:0')]\n",
      "detokenized ['[CLS]', 'big', 'stars', 'and', '[SEP]']\n",
      "len conti_raw 5\n",
      "conti_raw ['[CLS]', 'big', 'stars', 'and', '[SEP]']\n",
      "word attri tensor([ 0.2479,  0.2961, -0.7740,  0.4787, -0.1506], device='cuda:0')\n",
      "conti attri tensor([ 0.2479,  0.2961, -0.7740,  0.4787, -0.1506])\n"
     ]
    },
    {
     "data": {
      "text/html": [
       "<table width: 100%><div style=\"border-top: 1px solid; margin-top: 5px;             padding-top: 5px; display: inline-block\"><b>Legend: </b><span style=\"display: inline-block; width: 10px; height: 10px;                 border: 1px solid; background-color:                 hsl(0, 75%, 60%)\"></span> Negative  <span style=\"display: inline-block; width: 10px; height: 10px;                 border: 1px solid; background-color:                 hsl(0, 75%, 100%)\"></span> Neutral  <span style=\"display: inline-block; width: 10px; height: 10px;                 border: 1px solid; background-color:                 hsl(120, 75%, 50%)\"></span> Positive  </div><tr><th>True Label</th><th>Predicted Label</th><th>Attribution Label</th><th>Attribution Score</th><th>Word Importance</th><tr><td><text style=\"padding-right:2em\"><b>Pos</b></text></td><td><text style=\"padding-right:2em\"><b>Pos (0.97)</b></text></td><td><text style=\"padding-right:2em\"><b>Neg</b></text></td><td><text style=\"padding-right:2em\"><b>0.10</b></text></td><td><mark style=\"background-color: hsl(120, 75%, 88%); opacity:1.0;                     line-height:1.75\"><font color=\"black\"> [CLS]                    </font></mark><mark style=\"background-color: hsl(120, 75%, 86%); opacity:1.0;                     line-height:1.75\"><font color=\"black\"> big                    </font></mark><mark style=\"background-color: hsl(0, 75%, 70%); opacity:1.0;                     line-height:1.75\"><font color=\"black\"> stars                    </font></mark><mark style=\"background-color: hsl(120, 75%, 77%); opacity:1.0;                     line-height:1.75\"><font color=\"black\"> and                    </font></mark><mark style=\"background-color: hsl(0, 75%, 94%); opacity:1.0;                     line-height:1.75\"><font color=\"black\"> [SEP]                    </font></mark></td><tr></table>"
      ],
      "text/plain": [
       "<IPython.core.display.HTML object>"
      ]
     },
     "metadata": {},
     "output_type": "display_data"
    },
    {
     "name": "stdout",
     "output_type": "stream",
     "text": [
      "<IPython.core.display.HTML object>\n",
      "Raw review: of cheesy dialogue \n",
      "GT target: 0\n",
      "deotk ['[CLS]', 'of', 'che', 'es', 'y', 'dialogue', '[SEP]']\n"
     ]
    },
    {
     "name": "stderr",
     "output_type": "stream",
     "text": [
      "Lime attribution: 100%|████████████████████████████████████████████████████████████████████████████████████████████████████████| 25/25 [00:01<00:00, 12.52it/s]\n"
     ]
    },
    {
     "name": "stdout",
     "output_type": "stream",
     "text": [
      "word attr tensor([ 0.2662,  0.3391, -0.4790, -0.6527, -0.1737, -0.3366, -0.1235],\n",
      "       device='cuda:0')\n",
      "conti attr [tensor(0.2662, device='cuda:0'), tensor(0.3391, device='cuda:0'), tensor(-0.3698, device='cuda:0'), tensor(-0.3366, device='cuda:0'), tensor(-0.1235, device='cuda:0')]\n",
      "detokenized ['[CLS]', 'of', 'che', 'es', 'y', 'dialogue', '[SEP]']\n",
      "len conti_raw 5\n",
      "conti_raw ['[CLS]', 'of', 'cheesy', 'dialogue', '[SEP]']\n",
      "word attri tensor([ 0.2662,  0.3391, -0.4790, -0.6527, -0.1737, -0.3366, -0.1235],\n",
      "       device='cuda:0')\n",
      "conti attri tensor([ 0.2662,  0.3391, -0.3698, -0.3366, -0.1235])\n"
     ]
    },
    {
     "name": "stderr",
     "output_type": "stream",
     "text": [
      "/home/user/anaconda3/envs/metric/lib/python3.9/site-packages/sklearn/linear_model/_coordinate_descent.py:647: ConvergenceWarning: Objective did not converge. You might want to increase the number of iterations, check the scale of the features or consider increasing regularisation. Duality gap: 3.301e-01, tolerance: 2.139e-02\n",
      "  model = cd_fast.enet_coordinate_descent(\n"
     ]
    },
    {
     "data": {
      "text/html": [
       "<table width: 100%><div style=\"border-top: 1px solid; margin-top: 5px;             padding-top: 5px; display: inline-block\"><b>Legend: </b><span style=\"display: inline-block; width: 10px; height: 10px;                 border: 1px solid; background-color:                 hsl(0, 75%, 60%)\"></span> Negative  <span style=\"display: inline-block; width: 10px; height: 10px;                 border: 1px solid; background-color:                 hsl(0, 75%, 100%)\"></span> Neutral  <span style=\"display: inline-block; width: 10px; height: 10px;                 border: 1px solid; background-color:                 hsl(120, 75%, 50%)\"></span> Positive  </div><tr><th>True Label</th><th>Predicted Label</th><th>Attribution Label</th><th>Attribution Score</th><th>Word Importance</th><tr><td><text style=\"padding-right:2em\"><b>Neg</b></text></td><td><text style=\"padding-right:2em\"><b>Neg (0.02)</b></text></td><td><text style=\"padding-right:2em\"><b>Neg</b></text></td><td><text style=\"padding-right:2em\"><b>-1.16</b></text></td><td><mark style=\"background-color: hsl(120, 75%, 87%); opacity:1.0;                     line-height:1.75\"><font color=\"black\"> [CLS]                    </font></mark><mark style=\"background-color: hsl(120, 75%, 84%); opacity:1.0;                     line-height:1.75\"><font color=\"black\"> of                    </font></mark><mark style=\"background-color: hsl(0, 75%, 86%); opacity:1.0;                     line-height:1.75\"><font color=\"black\"> cheesy                    </font></mark><mark style=\"background-color: hsl(0, 75%, 87%); opacity:1.0;                     line-height:1.75\"><font color=\"black\"> dialogue                    </font></mark><mark style=\"background-color: hsl(0, 75%, 96%); opacity:1.0;                     line-height:1.75\"><font color=\"black\"> [SEP]                    </font></mark></td><tr></table>"
      ],
      "text/plain": [
       "<IPython.core.display.HTML object>"
      ]
     },
     "metadata": {},
     "output_type": "display_data"
    },
    {
     "name": "stderr",
     "output_type": "stream",
     "text": [
      "/home/user/anaconda3/envs/metric/lib/python3.9/site-packages/captum/attr/_core/lime.py:1096: UserWarning: Attempting to construct interpretable model with > 10000 features.This can be very slow or lead to OOM issues. Please provide a featuremask which groups input features to reduce the number of interpretablefeatures. \n",
      "  warnings.warn(\n"
     ]
    },
    {
     "name": "stdout",
     "output_type": "stream",
     "text": [
      "<IPython.core.display.HTML object>\n",
      "Raw review: the château is never quite able to overcome the cultural moat surrounding its ludicrous and contrived plot . ' \n",
      "GT target: 0\n",
      "deotk ['[CLS]', 'the', 'chateau', 'is', 'never', 'quite', 'able', 'to', 'overcome', 'the', 'cultural', 'moat', 'surrounding', 'its', 'lu', 'dic', 'rous', 'and', 'con', 'tri', 'ved', 'plot', '.', \"'\", '[SEP]']\n"
     ]
    },
    {
     "name": "stderr",
     "output_type": "stream",
     "text": [
      "Lime attribution: 100%|████████████████████████████████████████████████████████████████████████████████████████████████████████| 25/25 [00:03<00:00,  7.73it/s]\n",
      "/home/user/anaconda3/envs/metric/lib/python3.9/site-packages/sklearn/linear_model/_coordinate_descent.py:647: ConvergenceWarning: Objective did not converge. You might want to increase the number of iterations, check the scale of the features or consider increasing regularisation. Duality gap: 2.746e-03, tolerance: 6.882e-04\n",
      "  model = cd_fast.enet_coordinate_descent(\n"
     ]
    },
    {
     "name": "stdout",
     "output_type": "stream",
     "text": [
      "word attr tensor([ 0.1179,  0.0817, -0.2576,  0.0855,  0.0619,  0.2202,  0.0732, -0.2229,\n",
      "        -0.0966, -0.0172,  0.3547,  0.0257,  0.0671,  0.1480,  0.3436, -0.0449,\n",
      "        -0.4685, -0.2302, -0.0787, -0.1161,  0.1357, -0.1936,  0.1967,  0.2070,\n",
      "        -0.2935], device='cuda:0')\n",
      "conti attr [tensor(0.1179, device='cuda:0'), tensor(0.0817, device='cuda:0'), tensor(-0.2576, device='cuda:0'), tensor(0.0855, device='cuda:0'), tensor(0.0619, device='cuda:0'), tensor(0.2202, device='cuda:0'), tensor(0.0732, device='cuda:0'), tensor(-0.2229, device='cuda:0'), tensor(-0.0966, device='cuda:0'), tensor(-0.0172, device='cuda:0'), tensor(0.3547, device='cuda:0'), tensor(0.0257, device='cuda:0'), tensor(0.0671, device='cuda:0'), tensor(0.1480, device='cuda:0'), tensor(-0.1595, device='cuda:0'), tensor(-0.2302, device='cuda:0'), tensor(0.0192, device='cuda:0'), tensor(-0.1936, device='cuda:0'), tensor(0.1967, device='cuda:0'), tensor(0.2070, device='cuda:0'), tensor(-0.2935, device='cuda:0')]\n",
      "detokenized ['[CLS]', 'the', 'chateau', 'is', 'never', 'quite', 'able', 'to', 'overcome', 'the', 'cultural', 'moat', 'surrounding', 'its', 'lu', 'dic', 'rous', 'and', 'con', 'tri', 'ved', 'plot', '.', \"'\", '[SEP]']\n",
      "len conti_raw 21\n",
      "conti_raw ['[CLS]', 'the', 'chateau', 'is', 'never', 'quite', 'able', 'to', 'overcome', 'the', 'cultural', 'moat', 'surrounding', 'its', 'ludicrous', 'and', 'contrived', 'plot', '.', \"'\", '[SEP]']\n",
      "word attri tensor([ 0.1179,  0.0817, -0.2576,  0.0855,  0.0619,  0.2202,  0.0732, -0.2229,\n",
      "        -0.0966, -0.0172,  0.3547,  0.0257,  0.0671,  0.1480,  0.3436, -0.0449,\n",
      "        -0.4685, -0.2302, -0.0787, -0.1161,  0.1357, -0.1936,  0.1967,  0.2070,\n",
      "        -0.2935], device='cuda:0')\n",
      "conti attri tensor([ 0.1179,  0.0817, -0.2576,  0.0855,  0.0619,  0.2202,  0.0732, -0.2229,\n",
      "        -0.0966, -0.0172,  0.3547,  0.0257,  0.0671,  0.1480, -0.1595, -0.2302,\n",
      "         0.0192, -0.1936,  0.1967,  0.2070, -0.2935])\n"
     ]
    },
    {
     "data": {
      "text/html": [
       "<table width: 100%><div style=\"border-top: 1px solid; margin-top: 5px;             padding-top: 5px; display: inline-block\"><b>Legend: </b><span style=\"display: inline-block; width: 10px; height: 10px;                 border: 1px solid; background-color:                 hsl(0, 75%, 60%)\"></span> Negative  <span style=\"display: inline-block; width: 10px; height: 10px;                 border: 1px solid; background-color:                 hsl(0, 75%, 100%)\"></span> Neutral  <span style=\"display: inline-block; width: 10px; height: 10px;                 border: 1px solid; background-color:                 hsl(120, 75%, 50%)\"></span> Positive  </div><tr><th>True Label</th><th>Predicted Label</th><th>Attribution Label</th><th>Attribution Score</th><th>Word Importance</th><tr><td><text style=\"padding-right:2em\"><b>Neg</b></text></td><td><text style=\"padding-right:2em\"><b>Neg (0.06)</b></text></td><td><text style=\"padding-right:2em\"><b>Neg</b></text></td><td><text style=\"padding-right:2em\"><b>0.10</b></text></td><td><mark style=\"background-color: hsl(120, 75%, 95%); opacity:1.0;                     line-height:1.75\"><font color=\"black\"> [CLS]                    </font></mark><mark style=\"background-color: hsl(120, 75%, 96%); opacity:1.0;                     line-height:1.75\"><font color=\"black\"> the                    </font></mark><mark style=\"background-color: hsl(0, 75%, 90%); opacity:1.0;                     line-height:1.75\"><font color=\"black\"> chateau                    </font></mark><mark style=\"background-color: hsl(120, 75%, 96%); opacity:1.0;                     line-height:1.75\"><font color=\"black\"> is                    </font></mark><mark style=\"background-color: hsl(120, 75%, 97%); opacity:1.0;                     line-height:1.75\"><font color=\"black\"> never                    </font></mark><mark style=\"background-color: hsl(120, 75%, 89%); opacity:1.0;                     line-height:1.75\"><font color=\"black\"> quite                    </font></mark><mark style=\"background-color: hsl(120, 75%, 97%); opacity:1.0;                     line-height:1.75\"><font color=\"black\"> able                    </font></mark><mark style=\"background-color: hsl(0, 75%, 92%); opacity:1.0;                     line-height:1.75\"><font color=\"black\"> to                    </font></mark><mark style=\"background-color: hsl(0, 75%, 97%); opacity:1.0;                     line-height:1.75\"><font color=\"black\"> overcome                    </font></mark><mark style=\"background-color: hsl(0, 75%, 100%); opacity:1.0;                     line-height:1.75\"><font color=\"black\"> the                    </font></mark><mark style=\"background-color: hsl(120, 75%, 83%); opacity:1.0;                     line-height:1.75\"><font color=\"black\"> cultural                    </font></mark><mark style=\"background-color: hsl(120, 75%, 99%); opacity:1.0;                     line-height:1.75\"><font color=\"black\"> moat                    </font></mark><mark style=\"background-color: hsl(120, 75%, 97%); opacity:1.0;                     line-height:1.75\"><font color=\"black\"> surrounding                    </font></mark><mark style=\"background-color: hsl(120, 75%, 93%); opacity:1.0;                     line-height:1.75\"><font color=\"black\"> its                    </font></mark><mark style=\"background-color: hsl(0, 75%, 94%); opacity:1.0;                     line-height:1.75\"><font color=\"black\"> ludicrous                    </font></mark><mark style=\"background-color: hsl(0, 75%, 91%); opacity:1.0;                     line-height:1.75\"><font color=\"black\"> and                    </font></mark><mark style=\"background-color: hsl(120, 75%, 100%); opacity:1.0;                     line-height:1.75\"><font color=\"black\"> contrived                    </font></mark><mark style=\"background-color: hsl(0, 75%, 93%); opacity:1.0;                     line-height:1.75\"><font color=\"black\"> plot                    </font></mark><mark style=\"background-color: hsl(120, 75%, 91%); opacity:1.0;                     line-height:1.75\"><font color=\"black\"> .                    </font></mark><mark style=\"background-color: hsl(120, 75%, 90%); opacity:1.0;                     line-height:1.75\"><font color=\"black\"> '                    </font></mark><mark style=\"background-color: hsl(0, 75%, 89%); opacity:1.0;                     line-height:1.75\"><font color=\"black\"> [SEP]                    </font></mark></td><tr></table>"
      ],
      "text/plain": [
       "<IPython.core.display.HTML object>"
      ]
     },
     "metadata": {},
     "output_type": "display_data"
    },
    {
     "name": "stdout",
     "output_type": "stream",
     "text": [
      "<IPython.core.display.HTML object>\n",
      "Raw review: principled \n",
      "GT target: 1\n",
      "deotk ['[CLS]', 'principle', 'd', '[SEP]']\n"
     ]
    },
    {
     "name": "stderr",
     "output_type": "stream",
     "text": [
      "Lime attribution: 100%|████████████████████████████████████████████████████████████████████████████████████████████████████████| 25/25 [00:01<00:00, 13.17it/s]\n"
     ]
    },
    {
     "name": "stdout",
     "output_type": "stream",
     "text": [
      "word attr tensor([0.8367, 0.1747, 0.4935, 0.1609], device='cuda:0')\n",
      "conti attr [tensor(0.8367, device='cuda:0'), tensor(0.3341, device='cuda:0'), tensor(0.1609, device='cuda:0')]\n",
      "detokenized ['[CLS]', 'principle', 'd', '[SEP]']\n",
      "len conti_raw 3\n",
      "conti_raw ['[CLS]', 'principled', '[SEP]']\n",
      "word attri tensor([0.8367, 0.1747, 0.4935, 0.1609], device='cuda:0')\n",
      "conti attri tensor([0.8367, 0.3341, 0.1609])\n"
     ]
    },
    {
     "data": {
      "text/html": [
       "<table width: 100%><div style=\"border-top: 1px solid; margin-top: 5px;             padding-top: 5px; display: inline-block\"><b>Legend: </b><span style=\"display: inline-block; width: 10px; height: 10px;                 border: 1px solid; background-color:                 hsl(0, 75%, 60%)\"></span> Negative  <span style=\"display: inline-block; width: 10px; height: 10px;                 border: 1px solid; background-color:                 hsl(0, 75%, 100%)\"></span> Neutral  <span style=\"display: inline-block; width: 10px; height: 10px;                 border: 1px solid; background-color:                 hsl(120, 75%, 50%)\"></span> Positive  </div><tr><th>True Label</th><th>Predicted Label</th><th>Attribution Label</th><th>Attribution Score</th><th>Word Importance</th><tr><td><text style=\"padding-right:2em\"><b>Pos</b></text></td><td><text style=\"padding-right:2em\"><b>Pos (0.97)</b></text></td><td><text style=\"padding-right:2em\"><b>Pos</b></text></td><td><text style=\"padding-right:2em\"><b>1.67</b></text></td><td><mark style=\"background-color: hsl(120, 75%, 59%); opacity:1.0;                     line-height:1.75\"><font color=\"black\"> [CLS]                    </font></mark><mark style=\"background-color: hsl(120, 75%, 84%); opacity:1.0;                     line-height:1.75\"><font color=\"black\"> principled                    </font></mark><mark style=\"background-color: hsl(120, 75%, 92%); opacity:1.0;                     line-height:1.75\"><font color=\"black\"> [SEP]                    </font></mark></td><tr></table>"
      ],
      "text/plain": [
       "<IPython.core.display.HTML object>"
      ]
     },
     "metadata": {},
     "output_type": "display_data"
    },
    {
     "name": "stderr",
     "output_type": "stream",
     "text": [
      "/home/user/anaconda3/envs/metric/lib/python3.9/site-packages/captum/attr/_core/lime.py:1096: UserWarning: Attempting to construct interpretable model with > 10000 features.This can be very slow or lead to OOM issues. Please provide a featuremask which groups input features to reduce the number of interpretablefeatures. \n",
      "  warnings.warn(\n"
     ]
    },
    {
     "name": "stdout",
     "output_type": "stream",
     "text": [
      "<IPython.core.display.HTML object>\n",
      "Raw review: end it all by stuffing himself into an electric pencil sharpener \n",
      "GT target: 0\n",
      "deotk ['[CLS]', 'end', 'it', 'all', 'by', 'stuffing', 'himself', 'into', 'an', 'electric', 'pencil', 'sharpe', 'ner', '[SEP]']\n"
     ]
    },
    {
     "name": "stderr",
     "output_type": "stream",
     "text": [
      "Lime attribution: 100%|████████████████████████████████████████████████████████████████████████████████████████████████████████| 25/25 [00:02<00:00, 10.23it/s]\n"
     ]
    },
    {
     "name": "stdout",
     "output_type": "stream",
     "text": [
      "word attr tensor([ 0.8340,  0.0751,  0.0623, -0.0378, -0.2755,  0.1201,  0.0128, -0.0741,\n",
      "         0.0082, -0.2642,  0.0074,  0.0173, -0.0258, -0.3560], device='cuda:0')\n",
      "conti attr [tensor(0.8340, device='cuda:0'), tensor(0.0751, device='cuda:0'), tensor(0.0623, device='cuda:0'), tensor(-0.0378, device='cuda:0'), tensor(-0.2755, device='cuda:0'), tensor(0.1201, device='cuda:0'), tensor(0.0128, device='cuda:0'), tensor(-0.0741, device='cuda:0'), tensor(0.0082, device='cuda:0'), tensor(-0.2642, device='cuda:0'), tensor(0.0074, device='cuda:0'), tensor(-0.0042, device='cuda:0'), tensor(-0.3560, device='cuda:0')]\n",
      "detokenized ['[CLS]', 'end', 'it', 'all', 'by', 'stuffing', 'himself', 'into', 'an', 'electric', 'pencil', 'sharpe', 'ner', '[SEP]']\n",
      "len conti_raw 13\n",
      "conti_raw ['[CLS]', 'end', 'it', 'all', 'by', 'stuffing', 'himself', 'into', 'an', 'electric', 'pencil', 'sharpener', '[SEP]']\n",
      "word attri tensor([ 0.8340,  0.0751,  0.0623, -0.0378, -0.2755,  0.1201,  0.0128, -0.0741,\n",
      "         0.0082, -0.2642,  0.0074,  0.0173, -0.0258, -0.3560], device='cuda:0')\n",
      "conti attri tensor([ 0.8340,  0.0751,  0.0623, -0.0378, -0.2755,  0.1201,  0.0128, -0.0741,\n",
      "         0.0082, -0.2642,  0.0074, -0.0042, -0.3560])\n"
     ]
    },
    {
     "data": {
      "text/html": [
       "<table width: 100%><div style=\"border-top: 1px solid; margin-top: 5px;             padding-top: 5px; display: inline-block\"><b>Legend: </b><span style=\"display: inline-block; width: 10px; height: 10px;                 border: 1px solid; background-color:                 hsl(0, 75%, 60%)\"></span> Negative  <span style=\"display: inline-block; width: 10px; height: 10px;                 border: 1px solid; background-color:                 hsl(0, 75%, 100%)\"></span> Neutral  <span style=\"display: inline-block; width: 10px; height: 10px;                 border: 1px solid; background-color:                 hsl(120, 75%, 50%)\"></span> Positive  </div><tr><th>True Label</th><th>Predicted Label</th><th>Attribution Label</th><th>Attribution Score</th><th>Word Importance</th><tr><td><text style=\"padding-right:2em\"><b>Neg</b></text></td><td><text style=\"padding-right:2em\"><b>Neg (0.06)</b></text></td><td><text style=\"padding-right:2em\"><b>Neg</b></text></td><td><text style=\"padding-right:2em\"><b>0.10</b></text></td><td><mark style=\"background-color: hsl(120, 75%, 59%); opacity:1.0;                     line-height:1.75\"><font color=\"black\"> [CLS]                    </font></mark><mark style=\"background-color: hsl(120, 75%, 97%); opacity:1.0;                     line-height:1.75\"><font color=\"black\"> end                    </font></mark><mark style=\"background-color: hsl(120, 75%, 97%); opacity:1.0;                     line-height:1.75\"><font color=\"black\"> it                    </font></mark><mark style=\"background-color: hsl(0, 75%, 99%); opacity:1.0;                     line-height:1.75\"><font color=\"black\"> all                    </font></mark><mark style=\"background-color: hsl(0, 75%, 89%); opacity:1.0;                     line-height:1.75\"><font color=\"black\"> by                    </font></mark><mark style=\"background-color: hsl(120, 75%, 94%); opacity:1.0;                     line-height:1.75\"><font color=\"black\"> stuffing                    </font></mark><mark style=\"background-color: hsl(120, 75%, 100%); opacity:1.0;                     line-height:1.75\"><font color=\"black\"> himself                    </font></mark><mark style=\"background-color: hsl(0, 75%, 98%); opacity:1.0;                     line-height:1.75\"><font color=\"black\"> into                    </font></mark><mark style=\"background-color: hsl(120, 75%, 100%); opacity:1.0;                     line-height:1.75\"><font color=\"black\"> an                    </font></mark><mark style=\"background-color: hsl(0, 75%, 90%); opacity:1.0;                     line-height:1.75\"><font color=\"black\"> electric                    </font></mark><mark style=\"background-color: hsl(120, 75%, 100%); opacity:1.0;                     line-height:1.75\"><font color=\"black\"> pencil                    </font></mark><mark style=\"background-color: hsl(0, 75%, 100%); opacity:1.0;                     line-height:1.75\"><font color=\"black\"> sharpener                    </font></mark><mark style=\"background-color: hsl(0, 75%, 86%); opacity:1.0;                     line-height:1.75\"><font color=\"black\"> [SEP]                    </font></mark></td><tr></table>"
      ],
      "text/plain": [
       "<IPython.core.display.HTML object>"
      ]
     },
     "metadata": {},
     "output_type": "display_data"
    },
    {
     "name": "stdout",
     "output_type": "stream",
     "text": [
      "<IPython.core.display.HTML object>\n",
      "Raw review: funniest idea \n",
      "GT target: 1\n",
      "deotk ['[CLS]', 'fun', 'nies', 't', 'idea', '[SEP]']\n"
     ]
    },
    {
     "name": "stderr",
     "output_type": "stream",
     "text": [
      "Lime attribution: 100%|████████████████████████████████████████████████████████████████████████████████████████████████████████| 25/25 [00:02<00:00, 12.26it/s]\n"
     ]
    },
    {
     "name": "stdout",
     "output_type": "stream",
     "text": [
      "word attr tensor([ 0.4057,  0.4346, -0.4712,  0.4553, -0.0478,  0.4636], device='cuda:0')\n",
      "conti attr [tensor(0.4057, device='cuda:0'), tensor(0.2185, device='cuda:0'), tensor(-0.0478, device='cuda:0'), tensor(0.4636, device='cuda:0')]\n",
      "detokenized ['[CLS]', 'fun', 'nies', 't', 'idea', '[SEP]']\n",
      "len conti_raw 4\n",
      "conti_raw ['[CLS]', 'funniest', 'idea', '[SEP]']\n",
      "word attri tensor([ 0.4057,  0.4346, -0.4712,  0.4553, -0.0478,  0.4636], device='cuda:0')\n",
      "conti attri tensor([ 0.4057,  0.2185, -0.0478,  0.4636])\n"
     ]
    },
    {
     "name": "stderr",
     "output_type": "stream",
     "text": [
      "/home/user/anaconda3/envs/metric/lib/python3.9/site-packages/sklearn/linear_model/_coordinate_descent.py:647: ConvergenceWarning: Objective did not converge. You might want to increase the number of iterations, check the scale of the features or consider increasing regularisation. Duality gap: 2.501e-02, tolerance: 1.136e-02\n",
      "  model = cd_fast.enet_coordinate_descent(\n"
     ]
    },
    {
     "data": {
      "text/html": [
       "<table width: 100%><div style=\"border-top: 1px solid; margin-top: 5px;             padding-top: 5px; display: inline-block\"><b>Legend: </b><span style=\"display: inline-block; width: 10px; height: 10px;                 border: 1px solid; background-color:                 hsl(0, 75%, 60%)\"></span> Negative  <span style=\"display: inline-block; width: 10px; height: 10px;                 border: 1px solid; background-color:                 hsl(0, 75%, 100%)\"></span> Neutral  <span style=\"display: inline-block; width: 10px; height: 10px;                 border: 1px solid; background-color:                 hsl(120, 75%, 50%)\"></span> Positive  </div><tr><th>True Label</th><th>Predicted Label</th><th>Attribution Label</th><th>Attribution Score</th><th>Word Importance</th><tr><td><text style=\"padding-right:2em\"><b>Pos</b></text></td><td><text style=\"padding-right:2em\"><b>Pos (0.96)</b></text></td><td><text style=\"padding-right:2em\"><b>Pos</b></text></td><td><text style=\"padding-right:2em\"><b>1.24</b></text></td><td><mark style=\"background-color: hsl(120, 75%, 80%); opacity:1.0;                     line-height:1.75\"><font color=\"black\"> [CLS]                    </font></mark><mark style=\"background-color: hsl(120, 75%, 90%); opacity:1.0;                     line-height:1.75\"><font color=\"black\"> funniest                    </font></mark><mark style=\"background-color: hsl(0, 75%, 99%); opacity:1.0;                     line-height:1.75\"><font color=\"black\"> idea                    </font></mark><mark style=\"background-color: hsl(120, 75%, 77%); opacity:1.0;                     line-height:1.75\"><font color=\"black\"> [SEP]                    </font></mark></td><tr></table>"
      ],
      "text/plain": [
       "<IPython.core.display.HTML object>"
      ]
     },
     "metadata": {},
     "output_type": "display_data"
    },
    {
     "name": "stdout",
     "output_type": "stream",
     "text": [
      "<IPython.core.display.HTML object>\n",
      "Raw review: silly and tedious \n",
      "GT target: 0\n",
      "deotk ['[CLS]', 'silly', 'and', 'ted', 'ious', '[SEP]']\n"
     ]
    },
    {
     "name": "stderr",
     "output_type": "stream",
     "text": [
      "Lime attribution: 100%|████████████████████████████████████████████████████████████████████████████████████████████████████████| 25/25 [00:02<00:00, 12.37it/s]\n"
     ]
    },
    {
     "name": "stdout",
     "output_type": "stream",
     "text": [
      "word attr tensor([ 0.1214, -0.0916, -0.4864, -0.8094,  0.2754,  0.0964], device='cuda:0')\n",
      "conti attr [tensor(0.1214, device='cuda:0'), tensor(-0.0916, device='cuda:0'), tensor(-0.4864, device='cuda:0'), tensor(-0.2670, device='cuda:0'), tensor(0.0964, device='cuda:0')]\n",
      "detokenized ['[CLS]', 'silly', 'and', 'ted', 'ious', '[SEP]']\n",
      "len conti_raw 5\n",
      "conti_raw ['[CLS]', 'silly', 'and', 'tedious', '[SEP]']\n",
      "word attri tensor([ 0.1214, -0.0916, -0.4864, -0.8094,  0.2754,  0.0964], device='cuda:0')\n",
      "conti attri tensor([ 0.1214, -0.0916, -0.4864, -0.2670,  0.0964])\n"
     ]
    },
    {
     "name": "stderr",
     "output_type": "stream",
     "text": [
      "/home/user/anaconda3/envs/metric/lib/python3.9/site-packages/sklearn/linear_model/_coordinate_descent.py:647: ConvergenceWarning: Objective did not converge. You might want to increase the number of iterations, check the scale of the features or consider increasing regularisation. Duality gap: 9.084e-02, tolerance: 6.561e-02\n",
      "  model = cd_fast.enet_coordinate_descent(\n"
     ]
    },
    {
     "data": {
      "text/html": [
       "<table width: 100%><div style=\"border-top: 1px solid; margin-top: 5px;             padding-top: 5px; display: inline-block\"><b>Legend: </b><span style=\"display: inline-block; width: 10px; height: 10px;                 border: 1px solid; background-color:                 hsl(0, 75%, 60%)\"></span> Negative  <span style=\"display: inline-block; width: 10px; height: 10px;                 border: 1px solid; background-color:                 hsl(0, 75%, 100%)\"></span> Neutral  <span style=\"display: inline-block; width: 10px; height: 10px;                 border: 1px solid; background-color:                 hsl(120, 75%, 50%)\"></span> Positive  </div><tr><th>True Label</th><th>Predicted Label</th><th>Attribution Label</th><th>Attribution Score</th><th>Word Importance</th><tr><td><text style=\"padding-right:2em\"><b>Neg</b></text></td><td><text style=\"padding-right:2em\"><b>Neg (0.04)</b></text></td><td><text style=\"padding-right:2em\"><b>Neg</b></text></td><td><text style=\"padding-right:2em\"><b>-0.89</b></text></td><td><mark style=\"background-color: hsl(120, 75%, 94%); opacity:1.0;                     line-height:1.75\"><font color=\"black\"> [CLS]                    </font></mark><mark style=\"background-color: hsl(0, 75%, 97%); opacity:1.0;                     line-height:1.75\"><font color=\"black\"> silly                    </font></mark><mark style=\"background-color: hsl(0, 75%, 81%); opacity:1.0;                     line-height:1.75\"><font color=\"black\"> and                    </font></mark><mark style=\"background-color: hsl(0, 75%, 90%); opacity:1.0;                     line-height:1.75\"><font color=\"black\"> tedious                    </font></mark><mark style=\"background-color: hsl(120, 75%, 96%); opacity:1.0;                     line-height:1.75\"><font color=\"black\"> [SEP]                    </font></mark></td><tr></table>"
      ],
      "text/plain": [
       "<IPython.core.display.HTML object>"
      ]
     },
     "metadata": {},
     "output_type": "display_data"
    },
    {
     "name": "stdout",
     "output_type": "stream",
     "text": [
      "<IPython.core.display.HTML object>\n",
      "Raw review: two surefire , beloved genres \n",
      "GT target: 1\n",
      "deotk ['[CLS]', 'two', 'sure', 'fire', ',', 'beloved', 'genres', '[SEP]']\n"
     ]
    },
    {
     "name": "stderr",
     "output_type": "stream",
     "text": [
      "Lime attribution: 100%|████████████████████████████████████████████████████████████████████████████████████████████████████████| 25/25 [00:02<00:00, 11.76it/s]\n"
     ]
    },
    {
     "name": "stdout",
     "output_type": "stream",
     "text": [
      "word attr tensor([ 0.6681,  0.0017,  0.1023,  0.3746, -0.1459,  0.4929, -0.2823,  0.2428],\n",
      "       device='cuda:0')\n",
      "conti attr [tensor(0.6681, device='cuda:0'), tensor(0.0017, device='cuda:0'), tensor(0.2385, device='cuda:0'), tensor(-0.1459, device='cuda:0'), tensor(0.4929, device='cuda:0'), tensor(-0.2823, device='cuda:0'), tensor(0.2428, device='cuda:0')]\n",
      "detokenized ['[CLS]', 'two', 'sure', 'fire', ',', 'beloved', 'genres', '[SEP]']\n",
      "len conti_raw 7\n",
      "conti_raw ['[CLS]', 'two', 'surefire', ',', 'beloved', 'genres', '[SEP]']\n",
      "word attri tensor([ 0.6681,  0.0017,  0.1023,  0.3746, -0.1459,  0.4929, -0.2823,  0.2428],\n",
      "       device='cuda:0')\n",
      "conti attri tensor([ 0.6681,  0.0017,  0.2385, -0.1459,  0.4929, -0.2823,  0.2428])\n"
     ]
    },
    {
     "data": {
      "text/html": [
       "<table width: 100%><div style=\"border-top: 1px solid; margin-top: 5px;             padding-top: 5px; display: inline-block\"><b>Legend: </b><span style=\"display: inline-block; width: 10px; height: 10px;                 border: 1px solid; background-color:                 hsl(0, 75%, 60%)\"></span> Negative  <span style=\"display: inline-block; width: 10px; height: 10px;                 border: 1px solid; background-color:                 hsl(0, 75%, 100%)\"></span> Neutral  <span style=\"display: inline-block; width: 10px; height: 10px;                 border: 1px solid; background-color:                 hsl(120, 75%, 50%)\"></span> Positive  </div><tr><th>True Label</th><th>Predicted Label</th><th>Attribution Label</th><th>Attribution Score</th><th>Word Importance</th><tr><td><text style=\"padding-right:2em\"><b>Pos</b></text></td><td><text style=\"padding-right:2em\"><b>Pos (0.98)</b></text></td><td><text style=\"padding-right:2em\"><b>Pos</b></text></td><td><text style=\"padding-right:2em\"><b>1.45</b></text></td><td><mark style=\"background-color: hsl(120, 75%, 67%); opacity:1.0;                     line-height:1.75\"><font color=\"black\"> [CLS]                    </font></mark><mark style=\"background-color: hsl(120, 75%, 100%); opacity:1.0;                     line-height:1.75\"><font color=\"black\"> two                    </font></mark><mark style=\"background-color: hsl(120, 75%, 89%); opacity:1.0;                     line-height:1.75\"><font color=\"black\"> surefire                    </font></mark><mark style=\"background-color: hsl(0, 75%, 95%); opacity:1.0;                     line-height:1.75\"><font color=\"black\"> ,                    </font></mark><mark style=\"background-color: hsl(120, 75%, 76%); opacity:1.0;                     line-height:1.75\"><font color=\"black\"> beloved                    </font></mark><mark style=\"background-color: hsl(0, 75%, 89%); opacity:1.0;                     line-height:1.75\"><font color=\"black\"> genres                    </font></mark><mark style=\"background-color: hsl(120, 75%, 88%); opacity:1.0;                     line-height:1.75\"><font color=\"black\"> [SEP]                    </font></mark></td><tr></table>"
      ],
      "text/plain": [
       "<IPython.core.display.HTML object>"
      ]
     },
     "metadata": {},
     "output_type": "display_data"
    },
    {
     "name": "stdout",
     "output_type": "stream",
     "text": [
      "<IPython.core.display.HTML object>\n",
      "Raw review: most charmless \n",
      "GT target: 0\n",
      "deotk ['[CLS]', 'most', 'charm', 'less', '[SEP]']\n"
     ]
    },
    {
     "name": "stderr",
     "output_type": "stream",
     "text": [
      "Lime attribution: 100%|████████████████████████████████████████████████████████████████████████████████████████████████████████| 25/25 [00:01<00:00, 13.18it/s]\n"
     ]
    },
    {
     "name": "stdout",
     "output_type": "stream",
     "text": [
      "word attr tensor([ 0.0091,  0.1403,  0.8026, -0.1438,  0.5616], device='cuda:0')\n",
      "conti attr [tensor(0.0091, device='cuda:0'), tensor(0.1403, device='cuda:0'), tensor(0.3294, device='cuda:0'), tensor(0.5616, device='cuda:0')]\n",
      "detokenized ['[CLS]', 'most', 'charm', 'less', '[SEP]']\n",
      "len conti_raw 4\n",
      "conti_raw ['[CLS]', 'most', 'charmless', '[SEP]']\n",
      "word attri tensor([ 0.0091,  0.1403,  0.8026, -0.1438,  0.5616], device='cuda:0')\n",
      "conti attri tensor([0.0091, 0.1403, 0.3294, 0.5616])\n"
     ]
    },
    {
     "data": {
      "text/html": [
       "<table width: 100%><div style=\"border-top: 1px solid; margin-top: 5px;             padding-top: 5px; display: inline-block\"><b>Legend: </b><span style=\"display: inline-block; width: 10px; height: 10px;                 border: 1px solid; background-color:                 hsl(0, 75%, 60%)\"></span> Negative  <span style=\"display: inline-block; width: 10px; height: 10px;                 border: 1px solid; background-color:                 hsl(0, 75%, 100%)\"></span> Neutral  <span style=\"display: inline-block; width: 10px; height: 10px;                 border: 1px solid; background-color:                 hsl(120, 75%, 50%)\"></span> Positive  </div><tr><th>True Label</th><th>Predicted Label</th><th>Attribution Label</th><th>Attribution Score</th><th>Word Importance</th><tr><td><text style=\"padding-right:2em\"><b>Neg</b></text></td><td><text style=\"padding-right:2em\"><b>Pos (0.97)</b></text></td><td><text style=\"padding-right:2em\"><b>Pos</b></text></td><td><text style=\"padding-right:2em\"><b>1.37</b></text></td><td><mark style=\"background-color: hsl(120, 75%, 100%); opacity:1.0;                     line-height:1.75\"><font color=\"black\"> [CLS]                    </font></mark><mark style=\"background-color: hsl(120, 75%, 93%); opacity:1.0;                     line-height:1.75\"><font color=\"black\"> most                    </font></mark><mark style=\"background-color: hsl(120, 75%, 84%); opacity:1.0;                     line-height:1.75\"><font color=\"black\"> charmless                    </font></mark><mark style=\"background-color: hsl(120, 75%, 72%); opacity:1.0;                     line-height:1.75\"><font color=\"black\"> [SEP]                    </font></mark></td><tr></table>"
      ],
      "text/plain": [
       "<IPython.core.display.HTML object>"
      ]
     },
     "metadata": {},
     "output_type": "display_data"
    },
    {
     "name": "stderr",
     "output_type": "stream",
     "text": [
      "/home/user/anaconda3/envs/metric/lib/python3.9/site-packages/captum/attr/_core/lime.py:1096: UserWarning: Attempting to construct interpretable model with > 10000 features.This can be very slow or lead to OOM issues. Please provide a featuremask which groups input features to reduce the number of interpretablefeatures. \n",
      "  warnings.warn(\n"
     ]
    },
    {
     "name": "stdout",
     "output_type": "stream",
     "text": [
      "<IPython.core.display.HTML object>\n",
      "Raw review: offers us the sense that on some elemental level , lilia deeply wants to break free of her old life . \n",
      "GT target: 1\n",
      "deotk ['[CLS]', 'offers', 'us', 'the', 'sense', 'that', 'on', 'some', 'elemental', 'level', ',', 'lil', 'ia', 'deeply', 'wants', 'to', 'break', 'free', 'of', 'her', 'old', 'life', '.', '[SEP]']\n"
     ]
    },
    {
     "name": "stderr",
     "output_type": "stream",
     "text": [
      "Lime attribution: 100%|████████████████████████████████████████████████████████████████████████████████████████████████████████| 25/25 [00:03<00:00,  7.95it/s]\n",
      "/home/user/anaconda3/envs/metric/lib/python3.9/site-packages/sklearn/linear_model/_coordinate_descent.py:647: ConvergenceWarning: Objective did not converge. You might want to increase the number of iterations, check the scale of the features or consider increasing regularisation. Duality gap: 6.184e-03, tolerance: 1.544e-03\n",
      "  model = cd_fast.enet_coordinate_descent(\n"
     ]
    },
    {
     "name": "stdout",
     "output_type": "stream",
     "text": [
      "word attr tensor([ 0.5353,  0.0993,  0.0586,  0.0029,  0.0726,  0.2380,  0.2684,  0.0158,\n",
      "         0.2253, -0.0029,  0.2812,  0.1814, -0.0479,  0.3360, -0.1114,  0.0929,\n",
      "        -0.2563, -0.1342, -0.0068, -0.1905,  0.2560,  0.0127, -0.1776, -0.2228],\n",
      "       device='cuda:0')\n",
      "conti attr [tensor(0.5353, device='cuda:0'), tensor(0.0993, device='cuda:0'), tensor(0.0586, device='cuda:0'), tensor(0.0029, device='cuda:0'), tensor(0.0726, device='cuda:0'), tensor(0.2380, device='cuda:0'), tensor(0.2684, device='cuda:0'), tensor(0.0158, device='cuda:0'), tensor(0.2253, device='cuda:0'), tensor(-0.0029, device='cuda:0'), tensor(0.2812, device='cuda:0'), tensor(0.0668, device='cuda:0'), tensor(0.3360, device='cuda:0'), tensor(-0.1114, device='cuda:0'), tensor(0.0929, device='cuda:0'), tensor(-0.2563, device='cuda:0'), tensor(-0.1342, device='cuda:0'), tensor(-0.0068, device='cuda:0'), tensor(-0.1905, device='cuda:0'), tensor(0.2560, device='cuda:0'), tensor(0.0127, device='cuda:0'), tensor(-0.1776, device='cuda:0'), tensor(-0.2228, device='cuda:0')]\n",
      "detokenized ['[CLS]', 'offers', 'us', 'the', 'sense', 'that', 'on', 'some', 'elemental', 'level', ',', 'lil', 'ia', 'deeply', 'wants', 'to', 'break', 'free', 'of', 'her', 'old', 'life', '.', '[SEP]']\n",
      "len conti_raw 23\n",
      "conti_raw ['[CLS]', 'offers', 'us', 'the', 'sense', 'that', 'on', 'some', 'elemental', 'level', ',', 'lilia', 'deeply', 'wants', 'to', 'break', 'free', 'of', 'her', 'old', 'life', '.', '[SEP]']\n",
      "word attri tensor([ 0.5353,  0.0993,  0.0586,  0.0029,  0.0726,  0.2380,  0.2684,  0.0158,\n",
      "         0.2253, -0.0029,  0.2812,  0.1814, -0.0479,  0.3360, -0.1114,  0.0929,\n",
      "        -0.2563, -0.1342, -0.0068, -0.1905,  0.2560,  0.0127, -0.1776, -0.2228],\n",
      "       device='cuda:0')\n",
      "conti attri tensor([ 0.5353,  0.0993,  0.0586,  0.0029,  0.0726,  0.2380,  0.2684,  0.0158,\n",
      "         0.2253, -0.0029,  0.2812,  0.0668,  0.3360, -0.1114,  0.0929, -0.2563,\n",
      "        -0.1342, -0.0068, -0.1905,  0.2560,  0.0127, -0.1776, -0.2228])\n"
     ]
    },
    {
     "data": {
      "text/html": [
       "<table width: 100%><div style=\"border-top: 1px solid; margin-top: 5px;             padding-top: 5px; display: inline-block\"><b>Legend: </b><span style=\"display: inline-block; width: 10px; height: 10px;                 border: 1px solid; background-color:                 hsl(0, 75%, 60%)\"></span> Negative  <span style=\"display: inline-block; width: 10px; height: 10px;                 border: 1px solid; background-color:                 hsl(0, 75%, 100%)\"></span> Neutral  <span style=\"display: inline-block; width: 10px; height: 10px;                 border: 1px solid; background-color:                 hsl(120, 75%, 50%)\"></span> Positive  </div><tr><th>True Label</th><th>Predicted Label</th><th>Attribution Label</th><th>Attribution Score</th><th>Word Importance</th><tr><td><text style=\"padding-right:2em\"><b>Pos</b></text></td><td><text style=\"padding-right:2em\"><b>Pos (0.96)</b></text></td><td><text style=\"padding-right:2em\"><b>Pos</b></text></td><td><text style=\"padding-right:2em\"><b>1.53</b></text></td><td><mark style=\"background-color: hsl(120, 75%, 74%); opacity:1.0;                     line-height:1.75\"><font color=\"black\"> [CLS]                    </font></mark><mark style=\"background-color: hsl(120, 75%, 96%); opacity:1.0;                     line-height:1.75\"><font color=\"black\"> offers                    </font></mark><mark style=\"background-color: hsl(120, 75%, 98%); opacity:1.0;                     line-height:1.75\"><font color=\"black\"> us                    </font></mark><mark style=\"background-color: hsl(120, 75%, 100%); opacity:1.0;                     line-height:1.75\"><font color=\"black\"> the                    </font></mark><mark style=\"background-color: hsl(120, 75%, 97%); opacity:1.0;                     line-height:1.75\"><font color=\"black\"> sense                    </font></mark><mark style=\"background-color: hsl(120, 75%, 89%); opacity:1.0;                     line-height:1.75\"><font color=\"black\"> that                    </font></mark><mark style=\"background-color: hsl(120, 75%, 87%); opacity:1.0;                     line-height:1.75\"><font color=\"black\"> on                    </font></mark><mark style=\"background-color: hsl(120, 75%, 100%); opacity:1.0;                     line-height:1.75\"><font color=\"black\"> some                    </font></mark><mark style=\"background-color: hsl(120, 75%, 89%); opacity:1.0;                     line-height:1.75\"><font color=\"black\"> elemental                    </font></mark><mark style=\"background-color: hsl(0, 75%, 100%); opacity:1.0;                     line-height:1.75\"><font color=\"black\"> level                    </font></mark><mark style=\"background-color: hsl(120, 75%, 86%); opacity:1.0;                     line-height:1.75\"><font color=\"black\"> ,                    </font></mark><mark style=\"background-color: hsl(120, 75%, 97%); opacity:1.0;                     line-height:1.75\"><font color=\"black\"> lilia                    </font></mark><mark style=\"background-color: hsl(120, 75%, 84%); opacity:1.0;                     line-height:1.75\"><font color=\"black\"> deeply                    </font></mark><mark style=\"background-color: hsl(0, 75%, 96%); opacity:1.0;                     line-height:1.75\"><font color=\"black\"> wants                    </font></mark><mark style=\"background-color: hsl(120, 75%, 96%); opacity:1.0;                     line-height:1.75\"><font color=\"black\"> to                    </font></mark><mark style=\"background-color: hsl(0, 75%, 90%); opacity:1.0;                     line-height:1.75\"><font color=\"black\"> break                    </font></mark><mark style=\"background-color: hsl(0, 75%, 95%); opacity:1.0;                     line-height:1.75\"><font color=\"black\"> free                    </font></mark><mark style=\"background-color: hsl(0, 75%, 100%); opacity:1.0;                     line-height:1.75\"><font color=\"black\"> of                    </font></mark><mark style=\"background-color: hsl(0, 75%, 93%); opacity:1.0;                     line-height:1.75\"><font color=\"black\"> her                    </font></mark><mark style=\"background-color: hsl(120, 75%, 88%); opacity:1.0;                     line-height:1.75\"><font color=\"black\"> old                    </font></mark><mark style=\"background-color: hsl(120, 75%, 100%); opacity:1.0;                     line-height:1.75\"><font color=\"black\"> life                    </font></mark><mark style=\"background-color: hsl(0, 75%, 93%); opacity:1.0;                     line-height:1.75\"><font color=\"black\"> .                    </font></mark><mark style=\"background-color: hsl(0, 75%, 92%); opacity:1.0;                     line-height:1.75\"><font color=\"black\"> [SEP]                    </font></mark></td><tr></table>"
      ],
      "text/plain": [
       "<IPython.core.display.HTML object>"
      ]
     },
     "metadata": {},
     "output_type": "display_data"
    },
    {
     "name": "stdout",
     "output_type": "stream",
     "text": [
      "<IPython.core.display.HTML object>\n",
      "Raw review: might be best forgotten \n",
      "GT target: 0\n",
      "deotk ['[CLS]', 'might', 'be', 'best', 'forgotten', '[SEP]']\n"
     ]
    },
    {
     "name": "stderr",
     "output_type": "stream",
     "text": [
      "Lime attribution: 100%|████████████████████████████████████████████████████████████████████████████████████████████████████████| 25/25 [00:01<00:00, 12.68it/s]\n"
     ]
    },
    {
     "name": "stdout",
     "output_type": "stream",
     "text": [
      "word attr tensor([-0.3068,  0.5404,  0.3908,  0.2922,  0.2500,  0.5597], device='cuda:0')\n",
      "conti attr [tensor(-0.3068, device='cuda:0'), tensor(0.5404, device='cuda:0'), tensor(0.3908, device='cuda:0'), tensor(0.2922, device='cuda:0'), tensor(0.2500, device='cuda:0'), tensor(0.5597, device='cuda:0')]\n",
      "detokenized ['[CLS]', 'might', 'be', 'best', 'forgotten', '[SEP]']\n",
      "len conti_raw 6\n",
      "conti_raw ['[CLS]', 'might', 'be', 'best', 'forgotten', '[SEP]']\n",
      "word attri tensor([-0.3068,  0.5404,  0.3908,  0.2922,  0.2500,  0.5597], device='cuda:0')\n",
      "conti attri tensor([-0.3068,  0.5404,  0.3908,  0.2922,  0.2500,  0.5597])\n"
     ]
    },
    {
     "name": "stderr",
     "output_type": "stream",
     "text": [
      "/home/user/anaconda3/envs/metric/lib/python3.9/site-packages/sklearn/linear_model/_coordinate_descent.py:647: ConvergenceWarning: Objective did not converge. You might want to increase the number of iterations, check the scale of the features or consider increasing regularisation. Duality gap: 2.702e-02, tolerance: 2.454e-02\n",
      "  model = cd_fast.enet_coordinate_descent(\n"
     ]
    },
    {
     "data": {
      "text/html": [
       "<table width: 100%><div style=\"border-top: 1px solid; margin-top: 5px;             padding-top: 5px; display: inline-block\"><b>Legend: </b><span style=\"display: inline-block; width: 10px; height: 10px;                 border: 1px solid; background-color:                 hsl(0, 75%, 60%)\"></span> Negative  <span style=\"display: inline-block; width: 10px; height: 10px;                 border: 1px solid; background-color:                 hsl(0, 75%, 100%)\"></span> Neutral  <span style=\"display: inline-block; width: 10px; height: 10px;                 border: 1px solid; background-color:                 hsl(120, 75%, 50%)\"></span> Positive  </div><tr><th>True Label</th><th>Predicted Label</th><th>Attribution Label</th><th>Attribution Score</th><th>Word Importance</th><tr><td><text style=\"padding-right:2em\"><b>Neg</b></text></td><td><text style=\"padding-right:2em\"><b>Neg (0.07)</b></text></td><td><text style=\"padding-right:2em\"><b>Pos</b></text></td><td><text style=\"padding-right:2em\"><b>1.73</b></text></td><td><mark style=\"background-color: hsl(0, 75%, 88%); opacity:1.0;                     line-height:1.75\"><font color=\"black\"> [CLS]                    </font></mark><mark style=\"background-color: hsl(120, 75%, 73%); opacity:1.0;                     line-height:1.75\"><font color=\"black\"> might                    </font></mark><mark style=\"background-color: hsl(120, 75%, 81%); opacity:1.0;                     line-height:1.75\"><font color=\"black\"> be                    </font></mark><mark style=\"background-color: hsl(120, 75%, 86%); opacity:1.0;                     line-height:1.75\"><font color=\"black\"> best                    </font></mark><mark style=\"background-color: hsl(120, 75%, 88%); opacity:1.0;                     line-height:1.75\"><font color=\"black\"> forgotten                    </font></mark><mark style=\"background-color: hsl(120, 75%, 73%); opacity:1.0;                     line-height:1.75\"><font color=\"black\"> [SEP]                    </font></mark></td><tr></table>"
      ],
      "text/plain": [
       "<IPython.core.display.HTML object>"
      ]
     },
     "metadata": {},
     "output_type": "display_data"
    },
    {
     "name": "stderr",
     "output_type": "stream",
     "text": [
      "/home/user/anaconda3/envs/metric/lib/python3.9/site-packages/captum/attr/_core/lime.py:1096: UserWarning: Attempting to construct interpretable model with > 10000 features.This can be very slow or lead to OOM issues. Please provide a featuremask which groups input features to reduce the number of interpretablefeatures. \n",
      "  warnings.warn(\n"
     ]
    },
    {
     "name": "stdout",
     "output_type": "stream",
     "text": [
      "<IPython.core.display.HTML object>\n",
      "Raw review: a substantial arc of change that does n't produce any real transformation \n",
      "GT target: 0\n",
      "deotk ['[CLS]', 'a', 'substantial', 'arc', 'of', 'change', 'that', 'does', 'n', \"'\", 't', 'produce', 'any', 'real', 'transformation', '[SEP]']\n"
     ]
    },
    {
     "name": "stderr",
     "output_type": "stream",
     "text": [
      "Lime attribution: 100%|████████████████████████████████████████████████████████████████████████████████████████████████████████| 25/25 [00:02<00:00,  9.83it/s]\n",
      "/home/user/anaconda3/envs/metric/lib/python3.9/site-packages/sklearn/linear_model/_coordinate_descent.py:647: ConvergenceWarning: Objective did not converge. You might want to increase the number of iterations, check the scale of the features or consider increasing regularisation. Duality gap: 3.019e-04, tolerance: 1.579e-04\n",
      "  model = cd_fast.enet_coordinate_descent(\n"
     ]
    },
    {
     "name": "stdout",
     "output_type": "stream",
     "text": [
      "word attr tensor([ 0.2429,  0.3202, -0.0876, -0.0584,  0.2122, -0.0387, -0.5829, -0.3046,\n",
      "        -0.0991,  0.1122, -0.1669,  0.2458, -0.4579,  0.0980, -0.0528, -0.1251],\n",
      "       device='cuda:0')\n",
      "conti attr [tensor(0.2429, device='cuda:0'), tensor(0.3202, device='cuda:0'), tensor(-0.0876, device='cuda:0'), tensor(-0.0584, device='cuda:0'), tensor(0.2122, device='cuda:0'), tensor(-0.0387, device='cuda:0'), tensor(-0.5829, device='cuda:0'), tensor(-0.3046, device='cuda:0'), tensor(-0.0802, device='cuda:0'), tensor(0.2458, device='cuda:0'), tensor(-0.4579, device='cuda:0'), tensor(0.0980, device='cuda:0'), tensor(-0.0528, device='cuda:0'), tensor(-0.1251, device='cuda:0')]\n",
      "detokenized ['[CLS]', 'a', 'substantial', 'arc', 'of', 'change', 'that', 'does', 'n', \"'\", 't', 'produce', 'any', 'real', 'transformation', '[SEP]']\n",
      "len conti_raw 14\n",
      "conti_raw ['[CLS]', 'a', 'substantial', 'arc', 'of', 'change', 'that', 'does', \"n't\", 'produce', 'any', 'real', 'transformation', '[SEP]']\n",
      "word attri tensor([ 0.2429,  0.3202, -0.0876, -0.0584,  0.2122, -0.0387, -0.5829, -0.3046,\n",
      "        -0.0991,  0.1122, -0.1669,  0.2458, -0.4579,  0.0980, -0.0528, -0.1251],\n",
      "       device='cuda:0')\n",
      "conti attri tensor([ 0.2429,  0.3202, -0.0876, -0.0584,  0.2122, -0.0387, -0.5829, -0.3046,\n",
      "        -0.0802,  0.2458, -0.4579,  0.0980, -0.0528, -0.1251])\n"
     ]
    },
    {
     "data": {
      "text/html": [
       "<table width: 100%><div style=\"border-top: 1px solid; margin-top: 5px;             padding-top: 5px; display: inline-block\"><b>Legend: </b><span style=\"display: inline-block; width: 10px; height: 10px;                 border: 1px solid; background-color:                 hsl(0, 75%, 60%)\"></span> Negative  <span style=\"display: inline-block; width: 10px; height: 10px;                 border: 1px solid; background-color:                 hsl(0, 75%, 100%)\"></span> Neutral  <span style=\"display: inline-block; width: 10px; height: 10px;                 border: 1px solid; background-color:                 hsl(120, 75%, 50%)\"></span> Positive  </div><tr><th>True Label</th><th>Predicted Label</th><th>Attribution Label</th><th>Attribution Score</th><th>Word Importance</th><tr><td><text style=\"padding-right:2em\"><b>Neg</b></text></td><td><text style=\"padding-right:2em\"><b>Neg (0.04)</b></text></td><td><text style=\"padding-right:2em\"><b>Neg</b></text></td><td><text style=\"padding-right:2em\"><b>-0.74</b></text></td><td><mark style=\"background-color: hsl(120, 75%, 88%); opacity:1.0;                     line-height:1.75\"><font color=\"black\"> [CLS]                    </font></mark><mark style=\"background-color: hsl(120, 75%, 84%); opacity:1.0;                     line-height:1.75\"><font color=\"black\"> a                    </font></mark><mark style=\"background-color: hsl(0, 75%, 97%); opacity:1.0;                     line-height:1.75\"><font color=\"black\"> substantial                    </font></mark><mark style=\"background-color: hsl(0, 75%, 98%); opacity:1.0;                     line-height:1.75\"><font color=\"black\"> arc                    </font></mark><mark style=\"background-color: hsl(120, 75%, 90%); opacity:1.0;                     line-height:1.75\"><font color=\"black\"> of                    </font></mark><mark style=\"background-color: hsl(0, 75%, 99%); opacity:1.0;                     line-height:1.75\"><font color=\"black\"> change                    </font></mark><mark style=\"background-color: hsl(0, 75%, 77%); opacity:1.0;                     line-height:1.75\"><font color=\"black\"> that                    </font></mark><mark style=\"background-color: hsl(0, 75%, 88%); opacity:1.0;                     line-height:1.75\"><font color=\"black\"> does                    </font></mark><mark style=\"background-color: hsl(0, 75%, 97%); opacity:1.0;                     line-height:1.75\"><font color=\"black\"> n't                    </font></mark><mark style=\"background-color: hsl(120, 75%, 88%); opacity:1.0;                     line-height:1.75\"><font color=\"black\"> produce                    </font></mark><mark style=\"background-color: hsl(0, 75%, 82%); opacity:1.0;                     line-height:1.75\"><font color=\"black\"> any                    </font></mark><mark style=\"background-color: hsl(120, 75%, 96%); opacity:1.0;                     line-height:1.75\"><font color=\"black\"> real                    </font></mark><mark style=\"background-color: hsl(0, 75%, 98%); opacity:1.0;                     line-height:1.75\"><font color=\"black\"> transformation                    </font></mark><mark style=\"background-color: hsl(0, 75%, 95%); opacity:1.0;                     line-height:1.75\"><font color=\"black\"> [SEP]                    </font></mark></td><tr></table>"
      ],
      "text/plain": [
       "<IPython.core.display.HTML object>"
      ]
     },
     "metadata": {},
     "output_type": "display_data"
    },
    {
     "name": "stdout",
     "output_type": "stream",
     "text": [
      "<IPython.core.display.HTML object>\n",
      "Raw review: unadorned \n",
      "GT target: 0\n",
      "deotk ['[CLS]', 'una', 'dor', 'ned', '[SEP]']\n"
     ]
    },
    {
     "name": "stderr",
     "output_type": "stream",
     "text": [
      "Lime attribution: 100%|████████████████████████████████████████████████████████████████████████████████████████████████████████| 25/25 [00:01<00:00, 13.34it/s]\n"
     ]
    },
    {
     "name": "stdout",
     "output_type": "stream",
     "text": [
      "word attr tensor([ 0.6805, -0.1571, -0.6217, -0.1402,  0.3257], device='cuda:0')\n",
      "conti attr [tensor(0.6805, device='cuda:0'), tensor(-0.2648, device='cuda:0'), tensor(0.3257, device='cuda:0')]\n",
      "detokenized ['[CLS]', 'una', 'dor', 'ned', '[SEP]']\n",
      "len conti_raw 3\n",
      "conti_raw ['[CLS]', 'unadorned', '[SEP]']\n",
      "word attri tensor([ 0.6805, -0.1571, -0.6217, -0.1402,  0.3257], device='cuda:0')\n",
      "conti attri tensor([ 0.6805, -0.2648,  0.3257])\n"
     ]
    },
    {
     "data": {
      "text/html": [
       "<table width: 100%><div style=\"border-top: 1px solid; margin-top: 5px;             padding-top: 5px; display: inline-block\"><b>Legend: </b><span style=\"display: inline-block; width: 10px; height: 10px;                 border: 1px solid; background-color:                 hsl(0, 75%, 60%)\"></span> Negative  <span style=\"display: inline-block; width: 10px; height: 10px;                 border: 1px solid; background-color:                 hsl(0, 75%, 100%)\"></span> Neutral  <span style=\"display: inline-block; width: 10px; height: 10px;                 border: 1px solid; background-color:                 hsl(120, 75%, 50%)\"></span> Positive  </div><tr><th>True Label</th><th>Predicted Label</th><th>Attribution Label</th><th>Attribution Score</th><th>Word Importance</th><tr><td><text style=\"padding-right:2em\"><b>Neg</b></text></td><td><text style=\"padding-right:2em\"><b>Neg (0.06)</b></text></td><td><text style=\"padding-right:2em\"><b>Neg</b></text></td><td><text style=\"padding-right:2em\"><b>0.09</b></text></td><td><mark style=\"background-color: hsl(120, 75%, 66%); opacity:1.0;                     line-height:1.75\"><font color=\"black\"> [CLS]                    </font></mark><mark style=\"background-color: hsl(0, 75%, 90%); opacity:1.0;                     line-height:1.75\"><font color=\"black\"> unadorned                    </font></mark><mark style=\"background-color: hsl(120, 75%, 84%); opacity:1.0;                     line-height:1.75\"><font color=\"black\"> [SEP]                    </font></mark></td><tr></table>"
      ],
      "text/plain": [
       "<IPython.core.display.HTML object>"
      ]
     },
     "metadata": {},
     "output_type": "display_data"
    },
    {
     "name": "stderr",
     "output_type": "stream",
     "text": [
      "/home/user/anaconda3/envs/metric/lib/python3.9/site-packages/captum/attr/_core/lime.py:1096: UserWarning: Attempting to construct interpretable model with > 10000 features.This can be very slow or lead to OOM issues. Please provide a featuremask which groups input features to reduce the number of interpretablefeatures. \n",
      "  warnings.warn(\n"
     ]
    },
    {
     "name": "stdout",
     "output_type": "stream",
     "text": [
      "<IPython.core.display.HTML object>\n",
      "Raw review: this is the kind of movie that you only need to watch for about thirty seconds before you say to yourself , ` ah , yes , here we have a bad , bad , bad movie . ' \n",
      "GT target: 0\n",
      "deotk ['[CLS]', 'this', 'is', 'the', 'kind', 'of', 'movie', 'that', 'you', 'only', 'need', 'to', 'watch', 'for', 'about', 'thirty', 'seconds', 'before', 'you', 'say', 'to', 'yourself', ',', '`', 'ah', ',', 'yes', ',', 'here', 'we', 'have', 'a', 'bad', ',', 'bad', ',', 'bad', 'movie', '.', \"'\", '[SEP]']\n"
     ]
    },
    {
     "name": "stderr",
     "output_type": "stream",
     "text": [
      "Lime attribution: 100%|████████████████████████████████████████████████████████████████████████████████████████████████████████| 25/25 [00:04<00:00,  6.07it/s]\n"
     ]
    },
    {
     "name": "stdout",
     "output_type": "stream",
     "text": [
      "word attr tensor([ 0.6432,  0.0517,  0.1363,  0.0878,  0.0610, -0.0622,  0.1744, -0.1098,\n",
      "         0.1115,  0.1025,  0.0481, -0.1699,  0.0400, -0.1758,  0.0588, -0.1731,\n",
      "        -0.1473, -0.1308, -0.1750, -0.0083, -0.1199,  0.0338, -0.0983, -0.1468,\n",
      "        -0.0791, -0.1355, -0.0394,  0.2816,  0.1080, -0.0083,  0.1476,  0.0139,\n",
      "         0.1524, -0.0928,  0.1132, -0.2139, -0.1084, -0.1470, -0.0201, -0.0873,\n",
      "         0.0095], device='cuda:0')\n",
      "conti attr [tensor(0.6432, device='cuda:0'), tensor(0.0517, device='cuda:0'), tensor(0.1363, device='cuda:0'), tensor(0.0878, device='cuda:0'), tensor(0.0610, device='cuda:0'), tensor(-0.0622, device='cuda:0'), tensor(0.1744, device='cuda:0'), tensor(-0.1098, device='cuda:0'), tensor(0.1115, device='cuda:0'), tensor(0.1025, device='cuda:0'), tensor(0.0481, device='cuda:0'), tensor(-0.1699, device='cuda:0'), tensor(0.0400, device='cuda:0'), tensor(-0.1758, device='cuda:0'), tensor(0.0588, device='cuda:0'), tensor(-0.1731, device='cuda:0'), tensor(-0.1473, device='cuda:0'), tensor(-0.1308, device='cuda:0'), tensor(-0.1750, device='cuda:0'), tensor(-0.0083, device='cuda:0'), tensor(-0.1199, device='cuda:0'), tensor(0.0338, device='cuda:0'), tensor(-0.0983, device='cuda:0'), tensor(-0.1468, device='cuda:0'), tensor(-0.0791, device='cuda:0'), tensor(-0.1355, device='cuda:0'), tensor(-0.0394, device='cuda:0'), tensor(0.2816, device='cuda:0'), tensor(0.1080, device='cuda:0'), tensor(-0.0083, device='cuda:0'), tensor(0.1476, device='cuda:0'), tensor(0.0139, device='cuda:0'), tensor(0.1524, device='cuda:0'), tensor(-0.0928, device='cuda:0'), tensor(0.1132, device='cuda:0'), tensor(-0.2139, device='cuda:0'), tensor(-0.1084, device='cuda:0'), tensor(-0.1470, device='cuda:0'), tensor(-0.0201, device='cuda:0'), tensor(-0.0873, device='cuda:0'), tensor(0.0095, device='cuda:0')]\n",
      "detokenized ['[CLS]', 'this', 'is', 'the', 'kind', 'of', 'movie', 'that', 'you', 'only', 'need', 'to', 'watch', 'for', 'about', 'thirty', 'seconds', 'before', 'you', 'say', 'to', 'yourself', ',', '`', 'ah', ',', 'yes', ',', 'here', 'we', 'have', 'a', 'bad', ',', 'bad', ',', 'bad', 'movie', '.', \"'\", '[SEP]']\n",
      "len conti_raw 41\n",
      "conti_raw ['[CLS]', 'this', 'is', 'the', 'kind', 'of', 'movie', 'that', 'you', 'only', 'need', 'to', 'watch', 'for', 'about', 'thirty', 'seconds', 'before', 'you', 'say', 'to', 'yourself', ',', '`', 'ah', ',', 'yes', ',', 'here', 'we', 'have', 'a', 'bad', ',', 'bad', ',', 'bad', 'movie', '.', \"'\", '[SEP]']\n",
      "word attri tensor([ 0.6432,  0.0517,  0.1363,  0.0878,  0.0610, -0.0622,  0.1744, -0.1098,\n",
      "         0.1115,  0.1025,  0.0481, -0.1699,  0.0400, -0.1758,  0.0588, -0.1731,\n",
      "        -0.1473, -0.1308, -0.1750, -0.0083, -0.1199,  0.0338, -0.0983, -0.1468,\n",
      "        -0.0791, -0.1355, -0.0394,  0.2816,  0.1080, -0.0083,  0.1476,  0.0139,\n",
      "         0.1524, -0.0928,  0.1132, -0.2139, -0.1084, -0.1470, -0.0201, -0.0873,\n",
      "         0.0095], device='cuda:0')\n",
      "conti attri tensor([ 0.6432,  0.0517,  0.1363,  0.0878,  0.0610, -0.0622,  0.1744, -0.1098,\n",
      "         0.1115,  0.1025,  0.0481, -0.1699,  0.0400, -0.1758,  0.0588, -0.1731,\n",
      "        -0.1473, -0.1308, -0.1750, -0.0083, -0.1199,  0.0338, -0.0983, -0.1468,\n",
      "        -0.0791, -0.1355, -0.0394,  0.2816,  0.1080, -0.0083,  0.1476,  0.0139,\n",
      "         0.1524, -0.0928,  0.1132, -0.2139, -0.1084, -0.1470, -0.0201, -0.0873,\n",
      "         0.0095])\n"
     ]
    },
    {
     "data": {
      "text/html": [
       "<table width: 100%><div style=\"border-top: 1px solid; margin-top: 5px;             padding-top: 5px; display: inline-block\"><b>Legend: </b><span style=\"display: inline-block; width: 10px; height: 10px;                 border: 1px solid; background-color:                 hsl(0, 75%, 60%)\"></span> Negative  <span style=\"display: inline-block; width: 10px; height: 10px;                 border: 1px solid; background-color:                 hsl(0, 75%, 100%)\"></span> Neutral  <span style=\"display: inline-block; width: 10px; height: 10px;                 border: 1px solid; background-color:                 hsl(120, 75%, 50%)\"></span> Positive  </div><tr><th>True Label</th><th>Predicted Label</th><th>Attribution Label</th><th>Attribution Score</th><th>Word Importance</th><tr><td><text style=\"padding-right:2em\"><b>Neg</b></text></td><td><text style=\"padding-right:2em\"><b>Neg (0.07)</b></text></td><td><text style=\"padding-right:2em\"><b>Neg</b></text></td><td><text style=\"padding-right:2em\"><b>-0.07</b></text></td><td><mark style=\"background-color: hsl(120, 75%, 68%); opacity:1.0;                     line-height:1.75\"><font color=\"black\"> [CLS]                    </font></mark><mark style=\"background-color: hsl(120, 75%, 98%); opacity:1.0;                     line-height:1.75\"><font color=\"black\"> this                    </font></mark><mark style=\"background-color: hsl(120, 75%, 94%); opacity:1.0;                     line-height:1.75\"><font color=\"black\"> is                    </font></mark><mark style=\"background-color: hsl(120, 75%, 96%); opacity:1.0;                     line-height:1.75\"><font color=\"black\"> the                    </font></mark><mark style=\"background-color: hsl(120, 75%, 97%); opacity:1.0;                     line-height:1.75\"><font color=\"black\"> kind                    </font></mark><mark style=\"background-color: hsl(0, 75%, 98%); opacity:1.0;                     line-height:1.75\"><font color=\"black\"> of                    </font></mark><mark style=\"background-color: hsl(120, 75%, 92%); opacity:1.0;                     line-height:1.75\"><font color=\"black\"> movie                    </font></mark><mark style=\"background-color: hsl(0, 75%, 96%); opacity:1.0;                     line-height:1.75\"><font color=\"black\"> that                    </font></mark><mark style=\"background-color: hsl(120, 75%, 95%); opacity:1.0;                     line-height:1.75\"><font color=\"black\"> you                    </font></mark><mark style=\"background-color: hsl(120, 75%, 95%); opacity:1.0;                     line-height:1.75\"><font color=\"black\"> only                    </font></mark><mark style=\"background-color: hsl(120, 75%, 98%); opacity:1.0;                     line-height:1.75\"><font color=\"black\"> need                    </font></mark><mark style=\"background-color: hsl(0, 75%, 94%); opacity:1.0;                     line-height:1.75\"><font color=\"black\"> to                    </font></mark><mark style=\"background-color: hsl(120, 75%, 98%); opacity:1.0;                     line-height:1.75\"><font color=\"black\"> watch                    </font></mark><mark style=\"background-color: hsl(0, 75%, 93%); opacity:1.0;                     line-height:1.75\"><font color=\"black\"> for                    </font></mark><mark style=\"background-color: hsl(120, 75%, 98%); opacity:1.0;                     line-height:1.75\"><font color=\"black\"> about                    </font></mark><mark style=\"background-color: hsl(0, 75%, 94%); opacity:1.0;                     line-height:1.75\"><font color=\"black\"> thirty                    </font></mark><mark style=\"background-color: hsl(0, 75%, 95%); opacity:1.0;                     line-height:1.75\"><font color=\"black\"> seconds                    </font></mark><mark style=\"background-color: hsl(0, 75%, 95%); opacity:1.0;                     line-height:1.75\"><font color=\"black\"> before                    </font></mark><mark style=\"background-color: hsl(0, 75%, 93%); opacity:1.0;                     line-height:1.75\"><font color=\"black\"> you                    </font></mark><mark style=\"background-color: hsl(0, 75%, 100%); opacity:1.0;                     line-height:1.75\"><font color=\"black\"> say                    </font></mark><mark style=\"background-color: hsl(0, 75%, 96%); opacity:1.0;                     line-height:1.75\"><font color=\"black\"> to                    </font></mark><mark style=\"background-color: hsl(120, 75%, 99%); opacity:1.0;                     line-height:1.75\"><font color=\"black\"> yourself                    </font></mark><mark style=\"background-color: hsl(0, 75%, 97%); opacity:1.0;                     line-height:1.75\"><font color=\"black\"> ,                    </font></mark><mark style=\"background-color: hsl(0, 75%, 95%); opacity:1.0;                     line-height:1.75\"><font color=\"black\"> `                    </font></mark><mark style=\"background-color: hsl(0, 75%, 97%); opacity:1.0;                     line-height:1.75\"><font color=\"black\"> ah                    </font></mark><mark style=\"background-color: hsl(0, 75%, 95%); opacity:1.0;                     line-height:1.75\"><font color=\"black\"> ,                    </font></mark><mark style=\"background-color: hsl(0, 75%, 99%); opacity:1.0;                     line-height:1.75\"><font color=\"black\"> yes                    </font></mark><mark style=\"background-color: hsl(120, 75%, 86%); opacity:1.0;                     line-height:1.75\"><font color=\"black\"> ,                    </font></mark><mark style=\"background-color: hsl(120, 75%, 95%); opacity:1.0;                     line-height:1.75\"><font color=\"black\"> here                    </font></mark><mark style=\"background-color: hsl(0, 75%, 100%); opacity:1.0;                     line-height:1.75\"><font color=\"black\"> we                    </font></mark><mark style=\"background-color: hsl(120, 75%, 93%); opacity:1.0;                     line-height:1.75\"><font color=\"black\"> have                    </font></mark><mark style=\"background-color: hsl(120, 75%, 100%); opacity:1.0;                     line-height:1.75\"><font color=\"black\"> a                    </font></mark><mark style=\"background-color: hsl(120, 75%, 93%); opacity:1.0;                     line-height:1.75\"><font color=\"black\"> bad                    </font></mark><mark style=\"background-color: hsl(0, 75%, 97%); opacity:1.0;                     line-height:1.75\"><font color=\"black\"> ,                    </font></mark><mark style=\"background-color: hsl(120, 75%, 95%); opacity:1.0;                     line-height:1.75\"><font color=\"black\"> bad                    </font></mark><mark style=\"background-color: hsl(0, 75%, 92%); opacity:1.0;                     line-height:1.75\"><font color=\"black\"> ,                    </font></mark><mark style=\"background-color: hsl(0, 75%, 96%); opacity:1.0;                     line-height:1.75\"><font color=\"black\"> bad                    </font></mark><mark style=\"background-color: hsl(0, 75%, 95%); opacity:1.0;                     line-height:1.75\"><font color=\"black\"> movie                    </font></mark><mark style=\"background-color: hsl(0, 75%, 100%); opacity:1.0;                     line-height:1.75\"><font color=\"black\"> .                    </font></mark><mark style=\"background-color: hsl(0, 75%, 97%); opacity:1.0;                     line-height:1.75\"><font color=\"black\"> '                    </font></mark><mark style=\"background-color: hsl(120, 75%, 100%); opacity:1.0;                     line-height:1.75\"><font color=\"black\"> [SEP]                    </font></mark></td><tr></table>"
      ],
      "text/plain": [
       "<IPython.core.display.HTML object>"
      ]
     },
     "metadata": {},
     "output_type": "display_data"
    },
    {
     "name": "stdout",
     "output_type": "stream",
     "text": [
      "<IPython.core.display.HTML object>\n",
      "Raw review: feel sanitised and stagey \n",
      "GT target: 0\n",
      "deotk ['[CLS]', 'feel', 'san', 'itis', 'ed', 'and', 'stage', 'y', '[SEP]']\n"
     ]
    },
    {
     "name": "stderr",
     "output_type": "stream",
     "text": [
      "Lime attribution: 100%|████████████████████████████████████████████████████████████████████████████████████████████████████████| 25/25 [00:02<00:00, 11.38it/s]\n",
      "/home/user/anaconda3/envs/metric/lib/python3.9/site-packages/sklearn/linear_model/_coordinate_descent.py:647: ConvergenceWarning: Objective did not converge. You might want to increase the number of iterations, check the scale of the features or consider increasing regularisation. Duality gap: 2.769e-01, tolerance: 4.077e-02\n",
      "  model = cd_fast.enet_coordinate_descent(\n"
     ]
    },
    {
     "name": "stdout",
     "output_type": "stream",
     "text": [
      "word attr tensor([ 0.0565, -0.0273,  0.5819, -0.2653,  0.2582, -0.3312, -0.1354, -0.5877,\n",
      "        -0.2167], device='cuda:0')\n",
      "conti attr [tensor(0.0565, device='cuda:0'), tensor(-0.0273, device='cuda:0'), tensor(0.2083, device='cuda:0'), tensor(-0.3312, device='cuda:0'), tensor(-0.3616, device='cuda:0'), tensor(-0.2167, device='cuda:0')]\n",
      "detokenized ['[CLS]', 'feel', 'san', 'itis', 'ed', 'and', 'stage', 'y', '[SEP]']\n",
      "len conti_raw 6\n",
      "conti_raw ['[CLS]', 'feel', 'sanitised', 'and', 'stagey', '[SEP]']\n",
      "word attri tensor([ 0.0565, -0.0273,  0.5819, -0.2653,  0.2582, -0.3312, -0.1354, -0.5877,\n",
      "        -0.2167], device='cuda:0')\n",
      "conti attri tensor([ 0.0565, -0.0273,  0.2083, -0.3312, -0.3616, -0.2167])\n"
     ]
    },
    {
     "data": {
      "text/html": [
       "<table width: 100%><div style=\"border-top: 1px solid; margin-top: 5px;             padding-top: 5px; display: inline-block\"><b>Legend: </b><span style=\"display: inline-block; width: 10px; height: 10px;                 border: 1px solid; background-color:                 hsl(0, 75%, 60%)\"></span> Negative  <span style=\"display: inline-block; width: 10px; height: 10px;                 border: 1px solid; background-color:                 hsl(0, 75%, 100%)\"></span> Neutral  <span style=\"display: inline-block; width: 10px; height: 10px;                 border: 1px solid; background-color:                 hsl(120, 75%, 50%)\"></span> Positive  </div><tr><th>True Label</th><th>Predicted Label</th><th>Attribution Label</th><th>Attribution Score</th><th>Word Importance</th><tr><td><text style=\"padding-right:2em\"><b>Neg</b></text></td><td><text style=\"padding-right:2em\"><b>Neg (0.03)</b></text></td><td><text style=\"padding-right:2em\"><b>Neg</b></text></td><td><text style=\"padding-right:2em\"><b>-0.67</b></text></td><td><mark style=\"background-color: hsl(120, 75%, 98%); opacity:1.0;                     line-height:1.75\"><font color=\"black\"> [CLS]                    </font></mark><mark style=\"background-color: hsl(0, 75%, 99%); opacity:1.0;                     line-height:1.75\"><font color=\"black\"> feel                    </font></mark><mark style=\"background-color: hsl(120, 75%, 90%); opacity:1.0;                     line-height:1.75\"><font color=\"black\"> sanitised                    </font></mark><mark style=\"background-color: hsl(0, 75%, 87%); opacity:1.0;                     line-height:1.75\"><font color=\"black\"> and                    </font></mark><mark style=\"background-color: hsl(0, 75%, 86%); opacity:1.0;                     line-height:1.75\"><font color=\"black\"> stagey                    </font></mark><mark style=\"background-color: hsl(0, 75%, 92%); opacity:1.0;                     line-height:1.75\"><font color=\"black\"> [SEP]                    </font></mark></td><tr></table>"
      ],
      "text/plain": [
       "<IPython.core.display.HTML object>"
      ]
     },
     "metadata": {},
     "output_type": "display_data"
    },
    {
     "name": "stderr",
     "output_type": "stream",
     "text": [
      "/home/user/anaconda3/envs/metric/lib/python3.9/site-packages/captum/attr/_core/lime.py:1096: UserWarning: Attempting to construct interpretable model with > 10000 features.This can be very slow or lead to OOM issues. Please provide a featuremask which groups input features to reduce the number of interpretablefeatures. \n",
      "  warnings.warn(\n"
     ]
    },
    {
     "name": "stdout",
     "output_type": "stream",
     "text": [
      "<IPython.core.display.HTML object>\n",
      "Raw review: replete with stereotypical familial quandaries \n",
      "GT target: 0\n",
      "deotk ['[CLS]', 'rep', 'lete', 'with', 'stereo', 'typical', 'fa', 'mi', 'lia', 'l', 'quan', 'dar', 'ies', '[SEP]']\n"
     ]
    },
    {
     "name": "stderr",
     "output_type": "stream",
     "text": [
      "Lime attribution: 100%|████████████████████████████████████████████████████████████████████████████████████████████████████████| 25/25 [00:02<00:00,  9.90it/s]\n",
      "/home/user/anaconda3/envs/metric/lib/python3.9/site-packages/sklearn/linear_model/_coordinate_descent.py:647: ConvergenceWarning: Objective did not converge. You might want to increase the number of iterations, check the scale of the features or consider increasing regularisation. Duality gap: 2.203e-01, tolerance: 4.865e-02\n",
      "  model = cd_fast.enet_coordinate_descent(\n"
     ]
    },
    {
     "name": "stdout",
     "output_type": "stream",
     "text": [
      "word attr tensor([ 0.3334, -0.0870,  0.5655,  0.1700, -0.0273, -0.2320, -0.0290,  0.4543,\n",
      "        -0.0769, -0.1664,  0.1967,  0.1562, -0.4163,  0.0277], device='cuda:0')\n",
      "conti attr [tensor(0.3334, device='cuda:0'), tensor(0.2393, device='cuda:0'), tensor(0.1700, device='cuda:0'), tensor(-0.1296, device='cuda:0'), tensor(-0.0493, device='cuda:0'), tensor(-0.1199, device='cuda:0'), tensor(0.0277, device='cuda:0')]\n",
      "detokenized ['[CLS]', 'rep', 'lete', 'with', 'stereo', 'typical', 'fa', 'mi', 'lia', 'l', 'quan', 'dar', 'ies', '[SEP]']\n",
      "len conti_raw 7\n",
      "conti_raw ['[CLS]', 'replete', 'with', 'stereotypical', 'familial', 'quandaries', '[SEP]']\n",
      "word attri tensor([ 0.3334, -0.0870,  0.5655,  0.1700, -0.0273, -0.2320, -0.0290,  0.4543,\n",
      "        -0.0769, -0.1664,  0.1967,  0.1562, -0.4163,  0.0277], device='cuda:0')\n",
      "conti attri tensor([ 0.3334,  0.2393,  0.1700, -0.1296, -0.0493, -0.1199,  0.0277])\n"
     ]
    },
    {
     "data": {
      "text/html": [
       "<table width: 100%><div style=\"border-top: 1px solid; margin-top: 5px;             padding-top: 5px; display: inline-block\"><b>Legend: </b><span style=\"display: inline-block; width: 10px; height: 10px;                 border: 1px solid; background-color:                 hsl(0, 75%, 60%)\"></span> Negative  <span style=\"display: inline-block; width: 10px; height: 10px;                 border: 1px solid; background-color:                 hsl(0, 75%, 100%)\"></span> Neutral  <span style=\"display: inline-block; width: 10px; height: 10px;                 border: 1px solid; background-color:                 hsl(120, 75%, 50%)\"></span> Positive  </div><tr><th>True Label</th><th>Predicted Label</th><th>Attribution Label</th><th>Attribution Score</th><th>Word Importance</th><tr><td><text style=\"padding-right:2em\"><b>Neg</b></text></td><td><text style=\"padding-right:2em\"><b>Neg (0.08)</b></text></td><td><text style=\"padding-right:2em\"><b>Pos</b></text></td><td><text style=\"padding-right:2em\"><b>0.87</b></text></td><td><mark style=\"background-color: hsl(120, 75%, 84%); opacity:1.0;                     line-height:1.75\"><font color=\"black\"> [CLS]                    </font></mark><mark style=\"background-color: hsl(120, 75%, 89%); opacity:1.0;                     line-height:1.75\"><font color=\"black\"> replete                    </font></mark><mark style=\"background-color: hsl(120, 75%, 92%); opacity:1.0;                     line-height:1.75\"><font color=\"black\"> with                    </font></mark><mark style=\"background-color: hsl(0, 75%, 95%); opacity:1.0;                     line-height:1.75\"><font color=\"black\"> stereotypical                    </font></mark><mark style=\"background-color: hsl(0, 75%, 99%); opacity:1.0;                     line-height:1.75\"><font color=\"black\"> familial                    </font></mark><mark style=\"background-color: hsl(0, 75%, 96%); opacity:1.0;                     line-height:1.75\"><font color=\"black\"> quandaries                    </font></mark><mark style=\"background-color: hsl(120, 75%, 99%); opacity:1.0;                     line-height:1.75\"><font color=\"black\"> [SEP]                    </font></mark></td><tr></table>"
      ],
      "text/plain": [
       "<IPython.core.display.HTML object>"
      ]
     },
     "metadata": {},
     "output_type": "display_data"
    },
    {
     "name": "stdout",
     "output_type": "stream",
     "text": [
      "<IPython.core.display.HTML object>\n",
      "Raw review: quirky comedy \n",
      "GT target: 1\n",
      "deotk ['[CLS]', 'qui', 'rky', 'comedy', '[SEP]']\n"
     ]
    },
    {
     "name": "stderr",
     "output_type": "stream",
     "text": [
      "Lime attribution: 100%|████████████████████████████████████████████████████████████████████████████████████████████████████████| 25/25 [00:01<00:00, 13.09it/s]\n"
     ]
    },
    {
     "name": "stdout",
     "output_type": "stream",
     "text": [
      "word attr tensor([ 0.9683, -0.0030,  0.2033, -0.0542,  0.1348], device='cuda:0')\n",
      "conti attr [tensor(0.9683, device='cuda:0'), tensor(0.1002, device='cuda:0'), tensor(-0.0542, device='cuda:0'), tensor(0.1348, device='cuda:0')]\n",
      "detokenized ['[CLS]', 'qui', 'rky', 'comedy', '[SEP]']\n",
      "len conti_raw 4\n",
      "conti_raw ['[CLS]', 'quirky', 'comedy', '[SEP]']\n",
      "word attri tensor([ 0.9683, -0.0030,  0.2033, -0.0542,  0.1348], device='cuda:0')\n",
      "conti attri tensor([ 0.9683,  0.1002, -0.0542,  0.1348])\n"
     ]
    },
    {
     "data": {
      "text/html": [
       "<table width: 100%><div style=\"border-top: 1px solid; margin-top: 5px;             padding-top: 5px; display: inline-block\"><b>Legend: </b><span style=\"display: inline-block; width: 10px; height: 10px;                 border: 1px solid; background-color:                 hsl(0, 75%, 60%)\"></span> Negative  <span style=\"display: inline-block; width: 10px; height: 10px;                 border: 1px solid; background-color:                 hsl(0, 75%, 100%)\"></span> Neutral  <span style=\"display: inline-block; width: 10px; height: 10px;                 border: 1px solid; background-color:                 hsl(120, 75%, 50%)\"></span> Positive  </div><tr><th>True Label</th><th>Predicted Label</th><th>Attribution Label</th><th>Attribution Score</th><th>Word Importance</th><tr><td><text style=\"padding-right:2em\"><b>Pos</b></text></td><td><text style=\"padding-right:2em\"><b>Pos (0.97)</b></text></td><td><text style=\"padding-right:2em\"><b>Pos</b></text></td><td><text style=\"padding-right:2em\"><b>1.25</b></text></td><td><mark style=\"background-color: hsl(120, 75%, 52%); opacity:1.0;                     line-height:1.75\"><font color=\"black\"> [CLS]                    </font></mark><mark style=\"background-color: hsl(120, 75%, 95%); opacity:1.0;                     line-height:1.75\"><font color=\"black\"> quirky                    </font></mark><mark style=\"background-color: hsl(0, 75%, 98%); opacity:1.0;                     line-height:1.75\"><font color=\"black\"> comedy                    </font></mark><mark style=\"background-color: hsl(120, 75%, 94%); opacity:1.0;                     line-height:1.75\"><font color=\"black\"> [SEP]                    </font></mark></td><tr></table>"
      ],
      "text/plain": [
       "<IPython.core.display.HTML object>"
      ]
     },
     "metadata": {},
     "output_type": "display_data"
    },
    {
     "name": "stdout",
     "output_type": "stream",
     "text": [
      "<IPython.core.display.HTML object>\n",
      "Raw review: unrewarding \n",
      "GT target: 0\n",
      "deotk ['[CLS]', 'un', 'rew', 'arding', '[SEP]']\n"
     ]
    },
    {
     "name": "stderr",
     "output_type": "stream",
     "text": [
      "Lime attribution: 100%|████████████████████████████████████████████████████████████████████████████████████████████████████████| 25/25 [00:01<00:00, 13.23it/s]\n"
     ]
    },
    {
     "name": "stdout",
     "output_type": "stream",
     "text": [
      "word attr tensor([-0.1828, -0.0782,  0.1292, -0.8045, -0.5445], device='cuda:0')\n",
      "conti attr [tensor(-0.1828, device='cuda:0'), tensor(-0.3895, device='cuda:0'), tensor(-0.5445, device='cuda:0')]\n",
      "detokenized ['[CLS]', 'un', 'rew', 'arding', '[SEP]']\n",
      "len conti_raw 3\n",
      "conti_raw ['[CLS]', 'unrewarding', '[SEP]']\n",
      "word attri tensor([-0.1828, -0.0782,  0.1292, -0.8045, -0.5445], device='cuda:0')\n",
      "conti attri tensor([-0.1828, -0.3895, -0.5445])\n"
     ]
    },
    {
     "data": {
      "text/html": [
       "<table width: 100%><div style=\"border-top: 1px solid; margin-top: 5px;             padding-top: 5px; display: inline-block\"><b>Legend: </b><span style=\"display: inline-block; width: 10px; height: 10px;                 border: 1px solid; background-color:                 hsl(0, 75%, 60%)\"></span> Negative  <span style=\"display: inline-block; width: 10px; height: 10px;                 border: 1px solid; background-color:                 hsl(0, 75%, 100%)\"></span> Neutral  <span style=\"display: inline-block; width: 10px; height: 10px;                 border: 1px solid; background-color:                 hsl(120, 75%, 50%)\"></span> Positive  </div><tr><th>True Label</th><th>Predicted Label</th><th>Attribution Label</th><th>Attribution Score</th><th>Word Importance</th><tr><td><text style=\"padding-right:2em\"><b>Neg</b></text></td><td><text style=\"padding-right:2em\"><b>Neg (0.14)</b></text></td><td><text style=\"padding-right:2em\"><b>Neg</b></text></td><td><text style=\"padding-right:2em\"><b>-1.48</b></text></td><td><mark style=\"background-color: hsl(0, 75%, 93%); opacity:1.0;                     line-height:1.75\"><font color=\"black\"> [CLS]                    </font></mark><mark style=\"background-color: hsl(0, 75%, 85%); opacity:1.0;                     line-height:1.75\"><font color=\"black\"> unrewarding                    </font></mark><mark style=\"background-color: hsl(0, 75%, 79%); opacity:1.0;                     line-height:1.75\"><font color=\"black\"> [SEP]                    </font></mark></td><tr></table>"
      ],
      "text/plain": [
       "<IPython.core.display.HTML object>"
      ]
     },
     "metadata": {},
     "output_type": "display_data"
    },
    {
     "name": "stdout",
     "output_type": "stream",
     "text": [
      "<IPython.core.display.HTML object>\n",
      "Raw review: old-hat \n",
      "GT target: 0\n",
      "deotk ['[CLS]', 'old', '-', 'hat', '[SEP]']\n"
     ]
    },
    {
     "name": "stderr",
     "output_type": "stream",
     "text": [
      "Lime attribution: 100%|████████████████████████████████████████████████████████████████████████████████████████████████████████| 25/25 [00:01<00:00, 13.55it/s]\n"
     ]
    },
    {
     "name": "stdout",
     "output_type": "stream",
     "text": [
      "word attr tensor([-0.0023, -0.6432, -0.3681,  0.1542, -0.6535], device='cuda:0')\n",
      "conti attr [tensor(-0.0023, device='cuda:0'), tensor(-0.1757, device='cuda:0'), tensor(-0.6535, device='cuda:0')]\n",
      "detokenized ['[CLS]', 'old', '-', 'hat', '[SEP]']\n",
      "len conti_raw 3\n",
      "conti_raw ['[CLS]', 'old-hat', '[SEP]']\n",
      "word attri tensor([-0.0023, -0.6432, -0.3681,  0.1542, -0.6535], device='cuda:0')\n",
      "conti attri tensor([-0.0023, -0.1757, -0.6535])\n"
     ]
    },
    {
     "data": {
      "text/html": [
       "<table width: 100%><div style=\"border-top: 1px solid; margin-top: 5px;             padding-top: 5px; display: inline-block\"><b>Legend: </b><span style=\"display: inline-block; width: 10px; height: 10px;                 border: 1px solid; background-color:                 hsl(0, 75%, 60%)\"></span> Negative  <span style=\"display: inline-block; width: 10px; height: 10px;                 border: 1px solid; background-color:                 hsl(0, 75%, 100%)\"></span> Neutral  <span style=\"display: inline-block; width: 10px; height: 10px;                 border: 1px solid; background-color:                 hsl(120, 75%, 50%)\"></span> Positive  </div><tr><th>True Label</th><th>Predicted Label</th><th>Attribution Label</th><th>Attribution Score</th><th>Word Importance</th><tr><td><text style=\"padding-right:2em\"><b>Neg</b></text></td><td><text style=\"padding-right:2em\"><b>Neg (0.05)</b></text></td><td><text style=\"padding-right:2em\"><b>Neg</b></text></td><td><text style=\"padding-right:2em\"><b>-1.51</b></text></td><td><mark style=\"background-color: hsl(0, 75%, 100%); opacity:1.0;                     line-height:1.75\"><font color=\"black\"> [CLS]                    </font></mark><mark style=\"background-color: hsl(0, 75%, 93%); opacity:1.0;                     line-height:1.75\"><font color=\"black\"> old-hat                    </font></mark><mark style=\"background-color: hsl(0, 75%, 74%); opacity:1.0;                     line-height:1.75\"><font color=\"black\"> [SEP]                    </font></mark></td><tr></table>"
      ],
      "text/plain": [
       "<IPython.core.display.HTML object>"
      ]
     },
     "metadata": {},
     "output_type": "display_data"
    },
    {
     "name": "stdout",
     "output_type": "stream",
     "text": [
      "<IPython.core.display.HTML object>\n"
     ]
    }
   ],
   "source": [
    "for i, (datum_raw, target) in enumerate(zip(sst2_data_raw, targets), start=1):\n",
    "    print(f'Raw review: {datum_raw}')\n",
    "    print(f'GT target: {target}')\n",
    "    visual_record=generate_record(datum_raw, target)\n",
    "    print(visualization.visualize_text([visual_record]))\n"
   ]
  },
  {
   "cell_type": "code",
   "execution_count": 9,
   "id": "c5ca5004",
   "metadata": {},
   "outputs": [],
   "source": [
    "file_name_base = 'LIME'"
   ]
  },
  {
   "cell_type": "code",
   "execution_count": 10,
   "id": "ce01966e",
   "metadata": {
    "scrolled": true
   },
   "outputs": [
    {
     "data": {
      "text/plain": [
       "{'indices': [27798,\n",
       "  28244,\n",
       "  48083,\n",
       "  8795,\n",
       "  91,\n",
       "  20682,\n",
       "  59890,\n",
       "  41763,\n",
       "  19795,\n",
       "  9957,\n",
       "  28334,\n",
       "  55664,\n",
       "  16438,\n",
       "  18031,\n",
       "  9297,\n",
       "  66913,\n",
       "  9289,\n",
       "  6789,\n",
       "  25294,\n",
       "  33294,\n",
       "  29699,\n",
       "  41960,\n",
       "  6554,\n",
       "  8772,\n",
       "  17921,\n",
       "  8027,\n",
       "  49091,\n",
       "  54186,\n",
       "  15080,\n",
       "  22382,\n",
       "  23856,\n",
       "  9464,\n",
       "  23831,\n",
       "  59434,\n",
       "  17862,\n",
       "  24584,\n",
       "  26216,\n",
       "  63094,\n",
       "  55787,\n",
       "  3993,\n",
       "  25463,\n",
       "  17540,\n",
       "  51128,\n",
       "  46224,\n",
       "  32656,\n",
       "  30105,\n",
       "  28646,\n",
       "  17011,\n",
       "  7812,\n",
       "  48236],\n",
       " 'raw_data': ['its oscar nomination ',\n",
       "  'shenanigans and slapstick ',\n",
       "  'an unsettling sight , ',\n",
       "  'the climactic hourlong cricket match ',\n",
       "  'alternating between facetious comic parody and pulp melodrama , this smart-aleck movie ... tosses around some intriguing questions about the difference between human and android life ',\n",
       "  'to be a part of that elusive adult world ',\n",
       "  'emotional power ',\n",
       "  'reminds you of why animation is such a perfect medium for children , because of the way it allows the mind to enter and accept another world ',\n",
       "  'unparalleled proportions , writer-director parker ',\n",
       "  'this surprisingly decent flick ',\n",
       "  \"about the best thing you could say about narc is that it 's a rock-solid little genre picture . \",\n",
       "  'the very best ',\n",
       "  'been modeled on the worst revenge-of-the-nerds clichés the filmmakers could dredge up ',\n",
       "  'tell you ',\n",
       "  'utterly absorbing ',\n",
       "  'restate ',\n",
       "  'bears about as much resemblance to the experiences of most battered women as spider-man ',\n",
       "  'expressively performed ',\n",
       "  'the acting is amateurish , the cinematography is atrocious ',\n",
       "  'solidly constructed ',\n",
       "  \"are undermined by the movie 's presentation , which is way too stagy \",\n",
       "  'a great film ',\n",
       "  'charm ',\n",
       "  'this new jangle of noise , mayhem and stupidity ',\n",
       "  'sustains it ',\n",
       "  'is so deadly dull that watching the proverbial paint dry would be a welcome improvement . ',\n",
       "  'to accomplish ',\n",
       "  \"does n't work . \",\n",
       "  'given it a one-star rating ',\n",
       "  \"ice cube is n't quite out of ripe screwball ideas , but friday after next spreads them pretty thin \",\n",
       "  'been trying to forget ',\n",
       "  'big stars and ',\n",
       "  'of cheesy dialogue ',\n",
       "  \"the château is never quite able to overcome the cultural moat surrounding its ludicrous and contrived plot . ' \",\n",
       "  'principled ',\n",
       "  'end it all by stuffing himself into an electric pencil sharpener ',\n",
       "  'funniest idea ',\n",
       "  'silly and tedious ',\n",
       "  'two surefire , beloved genres ',\n",
       "  'most charmless ',\n",
       "  'offers us the sense that on some elemental level , lilia deeply wants to break free of her old life . ',\n",
       "  'might be best forgotten ',\n",
       "  \"a substantial arc of change that does n't produce any real transformation \",\n",
       "  'unadorned ',\n",
       "  \"this is the kind of movie that you only need to watch for about thirty seconds before you say to yourself , ` ah , yes , here we have a bad , bad , bad movie . ' \",\n",
       "  'feel sanitised and stagey ',\n",
       "  'replete with stereotypical familial quandaries ',\n",
       "  'quirky comedy ',\n",
       "  'unrewarding ',\n",
       "  'old-hat '],\n",
       " 'targets': [1,\n",
       "  1,\n",
       "  0,\n",
       "  1,\n",
       "  1,\n",
       "  1,\n",
       "  1,\n",
       "  1,\n",
       "  1,\n",
       "  1,\n",
       "  1,\n",
       "  1,\n",
       "  0,\n",
       "  1,\n",
       "  1,\n",
       "  0,\n",
       "  0,\n",
       "  1,\n",
       "  0,\n",
       "  1,\n",
       "  0,\n",
       "  1,\n",
       "  1,\n",
       "  0,\n",
       "  1,\n",
       "  0,\n",
       "  1,\n",
       "  0,\n",
       "  0,\n",
       "  0,\n",
       "  0,\n",
       "  1,\n",
       "  0,\n",
       "  0,\n",
       "  1,\n",
       "  0,\n",
       "  1,\n",
       "  0,\n",
       "  1,\n",
       "  0,\n",
       "  1,\n",
       "  0,\n",
       "  0,\n",
       "  0,\n",
       "  0,\n",
       "  0,\n",
       "  0,\n",
       "  1,\n",
       "  0,\n",
       "  0],\n",
       " 'model_out_list': [0.9578894972801208,\n",
       "  0.02607199177145958,\n",
       "  0.9280797243118286,\n",
       "  0.6026754379272461,\n",
       "  0.9272036552429199,\n",
       "  0.9597240090370178,\n",
       "  0.9770727157592773,\n",
       "  0.9707044959068298,\n",
       "  0.8834286332130432,\n",
       "  0.9658218622207642,\n",
       "  0.9529748558998108,\n",
       "  0.9749705791473389,\n",
       "  0.030051304027438164,\n",
       "  0.8954260945320129,\n",
       "  0.974568247795105,\n",
       "  0.5530857443809509,\n",
       "  0.7086556553840637,\n",
       "  0.9764208197593689,\n",
       "  0.031884290277957916,\n",
       "  0.9670499563217163,\n",
       "  0.04456028714776039,\n",
       "  0.9733861684799194,\n",
       "  0.9737695455551147,\n",
       "  0.09326992928981781,\n",
       "  0.9708950519561768,\n",
       "  0.41628754138946533,\n",
       "  0.9736232161521912,\n",
       "  0.04155701398849487,\n",
       "  0.7330113053321838,\n",
       "  0.04169812798500061,\n",
       "  0.06650674343109131,\n",
       "  0.9741768836975098,\n",
       "  0.02389264479279518,\n",
       "  0.060439176857471466,\n",
       "  0.9714932441711426,\n",
       "  0.06462432444095612,\n",
       "  0.9628397226333618,\n",
       "  0.035474635660648346,\n",
       "  0.9750030040740967,\n",
       "  0.9686804413795471,\n",
       "  0.9634529948234558,\n",
       "  0.06778600811958313,\n",
       "  0.0436873659491539,\n",
       "  0.058859918266534805,\n",
       "  0.06825332343578339,\n",
       "  0.026674073189496994,\n",
       "  0.07909509539604187,\n",
       "  0.9688959121704102,\n",
       "  0.136697456240654,\n",
       "  0.05097651481628418],\n",
       " 'raw_attr_list': [tensor([[[-1.3336e-03, -3.5076e-04,  2.7417e-03,  ..., -2.6340e-04,\n",
       "             3.0816e-03,  2.5418e-03],\n",
       "           [ 1.6540e-03, -2.5603e-03,  7.4266e-03,  ..., -9.6242e-05,\n",
       "             9.5503e-04, -7.5098e-04],\n",
       "           [ 1.6251e-03,  4.1281e-04,  8.0240e-04,  ..., -1.8353e-03,\n",
       "             4.5811e-04,  1.0912e-03],\n",
       "           [ 9.8704e-03, -5.5100e-03, -1.5865e-03,  ...,  4.2717e-03,\n",
       "            -4.3774e-03, -1.7690e-03],\n",
       "           [-3.0717e-03,  4.2119e-03, -2.2846e-03,  ..., -4.3578e-04,\n",
       "             3.2498e-03,  2.9191e-03]]], device='cuda:0'),\n",
       "  tensor([[[ 0.0000,  0.0048,  0.0000,  ..., -0.0029, -0.0071,  0.0007],\n",
       "           [ 0.0044, -0.0045,  0.0000,  ..., -0.0077, -0.0012,  0.0032],\n",
       "           [-0.0033,  0.0013, -0.0064,  ...,  0.0141,  0.0000,  0.0028],\n",
       "           ...,\n",
       "           [ 0.0033, -0.0039, -0.0033,  ..., -0.0017, -0.0172, -0.0074],\n",
       "           [ 0.0000,  0.0115,  0.0000,  ...,  0.0004,  0.0193, -0.0143],\n",
       "           [-0.0083,  0.0000,  0.0047,  ..., -0.0002, -0.0158,  0.0023]]],\n",
       "         device='cuda:0'),\n",
       "  tensor([[[ 1.4278e-02,  8.4344e-03,  2.5434e-02,  ...,  1.6724e-02,\n",
       "            -1.1144e-02,  0.0000e+00],\n",
       "           [ 3.9840e-03,  1.7911e-02, -6.8579e-03,  ...,  1.5560e-02,\n",
       "            -1.0357e-02, -7.6561e-03],\n",
       "           [-5.6800e-03, -7.7111e-03,  3.1042e-03,  ..., -5.4480e-03,\n",
       "             1.1908e-02, -4.2570e-06],\n",
       "           ...,\n",
       "           [-4.1565e-03,  1.0299e-02, -1.6854e-02,  ..., -1.8422e-02,\n",
       "             7.9380e-03,  0.0000e+00],\n",
       "           [ 1.5362e-04,  6.5669e-03, -1.5170e-02,  ...,  1.7332e-02,\n",
       "            -2.1569e-02,  5.9170e-03],\n",
       "           [-2.7411e-04,  2.1441e-02,  0.0000e+00,  ...,  2.0516e-03,\n",
       "             1.4365e-02, -7.0022e-03]]], device='cuda:0'),\n",
       "  tensor([[[-8.0229e-03,  0.0000e+00,  5.8503e-04,  ...,  1.8569e-03,\n",
       "             0.0000e+00,  2.2697e-03],\n",
       "           [ 1.1260e-02,  0.0000e+00, -1.6531e-02,  ...,  6.2406e-03,\n",
       "            -7.5613e-03,  0.0000e+00],\n",
       "           [ 2.6278e-04, -3.3420e-03,  4.5063e-03,  ...,  1.3365e-02,\n",
       "             3.2367e-03,  4.4935e-06],\n",
       "           ...,\n",
       "           [-3.1428e-03, -6.6290e-04, -2.7624e-03,  ...,  4.4466e-03,\n",
       "             0.0000e+00,  7.0585e-04],\n",
       "           [-1.1181e-03,  0.0000e+00,  0.0000e+00,  ...,  1.6296e-03,\n",
       "             1.4320e-04, -8.3841e-03],\n",
       "           [ 0.0000e+00, -3.3666e-03, -5.6395e-03,  ...,  0.0000e+00,\n",
       "             0.0000e+00, -2.6649e-03]]], device='cuda:0'),\n",
       "  tensor([[[ 0.0000,  0.0000,  0.0000,  ...,  0.0000,  0.0000, -0.0019],\n",
       "           [ 0.0000,  0.0014,  0.0000,  ...,  0.0000,  0.0000,  0.0000],\n",
       "           [ 0.0000,  0.0000,  0.0000,  ...,  0.0000,  0.0000,  0.0000],\n",
       "           ...,\n",
       "           [ 0.0000,  0.0000, -0.0033,  ..., -0.0004,  0.0000,  0.0000],\n",
       "           [ 0.0000,  0.0000,  0.0023,  ...,  0.0001,  0.0000,  0.0000],\n",
       "           [ 0.0000,  0.0000,  0.0000,  ...,  0.0000, -0.0010,  0.0000]]],\n",
       "         device='cuda:0'),\n",
       "  tensor([[[ 0.0000e+00,  0.0000e+00,  1.3357e-04,  ...,  1.4953e-04,\n",
       "            -1.2965e-03,  8.7527e-05],\n",
       "           [ 0.0000e+00,  1.5745e-03, -2.4725e-04,  ...,  0.0000e+00,\n",
       "             6.2846e-04, -2.7375e-04],\n",
       "           [-1.1711e-03,  0.0000e+00,  0.0000e+00,  ...,  0.0000e+00,\n",
       "            -1.1305e-03,  3.7919e-04],\n",
       "           ...,\n",
       "           [ 5.7985e-04,  0.0000e+00,  0.0000e+00,  ..., -1.3865e-03,\n",
       "             0.0000e+00,  0.0000e+00],\n",
       "           [ 0.0000e+00,  8.4416e-05,  0.0000e+00,  ...,  0.0000e+00,\n",
       "             0.0000e+00,  0.0000e+00],\n",
       "           [ 0.0000e+00, -1.3937e-03,  3.9080e-04,  ...,  0.0000e+00,\n",
       "             6.4428e-05,  4.0979e-04]]], device='cuda:0'),\n",
       "  tensor([[[ 0.0005, -0.0010, -0.0028,  ..., -0.0021, -0.0012,  0.0010],\n",
       "           [ 0.0006, -0.0018,  0.0015,  ..., -0.0017, -0.0028, -0.0021],\n",
       "           [ 0.0011,  0.0021, -0.0002,  ..., -0.0014, -0.0007, -0.0007],\n",
       "           [ 0.0000, -0.0003,  0.0006,  ..., -0.0006,  0.0000,  0.0013]]],\n",
       "         device='cuda:0'),\n",
       "  tensor([[[ 0.0000e+00,  0.0000e+00,  0.0000e+00,  ...,  0.0000e+00,\n",
       "             0.0000e+00,  8.8882e-05],\n",
       "           [ 0.0000e+00,  3.9415e-04,  0.0000e+00,  ...,  0.0000e+00,\n",
       "             0.0000e+00,  2.4757e-05],\n",
       "           [ 1.1225e-05,  0.0000e+00,  0.0000e+00,  ..., -2.1427e-04,\n",
       "             0.0000e+00,  0.0000e+00],\n",
       "           ...,\n",
       "           [ 0.0000e+00,  1.9201e-04,  0.0000e+00,  ..., -2.6524e-06,\n",
       "             0.0000e+00,  0.0000e+00],\n",
       "           [ 0.0000e+00,  0.0000e+00,  0.0000e+00,  ...,  0.0000e+00,\n",
       "             0.0000e+00,  0.0000e+00],\n",
       "           [-1.0539e-04,  0.0000e+00,  0.0000e+00,  ...,  0.0000e+00,\n",
       "             1.3978e-04,  0.0000e+00]]], device='cuda:0'),\n",
       "  tensor([[[-4.2130e-03, -1.9520e-03,  1.3711e-03,  ...,  0.0000e+00,\n",
       "             3.6467e-03, -9.1202e-03],\n",
       "           [ 3.0586e-03, -3.6725e-04,  1.2433e-03,  ..., -5.0813e-03,\n",
       "             3.8210e-03,  1.8544e-03],\n",
       "           [ 5.8535e-03,  0.0000e+00,  1.9269e-02,  ...,  0.0000e+00,\n",
       "            -8.2543e-03, -2.0845e-03],\n",
       "           ...,\n",
       "           [-1.7908e-03,  0.0000e+00, -8.9265e-03,  ...,  3.0029e-03,\n",
       "             2.1516e-03,  0.0000e+00],\n",
       "           [ 6.3073e-03, -1.1987e-03, -8.5273e-03,  ..., -2.3606e-03,\n",
       "             0.0000e+00, -8.7912e-03],\n",
       "           [ 0.0000e+00, -1.6761e-05,  0.0000e+00,  ...,  8.7388e-03,\n",
       "             0.0000e+00,  0.0000e+00]]], device='cuda:0'),\n",
       "  tensor([[[ 0.0007, -0.0031, -0.0007,  ...,  0.0024,  0.0014,  0.0007],\n",
       "           [ 0.0000,  0.0094, -0.0071,  ..., -0.0050,  0.0007, -0.0043],\n",
       "           [-0.0055,  0.0003,  0.0043,  ..., -0.0009, -0.0005, -0.0006],\n",
       "           [ 0.0016, -0.0073, -0.0011,  ..., -0.0055, -0.0007, -0.0032],\n",
       "           [-0.0010,  0.0016,  0.0071,  ..., -0.0010, -0.0019,  0.0062],\n",
       "           [ 0.0039,  0.0050, -0.0003,  ..., -0.0027, -0.0031,  0.0010]]],\n",
       "         device='cuda:0'),\n",
       "  tensor([[[-5.7549e-04,  0.0000e+00,  3.7966e-04,  ..., -3.2397e-03,\n",
       "             0.0000e+00,  0.0000e+00],\n",
       "           [ 0.0000e+00, -1.3809e-04,  0.0000e+00,  ...,  0.0000e+00,\n",
       "             0.0000e+00, -4.3419e-03],\n",
       "           [ 0.0000e+00,  0.0000e+00,  0.0000e+00,  ...,  0.0000e+00,\n",
       "             0.0000e+00,  0.0000e+00],\n",
       "           ...,\n",
       "           [ 0.0000e+00,  0.0000e+00,  0.0000e+00,  ...,  0.0000e+00,\n",
       "            -3.0380e-05,  0.0000e+00],\n",
       "           [ 0.0000e+00,  0.0000e+00,  0.0000e+00,  ..., -2.6898e-04,\n",
       "            -9.5398e-04,  0.0000e+00],\n",
       "           [ 0.0000e+00,  5.6952e-04,  0.0000e+00,  ...,  0.0000e+00,\n",
       "             0.0000e+00,  0.0000e+00]]], device='cuda:0'),\n",
       "  tensor([[[-1.9474e-05, -3.1598e-05, -4.8967e-05,  ...,  3.9048e-06,\n",
       "             0.0000e+00, -1.4157e-05],\n",
       "           [-7.7769e-06,  9.7195e-05, -1.1510e-05,  ...,  0.0000e+00,\n",
       "             6.2060e-06, -3.7181e-06],\n",
       "           [-5.3279e-06, -2.9448e-06,  2.7839e-05,  ..., -9.6024e-06,\n",
       "             0.0000e+00, -1.2832e-05],\n",
       "           [ 4.5118e-05, -3.2999e-05, -9.9562e-05,  ...,  0.0000e+00,\n",
       "             0.0000e+00,  3.9430e-05],\n",
       "           [ 3.8838e-05,  4.2060e-05, -2.7336e-05,  ...,  0.0000e+00,\n",
       "             0.0000e+00,  0.0000e+00]]], device='cuda:0'),\n",
       "  tensor([[[ 0.0000e+00,  0.0000e+00,  0.0000e+00,  ..., -6.2356e-04,\n",
       "             0.0000e+00,  5.8221e-05],\n",
       "           [ 0.0000e+00,  0.0000e+00,  0.0000e+00,  ...,  0.0000e+00,\n",
       "             0.0000e+00, -1.5053e-04],\n",
       "           [ 0.0000e+00,  0.0000e+00,  3.0441e-04,  ...,  0.0000e+00,\n",
       "             0.0000e+00,  0.0000e+00],\n",
       "           ...,\n",
       "           [-2.9020e-05,  1.2747e-04,  0.0000e+00,  ...,  4.7015e-05,\n",
       "             0.0000e+00,  0.0000e+00],\n",
       "           [ 0.0000e+00,  0.0000e+00,  4.0563e-04,  ...,  0.0000e+00,\n",
       "             0.0000e+00,  0.0000e+00],\n",
       "           [ 0.0000e+00,  0.0000e+00,  0.0000e+00,  ...,  0.0000e+00,\n",
       "             3.6994e-04,  0.0000e+00]]], device='cuda:0'),\n",
       "  tensor([[[ 0.0058, -0.0006,  0.0040,  ..., -0.0033, -0.0014, -0.0013],\n",
       "           [-0.0034, -0.0018,  0.0043,  ...,  0.0058, -0.0091, -0.0043],\n",
       "           [ 0.0098,  0.0035, -0.0090,  ...,  0.0010,  0.0017, -0.0005],\n",
       "           [-0.0041, -0.0030, -0.0021,  ..., -0.0006, -0.0017,  0.0052]]],\n",
       "         device='cuda:0'),\n",
       "  tensor([[[-0.0010,  0.0055,  0.0016,  ...,  0.0012, -0.0012,  0.0017],\n",
       "           [-0.0011,  0.0017,  0.0010,  ..., -0.0005, -0.0001, -0.0045],\n",
       "           [-0.0036,  0.0039,  0.0015,  ..., -0.0026, -0.0023, -0.0021],\n",
       "           [-0.0016,  0.0006, -0.0027,  ..., -0.0031,  0.0021, -0.0035]]],\n",
       "         device='cuda:0'),\n",
       "  tensor([[[ 0.0018,  0.0055,  0.0040,  ...,  0.0095,  0.0237, -0.0067],\n",
       "           [-0.0038, -0.0019,  0.0298,  ..., -0.0152, -0.0103, -0.0084],\n",
       "           [-0.0038,  0.0108, -0.0102,  ..., -0.0169, -0.0044,  0.0182],\n",
       "           [-0.0035, -0.0022, -0.0124,  ..., -0.0011, -0.0023, -0.0050]]],\n",
       "         device='cuda:0'),\n",
       "  tensor([[[ 0.0055,  0.0000,  0.0079,  ..., -0.0023,  0.0000,  0.0000],\n",
       "           [ 0.0020,  0.0000,  0.0000,  ..., -0.0052,  0.0008,  0.0000],\n",
       "           [ 0.0001,  0.0000, -0.0004,  ...,  0.0000,  0.0000,  0.0000],\n",
       "           ...,\n",
       "           [ 0.0000,  0.0000,  0.0035,  ...,  0.0000,  0.0067,  0.0000],\n",
       "           [ 0.0000,  0.0000,  0.0000,  ...,  0.0026,  0.0000,  0.0000],\n",
       "           [-0.0011,  0.0000, -0.0012,  ...,  0.0000, -0.0045,  0.0020]]],\n",
       "         device='cuda:0'),\n",
       "  tensor([[[ 0.0084, -0.0014, -0.0013,  ...,  0.0019, -0.0002,  0.0043],\n",
       "           [-0.0063, -0.0031,  0.0006,  ...,  0.0099, -0.0039,  0.0098],\n",
       "           [ 0.0026,  0.0058,  0.0030,  ...,  0.0025,  0.0012,  0.0057],\n",
       "           [ 0.0043,  0.0037, -0.0108,  ...,  0.0025, -0.0004, -0.0018],\n",
       "           [ 0.0025,  0.0009,  0.0081,  ..., -0.0034, -0.0026, -0.0027]]],\n",
       "         device='cuda:0'),\n",
       "  tensor([[[ 1.9771e-02,  0.0000e+00,  0.0000e+00,  ...,  1.6252e-02,\n",
       "            -2.8829e-05,  1.5273e-02],\n",
       "           [ 1.5596e-02, -1.7018e-03,  1.1159e-02,  ..., -6.4543e-03,\n",
       "            -6.0059e-03,  0.0000e+00],\n",
       "           [-5.7133e-03,  0.0000e+00, -2.1680e-03,  ...,  0.0000e+00,\n",
       "             2.0673e-04,  0.0000e+00],\n",
       "           ...,\n",
       "           [-2.2333e-05,  0.0000e+00, -1.8866e-03,  ...,  1.3861e-02,\n",
       "            -1.2604e-04, -1.0168e-02],\n",
       "           [ 9.0584e-03,  2.6116e-03,  0.0000e+00,  ..., -2.0050e-02,\n",
       "             0.0000e+00,  4.4209e-03],\n",
       "           [ 7.8523e-03,  3.2863e-04,  0.0000e+00,  ..., -1.3836e-03,\n",
       "             8.7599e-03, -1.7920e-03]]], device='cuda:0'),\n",
       "  tensor([[[ 0.0039, -0.0026, -0.0020,  ..., -0.0028,  0.0038, -0.0008],\n",
       "           [-0.0059, -0.0025, -0.0063,  ..., -0.0021,  0.0006,  0.0063],\n",
       "           [-0.0001,  0.0017, -0.0026,  ..., -0.0033,  0.0044,  0.0004],\n",
       "           [ 0.0040,  0.0036, -0.0031,  ..., -0.0019, -0.0013,  0.0007],\n",
       "           [ 0.0016,  0.0042, -0.0041,  ..., -0.0056,  0.0040,  0.0008]]],\n",
       "         device='cuda:0'),\n",
       "  tensor([[[ 0.0000e+00,  0.0000e+00,  0.0000e+00,  ...,  0.0000e+00,\n",
       "             6.1597e-05,  0.0000e+00],\n",
       "           [ 0.0000e+00,  0.0000e+00,  3.5293e-05,  ...,  0.0000e+00,\n",
       "             0.0000e+00,  9.3119e-05],\n",
       "           [ 0.0000e+00, -1.4387e-04,  4.4201e-05,  ...,  1.7019e-04,\n",
       "             0.0000e+00,  2.8788e-05],\n",
       "           ...,\n",
       "           [ 0.0000e+00,  2.3542e-05,  0.0000e+00,  ...,  0.0000e+00,\n",
       "             0.0000e+00,  0.0000e+00],\n",
       "           [-2.1183e-05, -2.0071e-05,  0.0000e+00,  ..., -5.7260e-05,\n",
       "             0.0000e+00,  0.0000e+00],\n",
       "           [ 0.0000e+00,  0.0000e+00, -2.7098e-05,  ..., -1.4379e-05,\n",
       "             0.0000e+00, -2.6606e-05]]], device='cuda:0'),\n",
       "  tensor([[[ 3.3090e-06,  0.0000e+00,  3.3840e-05,  ...,  0.0000e+00,\n",
       "             1.9234e-07,  0.0000e+00],\n",
       "           [ 0.0000e+00,  0.0000e+00, -2.5655e-05,  ..., -2.2911e-05,\n",
       "            -4.9495e-05, -2.1854e-05],\n",
       "           [ 3.2662e-05,  0.0000e+00,  4.1520e-05,  ...,  0.0000e+00,\n",
       "             4.7927e-05, -8.7277e-05],\n",
       "           [ 4.1435e-05,  2.2184e-05,  0.0000e+00,  ...,  0.0000e+00,\n",
       "             0.0000e+00,  9.7582e-06],\n",
       "           [ 5.3208e-06,  2.6483e-06,  0.0000e+00,  ...,  1.7010e-05,\n",
       "             1.4603e-05,  0.0000e+00]]], device='cuda:0'),\n",
       "  tensor([[[-1.6346e-03,  2.7898e-04,  3.5834e-03,  ...,  1.1807e-03,\n",
       "             1.1341e-03,  4.6747e-03],\n",
       "           [-3.0735e-04, -8.9315e-04,  4.9353e-03,  ..., -1.4008e-03,\n",
       "            -7.8928e-04,  4.7320e-04],\n",
       "           [-8.3267e-04, -2.0011e-03,  4.8429e-03,  ...,  1.3517e-04,\n",
       "            -3.7090e-05, -1.5048e-03]]], device='cuda:0'),\n",
       "  tensor([[[ 0.0000e+00,  0.0000e+00, -3.2911e-03,  ..., -1.4489e-02,\n",
       "            -3.0607e-04, -5.6314e-03],\n",
       "           [ 0.0000e+00, -4.0724e-04,  4.4077e-04,  ..., -8.1571e-03,\n",
       "            -5.6492e-03,  6.2232e-04],\n",
       "           [ 1.9786e-04, -6.4658e-05, -1.7369e-03,  ...,  1.5270e-02,\n",
       "            -1.0589e-03,  0.0000e+00],\n",
       "           ...,\n",
       "           [-5.2906e-03,  0.0000e+00,  0.0000e+00,  ...,  0.0000e+00,\n",
       "            -1.1907e-02,  0.0000e+00],\n",
       "           [-4.9724e-04, -3.5350e-03,  2.6678e-03,  ..., -1.4158e-02,\n",
       "             2.0401e-04, -7.0520e-03],\n",
       "           [ 5.3352e-06,  3.0061e-03,  0.0000e+00,  ...,  0.0000e+00,\n",
       "             0.0000e+00,  5.0544e-03]]], device='cuda:0'),\n",
       "  tensor([[[-1.7061e-03,  1.5203e-03,  3.9181e-03,  ...,  5.3292e-03,\n",
       "            -1.2932e-03,  1.1695e-04],\n",
       "           [-4.1999e-04, -5.3173e-03,  5.1922e-03,  ..., -5.7303e-03,\n",
       "            -2.2686e-03,  4.8789e-04],\n",
       "           [ 1.9597e-03,  2.6379e-03, -2.8665e-03,  ...,  1.7872e-03,\n",
       "             5.0076e-03, -5.2616e-03],\n",
       "           [-1.3959e-05, -6.6748e-03,  4.0987e-03,  ..., -1.4817e-05,\n",
       "            -2.9718e-04, -1.1999e-02],\n",
       "           [-5.6211e-03, -2.5661e-03, -4.5969e-03,  ..., -5.2638e-05,\n",
       "             3.0665e-03,  6.6200e-03]]], device='cuda:0'),\n",
       "  tensor([[[-1.2470e-04,  0.0000e+00,  4.0872e-03,  ...,  0.0000e+00,\n",
       "             0.0000e+00,  0.0000e+00],\n",
       "           [ 2.3795e-03, -7.7342e-03, -3.1388e-03,  ...,  0.0000e+00,\n",
       "             2.5756e-03,  1.7721e-04],\n",
       "           [ 0.0000e+00,  0.0000e+00,  0.0000e+00,  ...,  0.0000e+00,\n",
       "             4.3014e-03, -4.2378e-03],\n",
       "           ...,\n",
       "           [-1.6577e-03,  0.0000e+00,  0.0000e+00,  ..., -6.9031e-04,\n",
       "            -1.6011e-03,  2.9249e-03],\n",
       "           [ 0.0000e+00,  1.5618e-03,  0.0000e+00,  ...,  0.0000e+00,\n",
       "            -2.2150e-03,  6.9311e-03],\n",
       "           [ 0.0000e+00, -1.6517e-04,  1.1419e-04,  ...,  0.0000e+00,\n",
       "            -2.8583e-05, -9.3347e-04]]], device='cuda:0'),\n",
       "  tensor([[[-2.9959e-04,  1.7613e-03,  2.8322e-03,  ..., -8.4895e-04,\n",
       "             1.8629e-03, -3.3702e-04],\n",
       "           [ 2.6330e-03, -4.7458e-03,  0.0000e+00,  ...,  2.1981e-03,\n",
       "            -2.3979e-03,  2.0436e-03],\n",
       "           [-1.0260e-03,  3.1995e-03,  3.7652e-04,  ..., -7.3333e-04,\n",
       "            -3.4465e-03, -5.2002e-04],\n",
       "           [ 1.7148e-03, -7.4886e-05, -2.0636e-04,  ..., -2.1716e-04,\n",
       "             2.0619e-03, -2.5202e-03]]], device='cuda:0'),\n",
       "  tensor([[[ 0.0000e+00, -6.6728e-04, -1.1265e-03,  ...,  4.7253e-05,\n",
       "             1.0324e-04, -1.2303e-04],\n",
       "           [-6.7725e-04,  7.2749e-04,  6.8500e-04,  ...,  0.0000e+00,\n",
       "             1.6028e-03, -9.4879e-04],\n",
       "           [ 0.0000e+00, -3.3469e-04, -5.0463e-04,  ...,  3.4117e-04,\n",
       "             5.3085e-04,  0.0000e+00],\n",
       "           ...,\n",
       "           [-5.2718e-04,  0.0000e+00,  3.8477e-04,  ..., -2.8640e-04,\n",
       "             9.1433e-04,  0.0000e+00],\n",
       "           [-1.7959e-04, -2.7275e-04, -9.1153e-04,  ...,  8.1759e-05,\n",
       "            -3.7189e-05,  0.0000e+00],\n",
       "           [ 1.7448e-04,  0.0000e+00, -9.6827e-04,  ..., -4.0675e-04,\n",
       "            -5.9401e-06,  1.3908e-04]]], device='cuda:0'),\n",
       "  tensor([[[ 0.0000e+00,  8.3133e-03,  2.5136e-03,  ...,  3.7634e-03,\n",
       "             1.1934e-03, -3.2780e-03],\n",
       "           [-2.0241e-03,  1.5166e-03,  0.0000e+00,  ..., -5.6205e-04,\n",
       "            -1.3818e-04,  8.1849e-03],\n",
       "           [ 8.6871e-03, -1.8378e-03, -9.8942e-03,  ...,  0.0000e+00,\n",
       "             1.1222e-02,  1.3614e-02],\n",
       "           ...,\n",
       "           [-9.0345e-04,  0.0000e+00,  0.0000e+00,  ..., -5.4518e-03,\n",
       "             2.8617e-03, -2.7661e-03],\n",
       "           [-3.0101e-03,  5.8161e-03,  4.6485e-03,  ...,  0.0000e+00,\n",
       "             3.1518e-04,  6.5009e-03],\n",
       "           [ 3.2059e-03, -6.5739e-03,  8.0606e-05,  ...,  2.0422e-04,\n",
       "            -1.0337e-02,  5.4326e-03]]], device='cuda:0'),\n",
       "  tensor([[[ 1.1169e-04,  0.0000e+00,  0.0000e+00,  ...,  0.0000e+00,\n",
       "             0.0000e+00,  0.0000e+00],\n",
       "           [ 0.0000e+00,  0.0000e+00,  0.0000e+00,  ...,  0.0000e+00,\n",
       "             0.0000e+00,  0.0000e+00],\n",
       "           [-2.3219e-04, -3.9625e-05,  0.0000e+00,  ...,  0.0000e+00,\n",
       "             0.0000e+00,  0.0000e+00],\n",
       "           ...,\n",
       "           [ 0.0000e+00,  0.0000e+00,  0.0000e+00,  ...,  6.6592e-04,\n",
       "            -1.4214e-04,  0.0000e+00],\n",
       "           [ 0.0000e+00,  0.0000e+00,  1.0314e-04,  ...,  0.0000e+00,\n",
       "             0.0000e+00,  0.0000e+00],\n",
       "           [ 5.4363e-04,  0.0000e+00,  6.7247e-05,  ...,  0.0000e+00,\n",
       "             9.8333e-05, -4.8526e-04]]], device='cuda:0'),\n",
       "  tensor([[[-0.0002, -0.0013,  0.0011,  ..., -0.0024,  0.0004,  0.0017],\n",
       "           [-0.0002,  0.0010,  0.0014,  ...,  0.0003,  0.0002,  0.0003],\n",
       "           [ 0.0027,  0.0007, -0.0007,  ...,  0.0009, -0.0005,  0.0016],\n",
       "           [-0.0002,  0.0005,  0.0013,  ..., -0.0008,  0.0004,  0.0019],\n",
       "           [ 0.0020,  0.0009, -0.0009,  ...,  0.0002,  0.0028,  0.0021],\n",
       "           [-0.0022,  0.0000, -0.0006,  ..., -0.0017,  0.0031,  0.0007]]],\n",
       "         device='cuda:0'),\n",
       "  tensor([[[-1.2414e-03, -6.9462e-04, -1.2373e-04,  ..., -5.1152e-04,\n",
       "            -4.1667e-04,  1.0725e-03],\n",
       "           [-3.3340e-04, -4.7904e-04, -3.5538e-04,  ..., -2.0198e-04,\n",
       "             8.1412e-04,  1.4092e-03],\n",
       "           [ 7.1637e-04, -1.3067e-03, -4.5394e-04,  ..., -2.4008e-04,\n",
       "            -4.1426e-04,  1.0665e-03],\n",
       "           [-4.3937e-04,  7.1195e-05,  0.0000e+00,  ...,  2.4445e-04,\n",
       "             4.3902e-05,  9.7782e-05],\n",
       "           [-6.4701e-04,  6.1615e-05,  1.7635e-04,  ...,  8.0700e-05,\n",
       "             1.1528e-04, -6.1167e-04]]], device='cuda:0'),\n",
       "  tensor([[[ 0.0017, -0.0296,  0.0039,  ...,  0.0442,  0.0176,  0.0229],\n",
       "           [-0.0010,  0.0012, -0.0058,  ..., -0.0014, -0.0027, -0.0059],\n",
       "           [ 0.0104,  0.0000, -0.0267,  ..., -0.0146,  0.0006, -0.0211],\n",
       "           ...,\n",
       "           [-0.0015, -0.0215, -0.0004,  ..., -0.0148, -0.0095, -0.0076],\n",
       "           [ 0.0111,  0.0134, -0.0039,  ...,  0.0152,  0.0052,  0.0024],\n",
       "           [ 0.0000,  0.0158,  0.0079,  ...,  0.0110,  0.0258,  0.0262]]],\n",
       "         device='cuda:0'),\n",
       "  tensor([[[ 0.0000e+00,  5.1749e-04,  0.0000e+00,  ..., -8.8068e-05,\n",
       "             0.0000e+00,  0.0000e+00],\n",
       "           [ 0.0000e+00,  0.0000e+00, -2.1128e-04,  ...,  0.0000e+00,\n",
       "             0.0000e+00,  0.0000e+00],\n",
       "           [ 0.0000e+00,  0.0000e+00,  0.0000e+00,  ...,  0.0000e+00,\n",
       "            -1.6194e-03,  0.0000e+00],\n",
       "           ...,\n",
       "           [ 0.0000e+00,  0.0000e+00,  0.0000e+00,  ...,  0.0000e+00,\n",
       "             4.8211e-04,  1.0202e-03],\n",
       "           [ 0.0000e+00,  0.0000e+00,  1.8303e-04,  ...,  0.0000e+00,\n",
       "             0.0000e+00,  4.8940e-04],\n",
       "           [ 0.0000e+00,  0.0000e+00,  2.3530e-04,  ...,  0.0000e+00,\n",
       "             0.0000e+00, -5.6709e-04]]], device='cuda:0'),\n",
       "  tensor([[[-0.0093, -0.0010,  0.0008,  ...,  0.0125,  0.0002,  0.0011],\n",
       "           [-0.0038, -0.0114, -0.0105,  ...,  0.0022, -0.0006, -0.0044],\n",
       "           [ 0.0073,  0.0002,  0.0071,  ...,  0.0076, -0.0071, -0.0053],\n",
       "           [ 0.0066,  0.0002,  0.0050,  ...,  0.0105, -0.0068,  0.0039]]],\n",
       "         device='cuda:0'),\n",
       "  tensor([[[ 0.0000e+00,  3.5450e-04,  0.0000e+00,  ...,  0.0000e+00,\n",
       "             0.0000e+00, -3.8716e-04],\n",
       "           [ 8.1369e-05,  1.3530e-05,  0.0000e+00,  ...,  6.8202e-04,\n",
       "            -3.4015e-04, -6.8959e-05],\n",
       "           [-5.4708e-04,  0.0000e+00, -2.7493e-04,  ..., -2.4414e-04,\n",
       "            -1.1415e-03, -1.7706e-04],\n",
       "           ...,\n",
       "           [-1.9223e-04,  0.0000e+00, -3.5146e-04,  ...,  0.0000e+00,\n",
       "             0.0000e+00, -7.5050e-05],\n",
       "           [ 3.0708e-04, -3.0520e-04,  0.0000e+00,  ...,  0.0000e+00,\n",
       "            -8.9609e-04,  0.0000e+00],\n",
       "           [ 0.0000e+00, -3.1272e-04,  4.5142e-05,  ...,  2.7070e-04,\n",
       "            -1.2213e-05, -3.2101e-04]]], device='cuda:0'),\n",
       "  tensor([[[ 2.0164e-02, -2.7011e-02, -8.6461e-03,  ..., -1.9703e-03,\n",
       "            -1.6523e-02,  1.9347e-02],\n",
       "           [ 1.5441e-02,  4.4093e-03, -7.6032e-03,  ..., -8.2985e-03,\n",
       "             0.0000e+00,  2.9001e-04],\n",
       "           [-1.3766e-02,  9.5625e-04,  1.5557e-02,  ...,  7.4774e-04,\n",
       "            -1.5093e-02, -1.2102e-02],\n",
       "           [ 2.9802e-05, -1.7840e-02, -1.8948e-02,  ...,  4.5962e-03,\n",
       "            -1.9908e-02,  1.1858e-03],\n",
       "           [ 2.1570e-02,  8.5430e-03, -2.3726e-03,  ..., -4.5062e-03,\n",
       "            -9.7731e-03,  5.7216e-03],\n",
       "           [ 1.3841e-02, -1.2254e-02, -2.1708e-03,  ..., -1.4175e-02,\n",
       "            -1.9909e-02, -5.5702e-03]]], device='cuda:0'),\n",
       "  tensor([[[ 0.0023,  0.0178,  0.0376,  ...,  0.0104, -0.0211,  0.0094],\n",
       "           [ 0.0272, -0.0054,  0.0226,  ..., -0.0080, -0.0088, -0.0154],\n",
       "           [ 0.0122, -0.0248, -0.0221,  ...,  0.0403,  0.0200,  0.0206],\n",
       "           [-0.0044,  0.0105, -0.0217,  ..., -0.0036,  0.0274, -0.0395],\n",
       "           [-0.0292,  0.0251, -0.0490,  ...,  0.0401,  0.0181, -0.0083],\n",
       "           [ 0.0213, -0.0202,  0.0280,  ...,  0.0089, -0.0451,  0.0023]]],\n",
       "         device='cuda:0'),\n",
       "  tensor([[[-1.8769e-04, -1.7365e-04, -6.0831e-05,  ...,  0.0000e+00,\n",
       "             0.0000e+00,  4.3785e-04],\n",
       "           [ 1.2357e-05,  0.0000e+00, -1.2601e-04,  ..., -1.6657e-04,\n",
       "             0.0000e+00, -2.8438e-05],\n",
       "           [ 1.3379e-05, -1.1287e-04, -3.3691e-04,  ...,  1.9371e-05,\n",
       "             1.0898e-04, -1.8106e-04],\n",
       "           ...,\n",
       "           [-1.7074e-04,  0.0000e+00,  4.3923e-04,  ...,  1.1596e-04,\n",
       "             3.8187e-04,  0.0000e+00],\n",
       "           [-4.1224e-05,  9.6051e-05,  1.5654e-04,  ..., -3.8086e-04,\n",
       "             0.0000e+00, -6.2194e-05],\n",
       "           [ 0.0000e+00,  6.1193e-05,  0.0000e+00,  ...,  0.0000e+00,\n",
       "             2.2208e-04, -6.3626e-05]]], device='cuda:0'),\n",
       "  tensor([[[-0.0091,  0.0083,  0.0139,  ..., -0.0020, -0.0174, -0.0229],\n",
       "           [ 0.0187,  0.0059,  0.0018,  ..., -0.0168,  0.0000, -0.0029],\n",
       "           [ 0.0025,  0.0213, -0.0056,  ...,  0.0108,  0.0631, -0.0188],\n",
       "           [-0.0258,  0.0108,  0.0157,  ...,  0.0051, -0.0129,  0.0076],\n",
       "           [ 0.0286, -0.0003,  0.0006,  ..., -0.0136, -0.0168, -0.0070]]],\n",
       "         device='cuda:0'),\n",
       "  tensor([[[ 7.8231e-04,  0.0000e+00,  0.0000e+00,  ...,  0.0000e+00,\n",
       "             1.4663e-03, -3.0767e-04],\n",
       "           [-1.4716e-05, -2.1978e-03,  0.0000e+00,  ..., -2.4983e-03,\n",
       "             0.0000e+00,  0.0000e+00],\n",
       "           [ 0.0000e+00,  0.0000e+00,  0.0000e+00,  ..., -1.1634e-03,\n",
       "            -6.7308e-04,  0.0000e+00],\n",
       "           ...,\n",
       "           [ 0.0000e+00,  0.0000e+00,  0.0000e+00,  ...,  0.0000e+00,\n",
       "             0.0000e+00,  1.6052e-03],\n",
       "           [ 0.0000e+00,  0.0000e+00,  3.5164e-04,  ...,  0.0000e+00,\n",
       "             0.0000e+00,  0.0000e+00],\n",
       "           [ 0.0000e+00,  1.9777e-03, -2.6216e-04,  ...,  1.1943e-03,\n",
       "             7.4994e-05, -6.7314e-04]]], device='cuda:0'),\n",
       "  tensor([[[ 0.0084,  0.0157, -0.0078,  ...,  0.0157,  0.0132,  0.0137],\n",
       "           [ 0.0168, -0.0136,  0.0293,  ...,  0.0134,  0.0018,  0.0002],\n",
       "           [-0.0078,  0.0000, -0.0042,  ..., -0.0257,  0.0179, -0.0074],\n",
       "           [ 0.0014,  0.0166,  0.0225,  ...,  0.0015, -0.0031, -0.0026],\n",
       "           [-0.0013,  0.0067, -0.0168,  ...,  0.0081,  0.0197, -0.0188],\n",
       "           [ 0.0010, -0.0207,  0.0116,  ...,  0.0037, -0.0072,  0.0076]]],\n",
       "         device='cuda:0'),\n",
       "  tensor([[[ 3.0349e-04,  0.0000e+00, -5.4888e-04,  ..., -6.2887e-04,\n",
       "             0.0000e+00,  3.6569e-04],\n",
       "           [ 0.0000e+00,  0.0000e+00,  1.3468e-04,  ..., -4.1423e-04,\n",
       "             0.0000e+00,  0.0000e+00],\n",
       "           [ 0.0000e+00,  0.0000e+00,  1.3568e-05,  ...,  5.0849e-04,\n",
       "             2.0019e-04,  1.5486e-04],\n",
       "           ...,\n",
       "           [ 0.0000e+00, -1.7358e-04,  0.0000e+00,  ..., -2.0942e-06,\n",
       "             3.4596e-04,  9.5833e-07],\n",
       "           [ 0.0000e+00,  0.0000e+00, -1.4920e-05,  ..., -9.8390e-05,\n",
       "            -9.2568e-04, -1.5672e-05],\n",
       "           [ 0.0000e+00,  0.0000e+00,  1.3875e-04,  ...,  0.0000e+00,\n",
       "             0.0000e+00, -1.0801e-04]]], device='cuda:0'),\n",
       "  tensor([[[-0.0052, -0.0015, -0.0103,  ..., -0.0036, -0.0049, -0.0180],\n",
       "           [-0.0160,  0.0086, -0.0025,  ..., -0.0045, -0.0185, -0.0141],\n",
       "           [-0.0072,  0.0001,  0.0096,  ..., -0.0184,  0.0059,  0.0047],\n",
       "           [-0.0049,  0.0053,  0.0035,  ..., -0.0108, -0.0030,  0.0035],\n",
       "           [-0.0035,  0.0011, -0.0091,  ...,  0.0015, -0.0082, -0.0030]]],\n",
       "         device='cuda:0'),\n",
       "  tensor([[[ 0.0000e+00,  0.0000e+00,  0.0000e+00,  ..., -5.9183e-05,\n",
       "             0.0000e+00,  0.0000e+00],\n",
       "           [ 0.0000e+00,  0.0000e+00,  0.0000e+00,  ..., -3.2015e-04,\n",
       "             0.0000e+00,  0.0000e+00],\n",
       "           [ 0.0000e+00,  0.0000e+00,  0.0000e+00,  ...,  0.0000e+00,\n",
       "             0.0000e+00,  0.0000e+00],\n",
       "           ...,\n",
       "           [ 0.0000e+00,  0.0000e+00,  0.0000e+00,  ...,  0.0000e+00,\n",
       "             0.0000e+00,  0.0000e+00],\n",
       "           [ 0.0000e+00,  0.0000e+00,  0.0000e+00,  ...,  0.0000e+00,\n",
       "             0.0000e+00,  0.0000e+00],\n",
       "           [ 0.0000e+00,  0.0000e+00,  0.0000e+00,  ...,  0.0000e+00,\n",
       "             0.0000e+00,  0.0000e+00]]], device='cuda:0'),\n",
       "  tensor([[[-0.0046, -0.0061, -0.0090,  ...,  0.0012, -0.0346,  0.0123],\n",
       "           [ 0.0063,  0.0055, -0.0122,  ..., -0.0037,  0.0048,  0.0024],\n",
       "           [ 0.0037,  0.0155, -0.0341,  ...,  0.0080, -0.0090,  0.0137],\n",
       "           ...,\n",
       "           [ 0.0048,  0.0104,  0.0094,  ..., -0.0003, -0.0071, -0.0073],\n",
       "           [ 0.0054, -0.0081, -0.0130,  ...,  0.0038, -0.0096,  0.0000],\n",
       "           [-0.0236,  0.0202, -0.0027,  ...,  0.0166,  0.0090,  0.0114]]],\n",
       "         device='cuda:0'),\n",
       "  tensor([[[-3.8291e-03,  0.0000e+00,  7.7646e-04,  ...,  9.3919e-03,\n",
       "             6.1091e-03,  0.0000e+00],\n",
       "           [ 8.8633e-03,  0.0000e+00, -1.4962e-03,  ..., -6.8840e-03,\n",
       "             0.0000e+00,  6.0751e-03],\n",
       "           [ 1.4776e-03,  0.0000e+00,  0.0000e+00,  ...,  0.0000e+00,\n",
       "             0.0000e+00,  8.2131e-03],\n",
       "           ...,\n",
       "           [-4.8297e-04, -1.4242e-04, -2.3625e-03,  ..., -6.6597e-04,\n",
       "             8.5122e-03, -3.4028e-03],\n",
       "           [ 9.1285e-03, -3.0445e-03,  3.8459e-03,  ...,  2.1687e-04,\n",
       "            -2.4674e-03,  0.0000e+00],\n",
       "           [-4.5961e-03, -7.0645e-04,  7.2672e-04,  ...,  0.0000e+00,\n",
       "             9.4497e-05,  0.0000e+00]]], device='cuda:0'),\n",
       "  tensor([[[ 4.0590e-03, -9.1454e-03,  3.6020e-03,  ..., -7.2668e-03,\n",
       "             3.7703e-03, -7.8084e-03],\n",
       "           [-5.4694e-03,  4.1787e-05, -2.2583e-03,  ..., -7.4827e-03,\n",
       "            -2.9808e-03, -1.2760e-03],\n",
       "           [-6.8270e-03,  1.4174e-03, -4.4889e-03,  ..., -5.3525e-03,\n",
       "            -1.6865e-04, -1.3052e-03],\n",
       "           [ 3.9862e-03, -2.6311e-03, -1.8119e-03,  ..., -7.0112e-03,\n",
       "             2.0126e-03,  5.7853e-03],\n",
       "           [ 1.9439e-03, -3.9715e-03,  2.4843e-03,  ..., -4.3982e-03,\n",
       "             6.9502e-03, -4.3933e-03]]], device='cuda:0'),\n",
       "  tensor([[[ 6.1868e-03, -3.7249e-03,  2.5381e-03,  ...,  4.0364e-03,\n",
       "             1.7472e-03,  2.5804e-03],\n",
       "           [-3.7333e-03, -8.0074e-04, -1.5338e-03,  ..., -3.3739e-03,\n",
       "             4.3021e-03,  2.4773e-04],\n",
       "           [ 3.5731e-03, -8.1203e-05, -3.9597e-03,  ..., -1.8508e-03,\n",
       "            -1.7516e-03, -1.8157e-03],\n",
       "           [ 2.4901e-04,  1.8512e-04, -6.6504e-03,  ...,  1.1051e-04,\n",
       "            -2.2116e-03,  1.8951e-03],\n",
       "           [-3.4304e-03, -2.0308e-03,  1.7775e-03,  ...,  1.2565e-03,\n",
       "            -4.0093e-03, -1.0534e-03]]], device='cuda:0'),\n",
       "  tensor([[[-4.4106e-04, -1.4862e-03, -4.9768e-04,  ...,  8.0511e-04,\n",
       "            -1.6051e-03,  3.6499e-04],\n",
       "           [-3.4915e-04, -1.2495e-04,  1.4044e-03,  ..., -3.1229e-04,\n",
       "            -4.8761e-04,  1.4175e-03],\n",
       "           [ 2.4723e-04, -8.8464e-04, -6.1971e-04,  ..., -1.3239e-03,\n",
       "             4.7876e-04, -3.2629e-04],\n",
       "           [ 1.9653e-04,  1.3429e-03,  8.8179e-06,  ...,  0.0000e+00,\n",
       "             0.0000e+00, -2.2439e-05],\n",
       "           [ 1.6899e-04,  6.8066e-04, -8.2931e-04,  ...,  0.0000e+00,\n",
       "             0.0000e+00, -4.4706e-04]]], device='cuda:0')],\n",
       " 'conti_attr_list': [tensor([ 0.6960,  0.1234, -0.5791, -0.2380,  0.3291]),\n",
       "  tensor([-0.0397, -0.0037,  0.4674, -0.1060, -0.0778]),\n",
       "  tensor([-0.1081,  0.0201,  0.0436, -0.3265,  0.5033,  0.1306]),\n",
       "  tensor([-0.1619,  0.1914,  0.2192,  0.0881, -0.2805,  0.0689,  0.1161]),\n",
       "  tensor([-5.2124e-01,  6.1221e-02, -9.4890e-02,  9.1595e-03, -8.5965e-02,\n",
       "           2.1266e-02,  3.4022e-01,  1.6393e-02, -9.0871e-02,  1.2735e-02,\n",
       "          -5.4637e-02, -3.9203e-03,  1.5821e-01,  1.0541e-01,  1.4307e-01,\n",
       "           3.0619e-04,  1.1908e-01,  3.5866e-01, -1.3658e-01,  1.7203e-01,\n",
       "          -1.1270e-01, -7.0654e-02, -3.1458e-02,  6.2045e-02,  1.0970e-01,\n",
       "           5.7158e-02, -8.8801e-02, -5.3398e-02]),\n",
       "  tensor([-0.6083,  0.2264, -0.1970, -0.2136,  0.0613,  0.0894,  0.2992,  0.1171,\n",
       "           0.5334,  0.2749, -0.1387]),\n",
       "  tensor([ 0.8937, -0.2590, -0.1417, -0.3377]),\n",
       "  tensor([-0.2470, -0.1258,  0.2586, -0.1130, -0.1316,  0.1167, -0.0596, -0.0872,\n",
       "           0.0512,  0.1361,  0.2232,  0.1095,  0.0154,  0.2154, -0.0403,  0.3203,\n",
       "           0.0771, -0.0277,  0.0075, -0.0798, -0.1974,  0.2379,  0.0399, -0.4135,\n",
       "           0.1072, -0.0749, -0.0275, -0.1181, -0.5045]),\n",
       "  tensor([ 0.3891,  0.3915, -0.2544,  0.0502, -0.2408, -0.0496, -0.1394]),\n",
       "  tensor([-0.0463,  0.3863,  0.5070,  0.6398,  0.3945, -0.1632]),\n",
       "  tensor([-0.2938,  0.1525, -0.2504,  0.0547, -0.1356,  0.2140, -0.0236, -0.3393,\n",
       "          -0.1285, -0.2207, -0.0877, -0.0471,  0.0006, -0.0555,  0.0268,  0.1078,\n",
       "           0.2343,  0.2072,  0.2984,  0.1226,  0.0610]),\n",
       "  tensor([-0.4728,  0.2003,  0.1377,  0.0597, -0.8448]),\n",
       "  tensor([ 0.7035, -0.0315, -0.2268, -0.1170,  0.0156, -0.3402, -0.0552, -0.1055,\n",
       "          -0.0984,  0.1190,  0.0096,  0.1455, -0.1699, -0.2475]),\n",
       "  tensor([-0.1761,  0.4396,  0.7555, -0.4527]),\n",
       "  tensor([ 0.7115, -0.3467,  0.2652,  0.5506]),\n",
       "  tensor([ 0.5940, -0.2533, -0.2111]),\n",
       "  tensor([ 0.3683, -0.0718, -0.0754,  0.1784, -0.3800,  0.2583, -0.0867,  0.0681,\n",
       "           0.4740,  0.0861, -0.1470, -0.4064, -0.0814, -0.1129,  0.0137, -0.3452]),\n",
       "  tensor([ 0.3364, -0.5647,  0.4619, -0.1884]),\n",
       "  tensor([ 0.1522, -0.3250, -0.2878,  0.2177, -0.1362,  0.1431, -0.1945,  0.0653,\n",
       "           0.2721, -0.0982, -0.0958]),\n",
       "  tensor([ 0.6462,  0.3260,  0.5840, -0.1677]),\n",
       "  tensor([-0.6018, -0.0508,  0.0935,  0.1569,  0.1894, -0.3689, -0.2911,  0.2139,\n",
       "          -0.0245,  0.1128,  0.0038, -0.1219, -0.1063, -0.0666,  0.2757]),\n",
       "  tensor([-0.3573, -0.2122, -0.8126, -0.3987,  0.0899]),\n",
       "  tensor([ 0.8941, -0.4452, -0.0491]),\n",
       "  tensor([ 0.4269, -0.0604, -0.0540, -0.0068,  0.4900, -0.4280, -0.2220,  0.3306,\n",
       "          -0.0646, -0.4008, -0.0754]),\n",
       "  tensor([ 0.6517,  0.2040, -0.5408,  0.4429]),\n",
       "  tensor([-2.3394e-02,  2.1916e-01,  7.5038e-02,  3.3663e-01, -7.1729e-01,\n",
       "           2.1033e-01,  4.1813e-04,  1.3894e-01, -3.9996e-02,  3.0936e-02,\n",
       "          -1.4241e-01,  2.4163e-02,  2.0934e-01,  5.9534e-02,  3.5635e-01,\n",
       "           6.8914e-02, -1.2996e-01,  7.5524e-02]),\n",
       "  tensor([ 8.0561e-01,  5.7877e-01,  1.2654e-01, -7.9212e-04]),\n",
       "  tensor([ 0.0681, -0.2649, -0.2459, -0.0229, -0.0432,  0.0406]),\n",
       "  tensor([ 0.1161, -0.1778,  0.0030,  0.6051,  0.0361,  0.5118, -0.0699]),\n",
       "  tensor([ 0.1626, -0.0100,  0.1116, -0.0970,  0.1320, -0.0193,  0.1889,  0.0264,\n",
       "           0.0961, -0.0616,  0.1105, -0.2039, -0.0383, -0.1602, -0.0901,  0.0645,\n",
       "           0.0148,  0.2647, -0.4121, -0.4971,  0.3103]),\n",
       "  tensor([-0.7098, -0.2284, -0.4423, -0.1778,  0.0281, -0.4648]),\n",
       "  tensor([ 0.2479,  0.2961, -0.7740,  0.4787, -0.1506]),\n",
       "  tensor([ 0.2662,  0.3391, -0.3698, -0.3366, -0.1235]),\n",
       "  tensor([ 0.1179,  0.0817, -0.2576,  0.0855,  0.0619,  0.2202,  0.0732, -0.2229,\n",
       "          -0.0966, -0.0172,  0.3547,  0.0257,  0.0671,  0.1480, -0.1595, -0.2302,\n",
       "           0.0192, -0.1936,  0.1967,  0.2070, -0.2935]),\n",
       "  tensor([0.8367, 0.3341, 0.1609]),\n",
       "  tensor([ 0.8340,  0.0751,  0.0623, -0.0378, -0.2755,  0.1201,  0.0128, -0.0741,\n",
       "           0.0082, -0.2642,  0.0074, -0.0042, -0.3560]),\n",
       "  tensor([ 0.4057,  0.2185, -0.0478,  0.4636]),\n",
       "  tensor([ 0.1214, -0.0916, -0.4864, -0.2670,  0.0964]),\n",
       "  tensor([ 0.6681,  0.0017,  0.2385, -0.1459,  0.4929, -0.2823,  0.2428]),\n",
       "  tensor([0.0091, 0.1403, 0.3294, 0.5616]),\n",
       "  tensor([ 0.5353,  0.0993,  0.0586,  0.0029,  0.0726,  0.2380,  0.2684,  0.0158,\n",
       "           0.2253, -0.0029,  0.2812,  0.0668,  0.3360, -0.1114,  0.0929, -0.2563,\n",
       "          -0.1342, -0.0068, -0.1905,  0.2560,  0.0127, -0.1776, -0.2228]),\n",
       "  tensor([-0.3068,  0.5404,  0.3908,  0.2922,  0.2500,  0.5597]),\n",
       "  tensor([ 0.2429,  0.3202, -0.0876, -0.0584,  0.2122, -0.0387, -0.5829, -0.3046,\n",
       "          -0.0802,  0.2458, -0.4579,  0.0980, -0.0528, -0.1251]),\n",
       "  tensor([ 0.6805, -0.2648,  0.3257]),\n",
       "  tensor([ 0.6432,  0.0517,  0.1363,  0.0878,  0.0610, -0.0622,  0.1744, -0.1098,\n",
       "           0.1115,  0.1025,  0.0481, -0.1699,  0.0400, -0.1758,  0.0588, -0.1731,\n",
       "          -0.1473, -0.1308, -0.1750, -0.0083, -0.1199,  0.0338, -0.0983, -0.1468,\n",
       "          -0.0791, -0.1355, -0.0394,  0.2816,  0.1080, -0.0083,  0.1476,  0.0139,\n",
       "           0.1524, -0.0928,  0.1132, -0.2139, -0.1084, -0.1470, -0.0201, -0.0873,\n",
       "           0.0095]),\n",
       "  tensor([ 0.0565, -0.0273,  0.2083, -0.3312, -0.3616, -0.2167]),\n",
       "  tensor([ 0.3334,  0.2393,  0.1700, -0.1296, -0.0493, -0.1199,  0.0277]),\n",
       "  tensor([ 0.9683,  0.1002, -0.0542,  0.1348]),\n",
       "  tensor([-0.1828, -0.3895, -0.5445]),\n",
       "  tensor([-0.0023, -0.1757, -0.6535])],\n",
       " 'raw_input_list': [['[CLS]', 'its', 'oscar', 'nomination', '[SEP]'],\n",
       "  ['[CLS]', 'shenanigans', 'and', 'slapstick', '[SEP]'],\n",
       "  ['[CLS]', 'an', 'unsettling', 'sight', ',', '[SEP]'],\n",
       "  ['[CLS]', 'the', 'climactic', 'hourlong', 'cricket', 'match', '[SEP]'],\n",
       "  ['[CLS]',\n",
       "   'alternating',\n",
       "   'between',\n",
       "   'facetious',\n",
       "   'comic',\n",
       "   'parody',\n",
       "   'and',\n",
       "   'pulp',\n",
       "   'melodrama',\n",
       "   ',',\n",
       "   'this',\n",
       "   'smart-aleck',\n",
       "   'movie',\n",
       "   '...',\n",
       "   'tosses',\n",
       "   'around',\n",
       "   'some',\n",
       "   'intriguing',\n",
       "   'questions',\n",
       "   'about',\n",
       "   'the',\n",
       "   'difference',\n",
       "   'between',\n",
       "   'human',\n",
       "   'and',\n",
       "   'android',\n",
       "   'life',\n",
       "   '[SEP]'],\n",
       "  ['[CLS]',\n",
       "   'to',\n",
       "   'be',\n",
       "   'a',\n",
       "   'part',\n",
       "   'of',\n",
       "   'that',\n",
       "   'elusive',\n",
       "   'adult',\n",
       "   'world',\n",
       "   '[SEP]'],\n",
       "  ['[CLS]', 'emotional', 'power', '[SEP]'],\n",
       "  ['[CLS]',\n",
       "   'reminds',\n",
       "   'you',\n",
       "   'of',\n",
       "   'why',\n",
       "   'animation',\n",
       "   'is',\n",
       "   'such',\n",
       "   'a',\n",
       "   'perfect',\n",
       "   'medium',\n",
       "   'for',\n",
       "   'children',\n",
       "   ',',\n",
       "   'because',\n",
       "   'of',\n",
       "   'the',\n",
       "   'way',\n",
       "   'it',\n",
       "   'allows',\n",
       "   'the',\n",
       "   'mind',\n",
       "   'to',\n",
       "   'enter',\n",
       "   'and',\n",
       "   'accept',\n",
       "   'another',\n",
       "   'world',\n",
       "   '[SEP]'],\n",
       "  ['[CLS]',\n",
       "   'unparalleled',\n",
       "   'proportions',\n",
       "   ',',\n",
       "   'writer-director',\n",
       "   'parker',\n",
       "   '[SEP]'],\n",
       "  ['[CLS]', 'this', 'surprisingly', 'decent', 'flick', '[SEP]'],\n",
       "  ['[CLS]',\n",
       "   'about',\n",
       "   'the',\n",
       "   'best',\n",
       "   'thing',\n",
       "   'you',\n",
       "   'could',\n",
       "   'say',\n",
       "   'about',\n",
       "   'narc',\n",
       "   'is',\n",
       "   'that',\n",
       "   'it',\n",
       "   \"'s\",\n",
       "   'a',\n",
       "   'rock-solid',\n",
       "   'little',\n",
       "   'genre',\n",
       "   'picture',\n",
       "   '.',\n",
       "   '[SEP]'],\n",
       "  ['[CLS]', 'the', 'very', 'best', '[SEP]'],\n",
       "  ['[CLS]',\n",
       "   'been',\n",
       "   'modeled',\n",
       "   'on',\n",
       "   'the',\n",
       "   'worst',\n",
       "   'revenge-of-the-nerds',\n",
       "   'cliches',\n",
       "   'the',\n",
       "   'filmmakers',\n",
       "   'could',\n",
       "   'dredge',\n",
       "   'up',\n",
       "   '[SEP]'],\n",
       "  ['[CLS]', 'tell', 'you', '[SEP]'],\n",
       "  ['[CLS]', 'utterly', 'absorbing', '[SEP]'],\n",
       "  ['[CLS]', 'restate', '[SEP]'],\n",
       "  ['[CLS]',\n",
       "   'bears',\n",
       "   'about',\n",
       "   'as',\n",
       "   'much',\n",
       "   'resemblance',\n",
       "   'to',\n",
       "   'the',\n",
       "   'experiences',\n",
       "   'of',\n",
       "   'most',\n",
       "   'battered',\n",
       "   'women',\n",
       "   'as',\n",
       "   'spider-man',\n",
       "   '[SEP]'],\n",
       "  ['[CLS]', 'expressively', 'performed', '[SEP]'],\n",
       "  ['[CLS]',\n",
       "   'the',\n",
       "   'acting',\n",
       "   'is',\n",
       "   'amateurish',\n",
       "   ',',\n",
       "   'the',\n",
       "   'cinematography',\n",
       "   'is',\n",
       "   'atrocious',\n",
       "   '[SEP]'],\n",
       "  ['[CLS]', 'solidly', 'constructed', '[SEP]'],\n",
       "  ['[CLS]',\n",
       "   'are',\n",
       "   'undermined',\n",
       "   'by',\n",
       "   'the',\n",
       "   'movie',\n",
       "   \"'s\",\n",
       "   'presentation',\n",
       "   ',',\n",
       "   'which',\n",
       "   'is',\n",
       "   'way',\n",
       "   'too',\n",
       "   'stagy',\n",
       "   '[SEP]'],\n",
       "  ['[CLS]', 'a', 'great', 'film', '[SEP]'],\n",
       "  ['[CLS]', 'charm', '[SEP]'],\n",
       "  ['[CLS]',\n",
       "   'this',\n",
       "   'new',\n",
       "   'jangle',\n",
       "   'of',\n",
       "   'noise',\n",
       "   ',',\n",
       "   'mayhem',\n",
       "   'and',\n",
       "   'stupidity',\n",
       "   '[SEP]'],\n",
       "  ['[CLS]', 'sustains', 'it', '[SEP]'],\n",
       "  ['[CLS]',\n",
       "   'is',\n",
       "   'so',\n",
       "   'deadly',\n",
       "   'dull',\n",
       "   'that',\n",
       "   'watching',\n",
       "   'the',\n",
       "   'proverbial',\n",
       "   'paint',\n",
       "   'dry',\n",
       "   'would',\n",
       "   'be',\n",
       "   'a',\n",
       "   'welcome',\n",
       "   'improvement',\n",
       "   '.',\n",
       "   '[SEP]'],\n",
       "  ['[CLS]', 'to', 'accomplish', '[SEP]'],\n",
       "  ['[CLS]', 'does', \"n't\", 'work', '.', '[SEP]'],\n",
       "  ['[CLS]', 'given', 'it', 'a', 'one-star', 'rating', '[SEP]'],\n",
       "  ['[CLS]',\n",
       "   'ice',\n",
       "   'cube',\n",
       "   'is',\n",
       "   \"n't\",\n",
       "   'quite',\n",
       "   'out',\n",
       "   'of',\n",
       "   'ripe',\n",
       "   'screwball',\n",
       "   'ideas',\n",
       "   ',',\n",
       "   'but',\n",
       "   'friday',\n",
       "   'after',\n",
       "   'next',\n",
       "   'spreads',\n",
       "   'them',\n",
       "   'pretty',\n",
       "   'thin',\n",
       "   '[SEP]'],\n",
       "  ['[CLS]', 'been', 'trying', 'to', 'forget', '[SEP]'],\n",
       "  ['[CLS]', 'big', 'stars', 'and', '[SEP]'],\n",
       "  ['[CLS]', 'of', 'cheesy', 'dialogue', '[SEP]'],\n",
       "  ['[CLS]',\n",
       "   'the',\n",
       "   'chateau',\n",
       "   'is',\n",
       "   'never',\n",
       "   'quite',\n",
       "   'able',\n",
       "   'to',\n",
       "   'overcome',\n",
       "   'the',\n",
       "   'cultural',\n",
       "   'moat',\n",
       "   'surrounding',\n",
       "   'its',\n",
       "   'ludicrous',\n",
       "   'and',\n",
       "   'contrived',\n",
       "   'plot',\n",
       "   '.',\n",
       "   \"'\",\n",
       "   '[SEP]'],\n",
       "  ['[CLS]', 'principled', '[SEP]'],\n",
       "  ['[CLS]',\n",
       "   'end',\n",
       "   'it',\n",
       "   'all',\n",
       "   'by',\n",
       "   'stuffing',\n",
       "   'himself',\n",
       "   'into',\n",
       "   'an',\n",
       "   'electric',\n",
       "   'pencil',\n",
       "   'sharpener',\n",
       "   '[SEP]'],\n",
       "  ['[CLS]', 'funniest', 'idea', '[SEP]'],\n",
       "  ['[CLS]', 'silly', 'and', 'tedious', '[SEP]'],\n",
       "  ['[CLS]', 'two', 'surefire', ',', 'beloved', 'genres', '[SEP]'],\n",
       "  ['[CLS]', 'most', 'charmless', '[SEP]'],\n",
       "  ['[CLS]',\n",
       "   'offers',\n",
       "   'us',\n",
       "   'the',\n",
       "   'sense',\n",
       "   'that',\n",
       "   'on',\n",
       "   'some',\n",
       "   'elemental',\n",
       "   'level',\n",
       "   ',',\n",
       "   'lilia',\n",
       "   'deeply',\n",
       "   'wants',\n",
       "   'to',\n",
       "   'break',\n",
       "   'free',\n",
       "   'of',\n",
       "   'her',\n",
       "   'old',\n",
       "   'life',\n",
       "   '.',\n",
       "   '[SEP]'],\n",
       "  ['[CLS]', 'might', 'be', 'best', 'forgotten', '[SEP]'],\n",
       "  ['[CLS]',\n",
       "   'a',\n",
       "   'substantial',\n",
       "   'arc',\n",
       "   'of',\n",
       "   'change',\n",
       "   'that',\n",
       "   'does',\n",
       "   \"n't\",\n",
       "   'produce',\n",
       "   'any',\n",
       "   'real',\n",
       "   'transformation',\n",
       "   '[SEP]'],\n",
       "  ['[CLS]', 'unadorned', '[SEP]'],\n",
       "  ['[CLS]',\n",
       "   'this',\n",
       "   'is',\n",
       "   'the',\n",
       "   'kind',\n",
       "   'of',\n",
       "   'movie',\n",
       "   'that',\n",
       "   'you',\n",
       "   'only',\n",
       "   'need',\n",
       "   'to',\n",
       "   'watch',\n",
       "   'for',\n",
       "   'about',\n",
       "   'thirty',\n",
       "   'seconds',\n",
       "   'before',\n",
       "   'you',\n",
       "   'say',\n",
       "   'to',\n",
       "   'yourself',\n",
       "   ',',\n",
       "   '`',\n",
       "   'ah',\n",
       "   ',',\n",
       "   'yes',\n",
       "   ',',\n",
       "   'here',\n",
       "   'we',\n",
       "   'have',\n",
       "   'a',\n",
       "   'bad',\n",
       "   ',',\n",
       "   'bad',\n",
       "   ',',\n",
       "   'bad',\n",
       "   'movie',\n",
       "   '.',\n",
       "   \"'\",\n",
       "   '[SEP]'],\n",
       "  ['[CLS]', 'feel', 'sanitised', 'and', 'stagey', '[SEP]'],\n",
       "  ['[CLS]',\n",
       "   'replete',\n",
       "   'with',\n",
       "   'stereotypical',\n",
       "   'familial',\n",
       "   'quandaries',\n",
       "   '[SEP]'],\n",
       "  ['[CLS]', 'quirky', 'comedy', '[SEP]'],\n",
       "  ['[CLS]', 'unrewarding', '[SEP]'],\n",
       "  ['[CLS]', 'old-hat', '[SEP]']]}"
      ]
     },
     "execution_count": 10,
     "metadata": {},
     "output_type": "execute_result"
    }
   ],
   "source": [
    "save_info(idxs, sst2_data_raw, targets, model_out_list, raw_attr_list, conti_attr_list, raw_input_list, \n",
    "          fname=f'../MethodOutputs/{file_name_base}_out.pkl')"
   ]
  },
  {
   "cell_type": "code",
   "execution_count": 12,
   "id": "db9de1f3",
   "metadata": {},
   "outputs": [
    {
     "data": {
      "application/javascript": [
       "IPython.notebook.save_notebook()"
      ]
     },
     "metadata": {},
     "output_type": "display_data"
    }
   ],
   "source": [
    "download_HTML(cur_file_name=f'{file_name_base}_SST2_BERT.ipynb',\n",
    "              out_file_name=f'{file_name_base}_SST2_BERT.html')"
   ]
  },
  {
   "cell_type": "code",
   "execution_count": null,
   "id": "70fe07dc",
   "metadata": {},
   "outputs": [],
   "source": []
  },
  {
   "cell_type": "code",
   "execution_count": null,
   "id": "447a95cb",
   "metadata": {},
   "outputs": [],
   "source": []
  },
  {
   "cell_type": "code",
   "execution_count": null,
   "id": "6186f186",
   "metadata": {},
   "outputs": [],
   "source": []
  }
 ],
 "metadata": {
  "kernelspec": {
   "display_name": "Python 3 (ipykernel)",
   "language": "python",
   "name": "python3"
  },
  "language_info": {
   "codemirror_mode": {
    "name": "ipython",
    "version": 3
   },
   "file_extension": ".py",
   "mimetype": "text/x-python",
   "name": "python",
   "nbconvert_exporter": "python",
   "pygments_lexer": "ipython3",
   "version": "3.9.13"
  }
 },
 "nbformat": 4,
 "nbformat_minor": 5
}
