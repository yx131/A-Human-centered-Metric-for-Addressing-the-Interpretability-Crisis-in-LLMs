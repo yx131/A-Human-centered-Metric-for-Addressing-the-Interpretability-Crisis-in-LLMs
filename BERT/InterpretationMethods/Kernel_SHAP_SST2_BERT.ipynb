{
 "cells": [
  {
   "cell_type": "code",
   "execution_count": 1,
   "id": "0379fb82",
   "metadata": {},
   "outputs": [],
   "source": [
    "import sys, time, pickle\n",
    "import torch\n",
    "\n",
    "sys.path.insert(0, '../../Utils')\n",
    "from global_constants import gpu_device\n",
    "\n",
    "sys.path.insert(0, '../')\n",
    "from BERT_models import BERT_SST2_MODEL\n",
    "\n",
    "from _utils import sample_random_glue_sst2, get_continuation_mapping, \\\n",
    "                    get_continuous_attributions, get_continuous_raw_inputs, \\\n",
    "                    collect_info_for_metric, save_info, download_HTML"
   ]
  },
  {
   "cell_type": "code",
   "execution_count": 2,
   "id": "4bd7ee44",
   "metadata": {},
   "outputs": [
    {
     "name": "stderr",
     "output_type": "stream",
     "text": [
      "Reusing dataset glue (/home/user/.cache/huggingface/datasets/glue/sst2/1.0.0/dacbe3125aa31d7f70367a07a8a9e72a5a0bfeb5fc42e75c9db75b96da6053ad)\n"
     ]
    },
    {
     "data": {
      "application/vnd.jupyter.widget-view+json": {
       "model_id": "ed5c9a418da24b2f825ea019fe6dcffa",
       "version_major": 2,
       "version_minor": 0
      },
      "text/plain": [
       "  0%|          | 0/3 [00:00<?, ?it/s]"
      ]
     },
     "metadata": {},
     "output_type": "display_data"
    },
    {
     "name": "stderr",
     "output_type": "stream",
     "text": [
      "Loading cached processed dataset at /home/user/.cache/huggingface/datasets/glue/sst2/1.0.0/dacbe3125aa31d7f70367a07a8a9e72a5a0bfeb5fc42e75c9db75b96da6053ad/cache-3b24abff24d1d8c0.arrow\n",
      "Loading cached processed dataset at /home/user/.cache/huggingface/datasets/glue/sst2/1.0.0/dacbe3125aa31d7f70367a07a8a9e72a5a0bfeb5fc42e75c9db75b96da6053ad/cache-5960909ab3834668.arrow\n"
     ]
    }
   ],
   "source": [
    "sst2_data_raw, targets, idxs = sample_random_glue_sst2()"
   ]
  },
  {
   "cell_type": "code",
   "execution_count": 3,
   "id": "50cc7ee5",
   "metadata": {},
   "outputs": [],
   "source": [
    "model = BERT_SST2_MODEL()\n",
    "tokenizer = model.tokenizer"
   ]
  },
  {
   "cell_type": "code",
   "execution_count": 4,
   "id": "3e778996",
   "metadata": {},
   "outputs": [],
   "source": [
    "model_out_list, raw_attr_list, conti_attr_list, raw_input_list = [], [], [], []"
   ]
  },
  {
   "cell_type": "code",
   "execution_count": 5,
   "id": "60cece0e",
   "metadata": {
    "scrolled": false
   },
   "outputs": [],
   "source": [
    "from captum.attr import KernelShap\n",
    "from captum.attr import visualization "
   ]
  },
  {
   "cell_type": "code",
   "execution_count": 6,
   "id": "9937c409",
   "metadata": {},
   "outputs": [],
   "source": [
    "ks = KernelShap(model)"
   ]
  },
  {
   "cell_type": "code",
   "execution_count": 7,
   "id": "eb6c1691",
   "metadata": {},
   "outputs": [],
   "source": [
    "def generate_record(raw_review, target):\n",
    "    #tokenizer operations\n",
    "    tokenized = tokenizer(raw_review, truncation=True, return_offsets_mapping=True)\n",
    "    offset_mapping = tokenized['offset_mapping']\n",
    "    conti_map = get_continuation_mapping(offset_mapping)\n",
    "    input_ids = torch.tensor(tokenized['input_ids']).unsqueeze(0).to(gpu_device)\n",
    "    detokenized = [t.replace('#', '') for t in tokenizer.convert_ids_to_tokens(input_ids[0])]\n",
    "    \n",
    "    #feeding input forward \n",
    "    input_emb = model.get_embeddings(input_ids)\n",
    "    pred_prob = model(input_emb).item()\n",
    "    \n",
    "    #categorizing results\n",
    "    pred_class = 'Pos' if pred_prob > 0.5 else 'Neg' \n",
    "    true_class = 'Pos' if target > 0.5 else 'Neg' \n",
    "    \n",
    "    #attribution algorithm working\n",
    "    attribution = ks.attribute(input_emb, n_samples=2000, perturbations_per_eval=200, show_progress=True)\n",
    "    word_attributions = attribution.squeeze(0).sum(dim=1)\n",
    "    word_attributions /= torch.norm(word_attributions)\n",
    "#     word_attributions = attr_normalizing_func(word_attributions)\n",
    "    attr_score = torch.sum(word_attributions)\n",
    "    attr_class = 'Pos' if attr_score > 0.5 else 'Neg'\n",
    "    convergence_score = None\n",
    "    \n",
    "    \n",
    "    #re-organizing tensors and arrays because words get split down\n",
    "    conti_attr = get_continuous_attributions(conti_map, word_attributions)\n",
    "    raw_input = get_continuous_raw_inputs(conti_map, detokenized)\n",
    "\n",
    "#     print(f'word attributions {word_attributions}')\n",
    "#     print(f'pred_prob {pred_prob}')\n",
    "#     print(f'pred_class {pred_class}')\n",
    "#     print(f'true_class {true_class}')\n",
    "#     print(f'attribution {attribution}')\n",
    "#     print(f'attr_class {attr_class}')\n",
    "#     print(f'attr_score {attr_score}')\n",
    "#     print(f'raw_input {raw_input}')\n",
    "\n",
    "        \n",
    "#     collect info for metrics later\n",
    "    collect_info_for_metric(model_out_list, pred_prob, raw_attr_list, attribution, conti_attr_list, conti_attr, raw_input_list, raw_input)\n",
    "        \n",
    "    \n",
    "    visual_record = visualization.VisualizationDataRecord(word_attributions=conti_attr,\n",
    "                                                         pred_prob=pred_prob,\n",
    "                                                         pred_class=pred_class,\n",
    "                                                         true_class=true_class,\n",
    "                                                         attr_class=attr_class,\n",
    "                                                         attr_score=attr_score,\n",
    "                                                         raw_input_ids=raw_input,\n",
    "                                                         convergence_score=convergence_score)\n",
    "        \n",
    "        \n",
    "    return visual_record\n",
    "      \n",
    "    "
   ]
  },
  {
   "cell_type": "code",
   "execution_count": 8,
   "id": "e6941070",
   "metadata": {
    "scrolled": false
   },
   "outputs": [
    {
     "name": "stdout",
     "output_type": "stream",
     "text": [
      "Raw review: its oscar nomination \n",
      "GT target: 1\n"
     ]
    },
    {
     "name": "stderr",
     "output_type": "stream",
     "text": [
      "Kernel Shap attribution: 100%|█████████████████████████████████████████████████████████████████████████████████████████████████| 10/10 [00:00<00:00, 15.24it/s]\n"
     ]
    },
    {
     "name": "stdout",
     "output_type": "stream",
     "text": [
      "word attr tensor([ 0.3326, -0.7398,  0.0989,  0.5315, -0.2232], device='cuda:0')\n",
      "conti attr [tensor(0.3326, device='cuda:0'), tensor(-0.7398, device='cuda:0'), tensor(0.0989, device='cuda:0'), tensor(0.5315, device='cuda:0'), tensor(-0.2232, device='cuda:0')]\n",
      "detokenized ['[CLS]', 'its', 'oscar', 'nomination', '[SEP]']\n",
      "len conti_raw 5\n",
      "conti_raw ['[CLS]', 'its', 'oscar', 'nomination', '[SEP]']\n"
     ]
    },
    {
     "data": {
      "text/html": [
       "<table width: 100%><div style=\"border-top: 1px solid; margin-top: 5px;             padding-top: 5px; display: inline-block\"><b>Legend: </b><span style=\"display: inline-block; width: 10px; height: 10px;                 border: 1px solid; background-color:                 hsl(0, 75%, 60%)\"></span> Negative  <span style=\"display: inline-block; width: 10px; height: 10px;                 border: 1px solid; background-color:                 hsl(0, 75%, 100%)\"></span> Neutral  <span style=\"display: inline-block; width: 10px; height: 10px;                 border: 1px solid; background-color:                 hsl(120, 75%, 50%)\"></span> Positive  </div><tr><th>True Label</th><th>Predicted Label</th><th>Attribution Label</th><th>Attribution Score</th><th>Word Importance</th><tr><td><text style=\"padding-right:2em\"><b>Pos</b></text></td><td><text style=\"padding-right:2em\"><b>Pos (0.96)</b></text></td><td><text style=\"padding-right:2em\"><b>Neg</b></text></td><td><text style=\"padding-right:2em\"><b>0.00</b></text></td><td><mark style=\"background-color: hsl(120, 75%, 84%); opacity:1.0;                     line-height:1.75\"><font color=\"black\"> [CLS]                    </font></mark><mark style=\"background-color: hsl(0, 75%, 71%); opacity:1.0;                     line-height:1.75\"><font color=\"black\"> its                    </font></mark><mark style=\"background-color: hsl(120, 75%, 96%); opacity:1.0;                     line-height:1.75\"><font color=\"black\"> oscar                    </font></mark><mark style=\"background-color: hsl(120, 75%, 74%); opacity:1.0;                     line-height:1.75\"><font color=\"black\"> nomination                    </font></mark><mark style=\"background-color: hsl(0, 75%, 92%); opacity:1.0;                     line-height:1.75\"><font color=\"black\"> [SEP]                    </font></mark></td><tr></table>"
      ],
      "text/plain": [
       "<IPython.core.display.HTML object>"
      ]
     },
     "metadata": {},
     "output_type": "display_data"
    },
    {
     "name": "stdout",
     "output_type": "stream",
     "text": [
      "<IPython.core.display.HTML object>\n",
      "Raw review: shenanigans and slapstick \n",
      "GT target: 1\n"
     ]
    },
    {
     "name": "stderr",
     "output_type": "stream",
     "text": [
      "Kernel Shap attribution: 100%|█████████████████████████████████████████████████████████████████████████████████████████████████| 10/10 [00:00<00:00, 11.51it/s]\n"
     ]
    },
    {
     "name": "stdout",
     "output_type": "stream",
     "text": [
      "word attr tensor([-0.1049, -0.4902, -0.1817,  0.4962,  0.0640, -0.4695, -0.0862,  0.4502,\n",
      "         0.1868], device='cuda:0')\n",
      "conti attr [tensor(-0.1049, device='cuda:0'), tensor(0.0721, device='cuda:0'), tensor(-0.4695, device='cuda:0'), tensor(0.1820, device='cuda:0'), tensor(0.1868, device='cuda:0')]\n",
      "detokenized ['[CLS]', 'shen', 'ani', 'gan', 's', 'and', 'slap', 'stick', '[SEP]']\n",
      "len conti_raw 5\n",
      "conti_raw ['[CLS]', 'shenanigans', 'and', 'slapstick', '[SEP]']\n"
     ]
    },
    {
     "data": {
      "text/html": [
       "<table width: 100%><div style=\"border-top: 1px solid; margin-top: 5px;             padding-top: 5px; display: inline-block\"><b>Legend: </b><span style=\"display: inline-block; width: 10px; height: 10px;                 border: 1px solid; background-color:                 hsl(0, 75%, 60%)\"></span> Negative  <span style=\"display: inline-block; width: 10px; height: 10px;                 border: 1px solid; background-color:                 hsl(0, 75%, 100%)\"></span> Neutral  <span style=\"display: inline-block; width: 10px; height: 10px;                 border: 1px solid; background-color:                 hsl(120, 75%, 50%)\"></span> Positive  </div><tr><th>True Label</th><th>Predicted Label</th><th>Attribution Label</th><th>Attribution Score</th><th>Word Importance</th><tr><td><text style=\"padding-right:2em\"><b>Pos</b></text></td><td><text style=\"padding-right:2em\"><b>Neg (0.03)</b></text></td><td><text style=\"padding-right:2em\"><b>Neg</b></text></td><td><text style=\"padding-right:2em\"><b>-0.14</b></text></td><td><mark style=\"background-color: hsl(0, 75%, 96%); opacity:1.0;                     line-height:1.75\"><font color=\"black\"> [CLS]                    </font></mark><mark style=\"background-color: hsl(120, 75%, 97%); opacity:1.0;                     line-height:1.75\"><font color=\"black\"> shenanigans                    </font></mark><mark style=\"background-color: hsl(0, 75%, 82%); opacity:1.0;                     line-height:1.75\"><font color=\"black\"> and                    </font></mark><mark style=\"background-color: hsl(120, 75%, 91%); opacity:1.0;                     line-height:1.75\"><font color=\"black\"> slapstick                    </font></mark><mark style=\"background-color: hsl(120, 75%, 91%); opacity:1.0;                     line-height:1.75\"><font color=\"black\"> [SEP]                    </font></mark></td><tr></table>"
      ],
      "text/plain": [
       "<IPython.core.display.HTML object>"
      ]
     },
     "metadata": {},
     "output_type": "display_data"
    },
    {
     "name": "stdout",
     "output_type": "stream",
     "text": [
      "<IPython.core.display.HTML object>\n",
      "Raw review: an unsettling sight , \n",
      "GT target: 0\n"
     ]
    },
    {
     "name": "stderr",
     "output_type": "stream",
     "text": [
      "Kernel Shap attribution: 100%|█████████████████████████████████████████████████████████████████████████████████████████████████| 10/10 [00:00<00:00, 12.65it/s]\n"
     ]
    },
    {
     "name": "stdout",
     "output_type": "stream",
     "text": [
      "word attr tensor([ 0.7390, -0.4312,  0.2279, -0.1670, -0.1000, -0.1417, -0.3374,  0.2103],\n",
      "       device='cuda:0')\n",
      "conti attr [tensor(0.7390, device='cuda:0'), tensor(-0.4312, device='cuda:0'), tensor(-0.0348, device='cuda:0'), tensor(-0.1417, device='cuda:0'), tensor(-0.3374, device='cuda:0'), tensor(0.2103, device='cuda:0')]\n",
      "detokenized ['[CLS]', 'an', 'un', 'sett', 'ling', 'sight', ',', '[SEP]']\n",
      "len conti_raw 6\n",
      "conti_raw ['[CLS]', 'an', 'unsettling', 'sight', ',', '[SEP]']\n"
     ]
    },
    {
     "data": {
      "text/html": [
       "<table width: 100%><div style=\"border-top: 1px solid; margin-top: 5px;             padding-top: 5px; display: inline-block\"><b>Legend: </b><span style=\"display: inline-block; width: 10px; height: 10px;                 border: 1px solid; background-color:                 hsl(0, 75%, 60%)\"></span> Negative  <span style=\"display: inline-block; width: 10px; height: 10px;                 border: 1px solid; background-color:                 hsl(0, 75%, 100%)\"></span> Neutral  <span style=\"display: inline-block; width: 10px; height: 10px;                 border: 1px solid; background-color:                 hsl(120, 75%, 50%)\"></span> Positive  </div><tr><th>True Label</th><th>Predicted Label</th><th>Attribution Label</th><th>Attribution Score</th><th>Word Importance</th><tr><td><text style=\"padding-right:2em\"><b>Neg</b></text></td><td><text style=\"padding-right:2em\"><b>Pos (0.93)</b></text></td><td><text style=\"padding-right:2em\"><b>Neg</b></text></td><td><text style=\"padding-right:2em\"><b>-0.00</b></text></td><td><mark style=\"background-color: hsl(120, 75%, 64%); opacity:1.0;                     line-height:1.75\"><font color=\"black\"> [CLS]                    </font></mark><mark style=\"background-color: hsl(0, 75%, 83%); opacity:1.0;                     line-height:1.75\"><font color=\"black\"> an                    </font></mark><mark style=\"background-color: hsl(0, 75%, 99%); opacity:1.0;                     line-height:1.75\"><font color=\"black\"> unsettling                    </font></mark><mark style=\"background-color: hsl(0, 75%, 95%); opacity:1.0;                     line-height:1.75\"><font color=\"black\"> sight                    </font></mark><mark style=\"background-color: hsl(0, 75%, 87%); opacity:1.0;                     line-height:1.75\"><font color=\"black\"> ,                    </font></mark><mark style=\"background-color: hsl(120, 75%, 90%); opacity:1.0;                     line-height:1.75\"><font color=\"black\"> [SEP]                    </font></mark></td><tr></table>"
      ],
      "text/plain": [
       "<IPython.core.display.HTML object>"
      ]
     },
     "metadata": {},
     "output_type": "display_data"
    },
    {
     "name": "stdout",
     "output_type": "stream",
     "text": [
      "<IPython.core.display.HTML object>\n",
      "Raw review: the climactic hourlong cricket match \n",
      "GT target: 1\n"
     ]
    },
    {
     "name": "stderr",
     "output_type": "stream",
     "text": [
      "Kernel Shap attribution: 100%|█████████████████████████████████████████████████████████████████████████████████████████████████| 10/10 [00:00<00:00, 11.29it/s]\n"
     ]
    },
    {
     "name": "stdout",
     "output_type": "stream",
     "text": [
      "word attr tensor([-2.6536e-01, -3.5579e-01, -8.0240e-02,  2.5442e-01,  2.5774e-01,\n",
      "         4.0406e-01,  6.6838e-01, -6.1052e-04, -4.4255e-02, -2.3117e-01],\n",
      "       device='cuda:0')\n",
      "conti attr [tensor(-0.2654, device='cuda:0'), tensor(-0.3558, device='cuda:0'), tensor(0.1724, device='cuda:0'), tensor(0.5362, device='cuda:0'), tensor(-0.0006, device='cuda:0'), tensor(-0.0443, device='cuda:0'), tensor(-0.2312, device='cuda:0')]\n",
      "detokenized ['[CLS]', 'the', 'cl', 'ima', 'ctic', 'hour', 'long', 'cricket', 'match', '[SEP]']\n",
      "len conti_raw 7\n",
      "conti_raw ['[CLS]', 'the', 'climactic', 'hourlong', 'cricket', 'match', '[SEP]']\n"
     ]
    },
    {
     "data": {
      "text/html": [
       "<table width: 100%><div style=\"border-top: 1px solid; margin-top: 5px;             padding-top: 5px; display: inline-block\"><b>Legend: </b><span style=\"display: inline-block; width: 10px; height: 10px;                 border: 1px solid; background-color:                 hsl(0, 75%, 60%)\"></span> Negative  <span style=\"display: inline-block; width: 10px; height: 10px;                 border: 1px solid; background-color:                 hsl(0, 75%, 100%)\"></span> Neutral  <span style=\"display: inline-block; width: 10px; height: 10px;                 border: 1px solid; background-color:                 hsl(120, 75%, 50%)\"></span> Positive  </div><tr><th>True Label</th><th>Predicted Label</th><th>Attribution Label</th><th>Attribution Score</th><th>Word Importance</th><tr><td><text style=\"padding-right:2em\"><b>Pos</b></text></td><td><text style=\"padding-right:2em\"><b>Pos (0.60)</b></text></td><td><text style=\"padding-right:2em\"><b>Pos</b></text></td><td><text style=\"padding-right:2em\"><b>0.61</b></text></td><td><mark style=\"background-color: hsl(0, 75%, 90%); opacity:1.0;                     line-height:1.75\"><font color=\"black\"> [CLS]                    </font></mark><mark style=\"background-color: hsl(0, 75%, 86%); opacity:1.0;                     line-height:1.75\"><font color=\"black\"> the                    </font></mark><mark style=\"background-color: hsl(120, 75%, 92%); opacity:1.0;                     line-height:1.75\"><font color=\"black\"> climactic                    </font></mark><mark style=\"background-color: hsl(120, 75%, 74%); opacity:1.0;                     line-height:1.75\"><font color=\"black\"> hourlong                    </font></mark><mark style=\"background-color: hsl(0, 75%, 100%); opacity:1.0;                     line-height:1.75\"><font color=\"black\"> cricket                    </font></mark><mark style=\"background-color: hsl(0, 75%, 99%); opacity:1.0;                     line-height:1.75\"><font color=\"black\"> match                    </font></mark><mark style=\"background-color: hsl(0, 75%, 91%); opacity:1.0;                     line-height:1.75\"><font color=\"black\"> [SEP]                    </font></mark></td><tr></table>"
      ],
      "text/plain": [
       "<IPython.core.display.HTML object>"
      ]
     },
     "metadata": {},
     "output_type": "display_data"
    },
    {
     "name": "stderr",
     "output_type": "stream",
     "text": [
      "/home/user/anaconda3/envs/metric/lib/python3.9/site-packages/captum/attr/_core/lime.py:1096: UserWarning: Attempting to construct interpretable model with > 10000 features.This can be very slow or lead to OOM issues. Please provide a featuremask which groups input features to reduce the number of interpretablefeatures. \n",
      "  warnings.warn(\n"
     ]
    },
    {
     "name": "stdout",
     "output_type": "stream",
     "text": [
      "<IPython.core.display.HTML object>\n",
      "Raw review: alternating between facetious comic parody and pulp melodrama , this smart-aleck movie ... tosses around some intriguing questions about the difference between human and android life \n",
      "GT target: 1\n"
     ]
    },
    {
     "name": "stderr",
     "output_type": "stream",
     "text": [
      "Kernel Shap attribution: 100%|█████████████████████████████████████████████████████████████████████████████████████████████████| 10/10 [00:02<00:00,  4.75it/s]\n"
     ]
    },
    {
     "name": "stdout",
     "output_type": "stream",
     "text": [
      "word attr tensor([ 0.1451, -0.1695,  0.0501,  0.1400, -0.1298,  0.1503,  0.4115,  0.1220,\n",
      "         0.1210,  0.2512,  0.1019,  0.2528, -0.0822,  0.2141, -0.0008,  0.2444,\n",
      "         0.2349,  0.2293, -0.0148,  0.0067,  0.1043,  0.3112,  0.1624,  0.1112,\n",
      "         0.3164,  0.0090, -0.0686,  0.0008,  0.1792,  0.0504, -0.0493,  0.0848,\n",
      "         0.1538,  0.0248,  0.0873, -0.0169,  0.0648], device='cuda:0')\n",
      "conti attr [tensor(0.1451, device='cuda:0'), tensor(-0.1695, device='cuda:0'), tensor(0.0501, device='cuda:0'), tensor(0.0051, device='cuda:0'), tensor(0.1503, device='cuda:0'), tensor(0.4115, device='cuda:0'), tensor(0.1220, device='cuda:0'), tensor(0.1210, device='cuda:0'), tensor(0.2147, device='cuda:0'), tensor(-0.0822, device='cuda:0'), tensor(0.2141, device='cuda:0'), tensor(0.2038, device='cuda:0'), tensor(-0.0148, device='cuda:0'), tensor(0.1833, device='cuda:0'), tensor(0.1368, device='cuda:0'), tensor(0.3164, device='cuda:0'), tensor(0.0090, device='cuda:0'), tensor(-0.0686, device='cuda:0'), tensor(0.0008, device='cuda:0'), tensor(0.1792, device='cuda:0'), tensor(0.0504, device='cuda:0'), tensor(-0.0493, device='cuda:0'), tensor(0.0848, device='cuda:0'), tensor(0.1538, device='cuda:0'), tensor(0.0248, device='cuda:0'), tensor(0.0873, device='cuda:0'), tensor(-0.0169, device='cuda:0'), tensor(0.0648, device='cuda:0')]\n",
      "detokenized ['[CLS]', 'alternating', 'between', 'face', 'tious', 'comic', 'parody', 'and', 'pulp', 'mel', 'od', 'rama', ',', 'this', 'smart', '-', 'alec', 'k', 'movie', '.', '.', '.', 'toss', 'es', 'around', 'some', 'intriguing', 'questions', 'about', 'the', 'difference', 'between', 'human', 'and', 'android', 'life', '[SEP]']\n",
      "len conti_raw 28\n",
      "conti_raw ['[CLS]', 'alternating', 'between', 'facetious', 'comic', 'parody', 'and', 'pulp', 'melodrama', ',', 'this', 'smart-aleck', 'movie', '...', 'tosses', 'around', 'some', 'intriguing', 'questions', 'about', 'the', 'difference', 'between', 'human', 'and', 'android', 'life', '[SEP]']\n"
     ]
    },
    {
     "data": {
      "text/html": [
       "<table width: 100%><div style=\"border-top: 1px solid; margin-top: 5px;             padding-top: 5px; display: inline-block\"><b>Legend: </b><span style=\"display: inline-block; width: 10px; height: 10px;                 border: 1px solid; background-color:                 hsl(0, 75%, 60%)\"></span> Negative  <span style=\"display: inline-block; width: 10px; height: 10px;                 border: 1px solid; background-color:                 hsl(0, 75%, 100%)\"></span> Neutral  <span style=\"display: inline-block; width: 10px; height: 10px;                 border: 1px solid; background-color:                 hsl(120, 75%, 50%)\"></span> Positive  </div><tr><th>True Label</th><th>Predicted Label</th><th>Attribution Label</th><th>Attribution Score</th><th>Word Importance</th><tr><td><text style=\"padding-right:2em\"><b>Pos</b></text></td><td><text style=\"padding-right:2em\"><b>Pos (0.93)</b></text></td><td><text style=\"padding-right:2em\"><b>Pos</b></text></td><td><text style=\"padding-right:2em\"><b>3.80</b></text></td><td><mark style=\"background-color: hsl(120, 75%, 93%); opacity:1.0;                     line-height:1.75\"><font color=\"black\"> [CLS]                    </font></mark><mark style=\"background-color: hsl(0, 75%, 94%); opacity:1.0;                     line-height:1.75\"><font color=\"black\"> alternating                    </font></mark><mark style=\"background-color: hsl(120, 75%, 98%); opacity:1.0;                     line-height:1.75\"><font color=\"black\"> between                    </font></mark><mark style=\"background-color: hsl(120, 75%, 100%); opacity:1.0;                     line-height:1.75\"><font color=\"black\"> facetious                    </font></mark><mark style=\"background-color: hsl(120, 75%, 93%); opacity:1.0;                     line-height:1.75\"><font color=\"black\"> comic                    </font></mark><mark style=\"background-color: hsl(120, 75%, 80%); opacity:1.0;                     line-height:1.75\"><font color=\"black\"> parody                    </font></mark><mark style=\"background-color: hsl(120, 75%, 94%); opacity:1.0;                     line-height:1.75\"><font color=\"black\"> and                    </font></mark><mark style=\"background-color: hsl(120, 75%, 94%); opacity:1.0;                     line-height:1.75\"><font color=\"black\"> pulp                    </font></mark><mark style=\"background-color: hsl(120, 75%, 90%); opacity:1.0;                     line-height:1.75\"><font color=\"black\"> melodrama                    </font></mark><mark style=\"background-color: hsl(0, 75%, 97%); opacity:1.0;                     line-height:1.75\"><font color=\"black\"> ,                    </font></mark><mark style=\"background-color: hsl(120, 75%, 90%); opacity:1.0;                     line-height:1.75\"><font color=\"black\"> this                    </font></mark><mark style=\"background-color: hsl(120, 75%, 90%); opacity:1.0;                     line-height:1.75\"><font color=\"black\"> smart-aleck                    </font></mark><mark style=\"background-color: hsl(0, 75%, 100%); opacity:1.0;                     line-height:1.75\"><font color=\"black\"> movie                    </font></mark><mark style=\"background-color: hsl(120, 75%, 91%); opacity:1.0;                     line-height:1.75\"><font color=\"black\"> ...                    </font></mark><mark style=\"background-color: hsl(120, 75%, 94%); opacity:1.0;                     line-height:1.75\"><font color=\"black\"> tosses                    </font></mark><mark style=\"background-color: hsl(120, 75%, 85%); opacity:1.0;                     line-height:1.75\"><font color=\"black\"> around                    </font></mark><mark style=\"background-color: hsl(120, 75%, 100%); opacity:1.0;                     line-height:1.75\"><font color=\"black\"> some                    </font></mark><mark style=\"background-color: hsl(0, 75%, 98%); opacity:1.0;                     line-height:1.75\"><font color=\"black\"> intriguing                    </font></mark><mark style=\"background-color: hsl(120, 75%, 100%); opacity:1.0;                     line-height:1.75\"><font color=\"black\"> questions                    </font></mark><mark style=\"background-color: hsl(120, 75%, 92%); opacity:1.0;                     line-height:1.75\"><font color=\"black\"> about                    </font></mark><mark style=\"background-color: hsl(120, 75%, 98%); opacity:1.0;                     line-height:1.75\"><font color=\"black\"> the                    </font></mark><mark style=\"background-color: hsl(0, 75%, 99%); opacity:1.0;                     line-height:1.75\"><font color=\"black\"> difference                    </font></mark><mark style=\"background-color: hsl(120, 75%, 96%); opacity:1.0;                     line-height:1.75\"><font color=\"black\"> between                    </font></mark><mark style=\"background-color: hsl(120, 75%, 93%); opacity:1.0;                     line-height:1.75\"><font color=\"black\"> human                    </font></mark><mark style=\"background-color: hsl(120, 75%, 99%); opacity:1.0;                     line-height:1.75\"><font color=\"black\"> and                    </font></mark><mark style=\"background-color: hsl(120, 75%, 96%); opacity:1.0;                     line-height:1.75\"><font color=\"black\"> android                    </font></mark><mark style=\"background-color: hsl(0, 75%, 100%); opacity:1.0;                     line-height:1.75\"><font color=\"black\"> life                    </font></mark><mark style=\"background-color: hsl(120, 75%, 97%); opacity:1.0;                     line-height:1.75\"><font color=\"black\"> [SEP]                    </font></mark></td><tr></table>"
      ],
      "text/plain": [
       "<IPython.core.display.HTML object>"
      ]
     },
     "metadata": {},
     "output_type": "display_data"
    },
    {
     "name": "stdout",
     "output_type": "stream",
     "text": [
      "<IPython.core.display.HTML object>\n",
      "Raw review: to be a part of that elusive adult world \n",
      "GT target: 1\n"
     ]
    },
    {
     "name": "stderr",
     "output_type": "stream",
     "text": [
      "Kernel Shap attribution: 100%|█████████████████████████████████████████████████████████████████████████████████████████████████| 10/10 [00:00<00:00, 10.90it/s]\n"
     ]
    },
    {
     "name": "stdout",
     "output_type": "stream",
     "text": [
      "word attr tensor([ 0.1292,  0.1135,  0.1927,  0.8598,  0.2565, -0.0644,  0.1480,  0.0362,\n",
      "         0.0113,  0.2581, -0.1846], device='cuda:0')\n",
      "conti attr [tensor(0.1292, device='cuda:0'), tensor(0.1135, device='cuda:0'), tensor(0.1927, device='cuda:0'), tensor(0.8598, device='cuda:0'), tensor(0.2565, device='cuda:0'), tensor(-0.0644, device='cuda:0'), tensor(0.1480, device='cuda:0'), tensor(0.0362, device='cuda:0'), tensor(0.0113, device='cuda:0'), tensor(0.2581, device='cuda:0'), tensor(-0.1846, device='cuda:0')]\n",
      "detokenized ['[CLS]', 'to', 'be', 'a', 'part', 'of', 'that', 'elusive', 'adult', 'world', '[SEP]']\n",
      "len conti_raw 11\n",
      "conti_raw ['[CLS]', 'to', 'be', 'a', 'part', 'of', 'that', 'elusive', 'adult', 'world', '[SEP]']\n"
     ]
    },
    {
     "data": {
      "text/html": [
       "<table width: 100%><div style=\"border-top: 1px solid; margin-top: 5px;             padding-top: 5px; display: inline-block\"><b>Legend: </b><span style=\"display: inline-block; width: 10px; height: 10px;                 border: 1px solid; background-color:                 hsl(0, 75%, 60%)\"></span> Negative  <span style=\"display: inline-block; width: 10px; height: 10px;                 border: 1px solid; background-color:                 hsl(0, 75%, 100%)\"></span> Neutral  <span style=\"display: inline-block; width: 10px; height: 10px;                 border: 1px solid; background-color:                 hsl(120, 75%, 50%)\"></span> Positive  </div><tr><th>True Label</th><th>Predicted Label</th><th>Attribution Label</th><th>Attribution Score</th><th>Word Importance</th><tr><td><text style=\"padding-right:2em\"><b>Pos</b></text></td><td><text style=\"padding-right:2em\"><b>Pos (0.96)</b></text></td><td><text style=\"padding-right:2em\"><b>Pos</b></text></td><td><text style=\"padding-right:2em\"><b>1.76</b></text></td><td><mark style=\"background-color: hsl(120, 75%, 94%); opacity:1.0;                     line-height:1.75\"><font color=\"black\"> [CLS]                    </font></mark><mark style=\"background-color: hsl(120, 75%, 95%); opacity:1.0;                     line-height:1.75\"><font color=\"black\"> to                    </font></mark><mark style=\"background-color: hsl(120, 75%, 91%); opacity:1.0;                     line-height:1.75\"><font color=\"black\"> be                    </font></mark><mark style=\"background-color: hsl(120, 75%, 58%); opacity:1.0;                     line-height:1.75\"><font color=\"black\"> a                    </font></mark><mark style=\"background-color: hsl(120, 75%, 88%); opacity:1.0;                     line-height:1.75\"><font color=\"black\"> part                    </font></mark><mark style=\"background-color: hsl(0, 75%, 98%); opacity:1.0;                     line-height:1.75\"><font color=\"black\"> of                    </font></mark><mark style=\"background-color: hsl(120, 75%, 93%); opacity:1.0;                     line-height:1.75\"><font color=\"black\"> that                    </font></mark><mark style=\"background-color: hsl(120, 75%, 99%); opacity:1.0;                     line-height:1.75\"><font color=\"black\"> elusive                    </font></mark><mark style=\"background-color: hsl(120, 75%, 100%); opacity:1.0;                     line-height:1.75\"><font color=\"black\"> adult                    </font></mark><mark style=\"background-color: hsl(120, 75%, 88%); opacity:1.0;                     line-height:1.75\"><font color=\"black\"> world                    </font></mark><mark style=\"background-color: hsl(0, 75%, 93%); opacity:1.0;                     line-height:1.75\"><font color=\"black\"> [SEP]                    </font></mark></td><tr></table>"
      ],
      "text/plain": [
       "<IPython.core.display.HTML object>"
      ]
     },
     "metadata": {},
     "output_type": "display_data"
    },
    {
     "name": "stdout",
     "output_type": "stream",
     "text": [
      "<IPython.core.display.HTML object>\n",
      "Raw review: emotional power \n",
      "GT target: 1\n"
     ]
    },
    {
     "name": "stderr",
     "output_type": "stream",
     "text": [
      "Kernel Shap attribution: 100%|█████████████████████████████████████████████████████████████████████████████████████████████████| 10/10 [00:00<00:00, 15.78it/s]\n"
     ]
    },
    {
     "name": "stdout",
     "output_type": "stream",
     "text": [
      "word attr tensor([-0.5807,  0.4241, -0.4068,  0.5634], device='cuda:0')\n",
      "conti attr [tensor(-0.5807, device='cuda:0'), tensor(0.4241, device='cuda:0'), tensor(-0.4068, device='cuda:0'), tensor(0.5634, device='cuda:0')]\n",
      "detokenized ['[CLS]', 'emotional', 'power', '[SEP]']\n",
      "len conti_raw 4\n",
      "conti_raw ['[CLS]', 'emotional', 'power', '[SEP]']\n"
     ]
    },
    {
     "data": {
      "text/html": [
       "<table width: 100%><div style=\"border-top: 1px solid; margin-top: 5px;             padding-top: 5px; display: inline-block\"><b>Legend: </b><span style=\"display: inline-block; width: 10px; height: 10px;                 border: 1px solid; background-color:                 hsl(0, 75%, 60%)\"></span> Negative  <span style=\"display: inline-block; width: 10px; height: 10px;                 border: 1px solid; background-color:                 hsl(0, 75%, 100%)\"></span> Neutral  <span style=\"display: inline-block; width: 10px; height: 10px;                 border: 1px solid; background-color:                 hsl(120, 75%, 50%)\"></span> Positive  </div><tr><th>True Label</th><th>Predicted Label</th><th>Attribution Label</th><th>Attribution Score</th><th>Word Importance</th><tr><td><text style=\"padding-right:2em\"><b>Pos</b></text></td><td><text style=\"padding-right:2em\"><b>Pos (0.98)</b></text></td><td><text style=\"padding-right:2em\"><b>Neg</b></text></td><td><text style=\"padding-right:2em\"><b>0.00</b></text></td><td><mark style=\"background-color: hsl(0, 75%, 77%); opacity:1.0;                     line-height:1.75\"><font color=\"black\"> [CLS]                    </font></mark><mark style=\"background-color: hsl(120, 75%, 79%); opacity:1.0;                     line-height:1.75\"><font color=\"black\"> emotional                    </font></mark><mark style=\"background-color: hsl(0, 75%, 84%); opacity:1.0;                     line-height:1.75\"><font color=\"black\"> power                    </font></mark><mark style=\"background-color: hsl(120, 75%, 72%); opacity:1.0;                     line-height:1.75\"><font color=\"black\"> [SEP]                    </font></mark></td><tr></table>"
      ],
      "text/plain": [
       "<IPython.core.display.HTML object>"
      ]
     },
     "metadata": {},
     "output_type": "display_data"
    },
    {
     "name": "stderr",
     "output_type": "stream",
     "text": [
      "/home/user/anaconda3/envs/metric/lib/python3.9/site-packages/captum/attr/_core/lime.py:1096: UserWarning: Attempting to construct interpretable model with > 10000 features.This can be very slow or lead to OOM issues. Please provide a featuremask which groups input features to reduce the number of interpretablefeatures. \n",
      "  warnings.warn(\n"
     ]
    },
    {
     "name": "stdout",
     "output_type": "stream",
     "text": [
      "<IPython.core.display.HTML object>\n",
      "Raw review: reminds you of why animation is such a perfect medium for children , because of the way it allows the mind to enter and accept another world \n",
      "GT target: 1\n"
     ]
    },
    {
     "name": "stderr",
     "output_type": "stream",
     "text": [
      "Kernel Shap attribution: 100%|█████████████████████████████████████████████████████████████████████████████████████████████████| 10/10 [00:01<00:00,  6.04it/s]\n"
     ]
    },
    {
     "name": "stdout",
     "output_type": "stream",
     "text": [
      "word attr tensor([ 0.7433, -0.1922, -0.0622, -0.1250, -0.0260, -0.2024, -0.0613,  0.1184,\n",
      "         0.2343,  0.1448, -0.1484,  0.0040, -0.0597, -0.0799,  0.1555, -0.1340,\n",
      "         0.1744,  0.1302,  0.0618,  0.0566, -0.1422, -0.3057, -0.0531, -0.0648,\n",
      "        -0.0232, -0.0338, -0.0166, -0.0595, -0.0330], device='cuda:0')\n",
      "conti attr [tensor(0.7433, device='cuda:0'), tensor(-0.1922, device='cuda:0'), tensor(-0.0622, device='cuda:0'), tensor(-0.1250, device='cuda:0'), tensor(-0.0260, device='cuda:0'), tensor(-0.2024, device='cuda:0'), tensor(-0.0613, device='cuda:0'), tensor(0.1184, device='cuda:0'), tensor(0.2343, device='cuda:0'), tensor(0.1448, device='cuda:0'), tensor(-0.1484, device='cuda:0'), tensor(0.0040, device='cuda:0'), tensor(-0.0597, device='cuda:0'), tensor(-0.0799, device='cuda:0'), tensor(0.1555, device='cuda:0'), tensor(-0.1340, device='cuda:0'), tensor(0.1744, device='cuda:0'), tensor(0.1302, device='cuda:0'), tensor(0.0618, device='cuda:0'), tensor(0.0566, device='cuda:0'), tensor(-0.1422, device='cuda:0'), tensor(-0.3057, device='cuda:0'), tensor(-0.0531, device='cuda:0'), tensor(-0.0648, device='cuda:0'), tensor(-0.0232, device='cuda:0'), tensor(-0.0338, device='cuda:0'), tensor(-0.0166, device='cuda:0'), tensor(-0.0595, device='cuda:0'), tensor(-0.0330, device='cuda:0')]\n",
      "detokenized ['[CLS]', 'reminds', 'you', 'of', 'why', 'animation', 'is', 'such', 'a', 'perfect', 'medium', 'for', 'children', ',', 'because', 'of', 'the', 'way', 'it', 'allows', 'the', 'mind', 'to', 'enter', 'and', 'accept', 'another', 'world', '[SEP]']\n",
      "len conti_raw 29\n",
      "conti_raw ['[CLS]', 'reminds', 'you', 'of', 'why', 'animation', 'is', 'such', 'a', 'perfect', 'medium', 'for', 'children', ',', 'because', 'of', 'the', 'way', 'it', 'allows', 'the', 'mind', 'to', 'enter', 'and', 'accept', 'another', 'world', '[SEP]']\n"
     ]
    },
    {
     "data": {
      "text/html": [
       "<table width: 100%><div style=\"border-top: 1px solid; margin-top: 5px;             padding-top: 5px; display: inline-block\"><b>Legend: </b><span style=\"display: inline-block; width: 10px; height: 10px;                 border: 1px solid; background-color:                 hsl(0, 75%, 60%)\"></span> Negative  <span style=\"display: inline-block; width: 10px; height: 10px;                 border: 1px solid; background-color:                 hsl(0, 75%, 100%)\"></span> Neutral  <span style=\"display: inline-block; width: 10px; height: 10px;                 border: 1px solid; background-color:                 hsl(120, 75%, 50%)\"></span> Positive  </div><tr><th>True Label</th><th>Predicted Label</th><th>Attribution Label</th><th>Attribution Score</th><th>Word Importance</th><tr><td><text style=\"padding-right:2em\"><b>Pos</b></text></td><td><text style=\"padding-right:2em\"><b>Pos (0.97)</b></text></td><td><text style=\"padding-right:2em\"><b>Neg</b></text></td><td><text style=\"padding-right:2em\"><b>0.00</b></text></td><td><mark style=\"background-color: hsl(120, 75%, 63%); opacity:1.0;                     line-height:1.75\"><font color=\"black\"> [CLS]                    </font></mark><mark style=\"background-color: hsl(0, 75%, 93%); opacity:1.0;                     line-height:1.75\"><font color=\"black\"> reminds                    </font></mark><mark style=\"background-color: hsl(0, 75%, 98%); opacity:1.0;                     line-height:1.75\"><font color=\"black\"> you                    </font></mark><mark style=\"background-color: hsl(0, 75%, 96%); opacity:1.0;                     line-height:1.75\"><font color=\"black\"> of                    </font></mark><mark style=\"background-color: hsl(0, 75%, 99%); opacity:1.0;                     line-height:1.75\"><font color=\"black\"> why                    </font></mark><mark style=\"background-color: hsl(0, 75%, 92%); opacity:1.0;                     line-height:1.75\"><font color=\"black\"> animation                    </font></mark><mark style=\"background-color: hsl(0, 75%, 98%); opacity:1.0;                     line-height:1.75\"><font color=\"black\"> is                    </font></mark><mark style=\"background-color: hsl(120, 75%, 95%); opacity:1.0;                     line-height:1.75\"><font color=\"black\"> such                    </font></mark><mark style=\"background-color: hsl(120, 75%, 89%); opacity:1.0;                     line-height:1.75\"><font color=\"black\"> a                    </font></mark><mark style=\"background-color: hsl(120, 75%, 93%); opacity:1.0;                     line-height:1.75\"><font color=\"black\"> perfect                    </font></mark><mark style=\"background-color: hsl(0, 75%, 95%); opacity:1.0;                     line-height:1.75\"><font color=\"black\"> medium                    </font></mark><mark style=\"background-color: hsl(120, 75%, 100%); opacity:1.0;                     line-height:1.75\"><font color=\"black\"> for                    </font></mark><mark style=\"background-color: hsl(0, 75%, 98%); opacity:1.0;                     line-height:1.75\"><font color=\"black\"> children                    </font></mark><mark style=\"background-color: hsl(0, 75%, 97%); opacity:1.0;                     line-height:1.75\"><font color=\"black\"> ,                    </font></mark><mark style=\"background-color: hsl(120, 75%, 93%); opacity:1.0;                     line-height:1.75\"><font color=\"black\"> because                    </font></mark><mark style=\"background-color: hsl(0, 75%, 95%); opacity:1.0;                     line-height:1.75\"><font color=\"black\"> of                    </font></mark><mark style=\"background-color: hsl(120, 75%, 92%); opacity:1.0;                     line-height:1.75\"><font color=\"black\"> the                    </font></mark><mark style=\"background-color: hsl(120, 75%, 94%); opacity:1.0;                     line-height:1.75\"><font color=\"black\"> way                    </font></mark><mark style=\"background-color: hsl(120, 75%, 97%); opacity:1.0;                     line-height:1.75\"><font color=\"black\"> it                    </font></mark><mark style=\"background-color: hsl(120, 75%, 98%); opacity:1.0;                     line-height:1.75\"><font color=\"black\"> allows                    </font></mark><mark style=\"background-color: hsl(0, 75%, 95%); opacity:1.0;                     line-height:1.75\"><font color=\"black\"> the                    </font></mark><mark style=\"background-color: hsl(0, 75%, 88%); opacity:1.0;                     line-height:1.75\"><font color=\"black\"> mind                    </font></mark><mark style=\"background-color: hsl(0, 75%, 98%); opacity:1.0;                     line-height:1.75\"><font color=\"black\"> to                    </font></mark><mark style=\"background-color: hsl(0, 75%, 98%); opacity:1.0;                     line-height:1.75\"><font color=\"black\"> enter                    </font></mark><mark style=\"background-color: hsl(0, 75%, 100%); opacity:1.0;                     line-height:1.75\"><font color=\"black\"> and                    </font></mark><mark style=\"background-color: hsl(0, 75%, 99%); opacity:1.0;                     line-height:1.75\"><font color=\"black\"> accept                    </font></mark><mark style=\"background-color: hsl(0, 75%, 100%); opacity:1.0;                     line-height:1.75\"><font color=\"black\"> another                    </font></mark><mark style=\"background-color: hsl(0, 75%, 98%); opacity:1.0;                     line-height:1.75\"><font color=\"black\"> world                    </font></mark><mark style=\"background-color: hsl(0, 75%, 99%); opacity:1.0;                     line-height:1.75\"><font color=\"black\"> [SEP]                    </font></mark></td><tr></table>"
      ],
      "text/plain": [
       "<IPython.core.display.HTML object>"
      ]
     },
     "metadata": {},
     "output_type": "display_data"
    },
    {
     "name": "stdout",
     "output_type": "stream",
     "text": [
      "<IPython.core.display.HTML object>\n",
      "Raw review: unparalleled proportions , writer-director parker \n",
      "GT target: 1\n"
     ]
    },
    {
     "name": "stderr",
     "output_type": "stream",
     "text": [
      "Kernel Shap attribution: 100%|█████████████████████████████████████████████████████████████████████████████████████████████████| 10/10 [00:00<00:00, 10.58it/s]\n"
     ]
    },
    {
     "name": "stdout",
     "output_type": "stream",
     "text": [
      "word attr tensor([-0.0794, -0.0851,  0.4910,  0.2646,  0.6184,  0.1582,  0.0274,  0.0917,\n",
      "        -0.2353, -0.2457,  0.3761,  0.0392], device='cuda:0')\n",
      "conti attr [tensor(-0.0794, device='cuda:0'), tensor(0.4261, device='cuda:0'), tensor(0.1582, device='cuda:0'), tensor(0.0274, device='cuda:0'), tensor(-0.1588, device='cuda:0'), tensor(0.3761, device='cuda:0'), tensor(0.0392, device='cuda:0')]\n",
      "detokenized ['[CLS]', 'un', 'para', 'lle', 'led', 'proportions', ',', 'writer', '-', 'director', 'parker', '[SEP]']\n",
      "len conti_raw 7\n",
      "conti_raw ['[CLS]', 'unparalleled', 'proportions', ',', 'writer-director', 'parker', '[SEP]']\n"
     ]
    },
    {
     "data": {
      "text/html": [
       "<table width: 100%><div style=\"border-top: 1px solid; margin-top: 5px;             padding-top: 5px; display: inline-block\"><b>Legend: </b><span style=\"display: inline-block; width: 10px; height: 10px;                 border: 1px solid; background-color:                 hsl(0, 75%, 60%)\"></span> Negative  <span style=\"display: inline-block; width: 10px; height: 10px;                 border: 1px solid; background-color:                 hsl(0, 75%, 100%)\"></span> Neutral  <span style=\"display: inline-block; width: 10px; height: 10px;                 border: 1px solid; background-color:                 hsl(120, 75%, 50%)\"></span> Positive  </div><tr><th>True Label</th><th>Predicted Label</th><th>Attribution Label</th><th>Attribution Score</th><th>Word Importance</th><tr><td><text style=\"padding-right:2em\"><b>Pos</b></text></td><td><text style=\"padding-right:2em\"><b>Pos (0.88)</b></text></td><td><text style=\"padding-right:2em\"><b>Pos</b></text></td><td><text style=\"padding-right:2em\"><b>1.42</b></text></td><td><mark style=\"background-color: hsl(0, 75%, 97%); opacity:1.0;                     line-height:1.75\"><font color=\"black\"> [CLS]                    </font></mark><mark style=\"background-color: hsl(120, 75%, 79%); opacity:1.0;                     line-height:1.75\"><font color=\"black\"> unparalleled                    </font></mark><mark style=\"background-color: hsl(120, 75%, 93%); opacity:1.0;                     line-height:1.75\"><font color=\"black\"> proportions                    </font></mark><mark style=\"background-color: hsl(120, 75%, 99%); opacity:1.0;                     line-height:1.75\"><font color=\"black\"> ,                    </font></mark><mark style=\"background-color: hsl(0, 75%, 94%); opacity:1.0;                     line-height:1.75\"><font color=\"black\"> writer-director                    </font></mark><mark style=\"background-color: hsl(120, 75%, 82%); opacity:1.0;                     line-height:1.75\"><font color=\"black\"> parker                    </font></mark><mark style=\"background-color: hsl(120, 75%, 99%); opacity:1.0;                     line-height:1.75\"><font color=\"black\"> [SEP]                    </font></mark></td><tr></table>"
      ],
      "text/plain": [
       "<IPython.core.display.HTML object>"
      ]
     },
     "metadata": {},
     "output_type": "display_data"
    },
    {
     "name": "stdout",
     "output_type": "stream",
     "text": [
      "<IPython.core.display.HTML object>\n",
      "Raw review: this surprisingly decent flick \n",
      "GT target: 1\n"
     ]
    },
    {
     "name": "stderr",
     "output_type": "stream",
     "text": [
      "Kernel Shap attribution: 100%|█████████████████████████████████████████████████████████████████████████████████████████████████| 10/10 [00:00<00:00, 13.25it/s]\n"
     ]
    },
    {
     "name": "stdout",
     "output_type": "stream",
     "text": [
      "word attr tensor([-0.1055,  0.4394,  0.0479, -0.3466,  0.5623, -0.5976], device='cuda:0')\n",
      "conti attr [tensor(-0.1055, device='cuda:0'), tensor(0.4394, device='cuda:0'), tensor(0.0479, device='cuda:0'), tensor(-0.3466, device='cuda:0'), tensor(0.5623, device='cuda:0'), tensor(-0.5976, device='cuda:0')]\n",
      "detokenized ['[CLS]', 'this', 'surprisingly', 'decent', 'flick', '[SEP]']\n",
      "len conti_raw 6\n",
      "conti_raw ['[CLS]', 'this', 'surprisingly', 'decent', 'flick', '[SEP]']\n"
     ]
    },
    {
     "data": {
      "text/html": [
       "<table width: 100%><div style=\"border-top: 1px solid; margin-top: 5px;             padding-top: 5px; display: inline-block\"><b>Legend: </b><span style=\"display: inline-block; width: 10px; height: 10px;                 border: 1px solid; background-color:                 hsl(0, 75%, 60%)\"></span> Negative  <span style=\"display: inline-block; width: 10px; height: 10px;                 border: 1px solid; background-color:                 hsl(0, 75%, 100%)\"></span> Neutral  <span style=\"display: inline-block; width: 10px; height: 10px;                 border: 1px solid; background-color:                 hsl(120, 75%, 50%)\"></span> Positive  </div><tr><th>True Label</th><th>Predicted Label</th><th>Attribution Label</th><th>Attribution Score</th><th>Word Importance</th><tr><td><text style=\"padding-right:2em\"><b>Pos</b></text></td><td><text style=\"padding-right:2em\"><b>Pos (0.97)</b></text></td><td><text style=\"padding-right:2em\"><b>Neg</b></text></td><td><text style=\"padding-right:2em\"><b>0.00</b></text></td><td><mark style=\"background-color: hsl(0, 75%, 96%); opacity:1.0;                     line-height:1.75\"><font color=\"black\"> [CLS]                    </font></mark><mark style=\"background-color: hsl(120, 75%, 79%); opacity:1.0;                     line-height:1.75\"><font color=\"black\"> this                    </font></mark><mark style=\"background-color: hsl(120, 75%, 98%); opacity:1.0;                     line-height:1.75\"><font color=\"black\"> surprisingly                    </font></mark><mark style=\"background-color: hsl(0, 75%, 87%); opacity:1.0;                     line-height:1.75\"><font color=\"black\"> decent                    </font></mark><mark style=\"background-color: hsl(120, 75%, 72%); opacity:1.0;                     line-height:1.75\"><font color=\"black\"> flick                    </font></mark><mark style=\"background-color: hsl(0, 75%, 77%); opacity:1.0;                     line-height:1.75\"><font color=\"black\"> [SEP]                    </font></mark></td><tr></table>"
      ],
      "text/plain": [
       "<IPython.core.display.HTML object>"
      ]
     },
     "metadata": {},
     "output_type": "display_data"
    },
    {
     "name": "stderr",
     "output_type": "stream",
     "text": [
      "/home/user/anaconda3/envs/metric/lib/python3.9/site-packages/captum/attr/_core/lime.py:1096: UserWarning: Attempting to construct interpretable model with > 10000 features.This can be very slow or lead to OOM issues. Please provide a featuremask which groups input features to reduce the number of interpretablefeatures. \n",
      "  warnings.warn(\n"
     ]
    },
    {
     "name": "stdout",
     "output_type": "stream",
     "text": [
      "<IPython.core.display.HTML object>\n",
      "Raw review: about the best thing you could say about narc is that it 's a rock-solid little genre picture . \n",
      "GT target: 1\n"
     ]
    },
    {
     "name": "stderr",
     "output_type": "stream",
     "text": [
      "Kernel Shap attribution: 100%|█████████████████████████████████████████████████████████████████████████████████████████████████| 10/10 [00:01<00:00,  6.69it/s]\n"
     ]
    },
    {
     "name": "stdout",
     "output_type": "stream",
     "text": [
      "word attr tensor([ 0.8805,  0.0200, -0.0245, -0.0649, -0.0273,  0.0251, -0.1198,  0.1387,\n",
      "        -0.0812, -0.2530, -0.0149,  0.1445, -0.0340, -0.0854, -0.0128, -0.2325,\n",
      "         0.0045, -0.0676,  0.0112,  0.0789, -0.0666, -0.0562, -0.0884, -0.0137,\n",
      "        -0.0608], device='cuda:0')\n",
      "conti attr [tensor(0.8805, device='cuda:0'), tensor(0.0200, device='cuda:0'), tensor(-0.0245, device='cuda:0'), tensor(-0.0649, device='cuda:0'), tensor(-0.0273, device='cuda:0'), tensor(0.0251, device='cuda:0'), tensor(-0.1198, device='cuda:0'), tensor(0.1387, device='cuda:0'), tensor(-0.0812, device='cuda:0'), tensor(-0.1340, device='cuda:0'), tensor(0.1445, device='cuda:0'), tensor(-0.0340, device='cuda:0'), tensor(-0.0854, device='cuda:0'), tensor(-0.1226, device='cuda:0'), tensor(0.0045, device='cuda:0'), tensor(0.0254, device='cuda:0'), tensor(-0.0666, device='cuda:0'), tensor(-0.0562, device='cuda:0'), tensor(-0.0884, device='cuda:0'), tensor(-0.0137, device='cuda:0'), tensor(-0.0608, device='cuda:0')]\n",
      "detokenized ['[CLS]', 'about', 'the', 'best', 'thing', 'you', 'could', 'say', 'about', 'na', 'rc', 'is', 'that', 'it', \"'\", 's', 'a', 'rock', '-', 'solid', 'little', 'genre', 'picture', '.', '[SEP]']\n",
      "len conti_raw 21\n",
      "conti_raw ['[CLS]', 'about', 'the', 'best', 'thing', 'you', 'could', 'say', 'about', 'narc', 'is', 'that', 'it', \"'s\", 'a', 'rock-solid', 'little', 'genre', 'picture', '.', '[SEP]']\n"
     ]
    },
    {
     "data": {
      "text/html": [
       "<table width: 100%><div style=\"border-top: 1px solid; margin-top: 5px;             padding-top: 5px; display: inline-block\"><b>Legend: </b><span style=\"display: inline-block; width: 10px; height: 10px;                 border: 1px solid; background-color:                 hsl(0, 75%, 60%)\"></span> Negative  <span style=\"display: inline-block; width: 10px; height: 10px;                 border: 1px solid; background-color:                 hsl(0, 75%, 100%)\"></span> Neutral  <span style=\"display: inline-block; width: 10px; height: 10px;                 border: 1px solid; background-color:                 hsl(120, 75%, 50%)\"></span> Positive  </div><tr><th>True Label</th><th>Predicted Label</th><th>Attribution Label</th><th>Attribution Score</th><th>Word Importance</th><tr><td><text style=\"padding-right:2em\"><b>Pos</b></text></td><td><text style=\"padding-right:2em\"><b>Pos (0.95)</b></text></td><td><text style=\"padding-right:2em\"><b>Neg</b></text></td><td><text style=\"padding-right:2em\"><b>0.00</b></text></td><td><mark style=\"background-color: hsl(120, 75%, 56%); opacity:1.0;                     line-height:1.75\"><font color=\"black\"> [CLS]                    </font></mark><mark style=\"background-color: hsl(120, 75%, 100%); opacity:1.0;                     line-height:1.75\"><font color=\"black\"> about                    </font></mark><mark style=\"background-color: hsl(0, 75%, 100%); opacity:1.0;                     line-height:1.75\"><font color=\"black\"> the                    </font></mark><mark style=\"background-color: hsl(0, 75%, 98%); opacity:1.0;                     line-height:1.75\"><font color=\"black\"> best                    </font></mark><mark style=\"background-color: hsl(0, 75%, 99%); opacity:1.0;                     line-height:1.75\"><font color=\"black\"> thing                    </font></mark><mark style=\"background-color: hsl(120, 75%, 99%); opacity:1.0;                     line-height:1.75\"><font color=\"black\"> you                    </font></mark><mark style=\"background-color: hsl(0, 75%, 96%); opacity:1.0;                     line-height:1.75\"><font color=\"black\"> could                    </font></mark><mark style=\"background-color: hsl(120, 75%, 94%); opacity:1.0;                     line-height:1.75\"><font color=\"black\"> say                    </font></mark><mark style=\"background-color: hsl(0, 75%, 97%); opacity:1.0;                     line-height:1.75\"><font color=\"black\"> about                    </font></mark><mark style=\"background-color: hsl(0, 75%, 95%); opacity:1.0;                     line-height:1.75\"><font color=\"black\"> narc                    </font></mark><mark style=\"background-color: hsl(120, 75%, 93%); opacity:1.0;                     line-height:1.75\"><font color=\"black\"> is                    </font></mark><mark style=\"background-color: hsl(0, 75%, 99%); opacity:1.0;                     line-height:1.75\"><font color=\"black\"> that                    </font></mark><mark style=\"background-color: hsl(0, 75%, 97%); opacity:1.0;                     line-height:1.75\"><font color=\"black\"> it                    </font></mark><mark style=\"background-color: hsl(0, 75%, 96%); opacity:1.0;                     line-height:1.75\"><font color=\"black\"> 's                    </font></mark><mark style=\"background-color: hsl(120, 75%, 100%); opacity:1.0;                     line-height:1.75\"><font color=\"black\"> a                    </font></mark><mark style=\"background-color: hsl(120, 75%, 99%); opacity:1.0;                     line-height:1.75\"><font color=\"black\"> rock-solid                    </font></mark><mark style=\"background-color: hsl(0, 75%, 98%); opacity:1.0;                     line-height:1.75\"><font color=\"black\"> little                    </font></mark><mark style=\"background-color: hsl(0, 75%, 98%); opacity:1.0;                     line-height:1.75\"><font color=\"black\"> genre                    </font></mark><mark style=\"background-color: hsl(0, 75%, 97%); opacity:1.0;                     line-height:1.75\"><font color=\"black\"> picture                    </font></mark><mark style=\"background-color: hsl(0, 75%, 100%); opacity:1.0;                     line-height:1.75\"><font color=\"black\"> .                    </font></mark><mark style=\"background-color: hsl(0, 75%, 98%); opacity:1.0;                     line-height:1.75\"><font color=\"black\"> [SEP]                    </font></mark></td><tr></table>"
      ],
      "text/plain": [
       "<IPython.core.display.HTML object>"
      ]
     },
     "metadata": {},
     "output_type": "display_data"
    },
    {
     "name": "stdout",
     "output_type": "stream",
     "text": [
      "<IPython.core.display.HTML object>\n",
      "Raw review: the very best \n",
      "GT target: 1\n"
     ]
    },
    {
     "name": "stderr",
     "output_type": "stream",
     "text": [
      "Kernel Shap attribution: 100%|█████████████████████████████████████████████████████████████████████████████████████████████████| 10/10 [00:00<00:00, 12.98it/s]\n"
     ]
    },
    {
     "name": "stdout",
     "output_type": "stream",
     "text": [
      "word attr tensor([ 0.8739, -0.1230, -0.3194, -0.1016, -0.3299], device='cuda:0')\n",
      "conti attr [tensor(0.8739, device='cuda:0'), tensor(-0.1230, device='cuda:0'), tensor(-0.3194, device='cuda:0'), tensor(-0.1016, device='cuda:0'), tensor(-0.3299, device='cuda:0')]\n",
      "detokenized ['[CLS]', 'the', 'very', 'best', '[SEP]']\n",
      "len conti_raw 5\n",
      "conti_raw ['[CLS]', 'the', 'very', 'best', '[SEP]']\n"
     ]
    },
    {
     "data": {
      "text/html": [
       "<table width: 100%><div style=\"border-top: 1px solid; margin-top: 5px;             padding-top: 5px; display: inline-block\"><b>Legend: </b><span style=\"display: inline-block; width: 10px; height: 10px;                 border: 1px solid; background-color:                 hsl(0, 75%, 60%)\"></span> Negative  <span style=\"display: inline-block; width: 10px; height: 10px;                 border: 1px solid; background-color:                 hsl(0, 75%, 100%)\"></span> Neutral  <span style=\"display: inline-block; width: 10px; height: 10px;                 border: 1px solid; background-color:                 hsl(120, 75%, 50%)\"></span> Positive  </div><tr><th>True Label</th><th>Predicted Label</th><th>Attribution Label</th><th>Attribution Score</th><th>Word Importance</th><tr><td><text style=\"padding-right:2em\"><b>Pos</b></text></td><td><text style=\"padding-right:2em\"><b>Pos (0.97)</b></text></td><td><text style=\"padding-right:2em\"><b>Neg</b></text></td><td><text style=\"padding-right:2em\"><b>0.00</b></text></td><td><mark style=\"background-color: hsl(120, 75%, 57%); opacity:1.0;                     line-height:1.75\"><font color=\"black\"> [CLS]                    </font></mark><mark style=\"background-color: hsl(0, 75%, 96%); opacity:1.0;                     line-height:1.75\"><font color=\"black\"> the                    </font></mark><mark style=\"background-color: hsl(0, 75%, 88%); opacity:1.0;                     line-height:1.75\"><font color=\"black\"> very                    </font></mark><mark style=\"background-color: hsl(0, 75%, 96%); opacity:1.0;                     line-height:1.75\"><font color=\"black\"> best                    </font></mark><mark style=\"background-color: hsl(0, 75%, 87%); opacity:1.0;                     line-height:1.75\"><font color=\"black\"> [SEP]                    </font></mark></td><tr></table>"
      ],
      "text/plain": [
       "<IPython.core.display.HTML object>"
      ]
     },
     "metadata": {},
     "output_type": "display_data"
    },
    {
     "name": "stderr",
     "output_type": "stream",
     "text": [
      "/home/user/anaconda3/envs/metric/lib/python3.9/site-packages/captum/attr/_core/lime.py:1096: UserWarning: Attempting to construct interpretable model with > 10000 features.This can be very slow or lead to OOM issues. Please provide a featuremask which groups input features to reduce the number of interpretablefeatures. \n",
      "  warnings.warn(\n"
     ]
    },
    {
     "name": "stdout",
     "output_type": "stream",
     "text": [
      "<IPython.core.display.HTML object>\n",
      "Raw review: been modeled on the worst revenge-of-the-nerds clichés the filmmakers could dredge up \n",
      "GT target: 0\n"
     ]
    },
    {
     "name": "stderr",
     "output_type": "stream",
     "text": [
      "Kernel Shap attribution: 100%|█████████████████████████████████████████████████████████████████████████████████████████████████| 10/10 [00:01<00:00,  6.93it/s]\n"
     ]
    },
    {
     "name": "stdout",
     "output_type": "stream",
     "text": [
      "word attr tensor([ 0.4211,  0.0913,  0.1179, -0.3123, -0.1223,  0.1247, -0.3730,  0.1266,\n",
      "        -0.2008,  0.0352,  0.0295, -0.2281, -0.1392, -0.2733,  0.3969,  0.0081,\n",
      "         0.0157,  0.2179, -0.0101,  0.0547,  0.2544,  0.0112, -0.0105, -0.2355],\n",
      "       device='cuda:0')\n",
      "conti attr [tensor(0.4211, device='cuda:0'), tensor(0.0913, device='cuda:0'), tensor(0.1179, device='cuda:0'), tensor(-0.3123, device='cuda:0'), tensor(-0.1223, device='cuda:0'), tensor(0.1247, device='cuda:0'), tensor(-0.2021, device='cuda:0'), tensor(0.1091, device='cuda:0'), tensor(0.2179, device='cuda:0'), tensor(-0.0101, device='cuda:0'), tensor(0.0547, device='cuda:0'), tensor(0.1328, device='cuda:0'), tensor(-0.0105, device='cuda:0'), tensor(-0.2355, device='cuda:0')]\n",
      "detokenized ['[CLS]', 'been', 'modeled', 'on', 'the', 'worst', 'revenge', '-', 'of', '-', 'the', '-', 'ne', 'rds', 'cl', 'iche', 's', 'the', 'filmmakers', 'could', 'dr', 'edge', 'up', '[SEP]']\n",
      "len conti_raw 14\n",
      "conti_raw ['[CLS]', 'been', 'modeled', 'on', 'the', 'worst', 'revenge-of-the-nerds', 'cliches', 'the', 'filmmakers', 'could', 'dredge', 'up', '[SEP]']\n"
     ]
    },
    {
     "data": {
      "text/html": [
       "<table width: 100%><div style=\"border-top: 1px solid; margin-top: 5px;             padding-top: 5px; display: inline-block\"><b>Legend: </b><span style=\"display: inline-block; width: 10px; height: 10px;                 border: 1px solid; background-color:                 hsl(0, 75%, 60%)\"></span> Negative  <span style=\"display: inline-block; width: 10px; height: 10px;                 border: 1px solid; background-color:                 hsl(0, 75%, 100%)\"></span> Neutral  <span style=\"display: inline-block; width: 10px; height: 10px;                 border: 1px solid; background-color:                 hsl(120, 75%, 50%)\"></span> Positive  </div><tr><th>True Label</th><th>Predicted Label</th><th>Attribution Label</th><th>Attribution Score</th><th>Word Importance</th><tr><td><text style=\"padding-right:2em\"><b>Neg</b></text></td><td><text style=\"padding-right:2em\"><b>Neg (0.03)</b></text></td><td><text style=\"padding-right:2em\"><b>Neg</b></text></td><td><text style=\"padding-right:2em\"><b>-0.00</b></text></td><td><mark style=\"background-color: hsl(120, 75%, 79%); opacity:1.0;                     line-height:1.75\"><font color=\"black\"> [CLS]                    </font></mark><mark style=\"background-color: hsl(120, 75%, 96%); opacity:1.0;                     line-height:1.75\"><font color=\"black\"> been                    </font></mark><mark style=\"background-color: hsl(120, 75%, 95%); opacity:1.0;                     line-height:1.75\"><font color=\"black\"> modeled                    </font></mark><mark style=\"background-color: hsl(0, 75%, 88%); opacity:1.0;                     line-height:1.75\"><font color=\"black\"> on                    </font></mark><mark style=\"background-color: hsl(0, 75%, 96%); opacity:1.0;                     line-height:1.75\"><font color=\"black\"> the                    </font></mark><mark style=\"background-color: hsl(120, 75%, 94%); opacity:1.0;                     line-height:1.75\"><font color=\"black\"> worst                    </font></mark><mark style=\"background-color: hsl(0, 75%, 92%); opacity:1.0;                     line-height:1.75\"><font color=\"black\"> revenge-of-the-nerds                    </font></mark><mark style=\"background-color: hsl(120, 75%, 95%); opacity:1.0;                     line-height:1.75\"><font color=\"black\"> cliches                    </font></mark><mark style=\"background-color: hsl(120, 75%, 90%); opacity:1.0;                     line-height:1.75\"><font color=\"black\"> the                    </font></mark><mark style=\"background-color: hsl(0, 75%, 100%); opacity:1.0;                     line-height:1.75\"><font color=\"black\"> filmmakers                    </font></mark><mark style=\"background-color: hsl(120, 75%, 98%); opacity:1.0;                     line-height:1.75\"><font color=\"black\"> could                    </font></mark><mark style=\"background-color: hsl(120, 75%, 94%); opacity:1.0;                     line-height:1.75\"><font color=\"black\"> dredge                    </font></mark><mark style=\"background-color: hsl(0, 75%, 100%); opacity:1.0;                     line-height:1.75\"><font color=\"black\"> up                    </font></mark><mark style=\"background-color: hsl(0, 75%, 91%); opacity:1.0;                     line-height:1.75\"><font color=\"black\"> [SEP]                    </font></mark></td><tr></table>"
      ],
      "text/plain": [
       "<IPython.core.display.HTML object>"
      ]
     },
     "metadata": {},
     "output_type": "display_data"
    },
    {
     "name": "stdout",
     "output_type": "stream",
     "text": [
      "<IPython.core.display.HTML object>\n",
      "Raw review: tell you \n",
      "GT target: 1\n"
     ]
    },
    {
     "name": "stderr",
     "output_type": "stream",
     "text": [
      "Kernel Shap attribution: 100%|█████████████████████████████████████████████████████████████████████████████████████████████████| 10/10 [00:00<00:00, 15.94it/s]\n"
     ]
    },
    {
     "name": "stdout",
     "output_type": "stream",
     "text": [
      "word attr tensor([ 0.3197, -0.6898, -0.2353,  0.6054], device='cuda:0')\n",
      "conti attr [tensor(0.3197, device='cuda:0'), tensor(-0.6898, device='cuda:0'), tensor(-0.2353, device='cuda:0'), tensor(0.6054, device='cuda:0')]\n",
      "detokenized ['[CLS]', 'tell', 'you', '[SEP]']\n",
      "len conti_raw 4\n",
      "conti_raw ['[CLS]', 'tell', 'you', '[SEP]']\n"
     ]
    },
    {
     "data": {
      "text/html": [
       "<table width: 100%><div style=\"border-top: 1px solid; margin-top: 5px;             padding-top: 5px; display: inline-block\"><b>Legend: </b><span style=\"display: inline-block; width: 10px; height: 10px;                 border: 1px solid; background-color:                 hsl(0, 75%, 60%)\"></span> Negative  <span style=\"display: inline-block; width: 10px; height: 10px;                 border: 1px solid; background-color:                 hsl(0, 75%, 100%)\"></span> Neutral  <span style=\"display: inline-block; width: 10px; height: 10px;                 border: 1px solid; background-color:                 hsl(120, 75%, 50%)\"></span> Positive  </div><tr><th>True Label</th><th>Predicted Label</th><th>Attribution Label</th><th>Attribution Score</th><th>Word Importance</th><tr><td><text style=\"padding-right:2em\"><b>Pos</b></text></td><td><text style=\"padding-right:2em\"><b>Pos (0.90)</b></text></td><td><text style=\"padding-right:2em\"><b>Neg</b></text></td><td><text style=\"padding-right:2em\"><b>-0.00</b></text></td><td><mark style=\"background-color: hsl(120, 75%, 85%); opacity:1.0;                     line-height:1.75\"><font color=\"black\"> [CLS]                    </font></mark><mark style=\"background-color: hsl(0, 75%, 73%); opacity:1.0;                     line-height:1.75\"><font color=\"black\"> tell                    </font></mark><mark style=\"background-color: hsl(0, 75%, 91%); opacity:1.0;                     line-height:1.75\"><font color=\"black\"> you                    </font></mark><mark style=\"background-color: hsl(120, 75%, 70%); opacity:1.0;                     line-height:1.75\"><font color=\"black\"> [SEP]                    </font></mark></td><tr></table>"
      ],
      "text/plain": [
       "<IPython.core.display.HTML object>"
      ]
     },
     "metadata": {},
     "output_type": "display_data"
    },
    {
     "name": "stdout",
     "output_type": "stream",
     "text": [
      "<IPython.core.display.HTML object>\n",
      "Raw review: utterly absorbing \n",
      "GT target: 1\n"
     ]
    },
    {
     "name": "stderr",
     "output_type": "stream",
     "text": [
      "Kernel Shap attribution: 100%|█████████████████████████████████████████████████████████████████████████████████████████████████| 10/10 [00:00<00:00, 16.69it/s]\n"
     ]
    },
    {
     "name": "stdout",
     "output_type": "stream",
     "text": [
      "word attr tensor([-0.4526, -0.4183,  0.7825,  0.0883], device='cuda:0')\n",
      "conti attr [tensor(-0.4526, device='cuda:0'), tensor(-0.4183, device='cuda:0'), tensor(0.7825, device='cuda:0'), tensor(0.0883, device='cuda:0')]\n",
      "detokenized ['[CLS]', 'utterly', 'absorbing', '[SEP]']\n",
      "len conti_raw 4\n",
      "conti_raw ['[CLS]', 'utterly', 'absorbing', '[SEP]']\n"
     ]
    },
    {
     "data": {
      "text/html": [
       "<table width: 100%><div style=\"border-top: 1px solid; margin-top: 5px;             padding-top: 5px; display: inline-block\"><b>Legend: </b><span style=\"display: inline-block; width: 10px; height: 10px;                 border: 1px solid; background-color:                 hsl(0, 75%, 60%)\"></span> Negative  <span style=\"display: inline-block; width: 10px; height: 10px;                 border: 1px solid; background-color:                 hsl(0, 75%, 100%)\"></span> Neutral  <span style=\"display: inline-block; width: 10px; height: 10px;                 border: 1px solid; background-color:                 hsl(120, 75%, 50%)\"></span> Positive  </div><tr><th>True Label</th><th>Predicted Label</th><th>Attribution Label</th><th>Attribution Score</th><th>Word Importance</th><tr><td><text style=\"padding-right:2em\"><b>Pos</b></text></td><td><text style=\"padding-right:2em\"><b>Pos (0.97)</b></text></td><td><text style=\"padding-right:2em\"><b>Neg</b></text></td><td><text style=\"padding-right:2em\"><b>0.00</b></text></td><td><mark style=\"background-color: hsl(0, 75%, 82%); opacity:1.0;                     line-height:1.75\"><font color=\"black\"> [CLS]                    </font></mark><mark style=\"background-color: hsl(0, 75%, 84%); opacity:1.0;                     line-height:1.75\"><font color=\"black\"> utterly                    </font></mark><mark style=\"background-color: hsl(120, 75%, 61%); opacity:1.0;                     line-height:1.75\"><font color=\"black\"> absorbing                    </font></mark><mark style=\"background-color: hsl(120, 75%, 96%); opacity:1.0;                     line-height:1.75\"><font color=\"black\"> [SEP]                    </font></mark></td><tr></table>"
      ],
      "text/plain": [
       "<IPython.core.display.HTML object>"
      ]
     },
     "metadata": {},
     "output_type": "display_data"
    },
    {
     "name": "stdout",
     "output_type": "stream",
     "text": [
      "<IPython.core.display.HTML object>\n",
      "Raw review: restate \n",
      "GT target: 0\n"
     ]
    },
    {
     "name": "stderr",
     "output_type": "stream",
     "text": [
      "Kernel Shap attribution: 100%|█████████████████████████████████████████████████████████████████████████████████████████████████| 10/10 [00:00<00:00, 16.05it/s]\n"
     ]
    },
    {
     "name": "stdout",
     "output_type": "stream",
     "text": [
      "word attr tensor([ 0.0540,  0.5929,  0.1436, -0.7905], device='cuda:0')\n",
      "conti attr [tensor(0.0540, device='cuda:0'), tensor(0.3683, device='cuda:0'), tensor(-0.7905, device='cuda:0')]\n",
      "detokenized ['[CLS]', 'rest', 'ate', '[SEP]']\n",
      "len conti_raw 3\n",
      "conti_raw ['[CLS]', 'restate', '[SEP]']\n"
     ]
    },
    {
     "data": {
      "text/html": [
       "<table width: 100%><div style=\"border-top: 1px solid; margin-top: 5px;             padding-top: 5px; display: inline-block\"><b>Legend: </b><span style=\"display: inline-block; width: 10px; height: 10px;                 border: 1px solid; background-color:                 hsl(0, 75%, 60%)\"></span> Negative  <span style=\"display: inline-block; width: 10px; height: 10px;                 border: 1px solid; background-color:                 hsl(0, 75%, 100%)\"></span> Neutral  <span style=\"display: inline-block; width: 10px; height: 10px;                 border: 1px solid; background-color:                 hsl(120, 75%, 50%)\"></span> Positive  </div><tr><th>True Label</th><th>Predicted Label</th><th>Attribution Label</th><th>Attribution Score</th><th>Word Importance</th><tr><td><text style=\"padding-right:2em\"><b>Neg</b></text></td><td><text style=\"padding-right:2em\"><b>Pos (0.55)</b></text></td><td><text style=\"padding-right:2em\"><b>Neg</b></text></td><td><text style=\"padding-right:2em\"><b>0.00</b></text></td><td><mark style=\"background-color: hsl(120, 75%, 98%); opacity:1.0;                     line-height:1.75\"><font color=\"black\"> [CLS]                    </font></mark><mark style=\"background-color: hsl(120, 75%, 82%); opacity:1.0;                     line-height:1.75\"><font color=\"black\"> restate                    </font></mark><mark style=\"background-color: hsl(0, 75%, 69%); opacity:1.0;                     line-height:1.75\"><font color=\"black\"> [SEP]                    </font></mark></td><tr></table>"
      ],
      "text/plain": [
       "<IPython.core.display.HTML object>"
      ]
     },
     "metadata": {},
     "output_type": "display_data"
    },
    {
     "name": "stderr",
     "output_type": "stream",
     "text": [
      "/home/user/anaconda3/envs/metric/lib/python3.9/site-packages/captum/attr/_core/lime.py:1096: UserWarning: Attempting to construct interpretable model with > 10000 features.This can be very slow or lead to OOM issues. Please provide a featuremask which groups input features to reduce the number of interpretablefeatures. \n",
      "  warnings.warn(\n"
     ]
    },
    {
     "name": "stdout",
     "output_type": "stream",
     "text": [
      "<IPython.core.display.HTML object>\n",
      "Raw review: bears about as much resemblance to the experiences of most battered women as spider-man \n",
      "GT target: 0\n"
     ]
    },
    {
     "name": "stderr",
     "output_type": "stream",
     "text": [
      "Kernel Shap attribution: 100%|█████████████████████████████████████████████████████████████████████████████████████████████████| 10/10 [00:01<00:00,  8.18it/s]\n"
     ]
    },
    {
     "name": "stdout",
     "output_type": "stream",
     "text": [
      "word attr tensor([ 0.3110,  0.0367, -0.0359,  0.0170, -0.1098,  0.0040,  0.1547,  0.0384,\n",
      "        -0.2739,  0.3828,  0.2265, -0.5864,  0.0457, -0.1851,  0.0932,  0.1176,\n",
      "         0.1640, -0.4005], device='cuda:0')\n",
      "conti attr [tensor(0.3110, device='cuda:0'), tensor(0.0367, device='cuda:0'), tensor(-0.0359, device='cuda:0'), tensor(0.0170, device='cuda:0'), tensor(-0.1098, device='cuda:0'), tensor(0.0040, device='cuda:0'), tensor(0.1547, device='cuda:0'), tensor(0.0384, device='cuda:0'), tensor(-0.2739, device='cuda:0'), tensor(0.3828, device='cuda:0'), tensor(0.2265, device='cuda:0'), tensor(-0.5864, device='cuda:0'), tensor(0.0457, device='cuda:0'), tensor(-0.1851, device='cuda:0'), tensor(0.1347, device='cuda:0'), tensor(-0.4005, device='cuda:0')]\n",
      "detokenized ['[CLS]', 'bears', 'about', 'as', 'much', 'resemblance', 'to', 'the', 'experiences', 'of', 'most', 'battered', 'women', 'as', 'spider', '-', 'man', '[SEP]']\n",
      "len conti_raw 16\n",
      "conti_raw ['[CLS]', 'bears', 'about', 'as', 'much', 'resemblance', 'to', 'the', 'experiences', 'of', 'most', 'battered', 'women', 'as', 'spider-man', '[SEP]']\n"
     ]
    },
    {
     "data": {
      "text/html": [
       "<table width: 100%><div style=\"border-top: 1px solid; margin-top: 5px;             padding-top: 5px; display: inline-block\"><b>Legend: </b><span style=\"display: inline-block; width: 10px; height: 10px;                 border: 1px solid; background-color:                 hsl(0, 75%, 60%)\"></span> Negative  <span style=\"display: inline-block; width: 10px; height: 10px;                 border: 1px solid; background-color:                 hsl(0, 75%, 100%)\"></span> Neutral  <span style=\"display: inline-block; width: 10px; height: 10px;                 border: 1px solid; background-color:                 hsl(120, 75%, 50%)\"></span> Positive  </div><tr><th>True Label</th><th>Predicted Label</th><th>Attribution Label</th><th>Attribution Score</th><th>Word Importance</th><tr><td><text style=\"padding-right:2em\"><b>Neg</b></text></td><td><text style=\"padding-right:2em\"><b>Pos (0.71)</b></text></td><td><text style=\"padding-right:2em\"><b>Neg</b></text></td><td><text style=\"padding-right:2em\"><b>0.00</b></text></td><td><mark style=\"background-color: hsl(120, 75%, 85%); opacity:1.0;                     line-height:1.75\"><font color=\"black\"> [CLS]                    </font></mark><mark style=\"background-color: hsl(120, 75%, 99%); opacity:1.0;                     line-height:1.75\"><font color=\"black\"> bears                    </font></mark><mark style=\"background-color: hsl(0, 75%, 99%); opacity:1.0;                     line-height:1.75\"><font color=\"black\"> about                    </font></mark><mark style=\"background-color: hsl(120, 75%, 100%); opacity:1.0;                     line-height:1.75\"><font color=\"black\"> as                    </font></mark><mark style=\"background-color: hsl(0, 75%, 96%); opacity:1.0;                     line-height:1.75\"><font color=\"black\"> much                    </font></mark><mark style=\"background-color: hsl(120, 75%, 100%); opacity:1.0;                     line-height:1.75\"><font color=\"black\"> resemblance                    </font></mark><mark style=\"background-color: hsl(120, 75%, 93%); opacity:1.0;                     line-height:1.75\"><font color=\"black\"> to                    </font></mark><mark style=\"background-color: hsl(120, 75%, 99%); opacity:1.0;                     line-height:1.75\"><font color=\"black\"> the                    </font></mark><mark style=\"background-color: hsl(0, 75%, 90%); opacity:1.0;                     line-height:1.75\"><font color=\"black\"> experiences                    </font></mark><mark style=\"background-color: hsl(120, 75%, 81%); opacity:1.0;                     line-height:1.75\"><font color=\"black\"> of                    </font></mark><mark style=\"background-color: hsl(120, 75%, 89%); opacity:1.0;                     line-height:1.75\"><font color=\"black\"> most                    </font></mark><mark style=\"background-color: hsl(0, 75%, 77%); opacity:1.0;                     line-height:1.75\"><font color=\"black\"> battered                    </font></mark><mark style=\"background-color: hsl(120, 75%, 98%); opacity:1.0;                     line-height:1.75\"><font color=\"black\"> women                    </font></mark><mark style=\"background-color: hsl(0, 75%, 93%); opacity:1.0;                     line-height:1.75\"><font color=\"black\"> as                    </font></mark><mark style=\"background-color: hsl(120, 75%, 94%); opacity:1.0;                     line-height:1.75\"><font color=\"black\"> spider-man                    </font></mark><mark style=\"background-color: hsl(0, 75%, 84%); opacity:1.0;                     line-height:1.75\"><font color=\"black\"> [SEP]                    </font></mark></td><tr></table>"
      ],
      "text/plain": [
       "<IPython.core.display.HTML object>"
      ]
     },
     "metadata": {},
     "output_type": "display_data"
    },
    {
     "name": "stdout",
     "output_type": "stream",
     "text": [
      "<IPython.core.display.HTML object>\n",
      "Raw review: expressively performed \n",
      "GT target: 1\n"
     ]
    },
    {
     "name": "stderr",
     "output_type": "stream",
     "text": [
      "Kernel Shap attribution: 100%|█████████████████████████████████████████████████████████████████████████████████████████████████| 10/10 [00:00<00:00, 15.15it/s]\n"
     ]
    },
    {
     "name": "stdout",
     "output_type": "stream",
     "text": [
      "word attr tensor([ 0.2992, -0.8253,  0.2077,  0.4196, -0.1012], device='cuda:0')\n",
      "conti attr [tensor(0.2992, device='cuda:0'), tensor(-0.3088, device='cuda:0'), tensor(0.4196, device='cuda:0'), tensor(-0.1012, device='cuda:0')]\n",
      "detokenized ['[CLS]', 'expressive', 'ly', 'performed', '[SEP]']\n",
      "len conti_raw 4\n",
      "conti_raw ['[CLS]', 'expressively', 'performed', '[SEP]']\n"
     ]
    },
    {
     "data": {
      "text/html": [
       "<table width: 100%><div style=\"border-top: 1px solid; margin-top: 5px;             padding-top: 5px; display: inline-block\"><b>Legend: </b><span style=\"display: inline-block; width: 10px; height: 10px;                 border: 1px solid; background-color:                 hsl(0, 75%, 60%)\"></span> Negative  <span style=\"display: inline-block; width: 10px; height: 10px;                 border: 1px solid; background-color:                 hsl(0, 75%, 100%)\"></span> Neutral  <span style=\"display: inline-block; width: 10px; height: 10px;                 border: 1px solid; background-color:                 hsl(120, 75%, 50%)\"></span> Positive  </div><tr><th>True Label</th><th>Predicted Label</th><th>Attribution Label</th><th>Attribution Score</th><th>Word Importance</th><tr><td><text style=\"padding-right:2em\"><b>Pos</b></text></td><td><text style=\"padding-right:2em\"><b>Pos (0.98)</b></text></td><td><text style=\"padding-right:2em\"><b>Neg</b></text></td><td><text style=\"padding-right:2em\"><b>-0.00</b></text></td><td><mark style=\"background-color: hsl(120, 75%, 86%); opacity:1.0;                     line-height:1.75\"><font color=\"black\"> [CLS]                    </font></mark><mark style=\"background-color: hsl(0, 75%, 88%); opacity:1.0;                     line-height:1.75\"><font color=\"black\"> expressively                    </font></mark><mark style=\"background-color: hsl(120, 75%, 80%); opacity:1.0;                     line-height:1.75\"><font color=\"black\"> performed                    </font></mark><mark style=\"background-color: hsl(0, 75%, 96%); opacity:1.0;                     line-height:1.75\"><font color=\"black\"> [SEP]                    </font></mark></td><tr></table>"
      ],
      "text/plain": [
       "<IPython.core.display.HTML object>"
      ]
     },
     "metadata": {},
     "output_type": "display_data"
    },
    {
     "name": "stderr",
     "output_type": "stream",
     "text": [
      "/home/user/anaconda3/envs/metric/lib/python3.9/site-packages/captum/attr/_core/lime.py:1096: UserWarning: Attempting to construct interpretable model with > 10000 features.This can be very slow or lead to OOM issues. Please provide a featuremask which groups input features to reduce the number of interpretablefeatures. \n",
      "  warnings.warn(\n"
     ]
    },
    {
     "name": "stdout",
     "output_type": "stream",
     "text": [
      "<IPython.core.display.HTML object>\n",
      "Raw review: the acting is amateurish , the cinematography is atrocious \n",
      "GT target: 0\n"
     ]
    },
    {
     "name": "stderr",
     "output_type": "stream",
     "text": [
      "Kernel Shap attribution: 100%|█████████████████████████████████████████████████████████████████████████████████████████████████| 10/10 [00:01<00:00,  9.58it/s]\n"
     ]
    },
    {
     "name": "stdout",
     "output_type": "stream",
     "text": [
      "word attr tensor([-0.2121,  0.1039,  0.1689,  0.2544, -0.1005, -0.1136,  0.2507, -0.3212,\n",
      "        -0.0012,  0.4168, -0.5198, -0.2944,  0.2951, -0.2102], device='cuda:0')\n",
      "conti attr [tensor(-0.2121, device='cuda:0'), tensor(0.1039, device='cuda:0'), tensor(0.1689, device='cuda:0'), tensor(0.2544, device='cuda:0'), tensor(-0.1071, device='cuda:0'), tensor(0.2507, device='cuda:0'), tensor(-0.3212, device='cuda:0'), tensor(-0.0012, device='cuda:0'), tensor(0.4168, device='cuda:0'), tensor(-0.0560, device='cuda:0'), tensor(-0.2102, device='cuda:0')]\n",
      "detokenized ['[CLS]', 'the', 'acting', 'is', 'amateur', 'ish', ',', 'the', 'cinematography', 'is', 'at', 'ro', 'cious', '[SEP]']\n",
      "len conti_raw 11\n",
      "conti_raw ['[CLS]', 'the', 'acting', 'is', 'amateurish', ',', 'the', 'cinematography', 'is', 'atrocious', '[SEP]']\n"
     ]
    },
    {
     "data": {
      "text/html": [
       "<table width: 100%><div style=\"border-top: 1px solid; margin-top: 5px;             padding-top: 5px; display: inline-block\"><b>Legend: </b><span style=\"display: inline-block; width: 10px; height: 10px;                 border: 1px solid; background-color:                 hsl(0, 75%, 60%)\"></span> Negative  <span style=\"display: inline-block; width: 10px; height: 10px;                 border: 1px solid; background-color:                 hsl(0, 75%, 100%)\"></span> Neutral  <span style=\"display: inline-block; width: 10px; height: 10px;                 border: 1px solid; background-color:                 hsl(120, 75%, 50%)\"></span> Positive  </div><tr><th>True Label</th><th>Predicted Label</th><th>Attribution Label</th><th>Attribution Score</th><th>Word Importance</th><tr><td><text style=\"padding-right:2em\"><b>Neg</b></text></td><td><text style=\"padding-right:2em\"><b>Neg (0.03)</b></text></td><td><text style=\"padding-right:2em\"><b>Neg</b></text></td><td><text style=\"padding-right:2em\"><b>-0.28</b></text></td><td><mark style=\"background-color: hsl(0, 75%, 92%); opacity:1.0;                     line-height:1.75\"><font color=\"black\"> [CLS]                    </font></mark><mark style=\"background-color: hsl(120, 75%, 95%); opacity:1.0;                     line-height:1.75\"><font color=\"black\"> the                    </font></mark><mark style=\"background-color: hsl(120, 75%, 92%); opacity:1.0;                     line-height:1.75\"><font color=\"black\"> acting                    </font></mark><mark style=\"background-color: hsl(120, 75%, 88%); opacity:1.0;                     line-height:1.75\"><font color=\"black\"> is                    </font></mark><mark style=\"background-color: hsl(0, 75%, 96%); opacity:1.0;                     line-height:1.75\"><font color=\"black\"> amateurish                    </font></mark><mark style=\"background-color: hsl(120, 75%, 88%); opacity:1.0;                     line-height:1.75\"><font color=\"black\"> ,                    </font></mark><mark style=\"background-color: hsl(0, 75%, 88%); opacity:1.0;                     line-height:1.75\"><font color=\"black\"> the                    </font></mark><mark style=\"background-color: hsl(0, 75%, 100%); opacity:1.0;                     line-height:1.75\"><font color=\"black\"> cinematography                    </font></mark><mark style=\"background-color: hsl(120, 75%, 80%); opacity:1.0;                     line-height:1.75\"><font color=\"black\"> is                    </font></mark><mark style=\"background-color: hsl(0, 75%, 98%); opacity:1.0;                     line-height:1.75\"><font color=\"black\"> atrocious                    </font></mark><mark style=\"background-color: hsl(0, 75%, 92%); opacity:1.0;                     line-height:1.75\"><font color=\"black\"> [SEP]                    </font></mark></td><tr></table>"
      ],
      "text/plain": [
       "<IPython.core.display.HTML object>"
      ]
     },
     "metadata": {},
     "output_type": "display_data"
    },
    {
     "name": "stdout",
     "output_type": "stream",
     "text": [
      "<IPython.core.display.HTML object>\n",
      "Raw review: solidly constructed \n",
      "GT target: 1\n"
     ]
    },
    {
     "name": "stderr",
     "output_type": "stream",
     "text": [
      "Kernel Shap attribution: 100%|█████████████████████████████████████████████████████████████████████████████████████████████████| 10/10 [00:00<00:00, 15.48it/s]\n"
     ]
    },
    {
     "name": "stdout",
     "output_type": "stream",
     "text": [
      "word attr tensor([ 0.8459, -0.0138, -0.0884, -0.3701, -0.3735], device='cuda:0')\n",
      "conti attr [tensor(0.8459, device='cuda:0'), tensor(-0.0511, device='cuda:0'), tensor(-0.3701, device='cuda:0'), tensor(-0.3735, device='cuda:0')]\n",
      "detokenized ['[CLS]', 'solid', 'ly', 'constructed', '[SEP]']\n",
      "len conti_raw 4\n",
      "conti_raw ['[CLS]', 'solidly', 'constructed', '[SEP]']\n"
     ]
    },
    {
     "data": {
      "text/html": [
       "<table width: 100%><div style=\"border-top: 1px solid; margin-top: 5px;             padding-top: 5px; display: inline-block\"><b>Legend: </b><span style=\"display: inline-block; width: 10px; height: 10px;                 border: 1px solid; background-color:                 hsl(0, 75%, 60%)\"></span> Negative  <span style=\"display: inline-block; width: 10px; height: 10px;                 border: 1px solid; background-color:                 hsl(0, 75%, 100%)\"></span> Neutral  <span style=\"display: inline-block; width: 10px; height: 10px;                 border: 1px solid; background-color:                 hsl(120, 75%, 50%)\"></span> Positive  </div><tr><th>True Label</th><th>Predicted Label</th><th>Attribution Label</th><th>Attribution Score</th><th>Word Importance</th><tr><td><text style=\"padding-right:2em\"><b>Pos</b></text></td><td><text style=\"padding-right:2em\"><b>Pos (0.97)</b></text></td><td><text style=\"padding-right:2em\"><b>Neg</b></text></td><td><text style=\"padding-right:2em\"><b>-0.00</b></text></td><td><mark style=\"background-color: hsl(120, 75%, 58%); opacity:1.0;                     line-height:1.75\"><font color=\"black\"> [CLS]                    </font></mark><mark style=\"background-color: hsl(0, 75%, 98%); opacity:1.0;                     line-height:1.75\"><font color=\"black\"> solidly                    </font></mark><mark style=\"background-color: hsl(0, 75%, 86%); opacity:1.0;                     line-height:1.75\"><font color=\"black\"> constructed                    </font></mark><mark style=\"background-color: hsl(0, 75%, 86%); opacity:1.0;                     line-height:1.75\"><font color=\"black\"> [SEP]                    </font></mark></td><tr></table>"
      ],
      "text/plain": [
       "<IPython.core.display.HTML object>"
      ]
     },
     "metadata": {},
     "output_type": "display_data"
    },
    {
     "name": "stderr",
     "output_type": "stream",
     "text": [
      "/home/user/anaconda3/envs/metric/lib/python3.9/site-packages/captum/attr/_core/lime.py:1096: UserWarning: Attempting to construct interpretable model with > 10000 features.This can be very slow or lead to OOM issues. Please provide a featuremask which groups input features to reduce the number of interpretablefeatures. \n",
      "  warnings.warn(\n"
     ]
    },
    {
     "name": "stdout",
     "output_type": "stream",
     "text": [
      "<IPython.core.display.HTML object>\n",
      "Raw review: are undermined by the movie 's presentation , which is way too stagy \n",
      "GT target: 0\n"
     ]
    },
    {
     "name": "stderr",
     "output_type": "stream",
     "text": [
      "Kernel Shap attribution: 100%|█████████████████████████████████████████████████████████████████████████████████████████████████| 10/10 [00:01<00:00,  7.49it/s]\n"
     ]
    },
    {
     "name": "stdout",
     "output_type": "stream",
     "text": [
      "word attr tensor([-0.0990, -0.3927,  0.1616, -0.0124,  0.1128,  0.0275,  0.4562,  0.0481,\n",
      "         0.0016,  0.0926, -0.0508,  0.1004, -0.4334, -0.0079,  0.3881, -0.2185,\n",
      "        -0.1315, -0.4012,  0.0051], device='cuda:0')\n",
      "conti attr [tensor(-0.0990, device='cuda:0'), tensor(-0.3927, device='cuda:0'), tensor(0.0746, device='cuda:0'), tensor(0.1128, device='cuda:0'), tensor(0.0275, device='cuda:0'), tensor(0.4562, device='cuda:0'), tensor(0.0248, device='cuda:0'), tensor(0.0926, device='cuda:0'), tensor(-0.0508, device='cuda:0'), tensor(0.1004, device='cuda:0'), tensor(-0.4334, device='cuda:0'), tensor(-0.0079, device='cuda:0'), tensor(0.3881, device='cuda:0'), tensor(-0.2881, device='cuda:0'), tensor(0.0051, device='cuda:0')]\n",
      "detokenized ['[CLS]', 'are', 'undermine', 'd', 'by', 'the', 'movie', \"'\", 's', 'presentation', ',', 'which', 'is', 'way', 'too', 'st', 'ag', 'y', '[SEP]']\n",
      "len conti_raw 15\n",
      "conti_raw ['[CLS]', 'are', 'undermined', 'by', 'the', 'movie', \"'s\", 'presentation', ',', 'which', 'is', 'way', 'too', 'stagy', '[SEP]']\n"
     ]
    },
    {
     "data": {
      "text/html": [
       "<table width: 100%><div style=\"border-top: 1px solid; margin-top: 5px;             padding-top: 5px; display: inline-block\"><b>Legend: </b><span style=\"display: inline-block; width: 10px; height: 10px;                 border: 1px solid; background-color:                 hsl(0, 75%, 60%)\"></span> Negative  <span style=\"display: inline-block; width: 10px; height: 10px;                 border: 1px solid; background-color:                 hsl(0, 75%, 100%)\"></span> Neutral  <span style=\"display: inline-block; width: 10px; height: 10px;                 border: 1px solid; background-color:                 hsl(120, 75%, 50%)\"></span> Positive  </div><tr><th>True Label</th><th>Predicted Label</th><th>Attribution Label</th><th>Attribution Score</th><th>Word Importance</th><tr><td><text style=\"padding-right:2em\"><b>Neg</b></text></td><td><text style=\"padding-right:2em\"><b>Neg (0.04)</b></text></td><td><text style=\"padding-right:2em\"><b>Neg</b></text></td><td><text style=\"padding-right:2em\"><b>-0.35</b></text></td><td><mark style=\"background-color: hsl(0, 75%, 97%); opacity:1.0;                     line-height:1.75\"><font color=\"black\"> [CLS]                    </font></mark><mark style=\"background-color: hsl(0, 75%, 85%); opacity:1.0;                     line-height:1.75\"><font color=\"black\"> are                    </font></mark><mark style=\"background-color: hsl(120, 75%, 97%); opacity:1.0;                     line-height:1.75\"><font color=\"black\"> undermined                    </font></mark><mark style=\"background-color: hsl(120, 75%, 95%); opacity:1.0;                     line-height:1.75\"><font color=\"black\"> by                    </font></mark><mark style=\"background-color: hsl(120, 75%, 99%); opacity:1.0;                     line-height:1.75\"><font color=\"black\"> the                    </font></mark><mark style=\"background-color: hsl(120, 75%, 78%); opacity:1.0;                     line-height:1.75\"><font color=\"black\"> movie                    </font></mark><mark style=\"background-color: hsl(120, 75%, 99%); opacity:1.0;                     line-height:1.75\"><font color=\"black\"> 's                    </font></mark><mark style=\"background-color: hsl(120, 75%, 96%); opacity:1.0;                     line-height:1.75\"><font color=\"black\"> presentation                    </font></mark><mark style=\"background-color: hsl(0, 75%, 98%); opacity:1.0;                     line-height:1.75\"><font color=\"black\"> ,                    </font></mark><mark style=\"background-color: hsl(120, 75%, 95%); opacity:1.0;                     line-height:1.75\"><font color=\"black\"> which                    </font></mark><mark style=\"background-color: hsl(0, 75%, 83%); opacity:1.0;                     line-height:1.75\"><font color=\"black\"> is                    </font></mark><mark style=\"background-color: hsl(0, 75%, 100%); opacity:1.0;                     line-height:1.75\"><font color=\"black\"> way                    </font></mark><mark style=\"background-color: hsl(120, 75%, 81%); opacity:1.0;                     line-height:1.75\"><font color=\"black\"> too                    </font></mark><mark style=\"background-color: hsl(0, 75%, 89%); opacity:1.0;                     line-height:1.75\"><font color=\"black\"> stagy                    </font></mark><mark style=\"background-color: hsl(120, 75%, 100%); opacity:1.0;                     line-height:1.75\"><font color=\"black\"> [SEP]                    </font></mark></td><tr></table>"
      ],
      "text/plain": [
       "<IPython.core.display.HTML object>"
      ]
     },
     "metadata": {},
     "output_type": "display_data"
    },
    {
     "name": "stdout",
     "output_type": "stream",
     "text": [
      "<IPython.core.display.HTML object>\n",
      "Raw review: a great film \n",
      "GT target: 1\n"
     ]
    },
    {
     "name": "stderr",
     "output_type": "stream",
     "text": [
      "Kernel Shap attribution: 100%|█████████████████████████████████████████████████████████████████████████████████████████████████| 10/10 [00:00<00:00, 13.68it/s]\n"
     ]
    },
    {
     "name": "stdout",
     "output_type": "stream",
     "text": [
      "word attr tensor([-0.2777, -0.4970, -0.2901,  0.4212,  0.6436], device='cuda:0')\n",
      "conti attr [tensor(-0.2777, device='cuda:0'), tensor(-0.4970, device='cuda:0'), tensor(-0.2901, device='cuda:0'), tensor(0.4212, device='cuda:0'), tensor(0.6436, device='cuda:0')]\n",
      "detokenized ['[CLS]', 'a', 'great', 'film', '[SEP]']\n",
      "len conti_raw 5\n",
      "conti_raw ['[CLS]', 'a', 'great', 'film', '[SEP]']\n"
     ]
    },
    {
     "data": {
      "text/html": [
       "<table width: 100%><div style=\"border-top: 1px solid; margin-top: 5px;             padding-top: 5px; display: inline-block\"><b>Legend: </b><span style=\"display: inline-block; width: 10px; height: 10px;                 border: 1px solid; background-color:                 hsl(0, 75%, 60%)\"></span> Negative  <span style=\"display: inline-block; width: 10px; height: 10px;                 border: 1px solid; background-color:                 hsl(0, 75%, 100%)\"></span> Neutral  <span style=\"display: inline-block; width: 10px; height: 10px;                 border: 1px solid; background-color:                 hsl(120, 75%, 50%)\"></span> Positive  </div><tr><th>True Label</th><th>Predicted Label</th><th>Attribution Label</th><th>Attribution Score</th><th>Word Importance</th><tr><td><text style=\"padding-right:2em\"><b>Pos</b></text></td><td><text style=\"padding-right:2em\"><b>Pos (0.97)</b></text></td><td><text style=\"padding-right:2em\"><b>Neg</b></text></td><td><text style=\"padding-right:2em\"><b>0.00</b></text></td><td><mark style=\"background-color: hsl(0, 75%, 89%); opacity:1.0;                     line-height:1.75\"><font color=\"black\"> [CLS]                    </font></mark><mark style=\"background-color: hsl(0, 75%, 81%); opacity:1.0;                     line-height:1.75\"><font color=\"black\"> a                    </font></mark><mark style=\"background-color: hsl(0, 75%, 89%); opacity:1.0;                     line-height:1.75\"><font color=\"black\"> great                    </font></mark><mark style=\"background-color: hsl(120, 75%, 79%); opacity:1.0;                     line-height:1.75\"><font color=\"black\"> film                    </font></mark><mark style=\"background-color: hsl(120, 75%, 68%); opacity:1.0;                     line-height:1.75\"><font color=\"black\"> [SEP]                    </font></mark></td><tr></table>"
      ],
      "text/plain": [
       "<IPython.core.display.HTML object>"
      ]
     },
     "metadata": {},
     "output_type": "display_data"
    },
    {
     "name": "stdout",
     "output_type": "stream",
     "text": [
      "<IPython.core.display.HTML object>\n",
      "Raw review: charm \n",
      "GT target: 1\n"
     ]
    },
    {
     "name": "stderr",
     "output_type": "stream",
     "text": [
      "Kernel Shap attribution: 100%|█████████████████████████████████████████████████████████████████████████████████████████████████| 10/10 [00:00<00:00, 17.77it/s]\n"
     ]
    },
    {
     "name": "stdout",
     "output_type": "stream",
     "text": [
      "word attr tensor([ 0.7026, -0.7116,  0.0090], device='cuda:0')\n",
      "conti attr [tensor(0.7026, device='cuda:0'), tensor(-0.7116, device='cuda:0'), tensor(0.0090, device='cuda:0')]\n",
      "detokenized ['[CLS]', 'charm', '[SEP]']\n",
      "len conti_raw 3\n",
      "conti_raw ['[CLS]', 'charm', '[SEP]']\n"
     ]
    },
    {
     "data": {
      "text/html": [
       "<table width: 100%><div style=\"border-top: 1px solid; margin-top: 5px;             padding-top: 5px; display: inline-block\"><b>Legend: </b><span style=\"display: inline-block; width: 10px; height: 10px;                 border: 1px solid; background-color:                 hsl(0, 75%, 60%)\"></span> Negative  <span style=\"display: inline-block; width: 10px; height: 10px;                 border: 1px solid; background-color:                 hsl(0, 75%, 100%)\"></span> Neutral  <span style=\"display: inline-block; width: 10px; height: 10px;                 border: 1px solid; background-color:                 hsl(120, 75%, 50%)\"></span> Positive  </div><tr><th>True Label</th><th>Predicted Label</th><th>Attribution Label</th><th>Attribution Score</th><th>Word Importance</th><tr><td><text style=\"padding-right:2em\"><b>Pos</b></text></td><td><text style=\"padding-right:2em\"><b>Pos (0.97)</b></text></td><td><text style=\"padding-right:2em\"><b>Neg</b></text></td><td><text style=\"padding-right:2em\"><b>0.00</b></text></td><td><mark style=\"background-color: hsl(120, 75%, 65%); opacity:1.0;                     line-height:1.75\"><font color=\"black\"> [CLS]                    </font></mark><mark style=\"background-color: hsl(0, 75%, 72%); opacity:1.0;                     line-height:1.75\"><font color=\"black\"> charm                    </font></mark><mark style=\"background-color: hsl(120, 75%, 100%); opacity:1.0;                     line-height:1.75\"><font color=\"black\"> [SEP]                    </font></mark></td><tr></table>"
      ],
      "text/plain": [
       "<IPython.core.display.HTML object>"
      ]
     },
     "metadata": {},
     "output_type": "display_data"
    },
    {
     "name": "stdout",
     "output_type": "stream",
     "text": [
      "<IPython.core.display.HTML object>\n",
      "Raw review: this new jangle of noise , mayhem and stupidity \n",
      "GT target: 0\n"
     ]
    },
    {
     "name": "stderr",
     "output_type": "stream",
     "text": [
      "Kernel Shap attribution: 100%|█████████████████████████████████████████████████████████████████████████████████████████████████| 10/10 [00:01<00:00,  9.84it/s]\n"
     ]
    },
    {
     "name": "stdout",
     "output_type": "stream",
     "text": [
      "word attr tensor([-0.6357,  0.0989, -0.1168, -0.2163,  0.2615, -0.2071,  0.2146, -0.3145,\n",
      "         0.1303,  0.3897,  0.3037,  0.0918], device='cuda:0')\n",
      "conti attr [tensor(-0.6357, device='cuda:0'), tensor(0.0989, device='cuda:0'), tensor(-0.1168, device='cuda:0'), tensor(0.0226, device='cuda:0'), tensor(-0.2071, device='cuda:0'), tensor(0.2146, device='cuda:0'), tensor(-0.3145, device='cuda:0'), tensor(0.1303, device='cuda:0'), tensor(0.3897, device='cuda:0'), tensor(0.3037, device='cuda:0'), tensor(0.0918, device='cuda:0')]\n",
      "detokenized ['[CLS]', 'this', 'new', 'jang', 'le', 'of', 'noise', ',', 'mayhem', 'and', 'stupidity', '[SEP]']\n",
      "len conti_raw 11\n",
      "conti_raw ['[CLS]', 'this', 'new', 'jangle', 'of', 'noise', ',', 'mayhem', 'and', 'stupidity', '[SEP]']\n"
     ]
    },
    {
     "data": {
      "text/html": [
       "<table width: 100%><div style=\"border-top: 1px solid; margin-top: 5px;             padding-top: 5px; display: inline-block\"><b>Legend: </b><span style=\"display: inline-block; width: 10px; height: 10px;                 border: 1px solid; background-color:                 hsl(0, 75%, 60%)\"></span> Negative  <span style=\"display: inline-block; width: 10px; height: 10px;                 border: 1px solid; background-color:                 hsl(0, 75%, 100%)\"></span> Neutral  <span style=\"display: inline-block; width: 10px; height: 10px;                 border: 1px solid; background-color:                 hsl(120, 75%, 50%)\"></span> Positive  </div><tr><th>True Label</th><th>Predicted Label</th><th>Attribution Label</th><th>Attribution Score</th><th>Word Importance</th><tr><td><text style=\"padding-right:2em\"><b>Neg</b></text></td><td><text style=\"padding-right:2em\"><b>Neg (0.09)</b></text></td><td><text style=\"padding-right:2em\"><b>Neg</b></text></td><td><text style=\"padding-right:2em\"><b>-0.00</b></text></td><td><mark style=\"background-color: hsl(0, 75%, 75%); opacity:1.0;                     line-height:1.75\"><font color=\"black\"> [CLS]                    </font></mark><mark style=\"background-color: hsl(120, 75%, 96%); opacity:1.0;                     line-height:1.75\"><font color=\"black\"> this                    </font></mark><mark style=\"background-color: hsl(0, 75%, 96%); opacity:1.0;                     line-height:1.75\"><font color=\"black\"> new                    </font></mark><mark style=\"background-color: hsl(120, 75%, 99%); opacity:1.0;                     line-height:1.75\"><font color=\"black\"> jangle                    </font></mark><mark style=\"background-color: hsl(0, 75%, 92%); opacity:1.0;                     line-height:1.75\"><font color=\"black\"> of                    </font></mark><mark style=\"background-color: hsl(120, 75%, 90%); opacity:1.0;                     line-height:1.75\"><font color=\"black\"> noise                    </font></mark><mark style=\"background-color: hsl(0, 75%, 88%); opacity:1.0;                     line-height:1.75\"><font color=\"black\"> ,                    </font></mark><mark style=\"background-color: hsl(120, 75%, 94%); opacity:1.0;                     line-height:1.75\"><font color=\"black\"> mayhem                    </font></mark><mark style=\"background-color: hsl(120, 75%, 81%); opacity:1.0;                     line-height:1.75\"><font color=\"black\"> and                    </font></mark><mark style=\"background-color: hsl(120, 75%, 85%); opacity:1.0;                     line-height:1.75\"><font color=\"black\"> stupidity                    </font></mark><mark style=\"background-color: hsl(120, 75%, 96%); opacity:1.0;                     line-height:1.75\"><font color=\"black\"> [SEP]                    </font></mark></td><tr></table>"
      ],
      "text/plain": [
       "<IPython.core.display.HTML object>"
      ]
     },
     "metadata": {},
     "output_type": "display_data"
    },
    {
     "name": "stdout",
     "output_type": "stream",
     "text": [
      "<IPython.core.display.HTML object>\n",
      "Raw review: sustains it \n",
      "GT target: 1\n"
     ]
    },
    {
     "name": "stderr",
     "output_type": "stream",
     "text": [
      "Kernel Shap attribution: 100%|█████████████████████████████████████████████████████████████████████████████████████████████████| 10/10 [00:00<00:00, 15.66it/s]\n"
     ]
    },
    {
     "name": "stdout",
     "output_type": "stream",
     "text": [
      "word attr tensor([ 0.3879,  0.4213, -0.3740, -0.6853,  0.2501], device='cuda:0')\n",
      "conti attr [tensor(0.3879, device='cuda:0'), tensor(0.0236, device='cuda:0'), tensor(-0.6853, device='cuda:0'), tensor(0.2501, device='cuda:0')]\n",
      "detokenized ['[CLS]', 'sustain', 's', 'it', '[SEP]']\n",
      "len conti_raw 4\n",
      "conti_raw ['[CLS]', 'sustains', 'it', '[SEP]']\n"
     ]
    },
    {
     "data": {
      "text/html": [
       "<table width: 100%><div style=\"border-top: 1px solid; margin-top: 5px;             padding-top: 5px; display: inline-block\"><b>Legend: </b><span style=\"display: inline-block; width: 10px; height: 10px;                 border: 1px solid; background-color:                 hsl(0, 75%, 60%)\"></span> Negative  <span style=\"display: inline-block; width: 10px; height: 10px;                 border: 1px solid; background-color:                 hsl(0, 75%, 100%)\"></span> Neutral  <span style=\"display: inline-block; width: 10px; height: 10px;                 border: 1px solid; background-color:                 hsl(120, 75%, 50%)\"></span> Positive  </div><tr><th>True Label</th><th>Predicted Label</th><th>Attribution Label</th><th>Attribution Score</th><th>Word Importance</th><tr><td><text style=\"padding-right:2em\"><b>Pos</b></text></td><td><text style=\"padding-right:2em\"><b>Pos (0.97)</b></text></td><td><text style=\"padding-right:2em\"><b>Neg</b></text></td><td><text style=\"padding-right:2em\"><b>-0.00</b></text></td><td><mark style=\"background-color: hsl(120, 75%, 81%); opacity:1.0;                     line-height:1.75\"><font color=\"black\"> [CLS]                    </font></mark><mark style=\"background-color: hsl(120, 75%, 99%); opacity:1.0;                     line-height:1.75\"><font color=\"black\"> sustains                    </font></mark><mark style=\"background-color: hsl(0, 75%, 73%); opacity:1.0;                     line-height:1.75\"><font color=\"black\"> it                    </font></mark><mark style=\"background-color: hsl(120, 75%, 88%); opacity:1.0;                     line-height:1.75\"><font color=\"black\"> [SEP]                    </font></mark></td><tr></table>"
      ],
      "text/plain": [
       "<IPython.core.display.HTML object>"
      ]
     },
     "metadata": {},
     "output_type": "display_data"
    },
    {
     "name": "stderr",
     "output_type": "stream",
     "text": [
      "/home/user/anaconda3/envs/metric/lib/python3.9/site-packages/captum/attr/_core/lime.py:1096: UserWarning: Attempting to construct interpretable model with > 10000 features.This can be very slow or lead to OOM issues. Please provide a featuremask which groups input features to reduce the number of interpretablefeatures. \n",
      "  warnings.warn(\n"
     ]
    },
    {
     "name": "stdout",
     "output_type": "stream",
     "text": [
      "<IPython.core.display.HTML object>\n",
      "Raw review: is so deadly dull that watching the proverbial paint dry would be a welcome improvement . \n",
      "GT target: 0\n"
     ]
    },
    {
     "name": "stderr",
     "output_type": "stream",
     "text": [
      "Kernel Shap attribution: 100%|█████████████████████████████████████████████████████████████████████████████████████████████████| 10/10 [00:01<00:00,  7.56it/s]\n"
     ]
    },
    {
     "name": "stdout",
     "output_type": "stream",
     "text": [
      "word attr tensor([ 0.2036, -0.1039,  0.4590, -0.1060,  0.1163,  0.1166, -0.0231,  0.1173,\n",
      "         0.0438, -0.1768, -0.1123, -0.0370,  0.0470, -0.5497,  0.2209,  0.3041,\n",
      "         0.2508, -0.0519, -0.0206,  0.3543], device='cuda:0')\n",
      "conti attr [tensor(0.2036, device='cuda:0'), tensor(-0.1039, device='cuda:0'), tensor(0.4590, device='cuda:0'), tensor(-0.1060, device='cuda:0'), tensor(0.1163, device='cuda:0'), tensor(0.1166, device='cuda:0'), tensor(-0.0231, device='cuda:0'), tensor(0.1173, device='cuda:0'), tensor(-0.0894, device='cuda:0'), tensor(-0.0370, device='cuda:0'), tensor(0.0470, device='cuda:0'), tensor(-0.5497, device='cuda:0'), tensor(0.2209, device='cuda:0'), tensor(0.3041, device='cuda:0'), tensor(0.2508, device='cuda:0'), tensor(-0.0519, device='cuda:0'), tensor(-0.0206, device='cuda:0'), tensor(0.3543, device='cuda:0')]\n",
      "detokenized ['[CLS]', 'is', 'so', 'deadly', 'dull', 'that', 'watching', 'the', 'prove', 'rb', 'ial', 'paint', 'dry', 'would', 'be', 'a', 'welcome', 'improvement', '.', '[SEP]']\n",
      "len conti_raw 18\n",
      "conti_raw ['[CLS]', 'is', 'so', 'deadly', 'dull', 'that', 'watching', 'the', 'proverbial', 'paint', 'dry', 'would', 'be', 'a', 'welcome', 'improvement', '.', '[SEP]']\n"
     ]
    },
    {
     "data": {
      "text/html": [
       "<table width: 100%><div style=\"border-top: 1px solid; margin-top: 5px;             padding-top: 5px; display: inline-block\"><b>Legend: </b><span style=\"display: inline-block; width: 10px; height: 10px;                 border: 1px solid; background-color:                 hsl(0, 75%, 60%)\"></span> Negative  <span style=\"display: inline-block; width: 10px; height: 10px;                 border: 1px solid; background-color:                 hsl(0, 75%, 100%)\"></span> Neutral  <span style=\"display: inline-block; width: 10px; height: 10px;                 border: 1px solid; background-color:                 hsl(120, 75%, 50%)\"></span> Positive  </div><tr><th>True Label</th><th>Predicted Label</th><th>Attribution Label</th><th>Attribution Score</th><th>Word Importance</th><tr><td><text style=\"padding-right:2em\"><b>Neg</b></text></td><td><text style=\"padding-right:2em\"><b>Neg (0.42)</b></text></td><td><text style=\"padding-right:2em\"><b>Pos</b></text></td><td><text style=\"padding-right:2em\"><b>1.05</b></text></td><td><mark style=\"background-color: hsl(120, 75%, 90%); opacity:1.0;                     line-height:1.75\"><font color=\"black\"> [CLS]                    </font></mark><mark style=\"background-color: hsl(0, 75%, 96%); opacity:1.0;                     line-height:1.75\"><font color=\"black\"> is                    </font></mark><mark style=\"background-color: hsl(120, 75%, 78%); opacity:1.0;                     line-height:1.75\"><font color=\"black\"> so                    </font></mark><mark style=\"background-color: hsl(0, 75%, 96%); opacity:1.0;                     line-height:1.75\"><font color=\"black\"> deadly                    </font></mark><mark style=\"background-color: hsl(120, 75%, 95%); opacity:1.0;                     line-height:1.75\"><font color=\"black\"> dull                    </font></mark><mark style=\"background-color: hsl(120, 75%, 95%); opacity:1.0;                     line-height:1.75\"><font color=\"black\"> that                    </font></mark><mark style=\"background-color: hsl(0, 75%, 100%); opacity:1.0;                     line-height:1.75\"><font color=\"black\"> watching                    </font></mark><mark style=\"background-color: hsl(120, 75%, 95%); opacity:1.0;                     line-height:1.75\"><font color=\"black\"> the                    </font></mark><mark style=\"background-color: hsl(0, 75%, 97%); opacity:1.0;                     line-height:1.75\"><font color=\"black\"> proverbial                    </font></mark><mark style=\"background-color: hsl(0, 75%, 99%); opacity:1.0;                     line-height:1.75\"><font color=\"black\"> paint                    </font></mark><mark style=\"background-color: hsl(120, 75%, 98%); opacity:1.0;                     line-height:1.75\"><font color=\"black\"> dry                    </font></mark><mark style=\"background-color: hsl(0, 75%, 79%); opacity:1.0;                     line-height:1.75\"><font color=\"black\"> would                    </font></mark><mark style=\"background-color: hsl(120, 75%, 89%); opacity:1.0;                     line-height:1.75\"><font color=\"black\"> be                    </font></mark><mark style=\"background-color: hsl(120, 75%, 85%); opacity:1.0;                     line-height:1.75\"><font color=\"black\"> a                    </font></mark><mark style=\"background-color: hsl(120, 75%, 88%); opacity:1.0;                     line-height:1.75\"><font color=\"black\"> welcome                    </font></mark><mark style=\"background-color: hsl(0, 75%, 98%); opacity:1.0;                     line-height:1.75\"><font color=\"black\"> improvement                    </font></mark><mark style=\"background-color: hsl(0, 75%, 100%); opacity:1.0;                     line-height:1.75\"><font color=\"black\"> .                    </font></mark><mark style=\"background-color: hsl(120, 75%, 83%); opacity:1.0;                     line-height:1.75\"><font color=\"black\"> [SEP]                    </font></mark></td><tr></table>"
      ],
      "text/plain": [
       "<IPython.core.display.HTML object>"
      ]
     },
     "metadata": {},
     "output_type": "display_data"
    },
    {
     "name": "stdout",
     "output_type": "stream",
     "text": [
      "<IPython.core.display.HTML object>\n",
      "Raw review: to accomplish \n",
      "GT target: 1\n"
     ]
    },
    {
     "name": "stderr",
     "output_type": "stream",
     "text": [
      "Kernel Shap attribution: 100%|█████████████████████████████████████████████████████████████████████████████████████████████████| 10/10 [00:00<00:00, 16.37it/s]\n"
     ]
    },
    {
     "name": "stdout",
     "output_type": "stream",
     "text": [
      "word attr tensor([ 0.8128,  0.0059, -0.3638, -0.4549], device='cuda:0')\n",
      "conti attr [tensor(0.8128, device='cuda:0'), tensor(0.0059, device='cuda:0'), tensor(-0.3638, device='cuda:0'), tensor(-0.4549, device='cuda:0')]\n",
      "detokenized ['[CLS]', 'to', 'accomplish', '[SEP]']\n",
      "len conti_raw 4\n",
      "conti_raw ['[CLS]', 'to', 'accomplish', '[SEP]']\n"
     ]
    },
    {
     "data": {
      "text/html": [
       "<table width: 100%><div style=\"border-top: 1px solid; margin-top: 5px;             padding-top: 5px; display: inline-block\"><b>Legend: </b><span style=\"display: inline-block; width: 10px; height: 10px;                 border: 1px solid; background-color:                 hsl(0, 75%, 60%)\"></span> Negative  <span style=\"display: inline-block; width: 10px; height: 10px;                 border: 1px solid; background-color:                 hsl(0, 75%, 100%)\"></span> Neutral  <span style=\"display: inline-block; width: 10px; height: 10px;                 border: 1px solid; background-color:                 hsl(120, 75%, 50%)\"></span> Positive  </div><tr><th>True Label</th><th>Predicted Label</th><th>Attribution Label</th><th>Attribution Score</th><th>Word Importance</th><tr><td><text style=\"padding-right:2em\"><b>Pos</b></text></td><td><text style=\"padding-right:2em\"><b>Pos (0.97)</b></text></td><td><text style=\"padding-right:2em\"><b>Neg</b></text></td><td><text style=\"padding-right:2em\"><b>-0.00</b></text></td><td><mark style=\"background-color: hsl(120, 75%, 60%); opacity:1.0;                     line-height:1.75\"><font color=\"black\"> [CLS]                    </font></mark><mark style=\"background-color: hsl(120, 75%, 100%); opacity:1.0;                     line-height:1.75\"><font color=\"black\"> to                    </font></mark><mark style=\"background-color: hsl(0, 75%, 86%); opacity:1.0;                     line-height:1.75\"><font color=\"black\"> accomplish                    </font></mark><mark style=\"background-color: hsl(0, 75%, 82%); opacity:1.0;                     line-height:1.75\"><font color=\"black\"> [SEP]                    </font></mark></td><tr></table>"
      ],
      "text/plain": [
       "<IPython.core.display.HTML object>"
      ]
     },
     "metadata": {},
     "output_type": "display_data"
    },
    {
     "name": "stdout",
     "output_type": "stream",
     "text": [
      "<IPython.core.display.HTML object>\n",
      "Raw review: does n't work . \n",
      "GT target: 0\n"
     ]
    },
    {
     "name": "stderr",
     "output_type": "stream",
     "text": [
      "Kernel Shap attribution: 100%|█████████████████████████████████████████████████████████████████████████████████████████████████| 10/10 [00:00<00:00, 12.89it/s]\n"
     ]
    },
    {
     "name": "stdout",
     "output_type": "stream",
     "text": [
      "word attr tensor([ 0.4084, -0.1373, -0.0938,  0.1541, -0.0369, -0.5328,  0.6030, -0.3647],\n",
      "       device='cuda:0')\n",
      "conti attr [tensor(0.4084, device='cuda:0'), tensor(-0.1373, device='cuda:0'), tensor(-0.0034, device='cuda:0'), tensor(-0.5328, device='cuda:0'), tensor(0.6030, device='cuda:0'), tensor(-0.3647, device='cuda:0')]\n",
      "detokenized ['[CLS]', 'does', 'n', \"'\", 't', 'work', '.', '[SEP]']\n",
      "len conti_raw 6\n",
      "conti_raw ['[CLS]', 'does', \"n't\", 'work', '.', '[SEP]']\n"
     ]
    },
    {
     "data": {
      "text/html": [
       "<table width: 100%><div style=\"border-top: 1px solid; margin-top: 5px;             padding-top: 5px; display: inline-block\"><b>Legend: </b><span style=\"display: inline-block; width: 10px; height: 10px;                 border: 1px solid; background-color:                 hsl(0, 75%, 60%)\"></span> Negative  <span style=\"display: inline-block; width: 10px; height: 10px;                 border: 1px solid; background-color:                 hsl(0, 75%, 100%)\"></span> Neutral  <span style=\"display: inline-block; width: 10px; height: 10px;                 border: 1px solid; background-color:                 hsl(120, 75%, 50%)\"></span> Positive  </div><tr><th>True Label</th><th>Predicted Label</th><th>Attribution Label</th><th>Attribution Score</th><th>Word Importance</th><tr><td><text style=\"padding-right:2em\"><b>Neg</b></text></td><td><text style=\"padding-right:2em\"><b>Neg (0.04)</b></text></td><td><text style=\"padding-right:2em\"><b>Neg</b></text></td><td><text style=\"padding-right:2em\"><b>-0.00</b></text></td><td><mark style=\"background-color: hsl(120, 75%, 80%); opacity:1.0;                     line-height:1.75\"><font color=\"black\"> [CLS]                    </font></mark><mark style=\"background-color: hsl(0, 75%, 95%); opacity:1.0;                     line-height:1.75\"><font color=\"black\"> does                    </font></mark><mark style=\"background-color: hsl(0, 75%, 100%); opacity:1.0;                     line-height:1.75\"><font color=\"black\"> n't                    </font></mark><mark style=\"background-color: hsl(0, 75%, 79%); opacity:1.0;                     line-height:1.75\"><font color=\"black\"> work                    </font></mark><mark style=\"background-color: hsl(120, 75%, 70%); opacity:1.0;                     line-height:1.75\"><font color=\"black\"> .                    </font></mark><mark style=\"background-color: hsl(0, 75%, 86%); opacity:1.0;                     line-height:1.75\"><font color=\"black\"> [SEP]                    </font></mark></td><tr></table>"
      ],
      "text/plain": [
       "<IPython.core.display.HTML object>"
      ]
     },
     "metadata": {},
     "output_type": "display_data"
    },
    {
     "name": "stdout",
     "output_type": "stream",
     "text": [
      "<IPython.core.display.HTML object>\n",
      "Raw review: given it a one-star rating \n",
      "GT target: 0\n"
     ]
    },
    {
     "name": "stderr",
     "output_type": "stream",
     "text": [
      "Kernel Shap attribution: 100%|█████████████████████████████████████████████████████████████████████████████████████████████████| 10/10 [00:00<00:00, 11.50it/s]\n"
     ]
    },
    {
     "name": "stdout",
     "output_type": "stream",
     "text": [
      "word attr tensor([-0.7041,  0.0735,  0.1402,  0.3322, -0.2397,  0.4284,  0.2734, -0.0929,\n",
      "        -0.2110], device='cuda:0')\n",
      "conti attr [tensor(-0.7041, device='cuda:0'), tensor(0.0735, device='cuda:0'), tensor(0.1402, device='cuda:0'), tensor(0.3322, device='cuda:0'), tensor(0.1839, device='cuda:0'), tensor(-0.0929, device='cuda:0'), tensor(-0.2110, device='cuda:0')]\n",
      "detokenized ['[CLS]', 'given', 'it', 'a', 'one', '-', 'star', 'rating', '[SEP]']\n",
      "len conti_raw 7\n",
      "conti_raw ['[CLS]', 'given', 'it', 'a', 'one-star', 'rating', '[SEP]']\n"
     ]
    },
    {
     "data": {
      "text/html": [
       "<table width: 100%><div style=\"border-top: 1px solid; margin-top: 5px;             padding-top: 5px; display: inline-block\"><b>Legend: </b><span style=\"display: inline-block; width: 10px; height: 10px;                 border: 1px solid; background-color:                 hsl(0, 75%, 60%)\"></span> Negative  <span style=\"display: inline-block; width: 10px; height: 10px;                 border: 1px solid; background-color:                 hsl(0, 75%, 100%)\"></span> Neutral  <span style=\"display: inline-block; width: 10px; height: 10px;                 border: 1px solid; background-color:                 hsl(120, 75%, 50%)\"></span> Positive  </div><tr><th>True Label</th><th>Predicted Label</th><th>Attribution Label</th><th>Attribution Score</th><th>Word Importance</th><tr><td><text style=\"padding-right:2em\"><b>Neg</b></text></td><td><text style=\"padding-right:2em\"><b>Pos (0.73)</b></text></td><td><text style=\"padding-right:2em\"><b>Neg</b></text></td><td><text style=\"padding-right:2em\"><b>0.00</b></text></td><td><mark style=\"background-color: hsl(0, 75%, 72%); opacity:1.0;                     line-height:1.75\"><font color=\"black\"> [CLS]                    </font></mark><mark style=\"background-color: hsl(120, 75%, 97%); opacity:1.0;                     line-height:1.75\"><font color=\"black\"> given                    </font></mark><mark style=\"background-color: hsl(120, 75%, 93%); opacity:1.0;                     line-height:1.75\"><font color=\"black\"> it                    </font></mark><mark style=\"background-color: hsl(120, 75%, 84%); opacity:1.0;                     line-height:1.75\"><font color=\"black\"> a                    </font></mark><mark style=\"background-color: hsl(120, 75%, 91%); opacity:1.0;                     line-height:1.75\"><font color=\"black\"> one-star                    </font></mark><mark style=\"background-color: hsl(0, 75%, 97%); opacity:1.0;                     line-height:1.75\"><font color=\"black\"> rating                    </font></mark><mark style=\"background-color: hsl(0, 75%, 92%); opacity:1.0;                     line-height:1.75\"><font color=\"black\"> [SEP]                    </font></mark></td><tr></table>"
      ],
      "text/plain": [
       "<IPython.core.display.HTML object>"
      ]
     },
     "metadata": {},
     "output_type": "display_data"
    },
    {
     "name": "stderr",
     "output_type": "stream",
     "text": [
      "/home/user/anaconda3/envs/metric/lib/python3.9/site-packages/captum/attr/_core/lime.py:1096: UserWarning: Attempting to construct interpretable model with > 10000 features.This can be very slow or lead to OOM issues. Please provide a featuremask which groups input features to reduce the number of interpretablefeatures. \n",
      "  warnings.warn(\n"
     ]
    },
    {
     "name": "stdout",
     "output_type": "stream",
     "text": [
      "<IPython.core.display.HTML object>\n",
      "Raw review: ice cube is n't quite out of ripe screwball ideas , but friday after next spreads them pretty thin \n",
      "GT target: 0\n"
     ]
    },
    {
     "name": "stderr",
     "output_type": "stream",
     "text": [
      "Kernel Shap attribution: 100%|█████████████████████████████████████████████████████████████████████████████████████████████████| 10/10 [00:01<00:00,  7.03it/s]\n"
     ]
    },
    {
     "name": "stdout",
     "output_type": "stream",
     "text": [
      "word attr tensor([-0.2063, -0.4812, -0.0132,  0.1630, -0.0054, -0.0031, -0.0774, -0.0728,\n",
      "        -0.2791, -0.1714,  0.1918,  0.3215,  0.2927, -0.1793,  0.1315,  0.1108,\n",
      "         0.2194, -0.0964,  0.1740,  0.1320, -0.1432, -0.3230, -0.2498,  0.0245],\n",
      "       device='cuda:0')\n",
      "conti attr [tensor(-0.2063, device='cuda:0'), tensor(-0.4812, device='cuda:0'), tensor(-0.0132, device='cuda:0'), tensor(0.1630, device='cuda:0'), tensor(-0.0408, device='cuda:0'), tensor(-0.0728, device='cuda:0'), tensor(-0.2791, device='cuda:0'), tensor(-0.1714, device='cuda:0'), tensor(0.1918, device='cuda:0'), tensor(0.3071, device='cuda:0'), tensor(-0.1793, device='cuda:0'), tensor(0.1315, device='cuda:0'), tensor(0.1108, device='cuda:0'), tensor(0.2194, device='cuda:0'), tensor(-0.0964, device='cuda:0'), tensor(0.1740, device='cuda:0'), tensor(0.1320, device='cuda:0'), tensor(-0.1432, device='cuda:0'), tensor(-0.3230, device='cuda:0'), tensor(-0.2498, device='cuda:0'), tensor(0.0245, device='cuda:0')]\n",
      "detokenized ['[CLS]', 'ice', 'cube', 'is', 'n', \"'\", 't', 'quite', 'out', 'of', 'ripe', 'screw', 'ball', 'ideas', ',', 'but', 'friday', 'after', 'next', 'spreads', 'them', 'pretty', 'thin', '[SEP]']\n",
      "len conti_raw 21\n",
      "conti_raw ['[CLS]', 'ice', 'cube', 'is', \"n't\", 'quite', 'out', 'of', 'ripe', 'screwball', 'ideas', ',', 'but', 'friday', 'after', 'next', 'spreads', 'them', 'pretty', 'thin', '[SEP]']\n"
     ]
    },
    {
     "data": {
      "text/html": [
       "<table width: 100%><div style=\"border-top: 1px solid; margin-top: 5px;             padding-top: 5px; display: inline-block\"><b>Legend: </b><span style=\"display: inline-block; width: 10px; height: 10px;                 border: 1px solid; background-color:                 hsl(0, 75%, 60%)\"></span> Negative  <span style=\"display: inline-block; width: 10px; height: 10px;                 border: 1px solid; background-color:                 hsl(0, 75%, 100%)\"></span> Neutral  <span style=\"display: inline-block; width: 10px; height: 10px;                 border: 1px solid; background-color:                 hsl(120, 75%, 50%)\"></span> Positive  </div><tr><th>True Label</th><th>Predicted Label</th><th>Attribution Label</th><th>Attribution Score</th><th>Word Importance</th><tr><td><text style=\"padding-right:2em\"><b>Neg</b></text></td><td><text style=\"padding-right:2em\"><b>Neg (0.04)</b></text></td><td><text style=\"padding-right:2em\"><b>Neg</b></text></td><td><text style=\"padding-right:2em\"><b>-0.54</b></text></td><td><mark style=\"background-color: hsl(0, 75%, 92%); opacity:1.0;                     line-height:1.75\"><font color=\"black\"> [CLS]                    </font></mark><mark style=\"background-color: hsl(0, 75%, 81%); opacity:1.0;                     line-height:1.75\"><font color=\"black\"> ice                    </font></mark><mark style=\"background-color: hsl(0, 75%, 100%); opacity:1.0;                     line-height:1.75\"><font color=\"black\"> cube                    </font></mark><mark style=\"background-color: hsl(120, 75%, 92%); opacity:1.0;                     line-height:1.75\"><font color=\"black\"> is                    </font></mark><mark style=\"background-color: hsl(0, 75%, 99%); opacity:1.0;                     line-height:1.75\"><font color=\"black\"> n't                    </font></mark><mark style=\"background-color: hsl(0, 75%, 98%); opacity:1.0;                     line-height:1.75\"><font color=\"black\"> quite                    </font></mark><mark style=\"background-color: hsl(0, 75%, 89%); opacity:1.0;                     line-height:1.75\"><font color=\"black\"> out                    </font></mark><mark style=\"background-color: hsl(0, 75%, 94%); opacity:1.0;                     line-height:1.75\"><font color=\"black\"> of                    </font></mark><mark style=\"background-color: hsl(120, 75%, 91%); opacity:1.0;                     line-height:1.75\"><font color=\"black\"> ripe                    </font></mark><mark style=\"background-color: hsl(120, 75%, 85%); opacity:1.0;                     line-height:1.75\"><font color=\"black\"> screwball                    </font></mark><mark style=\"background-color: hsl(0, 75%, 93%); opacity:1.0;                     line-height:1.75\"><font color=\"black\"> ideas                    </font></mark><mark style=\"background-color: hsl(120, 75%, 94%); opacity:1.0;                     line-height:1.75\"><font color=\"black\"> ,                    </font></mark><mark style=\"background-color: hsl(120, 75%, 95%); opacity:1.0;                     line-height:1.75\"><font color=\"black\"> but                    </font></mark><mark style=\"background-color: hsl(120, 75%, 90%); opacity:1.0;                     line-height:1.75\"><font color=\"black\"> friday                    </font></mark><mark style=\"background-color: hsl(0, 75%, 97%); opacity:1.0;                     line-height:1.75\"><font color=\"black\"> after                    </font></mark><mark style=\"background-color: hsl(120, 75%, 92%); opacity:1.0;                     line-height:1.75\"><font color=\"black\"> next                    </font></mark><mark style=\"background-color: hsl(120, 75%, 94%); opacity:1.0;                     line-height:1.75\"><font color=\"black\"> spreads                    </font></mark><mark style=\"background-color: hsl(0, 75%, 95%); opacity:1.0;                     line-height:1.75\"><font color=\"black\"> them                    </font></mark><mark style=\"background-color: hsl(0, 75%, 88%); opacity:1.0;                     line-height:1.75\"><font color=\"black\"> pretty                    </font></mark><mark style=\"background-color: hsl(0, 75%, 91%); opacity:1.0;                     line-height:1.75\"><font color=\"black\"> thin                    </font></mark><mark style=\"background-color: hsl(120, 75%, 99%); opacity:1.0;                     line-height:1.75\"><font color=\"black\"> [SEP]                    </font></mark></td><tr></table>"
      ],
      "text/plain": [
       "<IPython.core.display.HTML object>"
      ]
     },
     "metadata": {},
     "output_type": "display_data"
    },
    {
     "name": "stdout",
     "output_type": "stream",
     "text": [
      "<IPython.core.display.HTML object>\n",
      "Raw review: been trying to forget \n",
      "GT target: 0\n"
     ]
    },
    {
     "name": "stderr",
     "output_type": "stream",
     "text": [
      "Kernel Shap attribution: 100%|█████████████████████████████████████████████████████████████████████████████████████████████████| 10/10 [00:00<00:00, 14.61it/s]\n"
     ]
    },
    {
     "name": "stdout",
     "output_type": "stream",
     "text": [
      "word attr tensor([ 0.7933, -0.1453, -0.1265, -0.5727, -0.0206,  0.0718], device='cuda:0')\n",
      "conti attr [tensor(0.7933, device='cuda:0'), tensor(-0.1453, device='cuda:0'), tensor(-0.1265, device='cuda:0'), tensor(-0.5727, device='cuda:0'), tensor(-0.0206, device='cuda:0'), tensor(0.0718, device='cuda:0')]\n",
      "detokenized ['[CLS]', 'been', 'trying', 'to', 'forget', '[SEP]']\n",
      "len conti_raw 6\n",
      "conti_raw ['[CLS]', 'been', 'trying', 'to', 'forget', '[SEP]']\n"
     ]
    },
    {
     "data": {
      "text/html": [
       "<table width: 100%><div style=\"border-top: 1px solid; margin-top: 5px;             padding-top: 5px; display: inline-block\"><b>Legend: </b><span style=\"display: inline-block; width: 10px; height: 10px;                 border: 1px solid; background-color:                 hsl(0, 75%, 60%)\"></span> Negative  <span style=\"display: inline-block; width: 10px; height: 10px;                 border: 1px solid; background-color:                 hsl(0, 75%, 100%)\"></span> Neutral  <span style=\"display: inline-block; width: 10px; height: 10px;                 border: 1px solid; background-color:                 hsl(120, 75%, 50%)\"></span> Positive  </div><tr><th>True Label</th><th>Predicted Label</th><th>Attribution Label</th><th>Attribution Score</th><th>Word Importance</th><tr><td><text style=\"padding-right:2em\"><b>Neg</b></text></td><td><text style=\"padding-right:2em\"><b>Neg (0.07)</b></text></td><td><text style=\"padding-right:2em\"><b>Neg</b></text></td><td><text style=\"padding-right:2em\"><b>-0.00</b></text></td><td><mark style=\"background-color: hsl(120, 75%, 61%); opacity:1.0;                     line-height:1.75\"><font color=\"black\"> [CLS]                    </font></mark><mark style=\"background-color: hsl(0, 75%, 95%); opacity:1.0;                     line-height:1.75\"><font color=\"black\"> been                    </font></mark><mark style=\"background-color: hsl(0, 75%, 95%); opacity:1.0;                     line-height:1.75\"><font color=\"black\"> trying                    </font></mark><mark style=\"background-color: hsl(0, 75%, 78%); opacity:1.0;                     line-height:1.75\"><font color=\"black\"> to                    </font></mark><mark style=\"background-color: hsl(0, 75%, 100%); opacity:1.0;                     line-height:1.75\"><font color=\"black\"> forget                    </font></mark><mark style=\"background-color: hsl(120, 75%, 97%); opacity:1.0;                     line-height:1.75\"><font color=\"black\"> [SEP]                    </font></mark></td><tr></table>"
      ],
      "text/plain": [
       "<IPython.core.display.HTML object>"
      ]
     },
     "metadata": {},
     "output_type": "display_data"
    },
    {
     "name": "stdout",
     "output_type": "stream",
     "text": [
      "<IPython.core.display.HTML object>\n",
      "Raw review: big stars and \n",
      "GT target: 1\n"
     ]
    },
    {
     "name": "stderr",
     "output_type": "stream",
     "text": [
      "Kernel Shap attribution: 100%|█████████████████████████████████████████████████████████████████████████████████████████████████| 10/10 [00:00<00:00, 15.22it/s]\n"
     ]
    },
    {
     "name": "stdout",
     "output_type": "stream",
     "text": [
      "word attr tensor([ 0.7062, -0.4011, -0.5442,  0.2082,  0.0309], device='cuda:0')\n",
      "conti attr [tensor(0.7062, device='cuda:0'), tensor(-0.4011, device='cuda:0'), tensor(-0.5442, device='cuda:0'), tensor(0.2082, device='cuda:0'), tensor(0.0309, device='cuda:0')]\n",
      "detokenized ['[CLS]', 'big', 'stars', 'and', '[SEP]']\n",
      "len conti_raw 5\n",
      "conti_raw ['[CLS]', 'big', 'stars', 'and', '[SEP]']\n"
     ]
    },
    {
     "data": {
      "text/html": [
       "<table width: 100%><div style=\"border-top: 1px solid; margin-top: 5px;             padding-top: 5px; display: inline-block\"><b>Legend: </b><span style=\"display: inline-block; width: 10px; height: 10px;                 border: 1px solid; background-color:                 hsl(0, 75%, 60%)\"></span> Negative  <span style=\"display: inline-block; width: 10px; height: 10px;                 border: 1px solid; background-color:                 hsl(0, 75%, 100%)\"></span> Neutral  <span style=\"display: inline-block; width: 10px; height: 10px;                 border: 1px solid; background-color:                 hsl(120, 75%, 50%)\"></span> Positive  </div><tr><th>True Label</th><th>Predicted Label</th><th>Attribution Label</th><th>Attribution Score</th><th>Word Importance</th><tr><td><text style=\"padding-right:2em\"><b>Pos</b></text></td><td><text style=\"padding-right:2em\"><b>Pos (0.97)</b></text></td><td><text style=\"padding-right:2em\"><b>Neg</b></text></td><td><text style=\"padding-right:2em\"><b>0.00</b></text></td><td><mark style=\"background-color: hsl(120, 75%, 65%); opacity:1.0;                     line-height:1.75\"><font color=\"black\"> [CLS]                    </font></mark><mark style=\"background-color: hsl(0, 75%, 84%); opacity:1.0;                     line-height:1.75\"><font color=\"black\"> big                    </font></mark><mark style=\"background-color: hsl(0, 75%, 79%); opacity:1.0;                     line-height:1.75\"><font color=\"black\"> stars                    </font></mark><mark style=\"background-color: hsl(120, 75%, 90%); opacity:1.0;                     line-height:1.75\"><font color=\"black\"> and                    </font></mark><mark style=\"background-color: hsl(120, 75%, 99%); opacity:1.0;                     line-height:1.75\"><font color=\"black\"> [SEP]                    </font></mark></td><tr></table>"
      ],
      "text/plain": [
       "<IPython.core.display.HTML object>"
      ]
     },
     "metadata": {},
     "output_type": "display_data"
    },
    {
     "name": "stdout",
     "output_type": "stream",
     "text": [
      "<IPython.core.display.HTML object>\n",
      "Raw review: of cheesy dialogue \n",
      "GT target: 0\n"
     ]
    },
    {
     "name": "stderr",
     "output_type": "stream",
     "text": [
      "Kernel Shap attribution: 100%|█████████████████████████████████████████████████████████████████████████████████████████████████| 10/10 [00:00<00:00, 12.92it/s]\n"
     ]
    },
    {
     "name": "stdout",
     "output_type": "stream",
     "text": [
      "word attr tensor([ 0.6418,  0.1822, -0.3411,  0.0398, -0.0580, -0.6358,  0.1712],\n",
      "       device='cuda:0')\n",
      "conti attr [tensor(0.6418, device='cuda:0'), tensor(0.1822, device='cuda:0'), tensor(-0.1043, device='cuda:0'), tensor(-0.6358, device='cuda:0'), tensor(0.1712, device='cuda:0')]\n",
      "detokenized ['[CLS]', 'of', 'che', 'es', 'y', 'dialogue', '[SEP]']\n",
      "len conti_raw 5\n",
      "conti_raw ['[CLS]', 'of', 'cheesy', 'dialogue', '[SEP]']\n"
     ]
    },
    {
     "data": {
      "text/html": [
       "<table width: 100%><div style=\"border-top: 1px solid; margin-top: 5px;             padding-top: 5px; display: inline-block\"><b>Legend: </b><span style=\"display: inline-block; width: 10px; height: 10px;                 border: 1px solid; background-color:                 hsl(0, 75%, 60%)\"></span> Negative  <span style=\"display: inline-block; width: 10px; height: 10px;                 border: 1px solid; background-color:                 hsl(0, 75%, 100%)\"></span> Neutral  <span style=\"display: inline-block; width: 10px; height: 10px;                 border: 1px solid; background-color:                 hsl(120, 75%, 50%)\"></span> Positive  </div><tr><th>True Label</th><th>Predicted Label</th><th>Attribution Label</th><th>Attribution Score</th><th>Word Importance</th><tr><td><text style=\"padding-right:2em\"><b>Neg</b></text></td><td><text style=\"padding-right:2em\"><b>Neg (0.02)</b></text></td><td><text style=\"padding-right:2em\"><b>Neg</b></text></td><td><text style=\"padding-right:2em\"><b>0.00</b></text></td><td><mark style=\"background-color: hsl(120, 75%, 68%); opacity:1.0;                     line-height:1.75\"><font color=\"black\"> [CLS]                    </font></mark><mark style=\"background-color: hsl(120, 75%, 91%); opacity:1.0;                     line-height:1.75\"><font color=\"black\"> of                    </font></mark><mark style=\"background-color: hsl(0, 75%, 96%); opacity:1.0;                     line-height:1.75\"><font color=\"black\"> cheesy                    </font></mark><mark style=\"background-color: hsl(0, 75%, 75%); opacity:1.0;                     line-height:1.75\"><font color=\"black\"> dialogue                    </font></mark><mark style=\"background-color: hsl(120, 75%, 92%); opacity:1.0;                     line-height:1.75\"><font color=\"black\"> [SEP]                    </font></mark></td><tr></table>"
      ],
      "text/plain": [
       "<IPython.core.display.HTML object>"
      ]
     },
     "metadata": {},
     "output_type": "display_data"
    },
    {
     "name": "stderr",
     "output_type": "stream",
     "text": [
      "/home/user/anaconda3/envs/metric/lib/python3.9/site-packages/captum/attr/_core/lime.py:1096: UserWarning: Attempting to construct interpretable model with > 10000 features.This can be very slow or lead to OOM issues. Please provide a featuremask which groups input features to reduce the number of interpretablefeatures. \n",
      "  warnings.warn(\n"
     ]
    },
    {
     "name": "stdout",
     "output_type": "stream",
     "text": [
      "<IPython.core.display.HTML object>\n",
      "Raw review: the château is never quite able to overcome the cultural moat surrounding its ludicrous and contrived plot . ' \n",
      "GT target: 0\n"
     ]
    },
    {
     "name": "stderr",
     "output_type": "stream",
     "text": [
      "Kernel Shap attribution: 100%|█████████████████████████████████████████████████████████████████████████████████████████████████| 10/10 [00:01<00:00,  6.70it/s]\n"
     ]
    },
    {
     "name": "stdout",
     "output_type": "stream",
     "text": [
      "word attr tensor([-0.0501,  0.1095,  0.1668, -0.0148, -0.2483,  0.1835, -0.0111, -0.2491,\n",
      "        -0.0426, -0.3468, -0.1017, -0.0433,  0.1754,  0.1610, -0.0461,  0.2792,\n",
      "        -0.3373,  0.0512,  0.4461, -0.2485, -0.1387, -0.3136,  0.1728,  0.0259,\n",
      "         0.0607], device='cuda:0')\n",
      "conti attr [tensor(-0.0501, device='cuda:0'), tensor(0.1095, device='cuda:0'), tensor(0.1668, device='cuda:0'), tensor(-0.0148, device='cuda:0'), tensor(-0.2483, device='cuda:0'), tensor(0.1835, device='cuda:0'), tensor(-0.0111, device='cuda:0'), tensor(-0.2491, device='cuda:0'), tensor(-0.0426, device='cuda:0'), tensor(-0.3468, device='cuda:0'), tensor(-0.1017, device='cuda:0'), tensor(-0.0433, device='cuda:0'), tensor(0.1754, device='cuda:0'), tensor(0.1610, device='cuda:0'), tensor(-0.1104, device='cuda:0'), tensor(0.0512, device='cuda:0'), tensor(-0.0199, device='cuda:0'), tensor(-0.3136, device='cuda:0'), tensor(0.1728, device='cuda:0'), tensor(0.0259, device='cuda:0'), tensor(0.0607, device='cuda:0')]\n",
      "detokenized ['[CLS]', 'the', 'chateau', 'is', 'never', 'quite', 'able', 'to', 'overcome', 'the', 'cultural', 'moat', 'surrounding', 'its', 'lu', 'dic', 'rous', 'and', 'con', 'tri', 'ved', 'plot', '.', \"'\", '[SEP]']\n",
      "len conti_raw 21\n",
      "conti_raw ['[CLS]', 'the', 'chateau', 'is', 'never', 'quite', 'able', 'to', 'overcome', 'the', 'cultural', 'moat', 'surrounding', 'its', 'ludicrous', 'and', 'contrived', 'plot', '.', \"'\", '[SEP]']\n"
     ]
    },
    {
     "data": {
      "text/html": [
       "<table width: 100%><div style=\"border-top: 1px solid; margin-top: 5px;             padding-top: 5px; display: inline-block\"><b>Legend: </b><span style=\"display: inline-block; width: 10px; height: 10px;                 border: 1px solid; background-color:                 hsl(0, 75%, 60%)\"></span> Negative  <span style=\"display: inline-block; width: 10px; height: 10px;                 border: 1px solid; background-color:                 hsl(0, 75%, 100%)\"></span> Neutral  <span style=\"display: inline-block; width: 10px; height: 10px;                 border: 1px solid; background-color:                 hsl(120, 75%, 50%)\"></span> Positive  </div><tr><th>True Label</th><th>Predicted Label</th><th>Attribution Label</th><th>Attribution Score</th><th>Word Importance</th><tr><td><text style=\"padding-right:2em\"><b>Neg</b></text></td><td><text style=\"padding-right:2em\"><b>Neg (0.06)</b></text></td><td><text style=\"padding-right:2em\"><b>Neg</b></text></td><td><text style=\"padding-right:2em\"><b>-0.36</b></text></td><td><mark style=\"background-color: hsl(0, 75%, 98%); opacity:1.0;                     line-height:1.75\"><font color=\"black\"> [CLS]                    </font></mark><mark style=\"background-color: hsl(120, 75%, 95%); opacity:1.0;                     line-height:1.75\"><font color=\"black\"> the                    </font></mark><mark style=\"background-color: hsl(120, 75%, 92%); opacity:1.0;                     line-height:1.75\"><font color=\"black\"> chateau                    </font></mark><mark style=\"background-color: hsl(0, 75%, 100%); opacity:1.0;                     line-height:1.75\"><font color=\"black\"> is                    </font></mark><mark style=\"background-color: hsl(0, 75%, 91%); opacity:1.0;                     line-height:1.75\"><font color=\"black\"> never                    </font></mark><mark style=\"background-color: hsl(120, 75%, 91%); opacity:1.0;                     line-height:1.75\"><font color=\"black\"> quite                    </font></mark><mark style=\"background-color: hsl(0, 75%, 100%); opacity:1.0;                     line-height:1.75\"><font color=\"black\"> able                    </font></mark><mark style=\"background-color: hsl(0, 75%, 91%); opacity:1.0;                     line-height:1.75\"><font color=\"black\"> to                    </font></mark><mark style=\"background-color: hsl(0, 75%, 99%); opacity:1.0;                     line-height:1.75\"><font color=\"black\"> overcome                    </font></mark><mark style=\"background-color: hsl(0, 75%, 87%); opacity:1.0;                     line-height:1.75\"><font color=\"black\"> the                    </font></mark><mark style=\"background-color: hsl(0, 75%, 96%); opacity:1.0;                     line-height:1.75\"><font color=\"black\"> cultural                    </font></mark><mark style=\"background-color: hsl(0, 75%, 99%); opacity:1.0;                     line-height:1.75\"><font color=\"black\"> moat                    </font></mark><mark style=\"background-color: hsl(120, 75%, 92%); opacity:1.0;                     line-height:1.75\"><font color=\"black\"> surrounding                    </font></mark><mark style=\"background-color: hsl(120, 75%, 92%); opacity:1.0;                     line-height:1.75\"><font color=\"black\"> its                    </font></mark><mark style=\"background-color: hsl(0, 75%, 96%); opacity:1.0;                     line-height:1.75\"><font color=\"black\"> ludicrous                    </font></mark><mark style=\"background-color: hsl(120, 75%, 98%); opacity:1.0;                     line-height:1.75\"><font color=\"black\"> and                    </font></mark><mark style=\"background-color: hsl(0, 75%, 100%); opacity:1.0;                     line-height:1.75\"><font color=\"black\"> contrived                    </font></mark><mark style=\"background-color: hsl(0, 75%, 88%); opacity:1.0;                     line-height:1.75\"><font color=\"black\"> plot                    </font></mark><mark style=\"background-color: hsl(120, 75%, 92%); opacity:1.0;                     line-height:1.75\"><font color=\"black\"> .                    </font></mark><mark style=\"background-color: hsl(120, 75%, 99%); opacity:1.0;                     line-height:1.75\"><font color=\"black\"> '                    </font></mark><mark style=\"background-color: hsl(120, 75%, 97%); opacity:1.0;                     line-height:1.75\"><font color=\"black\"> [SEP]                    </font></mark></td><tr></table>"
      ],
      "text/plain": [
       "<IPython.core.display.HTML object>"
      ]
     },
     "metadata": {},
     "output_type": "display_data"
    },
    {
     "name": "stdout",
     "output_type": "stream",
     "text": [
      "<IPython.core.display.HTML object>\n",
      "Raw review: principled \n",
      "GT target: 1\n"
     ]
    },
    {
     "name": "stderr",
     "output_type": "stream",
     "text": [
      "Kernel Shap attribution: 100%|█████████████████████████████████████████████████████████████████████████████████████████████████| 10/10 [00:00<00:00, 15.51it/s]\n"
     ]
    },
    {
     "name": "stdout",
     "output_type": "stream",
     "text": [
      "word attr tensor([ 0.3217, -0.0544,  0.5213, -0.7886], device='cuda:0')\n",
      "conti attr [tensor(0.3217, device='cuda:0'), tensor(0.2334, device='cuda:0'), tensor(-0.7886, device='cuda:0')]\n",
      "detokenized ['[CLS]', 'principle', 'd', '[SEP]']\n",
      "len conti_raw 3\n",
      "conti_raw ['[CLS]', 'principled', '[SEP]']\n"
     ]
    },
    {
     "data": {
      "text/html": [
       "<table width: 100%><div style=\"border-top: 1px solid; margin-top: 5px;             padding-top: 5px; display: inline-block\"><b>Legend: </b><span style=\"display: inline-block; width: 10px; height: 10px;                 border: 1px solid; background-color:                 hsl(0, 75%, 60%)\"></span> Negative  <span style=\"display: inline-block; width: 10px; height: 10px;                 border: 1px solid; background-color:                 hsl(0, 75%, 100%)\"></span> Neutral  <span style=\"display: inline-block; width: 10px; height: 10px;                 border: 1px solid; background-color:                 hsl(120, 75%, 50%)\"></span> Positive  </div><tr><th>True Label</th><th>Predicted Label</th><th>Attribution Label</th><th>Attribution Score</th><th>Word Importance</th><tr><td><text style=\"padding-right:2em\"><b>Pos</b></text></td><td><text style=\"padding-right:2em\"><b>Pos (0.97)</b></text></td><td><text style=\"padding-right:2em\"><b>Neg</b></text></td><td><text style=\"padding-right:2em\"><b>-0.00</b></text></td><td><mark style=\"background-color: hsl(120, 75%, 84%); opacity:1.0;                     line-height:1.75\"><font color=\"black\"> [CLS]                    </font></mark><mark style=\"background-color: hsl(120, 75%, 89%); opacity:1.0;                     line-height:1.75\"><font color=\"black\"> principled                    </font></mark><mark style=\"background-color: hsl(0, 75%, 69%); opacity:1.0;                     line-height:1.75\"><font color=\"black\"> [SEP]                    </font></mark></td><tr></table>"
      ],
      "text/plain": [
       "<IPython.core.display.HTML object>"
      ]
     },
     "metadata": {},
     "output_type": "display_data"
    },
    {
     "name": "stderr",
     "output_type": "stream",
     "text": [
      "/home/user/anaconda3/envs/metric/lib/python3.9/site-packages/captum/attr/_core/lime.py:1096: UserWarning: Attempting to construct interpretable model with > 10000 features.This can be very slow or lead to OOM issues. Please provide a featuremask which groups input features to reduce the number of interpretablefeatures. \n",
      "  warnings.warn(\n"
     ]
    },
    {
     "name": "stdout",
     "output_type": "stream",
     "text": [
      "<IPython.core.display.HTML object>\n",
      "Raw review: end it all by stuffing himself into an electric pencil sharpener \n",
      "GT target: 0\n"
     ]
    },
    {
     "name": "stderr",
     "output_type": "stream",
     "text": [
      "Kernel Shap attribution: 100%|█████████████████████████████████████████████████████████████████████████████████████████████████| 10/10 [00:01<00:00,  8.30it/s]\n"
     ]
    },
    {
     "name": "stdout",
     "output_type": "stream",
     "text": [
      "word attr tensor([ 0.8886,  0.0435,  0.0801, -0.0292, -0.2766, -0.0287, -0.1871, -0.0153,\n",
      "        -0.0641, -0.1691,  0.0785, -0.0175, -0.1089, -0.1941], device='cuda:0')\n",
      "conti attr [tensor(0.8886, device='cuda:0'), tensor(0.0435, device='cuda:0'), tensor(0.0801, device='cuda:0'), tensor(-0.0292, device='cuda:0'), tensor(-0.2766, device='cuda:0'), tensor(-0.0287, device='cuda:0'), tensor(-0.1871, device='cuda:0'), tensor(-0.0153, device='cuda:0'), tensor(-0.0641, device='cuda:0'), tensor(-0.1691, device='cuda:0'), tensor(0.0785, device='cuda:0'), tensor(-0.0632, device='cuda:0'), tensor(-0.1941, device='cuda:0')]\n",
      "detokenized ['[CLS]', 'end', 'it', 'all', 'by', 'stuffing', 'himself', 'into', 'an', 'electric', 'pencil', 'sharpe', 'ner', '[SEP]']\n",
      "len conti_raw 13\n",
      "conti_raw ['[CLS]', 'end', 'it', 'all', 'by', 'stuffing', 'himself', 'into', 'an', 'electric', 'pencil', 'sharpener', '[SEP]']\n"
     ]
    },
    {
     "data": {
      "text/html": [
       "<table width: 100%><div style=\"border-top: 1px solid; margin-top: 5px;             padding-top: 5px; display: inline-block\"><b>Legend: </b><span style=\"display: inline-block; width: 10px; height: 10px;                 border: 1px solid; background-color:                 hsl(0, 75%, 60%)\"></span> Negative  <span style=\"display: inline-block; width: 10px; height: 10px;                 border: 1px solid; background-color:                 hsl(0, 75%, 100%)\"></span> Neutral  <span style=\"display: inline-block; width: 10px; height: 10px;                 border: 1px solid; background-color:                 hsl(120, 75%, 50%)\"></span> Positive  </div><tr><th>True Label</th><th>Predicted Label</th><th>Attribution Label</th><th>Attribution Score</th><th>Word Importance</th><tr><td><text style=\"padding-right:2em\"><b>Neg</b></text></td><td><text style=\"padding-right:2em\"><b>Neg (0.06)</b></text></td><td><text style=\"padding-right:2em\"><b>Neg</b></text></td><td><text style=\"padding-right:2em\"><b>-0.00</b></text></td><td><mark style=\"background-color: hsl(120, 75%, 56%); opacity:1.0;                     line-height:1.75\"><font color=\"black\"> [CLS]                    </font></mark><mark style=\"background-color: hsl(120, 75%, 98%); opacity:1.0;                     line-height:1.75\"><font color=\"black\"> end                    </font></mark><mark style=\"background-color: hsl(120, 75%, 96%); opacity:1.0;                     line-height:1.75\"><font color=\"black\"> it                    </font></mark><mark style=\"background-color: hsl(0, 75%, 99%); opacity:1.0;                     line-height:1.75\"><font color=\"black\"> all                    </font></mark><mark style=\"background-color: hsl(0, 75%, 89%); opacity:1.0;                     line-height:1.75\"><font color=\"black\"> by                    </font></mark><mark style=\"background-color: hsl(0, 75%, 99%); opacity:1.0;                     line-height:1.75\"><font color=\"black\"> stuffing                    </font></mark><mark style=\"background-color: hsl(0, 75%, 93%); opacity:1.0;                     line-height:1.75\"><font color=\"black\"> himself                    </font></mark><mark style=\"background-color: hsl(0, 75%, 100%); opacity:1.0;                     line-height:1.75\"><font color=\"black\"> into                    </font></mark><mark style=\"background-color: hsl(0, 75%, 98%); opacity:1.0;                     line-height:1.75\"><font color=\"black\"> an                    </font></mark><mark style=\"background-color: hsl(0, 75%, 94%); opacity:1.0;                     line-height:1.75\"><font color=\"black\"> electric                    </font></mark><mark style=\"background-color: hsl(120, 75%, 97%); opacity:1.0;                     line-height:1.75\"><font color=\"black\"> pencil                    </font></mark><mark style=\"background-color: hsl(0, 75%, 98%); opacity:1.0;                     line-height:1.75\"><font color=\"black\"> sharpener                    </font></mark><mark style=\"background-color: hsl(0, 75%, 93%); opacity:1.0;                     line-height:1.75\"><font color=\"black\"> [SEP]                    </font></mark></td><tr></table>"
      ],
      "text/plain": [
       "<IPython.core.display.HTML object>"
      ]
     },
     "metadata": {},
     "output_type": "display_data"
    },
    {
     "name": "stdout",
     "output_type": "stream",
     "text": [
      "<IPython.core.display.HTML object>\n",
      "Raw review: funniest idea \n",
      "GT target: 1\n"
     ]
    },
    {
     "name": "stderr",
     "output_type": "stream",
     "text": [
      "Kernel Shap attribution: 100%|█████████████████████████████████████████████████████████████████████████████████████████████████| 10/10 [00:01<00:00,  9.31it/s]\n"
     ]
    },
    {
     "name": "stdout",
     "output_type": "stream",
     "text": [
      "word attr tensor([-0.4874,  0.5387,  0.0616,  0.1887,  0.2894, -0.5909], device='cuda:0')\n",
      "conti attr [tensor(-0.4874, device='cuda:0'), tensor(0.2444, device='cuda:0'), tensor(0.2894, device='cuda:0'), tensor(-0.5909, device='cuda:0')]\n",
      "detokenized ['[CLS]', 'fun', 'nies', 't', 'idea', '[SEP]']\n",
      "len conti_raw 4\n",
      "conti_raw ['[CLS]', 'funniest', 'idea', '[SEP]']\n"
     ]
    },
    {
     "data": {
      "text/html": [
       "<table width: 100%><div style=\"border-top: 1px solid; margin-top: 5px;             padding-top: 5px; display: inline-block\"><b>Legend: </b><span style=\"display: inline-block; width: 10px; height: 10px;                 border: 1px solid; background-color:                 hsl(0, 75%, 60%)\"></span> Negative  <span style=\"display: inline-block; width: 10px; height: 10px;                 border: 1px solid; background-color:                 hsl(0, 75%, 100%)\"></span> Neutral  <span style=\"display: inline-block; width: 10px; height: 10px;                 border: 1px solid; background-color:                 hsl(120, 75%, 50%)\"></span> Positive  </div><tr><th>True Label</th><th>Predicted Label</th><th>Attribution Label</th><th>Attribution Score</th><th>Word Importance</th><tr><td><text style=\"padding-right:2em\"><b>Pos</b></text></td><td><text style=\"padding-right:2em\"><b>Pos (0.96)</b></text></td><td><text style=\"padding-right:2em\"><b>Neg</b></text></td><td><text style=\"padding-right:2em\"><b>0.00</b></text></td><td><mark style=\"background-color: hsl(0, 75%, 81%); opacity:1.0;                     line-height:1.75\"><font color=\"black\"> [CLS]                    </font></mark><mark style=\"background-color: hsl(120, 75%, 88%); opacity:1.0;                     line-height:1.75\"><font color=\"black\"> funniest                    </font></mark><mark style=\"background-color: hsl(120, 75%, 86%); opacity:1.0;                     line-height:1.75\"><font color=\"black\"> idea                    </font></mark><mark style=\"background-color: hsl(0, 75%, 77%); opacity:1.0;                     line-height:1.75\"><font color=\"black\"> [SEP]                    </font></mark></td><tr></table>"
      ],
      "text/plain": [
       "<IPython.core.display.HTML object>"
      ]
     },
     "metadata": {},
     "output_type": "display_data"
    },
    {
     "name": "stdout",
     "output_type": "stream",
     "text": [
      "<IPython.core.display.HTML object>\n",
      "Raw review: silly and tedious \n",
      "GT target: 0\n"
     ]
    },
    {
     "name": "stderr",
     "output_type": "stream",
     "text": [
      "Kernel Shap attribution: 100%|█████████████████████████████████████████████████████████████████████████████████████████████████| 10/10 [00:00<00:00, 14.23it/s]\n"
     ]
    },
    {
     "name": "stdout",
     "output_type": "stream",
     "text": [
      "word attr tensor([-0.5663, -0.2550,  0.7700, -0.0979,  0.0572,  0.0920], device='cuda:0')\n",
      "conti attr [tensor(-0.5663, device='cuda:0'), tensor(-0.2550, device='cuda:0'), tensor(0.7700, device='cuda:0'), tensor(-0.0204, device='cuda:0'), tensor(0.0920, device='cuda:0')]\n",
      "detokenized ['[CLS]', 'silly', 'and', 'ted', 'ious', '[SEP]']\n",
      "len conti_raw 5\n",
      "conti_raw ['[CLS]', 'silly', 'and', 'tedious', '[SEP]']\n"
     ]
    },
    {
     "data": {
      "text/html": [
       "<table width: 100%><div style=\"border-top: 1px solid; margin-top: 5px;             padding-top: 5px; display: inline-block\"><b>Legend: </b><span style=\"display: inline-block; width: 10px; height: 10px;                 border: 1px solid; background-color:                 hsl(0, 75%, 60%)\"></span> Negative  <span style=\"display: inline-block; width: 10px; height: 10px;                 border: 1px solid; background-color:                 hsl(0, 75%, 100%)\"></span> Neutral  <span style=\"display: inline-block; width: 10px; height: 10px;                 border: 1px solid; background-color:                 hsl(120, 75%, 50%)\"></span> Positive  </div><tr><th>True Label</th><th>Predicted Label</th><th>Attribution Label</th><th>Attribution Score</th><th>Word Importance</th><tr><td><text style=\"padding-right:2em\"><b>Neg</b></text></td><td><text style=\"padding-right:2em\"><b>Neg (0.04)</b></text></td><td><text style=\"padding-right:2em\"><b>Neg</b></text></td><td><text style=\"padding-right:2em\"><b>0.00</b></text></td><td><mark style=\"background-color: hsl(0, 75%, 78%); opacity:1.0;                     line-height:1.75\"><font color=\"black\"> [CLS]                    </font></mark><mark style=\"background-color: hsl(0, 75%, 90%); opacity:1.0;                     line-height:1.75\"><font color=\"black\"> silly                    </font></mark><mark style=\"background-color: hsl(120, 75%, 62%); opacity:1.0;                     line-height:1.75\"><font color=\"black\"> and                    </font></mark><mark style=\"background-color: hsl(0, 75%, 100%); opacity:1.0;                     line-height:1.75\"><font color=\"black\"> tedious                    </font></mark><mark style=\"background-color: hsl(120, 75%, 96%); opacity:1.0;                     line-height:1.75\"><font color=\"black\"> [SEP]                    </font></mark></td><tr></table>"
      ],
      "text/plain": [
       "<IPython.core.display.HTML object>"
      ]
     },
     "metadata": {},
     "output_type": "display_data"
    },
    {
     "name": "stdout",
     "output_type": "stream",
     "text": [
      "<IPython.core.display.HTML object>\n",
      "Raw review: two surefire , beloved genres \n",
      "GT target: 1\n"
     ]
    },
    {
     "name": "stderr",
     "output_type": "stream",
     "text": [
      "Kernel Shap attribution: 100%|█████████████████████████████████████████████████████████████████████████████████████████████████| 10/10 [00:00<00:00, 13.07it/s]\n"
     ]
    },
    {
     "name": "stdout",
     "output_type": "stream",
     "text": [
      "word attr tensor([-0.7157,  0.2344,  0.1770,  0.2156, -0.0388,  0.4310,  0.0949, -0.3984],\n",
      "       device='cuda:0')\n",
      "conti attr [tensor(-0.7157, device='cuda:0'), tensor(0.2344, device='cuda:0'), tensor(0.1963, device='cuda:0'), tensor(-0.0388, device='cuda:0'), tensor(0.4310, device='cuda:0'), tensor(0.0949, device='cuda:0'), tensor(-0.3984, device='cuda:0')]\n",
      "detokenized ['[CLS]', 'two', 'sure', 'fire', ',', 'beloved', 'genres', '[SEP]']\n",
      "len conti_raw 7\n",
      "conti_raw ['[CLS]', 'two', 'surefire', ',', 'beloved', 'genres', '[SEP]']\n"
     ]
    },
    {
     "data": {
      "text/html": [
       "<table width: 100%><div style=\"border-top: 1px solid; margin-top: 5px;             padding-top: 5px; display: inline-block\"><b>Legend: </b><span style=\"display: inline-block; width: 10px; height: 10px;                 border: 1px solid; background-color:                 hsl(0, 75%, 60%)\"></span> Negative  <span style=\"display: inline-block; width: 10px; height: 10px;                 border: 1px solid; background-color:                 hsl(0, 75%, 100%)\"></span> Neutral  <span style=\"display: inline-block; width: 10px; height: 10px;                 border: 1px solid; background-color:                 hsl(120, 75%, 50%)\"></span> Positive  </div><tr><th>True Label</th><th>Predicted Label</th><th>Attribution Label</th><th>Attribution Score</th><th>Word Importance</th><tr><td><text style=\"padding-right:2em\"><b>Pos</b></text></td><td><text style=\"padding-right:2em\"><b>Pos (0.98)</b></text></td><td><text style=\"padding-right:2em\"><b>Neg</b></text></td><td><text style=\"padding-right:2em\"><b>0.00</b></text></td><td><mark style=\"background-color: hsl(0, 75%, 72%); opacity:1.0;                     line-height:1.75\"><font color=\"black\"> [CLS]                    </font></mark><mark style=\"background-color: hsl(120, 75%, 89%); opacity:1.0;                     line-height:1.75\"><font color=\"black\"> two                    </font></mark><mark style=\"background-color: hsl(120, 75%, 91%); opacity:1.0;                     line-height:1.75\"><font color=\"black\"> surefire                    </font></mark><mark style=\"background-color: hsl(0, 75%, 99%); opacity:1.0;                     line-height:1.75\"><font color=\"black\"> ,                    </font></mark><mark style=\"background-color: hsl(120, 75%, 79%); opacity:1.0;                     line-height:1.75\"><font color=\"black\"> beloved                    </font></mark><mark style=\"background-color: hsl(120, 75%, 96%); opacity:1.0;                     line-height:1.75\"><font color=\"black\"> genres                    </font></mark><mark style=\"background-color: hsl(0, 75%, 85%); opacity:1.0;                     line-height:1.75\"><font color=\"black\"> [SEP]                    </font></mark></td><tr></table>"
      ],
      "text/plain": [
       "<IPython.core.display.HTML object>"
      ]
     },
     "metadata": {},
     "output_type": "display_data"
    },
    {
     "name": "stdout",
     "output_type": "stream",
     "text": [
      "<IPython.core.display.HTML object>\n",
      "Raw review: most charmless \n",
      "GT target: 0\n"
     ]
    },
    {
     "name": "stderr",
     "output_type": "stream",
     "text": [
      "Kernel Shap attribution: 100%|█████████████████████████████████████████████████████████████████████████████████████████████████| 10/10 [00:00<00:00, 10.21it/s]\n"
     ]
    },
    {
     "name": "stdout",
     "output_type": "stream",
     "text": [
      "word attr tensor([-0.4875,  0.3123,  0.1727, -0.5623,  0.5647], device='cuda:0')\n",
      "conti attr [tensor(-0.4875, device='cuda:0'), tensor(0.3123, device='cuda:0'), tensor(-0.1948, device='cuda:0'), tensor(0.5647, device='cuda:0')]\n",
      "detokenized ['[CLS]', 'most', 'charm', 'less', '[SEP]']\n",
      "len conti_raw 4\n",
      "conti_raw ['[CLS]', 'most', 'charmless', '[SEP]']\n"
     ]
    },
    {
     "data": {
      "text/html": [
       "<table width: 100%><div style=\"border-top: 1px solid; margin-top: 5px;             padding-top: 5px; display: inline-block\"><b>Legend: </b><span style=\"display: inline-block; width: 10px; height: 10px;                 border: 1px solid; background-color:                 hsl(0, 75%, 60%)\"></span> Negative  <span style=\"display: inline-block; width: 10px; height: 10px;                 border: 1px solid; background-color:                 hsl(0, 75%, 100%)\"></span> Neutral  <span style=\"display: inline-block; width: 10px; height: 10px;                 border: 1px solid; background-color:                 hsl(120, 75%, 50%)\"></span> Positive  </div><tr><th>True Label</th><th>Predicted Label</th><th>Attribution Label</th><th>Attribution Score</th><th>Word Importance</th><tr><td><text style=\"padding-right:2em\"><b>Neg</b></text></td><td><text style=\"padding-right:2em\"><b>Pos (0.97)</b></text></td><td><text style=\"padding-right:2em\"><b>Neg</b></text></td><td><text style=\"padding-right:2em\"><b>-0.00</b></text></td><td><mark style=\"background-color: hsl(0, 75%, 81%); opacity:1.0;                     line-height:1.75\"><font color=\"black\"> [CLS]                    </font></mark><mark style=\"background-color: hsl(120, 75%, 85%); opacity:1.0;                     line-height:1.75\"><font color=\"black\"> most                    </font></mark><mark style=\"background-color: hsl(0, 75%, 93%); opacity:1.0;                     line-height:1.75\"><font color=\"black\"> charmless                    </font></mark><mark style=\"background-color: hsl(120, 75%, 72%); opacity:1.0;                     line-height:1.75\"><font color=\"black\"> [SEP]                    </font></mark></td><tr></table>"
      ],
      "text/plain": [
       "<IPython.core.display.HTML object>"
      ]
     },
     "metadata": {},
     "output_type": "display_data"
    },
    {
     "name": "stderr",
     "output_type": "stream",
     "text": [
      "/home/user/anaconda3/envs/metric/lib/python3.9/site-packages/captum/attr/_core/lime.py:1096: UserWarning: Attempting to construct interpretable model with > 10000 features.This can be very slow or lead to OOM issues. Please provide a featuremask which groups input features to reduce the number of interpretablefeatures. \n",
      "  warnings.warn(\n"
     ]
    },
    {
     "name": "stdout",
     "output_type": "stream",
     "text": [
      "<IPython.core.display.HTML object>\n",
      "Raw review: offers us the sense that on some elemental level , lilia deeply wants to break free of her old life . \n",
      "GT target: 1\n"
     ]
    },
    {
     "name": "stderr",
     "output_type": "stream",
     "text": [
      "Kernel Shap attribution: 100%|█████████████████████████████████████████████████████████████████████████████████████████████████| 10/10 [00:01<00:00,  6.88it/s]\n"
     ]
    },
    {
     "name": "stdout",
     "output_type": "stream",
     "text": [
      "word attr tensor([ 0.2248,  0.1939,  0.3009,  0.0104,  0.1405, -0.0317, -0.0775, -0.2094,\n",
      "         0.2983,  0.3004, -0.1615, -0.0870,  0.1727,  0.0203,  0.2732, -0.0950,\n",
      "         0.1855,  0.3175,  0.1519,  0.2952,  0.3340,  0.1184,  0.1793,  0.1437],\n",
      "       device='cuda:0')\n",
      "conti attr [tensor(0.2248, device='cuda:0'), tensor(0.1939, device='cuda:0'), tensor(0.3009, device='cuda:0'), tensor(0.0104, device='cuda:0'), tensor(0.1405, device='cuda:0'), tensor(-0.0317, device='cuda:0'), tensor(-0.0775, device='cuda:0'), tensor(-0.2094, device='cuda:0'), tensor(0.2983, device='cuda:0'), tensor(0.3004, device='cuda:0'), tensor(-0.1615, device='cuda:0'), tensor(0.0428, device='cuda:0'), tensor(0.0203, device='cuda:0'), tensor(0.2732, device='cuda:0'), tensor(-0.0950, device='cuda:0'), tensor(0.1855, device='cuda:0'), tensor(0.3175, device='cuda:0'), tensor(0.1519, device='cuda:0'), tensor(0.2952, device='cuda:0'), tensor(0.3340, device='cuda:0'), tensor(0.1184, device='cuda:0'), tensor(0.1793, device='cuda:0'), tensor(0.1437, device='cuda:0')]\n",
      "detokenized ['[CLS]', 'offers', 'us', 'the', 'sense', 'that', 'on', 'some', 'elemental', 'level', ',', 'lil', 'ia', 'deeply', 'wants', 'to', 'break', 'free', 'of', 'her', 'old', 'life', '.', '[SEP]']\n",
      "len conti_raw 23\n",
      "conti_raw ['[CLS]', 'offers', 'us', 'the', 'sense', 'that', 'on', 'some', 'elemental', 'level', ',', 'lilia', 'deeply', 'wants', 'to', 'break', 'free', 'of', 'her', 'old', 'life', '.', '[SEP]']\n"
     ]
    },
    {
     "data": {
      "text/html": [
       "<table width: 100%><div style=\"border-top: 1px solid; margin-top: 5px;             padding-top: 5px; display: inline-block\"><b>Legend: </b><span style=\"display: inline-block; width: 10px; height: 10px;                 border: 1px solid; background-color:                 hsl(0, 75%, 60%)\"></span> Negative  <span style=\"display: inline-block; width: 10px; height: 10px;                 border: 1px solid; background-color:                 hsl(0, 75%, 100%)\"></span> Neutral  <span style=\"display: inline-block; width: 10px; height: 10px;                 border: 1px solid; background-color:                 hsl(120, 75%, 50%)\"></span> Positive  </div><tr><th>True Label</th><th>Predicted Label</th><th>Attribution Label</th><th>Attribution Score</th><th>Word Importance</th><tr><td><text style=\"padding-right:2em\"><b>Pos</b></text></td><td><text style=\"padding-right:2em\"><b>Pos (0.96)</b></text></td><td><text style=\"padding-right:2em\"><b>Pos</b></text></td><td><text style=\"padding-right:2em\"><b>3.00</b></text></td><td><mark style=\"background-color: hsl(120, 75%, 89%); opacity:1.0;                     line-height:1.75\"><font color=\"black\"> [CLS]                    </font></mark><mark style=\"background-color: hsl(120, 75%, 91%); opacity:1.0;                     line-height:1.75\"><font color=\"black\"> offers                    </font></mark><mark style=\"background-color: hsl(120, 75%, 85%); opacity:1.0;                     line-height:1.75\"><font color=\"black\"> us                    </font></mark><mark style=\"background-color: hsl(120, 75%, 100%); opacity:1.0;                     line-height:1.75\"><font color=\"black\"> the                    </font></mark><mark style=\"background-color: hsl(120, 75%, 93%); opacity:1.0;                     line-height:1.75\"><font color=\"black\"> sense                    </font></mark><mark style=\"background-color: hsl(0, 75%, 99%); opacity:1.0;                     line-height:1.75\"><font color=\"black\"> that                    </font></mark><mark style=\"background-color: hsl(0, 75%, 97%); opacity:1.0;                     line-height:1.75\"><font color=\"black\"> on                    </font></mark><mark style=\"background-color: hsl(0, 75%, 92%); opacity:1.0;                     line-height:1.75\"><font color=\"black\"> some                    </font></mark><mark style=\"background-color: hsl(120, 75%, 86%); opacity:1.0;                     line-height:1.75\"><font color=\"black\"> elemental                    </font></mark><mark style=\"background-color: hsl(120, 75%, 85%); opacity:1.0;                     line-height:1.75\"><font color=\"black\"> level                    </font></mark><mark style=\"background-color: hsl(0, 75%, 94%); opacity:1.0;                     line-height:1.75\"><font color=\"black\"> ,                    </font></mark><mark style=\"background-color: hsl(120, 75%, 98%); opacity:1.0;                     line-height:1.75\"><font color=\"black\"> lilia                    </font></mark><mark style=\"background-color: hsl(120, 75%, 99%); opacity:1.0;                     line-height:1.75\"><font color=\"black\"> deeply                    </font></mark><mark style=\"background-color: hsl(120, 75%, 87%); opacity:1.0;                     line-height:1.75\"><font color=\"black\"> wants                    </font></mark><mark style=\"background-color: hsl(0, 75%, 97%); opacity:1.0;                     line-height:1.75\"><font color=\"black\"> to                    </font></mark><mark style=\"background-color: hsl(120, 75%, 91%); opacity:1.0;                     line-height:1.75\"><font color=\"black\"> break                    </font></mark><mark style=\"background-color: hsl(120, 75%, 85%); opacity:1.0;                     line-height:1.75\"><font color=\"black\"> free                    </font></mark><mark style=\"background-color: hsl(120, 75%, 93%); opacity:1.0;                     line-height:1.75\"><font color=\"black\"> of                    </font></mark><mark style=\"background-color: hsl(120, 75%, 86%); opacity:1.0;                     line-height:1.75\"><font color=\"black\"> her                    </font></mark><mark style=\"background-color: hsl(120, 75%, 84%); opacity:1.0;                     line-height:1.75\"><font color=\"black\"> old                    </font></mark><mark style=\"background-color: hsl(120, 75%, 95%); opacity:1.0;                     line-height:1.75\"><font color=\"black\"> life                    </font></mark><mark style=\"background-color: hsl(120, 75%, 92%); opacity:1.0;                     line-height:1.75\"><font color=\"black\"> .                    </font></mark><mark style=\"background-color: hsl(120, 75%, 93%); opacity:1.0;                     line-height:1.75\"><font color=\"black\"> [SEP]                    </font></mark></td><tr></table>"
      ],
      "text/plain": [
       "<IPython.core.display.HTML object>"
      ]
     },
     "metadata": {},
     "output_type": "display_data"
    },
    {
     "name": "stdout",
     "output_type": "stream",
     "text": [
      "<IPython.core.display.HTML object>\n",
      "Raw review: might be best forgotten \n",
      "GT target: 0\n"
     ]
    },
    {
     "name": "stderr",
     "output_type": "stream",
     "text": [
      "Kernel Shap attribution: 100%|█████████████████████████████████████████████████████████████████████████████████████████████████| 10/10 [00:00<00:00, 13.61it/s]\n"
     ]
    },
    {
     "name": "stdout",
     "output_type": "stream",
     "text": [
      "word attr tensor([ 0.8426,  0.1311, -0.3086, -0.1810, -0.1244, -0.3597], device='cuda:0')\n",
      "conti attr [tensor(0.8426, device='cuda:0'), tensor(0.1311, device='cuda:0'), tensor(-0.3086, device='cuda:0'), tensor(-0.1810, device='cuda:0'), tensor(-0.1244, device='cuda:0'), tensor(-0.3597, device='cuda:0')]\n",
      "detokenized ['[CLS]', 'might', 'be', 'best', 'forgotten', '[SEP]']\n",
      "len conti_raw 6\n",
      "conti_raw ['[CLS]', 'might', 'be', 'best', 'forgotten', '[SEP]']\n"
     ]
    },
    {
     "data": {
      "text/html": [
       "<table width: 100%><div style=\"border-top: 1px solid; margin-top: 5px;             padding-top: 5px; display: inline-block\"><b>Legend: </b><span style=\"display: inline-block; width: 10px; height: 10px;                 border: 1px solid; background-color:                 hsl(0, 75%, 60%)\"></span> Negative  <span style=\"display: inline-block; width: 10px; height: 10px;                 border: 1px solid; background-color:                 hsl(0, 75%, 100%)\"></span> Neutral  <span style=\"display: inline-block; width: 10px; height: 10px;                 border: 1px solid; background-color:                 hsl(120, 75%, 50%)\"></span> Positive  </div><tr><th>True Label</th><th>Predicted Label</th><th>Attribution Label</th><th>Attribution Score</th><th>Word Importance</th><tr><td><text style=\"padding-right:2em\"><b>Neg</b></text></td><td><text style=\"padding-right:2em\"><b>Neg (0.07)</b></text></td><td><text style=\"padding-right:2em\"><b>Neg</b></text></td><td><text style=\"padding-right:2em\"><b>0.00</b></text></td><td><mark style=\"background-color: hsl(120, 75%, 58%); opacity:1.0;                     line-height:1.75\"><font color=\"black\"> [CLS]                    </font></mark><mark style=\"background-color: hsl(120, 75%, 94%); opacity:1.0;                     line-height:1.75\"><font color=\"black\"> might                    </font></mark><mark style=\"background-color: hsl(0, 75%, 88%); opacity:1.0;                     line-height:1.75\"><font color=\"black\"> be                    </font></mark><mark style=\"background-color: hsl(0, 75%, 93%); opacity:1.0;                     line-height:1.75\"><font color=\"black\"> best                    </font></mark><mark style=\"background-color: hsl(0, 75%, 96%); opacity:1.0;                     line-height:1.75\"><font color=\"black\"> forgotten                    </font></mark><mark style=\"background-color: hsl(0, 75%, 86%); opacity:1.0;                     line-height:1.75\"><font color=\"black\"> [SEP]                    </font></mark></td><tr></table>"
      ],
      "text/plain": [
       "<IPython.core.display.HTML object>"
      ]
     },
     "metadata": {},
     "output_type": "display_data"
    },
    {
     "name": "stderr",
     "output_type": "stream",
     "text": [
      "/home/user/anaconda3/envs/metric/lib/python3.9/site-packages/captum/attr/_core/lime.py:1096: UserWarning: Attempting to construct interpretable model with > 10000 features.This can be very slow or lead to OOM issues. Please provide a featuremask which groups input features to reduce the number of interpretablefeatures. \n",
      "  warnings.warn(\n"
     ]
    },
    {
     "name": "stdout",
     "output_type": "stream",
     "text": [
      "<IPython.core.display.HTML object>\n",
      "Raw review: a substantial arc of change that does n't produce any real transformation \n",
      "GT target: 0\n"
     ]
    },
    {
     "name": "stderr",
     "output_type": "stream",
     "text": [
      "Kernel Shap attribution: 100%|█████████████████████████████████████████████████████████████████████████████████████████████████| 10/10 [00:01<00:00,  8.97it/s]\n"
     ]
    },
    {
     "name": "stdout",
     "output_type": "stream",
     "text": [
      "word attr tensor([-0.2711,  0.0711, -0.0034,  0.0835,  0.0884, -0.0485, -0.3474, -0.2208,\n",
      "         0.5955,  0.1691, -0.4476,  0.0936, -0.2256, -0.0106, -0.0392,  0.3000],\n",
      "       device='cuda:0')\n",
      "conti attr [tensor(-0.2711, device='cuda:0'), tensor(0.0711, device='cuda:0'), tensor(-0.0034, device='cuda:0'), tensor(0.0835, device='cuda:0'), tensor(0.0884, device='cuda:0'), tensor(-0.0485, device='cuda:0'), tensor(-0.3474, device='cuda:0'), tensor(-0.2208, device='cuda:0'), tensor(-0.0326, device='cuda:0'), tensor(0.0936, device='cuda:0'), tensor(-0.2256, device='cuda:0'), tensor(-0.0106, device='cuda:0'), tensor(-0.0392, device='cuda:0'), tensor(0.3000, device='cuda:0')]\n",
      "detokenized ['[CLS]', 'a', 'substantial', 'arc', 'of', 'change', 'that', 'does', 'n', \"'\", 't', 'produce', 'any', 'real', 'transformation', '[SEP]']\n",
      "len conti_raw 14\n",
      "conti_raw ['[CLS]', 'a', 'substantial', 'arc', 'of', 'change', 'that', 'does', \"n't\", 'produce', 'any', 'real', 'transformation', '[SEP]']\n"
     ]
    },
    {
     "data": {
      "text/html": [
       "<table width: 100%><div style=\"border-top: 1px solid; margin-top: 5px;             padding-top: 5px; display: inline-block\"><b>Legend: </b><span style=\"display: inline-block; width: 10px; height: 10px;                 border: 1px solid; background-color:                 hsl(0, 75%, 60%)\"></span> Negative  <span style=\"display: inline-block; width: 10px; height: 10px;                 border: 1px solid; background-color:                 hsl(0, 75%, 100%)\"></span> Neutral  <span style=\"display: inline-block; width: 10px; height: 10px;                 border: 1px solid; background-color:                 hsl(120, 75%, 50%)\"></span> Positive  </div><tr><th>True Label</th><th>Predicted Label</th><th>Attribution Label</th><th>Attribution Score</th><th>Word Importance</th><tr><td><text style=\"padding-right:2em\"><b>Neg</b></text></td><td><text style=\"padding-right:2em\"><b>Neg (0.04)</b></text></td><td><text style=\"padding-right:2em\"><b>Neg</b></text></td><td><text style=\"padding-right:2em\"><b>-0.21</b></text></td><td><mark style=\"background-color: hsl(0, 75%, 90%); opacity:1.0;                     line-height:1.75\"><font color=\"black\"> [CLS]                    </font></mark><mark style=\"background-color: hsl(120, 75%, 97%); opacity:1.0;                     line-height:1.75\"><font color=\"black\"> a                    </font></mark><mark style=\"background-color: hsl(0, 75%, 100%); opacity:1.0;                     line-height:1.75\"><font color=\"black\"> substantial                    </font></mark><mark style=\"background-color: hsl(120, 75%, 96%); opacity:1.0;                     line-height:1.75\"><font color=\"black\"> arc                    </font></mark><mark style=\"background-color: hsl(120, 75%, 96%); opacity:1.0;                     line-height:1.75\"><font color=\"black\"> of                    </font></mark><mark style=\"background-color: hsl(0, 75%, 99%); opacity:1.0;                     line-height:1.75\"><font color=\"black\"> change                    </font></mark><mark style=\"background-color: hsl(0, 75%, 87%); opacity:1.0;                     line-height:1.75\"><font color=\"black\"> that                    </font></mark><mark style=\"background-color: hsl(0, 75%, 92%); opacity:1.0;                     line-height:1.75\"><font color=\"black\"> does                    </font></mark><mark style=\"background-color: hsl(0, 75%, 99%); opacity:1.0;                     line-height:1.75\"><font color=\"black\"> n't                    </font></mark><mark style=\"background-color: hsl(120, 75%, 96%); opacity:1.0;                     line-height:1.75\"><font color=\"black\"> produce                    </font></mark><mark style=\"background-color: hsl(0, 75%, 91%); opacity:1.0;                     line-height:1.75\"><font color=\"black\"> any                    </font></mark><mark style=\"background-color: hsl(0, 75%, 100%); opacity:1.0;                     line-height:1.75\"><font color=\"black\"> real                    </font></mark><mark style=\"background-color: hsl(0, 75%, 99%); opacity:1.0;                     line-height:1.75\"><font color=\"black\"> transformation                    </font></mark><mark style=\"background-color: hsl(120, 75%, 86%); opacity:1.0;                     line-height:1.75\"><font color=\"black\"> [SEP]                    </font></mark></td><tr></table>"
      ],
      "text/plain": [
       "<IPython.core.display.HTML object>"
      ]
     },
     "metadata": {},
     "output_type": "display_data"
    },
    {
     "name": "stdout",
     "output_type": "stream",
     "text": [
      "<IPython.core.display.HTML object>\n",
      "Raw review: unadorned \n",
      "GT target: 0\n"
     ]
    },
    {
     "name": "stderr",
     "output_type": "stream",
     "text": [
      "Kernel Shap attribution: 100%|█████████████████████████████████████████████████████████████████████████████████████████████████| 10/10 [00:00<00:00, 15.11it/s]\n"
     ]
    },
    {
     "name": "stdout",
     "output_type": "stream",
     "text": [
      "word attr tensor([-8.6352e-01,  8.1038e-04,  2.9264e-01,  3.4074e-01,  2.2933e-01],\n",
      "       device='cuda:0')\n",
      "conti attr [tensor(-0.8635, device='cuda:0'), tensor(0.2437, device='cuda:0'), tensor(0.2293, device='cuda:0')]\n",
      "detokenized ['[CLS]', 'una', 'dor', 'ned', '[SEP]']\n",
      "len conti_raw 3\n",
      "conti_raw ['[CLS]', 'unadorned', '[SEP]']\n"
     ]
    },
    {
     "data": {
      "text/html": [
       "<table width: 100%><div style=\"border-top: 1px solid; margin-top: 5px;             padding-top: 5px; display: inline-block\"><b>Legend: </b><span style=\"display: inline-block; width: 10px; height: 10px;                 border: 1px solid; background-color:                 hsl(0, 75%, 60%)\"></span> Negative  <span style=\"display: inline-block; width: 10px; height: 10px;                 border: 1px solid; background-color:                 hsl(0, 75%, 100%)\"></span> Neutral  <span style=\"display: inline-block; width: 10px; height: 10px;                 border: 1px solid; background-color:                 hsl(120, 75%, 50%)\"></span> Positive  </div><tr><th>True Label</th><th>Predicted Label</th><th>Attribution Label</th><th>Attribution Score</th><th>Word Importance</th><tr><td><text style=\"padding-right:2em\"><b>Neg</b></text></td><td><text style=\"padding-right:2em\"><b>Neg (0.06)</b></text></td><td><text style=\"padding-right:2em\"><b>Neg</b></text></td><td><text style=\"padding-right:2em\"><b>0.00</b></text></td><td><mark style=\"background-color: hsl(0, 75%, 66%); opacity:1.0;                     line-height:1.75\"><font color=\"black\"> [CLS]                    </font></mark><mark style=\"background-color: hsl(120, 75%, 88%); opacity:1.0;                     line-height:1.75\"><font color=\"black\"> unadorned                    </font></mark><mark style=\"background-color: hsl(120, 75%, 89%); opacity:1.0;                     line-height:1.75\"><font color=\"black\"> [SEP]                    </font></mark></td><tr></table>"
      ],
      "text/plain": [
       "<IPython.core.display.HTML object>"
      ]
     },
     "metadata": {},
     "output_type": "display_data"
    },
    {
     "name": "stderr",
     "output_type": "stream",
     "text": [
      "/home/user/anaconda3/envs/metric/lib/python3.9/site-packages/captum/attr/_core/lime.py:1096: UserWarning: Attempting to construct interpretable model with > 10000 features.This can be very slow or lead to OOM issues. Please provide a featuremask which groups input features to reduce the number of interpretablefeatures. \n",
      "  warnings.warn(\n"
     ]
    },
    {
     "name": "stdout",
     "output_type": "stream",
     "text": [
      "<IPython.core.display.HTML object>\n",
      "Raw review: this is the kind of movie that you only need to watch for about thirty seconds before you say to yourself , ` ah , yes , here we have a bad , bad , bad movie . ' \n",
      "GT target: 0\n"
     ]
    },
    {
     "name": "stderr",
     "output_type": "stream",
     "text": [
      "Kernel Shap attribution: 100%|█████████████████████████████████████████████████████████████████████████████████████████████████| 10/10 [00:02<00:00,  4.49it/s]\n"
     ]
    },
    {
     "name": "stdout",
     "output_type": "stream",
     "text": [
      "word attr tensor([ 0.2091,  0.0083, -0.1521,  0.0018, -0.2665, -0.1561,  0.0346,  0.0381,\n",
      "         0.2276,  0.0772, -0.0652, -0.0588,  0.1040, -0.0516,  0.0293, -0.1113,\n",
      "         0.0329,  0.0694,  0.0472,  0.0258, -0.1787,  0.1736,  0.0627,  0.0536,\n",
      "        -0.1430, -0.2884,  0.0383, -0.3550, -0.0553, -0.0167,  0.2365, -0.0527,\n",
      "         0.3283,  0.1910, -0.0869, -0.2162, -0.0053, -0.0676, -0.2507, -0.2099,\n",
      "         0.2488], device='cuda:0')\n",
      "conti attr [tensor(0.2091, device='cuda:0'), tensor(0.0083, device='cuda:0'), tensor(-0.1521, device='cuda:0'), tensor(0.0018, device='cuda:0'), tensor(-0.2665, device='cuda:0'), tensor(-0.1561, device='cuda:0'), tensor(0.0346, device='cuda:0'), tensor(0.0381, device='cuda:0'), tensor(0.2276, device='cuda:0'), tensor(0.0772, device='cuda:0'), tensor(-0.0652, device='cuda:0'), tensor(-0.0588, device='cuda:0'), tensor(0.1040, device='cuda:0'), tensor(-0.0516, device='cuda:0'), tensor(0.0293, device='cuda:0'), tensor(-0.1113, device='cuda:0'), tensor(0.0329, device='cuda:0'), tensor(0.0694, device='cuda:0'), tensor(0.0472, device='cuda:0'), tensor(0.0258, device='cuda:0'), tensor(-0.1787, device='cuda:0'), tensor(0.1736, device='cuda:0'), tensor(0.0627, device='cuda:0'), tensor(0.0536, device='cuda:0'), tensor(-0.1430, device='cuda:0'), tensor(-0.2884, device='cuda:0'), tensor(0.0383, device='cuda:0'), tensor(-0.3550, device='cuda:0'), tensor(-0.0553, device='cuda:0'), tensor(-0.0167, device='cuda:0'), tensor(0.2365, device='cuda:0'), tensor(-0.0527, device='cuda:0'), tensor(0.3283, device='cuda:0'), tensor(0.1910, device='cuda:0'), tensor(-0.0869, device='cuda:0'), tensor(-0.2162, device='cuda:0'), tensor(-0.0053, device='cuda:0'), tensor(-0.0676, device='cuda:0'), tensor(-0.2507, device='cuda:0'), tensor(-0.2099, device='cuda:0'), tensor(0.2488, device='cuda:0')]\n",
      "detokenized ['[CLS]', 'this', 'is', 'the', 'kind', 'of', 'movie', 'that', 'you', 'only', 'need', 'to', 'watch', 'for', 'about', 'thirty', 'seconds', 'before', 'you', 'say', 'to', 'yourself', ',', '`', 'ah', ',', 'yes', ',', 'here', 'we', 'have', 'a', 'bad', ',', 'bad', ',', 'bad', 'movie', '.', \"'\", '[SEP]']\n",
      "len conti_raw 41\n",
      "conti_raw ['[CLS]', 'this', 'is', 'the', 'kind', 'of', 'movie', 'that', 'you', 'only', 'need', 'to', 'watch', 'for', 'about', 'thirty', 'seconds', 'before', 'you', 'say', 'to', 'yourself', ',', '`', 'ah', ',', 'yes', ',', 'here', 'we', 'have', 'a', 'bad', ',', 'bad', ',', 'bad', 'movie', '.', \"'\", '[SEP]']\n"
     ]
    },
    {
     "data": {
      "text/html": [
       "<table width: 100%><div style=\"border-top: 1px solid; margin-top: 5px;             padding-top: 5px; display: inline-block\"><b>Legend: </b><span style=\"display: inline-block; width: 10px; height: 10px;                 border: 1px solid; background-color:                 hsl(0, 75%, 60%)\"></span> Negative  <span style=\"display: inline-block; width: 10px; height: 10px;                 border: 1px solid; background-color:                 hsl(0, 75%, 100%)\"></span> Neutral  <span style=\"display: inline-block; width: 10px; height: 10px;                 border: 1px solid; background-color:                 hsl(120, 75%, 50%)\"></span> Positive  </div><tr><th>True Label</th><th>Predicted Label</th><th>Attribution Label</th><th>Attribution Score</th><th>Word Importance</th><tr><td><text style=\"padding-right:2em\"><b>Neg</b></text></td><td><text style=\"padding-right:2em\"><b>Neg (0.07)</b></text></td><td><text style=\"padding-right:2em\"><b>Neg</b></text></td><td><text style=\"padding-right:2em\"><b>-0.55</b></text></td><td><mark style=\"background-color: hsl(120, 75%, 90%); opacity:1.0;                     line-height:1.75\"><font color=\"black\"> [CLS]                    </font></mark><mark style=\"background-color: hsl(120, 75%, 100%); opacity:1.0;                     line-height:1.75\"><font color=\"black\"> this                    </font></mark><mark style=\"background-color: hsl(0, 75%, 94%); opacity:1.0;                     line-height:1.75\"><font color=\"black\"> is                    </font></mark><mark style=\"background-color: hsl(120, 75%, 100%); opacity:1.0;                     line-height:1.75\"><font color=\"black\"> the                    </font></mark><mark style=\"background-color: hsl(0, 75%, 90%); opacity:1.0;                     line-height:1.75\"><font color=\"black\"> kind                    </font></mark><mark style=\"background-color: hsl(0, 75%, 94%); opacity:1.0;                     line-height:1.75\"><font color=\"black\"> of                    </font></mark><mark style=\"background-color: hsl(120, 75%, 99%); opacity:1.0;                     line-height:1.75\"><font color=\"black\"> movie                    </font></mark><mark style=\"background-color: hsl(120, 75%, 99%); opacity:1.0;                     line-height:1.75\"><font color=\"black\"> that                    </font></mark><mark style=\"background-color: hsl(120, 75%, 89%); opacity:1.0;                     line-height:1.75\"><font color=\"black\"> you                    </font></mark><mark style=\"background-color: hsl(120, 75%, 97%); opacity:1.0;                     line-height:1.75\"><font color=\"black\"> only                    </font></mark><mark style=\"background-color: hsl(0, 75%, 98%); opacity:1.0;                     line-height:1.75\"><font color=\"black\"> need                    </font></mark><mark style=\"background-color: hsl(0, 75%, 98%); opacity:1.0;                     line-height:1.75\"><font color=\"black\"> to                    </font></mark><mark style=\"background-color: hsl(120, 75%, 95%); opacity:1.0;                     line-height:1.75\"><font color=\"black\"> watch                    </font></mark><mark style=\"background-color: hsl(0, 75%, 98%); opacity:1.0;                     line-height:1.75\"><font color=\"black\"> for                    </font></mark><mark style=\"background-color: hsl(120, 75%, 99%); opacity:1.0;                     line-height:1.75\"><font color=\"black\"> about                    </font></mark><mark style=\"background-color: hsl(0, 75%, 96%); opacity:1.0;                     line-height:1.75\"><font color=\"black\"> thirty                    </font></mark><mark style=\"background-color: hsl(120, 75%, 99%); opacity:1.0;                     line-height:1.75\"><font color=\"black\"> seconds                    </font></mark><mark style=\"background-color: hsl(120, 75%, 97%); opacity:1.0;                     line-height:1.75\"><font color=\"black\"> before                    </font></mark><mark style=\"background-color: hsl(120, 75%, 98%); opacity:1.0;                     line-height:1.75\"><font color=\"black\"> you                    </font></mark><mark style=\"background-color: hsl(120, 75%, 99%); opacity:1.0;                     line-height:1.75\"><font color=\"black\"> say                    </font></mark><mark style=\"background-color: hsl(0, 75%, 93%); opacity:1.0;                     line-height:1.75\"><font color=\"black\"> to                    </font></mark><mark style=\"background-color: hsl(120, 75%, 92%); opacity:1.0;                     line-height:1.75\"><font color=\"black\"> yourself                    </font></mark><mark style=\"background-color: hsl(120, 75%, 97%); opacity:1.0;                     line-height:1.75\"><font color=\"black\"> ,                    </font></mark><mark style=\"background-color: hsl(120, 75%, 98%); opacity:1.0;                     line-height:1.75\"><font color=\"black\"> `                    </font></mark><mark style=\"background-color: hsl(0, 75%, 95%); opacity:1.0;                     line-height:1.75\"><font color=\"black\"> ah                    </font></mark><mark style=\"background-color: hsl(0, 75%, 89%); opacity:1.0;                     line-height:1.75\"><font color=\"black\"> ,                    </font></mark><mark style=\"background-color: hsl(120, 75%, 99%); opacity:1.0;                     line-height:1.75\"><font color=\"black\"> yes                    </font></mark><mark style=\"background-color: hsl(0, 75%, 86%); opacity:1.0;                     line-height:1.75\"><font color=\"black\"> ,                    </font></mark><mark style=\"background-color: hsl(0, 75%, 98%); opacity:1.0;                     line-height:1.75\"><font color=\"black\"> here                    </font></mark><mark style=\"background-color: hsl(0, 75%, 100%); opacity:1.0;                     line-height:1.75\"><font color=\"black\"> we                    </font></mark><mark style=\"background-color: hsl(120, 75%, 89%); opacity:1.0;                     line-height:1.75\"><font color=\"black\"> have                    </font></mark><mark style=\"background-color: hsl(0, 75%, 98%); opacity:1.0;                     line-height:1.75\"><font color=\"black\"> a                    </font></mark><mark style=\"background-color: hsl(120, 75%, 84%); opacity:1.0;                     line-height:1.75\"><font color=\"black\"> bad                    </font></mark><mark style=\"background-color: hsl(120, 75%, 91%); opacity:1.0;                     line-height:1.75\"><font color=\"black\"> ,                    </font></mark><mark style=\"background-color: hsl(0, 75%, 97%); opacity:1.0;                     line-height:1.75\"><font color=\"black\"> bad                    </font></mark><mark style=\"background-color: hsl(0, 75%, 92%); opacity:1.0;                     line-height:1.75\"><font color=\"black\"> ,                    </font></mark><mark style=\"background-color: hsl(0, 75%, 100%); opacity:1.0;                     line-height:1.75\"><font color=\"black\"> bad                    </font></mark><mark style=\"background-color: hsl(0, 75%, 98%); opacity:1.0;                     line-height:1.75\"><font color=\"black\"> movie                    </font></mark><mark style=\"background-color: hsl(0, 75%, 90%); opacity:1.0;                     line-height:1.75\"><font color=\"black\"> .                    </font></mark><mark style=\"background-color: hsl(0, 75%, 92%); opacity:1.0;                     line-height:1.75\"><font color=\"black\"> '                    </font></mark><mark style=\"background-color: hsl(120, 75%, 88%); opacity:1.0;                     line-height:1.75\"><font color=\"black\"> [SEP]                    </font></mark></td><tr></table>"
      ],
      "text/plain": [
       "<IPython.core.display.HTML object>"
      ]
     },
     "metadata": {},
     "output_type": "display_data"
    },
    {
     "name": "stdout",
     "output_type": "stream",
     "text": [
      "<IPython.core.display.HTML object>\n",
      "Raw review: feel sanitised and stagey \n",
      "GT target: 0\n"
     ]
    },
    {
     "name": "stderr",
     "output_type": "stream",
     "text": [
      "Kernel Shap attribution: 100%|█████████████████████████████████████████████████████████████████████████████████████████████████| 10/10 [00:00<00:00, 10.60it/s]\n"
     ]
    },
    {
     "name": "stdout",
     "output_type": "stream",
     "text": [
      "word attr tensor([-0.2562, -0.7082, -0.1079,  0.1549,  0.5160,  0.0356, -0.0705, -0.0507,\n",
      "         0.3494], device='cuda:0')\n",
      "conti attr [tensor(-0.2562, device='cuda:0'), tensor(-0.7082, device='cuda:0'), tensor(0.2698, device='cuda:0'), tensor(0.0356, device='cuda:0'), tensor(-0.0606, device='cuda:0'), tensor(0.3494, device='cuda:0')]\n",
      "detokenized ['[CLS]', 'feel', 'san', 'itis', 'ed', 'and', 'stage', 'y', '[SEP]']\n",
      "len conti_raw 6\n",
      "conti_raw ['[CLS]', 'feel', 'sanitised', 'and', 'stagey', '[SEP]']\n"
     ]
    },
    {
     "data": {
      "text/html": [
       "<table width: 100%><div style=\"border-top: 1px solid; margin-top: 5px;             padding-top: 5px; display: inline-block\"><b>Legend: </b><span style=\"display: inline-block; width: 10px; height: 10px;                 border: 1px solid; background-color:                 hsl(0, 75%, 60%)\"></span> Negative  <span style=\"display: inline-block; width: 10px; height: 10px;                 border: 1px solid; background-color:                 hsl(0, 75%, 100%)\"></span> Neutral  <span style=\"display: inline-block; width: 10px; height: 10px;                 border: 1px solid; background-color:                 hsl(120, 75%, 50%)\"></span> Positive  </div><tr><th>True Label</th><th>Predicted Label</th><th>Attribution Label</th><th>Attribution Score</th><th>Word Importance</th><tr><td><text style=\"padding-right:2em\"><b>Neg</b></text></td><td><text style=\"padding-right:2em\"><b>Neg (0.03)</b></text></td><td><text style=\"padding-right:2em\"><b>Neg</b></text></td><td><text style=\"padding-right:2em\"><b>-0.14</b></text></td><td><mark style=\"background-color: hsl(0, 75%, 90%); opacity:1.0;                     line-height:1.75\"><font color=\"black\"> [CLS]                    </font></mark><mark style=\"background-color: hsl(0, 75%, 72%); opacity:1.0;                     line-height:1.75\"><font color=\"black\"> feel                    </font></mark><mark style=\"background-color: hsl(120, 75%, 87%); opacity:1.0;                     line-height:1.75\"><font color=\"black\"> sanitised                    </font></mark><mark style=\"background-color: hsl(120, 75%, 99%); opacity:1.0;                     line-height:1.75\"><font color=\"black\"> and                    </font></mark><mark style=\"background-color: hsl(0, 75%, 98%); opacity:1.0;                     line-height:1.75\"><font color=\"black\"> stagey                    </font></mark><mark style=\"background-color: hsl(120, 75%, 83%); opacity:1.0;                     line-height:1.75\"><font color=\"black\"> [SEP]                    </font></mark></td><tr></table>"
      ],
      "text/plain": [
       "<IPython.core.display.HTML object>"
      ]
     },
     "metadata": {},
     "output_type": "display_data"
    },
    {
     "name": "stderr",
     "output_type": "stream",
     "text": [
      "/home/user/anaconda3/envs/metric/lib/python3.9/site-packages/captum/attr/_core/lime.py:1096: UserWarning: Attempting to construct interpretable model with > 10000 features.This can be very slow or lead to OOM issues. Please provide a featuremask which groups input features to reduce the number of interpretablefeatures. \n",
      "  warnings.warn(\n"
     ]
    },
    {
     "name": "stdout",
     "output_type": "stream",
     "text": [
      "<IPython.core.display.HTML object>\n",
      "Raw review: replete with stereotypical familial quandaries \n",
      "GT target: 0\n"
     ]
    },
    {
     "name": "stderr",
     "output_type": "stream",
     "text": [
      "Kernel Shap attribution: 100%|█████████████████████████████████████████████████████████████████████████████████████████████████| 10/10 [00:01<00:00,  9.02it/s]\n"
     ]
    },
    {
     "name": "stdout",
     "output_type": "stream",
     "text": [
      "word attr tensor([ 0.8313, -0.1048,  0.1184, -0.0543, -0.0492, -0.4081, -0.1582, -0.0224,\n",
      "        -0.1420, -0.1898,  0.1124,  0.1043, -0.0741,  0.0364], device='cuda:0')\n",
      "conti attr [tensor(0.8313, device='cuda:0'), tensor(0.0068, device='cuda:0'), tensor(-0.0543, device='cuda:0'), tensor(-0.2286, device='cuda:0'), tensor(-0.1530, device='cuda:0'), tensor(0.0171, device='cuda:0'), tensor(0.0364, device='cuda:0')]\n",
      "detokenized ['[CLS]', 'rep', 'lete', 'with', 'stereo', 'typical', 'fa', 'mi', 'lia', 'l', 'quan', 'dar', 'ies', '[SEP]']\n",
      "len conti_raw 7\n",
      "conti_raw ['[CLS]', 'replete', 'with', 'stereotypical', 'familial', 'quandaries', '[SEP]']\n"
     ]
    },
    {
     "data": {
      "text/html": [
       "<table width: 100%><div style=\"border-top: 1px solid; margin-top: 5px;             padding-top: 5px; display: inline-block\"><b>Legend: </b><span style=\"display: inline-block; width: 10px; height: 10px;                 border: 1px solid; background-color:                 hsl(0, 75%, 60%)\"></span> Negative  <span style=\"display: inline-block; width: 10px; height: 10px;                 border: 1px solid; background-color:                 hsl(0, 75%, 100%)\"></span> Neutral  <span style=\"display: inline-block; width: 10px; height: 10px;                 border: 1px solid; background-color:                 hsl(120, 75%, 50%)\"></span> Positive  </div><tr><th>True Label</th><th>Predicted Label</th><th>Attribution Label</th><th>Attribution Score</th><th>Word Importance</th><tr><td><text style=\"padding-right:2em\"><b>Neg</b></text></td><td><text style=\"padding-right:2em\"><b>Neg (0.08)</b></text></td><td><text style=\"padding-right:2em\"><b>Neg</b></text></td><td><text style=\"padding-right:2em\"><b>-0.00</b></text></td><td><mark style=\"background-color: hsl(120, 75%, 59%); opacity:1.0;                     line-height:1.75\"><font color=\"black\"> [CLS]                    </font></mark><mark style=\"background-color: hsl(120, 75%, 100%); opacity:1.0;                     line-height:1.75\"><font color=\"black\"> replete                    </font></mark><mark style=\"background-color: hsl(0, 75%, 98%); opacity:1.0;                     line-height:1.75\"><font color=\"black\"> with                    </font></mark><mark style=\"background-color: hsl(0, 75%, 91%); opacity:1.0;                     line-height:1.75\"><font color=\"black\"> stereotypical                    </font></mark><mark style=\"background-color: hsl(0, 75%, 94%); opacity:1.0;                     line-height:1.75\"><font color=\"black\"> familial                    </font></mark><mark style=\"background-color: hsl(120, 75%, 100%); opacity:1.0;                     line-height:1.75\"><font color=\"black\"> quandaries                    </font></mark><mark style=\"background-color: hsl(120, 75%, 99%); opacity:1.0;                     line-height:1.75\"><font color=\"black\"> [SEP]                    </font></mark></td><tr></table>"
      ],
      "text/plain": [
       "<IPython.core.display.HTML object>"
      ]
     },
     "metadata": {},
     "output_type": "display_data"
    },
    {
     "name": "stdout",
     "output_type": "stream",
     "text": [
      "<IPython.core.display.HTML object>\n",
      "Raw review: quirky comedy \n",
      "GT target: 1\n"
     ]
    },
    {
     "name": "stderr",
     "output_type": "stream",
     "text": [
      "Kernel Shap attribution: 100%|█████████████████████████████████████████████████████████████████████████████████████████████████| 10/10 [00:01<00:00,  9.65it/s]\n"
     ]
    },
    {
     "name": "stdout",
     "output_type": "stream",
     "text": [
      "word attr tensor([ 0.4416, -0.6267,  0.0487, -0.3794,  0.5158], device='cuda:0')\n",
      "conti attr [tensor(0.4416, device='cuda:0'), tensor(-0.2890, device='cuda:0'), tensor(-0.3794, device='cuda:0'), tensor(0.5158, device='cuda:0')]\n",
      "detokenized ['[CLS]', 'qui', 'rky', 'comedy', '[SEP]']\n",
      "len conti_raw 4\n",
      "conti_raw ['[CLS]', 'quirky', 'comedy', '[SEP]']\n"
     ]
    },
    {
     "data": {
      "text/html": [
       "<table width: 100%><div style=\"border-top: 1px solid; margin-top: 5px;             padding-top: 5px; display: inline-block\"><b>Legend: </b><span style=\"display: inline-block; width: 10px; height: 10px;                 border: 1px solid; background-color:                 hsl(0, 75%, 60%)\"></span> Negative  <span style=\"display: inline-block; width: 10px; height: 10px;                 border: 1px solid; background-color:                 hsl(0, 75%, 100%)\"></span> Neutral  <span style=\"display: inline-block; width: 10px; height: 10px;                 border: 1px solid; background-color:                 hsl(120, 75%, 50%)\"></span> Positive  </div><tr><th>True Label</th><th>Predicted Label</th><th>Attribution Label</th><th>Attribution Score</th><th>Word Importance</th><tr><td><text style=\"padding-right:2em\"><b>Pos</b></text></td><td><text style=\"padding-right:2em\"><b>Pos (0.97)</b></text></td><td><text style=\"padding-right:2em\"><b>Neg</b></text></td><td><text style=\"padding-right:2em\"><b>-0.00</b></text></td><td><mark style=\"background-color: hsl(120, 75%, 78%); opacity:1.0;                     line-height:1.75\"><font color=\"black\"> [CLS]                    </font></mark><mark style=\"background-color: hsl(0, 75%, 89%); opacity:1.0;                     line-height:1.75\"><font color=\"black\"> quirky                    </font></mark><mark style=\"background-color: hsl(0, 75%, 85%); opacity:1.0;                     line-height:1.75\"><font color=\"black\"> comedy                    </font></mark><mark style=\"background-color: hsl(120, 75%, 75%); opacity:1.0;                     line-height:1.75\"><font color=\"black\"> [SEP]                    </font></mark></td><tr></table>"
      ],
      "text/plain": [
       "<IPython.core.display.HTML object>"
      ]
     },
     "metadata": {},
     "output_type": "display_data"
    },
    {
     "name": "stdout",
     "output_type": "stream",
     "text": [
      "<IPython.core.display.HTML object>\n",
      "Raw review: unrewarding \n",
      "GT target: 0\n"
     ]
    },
    {
     "name": "stderr",
     "output_type": "stream",
     "text": [
      "Kernel Shap attribution: 100%|█████████████████████████████████████████████████████████████████████████████████████████████████| 10/10 [00:00<00:00, 11.45it/s]\n"
     ]
    },
    {
     "name": "stdout",
     "output_type": "stream",
     "text": [
      "word attr tensor([-0.8901,  0.1814,  0.2651,  0.2774,  0.1661], device='cuda:0')\n",
      "conti attr [tensor(-0.8901, device='cuda:0'), tensor(0.2503, device='cuda:0'), tensor(0.1661, device='cuda:0')]\n",
      "detokenized ['[CLS]', 'un', 'rew', 'arding', '[SEP]']\n",
      "len conti_raw 3\n",
      "conti_raw ['[CLS]', 'unrewarding', '[SEP]']\n"
     ]
    },
    {
     "data": {
      "text/html": [
       "<table width: 100%><div style=\"border-top: 1px solid; margin-top: 5px;             padding-top: 5px; display: inline-block\"><b>Legend: </b><span style=\"display: inline-block; width: 10px; height: 10px;                 border: 1px solid; background-color:                 hsl(0, 75%, 60%)\"></span> Negative  <span style=\"display: inline-block; width: 10px; height: 10px;                 border: 1px solid; background-color:                 hsl(0, 75%, 100%)\"></span> Neutral  <span style=\"display: inline-block; width: 10px; height: 10px;                 border: 1px solid; background-color:                 hsl(120, 75%, 50%)\"></span> Positive  </div><tr><th>True Label</th><th>Predicted Label</th><th>Attribution Label</th><th>Attribution Score</th><th>Word Importance</th><tr><td><text style=\"padding-right:2em\"><b>Neg</b></text></td><td><text style=\"padding-right:2em\"><b>Neg (0.14)</b></text></td><td><text style=\"padding-right:2em\"><b>Neg</b></text></td><td><text style=\"padding-right:2em\"><b>0.00</b></text></td><td><mark style=\"background-color: hsl(0, 75%, 65%); opacity:1.0;                     line-height:1.75\"><font color=\"black\"> [CLS]                    </font></mark><mark style=\"background-color: hsl(120, 75%, 88%); opacity:1.0;                     line-height:1.75\"><font color=\"black\"> unrewarding                    </font></mark><mark style=\"background-color: hsl(120, 75%, 92%); opacity:1.0;                     line-height:1.75\"><font color=\"black\"> [SEP]                    </font></mark></td><tr></table>"
      ],
      "text/plain": [
       "<IPython.core.display.HTML object>"
      ]
     },
     "metadata": {},
     "output_type": "display_data"
    },
    {
     "name": "stdout",
     "output_type": "stream",
     "text": [
      "<IPython.core.display.HTML object>\n",
      "Raw review: old-hat \n",
      "GT target: 0\n"
     ]
    },
    {
     "name": "stderr",
     "output_type": "stream",
     "text": [
      "Kernel Shap attribution: 100%|█████████████████████████████████████████████████████████████████████████████████████████████████| 10/10 [00:01<00:00,  9.35it/s]\n"
     ]
    },
    {
     "name": "stdout",
     "output_type": "stream",
     "text": [
      "word attr tensor([ 0.2989, -0.8318, -0.0988,  0.2472,  0.3845], device='cuda:0')\n",
      "conti attr [tensor(0.2989, device='cuda:0'), tensor(-0.1091, device='cuda:0'), tensor(0.3845, device='cuda:0')]\n",
      "detokenized ['[CLS]', 'old', '-', 'hat', '[SEP]']\n",
      "len conti_raw 3\n",
      "conti_raw ['[CLS]', 'old-hat', '[SEP]']\n"
     ]
    },
    {
     "data": {
      "text/html": [
       "<table width: 100%><div style=\"border-top: 1px solid; margin-top: 5px;             padding-top: 5px; display: inline-block\"><b>Legend: </b><span style=\"display: inline-block; width: 10px; height: 10px;                 border: 1px solid; background-color:                 hsl(0, 75%, 60%)\"></span> Negative  <span style=\"display: inline-block; width: 10px; height: 10px;                 border: 1px solid; background-color:                 hsl(0, 75%, 100%)\"></span> Neutral  <span style=\"display: inline-block; width: 10px; height: 10px;                 border: 1px solid; background-color:                 hsl(120, 75%, 50%)\"></span> Positive  </div><tr><th>True Label</th><th>Predicted Label</th><th>Attribution Label</th><th>Attribution Score</th><th>Word Importance</th><tr><td><text style=\"padding-right:2em\"><b>Neg</b></text></td><td><text style=\"padding-right:2em\"><b>Neg (0.05)</b></text></td><td><text style=\"padding-right:2em\"><b>Neg</b></text></td><td><text style=\"padding-right:2em\"><b>0.00</b></text></td><td><mark style=\"background-color: hsl(120, 75%, 86%); opacity:1.0;                     line-height:1.75\"><font color=\"black\"> [CLS]                    </font></mark><mark style=\"background-color: hsl(0, 75%, 96%); opacity:1.0;                     line-height:1.75\"><font color=\"black\"> old-hat                    </font></mark><mark style=\"background-color: hsl(120, 75%, 81%); opacity:1.0;                     line-height:1.75\"><font color=\"black\"> [SEP]                    </font></mark></td><tr></table>"
      ],
      "text/plain": [
       "<IPython.core.display.HTML object>"
      ]
     },
     "metadata": {},
     "output_type": "display_data"
    },
    {
     "name": "stdout",
     "output_type": "stream",
     "text": [
      "<IPython.core.display.HTML object>\n"
     ]
    }
   ],
   "source": [
    "for i, (datum_raw, target) in enumerate(zip(sst2_data_raw, targets), start=1):\n",
    "    print(f'Raw review: {datum_raw}')\n",
    "    print(f'GT target: {target}')\n",
    "    visual_record=generate_record(datum_raw, target)\n",
    "    print(visualization.visualize_text([visual_record]))\n"
   ]
  },
  {
   "cell_type": "code",
   "execution_count": 9,
   "id": "c5ca5004",
   "metadata": {},
   "outputs": [],
   "source": [
    "file_name_base = 'Kernel_SHAP'"
   ]
  },
  {
   "cell_type": "code",
   "execution_count": 10,
   "id": "ce01966e",
   "metadata": {
    "scrolled": true
   },
   "outputs": [
    {
     "data": {
      "text/plain": [
       "{'indices': [27798,\n",
       "  28244,\n",
       "  48083,\n",
       "  8795,\n",
       "  91,\n",
       "  20682,\n",
       "  59890,\n",
       "  41763,\n",
       "  19795,\n",
       "  9957,\n",
       "  28334,\n",
       "  55664,\n",
       "  16438,\n",
       "  18031,\n",
       "  9297,\n",
       "  66913,\n",
       "  9289,\n",
       "  6789,\n",
       "  25294,\n",
       "  33294,\n",
       "  29699,\n",
       "  41960,\n",
       "  6554,\n",
       "  8772,\n",
       "  17921,\n",
       "  8027,\n",
       "  49091,\n",
       "  54186,\n",
       "  15080,\n",
       "  22382,\n",
       "  23856,\n",
       "  9464,\n",
       "  23831,\n",
       "  59434,\n",
       "  17862,\n",
       "  24584,\n",
       "  26216,\n",
       "  63094,\n",
       "  55787,\n",
       "  3993,\n",
       "  25463,\n",
       "  17540,\n",
       "  51128,\n",
       "  46224,\n",
       "  32656,\n",
       "  30105,\n",
       "  28646,\n",
       "  17011,\n",
       "  7812,\n",
       "  48236],\n",
       " 'raw_data': ['its oscar nomination ',\n",
       "  'shenanigans and slapstick ',\n",
       "  'an unsettling sight , ',\n",
       "  'the climactic hourlong cricket match ',\n",
       "  'alternating between facetious comic parody and pulp melodrama , this smart-aleck movie ... tosses around some intriguing questions about the difference between human and android life ',\n",
       "  'to be a part of that elusive adult world ',\n",
       "  'emotional power ',\n",
       "  'reminds you of why animation is such a perfect medium for children , because of the way it allows the mind to enter and accept another world ',\n",
       "  'unparalleled proportions , writer-director parker ',\n",
       "  'this surprisingly decent flick ',\n",
       "  \"about the best thing you could say about narc is that it 's a rock-solid little genre picture . \",\n",
       "  'the very best ',\n",
       "  'been modeled on the worst revenge-of-the-nerds clichés the filmmakers could dredge up ',\n",
       "  'tell you ',\n",
       "  'utterly absorbing ',\n",
       "  'restate ',\n",
       "  'bears about as much resemblance to the experiences of most battered women as spider-man ',\n",
       "  'expressively performed ',\n",
       "  'the acting is amateurish , the cinematography is atrocious ',\n",
       "  'solidly constructed ',\n",
       "  \"are undermined by the movie 's presentation , which is way too stagy \",\n",
       "  'a great film ',\n",
       "  'charm ',\n",
       "  'this new jangle of noise , mayhem and stupidity ',\n",
       "  'sustains it ',\n",
       "  'is so deadly dull that watching the proverbial paint dry would be a welcome improvement . ',\n",
       "  'to accomplish ',\n",
       "  \"does n't work . \",\n",
       "  'given it a one-star rating ',\n",
       "  \"ice cube is n't quite out of ripe screwball ideas , but friday after next spreads them pretty thin \",\n",
       "  'been trying to forget ',\n",
       "  'big stars and ',\n",
       "  'of cheesy dialogue ',\n",
       "  \"the château is never quite able to overcome the cultural moat surrounding its ludicrous and contrived plot . ' \",\n",
       "  'principled ',\n",
       "  'end it all by stuffing himself into an electric pencil sharpener ',\n",
       "  'funniest idea ',\n",
       "  'silly and tedious ',\n",
       "  'two surefire , beloved genres ',\n",
       "  'most charmless ',\n",
       "  'offers us the sense that on some elemental level , lilia deeply wants to break free of her old life . ',\n",
       "  'might be best forgotten ',\n",
       "  \"a substantial arc of change that does n't produce any real transformation \",\n",
       "  'unadorned ',\n",
       "  \"this is the kind of movie that you only need to watch for about thirty seconds before you say to yourself , ` ah , yes , here we have a bad , bad , bad movie . ' \",\n",
       "  'feel sanitised and stagey ',\n",
       "  'replete with stereotypical familial quandaries ',\n",
       "  'quirky comedy ',\n",
       "  'unrewarding ',\n",
       "  'old-hat '],\n",
       " 'targets': [1,\n",
       "  1,\n",
       "  0,\n",
       "  1,\n",
       "  1,\n",
       "  1,\n",
       "  1,\n",
       "  1,\n",
       "  1,\n",
       "  1,\n",
       "  1,\n",
       "  1,\n",
       "  0,\n",
       "  1,\n",
       "  1,\n",
       "  0,\n",
       "  0,\n",
       "  1,\n",
       "  0,\n",
       "  1,\n",
       "  0,\n",
       "  1,\n",
       "  1,\n",
       "  0,\n",
       "  1,\n",
       "  0,\n",
       "  1,\n",
       "  0,\n",
       "  0,\n",
       "  0,\n",
       "  0,\n",
       "  1,\n",
       "  0,\n",
       "  0,\n",
       "  1,\n",
       "  0,\n",
       "  1,\n",
       "  0,\n",
       "  1,\n",
       "  0,\n",
       "  1,\n",
       "  0,\n",
       "  0,\n",
       "  0,\n",
       "  0,\n",
       "  0,\n",
       "  0,\n",
       "  1,\n",
       "  0,\n",
       "  0],\n",
       " 'model_out_list': [0.9578894972801208,\n",
       "  0.02607199177145958,\n",
       "  0.9280797243118286,\n",
       "  0.6026754379272461,\n",
       "  0.9272036552429199,\n",
       "  0.9597240090370178,\n",
       "  0.9770727157592773,\n",
       "  0.9707044959068298,\n",
       "  0.8834286332130432,\n",
       "  0.9658218622207642,\n",
       "  0.9529748558998108,\n",
       "  0.9749705791473389,\n",
       "  0.030051304027438164,\n",
       "  0.8954260945320129,\n",
       "  0.974568247795105,\n",
       "  0.5530857443809509,\n",
       "  0.7086556553840637,\n",
       "  0.9764208197593689,\n",
       "  0.031884290277957916,\n",
       "  0.9670499563217163,\n",
       "  0.04456028714776039,\n",
       "  0.9733861684799194,\n",
       "  0.9737695455551147,\n",
       "  0.09326992928981781,\n",
       "  0.9708950519561768,\n",
       "  0.41628754138946533,\n",
       "  0.9736232161521912,\n",
       "  0.04155701398849487,\n",
       "  0.7330113053321838,\n",
       "  0.04169812798500061,\n",
       "  0.06650674343109131,\n",
       "  0.9741768836975098,\n",
       "  0.02389264479279518,\n",
       "  0.060439176857471466,\n",
       "  0.9714932441711426,\n",
       "  0.06462432444095612,\n",
       "  0.9628397226333618,\n",
       "  0.035474635660648346,\n",
       "  0.9750030040740967,\n",
       "  0.9686804413795471,\n",
       "  0.9634529948234558,\n",
       "  0.06778600811958313,\n",
       "  0.0436873659491539,\n",
       "  0.058859918266534805,\n",
       "  0.06825332343578339,\n",
       "  0.026674073189496994,\n",
       "  0.07909509539604187,\n",
       "  0.9688959121704102,\n",
       "  0.136697456240654,\n",
       "  0.05097651481628418],\n",
       " 'raw_attr_list': [tensor([[[478592.0938,  64870.3125, -65619.2344,  ...,  22408.6797,\n",
       "            -27821.5625,  30855.5723],\n",
       "           [-25263.0938, -13692.4707,  21953.0527,  ...,  -1172.7709,\n",
       "            -21935.5430, -26441.1543],\n",
       "           [-13269.2734,   6458.9038,  14321.1113,  ...,  14095.7021,\n",
       "            -19702.5391,  -6428.0708],\n",
       "           [-37899.1250,  -7207.6714, -34384.9688,  ..., -33651.6875,\n",
       "            -10156.6611,  -3496.6262],\n",
       "           [ -6560.5723, -12349.7451,   6513.4707,  ...,  29943.5352,\n",
       "            -27726.9629,  -1020.9415]]], device='cuda:0'),\n",
       "  tensor([[[ 6.2497e-03,  1.6131e-03,  4.6654e-03,  ..., -7.7638e-03,\n",
       "             7.3675e-03,  7.2302e-03],\n",
       "           [ 2.1133e-04, -1.2028e-03, -5.6762e-03,  ...,  2.1547e-03,\n",
       "            -9.4190e-03, -1.1478e-02],\n",
       "           [ 6.6675e-03, -5.9676e-03, -6.9924e-06,  ..., -1.1777e-02,\n",
       "             1.1710e-02,  1.6199e-02],\n",
       "           ...,\n",
       "           [ 7.5867e-04, -1.2946e-02,  1.3353e-02,  ..., -9.8469e-04,\n",
       "            -4.3622e-03, -7.1013e-03],\n",
       "           [ 1.0510e-02, -2.5803e-03,  3.0067e-02,  ...,  1.2649e-03,\n",
       "            -1.6202e-03,  1.4066e-03],\n",
       "           [-2.4064e-03, -4.5837e-03,  1.2780e-03,  ..., -2.1211e-03,\n",
       "            -6.6632e-03, -5.3509e-03]]], device='cuda:0'),\n",
       "  tensor([[[ 3.6894e+06, -6.4863e+05,  1.0900e+06,  ..., -3.7719e+05,\n",
       "             9.8745e+05,  6.5031e+05],\n",
       "           [ 8.8401e+05,  1.4899e+05, -1.0341e+05,  ..., -9.9232e+05,\n",
       "             1.4191e+06, -3.3222e+05],\n",
       "           [-8.4109e+04,  1.0586e-04,  1.3325e+06,  ..., -6.0542e+05,\n",
       "             4.0119e+05,  5.8009e+05],\n",
       "           ...,\n",
       "           [-3.0437e+05,  2.2592e+05, -1.0005e+06,  ..., -6.5409e+05,\n",
       "             8.6826e+05, -2.2537e+05],\n",
       "           [ 4.8482e+04, -1.0015e+06, -6.2647e+05,  ..., -1.6687e-04,\n",
       "             1.3054e+06,  6.8048e+05],\n",
       "           [-3.6962e+04,  3.5198e+05, -4.1756e+03,  ...,  3.7354e+05,\n",
       "             1.3916e-02,  8.7341e+05]]], device='cuda:0'),\n",
       "  tensor([[[-0.0097,  0.0071, -0.0111,  ..., -0.0043, -0.0022,  0.0010],\n",
       "           [ 0.0054, -0.0010,  0.0039,  ..., -0.0075,  0.0027, -0.0098],\n",
       "           [ 0.0016, -0.0001,  0.0012,  ...,  0.0062,  0.0005,  0.0037],\n",
       "           ...,\n",
       "           [ 0.0046,  0.0008,  0.0101,  ...,  0.0007,  0.0151,  0.0030],\n",
       "           [-0.0074, -0.0073,  0.0061,  ...,  0.0108, -0.0009, -0.0004],\n",
       "           [ 0.0025,  0.0094, -0.0038,  ..., -0.0004, -0.0143,  0.0073]]],\n",
       "         device='cuda:0'),\n",
       "  tensor([[[-5.5994e-03, -1.5240e-04,  1.9471e-03,  ...,  1.1933e-03,\n",
       "             2.6637e-03, -5.7647e-04],\n",
       "           [-5.8543e-04,  1.6774e-03, -3.9694e-04,  ..., -2.2069e-04,\n",
       "            -1.4774e-04,  2.6195e-04],\n",
       "           [ 6.0254e-05, -5.2538e-04, -3.0568e-04,  ...,  1.0266e-03,\n",
       "             1.1262e-03, -2.9114e-04],\n",
       "           ...,\n",
       "           [ 2.4544e-04, -9.5443e-04, -8.7525e-04,  ..., -3.8996e-05,\n",
       "            -3.5046e-04, -8.8560e-05],\n",
       "           [ 5.0448e-04,  8.6860e-05, -1.0469e-03,  ...,  7.8353e-05,\n",
       "            -1.0727e-04, -1.1381e-03],\n",
       "           [ 1.8618e-05,  5.8356e-04,  1.2201e-04,  ...,  1.4325e-04,\n",
       "            -1.1993e-03, -1.2514e-03]]], device='cuda:0'),\n",
       "  tensor([[[ 5.3498e-03, -1.4869e-03, -4.4755e-03,  ...,  1.8428e-03,\n",
       "            -4.4734e-03, -6.8932e-03],\n",
       "           [ 3.2440e-03, -4.8119e-03,  3.8790e-04,  ...,  8.1992e-03,\n",
       "            -2.2420e-03, -7.9534e-04],\n",
       "           [ 3.5159e-03,  9.2108e-03,  1.4305e-03,  ...,  5.3303e-03,\n",
       "            -6.2808e-03,  2.0212e-03],\n",
       "           ...,\n",
       "           [-3.7382e-03,  1.4304e-03, -3.2821e-03,  ...,  3.6568e-05,\n",
       "             1.2254e-03,  3.7517e-03],\n",
       "           [-4.6943e-03, -3.1978e-03,  1.2997e-02,  ...,  4.5286e-03,\n",
       "            -8.7212e-04, -4.3603e-03],\n",
       "           [-6.0168e-04,  4.4662e-04, -2.5103e-03,  ..., -5.7482e-03,\n",
       "             1.7719e-03,  2.2182e-03]]], device='cuda:0'),\n",
       "  tensor([[[ 6.5739e+06,  2.4704e+05, -9.6007e+05,  ..., -4.4108e+03,\n",
       "            -7.1391e+05,  5.1811e+04],\n",
       "           [-1.6001e+05, -5.4212e+05, -1.6757e+05,  ...,  3.9828e+04,\n",
       "            -1.0008e+05, -3.4630e+05],\n",
       "           [-2.3427e+05,  9.1403e+05,  9.1039e+05,  ...,  5.8123e+05,\n",
       "            -2.2863e+05,  1.5425e+05],\n",
       "           [-1.4389e+05, -1.2552e-02,  6.5711e+04,  ...,  1.1144e+05,\n",
       "            -6.0891e+05,  3.1960e+05]]], device='cuda:0'),\n",
       "  tensor([[[ 4.0487e+05, -4.3364e+03,  6.6850e+03,  ..., -2.3389e+03,\n",
       "             2.3201e+03,  7.1018e+02],\n",
       "           [-3.7128e+03,  1.5337e+03,  3.0557e+03,  ...,  2.2857e+03,\n",
       "             4.3049e+02, -9.5029e+02],\n",
       "           [ 3.2044e+03,  1.4248e+02, -9.1969e+02,  ..., -3.0066e+03,\n",
       "            -5.6448e+02,  2.8424e+03],\n",
       "           ...,\n",
       "           [-1.2277e+03,  3.5097e+03,  9.6650e+02,  ...,  6.2887e+02,\n",
       "             5.2833e+02, -2.1522e+03],\n",
       "           [ 2.5869e+03,  4.6455e+03, -2.4192e+03,  ...,  2.4147e+03,\n",
       "            -3.1986e+02,  1.1549e+03],\n",
       "           [ 5.0121e+03, -3.0060e+03, -1.7772e+03,  ...,  1.6960e+03,\n",
       "             5.1951e+02,  1.5509e+03]]], device='cuda:0'),\n",
       "  tensor([[[-0.0041, -0.0038, -0.0006,  ..., -0.0067,  0.0070,  0.0010],\n",
       "           [-0.0040,  0.0160,  0.0028,  ..., -0.0033, -0.0008,  0.0076],\n",
       "           [-0.0123,  0.0055, -0.0022,  ...,  0.0059, -0.0063, -0.0023],\n",
       "           ...,\n",
       "           [-0.0048,  0.0007,  0.0085,  ...,  0.0089,  0.0029, -0.0028],\n",
       "           [ 0.0078,  0.0031, -0.0056,  ...,  0.0149, -0.0025, -0.0025],\n",
       "           [-0.0025, -0.0039, -0.0035,  ..., -0.0082,  0.0137,  0.0043]]],\n",
       "         device='cuda:0'),\n",
       "  tensor([[[ 2.9213e+05,  4.4545e+05, -1.0618e+06,  ..., -2.5972e+05,\n",
       "             1.8755e-03,  4.4111e+05],\n",
       "           [ 1.9743e+04,  3.1883e-05, -4.8047e+05,  ..., -1.2175e-05,\n",
       "             3.0264e+04,  4.4067e+05],\n",
       "           [ 2.1320e+05, -3.3087e+05,  8.5686e-05,  ..., -3.5607e+05,\n",
       "             2.3348e+05,  8.9657e+04],\n",
       "           [-3.9971e+05,  3.6552e+05,  3.8159e+05,  ..., -2.8228e+05,\n",
       "            -1.0334e+05,  5.3659e+05],\n",
       "           [ 4.0040e+05, -2.4046e+05, -2.5604e+05,  ...,  1.0250e+04,\n",
       "             1.5858e+05,  3.8201e+05],\n",
       "           [-7.9426e+05, -1.2311e+06, -7.1410e+04,  ...,  1.8253e+05,\n",
       "             1.0939e+05,  2.4735e+04]]], device='cuda:0'),\n",
       "  tensor([[[ 9.8659e+03, -1.3713e+03,  1.7228e+01,  ..., -3.8289e+01,\n",
       "            -1.1010e+02, -1.4056e+02],\n",
       "           [ 1.1642e+02, -1.5990e+01, -2.6012e+02,  ...,  4.3219e+01,\n",
       "             6.4435e+01,  1.2109e+02],\n",
       "           [ 3.0309e+01,  1.3330e+02, -7.2355e+01,  ...,  9.0468e+01,\n",
       "             1.5340e+02,  3.9402e+01],\n",
       "           ...,\n",
       "           [-5.4797e+01,  1.4595e+02, -1.4681e+02,  ...,  3.1018e+01,\n",
       "             2.5345e+01,  7.7542e+01],\n",
       "           [-6.1417e+01, -6.0050e+01,  1.8255e+02,  ..., -8.7413e+00,\n",
       "             2.5062e+01,  1.7112e+02],\n",
       "           [-9.7733e+01,  1.9843e+02,  1.2568e+02,  ..., -8.5430e+01,\n",
       "             2.8740e+01,  2.3016e+02]]], device='cuda:0'),\n",
       "  tensor([[[ 4.6071e+04,  1.4994e+04, -2.0940e+02,  ..., -5.3787e+03,\n",
       "            -4.5521e+03,  2.4838e-04],\n",
       "           [ 2.8964e+03, -8.9778e+03,  2.3399e-03,  ...,  1.0123e+04,\n",
       "            -1.4957e+04, -6.0514e+03],\n",
       "           [-1.6397e+04,  1.7739e+04, -1.6886e+04,  ..., -1.1903e+04,\n",
       "            -8.5742e+03, -5.7662e+02],\n",
       "           [ 4.5578e+03, -1.4002e+04,  5.0152e+03,  ..., -1.0237e+04,\n",
       "             9.7656e+03,  7.7529e+02],\n",
       "           [ 6.3471e+03, -6.6419e+03,  3.8496e+03,  ...,  4.4403e+03,\n",
       "             9.3287e+03,  5.0808e+03]]], device='cuda:0'),\n",
       "  tensor([[[ 1.2311e+06,  4.4292e+04,  7.6596e+04,  ...,  4.2198e+03,\n",
       "            -1.4533e+04, -9.2828e+03],\n",
       "           [-1.1816e+04, -2.0913e+04,  5.9825e+03,  ..., -5.5314e+03,\n",
       "            -2.0860e+04,  2.8766e+03],\n",
       "           [-2.1724e+04,  9.0559e+03,  7.2006e+01,  ..., -2.0337e+04,\n",
       "             5.6400e+03,  9.9402e+03],\n",
       "           ...,\n",
       "           [-1.9382e+04,  3.1658e+04, -3.5266e+04,  ...,  1.1767e+04,\n",
       "             2.1010e+04,  1.4457e+04],\n",
       "           [ 5.0537e+03,  1.3035e+04, -2.3542e+04,  ..., -4.6914e+03,\n",
       "            -8.0761e+03, -1.5681e+04],\n",
       "           [-2.9110e+04,  7.4431e+02,  3.5590e+04,  ...,  7.5246e+03,\n",
       "            -1.2445e+04,  1.9109e+04]]], device='cuda:0'),\n",
       "  tensor([[[ 1.0128e+08,  3.0983e+06,  1.7074e-02,  ...,  4.2696e+06,\n",
       "             1.1128e-04,  3.9744e+05],\n",
       "           [ 5.2420e+06,  6.0815e+05, -7.2106e+06,  ...,  7.0628e+06,\n",
       "            -3.9282e+05, -2.1823e-03],\n",
       "           [-2.7997e+06, -1.2882e+06,  3.4947e+05,  ...,  1.3960e-04,\n",
       "            -2.1352e+06, -3.7499e+06],\n",
       "           [-4.3028e+06, -1.1288e+06,  2.0841e+06,  ..., -2.2616e+06,\n",
       "            -2.1806e+06, -1.5881e+06]]], device='cuda:0'),\n",
       "  tensor([[[-1.1165e+05, -2.0552e-02, -1.6659e+03,  ...,  2.3534e+02,\n",
       "            -1.1748e+03, -1.8689e+02],\n",
       "           [ 3.3500e+03,  6.8746e+02, -1.6303e+03,  ...,  1.4303e+03,\n",
       "             1.1520e+03,  9.3492e-06],\n",
       "           [-3.9644e+03, -3.3645e+03,  1.5840e-02,  ...,  9.4572e+02,\n",
       "            -3.8697e+02, -2.2559e+03],\n",
       "           [ 5.1235e+02, -7.0304e+02,  1.8470e+03,  ...,  2.7408e+03,\n",
       "             3.6667e+03, -9.5339e+02]]], device='cuda:0'),\n",
       "  tensor([[[34527440.0000,  5796238.5000, -1192679.2500,  ...,\n",
       "             -983497.9375, -2394196.7500, -5412992.5000],\n",
       "           [ 3530436.5000,  -606417.8750, -5488276.5000,  ...,\n",
       "            -1592602.7500, -4017002.2500,   179871.0625],\n",
       "           [ 3306904.5000, -6500896.0000, -3043766.0000,  ...,\n",
       "            -1029882.3125, -3083595.0000,  5395691.5000],\n",
       "           [ -298005.4375,  5357792.0000, -1074029.5000,  ...,\n",
       "             9538742.0000,   886508.4375,  4072190.5000]]], device='cuda:0'),\n",
       "  tensor([[[ 2.1178e+05, -2.9686e+05, -7.1283e+04,  ...,  1.2442e+04,\n",
       "            -8.4812e+03,  2.1248e+04],\n",
       "           [ 1.5968e+04, -4.9767e+02, -8.9035e+01,  ...,  7.9098e+03,\n",
       "             2.5827e+03,  9.7177e+03],\n",
       "           [-3.9894e+03,  1.2414e+04, -1.1269e+04,  ..., -1.6997e-03,\n",
       "             2.1572e+04,  1.4473e+03],\n",
       "           ...,\n",
       "           [-1.5216e+04,  4.4792e+03,  1.9495e+04,  ..., -2.5485e+04,\n",
       "            -1.4854e+04, -7.2947e+03],\n",
       "           [ 1.2020e+04,  1.6576e+04, -7.5599e+04,  ...,  4.9486e+02,\n",
       "             1.6128e+03,  7.5395e+03],\n",
       "           [ 1.0536e+03, -1.8172e+03,  6.4728e+03,  ...,  2.7785e+04,\n",
       "             7.0323e+03,  4.4190e+03]]], device='cuda:0'),\n",
       "  tensor([[[-7.5463e+07,  1.6399e+07,  6.0214e+05,  ..., -4.1268e-04,\n",
       "             2.0937e+06, -8.3835e+06],\n",
       "           [ 4.2778e+06,  1.6016e+06, -4.0134e+06,  ...,  1.8884e+06,\n",
       "            -3.7661e+06,  4.3443e+06],\n",
       "           [ 5.0080e+06, -6.4895e+06, -2.7130e+06,  ...,  4.6917e+06,\n",
       "             5.3325e+05, -7.2014e+05],\n",
       "           [-3.3489e+06, -1.2883e+06, -6.0631e+05,  ...,  2.9164e+05,\n",
       "            -5.7856e+06,  3.4850e+06],\n",
       "           [ 3.1144e+06, -5.8342e+06, -7.5613e+06,  ...,  4.2545e+06,\n",
       "             3.1720e+06, -9.1458e+06]]], device='cuda:0'),\n",
       "  tensor([[[-0.0014,  0.0035, -0.0028,  ...,  0.0025, -0.0007, -0.0005],\n",
       "           [ 0.0046, -0.0030,  0.0083,  ...,  0.0021,  0.0016, -0.0006],\n",
       "           [-0.0047,  0.0086, -0.0054,  ...,  0.0075, -0.0022,  0.0054],\n",
       "           ...,\n",
       "           [-0.0023, -0.0022, -0.0005,  ..., -0.0024,  0.0004,  0.0082],\n",
       "           [-0.0050,  0.0041,  0.0045,  ..., -0.0041, -0.0026, -0.0035],\n",
       "           [-0.0034,  0.0051, -0.0057,  ..., -0.0046,  0.0094,  0.0011]]],\n",
       "         device='cuda:0'),\n",
       "  tensor([[[ 2.2092e+06,  1.4914e+06, -1.2059e+06,  ...,  5.1164e+05,\n",
       "             4.8594e+05,  4.3390e+04],\n",
       "           [-6.0649e+05, -8.9663e+05, -2.6955e+06,  ...,  5.9981e+05,\n",
       "             7.1952e-02,  1.3164e+06],\n",
       "           [ 6.3893e+05,  9.5714e+05, -5.3894e+05,  ...,  3.4350e+04,\n",
       "            -2.4194e+05, -1.3850e+05],\n",
       "           [ 1.9199e+05, -1.7264e+05, -2.0577e+05,  ..., -1.3370e+05,\n",
       "             7.3210e+05,  3.6184e+05],\n",
       "           [ 6.6073e+05, -2.3402e+06,  1.4791e+06,  ..., -1.1125e+06,\n",
       "             1.3751e+06,  4.8762e+05]]], device='cuda:0'),\n",
       "  tensor([[[-8.0138e-04, -2.0120e-03, -2.7719e-03,  ...,  3.1690e-03,\n",
       "            -1.2354e-03, -2.2416e-03],\n",
       "           [-5.8348e-04,  2.0140e-03, -1.8234e-04,  ..., -1.1512e-03,\n",
       "            -1.9692e-03,  1.0248e-03],\n",
       "           [-1.8830e-03,  4.1466e-03,  7.2221e-04,  ..., -8.1788e-04,\n",
       "            -2.4108e-03, -3.7363e-03],\n",
       "           ...,\n",
       "           [-8.4095e-04, -1.3725e-03, -4.1202e-06,  ..., -2.2797e-03,\n",
       "            -3.6119e-03, -3.2624e-03],\n",
       "           [ 2.0639e-03,  1.2503e-03,  1.9909e-03,  ..., -9.0692e-05,\n",
       "            -3.7141e-03, -1.4914e-03],\n",
       "           [-1.7772e-04, -8.8738e-04, -3.6447e-03,  ..., -1.6776e-03,\n",
       "             1.8071e-03,  1.1095e-03]]], device='cuda:0'),\n",
       "  tensor([[[-4.6191e+05, -8.5919e+05, -5.6930e+04,  ...,  8.9303e+04,\n",
       "             3.1846e+04, -2.5386e+05],\n",
       "           [-7.5280e+04, -1.3329e+05, -2.4594e+05,  ...,  3.1646e+05,\n",
       "            -4.6391e+04, -2.8603e+04],\n",
       "           [-8.8222e+04,  5.4621e+02,  1.6474e-02,  ...,  1.4237e+05,\n",
       "            -1.8813e+04, -1.4017e+05],\n",
       "           [-5.2947e+04,  4.9971e+04,  7.1371e+04,  ..., -1.3897e+05,\n",
       "            -7.8423e+04, -1.1957e+05],\n",
       "           [ 5.7384e+03, -2.0044e+04,  6.8369e+04,  ...,  5.6816e+04,\n",
       "             5.5837e+04, -7.7633e+04]]], device='cuda:0'),\n",
       "  tensor([[[ 1.7975e+05,  7.8039e+03,  1.7998e+04,  ...,  1.5826e+04,\n",
       "             5.4726e+03, -5.4980e+03],\n",
       "           [ 2.3741e+04,  3.3403e+03,  6.9412e+02,  ...,  1.2840e+04,\n",
       "            -1.2087e+03, -1.6367e+04],\n",
       "           [ 1.0573e+04, -1.0479e+04, -6.7772e+03,  ..., -9.7321e+03,\n",
       "            -5.2223e-05,  4.3495e+03]]], device='cuda:0'),\n",
       "  tensor([[[-5.6599e+06,  3.1230e+06, -4.2158e+06,  ..., -4.3996e+04,\n",
       "            -4.4189e+05, -5.9204e+05],\n",
       "           [ 3.9705e+05, -1.3714e+05, -1.8185e+05,  ...,  1.0622e+05,\n",
       "             4.0529e+05,  1.9770e+05],\n",
       "           [ 6.4872e+05, -1.4551e+05,  7.6342e+05,  ..., -5.8700e+04,\n",
       "             1.1303e+05, -5.7666e+04],\n",
       "           ...,\n",
       "           [-5.4212e+04,  1.7611e+05, -5.8434e+05,  ..., -4.1262e+05,\n",
       "            -1.6547e+05,  5.0267e+05],\n",
       "           [ 4.1903e+05,  1.4831e+05,  1.1744e+05,  ..., -7.6752e+05,\n",
       "             2.2881e+05, -3.5725e+05],\n",
       "           [ 6.0423e+05,  1.9235e+05,  4.7392e+04,  ..., -4.6206e+05,\n",
       "             2.7922e+03,  8.7867e-06]]], device='cuda:0'),\n",
       "  tensor([[[ 4.0705e+07,  3.1281e+06, -2.1203e+06,  ...,  7.5533e+04,\n",
       "            -1.9693e+06, -3.0118e+05],\n",
       "           [-1.7736e+06, -7.1555e+04, -1.4005e+06,  ...,  1.9043e+06,\n",
       "            -9.8617e+05,  5.0101e+05],\n",
       "           [ 8.1713e+05, -6.3410e+05,  1.5747e+05,  ...,  1.6952e+05,\n",
       "            -9.9026e+05,  6.3653e+05],\n",
       "           [ 8.4948e+05,  2.0638e+06,  7.9791e-03,  ..., -1.8227e+06,\n",
       "            -2.4403e+06, -2.0057e+06],\n",
       "           [ 9.9205e+05,  1.3292e+06,  2.0586e+06,  ..., -2.5512e+05,\n",
       "             4.7396e+05,  1.0351e+06]]], device='cuda:0'),\n",
       "  tensor([[[-1.3837e-03, -8.7668e-04, -1.6444e-03,  ..., -1.1595e-04,\n",
       "             6.8633e-03, -1.3488e-03],\n",
       "           [ 1.2849e-04,  1.8490e-03,  1.8249e-03,  ...,  2.7244e-03,\n",
       "            -4.2260e-03, -7.7839e-04],\n",
       "           [-1.5107e-03, -1.3214e-03, -1.6245e-03,  ...,  1.0834e-03,\n",
       "             1.9736e-03,  2.3091e-03],\n",
       "           ...,\n",
       "           [-8.1930e-04,  1.1965e-04, -9.2742e-04,  ...,  5.7817e-03,\n",
       "             4.9153e-04,  5.0578e-04],\n",
       "           [-3.7296e-03, -9.0833e-04, -2.1911e-04,  ..., -9.1656e-04,\n",
       "            -1.9815e-03, -2.4726e-03],\n",
       "           [ 3.6396e-03, -9.4414e-04, -2.8194e-04,  ..., -2.4922e-03,\n",
       "            -1.6416e-04,  7.2036e-05]]], device='cuda:0'),\n",
       "  tensor([[[ 43963912.0000, -10344862.0000, -12134784.0000,  ...,\n",
       "               298749.8438,   4048538.2500,  13007180.0000],\n",
       "           [   240878.1719,  -9847184.0000,   4454200.0000,  ...,\n",
       "            -17797912.0000,  -3278709.7500,  -3773838.5000],\n",
       "           [  8444489.0000,   5673103.5000,  -6907377.5000,  ...,\n",
       "             11702107.0000,   1121687.1250,  -3671442.7500],\n",
       "           [-10459932.0000,   2007146.2500,   3790003.7500,  ...,\n",
       "              1363933.8750,  -3939491.2500,  -1957844.0000]]], device='cuda:0'),\n",
       "  tensor([[[ 4.4650e-03, -3.9311e+06, -1.2755e+06,  ...,  4.8561e+05,\n",
       "             7.2554e+04,  5.1198e+05],\n",
       "           [-2.1274e+05,  1.3343e+05, -5.7486e+05,  ...,  1.5021e+05,\n",
       "             5.1871e+05, -7.9419e+05],\n",
       "           [ 1.3865e+05,  1.5096e+05,  8.6653e+04,  ...,  3.9184e+05,\n",
       "            -8.1054e+05, -8.0594e+04],\n",
       "           ...,\n",
       "           [ 6.2382e+05,  6.6399e+04, -5.7601e+05,  ...,  4.6578e+05,\n",
       "            -4.8222e+05,  3.4704e+05],\n",
       "           [ 1.3447e-05,  6.8947e+05,  5.1519e+05,  ...,  2.9009e+05,\n",
       "             2.6401e+05, -2.0063e+05],\n",
       "           [-6.4133e+05,  2.2060e+05,  4.0335e-06,  ..., -3.5367e+05,\n",
       "             1.9281e+05, -7.9784e+05]]], device='cuda:0'),\n",
       "  tensor([[[-6.3375e+05, -7.4801e+04, -6.1035e+04,  ..., -2.9497e+04,\n",
       "             1.1949e+04,  3.5330e+02],\n",
       "           [-1.7837e+03,  2.8482e+04,  5.0700e+04,  ...,  3.1120e+04,\n",
       "             2.1452e+03, -1.8536e+04],\n",
       "           [ 4.7947e+03,  2.1197e+04, -4.7182e+04,  ..., -1.0079e+03,\n",
       "            -4.5749e+03, -6.2019e+04],\n",
       "           ...,\n",
       "           [-5.6102e+04,  2.2957e+04,  1.4282e+04,  ..., -3.7518e+04,\n",
       "            -2.6102e+04, -9.3039e+03],\n",
       "           [-4.4725e+02, -2.5597e-02,  2.3987e-03,  ...,  6.6282e+04,\n",
       "            -2.7529e+04,  1.0094e+04],\n",
       "           [-2.6381e+04, -1.0206e+04, -3.4989e+04,  ..., -2.3462e-05,\n",
       "             3.4902e+03,  1.5221e+04]]], device='cuda:0'),\n",
       "  tensor([[[ 4.8038e-04,  3.0510e-03,  5.9854e-04,  ...,  2.9166e-05,\n",
       "             1.4760e-03, -2.1646e-03],\n",
       "           [-1.8475e-03, -6.1213e-04, -1.7646e-03,  ..., -1.2013e-03,\n",
       "            -2.6186e-04, -2.3937e-04],\n",
       "           [ 5.8995e-04, -8.2621e-05, -1.3165e-03,  ..., -1.7822e-04,\n",
       "             3.1010e-04, -2.0208e-03],\n",
       "           ...,\n",
       "           [ 3.1146e-04, -1.2828e-03, -5.7153e-04,  ..., -7.8001e-04,\n",
       "            -1.6717e-04, -5.3886e-04],\n",
       "           [ 2.7870e-04,  2.5900e-03, -9.4392e-04,  ..., -1.2916e-03,\n",
       "             3.6095e-03, -3.4194e-03],\n",
       "           [-3.5261e-05, -1.4711e-03, -1.7614e-03,  ..., -1.0784e-03,\n",
       "            -1.1392e-03, -6.3158e-04]]], device='cuda:0'),\n",
       "  tensor([[[-3282643.2500,   916537.8125,   326187.8438,  ...,\n",
       "              343897.9375,   300307.4375,  -400679.6875],\n",
       "           [ -200476.9062,   234325.5938,  -140709.8438,  ...,\n",
       "              194705.0625,   -71372.8984,   -30322.1152],\n",
       "           [ -219574.2031,    58599.1211,  -352047.8438,  ...,\n",
       "             -239684.4062,   199634.2500,  -297121.9375],\n",
       "           [  -88311.9766,  -135332.5000,   -27722.2695,  ...,\n",
       "              134397.3438,   420436.5000,   132490.2812],\n",
       "           [   87472.3906,    96743.9922,   102813.5703,  ...,\n",
       "             -286089.9375,   234037.4219,    65161.3359],\n",
       "           [  115548.6719,   137684.4531,   -92036.4688,  ...,\n",
       "               25406.2383,   211318.4844,   207669.9688]]], device='cuda:0'),\n",
       "  tensor([[[ 2.0467e+06,  6.9858e+06, -5.9998e+06,  ...,  1.1635e+06,\n",
       "            -8.2756e+05,  5.3363e+05],\n",
       "           [-1.8303e+06,  2.1772e+06, -3.5386e+05,  ..., -7.1058e+05,\n",
       "             3.6939e+05, -1.0358e+06],\n",
       "           [-1.4780e+05, -1.8537e+06, -3.4331e+05,  ..., -1.7962e+05,\n",
       "            -1.0567e+06, -3.9579e+06],\n",
       "           [-1.8783e+06, -9.7051e+05, -1.7911e+04,  ...,  1.6512e+06,\n",
       "             8.7472e+04,  1.1752e+06],\n",
       "           [-8.9878e-03, -1.2268e+06,  2.9180e+06,  ...,  1.4172e+04,\n",
       "            -4.5840e+05, -4.5718e+05]]], device='cuda:0'),\n",
       "  tensor([[[ 5.9039e+05, -1.1360e-02,  7.5499e+05,  ...,  1.6570e+04,\n",
       "             1.5067e+04, -1.4998e+05],\n",
       "           [-5.9653e+04,  5.9382e+04, -1.6984e+05,  ...,  3.6346e+04,\n",
       "             3.3292e+04, -1.5297e+04],\n",
       "           [ 1.0507e+05, -1.9567e+03,  1.8949e-03,  ..., -1.1628e+05,\n",
       "            -1.5784e+05,  1.4212e+05],\n",
       "           ...,\n",
       "           [ 2.5310e+04,  7.5491e+04,  5.2004e+03,  ...,  1.1530e+05,\n",
       "             1.7639e+05,  4.7720e+04],\n",
       "           [ 6.9831e+04, -9.9047e+04,  9.0877e+04,  ..., -6.9466e+02,\n",
       "            -1.2199e+04,  6.5184e+03],\n",
       "           [ 6.2421e+04, -6.4036e+04,  7.2650e+04,  ..., -2.9395e+04,\n",
       "             1.0651e+05, -5.9723e+04]]], device='cuda:0'),\n",
       "  tensor([[[ 4.8226e-04, -1.5400e-03, -2.6420e-04,  ..., -1.4405e-03,\n",
       "             3.3148e-03, -5.1813e-04],\n",
       "           [ 1.0647e-03, -1.9146e-03, -3.9899e-04,  ...,  1.2466e-03,\n",
       "             9.5175e-04, -1.0616e-03],\n",
       "           [-1.5590e-03,  4.0191e-03, -7.0988e-04,  ..., -8.0273e-04,\n",
       "             2.8354e-04,  7.0634e-03],\n",
       "           ...,\n",
       "           [ 5.7642e-04,  4.0037e-04,  4.4791e-04,  ...,  3.9360e-05,\n",
       "             1.6834e-03,  3.0695e-03],\n",
       "           [-1.9495e-03, -6.2616e-04,  1.1521e-03,  ..., -6.4929e-04,\n",
       "            -1.6187e-03,  3.6172e-04],\n",
       "           [-1.0466e-03, -1.5457e-03,  3.8380e-03,  ..., -7.0725e-04,\n",
       "            -6.2644e-04, -9.4146e-04]]], device='cuda:0'),\n",
       "  tensor([[[-2.2054e+07, -2.5594e+06,  6.3423e+06,  ...,  4.9092e+05,\n",
       "            -2.8246e+06, -1.7727e+06],\n",
       "           [-2.6329e+06, -2.4191e+05,  2.2137e+04,  ..., -5.5269e+05,\n",
       "             2.3205e+05,  2.5423e-02],\n",
       "           [ 2.8605e+06, -1.0736e+06, -5.3892e+05,  ..., -3.7208e+05,\n",
       "            -2.4267e+06,  6.8915e+05],\n",
       "           [-1.7019e+06,  3.4865e+05,  9.7706e-03,  ..., -2.1621e+06,\n",
       "             2.1881e+04,  1.3972e-02]]], device='cuda:0'),\n",
       "  tensor([[[ 3.1857e+06, -2.6973e+05, -6.3278e+03,  ...,  1.0889e+04,\n",
       "             2.5413e+04, -5.8218e+04],\n",
       "           [ 2.5644e+04, -4.8291e+03,  5.3145e+04,  ..., -3.3532e+04,\n",
       "             1.1818e+04, -4.2194e+03],\n",
       "           [-3.2486e+03,  5.7239e+03, -2.0377e+04,  ..., -6.2980e+04,\n",
       "            -7.4771e+02, -5.6665e+03],\n",
       "           ...,\n",
       "           [-3.7596e+04,  3.1671e+04,  4.8661e+03,  ...,  2.7460e+04,\n",
       "             2.9718e+04, -4.9623e+03],\n",
       "           [ 3.1578e+04,  2.1136e+04, -8.3867e+03,  ..., -6.2568e+03,\n",
       "            -7.8053e+03,  5.3159e+04],\n",
       "           [ 3.1995e+04,  2.1709e+03, -1.3608e+03,  ..., -1.4815e+04,\n",
       "            -2.8907e+04,  3.5464e+04]]], device='cuda:0'),\n",
       "  tensor([[[-6.7869e+06,  2.4609e+04,  5.9330e+05,  ...,  7.9790e+04,\n",
       "             8.4060e+04,  5.8492e+05],\n",
       "           [ 4.6961e+05,  1.2244e+06,  6.0537e+05,  ..., -2.9659e+04,\n",
       "             2.0298e+05, -5.0622e+04],\n",
       "           [-3.2052e-05, -1.1831e+05, -4.8410e+05,  ...,  3.0221e+05,\n",
       "            -2.4514e+05, -6.2682e+05],\n",
       "           [-4.8705e+05,  1.1999e+05, -2.9929e+05,  ..., -6.1175e+04,\n",
       "            -3.8602e+05, -1.3286e+05],\n",
       "           [ 8.3029e+04, -2.0138e+05,  6.3395e+04,  ..., -2.2057e+05,\n",
       "             2.7937e+04, -3.0634e+05],\n",
       "           [-3.5152e+05, -1.1753e+05, -2.2024e+03,  ...,  7.2533e+04,\n",
       "             1.9517e+05,  5.3521e+05]]], device='cuda:0'),\n",
       "  tensor([[[ 5.7959e+05, -3.4717e+05,  1.0756e+05,  ..., -4.2927e+05,\n",
       "            -1.8499e+05, -4.1205e+05],\n",
       "           [-2.1348e+05, -2.5066e+05, -1.4140e+05,  ...,  5.1023e+05,\n",
       "             1.3321e+05, -7.5525e+05],\n",
       "           [ 2.2567e+05,  2.3277e+05, -4.3886e+05,  ..., -1.0423e+03,\n",
       "             6.5387e+05, -3.2257e+04],\n",
       "           [ 1.0400e-02, -1.6182e+04, -3.0158e+05,  ...,  1.5897e+04,\n",
       "             1.7628e+04, -1.6875e+05],\n",
       "           [-3.1328e+05, -2.5977e+03,  5.1247e+04,  ...,  1.7320e+04,\n",
       "             4.3128e+05, -6.5609e+05],\n",
       "           [ 2.7273e+04, -2.8486e+05, -3.5073e-05,  ..., -7.9613e+04,\n",
       "             1.7836e+05, -2.2282e+05]]], device='cuda:0'),\n",
       "  tensor([[[-4.7122e+05, -6.2332e+03, -2.4750e+04,  ..., -1.9669e+04,\n",
       "            -6.5341e+04,  2.0758e+04],\n",
       "           [ 8.1132e+03,  3.1240e+04,  4.4076e+03,  ..., -5.0323e+03,\n",
       "            -5.0775e+03, -3.1269e+04],\n",
       "           [ 1.2601e+04, -1.4096e+03, -3.9190e+04,  ..., -1.0197e+04,\n",
       "            -2.9124e+02,  1.6967e+04],\n",
       "           ...,\n",
       "           [ 7.7794e+03,  2.7877e+04,  3.7038e+04,  ..., -4.0773e+03,\n",
       "            -4.9636e+03, -3.1284e+04],\n",
       "           [ 3.0034e+04,  9.3759e+03, -3.9966e+04,  ...,  3.2544e+04,\n",
       "             6.2718e+04, -3.5832e+04],\n",
       "           [-1.8114e+04,  5.0978e+04, -4.2281e+04,  ..., -1.2683e+04,\n",
       "            -2.3365e+04, -2.4572e+04]]], device='cuda:0'),\n",
       "  tensor([[[ 1.0976e+06, -2.0522e+06,  1.0267e+06,  ...,  7.9967e+05,\n",
       "             1.2082e+05,  7.0634e+05],\n",
       "           [ 2.0412e+05, -6.4431e+05, -1.1661e-05,  ...,  8.0651e+04,\n",
       "            -3.8625e+05, -8.5515e+05],\n",
       "           [ 3.6290e+05,  2.1747e+06, -2.1556e+05,  ..., -1.2990e+06,\n",
       "            -1.6521e+06, -7.8209e+04],\n",
       "           [-1.2134e+06,  1.5341e+06,  4.4414e+04,  ...,  1.4604e+06,\n",
       "            -7.8782e+05, -2.9377e+04],\n",
       "           [-1.8821e+05, -5.5040e+05,  9.1489e+05,  ...,  6.5952e+05,\n",
       "            -7.3515e+05,  3.8105e+05]]], device='cuda:0'),\n",
       "  tensor([[[-5.0807e-04, -1.9588e-03, -8.1292e-04,  ..., -3.3062e-04,\n",
       "             3.7665e-04, -6.4507e-04],\n",
       "           [-5.6007e-04, -8.6956e-04,  9.3752e-04,  ...,  9.5111e-04,\n",
       "            -7.8647e-04,  2.6302e-03],\n",
       "           [ 6.2144e-03,  1.7193e-04, -3.1702e-03,  ...,  5.4402e-04,\n",
       "             1.3374e-03,  1.1155e-03],\n",
       "           ...,\n",
       "           [ 2.5323e-03,  3.9130e-04, -1.5681e-03,  ..., -2.6471e-04,\n",
       "             1.4352e-03, -7.7749e-04],\n",
       "           [ 9.4924e-04,  4.6493e-03,  2.2046e-03,  ...,  1.2738e-03,\n",
       "             1.1141e-03, -1.3586e-03],\n",
       "           [ 2.9799e-04, -6.0945e-06, -3.2465e-03,  ...,  1.3693e-03,\n",
       "            -2.5492e-03,  6.7127e-04]]], device='cuda:0'),\n",
       "  tensor([[[-3.8949e-04, -2.2578e+06,  1.3307e+06,  ...,  3.5778e+05,\n",
       "             8.8459e+05, -3.5200e+05],\n",
       "           [-1.0809e-04,  6.3503e+05, -3.2174e-04,  ...,  1.0514e+05,\n",
       "             4.0647e+05,  5.6998e+05],\n",
       "           [ 4.1853e+03,  2.7679e+05,  1.2105e+06,  ..., -5.4503e-04,\n",
       "             4.9713e+05, -1.0592e+05],\n",
       "           [ 2.9077e+05, -6.9873e+05, -9.6544e+04,  ...,  2.5002e+05,\n",
       "             1.0855e+05, -8.9446e+04],\n",
       "           [-1.4694e+06,  4.5338e+04, -3.1762e+05,  ...,  3.1320e+05,\n",
       "            -4.1074e+05,  2.9262e+05],\n",
       "           [ 1.1281e+06,  5.9269e+05, -8.5680e+05,  ..., -4.5759e+05,\n",
       "            -1.7945e+05,  1.6062e+05]]], device='cuda:0'),\n",
       "  tensor([[[-4.0263e-03,  1.6955e-05,  2.8840e-03,  ..., -3.0796e-03,\n",
       "             6.9289e-03, -2.8781e-03],\n",
       "           [ 2.7967e-03,  7.1476e-04, -2.1040e-03,  ..., -4.9710e-03,\n",
       "            -1.2148e-03, -7.5790e-04],\n",
       "           [ 9.0723e-05,  2.4364e-03, -4.1202e-03,  ..., -3.8963e-03,\n",
       "             1.1808e-03,  1.0811e-02],\n",
       "           ...,\n",
       "           [-2.9898e-03, -2.8540e-03,  1.5944e-03,  ..., -1.7240e-03,\n",
       "            -5.4200e-04,  3.7421e-03],\n",
       "           [ 6.0956e-03, -7.5070e-04, -7.0717e-04,  ...,  1.7311e-04,\n",
       "            -2.6240e-03, -7.0021e-04],\n",
       "           [ 1.0896e-03,  5.5040e-04,  9.3872e-05,  ...,  4.5451e-04,\n",
       "             9.7421e-04, -1.8752e-03]]], device='cuda:0'),\n",
       "  tensor([[[ 1.9251e+06,  7.8458e+05, -1.3701e+06,  ...,  1.2322e+05,\n",
       "             4.5237e+05,  1.4414e+05],\n",
       "           [-3.4848e+04, -7.0912e+05,  1.0411e+06,  ..., -7.4555e+05,\n",
       "             8.1943e+05, -9.6661e+05],\n",
       "           [-6.9414e-04, -9.5186e+05, -5.2868e+05,  ..., -7.9266e+05,\n",
       "             1.2562e+05, -1.3491e+06],\n",
       "           [-2.9604e+05, -3.7255e-02, -2.1564e+04,  ..., -6.2415e+05,\n",
       "             1.9873e+05,  3.7575e+05],\n",
       "           [ 1.8713e+05, -2.5179e+05, -2.4437e+05,  ...,  5.7406e+05,\n",
       "             1.7021e+06,  1.8443e+05]]], device='cuda:0'),\n",
       "  tensor([[[ 1.1330e-03, -1.0502e-04,  6.4264e-04,  ..., -1.9282e-04,\n",
       "            -5.4076e-04,  3.0923e-04],\n",
       "           [ 5.3923e-04, -3.7854e-04,  4.5077e-04,  ..., -6.1778e-04,\n",
       "             4.9386e-04,  3.9092e-05],\n",
       "           [-7.9514e-04,  3.2022e-04, -5.5752e-04,  ..., -4.1995e-04,\n",
       "             3.6331e-04,  2.5204e-04],\n",
       "           ...,\n",
       "           [ 5.0157e-04, -5.1416e-04, -2.3509e-04,  ..., -2.3946e-04,\n",
       "            -6.2208e-04, -4.1739e-04],\n",
       "           [ 3.0088e-04,  2.7040e-04,  3.7741e-04,  ...,  7.0394e-04,\n",
       "             8.4002e-04, -2.1567e-04],\n",
       "           [-9.2187e-05, -8.2753e-04, -6.1558e-04,  ..., -1.5339e-04,\n",
       "            -3.7678e-04, -6.5430e-04]]], device='cuda:0'),\n",
       "  tensor([[[-0.0072, -0.0005,  0.0044,  ..., -0.0087, -0.0062,  0.0052],\n",
       "           [ 0.0085,  0.0111, -0.0192,  ...,  0.0237,  0.0107,  0.0034],\n",
       "           [ 0.0045, -0.0024, -0.0092,  ..., -0.0128, -0.0143,  0.0169],\n",
       "           ...,\n",
       "           [ 0.0021,  0.0002,  0.0191,  ..., -0.0008, -0.0083, -0.0040],\n",
       "           [-0.0131, -0.0036,  0.0002,  ...,  0.0037,  0.0084,  0.0066],\n",
       "           [-0.0051, -0.0042,  0.0091,  ..., -0.0014, -0.0039, -0.0061]]],\n",
       "         device='cuda:0'),\n",
       "  tensor([[[ 1.3287e+06,  1.2464e+05,  2.9131e+04,  ..., -9.8000e+03,\n",
       "            -2.0178e+03,  1.4932e+04],\n",
       "           [ 8.8250e+02, -1.0922e-02,  2.4633e+03,  ...,  8.6922e+02,\n",
       "            -3.2064e+02, -9.4155e+03],\n",
       "           [ 6.9116e+03,  1.6789e+03, -3.3764e+03,  ..., -4.8993e+03,\n",
       "            -6.3946e+03, -7.9006e+03],\n",
       "           ...,\n",
       "           [ 2.5714e+03, -1.2462e+04, -8.5223e+03,  ...,  1.1923e+04,\n",
       "            -7.1110e+03,  8.3833e+03],\n",
       "           [ 1.5422e+04,  1.6496e+04,  1.4554e+04,  ...,  9.7548e+03,\n",
       "             5.4544e+03,  1.6163e+04],\n",
       "           [ 1.4787e+04,  2.8164e+03,  2.6904e+03,  ...,  3.4984e+03,\n",
       "            -9.4239e+03, -1.4549e-05]]], device='cuda:0'),\n",
       "  tensor([[[ -336971.3438,  2567958.5000, -1030448.5000,  ...,\n",
       "              350635.3125,  1173791.6250,  -134667.2969],\n",
       "           [  745672.6250,  -834098.3125,  -181943.2969,  ...,\n",
       "             -262621.2812,   227712.5156,  -690615.6250],\n",
       "           [ -110395.2734,  -137155.5469,   857553.0625,  ...,\n",
       "             -348160.9375,   402489.9375,  -251274.5781],\n",
       "           [-2246652.7500, -2708009.0000,  2098751.0000,  ...,\n",
       "             -638000.2500,   523446.0938,  1184192.7500],\n",
       "           [  984761.6250,  -712655.2500,    23617.8379,  ...,\n",
       "             -111670.3438,   330939.1562,  1357431.2500]]], device='cuda:0'),\n",
       "  tensor([[[-2.6924e+07,  2.2626e+06, -1.4927e+06,  ...,  1.7243e+06,\n",
       "            -6.3717e+05, -2.6274e+06],\n",
       "           [ 1.4566e+06, -3.6293e-04,  4.2702e+05,  ...,  1.7929e+06,\n",
       "             1.3411e+06, -6.3872e+05],\n",
       "           [ 4.2044e+05, -2.0083e+06, -4.7840e+05,  ...,  5.9373e+05,\n",
       "            -2.4242e+06, -1.6840e+06],\n",
       "           [ 1.6415e+06, -2.6903e-02, -6.0230e+05,  ..., -1.1675e+06,\n",
       "            -6.4886e+05, -6.9978e+05],\n",
       "           [-1.6266e+06,  1.2415e+06, -3.0056e+06,  ..., -1.6284e+06,\n",
       "            -6.7924e+05, -1.4038e+06]]], device='cuda:0'),\n",
       "  tensor([[[-1.4378e+06,  8.3218e+06, -3.3027e+06,  ..., -6.8035e+06,\n",
       "            -3.3547e+06, -1.6553e+06],\n",
       "           [-3.7253e+06, -3.6159e+06, -1.2419e+06,  ..., -3.9128e+06,\n",
       "            -4.8854e+05, -1.9898e+06],\n",
       "           [-9.0287e+04, -3.4949e+06, -4.0471e+06,  ..., -9.8380e+06,\n",
       "            -2.8403e+04,  3.5071e+06],\n",
       "           [-3.8698e+06,  5.2863e+05,  3.5644e+06,  ...,  1.4645e+06,\n",
       "             1.0376e-03,  1.1015e+06],\n",
       "           [ 3.8787e+06,  2.8934e+06,  5.2677e+06,  ...,  2.7070e+06,\n",
       "            -9.2688e+06,  8.4198e+05]]], device='cuda:0')],\n",
       " 'conti_attr_list': [tensor([ 0.3326, -0.7398,  0.0989,  0.5315, -0.2232]),\n",
       "  tensor([-0.1049,  0.0721, -0.4695,  0.1820,  0.1868]),\n",
       "  tensor([ 0.7390, -0.4312, -0.0348, -0.1417, -0.3374,  0.2103]),\n",
       "  tensor([-0.2654, -0.3558,  0.1724,  0.5362, -0.0006, -0.0443, -0.2312]),\n",
       "  tensor([ 0.1451, -0.1695,  0.0501,  0.0051,  0.1503,  0.4115,  0.1220,  0.1210,\n",
       "           0.2147, -0.0822,  0.2141,  0.2038, -0.0148,  0.1833,  0.1368,  0.3164,\n",
       "           0.0090, -0.0686,  0.0008,  0.1792,  0.0504, -0.0493,  0.0848,  0.1538,\n",
       "           0.0248,  0.0873, -0.0169,  0.0648]),\n",
       "  tensor([ 0.1292,  0.1135,  0.1927,  0.8598,  0.2565, -0.0644,  0.1480,  0.0362,\n",
       "           0.0113,  0.2581, -0.1846]),\n",
       "  tensor([-0.5807,  0.4241, -0.4068,  0.5634]),\n",
       "  tensor([ 0.7433, -0.1922, -0.0622, -0.1250, -0.0260, -0.2024, -0.0613,  0.1184,\n",
       "           0.2343,  0.1448, -0.1484,  0.0040, -0.0597, -0.0799,  0.1555, -0.1340,\n",
       "           0.1744,  0.1302,  0.0618,  0.0566, -0.1422, -0.3057, -0.0531, -0.0648,\n",
       "          -0.0232, -0.0338, -0.0166, -0.0595, -0.0330]),\n",
       "  tensor([-0.0794,  0.4261,  0.1582,  0.0274, -0.1588,  0.3761,  0.0392]),\n",
       "  tensor([-0.1055,  0.4394,  0.0479, -0.3466,  0.5623, -0.5976]),\n",
       "  tensor([ 0.8805,  0.0200, -0.0245, -0.0649, -0.0273,  0.0251, -0.1198,  0.1387,\n",
       "          -0.0812, -0.1340,  0.1445, -0.0340, -0.0854, -0.1226,  0.0045,  0.0254,\n",
       "          -0.0666, -0.0562, -0.0884, -0.0137, -0.0608]),\n",
       "  tensor([ 0.8739, -0.1230, -0.3194, -0.1016, -0.3299]),\n",
       "  tensor([ 0.4211,  0.0913,  0.1179, -0.3123, -0.1223,  0.1247, -0.2021,  0.1091,\n",
       "           0.2179, -0.0101,  0.0547,  0.1328, -0.0105, -0.2355]),\n",
       "  tensor([ 0.3197, -0.6898, -0.2353,  0.6054]),\n",
       "  tensor([-0.4526, -0.4183,  0.7825,  0.0883]),\n",
       "  tensor([ 0.0540,  0.3683, -0.7905]),\n",
       "  tensor([ 0.3110,  0.0367, -0.0359,  0.0170, -0.1098,  0.0040,  0.1547,  0.0384,\n",
       "          -0.2739,  0.3828,  0.2265, -0.5864,  0.0457, -0.1851,  0.1347, -0.4005]),\n",
       "  tensor([ 0.2992, -0.3088,  0.4196, -0.1012]),\n",
       "  tensor([-0.2121,  0.1039,  0.1689,  0.2544, -0.1071,  0.2507, -0.3212, -0.0012,\n",
       "           0.4168, -0.0560, -0.2102]),\n",
       "  tensor([ 0.8459, -0.0511, -0.3701, -0.3735]),\n",
       "  tensor([-0.0990, -0.3927,  0.0746,  0.1128,  0.0275,  0.4562,  0.0248,  0.0926,\n",
       "          -0.0508,  0.1004, -0.4334, -0.0079,  0.3881, -0.2881,  0.0051]),\n",
       "  tensor([-0.2777, -0.4970, -0.2901,  0.4212,  0.6436]),\n",
       "  tensor([ 0.7026, -0.7116,  0.0090]),\n",
       "  tensor([-0.6357,  0.0989, -0.1168,  0.0226, -0.2071,  0.2146, -0.3145,  0.1303,\n",
       "           0.3897,  0.3037,  0.0918]),\n",
       "  tensor([ 0.3879,  0.0236, -0.6853,  0.2501]),\n",
       "  tensor([ 0.2036, -0.1039,  0.4590, -0.1060,  0.1163,  0.1166, -0.0231,  0.1173,\n",
       "          -0.0894, -0.0370,  0.0470, -0.5497,  0.2209,  0.3041,  0.2508, -0.0519,\n",
       "          -0.0206,  0.3543]),\n",
       "  tensor([ 0.8128,  0.0059, -0.3638, -0.4549]),\n",
       "  tensor([ 0.4084, -0.1373, -0.0034, -0.5328,  0.6030, -0.3647]),\n",
       "  tensor([-0.7041,  0.0735,  0.1402,  0.3322,  0.1839, -0.0929, -0.2110]),\n",
       "  tensor([-0.2063, -0.4812, -0.0132,  0.1630, -0.0408, -0.0728, -0.2791, -0.1714,\n",
       "           0.1918,  0.3071, -0.1793,  0.1315,  0.1108,  0.2194, -0.0964,  0.1740,\n",
       "           0.1320, -0.1432, -0.3230, -0.2498,  0.0245]),\n",
       "  tensor([ 0.7933, -0.1453, -0.1265, -0.5727, -0.0206,  0.0718]),\n",
       "  tensor([ 0.7062, -0.4011, -0.5442,  0.2082,  0.0309]),\n",
       "  tensor([ 0.6418,  0.1822, -0.1043, -0.6358,  0.1712]),\n",
       "  tensor([-0.0501,  0.1095,  0.1668, -0.0148, -0.2483,  0.1835, -0.0111, -0.2491,\n",
       "          -0.0426, -0.3468, -0.1017, -0.0433,  0.1754,  0.1610, -0.1104,  0.0512,\n",
       "          -0.0199, -0.3136,  0.1728,  0.0259,  0.0607]),\n",
       "  tensor([ 0.3217,  0.2334, -0.7886]),\n",
       "  tensor([ 0.8886,  0.0435,  0.0801, -0.0292, -0.2766, -0.0287, -0.1871, -0.0153,\n",
       "          -0.0641, -0.1691,  0.0785, -0.0632, -0.1941]),\n",
       "  tensor([-0.4874,  0.2444,  0.2894, -0.5909]),\n",
       "  tensor([-0.5663, -0.2550,  0.7700, -0.0204,  0.0920]),\n",
       "  tensor([-0.7157,  0.2344,  0.1963, -0.0388,  0.4310,  0.0949, -0.3984]),\n",
       "  tensor([-0.4875,  0.3123, -0.1948,  0.5647]),\n",
       "  tensor([ 0.2248,  0.1939,  0.3009,  0.0104,  0.1405, -0.0317, -0.0775, -0.2094,\n",
       "           0.2983,  0.3004, -0.1615,  0.0428,  0.0203,  0.2732, -0.0950,  0.1855,\n",
       "           0.3175,  0.1519,  0.2952,  0.3340,  0.1184,  0.1793,  0.1437]),\n",
       "  tensor([ 0.8426,  0.1311, -0.3086, -0.1810, -0.1244, -0.3597]),\n",
       "  tensor([-0.2711,  0.0711, -0.0034,  0.0835,  0.0884, -0.0485, -0.3474, -0.2208,\n",
       "          -0.0326,  0.0936, -0.2256, -0.0106, -0.0392,  0.3000]),\n",
       "  tensor([-0.8635,  0.2437,  0.2293]),\n",
       "  tensor([ 0.2091,  0.0083, -0.1521,  0.0018, -0.2665, -0.1561,  0.0346,  0.0381,\n",
       "           0.2276,  0.0772, -0.0652, -0.0588,  0.1040, -0.0516,  0.0293, -0.1113,\n",
       "           0.0329,  0.0694,  0.0472,  0.0258, -0.1787,  0.1736,  0.0627,  0.0536,\n",
       "          -0.1430, -0.2884,  0.0383, -0.3550, -0.0553, -0.0167,  0.2365, -0.0527,\n",
       "           0.3283,  0.1910, -0.0869, -0.2162, -0.0053, -0.0676, -0.2507, -0.2099,\n",
       "           0.2488]),\n",
       "  tensor([-0.2562, -0.7082,  0.2698,  0.0356, -0.0606,  0.3494]),\n",
       "  tensor([ 0.8313,  0.0068, -0.0543, -0.2286, -0.1530,  0.0171,  0.0364]),\n",
       "  tensor([ 0.4416, -0.2890, -0.3794,  0.5158]),\n",
       "  tensor([-0.8901,  0.2503,  0.1661]),\n",
       "  tensor([ 0.2989, -0.1091,  0.3845])],\n",
       " 'raw_input_list': [['[CLS]', 'its', 'oscar', 'nomination', '[SEP]'],\n",
       "  ['[CLS]', 'shenanigans', 'and', 'slapstick', '[SEP]'],\n",
       "  ['[CLS]', 'an', 'unsettling', 'sight', ',', '[SEP]'],\n",
       "  ['[CLS]', 'the', 'climactic', 'hourlong', 'cricket', 'match', '[SEP]'],\n",
       "  ['[CLS]',\n",
       "   'alternating',\n",
       "   'between',\n",
       "   'facetious',\n",
       "   'comic',\n",
       "   'parody',\n",
       "   'and',\n",
       "   'pulp',\n",
       "   'melodrama',\n",
       "   ',',\n",
       "   'this',\n",
       "   'smart-aleck',\n",
       "   'movie',\n",
       "   '...',\n",
       "   'tosses',\n",
       "   'around',\n",
       "   'some',\n",
       "   'intriguing',\n",
       "   'questions',\n",
       "   'about',\n",
       "   'the',\n",
       "   'difference',\n",
       "   'between',\n",
       "   'human',\n",
       "   'and',\n",
       "   'android',\n",
       "   'life',\n",
       "   '[SEP]'],\n",
       "  ['[CLS]',\n",
       "   'to',\n",
       "   'be',\n",
       "   'a',\n",
       "   'part',\n",
       "   'of',\n",
       "   'that',\n",
       "   'elusive',\n",
       "   'adult',\n",
       "   'world',\n",
       "   '[SEP]'],\n",
       "  ['[CLS]', 'emotional', 'power', '[SEP]'],\n",
       "  ['[CLS]',\n",
       "   'reminds',\n",
       "   'you',\n",
       "   'of',\n",
       "   'why',\n",
       "   'animation',\n",
       "   'is',\n",
       "   'such',\n",
       "   'a',\n",
       "   'perfect',\n",
       "   'medium',\n",
       "   'for',\n",
       "   'children',\n",
       "   ',',\n",
       "   'because',\n",
       "   'of',\n",
       "   'the',\n",
       "   'way',\n",
       "   'it',\n",
       "   'allows',\n",
       "   'the',\n",
       "   'mind',\n",
       "   'to',\n",
       "   'enter',\n",
       "   'and',\n",
       "   'accept',\n",
       "   'another',\n",
       "   'world',\n",
       "   '[SEP]'],\n",
       "  ['[CLS]',\n",
       "   'unparalleled',\n",
       "   'proportions',\n",
       "   ',',\n",
       "   'writer-director',\n",
       "   'parker',\n",
       "   '[SEP]'],\n",
       "  ['[CLS]', 'this', 'surprisingly', 'decent', 'flick', '[SEP]'],\n",
       "  ['[CLS]',\n",
       "   'about',\n",
       "   'the',\n",
       "   'best',\n",
       "   'thing',\n",
       "   'you',\n",
       "   'could',\n",
       "   'say',\n",
       "   'about',\n",
       "   'narc',\n",
       "   'is',\n",
       "   'that',\n",
       "   'it',\n",
       "   \"'s\",\n",
       "   'a',\n",
       "   'rock-solid',\n",
       "   'little',\n",
       "   'genre',\n",
       "   'picture',\n",
       "   '.',\n",
       "   '[SEP]'],\n",
       "  ['[CLS]', 'the', 'very', 'best', '[SEP]'],\n",
       "  ['[CLS]',\n",
       "   'been',\n",
       "   'modeled',\n",
       "   'on',\n",
       "   'the',\n",
       "   'worst',\n",
       "   'revenge-of-the-nerds',\n",
       "   'cliches',\n",
       "   'the',\n",
       "   'filmmakers',\n",
       "   'could',\n",
       "   'dredge',\n",
       "   'up',\n",
       "   '[SEP]'],\n",
       "  ['[CLS]', 'tell', 'you', '[SEP]'],\n",
       "  ['[CLS]', 'utterly', 'absorbing', '[SEP]'],\n",
       "  ['[CLS]', 'restate', '[SEP]'],\n",
       "  ['[CLS]',\n",
       "   'bears',\n",
       "   'about',\n",
       "   'as',\n",
       "   'much',\n",
       "   'resemblance',\n",
       "   'to',\n",
       "   'the',\n",
       "   'experiences',\n",
       "   'of',\n",
       "   'most',\n",
       "   'battered',\n",
       "   'women',\n",
       "   'as',\n",
       "   'spider-man',\n",
       "   '[SEP]'],\n",
       "  ['[CLS]', 'expressively', 'performed', '[SEP]'],\n",
       "  ['[CLS]',\n",
       "   'the',\n",
       "   'acting',\n",
       "   'is',\n",
       "   'amateurish',\n",
       "   ',',\n",
       "   'the',\n",
       "   'cinematography',\n",
       "   'is',\n",
       "   'atrocious',\n",
       "   '[SEP]'],\n",
       "  ['[CLS]', 'solidly', 'constructed', '[SEP]'],\n",
       "  ['[CLS]',\n",
       "   'are',\n",
       "   'undermined',\n",
       "   'by',\n",
       "   'the',\n",
       "   'movie',\n",
       "   \"'s\",\n",
       "   'presentation',\n",
       "   ',',\n",
       "   'which',\n",
       "   'is',\n",
       "   'way',\n",
       "   'too',\n",
       "   'stagy',\n",
       "   '[SEP]'],\n",
       "  ['[CLS]', 'a', 'great', 'film', '[SEP]'],\n",
       "  ['[CLS]', 'charm', '[SEP]'],\n",
       "  ['[CLS]',\n",
       "   'this',\n",
       "   'new',\n",
       "   'jangle',\n",
       "   'of',\n",
       "   'noise',\n",
       "   ',',\n",
       "   'mayhem',\n",
       "   'and',\n",
       "   'stupidity',\n",
       "   '[SEP]'],\n",
       "  ['[CLS]', 'sustains', 'it', '[SEP]'],\n",
       "  ['[CLS]',\n",
       "   'is',\n",
       "   'so',\n",
       "   'deadly',\n",
       "   'dull',\n",
       "   'that',\n",
       "   'watching',\n",
       "   'the',\n",
       "   'proverbial',\n",
       "   'paint',\n",
       "   'dry',\n",
       "   'would',\n",
       "   'be',\n",
       "   'a',\n",
       "   'welcome',\n",
       "   'improvement',\n",
       "   '.',\n",
       "   '[SEP]'],\n",
       "  ['[CLS]', 'to', 'accomplish', '[SEP]'],\n",
       "  ['[CLS]', 'does', \"n't\", 'work', '.', '[SEP]'],\n",
       "  ['[CLS]', 'given', 'it', 'a', 'one-star', 'rating', '[SEP]'],\n",
       "  ['[CLS]',\n",
       "   'ice',\n",
       "   'cube',\n",
       "   'is',\n",
       "   \"n't\",\n",
       "   'quite',\n",
       "   'out',\n",
       "   'of',\n",
       "   'ripe',\n",
       "   'screwball',\n",
       "   'ideas',\n",
       "   ',',\n",
       "   'but',\n",
       "   'friday',\n",
       "   'after',\n",
       "   'next',\n",
       "   'spreads',\n",
       "   'them',\n",
       "   'pretty',\n",
       "   'thin',\n",
       "   '[SEP]'],\n",
       "  ['[CLS]', 'been', 'trying', 'to', 'forget', '[SEP]'],\n",
       "  ['[CLS]', 'big', 'stars', 'and', '[SEP]'],\n",
       "  ['[CLS]', 'of', 'cheesy', 'dialogue', '[SEP]'],\n",
       "  ['[CLS]',\n",
       "   'the',\n",
       "   'chateau',\n",
       "   'is',\n",
       "   'never',\n",
       "   'quite',\n",
       "   'able',\n",
       "   'to',\n",
       "   'overcome',\n",
       "   'the',\n",
       "   'cultural',\n",
       "   'moat',\n",
       "   'surrounding',\n",
       "   'its',\n",
       "   'ludicrous',\n",
       "   'and',\n",
       "   'contrived',\n",
       "   'plot',\n",
       "   '.',\n",
       "   \"'\",\n",
       "   '[SEP]'],\n",
       "  ['[CLS]', 'principled', '[SEP]'],\n",
       "  ['[CLS]',\n",
       "   'end',\n",
       "   'it',\n",
       "   'all',\n",
       "   'by',\n",
       "   'stuffing',\n",
       "   'himself',\n",
       "   'into',\n",
       "   'an',\n",
       "   'electric',\n",
       "   'pencil',\n",
       "   'sharpener',\n",
       "   '[SEP]'],\n",
       "  ['[CLS]', 'funniest', 'idea', '[SEP]'],\n",
       "  ['[CLS]', 'silly', 'and', 'tedious', '[SEP]'],\n",
       "  ['[CLS]', 'two', 'surefire', ',', 'beloved', 'genres', '[SEP]'],\n",
       "  ['[CLS]', 'most', 'charmless', '[SEP]'],\n",
       "  ['[CLS]',\n",
       "   'offers',\n",
       "   'us',\n",
       "   'the',\n",
       "   'sense',\n",
       "   'that',\n",
       "   'on',\n",
       "   'some',\n",
       "   'elemental',\n",
       "   'level',\n",
       "   ',',\n",
       "   'lilia',\n",
       "   'deeply',\n",
       "   'wants',\n",
       "   'to',\n",
       "   'break',\n",
       "   'free',\n",
       "   'of',\n",
       "   'her',\n",
       "   'old',\n",
       "   'life',\n",
       "   '.',\n",
       "   '[SEP]'],\n",
       "  ['[CLS]', 'might', 'be', 'best', 'forgotten', '[SEP]'],\n",
       "  ['[CLS]',\n",
       "   'a',\n",
       "   'substantial',\n",
       "   'arc',\n",
       "   'of',\n",
       "   'change',\n",
       "   'that',\n",
       "   'does',\n",
       "   \"n't\",\n",
       "   'produce',\n",
       "   'any',\n",
       "   'real',\n",
       "   'transformation',\n",
       "   '[SEP]'],\n",
       "  ['[CLS]', 'unadorned', '[SEP]'],\n",
       "  ['[CLS]',\n",
       "   'this',\n",
       "   'is',\n",
       "   'the',\n",
       "   'kind',\n",
       "   'of',\n",
       "   'movie',\n",
       "   'that',\n",
       "   'you',\n",
       "   'only',\n",
       "   'need',\n",
       "   'to',\n",
       "   'watch',\n",
       "   'for',\n",
       "   'about',\n",
       "   'thirty',\n",
       "   'seconds',\n",
       "   'before',\n",
       "   'you',\n",
       "   'say',\n",
       "   'to',\n",
       "   'yourself',\n",
       "   ',',\n",
       "   '`',\n",
       "   'ah',\n",
       "   ',',\n",
       "   'yes',\n",
       "   ',',\n",
       "   'here',\n",
       "   'we',\n",
       "   'have',\n",
       "   'a',\n",
       "   'bad',\n",
       "   ',',\n",
       "   'bad',\n",
       "   ',',\n",
       "   'bad',\n",
       "   'movie',\n",
       "   '.',\n",
       "   \"'\",\n",
       "   '[SEP]'],\n",
       "  ['[CLS]', 'feel', 'sanitised', 'and', 'stagey', '[SEP]'],\n",
       "  ['[CLS]',\n",
       "   'replete',\n",
       "   'with',\n",
       "   'stereotypical',\n",
       "   'familial',\n",
       "   'quandaries',\n",
       "   '[SEP]'],\n",
       "  ['[CLS]', 'quirky', 'comedy', '[SEP]'],\n",
       "  ['[CLS]', 'unrewarding', '[SEP]'],\n",
       "  ['[CLS]', 'old-hat', '[SEP]']]}"
      ]
     },
     "execution_count": 10,
     "metadata": {},
     "output_type": "execute_result"
    }
   ],
   "source": [
    "save_info(idxs, sst2_data_raw, targets, model_out_list, raw_attr_list, conti_attr_list, raw_input_list, \n",
    "          fname=f'../MethodOutputs/{file_name_base}_out.pkl')"
   ]
  },
  {
   "cell_type": "code",
   "execution_count": 11,
   "id": "db9de1f3",
   "metadata": {},
   "outputs": [
    {
     "data": {
      "application/javascript": [
       "IPython.notebook.save_notebook()"
      ]
     },
     "metadata": {},
     "output_type": "display_data"
    }
   ],
   "source": [
    "download_HTML(cur_file_name=f'{file_name_base}_SST2_BERT.ipynb',\n",
    "              out_file_name=f'{file_name_base}_SST2_BERT.html')"
   ]
  },
  {
   "cell_type": "code",
   "execution_count": 12,
   "id": "1ef8fc76",
   "metadata": {},
   "outputs": [
    {
     "data": {
      "text/plain": [
       "'NVIDIA GeForce RTX 3090'"
      ]
     },
     "execution_count": 12,
     "metadata": {},
     "output_type": "execute_result"
    }
   ],
   "source": [
    "torch.cuda.get_device_name()"
   ]
  },
  {
   "cell_type": "code",
   "execution_count": null,
   "id": "463f1303",
   "metadata": {},
   "outputs": [],
   "source": []
  },
  {
   "cell_type": "code",
   "execution_count": null,
   "id": "8117f311",
   "metadata": {},
   "outputs": [],
   "source": []
  }
 ],
 "metadata": {
  "kernelspec": {
   "display_name": "Python 3 (ipykernel)",
   "language": "python",
   "name": "python3"
  },
  "language_info": {
   "codemirror_mode": {
    "name": "ipython",
    "version": 3
   },
   "file_extension": ".py",
   "mimetype": "text/x-python",
   "name": "python",
   "nbconvert_exporter": "python",
   "pygments_lexer": "ipython3",
   "version": "3.9.13"
  }
 },
 "nbformat": 4,
 "nbformat_minor": 5
}
