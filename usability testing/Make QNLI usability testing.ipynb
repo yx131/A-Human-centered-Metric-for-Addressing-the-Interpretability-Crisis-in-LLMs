{
 "cells": [
  {
   "cell_type": "code",
   "execution_count": 1,
   "id": "46719172",
   "metadata": {},
   "outputs": [],
   "source": [
    "import re\n",
    "import html\n",
    "import pickle\n",
    "import pandas as pd\n",
    "import numpy as np\n",
    "random_state = 20\n",
    "RS = np.random.RandomState(random_state)"
   ]
  },
  {
   "cell_type": "code",
   "execution_count": 2,
   "id": "7f0757a4",
   "metadata": {},
   "outputs": [],
   "source": [
    "frame_names = ['lime', 'integrated_gradients', 'guided_backprop', 'kernel_shap', 'input_x_gradients', 'deeplift']\n",
    "frame_names_idx_dict = {frame_names[i]: i for i in range(len(frame_names))}\n",
    "samples_per_frame = 5"
   ]
  },
  {
   "cell_type": "code",
   "execution_count": 3,
   "id": "5e51ec28",
   "metadata": {},
   "outputs": [],
   "source": [
    "def get_explanations_and_out_qnli(frame_name):\n",
    "    exps = pd.read_csv(f'{frame_name}_qnli.csv')\n",
    "    outs = pickle.load(open(f'{frame_name}_out.pkl', 'rb'))\n",
    "    \n",
    "    #50 samples per explanation framework\n",
    "    frame_seed = RS.randint(low=0,high=50)\n",
    "\n",
    "    random_samples = exps.sample(n=samples_per_frame, random_state=frame_seed)\n",
    "    rs_idx = random_samples.index\n",
    "\n",
    "    questions = random_samples['question']\n",
    "    paragraphs = random_samples['paragraph']    \n",
    "    \n",
    "    model_outs = np.array(outs[\"model_out_list\"])[rs_idx]\n",
    "    outs = ['Entailment' if k > 0.5 else 'Non-entailment' for k in model_outs]\n",
    "\n",
    "    return questions, paragraphs, outs, rs_idx"
   ]
  },
  {
   "cell_type": "code",
   "execution_count": 4,
   "id": "d73d8969",
   "metadata": {},
   "outputs": [],
   "source": [
    "def get_explanations_and_out_for_all_frames_qnli(frame_names):\n",
    "    all_questions, all_paragraphs, all_outs, all_rs_idx = [], [], [], {}\n",
    "    for frame_name in frame_names:\n",
    "        questions, paragraphs, outs, rs_idx = get_explanations_and_out_qnli(frame_name)\n",
    "        all_questions += questions.tolist()\n",
    "        all_paragraphs += paragraphs.tolist()        \n",
    "        all_outs += outs\n",
    "        all_rs_idx[frame_name] = rs_idx.tolist()\n",
    "    \n",
    "    return all_questions, all_paragraphs, all_outs, all_rs_idx"
   ]
  },
  {
   "cell_type": "code",
   "execution_count": 5,
   "id": "3eb1973c",
   "metadata": {},
   "outputs": [],
   "source": [
    "qnli_base_usability_file = open('qnli_base.html',mode='r')\n",
    "qnli_base_html = qnli_base_usability_file.read()\n",
    "qnli_individual_usability_file = open('qnli_individual.html',mode='r')\n",
    "qnli_individual_html = qnli_individual_usability_file.read()\n",
    "\n",
    "def gen_usability_samples(questions, paragraphs, outs):\n",
    "    all_i_samples = []\n",
    "    for i, (q,p,o) in enumerate(zip(questions, paragraphs, outs)):\n",
    "        i_with_example_number = re.sub('\\[TO REPLACE EXAMPLE NUMBER\\]', str(i), qnli_individual_html)\n",
    "        i_with_question = re.sub('\\[TO REPLACE QUESTION\\]', q, i_with_example_number)\n",
    "        i_with_paragraph = re.sub('\\[TO REPLACE PARAGRAPH\\]', p, i_with_question)        \n",
    "        i_with_model_out= re.sub('\\[TO REPLACE MODEL OUT\\]', o, i_with_paragraph)    \n",
    "        all_i_samples.append(i_with_model_out)\n",
    "    \n",
    "    all_i_samples = '\\n\\n'.join(all_i_samples)\n",
    "    return all_i_samples"
   ]
  },
  {
   "cell_type": "code",
   "execution_count": 6,
   "id": "61b877ab",
   "metadata": {},
   "outputs": [],
   "source": [
    "def gen_usability_test_file(frame_names):\n",
    "    all_questions, all_paragraphs, all_outs, all_rs_idx = get_explanations_and_out_for_all_frames_qnli(frame_names)\n",
    "    usability_samples = gen_usability_samples(all_questions, all_paragraphs, all_outs)\n",
    "    qnli_usability_test_html = re.sub('\\[TO REPLACE USABILITY SAMPLES\\]', usability_samples, qnli_base_html)\n",
    "    with open('qnli_usability_test.html', 'w') as f:\n",
    "        f.write(f'{qnli_usability_test_html}')\n",
    "#     print(f'{qnli_usability_test_html}')\n",
    "\n",
    "\n",
    "    with open(f'random_sample_indices.pkl', 'wb') as f:\n",
    "        pickle.dump(all_rs_idx, f)\n",
    "    \n"
   ]
  },
  {
   "cell_type": "code",
   "execution_count": 7,
   "id": "f801f0fc",
   "metadata": {
    "scrolled": false
   },
   "outputs": [],
   "source": [
    "gen_usability_test_file(frame_names)"
   ]
  },
  {
   "cell_type": "code",
   "execution_count": 8,
   "id": "ee19785b",
   "metadata": {},
   "outputs": [
    {
     "name": "stdout",
     "output_type": "stream",
     "text": [
      "{'lime': [39, 26, 22, 31, 29], 'integrated_gradients': [2, 43, 10, 14, 44], 'guided_backprop': [35, 37, 41, 26, 38], 'kernel_shap': [32, 4, 5, 31, 2], 'input_x_gradients': [11, 16, 9, 31, 27], 'deeplift': [2, 43, 10, 14, 44]}\n"
     ]
    }
   ],
   "source": [
    "with open(f'random_sample_indices.pkl', 'rb') as f:\n",
    "    thing = pickle.load(f)\n",
    "    print(thing)\n",
    "    "
   ]
  },
  {
   "cell_type": "code",
   "execution_count": null,
   "id": "3bd935d5",
   "metadata": {},
   "outputs": [],
   "source": []
  }
 ],
 "metadata": {
  "kernelspec": {
   "display_name": "Python 3 (ipykernel)",
   "language": "python",
   "name": "python3"
  },
  "language_info": {
   "codemirror_mode": {
    "name": "ipython",
    "version": 3
   },
   "file_extension": ".py",
   "mimetype": "text/x-python",
   "name": "python",
   "nbconvert_exporter": "python",
   "pygments_lexer": "ipython3",
   "version": "3.9.7"
  }
 },
 "nbformat": 4,
 "nbformat_minor": 5
}
