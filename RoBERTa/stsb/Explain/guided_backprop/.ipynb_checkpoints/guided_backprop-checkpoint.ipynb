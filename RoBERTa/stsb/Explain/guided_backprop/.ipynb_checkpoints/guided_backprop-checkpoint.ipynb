{
 "cells": [
  {
   "cell_type": "code",
   "execution_count": 1,
   "id": "806fb4a1",
   "metadata": {},
   "outputs": [],
   "source": [
    "import sys, time, pickle, torch\n",
    "sys.path.insert(0, '../../Models')\n",
    "sys.path.insert(0, '../../Utils')\n",
    "sys.path.insert(0, '../../Preprocess')\n",
    "import numpy as np\n",
    "import pandas as pd\n",
    "from preload_models import get_sst2_tok_n_model\n",
    "from _utils import sample_random_glue_sst2, get_continuation_mapping, \\\n",
    "                    get_continuous_attributions, get_continuous_raw_inputs, \\\n",
    "                    collect_info_for_metric, save_info"
   ]
  },
  {
   "cell_type": "code",
   "execution_count": 2,
   "id": "dd38a1a9",
   "metadata": {},
   "outputs": [
    {
     "name": "stderr",
     "output_type": "stream",
     "text": [
      "Reusing dataset glue (/home/user/.cache/huggingface/datasets/glue/sst2/1.0.0/dacbe3125aa31d7f70367a07a8a9e72a5a0bfeb5fc42e75c9db75b96da6053ad)\n"
     ]
    },
    {
     "data": {
      "application/vnd.jupyter.widget-view+json": {
       "model_id": "8d3095bf7d4d42a0a1c8f8626ac60d62",
       "version_major": 2,
       "version_minor": 0
      },
      "text/plain": [
       "  0%|          | 0/3 [00:00<?, ?it/s]"
      ]
     },
     "metadata": {},
     "output_type": "display_data"
    },
    {
     "name": "stderr",
     "output_type": "stream",
     "text": [
      "Loading cached processed dataset at /home/user/.cache/huggingface/datasets/glue/sst2/1.0.0/dacbe3125aa31d7f70367a07a8a9e72a5a0bfeb5fc42e75c9db75b96da6053ad/cache-3b24abff24d1d8c0.arrow\n",
      "Loading cached processed dataset at /home/user/.cache/huggingface/datasets/glue/sst2/1.0.0/dacbe3125aa31d7f70367a07a8a9e72a5a0bfeb5fc42e75c9db75b96da6053ad/cache-5960909ab3834668.arrow\n"
     ]
    }
   ],
   "source": [
    "sst2_data_raw, targets, idxs = sample_random_glue_sst2()"
   ]
  },
  {
   "cell_type": "code",
   "execution_count": 3,
   "id": "c90c47e9",
   "metadata": {},
   "outputs": [],
   "source": [
    "tokenizer, model = get_sst2_tok_n_model()"
   ]
  },
  {
   "cell_type": "code",
   "execution_count": 4,
   "id": "17be71bc",
   "metadata": {},
   "outputs": [],
   "source": [
    "#define some containers to save some info\n",
    "model_out_list, raw_attr_list, conti_attr_list, raw_input_list = [], [], [], []"
   ]
  },
  {
   "cell_type": "code",
   "execution_count": 5,
   "id": "d272625c",
   "metadata": {},
   "outputs": [],
   "source": [
    "from captum.attr import GuidedBackprop\n",
    "from captum.attr import visualization "
   ]
  },
  {
   "cell_type": "code",
   "execution_count": 6,
   "id": "8067da5f",
   "metadata": {},
   "outputs": [],
   "source": [
    "# lime = Lime(forward_func=model.forward)\n",
    "gbp  = GuidedBackprop(model)"
   ]
  },
  {
   "cell_type": "code",
   "execution_count": 7,
   "id": "c47d4631",
   "metadata": {},
   "outputs": [],
   "source": [
    "def generate_record(raw_review, target):\n",
    "    #tokenizer operations\n",
    "    tokenized = tokenizer(raw_review, truncation=True, return_offsets_mapping=True)\n",
    "    offset_mapping = tokenized['offset_mapping']\n",
    "    conti_map = get_continuation_mapping(offset_mapping)\n",
    "    input_ids = torch.tensor(tokenized['input_ids']).unsqueeze(0)\n",
    "    detokenized = [t.replace('Ġ', '') for t in tokenizer.convert_ids_to_tokens(input_ids[0])]\n",
    "    \n",
    "    #feeding input forward \n",
    "    input_emb = model.get_embeddings(input_ids)\n",
    "    pred_prob = model(input_emb).item()\n",
    "    \n",
    "    #categorizing results\n",
    "    pred_class = 'Pos' if pred_prob > 0.5 else 'Neg' \n",
    "    true_class = 'Pos' if target > 0.5 else 'Neg' \n",
    "    \n",
    "    #attribution algorithm working\n",
    "    attribution = gbp.attribute(input_emb)\n",
    "    word_attributions = attribution.squeeze(0).sum(dim=1)\n",
    "    word_attributions /= torch.norm(word_attributions)\n",
    "    attr_score = torch.sum(word_attributions)\n",
    "    attr_class = 'Pos' if attr_score > 0.5 else 'Neg'\n",
    "    convergence_score = None\n",
    "    \n",
    "    \n",
    "    #re-organizing tensors and arrays because words get split down\n",
    "    conti_attr = get_continuous_attributions(conti_map, word_attributions)\n",
    "    raw_input = get_continuous_raw_inputs(conti_map, detokenized)\n",
    "\n",
    "#     print(f'word attributions {word_attributions}')\n",
    "#     print(f'pred_prob {pred_prob}')\n",
    "#     print(f'pred_class {pred_class}')\n",
    "#     print(f'true_class {true_class}')\n",
    "#     print(f'attribution {attribution}')\n",
    "#     print(f'attr_class {attr_class}')\n",
    "#     print(f'attr_score {attr_score}')\n",
    "#     print(f'raw_input {raw_input}')\n",
    "\n",
    "        \n",
    "#     collect info for metrics later\n",
    "    collect_info_for_metric(model_out_list, pred_prob, raw_attr_list, attribution, conti_attr_list, conti_attr, raw_input_list, raw_input)\n",
    "        \n",
    "    \n",
    "    visual_record = visualization.VisualizationDataRecord(word_attributions=word_attributions,\n",
    "                                                         pred_prob=pred_prob,\n",
    "                                                         pred_class=pred_class,\n",
    "                                                         true_class=true_class,\n",
    "                                                         attr_class=attr_class,\n",
    "                                                         attr_score=attr_score,\n",
    "                                                         raw_input=raw_input,\n",
    "                                                         convergence_score=convergence_score)\n",
    "        \n",
    "        \n",
    "    return visual_record\n",
    "      \n",
    "    "
   ]
  },
  {
   "cell_type": "code",
   "execution_count": 8,
   "id": "37efa6df",
   "metadata": {
    "scrolled": false
   },
   "outputs": [
    {
     "name": "stdout",
     "output_type": "stream",
     "text": [
      "Raw review: its oscar nomination \n",
      "GT target: 1\n"
     ]
    },
    {
     "name": "stderr",
     "output_type": "stream",
     "text": [
      "/home/user/anaconda3/envs/py38/lib/python3.9/site-packages/captum/attr/_core/guided_backprop_deconvnet.py:60: UserWarning: Setting backward hooks on ReLU activations.The hooks will be removed after the attribution is finished\n",
      "  warnings.warn(\n"
     ]
    },
    {
     "name": "stdout",
     "output_type": "stream",
     "text": [
      "word attr tensor([ 0.7291,  0.1628,  0.0609,  0.0981, -0.5092, -0.3859,  0.1428])\n",
      "conti attr [tensor(0.7291), tensor(0.1628), tensor(0.1590), tensor(-0.5092), tensor(-0.3859), tensor(0.1428)]\n",
      "detokenized ['<s>', 'its', 'o', 'scar', 'nomination', '', '</s>']\n",
      "len conti_raw 6\n",
      "conti_raw ['<s>', 'its', 'oscar', 'nomination', '', '</s>']\n"
     ]
    },
    {
     "data": {
      "text/html": [
       "<table width: 100%><div style=\"border-top: 1px solid; margin-top: 5px;             padding-top: 5px; display: inline-block\"><b>Legend: </b><span style=\"display: inline-block; width: 10px; height: 10px;                 border: 1px solid; background-color:                 hsl(0, 75%, 60%)\"></span> Negative  <span style=\"display: inline-block; width: 10px; height: 10px;                 border: 1px solid; background-color:                 hsl(0, 75%, 100%)\"></span> Neutral  <span style=\"display: inline-block; width: 10px; height: 10px;                 border: 1px solid; background-color:                 hsl(120, 75%, 50%)\"></span> Positive  </div><tr><th>True Label</th><th>Predicted Label</th><th>Attribution Label</th><th>Attribution Score</th><th>Word Importance</th><tr><td><text style=\"padding-right:2em\"><b>Pos</b></text></td><td><text style=\"padding-right:2em\"><b>Pos (1.00)</b></text></td><td><text style=\"padding-right:2em\"><b>Neg</b></text></td><td><text style=\"padding-right:2em\"><b>0.30</b></text></td><td><mark style=\"background-color: hsl(120, 75%, 64%); opacity:1.0;                     line-height:1.75\"><font color=\"black\"> #s                    </font></mark><mark style=\"background-color: hsl(120, 75%, 92%); opacity:1.0;                     line-height:1.75\"><font color=\"black\"> its                    </font></mark><mark style=\"background-color: hsl(120, 75%, 97%); opacity:1.0;                     line-height:1.75\"><font color=\"black\"> oscar                    </font></mark><mark style=\"background-color: hsl(120, 75%, 96%); opacity:1.0;                     line-height:1.75\"><font color=\"black\"> nomination                    </font></mark><mark style=\"background-color: hsl(0, 75%, 80%); opacity:1.0;                     line-height:1.75\"><font color=\"black\">                     </font></mark><mark style=\"background-color: hsl(0, 75%, 85%); opacity:1.0;                     line-height:1.75\"><font color=\"black\"> #/s                    </font></mark></td><tr></table>"
      ],
      "text/plain": [
       "<IPython.core.display.HTML object>"
      ]
     },
     "metadata": {},
     "output_type": "display_data"
    },
    {
     "name": "stdout",
     "output_type": "stream",
     "text": [
      "<IPython.core.display.HTML object>\n",
      "Raw review: shenanigans and slapstick \n",
      "GT target: 1\n",
      "word attr tensor([-0.0625, -0.1225,  0.1992,  0.1630, -0.4068, -0.1181, -0.7813,  0.2860,\n",
      "         0.1991, -0.0590])\n",
      "conti attr [tensor(-0.0625), tensor(-0.1671), tensor(-0.1181), tensor(-0.4953), tensor(0.1991), tensor(-0.0590)]\n",
      "detokenized ['<s>', 's', 'hen', 'an', 'igans', 'and', 'slap', 'stick', '', '</s>']\n",
      "len conti_raw 6\n",
      "conti_raw ['<s>', 'shenanigans', 'and', 'slapstick', '', '</s>']\n"
     ]
    },
    {
     "data": {
      "text/html": [
       "<table width: 100%><div style=\"border-top: 1px solid; margin-top: 5px;             padding-top: 5px; display: inline-block\"><b>Legend: </b><span style=\"display: inline-block; width: 10px; height: 10px;                 border: 1px solid; background-color:                 hsl(0, 75%, 60%)\"></span> Negative  <span style=\"display: inline-block; width: 10px; height: 10px;                 border: 1px solid; background-color:                 hsl(0, 75%, 100%)\"></span> Neutral  <span style=\"display: inline-block; width: 10px; height: 10px;                 border: 1px solid; background-color:                 hsl(120, 75%, 50%)\"></span> Positive  </div><tr><th>True Label</th><th>Predicted Label</th><th>Attribution Label</th><th>Attribution Score</th><th>Word Importance</th><tr><td><text style=\"padding-right:2em\"><b>Pos</b></text></td><td><text style=\"padding-right:2em\"><b>Pos (1.00)</b></text></td><td><text style=\"padding-right:2em\"><b>Neg</b></text></td><td><text style=\"padding-right:2em\"><b>-0.70</b></text></td><td><mark style=\"background-color: hsl(0, 75%, 98%); opacity:1.0;                     line-height:1.75\"><font color=\"black\"> #s                    </font></mark><mark style=\"background-color: hsl(0, 75%, 96%); opacity:1.0;                     line-height:1.75\"><font color=\"black\"> shenanigans                    </font></mark><mark style=\"background-color: hsl(120, 75%, 91%); opacity:1.0;                     line-height:1.75\"><font color=\"black\"> and                    </font></mark><mark style=\"background-color: hsl(120, 75%, 92%); opacity:1.0;                     line-height:1.75\"><font color=\"black\"> slapstick                    </font></mark><mark style=\"background-color: hsl(0, 75%, 84%); opacity:1.0;                     line-height:1.75\"><font color=\"black\">                     </font></mark><mark style=\"background-color: hsl(0, 75%, 96%); opacity:1.0;                     line-height:1.75\"><font color=\"black\"> #/s                    </font></mark></td><tr></table>"
      ],
      "text/plain": [
       "<IPython.core.display.HTML object>"
      ]
     },
     "metadata": {},
     "output_type": "display_data"
    },
    {
     "name": "stdout",
     "output_type": "stream",
     "text": [
      "<IPython.core.display.HTML object>\n",
      "Raw review: an unsettling sight , \n",
      "GT target: 0\n",
      "word attr tensor([ 0.8136, -0.2304,  0.0017,  0.5215,  0.0944, -0.0265,  0.0574])\n",
      "conti attr [tensor(0.8136), tensor(-0.2304), tensor(0.0017), tensor(0.5215), tensor(0.0944), tensor(-0.0265), tensor(0.0574)]\n",
      "detokenized ['<s>', 'an', 'unsettling', 'sight', ',', '', '</s>']\n",
      "len conti_raw 7\n",
      "conti_raw ['<s>', 'an', 'unsettling', 'sight', ',', '', '</s>']\n"
     ]
    },
    {
     "data": {
      "text/html": [
       "<table width: 100%><div style=\"border-top: 1px solid; margin-top: 5px;             padding-top: 5px; display: inline-block\"><b>Legend: </b><span style=\"display: inline-block; width: 10px; height: 10px;                 border: 1px solid; background-color:                 hsl(0, 75%, 60%)\"></span> Negative  <span style=\"display: inline-block; width: 10px; height: 10px;                 border: 1px solid; background-color:                 hsl(0, 75%, 100%)\"></span> Neutral  <span style=\"display: inline-block; width: 10px; height: 10px;                 border: 1px solid; background-color:                 hsl(120, 75%, 50%)\"></span> Positive  </div><tr><th>True Label</th><th>Predicted Label</th><th>Attribution Label</th><th>Attribution Score</th><th>Word Importance</th><tr><td><text style=\"padding-right:2em\"><b>Neg</b></text></td><td><text style=\"padding-right:2em\"><b>Neg (0.01)</b></text></td><td><text style=\"padding-right:2em\"><b>Pos</b></text></td><td><text style=\"padding-right:2em\"><b>1.23</b></text></td><td><mark style=\"background-color: hsl(120, 75%, 60%); opacity:1.0;                     line-height:1.75\"><font color=\"black\"> #s                    </font></mark><mark style=\"background-color: hsl(0, 75%, 91%); opacity:1.0;                     line-height:1.75\"><font color=\"black\"> an                    </font></mark><mark style=\"background-color: hsl(120, 75%, 100%); opacity:1.0;                     line-height:1.75\"><font color=\"black\"> unsettling                    </font></mark><mark style=\"background-color: hsl(120, 75%, 74%); opacity:1.0;                     line-height:1.75\"><font color=\"black\"> sight                    </font></mark><mark style=\"background-color: hsl(120, 75%, 96%); opacity:1.0;                     line-height:1.75\"><font color=\"black\"> ,                    </font></mark><mark style=\"background-color: hsl(0, 75%, 99%); opacity:1.0;                     line-height:1.75\"><font color=\"black\">                     </font></mark><mark style=\"background-color: hsl(120, 75%, 98%); opacity:1.0;                     line-height:1.75\"><font color=\"black\"> #/s                    </font></mark></td><tr></table>"
      ],
      "text/plain": [
       "<IPython.core.display.HTML object>"
      ]
     },
     "metadata": {},
     "output_type": "display_data"
    },
    {
     "name": "stdout",
     "output_type": "stream",
     "text": [
      "<IPython.core.display.HTML object>\n",
      "Raw review: the climactic hourlong cricket match \n",
      "GT target: 1\n",
      "word attr tensor([ 0.6223,  0.2575,  0.1943, -0.5294,  0.1818, -0.2511,  0.1249, -0.2662,\n",
      "         0.0312, -0.2121])\n",
      "conti attr [tensor(0.6223), tensor(0.2575), tensor(-0.3351), tensor(-0.0693), tensor(0.1249), tensor(-0.2662), tensor(0.0312), tensor(-0.2121)]\n",
      "detokenized ['<s>', 'the', 'clim', 'actic', 'hour', 'long', 'cricket', 'match', '', '</s>']\n",
      "len conti_raw 8\n",
      "conti_raw ['<s>', 'the', 'climactic', 'hourlong', 'cricket', 'match', '', '</s>']\n"
     ]
    },
    {
     "data": {
      "text/html": [
       "<table width: 100%><div style=\"border-top: 1px solid; margin-top: 5px;             padding-top: 5px; display: inline-block\"><b>Legend: </b><span style=\"display: inline-block; width: 10px; height: 10px;                 border: 1px solid; background-color:                 hsl(0, 75%, 60%)\"></span> Negative  <span style=\"display: inline-block; width: 10px; height: 10px;                 border: 1px solid; background-color:                 hsl(0, 75%, 100%)\"></span> Neutral  <span style=\"display: inline-block; width: 10px; height: 10px;                 border: 1px solid; background-color:                 hsl(120, 75%, 50%)\"></span> Positive  </div><tr><th>True Label</th><th>Predicted Label</th><th>Attribution Label</th><th>Attribution Score</th><th>Word Importance</th><tr><td><text style=\"padding-right:2em\"><b>Pos</b></text></td><td><text style=\"padding-right:2em\"><b>Pos (1.00)</b></text></td><td><text style=\"padding-right:2em\"><b>Neg</b></text></td><td><text style=\"padding-right:2em\"><b>0.15</b></text></td><td><mark style=\"background-color: hsl(120, 75%, 69%); opacity:1.0;                     line-height:1.75\"><font color=\"black\"> #s                    </font></mark><mark style=\"background-color: hsl(120, 75%, 88%); opacity:1.0;                     line-height:1.75\"><font color=\"black\"> the                    </font></mark><mark style=\"background-color: hsl(120, 75%, 91%); opacity:1.0;                     line-height:1.75\"><font color=\"black\"> climactic                    </font></mark><mark style=\"background-color: hsl(0, 75%, 79%); opacity:1.0;                     line-height:1.75\"><font color=\"black\"> hourlong                    </font></mark><mark style=\"background-color: hsl(120, 75%, 91%); opacity:1.0;                     line-height:1.75\"><font color=\"black\"> cricket                    </font></mark><mark style=\"background-color: hsl(0, 75%, 90%); opacity:1.0;                     line-height:1.75\"><font color=\"black\"> match                    </font></mark><mark style=\"background-color: hsl(120, 75%, 94%); opacity:1.0;                     line-height:1.75\"><font color=\"black\">                     </font></mark><mark style=\"background-color: hsl(0, 75%, 90%); opacity:1.0;                     line-height:1.75\"><font color=\"black\"> #/s                    </font></mark></td><tr></table>"
      ],
      "text/plain": [
       "<IPython.core.display.HTML object>"
      ]
     },
     "metadata": {},
     "output_type": "display_data"
    },
    {
     "name": "stdout",
     "output_type": "stream",
     "text": [
      "<IPython.core.display.HTML object>\n",
      "Raw review: alternating between facetious comic parody and pulp melodrama , this smart-aleck movie ... tosses around some intriguing questions about the difference between human and android life \n",
      "GT target: 1\n",
      "word attr tensor([ 0.3847,  0.4326, -0.0055,  0.1519, -0.2699,  0.0938,  0.0641,  0.2586,\n",
      "         0.0921,  0.1984,  0.0529,  0.0629,  0.1820,  0.1362,  0.1950, -0.3323,\n",
      "        -0.0490, -0.0208,  0.1224, -0.1237, -0.0586,  0.1729,  0.1578,  0.0369,\n",
      "         0.1248, -0.0992,  0.0999,  0.0479,  0.0772,  0.0272, -0.0058,  0.0030,\n",
      "         0.0083,  0.2164,  0.0251,  0.1580,  0.1578])\n",
      "conti attr [tensor(0.3847), tensor(0.4270), tensor(0.1519), tensor(-0.1761), tensor(0.0641), tensor(0.2586), tensor(0.0921), tensor(0.1984), tensor(0.2979), tensor(0.1362), tensor(0.1950), tensor(-0.2797), tensor(-0.1237), tensor(-0.0586), tensor(0.3307), tensor(0.0369), tensor(0.1248), tensor(-0.0992), tensor(0.0999), tensor(0.0479), tensor(0.0772), tensor(0.0272), tensor(-0.0058), tensor(0.0030), tensor(0.0083), tensor(0.2164), tensor(0.0251), tensor(0.1580), tensor(0.1578)]\n",
      "detokenized ['<s>', 'altern', 'ating', 'between', 'facet', 'ious', 'comic', 'parody', 'and', 'pulp', 'mel', 'od', 'rama', ',', 'this', 'smart', '-', 'ale', 'ck', 'movie', '...', 'toss', 'es', 'around', 'some', 'intriguing', 'questions', 'about', 'the', 'difference', 'between', 'human', 'and', 'android', 'life', '', '</s>']\n",
      "len conti_raw 29\n",
      "conti_raw ['<s>', 'alternating', 'between', 'facetious', 'comic', 'parody', 'and', 'pulp', 'melodrama', ',', 'this', 'smart-aleck', 'movie', '...', 'tosses', 'around', 'some', 'intriguing', 'questions', 'about', 'the', 'difference', 'between', 'human', 'and', 'android', 'life', '', '</s>']\n"
     ]
    },
    {
     "data": {
      "text/html": [
       "<table width: 100%><div style=\"border-top: 1px solid; margin-top: 5px;             padding-top: 5px; display: inline-block\"><b>Legend: </b><span style=\"display: inline-block; width: 10px; height: 10px;                 border: 1px solid; background-color:                 hsl(0, 75%, 60%)\"></span> Negative  <span style=\"display: inline-block; width: 10px; height: 10px;                 border: 1px solid; background-color:                 hsl(0, 75%, 100%)\"></span> Neutral  <span style=\"display: inline-block; width: 10px; height: 10px;                 border: 1px solid; background-color:                 hsl(120, 75%, 50%)\"></span> Positive  </div><tr><th>True Label</th><th>Predicted Label</th><th>Attribution Label</th><th>Attribution Score</th><th>Word Importance</th><tr><td><text style=\"padding-right:2em\"><b>Pos</b></text></td><td><text style=\"padding-right:2em\"><b>Pos (1.00)</b></text></td><td><text style=\"padding-right:2em\"><b>Pos</b></text></td><td><text style=\"padding-right:2em\"><b>2.78</b></text></td><td><mark style=\"background-color: hsl(120, 75%, 81%); opacity:1.0;                     line-height:1.75\"><font color=\"black\"> #s                    </font></mark><mark style=\"background-color: hsl(120, 75%, 79%); opacity:1.0;                     line-height:1.75\"><font color=\"black\"> alternating                    </font></mark><mark style=\"background-color: hsl(0, 75%, 100%); opacity:1.0;                     line-height:1.75\"><font color=\"black\"> between                    </font></mark><mark style=\"background-color: hsl(120, 75%, 93%); opacity:1.0;                     line-height:1.75\"><font color=\"black\"> facetious                    </font></mark><mark style=\"background-color: hsl(0, 75%, 90%); opacity:1.0;                     line-height:1.75\"><font color=\"black\"> comic                    </font></mark><mark style=\"background-color: hsl(120, 75%, 96%); opacity:1.0;                     line-height:1.75\"><font color=\"black\"> parody                    </font></mark><mark style=\"background-color: hsl(120, 75%, 97%); opacity:1.0;                     line-height:1.75\"><font color=\"black\"> and                    </font></mark><mark style=\"background-color: hsl(120, 75%, 88%); opacity:1.0;                     line-height:1.75\"><font color=\"black\"> pulp                    </font></mark><mark style=\"background-color: hsl(120, 75%, 96%); opacity:1.0;                     line-height:1.75\"><font color=\"black\"> melodrama                    </font></mark><mark style=\"background-color: hsl(120, 75%, 91%); opacity:1.0;                     line-height:1.75\"><font color=\"black\"> ,                    </font></mark><mark style=\"background-color: hsl(120, 75%, 98%); opacity:1.0;                     line-height:1.75\"><font color=\"black\"> this                    </font></mark><mark style=\"background-color: hsl(120, 75%, 97%); opacity:1.0;                     line-height:1.75\"><font color=\"black\"> smart-aleck                    </font></mark><mark style=\"background-color: hsl(120, 75%, 91%); opacity:1.0;                     line-height:1.75\"><font color=\"black\"> movie                    </font></mark><mark style=\"background-color: hsl(120, 75%, 94%); opacity:1.0;                     line-height:1.75\"><font color=\"black\"> ...                    </font></mark><mark style=\"background-color: hsl(120, 75%, 91%); opacity:1.0;                     line-height:1.75\"><font color=\"black\"> tosses                    </font></mark><mark style=\"background-color: hsl(0, 75%, 87%); opacity:1.0;                     line-height:1.75\"><font color=\"black\"> around                    </font></mark><mark style=\"background-color: hsl(0, 75%, 99%); opacity:1.0;                     line-height:1.75\"><font color=\"black\"> some                    </font></mark><mark style=\"background-color: hsl(0, 75%, 100%); opacity:1.0;                     line-height:1.75\"><font color=\"black\"> intriguing                    </font></mark><mark style=\"background-color: hsl(120, 75%, 94%); opacity:1.0;                     line-height:1.75\"><font color=\"black\"> questions                    </font></mark><mark style=\"background-color: hsl(0, 75%, 96%); opacity:1.0;                     line-height:1.75\"><font color=\"black\"> about                    </font></mark><mark style=\"background-color: hsl(0, 75%, 98%); opacity:1.0;                     line-height:1.75\"><font color=\"black\"> the                    </font></mark><mark style=\"background-color: hsl(120, 75%, 92%); opacity:1.0;                     line-height:1.75\"><font color=\"black\"> difference                    </font></mark><mark style=\"background-color: hsl(120, 75%, 93%); opacity:1.0;                     line-height:1.75\"><font color=\"black\"> between                    </font></mark><mark style=\"background-color: hsl(120, 75%, 99%); opacity:1.0;                     line-height:1.75\"><font color=\"black\"> human                    </font></mark><mark style=\"background-color: hsl(120, 75%, 94%); opacity:1.0;                     line-height:1.75\"><font color=\"black\"> and                    </font></mark><mark style=\"background-color: hsl(0, 75%, 97%); opacity:1.0;                     line-height:1.75\"><font color=\"black\"> android                    </font></mark><mark style=\"background-color: hsl(120, 75%, 96%); opacity:1.0;                     line-height:1.75\"><font color=\"black\"> life                    </font></mark><mark style=\"background-color: hsl(120, 75%, 98%); opacity:1.0;                     line-height:1.75\"><font color=\"black\">                     </font></mark><mark style=\"background-color: hsl(120, 75%, 97%); opacity:1.0;                     line-height:1.75\"><font color=\"black\"> #/s                    </font></mark></td><tr></table>"
      ],
      "text/plain": [
       "<IPython.core.display.HTML object>"
      ]
     },
     "metadata": {},
     "output_type": "display_data"
    },
    {
     "name": "stdout",
     "output_type": "stream",
     "text": [
      "<IPython.core.display.HTML object>\n",
      "Raw review: to be a part of that elusive adult world \n",
      "GT target: 1\n",
      "word attr tensor([ 0.0304, -0.0445,  0.1523,  0.2074,  0.1962,  0.0064,  0.0676, -0.9372,\n",
      "         0.0213, -0.0083, -0.0015,  0.0944])\n",
      "conti attr [tensor(0.0304), tensor(-0.0445), tensor(0.1523), tensor(0.2074), tensor(0.1962), tensor(0.0064), tensor(0.0676), tensor(-0.9372), tensor(0.0213), tensor(-0.0083), tensor(-0.0015), tensor(0.0944)]\n",
      "detokenized ['<s>', 'to', 'be', 'a', 'part', 'of', 'that', 'elusive', 'adult', 'world', '', '</s>']\n",
      "len conti_raw 12\n",
      "conti_raw ['<s>', 'to', 'be', 'a', 'part', 'of', 'that', 'elusive', 'adult', 'world', '', '</s>']\n"
     ]
    },
    {
     "data": {
      "text/html": [
       "<table width: 100%><div style=\"border-top: 1px solid; margin-top: 5px;             padding-top: 5px; display: inline-block\"><b>Legend: </b><span style=\"display: inline-block; width: 10px; height: 10px;                 border: 1px solid; background-color:                 hsl(0, 75%, 60%)\"></span> Negative  <span style=\"display: inline-block; width: 10px; height: 10px;                 border: 1px solid; background-color:                 hsl(0, 75%, 100%)\"></span> Neutral  <span style=\"display: inline-block; width: 10px; height: 10px;                 border: 1px solid; background-color:                 hsl(120, 75%, 50%)\"></span> Positive  </div><tr><th>True Label</th><th>Predicted Label</th><th>Attribution Label</th><th>Attribution Score</th><th>Word Importance</th><tr><td><text style=\"padding-right:2em\"><b>Pos</b></text></td><td><text style=\"padding-right:2em\"><b>Pos (1.00)</b></text></td><td><text style=\"padding-right:2em\"><b>Neg</b></text></td><td><text style=\"padding-right:2em\"><b>-0.22</b></text></td><td><mark style=\"background-color: hsl(120, 75%, 99%); opacity:1.0;                     line-height:1.75\"><font color=\"black\"> #s                    </font></mark><mark style=\"background-color: hsl(0, 75%, 99%); opacity:1.0;                     line-height:1.75\"><font color=\"black\"> to                    </font></mark><mark style=\"background-color: hsl(120, 75%, 93%); opacity:1.0;                     line-height:1.75\"><font color=\"black\"> be                    </font></mark><mark style=\"background-color: hsl(120, 75%, 90%); opacity:1.0;                     line-height:1.75\"><font color=\"black\"> a                    </font></mark><mark style=\"background-color: hsl(120, 75%, 91%); opacity:1.0;                     line-height:1.75\"><font color=\"black\"> part                    </font></mark><mark style=\"background-color: hsl(120, 75%, 100%); opacity:1.0;                     line-height:1.75\"><font color=\"black\"> of                    </font></mark><mark style=\"background-color: hsl(120, 75%, 97%); opacity:1.0;                     line-height:1.75\"><font color=\"black\"> that                    </font></mark><mark style=\"background-color: hsl(0, 75%, 63%); opacity:1.0;                     line-height:1.75\"><font color=\"black\"> elusive                    </font></mark><mark style=\"background-color: hsl(120, 75%, 99%); opacity:1.0;                     line-height:1.75\"><font color=\"black\"> adult                    </font></mark><mark style=\"background-color: hsl(0, 75%, 100%); opacity:1.0;                     line-height:1.75\"><font color=\"black\"> world                    </font></mark><mark style=\"background-color: hsl(0, 75%, 100%); opacity:1.0;                     line-height:1.75\"><font color=\"black\">                     </font></mark><mark style=\"background-color: hsl(120, 75%, 96%); opacity:1.0;                     line-height:1.75\"><font color=\"black\"> #/s                    </font></mark></td><tr></table>"
      ],
      "text/plain": [
       "<IPython.core.display.HTML object>"
      ]
     },
     "metadata": {},
     "output_type": "display_data"
    },
    {
     "name": "stdout",
     "output_type": "stream",
     "text": [
      "<IPython.core.display.HTML object>\n",
      "Raw review: emotional power \n",
      "GT target: 1\n",
      "word attr tensor([ 0.4901,  0.3255, -0.4767,  0.5800,  0.2738,  0.1232])\n",
      "conti attr [tensor(0.4901), tensor(-0.1512), tensor(0.5800), tensor(0.2738), tensor(0.1232)]\n",
      "detokenized ['<s>', 'em', 'otional', 'power', '', '</s>']\n",
      "len conti_raw 5\n",
      "conti_raw ['<s>', 'emotional', 'power', '', '</s>']\n"
     ]
    },
    {
     "data": {
      "text/html": [
       "<table width: 100%><div style=\"border-top: 1px solid; margin-top: 5px;             padding-top: 5px; display: inline-block\"><b>Legend: </b><span style=\"display: inline-block; width: 10px; height: 10px;                 border: 1px solid; background-color:                 hsl(0, 75%, 60%)\"></span> Negative  <span style=\"display: inline-block; width: 10px; height: 10px;                 border: 1px solid; background-color:                 hsl(0, 75%, 100%)\"></span> Neutral  <span style=\"display: inline-block; width: 10px; height: 10px;                 border: 1px solid; background-color:                 hsl(120, 75%, 50%)\"></span> Positive  </div><tr><th>True Label</th><th>Predicted Label</th><th>Attribution Label</th><th>Attribution Score</th><th>Word Importance</th><tr><td><text style=\"padding-right:2em\"><b>Pos</b></text></td><td><text style=\"padding-right:2em\"><b>Pos (1.00)</b></text></td><td><text style=\"padding-right:2em\"><b>Pos</b></text></td><td><text style=\"padding-right:2em\"><b>1.32</b></text></td><td><mark style=\"background-color: hsl(120, 75%, 76%); opacity:1.0;                     line-height:1.75\"><font color=\"black\"> #s                    </font></mark><mark style=\"background-color: hsl(120, 75%, 84%); opacity:1.0;                     line-height:1.75\"><font color=\"black\"> emotional                    </font></mark><mark style=\"background-color: hsl(0, 75%, 81%); opacity:1.0;                     line-height:1.75\"><font color=\"black\"> power                    </font></mark><mark style=\"background-color: hsl(120, 75%, 71%); opacity:1.0;                     line-height:1.75\"><font color=\"black\">                     </font></mark><mark style=\"background-color: hsl(120, 75%, 87%); opacity:1.0;                     line-height:1.75\"><font color=\"black\"> #/s                    </font></mark></td><tr></table>"
      ],
      "text/plain": [
       "<IPython.core.display.HTML object>"
      ]
     },
     "metadata": {},
     "output_type": "display_data"
    },
    {
     "name": "stdout",
     "output_type": "stream",
     "text": [
      "<IPython.core.display.HTML object>\n",
      "Raw review: reminds you of why animation is such a perfect medium for children , because of the way it allows the mind to enter and accept another world \n",
      "GT target: 1\n",
      "word attr tensor([ 0.2358, -0.4685, -0.2492, -0.0191, -0.1732,  0.3534, -0.0020,  0.0541,\n",
      "        -0.1484,  0.1807,  0.0065, -0.0591,  0.1035,  0.0700, -0.3227,  0.0333,\n",
      "        -0.1054, -0.0153, -0.0892,  0.1641,  0.1570, -0.1332, -0.1271, -0.1221,\n",
      "         0.1135,  0.0139, -0.1446,  0.2670,  0.2427,  0.1192,  0.1035, -0.1294])\n",
      "conti attr [tensor(0.2358), tensor(-0.7368), tensor(-0.1732), tensor(0.3534), tensor(-0.0020), tensor(0.0541), tensor(-0.1484), tensor(0.1807), tensor(0.0065), tensor(-0.0591), tensor(0.1035), tensor(0.0700), tensor(-0.3227), tensor(0.0333), tensor(-0.1054), tensor(-0.0153), tensor(-0.0892), tensor(0.1641), tensor(0.1570), tensor(-0.1332), tensor(-0.1271), tensor(-0.1221), tensor(0.1135), tensor(0.0139), tensor(-0.1446), tensor(0.2670), tensor(0.2427), tensor(0.1192), tensor(0.1035), tensor(-0.1294)]\n",
      "detokenized ['<s>', 'rem', 'ind', 's', 'you', 'of', 'why', 'animation', 'is', 'such', 'a', 'perfect', 'medium', 'for', 'children', ',', 'because', 'of', 'the', 'way', 'it', 'allows', 'the', 'mind', 'to', 'enter', 'and', 'accept', 'another', 'world', '', '</s>']\n",
      "len conti_raw 30\n",
      "conti_raw ['<s>', 'reminds', 'you', 'of', 'why', 'animation', 'is', 'such', 'a', 'perfect', 'medium', 'for', 'children', ',', 'because', 'of', 'the', 'way', 'it', 'allows', 'the', 'mind', 'to', 'enter', 'and', 'accept', 'another', 'world', '', '</s>']\n"
     ]
    },
    {
     "data": {
      "text/html": [
       "<table width: 100%><div style=\"border-top: 1px solid; margin-top: 5px;             padding-top: 5px; display: inline-block\"><b>Legend: </b><span style=\"display: inline-block; width: 10px; height: 10px;                 border: 1px solid; background-color:                 hsl(0, 75%, 60%)\"></span> Negative  <span style=\"display: inline-block; width: 10px; height: 10px;                 border: 1px solid; background-color:                 hsl(0, 75%, 100%)\"></span> Neutral  <span style=\"display: inline-block; width: 10px; height: 10px;                 border: 1px solid; background-color:                 hsl(120, 75%, 50%)\"></span> Positive  </div><tr><th>True Label</th><th>Predicted Label</th><th>Attribution Label</th><th>Attribution Score</th><th>Word Importance</th><tr><td><text style=\"padding-right:2em\"><b>Pos</b></text></td><td><text style=\"padding-right:2em\"><b>Pos (1.00)</b></text></td><td><text style=\"padding-right:2em\"><b>Neg</b></text></td><td><text style=\"padding-right:2em\"><b>-0.09</b></text></td><td><mark style=\"background-color: hsl(120, 75%, 89%); opacity:1.0;                     line-height:1.75\"><font color=\"black\"> #s                    </font></mark><mark style=\"background-color: hsl(0, 75%, 82%); opacity:1.0;                     line-height:1.75\"><font color=\"black\"> reminds                    </font></mark><mark style=\"background-color: hsl(0, 75%, 91%); opacity:1.0;                     line-height:1.75\"><font color=\"black\"> you                    </font></mark><mark style=\"background-color: hsl(0, 75%, 100%); opacity:1.0;                     line-height:1.75\"><font color=\"black\"> of                    </font></mark><mark style=\"background-color: hsl(0, 75%, 94%); opacity:1.0;                     line-height:1.75\"><font color=\"black\"> why                    </font></mark><mark style=\"background-color: hsl(120, 75%, 83%); opacity:1.0;                     line-height:1.75\"><font color=\"black\"> animation                    </font></mark><mark style=\"background-color: hsl(0, 75%, 100%); opacity:1.0;                     line-height:1.75\"><font color=\"black\"> is                    </font></mark><mark style=\"background-color: hsl(120, 75%, 98%); opacity:1.0;                     line-height:1.75\"><font color=\"black\"> such                    </font></mark><mark style=\"background-color: hsl(0, 75%, 95%); opacity:1.0;                     line-height:1.75\"><font color=\"black\"> a                    </font></mark><mark style=\"background-color: hsl(120, 75%, 91%); opacity:1.0;                     line-height:1.75\"><font color=\"black\"> perfect                    </font></mark><mark style=\"background-color: hsl(120, 75%, 100%); opacity:1.0;                     line-height:1.75\"><font color=\"black\"> medium                    </font></mark><mark style=\"background-color: hsl(0, 75%, 98%); opacity:1.0;                     line-height:1.75\"><font color=\"black\"> for                    </font></mark><mark style=\"background-color: hsl(120, 75%, 95%); opacity:1.0;                     line-height:1.75\"><font color=\"black\"> children                    </font></mark><mark style=\"background-color: hsl(120, 75%, 97%); opacity:1.0;                     line-height:1.75\"><font color=\"black\"> ,                    </font></mark><mark style=\"background-color: hsl(0, 75%, 88%); opacity:1.0;                     line-height:1.75\"><font color=\"black\"> because                    </font></mark><mark style=\"background-color: hsl(120, 75%, 99%); opacity:1.0;                     line-height:1.75\"><font color=\"black\"> of                    </font></mark><mark style=\"background-color: hsl(0, 75%, 96%); opacity:1.0;                     line-height:1.75\"><font color=\"black\"> the                    </font></mark><mark style=\"background-color: hsl(0, 75%, 100%); opacity:1.0;                     line-height:1.75\"><font color=\"black\"> way                    </font></mark><mark style=\"background-color: hsl(0, 75%, 97%); opacity:1.0;                     line-height:1.75\"><font color=\"black\"> it                    </font></mark><mark style=\"background-color: hsl(120, 75%, 92%); opacity:1.0;                     line-height:1.75\"><font color=\"black\"> allows                    </font></mark><mark style=\"background-color: hsl(120, 75%, 93%); opacity:1.0;                     line-height:1.75\"><font color=\"black\"> the                    </font></mark><mark style=\"background-color: hsl(0, 75%, 95%); opacity:1.0;                     line-height:1.75\"><font color=\"black\"> mind                    </font></mark><mark style=\"background-color: hsl(0, 75%, 95%); opacity:1.0;                     line-height:1.75\"><font color=\"black\"> to                    </font></mark><mark style=\"background-color: hsl(0, 75%, 96%); opacity:1.0;                     line-height:1.75\"><font color=\"black\"> enter                    </font></mark><mark style=\"background-color: hsl(120, 75%, 95%); opacity:1.0;                     line-height:1.75\"><font color=\"black\"> and                    </font></mark><mark style=\"background-color: hsl(120, 75%, 100%); opacity:1.0;                     line-height:1.75\"><font color=\"black\"> accept                    </font></mark><mark style=\"background-color: hsl(0, 75%, 95%); opacity:1.0;                     line-height:1.75\"><font color=\"black\"> another                    </font></mark><mark style=\"background-color: hsl(120, 75%, 87%); opacity:1.0;                     line-height:1.75\"><font color=\"black\"> world                    </font></mark><mark style=\"background-color: hsl(120, 75%, 88%); opacity:1.0;                     line-height:1.75\"><font color=\"black\">                     </font></mark><mark style=\"background-color: hsl(120, 75%, 95%); opacity:1.0;                     line-height:1.75\"><font color=\"black\"> #/s                    </font></mark></td><tr></table>"
      ],
      "text/plain": [
       "<IPython.core.display.HTML object>"
      ]
     },
     "metadata": {},
     "output_type": "display_data"
    },
    {
     "name": "stdout",
     "output_type": "stream",
     "text": [
      "<IPython.core.display.HTML object>\n",
      "Raw review: unparalleled proportions , writer-director parker \n",
      "GT target: 1\n",
      "word attr tensor([ 0.5432,  0.1362, -0.1000, -0.7795,  0.1773, -0.0114,  0.0230, -0.0614,\n",
      "         0.0915,  0.0854, -0.0712, -0.1098])\n",
      "conti attr [tensor(0.5432), tensor(0.0362), tensor(-0.7795), tensor(0.1773), tensor(-0.0498), tensor(0.1770), tensor(-0.0712), tensor(-0.1098)]\n",
      "detokenized ['<s>', 'un', 'paralleled', 'proportions', ',', 'writer', '-', 'director', 'park', 'er', '', '</s>']\n",
      "len conti_raw 8\n",
      "conti_raw ['<s>', 'unparalleled', 'proportions', ',', 'writer-director', 'parker', '', '</s>']\n"
     ]
    },
    {
     "data": {
      "text/html": [
       "<table width: 100%><div style=\"border-top: 1px solid; margin-top: 5px;             padding-top: 5px; display: inline-block\"><b>Legend: </b><span style=\"display: inline-block; width: 10px; height: 10px;                 border: 1px solid; background-color:                 hsl(0, 75%, 60%)\"></span> Negative  <span style=\"display: inline-block; width: 10px; height: 10px;                 border: 1px solid; background-color:                 hsl(0, 75%, 100%)\"></span> Neutral  <span style=\"display: inline-block; width: 10px; height: 10px;                 border: 1px solid; background-color:                 hsl(120, 75%, 50%)\"></span> Positive  </div><tr><th>True Label</th><th>Predicted Label</th><th>Attribution Label</th><th>Attribution Score</th><th>Word Importance</th><tr><td><text style=\"padding-right:2em\"><b>Pos</b></text></td><td><text style=\"padding-right:2em\"><b>Pos (1.00)</b></text></td><td><text style=\"padding-right:2em\"><b>Neg</b></text></td><td><text style=\"padding-right:2em\"><b>-0.08</b></text></td><td><mark style=\"background-color: hsl(120, 75%, 73%); opacity:1.0;                     line-height:1.75\"><font color=\"black\"> #s                    </font></mark><mark style=\"background-color: hsl(120, 75%, 94%); opacity:1.0;                     line-height:1.75\"><font color=\"black\"> unparalleled                    </font></mark><mark style=\"background-color: hsl(0, 75%, 97%); opacity:1.0;                     line-height:1.75\"><font color=\"black\"> proportions                    </font></mark><mark style=\"background-color: hsl(0, 75%, 69%); opacity:1.0;                     line-height:1.75\"><font color=\"black\"> ,                    </font></mark><mark style=\"background-color: hsl(120, 75%, 92%); opacity:1.0;                     line-height:1.75\"><font color=\"black\"> writer-director                    </font></mark><mark style=\"background-color: hsl(0, 75%, 100%); opacity:1.0;                     line-height:1.75\"><font color=\"black\"> parker                    </font></mark><mark style=\"background-color: hsl(120, 75%, 99%); opacity:1.0;                     line-height:1.75\"><font color=\"black\">                     </font></mark><mark style=\"background-color: hsl(0, 75%, 98%); opacity:1.0;                     line-height:1.75\"><font color=\"black\"> #/s                    </font></mark></td><tr></table>"
      ],
      "text/plain": [
       "<IPython.core.display.HTML object>"
      ]
     },
     "metadata": {},
     "output_type": "display_data"
    },
    {
     "name": "stdout",
     "output_type": "stream",
     "text": [
      "<IPython.core.display.HTML object>\n",
      "Raw review: this surprisingly decent flick \n",
      "GT target: 1\n",
      "word attr tensor([-0.2253,  0.0882,  0.3686,  0.7096,  0.1367,  0.5257, -0.0843])\n",
      "conti attr [tensor(-0.2253), tensor(0.0882), tensor(0.3686), tensor(0.7096), tensor(0.1367), tensor(0.5257), tensor(-0.0843)]\n",
      "detokenized ['<s>', 'this', 'surprisingly', 'decent', 'flick', '', '</s>']\n",
      "len conti_raw 7\n",
      "conti_raw ['<s>', 'this', 'surprisingly', 'decent', 'flick', '', '</s>']\n"
     ]
    },
    {
     "data": {
      "text/html": [
       "<table width: 100%><div style=\"border-top: 1px solid; margin-top: 5px;             padding-top: 5px; display: inline-block\"><b>Legend: </b><span style=\"display: inline-block; width: 10px; height: 10px;                 border: 1px solid; background-color:                 hsl(0, 75%, 60%)\"></span> Negative  <span style=\"display: inline-block; width: 10px; height: 10px;                 border: 1px solid; background-color:                 hsl(0, 75%, 100%)\"></span> Neutral  <span style=\"display: inline-block; width: 10px; height: 10px;                 border: 1px solid; background-color:                 hsl(120, 75%, 50%)\"></span> Positive  </div><tr><th>True Label</th><th>Predicted Label</th><th>Attribution Label</th><th>Attribution Score</th><th>Word Importance</th><tr><td><text style=\"padding-right:2em\"><b>Pos</b></text></td><td><text style=\"padding-right:2em\"><b>Pos (1.00)</b></text></td><td><text style=\"padding-right:2em\"><b>Pos</b></text></td><td><text style=\"padding-right:2em\"><b>1.52</b></text></td><td><mark style=\"background-color: hsl(0, 75%, 91%); opacity:1.0;                     line-height:1.75\"><font color=\"black\"> #s                    </font></mark><mark style=\"background-color: hsl(120, 75%, 96%); opacity:1.0;                     line-height:1.75\"><font color=\"black\"> this                    </font></mark><mark style=\"background-color: hsl(120, 75%, 82%); opacity:1.0;                     line-height:1.75\"><font color=\"black\"> surprisingly                    </font></mark><mark style=\"background-color: hsl(120, 75%, 65%); opacity:1.0;                     line-height:1.75\"><font color=\"black\"> decent                    </font></mark><mark style=\"background-color: hsl(120, 75%, 94%); opacity:1.0;                     line-height:1.75\"><font color=\"black\"> flick                    </font></mark><mark style=\"background-color: hsl(120, 75%, 74%); opacity:1.0;                     line-height:1.75\"><font color=\"black\">                     </font></mark><mark style=\"background-color: hsl(0, 75%, 97%); opacity:1.0;                     line-height:1.75\"><font color=\"black\"> #/s                    </font></mark></td><tr></table>"
      ],
      "text/plain": [
       "<IPython.core.display.HTML object>"
      ]
     },
     "metadata": {},
     "output_type": "display_data"
    },
    {
     "name": "stdout",
     "output_type": "stream",
     "text": [
      "<IPython.core.display.HTML object>\n",
      "Raw review: about the best thing you could say about narc is that it 's a rock-solid little genre picture . \n",
      "GT target: 1\n",
      "word attr tensor([ 0.2424,  0.1114,  0.2552,  0.2291, -0.3444,  0.0650,  0.0247, -0.2891,\n",
      "         0.0208,  0.3407,  0.1557, -0.1429, -0.1040,  0.0330, -0.2023,  0.1063,\n",
      "         0.0554,  0.0223, -0.2768, -0.1218, -0.2586, -0.3679, -0.1144,  0.2619,\n",
      "        -0.0059])\n",
      "conti attr [tensor(0.2424), tensor(0.1114), tensor(0.2552), tensor(0.2291), tensor(-0.3444), tensor(0.0650), tensor(0.0247), tensor(-0.2891), tensor(0.0208), tensor(0.3407), tensor(0.1557), tensor(-0.1429), tensor(-0.1040), tensor(-0.1693), tensor(0.1063), tensor(-0.1990), tensor(-0.1218), tensor(-0.2586), tensor(-0.3679), tensor(-0.1144), tensor(0.2619), tensor(-0.0059)]\n",
      "detokenized ['<s>', 'about', 'the', 'best', 'thing', 'you', 'could', 'say', 'about', 'narc', 'is', 'that', 'it', \"'\", 's', 'a', 'rock', '-', 'solid', 'little', 'genre', 'picture', '.', '', '</s>']\n",
      "len conti_raw 22\n",
      "conti_raw ['<s>', 'about', 'the', 'best', 'thing', 'you', 'could', 'say', 'about', 'narc', 'is', 'that', 'it', \"'s\", 'a', 'rock-solid', 'little', 'genre', 'picture', '.', '', '</s>']\n"
     ]
    },
    {
     "data": {
      "text/html": [
       "<table width: 100%><div style=\"border-top: 1px solid; margin-top: 5px;             padding-top: 5px; display: inline-block\"><b>Legend: </b><span style=\"display: inline-block; width: 10px; height: 10px;                 border: 1px solid; background-color:                 hsl(0, 75%, 60%)\"></span> Negative  <span style=\"display: inline-block; width: 10px; height: 10px;                 border: 1px solid; background-color:                 hsl(0, 75%, 100%)\"></span> Neutral  <span style=\"display: inline-block; width: 10px; height: 10px;                 border: 1px solid; background-color:                 hsl(120, 75%, 50%)\"></span> Positive  </div><tr><th>True Label</th><th>Predicted Label</th><th>Attribution Label</th><th>Attribution Score</th><th>Word Importance</th><tr><td><text style=\"padding-right:2em\"><b>Pos</b></text></td><td><text style=\"padding-right:2em\"><b>Pos (1.00)</b></text></td><td><text style=\"padding-right:2em\"><b>Neg</b></text></td><td><text style=\"padding-right:2em\"><b>-0.30</b></text></td><td><mark style=\"background-color: hsl(120, 75%, 88%); opacity:1.0;                     line-height:1.75\"><font color=\"black\"> #s                    </font></mark><mark style=\"background-color: hsl(120, 75%, 95%); opacity:1.0;                     line-height:1.75\"><font color=\"black\"> about                    </font></mark><mark style=\"background-color: hsl(120, 75%, 88%); opacity:1.0;                     line-height:1.75\"><font color=\"black\"> the                    </font></mark><mark style=\"background-color: hsl(120, 75%, 89%); opacity:1.0;                     line-height:1.75\"><font color=\"black\"> best                    </font></mark><mark style=\"background-color: hsl(0, 75%, 87%); opacity:1.0;                     line-height:1.75\"><font color=\"black\"> thing                    </font></mark><mark style=\"background-color: hsl(120, 75%, 97%); opacity:1.0;                     line-height:1.75\"><font color=\"black\"> you                    </font></mark><mark style=\"background-color: hsl(120, 75%, 99%); opacity:1.0;                     line-height:1.75\"><font color=\"black\"> could                    </font></mark><mark style=\"background-color: hsl(0, 75%, 89%); opacity:1.0;                     line-height:1.75\"><font color=\"black\"> say                    </font></mark><mark style=\"background-color: hsl(120, 75%, 99%); opacity:1.0;                     line-height:1.75\"><font color=\"black\"> about                    </font></mark><mark style=\"background-color: hsl(120, 75%, 83%); opacity:1.0;                     line-height:1.75\"><font color=\"black\"> narc                    </font></mark><mark style=\"background-color: hsl(120, 75%, 93%); opacity:1.0;                     line-height:1.75\"><font color=\"black\"> is                    </font></mark><mark style=\"background-color: hsl(0, 75%, 95%); opacity:1.0;                     line-height:1.75\"><font color=\"black\"> that                    </font></mark><mark style=\"background-color: hsl(0, 75%, 96%); opacity:1.0;                     line-height:1.75\"><font color=\"black\"> it                    </font></mark><mark style=\"background-color: hsl(120, 75%, 99%); opacity:1.0;                     line-height:1.75\"><font color=\"black\"> 's                    </font></mark><mark style=\"background-color: hsl(0, 75%, 92%); opacity:1.0;                     line-height:1.75\"><font color=\"black\"> a                    </font></mark><mark style=\"background-color: hsl(120, 75%, 95%); opacity:1.0;                     line-height:1.75\"><font color=\"black\"> rock-solid                    </font></mark><mark style=\"background-color: hsl(120, 75%, 98%); opacity:1.0;                     line-height:1.75\"><font color=\"black\"> little                    </font></mark><mark style=\"background-color: hsl(120, 75%, 99%); opacity:1.0;                     line-height:1.75\"><font color=\"black\"> genre                    </font></mark><mark style=\"background-color: hsl(0, 75%, 89%); opacity:1.0;                     line-height:1.75\"><font color=\"black\"> picture                    </font></mark><mark style=\"background-color: hsl(0, 75%, 96%); opacity:1.0;                     line-height:1.75\"><font color=\"black\"> .                    </font></mark><mark style=\"background-color: hsl(0, 75%, 90%); opacity:1.0;                     line-height:1.75\"><font color=\"black\">                     </font></mark><mark style=\"background-color: hsl(0, 75%, 86%); opacity:1.0;                     line-height:1.75\"><font color=\"black\"> #/s                    </font></mark></td><tr></table>"
      ],
      "text/plain": [
       "<IPython.core.display.HTML object>"
      ]
     },
     "metadata": {},
     "output_type": "display_data"
    },
    {
     "name": "stdout",
     "output_type": "stream",
     "text": [
      "<IPython.core.display.HTML object>\n",
      "Raw review: the very best \n",
      "GT target: 1\n",
      "word attr tensor([-0.6006, -0.3418, -0.1703, -0.2012, -0.5983, -0.3083])\n",
      "conti attr [tensor(-0.6006), tensor(-0.3418), tensor(-0.1703), tensor(-0.2012), tensor(-0.5983), tensor(-0.3083)]\n",
      "detokenized ['<s>', 'the', 'very', 'best', '', '</s>']\n",
      "len conti_raw 6\n",
      "conti_raw ['<s>', 'the', 'very', 'best', '', '</s>']\n"
     ]
    },
    {
     "data": {
      "text/html": [
       "<table width: 100%><div style=\"border-top: 1px solid; margin-top: 5px;             padding-top: 5px; display: inline-block\"><b>Legend: </b><span style=\"display: inline-block; width: 10px; height: 10px;                 border: 1px solid; background-color:                 hsl(0, 75%, 60%)\"></span> Negative  <span style=\"display: inline-block; width: 10px; height: 10px;                 border: 1px solid; background-color:                 hsl(0, 75%, 100%)\"></span> Neutral  <span style=\"display: inline-block; width: 10px; height: 10px;                 border: 1px solid; background-color:                 hsl(120, 75%, 50%)\"></span> Positive  </div><tr><th>True Label</th><th>Predicted Label</th><th>Attribution Label</th><th>Attribution Score</th><th>Word Importance</th><tr><td><text style=\"padding-right:2em\"><b>Pos</b></text></td><td><text style=\"padding-right:2em\"><b>Pos (1.00)</b></text></td><td><text style=\"padding-right:2em\"><b>Neg</b></text></td><td><text style=\"padding-right:2em\"><b>-2.22</b></text></td><td><mark style=\"background-color: hsl(0, 75%, 76%); opacity:1.0;                     line-height:1.75\"><font color=\"black\"> #s                    </font></mark><mark style=\"background-color: hsl(0, 75%, 87%); opacity:1.0;                     line-height:1.75\"><font color=\"black\"> the                    </font></mark><mark style=\"background-color: hsl(0, 75%, 94%); opacity:1.0;                     line-height:1.75\"><font color=\"black\"> very                    </font></mark><mark style=\"background-color: hsl(0, 75%, 92%); opacity:1.0;                     line-height:1.75\"><font color=\"black\"> best                    </font></mark><mark style=\"background-color: hsl(0, 75%, 77%); opacity:1.0;                     line-height:1.75\"><font color=\"black\">                     </font></mark><mark style=\"background-color: hsl(0, 75%, 88%); opacity:1.0;                     line-height:1.75\"><font color=\"black\"> #/s                    </font></mark></td><tr></table>"
      ],
      "text/plain": [
       "<IPython.core.display.HTML object>"
      ]
     },
     "metadata": {},
     "output_type": "display_data"
    },
    {
     "name": "stdout",
     "output_type": "stream",
     "text": [
      "<IPython.core.display.HTML object>\n",
      "Raw review: been modeled on the worst revenge-of-the-nerds clichés the filmmakers could dredge up \n",
      "GT target: 0\n",
      "word attr tensor([-0.3480, -0.1013, -0.4618, -0.0580, -0.1044, -0.0283,  0.0016, -0.0319,\n",
      "        -0.0560, -0.0441, -0.0331, -0.0014,  0.0160,  0.2359,  0.2916, -0.2378,\n",
      "        -0.1374, -0.4625, -0.0750,  0.1291, -0.1600, -0.1766, -0.1919, -0.2949])\n",
      "conti attr [tensor(-0.3480), tensor(-0.1013), tensor(-0.4618), tensor(-0.0580), tensor(-0.1044), tensor(-0.0283), tensor(0.0870), tensor(0.0538), tensor(-0.1374), tensor(-0.4625), tensor(-0.0750), tensor(-0.0309), tensor(-0.1766), tensor(-0.1919), tensor(-0.2949)]\n",
      "detokenized ['<s>', 'been', 'modeled', 'on', 'the', 'worst', 'revenge', '-', 'of', '-', 'the', '-', 'ner', 'ds', 'clich', 'Ã©s', 'the', 'filmmakers', 'could', 'dred', 'ge', 'up', '', '</s>']\n",
      "len conti_raw 15\n",
      "conti_raw ['<s>', 'been', 'modeled', 'on', 'the', 'worst', 'revenge-of-the-nerds', 'clichÃ©s', 'the', 'filmmakers', 'could', 'dredge', 'up', '', '</s>']\n"
     ]
    },
    {
     "data": {
      "text/html": [
       "<table width: 100%><div style=\"border-top: 1px solid; margin-top: 5px;             padding-top: 5px; display: inline-block\"><b>Legend: </b><span style=\"display: inline-block; width: 10px; height: 10px;                 border: 1px solid; background-color:                 hsl(0, 75%, 60%)\"></span> Negative  <span style=\"display: inline-block; width: 10px; height: 10px;                 border: 1px solid; background-color:                 hsl(0, 75%, 100%)\"></span> Neutral  <span style=\"display: inline-block; width: 10px; height: 10px;                 border: 1px solid; background-color:                 hsl(120, 75%, 50%)\"></span> Positive  </div><tr><th>True Label</th><th>Predicted Label</th><th>Attribution Label</th><th>Attribution Score</th><th>Word Importance</th><tr><td><text style=\"padding-right:2em\"><b>Neg</b></text></td><td><text style=\"padding-right:2em\"><b>Neg (0.00)</b></text></td><td><text style=\"padding-right:2em\"><b>Neg</b></text></td><td><text style=\"padding-right:2em\"><b>-2.33</b></text></td><td><mark style=\"background-color: hsl(0, 75%, 87%); opacity:1.0;                     line-height:1.75\"><font color=\"black\"> #s                    </font></mark><mark style=\"background-color: hsl(0, 75%, 96%); opacity:1.0;                     line-height:1.75\"><font color=\"black\"> been                    </font></mark><mark style=\"background-color: hsl(0, 75%, 82%); opacity:1.0;                     line-height:1.75\"><font color=\"black\"> modeled                    </font></mark><mark style=\"background-color: hsl(0, 75%, 98%); opacity:1.0;                     line-height:1.75\"><font color=\"black\"> on                    </font></mark><mark style=\"background-color: hsl(0, 75%, 96%); opacity:1.0;                     line-height:1.75\"><font color=\"black\"> the                    </font></mark><mark style=\"background-color: hsl(0, 75%, 99%); opacity:1.0;                     line-height:1.75\"><font color=\"black\"> worst                    </font></mark><mark style=\"background-color: hsl(120, 75%, 100%); opacity:1.0;                     line-height:1.75\"><font color=\"black\"> revenge-of-the-nerds                    </font></mark><mark style=\"background-color: hsl(0, 75%, 99%); opacity:1.0;                     line-height:1.75\"><font color=\"black\"> clichÃ©s                    </font></mark><mark style=\"background-color: hsl(0, 75%, 98%); opacity:1.0;                     line-height:1.75\"><font color=\"black\"> the                    </font></mark><mark style=\"background-color: hsl(0, 75%, 99%); opacity:1.0;                     line-height:1.75\"><font color=\"black\"> filmmakers                    </font></mark><mark style=\"background-color: hsl(0, 75%, 99%); opacity:1.0;                     line-height:1.75\"><font color=\"black\"> could                    </font></mark><mark style=\"background-color: hsl(0, 75%, 100%); opacity:1.0;                     line-height:1.75\"><font color=\"black\"> dredge                    </font></mark><mark style=\"background-color: hsl(120, 75%, 100%); opacity:1.0;                     line-height:1.75\"><font color=\"black\"> up                    </font></mark><mark style=\"background-color: hsl(120, 75%, 89%); opacity:1.0;                     line-height:1.75\"><font color=\"black\">                     </font></mark><mark style=\"background-color: hsl(120, 75%, 86%); opacity:1.0;                     line-height:1.75\"><font color=\"black\"> #/s                    </font></mark></td><tr></table>"
      ],
      "text/plain": [
       "<IPython.core.display.HTML object>"
      ]
     },
     "metadata": {},
     "output_type": "display_data"
    },
    {
     "name": "stdout",
     "output_type": "stream",
     "text": [
      "<IPython.core.display.HTML object>\n",
      "Raw review: tell you \n",
      "GT target: 1\n",
      "word attr tensor([-0.1789, -0.4250, -0.2589, -0.7860, -0.3203])\n",
      "conti attr [tensor(-0.1789), tensor(-0.4250), tensor(-0.2589), tensor(-0.7860), tensor(-0.3203)]\n",
      "detokenized ['<s>', 'tell', 'you', '', '</s>']\n",
      "len conti_raw 5\n",
      "conti_raw ['<s>', 'tell', 'you', '', '</s>']\n"
     ]
    },
    {
     "data": {
      "text/html": [
       "<table width: 100%><div style=\"border-top: 1px solid; margin-top: 5px;             padding-top: 5px; display: inline-block\"><b>Legend: </b><span style=\"display: inline-block; width: 10px; height: 10px;                 border: 1px solid; background-color:                 hsl(0, 75%, 60%)\"></span> Negative  <span style=\"display: inline-block; width: 10px; height: 10px;                 border: 1px solid; background-color:                 hsl(0, 75%, 100%)\"></span> Neutral  <span style=\"display: inline-block; width: 10px; height: 10px;                 border: 1px solid; background-color:                 hsl(120, 75%, 50%)\"></span> Positive  </div><tr><th>True Label</th><th>Predicted Label</th><th>Attribution Label</th><th>Attribution Score</th><th>Word Importance</th><tr><td><text style=\"padding-right:2em\"><b>Pos</b></text></td><td><text style=\"padding-right:2em\"><b>Pos (0.93)</b></text></td><td><text style=\"padding-right:2em\"><b>Neg</b></text></td><td><text style=\"padding-right:2em\"><b>-1.97</b></text></td><td><mark style=\"background-color: hsl(0, 75%, 93%); opacity:1.0;                     line-height:1.75\"><font color=\"black\"> #s                    </font></mark><mark style=\"background-color: hsl(0, 75%, 84%); opacity:1.0;                     line-height:1.75\"><font color=\"black\"> tell                    </font></mark><mark style=\"background-color: hsl(0, 75%, 90%); opacity:1.0;                     line-height:1.75\"><font color=\"black\"> you                    </font></mark><mark style=\"background-color: hsl(0, 75%, 69%); opacity:1.0;                     line-height:1.75\"><font color=\"black\">                     </font></mark><mark style=\"background-color: hsl(0, 75%, 88%); opacity:1.0;                     line-height:1.75\"><font color=\"black\"> #/s                    </font></mark></td><tr></table>"
      ],
      "text/plain": [
       "<IPython.core.display.HTML object>"
      ]
     },
     "metadata": {},
     "output_type": "display_data"
    },
    {
     "name": "stdout",
     "output_type": "stream",
     "text": [
      "<IPython.core.display.HTML object>\n",
      "Raw review: utterly absorbing \n",
      "GT target: 1\n",
      "word attr tensor([ 0.3550, -0.5059, -0.3178,  0.5445,  0.4576,  0.1057])\n",
      "conti attr [tensor(0.3550), tensor(-0.8237), tensor(0.5445), tensor(0.4576), tensor(0.1057)]\n",
      "detokenized ['<s>', 'utter', 'ly', 'absorbing', '', '</s>']\n",
      "len conti_raw 5\n",
      "conti_raw ['<s>', 'utterly', 'absorbing', '', '</s>']\n"
     ]
    },
    {
     "data": {
      "text/html": [
       "<table width: 100%><div style=\"border-top: 1px solid; margin-top: 5px;             padding-top: 5px; display: inline-block\"><b>Legend: </b><span style=\"display: inline-block; width: 10px; height: 10px;                 border: 1px solid; background-color:                 hsl(0, 75%, 60%)\"></span> Negative  <span style=\"display: inline-block; width: 10px; height: 10px;                 border: 1px solid; background-color:                 hsl(0, 75%, 100%)\"></span> Neutral  <span style=\"display: inline-block; width: 10px; height: 10px;                 border: 1px solid; background-color:                 hsl(120, 75%, 50%)\"></span> Positive  </div><tr><th>True Label</th><th>Predicted Label</th><th>Attribution Label</th><th>Attribution Score</th><th>Word Importance</th><tr><td><text style=\"padding-right:2em\"><b>Pos</b></text></td><td><text style=\"padding-right:2em\"><b>Pos (1.00)</b></text></td><td><text style=\"padding-right:2em\"><b>Pos</b></text></td><td><text style=\"padding-right:2em\"><b>0.64</b></text></td><td><mark style=\"background-color: hsl(120, 75%, 83%); opacity:1.0;                     line-height:1.75\"><font color=\"black\"> #s                    </font></mark><mark style=\"background-color: hsl(0, 75%, 80%); opacity:1.0;                     line-height:1.75\"><font color=\"black\"> utterly                    </font></mark><mark style=\"background-color: hsl(0, 75%, 88%); opacity:1.0;                     line-height:1.75\"><font color=\"black\"> absorbing                    </font></mark><mark style=\"background-color: hsl(120, 75%, 73%); opacity:1.0;                     line-height:1.75\"><font color=\"black\">                     </font></mark><mark style=\"background-color: hsl(120, 75%, 78%); opacity:1.0;                     line-height:1.75\"><font color=\"black\"> #/s                    </font></mark></td><tr></table>"
      ],
      "text/plain": [
       "<IPython.core.display.HTML object>"
      ]
     },
     "metadata": {},
     "output_type": "display_data"
    },
    {
     "name": "stdout",
     "output_type": "stream",
     "text": [
      "<IPython.core.display.HTML object>\n",
      "Raw review: restate \n",
      "GT target: 0\n",
      "word attr tensor([-0.1691, -0.1623,  0.6632,  0.4505, -0.5497])\n",
      "conti attr [tensor(-0.1691), tensor(0.5009), tensor(0.4505), tensor(-0.5497)]\n",
      "detokenized ['<s>', 'rest', 'ate', '', '</s>']\n",
      "len conti_raw 4\n",
      "conti_raw ['<s>', 'restate', '', '</s>']\n"
     ]
    },
    {
     "data": {
      "text/html": [
       "<table width: 100%><div style=\"border-top: 1px solid; margin-top: 5px;             padding-top: 5px; display: inline-block\"><b>Legend: </b><span style=\"display: inline-block; width: 10px; height: 10px;                 border: 1px solid; background-color:                 hsl(0, 75%, 60%)\"></span> Negative  <span style=\"display: inline-block; width: 10px; height: 10px;                 border: 1px solid; background-color:                 hsl(0, 75%, 100%)\"></span> Neutral  <span style=\"display: inline-block; width: 10px; height: 10px;                 border: 1px solid; background-color:                 hsl(120, 75%, 50%)\"></span> Positive  </div><tr><th>True Label</th><th>Predicted Label</th><th>Attribution Label</th><th>Attribution Score</th><th>Word Importance</th><tr><td><text style=\"padding-right:2em\"><b>Neg</b></text></td><td><text style=\"padding-right:2em\"><b>Neg (0.05)</b></text></td><td><text style=\"padding-right:2em\"><b>Neg</b></text></td><td><text style=\"padding-right:2em\"><b>0.23</b></text></td><td><mark style=\"background-color: hsl(0, 75%, 94%); opacity:1.0;                     line-height:1.75\"><font color=\"black\"> #s                    </font></mark><mark style=\"background-color: hsl(0, 75%, 94%); opacity:1.0;                     line-height:1.75\"><font color=\"black\"> restate                    </font></mark><mark style=\"background-color: hsl(120, 75%, 67%); opacity:1.0;                     line-height:1.75\"><font color=\"black\">                     </font></mark><mark style=\"background-color: hsl(120, 75%, 78%); opacity:1.0;                     line-height:1.75\"><font color=\"black\"> #/s                    </font></mark></td><tr></table>"
      ],
      "text/plain": [
       "<IPython.core.display.HTML object>"
      ]
     },
     "metadata": {},
     "output_type": "display_data"
    },
    {
     "name": "stdout",
     "output_type": "stream",
     "text": [
      "<IPython.core.display.HTML object>\n",
      "Raw review: bears about as much resemblance to the experiences of most battered women as spider-man \n",
      "GT target: 0\n",
      "word attr tensor([-0.3005, -0.0646, -0.4716,  0.0770, -0.1443, -0.2357,  0.0622,  0.0995,\n",
      "        -0.0681, -0.3260, -0.1490, -0.0874,  0.5412, -0.1819, -0.1113,  0.1379,\n",
      "         0.0194, -0.2154, -0.1382, -0.1520])\n",
      "conti attr [tensor(-0.3005), tensor(-0.5362), tensor(0.0770), tensor(-0.1443), tensor(-0.2357), tensor(0.0622), tensor(0.0995), tensor(-0.0681), tensor(-0.3260), tensor(-0.1490), tensor(-0.0874), tensor(0.5412), tensor(-0.1819), tensor(-0.1113), tensor(-0.0581), tensor(-0.1382), tensor(-0.1520)]\n",
      "detokenized ['<s>', 'b', 'ears', 'about', 'as', 'much', 'resemblance', 'to', 'the', 'experiences', 'of', 'most', 'battered', 'women', 'as', 'spider', '-', 'man', '', '</s>']\n",
      "len conti_raw 17\n",
      "conti_raw ['<s>', 'bears', 'about', 'as', 'much', 'resemblance', 'to', 'the', 'experiences', 'of', 'most', 'battered', 'women', 'as', 'spider-man', '', '</s>']\n"
     ]
    },
    {
     "data": {
      "text/html": [
       "<table width: 100%><div style=\"border-top: 1px solid; margin-top: 5px;             padding-top: 5px; display: inline-block\"><b>Legend: </b><span style=\"display: inline-block; width: 10px; height: 10px;                 border: 1px solid; background-color:                 hsl(0, 75%, 60%)\"></span> Negative  <span style=\"display: inline-block; width: 10px; height: 10px;                 border: 1px solid; background-color:                 hsl(0, 75%, 100%)\"></span> Neutral  <span style=\"display: inline-block; width: 10px; height: 10px;                 border: 1px solid; background-color:                 hsl(120, 75%, 50%)\"></span> Positive  </div><tr><th>True Label</th><th>Predicted Label</th><th>Attribution Label</th><th>Attribution Score</th><th>Word Importance</th><tr><td><text style=\"padding-right:2em\"><b>Neg</b></text></td><td><text style=\"padding-right:2em\"><b>Neg (0.00)</b></text></td><td><text style=\"padding-right:2em\"><b>Neg</b></text></td><td><text style=\"padding-right:2em\"><b>-1.71</b></text></td><td><mark style=\"background-color: hsl(0, 75%, 88%); opacity:1.0;                     line-height:1.75\"><font color=\"black\"> #s                    </font></mark><mark style=\"background-color: hsl(0, 75%, 98%); opacity:1.0;                     line-height:1.75\"><font color=\"black\"> bears                    </font></mark><mark style=\"background-color: hsl(0, 75%, 82%); opacity:1.0;                     line-height:1.75\"><font color=\"black\"> about                    </font></mark><mark style=\"background-color: hsl(120, 75%, 97%); opacity:1.0;                     line-height:1.75\"><font color=\"black\"> as                    </font></mark><mark style=\"background-color: hsl(0, 75%, 95%); opacity:1.0;                     line-height:1.75\"><font color=\"black\"> much                    </font></mark><mark style=\"background-color: hsl(0, 75%, 91%); opacity:1.0;                     line-height:1.75\"><font color=\"black\"> resemblance                    </font></mark><mark style=\"background-color: hsl(120, 75%, 97%); opacity:1.0;                     line-height:1.75\"><font color=\"black\"> to                    </font></mark><mark style=\"background-color: hsl(120, 75%, 96%); opacity:1.0;                     line-height:1.75\"><font color=\"black\"> the                    </font></mark><mark style=\"background-color: hsl(0, 75%, 98%); opacity:1.0;                     line-height:1.75\"><font color=\"black\"> experiences                    </font></mark><mark style=\"background-color: hsl(0, 75%, 87%); opacity:1.0;                     line-height:1.75\"><font color=\"black\"> of                    </font></mark><mark style=\"background-color: hsl(0, 75%, 95%); opacity:1.0;                     line-height:1.75\"><font color=\"black\"> most                    </font></mark><mark style=\"background-color: hsl(0, 75%, 97%); opacity:1.0;                     line-height:1.75\"><font color=\"black\"> battered                    </font></mark><mark style=\"background-color: hsl(120, 75%, 73%); opacity:1.0;                     line-height:1.75\"><font color=\"black\"> women                    </font></mark><mark style=\"background-color: hsl(0, 75%, 93%); opacity:1.0;                     line-height:1.75\"><font color=\"black\"> as                    </font></mark><mark style=\"background-color: hsl(0, 75%, 96%); opacity:1.0;                     line-height:1.75\"><font color=\"black\"> spider-man                    </font></mark><mark style=\"background-color: hsl(120, 75%, 94%); opacity:1.0;                     line-height:1.75\"><font color=\"black\">                     </font></mark><mark style=\"background-color: hsl(120, 75%, 100%); opacity:1.0;                     line-height:1.75\"><font color=\"black\"> #/s                    </font></mark></td><tr></table>"
      ],
      "text/plain": [
       "<IPython.core.display.HTML object>"
      ]
     },
     "metadata": {},
     "output_type": "display_data"
    },
    {
     "name": "stdout",
     "output_type": "stream",
     "text": [
      "<IPython.core.display.HTML object>\n",
      "Raw review: expressively performed \n",
      "GT target: 1\n",
      "word attr tensor([ 0.4267,  0.3460,  0.2943,  0.5969, -0.4684,  0.1896])\n",
      "conti attr [tensor(0.4267), tensor(0.6403), tensor(0.5969), tensor(-0.4684), tensor(0.1896)]\n",
      "detokenized ['<s>', 'express', 'ively', 'performed', '', '</s>']\n",
      "len conti_raw 5\n",
      "conti_raw ['<s>', 'expressively', 'performed', '', '</s>']\n"
     ]
    },
    {
     "data": {
      "text/html": [
       "<table width: 100%><div style=\"border-top: 1px solid; margin-top: 5px;             padding-top: 5px; display: inline-block\"><b>Legend: </b><span style=\"display: inline-block; width: 10px; height: 10px;                 border: 1px solid; background-color:                 hsl(0, 75%, 60%)\"></span> Negative  <span style=\"display: inline-block; width: 10px; height: 10px;                 border: 1px solid; background-color:                 hsl(0, 75%, 100%)\"></span> Neutral  <span style=\"display: inline-block; width: 10px; height: 10px;                 border: 1px solid; background-color:                 hsl(120, 75%, 50%)\"></span> Positive  </div><tr><th>True Label</th><th>Predicted Label</th><th>Attribution Label</th><th>Attribution Score</th><th>Word Importance</th><tr><td><text style=\"padding-right:2em\"><b>Pos</b></text></td><td><text style=\"padding-right:2em\"><b>Pos (1.00)</b></text></td><td><text style=\"padding-right:2em\"><b>Pos</b></text></td><td><text style=\"padding-right:2em\"><b>1.39</b></text></td><td><mark style=\"background-color: hsl(120, 75%, 79%); opacity:1.0;                     line-height:1.75\"><font color=\"black\"> #s                    </font></mark><mark style=\"background-color: hsl(120, 75%, 83%); opacity:1.0;                     line-height:1.75\"><font color=\"black\"> expressively                    </font></mark><mark style=\"background-color: hsl(120, 75%, 86%); opacity:1.0;                     line-height:1.75\"><font color=\"black\"> performed                    </font></mark><mark style=\"background-color: hsl(120, 75%, 71%); opacity:1.0;                     line-height:1.75\"><font color=\"black\">                     </font></mark><mark style=\"background-color: hsl(0, 75%, 82%); opacity:1.0;                     line-height:1.75\"><font color=\"black\"> #/s                    </font></mark></td><tr></table>"
      ],
      "text/plain": [
       "<IPython.core.display.HTML object>"
      ]
     },
     "metadata": {},
     "output_type": "display_data"
    },
    {
     "name": "stdout",
     "output_type": "stream",
     "text": [
      "<IPython.core.display.HTML object>\n",
      "Raw review: the acting is amateurish , the cinematography is atrocious \n",
      "GT target: 0\n",
      "word attr tensor([-0.5251, -0.0669,  0.0617, -0.0906,  0.1062, -0.0898, -0.0395, -0.0342,\n",
      "        -0.2562, -0.6492,  0.0408, -0.0894, -0.0452,  0.4283,  0.0578])\n",
      "conti attr [tensor(-0.5251), tensor(-0.0669), tensor(0.0617), tensor(-0.0906), tensor(0.0164), tensor(-0.0395), tensor(-0.0342), tensor(-0.9055), tensor(0.0408), tensor(-0.1347), tensor(0.4283), tensor(0.0578)]\n",
      "detokenized ['<s>', 'the', 'acting', 'is', 'amateur', 'ish', ',', 'the', 'cinem', 'atography', 'is', 'atro', 'cious', '', '</s>']\n",
      "len conti_raw 12\n",
      "conti_raw ['<s>', 'the', 'acting', 'is', 'amateurish', ',', 'the', 'cinematography', 'is', 'atrocious', '', '</s>']\n"
     ]
    },
    {
     "data": {
      "text/html": [
       "<table width: 100%><div style=\"border-top: 1px solid; margin-top: 5px;             padding-top: 5px; display: inline-block\"><b>Legend: </b><span style=\"display: inline-block; width: 10px; height: 10px;                 border: 1px solid; background-color:                 hsl(0, 75%, 60%)\"></span> Negative  <span style=\"display: inline-block; width: 10px; height: 10px;                 border: 1px solid; background-color:                 hsl(0, 75%, 100%)\"></span> Neutral  <span style=\"display: inline-block; width: 10px; height: 10px;                 border: 1px solid; background-color:                 hsl(120, 75%, 50%)\"></span> Positive  </div><tr><th>True Label</th><th>Predicted Label</th><th>Attribution Label</th><th>Attribution Score</th><th>Word Importance</th><tr><td><text style=\"padding-right:2em\"><b>Neg</b></text></td><td><text style=\"padding-right:2em\"><b>Neg (0.00)</b></text></td><td><text style=\"padding-right:2em\"><b>Neg</b></text></td><td><text style=\"padding-right:2em\"><b>-1.19</b></text></td><td><mark style=\"background-color: hsl(0, 75%, 79%); opacity:1.0;                     line-height:1.75\"><font color=\"black\"> #s                    </font></mark><mark style=\"background-color: hsl(0, 75%, 98%); opacity:1.0;                     line-height:1.75\"><font color=\"black\"> the                    </font></mark><mark style=\"background-color: hsl(120, 75%, 97%); opacity:1.0;                     line-height:1.75\"><font color=\"black\"> acting                    </font></mark><mark style=\"background-color: hsl(0, 75%, 97%); opacity:1.0;                     line-height:1.75\"><font color=\"black\"> is                    </font></mark><mark style=\"background-color: hsl(120, 75%, 95%); opacity:1.0;                     line-height:1.75\"><font color=\"black\"> amateurish                    </font></mark><mark style=\"background-color: hsl(0, 75%, 97%); opacity:1.0;                     line-height:1.75\"><font color=\"black\"> ,                    </font></mark><mark style=\"background-color: hsl(0, 75%, 99%); opacity:1.0;                     line-height:1.75\"><font color=\"black\"> the                    </font></mark><mark style=\"background-color: hsl(0, 75%, 99%); opacity:1.0;                     line-height:1.75\"><font color=\"black\"> cinematography                    </font></mark><mark style=\"background-color: hsl(0, 75%, 90%); opacity:1.0;                     line-height:1.75\"><font color=\"black\"> is                    </font></mark><mark style=\"background-color: hsl(0, 75%, 75%); opacity:1.0;                     line-height:1.75\"><font color=\"black\"> atrocious                    </font></mark><mark style=\"background-color: hsl(120, 75%, 98%); opacity:1.0;                     line-height:1.75\"><font color=\"black\">                     </font></mark><mark style=\"background-color: hsl(0, 75%, 97%); opacity:1.0;                     line-height:1.75\"><font color=\"black\"> #/s                    </font></mark></td><tr></table>"
      ],
      "text/plain": [
       "<IPython.core.display.HTML object>"
      ]
     },
     "metadata": {},
     "output_type": "display_data"
    },
    {
     "name": "stdout",
     "output_type": "stream",
     "text": [
      "<IPython.core.display.HTML object>\n",
      "Raw review: solidly constructed \n",
      "GT target: 1\n",
      "word attr tensor([-0.6603, -0.3138, -0.3620, -0.5557,  0.1242, -0.1014])\n",
      "conti attr [tensor(-0.6603), tensor(-0.6758), tensor(-0.5557), tensor(0.1242), tensor(-0.1014)]\n",
      "detokenized ['<s>', 'solid', 'ly', 'constructed', '', '</s>']\n",
      "len conti_raw 5\n",
      "conti_raw ['<s>', 'solidly', 'constructed', '', '</s>']\n"
     ]
    },
    {
     "data": {
      "text/html": [
       "<table width: 100%><div style=\"border-top: 1px solid; margin-top: 5px;             padding-top: 5px; display: inline-block\"><b>Legend: </b><span style=\"display: inline-block; width: 10px; height: 10px;                 border: 1px solid; background-color:                 hsl(0, 75%, 60%)\"></span> Negative  <span style=\"display: inline-block; width: 10px; height: 10px;                 border: 1px solid; background-color:                 hsl(0, 75%, 100%)\"></span> Neutral  <span style=\"display: inline-block; width: 10px; height: 10px;                 border: 1px solid; background-color:                 hsl(120, 75%, 50%)\"></span> Positive  </div><tr><th>True Label</th><th>Predicted Label</th><th>Attribution Label</th><th>Attribution Score</th><th>Word Importance</th><tr><td><text style=\"padding-right:2em\"><b>Pos</b></text></td><td><text style=\"padding-right:2em\"><b>Pos (1.00)</b></text></td><td><text style=\"padding-right:2em\"><b>Neg</b></text></td><td><text style=\"padding-right:2em\"><b>-1.87</b></text></td><td><mark style=\"background-color: hsl(0, 75%, 74%); opacity:1.0;                     line-height:1.75\"><font color=\"black\"> #s                    </font></mark><mark style=\"background-color: hsl(0, 75%, 88%); opacity:1.0;                     line-height:1.75\"><font color=\"black\"> solidly                    </font></mark><mark style=\"background-color: hsl(0, 75%, 86%); opacity:1.0;                     line-height:1.75\"><font color=\"black\"> constructed                    </font></mark><mark style=\"background-color: hsl(0, 75%, 78%); opacity:1.0;                     line-height:1.75\"><font color=\"black\">                     </font></mark><mark style=\"background-color: hsl(120, 75%, 94%); opacity:1.0;                     line-height:1.75\"><font color=\"black\"> #/s                    </font></mark></td><tr></table>"
      ],
      "text/plain": [
       "<IPython.core.display.HTML object>"
      ]
     },
     "metadata": {},
     "output_type": "display_data"
    },
    {
     "name": "stdout",
     "output_type": "stream",
     "text": [
      "<IPython.core.display.HTML object>\n",
      "Raw review: are undermined by the movie 's presentation , which is way too stagy \n",
      "GT target: 0\n",
      "word attr tensor([ 0.4837, -0.0769,  0.1573, -0.0727, -0.1579, -0.0650, -0.1150,  0.1395,\n",
      "         0.0354,  0.2253, -0.3232,  0.1975,  0.0239,  0.1066, -0.5875,  0.0656,\n",
      "         0.3325,  0.0296])\n",
      "conti attr [tensor(0.4837), tensor(-0.0769), tensor(0.1573), tensor(-0.0727), tensor(-0.1579), tensor(-0.0650), tensor(0.0246), tensor(0.0354), tensor(0.2253), tensor(-0.3232), tensor(0.1975), tensor(0.0239), tensor(0.1066), tensor(-0.5219), tensor(0.3325), tensor(0.0296)]\n",
      "detokenized ['<s>', 'are', 'undermined', 'by', 'the', 'movie', \"'\", 's', 'presentation', ',', 'which', 'is', 'way', 'too', 'stag', 'y', '', '</s>']\n",
      "len conti_raw 16\n",
      "conti_raw ['<s>', 'are', 'undermined', 'by', 'the', 'movie', \"'s\", 'presentation', ',', 'which', 'is', 'way', 'too', 'stagy', '', '</s>']\n"
     ]
    },
    {
     "data": {
      "text/html": [
       "<table width: 100%><div style=\"border-top: 1px solid; margin-top: 5px;             padding-top: 5px; display: inline-block\"><b>Legend: </b><span style=\"display: inline-block; width: 10px; height: 10px;                 border: 1px solid; background-color:                 hsl(0, 75%, 60%)\"></span> Negative  <span style=\"display: inline-block; width: 10px; height: 10px;                 border: 1px solid; background-color:                 hsl(0, 75%, 100%)\"></span> Neutral  <span style=\"display: inline-block; width: 10px; height: 10px;                 border: 1px solid; background-color:                 hsl(120, 75%, 50%)\"></span> Positive  </div><tr><th>True Label</th><th>Predicted Label</th><th>Attribution Label</th><th>Attribution Score</th><th>Word Importance</th><tr><td><text style=\"padding-right:2em\"><b>Neg</b></text></td><td><text style=\"padding-right:2em\"><b>Neg (0.00)</b></text></td><td><text style=\"padding-right:2em\"><b>Neg</b></text></td><td><text style=\"padding-right:2em\"><b>0.40</b></text></td><td><mark style=\"background-color: hsl(120, 75%, 76%); opacity:1.0;                     line-height:1.75\"><font color=\"black\"> #s                    </font></mark><mark style=\"background-color: hsl(0, 75%, 97%); opacity:1.0;                     line-height:1.75\"><font color=\"black\"> are                    </font></mark><mark style=\"background-color: hsl(120, 75%, 93%); opacity:1.0;                     line-height:1.75\"><font color=\"black\"> undermined                    </font></mark><mark style=\"background-color: hsl(0, 75%, 98%); opacity:1.0;                     line-height:1.75\"><font color=\"black\"> by                    </font></mark><mark style=\"background-color: hsl(0, 75%, 94%); opacity:1.0;                     line-height:1.75\"><font color=\"black\"> the                    </font></mark><mark style=\"background-color: hsl(0, 75%, 98%); opacity:1.0;                     line-height:1.75\"><font color=\"black\"> movie                    </font></mark><mark style=\"background-color: hsl(0, 75%, 96%); opacity:1.0;                     line-height:1.75\"><font color=\"black\"> 's                    </font></mark><mark style=\"background-color: hsl(120, 75%, 94%); opacity:1.0;                     line-height:1.75\"><font color=\"black\"> presentation                    </font></mark><mark style=\"background-color: hsl(120, 75%, 99%); opacity:1.0;                     line-height:1.75\"><font color=\"black\"> ,                    </font></mark><mark style=\"background-color: hsl(120, 75%, 89%); opacity:1.0;                     line-height:1.75\"><font color=\"black\"> which                    </font></mark><mark style=\"background-color: hsl(0, 75%, 88%); opacity:1.0;                     line-height:1.75\"><font color=\"black\"> is                    </font></mark><mark style=\"background-color: hsl(120, 75%, 91%); opacity:1.0;                     line-height:1.75\"><font color=\"black\"> way                    </font></mark><mark style=\"background-color: hsl(120, 75%, 99%); opacity:1.0;                     line-height:1.75\"><font color=\"black\"> too                    </font></mark><mark style=\"background-color: hsl(120, 75%, 95%); opacity:1.0;                     line-height:1.75\"><font color=\"black\"> stagy                    </font></mark><mark style=\"background-color: hsl(0, 75%, 77%); opacity:1.0;                     line-height:1.75\"><font color=\"black\">                     </font></mark><mark style=\"background-color: hsl(120, 75%, 97%); opacity:1.0;                     line-height:1.75\"><font color=\"black\"> #/s                    </font></mark></td><tr></table>"
      ],
      "text/plain": [
       "<IPython.core.display.HTML object>"
      ]
     },
     "metadata": {},
     "output_type": "display_data"
    },
    {
     "name": "stdout",
     "output_type": "stream",
     "text": [
      "<IPython.core.display.HTML object>\n",
      "Raw review: a great film \n",
      "GT target: 1\n",
      "word attr tensor([0.7082, 0.1785, 0.1836, 0.4887, 0.2212, 0.3809])\n",
      "conti attr [tensor(0.7082), tensor(0.1785), tensor(0.1836), tensor(0.4887), tensor(0.2212), tensor(0.3809)]\n",
      "detokenized ['<s>', 'a', 'great', 'film', '', '</s>']\n",
      "len conti_raw 6\n",
      "conti_raw ['<s>', 'a', 'great', 'film', '', '</s>']\n"
     ]
    },
    {
     "data": {
      "text/html": [
       "<table width: 100%><div style=\"border-top: 1px solid; margin-top: 5px;             padding-top: 5px; display: inline-block\"><b>Legend: </b><span style=\"display: inline-block; width: 10px; height: 10px;                 border: 1px solid; background-color:                 hsl(0, 75%, 60%)\"></span> Negative  <span style=\"display: inline-block; width: 10px; height: 10px;                 border: 1px solid; background-color:                 hsl(0, 75%, 100%)\"></span> Neutral  <span style=\"display: inline-block; width: 10px; height: 10px;                 border: 1px solid; background-color:                 hsl(120, 75%, 50%)\"></span> Positive  </div><tr><th>True Label</th><th>Predicted Label</th><th>Attribution Label</th><th>Attribution Score</th><th>Word Importance</th><tr><td><text style=\"padding-right:2em\"><b>Pos</b></text></td><td><text style=\"padding-right:2em\"><b>Pos (1.00)</b></text></td><td><text style=\"padding-right:2em\"><b>Pos</b></text></td><td><text style=\"padding-right:2em\"><b>2.16</b></text></td><td><mark style=\"background-color: hsl(120, 75%, 65%); opacity:1.0;                     line-height:1.75\"><font color=\"black\"> #s                    </font></mark><mark style=\"background-color: hsl(120, 75%, 92%); opacity:1.0;                     line-height:1.75\"><font color=\"black\"> a                    </font></mark><mark style=\"background-color: hsl(120, 75%, 91%); opacity:1.0;                     line-height:1.75\"><font color=\"black\"> great                    </font></mark><mark style=\"background-color: hsl(120, 75%, 76%); opacity:1.0;                     line-height:1.75\"><font color=\"black\"> film                    </font></mark><mark style=\"background-color: hsl(120, 75%, 89%); opacity:1.0;                     line-height:1.75\"><font color=\"black\">                     </font></mark><mark style=\"background-color: hsl(120, 75%, 81%); opacity:1.0;                     line-height:1.75\"><font color=\"black\"> #/s                    </font></mark></td><tr></table>"
      ],
      "text/plain": [
       "<IPython.core.display.HTML object>"
      ]
     },
     "metadata": {},
     "output_type": "display_data"
    },
    {
     "name": "stdout",
     "output_type": "stream",
     "text": [
      "<IPython.core.display.HTML object>\n",
      "Raw review: charm \n",
      "GT target: 1\n",
      "word attr tensor([-0.8724, -0.4283,  0.0023, -0.0872, -0.2188])\n",
      "conti attr [tensor(-0.8724), tensor(-0.4260), tensor(-0.0872), tensor(-0.2188)]\n",
      "detokenized ['<s>', 'ch', 'arm', '', '</s>']\n",
      "len conti_raw 4\n",
      "conti_raw ['<s>', 'charm', '', '</s>']\n"
     ]
    },
    {
     "data": {
      "text/html": [
       "<table width: 100%><div style=\"border-top: 1px solid; margin-top: 5px;             padding-top: 5px; display: inline-block\"><b>Legend: </b><span style=\"display: inline-block; width: 10px; height: 10px;                 border: 1px solid; background-color:                 hsl(0, 75%, 60%)\"></span> Negative  <span style=\"display: inline-block; width: 10px; height: 10px;                 border: 1px solid; background-color:                 hsl(0, 75%, 100%)\"></span> Neutral  <span style=\"display: inline-block; width: 10px; height: 10px;                 border: 1px solid; background-color:                 hsl(120, 75%, 50%)\"></span> Positive  </div><tr><th>True Label</th><th>Predicted Label</th><th>Attribution Label</th><th>Attribution Score</th><th>Word Importance</th><tr><td><text style=\"padding-right:2em\"><b>Pos</b></text></td><td><text style=\"padding-right:2em\"><b>Pos (1.00)</b></text></td><td><text style=\"padding-right:2em\"><b>Neg</b></text></td><td><text style=\"padding-right:2em\"><b>-1.60</b></text></td><td><mark style=\"background-color: hsl(0, 75%, 66%); opacity:1.0;                     line-height:1.75\"><font color=\"black\"> #s                    </font></mark><mark style=\"background-color: hsl(0, 75%, 83%); opacity:1.0;                     line-height:1.75\"><font color=\"black\"> charm                    </font></mark><mark style=\"background-color: hsl(120, 75%, 100%); opacity:1.0;                     line-height:1.75\"><font color=\"black\">                     </font></mark><mark style=\"background-color: hsl(0, 75%, 97%); opacity:1.0;                     line-height:1.75\"><font color=\"black\"> #/s                    </font></mark></td><tr></table>"
      ],
      "text/plain": [
       "<IPython.core.display.HTML object>"
      ]
     },
     "metadata": {},
     "output_type": "display_data"
    },
    {
     "name": "stdout",
     "output_type": "stream",
     "text": [
      "<IPython.core.display.HTML object>\n",
      "Raw review: this new jangle of noise , mayhem and stupidity \n",
      "GT target: 0\n",
      "word attr tensor([ 0.4767,  0.2128,  0.1475,  0.1323, -0.0203,  0.0277, -0.1582,  0.3461,\n",
      "        -0.3721, -0.0031, -0.5836, -0.2003,  0.1520])\n",
      "conti attr [tensor(0.4767), tensor(0.2128), tensor(0.1475), tensor(0.1120), tensor(0.0277), tensor(-0.1582), tensor(0.3461), tensor(-0.3721), tensor(-0.0031), tensor(-0.5836), tensor(-0.2003), tensor(0.1520)]\n",
      "detokenized ['<s>', 'this', 'new', 'j', 'angle', 'of', 'noise', ',', 'mayhem', 'and', 'stupidity', '', '</s>']\n",
      "len conti_raw 12\n",
      "conti_raw ['<s>', 'this', 'new', 'jangle', 'of', 'noise', ',', 'mayhem', 'and', 'stupidity', '', '</s>']\n"
     ]
    },
    {
     "data": {
      "text/html": [
       "<table width: 100%><div style=\"border-top: 1px solid; margin-top: 5px;             padding-top: 5px; display: inline-block\"><b>Legend: </b><span style=\"display: inline-block; width: 10px; height: 10px;                 border: 1px solid; background-color:                 hsl(0, 75%, 60%)\"></span> Negative  <span style=\"display: inline-block; width: 10px; height: 10px;                 border: 1px solid; background-color:                 hsl(0, 75%, 100%)\"></span> Neutral  <span style=\"display: inline-block; width: 10px; height: 10px;                 border: 1px solid; background-color:                 hsl(120, 75%, 50%)\"></span> Positive  </div><tr><th>True Label</th><th>Predicted Label</th><th>Attribution Label</th><th>Attribution Score</th><th>Word Importance</th><tr><td><text style=\"padding-right:2em\"><b>Neg</b></text></td><td><text style=\"padding-right:2em\"><b>Neg (0.00)</b></text></td><td><text style=\"padding-right:2em\"><b>Neg</b></text></td><td><text style=\"padding-right:2em\"><b>0.16</b></text></td><td><mark style=\"background-color: hsl(120, 75%, 77%); opacity:1.0;                     line-height:1.75\"><font color=\"black\"> #s                    </font></mark><mark style=\"background-color: hsl(120, 75%, 90%); opacity:1.0;                     line-height:1.75\"><font color=\"black\"> this                    </font></mark><mark style=\"background-color: hsl(120, 75%, 93%); opacity:1.0;                     line-height:1.75\"><font color=\"black\"> new                    </font></mark><mark style=\"background-color: hsl(120, 75%, 94%); opacity:1.0;                     line-height:1.75\"><font color=\"black\"> jangle                    </font></mark><mark style=\"background-color: hsl(0, 75%, 100%); opacity:1.0;                     line-height:1.75\"><font color=\"black\"> of                    </font></mark><mark style=\"background-color: hsl(120, 75%, 99%); opacity:1.0;                     line-height:1.75\"><font color=\"black\"> noise                    </font></mark><mark style=\"background-color: hsl(0, 75%, 94%); opacity:1.0;                     line-height:1.75\"><font color=\"black\"> ,                    </font></mark><mark style=\"background-color: hsl(120, 75%, 83%); opacity:1.0;                     line-height:1.75\"><font color=\"black\"> mayhem                    </font></mark><mark style=\"background-color: hsl(0, 75%, 86%); opacity:1.0;                     line-height:1.75\"><font color=\"black\"> and                    </font></mark><mark style=\"background-color: hsl(0, 75%, 100%); opacity:1.0;                     line-height:1.75\"><font color=\"black\"> stupidity                    </font></mark><mark style=\"background-color: hsl(0, 75%, 77%); opacity:1.0;                     line-height:1.75\"><font color=\"black\">                     </font></mark><mark style=\"background-color: hsl(0, 75%, 92%); opacity:1.0;                     line-height:1.75\"><font color=\"black\"> #/s                    </font></mark></td><tr></table>"
      ],
      "text/plain": [
       "<IPython.core.display.HTML object>"
      ]
     },
     "metadata": {},
     "output_type": "display_data"
    },
    {
     "name": "stdout",
     "output_type": "stream",
     "text": [
      "<IPython.core.display.HTML object>\n",
      "Raw review: sustains it \n",
      "GT target: 1\n",
      "word attr tensor([-0.0300, -0.4068, -0.4607, -0.2589, -0.3577, -0.6513,  0.0466])\n",
      "conti attr [tensor(-0.0300), tensor(-1.1265), tensor(-0.3577), tensor(-0.6513), tensor(0.0466)]\n",
      "detokenized ['<s>', 's', 'ust', 'ains', 'it', '', '</s>']\n",
      "len conti_raw 5\n",
      "conti_raw ['<s>', 'sustains', 'it', '', '</s>']\n"
     ]
    },
    {
     "data": {
      "text/html": [
       "<table width: 100%><div style=\"border-top: 1px solid; margin-top: 5px;             padding-top: 5px; display: inline-block\"><b>Legend: </b><span style=\"display: inline-block; width: 10px; height: 10px;                 border: 1px solid; background-color:                 hsl(0, 75%, 60%)\"></span> Negative  <span style=\"display: inline-block; width: 10px; height: 10px;                 border: 1px solid; background-color:                 hsl(0, 75%, 100%)\"></span> Neutral  <span style=\"display: inline-block; width: 10px; height: 10px;                 border: 1px solid; background-color:                 hsl(120, 75%, 50%)\"></span> Positive  </div><tr><th>True Label</th><th>Predicted Label</th><th>Attribution Label</th><th>Attribution Score</th><th>Word Importance</th><tr><td><text style=\"padding-right:2em\"><b>Pos</b></text></td><td><text style=\"padding-right:2em\"><b>Pos (1.00)</b></text></td><td><text style=\"padding-right:2em\"><b>Neg</b></text></td><td><text style=\"padding-right:2em\"><b>-2.12</b></text></td><td><mark style=\"background-color: hsl(0, 75%, 99%); opacity:1.0;                     line-height:1.75\"><font color=\"black\"> #s                    </font></mark><mark style=\"background-color: hsl(0, 75%, 84%); opacity:1.0;                     line-height:1.75\"><font color=\"black\"> sustains                    </font></mark><mark style=\"background-color: hsl(0, 75%, 82%); opacity:1.0;                     line-height:1.75\"><font color=\"black\"> it                    </font></mark><mark style=\"background-color: hsl(0, 75%, 90%); opacity:1.0;                     line-height:1.75\"><font color=\"black\">                     </font></mark><mark style=\"background-color: hsl(0, 75%, 86%); opacity:1.0;                     line-height:1.75\"><font color=\"black\"> #/s                    </font></mark></td><tr></table>"
      ],
      "text/plain": [
       "<IPython.core.display.HTML object>"
      ]
     },
     "metadata": {},
     "output_type": "display_data"
    },
    {
     "name": "stdout",
     "output_type": "stream",
     "text": [
      "<IPython.core.display.HTML object>\n",
      "Raw review: is so deadly dull that watching the proverbial paint dry would be a welcome improvement . \n",
      "GT target: 0\n",
      "word attr tensor([ 0.7070,  0.0118, -0.0552, -0.4966,  0.0178, -0.0325, -0.1704,  0.0430,\n",
      "        -0.3163, -0.1454, -0.1059,  0.0665,  0.0340, -0.0507,  0.1533, -0.1386,\n",
      "         0.1669, -0.0622,  0.0559])\n",
      "conti attr [tensor(0.7070), tensor(0.0118), tensor(-0.0552), tensor(-0.4966), tensor(0.0178), tensor(-0.0325), tensor(-0.1704), tensor(0.0430), tensor(-0.3163), tensor(-0.1454), tensor(-0.1059), tensor(0.0665), tensor(0.0340), tensor(-0.0507), tensor(0.1533), tensor(-0.1386), tensor(0.1669), tensor(-0.0622), tensor(0.0559)]\n",
      "detokenized ['<s>', 'is', 'so', 'deadly', 'dull', 'that', 'watching', 'the', 'proverbial', 'paint', 'dry', 'would', 'be', 'a', 'welcome', 'improvement', '.', '', '</s>']\n",
      "len conti_raw 19\n",
      "conti_raw ['<s>', 'is', 'so', 'deadly', 'dull', 'that', 'watching', 'the', 'proverbial', 'paint', 'dry', 'would', 'be', 'a', 'welcome', 'improvement', '.', '', '</s>']\n"
     ]
    },
    {
     "data": {
      "text/html": [
       "<table width: 100%><div style=\"border-top: 1px solid; margin-top: 5px;             padding-top: 5px; display: inline-block\"><b>Legend: </b><span style=\"display: inline-block; width: 10px; height: 10px;                 border: 1px solid; background-color:                 hsl(0, 75%, 60%)\"></span> Negative  <span style=\"display: inline-block; width: 10px; height: 10px;                 border: 1px solid; background-color:                 hsl(0, 75%, 100%)\"></span> Neutral  <span style=\"display: inline-block; width: 10px; height: 10px;                 border: 1px solid; background-color:                 hsl(120, 75%, 50%)\"></span> Positive  </div><tr><th>True Label</th><th>Predicted Label</th><th>Attribution Label</th><th>Attribution Score</th><th>Word Importance</th><tr><td><text style=\"padding-right:2em\"><b>Neg</b></text></td><td><text style=\"padding-right:2em\"><b>Neg (0.00)</b></text></td><td><text style=\"padding-right:2em\"><b>Neg</b></text></td><td><text style=\"padding-right:2em\"><b>-0.32</b></text></td><td><mark style=\"background-color: hsl(120, 75%, 65%); opacity:1.0;                     line-height:1.75\"><font color=\"black\"> #s                    </font></mark><mark style=\"background-color: hsl(120, 75%, 100%); opacity:1.0;                     line-height:1.75\"><font color=\"black\"> is                    </font></mark><mark style=\"background-color: hsl(0, 75%, 98%); opacity:1.0;                     line-height:1.75\"><font color=\"black\"> so                    </font></mark><mark style=\"background-color: hsl(0, 75%, 81%); opacity:1.0;                     line-height:1.75\"><font color=\"black\"> deadly                    </font></mark><mark style=\"background-color: hsl(120, 75%, 100%); opacity:1.0;                     line-height:1.75\"><font color=\"black\"> dull                    </font></mark><mark style=\"background-color: hsl(0, 75%, 99%); opacity:1.0;                     line-height:1.75\"><font color=\"black\"> that                    </font></mark><mark style=\"background-color: hsl(0, 75%, 94%); opacity:1.0;                     line-height:1.75\"><font color=\"black\"> watching                    </font></mark><mark style=\"background-color: hsl(120, 75%, 98%); opacity:1.0;                     line-height:1.75\"><font color=\"black\"> the                    </font></mark><mark style=\"background-color: hsl(0, 75%, 88%); opacity:1.0;                     line-height:1.75\"><font color=\"black\"> proverbial                    </font></mark><mark style=\"background-color: hsl(0, 75%, 95%); opacity:1.0;                     line-height:1.75\"><font color=\"black\"> paint                    </font></mark><mark style=\"background-color: hsl(0, 75%, 96%); opacity:1.0;                     line-height:1.75\"><font color=\"black\"> dry                    </font></mark><mark style=\"background-color: hsl(120, 75%, 97%); opacity:1.0;                     line-height:1.75\"><font color=\"black\"> would                    </font></mark><mark style=\"background-color: hsl(120, 75%, 99%); opacity:1.0;                     line-height:1.75\"><font color=\"black\"> be                    </font></mark><mark style=\"background-color: hsl(0, 75%, 98%); opacity:1.0;                     line-height:1.75\"><font color=\"black\"> a                    </font></mark><mark style=\"background-color: hsl(120, 75%, 93%); opacity:1.0;                     line-height:1.75\"><font color=\"black\"> welcome                    </font></mark><mark style=\"background-color: hsl(0, 75%, 95%); opacity:1.0;                     line-height:1.75\"><font color=\"black\"> improvement                    </font></mark><mark style=\"background-color: hsl(120, 75%, 92%); opacity:1.0;                     line-height:1.75\"><font color=\"black\"> .                    </font></mark><mark style=\"background-color: hsl(0, 75%, 98%); opacity:1.0;                     line-height:1.75\"><font color=\"black\">                     </font></mark><mark style=\"background-color: hsl(120, 75%, 98%); opacity:1.0;                     line-height:1.75\"><font color=\"black\"> #/s                    </font></mark></td><tr></table>"
      ],
      "text/plain": [
       "<IPython.core.display.HTML object>"
      ]
     },
     "metadata": {},
     "output_type": "display_data"
    },
    {
     "name": "stdout",
     "output_type": "stream",
     "text": [
      "<IPython.core.display.HTML object>\n",
      "Raw review: to accomplish \n",
      "GT target: 1\n",
      "word attr tensor([-0.6969,  0.0597, -0.6574,  0.0884, -0.2660])\n",
      "conti attr [tensor(-0.6969), tensor(0.0597), tensor(-0.6574), tensor(0.0884), tensor(-0.2660)]\n",
      "detokenized ['<s>', 'to', 'accomplish', '', '</s>']\n",
      "len conti_raw 5\n",
      "conti_raw ['<s>', 'to', 'accomplish', '', '</s>']\n"
     ]
    },
    {
     "data": {
      "text/html": [
       "<table width: 100%><div style=\"border-top: 1px solid; margin-top: 5px;             padding-top: 5px; display: inline-block\"><b>Legend: </b><span style=\"display: inline-block; width: 10px; height: 10px;                 border: 1px solid; background-color:                 hsl(0, 75%, 60%)\"></span> Negative  <span style=\"display: inline-block; width: 10px; height: 10px;                 border: 1px solid; background-color:                 hsl(0, 75%, 100%)\"></span> Neutral  <span style=\"display: inline-block; width: 10px; height: 10px;                 border: 1px solid; background-color:                 hsl(120, 75%, 50%)\"></span> Positive  </div><tr><th>True Label</th><th>Predicted Label</th><th>Attribution Label</th><th>Attribution Score</th><th>Word Importance</th><tr><td><text style=\"padding-right:2em\"><b>Pos</b></text></td><td><text style=\"padding-right:2em\"><b>Pos (0.99)</b></text></td><td><text style=\"padding-right:2em\"><b>Neg</b></text></td><td><text style=\"padding-right:2em\"><b>-1.47</b></text></td><td><mark style=\"background-color: hsl(0, 75%, 73%); opacity:1.0;                     line-height:1.75\"><font color=\"black\"> #s                    </font></mark><mark style=\"background-color: hsl(120, 75%, 98%); opacity:1.0;                     line-height:1.75\"><font color=\"black\"> to                    </font></mark><mark style=\"background-color: hsl(0, 75%, 74%); opacity:1.0;                     line-height:1.75\"><font color=\"black\"> accomplish                    </font></mark><mark style=\"background-color: hsl(120, 75%, 96%); opacity:1.0;                     line-height:1.75\"><font color=\"black\">                     </font></mark><mark style=\"background-color: hsl(0, 75%, 90%); opacity:1.0;                     line-height:1.75\"><font color=\"black\"> #/s                    </font></mark></td><tr></table>"
      ],
      "text/plain": [
       "<IPython.core.display.HTML object>"
      ]
     },
     "metadata": {},
     "output_type": "display_data"
    },
    {
     "name": "stdout",
     "output_type": "stream",
     "text": [
      "<IPython.core.display.HTML object>\n",
      "Raw review: does n't work . \n",
      "GT target: 0\n",
      "word attr tensor([-0.2454, -0.8083, -0.0632, -0.3270,  0.2514, -0.1200, -0.0083, -0.3129])\n",
      "conti attr [tensor(-0.2454), tensor(-0.8083), tensor(-0.3902), tensor(0.2514), tensor(-0.1200), tensor(-0.0083), tensor(-0.3129)]\n",
      "detokenized ['<s>', 'does', 'n', \"'t\", 'work', '.', '', '</s>']\n",
      "len conti_raw 7\n",
      "conti_raw ['<s>', 'does', \"n't\", 'work', '.', '', '</s>']\n"
     ]
    },
    {
     "data": {
      "text/html": [
       "<table width: 100%><div style=\"border-top: 1px solid; margin-top: 5px;             padding-top: 5px; display: inline-block\"><b>Legend: </b><span style=\"display: inline-block; width: 10px; height: 10px;                 border: 1px solid; background-color:                 hsl(0, 75%, 60%)\"></span> Negative  <span style=\"display: inline-block; width: 10px; height: 10px;                 border: 1px solid; background-color:                 hsl(0, 75%, 100%)\"></span> Neutral  <span style=\"display: inline-block; width: 10px; height: 10px;                 border: 1px solid; background-color:                 hsl(120, 75%, 50%)\"></span> Positive  </div><tr><th>True Label</th><th>Predicted Label</th><th>Attribution Label</th><th>Attribution Score</th><th>Word Importance</th><tr><td><text style=\"padding-right:2em\"><b>Neg</b></text></td><td><text style=\"padding-right:2em\"><b>Neg (0.00)</b></text></td><td><text style=\"padding-right:2em\"><b>Neg</b></text></td><td><text style=\"padding-right:2em\"><b>-1.63</b></text></td><td><mark style=\"background-color: hsl(0, 75%, 91%); opacity:1.0;                     line-height:1.75\"><font color=\"black\"> #s                    </font></mark><mark style=\"background-color: hsl(0, 75%, 68%); opacity:1.0;                     line-height:1.75\"><font color=\"black\"> does                    </font></mark><mark style=\"background-color: hsl(0, 75%, 98%); opacity:1.0;                     line-height:1.75\"><font color=\"black\"> n't                    </font></mark><mark style=\"background-color: hsl(0, 75%, 87%); opacity:1.0;                     line-height:1.75\"><font color=\"black\"> work                    </font></mark><mark style=\"background-color: hsl(120, 75%, 88%); opacity:1.0;                     line-height:1.75\"><font color=\"black\"> .                    </font></mark><mark style=\"background-color: hsl(0, 75%, 96%); opacity:1.0;                     line-height:1.75\"><font color=\"black\">                     </font></mark><mark style=\"background-color: hsl(0, 75%, 100%); opacity:1.0;                     line-height:1.75\"><font color=\"black\"> #/s                    </font></mark></td><tr></table>"
      ],
      "text/plain": [
       "<IPython.core.display.HTML object>"
      ]
     },
     "metadata": {},
     "output_type": "display_data"
    },
    {
     "name": "stdout",
     "output_type": "stream",
     "text": [
      "<IPython.core.display.HTML object>\n",
      "Raw review: given it a one-star rating \n",
      "GT target: 0\n",
      "word attr tensor([ 0.2992, -0.5920, -0.1519, -0.2054,  0.0694, -0.3554,  0.4096, -0.4194,\n",
      "         0.1390, -0.0234])\n",
      "conti attr [tensor(0.2992), tensor(-0.5920), tensor(-0.1519), tensor(-0.2054), tensor(0.1236), tensor(-0.4194), tensor(0.1390), tensor(-0.0234)]\n",
      "detokenized ['<s>', 'given', 'it', 'a', 'one', '-', 'star', 'rating', '', '</s>']\n",
      "len conti_raw 8\n",
      "conti_raw ['<s>', 'given', 'it', 'a', 'one-star', 'rating', '', '</s>']\n"
     ]
    },
    {
     "data": {
      "text/html": [
       "<table width: 100%><div style=\"border-top: 1px solid; margin-top: 5px;             padding-top: 5px; display: inline-block\"><b>Legend: </b><span style=\"display: inline-block; width: 10px; height: 10px;                 border: 1px solid; background-color:                 hsl(0, 75%, 60%)\"></span> Negative  <span style=\"display: inline-block; width: 10px; height: 10px;                 border: 1px solid; background-color:                 hsl(0, 75%, 100%)\"></span> Neutral  <span style=\"display: inline-block; width: 10px; height: 10px;                 border: 1px solid; background-color:                 hsl(120, 75%, 50%)\"></span> Positive  </div><tr><th>True Label</th><th>Predicted Label</th><th>Attribution Label</th><th>Attribution Score</th><th>Word Importance</th><tr><td><text style=\"padding-right:2em\"><b>Neg</b></text></td><td><text style=\"padding-right:2em\"><b>Neg (0.00)</b></text></td><td><text style=\"padding-right:2em\"><b>Neg</b></text></td><td><text style=\"padding-right:2em\"><b>-0.83</b></text></td><td><mark style=\"background-color: hsl(120, 75%, 86%); opacity:1.0;                     line-height:1.75\"><font color=\"black\"> #s                    </font></mark><mark style=\"background-color: hsl(0, 75%, 77%); opacity:1.0;                     line-height:1.75\"><font color=\"black\"> given                    </font></mark><mark style=\"background-color: hsl(0, 75%, 94%); opacity:1.0;                     line-height:1.75\"><font color=\"black\"> it                    </font></mark><mark style=\"background-color: hsl(0, 75%, 92%); opacity:1.0;                     line-height:1.75\"><font color=\"black\"> a                    </font></mark><mark style=\"background-color: hsl(120, 75%, 97%); opacity:1.0;                     line-height:1.75\"><font color=\"black\"> one-star                    </font></mark><mark style=\"background-color: hsl(0, 75%, 86%); opacity:1.0;                     line-height:1.75\"><font color=\"black\"> rating                    </font></mark><mark style=\"background-color: hsl(120, 75%, 80%); opacity:1.0;                     line-height:1.75\"><font color=\"black\">                     </font></mark><mark style=\"background-color: hsl(0, 75%, 84%); opacity:1.0;                     line-height:1.75\"><font color=\"black\"> #/s                    </font></mark></td><tr></table>"
      ],
      "text/plain": [
       "<IPython.core.display.HTML object>"
      ]
     },
     "metadata": {},
     "output_type": "display_data"
    },
    {
     "name": "stdout",
     "output_type": "stream",
     "text": [
      "<IPython.core.display.HTML object>\n",
      "Raw review: ice cube is n't quite out of ripe screwball ideas , but friday after next spreads them pretty thin \n",
      "GT target: 0\n",
      "word attr tensor([-0.1804, -0.1682, -0.2743, -0.1604, -0.3034, -0.1489, -0.2402,  0.0304,\n",
      "        -0.1363, -0.3342, -0.2280, -0.1013, -0.0255, -0.0657, -0.0168, -0.1917,\n",
      "         0.1320, -0.1126,  0.0468, -0.2286, -0.0699, -0.1829, -0.3115, -0.4315,\n",
      "        -0.1572])\n",
      "conti attr [tensor(-0.1804), tensor(-0.1682), tensor(-0.2743), tensor(-0.1604), tensor(-0.4523), tensor(-0.2402), tensor(0.0304), tensor(-0.1363), tensor(-0.3342), tensor(-0.3293), tensor(-0.0255), tensor(-0.0657), tensor(-0.0168), tensor(-0.0597), tensor(-0.1126), tensor(0.0468), tensor(-0.2286), tensor(-0.0699), tensor(-0.1829), tensor(-0.3115), tensor(-0.4315), tensor(-0.1572)]\n",
      "detokenized ['<s>', 'ice', 'cube', 'is', 'n', \"'t\", 'quite', 'out', 'of', 'ripe', 'screw', 'ball', 'ideas', ',', 'but', 'fr', 'iday', 'after', 'next', 'spreads', 'them', 'pretty', 'thin', '', '</s>']\n",
      "len conti_raw 22\n",
      "conti_raw ['<s>', 'ice', 'cube', 'is', \"n't\", 'quite', 'out', 'of', 'ripe', 'screwball', 'ideas', ',', 'but', 'friday', 'after', 'next', 'spreads', 'them', 'pretty', 'thin', '', '</s>']\n"
     ]
    },
    {
     "data": {
      "text/html": [
       "<table width: 100%><div style=\"border-top: 1px solid; margin-top: 5px;             padding-top: 5px; display: inline-block\"><b>Legend: </b><span style=\"display: inline-block; width: 10px; height: 10px;                 border: 1px solid; background-color:                 hsl(0, 75%, 60%)\"></span> Negative  <span style=\"display: inline-block; width: 10px; height: 10px;                 border: 1px solid; background-color:                 hsl(0, 75%, 100%)\"></span> Neutral  <span style=\"display: inline-block; width: 10px; height: 10px;                 border: 1px solid; background-color:                 hsl(120, 75%, 50%)\"></span> Positive  </div><tr><th>True Label</th><th>Predicted Label</th><th>Attribution Label</th><th>Attribution Score</th><th>Word Importance</th><tr><td><text style=\"padding-right:2em\"><b>Neg</b></text></td><td><text style=\"padding-right:2em\"><b>Neg (0.00)</b></text></td><td><text style=\"padding-right:2em\"><b>Neg</b></text></td><td><text style=\"padding-right:2em\"><b>-3.86</b></text></td><td><mark style=\"background-color: hsl(0, 75%, 93%); opacity:1.0;                     line-height:1.75\"><font color=\"black\"> #s                    </font></mark><mark style=\"background-color: hsl(0, 75%, 94%); opacity:1.0;                     line-height:1.75\"><font color=\"black\"> ice                    </font></mark><mark style=\"background-color: hsl(0, 75%, 90%); opacity:1.0;                     line-height:1.75\"><font color=\"black\"> cube                    </font></mark><mark style=\"background-color: hsl(0, 75%, 94%); opacity:1.0;                     line-height:1.75\"><font color=\"black\"> is                    </font></mark><mark style=\"background-color: hsl(0, 75%, 88%); opacity:1.0;                     line-height:1.75\"><font color=\"black\"> n't                    </font></mark><mark style=\"background-color: hsl(0, 75%, 95%); opacity:1.0;                     line-height:1.75\"><font color=\"black\"> quite                    </font></mark><mark style=\"background-color: hsl(0, 75%, 91%); opacity:1.0;                     line-height:1.75\"><font color=\"black\"> out                    </font></mark><mark style=\"background-color: hsl(120, 75%, 99%); opacity:1.0;                     line-height:1.75\"><font color=\"black\"> of                    </font></mark><mark style=\"background-color: hsl(0, 75%, 95%); opacity:1.0;                     line-height:1.75\"><font color=\"black\"> ripe                    </font></mark><mark style=\"background-color: hsl(0, 75%, 87%); opacity:1.0;                     line-height:1.75\"><font color=\"black\"> screwball                    </font></mark><mark style=\"background-color: hsl(0, 75%, 91%); opacity:1.0;                     line-height:1.75\"><font color=\"black\"> ideas                    </font></mark><mark style=\"background-color: hsl(0, 75%, 96%); opacity:1.0;                     line-height:1.75\"><font color=\"black\"> ,                    </font></mark><mark style=\"background-color: hsl(0, 75%, 99%); opacity:1.0;                     line-height:1.75\"><font color=\"black\"> but                    </font></mark><mark style=\"background-color: hsl(0, 75%, 98%); opacity:1.0;                     line-height:1.75\"><font color=\"black\"> friday                    </font></mark><mark style=\"background-color: hsl(0, 75%, 100%); opacity:1.0;                     line-height:1.75\"><font color=\"black\"> after                    </font></mark><mark style=\"background-color: hsl(0, 75%, 93%); opacity:1.0;                     line-height:1.75\"><font color=\"black\"> next                    </font></mark><mark style=\"background-color: hsl(120, 75%, 94%); opacity:1.0;                     line-height:1.75\"><font color=\"black\"> spreads                    </font></mark><mark style=\"background-color: hsl(0, 75%, 96%); opacity:1.0;                     line-height:1.75\"><font color=\"black\"> them                    </font></mark><mark style=\"background-color: hsl(120, 75%, 98%); opacity:1.0;                     line-height:1.75\"><font color=\"black\"> pretty                    </font></mark><mark style=\"background-color: hsl(0, 75%, 91%); opacity:1.0;                     line-height:1.75\"><font color=\"black\"> thin                    </font></mark><mark style=\"background-color: hsl(0, 75%, 98%); opacity:1.0;                     line-height:1.75\"><font color=\"black\">                     </font></mark><mark style=\"background-color: hsl(0, 75%, 93%); opacity:1.0;                     line-height:1.75\"><font color=\"black\"> #/s                    </font></mark></td><tr></table>"
      ],
      "text/plain": [
       "<IPython.core.display.HTML object>"
      ]
     },
     "metadata": {},
     "output_type": "display_data"
    },
    {
     "name": "stdout",
     "output_type": "stream",
     "text": [
      "<IPython.core.display.HTML object>\n",
      "Raw review: been trying to forget \n",
      "GT target: 0\n",
      "word attr tensor([-0.2516, -0.2694,  0.1247,  0.0085, -0.3495, -0.4386, -0.7307])\n",
      "conti attr [tensor(-0.2516), tensor(-0.2694), tensor(0.1247), tensor(0.0085), tensor(-0.3495), tensor(-0.4386), tensor(-0.7307)]\n",
      "detokenized ['<s>', 'been', 'trying', 'to', 'forget', '', '</s>']\n",
      "len conti_raw 7\n",
      "conti_raw ['<s>', 'been', 'trying', 'to', 'forget', '', '</s>']\n"
     ]
    },
    {
     "data": {
      "text/html": [
       "<table width: 100%><div style=\"border-top: 1px solid; margin-top: 5px;             padding-top: 5px; display: inline-block\"><b>Legend: </b><span style=\"display: inline-block; width: 10px; height: 10px;                 border: 1px solid; background-color:                 hsl(0, 75%, 60%)\"></span> Negative  <span style=\"display: inline-block; width: 10px; height: 10px;                 border: 1px solid; background-color:                 hsl(0, 75%, 100%)\"></span> Neutral  <span style=\"display: inline-block; width: 10px; height: 10px;                 border: 1px solid; background-color:                 hsl(120, 75%, 50%)\"></span> Positive  </div><tr><th>True Label</th><th>Predicted Label</th><th>Attribution Label</th><th>Attribution Score</th><th>Word Importance</th><tr><td><text style=\"padding-right:2em\"><b>Neg</b></text></td><td><text style=\"padding-right:2em\"><b>Neg (0.01)</b></text></td><td><text style=\"padding-right:2em\"><b>Neg</b></text></td><td><text style=\"padding-right:2em\"><b>-1.91</b></text></td><td><mark style=\"background-color: hsl(0, 75%, 90%); opacity:1.0;                     line-height:1.75\"><font color=\"black\"> #s                    </font></mark><mark style=\"background-color: hsl(0, 75%, 90%); opacity:1.0;                     line-height:1.75\"><font color=\"black\"> been                    </font></mark><mark style=\"background-color: hsl(120, 75%, 94%); opacity:1.0;                     line-height:1.75\"><font color=\"black\"> trying                    </font></mark><mark style=\"background-color: hsl(120, 75%, 100%); opacity:1.0;                     line-height:1.75\"><font color=\"black\"> to                    </font></mark><mark style=\"background-color: hsl(0, 75%, 87%); opacity:1.0;                     line-height:1.75\"><font color=\"black\"> forget                    </font></mark><mark style=\"background-color: hsl(0, 75%, 83%); opacity:1.0;                     line-height:1.75\"><font color=\"black\">                     </font></mark><mark style=\"background-color: hsl(0, 75%, 71%); opacity:1.0;                     line-height:1.75\"><font color=\"black\"> #/s                    </font></mark></td><tr></table>"
      ],
      "text/plain": [
       "<IPython.core.display.HTML object>"
      ]
     },
     "metadata": {},
     "output_type": "display_data"
    },
    {
     "name": "stdout",
     "output_type": "stream",
     "text": [
      "<IPython.core.display.HTML object>\n",
      "Raw review: big stars and \n",
      "GT target: 1\n",
      "word attr tensor([ 0.6895,  0.6031,  0.1554, -0.1697,  0.1729,  0.2794])\n",
      "conti attr [tensor(0.6895), tensor(0.6031), tensor(0.1554), tensor(-0.1697), tensor(0.1729), tensor(0.2794)]\n",
      "detokenized ['<s>', 'big', 'stars', 'and', '', '</s>']\n",
      "len conti_raw 6\n",
      "conti_raw ['<s>', 'big', 'stars', 'and', '', '</s>']\n"
     ]
    },
    {
     "data": {
      "text/html": [
       "<table width: 100%><div style=\"border-top: 1px solid; margin-top: 5px;             padding-top: 5px; display: inline-block\"><b>Legend: </b><span style=\"display: inline-block; width: 10px; height: 10px;                 border: 1px solid; background-color:                 hsl(0, 75%, 60%)\"></span> Negative  <span style=\"display: inline-block; width: 10px; height: 10px;                 border: 1px solid; background-color:                 hsl(0, 75%, 100%)\"></span> Neutral  <span style=\"display: inline-block; width: 10px; height: 10px;                 border: 1px solid; background-color:                 hsl(120, 75%, 50%)\"></span> Positive  </div><tr><th>True Label</th><th>Predicted Label</th><th>Attribution Label</th><th>Attribution Score</th><th>Word Importance</th><tr><td><text style=\"padding-right:2em\"><b>Pos</b></text></td><td><text style=\"padding-right:2em\"><b>Pos (1.00)</b></text></td><td><text style=\"padding-right:2em\"><b>Pos</b></text></td><td><text style=\"padding-right:2em\"><b>1.73</b></text></td><td><mark style=\"background-color: hsl(120, 75%, 66%); opacity:1.0;                     line-height:1.75\"><font color=\"black\"> #s                    </font></mark><mark style=\"background-color: hsl(120, 75%, 70%); opacity:1.0;                     line-height:1.75\"><font color=\"black\"> big                    </font></mark><mark style=\"background-color: hsl(120, 75%, 93%); opacity:1.0;                     line-height:1.75\"><font color=\"black\"> stars                    </font></mark><mark style=\"background-color: hsl(0, 75%, 94%); opacity:1.0;                     line-height:1.75\"><font color=\"black\"> and                    </font></mark><mark style=\"background-color: hsl(120, 75%, 92%); opacity:1.0;                     line-height:1.75\"><font color=\"black\">                     </font></mark><mark style=\"background-color: hsl(120, 75%, 87%); opacity:1.0;                     line-height:1.75\"><font color=\"black\"> #/s                    </font></mark></td><tr></table>"
      ],
      "text/plain": [
       "<IPython.core.display.HTML object>"
      ]
     },
     "metadata": {},
     "output_type": "display_data"
    },
    {
     "name": "stdout",
     "output_type": "stream",
     "text": [
      "<IPython.core.display.HTML object>\n",
      "Raw review: of cheesy dialogue \n",
      "GT target: 0\n",
      "word attr tensor([ 0.4829,  0.7277, -0.2002,  0.2073,  0.3919,  0.0248])\n",
      "conti attr [tensor(0.4829), tensor(0.7277), tensor(-0.2002), tensor(0.2073), tensor(0.3919), tensor(0.0248)]\n",
      "detokenized ['<s>', 'of', 'cheesy', 'dialogue', '', '</s>']\n",
      "len conti_raw 6\n",
      "conti_raw ['<s>', 'of', 'cheesy', 'dialogue', '', '</s>']\n"
     ]
    },
    {
     "data": {
      "text/html": [
       "<table width: 100%><div style=\"border-top: 1px solid; margin-top: 5px;             padding-top: 5px; display: inline-block\"><b>Legend: </b><span style=\"display: inline-block; width: 10px; height: 10px;                 border: 1px solid; background-color:                 hsl(0, 75%, 60%)\"></span> Negative  <span style=\"display: inline-block; width: 10px; height: 10px;                 border: 1px solid; background-color:                 hsl(0, 75%, 100%)\"></span> Neutral  <span style=\"display: inline-block; width: 10px; height: 10px;                 border: 1px solid; background-color:                 hsl(120, 75%, 50%)\"></span> Positive  </div><tr><th>True Label</th><th>Predicted Label</th><th>Attribution Label</th><th>Attribution Score</th><th>Word Importance</th><tr><td><text style=\"padding-right:2em\"><b>Neg</b></text></td><td><text style=\"padding-right:2em\"><b>Neg (0.00)</b></text></td><td><text style=\"padding-right:2em\"><b>Pos</b></text></td><td><text style=\"padding-right:2em\"><b>1.63</b></text></td><td><mark style=\"background-color: hsl(120, 75%, 76%); opacity:1.0;                     line-height:1.75\"><font color=\"black\"> #s                    </font></mark><mark style=\"background-color: hsl(120, 75%, 64%); opacity:1.0;                     line-height:1.75\"><font color=\"black\"> of                    </font></mark><mark style=\"background-color: hsl(0, 75%, 92%); opacity:1.0;                     line-height:1.75\"><font color=\"black\"> cheesy                    </font></mark><mark style=\"background-color: hsl(120, 75%, 90%); opacity:1.0;                     line-height:1.75\"><font color=\"black\"> dialogue                    </font></mark><mark style=\"background-color: hsl(120, 75%, 81%); opacity:1.0;                     line-height:1.75\"><font color=\"black\">                     </font></mark><mark style=\"background-color: hsl(120, 75%, 99%); opacity:1.0;                     line-height:1.75\"><font color=\"black\"> #/s                    </font></mark></td><tr></table>"
      ],
      "text/plain": [
       "<IPython.core.display.HTML object>"
      ]
     },
     "metadata": {},
     "output_type": "display_data"
    },
    {
     "name": "stdout",
     "output_type": "stream",
     "text": [
      "<IPython.core.display.HTML object>\n",
      "Raw review: the château is never quite able to overcome the cultural moat surrounding its ludicrous and contrived plot . ' \n",
      "GT target: 0\n",
      "word attr tensor([-0.2489, -0.0705, -0.1121, -0.3069,  0.1013, -0.2183,  0.0977, -0.1515,\n",
      "        -0.1466,  0.1373, -0.0089, -0.2277, -0.0008, -0.1802, -0.0205, -0.0705,\n",
      "        -0.1412, -0.0351,  0.2729, -0.0630, -0.0379,  0.3012, -0.2723, -0.4191,\n",
      "        -0.0729, -0.3657, -0.1587])\n",
      "conti attr [tensor(-0.2489), tensor(-0.0705), tensor(-0.5361), tensor(0.0977), tensor(-0.1515), tensor(-0.1466), tensor(0.1373), tensor(-0.0089), tensor(-0.2277), tensor(-0.0008), tensor(-0.1802), tensor(-0.0911), tensor(-0.1412), tensor(-0.0351), tensor(0.2729), tensor(-0.0630), tensor(0.2633), tensor(-0.2723), tensor(-0.4191), tensor(-0.0729), tensor(-0.3657), tensor(-0.1587)]\n",
      "detokenized ['<s>', 'the', 'ch', 'Ã¢', 'te', 'au', 'is', 'never', 'quite', 'able', 'to', 'overcome', 'the', 'cultural', 'mo', 'at', 'surrounding', 'its', 'ludicrous', 'and', 'cont', 'rived', 'plot', '.', \"'\", '', '</s>']\n",
      "len conti_raw 22\n",
      "conti_raw ['<s>', 'the', 'chÃ¢teau', 'is', 'never', 'quite', 'able', 'to', 'overcome', 'the', 'cultural', 'moat', 'surrounding', 'its', 'ludicrous', 'and', 'contrived', 'plot', '.', \"'\", '', '</s>']\n"
     ]
    },
    {
     "data": {
      "text/html": [
       "<table width: 100%><div style=\"border-top: 1px solid; margin-top: 5px;             padding-top: 5px; display: inline-block\"><b>Legend: </b><span style=\"display: inline-block; width: 10px; height: 10px;                 border: 1px solid; background-color:                 hsl(0, 75%, 60%)\"></span> Negative  <span style=\"display: inline-block; width: 10px; height: 10px;                 border: 1px solid; background-color:                 hsl(0, 75%, 100%)\"></span> Neutral  <span style=\"display: inline-block; width: 10px; height: 10px;                 border: 1px solid; background-color:                 hsl(120, 75%, 50%)\"></span> Positive  </div><tr><th>True Label</th><th>Predicted Label</th><th>Attribution Label</th><th>Attribution Score</th><th>Word Importance</th><tr><td><text style=\"padding-right:2em\"><b>Neg</b></text></td><td><text style=\"padding-right:2em\"><b>Neg (0.00)</b></text></td><td><text style=\"padding-right:2em\"><b>Neg</b></text></td><td><text style=\"padding-right:2em\"><b>-2.42</b></text></td><td><mark style=\"background-color: hsl(0, 75%, 91%); opacity:1.0;                     line-height:1.75\"><font color=\"black\"> #s                    </font></mark><mark style=\"background-color: hsl(0, 75%, 98%); opacity:1.0;                     line-height:1.75\"><font color=\"black\"> the                    </font></mark><mark style=\"background-color: hsl(0, 75%, 96%); opacity:1.0;                     line-height:1.75\"><font color=\"black\"> chÃ¢teau                    </font></mark><mark style=\"background-color: hsl(0, 75%, 88%); opacity:1.0;                     line-height:1.75\"><font color=\"black\"> is                    </font></mark><mark style=\"background-color: hsl(120, 75%, 95%); opacity:1.0;                     line-height:1.75\"><font color=\"black\"> never                    </font></mark><mark style=\"background-color: hsl(0, 75%, 92%); opacity:1.0;                     line-height:1.75\"><font color=\"black\"> quite                    </font></mark><mark style=\"background-color: hsl(120, 75%, 96%); opacity:1.0;                     line-height:1.75\"><font color=\"black\"> able                    </font></mark><mark style=\"background-color: hsl(0, 75%, 94%); opacity:1.0;                     line-height:1.75\"><font color=\"black\"> to                    </font></mark><mark style=\"background-color: hsl(0, 75%, 95%); opacity:1.0;                     line-height:1.75\"><font color=\"black\"> overcome                    </font></mark><mark style=\"background-color: hsl(120, 75%, 94%); opacity:1.0;                     line-height:1.75\"><font color=\"black\"> the                    </font></mark><mark style=\"background-color: hsl(0, 75%, 100%); opacity:1.0;                     line-height:1.75\"><font color=\"black\"> cultural                    </font></mark><mark style=\"background-color: hsl(0, 75%, 91%); opacity:1.0;                     line-height:1.75\"><font color=\"black\"> moat                    </font></mark><mark style=\"background-color: hsl(0, 75%, 100%); opacity:1.0;                     line-height:1.75\"><font color=\"black\"> surrounding                    </font></mark><mark style=\"background-color: hsl(0, 75%, 93%); opacity:1.0;                     line-height:1.75\"><font color=\"black\"> its                    </font></mark><mark style=\"background-color: hsl(0, 75%, 100%); opacity:1.0;                     line-height:1.75\"><font color=\"black\"> ludicrous                    </font></mark><mark style=\"background-color: hsl(0, 75%, 98%); opacity:1.0;                     line-height:1.75\"><font color=\"black\"> and                    </font></mark><mark style=\"background-color: hsl(0, 75%, 95%); opacity:1.0;                     line-height:1.75\"><font color=\"black\"> contrived                    </font></mark><mark style=\"background-color: hsl(0, 75%, 99%); opacity:1.0;                     line-height:1.75\"><font color=\"black\"> plot                    </font></mark><mark style=\"background-color: hsl(120, 75%, 87%); opacity:1.0;                     line-height:1.75\"><font color=\"black\"> .                    </font></mark><mark style=\"background-color: hsl(0, 75%, 98%); opacity:1.0;                     line-height:1.75\"><font color=\"black\"> '                    </font></mark><mark style=\"background-color: hsl(0, 75%, 99%); opacity:1.0;                     line-height:1.75\"><font color=\"black\">                     </font></mark><mark style=\"background-color: hsl(120, 75%, 85%); opacity:1.0;                     line-height:1.75\"><font color=\"black\"> #/s                    </font></mark></td><tr></table>"
      ],
      "text/plain": [
       "<IPython.core.display.HTML object>"
      ]
     },
     "metadata": {},
     "output_type": "display_data"
    },
    {
     "name": "stdout",
     "output_type": "stream",
     "text": [
      "<IPython.core.display.HTML object>\n",
      "Raw review: principled \n",
      "GT target: 1\n",
      "word attr tensor([-4.5194e-01,  4.2996e-01,  7.5200e-04,  7.5617e-01,  1.1563e-01,\n",
      "        -1.6037e-01])\n",
      "conti attr [tensor(-0.4519), tensor(1.1869), tensor(0.1156), tensor(-0.1604)]\n",
      "detokenized ['<s>', 'pr', 'in', 'cipled', '', '</s>']\n",
      "len conti_raw 4\n",
      "conti_raw ['<s>', 'principled', '', '</s>']\n"
     ]
    },
    {
     "data": {
      "text/html": [
       "<table width: 100%><div style=\"border-top: 1px solid; margin-top: 5px;             padding-top: 5px; display: inline-block\"><b>Legend: </b><span style=\"display: inline-block; width: 10px; height: 10px;                 border: 1px solid; background-color:                 hsl(0, 75%, 60%)\"></span> Negative  <span style=\"display: inline-block; width: 10px; height: 10px;                 border: 1px solid; background-color:                 hsl(0, 75%, 100%)\"></span> Neutral  <span style=\"display: inline-block; width: 10px; height: 10px;                 border: 1px solid; background-color:                 hsl(120, 75%, 50%)\"></span> Positive  </div><tr><th>True Label</th><th>Predicted Label</th><th>Attribution Label</th><th>Attribution Score</th><th>Word Importance</th><tr><td><text style=\"padding-right:2em\"><b>Pos</b></text></td><td><text style=\"padding-right:2em\"><b>Pos (1.00)</b></text></td><td><text style=\"padding-right:2em\"><b>Pos</b></text></td><td><text style=\"padding-right:2em\"><b>0.69</b></text></td><td><mark style=\"background-color: hsl(0, 75%, 82%); opacity:1.0;                     line-height:1.75\"><font color=\"black\"> #s                    </font></mark><mark style=\"background-color: hsl(120, 75%, 79%); opacity:1.0;                     line-height:1.75\"><font color=\"black\"> principled                    </font></mark><mark style=\"background-color: hsl(120, 75%, 100%); opacity:1.0;                     line-height:1.75\"><font color=\"black\">                     </font></mark><mark style=\"background-color: hsl(120, 75%, 63%); opacity:1.0;                     line-height:1.75\"><font color=\"black\"> #/s                    </font></mark></td><tr></table>"
      ],
      "text/plain": [
       "<IPython.core.display.HTML object>"
      ]
     },
     "metadata": {},
     "output_type": "display_data"
    },
    {
     "name": "stdout",
     "output_type": "stream",
     "text": [
      "<IPython.core.display.HTML object>\n",
      "Raw review: end it all by stuffing himself into an electric pencil sharpener \n",
      "GT target: 0\n",
      "word attr tensor([ 0.4225, -0.6400,  0.0830,  0.2206,  0.1010,  0.2604,  0.0751,  0.3826,\n",
      "         0.2746,  0.0353,  0.0221, -0.1185, -0.1508, -0.0426,  0.1025])\n",
      "conti attr [tensor(0.4225), tensor(-0.6400), tensor(0.0830), tensor(0.2206), tensor(0.1010), tensor(0.2604), tensor(0.0751), tensor(0.3826), tensor(0.2746), tensor(0.0353), tensor(0.0221), tensor(-0.2692), tensor(-0.0426), tensor(0.1025)]\n",
      "detokenized ['<s>', 'end', 'it', 'all', 'by', 'stuffing', 'himself', 'into', 'an', 'electric', 'pencil', 'sharp', 'ener', '', '</s>']\n",
      "len conti_raw 14\n",
      "conti_raw ['<s>', 'end', 'it', 'all', 'by', 'stuffing', 'himself', 'into', 'an', 'electric', 'pencil', 'sharpener', '', '</s>']\n"
     ]
    },
    {
     "data": {
      "text/html": [
       "<table width: 100%><div style=\"border-top: 1px solid; margin-top: 5px;             padding-top: 5px; display: inline-block\"><b>Legend: </b><span style=\"display: inline-block; width: 10px; height: 10px;                 border: 1px solid; background-color:                 hsl(0, 75%, 60%)\"></span> Negative  <span style=\"display: inline-block; width: 10px; height: 10px;                 border: 1px solid; background-color:                 hsl(0, 75%, 100%)\"></span> Neutral  <span style=\"display: inline-block; width: 10px; height: 10px;                 border: 1px solid; background-color:                 hsl(120, 75%, 50%)\"></span> Positive  </div><tr><th>True Label</th><th>Predicted Label</th><th>Attribution Label</th><th>Attribution Score</th><th>Word Importance</th><tr><td><text style=\"padding-right:2em\"><b>Neg</b></text></td><td><text style=\"padding-right:2em\"><b>Neg (0.00)</b></text></td><td><text style=\"padding-right:2em\"><b>Pos</b></text></td><td><text style=\"padding-right:2em\"><b>1.03</b></text></td><td><mark style=\"background-color: hsl(120, 75%, 79%); opacity:1.0;                     line-height:1.75\"><font color=\"black\"> #s                    </font></mark><mark style=\"background-color: hsl(0, 75%, 75%); opacity:1.0;                     line-height:1.75\"><font color=\"black\"> end                    </font></mark><mark style=\"background-color: hsl(120, 75%, 96%); opacity:1.0;                     line-height:1.75\"><font color=\"black\"> it                    </font></mark><mark style=\"background-color: hsl(120, 75%, 89%); opacity:1.0;                     line-height:1.75\"><font color=\"black\"> all                    </font></mark><mark style=\"background-color: hsl(120, 75%, 95%); opacity:1.0;                     line-height:1.75\"><font color=\"black\"> by                    </font></mark><mark style=\"background-color: hsl(120, 75%, 87%); opacity:1.0;                     line-height:1.75\"><font color=\"black\"> stuffing                    </font></mark><mark style=\"background-color: hsl(120, 75%, 97%); opacity:1.0;                     line-height:1.75\"><font color=\"black\"> himself                    </font></mark><mark style=\"background-color: hsl(120, 75%, 81%); opacity:1.0;                     line-height:1.75\"><font color=\"black\"> into                    </font></mark><mark style=\"background-color: hsl(120, 75%, 87%); opacity:1.0;                     line-height:1.75\"><font color=\"black\"> an                    </font></mark><mark style=\"background-color: hsl(120, 75%, 99%); opacity:1.0;                     line-height:1.75\"><font color=\"black\"> electric                    </font></mark><mark style=\"background-color: hsl(120, 75%, 99%); opacity:1.0;                     line-height:1.75\"><font color=\"black\"> pencil                    </font></mark><mark style=\"background-color: hsl(0, 75%, 96%); opacity:1.0;                     line-height:1.75\"><font color=\"black\"> sharpener                    </font></mark><mark style=\"background-color: hsl(0, 75%, 94%); opacity:1.0;                     line-height:1.75\"><font color=\"black\">                     </font></mark><mark style=\"background-color: hsl(0, 75%, 99%); opacity:1.0;                     line-height:1.75\"><font color=\"black\"> #/s                    </font></mark></td><tr></table>"
      ],
      "text/plain": [
       "<IPython.core.display.HTML object>"
      ]
     },
     "metadata": {},
     "output_type": "display_data"
    },
    {
     "name": "stdout",
     "output_type": "stream",
     "text": [
      "<IPython.core.display.HTML object>\n",
      "Raw review: funniest idea \n",
      "GT target: 1\n",
      "word attr tensor([-0.3385,  0.2612,  0.1127,  0.0402, -0.2664, -0.6898, -0.5061])\n",
      "conti attr [tensor(-0.3385), tensor(0.4141), tensor(-0.2664), tensor(-0.6898), tensor(-0.5061)]\n",
      "detokenized ['<s>', 'fun', 'n', 'iest', 'idea', '', '</s>']\n",
      "len conti_raw 5\n",
      "conti_raw ['<s>', 'funniest', 'idea', '', '</s>']\n"
     ]
    },
    {
     "data": {
      "text/html": [
       "<table width: 100%><div style=\"border-top: 1px solid; margin-top: 5px;             padding-top: 5px; display: inline-block\"><b>Legend: </b><span style=\"display: inline-block; width: 10px; height: 10px;                 border: 1px solid; background-color:                 hsl(0, 75%, 60%)\"></span> Negative  <span style=\"display: inline-block; width: 10px; height: 10px;                 border: 1px solid; background-color:                 hsl(0, 75%, 100%)\"></span> Neutral  <span style=\"display: inline-block; width: 10px; height: 10px;                 border: 1px solid; background-color:                 hsl(120, 75%, 50%)\"></span> Positive  </div><tr><th>True Label</th><th>Predicted Label</th><th>Attribution Label</th><th>Attribution Score</th><th>Word Importance</th><tr><td><text style=\"padding-right:2em\"><b>Pos</b></text></td><td><text style=\"padding-right:2em\"><b>Pos (0.99)</b></text></td><td><text style=\"padding-right:2em\"><b>Neg</b></text></td><td><text style=\"padding-right:2em\"><b>-1.39</b></text></td><td><mark style=\"background-color: hsl(0, 75%, 87%); opacity:1.0;                     line-height:1.75\"><font color=\"black\"> #s                    </font></mark><mark style=\"background-color: hsl(120, 75%, 87%); opacity:1.0;                     line-height:1.75\"><font color=\"black\"> funniest                    </font></mark><mark style=\"background-color: hsl(120, 75%, 95%); opacity:1.0;                     line-height:1.75\"><font color=\"black\"> idea                    </font></mark><mark style=\"background-color: hsl(120, 75%, 98%); opacity:1.0;                     line-height:1.75\"><font color=\"black\">                     </font></mark><mark style=\"background-color: hsl(0, 75%, 90%); opacity:1.0;                     line-height:1.75\"><font color=\"black\"> #/s                    </font></mark></td><tr></table>"
      ],
      "text/plain": [
       "<IPython.core.display.HTML object>"
      ]
     },
     "metadata": {},
     "output_type": "display_data"
    },
    {
     "name": "stdout",
     "output_type": "stream",
     "text": [
      "<IPython.core.display.HTML object>\n",
      "Raw review: silly and tedious \n",
      "GT target: 0\n",
      "word attr tensor([ 0.5114,  0.1987, -0.4013, -0.3722, -0.4933,  0.0313,  0.3939])\n",
      "conti attr [tensor(0.5114), tensor(-0.2026), tensor(-0.3722), tensor(-0.4933), tensor(0.0313), tensor(0.3939)]\n",
      "detokenized ['<s>', 's', 'illy', 'and', 'tedious', '', '</s>']\n",
      "len conti_raw 6\n",
      "conti_raw ['<s>', 'silly', 'and', 'tedious', '', '</s>']\n"
     ]
    },
    {
     "data": {
      "text/html": [
       "<table width: 100%><div style=\"border-top: 1px solid; margin-top: 5px;             padding-top: 5px; display: inline-block\"><b>Legend: </b><span style=\"display: inline-block; width: 10px; height: 10px;                 border: 1px solid; background-color:                 hsl(0, 75%, 60%)\"></span> Negative  <span style=\"display: inline-block; width: 10px; height: 10px;                 border: 1px solid; background-color:                 hsl(0, 75%, 100%)\"></span> Neutral  <span style=\"display: inline-block; width: 10px; height: 10px;                 border: 1px solid; background-color:                 hsl(120, 75%, 50%)\"></span> Positive  </div><tr><th>True Label</th><th>Predicted Label</th><th>Attribution Label</th><th>Attribution Score</th><th>Word Importance</th><tr><td><text style=\"padding-right:2em\"><b>Neg</b></text></td><td><text style=\"padding-right:2em\"><b>Neg (0.00)</b></text></td><td><text style=\"padding-right:2em\"><b>Neg</b></text></td><td><text style=\"padding-right:2em\"><b>-0.13</b></text></td><td><mark style=\"background-color: hsl(120, 75%, 75%); opacity:1.0;                     line-height:1.75\"><font color=\"black\"> #s                    </font></mark><mark style=\"background-color: hsl(120, 75%, 91%); opacity:1.0;                     line-height:1.75\"><font color=\"black\"> silly                    </font></mark><mark style=\"background-color: hsl(0, 75%, 84%); opacity:1.0;                     line-height:1.75\"><font color=\"black\"> and                    </font></mark><mark style=\"background-color: hsl(0, 75%, 86%); opacity:1.0;                     line-height:1.75\"><font color=\"black\"> tedious                    </font></mark><mark style=\"background-color: hsl(0, 75%, 81%); opacity:1.0;                     line-height:1.75\"><font color=\"black\">                     </font></mark><mark style=\"background-color: hsl(120, 75%, 99%); opacity:1.0;                     line-height:1.75\"><font color=\"black\"> #/s                    </font></mark></td><tr></table>"
      ],
      "text/plain": [
       "<IPython.core.display.HTML object>"
      ]
     },
     "metadata": {},
     "output_type": "display_data"
    },
    {
     "name": "stdout",
     "output_type": "stream",
     "text": [
      "<IPython.core.display.HTML object>\n",
      "Raw review: two surefire , beloved genres \n",
      "GT target: 1\n",
      "word attr tensor([-0.0958, -0.1834, -0.1627, -0.2672,  0.2041, -0.2493, -0.7408,  0.4522,\n",
      "         0.0474])\n",
      "conti attr [tensor(-0.0958), tensor(-0.1834), tensor(-0.4299), tensor(0.2041), tensor(-0.2493), tensor(-0.7408), tensor(0.4522), tensor(0.0474)]\n",
      "detokenized ['<s>', 'two', 'sure', 'fire', ',', 'beloved', 'genres', '', '</s>']\n",
      "len conti_raw 8\n",
      "conti_raw ['<s>', 'two', 'surefire', ',', 'beloved', 'genres', '', '</s>']\n"
     ]
    },
    {
     "data": {
      "text/html": [
       "<table width: 100%><div style=\"border-top: 1px solid; margin-top: 5px;             padding-top: 5px; display: inline-block\"><b>Legend: </b><span style=\"display: inline-block; width: 10px; height: 10px;                 border: 1px solid; background-color:                 hsl(0, 75%, 60%)\"></span> Negative  <span style=\"display: inline-block; width: 10px; height: 10px;                 border: 1px solid; background-color:                 hsl(0, 75%, 100%)\"></span> Neutral  <span style=\"display: inline-block; width: 10px; height: 10px;                 border: 1px solid; background-color:                 hsl(120, 75%, 50%)\"></span> Positive  </div><tr><th>True Label</th><th>Predicted Label</th><th>Attribution Label</th><th>Attribution Score</th><th>Word Importance</th><tr><td><text style=\"padding-right:2em\"><b>Pos</b></text></td><td><text style=\"padding-right:2em\"><b>Pos (1.00)</b></text></td><td><text style=\"padding-right:2em\"><b>Neg</b></text></td><td><text style=\"padding-right:2em\"><b>-1.00</b></text></td><td><mark style=\"background-color: hsl(0, 75%, 97%); opacity:1.0;                     line-height:1.75\"><font color=\"black\"> #s                    </font></mark><mark style=\"background-color: hsl(0, 75%, 93%); opacity:1.0;                     line-height:1.75\"><font color=\"black\"> two                    </font></mark><mark style=\"background-color: hsl(0, 75%, 94%); opacity:1.0;                     line-height:1.75\"><font color=\"black\"> surefire                    </font></mark><mark style=\"background-color: hsl(0, 75%, 90%); opacity:1.0;                     line-height:1.75\"><font color=\"black\"> ,                    </font></mark><mark style=\"background-color: hsl(120, 75%, 90%); opacity:1.0;                     line-height:1.75\"><font color=\"black\"> beloved                    </font></mark><mark style=\"background-color: hsl(0, 75%, 91%); opacity:1.0;                     line-height:1.75\"><font color=\"black\"> genres                    </font></mark><mark style=\"background-color: hsl(0, 75%, 71%); opacity:1.0;                     line-height:1.75\"><font color=\"black\">                     </font></mark><mark style=\"background-color: hsl(120, 75%, 78%); opacity:1.0;                     line-height:1.75\"><font color=\"black\"> #/s                    </font></mark></td><tr></table>"
      ],
      "text/plain": [
       "<IPython.core.display.HTML object>"
      ]
     },
     "metadata": {},
     "output_type": "display_data"
    },
    {
     "name": "stdout",
     "output_type": "stream",
     "text": [
      "<IPython.core.display.HTML object>\n",
      "Raw review: most charmless \n",
      "GT target: 0\n",
      "word attr tensor([ 0.2221, -0.3377,  0.8419,  0.0985,  0.2083,  0.2733])\n",
      "conti attr [tensor(0.2221), tensor(-0.3377), tensor(0.9404), tensor(0.2083), tensor(0.2733)]\n",
      "detokenized ['<s>', 'most', 'charm', 'less', '', '</s>']\n",
      "len conti_raw 5\n",
      "conti_raw ['<s>', 'most', 'charmless', '', '</s>']\n"
     ]
    },
    {
     "data": {
      "text/html": [
       "<table width: 100%><div style=\"border-top: 1px solid; margin-top: 5px;             padding-top: 5px; display: inline-block\"><b>Legend: </b><span style=\"display: inline-block; width: 10px; height: 10px;                 border: 1px solid; background-color:                 hsl(0, 75%, 60%)\"></span> Negative  <span style=\"display: inline-block; width: 10px; height: 10px;                 border: 1px solid; background-color:                 hsl(0, 75%, 100%)\"></span> Neutral  <span style=\"display: inline-block; width: 10px; height: 10px;                 border: 1px solid; background-color:                 hsl(120, 75%, 50%)\"></span> Positive  </div><tr><th>True Label</th><th>Predicted Label</th><th>Attribution Label</th><th>Attribution Score</th><th>Word Importance</th><tr><td><text style=\"padding-right:2em\"><b>Neg</b></text></td><td><text style=\"padding-right:2em\"><b>Neg (0.00)</b></text></td><td><text style=\"padding-right:2em\"><b>Pos</b></text></td><td><text style=\"padding-right:2em\"><b>1.31</b></text></td><td><mark style=\"background-color: hsl(120, 75%, 89%); opacity:1.0;                     line-height:1.75\"><font color=\"black\"> #s                    </font></mark><mark style=\"background-color: hsl(0, 75%, 87%); opacity:1.0;                     line-height:1.75\"><font color=\"black\"> most                    </font></mark><mark style=\"background-color: hsl(120, 75%, 58%); opacity:1.0;                     line-height:1.75\"><font color=\"black\"> charmless                    </font></mark><mark style=\"background-color: hsl(120, 75%, 96%); opacity:1.0;                     line-height:1.75\"><font color=\"black\">                     </font></mark><mark style=\"background-color: hsl(120, 75%, 90%); opacity:1.0;                     line-height:1.75\"><font color=\"black\"> #/s                    </font></mark></td><tr></table>"
      ],
      "text/plain": [
       "<IPython.core.display.HTML object>"
      ]
     },
     "metadata": {},
     "output_type": "display_data"
    },
    {
     "name": "stdout",
     "output_type": "stream",
     "text": [
      "<IPython.core.display.HTML object>\n",
      "Raw review: offers us the sense that on some elemental level , lilia deeply wants to break free of her old life . \n",
      "GT target: 1\n",
      "word attr tensor([ 0.2246, -0.1231,  0.0752,  0.1249,  0.0792, -0.0933,  0.0882,  0.1746,\n",
      "         0.1517,  0.5899,  0.0806,  0.1460,  0.2053,  0.3507,  0.2404,  0.2246,\n",
      "         0.0582,  0.1239,  0.1994,  0.0755,  0.1118,  0.2423,  0.1537,  0.0992,\n",
      "        -0.0572,  0.1253])\n",
      "conti attr [tensor(0.2246), tensor(-0.0480), tensor(0.1249), tensor(0.0792), tensor(-0.0933), tensor(0.0882), tensor(0.1746), tensor(0.1517), tensor(0.5899), tensor(0.0806), tensor(0.1460), tensor(0.5560), tensor(0.2404), tensor(0.2246), tensor(0.0582), tensor(0.1239), tensor(0.1994), tensor(0.0755), tensor(0.1118), tensor(0.2423), tensor(0.1537), tensor(0.0992), tensor(-0.0572), tensor(0.1253)]\n",
      "detokenized ['<s>', 'off', 'ers', 'us', 'the', 'sense', 'that', 'on', 'some', 'elemental', 'level', ',', 'l', 'ilia', 'deeply', 'wants', 'to', 'break', 'free', 'of', 'her', 'old', 'life', '.', '', '</s>']\n",
      "len conti_raw 24\n",
      "conti_raw ['<s>', 'offers', 'us', 'the', 'sense', 'that', 'on', 'some', 'elemental', 'level', ',', 'lilia', 'deeply', 'wants', 'to', 'break', 'free', 'of', 'her', 'old', 'life', '.', '', '</s>']\n"
     ]
    },
    {
     "data": {
      "text/html": [
       "<table width: 100%><div style=\"border-top: 1px solid; margin-top: 5px;             padding-top: 5px; display: inline-block\"><b>Legend: </b><span style=\"display: inline-block; width: 10px; height: 10px;                 border: 1px solid; background-color:                 hsl(0, 75%, 60%)\"></span> Negative  <span style=\"display: inline-block; width: 10px; height: 10px;                 border: 1px solid; background-color:                 hsl(0, 75%, 100%)\"></span> Neutral  <span style=\"display: inline-block; width: 10px; height: 10px;                 border: 1px solid; background-color:                 hsl(120, 75%, 50%)\"></span> Positive  </div><tr><th>True Label</th><th>Predicted Label</th><th>Attribution Label</th><th>Attribution Score</th><th>Word Importance</th><tr><td><text style=\"padding-right:2em\"><b>Pos</b></text></td><td><text style=\"padding-right:2em\"><b>Pos (1.00)</b></text></td><td><text style=\"padding-right:2em\"><b>Pos</b></text></td><td><text style=\"padding-right:2em\"><b>3.67</b></text></td><td><mark style=\"background-color: hsl(120, 75%, 89%); opacity:1.0;                     line-height:1.75\"><font color=\"black\"> #s                    </font></mark><mark style=\"background-color: hsl(0, 75%, 96%); opacity:1.0;                     line-height:1.75\"><font color=\"black\"> offers                    </font></mark><mark style=\"background-color: hsl(120, 75%, 97%); opacity:1.0;                     line-height:1.75\"><font color=\"black\"> us                    </font></mark><mark style=\"background-color: hsl(120, 75%, 94%); opacity:1.0;                     line-height:1.75\"><font color=\"black\"> the                    </font></mark><mark style=\"background-color: hsl(120, 75%, 97%); opacity:1.0;                     line-height:1.75\"><font color=\"black\"> sense                    </font></mark><mark style=\"background-color: hsl(0, 75%, 97%); opacity:1.0;                     line-height:1.75\"><font color=\"black\"> that                    </font></mark><mark style=\"background-color: hsl(120, 75%, 96%); opacity:1.0;                     line-height:1.75\"><font color=\"black\"> on                    </font></mark><mark style=\"background-color: hsl(120, 75%, 92%); opacity:1.0;                     line-height:1.75\"><font color=\"black\"> some                    </font></mark><mark style=\"background-color: hsl(120, 75%, 93%); opacity:1.0;                     line-height:1.75\"><font color=\"black\"> elemental                    </font></mark><mark style=\"background-color: hsl(120, 75%, 71%); opacity:1.0;                     line-height:1.75\"><font color=\"black\"> level                    </font></mark><mark style=\"background-color: hsl(120, 75%, 96%); opacity:1.0;                     line-height:1.75\"><font color=\"black\"> ,                    </font></mark><mark style=\"background-color: hsl(120, 75%, 93%); opacity:1.0;                     line-height:1.75\"><font color=\"black\"> lilia                    </font></mark><mark style=\"background-color: hsl(120, 75%, 90%); opacity:1.0;                     line-height:1.75\"><font color=\"black\"> deeply                    </font></mark><mark style=\"background-color: hsl(120, 75%, 83%); opacity:1.0;                     line-height:1.75\"><font color=\"black\"> wants                    </font></mark><mark style=\"background-color: hsl(120, 75%, 88%); opacity:1.0;                     line-height:1.75\"><font color=\"black\"> to                    </font></mark><mark style=\"background-color: hsl(120, 75%, 89%); opacity:1.0;                     line-height:1.75\"><font color=\"black\"> break                    </font></mark><mark style=\"background-color: hsl(120, 75%, 98%); opacity:1.0;                     line-height:1.75\"><font color=\"black\"> free                    </font></mark><mark style=\"background-color: hsl(120, 75%, 94%); opacity:1.0;                     line-height:1.75\"><font color=\"black\"> of                    </font></mark><mark style=\"background-color: hsl(120, 75%, 91%); opacity:1.0;                     line-height:1.75\"><font color=\"black\"> her                    </font></mark><mark style=\"background-color: hsl(120, 75%, 97%); opacity:1.0;                     line-height:1.75\"><font color=\"black\"> old                    </font></mark><mark style=\"background-color: hsl(120, 75%, 95%); opacity:1.0;                     line-height:1.75\"><font color=\"black\"> life                    </font></mark><mark style=\"background-color: hsl(120, 75%, 88%); opacity:1.0;                     line-height:1.75\"><font color=\"black\"> .                    </font></mark><mark style=\"background-color: hsl(120, 75%, 93%); opacity:1.0;                     line-height:1.75\"><font color=\"black\">                     </font></mark><mark style=\"background-color: hsl(120, 75%, 96%); opacity:1.0;                     line-height:1.75\"><font color=\"black\"> #/s                    </font></mark></td><tr></table>"
      ],
      "text/plain": [
       "<IPython.core.display.HTML object>"
      ]
     },
     "metadata": {},
     "output_type": "display_data"
    },
    {
     "name": "stdout",
     "output_type": "stream",
     "text": [
      "<IPython.core.display.HTML object>\n",
      "Raw review: might be best forgotten \n",
      "GT target: 0\n",
      "word attr tensor([ 0.0290, -0.3340, -0.1873, -0.0868, -0.8393,  0.2600,  0.2703])\n",
      "conti attr [tensor(0.0290), tensor(-0.3340), tensor(-0.1873), tensor(-0.0868), tensor(-0.8393), tensor(0.2600), tensor(0.2703)]\n",
      "detokenized ['<s>', 'might', 'be', 'best', 'forgotten', '', '</s>']\n",
      "len conti_raw 7\n",
      "conti_raw ['<s>', 'might', 'be', 'best', 'forgotten', '', '</s>']\n"
     ]
    },
    {
     "data": {
      "text/html": [
       "<table width: 100%><div style=\"border-top: 1px solid; margin-top: 5px;             padding-top: 5px; display: inline-block\"><b>Legend: </b><span style=\"display: inline-block; width: 10px; height: 10px;                 border: 1px solid; background-color:                 hsl(0, 75%, 60%)\"></span> Negative  <span style=\"display: inline-block; width: 10px; height: 10px;                 border: 1px solid; background-color:                 hsl(0, 75%, 100%)\"></span> Neutral  <span style=\"display: inline-block; width: 10px; height: 10px;                 border: 1px solid; background-color:                 hsl(120, 75%, 50%)\"></span> Positive  </div><tr><th>True Label</th><th>Predicted Label</th><th>Attribution Label</th><th>Attribution Score</th><th>Word Importance</th><tr><td><text style=\"padding-right:2em\"><b>Neg</b></text></td><td><text style=\"padding-right:2em\"><b>Neg (0.00)</b></text></td><td><text style=\"padding-right:2em\"><b>Neg</b></text></td><td><text style=\"padding-right:2em\"><b>-0.89</b></text></td><td><mark style=\"background-color: hsl(120, 75%, 99%); opacity:1.0;                     line-height:1.75\"><font color=\"black\"> #s                    </font></mark><mark style=\"background-color: hsl(0, 75%, 87%); opacity:1.0;                     line-height:1.75\"><font color=\"black\"> might                    </font></mark><mark style=\"background-color: hsl(0, 75%, 93%); opacity:1.0;                     line-height:1.75\"><font color=\"black\"> be                    </font></mark><mark style=\"background-color: hsl(0, 75%, 97%); opacity:1.0;                     line-height:1.75\"><font color=\"black\"> best                    </font></mark><mark style=\"background-color: hsl(0, 75%, 67%); opacity:1.0;                     line-height:1.75\"><font color=\"black\"> forgotten                    </font></mark><mark style=\"background-color: hsl(120, 75%, 87%); opacity:1.0;                     line-height:1.75\"><font color=\"black\">                     </font></mark><mark style=\"background-color: hsl(120, 75%, 87%); opacity:1.0;                     line-height:1.75\"><font color=\"black\"> #/s                    </font></mark></td><tr></table>"
      ],
      "text/plain": [
       "<IPython.core.display.HTML object>"
      ]
     },
     "metadata": {},
     "output_type": "display_data"
    },
    {
     "name": "stdout",
     "output_type": "stream",
     "text": [
      "<IPython.core.display.HTML object>\n",
      "Raw review: a substantial arc of change that does n't produce any real transformation \n",
      "GT target: 0\n",
      "word attr tensor([-0.2974,  0.2216,  0.0230, -0.7053,  0.1752, -0.1402,  0.0290, -0.0939,\n",
      "         0.1684,  0.2934,  0.0310, -0.3867, -0.0401,  0.1921, -0.0053,  0.0298])\n",
      "conti attr [tensor(-0.2974), tensor(0.2216), tensor(0.0230), tensor(-0.7053), tensor(0.1752), tensor(-0.1402), tensor(0.0290), tensor(-0.0939), tensor(0.4618), tensor(0.0310), tensor(-0.3867), tensor(-0.0401), tensor(0.1921), tensor(-0.0053), tensor(0.0298)]\n",
      "detokenized ['<s>', 'a', 'substantial', 'arc', 'of', 'change', 'that', 'does', 'n', \"'t\", 'produce', 'any', 'real', 'transformation', '', '</s>']\n",
      "len conti_raw 15\n",
      "conti_raw ['<s>', 'a', 'substantial', 'arc', 'of', 'change', 'that', 'does', \"n't\", 'produce', 'any', 'real', 'transformation', '', '</s>']\n"
     ]
    },
    {
     "data": {
      "text/html": [
       "<table width: 100%><div style=\"border-top: 1px solid; margin-top: 5px;             padding-top: 5px; display: inline-block\"><b>Legend: </b><span style=\"display: inline-block; width: 10px; height: 10px;                 border: 1px solid; background-color:                 hsl(0, 75%, 60%)\"></span> Negative  <span style=\"display: inline-block; width: 10px; height: 10px;                 border: 1px solid; background-color:                 hsl(0, 75%, 100%)\"></span> Neutral  <span style=\"display: inline-block; width: 10px; height: 10px;                 border: 1px solid; background-color:                 hsl(120, 75%, 50%)\"></span> Positive  </div><tr><th>True Label</th><th>Predicted Label</th><th>Attribution Label</th><th>Attribution Score</th><th>Word Importance</th><tr><td><text style=\"padding-right:2em\"><b>Neg</b></text></td><td><text style=\"padding-right:2em\"><b>Neg (0.00)</b></text></td><td><text style=\"padding-right:2em\"><b>Neg</b></text></td><td><text style=\"padding-right:2em\"><b>-0.51</b></text></td><td><mark style=\"background-color: hsl(0, 75%, 89%); opacity:1.0;                     line-height:1.75\"><font color=\"black\"> #s                    </font></mark><mark style=\"background-color: hsl(120, 75%, 89%); opacity:1.0;                     line-height:1.75\"><font color=\"black\"> a                    </font></mark><mark style=\"background-color: hsl(120, 75%, 99%); opacity:1.0;                     line-height:1.75\"><font color=\"black\"> substantial                    </font></mark><mark style=\"background-color: hsl(0, 75%, 72%); opacity:1.0;                     line-height:1.75\"><font color=\"black\"> arc                    </font></mark><mark style=\"background-color: hsl(120, 75%, 92%); opacity:1.0;                     line-height:1.75\"><font color=\"black\"> of                    </font></mark><mark style=\"background-color: hsl(0, 75%, 95%); opacity:1.0;                     line-height:1.75\"><font color=\"black\"> change                    </font></mark><mark style=\"background-color: hsl(120, 75%, 99%); opacity:1.0;                     line-height:1.75\"><font color=\"black\"> that                    </font></mark><mark style=\"background-color: hsl(0, 75%, 97%); opacity:1.0;                     line-height:1.75\"><font color=\"black\"> does                    </font></mark><mark style=\"background-color: hsl(120, 75%, 92%); opacity:1.0;                     line-height:1.75\"><font color=\"black\"> n't                    </font></mark><mark style=\"background-color: hsl(120, 75%, 86%); opacity:1.0;                     line-height:1.75\"><font color=\"black\"> produce                    </font></mark><mark style=\"background-color: hsl(120, 75%, 99%); opacity:1.0;                     line-height:1.75\"><font color=\"black\"> any                    </font></mark><mark style=\"background-color: hsl(0, 75%, 85%); opacity:1.0;                     line-height:1.75\"><font color=\"black\"> real                    </font></mark><mark style=\"background-color: hsl(0, 75%, 99%); opacity:1.0;                     line-height:1.75\"><font color=\"black\"> transformation                    </font></mark><mark style=\"background-color: hsl(120, 75%, 91%); opacity:1.0;                     line-height:1.75\"><font color=\"black\">                     </font></mark><mark style=\"background-color: hsl(0, 75%, 100%); opacity:1.0;                     line-height:1.75\"><font color=\"black\"> #/s                    </font></mark></td><tr></table>"
      ],
      "text/plain": [
       "<IPython.core.display.HTML object>"
      ]
     },
     "metadata": {},
     "output_type": "display_data"
    },
    {
     "name": "stdout",
     "output_type": "stream",
     "text": [
      "<IPython.core.display.HTML object>\n",
      "Raw review: unadorned \n",
      "GT target: 0\n",
      "word attr tensor([ 0.6586,  0.2233,  0.1727, -0.6511,  0.2303,  0.0979])\n",
      "conti attr [tensor(0.6586), tensor(-0.2552), tensor(0.2303), tensor(0.0979)]\n",
      "detokenized ['<s>', 'un', 'ad', 'orned', '', '</s>']\n",
      "len conti_raw 4\n",
      "conti_raw ['<s>', 'unadorned', '', '</s>']\n"
     ]
    },
    {
     "data": {
      "text/html": [
       "<table width: 100%><div style=\"border-top: 1px solid; margin-top: 5px;             padding-top: 5px; display: inline-block\"><b>Legend: </b><span style=\"display: inline-block; width: 10px; height: 10px;                 border: 1px solid; background-color:                 hsl(0, 75%, 60%)\"></span> Negative  <span style=\"display: inline-block; width: 10px; height: 10px;                 border: 1px solid; background-color:                 hsl(0, 75%, 100%)\"></span> Neutral  <span style=\"display: inline-block; width: 10px; height: 10px;                 border: 1px solid; background-color:                 hsl(120, 75%, 50%)\"></span> Positive  </div><tr><th>True Label</th><th>Predicted Label</th><th>Attribution Label</th><th>Attribution Score</th><th>Word Importance</th><tr><td><text style=\"padding-right:2em\"><b>Neg</b></text></td><td><text style=\"padding-right:2em\"><b>Pos (1.00)</b></text></td><td><text style=\"padding-right:2em\"><b>Pos</b></text></td><td><text style=\"padding-right:2em\"><b>0.73</b></text></td><td><mark style=\"background-color: hsl(120, 75%, 68%); opacity:1.0;                     line-height:1.75\"><font color=\"black\"> #s                    </font></mark><mark style=\"background-color: hsl(120, 75%, 89%); opacity:1.0;                     line-height:1.75\"><font color=\"black\"> unadorned                    </font></mark><mark style=\"background-color: hsl(120, 75%, 92%); opacity:1.0;                     line-height:1.75\"><font color=\"black\">                     </font></mark><mark style=\"background-color: hsl(0, 75%, 74%); opacity:1.0;                     line-height:1.75\"><font color=\"black\"> #/s                    </font></mark></td><tr></table>"
      ],
      "text/plain": [
       "<IPython.core.display.HTML object>"
      ]
     },
     "metadata": {},
     "output_type": "display_data"
    },
    {
     "name": "stdout",
     "output_type": "stream",
     "text": [
      "<IPython.core.display.HTML object>\n",
      "Raw review: this is the kind of movie that you only need to watch for about thirty seconds before you say to yourself , ` ah , yes , here we have a bad , bad , bad movie . ' \n",
      "GT target: 0\n",
      "word attr tensor([ 0.0999, -0.0143,  0.0210,  0.0086, -0.0825, -0.0209,  0.0815, -0.0437,\n",
      "         0.0248,  0.0346, -0.1488, -0.0171,  0.0563,  0.0656,  0.0937, -0.6793,\n",
      "        -0.1126,  0.0993,  0.0359,  0.2309, -0.0312, -0.0114,  0.0584, -0.0361,\n",
      "         0.4171, -0.0110, -0.0756,  0.0071, -0.1908,  0.0840, -0.0759, -0.0382,\n",
      "         0.2810,  0.0264,  0.0705, -0.0826,  0.2048,  0.0631,  0.1063,  0.0586,\n",
      "         0.0701, -0.0312])\n",
      "conti attr [tensor(0.0999), tensor(-0.0143), tensor(0.0210), tensor(0.0086), tensor(-0.0825), tensor(-0.0209), tensor(0.0815), tensor(-0.0437), tensor(0.0248), tensor(0.0346), tensor(-0.1488), tensor(-0.0171), tensor(0.0563), tensor(0.0656), tensor(0.0937), tensor(-0.6793), tensor(-0.1126), tensor(0.0993), tensor(0.0359), tensor(0.2309), tensor(-0.0312), tensor(-0.0114), tensor(0.0584), tensor(-0.0361), tensor(0.4171), tensor(-0.0110), tensor(-0.0756), tensor(0.0071), tensor(-0.1908), tensor(0.0840), tensor(-0.0759), tensor(-0.0382), tensor(0.2810), tensor(0.0264), tensor(0.0705), tensor(-0.0826), tensor(0.2048), tensor(0.0631), tensor(0.1063), tensor(0.0586), tensor(0.0701), tensor(-0.0312)]\n",
      "detokenized ['<s>', 'this', 'is', 'the', 'kind', 'of', 'movie', 'that', 'you', 'only', 'need', 'to', 'watch', 'for', 'about', 'thirty', 'seconds', 'before', 'you', 'say', 'to', 'yourself', ',', '`', 'ah', ',', 'yes', ',', 'here', 'we', 'have', 'a', 'bad', ',', 'bad', ',', 'bad', 'movie', '.', \"'\", '', '</s>']\n",
      "len conti_raw 42\n",
      "conti_raw ['<s>', 'this', 'is', 'the', 'kind', 'of', 'movie', 'that', 'you', 'only', 'need', 'to', 'watch', 'for', 'about', 'thirty', 'seconds', 'before', 'you', 'say', 'to', 'yourself', ',', '`', 'ah', ',', 'yes', ',', 'here', 'we', 'have', 'a', 'bad', ',', 'bad', ',', 'bad', 'movie', '.', \"'\", '', '</s>']\n"
     ]
    },
    {
     "data": {
      "text/html": [
       "<table width: 100%><div style=\"border-top: 1px solid; margin-top: 5px;             padding-top: 5px; display: inline-block\"><b>Legend: </b><span style=\"display: inline-block; width: 10px; height: 10px;                 border: 1px solid; background-color:                 hsl(0, 75%, 60%)\"></span> Negative  <span style=\"display: inline-block; width: 10px; height: 10px;                 border: 1px solid; background-color:                 hsl(0, 75%, 100%)\"></span> Neutral  <span style=\"display: inline-block; width: 10px; height: 10px;                 border: 1px solid; background-color:                 hsl(120, 75%, 50%)\"></span> Positive  </div><tr><th>True Label</th><th>Predicted Label</th><th>Attribution Label</th><th>Attribution Score</th><th>Word Importance</th><tr><td><text style=\"padding-right:2em\"><b>Neg</b></text></td><td><text style=\"padding-right:2em\"><b>Neg (0.00)</b></text></td><td><text style=\"padding-right:2em\"><b>Pos</b></text></td><td><text style=\"padding-right:2em\"><b>0.60</b></text></td><td><mark style=\"background-color: hsl(120, 75%, 96%); opacity:1.0;                     line-height:1.75\"><font color=\"black\"> #s                    </font></mark><mark style=\"background-color: hsl(0, 75%, 100%); opacity:1.0;                     line-height:1.75\"><font color=\"black\"> this                    </font></mark><mark style=\"background-color: hsl(120, 75%, 99%); opacity:1.0;                     line-height:1.75\"><font color=\"black\"> is                    </font></mark><mark style=\"background-color: hsl(120, 75%, 100%); opacity:1.0;                     line-height:1.75\"><font color=\"black\"> the                    </font></mark><mark style=\"background-color: hsl(0, 75%, 97%); opacity:1.0;                     line-height:1.75\"><font color=\"black\"> kind                    </font></mark><mark style=\"background-color: hsl(0, 75%, 100%); opacity:1.0;                     line-height:1.75\"><font color=\"black\"> of                    </font></mark><mark style=\"background-color: hsl(120, 75%, 96%); opacity:1.0;                     line-height:1.75\"><font color=\"black\"> movie                    </font></mark><mark style=\"background-color: hsl(0, 75%, 99%); opacity:1.0;                     line-height:1.75\"><font color=\"black\"> that                    </font></mark><mark style=\"background-color: hsl(120, 75%, 99%); opacity:1.0;                     line-height:1.75\"><font color=\"black\"> you                    </font></mark><mark style=\"background-color: hsl(120, 75%, 99%); opacity:1.0;                     line-height:1.75\"><font color=\"black\"> only                    </font></mark><mark style=\"background-color: hsl(0, 75%, 95%); opacity:1.0;                     line-height:1.75\"><font color=\"black\"> need                    </font></mark><mark style=\"background-color: hsl(0, 75%, 100%); opacity:1.0;                     line-height:1.75\"><font color=\"black\"> to                    </font></mark><mark style=\"background-color: hsl(120, 75%, 98%); opacity:1.0;                     line-height:1.75\"><font color=\"black\"> watch                    </font></mark><mark style=\"background-color: hsl(120, 75%, 97%); opacity:1.0;                     line-height:1.75\"><font color=\"black\"> for                    </font></mark><mark style=\"background-color: hsl(120, 75%, 96%); opacity:1.0;                     line-height:1.75\"><font color=\"black\"> about                    </font></mark><mark style=\"background-color: hsl(0, 75%, 73%); opacity:1.0;                     line-height:1.75\"><font color=\"black\"> thirty                    </font></mark><mark style=\"background-color: hsl(0, 75%, 96%); opacity:1.0;                     line-height:1.75\"><font color=\"black\"> seconds                    </font></mark><mark style=\"background-color: hsl(120, 75%, 96%); opacity:1.0;                     line-height:1.75\"><font color=\"black\"> before                    </font></mark><mark style=\"background-color: hsl(120, 75%, 99%); opacity:1.0;                     line-height:1.75\"><font color=\"black\"> you                    </font></mark><mark style=\"background-color: hsl(120, 75%, 89%); opacity:1.0;                     line-height:1.75\"><font color=\"black\"> say                    </font></mark><mark style=\"background-color: hsl(0, 75%, 99%); opacity:1.0;                     line-height:1.75\"><font color=\"black\"> to                    </font></mark><mark style=\"background-color: hsl(0, 75%, 100%); opacity:1.0;                     line-height:1.75\"><font color=\"black\"> yourself                    </font></mark><mark style=\"background-color: hsl(120, 75%, 98%); opacity:1.0;                     line-height:1.75\"><font color=\"black\"> ,                    </font></mark><mark style=\"background-color: hsl(0, 75%, 99%); opacity:1.0;                     line-height:1.75\"><font color=\"black\"> `                    </font></mark><mark style=\"background-color: hsl(120, 75%, 80%); opacity:1.0;                     line-height:1.75\"><font color=\"black\"> ah                    </font></mark><mark style=\"background-color: hsl(0, 75%, 100%); opacity:1.0;                     line-height:1.75\"><font color=\"black\"> ,                    </font></mark><mark style=\"background-color: hsl(0, 75%, 97%); opacity:1.0;                     line-height:1.75\"><font color=\"black\"> yes                    </font></mark><mark style=\"background-color: hsl(120, 75%, 100%); opacity:1.0;                     line-height:1.75\"><font color=\"black\"> ,                    </font></mark><mark style=\"background-color: hsl(0, 75%, 93%); opacity:1.0;                     line-height:1.75\"><font color=\"black\"> here                    </font></mark><mark style=\"background-color: hsl(120, 75%, 96%); opacity:1.0;                     line-height:1.75\"><font color=\"black\"> we                    </font></mark><mark style=\"background-color: hsl(0, 75%, 97%); opacity:1.0;                     line-height:1.75\"><font color=\"black\"> have                    </font></mark><mark style=\"background-color: hsl(0, 75%, 99%); opacity:1.0;                     line-height:1.75\"><font color=\"black\"> a                    </font></mark><mark style=\"background-color: hsl(120, 75%, 86%); opacity:1.0;                     line-height:1.75\"><font color=\"black\"> bad                    </font></mark><mark style=\"background-color: hsl(120, 75%, 99%); opacity:1.0;                     line-height:1.75\"><font color=\"black\"> ,                    </font></mark><mark style=\"background-color: hsl(120, 75%, 97%); opacity:1.0;                     line-height:1.75\"><font color=\"black\"> bad                    </font></mark><mark style=\"background-color: hsl(0, 75%, 97%); opacity:1.0;                     line-height:1.75\"><font color=\"black\"> ,                    </font></mark><mark style=\"background-color: hsl(120, 75%, 90%); opacity:1.0;                     line-height:1.75\"><font color=\"black\"> bad                    </font></mark><mark style=\"background-color: hsl(120, 75%, 97%); opacity:1.0;                     line-height:1.75\"><font color=\"black\"> movie                    </font></mark><mark style=\"background-color: hsl(120, 75%, 95%); opacity:1.0;                     line-height:1.75\"><font color=\"black\"> .                    </font></mark><mark style=\"background-color: hsl(120, 75%, 98%); opacity:1.0;                     line-height:1.75\"><font color=\"black\"> '                    </font></mark><mark style=\"background-color: hsl(120, 75%, 97%); opacity:1.0;                     line-height:1.75\"><font color=\"black\">                     </font></mark><mark style=\"background-color: hsl(0, 75%, 99%); opacity:1.0;                     line-height:1.75\"><font color=\"black\"> #/s                    </font></mark></td><tr></table>"
      ],
      "text/plain": [
       "<IPython.core.display.HTML object>"
      ]
     },
     "metadata": {},
     "output_type": "display_data"
    },
    {
     "name": "stdout",
     "output_type": "stream",
     "text": [
      "<IPython.core.display.HTML object>\n",
      "Raw review: feel sanitised and stagey \n",
      "GT target: 0\n",
      "word attr tensor([ 0.6133,  0.4488,  0.5465, -0.0557,  0.3131,  0.1006, -0.0645,  0.0617,\n",
      "         0.0416, -0.0534])\n",
      "conti attr [tensor(0.6133), tensor(0.4488), tensor(0.8039), tensor(0.1006), tensor(-0.0028), tensor(0.0416), tensor(-0.0534)]\n",
      "detokenized ['<s>', 'feel', 'san', 'it', 'ised', 'and', 'stage', 'y', '', '</s>']\n",
      "len conti_raw 7\n",
      "conti_raw ['<s>', 'feel', 'sanitised', 'and', 'stagey', '', '</s>']\n"
     ]
    },
    {
     "data": {
      "text/html": [
       "<table width: 100%><div style=\"border-top: 1px solid; margin-top: 5px;             padding-top: 5px; display: inline-block\"><b>Legend: </b><span style=\"display: inline-block; width: 10px; height: 10px;                 border: 1px solid; background-color:                 hsl(0, 75%, 60%)\"></span> Negative  <span style=\"display: inline-block; width: 10px; height: 10px;                 border: 1px solid; background-color:                 hsl(0, 75%, 100%)\"></span> Neutral  <span style=\"display: inline-block; width: 10px; height: 10px;                 border: 1px solid; background-color:                 hsl(120, 75%, 50%)\"></span> Positive  </div><tr><th>True Label</th><th>Predicted Label</th><th>Attribution Label</th><th>Attribution Score</th><th>Word Importance</th><tr><td><text style=\"padding-right:2em\"><b>Neg</b></text></td><td><text style=\"padding-right:2em\"><b>Neg (0.00)</b></text></td><td><text style=\"padding-right:2em\"><b>Pos</b></text></td><td><text style=\"padding-right:2em\"><b>1.95</b></text></td><td><mark style=\"background-color: hsl(120, 75%, 70%); opacity:1.0;                     line-height:1.75\"><font color=\"black\"> #s                    </font></mark><mark style=\"background-color: hsl(120, 75%, 78%); opacity:1.0;                     line-height:1.75\"><font color=\"black\"> feel                    </font></mark><mark style=\"background-color: hsl(120, 75%, 73%); opacity:1.0;                     line-height:1.75\"><font color=\"black\"> sanitised                    </font></mark><mark style=\"background-color: hsl(0, 75%, 98%); opacity:1.0;                     line-height:1.75\"><font color=\"black\"> and                    </font></mark><mark style=\"background-color: hsl(120, 75%, 85%); opacity:1.0;                     line-height:1.75\"><font color=\"black\"> stagey                    </font></mark><mark style=\"background-color: hsl(120, 75%, 95%); opacity:1.0;                     line-height:1.75\"><font color=\"black\">                     </font></mark><mark style=\"background-color: hsl(0, 75%, 98%); opacity:1.0;                     line-height:1.75\"><font color=\"black\"> #/s                    </font></mark></td><tr></table>"
      ],
      "text/plain": [
       "<IPython.core.display.HTML object>"
      ]
     },
     "metadata": {},
     "output_type": "display_data"
    },
    {
     "name": "stdout",
     "output_type": "stream",
     "text": [
      "<IPython.core.display.HTML object>\n",
      "Raw review: replete with stereotypical familial quandaries \n",
      "GT target: 0\n",
      "word attr tensor([0.5530, 0.1005, 0.5514, 0.0308, 0.2616, 0.2151, 0.2783, 0.2192, 0.0022,\n",
      "        0.1338, 0.3479])\n",
      "conti attr [tensor(0.5530), tensor(0.6519), tensor(0.0308), tensor(0.2616), tensor(0.2151), tensor(0.4997), tensor(0.1338), tensor(0.3479)]\n",
      "detokenized ['<s>', 're', 'plete', 'with', 'stereotypical', 'familial', 'qu', 'and', 'aries', '', '</s>']\n",
      "len conti_raw 8\n",
      "conti_raw ['<s>', 'replete', 'with', 'stereotypical', 'familial', 'quandaries', '', '</s>']\n"
     ]
    },
    {
     "data": {
      "text/html": [
       "<table width: 100%><div style=\"border-top: 1px solid; margin-top: 5px;             padding-top: 5px; display: inline-block\"><b>Legend: </b><span style=\"display: inline-block; width: 10px; height: 10px;                 border: 1px solid; background-color:                 hsl(0, 75%, 60%)\"></span> Negative  <span style=\"display: inline-block; width: 10px; height: 10px;                 border: 1px solid; background-color:                 hsl(0, 75%, 100%)\"></span> Neutral  <span style=\"display: inline-block; width: 10px; height: 10px;                 border: 1px solid; background-color:                 hsl(120, 75%, 50%)\"></span> Positive  </div><tr><th>True Label</th><th>Predicted Label</th><th>Attribution Label</th><th>Attribution Score</th><th>Word Importance</th><tr><td><text style=\"padding-right:2em\"><b>Neg</b></text></td><td><text style=\"padding-right:2em\"><b>Neg (0.00)</b></text></td><td><text style=\"padding-right:2em\"><b>Pos</b></text></td><td><text style=\"padding-right:2em\"><b>2.69</b></text></td><td><mark style=\"background-color: hsl(120, 75%, 73%); opacity:1.0;                     line-height:1.75\"><font color=\"black\"> #s                    </font></mark><mark style=\"background-color: hsl(120, 75%, 95%); opacity:1.0;                     line-height:1.75\"><font color=\"black\"> replete                    </font></mark><mark style=\"background-color: hsl(120, 75%, 73%); opacity:1.0;                     line-height:1.75\"><font color=\"black\"> with                    </font></mark><mark style=\"background-color: hsl(120, 75%, 99%); opacity:1.0;                     line-height:1.75\"><font color=\"black\"> stereotypical                    </font></mark><mark style=\"background-color: hsl(120, 75%, 87%); opacity:1.0;                     line-height:1.75\"><font color=\"black\"> familial                    </font></mark><mark style=\"background-color: hsl(120, 75%, 90%); opacity:1.0;                     line-height:1.75\"><font color=\"black\"> quandaries                    </font></mark><mark style=\"background-color: hsl(120, 75%, 87%); opacity:1.0;                     line-height:1.75\"><font color=\"black\">                     </font></mark><mark style=\"background-color: hsl(120, 75%, 90%); opacity:1.0;                     line-height:1.75\"><font color=\"black\"> #/s                    </font></mark></td><tr></table>"
      ],
      "text/plain": [
       "<IPython.core.display.HTML object>"
      ]
     },
     "metadata": {},
     "output_type": "display_data"
    },
    {
     "name": "stdout",
     "output_type": "stream",
     "text": [
      "<IPython.core.display.HTML object>\n",
      "Raw review: quirky comedy \n",
      "GT target: 1\n",
      "word attr tensor([ 0.1761,  0.1475, -0.6707, -0.4883,  0.3700, -0.0918,  0.3371])\n",
      "conti attr [tensor(0.1761), tensor(-1.0115), tensor(0.3700), tensor(-0.0918), tensor(0.3371)]\n",
      "detokenized ['<s>', 'qu', 'ir', 'ky', 'comedy', '', '</s>']\n",
      "len conti_raw 5\n",
      "conti_raw ['<s>', 'quirky', 'comedy', '', '</s>']\n"
     ]
    },
    {
     "data": {
      "text/html": [
       "<table width: 100%><div style=\"border-top: 1px solid; margin-top: 5px;             padding-top: 5px; display: inline-block\"><b>Legend: </b><span style=\"display: inline-block; width: 10px; height: 10px;                 border: 1px solid; background-color:                 hsl(0, 75%, 60%)\"></span> Negative  <span style=\"display: inline-block; width: 10px; height: 10px;                 border: 1px solid; background-color:                 hsl(0, 75%, 100%)\"></span> Neutral  <span style=\"display: inline-block; width: 10px; height: 10px;                 border: 1px solid; background-color:                 hsl(120, 75%, 50%)\"></span> Positive  </div><tr><th>True Label</th><th>Predicted Label</th><th>Attribution Label</th><th>Attribution Score</th><th>Word Importance</th><tr><td><text style=\"padding-right:2em\"><b>Pos</b></text></td><td><text style=\"padding-right:2em\"><b>Pos (0.98)</b></text></td><td><text style=\"padding-right:2em\"><b>Neg</b></text></td><td><text style=\"padding-right:2em\"><b>-0.22</b></text></td><td><mark style=\"background-color: hsl(120, 75%, 92%); opacity:1.0;                     line-height:1.75\"><font color=\"black\"> #s                    </font></mark><mark style=\"background-color: hsl(120, 75%, 93%); opacity:1.0;                     line-height:1.75\"><font color=\"black\"> quirky                    </font></mark><mark style=\"background-color: hsl(0, 75%, 74%); opacity:1.0;                     line-height:1.75\"><font color=\"black\"> comedy                    </font></mark><mark style=\"background-color: hsl(0, 75%, 81%); opacity:1.0;                     line-height:1.75\"><font color=\"black\">                     </font></mark><mark style=\"background-color: hsl(120, 75%, 82%); opacity:1.0;                     line-height:1.75\"><font color=\"black\"> #/s                    </font></mark></td><tr></table>"
      ],
      "text/plain": [
       "<IPython.core.display.HTML object>"
      ]
     },
     "metadata": {},
     "output_type": "display_data"
    },
    {
     "name": "stdout",
     "output_type": "stream",
     "text": [
      "<IPython.core.display.HTML object>\n",
      "Raw review: unrewarding \n",
      "GT target: 0\n",
      "word attr tensor([ 0.5906,  0.3291,  0.0766, -0.4656, -0.0459,  0.2826,  0.4882])\n",
      "conti attr [tensor(0.5906), tensor(-0.1057), tensor(0.2826), tensor(0.4882)]\n",
      "detokenized ['<s>', 'un', 're', 'ward', 'ing', '', '</s>']\n",
      "len conti_raw 4\n",
      "conti_raw ['<s>', 'unrewarding', '', '</s>']\n"
     ]
    },
    {
     "data": {
      "text/html": [
       "<table width: 100%><div style=\"border-top: 1px solid; margin-top: 5px;             padding-top: 5px; display: inline-block\"><b>Legend: </b><span style=\"display: inline-block; width: 10px; height: 10px;                 border: 1px solid; background-color:                 hsl(0, 75%, 60%)\"></span> Negative  <span style=\"display: inline-block; width: 10px; height: 10px;                 border: 1px solid; background-color:                 hsl(0, 75%, 100%)\"></span> Neutral  <span style=\"display: inline-block; width: 10px; height: 10px;                 border: 1px solid; background-color:                 hsl(120, 75%, 50%)\"></span> Positive  </div><tr><th>True Label</th><th>Predicted Label</th><th>Attribution Label</th><th>Attribution Score</th><th>Word Importance</th><tr><td><text style=\"padding-right:2em\"><b>Neg</b></text></td><td><text style=\"padding-right:2em\"><b>Neg (0.00)</b></text></td><td><text style=\"padding-right:2em\"><b>Pos</b></text></td><td><text style=\"padding-right:2em\"><b>1.26</b></text></td><td><mark style=\"background-color: hsl(120, 75%, 71%); opacity:1.0;                     line-height:1.75\"><font color=\"black\"> #s                    </font></mark><mark style=\"background-color: hsl(120, 75%, 84%); opacity:1.0;                     line-height:1.75\"><font color=\"black\"> unrewarding                    </font></mark><mark style=\"background-color: hsl(120, 75%, 97%); opacity:1.0;                     line-height:1.75\"><font color=\"black\">                     </font></mark><mark style=\"background-color: hsl(0, 75%, 82%); opacity:1.0;                     line-height:1.75\"><font color=\"black\"> #/s                    </font></mark></td><tr></table>"
      ],
      "text/plain": [
       "<IPython.core.display.HTML object>"
      ]
     },
     "metadata": {},
     "output_type": "display_data"
    },
    {
     "name": "stdout",
     "output_type": "stream",
     "text": [
      "<IPython.core.display.HTML object>\n",
      "Raw review: old-hat \n",
      "GT target: 0\n",
      "word attr tensor([0.4294, 0.7945, 0.2201, 0.3558, 0.0913, 0.0325])\n",
      "conti attr [tensor(0.4294), tensor(1.3704), tensor(0.0913), tensor(0.0325)]\n",
      "detokenized ['<s>', 'old', '-', 'hat', '', '</s>']\n",
      "len conti_raw 4\n",
      "conti_raw ['<s>', 'old-hat', '', '</s>']\n"
     ]
    },
    {
     "data": {
      "text/html": [
       "<table width: 100%><div style=\"border-top: 1px solid; margin-top: 5px;             padding-top: 5px; display: inline-block\"><b>Legend: </b><span style=\"display: inline-block; width: 10px; height: 10px;                 border: 1px solid; background-color:                 hsl(0, 75%, 60%)\"></span> Negative  <span style=\"display: inline-block; width: 10px; height: 10px;                 border: 1px solid; background-color:                 hsl(0, 75%, 100%)\"></span> Neutral  <span style=\"display: inline-block; width: 10px; height: 10px;                 border: 1px solid; background-color:                 hsl(120, 75%, 50%)\"></span> Positive  </div><tr><th>True Label</th><th>Predicted Label</th><th>Attribution Label</th><th>Attribution Score</th><th>Word Importance</th><tr><td><text style=\"padding-right:2em\"><b>Neg</b></text></td><td><text style=\"padding-right:2em\"><b>Neg (0.00)</b></text></td><td><text style=\"padding-right:2em\"><b>Pos</b></text></td><td><text style=\"padding-right:2em\"><b>1.92</b></text></td><td><mark style=\"background-color: hsl(120, 75%, 79%); opacity:1.0;                     line-height:1.75\"><font color=\"black\"> #s                    </font></mark><mark style=\"background-color: hsl(120, 75%, 61%); opacity:1.0;                     line-height:1.75\"><font color=\"black\"> old-hat                    </font></mark><mark style=\"background-color: hsl(120, 75%, 89%); opacity:1.0;                     line-height:1.75\"><font color=\"black\">                     </font></mark><mark style=\"background-color: hsl(120, 75%, 83%); opacity:1.0;                     line-height:1.75\"><font color=\"black\"> #/s                    </font></mark></td><tr></table>"
      ],
      "text/plain": [
       "<IPython.core.display.HTML object>"
      ]
     },
     "metadata": {},
     "output_type": "display_data"
    },
    {
     "name": "stdout",
     "output_type": "stream",
     "text": [
      "<IPython.core.display.HTML object>\n"
     ]
    }
   ],
   "source": [
    "for i, (datum_raw, target) in enumerate(zip(sst2_data_raw, targets), start=1):\n",
    "    print(f'Raw review: {datum_raw}')\n",
    "    print(f'GT target: {target}')\n",
    "    visual_record=generate_record(datum_raw, target)\n",
    "    print(visualization.visualize_text([visual_record]))\n",
    "   "
   ]
  },
  {
   "cell_type": "code",
   "execution_count": 9,
   "id": "f6344a01",
   "metadata": {},
   "outputs": [
    {
     "data": {
      "text/plain": [
       "{'indices': [27798,\n",
       "  28244,\n",
       "  48083,\n",
       "  8795,\n",
       "  91,\n",
       "  20682,\n",
       "  59890,\n",
       "  41763,\n",
       "  19795,\n",
       "  9957,\n",
       "  28334,\n",
       "  55664,\n",
       "  16438,\n",
       "  18031,\n",
       "  9297,\n",
       "  66913,\n",
       "  9289,\n",
       "  6789,\n",
       "  25294,\n",
       "  33294,\n",
       "  29699,\n",
       "  41960,\n",
       "  6554,\n",
       "  8772,\n",
       "  17921,\n",
       "  8027,\n",
       "  49091,\n",
       "  54186,\n",
       "  15080,\n",
       "  22382,\n",
       "  23856,\n",
       "  9464,\n",
       "  23831,\n",
       "  59434,\n",
       "  17862,\n",
       "  24584,\n",
       "  26216,\n",
       "  63094,\n",
       "  55787,\n",
       "  3993,\n",
       "  25463,\n",
       "  17540,\n",
       "  51128,\n",
       "  46224,\n",
       "  32656,\n",
       "  30105,\n",
       "  28646,\n",
       "  17011,\n",
       "  7812,\n",
       "  48236],\n",
       " 'raw_data': ['its oscar nomination ',\n",
       "  'shenanigans and slapstick ',\n",
       "  'an unsettling sight , ',\n",
       "  'the climactic hourlong cricket match ',\n",
       "  'alternating between facetious comic parody and pulp melodrama , this smart-aleck movie ... tosses around some intriguing questions about the difference between human and android life ',\n",
       "  'to be a part of that elusive adult world ',\n",
       "  'emotional power ',\n",
       "  'reminds you of why animation is such a perfect medium for children , because of the way it allows the mind to enter and accept another world ',\n",
       "  'unparalleled proportions , writer-director parker ',\n",
       "  'this surprisingly decent flick ',\n",
       "  \"about the best thing you could say about narc is that it 's a rock-solid little genre picture . \",\n",
       "  'the very best ',\n",
       "  'been modeled on the worst revenge-of-the-nerds clichés the filmmakers could dredge up ',\n",
       "  'tell you ',\n",
       "  'utterly absorbing ',\n",
       "  'restate ',\n",
       "  'bears about as much resemblance to the experiences of most battered women as spider-man ',\n",
       "  'expressively performed ',\n",
       "  'the acting is amateurish , the cinematography is atrocious ',\n",
       "  'solidly constructed ',\n",
       "  \"are undermined by the movie 's presentation , which is way too stagy \",\n",
       "  'a great film ',\n",
       "  'charm ',\n",
       "  'this new jangle of noise , mayhem and stupidity ',\n",
       "  'sustains it ',\n",
       "  'is so deadly dull that watching the proverbial paint dry would be a welcome improvement . ',\n",
       "  'to accomplish ',\n",
       "  \"does n't work . \",\n",
       "  'given it a one-star rating ',\n",
       "  \"ice cube is n't quite out of ripe screwball ideas , but friday after next spreads them pretty thin \",\n",
       "  'been trying to forget ',\n",
       "  'big stars and ',\n",
       "  'of cheesy dialogue ',\n",
       "  \"the château is never quite able to overcome the cultural moat surrounding its ludicrous and contrived plot . ' \",\n",
       "  'principled ',\n",
       "  'end it all by stuffing himself into an electric pencil sharpener ',\n",
       "  'funniest idea ',\n",
       "  'silly and tedious ',\n",
       "  'two surefire , beloved genres ',\n",
       "  'most charmless ',\n",
       "  'offers us the sense that on some elemental level , lilia deeply wants to break free of her old life . ',\n",
       "  'might be best forgotten ',\n",
       "  \"a substantial arc of change that does n't produce any real transformation \",\n",
       "  'unadorned ',\n",
       "  \"this is the kind of movie that you only need to watch for about thirty seconds before you say to yourself , ` ah , yes , here we have a bad , bad , bad movie . ' \",\n",
       "  'feel sanitised and stagey ',\n",
       "  'replete with stereotypical familial quandaries ',\n",
       "  'quirky comedy ',\n",
       "  'unrewarding ',\n",
       "  'old-hat '],\n",
       " 'targets': [1,\n",
       "  1,\n",
       "  0,\n",
       "  1,\n",
       "  1,\n",
       "  1,\n",
       "  1,\n",
       "  1,\n",
       "  1,\n",
       "  1,\n",
       "  1,\n",
       "  1,\n",
       "  0,\n",
       "  1,\n",
       "  1,\n",
       "  0,\n",
       "  0,\n",
       "  1,\n",
       "  0,\n",
       "  1,\n",
       "  0,\n",
       "  1,\n",
       "  1,\n",
       "  0,\n",
       "  1,\n",
       "  0,\n",
       "  1,\n",
       "  0,\n",
       "  0,\n",
       "  0,\n",
       "  0,\n",
       "  1,\n",
       "  0,\n",
       "  0,\n",
       "  1,\n",
       "  0,\n",
       "  1,\n",
       "  0,\n",
       "  1,\n",
       "  0,\n",
       "  1,\n",
       "  0,\n",
       "  0,\n",
       "  0,\n",
       "  0,\n",
       "  0,\n",
       "  0,\n",
       "  1,\n",
       "  0,\n",
       "  0],\n",
       " 'model_out_list': [0.995320737361908,\n",
       "  0.9981416463851929,\n",
       "  0.005029475316405296,\n",
       "  0.9984524250030518,\n",
       "  0.9986995458602905,\n",
       "  0.9969199895858765,\n",
       "  0.9981027245521545,\n",
       "  0.9988178610801697,\n",
       "  0.9962330460548401,\n",
       "  0.9986741542816162,\n",
       "  0.998805046081543,\n",
       "  0.9979293346405029,\n",
       "  0.0005059812683612108,\n",
       "  0.9343322515487671,\n",
       "  0.9985029697418213,\n",
       "  0.04905090853571892,\n",
       "  0.0005413290928117931,\n",
       "  0.9973813891410828,\n",
       "  0.0005215632263571024,\n",
       "  0.9988528490066528,\n",
       "  0.0005033428315073252,\n",
       "  0.9987362027168274,\n",
       "  0.9976087808609009,\n",
       "  0.001143843517638743,\n",
       "  0.9985160231590271,\n",
       "  0.0005450641037896276,\n",
       "  0.9904943704605103,\n",
       "  0.0005098296096548438,\n",
       "  0.0005034934147261083,\n",
       "  0.000628155074082315,\n",
       "  0.005729988217353821,\n",
       "  0.9980424642562866,\n",
       "  0.0006895964033901691,\n",
       "  0.0005053564091213048,\n",
       "  0.998275876045227,\n",
       "  0.0005752602592110634,\n",
       "  0.989409327507019,\n",
       "  0.0005222382606007159,\n",
       "  0.9986666440963745,\n",
       "  0.0005778066697530448,\n",
       "  0.9984531402587891,\n",
       "  0.004469992592930794,\n",
       "  0.0005454060155898333,\n",
       "  0.9974514842033386,\n",
       "  0.0004941548686474562,\n",
       "  0.0035783315543085337,\n",
       "  0.0008468214073218405,\n",
       "  0.9829257726669312,\n",
       "  0.0005415334017015994,\n",
       "  0.0019286152673885226],\n",
       " 'raw_attr_list': [tensor([[[ 9.3836e-07,  3.0173e-06, -4.3824e-06,  ...,  1.2725e-05,\n",
       "            -1.5685e-05, -4.7294e-06],\n",
       "           [ 6.6381e-06,  5.4266e-06,  2.4714e-06,  ..., -6.3218e-06,\n",
       "             1.7306e-06, -2.6178e-06],\n",
       "           [ 1.4447e-05, -9.6342e-06,  1.6062e-05,  ..., -7.9305e-07,\n",
       "             1.0452e-06, -1.8818e-06],\n",
       "           ...,\n",
       "           [ 1.5899e-05,  2.0033e-05,  5.4465e-08,  ...,  2.8922e-05,\n",
       "            -2.2840e-06, -2.1380e-05],\n",
       "           [ 1.0977e-05,  6.1056e-06,  7.5144e-06,  ...,  9.5940e-06,\n",
       "            -1.8186e-05,  1.0195e-05],\n",
       "           [-3.8203e-06,  2.9971e-06,  9.3559e-06,  ...,  4.3403e-06,\n",
       "            -3.1513e-06, -5.6445e-06]]]),\n",
       "  tensor([[[-5.8766e-07, -2.6113e-06,  5.4802e-06,  ...,  8.0968e-07,\n",
       "            -1.3946e-06, -4.0220e-06],\n",
       "           [-4.1524e-06,  2.2328e-06,  2.5493e-06,  ..., -1.1231e-06,\n",
       "            -4.0412e-06,  2.7308e-09],\n",
       "           [-4.8829e-06,  3.9116e-06,  1.3173e-06,  ..., -5.4438e-07,\n",
       "            -4.5720e-06,  2.2808e-06],\n",
       "           ...,\n",
       "           [ 6.4124e-06,  7.4553e-07,  8.2661e-06,  ...,  8.1578e-06,\n",
       "             6.6546e-06,  1.0534e-06],\n",
       "           [ 2.6747e-06,  1.1765e-07,  1.6429e-06,  ...,  1.5672e-06,\n",
       "            -3.5627e-06,  2.8251e-06],\n",
       "           [ 2.1185e-06, -2.2833e-06,  1.8325e-07,  ...,  2.3949e-07,\n",
       "            -3.2650e-06,  4.6802e-07]]]),\n",
       "  tensor([[[ 1.3090e-05,  9.6333e-06, -9.6350e-06,  ..., -1.8664e-05,\n",
       "            -5.0333e-06,  2.7114e-05],\n",
       "           [-2.8053e-05, -3.9217e-05, -3.0538e-06,  ...,  5.2962e-07,\n",
       "             1.7375e-05,  2.3996e-06],\n",
       "           [-6.7664e-05,  1.0693e-05, -5.6633e-05,  ...,  1.6620e-04,\n",
       "             1.5690e-04,  4.4351e-07],\n",
       "           ...,\n",
       "           [ 4.0497e-07, -6.7372e-08,  2.6654e-05,  ...,  2.3056e-05,\n",
       "            -4.3484e-05, -1.9452e-05],\n",
       "           [ 1.4375e-05, -2.1855e-05, -9.4797e-06,  ..., -3.2538e-06,\n",
       "             2.2683e-07, -4.8303e-05],\n",
       "           [-1.1164e-05,  4.8135e-06,  1.4462e-05,  ..., -2.5893e-05,\n",
       "            -1.0768e-05,  1.0045e-05]]]),\n",
       "  tensor([[[-6.5317e-06,  3.5768e-06, -1.0584e-06,  ..., -1.9630e-06,\n",
       "            -1.8013e-06, -1.1215e-06],\n",
       "           [-2.5655e-06, -4.0733e-07, -2.5458e-06,  ...,  2.4218e-07,\n",
       "            -1.2191e-06, -1.3988e-07],\n",
       "           [-5.0405e-06,  5.9906e-06, -7.1405e-06,  ..., -1.7680e-06,\n",
       "             4.8473e-08, -1.1352e-06],\n",
       "           ...,\n",
       "           [ 1.0357e-06,  1.5942e-06,  5.3650e-07,  ...,  2.7930e-06,\n",
       "             4.4150e-07, -6.9411e-07],\n",
       "           [-1.4763e-06, -8.8239e-07,  5.9577e-07,  ...,  3.5974e-06,\n",
       "            -9.5154e-09, -7.9514e-07],\n",
       "           [-1.3816e-07,  2.9856e-07, -7.7114e-07,  ...,  2.0299e-07,\n",
       "             9.4393e-07, -4.2574e-07]]]),\n",
       "  tensor([[[ 1.7653e-06, -1.9416e-07, -4.2838e-07,  ..., -4.0863e-07,\n",
       "             7.4751e-07, -5.1546e-07],\n",
       "           [ 9.6556e-07,  3.0759e-06, -4.8302e-07,  ...,  2.9038e-06,\n",
       "             4.4446e-06,  3.9301e-06],\n",
       "           [-6.4516e-08, -6.2185e-07, -1.6045e-08,  ..., -1.3421e-06,\n",
       "             1.5467e-06,  2.2593e-08],\n",
       "           ...,\n",
       "           [ 8.4054e-08,  4.6340e-07,  1.4741e-07,  ...,  2.5759e-07,\n",
       "            -1.6897e-07,  6.9611e-07],\n",
       "           [ 6.2075e-07, -2.8394e-07, -5.4070e-09,  ..., -4.1361e-07,\n",
       "            -6.0814e-07,  3.3540e-07],\n",
       "           [-1.4866e-07, -4.9999e-09, -3.7869e-07,  ...,  1.1952e-06,\n",
       "             3.8588e-07, -8.2313e-07]]]),\n",
       "  tensor([[[ 1.9997e-05,  1.8052e-05, -7.1401e-06,  ...,  9.3099e-06,\n",
       "            -6.1937e-06,  1.1807e-05],\n",
       "           [ 7.2536e-06, -4.7898e-07,  6.3963e-06,  ...,  1.6275e-06,\n",
       "             5.4478e-06,  4.6149e-07],\n",
       "           [ 5.7732e-06,  1.2718e-05,  7.3151e-06,  ...,  1.6925e-06,\n",
       "             1.0363e-06,  1.1219e-05],\n",
       "           ...,\n",
       "           [ 1.2485e-05,  1.7394e-05, -1.3195e-05,  ..., -6.3154e-07,\n",
       "            -2.8674e-06, -7.4050e-07],\n",
       "           [ 9.6761e-06,  9.8146e-06,  1.1686e-05,  ...,  3.1223e-06,\n",
       "             4.8203e-06, -1.5462e-05],\n",
       "           [ 8.6566e-06,  4.3352e-06,  3.8307e-06,  ..., -1.4691e-05,\n",
       "             1.4337e-08, -2.3876e-06]]]),\n",
       "  tensor([[[ 2.7671e-07, -7.4055e-06, -6.6357e-06,  ...,  3.6519e-06,\n",
       "            -4.7847e-06, -4.2441e-06],\n",
       "           [ 3.4057e-06,  1.9885e-06, -5.0764e-06,  ..., -2.8021e-06,\n",
       "            -2.2815e-06,  1.4380e-06],\n",
       "           [ 6.0002e-06, -1.1054e-05, -2.7129e-05,  ..., -3.4046e-06,\n",
       "             1.1621e-05,  3.9644e-06],\n",
       "           [ 6.7893e-06,  6.9066e-06, -1.3825e-06,  ..., -1.2445e-06,\n",
       "             3.0120e-07,  2.3115e-06],\n",
       "           [ 5.3060e-06,  7.3639e-07,  6.6582e-07,  ..., -4.8982e-07,\n",
       "             1.1375e-06, -1.9616e-06],\n",
       "           [-6.6795e-07, -2.1322e-06, -2.8509e-06,  ...,  4.2687e-07,\n",
       "             8.5094e-07, -6.9237e-07]]]),\n",
       "  tensor([[[-4.1259e-08,  1.8436e-07,  1.2390e-07,  ...,  1.4499e-07,\n",
       "            -1.1427e-08,  2.2833e-07],\n",
       "           [ 1.5999e-07, -2.6099e-08,  3.0664e-07,  ...,  3.1974e-07,\n",
       "            -4.6530e-08,  4.8042e-07],\n",
       "           [-3.1892e-07, -5.3591e-07,  4.0822e-08,  ...,  4.4740e-07,\n",
       "            -7.2108e-08,  2.4960e-07],\n",
       "           ...,\n",
       "           [-1.0922e-07, -1.5802e-09,  1.7385e-07,  ...,  2.3757e-07,\n",
       "             6.4915e-08, -5.5841e-08],\n",
       "           [-1.0298e-07, -1.0483e-08,  4.7175e-07,  ...,  3.0970e-07,\n",
       "             2.4368e-07, -1.5808e-07],\n",
       "           [-7.2918e-08,  2.8970e-09,  1.7033e-07,  ..., -5.1409e-08,\n",
       "             8.1351e-08,  2.5583e-09]]]),\n",
       "  tensor([[[ 3.4854e-05, -2.0909e-05, -5.0699e-05,  ..., -3.3657e-06,\n",
       "            -2.0572e-05, -5.8637e-05],\n",
       "           [ 1.7452e-05, -7.2059e-05,  3.9669e-06,  ...,  5.5060e-05,\n",
       "            -3.1459e-05, -2.3440e-05],\n",
       "           [-2.1138e-05, -8.9769e-05, -2.2682e-05,  ..., -1.8736e-04,\n",
       "             7.7791e-05, -1.5500e-04],\n",
       "           ...,\n",
       "           [ 4.2423e-05, -3.5177e-05,  1.0459e-05,  ...,  2.1707e-05,\n",
       "             8.2295e-07, -2.6028e-05],\n",
       "           [ 2.4344e-05,  2.1494e-05, -1.9454e-05,  ...,  1.7292e-05,\n",
       "            -2.6997e-05, -8.7310e-06],\n",
       "           [ 1.9324e-05, -3.0282e-05, -2.9766e-05,  ..., -1.1413e-05,\n",
       "            -1.4529e-05, -1.0679e-05]]]),\n",
       "  tensor([[[ 8.1523e-07,  7.6118e-07,  5.4787e-07,  ...,  1.5869e-06,\n",
       "            -1.0823e-07,  6.9836e-07],\n",
       "           [-2.1949e-07,  5.0901e-07,  8.5544e-07,  ...,  5.8614e-07,\n",
       "            -4.1485e-07, -7.9877e-07],\n",
       "           [ 1.0974e-06, -5.6401e-07,  3.9830e-06,  ...,  3.9422e-07,\n",
       "            -3.7449e-06,  1.8583e-06],\n",
       "           ...,\n",
       "           [ 6.4109e-07,  1.0257e-06,  1.5013e-06,  ...,  1.7493e-06,\n",
       "            -1.1679e-06,  8.6331e-07],\n",
       "           [ 1.4384e-07, -6.8386e-07,  3.7416e-07,  ...,  3.4942e-07,\n",
       "             5.1746e-07,  3.7202e-07],\n",
       "           [ 8.1097e-08, -1.6009e-07, -3.4395e-07,  ...,  1.1026e-07,\n",
       "             1.1936e-06, -1.6003e-06]]]),\n",
       "  tensor([[[-2.7391e-07, -3.5082e-07, -2.8091e-07,  ...,  2.3471e-08,\n",
       "            -9.8986e-08,  7.2199e-08],\n",
       "           [ 1.4081e-06,  1.1700e-06,  2.6113e-07,  ..., -1.6405e-07,\n",
       "            -2.9920e-07, -6.6954e-07],\n",
       "           [ 5.1988e-07,  3.8200e-07,  5.3918e-07,  ..., -5.1560e-07,\n",
       "            -1.4021e-07,  4.2856e-07],\n",
       "           ...,\n",
       "           [-7.1010e-08, -1.7689e-07,  3.2937e-07,  ...,  1.7069e-07,\n",
       "            -1.0276e-07,  8.2667e-08],\n",
       "           [ 1.6507e-07, -3.6573e-07, -1.0055e-07,  ..., -6.6063e-08,\n",
       "             5.1419e-07,  5.0334e-07],\n",
       "           [-4.7869e-07, -1.7794e-07, -1.1285e-07,  ...,  2.5447e-07,\n",
       "             4.1176e-08,  4.8144e-08]]]),\n",
       "  tensor([[[ 3.8523e-06, -1.3634e-06, -1.8131e-06,  ...,  8.2837e-07,\n",
       "            -4.0075e-06,  9.5394e-08],\n",
       "           [ 2.6208e-06, -2.1671e-06,  3.8057e-07,  ..., -4.6109e-08,\n",
       "            -7.0753e-06,  1.5392e-06],\n",
       "           [ 2.0858e-06,  5.6778e-07, -2.1132e-06,  ...,  3.7415e-06,\n",
       "            -1.7686e-06,  6.2811e-08],\n",
       "           [ 2.2165e-06,  9.4822e-06,  1.2860e-06,  ...,  7.9988e-06,\n",
       "             9.1581e-06,  1.5247e-06],\n",
       "           [ 9.5728e-06,  9.4539e-08, -1.6332e-06,  ...,  3.1192e-07,\n",
       "            -7.2780e-06, -8.7982e-07],\n",
       "           [ 7.0314e-07,  8.5091e-07, -1.4285e-06,  ..., -1.1537e-06,\n",
       "             4.4202e-06, -1.1384e-06]]]),\n",
       "  tensor([[[ 3.0382e-08,  2.9574e-08,  6.5251e-08,  ...,  7.5056e-08,\n",
       "            -5.5805e-08,  1.5588e-08],\n",
       "           [-4.0042e-08,  1.7493e-07, -1.0296e-07,  ..., -6.3150e-08,\n",
       "             5.3444e-08,  2.6858e-08],\n",
       "           [-6.7782e-09, -5.0552e-08, -1.9363e-07,  ...,  6.0690e-08,\n",
       "             2.1193e-07,  2.4388e-07],\n",
       "           ...,\n",
       "           [-6.3751e-09, -8.0899e-08,  1.0915e-08,  ..., -1.6699e-08,\n",
       "             5.9848e-08, -5.4379e-08],\n",
       "           [ 8.2002e-08, -1.7084e-08, -6.6581e-09,  ..., -6.5446e-08,\n",
       "             1.9035e-08, -1.0354e-07],\n",
       "           [-5.8652e-08, -5.4267e-08, -3.5043e-08,  ..., -5.3186e-08,\n",
       "             2.1077e-08, -4.9795e-08]]]),\n",
       "  tensor([[[ 7.6107e-04, -1.2883e-03,  2.0011e-04,  ..., -6.6886e-04,\n",
       "            -1.9165e-03, -2.9638e-03],\n",
       "           [ 6.7476e-04, -4.3698e-03,  4.8929e-05,  ...,  6.7337e-04,\n",
       "            -2.3352e-03, -1.8709e-03],\n",
       "           [ 2.1953e-04,  9.2351e-04, -2.2399e-03,  ..., -8.7501e-04,\n",
       "             1.0266e-03, -2.7237e-03],\n",
       "           [-2.0786e-03,  1.4799e-03, -2.0435e-03,  ...,  3.6533e-03,\n",
       "            -3.9649e-03,  2.2745e-03],\n",
       "           [-5.6994e-04, -1.3265e-03, -1.6535e-03,  ...,  9.8069e-04,\n",
       "            -1.1750e-03,  2.7854e-04]]]),\n",
       "  tensor([[[-1.8607e-06,  5.7641e-07, -3.0819e-06,  ...,  1.3533e-07,\n",
       "            -2.9332e-06,  2.1729e-06],\n",
       "           [-1.9691e-08, -3.7992e-06,  4.5148e-06,  ..., -1.3685e-06,\n",
       "            -2.4226e-06, -2.6505e-06],\n",
       "           [ 8.4276e-07, -1.2083e-06, -3.6221e-06,  ...,  9.2181e-07,\n",
       "             8.0579e-07, -6.7861e-07],\n",
       "           [-2.0679e-06, -8.5852e-07, -5.9889e-06,  ..., -1.0490e-06,\n",
       "            -2.0470e-06,  2.0554e-06],\n",
       "           [ 1.9951e-06,  1.5757e-06, -1.1420e-06,  ..., -1.7678e-06,\n",
       "            -1.3372e-06,  2.5720e-06],\n",
       "           [-3.6339e-07,  3.2809e-07, -2.9286e-07,  ..., -8.4346e-07,\n",
       "             2.7904e-06, -5.8725e-07]]]),\n",
       "  tensor([[[ 0.0028, -0.0065, -0.0075,  ...,  0.0047,  0.0089,  0.0118],\n",
       "           [ 0.0228, -0.0243,  0.0218,  ...,  0.0134, -0.0210, -0.0031],\n",
       "           [-0.0024, -0.0026,  0.0067,  ...,  0.0049, -0.0065, -0.0028],\n",
       "           [ 0.0048,  0.0004,  0.0039,  ...,  0.0020, -0.0079, -0.0005],\n",
       "           [ 0.0005, -0.0067, -0.0039,  ..., -0.0058,  0.0116,  0.0064]]]),\n",
       "  tensor([[[ 7.3576e-08,  7.1585e-09,  1.5342e-07,  ...,  1.7718e-07,\n",
       "            -1.5134e-07, -1.5283e-08],\n",
       "           [-1.6254e-08,  1.0067e-07,  1.4286e-07,  ..., -1.1789e-07,\n",
       "            -8.9556e-08,  7.8111e-09],\n",
       "           [ 3.2406e-07, -4.8308e-07,  2.4643e-07,  ...,  1.5507e-07,\n",
       "             3.3778e-07, -3.3339e-07],\n",
       "           ...,\n",
       "           [ 8.3453e-08, -4.8575e-08,  7.0491e-08,  ...,  6.1478e-08,\n",
       "            -4.9988e-08, -1.2080e-07],\n",
       "           [-9.4803e-08,  2.0099e-08, -4.1874e-08,  ..., -1.6274e-07,\n",
       "             7.2957e-08,  2.7298e-07],\n",
       "           [ 1.9312e-08, -2.9102e-08,  4.1106e-08,  ...,  1.2996e-08,\n",
       "            -4.1963e-08, -2.2589e-08]]]),\n",
       "  tensor([[[-1.9768e-05, -1.4858e-06, -5.5152e-05,  ..., -1.8972e-05,\n",
       "            -1.1060e-05, -1.8202e-05],\n",
       "           [-5.3871e-05,  1.1246e-04,  1.7850e-04,  ...,  1.6386e-04,\n",
       "             1.1679e-04,  1.4127e-05],\n",
       "           [ 4.0450e-05, -2.5146e-05,  4.4102e-05,  ...,  7.5786e-06,\n",
       "             7.0008e-05,  1.8898e-05],\n",
       "           [ 8.1182e-05,  1.2361e-04, -5.1425e-05,  ..., -4.0369e-06,\n",
       "             5.3176e-05,  4.5628e-05],\n",
       "           [ 1.5525e-05,  4.8192e-05,  7.5505e-05,  ...,  3.6771e-05,\n",
       "            -2.1790e-05, -5.7300e-05],\n",
       "           [ 3.7128e-05, -3.0489e-05,  3.7773e-06,  ...,  1.9924e-05,\n",
       "             2.0547e-05, -2.4031e-05]]]),\n",
       "  tensor([[[ 5.2609e-08,  9.6786e-08,  1.4031e-07,  ...,  8.1608e-09,\n",
       "            -3.6772e-08,  8.8933e-08],\n",
       "           [-2.9273e-08,  2.1008e-08, -2.7460e-09,  ...,  2.4533e-08,\n",
       "            -5.3180e-08, -1.8189e-08],\n",
       "           [ 1.3986e-07,  1.6914e-07,  1.2288e-07,  ..., -7.7393e-09,\n",
       "            -8.6479e-08,  1.3540e-07],\n",
       "           ...,\n",
       "           [-1.2090e-07,  4.1610e-09, -1.6782e-07,  ...,  8.4401e-08,\n",
       "             5.2620e-08,  5.8292e-08],\n",
       "           [-6.6694e-08,  1.2648e-07, -8.5486e-08,  ..., -2.3966e-08,\n",
       "            -2.8512e-09,  9.2775e-08],\n",
       "           [-2.2106e-08, -3.1643e-08,  1.4464e-08,  ..., -2.7143e-08,\n",
       "             1.1651e-08,  2.0877e-08]]]),\n",
       "  tensor([[[ 1.7670e-07,  3.1510e-07,  1.7490e-07,  ...,  5.9441e-07,\n",
       "            -1.8116e-07, -8.3416e-08],\n",
       "           [ 1.5855e-07,  5.3065e-07,  6.6418e-07,  ...,  2.2285e-07,\n",
       "             1.8270e-08,  5.0711e-07],\n",
       "           [ 5.1361e-07, -3.0354e-07,  5.7491e-07,  ...,  1.1755e-07,\n",
       "             2.8511e-08, -3.5636e-07],\n",
       "           [ 6.2018e-07,  4.3508e-07,  5.9058e-07,  ..., -2.4741e-07,\n",
       "             5.6935e-07,  9.3239e-08],\n",
       "           [ 8.2348e-07,  2.1916e-07,  1.2214e-07,  ..., -1.3415e-06,\n",
       "            -3.8584e-07, -5.5744e-08],\n",
       "           [-2.3335e-07, -2.0183e-07, -3.4460e-07,  ..., -4.9559e-08,\n",
       "            -1.0010e-07, -2.4187e-07]]]),\n",
       "  tensor([[[ 1.7991e-08,  3.3479e-08, -8.1312e-08,  ..., -4.2423e-08,\n",
       "             3.4201e-08,  5.3270e-08],\n",
       "           [-9.7942e-09,  1.2181e-08,  2.3839e-08,  ..., -4.5538e-09,\n",
       "             8.3845e-10,  3.8633e-08],\n",
       "           [ 1.3958e-08, -3.9824e-08, -8.1742e-10,  ...,  1.1210e-07,\n",
       "             3.6980e-08,  6.2096e-08],\n",
       "           ...,\n",
       "           [-1.8566e-08,  6.7200e-08, -1.9299e-08,  ...,  5.5248e-09,\n",
       "            -2.1664e-08,  1.5681e-08],\n",
       "           [ 2.7513e-08, -1.4074e-08, -3.7390e-08,  ..., -1.8496e-08,\n",
       "            -8.4881e-08,  2.8495e-08],\n",
       "           [ 1.4795e-08,  2.2302e-08,  1.3316e-08,  ...,  3.5970e-08,\n",
       "            -1.9819e-08,  3.0142e-08]]]),\n",
       "  tensor([[[ 4.8127e-08, -5.3631e-08, -6.3867e-07,  ...,  4.9714e-07,\n",
       "            -1.2436e-07,  6.6711e-07],\n",
       "           [-1.6556e-07,  3.1403e-07,  3.8791e-08,  ...,  1.1641e-07,\n",
       "             1.9427e-08, -1.0443e-07],\n",
       "           [-4.1170e-07,  1.2954e-07,  1.1389e-06,  ...,  5.6801e-07,\n",
       "             2.8110e-07, -3.4679e-07],\n",
       "           [ 1.3645e-07, -8.9902e-07,  1.8544e-07,  ...,  7.5075e-07,\n",
       "            -9.3488e-08,  1.6063e-08],\n",
       "           [-3.3215e-07, -5.3258e-07, -2.2616e-07,  ...,  5.5375e-07,\n",
       "            -3.1790e-07,  1.4941e-09],\n",
       "           [ 4.9702e-07,  3.2655e-07,  5.9819e-08,  ...,  3.3632e-07,\n",
       "             6.4310e-09,  2.8702e-07]]]),\n",
       "  tensor([[[-3.2547e-06,  5.0318e-06, -1.0154e-07,  ..., -3.5146e-06,\n",
       "            -9.5249e-06,  8.2111e-07],\n",
       "           [-4.8240e-06,  2.7914e-05,  1.6611e-05,  ..., -5.4677e-06,\n",
       "            -5.2958e-06, -1.3086e-05],\n",
       "           [ 2.2327e-06,  1.2046e-05,  3.9817e-06,  ...,  2.1430e-05,\n",
       "            -8.7355e-06,  1.8782e-05],\n",
       "           [-4.1416e-06,  1.4070e-07, -8.2219e-06,  ..., -1.9198e-05,\n",
       "             2.8339e-06,  8.0793e-06],\n",
       "           [-4.4729e-06, -2.9317e-06, -5.0550e-06,  ..., -2.8545e-06,\n",
       "            -3.2482e-06, -3.2071e-06]]]),\n",
       "  tensor([[[ 6.7329e-06,  4.9101e-06, -9.6006e-06,  ..., -8.9382e-06,\n",
       "             9.1894e-06,  6.2465e-06],\n",
       "           [ 5.0233e-06,  2.4001e-06,  1.9898e-06,  ...,  2.0634e-06,\n",
       "             3.3709e-06, -2.5527e-06],\n",
       "           [ 1.2641e-05, -1.3423e-07, -1.6145e-06,  ..., -9.3140e-07,\n",
       "             3.9680e-06, -2.0678e-07],\n",
       "           ...,\n",
       "           [-4.8243e-06,  3.7343e-05, -1.3633e-05,  ...,  1.2995e-05,\n",
       "             8.5407e-06, -7.4158e-06],\n",
       "           [-1.6713e-06,  9.0249e-06, -7.8243e-06,  ...,  4.9681e-06,\n",
       "             4.4646e-06,  4.7192e-06],\n",
       "           [-4.0120e-07,  5.3394e-07,  2.3361e-06,  ...,  2.9698e-06,\n",
       "            -3.4584e-06,  1.7868e-06]]]),\n",
       "  tensor([[[-1.2545e-06,  2.2715e-06, -3.3296e-06,  ..., -8.0466e-07,\n",
       "            -2.0132e-06,  1.1186e-06],\n",
       "           [-1.7200e-08, -1.3277e-06,  1.0651e-06,  ...,  9.9321e-07,\n",
       "            -2.5576e-06,  4.7952e-07],\n",
       "           [-3.9803e-07, -1.0872e-06,  2.5324e-06,  ..., -9.9456e-07,\n",
       "             2.6903e-07, -1.4833e-06],\n",
       "           ...,\n",
       "           [-2.0900e-06,  1.2048e-06,  1.7845e-06,  ...,  3.4426e-07,\n",
       "            -1.6312e-06,  1.0085e-06],\n",
       "           [-1.9867e-06, -2.2438e-07,  3.7770e-06,  ..., -4.4331e-07,\n",
       "            -1.5600e-06,  1.1136e-06],\n",
       "           [ 4.0818e-07,  1.0688e-06,  3.1918e-06,  ...,  8.0247e-07,\n",
       "            -9.3306e-07, -1.3618e-06]]]),\n",
       "  tensor([[[ 2.2444e-07,  6.1577e-08, -1.0168e-07,  ..., -1.8845e-07,\n",
       "            -5.2967e-08,  9.4786e-08],\n",
       "           [-2.2203e-08, -1.6754e-08, -2.8833e-08,  ...,  1.0880e-08,\n",
       "             7.9486e-08,  6.3415e-08],\n",
       "           [ 7.8568e-08,  1.4945e-08,  4.3883e-08,  ...,  3.3119e-08,\n",
       "            -1.1294e-07, -1.0477e-07],\n",
       "           ...,\n",
       "           [ 1.4706e-07,  6.4763e-09,  1.7695e-08,  ..., -1.2423e-07,\n",
       "            -3.2668e-08,  1.5731e-07],\n",
       "           [-3.3688e-08,  1.2409e-07, -1.0444e-07,  ..., -3.9524e-08,\n",
       "            -2.2616e-07, -1.3861e-07],\n",
       "           [ 7.2337e-08, -5.3248e-08,  8.3738e-08,  ..., -3.9833e-08,\n",
       "            -5.3926e-08, -1.1358e-07]]]),\n",
       "  tensor([[[-2.0756e-05,  1.2888e-05, -8.8658e-05,  ..., -3.2638e-05,\n",
       "             5.3390e-06,  6.1619e-05],\n",
       "           [-5.1656e-05, -2.0041e-05,  8.8070e-05,  ..., -5.5790e-06,\n",
       "             5.0828e-05, -5.9410e-07],\n",
       "           [ 2.3558e-05, -7.7093e-05, -4.9929e-05,  ...,  1.1267e-04,\n",
       "            -9.2666e-05, -6.0387e-05],\n",
       "           [ 4.6876e-05,  1.2115e-05,  5.6845e-05,  ...,  4.5224e-05,\n",
       "            -1.9714e-05,  1.5819e-05],\n",
       "           [ 2.1851e-05, -3.9590e-05, -3.5041e-05,  ...,  4.8467e-05,\n",
       "            -3.4301e-05, -2.8745e-05]]]),\n",
       "  tensor([[[-4.7513e-08, -4.6944e-08,  9.2604e-08,  ...,  2.5465e-08,\n",
       "             4.6976e-08, -7.0879e-08],\n",
       "           [-4.0853e-08,  1.4658e-09, -8.9523e-08,  ...,  1.0043e-08,\n",
       "             8.8468e-08,  5.9696e-08],\n",
       "           [-2.9053e-08,  1.2173e-07, -4.4954e-08,  ..., -5.1283e-09,\n",
       "            -6.4009e-08,  6.7568e-08],\n",
       "           ...,\n",
       "           [-2.8213e-08,  3.9220e-08, -8.5450e-08,  ..., -4.5169e-08,\n",
       "             5.9435e-09,  1.8434e-08],\n",
       "           [-2.4265e-08, -1.4512e-08, -1.2525e-07,  ..., -2.8947e-08,\n",
       "             3.2687e-09, -7.3452e-08],\n",
       "           [-2.4478e-08,  4.2971e-08, -6.3687e-09,  ..., -1.8516e-08,\n",
       "             2.4148e-08, -4.9475e-08]]]),\n",
       "  tensor([[[-4.7888e-09,  2.8386e-08, -2.4616e-08,  ...,  3.9311e-08,\n",
       "             5.9020e-09,  1.3433e-08],\n",
       "           [-5.2678e-08, -5.1662e-09,  2.4891e-08,  ...,  2.2531e-08,\n",
       "             3.3243e-08, -1.4408e-08],\n",
       "           [-1.2957e-08,  1.6012e-08,  8.2688e-09,  ...,  1.9593e-08,\n",
       "            -8.9047e-09,  3.4221e-09],\n",
       "           ...,\n",
       "           [ 9.8373e-09,  4.4406e-08,  2.9693e-08,  ...,  3.0846e-08,\n",
       "             8.9200e-09, -8.4144e-09],\n",
       "           [ 7.1030e-08, -1.2657e-08,  5.7441e-08,  ..., -5.2716e-08,\n",
       "            -4.2284e-08,  2.1420e-08],\n",
       "           [ 6.0458e-09, -2.3181e-08,  6.9069e-10,  ..., -2.5109e-08,\n",
       "            -5.7750e-10,  1.0234e-09]]]),\n",
       "  tensor([[[ 2.0813e-06, -1.7173e-06, -1.4185e-06,  ..., -3.6580e-07,\n",
       "             1.5591e-06,  8.2283e-07],\n",
       "           [ 8.6332e-07, -1.0724e-06,  1.2958e-07,  ..., -3.0391e-06,\n",
       "            -1.1294e-06,  1.5864e-07],\n",
       "           [ 1.1736e-06, -1.8709e-06,  4.6354e-08,  ..., -1.6585e-06,\n",
       "             5.7285e-06, -2.8291e-07],\n",
       "           ...,\n",
       "           [ 2.1265e-06, -6.3657e-07,  2.0352e-06,  ..., -1.0663e-06,\n",
       "            -8.9354e-07,  3.8939e-06],\n",
       "           [-8.5895e-07, -7.8810e-07, -3.4673e-07,  ..., -7.8889e-07,\n",
       "             1.7738e-06, -1.2225e-06],\n",
       "           [-4.6340e-07, -6.9187e-07, -7.6542e-07,  ...,  2.0384e-07,\n",
       "             6.3919e-07,  3.9094e-07]]]),\n",
       "  tensor([[[ 1.9706e-05,  8.6220e-06, -7.8840e-06,  ...,  1.0077e-05,\n",
       "            -3.2118e-05,  2.2609e-06],\n",
       "           [ 2.3627e-05, -1.6143e-05,  2.0638e-06,  ...,  3.6760e-05,\n",
       "            -3.7604e-05,  6.2565e-06],\n",
       "           [-3.9565e-05, -1.1974e-05, -2.1620e-05,  ..., -9.0659e-06,\n",
       "            -3.4518e-05,  1.9216e-05],\n",
       "           ...,\n",
       "           [ 3.1647e-05,  1.2722e-05,  1.4737e-05,  ...,  6.4043e-06,\n",
       "            -6.0899e-05, -3.2952e-06],\n",
       "           [-6.7160e-06,  1.9781e-05, -6.2401e-06,  ...,  3.2448e-06,\n",
       "            -3.6300e-05,  8.7818e-06],\n",
       "           [-1.7191e-05,  1.1876e-05,  1.4720e-05,  ...,  6.0473e-06,\n",
       "            -1.6871e-05, -1.4976e-05]]]),\n",
       "  tensor([[[-1.3848e-06, -1.5328e-06,  3.8853e-06,  ..., -8.7548e-07,\n",
       "            -2.3768e-06,  2.5195e-07],\n",
       "           [ 3.5054e-06,  2.1965e-07, -1.4316e-06,  ...,  1.8021e-06,\n",
       "            -7.7890e-06,  1.5150e-05],\n",
       "           [ 1.2734e-06,  1.5542e-06, -9.8682e-06,  ..., -9.0522e-06,\n",
       "            -4.2153e-06, -6.3778e-06],\n",
       "           [-2.7940e-07,  2.6730e-07,  4.9874e-07,  ...,  6.3370e-07,\n",
       "             4.7511e-06, -3.4682e-06],\n",
       "           [-5.1436e-06,  5.8324e-06, -5.5030e-06,  ...,  9.3359e-07,\n",
       "             4.1021e-06,  2.9637e-07],\n",
       "           [ 4.0697e-07, -3.6499e-06, -2.6098e-06,  ...,  3.2292e-06,\n",
       "             9.5442e-07,  1.3892e-06]]]),\n",
       "  tensor([[[ 1.7719e-07, -1.6994e-07,  7.2401e-07,  ...,  6.5524e-07,\n",
       "             2.3735e-06,  3.8381e-08],\n",
       "           [ 1.3872e-06,  3.0481e-07, -1.7799e-06,  ...,  4.0902e-07,\n",
       "             1.8703e-06,  1.3372e-06],\n",
       "           [-3.0313e-06,  2.1391e-06, -1.7871e-06,  ...,  2.5060e-06,\n",
       "             3.2265e-06, -1.0540e-05],\n",
       "           [-2.6052e-06, -1.0052e-06, -2.5352e-06,  ...,  1.3617e-06,\n",
       "             2.4311e-06, -2.3876e-06],\n",
       "           [-7.3650e-07,  1.3243e-06,  1.3057e-07,  ...,  1.4844e-06,\n",
       "             2.0277e-06, -7.1181e-07],\n",
       "           [-1.1807e-07,  5.9166e-07,  8.2155e-07,  ...,  7.3840e-07,\n",
       "             1.1377e-06,  1.0831e-06]]]),\n",
       "  tensor([[[-6.5182e-08, -1.6444e-08, -7.4348e-09,  ...,  2.7139e-08,\n",
       "             4.2180e-09, -3.9305e-10],\n",
       "           [-1.2729e-09,  2.7122e-09,  2.4241e-09,  ...,  1.0137e-08,\n",
       "            -5.9250e-09,  7.3862e-09],\n",
       "           [ 7.4402e-09,  3.0960e-08,  1.8583e-09,  ...,  4.0775e-08,\n",
       "             5.2411e-09, -1.0709e-09],\n",
       "           ...,\n",
       "           [-1.8121e-08, -3.7855e-09, -2.1040e-08,  ..., -1.0629e-08,\n",
       "            -1.1711e-08,  1.7003e-08],\n",
       "           [-5.8114e-09, -1.8519e-08, -4.6361e-09,  ...,  2.1685e-09,\n",
       "             6.3889e-09, -6.4829e-08],\n",
       "           [ 7.3530e-09,  5.1770e-08, -1.3967e-08,  ...,  1.4008e-08,\n",
       "            -2.7042e-08, -3.0685e-09]]]),\n",
       "  tensor([[[ 1.7655e-06,  6.9360e-06, -3.7610e-06,  ..., -1.2669e-06,\n",
       "             9.2135e-06,  3.1042e-06],\n",
       "           [ 1.3813e-05, -1.5802e-06, -1.0117e-05,  ..., -3.7230e-06,\n",
       "             3.5875e-06,  3.9437e-06],\n",
       "           [ 2.1691e-05,  1.3136e-06,  5.5781e-06,  ...,  1.0918e-05,\n",
       "             1.5537e-05,  6.0428e-06],\n",
       "           [-1.9547e-05,  1.3848e-05,  8.8171e-06,  ..., -4.8658e-05,\n",
       "             2.5910e-06, -2.6317e-05],\n",
       "           [ 1.2811e-05, -2.2022e-05, -4.7459e-06,  ..., -8.0982e-06,\n",
       "            -3.6278e-06, -1.2333e-07],\n",
       "           [-2.2765e-06, -9.5787e-07, -1.1640e-06,  ...,  4.7794e-06,\n",
       "             9.1935e-06,  3.2220e-06]]]),\n",
       "  tensor([[[ 5.4975e-07,  5.4908e-07, -3.8311e-07,  ..., -2.9791e-07,\n",
       "            -3.3120e-07,  6.4606e-07],\n",
       "           [ 2.2456e-07, -1.5633e-06, -6.3734e-07,  ..., -1.5533e-06,\n",
       "             1.8310e-06, -1.8562e-06],\n",
       "           [-6.1794e-07, -6.6264e-08,  1.1600e-07,  ...,  3.4874e-07,\n",
       "             8.4499e-08,  2.4357e-07],\n",
       "           ...,\n",
       "           [ 2.6118e-07,  6.8764e-07, -1.5838e-07,  ..., -6.1475e-07,\n",
       "            -4.9189e-07, -8.1662e-07],\n",
       "           [ 1.3446e-07,  2.3919e-07,  1.8595e-07,  ...,  1.8764e-07,\n",
       "            -1.0818e-07,  7.6891e-07],\n",
       "           [-1.8974e-07,  2.0836e-07,  6.1027e-07,  ..., -2.3521e-07,\n",
       "            -8.9200e-07,  1.2675e-07]]]),\n",
       "  tensor([[[ 4.8360e-05, -8.0406e-06, -2.4272e-05,  ..., -4.8746e-05,\n",
       "            -6.9499e-05, -7.2474e-05],\n",
       "           [ 1.8818e-05,  2.8533e-05,  1.0236e-04,  ..., -2.1407e-04,\n",
       "            -2.6438e-05, -8.7463e-05],\n",
       "           [ 2.0154e-05,  7.2258e-05, -4.2890e-05,  ..., -1.0547e-05,\n",
       "            -8.7316e-05, -4.6951e-05],\n",
       "           ...,\n",
       "           [ 1.9786e-04,  4.4012e-05,  2.0663e-05,  ...,  8.1979e-05,\n",
       "             2.3453e-05, -8.8173e-05],\n",
       "           [ 1.5500e-04, -1.2504e-04, -6.9345e-06,  ...,  1.4365e-04,\n",
       "            -6.7420e-06, -2.3373e-06],\n",
       "           [-3.1974e-06, -8.4204e-06, -1.9351e-05,  ...,  3.3076e-05,\n",
       "             4.3913e-05, -4.3692e-05]]]),\n",
       "  tensor([[[ 6.4715e-08,  1.9284e-08, -1.0119e-07,  ..., -9.1485e-09,\n",
       "             8.0494e-10, -6.7821e-08],\n",
       "           [-4.7922e-08, -5.3327e-08, -8.4001e-08,  ..., -1.2178e-09,\n",
       "             6.6295e-08, -4.5854e-09],\n",
       "           [ 1.1974e-08, -1.0435e-07,  7.6653e-08,  ..., -1.0554e-07,\n",
       "             5.2805e-08, -9.2061e-09],\n",
       "           ...,\n",
       "           [ 2.0659e-08, -1.4398e-07, -3.1113e-09,  ..., -1.6387e-07,\n",
       "             7.6146e-08,  3.4360e-08],\n",
       "           [ 2.2661e-08,  8.2870e-08,  1.0199e-08,  ..., -9.5715e-08,\n",
       "             1.0602e-07,  5.9721e-09],\n",
       "           [-2.5762e-08, -6.1385e-08,  8.2107e-09,  ...,  5.9451e-08,\n",
       "            -1.2688e-09, -4.9774e-08]]]),\n",
       "  tensor([[[ 1.6180e-06, -8.3135e-08, -6.5614e-08,  ...,  3.6231e-07,\n",
       "             1.6977e-07,  1.5860e-07],\n",
       "           [ 5.0990e-07,  4.9408e-09,  1.0393e-06,  ..., -4.6129e-07,\n",
       "            -4.0591e-07, -1.7188e-07],\n",
       "           [ 6.0048e-09,  1.0903e-06, -4.8730e-07,  ...,  1.0751e-06,\n",
       "            -1.4768e-06,  7.6566e-07],\n",
       "           ...,\n",
       "           [ 6.2052e-09,  1.6919e-06, -1.6920e-06,  ...,  6.8509e-07,\n",
       "            -1.1319e-06, -3.2172e-07],\n",
       "           [ 5.6860e-07,  1.5180e-06, -1.3018e-07,  ..., -1.5416e-06,\n",
       "            -1.2416e-06, -6.4282e-07],\n",
       "           [-3.4795e-07, -9.4356e-07, -3.2203e-08,  ..., -1.5021e-07,\n",
       "            -2.1868e-08,  5.4935e-08]]]),\n",
       "  tensor([[[ 4.6207e-08,  1.7225e-09,  3.0269e-08,  ..., -3.7512e-07,\n",
       "             1.0036e-06, -7.2351e-07],\n",
       "           [ 3.7739e-08, -8.1028e-07, -3.1447e-07,  ..., -1.8872e-07,\n",
       "             1.3476e-07, -9.8769e-07],\n",
       "           [-7.1637e-07,  1.7130e-06, -1.0617e-06,  ..., -3.0459e-06,\n",
       "            -1.1848e-07, -8.7862e-07],\n",
       "           [ 6.5725e-07,  8.9183e-07,  3.7174e-07,  ...,  4.4700e-07,\n",
       "             4.3887e-07, -9.8609e-07],\n",
       "           [-4.2363e-07,  8.9793e-07, -1.9603e-07,  ..., -5.5255e-07,\n",
       "            -2.7718e-07, -1.9786e-07],\n",
       "           [-4.1217e-07,  6.6938e-07,  1.9549e-07,  ..., -3.5258e-07,\n",
       "            -1.9373e-07,  1.9667e-07]]]),\n",
       "  tensor([[[ 6.7016e-07,  1.7118e-06, -7.9189e-08,  ...,  1.5916e-06,\n",
       "             9.2466e-07,  2.5434e-06],\n",
       "           [-2.3616e-06, -2.7453e-06, -1.4224e-07,  ..., -3.4305e-07,\n",
       "            -2.6356e-06, -3.4615e-06],\n",
       "           [ 3.0292e-07, -1.1674e-06,  1.3328e-06,  ...,  3.6785e-07,\n",
       "            -1.9131e-06, -1.9022e-07],\n",
       "           ...,\n",
       "           [ 6.4863e-07, -1.0941e-06,  1.5761e-07,  ...,  1.0510e-06,\n",
       "            -2.6404e-07, -9.1763e-08],\n",
       "           [ 1.7237e-06, -7.4935e-07,  5.9241e-08,  ..., -1.9349e-07,\n",
       "             1.6804e-06, -5.1467e-07],\n",
       "           [-1.5631e-07, -1.1833e-06, -6.5843e-07,  ..., -8.7905e-07,\n",
       "             1.0048e-06,  5.9842e-07]]]),\n",
       "  tensor([[[-1.4029e-05,  2.5904e-05,  2.0838e-05,  ..., -1.2059e-05,\n",
       "            -1.4737e-05,  3.0892e-05],\n",
       "           [-2.7691e-05,  1.7435e-05, -2.0515e-06,  ..., -2.8934e-05,\n",
       "            -1.9931e-05,  1.9226e-06],\n",
       "           [-1.7569e-06, -7.6393e-07, -1.0263e-05,  ..., -2.7287e-05,\n",
       "             1.3243e-06,  5.5042e-06],\n",
       "           ...,\n",
       "           [-3.3172e-05,  1.4468e-05,  4.2596e-05,  ..., -2.2997e-05,\n",
       "            -4.9783e-05, -2.0518e-05],\n",
       "           [ 3.2689e-05,  5.9629e-05,  5.6318e-06,  ..., -1.5193e-05,\n",
       "            -2.1997e-05, -9.5769e-06],\n",
       "           [ 1.9747e-05,  1.4260e-07, -6.3413e-06,  ..., -7.2023e-06,\n",
       "            -8.5908e-06, -6.9386e-06]]]),\n",
       "  tensor([[[ 8.7223e-10, -2.3988e-07,  2.8187e-07,  ..., -1.4271e-07,\n",
       "             4.4326e-07, -1.2999e-08],\n",
       "           [-3.6786e-08, -3.7724e-08, -1.0637e-07,  ..., -4.4638e-08,\n",
       "             1.8153e-07,  1.1209e-07],\n",
       "           [ 2.5756e-07, -2.0002e-07,  1.1772e-07,  ..., -4.9111e-07,\n",
       "             1.1260e-06,  1.3604e-06],\n",
       "           ...,\n",
       "           [-3.0485e-07,  5.1775e-07, -1.0314e-07,  ...,  6.5193e-09,\n",
       "             7.7420e-07, -1.2068e-06],\n",
       "           [-1.5473e-07, -3.9952e-07,  8.5803e-08,  ...,  2.9257e-07,\n",
       "            -1.1467e-07, -1.3510e-07],\n",
       "           [ 1.7115e-07, -6.3758e-08,  1.8786e-07,  ..., -1.0306e-07,\n",
       "             1.7591e-07, -2.0725e-07]]]),\n",
       "  tensor([[[ 2.1417e-05,  1.0896e-05,  3.4291e-05,  ...,  1.3746e-05,\n",
       "             1.7584e-06,  3.2588e-05],\n",
       "           [ 6.4607e-06, -1.4131e-05,  5.2941e-06,  ..., -9.0978e-06,\n",
       "            -1.9855e-05,  1.6646e-05],\n",
       "           [ 8.6247e-06,  4.3652e-05,  2.7624e-05,  ..., -1.2566e-05,\n",
       "            -7.9696e-06,  4.0075e-06],\n",
       "           [ 2.1873e-05, -5.3976e-05,  9.7901e-05,  ..., -3.0659e-05,\n",
       "             6.4848e-05, -1.0123e-04],\n",
       "           [ 3.1074e-05,  4.2597e-05,  2.8821e-06,  ...,  4.5044e-06,\n",
       "            -2.3016e-05,  2.9074e-06],\n",
       "           [ 2.5021e-05,  8.4754e-07,  1.3093e-05,  ...,  1.0088e-07,\n",
       "            -1.4440e-05, -3.1263e-06]]]),\n",
       "  tensor([[[-4.5631e-09,  1.8252e-09,  1.6481e-10,  ..., -9.5225e-10,\n",
       "             5.6586e-09,  3.8268e-09],\n",
       "           [ 6.1159e-09, -6.5194e-10,  4.2799e-09,  ..., -4.5621e-09,\n",
       "             3.7086e-09, -3.8056e-09],\n",
       "           [ 2.8408e-10, -1.3033e-09,  9.3642e-10,  ..., -1.6089e-09,\n",
       "             3.8526e-09,  1.5819e-09],\n",
       "           ...,\n",
       "           [-2.8925e-10,  7.0627e-09,  2.1578e-09,  ..., -5.6323e-09,\n",
       "            -4.1891e-09, -3.3713e-09],\n",
       "           [ 5.0227e-09, -3.3954e-09, -2.5157e-10,  ..., -8.8702e-09,\n",
       "            -1.2961e-09,  2.9274e-09],\n",
       "           [ 5.2310e-09,  2.8632e-09, -2.4334e-09,  ...,  3.5810e-09,\n",
       "            -5.3842e-09, -1.1378e-09]]]),\n",
       "  tensor([[[ 1.3779e-04,  4.3879e-05, -7.6067e-05,  ..., -5.1614e-05,\n",
       "             1.2776e-04,  1.1810e-05],\n",
       "           [ 8.7281e-06, -8.9813e-05, -2.1397e-05,  ..., -8.2432e-05,\n",
       "             2.5954e-05, -1.1128e-05],\n",
       "           [-2.8300e-04, -5.4273e-05, -5.1860e-04,  ...,  4.5727e-04,\n",
       "             2.4225e-04, -6.0467e-04],\n",
       "           ...,\n",
       "           [ 6.8900e-05,  4.0696e-05, -3.2807e-05,  ..., -2.4538e-05,\n",
       "            -1.4137e-06, -2.2922e-05],\n",
       "           [-5.1863e-05,  1.5710e-05, -1.2723e-04,  ..., -1.5299e-04,\n",
       "             1.1921e-05, -4.5198e-05],\n",
       "           [ 3.1224e-05,  3.7132e-05, -3.5863e-05,  ..., -7.6555e-07,\n",
       "             1.6239e-04, -4.0104e-05]]]),\n",
       "  tensor([[[ 9.1386e-06, -2.7676e-06, -5.5172e-06,  ..., -1.2306e-05,\n",
       "             5.3174e-06,  9.3291e-06],\n",
       "           [ 6.4056e-06, -9.7624e-07, -6.0590e-06,  ..., -6.9255e-06,\n",
       "             1.6969e-05,  7.2412e-06],\n",
       "           [ 5.9063e-06,  3.0800e-06, -1.5325e-06,  ..., -8.4168e-06,\n",
       "             1.1719e-05,  2.0818e-06],\n",
       "           ...,\n",
       "           [ 1.5160e-06, -2.5305e-06,  4.1749e-06,  ...,  7.4302e-06,\n",
       "            -2.3489e-06, -1.3643e-05],\n",
       "           [-3.7688e-06,  3.3602e-06,  2.5531e-06,  ...,  9.8613e-07,\n",
       "             1.5785e-06,  1.1917e-05],\n",
       "           [-2.1663e-06, -4.1250e-06, -2.3076e-06,  ...,  6.7645e-07,\n",
       "             7.8622e-06, -2.1623e-07]]]),\n",
       "  tensor([[[ 1.0252e-04,  8.3194e-04,  6.6539e-04,  ..., -6.0058e-04,\n",
       "            -4.1066e-04, -3.6883e-04],\n",
       "           [-1.8298e-04,  4.1933e-04, -5.2857e-04,  ...,  6.1131e-04,\n",
       "             1.4069e-03,  2.1125e-03],\n",
       "           [-2.7146e-03, -8.1008e-04, -2.5089e-03,  ..., -2.0281e-04,\n",
       "             2.7181e-03,  2.9279e-03],\n",
       "           ...,\n",
       "           [-1.1551e-04,  1.0108e-03,  1.1841e-03,  ...,  2.2390e-04,\n",
       "            -2.6930e-05,  1.0964e-03],\n",
       "           [-7.8764e-04, -7.3330e-04,  3.5209e-04,  ..., -3.1914e-04,\n",
       "             1.3187e-03,  3.8167e-05],\n",
       "           [ 5.3204e-04,  1.9088e-04,  3.1942e-04,  ..., -2.7498e-05,\n",
       "            -1.1546e-04, -7.7386e-04]]]),\n",
       "  tensor([[[-5.6290e-07,  5.9021e-08, -2.3026e-07,  ..., -1.8827e-07,\n",
       "             1.2009e-07,  1.6996e-07],\n",
       "           [-6.9376e-08,  5.4910e-07, -6.2425e-07,  ..., -7.0725e-08,\n",
       "             6.9705e-07, -4.0459e-07],\n",
       "           [-6.5205e-07,  1.6932e-07, -8.2670e-07,  ...,  9.3131e-08,\n",
       "             3.3011e-07, -5.6311e-07],\n",
       "           ...,\n",
       "           [ 7.6061e-07, -1.4302e-07,  3.7340e-08,  ..., -3.0158e-07,\n",
       "             2.7331e-07,  5.1401e-07],\n",
       "           [ 7.9682e-08, -2.1175e-07,  7.9827e-10,  ..., -7.5634e-07,\n",
       "             2.6030e-07,  5.2997e-07],\n",
       "           [ 2.1272e-08, -3.5111e-07, -7.3738e-08,  ..., -2.9559e-07,\n",
       "             2.7595e-07,  4.7371e-08]]]),\n",
       "  tensor([[[ 2.8103e-05, -3.7103e-06, -3.9073e-06,  ...,  9.1507e-06,\n",
       "             2.2474e-05, -7.5475e-06],\n",
       "           [ 2.2965e-05,  1.5498e-06, -3.9011e-06,  ...,  5.8144e-06,\n",
       "             1.0881e-05, -2.5919e-06],\n",
       "           [-6.7789e-06,  1.2053e-05, -1.2461e-05,  ...,  2.4108e-06,\n",
       "             1.0587e-05,  2.0360e-05],\n",
       "           [-4.8798e-06, -1.8807e-05,  4.0938e-06,  ...,  9.5768e-06,\n",
       "             1.9861e-05,  1.0993e-05],\n",
       "           [-9.2809e-06,  5.5740e-06, -3.9661e-06,  ...,  2.8557e-05,\n",
       "             9.3393e-06,  6.2959e-06],\n",
       "           [ 3.7843e-06,  1.1787e-05, -1.6087e-06,  ..., -3.3723e-06,\n",
       "             6.5159e-06, -5.1622e-06]]])],\n",
       " 'conti_attr_list': [tensor([ 0.7291,  0.1628,  0.1590, -0.5092, -0.3859,  0.1428]),\n",
       "  tensor([-0.0625, -0.1671, -0.1181, -0.4953,  0.1991, -0.0590]),\n",
       "  tensor([ 0.8136, -0.2304,  0.0017,  0.5215,  0.0944, -0.0265,  0.0574]),\n",
       "  tensor([ 0.6223,  0.2575, -0.3351, -0.0693,  0.1249, -0.2662,  0.0312, -0.2121]),\n",
       "  tensor([ 0.3847,  0.4270,  0.1519, -0.1761,  0.0641,  0.2586,  0.0921,  0.1984,\n",
       "           0.2979,  0.1362,  0.1950, -0.2797, -0.1237, -0.0586,  0.3307,  0.0369,\n",
       "           0.1248, -0.0992,  0.0999,  0.0479,  0.0772,  0.0272, -0.0058,  0.0030,\n",
       "           0.0083,  0.2164,  0.0251,  0.1580,  0.1578]),\n",
       "  tensor([ 0.0304, -0.0445,  0.1523,  0.2074,  0.1962,  0.0064,  0.0676, -0.9372,\n",
       "           0.0213, -0.0083, -0.0015,  0.0944]),\n",
       "  tensor([ 0.4901, -0.1512,  0.5800,  0.2738,  0.1232]),\n",
       "  tensor([ 0.2358, -0.7368, -0.1732,  0.3534, -0.0020,  0.0541, -0.1484,  0.1807,\n",
       "           0.0065, -0.0591,  0.1035,  0.0700, -0.3227,  0.0333, -0.1054, -0.0153,\n",
       "          -0.0892,  0.1641,  0.1570, -0.1332, -0.1271, -0.1221,  0.1135,  0.0139,\n",
       "          -0.1446,  0.2670,  0.2427,  0.1192,  0.1035, -0.1294]),\n",
       "  tensor([ 0.5432,  0.0362, -0.7795,  0.1773, -0.0498,  0.1770, -0.0712, -0.1098]),\n",
       "  tensor([-0.2253,  0.0882,  0.3686,  0.7096,  0.1367,  0.5257, -0.0843]),\n",
       "  tensor([ 0.2424,  0.1114,  0.2552,  0.2291, -0.3444,  0.0650,  0.0247, -0.2891,\n",
       "           0.0208,  0.3407,  0.1557, -0.1429, -0.1040, -0.1693,  0.1063, -0.1990,\n",
       "          -0.1218, -0.2586, -0.3679, -0.1144,  0.2619, -0.0059]),\n",
       "  tensor([-0.6006, -0.3418, -0.1703, -0.2012, -0.5983, -0.3083]),\n",
       "  tensor([-0.3480, -0.1013, -0.4618, -0.0580, -0.1044, -0.0283,  0.0870,  0.0538,\n",
       "          -0.1374, -0.4625, -0.0750, -0.0309, -0.1766, -0.1919, -0.2949]),\n",
       "  tensor([-0.1789, -0.4250, -0.2589, -0.7860, -0.3203]),\n",
       "  tensor([ 0.3550, -0.8237,  0.5445,  0.4576,  0.1057]),\n",
       "  tensor([-0.1691,  0.5009,  0.4505, -0.5497]),\n",
       "  tensor([-0.3005, -0.5362,  0.0770, -0.1443, -0.2357,  0.0622,  0.0995, -0.0681,\n",
       "          -0.3260, -0.1490, -0.0874,  0.5412, -0.1819, -0.1113, -0.0581, -0.1382,\n",
       "          -0.1520]),\n",
       "  tensor([ 0.4267,  0.6403,  0.5969, -0.4684,  0.1896]),\n",
       "  tensor([-0.5251, -0.0669,  0.0617, -0.0906,  0.0164, -0.0395, -0.0342, -0.9055,\n",
       "           0.0408, -0.1347,  0.4283,  0.0578]),\n",
       "  tensor([-0.6603, -0.6758, -0.5557,  0.1242, -0.1014]),\n",
       "  tensor([ 0.4837, -0.0769,  0.1573, -0.0727, -0.1579, -0.0650,  0.0246,  0.0354,\n",
       "           0.2253, -0.3232,  0.1975,  0.0239,  0.1066, -0.5219,  0.3325,  0.0296]),\n",
       "  tensor([0.7082, 0.1785, 0.1836, 0.4887, 0.2212, 0.3809]),\n",
       "  tensor([-0.8724, -0.4260, -0.0872, -0.2188]),\n",
       "  tensor([ 0.4767,  0.2128,  0.1475,  0.1120,  0.0277, -0.1582,  0.3461, -0.3721,\n",
       "          -0.0031, -0.5836, -0.2003,  0.1520]),\n",
       "  tensor([-0.0300, -1.1265, -0.3577, -0.6513,  0.0466]),\n",
       "  tensor([ 0.7070,  0.0118, -0.0552, -0.4966,  0.0178, -0.0325, -0.1704,  0.0430,\n",
       "          -0.3163, -0.1454, -0.1059,  0.0665,  0.0340, -0.0507,  0.1533, -0.1386,\n",
       "           0.1669, -0.0622,  0.0559]),\n",
       "  tensor([-0.6969,  0.0597, -0.6574,  0.0884, -0.2660]),\n",
       "  tensor([-0.2454, -0.8083, -0.3902,  0.2514, -0.1200, -0.0083, -0.3129]),\n",
       "  tensor([ 0.2992, -0.5920, -0.1519, -0.2054,  0.1236, -0.4194,  0.1390, -0.0234]),\n",
       "  tensor([-0.1804, -0.1682, -0.2743, -0.1604, -0.4523, -0.2402,  0.0304, -0.1363,\n",
       "          -0.3342, -0.3293, -0.0255, -0.0657, -0.0168, -0.0597, -0.1126,  0.0468,\n",
       "          -0.2286, -0.0699, -0.1829, -0.3115, -0.4315, -0.1572]),\n",
       "  tensor([-0.2516, -0.2694,  0.1247,  0.0085, -0.3495, -0.4386, -0.7307]),\n",
       "  tensor([ 0.6895,  0.6031,  0.1554, -0.1697,  0.1729,  0.2794]),\n",
       "  tensor([ 0.4829,  0.7277, -0.2002,  0.2073,  0.3919,  0.0248]),\n",
       "  tensor([-0.2489, -0.0705, -0.5361,  0.0977, -0.1515, -0.1466,  0.1373, -0.0089,\n",
       "          -0.2277, -0.0008, -0.1802, -0.0911, -0.1412, -0.0351,  0.2729, -0.0630,\n",
       "           0.2633, -0.2723, -0.4191, -0.0729, -0.3657, -0.1587]),\n",
       "  tensor([-0.4519,  1.1869,  0.1156, -0.1604]),\n",
       "  tensor([ 0.4225, -0.6400,  0.0830,  0.2206,  0.1010,  0.2604,  0.0751,  0.3826,\n",
       "           0.2746,  0.0353,  0.0221, -0.2692, -0.0426,  0.1025]),\n",
       "  tensor([-0.3385,  0.4141, -0.2664, -0.6898, -0.5061]),\n",
       "  tensor([ 0.5114, -0.2026, -0.3722, -0.4933,  0.0313,  0.3939]),\n",
       "  tensor([-0.0958, -0.1834, -0.4299,  0.2041, -0.2493, -0.7408,  0.4522,  0.0474]),\n",
       "  tensor([ 0.2221, -0.3377,  0.9404,  0.2083,  0.2733]),\n",
       "  tensor([ 0.2246, -0.0480,  0.1249,  0.0792, -0.0933,  0.0882,  0.1746,  0.1517,\n",
       "           0.5899,  0.0806,  0.1460,  0.5560,  0.2404,  0.2246,  0.0582,  0.1239,\n",
       "           0.1994,  0.0755,  0.1118,  0.2423,  0.1537,  0.0992, -0.0572,  0.1253]),\n",
       "  tensor([ 0.0290, -0.3340, -0.1873, -0.0868, -0.8393,  0.2600,  0.2703]),\n",
       "  tensor([-0.2974,  0.2216,  0.0230, -0.7053,  0.1752, -0.1402,  0.0290, -0.0939,\n",
       "           0.4618,  0.0310, -0.3867, -0.0401,  0.1921, -0.0053,  0.0298]),\n",
       "  tensor([ 0.6586, -0.2552,  0.2303,  0.0979]),\n",
       "  tensor([ 0.0999, -0.0143,  0.0210,  0.0086, -0.0825, -0.0209,  0.0815, -0.0437,\n",
       "           0.0248,  0.0346, -0.1488, -0.0171,  0.0563,  0.0656,  0.0937, -0.6793,\n",
       "          -0.1126,  0.0993,  0.0359,  0.2309, -0.0312, -0.0114,  0.0584, -0.0361,\n",
       "           0.4171, -0.0110, -0.0756,  0.0071, -0.1908,  0.0840, -0.0759, -0.0382,\n",
       "           0.2810,  0.0264,  0.0705, -0.0826,  0.2048,  0.0631,  0.1063,  0.0586,\n",
       "           0.0701, -0.0312]),\n",
       "  tensor([ 0.6133,  0.4488,  0.8039,  0.1006, -0.0028,  0.0416, -0.0534]),\n",
       "  tensor([0.5530, 0.6519, 0.0308, 0.2616, 0.2151, 0.4997, 0.1338, 0.3479]),\n",
       "  tensor([ 0.1761, -1.0115,  0.3700, -0.0918,  0.3371]),\n",
       "  tensor([ 0.5906, -0.1057,  0.2826,  0.4882]),\n",
       "  tensor([0.4294, 1.3704, 0.0913, 0.0325])],\n",
       " 'raw_input_list': [['<s>', 'its', 'oscar', 'nomination', '', '</s>'],\n",
       "  ['<s>', 'shenanigans', 'and', 'slapstick', '', '</s>'],\n",
       "  ['<s>', 'an', 'unsettling', 'sight', ',', '', '</s>'],\n",
       "  ['<s>', 'the', 'climactic', 'hourlong', 'cricket', 'match', '', '</s>'],\n",
       "  ['<s>',\n",
       "   'alternating',\n",
       "   'between',\n",
       "   'facetious',\n",
       "   'comic',\n",
       "   'parody',\n",
       "   'and',\n",
       "   'pulp',\n",
       "   'melodrama',\n",
       "   ',',\n",
       "   'this',\n",
       "   'smart-aleck',\n",
       "   'movie',\n",
       "   '...',\n",
       "   'tosses',\n",
       "   'around',\n",
       "   'some',\n",
       "   'intriguing',\n",
       "   'questions',\n",
       "   'about',\n",
       "   'the',\n",
       "   'difference',\n",
       "   'between',\n",
       "   'human',\n",
       "   'and',\n",
       "   'android',\n",
       "   'life',\n",
       "   '',\n",
       "   '</s>'],\n",
       "  ['<s>',\n",
       "   'to',\n",
       "   'be',\n",
       "   'a',\n",
       "   'part',\n",
       "   'of',\n",
       "   'that',\n",
       "   'elusive',\n",
       "   'adult',\n",
       "   'world',\n",
       "   '',\n",
       "   '</s>'],\n",
       "  ['<s>', 'emotional', 'power', '', '</s>'],\n",
       "  ['<s>',\n",
       "   'reminds',\n",
       "   'you',\n",
       "   'of',\n",
       "   'why',\n",
       "   'animation',\n",
       "   'is',\n",
       "   'such',\n",
       "   'a',\n",
       "   'perfect',\n",
       "   'medium',\n",
       "   'for',\n",
       "   'children',\n",
       "   ',',\n",
       "   'because',\n",
       "   'of',\n",
       "   'the',\n",
       "   'way',\n",
       "   'it',\n",
       "   'allows',\n",
       "   'the',\n",
       "   'mind',\n",
       "   'to',\n",
       "   'enter',\n",
       "   'and',\n",
       "   'accept',\n",
       "   'another',\n",
       "   'world',\n",
       "   '',\n",
       "   '</s>'],\n",
       "  ['<s>',\n",
       "   'unparalleled',\n",
       "   'proportions',\n",
       "   ',',\n",
       "   'writer-director',\n",
       "   'parker',\n",
       "   '',\n",
       "   '</s>'],\n",
       "  ['<s>', 'this', 'surprisingly', 'decent', 'flick', '', '</s>'],\n",
       "  ['<s>',\n",
       "   'about',\n",
       "   'the',\n",
       "   'best',\n",
       "   'thing',\n",
       "   'you',\n",
       "   'could',\n",
       "   'say',\n",
       "   'about',\n",
       "   'narc',\n",
       "   'is',\n",
       "   'that',\n",
       "   'it',\n",
       "   \"'s\",\n",
       "   'a',\n",
       "   'rock-solid',\n",
       "   'little',\n",
       "   'genre',\n",
       "   'picture',\n",
       "   '.',\n",
       "   '',\n",
       "   '</s>'],\n",
       "  ['<s>', 'the', 'very', 'best', '', '</s>'],\n",
       "  ['<s>',\n",
       "   'been',\n",
       "   'modeled',\n",
       "   'on',\n",
       "   'the',\n",
       "   'worst',\n",
       "   'revenge-of-the-nerds',\n",
       "   'clichÃ©s',\n",
       "   'the',\n",
       "   'filmmakers',\n",
       "   'could',\n",
       "   'dredge',\n",
       "   'up',\n",
       "   '',\n",
       "   '</s>'],\n",
       "  ['<s>', 'tell', 'you', '', '</s>'],\n",
       "  ['<s>', 'utterly', 'absorbing', '', '</s>'],\n",
       "  ['<s>', 'restate', '', '</s>'],\n",
       "  ['<s>',\n",
       "   'bears',\n",
       "   'about',\n",
       "   'as',\n",
       "   'much',\n",
       "   'resemblance',\n",
       "   'to',\n",
       "   'the',\n",
       "   'experiences',\n",
       "   'of',\n",
       "   'most',\n",
       "   'battered',\n",
       "   'women',\n",
       "   'as',\n",
       "   'spider-man',\n",
       "   '',\n",
       "   '</s>'],\n",
       "  ['<s>', 'expressively', 'performed', '', '</s>'],\n",
       "  ['<s>',\n",
       "   'the',\n",
       "   'acting',\n",
       "   'is',\n",
       "   'amateurish',\n",
       "   ',',\n",
       "   'the',\n",
       "   'cinematography',\n",
       "   'is',\n",
       "   'atrocious',\n",
       "   '',\n",
       "   '</s>'],\n",
       "  ['<s>', 'solidly', 'constructed', '', '</s>'],\n",
       "  ['<s>',\n",
       "   'are',\n",
       "   'undermined',\n",
       "   'by',\n",
       "   'the',\n",
       "   'movie',\n",
       "   \"'s\",\n",
       "   'presentation',\n",
       "   ',',\n",
       "   'which',\n",
       "   'is',\n",
       "   'way',\n",
       "   'too',\n",
       "   'stagy',\n",
       "   '',\n",
       "   '</s>'],\n",
       "  ['<s>', 'a', 'great', 'film', '', '</s>'],\n",
       "  ['<s>', 'charm', '', '</s>'],\n",
       "  ['<s>',\n",
       "   'this',\n",
       "   'new',\n",
       "   'jangle',\n",
       "   'of',\n",
       "   'noise',\n",
       "   ',',\n",
       "   'mayhem',\n",
       "   'and',\n",
       "   'stupidity',\n",
       "   '',\n",
       "   '</s>'],\n",
       "  ['<s>', 'sustains', 'it', '', '</s>'],\n",
       "  ['<s>',\n",
       "   'is',\n",
       "   'so',\n",
       "   'deadly',\n",
       "   'dull',\n",
       "   'that',\n",
       "   'watching',\n",
       "   'the',\n",
       "   'proverbial',\n",
       "   'paint',\n",
       "   'dry',\n",
       "   'would',\n",
       "   'be',\n",
       "   'a',\n",
       "   'welcome',\n",
       "   'improvement',\n",
       "   '.',\n",
       "   '',\n",
       "   '</s>'],\n",
       "  ['<s>', 'to', 'accomplish', '', '</s>'],\n",
       "  ['<s>', 'does', \"n't\", 'work', '.', '', '</s>'],\n",
       "  ['<s>', 'given', 'it', 'a', 'one-star', 'rating', '', '</s>'],\n",
       "  ['<s>',\n",
       "   'ice',\n",
       "   'cube',\n",
       "   'is',\n",
       "   \"n't\",\n",
       "   'quite',\n",
       "   'out',\n",
       "   'of',\n",
       "   'ripe',\n",
       "   'screwball',\n",
       "   'ideas',\n",
       "   ',',\n",
       "   'but',\n",
       "   'friday',\n",
       "   'after',\n",
       "   'next',\n",
       "   'spreads',\n",
       "   'them',\n",
       "   'pretty',\n",
       "   'thin',\n",
       "   '',\n",
       "   '</s>'],\n",
       "  ['<s>', 'been', 'trying', 'to', 'forget', '', '</s>'],\n",
       "  ['<s>', 'big', 'stars', 'and', '', '</s>'],\n",
       "  ['<s>', 'of', 'cheesy', 'dialogue', '', '</s>'],\n",
       "  ['<s>',\n",
       "   'the',\n",
       "   'chÃ¢teau',\n",
       "   'is',\n",
       "   'never',\n",
       "   'quite',\n",
       "   'able',\n",
       "   'to',\n",
       "   'overcome',\n",
       "   'the',\n",
       "   'cultural',\n",
       "   'moat',\n",
       "   'surrounding',\n",
       "   'its',\n",
       "   'ludicrous',\n",
       "   'and',\n",
       "   'contrived',\n",
       "   'plot',\n",
       "   '.',\n",
       "   \"'\",\n",
       "   '',\n",
       "   '</s>'],\n",
       "  ['<s>', 'principled', '', '</s>'],\n",
       "  ['<s>',\n",
       "   'end',\n",
       "   'it',\n",
       "   'all',\n",
       "   'by',\n",
       "   'stuffing',\n",
       "   'himself',\n",
       "   'into',\n",
       "   'an',\n",
       "   'electric',\n",
       "   'pencil',\n",
       "   'sharpener',\n",
       "   '',\n",
       "   '</s>'],\n",
       "  ['<s>', 'funniest', 'idea', '', '</s>'],\n",
       "  ['<s>', 'silly', 'and', 'tedious', '', '</s>'],\n",
       "  ['<s>', 'two', 'surefire', ',', 'beloved', 'genres', '', '</s>'],\n",
       "  ['<s>', 'most', 'charmless', '', '</s>'],\n",
       "  ['<s>',\n",
       "   'offers',\n",
       "   'us',\n",
       "   'the',\n",
       "   'sense',\n",
       "   'that',\n",
       "   'on',\n",
       "   'some',\n",
       "   'elemental',\n",
       "   'level',\n",
       "   ',',\n",
       "   'lilia',\n",
       "   'deeply',\n",
       "   'wants',\n",
       "   'to',\n",
       "   'break',\n",
       "   'free',\n",
       "   'of',\n",
       "   'her',\n",
       "   'old',\n",
       "   'life',\n",
       "   '.',\n",
       "   '',\n",
       "   '</s>'],\n",
       "  ['<s>', 'might', 'be', 'best', 'forgotten', '', '</s>'],\n",
       "  ['<s>',\n",
       "   'a',\n",
       "   'substantial',\n",
       "   'arc',\n",
       "   'of',\n",
       "   'change',\n",
       "   'that',\n",
       "   'does',\n",
       "   \"n't\",\n",
       "   'produce',\n",
       "   'any',\n",
       "   'real',\n",
       "   'transformation',\n",
       "   '',\n",
       "   '</s>'],\n",
       "  ['<s>', 'unadorned', '', '</s>'],\n",
       "  ['<s>',\n",
       "   'this',\n",
       "   'is',\n",
       "   'the',\n",
       "   'kind',\n",
       "   'of',\n",
       "   'movie',\n",
       "   'that',\n",
       "   'you',\n",
       "   'only',\n",
       "   'need',\n",
       "   'to',\n",
       "   'watch',\n",
       "   'for',\n",
       "   'about',\n",
       "   'thirty',\n",
       "   'seconds',\n",
       "   'before',\n",
       "   'you',\n",
       "   'say',\n",
       "   'to',\n",
       "   'yourself',\n",
       "   ',',\n",
       "   '`',\n",
       "   'ah',\n",
       "   ',',\n",
       "   'yes',\n",
       "   ',',\n",
       "   'here',\n",
       "   'we',\n",
       "   'have',\n",
       "   'a',\n",
       "   'bad',\n",
       "   ',',\n",
       "   'bad',\n",
       "   ',',\n",
       "   'bad',\n",
       "   'movie',\n",
       "   '.',\n",
       "   \"'\",\n",
       "   '',\n",
       "   '</s>'],\n",
       "  ['<s>', 'feel', 'sanitised', 'and', 'stagey', '', '</s>'],\n",
       "  ['<s>',\n",
       "   'replete',\n",
       "   'with',\n",
       "   'stereotypical',\n",
       "   'familial',\n",
       "   'quandaries',\n",
       "   '',\n",
       "   '</s>'],\n",
       "  ['<s>', 'quirky', 'comedy', '', '</s>'],\n",
       "  ['<s>', 'unrewarding', '', '</s>'],\n",
       "  ['<s>', 'old-hat', '', '</s>']]}"
      ]
     },
     "execution_count": 9,
     "metadata": {},
     "output_type": "execute_result"
    }
   ],
   "source": [
    "save_info(idxs, sst2_data_raw, targets, model_out_list, raw_attr_list, conti_attr_list, raw_input_list, fname='guided_backprop_out.pkl')"
   ]
  }
 ],
 "metadata": {
  "kernelspec": {
   "display_name": "Python 3 (ipykernel)",
   "language": "python",
   "name": "python3"
  },
  "language_info": {
   "codemirror_mode": {
    "name": "ipython",
    "version": 3
   },
   "file_extension": ".py",
   "mimetype": "text/x-python",
   "name": "python",
   "nbconvert_exporter": "python",
   "pygments_lexer": "ipython3",
   "version": "3.9.7"
  }
 },
 "nbformat": 4,
 "nbformat_minor": 5
}
