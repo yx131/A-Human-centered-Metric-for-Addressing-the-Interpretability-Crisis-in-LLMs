{
 "cells": [
  {
   "cell_type": "code",
   "execution_count": 1,
   "id": "806fb4a1",
   "metadata": {},
   "outputs": [],
   "source": [
    "import sys\n",
    "import torch\n",
    "sys.path.insert(0, '../../Models')\n",
    "sys.path.insert(0, '../../Utils')\n",
    "from _utils import  sample_random_glue_stsb, collect_info_for_metric, save_info, \\\n",
    "                    get_continuation_mapping, get_continuous_attributions, get_continuous_raw_inputs,\\\n",
    "                    attr_normalizing_func\n",
    "from preload_models import get_stsb_tokenizer_n_model"
   ]
  },
  {
   "cell_type": "code",
   "execution_count": 2,
   "id": "6dc5d483",
   "metadata": {},
   "outputs": [
    {
     "name": "stderr",
     "output_type": "stream",
     "text": [
      "Reusing dataset glue (/home/user/.cache/huggingface/datasets/glue/stsb/1.0.0/dacbe3125aa31d7f70367a07a8a9e72a5a0bfeb5fc42e75c9db75b96da6053ad)\n"
     ]
    },
    {
     "data": {
      "application/vnd.jupyter.widget-view+json": {
       "model_id": "131a95f06c0a41b4b4b6ae3a62d4ccae",
       "version_major": 2,
       "version_minor": 0
      },
      "text/plain": [
       "  0%|          | 0/3 [00:00<?, ?it/s]"
      ]
     },
     "metadata": {},
     "output_type": "display_data"
    },
    {
     "name": "stdout",
     "output_type": "stream",
     "text": [
      "[ 436  138  931 1462 1491  577  873  899  268  603 1341  648  941  901\n",
      "  335 1306  234  132 1257 1433 1351 1484  977  146 1275  225  396  757\n",
      "  949 1151  605 1041  350  788  626   88  599 1080  882  927 1209  647\n",
      "  486  214  317  895  897   50 1054 1454]\n"
     ]
    }
   ],
   "source": [
    "stsb_data_raw, targets, idxs = sample_random_glue_stsb()"
   ]
  },
  {
   "cell_type": "code",
   "execution_count": 3,
   "id": "7b81fa1b",
   "metadata": {},
   "outputs": [],
   "source": [
    "tokenizer, model = get_stsb_tokenizer_n_model()"
   ]
  },
  {
   "cell_type": "code",
   "execution_count": 4,
   "id": "1f2232ec",
   "metadata": {},
   "outputs": [],
   "source": [
    "#define some containers to save some info\n",
    "model_out_list, raw_attr_list, conti_attr_list, raw_input_list = [], [], [], []"
   ]
  },
  {
   "cell_type": "code",
   "execution_count": 5,
   "id": "ad13b757",
   "metadata": {},
   "outputs": [],
   "source": [
    "from captum.attr import KernelShap\n",
    "from captum.attr import visualization "
   ]
  },
  {
   "cell_type": "code",
   "execution_count": 6,
   "id": "6a26c83d",
   "metadata": {},
   "outputs": [],
   "source": [
    "ks = KernelShap(model)"
   ]
  },
  {
   "cell_type": "code",
   "execution_count": 7,
   "id": "85598a85",
   "metadata": {},
   "outputs": [],
   "source": [
    "def generate_record(raw_datum, target): #raw_datum expected to be a tuple/list of 2 sentences\n",
    "    #tokenizer operations\n",
    "    tokenized = tokenizer(raw_datum, truncation=True, return_offsets_mapping=True)\n",
    "    offset_mappings = tokenized['offset_mapping']\n",
    "    #concatenate the two offset_mappings together because they are fed in together\n",
    "    conti_map = get_continuation_mapping(offset_mappings[0]) + get_continuation_mapping(offset_mappings[1])\n",
    "    #change the first input_id of the second sentence to be the last input_id of the 1st sentence (i.e. an [END] token))\n",
    "    tokenized_input_ids = tokenized['input_ids'][0] + \\\n",
    "                        [tokenized['input_ids'][1][i] if i != 0 else tokenized['input_ids'][0][-1] \\\n",
    "                         for i in range(len(tokenized['input_ids'][1]))]\n",
    "    input_ids = torch.tensor(tokenized_input_ids).unsqueeze(0)\n",
    "    detokenized = [t.replace('Ġ', '') for t in tokenizer.convert_ids_to_tokens(input_ids[0])]\n",
    "    \n",
    "    #feeding input forward \n",
    "    input_emb = model.get_embeddings(input_ids)\n",
    "    pred_prob = model(input_emb).item()\n",
    "    print(f'pred_prob {pred_prob*5}')\n",
    "\n",
    "     #categorizing results\n",
    "    pred_class = 'Similar' if pred_prob > 0.5 else 'Not Similar' \n",
    "    true_class = 'Similar' if target > 2.5 else 'Not Similar' \n",
    "    \n",
    "    #attribution algorithm working\n",
    "    attribution = ks.attribute(input_emb, n_samples=2000, perturbations_per_eval=200, show_progress=True)\n",
    "    word_attributions = attribution.squeeze(0).sum(dim=1)\n",
    "#     word_attributions = attr_normalizing_func(word_attributions)\n",
    "    word_attributions /= torch.norm(word_attributions)\n",
    "    attr_score = torch.sum(word_attributions)\n",
    "    attr_class = 'Similar' if attr_score > 0.5 else 'Not Similar'\n",
    "    convergence_score = None\n",
    "    \n",
    "    \n",
    "#     #re-organizing tensors and arrays because words get split down\n",
    "    conti_attr = get_continuous_attributions(conti_map, word_attributions)\n",
    "    raw_input = get_continuous_raw_inputs(conti_map, detokenized)\n",
    "\n",
    "#     print(f'word attributions {word_attributions}')\n",
    "#     print(f'pred_prob {pred_prob}')\n",
    "#     print(f'pred_class {pred_class}')\n",
    "#     print(f'true_class {true_class}')\n",
    "#     print(f'attribution {attribution}')\n",
    "#     print(f'attr_class {attr_class}')\n",
    "#     print(f'attr_score {attr_score}')\n",
    "#     print(f'raw_input {raw_input}')\n",
    "\n",
    "        \n",
    "# #     collect info for metrics later\n",
    "    collect_info_for_metric(model_out_list, pred_prob, raw_attr_list, attribution, conti_attr_list, conti_attr, raw_input_list, raw_input)\n",
    "        \n",
    "    \n",
    "    visual_record = visualization.VisualizationDataRecord(word_attributions=conti_attr,\n",
    "                                                         pred_prob=pred_prob,\n",
    "                                                         pred_class=pred_class,\n",
    "                                                         true_class=true_class,\n",
    "                                                         attr_class=attr_class,\n",
    "                                                         attr_score=attr_score,\n",
    "                                                         raw_input=raw_input,\n",
    "                                                         convergence_score=convergence_score)\n",
    "        \n",
    "        \n",
    "    return visual_record\n",
    "      \n",
    "    "
   ]
  },
  {
   "cell_type": "code",
   "execution_count": 8,
   "id": "b0321c07",
   "metadata": {
    "scrolled": false
   },
   "outputs": [
    {
     "name": "stderr",
     "output_type": "stream",
     "text": [
      "/home/user/anaconda3/envs/py38/lib/python3.9/site-packages/captum/attr/_core/lime.py:1088: UserWarning: Attempting to construct interpretable model with > 10000 features.This can be very slow or lead to OOM issues. Please provide a featuremask which groups input features to reduce the number of interpretablefeatures. \n",
      "  warnings.warn(\n"
     ]
    },
    {
     "name": "stdout",
     "output_type": "stream",
     "text": [
      "Raw review: ['Two dogs are sniffing something in the rocks.', 'Two dogs running down a path in the woods.']\n",
      "GT target: 1.600000023841858\n",
      "pred_prob 2.0290477573871613\n"
     ]
    },
    {
     "name": "stderr",
     "output_type": "stream",
     "text": [
      "Kernel Shap attribution: 100%|██████████████████████████████████████████████████████████| 10/10 [00:37<00:00,  3.72s/it]\n"
     ]
    },
    {
     "name": "stdout",
     "output_type": "stream",
     "text": [
      "word attr tensor([-0.1765,  0.0470, -0.2364, -0.4286, -0.0180,  0.1176, -0.1075, -0.1090,\n",
      "         0.4784,  0.0747, -0.1948,  0.2106,  0.1298,  0.0059, -0.1594,  0.1279,\n",
      "         0.4817, -0.1669,  0.0591, -0.0524,  0.1453,  0.0712,  0.1467,  0.0137])\n",
      "conti attr [tensor(-0.1765), tensor(0.0470), tensor(-0.2364), tensor(-0.4286), tensor(0.0997), tensor(-0.1075), tensor(-0.1090), tensor(0.4784), tensor(-0.1201), tensor(0.2106), tensor(0.1298), tensor(0.0059), tensor(-0.1594), tensor(0.1279), tensor(0.4817), tensor(-0.1669), tensor(0.0591), tensor(-0.0524), tensor(0.1453), tensor(0.2178), tensor(0.0137)]\n",
      "detokenized ['<s>', 'Two', 'dogs', 'are', 'sniff', 'ing', 'something', 'in', 'the', 'rocks', '.', '</s>', '</s>', 'Two', 'dogs', 'running', 'down', 'a', 'path', 'in', 'the', 'woods', '.', '</s>']\n",
      "len conti_raw 21\n",
      "conti_raw ['<s>', 'Two', 'dogs', 'are', 'sniffing', 'something', 'in', 'the', 'rocks.', '</s>', '</s>', 'Two', 'dogs', 'running', 'down', 'a', 'path', 'in', 'the', 'woods.', '</s>']\n"
     ]
    },
    {
     "data": {
      "text/html": [
       "<table width: 100%><div style=\"border-top: 1px solid; margin-top: 5px;             padding-top: 5px; display: inline-block\"><b>Legend: </b><span style=\"display: inline-block; width: 10px; height: 10px;                 border: 1px solid; background-color:                 hsl(0, 75%, 60%)\"></span> Negative  <span style=\"display: inline-block; width: 10px; height: 10px;                 border: 1px solid; background-color:                 hsl(0, 75%, 100%)\"></span> Neutral  <span style=\"display: inline-block; width: 10px; height: 10px;                 border: 1px solid; background-color:                 hsl(120, 75%, 50%)\"></span> Positive  </div><tr><th>True Label</th><th>Predicted Label</th><th>Attribution Label</th><th>Attribution Score</th><th>Word Importance</th><tr><td><text style=\"padding-right:2em\"><b>Not Similar</b></text></td><td><text style=\"padding-right:2em\"><b>Not Similar (0.41)</b></text></td><td><text style=\"padding-right:2em\"><b>Not Similar</b></text></td><td><text style=\"padding-right:2em\"><b>0.46</b></text></td><td><mark style=\"background-color: hsl(0, 75%, 93%); opacity:1.0;                     line-height:1.75\"><font color=\"black\"> #s                    </font></mark><mark style=\"background-color: hsl(120, 75%, 98%); opacity:1.0;                     line-height:1.75\"><font color=\"black\"> Two                    </font></mark><mark style=\"background-color: hsl(0, 75%, 91%); opacity:1.0;                     line-height:1.75\"><font color=\"black\"> dogs                    </font></mark><mark style=\"background-color: hsl(0, 75%, 83%); opacity:1.0;                     line-height:1.75\"><font color=\"black\"> are                    </font></mark><mark style=\"background-color: hsl(120, 75%, 96%); opacity:1.0;                     line-height:1.75\"><font color=\"black\"> sniffing                    </font></mark><mark style=\"background-color: hsl(0, 75%, 96%); opacity:1.0;                     line-height:1.75\"><font color=\"black\"> something                    </font></mark><mark style=\"background-color: hsl(0, 75%, 96%); opacity:1.0;                     line-height:1.75\"><font color=\"black\"> in                    </font></mark><mark style=\"background-color: hsl(120, 75%, 77%); opacity:1.0;                     line-height:1.75\"><font color=\"black\"> the                    </font></mark><mark style=\"background-color: hsl(0, 75%, 96%); opacity:1.0;                     line-height:1.75\"><font color=\"black\"> rocks.                    </font></mark><mark style=\"background-color: hsl(120, 75%, 90%); opacity:1.0;                     line-height:1.75\"><font color=\"black\"> #/s                    </font></mark><mark style=\"background-color: hsl(120, 75%, 94%); opacity:1.0;                     line-height:1.75\"><font color=\"black\"> #/s                    </font></mark><mark style=\"background-color: hsl(120, 75%, 100%); opacity:1.0;                     line-height:1.75\"><font color=\"black\"> Two                    </font></mark><mark style=\"background-color: hsl(0, 75%, 94%); opacity:1.0;                     line-height:1.75\"><font color=\"black\"> dogs                    </font></mark><mark style=\"background-color: hsl(120, 75%, 94%); opacity:1.0;                     line-height:1.75\"><font color=\"black\"> running                    </font></mark><mark style=\"background-color: hsl(120, 75%, 76%); opacity:1.0;                     line-height:1.75\"><font color=\"black\"> down                    </font></mark><mark style=\"background-color: hsl(0, 75%, 94%); opacity:1.0;                     line-height:1.75\"><font color=\"black\"> a                    </font></mark><mark style=\"background-color: hsl(120, 75%, 98%); opacity:1.0;                     line-height:1.75\"><font color=\"black\"> path                    </font></mark><mark style=\"background-color: hsl(0, 75%, 98%); opacity:1.0;                     line-height:1.75\"><font color=\"black\"> in                    </font></mark><mark style=\"background-color: hsl(120, 75%, 93%); opacity:1.0;                     line-height:1.75\"><font color=\"black\"> the                    </font></mark><mark style=\"background-color: hsl(120, 75%, 90%); opacity:1.0;                     line-height:1.75\"><font color=\"black\"> woods.                    </font></mark><mark style=\"background-color: hsl(120, 75%, 100%); opacity:1.0;                     line-height:1.75\"><font color=\"black\"> #/s                    </font></mark></td><tr></table>"
      ],
      "text/plain": [
       "<IPython.core.display.HTML object>"
      ]
     },
     "metadata": {},
     "output_type": "display_data"
    },
    {
     "name": "stderr",
     "output_type": "stream",
     "text": [
      "/home/user/anaconda3/envs/py38/lib/python3.9/site-packages/captum/attr/_core/lime.py:1088: UserWarning: Attempting to construct interpretable model with > 10000 features.This can be very slow or lead to OOM issues. Please provide a featuremask which groups input features to reduce the number of interpretablefeatures. \n",
      "  warnings.warn(\n"
     ]
    },
    {
     "name": "stdout",
     "output_type": "stream",
     "text": [
      "<IPython.core.display.HTML object>\n",
      "Raw review: ['A woman is slicing a potato.', 'A woman is slicing carrot.']\n",
      "GT target: 2.5\n",
      "pred_prob 2.1180687844753265\n"
     ]
    },
    {
     "name": "stderr",
     "output_type": "stream",
     "text": [
      "Kernel Shap attribution: 100%|██████████████████████████████████████████████████████████| 10/10 [00:25<00:00,  2.55s/it]\n"
     ]
    },
    {
     "name": "stdout",
     "output_type": "stream",
     "text": [
      "word attr tensor([ 0.1530,  0.1624, -0.0148, -0.3530,  0.1403,  0.0859,  0.1151, -0.0245,\n",
      "        -0.0734, -0.1577,  0.6133,  0.0306,  0.1376,  0.1186, -0.1104,  0.1626,\n",
      "        -0.5527])\n",
      "conti attr [tensor(0.1530), tensor(0.1624), tensor(-0.0148), tensor(-0.3530), tensor(0.1403), tensor(0.0859), tensor(0.0906), tensor(-0.0734), tensor(-0.1577), tensor(0.6133), tensor(0.0306), tensor(0.1376), tensor(0.1186), tensor(0.0522), tensor(-0.5527)]\n",
      "detokenized ['<s>', 'A', 'woman', 'is', 'slicing', 'a', 'potato', '.', '</s>', '</s>', 'A', 'woman', 'is', 'slicing', 'carrot', '.', '</s>']\n",
      "len conti_raw 15\n",
      "conti_raw ['<s>', 'A', 'woman', 'is', 'slicing', 'a', 'potato.', '</s>', '</s>', 'A', 'woman', 'is', 'slicing', 'carrot.', '</s>']\n"
     ]
    },
    {
     "data": {
      "text/html": [
       "<table width: 100%><div style=\"border-top: 1px solid; margin-top: 5px;             padding-top: 5px; display: inline-block\"><b>Legend: </b><span style=\"display: inline-block; width: 10px; height: 10px;                 border: 1px solid; background-color:                 hsl(0, 75%, 60%)\"></span> Negative  <span style=\"display: inline-block; width: 10px; height: 10px;                 border: 1px solid; background-color:                 hsl(0, 75%, 100%)\"></span> Neutral  <span style=\"display: inline-block; width: 10px; height: 10px;                 border: 1px solid; background-color:                 hsl(120, 75%, 50%)\"></span> Positive  </div><tr><th>True Label</th><th>Predicted Label</th><th>Attribution Label</th><th>Attribution Score</th><th>Word Importance</th><tr><td><text style=\"padding-right:2em\"><b>Not Similar</b></text></td><td><text style=\"padding-right:2em\"><b>Not Similar (0.42)</b></text></td><td><text style=\"padding-right:2em\"><b>Not Similar</b></text></td><td><text style=\"padding-right:2em\"><b>0.43</b></text></td><td><mark style=\"background-color: hsl(120, 75%, 93%); opacity:1.0;                     line-height:1.75\"><font color=\"black\"> #s                    </font></mark><mark style=\"background-color: hsl(120, 75%, 92%); opacity:1.0;                     line-height:1.75\"><font color=\"black\"> A                    </font></mark><mark style=\"background-color: hsl(0, 75%, 100%); opacity:1.0;                     line-height:1.75\"><font color=\"black\"> woman                    </font></mark><mark style=\"background-color: hsl(0, 75%, 86%); opacity:1.0;                     line-height:1.75\"><font color=\"black\"> is                    </font></mark><mark style=\"background-color: hsl(120, 75%, 93%); opacity:1.0;                     line-height:1.75\"><font color=\"black\"> slicing                    </font></mark><mark style=\"background-color: hsl(120, 75%, 96%); opacity:1.0;                     line-height:1.75\"><font color=\"black\"> a                    </font></mark><mark style=\"background-color: hsl(120, 75%, 96%); opacity:1.0;                     line-height:1.75\"><font color=\"black\"> potato.                    </font></mark><mark style=\"background-color: hsl(0, 75%, 98%); opacity:1.0;                     line-height:1.75\"><font color=\"black\"> #/s                    </font></mark><mark style=\"background-color: hsl(0, 75%, 94%); opacity:1.0;                     line-height:1.75\"><font color=\"black\"> #/s                    </font></mark><mark style=\"background-color: hsl(120, 75%, 70%); opacity:1.0;                     line-height:1.75\"><font color=\"black\"> A                    </font></mark><mark style=\"background-color: hsl(120, 75%, 99%); opacity:1.0;                     line-height:1.75\"><font color=\"black\"> woman                    </font></mark><mark style=\"background-color: hsl(120, 75%, 94%); opacity:1.0;                     line-height:1.75\"><font color=\"black\"> is                    </font></mark><mark style=\"background-color: hsl(120, 75%, 95%); opacity:1.0;                     line-height:1.75\"><font color=\"black\"> slicing                    </font></mark><mark style=\"background-color: hsl(120, 75%, 98%); opacity:1.0;                     line-height:1.75\"><font color=\"black\"> carrot.                    </font></mark><mark style=\"background-color: hsl(0, 75%, 78%); opacity:1.0;                     line-height:1.75\"><font color=\"black\"> #/s                    </font></mark></td><tr></table>"
      ],
      "text/plain": [
       "<IPython.core.display.HTML object>"
      ]
     },
     "metadata": {},
     "output_type": "display_data"
    },
    {
     "name": "stderr",
     "output_type": "stream",
     "text": [
      "/home/user/anaconda3/envs/py38/lib/python3.9/site-packages/captum/attr/_core/lime.py:1088: UserWarning: Attempting to construct interpretable model with > 10000 features.This can be very slow or lead to OOM issues. Please provide a featuremask which groups input features to reduce the number of interpretablefeatures. \n",
      "  warnings.warn(\n"
     ]
    },
    {
     "name": "stdout",
     "output_type": "stream",
     "text": [
      "<IPython.core.display.HTML object>\n",
      "Raw review: ['It was before the season began because Amy saw the woman before the Silence took her.', \"The exact timeline hasn't been listed yet, but there are a few assumptions we can make.\"]\n",
      "GT target: 0.20000000298023224\n",
      "pred_prob 0.16538595780730247\n"
     ]
    },
    {
     "name": "stderr",
     "output_type": "stream",
     "text": [
      "Kernel Shap attribution: 100%|██████████████████████████████████████████████████████████| 10/10 [01:00<00:00,  6.10s/it]\n"
     ]
    },
    {
     "name": "stdout",
     "output_type": "stream",
     "text": [
      "word attr tensor([ 0.2854,  0.0705, -0.0839,  0.0988, -0.1507, -0.0565,  0.1482, -0.0893,\n",
      "        -0.1408,  0.1634,  0.1382,  0.0219,  0.0424, -0.0630,  0.1835,  0.1004,\n",
      "        -0.3094, -0.1456,  0.2376,  0.0809, -0.0264,  0.0797,  0.2760,  0.0398,\n",
      "        -0.1349,  0.1267, -0.0832, -0.0858, -0.0748, -0.3532, -0.0803, -0.1585,\n",
      "        -0.1955, -0.2267, -0.1916,  0.2214, -0.0352,  0.1522, -0.0738, -0.2121])\n",
      "conti attr [tensor(0.2854), tensor(0.0705), tensor(-0.0839), tensor(0.0988), tensor(-0.1507), tensor(-0.0565), tensor(0.1482), tensor(-0.0893), tensor(-0.1408), tensor(0.1634), tensor(0.1382), tensor(0.0219), tensor(0.0424), tensor(-0.0630), tensor(0.1835), tensor(0.1004), tensor(-0.4550), tensor(0.2376), tensor(0.0809), tensor(-0.0264), tensor(0.0797), tensor(0.2760), tensor(-0.0951), tensor(0.1267), tensor(-0.0832), tensor(-0.1606), tensor(-0.3532), tensor(-0.0803), tensor(-0.1585), tensor(-0.1955), tensor(-0.2267), tensor(-0.1916), tensor(0.2214), tensor(-0.0352), tensor(0.0785), tensor(-0.2121)]\n",
      "detokenized ['<s>', 'It', 'was', 'before', 'the', 'season', 'began', 'because', 'Amy', 'saw', 'the', 'woman', 'before', 'the', 'Silence', 'took', 'her', '.', '</s>', '</s>', 'The', 'exact', 'timeline', 'hasn', \"'t\", 'been', 'listed', 'yet', ',', 'but', 'there', 'are', 'a', 'few', 'assumptions', 'we', 'can', 'make', '.', '</s>']\n",
      "len conti_raw 36\n",
      "conti_raw ['<s>', 'It', 'was', 'before', 'the', 'season', 'began', 'because', 'Amy', 'saw', 'the', 'woman', 'before', 'the', 'Silence', 'took', 'her.', '</s>', '</s>', 'The', 'exact', 'timeline', \"hasn't\", 'been', 'listed', 'yet,', 'but', 'there', 'are', 'a', 'few', 'assumptions', 'we', 'can', 'make.', '</s>']\n"
     ]
    },
    {
     "data": {
      "text/html": [
       "<table width: 100%><div style=\"border-top: 1px solid; margin-top: 5px;             padding-top: 5px; display: inline-block\"><b>Legend: </b><span style=\"display: inline-block; width: 10px; height: 10px;                 border: 1px solid; background-color:                 hsl(0, 75%, 60%)\"></span> Negative  <span style=\"display: inline-block; width: 10px; height: 10px;                 border: 1px solid; background-color:                 hsl(0, 75%, 100%)\"></span> Neutral  <span style=\"display: inline-block; width: 10px; height: 10px;                 border: 1px solid; background-color:                 hsl(120, 75%, 50%)\"></span> Positive  </div><tr><th>True Label</th><th>Predicted Label</th><th>Attribution Label</th><th>Attribution Score</th><th>Word Importance</th><tr><td><text style=\"padding-right:2em\"><b>Not Similar</b></text></td><td><text style=\"padding-right:2em\"><b>Not Similar (0.03)</b></text></td><td><text style=\"padding-right:2em\"><b>Not Similar</b></text></td><td><text style=\"padding-right:2em\"><b>-0.50</b></text></td><td><mark style=\"background-color: hsl(120, 75%, 86%); opacity:1.0;                     line-height:1.75\"><font color=\"black\"> #s                    </font></mark><mark style=\"background-color: hsl(120, 75%, 97%); opacity:1.0;                     line-height:1.75\"><font color=\"black\"> It                    </font></mark><mark style=\"background-color: hsl(0, 75%, 97%); opacity:1.0;                     line-height:1.75\"><font color=\"black\"> was                    </font></mark><mark style=\"background-color: hsl(120, 75%, 96%); opacity:1.0;                     line-height:1.75\"><font color=\"black\"> before                    </font></mark><mark style=\"background-color: hsl(0, 75%, 94%); opacity:1.0;                     line-height:1.75\"><font color=\"black\"> the                    </font></mark><mark style=\"background-color: hsl(0, 75%, 98%); opacity:1.0;                     line-height:1.75\"><font color=\"black\"> season                    </font></mark><mark style=\"background-color: hsl(120, 75%, 93%); opacity:1.0;                     line-height:1.75\"><font color=\"black\"> began                    </font></mark><mark style=\"background-color: hsl(0, 75%, 97%); opacity:1.0;                     line-height:1.75\"><font color=\"black\"> because                    </font></mark><mark style=\"background-color: hsl(0, 75%, 95%); opacity:1.0;                     line-height:1.75\"><font color=\"black\"> Amy                    </font></mark><mark style=\"background-color: hsl(120, 75%, 92%); opacity:1.0;                     line-height:1.75\"><font color=\"black\"> saw                    </font></mark><mark style=\"background-color: hsl(120, 75%, 94%); opacity:1.0;                     line-height:1.75\"><font color=\"black\"> the                    </font></mark><mark style=\"background-color: hsl(120, 75%, 99%); opacity:1.0;                     line-height:1.75\"><font color=\"black\"> woman                    </font></mark><mark style=\"background-color: hsl(120, 75%, 98%); opacity:1.0;                     line-height:1.75\"><font color=\"black\"> before                    </font></mark><mark style=\"background-color: hsl(0, 75%, 98%); opacity:1.0;                     line-height:1.75\"><font color=\"black\"> the                    </font></mark><mark style=\"background-color: hsl(120, 75%, 91%); opacity:1.0;                     line-height:1.75\"><font color=\"black\"> Silence                    </font></mark><mark style=\"background-color: hsl(120, 75%, 95%); opacity:1.0;                     line-height:1.75\"><font color=\"black\"> took                    </font></mark><mark style=\"background-color: hsl(0, 75%, 82%); opacity:1.0;                     line-height:1.75\"><font color=\"black\"> her.                    </font></mark><mark style=\"background-color: hsl(120, 75%, 89%); opacity:1.0;                     line-height:1.75\"><font color=\"black\"> #/s                    </font></mark><mark style=\"background-color: hsl(120, 75%, 96%); opacity:1.0;                     line-height:1.75\"><font color=\"black\"> #/s                    </font></mark><mark style=\"background-color: hsl(0, 75%, 99%); opacity:1.0;                     line-height:1.75\"><font color=\"black\"> The                    </font></mark><mark style=\"background-color: hsl(120, 75%, 97%); opacity:1.0;                     line-height:1.75\"><font color=\"black\"> exact                    </font></mark><mark style=\"background-color: hsl(120, 75%, 87%); opacity:1.0;                     line-height:1.75\"><font color=\"black\"> timeline                    </font></mark><mark style=\"background-color: hsl(0, 75%, 97%); opacity:1.0;                     line-height:1.75\"><font color=\"black\"> hasn't                    </font></mark><mark style=\"background-color: hsl(120, 75%, 94%); opacity:1.0;                     line-height:1.75\"><font color=\"black\"> been                    </font></mark><mark style=\"background-color: hsl(0, 75%, 97%); opacity:1.0;                     line-height:1.75\"><font color=\"black\"> listed                    </font></mark><mark style=\"background-color: hsl(0, 75%, 94%); opacity:1.0;                     line-height:1.75\"><font color=\"black\"> yet,                    </font></mark><mark style=\"background-color: hsl(0, 75%, 86%); opacity:1.0;                     line-height:1.75\"><font color=\"black\"> but                    </font></mark><mark style=\"background-color: hsl(0, 75%, 97%); opacity:1.0;                     line-height:1.75\"><font color=\"black\"> there                    </font></mark><mark style=\"background-color: hsl(0, 75%, 94%); opacity:1.0;                     line-height:1.75\"><font color=\"black\"> are                    </font></mark><mark style=\"background-color: hsl(0, 75%, 93%); opacity:1.0;                     line-height:1.75\"><font color=\"black\"> a                    </font></mark><mark style=\"background-color: hsl(0, 75%, 91%); opacity:1.0;                     line-height:1.75\"><font color=\"black\"> few                    </font></mark><mark style=\"background-color: hsl(0, 75%, 93%); opacity:1.0;                     line-height:1.75\"><font color=\"black\"> assumptions                    </font></mark><mark style=\"background-color: hsl(120, 75%, 89%); opacity:1.0;                     line-height:1.75\"><font color=\"black\"> we                    </font></mark><mark style=\"background-color: hsl(0, 75%, 99%); opacity:1.0;                     line-height:1.75\"><font color=\"black\"> can                    </font></mark><mark style=\"background-color: hsl(120, 75%, 97%); opacity:1.0;                     line-height:1.75\"><font color=\"black\"> make.                    </font></mark><mark style=\"background-color: hsl(0, 75%, 92%); opacity:1.0;                     line-height:1.75\"><font color=\"black\"> #/s                    </font></mark></td><tr></table>"
      ],
      "text/plain": [
       "<IPython.core.display.HTML object>"
      ]
     },
     "metadata": {},
     "output_type": "display_data"
    },
    {
     "name": "stderr",
     "output_type": "stream",
     "text": [
      "/home/user/anaconda3/envs/py38/lib/python3.9/site-packages/captum/attr/_core/lime.py:1088: UserWarning: Attempting to construct interpretable model with > 10000 features.This can be very slow or lead to OOM issues. Please provide a featuremask which groups input features to reduce the number of interpretablefeatures. \n",
      "  warnings.warn(\n"
     ]
    },
    {
     "name": "stdout",
     "output_type": "stream",
     "text": [
      "<IPython.core.display.HTML object>\n",
      "Raw review: ['Protests for kidnapped girls banned in Nigerian capital', \"Scores 'killed' in Boko Haram raid in Nigeria\"]\n",
      "GT target: 1.0\n",
      "pred_prob 0.34498412162065506\n"
     ]
    },
    {
     "name": "stderr",
     "output_type": "stream",
     "text": [
      "Kernel Shap attribution: 100%|██████████████████████████████████████████████████████████| 10/10 [00:35<00:00,  3.55s/it]\n"
     ]
    },
    {
     "name": "stdout",
     "output_type": "stream",
     "text": [
      "word attr tensor([-0.8657, -0.0510,  0.1201, -0.0091,  0.1886, -0.0282, -0.0080, -0.0224,\n",
      "         0.1560,  0.1770,  0.2627,  0.0268, -0.0627,  0.0513, -0.1228,  0.0907,\n",
      "        -0.0759, -0.0998,  0.1006,  0.0454,  0.0060,  0.0884, -0.0344,  0.0664])\n",
      "conti attr [tensor(-0.8657), tensor(0.0690), tensor(-0.0091), tensor(0.1886), tensor(-0.0282), tensor(-0.0080), tensor(-0.0224), tensor(0.1560), tensor(0.1770), tensor(0.2627), tensor(0.0268), tensor(-0.0113), tensor(-0.1080), tensor(-0.0998), tensor(0.1006), tensor(0.0454), tensor(0.0060), tensor(0.0884), tensor(-0.0344), tensor(0.0664)]\n",
      "detokenized ['<s>', 'Prot', 'ests', 'for', 'kidnapped', 'girls', 'banned', 'in', 'Nigerian', 'capital', '</s>', '</s>', 'Sc', 'ores', \"'\", 'killed', \"'\", 'in', 'Boko', 'Haram', 'raid', 'in', 'Nigeria', '</s>']\n",
      "len conti_raw 20\n",
      "conti_raw ['<s>', 'Protests', 'for', 'kidnapped', 'girls', 'banned', 'in', 'Nigerian', 'capital', '</s>', '</s>', 'Scores', \"'killed'\", 'in', 'Boko', 'Haram', 'raid', 'in', 'Nigeria', '</s>']\n"
     ]
    },
    {
     "data": {
      "text/html": [
       "<table width: 100%><div style=\"border-top: 1px solid; margin-top: 5px;             padding-top: 5px; display: inline-block\"><b>Legend: </b><span style=\"display: inline-block; width: 10px; height: 10px;                 border: 1px solid; background-color:                 hsl(0, 75%, 60%)\"></span> Negative  <span style=\"display: inline-block; width: 10px; height: 10px;                 border: 1px solid; background-color:                 hsl(0, 75%, 100%)\"></span> Neutral  <span style=\"display: inline-block; width: 10px; height: 10px;                 border: 1px solid; background-color:                 hsl(120, 75%, 50%)\"></span> Positive  </div><tr><th>True Label</th><th>Predicted Label</th><th>Attribution Label</th><th>Attribution Score</th><th>Word Importance</th><tr><td><text style=\"padding-right:2em\"><b>Not Similar</b></text></td><td><text style=\"padding-right:2em\"><b>Not Similar (0.07)</b></text></td><td><text style=\"padding-right:2em\"><b>Not Similar</b></text></td><td><text style=\"padding-right:2em\"><b>-0.00</b></text></td><td><mark style=\"background-color: hsl(0, 75%, 66%); opacity:1.0;                     line-height:1.75\"><font color=\"black\"> #s                    </font></mark><mark style=\"background-color: hsl(120, 75%, 97%); opacity:1.0;                     line-height:1.75\"><font color=\"black\"> Protests                    </font></mark><mark style=\"background-color: hsl(0, 75%, 100%); opacity:1.0;                     line-height:1.75\"><font color=\"black\"> for                    </font></mark><mark style=\"background-color: hsl(120, 75%, 91%); opacity:1.0;                     line-height:1.75\"><font color=\"black\"> kidnapped                    </font></mark><mark style=\"background-color: hsl(0, 75%, 99%); opacity:1.0;                     line-height:1.75\"><font color=\"black\"> girls                    </font></mark><mark style=\"background-color: hsl(0, 75%, 100%); opacity:1.0;                     line-height:1.75\"><font color=\"black\"> banned                    </font></mark><mark style=\"background-color: hsl(0, 75%, 100%); opacity:1.0;                     line-height:1.75\"><font color=\"black\"> in                    </font></mark><mark style=\"background-color: hsl(120, 75%, 93%); opacity:1.0;                     line-height:1.75\"><font color=\"black\"> Nigerian                    </font></mark><mark style=\"background-color: hsl(120, 75%, 92%); opacity:1.0;                     line-height:1.75\"><font color=\"black\"> capital                    </font></mark><mark style=\"background-color: hsl(120, 75%, 87%); opacity:1.0;                     line-height:1.75\"><font color=\"black\"> #/s                    </font></mark><mark style=\"background-color: hsl(120, 75%, 99%); opacity:1.0;                     line-height:1.75\"><font color=\"black\"> #/s                    </font></mark><mark style=\"background-color: hsl(0, 75%, 100%); opacity:1.0;                     line-height:1.75\"><font color=\"black\"> Scores                    </font></mark><mark style=\"background-color: hsl(0, 75%, 96%); opacity:1.0;                     line-height:1.75\"><font color=\"black\"> 'killed'                    </font></mark><mark style=\"background-color: hsl(0, 75%, 97%); opacity:1.0;                     line-height:1.75\"><font color=\"black\"> in                    </font></mark><mark style=\"background-color: hsl(120, 75%, 95%); opacity:1.0;                     line-height:1.75\"><font color=\"black\"> Boko                    </font></mark><mark style=\"background-color: hsl(120, 75%, 98%); opacity:1.0;                     line-height:1.75\"><font color=\"black\"> Haram                    </font></mark><mark style=\"background-color: hsl(120, 75%, 100%); opacity:1.0;                     line-height:1.75\"><font color=\"black\"> raid                    </font></mark><mark style=\"background-color: hsl(120, 75%, 96%); opacity:1.0;                     line-height:1.75\"><font color=\"black\"> in                    </font></mark><mark style=\"background-color: hsl(0, 75%, 99%); opacity:1.0;                     line-height:1.75\"><font color=\"black\"> Nigeria                    </font></mark><mark style=\"background-color: hsl(120, 75%, 97%); opacity:1.0;                     line-height:1.75\"><font color=\"black\"> #/s                    </font></mark></td><tr></table>"
      ],
      "text/plain": [
       "<IPython.core.display.HTML object>"
      ]
     },
     "metadata": {},
     "output_type": "display_data"
    },
    {
     "name": "stderr",
     "output_type": "stream",
     "text": [
      "/home/user/anaconda3/envs/py38/lib/python3.9/site-packages/captum/attr/_core/lime.py:1088: UserWarning: Attempting to construct interpretable model with > 10000 features.This can be very slow or lead to OOM issues. Please provide a featuremask which groups input features to reduce the number of interpretablefeatures. \n",
      "  warnings.warn(\n"
     ]
    },
    {
     "name": "stdout",
     "output_type": "stream",
     "text": [
      "<IPython.core.display.HTML object>\n",
      "Raw review: ['Oil falls in Asian trade', 'Oil prices down in Asian trade']\n",
      "GT target: 5.0\n",
      "pred_prob 4.716218113899231\n"
     ]
    },
    {
     "name": "stderr",
     "output_type": "stream",
     "text": [
      "Kernel Shap attribution: 100%|██████████████████████████████████████████████████████████| 10/10 [00:21<00:00,  2.15s/it]\n"
     ]
    },
    {
     "name": "stdout",
     "output_type": "stream",
     "text": [
      "word attr tensor([ 0.3211,  0.1527,  0.0216,  0.1530,  0.4553, -0.0942, -0.0131, -0.3128,\n",
      "        -0.4303,  0.0914,  0.2093,  0.3010,  0.2474,  0.3725, -0.0873])\n",
      "conti attr [tensor(0.3211), tensor(0.1527), tensor(0.0216), tensor(0.1530), tensor(0.4553), tensor(-0.0942), tensor(-0.0131), tensor(-0.3128), tensor(-0.4303), tensor(0.0914), tensor(0.2093), tensor(0.3010), tensor(0.2474), tensor(0.3725), tensor(-0.0873)]\n",
      "detokenized ['<s>', 'Oil', 'falls', 'in', 'Asian', 'trade', '</s>', '</s>', 'Oil', 'prices', 'down', 'in', 'Asian', 'trade', '</s>']\n",
      "len conti_raw 15\n",
      "conti_raw ['<s>', 'Oil', 'falls', 'in', 'Asian', 'trade', '</s>', '</s>', 'Oil', 'prices', 'down', 'in', 'Asian', 'trade', '</s>']\n"
     ]
    },
    {
     "data": {
      "text/html": [
       "<table width: 100%><div style=\"border-top: 1px solid; margin-top: 5px;             padding-top: 5px; display: inline-block\"><b>Legend: </b><span style=\"display: inline-block; width: 10px; height: 10px;                 border: 1px solid; background-color:                 hsl(0, 75%, 60%)\"></span> Negative  <span style=\"display: inline-block; width: 10px; height: 10px;                 border: 1px solid; background-color:                 hsl(0, 75%, 100%)\"></span> Neutral  <span style=\"display: inline-block; width: 10px; height: 10px;                 border: 1px solid; background-color:                 hsl(120, 75%, 50%)\"></span> Positive  </div><tr><th>True Label</th><th>Predicted Label</th><th>Attribution Label</th><th>Attribution Score</th><th>Word Importance</th><tr><td><text style=\"padding-right:2em\"><b>Similar</b></text></td><td><text style=\"padding-right:2em\"><b>Similar (0.94)</b></text></td><td><text style=\"padding-right:2em\"><b>Similar</b></text></td><td><text style=\"padding-right:2em\"><b>1.39</b></text></td><td><mark style=\"background-color: hsl(120, 75%, 84%); opacity:1.0;                     line-height:1.75\"><font color=\"black\"> #s                    </font></mark><mark style=\"background-color: hsl(120, 75%, 93%); opacity:1.0;                     line-height:1.75\"><font color=\"black\"> Oil                    </font></mark><mark style=\"background-color: hsl(120, 75%, 99%); opacity:1.0;                     line-height:1.75\"><font color=\"black\"> falls                    </font></mark><mark style=\"background-color: hsl(120, 75%, 93%); opacity:1.0;                     line-height:1.75\"><font color=\"black\"> in                    </font></mark><mark style=\"background-color: hsl(120, 75%, 78%); opacity:1.0;                     line-height:1.75\"><font color=\"black\"> Asian                    </font></mark><mark style=\"background-color: hsl(0, 75%, 97%); opacity:1.0;                     line-height:1.75\"><font color=\"black\"> trade                    </font></mark><mark style=\"background-color: hsl(0, 75%, 100%); opacity:1.0;                     line-height:1.75\"><font color=\"black\"> #/s                    </font></mark><mark style=\"background-color: hsl(0, 75%, 88%); opacity:1.0;                     line-height:1.75\"><font color=\"black\"> #/s                    </font></mark><mark style=\"background-color: hsl(0, 75%, 83%); opacity:1.0;                     line-height:1.75\"><font color=\"black\"> Oil                    </font></mark><mark style=\"background-color: hsl(120, 75%, 96%); opacity:1.0;                     line-height:1.75\"><font color=\"black\"> prices                    </font></mark><mark style=\"background-color: hsl(120, 75%, 90%); opacity:1.0;                     line-height:1.75\"><font color=\"black\"> down                    </font></mark><mark style=\"background-color: hsl(120, 75%, 85%); opacity:1.0;                     line-height:1.75\"><font color=\"black\"> in                    </font></mark><mark style=\"background-color: hsl(120, 75%, 88%); opacity:1.0;                     line-height:1.75\"><font color=\"black\"> Asian                    </font></mark><mark style=\"background-color: hsl(120, 75%, 82%); opacity:1.0;                     line-height:1.75\"><font color=\"black\"> trade                    </font></mark><mark style=\"background-color: hsl(0, 75%, 97%); opacity:1.0;                     line-height:1.75\"><font color=\"black\"> #/s                    </font></mark></td><tr></table>"
      ],
      "text/plain": [
       "<IPython.core.display.HTML object>"
      ]
     },
     "metadata": {},
     "output_type": "display_data"
    },
    {
     "name": "stderr",
     "output_type": "stream",
     "text": [
      "/home/user/anaconda3/envs/py38/lib/python3.9/site-packages/captum/attr/_core/lime.py:1088: UserWarning: Attempting to construct interpretable model with > 10000 features.This can be very slow or lead to OOM issues. Please provide a featuremask which groups input features to reduce the number of interpretablefeatures. \n",
      "  warnings.warn(\n"
     ]
    },
    {
     "name": "stdout",
     "output_type": "stream",
     "text": [
      "<IPython.core.display.HTML object>\n",
      "Raw review: ['There are people out on the street.', 'People are out on the street.']\n",
      "GT target: 5.0\n",
      "pred_prob 4.79938268661499\n"
     ]
    },
    {
     "name": "stderr",
     "output_type": "stream",
     "text": [
      "Kernel Shap attribution: 100%|██████████████████████████████████████████████████████████| 10/10 [00:27<00:00,  2.76s/it]\n"
     ]
    },
    {
     "name": "stdout",
     "output_type": "stream",
     "text": [
      "word attr tensor([ 0.6793, -0.0478,  0.0380,  0.1205,  0.3571,  0.0925,  0.1023, -0.1667,\n",
      "         0.2909, -0.1985, -0.3636,  0.1671,  0.0147,  0.1154, -0.0573,  0.1638,\n",
      "        -0.0055, -0.0879,  0.1023])\n",
      "conti attr [tensor(0.6793), tensor(-0.0478), tensor(0.0380), tensor(0.1205), tensor(0.3571), tensor(0.0925), tensor(0.1023), tensor(0.1242), tensor(-0.1985), tensor(-0.3636), tensor(0.1671), tensor(0.0147), tensor(0.1154), tensor(-0.0573), tensor(0.1638), tensor(-0.0934), tensor(0.1023)]\n",
      "detokenized ['<s>', 'There', 'are', 'people', 'out', 'on', 'the', 'street', '.', '</s>', '</s>', 'People', 'are', 'out', 'on', 'the', 'street', '.', '</s>']\n",
      "len conti_raw 17\n",
      "conti_raw ['<s>', 'There', 'are', 'people', 'out', 'on', 'the', 'street.', '</s>', '</s>', 'People', 'are', 'out', 'on', 'the', 'street.', '</s>']\n"
     ]
    },
    {
     "data": {
      "text/html": [
       "<table width: 100%><div style=\"border-top: 1px solid; margin-top: 5px;             padding-top: 5px; display: inline-block\"><b>Legend: </b><span style=\"display: inline-block; width: 10px; height: 10px;                 border: 1px solid; background-color:                 hsl(0, 75%, 60%)\"></span> Negative  <span style=\"display: inline-block; width: 10px; height: 10px;                 border: 1px solid; background-color:                 hsl(0, 75%, 100%)\"></span> Neutral  <span style=\"display: inline-block; width: 10px; height: 10px;                 border: 1px solid; background-color:                 hsl(120, 75%, 50%)\"></span> Positive  </div><tr><th>True Label</th><th>Predicted Label</th><th>Attribution Label</th><th>Attribution Score</th><th>Word Importance</th><tr><td><text style=\"padding-right:2em\"><b>Similar</b></text></td><td><text style=\"padding-right:2em\"><b>Similar (0.96)</b></text></td><td><text style=\"padding-right:2em\"><b>Similar</b></text></td><td><text style=\"padding-right:2em\"><b>1.32</b></text></td><td><mark style=\"background-color: hsl(120, 75%, 67%); opacity:1.0;                     line-height:1.75\"><font color=\"black\"> #s                    </font></mark><mark style=\"background-color: hsl(0, 75%, 99%); opacity:1.0;                     line-height:1.75\"><font color=\"black\"> There                    </font></mark><mark style=\"background-color: hsl(120, 75%, 99%); opacity:1.0;                     line-height:1.75\"><font color=\"black\"> are                    </font></mark><mark style=\"background-color: hsl(120, 75%, 94%); opacity:1.0;                     line-height:1.75\"><font color=\"black\"> people                    </font></mark><mark style=\"background-color: hsl(120, 75%, 83%); opacity:1.0;                     line-height:1.75\"><font color=\"black\"> out                    </font></mark><mark style=\"background-color: hsl(120, 75%, 96%); opacity:1.0;                     line-height:1.75\"><font color=\"black\"> on                    </font></mark><mark style=\"background-color: hsl(120, 75%, 95%); opacity:1.0;                     line-height:1.75\"><font color=\"black\"> the                    </font></mark><mark style=\"background-color: hsl(120, 75%, 94%); opacity:1.0;                     line-height:1.75\"><font color=\"black\"> street.                    </font></mark><mark style=\"background-color: hsl(0, 75%, 93%); opacity:1.0;                     line-height:1.75\"><font color=\"black\"> #/s                    </font></mark><mark style=\"background-color: hsl(0, 75%, 86%); opacity:1.0;                     line-height:1.75\"><font color=\"black\"> #/s                    </font></mark><mark style=\"background-color: hsl(120, 75%, 92%); opacity:1.0;                     line-height:1.75\"><font color=\"black\"> People                    </font></mark><mark style=\"background-color: hsl(120, 75%, 100%); opacity:1.0;                     line-height:1.75\"><font color=\"black\"> are                    </font></mark><mark style=\"background-color: hsl(120, 75%, 95%); opacity:1.0;                     line-height:1.75\"><font color=\"black\"> out                    </font></mark><mark style=\"background-color: hsl(0, 75%, 98%); opacity:1.0;                     line-height:1.75\"><font color=\"black\"> on                    </font></mark><mark style=\"background-color: hsl(120, 75%, 92%); opacity:1.0;                     line-height:1.75\"><font color=\"black\"> the                    </font></mark><mark style=\"background-color: hsl(0, 75%, 97%); opacity:1.0;                     line-height:1.75\"><font color=\"black\"> street.                    </font></mark><mark style=\"background-color: hsl(120, 75%, 95%); opacity:1.0;                     line-height:1.75\"><font color=\"black\"> #/s                    </font></mark></td><tr></table>"
      ],
      "text/plain": [
       "<IPython.core.display.HTML object>"
      ]
     },
     "metadata": {},
     "output_type": "display_data"
    },
    {
     "name": "stderr",
     "output_type": "stream",
     "text": [
      "/home/user/anaconda3/envs/py38/lib/python3.9/site-packages/captum/attr/_core/lime.py:1088: UserWarning: Attempting to construct interpretable model with > 10000 features.This can be very slow or lead to OOM issues. Please provide a featuremask which groups input features to reduce the number of interpretablefeatures. \n",
      "  warnings.warn(\n"
     ]
    },
    {
     "name": "stdout",
     "output_type": "stream",
     "text": [
      "<IPython.core.display.HTML object>\n",
      "Raw review: [\"Here are many samples: Pbase.com Out of the 16k photos there, I'm sure some are with a d700.\", \"It's a 1:1 lens, so that means that the size of the subject will be the same size on the sensor.\"]\n",
      "GT target: 0.6000000238418579\n",
      "pred_prob 0.4683755338191986\n"
     ]
    },
    {
     "name": "stderr",
     "output_type": "stream",
     "text": [
      "Kernel Shap attribution: 100%|██████████████████████████████████████████████████████████| 10/10 [01:32<00:00,  9.28s/it]\n"
     ]
    },
    {
     "name": "stdout",
     "output_type": "stream",
     "text": [
      "word attr tensor([ 0.0786,  0.1311,  0.0827, -0.0718,  0.0253,  0.0708,  0.2468, -0.0052,\n",
      "        -0.1093,  0.0102, -0.0487,  0.0633, -0.0987, -0.0939,  0.1715,  0.1970,\n",
      "        -0.0889,  0.1437, -0.0100,  0.0139,  0.0324, -0.0608, -0.0540, -0.0388,\n",
      "        -0.0669,  0.0727,  0.1672, -0.2813,  0.1583, -0.1352, -0.2864, -0.0993,\n",
      "         0.0490, -0.0296, -0.0573,  0.2300,  0.0768, -0.1833,  0.0281, -0.0125,\n",
      "         0.0612,  0.0430, -0.1611, -0.0713,  0.0287,  0.1553, -0.1298,  0.0894,\n",
      "         0.2014, -0.3075,  0.0609,  0.1150,  0.0330, -0.2865, -0.2724, -0.0738,\n",
      "        -0.0400])\n",
      "conti attr [tensor(0.0786), tensor(0.1311), tensor(0.0827), tensor(-0.0718), tensor(0.0961), tensor(0.1425), tensor(-0.0487), tensor(0.0633), tensor(-0.0987), tensor(0.0776), tensor(0.1970), tensor(0.0548), tensor(0.0039), tensor(0.0324), tensor(-0.0608), tensor(-0.0540), tensor(-0.0388), tensor(-0.0669), tensor(-0.0414), tensor(0.1583), tensor(-0.1352), tensor(-0.3857), tensor(0.0490), tensor(0.1431), tensor(-0.1066), tensor(0.0281), tensor(-0.0125), tensor(0.0612), tensor(0.0430), tensor(-0.1611), tensor(-0.0713), tensor(0.0287), tensor(0.1553), tensor(-0.1298), tensor(0.0894), tensor(0.2014), tensor(-0.3075), tensor(0.0609), tensor(0.1150), tensor(0.0330), tensor(-0.2865), tensor(-0.3462), tensor(-0.0400)]\n",
      "detokenized ['<s>', 'Here', 'are', 'many', 'samples', ':', 'P', 'base', '.', 'com', 'Out', 'of', 'the', '16', 'k', 'photos', 'there', ',', 'I', \"'m\", 'sure', 'some', 'are', 'with', 'a', 'd', '700', '.', '</s>', '</s>', 'It', \"'s\", 'a', '1', ':', '1', 'lens', ',', 'so', 'that', 'means', 'that', 'the', 'size', 'of', 'the', 'subject', 'will', 'be', 'the', 'same', 'size', 'on', 'the', 'sensor', '.', '</s>']\n",
      "len conti_raw 43\n",
      "conti_raw ['<s>', 'Here', 'are', 'many', 'samples:', 'Pbase.com', 'Out', 'of', 'the', '16k', 'photos', 'there,', \"I'm\", 'sure', 'some', 'are', 'with', 'a', 'd700.', '</s>', '</s>', \"It's\", 'a', '1:1', 'lens,', 'so', 'that', 'means', 'that', 'the', 'size', 'of', 'the', 'subject', 'will', 'be', 'the', 'same', 'size', 'on', 'the', 'sensor.', '</s>']\n"
     ]
    },
    {
     "data": {
      "text/html": [
       "<table width: 100%><div style=\"border-top: 1px solid; margin-top: 5px;             padding-top: 5px; display: inline-block\"><b>Legend: </b><span style=\"display: inline-block; width: 10px; height: 10px;                 border: 1px solid; background-color:                 hsl(0, 75%, 60%)\"></span> Negative  <span style=\"display: inline-block; width: 10px; height: 10px;                 border: 1px solid; background-color:                 hsl(0, 75%, 100%)\"></span> Neutral  <span style=\"display: inline-block; width: 10px; height: 10px;                 border: 1px solid; background-color:                 hsl(120, 75%, 50%)\"></span> Positive  </div><tr><th>True Label</th><th>Predicted Label</th><th>Attribution Label</th><th>Attribution Score</th><th>Word Importance</th><tr><td><text style=\"padding-right:2em\"><b>Not Similar</b></text></td><td><text style=\"padding-right:2em\"><b>Not Similar (0.09)</b></text></td><td><text style=\"padding-right:2em\"><b>Not Similar</b></text></td><td><text style=\"padding-right:2em\"><b>-0.34</b></text></td><td><mark style=\"background-color: hsl(120, 75%, 97%); opacity:1.0;                     line-height:1.75\"><font color=\"black\"> #s                    </font></mark><mark style=\"background-color: hsl(120, 75%, 94%); opacity:1.0;                     line-height:1.75\"><font color=\"black\"> Here                    </font></mark><mark style=\"background-color: hsl(120, 75%, 96%); opacity:1.0;                     line-height:1.75\"><font color=\"black\"> are                    </font></mark><mark style=\"background-color: hsl(0, 75%, 98%); opacity:1.0;                     line-height:1.75\"><font color=\"black\"> many                    </font></mark><mark style=\"background-color: hsl(120, 75%, 96%); opacity:1.0;                     line-height:1.75\"><font color=\"black\"> samples:                    </font></mark><mark style=\"background-color: hsl(120, 75%, 93%); opacity:1.0;                     line-height:1.75\"><font color=\"black\"> Pbase.com                    </font></mark><mark style=\"background-color: hsl(0, 75%, 99%); opacity:1.0;                     line-height:1.75\"><font color=\"black\"> Out                    </font></mark><mark style=\"background-color: hsl(120, 75%, 97%); opacity:1.0;                     line-height:1.75\"><font color=\"black\"> of                    </font></mark><mark style=\"background-color: hsl(0, 75%, 97%); opacity:1.0;                     line-height:1.75\"><font color=\"black\"> the                    </font></mark><mark style=\"background-color: hsl(120, 75%, 97%); opacity:1.0;                     line-height:1.75\"><font color=\"black\"> 16k                    </font></mark><mark style=\"background-color: hsl(120, 75%, 91%); opacity:1.0;                     line-height:1.75\"><font color=\"black\"> photos                    </font></mark><mark style=\"background-color: hsl(120, 75%, 98%); opacity:1.0;                     line-height:1.75\"><font color=\"black\"> there,                    </font></mark><mark style=\"background-color: hsl(120, 75%, 100%); opacity:1.0;                     line-height:1.75\"><font color=\"black\"> I'm                    </font></mark><mark style=\"background-color: hsl(120, 75%, 99%); opacity:1.0;                     line-height:1.75\"><font color=\"black\"> sure                    </font></mark><mark style=\"background-color: hsl(0, 75%, 98%); opacity:1.0;                     line-height:1.75\"><font color=\"black\"> some                    </font></mark><mark style=\"background-color: hsl(0, 75%, 98%); opacity:1.0;                     line-height:1.75\"><font color=\"black\"> are                    </font></mark><mark style=\"background-color: hsl(0, 75%, 99%); opacity:1.0;                     line-height:1.75\"><font color=\"black\"> with                    </font></mark><mark style=\"background-color: hsl(0, 75%, 98%); opacity:1.0;                     line-height:1.75\"><font color=\"black\"> a                    </font></mark><mark style=\"background-color: hsl(0, 75%, 99%); opacity:1.0;                     line-height:1.75\"><font color=\"black\"> d700.                    </font></mark><mark style=\"background-color: hsl(120, 75%, 93%); opacity:1.0;                     line-height:1.75\"><font color=\"black\"> #/s                    </font></mark><mark style=\"background-color: hsl(0, 75%, 95%); opacity:1.0;                     line-height:1.75\"><font color=\"black\"> #/s                    </font></mark><mark style=\"background-color: hsl(0, 75%, 85%); opacity:1.0;                     line-height:1.75\"><font color=\"black\"> It's                    </font></mark><mark style=\"background-color: hsl(120, 75%, 98%); opacity:1.0;                     line-height:1.75\"><font color=\"black\"> a                    </font></mark><mark style=\"background-color: hsl(120, 75%, 93%); opacity:1.0;                     line-height:1.75\"><font color=\"black\"> 1:1                    </font></mark><mark style=\"background-color: hsl(0, 75%, 96%); opacity:1.0;                     line-height:1.75\"><font color=\"black\"> lens,                    </font></mark><mark style=\"background-color: hsl(120, 75%, 99%); opacity:1.0;                     line-height:1.75\"><font color=\"black\"> so                    </font></mark><mark style=\"background-color: hsl(0, 75%, 100%); opacity:1.0;                     line-height:1.75\"><font color=\"black\"> that                    </font></mark><mark style=\"background-color: hsl(120, 75%, 97%); opacity:1.0;                     line-height:1.75\"><font color=\"black\"> means                    </font></mark><mark style=\"background-color: hsl(120, 75%, 98%); opacity:1.0;                     line-height:1.75\"><font color=\"black\"> that                    </font></mark><mark style=\"background-color: hsl(0, 75%, 94%); opacity:1.0;                     line-height:1.75\"><font color=\"black\"> the                    </font></mark><mark style=\"background-color: hsl(0, 75%, 98%); opacity:1.0;                     line-height:1.75\"><font color=\"black\"> size                    </font></mark><mark style=\"background-color: hsl(120, 75%, 99%); opacity:1.0;                     line-height:1.75\"><font color=\"black\"> of                    </font></mark><mark style=\"background-color: hsl(120, 75%, 93%); opacity:1.0;                     line-height:1.75\"><font color=\"black\"> the                    </font></mark><mark style=\"background-color: hsl(0, 75%, 95%); opacity:1.0;                     line-height:1.75\"><font color=\"black\"> subject                    </font></mark><mark style=\"background-color: hsl(120, 75%, 96%); opacity:1.0;                     line-height:1.75\"><font color=\"black\"> will                    </font></mark><mark style=\"background-color: hsl(120, 75%, 90%); opacity:1.0;                     line-height:1.75\"><font color=\"black\"> be                    </font></mark><mark style=\"background-color: hsl(0, 75%, 88%); opacity:1.0;                     line-height:1.75\"><font color=\"black\"> the                    </font></mark><mark style=\"background-color: hsl(120, 75%, 97%); opacity:1.0;                     line-height:1.75\"><font color=\"black\"> same                    </font></mark><mark style=\"background-color: hsl(120, 75%, 95%); opacity:1.0;                     line-height:1.75\"><font color=\"black\"> size                    </font></mark><mark style=\"background-color: hsl(120, 75%, 99%); opacity:1.0;                     line-height:1.75\"><font color=\"black\"> on                    </font></mark><mark style=\"background-color: hsl(0, 75%, 89%); opacity:1.0;                     line-height:1.75\"><font color=\"black\"> the                    </font></mark><mark style=\"background-color: hsl(0, 75%, 87%); opacity:1.0;                     line-height:1.75\"><font color=\"black\"> sensor.                    </font></mark><mark style=\"background-color: hsl(0, 75%, 99%); opacity:1.0;                     line-height:1.75\"><font color=\"black\"> #/s                    </font></mark></td><tr></table>"
      ],
      "text/plain": [
       "<IPython.core.display.HTML object>"
      ]
     },
     "metadata": {},
     "output_type": "display_data"
    },
    {
     "name": "stderr",
     "output_type": "stream",
     "text": [
      "/home/user/anaconda3/envs/py38/lib/python3.9/site-packages/captum/attr/_core/lime.py:1088: UserWarning: Attempting to construct interpretable model with > 10000 features.This can be very slow or lead to OOM issues. Please provide a featuremask which groups input features to reduce the number of interpretablefeatures. \n",
      "  warnings.warn(\n"
     ]
    },
    {
     "name": "stdout",
     "output_type": "stream",
     "text": [
      "<IPython.core.display.HTML object>\n",
      "Raw review: ['The University constituencies are modelled on the University constituencies in use in Britain in 1922 when Ireland became independent.', \"This is still a representational form of gov't, but with a unique twist.\"]\n",
      "GT target: 0.20000000298023224\n",
      "pred_prob 1.4010797441005707\n"
     ]
    },
    {
     "name": "stderr",
     "output_type": "stream",
     "text": [
      "Kernel Shap attribution: 100%|██████████████████████████████████████████████████████████| 10/10 [01:03<00:00,  6.35s/it]\n"
     ]
    },
    {
     "name": "stdout",
     "output_type": "stream",
     "text": [
      "word attr tensor([ 8.0031e-02, -2.4770e-01,  1.7825e-01, -1.1955e-01,  1.3476e-01,\n",
      "        -1.2735e-01,  6.4827e-02,  4.7975e-02,  7.6113e-02,  5.9170e-02,\n",
      "        -2.5663e-01,  8.7020e-02, -1.2219e-01,  3.8733e-01,  5.1308e-03,\n",
      "        -2.9440e-04,  4.3871e-02, -2.2529e-01, -6.5410e-02,  4.3511e-02,\n",
      "        -2.3316e-01, -9.0538e-02,  1.0195e-01,  3.2575e-01, -1.0753e-01,\n",
      "        -8.9983e-02,  1.0474e-01, -7.9809e-02, -7.5770e-02,  1.3297e-01,\n",
      "         1.6129e-01,  2.6322e-01, -1.4593e-01, -1.0296e-01,  2.1312e-01,\n",
      "        -2.8033e-01,  9.9094e-03, -1.0088e-01, -2.3738e-02, -1.0972e-02,\n",
      "         1.6780e-01,  4.4716e-02,  8.3242e-02])\n",
      "conti attr [tensor(0.0800), tensor(-0.2477), tensor(0.1782), tensor(-0.1195), tensor(0.1348), tensor(-0.0625), tensor(0.0480), tensor(0.0761), tensor(0.0592), tensor(-0.2566), tensor(0.0870), tensor(-0.1222), tensor(0.3873), tensor(0.0051), tensor(-0.0003), tensor(0.0439), tensor(-0.2253), tensor(-0.0654), tensor(0.0435), tensor(-0.3237), tensor(0.1019), tensor(0.3257), tensor(-0.1075), tensor(-0.0900), tensor(0.1047), tensor(-0.0798), tensor(0.0572), tensor(0.1613), tensor(0.2632), tensor(-0.3161), tensor(0.0099), tensor(-0.1009), tensor(-0.0237), tensor(-0.0110), tensor(0.2125), tensor(0.0832)]\n",
      "detokenized ['<s>', 'The', 'University', 'constituencies', 'are', 'mod', 'elled', 'on', 'the', 'University', 'constituencies', 'in', 'use', 'in', 'Britain', 'in', '1922', 'when', 'Ireland', 'became', 'independent', '.', '</s>', '</s>', 'This', 'is', 'still', 'a', 'represent', 'ational', 'form', 'of', 'go', 'v', \"'t\", ',', 'but', 'with', 'a', 'unique', 'twist', '.', '</s>']\n",
      "len conti_raw 36\n",
      "conti_raw ['<s>', 'The', 'University', 'constituencies', 'are', 'modelled', 'on', 'the', 'University', 'constituencies', 'in', 'use', 'in', 'Britain', 'in', '1922', 'when', 'Ireland', 'became', 'independent.', '</s>', '</s>', 'This', 'is', 'still', 'a', 'representational', 'form', 'of', \"gov't,\", 'but', 'with', 'a', 'unique', 'twist.', '</s>']\n"
     ]
    },
    {
     "data": {
      "text/html": [
       "<table width: 100%><div style=\"border-top: 1px solid; margin-top: 5px;             padding-top: 5px; display: inline-block\"><b>Legend: </b><span style=\"display: inline-block; width: 10px; height: 10px;                 border: 1px solid; background-color:                 hsl(0, 75%, 60%)\"></span> Negative  <span style=\"display: inline-block; width: 10px; height: 10px;                 border: 1px solid; background-color:                 hsl(0, 75%, 100%)\"></span> Neutral  <span style=\"display: inline-block; width: 10px; height: 10px;                 border: 1px solid; background-color:                 hsl(120, 75%, 50%)\"></span> Positive  </div><tr><th>True Label</th><th>Predicted Label</th><th>Attribution Label</th><th>Attribution Score</th><th>Word Importance</th><tr><td><text style=\"padding-right:2em\"><b>Not Similar</b></text></td><td><text style=\"padding-right:2em\"><b>Not Similar (0.28)</b></text></td><td><text style=\"padding-right:2em\"><b>Not Similar</b></text></td><td><text style=\"padding-right:2em\"><b>0.31</b></text></td><td><mark style=\"background-color: hsl(120, 75%, 96%); opacity:1.0;                     line-height:1.75\"><font color=\"black\"> #s                    </font></mark><mark style=\"background-color: hsl(0, 75%, 91%); opacity:1.0;                     line-height:1.75\"><font color=\"black\"> The                    </font></mark><mark style=\"background-color: hsl(120, 75%, 92%); opacity:1.0;                     line-height:1.75\"><font color=\"black\"> University                    </font></mark><mark style=\"background-color: hsl(0, 75%, 96%); opacity:1.0;                     line-height:1.75\"><font color=\"black\"> constituencies                    </font></mark><mark style=\"background-color: hsl(120, 75%, 94%); opacity:1.0;                     line-height:1.75\"><font color=\"black\"> are                    </font></mark><mark style=\"background-color: hsl(0, 75%, 98%); opacity:1.0;                     line-height:1.75\"><font color=\"black\"> modelled                    </font></mark><mark style=\"background-color: hsl(120, 75%, 98%); opacity:1.0;                     line-height:1.75\"><font color=\"black\"> on                    </font></mark><mark style=\"background-color: hsl(120, 75%, 97%); opacity:1.0;                     line-height:1.75\"><font color=\"black\"> the                    </font></mark><mark style=\"background-color: hsl(120, 75%, 98%); opacity:1.0;                     line-height:1.75\"><font color=\"black\"> University                    </font></mark><mark style=\"background-color: hsl(0, 75%, 90%); opacity:1.0;                     line-height:1.75\"><font color=\"black\"> constituencies                    </font></mark><mark style=\"background-color: hsl(120, 75%, 96%); opacity:1.0;                     line-height:1.75\"><font color=\"black\"> in                    </font></mark><mark style=\"background-color: hsl(0, 75%, 96%); opacity:1.0;                     line-height:1.75\"><font color=\"black\"> use                    </font></mark><mark style=\"background-color: hsl(120, 75%, 81%); opacity:1.0;                     line-height:1.75\"><font color=\"black\"> in                    </font></mark><mark style=\"background-color: hsl(120, 75%, 100%); opacity:1.0;                     line-height:1.75\"><font color=\"black\"> Britain                    </font></mark><mark style=\"background-color: hsl(0, 75%, 100%); opacity:1.0;                     line-height:1.75\"><font color=\"black\"> in                    </font></mark><mark style=\"background-color: hsl(120, 75%, 98%); opacity:1.0;                     line-height:1.75\"><font color=\"black\"> 1922                    </font></mark><mark style=\"background-color: hsl(0, 75%, 91%); opacity:1.0;                     line-height:1.75\"><font color=\"black\"> when                    </font></mark><mark style=\"background-color: hsl(0, 75%, 98%); opacity:1.0;                     line-height:1.75\"><font color=\"black\"> Ireland                    </font></mark><mark style=\"background-color: hsl(120, 75%, 98%); opacity:1.0;                     line-height:1.75\"><font color=\"black\"> became                    </font></mark><mark style=\"background-color: hsl(0, 75%, 88%); opacity:1.0;                     line-height:1.75\"><font color=\"black\"> independent.                    </font></mark><mark style=\"background-color: hsl(120, 75%, 95%); opacity:1.0;                     line-height:1.75\"><font color=\"black\"> #/s                    </font></mark><mark style=\"background-color: hsl(120, 75%, 84%); opacity:1.0;                     line-height:1.75\"><font color=\"black\"> #/s                    </font></mark><mark style=\"background-color: hsl(0, 75%, 96%); opacity:1.0;                     line-height:1.75\"><font color=\"black\"> This                    </font></mark><mark style=\"background-color: hsl(0, 75%, 97%); opacity:1.0;                     line-height:1.75\"><font color=\"black\"> is                    </font></mark><mark style=\"background-color: hsl(120, 75%, 95%); opacity:1.0;                     line-height:1.75\"><font color=\"black\"> still                    </font></mark><mark style=\"background-color: hsl(0, 75%, 97%); opacity:1.0;                     line-height:1.75\"><font color=\"black\"> a                    </font></mark><mark style=\"background-color: hsl(120, 75%, 98%); opacity:1.0;                     line-height:1.75\"><font color=\"black\"> representational                    </font></mark><mark style=\"background-color: hsl(120, 75%, 92%); opacity:1.0;                     line-height:1.75\"><font color=\"black\"> form                    </font></mark><mark style=\"background-color: hsl(120, 75%, 87%); opacity:1.0;                     line-height:1.75\"><font color=\"black\"> of                    </font></mark><mark style=\"background-color: hsl(0, 75%, 88%); opacity:1.0;                     line-height:1.75\"><font color=\"black\"> gov't,                    </font></mark><mark style=\"background-color: hsl(120, 75%, 100%); opacity:1.0;                     line-height:1.75\"><font color=\"black\"> but                    </font></mark><mark style=\"background-color: hsl(0, 75%, 96%); opacity:1.0;                     line-height:1.75\"><font color=\"black\"> with                    </font></mark><mark style=\"background-color: hsl(0, 75%, 100%); opacity:1.0;                     line-height:1.75\"><font color=\"black\"> a                    </font></mark><mark style=\"background-color: hsl(0, 75%, 100%); opacity:1.0;                     line-height:1.75\"><font color=\"black\"> unique                    </font></mark><mark style=\"background-color: hsl(120, 75%, 90%); opacity:1.0;                     line-height:1.75\"><font color=\"black\"> twist.                    </font></mark><mark style=\"background-color: hsl(120, 75%, 96%); opacity:1.0;                     line-height:1.75\"><font color=\"black\"> #/s                    </font></mark></td><tr></table>"
      ],
      "text/plain": [
       "<IPython.core.display.HTML object>"
      ]
     },
     "metadata": {},
     "output_type": "display_data"
    },
    {
     "name": "stderr",
     "output_type": "stream",
     "text": [
      "/home/user/anaconda3/envs/py38/lib/python3.9/site-packages/captum/attr/_core/lime.py:1088: UserWarning: Attempting to construct interpretable model with > 10000 features.This can be very slow or lead to OOM issues. Please provide a featuremask which groups input features to reduce the number of interpretablefeatures. \n",
      "  warnings.warn(\n"
     ]
    },
    {
     "name": "stdout",
     "output_type": "stream",
     "text": [
      "<IPython.core.display.HTML object>\n",
      "Raw review: ['One Asian and one occasion woman in glasses smiling with their thumbs up.', 'Two women are posing for the camera and giving the thumbs up sign.']\n",
      "GT target: 3.4000000953674316\n",
      "pred_prob 3.2387176156044006\n"
     ]
    },
    {
     "name": "stderr",
     "output_type": "stream",
     "text": [
      "Kernel Shap attribution: 100%|██████████████████████████████████████████████████████████| 10/10 [00:45<00:00,  4.55s/it]\n"
     ]
    },
    {
     "name": "stdout",
     "output_type": "stream",
     "text": [
      "word attr tensor([-0.1285,  0.5007,  0.1580,  0.0124,  0.1025,  0.1327,  0.1133, -0.2322,\n",
      "         0.0200, -0.0666, -0.0027, -0.0697, -0.1130,  0.2041, -0.0014,  0.1046,\n",
      "        -0.1814,  0.2678,  0.1672,  0.3391,  0.1153,  0.0628, -0.0886, -0.1019,\n",
      "         0.0676,  0.0603, -0.3287, -0.2493,  0.0099, -0.0785,  0.2496, -0.0876])\n",
      "conti attr [tensor(-0.1285), tensor(0.5007), tensor(0.1580), tensor(0.0124), tensor(0.1025), tensor(0.1327), tensor(0.1133), tensor(-0.2322), tensor(0.0200), tensor(-0.0666), tensor(-0.0027), tensor(-0.0697), tensor(-0.1130), tensor(0.2028), tensor(0.1046), tensor(-0.1814), tensor(0.2678), tensor(0.1672), tensor(0.3391), tensor(0.1153), tensor(0.0628), tensor(-0.0886), tensor(-0.1019), tensor(0.0676), tensor(0.0603), tensor(-0.3287), tensor(-0.2493), tensor(0.0099), tensor(0.1710), tensor(-0.0876)]\n",
      "detokenized ['<s>', 'One', 'Asian', 'and', 'one', 'occasion', 'woman', 'in', 'glasses', 'smiling', 'with', 'their', 'thumbs', 'up', '.', '</s>', '</s>', 'Two', 'women', 'are', 'posing', 'for', 'the', 'camera', 'and', 'giving', 'the', 'thumbs', 'up', 'sign', '.', '</s>']\n",
      "len conti_raw 30\n",
      "conti_raw ['<s>', 'One', 'Asian', 'and', 'one', 'occasion', 'woman', 'in', 'glasses', 'smiling', 'with', 'their', 'thumbs', 'up.', '</s>', '</s>', 'Two', 'women', 'are', 'posing', 'for', 'the', 'camera', 'and', 'giving', 'the', 'thumbs', 'up', 'sign.', '</s>']\n"
     ]
    },
    {
     "data": {
      "text/html": [
       "<table width: 100%><div style=\"border-top: 1px solid; margin-top: 5px;             padding-top: 5px; display: inline-block\"><b>Legend: </b><span style=\"display: inline-block; width: 10px; height: 10px;                 border: 1px solid; background-color:                 hsl(0, 75%, 60%)\"></span> Negative  <span style=\"display: inline-block; width: 10px; height: 10px;                 border: 1px solid; background-color:                 hsl(0, 75%, 100%)\"></span> Neutral  <span style=\"display: inline-block; width: 10px; height: 10px;                 border: 1px solid; background-color:                 hsl(120, 75%, 50%)\"></span> Positive  </div><tr><th>True Label</th><th>Predicted Label</th><th>Attribution Label</th><th>Attribution Score</th><th>Word Importance</th><tr><td><text style=\"padding-right:2em\"><b>Similar</b></text></td><td><text style=\"padding-right:2em\"><b>Similar (0.65)</b></text></td><td><text style=\"padding-right:2em\"><b>Similar</b></text></td><td><text style=\"padding-right:2em\"><b>0.96</b></text></td><td><mark style=\"background-color: hsl(0, 75%, 95%); opacity:1.0;                     line-height:1.75\"><font color=\"black\"> #s                    </font></mark><mark style=\"background-color: hsl(120, 75%, 75%); opacity:1.0;                     line-height:1.75\"><font color=\"black\"> One                    </font></mark><mark style=\"background-color: hsl(120, 75%, 93%); opacity:1.0;                     line-height:1.75\"><font color=\"black\"> Asian                    </font></mark><mark style=\"background-color: hsl(120, 75%, 100%); opacity:1.0;                     line-height:1.75\"><font color=\"black\"> and                    </font></mark><mark style=\"background-color: hsl(120, 75%, 95%); opacity:1.0;                     line-height:1.75\"><font color=\"black\"> one                    </font></mark><mark style=\"background-color: hsl(120, 75%, 94%); opacity:1.0;                     line-height:1.75\"><font color=\"black\"> occasion                    </font></mark><mark style=\"background-color: hsl(120, 75%, 95%); opacity:1.0;                     line-height:1.75\"><font color=\"black\"> woman                    </font></mark><mark style=\"background-color: hsl(0, 75%, 91%); opacity:1.0;                     line-height:1.75\"><font color=\"black\"> in                    </font></mark><mark style=\"background-color: hsl(120, 75%, 100%); opacity:1.0;                     line-height:1.75\"><font color=\"black\"> glasses                    </font></mark><mark style=\"background-color: hsl(0, 75%, 98%); opacity:1.0;                     line-height:1.75\"><font color=\"black\"> smiling                    </font></mark><mark style=\"background-color: hsl(0, 75%, 100%); opacity:1.0;                     line-height:1.75\"><font color=\"black\"> with                    </font></mark><mark style=\"background-color: hsl(0, 75%, 98%); opacity:1.0;                     line-height:1.75\"><font color=\"black\"> their                    </font></mark><mark style=\"background-color: hsl(0, 75%, 96%); opacity:1.0;                     line-height:1.75\"><font color=\"black\"> thumbs                    </font></mark><mark style=\"background-color: hsl(120, 75%, 90%); opacity:1.0;                     line-height:1.75\"><font color=\"black\"> up.                    </font></mark><mark style=\"background-color: hsl(120, 75%, 95%); opacity:1.0;                     line-height:1.75\"><font color=\"black\"> #/s                    </font></mark><mark style=\"background-color: hsl(0, 75%, 93%); opacity:1.0;                     line-height:1.75\"><font color=\"black\"> #/s                    </font></mark><mark style=\"background-color: hsl(120, 75%, 87%); opacity:1.0;                     line-height:1.75\"><font color=\"black\"> Two                    </font></mark><mark style=\"background-color: hsl(120, 75%, 92%); opacity:1.0;                     line-height:1.75\"><font color=\"black\"> women                    </font></mark><mark style=\"background-color: hsl(120, 75%, 84%); opacity:1.0;                     line-height:1.75\"><font color=\"black\"> are                    </font></mark><mark style=\"background-color: hsl(120, 75%, 95%); opacity:1.0;                     line-height:1.75\"><font color=\"black\"> posing                    </font></mark><mark style=\"background-color: hsl(120, 75%, 97%); opacity:1.0;                     line-height:1.75\"><font color=\"black\"> for                    </font></mark><mark style=\"background-color: hsl(0, 75%, 97%); opacity:1.0;                     line-height:1.75\"><font color=\"black\"> the                    </font></mark><mark style=\"background-color: hsl(0, 75%, 96%); opacity:1.0;                     line-height:1.75\"><font color=\"black\"> camera                    </font></mark><mark style=\"background-color: hsl(120, 75%, 97%); opacity:1.0;                     line-height:1.75\"><font color=\"black\"> and                    </font></mark><mark style=\"background-color: hsl(120, 75%, 97%); opacity:1.0;                     line-height:1.75\"><font color=\"black\"> giving                    </font></mark><mark style=\"background-color: hsl(0, 75%, 87%); opacity:1.0;                     line-height:1.75\"><font color=\"black\"> the                    </font></mark><mark style=\"background-color: hsl(0, 75%, 91%); opacity:1.0;                     line-height:1.75\"><font color=\"black\"> thumbs                    </font></mark><mark style=\"background-color: hsl(120, 75%, 100%); opacity:1.0;                     line-height:1.75\"><font color=\"black\"> up                    </font></mark><mark style=\"background-color: hsl(120, 75%, 92%); opacity:1.0;                     line-height:1.75\"><font color=\"black\"> sign.                    </font></mark><mark style=\"background-color: hsl(0, 75%, 97%); opacity:1.0;                     line-height:1.75\"><font color=\"black\"> #/s                    </font></mark></td><tr></table>"
      ],
      "text/plain": [
       "<IPython.core.display.HTML object>"
      ]
     },
     "metadata": {},
     "output_type": "display_data"
    },
    {
     "name": "stderr",
     "output_type": "stream",
     "text": [
      "/home/user/anaconda3/envs/py38/lib/python3.9/site-packages/captum/attr/_core/lime.py:1088: UserWarning: Attempting to construct interpretable model with > 10000 features.This can be very slow or lead to OOM issues. Please provide a featuremask which groups input features to reduce the number of interpretablefeatures. \n",
      "  warnings.warn(\n"
     ]
    },
    {
     "name": "stdout",
     "output_type": "stream",
     "text": [
      "<IPython.core.display.HTML object>\n",
      "Raw review: ['Three guys in speedos have their feet up on the railing of a boat getting a tan.', 'A few men on the deck are dropping another man into the water']\n",
      "GT target: 1.600000023841858\n",
      "pred_prob 1.1263110488653183\n"
     ]
    },
    {
     "name": "stderr",
     "output_type": "stream",
     "text": [
      "Kernel Shap attribution: 100%|██████████████████████████████████████████████████████████| 10/10 [00:51<00:00,  5.17s/it]\n"
     ]
    },
    {
     "name": "stdout",
     "output_type": "stream",
     "text": [
      "word attr tensor([ 0.2612, -0.1791, -0.0860,  0.0341,  0.0600,  0.0872,  0.1182,  0.1307,\n",
      "        -0.0324, -0.0169, -0.0903, -0.1041,  0.0630, -0.2078, -0.2202, -0.3457,\n",
      "        -0.2943, -0.2419, -0.1206,  0.1487,  0.0449,  0.2276,  0.1028,  0.2542,\n",
      "         0.0066,  0.1711,  0.0134,  0.1242,  0.2171,  0.1633, -0.3203,  0.0461,\n",
      "         0.1215, -0.0842, -0.1596,  0.1786])\n",
      "conti attr [tensor(0.2612), tensor(-0.1791), tensor(-0.0860), tensor(0.0341), tensor(0.1472), tensor(0.1182), tensor(0.1307), tensor(-0.0324), tensor(-0.0169), tensor(-0.0903), tensor(-0.1041), tensor(0.0630), tensor(-0.2078), tensor(-0.2202), tensor(-0.3457), tensor(-0.2943), tensor(-0.2419), tensor(0.0281), tensor(0.0449), tensor(0.2276), tensor(0.1028), tensor(0.2542), tensor(0.0066), tensor(0.1711), tensor(0.0134), tensor(0.1242), tensor(0.2171), tensor(0.1633), tensor(-0.3203), tensor(0.0461), tensor(0.1215), tensor(-0.0842), tensor(-0.1596), tensor(0.1786)]\n",
      "detokenized ['<s>', 'Three', 'guys', 'in', 'speed', 'os', 'have', 'their', 'feet', 'up', 'on', 'the', 'railing', 'of', 'a', 'boat', 'getting', 'a', 'tan', '.', '</s>', '</s>', 'A', 'few', 'men', 'on', 'the', 'deck', 'are', 'dropping', 'another', 'man', 'into', 'the', 'water', '</s>']\n",
      "len conti_raw 34\n",
      "conti_raw ['<s>', 'Three', 'guys', 'in', 'speedos', 'have', 'their', 'feet', 'up', 'on', 'the', 'railing', 'of', 'a', 'boat', 'getting', 'a', 'tan.', '</s>', '</s>', 'A', 'few', 'men', 'on', 'the', 'deck', 'are', 'dropping', 'another', 'man', 'into', 'the', 'water', '</s>']\n"
     ]
    },
    {
     "data": {
      "text/html": [
       "<table width: 100%><div style=\"border-top: 1px solid; margin-top: 5px;             padding-top: 5px; display: inline-block\"><b>Legend: </b><span style=\"display: inline-block; width: 10px; height: 10px;                 border: 1px solid; background-color:                 hsl(0, 75%, 60%)\"></span> Negative  <span style=\"display: inline-block; width: 10px; height: 10px;                 border: 1px solid; background-color:                 hsl(0, 75%, 100%)\"></span> Neutral  <span style=\"display: inline-block; width: 10px; height: 10px;                 border: 1px solid; background-color:                 hsl(120, 75%, 50%)\"></span> Positive  </div><tr><th>True Label</th><th>Predicted Label</th><th>Attribution Label</th><th>Attribution Score</th><th>Word Importance</th><tr><td><text style=\"padding-right:2em\"><b>Not Similar</b></text></td><td><text style=\"padding-right:2em\"><b>Not Similar (0.23)</b></text></td><td><text style=\"padding-right:2em\"><b>Not Similar</b></text></td><td><text style=\"padding-right:2em\"><b>0.07</b></text></td><td><mark style=\"background-color: hsl(120, 75%, 87%); opacity:1.0;                     line-height:1.75\"><font color=\"black\"> #s                    </font></mark><mark style=\"background-color: hsl(0, 75%, 93%); opacity:1.0;                     line-height:1.75\"><font color=\"black\"> Three                    </font></mark><mark style=\"background-color: hsl(0, 75%, 97%); opacity:1.0;                     line-height:1.75\"><font color=\"black\"> guys                    </font></mark><mark style=\"background-color: hsl(120, 75%, 99%); opacity:1.0;                     line-height:1.75\"><font color=\"black\"> in                    </font></mark><mark style=\"background-color: hsl(120, 75%, 93%); opacity:1.0;                     line-height:1.75\"><font color=\"black\"> speedos                    </font></mark><mark style=\"background-color: hsl(120, 75%, 95%); opacity:1.0;                     line-height:1.75\"><font color=\"black\"> have                    </font></mark><mark style=\"background-color: hsl(120, 75%, 94%); opacity:1.0;                     line-height:1.75\"><font color=\"black\"> their                    </font></mark><mark style=\"background-color: hsl(0, 75%, 99%); opacity:1.0;                     line-height:1.75\"><font color=\"black\"> feet                    </font></mark><mark style=\"background-color: hsl(0, 75%, 100%); opacity:1.0;                     line-height:1.75\"><font color=\"black\"> up                    </font></mark><mark style=\"background-color: hsl(0, 75%, 97%); opacity:1.0;                     line-height:1.75\"><font color=\"black\"> on                    </font></mark><mark style=\"background-color: hsl(0, 75%, 96%); opacity:1.0;                     line-height:1.75\"><font color=\"black\"> the                    </font></mark><mark style=\"background-color: hsl(120, 75%, 97%); opacity:1.0;                     line-height:1.75\"><font color=\"black\"> railing                    </font></mark><mark style=\"background-color: hsl(0, 75%, 92%); opacity:1.0;                     line-height:1.75\"><font color=\"black\"> of                    </font></mark><mark style=\"background-color: hsl(0, 75%, 92%); opacity:1.0;                     line-height:1.75\"><font color=\"black\"> a                    </font></mark><mark style=\"background-color: hsl(0, 75%, 87%); opacity:1.0;                     line-height:1.75\"><font color=\"black\"> boat                    </font></mark><mark style=\"background-color: hsl(0, 75%, 89%); opacity:1.0;                     line-height:1.75\"><font color=\"black\"> getting                    </font></mark><mark style=\"background-color: hsl(0, 75%, 91%); opacity:1.0;                     line-height:1.75\"><font color=\"black\"> a                    </font></mark><mark style=\"background-color: hsl(120, 75%, 99%); opacity:1.0;                     line-height:1.75\"><font color=\"black\"> tan.                    </font></mark><mark style=\"background-color: hsl(120, 75%, 98%); opacity:1.0;                     line-height:1.75\"><font color=\"black\"> #/s                    </font></mark><mark style=\"background-color: hsl(120, 75%, 89%); opacity:1.0;                     line-height:1.75\"><font color=\"black\"> #/s                    </font></mark><mark style=\"background-color: hsl(120, 75%, 95%); opacity:1.0;                     line-height:1.75\"><font color=\"black\"> A                    </font></mark><mark style=\"background-color: hsl(120, 75%, 88%); opacity:1.0;                     line-height:1.75\"><font color=\"black\"> few                    </font></mark><mark style=\"background-color: hsl(120, 75%, 100%); opacity:1.0;                     line-height:1.75\"><font color=\"black\"> men                    </font></mark><mark style=\"background-color: hsl(120, 75%, 92%); opacity:1.0;                     line-height:1.75\"><font color=\"black\"> on                    </font></mark><mark style=\"background-color: hsl(120, 75%, 100%); opacity:1.0;                     line-height:1.75\"><font color=\"black\"> the                    </font></mark><mark style=\"background-color: hsl(120, 75%, 94%); opacity:1.0;                     line-height:1.75\"><font color=\"black\"> deck                    </font></mark><mark style=\"background-color: hsl(120, 75%, 90%); opacity:1.0;                     line-height:1.75\"><font color=\"black\"> are                    </font></mark><mark style=\"background-color: hsl(120, 75%, 92%); opacity:1.0;                     line-height:1.75\"><font color=\"black\"> dropping                    </font></mark><mark style=\"background-color: hsl(0, 75%, 88%); opacity:1.0;                     line-height:1.75\"><font color=\"black\"> another                    </font></mark><mark style=\"background-color: hsl(120, 75%, 98%); opacity:1.0;                     line-height:1.75\"><font color=\"black\"> man                    </font></mark><mark style=\"background-color: hsl(120, 75%, 94%); opacity:1.0;                     line-height:1.75\"><font color=\"black\"> into                    </font></mark><mark style=\"background-color: hsl(0, 75%, 97%); opacity:1.0;                     line-height:1.75\"><font color=\"black\"> the                    </font></mark><mark style=\"background-color: hsl(0, 75%, 94%); opacity:1.0;                     line-height:1.75\"><font color=\"black\"> water                    </font></mark><mark style=\"background-color: hsl(120, 75%, 92%); opacity:1.0;                     line-height:1.75\"><font color=\"black\"> #/s                    </font></mark></td><tr></table>"
      ],
      "text/plain": [
       "<IPython.core.display.HTML object>"
      ]
     },
     "metadata": {},
     "output_type": "display_data"
    },
    {
     "name": "stderr",
     "output_type": "stream",
     "text": [
      "/home/user/anaconda3/envs/py38/lib/python3.9/site-packages/captum/attr/_core/lime.py:1088: UserWarning: Attempting to construct interpretable model with > 10000 features.This can be very slow or lead to OOM issues. Please provide a featuremask which groups input features to reduce the number of interpretablefeatures. \n",
      "  warnings.warn(\n"
     ]
    },
    {
     "name": "stdout",
     "output_type": "stream",
     "text": [
      "<IPython.core.display.HTML object>\n",
      "Raw review: ['Cardinals enter Vatican for historic vote', 'Cardinals enter Sistine Chapel to elect pope']\n",
      "GT target: 3.4000000953674316\n",
      "pred_prob 3.9953607320785522\n"
     ]
    },
    {
     "name": "stderr",
     "output_type": "stream",
     "text": [
      "Kernel Shap attribution: 100%|██████████████████████████████████████████████████████████| 10/10 [00:28<00:00,  2.88s/it]\n"
     ]
    },
    {
     "name": "stdout",
     "output_type": "stream",
     "text": [
      "word attr tensor([ 0.0624,  0.3346,  0.1175, -0.3034,  0.2064,  0.2153,  0.2073, -0.0954,\n",
      "        -0.2837,  0.2594,  0.0765,  0.3162,  0.3290, -0.1325, -0.0572,  0.1277,\n",
      "        -0.1858, -0.0090,  0.4413, -0.0949])\n",
      "conti attr [tensor(0.0624), tensor(0.4521), tensor(-0.3034), tensor(0.2064), tensor(0.2153), tensor(0.2073), tensor(-0.0954), tensor(-0.2837), tensor(0.2594), tensor(0.3927), tensor(0.3290), tensor(-0.1897), tensor(0.1277), tensor(-0.1858), tensor(-0.0090), tensor(0.4413), tensor(-0.0949)]\n",
      "detokenized ['<s>', 'Card', 'inals', 'enter', 'Vatican', 'for', 'historic', 'vote', '</s>', '</s>', 'Card', 'inals', 'enter', 'S', 'istine', 'Chapel', 'to', 'elect', 'pope', '</s>']\n",
      "len conti_raw 17\n",
      "conti_raw ['<s>', 'Cardinals', 'enter', 'Vatican', 'for', 'historic', 'vote', '</s>', '</s>', 'Cardinals', 'enter', 'Sistine', 'Chapel', 'to', 'elect', 'pope', '</s>']\n"
     ]
    },
    {
     "data": {
      "text/html": [
       "<table width: 100%><div style=\"border-top: 1px solid; margin-top: 5px;             padding-top: 5px; display: inline-block\"><b>Legend: </b><span style=\"display: inline-block; width: 10px; height: 10px;                 border: 1px solid; background-color:                 hsl(0, 75%, 60%)\"></span> Negative  <span style=\"display: inline-block; width: 10px; height: 10px;                 border: 1px solid; background-color:                 hsl(0, 75%, 100%)\"></span> Neutral  <span style=\"display: inline-block; width: 10px; height: 10px;                 border: 1px solid; background-color:                 hsl(120, 75%, 50%)\"></span> Positive  </div><tr><th>True Label</th><th>Predicted Label</th><th>Attribution Label</th><th>Attribution Score</th><th>Word Importance</th><tr><td><text style=\"padding-right:2em\"><b>Similar</b></text></td><td><text style=\"padding-right:2em\"><b>Similar (0.80)</b></text></td><td><text style=\"padding-right:2em\"><b>Similar</b></text></td><td><text style=\"padding-right:2em\"><b>1.53</b></text></td><td><mark style=\"background-color: hsl(120, 75%, 97%); opacity:1.0;                     line-height:1.75\"><font color=\"black\"> #s                    </font></mark><mark style=\"background-color: hsl(120, 75%, 78%); opacity:1.0;                     line-height:1.75\"><font color=\"black\"> Cardinals                    </font></mark><mark style=\"background-color: hsl(0, 75%, 88%); opacity:1.0;                     line-height:1.75\"><font color=\"black\"> enter                    </font></mark><mark style=\"background-color: hsl(120, 75%, 90%); opacity:1.0;                     line-height:1.75\"><font color=\"black\"> Vatican                    </font></mark><mark style=\"background-color: hsl(120, 75%, 90%); opacity:1.0;                     line-height:1.75\"><font color=\"black\"> for                    </font></mark><mark style=\"background-color: hsl(120, 75%, 90%); opacity:1.0;                     line-height:1.75\"><font color=\"black\"> historic                    </font></mark><mark style=\"background-color: hsl(0, 75%, 97%); opacity:1.0;                     line-height:1.75\"><font color=\"black\"> vote                    </font></mark><mark style=\"background-color: hsl(0, 75%, 89%); opacity:1.0;                     line-height:1.75\"><font color=\"black\"> #/s                    </font></mark><mark style=\"background-color: hsl(120, 75%, 88%); opacity:1.0;                     line-height:1.75\"><font color=\"black\"> #/s                    </font></mark><mark style=\"background-color: hsl(120, 75%, 81%); opacity:1.0;                     line-height:1.75\"><font color=\"black\"> Cardinals                    </font></mark><mark style=\"background-color: hsl(120, 75%, 84%); opacity:1.0;                     line-height:1.75\"><font color=\"black\"> enter                    </font></mark><mark style=\"background-color: hsl(0, 75%, 93%); opacity:1.0;                     line-height:1.75\"><font color=\"black\"> Sistine                    </font></mark><mark style=\"background-color: hsl(120, 75%, 94%); opacity:1.0;                     line-height:1.75\"><font color=\"black\"> Chapel                    </font></mark><mark style=\"background-color: hsl(0, 75%, 93%); opacity:1.0;                     line-height:1.75\"><font color=\"black\"> to                    </font></mark><mark style=\"background-color: hsl(0, 75%, 100%); opacity:1.0;                     line-height:1.75\"><font color=\"black\"> elect                    </font></mark><mark style=\"background-color: hsl(120, 75%, 78%); opacity:1.0;                     line-height:1.75\"><font color=\"black\"> pope                    </font></mark><mark style=\"background-color: hsl(0, 75%, 97%); opacity:1.0;                     line-height:1.75\"><font color=\"black\"> #/s                    </font></mark></td><tr></table>"
      ],
      "text/plain": [
       "<IPython.core.display.HTML object>"
      ]
     },
     "metadata": {},
     "output_type": "display_data"
    },
    {
     "name": "stderr",
     "output_type": "stream",
     "text": [
      "/home/user/anaconda3/envs/py38/lib/python3.9/site-packages/captum/attr/_core/lime.py:1088: UserWarning: Attempting to construct interpretable model with > 10000 features.This can be very slow or lead to OOM issues. Please provide a featuremask which groups input features to reduce the number of interpretablefeatures. \n",
      "  warnings.warn(\n"
     ]
    },
    {
     "name": "stdout",
     "output_type": "stream",
     "text": [
      "<IPython.core.display.HTML object>\n",
      "Raw review: ['According to this website the peak visible magnitude will be about 10.5 around February 2nd.', 'The AAVSO data seems to indicate that it might have already peaked, at around 10.5 (visual).']\n",
      "GT target: 3.5999999046325684\n",
      "pred_prob 2.8884661197662354\n"
     ]
    },
    {
     "name": "stderr",
     "output_type": "stream",
     "text": [
      "Kernel Shap attribution: 100%|██████████████████████████████████████████████████████████| 10/10 [01:08<00:00,  6.89s/it]\n"
     ]
    },
    {
     "name": "stdout",
     "output_type": "stream",
     "text": [
      "word attr tensor([ 4.9733e-01, -1.8089e-02,  8.1747e-02, -9.7662e-02, -1.9826e-01,\n",
      "        -5.7143e-02, -3.2689e-02, -7.5583e-02, -2.1513e-02, -7.8758e-02,\n",
      "         1.3875e-01,  1.8250e-01, -1.0444e-01,  2.0803e-01,  9.9114e-02,\n",
      "         1.8495e-01,  7.1210e-03, -1.8789e-01,  8.1400e-02,  3.6919e-02,\n",
      "         1.0478e-01,  1.9958e-02,  1.8424e-01, -1.3206e-02,  5.8569e-03,\n",
      "        -5.7164e-04, -2.5106e-01, -6.7339e-02, -1.6640e-01, -1.0456e-01,\n",
      "         6.5000e-02,  6.2770e-02,  2.7920e-01, -3.6259e-02, -1.0173e-01,\n",
      "         2.0811e-01,  3.7412e-04, -2.4438e-01, -1.9249e-02,  9.8622e-02,\n",
      "        -2.7446e-02, -8.7680e-02, -4.9200e-02, -3.3767e-02, -2.3239e-01,\n",
      "        -2.3947e-01])\n",
      "conti attr [tensor(0.4973), tensor(-0.0181), tensor(0.0817), tensor(-0.0977), tensor(-0.1983), tensor(-0.0571), tensor(-0.0327), tensor(-0.0756), tensor(-0.0215), tensor(-0.0788), tensor(0.1387), tensor(0.1825), tensor(0.2027), tensor(0.1850), tensor(0.0071), tensor(-0.0696), tensor(0.1048), tensor(0.0200), tensor(0.1842), tensor(-0.0079), tensor(-0.2511), tensor(-0.0673), tensor(-0.1664), tensor(-0.1046), tensor(0.0650), tensor(0.0628), tensor(0.2792), tensor(-0.0363), tensor(-0.1017), tensor(0.2085), tensor(-0.2444), tensor(-0.0192), tensor(-0.0165), tensor(-0.3154), tensor(-0.2395)]\n",
      "detokenized ['<s>', 'According', 'to', 'this', 'website', 'the', 'peak', 'visible', 'magnitude', 'will', 'be', 'about', '10', '.', '5', 'around', 'February', '2', 'nd', '.', '</s>', '</s>', 'The', 'A', 'AV', 'SO', 'data', 'seems', 'to', 'indicate', 'that', 'it', 'might', 'have', 'already', 'peaked', ',', 'at', 'around', '10', '.', '5', '(', 'visual', ').', '</s>']\n",
      "len conti_raw 35\n",
      "conti_raw ['<s>', 'According', 'to', 'this', 'website', 'the', 'peak', 'visible', 'magnitude', 'will', 'be', 'about', '10.5', 'around', 'February', '2nd.', '</s>', '</s>', 'The', 'AAVSO', 'data', 'seems', 'to', 'indicate', 'that', 'it', 'might', 'have', 'already', 'peaked,', 'at', 'around', '10.5', '(visual).', '</s>']\n"
     ]
    },
    {
     "data": {
      "text/html": [
       "<table width: 100%><div style=\"border-top: 1px solid; margin-top: 5px;             padding-top: 5px; display: inline-block\"><b>Legend: </b><span style=\"display: inline-block; width: 10px; height: 10px;                 border: 1px solid; background-color:                 hsl(0, 75%, 60%)\"></span> Negative  <span style=\"display: inline-block; width: 10px; height: 10px;                 border: 1px solid; background-color:                 hsl(0, 75%, 100%)\"></span> Neutral  <span style=\"display: inline-block; width: 10px; height: 10px;                 border: 1px solid; background-color:                 hsl(120, 75%, 50%)\"></span> Positive  </div><tr><th>True Label</th><th>Predicted Label</th><th>Attribution Label</th><th>Attribution Score</th><th>Word Importance</th><tr><td><text style=\"padding-right:2em\"><b>Similar</b></text></td><td><text style=\"padding-right:2em\"><b>Similar (0.58)</b></text></td><td><text style=\"padding-right:2em\"><b>Not Similar</b></text></td><td><text style=\"padding-right:2em\"><b>0.00</b></text></td><td><mark style=\"background-color: hsl(120, 75%, 76%); opacity:1.0;                     line-height:1.75\"><font color=\"black\"> #s                    </font></mark><mark style=\"background-color: hsl(0, 75%, 100%); opacity:1.0;                     line-height:1.75\"><font color=\"black\"> According                    </font></mark><mark style=\"background-color: hsl(120, 75%, 96%); opacity:1.0;                     line-height:1.75\"><font color=\"black\"> to                    </font></mark><mark style=\"background-color: hsl(0, 75%, 97%); opacity:1.0;                     line-height:1.75\"><font color=\"black\"> this                    </font></mark><mark style=\"background-color: hsl(0, 75%, 93%); opacity:1.0;                     line-height:1.75\"><font color=\"black\"> website                    </font></mark><mark style=\"background-color: hsl(0, 75%, 98%); opacity:1.0;                     line-height:1.75\"><font color=\"black\"> the                    </font></mark><mark style=\"background-color: hsl(0, 75%, 99%); opacity:1.0;                     line-height:1.75\"><font color=\"black\"> peak                    </font></mark><mark style=\"background-color: hsl(0, 75%, 97%); opacity:1.0;                     line-height:1.75\"><font color=\"black\"> visible                    </font></mark><mark style=\"background-color: hsl(0, 75%, 100%); opacity:1.0;                     line-height:1.75\"><font color=\"black\"> magnitude                    </font></mark><mark style=\"background-color: hsl(0, 75%, 97%); opacity:1.0;                     line-height:1.75\"><font color=\"black\"> will                    </font></mark><mark style=\"background-color: hsl(120, 75%, 94%); opacity:1.0;                     line-height:1.75\"><font color=\"black\"> be                    </font></mark><mark style=\"background-color: hsl(120, 75%, 91%); opacity:1.0;                     line-height:1.75\"><font color=\"black\"> about                    </font></mark><mark style=\"background-color: hsl(120, 75%, 90%); opacity:1.0;                     line-height:1.75\"><font color=\"black\"> 10.5                    </font></mark><mark style=\"background-color: hsl(120, 75%, 91%); opacity:1.0;                     line-height:1.75\"><font color=\"black\"> around                    </font></mark><mark style=\"background-color: hsl(120, 75%, 100%); opacity:1.0;                     line-height:1.75\"><font color=\"black\"> February                    </font></mark><mark style=\"background-color: hsl(0, 75%, 98%); opacity:1.0;                     line-height:1.75\"><font color=\"black\"> 2nd.                    </font></mark><mark style=\"background-color: hsl(120, 75%, 95%); opacity:1.0;                     line-height:1.75\"><font color=\"black\"> #/s                    </font></mark><mark style=\"background-color: hsl(120, 75%, 100%); opacity:1.0;                     line-height:1.75\"><font color=\"black\"> #/s                    </font></mark><mark style=\"background-color: hsl(120, 75%, 91%); opacity:1.0;                     line-height:1.75\"><font color=\"black\"> The                    </font></mark><mark style=\"background-color: hsl(0, 75%, 100%); opacity:1.0;                     line-height:1.75\"><font color=\"black\"> AAVSO                    </font></mark><mark style=\"background-color: hsl(0, 75%, 90%); opacity:1.0;                     line-height:1.75\"><font color=\"black\"> data                    </font></mark><mark style=\"background-color: hsl(0, 75%, 98%); opacity:1.0;                     line-height:1.75\"><font color=\"black\"> seems                    </font></mark><mark style=\"background-color: hsl(0, 75%, 94%); opacity:1.0;                     line-height:1.75\"><font color=\"black\"> to                    </font></mark><mark style=\"background-color: hsl(0, 75%, 96%); opacity:1.0;                     line-height:1.75\"><font color=\"black\"> indicate                    </font></mark><mark style=\"background-color: hsl(120, 75%, 97%); opacity:1.0;                     line-height:1.75\"><font color=\"black\"> that                    </font></mark><mark style=\"background-color: hsl(120, 75%, 97%); opacity:1.0;                     line-height:1.75\"><font color=\"black\"> it                    </font></mark><mark style=\"background-color: hsl(120, 75%, 87%); opacity:1.0;                     line-height:1.75\"><font color=\"black\"> might                    </font></mark><mark style=\"background-color: hsl(0, 75%, 99%); opacity:1.0;                     line-height:1.75\"><font color=\"black\"> have                    </font></mark><mark style=\"background-color: hsl(0, 75%, 96%); opacity:1.0;                     line-height:1.75\"><font color=\"black\"> already                    </font></mark><mark style=\"background-color: hsl(120, 75%, 90%); opacity:1.0;                     line-height:1.75\"><font color=\"black\"> peaked,                    </font></mark><mark style=\"background-color: hsl(0, 75%, 91%); opacity:1.0;                     line-height:1.75\"><font color=\"black\"> at                    </font></mark><mark style=\"background-color: hsl(0, 75%, 100%); opacity:1.0;                     line-height:1.75\"><font color=\"black\"> around                    </font></mark><mark style=\"background-color: hsl(0, 75%, 100%); opacity:1.0;                     line-height:1.75\"><font color=\"black\"> 10.5                    </font></mark><mark style=\"background-color: hsl(0, 75%, 88%); opacity:1.0;                     line-height:1.75\"><font color=\"black\"> (visual).                    </font></mark><mark style=\"background-color: hsl(0, 75%, 91%); opacity:1.0;                     line-height:1.75\"><font color=\"black\"> #/s                    </font></mark></td><tr></table>"
      ],
      "text/plain": [
       "<IPython.core.display.HTML object>"
      ]
     },
     "metadata": {},
     "output_type": "display_data"
    },
    {
     "name": "stderr",
     "output_type": "stream",
     "text": [
      "/home/user/anaconda3/envs/py38/lib/python3.9/site-packages/captum/attr/_core/lime.py:1088: UserWarning: Attempting to construct interpretable model with > 10000 features.This can be very slow or lead to OOM issues. Please provide a featuremask which groups input features to reduce the number of interpretablefeatures. \n",
      "  warnings.warn(\n"
     ]
    },
    {
     "name": "stdout",
     "output_type": "stream",
     "text": [
      "<IPython.core.display.HTML object>\n",
      "Raw review: ['Is it possible for a match to get tie even after applying D/L method?', \"Yes, it's possible for a match to get tie after applying the D/L method.\"]\n",
      "GT target: 4.0\n",
      "pred_prob 3.2219207286834717\n"
     ]
    },
    {
     "name": "stderr",
     "output_type": "stream",
     "text": [
      "Kernel Shap attribution: 100%|██████████████████████████████████████████████████████████| 10/10 [00:59<00:00,  5.95s/it]\n"
     ]
    },
    {
     "name": "stdout",
     "output_type": "stream",
     "text": [
      "word attr tensor([-0.0444, -0.3656,  0.1857,  0.2693, -0.1225,  0.0766,  0.2433, -0.0401,\n",
      "        -0.0564, -0.0247, -0.0618,  0.0227,  0.1624, -0.1622,  0.0842,  0.2587,\n",
      "         0.0889,  0.1980,  0.2421, -0.0284, -0.2844, -0.0570,  0.1421, -0.1277,\n",
      "         0.1220,  0.2564,  0.0905,  0.2995, -0.0379, -0.1398,  0.1191,  0.1079,\n",
      "         0.1186,  0.1504, -0.0779, -0.1552, -0.1215,  0.0058, -0.0667,  0.0481])\n",
      "conti attr [tensor(-0.0444), tensor(-0.3656), tensor(0.1857), tensor(0.2693), tensor(-0.1225), tensor(0.0766), tensor(0.2433), tensor(-0.0401), tensor(-0.0564), tensor(-0.0247), tensor(-0.0618), tensor(0.0227), tensor(0.1624), tensor(0.1808), tensor(0.2870), tensor(0.2421), tensor(-0.0284), tensor(-0.3414), tensor(0.0144), tensor(0.1220), tensor(0.2564), tensor(0.0905), tensor(0.2995), tensor(-0.0379), tensor(-0.1398), tensor(0.1191), tensor(0.1079), tensor(0.1186), tensor(0.1504), tensor(-0.3546), tensor(-0.0609), tensor(0.0481)]\n",
      "detokenized ['<s>', 'Is', 'it', 'possible', 'for', 'a', 'match', 'to', 'get', 'tie', 'even', 'after', 'applying', 'D', '/', 'L', 'method', '?', '</s>', '</s>', 'Yes', ',', 'it', \"'s\", 'possible', 'for', 'a', 'match', 'to', 'get', 'tie', 'after', 'applying', 'the', 'D', '/', 'L', 'method', '.', '</s>']\n",
      "len conti_raw 32\n",
      "conti_raw ['<s>', 'Is', 'it', 'possible', 'for', 'a', 'match', 'to', 'get', 'tie', 'even', 'after', 'applying', 'D/L', 'method?', '</s>', '</s>', 'Yes,', \"it's\", 'possible', 'for', 'a', 'match', 'to', 'get', 'tie', 'after', 'applying', 'the', 'D/L', 'method.', '</s>']\n"
     ]
    },
    {
     "data": {
      "text/html": [
       "<table width: 100%><div style=\"border-top: 1px solid; margin-top: 5px;             padding-top: 5px; display: inline-block\"><b>Legend: </b><span style=\"display: inline-block; width: 10px; height: 10px;                 border: 1px solid; background-color:                 hsl(0, 75%, 60%)\"></span> Negative  <span style=\"display: inline-block; width: 10px; height: 10px;                 border: 1px solid; background-color:                 hsl(0, 75%, 100%)\"></span> Neutral  <span style=\"display: inline-block; width: 10px; height: 10px;                 border: 1px solid; background-color:                 hsl(120, 75%, 50%)\"></span> Positive  </div><tr><th>True Label</th><th>Predicted Label</th><th>Attribution Label</th><th>Attribution Score</th><th>Word Importance</th><tr><td><text style=\"padding-right:2em\"><b>Similar</b></text></td><td><text style=\"padding-right:2em\"><b>Similar (0.64)</b></text></td><td><text style=\"padding-right:2em\"><b>Similar</b></text></td><td><text style=\"padding-right:2em\"><b>1.32</b></text></td><td><mark style=\"background-color: hsl(0, 75%, 99%); opacity:1.0;                     line-height:1.75\"><font color=\"black\"> #s                    </font></mark><mark style=\"background-color: hsl(0, 75%, 86%); opacity:1.0;                     line-height:1.75\"><font color=\"black\"> Is                    </font></mark><mark style=\"background-color: hsl(120, 75%, 91%); opacity:1.0;                     line-height:1.75\"><font color=\"black\"> it                    </font></mark><mark style=\"background-color: hsl(120, 75%, 87%); opacity:1.0;                     line-height:1.75\"><font color=\"black\"> possible                    </font></mark><mark style=\"background-color: hsl(0, 75%, 96%); opacity:1.0;                     line-height:1.75\"><font color=\"black\"> for                    </font></mark><mark style=\"background-color: hsl(120, 75%, 97%); opacity:1.0;                     line-height:1.75\"><font color=\"black\"> a                    </font></mark><mark style=\"background-color: hsl(120, 75%, 88%); opacity:1.0;                     line-height:1.75\"><font color=\"black\"> match                    </font></mark><mark style=\"background-color: hsl(0, 75%, 99%); opacity:1.0;                     line-height:1.75\"><font color=\"black\"> to                    </font></mark><mark style=\"background-color: hsl(0, 75%, 98%); opacity:1.0;                     line-height:1.75\"><font color=\"black\"> get                    </font></mark><mark style=\"background-color: hsl(0, 75%, 100%); opacity:1.0;                     line-height:1.75\"><font color=\"black\"> tie                    </font></mark><mark style=\"background-color: hsl(0, 75%, 98%); opacity:1.0;                     line-height:1.75\"><font color=\"black\"> even                    </font></mark><mark style=\"background-color: hsl(120, 75%, 99%); opacity:1.0;                     line-height:1.75\"><font color=\"black\"> after                    </font></mark><mark style=\"background-color: hsl(120, 75%, 92%); opacity:1.0;                     line-height:1.75\"><font color=\"black\"> applying                    </font></mark><mark style=\"background-color: hsl(120, 75%, 91%); opacity:1.0;                     line-height:1.75\"><font color=\"black\"> D/L                    </font></mark><mark style=\"background-color: hsl(120, 75%, 86%); opacity:1.0;                     line-height:1.75\"><font color=\"black\"> method?                    </font></mark><mark style=\"background-color: hsl(120, 75%, 88%); opacity:1.0;                     line-height:1.75\"><font color=\"black\"> #/s                    </font></mark><mark style=\"background-color: hsl(0, 75%, 99%); opacity:1.0;                     line-height:1.75\"><font color=\"black\"> #/s                    </font></mark><mark style=\"background-color: hsl(0, 75%, 87%); opacity:1.0;                     line-height:1.75\"><font color=\"black\"> Yes,                    </font></mark><mark style=\"background-color: hsl(120, 75%, 100%); opacity:1.0;                     line-height:1.75\"><font color=\"black\"> it's                    </font></mark><mark style=\"background-color: hsl(120, 75%, 94%); opacity:1.0;                     line-height:1.75\"><font color=\"black\"> possible                    </font></mark><mark style=\"background-color: hsl(120, 75%, 88%); opacity:1.0;                     line-height:1.75\"><font color=\"black\"> for                    </font></mark><mark style=\"background-color: hsl(120, 75%, 96%); opacity:1.0;                     line-height:1.75\"><font color=\"black\"> a                    </font></mark><mark style=\"background-color: hsl(120, 75%, 86%); opacity:1.0;                     line-height:1.75\"><font color=\"black\"> match                    </font></mark><mark style=\"background-color: hsl(0, 75%, 99%); opacity:1.0;                     line-height:1.75\"><font color=\"black\"> to                    </font></mark><mark style=\"background-color: hsl(0, 75%, 95%); opacity:1.0;                     line-height:1.75\"><font color=\"black\"> get                    </font></mark><mark style=\"background-color: hsl(120, 75%, 95%); opacity:1.0;                     line-height:1.75\"><font color=\"black\"> tie                    </font></mark><mark style=\"background-color: hsl(120, 75%, 95%); opacity:1.0;                     line-height:1.75\"><font color=\"black\"> after                    </font></mark><mark style=\"background-color: hsl(120, 75%, 95%); opacity:1.0;                     line-height:1.75\"><font color=\"black\"> applying                    </font></mark><mark style=\"background-color: hsl(120, 75%, 93%); opacity:1.0;                     line-height:1.75\"><font color=\"black\"> the                    </font></mark><mark style=\"background-color: hsl(0, 75%, 86%); opacity:1.0;                     line-height:1.75\"><font color=\"black\"> D/L                    </font></mark><mark style=\"background-color: hsl(0, 75%, 98%); opacity:1.0;                     line-height:1.75\"><font color=\"black\"> method.                    </font></mark><mark style=\"background-color: hsl(120, 75%, 98%); opacity:1.0;                     line-height:1.75\"><font color=\"black\"> #/s                    </font></mark></td><tr></table>"
      ],
      "text/plain": [
       "<IPython.core.display.HTML object>"
      ]
     },
     "metadata": {},
     "output_type": "display_data"
    },
    {
     "name": "stderr",
     "output_type": "stream",
     "text": [
      "/home/user/anaconda3/envs/py38/lib/python3.9/site-packages/captum/attr/_core/lime.py:1088: UserWarning: Attempting to construct interpretable model with > 10000 features.This can be very slow or lead to OOM issues. Please provide a featuremask which groups input features to reduce the number of interpretablefeatures. \n",
      "  warnings.warn(\n"
     ]
    },
    {
     "name": "stdout",
     "output_type": "stream",
     "text": [
      "<IPython.core.display.HTML object>\n",
      "Raw review: ['Eclipse Below are list of eclipse shortcuts which I use almost everyday.', 'To train yourself to use keyboard shortcuts, unplug your mouse for a few days.']\n",
      "GT target: 0.6000000238418579\n",
      "pred_prob 0.666646882891655\n"
     ]
    },
    {
     "name": "stderr",
     "output_type": "stream",
     "text": [
      "Kernel Shap attribution: 100%|██████████████████████████████████████████████████████████| 10/10 [00:50<00:00,  5.05s/it]\n"
     ]
    },
    {
     "name": "stdout",
     "output_type": "stream",
     "text": [
      "word attr tensor([ 0.1032,  0.0268,  0.1415, -0.2250, -0.0223, -0.0853, -0.0584,  0.3179,\n",
      "         0.1751, -0.2849,  0.0930,  0.3907, -0.1921, -0.0058, -0.0106, -0.3065,\n",
      "        -0.0312, -0.0078,  0.0601,  0.0725, -0.1728,  0.1571, -0.2118, -0.0597,\n",
      "         0.0430,  0.0711,  0.1249,  0.1662,  0.0224, -0.2807,  0.1505, -0.1113,\n",
      "         0.0916,  0.0371, -0.3383])\n",
      "conti attr [tensor(0.1032), tensor(0.1683), tensor(-0.2250), tensor(-0.0223), tensor(-0.0853), tensor(-0.0584), tensor(0.3179), tensor(0.1751), tensor(-0.2849), tensor(0.0930), tensor(0.3907), tensor(-0.1921), tensor(-0.0164), tensor(-0.3065), tensor(-0.0312), tensor(-0.0078), tensor(0.0601), tensor(0.0725), tensor(-0.1728), tensor(0.1571), tensor(-0.2118), tensor(-0.0167), tensor(0.1960), tensor(0.1662), tensor(0.0224), tensor(-0.2807), tensor(0.1505), tensor(-0.1113), tensor(0.1287), tensor(-0.3383)]\n",
      "detokenized ['<s>', 'E', 'clipse', 'Below', 'are', 'list', 'of', 'eclipse', 'shortcuts', 'which', 'I', 'use', 'almost', 'everyday', '.', '</s>', '</s>', 'To', 'train', 'yourself', 'to', 'use', 'keyboard', 'shortcuts', ',', 'un', 'plug', 'your', 'mouse', 'for', 'a', 'few', 'days', '.', '</s>']\n",
      "len conti_raw 30\n",
      "conti_raw ['<s>', 'Eclipse', 'Below', 'are', 'list', 'of', 'eclipse', 'shortcuts', 'which', 'I', 'use', 'almost', 'everyday.', '</s>', '</s>', 'To', 'train', 'yourself', 'to', 'use', 'keyboard', 'shortcuts,', 'unplug', 'your', 'mouse', 'for', 'a', 'few', 'days.', '</s>']\n"
     ]
    },
    {
     "data": {
      "text/html": [
       "<table width: 100%><div style=\"border-top: 1px solid; margin-top: 5px;             padding-top: 5px; display: inline-block\"><b>Legend: </b><span style=\"display: inline-block; width: 10px; height: 10px;                 border: 1px solid; background-color:                 hsl(0, 75%, 60%)\"></span> Negative  <span style=\"display: inline-block; width: 10px; height: 10px;                 border: 1px solid; background-color:                 hsl(0, 75%, 100%)\"></span> Neutral  <span style=\"display: inline-block; width: 10px; height: 10px;                 border: 1px solid; background-color:                 hsl(120, 75%, 50%)\"></span> Positive  </div><tr><th>True Label</th><th>Predicted Label</th><th>Attribution Label</th><th>Attribution Score</th><th>Word Importance</th><tr><td><text style=\"padding-right:2em\"><b>Not Similar</b></text></td><td><text style=\"padding-right:2em\"><b>Not Similar (0.13)</b></text></td><td><text style=\"padding-right:2em\"><b>Not Similar</b></text></td><td><text style=\"padding-right:2em\"><b>-0.16</b></text></td><td><mark style=\"background-color: hsl(120, 75%, 95%); opacity:1.0;                     line-height:1.75\"><font color=\"black\"> #s                    </font></mark><mark style=\"background-color: hsl(120, 75%, 92%); opacity:1.0;                     line-height:1.75\"><font color=\"black\"> Eclipse                    </font></mark><mark style=\"background-color: hsl(0, 75%, 91%); opacity:1.0;                     line-height:1.75\"><font color=\"black\"> Below                    </font></mark><mark style=\"background-color: hsl(0, 75%, 100%); opacity:1.0;                     line-height:1.75\"><font color=\"black\"> are                    </font></mark><mark style=\"background-color: hsl(0, 75%, 97%); opacity:1.0;                     line-height:1.75\"><font color=\"black\"> list                    </font></mark><mark style=\"background-color: hsl(0, 75%, 98%); opacity:1.0;                     line-height:1.75\"><font color=\"black\"> of                    </font></mark><mark style=\"background-color: hsl(120, 75%, 85%); opacity:1.0;                     line-height:1.75\"><font color=\"black\"> eclipse                    </font></mark><mark style=\"background-color: hsl(120, 75%, 92%); opacity:1.0;                     line-height:1.75\"><font color=\"black\"> shortcuts                    </font></mark><mark style=\"background-color: hsl(0, 75%, 89%); opacity:1.0;                     line-height:1.75\"><font color=\"black\"> which                    </font></mark><mark style=\"background-color: hsl(120, 75%, 96%); opacity:1.0;                     line-height:1.75\"><font color=\"black\"> I                    </font></mark><mark style=\"background-color: hsl(120, 75%, 81%); opacity:1.0;                     line-height:1.75\"><font color=\"black\"> use                    </font></mark><mark style=\"background-color: hsl(0, 75%, 93%); opacity:1.0;                     line-height:1.75\"><font color=\"black\"> almost                    </font></mark><mark style=\"background-color: hsl(0, 75%, 100%); opacity:1.0;                     line-height:1.75\"><font color=\"black\"> everyday.                    </font></mark><mark style=\"background-color: hsl(0, 75%, 88%); opacity:1.0;                     line-height:1.75\"><font color=\"black\"> #/s                    </font></mark><mark style=\"background-color: hsl(0, 75%, 99%); opacity:1.0;                     line-height:1.75\"><font color=\"black\"> #/s                    </font></mark><mark style=\"background-color: hsl(0, 75%, 100%); opacity:1.0;                     line-height:1.75\"><font color=\"black\"> To                    </font></mark><mark style=\"background-color: hsl(120, 75%, 97%); opacity:1.0;                     line-height:1.75\"><font color=\"black\"> train                    </font></mark><mark style=\"background-color: hsl(120, 75%, 97%); opacity:1.0;                     line-height:1.75\"><font color=\"black\"> yourself                    </font></mark><mark style=\"background-color: hsl(0, 75%, 94%); opacity:1.0;                     line-height:1.75\"><font color=\"black\"> to                    </font></mark><mark style=\"background-color: hsl(120, 75%, 93%); opacity:1.0;                     line-height:1.75\"><font color=\"black\"> use                    </font></mark><mark style=\"background-color: hsl(0, 75%, 92%); opacity:1.0;                     line-height:1.75\"><font color=\"black\"> keyboard                    </font></mark><mark style=\"background-color: hsl(0, 75%, 100%); opacity:1.0;                     line-height:1.75\"><font color=\"black\"> shortcuts,                    </font></mark><mark style=\"background-color: hsl(120, 75%, 91%); opacity:1.0;                     line-height:1.75\"><font color=\"black\"> unplug                    </font></mark><mark style=\"background-color: hsl(120, 75%, 92%); opacity:1.0;                     line-height:1.75\"><font color=\"black\"> your                    </font></mark><mark style=\"background-color: hsl(120, 75%, 99%); opacity:1.0;                     line-height:1.75\"><font color=\"black\"> mouse                    </font></mark><mark style=\"background-color: hsl(0, 75%, 89%); opacity:1.0;                     line-height:1.75\"><font color=\"black\"> for                    </font></mark><mark style=\"background-color: hsl(120, 75%, 93%); opacity:1.0;                     line-height:1.75\"><font color=\"black\"> a                    </font></mark><mark style=\"background-color: hsl(0, 75%, 96%); opacity:1.0;                     line-height:1.75\"><font color=\"black\"> few                    </font></mark><mark style=\"background-color: hsl(120, 75%, 94%); opacity:1.0;                     line-height:1.75\"><font color=\"black\"> days.                    </font></mark><mark style=\"background-color: hsl(0, 75%, 87%); opacity:1.0;                     line-height:1.75\"><font color=\"black\"> #/s                    </font></mark></td><tr></table>"
      ],
      "text/plain": [
       "<IPython.core.display.HTML object>"
      ]
     },
     "metadata": {},
     "output_type": "display_data"
    },
    {
     "name": "stderr",
     "output_type": "stream",
     "text": [
      "/home/user/anaconda3/envs/py38/lib/python3.9/site-packages/captum/attr/_core/lime.py:1088: UserWarning: Attempting to construct interpretable model with > 10000 features.This can be very slow or lead to OOM issues. Please provide a featuremask which groups input features to reduce the number of interpretablefeatures. \n",
      "  warnings.warn(\n"
     ]
    },
    {
     "name": "stdout",
     "output_type": "stream",
     "text": [
      "<IPython.core.display.HTML object>\n",
      "Raw review: ['A woman and child push strollers down the sidewalk.', 'A women and a young girl walking pushchairs along the sidewalk.']\n",
      "GT target: 3.4000000953674316\n",
      "pred_prob 4.378781616687775\n"
     ]
    },
    {
     "name": "stderr",
     "output_type": "stream",
     "text": [
      "Kernel Shap attribution: 100%|██████████████████████████████████████████████████████████| 10/10 [00:40<00:00,  4.01s/it]\n"
     ]
    },
    {
     "name": "stdout",
     "output_type": "stream",
     "text": [
      "word attr tensor([ 0.2049,  0.1574,  0.2574, -0.0232, -0.0645,  0.0426,  0.1415,  0.3316,\n",
      "        -0.0562,  0.2407,  0.4356,  0.0609,  0.2857,  0.0346, -0.0873,  0.1251,\n",
      "         0.2385, -0.2142, -0.0043,  0.1470,  0.2523, -0.0758, -0.0378, -0.0429,\n",
      "        -0.1185, -0.2361,  0.1935, -0.2561])\n",
      "conti attr [tensor(0.2049), tensor(0.1574), tensor(0.2574), tensor(-0.0232), tensor(-0.0645), tensor(0.0426), tensor(0.4731), tensor(-0.0562), tensor(0.2407), tensor(0.4965), tensor(0.2857), tensor(0.0346), tensor(-0.0873), tensor(0.1251), tensor(0.2385), tensor(-0.2142), tensor(-0.0043), tensor(0.1470), tensor(0.2523), tensor(-0.1136), tensor(-0.0429), tensor(-0.1185), tensor(-0.0426), tensor(-0.2561)]\n",
      "detokenized ['<s>', 'A', 'woman', 'and', 'child', 'push', 'st', 'rollers', 'down', 'the', 'sidewalk', '.', '</s>', '</s>', 'A', 'women', 'and', 'a', 'young', 'girl', 'walking', 'push', 'chairs', 'along', 'the', 'sidewalk', '.', '</s>']\n",
      "len conti_raw 24\n",
      "conti_raw ['<s>', 'A', 'woman', 'and', 'child', 'push', 'strollers', 'down', 'the', 'sidewalk.', '</s>', '</s>', 'A', 'women', 'and', 'a', 'young', 'girl', 'walking', 'pushchairs', 'along', 'the', 'sidewalk.', '</s>']\n"
     ]
    },
    {
     "data": {
      "text/html": [
       "<table width: 100%><div style=\"border-top: 1px solid; margin-top: 5px;             padding-top: 5px; display: inline-block\"><b>Legend: </b><span style=\"display: inline-block; width: 10px; height: 10px;                 border: 1px solid; background-color:                 hsl(0, 75%, 60%)\"></span> Negative  <span style=\"display: inline-block; width: 10px; height: 10px;                 border: 1px solid; background-color:                 hsl(0, 75%, 100%)\"></span> Neutral  <span style=\"display: inline-block; width: 10px; height: 10px;                 border: 1px solid; background-color:                 hsl(120, 75%, 50%)\"></span> Positive  </div><tr><th>True Label</th><th>Predicted Label</th><th>Attribution Label</th><th>Attribution Score</th><th>Word Importance</th><tr><td><text style=\"padding-right:2em\"><b>Similar</b></text></td><td><text style=\"padding-right:2em\"><b>Similar (0.88)</b></text></td><td><text style=\"padding-right:2em\"><b>Similar</b></text></td><td><text style=\"padding-right:2em\"><b>1.93</b></text></td><td><mark style=\"background-color: hsl(120, 75%, 90%); opacity:1.0;                     line-height:1.75\"><font color=\"black\"> #s                    </font></mark><mark style=\"background-color: hsl(120, 75%, 93%); opacity:1.0;                     line-height:1.75\"><font color=\"black\"> A                    </font></mark><mark style=\"background-color: hsl(120, 75%, 88%); opacity:1.0;                     line-height:1.75\"><font color=\"black\"> woman                    </font></mark><mark style=\"background-color: hsl(0, 75%, 100%); opacity:1.0;                     line-height:1.75\"><font color=\"black\"> and                    </font></mark><mark style=\"background-color: hsl(0, 75%, 98%); opacity:1.0;                     line-height:1.75\"><font color=\"black\"> child                    </font></mark><mark style=\"background-color: hsl(120, 75%, 98%); opacity:1.0;                     line-height:1.75\"><font color=\"black\"> push                    </font></mark><mark style=\"background-color: hsl(120, 75%, 77%); opacity:1.0;                     line-height:1.75\"><font color=\"black\"> strollers                    </font></mark><mark style=\"background-color: hsl(0, 75%, 98%); opacity:1.0;                     line-height:1.75\"><font color=\"black\"> down                    </font></mark><mark style=\"background-color: hsl(120, 75%, 88%); opacity:1.0;                     line-height:1.75\"><font color=\"black\"> the                    </font></mark><mark style=\"background-color: hsl(120, 75%, 76%); opacity:1.0;                     line-height:1.75\"><font color=\"black\"> sidewalk.                    </font></mark><mark style=\"background-color: hsl(120, 75%, 86%); opacity:1.0;                     line-height:1.75\"><font color=\"black\"> #/s                    </font></mark><mark style=\"background-color: hsl(120, 75%, 99%); opacity:1.0;                     line-height:1.75\"><font color=\"black\"> #/s                    </font></mark><mark style=\"background-color: hsl(0, 75%, 97%); opacity:1.0;                     line-height:1.75\"><font color=\"black\"> A                    </font></mark><mark style=\"background-color: hsl(120, 75%, 94%); opacity:1.0;                     line-height:1.75\"><font color=\"black\"> women                    </font></mark><mark style=\"background-color: hsl(120, 75%, 89%); opacity:1.0;                     line-height:1.75\"><font color=\"black\"> and                    </font></mark><mark style=\"background-color: hsl(0, 75%, 92%); opacity:1.0;                     line-height:1.75\"><font color=\"black\"> a                    </font></mark><mark style=\"background-color: hsl(0, 75%, 100%); opacity:1.0;                     line-height:1.75\"><font color=\"black\"> young                    </font></mark><mark style=\"background-color: hsl(120, 75%, 93%); opacity:1.0;                     line-height:1.75\"><font color=\"black\"> girl                    </font></mark><mark style=\"background-color: hsl(120, 75%, 88%); opacity:1.0;                     line-height:1.75\"><font color=\"black\"> walking                    </font></mark><mark style=\"background-color: hsl(0, 75%, 96%); opacity:1.0;                     line-height:1.75\"><font color=\"black\"> pushchairs                    </font></mark><mark style=\"background-color: hsl(0, 75%, 99%); opacity:1.0;                     line-height:1.75\"><font color=\"black\"> along                    </font></mark><mark style=\"background-color: hsl(0, 75%, 96%); opacity:1.0;                     line-height:1.75\"><font color=\"black\"> the                    </font></mark><mark style=\"background-color: hsl(0, 75%, 99%); opacity:1.0;                     line-height:1.75\"><font color=\"black\"> sidewalk.                    </font></mark><mark style=\"background-color: hsl(0, 75%, 90%); opacity:1.0;                     line-height:1.75\"><font color=\"black\"> #/s                    </font></mark></td><tr></table>"
      ],
      "text/plain": [
       "<IPython.core.display.HTML object>"
      ]
     },
     "metadata": {},
     "output_type": "display_data"
    },
    {
     "name": "stderr",
     "output_type": "stream",
     "text": [
      "/home/user/anaconda3/envs/py38/lib/python3.9/site-packages/captum/attr/_core/lime.py:1088: UserWarning: Attempting to construct interpretable model with > 10000 features.This can be very slow or lead to OOM issues. Please provide a featuremask which groups input features to reduce the number of interpretablefeatures. \n",
      "  warnings.warn(\n"
     ]
    },
    {
     "name": "stdout",
     "output_type": "stream",
     "text": [
      "<IPython.core.display.HTML object>\n",
      "Raw review: ['ICC lawyer detained in Libya on security concerns', 'ICC lawyer held in Libya faces 45-day detention']\n",
      "GT target: 3.4000000953674316\n",
      "pred_prob 3.1552401185035706\n"
     ]
    },
    {
     "name": "stderr",
     "output_type": "stream",
     "text": [
      "Kernel Shap attribution: 100%|██████████████████████████████████████████████████████████| 10/10 [00:34<00:00,  3.44s/it]\n"
     ]
    },
    {
     "name": "stdout",
     "output_type": "stream",
     "text": [
      "word attr tensor([-0.3740,  0.1594, -0.1030,  0.0920,  0.2770,  0.2223,  0.2251, -0.2592,\n",
      "         0.0580, -0.2592, -0.3647, -0.1581,  0.1967, -0.0478, -0.2757,  0.0168,\n",
      "         0.0028,  0.0294,  0.3922, -0.0669,  0.1407,  0.1767, -0.1191,  0.0385])\n",
      "conti attr [tensor(-0.3740), tensor(0.0564), tensor(0.0920), tensor(0.2770), tensor(0.2223), tensor(0.2251), tensor(-0.2592), tensor(0.0580), tensor(-0.2592), tensor(-0.3647), tensor(-0.1581), tensor(0.1489), tensor(-0.2757), tensor(0.0168), tensor(0.0028), tensor(0.0294), tensor(0.3922), tensor(0.2504), tensor(-0.1191), tensor(0.0385)]\n",
      "detokenized ['<s>', 'IC', 'C', 'lawyer', 'detained', 'in', 'Libya', 'on', 'security', 'concerns', '</s>', '</s>', 'IC', 'C', 'lawyer', 'held', 'in', 'Libya', 'faces', '45', '-', 'day', 'detention', '</s>']\n",
      "len conti_raw 20\n",
      "conti_raw ['<s>', 'ICC', 'lawyer', 'detained', 'in', 'Libya', 'on', 'security', 'concerns', '</s>', '</s>', 'ICC', 'lawyer', 'held', 'in', 'Libya', 'faces', '45-day', 'detention', '</s>']\n"
     ]
    },
    {
     "data": {
      "text/html": [
       "<table width: 100%><div style=\"border-top: 1px solid; margin-top: 5px;             padding-top: 5px; display: inline-block\"><b>Legend: </b><span style=\"display: inline-block; width: 10px; height: 10px;                 border: 1px solid; background-color:                 hsl(0, 75%, 60%)\"></span> Negative  <span style=\"display: inline-block; width: 10px; height: 10px;                 border: 1px solid; background-color:                 hsl(0, 75%, 100%)\"></span> Neutral  <span style=\"display: inline-block; width: 10px; height: 10px;                 border: 1px solid; background-color:                 hsl(120, 75%, 50%)\"></span> Positive  </div><tr><th>True Label</th><th>Predicted Label</th><th>Attribution Label</th><th>Attribution Score</th><th>Word Importance</th><tr><td><text style=\"padding-right:2em\"><b>Similar</b></text></td><td><text style=\"padding-right:2em\"><b>Similar (0.63)</b></text></td><td><text style=\"padding-right:2em\"><b>Not Similar</b></text></td><td><text style=\"padding-right:2em\"><b>-0.00</b></text></td><td><mark style=\"background-color: hsl(0, 75%, 86%); opacity:1.0;                     line-height:1.75\"><font color=\"black\"> #s                    </font></mark><mark style=\"background-color: hsl(120, 75%, 98%); opacity:1.0;                     line-height:1.75\"><font color=\"black\"> ICC                    </font></mark><mark style=\"background-color: hsl(120, 75%, 96%); opacity:1.0;                     line-height:1.75\"><font color=\"black\"> lawyer                    </font></mark><mark style=\"background-color: hsl(120, 75%, 87%); opacity:1.0;                     line-height:1.75\"><font color=\"black\"> detained                    </font></mark><mark style=\"background-color: hsl(120, 75%, 89%); opacity:1.0;                     line-height:1.75\"><font color=\"black\"> in                    </font></mark><mark style=\"background-color: hsl(120, 75%, 89%); opacity:1.0;                     line-height:1.75\"><font color=\"black\"> Libya                    </font></mark><mark style=\"background-color: hsl(0, 75%, 90%); opacity:1.0;                     line-height:1.75\"><font color=\"black\"> on                    </font></mark><mark style=\"background-color: hsl(120, 75%, 98%); opacity:1.0;                     line-height:1.75\"><font color=\"black\"> security                    </font></mark><mark style=\"background-color: hsl(0, 75%, 90%); opacity:1.0;                     line-height:1.75\"><font color=\"black\"> concerns                    </font></mark><mark style=\"background-color: hsl(0, 75%, 86%); opacity:1.0;                     line-height:1.75\"><font color=\"black\"> #/s                    </font></mark><mark style=\"background-color: hsl(0, 75%, 94%); opacity:1.0;                     line-height:1.75\"><font color=\"black\"> #/s                    </font></mark><mark style=\"background-color: hsl(120, 75%, 93%); opacity:1.0;                     line-height:1.75\"><font color=\"black\"> ICC                    </font></mark><mark style=\"background-color: hsl(0, 75%, 89%); opacity:1.0;                     line-height:1.75\"><font color=\"black\"> lawyer                    </font></mark><mark style=\"background-color: hsl(120, 75%, 100%); opacity:1.0;                     line-height:1.75\"><font color=\"black\"> held                    </font></mark><mark style=\"background-color: hsl(120, 75%, 100%); opacity:1.0;                     line-height:1.75\"><font color=\"black\"> in                    </font></mark><mark style=\"background-color: hsl(120, 75%, 99%); opacity:1.0;                     line-height:1.75\"><font color=\"black\"> Libya                    </font></mark><mark style=\"background-color: hsl(120, 75%, 81%); opacity:1.0;                     line-height:1.75\"><font color=\"black\"> faces                    </font></mark><mark style=\"background-color: hsl(120, 75%, 88%); opacity:1.0;                     line-height:1.75\"><font color=\"black\"> 45-day                    </font></mark><mark style=\"background-color: hsl(0, 75%, 96%); opacity:1.0;                     line-height:1.75\"><font color=\"black\"> detention                    </font></mark><mark style=\"background-color: hsl(120, 75%, 99%); opacity:1.0;                     line-height:1.75\"><font color=\"black\"> #/s                    </font></mark></td><tr></table>"
      ],
      "text/plain": [
       "<IPython.core.display.HTML object>"
      ]
     },
     "metadata": {},
     "output_type": "display_data"
    },
    {
     "name": "stderr",
     "output_type": "stream",
     "text": [
      "/home/user/anaconda3/envs/py38/lib/python3.9/site-packages/captum/attr/_core/lime.py:1088: UserWarning: Attempting to construct interpretable model with > 10000 features.This can be very slow or lead to OOM issues. Please provide a featuremask which groups input features to reduce the number of interpretablefeatures. \n",
      "  warnings.warn(\n"
     ]
    },
    {
     "name": "stdout",
     "output_type": "stream",
     "text": [
      "<IPython.core.display.HTML object>\n",
      "Raw review: ['The flag was moving in the air.', 'A flag is waving.']\n",
      "GT target: 3.75\n",
      "pred_prob 4.404574930667877\n"
     ]
    },
    {
     "name": "stderr",
     "output_type": "stream",
     "text": [
      "Kernel Shap attribution: 100%|██████████████████████████████████████████████████████████| 10/10 [00:24<00:00,  2.49s/it]\n"
     ]
    },
    {
     "name": "stdout",
     "output_type": "stream",
     "text": [
      "word attr tensor([ 0.3261,  0.1642, -0.2638,  0.2255, -0.0437,  0.2459,  0.0413, -0.2763,\n",
      "         0.3361,  0.0293,  0.2737, -0.0883,  0.0605,  0.4644,  0.4316,  0.0204,\n",
      "        -0.0570])\n",
      "conti attr [tensor(0.3261), tensor(0.1642), tensor(-0.2638), tensor(0.2255), tensor(-0.0437), tensor(0.2459), tensor(0.0413), tensor(0.0598), tensor(0.0293), tensor(0.2737), tensor(-0.0883), tensor(0.0605), tensor(0.4644), tensor(0.4520), tensor(-0.0570)]\n",
      "detokenized ['<s>', 'The', 'flag', 'was', 'moving', 'in', 'the', 'air', '.', '</s>', '</s>', 'A', 'flag', 'is', 'waving', '.', '</s>']\n",
      "len conti_raw 15\n",
      "conti_raw ['<s>', 'The', 'flag', 'was', 'moving', 'in', 'the', 'air.', '</s>', '</s>', 'A', 'flag', 'is', 'waving.', '</s>']\n"
     ]
    },
    {
     "data": {
      "text/html": [
       "<table width: 100%><div style=\"border-top: 1px solid; margin-top: 5px;             padding-top: 5px; display: inline-block\"><b>Legend: </b><span style=\"display: inline-block; width: 10px; height: 10px;                 border: 1px solid; background-color:                 hsl(0, 75%, 60%)\"></span> Negative  <span style=\"display: inline-block; width: 10px; height: 10px;                 border: 1px solid; background-color:                 hsl(0, 75%, 100%)\"></span> Neutral  <span style=\"display: inline-block; width: 10px; height: 10px;                 border: 1px solid; background-color:                 hsl(120, 75%, 50%)\"></span> Positive  </div><tr><th>True Label</th><th>Predicted Label</th><th>Attribution Label</th><th>Attribution Score</th><th>Word Importance</th><tr><td><text style=\"padding-right:2em\"><b>Similar</b></text></td><td><text style=\"padding-right:2em\"><b>Similar (0.88)</b></text></td><td><text style=\"padding-right:2em\"><b>Similar</b></text></td><td><text style=\"padding-right:2em\"><b>1.89</b></text></td><td><mark style=\"background-color: hsl(120, 75%, 84%); opacity:1.0;                     line-height:1.75\"><font color=\"black\"> #s                    </font></mark><mark style=\"background-color: hsl(120, 75%, 92%); opacity:1.0;                     line-height:1.75\"><font color=\"black\"> The                    </font></mark><mark style=\"background-color: hsl(0, 75%, 90%); opacity:1.0;                     line-height:1.75\"><font color=\"black\"> flag                    </font></mark><mark style=\"background-color: hsl(120, 75%, 89%); opacity:1.0;                     line-height:1.75\"><font color=\"black\"> was                    </font></mark><mark style=\"background-color: hsl(0, 75%, 99%); opacity:1.0;                     line-height:1.75\"><font color=\"black\"> moving                    </font></mark><mark style=\"background-color: hsl(120, 75%, 88%); opacity:1.0;                     line-height:1.75\"><font color=\"black\"> in                    </font></mark><mark style=\"background-color: hsl(120, 75%, 98%); opacity:1.0;                     line-height:1.75\"><font color=\"black\"> the                    </font></mark><mark style=\"background-color: hsl(120, 75%, 98%); opacity:1.0;                     line-height:1.75\"><font color=\"black\"> air.                    </font></mark><mark style=\"background-color: hsl(120, 75%, 99%); opacity:1.0;                     line-height:1.75\"><font color=\"black\"> #/s                    </font></mark><mark style=\"background-color: hsl(120, 75%, 87%); opacity:1.0;                     line-height:1.75\"><font color=\"black\"> #/s                    </font></mark><mark style=\"background-color: hsl(0, 75%, 97%); opacity:1.0;                     line-height:1.75\"><font color=\"black\"> A                    </font></mark><mark style=\"background-color: hsl(120, 75%, 97%); opacity:1.0;                     line-height:1.75\"><font color=\"black\"> flag                    </font></mark><mark style=\"background-color: hsl(120, 75%, 77%); opacity:1.0;                     line-height:1.75\"><font color=\"black\"> is                    </font></mark><mark style=\"background-color: hsl(120, 75%, 78%); opacity:1.0;                     line-height:1.75\"><font color=\"black\"> waving.                    </font></mark><mark style=\"background-color: hsl(0, 75%, 98%); opacity:1.0;                     line-height:1.75\"><font color=\"black\"> #/s                    </font></mark></td><tr></table>"
      ],
      "text/plain": [
       "<IPython.core.display.HTML object>"
      ]
     },
     "metadata": {},
     "output_type": "display_data"
    },
    {
     "name": "stderr",
     "output_type": "stream",
     "text": [
      "/home/user/anaconda3/envs/py38/lib/python3.9/site-packages/captum/attr/_core/lime.py:1088: UserWarning: Attempting to construct interpretable model with > 10000 features.This can be very slow or lead to OOM issues. Please provide a featuremask which groups input features to reduce the number of interpretablefeatures. \n",
      "  warnings.warn(\n"
     ]
    },
    {
     "name": "stdout",
     "output_type": "stream",
     "text": [
      "<IPython.core.display.HTML object>\n",
      "Raw review: ['A woman is cutting broccoli.', 'A woman is slicing broccoli.']\n",
      "GT target: 5.0\n",
      "pred_prob 4.450764060020447\n"
     ]
    },
    {
     "name": "stderr",
     "output_type": "stream",
     "text": [
      "Kernel Shap attribution: 100%|██████████████████████████████████████████████████████████| 10/10 [00:23<00:00,  2.35s/it]\n"
     ]
    },
    {
     "name": "stdout",
     "output_type": "stream",
     "text": [
      "word attr tensor([ 0.0561, -0.0219, -0.0338, -0.0395,  0.0216,  0.0032, -0.7735, -0.0932,\n",
      "         0.1073, -0.2043, -0.1483,  0.1369,  0.4116,  0.2147,  0.1079,  0.2551])\n",
      "conti attr [tensor(0.0561), tensor(-0.0219), tensor(-0.0338), tensor(-0.0395), tensor(0.0216), tensor(-0.7702), tensor(-0.0932), tensor(0.1073), tensor(-0.2043), tensor(-0.1483), tensor(0.1369), tensor(0.4116), tensor(0.3226), tensor(0.2551)]\n",
      "detokenized ['<s>', 'A', 'woman', 'is', 'cutting', 'broccoli', '.', '</s>', '</s>', 'A', 'woman', 'is', 'slicing', 'broccoli', '.', '</s>']\n",
      "len conti_raw 14\n",
      "conti_raw ['<s>', 'A', 'woman', 'is', 'cutting', 'broccoli.', '</s>', '</s>', 'A', 'woman', 'is', 'slicing', 'broccoli.', '</s>']\n"
     ]
    },
    {
     "data": {
      "text/html": [
       "<table width: 100%><div style=\"border-top: 1px solid; margin-top: 5px;             padding-top: 5px; display: inline-block\"><b>Legend: </b><span style=\"display: inline-block; width: 10px; height: 10px;                 border: 1px solid; background-color:                 hsl(0, 75%, 60%)\"></span> Negative  <span style=\"display: inline-block; width: 10px; height: 10px;                 border: 1px solid; background-color:                 hsl(0, 75%, 100%)\"></span> Neutral  <span style=\"display: inline-block; width: 10px; height: 10px;                 border: 1px solid; background-color:                 hsl(120, 75%, 50%)\"></span> Positive  </div><tr><th>True Label</th><th>Predicted Label</th><th>Attribution Label</th><th>Attribution Score</th><th>Word Importance</th><tr><td><text style=\"padding-right:2em\"><b>Similar</b></text></td><td><text style=\"padding-right:2em\"><b>Similar (0.89)</b></text></td><td><text style=\"padding-right:2em\"><b>Not Similar</b></text></td><td><text style=\"padding-right:2em\"><b>-0.00</b></text></td><td><mark style=\"background-color: hsl(120, 75%, 98%); opacity:1.0;                     line-height:1.75\"><font color=\"black\"> #s                    </font></mark><mark style=\"background-color: hsl(0, 75%, 100%); opacity:1.0;                     line-height:1.75\"><font color=\"black\"> A                    </font></mark><mark style=\"background-color: hsl(0, 75%, 99%); opacity:1.0;                     line-height:1.75\"><font color=\"black\"> woman                    </font></mark><mark style=\"background-color: hsl(0, 75%, 99%); opacity:1.0;                     line-height:1.75\"><font color=\"black\"> is                    </font></mark><mark style=\"background-color: hsl(120, 75%, 99%); opacity:1.0;                     line-height:1.75\"><font color=\"black\"> cutting                    </font></mark><mark style=\"background-color: hsl(0, 75%, 70%); opacity:1.0;                     line-height:1.75\"><font color=\"black\"> broccoli.                    </font></mark><mark style=\"background-color: hsl(0, 75%, 97%); opacity:1.0;                     line-height:1.75\"><font color=\"black\"> #/s                    </font></mark><mark style=\"background-color: hsl(120, 75%, 95%); opacity:1.0;                     line-height:1.75\"><font color=\"black\"> #/s                    </font></mark><mark style=\"background-color: hsl(0, 75%, 92%); opacity:1.0;                     line-height:1.75\"><font color=\"black\"> A                    </font></mark><mark style=\"background-color: hsl(0, 75%, 95%); opacity:1.0;                     line-height:1.75\"><font color=\"black\"> woman                    </font></mark><mark style=\"background-color: hsl(120, 75%, 94%); opacity:1.0;                     line-height:1.75\"><font color=\"black\"> is                    </font></mark><mark style=\"background-color: hsl(120, 75%, 80%); opacity:1.0;                     line-height:1.75\"><font color=\"black\"> slicing                    </font></mark><mark style=\"background-color: hsl(120, 75%, 84%); opacity:1.0;                     line-height:1.75\"><font color=\"black\"> broccoli.                    </font></mark><mark style=\"background-color: hsl(120, 75%, 88%); opacity:1.0;                     line-height:1.75\"><font color=\"black\"> #/s                    </font></mark></td><tr></table>"
      ],
      "text/plain": [
       "<IPython.core.display.HTML object>"
      ]
     },
     "metadata": {},
     "output_type": "display_data"
    },
    {
     "name": "stderr",
     "output_type": "stream",
     "text": [
      "/home/user/anaconda3/envs/py38/lib/python3.9/site-packages/captum/attr/_core/lime.py:1088: UserWarning: Attempting to construct interpretable model with > 10000 features.This can be very slow or lead to OOM issues. Please provide a featuremask which groups input features to reduce the number of interpretablefeatures. \n",
      "  warnings.warn(\n"
     ]
    },
    {
     "name": "stdout",
     "output_type": "stream",
     "text": [
      "<IPython.core.display.HTML object>\n",
      "Raw review: ['Iran warns Moscow nuclear talks could stall', 'Iranians “confess” to nuclear scientist murders']\n",
      "GT target: 1.2000000476837158\n",
      "pred_prob 0.6065619364380836\n"
     ]
    },
    {
     "name": "stderr",
     "output_type": "stream",
     "text": [
      "Kernel Shap attribution: 100%|██████████████████████████████████████████████████████████| 10/10 [00:34<00:00,  3.49s/it]\n"
     ]
    },
    {
     "name": "stdout",
     "output_type": "stream",
     "text": [
      "word attr tensor([-0.3737,  0.2047,  0.0756, -0.0048,  0.4494, -0.2372,  0.0182,  0.0966,\n",
      "         0.0679,  0.1604,  0.0189,  0.3379,  0.1534, -0.3102, -0.1166,  0.0089,\n",
      "         0.2951, -0.1171, -0.2321, -0.2014, -0.1494,  0.0665, -0.2112])\n",
      "conti attr [tensor(-0.3737), tensor(0.2047), tensor(0.0756), tensor(-0.0048), tensor(0.4494), tensor(-0.2372), tensor(0.0182), tensor(0.0966), tensor(0.0679), tensor(0.1604), tensor(0.3568), tensor(0.1534), tensor(-0.1228), tensor(-0.1171), tensor(-0.2321), tensor(-0.2014), tensor(-0.1494), tensor(0.0665), tensor(-0.2112)]\n",
      "detokenized ['<s>', 'Iran', 'warns', 'Moscow', 'nuclear', 'talks', 'could', 'stall', '</s>', '</s>', 'Iran', 'ians', 'âĢ', 'ľ', 'conf', 'ess', 'âĢ', 'Ŀ', 'to', 'nuclear', 'scientist', 'murders', '</s>']\n",
      "len conti_raw 19\n",
      "conti_raw ['<s>', 'Iran', 'warns', 'Moscow', 'nuclear', 'talks', 'could', 'stall', '</s>', '</s>', 'Iranians', 'âĢ', 'ľconfessâĢ', 'Ŀ', 'to', 'nuclear', 'scientist', 'murders', '</s>']\n"
     ]
    },
    {
     "data": {
      "text/html": [
       "<table width: 100%><div style=\"border-top: 1px solid; margin-top: 5px;             padding-top: 5px; display: inline-block\"><b>Legend: </b><span style=\"display: inline-block; width: 10px; height: 10px;                 border: 1px solid; background-color:                 hsl(0, 75%, 60%)\"></span> Negative  <span style=\"display: inline-block; width: 10px; height: 10px;                 border: 1px solid; background-color:                 hsl(0, 75%, 100%)\"></span> Neutral  <span style=\"display: inline-block; width: 10px; height: 10px;                 border: 1px solid; background-color:                 hsl(120, 75%, 50%)\"></span> Positive  </div><tr><th>True Label</th><th>Predicted Label</th><th>Attribution Label</th><th>Attribution Score</th><th>Word Importance</th><tr><td><text style=\"padding-right:2em\"><b>Not Similar</b></text></td><td><text style=\"padding-right:2em\"><b>Not Similar (0.12)</b></text></td><td><text style=\"padding-right:2em\"><b>Not Similar</b></text></td><td><text style=\"padding-right:2em\"><b>0.00</b></text></td><td><mark style=\"background-color: hsl(0, 75%, 86%); opacity:1.0;                     line-height:1.75\"><font color=\"black\"> #s                    </font></mark><mark style=\"background-color: hsl(120, 75%, 90%); opacity:1.0;                     line-height:1.75\"><font color=\"black\"> Iran                    </font></mark><mark style=\"background-color: hsl(120, 75%, 97%); opacity:1.0;                     line-height:1.75\"><font color=\"black\"> warns                    </font></mark><mark style=\"background-color: hsl(0, 75%, 100%); opacity:1.0;                     line-height:1.75\"><font color=\"black\"> Moscow                    </font></mark><mark style=\"background-color: hsl(120, 75%, 78%); opacity:1.0;                     line-height:1.75\"><font color=\"black\"> nuclear                    </font></mark><mark style=\"background-color: hsl(0, 75%, 91%); opacity:1.0;                     line-height:1.75\"><font color=\"black\"> talks                    </font></mark><mark style=\"background-color: hsl(120, 75%, 100%); opacity:1.0;                     line-height:1.75\"><font color=\"black\"> could                    </font></mark><mark style=\"background-color: hsl(120, 75%, 96%); opacity:1.0;                     line-height:1.75\"><font color=\"black\"> stall                    </font></mark><mark style=\"background-color: hsl(120, 75%, 97%); opacity:1.0;                     line-height:1.75\"><font color=\"black\"> #/s                    </font></mark><mark style=\"background-color: hsl(120, 75%, 92%); opacity:1.0;                     line-height:1.75\"><font color=\"black\"> #/s                    </font></mark><mark style=\"background-color: hsl(120, 75%, 83%); opacity:1.0;                     line-height:1.75\"><font color=\"black\"> Iranians                    </font></mark><mark style=\"background-color: hsl(120, 75%, 93%); opacity:1.0;                     line-height:1.75\"><font color=\"black\"> âĢ                    </font></mark><mark style=\"background-color: hsl(0, 75%, 96%); opacity:1.0;                     line-height:1.75\"><font color=\"black\"> ľconfessâĢ                    </font></mark><mark style=\"background-color: hsl(0, 75%, 96%); opacity:1.0;                     line-height:1.75\"><font color=\"black\"> Ŀ                    </font></mark><mark style=\"background-color: hsl(0, 75%, 91%); opacity:1.0;                     line-height:1.75\"><font color=\"black\"> to                    </font></mark><mark style=\"background-color: hsl(0, 75%, 92%); opacity:1.0;                     line-height:1.75\"><font color=\"black\"> nuclear                    </font></mark><mark style=\"background-color: hsl(0, 75%, 95%); opacity:1.0;                     line-height:1.75\"><font color=\"black\"> scientist                    </font></mark><mark style=\"background-color: hsl(120, 75%, 97%); opacity:1.0;                     line-height:1.75\"><font color=\"black\"> murders                    </font></mark><mark style=\"background-color: hsl(0, 75%, 92%); opacity:1.0;                     line-height:1.75\"><font color=\"black\"> #/s                    </font></mark></td><tr></table>"
      ],
      "text/plain": [
       "<IPython.core.display.HTML object>"
      ]
     },
     "metadata": {},
     "output_type": "display_data"
    },
    {
     "name": "stderr",
     "output_type": "stream",
     "text": [
      "/home/user/anaconda3/envs/py38/lib/python3.9/site-packages/captum/attr/_core/lime.py:1088: UserWarning: Attempting to construct interpretable model with > 10000 features.This can be very slow or lead to OOM issues. Please provide a featuremask which groups input features to reduce the number of interpretablefeatures. \n",
      "  warnings.warn(\n"
     ]
    },
    {
     "name": "stdout",
     "output_type": "stream",
     "text": [
      "<IPython.core.display.HTML object>\n",
      "Raw review: ['Syria agrees to surrender chemical weapons', 'Syria FM: We will stop producing chemical weapons']\n",
      "GT target: 3.4000000953674316\n",
      "pred_prob 4.205862879753113\n"
     ]
    },
    {
     "name": "stderr",
     "output_type": "stream",
     "text": [
      "Kernel Shap attribution: 100%|██████████████████████████████████████████████████████████| 10/10 [00:29<00:00,  2.91s/it]\n"
     ]
    },
    {
     "name": "stdout",
     "output_type": "stream",
     "text": [
      "word attr tensor([-0.4366,  0.1089,  0.1181, -0.3244, -0.3508,  0.1291, -0.2421,  0.0555,\n",
      "        -0.1105,  0.4577, -0.0515,  0.0127,  0.2317, -0.0144,  0.0746, -0.1854,\n",
      "         0.2155, -0.0222,  0.3342])\n",
      "conti attr [tensor(-0.4366), tensor(0.1089), tensor(0.1181), tensor(-0.3244), tensor(-0.3508), tensor(0.1291), tensor(-0.2421), tensor(0.0555), tensor(-0.1105), tensor(0.4577), tensor(-0.0388), tensor(0.2317), tensor(-0.0144), tensor(0.0746), tensor(-0.1854), tensor(0.2155), tensor(-0.0222), tensor(0.3342)]\n",
      "detokenized ['<s>', 'Syria', 'agrees', 'to', 'surrender', 'chemical', 'weapons', '</s>', '</s>', 'Syria', 'FM', ':', 'We', 'will', 'stop', 'producing', 'chemical', 'weapons', '</s>']\n",
      "len conti_raw 18\n",
      "conti_raw ['<s>', 'Syria', 'agrees', 'to', 'surrender', 'chemical', 'weapons', '</s>', '</s>', 'Syria', 'FM:', 'We', 'will', 'stop', 'producing', 'chemical', 'weapons', '</s>']\n"
     ]
    },
    {
     "data": {
      "text/html": [
       "<table width: 100%><div style=\"border-top: 1px solid; margin-top: 5px;             padding-top: 5px; display: inline-block\"><b>Legend: </b><span style=\"display: inline-block; width: 10px; height: 10px;                 border: 1px solid; background-color:                 hsl(0, 75%, 60%)\"></span> Negative  <span style=\"display: inline-block; width: 10px; height: 10px;                 border: 1px solid; background-color:                 hsl(0, 75%, 100%)\"></span> Neutral  <span style=\"display: inline-block; width: 10px; height: 10px;                 border: 1px solid; background-color:                 hsl(120, 75%, 50%)\"></span> Positive  </div><tr><th>True Label</th><th>Predicted Label</th><th>Attribution Label</th><th>Attribution Score</th><th>Word Importance</th><tr><td><text style=\"padding-right:2em\"><b>Similar</b></text></td><td><text style=\"padding-right:2em\"><b>Similar (0.84)</b></text></td><td><text style=\"padding-right:2em\"><b>Not Similar</b></text></td><td><text style=\"padding-right:2em\"><b>0.00</b></text></td><td><mark style=\"background-color: hsl(0, 75%, 83%); opacity:1.0;                     line-height:1.75\"><font color=\"black\"> #s                    </font></mark><mark style=\"background-color: hsl(120, 75%, 95%); opacity:1.0;                     line-height:1.75\"><font color=\"black\"> Syria                    </font></mark><mark style=\"background-color: hsl(120, 75%, 95%); opacity:1.0;                     line-height:1.75\"><font color=\"black\"> agrees                    </font></mark><mark style=\"background-color: hsl(0, 75%, 88%); opacity:1.0;                     line-height:1.75\"><font color=\"black\"> to                    </font></mark><mark style=\"background-color: hsl(0, 75%, 86%); opacity:1.0;                     line-height:1.75\"><font color=\"black\"> surrender                    </font></mark><mark style=\"background-color: hsl(120, 75%, 94%); opacity:1.0;                     line-height:1.75\"><font color=\"black\"> chemical                    </font></mark><mark style=\"background-color: hsl(0, 75%, 91%); opacity:1.0;                     line-height:1.75\"><font color=\"black\"> weapons                    </font></mark><mark style=\"background-color: hsl(120, 75%, 98%); opacity:1.0;                     line-height:1.75\"><font color=\"black\"> #/s                    </font></mark><mark style=\"background-color: hsl(0, 75%, 96%); opacity:1.0;                     line-height:1.75\"><font color=\"black\"> #/s                    </font></mark><mark style=\"background-color: hsl(120, 75%, 78%); opacity:1.0;                     line-height:1.75\"><font color=\"black\"> Syria                    </font></mark><mark style=\"background-color: hsl(0, 75%, 99%); opacity:1.0;                     line-height:1.75\"><font color=\"black\"> FM:                    </font></mark><mark style=\"background-color: hsl(120, 75%, 89%); opacity:1.0;                     line-height:1.75\"><font color=\"black\"> We                    </font></mark><mark style=\"background-color: hsl(0, 75%, 100%); opacity:1.0;                     line-height:1.75\"><font color=\"black\"> will                    </font></mark><mark style=\"background-color: hsl(120, 75%, 97%); opacity:1.0;                     line-height:1.75\"><font color=\"black\"> stop                    </font></mark><mark style=\"background-color: hsl(0, 75%, 93%); opacity:1.0;                     line-height:1.75\"><font color=\"black\"> producing                    </font></mark><mark style=\"background-color: hsl(120, 75%, 90%); opacity:1.0;                     line-height:1.75\"><font color=\"black\"> chemical                    </font></mark><mark style=\"background-color: hsl(0, 75%, 100%); opacity:1.0;                     line-height:1.75\"><font color=\"black\"> weapons                    </font></mark><mark style=\"background-color: hsl(120, 75%, 84%); opacity:1.0;                     line-height:1.75\"><font color=\"black\"> #/s                    </font></mark></td><tr></table>"
      ],
      "text/plain": [
       "<IPython.core.display.HTML object>"
      ]
     },
     "metadata": {},
     "output_type": "display_data"
    },
    {
     "name": "stderr",
     "output_type": "stream",
     "text": [
      "/home/user/anaconda3/envs/py38/lib/python3.9/site-packages/captum/attr/_core/lime.py:1088: UserWarning: Attempting to construct interpretable model with > 10000 features.This can be very slow or lead to OOM issues. Please provide a featuremask which groups input features to reduce the number of interpretablefeatures. \n",
      "  warnings.warn(\n"
     ]
    },
    {
     "name": "stdout",
     "output_type": "stream",
     "text": [
      "<IPython.core.display.HTML object>\n",
      "Raw review: ['Chinese shares close lower on Wednesday', 'Chinese students attacked in France']\n",
      "GT target: 0.0\n",
      "pred_prob 0.4386577755212784\n"
     ]
    },
    {
     "name": "stderr",
     "output_type": "stream",
     "text": [
      "Kernel Shap attribution: 100%|██████████████████████████████████████████████████████████| 10/10 [00:22<00:00,  2.23s/it]\n"
     ]
    },
    {
     "name": "stdout",
     "output_type": "stream",
     "text": [
      "word attr tensor([-0.1249,  0.4126,  0.3983, -0.3330, -0.0036,  0.3334,  0.1540, -0.2515,\n",
      "        -0.0998, -0.0393, -0.2405,  0.2026,  0.0454,  0.0292, -0.4829])\n",
      "conti attr [tensor(-0.1249), tensor(0.4126), tensor(0.3983), tensor(-0.3330), tensor(-0.0036), tensor(0.3334), tensor(0.1540), tensor(-0.2515), tensor(-0.0998), tensor(-0.0393), tensor(-0.2405), tensor(0.2026), tensor(0.0454), tensor(0.0292), tensor(-0.4829)]\n",
      "detokenized ['<s>', 'Chinese', 'shares', 'close', 'lower', 'on', 'Wednesday', '</s>', '</s>', 'Chinese', 'students', 'attacked', 'in', 'France', '</s>']\n",
      "len conti_raw 15\n",
      "conti_raw ['<s>', 'Chinese', 'shares', 'close', 'lower', 'on', 'Wednesday', '</s>', '</s>', 'Chinese', 'students', 'attacked', 'in', 'France', '</s>']\n"
     ]
    },
    {
     "data": {
      "text/html": [
       "<table width: 100%><div style=\"border-top: 1px solid; margin-top: 5px;             padding-top: 5px; display: inline-block\"><b>Legend: </b><span style=\"display: inline-block; width: 10px; height: 10px;                 border: 1px solid; background-color:                 hsl(0, 75%, 60%)\"></span> Negative  <span style=\"display: inline-block; width: 10px; height: 10px;                 border: 1px solid; background-color:                 hsl(0, 75%, 100%)\"></span> Neutral  <span style=\"display: inline-block; width: 10px; height: 10px;                 border: 1px solid; background-color:                 hsl(120, 75%, 50%)\"></span> Positive  </div><tr><th>True Label</th><th>Predicted Label</th><th>Attribution Label</th><th>Attribution Score</th><th>Word Importance</th><tr><td><text style=\"padding-right:2em\"><b>Not Similar</b></text></td><td><text style=\"padding-right:2em\"><b>Not Similar (0.09)</b></text></td><td><text style=\"padding-right:2em\"><b>Not Similar</b></text></td><td><text style=\"padding-right:2em\"><b>0.00</b></text></td><td><mark style=\"background-color: hsl(0, 75%, 96%); opacity:1.0;                     line-height:1.75\"><font color=\"black\"> #s                    </font></mark><mark style=\"background-color: hsl(120, 75%, 80%); opacity:1.0;                     line-height:1.75\"><font color=\"black\"> Chinese                    </font></mark><mark style=\"background-color: hsl(120, 75%, 81%); opacity:1.0;                     line-height:1.75\"><font color=\"black\"> shares                    </font></mark><mark style=\"background-color: hsl(0, 75%, 87%); opacity:1.0;                     line-height:1.75\"><font color=\"black\"> close                    </font></mark><mark style=\"background-color: hsl(0, 75%, 100%); opacity:1.0;                     line-height:1.75\"><font color=\"black\"> lower                    </font></mark><mark style=\"background-color: hsl(120, 75%, 84%); opacity:1.0;                     line-height:1.75\"><font color=\"black\"> on                    </font></mark><mark style=\"background-color: hsl(120, 75%, 93%); opacity:1.0;                     line-height:1.75\"><font color=\"black\"> Wednesday                    </font></mark><mark style=\"background-color: hsl(0, 75%, 90%); opacity:1.0;                     line-height:1.75\"><font color=\"black\"> #/s                    </font></mark><mark style=\"background-color: hsl(0, 75%, 97%); opacity:1.0;                     line-height:1.75\"><font color=\"black\"> #/s                    </font></mark><mark style=\"background-color: hsl(0, 75%, 99%); opacity:1.0;                     line-height:1.75\"><font color=\"black\"> Chinese                    </font></mark><mark style=\"background-color: hsl(0, 75%, 91%); opacity:1.0;                     line-height:1.75\"><font color=\"black\"> students                    </font></mark><mark style=\"background-color: hsl(120, 75%, 90%); opacity:1.0;                     line-height:1.75\"><font color=\"black\"> attacked                    </font></mark><mark style=\"background-color: hsl(120, 75%, 98%); opacity:1.0;                     line-height:1.75\"><font color=\"black\"> in                    </font></mark><mark style=\"background-color: hsl(120, 75%, 99%); opacity:1.0;                     line-height:1.75\"><font color=\"black\"> France                    </font></mark><mark style=\"background-color: hsl(0, 75%, 81%); opacity:1.0;                     line-height:1.75\"><font color=\"black\"> #/s                    </font></mark></td><tr></table>"
      ],
      "text/plain": [
       "<IPython.core.display.HTML object>"
      ]
     },
     "metadata": {},
     "output_type": "display_data"
    },
    {
     "name": "stderr",
     "output_type": "stream",
     "text": [
      "/home/user/anaconda3/envs/py38/lib/python3.9/site-packages/captum/attr/_core/lime.py:1088: UserWarning: Attempting to construct interpretable model with > 10000 features.This can be very slow or lead to OOM issues. Please provide a featuremask which groups input features to reduce the number of interpretablefeatures. \n",
      "  warnings.warn(\n"
     ]
    },
    {
     "name": "stdout",
     "output_type": "stream",
     "text": [
      "<IPython.core.display.HTML object>\n",
      "Raw review: ['Protests after George Zimmerman acquitted in Trayvon Martin case', 'Zimmerman acquitted in slaying']\n",
      "GT target: 3.0\n",
      "pred_prob 2.7657532691955566\n"
     ]
    },
    {
     "name": "stderr",
     "output_type": "stream",
     "text": [
      "Kernel Shap attribution: 100%|██████████████████████████████████████████████████████████| 10/10 [00:32<00:00,  3.23s/it]\n"
     ]
    },
    {
     "name": "stdout",
     "output_type": "stream",
     "text": [
      "word attr tensor([ 0.0297,  0.0261, -0.1484,  0.4667,  0.0095,  0.0339,  0.0398,  0.0088,\n",
      "         0.3388, -0.3658,  0.1142, -0.0863, -0.4286,  0.1165,  0.3633, -0.2676,\n",
      "        -0.0700,  0.1494,  0.0939,  0.2228])\n",
      "conti attr [tensor(0.0297), tensor(-0.1223), tensor(0.4667), tensor(0.0095), tensor(0.0339), tensor(0.0398), tensor(0.0088), tensor(0.3388), tensor(-0.3658), tensor(0.1142), tensor(-0.0863), tensor(-0.4286), tensor(0.2122), tensor(-0.0700), tensor(0.1494), tensor(0.0939), tensor(0.2228)]\n",
      "detokenized ['<s>', 'Prot', 'ests', 'after', 'George', 'Zimmerman', 'acquitted', 'in', 'Trayvon', 'Martin', 'case', '</s>', '</s>', 'Z', 'immer', 'man', 'acquitted', 'in', 'slaying', '</s>']\n",
      "len conti_raw 17\n",
      "conti_raw ['<s>', 'Protests', 'after', 'George', 'Zimmerman', 'acquitted', 'in', 'Trayvon', 'Martin', 'case', '</s>', '</s>', 'Zimmerman', 'acquitted', 'in', 'slaying', '</s>']\n"
     ]
    },
    {
     "data": {
      "text/html": [
       "<table width: 100%><div style=\"border-top: 1px solid; margin-top: 5px;             padding-top: 5px; display: inline-block\"><b>Legend: </b><span style=\"display: inline-block; width: 10px; height: 10px;                 border: 1px solid; background-color:                 hsl(0, 75%, 60%)\"></span> Negative  <span style=\"display: inline-block; width: 10px; height: 10px;                 border: 1px solid; background-color:                 hsl(0, 75%, 100%)\"></span> Neutral  <span style=\"display: inline-block; width: 10px; height: 10px;                 border: 1px solid; background-color:                 hsl(120, 75%, 50%)\"></span> Positive  </div><tr><th>True Label</th><th>Predicted Label</th><th>Attribution Label</th><th>Attribution Score</th><th>Word Importance</th><tr><td><text style=\"padding-right:2em\"><b>Similar</b></text></td><td><text style=\"padding-right:2em\"><b>Similar (0.55)</b></text></td><td><text style=\"padding-right:2em\"><b>Similar</b></text></td><td><text style=\"padding-right:2em\"><b>0.65</b></text></td><td><mark style=\"background-color: hsl(120, 75%, 99%); opacity:1.0;                     line-height:1.75\"><font color=\"black\"> #s                    </font></mark><mark style=\"background-color: hsl(0, 75%, 96%); opacity:1.0;                     line-height:1.75\"><font color=\"black\"> Protests                    </font></mark><mark style=\"background-color: hsl(120, 75%, 77%); opacity:1.0;                     line-height:1.75\"><font color=\"black\"> after                    </font></mark><mark style=\"background-color: hsl(120, 75%, 100%); opacity:1.0;                     line-height:1.75\"><font color=\"black\"> George                    </font></mark><mark style=\"background-color: hsl(120, 75%, 99%); opacity:1.0;                     line-height:1.75\"><font color=\"black\"> Zimmerman                    </font></mark><mark style=\"background-color: hsl(120, 75%, 99%); opacity:1.0;                     line-height:1.75\"><font color=\"black\"> acquitted                    </font></mark><mark style=\"background-color: hsl(120, 75%, 100%); opacity:1.0;                     line-height:1.75\"><font color=\"black\"> in                    </font></mark><mark style=\"background-color: hsl(120, 75%, 84%); opacity:1.0;                     line-height:1.75\"><font color=\"black\"> Trayvon                    </font></mark><mark style=\"background-color: hsl(0, 75%, 86%); opacity:1.0;                     line-height:1.75\"><font color=\"black\"> Martin                    </font></mark><mark style=\"background-color: hsl(120, 75%, 95%); opacity:1.0;                     line-height:1.75\"><font color=\"black\"> case                    </font></mark><mark style=\"background-color: hsl(0, 75%, 97%); opacity:1.0;                     line-height:1.75\"><font color=\"black\"> #/s                    </font></mark><mark style=\"background-color: hsl(0, 75%, 83%); opacity:1.0;                     line-height:1.75\"><font color=\"black\"> #/s                    </font></mark><mark style=\"background-color: hsl(120, 75%, 90%); opacity:1.0;                     line-height:1.75\"><font color=\"black\"> Zimmerman                    </font></mark><mark style=\"background-color: hsl(0, 75%, 98%); opacity:1.0;                     line-height:1.75\"><font color=\"black\"> acquitted                    </font></mark><mark style=\"background-color: hsl(120, 75%, 93%); opacity:1.0;                     line-height:1.75\"><font color=\"black\"> in                    </font></mark><mark style=\"background-color: hsl(120, 75%, 96%); opacity:1.0;                     line-height:1.75\"><font color=\"black\"> slaying                    </font></mark><mark style=\"background-color: hsl(120, 75%, 89%); opacity:1.0;                     line-height:1.75\"><font color=\"black\"> #/s                    </font></mark></td><tr></table>"
      ],
      "text/plain": [
       "<IPython.core.display.HTML object>"
      ]
     },
     "metadata": {},
     "output_type": "display_data"
    },
    {
     "name": "stdout",
     "output_type": "stream",
     "text": [
      "<IPython.core.display.HTML object>\n",
      "Raw review: [\"The answer will depend significantly on what country you're traveling to.\", 'As someone who has always travelled with a lot of prescription medication, I always declare it.']\n",
      "GT target: 1.0\n"
     ]
    },
    {
     "name": "stderr",
     "output_type": "stream",
     "text": [
      "/home/user/anaconda3/envs/py38/lib/python3.9/site-packages/captum/attr/_core/lime.py:1088: UserWarning: Attempting to construct interpretable model with > 10000 features.This can be very slow or lead to OOM issues. Please provide a featuremask which groups input features to reduce the number of interpretablefeatures. \n",
      "  warnings.warn(\n"
     ]
    },
    {
     "name": "stdout",
     "output_type": "stream",
     "text": [
      "pred_prob 0.23258300498127937\n"
     ]
    },
    {
     "name": "stderr",
     "output_type": "stream",
     "text": [
      "Kernel Shap attribution: 100%|██████████████████████████████████████████████████████████| 10/10 [01:29<00:00,  8.99s/it]\n"
     ]
    },
    {
     "name": "stdout",
     "output_type": "stream",
     "text": [
      "word attr tensor([ 0.4070,  0.1987,  0.0483,  0.0115, -0.0662,  0.0968, -0.1112,  0.0911,\n",
      "         0.1486, -0.0832, -0.0606, -0.0321,  0.2785,  0.1800, -0.0273, -0.1190,\n",
      "         0.1070, -0.0466, -0.1858, -0.0784, -0.4608, -0.0419, -0.0866, -0.0191,\n",
      "        -0.0009,  0.0956, -0.0750, -0.2708, -0.2719,  0.0821, -0.3176, -0.0064,\n",
      "        -0.0036,  0.2225, -0.0627])\n",
      "conti attr [tensor(0.4070), tensor(0.1987), tensor(0.0483), tensor(0.0115), tensor(-0.0662), tensor(0.0968), tensor(-0.1112), tensor(0.0911), tensor(0.1486), tensor(-0.1438), tensor(-0.0321), tensor(0.4584), tensor(-0.0273), tensor(-0.1190), tensor(0.1070), tensor(-0.0466), tensor(-0.1858), tensor(-0.0784), tensor(-0.4608), tensor(-0.0419), tensor(-0.0866), tensor(-0.0191), tensor(-0.0009), tensor(0.0956), tensor(-0.0750), tensor(-0.5427), tensor(0.0821), tensor(-0.3176), tensor(-0.0064), tensor(0.2189), tensor(-0.0627)]\n",
      "detokenized ['<s>', 'The', 'answer', 'will', 'depend', 'significantly', 'on', 'what', 'country', 'you', \"'re\", 'traveling', 'to', '.', '</s>', '</s>', 'As', 'someone', 'who', 'has', 'always', 'travelled', 'with', 'a', 'lot', 'of', 'prescription', 'medication', ',', 'I', 'always', 'declare', 'it', '.', '</s>']\n",
      "len conti_raw 31\n",
      "conti_raw ['<s>', 'The', 'answer', 'will', 'depend', 'significantly', 'on', 'what', 'country', \"you're\", 'traveling', 'to.', '</s>', '</s>', 'As', 'someone', 'who', 'has', 'always', 'travelled', 'with', 'a', 'lot', 'of', 'prescription', 'medication,', 'I', 'always', 'declare', 'it.', '</s>']\n"
     ]
    },
    {
     "data": {
      "text/html": [
       "<table width: 100%><div style=\"border-top: 1px solid; margin-top: 5px;             padding-top: 5px; display: inline-block\"><b>Legend: </b><span style=\"display: inline-block; width: 10px; height: 10px;                 border: 1px solid; background-color:                 hsl(0, 75%, 60%)\"></span> Negative  <span style=\"display: inline-block; width: 10px; height: 10px;                 border: 1px solid; background-color:                 hsl(0, 75%, 100%)\"></span> Neutral  <span style=\"display: inline-block; width: 10px; height: 10px;                 border: 1px solid; background-color:                 hsl(120, 75%, 50%)\"></span> Positive  </div><tr><th>True Label</th><th>Predicted Label</th><th>Attribution Label</th><th>Attribution Score</th><th>Word Importance</th><tr><td><text style=\"padding-right:2em\"><b>Not Similar</b></text></td><td><text style=\"padding-right:2em\"><b>Not Similar (0.05)</b></text></td><td><text style=\"padding-right:2em\"><b>Not Similar</b></text></td><td><text style=\"padding-right:2em\"><b>-0.46</b></text></td><td><mark style=\"background-color: hsl(120, 75%, 80%); opacity:1.0;                     line-height:1.75\"><font color=\"black\"> #s                    </font></mark><mark style=\"background-color: hsl(120, 75%, 91%); opacity:1.0;                     line-height:1.75\"><font color=\"black\"> The                    </font></mark><mark style=\"background-color: hsl(120, 75%, 98%); opacity:1.0;                     line-height:1.75\"><font color=\"black\"> answer                    </font></mark><mark style=\"background-color: hsl(120, 75%, 100%); opacity:1.0;                     line-height:1.75\"><font color=\"black\"> will                    </font></mark><mark style=\"background-color: hsl(0, 75%, 98%); opacity:1.0;                     line-height:1.75\"><font color=\"black\"> depend                    </font></mark><mark style=\"background-color: hsl(120, 75%, 96%); opacity:1.0;                     line-height:1.75\"><font color=\"black\"> significantly                    </font></mark><mark style=\"background-color: hsl(0, 75%, 96%); opacity:1.0;                     line-height:1.75\"><font color=\"black\"> on                    </font></mark><mark style=\"background-color: hsl(120, 75%, 96%); opacity:1.0;                     line-height:1.75\"><font color=\"black\"> what                    </font></mark><mark style=\"background-color: hsl(120, 75%, 93%); opacity:1.0;                     line-height:1.75\"><font color=\"black\"> country                    </font></mark><mark style=\"background-color: hsl(0, 75%, 95%); opacity:1.0;                     line-height:1.75\"><font color=\"black\"> you're                    </font></mark><mark style=\"background-color: hsl(0, 75%, 99%); opacity:1.0;                     line-height:1.75\"><font color=\"black\"> traveling                    </font></mark><mark style=\"background-color: hsl(120, 75%, 78%); opacity:1.0;                     line-height:1.75\"><font color=\"black\"> to.                    </font></mark><mark style=\"background-color: hsl(0, 75%, 99%); opacity:1.0;                     line-height:1.75\"><font color=\"black\"> #/s                    </font></mark><mark style=\"background-color: hsl(0, 75%, 96%); opacity:1.0;                     line-height:1.75\"><font color=\"black\"> #/s                    </font></mark><mark style=\"background-color: hsl(120, 75%, 95%); opacity:1.0;                     line-height:1.75\"><font color=\"black\"> As                    </font></mark><mark style=\"background-color: hsl(0, 75%, 99%); opacity:1.0;                     line-height:1.75\"><font color=\"black\"> someone                    </font></mark><mark style=\"background-color: hsl(0, 75%, 93%); opacity:1.0;                     line-height:1.75\"><font color=\"black\"> who                    </font></mark><mark style=\"background-color: hsl(0, 75%, 97%); opacity:1.0;                     line-height:1.75\"><font color=\"black\"> has                    </font></mark><mark style=\"background-color: hsl(0, 75%, 82%); opacity:1.0;                     line-height:1.75\"><font color=\"black\"> always                    </font></mark><mark style=\"background-color: hsl(0, 75%, 99%); opacity:1.0;                     line-height:1.75\"><font color=\"black\"> travelled                    </font></mark><mark style=\"background-color: hsl(0, 75%, 97%); opacity:1.0;                     line-height:1.75\"><font color=\"black\"> with                    </font></mark><mark style=\"background-color: hsl(0, 75%, 100%); opacity:1.0;                     line-height:1.75\"><font color=\"black\"> a                    </font></mark><mark style=\"background-color: hsl(0, 75%, 100%); opacity:1.0;                     line-height:1.75\"><font color=\"black\"> lot                    </font></mark><mark style=\"background-color: hsl(120, 75%, 96%); opacity:1.0;                     line-height:1.75\"><font color=\"black\"> of                    </font></mark><mark style=\"background-color: hsl(0, 75%, 97%); opacity:1.0;                     line-height:1.75\"><font color=\"black\"> prescription                    </font></mark><mark style=\"background-color: hsl(0, 75%, 79%); opacity:1.0;                     line-height:1.75\"><font color=\"black\"> medication,                    </font></mark><mark style=\"background-color: hsl(120, 75%, 96%); opacity:1.0;                     line-height:1.75\"><font color=\"black\"> I                    </font></mark><mark style=\"background-color: hsl(0, 75%, 88%); opacity:1.0;                     line-height:1.75\"><font color=\"black\"> always                    </font></mark><mark style=\"background-color: hsl(0, 75%, 100%); opacity:1.0;                     line-height:1.75\"><font color=\"black\"> declare                    </font></mark><mark style=\"background-color: hsl(120, 75%, 90%); opacity:1.0;                     line-height:1.75\"><font color=\"black\"> it.                    </font></mark><mark style=\"background-color: hsl(0, 75%, 98%); opacity:1.0;                     line-height:1.75\"><font color=\"black\"> #/s                    </font></mark></td><tr></table>"
      ],
      "text/plain": [
       "<IPython.core.display.HTML object>"
      ]
     },
     "metadata": {},
     "output_type": "display_data"
    },
    {
     "name": "stderr",
     "output_type": "stream",
     "text": [
      "/home/user/anaconda3/envs/py38/lib/python3.9/site-packages/captum/attr/_core/lime.py:1088: UserWarning: Attempting to construct interpretable model with > 10000 features.This can be very slow or lead to OOM issues. Please provide a featuremask which groups input features to reduce the number of interpretablefeatures. \n",
      "  warnings.warn(\n"
     ]
    },
    {
     "name": "stdout",
     "output_type": "stream",
     "text": [
      "<IPython.core.display.HTML object>\n",
      "Raw review: ['A man is running.', 'A man is singing.']\n",
      "GT target: 1.25\n",
      "pred_prob 0.7396946847438812\n"
     ]
    },
    {
     "name": "stderr",
     "output_type": "stream",
     "text": [
      "Kernel Shap attribution: 100%|██████████████████████████████████████████████████████████| 10/10 [00:37<00:00,  3.79s/it]\n"
     ]
    },
    {
     "name": "stdout",
     "output_type": "stream",
     "text": [
      "word attr tensor([-0.4819,  0.4779,  0.2590,  0.0049,  0.0816, -0.3803, -0.1551, -0.3031,\n",
      "        -0.0669,  0.1152,  0.0513, -0.0452,  0.0155,  0.4271])\n",
      "conti attr [tensor(-0.4819), tensor(0.4779), tensor(0.2590), tensor(0.0049), tensor(-0.2987), tensor(-0.1551), tensor(-0.3031), tensor(-0.0669), tensor(0.1152), tensor(0.0513), tensor(-0.0298), tensor(0.4271)]\n",
      "detokenized ['<s>', 'A', 'man', 'is', 'running', '.', '</s>', '</s>', 'A', 'man', 'is', 'singing', '.', '</s>']\n",
      "len conti_raw 12\n",
      "conti_raw ['<s>', 'A', 'man', 'is', 'running.', '</s>', '</s>', 'A', 'man', 'is', 'singing.', '</s>']\n"
     ]
    },
    {
     "data": {
      "text/html": [
       "<table width: 100%><div style=\"border-top: 1px solid; margin-top: 5px;             padding-top: 5px; display: inline-block\"><b>Legend: </b><span style=\"display: inline-block; width: 10px; height: 10px;                 border: 1px solid; background-color:                 hsl(0, 75%, 60%)\"></span> Negative  <span style=\"display: inline-block; width: 10px; height: 10px;                 border: 1px solid; background-color:                 hsl(0, 75%, 100%)\"></span> Neutral  <span style=\"display: inline-block; width: 10px; height: 10px;                 border: 1px solid; background-color:                 hsl(120, 75%, 50%)\"></span> Positive  </div><tr><th>True Label</th><th>Predicted Label</th><th>Attribution Label</th><th>Attribution Score</th><th>Word Importance</th><tr><td><text style=\"padding-right:2em\"><b>Not Similar</b></text></td><td><text style=\"padding-right:2em\"><b>Not Similar (0.15)</b></text></td><td><text style=\"padding-right:2em\"><b>Not Similar</b></text></td><td><text style=\"padding-right:2em\"><b>-0.00</b></text></td><td><mark style=\"background-color: hsl(0, 75%, 81%); opacity:1.0;                     line-height:1.75\"><font color=\"black\"> #s                    </font></mark><mark style=\"background-color: hsl(120, 75%, 77%); opacity:1.0;                     line-height:1.75\"><font color=\"black\"> A                    </font></mark><mark style=\"background-color: hsl(120, 75%, 88%); opacity:1.0;                     line-height:1.75\"><font color=\"black\"> man                    </font></mark><mark style=\"background-color: hsl(120, 75%, 100%); opacity:1.0;                     line-height:1.75\"><font color=\"black\"> is                    </font></mark><mark style=\"background-color: hsl(0, 75%, 89%); opacity:1.0;                     line-height:1.75\"><font color=\"black\"> running.                    </font></mark><mark style=\"background-color: hsl(0, 75%, 94%); opacity:1.0;                     line-height:1.75\"><font color=\"black\"> #/s                    </font></mark><mark style=\"background-color: hsl(0, 75%, 88%); opacity:1.0;                     line-height:1.75\"><font color=\"black\"> #/s                    </font></mark><mark style=\"background-color: hsl(0, 75%, 98%); opacity:1.0;                     line-height:1.75\"><font color=\"black\"> A                    </font></mark><mark style=\"background-color: hsl(120, 75%, 95%); opacity:1.0;                     line-height:1.75\"><font color=\"black\"> man                    </font></mark><mark style=\"background-color: hsl(120, 75%, 98%); opacity:1.0;                     line-height:1.75\"><font color=\"black\"> is                    </font></mark><mark style=\"background-color: hsl(0, 75%, 99%); opacity:1.0;                     line-height:1.75\"><font color=\"black\"> singing.                    </font></mark><mark style=\"background-color: hsl(120, 75%, 79%); opacity:1.0;                     line-height:1.75\"><font color=\"black\"> #/s                    </font></mark></td><tr></table>"
      ],
      "text/plain": [
       "<IPython.core.display.HTML object>"
      ]
     },
     "metadata": {},
     "output_type": "display_data"
    },
    {
     "name": "stderr",
     "output_type": "stream",
     "text": [
      "/home/user/anaconda3/envs/py38/lib/python3.9/site-packages/captum/attr/_core/lime.py:1088: UserWarning: Attempting to construct interpretable model with > 10000 features.This can be very slow or lead to OOM issues. Please provide a featuremask which groups input features to reduce the number of interpretablefeatures. \n",
      "  warnings.warn(\n"
     ]
    },
    {
     "name": "stdout",
     "output_type": "stream",
     "text": [
      "<IPython.core.display.HTML object>\n",
      "Raw review: [\"Egyptian president moves into Mubarak's old office\", \"Egypt's President-Elect Morsi Starts to Form Government\"]\n",
      "GT target: 2.3333332538604736\n",
      "pred_prob 1.923585683107376\n"
     ]
    },
    {
     "name": "stderr",
     "output_type": "stream",
     "text": [
      "Kernel Shap attribution: 100%|██████████████████████████████████████████████████████████| 10/10 [00:58<00:00,  5.87s/it]\n"
     ]
    },
    {
     "name": "stdout",
     "output_type": "stream",
     "text": [
      "word attr tensor([ 0.8662, -0.0246, -0.2102, -0.0753,  0.0530, -0.0319, -0.0349, -0.1701,\n",
      "        -0.1701, -0.1976,  0.1290, -0.0437, -0.0352,  0.0498,  0.0482, -0.1372,\n",
      "         0.0143,  0.0353, -0.0032,  0.0705, -0.1607,  0.1173, -0.0888])\n",
      "conti attr [tensor(0.8662), tensor(-0.2348), tensor(-0.0753), tensor(0.0530), tensor(-0.0319), tensor(-0.2050), tensor(-0.1701), tensor(-0.1976), tensor(0.1290), tensor(-0.0437), tensor(0.0146), tensor(-0.0747), tensor(0.0353), tensor(-0.0032), tensor(0.0705), tensor(-0.1607), tensor(0.1173), tensor(-0.0888)]\n",
      "detokenized ['<s>', 'Egypt', 'ian', 'president', 'moves', 'into', 'Mubarak', \"'s\", 'old', 'office', '</s>', '</s>', 'Egypt', \"'s\", 'President', '-', 'Elect', 'Morsi', 'Starts', 'to', 'Form', 'Government', '</s>']\n",
      "len conti_raw 18\n",
      "conti_raw ['<s>', 'Egyptian', 'president', 'moves', 'into', \"Mubarak's\", 'old', 'office', '</s>', '</s>', \"Egypt's\", 'President-Elect', 'Morsi', 'Starts', 'to', 'Form', 'Government', '</s>']\n"
     ]
    },
    {
     "data": {
      "text/html": [
       "<table width: 100%><div style=\"border-top: 1px solid; margin-top: 5px;             padding-top: 5px; display: inline-block\"><b>Legend: </b><span style=\"display: inline-block; width: 10px; height: 10px;                 border: 1px solid; background-color:                 hsl(0, 75%, 60%)\"></span> Negative  <span style=\"display: inline-block; width: 10px; height: 10px;                 border: 1px solid; background-color:                 hsl(0, 75%, 100%)\"></span> Neutral  <span style=\"display: inline-block; width: 10px; height: 10px;                 border: 1px solid; background-color:                 hsl(120, 75%, 50%)\"></span> Positive  </div><tr><th>True Label</th><th>Predicted Label</th><th>Attribution Label</th><th>Attribution Score</th><th>Word Importance</th><tr><td><text style=\"padding-right:2em\"><b>Not Similar</b></text></td><td><text style=\"padding-right:2em\"><b>Not Similar (0.38)</b></text></td><td><text style=\"padding-right:2em\"><b>Not Similar</b></text></td><td><text style=\"padding-right:2em\"><b>0.00</b></text></td><td><mark style=\"background-color: hsl(120, 75%, 57%); opacity:1.0;                     line-height:1.75\"><font color=\"black\"> #s                    </font></mark><mark style=\"background-color: hsl(0, 75%, 91%); opacity:1.0;                     line-height:1.75\"><font color=\"black\"> Egyptian                    </font></mark><mark style=\"background-color: hsl(0, 75%, 97%); opacity:1.0;                     line-height:1.75\"><font color=\"black\"> president                    </font></mark><mark style=\"background-color: hsl(120, 75%, 98%); opacity:1.0;                     line-height:1.75\"><font color=\"black\"> moves                    </font></mark><mark style=\"background-color: hsl(0, 75%, 99%); opacity:1.0;                     line-height:1.75\"><font color=\"black\"> into                    </font></mark><mark style=\"background-color: hsl(0, 75%, 92%); opacity:1.0;                     line-height:1.75\"><font color=\"black\"> Mubarak's                    </font></mark><mark style=\"background-color: hsl(0, 75%, 94%); opacity:1.0;                     line-height:1.75\"><font color=\"black\"> old                    </font></mark><mark style=\"background-color: hsl(0, 75%, 93%); opacity:1.0;                     line-height:1.75\"><font color=\"black\"> office                    </font></mark><mark style=\"background-color: hsl(120, 75%, 94%); opacity:1.0;                     line-height:1.75\"><font color=\"black\"> #/s                    </font></mark><mark style=\"background-color: hsl(0, 75%, 99%); opacity:1.0;                     line-height:1.75\"><font color=\"black\"> #/s                    </font></mark><mark style=\"background-color: hsl(120, 75%, 100%); opacity:1.0;                     line-height:1.75\"><font color=\"black\"> Egypt's                    </font></mark><mark style=\"background-color: hsl(0, 75%, 98%); opacity:1.0;                     line-height:1.75\"><font color=\"black\"> President-Elect                    </font></mark><mark style=\"background-color: hsl(120, 75%, 99%); opacity:1.0;                     line-height:1.75\"><font color=\"black\"> Morsi                    </font></mark><mark style=\"background-color: hsl(0, 75%, 100%); opacity:1.0;                     line-height:1.75\"><font color=\"black\"> Starts                    </font></mark><mark style=\"background-color: hsl(120, 75%, 97%); opacity:1.0;                     line-height:1.75\"><font color=\"black\"> to                    </font></mark><mark style=\"background-color: hsl(0, 75%, 94%); opacity:1.0;                     line-height:1.75\"><font color=\"black\"> Form                    </font></mark><mark style=\"background-color: hsl(120, 75%, 95%); opacity:1.0;                     line-height:1.75\"><font color=\"black\"> Government                    </font></mark><mark style=\"background-color: hsl(0, 75%, 97%); opacity:1.0;                     line-height:1.75\"><font color=\"black\"> #/s                    </font></mark></td><tr></table>"
      ],
      "text/plain": [
       "<IPython.core.display.HTML object>"
      ]
     },
     "metadata": {},
     "output_type": "display_data"
    },
    {
     "name": "stderr",
     "output_type": "stream",
     "text": [
      "/home/user/anaconda3/envs/py38/lib/python3.9/site-packages/captum/attr/_core/lime.py:1088: UserWarning: Attempting to construct interpretable model with > 10000 features.This can be very slow or lead to OOM issues. Please provide a featuremask which groups input features to reduce the number of interpretablefeatures. \n",
      "  warnings.warn(\n"
     ]
    },
    {
     "name": "stdout",
     "output_type": "stream",
     "text": [
      "<IPython.core.display.HTML object>\n",
      "Raw review: ['The dog could not figure out how to get a stick out the doggy door.', 'A dog is trying to get through his dog door.']\n",
      "GT target: 2.75\n",
      "pred_prob 2.8478720784187317\n"
     ]
    },
    {
     "name": "stderr",
     "output_type": "stream",
     "text": [
      "Kernel Shap attribution: 100%|██████████████████████████████████████████████████████████| 10/10 [01:18<00:00,  7.88s/it]\n"
     ]
    },
    {
     "name": "stdout",
     "output_type": "stream",
     "text": [
      "word attr tensor([ 0.4081,  0.1163, -0.1309,  0.0324,  0.1560,  0.5250,  0.1579, -0.0513,\n",
      "        -0.1363, -0.1050, -0.1845, -0.0264, -0.1493, -0.1864, -0.0741, -0.0312,\n",
      "        -0.0115, -0.0339, -0.1363,  0.0182,  0.4961, -0.0514,  0.1343, -0.1532,\n",
      "        -0.0411,  0.0818, -0.0765,  0.0226,  0.0209,  0.0819,  0.0881, -0.0793])\n",
      "conti attr [tensor(0.4081), tensor(0.1163), tensor(-0.1309), tensor(0.0324), tensor(0.1560), tensor(0.5250), tensor(0.1579), tensor(-0.0513), tensor(-0.1363), tensor(-0.1050), tensor(-0.1845), tensor(-0.0264), tensor(-0.1493), tensor(-0.1864), tensor(-0.1053), tensor(-0.0454), tensor(-0.1363), tensor(0.0182), tensor(0.4961), tensor(-0.0514), tensor(0.1343), tensor(-0.1532), tensor(-0.0411), tensor(0.0818), tensor(-0.0765), tensor(0.0226), tensor(0.0209), tensor(0.1700), tensor(-0.0793)]\n",
      "detokenized ['<s>', 'The', 'dog', 'could', 'not', 'figure', 'out', 'how', 'to', 'get', 'a', 'stick', 'out', 'the', 'do', 'ggy', 'door', '.', '</s>', '</s>', 'A', 'dog', 'is', 'trying', 'to', 'get', 'through', 'his', 'dog', 'door', '.', '</s>']\n",
      "len conti_raw 29\n",
      "conti_raw ['<s>', 'The', 'dog', 'could', 'not', 'figure', 'out', 'how', 'to', 'get', 'a', 'stick', 'out', 'the', 'doggy', 'door.', '</s>', '</s>', 'A', 'dog', 'is', 'trying', 'to', 'get', 'through', 'his', 'dog', 'door.', '</s>']\n"
     ]
    },
    {
     "data": {
      "text/html": [
       "<table width: 100%><div style=\"border-top: 1px solid; margin-top: 5px;             padding-top: 5px; display: inline-block\"><b>Legend: </b><span style=\"display: inline-block; width: 10px; height: 10px;                 border: 1px solid; background-color:                 hsl(0, 75%, 60%)\"></span> Negative  <span style=\"display: inline-block; width: 10px; height: 10px;                 border: 1px solid; background-color:                 hsl(0, 75%, 100%)\"></span> Neutral  <span style=\"display: inline-block; width: 10px; height: 10px;                 border: 1px solid; background-color:                 hsl(120, 75%, 50%)\"></span> Positive  </div><tr><th>True Label</th><th>Predicted Label</th><th>Attribution Label</th><th>Attribution Score</th><th>Word Importance</th><tr><td><text style=\"padding-right:2em\"><b>Similar</b></text></td><td><text style=\"padding-right:2em\"><b>Similar (0.57)</b></text></td><td><text style=\"padding-right:2em\"><b>Similar</b></text></td><td><text style=\"padding-right:2em\"><b>0.68</b></text></td><td><mark style=\"background-color: hsl(120, 75%, 80%); opacity:1.0;                     line-height:1.75\"><font color=\"black\"> #s                    </font></mark><mark style=\"background-color: hsl(120, 75%, 95%); opacity:1.0;                     line-height:1.75\"><font color=\"black\"> The                    </font></mark><mark style=\"background-color: hsl(0, 75%, 95%); opacity:1.0;                     line-height:1.75\"><font color=\"black\"> dog                    </font></mark><mark style=\"background-color: hsl(120, 75%, 99%); opacity:1.0;                     line-height:1.75\"><font color=\"black\"> could                    </font></mark><mark style=\"background-color: hsl(120, 75%, 93%); opacity:1.0;                     line-height:1.75\"><font color=\"black\"> not                    </font></mark><mark style=\"background-color: hsl(120, 75%, 74%); opacity:1.0;                     line-height:1.75\"><font color=\"black\"> figure                    </font></mark><mark style=\"background-color: hsl(120, 75%, 93%); opacity:1.0;                     line-height:1.75\"><font color=\"black\"> out                    </font></mark><mark style=\"background-color: hsl(0, 75%, 98%); opacity:1.0;                     line-height:1.75\"><font color=\"black\"> how                    </font></mark><mark style=\"background-color: hsl(0, 75%, 95%); opacity:1.0;                     line-height:1.75\"><font color=\"black\"> to                    </font></mark><mark style=\"background-color: hsl(0, 75%, 96%); opacity:1.0;                     line-height:1.75\"><font color=\"black\"> get                    </font></mark><mark style=\"background-color: hsl(0, 75%, 93%); opacity:1.0;                     line-height:1.75\"><font color=\"black\"> a                    </font></mark><mark style=\"background-color: hsl(0, 75%, 99%); opacity:1.0;                     line-height:1.75\"><font color=\"black\"> stick                    </font></mark><mark style=\"background-color: hsl(0, 75%, 95%); opacity:1.0;                     line-height:1.75\"><font color=\"black\"> out                    </font></mark><mark style=\"background-color: hsl(0, 75%, 93%); opacity:1.0;                     line-height:1.75\"><font color=\"black\"> the                    </font></mark><mark style=\"background-color: hsl(0, 75%, 96%); opacity:1.0;                     line-height:1.75\"><font color=\"black\"> doggy                    </font></mark><mark style=\"background-color: hsl(0, 75%, 99%); opacity:1.0;                     line-height:1.75\"><font color=\"black\"> door.                    </font></mark><mark style=\"background-color: hsl(0, 75%, 95%); opacity:1.0;                     line-height:1.75\"><font color=\"black\"> #/s                    </font></mark><mark style=\"background-color: hsl(120, 75%, 100%); opacity:1.0;                     line-height:1.75\"><font color=\"black\"> #/s                    </font></mark><mark style=\"background-color: hsl(120, 75%, 76%); opacity:1.0;                     line-height:1.75\"><font color=\"black\"> A                    </font></mark><mark style=\"background-color: hsl(0, 75%, 98%); opacity:1.0;                     line-height:1.75\"><font color=\"black\"> dog                    </font></mark><mark style=\"background-color: hsl(120, 75%, 94%); opacity:1.0;                     line-height:1.75\"><font color=\"black\"> is                    </font></mark><mark style=\"background-color: hsl(0, 75%, 94%); opacity:1.0;                     line-height:1.75\"><font color=\"black\"> trying                    </font></mark><mark style=\"background-color: hsl(0, 75%, 99%); opacity:1.0;                     line-height:1.75\"><font color=\"black\"> to                    </font></mark><mark style=\"background-color: hsl(120, 75%, 96%); opacity:1.0;                     line-height:1.75\"><font color=\"black\"> get                    </font></mark><mark style=\"background-color: hsl(0, 75%, 97%); opacity:1.0;                     line-height:1.75\"><font color=\"black\"> through                    </font></mark><mark style=\"background-color: hsl(120, 75%, 99%); opacity:1.0;                     line-height:1.75\"><font color=\"black\"> his                    </font></mark><mark style=\"background-color: hsl(120, 75%, 99%); opacity:1.0;                     line-height:1.75\"><font color=\"black\"> dog                    </font></mark><mark style=\"background-color: hsl(120, 75%, 92%); opacity:1.0;                     line-height:1.75\"><font color=\"black\"> door.                    </font></mark><mark style=\"background-color: hsl(0, 75%, 97%); opacity:1.0;                     line-height:1.75\"><font color=\"black\"> #/s                    </font></mark></td><tr></table>"
      ],
      "text/plain": [
       "<IPython.core.display.HTML object>"
      ]
     },
     "metadata": {},
     "output_type": "display_data"
    },
    {
     "name": "stdout",
     "output_type": "stream",
     "text": [
      "<IPython.core.display.HTML object>\n",
      "Raw review: ['The white and brown dog is running quickly through the grass.', 'The big white dog is running in the grass.']\n",
      "GT target: 3.4000000953674316\n"
     ]
    },
    {
     "name": "stderr",
     "output_type": "stream",
     "text": [
      "/home/user/anaconda3/envs/py38/lib/python3.9/site-packages/captum/attr/_core/lime.py:1088: UserWarning: Attempting to construct interpretable model with > 10000 features.This can be very slow or lead to OOM issues. Please provide a featuremask which groups input features to reduce the number of interpretablefeatures. \n",
      "  warnings.warn(\n"
     ]
    },
    {
     "name": "stdout",
     "output_type": "stream",
     "text": [
      "pred_prob 3.860727846622467\n"
     ]
    },
    {
     "name": "stderr",
     "output_type": "stream",
     "text": [
      "Kernel Shap attribution: 100%|██████████████████████████████████████████████████████████| 10/10 [01:05<00:00,  6.57s/it]\n"
     ]
    },
    {
     "name": "stdout",
     "output_type": "stream",
     "text": [
      "word attr tensor([ 0.2034,  0.0505, -0.0246, -0.0110, -0.1146,  0.2509,  0.0412, -0.2983,\n",
      "         0.1897,  0.2635, -0.2487,  0.3261,  0.0716,  0.2554, -0.0434,  0.2385,\n",
      "        -0.1073, -0.1577,  0.2775, -0.0660,  0.0116, -0.1501,  0.0956,  0.2316,\n",
      "         0.0592,  0.4234])\n",
      "conti attr [tensor(0.2034), tensor(0.0505), tensor(-0.0246), tensor(-0.0110), tensor(-0.1146), tensor(0.2509), tensor(0.0412), tensor(-0.2983), tensor(0.1897), tensor(0.2635), tensor(-0.2487), tensor(0.3977), tensor(0.2554), tensor(-0.0434), tensor(0.2385), tensor(-0.1073), tensor(-0.1577), tensor(0.2775), tensor(-0.0660), tensor(0.0116), tensor(-0.1501), tensor(0.0956), tensor(0.2907), tensor(0.4234)]\n",
      "detokenized ['<s>', 'The', 'white', 'and', 'brown', 'dog', 'is', 'running', 'quickly', 'through', 'the', 'grass', '.', '</s>', '</s>', 'The', 'big', 'white', 'dog', 'is', 'running', 'in', 'the', 'grass', '.', '</s>']\n",
      "len conti_raw 24\n",
      "conti_raw ['<s>', 'The', 'white', 'and', 'brown', 'dog', 'is', 'running', 'quickly', 'through', 'the', 'grass.', '</s>', '</s>', 'The', 'big', 'white', 'dog', 'is', 'running', 'in', 'the', 'grass.', '</s>']\n"
     ]
    },
    {
     "data": {
      "text/html": [
       "<table width: 100%><div style=\"border-top: 1px solid; margin-top: 5px;             padding-top: 5px; display: inline-block\"><b>Legend: </b><span style=\"display: inline-block; width: 10px; height: 10px;                 border: 1px solid; background-color:                 hsl(0, 75%, 60%)\"></span> Negative  <span style=\"display: inline-block; width: 10px; height: 10px;                 border: 1px solid; background-color:                 hsl(0, 75%, 100%)\"></span> Neutral  <span style=\"display: inline-block; width: 10px; height: 10px;                 border: 1px solid; background-color:                 hsl(120, 75%, 50%)\"></span> Positive  </div><tr><th>True Label</th><th>Predicted Label</th><th>Attribution Label</th><th>Attribution Score</th><th>Word Importance</th><tr><td><text style=\"padding-right:2em\"><b>Similar</b></text></td><td><text style=\"padding-right:2em\"><b>Similar (0.77)</b></text></td><td><text style=\"padding-right:2em\"><b>Similar</b></text></td><td><text style=\"padding-right:2em\"><b>1.77</b></text></td><td><mark style=\"background-color: hsl(120, 75%, 90%); opacity:1.0;                     line-height:1.75\"><font color=\"black\"> #s                    </font></mark><mark style=\"background-color: hsl(120, 75%, 98%); opacity:1.0;                     line-height:1.75\"><font color=\"black\"> The                    </font></mark><mark style=\"background-color: hsl(0, 75%, 100%); opacity:1.0;                     line-height:1.75\"><font color=\"black\"> white                    </font></mark><mark style=\"background-color: hsl(0, 75%, 100%); opacity:1.0;                     line-height:1.75\"><font color=\"black\"> and                    </font></mark><mark style=\"background-color: hsl(0, 75%, 96%); opacity:1.0;                     line-height:1.75\"><font color=\"black\"> brown                    </font></mark><mark style=\"background-color: hsl(120, 75%, 88%); opacity:1.0;                     line-height:1.75\"><font color=\"black\"> dog                    </font></mark><mark style=\"background-color: hsl(120, 75%, 98%); opacity:1.0;                     line-height:1.75\"><font color=\"black\"> is                    </font></mark><mark style=\"background-color: hsl(0, 75%, 89%); opacity:1.0;                     line-height:1.75\"><font color=\"black\"> running                    </font></mark><mark style=\"background-color: hsl(120, 75%, 91%); opacity:1.0;                     line-height:1.75\"><font color=\"black\"> quickly                    </font></mark><mark style=\"background-color: hsl(120, 75%, 87%); opacity:1.0;                     line-height:1.75\"><font color=\"black\"> through                    </font></mark><mark style=\"background-color: hsl(0, 75%, 91%); opacity:1.0;                     line-height:1.75\"><font color=\"black\"> the                    </font></mark><mark style=\"background-color: hsl(120, 75%, 81%); opacity:1.0;                     line-height:1.75\"><font color=\"black\"> grass.                    </font></mark><mark style=\"background-color: hsl(120, 75%, 88%); opacity:1.0;                     line-height:1.75\"><font color=\"black\"> #/s                    </font></mark><mark style=\"background-color: hsl(0, 75%, 99%); opacity:1.0;                     line-height:1.75\"><font color=\"black\"> #/s                    </font></mark><mark style=\"background-color: hsl(120, 75%, 89%); opacity:1.0;                     line-height:1.75\"><font color=\"black\"> The                    </font></mark><mark style=\"background-color: hsl(0, 75%, 96%); opacity:1.0;                     line-height:1.75\"><font color=\"black\"> big                    </font></mark><mark style=\"background-color: hsl(0, 75%, 94%); opacity:1.0;                     line-height:1.75\"><font color=\"black\"> white                    </font></mark><mark style=\"background-color: hsl(120, 75%, 87%); opacity:1.0;                     line-height:1.75\"><font color=\"black\"> dog                    </font></mark><mark style=\"background-color: hsl(0, 75%, 98%); opacity:1.0;                     line-height:1.75\"><font color=\"black\"> is                    </font></mark><mark style=\"background-color: hsl(120, 75%, 100%); opacity:1.0;                     line-height:1.75\"><font color=\"black\"> running                    </font></mark><mark style=\"background-color: hsl(0, 75%, 94%); opacity:1.0;                     line-height:1.75\"><font color=\"black\"> in                    </font></mark><mark style=\"background-color: hsl(120, 75%, 96%); opacity:1.0;                     line-height:1.75\"><font color=\"black\"> the                    </font></mark><mark style=\"background-color: hsl(120, 75%, 86%); opacity:1.0;                     line-height:1.75\"><font color=\"black\"> grass.                    </font></mark><mark style=\"background-color: hsl(120, 75%, 79%); opacity:1.0;                     line-height:1.75\"><font color=\"black\"> #/s                    </font></mark></td><tr></table>"
      ],
      "text/plain": [
       "<IPython.core.display.HTML object>"
      ]
     },
     "metadata": {},
     "output_type": "display_data"
    },
    {
     "name": "stdout",
     "output_type": "stream",
     "text": [
      "<IPython.core.display.HTML object>\n",
      "Raw review: ['In Hinduism and Buddhism there is message of peace and an encouragement to not be materialistic.', 'This relates to the \"discovery\" of Asian, and other non-European cultures by Americans.']\n",
      "GT target: 0.0\n"
     ]
    },
    {
     "name": "stderr",
     "output_type": "stream",
     "text": [
      "/home/user/anaconda3/envs/py38/lib/python3.9/site-packages/captum/attr/_core/lime.py:1088: UserWarning: Attempting to construct interpretable model with > 10000 features.This can be very slow or lead to OOM issues. Please provide a featuremask which groups input features to reduce the number of interpretablefeatures. \n",
      "  warnings.warn(\n"
     ]
    },
    {
     "name": "stdout",
     "output_type": "stream",
     "text": [
      "pred_prob 0.2106860652565956\n"
     ]
    },
    {
     "name": "stderr",
     "output_type": "stream",
     "text": [
      "Kernel Shap attribution: 100%|██████████████████████████████████████████████████████████| 10/10 [01:54<00:00, 11.49s/it]\n"
     ]
    },
    {
     "name": "stdout",
     "output_type": "stream",
     "text": [
      "word attr tensor([ 0.0347, -0.0285, -0.0465, -0.5566,  0.0721, -0.0732, -0.0471, -0.0915,\n",
      "        -0.1226,  0.3525, -0.1161,  0.0495, -0.3201, -0.0460, -0.1850,  0.0954,\n",
      "         0.1381,  0.1299,  0.1379,  0.2745, -0.0643, -0.0884, -0.1842, -0.0118,\n",
      "         0.1296,  0.1324, -0.0847, -0.0025,  0.0512, -0.0045, -0.0439, -0.0731,\n",
      "        -0.0334,  0.0567,  0.1768,  0.0332, -0.0164,  0.0939,  0.0900, -0.1506,\n",
      "         0.0804,  0.0726, -0.2139])\n",
      "conti attr [tensor(0.0347), tensor(-0.0285), tensor(-0.6031), tensor(0.0721), tensor(-0.0732), tensor(-0.0471), tensor(-0.0915), tensor(-0.1226), tensor(0.3525), tensor(-0.1161), tensor(0.0495), tensor(-0.3201), tensor(-0.0460), tensor(-0.1850), tensor(0.0954), tensor(0.1381), tensor(0.5422), tensor(-0.0643), tensor(-0.0884), tensor(-0.1842), tensor(-0.0118), tensor(0.1296), tensor(0.1324), tensor(-0.0404), tensor(-0.0439), tensor(-0.1065), tensor(0.0567), tensor(0.1768), tensor(0.1107), tensor(0.0900), tensor(-0.1506), tensor(0.1530), tensor(-0.2139)]\n",
      "detokenized ['<s>', 'In', 'Hindu', 'ism', 'and', 'Buddhism', 'there', 'is', 'message', 'of', 'peace', 'and', 'an', 'encouragement', 'to', 'not', 'be', 'material', 'istic', '.', '</s>', '</s>', 'This', 'relates', 'to', 'the', '\"', 'd', 'iscovery', '\"', 'of', 'Asian', ',', 'and', 'other', 'non', '-', 'European', 'cultures', 'by', 'Americans', '.', '</s>']\n",
      "len conti_raw 33\n",
      "conti_raw ['<s>', 'In', 'Hinduism', 'and', 'Buddhism', 'there', 'is', 'message', 'of', 'peace', 'and', 'an', 'encouragement', 'to', 'not', 'be', 'materialistic.', '</s>', '</s>', 'This', 'relates', 'to', 'the', '\"discovery\"', 'of', 'Asian,', 'and', 'other', 'non-European', 'cultures', 'by', 'Americans.', '</s>']\n"
     ]
    },
    {
     "data": {
      "text/html": [
       "<table width: 100%><div style=\"border-top: 1px solid; margin-top: 5px;             padding-top: 5px; display: inline-block\"><b>Legend: </b><span style=\"display: inline-block; width: 10px; height: 10px;                 border: 1px solid; background-color:                 hsl(0, 75%, 60%)\"></span> Negative  <span style=\"display: inline-block; width: 10px; height: 10px;                 border: 1px solid; background-color:                 hsl(0, 75%, 100%)\"></span> Neutral  <span style=\"display: inline-block; width: 10px; height: 10px;                 border: 1px solid; background-color:                 hsl(120, 75%, 50%)\"></span> Positive  </div><tr><th>True Label</th><th>Predicted Label</th><th>Attribution Label</th><th>Attribution Score</th><th>Word Importance</th><tr><td><text style=\"padding-right:2em\"><b>Not Similar</b></text></td><td><text style=\"padding-right:2em\"><b>Not Similar (0.04)</b></text></td><td><text style=\"padding-right:2em\"><b>Not Similar</b></text></td><td><text style=\"padding-right:2em\"><b>-0.40</b></text></td><td><mark style=\"background-color: hsl(120, 75%, 99%); opacity:1.0;                     line-height:1.75\"><font color=\"black\"> #s                    </font></mark><mark style=\"background-color: hsl(0, 75%, 99%); opacity:1.0;                     line-height:1.75\"><font color=\"black\"> In                    </font></mark><mark style=\"background-color: hsl(0, 75%, 76%); opacity:1.0;                     line-height:1.75\"><font color=\"black\"> Hinduism                    </font></mark><mark style=\"background-color: hsl(120, 75%, 97%); opacity:1.0;                     line-height:1.75\"><font color=\"black\"> and                    </font></mark><mark style=\"background-color: hsl(0, 75%, 98%); opacity:1.0;                     line-height:1.75\"><font color=\"black\"> Buddhism                    </font></mark><mark style=\"background-color: hsl(0, 75%, 99%); opacity:1.0;                     line-height:1.75\"><font color=\"black\"> there                    </font></mark><mark style=\"background-color: hsl(0, 75%, 97%); opacity:1.0;                     line-height:1.75\"><font color=\"black\"> is                    </font></mark><mark style=\"background-color: hsl(0, 75%, 96%); opacity:1.0;                     line-height:1.75\"><font color=\"black\"> message                    </font></mark><mark style=\"background-color: hsl(120, 75%, 83%); opacity:1.0;                     line-height:1.75\"><font color=\"black\"> of                    </font></mark><mark style=\"background-color: hsl(0, 75%, 96%); opacity:1.0;                     line-height:1.75\"><font color=\"black\"> peace                    </font></mark><mark style=\"background-color: hsl(120, 75%, 98%); opacity:1.0;                     line-height:1.75\"><font color=\"black\"> and                    </font></mark><mark style=\"background-color: hsl(0, 75%, 88%); opacity:1.0;                     line-height:1.75\"><font color=\"black\"> an                    </font></mark><mark style=\"background-color: hsl(0, 75%, 99%); opacity:1.0;                     line-height:1.75\"><font color=\"black\"> encouragement                    </font></mark><mark style=\"background-color: hsl(0, 75%, 93%); opacity:1.0;                     line-height:1.75\"><font color=\"black\"> to                    </font></mark><mark style=\"background-color: hsl(120, 75%, 96%); opacity:1.0;                     line-height:1.75\"><font color=\"black\"> not                    </font></mark><mark style=\"background-color: hsl(120, 75%, 94%); opacity:1.0;                     line-height:1.75\"><font color=\"black\"> be                    </font></mark><mark style=\"background-color: hsl(120, 75%, 73%); opacity:1.0;                     line-height:1.75\"><font color=\"black\"> materialistic.                    </font></mark><mark style=\"background-color: hsl(0, 75%, 98%); opacity:1.0;                     line-height:1.75\"><font color=\"black\"> #/s                    </font></mark><mark style=\"background-color: hsl(0, 75%, 97%); opacity:1.0;                     line-height:1.75\"><font color=\"black\"> #/s                    </font></mark><mark style=\"background-color: hsl(0, 75%, 93%); opacity:1.0;                     line-height:1.75\"><font color=\"black\"> This                    </font></mark><mark style=\"background-color: hsl(0, 75%, 100%); opacity:1.0;                     line-height:1.75\"><font color=\"black\"> relates                    </font></mark><mark style=\"background-color: hsl(120, 75%, 94%); opacity:1.0;                     line-height:1.75\"><font color=\"black\"> to                    </font></mark><mark style=\"background-color: hsl(120, 75%, 94%); opacity:1.0;                     line-height:1.75\"><font color=\"black\"> the                    </font></mark><mark style=\"background-color: hsl(0, 75%, 99%); opacity:1.0;                     line-height:1.75\"><font color=\"black\"> \"discovery\"                    </font></mark><mark style=\"background-color: hsl(0, 75%, 99%); opacity:1.0;                     line-height:1.75\"><font color=\"black\"> of                    </font></mark><mark style=\"background-color: hsl(0, 75%, 96%); opacity:1.0;                     line-height:1.75\"><font color=\"black\"> Asian,                    </font></mark><mark style=\"background-color: hsl(120, 75%, 98%); opacity:1.0;                     line-height:1.75\"><font color=\"black\"> and                    </font></mark><mark style=\"background-color: hsl(120, 75%, 92%); opacity:1.0;                     line-height:1.75\"><font color=\"black\"> other                    </font></mark><mark style=\"background-color: hsl(120, 75%, 95%); opacity:1.0;                     line-height:1.75\"><font color=\"black\"> non-European                    </font></mark><mark style=\"background-color: hsl(120, 75%, 96%); opacity:1.0;                     line-height:1.75\"><font color=\"black\"> cultures                    </font></mark><mark style=\"background-color: hsl(0, 75%, 94%); opacity:1.0;                     line-height:1.75\"><font color=\"black\"> by                    </font></mark><mark style=\"background-color: hsl(120, 75%, 93%); opacity:1.0;                     line-height:1.75\"><font color=\"black\"> Americans.                    </font></mark><mark style=\"background-color: hsl(0, 75%, 92%); opacity:1.0;                     line-height:1.75\"><font color=\"black\"> #/s                    </font></mark></td><tr></table>"
      ],
      "text/plain": [
       "<IPython.core.display.HTML object>"
      ]
     },
     "metadata": {},
     "output_type": "display_data"
    },
    {
     "name": "stdout",
     "output_type": "stream",
     "text": [
      "<IPython.core.display.HTML object>\n",
      "Raw review: ['To play golf, the first thing you need is a set of clubs.', 'Having fairly recently taken up the sport myself, I feel your discomfort.']\n",
      "GT target: 1.2000000476837158\n"
     ]
    },
    {
     "name": "stderr",
     "output_type": "stream",
     "text": [
      "/home/user/anaconda3/envs/py38/lib/python3.9/site-packages/captum/attr/_core/lime.py:1088: UserWarning: Attempting to construct interpretable model with > 10000 features.This can be very slow or lead to OOM issues. Please provide a featuremask which groups input features to reduce the number of interpretablefeatures. \n",
      "  warnings.warn(\n"
     ]
    },
    {
     "name": "stdout",
     "output_type": "stream",
     "text": [
      "pred_prob 0.7371227443218231\n"
     ]
    },
    {
     "name": "stderr",
     "output_type": "stream",
     "text": [
      "Kernel Shap attribution: 100%|██████████████████████████████████████████████████████████| 10/10 [01:27<00:00,  8.73s/it]\n"
     ]
    },
    {
     "name": "stdout",
     "output_type": "stream",
     "text": [
      "word attr tensor([ 0.0139,  0.1228, -0.0072, -0.0527,  0.1570, -0.2330, -0.0899,  0.1164,\n",
      "        -0.2223,  0.1930, -0.0498,  0.2236, -0.0493, -0.0542, -0.3665,  0.0277,\n",
      "         0.0984,  0.1082, -0.4142, -0.1183, -0.1230, -0.0296, -0.0403, -0.1545,\n",
      "        -0.0895,  0.0623,  0.1826,  0.0556,  0.3743, -0.0112, -0.2146,  0.1822,\n",
      "         0.2922])\n",
      "conti attr [tensor(0.0139), tensor(0.1228), tensor(-0.0072), tensor(0.1043), tensor(-0.2330), tensor(-0.0899), tensor(0.1164), tensor(-0.2223), tensor(0.1930), tensor(-0.0498), tensor(0.2236), tensor(-0.0493), tensor(-0.0542), tensor(-0.3389), tensor(0.0984), tensor(0.1082), tensor(-0.4142), tensor(-0.1183), tensor(-0.1230), tensor(-0.0296), tensor(-0.0403), tensor(-0.1545), tensor(-0.0895), tensor(0.2449), tensor(0.0556), tensor(0.3743), tensor(-0.0112), tensor(-0.0325), tensor(0.2922)]\n",
      "detokenized ['<s>', 'To', 'play', 'golf', ',', 'the', 'first', 'thing', 'you', 'need', 'is', 'a', 'set', 'of', 'clubs', '.', '</s>', '</s>', 'Having', 'fairly', 'recently', 'taken', 'up', 'the', 'sport', 'myself', ',', 'I', 'feel', 'your', 'discomfort', '.', '</s>']\n",
      "len conti_raw 29\n",
      "conti_raw ['<s>', 'To', 'play', 'golf,', 'the', 'first', 'thing', 'you', 'need', 'is', 'a', 'set', 'of', 'clubs.', '</s>', '</s>', 'Having', 'fairly', 'recently', 'taken', 'up', 'the', 'sport', 'myself,', 'I', 'feel', 'your', 'discomfort.', '</s>']\n"
     ]
    },
    {
     "data": {
      "text/html": [
       "<table width: 100%><div style=\"border-top: 1px solid; margin-top: 5px;             padding-top: 5px; display: inline-block\"><b>Legend: </b><span style=\"display: inline-block; width: 10px; height: 10px;                 border: 1px solid; background-color:                 hsl(0, 75%, 60%)\"></span> Negative  <span style=\"display: inline-block; width: 10px; height: 10px;                 border: 1px solid; background-color:                 hsl(0, 75%, 100%)\"></span> Neutral  <span style=\"display: inline-block; width: 10px; height: 10px;                 border: 1px solid; background-color:                 hsl(120, 75%, 50%)\"></span> Positive  </div><tr><th>True Label</th><th>Predicted Label</th><th>Attribution Label</th><th>Attribution Score</th><th>Word Importance</th><tr><td><text style=\"padding-right:2em\"><b>Not Similar</b></text></td><td><text style=\"padding-right:2em\"><b>Not Similar (0.15)</b></text></td><td><text style=\"padding-right:2em\"><b>Not Similar</b></text></td><td><text style=\"padding-right:2em\"><b>-0.11</b></text></td><td><mark style=\"background-color: hsl(120, 75%, 100%); opacity:1.0;                     line-height:1.75\"><font color=\"black\"> #s                    </font></mark><mark style=\"background-color: hsl(120, 75%, 94%); opacity:1.0;                     line-height:1.75\"><font color=\"black\"> To                    </font></mark><mark style=\"background-color: hsl(0, 75%, 100%); opacity:1.0;                     line-height:1.75\"><font color=\"black\"> play                    </font></mark><mark style=\"background-color: hsl(120, 75%, 95%); opacity:1.0;                     line-height:1.75\"><font color=\"black\"> golf,                    </font></mark><mark style=\"background-color: hsl(0, 75%, 91%); opacity:1.0;                     line-height:1.75\"><font color=\"black\"> the                    </font></mark><mark style=\"background-color: hsl(0, 75%, 97%); opacity:1.0;                     line-height:1.75\"><font color=\"black\"> first                    </font></mark><mark style=\"background-color: hsl(120, 75%, 95%); opacity:1.0;                     line-height:1.75\"><font color=\"black\"> thing                    </font></mark><mark style=\"background-color: hsl(0, 75%, 92%); opacity:1.0;                     line-height:1.75\"><font color=\"black\"> you                    </font></mark><mark style=\"background-color: hsl(120, 75%, 91%); opacity:1.0;                     line-height:1.75\"><font color=\"black\"> need                    </font></mark><mark style=\"background-color: hsl(0, 75%, 99%); opacity:1.0;                     line-height:1.75\"><font color=\"black\"> is                    </font></mark><mark style=\"background-color: hsl(120, 75%, 89%); opacity:1.0;                     line-height:1.75\"><font color=\"black\"> a                    </font></mark><mark style=\"background-color: hsl(0, 75%, 99%); opacity:1.0;                     line-height:1.75\"><font color=\"black\"> set                    </font></mark><mark style=\"background-color: hsl(0, 75%, 98%); opacity:1.0;                     line-height:1.75\"><font color=\"black\"> of                    </font></mark><mark style=\"background-color: hsl(0, 75%, 87%); opacity:1.0;                     line-height:1.75\"><font color=\"black\"> clubs.                    </font></mark><mark style=\"background-color: hsl(120, 75%, 96%); opacity:1.0;                     line-height:1.75\"><font color=\"black\"> #/s                    </font></mark><mark style=\"background-color: hsl(120, 75%, 95%); opacity:1.0;                     line-height:1.75\"><font color=\"black\"> #/s                    </font></mark><mark style=\"background-color: hsl(0, 75%, 84%); opacity:1.0;                     line-height:1.75\"><font color=\"black\"> Having                    </font></mark><mark style=\"background-color: hsl(0, 75%, 96%); opacity:1.0;                     line-height:1.75\"><font color=\"black\"> fairly                    </font></mark><mark style=\"background-color: hsl(0, 75%, 96%); opacity:1.0;                     line-height:1.75\"><font color=\"black\"> recently                    </font></mark><mark style=\"background-color: hsl(0, 75%, 99%); opacity:1.0;                     line-height:1.75\"><font color=\"black\"> taken                    </font></mark><mark style=\"background-color: hsl(0, 75%, 99%); opacity:1.0;                     line-height:1.75\"><font color=\"black\"> up                    </font></mark><mark style=\"background-color: hsl(0, 75%, 94%); opacity:1.0;                     line-height:1.75\"><font color=\"black\"> the                    </font></mark><mark style=\"background-color: hsl(0, 75%, 97%); opacity:1.0;                     line-height:1.75\"><font color=\"black\"> sport                    </font></mark><mark style=\"background-color: hsl(120, 75%, 88%); opacity:1.0;                     line-height:1.75\"><font color=\"black\"> myself,                    </font></mark><mark style=\"background-color: hsl(120, 75%, 98%); opacity:1.0;                     line-height:1.75\"><font color=\"black\"> I                    </font></mark><mark style=\"background-color: hsl(120, 75%, 82%); opacity:1.0;                     line-height:1.75\"><font color=\"black\"> feel                    </font></mark><mark style=\"background-color: hsl(0, 75%, 100%); opacity:1.0;                     line-height:1.75\"><font color=\"black\"> your                    </font></mark><mark style=\"background-color: hsl(0, 75%, 99%); opacity:1.0;                     line-height:1.75\"><font color=\"black\"> discomfort.                    </font></mark><mark style=\"background-color: hsl(120, 75%, 86%); opacity:1.0;                     line-height:1.75\"><font color=\"black\"> #/s                    </font></mark></td><tr></table>"
      ],
      "text/plain": [
       "<IPython.core.display.HTML object>"
      ]
     },
     "metadata": {},
     "output_type": "display_data"
    },
    {
     "name": "stdout",
     "output_type": "stream",
     "text": [
      "<IPython.core.display.HTML object>\n",
      "Raw review: ['The companies, Chiron and Aventis Pasteur, together made about 80 million doses of the injected vaccine, which ordinarily would have been enough to meet U.S. demand.', 'Chiron and Aventis Pasteur together made about 80 million doses, ordinarily enough for U.S. demand, The Associated Press reported.']\n",
      "GT target: 4.400000095367432\n"
     ]
    },
    {
     "name": "stderr",
     "output_type": "stream",
     "text": [
      "/home/user/anaconda3/envs/py38/lib/python3.9/site-packages/captum/attr/_core/lime.py:1088: UserWarning: Attempting to construct interpretable model with > 10000 features.This can be very slow or lead to OOM issues. Please provide a featuremask which groups input features to reduce the number of interpretablefeatures. \n",
      "  warnings.warn(\n"
     ]
    },
    {
     "name": "stdout",
     "output_type": "stream",
     "text": [
      "pred_prob 3.635355532169342\n"
     ]
    },
    {
     "name": "stderr",
     "output_type": "stream",
     "text": [
      "Kernel Shap attribution: 100%|██████████████████████████████████████████████████████████| 10/10 [02:29<00:00, 14.94s/it]\n"
     ]
    },
    {
     "name": "stdout",
     "output_type": "stream",
     "text": [
      "word attr tensor([-0.0258,  0.0029, -0.0684, -0.0326,  0.0664,  0.0654,  0.2975,  0.0603,\n",
      "         0.0315, -0.2472, -0.0566, -0.0975, -0.1773, -0.0163, -0.1074, -0.0456,\n",
      "        -0.0992,  0.0858, -0.0514,  0.0011,  0.1738,  0.1205,  0.0269, -0.0717,\n",
      "         0.0496, -0.0468,  0.1148, -0.0932, -0.0969,  0.1376,  0.0782, -0.0166,\n",
      "         0.0576,  0.1701,  0.0800,  0.0364, -0.0348,  0.2998,  0.1106, -0.4101,\n",
      "         0.0583,  0.1553,  0.1442, -0.1356,  0.0857,  0.1637,  0.0323,  0.1007,\n",
      "         0.1228, -0.0289, -0.0748, -0.0382, -0.1398,  0.1211,  0.0761,  0.0785,\n",
      "         0.0317, -0.0231, -0.0080, -0.0233,  0.0382,  0.0941,  0.0798,  0.0006,\n",
      "         0.0636,  0.1252,  0.2838,  0.0196,  0.1097,  0.1296])\n",
      "conti attr [tensor(-0.0258), tensor(0.0029), tensor(-0.1009), tensor(0.1318), tensor(0.2975), tensor(-0.1553), tensor(-0.3314), tensor(-0.0163), tensor(-0.1074), tensor(-0.0456), tensor(-0.0992), tensor(0.0858), tensor(-0.0514), tensor(0.0011), tensor(0.1738), tensor(0.1205), tensor(-0.0448), tensor(0.0496), tensor(-0.0468), tensor(0.1148), tensor(-0.0932), tensor(-0.0969), tensor(0.1376), tensor(0.0782), tensor(-0.0166), tensor(0.3440), tensor(0.2650), tensor(0.1106), tensor(-0.4101), tensor(0.2137), tensor(0.1442), tensor(0.1138), tensor(0.1330), tensor(0.1228), tensor(-0.0289), tensor(-0.0748), tensor(-0.0382), tensor(-0.1398), tensor(0.1972), tensor(0.0785), tensor(0.0317), tensor(-0.0231), tensor(0.1009), tensor(0.0805), tensor(0.0636), tensor(0.1252), tensor(0.2838), tensor(0.1293), tensor(0.1296)]\n",
      "detokenized ['<s>', 'The', 'companies', ',', 'Ch', 'iron', 'and', 'A', 'vent', 'is', 'Paste', 'ur', ',', 'together', 'made', 'about', '80', 'million', 'doses', 'of', 'the', 'injected', 'vaccine', ',', 'which', 'ordinarily', 'would', 'have', 'been', 'enough', 'to', 'meet', 'U', '.', 'S', '.', 'demand', '.', '</s>', '</s>', 'Ch', 'iron', 'and', 'A', 'vent', 'is', 'Paste', 'ur', 'together', 'made', 'about', '80', 'million', 'doses', ',', 'ordinarily', 'enough', 'for', 'U', '.', 'S', '.', 'demand', ',', 'The', 'Associated', 'Press', 'reported', '.', '</s>']\n",
      "len conti_raw 49\n",
      "conti_raw ['<s>', 'The', 'companies,', 'Chiron', 'and', 'Aventis', 'Pasteur,', 'together', 'made', 'about', '80', 'million', 'doses', 'of', 'the', 'injected', 'vaccine,', 'which', 'ordinarily', 'would', 'have', 'been', 'enough', 'to', 'meet', 'U.S.', 'demand.', '</s>', '</s>', 'Chiron', 'and', 'Aventis', 'Pasteur', 'together', 'made', 'about', '80', 'million', 'doses,', 'ordinarily', 'enough', 'for', 'U.S.', 'demand,', 'The', 'Associated', 'Press', 'reported.', '</s>']\n"
     ]
    },
    {
     "data": {
      "text/html": [
       "<table width: 100%><div style=\"border-top: 1px solid; margin-top: 5px;             padding-top: 5px; display: inline-block\"><b>Legend: </b><span style=\"display: inline-block; width: 10px; height: 10px;                 border: 1px solid; background-color:                 hsl(0, 75%, 60%)\"></span> Negative  <span style=\"display: inline-block; width: 10px; height: 10px;                 border: 1px solid; background-color:                 hsl(0, 75%, 100%)\"></span> Neutral  <span style=\"display: inline-block; width: 10px; height: 10px;                 border: 1px solid; background-color:                 hsl(120, 75%, 50%)\"></span> Positive  </div><tr><th>True Label</th><th>Predicted Label</th><th>Attribution Label</th><th>Attribution Score</th><th>Word Importance</th><tr><td><text style=\"padding-right:2em\"><b>Similar</b></text></td><td><text style=\"padding-right:2em\"><b>Similar (0.73)</b></text></td><td><text style=\"padding-right:2em\"><b>Similar</b></text></td><td><text style=\"padding-right:2em\"><b>1.91</b></text></td><td><mark style=\"background-color: hsl(0, 75%, 99%); opacity:1.0;                     line-height:1.75\"><font color=\"black\"> #s                    </font></mark><mark style=\"background-color: hsl(120, 75%, 100%); opacity:1.0;                     line-height:1.75\"><font color=\"black\"> The                    </font></mark><mark style=\"background-color: hsl(0, 75%, 96%); opacity:1.0;                     line-height:1.75\"><font color=\"black\"> companies,                    </font></mark><mark style=\"background-color: hsl(120, 75%, 94%); opacity:1.0;                     line-height:1.75\"><font color=\"black\"> Chiron                    </font></mark><mark style=\"background-color: hsl(120, 75%, 86%); opacity:1.0;                     line-height:1.75\"><font color=\"black\"> and                    </font></mark><mark style=\"background-color: hsl(0, 75%, 94%); opacity:1.0;                     line-height:1.75\"><font color=\"black\"> Aventis                    </font></mark><mark style=\"background-color: hsl(0, 75%, 87%); opacity:1.0;                     line-height:1.75\"><font color=\"black\"> Pasteur,                    </font></mark><mark style=\"background-color: hsl(0, 75%, 100%); opacity:1.0;                     line-height:1.75\"><font color=\"black\"> together                    </font></mark><mark style=\"background-color: hsl(0, 75%, 96%); opacity:1.0;                     line-height:1.75\"><font color=\"black\"> made                    </font></mark><mark style=\"background-color: hsl(0, 75%, 99%); opacity:1.0;                     line-height:1.75\"><font color=\"black\"> about                    </font></mark><mark style=\"background-color: hsl(0, 75%, 97%); opacity:1.0;                     line-height:1.75\"><font color=\"black\"> 80                    </font></mark><mark style=\"background-color: hsl(120, 75%, 96%); opacity:1.0;                     line-height:1.75\"><font color=\"black\"> million                    </font></mark><mark style=\"background-color: hsl(0, 75%, 98%); opacity:1.0;                     line-height:1.75\"><font color=\"black\"> doses                    </font></mark><mark style=\"background-color: hsl(120, 75%, 100%); opacity:1.0;                     line-height:1.75\"><font color=\"black\"> of                    </font></mark><mark style=\"background-color: hsl(120, 75%, 92%); opacity:1.0;                     line-height:1.75\"><font color=\"black\"> the                    </font></mark><mark style=\"background-color: hsl(120, 75%, 94%); opacity:1.0;                     line-height:1.75\"><font color=\"black\"> injected                    </font></mark><mark style=\"background-color: hsl(0, 75%, 99%); opacity:1.0;                     line-height:1.75\"><font color=\"black\"> vaccine,                    </font></mark><mark style=\"background-color: hsl(120, 75%, 98%); opacity:1.0;                     line-height:1.75\"><font color=\"black\"> which                    </font></mark><mark style=\"background-color: hsl(0, 75%, 99%); opacity:1.0;                     line-height:1.75\"><font color=\"black\"> ordinarily                    </font></mark><mark style=\"background-color: hsl(120, 75%, 95%); opacity:1.0;                     line-height:1.75\"><font color=\"black\"> would                    </font></mark><mark style=\"background-color: hsl(0, 75%, 97%); opacity:1.0;                     line-height:1.75\"><font color=\"black\"> have                    </font></mark><mark style=\"background-color: hsl(0, 75%, 97%); opacity:1.0;                     line-height:1.75\"><font color=\"black\"> been                    </font></mark><mark style=\"background-color: hsl(120, 75%, 94%); opacity:1.0;                     line-height:1.75\"><font color=\"black\"> enough                    </font></mark><mark style=\"background-color: hsl(120, 75%, 97%); opacity:1.0;                     line-height:1.75\"><font color=\"black\"> to                    </font></mark><mark style=\"background-color: hsl(0, 75%, 100%); opacity:1.0;                     line-height:1.75\"><font color=\"black\"> meet                    </font></mark><mark style=\"background-color: hsl(120, 75%, 83%); opacity:1.0;                     line-height:1.75\"><font color=\"black\"> U.S.                    </font></mark><mark style=\"background-color: hsl(120, 75%, 87%); opacity:1.0;                     line-height:1.75\"><font color=\"black\"> demand.                    </font></mark><mark style=\"background-color: hsl(120, 75%, 95%); opacity:1.0;                     line-height:1.75\"><font color=\"black\"> #/s                    </font></mark><mark style=\"background-color: hsl(0, 75%, 84%); opacity:1.0;                     line-height:1.75\"><font color=\"black\"> #/s                    </font></mark><mark style=\"background-color: hsl(120, 75%, 90%); opacity:1.0;                     line-height:1.75\"><font color=\"black\"> Chiron                    </font></mark><mark style=\"background-color: hsl(120, 75%, 93%); opacity:1.0;                     line-height:1.75\"><font color=\"black\"> and                    </font></mark><mark style=\"background-color: hsl(120, 75%, 95%); opacity:1.0;                     line-height:1.75\"><font color=\"black\"> Aventis                    </font></mark><mark style=\"background-color: hsl(120, 75%, 94%); opacity:1.0;                     line-height:1.75\"><font color=\"black\"> Pasteur                    </font></mark><mark style=\"background-color: hsl(120, 75%, 94%); opacity:1.0;                     line-height:1.75\"><font color=\"black\"> together                    </font></mark><mark style=\"background-color: hsl(0, 75%, 99%); opacity:1.0;                     line-height:1.75\"><font color=\"black\"> made                    </font></mark><mark style=\"background-color: hsl(0, 75%, 98%); opacity:1.0;                     line-height:1.75\"><font color=\"black\"> about                    </font></mark><mark style=\"background-color: hsl(0, 75%, 99%); opacity:1.0;                     line-height:1.75\"><font color=\"black\"> 80                    </font></mark><mark style=\"background-color: hsl(0, 75%, 95%); opacity:1.0;                     line-height:1.75\"><font color=\"black\"> million                    </font></mark><mark style=\"background-color: hsl(120, 75%, 91%); opacity:1.0;                     line-height:1.75\"><font color=\"black\"> doses,                    </font></mark><mark style=\"background-color: hsl(120, 75%, 97%); opacity:1.0;                     line-height:1.75\"><font color=\"black\"> ordinarily                    </font></mark><mark style=\"background-color: hsl(120, 75%, 99%); opacity:1.0;                     line-height:1.75\"><font color=\"black\"> enough                    </font></mark><mark style=\"background-color: hsl(0, 75%, 100%); opacity:1.0;                     line-height:1.75\"><font color=\"black\"> for                    </font></mark><mark style=\"background-color: hsl(120, 75%, 95%); opacity:1.0;                     line-height:1.75\"><font color=\"black\"> U.S.                    </font></mark><mark style=\"background-color: hsl(120, 75%, 96%); opacity:1.0;                     line-height:1.75\"><font color=\"black\"> demand,                    </font></mark><mark style=\"background-color: hsl(120, 75%, 97%); opacity:1.0;                     line-height:1.75\"><font color=\"black\"> The                    </font></mark><mark style=\"background-color: hsl(120, 75%, 94%); opacity:1.0;                     line-height:1.75\"><font color=\"black\"> Associated                    </font></mark><mark style=\"background-color: hsl(120, 75%, 86%); opacity:1.0;                     line-height:1.75\"><font color=\"black\"> Press                    </font></mark><mark style=\"background-color: hsl(120, 75%, 94%); opacity:1.0;                     line-height:1.75\"><font color=\"black\"> reported.                    </font></mark><mark style=\"background-color: hsl(120, 75%, 94%); opacity:1.0;                     line-height:1.75\"><font color=\"black\"> #/s                    </font></mark></td><tr></table>"
      ],
      "text/plain": [
       "<IPython.core.display.HTML object>"
      ]
     },
     "metadata": {},
     "output_type": "display_data"
    },
    {
     "name": "stderr",
     "output_type": "stream",
     "text": [
      "/home/user/anaconda3/envs/py38/lib/python3.9/site-packages/captum/attr/_core/lime.py:1088: UserWarning: Attempting to construct interpretable model with > 10000 features.This can be very slow or lead to OOM issues. Please provide a featuremask which groups input features to reduce the number of interpretablefeatures. \n",
      "  warnings.warn(\n"
     ]
    },
    {
     "name": "stdout",
     "output_type": "stream",
     "text": [
      "<IPython.core.display.HTML object>\n",
      "Raw review: ['A woman jumps and poses for the camera.', 'A woman poses for the camera.']\n",
      "GT target: 4.0\n",
      "pred_prob 3.580184280872345\n"
     ]
    },
    {
     "name": "stderr",
     "output_type": "stream",
     "text": [
      "Kernel Shap attribution: 100%|██████████████████████████████████████████████████████████| 10/10 [00:29<00:00,  2.93s/it]\n"
     ]
    },
    {
     "name": "stdout",
     "output_type": "stream",
     "text": [
      "word attr tensor([ 0.5399, -0.1183,  0.0794, -0.1183,  0.0101, -0.3704,  0.1914, -0.0865,\n",
      "        -0.0073, -0.0806,  0.0561, -0.0024,  0.2530,  0.1819, -0.0048, -0.0610,\n",
      "         0.2346, -0.0283, -0.1989,  0.5356])\n",
      "conti attr [tensor(0.5399), tensor(-0.1183), tensor(0.0794), tensor(-0.1183), tensor(0.0101), tensor(-0.3704), tensor(0.1914), tensor(-0.0865), tensor(-0.0880), tensor(0.0561), tensor(-0.0024), tensor(0.2530), tensor(0.1819), tensor(-0.0048), tensor(-0.0610), tensor(0.2346), tensor(-0.2272), tensor(0.5356)]\n",
      "detokenized ['<s>', 'A', 'woman', 'jumps', 'and', 'poses', 'for', 'the', 'camera', '.', '</s>', '</s>', 'A', 'woman', 'poses', 'for', 'the', 'camera', '.', '</s>']\n",
      "len conti_raw 18\n",
      "conti_raw ['<s>', 'A', 'woman', 'jumps', 'and', 'poses', 'for', 'the', 'camera.', '</s>', '</s>', 'A', 'woman', 'poses', 'for', 'the', 'camera.', '</s>']\n"
     ]
    },
    {
     "data": {
      "text/html": [
       "<table width: 100%><div style=\"border-top: 1px solid; margin-top: 5px;             padding-top: 5px; display: inline-block\"><b>Legend: </b><span style=\"display: inline-block; width: 10px; height: 10px;                 border: 1px solid; background-color:                 hsl(0, 75%, 60%)\"></span> Negative  <span style=\"display: inline-block; width: 10px; height: 10px;                 border: 1px solid; background-color:                 hsl(0, 75%, 100%)\"></span> Neutral  <span style=\"display: inline-block; width: 10px; height: 10px;                 border: 1px solid; background-color:                 hsl(120, 75%, 50%)\"></span> Positive  </div><tr><th>True Label</th><th>Predicted Label</th><th>Attribution Label</th><th>Attribution Score</th><th>Word Importance</th><tr><td><text style=\"padding-right:2em\"><b>Similar</b></text></td><td><text style=\"padding-right:2em\"><b>Similar (0.72)</b></text></td><td><text style=\"padding-right:2em\"><b>Similar</b></text></td><td><text style=\"padding-right:2em\"><b>1.01</b></text></td><td><mark style=\"background-color: hsl(120, 75%, 74%); opacity:1.0;                     line-height:1.75\"><font color=\"black\"> #s                    </font></mark><mark style=\"background-color: hsl(0, 75%, 96%); opacity:1.0;                     line-height:1.75\"><font color=\"black\"> A                    </font></mark><mark style=\"background-color: hsl(120, 75%, 97%); opacity:1.0;                     line-height:1.75\"><font color=\"black\"> woman                    </font></mark><mark style=\"background-color: hsl(0, 75%, 96%); opacity:1.0;                     line-height:1.75\"><font color=\"black\"> jumps                    </font></mark><mark style=\"background-color: hsl(120, 75%, 100%); opacity:1.0;                     line-height:1.75\"><font color=\"black\"> and                    </font></mark><mark style=\"background-color: hsl(0, 75%, 86%); opacity:1.0;                     line-height:1.75\"><font color=\"black\"> poses                    </font></mark><mark style=\"background-color: hsl(120, 75%, 91%); opacity:1.0;                     line-height:1.75\"><font color=\"black\"> for                    </font></mark><mark style=\"background-color: hsl(0, 75%, 97%); opacity:1.0;                     line-height:1.75\"><font color=\"black\"> the                    </font></mark><mark style=\"background-color: hsl(0, 75%, 97%); opacity:1.0;                     line-height:1.75\"><font color=\"black\"> camera.                    </font></mark><mark style=\"background-color: hsl(120, 75%, 98%); opacity:1.0;                     line-height:1.75\"><font color=\"black\"> #/s                    </font></mark><mark style=\"background-color: hsl(0, 75%, 100%); opacity:1.0;                     line-height:1.75\"><font color=\"black\"> #/s                    </font></mark><mark style=\"background-color: hsl(120, 75%, 88%); opacity:1.0;                     line-height:1.75\"><font color=\"black\"> A                    </font></mark><mark style=\"background-color: hsl(120, 75%, 91%); opacity:1.0;                     line-height:1.75\"><font color=\"black\"> woman                    </font></mark><mark style=\"background-color: hsl(0, 75%, 100%); opacity:1.0;                     line-height:1.75\"><font color=\"black\"> poses                    </font></mark><mark style=\"background-color: hsl(0, 75%, 98%); opacity:1.0;                     line-height:1.75\"><font color=\"black\"> for                    </font></mark><mark style=\"background-color: hsl(120, 75%, 89%); opacity:1.0;                     line-height:1.75\"><font color=\"black\"> the                    </font></mark><mark style=\"background-color: hsl(0, 75%, 91%); opacity:1.0;                     line-height:1.75\"><font color=\"black\"> camera.                    </font></mark><mark style=\"background-color: hsl(120, 75%, 74%); opacity:1.0;                     line-height:1.75\"><font color=\"black\"> #/s                    </font></mark></td><tr></table>"
      ],
      "text/plain": [
       "<IPython.core.display.HTML object>"
      ]
     },
     "metadata": {},
     "output_type": "display_data"
    },
    {
     "name": "stderr",
     "output_type": "stream",
     "text": [
      "/home/user/anaconda3/envs/py38/lib/python3.9/site-packages/captum/attr/_core/lime.py:1088: UserWarning: Attempting to construct interpretable model with > 10000 features.This can be very slow or lead to OOM issues. Please provide a featuremask which groups input features to reduce the number of interpretablefeatures. \n",
      "  warnings.warn(\n"
     ]
    },
    {
     "name": "stdout",
     "output_type": "stream",
     "text": [
      "<IPython.core.display.HTML object>\n",
      "Raw review: ['He claims it may seem unrealistic only because little effort has been devoted to the concept.', '\"This proposal is modest compared with the space programme, and may seem unrealistic only because little effort has been devoted to it.']\n",
      "GT target: 3.5\n",
      "pred_prob 3.237951099872589\n"
     ]
    },
    {
     "name": "stderr",
     "output_type": "stream",
     "text": [
      "Kernel Shap attribution: 100%|██████████████████████████████████████████████████████████| 10/10 [01:10<00:00,  7.09s/it]\n"
     ]
    },
    {
     "name": "stdout",
     "output_type": "stream",
     "text": [
      "word attr tensor([-0.1169,  0.1008,  0.2599,  0.0459,  0.0917, -0.0768, -0.1592, -0.2008,\n",
      "         0.1358, -0.1591, -0.1475,  0.1745,  0.1235, -0.2146,  0.0713, -0.2368,\n",
      "         0.0560, -0.0233,  0.1414, -0.0837, -0.0625,  0.1572,  0.1259, -0.0678,\n",
      "         0.0721,  0.1175,  0.0436,  0.1728,  0.0537, -0.1723,  0.0909, -0.2998,\n",
      "         0.0062, -0.1084,  0.2924,  0.0032,  0.2116, -0.0267,  0.2632,  0.1091,\n",
      "         0.1816, -0.0542, -0.0501,  0.1365,  0.2000,  0.1612])\n",
      "conti attr [tensor(-0.1169), tensor(0.1008), tensor(0.2599), tensor(0.0459), tensor(0.0917), tensor(-0.0768), tensor(-0.1592), tensor(-0.2008), tensor(0.1358), tensor(-0.1591), tensor(-0.1475), tensor(0.1745), tensor(0.1235), tensor(-0.2146), tensor(0.0713), tensor(-0.2368), tensor(0.0328), tensor(0.1414), tensor(-0.0837), tensor(0.0947), tensor(0.1259), tensor(-0.0678), tensor(0.0721), tensor(0.1175), tensor(0.0436), tensor(0.1728), tensor(0.0537), tensor(-0.0814), tensor(-0.2998), tensor(0.0062), tensor(-0.1084), tensor(0.2924), tensor(0.0032), tensor(0.2116), tensor(-0.0267), tensor(0.2632), tensor(0.1091), tensor(0.1816), tensor(-0.0542), tensor(-0.0501), tensor(0.3366), tensor(0.1612)]\n",
      "detokenized ['<s>', 'He', 'claims', 'it', 'may', 'seem', 'unrealistic', 'only', 'because', 'little', 'effort', 'has', 'been', 'devoted', 'to', 'the', 'concept', '.', '</s>', '</s>', '\"', 'This', 'proposal', 'is', 'modest', 'compared', 'with', 'the', 'space', 'programme', ',', 'and', 'may', 'seem', 'unrealistic', 'only', 'because', 'little', 'effort', 'has', 'been', 'devoted', 'to', 'it', '.', '</s>']\n",
      "len conti_raw 42\n",
      "conti_raw ['<s>', 'He', 'claims', 'it', 'may', 'seem', 'unrealistic', 'only', 'because', 'little', 'effort', 'has', 'been', 'devoted', 'to', 'the', 'concept.', '</s>', '</s>', '\"This', 'proposal', 'is', 'modest', 'compared', 'with', 'the', 'space', 'programme,', 'and', 'may', 'seem', 'unrealistic', 'only', 'because', 'little', 'effort', 'has', 'been', 'devoted', 'to', 'it.', '</s>']\n"
     ]
    },
    {
     "data": {
      "text/html": [
       "<table width: 100%><div style=\"border-top: 1px solid; margin-top: 5px;             padding-top: 5px; display: inline-block\"><b>Legend: </b><span style=\"display: inline-block; width: 10px; height: 10px;                 border: 1px solid; background-color:                 hsl(0, 75%, 60%)\"></span> Negative  <span style=\"display: inline-block; width: 10px; height: 10px;                 border: 1px solid; background-color:                 hsl(0, 75%, 100%)\"></span> Neutral  <span style=\"display: inline-block; width: 10px; height: 10px;                 border: 1px solid; background-color:                 hsl(120, 75%, 50%)\"></span> Positive  </div><tr><th>True Label</th><th>Predicted Label</th><th>Attribution Label</th><th>Attribution Score</th><th>Word Importance</th><tr><td><text style=\"padding-right:2em\"><b>Similar</b></text></td><td><text style=\"padding-right:2em\"><b>Similar (0.65)</b></text></td><td><text style=\"padding-right:2em\"><b>Similar</b></text></td><td><text style=\"padding-right:2em\"><b>1.34</b></text></td><td><mark style=\"background-color: hsl(0, 75%, 96%); opacity:1.0;                     line-height:1.75\"><font color=\"black\"> #s                    </font></mark><mark style=\"background-color: hsl(120, 75%, 95%); opacity:1.0;                     line-height:1.75\"><font color=\"black\"> He                    </font></mark><mark style=\"background-color: hsl(120, 75%, 88%); opacity:1.0;                     line-height:1.75\"><font color=\"black\"> claims                    </font></mark><mark style=\"background-color: hsl(120, 75%, 98%); opacity:1.0;                     line-height:1.75\"><font color=\"black\"> it                    </font></mark><mark style=\"background-color: hsl(120, 75%, 96%); opacity:1.0;                     line-height:1.75\"><font color=\"black\"> may                    </font></mark><mark style=\"background-color: hsl(0, 75%, 97%); opacity:1.0;                     line-height:1.75\"><font color=\"black\"> seem                    </font></mark><mark style=\"background-color: hsl(0, 75%, 94%); opacity:1.0;                     line-height:1.75\"><font color=\"black\"> unrealistic                    </font></mark><mark style=\"background-color: hsl(0, 75%, 92%); opacity:1.0;                     line-height:1.75\"><font color=\"black\"> only                    </font></mark><mark style=\"background-color: hsl(120, 75%, 94%); opacity:1.0;                     line-height:1.75\"><font color=\"black\"> because                    </font></mark><mark style=\"background-color: hsl(0, 75%, 94%); opacity:1.0;                     line-height:1.75\"><font color=\"black\"> little                    </font></mark><mark style=\"background-color: hsl(0, 75%, 95%); opacity:1.0;                     line-height:1.75\"><font color=\"black\"> effort                    </font></mark><mark style=\"background-color: hsl(120, 75%, 92%); opacity:1.0;                     line-height:1.75\"><font color=\"black\"> has                    </font></mark><mark style=\"background-color: hsl(120, 75%, 94%); opacity:1.0;                     line-height:1.75\"><font color=\"black\"> been                    </font></mark><mark style=\"background-color: hsl(0, 75%, 92%); opacity:1.0;                     line-height:1.75\"><font color=\"black\"> devoted                    </font></mark><mark style=\"background-color: hsl(120, 75%, 97%); opacity:1.0;                     line-height:1.75\"><font color=\"black\"> to                    </font></mark><mark style=\"background-color: hsl(0, 75%, 91%); opacity:1.0;                     line-height:1.75\"><font color=\"black\"> the                    </font></mark><mark style=\"background-color: hsl(120, 75%, 99%); opacity:1.0;                     line-height:1.75\"><font color=\"black\"> concept.                    </font></mark><mark style=\"background-color: hsl(120, 75%, 93%); opacity:1.0;                     line-height:1.75\"><font color=\"black\"> #/s                    </font></mark><mark style=\"background-color: hsl(0, 75%, 97%); opacity:1.0;                     line-height:1.75\"><font color=\"black\"> #/s                    </font></mark><mark style=\"background-color: hsl(120, 75%, 96%); opacity:1.0;                     line-height:1.75\"><font color=\"black\"> \"This                    </font></mark><mark style=\"background-color: hsl(120, 75%, 94%); opacity:1.0;                     line-height:1.75\"><font color=\"black\"> proposal                    </font></mark><mark style=\"background-color: hsl(0, 75%, 98%); opacity:1.0;                     line-height:1.75\"><font color=\"black\"> is                    </font></mark><mark style=\"background-color: hsl(120, 75%, 97%); opacity:1.0;                     line-height:1.75\"><font color=\"black\"> modest                    </font></mark><mark style=\"background-color: hsl(120, 75%, 95%); opacity:1.0;                     line-height:1.75\"><font color=\"black\"> compared                    </font></mark><mark style=\"background-color: hsl(120, 75%, 98%); opacity:1.0;                     line-height:1.75\"><font color=\"black\"> with                    </font></mark><mark style=\"background-color: hsl(120, 75%, 92%); opacity:1.0;                     line-height:1.75\"><font color=\"black\"> the                    </font></mark><mark style=\"background-color: hsl(120, 75%, 98%); opacity:1.0;                     line-height:1.75\"><font color=\"black\"> space                    </font></mark><mark style=\"background-color: hsl(0, 75%, 97%); opacity:1.0;                     line-height:1.75\"><font color=\"black\"> programme,                    </font></mark><mark style=\"background-color: hsl(0, 75%, 89%); opacity:1.0;                     line-height:1.75\"><font color=\"black\"> and                    </font></mark><mark style=\"background-color: hsl(120, 75%, 100%); opacity:1.0;                     line-height:1.75\"><font color=\"black\"> may                    </font></mark><mark style=\"background-color: hsl(0, 75%, 96%); opacity:1.0;                     line-height:1.75\"><font color=\"black\"> seem                    </font></mark><mark style=\"background-color: hsl(120, 75%, 86%); opacity:1.0;                     line-height:1.75\"><font color=\"black\"> unrealistic                    </font></mark><mark style=\"background-color: hsl(120, 75%, 100%); opacity:1.0;                     line-height:1.75\"><font color=\"black\"> only                    </font></mark><mark style=\"background-color: hsl(120, 75%, 90%); opacity:1.0;                     line-height:1.75\"><font color=\"black\"> because                    </font></mark><mark style=\"background-color: hsl(0, 75%, 99%); opacity:1.0;                     line-height:1.75\"><font color=\"black\"> little                    </font></mark><mark style=\"background-color: hsl(120, 75%, 87%); opacity:1.0;                     line-height:1.75\"><font color=\"black\"> effort                    </font></mark><mark style=\"background-color: hsl(120, 75%, 95%); opacity:1.0;                     line-height:1.75\"><font color=\"black\"> has                    </font></mark><mark style=\"background-color: hsl(120, 75%, 91%); opacity:1.0;                     line-height:1.75\"><font color=\"black\"> been                    </font></mark><mark style=\"background-color: hsl(0, 75%, 98%); opacity:1.0;                     line-height:1.75\"><font color=\"black\"> devoted                    </font></mark><mark style=\"background-color: hsl(0, 75%, 98%); opacity:1.0;                     line-height:1.75\"><font color=\"black\"> to                    </font></mark><mark style=\"background-color: hsl(120, 75%, 84%); opacity:1.0;                     line-height:1.75\"><font color=\"black\"> it.                    </font></mark><mark style=\"background-color: hsl(120, 75%, 92%); opacity:1.0;                     line-height:1.75\"><font color=\"black\"> #/s                    </font></mark></td><tr></table>"
      ],
      "text/plain": [
       "<IPython.core.display.HTML object>"
      ]
     },
     "metadata": {},
     "output_type": "display_data"
    },
    {
     "name": "stderr",
     "output_type": "stream",
     "text": [
      "/home/user/anaconda3/envs/py38/lib/python3.9/site-packages/captum/attr/_core/lime.py:1088: UserWarning: Attempting to construct interpretable model with > 10000 features.This can be very slow or lead to OOM issues. Please provide a featuremask which groups input features to reduce the number of interpretablefeatures. \n",
      "  warnings.warn(\n"
     ]
    },
    {
     "name": "stdout",
     "output_type": "stream",
     "text": [
      "<IPython.core.display.HTML object>\n",
      "Raw review: ['A bird eating from a bird feeder.', 'A yellow bird eating fruit on a bird feeder.']\n",
      "GT target: 3.200000047683716\n",
      "pred_prob 3.4366700053215027\n"
     ]
    },
    {
     "name": "stderr",
     "output_type": "stream",
     "text": [
      "Kernel Shap attribution: 100%|██████████████████████████████████████████████████████████| 10/10 [00:34<00:00,  3.44s/it]\n"
     ]
    },
    {
     "name": "stdout",
     "output_type": "stream",
     "text": [
      "word attr tensor([ 0.1685, -0.2112, -0.1242,  0.2202, -0.2185,  0.2379,  0.2221,  0.1197,\n",
      "         0.0609,  0.1000, -0.0691, -0.2817, -0.0099,  0.0905,  0.1935,  0.1457,\n",
      "         0.0530, -0.0342, -0.0348, -0.2136, -0.0956,  0.0711,  0.3640,  0.5769])\n",
      "conti attr [tensor(0.1685), tensor(-0.2112), tensor(-0.1242), tensor(0.2202), tensor(-0.2185), tensor(0.2379), tensor(0.2221), tensor(0.2806), tensor(-0.0691), tensor(-0.2817), tensor(-0.0099), tensor(0.0905), tensor(0.1935), tensor(0.1457), tensor(0.0530), tensor(-0.0342), tensor(-0.0348), tensor(-0.2136), tensor(0.3395), tensor(0.5769)]\n",
      "detokenized ['<s>', 'A', 'bird', 'eating', 'from', 'a', 'bird', 'feed', 'er', '.', '</s>', '</s>', 'A', 'yellow', 'bird', 'eating', 'fruit', 'on', 'a', 'bird', 'feed', 'er', '.', '</s>']\n",
      "len conti_raw 20\n",
      "conti_raw ['<s>', 'A', 'bird', 'eating', 'from', 'a', 'bird', 'feeder.', '</s>', '</s>', 'A', 'yellow', 'bird', 'eating', 'fruit', 'on', 'a', 'bird', 'feeder.', '</s>']\n"
     ]
    },
    {
     "data": {
      "text/html": [
       "<table width: 100%><div style=\"border-top: 1px solid; margin-top: 5px;             padding-top: 5px; display: inline-block\"><b>Legend: </b><span style=\"display: inline-block; width: 10px; height: 10px;                 border: 1px solid; background-color:                 hsl(0, 75%, 60%)\"></span> Negative  <span style=\"display: inline-block; width: 10px; height: 10px;                 border: 1px solid; background-color:                 hsl(0, 75%, 100%)\"></span> Neutral  <span style=\"display: inline-block; width: 10px; height: 10px;                 border: 1px solid; background-color:                 hsl(120, 75%, 50%)\"></span> Positive  </div><tr><th>True Label</th><th>Predicted Label</th><th>Attribution Label</th><th>Attribution Score</th><th>Word Importance</th><tr><td><text style=\"padding-right:2em\"><b>Similar</b></text></td><td><text style=\"padding-right:2em\"><b>Similar (0.69)</b></text></td><td><text style=\"padding-right:2em\"><b>Similar</b></text></td><td><text style=\"padding-right:2em\"><b>1.33</b></text></td><td><mark style=\"background-color: hsl(120, 75%, 92%); opacity:1.0;                     line-height:1.75\"><font color=\"black\"> #s                    </font></mark><mark style=\"background-color: hsl(0, 75%, 92%); opacity:1.0;                     line-height:1.75\"><font color=\"black\"> A                    </font></mark><mark style=\"background-color: hsl(0, 75%, 96%); opacity:1.0;                     line-height:1.75\"><font color=\"black\"> bird                    </font></mark><mark style=\"background-color: hsl(120, 75%, 89%); opacity:1.0;                     line-height:1.75\"><font color=\"black\"> eating                    </font></mark><mark style=\"background-color: hsl(0, 75%, 92%); opacity:1.0;                     line-height:1.75\"><font color=\"black\"> from                    </font></mark><mark style=\"background-color: hsl(120, 75%, 89%); opacity:1.0;                     line-height:1.75\"><font color=\"black\"> a                    </font></mark><mark style=\"background-color: hsl(120, 75%, 89%); opacity:1.0;                     line-height:1.75\"><font color=\"black\"> bird                    </font></mark><mark style=\"background-color: hsl(120, 75%, 86%); opacity:1.0;                     line-height:1.75\"><font color=\"black\"> feeder.                    </font></mark><mark style=\"background-color: hsl(0, 75%, 98%); opacity:1.0;                     line-height:1.75\"><font color=\"black\"> #/s                    </font></mark><mark style=\"background-color: hsl(0, 75%, 89%); opacity:1.0;                     line-height:1.75\"><font color=\"black\"> #/s                    </font></mark><mark style=\"background-color: hsl(0, 75%, 100%); opacity:1.0;                     line-height:1.75\"><font color=\"black\"> A                    </font></mark><mark style=\"background-color: hsl(120, 75%, 96%); opacity:1.0;                     line-height:1.75\"><font color=\"black\"> yellow                    </font></mark><mark style=\"background-color: hsl(120, 75%, 91%); opacity:1.0;                     line-height:1.75\"><font color=\"black\"> bird                    </font></mark><mark style=\"background-color: hsl(120, 75%, 93%); opacity:1.0;                     line-height:1.75\"><font color=\"black\"> eating                    </font></mark><mark style=\"background-color: hsl(120, 75%, 98%); opacity:1.0;                     line-height:1.75\"><font color=\"black\"> fruit                    </font></mark><mark style=\"background-color: hsl(0, 75%, 99%); opacity:1.0;                     line-height:1.75\"><font color=\"black\"> on                    </font></mark><mark style=\"background-color: hsl(0, 75%, 99%); opacity:1.0;                     line-height:1.75\"><font color=\"black\"> a                    </font></mark><mark style=\"background-color: hsl(0, 75%, 92%); opacity:1.0;                     line-height:1.75\"><font color=\"black\"> bird                    </font></mark><mark style=\"background-color: hsl(120, 75%, 84%); opacity:1.0;                     line-height:1.75\"><font color=\"black\"> feeder.                    </font></mark><mark style=\"background-color: hsl(120, 75%, 72%); opacity:1.0;                     line-height:1.75\"><font color=\"black\"> #/s                    </font></mark></td><tr></table>"
      ],
      "text/plain": [
       "<IPython.core.display.HTML object>"
      ]
     },
     "metadata": {},
     "output_type": "display_data"
    },
    {
     "name": "stderr",
     "output_type": "stream",
     "text": [
      "/home/user/anaconda3/envs/py38/lib/python3.9/site-packages/captum/attr/_core/lime.py:1088: UserWarning: Attempting to construct interpretable model with > 10000 features.This can be very slow or lead to OOM issues. Please provide a featuremask which groups input features to reduce the number of interpretablefeatures. \n",
      "  warnings.warn(\n"
     ]
    },
    {
     "name": "stdout",
     "output_type": "stream",
     "text": [
      "<IPython.core.display.HTML object>\n",
      "Raw review: ['Different parts of California have different wildlife, so you should probably narrow the region.', 'American black bears They are somewhat common in some wilderness areas of California, mostly in the mountains.']\n",
      "GT target: 2.0\n",
      "pred_prob 1.586385816335678\n"
     ]
    },
    {
     "name": "stderr",
     "output_type": "stream",
     "text": [
      "Kernel Shap attribution: 100%|██████████████████████████████████████████████████████████| 10/10 [01:00<00:00,  6.02s/it]\n"
     ]
    },
    {
     "name": "stdout",
     "output_type": "stream",
     "text": [
      "word attr tensor([ 0.0588, -0.1009, -0.2091, -0.1528,  0.0886,  0.0567,  0.0204,  0.1578,\n",
      "         0.1013,  0.0787, -0.0669,  0.0415,  0.0807,  0.0799,  0.0256,  0.0413,\n",
      "         0.0091,  0.3422, -0.0238, -0.1436, -0.3429, -0.0036,  0.2562, -0.0314,\n",
      "        -0.3193, -0.2811, -0.0278,  0.0023, -0.0009, -0.1137, -0.1571,  0.0600,\n",
      "         0.1602, -0.0115, -0.1511,  0.0271,  0.1201,  0.4578,  0.1617])\n",
      "conti attr [tensor(0.0588), tensor(-0.1009), tensor(-0.2091), tensor(-0.1528), tensor(0.0886), tensor(0.0567), tensor(0.0204), tensor(0.2591), tensor(0.0787), tensor(-0.0669), tensor(0.0415), tensor(0.0807), tensor(0.0799), tensor(0.0256), tensor(0.0504), tensor(0.3422), tensor(-0.0238), tensor(-0.1436), tensor(-0.3429), tensor(-0.0036), tensor(0.2562), tensor(-0.0314), tensor(-0.3193), tensor(-0.2811), tensor(-0.0278), tensor(0.0023), tensor(-0.0009), tensor(-0.1137), tensor(-0.1571), tensor(0.2201), tensor(-0.0115), tensor(-0.1511), tensor(0.0271), tensor(0.5779), tensor(0.1617)]\n",
      "detokenized ['<s>', 'Different', 'parts', 'of', 'California', 'have', 'different', 'wildlife', ',', 'so', 'you', 'should', 'probably', 'narrow', 'the', 'region', '.', '</s>', '</s>', 'American', 'black', 'bears', 'They', 'are', 'somewhat', 'common', 'in', 'some', 'wilderness', 'areas', 'of', 'California', ',', 'mostly', 'in', 'the', 'mountains', '.', '</s>']\n",
      "len conti_raw 35\n",
      "conti_raw ['<s>', 'Different', 'parts', 'of', 'California', 'have', 'different', 'wildlife,', 'so', 'you', 'should', 'probably', 'narrow', 'the', 'region.', '</s>', '</s>', 'American', 'black', 'bears', 'They', 'are', 'somewhat', 'common', 'in', 'some', 'wilderness', 'areas', 'of', 'California,', 'mostly', 'in', 'the', 'mountains.', '</s>']\n"
     ]
    },
    {
     "data": {
      "text/html": [
       "<table width: 100%><div style=\"border-top: 1px solid; margin-top: 5px;             padding-top: 5px; display: inline-block\"><b>Legend: </b><span style=\"display: inline-block; width: 10px; height: 10px;                 border: 1px solid; background-color:                 hsl(0, 75%, 60%)\"></span> Negative  <span style=\"display: inline-block; width: 10px; height: 10px;                 border: 1px solid; background-color:                 hsl(0, 75%, 100%)\"></span> Neutral  <span style=\"display: inline-block; width: 10px; height: 10px;                 border: 1px solid; background-color:                 hsl(120, 75%, 50%)\"></span> Positive  </div><tr><th>True Label</th><th>Predicted Label</th><th>Attribution Label</th><th>Attribution Score</th><th>Word Importance</th><tr><td><text style=\"padding-right:2em\"><b>Not Similar</b></text></td><td><text style=\"padding-right:2em\"><b>Not Similar (0.32)</b></text></td><td><text style=\"padding-right:2em\"><b>Not Similar</b></text></td><td><text style=\"padding-right:2em\"><b>0.29</b></text></td><td><mark style=\"background-color: hsl(120, 75%, 98%); opacity:1.0;                     line-height:1.75\"><font color=\"black\"> #s                    </font></mark><mark style=\"background-color: hsl(0, 75%, 96%); opacity:1.0;                     line-height:1.75\"><font color=\"black\"> Different                    </font></mark><mark style=\"background-color: hsl(0, 75%, 92%); opacity:1.0;                     line-height:1.75\"><font color=\"black\"> parts                    </font></mark><mark style=\"background-color: hsl(0, 75%, 94%); opacity:1.0;                     line-height:1.75\"><font color=\"black\"> of                    </font></mark><mark style=\"background-color: hsl(120, 75%, 96%); opacity:1.0;                     line-height:1.75\"><font color=\"black\"> California                    </font></mark><mark style=\"background-color: hsl(120, 75%, 98%); opacity:1.0;                     line-height:1.75\"><font color=\"black\"> have                    </font></mark><mark style=\"background-color: hsl(120, 75%, 99%); opacity:1.0;                     line-height:1.75\"><font color=\"black\"> different                    </font></mark><mark style=\"background-color: hsl(120, 75%, 88%); opacity:1.0;                     line-height:1.75\"><font color=\"black\"> wildlife,                    </font></mark><mark style=\"background-color: hsl(120, 75%, 97%); opacity:1.0;                     line-height:1.75\"><font color=\"black\"> so                    </font></mark><mark style=\"background-color: hsl(0, 75%, 98%); opacity:1.0;                     line-height:1.75\"><font color=\"black\"> you                    </font></mark><mark style=\"background-color: hsl(120, 75%, 98%); opacity:1.0;                     line-height:1.75\"><font color=\"black\"> should                    </font></mark><mark style=\"background-color: hsl(120, 75%, 96%); opacity:1.0;                     line-height:1.75\"><font color=\"black\"> probably                    </font></mark><mark style=\"background-color: hsl(120, 75%, 97%); opacity:1.0;                     line-height:1.75\"><font color=\"black\"> narrow                    </font></mark><mark style=\"background-color: hsl(120, 75%, 99%); opacity:1.0;                     line-height:1.75\"><font color=\"black\"> the                    </font></mark><mark style=\"background-color: hsl(120, 75%, 98%); opacity:1.0;                     line-height:1.75\"><font color=\"black\"> region.                    </font></mark><mark style=\"background-color: hsl(120, 75%, 83%); opacity:1.0;                     line-height:1.75\"><font color=\"black\"> #/s                    </font></mark><mark style=\"background-color: hsl(0, 75%, 100%); opacity:1.0;                     line-height:1.75\"><font color=\"black\"> #/s                    </font></mark><mark style=\"background-color: hsl(0, 75%, 95%); opacity:1.0;                     line-height:1.75\"><font color=\"black\"> American                    </font></mark><mark style=\"background-color: hsl(0, 75%, 87%); opacity:1.0;                     line-height:1.75\"><font color=\"black\"> black                    </font></mark><mark style=\"background-color: hsl(0, 75%, 100%); opacity:1.0;                     line-height:1.75\"><font color=\"black\"> bears                    </font></mark><mark style=\"background-color: hsl(120, 75%, 88%); opacity:1.0;                     line-height:1.75\"><font color=\"black\"> They                    </font></mark><mark style=\"background-color: hsl(0, 75%, 99%); opacity:1.0;                     line-height:1.75\"><font color=\"black\"> are                    </font></mark><mark style=\"background-color: hsl(0, 75%, 88%); opacity:1.0;                     line-height:1.75\"><font color=\"black\"> somewhat                    </font></mark><mark style=\"background-color: hsl(0, 75%, 89%); opacity:1.0;                     line-height:1.75\"><font color=\"black\"> common                    </font></mark><mark style=\"background-color: hsl(0, 75%, 99%); opacity:1.0;                     line-height:1.75\"><font color=\"black\"> in                    </font></mark><mark style=\"background-color: hsl(120, 75%, 100%); opacity:1.0;                     line-height:1.75\"><font color=\"black\"> some                    </font></mark><mark style=\"background-color: hsl(0, 75%, 100%); opacity:1.0;                     line-height:1.75\"><font color=\"black\"> wilderness                    </font></mark><mark style=\"background-color: hsl(0, 75%, 96%); opacity:1.0;                     line-height:1.75\"><font color=\"black\"> areas                    </font></mark><mark style=\"background-color: hsl(0, 75%, 94%); opacity:1.0;                     line-height:1.75\"><font color=\"black\"> of                    </font></mark><mark style=\"background-color: hsl(120, 75%, 89%); opacity:1.0;                     line-height:1.75\"><font color=\"black\"> California,                    </font></mark><mark style=\"background-color: hsl(0, 75%, 100%); opacity:1.0;                     line-height:1.75\"><font color=\"black\"> mostly                    </font></mark><mark style=\"background-color: hsl(0, 75%, 94%); opacity:1.0;                     line-height:1.75\"><font color=\"black\"> in                    </font></mark><mark style=\"background-color: hsl(120, 75%, 99%); opacity:1.0;                     line-height:1.75\"><font color=\"black\"> the                    </font></mark><mark style=\"background-color: hsl(120, 75%, 72%); opacity:1.0;                     line-height:1.75\"><font color=\"black\"> mountains.                    </font></mark><mark style=\"background-color: hsl(120, 75%, 92%); opacity:1.0;                     line-height:1.75\"><font color=\"black\"> #/s                    </font></mark></td><tr></table>"
      ],
      "text/plain": [
       "<IPython.core.display.HTML object>"
      ]
     },
     "metadata": {},
     "output_type": "display_data"
    },
    {
     "name": "stderr",
     "output_type": "stream",
     "text": [
      "/home/user/anaconda3/envs/py38/lib/python3.9/site-packages/captum/attr/_core/lime.py:1088: UserWarning: Attempting to construct interpretable model with > 10000 features.This can be very slow or lead to OOM issues. Please provide a featuremask which groups input features to reduce the number of interpretablefeatures. \n",
      "  warnings.warn(\n"
     ]
    },
    {
     "name": "stdout",
     "output_type": "stream",
     "text": [
      "<IPython.core.display.HTML object>\n",
      "Raw review: ['I am not aware of any university run participant pools.', \"At the universities I've worked in North America, human-subject studies (esp.\"]\n",
      "GT target: 0.6000000238418579\n",
      "pred_prob 0.6573943793773651\n"
     ]
    },
    {
     "name": "stderr",
     "output_type": "stream",
     "text": [
      "Kernel Shap attribution: 100%|██████████████████████████████████████████████████████████| 10/10 [00:46<00:00,  4.60s/it]\n"
     ]
    },
    {
     "name": "stdout",
     "output_type": "stream",
     "text": [
      "word attr tensor([ 0.0967, -0.0489, -0.5077,  0.4013, -0.0178,  0.3824,  0.1472,  0.0593,\n",
      "         0.0356, -0.0254,  0.0586, -0.0374,  0.0082, -0.0225,  0.0279, -0.1621,\n",
      "        -0.1618,  0.0603,  0.2336, -0.0167,  0.1627,  0.0139, -0.1264,  0.0343,\n",
      "        -0.1739, -0.1853,  0.0142,  0.0603,  0.1146, -0.3208, -0.0475, -0.2192])\n",
      "conti attr [tensor(0.0967), tensor(-0.0489), tensor(-0.5077), tensor(0.4013), tensor(-0.0178), tensor(0.3824), tensor(0.1472), tensor(0.0593), tensor(0.0356), tensor(-0.0254), tensor(0.0211), tensor(0.0082), tensor(-0.0225), tensor(0.0279), tensor(-0.1621), tensor(-0.1618), tensor(0.2939), tensor(-0.0167), tensor(0.1627), tensor(0.0139), tensor(-0.0921), tensor(-0.3450), tensor(0.0603), tensor(-0.2538), tensor(-0.2192)]\n",
      "detokenized ['<s>', 'I', 'am', 'not', 'aware', 'of', 'any', 'university', 'run', 'participant', 'pools', '.', '</s>', '</s>', 'At', 'the', 'universities', 'I', \"'ve\", 'worked', 'in', 'North', 'America', ',', 'human', '-', 'subject', 'studies', '(', 'esp', '.', '</s>']\n",
      "len conti_raw 25\n",
      "conti_raw ['<s>', 'I', 'am', 'not', 'aware', 'of', 'any', 'university', 'run', 'participant', 'pools.', '</s>', '</s>', 'At', 'the', 'universities', \"I've\", 'worked', 'in', 'North', 'America,', 'human-subject', 'studies', '(esp.', '</s>']\n"
     ]
    },
    {
     "data": {
      "text/html": [
       "<table width: 100%><div style=\"border-top: 1px solid; margin-top: 5px;             padding-top: 5px; display: inline-block\"><b>Legend: </b><span style=\"display: inline-block; width: 10px; height: 10px;                 border: 1px solid; background-color:                 hsl(0, 75%, 60%)\"></span> Negative  <span style=\"display: inline-block; width: 10px; height: 10px;                 border: 1px solid; background-color:                 hsl(0, 75%, 100%)\"></span> Neutral  <span style=\"display: inline-block; width: 10px; height: 10px;                 border: 1px solid; background-color:                 hsl(120, 75%, 50%)\"></span> Positive  </div><tr><th>True Label</th><th>Predicted Label</th><th>Attribution Label</th><th>Attribution Score</th><th>Word Importance</th><tr><td><text style=\"padding-right:2em\"><b>Not Similar</b></text></td><td><text style=\"padding-right:2em\"><b>Not Similar (0.13)</b></text></td><td><text style=\"padding-right:2em\"><b>Not Similar</b></text></td><td><text style=\"padding-right:2em\"><b>-0.16</b></text></td><td><mark style=\"background-color: hsl(120, 75%, 96%); opacity:1.0;                     line-height:1.75\"><font color=\"black\"> #s                    </font></mark><mark style=\"background-color: hsl(0, 75%, 99%); opacity:1.0;                     line-height:1.75\"><font color=\"black\"> I                    </font></mark><mark style=\"background-color: hsl(0, 75%, 80%); opacity:1.0;                     line-height:1.75\"><font color=\"black\"> am                    </font></mark><mark style=\"background-color: hsl(120, 75%, 80%); opacity:1.0;                     line-height:1.75\"><font color=\"black\"> not                    </font></mark><mark style=\"background-color: hsl(0, 75%, 100%); opacity:1.0;                     line-height:1.75\"><font color=\"black\"> aware                    </font></mark><mark style=\"background-color: hsl(120, 75%, 81%); opacity:1.0;                     line-height:1.75\"><font color=\"black\"> of                    </font></mark><mark style=\"background-color: hsl(120, 75%, 93%); opacity:1.0;                     line-height:1.75\"><font color=\"black\"> any                    </font></mark><mark style=\"background-color: hsl(120, 75%, 98%); opacity:1.0;                     line-height:1.75\"><font color=\"black\"> university                    </font></mark><mark style=\"background-color: hsl(120, 75%, 99%); opacity:1.0;                     line-height:1.75\"><font color=\"black\"> run                    </font></mark><mark style=\"background-color: hsl(0, 75%, 99%); opacity:1.0;                     line-height:1.75\"><font color=\"black\"> participant                    </font></mark><mark style=\"background-color: hsl(120, 75%, 99%); opacity:1.0;                     line-height:1.75\"><font color=\"black\"> pools.                    </font></mark><mark style=\"background-color: hsl(120, 75%, 100%); opacity:1.0;                     line-height:1.75\"><font color=\"black\"> #/s                    </font></mark><mark style=\"background-color: hsl(0, 75%, 100%); opacity:1.0;                     line-height:1.75\"><font color=\"black\"> #/s                    </font></mark><mark style=\"background-color: hsl(120, 75%, 99%); opacity:1.0;                     line-height:1.75\"><font color=\"black\"> At                    </font></mark><mark style=\"background-color: hsl(0, 75%, 94%); opacity:1.0;                     line-height:1.75\"><font color=\"black\"> the                    </font></mark><mark style=\"background-color: hsl(0, 75%, 94%); opacity:1.0;                     line-height:1.75\"><font color=\"black\"> universities                    </font></mark><mark style=\"background-color: hsl(120, 75%, 86%); opacity:1.0;                     line-height:1.75\"><font color=\"black\"> I've                    </font></mark><mark style=\"background-color: hsl(0, 75%, 100%); opacity:1.0;                     line-height:1.75\"><font color=\"black\"> worked                    </font></mark><mark style=\"background-color: hsl(120, 75%, 92%); opacity:1.0;                     line-height:1.75\"><font color=\"black\"> in                    </font></mark><mark style=\"background-color: hsl(120, 75%, 100%); opacity:1.0;                     line-height:1.75\"><font color=\"black\"> North                    </font></mark><mark style=\"background-color: hsl(0, 75%, 97%); opacity:1.0;                     line-height:1.75\"><font color=\"black\"> America,                    </font></mark><mark style=\"background-color: hsl(0, 75%, 87%); opacity:1.0;                     line-height:1.75\"><font color=\"black\"> human-subject                    </font></mark><mark style=\"background-color: hsl(120, 75%, 97%); opacity:1.0;                     line-height:1.75\"><font color=\"black\"> studies                    </font></mark><mark style=\"background-color: hsl(0, 75%, 90%); opacity:1.0;                     line-height:1.75\"><font color=\"black\"> (esp.                    </font></mark><mark style=\"background-color: hsl(0, 75%, 92%); opacity:1.0;                     line-height:1.75\"><font color=\"black\"> #/s                    </font></mark></td><tr></table>"
      ],
      "text/plain": [
       "<IPython.core.display.HTML object>"
      ]
     },
     "metadata": {},
     "output_type": "display_data"
    },
    {
     "name": "stderr",
     "output_type": "stream",
     "text": [
      "/home/user/anaconda3/envs/py38/lib/python3.9/site-packages/captum/attr/_core/lime.py:1088: UserWarning: Attempting to construct interpretable model with > 10000 features.This can be very slow or lead to OOM issues. Please provide a featuremask which groups input features to reduce the number of interpretablefeatures. \n",
      "  warnings.warn(\n"
     ]
    },
    {
     "name": "stdout",
     "output_type": "stream",
     "text": [
      "<IPython.core.display.HTML object>\n",
      "Raw review: ['A girl is riding a horse.', 'The girl trotted the horse.']\n",
      "GT target: 4.5\n",
      "pred_prob 3.1594371795654297\n"
     ]
    },
    {
     "name": "stderr",
     "output_type": "stream",
     "text": [
      "Kernel Shap attribution: 100%|██████████████████████████████████████████████████████████| 10/10 [00:26<00:00,  2.62s/it]\n"
     ]
    },
    {
     "name": "stdout",
     "output_type": "stream",
     "text": [
      "word attr tensor([ 0.3892, -0.0253, -0.0811,  0.0611,  0.0025, -0.0622,  0.6075, -0.3637,\n",
      "        -0.2106, -0.1941, -0.0645,  0.0928,  0.1390,  0.2018,  0.2895,  0.2590,\n",
      "        -0.1612, -0.0237])\n",
      "conti attr [tensor(0.3892), tensor(-0.0253), tensor(-0.0811), tensor(0.0611), tensor(0.0025), tensor(-0.0622), tensor(0.2438), tensor(-0.2106), tensor(-0.1941), tensor(-0.0645), tensor(0.0928), tensor(0.3408), tensor(0.2895), tensor(0.0979), tensor(-0.0237)]\n",
      "detokenized ['<s>', 'A', 'girl', 'is', 'riding', 'a', 'horse', '.', '</s>', '</s>', 'The', 'girl', 'tro', 'tted', 'the', 'horse', '.', '</s>']\n",
      "len conti_raw 15\n",
      "conti_raw ['<s>', 'A', 'girl', 'is', 'riding', 'a', 'horse.', '</s>', '</s>', 'The', 'girl', 'trotted', 'the', 'horse.', '</s>']\n"
     ]
    },
    {
     "data": {
      "text/html": [
       "<table width: 100%><div style=\"border-top: 1px solid; margin-top: 5px;             padding-top: 5px; display: inline-block\"><b>Legend: </b><span style=\"display: inline-block; width: 10px; height: 10px;                 border: 1px solid; background-color:                 hsl(0, 75%, 60%)\"></span> Negative  <span style=\"display: inline-block; width: 10px; height: 10px;                 border: 1px solid; background-color:                 hsl(0, 75%, 100%)\"></span> Neutral  <span style=\"display: inline-block; width: 10px; height: 10px;                 border: 1px solid; background-color:                 hsl(120, 75%, 50%)\"></span> Positive  </div><tr><th>True Label</th><th>Predicted Label</th><th>Attribution Label</th><th>Attribution Score</th><th>Word Importance</th><tr><td><text style=\"padding-right:2em\"><b>Similar</b></text></td><td><text style=\"padding-right:2em\"><b>Similar (0.63)</b></text></td><td><text style=\"padding-right:2em\"><b>Similar</b></text></td><td><text style=\"padding-right:2em\"><b>0.86</b></text></td><td><mark style=\"background-color: hsl(120, 75%, 81%); opacity:1.0;                     line-height:1.75\"><font color=\"black\"> #s                    </font></mark><mark style=\"background-color: hsl(0, 75%, 99%); opacity:1.0;                     line-height:1.75\"><font color=\"black\"> A                    </font></mark><mark style=\"background-color: hsl(0, 75%, 97%); opacity:1.0;                     line-height:1.75\"><font color=\"black\"> girl                    </font></mark><mark style=\"background-color: hsl(120, 75%, 97%); opacity:1.0;                     line-height:1.75\"><font color=\"black\"> is                    </font></mark><mark style=\"background-color: hsl(120, 75%, 100%); opacity:1.0;                     line-height:1.75\"><font color=\"black\"> riding                    </font></mark><mark style=\"background-color: hsl(0, 75%, 98%); opacity:1.0;                     line-height:1.75\"><font color=\"black\"> a                    </font></mark><mark style=\"background-color: hsl(120, 75%, 88%); opacity:1.0;                     line-height:1.75\"><font color=\"black\"> horse.                    </font></mark><mark style=\"background-color: hsl(0, 75%, 92%); opacity:1.0;                     line-height:1.75\"><font color=\"black\"> #/s                    </font></mark><mark style=\"background-color: hsl(0, 75%, 93%); opacity:1.0;                     line-height:1.75\"><font color=\"black\"> #/s                    </font></mark><mark style=\"background-color: hsl(0, 75%, 98%); opacity:1.0;                     line-height:1.75\"><font color=\"black\"> The                    </font></mark><mark style=\"background-color: hsl(120, 75%, 96%); opacity:1.0;                     line-height:1.75\"><font color=\"black\"> girl                    </font></mark><mark style=\"background-color: hsl(120, 75%, 83%); opacity:1.0;                     line-height:1.75\"><font color=\"black\"> trotted                    </font></mark><mark style=\"background-color: hsl(120, 75%, 86%); opacity:1.0;                     line-height:1.75\"><font color=\"black\"> the                    </font></mark><mark style=\"background-color: hsl(120, 75%, 96%); opacity:1.0;                     line-height:1.75\"><font color=\"black\"> horse.                    </font></mark><mark style=\"background-color: hsl(0, 75%, 100%); opacity:1.0;                     line-height:1.75\"><font color=\"black\"> #/s                    </font></mark></td><tr></table>"
      ],
      "text/plain": [
       "<IPython.core.display.HTML object>"
      ]
     },
     "metadata": {},
     "output_type": "display_data"
    },
    {
     "name": "stderr",
     "output_type": "stream",
     "text": [
      "/home/user/anaconda3/envs/py38/lib/python3.9/site-packages/captum/attr/_core/lime.py:1088: UserWarning: Attempting to construct interpretable model with > 10000 features.This can be very slow or lead to OOM issues. Please provide a featuremask which groups input features to reduce the number of interpretablefeatures. \n",
      "  warnings.warn(\n"
     ]
    },
    {
     "name": "stdout",
     "output_type": "stream",
     "text": [
      "<IPython.core.display.HTML object>\n",
      "Raw review: ['There are four snowboarders going off a jump and that are in the air.', 'Two racers are coming to a turn.']\n",
      "GT target: 1.0\n",
      "pred_prob 0.10505742393434048\n"
     ]
    },
    {
     "name": "stderr",
     "output_type": "stream",
     "text": [
      "Kernel Shap attribution: 100%|██████████████████████████████████████████████████████████| 10/10 [00:43<00:00,  4.33s/it]\n"
     ]
    },
    {
     "name": "stdout",
     "output_type": "stream",
     "text": [
      "word attr tensor([ 2.4862e-01, -1.3446e-01,  1.4406e-01, -6.7210e-06, -7.8034e-02,\n",
      "        -3.9974e-02, -8.7999e-02, -2.4122e-02,  1.2776e-01,  9.4501e-03,\n",
      "        -1.2893e-01, -1.3463e-01,  2.6677e-02, -7.2249e-02,  2.7302e-01,\n",
      "         1.6624e-01,  1.9164e-01, -4.7740e-02,  1.5106e-01,  7.9935e-02,\n",
      "         2.3706e-01,  2.3722e-01, -3.5184e-01, -4.5015e-01, -3.6093e-01,\n",
      "        -1.1577e-02, -7.0783e-02, -2.1270e-01, -1.4722e-01, -1.2101e-01])\n",
      "conti attr [tensor(0.2486), tensor(-0.1345), tensor(0.1441), tensor(-6.7210e-06), tensor(-0.2060), tensor(-0.0241), tensor(0.1278), tensor(0.0095), tensor(-0.1289), tensor(-0.1346), tensor(0.0267), tensor(-0.0722), tensor(0.2730), tensor(0.1662), tensor(0.1439), tensor(0.1511), tensor(0.0799), tensor(0.2371), tensor(-0.1146), tensor(-0.4501), tensor(-0.3609), tensor(-0.0116), tensor(-0.0708), tensor(-0.3599), tensor(-0.1210)]\n",
      "detokenized ['<s>', 'There', 'are', 'four', 'snow', 'board', 'ers', 'going', 'off', 'a', 'jump', 'and', 'that', 'are', 'in', 'the', 'air', '.', '</s>', '</s>', 'Two', 'rac', 'ers', 'are', 'coming', 'to', 'a', 'turn', '.', '</s>']\n",
      "len conti_raw 25\n",
      "conti_raw ['<s>', 'There', 'are', 'four', 'snowboarders', 'going', 'off', 'a', 'jump', 'and', 'that', 'are', 'in', 'the', 'air.', '</s>', '</s>', 'Two', 'racers', 'are', 'coming', 'to', 'a', 'turn.', '</s>']\n"
     ]
    },
    {
     "data": {
      "text/html": [
       "<table width: 100%><div style=\"border-top: 1px solid; margin-top: 5px;             padding-top: 5px; display: inline-block\"><b>Legend: </b><span style=\"display: inline-block; width: 10px; height: 10px;                 border: 1px solid; background-color:                 hsl(0, 75%, 60%)\"></span> Negative  <span style=\"display: inline-block; width: 10px; height: 10px;                 border: 1px solid; background-color:                 hsl(0, 75%, 100%)\"></span> Neutral  <span style=\"display: inline-block; width: 10px; height: 10px;                 border: 1px solid; background-color:                 hsl(120, 75%, 50%)\"></span> Positive  </div><tr><th>True Label</th><th>Predicted Label</th><th>Attribution Label</th><th>Attribution Score</th><th>Word Importance</th><tr><td><text style=\"padding-right:2em\"><b>Not Similar</b></text></td><td><text style=\"padding-right:2em\"><b>Not Similar (0.02)</b></text></td><td><text style=\"padding-right:2em\"><b>Not Similar</b></text></td><td><text style=\"padding-right:2em\"><b>-0.58</b></text></td><td><mark style=\"background-color: hsl(120, 75%, 88%); opacity:1.0;                     line-height:1.75\"><font color=\"black\"> #s                    </font></mark><mark style=\"background-color: hsl(0, 75%, 95%); opacity:1.0;                     line-height:1.75\"><font color=\"black\"> There                    </font></mark><mark style=\"background-color: hsl(120, 75%, 93%); opacity:1.0;                     line-height:1.75\"><font color=\"black\"> are                    </font></mark><mark style=\"background-color: hsl(0, 75%, 100%); opacity:1.0;                     line-height:1.75\"><font color=\"black\"> four                    </font></mark><mark style=\"background-color: hsl(0, 75%, 92%); opacity:1.0;                     line-height:1.75\"><font color=\"black\"> snowboarders                    </font></mark><mark style=\"background-color: hsl(0, 75%, 100%); opacity:1.0;                     line-height:1.75\"><font color=\"black\"> going                    </font></mark><mark style=\"background-color: hsl(120, 75%, 94%); opacity:1.0;                     line-height:1.75\"><font color=\"black\"> off                    </font></mark><mark style=\"background-color: hsl(120, 75%, 100%); opacity:1.0;                     line-height:1.75\"><font color=\"black\"> a                    </font></mark><mark style=\"background-color: hsl(0, 75%, 95%); opacity:1.0;                     line-height:1.75\"><font color=\"black\"> jump                    </font></mark><mark style=\"background-color: hsl(0, 75%, 95%); opacity:1.0;                     line-height:1.75\"><font color=\"black\"> and                    </font></mark><mark style=\"background-color: hsl(120, 75%, 99%); opacity:1.0;                     line-height:1.75\"><font color=\"black\"> that                    </font></mark><mark style=\"background-color: hsl(0, 75%, 98%); opacity:1.0;                     line-height:1.75\"><font color=\"black\"> are                    </font></mark><mark style=\"background-color: hsl(120, 75%, 87%); opacity:1.0;                     line-height:1.75\"><font color=\"black\"> in                    </font></mark><mark style=\"background-color: hsl(120, 75%, 92%); opacity:1.0;                     line-height:1.75\"><font color=\"black\"> the                    </font></mark><mark style=\"background-color: hsl(120, 75%, 93%); opacity:1.0;                     line-height:1.75\"><font color=\"black\"> air.                    </font></mark><mark style=\"background-color: hsl(120, 75%, 93%); opacity:1.0;                     line-height:1.75\"><font color=\"black\"> #/s                    </font></mark><mark style=\"background-color: hsl(120, 75%, 97%); opacity:1.0;                     line-height:1.75\"><font color=\"black\"> #/s                    </font></mark><mark style=\"background-color: hsl(120, 75%, 89%); opacity:1.0;                     line-height:1.75\"><font color=\"black\"> Two                    </font></mark><mark style=\"background-color: hsl(0, 75%, 96%); opacity:1.0;                     line-height:1.75\"><font color=\"black\"> racers                    </font></mark><mark style=\"background-color: hsl(0, 75%, 82%); opacity:1.0;                     line-height:1.75\"><font color=\"black\"> are                    </font></mark><mark style=\"background-color: hsl(0, 75%, 86%); opacity:1.0;                     line-height:1.75\"><font color=\"black\"> coming                    </font></mark><mark style=\"background-color: hsl(0, 75%, 100%); opacity:1.0;                     line-height:1.75\"><font color=\"black\"> to                    </font></mark><mark style=\"background-color: hsl(0, 75%, 98%); opacity:1.0;                     line-height:1.75\"><font color=\"black\"> a                    </font></mark><mark style=\"background-color: hsl(0, 75%, 86%); opacity:1.0;                     line-height:1.75\"><font color=\"black\"> turn.                    </font></mark><mark style=\"background-color: hsl(0, 75%, 96%); opacity:1.0;                     line-height:1.75\"><font color=\"black\"> #/s                    </font></mark></td><tr></table>"
      ],
      "text/plain": [
       "<IPython.core.display.HTML object>"
      ]
     },
     "metadata": {},
     "output_type": "display_data"
    },
    {
     "name": "stderr",
     "output_type": "stream",
     "text": [
      "/home/user/anaconda3/envs/py38/lib/python3.9/site-packages/captum/attr/_core/lime.py:1088: UserWarning: Attempting to construct interpretable model with > 10000 features.This can be very slow or lead to OOM issues. Please provide a featuremask which groups input features to reduce the number of interpretablefeatures. \n",
      "  warnings.warn(\n"
     ]
    },
    {
     "name": "stdout",
     "output_type": "stream",
     "text": [
      "<IPython.core.display.HTML object>\n",
      "Raw review: ['The 30-year bond US30YT=RR dipped 14/32 for a yield of 4.26 percent from 4.23 percent.', 'The 30-year bond US30YT=RR lost 16/32, taking its yield to 4.20 percent from 4.18 percent.']\n",
      "GT target: 3.3329999446868896\n",
      "pred_prob 2.7606171369552612\n"
     ]
    },
    {
     "name": "stderr",
     "output_type": "stream",
     "text": [
      "Kernel Shap attribution: 100%|██████████████████████████████████████████████████████████| 10/10 [01:44<00:00, 10.42s/it]\n"
     ]
    },
    {
     "name": "stdout",
     "output_type": "stream",
     "text": [
      "word attr tensor([ 0.0569, -0.0021,  0.0887, -0.0018,  0.0140,  0.0126,  0.0592,  0.0646,\n",
      "        -0.0441,  0.0381,  0.1223, -0.0120,  0.0053, -0.2260,  0.1169,  0.0687,\n",
      "         0.2207, -0.0641,  0.1601,  0.0191,  0.2524, -0.1214,  0.1051,  0.1584,\n",
      "         0.0403,  0.0072,  0.0636, -0.0024,  0.1073, -0.2001,  0.2316, -0.1589,\n",
      "        -0.2069,  0.1097, -0.1595, -0.0428, -0.0836, -0.0201,  0.0267, -0.1141,\n",
      "        -0.1810,  0.1020,  0.0244,  0.0124,  0.2154,  0.0640, -0.2783,  0.1564,\n",
      "        -0.1630,  0.0461, -0.1474,  0.0160,  0.1048,  0.0894,  0.0419, -0.0908,\n",
      "         0.0464, -0.2542,  0.1887,  0.1548,  0.0401,  0.2356, -0.0255])\n",
      "conti attr [tensor(0.0569), tensor(-0.0021), tensor(0.1010), tensor(0.0126), tensor(0.2282), tensor(0.0053), tensor(-0.0403), tensor(0.2207), tensor(-0.0641), tensor(0.1601), tensor(0.0191), tensor(0.2361), tensor(0.1584), tensor(0.0403), tensor(0.0684), tensor(-0.0928), tensor(0.2316), tensor(-0.1589), tensor(-0.2069), tensor(-0.0926), tensor(-0.0836), tensor(-0.1621), tensor(0.0124), tensor(0.1574), tensor(-0.1630), tensor(0.0461), tensor(-0.1474), tensor(0.0160), tensor(0.2360), tensor(-0.0908), tensor(0.0464), tensor(0.0893), tensor(0.2757), tensor(-0.0255)]\n",
      "detokenized ['<s>', 'The', '30', '-', 'year', 'bond', 'US', '30', 'Y', 'T', '=', 'RR', 'dipped', '14', '/', '32', 'for', 'a', 'yield', 'of', '4', '.', '26', 'percent', 'from', '4', '.', '23', 'percent', '.', '</s>', '</s>', 'The', '30', '-', 'year', 'bond', 'US', '30', 'Y', 'T', '=', 'RR', 'lost', '16', '/', '32', ',', 'taking', 'its', 'yield', 'to', '4', '.', '20', 'percent', 'from', '4', '.', '18', 'percent', '.', '</s>']\n",
      "len conti_raw 34\n",
      "conti_raw ['<s>', 'The', '30-year', 'bond', 'US30YT=RR', 'dipped', '14/32', 'for', 'a', 'yield', 'of', '4.26', 'percent', 'from', '4.23', 'percent.', '</s>', '</s>', 'The', '30-year', 'bond', 'US30YT=RR', 'lost', '16/32,', 'taking', 'its', 'yield', 'to', '4.20', 'percent', 'from', '4.18', 'percent.', '</s>']\n"
     ]
    },
    {
     "data": {
      "text/html": [
       "<table width: 100%><div style=\"border-top: 1px solid; margin-top: 5px;             padding-top: 5px; display: inline-block\"><b>Legend: </b><span style=\"display: inline-block; width: 10px; height: 10px;                 border: 1px solid; background-color:                 hsl(0, 75%, 60%)\"></span> Negative  <span style=\"display: inline-block; width: 10px; height: 10px;                 border: 1px solid; background-color:                 hsl(0, 75%, 100%)\"></span> Neutral  <span style=\"display: inline-block; width: 10px; height: 10px;                 border: 1px solid; background-color:                 hsl(120, 75%, 50%)\"></span> Positive  </div><tr><th>True Label</th><th>Predicted Label</th><th>Attribution Label</th><th>Attribution Score</th><th>Word Importance</th><tr><td><text style=\"padding-right:2em\"><b>Similar</b></text></td><td><text style=\"padding-right:2em\"><b>Similar (0.55)</b></text></td><td><text style=\"padding-right:2em\"><b>Similar</b></text></td><td><text style=\"padding-right:2em\"><b>1.09</b></text></td><td><mark style=\"background-color: hsl(120, 75%, 98%); opacity:1.0;                     line-height:1.75\"><font color=\"black\"> #s                    </font></mark><mark style=\"background-color: hsl(0, 75%, 100%); opacity:1.0;                     line-height:1.75\"><font color=\"black\"> The                    </font></mark><mark style=\"background-color: hsl(120, 75%, 95%); opacity:1.0;                     line-height:1.75\"><font color=\"black\"> 30-year                    </font></mark><mark style=\"background-color: hsl(120, 75%, 100%); opacity:1.0;                     line-height:1.75\"><font color=\"black\"> bond                    </font></mark><mark style=\"background-color: hsl(120, 75%, 89%); opacity:1.0;                     line-height:1.75\"><font color=\"black\"> US30YT=RR                    </font></mark><mark style=\"background-color: hsl(120, 75%, 100%); opacity:1.0;                     line-height:1.75\"><font color=\"black\"> dipped                    </font></mark><mark style=\"background-color: hsl(0, 75%, 99%); opacity:1.0;                     line-height:1.75\"><font color=\"black\"> 14/32                    </font></mark><mark style=\"background-color: hsl(120, 75%, 89%); opacity:1.0;                     line-height:1.75\"><font color=\"black\"> for                    </font></mark><mark style=\"background-color: hsl(0, 75%, 98%); opacity:1.0;                     line-height:1.75\"><font color=\"black\"> a                    </font></mark><mark style=\"background-color: hsl(120, 75%, 92%); opacity:1.0;                     line-height:1.75\"><font color=\"black\"> yield                    </font></mark><mark style=\"background-color: hsl(120, 75%, 100%); opacity:1.0;                     line-height:1.75\"><font color=\"black\"> of                    </font></mark><mark style=\"background-color: hsl(120, 75%, 89%); opacity:1.0;                     line-height:1.75\"><font color=\"black\"> 4.26                    </font></mark><mark style=\"background-color: hsl(120, 75%, 93%); opacity:1.0;                     line-height:1.75\"><font color=\"black\"> percent                    </font></mark><mark style=\"background-color: hsl(120, 75%, 98%); opacity:1.0;                     line-height:1.75\"><font color=\"black\"> from                    </font></mark><mark style=\"background-color: hsl(120, 75%, 97%); opacity:1.0;                     line-height:1.75\"><font color=\"black\"> 4.23                    </font></mark><mark style=\"background-color: hsl(0, 75%, 97%); opacity:1.0;                     line-height:1.75\"><font color=\"black\"> percent.                    </font></mark><mark style=\"background-color: hsl(120, 75%, 89%); opacity:1.0;                     line-height:1.75\"><font color=\"black\"> #/s                    </font></mark><mark style=\"background-color: hsl(0, 75%, 94%); opacity:1.0;                     line-height:1.75\"><font color=\"black\"> #/s                    </font></mark><mark style=\"background-color: hsl(0, 75%, 92%); opacity:1.0;                     line-height:1.75\"><font color=\"black\"> The                    </font></mark><mark style=\"background-color: hsl(0, 75%, 97%); opacity:1.0;                     line-height:1.75\"><font color=\"black\"> 30-year                    </font></mark><mark style=\"background-color: hsl(0, 75%, 97%); opacity:1.0;                     line-height:1.75\"><font color=\"black\"> bond                    </font></mark><mark style=\"background-color: hsl(0, 75%, 94%); opacity:1.0;                     line-height:1.75\"><font color=\"black\"> US30YT=RR                    </font></mark><mark style=\"background-color: hsl(120, 75%, 100%); opacity:1.0;                     line-height:1.75\"><font color=\"black\"> lost                    </font></mark><mark style=\"background-color: hsl(120, 75%, 93%); opacity:1.0;                     line-height:1.75\"><font color=\"black\"> 16/32,                    </font></mark><mark style=\"background-color: hsl(0, 75%, 94%); opacity:1.0;                     line-height:1.75\"><font color=\"black\"> taking                    </font></mark><mark style=\"background-color: hsl(120, 75%, 98%); opacity:1.0;                     line-height:1.75\"><font color=\"black\"> its                    </font></mark><mark style=\"background-color: hsl(0, 75%, 95%); opacity:1.0;                     line-height:1.75\"><font color=\"black\"> yield                    </font></mark><mark style=\"background-color: hsl(120, 75%, 100%); opacity:1.0;                     line-height:1.75\"><font color=\"black\"> to                    </font></mark><mark style=\"background-color: hsl(120, 75%, 89%); opacity:1.0;                     line-height:1.75\"><font color=\"black\"> 4.20                    </font></mark><mark style=\"background-color: hsl(0, 75%, 97%); opacity:1.0;                     line-height:1.75\"><font color=\"black\"> percent                    </font></mark><mark style=\"background-color: hsl(120, 75%, 98%); opacity:1.0;                     line-height:1.75\"><font color=\"black\"> from                    </font></mark><mark style=\"background-color: hsl(120, 75%, 96%); opacity:1.0;                     line-height:1.75\"><font color=\"black\"> 4.18                    </font></mark><mark style=\"background-color: hsl(120, 75%, 87%); opacity:1.0;                     line-height:1.75\"><font color=\"black\"> percent.                    </font></mark><mark style=\"background-color: hsl(0, 75%, 99%); opacity:1.0;                     line-height:1.75\"><font color=\"black\"> #/s                    </font></mark></td><tr></table>"
      ],
      "text/plain": [
       "<IPython.core.display.HTML object>"
      ]
     },
     "metadata": {},
     "output_type": "display_data"
    },
    {
     "name": "stderr",
     "output_type": "stream",
     "text": [
      "/home/user/anaconda3/envs/py38/lib/python3.9/site-packages/captum/attr/_core/lime.py:1088: UserWarning: Attempting to construct interpretable model with > 10000 features.This can be very slow or lead to OOM issues. Please provide a featuremask which groups input features to reduce the number of interpretablefeatures. \n",
      "  warnings.warn(\n"
     ]
    },
    {
     "name": "stdout",
     "output_type": "stream",
     "text": [
      "<IPython.core.display.HTML object>\n",
      "Raw review: ['Federal DOMA does not test the full faith and credit clause so much as the 9th and 10th Amendments to the Constitution.', 'DOMA as a congressional statute could not violate the Full Faith and Credit Clause of the Constitution.']\n",
      "GT target: 4.0\n",
      "pred_prob 3.4599828720092773\n"
     ]
    },
    {
     "name": "stderr",
     "output_type": "stream",
     "text": [
      "Kernel Shap attribution: 100%|██████████████████████████████████████████████████████████| 10/10 [01:15<00:00,  7.59s/it]\n"
     ]
    },
    {
     "name": "stdout",
     "output_type": "stream",
     "text": [
      "word attr tensor([-0.0632,  0.2512,  0.0300, -0.1477, -0.0361,  0.0959,  0.1206, -0.0289,\n",
      "         0.0145,  0.0195,  0.3253,  0.1504,  0.0397, -0.0532,  0.2386, -0.0006,\n",
      "         0.0435, -0.0532, -0.0576, -0.0597, -0.1621, -0.3222,  0.1676,  0.0423,\n",
      "        -0.2247,  0.2495,  0.2066, -0.0590, -0.2095, -0.0159, -0.0346,  0.2316,\n",
      "         0.0626, -0.0314, -0.2038,  0.1606, -0.0311,  0.0537,  0.0673, -0.0298,\n",
      "         0.0090,  0.2700,  0.0402, -0.0814,  0.1018, -0.1415,  0.2482, -0.0631,\n",
      "         0.0758])\n",
      "conti attr [tensor(-0.0632), tensor(0.2512), tensor(-0.1177), tensor(-0.0361), tensor(0.0959), tensor(0.1206), tensor(-0.0289), tensor(0.0145), tensor(0.0195), tensor(0.3253), tensor(0.1504), tensor(0.0397), tensor(-0.0532), tensor(0.2386), tensor(-0.0006), tensor(0.0435), tensor(-0.1107), tensor(-0.0597), tensor(-0.4843), tensor(0.1676), tensor(0.0423), tensor(-0.2247), tensor(0.4561), tensor(-0.0590), tensor(-0.2095), tensor(-0.0505), tensor(0.2316), tensor(0.0626), tensor(-0.0314), tensor(-0.2038), tensor(0.1606), tensor(-0.0311), tensor(0.0537), tensor(0.0673), tensor(-0.0298), tensor(0.0090), tensor(0.2700), tensor(0.0402), tensor(-0.0814), tensor(0.1018), tensor(-0.1415), tensor(0.1851), tensor(0.0758)]\n",
      "detokenized ['<s>', 'Federal', 'DOM', 'A', 'does', 'not', 'test', 'the', 'full', 'faith', 'and', 'credit', 'clause', 'so', 'much', 'as', 'the', '9', 'th', 'and', '10', 'th', 'Amendments', 'to', 'the', 'Constitution', '.', '</s>', '</s>', 'DOM', 'A', 'as', 'a', 'congressional', 'statute', 'could', 'not', 'violate', 'the', 'Full', 'Faith', 'and', 'Credit', 'Clause', 'of', 'the', 'Constitution', '.', '</s>']\n",
      "len conti_raw 43\n",
      "conti_raw ['<s>', 'Federal', 'DOMA', 'does', 'not', 'test', 'the', 'full', 'faith', 'and', 'credit', 'clause', 'so', 'much', 'as', 'the', '9th', 'and', '10th', 'Amendments', 'to', 'the', 'Constitution.', '</s>', '</s>', 'DOMA', 'as', 'a', 'congressional', 'statute', 'could', 'not', 'violate', 'the', 'Full', 'Faith', 'and', 'Credit', 'Clause', 'of', 'the', 'Constitution.', '</s>']\n"
     ]
    },
    {
     "data": {
      "text/html": [
       "<table width: 100%><div style=\"border-top: 1px solid; margin-top: 5px;             padding-top: 5px; display: inline-block\"><b>Legend: </b><span style=\"display: inline-block; width: 10px; height: 10px;                 border: 1px solid; background-color:                 hsl(0, 75%, 60%)\"></span> Negative  <span style=\"display: inline-block; width: 10px; height: 10px;                 border: 1px solid; background-color:                 hsl(0, 75%, 100%)\"></span> Neutral  <span style=\"display: inline-block; width: 10px; height: 10px;                 border: 1px solid; background-color:                 hsl(120, 75%, 50%)\"></span> Positive  </div><tr><th>True Label</th><th>Predicted Label</th><th>Attribution Label</th><th>Attribution Score</th><th>Word Importance</th><tr><td><text style=\"padding-right:2em\"><b>Similar</b></text></td><td><text style=\"padding-right:2em\"><b>Similar (0.69)</b></text></td><td><text style=\"padding-right:2em\"><b>Similar</b></text></td><td><text style=\"padding-right:2em\"><b>1.21</b></text></td><td><mark style=\"background-color: hsl(0, 75%, 98%); opacity:1.0;                     line-height:1.75\"><font color=\"black\"> #s                    </font></mark><mark style=\"background-color: hsl(120, 75%, 88%); opacity:1.0;                     line-height:1.75\"><font color=\"black\"> Federal                    </font></mark><mark style=\"background-color: hsl(0, 75%, 96%); opacity:1.0;                     line-height:1.75\"><font color=\"black\"> DOMA                    </font></mark><mark style=\"background-color: hsl(0, 75%, 99%); opacity:1.0;                     line-height:1.75\"><font color=\"black\"> does                    </font></mark><mark style=\"background-color: hsl(120, 75%, 96%); opacity:1.0;                     line-height:1.75\"><font color=\"black\"> not                    </font></mark><mark style=\"background-color: hsl(120, 75%, 94%); opacity:1.0;                     line-height:1.75\"><font color=\"black\"> test                    </font></mark><mark style=\"background-color: hsl(0, 75%, 99%); opacity:1.0;                     line-height:1.75\"><font color=\"black\"> the                    </font></mark><mark style=\"background-color: hsl(120, 75%, 100%); opacity:1.0;                     line-height:1.75\"><font color=\"black\"> full                    </font></mark><mark style=\"background-color: hsl(120, 75%, 100%); opacity:1.0;                     line-height:1.75\"><font color=\"black\"> faith                    </font></mark><mark style=\"background-color: hsl(120, 75%, 84%); opacity:1.0;                     line-height:1.75\"><font color=\"black\"> and                    </font></mark><mark style=\"background-color: hsl(120, 75%, 93%); opacity:1.0;                     line-height:1.75\"><font color=\"black\"> credit                    </font></mark><mark style=\"background-color: hsl(120, 75%, 99%); opacity:1.0;                     line-height:1.75\"><font color=\"black\"> clause                    </font></mark><mark style=\"background-color: hsl(0, 75%, 98%); opacity:1.0;                     line-height:1.75\"><font color=\"black\"> so                    </font></mark><mark style=\"background-color: hsl(120, 75%, 89%); opacity:1.0;                     line-height:1.75\"><font color=\"black\"> much                    </font></mark><mark style=\"background-color: hsl(0, 75%, 100%); opacity:1.0;                     line-height:1.75\"><font color=\"black\"> as                    </font></mark><mark style=\"background-color: hsl(120, 75%, 98%); opacity:1.0;                     line-height:1.75\"><font color=\"black\"> the                    </font></mark><mark style=\"background-color: hsl(0, 75%, 96%); opacity:1.0;                     line-height:1.75\"><font color=\"black\"> 9th                    </font></mark><mark style=\"background-color: hsl(0, 75%, 98%); opacity:1.0;                     line-height:1.75\"><font color=\"black\"> and                    </font></mark><mark style=\"background-color: hsl(0, 75%, 81%); opacity:1.0;                     line-height:1.75\"><font color=\"black\"> 10th                    </font></mark><mark style=\"background-color: hsl(120, 75%, 92%); opacity:1.0;                     line-height:1.75\"><font color=\"black\"> Amendments                    </font></mark><mark style=\"background-color: hsl(120, 75%, 98%); opacity:1.0;                     line-height:1.75\"><font color=\"black\"> to                    </font></mark><mark style=\"background-color: hsl(0, 75%, 92%); opacity:1.0;                     line-height:1.75\"><font color=\"black\"> the                    </font></mark><mark style=\"background-color: hsl(120, 75%, 78%); opacity:1.0;                     line-height:1.75\"><font color=\"black\"> Constitution.                    </font></mark><mark style=\"background-color: hsl(0, 75%, 98%); opacity:1.0;                     line-height:1.75\"><font color=\"black\"> #/s                    </font></mark><mark style=\"background-color: hsl(0, 75%, 92%); opacity:1.0;                     line-height:1.75\"><font color=\"black\"> #/s                    </font></mark><mark style=\"background-color: hsl(0, 75%, 98%); opacity:1.0;                     line-height:1.75\"><font color=\"black\"> DOMA                    </font></mark><mark style=\"background-color: hsl(120, 75%, 89%); opacity:1.0;                     line-height:1.75\"><font color=\"black\"> as                    </font></mark><mark style=\"background-color: hsl(120, 75%, 97%); opacity:1.0;                     line-height:1.75\"><font color=\"black\"> a                    </font></mark><mark style=\"background-color: hsl(0, 75%, 99%); opacity:1.0;                     line-height:1.75\"><font color=\"black\"> congressional                    </font></mark><mark style=\"background-color: hsl(0, 75%, 92%); opacity:1.0;                     line-height:1.75\"><font color=\"black\"> statute                    </font></mark><mark style=\"background-color: hsl(120, 75%, 92%); opacity:1.0;                     line-height:1.75\"><font color=\"black\"> could                    </font></mark><mark style=\"background-color: hsl(0, 75%, 99%); opacity:1.0;                     line-height:1.75\"><font color=\"black\"> not                    </font></mark><mark style=\"background-color: hsl(120, 75%, 98%); opacity:1.0;                     line-height:1.75\"><font color=\"black\"> violate                    </font></mark><mark style=\"background-color: hsl(120, 75%, 97%); opacity:1.0;                     line-height:1.75\"><font color=\"black\"> the                    </font></mark><mark style=\"background-color: hsl(0, 75%, 99%); opacity:1.0;                     line-height:1.75\"><font color=\"black\"> Full                    </font></mark><mark style=\"background-color: hsl(120, 75%, 100%); opacity:1.0;                     line-height:1.75\"><font color=\"black\"> Faith                    </font></mark><mark style=\"background-color: hsl(120, 75%, 87%); opacity:1.0;                     line-height:1.75\"><font color=\"black\"> and                    </font></mark><mark style=\"background-color: hsl(120, 75%, 98%); opacity:1.0;                     line-height:1.75\"><font color=\"black\"> Credit                    </font></mark><mark style=\"background-color: hsl(0, 75%, 97%); opacity:1.0;                     line-height:1.75\"><font color=\"black\"> Clause                    </font></mark><mark style=\"background-color: hsl(120, 75%, 95%); opacity:1.0;                     line-height:1.75\"><font color=\"black\"> of                    </font></mark><mark style=\"background-color: hsl(0, 75%, 95%); opacity:1.0;                     line-height:1.75\"><font color=\"black\"> the                    </font></mark><mark style=\"background-color: hsl(120, 75%, 91%); opacity:1.0;                     line-height:1.75\"><font color=\"black\"> Constitution.                    </font></mark><mark style=\"background-color: hsl(120, 75%, 97%); opacity:1.0;                     line-height:1.75\"><font color=\"black\"> #/s                    </font></mark></td><tr></table>"
      ],
      "text/plain": [
       "<IPython.core.display.HTML object>"
      ]
     },
     "metadata": {},
     "output_type": "display_data"
    },
    {
     "name": "stderr",
     "output_type": "stream",
     "text": [
      "/home/user/anaconda3/envs/py38/lib/python3.9/site-packages/captum/attr/_core/lime.py:1088: UserWarning: Attempting to construct interpretable model with > 10000 features.This can be very slow or lead to OOM issues. Please provide a featuremask which groups input features to reduce the number of interpretablefeatures. \n",
      "  warnings.warn(\n"
     ]
    },
    {
     "name": "stdout",
     "output_type": "stream",
     "text": [
      "<IPython.core.display.HTML object>\n",
      "Raw review: ['I was invited in to pitch story ideas to Ron Moore at ST:TNG.', \"It's obviously possible for it to leave the field without harm - it occurred.\"]\n",
      "GT target: 0.0\n",
      "pred_prob 0.0472458079457283\n"
     ]
    },
    {
     "name": "stderr",
     "output_type": "stream",
     "text": [
      "Kernel Shap attribution: 100%|██████████████████████████████████████████████████████████| 10/10 [00:53<00:00,  5.31s/it]\n"
     ]
    },
    {
     "name": "stdout",
     "output_type": "stream",
     "text": [
      "word attr tensor([ 0.2749,  0.0749,  0.0277, -0.0510, -0.0074,  0.0220,  0.0710,  0.0712,\n",
      "        -0.2365, -0.0519, -0.1951,  0.2374, -0.1265,  0.1180, -0.0891,  0.0251,\n",
      "        -0.4945,  0.1194, -0.1474, -0.1560, -0.1886, -0.0207,  0.1890,  0.0100,\n",
      "        -0.3513,  0.0046, -0.1304,  0.2047,  0.0507,  0.1628,  0.0265,  0.1154,\n",
      "         0.0208, -0.1531,  0.0674, -0.1722,  0.2304])\n",
      "conti attr [tensor(0.2749), tensor(0.0749), tensor(0.0277), tensor(-0.0510), tensor(-0.0074), tensor(0.0220), tensor(0.0710), tensor(0.0712), tensor(-0.2365), tensor(-0.0519), tensor(-0.1951), tensor(0.2374), tensor(-0.1265), tensor(-0.3211), tensor(-0.1474), tensor(-0.1560), tensor(-0.2093), tensor(0.1890), tensor(0.0100), tensor(-0.3513), tensor(0.0046), tensor(-0.1304), tensor(0.2047), tensor(0.0507), tensor(0.1628), tensor(0.0265), tensor(0.1154), tensor(0.0208), tensor(-0.1531), tensor(-0.1049), tensor(0.2304)]\n",
      "detokenized ['<s>', 'I', 'was', 'invited', 'in', 'to', 'pitch', 'story', 'ideas', 'to', 'Ron', 'Moore', 'at', 'ST', ':', 'T', 'NG', '.', '</s>', '</s>', 'It', \"'s\", 'obviously', 'possible', 'for', 'it', 'to', 'leave', 'the', 'field', 'without', 'harm', '-', 'it', 'occurred', '.', '</s>']\n",
      "len conti_raw 31\n",
      "conti_raw ['<s>', 'I', 'was', 'invited', 'in', 'to', 'pitch', 'story', 'ideas', 'to', 'Ron', 'Moore', 'at', 'ST:TNG.', '</s>', '</s>', \"It's\", 'obviously', 'possible', 'for', 'it', 'to', 'leave', 'the', 'field', 'without', 'harm', '-', 'it', 'occurred.', '</s>']\n"
     ]
    },
    {
     "data": {
      "text/html": [
       "<table width: 100%><div style=\"border-top: 1px solid; margin-top: 5px;             padding-top: 5px; display: inline-block\"><b>Legend: </b><span style=\"display: inline-block; width: 10px; height: 10px;                 border: 1px solid; background-color:                 hsl(0, 75%, 60%)\"></span> Negative  <span style=\"display: inline-block; width: 10px; height: 10px;                 border: 1px solid; background-color:                 hsl(0, 75%, 100%)\"></span> Neutral  <span style=\"display: inline-block; width: 10px; height: 10px;                 border: 1px solid; background-color:                 hsl(120, 75%, 50%)\"></span> Positive  </div><tr><th>True Label</th><th>Predicted Label</th><th>Attribution Label</th><th>Attribution Score</th><th>Word Importance</th><tr><td><text style=\"padding-right:2em\"><b>Not Similar</b></text></td><td><text style=\"padding-right:2em\"><b>Not Similar (0.01)</b></text></td><td><text style=\"padding-right:2em\"><b>Not Similar</b></text></td><td><text style=\"padding-right:2em\"><b>-0.45</b></text></td><td><mark style=\"background-color: hsl(120, 75%, 87%); opacity:1.0;                     line-height:1.75\"><font color=\"black\"> #s                    </font></mark><mark style=\"background-color: hsl(120, 75%, 97%); opacity:1.0;                     line-height:1.75\"><font color=\"black\"> I                    </font></mark><mark style=\"background-color: hsl(120, 75%, 99%); opacity:1.0;                     line-height:1.75\"><font color=\"black\"> was                    </font></mark><mark style=\"background-color: hsl(0, 75%, 98%); opacity:1.0;                     line-height:1.75\"><font color=\"black\"> invited                    </font></mark><mark style=\"background-color: hsl(0, 75%, 100%); opacity:1.0;                     line-height:1.75\"><font color=\"black\"> in                    </font></mark><mark style=\"background-color: hsl(120, 75%, 99%); opacity:1.0;                     line-height:1.75\"><font color=\"black\"> to                    </font></mark><mark style=\"background-color: hsl(120, 75%, 97%); opacity:1.0;                     line-height:1.75\"><font color=\"black\"> pitch                    </font></mark><mark style=\"background-color: hsl(120, 75%, 97%); opacity:1.0;                     line-height:1.75\"><font color=\"black\"> story                    </font></mark><mark style=\"background-color: hsl(0, 75%, 91%); opacity:1.0;                     line-height:1.75\"><font color=\"black\"> ideas                    </font></mark><mark style=\"background-color: hsl(0, 75%, 98%); opacity:1.0;                     line-height:1.75\"><font color=\"black\"> to                    </font></mark><mark style=\"background-color: hsl(0, 75%, 93%); opacity:1.0;                     line-height:1.75\"><font color=\"black\"> Ron                    </font></mark><mark style=\"background-color: hsl(120, 75%, 89%); opacity:1.0;                     line-height:1.75\"><font color=\"black\"> Moore                    </font></mark><mark style=\"background-color: hsl(0, 75%, 95%); opacity:1.0;                     line-height:1.75\"><font color=\"black\"> at                    </font></mark><mark style=\"background-color: hsl(0, 75%, 88%); opacity:1.0;                     line-height:1.75\"><font color=\"black\"> ST:TNG.                    </font></mark><mark style=\"background-color: hsl(0, 75%, 95%); opacity:1.0;                     line-height:1.75\"><font color=\"black\"> #/s                    </font></mark><mark style=\"background-color: hsl(0, 75%, 94%); opacity:1.0;                     line-height:1.75\"><font color=\"black\"> #/s                    </font></mark><mark style=\"background-color: hsl(0, 75%, 92%); opacity:1.0;                     line-height:1.75\"><font color=\"black\"> It's                    </font></mark><mark style=\"background-color: hsl(120, 75%, 91%); opacity:1.0;                     line-height:1.75\"><font color=\"black\"> obviously                    </font></mark><mark style=\"background-color: hsl(120, 75%, 100%); opacity:1.0;                     line-height:1.75\"><font color=\"black\"> possible                    </font></mark><mark style=\"background-color: hsl(0, 75%, 86%); opacity:1.0;                     line-height:1.75\"><font color=\"black\"> for                    </font></mark><mark style=\"background-color: hsl(120, 75%, 100%); opacity:1.0;                     line-height:1.75\"><font color=\"black\"> it                    </font></mark><mark style=\"background-color: hsl(0, 75%, 95%); opacity:1.0;                     line-height:1.75\"><font color=\"black\"> to                    </font></mark><mark style=\"background-color: hsl(120, 75%, 90%); opacity:1.0;                     line-height:1.75\"><font color=\"black\"> leave                    </font></mark><mark style=\"background-color: hsl(120, 75%, 98%); opacity:1.0;                     line-height:1.75\"><font color=\"black\"> the                    </font></mark><mark style=\"background-color: hsl(120, 75%, 92%); opacity:1.0;                     line-height:1.75\"><font color=\"black\"> field                    </font></mark><mark style=\"background-color: hsl(120, 75%, 99%); opacity:1.0;                     line-height:1.75\"><font color=\"black\"> without                    </font></mark><mark style=\"background-color: hsl(120, 75%, 95%); opacity:1.0;                     line-height:1.75\"><font color=\"black\"> harm                    </font></mark><mark style=\"background-color: hsl(120, 75%, 99%); opacity:1.0;                     line-height:1.75\"><font color=\"black\"> -                    </font></mark><mark style=\"background-color: hsl(0, 75%, 94%); opacity:1.0;                     line-height:1.75\"><font color=\"black\"> it                    </font></mark><mark style=\"background-color: hsl(0, 75%, 96%); opacity:1.0;                     line-height:1.75\"><font color=\"black\"> occurred.                    </font></mark><mark style=\"background-color: hsl(120, 75%, 89%); opacity:1.0;                     line-height:1.75\"><font color=\"black\"> #/s                    </font></mark></td><tr></table>"
      ],
      "text/plain": [
       "<IPython.core.display.HTML object>"
      ]
     },
     "metadata": {},
     "output_type": "display_data"
    },
    {
     "name": "stderr",
     "output_type": "stream",
     "text": [
      "/home/user/anaconda3/envs/py38/lib/python3.9/site-packages/captum/attr/_core/lime.py:1088: UserWarning: Attempting to construct interpretable model with > 10000 features.This can be very slow or lead to OOM issues. Please provide a featuremask which groups input features to reduce the number of interpretablefeatures. \n",
      "  warnings.warn(\n"
     ]
    },
    {
     "name": "stdout",
     "output_type": "stream",
     "text": [
      "<IPython.core.display.HTML object>\n",
      "Raw review: ['INTEL TODAY disclosed details of its next-generation XScale processor for mobile phones and handheld devices here in San Jose.', 'Intel on Wednesday unveiled its next-generation processor for cell phones, PDAs, and other wireless devices.']\n",
      "GT target: 3.5999999046325684\n",
      "pred_prob 3.724987804889679\n"
     ]
    },
    {
     "name": "stderr",
     "output_type": "stream",
     "text": [
      "Kernel Shap attribution: 100%|██████████████████████████████████████████████████████████| 10/10 [01:17<00:00,  7.72s/it]\n"
     ]
    },
    {
     "name": "stdout",
     "output_type": "stream",
     "text": [
      "word attr tensor([ 0.4603, -0.0232,  0.2396,  0.1508, -0.0486, -0.1036, -0.1507, -0.1062,\n",
      "         0.1921, -0.2518,  0.0444,  0.2671,  0.0648,  0.1807,  0.1042, -0.1372,\n",
      "        -0.0613,  0.1665,  0.0005,  0.0747, -0.0195,  0.0288, -0.0470, -0.0979,\n",
      "        -0.1146, -0.0990, -0.1759,  0.0461,  0.2143, -0.1000,  0.2016,  0.1078,\n",
      "         0.1614,  0.0048, -0.1361,  0.1028,  0.0891, -0.1627,  0.1741,  0.1287,\n",
      "        -0.0169,  0.0275,  0.0451,  0.2088,  0.0186,  0.0167, -0.1468,  0.0257,\n",
      "         0.0077])\n",
      "conti attr [tensor(0.4603), tensor(0.2163), tensor(0.1508), tensor(-0.0486), tensor(-0.1036), tensor(-0.1507), tensor(-0.1062), tensor(-0.0153), tensor(0.3319), tensor(0.1807), tensor(0.1042), tensor(-0.1372), tensor(-0.0613), tensor(0.1665), tensor(0.0005), tensor(0.0747), tensor(-0.0195), tensor(0.0288), tensor(-0.0470), tensor(-0.2125), tensor(-0.0990), tensor(-0.1759), tensor(0.0461), tensor(0.2143), tensor(-0.1000), tensor(0.2016), tensor(0.1078), tensor(0.0301), tensor(0.1028), tensor(0.0891), tensor(-0.1627), tensor(0.3028), tensor(0.0557), tensor(0.2088), tensor(0.0186), tensor(0.0167), tensor(-0.1211), tensor(0.0077)]\n",
      "detokenized ['<s>', 'INT', 'EL', 'TODAY', 'disclosed', 'details', 'of', 'its', 'next', '-', 'generation', 'X', 'Scale', 'processor', 'for', 'mobile', 'phones', 'and', 'handheld', 'devices', 'here', 'in', 'San', 'Jose', '.', '</s>', '</s>', 'Intel', 'on', 'Wednesday', 'unveiled', 'its', 'next', '-', 'generation', 'processor', 'for', 'cell', 'phones', ',', 'PD', 'As', ',', 'and', 'other', 'wireless', 'devices', '.', '</s>']\n",
      "len conti_raw 38\n",
      "conti_raw ['<s>', 'INTEL', 'TODAY', 'disclosed', 'details', 'of', 'its', 'next-generation', 'XScale', 'processor', 'for', 'mobile', 'phones', 'and', 'handheld', 'devices', 'here', 'in', 'San', 'Jose.', '</s>', '</s>', 'Intel', 'on', 'Wednesday', 'unveiled', 'its', 'next-generation', 'processor', 'for', 'cell', 'phones,', 'PDAs,', 'and', 'other', 'wireless', 'devices.', '</s>']\n"
     ]
    },
    {
     "data": {
      "text/html": [
       "<table width: 100%><div style=\"border-top: 1px solid; margin-top: 5px;             padding-top: 5px; display: inline-block\"><b>Legend: </b><span style=\"display: inline-block; width: 10px; height: 10px;                 border: 1px solid; background-color:                 hsl(0, 75%, 60%)\"></span> Negative  <span style=\"display: inline-block; width: 10px; height: 10px;                 border: 1px solid; background-color:                 hsl(0, 75%, 100%)\"></span> Neutral  <span style=\"display: inline-block; width: 10px; height: 10px;                 border: 1px solid; background-color:                 hsl(120, 75%, 50%)\"></span> Positive  </div><tr><th>True Label</th><th>Predicted Label</th><th>Attribution Label</th><th>Attribution Score</th><th>Word Importance</th><tr><td><text style=\"padding-right:2em\"><b>Similar</b></text></td><td><text style=\"padding-right:2em\"><b>Similar (0.74)</b></text></td><td><text style=\"padding-right:2em\"><b>Similar</b></text></td><td><text style=\"padding-right:2em\"><b>1.56</b></text></td><td><mark style=\"background-color: hsl(120, 75%, 77%); opacity:1.0;                     line-height:1.75\"><font color=\"black\"> #s                    </font></mark><mark style=\"background-color: hsl(120, 75%, 90%); opacity:1.0;                     line-height:1.75\"><font color=\"black\"> INTEL                    </font></mark><mark style=\"background-color: hsl(120, 75%, 93%); opacity:1.0;                     line-height:1.75\"><font color=\"black\"> TODAY                    </font></mark><mark style=\"background-color: hsl(0, 75%, 99%); opacity:1.0;                     line-height:1.75\"><font color=\"black\"> disclosed                    </font></mark><mark style=\"background-color: hsl(0, 75%, 96%); opacity:1.0;                     line-height:1.75\"><font color=\"black\"> details                    </font></mark><mark style=\"background-color: hsl(0, 75%, 94%); opacity:1.0;                     line-height:1.75\"><font color=\"black\"> of                    </font></mark><mark style=\"background-color: hsl(0, 75%, 96%); opacity:1.0;                     line-height:1.75\"><font color=\"black\"> its                    </font></mark><mark style=\"background-color: hsl(0, 75%, 100%); opacity:1.0;                     line-height:1.75\"><font color=\"black\"> next-generation                    </font></mark><mark style=\"background-color: hsl(120, 75%, 84%); opacity:1.0;                     line-height:1.75\"><font color=\"black\"> XScale                    </font></mark><mark style=\"background-color: hsl(120, 75%, 91%); opacity:1.0;                     line-height:1.75\"><font color=\"black\"> processor                    </font></mark><mark style=\"background-color: hsl(120, 75%, 95%); opacity:1.0;                     line-height:1.75\"><font color=\"black\"> for                    </font></mark><mark style=\"background-color: hsl(0, 75%, 95%); opacity:1.0;                     line-height:1.75\"><font color=\"black\"> mobile                    </font></mark><mark style=\"background-color: hsl(0, 75%, 98%); opacity:1.0;                     line-height:1.75\"><font color=\"black\"> phones                    </font></mark><mark style=\"background-color: hsl(120, 75%, 92%); opacity:1.0;                     line-height:1.75\"><font color=\"black\"> and                    </font></mark><mark style=\"background-color: hsl(120, 75%, 100%); opacity:1.0;                     line-height:1.75\"><font color=\"black\"> handheld                    </font></mark><mark style=\"background-color: hsl(120, 75%, 97%); opacity:1.0;                     line-height:1.75\"><font color=\"black\"> devices                    </font></mark><mark style=\"background-color: hsl(0, 75%, 100%); opacity:1.0;                     line-height:1.75\"><font color=\"black\"> here                    </font></mark><mark style=\"background-color: hsl(120, 75%, 99%); opacity:1.0;                     line-height:1.75\"><font color=\"black\"> in                    </font></mark><mark style=\"background-color: hsl(0, 75%, 99%); opacity:1.0;                     line-height:1.75\"><font color=\"black\"> San                    </font></mark><mark style=\"background-color: hsl(0, 75%, 92%); opacity:1.0;                     line-height:1.75\"><font color=\"black\"> Jose.                    </font></mark><mark style=\"background-color: hsl(0, 75%, 97%); opacity:1.0;                     line-height:1.75\"><font color=\"black\"> #/s                    </font></mark><mark style=\"background-color: hsl(0, 75%, 93%); opacity:1.0;                     line-height:1.75\"><font color=\"black\"> #/s                    </font></mark><mark style=\"background-color: hsl(120, 75%, 98%); opacity:1.0;                     line-height:1.75\"><font color=\"black\"> Intel                    </font></mark><mark style=\"background-color: hsl(120, 75%, 90%); opacity:1.0;                     line-height:1.75\"><font color=\"black\"> on                    </font></mark><mark style=\"background-color: hsl(0, 75%, 96%); opacity:1.0;                     line-height:1.75\"><font color=\"black\"> Wednesday                    </font></mark><mark style=\"background-color: hsl(120, 75%, 90%); opacity:1.0;                     line-height:1.75\"><font color=\"black\"> unveiled                    </font></mark><mark style=\"background-color: hsl(120, 75%, 95%); opacity:1.0;                     line-height:1.75\"><font color=\"black\"> its                    </font></mark><mark style=\"background-color: hsl(120, 75%, 99%); opacity:1.0;                     line-height:1.75\"><font color=\"black\"> next-generation                    </font></mark><mark style=\"background-color: hsl(120, 75%, 95%); opacity:1.0;                     line-height:1.75\"><font color=\"black\"> processor                    </font></mark><mark style=\"background-color: hsl(120, 75%, 96%); opacity:1.0;                     line-height:1.75\"><font color=\"black\"> for                    </font></mark><mark style=\"background-color: hsl(0, 75%, 94%); opacity:1.0;                     line-height:1.75\"><font color=\"black\"> cell                    </font></mark><mark style=\"background-color: hsl(120, 75%, 85%); opacity:1.0;                     line-height:1.75\"><font color=\"black\"> phones,                    </font></mark><mark style=\"background-color: hsl(120, 75%, 98%); opacity:1.0;                     line-height:1.75\"><font color=\"black\"> PDAs,                    </font></mark><mark style=\"background-color: hsl(120, 75%, 90%); opacity:1.0;                     line-height:1.75\"><font color=\"black\"> and                    </font></mark><mark style=\"background-color: hsl(120, 75%, 100%); opacity:1.0;                     line-height:1.75\"><font color=\"black\"> other                    </font></mark><mark style=\"background-color: hsl(120, 75%, 100%); opacity:1.0;                     line-height:1.75\"><font color=\"black\"> wireless                    </font></mark><mark style=\"background-color: hsl(0, 75%, 96%); opacity:1.0;                     line-height:1.75\"><font color=\"black\"> devices.                    </font></mark><mark style=\"background-color: hsl(120, 75%, 100%); opacity:1.0;                     line-height:1.75\"><font color=\"black\"> #/s                    </font></mark></td><tr></table>"
      ],
      "text/plain": [
       "<IPython.core.display.HTML object>"
      ]
     },
     "metadata": {},
     "output_type": "display_data"
    },
    {
     "name": "stderr",
     "output_type": "stream",
     "text": [
      "/home/user/anaconda3/envs/py38/lib/python3.9/site-packages/captum/attr/_core/lime.py:1088: UserWarning: Attempting to construct interpretable model with > 10000 features.This can be very slow or lead to OOM issues. Please provide a featuremask which groups input features to reduce the number of interpretablefeatures. \n",
      "  warnings.warn(\n"
     ]
    },
    {
     "name": "stdout",
     "output_type": "stream",
     "text": [
      "<IPython.core.display.HTML object>\n",
      "Raw review: ['Like Chris said above, stars rotate to conserve their angular momentum.', \"Stars are rotating, but that's not the cause for their stability.\"]\n",
      "GT target: 3.4000000953674316\n",
      "pred_prob 2.7909621596336365\n"
     ]
    },
    {
     "name": "stderr",
     "output_type": "stream",
     "text": [
      "Kernel Shap attribution: 100%|██████████████████████████████████████████████████████████| 10/10 [00:46<00:00,  4.62s/it]\n"
     ]
    },
    {
     "name": "stdout",
     "output_type": "stream",
     "text": [
      "word attr tensor([-0.0033, -0.3297,  0.2984, -0.0259,  0.0076,  0.0050, -0.2183,  0.0264,\n",
      "         0.1070, -0.0907,  0.1393, -0.0740, -0.1316,  0.0008,  0.0124,  0.1623,\n",
      "        -0.1947,  0.1027,  0.1393, -0.1577,  0.0776,  0.2034, -0.1841, -0.0809,\n",
      "         0.1864, -0.1486,  0.1452,  0.0008,  0.0245,  0.0514,  0.6349])\n",
      "conti attr [tensor(-0.0033), tensor(-0.3297), tensor(0.2984), tensor(-0.0259), tensor(0.0127), tensor(-0.2183), tensor(0.0264), tensor(0.1070), tensor(-0.0907), tensor(0.1393), tensor(-0.0740), tensor(-0.1308), tensor(0.0124), tensor(0.1623), tensor(-0.1947), tensor(0.1027), tensor(-0.0184), tensor(0.0776), tensor(0.0192), tensor(-0.0809), tensor(0.1864), tensor(-0.1486), tensor(0.1452), tensor(0.0008), tensor(0.0759), tensor(0.6349)]\n",
      "detokenized ['<s>', 'Like', 'Chris', 'said', 'above', ',', 'stars', 'rotate', 'to', 'conserve', 'their', 'angular', 'momentum', '.', '</s>', '</s>', 'Stars', 'are', 'rotating', ',', 'but', 'that', \"'s\", 'not', 'the', 'cause', 'for', 'their', 'stability', '.', '</s>']\n",
      "len conti_raw 26\n",
      "conti_raw ['<s>', 'Like', 'Chris', 'said', 'above,', 'stars', 'rotate', 'to', 'conserve', 'their', 'angular', 'momentum.', '</s>', '</s>', 'Stars', 'are', 'rotating,', 'but', \"that's\", 'not', 'the', 'cause', 'for', 'their', 'stability.', '</s>']\n"
     ]
    },
    {
     "data": {
      "text/html": [
       "<table width: 100%><div style=\"border-top: 1px solid; margin-top: 5px;             padding-top: 5px; display: inline-block\"><b>Legend: </b><span style=\"display: inline-block; width: 10px; height: 10px;                 border: 1px solid; background-color:                 hsl(0, 75%, 60%)\"></span> Negative  <span style=\"display: inline-block; width: 10px; height: 10px;                 border: 1px solid; background-color:                 hsl(0, 75%, 100%)\"></span> Neutral  <span style=\"display: inline-block; width: 10px; height: 10px;                 border: 1px solid; background-color:                 hsl(120, 75%, 50%)\"></span> Positive  </div><tr><th>True Label</th><th>Predicted Label</th><th>Attribution Label</th><th>Attribution Score</th><th>Word Importance</th><tr><td><text style=\"padding-right:2em\"><b>Similar</b></text></td><td><text style=\"padding-right:2em\"><b>Similar (0.56)</b></text></td><td><text style=\"padding-right:2em\"><b>Similar</b></text></td><td><text style=\"padding-right:2em\"><b>0.69</b></text></td><td><mark style=\"background-color: hsl(0, 75%, 100%); opacity:1.0;                     line-height:1.75\"><font color=\"black\"> #s                    </font></mark><mark style=\"background-color: hsl(0, 75%, 87%); opacity:1.0;                     line-height:1.75\"><font color=\"black\"> Like                    </font></mark><mark style=\"background-color: hsl(120, 75%, 86%); opacity:1.0;                     line-height:1.75\"><font color=\"black\"> Chris                    </font></mark><mark style=\"background-color: hsl(0, 75%, 99%); opacity:1.0;                     line-height:1.75\"><font color=\"black\"> said                    </font></mark><mark style=\"background-color: hsl(120, 75%, 100%); opacity:1.0;                     line-height:1.75\"><font color=\"black\"> above,                    </font></mark><mark style=\"background-color: hsl(0, 75%, 92%); opacity:1.0;                     line-height:1.75\"><font color=\"black\"> stars                    </font></mark><mark style=\"background-color: hsl(120, 75%, 99%); opacity:1.0;                     line-height:1.75\"><font color=\"black\"> rotate                    </font></mark><mark style=\"background-color: hsl(120, 75%, 95%); opacity:1.0;                     line-height:1.75\"><font color=\"black\"> to                    </font></mark><mark style=\"background-color: hsl(0, 75%, 97%); opacity:1.0;                     line-height:1.75\"><font color=\"black\"> conserve                    </font></mark><mark style=\"background-color: hsl(120, 75%, 94%); opacity:1.0;                     line-height:1.75\"><font color=\"black\"> their                    </font></mark><mark style=\"background-color: hsl(0, 75%, 98%); opacity:1.0;                     line-height:1.75\"><font color=\"black\"> angular                    </font></mark><mark style=\"background-color: hsl(0, 75%, 95%); opacity:1.0;                     line-height:1.75\"><font color=\"black\"> momentum.                    </font></mark><mark style=\"background-color: hsl(120, 75%, 100%); opacity:1.0;                     line-height:1.75\"><font color=\"black\"> #/s                    </font></mark><mark style=\"background-color: hsl(120, 75%, 92%); opacity:1.0;                     line-height:1.75\"><font color=\"black\"> #/s                    </font></mark><mark style=\"background-color: hsl(0, 75%, 93%); opacity:1.0;                     line-height:1.75\"><font color=\"black\"> Stars                    </font></mark><mark style=\"background-color: hsl(120, 75%, 95%); opacity:1.0;                     line-height:1.75\"><font color=\"black\"> are                    </font></mark><mark style=\"background-color: hsl(0, 75%, 100%); opacity:1.0;                     line-height:1.75\"><font color=\"black\"> rotating,                    </font></mark><mark style=\"background-color: hsl(120, 75%, 97%); opacity:1.0;                     line-height:1.75\"><font color=\"black\"> but                    </font></mark><mark style=\"background-color: hsl(120, 75%, 100%); opacity:1.0;                     line-height:1.75\"><font color=\"black\"> that's                    </font></mark><mark style=\"background-color: hsl(0, 75%, 97%); opacity:1.0;                     line-height:1.75\"><font color=\"black\"> not                    </font></mark><mark style=\"background-color: hsl(120, 75%, 91%); opacity:1.0;                     line-height:1.75\"><font color=\"black\"> the                    </font></mark><mark style=\"background-color: hsl(0, 75%, 95%); opacity:1.0;                     line-height:1.75\"><font color=\"black\"> cause                    </font></mark><mark style=\"background-color: hsl(120, 75%, 93%); opacity:1.0;                     line-height:1.75\"><font color=\"black\"> for                    </font></mark><mark style=\"background-color: hsl(120, 75%, 100%); opacity:1.0;                     line-height:1.75\"><font color=\"black\"> their                    </font></mark><mark style=\"background-color: hsl(120, 75%, 97%); opacity:1.0;                     line-height:1.75\"><font color=\"black\"> stability.                    </font></mark><mark style=\"background-color: hsl(120, 75%, 69%); opacity:1.0;                     line-height:1.75\"><font color=\"black\"> #/s                    </font></mark></td><tr></table>"
      ],
      "text/plain": [
       "<IPython.core.display.HTML object>"
      ]
     },
     "metadata": {},
     "output_type": "display_data"
    },
    {
     "name": "stderr",
     "output_type": "stream",
     "text": [
      "/home/user/anaconda3/envs/py38/lib/python3.9/site-packages/captum/attr/_core/lime.py:1088: UserWarning: Attempting to construct interpretable model with > 10000 features.This can be very slow or lead to OOM issues. Please provide a featuremask which groups input features to reduce the number of interpretablefeatures. \n",
      "  warnings.warn(\n"
     ]
    },
    {
     "name": "stdout",
     "output_type": "stream",
     "text": [
      "<IPython.core.display.HTML object>\n",
      "Raw review: ['A lady with a yellow outfit is in the air above the bed in a yellow room.', 'A dog with a red leash still attached chases over the grass toward a tennis ball.']\n",
      "GT target: 0.0\n",
      "pred_prob 0.04631649237126112\n"
     ]
    },
    {
     "name": "stderr",
     "output_type": "stream",
     "text": [
      "Kernel Shap attribution: 100%|██████████████████████████████████████████████████████████| 10/10 [00:59<00:00,  5.91s/it]\n"
     ]
    },
    {
     "name": "stdout",
     "output_type": "stream",
     "text": [
      "word attr tensor([ 0.2524,  0.0017,  0.1350,  0.0368, -0.0008,  0.1146, -0.2886,  0.0824,\n",
      "        -0.1959, -0.0140,  0.0875, -0.0320,  0.1304, -0.0413, -0.1999,  0.1658,\n",
      "         0.1386,  0.1603,  0.2306, -0.1980,  0.0632, -0.0712, -0.2296, -0.1432,\n",
      "        -0.3071,  0.0841,  0.0701,  0.1512, -0.0374, -0.0130, -0.2546, -0.0245,\n",
      "        -0.2260,  0.0222, -0.4019,  0.0032, -0.0588,  0.1151,  0.0365,  0.1820])\n",
      "conti attr [tensor(0.2524), tensor(0.0017), tensor(0.1350), tensor(0.0368), tensor(-0.0008), tensor(0.1146), tensor(-0.2886), tensor(0.0824), tensor(-0.1959), tensor(-0.0140), tensor(0.0875), tensor(-0.0320), tensor(0.1304), tensor(-0.0413), tensor(-0.1999), tensor(0.1658), tensor(0.1386), tensor(0.3909), tensor(-0.1980), tensor(0.0632), tensor(-0.0712), tensor(-0.2296), tensor(-0.1432), tensor(-0.3071), tensor(0.0841), tensor(0.0701), tensor(0.1512), tensor(-0.0374), tensor(-0.2677), tensor(-0.0245), tensor(-0.2260), tensor(0.0222), tensor(-0.4019), tensor(0.0032), tensor(-0.0588), tensor(0.1516), tensor(0.1820)]\n",
      "detokenized ['<s>', 'A', 'lady', 'with', 'a', 'yellow', 'outfit', 'is', 'in', 'the', 'air', 'above', 'the', 'bed', 'in', 'a', 'yellow', 'room', '.', '</s>', '</s>', 'A', 'dog', 'with', 'a', 'red', 'leash', 'still', 'attached', 'ch', 'ases', 'over', 'the', 'grass', 'toward', 'a', 'tennis', 'ball', '.', '</s>']\n",
      "len conti_raw 37\n",
      "conti_raw ['<s>', 'A', 'lady', 'with', 'a', 'yellow', 'outfit', 'is', 'in', 'the', 'air', 'above', 'the', 'bed', 'in', 'a', 'yellow', 'room.', '</s>', '</s>', 'A', 'dog', 'with', 'a', 'red', 'leash', 'still', 'attached', 'chases', 'over', 'the', 'grass', 'toward', 'a', 'tennis', 'ball.', '</s>']\n"
     ]
    },
    {
     "data": {
      "text/html": [
       "<table width: 100%><div style=\"border-top: 1px solid; margin-top: 5px;             padding-top: 5px; display: inline-block\"><b>Legend: </b><span style=\"display: inline-block; width: 10px; height: 10px;                 border: 1px solid; background-color:                 hsl(0, 75%, 60%)\"></span> Negative  <span style=\"display: inline-block; width: 10px; height: 10px;                 border: 1px solid; background-color:                 hsl(0, 75%, 100%)\"></span> Neutral  <span style=\"display: inline-block; width: 10px; height: 10px;                 border: 1px solid; background-color:                 hsl(120, 75%, 50%)\"></span> Positive  </div><tr><th>True Label</th><th>Predicted Label</th><th>Attribution Label</th><th>Attribution Score</th><th>Word Importance</th><tr><td><text style=\"padding-right:2em\"><b>Not Similar</b></text></td><td><text style=\"padding-right:2em\"><b>Not Similar (0.01)</b></text></td><td><text style=\"padding-right:2em\"><b>Not Similar</b></text></td><td><text style=\"padding-right:2em\"><b>-0.47</b></text></td><td><mark style=\"background-color: hsl(120, 75%, 88%); opacity:1.0;                     line-height:1.75\"><font color=\"black\"> #s                    </font></mark><mark style=\"background-color: hsl(120, 75%, 100%); opacity:1.0;                     line-height:1.75\"><font color=\"black\"> A                    </font></mark><mark style=\"background-color: hsl(120, 75%, 94%); opacity:1.0;                     line-height:1.75\"><font color=\"black\"> lady                    </font></mark><mark style=\"background-color: hsl(120, 75%, 99%); opacity:1.0;                     line-height:1.75\"><font color=\"black\"> with                    </font></mark><mark style=\"background-color: hsl(0, 75%, 100%); opacity:1.0;                     line-height:1.75\"><font color=\"black\"> a                    </font></mark><mark style=\"background-color: hsl(120, 75%, 95%); opacity:1.0;                     line-height:1.75\"><font color=\"black\"> yellow                    </font></mark><mark style=\"background-color: hsl(0, 75%, 89%); opacity:1.0;                     line-height:1.75\"><font color=\"black\"> outfit                    </font></mark><mark style=\"background-color: hsl(120, 75%, 96%); opacity:1.0;                     line-height:1.75\"><font color=\"black\"> is                    </font></mark><mark style=\"background-color: hsl(0, 75%, 93%); opacity:1.0;                     line-height:1.75\"><font color=\"black\"> in                    </font></mark><mark style=\"background-color: hsl(0, 75%, 100%); opacity:1.0;                     line-height:1.75\"><font color=\"black\"> the                    </font></mark><mark style=\"background-color: hsl(120, 75%, 96%); opacity:1.0;                     line-height:1.75\"><font color=\"black\"> air                    </font></mark><mark style=\"background-color: hsl(0, 75%, 99%); opacity:1.0;                     line-height:1.75\"><font color=\"black\"> above                    </font></mark><mark style=\"background-color: hsl(120, 75%, 94%); opacity:1.0;                     line-height:1.75\"><font color=\"black\"> the                    </font></mark><mark style=\"background-color: hsl(0, 75%, 99%); opacity:1.0;                     line-height:1.75\"><font color=\"black\"> bed                    </font></mark><mark style=\"background-color: hsl(0, 75%, 93%); opacity:1.0;                     line-height:1.75\"><font color=\"black\"> in                    </font></mark><mark style=\"background-color: hsl(120, 75%, 92%); opacity:1.0;                     line-height:1.75\"><font color=\"black\"> a                    </font></mark><mark style=\"background-color: hsl(120, 75%, 94%); opacity:1.0;                     line-height:1.75\"><font color=\"black\"> yellow                    </font></mark><mark style=\"background-color: hsl(120, 75%, 81%); opacity:1.0;                     line-height:1.75\"><font color=\"black\"> room.                    </font></mark><mark style=\"background-color: hsl(0, 75%, 93%); opacity:1.0;                     line-height:1.75\"><font color=\"black\"> #/s                    </font></mark><mark style=\"background-color: hsl(120, 75%, 97%); opacity:1.0;                     line-height:1.75\"><font color=\"black\"> #/s                    </font></mark><mark style=\"background-color: hsl(0, 75%, 98%); opacity:1.0;                     line-height:1.75\"><font color=\"black\"> A                    </font></mark><mark style=\"background-color: hsl(0, 75%, 91%); opacity:1.0;                     line-height:1.75\"><font color=\"black\"> dog                    </font></mark><mark style=\"background-color: hsl(0, 75%, 95%); opacity:1.0;                     line-height:1.75\"><font color=\"black\"> with                    </font></mark><mark style=\"background-color: hsl(0, 75%, 88%); opacity:1.0;                     line-height:1.75\"><font color=\"black\"> a                    </font></mark><mark style=\"background-color: hsl(120, 75%, 96%); opacity:1.0;                     line-height:1.75\"><font color=\"black\"> red                    </font></mark><mark style=\"background-color: hsl(120, 75%, 97%); opacity:1.0;                     line-height:1.75\"><font color=\"black\"> leash                    </font></mark><mark style=\"background-color: hsl(120, 75%, 93%); opacity:1.0;                     line-height:1.75\"><font color=\"black\"> still                    </font></mark><mark style=\"background-color: hsl(0, 75%, 99%); opacity:1.0;                     line-height:1.75\"><font color=\"black\"> attached                    </font></mark><mark style=\"background-color: hsl(0, 75%, 90%); opacity:1.0;                     line-height:1.75\"><font color=\"black\"> chases                    </font></mark><mark style=\"background-color: hsl(0, 75%, 100%); opacity:1.0;                     line-height:1.75\"><font color=\"black\"> over                    </font></mark><mark style=\"background-color: hsl(0, 75%, 91%); opacity:1.0;                     line-height:1.75\"><font color=\"black\"> the                    </font></mark><mark style=\"background-color: hsl(120, 75%, 99%); opacity:1.0;                     line-height:1.75\"><font color=\"black\"> grass                    </font></mark><mark style=\"background-color: hsl(0, 75%, 84%); opacity:1.0;                     line-height:1.75\"><font color=\"black\"> toward                    </font></mark><mark style=\"background-color: hsl(120, 75%, 100%); opacity:1.0;                     line-height:1.75\"><font color=\"black\"> a                    </font></mark><mark style=\"background-color: hsl(0, 75%, 98%); opacity:1.0;                     line-height:1.75\"><font color=\"black\"> tennis                    </font></mark><mark style=\"background-color: hsl(120, 75%, 93%); opacity:1.0;                     line-height:1.75\"><font color=\"black\"> ball.                    </font></mark><mark style=\"background-color: hsl(120, 75%, 91%); opacity:1.0;                     line-height:1.75\"><font color=\"black\"> #/s                    </font></mark></td><tr></table>"
      ],
      "text/plain": [
       "<IPython.core.display.HTML object>"
      ]
     },
     "metadata": {},
     "output_type": "display_data"
    },
    {
     "name": "stderr",
     "output_type": "stream",
     "text": [
      "/home/user/anaconda3/envs/py38/lib/python3.9/site-packages/captum/attr/_core/lime.py:1088: UserWarning: Attempting to construct interpretable model with > 10000 features.This can be very slow or lead to OOM issues. Please provide a featuremask which groups input features to reduce the number of interpretablefeatures. \n",
      "  warnings.warn(\n"
     ]
    },
    {
     "name": "stdout",
     "output_type": "stream",
     "text": [
      "<IPython.core.display.HTML object>\n",
      "Raw review: ['A woman is adding oil on fishes.', 'The woman is cutting potatoes.']\n",
      "GT target: 0.6000000238418579\n",
      "pred_prob 1.113269180059433\n"
     ]
    },
    {
     "name": "stderr",
     "output_type": "stream",
     "text": [
      "Kernel Shap attribution: 100%|██████████████████████████████████████████████████████████| 10/10 [00:26<00:00,  2.63s/it]\n"
     ]
    },
    {
     "name": "stdout",
     "output_type": "stream",
     "text": [
      "word attr tensor([ 0.4357, -0.1303,  0.3107,  0.1404,  0.1495, -0.2240,  0.2232, -0.0639,\n",
      "        -0.2667,  0.3124, -0.5023, -0.0923, -0.2978,  0.0944, -0.0368,  0.1032,\n",
      "        -0.1063, -0.0019])\n",
      "conti attr [tensor(0.4357), tensor(-0.1303), tensor(0.3107), tensor(0.1404), tensor(0.1495), tensor(-0.2240), tensor(0.2232), tensor(-0.3307), tensor(0.3124), tensor(-0.5023), tensor(-0.0923), tensor(-0.2978), tensor(0.0944), tensor(-0.0368), tensor(-0.0031), tensor(-0.0019)]\n",
      "detokenized ['<s>', 'A', 'woman', 'is', 'adding', 'oil', 'on', 'fishes', '.', '</s>', '</s>', 'The', 'woman', 'is', 'cutting', 'potatoes', '.', '</s>']\n",
      "len conti_raw 16\n",
      "conti_raw ['<s>', 'A', 'woman', 'is', 'adding', 'oil', 'on', 'fishes.', '</s>', '</s>', 'The', 'woman', 'is', 'cutting', 'potatoes.', '</s>']\n"
     ]
    },
    {
     "data": {
      "text/html": [
       "<table width: 100%><div style=\"border-top: 1px solid; margin-top: 5px;             padding-top: 5px; display: inline-block\"><b>Legend: </b><span style=\"display: inline-block; width: 10px; height: 10px;                 border: 1px solid; background-color:                 hsl(0, 75%, 60%)\"></span> Negative  <span style=\"display: inline-block; width: 10px; height: 10px;                 border: 1px solid; background-color:                 hsl(0, 75%, 100%)\"></span> Neutral  <span style=\"display: inline-block; width: 10px; height: 10px;                 border: 1px solid; background-color:                 hsl(120, 75%, 50%)\"></span> Positive  </div><tr><th>True Label</th><th>Predicted Label</th><th>Attribution Label</th><th>Attribution Score</th><th>Word Importance</th><tr><td><text style=\"padding-right:2em\"><b>Not Similar</b></text></td><td><text style=\"padding-right:2em\"><b>Not Similar (0.22)</b></text></td><td><text style=\"padding-right:2em\"><b>Not Similar</b></text></td><td><text style=\"padding-right:2em\"><b>0.05</b></text></td><td><mark style=\"background-color: hsl(120, 75%, 79%); opacity:1.0;                     line-height:1.75\"><font color=\"black\"> #s                    </font></mark><mark style=\"background-color: hsl(0, 75%, 95%); opacity:1.0;                     line-height:1.75\"><font color=\"black\"> A                    </font></mark><mark style=\"background-color: hsl(120, 75%, 85%); opacity:1.0;                     line-height:1.75\"><font color=\"black\"> woman                    </font></mark><mark style=\"background-color: hsl(120, 75%, 93%); opacity:1.0;                     line-height:1.75\"><font color=\"black\"> is                    </font></mark><mark style=\"background-color: hsl(120, 75%, 93%); opacity:1.0;                     line-height:1.75\"><font color=\"black\"> adding                    </font></mark><mark style=\"background-color: hsl(0, 75%, 92%); opacity:1.0;                     line-height:1.75\"><font color=\"black\"> oil                    </font></mark><mark style=\"background-color: hsl(120, 75%, 89%); opacity:1.0;                     line-height:1.75\"><font color=\"black\"> on                    </font></mark><mark style=\"background-color: hsl(0, 75%, 87%); opacity:1.0;                     line-height:1.75\"><font color=\"black\"> fishes.                    </font></mark><mark style=\"background-color: hsl(120, 75%, 85%); opacity:1.0;                     line-height:1.75\"><font color=\"black\"> #/s                    </font></mark><mark style=\"background-color: hsl(0, 75%, 80%); opacity:1.0;                     line-height:1.75\"><font color=\"black\"> #/s                    </font></mark><mark style=\"background-color: hsl(0, 75%, 97%); opacity:1.0;                     line-height:1.75\"><font color=\"black\"> The                    </font></mark><mark style=\"background-color: hsl(0, 75%, 89%); opacity:1.0;                     line-height:1.75\"><font color=\"black\"> woman                    </font></mark><mark style=\"background-color: hsl(120, 75%, 96%); opacity:1.0;                     line-height:1.75\"><font color=\"black\"> is                    </font></mark><mark style=\"background-color: hsl(0, 75%, 99%); opacity:1.0;                     line-height:1.75\"><font color=\"black\"> cutting                    </font></mark><mark style=\"background-color: hsl(0, 75%, 100%); opacity:1.0;                     line-height:1.75\"><font color=\"black\"> potatoes.                    </font></mark><mark style=\"background-color: hsl(0, 75%, 100%); opacity:1.0;                     line-height:1.75\"><font color=\"black\"> #/s                    </font></mark></td><tr></table>"
      ],
      "text/plain": [
       "<IPython.core.display.HTML object>"
      ]
     },
     "metadata": {},
     "output_type": "display_data"
    },
    {
     "name": "stderr",
     "output_type": "stream",
     "text": [
      "/home/user/anaconda3/envs/py38/lib/python3.9/site-packages/captum/attr/_core/lime.py:1088: UserWarning: Attempting to construct interpretable model with > 10000 features.This can be very slow or lead to OOM issues. Please provide a featuremask which groups input features to reduce the number of interpretablefeatures. \n",
      "  warnings.warn(\n"
     ]
    },
    {
     "name": "stdout",
     "output_type": "stream",
     "text": [
      "<IPython.core.display.HTML object>\n",
      "Raw review: ['Train going down the tracks.', 'A black steam train traveling on the railroad tracks.']\n",
      "GT target: 3.799999952316284\n",
      "pred_prob 3.3534544706344604\n"
     ]
    },
    {
     "name": "stderr",
     "output_type": "stream",
     "text": [
      "Kernel Shap attribution: 100%|██████████████████████████████████████████████████████████| 10/10 [00:29<00:00,  2.95s/it]\n"
     ]
    },
    {
     "name": "stdout",
     "output_type": "stream",
     "text": [
      "word attr tensor([ 0.7691,  0.0073,  0.0680, -0.2687, -0.0086, -0.0202,  0.0778, -0.0885,\n",
      "        -0.0622, -0.1017,  0.0939, -0.1908,  0.2475, -0.1316, -0.0331, -0.2056,\n",
      "        -0.1400,  0.1710,  0.0955, -0.2791])\n",
      "conti attr [tensor(0.7691), tensor(0.0073), tensor(0.0680), tensor(-0.2687), tensor(-0.0086), tensor(0.0576), tensor(-0.0885), tensor(-0.0622), tensor(-0.1017), tensor(0.0939), tensor(-0.1908), tensor(0.2475), tensor(-0.1316), tensor(-0.0331), tensor(-0.2056), tensor(-0.1400), tensor(0.2665), tensor(-0.2791)]\n",
      "detokenized ['<s>', 'Train', 'going', 'down', 'the', 'tracks', '.', '</s>', '</s>', 'A', 'black', 'steam', 'train', 'traveling', 'on', 'the', 'railroad', 'tracks', '.', '</s>']\n",
      "len conti_raw 18\n",
      "conti_raw ['<s>', 'Train', 'going', 'down', 'the', 'tracks.', '</s>', '</s>', 'A', 'black', 'steam', 'train', 'traveling', 'on', 'the', 'railroad', 'tracks.', '</s>']\n"
     ]
    },
    {
     "data": {
      "text/html": [
       "<table width: 100%><div style=\"border-top: 1px solid; margin-top: 5px;             padding-top: 5px; display: inline-block\"><b>Legend: </b><span style=\"display: inline-block; width: 10px; height: 10px;                 border: 1px solid; background-color:                 hsl(0, 75%, 60%)\"></span> Negative  <span style=\"display: inline-block; width: 10px; height: 10px;                 border: 1px solid; background-color:                 hsl(0, 75%, 100%)\"></span> Neutral  <span style=\"display: inline-block; width: 10px; height: 10px;                 border: 1px solid; background-color:                 hsl(120, 75%, 50%)\"></span> Positive  </div><tr><th>True Label</th><th>Predicted Label</th><th>Attribution Label</th><th>Attribution Score</th><th>Word Importance</th><tr><td><text style=\"padding-right:2em\"><b>Similar</b></text></td><td><text style=\"padding-right:2em\"><b>Similar (0.67)</b></text></td><td><text style=\"padding-right:2em\"><b>Not Similar</b></text></td><td><text style=\"padding-right:2em\"><b>-0.00</b></text></td><td><mark style=\"background-color: hsl(120, 75%, 62%); opacity:1.0;                     line-height:1.75\"><font color=\"black\"> #s                    </font></mark><mark style=\"background-color: hsl(120, 75%, 100%); opacity:1.0;                     line-height:1.75\"><font color=\"black\"> Train                    </font></mark><mark style=\"background-color: hsl(120, 75%, 97%); opacity:1.0;                     line-height:1.75\"><font color=\"black\"> going                    </font></mark><mark style=\"background-color: hsl(0, 75%, 90%); opacity:1.0;                     line-height:1.75\"><font color=\"black\"> down                    </font></mark><mark style=\"background-color: hsl(0, 75%, 100%); opacity:1.0;                     line-height:1.75\"><font color=\"black\"> the                    </font></mark><mark style=\"background-color: hsl(120, 75%, 98%); opacity:1.0;                     line-height:1.75\"><font color=\"black\"> tracks.                    </font></mark><mark style=\"background-color: hsl(0, 75%, 97%); opacity:1.0;                     line-height:1.75\"><font color=\"black\"> #/s                    </font></mark><mark style=\"background-color: hsl(0, 75%, 98%); opacity:1.0;                     line-height:1.75\"><font color=\"black\"> #/s                    </font></mark><mark style=\"background-color: hsl(0, 75%, 96%); opacity:1.0;                     line-height:1.75\"><font color=\"black\"> A                    </font></mark><mark style=\"background-color: hsl(120, 75%, 96%); opacity:1.0;                     line-height:1.75\"><font color=\"black\"> black                    </font></mark><mark style=\"background-color: hsl(0, 75%, 93%); opacity:1.0;                     line-height:1.75\"><font color=\"black\"> steam                    </font></mark><mark style=\"background-color: hsl(120, 75%, 88%); opacity:1.0;                     line-height:1.75\"><font color=\"black\"> train                    </font></mark><mark style=\"background-color: hsl(0, 75%, 95%); opacity:1.0;                     line-height:1.75\"><font color=\"black\"> traveling                    </font></mark><mark style=\"background-color: hsl(0, 75%, 99%); opacity:1.0;                     line-height:1.75\"><font color=\"black\"> on                    </font></mark><mark style=\"background-color: hsl(0, 75%, 92%); opacity:1.0;                     line-height:1.75\"><font color=\"black\"> the                    </font></mark><mark style=\"background-color: hsl(0, 75%, 95%); opacity:1.0;                     line-height:1.75\"><font color=\"black\"> railroad                    </font></mark><mark style=\"background-color: hsl(120, 75%, 87%); opacity:1.0;                     line-height:1.75\"><font color=\"black\"> tracks.                    </font></mark><mark style=\"background-color: hsl(0, 75%, 89%); opacity:1.0;                     line-height:1.75\"><font color=\"black\"> #/s                    </font></mark></td><tr></table>"
      ],
      "text/plain": [
       "<IPython.core.display.HTML object>"
      ]
     },
     "metadata": {},
     "output_type": "display_data"
    },
    {
     "name": "stderr",
     "output_type": "stream",
     "text": [
      "/home/user/anaconda3/envs/py38/lib/python3.9/site-packages/captum/attr/_core/lime.py:1088: UserWarning: Attempting to construct interpretable model with > 10000 features.This can be very slow or lead to OOM issues. Please provide a featuremask which groups input features to reduce the number of interpretablefeatures. \n",
      "  warnings.warn(\n"
     ]
    },
    {
     "name": "stdout",
     "output_type": "stream",
     "text": [
      "<IPython.core.display.HTML object>\n",
      "Raw review: ['According to Shia Muslims specially Iran state and Hezbollah a country called Israel does not exist.', 'As with the definition of Palestine, the definition of Israel varies depending on whom you ask.']\n",
      "GT target: 3.200000047683716\n",
      "pred_prob 1.4565475285053253\n"
     ]
    },
    {
     "name": "stderr",
     "output_type": "stream",
     "text": [
      "Kernel Shap attribution: 100%|██████████████████████████████████████████████████████████| 10/10 [00:58<00:00,  5.87s/it]\n"
     ]
    },
    {
     "name": "stdout",
     "output_type": "stream",
     "text": [
      "word attr tensor([ 0.6371, -0.0653,  0.0977, -0.0179,  0.0661, -0.0636,  0.1520, -0.3154,\n",
      "         0.1848, -0.0298,  0.1408, -0.0772,  0.1383,  0.0044,  0.1264, -0.0054,\n",
      "        -0.0448, -0.0467, -0.0711, -0.1607, -0.1963, -0.1385,  0.0864, -0.0067,\n",
      "        -0.0166, -0.1833, -0.0600,  0.0222,  0.0901, -0.1306, -0.0808,  0.0034,\n",
      "        -0.3213,  0.1408, -0.0396, -0.0198,  0.0519,  0.2213,  0.0801])\n",
      "conti attr [tensor(0.6371), tensor(-0.0653), tensor(0.0977), tensor(-0.0179), tensor(0.0661), tensor(-0.0636), tensor(0.1520), tensor(-0.3154), tensor(0.1848), tensor(-0.0298), tensor(0.1408), tensor(-0.0772), tensor(0.1383), tensor(0.0044), tensor(0.1264), tensor(-0.0054), tensor(-0.0915), tensor(-0.0711), tensor(-0.1607), tensor(-0.1963), tensor(-0.1385), tensor(0.0864), tensor(-0.0067), tensor(-0.0166), tensor(-0.2433), tensor(0.0222), tensor(0.0901), tensor(-0.1306), tensor(-0.0808), tensor(0.0034), tensor(-0.3213), tensor(0.1408), tensor(-0.0396), tensor(-0.0198), tensor(0.2732), tensor(0.0801)]\n",
      "detokenized ['<s>', 'According', 'to', 'Shia', 'Muslims', 'specially', 'Iran', 'state', 'and', 'Hezbollah', 'a', 'country', 'called', 'Israel', 'does', 'not', 'exist', '.', '</s>', '</s>', 'As', 'with', 'the', 'definition', 'of', 'Palestine', ',', 'the', 'definition', 'of', 'Israel', 'varies', 'depending', 'on', 'whom', 'you', 'ask', '.', '</s>']\n",
      "len conti_raw 36\n",
      "conti_raw ['<s>', 'According', 'to', 'Shia', 'Muslims', 'specially', 'Iran', 'state', 'and', 'Hezbollah', 'a', 'country', 'called', 'Israel', 'does', 'not', 'exist.', '</s>', '</s>', 'As', 'with', 'the', 'definition', 'of', 'Palestine,', 'the', 'definition', 'of', 'Israel', 'varies', 'depending', 'on', 'whom', 'you', 'ask.', '</s>']\n"
     ]
    },
    {
     "data": {
      "text/html": [
       "<table width: 100%><div style=\"border-top: 1px solid; margin-top: 5px;             padding-top: 5px; display: inline-block\"><b>Legend: </b><span style=\"display: inline-block; width: 10px; height: 10px;                 border: 1px solid; background-color:                 hsl(0, 75%, 60%)\"></span> Negative  <span style=\"display: inline-block; width: 10px; height: 10px;                 border: 1px solid; background-color:                 hsl(0, 75%, 100%)\"></span> Neutral  <span style=\"display: inline-block; width: 10px; height: 10px;                 border: 1px solid; background-color:                 hsl(120, 75%, 50%)\"></span> Positive  </div><tr><th>True Label</th><th>Predicted Label</th><th>Attribution Label</th><th>Attribution Score</th><th>Word Importance</th><tr><td><text style=\"padding-right:2em\"><b>Similar</b></text></td><td><text style=\"padding-right:2em\"><b>Not Similar (0.29)</b></text></td><td><text style=\"padding-right:2em\"><b>Not Similar</b></text></td><td><text style=\"padding-right:2em\"><b>0.15</b></text></td><td><mark style=\"background-color: hsl(120, 75%, 69%); opacity:1.0;                     line-height:1.75\"><font color=\"black\"> #s                    </font></mark><mark style=\"background-color: hsl(0, 75%, 98%); opacity:1.0;                     line-height:1.75\"><font color=\"black\"> According                    </font></mark><mark style=\"background-color: hsl(120, 75%, 96%); opacity:1.0;                     line-height:1.75\"><font color=\"black\"> to                    </font></mark><mark style=\"background-color: hsl(0, 75%, 100%); opacity:1.0;                     line-height:1.75\"><font color=\"black\"> Shia                    </font></mark><mark style=\"background-color: hsl(120, 75%, 97%); opacity:1.0;                     line-height:1.75\"><font color=\"black\"> Muslims                    </font></mark><mark style=\"background-color: hsl(0, 75%, 98%); opacity:1.0;                     line-height:1.75\"><font color=\"black\"> specially                    </font></mark><mark style=\"background-color: hsl(120, 75%, 93%); opacity:1.0;                     line-height:1.75\"><font color=\"black\"> Iran                    </font></mark><mark style=\"background-color: hsl(0, 75%, 88%); opacity:1.0;                     line-height:1.75\"><font color=\"black\"> state                    </font></mark><mark style=\"background-color: hsl(120, 75%, 91%); opacity:1.0;                     line-height:1.75\"><font color=\"black\"> and                    </font></mark><mark style=\"background-color: hsl(0, 75%, 99%); opacity:1.0;                     line-height:1.75\"><font color=\"black\"> Hezbollah                    </font></mark><mark style=\"background-color: hsl(120, 75%, 93%); opacity:1.0;                     line-height:1.75\"><font color=\"black\"> a                    </font></mark><mark style=\"background-color: hsl(0, 75%, 97%); opacity:1.0;                     line-height:1.75\"><font color=\"black\"> country                    </font></mark><mark style=\"background-color: hsl(120, 75%, 94%); opacity:1.0;                     line-height:1.75\"><font color=\"black\"> called                    </font></mark><mark style=\"background-color: hsl(120, 75%, 100%); opacity:1.0;                     line-height:1.75\"><font color=\"black\"> Israel                    </font></mark><mark style=\"background-color: hsl(120, 75%, 94%); opacity:1.0;                     line-height:1.75\"><font color=\"black\"> does                    </font></mark><mark style=\"background-color: hsl(0, 75%, 100%); opacity:1.0;                     line-height:1.75\"><font color=\"black\"> not                    </font></mark><mark style=\"background-color: hsl(0, 75%, 97%); opacity:1.0;                     line-height:1.75\"><font color=\"black\"> exist.                    </font></mark><mark style=\"background-color: hsl(0, 75%, 98%); opacity:1.0;                     line-height:1.75\"><font color=\"black\"> #/s                    </font></mark><mark style=\"background-color: hsl(0, 75%, 94%); opacity:1.0;                     line-height:1.75\"><font color=\"black\"> #/s                    </font></mark><mark style=\"background-color: hsl(0, 75%, 93%); opacity:1.0;                     line-height:1.75\"><font color=\"black\"> As                    </font></mark><mark style=\"background-color: hsl(0, 75%, 95%); opacity:1.0;                     line-height:1.75\"><font color=\"black\"> with                    </font></mark><mark style=\"background-color: hsl(120, 75%, 96%); opacity:1.0;                     line-height:1.75\"><font color=\"black\"> the                    </font></mark><mark style=\"background-color: hsl(0, 75%, 100%); opacity:1.0;                     line-height:1.75\"><font color=\"black\"> definition                    </font></mark><mark style=\"background-color: hsl(0, 75%, 100%); opacity:1.0;                     line-height:1.75\"><font color=\"black\"> of                    </font></mark><mark style=\"background-color: hsl(0, 75%, 91%); opacity:1.0;                     line-height:1.75\"><font color=\"black\"> Palestine,                    </font></mark><mark style=\"background-color: hsl(120, 75%, 99%); opacity:1.0;                     line-height:1.75\"><font color=\"black\"> the                    </font></mark><mark style=\"background-color: hsl(120, 75%, 96%); opacity:1.0;                     line-height:1.75\"><font color=\"black\"> definition                    </font></mark><mark style=\"background-color: hsl(0, 75%, 95%); opacity:1.0;                     line-height:1.75\"><font color=\"black\"> of                    </font></mark><mark style=\"background-color: hsl(0, 75%, 97%); opacity:1.0;                     line-height:1.75\"><font color=\"black\"> Israel                    </font></mark><mark style=\"background-color: hsl(120, 75%, 100%); opacity:1.0;                     line-height:1.75\"><font color=\"black\"> varies                    </font></mark><mark style=\"background-color: hsl(0, 75%, 88%); opacity:1.0;                     line-height:1.75\"><font color=\"black\"> depending                    </font></mark><mark style=\"background-color: hsl(120, 75%, 93%); opacity:1.0;                     line-height:1.75\"><font color=\"black\"> on                    </font></mark><mark style=\"background-color: hsl(0, 75%, 99%); opacity:1.0;                     line-height:1.75\"><font color=\"black\"> whom                    </font></mark><mark style=\"background-color: hsl(0, 75%, 100%); opacity:1.0;                     line-height:1.75\"><font color=\"black\"> you                    </font></mark><mark style=\"background-color: hsl(120, 75%, 87%); opacity:1.0;                     line-height:1.75\"><font color=\"black\"> ask.                    </font></mark><mark style=\"background-color: hsl(120, 75%, 96%); opacity:1.0;                     line-height:1.75\"><font color=\"black\"> #/s                    </font></mark></td><tr></table>"
      ],
      "text/plain": [
       "<IPython.core.display.HTML object>"
      ]
     },
     "metadata": {},
     "output_type": "display_data"
    },
    {
     "name": "stdout",
     "output_type": "stream",
     "text": [
      "<IPython.core.display.HTML object>\n",
      "Raw review: ['Absolute majority always defined by the institution, or the context.', 'In countries like India, when you have 2/3 of the seats of all parliament, you have absolute majority.']\n",
      "GT target: 2.5999999046325684\n"
     ]
    },
    {
     "name": "stderr",
     "output_type": "stream",
     "text": [
      "/home/user/anaconda3/envs/py38/lib/python3.9/site-packages/captum/attr/_core/lime.py:1088: UserWarning: Attempting to construct interpretable model with > 10000 features.This can be very slow or lead to OOM issues. Please provide a featuremask which groups input features to reduce the number of interpretablefeatures. \n",
      "  warnings.warn(\n"
     ]
    },
    {
     "name": "stdout",
     "output_type": "stream",
     "text": [
      "pred_prob 1.6035784780979156\n"
     ]
    },
    {
     "name": "stderr",
     "output_type": "stream",
     "text": [
      "Kernel Shap attribution: 100%|██████████████████████████████████████████████████████████| 10/10 [01:43<00:00, 10.35s/it]\n"
     ]
    },
    {
     "name": "stdout",
     "output_type": "stream",
     "text": [
      "word attr tensor([ 0.0716, -0.1194,  0.0327, -0.2198,  0.0566, -0.1447,  0.0173,  0.0812,\n",
      "        -0.1568,  0.0160,  0.0903,  0.0764,  0.0104,  0.0444, -0.0184,  0.1528,\n",
      "         0.0228,  0.0551, -0.3689, -0.0783,  0.2056,  0.1416, -0.2101,  0.0125,\n",
      "         0.0105, -0.1144, -0.0515, -0.0862, -0.2186,  0.0320, -0.0027, -0.0241,\n",
      "        -0.0883,  0.0561,  0.2137, -0.1088, -0.0267,  0.2400,  0.6132,  0.0887])\n",
      "conti attr [tensor(0.0716), tensor(-0.0867), tensor(-0.2198), tensor(0.0566), tensor(-0.1447), tensor(0.0173), tensor(0.0812), tensor(-0.1409), tensor(0.0903), tensor(0.0764), tensor(0.0547), tensor(-0.0184), tensor(0.1528), tensor(0.0228), tensor(0.0551), tensor(-0.3689), tensor(0.1273), tensor(0.1416), tensor(-0.2101), tensor(0.0125), tensor(-0.1554), tensor(-0.0862), tensor(-0.2186), tensor(0.0320), tensor(-0.0027), tensor(-0.0241), tensor(-0.0323), tensor(0.2137), tensor(-0.1088), tensor(-0.0267), tensor(0.8532), tensor(0.0887)]\n",
      "detokenized ['<s>', 'Abs', 'olute', 'majority', 'always', 'defined', 'by', 'the', 'institution', ',', 'or', 'the', 'context', '.', '</s>', '</s>', 'In', 'countries', 'like', 'India', ',', 'when', 'you', 'have', '2', '/', '3', 'of', 'the', 'seats', 'of', 'all', 'parliament', ',', 'you', 'have', 'absolute', 'majority', '.', '</s>']\n",
      "len conti_raw 32\n",
      "conti_raw ['<s>', 'Absolute', 'majority', 'always', 'defined', 'by', 'the', 'institution,', 'or', 'the', 'context.', '</s>', '</s>', 'In', 'countries', 'like', 'India,', 'when', 'you', 'have', '2/3', 'of', 'the', 'seats', 'of', 'all', 'parliament,', 'you', 'have', 'absolute', 'majority.', '</s>']\n"
     ]
    },
    {
     "data": {
      "text/html": [
       "<table width: 100%><div style=\"border-top: 1px solid; margin-top: 5px;             padding-top: 5px; display: inline-block\"><b>Legend: </b><span style=\"display: inline-block; width: 10px; height: 10px;                 border: 1px solid; background-color:                 hsl(0, 75%, 60%)\"></span> Negative  <span style=\"display: inline-block; width: 10px; height: 10px;                 border: 1px solid; background-color:                 hsl(0, 75%, 100%)\"></span> Neutral  <span style=\"display: inline-block; width: 10px; height: 10px;                 border: 1px solid; background-color:                 hsl(120, 75%, 50%)\"></span> Positive  </div><tr><th>True Label</th><th>Predicted Label</th><th>Attribution Label</th><th>Attribution Score</th><th>Word Importance</th><tr><td><text style=\"padding-right:2em\"><b>Similar</b></text></td><td><text style=\"padding-right:2em\"><b>Not Similar (0.32)</b></text></td><td><text style=\"padding-right:2em\"><b>Not Similar</b></text></td><td><text style=\"padding-right:2em\"><b>0.30</b></text></td><td><mark style=\"background-color: hsl(120, 75%, 97%); opacity:1.0;                     line-height:1.75\"><font color=\"black\"> #s                    </font></mark><mark style=\"background-color: hsl(0, 75%, 97%); opacity:1.0;                     line-height:1.75\"><font color=\"black\"> Absolute                    </font></mark><mark style=\"background-color: hsl(0, 75%, 92%); opacity:1.0;                     line-height:1.75\"><font color=\"black\"> majority                    </font></mark><mark style=\"background-color: hsl(120, 75%, 98%); opacity:1.0;                     line-height:1.75\"><font color=\"black\"> always                    </font></mark><mark style=\"background-color: hsl(0, 75%, 95%); opacity:1.0;                     line-height:1.75\"><font color=\"black\"> defined                    </font></mark><mark style=\"background-color: hsl(120, 75%, 100%); opacity:1.0;                     line-height:1.75\"><font color=\"black\"> by                    </font></mark><mark style=\"background-color: hsl(120, 75%, 96%); opacity:1.0;                     line-height:1.75\"><font color=\"black\"> the                    </font></mark><mark style=\"background-color: hsl(0, 75%, 95%); opacity:1.0;                     line-height:1.75\"><font color=\"black\"> institution,                    </font></mark><mark style=\"background-color: hsl(120, 75%, 96%); opacity:1.0;                     line-height:1.75\"><font color=\"black\"> or                    </font></mark><mark style=\"background-color: hsl(120, 75%, 97%); opacity:1.0;                     line-height:1.75\"><font color=\"black\"> the                    </font></mark><mark style=\"background-color: hsl(120, 75%, 98%); opacity:1.0;                     line-height:1.75\"><font color=\"black\"> context.                    </font></mark><mark style=\"background-color: hsl(0, 75%, 100%); opacity:1.0;                     line-height:1.75\"><font color=\"black\"> #/s                    </font></mark><mark style=\"background-color: hsl(120, 75%, 93%); opacity:1.0;                     line-height:1.75\"><font color=\"black\"> #/s                    </font></mark><mark style=\"background-color: hsl(120, 75%, 99%); opacity:1.0;                     line-height:1.75\"><font color=\"black\"> In                    </font></mark><mark style=\"background-color: hsl(120, 75%, 98%); opacity:1.0;                     line-height:1.75\"><font color=\"black\"> countries                    </font></mark><mark style=\"background-color: hsl(0, 75%, 86%); opacity:1.0;                     line-height:1.75\"><font color=\"black\"> like                    </font></mark><mark style=\"background-color: hsl(120, 75%, 94%); opacity:1.0;                     line-height:1.75\"><font color=\"black\"> India,                    </font></mark><mark style=\"background-color: hsl(120, 75%, 93%); opacity:1.0;                     line-height:1.75\"><font color=\"black\"> when                    </font></mark><mark style=\"background-color: hsl(0, 75%, 92%); opacity:1.0;                     line-height:1.75\"><font color=\"black\"> you                    </font></mark><mark style=\"background-color: hsl(120, 75%, 100%); opacity:1.0;                     line-height:1.75\"><font color=\"black\"> have                    </font></mark><mark style=\"background-color: hsl(0, 75%, 94%); opacity:1.0;                     line-height:1.75\"><font color=\"black\"> 2/3                    </font></mark><mark style=\"background-color: hsl(0, 75%, 97%); opacity:1.0;                     line-height:1.75\"><font color=\"black\"> of                    </font></mark><mark style=\"background-color: hsl(0, 75%, 92%); opacity:1.0;                     line-height:1.75\"><font color=\"black\"> the                    </font></mark><mark style=\"background-color: hsl(120, 75%, 99%); opacity:1.0;                     line-height:1.75\"><font color=\"black\"> seats                    </font></mark><mark style=\"background-color: hsl(0, 75%, 100%); opacity:1.0;                     line-height:1.75\"><font color=\"black\"> of                    </font></mark><mark style=\"background-color: hsl(0, 75%, 100%); opacity:1.0;                     line-height:1.75\"><font color=\"black\"> all                    </font></mark><mark style=\"background-color: hsl(0, 75%, 99%); opacity:1.0;                     line-height:1.75\"><font color=\"black\"> parliament,                    </font></mark><mark style=\"background-color: hsl(120, 75%, 90%); opacity:1.0;                     line-height:1.75\"><font color=\"black\"> you                    </font></mark><mark style=\"background-color: hsl(0, 75%, 96%); opacity:1.0;                     line-height:1.75\"><font color=\"black\"> have                    </font></mark><mark style=\"background-color: hsl(0, 75%, 99%); opacity:1.0;                     line-height:1.75\"><font color=\"black\"> absolute                    </font></mark><mark style=\"background-color: hsl(120, 75%, 58%); opacity:1.0;                     line-height:1.75\"><font color=\"black\"> majority.                    </font></mark><mark style=\"background-color: hsl(120, 75%, 96%); opacity:1.0;                     line-height:1.75\"><font color=\"black\"> #/s                    </font></mark></td><tr></table>"
      ],
      "text/plain": [
       "<IPython.core.display.HTML object>"
      ]
     },
     "metadata": {},
     "output_type": "display_data"
    },
    {
     "name": "stdout",
     "output_type": "stream",
     "text": [
      "<IPython.core.display.HTML object>\n",
      "Raw review: ['Two little girls are talking on the phone.', 'A little girl is walking down the street.']\n",
      "GT target: 0.5\n"
     ]
    },
    {
     "name": "stderr",
     "output_type": "stream",
     "text": [
      "/home/user/anaconda3/envs/py38/lib/python3.9/site-packages/captum/attr/_core/lime.py:1088: UserWarning: Attempting to construct interpretable model with > 10000 features.This can be very slow or lead to OOM issues. Please provide a featuremask which groups input features to reduce the number of interpretablefeatures. \n",
      "  warnings.warn(\n"
     ]
    },
    {
     "name": "stdout",
     "output_type": "stream",
     "text": [
      "pred_prob 0.6913229078054428\n"
     ]
    },
    {
     "name": "stderr",
     "output_type": "stream",
     "text": [
      "Kernel Shap attribution: 100%|██████████████████████████████████████████████████████████| 10/10 [00:58<00:00,  5.89s/it]\n"
     ]
    },
    {
     "name": "stdout",
     "output_type": "stream",
     "text": [
      "word attr tensor([ 0.1439, -0.1391, -0.0235, -0.2067, -0.3409, -0.0982,  0.2655,  0.1318,\n",
      "         0.0599, -0.0820,  0.0593,  0.1548,  0.0969,  0.3083, -0.0490, -0.2738,\n",
      "         0.4381, -0.1529, -0.0288, -0.5075,  0.0477,  0.0860])\n",
      "conti attr [tensor(0.1439), tensor(-0.1391), tensor(-0.0235), tensor(-0.2067), tensor(-0.3409), tensor(-0.0982), tensor(0.2655), tensor(0.1318), tensor(-0.0221), tensor(0.0593), tensor(0.1548), tensor(0.0969), tensor(0.3083), tensor(-0.0490), tensor(-0.2738), tensor(0.4381), tensor(-0.1529), tensor(-0.0288), tensor(-0.4598), tensor(0.0860)]\n",
      "detokenized ['<s>', 'Two', 'little', 'girls', 'are', 'talking', 'on', 'the', 'phone', '.', '</s>', '</s>', 'A', 'little', 'girl', 'is', 'walking', 'down', 'the', 'street', '.', '</s>']\n",
      "len conti_raw 20\n",
      "conti_raw ['<s>', 'Two', 'little', 'girls', 'are', 'talking', 'on', 'the', 'phone.', '</s>', '</s>', 'A', 'little', 'girl', 'is', 'walking', 'down', 'the', 'street.', '</s>']\n"
     ]
    },
    {
     "data": {
      "text/html": [
       "<table width: 100%><div style=\"border-top: 1px solid; margin-top: 5px;             padding-top: 5px; display: inline-block\"><b>Legend: </b><span style=\"display: inline-block; width: 10px; height: 10px;                 border: 1px solid; background-color:                 hsl(0, 75%, 60%)\"></span> Negative  <span style=\"display: inline-block; width: 10px; height: 10px;                 border: 1px solid; background-color:                 hsl(0, 75%, 100%)\"></span> Neutral  <span style=\"display: inline-block; width: 10px; height: 10px;                 border: 1px solid; background-color:                 hsl(120, 75%, 50%)\"></span> Positive  </div><tr><th>True Label</th><th>Predicted Label</th><th>Attribution Label</th><th>Attribution Score</th><th>Word Importance</th><tr><td><text style=\"padding-right:2em\"><b>Not Similar</b></text></td><td><text style=\"padding-right:2em\"><b>Not Similar (0.14)</b></text></td><td><text style=\"padding-right:2em\"><b>Not Similar</b></text></td><td><text style=\"padding-right:2em\"><b>-0.11</b></text></td><td><mark style=\"background-color: hsl(120, 75%, 93%); opacity:1.0;                     line-height:1.75\"><font color=\"black\"> #s                    </font></mark><mark style=\"background-color: hsl(0, 75%, 95%); opacity:1.0;                     line-height:1.75\"><font color=\"black\"> Two                    </font></mark><mark style=\"background-color: hsl(0, 75%, 100%); opacity:1.0;                     line-height:1.75\"><font color=\"black\"> little                    </font></mark><mark style=\"background-color: hsl(0, 75%, 92%); opacity:1.0;                     line-height:1.75\"><font color=\"black\"> girls                    </font></mark><mark style=\"background-color: hsl(0, 75%, 87%); opacity:1.0;                     line-height:1.75\"><font color=\"black\"> are                    </font></mark><mark style=\"background-color: hsl(0, 75%, 97%); opacity:1.0;                     line-height:1.75\"><font color=\"black\"> talking                    </font></mark><mark style=\"background-color: hsl(120, 75%, 87%); opacity:1.0;                     line-height:1.75\"><font color=\"black\"> on                    </font></mark><mark style=\"background-color: hsl(120, 75%, 94%); opacity:1.0;                     line-height:1.75\"><font color=\"black\"> the                    </font></mark><mark style=\"background-color: hsl(0, 75%, 100%); opacity:1.0;                     line-height:1.75\"><font color=\"black\"> phone.                    </font></mark><mark style=\"background-color: hsl(120, 75%, 98%); opacity:1.0;                     line-height:1.75\"><font color=\"black\"> #/s                    </font></mark><mark style=\"background-color: hsl(120, 75%, 93%); opacity:1.0;                     line-height:1.75\"><font color=\"black\"> #/s                    </font></mark><mark style=\"background-color: hsl(120, 75%, 96%); opacity:1.0;                     line-height:1.75\"><font color=\"black\"> A                    </font></mark><mark style=\"background-color: hsl(120, 75%, 85%); opacity:1.0;                     line-height:1.75\"><font color=\"black\"> little                    </font></mark><mark style=\"background-color: hsl(0, 75%, 99%); opacity:1.0;                     line-height:1.75\"><font color=\"black\"> girl                    </font></mark><mark style=\"background-color: hsl(0, 75%, 90%); opacity:1.0;                     line-height:1.75\"><font color=\"black\"> is                    </font></mark><mark style=\"background-color: hsl(120, 75%, 79%); opacity:1.0;                     line-height:1.75\"><font color=\"black\"> walking                    </font></mark><mark style=\"background-color: hsl(0, 75%, 94%); opacity:1.0;                     line-height:1.75\"><font color=\"black\"> down                    </font></mark><mark style=\"background-color: hsl(0, 75%, 99%); opacity:1.0;                     line-height:1.75\"><font color=\"black\"> the                    </font></mark><mark style=\"background-color: hsl(0, 75%, 82%); opacity:1.0;                     line-height:1.75\"><font color=\"black\"> street.                    </font></mark><mark style=\"background-color: hsl(120, 75%, 96%); opacity:1.0;                     line-height:1.75\"><font color=\"black\"> #/s                    </font></mark></td><tr></table>"
      ],
      "text/plain": [
       "<IPython.core.display.HTML object>"
      ]
     },
     "metadata": {},
     "output_type": "display_data"
    },
    {
     "name": "stdout",
     "output_type": "stream",
     "text": [
      "<IPython.core.display.HTML object>\n",
      "Raw review: [\"The report shows that drugs sold in Canadian pharmacies are manufactured in facilities approved by Health Canada - the FDA's counterpart in Canada.\", 'The report shows that drugs sold in Canadian pharmacies are manufactured in facilities approved by Health Canada, which serves a similar role as the FDA for the Canadian government.']\n",
      "GT target: 5.0\n"
     ]
    },
    {
     "name": "stderr",
     "output_type": "stream",
     "text": [
      "/home/user/anaconda3/envs/py38/lib/python3.9/site-packages/captum/attr/_core/lime.py:1088: UserWarning: Attempting to construct interpretable model with > 10000 features.This can be very slow or lead to OOM issues. Please provide a featuremask which groups input features to reduce the number of interpretablefeatures. \n",
      "  warnings.warn(\n"
     ]
    },
    {
     "name": "stdout",
     "output_type": "stream",
     "text": [
      "pred_prob 4.7438859939575195\n"
     ]
    },
    {
     "name": "stderr",
     "output_type": "stream",
     "text": [
      "Kernel Shap attribution: 100%|██████████████████████████████████████████████████████████| 10/10 [02:48<00:00, 16.82s/it]\n"
     ]
    },
    {
     "name": "stdout",
     "output_type": "stream",
     "text": [
      "word attr tensor([ 0.1478,  0.1159, -0.0194,  0.0994, -0.0875, -0.1664,  0.1090,  0.2981,\n",
      "         0.2706,  0.2562, -0.1326, -0.1714,  0.1751,  0.1897,  0.1941,  0.0196,\n",
      "         0.0176,  0.0377, -0.0956,  0.1573,  0.1947,  0.0128,  0.1369,  0.0159,\n",
      "        -0.0101,  0.0717,  0.0101,  0.1401,  0.0864,  0.0763,  0.1084,  0.1738,\n",
      "        -0.0109, -0.0311,  0.0676,  0.1092,  0.3786,  0.0672, -0.1606,  0.0899,\n",
      "         0.0277, -0.0225, -0.1004, -0.1593,  0.1047,  0.0241, -0.0256, -0.2157,\n",
      "        -0.0033, -0.0552, -0.0033, -0.0039,  0.0645,  0.0081, -0.0181, -0.1640,\n",
      "         0.0770,  0.0753,  0.0982, -0.0664])\n",
      "conti attr [tensor(0.1478), tensor(0.1159), tensor(-0.0194), tensor(0.0994), tensor(-0.0875), tensor(-0.1664), tensor(0.1090), tensor(0.2981), tensor(0.2706), tensor(0.2562), tensor(-0.1326), tensor(-0.1714), tensor(0.1751), tensor(0.1897), tensor(0.1941), tensor(0.0196), tensor(0.0176), tensor(0.0377), tensor(-0.0956), tensor(0.1573), tensor(0.2075), tensor(0.1369), tensor(0.0159), tensor(0.0616), tensor(0.0101), tensor(0.1401), tensor(0.0864), tensor(0.0763), tensor(0.1084), tensor(0.1738), tensor(-0.0109), tensor(-0.0311), tensor(0.0676), tensor(0.1092), tensor(0.3786), tensor(0.0672), tensor(-0.1606), tensor(0.0899), tensor(0.0277), tensor(-0.0225), tensor(-0.1004), tensor(-0.1593), tensor(0.1288), tensor(-0.0256), tensor(-0.2157), tensor(-0.0033), tensor(-0.0552), tensor(-0.0033), tensor(-0.0039), tensor(0.0645), tensor(0.0081), tensor(-0.0181), tensor(-0.1640), tensor(0.0770), tensor(0.1734), tensor(-0.0664)]\n",
      "detokenized ['<s>', 'The', 'report', 'shows', 'that', 'drugs', 'sold', 'in', 'Canadian', 'pharmacies', 'are', 'manufactured', 'in', 'facilities', 'approved', 'by', 'Health', 'Canada', '-', 'the', 'FDA', \"'s\", 'counterpart', 'in', 'Canada', '.', '</s>', '</s>', 'The', 'report', 'shows', 'that', 'drugs', 'sold', 'in', 'Canadian', 'pharmacies', 'are', 'manufactured', 'in', 'facilities', 'approved', 'by', 'Health', 'Canada', ',', 'which', 'serves', 'a', 'similar', 'role', 'as', 'the', 'FDA', 'for', 'the', 'Canadian', 'government', '.', '</s>']\n",
      "len conti_raw 56\n",
      "conti_raw ['<s>', 'The', 'report', 'shows', 'that', 'drugs', 'sold', 'in', 'Canadian', 'pharmacies', 'are', 'manufactured', 'in', 'facilities', 'approved', 'by', 'Health', 'Canada', '-', 'the', \"FDA's\", 'counterpart', 'in', 'Canada.', '</s>', '</s>', 'The', 'report', 'shows', 'that', 'drugs', 'sold', 'in', 'Canadian', 'pharmacies', 'are', 'manufactured', 'in', 'facilities', 'approved', 'by', 'Health', 'Canada,', 'which', 'serves', 'a', 'similar', 'role', 'as', 'the', 'FDA', 'for', 'the', 'Canadian', 'government.', '</s>']\n"
     ]
    },
    {
     "data": {
      "text/html": [
       "<table width: 100%><div style=\"border-top: 1px solid; margin-top: 5px;             padding-top: 5px; display: inline-block\"><b>Legend: </b><span style=\"display: inline-block; width: 10px; height: 10px;                 border: 1px solid; background-color:                 hsl(0, 75%, 60%)\"></span> Negative  <span style=\"display: inline-block; width: 10px; height: 10px;                 border: 1px solid; background-color:                 hsl(0, 75%, 100%)\"></span> Neutral  <span style=\"display: inline-block; width: 10px; height: 10px;                 border: 1px solid; background-color:                 hsl(120, 75%, 50%)\"></span> Positive  </div><tr><th>True Label</th><th>Predicted Label</th><th>Attribution Label</th><th>Attribution Score</th><th>Word Importance</th><tr><td><text style=\"padding-right:2em\"><b>Similar</b></text></td><td><text style=\"padding-right:2em\"><b>Similar (0.95)</b></text></td><td><text style=\"padding-right:2em\"><b>Similar</b></text></td><td><text style=\"padding-right:2em\"><b>2.58</b></text></td><td><mark style=\"background-color: hsl(120, 75%, 93%); opacity:1.0;                     line-height:1.75\"><font color=\"black\"> #s                    </font></mark><mark style=\"background-color: hsl(120, 75%, 95%); opacity:1.0;                     line-height:1.75\"><font color=\"black\"> The                    </font></mark><mark style=\"background-color: hsl(0, 75%, 100%); opacity:1.0;                     line-height:1.75\"><font color=\"black\"> report                    </font></mark><mark style=\"background-color: hsl(120, 75%, 96%); opacity:1.0;                     line-height:1.75\"><font color=\"black\"> shows                    </font></mark><mark style=\"background-color: hsl(0, 75%, 97%); opacity:1.0;                     line-height:1.75\"><font color=\"black\"> that                    </font></mark><mark style=\"background-color: hsl(0, 75%, 94%); opacity:1.0;                     line-height:1.75\"><font color=\"black\"> drugs                    </font></mark><mark style=\"background-color: hsl(120, 75%, 95%); opacity:1.0;                     line-height:1.75\"><font color=\"black\"> sold                    </font></mark><mark style=\"background-color: hsl(120, 75%, 86%); opacity:1.0;                     line-height:1.75\"><font color=\"black\"> in                    </font></mark><mark style=\"background-color: hsl(120, 75%, 87%); opacity:1.0;                     line-height:1.75\"><font color=\"black\"> Canadian                    </font></mark><mark style=\"background-color: hsl(120, 75%, 88%); opacity:1.0;                     line-height:1.75\"><font color=\"black\"> pharmacies                    </font></mark><mark style=\"background-color: hsl(0, 75%, 95%); opacity:1.0;                     line-height:1.75\"><font color=\"black\"> are                    </font></mark><mark style=\"background-color: hsl(0, 75%, 94%); opacity:1.0;                     line-height:1.75\"><font color=\"black\"> manufactured                    </font></mark><mark style=\"background-color: hsl(120, 75%, 92%); opacity:1.0;                     line-height:1.75\"><font color=\"black\"> in                    </font></mark><mark style=\"background-color: hsl(120, 75%, 91%); opacity:1.0;                     line-height:1.75\"><font color=\"black\"> facilities                    </font></mark><mark style=\"background-color: hsl(120, 75%, 91%); opacity:1.0;                     line-height:1.75\"><font color=\"black\"> approved                    </font></mark><mark style=\"background-color: hsl(120, 75%, 100%); opacity:1.0;                     line-height:1.75\"><font color=\"black\"> by                    </font></mark><mark style=\"background-color: hsl(120, 75%, 100%); opacity:1.0;                     line-height:1.75\"><font color=\"black\"> Health                    </font></mark><mark style=\"background-color: hsl(120, 75%, 99%); opacity:1.0;                     line-height:1.75\"><font color=\"black\"> Canada                    </font></mark><mark style=\"background-color: hsl(0, 75%, 97%); opacity:1.0;                     line-height:1.75\"><font color=\"black\"> -                    </font></mark><mark style=\"background-color: hsl(120, 75%, 93%); opacity:1.0;                     line-height:1.75\"><font color=\"black\"> the                    </font></mark><mark style=\"background-color: hsl(120, 75%, 90%); opacity:1.0;                     line-height:1.75\"><font color=\"black\"> FDA's                    </font></mark><mark style=\"background-color: hsl(120, 75%, 94%); opacity:1.0;                     line-height:1.75\"><font color=\"black\"> counterpart                    </font></mark><mark style=\"background-color: hsl(120, 75%, 100%); opacity:1.0;                     line-height:1.75\"><font color=\"black\"> in                    </font></mark><mark style=\"background-color: hsl(120, 75%, 97%); opacity:1.0;                     line-height:1.75\"><font color=\"black\"> Canada.                    </font></mark><mark style=\"background-color: hsl(120, 75%, 100%); opacity:1.0;                     line-height:1.75\"><font color=\"black\"> #/s                    </font></mark><mark style=\"background-color: hsl(120, 75%, 93%); opacity:1.0;                     line-height:1.75\"><font color=\"black\"> #/s                    </font></mark><mark style=\"background-color: hsl(120, 75%, 96%); opacity:1.0;                     line-height:1.75\"><font color=\"black\"> The                    </font></mark><mark style=\"background-color: hsl(120, 75%, 97%); opacity:1.0;                     line-height:1.75\"><font color=\"black\"> report                    </font></mark><mark style=\"background-color: hsl(120, 75%, 95%); opacity:1.0;                     line-height:1.75\"><font color=\"black\"> shows                    </font></mark><mark style=\"background-color: hsl(120, 75%, 92%); opacity:1.0;                     line-height:1.75\"><font color=\"black\"> that                    </font></mark><mark style=\"background-color: hsl(0, 75%, 100%); opacity:1.0;                     line-height:1.75\"><font color=\"black\"> drugs                    </font></mark><mark style=\"background-color: hsl(0, 75%, 99%); opacity:1.0;                     line-height:1.75\"><font color=\"black\"> sold                    </font></mark><mark style=\"background-color: hsl(120, 75%, 97%); opacity:1.0;                     line-height:1.75\"><font color=\"black\"> in                    </font></mark><mark style=\"background-color: hsl(120, 75%, 95%); opacity:1.0;                     line-height:1.75\"><font color=\"black\"> Canadian                    </font></mark><mark style=\"background-color: hsl(120, 75%, 82%); opacity:1.0;                     line-height:1.75\"><font color=\"black\"> pharmacies                    </font></mark><mark style=\"background-color: hsl(120, 75%, 97%); opacity:1.0;                     line-height:1.75\"><font color=\"black\"> are                    </font></mark><mark style=\"background-color: hsl(0, 75%, 94%); opacity:1.0;                     line-height:1.75\"><font color=\"black\"> manufactured                    </font></mark><mark style=\"background-color: hsl(120, 75%, 96%); opacity:1.0;                     line-height:1.75\"><font color=\"black\"> in                    </font></mark><mark style=\"background-color: hsl(120, 75%, 99%); opacity:1.0;                     line-height:1.75\"><font color=\"black\"> facilities                    </font></mark><mark style=\"background-color: hsl(0, 75%, 100%); opacity:1.0;                     line-height:1.75\"><font color=\"black\"> approved                    </font></mark><mark style=\"background-color: hsl(0, 75%, 96%); opacity:1.0;                     line-height:1.75\"><font color=\"black\"> by                    </font></mark><mark style=\"background-color: hsl(0, 75%, 94%); opacity:1.0;                     line-height:1.75\"><font color=\"black\"> Health                    </font></mark><mark style=\"background-color: hsl(120, 75%, 94%); opacity:1.0;                     line-height:1.75\"><font color=\"black\"> Canada,                    </font></mark><mark style=\"background-color: hsl(0, 75%, 99%); opacity:1.0;                     line-height:1.75\"><font color=\"black\"> which                    </font></mark><mark style=\"background-color: hsl(0, 75%, 92%); opacity:1.0;                     line-height:1.75\"><font color=\"black\"> serves                    </font></mark><mark style=\"background-color: hsl(0, 75%, 100%); opacity:1.0;                     line-height:1.75\"><font color=\"black\"> a                    </font></mark><mark style=\"background-color: hsl(0, 75%, 98%); opacity:1.0;                     line-height:1.75\"><font color=\"black\"> similar                    </font></mark><mark style=\"background-color: hsl(0, 75%, 100%); opacity:1.0;                     line-height:1.75\"><font color=\"black\"> role                    </font></mark><mark style=\"background-color: hsl(0, 75%, 100%); opacity:1.0;                     line-height:1.75\"><font color=\"black\"> as                    </font></mark><mark style=\"background-color: hsl(120, 75%, 97%); opacity:1.0;                     line-height:1.75\"><font color=\"black\"> the                    </font></mark><mark style=\"background-color: hsl(120, 75%, 100%); opacity:1.0;                     line-height:1.75\"><font color=\"black\"> FDA                    </font></mark><mark style=\"background-color: hsl(0, 75%, 100%); opacity:1.0;                     line-height:1.75\"><font color=\"black\"> for                    </font></mark><mark style=\"background-color: hsl(0, 75%, 94%); opacity:1.0;                     line-height:1.75\"><font color=\"black\"> the                    </font></mark><mark style=\"background-color: hsl(120, 75%, 97%); opacity:1.0;                     line-height:1.75\"><font color=\"black\"> Canadian                    </font></mark><mark style=\"background-color: hsl(120, 75%, 92%); opacity:1.0;                     line-height:1.75\"><font color=\"black\"> government.                    </font></mark><mark style=\"background-color: hsl(0, 75%, 98%); opacity:1.0;                     line-height:1.75\"><font color=\"black\"> #/s                    </font></mark></td><tr></table>"
      ],
      "text/plain": [
       "<IPython.core.display.HTML object>"
      ]
     },
     "metadata": {},
     "output_type": "display_data"
    },
    {
     "name": "stdout",
     "output_type": "stream",
     "text": [
      "<IPython.core.display.HTML object>\n",
      "Raw review: [\"Foreign companies eye new 'opening-up'\", 'More carriers likely in China']\n",
      "GT target: 0.6000000238418579\n",
      "pred_prob 0.07349737454205751\n"
     ]
    },
    {
     "name": "stderr",
     "output_type": "stream",
     "text": [
      "/home/user/anaconda3/envs/py38/lib/python3.9/site-packages/captum/attr/_core/lime.py:1088: UserWarning: Attempting to construct interpretable model with > 10000 features.This can be very slow or lead to OOM issues. Please provide a featuremask which groups input features to reduce the number of interpretablefeatures. \n",
      "  warnings.warn(\n",
      "Kernel Shap attribution: 100%|██████████████████████████████████████████████████████████| 10/10 [00:49<00:00,  4.93s/it]\n"
     ]
    },
    {
     "name": "stdout",
     "output_type": "stream",
     "text": [
      "word attr tensor([ 0.7036,  0.0131, -0.0998,  0.2596, -0.2374,  0.1340, -0.0583, -0.0817,\n",
      "        -0.1383, -0.0955,  0.2730, -0.1780, -0.3772, -0.1320, -0.1565,  0.1554,\n",
      "         0.0135,  0.0025])\n",
      "conti attr [tensor(0.7036), tensor(0.0131), tensor(-0.0998), tensor(0.2596), tensor(-0.2374), tensor(-0.2398), tensor(0.2730), tensor(-0.1780), tensor(-0.3772), tensor(-0.1320), tensor(-0.1565), tensor(0.1554), tensor(0.0135), tensor(0.0025)]\n",
      "detokenized ['<s>', 'Foreign', 'companies', 'eye', 'new', \"'\", 'opening', '-', 'up', \"'\", '</s>', '</s>', 'More', 'carriers', 'likely', 'in', 'China', '</s>']\n",
      "len conti_raw 14\n",
      "conti_raw ['<s>', 'Foreign', 'companies', 'eye', 'new', \"'opening-up'\", '</s>', '</s>', 'More', 'carriers', 'likely', 'in', 'China', '</s>']\n"
     ]
    },
    {
     "data": {
      "text/html": [
       "<table width: 100%><div style=\"border-top: 1px solid; margin-top: 5px;             padding-top: 5px; display: inline-block\"><b>Legend: </b><span style=\"display: inline-block; width: 10px; height: 10px;                 border: 1px solid; background-color:                 hsl(0, 75%, 60%)\"></span> Negative  <span style=\"display: inline-block; width: 10px; height: 10px;                 border: 1px solid; background-color:                 hsl(0, 75%, 100%)\"></span> Neutral  <span style=\"display: inline-block; width: 10px; height: 10px;                 border: 1px solid; background-color:                 hsl(120, 75%, 50%)\"></span> Positive  </div><tr><th>True Label</th><th>Predicted Label</th><th>Attribution Label</th><th>Attribution Score</th><th>Word Importance</th><tr><td><text style=\"padding-right:2em\"><b>Not Similar</b></text></td><td><text style=\"padding-right:2em\"><b>Not Similar (0.01)</b></text></td><td><text style=\"padding-right:2em\"><b>Not Similar</b></text></td><td><text style=\"padding-right:2em\"><b>-0.00</b></text></td><td><mark style=\"background-color: hsl(120, 75%, 65%); opacity:1.0;                     line-height:1.75\"><font color=\"black\"> #s                    </font></mark><mark style=\"background-color: hsl(120, 75%, 100%); opacity:1.0;                     line-height:1.75\"><font color=\"black\"> Foreign                    </font></mark><mark style=\"background-color: hsl(0, 75%, 97%); opacity:1.0;                     line-height:1.75\"><font color=\"black\"> companies                    </font></mark><mark style=\"background-color: hsl(120, 75%, 88%); opacity:1.0;                     line-height:1.75\"><font color=\"black\"> eye                    </font></mark><mark style=\"background-color: hsl(0, 75%, 91%); opacity:1.0;                     line-height:1.75\"><font color=\"black\"> new                    </font></mark><mark style=\"background-color: hsl(0, 75%, 91%); opacity:1.0;                     line-height:1.75\"><font color=\"black\"> 'opening-up'                    </font></mark><mark style=\"background-color: hsl(120, 75%, 87%); opacity:1.0;                     line-height:1.75\"><font color=\"black\"> #/s                    </font></mark><mark style=\"background-color: hsl(0, 75%, 93%); opacity:1.0;                     line-height:1.75\"><font color=\"black\"> #/s                    </font></mark><mark style=\"background-color: hsl(0, 75%, 85%); opacity:1.0;                     line-height:1.75\"><font color=\"black\"> More                    </font></mark><mark style=\"background-color: hsl(0, 75%, 95%); opacity:1.0;                     line-height:1.75\"><font color=\"black\"> carriers                    </font></mark><mark style=\"background-color: hsl(0, 75%, 94%); opacity:1.0;                     line-height:1.75\"><font color=\"black\"> likely                    </font></mark><mark style=\"background-color: hsl(120, 75%, 93%); opacity:1.0;                     line-height:1.75\"><font color=\"black\"> in                    </font></mark><mark style=\"background-color: hsl(120, 75%, 100%); opacity:1.0;                     line-height:1.75\"><font color=\"black\"> China                    </font></mark><mark style=\"background-color: hsl(120, 75%, 100%); opacity:1.0;                     line-height:1.75\"><font color=\"black\"> #/s                    </font></mark></td><tr></table>"
      ],
      "text/plain": [
       "<IPython.core.display.HTML object>"
      ]
     },
     "metadata": {},
     "output_type": "display_data"
    },
    {
     "name": "stdout",
     "output_type": "stream",
     "text": [
      "<IPython.core.display.HTML object>\n"
     ]
    }
   ],
   "source": [
    "for i, (datum_raw, target) in enumerate(zip(stsb_data_raw, targets), start=1):\n",
    "#     example_1 = 'The man cut down a tree with an axe.'\n",
    "#     example_2 = 'A man chops down a tree with an axe.'\n",
    "#     datum_raw, target = [example_1, example_1], 1\n",
    "    print(f'Raw review: {datum_raw}') #datum expected to be a list of 2 sentences\n",
    "    print(f'GT target: {target}')\n",
    "    visual_record=generate_record(datum_raw, target)\n",
    "    print(visualization.visualize_text([visual_record]))   "
   ]
  },
  {
   "cell_type": "code",
   "execution_count": 9,
   "id": "e7681361",
   "metadata": {},
   "outputs": [
    {
     "data": {
      "text/plain": [
       "{'indices': [436,\n",
       "  138,\n",
       "  931,\n",
       "  1462,\n",
       "  1491,\n",
       "  577,\n",
       "  873,\n",
       "  899,\n",
       "  268,\n",
       "  603,\n",
       "  1341,\n",
       "  648,\n",
       "  941,\n",
       "  901,\n",
       "  335,\n",
       "  1306,\n",
       "  234,\n",
       "  132,\n",
       "  1257,\n",
       "  1433,\n",
       "  1351,\n",
       "  1484,\n",
       "  977,\n",
       "  146,\n",
       "  1275,\n",
       "  225,\n",
       "  396,\n",
       "  757,\n",
       "  949,\n",
       "  1151,\n",
       "  605,\n",
       "  1041,\n",
       "  350,\n",
       "  788,\n",
       "  626,\n",
       "  88,\n",
       "  599,\n",
       "  1080,\n",
       "  882,\n",
       "  927,\n",
       "  1209,\n",
       "  647,\n",
       "  486,\n",
       "  214,\n",
       "  317,\n",
       "  895,\n",
       "  897,\n",
       "  50,\n",
       "  1054,\n",
       "  1454],\n",
       " 'raw_data': [['Two dogs are sniffing something in the rocks.',\n",
       "   'Two dogs running down a path in the woods.'],\n",
       "  ['A woman is slicing a potato.', 'A woman is slicing carrot.'],\n",
       "  ['It was before the season began because Amy saw the woman before the Silence took her.',\n",
       "   \"The exact timeline hasn't been listed yet, but there are a few assumptions we can make.\"],\n",
       "  ['Protests for kidnapped girls banned in Nigerian capital',\n",
       "   \"Scores 'killed' in Boko Haram raid in Nigeria\"],\n",
       "  ['Oil falls in Asian trade', 'Oil prices down in Asian trade'],\n",
       "  ['There are people out on the street.', 'People are out on the street.'],\n",
       "  [\"Here are many samples: Pbase.com Out of the 16k photos there, I'm sure some are with a d700.\",\n",
       "   \"It's a 1:1 lens, so that means that the size of the subject will be the same size on the sensor.\"],\n",
       "  ['The University constituencies are modelled on the University constituencies in use in Britain in 1922 when Ireland became independent.',\n",
       "   \"This is still a representational form of gov't, but with a unique twist.\"],\n",
       "  ['One Asian and one occasion woman in glasses smiling with their thumbs up.',\n",
       "   'Two women are posing for the camera and giving the thumbs up sign.'],\n",
       "  ['Three guys in speedos have their feet up on the railing of a boat getting a tan.',\n",
       "   'A few men on the deck are dropping another man into the water'],\n",
       "  ['Cardinals enter Vatican for historic vote',\n",
       "   'Cardinals enter Sistine Chapel to elect pope'],\n",
       "  ['According to this website the peak visible magnitude will be about 10.5 around February 2nd.',\n",
       "   'The AAVSO data seems to indicate that it might have already peaked, at around 10.5 (visual).'],\n",
       "  ['Is it possible for a match to get tie even after applying D/L method?',\n",
       "   \"Yes, it's possible for a match to get tie after applying the D/L method.\"],\n",
       "  ['Eclipse Below are list of eclipse shortcuts which I use almost everyday.',\n",
       "   'To train yourself to use keyboard shortcuts, unplug your mouse for a few days.'],\n",
       "  ['A woman and child push strollers down the sidewalk.',\n",
       "   'A women and a young girl walking pushchairs along the sidewalk.'],\n",
       "  ['ICC lawyer detained in Libya on security concerns',\n",
       "   'ICC lawyer held in Libya faces 45-day detention'],\n",
       "  ['The flag was moving in the air.', 'A flag is waving.'],\n",
       "  ['A woman is cutting broccoli.', 'A woman is slicing broccoli.'],\n",
       "  ['Iran warns Moscow nuclear talks could stall',\n",
       "   'Iranians “confess” to nuclear scientist murders'],\n",
       "  ['Syria agrees to surrender chemical weapons',\n",
       "   'Syria FM: We will stop producing chemical weapons'],\n",
       "  ['Chinese shares close lower on Wednesday',\n",
       "   'Chinese students attacked in France'],\n",
       "  ['Protests after George Zimmerman acquitted in Trayvon Martin case',\n",
       "   'Zimmerman acquitted in slaying'],\n",
       "  [\"The answer will depend significantly on what country you're traveling to.\",\n",
       "   'As someone who has always travelled with a lot of prescription medication, I always declare it.'],\n",
       "  ['A man is running.', 'A man is singing.'],\n",
       "  [\"Egyptian president moves into Mubarak's old office\",\n",
       "   \"Egypt's President-Elect Morsi Starts to Form Government\"],\n",
       "  ['The dog could not figure out how to get a stick out the doggy door.',\n",
       "   'A dog is trying to get through his dog door.'],\n",
       "  ['The white and brown dog is running quickly through the grass.',\n",
       "   'The big white dog is running in the grass.'],\n",
       "  ['In Hinduism and Buddhism there is message of peace and an encouragement to not be materialistic.',\n",
       "   'This relates to the \"discovery\" of Asian, and other non-European cultures by Americans.'],\n",
       "  ['To play golf, the first thing you need is a set of clubs.',\n",
       "   'Having fairly recently taken up the sport myself, I feel your discomfort.'],\n",
       "  ['The companies, Chiron and Aventis Pasteur, together made about 80 million doses of the injected vaccine, which ordinarily would have been enough to meet U.S. demand.',\n",
       "   'Chiron and Aventis Pasteur together made about 80 million doses, ordinarily enough for U.S. demand, The Associated Press reported.'],\n",
       "  ['A woman jumps and poses for the camera.', 'A woman poses for the camera.'],\n",
       "  ['He claims it may seem unrealistic only because little effort has been devoted to the concept.',\n",
       "   '\"This proposal is modest compared with the space programme, and may seem unrealistic only because little effort has been devoted to it.'],\n",
       "  ['A bird eating from a bird feeder.',\n",
       "   'A yellow bird eating fruit on a bird feeder.'],\n",
       "  ['Different parts of California have different wildlife, so you should probably narrow the region.',\n",
       "   'American black bears They are somewhat common in some wilderness areas of California, mostly in the mountains.'],\n",
       "  ['I am not aware of any university run participant pools.',\n",
       "   \"At the universities I've worked in North America, human-subject studies (esp.\"],\n",
       "  ['A girl is riding a horse.', 'The girl trotted the horse.'],\n",
       "  ['There are four snowboarders going off a jump and that are in the air.',\n",
       "   'Two racers are coming to a turn.'],\n",
       "  ['The 30-year bond US30YT=RR dipped 14/32 for a yield of 4.26 percent from 4.23 percent.',\n",
       "   'The 30-year bond US30YT=RR lost 16/32, taking its yield to 4.20 percent from 4.18 percent.'],\n",
       "  ['Federal DOMA does not test the full faith and credit clause so much as the 9th and 10th Amendments to the Constitution.',\n",
       "   'DOMA as a congressional statute could not violate the Full Faith and Credit Clause of the Constitution.'],\n",
       "  ['I was invited in to pitch story ideas to Ron Moore at ST:TNG.',\n",
       "   \"It's obviously possible for it to leave the field without harm - it occurred.\"],\n",
       "  ['INTEL TODAY disclosed details of its next-generation XScale processor for mobile phones and handheld devices here in San Jose.',\n",
       "   'Intel on Wednesday unveiled its next-generation processor for cell phones, PDAs, and other wireless devices.'],\n",
       "  ['Like Chris said above, stars rotate to conserve their angular momentum.',\n",
       "   \"Stars are rotating, but that's not the cause for their stability.\"],\n",
       "  ['A lady with a yellow outfit is in the air above the bed in a yellow room.',\n",
       "   'A dog with a red leash still attached chases over the grass toward a tennis ball.'],\n",
       "  ['A woman is adding oil on fishes.', 'The woman is cutting potatoes.'],\n",
       "  ['Train going down the tracks.',\n",
       "   'A black steam train traveling on the railroad tracks.'],\n",
       "  ['According to Shia Muslims specially Iran state and Hezbollah a country called Israel does not exist.',\n",
       "   'As with the definition of Palestine, the definition of Israel varies depending on whom you ask.'],\n",
       "  ['Absolute majority always defined by the institution, or the context.',\n",
       "   'In countries like India, when you have 2/3 of the seats of all parliament, you have absolute majority.'],\n",
       "  ['Two little girls are talking on the phone.',\n",
       "   'A little girl is walking down the street.'],\n",
       "  [\"The report shows that drugs sold in Canadian pharmacies are manufactured in facilities approved by Health Canada - the FDA's counterpart in Canada.\",\n",
       "   'The report shows that drugs sold in Canadian pharmacies are manufactured in facilities approved by Health Canada, which serves a similar role as the FDA for the Canadian government.'],\n",
       "  [\"Foreign companies eye new 'opening-up'\", 'More carriers likely in China']],\n",
       " 'targets': [1.600000023841858,\n",
       "  2.5,\n",
       "  0.20000000298023224,\n",
       "  1.0,\n",
       "  5.0,\n",
       "  5.0,\n",
       "  0.6000000238418579,\n",
       "  0.20000000298023224,\n",
       "  3.4000000953674316,\n",
       "  1.600000023841858,\n",
       "  3.4000000953674316,\n",
       "  3.5999999046325684,\n",
       "  4.0,\n",
       "  0.6000000238418579,\n",
       "  3.4000000953674316,\n",
       "  3.4000000953674316,\n",
       "  3.75,\n",
       "  5.0,\n",
       "  1.2000000476837158,\n",
       "  3.4000000953674316,\n",
       "  0.0,\n",
       "  3.0,\n",
       "  1.0,\n",
       "  1.25,\n",
       "  2.3333332538604736,\n",
       "  2.75,\n",
       "  3.4000000953674316,\n",
       "  0.0,\n",
       "  1.2000000476837158,\n",
       "  4.400000095367432,\n",
       "  4.0,\n",
       "  3.5,\n",
       "  3.200000047683716,\n",
       "  2.0,\n",
       "  0.6000000238418579,\n",
       "  4.5,\n",
       "  1.0,\n",
       "  3.3329999446868896,\n",
       "  4.0,\n",
       "  0.0,\n",
       "  3.5999999046325684,\n",
       "  3.4000000953674316,\n",
       "  0.0,\n",
       "  0.6000000238418579,\n",
       "  3.799999952316284,\n",
       "  3.200000047683716,\n",
       "  2.5999999046325684,\n",
       "  0.5,\n",
       "  5.0,\n",
       "  0.6000000238418579],\n",
       " 'model_out_list': [0.40580955147743225,\n",
       "  0.4236137568950653,\n",
       "  0.033077191561460495,\n",
       "  0.06899682432413101,\n",
       "  0.9432436227798462,\n",
       "  0.959876537322998,\n",
       "  0.09367510676383972,\n",
       "  0.28021594882011414,\n",
       "  0.6477435231208801,\n",
       "  0.22526220977306366,\n",
       "  0.7990721464157104,\n",
       "  0.5776932239532471,\n",
       "  0.6443841457366943,\n",
       "  0.133329376578331,\n",
       "  0.8757563233375549,\n",
       "  0.6310480237007141,\n",
       "  0.8809149861335754,\n",
       "  0.8901528120040894,\n",
       "  0.12131238728761673,\n",
       "  0.8411725759506226,\n",
       "  0.08773155510425568,\n",
       "  0.5531506538391113,\n",
       "  0.046516600996255875,\n",
       "  0.14793893694877625,\n",
       "  0.3847171366214752,\n",
       "  0.5695744156837463,\n",
       "  0.7721455693244934,\n",
       "  0.04213721305131912,\n",
       "  0.14742454886436462,\n",
       "  0.7270711064338684,\n",
       "  0.716036856174469,\n",
       "  0.6475902199745178,\n",
       "  0.6873340010643005,\n",
       "  0.3172771632671356,\n",
       "  0.13147887587547302,\n",
       "  0.6318874359130859,\n",
       "  0.021011484786868095,\n",
       "  0.5521234273910522,\n",
       "  0.6919965744018555,\n",
       "  0.00944916158914566,\n",
       "  0.7449975609779358,\n",
       "  0.5581924319267273,\n",
       "  0.009263298474252224,\n",
       "  0.2226538360118866,\n",
       "  0.6706908941268921,\n",
       "  0.29130950570106506,\n",
       "  0.32071569561958313,\n",
       "  0.13826458156108856,\n",
       "  0.9487771987915039,\n",
       "  0.014699474908411503],\n",
       " 'raw_attr_list': [tensor([[[ 0.0028, -0.0043, -0.0017,  ...,  0.0020, -0.0032, -0.0032],\n",
       "           [-0.0010,  0.0014, -0.0015,  ...,  0.0011,  0.0002,  0.0018],\n",
       "           [-0.0028, -0.0024, -0.0035,  ...,  0.0014, -0.0030,  0.0008],\n",
       "           ...,\n",
       "           [-0.0173,  0.0010,  0.0023,  ..., -0.0008,  0.0020,  0.0012],\n",
       "           [ 0.0002, -0.0025,  0.0016,  ...,  0.0005,  0.0008,  0.0029],\n",
       "           [-0.0015, -0.0025, -0.0028,  ...,  0.0013, -0.0008, -0.0010]]]),\n",
       "  tensor([[[-2.8199e-03, -3.3026e-03, -6.3486e-03,  ...,  1.4482e-03,\n",
       "             2.6660e-03, -2.0537e-03],\n",
       "           [ 1.3486e-03,  1.3761e-03,  2.3089e-04,  ...,  1.7135e-03,\n",
       "             1.2469e-03, -4.8889e-03],\n",
       "           [-2.9619e-04,  1.0268e-03, -1.6099e-03,  ...,  2.2664e-03,\n",
       "            -1.4702e-03,  3.6366e-03],\n",
       "           ...,\n",
       "           [-5.8143e-03, -3.2094e-03,  2.6540e-03,  ...,  1.3020e-03,\n",
       "            -1.9036e-03,  2.9445e-04],\n",
       "           [ 5.2313e-05,  1.6792e-03,  1.0045e-02,  ...,  6.5154e-05,\n",
       "             1.9493e-03, -7.0176e-03],\n",
       "           [ 1.5208e-03,  2.3737e-03,  1.6799e-04,  ...,  3.3218e-03,\n",
       "            -4.4856e-04,  2.5015e-04]]]),\n",
       "  tensor([[[ 1.3251e-03,  1.4450e-05, -3.0559e-04,  ...,  8.5580e-04,\n",
       "             1.8891e-03,  1.8290e-03],\n",
       "           [ 5.5872e-04, -3.9025e-04, -5.1849e-05,  ..., -3.0646e-03,\n",
       "             1.5026e-03,  5.8778e-05],\n",
       "           [-1.9185e-03,  2.3831e-04,  1.0168e-03,  ...,  1.7541e-04,\n",
       "             3.7397e-04, -1.2515e-03],\n",
       "           ...,\n",
       "           [ 1.0230e-03,  7.1475e-04,  7.8115e-04,  ...,  3.7841e-04,\n",
       "             9.9420e-04, -2.5928e-03],\n",
       "           [ 2.9386e-04,  1.3696e-03,  9.9477e-04,  ...,  7.4698e-04,\n",
       "             4.7496e-04,  1.0024e-03],\n",
       "           [-1.1730e-03,  2.3018e-04,  8.9472e-03,  ...,  2.6116e-04,\n",
       "             5.5889e-05,  1.0475e-03]]]),\n",
       "  tensor([[[-1.1957e+05,  8.1383e+02,  8.0606e+02,  ...,  1.0485e+03,\n",
       "             1.4953e+01, -4.1935e+02],\n",
       "           [-2.8496e+01,  1.0450e+02,  4.7000e+02,  ..., -2.1515e+02,\n",
       "            -2.1870e+02, -5.4376e+02],\n",
       "           [-6.0267e+02, -5.5209e+02,  1.2764e+01,  ...,  5.3063e+02,\n",
       "            -5.2984e+02,  1.6254e+02],\n",
       "           ...,\n",
       "           [ 9.4374e+02,  1.4897e+02, -5.5751e+02,  ..., -2.6388e+02,\n",
       "             4.4403e+02,  4.2185e+02],\n",
       "           [-8.2011e+01,  1.8792e+02,  3.5787e+01,  ...,  4.3778e+02,\n",
       "            -1.2455e+02,  3.8577e+02],\n",
       "           [-1.8213e+02,  5.2697e+02,  3.0505e+02,  ...,  1.1405e+02,\n",
       "             1.0960e+00,  1.8838e+02]]]),\n",
       "  tensor([[[-6.6432e-04,  5.1743e-03,  5.4915e-05,  ..., -2.5713e-03,\n",
       "             1.9961e-03,  2.6430e-03],\n",
       "           [ 6.3066e-04,  2.6348e-03,  1.6348e-03,  ...,  2.0022e-03,\n",
       "             2.7849e-03,  3.9930e-04],\n",
       "           [ 5.7604e-03, -6.2392e-03,  2.6690e-03,  ..., -1.9926e-03,\n",
       "            -1.8345e-03,  1.0052e-03],\n",
       "           ...,\n",
       "           [-8.7964e-03,  1.1733e-03, -1.9925e-03,  ...,  5.4589e-03,\n",
       "            -1.0535e-03,  2.7857e-03],\n",
       "           [ 2.4534e-03, -1.0823e-03,  4.2531e-04,  ...,  4.9826e-03,\n",
       "             3.1396e-03, -2.6123e-03],\n",
       "           [ 5.2934e-03,  2.5434e-03,  2.7024e-03,  ..., -1.3286e-02,\n",
       "             4.9049e-03,  8.2114e-04]]]),\n",
       "  tensor([[[ 1.5465e-03, -1.0298e-03,  4.6130e-04,  ..., -6.9162e-04,\n",
       "            -1.5103e-04,  1.2434e-03],\n",
       "           [ 3.6315e-03, -2.7848e-03,  1.2933e-06,  ...,  1.3945e-03,\n",
       "             7.0949e-03, -1.6458e-04],\n",
       "           [-3.0862e-03, -4.4468e-03,  2.8055e-03,  ..., -2.9884e-03,\n",
       "            -2.6702e-03, -7.4150e-04],\n",
       "           ...,\n",
       "           [ 2.8390e-03,  1.3699e-03,  3.3427e-03,  ...,  1.3551e-03,\n",
       "            -1.6947e-03, -2.3382e-03],\n",
       "           [-1.8764e-03,  1.7853e-03,  1.7120e-03,  ...,  3.9936e-04,\n",
       "             1.7428e-04, -1.1701e-03],\n",
       "           [ 3.0932e-03,  2.9815e-04,  8.2827e-04,  ..., -3.9479e-03,\n",
       "             1.7285e-03,  4.2528e-03]]]),\n",
       "  tensor([[[-6.0777e-04, -1.7782e-03, -6.6971e-04,  ...,  1.0275e-03,\n",
       "             3.2464e-04, -1.1581e-04],\n",
       "           [-7.9246e-04,  3.9482e-04,  4.6720e-04,  ...,  1.6831e-04,\n",
       "             8.2837e-04, -8.0273e-03],\n",
       "           [ 2.1318e-04,  2.1281e-04,  3.6153e-04,  ..., -7.4681e-04,\n",
       "            -1.2398e-04,  7.8694e-05],\n",
       "           ...,\n",
       "           [ 6.2893e-04,  4.5671e-04,  1.1713e-03,  ..., -6.8840e-04,\n",
       "            -5.1300e-04, -3.1133e-03],\n",
       "           [-1.5454e-03, -5.9295e-04,  1.0383e-04,  ..., -3.5344e-03,\n",
       "             2.5791e-04,  2.9910e-04],\n",
       "           [-9.1810e-04, -8.5623e-04,  2.9577e-06,  ..., -1.1180e-04,\n",
       "            -4.0944e-03,  2.2456e-04]]]),\n",
       "  tensor([[[-4.7318e-04,  3.8548e-06,  1.2600e-03,  ...,  3.3651e-04,\n",
       "             1.1993e-03,  7.8679e-04],\n",
       "           [ 9.3446e-04, -1.4113e-04, -7.1282e-04,  ..., -1.7883e-04,\n",
       "            -3.0014e-04,  8.4329e-04],\n",
       "           [ 1.4006e-03,  1.9841e-04, -2.3155e-04,  ...,  1.3952e-04,\n",
       "             2.6028e-03,  1.1271e-03],\n",
       "           ...,\n",
       "           [-3.5829e-04,  6.0996e-04,  6.4902e-04,  ...,  7.3160e-04,\n",
       "            -2.7471e-03, -3.6628e-04],\n",
       "           [-1.7914e-04,  2.9968e-04,  7.7313e-04,  ..., -3.1165e-04,\n",
       "             2.6308e-04,  9.9480e-04],\n",
       "           [-1.7829e-03,  3.0305e-04,  4.0918e-04,  ...,  6.2047e-04,\n",
       "            -3.4169e-03,  9.0904e-04]]]),\n",
       "  tensor([[[-1.9330e-03, -3.0358e-04, -2.1830e-04,  ..., -4.5876e-04,\n",
       "             1.3212e-03, -1.5260e-03],\n",
       "           [ 1.6928e-03,  1.9709e-04,  1.2878e-03,  ..., -9.9445e-04,\n",
       "             7.0299e-04, -2.4237e-03],\n",
       "           [ 6.6405e-05,  2.9668e-04,  1.2023e-03,  ...,  1.3894e-03,\n",
       "             2.0602e-03,  1.5000e-03],\n",
       "           ...,\n",
       "           [ 6.8235e-04,  3.7367e-03,  4.2461e-04,  ..., -7.8079e-05,\n",
       "            -5.0299e-04,  1.9777e-03],\n",
       "           [ 1.2366e-03, -6.0899e-04,  1.8764e-03,  ...,  1.7431e-03,\n",
       "             2.1564e-04, -4.4175e-04],\n",
       "           [ 5.9495e-04, -3.2825e-04,  1.0309e-03,  ...,  1.0579e-03,\n",
       "            -3.6131e-03, -1.0232e-03]]]),\n",
       "  tensor([[[-4.2385e-04,  4.5455e-05, -1.1562e-03,  ...,  1.0174e-03,\n",
       "             4.4467e-03,  7.9809e-04],\n",
       "           [-1.1771e-03,  7.1011e-04, -1.6725e-03,  ...,  8.1330e-04,\n",
       "             4.8857e-04,  1.7898e-03],\n",
       "           [-3.0964e-04, -7.1740e-04, -8.8258e-04,  ...,  9.6073e-04,\n",
       "             2.3669e-04,  8.2110e-05],\n",
       "           ...,\n",
       "           [ 9.6407e-04,  1.5764e-03,  4.6624e-04,  ..., -1.1795e-03,\n",
       "             5.7720e-04,  3.7943e-04],\n",
       "           [ 5.4471e-04,  1.3440e-03, -2.4580e-03,  ...,  2.7095e-04,\n",
       "             6.3718e-04,  4.7219e-04],\n",
       "           [ 3.7511e-04, -1.2609e-05, -2.3023e-03,  ..., -1.2809e-03,\n",
       "             1.6338e-03,  1.5771e-04]]]),\n",
       "  tensor([[[-1.4327e-03, -2.8023e-03,  1.4817e-06,  ...,  1.7136e-03,\n",
       "            -3.6042e-03,  1.2472e-03],\n",
       "           [-5.0627e-04, -1.3013e-03,  1.7166e-03,  ..., -1.6971e-03,\n",
       "             2.4883e-03,  1.0187e-03],\n",
       "           [-2.3456e-03, -5.8690e-05,  1.6997e-03,  ...,  2.0328e-04,\n",
       "             6.0548e-04, -4.5923e-04],\n",
       "           ...,\n",
       "           [ 3.9415e-04,  3.0914e-03,  2.6922e-03,  ...,  9.3491e-04,\n",
       "             1.5033e-03,  5.8072e-04],\n",
       "           [ 2.9876e-03,  2.8190e-03, -7.4468e-04,  ...,  2.8576e-03,\n",
       "             1.9726e-03,  9.3320e-04],\n",
       "           [ 2.8508e-03, -7.7983e-04, -7.1168e-05,  ...,  2.2288e-03,\n",
       "             1.1998e-03, -4.5968e-03]]]),\n",
       "  tensor([[[ 9.2006e+03,  4.9052e+00,  2.2783e+01,  ..., -3.3170e+01,\n",
       "            -2.3722e+01,  3.5053e+00],\n",
       "           [-4.8113e+01, -8.0243e+01,  5.9587e+01,  ..., -9.2753e+01,\n",
       "             1.6926e+01, -1.1040e+02],\n",
       "           [ 1.1868e+02,  1.4045e+02, -5.4128e+01,  ...,  4.1814e+01,\n",
       "            -7.1883e+01,  1.0368e+02],\n",
       "           ...,\n",
       "           [ 2.0741e+01,  1.0377e+02, -4.7854e+01,  ..., -1.2086e+00,\n",
       "             1.0766e+02, -7.3564e+01],\n",
       "           [-3.1776e+01, -6.2246e+01,  7.9763e+00,  ..., -1.0302e+02,\n",
       "             6.4218e+01, -2.8746e+01],\n",
       "           [ 2.1821e+01, -1.4307e+01,  1.1146e+02,  ...,  3.2480e+01,\n",
       "             2.3303e+01,  3.5566e+01]]]),\n",
       "  tensor([[[ 6.7812e-04, -7.2518e-05, -3.0164e-04,  ...,  2.4156e-03,\n",
       "            -2.0249e-03,  8.6346e-04],\n",
       "           [ 6.7737e-04,  3.9313e-04,  6.0774e-04,  ...,  5.0053e-04,\n",
       "            -8.1515e-04,  8.3354e-04],\n",
       "           [-2.0855e-04, -1.5384e-03, -1.6545e-03,  ...,  1.0911e-03,\n",
       "            -1.5049e-03, -2.8137e-03],\n",
       "           ...,\n",
       "           [-1.1467e-04, -5.3315e-04,  1.3614e-03,  ..., -3.3906e-03,\n",
       "             2.0313e-03,  6.7847e-04],\n",
       "           [ 1.1630e-04,  4.6498e-04, -4.3033e-04,  ...,  9.6422e-03,\n",
       "            -1.9285e-03,  5.3832e-04],\n",
       "           [ 2.0669e-02,  8.8116e-04, -1.1447e-04,  ..., -3.4834e-03,\n",
       "             4.3084e-05, -2.1663e-04]]]),\n",
       "  tensor([[[ 5.6420e-04,  3.5307e-03,  1.1931e-04,  ..., -8.2303e-04,\n",
       "             6.7966e-04,  1.7733e-04],\n",
       "           [ 6.7348e-04, -1.7688e-03,  1.5021e-03,  ...,  3.0127e-05,\n",
       "            -1.0750e-02,  1.4874e-03],\n",
       "           [ 1.2261e-04,  9.9001e-04, -1.0395e-03,  ...,  1.0869e-03,\n",
       "            -3.0160e-04,  9.1556e-04],\n",
       "           ...,\n",
       "           [ 7.8374e-04,  1.6379e-04, -3.5802e-04,  ...,  1.0582e-03,\n",
       "             8.2204e-04,  6.3535e-04],\n",
       "           [ 4.3599e-04,  8.3095e-05,  9.7604e-04,  ..., -3.4236e-04,\n",
       "            -1.2160e-03, -6.5471e-04],\n",
       "           [ 2.6597e-04,  8.9656e-04,  7.6231e-04,  ...,  8.1340e-04,\n",
       "             6.8722e-04,  3.0097e-04]]]),\n",
       "  tensor([[[ 1.6199e-02,  1.6298e-03,  6.1508e-03,  ..., -6.0380e-04,\n",
       "             1.6220e-03,  1.5929e-03],\n",
       "           [-5.1296e-04,  1.2279e-03, -3.6109e-03,  ..., -1.1608e-03,\n",
       "            -2.0817e-04,  2.2451e-05],\n",
       "           [-5.0505e-03, -2.1780e-03, -1.9926e-03,  ..., -1.8322e-03,\n",
       "             1.5416e-04,  2.4732e-04],\n",
       "           ...,\n",
       "           [-8.0013e-04, -3.1249e-03, -1.1097e-03,  ...,  4.2364e-04,\n",
       "             1.1777e-03,  3.0716e-05],\n",
       "           [-9.1081e-04,  1.6099e-03, -2.1046e-05,  ...,  4.3649e-04,\n",
       "            -2.1097e-03,  2.3517e-04],\n",
       "           [ 1.3452e-03, -3.1808e-05,  1.1944e-04,  ...,  2.2832e-03,\n",
       "            -5.4680e-04,  1.7855e-04]]]),\n",
       "  tensor([[[-845388.8750,  965355.7500, -808218.3125,  ...,   37738.8477,\n",
       "             -42402.6719,  125192.1406],\n",
       "           [ 111012.4062,  -31334.5000,  -32192.0664,  ...,  187472.9219,\n",
       "             -78070.4297,  -79594.2969],\n",
       "           [ -35273.3359,  -17931.1289,   34771.0000,  ...,  117107.8750,\n",
       "             116517.8594,  108351.1328],\n",
       "           ...,\n",
       "           [ -65325.7969, -103423.6797,  -40939.5742,  ...,  157999.1250,\n",
       "              36883.7773,    7621.2817],\n",
       "           [ -63236.4961,  -54416.8359,  -72457.9609,  ...,   53549.3633,\n",
       "               9383.7021,   18136.9238],\n",
       "           [ -28407.2305,   12075.6484,  -78101.5156,  ...,   26589.5859,\n",
       "            -118051.7344,   53964.3438]]]),\n",
       "  tensor([[[-2.3413e-03, -1.0408e-03, -1.6583e-03,  ...,  2.6758e-03,\n",
       "             2.7480e-03,  3.6891e-03],\n",
       "           [-3.6617e-03,  3.4277e-03, -1.8682e-03,  ...,  9.0311e-04,\n",
       "             1.0550e-04, -1.6340e-03],\n",
       "           [-1.7971e-03,  2.2613e-03,  4.3889e-03,  ...,  3.2581e-03,\n",
       "             2.8142e-03, -1.2231e-03],\n",
       "           ...,\n",
       "           [ 4.2511e-03, -1.6077e-03,  2.1123e-03,  ...,  2.3180e-03,\n",
       "             1.0033e-03, -4.1020e-04],\n",
       "           [-2.7911e-03,  2.9799e-03, -4.2126e-03,  ...,  3.0274e-03,\n",
       "             1.1384e-05, -4.8783e-04],\n",
       "           [ 7.4385e-04,  4.0613e-04,  1.1523e-03,  ..., -1.6783e-04,\n",
       "            -4.5192e-03,  2.6892e-03]]]),\n",
       "  tensor([[[ 1.7106e+06,  4.8347e+05,  1.3976e+06,  ...,  1.8324e+05,\n",
       "            -7.2172e+04, -1.5072e+04],\n",
       "           [-2.5573e+05,  1.0236e+05, -1.8478e+05,  ..., -8.5889e+04,\n",
       "            -7.0109e+04,  6.8809e+04],\n",
       "           [-2.3995e+05,  5.7154e+04,  2.8837e+04,  ..., -3.6331e+04,\n",
       "            -2.7928e+05, -3.2994e+03],\n",
       "           ...,\n",
       "           [-2.0675e+05,  3.8704e+04, -9.5237e+04,  ...,  2.3401e+04,\n",
       "             1.4912e+05, -1.3531e+05],\n",
       "           [-3.7622e+04, -7.1137e+04, -4.2645e+04,  ..., -8.6477e+04,\n",
       "            -8.4588e+04,  2.0968e+04],\n",
       "           [-1.1672e+05, -9.8111e+04,  4.4719e-05,  ...,  4.6216e+04,\n",
       "             4.7781e-04,  5.1513e+04]]]),\n",
       "  tensor([[[-5.3252e+07,  9.5062e+06, -4.4854e+06,  ..., -1.2844e+06,\n",
       "             7.2218e+05,  3.0918e+05],\n",
       "           [-1.0612e+06,  1.2229e+06, -1.6890e+06,  ...,  2.0996e+05,\n",
       "            -6.4719e-06,  1.0166e+06],\n",
       "           [ 2.8880e+05, -8.3831e+05, -4.1401e+05,  ..., -1.1162e+06,\n",
       "             5.5392e+05,  5.3416e+04],\n",
       "           ...,\n",
       "           [-4.0828e+05, -6.3409e+04, -5.2449e+05,  ...,  5.2826e+05,\n",
       "            -1.5936e+06,  4.4549e+05],\n",
       "           [-1.7784e+05,  1.0573e+06,  2.6575e+05,  ..., -9.8535e+05,\n",
       "            -1.3869e+06, -1.5791e+06],\n",
       "           [-4.1220e+05, -4.3514e+05, -2.2883e+06,  ..., -1.7160e+05,\n",
       "             1.1450e+06,  5.4198e+05]]]),\n",
       "  tensor([[[-3.7763e+05,  1.9819e+05, -1.0844e+05,  ..., -1.3061e+04,\n",
       "             1.5309e+04,  7.4266e+03],\n",
       "           [-2.2657e+04, -1.0572e+04, -3.0747e+04,  ..., -1.0467e+05,\n",
       "            -8.4643e+03, -6.3945e+03],\n",
       "           [-1.2946e+04,  6.3273e-04,  3.8580e+04,  ..., -1.7219e+05,\n",
       "             1.9558e+04, -1.5574e+04],\n",
       "           ...,\n",
       "           [-5.5351e+03,  1.6617e+04, -1.3169e+05,  ..., -2.5382e+04,\n",
       "             2.6089e+03,  1.0471e+04],\n",
       "           [ 1.0222e+04,  1.6306e+04, -2.3877e+04,  ...,  6.4868e+03,\n",
       "            -1.6874e+04, -5.9311e+03],\n",
       "           [ 4.5472e+04, -3.3241e-05,  1.2950e+04,  ..., -3.5981e+04,\n",
       "             2.9355e+04,  2.2907e+04]]]),\n",
       "  tensor([[[ 5.7128e+06,  5.7002e+05, -2.0253e+05,  ...,  1.3598e+05,\n",
       "             1.9426e+05, -9.8339e+04],\n",
       "           [-5.8862e+03, -1.8707e+05, -2.2782e+04,  ...,  1.7474e+05,\n",
       "             7.9535e+04,  1.2206e+05],\n",
       "           [-6.5437e+04, -1.0000e+05, -9.4426e+03,  ..., -3.6011e+04,\n",
       "             1.4016e+04, -1.0669e+05],\n",
       "           ...,\n",
       "           [ 3.3289e+04, -1.0144e+05, -1.7157e+04,  ...,  1.3357e+05,\n",
       "            -3.8642e+04,  3.9014e+04],\n",
       "           [ 8.2391e+04,  1.0885e+05,  1.7740e+04,  ..., -2.0425e+05,\n",
       "            -9.6121e+04,  2.1667e-03],\n",
       "           [-6.3121e+04,  1.4292e+05,  7.0226e+04,  ..., -1.2268e+04,\n",
       "             1.6383e+05,  4.2743e+04]]]),\n",
       "  tensor([[[-2.1276e-03,  1.6404e-03,  9.8321e-04,  ...,  1.1907e-03,\n",
       "            -1.1909e-03,  2.2440e-03],\n",
       "           [-8.5496e-04,  1.9006e-03,  1.2074e-03,  ..., -1.4496e-03,\n",
       "             3.3237e-03, -1.3789e-03],\n",
       "           [-1.8764e-04,  3.3219e-03,  1.1429e-04,  ...,  4.3965e-04,\n",
       "             4.2904e-03,  1.1272e-03],\n",
       "           ...,\n",
       "           [-1.3714e-03,  2.8911e-03,  2.1889e-04,  ..., -3.2624e-05,\n",
       "            -1.3576e-04, -9.0153e-04],\n",
       "           [-3.2392e-03,  6.3506e-04, -3.5094e-04,  ...,  1.4295e-03,\n",
       "            -5.9890e-04,  3.6871e-03],\n",
       "           [ 2.3943e-03, -8.2712e-03,  3.9281e-03,  ...,  2.4379e-03,\n",
       "            -4.6235e-03,  1.5315e-03]]]),\n",
       "  tensor([[[-1.5795e-03, -2.6969e-03,  8.7118e-04,  ..., -1.4884e-03,\n",
       "            -1.0276e-04,  2.8106e-04],\n",
       "           [-1.4074e-04,  3.1006e-04, -1.0412e-03,  ...,  1.5884e-03,\n",
       "             6.5647e-04,  5.2136e-04],\n",
       "           [-8.9451e-04,  4.0218e-04, -5.3809e-03,  ..., -2.4624e-03,\n",
       "            -8.2339e-04,  2.8498e-04],\n",
       "           ...,\n",
       "           [ 1.1608e-03,  1.4777e-04, -6.7892e-04,  ...,  1.9007e-03,\n",
       "            -1.0950e-04, -6.1365e-05],\n",
       "           [ 1.3741e-03, -6.2519e-04,  4.1384e-04,  ...,  7.8058e-04,\n",
       "             1.2867e-03,  7.1279e-04],\n",
       "           [ 1.4621e-03,  4.2724e-05,  3.6569e-04,  ...,  1.5694e-04,\n",
       "            -1.4984e-03, -1.2306e-03]]]),\n",
       "  tensor([[[-1304556.1250,  -420093.8125,  -391704.2812,  ...,\n",
       "              -47459.4648,     9996.1436,    -5577.1489],\n",
       "           [  -10906.3330,    22708.2148,   -37321.5625,  ...,\n",
       "              -13960.1797,    61679.9414,   -28073.3789],\n",
       "           [   40841.8008,   -44831.6211,    38076.6055,  ...,\n",
       "               15676.5195,   -19428.8770,   -42120.1406],\n",
       "           ...,\n",
       "           [   16165.7598,    23136.2617,    -6238.0020,  ...,\n",
       "                2549.7222,    17207.8398,    -8845.7090],\n",
       "           [  -99215.5625,    21838.1680,    27162.1465,  ...,\n",
       "                8232.1123,   -20263.8398,    -4805.0068],\n",
       "           [  -27420.5430,     6093.6001,   -57549.4375,  ...,\n",
       "               -4306.0889,    19241.2422,   -28299.7051]]]),\n",
       "  tensor([[[ 2.6307e+06,  4.3287e+04, -1.3413e+05,  ..., -4.0892e+03,\n",
       "            -8.7860e+03, -1.1001e+04],\n",
       "           [-5.6474e+03,  4.5572e+03,  2.4419e+04,  ...,  5.2278e+03,\n",
       "             2.0626e+03, -1.2098e+03],\n",
       "           [ 2.8131e+03, -1.2010e+04, -1.5848e+04,  ..., -7.1440e+02,\n",
       "             4.5506e+03,  6.3354e+03],\n",
       "           ...,\n",
       "           [-3.9439e+03, -7.2736e+03,  5.6100e+03,  ..., -1.4143e+04,\n",
       "             1.0361e+04, -6.3415e+03],\n",
       "           [-2.2540e+03, -2.1866e+03, -1.2606e+03,  ...,  1.3766e+04,\n",
       "            -1.1193e+03, -3.1898e+03],\n",
       "           [ 1.1429e+03,  9.8073e+03,  9.4195e+03,  ...,  5.7630e+03,\n",
       "             2.9576e+03, -3.7101e+03]]]),\n",
       "  tensor([[[ 1.3830e-03,  1.4524e-03,  6.5721e-03,  ...,  1.0110e-03,\n",
       "             1.2656e-03,  1.6169e-04],\n",
       "           [ 3.6961e-04,  5.0135e-04, -1.2301e-03,  ...,  5.5230e-04,\n",
       "            -7.7968e-05, -1.0128e-04],\n",
       "           [-1.0188e-03,  3.1951e-04,  9.1758e-04,  ...,  4.1882e-04,\n",
       "            -4.0923e-04, -8.6720e-04],\n",
       "           ...,\n",
       "           [ 5.8053e-04,  9.6719e-04,  1.0917e-03,  ...,  6.3013e-04,\n",
       "            -7.4409e-04,  9.6589e-04],\n",
       "           [-2.1346e-04,  4.3995e-03, -1.7022e-04,  ...,  1.8557e-03,\n",
       "            -2.7074e-03,  5.1781e-04],\n",
       "           [-9.1682e-05, -3.0764e-04,  1.8493e-03,  ..., -7.1193e-03,\n",
       "            -1.2657e-03,  1.6979e-03]]]),\n",
       "  tensor([[[ 2.8926e-02,  1.2957e-03,  2.9754e-03,  ..., -3.5371e-04,\n",
       "             2.1442e-03,  1.3228e-03],\n",
       "           [-3.9213e-04, -1.7857e-03,  2.9232e-03,  ...,  2.0343e-04,\n",
       "             4.0307e-04, -1.5699e-03],\n",
       "           [-1.3995e-03,  3.4877e-04,  1.3429e-03,  ..., -2.5950e-04,\n",
       "             1.2008e-03,  1.6723e-03],\n",
       "           ...,\n",
       "           [ 2.1746e-03, -1.5761e-04,  3.5676e-03,  ...,  3.5950e-03,\n",
       "            -6.7361e-04,  3.9547e-04],\n",
       "           [-2.5933e-03,  2.4501e-03, -4.4285e-04,  ...,  1.3176e-03,\n",
       "             1.3437e-04, -5.1738e-03],\n",
       "           [-5.9680e-05, -4.8638e-03,  2.7223e-04,  ..., -2.9175e-03,\n",
       "            -3.5825e-04, -1.7571e-04]]]),\n",
       "  tensor([[[ 7.8008e-03,  7.9181e-04, -1.2564e-03,  ..., -1.8548e-04,\n",
       "            -5.6916e-04,  6.8151e-04],\n",
       "           [-8.2339e-04, -5.6822e-04,  7.9072e-04,  ...,  1.1644e-03,\n",
       "            -1.9740e-03,  9.8130e-04],\n",
       "           [-1.7988e-05,  8.2757e-04,  3.6280e-04,  ..., -1.9841e-03,\n",
       "            -1.5141e-04, -8.1645e-04],\n",
       "           ...,\n",
       "           [ 3.7155e-04, -3.7729e-04,  1.1938e-03,  ...,  1.0125e-03,\n",
       "             1.0496e-04,  5.6182e-04],\n",
       "           [ 3.2493e-04,  1.3856e-04,  4.5147e-04,  ...,  3.7492e-03,\n",
       "             7.2383e-04, -1.4790e-03],\n",
       "           [-9.0548e-04, -1.7959e-05, -6.4924e-04,  ...,  7.7684e-04,\n",
       "            -1.7914e-05, -7.0881e-04]]]),\n",
       "  tensor([[[-1.6996e-04, -1.5581e-04, -2.9949e-04,  ..., -6.0608e-04,\n",
       "             1.1540e-03,  8.7285e-05],\n",
       "           [-2.6425e-04,  1.3826e-04,  1.1847e-03,  ...,  1.0193e-03,\n",
       "             5.2963e-04, -2.3426e-03],\n",
       "           [ 5.3605e-04,  1.9013e-03,  9.6866e-04,  ...,  3.0731e-04,\n",
       "             9.1611e-04,  1.0031e-03],\n",
       "           ...,\n",
       "           [ 7.9933e-04, -1.9312e-03, -1.4013e-03,  ..., -9.1962e-04,\n",
       "             6.2556e-04, -5.5985e-04],\n",
       "           [-1.7748e-04,  5.6423e-04,  2.6098e-04,  ...,  1.1409e-03,\n",
       "            -3.5617e-03, -2.0716e-03],\n",
       "           [-2.3138e-03, -2.7638e-04, -6.4672e-04,  ..., -4.4296e-03,\n",
       "            -2.3656e-04,  1.1006e-03]]]),\n",
       "  tensor([[[-2.1130e-03, -1.9316e-03,  2.4553e-04,  ..., -4.3144e-06,\n",
       "            -1.6225e-04,  3.0110e-04],\n",
       "           [ 7.6110e-04,  1.3744e-04,  2.4176e-05,  ..., -7.4038e-04,\n",
       "             4.8991e-04,  3.1963e-04],\n",
       "           [ 3.2884e-04,  7.4639e-05, -1.5937e-04,  ..., -3.8276e-04,\n",
       "             1.0108e-04,  8.3030e-04],\n",
       "           ...,\n",
       "           [ 4.3198e-04, -4.2390e-04,  6.5147e-04,  ...,  4.7271e-04,\n",
       "             8.2210e-04, -2.4519e-04],\n",
       "           [ 1.0545e-04,  7.9194e-04,  9.2440e-04,  ..., -5.0046e-04,\n",
       "            -1.5310e-03, -4.3956e-04],\n",
       "           [ 3.1870e-04,  3.8447e-04, -3.2236e-04,  ...,  2.0926e-04,\n",
       "            -1.7275e-04,  2.3327e-04]]]),\n",
       "  tensor([[[-3.5545e-03, -2.9960e-03,  1.9017e-03,  ..., -2.2354e-03,\n",
       "             3.2698e-04,  1.9648e-04],\n",
       "           [-8.6519e-04,  5.2155e-03, -1.0539e-03,  ...,  1.4469e-03,\n",
       "            -7.4276e-05,  2.8845e-03],\n",
       "           [-5.4097e-04, -3.2599e-04, -5.4927e-04,  ..., -7.5177e-04,\n",
       "             2.9243e-04, -1.0061e-03],\n",
       "           ...,\n",
       "           [-5.1142e-04,  1.8484e-03, -3.3451e-03,  ...,  1.0084e-04,\n",
       "             2.3306e-03,  1.0508e-03],\n",
       "           [ 1.2103e-03, -2.2016e-03, -2.9354e-03,  ...,  2.8719e-03,\n",
       "            -4.6081e-03,  8.8303e-04],\n",
       "           [ 8.8605e-04,  2.1719e-03,  1.7540e-03,  ...,  1.5318e-03,\n",
       "             5.5873e-04,  1.4787e-03]]]),\n",
       "  tensor([[[-2.2663e-03, -7.0260e-05,  7.1351e-04,  ..., -2.1475e-03,\n",
       "            -2.8401e-04,  9.0431e-04],\n",
       "           [ 4.5158e-04, -7.1555e-04,  4.5353e-04,  ..., -2.2764e-03,\n",
       "            -1.8918e-03, -6.0425e-04],\n",
       "           [ 4.6458e-04,  5.9370e-04, -7.1926e-04,  ..., -1.0853e-03,\n",
       "             6.8761e-04,  5.7968e-04],\n",
       "           ...,\n",
       "           [-8.8444e-04,  5.5786e-04, -7.8627e-03,  ...,  8.8070e-04,\n",
       "             9.4947e-04, -2.2550e-04],\n",
       "           [ 6.4778e-04, -9.4348e-04, -2.8553e-03,  ..., -4.1620e-03,\n",
       "            -1.4630e-03,  7.4547e-04],\n",
       "           [ 1.3153e-03, -9.8478e-04,  5.0536e-04,  ...,  1.0251e-03,\n",
       "             1.0128e-03,  1.0743e-03]]]),\n",
       "  tensor([[[ 1.1902e-03, -4.7136e-03,  1.2140e-03,  ..., -1.8808e-03,\n",
       "             1.1261e-03,  2.3484e-03],\n",
       "           [ 1.3699e-03,  1.2635e-03,  7.9601e-05,  ...,  8.1312e-04,\n",
       "            -6.9794e-04, -6.8353e-04],\n",
       "           [-8.3038e-04, -4.8280e-04,  1.9404e-03,  ...,  1.5119e-02,\n",
       "            -3.6234e-03, -7.3234e-04],\n",
       "           ...,\n",
       "           [-4.4354e-04, -8.2115e-04, -1.7279e-03,  ...,  1.2540e-03,\n",
       "            -3.5686e-03, -6.6678e-03],\n",
       "           [ 1.3403e-03,  1.2197e-03,  8.2130e-04,  ..., -1.0829e-03,\n",
       "             2.3634e-04,  1.4151e-03],\n",
       "           [ 1.9413e-03,  1.0171e-03,  9.9504e-04,  ..., -2.0919e-03,\n",
       "             2.7614e-03, -4.0153e-03]]]),\n",
       "  tensor([[[ 2.9158e-04, -1.6341e-03,  1.0380e-03,  ..., -1.5285e-03,\n",
       "             9.5400e-04, -1.4023e-03],\n",
       "           [ 1.8499e-04,  4.0719e-04,  8.2672e-04,  ...,  4.9792e-04,\n",
       "             1.7632e-03,  1.1267e-05],\n",
       "           [-9.2314e-04,  3.8987e-04,  1.5328e-03,  ...,  1.3153e-03,\n",
       "             7.8161e-04,  6.5878e-04],\n",
       "           ...,\n",
       "           [ 6.7533e-05, -2.2546e-03,  6.2080e-04,  ..., -3.8232e-04,\n",
       "             3.8032e-04,  7.6540e-05],\n",
       "           [-6.4297e-03,  1.2704e-03,  5.5119e-04,  ...,  1.5538e-03,\n",
       "             8.5140e-04,  6.5042e-04],\n",
       "           [ 1.5722e-04,  1.0891e-03,  1.4999e-04,  ...,  2.2369e-04,\n",
       "            -1.5068e-06,  2.5707e-05]]]),\n",
       "  tensor([[[-8.6601e-05, -1.9763e-03, -2.4121e-03,  ...,  7.9854e-04,\n",
       "             1.9918e-03,  1.1341e-03],\n",
       "           [-3.1368e-03, -7.6385e-04,  4.0893e-03,  ..., -1.1936e-03,\n",
       "             6.4769e-04,  8.9761e-04],\n",
       "           [ 6.2236e-05,  4.5973e-04, -1.2347e-05,  ...,  1.0303e-03,\n",
       "             1.0988e-04,  4.5657e-04],\n",
       "           ...,\n",
       "           [ 1.1437e-03,  1.6909e-03,  1.6102e-04,  ..., -7.7831e-05,\n",
       "            -1.3008e-03, -2.2467e-03],\n",
       "           [ 1.8334e-03,  6.7005e-05, -1.7060e-03,  ...,  1.0031e-03,\n",
       "            -2.1585e-03, -8.3627e-04],\n",
       "           [-5.3939e-04,  1.9911e-04,  9.5183e-04,  ...,  1.0755e-03,\n",
       "            -5.3688e-03,  4.5852e-04]]]),\n",
       "  tensor([[[-0.0021,  0.0008, -0.0009,  ...,  0.0004, -0.0057, -0.0019],\n",
       "           [ 0.0003, -0.0042, -0.0011,  ...,  0.0034, -0.0006,  0.0034],\n",
       "           [ 0.0011,  0.0011, -0.0002,  ...,  0.0018, -0.0016, -0.0006],\n",
       "           ...,\n",
       "           [-0.0019, -0.0035,  0.0030,  ..., -0.0092,  0.0019,  0.0043],\n",
       "           [-0.0027,  0.0012,  0.0046,  ..., -0.0002,  0.0009,  0.0031],\n",
       "           [ 0.0021,  0.0016,  0.0003,  ...,  0.0006, -0.0002, -0.0015]]]),\n",
       "  tensor([[[ 1.2966e-04,  5.6176e-04, -1.6369e-04,  ...,  1.1362e-03,\n",
       "            -6.7542e-04, -2.3886e-04],\n",
       "           [ 1.6330e-03, -3.2219e-04,  9.1872e-05,  ...,  8.1291e-04,\n",
       "             8.2772e-04, -5.1641e-04],\n",
       "           [ 2.6890e-03,  7.5961e-04, -1.2261e-04,  ..., -5.3372e-04,\n",
       "             7.0159e-05,  3.4954e-04],\n",
       "           ...,\n",
       "           [ 1.6189e-03,  1.3662e-03,  1.0531e-03,  ..., -4.9065e-03,\n",
       "             1.8448e-03, -1.9238e-03],\n",
       "           [-2.1224e-03, -7.8867e-05,  2.0336e-03,  ...,  8.4865e-04,\n",
       "            -2.5452e-03,  2.0312e-03],\n",
       "           [ 8.6509e-04, -7.5034e-04,  2.0318e-03,  ..., -2.6931e-03,\n",
       "             1.4053e-03,  1.0755e-03]]]),\n",
       "  tensor([[[-1.6630e-03,  7.0842e-04,  2.7933e-04,  ...,  2.8271e-04,\n",
       "            -1.5739e-03,  1.5961e-04],\n",
       "           [ 6.3211e-04,  1.9135e-04, -5.6460e-04,  ..., -1.8118e-03,\n",
       "            -5.8846e-05, -1.1508e-03],\n",
       "           [-5.6276e-04, -1.8581e-04,  6.4460e-04,  ..., -1.7331e-04,\n",
       "             3.6338e-06,  3.3998e-04],\n",
       "           ...,\n",
       "           [-1.3543e-04, -6.3943e-05,  6.0290e-04,  ...,  6.0861e-05,\n",
       "            -3.5072e-04,  8.2758e-04],\n",
       "           [-4.4245e-04,  5.7757e-04, -3.4785e-04,  ..., -3.4688e-04,\n",
       "             1.9913e-04,  7.0087e-04],\n",
       "           [ 4.6235e-04, -1.5009e-03, -7.3783e-04,  ..., -1.9670e-04,\n",
       "             1.7788e-04,  5.7348e-04]]]),\n",
       "  tensor([[[-1.5459e-03, -2.7410e-03,  5.8699e-04,  ..., -6.8214e-04,\n",
       "            -2.3989e-04,  5.4794e-04],\n",
       "           [-1.5933e-03,  3.6986e-04, -1.0170e-05,  ...,  6.8830e-04,\n",
       "            -4.9684e-04,  6.0700e-04],\n",
       "           [ 4.3200e-04, -3.7373e-04,  8.4878e-04,  ...,  7.6633e-04,\n",
       "             7.0502e-04,  1.1735e-03],\n",
       "           ...,\n",
       "           [-1.6619e-02, -4.8523e-04,  8.0048e-04,  ...,  9.1566e-04,\n",
       "             5.5174e-04, -1.0214e-03],\n",
       "           [-2.7275e-03,  8.7379e-04,  1.3178e-03,  ..., -5.8641e-04,\n",
       "            -1.1568e-03,  5.8562e-04],\n",
       "           [ 1.2057e-04,  4.1764e-04,  2.9181e-04,  ..., -5.2837e-04,\n",
       "            -3.0860e-03,  1.0853e-03]]]),\n",
       "  tensor([[[-1.0227e-03, -1.0232e-04, -1.8072e-04,  ..., -3.2337e-03,\n",
       "            -5.0969e-05,  7.4563e-04],\n",
       "           [ 1.9264e-03,  9.5456e-04,  9.4788e-04,  ...,  2.6924e-03,\n",
       "             7.0758e-04,  6.4673e-04],\n",
       "           [ 1.0360e-03,  9.4930e-04, -3.7865e-04,  ...,  7.2480e-04,\n",
       "             1.1109e-03,  1.1652e-03],\n",
       "           ...,\n",
       "           [ 9.6622e-04,  1.5214e-03, -1.7604e-04,  ..., -3.5031e-04,\n",
       "             2.2589e-04, -3.0193e-03],\n",
       "           [-3.2664e-04,  5.8656e-04,  1.0681e-03,  ..., -1.9794e-04,\n",
       "             4.6676e-04,  1.4418e-04],\n",
       "           [ 4.7558e-04,  8.1211e-04,  2.3833e-03,  ...,  1.5482e-03,\n",
       "            -1.5730e-04,  1.2652e-03]]]),\n",
       "  tensor([[[-2.3502e-03, -2.7819e-04, -1.4611e-04,  ...,  1.0224e-03,\n",
       "             5.8648e-04,  4.3759e-04],\n",
       "           [ 5.6533e-04, -1.3910e-03,  1.8732e-04,  ..., -5.8518e-04,\n",
       "             1.2787e-04, -5.7088e-03],\n",
       "           [ 2.4294e-04, -7.3828e-04, -2.3916e-03,  ..., -8.7169e-04,\n",
       "             5.2791e-04,  1.3599e-03],\n",
       "           ...,\n",
       "           [ 2.0720e-04,  1.4314e-03,  7.0819e-04,  ...,  1.0417e-03,\n",
       "             3.4465e-04, -6.9851e-05],\n",
       "           [-2.0068e-03,  4.6502e-04, -1.2240e-03,  ...,  1.3012e-03,\n",
       "             7.8903e-04, -4.7670e-04],\n",
       "           [-1.4275e-03,  3.6326e-04,  1.1409e-03,  ...,  6.8331e-04,\n",
       "             4.5534e-04, -9.0489e-04]]]),\n",
       "  tensor([[[-1.1423e-03, -3.4124e-03,  1.1739e-03,  ..., -6.6950e-03,\n",
       "             1.5833e-04, -6.9962e-04],\n",
       "           [ 8.7187e-04,  1.7099e-03,  3.4787e-03,  ...,  4.2271e-04,\n",
       "             1.4223e-03, -1.0950e-04],\n",
       "           [-3.7550e-04,  2.3310e-04,  5.4149e-04,  ...,  8.4285e-04,\n",
       "             1.2279e-03,  1.5769e-03],\n",
       "           ...,\n",
       "           [ 1.8290e-03, -3.0802e-03, -6.7895e-03,  ..., -3.3713e-03,\n",
       "            -1.4675e-03,  1.8879e-03],\n",
       "           [ 1.4165e-03,  9.9668e-04,  9.4591e-04,  ...,  1.5175e-03,\n",
       "             4.8155e-04,  1.2199e-03],\n",
       "           [-3.9003e-03,  6.1770e-04,  2.8288e-04,  ...,  2.5682e-04,\n",
       "            -1.0039e-03,  4.2371e-05]]]),\n",
       "  tensor([[[ 1.9215e-04,  1.2678e-05, -5.3549e-04,  ..., -8.0150e-04,\n",
       "             1.3104e-03,  7.0773e-04],\n",
       "           [ 7.7250e-04,  4.7572e-04, -1.1642e-03,  ..., -3.2058e-05,\n",
       "            -4.0983e-04,  3.4504e-04],\n",
       "           [-2.3484e-03,  7.9315e-04, -2.6249e-03,  ..., -2.2699e-03,\n",
       "             5.7650e-04, -1.1062e-03],\n",
       "           ...,\n",
       "           [ 1.0724e-03, -1.0381e-03,  1.8312e-03,  ..., -2.9545e-03,\n",
       "             1.1835e-03,  9.7802e-04],\n",
       "           [ 7.2088e-04,  3.6122e-03, -1.9004e-03,  ...,  3.9565e-04,\n",
       "             4.0547e-04,  3.2217e-04],\n",
       "           [-1.1714e-03,  3.3477e-04, -2.4394e-04,  ...,  1.2189e-03,\n",
       "            -1.1048e-03, -5.9815e-04]]]),\n",
       "  tensor([[[ 2.6482e-03,  2.4468e-03,  2.7818e-03,  ...,  2.0232e-03,\n",
       "             4.4320e-05, -1.3298e-03],\n",
       "           [-4.5341e-04,  2.9726e-03, -2.3632e-04,  ...,  4.5378e-03,\n",
       "            -4.7535e-03, -1.5320e-03],\n",
       "           [-7.3267e-04,  8.2910e-05, -3.7958e-03,  ...,  3.1552e-04,\n",
       "            -2.0129e-03,  2.4092e-03],\n",
       "           ...,\n",
       "           [ 1.6064e-03,  9.5584e-04,  2.9578e-03,  ..., -1.1487e-04,\n",
       "            -2.1593e-03, -1.3048e-03],\n",
       "           [-1.1117e-02, -2.2213e-03,  1.7657e-03,  ...,  2.8657e-03,\n",
       "             1.7052e-03,  2.8125e-03],\n",
       "           [ 1.5110e-03, -4.2954e-03, -3.1986e-04,  ..., -1.0271e-04,\n",
       "            -4.0174e-05, -2.5521e-04]]]),\n",
       "  tensor([[[ 1.1248e+08,  1.3464e+07, -1.5413e+07,  ..., -4.4918e+05,\n",
       "            -3.4870e+05,  8.7534e+05],\n",
       "           [ 6.1435e+05, -5.5883e+05,  1.1017e+06,  ..., -1.6663e+05,\n",
       "            -6.2273e+05,  1.5489e+06],\n",
       "           [-3.3753e+05,  4.2763e+05,  5.5248e+05,  ..., -2.4685e+05,\n",
       "             3.5707e+04, -3.8394e+04],\n",
       "           ...,\n",
       "           [ 1.8094e+05,  4.7710e+05,  9.2733e+05,  ...,  4.6514e+05,\n",
       "             2.0224e+05, -4.3007e+05],\n",
       "           [-2.2826e+05, -3.2586e+05,  6.0607e+05,  ..., -1.0443e+06,\n",
       "            -5.3943e+05, -3.1957e+05],\n",
       "           [-5.9274e+05, -1.1535e+06, -6.1566e+05,  ..., -2.8399e+03,\n",
       "            -5.5376e+05,  6.5394e+05]]]),\n",
       "  tensor([[[ 4.0819e-01, -4.7670e-03,  2.1966e-03,  ...,  8.7540e-04,\n",
       "            -3.2158e-03, -4.0423e-05],\n",
       "           [ 5.8868e-04,  3.0283e-03,  1.6227e-04,  ..., -2.7245e-06,\n",
       "            -7.0597e-04,  8.1964e-05],\n",
       "           [-5.5560e-05, -2.6907e-03, -1.1841e-03,  ..., -5.6354e-03,\n",
       "            -1.9983e-03,  8.1607e-03],\n",
       "           ...,\n",
       "           [-2.5698e-03, -2.0929e-03,  9.0176e-04,  ...,  2.6832e-03,\n",
       "            -1.8911e-03,  1.9789e-03],\n",
       "           [ 2.3219e-03, -2.8860e-03, -2.1328e-03,  ..., -2.1967e-03,\n",
       "             9.6015e-04,  3.2738e-03],\n",
       "           [ 1.3264e-03, -2.9276e-03, -2.2088e-03,  ..., -3.1138e-03,\n",
       "             2.4973e-03,  1.4122e-03]]]),\n",
       "  tensor([[[ 1.3216e-03, -9.5590e-04, -7.5768e-04,  ..., -9.6285e-05,\n",
       "            -2.0984e-04,  1.1217e-03],\n",
       "           [ 9.1605e-04,  1.1268e-03,  1.0949e-03,  ..., -4.3558e-04,\n",
       "            -3.2052e-04, -1.8877e-03],\n",
       "           [-5.8861e-04,  1.1393e-03,  1.2311e-03,  ...,  5.2302e-04,\n",
       "             4.9178e-04,  1.0255e-03],\n",
       "           ...,\n",
       "           [ 5.6513e-04, -2.2584e-04, -9.9932e-04,  ..., -2.7145e-03,\n",
       "             1.0651e-03,  4.6330e-04],\n",
       "           [ 1.0793e-03,  1.1428e-03,  9.1664e-04,  ..., -1.9418e-03,\n",
       "             9.3018e-04, -1.6542e-04],\n",
       "           [-3.1228e-04, -8.2994e-05, -4.2875e-04,  ...,  1.1783e-03,\n",
       "            -9.8837e-04,  1.1643e-03]]]),\n",
       "  tensor([[[-1.8296e-03, -7.8107e-04, -4.1608e-04,  ..., -1.7941e-03,\n",
       "             1.6453e-03,  4.9072e-03],\n",
       "           [-7.2665e-04,  4.2277e-03,  1.0888e-03,  ...,  1.5421e-03,\n",
       "            -2.3718e-04, -4.9361e-03],\n",
       "           [-1.5846e-03,  1.6740e-03,  9.6679e-04,  ...,  6.3367e-04,\n",
       "             7.2730e-04,  3.6728e-04],\n",
       "           ...,\n",
       "           [ 1.8246e-03, -8.1192e-04,  1.1354e-03,  ..., -1.4870e-03,\n",
       "            -7.0766e-03,  3.1961e-04],\n",
       "           [ 2.5084e-03, -4.9325e-04, -6.8151e-03,  ...,  4.2093e-04,\n",
       "             3.2338e-03,  4.1159e-03],\n",
       "           [-2.9135e-05,  4.2890e-04,  9.5909e-03,  ...,  1.2000e-03,\n",
       "             8.0190e-04,  2.0918e-04]]]),\n",
       "  tensor([[[-2.2372e-03, -1.9358e-04,  3.3189e-04,  ..., -3.0690e-04,\n",
       "            -6.9631e-05, -2.4539e-04],\n",
       "           [ 2.6792e-05,  9.0977e-04, -3.0858e-04,  ..., -1.3164e-04,\n",
       "            -1.3563e-04,  6.4337e-04],\n",
       "           [ 1.3221e-04, -3.9518e-04, -1.8753e-04,  ...,  6.0640e-04,\n",
       "             8.3854e-04, -1.0398e-03],\n",
       "           ...,\n",
       "           [ 2.4904e-04, -5.4088e-03,  7.6041e-04,  ...,  1.9571e-04,\n",
       "             7.0678e-04,  2.6020e-05],\n",
       "           [-2.3569e-04,  8.6226e-05,  9.8416e-04,  ...,  3.3439e-04,\n",
       "            -6.9940e-04, -7.2141e-03],\n",
       "           [ 4.1892e-04,  2.9896e-04, -1.3102e-03,  ...,  7.0155e-04,\n",
       "            -2.8826e-03,  6.0822e-04]]]),\n",
       "  tensor([[[4635230.5000, -470496.5938, -138066.3906,  ...,  -52610.5273,\n",
       "              55505.5898,   53562.4727],\n",
       "           [  90909.5234,  -62365.0000,   18215.8789,  ...,  -14107.5811,\n",
       "              13687.2285,  -66267.6250],\n",
       "           [  12852.7725,   25643.9160,  -65138.1172,  ...,  109271.3125,\n",
       "             -41682.9414,   18954.9961],\n",
       "           ...,\n",
       "           [  54253.1250,   -5922.8760,  -69733.3984,  ...,  -17625.7559,\n",
       "             -76852.2031,  -64259.4180],\n",
       "           [  74312.8984,   27077.2148,  -58364.7070,  ...,  -64516.3828,\n",
       "              -7848.1191,  -71419.8672],\n",
       "           [  -6747.7451,  -41341.9648,   53436.4375,  ...,  -87483.4766,\n",
       "             -72584.3438,    6649.8101]]])],\n",
       " 'conti_attr_list': [tensor([-0.1765,  0.0470, -0.2364, -0.4286,  0.0997, -0.1075, -0.1090,  0.4784,\n",
       "          -0.1201,  0.2106,  0.1298,  0.0059, -0.1594,  0.1279,  0.4817, -0.1669,\n",
       "           0.0591, -0.0524,  0.1453,  0.2178,  0.0137]),\n",
       "  tensor([ 0.1530,  0.1624, -0.0148, -0.3530,  0.1403,  0.0859,  0.0906, -0.0734,\n",
       "          -0.1577,  0.6133,  0.0306,  0.1376,  0.1186,  0.0522, -0.5527]),\n",
       "  tensor([ 0.2854,  0.0705, -0.0839,  0.0988, -0.1507, -0.0565,  0.1482, -0.0893,\n",
       "          -0.1408,  0.1634,  0.1382,  0.0219,  0.0424, -0.0630,  0.1835,  0.1004,\n",
       "          -0.4550,  0.2376,  0.0809, -0.0264,  0.0797,  0.2760, -0.0951,  0.1267,\n",
       "          -0.0832, -0.1606, -0.3532, -0.0803, -0.1585, -0.1955, -0.2267, -0.1916,\n",
       "           0.2214, -0.0352,  0.0785, -0.2121]),\n",
       "  tensor([-0.8657,  0.0690, -0.0091,  0.1886, -0.0282, -0.0080, -0.0224,  0.1560,\n",
       "           0.1770,  0.2627,  0.0268, -0.0113, -0.1080, -0.0998,  0.1006,  0.0454,\n",
       "           0.0060,  0.0884, -0.0344,  0.0664]),\n",
       "  tensor([ 0.3211,  0.1527,  0.0216,  0.1530,  0.4553, -0.0942, -0.0131, -0.3128,\n",
       "          -0.4303,  0.0914,  0.2093,  0.3010,  0.2474,  0.3725, -0.0873]),\n",
       "  tensor([ 0.6793, -0.0478,  0.0380,  0.1205,  0.3571,  0.0925,  0.1023,  0.1242,\n",
       "          -0.1985, -0.3636,  0.1671,  0.0147,  0.1154, -0.0573,  0.1638, -0.0934,\n",
       "           0.1023]),\n",
       "  tensor([ 0.0786,  0.1311,  0.0827, -0.0718,  0.0961,  0.1425, -0.0487,  0.0633,\n",
       "          -0.0987,  0.0776,  0.1970,  0.0548,  0.0039,  0.0324, -0.0608, -0.0540,\n",
       "          -0.0388, -0.0669, -0.0414,  0.1583, -0.1352, -0.3857,  0.0490,  0.1431,\n",
       "          -0.1066,  0.0281, -0.0125,  0.0612,  0.0430, -0.1611, -0.0713,  0.0287,\n",
       "           0.1553, -0.1298,  0.0894,  0.2014, -0.3075,  0.0609,  0.1150,  0.0330,\n",
       "          -0.2865, -0.3462, -0.0400]),\n",
       "  tensor([ 8.0031e-02, -2.4770e-01,  1.7825e-01, -1.1955e-01,  1.3476e-01,\n",
       "          -6.2525e-02,  4.7975e-02,  7.6113e-02,  5.9170e-02, -2.5663e-01,\n",
       "           8.7020e-02, -1.2219e-01,  3.8733e-01,  5.1308e-03, -2.9440e-04,\n",
       "           4.3871e-02, -2.2529e-01, -6.5410e-02,  4.3511e-02, -3.2370e-01,\n",
       "           1.0195e-01,  3.2575e-01, -1.0753e-01, -8.9983e-02,  1.0474e-01,\n",
       "          -7.9809e-02,  5.7204e-02,  1.6129e-01,  2.6322e-01, -3.1611e-01,\n",
       "           9.9094e-03, -1.0088e-01, -2.3738e-02, -1.0972e-02,  2.1252e-01,\n",
       "           8.3242e-02]),\n",
       "  tensor([-0.1285,  0.5007,  0.1580,  0.0124,  0.1025,  0.1327,  0.1133, -0.2322,\n",
       "           0.0200, -0.0666, -0.0027, -0.0697, -0.1130,  0.2028,  0.1046, -0.1814,\n",
       "           0.2678,  0.1672,  0.3391,  0.1153,  0.0628, -0.0886, -0.1019,  0.0676,\n",
       "           0.0603, -0.3287, -0.2493,  0.0099,  0.1710, -0.0876]),\n",
       "  tensor([ 0.2612, -0.1791, -0.0860,  0.0341,  0.1472,  0.1182,  0.1307, -0.0324,\n",
       "          -0.0169, -0.0903, -0.1041,  0.0630, -0.2078, -0.2202, -0.3457, -0.2943,\n",
       "          -0.2419,  0.0281,  0.0449,  0.2276,  0.1028,  0.2542,  0.0066,  0.1711,\n",
       "           0.0134,  0.1242,  0.2171,  0.1633, -0.3203,  0.0461,  0.1215, -0.0842,\n",
       "          -0.1596,  0.1786]),\n",
       "  tensor([ 0.0624,  0.4521, -0.3034,  0.2064,  0.2153,  0.2073, -0.0954, -0.2837,\n",
       "           0.2594,  0.3927,  0.3290, -0.1897,  0.1277, -0.1858, -0.0090,  0.4413,\n",
       "          -0.0949]),\n",
       "  tensor([ 0.4973, -0.0181,  0.0817, -0.0977, -0.1983, -0.0571, -0.0327, -0.0756,\n",
       "          -0.0215, -0.0788,  0.1387,  0.1825,  0.2027,  0.1850,  0.0071, -0.0696,\n",
       "           0.1048,  0.0200,  0.1842, -0.0079, -0.2511, -0.0673, -0.1664, -0.1046,\n",
       "           0.0650,  0.0628,  0.2792, -0.0363, -0.1017,  0.2085, -0.2444, -0.0192,\n",
       "          -0.0165, -0.3154, -0.2395]),\n",
       "  tensor([-0.0444, -0.3656,  0.1857,  0.2693, -0.1225,  0.0766,  0.2433, -0.0401,\n",
       "          -0.0564, -0.0247, -0.0618,  0.0227,  0.1624,  0.1808,  0.2870,  0.2421,\n",
       "          -0.0284, -0.3414,  0.0144,  0.1220,  0.2564,  0.0905,  0.2995, -0.0379,\n",
       "          -0.1398,  0.1191,  0.1079,  0.1186,  0.1504, -0.3546, -0.0609,  0.0481]),\n",
       "  tensor([ 0.1032,  0.1683, -0.2250, -0.0223, -0.0853, -0.0584,  0.3179,  0.1751,\n",
       "          -0.2849,  0.0930,  0.3907, -0.1921, -0.0164, -0.3065, -0.0312, -0.0078,\n",
       "           0.0601,  0.0725, -0.1728,  0.1571, -0.2118, -0.0167,  0.1960,  0.1662,\n",
       "           0.0224, -0.2807,  0.1505, -0.1113,  0.1287, -0.3383]),\n",
       "  tensor([ 0.2049,  0.1574,  0.2574, -0.0232, -0.0645,  0.0426,  0.4731, -0.0562,\n",
       "           0.2407,  0.4965,  0.2857,  0.0346, -0.0873,  0.1251,  0.2385, -0.2142,\n",
       "          -0.0043,  0.1470,  0.2523, -0.1136, -0.0429, -0.1185, -0.0426, -0.2561]),\n",
       "  tensor([-0.3740,  0.0564,  0.0920,  0.2770,  0.2223,  0.2251, -0.2592,  0.0580,\n",
       "          -0.2592, -0.3647, -0.1581,  0.1489, -0.2757,  0.0168,  0.0028,  0.0294,\n",
       "           0.3922,  0.2504, -0.1191,  0.0385]),\n",
       "  tensor([ 0.3261,  0.1642, -0.2638,  0.2255, -0.0437,  0.2459,  0.0413,  0.0598,\n",
       "           0.0293,  0.2737, -0.0883,  0.0605,  0.4644,  0.4520, -0.0570]),\n",
       "  tensor([ 0.0561, -0.0219, -0.0338, -0.0395,  0.0216, -0.7702, -0.0932,  0.1073,\n",
       "          -0.2043, -0.1483,  0.1369,  0.4116,  0.3226,  0.2551]),\n",
       "  tensor([-0.3737,  0.2047,  0.0756, -0.0048,  0.4494, -0.2372,  0.0182,  0.0966,\n",
       "           0.0679,  0.1604,  0.3568,  0.1534, -0.1228, -0.1171, -0.2321, -0.2014,\n",
       "          -0.1494,  0.0665, -0.2112]),\n",
       "  tensor([-0.4366,  0.1089,  0.1181, -0.3244, -0.3508,  0.1291, -0.2421,  0.0555,\n",
       "          -0.1105,  0.4577, -0.0388,  0.2317, -0.0144,  0.0746, -0.1854,  0.2155,\n",
       "          -0.0222,  0.3342]),\n",
       "  tensor([-0.1249,  0.4126,  0.3983, -0.3330, -0.0036,  0.3334,  0.1540, -0.2515,\n",
       "          -0.0998, -0.0393, -0.2405,  0.2026,  0.0454,  0.0292, -0.4829]),\n",
       "  tensor([ 0.0297, -0.1223,  0.4667,  0.0095,  0.0339,  0.0398,  0.0088,  0.3388,\n",
       "          -0.3658,  0.1142, -0.0863, -0.4286,  0.2122, -0.0700,  0.1494,  0.0939,\n",
       "           0.2228]),\n",
       "  tensor([ 0.4070,  0.1987,  0.0483,  0.0115, -0.0662,  0.0968, -0.1112,  0.0911,\n",
       "           0.1486, -0.1438, -0.0321,  0.4584, -0.0273, -0.1190,  0.1070, -0.0466,\n",
       "          -0.1858, -0.0784, -0.4608, -0.0419, -0.0866, -0.0191, -0.0009,  0.0956,\n",
       "          -0.0750, -0.5427,  0.0821, -0.3176, -0.0064,  0.2189, -0.0627]),\n",
       "  tensor([-0.4819,  0.4779,  0.2590,  0.0049, -0.2987, -0.1551, -0.3031, -0.0669,\n",
       "           0.1152,  0.0513, -0.0298,  0.4271]),\n",
       "  tensor([ 0.8662, -0.2348, -0.0753,  0.0530, -0.0319, -0.2050, -0.1701, -0.1976,\n",
       "           0.1290, -0.0437,  0.0146, -0.0747,  0.0353, -0.0032,  0.0705, -0.1607,\n",
       "           0.1173, -0.0888]),\n",
       "  tensor([ 0.4081,  0.1163, -0.1309,  0.0324,  0.1560,  0.5250,  0.1579, -0.0513,\n",
       "          -0.1363, -0.1050, -0.1845, -0.0264, -0.1493, -0.1864, -0.1053, -0.0454,\n",
       "          -0.1363,  0.0182,  0.4961, -0.0514,  0.1343, -0.1532, -0.0411,  0.0818,\n",
       "          -0.0765,  0.0226,  0.0209,  0.1700, -0.0793]),\n",
       "  tensor([ 0.2034,  0.0505, -0.0246, -0.0110, -0.1146,  0.2509,  0.0412, -0.2983,\n",
       "           0.1897,  0.2635, -0.2487,  0.3977,  0.2554, -0.0434,  0.2385, -0.1073,\n",
       "          -0.1577,  0.2775, -0.0660,  0.0116, -0.1501,  0.0956,  0.2907,  0.4234]),\n",
       "  tensor([ 0.0347, -0.0285, -0.6031,  0.0721, -0.0732, -0.0471, -0.0915, -0.1226,\n",
       "           0.3525, -0.1161,  0.0495, -0.3201, -0.0460, -0.1850,  0.0954,  0.1381,\n",
       "           0.5422, -0.0643, -0.0884, -0.1842, -0.0118,  0.1296,  0.1324, -0.0404,\n",
       "          -0.0439, -0.1065,  0.0567,  0.1768,  0.1107,  0.0900, -0.1506,  0.1530,\n",
       "          -0.2139]),\n",
       "  tensor([ 0.0139,  0.1228, -0.0072,  0.1043, -0.2330, -0.0899,  0.1164, -0.2223,\n",
       "           0.1930, -0.0498,  0.2236, -0.0493, -0.0542, -0.3389,  0.0984,  0.1082,\n",
       "          -0.4142, -0.1183, -0.1230, -0.0296, -0.0403, -0.1545, -0.0895,  0.2449,\n",
       "           0.0556,  0.3743, -0.0112, -0.0325,  0.2922]),\n",
       "  tensor([-0.0258,  0.0029, -0.1009,  0.1318,  0.2975, -0.1553, -0.3314, -0.0163,\n",
       "          -0.1074, -0.0456, -0.0992,  0.0858, -0.0514,  0.0011,  0.1738,  0.1205,\n",
       "          -0.0448,  0.0496, -0.0468,  0.1148, -0.0932, -0.0969,  0.1376,  0.0782,\n",
       "          -0.0166,  0.3440,  0.2650,  0.1106, -0.4101,  0.2137,  0.1442,  0.1138,\n",
       "           0.1330,  0.1228, -0.0289, -0.0748, -0.0382, -0.1398,  0.1972,  0.0785,\n",
       "           0.0317, -0.0231,  0.1009,  0.0805,  0.0636,  0.1252,  0.2838,  0.1293,\n",
       "           0.1296]),\n",
       "  tensor([ 0.5399, -0.1183,  0.0794, -0.1183,  0.0101, -0.3704,  0.1914, -0.0865,\n",
       "          -0.0880,  0.0561, -0.0024,  0.2530,  0.1819, -0.0048, -0.0610,  0.2346,\n",
       "          -0.2272,  0.5356]),\n",
       "  tensor([-0.1169,  0.1008,  0.2599,  0.0459,  0.0917, -0.0768, -0.1592, -0.2008,\n",
       "           0.1358, -0.1591, -0.1475,  0.1745,  0.1235, -0.2146,  0.0713, -0.2368,\n",
       "           0.0328,  0.1414, -0.0837,  0.0947,  0.1259, -0.0678,  0.0721,  0.1175,\n",
       "           0.0436,  0.1728,  0.0537, -0.0814, -0.2998,  0.0062, -0.1084,  0.2924,\n",
       "           0.0032,  0.2116, -0.0267,  0.2632,  0.1091,  0.1816, -0.0542, -0.0501,\n",
       "           0.3366,  0.1612]),\n",
       "  tensor([ 0.1685, -0.2112, -0.1242,  0.2202, -0.2185,  0.2379,  0.2221,  0.2806,\n",
       "          -0.0691, -0.2817, -0.0099,  0.0905,  0.1935,  0.1457,  0.0530, -0.0342,\n",
       "          -0.0348, -0.2136,  0.3395,  0.5769]),\n",
       "  tensor([ 0.0588, -0.1009, -0.2091, -0.1528,  0.0886,  0.0567,  0.0204,  0.2591,\n",
       "           0.0787, -0.0669,  0.0415,  0.0807,  0.0799,  0.0256,  0.0504,  0.3422,\n",
       "          -0.0238, -0.1436, -0.3429, -0.0036,  0.2562, -0.0314, -0.3193, -0.2811,\n",
       "          -0.0278,  0.0023, -0.0009, -0.1137, -0.1571,  0.2201, -0.0115, -0.1511,\n",
       "           0.0271,  0.5779,  0.1617]),\n",
       "  tensor([ 0.0967, -0.0489, -0.5077,  0.4013, -0.0178,  0.3824,  0.1472,  0.0593,\n",
       "           0.0356, -0.0254,  0.0211,  0.0082, -0.0225,  0.0279, -0.1621, -0.1618,\n",
       "           0.2939, -0.0167,  0.1627,  0.0139, -0.0921, -0.3450,  0.0603, -0.2538,\n",
       "          -0.2192]),\n",
       "  tensor([ 0.3892, -0.0253, -0.0811,  0.0611,  0.0025, -0.0622,  0.2438, -0.2106,\n",
       "          -0.1941, -0.0645,  0.0928,  0.3408,  0.2895,  0.0979, -0.0237]),\n",
       "  tensor([ 2.4862e-01, -1.3446e-01,  1.4406e-01, -6.7210e-06, -2.0601e-01,\n",
       "          -2.4122e-02,  1.2776e-01,  9.4501e-03, -1.2893e-01, -1.3463e-01,\n",
       "           2.6677e-02, -7.2249e-02,  2.7302e-01,  1.6624e-01,  1.4390e-01,\n",
       "           1.5106e-01,  7.9935e-02,  2.3706e-01, -1.1461e-01, -4.5015e-01,\n",
       "          -3.6093e-01, -1.1577e-02, -7.0783e-02, -3.5992e-01, -1.2101e-01]),\n",
       "  tensor([ 0.0569, -0.0021,  0.1010,  0.0126,  0.2282,  0.0053, -0.0403,  0.2207,\n",
       "          -0.0641,  0.1601,  0.0191,  0.2361,  0.1584,  0.0403,  0.0684, -0.0928,\n",
       "           0.2316, -0.1589, -0.2069, -0.0926, -0.0836, -0.1621,  0.0124,  0.1574,\n",
       "          -0.1630,  0.0461, -0.1474,  0.0160,  0.2360, -0.0908,  0.0464,  0.0893,\n",
       "           0.2757, -0.0255]),\n",
       "  tensor([-0.0632,  0.2512, -0.1177, -0.0361,  0.0959,  0.1206, -0.0289,  0.0145,\n",
       "           0.0195,  0.3253,  0.1504,  0.0397, -0.0532,  0.2386, -0.0006,  0.0435,\n",
       "          -0.1107, -0.0597, -0.4843,  0.1676,  0.0423, -0.2247,  0.4561, -0.0590,\n",
       "          -0.2095, -0.0505,  0.2316,  0.0626, -0.0314, -0.2038,  0.1606, -0.0311,\n",
       "           0.0537,  0.0673, -0.0298,  0.0090,  0.2700,  0.0402, -0.0814,  0.1018,\n",
       "          -0.1415,  0.1851,  0.0758]),\n",
       "  tensor([ 0.2749,  0.0749,  0.0277, -0.0510, -0.0074,  0.0220,  0.0710,  0.0712,\n",
       "          -0.2365, -0.0519, -0.1951,  0.2374, -0.1265, -0.3211, -0.1474, -0.1560,\n",
       "          -0.2093,  0.1890,  0.0100, -0.3513,  0.0046, -0.1304,  0.2047,  0.0507,\n",
       "           0.1628,  0.0265,  0.1154,  0.0208, -0.1531, -0.1049,  0.2304]),\n",
       "  tensor([ 0.4603,  0.2163,  0.1508, -0.0486, -0.1036, -0.1507, -0.1062, -0.0153,\n",
       "           0.3319,  0.1807,  0.1042, -0.1372, -0.0613,  0.1665,  0.0005,  0.0747,\n",
       "          -0.0195,  0.0288, -0.0470, -0.2125, -0.0990, -0.1759,  0.0461,  0.2143,\n",
       "          -0.1000,  0.2016,  0.1078,  0.0301,  0.1028,  0.0891, -0.1627,  0.3028,\n",
       "           0.0557,  0.2088,  0.0186,  0.0167, -0.1211,  0.0077]),\n",
       "  tensor([-0.0033, -0.3297,  0.2984, -0.0259,  0.0127, -0.2183,  0.0264,  0.1070,\n",
       "          -0.0907,  0.1393, -0.0740, -0.1308,  0.0124,  0.1623, -0.1947,  0.1027,\n",
       "          -0.0184,  0.0776,  0.0192, -0.0809,  0.1864, -0.1486,  0.1452,  0.0008,\n",
       "           0.0759,  0.6349]),\n",
       "  tensor([ 0.2524,  0.0017,  0.1350,  0.0368, -0.0008,  0.1146, -0.2886,  0.0824,\n",
       "          -0.1959, -0.0140,  0.0875, -0.0320,  0.1304, -0.0413, -0.1999,  0.1658,\n",
       "           0.1386,  0.3909, -0.1980,  0.0632, -0.0712, -0.2296, -0.1432, -0.3071,\n",
       "           0.0841,  0.0701,  0.1512, -0.0374, -0.2677, -0.0245, -0.2260,  0.0222,\n",
       "          -0.4019,  0.0032, -0.0588,  0.1516,  0.1820]),\n",
       "  tensor([ 0.4357, -0.1303,  0.3107,  0.1404,  0.1495, -0.2240,  0.2232, -0.3307,\n",
       "           0.3124, -0.5023, -0.0923, -0.2978,  0.0944, -0.0368, -0.0031, -0.0019]),\n",
       "  tensor([ 0.7691,  0.0073,  0.0680, -0.2687, -0.0086,  0.0576, -0.0885, -0.0622,\n",
       "          -0.1017,  0.0939, -0.1908,  0.2475, -0.1316, -0.0331, -0.2056, -0.1400,\n",
       "           0.2665, -0.2791]),\n",
       "  tensor([ 0.6371, -0.0653,  0.0977, -0.0179,  0.0661, -0.0636,  0.1520, -0.3154,\n",
       "           0.1848, -0.0298,  0.1408, -0.0772,  0.1383,  0.0044,  0.1264, -0.0054,\n",
       "          -0.0915, -0.0711, -0.1607, -0.1963, -0.1385,  0.0864, -0.0067, -0.0166,\n",
       "          -0.2433,  0.0222,  0.0901, -0.1306, -0.0808,  0.0034, -0.3213,  0.1408,\n",
       "          -0.0396, -0.0198,  0.2732,  0.0801]),\n",
       "  tensor([ 0.0716, -0.0867, -0.2198,  0.0566, -0.1447,  0.0173,  0.0812, -0.1409,\n",
       "           0.0903,  0.0764,  0.0547, -0.0184,  0.1528,  0.0228,  0.0551, -0.3689,\n",
       "           0.1273,  0.1416, -0.2101,  0.0125, -0.1554, -0.0862, -0.2186,  0.0320,\n",
       "          -0.0027, -0.0241, -0.0323,  0.2137, -0.1088, -0.0267,  0.8532,  0.0887]),\n",
       "  tensor([ 0.1439, -0.1391, -0.0235, -0.2067, -0.3409, -0.0982,  0.2655,  0.1318,\n",
       "          -0.0221,  0.0593,  0.1548,  0.0969,  0.3083, -0.0490, -0.2738,  0.4381,\n",
       "          -0.1529, -0.0288, -0.4598,  0.0860]),\n",
       "  tensor([ 0.1478,  0.1159, -0.0194,  0.0994, -0.0875, -0.1664,  0.1090,  0.2981,\n",
       "           0.2706,  0.2562, -0.1326, -0.1714,  0.1751,  0.1897,  0.1941,  0.0196,\n",
       "           0.0176,  0.0377, -0.0956,  0.1573,  0.2075,  0.1369,  0.0159,  0.0616,\n",
       "           0.0101,  0.1401,  0.0864,  0.0763,  0.1084,  0.1738, -0.0109, -0.0311,\n",
       "           0.0676,  0.1092,  0.3786,  0.0672, -0.1606,  0.0899,  0.0277, -0.0225,\n",
       "          -0.1004, -0.1593,  0.1288, -0.0256, -0.2157, -0.0033, -0.0552, -0.0033,\n",
       "          -0.0039,  0.0645,  0.0081, -0.0181, -0.1640,  0.0770,  0.1734, -0.0664]),\n",
       "  tensor([ 0.7036,  0.0131, -0.0998,  0.2596, -0.2374, -0.2398,  0.2730, -0.1780,\n",
       "          -0.3772, -0.1320, -0.1565,  0.1554,  0.0135,  0.0025])],\n",
       " 'raw_input_list': [['<s>',\n",
       "   'Two',\n",
       "   'dogs',\n",
       "   'are',\n",
       "   'sniffing',\n",
       "   'something',\n",
       "   'in',\n",
       "   'the',\n",
       "   'rocks.',\n",
       "   '</s>',\n",
       "   '</s>',\n",
       "   'Two',\n",
       "   'dogs',\n",
       "   'running',\n",
       "   'down',\n",
       "   'a',\n",
       "   'path',\n",
       "   'in',\n",
       "   'the',\n",
       "   'woods.',\n",
       "   '</s>'],\n",
       "  ['<s>',\n",
       "   'A',\n",
       "   'woman',\n",
       "   'is',\n",
       "   'slicing',\n",
       "   'a',\n",
       "   'potato.',\n",
       "   '</s>',\n",
       "   '</s>',\n",
       "   'A',\n",
       "   'woman',\n",
       "   'is',\n",
       "   'slicing',\n",
       "   'carrot.',\n",
       "   '</s>'],\n",
       "  ['<s>',\n",
       "   'It',\n",
       "   'was',\n",
       "   'before',\n",
       "   'the',\n",
       "   'season',\n",
       "   'began',\n",
       "   'because',\n",
       "   'Amy',\n",
       "   'saw',\n",
       "   'the',\n",
       "   'woman',\n",
       "   'before',\n",
       "   'the',\n",
       "   'Silence',\n",
       "   'took',\n",
       "   'her.',\n",
       "   '</s>',\n",
       "   '</s>',\n",
       "   'The',\n",
       "   'exact',\n",
       "   'timeline',\n",
       "   \"hasn't\",\n",
       "   'been',\n",
       "   'listed',\n",
       "   'yet,',\n",
       "   'but',\n",
       "   'there',\n",
       "   'are',\n",
       "   'a',\n",
       "   'few',\n",
       "   'assumptions',\n",
       "   'we',\n",
       "   'can',\n",
       "   'make.',\n",
       "   '</s>'],\n",
       "  ['<s>',\n",
       "   'Protests',\n",
       "   'for',\n",
       "   'kidnapped',\n",
       "   'girls',\n",
       "   'banned',\n",
       "   'in',\n",
       "   'Nigerian',\n",
       "   'capital',\n",
       "   '</s>',\n",
       "   '</s>',\n",
       "   'Scores',\n",
       "   \"'killed'\",\n",
       "   'in',\n",
       "   'Boko',\n",
       "   'Haram',\n",
       "   'raid',\n",
       "   'in',\n",
       "   'Nigeria',\n",
       "   '</s>'],\n",
       "  ['<s>',\n",
       "   'Oil',\n",
       "   'falls',\n",
       "   'in',\n",
       "   'Asian',\n",
       "   'trade',\n",
       "   '</s>',\n",
       "   '</s>',\n",
       "   'Oil',\n",
       "   'prices',\n",
       "   'down',\n",
       "   'in',\n",
       "   'Asian',\n",
       "   'trade',\n",
       "   '</s>'],\n",
       "  ['<s>',\n",
       "   'There',\n",
       "   'are',\n",
       "   'people',\n",
       "   'out',\n",
       "   'on',\n",
       "   'the',\n",
       "   'street.',\n",
       "   '</s>',\n",
       "   '</s>',\n",
       "   'People',\n",
       "   'are',\n",
       "   'out',\n",
       "   'on',\n",
       "   'the',\n",
       "   'street.',\n",
       "   '</s>'],\n",
       "  ['<s>',\n",
       "   'Here',\n",
       "   'are',\n",
       "   'many',\n",
       "   'samples:',\n",
       "   'Pbase.com',\n",
       "   'Out',\n",
       "   'of',\n",
       "   'the',\n",
       "   '16k',\n",
       "   'photos',\n",
       "   'there,',\n",
       "   \"I'm\",\n",
       "   'sure',\n",
       "   'some',\n",
       "   'are',\n",
       "   'with',\n",
       "   'a',\n",
       "   'd700.',\n",
       "   '</s>',\n",
       "   '</s>',\n",
       "   \"It's\",\n",
       "   'a',\n",
       "   '1:1',\n",
       "   'lens,',\n",
       "   'so',\n",
       "   'that',\n",
       "   'means',\n",
       "   'that',\n",
       "   'the',\n",
       "   'size',\n",
       "   'of',\n",
       "   'the',\n",
       "   'subject',\n",
       "   'will',\n",
       "   'be',\n",
       "   'the',\n",
       "   'same',\n",
       "   'size',\n",
       "   'on',\n",
       "   'the',\n",
       "   'sensor.',\n",
       "   '</s>'],\n",
       "  ['<s>',\n",
       "   'The',\n",
       "   'University',\n",
       "   'constituencies',\n",
       "   'are',\n",
       "   'modelled',\n",
       "   'on',\n",
       "   'the',\n",
       "   'University',\n",
       "   'constituencies',\n",
       "   'in',\n",
       "   'use',\n",
       "   'in',\n",
       "   'Britain',\n",
       "   'in',\n",
       "   '1922',\n",
       "   'when',\n",
       "   'Ireland',\n",
       "   'became',\n",
       "   'independent.',\n",
       "   '</s>',\n",
       "   '</s>',\n",
       "   'This',\n",
       "   'is',\n",
       "   'still',\n",
       "   'a',\n",
       "   'representational',\n",
       "   'form',\n",
       "   'of',\n",
       "   \"gov't,\",\n",
       "   'but',\n",
       "   'with',\n",
       "   'a',\n",
       "   'unique',\n",
       "   'twist.',\n",
       "   '</s>'],\n",
       "  ['<s>',\n",
       "   'One',\n",
       "   'Asian',\n",
       "   'and',\n",
       "   'one',\n",
       "   'occasion',\n",
       "   'woman',\n",
       "   'in',\n",
       "   'glasses',\n",
       "   'smiling',\n",
       "   'with',\n",
       "   'their',\n",
       "   'thumbs',\n",
       "   'up.',\n",
       "   '</s>',\n",
       "   '</s>',\n",
       "   'Two',\n",
       "   'women',\n",
       "   'are',\n",
       "   'posing',\n",
       "   'for',\n",
       "   'the',\n",
       "   'camera',\n",
       "   'and',\n",
       "   'giving',\n",
       "   'the',\n",
       "   'thumbs',\n",
       "   'up',\n",
       "   'sign.',\n",
       "   '</s>'],\n",
       "  ['<s>',\n",
       "   'Three',\n",
       "   'guys',\n",
       "   'in',\n",
       "   'speedos',\n",
       "   'have',\n",
       "   'their',\n",
       "   'feet',\n",
       "   'up',\n",
       "   'on',\n",
       "   'the',\n",
       "   'railing',\n",
       "   'of',\n",
       "   'a',\n",
       "   'boat',\n",
       "   'getting',\n",
       "   'a',\n",
       "   'tan.',\n",
       "   '</s>',\n",
       "   '</s>',\n",
       "   'A',\n",
       "   'few',\n",
       "   'men',\n",
       "   'on',\n",
       "   'the',\n",
       "   'deck',\n",
       "   'are',\n",
       "   'dropping',\n",
       "   'another',\n",
       "   'man',\n",
       "   'into',\n",
       "   'the',\n",
       "   'water',\n",
       "   '</s>'],\n",
       "  ['<s>',\n",
       "   'Cardinals',\n",
       "   'enter',\n",
       "   'Vatican',\n",
       "   'for',\n",
       "   'historic',\n",
       "   'vote',\n",
       "   '</s>',\n",
       "   '</s>',\n",
       "   'Cardinals',\n",
       "   'enter',\n",
       "   'Sistine',\n",
       "   'Chapel',\n",
       "   'to',\n",
       "   'elect',\n",
       "   'pope',\n",
       "   '</s>'],\n",
       "  ['<s>',\n",
       "   'According',\n",
       "   'to',\n",
       "   'this',\n",
       "   'website',\n",
       "   'the',\n",
       "   'peak',\n",
       "   'visible',\n",
       "   'magnitude',\n",
       "   'will',\n",
       "   'be',\n",
       "   'about',\n",
       "   '10.5',\n",
       "   'around',\n",
       "   'February',\n",
       "   '2nd.',\n",
       "   '</s>',\n",
       "   '</s>',\n",
       "   'The',\n",
       "   'AAVSO',\n",
       "   'data',\n",
       "   'seems',\n",
       "   'to',\n",
       "   'indicate',\n",
       "   'that',\n",
       "   'it',\n",
       "   'might',\n",
       "   'have',\n",
       "   'already',\n",
       "   'peaked,',\n",
       "   'at',\n",
       "   'around',\n",
       "   '10.5',\n",
       "   '(visual).',\n",
       "   '</s>'],\n",
       "  ['<s>',\n",
       "   'Is',\n",
       "   'it',\n",
       "   'possible',\n",
       "   'for',\n",
       "   'a',\n",
       "   'match',\n",
       "   'to',\n",
       "   'get',\n",
       "   'tie',\n",
       "   'even',\n",
       "   'after',\n",
       "   'applying',\n",
       "   'D/L',\n",
       "   'method?',\n",
       "   '</s>',\n",
       "   '</s>',\n",
       "   'Yes,',\n",
       "   \"it's\",\n",
       "   'possible',\n",
       "   'for',\n",
       "   'a',\n",
       "   'match',\n",
       "   'to',\n",
       "   'get',\n",
       "   'tie',\n",
       "   'after',\n",
       "   'applying',\n",
       "   'the',\n",
       "   'D/L',\n",
       "   'method.',\n",
       "   '</s>'],\n",
       "  ['<s>',\n",
       "   'Eclipse',\n",
       "   'Below',\n",
       "   'are',\n",
       "   'list',\n",
       "   'of',\n",
       "   'eclipse',\n",
       "   'shortcuts',\n",
       "   'which',\n",
       "   'I',\n",
       "   'use',\n",
       "   'almost',\n",
       "   'everyday.',\n",
       "   '</s>',\n",
       "   '</s>',\n",
       "   'To',\n",
       "   'train',\n",
       "   'yourself',\n",
       "   'to',\n",
       "   'use',\n",
       "   'keyboard',\n",
       "   'shortcuts,',\n",
       "   'unplug',\n",
       "   'your',\n",
       "   'mouse',\n",
       "   'for',\n",
       "   'a',\n",
       "   'few',\n",
       "   'days.',\n",
       "   '</s>'],\n",
       "  ['<s>',\n",
       "   'A',\n",
       "   'woman',\n",
       "   'and',\n",
       "   'child',\n",
       "   'push',\n",
       "   'strollers',\n",
       "   'down',\n",
       "   'the',\n",
       "   'sidewalk.',\n",
       "   '</s>',\n",
       "   '</s>',\n",
       "   'A',\n",
       "   'women',\n",
       "   'and',\n",
       "   'a',\n",
       "   'young',\n",
       "   'girl',\n",
       "   'walking',\n",
       "   'pushchairs',\n",
       "   'along',\n",
       "   'the',\n",
       "   'sidewalk.',\n",
       "   '</s>'],\n",
       "  ['<s>',\n",
       "   'ICC',\n",
       "   'lawyer',\n",
       "   'detained',\n",
       "   'in',\n",
       "   'Libya',\n",
       "   'on',\n",
       "   'security',\n",
       "   'concerns',\n",
       "   '</s>',\n",
       "   '</s>',\n",
       "   'ICC',\n",
       "   'lawyer',\n",
       "   'held',\n",
       "   'in',\n",
       "   'Libya',\n",
       "   'faces',\n",
       "   '45-day',\n",
       "   'detention',\n",
       "   '</s>'],\n",
       "  ['<s>',\n",
       "   'The',\n",
       "   'flag',\n",
       "   'was',\n",
       "   'moving',\n",
       "   'in',\n",
       "   'the',\n",
       "   'air.',\n",
       "   '</s>',\n",
       "   '</s>',\n",
       "   'A',\n",
       "   'flag',\n",
       "   'is',\n",
       "   'waving.',\n",
       "   '</s>'],\n",
       "  ['<s>',\n",
       "   'A',\n",
       "   'woman',\n",
       "   'is',\n",
       "   'cutting',\n",
       "   'broccoli.',\n",
       "   '</s>',\n",
       "   '</s>',\n",
       "   'A',\n",
       "   'woman',\n",
       "   'is',\n",
       "   'slicing',\n",
       "   'broccoli.',\n",
       "   '</s>'],\n",
       "  ['<s>',\n",
       "   'Iran',\n",
       "   'warns',\n",
       "   'Moscow',\n",
       "   'nuclear',\n",
       "   'talks',\n",
       "   'could',\n",
       "   'stall',\n",
       "   '</s>',\n",
       "   '</s>',\n",
       "   'Iranians',\n",
       "   'âĢ',\n",
       "   'ľconfessâĢ',\n",
       "   'Ŀ',\n",
       "   'to',\n",
       "   'nuclear',\n",
       "   'scientist',\n",
       "   'murders',\n",
       "   '</s>'],\n",
       "  ['<s>',\n",
       "   'Syria',\n",
       "   'agrees',\n",
       "   'to',\n",
       "   'surrender',\n",
       "   'chemical',\n",
       "   'weapons',\n",
       "   '</s>',\n",
       "   '</s>',\n",
       "   'Syria',\n",
       "   'FM:',\n",
       "   'We',\n",
       "   'will',\n",
       "   'stop',\n",
       "   'producing',\n",
       "   'chemical',\n",
       "   'weapons',\n",
       "   '</s>'],\n",
       "  ['<s>',\n",
       "   'Chinese',\n",
       "   'shares',\n",
       "   'close',\n",
       "   'lower',\n",
       "   'on',\n",
       "   'Wednesday',\n",
       "   '</s>',\n",
       "   '</s>',\n",
       "   'Chinese',\n",
       "   'students',\n",
       "   'attacked',\n",
       "   'in',\n",
       "   'France',\n",
       "   '</s>'],\n",
       "  ['<s>',\n",
       "   'Protests',\n",
       "   'after',\n",
       "   'George',\n",
       "   'Zimmerman',\n",
       "   'acquitted',\n",
       "   'in',\n",
       "   'Trayvon',\n",
       "   'Martin',\n",
       "   'case',\n",
       "   '</s>',\n",
       "   '</s>',\n",
       "   'Zimmerman',\n",
       "   'acquitted',\n",
       "   'in',\n",
       "   'slaying',\n",
       "   '</s>'],\n",
       "  ['<s>',\n",
       "   'The',\n",
       "   'answer',\n",
       "   'will',\n",
       "   'depend',\n",
       "   'significantly',\n",
       "   'on',\n",
       "   'what',\n",
       "   'country',\n",
       "   \"you're\",\n",
       "   'traveling',\n",
       "   'to.',\n",
       "   '</s>',\n",
       "   '</s>',\n",
       "   'As',\n",
       "   'someone',\n",
       "   'who',\n",
       "   'has',\n",
       "   'always',\n",
       "   'travelled',\n",
       "   'with',\n",
       "   'a',\n",
       "   'lot',\n",
       "   'of',\n",
       "   'prescription',\n",
       "   'medication,',\n",
       "   'I',\n",
       "   'always',\n",
       "   'declare',\n",
       "   'it.',\n",
       "   '</s>'],\n",
       "  ['<s>',\n",
       "   'A',\n",
       "   'man',\n",
       "   'is',\n",
       "   'running.',\n",
       "   '</s>',\n",
       "   '</s>',\n",
       "   'A',\n",
       "   'man',\n",
       "   'is',\n",
       "   'singing.',\n",
       "   '</s>'],\n",
       "  ['<s>',\n",
       "   'Egyptian',\n",
       "   'president',\n",
       "   'moves',\n",
       "   'into',\n",
       "   \"Mubarak's\",\n",
       "   'old',\n",
       "   'office',\n",
       "   '</s>',\n",
       "   '</s>',\n",
       "   \"Egypt's\",\n",
       "   'President-Elect',\n",
       "   'Morsi',\n",
       "   'Starts',\n",
       "   'to',\n",
       "   'Form',\n",
       "   'Government',\n",
       "   '</s>'],\n",
       "  ['<s>',\n",
       "   'The',\n",
       "   'dog',\n",
       "   'could',\n",
       "   'not',\n",
       "   'figure',\n",
       "   'out',\n",
       "   'how',\n",
       "   'to',\n",
       "   'get',\n",
       "   'a',\n",
       "   'stick',\n",
       "   'out',\n",
       "   'the',\n",
       "   'doggy',\n",
       "   'door.',\n",
       "   '</s>',\n",
       "   '</s>',\n",
       "   'A',\n",
       "   'dog',\n",
       "   'is',\n",
       "   'trying',\n",
       "   'to',\n",
       "   'get',\n",
       "   'through',\n",
       "   'his',\n",
       "   'dog',\n",
       "   'door.',\n",
       "   '</s>'],\n",
       "  ['<s>',\n",
       "   'The',\n",
       "   'white',\n",
       "   'and',\n",
       "   'brown',\n",
       "   'dog',\n",
       "   'is',\n",
       "   'running',\n",
       "   'quickly',\n",
       "   'through',\n",
       "   'the',\n",
       "   'grass.',\n",
       "   '</s>',\n",
       "   '</s>',\n",
       "   'The',\n",
       "   'big',\n",
       "   'white',\n",
       "   'dog',\n",
       "   'is',\n",
       "   'running',\n",
       "   'in',\n",
       "   'the',\n",
       "   'grass.',\n",
       "   '</s>'],\n",
       "  ['<s>',\n",
       "   'In',\n",
       "   'Hinduism',\n",
       "   'and',\n",
       "   'Buddhism',\n",
       "   'there',\n",
       "   'is',\n",
       "   'message',\n",
       "   'of',\n",
       "   'peace',\n",
       "   'and',\n",
       "   'an',\n",
       "   'encouragement',\n",
       "   'to',\n",
       "   'not',\n",
       "   'be',\n",
       "   'materialistic.',\n",
       "   '</s>',\n",
       "   '</s>',\n",
       "   'This',\n",
       "   'relates',\n",
       "   'to',\n",
       "   'the',\n",
       "   '\"discovery\"',\n",
       "   'of',\n",
       "   'Asian,',\n",
       "   'and',\n",
       "   'other',\n",
       "   'non-European',\n",
       "   'cultures',\n",
       "   'by',\n",
       "   'Americans.',\n",
       "   '</s>'],\n",
       "  ['<s>',\n",
       "   'To',\n",
       "   'play',\n",
       "   'golf,',\n",
       "   'the',\n",
       "   'first',\n",
       "   'thing',\n",
       "   'you',\n",
       "   'need',\n",
       "   'is',\n",
       "   'a',\n",
       "   'set',\n",
       "   'of',\n",
       "   'clubs.',\n",
       "   '</s>',\n",
       "   '</s>',\n",
       "   'Having',\n",
       "   'fairly',\n",
       "   'recently',\n",
       "   'taken',\n",
       "   'up',\n",
       "   'the',\n",
       "   'sport',\n",
       "   'myself,',\n",
       "   'I',\n",
       "   'feel',\n",
       "   'your',\n",
       "   'discomfort.',\n",
       "   '</s>'],\n",
       "  ['<s>',\n",
       "   'The',\n",
       "   'companies,',\n",
       "   'Chiron',\n",
       "   'and',\n",
       "   'Aventis',\n",
       "   'Pasteur,',\n",
       "   'together',\n",
       "   'made',\n",
       "   'about',\n",
       "   '80',\n",
       "   'million',\n",
       "   'doses',\n",
       "   'of',\n",
       "   'the',\n",
       "   'injected',\n",
       "   'vaccine,',\n",
       "   'which',\n",
       "   'ordinarily',\n",
       "   'would',\n",
       "   'have',\n",
       "   'been',\n",
       "   'enough',\n",
       "   'to',\n",
       "   'meet',\n",
       "   'U.S.',\n",
       "   'demand.',\n",
       "   '</s>',\n",
       "   '</s>',\n",
       "   'Chiron',\n",
       "   'and',\n",
       "   'Aventis',\n",
       "   'Pasteur',\n",
       "   'together',\n",
       "   'made',\n",
       "   'about',\n",
       "   '80',\n",
       "   'million',\n",
       "   'doses,',\n",
       "   'ordinarily',\n",
       "   'enough',\n",
       "   'for',\n",
       "   'U.S.',\n",
       "   'demand,',\n",
       "   'The',\n",
       "   'Associated',\n",
       "   'Press',\n",
       "   'reported.',\n",
       "   '</s>'],\n",
       "  ['<s>',\n",
       "   'A',\n",
       "   'woman',\n",
       "   'jumps',\n",
       "   'and',\n",
       "   'poses',\n",
       "   'for',\n",
       "   'the',\n",
       "   'camera.',\n",
       "   '</s>',\n",
       "   '</s>',\n",
       "   'A',\n",
       "   'woman',\n",
       "   'poses',\n",
       "   'for',\n",
       "   'the',\n",
       "   'camera.',\n",
       "   '</s>'],\n",
       "  ['<s>',\n",
       "   'He',\n",
       "   'claims',\n",
       "   'it',\n",
       "   'may',\n",
       "   'seem',\n",
       "   'unrealistic',\n",
       "   'only',\n",
       "   'because',\n",
       "   'little',\n",
       "   'effort',\n",
       "   'has',\n",
       "   'been',\n",
       "   'devoted',\n",
       "   'to',\n",
       "   'the',\n",
       "   'concept.',\n",
       "   '</s>',\n",
       "   '</s>',\n",
       "   '\"This',\n",
       "   'proposal',\n",
       "   'is',\n",
       "   'modest',\n",
       "   'compared',\n",
       "   'with',\n",
       "   'the',\n",
       "   'space',\n",
       "   'programme,',\n",
       "   'and',\n",
       "   'may',\n",
       "   'seem',\n",
       "   'unrealistic',\n",
       "   'only',\n",
       "   'because',\n",
       "   'little',\n",
       "   'effort',\n",
       "   'has',\n",
       "   'been',\n",
       "   'devoted',\n",
       "   'to',\n",
       "   'it.',\n",
       "   '</s>'],\n",
       "  ['<s>',\n",
       "   'A',\n",
       "   'bird',\n",
       "   'eating',\n",
       "   'from',\n",
       "   'a',\n",
       "   'bird',\n",
       "   'feeder.',\n",
       "   '</s>',\n",
       "   '</s>',\n",
       "   'A',\n",
       "   'yellow',\n",
       "   'bird',\n",
       "   'eating',\n",
       "   'fruit',\n",
       "   'on',\n",
       "   'a',\n",
       "   'bird',\n",
       "   'feeder.',\n",
       "   '</s>'],\n",
       "  ['<s>',\n",
       "   'Different',\n",
       "   'parts',\n",
       "   'of',\n",
       "   'California',\n",
       "   'have',\n",
       "   'different',\n",
       "   'wildlife,',\n",
       "   'so',\n",
       "   'you',\n",
       "   'should',\n",
       "   'probably',\n",
       "   'narrow',\n",
       "   'the',\n",
       "   'region.',\n",
       "   '</s>',\n",
       "   '</s>',\n",
       "   'American',\n",
       "   'black',\n",
       "   'bears',\n",
       "   'They',\n",
       "   'are',\n",
       "   'somewhat',\n",
       "   'common',\n",
       "   'in',\n",
       "   'some',\n",
       "   'wilderness',\n",
       "   'areas',\n",
       "   'of',\n",
       "   'California,',\n",
       "   'mostly',\n",
       "   'in',\n",
       "   'the',\n",
       "   'mountains.',\n",
       "   '</s>'],\n",
       "  ['<s>',\n",
       "   'I',\n",
       "   'am',\n",
       "   'not',\n",
       "   'aware',\n",
       "   'of',\n",
       "   'any',\n",
       "   'university',\n",
       "   'run',\n",
       "   'participant',\n",
       "   'pools.',\n",
       "   '</s>',\n",
       "   '</s>',\n",
       "   'At',\n",
       "   'the',\n",
       "   'universities',\n",
       "   \"I've\",\n",
       "   'worked',\n",
       "   'in',\n",
       "   'North',\n",
       "   'America,',\n",
       "   'human-subject',\n",
       "   'studies',\n",
       "   '(esp.',\n",
       "   '</s>'],\n",
       "  ['<s>',\n",
       "   'A',\n",
       "   'girl',\n",
       "   'is',\n",
       "   'riding',\n",
       "   'a',\n",
       "   'horse.',\n",
       "   '</s>',\n",
       "   '</s>',\n",
       "   'The',\n",
       "   'girl',\n",
       "   'trotted',\n",
       "   'the',\n",
       "   'horse.',\n",
       "   '</s>'],\n",
       "  ['<s>',\n",
       "   'There',\n",
       "   'are',\n",
       "   'four',\n",
       "   'snowboarders',\n",
       "   'going',\n",
       "   'off',\n",
       "   'a',\n",
       "   'jump',\n",
       "   'and',\n",
       "   'that',\n",
       "   'are',\n",
       "   'in',\n",
       "   'the',\n",
       "   'air.',\n",
       "   '</s>',\n",
       "   '</s>',\n",
       "   'Two',\n",
       "   'racers',\n",
       "   'are',\n",
       "   'coming',\n",
       "   'to',\n",
       "   'a',\n",
       "   'turn.',\n",
       "   '</s>'],\n",
       "  ['<s>',\n",
       "   'The',\n",
       "   '30-year',\n",
       "   'bond',\n",
       "   'US30YT=RR',\n",
       "   'dipped',\n",
       "   '14/32',\n",
       "   'for',\n",
       "   'a',\n",
       "   'yield',\n",
       "   'of',\n",
       "   '4.26',\n",
       "   'percent',\n",
       "   'from',\n",
       "   '4.23',\n",
       "   'percent.',\n",
       "   '</s>',\n",
       "   '</s>',\n",
       "   'The',\n",
       "   '30-year',\n",
       "   'bond',\n",
       "   'US30YT=RR',\n",
       "   'lost',\n",
       "   '16/32,',\n",
       "   'taking',\n",
       "   'its',\n",
       "   'yield',\n",
       "   'to',\n",
       "   '4.20',\n",
       "   'percent',\n",
       "   'from',\n",
       "   '4.18',\n",
       "   'percent.',\n",
       "   '</s>'],\n",
       "  ['<s>',\n",
       "   'Federal',\n",
       "   'DOMA',\n",
       "   'does',\n",
       "   'not',\n",
       "   'test',\n",
       "   'the',\n",
       "   'full',\n",
       "   'faith',\n",
       "   'and',\n",
       "   'credit',\n",
       "   'clause',\n",
       "   'so',\n",
       "   'much',\n",
       "   'as',\n",
       "   'the',\n",
       "   '9th',\n",
       "   'and',\n",
       "   '10th',\n",
       "   'Amendments',\n",
       "   'to',\n",
       "   'the',\n",
       "   'Constitution.',\n",
       "   '</s>',\n",
       "   '</s>',\n",
       "   'DOMA',\n",
       "   'as',\n",
       "   'a',\n",
       "   'congressional',\n",
       "   'statute',\n",
       "   'could',\n",
       "   'not',\n",
       "   'violate',\n",
       "   'the',\n",
       "   'Full',\n",
       "   'Faith',\n",
       "   'and',\n",
       "   'Credit',\n",
       "   'Clause',\n",
       "   'of',\n",
       "   'the',\n",
       "   'Constitution.',\n",
       "   '</s>'],\n",
       "  ['<s>',\n",
       "   'I',\n",
       "   'was',\n",
       "   'invited',\n",
       "   'in',\n",
       "   'to',\n",
       "   'pitch',\n",
       "   'story',\n",
       "   'ideas',\n",
       "   'to',\n",
       "   'Ron',\n",
       "   'Moore',\n",
       "   'at',\n",
       "   'ST:TNG.',\n",
       "   '</s>',\n",
       "   '</s>',\n",
       "   \"It's\",\n",
       "   'obviously',\n",
       "   'possible',\n",
       "   'for',\n",
       "   'it',\n",
       "   'to',\n",
       "   'leave',\n",
       "   'the',\n",
       "   'field',\n",
       "   'without',\n",
       "   'harm',\n",
       "   '-',\n",
       "   'it',\n",
       "   'occurred.',\n",
       "   '</s>'],\n",
       "  ['<s>',\n",
       "   'INTEL',\n",
       "   'TODAY',\n",
       "   'disclosed',\n",
       "   'details',\n",
       "   'of',\n",
       "   'its',\n",
       "   'next-generation',\n",
       "   'XScale',\n",
       "   'processor',\n",
       "   'for',\n",
       "   'mobile',\n",
       "   'phones',\n",
       "   'and',\n",
       "   'handheld',\n",
       "   'devices',\n",
       "   'here',\n",
       "   'in',\n",
       "   'San',\n",
       "   'Jose.',\n",
       "   '</s>',\n",
       "   '</s>',\n",
       "   'Intel',\n",
       "   'on',\n",
       "   'Wednesday',\n",
       "   'unveiled',\n",
       "   'its',\n",
       "   'next-generation',\n",
       "   'processor',\n",
       "   'for',\n",
       "   'cell',\n",
       "   'phones,',\n",
       "   'PDAs,',\n",
       "   'and',\n",
       "   'other',\n",
       "   'wireless',\n",
       "   'devices.',\n",
       "   '</s>'],\n",
       "  ['<s>',\n",
       "   'Like',\n",
       "   'Chris',\n",
       "   'said',\n",
       "   'above,',\n",
       "   'stars',\n",
       "   'rotate',\n",
       "   'to',\n",
       "   'conserve',\n",
       "   'their',\n",
       "   'angular',\n",
       "   'momentum.',\n",
       "   '</s>',\n",
       "   '</s>',\n",
       "   'Stars',\n",
       "   'are',\n",
       "   'rotating,',\n",
       "   'but',\n",
       "   \"that's\",\n",
       "   'not',\n",
       "   'the',\n",
       "   'cause',\n",
       "   'for',\n",
       "   'their',\n",
       "   'stability.',\n",
       "   '</s>'],\n",
       "  ['<s>',\n",
       "   'A',\n",
       "   'lady',\n",
       "   'with',\n",
       "   'a',\n",
       "   'yellow',\n",
       "   'outfit',\n",
       "   'is',\n",
       "   'in',\n",
       "   'the',\n",
       "   'air',\n",
       "   'above',\n",
       "   'the',\n",
       "   'bed',\n",
       "   'in',\n",
       "   'a',\n",
       "   'yellow',\n",
       "   'room.',\n",
       "   '</s>',\n",
       "   '</s>',\n",
       "   'A',\n",
       "   'dog',\n",
       "   'with',\n",
       "   'a',\n",
       "   'red',\n",
       "   'leash',\n",
       "   'still',\n",
       "   'attached',\n",
       "   'chases',\n",
       "   'over',\n",
       "   'the',\n",
       "   'grass',\n",
       "   'toward',\n",
       "   'a',\n",
       "   'tennis',\n",
       "   'ball.',\n",
       "   '</s>'],\n",
       "  ['<s>',\n",
       "   'A',\n",
       "   'woman',\n",
       "   'is',\n",
       "   'adding',\n",
       "   'oil',\n",
       "   'on',\n",
       "   'fishes.',\n",
       "   '</s>',\n",
       "   '</s>',\n",
       "   'The',\n",
       "   'woman',\n",
       "   'is',\n",
       "   'cutting',\n",
       "   'potatoes.',\n",
       "   '</s>'],\n",
       "  ['<s>',\n",
       "   'Train',\n",
       "   'going',\n",
       "   'down',\n",
       "   'the',\n",
       "   'tracks.',\n",
       "   '</s>',\n",
       "   '</s>',\n",
       "   'A',\n",
       "   'black',\n",
       "   'steam',\n",
       "   'train',\n",
       "   'traveling',\n",
       "   'on',\n",
       "   'the',\n",
       "   'railroad',\n",
       "   'tracks.',\n",
       "   '</s>'],\n",
       "  ['<s>',\n",
       "   'According',\n",
       "   'to',\n",
       "   'Shia',\n",
       "   'Muslims',\n",
       "   'specially',\n",
       "   'Iran',\n",
       "   'state',\n",
       "   'and',\n",
       "   'Hezbollah',\n",
       "   'a',\n",
       "   'country',\n",
       "   'called',\n",
       "   'Israel',\n",
       "   'does',\n",
       "   'not',\n",
       "   'exist.',\n",
       "   '</s>',\n",
       "   '</s>',\n",
       "   'As',\n",
       "   'with',\n",
       "   'the',\n",
       "   'definition',\n",
       "   'of',\n",
       "   'Palestine,',\n",
       "   'the',\n",
       "   'definition',\n",
       "   'of',\n",
       "   'Israel',\n",
       "   'varies',\n",
       "   'depending',\n",
       "   'on',\n",
       "   'whom',\n",
       "   'you',\n",
       "   'ask.',\n",
       "   '</s>'],\n",
       "  ['<s>',\n",
       "   'Absolute',\n",
       "   'majority',\n",
       "   'always',\n",
       "   'defined',\n",
       "   'by',\n",
       "   'the',\n",
       "   'institution,',\n",
       "   'or',\n",
       "   'the',\n",
       "   'context.',\n",
       "   '</s>',\n",
       "   '</s>',\n",
       "   'In',\n",
       "   'countries',\n",
       "   'like',\n",
       "   'India,',\n",
       "   'when',\n",
       "   'you',\n",
       "   'have',\n",
       "   '2/3',\n",
       "   'of',\n",
       "   'the',\n",
       "   'seats',\n",
       "   'of',\n",
       "   'all',\n",
       "   'parliament,',\n",
       "   'you',\n",
       "   'have',\n",
       "   'absolute',\n",
       "   'majority.',\n",
       "   '</s>'],\n",
       "  ['<s>',\n",
       "   'Two',\n",
       "   'little',\n",
       "   'girls',\n",
       "   'are',\n",
       "   'talking',\n",
       "   'on',\n",
       "   'the',\n",
       "   'phone.',\n",
       "   '</s>',\n",
       "   '</s>',\n",
       "   'A',\n",
       "   'little',\n",
       "   'girl',\n",
       "   'is',\n",
       "   'walking',\n",
       "   'down',\n",
       "   'the',\n",
       "   'street.',\n",
       "   '</s>'],\n",
       "  ['<s>',\n",
       "   'The',\n",
       "   'report',\n",
       "   'shows',\n",
       "   'that',\n",
       "   'drugs',\n",
       "   'sold',\n",
       "   'in',\n",
       "   'Canadian',\n",
       "   'pharmacies',\n",
       "   'are',\n",
       "   'manufactured',\n",
       "   'in',\n",
       "   'facilities',\n",
       "   'approved',\n",
       "   'by',\n",
       "   'Health',\n",
       "   'Canada',\n",
       "   '-',\n",
       "   'the',\n",
       "   \"FDA's\",\n",
       "   'counterpart',\n",
       "   'in',\n",
       "   'Canada.',\n",
       "   '</s>',\n",
       "   '</s>',\n",
       "   'The',\n",
       "   'report',\n",
       "   'shows',\n",
       "   'that',\n",
       "   'drugs',\n",
       "   'sold',\n",
       "   'in',\n",
       "   'Canadian',\n",
       "   'pharmacies',\n",
       "   'are',\n",
       "   'manufactured',\n",
       "   'in',\n",
       "   'facilities',\n",
       "   'approved',\n",
       "   'by',\n",
       "   'Health',\n",
       "   'Canada,',\n",
       "   'which',\n",
       "   'serves',\n",
       "   'a',\n",
       "   'similar',\n",
       "   'role',\n",
       "   'as',\n",
       "   'the',\n",
       "   'FDA',\n",
       "   'for',\n",
       "   'the',\n",
       "   'Canadian',\n",
       "   'government.',\n",
       "   '</s>'],\n",
       "  ['<s>',\n",
       "   'Foreign',\n",
       "   'companies',\n",
       "   'eye',\n",
       "   'new',\n",
       "   \"'opening-up'\",\n",
       "   '</s>',\n",
       "   '</s>',\n",
       "   'More',\n",
       "   'carriers',\n",
       "   'likely',\n",
       "   'in',\n",
       "   'China',\n",
       "   '</s>']]}"
      ]
     },
     "execution_count": 9,
     "metadata": {},
     "output_type": "execute_result"
    }
   ],
   "source": [
    "save_info(idxs, stsb_data_raw, targets, model_out_list, raw_attr_list, conti_attr_list, raw_input_list, fname='kernel_shap_out.pkl')"
   ]
  },
  {
   "cell_type": "code",
   "execution_count": null,
   "id": "939ca5dd",
   "metadata": {},
   "outputs": [],
   "source": []
  }
 ],
 "metadata": {
  "kernelspec": {
   "display_name": "Python 3 (ipykernel)",
   "language": "python",
   "name": "python3"
  },
  "language_info": {
   "codemirror_mode": {
    "name": "ipython",
    "version": 3
   },
   "file_extension": ".py",
   "mimetype": "text/x-python",
   "name": "python",
   "nbconvert_exporter": "python",
   "pygments_lexer": "ipython3",
   "version": "3.9.7"
  }
 },
 "nbformat": 4,
 "nbformat_minor": 5
}
