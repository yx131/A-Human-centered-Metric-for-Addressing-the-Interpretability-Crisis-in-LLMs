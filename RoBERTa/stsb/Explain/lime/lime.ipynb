{
 "cells": [
  {
   "cell_type": "code",
   "execution_count": 1,
   "id": "806fb4a1",
   "metadata": {},
   "outputs": [],
   "source": [
    "import sys, time\n",
    "import torch\n",
    "sys.path.insert(0, '../../Models')\n",
    "sys.path.insert(0, '../../Utils')\n",
    "from _utils import  sample_random_glue_stsb, collect_info_for_metric, save_info, \\\n",
    "                    get_continuation_mapping, get_continuous_attributions, get_continuous_raw_inputs,\\\n",
    "                    attr_normalizing_func\n",
    "from preload_models import get_stsb_tokenizer_n_model"
   ]
  },
  {
   "cell_type": "code",
   "execution_count": 2,
   "id": "6dc5d483",
   "metadata": {},
   "outputs": [
    {
     "name": "stderr",
     "output_type": "stream",
     "text": [
      "Reusing dataset glue (/home/user/.cache/huggingface/datasets/glue/stsb/1.0.0/dacbe3125aa31d7f70367a07a8a9e72a5a0bfeb5fc42e75c9db75b96da6053ad)\n"
     ]
    },
    {
     "data": {
      "application/vnd.jupyter.widget-view+json": {
       "model_id": "f569f0fc2d46422a83cb58be1350fa53",
       "version_major": 2,
       "version_minor": 0
      },
      "text/plain": [
       "  0%|          | 0/3 [00:00<?, ?it/s]"
      ]
     },
     "metadata": {},
     "output_type": "display_data"
    },
    {
     "name": "stdout",
     "output_type": "stream",
     "text": [
      "[ 436  138  931 1462 1491  577  873  899  268  603 1341  648  941  901\n",
      "  335 1306  234  132 1257 1433 1351 1484  977  146 1275  225  396  757\n",
      "  949 1151  605 1041  350  788  626   88  599 1080  882  927 1209  647\n",
      "  486  214  317  895  897   50 1054 1454]\n"
     ]
    }
   ],
   "source": [
    "stsb_data_raw, targets, idxs = sample_random_glue_stsb()"
   ]
  },
  {
   "cell_type": "code",
   "execution_count": 3,
   "id": "7b81fa1b",
   "metadata": {},
   "outputs": [],
   "source": [
    "tokenizer, model = get_stsb_tokenizer_n_model()"
   ]
  },
  {
   "cell_type": "code",
   "execution_count": 4,
   "id": "1f2232ec",
   "metadata": {},
   "outputs": [],
   "source": [
    "#define some containers to save some info\n",
    "model_out_list, raw_attr_list, conti_attr_list, raw_input_list = [], [], [], []"
   ]
  },
  {
   "cell_type": "code",
   "execution_count": 5,
   "id": "ad13b757",
   "metadata": {},
   "outputs": [],
   "source": [
    "from captum.attr import Lime\n",
    "from captum._utils.models.linear_model import SkLearnLasso\n",
    "from captum.attr import visualization "
   ]
  },
  {
   "cell_type": "code",
   "execution_count": 6,
   "id": "6a26c83d",
   "metadata": {},
   "outputs": [],
   "source": [
    "lime = Lime(model, interpretable_model=SkLearnLasso(alpha=0.0003))"
   ]
  },
  {
   "cell_type": "code",
   "execution_count": 7,
   "id": "85598a85",
   "metadata": {},
   "outputs": [],
   "source": [
    "def generate_record(raw_datum, target): #raw_datum expected to be a tuple/list of 2 sentences\n",
    "    #tokenizer operations\n",
    "    tokenized = tokenizer(raw_datum, truncation=True, return_offsets_mapping=True)\n",
    "    offset_mappings = tokenized['offset_mapping']\n",
    "    #concatenate the two offset_mappings together because they are fed in together\n",
    "    conti_map = get_continuation_mapping(offset_mappings[0]) + get_continuation_mapping(offset_mappings[1])\n",
    "    #change the first input_id of the second sentence to be the last input_id of the 1st sentence (i.e. an [END] token))\n",
    "    tokenized_input_ids = tokenized['input_ids'][0] + \\\n",
    "                        [tokenized['input_ids'][1][i] if i != 0 else tokenized['input_ids'][0][-1] \\\n",
    "                         for i in range(len(tokenized['input_ids'][1]))]\n",
    "    input_ids = torch.tensor(tokenized_input_ids).unsqueeze(0)\n",
    "    detokenized = [t.replace('Ġ', '') for t in tokenizer.convert_ids_to_tokens(input_ids[0])]\n",
    "    \n",
    "    #feeding input forward \n",
    "    input_emb = model.get_embeddings(input_ids)\n",
    "    pred_prob = model(input_emb).item()\n",
    "    print(f'pred_prob {pred_prob*5}')\n",
    "\n",
    "     #categorizing results\n",
    "    pred_class = 'Similar' if pred_prob > 0.5 else 'Not Similar' \n",
    "    true_class = 'Similar' if target > 2.5 else 'Not Similar' \n",
    "    \n",
    "    #attribution algorithm working\n",
    "    attri_start_time = time.time()\n",
    "    attribution = lime.attribute(input_emb, n_samples=3000, show_progress=True, perturbations_per_eval=1000)\n",
    "    print(f'attribution took {time.time() - attri_start_time:2f} seconds')\n",
    "    \n",
    "    attribution[torch.isnan(attribution)] = 0\n",
    "    word_attributions = attribution.squeeze(0).sum(dim=1)\n",
    "    word_attributions /= torch.norm(word_attributions)\n",
    "    attr_score = torch.sum(word_attributions)\n",
    "    attr_class = 'Similar' if attr_score > 0.5 else 'Not Similar'\n",
    "    convergence_score = None\n",
    "    \n",
    "    if torch.all(torch.isnan(attr_score)):\n",
    "        print(f'nan attri score')\n",
    "        word_attributions = torch.zeros(word_attributions.size())\n",
    "    \n",
    "#     #re-organizing tensors and arrays because words get split down\n",
    "    conti_attr = get_continuous_attributions(conti_map, word_attributions)\n",
    "    raw_input = get_continuous_raw_inputs(conti_map, detokenized)\n",
    "\n",
    "#     print(f'word attributions {word_attributions}')\n",
    "#     print(f'pred_prob {pred_prob}')\n",
    "#     print(f'pred_class {pred_class}')\n",
    "#     print(f'true_class {true_class}')\n",
    "#     print(f'attribution {attribution}')\n",
    "#     print(f'attr_class {attr_class}')\n",
    "#     print(f'attr_score {attr_score}')\n",
    "#     print(f'raw_input {raw_input}')\n",
    "\n",
    "        \n",
    "#   collect info for metrics later\n",
    "    collect_info_for_metric(model_out_list, pred_prob, raw_attr_list, attribution, conti_attr_list, conti_attr, raw_input_list, raw_input)\n",
    "        \n",
    "    \n",
    "    visual_record = visualization.VisualizationDataRecord(word_attributions=conti_attr,\n",
    "                                                         pred_prob=pred_prob,\n",
    "                                                         pred_class=pred_class,\n",
    "                                                         true_class=true_class,\n",
    "                                                         attr_class=attr_class,\n",
    "                                                         attr_score=attr_score,\n",
    "                                                         raw_input=raw_input,\n",
    "                                                         convergence_score=convergence_score)\n",
    "        \n",
    "        \n",
    "    return visual_record\n",
    "      \n",
    "    "
   ]
  },
  {
   "cell_type": "code",
   "execution_count": 8,
   "id": "b0321c07",
   "metadata": {
    "scrolled": false
   },
   "outputs": [
    {
     "name": "stdout",
     "output_type": "stream",
     "text": [
      "i: 0\n",
      "Raw review: ['Two dogs are sniffing something in the rocks.', 'Two dogs running down a path in the woods.']\n",
      "GT target: 1.600000023841858\n"
     ]
    },
    {
     "name": "stderr",
     "output_type": "stream",
     "text": [
      "/home/user/anaconda3/envs/py38/lib/python3.9/site-packages/captum/attr/_core/lime.py:1088: UserWarning: Attempting to construct interpretable model with > 10000 features.This can be very slow or lead to OOM issues. Please provide a featuremask which groups input features to reduce the number of interpretablefeatures. \n",
      "  warnings.warn(\n"
     ]
    },
    {
     "name": "stdout",
     "output_type": "stream",
     "text": [
      "pred_prob 2.0290477573871613\n"
     ]
    },
    {
     "name": "stderr",
     "output_type": "stream",
     "text": [
      "Lime attribution: 100%|███████████████████████████| 3/3 [01:51<00:00, 37.01s/it]\n"
     ]
    },
    {
     "name": "stdout",
     "output_type": "stream",
     "text": [
      "attribution took 117.434270 seconds\n",
      "before zeroing tensor([[[ 0.0000e+00,  0.0000e+00,  0.0000e+00,  ...,  0.0000e+00,\n",
      "           0.0000e+00,  0.0000e+00],\n",
      "         [ 0.0000e+00,  0.0000e+00,  0.0000e+00,  ...,  0.0000e+00,\n",
      "           0.0000e+00,  0.0000e+00],\n",
      "         [ 0.0000e+00,  0.0000e+00,  1.0192e-04,  ...,  0.0000e+00,\n",
      "           0.0000e+00,  0.0000e+00],\n",
      "         ...,\n",
      "         [-8.6970e-05, -9.8200e-04,  0.0000e+00,  ...,  0.0000e+00,\n",
      "           0.0000e+00,  0.0000e+00],\n",
      "         [ 0.0000e+00,  0.0000e+00,  0.0000e+00,  ..., -2.4136e-04,\n",
      "           0.0000e+00,  0.0000e+00],\n",
      "         [ 0.0000e+00,  0.0000e+00,  0.0000e+00,  ...,  0.0000e+00,\n",
      "           0.0000e+00,  0.0000e+00]]])\n",
      "after zeroing tensor([[[ 0.0000e+00,  0.0000e+00,  0.0000e+00,  ...,  0.0000e+00,\n",
      "           0.0000e+00,  0.0000e+00],\n",
      "         [ 0.0000e+00,  0.0000e+00,  0.0000e+00,  ...,  0.0000e+00,\n",
      "           0.0000e+00,  0.0000e+00],\n",
      "         [ 0.0000e+00,  0.0000e+00,  1.0192e-04,  ...,  0.0000e+00,\n",
      "           0.0000e+00,  0.0000e+00],\n",
      "         ...,\n",
      "         [-8.6970e-05, -9.8200e-04,  0.0000e+00,  ...,  0.0000e+00,\n",
      "           0.0000e+00,  0.0000e+00],\n",
      "         [ 0.0000e+00,  0.0000e+00,  0.0000e+00,  ..., -2.4136e-04,\n",
      "           0.0000e+00,  0.0000e+00],\n",
      "         [ 0.0000e+00,  0.0000e+00,  0.0000e+00,  ...,  0.0000e+00,\n",
      "           0.0000e+00,  0.0000e+00]]])\n",
      "word attr tensor([ 0.1616, -0.0445,  0.0231,  0.1496, -0.0259, -0.0517, -0.2171, -0.2680,\n",
      "        -0.1706, -0.3156,  0.0079,  0.1092,  0.0008,  0.0457, -0.5824, -0.2981,\n",
      "        -0.2035, -0.2626, -0.2483,  0.1077,  0.2076, -0.1497, -0.0685, -0.0456])\n",
      "conti attr [tensor(0.1616), tensor(-0.0445), tensor(0.0231), tensor(0.1496), tensor(-0.0776), tensor(-0.2171), tensor(-0.2680), tensor(-0.1706), tensor(-0.3077), tensor(0.1092), tensor(0.0008), tensor(0.0457), tensor(-0.5824), tensor(-0.2981), tensor(-0.2035), tensor(-0.2626), tensor(-0.2483), tensor(0.1077), tensor(0.2076), tensor(-0.2183), tensor(-0.0456)]\n",
      "detokenized ['<s>', 'Two', 'dogs', 'are', 'sniff', 'ing', 'something', 'in', 'the', 'rocks', '.', '</s>', '</s>', 'Two', 'dogs', 'running', 'down', 'a', 'path', 'in', 'the', 'woods', '.', '</s>']\n",
      "len conti_raw 21\n",
      "conti_raw ['<s>', 'Two', 'dogs', 'are', 'sniffing', 'something', 'in', 'the', 'rocks.', '</s>', '</s>', 'Two', 'dogs', 'running', 'down', 'a', 'path', 'in', 'the', 'woods.', '</s>']\n"
     ]
    },
    {
     "data": {
      "text/html": [
       "<table width: 100%><div style=\"border-top: 1px solid; margin-top: 5px;             padding-top: 5px; display: inline-block\"><b>Legend: </b><span style=\"display: inline-block; width: 10px; height: 10px;                 border: 1px solid; background-color:                 hsl(0, 75%, 60%)\"></span> Negative  <span style=\"display: inline-block; width: 10px; height: 10px;                 border: 1px solid; background-color:                 hsl(0, 75%, 100%)\"></span> Neutral  <span style=\"display: inline-block; width: 10px; height: 10px;                 border: 1px solid; background-color:                 hsl(120, 75%, 50%)\"></span> Positive  </div><tr><th>True Label</th><th>Predicted Label</th><th>Attribution Label</th><th>Attribution Score</th><th>Word Importance</th><tr><td><text style=\"padding-right:2em\"><b>Not Similar</b></text></td><td><text style=\"padding-right:2em\"><b>Not Similar (0.41)</b></text></td><td><text style=\"padding-right:2em\"><b>Not Similar</b></text></td><td><text style=\"padding-right:2em\"><b>-2.14</b></text></td><td><mark style=\"background-color: hsl(120, 75%, 92%); opacity:1.0;                     line-height:1.75\"><font color=\"black\"> #s                    </font></mark><mark style=\"background-color: hsl(0, 75%, 99%); opacity:1.0;                     line-height:1.75\"><font color=\"black\"> Two                    </font></mark><mark style=\"background-color: hsl(120, 75%, 99%); opacity:1.0;                     line-height:1.75\"><font color=\"black\"> dogs                    </font></mark><mark style=\"background-color: hsl(120, 75%, 93%); opacity:1.0;                     line-height:1.75\"><font color=\"black\"> are                    </font></mark><mark style=\"background-color: hsl(0, 75%, 97%); opacity:1.0;                     line-height:1.75\"><font color=\"black\"> sniffing                    </font></mark><mark style=\"background-color: hsl(0, 75%, 92%); opacity:1.0;                     line-height:1.75\"><font color=\"black\"> something                    </font></mark><mark style=\"background-color: hsl(0, 75%, 90%); opacity:1.0;                     line-height:1.75\"><font color=\"black\"> in                    </font></mark><mark style=\"background-color: hsl(0, 75%, 94%); opacity:1.0;                     line-height:1.75\"><font color=\"black\"> the                    </font></mark><mark style=\"background-color: hsl(0, 75%, 88%); opacity:1.0;                     line-height:1.75\"><font color=\"black\"> rocks.                    </font></mark><mark style=\"background-color: hsl(120, 75%, 95%); opacity:1.0;                     line-height:1.75\"><font color=\"black\"> #/s                    </font></mark><mark style=\"background-color: hsl(120, 75%, 100%); opacity:1.0;                     line-height:1.75\"><font color=\"black\"> #/s                    </font></mark><mark style=\"background-color: hsl(120, 75%, 98%); opacity:1.0;                     line-height:1.75\"><font color=\"black\"> Two                    </font></mark><mark style=\"background-color: hsl(0, 75%, 77%); opacity:1.0;                     line-height:1.75\"><font color=\"black\"> dogs                    </font></mark><mark style=\"background-color: hsl(0, 75%, 89%); opacity:1.0;                     line-height:1.75\"><font color=\"black\"> running                    </font></mark><mark style=\"background-color: hsl(0, 75%, 92%); opacity:1.0;                     line-height:1.75\"><font color=\"black\"> down                    </font></mark><mark style=\"background-color: hsl(0, 75%, 90%); opacity:1.0;                     line-height:1.75\"><font color=\"black\"> a                    </font></mark><mark style=\"background-color: hsl(0, 75%, 91%); opacity:1.0;                     line-height:1.75\"><font color=\"black\"> path                    </font></mark><mark style=\"background-color: hsl(120, 75%, 95%); opacity:1.0;                     line-height:1.75\"><font color=\"black\"> in                    </font></mark><mark style=\"background-color: hsl(120, 75%, 90%); opacity:1.0;                     line-height:1.75\"><font color=\"black\"> the                    </font></mark><mark style=\"background-color: hsl(0, 75%, 92%); opacity:1.0;                     line-height:1.75\"><font color=\"black\"> woods.                    </font></mark><mark style=\"background-color: hsl(0, 75%, 99%); opacity:1.0;                     line-height:1.75\"><font color=\"black\"> #/s                    </font></mark></td><tr></table>"
      ],
      "text/plain": [
       "<IPython.core.display.HTML object>"
      ]
     },
     "metadata": {},
     "output_type": "display_data"
    },
    {
     "name": "stderr",
     "output_type": "stream",
     "text": [
      "/home/user/anaconda3/envs/py38/lib/python3.9/site-packages/captum/attr/_core/lime.py:1088: UserWarning: Attempting to construct interpretable model with > 10000 features.This can be very slow or lead to OOM issues. Please provide a featuremask which groups input features to reduce the number of interpretablefeatures. \n",
      "  warnings.warn(\n"
     ]
    },
    {
     "name": "stdout",
     "output_type": "stream",
     "text": [
      "<IPython.core.display.HTML object>\n",
      "i: 1\n",
      "Raw review: ['A woman is slicing a potato.', 'A woman is slicing carrot.']\n",
      "GT target: 2.5\n",
      "pred_prob 2.1180687844753265\n"
     ]
    },
    {
     "name": "stderr",
     "output_type": "stream",
     "text": [
      "Lime attribution: 100%|███████████████████████████| 3/3 [01:14<00:00, 24.79s/it]\n"
     ]
    },
    {
     "name": "stdout",
     "output_type": "stream",
     "text": [
      "attribution took 79.954476 seconds\n",
      "before zeroing tensor([[[0.0000, 0.0000, 0.0000,  ..., 0.0000, 0.0000, 0.0000],\n",
      "         [0.0000, 0.0000, 0.0000,  ..., 0.0000, 0.0004, 0.0000],\n",
      "         [0.0014, 0.0004, 0.0000,  ..., 0.0000, 0.0000, 0.0000],\n",
      "         ...,\n",
      "         [0.0000, 0.0000, 0.0000,  ..., 0.0000, 0.0000, 0.0009],\n",
      "         [0.0000, 0.0000, 0.0000,  ..., 0.0000, 0.0000, 0.0000],\n",
      "         [0.0000, 0.0000, 0.0000,  ..., 0.0000, 0.0000, 0.0000]]])\n",
      "after zeroing tensor([[[0.0000, 0.0000, 0.0000,  ..., 0.0000, 0.0000, 0.0000],\n",
      "         [0.0000, 0.0000, 0.0000,  ..., 0.0000, 0.0004, 0.0000],\n",
      "         [0.0014, 0.0004, 0.0000,  ..., 0.0000, 0.0000, 0.0000],\n",
      "         ...,\n",
      "         [0.0000, 0.0000, 0.0000,  ..., 0.0000, 0.0000, 0.0009],\n",
      "         [0.0000, 0.0000, 0.0000,  ..., 0.0000, 0.0000, 0.0000],\n",
      "         [0.0000, 0.0000, 0.0000,  ..., 0.0000, 0.0000, 0.0000]]])\n",
      "word attr tensor([-2.3604e-01,  1.8754e-01,  1.4407e-01, -2.6136e-01,  7.1774e-01,\n",
      "        -2.4969e-01, -3.1169e-01,  9.4915e-02,  1.0182e-01,  3.4280e-02,\n",
      "        -4.8573e-02, -1.4498e-01,  1.7343e-04,  1.4616e-01, -5.5412e-02,\n",
      "        -5.4668e-02,  2.7211e-01])\n",
      "conti attr [tensor(-0.2360), tensor(0.1875), tensor(0.1441), tensor(-0.2614), tensor(0.7177), tensor(-0.2497), tensor(-0.2168), tensor(0.1018), tensor(0.0343), tensor(-0.0486), tensor(-0.1450), tensor(0.0002), tensor(0.1462), tensor(-0.1101), tensor(0.2721)]\n",
      "detokenized ['<s>', 'A', 'woman', 'is', 'slicing', 'a', 'potato', '.', '</s>', '</s>', 'A', 'woman', 'is', 'slicing', 'carrot', '.', '</s>']\n",
      "len conti_raw 15\n",
      "conti_raw ['<s>', 'A', 'woman', 'is', 'slicing', 'a', 'potato.', '</s>', '</s>', 'A', 'woman', 'is', 'slicing', 'carrot.', '</s>']\n"
     ]
    },
    {
     "data": {
      "text/html": [
       "<table width: 100%><div style=\"border-top: 1px solid; margin-top: 5px;             padding-top: 5px; display: inline-block\"><b>Legend: </b><span style=\"display: inline-block; width: 10px; height: 10px;                 border: 1px solid; background-color:                 hsl(0, 75%, 60%)\"></span> Negative  <span style=\"display: inline-block; width: 10px; height: 10px;                 border: 1px solid; background-color:                 hsl(0, 75%, 100%)\"></span> Neutral  <span style=\"display: inline-block; width: 10px; height: 10px;                 border: 1px solid; background-color:                 hsl(120, 75%, 50%)\"></span> Positive  </div><tr><th>True Label</th><th>Predicted Label</th><th>Attribution Label</th><th>Attribution Score</th><th>Word Importance</th><tr><td><text style=\"padding-right:2em\"><b>Not Similar</b></text></td><td><text style=\"padding-right:2em\"><b>Not Similar (0.42)</b></text></td><td><text style=\"padding-right:2em\"><b>Not Similar</b></text></td><td><text style=\"padding-right:2em\"><b>0.34</b></text></td><td><mark style=\"background-color: hsl(0, 75%, 91%); opacity:1.0;                     line-height:1.75\"><font color=\"black\"> #s                    </font></mark><mark style=\"background-color: hsl(120, 75%, 91%); opacity:1.0;                     line-height:1.75\"><font color=\"black\"> A                    </font></mark><mark style=\"background-color: hsl(120, 75%, 93%); opacity:1.0;                     line-height:1.75\"><font color=\"black\"> woman                    </font></mark><mark style=\"background-color: hsl(0, 75%, 90%); opacity:1.0;                     line-height:1.75\"><font color=\"black\"> is                    </font></mark><mark style=\"background-color: hsl(120, 75%, 65%); opacity:1.0;                     line-height:1.75\"><font color=\"black\"> slicing                    </font></mark><mark style=\"background-color: hsl(0, 75%, 91%); opacity:1.0;                     line-height:1.75\"><font color=\"black\"> a                    </font></mark><mark style=\"background-color: hsl(0, 75%, 92%); opacity:1.0;                     line-height:1.75\"><font color=\"black\"> potato.                    </font></mark><mark style=\"background-color: hsl(120, 75%, 95%); opacity:1.0;                     line-height:1.75\"><font color=\"black\"> #/s                    </font></mark><mark style=\"background-color: hsl(120, 75%, 99%); opacity:1.0;                     line-height:1.75\"><font color=\"black\"> #/s                    </font></mark><mark style=\"background-color: hsl(0, 75%, 99%); opacity:1.0;                     line-height:1.75\"><font color=\"black\"> A                    </font></mark><mark style=\"background-color: hsl(0, 75%, 95%); opacity:1.0;                     line-height:1.75\"><font color=\"black\"> woman                    </font></mark><mark style=\"background-color: hsl(120, 75%, 100%); opacity:1.0;                     line-height:1.75\"><font color=\"black\"> is                    </font></mark><mark style=\"background-color: hsl(120, 75%, 93%); opacity:1.0;                     line-height:1.75\"><font color=\"black\"> slicing                    </font></mark><mark style=\"background-color: hsl(0, 75%, 96%); opacity:1.0;                     line-height:1.75\"><font color=\"black\"> carrot.                    </font></mark><mark style=\"background-color: hsl(120, 75%, 87%); opacity:1.0;                     line-height:1.75\"><font color=\"black\"> #/s                    </font></mark></td><tr></table>"
      ],
      "text/plain": [
       "<IPython.core.display.HTML object>"
      ]
     },
     "metadata": {},
     "output_type": "display_data"
    },
    {
     "name": "stdout",
     "output_type": "stream",
     "text": [
      "<IPython.core.display.HTML object>\n",
      "i: 2\n",
      "Raw review: ['It was before the season began because Amy saw the woman before the Silence took her.', \"The exact timeline hasn't been listed yet, but there are a few assumptions we can make.\"]\n",
      "GT target: 0.20000000298023224\n"
     ]
    },
    {
     "name": "stderr",
     "output_type": "stream",
     "text": [
      "/home/user/anaconda3/envs/py38/lib/python3.9/site-packages/captum/attr/_core/lime.py:1088: UserWarning: Attempting to construct interpretable model with > 10000 features.This can be very slow or lead to OOM issues. Please provide a featuremask which groups input features to reduce the number of interpretablefeatures. \n",
      "  warnings.warn(\n"
     ]
    },
    {
     "name": "stdout",
     "output_type": "stream",
     "text": [
      "pred_prob 0.16538595780730247\n"
     ]
    },
    {
     "name": "stderr",
     "output_type": "stream",
     "text": [
      "Lime attribution: 100%|███████████████████████████| 3/3 [02:51<00:00, 57.23s/it]\n"
     ]
    },
    {
     "name": "stdout",
     "output_type": "stream",
     "text": [
      "attribution took 182.169716 seconds\n",
      "before zeroing tensor([[[0., 0., 0.,  ..., 0., 0., 0.],\n",
      "         [0., 0., 0.,  ..., 0., 0., 0.],\n",
      "         [0., 0., 0.,  ..., 0., 0., 0.],\n",
      "         ...,\n",
      "         [0., 0., 0.,  ..., 0., 0., 0.],\n",
      "         [0., 0., 0.,  ..., 0., 0., 0.],\n",
      "         [0., 0., 0.,  ..., 0., 0., 0.]]])\n",
      "after zeroing tensor([[[0., 0., 0.,  ..., 0., 0., 0.],\n",
      "         [0., 0., 0.,  ..., 0., 0., 0.],\n",
      "         [0., 0., 0.,  ..., 0., 0., 0.],\n",
      "         ...,\n",
      "         [0., 0., 0.,  ..., 0., 0., 0.],\n",
      "         [0., 0., 0.,  ..., 0., 0., 0.],\n",
      "         [0., 0., 0.,  ..., 0., 0., 0.]]])\n",
      "word attr tensor([0., 0., 0., 0., 0., 0., 0., 0., 0., 0., 0., 0., 0., 0., 0., 0., 0., 0.,\n",
      "        0., 0., 0., 0., 1., 0., 0., 0., 0., 0., 0., 0., 0., 0., 0., 0., 0., 0.,\n",
      "        0., 0., 0., 0.])\n",
      "conti attr [tensor(0.), tensor(0.), tensor(0.), tensor(0.), tensor(0.), tensor(0.), tensor(0.), tensor(0.), tensor(0.), tensor(0.), tensor(0.), tensor(0.), tensor(0.), tensor(0.), tensor(0.), tensor(0.), tensor(0.), tensor(0.), tensor(0.), tensor(0.), tensor(0.), tensor(1.), tensor(0.), tensor(0.), tensor(0.), tensor(0.), tensor(0.), tensor(0.), tensor(0.), tensor(0.), tensor(0.), tensor(0.), tensor(0.), tensor(0.), tensor(0.), tensor(0.)]\n",
      "detokenized ['<s>', 'It', 'was', 'before', 'the', 'season', 'began', 'because', 'Amy', 'saw', 'the', 'woman', 'before', 'the', 'Silence', 'took', 'her', '.', '</s>', '</s>', 'The', 'exact', 'timeline', 'hasn', \"'t\", 'been', 'listed', 'yet', ',', 'but', 'there', 'are', 'a', 'few', 'assumptions', 'we', 'can', 'make', '.', '</s>']\n",
      "len conti_raw 36\n",
      "conti_raw ['<s>', 'It', 'was', 'before', 'the', 'season', 'began', 'because', 'Amy', 'saw', 'the', 'woman', 'before', 'the', 'Silence', 'took', 'her.', '</s>', '</s>', 'The', 'exact', 'timeline', \"hasn't\", 'been', 'listed', 'yet,', 'but', 'there', 'are', 'a', 'few', 'assumptions', 'we', 'can', 'make.', '</s>']\n"
     ]
    },
    {
     "data": {
      "text/html": [
       "<table width: 100%><div style=\"border-top: 1px solid; margin-top: 5px;             padding-top: 5px; display: inline-block\"><b>Legend: </b><span style=\"display: inline-block; width: 10px; height: 10px;                 border: 1px solid; background-color:                 hsl(0, 75%, 60%)\"></span> Negative  <span style=\"display: inline-block; width: 10px; height: 10px;                 border: 1px solid; background-color:                 hsl(0, 75%, 100%)\"></span> Neutral  <span style=\"display: inline-block; width: 10px; height: 10px;                 border: 1px solid; background-color:                 hsl(120, 75%, 50%)\"></span> Positive  </div><tr><th>True Label</th><th>Predicted Label</th><th>Attribution Label</th><th>Attribution Score</th><th>Word Importance</th><tr><td><text style=\"padding-right:2em\"><b>Not Similar</b></text></td><td><text style=\"padding-right:2em\"><b>Not Similar (0.03)</b></text></td><td><text style=\"padding-right:2em\"><b>Similar</b></text></td><td><text style=\"padding-right:2em\"><b>1.00</b></text></td><td><mark style=\"background-color: hsl(0, 75%, 100%); opacity:1.0;                     line-height:1.75\"><font color=\"black\"> #s                    </font></mark><mark style=\"background-color: hsl(0, 75%, 100%); opacity:1.0;                     line-height:1.75\"><font color=\"black\"> It                    </font></mark><mark style=\"background-color: hsl(0, 75%, 100%); opacity:1.0;                     line-height:1.75\"><font color=\"black\"> was                    </font></mark><mark style=\"background-color: hsl(0, 75%, 100%); opacity:1.0;                     line-height:1.75\"><font color=\"black\"> before                    </font></mark><mark style=\"background-color: hsl(0, 75%, 100%); opacity:1.0;                     line-height:1.75\"><font color=\"black\"> the                    </font></mark><mark style=\"background-color: hsl(0, 75%, 100%); opacity:1.0;                     line-height:1.75\"><font color=\"black\"> season                    </font></mark><mark style=\"background-color: hsl(0, 75%, 100%); opacity:1.0;                     line-height:1.75\"><font color=\"black\"> began                    </font></mark><mark style=\"background-color: hsl(0, 75%, 100%); opacity:1.0;                     line-height:1.75\"><font color=\"black\"> because                    </font></mark><mark style=\"background-color: hsl(0, 75%, 100%); opacity:1.0;                     line-height:1.75\"><font color=\"black\"> Amy                    </font></mark><mark style=\"background-color: hsl(0, 75%, 100%); opacity:1.0;                     line-height:1.75\"><font color=\"black\"> saw                    </font></mark><mark style=\"background-color: hsl(0, 75%, 100%); opacity:1.0;                     line-height:1.75\"><font color=\"black\"> the                    </font></mark><mark style=\"background-color: hsl(0, 75%, 100%); opacity:1.0;                     line-height:1.75\"><font color=\"black\"> woman                    </font></mark><mark style=\"background-color: hsl(0, 75%, 100%); opacity:1.0;                     line-height:1.75\"><font color=\"black\"> before                    </font></mark><mark style=\"background-color: hsl(0, 75%, 100%); opacity:1.0;                     line-height:1.75\"><font color=\"black\"> the                    </font></mark><mark style=\"background-color: hsl(0, 75%, 100%); opacity:1.0;                     line-height:1.75\"><font color=\"black\"> Silence                    </font></mark><mark style=\"background-color: hsl(0, 75%, 100%); opacity:1.0;                     line-height:1.75\"><font color=\"black\"> took                    </font></mark><mark style=\"background-color: hsl(0, 75%, 100%); opacity:1.0;                     line-height:1.75\"><font color=\"black\"> her.                    </font></mark><mark style=\"background-color: hsl(0, 75%, 100%); opacity:1.0;                     line-height:1.75\"><font color=\"black\"> #/s                    </font></mark><mark style=\"background-color: hsl(0, 75%, 100%); opacity:1.0;                     line-height:1.75\"><font color=\"black\"> #/s                    </font></mark><mark style=\"background-color: hsl(0, 75%, 100%); opacity:1.0;                     line-height:1.75\"><font color=\"black\"> The                    </font></mark><mark style=\"background-color: hsl(0, 75%, 100%); opacity:1.0;                     line-height:1.75\"><font color=\"black\"> exact                    </font></mark><mark style=\"background-color: hsl(120, 75%, 50%); opacity:1.0;                     line-height:1.75\"><font color=\"black\"> timeline                    </font></mark><mark style=\"background-color: hsl(0, 75%, 100%); opacity:1.0;                     line-height:1.75\"><font color=\"black\"> hasn't                    </font></mark><mark style=\"background-color: hsl(0, 75%, 100%); opacity:1.0;                     line-height:1.75\"><font color=\"black\"> been                    </font></mark><mark style=\"background-color: hsl(0, 75%, 100%); opacity:1.0;                     line-height:1.75\"><font color=\"black\"> listed                    </font></mark><mark style=\"background-color: hsl(0, 75%, 100%); opacity:1.0;                     line-height:1.75\"><font color=\"black\"> yet,                    </font></mark><mark style=\"background-color: hsl(0, 75%, 100%); opacity:1.0;                     line-height:1.75\"><font color=\"black\"> but                    </font></mark><mark style=\"background-color: hsl(0, 75%, 100%); opacity:1.0;                     line-height:1.75\"><font color=\"black\"> there                    </font></mark><mark style=\"background-color: hsl(0, 75%, 100%); opacity:1.0;                     line-height:1.75\"><font color=\"black\"> are                    </font></mark><mark style=\"background-color: hsl(0, 75%, 100%); opacity:1.0;                     line-height:1.75\"><font color=\"black\"> a                    </font></mark><mark style=\"background-color: hsl(0, 75%, 100%); opacity:1.0;                     line-height:1.75\"><font color=\"black\"> few                    </font></mark><mark style=\"background-color: hsl(0, 75%, 100%); opacity:1.0;                     line-height:1.75\"><font color=\"black\"> assumptions                    </font></mark><mark style=\"background-color: hsl(0, 75%, 100%); opacity:1.0;                     line-height:1.75\"><font color=\"black\"> we                    </font></mark><mark style=\"background-color: hsl(0, 75%, 100%); opacity:1.0;                     line-height:1.75\"><font color=\"black\"> can                    </font></mark><mark style=\"background-color: hsl(0, 75%, 100%); opacity:1.0;                     line-height:1.75\"><font color=\"black\"> make.                    </font></mark><mark style=\"background-color: hsl(0, 75%, 100%); opacity:1.0;                     line-height:1.75\"><font color=\"black\"> #/s                    </font></mark></td><tr></table>"
      ],
      "text/plain": [
       "<IPython.core.display.HTML object>"
      ]
     },
     "metadata": {},
     "output_type": "display_data"
    },
    {
     "name": "stdout",
     "output_type": "stream",
     "text": [
      "<IPython.core.display.HTML object>\n",
      "i: 3\n",
      "Raw review: ['Protests for kidnapped girls banned in Nigerian capital', \"Scores 'killed' in Boko Haram raid in Nigeria\"]\n",
      "GT target: 1.0\n"
     ]
    },
    {
     "name": "stderr",
     "output_type": "stream",
     "text": [
      "/home/user/anaconda3/envs/py38/lib/python3.9/site-packages/captum/attr/_core/lime.py:1088: UserWarning: Attempting to construct interpretable model with > 10000 features.This can be very slow or lead to OOM issues. Please provide a featuremask which groups input features to reduce the number of interpretablefeatures. \n",
      "  warnings.warn(\n"
     ]
    },
    {
     "name": "stdout",
     "output_type": "stream",
     "text": [
      "pred_prob 0.34498412162065506\n"
     ]
    },
    {
     "name": "stderr",
     "output_type": "stream",
     "text": [
      "Lime attribution: 100%|███████████████████████████| 3/3 [01:35<00:00, 31.86s/it]\n"
     ]
    },
    {
     "name": "stdout",
     "output_type": "stream",
     "text": [
      "attribution took 102.543243 seconds\n",
      "before zeroing tensor([[[0., 0., 0.,  ..., 0., 0., 0.],\n",
      "         [0., 0., 0.,  ..., 0., 0., 0.],\n",
      "         [0., 0., 0.,  ..., 0., 0., 0.],\n",
      "         ...,\n",
      "         [0., 0., 0.,  ..., 0., 0., 0.],\n",
      "         [0., 0., 0.,  ..., 0., 0., 0.],\n",
      "         [0., 0., 0.,  ..., 0., 0., 0.]]])\n",
      "after zeroing tensor([[[0., 0., 0.,  ..., 0., 0., 0.],\n",
      "         [0., 0., 0.,  ..., 0., 0., 0.],\n",
      "         [0., 0., 0.,  ..., 0., 0., 0.],\n",
      "         ...,\n",
      "         [0., 0., 0.,  ..., 0., 0., 0.],\n",
      "         [0., 0., 0.,  ..., 0., 0., 0.],\n",
      "         [0., 0., 0.,  ..., 0., 0., 0.]]])\n",
      "word attr tensor([ 0.2922, -0.0404, -0.0137, -0.1591, -0.1874,  0.1107, -0.2939, -0.1808,\n",
      "        -0.1537,  0.0563, -0.2171, -0.4064,  0.1504, -0.0644, -0.1541,  0.0529,\n",
      "         0.1891, -0.0329, -0.1877,  0.1087,  0.4230, -0.0307, -0.4054,  0.0258])\n",
      "conti attr [tensor(0.2922), tensor(-0.0541), tensor(-0.1591), tensor(-0.1874), tensor(0.1107), tensor(-0.2939), tensor(-0.1808), tensor(-0.1537), tensor(0.0563), tensor(-0.2171), tensor(-0.4064), tensor(0.0860), tensor(0.0879), tensor(-0.0329), tensor(-0.1877), tensor(0.1087), tensor(0.4230), tensor(-0.0307), tensor(-0.4054), tensor(0.0258)]\n",
      "detokenized ['<s>', 'Prot', 'ests', 'for', 'kidnapped', 'girls', 'banned', 'in', 'Nigerian', 'capital', '</s>', '</s>', 'Sc', 'ores', \"'\", 'killed', \"'\", 'in', 'Boko', 'Haram', 'raid', 'in', 'Nigeria', '</s>']\n",
      "len conti_raw 20\n",
      "conti_raw ['<s>', 'Protests', 'for', 'kidnapped', 'girls', 'banned', 'in', 'Nigerian', 'capital', '</s>', '</s>', 'Scores', \"'killed'\", 'in', 'Boko', 'Haram', 'raid', 'in', 'Nigeria', '</s>']\n"
     ]
    },
    {
     "data": {
      "text/html": [
       "<table width: 100%><div style=\"border-top: 1px solid; margin-top: 5px;             padding-top: 5px; display: inline-block\"><b>Legend: </b><span style=\"display: inline-block; width: 10px; height: 10px;                 border: 1px solid; background-color:                 hsl(0, 75%, 60%)\"></span> Negative  <span style=\"display: inline-block; width: 10px; height: 10px;                 border: 1px solid; background-color:                 hsl(0, 75%, 100%)\"></span> Neutral  <span style=\"display: inline-block; width: 10px; height: 10px;                 border: 1px solid; background-color:                 hsl(120, 75%, 50%)\"></span> Positive  </div><tr><th>True Label</th><th>Predicted Label</th><th>Attribution Label</th><th>Attribution Score</th><th>Word Importance</th><tr><td><text style=\"padding-right:2em\"><b>Not Similar</b></text></td><td><text style=\"padding-right:2em\"><b>Not Similar (0.07)</b></text></td><td><text style=\"padding-right:2em\"><b>Not Similar</b></text></td><td><text style=\"padding-right:2em\"><b>-1.12</b></text></td><td><mark style=\"background-color: hsl(120, 75%, 86%); opacity:1.0;                     line-height:1.75\"><font color=\"black\"> #s                    </font></mark><mark style=\"background-color: hsl(0, 75%, 98%); opacity:1.0;                     line-height:1.75\"><font color=\"black\"> Protests                    </font></mark><mark style=\"background-color: hsl(0, 75%, 94%); opacity:1.0;                     line-height:1.75\"><font color=\"black\"> for                    </font></mark><mark style=\"background-color: hsl(0, 75%, 93%); opacity:1.0;                     line-height:1.75\"><font color=\"black\"> kidnapped                    </font></mark><mark style=\"background-color: hsl(120, 75%, 95%); opacity:1.0;                     line-height:1.75\"><font color=\"black\"> girls                    </font></mark><mark style=\"background-color: hsl(0, 75%, 89%); opacity:1.0;                     line-height:1.75\"><font color=\"black\"> banned                    </font></mark><mark style=\"background-color: hsl(0, 75%, 93%); opacity:1.0;                     line-height:1.75\"><font color=\"black\"> in                    </font></mark><mark style=\"background-color: hsl(0, 75%, 94%); opacity:1.0;                     line-height:1.75\"><font color=\"black\"> Nigerian                    </font></mark><mark style=\"background-color: hsl(120, 75%, 98%); opacity:1.0;                     line-height:1.75\"><font color=\"black\"> capital                    </font></mark><mark style=\"background-color: hsl(0, 75%, 92%); opacity:1.0;                     line-height:1.75\"><font color=\"black\"> #/s                    </font></mark><mark style=\"background-color: hsl(0, 75%, 84%); opacity:1.0;                     line-height:1.75\"><font color=\"black\"> #/s                    </font></mark><mark style=\"background-color: hsl(120, 75%, 96%); opacity:1.0;                     line-height:1.75\"><font color=\"black\"> Scores                    </font></mark><mark style=\"background-color: hsl(120, 75%, 96%); opacity:1.0;                     line-height:1.75\"><font color=\"black\"> 'killed'                    </font></mark><mark style=\"background-color: hsl(0, 75%, 99%); opacity:1.0;                     line-height:1.75\"><font color=\"black\"> in                    </font></mark><mark style=\"background-color: hsl(0, 75%, 93%); opacity:1.0;                     line-height:1.75\"><font color=\"black\"> Boko                    </font></mark><mark style=\"background-color: hsl(120, 75%, 95%); opacity:1.0;                     line-height:1.75\"><font color=\"black\"> Haram                    </font></mark><mark style=\"background-color: hsl(120, 75%, 79%); opacity:1.0;                     line-height:1.75\"><font color=\"black\"> raid                    </font></mark><mark style=\"background-color: hsl(0, 75%, 99%); opacity:1.0;                     line-height:1.75\"><font color=\"black\"> in                    </font></mark><mark style=\"background-color: hsl(0, 75%, 84%); opacity:1.0;                     line-height:1.75\"><font color=\"black\"> Nigeria                    </font></mark><mark style=\"background-color: hsl(120, 75%, 99%); opacity:1.0;                     line-height:1.75\"><font color=\"black\"> #/s                    </font></mark></td><tr></table>"
      ],
      "text/plain": [
       "<IPython.core.display.HTML object>"
      ]
     },
     "metadata": {},
     "output_type": "display_data"
    },
    {
     "name": "stdout",
     "output_type": "stream",
     "text": [
      "<IPython.core.display.HTML object>\n",
      "i: 4\n",
      "Raw review: ['Oil falls in Asian trade', 'Oil prices down in Asian trade']\n",
      "GT target: 5.0\n"
     ]
    },
    {
     "name": "stderr",
     "output_type": "stream",
     "text": [
      "/home/user/anaconda3/envs/py38/lib/python3.9/site-packages/captum/attr/_core/lime.py:1088: UserWarning: Attempting to construct interpretable model with > 10000 features.This can be very slow or lead to OOM issues. Please provide a featuremask which groups input features to reduce the number of interpretablefeatures. \n",
      "  warnings.warn(\n"
     ]
    },
    {
     "name": "stdout",
     "output_type": "stream",
     "text": [
      "pred_prob 4.716218113899231\n"
     ]
    },
    {
     "name": "stderr",
     "output_type": "stream",
     "text": [
      "Lime attribution: 100%|███████████████████████████| 3/3 [00:58<00:00, 19.43s/it]\n"
     ]
    },
    {
     "name": "stdout",
     "output_type": "stream",
     "text": [
      "attribution took 63.631882 seconds\n",
      "before zeroing tensor([[[ 0.0000e+00, -1.3397e-03,  0.0000e+00,  ...,  0.0000e+00,\n",
      "          -1.4672e-04,  0.0000e+00],\n",
      "         [ 0.0000e+00,  0.0000e+00,  0.0000e+00,  ...,  0.0000e+00,\n",
      "           0.0000e+00,  0.0000e+00],\n",
      "         [ 0.0000e+00,  0.0000e+00,  0.0000e+00,  ...,  0.0000e+00,\n",
      "           0.0000e+00,  0.0000e+00],\n",
      "         ...,\n",
      "         [ 0.0000e+00,  0.0000e+00,  0.0000e+00,  ...,  0.0000e+00,\n",
      "           8.7163e-04,  0.0000e+00],\n",
      "         [ 0.0000e+00,  0.0000e+00,  0.0000e+00,  ...,  0.0000e+00,\n",
      "           0.0000e+00,  0.0000e+00],\n",
      "         [ 0.0000e+00,  0.0000e+00,  0.0000e+00,  ...,  6.0571e-05,\n",
      "           0.0000e+00,  0.0000e+00]]])\n",
      "after zeroing tensor([[[ 0.0000e+00, -1.3397e-03,  0.0000e+00,  ...,  0.0000e+00,\n",
      "          -1.4672e-04,  0.0000e+00],\n",
      "         [ 0.0000e+00,  0.0000e+00,  0.0000e+00,  ...,  0.0000e+00,\n",
      "           0.0000e+00,  0.0000e+00],\n",
      "         [ 0.0000e+00,  0.0000e+00,  0.0000e+00,  ...,  0.0000e+00,\n",
      "           0.0000e+00,  0.0000e+00],\n",
      "         ...,\n",
      "         [ 0.0000e+00,  0.0000e+00,  0.0000e+00,  ...,  0.0000e+00,\n",
      "           8.7163e-04,  0.0000e+00],\n",
      "         [ 0.0000e+00,  0.0000e+00,  0.0000e+00,  ...,  0.0000e+00,\n",
      "           0.0000e+00,  0.0000e+00],\n",
      "         [ 0.0000e+00,  0.0000e+00,  0.0000e+00,  ...,  6.0571e-05,\n",
      "           0.0000e+00,  0.0000e+00]]])\n",
      "word attr tensor([ 0.0852, -0.2680,  0.6995,  0.3807,  0.2493,  0.0385, -0.0269, -0.1435,\n",
      "         0.1568,  0.1081,  0.0432, -0.0681,  0.1439, -0.1228,  0.3509])\n",
      "conti attr [tensor(0.0852), tensor(-0.2680), tensor(0.6995), tensor(0.3807), tensor(0.2493), tensor(0.0385), tensor(-0.0269), tensor(-0.1435), tensor(0.1568), tensor(0.1081), tensor(0.0432), tensor(-0.0681), tensor(0.1439), tensor(-0.1228), tensor(0.3509)]\n",
      "detokenized ['<s>', 'Oil', 'falls', 'in', 'Asian', 'trade', '</s>', '</s>', 'Oil', 'prices', 'down', 'in', 'Asian', 'trade', '</s>']\n",
      "len conti_raw 15\n",
      "conti_raw ['<s>', 'Oil', 'falls', 'in', 'Asian', 'trade', '</s>', '</s>', 'Oil', 'prices', 'down', 'in', 'Asian', 'trade', '</s>']\n"
     ]
    },
    {
     "data": {
      "text/html": [
       "<table width: 100%><div style=\"border-top: 1px solid; margin-top: 5px;             padding-top: 5px; display: inline-block\"><b>Legend: </b><span style=\"display: inline-block; width: 10px; height: 10px;                 border: 1px solid; background-color:                 hsl(0, 75%, 60%)\"></span> Negative  <span style=\"display: inline-block; width: 10px; height: 10px;                 border: 1px solid; background-color:                 hsl(0, 75%, 100%)\"></span> Neutral  <span style=\"display: inline-block; width: 10px; height: 10px;                 border: 1px solid; background-color:                 hsl(120, 75%, 50%)\"></span> Positive  </div><tr><th>True Label</th><th>Predicted Label</th><th>Attribution Label</th><th>Attribution Score</th><th>Word Importance</th><tr><td><text style=\"padding-right:2em\"><b>Similar</b></text></td><td><text style=\"padding-right:2em\"><b>Similar (0.94)</b></text></td><td><text style=\"padding-right:2em\"><b>Similar</b></text></td><td><text style=\"padding-right:2em\"><b>1.63</b></text></td><td><mark style=\"background-color: hsl(120, 75%, 96%); opacity:1.0;                     line-height:1.75\"><font color=\"black\"> #s                    </font></mark><mark style=\"background-color: hsl(0, 75%, 90%); opacity:1.0;                     line-height:1.75\"><font color=\"black\"> Oil                    </font></mark><mark style=\"background-color: hsl(120, 75%, 66%); opacity:1.0;                     line-height:1.75\"><font color=\"black\"> falls                    </font></mark><mark style=\"background-color: hsl(120, 75%, 81%); opacity:1.0;                     line-height:1.75\"><font color=\"black\"> in                    </font></mark><mark style=\"background-color: hsl(120, 75%, 88%); opacity:1.0;                     line-height:1.75\"><font color=\"black\"> Asian                    </font></mark><mark style=\"background-color: hsl(120, 75%, 99%); opacity:1.0;                     line-height:1.75\"><font color=\"black\"> trade                    </font></mark><mark style=\"background-color: hsl(0, 75%, 99%); opacity:1.0;                     line-height:1.75\"><font color=\"black\"> #/s                    </font></mark><mark style=\"background-color: hsl(0, 75%, 95%); opacity:1.0;                     line-height:1.75\"><font color=\"black\"> #/s                    </font></mark><mark style=\"background-color: hsl(120, 75%, 93%); opacity:1.0;                     line-height:1.75\"><font color=\"black\"> Oil                    </font></mark><mark style=\"background-color: hsl(120, 75%, 95%); opacity:1.0;                     line-height:1.75\"><font color=\"black\"> prices                    </font></mark><mark style=\"background-color: hsl(120, 75%, 98%); opacity:1.0;                     line-height:1.75\"><font color=\"black\"> down                    </font></mark><mark style=\"background-color: hsl(0, 75%, 98%); opacity:1.0;                     line-height:1.75\"><font color=\"black\"> in                    </font></mark><mark style=\"background-color: hsl(120, 75%, 93%); opacity:1.0;                     line-height:1.75\"><font color=\"black\"> Asian                    </font></mark><mark style=\"background-color: hsl(0, 75%, 96%); opacity:1.0;                     line-height:1.75\"><font color=\"black\"> trade                    </font></mark><mark style=\"background-color: hsl(120, 75%, 83%); opacity:1.0;                     line-height:1.75\"><font color=\"black\"> #/s                    </font></mark></td><tr></table>"
      ],
      "text/plain": [
       "<IPython.core.display.HTML object>"
      ]
     },
     "metadata": {},
     "output_type": "display_data"
    },
    {
     "name": "stdout",
     "output_type": "stream",
     "text": [
      "<IPython.core.display.HTML object>\n",
      "i: 5\n",
      "Raw review: ['There are people out on the street.', 'People are out on the street.']\n",
      "GT target: 5.0\n"
     ]
    },
    {
     "name": "stderr",
     "output_type": "stream",
     "text": [
      "/home/user/anaconda3/envs/py38/lib/python3.9/site-packages/captum/attr/_core/lime.py:1088: UserWarning: Attempting to construct interpretable model with > 10000 features.This can be very slow or lead to OOM issues. Please provide a featuremask which groups input features to reduce the number of interpretablefeatures. \n",
      "  warnings.warn(\n"
     ]
    },
    {
     "name": "stdout",
     "output_type": "stream",
     "text": [
      "pred_prob 4.79938268661499\n"
     ]
    },
    {
     "name": "stderr",
     "output_type": "stream",
     "text": [
      "Lime attribution: 100%|███████████████████████████| 3/3 [01:24<00:00, 28.23s/it]\n"
     ]
    },
    {
     "name": "stdout",
     "output_type": "stream",
     "text": [
      "attribution took 89.681973 seconds\n",
      "before zeroing tensor([[[0., 0., 0.,  ..., 0., 0., 0.],\n",
      "         [0., 0., 0.,  ..., 0., 0., 0.],\n",
      "         [0., 0., 0.,  ..., 0., 0., 0.],\n",
      "         ...,\n",
      "         [0., 0., 0.,  ..., 0., 0., 0.],\n",
      "         [0., 0., 0.,  ..., 0., 0., 0.],\n",
      "         [0., 0., 0.,  ..., 0., 0., 0.]]])\n",
      "after zeroing tensor([[[0., 0., 0.,  ..., 0., 0., 0.],\n",
      "         [0., 0., 0.,  ..., 0., 0., 0.],\n",
      "         [0., 0., 0.,  ..., 0., 0., 0.],\n",
      "         ...,\n",
      "         [0., 0., 0.,  ..., 0., 0., 0.],\n",
      "         [0., 0., 0.,  ..., 0., 0., 0.],\n",
      "         [0., 0., 0.,  ..., 0., 0., 0.]]])\n",
      "nan attri score\n",
      "word attr tensor([0., 0., 0., 0., 0., 0., 0., 0., 0., 0., 0., 0., 0., 0., 0., 0., 0., 0., 0.])\n",
      "conti attr [tensor(0.), tensor(0.), tensor(0.), tensor(0.), tensor(0.), tensor(0.), tensor(0.), tensor(0.), tensor(0.), tensor(0.), tensor(0.), tensor(0.), tensor(0.), tensor(0.), tensor(0.), tensor(0.), tensor(0.)]\n",
      "detokenized ['<s>', 'There', 'are', 'people', 'out', 'on', 'the', 'street', '.', '</s>', '</s>', 'People', 'are', 'out', 'on', 'the', 'street', '.', '</s>']\n",
      "len conti_raw 17\n",
      "conti_raw ['<s>', 'There', 'are', 'people', 'out', 'on', 'the', 'street.', '</s>', '</s>', 'People', 'are', 'out', 'on', 'the', 'street.', '</s>']\n"
     ]
    },
    {
     "data": {
      "text/html": [
       "<table width: 100%><div style=\"border-top: 1px solid; margin-top: 5px;             padding-top: 5px; display: inline-block\"><b>Legend: </b><span style=\"display: inline-block; width: 10px; height: 10px;                 border: 1px solid; background-color:                 hsl(0, 75%, 60%)\"></span> Negative  <span style=\"display: inline-block; width: 10px; height: 10px;                 border: 1px solid; background-color:                 hsl(0, 75%, 100%)\"></span> Neutral  <span style=\"display: inline-block; width: 10px; height: 10px;                 border: 1px solid; background-color:                 hsl(120, 75%, 50%)\"></span> Positive  </div><tr><th>True Label</th><th>Predicted Label</th><th>Attribution Label</th><th>Attribution Score</th><th>Word Importance</th><tr><td><text style=\"padding-right:2em\"><b>Similar</b></text></td><td><text style=\"padding-right:2em\"><b>Similar (0.96)</b></text></td><td><text style=\"padding-right:2em\"><b>Not Similar</b></text></td><td><text style=\"padding-right:2em\"><b>nan</b></text></td><td><mark style=\"background-color: hsl(0, 75%, 100%); opacity:1.0;                     line-height:1.75\"><font color=\"black\"> #s                    </font></mark><mark style=\"background-color: hsl(0, 75%, 100%); opacity:1.0;                     line-height:1.75\"><font color=\"black\"> There                    </font></mark><mark style=\"background-color: hsl(0, 75%, 100%); opacity:1.0;                     line-height:1.75\"><font color=\"black\"> are                    </font></mark><mark style=\"background-color: hsl(0, 75%, 100%); opacity:1.0;                     line-height:1.75\"><font color=\"black\"> people                    </font></mark><mark style=\"background-color: hsl(0, 75%, 100%); opacity:1.0;                     line-height:1.75\"><font color=\"black\"> out                    </font></mark><mark style=\"background-color: hsl(0, 75%, 100%); opacity:1.0;                     line-height:1.75\"><font color=\"black\"> on                    </font></mark><mark style=\"background-color: hsl(0, 75%, 100%); opacity:1.0;                     line-height:1.75\"><font color=\"black\"> the                    </font></mark><mark style=\"background-color: hsl(0, 75%, 100%); opacity:1.0;                     line-height:1.75\"><font color=\"black\"> street.                    </font></mark><mark style=\"background-color: hsl(0, 75%, 100%); opacity:1.0;                     line-height:1.75\"><font color=\"black\"> #/s                    </font></mark><mark style=\"background-color: hsl(0, 75%, 100%); opacity:1.0;                     line-height:1.75\"><font color=\"black\"> #/s                    </font></mark><mark style=\"background-color: hsl(0, 75%, 100%); opacity:1.0;                     line-height:1.75\"><font color=\"black\"> People                    </font></mark><mark style=\"background-color: hsl(0, 75%, 100%); opacity:1.0;                     line-height:1.75\"><font color=\"black\"> are                    </font></mark><mark style=\"background-color: hsl(0, 75%, 100%); opacity:1.0;                     line-height:1.75\"><font color=\"black\"> out                    </font></mark><mark style=\"background-color: hsl(0, 75%, 100%); opacity:1.0;                     line-height:1.75\"><font color=\"black\"> on                    </font></mark><mark style=\"background-color: hsl(0, 75%, 100%); opacity:1.0;                     line-height:1.75\"><font color=\"black\"> the                    </font></mark><mark style=\"background-color: hsl(0, 75%, 100%); opacity:1.0;                     line-height:1.75\"><font color=\"black\"> street.                    </font></mark><mark style=\"background-color: hsl(0, 75%, 100%); opacity:1.0;                     line-height:1.75\"><font color=\"black\"> #/s                    </font></mark></td><tr></table>"
      ],
      "text/plain": [
       "<IPython.core.display.HTML object>"
      ]
     },
     "metadata": {},
     "output_type": "display_data"
    },
    {
     "name": "stdout",
     "output_type": "stream",
     "text": [
      "<IPython.core.display.HTML object>\n",
      "i: 6\n",
      "Raw review: [\"Here are many samples: Pbase.com Out of the 16k photos there, I'm sure some are with a d700.\", \"It's a 1:1 lens, so that means that the size of the subject will be the same size on the sensor.\"]\n",
      "GT target: 0.6000000238418579\n"
     ]
    },
    {
     "name": "stderr",
     "output_type": "stream",
     "text": [
      "/home/user/anaconda3/envs/py38/lib/python3.9/site-packages/captum/attr/_core/lime.py:1088: UserWarning: Attempting to construct interpretable model with > 10000 features.This can be very slow or lead to OOM issues. Please provide a featuremask which groups input features to reduce the number of interpretablefeatures. \n",
      "  warnings.warn(\n"
     ]
    },
    {
     "name": "stdout",
     "output_type": "stream",
     "text": [
      "pred_prob 0.4683755338191986\n"
     ]
    },
    {
     "name": "stderr",
     "output_type": "stream",
     "text": [
      "Lime attribution: 100%|███████████████████████████| 3/3 [04:07<00:00, 82.55s/it]\n"
     ]
    },
    {
     "name": "stdout",
     "output_type": "stream",
     "text": [
      "attribution took 264.673433 seconds\n",
      "before zeroing tensor([[[0., 0., 0.,  ..., 0., 0., 0.],\n",
      "         [0., 0., 0.,  ..., 0., 0., 0.],\n",
      "         [0., 0., 0.,  ..., 0., 0., 0.],\n",
      "         ...,\n",
      "         [0., 0., 0.,  ..., 0., 0., 0.],\n",
      "         [0., 0., 0.,  ..., 0., 0., 0.],\n",
      "         [0., 0., 0.,  ..., 0., 0., 0.]]])\n",
      "after zeroing tensor([[[0., 0., 0.,  ..., 0., 0., 0.],\n",
      "         [0., 0., 0.,  ..., 0., 0., 0.],\n",
      "         [0., 0., 0.,  ..., 0., 0., 0.],\n",
      "         ...,\n",
      "         [0., 0., 0.,  ..., 0., 0., 0.],\n",
      "         [0., 0., 0.,  ..., 0., 0., 0.],\n",
      "         [0., 0., 0.,  ..., 0., 0., 0.]]])\n",
      "word attr tensor([-1.2306e-01,  6.2887e-02,  2.6412e-04, -3.7192e-02,  4.8811e-02,\n",
      "         3.1183e-02,  4.0743e-02,  1.0378e-02, -3.6680e-02,  1.9467e-01,\n",
      "         1.2619e-02,  2.8846e-02, -1.7967e-01,  6.3806e-02,  7.1243e-02,\n",
      "         2.2691e-01, -2.5034e-02, -2.1113e-01, -2.1895e-02, -3.8218e-02,\n",
      "         1.3753e-02,  7.5812e-03,  1.9337e-01, -1.4733e-02, -6.5489e-02,\n",
      "        -6.5276e-02,  1.4934e-01,  2.6689e-02, -1.6219e-01, -1.3747e-01,\n",
      "         1.0684e-02, -1.3133e-02, -1.6042e-03,  2.7912e-02,  6.5125e-02,\n",
      "         5.2855e-02,  6.9050e-01,  4.7597e-03, -1.9401e-01, -2.5802e-02,\n",
      "        -8.5066e-02, -2.1998e-01,  6.3782e-02, -8.5560e-02,  3.2371e-03,\n",
      "        -6.8278e-02,  8.0760e-02,  8.5259e-02, -2.2721e-02,  1.6512e-02,\n",
      "        -6.2652e-02,  1.0425e-01, -5.9789e-02,  1.2581e-03,  2.1583e-01,\n",
      "        -3.9257e-02,  5.9104e-02])\n",
      "conti attr [tensor(-0.1231), tensor(0.0629), tensor(0.0003), tensor(-0.0372), tensor(0.0800), tensor(0.2091), tensor(0.0126), tensor(0.0288), tensor(-0.1797), tensor(0.1350), tensor(0.2269), tensor(-0.2362), tensor(-0.0601), tensor(0.0138), tensor(0.0076), tensor(0.1934), tensor(-0.0147), tensor(-0.0655), tensor(0.1108), tensor(-0.1622), tensor(-0.1375), tensor(-0.0024), tensor(-0.0016), tensor(0.1459), tensor(0.6953), tensor(-0.1940), tensor(-0.0258), tensor(-0.0851), tensor(-0.2200), tensor(0.0638), tensor(-0.0856), tensor(0.0032), tensor(-0.0683), tensor(0.0808), tensor(0.0853), tensor(-0.0227), tensor(0.0165), tensor(-0.0627), tensor(0.1042), tensor(-0.0598), tensor(0.0013), tensor(0.1766), tensor(0.0591)]\n",
      "detokenized ['<s>', 'Here', 'are', 'many', 'samples', ':', 'P', 'base', '.', 'com', 'Out', 'of', 'the', '16', 'k', 'photos', 'there', ',', 'I', \"'m\", 'sure', 'some', 'are', 'with', 'a', 'd', '700', '.', '</s>', '</s>', 'It', \"'s\", 'a', '1', ':', '1', 'lens', ',', 'so', 'that', 'means', 'that', 'the', 'size', 'of', 'the', 'subject', 'will', 'be', 'the', 'same', 'size', 'on', 'the', 'sensor', '.', '</s>']\n",
      "len conti_raw 43\n",
      "conti_raw ['<s>', 'Here', 'are', 'many', 'samples:', 'Pbase.com', 'Out', 'of', 'the', '16k', 'photos', 'there,', \"I'm\", 'sure', 'some', 'are', 'with', 'a', 'd700.', '</s>', '</s>', \"It's\", 'a', '1:1', 'lens,', 'so', 'that', 'means', 'that', 'the', 'size', 'of', 'the', 'subject', 'will', 'be', 'the', 'same', 'size', 'on', 'the', 'sensor.', '</s>']\n"
     ]
    },
    {
     "data": {
      "text/html": [
       "<table width: 100%><div style=\"border-top: 1px solid; margin-top: 5px;             padding-top: 5px; display: inline-block\"><b>Legend: </b><span style=\"display: inline-block; width: 10px; height: 10px;                 border: 1px solid; background-color:                 hsl(0, 75%, 60%)\"></span> Negative  <span style=\"display: inline-block; width: 10px; height: 10px;                 border: 1px solid; background-color:                 hsl(0, 75%, 100%)\"></span> Neutral  <span style=\"display: inline-block; width: 10px; height: 10px;                 border: 1px solid; background-color:                 hsl(120, 75%, 50%)\"></span> Positive  </div><tr><th>True Label</th><th>Predicted Label</th><th>Attribution Label</th><th>Attribution Score</th><th>Word Importance</th><tr><td><text style=\"padding-right:2em\"><b>Not Similar</b></text></td><td><text style=\"padding-right:2em\"><b>Not Similar (0.09)</b></text></td><td><text style=\"padding-right:2em\"><b>Similar</b></text></td><td><text style=\"padding-right:2em\"><b>0.67</b></text></td><td><mark style=\"background-color: hsl(0, 75%, 96%); opacity:1.0;                     line-height:1.75\"><font color=\"black\"> #s                    </font></mark><mark style=\"background-color: hsl(120, 75%, 97%); opacity:1.0;                     line-height:1.75\"><font color=\"black\"> Here                    </font></mark><mark style=\"background-color: hsl(120, 75%, 100%); opacity:1.0;                     line-height:1.75\"><font color=\"black\"> are                    </font></mark><mark style=\"background-color: hsl(0, 75%, 99%); opacity:1.0;                     line-height:1.75\"><font color=\"black\"> many                    </font></mark><mark style=\"background-color: hsl(120, 75%, 97%); opacity:1.0;                     line-height:1.75\"><font color=\"black\"> samples:                    </font></mark><mark style=\"background-color: hsl(120, 75%, 90%); opacity:1.0;                     line-height:1.75\"><font color=\"black\"> Pbase.com                    </font></mark><mark style=\"background-color: hsl(120, 75%, 100%); opacity:1.0;                     line-height:1.75\"><font color=\"black\"> Out                    </font></mark><mark style=\"background-color: hsl(120, 75%, 99%); opacity:1.0;                     line-height:1.75\"><font color=\"black\"> of                    </font></mark><mark style=\"background-color: hsl(0, 75%, 93%); opacity:1.0;                     line-height:1.75\"><font color=\"black\"> the                    </font></mark><mark style=\"background-color: hsl(120, 75%, 94%); opacity:1.0;                     line-height:1.75\"><font color=\"black\"> 16k                    </font></mark><mark style=\"background-color: hsl(120, 75%, 89%); opacity:1.0;                     line-height:1.75\"><font color=\"black\"> photos                    </font></mark><mark style=\"background-color: hsl(0, 75%, 91%); opacity:1.0;                     line-height:1.75\"><font color=\"black\"> there,                    </font></mark><mark style=\"background-color: hsl(0, 75%, 98%); opacity:1.0;                     line-height:1.75\"><font color=\"black\"> I'm                    </font></mark><mark style=\"background-color: hsl(120, 75%, 100%); opacity:1.0;                     line-height:1.75\"><font color=\"black\"> sure                    </font></mark><mark style=\"background-color: hsl(120, 75%, 100%); opacity:1.0;                     line-height:1.75\"><font color=\"black\"> some                    </font></mark><mark style=\"background-color: hsl(120, 75%, 91%); opacity:1.0;                     line-height:1.75\"><font color=\"black\"> are                    </font></mark><mark style=\"background-color: hsl(0, 75%, 100%); opacity:1.0;                     line-height:1.75\"><font color=\"black\"> with                    </font></mark><mark style=\"background-color: hsl(0, 75%, 98%); opacity:1.0;                     line-height:1.75\"><font color=\"black\"> a                    </font></mark><mark style=\"background-color: hsl(120, 75%, 95%); opacity:1.0;                     line-height:1.75\"><font color=\"black\"> d700.                    </font></mark><mark style=\"background-color: hsl(0, 75%, 94%); opacity:1.0;                     line-height:1.75\"><font color=\"black\"> #/s                    </font></mark><mark style=\"background-color: hsl(0, 75%, 95%); opacity:1.0;                     line-height:1.75\"><font color=\"black\"> #/s                    </font></mark><mark style=\"background-color: hsl(0, 75%, 100%); opacity:1.0;                     line-height:1.75\"><font color=\"black\"> It's                    </font></mark><mark style=\"background-color: hsl(0, 75%, 100%); opacity:1.0;                     line-height:1.75\"><font color=\"black\"> a                    </font></mark><mark style=\"background-color: hsl(120, 75%, 93%); opacity:1.0;                     line-height:1.75\"><font color=\"black\"> 1:1                    </font></mark><mark style=\"background-color: hsl(120, 75%, 66%); opacity:1.0;                     line-height:1.75\"><font color=\"black\"> lens,                    </font></mark><mark style=\"background-color: hsl(0, 75%, 93%); opacity:1.0;                     line-height:1.75\"><font color=\"black\"> so                    </font></mark><mark style=\"background-color: hsl(0, 75%, 99%); opacity:1.0;                     line-height:1.75\"><font color=\"black\"> that                    </font></mark><mark style=\"background-color: hsl(0, 75%, 97%); opacity:1.0;                     line-height:1.75\"><font color=\"black\"> means                    </font></mark><mark style=\"background-color: hsl(0, 75%, 92%); opacity:1.0;                     line-height:1.75\"><font color=\"black\"> that                    </font></mark><mark style=\"background-color: hsl(120, 75%, 97%); opacity:1.0;                     line-height:1.75\"><font color=\"black\"> the                    </font></mark><mark style=\"background-color: hsl(0, 75%, 97%); opacity:1.0;                     line-height:1.75\"><font color=\"black\"> size                    </font></mark><mark style=\"background-color: hsl(120, 75%, 100%); opacity:1.0;                     line-height:1.75\"><font color=\"black\"> of                    </font></mark><mark style=\"background-color: hsl(0, 75%, 98%); opacity:1.0;                     line-height:1.75\"><font color=\"black\"> the                    </font></mark><mark style=\"background-color: hsl(120, 75%, 96%); opacity:1.0;                     line-height:1.75\"><font color=\"black\"> subject                    </font></mark><mark style=\"background-color: hsl(120, 75%, 96%); opacity:1.0;                     line-height:1.75\"><font color=\"black\"> will                    </font></mark><mark style=\"background-color: hsl(0, 75%, 100%); opacity:1.0;                     line-height:1.75\"><font color=\"black\"> be                    </font></mark><mark style=\"background-color: hsl(120, 75%, 100%); opacity:1.0;                     line-height:1.75\"><font color=\"black\"> the                    </font></mark><mark style=\"background-color: hsl(0, 75%, 98%); opacity:1.0;                     line-height:1.75\"><font color=\"black\"> same                    </font></mark><mark style=\"background-color: hsl(120, 75%, 95%); opacity:1.0;                     line-height:1.75\"><font color=\"black\"> size                    </font></mark><mark style=\"background-color: hsl(0, 75%, 98%); opacity:1.0;                     line-height:1.75\"><font color=\"black\"> on                    </font></mark><mark style=\"background-color: hsl(120, 75%, 100%); opacity:1.0;                     line-height:1.75\"><font color=\"black\"> the                    </font></mark><mark style=\"background-color: hsl(120, 75%, 92%); opacity:1.0;                     line-height:1.75\"><font color=\"black\"> sensor.                    </font></mark><mark style=\"background-color: hsl(120, 75%, 98%); opacity:1.0;                     line-height:1.75\"><font color=\"black\"> #/s                    </font></mark></td><tr></table>"
      ],
      "text/plain": [
       "<IPython.core.display.HTML object>"
      ]
     },
     "metadata": {},
     "output_type": "display_data"
    },
    {
     "name": "stdout",
     "output_type": "stream",
     "text": [
      "<IPython.core.display.HTML object>\n",
      "i: 7\n",
      "Raw review: ['The University constituencies are modelled on the University constituencies in use in Britain in 1922 when Ireland became independent.', \"This is still a representational form of gov't, but with a unique twist.\"]\n",
      "GT target: 0.20000000298023224\n"
     ]
    },
    {
     "name": "stderr",
     "output_type": "stream",
     "text": [
      "/home/user/anaconda3/envs/py38/lib/python3.9/site-packages/captum/attr/_core/lime.py:1088: UserWarning: Attempting to construct interpretable model with > 10000 features.This can be very slow or lead to OOM issues. Please provide a featuremask which groups input features to reduce the number of interpretablefeatures. \n",
      "  warnings.warn(\n"
     ]
    },
    {
     "name": "stdout",
     "output_type": "stream",
     "text": [
      "pred_prob 1.4010797441005707\n"
     ]
    },
    {
     "name": "stderr",
     "output_type": "stream",
     "text": [
      "Lime attribution: 100%|███████████████████████████| 3/3 [03:03<00:00, 61.26s/it]\n"
     ]
    },
    {
     "name": "stdout",
     "output_type": "stream",
     "text": [
      "attribution took 197.779634 seconds\n",
      "before zeroing tensor([[[0., 0., 0.,  ..., 0., 0., 0.],\n",
      "         [0., 0., 0.,  ..., 0., 0., 0.],\n",
      "         [0., 0., 0.,  ..., 0., 0., 0.],\n",
      "         ...,\n",
      "         [0., 0., 0.,  ..., 0., 0., 0.],\n",
      "         [0., 0., 0.,  ..., 0., 0., 0.],\n",
      "         [0., 0., 0.,  ..., 0., 0., 0.]]])\n",
      "after zeroing tensor([[[0., 0., 0.,  ..., 0., 0., 0.],\n",
      "         [0., 0., 0.,  ..., 0., 0., 0.],\n",
      "         [0., 0., 0.,  ..., 0., 0., 0.],\n",
      "         ...,\n",
      "         [0., 0., 0.,  ..., 0., 0., 0.],\n",
      "         [0., 0., 0.,  ..., 0., 0., 0.],\n",
      "         [0., 0., 0.,  ..., 0., 0., 0.]]])\n",
      "word attr tensor([ 0.3742, -0.1042,  0.0384,  0.3398, -0.0505, -0.0097, -0.2189,  0.0767,\n",
      "         0.0877,  0.1522,  0.2088, -0.0972, -0.0966, -0.1699,  0.2673,  0.1003,\n",
      "         0.0316, -0.0894,  0.0507,  0.1566,  0.0831,  0.0900,  0.0093,  0.0019,\n",
      "         0.1260,  0.1691, -0.1839, -0.1280, -0.1254,  0.3683,  0.1617,  0.1803,\n",
      "         0.0118,  0.1224,  0.1130,  0.0974, -0.0178,  0.0113, -0.1292, -0.1520,\n",
      "         0.1213, -0.1375, -0.0706])\n",
      "conti attr [tensor(0.3742), tensor(-0.1042), tensor(0.0384), tensor(0.3398), tensor(-0.0505), tensor(-0.2286), tensor(0.0767), tensor(0.0877), tensor(0.1522), tensor(0.2088), tensor(-0.0972), tensor(-0.0966), tensor(-0.1699), tensor(0.2673), tensor(0.1003), tensor(0.0316), tensor(-0.0894), tensor(0.0507), tensor(0.1566), tensor(0.1731), tensor(0.0093), tensor(0.0019), tensor(0.1260), tensor(0.1691), tensor(-0.1839), tensor(-0.1280), tensor(0.2430), tensor(0.1617), tensor(0.1803), tensor(0.3446), tensor(-0.0178), tensor(0.0113), tensor(-0.1292), tensor(-0.1520), tensor(-0.0162), tensor(-0.0706)]\n",
      "detokenized ['<s>', 'The', 'University', 'constituencies', 'are', 'mod', 'elled', 'on', 'the', 'University', 'constituencies', 'in', 'use', 'in', 'Britain', 'in', '1922', 'when', 'Ireland', 'became', 'independent', '.', '</s>', '</s>', 'This', 'is', 'still', 'a', 'represent', 'ational', 'form', 'of', 'go', 'v', \"'t\", ',', 'but', 'with', 'a', 'unique', 'twist', '.', '</s>']\n",
      "len conti_raw 36\n",
      "conti_raw ['<s>', 'The', 'University', 'constituencies', 'are', 'modelled', 'on', 'the', 'University', 'constituencies', 'in', 'use', 'in', 'Britain', 'in', '1922', 'when', 'Ireland', 'became', 'independent.', '</s>', '</s>', 'This', 'is', 'still', 'a', 'representational', 'form', 'of', \"gov't,\", 'but', 'with', 'a', 'unique', 'twist.', '</s>']\n"
     ]
    },
    {
     "data": {
      "text/html": [
       "<table width: 100%><div style=\"border-top: 1px solid; margin-top: 5px;             padding-top: 5px; display: inline-block\"><b>Legend: </b><span style=\"display: inline-block; width: 10px; height: 10px;                 border: 1px solid; background-color:                 hsl(0, 75%, 60%)\"></span> Negative  <span style=\"display: inline-block; width: 10px; height: 10px;                 border: 1px solid; background-color:                 hsl(0, 75%, 100%)\"></span> Neutral  <span style=\"display: inline-block; width: 10px; height: 10px;                 border: 1px solid; background-color:                 hsl(120, 75%, 50%)\"></span> Positive  </div><tr><th>True Label</th><th>Predicted Label</th><th>Attribution Label</th><th>Attribution Score</th><th>Word Importance</th><tr><td><text style=\"padding-right:2em\"><b>Not Similar</b></text></td><td><text style=\"padding-right:2em\"><b>Not Similar (0.28)</b></text></td><td><text style=\"padding-right:2em\"><b>Similar</b></text></td><td><text style=\"padding-right:2em\"><b>1.77</b></text></td><td><mark style=\"background-color: hsl(120, 75%, 82%); opacity:1.0;                     line-height:1.75\"><font color=\"black\"> #s                    </font></mark><mark style=\"background-color: hsl(0, 75%, 96%); opacity:1.0;                     line-height:1.75\"><font color=\"black\"> The                    </font></mark><mark style=\"background-color: hsl(120, 75%, 99%); opacity:1.0;                     line-height:1.75\"><font color=\"black\"> University                    </font></mark><mark style=\"background-color: hsl(120, 75%, 84%); opacity:1.0;                     line-height:1.75\"><font color=\"black\"> constituencies                    </font></mark><mark style=\"background-color: hsl(0, 75%, 98%); opacity:1.0;                     line-height:1.75\"><font color=\"black\"> are                    </font></mark><mark style=\"background-color: hsl(0, 75%, 91%); opacity:1.0;                     line-height:1.75\"><font color=\"black\"> modelled                    </font></mark><mark style=\"background-color: hsl(120, 75%, 97%); opacity:1.0;                     line-height:1.75\"><font color=\"black\"> on                    </font></mark><mark style=\"background-color: hsl(120, 75%, 96%); opacity:1.0;                     line-height:1.75\"><font color=\"black\"> the                    </font></mark><mark style=\"background-color: hsl(120, 75%, 93%); opacity:1.0;                     line-height:1.75\"><font color=\"black\"> University                    </font></mark><mark style=\"background-color: hsl(120, 75%, 90%); opacity:1.0;                     line-height:1.75\"><font color=\"black\"> constituencies                    </font></mark><mark style=\"background-color: hsl(0, 75%, 97%); opacity:1.0;                     line-height:1.75\"><font color=\"black\"> in                    </font></mark><mark style=\"background-color: hsl(0, 75%, 97%); opacity:1.0;                     line-height:1.75\"><font color=\"black\"> use                    </font></mark><mark style=\"background-color: hsl(0, 75%, 94%); opacity:1.0;                     line-height:1.75\"><font color=\"black\"> in                    </font></mark><mark style=\"background-color: hsl(120, 75%, 87%); opacity:1.0;                     line-height:1.75\"><font color=\"black\"> Britain                    </font></mark><mark style=\"background-color: hsl(120, 75%, 95%); opacity:1.0;                     line-height:1.75\"><font color=\"black\"> in                    </font></mark><mark style=\"background-color: hsl(120, 75%, 99%); opacity:1.0;                     line-height:1.75\"><font color=\"black\"> 1922                    </font></mark><mark style=\"background-color: hsl(0, 75%, 97%); opacity:1.0;                     line-height:1.75\"><font color=\"black\"> when                    </font></mark><mark style=\"background-color: hsl(120, 75%, 98%); opacity:1.0;                     line-height:1.75\"><font color=\"black\"> Ireland                    </font></mark><mark style=\"background-color: hsl(120, 75%, 93%); opacity:1.0;                     line-height:1.75\"><font color=\"black\"> became                    </font></mark><mark style=\"background-color: hsl(120, 75%, 92%); opacity:1.0;                     line-height:1.75\"><font color=\"black\"> independent.                    </font></mark><mark style=\"background-color: hsl(120, 75%, 100%); opacity:1.0;                     line-height:1.75\"><font color=\"black\"> #/s                    </font></mark><mark style=\"background-color: hsl(120, 75%, 100%); opacity:1.0;                     line-height:1.75\"><font color=\"black\"> #/s                    </font></mark><mark style=\"background-color: hsl(120, 75%, 94%); opacity:1.0;                     line-height:1.75\"><font color=\"black\"> This                    </font></mark><mark style=\"background-color: hsl(120, 75%, 92%); opacity:1.0;                     line-height:1.75\"><font color=\"black\"> is                    </font></mark><mark style=\"background-color: hsl(0, 75%, 93%); opacity:1.0;                     line-height:1.75\"><font color=\"black\"> still                    </font></mark><mark style=\"background-color: hsl(0, 75%, 95%); opacity:1.0;                     line-height:1.75\"><font color=\"black\"> a                    </font></mark><mark style=\"background-color: hsl(120, 75%, 88%); opacity:1.0;                     line-height:1.75\"><font color=\"black\"> representational                    </font></mark><mark style=\"background-color: hsl(120, 75%, 92%); opacity:1.0;                     line-height:1.75\"><font color=\"black\"> form                    </font></mark><mark style=\"background-color: hsl(120, 75%, 91%); opacity:1.0;                     line-height:1.75\"><font color=\"black\"> of                    </font></mark><mark style=\"background-color: hsl(120, 75%, 83%); opacity:1.0;                     line-height:1.75\"><font color=\"black\"> gov't,                    </font></mark><mark style=\"background-color: hsl(0, 75%, 100%); opacity:1.0;                     line-height:1.75\"><font color=\"black\"> but                    </font></mark><mark style=\"background-color: hsl(120, 75%, 100%); opacity:1.0;                     line-height:1.75\"><font color=\"black\"> with                    </font></mark><mark style=\"background-color: hsl(0, 75%, 95%); opacity:1.0;                     line-height:1.75\"><font color=\"black\"> a                    </font></mark><mark style=\"background-color: hsl(0, 75%, 94%); opacity:1.0;                     line-height:1.75\"><font color=\"black\"> unique                    </font></mark><mark style=\"background-color: hsl(0, 75%, 100%); opacity:1.0;                     line-height:1.75\"><font color=\"black\"> twist.                    </font></mark><mark style=\"background-color: hsl(0, 75%, 98%); opacity:1.0;                     line-height:1.75\"><font color=\"black\"> #/s                    </font></mark></td><tr></table>"
      ],
      "text/plain": [
       "<IPython.core.display.HTML object>"
      ]
     },
     "metadata": {},
     "output_type": "display_data"
    },
    {
     "name": "stdout",
     "output_type": "stream",
     "text": [
      "<IPython.core.display.HTML object>\n",
      "i: 8\n",
      "Raw review: ['One Asian and one occasion woman in glasses smiling with their thumbs up.', 'Two women are posing for the camera and giving the thumbs up sign.']\n",
      "GT target: 3.4000000953674316\n"
     ]
    },
    {
     "name": "stderr",
     "output_type": "stream",
     "text": [
      "/home/user/anaconda3/envs/py38/lib/python3.9/site-packages/captum/attr/_core/lime.py:1088: UserWarning: Attempting to construct interpretable model with > 10000 features.This can be very slow or lead to OOM issues. Please provide a featuremask which groups input features to reduce the number of interpretablefeatures. \n",
      "  warnings.warn(\n"
     ]
    },
    {
     "name": "stdout",
     "output_type": "stream",
     "text": [
      "pred_prob 3.2387176156044006\n"
     ]
    },
    {
     "name": "stderr",
     "output_type": "stream",
     "text": [
      "Lime attribution: 100%|███████████████████████████| 3/3 [02:18<00:00, 46.22s/it]\n"
     ]
    },
    {
     "name": "stdout",
     "output_type": "stream",
     "text": [
      "attribution took 148.074880 seconds\n",
      "before zeroing tensor([[[0.0000, 0.0000, 0.0000,  ..., 0.0000, 0.0000, 0.0000],\n",
      "         [0.0000, 0.0000, 0.0000,  ..., 0.0000, 0.0000, 0.0000],\n",
      "         [0.0000, 0.0000, 0.0000,  ..., 0.0000, 0.0000, 0.0000],\n",
      "         ...,\n",
      "         [0.0006, 0.0000, 0.0000,  ..., 0.0000, 0.0000, 0.0000],\n",
      "         [0.0000, 0.0000, 0.0000,  ..., 0.0000, 0.0000, 0.0000],\n",
      "         [0.0000, 0.0000, 0.0000,  ..., 0.0000, 0.0000, 0.0000]]])\n",
      "after zeroing tensor([[[0.0000, 0.0000, 0.0000,  ..., 0.0000, 0.0000, 0.0000],\n",
      "         [0.0000, 0.0000, 0.0000,  ..., 0.0000, 0.0000, 0.0000],\n",
      "         [0.0000, 0.0000, 0.0000,  ..., 0.0000, 0.0000, 0.0000],\n",
      "         ...,\n",
      "         [0.0006, 0.0000, 0.0000,  ..., 0.0000, 0.0000, 0.0000],\n",
      "         [0.0000, 0.0000, 0.0000,  ..., 0.0000, 0.0000, 0.0000],\n",
      "         [0.0000, 0.0000, 0.0000,  ..., 0.0000, 0.0000, 0.0000]]])\n",
      "word attr tensor([-3.1150e-02,  4.2310e-02,  7.5567e-02,  6.1668e-02, -1.1257e-01,\n",
      "         3.2821e-02, -3.1223e-02, -6.6323e-02,  6.4893e-02,  6.7397e-02,\n",
      "         2.3866e-02,  6.7858e-02,  2.9477e-02, -1.5074e-01,  5.0413e-02,\n",
      "         6.8336e-02, -6.0720e-02,  1.7892e-01,  9.8725e-02,  1.0742e-01,\n",
      "         5.1767e-01, -1.8530e-02,  8.8808e-02,  7.4824e-01, -9.1955e-02,\n",
      "         1.6718e-02, -1.4175e-04, -2.9675e-02,  1.1453e-01, -6.7631e-02,\n",
      "         5.5766e-02,  1.9801e-02])\n",
      "conti attr [tensor(-0.0312), tensor(0.0423), tensor(0.0756), tensor(0.0617), tensor(-0.1126), tensor(0.0328), tensor(-0.0312), tensor(-0.0663), tensor(0.0649), tensor(0.0674), tensor(0.0239), tensor(0.0679), tensor(0.0295), tensor(-0.1003), tensor(0.0683), tensor(-0.0607), tensor(0.1789), tensor(0.0987), tensor(0.1074), tensor(0.5177), tensor(-0.0185), tensor(0.0888), tensor(0.7482), tensor(-0.0920), tensor(0.0167), tensor(-0.0001), tensor(-0.0297), tensor(0.1145), tensor(-0.0119), tensor(0.0198)]\n",
      "detokenized ['<s>', 'One', 'Asian', 'and', 'one', 'occasion', 'woman', 'in', 'glasses', 'smiling', 'with', 'their', 'thumbs', 'up', '.', '</s>', '</s>', 'Two', 'women', 'are', 'posing', 'for', 'the', 'camera', 'and', 'giving', 'the', 'thumbs', 'up', 'sign', '.', '</s>']\n",
      "len conti_raw 30\n",
      "conti_raw ['<s>', 'One', 'Asian', 'and', 'one', 'occasion', 'woman', 'in', 'glasses', 'smiling', 'with', 'their', 'thumbs', 'up.', '</s>', '</s>', 'Two', 'women', 'are', 'posing', 'for', 'the', 'camera', 'and', 'giving', 'the', 'thumbs', 'up', 'sign.', '</s>']\n"
     ]
    },
    {
     "data": {
      "text/html": [
       "<table width: 100%><div style=\"border-top: 1px solid; margin-top: 5px;             padding-top: 5px; display: inline-block\"><b>Legend: </b><span style=\"display: inline-block; width: 10px; height: 10px;                 border: 1px solid; background-color:                 hsl(0, 75%, 60%)\"></span> Negative  <span style=\"display: inline-block; width: 10px; height: 10px;                 border: 1px solid; background-color:                 hsl(0, 75%, 100%)\"></span> Neutral  <span style=\"display: inline-block; width: 10px; height: 10px;                 border: 1px solid; background-color:                 hsl(120, 75%, 50%)\"></span> Positive  </div><tr><th>True Label</th><th>Predicted Label</th><th>Attribution Label</th><th>Attribution Score</th><th>Word Importance</th><tr><td><text style=\"padding-right:2em\"><b>Similar</b></text></td><td><text style=\"padding-right:2em\"><b>Similar (0.65)</b></text></td><td><text style=\"padding-right:2em\"><b>Similar</b></text></td><td><text style=\"padding-right:2em\"><b>1.87</b></text></td><td><mark style=\"background-color: hsl(0, 75%, 99%); opacity:1.0;                     line-height:1.75\"><font color=\"black\"> #s                    </font></mark><mark style=\"background-color: hsl(120, 75%, 98%); opacity:1.0;                     line-height:1.75\"><font color=\"black\"> One                    </font></mark><mark style=\"background-color: hsl(120, 75%, 97%); opacity:1.0;                     line-height:1.75\"><font color=\"black\"> Asian                    </font></mark><mark style=\"background-color: hsl(120, 75%, 97%); opacity:1.0;                     line-height:1.75\"><font color=\"black\"> and                    </font></mark><mark style=\"background-color: hsl(0, 75%, 96%); opacity:1.0;                     line-height:1.75\"><font color=\"black\"> one                    </font></mark><mark style=\"background-color: hsl(120, 75%, 99%); opacity:1.0;                     line-height:1.75\"><font color=\"black\"> occasion                    </font></mark><mark style=\"background-color: hsl(0, 75%, 99%); opacity:1.0;                     line-height:1.75\"><font color=\"black\"> woman                    </font></mark><mark style=\"background-color: hsl(0, 75%, 98%); opacity:1.0;                     line-height:1.75\"><font color=\"black\"> in                    </font></mark><mark style=\"background-color: hsl(120, 75%, 97%); opacity:1.0;                     line-height:1.75\"><font color=\"black\"> glasses                    </font></mark><mark style=\"background-color: hsl(120, 75%, 97%); opacity:1.0;                     line-height:1.75\"><font color=\"black\"> smiling                    </font></mark><mark style=\"background-color: hsl(120, 75%, 99%); opacity:1.0;                     line-height:1.75\"><font color=\"black\"> with                    </font></mark><mark style=\"background-color: hsl(120, 75%, 97%); opacity:1.0;                     line-height:1.75\"><font color=\"black\"> their                    </font></mark><mark style=\"background-color: hsl(120, 75%, 99%); opacity:1.0;                     line-height:1.75\"><font color=\"black\"> thumbs                    </font></mark><mark style=\"background-color: hsl(0, 75%, 96%); opacity:1.0;                     line-height:1.75\"><font color=\"black\"> up.                    </font></mark><mark style=\"background-color: hsl(120, 75%, 97%); opacity:1.0;                     line-height:1.75\"><font color=\"black\"> #/s                    </font></mark><mark style=\"background-color: hsl(0, 75%, 98%); opacity:1.0;                     line-height:1.75\"><font color=\"black\"> #/s                    </font></mark><mark style=\"background-color: hsl(120, 75%, 92%); opacity:1.0;                     line-height:1.75\"><font color=\"black\"> Two                    </font></mark><mark style=\"background-color: hsl(120, 75%, 96%); opacity:1.0;                     line-height:1.75\"><font color=\"black\"> women                    </font></mark><mark style=\"background-color: hsl(120, 75%, 95%); opacity:1.0;                     line-height:1.75\"><font color=\"black\"> are                    </font></mark><mark style=\"background-color: hsl(120, 75%, 75%); opacity:1.0;                     line-height:1.75\"><font color=\"black\"> posing                    </font></mark><mark style=\"background-color: hsl(0, 75%, 100%); opacity:1.0;                     line-height:1.75\"><font color=\"black\"> for                    </font></mark><mark style=\"background-color: hsl(120, 75%, 96%); opacity:1.0;                     line-height:1.75\"><font color=\"black\"> the                    </font></mark><mark style=\"background-color: hsl(120, 75%, 63%); opacity:1.0;                     line-height:1.75\"><font color=\"black\"> camera                    </font></mark><mark style=\"background-color: hsl(0, 75%, 97%); opacity:1.0;                     line-height:1.75\"><font color=\"black\"> and                    </font></mark><mark style=\"background-color: hsl(120, 75%, 100%); opacity:1.0;                     line-height:1.75\"><font color=\"black\"> giving                    </font></mark><mark style=\"background-color: hsl(0, 75%, 100%); opacity:1.0;                     line-height:1.75\"><font color=\"black\"> the                    </font></mark><mark style=\"background-color: hsl(0, 75%, 99%); opacity:1.0;                     line-height:1.75\"><font color=\"black\"> thumbs                    </font></mark><mark style=\"background-color: hsl(120, 75%, 95%); opacity:1.0;                     line-height:1.75\"><font color=\"black\"> up                    </font></mark><mark style=\"background-color: hsl(0, 75%, 100%); opacity:1.0;                     line-height:1.75\"><font color=\"black\"> sign.                    </font></mark><mark style=\"background-color: hsl(120, 75%, 100%); opacity:1.0;                     line-height:1.75\"><font color=\"black\"> #/s                    </font></mark></td><tr></table>"
      ],
      "text/plain": [
       "<IPython.core.display.HTML object>"
      ]
     },
     "metadata": {},
     "output_type": "display_data"
    },
    {
     "name": "stdout",
     "output_type": "stream",
     "text": [
      "<IPython.core.display.HTML object>\n",
      "i: 9\n",
      "Raw review: ['Three guys in speedos have their feet up on the railing of a boat getting a tan.', 'A few men on the deck are dropping another man into the water']\n",
      "GT target: 1.600000023841858\n",
      "pred_prob 1.1263110488653183\n"
     ]
    },
    {
     "name": "stderr",
     "output_type": "stream",
     "text": [
      "/home/user/anaconda3/envs/py38/lib/python3.9/site-packages/captum/attr/_core/lime.py:1088: UserWarning: Attempting to construct interpretable model with > 10000 features.This can be very slow or lead to OOM issues. Please provide a featuremask which groups input features to reduce the number of interpretablefeatures. \n",
      "  warnings.warn(\n",
      "Lime attribution: 100%|███████████████████████████| 3/3 [02:36<00:00, 52.17s/it]\n"
     ]
    },
    {
     "name": "stdout",
     "output_type": "stream",
     "text": [
      "attribution took 167.572538 seconds\n",
      "before zeroing tensor([[[ 0.0000e+00,  0.0000e+00,  6.9560e-05,  ..., -7.1504e-04,\n",
      "           0.0000e+00,  0.0000e+00],\n",
      "         [ 0.0000e+00,  0.0000e+00,  0.0000e+00,  ...,  0.0000e+00,\n",
      "           0.0000e+00,  0.0000e+00],\n",
      "         [ 0.0000e+00, -3.8847e-04,  0.0000e+00,  ...,  0.0000e+00,\n",
      "           0.0000e+00,  0.0000e+00],\n",
      "         ...,\n",
      "         [ 0.0000e+00,  0.0000e+00,  0.0000e+00,  ...,  0.0000e+00,\n",
      "           0.0000e+00,  0.0000e+00],\n",
      "         [ 0.0000e+00,  0.0000e+00,  0.0000e+00,  ...,  0.0000e+00,\n",
      "           0.0000e+00,  0.0000e+00],\n",
      "         [ 0.0000e+00,  0.0000e+00,  0.0000e+00,  ...,  0.0000e+00,\n",
      "           0.0000e+00,  0.0000e+00]]])\n",
      "after zeroing tensor([[[ 0.0000e+00,  0.0000e+00,  6.9560e-05,  ..., -7.1504e-04,\n",
      "           0.0000e+00,  0.0000e+00],\n",
      "         [ 0.0000e+00,  0.0000e+00,  0.0000e+00,  ...,  0.0000e+00,\n",
      "           0.0000e+00,  0.0000e+00],\n",
      "         [ 0.0000e+00, -3.8847e-04,  0.0000e+00,  ...,  0.0000e+00,\n",
      "           0.0000e+00,  0.0000e+00],\n",
      "         ...,\n",
      "         [ 0.0000e+00,  0.0000e+00,  0.0000e+00,  ...,  0.0000e+00,\n",
      "           0.0000e+00,  0.0000e+00],\n",
      "         [ 0.0000e+00,  0.0000e+00,  0.0000e+00,  ...,  0.0000e+00,\n",
      "           0.0000e+00,  0.0000e+00],\n",
      "         [ 0.0000e+00,  0.0000e+00,  0.0000e+00,  ...,  0.0000e+00,\n",
      "           0.0000e+00,  0.0000e+00]]])\n",
      "word attr tensor([-0.2236, -0.2941,  0.2372, -0.0711, -0.0598, -0.1011,  0.0396, -0.1187,\n",
      "         0.0689, -0.1517, -0.0505,  0.1289, -0.4141, -0.1279,  0.1041,  0.1347,\n",
      "        -0.0831, -0.1534,  0.2147,  0.0986, -0.0740,  0.3039, -0.0884,  0.0076,\n",
      "        -0.2136,  0.1683, -0.0255, -0.1519, -0.1563, -0.1659, -0.0106, -0.3068,\n",
      "        -0.0660, -0.1684, -0.0950, -0.1773])\n",
      "conti attr [tensor(-0.2236), tensor(-0.2941), tensor(0.2372), tensor(-0.0711), tensor(-0.1609), tensor(0.0396), tensor(-0.1187), tensor(0.0689), tensor(-0.1517), tensor(-0.0505), tensor(0.1289), tensor(-0.4141), tensor(-0.1279), tensor(0.1041), tensor(0.1347), tensor(-0.0831), tensor(-0.1534), tensor(0.3132), tensor(-0.0740), tensor(0.3039), tensor(-0.0884), tensor(0.0076), tensor(-0.2136), tensor(0.1683), tensor(-0.0255), tensor(-0.1519), tensor(-0.1563), tensor(-0.1659), tensor(-0.0106), tensor(-0.3068), tensor(-0.0660), tensor(-0.1684), tensor(-0.0950), tensor(-0.1773)]\n",
      "detokenized ['<s>', 'Three', 'guys', 'in', 'speed', 'os', 'have', 'their', 'feet', 'up', 'on', 'the', 'railing', 'of', 'a', 'boat', 'getting', 'a', 'tan', '.', '</s>', '</s>', 'A', 'few', 'men', 'on', 'the', 'deck', 'are', 'dropping', 'another', 'man', 'into', 'the', 'water', '</s>']\n",
      "len conti_raw 34\n",
      "conti_raw ['<s>', 'Three', 'guys', 'in', 'speedos', 'have', 'their', 'feet', 'up', 'on', 'the', 'railing', 'of', 'a', 'boat', 'getting', 'a', 'tan.', '</s>', '</s>', 'A', 'few', 'men', 'on', 'the', 'deck', 'are', 'dropping', 'another', 'man', 'into', 'the', 'water', '</s>']\n"
     ]
    },
    {
     "data": {
      "text/html": [
       "<table width: 100%><div style=\"border-top: 1px solid; margin-top: 5px;             padding-top: 5px; display: inline-block\"><b>Legend: </b><span style=\"display: inline-block; width: 10px; height: 10px;                 border: 1px solid; background-color:                 hsl(0, 75%, 60%)\"></span> Negative  <span style=\"display: inline-block; width: 10px; height: 10px;                 border: 1px solid; background-color:                 hsl(0, 75%, 100%)\"></span> Neutral  <span style=\"display: inline-block; width: 10px; height: 10px;                 border: 1px solid; background-color:                 hsl(120, 75%, 50%)\"></span> Positive  </div><tr><th>True Label</th><th>Predicted Label</th><th>Attribution Label</th><th>Attribution Score</th><th>Word Importance</th><tr><td><text style=\"padding-right:2em\"><b>Not Similar</b></text></td><td><text style=\"padding-right:2em\"><b>Not Similar (0.23)</b></text></td><td><text style=\"padding-right:2em\"><b>Not Similar</b></text></td><td><text style=\"padding-right:2em\"><b>-2.04</b></text></td><td><mark style=\"background-color: hsl(0, 75%, 92%); opacity:1.0;                     line-height:1.75\"><font color=\"black\"> #s                    </font></mark><mark style=\"background-color: hsl(0, 75%, 89%); opacity:1.0;                     line-height:1.75\"><font color=\"black\"> Three                    </font></mark><mark style=\"background-color: hsl(120, 75%, 89%); opacity:1.0;                     line-height:1.75\"><font color=\"black\"> guys                    </font></mark><mark style=\"background-color: hsl(0, 75%, 98%); opacity:1.0;                     line-height:1.75\"><font color=\"black\"> in                    </font></mark><mark style=\"background-color: hsl(0, 75%, 94%); opacity:1.0;                     line-height:1.75\"><font color=\"black\"> speedos                    </font></mark><mark style=\"background-color: hsl(120, 75%, 99%); opacity:1.0;                     line-height:1.75\"><font color=\"black\"> have                    </font></mark><mark style=\"background-color: hsl(0, 75%, 96%); opacity:1.0;                     line-height:1.75\"><font color=\"black\"> their                    </font></mark><mark style=\"background-color: hsl(120, 75%, 97%); opacity:1.0;                     line-height:1.75\"><font color=\"black\"> feet                    </font></mark><mark style=\"background-color: hsl(0, 75%, 94%); opacity:1.0;                     line-height:1.75\"><font color=\"black\"> up                    </font></mark><mark style=\"background-color: hsl(0, 75%, 98%); opacity:1.0;                     line-height:1.75\"><font color=\"black\"> on                    </font></mark><mark style=\"background-color: hsl(120, 75%, 94%); opacity:1.0;                     line-height:1.75\"><font color=\"black\"> the                    </font></mark><mark style=\"background-color: hsl(0, 75%, 84%); opacity:1.0;                     line-height:1.75\"><font color=\"black\"> railing                    </font></mark><mark style=\"background-color: hsl(0, 75%, 95%); opacity:1.0;                     line-height:1.75\"><font color=\"black\"> of                    </font></mark><mark style=\"background-color: hsl(120, 75%, 95%); opacity:1.0;                     line-height:1.75\"><font color=\"black\"> a                    </font></mark><mark style=\"background-color: hsl(120, 75%, 94%); opacity:1.0;                     line-height:1.75\"><font color=\"black\"> boat                    </font></mark><mark style=\"background-color: hsl(0, 75%, 97%); opacity:1.0;                     line-height:1.75\"><font color=\"black\"> getting                    </font></mark><mark style=\"background-color: hsl(0, 75%, 94%); opacity:1.0;                     line-height:1.75\"><font color=\"black\"> a                    </font></mark><mark style=\"background-color: hsl(120, 75%, 85%); opacity:1.0;                     line-height:1.75\"><font color=\"black\"> tan.                    </font></mark><mark style=\"background-color: hsl(0, 75%, 98%); opacity:1.0;                     line-height:1.75\"><font color=\"black\"> #/s                    </font></mark><mark style=\"background-color: hsl(120, 75%, 85%); opacity:1.0;                     line-height:1.75\"><font color=\"black\"> #/s                    </font></mark><mark style=\"background-color: hsl(0, 75%, 97%); opacity:1.0;                     line-height:1.75\"><font color=\"black\"> A                    </font></mark><mark style=\"background-color: hsl(120, 75%, 100%); opacity:1.0;                     line-height:1.75\"><font color=\"black\"> few                    </font></mark><mark style=\"background-color: hsl(0, 75%, 92%); opacity:1.0;                     line-height:1.75\"><font color=\"black\"> men                    </font></mark><mark style=\"background-color: hsl(120, 75%, 92%); opacity:1.0;                     line-height:1.75\"><font color=\"black\"> on                    </font></mark><mark style=\"background-color: hsl(0, 75%, 99%); opacity:1.0;                     line-height:1.75\"><font color=\"black\"> the                    </font></mark><mark style=\"background-color: hsl(0, 75%, 94%); opacity:1.0;                     line-height:1.75\"><font color=\"black\"> deck                    </font></mark><mark style=\"background-color: hsl(0, 75%, 94%); opacity:1.0;                     line-height:1.75\"><font color=\"black\"> are                    </font></mark><mark style=\"background-color: hsl(0, 75%, 94%); opacity:1.0;                     line-height:1.75\"><font color=\"black\"> dropping                    </font></mark><mark style=\"background-color: hsl(0, 75%, 100%); opacity:1.0;                     line-height:1.75\"><font color=\"black\"> another                    </font></mark><mark style=\"background-color: hsl(0, 75%, 88%); opacity:1.0;                     line-height:1.75\"><font color=\"black\"> man                    </font></mark><mark style=\"background-color: hsl(0, 75%, 98%); opacity:1.0;                     line-height:1.75\"><font color=\"black\"> into                    </font></mark><mark style=\"background-color: hsl(0, 75%, 94%); opacity:1.0;                     line-height:1.75\"><font color=\"black\"> the                    </font></mark><mark style=\"background-color: hsl(0, 75%, 97%); opacity:1.0;                     line-height:1.75\"><font color=\"black\"> water                    </font></mark><mark style=\"background-color: hsl(0, 75%, 93%); opacity:1.0;                     line-height:1.75\"><font color=\"black\"> #/s                    </font></mark></td><tr></table>"
      ],
      "text/plain": [
       "<IPython.core.display.HTML object>"
      ]
     },
     "metadata": {},
     "output_type": "display_data"
    },
    {
     "name": "stderr",
     "output_type": "stream",
     "text": [
      "/home/user/anaconda3/envs/py38/lib/python3.9/site-packages/captum/attr/_core/lime.py:1088: UserWarning: Attempting to construct interpretable model with > 10000 features.This can be very slow or lead to OOM issues. Please provide a featuremask which groups input features to reduce the number of interpretablefeatures. \n",
      "  warnings.warn(\n"
     ]
    },
    {
     "name": "stdout",
     "output_type": "stream",
     "text": [
      "<IPython.core.display.HTML object>\n",
      "i: 10\n",
      "Raw review: ['Cardinals enter Vatican for historic vote', 'Cardinals enter Sistine Chapel to elect pope']\n",
      "GT target: 3.4000000953674316\n",
      "pred_prob 3.9953607320785522\n"
     ]
    },
    {
     "name": "stderr",
     "output_type": "stream",
     "text": [
      "Lime attribution: 100%|███████████████████████████| 3/3 [01:21<00:00, 27.33s/it]\n"
     ]
    },
    {
     "name": "stdout",
     "output_type": "stream",
     "text": [
      "attribution took 98.294878 seconds\n",
      "before zeroing tensor([[[ 0.0000,  0.0000,  0.0000,  ...,  0.0000,  0.0000,  0.0011],\n",
      "         [ 0.0000,  0.0000,  0.0000,  ...,  0.0000,  0.0000,  0.0000],\n",
      "         [ 0.0000,  0.0000,  0.0000,  ...,  0.0000,  0.0000,  0.0000],\n",
      "         ...,\n",
      "         [ 0.0000,  0.0000,  0.0000,  ...,  0.0000,  0.0000, -0.0030],\n",
      "         [ 0.0000,  0.0000,  0.0000,  ...,  0.0000,  0.0000,  0.0003],\n",
      "         [ 0.0000,  0.0000,  0.0000,  ...,  0.0085,  0.0026, -0.0021]]])\n",
      "after zeroing tensor([[[ 0.0000,  0.0000,  0.0000,  ...,  0.0000,  0.0000,  0.0011],\n",
      "         [ 0.0000,  0.0000,  0.0000,  ...,  0.0000,  0.0000,  0.0000],\n",
      "         [ 0.0000,  0.0000,  0.0000,  ...,  0.0000,  0.0000,  0.0000],\n",
      "         ...,\n",
      "         [ 0.0000,  0.0000,  0.0000,  ...,  0.0000,  0.0000, -0.0030],\n",
      "         [ 0.0000,  0.0000,  0.0000,  ...,  0.0000,  0.0000,  0.0003],\n",
      "         [ 0.0000,  0.0000,  0.0000,  ...,  0.0085,  0.0026, -0.0021]]])\n",
      "word attr tensor([-0.0319,  0.1002,  0.2621,  0.1340,  0.3932,  0.0513, -0.0388,  0.1645,\n",
      "         0.0797,  0.3422,  0.4931,  0.2551,  0.0803, -0.0440,  0.2551, -0.1220,\n",
      "        -0.1087,  0.3674,  0.1819,  0.1290])\n",
      "conti attr [tensor(-0.0319), tensor(0.3623), tensor(0.1340), tensor(0.3932), tensor(0.0513), tensor(-0.0388), tensor(0.1645), tensor(0.0797), tensor(0.3422), tensor(0.7481), tensor(0.0803), tensor(0.2111), tensor(-0.1220), tensor(-0.1087), tensor(0.3674), tensor(0.1819), tensor(0.1290)]\n",
      "detokenized ['<s>', 'Card', 'inals', 'enter', 'Vatican', 'for', 'historic', 'vote', '</s>', '</s>', 'Card', 'inals', 'enter', 'S', 'istine', 'Chapel', 'to', 'elect', 'pope', '</s>']\n",
      "len conti_raw 17\n",
      "conti_raw ['<s>', 'Cardinals', 'enter', 'Vatican', 'for', 'historic', 'vote', '</s>', '</s>', 'Cardinals', 'enter', 'Sistine', 'Chapel', 'to', 'elect', 'pope', '</s>']\n"
     ]
    },
    {
     "data": {
      "text/html": [
       "<table width: 100%><div style=\"border-top: 1px solid; margin-top: 5px;             padding-top: 5px; display: inline-block\"><b>Legend: </b><span style=\"display: inline-block; width: 10px; height: 10px;                 border: 1px solid; background-color:                 hsl(0, 75%, 60%)\"></span> Negative  <span style=\"display: inline-block; width: 10px; height: 10px;                 border: 1px solid; background-color:                 hsl(0, 75%, 100%)\"></span> Neutral  <span style=\"display: inline-block; width: 10px; height: 10px;                 border: 1px solid; background-color:                 hsl(120, 75%, 50%)\"></span> Positive  </div><tr><th>True Label</th><th>Predicted Label</th><th>Attribution Label</th><th>Attribution Score</th><th>Word Importance</th><tr><td><text style=\"padding-right:2em\"><b>Similar</b></text></td><td><text style=\"padding-right:2em\"><b>Similar (0.80)</b></text></td><td><text style=\"padding-right:2em\"><b>Similar</b></text></td><td><text style=\"padding-right:2em\"><b>2.94</b></text></td><td><mark style=\"background-color: hsl(0, 75%, 99%); opacity:1.0;                     line-height:1.75\"><font color=\"black\"> #s                    </font></mark><mark style=\"background-color: hsl(120, 75%, 82%); opacity:1.0;                     line-height:1.75\"><font color=\"black\"> Cardinals                    </font></mark><mark style=\"background-color: hsl(120, 75%, 94%); opacity:1.0;                     line-height:1.75\"><font color=\"black\"> enter                    </font></mark><mark style=\"background-color: hsl(120, 75%, 81%); opacity:1.0;                     line-height:1.75\"><font color=\"black\"> Vatican                    </font></mark><mark style=\"background-color: hsl(120, 75%, 98%); opacity:1.0;                     line-height:1.75\"><font color=\"black\"> for                    </font></mark><mark style=\"background-color: hsl(0, 75%, 99%); opacity:1.0;                     line-height:1.75\"><font color=\"black\"> historic                    </font></mark><mark style=\"background-color: hsl(120, 75%, 92%); opacity:1.0;                     line-height:1.75\"><font color=\"black\"> vote                    </font></mark><mark style=\"background-color: hsl(120, 75%, 97%); opacity:1.0;                     line-height:1.75\"><font color=\"black\"> #/s                    </font></mark><mark style=\"background-color: hsl(120, 75%, 83%); opacity:1.0;                     line-height:1.75\"><font color=\"black\"> #/s                    </font></mark><mark style=\"background-color: hsl(120, 75%, 63%); opacity:1.0;                     line-height:1.75\"><font color=\"black\"> Cardinals                    </font></mark><mark style=\"background-color: hsl(120, 75%, 96%); opacity:1.0;                     line-height:1.75\"><font color=\"black\"> enter                    </font></mark><mark style=\"background-color: hsl(120, 75%, 90%); opacity:1.0;                     line-height:1.75\"><font color=\"black\"> Sistine                    </font></mark><mark style=\"background-color: hsl(0, 75%, 96%); opacity:1.0;                     line-height:1.75\"><font color=\"black\"> Chapel                    </font></mark><mark style=\"background-color: hsl(0, 75%, 96%); opacity:1.0;                     line-height:1.75\"><font color=\"black\"> to                    </font></mark><mark style=\"background-color: hsl(120, 75%, 82%); opacity:1.0;                     line-height:1.75\"><font color=\"black\"> elect                    </font></mark><mark style=\"background-color: hsl(120, 75%, 91%); opacity:1.0;                     line-height:1.75\"><font color=\"black\"> pope                    </font></mark><mark style=\"background-color: hsl(120, 75%, 94%); opacity:1.0;                     line-height:1.75\"><font color=\"black\"> #/s                    </font></mark></td><tr></table>"
      ],
      "text/plain": [
       "<IPython.core.display.HTML object>"
      ]
     },
     "metadata": {},
     "output_type": "display_data"
    },
    {
     "name": "stdout",
     "output_type": "stream",
     "text": [
      "<IPython.core.display.HTML object>\n",
      "i: 11\n",
      "Raw review: ['According to this website the peak visible magnitude will be about 10.5 around February 2nd.', 'The AAVSO data seems to indicate that it might have already peaked, at around 10.5 (visual).']\n",
      "GT target: 3.5999999046325684\n"
     ]
    },
    {
     "name": "stderr",
     "output_type": "stream",
     "text": [
      "/home/user/anaconda3/envs/py38/lib/python3.9/site-packages/captum/attr/_core/lime.py:1088: UserWarning: Attempting to construct interpretable model with > 10000 features.This can be very slow or lead to OOM issues. Please provide a featuremask which groups input features to reduce the number of interpretablefeatures. \n",
      "  warnings.warn(\n"
     ]
    },
    {
     "name": "stdout",
     "output_type": "stream",
     "text": [
      "pred_prob 2.8884661197662354\n"
     ]
    },
    {
     "name": "stderr",
     "output_type": "stream",
     "text": [
      "Lime attribution: 100%|███████████████████████████| 3/3 [03:19<00:00, 66.43s/it]\n"
     ]
    },
    {
     "name": "stdout",
     "output_type": "stream",
     "text": [
      "attribution took 212.219233 seconds\n",
      "before zeroing tensor([[[0., 0., 0.,  ..., 0., 0., 0.],\n",
      "         [0., 0., 0.,  ..., 0., 0., 0.],\n",
      "         [0., 0., 0.,  ..., 0., 0., 0.],\n",
      "         ...,\n",
      "         [0., 0., 0.,  ..., 0., 0., 0.],\n",
      "         [0., 0., 0.,  ..., 0., 0., 0.],\n",
      "         [0., 0., 0.,  ..., 0., 0., 0.]]])\n",
      "after zeroing tensor([[[0., 0., 0.,  ..., 0., 0., 0.],\n",
      "         [0., 0., 0.,  ..., 0., 0., 0.],\n",
      "         [0., 0., 0.,  ..., 0., 0., 0.],\n",
      "         ...,\n",
      "         [0., 0., 0.,  ..., 0., 0., 0.],\n",
      "         [0., 0., 0.,  ..., 0., 0., 0.],\n",
      "         [0., 0., 0.,  ..., 0., 0., 0.]]])\n",
      "word attr tensor([-0.2642, -0.1390, -0.0160,  0.0266,  0.0082, -0.0491,  0.1485, -0.1516,\n",
      "        -0.1405,  0.0828, -0.0174, -0.1856, -0.0020,  0.0986,  0.1566,  0.1113,\n",
      "         0.1339,  0.0549, -0.0728, -0.0981,  0.0871,  0.1972, -0.1286, -0.0352,\n",
      "         0.1816, -0.0673, -0.0708,  0.2029,  0.3450,  0.0558,  0.0867,  0.0703,\n",
      "         0.1602,  0.1985,  0.2364,  0.3515,  0.0417, -0.1124,  0.1098,  0.1343,\n",
      "         0.0300, -0.1818,  0.0822,  0.3232,  0.0422,  0.0132])\n",
      "conti attr [tensor(-0.2642), tensor(-0.1390), tensor(-0.0160), tensor(0.0266), tensor(0.0082), tensor(-0.0491), tensor(0.1485), tensor(-0.1516), tensor(-0.1405), tensor(0.0828), tensor(-0.0174), tensor(-0.1856), tensor(0.2532), tensor(0.1113), tensor(0.1339), tensor(-0.1161), tensor(0.0871), tensor(0.1972), tensor(-0.1286), tensor(0.0791), tensor(-0.0708), tensor(0.2029), tensor(0.3450), tensor(0.0558), tensor(0.0867), tensor(0.0703), tensor(0.1602), tensor(0.1985), tensor(0.2364), tensor(0.3931), tensor(-0.1124), tensor(0.1098), tensor(-0.0175), tensor(0.4476), tensor(0.0132)]\n",
      "detokenized ['<s>', 'According', 'to', 'this', 'website', 'the', 'peak', 'visible', 'magnitude', 'will', 'be', 'about', '10', '.', '5', 'around', 'February', '2', 'nd', '.', '</s>', '</s>', 'The', 'A', 'AV', 'SO', 'data', 'seems', 'to', 'indicate', 'that', 'it', 'might', 'have', 'already', 'peaked', ',', 'at', 'around', '10', '.', '5', '(', 'visual', ').', '</s>']\n",
      "len conti_raw 35\n",
      "conti_raw ['<s>', 'According', 'to', 'this', 'website', 'the', 'peak', 'visible', 'magnitude', 'will', 'be', 'about', '10.5', 'around', 'February', '2nd.', '</s>', '</s>', 'The', 'AAVSO', 'data', 'seems', 'to', 'indicate', 'that', 'it', 'might', 'have', 'already', 'peaked,', 'at', 'around', '10.5', '(visual).', '</s>']\n"
     ]
    },
    {
     "data": {
      "text/html": [
       "<table width: 100%><div style=\"border-top: 1px solid; margin-top: 5px;             padding-top: 5px; display: inline-block\"><b>Legend: </b><span style=\"display: inline-block; width: 10px; height: 10px;                 border: 1px solid; background-color:                 hsl(0, 75%, 60%)\"></span> Negative  <span style=\"display: inline-block; width: 10px; height: 10px;                 border: 1px solid; background-color:                 hsl(0, 75%, 100%)\"></span> Neutral  <span style=\"display: inline-block; width: 10px; height: 10px;                 border: 1px solid; background-color:                 hsl(120, 75%, 50%)\"></span> Positive  </div><tr><th>True Label</th><th>Predicted Label</th><th>Attribution Label</th><th>Attribution Score</th><th>Word Importance</th><tr><td><text style=\"padding-right:2em\"><b>Similar</b></text></td><td><text style=\"padding-right:2em\"><b>Similar (0.58)</b></text></td><td><text style=\"padding-right:2em\"><b>Similar</b></text></td><td><text style=\"padding-right:2em\"><b>2.04</b></text></td><td><mark style=\"background-color: hsl(0, 75%, 90%); opacity:1.0;                     line-height:1.75\"><font color=\"black\"> #s                    </font></mark><mark style=\"background-color: hsl(0, 75%, 95%); opacity:1.0;                     line-height:1.75\"><font color=\"black\"> According                    </font></mark><mark style=\"background-color: hsl(0, 75%, 100%); opacity:1.0;                     line-height:1.75\"><font color=\"black\"> to                    </font></mark><mark style=\"background-color: hsl(120, 75%, 99%); opacity:1.0;                     line-height:1.75\"><font color=\"black\"> this                    </font></mark><mark style=\"background-color: hsl(120, 75%, 100%); opacity:1.0;                     line-height:1.75\"><font color=\"black\"> website                    </font></mark><mark style=\"background-color: hsl(0, 75%, 99%); opacity:1.0;                     line-height:1.75\"><font color=\"black\"> the                    </font></mark><mark style=\"background-color: hsl(120, 75%, 93%); opacity:1.0;                     line-height:1.75\"><font color=\"black\"> peak                    </font></mark><mark style=\"background-color: hsl(0, 75%, 94%); opacity:1.0;                     line-height:1.75\"><font color=\"black\"> visible                    </font></mark><mark style=\"background-color: hsl(0, 75%, 95%); opacity:1.0;                     line-height:1.75\"><font color=\"black\"> magnitude                    </font></mark><mark style=\"background-color: hsl(120, 75%, 96%); opacity:1.0;                     line-height:1.75\"><font color=\"black\"> will                    </font></mark><mark style=\"background-color: hsl(0, 75%, 100%); opacity:1.0;                     line-height:1.75\"><font color=\"black\"> be                    </font></mark><mark style=\"background-color: hsl(0, 75%, 93%); opacity:1.0;                     line-height:1.75\"><font color=\"black\"> about                    </font></mark><mark style=\"background-color: hsl(120, 75%, 88%); opacity:1.0;                     line-height:1.75\"><font color=\"black\"> 10.5                    </font></mark><mark style=\"background-color: hsl(120, 75%, 95%); opacity:1.0;                     line-height:1.75\"><font color=\"black\"> around                    </font></mark><mark style=\"background-color: hsl(120, 75%, 94%); opacity:1.0;                     line-height:1.75\"><font color=\"black\"> February                    </font></mark><mark style=\"background-color: hsl(0, 75%, 96%); opacity:1.0;                     line-height:1.75\"><font color=\"black\"> 2nd.                    </font></mark><mark style=\"background-color: hsl(120, 75%, 96%); opacity:1.0;                     line-height:1.75\"><font color=\"black\"> #/s                    </font></mark><mark style=\"background-color: hsl(120, 75%, 91%); opacity:1.0;                     line-height:1.75\"><font color=\"black\"> #/s                    </font></mark><mark style=\"background-color: hsl(0, 75%, 95%); opacity:1.0;                     line-height:1.75\"><font color=\"black\"> The                    </font></mark><mark style=\"background-color: hsl(120, 75%, 97%); opacity:1.0;                     line-height:1.75\"><font color=\"black\"> AAVSO                    </font></mark><mark style=\"background-color: hsl(0, 75%, 98%); opacity:1.0;                     line-height:1.75\"><font color=\"black\"> data                    </font></mark><mark style=\"background-color: hsl(120, 75%, 90%); opacity:1.0;                     line-height:1.75\"><font color=\"black\"> seems                    </font></mark><mark style=\"background-color: hsl(120, 75%, 83%); opacity:1.0;                     line-height:1.75\"><font color=\"black\"> to                    </font></mark><mark style=\"background-color: hsl(120, 75%, 98%); opacity:1.0;                     line-height:1.75\"><font color=\"black\"> indicate                    </font></mark><mark style=\"background-color: hsl(120, 75%, 96%); opacity:1.0;                     line-height:1.75\"><font color=\"black\"> that                    </font></mark><mark style=\"background-color: hsl(120, 75%, 97%); opacity:1.0;                     line-height:1.75\"><font color=\"black\"> it                    </font></mark><mark style=\"background-color: hsl(120, 75%, 92%); opacity:1.0;                     line-height:1.75\"><font color=\"black\"> might                    </font></mark><mark style=\"background-color: hsl(120, 75%, 91%); opacity:1.0;                     line-height:1.75\"><font color=\"black\"> have                    </font></mark><mark style=\"background-color: hsl(120, 75%, 89%); opacity:1.0;                     line-height:1.75\"><font color=\"black\"> already                    </font></mark><mark style=\"background-color: hsl(120, 75%, 81%); opacity:1.0;                     line-height:1.75\"><font color=\"black\"> peaked,                    </font></mark><mark style=\"background-color: hsl(0, 75%, 96%); opacity:1.0;                     line-height:1.75\"><font color=\"black\"> at                    </font></mark><mark style=\"background-color: hsl(120, 75%, 95%); opacity:1.0;                     line-height:1.75\"><font color=\"black\"> around                    </font></mark><mark style=\"background-color: hsl(0, 75%, 100%); opacity:1.0;                     line-height:1.75\"><font color=\"black\"> 10.5                    </font></mark><mark style=\"background-color: hsl(120, 75%, 78%); opacity:1.0;                     line-height:1.75\"><font color=\"black\"> (visual).                    </font></mark><mark style=\"background-color: hsl(120, 75%, 100%); opacity:1.0;                     line-height:1.75\"><font color=\"black\"> #/s                    </font></mark></td><tr></table>"
      ],
      "text/plain": [
       "<IPython.core.display.HTML object>"
      ]
     },
     "metadata": {},
     "output_type": "display_data"
    },
    {
     "name": "stdout",
     "output_type": "stream",
     "text": [
      "<IPython.core.display.HTML object>\n",
      "i: 12\n",
      "Raw review: ['Is it possible for a match to get tie even after applying D/L method?', \"Yes, it's possible for a match to get tie after applying the D/L method.\"]\n",
      "GT target: 4.0\n"
     ]
    },
    {
     "name": "stderr",
     "output_type": "stream",
     "text": [
      "/home/user/anaconda3/envs/py38/lib/python3.9/site-packages/captum/attr/_core/lime.py:1088: UserWarning: Attempting to construct interpretable model with > 10000 features.This can be very slow or lead to OOM issues. Please provide a featuremask which groups input features to reduce the number of interpretablefeatures. \n",
      "  warnings.warn(\n"
     ]
    },
    {
     "name": "stdout",
     "output_type": "stream",
     "text": [
      "pred_prob 3.2219207286834717\n"
     ]
    },
    {
     "name": "stderr",
     "output_type": "stream",
     "text": [
      "Lime attribution: 100%|███████████████████████████| 3/3 [03:05<00:00, 61.72s/it]\n"
     ]
    },
    {
     "name": "stdout",
     "output_type": "stream",
     "text": [
      "attribution took 197.402770 seconds\n",
      "before zeroing tensor([[[ 0.0000,  0.0000,  0.0000,  ...,  0.0000,  0.0000,  0.0000],\n",
      "         [ 0.0000,  0.0000,  0.0000,  ...,  0.0000,  0.0000,  0.0000],\n",
      "         [ 0.0000, -0.0001,  0.0000,  ...,  0.0000,  0.0000,  0.0000],\n",
      "         ...,\n",
      "         [ 0.0000,  0.0000,  0.0000,  ...,  0.0000,  0.0000,  0.0000],\n",
      "         [ 0.0000,  0.0000,  0.0000,  ...,  0.0000,  0.0000,  0.0000],\n",
      "         [ 0.0000,  0.0000,  0.0000,  ...,  0.0000,  0.0000,  0.0000]]])\n",
      "after zeroing tensor([[[ 0.0000,  0.0000,  0.0000,  ...,  0.0000,  0.0000,  0.0000],\n",
      "         [ 0.0000,  0.0000,  0.0000,  ...,  0.0000,  0.0000,  0.0000],\n",
      "         [ 0.0000, -0.0001,  0.0000,  ...,  0.0000,  0.0000,  0.0000],\n",
      "         ...,\n",
      "         [ 0.0000,  0.0000,  0.0000,  ...,  0.0000,  0.0000,  0.0000],\n",
      "         [ 0.0000,  0.0000,  0.0000,  ...,  0.0000,  0.0000,  0.0000],\n",
      "         [ 0.0000,  0.0000,  0.0000,  ...,  0.0000,  0.0000,  0.0000]]])\n",
      "word attr tensor([-0.2104, -0.3209,  0.0066,  0.1274,  0.0226, -0.0370,  0.2337,  0.1129,\n",
      "         0.1448, -0.1114,  0.0402, -0.1695,  0.0560,  0.3024, -0.0183,  0.1259,\n",
      "         0.0219, -0.0339, -0.0676, -0.0055,  0.1880, -0.2270, -0.0052, -0.1447,\n",
      "        -0.2642, -0.0828, -0.1409,  0.0208, -0.0498,  0.1565,  0.0153, -0.2288,\n",
      "        -0.0217,  0.0760, -0.2166, -0.0679,  0.1177, -0.2206, -0.3346, -0.2643])\n",
      "conti attr [tensor(-0.2104), tensor(-0.3209), tensor(0.0066), tensor(0.1274), tensor(0.0226), tensor(-0.0370), tensor(0.2337), tensor(0.1129), tensor(0.1448), tensor(-0.1114), tensor(0.0402), tensor(-0.1695), tensor(0.0560), tensor(0.4101), tensor(-0.0120), tensor(-0.0676), tensor(-0.0055), tensor(-0.0389), tensor(-0.1499), tensor(-0.2642), tensor(-0.0828), tensor(-0.1409), tensor(0.0208), tensor(-0.0498), tensor(0.1565), tensor(0.0153), tensor(-0.2288), tensor(-0.0217), tensor(0.0760), tensor(-0.1667), tensor(-0.5553), tensor(-0.2643)]\n",
      "detokenized ['<s>', 'Is', 'it', 'possible', 'for', 'a', 'match', 'to', 'get', 'tie', 'even', 'after', 'applying', 'D', '/', 'L', 'method', '?', '</s>', '</s>', 'Yes', ',', 'it', \"'s\", 'possible', 'for', 'a', 'match', 'to', 'get', 'tie', 'after', 'applying', 'the', 'D', '/', 'L', 'method', '.', '</s>']\n",
      "len conti_raw 32\n",
      "conti_raw ['<s>', 'Is', 'it', 'possible', 'for', 'a', 'match', 'to', 'get', 'tie', 'even', 'after', 'applying', 'D/L', 'method?', '</s>', '</s>', 'Yes,', \"it's\", 'possible', 'for', 'a', 'match', 'to', 'get', 'tie', 'after', 'applying', 'the', 'D/L', 'method.', '</s>']\n"
     ]
    },
    {
     "data": {
      "text/html": [
       "<table width: 100%><div style=\"border-top: 1px solid; margin-top: 5px;             padding-top: 5px; display: inline-block\"><b>Legend: </b><span style=\"display: inline-block; width: 10px; height: 10px;                 border: 1px solid; background-color:                 hsl(0, 75%, 60%)\"></span> Negative  <span style=\"display: inline-block; width: 10px; height: 10px;                 border: 1px solid; background-color:                 hsl(0, 75%, 100%)\"></span> Neutral  <span style=\"display: inline-block; width: 10px; height: 10px;                 border: 1px solid; background-color:                 hsl(120, 75%, 50%)\"></span> Positive  </div><tr><th>True Label</th><th>Predicted Label</th><th>Attribution Label</th><th>Attribution Score</th><th>Word Importance</th><tr><td><text style=\"padding-right:2em\"><b>Similar</b></text></td><td><text style=\"padding-right:2em\"><b>Similar (0.64)</b></text></td><td><text style=\"padding-right:2em\"><b>Not Similar</b></text></td><td><text style=\"padding-right:2em\"><b>-1.47</b></text></td><td><mark style=\"background-color: hsl(0, 75%, 92%); opacity:1.0;                     line-height:1.75\"><font color=\"black\"> #s                    </font></mark><mark style=\"background-color: hsl(0, 75%, 88%); opacity:1.0;                     line-height:1.75\"><font color=\"black\"> Is                    </font></mark><mark style=\"background-color: hsl(120, 75%, 100%); opacity:1.0;                     line-height:1.75\"><font color=\"black\"> it                    </font></mark><mark style=\"background-color: hsl(120, 75%, 94%); opacity:1.0;                     line-height:1.75\"><font color=\"black\"> possible                    </font></mark><mark style=\"background-color: hsl(120, 75%, 99%); opacity:1.0;                     line-height:1.75\"><font color=\"black\"> for                    </font></mark><mark style=\"background-color: hsl(0, 75%, 99%); opacity:1.0;                     line-height:1.75\"><font color=\"black\"> a                    </font></mark><mark style=\"background-color: hsl(120, 75%, 89%); opacity:1.0;                     line-height:1.75\"><font color=\"black\"> match                    </font></mark><mark style=\"background-color: hsl(120, 75%, 95%); opacity:1.0;                     line-height:1.75\"><font color=\"black\"> to                    </font></mark><mark style=\"background-color: hsl(120, 75%, 93%); opacity:1.0;                     line-height:1.75\"><font color=\"black\"> get                    </font></mark><mark style=\"background-color: hsl(0, 75%, 96%); opacity:1.0;                     line-height:1.75\"><font color=\"black\"> tie                    </font></mark><mark style=\"background-color: hsl(120, 75%, 98%); opacity:1.0;                     line-height:1.75\"><font color=\"black\"> even                    </font></mark><mark style=\"background-color: hsl(0, 75%, 94%); opacity:1.0;                     line-height:1.75\"><font color=\"black\"> after                    </font></mark><mark style=\"background-color: hsl(120, 75%, 98%); opacity:1.0;                     line-height:1.75\"><font color=\"black\"> applying                    </font></mark><mark style=\"background-color: hsl(120, 75%, 80%); opacity:1.0;                     line-height:1.75\"><font color=\"black\"> D/L                    </font></mark><mark style=\"background-color: hsl(0, 75%, 100%); opacity:1.0;                     line-height:1.75\"><font color=\"black\"> method?                    </font></mark><mark style=\"background-color: hsl(0, 75%, 98%); opacity:1.0;                     line-height:1.75\"><font color=\"black\"> #/s                    </font></mark><mark style=\"background-color: hsl(0, 75%, 100%); opacity:1.0;                     line-height:1.75\"><font color=\"black\"> #/s                    </font></mark><mark style=\"background-color: hsl(0, 75%, 99%); opacity:1.0;                     line-height:1.75\"><font color=\"black\"> Yes,                    </font></mark><mark style=\"background-color: hsl(0, 75%, 95%); opacity:1.0;                     line-height:1.75\"><font color=\"black\"> it's                    </font></mark><mark style=\"background-color: hsl(0, 75%, 90%); opacity:1.0;                     line-height:1.75\"><font color=\"black\"> possible                    </font></mark><mark style=\"background-color: hsl(0, 75%, 97%); opacity:1.0;                     line-height:1.75\"><font color=\"black\"> for                    </font></mark><mark style=\"background-color: hsl(0, 75%, 95%); opacity:1.0;                     line-height:1.75\"><font color=\"black\"> a                    </font></mark><mark style=\"background-color: hsl(120, 75%, 99%); opacity:1.0;                     line-height:1.75\"><font color=\"black\"> match                    </font></mark><mark style=\"background-color: hsl(0, 75%, 99%); opacity:1.0;                     line-height:1.75\"><font color=\"black\"> to                    </font></mark><mark style=\"background-color: hsl(120, 75%, 93%); opacity:1.0;                     line-height:1.75\"><font color=\"black\"> get                    </font></mark><mark style=\"background-color: hsl(120, 75%, 100%); opacity:1.0;                     line-height:1.75\"><font color=\"black\"> tie                    </font></mark><mark style=\"background-color: hsl(0, 75%, 91%); opacity:1.0;                     line-height:1.75\"><font color=\"black\"> after                    </font></mark><mark style=\"background-color: hsl(0, 75%, 100%); opacity:1.0;                     line-height:1.75\"><font color=\"black\"> applying                    </font></mark><mark style=\"background-color: hsl(120, 75%, 97%); opacity:1.0;                     line-height:1.75\"><font color=\"black\"> the                    </font></mark><mark style=\"background-color: hsl(0, 75%, 94%); opacity:1.0;                     line-height:1.75\"><font color=\"black\"> D/L                    </font></mark><mark style=\"background-color: hsl(0, 75%, 78%); opacity:1.0;                     line-height:1.75\"><font color=\"black\"> method.                    </font></mark><mark style=\"background-color: hsl(0, 75%, 90%); opacity:1.0;                     line-height:1.75\"><font color=\"black\"> #/s                    </font></mark></td><tr></table>"
      ],
      "text/plain": [
       "<IPython.core.display.HTML object>"
      ]
     },
     "metadata": {},
     "output_type": "display_data"
    },
    {
     "name": "stdout",
     "output_type": "stream",
     "text": [
      "<IPython.core.display.HTML object>\n",
      "i: 13\n",
      "Raw review: ['Eclipse Below are list of eclipse shortcuts which I use almost everyday.', 'To train yourself to use keyboard shortcuts, unplug your mouse for a few days.']\n",
      "GT target: 0.6000000238418579\n",
      "pred_prob 0.666646882891655\n"
     ]
    },
    {
     "name": "stderr",
     "output_type": "stream",
     "text": [
      "/home/user/anaconda3/envs/py38/lib/python3.9/site-packages/captum/attr/_core/lime.py:1088: UserWarning: Attempting to construct interpretable model with > 10000 features.This can be very slow or lead to OOM issues. Please provide a featuremask which groups input features to reduce the number of interpretablefeatures. \n",
      "  warnings.warn(\n",
      "Lime attribution: 100%|███████████████████████████| 3/3 [02:37<00:00, 52.49s/it]\n"
     ]
    },
    {
     "name": "stdout",
     "output_type": "stream",
     "text": [
      "attribution took 167.749360 seconds\n",
      "before zeroing tensor([[[0., 0., 0.,  ..., 0., 0., 0.],\n",
      "         [0., 0., 0.,  ..., 0., 0., 0.],\n",
      "         [0., 0., 0.,  ..., 0., 0., 0.],\n",
      "         ...,\n",
      "         [0., 0., 0.,  ..., 0., 0., 0.],\n",
      "         [0., 0., 0.,  ..., 0., 0., 0.],\n",
      "         [0., 0., 0.,  ..., 0., 0., 0.]]])\n",
      "after zeroing tensor([[[0., 0., 0.,  ..., 0., 0., 0.],\n",
      "         [0., 0., 0.,  ..., 0., 0., 0.],\n",
      "         [0., 0., 0.,  ..., 0., 0., 0.],\n",
      "         ...,\n",
      "         [0., 0., 0.,  ..., 0., 0., 0.],\n",
      "         [0., 0., 0.,  ..., 0., 0., 0.],\n",
      "         [0., 0., 0.,  ..., 0., 0., 0.]]])\n",
      "word attr tensor([-1.9468e-02, -4.0568e-02, -8.3092e-03, -4.7925e-02, -6.1252e-02,\n",
      "         8.1544e-02, -1.8772e-01, -8.3077e-02,  7.0356e-01,  1.7256e-01,\n",
      "         2.4691e-04, -2.3118e-02, -1.0697e-01, -7.8997e-02, -5.9773e-04,\n",
      "        -2.7607e-01, -7.1815e-02, -1.7660e-02,  2.3620e-01,  5.9087e-02,\n",
      "        -1.1234e-01,  2.8570e-01,  6.8577e-02,  1.0344e-01,  1.0949e-01,\n",
      "        -5.2227e-02, -1.4734e-01, -6.3151e-02,  1.8562e-01, -5.0470e-02,\n",
      "        -1.1363e-01,  5.8739e-02, -1.1104e-01,  5.1144e-02,  2.0184e-01])\n",
      "conti attr [tensor(-0.0195), tensor(-0.0489), tensor(-0.0479), tensor(-0.0613), tensor(0.0815), tensor(-0.1877), tensor(-0.0831), tensor(0.7036), tensor(0.1726), tensor(0.0002), tensor(-0.0231), tensor(-0.1070), tensor(-0.0796), tensor(-0.2761), tensor(-0.0718), tensor(-0.0177), tensor(0.2362), tensor(0.0591), tensor(-0.1123), tensor(0.2857), tensor(0.0686), tensor(0.2129), tensor(-0.1996), tensor(-0.0632), tensor(0.1856), tensor(-0.0505), tensor(-0.1136), tensor(0.0587), tensor(-0.0599), tensor(0.2018)]\n",
      "detokenized ['<s>', 'E', 'clipse', 'Below', 'are', 'list', 'of', 'eclipse', 'shortcuts', 'which', 'I', 'use', 'almost', 'everyday', '.', '</s>', '</s>', 'To', 'train', 'yourself', 'to', 'use', 'keyboard', 'shortcuts', ',', 'un', 'plug', 'your', 'mouse', 'for', 'a', 'few', 'days', '.', '</s>']\n",
      "len conti_raw 30\n",
      "conti_raw ['<s>', 'Eclipse', 'Below', 'are', 'list', 'of', 'eclipse', 'shortcuts', 'which', 'I', 'use', 'almost', 'everyday.', '</s>', '</s>', 'To', 'train', 'yourself', 'to', 'use', 'keyboard', 'shortcuts,', 'unplug', 'your', 'mouse', 'for', 'a', 'few', 'days.', '</s>']\n"
     ]
    },
    {
     "data": {
      "text/html": [
       "<table width: 100%><div style=\"border-top: 1px solid; margin-top: 5px;             padding-top: 5px; display: inline-block\"><b>Legend: </b><span style=\"display: inline-block; width: 10px; height: 10px;                 border: 1px solid; background-color:                 hsl(0, 75%, 60%)\"></span> Negative  <span style=\"display: inline-block; width: 10px; height: 10px;                 border: 1px solid; background-color:                 hsl(0, 75%, 100%)\"></span> Neutral  <span style=\"display: inline-block; width: 10px; height: 10px;                 border: 1px solid; background-color:                 hsl(120, 75%, 50%)\"></span> Positive  </div><tr><th>True Label</th><th>Predicted Label</th><th>Attribution Label</th><th>Attribution Score</th><th>Word Importance</th><tr><td><text style=\"padding-right:2em\"><b>Not Similar</b></text></td><td><text style=\"padding-right:2em\"><b>Not Similar (0.13)</b></text></td><td><text style=\"padding-right:2em\"><b>Similar</b></text></td><td><text style=\"padding-right:2em\"><b>0.64</b></text></td><td><mark style=\"background-color: hsl(0, 75%, 100%); opacity:1.0;                     line-height:1.75\"><font color=\"black\"> #s                    </font></mark><mark style=\"background-color: hsl(0, 75%, 99%); opacity:1.0;                     line-height:1.75\"><font color=\"black\"> Eclipse                    </font></mark><mark style=\"background-color: hsl(0, 75%, 99%); opacity:1.0;                     line-height:1.75\"><font color=\"black\"> Below                    </font></mark><mark style=\"background-color: hsl(0, 75%, 98%); opacity:1.0;                     line-height:1.75\"><font color=\"black\"> are                    </font></mark><mark style=\"background-color: hsl(120, 75%, 96%); opacity:1.0;                     line-height:1.75\"><font color=\"black\"> list                    </font></mark><mark style=\"background-color: hsl(0, 75%, 93%); opacity:1.0;                     line-height:1.75\"><font color=\"black\"> of                    </font></mark><mark style=\"background-color: hsl(0, 75%, 97%); opacity:1.0;                     line-height:1.75\"><font color=\"black\"> eclipse                    </font></mark><mark style=\"background-color: hsl(120, 75%, 65%); opacity:1.0;                     line-height:1.75\"><font color=\"black\"> shortcuts                    </font></mark><mark style=\"background-color: hsl(120, 75%, 92%); opacity:1.0;                     line-height:1.75\"><font color=\"black\"> which                    </font></mark><mark style=\"background-color: hsl(120, 75%, 100%); opacity:1.0;                     line-height:1.75\"><font color=\"black\"> I                    </font></mark><mark style=\"background-color: hsl(0, 75%, 100%); opacity:1.0;                     line-height:1.75\"><font color=\"black\"> use                    </font></mark><mark style=\"background-color: hsl(0, 75%, 96%); opacity:1.0;                     line-height:1.75\"><font color=\"black\"> almost                    </font></mark><mark style=\"background-color: hsl(0, 75%, 97%); opacity:1.0;                     line-height:1.75\"><font color=\"black\"> everyday.                    </font></mark><mark style=\"background-color: hsl(0, 75%, 89%); opacity:1.0;                     line-height:1.75\"><font color=\"black\"> #/s                    </font></mark><mark style=\"background-color: hsl(0, 75%, 98%); opacity:1.0;                     line-height:1.75\"><font color=\"black\"> #/s                    </font></mark><mark style=\"background-color: hsl(0, 75%, 100%); opacity:1.0;                     line-height:1.75\"><font color=\"black\"> To                    </font></mark><mark style=\"background-color: hsl(120, 75%, 89%); opacity:1.0;                     line-height:1.75\"><font color=\"black\"> train                    </font></mark><mark style=\"background-color: hsl(120, 75%, 98%); opacity:1.0;                     line-height:1.75\"><font color=\"black\"> yourself                    </font></mark><mark style=\"background-color: hsl(0, 75%, 96%); opacity:1.0;                     line-height:1.75\"><font color=\"black\"> to                    </font></mark><mark style=\"background-color: hsl(120, 75%, 86%); opacity:1.0;                     line-height:1.75\"><font color=\"black\"> use                    </font></mark><mark style=\"background-color: hsl(120, 75%, 97%); opacity:1.0;                     line-height:1.75\"><font color=\"black\"> keyboard                    </font></mark><mark style=\"background-color: hsl(120, 75%, 90%); opacity:1.0;                     line-height:1.75\"><font color=\"black\"> shortcuts,                    </font></mark><mark style=\"background-color: hsl(0, 75%, 93%); opacity:1.0;                     line-height:1.75\"><font color=\"black\"> unplug                    </font></mark><mark style=\"background-color: hsl(0, 75%, 98%); opacity:1.0;                     line-height:1.75\"><font color=\"black\"> your                    </font></mark><mark style=\"background-color: hsl(120, 75%, 91%); opacity:1.0;                     line-height:1.75\"><font color=\"black\"> mouse                    </font></mark><mark style=\"background-color: hsl(0, 75%, 98%); opacity:1.0;                     line-height:1.75\"><font color=\"black\"> for                    </font></mark><mark style=\"background-color: hsl(0, 75%, 96%); opacity:1.0;                     line-height:1.75\"><font color=\"black\"> a                    </font></mark><mark style=\"background-color: hsl(120, 75%, 98%); opacity:1.0;                     line-height:1.75\"><font color=\"black\"> few                    </font></mark><mark style=\"background-color: hsl(0, 75%, 98%); opacity:1.0;                     line-height:1.75\"><font color=\"black\"> days.                    </font></mark><mark style=\"background-color: hsl(120, 75%, 90%); opacity:1.0;                     line-height:1.75\"><font color=\"black\"> #/s                    </font></mark></td><tr></table>"
      ],
      "text/plain": [
       "<IPython.core.display.HTML object>"
      ]
     },
     "metadata": {},
     "output_type": "display_data"
    },
    {
     "name": "stderr",
     "output_type": "stream",
     "text": [
      "/home/user/anaconda3/envs/py38/lib/python3.9/site-packages/captum/attr/_core/lime.py:1088: UserWarning: Attempting to construct interpretable model with > 10000 features.This can be very slow or lead to OOM issues. Please provide a featuremask which groups input features to reduce the number of interpretablefeatures. \n",
      "  warnings.warn(\n"
     ]
    },
    {
     "name": "stdout",
     "output_type": "stream",
     "text": [
      "<IPython.core.display.HTML object>\n",
      "i: 14\n",
      "Raw review: ['A woman and child push strollers down the sidewalk.', 'A women and a young girl walking pushchairs along the sidewalk.']\n",
      "GT target: 3.4000000953674316\n",
      "pred_prob 4.378781616687775\n"
     ]
    },
    {
     "name": "stderr",
     "output_type": "stream",
     "text": [
      "Lime attribution: 100%|███████████████████████████| 3/3 [02:02<00:00, 40.70s/it]\n"
     ]
    },
    {
     "name": "stdout",
     "output_type": "stream",
     "text": [
      "attribution took 133.187181 seconds\n",
      "before zeroing tensor([[[0.0000e+00, 0.0000e+00, 0.0000e+00,  ..., 0.0000e+00,\n",
      "          0.0000e+00, 0.0000e+00],\n",
      "         [0.0000e+00, 0.0000e+00, 0.0000e+00,  ..., 0.0000e+00,\n",
      "          0.0000e+00, 0.0000e+00],\n",
      "         [0.0000e+00, 0.0000e+00, 0.0000e+00,  ..., 0.0000e+00,\n",
      "          0.0000e+00, 0.0000e+00],\n",
      "         ...,\n",
      "         [0.0000e+00, 0.0000e+00, 0.0000e+00,  ..., 0.0000e+00,\n",
      "          8.1737e-05, 0.0000e+00],\n",
      "         [0.0000e+00, 0.0000e+00, 0.0000e+00,  ..., 0.0000e+00,\n",
      "          0.0000e+00, 0.0000e+00],\n",
      "         [0.0000e+00, 2.3235e-04, 0.0000e+00,  ..., 0.0000e+00,\n",
      "          0.0000e+00, 0.0000e+00]]])\n",
      "after zeroing tensor([[[0.0000e+00, 0.0000e+00, 0.0000e+00,  ..., 0.0000e+00,\n",
      "          0.0000e+00, 0.0000e+00],\n",
      "         [0.0000e+00, 0.0000e+00, 0.0000e+00,  ..., 0.0000e+00,\n",
      "          0.0000e+00, 0.0000e+00],\n",
      "         [0.0000e+00, 0.0000e+00, 0.0000e+00,  ..., 0.0000e+00,\n",
      "          0.0000e+00, 0.0000e+00],\n",
      "         ...,\n",
      "         [0.0000e+00, 0.0000e+00, 0.0000e+00,  ..., 0.0000e+00,\n",
      "          8.1737e-05, 0.0000e+00],\n",
      "         [0.0000e+00, 0.0000e+00, 0.0000e+00,  ..., 0.0000e+00,\n",
      "          0.0000e+00, 0.0000e+00],\n",
      "         [0.0000e+00, 2.3235e-04, 0.0000e+00,  ..., 0.0000e+00,\n",
      "          0.0000e+00, 0.0000e+00]]])\n",
      "word attr tensor([ 0.0951, -0.0095,  0.0660,  0.1068,  0.0760,  0.0670,  0.2488,  0.5542,\n",
      "         0.0538, -0.0456, -0.1100, -0.3100,  0.0666,  0.0668, -0.0334, -0.0079,\n",
      "         0.0698,  0.1246,  0.0191,  0.2997, -0.1480,  0.4530,  0.3031,  0.0674,\n",
      "        -0.0293,  0.0621,  0.0278,  0.1814])\n",
      "conti attr [tensor(0.0951), tensor(-0.0095), tensor(0.0660), tensor(0.1068), tensor(0.0760), tensor(0.0670), tensor(0.8030), tensor(0.0538), tensor(-0.0456), tensor(-0.4200), tensor(0.0666), tensor(0.0668), tensor(-0.0334), tensor(-0.0079), tensor(0.0698), tensor(0.1246), tensor(0.0191), tensor(0.2997), tensor(-0.1480), tensor(0.7562), tensor(0.0674), tensor(-0.0293), tensor(0.0899), tensor(0.1814)]\n",
      "detokenized ['<s>', 'A', 'woman', 'and', 'child', 'push', 'st', 'rollers', 'down', 'the', 'sidewalk', '.', '</s>', '</s>', 'A', 'women', 'and', 'a', 'young', 'girl', 'walking', 'push', 'chairs', 'along', 'the', 'sidewalk', '.', '</s>']\n",
      "len conti_raw 24\n",
      "conti_raw ['<s>', 'A', 'woman', 'and', 'child', 'push', 'strollers', 'down', 'the', 'sidewalk.', '</s>', '</s>', 'A', 'women', 'and', 'a', 'young', 'girl', 'walking', 'pushchairs', 'along', 'the', 'sidewalk.', '</s>']\n"
     ]
    },
    {
     "data": {
      "text/html": [
       "<table width: 100%><div style=\"border-top: 1px solid; margin-top: 5px;             padding-top: 5px; display: inline-block\"><b>Legend: </b><span style=\"display: inline-block; width: 10px; height: 10px;                 border: 1px solid; background-color:                 hsl(0, 75%, 60%)\"></span> Negative  <span style=\"display: inline-block; width: 10px; height: 10px;                 border: 1px solid; background-color:                 hsl(0, 75%, 100%)\"></span> Neutral  <span style=\"display: inline-block; width: 10px; height: 10px;                 border: 1px solid; background-color:                 hsl(120, 75%, 50%)\"></span> Positive  </div><tr><th>True Label</th><th>Predicted Label</th><th>Attribution Label</th><th>Attribution Score</th><th>Word Importance</th><tr><td><text style=\"padding-right:2em\"><b>Similar</b></text></td><td><text style=\"padding-right:2em\"><b>Similar (0.88)</b></text></td><td><text style=\"padding-right:2em\"><b>Similar</b></text></td><td><text style=\"padding-right:2em\"><b>2.32</b></text></td><td><mark style=\"background-color: hsl(120, 75%, 96%); opacity:1.0;                     line-height:1.75\"><font color=\"black\"> #s                    </font></mark><mark style=\"background-color: hsl(0, 75%, 100%); opacity:1.0;                     line-height:1.75\"><font color=\"black\"> A                    </font></mark><mark style=\"background-color: hsl(120, 75%, 97%); opacity:1.0;                     line-height:1.75\"><font color=\"black\"> woman                    </font></mark><mark style=\"background-color: hsl(120, 75%, 95%); opacity:1.0;                     line-height:1.75\"><font color=\"black\"> and                    </font></mark><mark style=\"background-color: hsl(120, 75%, 97%); opacity:1.0;                     line-height:1.75\"><font color=\"black\"> child                    </font></mark><mark style=\"background-color: hsl(120, 75%, 97%); opacity:1.0;                     line-height:1.75\"><font color=\"black\"> push                    </font></mark><mark style=\"background-color: hsl(120, 75%, 60%); opacity:1.0;                     line-height:1.75\"><font color=\"black\"> strollers                    </font></mark><mark style=\"background-color: hsl(120, 75%, 98%); opacity:1.0;                     line-height:1.75\"><font color=\"black\"> down                    </font></mark><mark style=\"background-color: hsl(0, 75%, 99%); opacity:1.0;                     line-height:1.75\"><font color=\"black\"> the                    </font></mark><mark style=\"background-color: hsl(0, 75%, 84%); opacity:1.0;                     line-height:1.75\"><font color=\"black\"> sidewalk.                    </font></mark><mark style=\"background-color: hsl(120, 75%, 97%); opacity:1.0;                     line-height:1.75\"><font color=\"black\"> #/s                    </font></mark><mark style=\"background-color: hsl(120, 75%, 97%); opacity:1.0;                     line-height:1.75\"><font color=\"black\"> #/s                    </font></mark><mark style=\"background-color: hsl(0, 75%, 99%); opacity:1.0;                     line-height:1.75\"><font color=\"black\"> A                    </font></mark><mark style=\"background-color: hsl(0, 75%, 100%); opacity:1.0;                     line-height:1.75\"><font color=\"black\"> women                    </font></mark><mark style=\"background-color: hsl(120, 75%, 97%); opacity:1.0;                     line-height:1.75\"><font color=\"black\"> and                    </font></mark><mark style=\"background-color: hsl(120, 75%, 94%); opacity:1.0;                     line-height:1.75\"><font color=\"black\"> a                    </font></mark><mark style=\"background-color: hsl(120, 75%, 100%); opacity:1.0;                     line-height:1.75\"><font color=\"black\"> young                    </font></mark><mark style=\"background-color: hsl(120, 75%, 86%); opacity:1.0;                     line-height:1.75\"><font color=\"black\"> girl                    </font></mark><mark style=\"background-color: hsl(0, 75%, 95%); opacity:1.0;                     line-height:1.75\"><font color=\"black\"> walking                    </font></mark><mark style=\"background-color: hsl(120, 75%, 63%); opacity:1.0;                     line-height:1.75\"><font color=\"black\"> pushchairs                    </font></mark><mark style=\"background-color: hsl(120, 75%, 97%); opacity:1.0;                     line-height:1.75\"><font color=\"black\"> along                    </font></mark><mark style=\"background-color: hsl(0, 75%, 99%); opacity:1.0;                     line-height:1.75\"><font color=\"black\"> the                    </font></mark><mark style=\"background-color: hsl(120, 75%, 96%); opacity:1.0;                     line-height:1.75\"><font color=\"black\"> sidewalk.                    </font></mark><mark style=\"background-color: hsl(120, 75%, 91%); opacity:1.0;                     line-height:1.75\"><font color=\"black\"> #/s                    </font></mark></td><tr></table>"
      ],
      "text/plain": [
       "<IPython.core.display.HTML object>"
      ]
     },
     "metadata": {},
     "output_type": "display_data"
    },
    {
     "name": "stdout",
     "output_type": "stream",
     "text": [
      "<IPython.core.display.HTML object>\n",
      "i: 15\n",
      "Raw review: ['ICC lawyer detained in Libya on security concerns', 'ICC lawyer held in Libya faces 45-day detention']\n",
      "GT target: 3.4000000953674316\n"
     ]
    },
    {
     "name": "stderr",
     "output_type": "stream",
     "text": [
      "/home/user/anaconda3/envs/py38/lib/python3.9/site-packages/captum/attr/_core/lime.py:1088: UserWarning: Attempting to construct interpretable model with > 10000 features.This can be very slow or lead to OOM issues. Please provide a featuremask which groups input features to reduce the number of interpretablefeatures. \n",
      "  warnings.warn(\n"
     ]
    },
    {
     "name": "stdout",
     "output_type": "stream",
     "text": [
      "pred_prob 3.1552401185035706\n"
     ]
    },
    {
     "name": "stderr",
     "output_type": "stream",
     "text": [
      "Lime attribution: 100%|███████████████████████████| 3/3 [01:43<00:00, 34.62s/it]\n"
     ]
    },
    {
     "name": "stdout",
     "output_type": "stream",
     "text": [
      "attribution took 110.015497 seconds\n",
      "before zeroing tensor([[[0., 0., 0.,  ..., 0., 0., 0.],\n",
      "         [0., 0., 0.,  ..., 0., 0., 0.],\n",
      "         [0., 0., 0.,  ..., 0., 0., 0.],\n",
      "         ...,\n",
      "         [0., 0., 0.,  ..., 0., 0., 0.],\n",
      "         [0., 0., 0.,  ..., 0., 0., 0.],\n",
      "         [0., 0., 0.,  ..., 0., 0., 0.]]])\n",
      "after zeroing tensor([[[0., 0., 0.,  ..., 0., 0., 0.],\n",
      "         [0., 0., 0.,  ..., 0., 0., 0.],\n",
      "         [0., 0., 0.,  ..., 0., 0., 0.],\n",
      "         ...,\n",
      "         [0., 0., 0.,  ..., 0., 0., 0.],\n",
      "         [0., 0., 0.,  ..., 0., 0., 0.],\n",
      "         [0., 0., 0.,  ..., 0., 0., 0.]]])\n",
      "word attr tensor([-0.0203,  0.1095,  0.0056, -0.2984, -0.1106,  0.3124,  0.1483, -0.3694,\n",
      "        -0.3092,  0.0039, -0.1142,  0.1222, -0.0320,  0.1852, -0.0170,  0.1545,\n",
      "         0.0047, -0.3154, -0.3031, -0.1685, -0.2367,  0.2367,  0.0128, -0.3394])\n",
      "conti attr [tensor(-0.0203), tensor(0.1152), tensor(-0.2984), tensor(-0.1106), tensor(0.3124), tensor(0.1483), tensor(-0.3694), tensor(-0.3092), tensor(0.0039), tensor(-0.1142), tensor(0.1222), tensor(0.1532), tensor(-0.0170), tensor(0.1545), tensor(0.0047), tensor(-0.3154), tensor(-0.3031), tensor(-0.1686), tensor(0.0128), tensor(-0.3394)]\n",
      "detokenized ['<s>', 'IC', 'C', 'lawyer', 'detained', 'in', 'Libya', 'on', 'security', 'concerns', '</s>', '</s>', 'IC', 'C', 'lawyer', 'held', 'in', 'Libya', 'faces', '45', '-', 'day', 'detention', '</s>']\n",
      "len conti_raw 20\n",
      "conti_raw ['<s>', 'ICC', 'lawyer', 'detained', 'in', 'Libya', 'on', 'security', 'concerns', '</s>', '</s>', 'ICC', 'lawyer', 'held', 'in', 'Libya', 'faces', '45-day', 'detention', '</s>']\n"
     ]
    },
    {
     "data": {
      "text/html": [
       "<table width: 100%><div style=\"border-top: 1px solid; margin-top: 5px;             padding-top: 5px; display: inline-block\"><b>Legend: </b><span style=\"display: inline-block; width: 10px; height: 10px;                 border: 1px solid; background-color:                 hsl(0, 75%, 60%)\"></span> Negative  <span style=\"display: inline-block; width: 10px; height: 10px;                 border: 1px solid; background-color:                 hsl(0, 75%, 100%)\"></span> Neutral  <span style=\"display: inline-block; width: 10px; height: 10px;                 border: 1px solid; background-color:                 hsl(120, 75%, 50%)\"></span> Positive  </div><tr><th>True Label</th><th>Predicted Label</th><th>Attribution Label</th><th>Attribution Score</th><th>Word Importance</th><tr><td><text style=\"padding-right:2em\"><b>Similar</b></text></td><td><text style=\"padding-right:2em\"><b>Similar (0.63)</b></text></td><td><text style=\"padding-right:2em\"><b>Not Similar</b></text></td><td><text style=\"padding-right:2em\"><b>-1.34</b></text></td><td><mark style=\"background-color: hsl(0, 75%, 100%); opacity:1.0;                     line-height:1.75\"><font color=\"black\"> #s                    </font></mark><mark style=\"background-color: hsl(120, 75%, 95%); opacity:1.0;                     line-height:1.75\"><font color=\"black\"> ICC                    </font></mark><mark style=\"background-color: hsl(0, 75%, 89%); opacity:1.0;                     line-height:1.75\"><font color=\"black\"> lawyer                    </font></mark><mark style=\"background-color: hsl(0, 75%, 96%); opacity:1.0;                     line-height:1.75\"><font color=\"black\"> detained                    </font></mark><mark style=\"background-color: hsl(120, 75%, 85%); opacity:1.0;                     line-height:1.75\"><font color=\"black\"> in                    </font></mark><mark style=\"background-color: hsl(120, 75%, 93%); opacity:1.0;                     line-height:1.75\"><font color=\"black\"> Libya                    </font></mark><mark style=\"background-color: hsl(0, 75%, 86%); opacity:1.0;                     line-height:1.75\"><font color=\"black\"> on                    </font></mark><mark style=\"background-color: hsl(0, 75%, 88%); opacity:1.0;                     line-height:1.75\"><font color=\"black\"> security                    </font></mark><mark style=\"background-color: hsl(120, 75%, 100%); opacity:1.0;                     line-height:1.75\"><font color=\"black\"> concerns                    </font></mark><mark style=\"background-color: hsl(0, 75%, 96%); opacity:1.0;                     line-height:1.75\"><font color=\"black\"> #/s                    </font></mark><mark style=\"background-color: hsl(120, 75%, 94%); opacity:1.0;                     line-height:1.75\"><font color=\"black\"> #/s                    </font></mark><mark style=\"background-color: hsl(120, 75%, 93%); opacity:1.0;                     line-height:1.75\"><font color=\"black\"> ICC                    </font></mark><mark style=\"background-color: hsl(0, 75%, 100%); opacity:1.0;                     line-height:1.75\"><font color=\"black\"> lawyer                    </font></mark><mark style=\"background-color: hsl(120, 75%, 93%); opacity:1.0;                     line-height:1.75\"><font color=\"black\"> held                    </font></mark><mark style=\"background-color: hsl(120, 75%, 100%); opacity:1.0;                     line-height:1.75\"><font color=\"black\"> in                    </font></mark><mark style=\"background-color: hsl(0, 75%, 88%); opacity:1.0;                     line-height:1.75\"><font color=\"black\"> Libya                    </font></mark><mark style=\"background-color: hsl(0, 75%, 88%); opacity:1.0;                     line-height:1.75\"><font color=\"black\"> faces                    </font></mark><mark style=\"background-color: hsl(0, 75%, 94%); opacity:1.0;                     line-height:1.75\"><font color=\"black\"> 45-day                    </font></mark><mark style=\"background-color: hsl(120, 75%, 100%); opacity:1.0;                     line-height:1.75\"><font color=\"black\"> detention                    </font></mark><mark style=\"background-color: hsl(0, 75%, 87%); opacity:1.0;                     line-height:1.75\"><font color=\"black\"> #/s                    </font></mark></td><tr></table>"
      ],
      "text/plain": [
       "<IPython.core.display.HTML object>"
      ]
     },
     "metadata": {},
     "output_type": "display_data"
    },
    {
     "name": "stderr",
     "output_type": "stream",
     "text": [
      "/home/user/anaconda3/envs/py38/lib/python3.9/site-packages/captum/attr/_core/lime.py:1088: UserWarning: Attempting to construct interpretable model with > 10000 features.This can be very slow or lead to OOM issues. Please provide a featuremask which groups input features to reduce the number of interpretablefeatures. \n",
      "  warnings.warn(\n"
     ]
    },
    {
     "name": "stdout",
     "output_type": "stream",
     "text": [
      "<IPython.core.display.HTML object>\n",
      "i: 16\n",
      "Raw review: ['The flag was moving in the air.', 'A flag is waving.']\n",
      "GT target: 3.75\n",
      "pred_prob 4.404574930667877\n"
     ]
    },
    {
     "name": "stderr",
     "output_type": "stream",
     "text": [
      "Lime attribution: 100%|███████████████████████████| 3/3 [01:10<00:00, 23.47s/it]\n"
     ]
    },
    {
     "name": "stdout",
     "output_type": "stream",
     "text": [
      "attribution took 75.864121 seconds\n",
      "before zeroing tensor([[[-0.0001,  0.0000,  0.0000,  ...,  0.0000,  0.0002,  0.0000],\n",
      "         [ 0.0000,  0.0000,  0.0000,  ...,  0.0000,  0.0000,  0.0000],\n",
      "         [ 0.0000,  0.0000,  0.0000,  ...,  0.0000,  0.0000,  0.0000],\n",
      "         ...,\n",
      "         [ 0.0000,  0.0000,  0.0000,  ...,  0.0000,  0.0000,  0.0000],\n",
      "         [ 0.0000,  0.0000,  0.0000,  ...,  0.0000,  0.0000,  0.0000],\n",
      "         [ 0.0000,  0.0000,  0.0000,  ...,  0.0000,  0.0000,  0.0002]]])\n",
      "after zeroing tensor([[[-0.0001,  0.0000,  0.0000,  ...,  0.0000,  0.0002,  0.0000],\n",
      "         [ 0.0000,  0.0000,  0.0000,  ...,  0.0000,  0.0000,  0.0000],\n",
      "         [ 0.0000,  0.0000,  0.0000,  ...,  0.0000,  0.0000,  0.0000],\n",
      "         ...,\n",
      "         [ 0.0000,  0.0000,  0.0000,  ...,  0.0000,  0.0000,  0.0000],\n",
      "         [ 0.0000,  0.0000,  0.0000,  ...,  0.0000,  0.0000,  0.0000],\n",
      "         [ 0.0000,  0.0000,  0.0000,  ...,  0.0000,  0.0000,  0.0002]]])\n",
      "word attr tensor([ 0.0249,  0.0471,  0.0795,  0.1800, -0.0408, -0.0160, -0.0637,  0.1009,\n",
      "        -0.1316, -0.0158, -0.0773, -0.0523,  0.0122, -0.1454,  0.9449, -0.0198,\n",
      "        -0.0373])\n",
      "conti attr [tensor(0.0249), tensor(0.0471), tensor(0.0795), tensor(0.1800), tensor(-0.0408), tensor(-0.0160), tensor(-0.0637), tensor(-0.0307), tensor(-0.0158), tensor(-0.0773), tensor(-0.0523), tensor(0.0122), tensor(-0.1454), tensor(0.9252), tensor(-0.0373)]\n",
      "detokenized ['<s>', 'The', 'flag', 'was', 'moving', 'in', 'the', 'air', '.', '</s>', '</s>', 'A', 'flag', 'is', 'waving', '.', '</s>']\n",
      "len conti_raw 15\n",
      "conti_raw ['<s>', 'The', 'flag', 'was', 'moving', 'in', 'the', 'air.', '</s>', '</s>', 'A', 'flag', 'is', 'waving.', '</s>']\n"
     ]
    },
    {
     "data": {
      "text/html": [
       "<table width: 100%><div style=\"border-top: 1px solid; margin-top: 5px;             padding-top: 5px; display: inline-block\"><b>Legend: </b><span style=\"display: inline-block; width: 10px; height: 10px;                 border: 1px solid; background-color:                 hsl(0, 75%, 60%)\"></span> Negative  <span style=\"display: inline-block; width: 10px; height: 10px;                 border: 1px solid; background-color:                 hsl(0, 75%, 100%)\"></span> Neutral  <span style=\"display: inline-block; width: 10px; height: 10px;                 border: 1px solid; background-color:                 hsl(120, 75%, 50%)\"></span> Positive  </div><tr><th>True Label</th><th>Predicted Label</th><th>Attribution Label</th><th>Attribution Score</th><th>Word Importance</th><tr><td><text style=\"padding-right:2em\"><b>Similar</b></text></td><td><text style=\"padding-right:2em\"><b>Similar (0.88)</b></text></td><td><text style=\"padding-right:2em\"><b>Similar</b></text></td><td><text style=\"padding-right:2em\"><b>0.79</b></text></td><td><mark style=\"background-color: hsl(120, 75%, 99%); opacity:1.0;                     line-height:1.75\"><font color=\"black\"> #s                    </font></mark><mark style=\"background-color: hsl(120, 75%, 98%); opacity:1.0;                     line-height:1.75\"><font color=\"black\"> The                    </font></mark><mark style=\"background-color: hsl(120, 75%, 97%); opacity:1.0;                     line-height:1.75\"><font color=\"black\"> flag                    </font></mark><mark style=\"background-color: hsl(120, 75%, 92%); opacity:1.0;                     line-height:1.75\"><font color=\"black\"> was                    </font></mark><mark style=\"background-color: hsl(0, 75%, 99%); opacity:1.0;                     line-height:1.75\"><font color=\"black\"> moving                    </font></mark><mark style=\"background-color: hsl(0, 75%, 100%); opacity:1.0;                     line-height:1.75\"><font color=\"black\"> in                    </font></mark><mark style=\"background-color: hsl(0, 75%, 98%); opacity:1.0;                     line-height:1.75\"><font color=\"black\"> the                    </font></mark><mark style=\"background-color: hsl(0, 75%, 99%); opacity:1.0;                     line-height:1.75\"><font color=\"black\"> air.                    </font></mark><mark style=\"background-color: hsl(0, 75%, 100%); opacity:1.0;                     line-height:1.75\"><font color=\"black\"> #/s                    </font></mark><mark style=\"background-color: hsl(0, 75%, 97%); opacity:1.0;                     line-height:1.75\"><font color=\"black\"> #/s                    </font></mark><mark style=\"background-color: hsl(0, 75%, 98%); opacity:1.0;                     line-height:1.75\"><font color=\"black\"> A                    </font></mark><mark style=\"background-color: hsl(120, 75%, 100%); opacity:1.0;                     line-height:1.75\"><font color=\"black\"> flag                    </font></mark><mark style=\"background-color: hsl(0, 75%, 95%); opacity:1.0;                     line-height:1.75\"><font color=\"black\"> is                    </font></mark><mark style=\"background-color: hsl(120, 75%, 54%); opacity:1.0;                     line-height:1.75\"><font color=\"black\"> waving.                    </font></mark><mark style=\"background-color: hsl(0, 75%, 99%); opacity:1.0;                     line-height:1.75\"><font color=\"black\"> #/s                    </font></mark></td><tr></table>"
      ],
      "text/plain": [
       "<IPython.core.display.HTML object>"
      ]
     },
     "metadata": {},
     "output_type": "display_data"
    },
    {
     "name": "stderr",
     "output_type": "stream",
     "text": [
      "/home/user/anaconda3/envs/py38/lib/python3.9/site-packages/captum/attr/_core/lime.py:1088: UserWarning: Attempting to construct interpretable model with > 10000 features.This can be very slow or lead to OOM issues. Please provide a featuremask which groups input features to reduce the number of interpretablefeatures. \n",
      "  warnings.warn(\n"
     ]
    },
    {
     "name": "stdout",
     "output_type": "stream",
     "text": [
      "<IPython.core.display.HTML object>\n",
      "i: 17\n",
      "Raw review: ['A woman is cutting broccoli.', 'A woman is slicing broccoli.']\n",
      "GT target: 5.0\n",
      "pred_prob 4.450764060020447\n"
     ]
    },
    {
     "name": "stderr",
     "output_type": "stream",
     "text": [
      "Lime attribution: 100%|███████████████████████████| 3/3 [01:08<00:00, 22.69s/it]\n"
     ]
    },
    {
     "name": "stdout",
     "output_type": "stream",
     "text": [
      "attribution took 81.922992 seconds\n",
      "before zeroing tensor([[[ 0.0000,  0.0000,  0.0000,  ..., -0.0012,  0.0000,  0.0000],\n",
      "         [ 0.0000,  0.0044,  0.0000,  ...,  0.0000,  0.0000,  0.0000],\n",
      "         [ 0.0000,  0.0000, -0.0013,  ...,  0.0000,  0.0000,  0.0000],\n",
      "         ...,\n",
      "         [ 0.0088,  0.0000,  0.0000,  ...,  0.0000,  0.0000,  0.0000],\n",
      "         [ 0.0000,  0.0000,  0.0000,  ..., -0.0035, -0.0029,  0.0000],\n",
      "         [ 0.0000,  0.0000,  0.0000,  ...,  0.0000, -0.0026,  0.0021]]])\n",
      "after zeroing tensor([[[ 0.0000,  0.0000,  0.0000,  ..., -0.0012,  0.0000,  0.0000],\n",
      "         [ 0.0000,  0.0044,  0.0000,  ...,  0.0000,  0.0000,  0.0000],\n",
      "         [ 0.0000,  0.0000, -0.0013,  ...,  0.0000,  0.0000,  0.0000],\n",
      "         ...,\n",
      "         [ 0.0088,  0.0000,  0.0000,  ...,  0.0000,  0.0000,  0.0000],\n",
      "         [ 0.0000,  0.0000,  0.0000,  ..., -0.0035, -0.0029,  0.0000],\n",
      "         [ 0.0000,  0.0000,  0.0000,  ...,  0.0000, -0.0026,  0.0021]]])\n",
      "word attr tensor([ 0.0601, -0.0120,  0.0484, -0.0440, -0.0507,  0.8436,  0.0217,  0.1674,\n",
      "        -0.0365,  0.1252, -0.0343,  0.0242, -0.0286,  0.4567, -0.0133, -0.1448])\n",
      "conti attr [tensor(0.0601), tensor(-0.0120), tensor(0.0484), tensor(-0.0440), tensor(-0.0507), tensor(0.8653), tensor(0.1674), tensor(-0.0365), tensor(0.1252), tensor(-0.0343), tensor(0.0242), tensor(-0.0286), tensor(0.4433), tensor(-0.1448)]\n",
      "detokenized ['<s>', 'A', 'woman', 'is', 'cutting', 'broccoli', '.', '</s>', '</s>', 'A', 'woman', 'is', 'slicing', 'broccoli', '.', '</s>']\n",
      "len conti_raw 14\n",
      "conti_raw ['<s>', 'A', 'woman', 'is', 'cutting', 'broccoli.', '</s>', '</s>', 'A', 'woman', 'is', 'slicing', 'broccoli.', '</s>']\n"
     ]
    },
    {
     "data": {
      "text/html": [
       "<table width: 100%><div style=\"border-top: 1px solid; margin-top: 5px;             padding-top: 5px; display: inline-block\"><b>Legend: </b><span style=\"display: inline-block; width: 10px; height: 10px;                 border: 1px solid; background-color:                 hsl(0, 75%, 60%)\"></span> Negative  <span style=\"display: inline-block; width: 10px; height: 10px;                 border: 1px solid; background-color:                 hsl(0, 75%, 100%)\"></span> Neutral  <span style=\"display: inline-block; width: 10px; height: 10px;                 border: 1px solid; background-color:                 hsl(120, 75%, 50%)\"></span> Positive  </div><tr><th>True Label</th><th>Predicted Label</th><th>Attribution Label</th><th>Attribution Score</th><th>Word Importance</th><tr><td><text style=\"padding-right:2em\"><b>Similar</b></text></td><td><text style=\"padding-right:2em\"><b>Similar (0.89)</b></text></td><td><text style=\"padding-right:2em\"><b>Similar</b></text></td><td><text style=\"padding-right:2em\"><b>1.38</b></text></td><td><mark style=\"background-color: hsl(120, 75%, 97%); opacity:1.0;                     line-height:1.75\"><font color=\"black\"> #s                    </font></mark><mark style=\"background-color: hsl(0, 75%, 100%); opacity:1.0;                     line-height:1.75\"><font color=\"black\"> A                    </font></mark><mark style=\"background-color: hsl(120, 75%, 98%); opacity:1.0;                     line-height:1.75\"><font color=\"black\"> woman                    </font></mark><mark style=\"background-color: hsl(0, 75%, 99%); opacity:1.0;                     line-height:1.75\"><font color=\"black\"> is                    </font></mark><mark style=\"background-color: hsl(0, 75%, 98%); opacity:1.0;                     line-height:1.75\"><font color=\"black\"> cutting                    </font></mark><mark style=\"background-color: hsl(120, 75%, 57%); opacity:1.0;                     line-height:1.75\"><font color=\"black\"> broccoli.                    </font></mark><mark style=\"background-color: hsl(120, 75%, 92%); opacity:1.0;                     line-height:1.75\"><font color=\"black\"> #/s                    </font></mark><mark style=\"background-color: hsl(0, 75%, 99%); opacity:1.0;                     line-height:1.75\"><font color=\"black\"> #/s                    </font></mark><mark style=\"background-color: hsl(120, 75%, 94%); opacity:1.0;                     line-height:1.75\"><font color=\"black\"> A                    </font></mark><mark style=\"background-color: hsl(0, 75%, 99%); opacity:1.0;                     line-height:1.75\"><font color=\"black\"> woman                    </font></mark><mark style=\"background-color: hsl(120, 75%, 99%); opacity:1.0;                     line-height:1.75\"><font color=\"black\"> is                    </font></mark><mark style=\"background-color: hsl(0, 75%, 99%); opacity:1.0;                     line-height:1.75\"><font color=\"black\"> slicing                    </font></mark><mark style=\"background-color: hsl(120, 75%, 78%); opacity:1.0;                     line-height:1.75\"><font color=\"black\"> broccoli.                    </font></mark><mark style=\"background-color: hsl(0, 75%, 95%); opacity:1.0;                     line-height:1.75\"><font color=\"black\"> #/s                    </font></mark></td><tr></table>"
      ],
      "text/plain": [
       "<IPython.core.display.HTML object>"
      ]
     },
     "metadata": {},
     "output_type": "display_data"
    },
    {
     "name": "stdout",
     "output_type": "stream",
     "text": [
      "<IPython.core.display.HTML object>\n",
      "i: 18\n",
      "Raw review: ['Iran warns Moscow nuclear talks could stall', 'Iranians “confess” to nuclear scientist murders']\n",
      "GT target: 1.2000000476837158\n"
     ]
    },
    {
     "name": "stderr",
     "output_type": "stream",
     "text": [
      "/home/user/anaconda3/envs/py38/lib/python3.9/site-packages/captum/attr/_core/lime.py:1088: UserWarning: Attempting to construct interpretable model with > 10000 features.This can be very slow or lead to OOM issues. Please provide a featuremask which groups input features to reduce the number of interpretablefeatures. \n",
      "  warnings.warn(\n"
     ]
    },
    {
     "name": "stdout",
     "output_type": "stream",
     "text": [
      "pred_prob 0.6065619364380836\n"
     ]
    },
    {
     "name": "stderr",
     "output_type": "stream",
     "text": [
      "Lime attribution: 100%|███████████████████████████| 3/3 [01:55<00:00, 38.45s/it]\n"
     ]
    },
    {
     "name": "stdout",
     "output_type": "stream",
     "text": [
      "attribution took 121.581874 seconds\n",
      "before zeroing tensor([[[0., 0., 0.,  ..., 0., 0., 0.],\n",
      "         [0., 0., 0.,  ..., 0., 0., 0.],\n",
      "         [0., 0., 0.,  ..., 0., 0., 0.],\n",
      "         ...,\n",
      "         [0., 0., 0.,  ..., 0., 0., 0.],\n",
      "         [0., 0., 0.,  ..., 0., 0., 0.],\n",
      "         [0., 0., 0.,  ..., 0., 0., 0.]]])\n",
      "after zeroing tensor([[[0., 0., 0.,  ..., 0., 0., 0.],\n",
      "         [0., 0., 0.,  ..., 0., 0., 0.],\n",
      "         [0., 0., 0.,  ..., 0., 0., 0.],\n",
      "         ...,\n",
      "         [0., 0., 0.,  ..., 0., 0., 0.],\n",
      "         [0., 0., 0.,  ..., 0., 0., 0.],\n",
      "         [0., 0., 0.,  ..., 0., 0., 0.]]])\n",
      "word attr tensor([-0.0149,  0.7884, -0.0471, -0.1258, -0.3586, -0.2235,  0.0635, -0.0177,\n",
      "        -0.0430, -0.2925, -0.0436,  0.1555,  0.0205,  0.0391, -0.0258,  0.0236,\n",
      "        -0.0704,  0.1832,  0.0557, -0.0669, -0.0735,  0.0953,  0.0084])\n",
      "conti attr [tensor(-0.0149), tensor(0.7884), tensor(-0.0471), tensor(-0.1258), tensor(-0.3586), tensor(-0.2235), tensor(0.0635), tensor(-0.0177), tensor(-0.0430), tensor(-0.2925), tensor(0.1119), tensor(0.0205), tensor(-0.0335), tensor(0.1832), tensor(0.0557), tensor(-0.0669), tensor(-0.0735), tensor(0.0953), tensor(0.0084)]\n",
      "detokenized ['<s>', 'Iran', 'warns', 'Moscow', 'nuclear', 'talks', 'could', 'stall', '</s>', '</s>', 'Iran', 'ians', 'âĢ', 'ľ', 'conf', 'ess', 'âĢ', 'Ŀ', 'to', 'nuclear', 'scientist', 'murders', '</s>']\n",
      "len conti_raw 19\n",
      "conti_raw ['<s>', 'Iran', 'warns', 'Moscow', 'nuclear', 'talks', 'could', 'stall', '</s>', '</s>', 'Iranians', 'âĢ', 'ľconfessâĢ', 'Ŀ', 'to', 'nuclear', 'scientist', 'murders', '</s>']\n"
     ]
    },
    {
     "data": {
      "text/html": [
       "<table width: 100%><div style=\"border-top: 1px solid; margin-top: 5px;             padding-top: 5px; display: inline-block\"><b>Legend: </b><span style=\"display: inline-block; width: 10px; height: 10px;                 border: 1px solid; background-color:                 hsl(0, 75%, 60%)\"></span> Negative  <span style=\"display: inline-block; width: 10px; height: 10px;                 border: 1px solid; background-color:                 hsl(0, 75%, 100%)\"></span> Neutral  <span style=\"display: inline-block; width: 10px; height: 10px;                 border: 1px solid; background-color:                 hsl(120, 75%, 50%)\"></span> Positive  </div><tr><th>True Label</th><th>Predicted Label</th><th>Attribution Label</th><th>Attribution Score</th><th>Word Importance</th><tr><td><text style=\"padding-right:2em\"><b>Not Similar</b></text></td><td><text style=\"padding-right:2em\"><b>Not Similar (0.12)</b></text></td><td><text style=\"padding-right:2em\"><b>Not Similar</b></text></td><td><text style=\"padding-right:2em\"><b>0.03</b></text></td><td><mark style=\"background-color: hsl(0, 75%, 100%); opacity:1.0;                     line-height:1.75\"><font color=\"black\"> #s                    </font></mark><mark style=\"background-color: hsl(120, 75%, 61%); opacity:1.0;                     line-height:1.75\"><font color=\"black\"> Iran                    </font></mark><mark style=\"background-color: hsl(0, 75%, 99%); opacity:1.0;                     line-height:1.75\"><font color=\"black\"> warns                    </font></mark><mark style=\"background-color: hsl(0, 75%, 95%); opacity:1.0;                     line-height:1.75\"><font color=\"black\"> Moscow                    </font></mark><mark style=\"background-color: hsl(0, 75%, 86%); opacity:1.0;                     line-height:1.75\"><font color=\"black\"> nuclear                    </font></mark><mark style=\"background-color: hsl(0, 75%, 92%); opacity:1.0;                     line-height:1.75\"><font color=\"black\"> talks                    </font></mark><mark style=\"background-color: hsl(120, 75%, 97%); opacity:1.0;                     line-height:1.75\"><font color=\"black\"> could                    </font></mark><mark style=\"background-color: hsl(0, 75%, 100%); opacity:1.0;                     line-height:1.75\"><font color=\"black\"> stall                    </font></mark><mark style=\"background-color: hsl(0, 75%, 99%); opacity:1.0;                     line-height:1.75\"><font color=\"black\"> #/s                    </font></mark><mark style=\"background-color: hsl(0, 75%, 89%); opacity:1.0;                     line-height:1.75\"><font color=\"black\"> #/s                    </font></mark><mark style=\"background-color: hsl(120, 75%, 95%); opacity:1.0;                     line-height:1.75\"><font color=\"black\"> Iranians                    </font></mark><mark style=\"background-color: hsl(120, 75%, 99%); opacity:1.0;                     line-height:1.75\"><font color=\"black\"> âĢ                    </font></mark><mark style=\"background-color: hsl(0, 75%, 99%); opacity:1.0;                     line-height:1.75\"><font color=\"black\"> ľconfessâĢ                    </font></mark><mark style=\"background-color: hsl(120, 75%, 91%); opacity:1.0;                     line-height:1.75\"><font color=\"black\"> Ŀ                    </font></mark><mark style=\"background-color: hsl(120, 75%, 98%); opacity:1.0;                     line-height:1.75\"><font color=\"black\"> to                    </font></mark><mark style=\"background-color: hsl(0, 75%, 98%); opacity:1.0;                     line-height:1.75\"><font color=\"black\"> nuclear                    </font></mark><mark style=\"background-color: hsl(0, 75%, 98%); opacity:1.0;                     line-height:1.75\"><font color=\"black\"> scientist                    </font></mark><mark style=\"background-color: hsl(120, 75%, 96%); opacity:1.0;                     line-height:1.75\"><font color=\"black\"> murders                    </font></mark><mark style=\"background-color: hsl(120, 75%, 100%); opacity:1.0;                     line-height:1.75\"><font color=\"black\"> #/s                    </font></mark></td><tr></table>"
      ],
      "text/plain": [
       "<IPython.core.display.HTML object>"
      ]
     },
     "metadata": {},
     "output_type": "display_data"
    },
    {
     "name": "stderr",
     "output_type": "stream",
     "text": [
      "/home/user/anaconda3/envs/py38/lib/python3.9/site-packages/captum/attr/_core/lime.py:1088: UserWarning: Attempting to construct interpretable model with > 10000 features.This can be very slow or lead to OOM issues. Please provide a featuremask which groups input features to reduce the number of interpretablefeatures. \n",
      "  warnings.warn(\n"
     ]
    },
    {
     "name": "stdout",
     "output_type": "stream",
     "text": [
      "<IPython.core.display.HTML object>\n",
      "i: 19\n",
      "Raw review: ['Syria agrees to surrender chemical weapons', 'Syria FM: We will stop producing chemical weapons']\n",
      "GT target: 3.4000000953674316\n",
      "pred_prob 4.205862879753113\n"
     ]
    },
    {
     "name": "stderr",
     "output_type": "stream",
     "text": [
      "Lime attribution: 100%|███████████████████████████| 3/3 [01:24<00:00, 28.20s/it]\n"
     ]
    },
    {
     "name": "stdout",
     "output_type": "stream",
     "text": [
      "attribution took 91.871150 seconds\n",
      "before zeroing tensor([[[ 0.0008,  0.0000,  0.0000,  ...,  0.0000,  0.0000,  0.0000],\n",
      "         [ 0.0000,  0.0000,  0.0000,  ..., -0.0002,  0.0000,  0.0000],\n",
      "         [ 0.0000,  0.0000,  0.0000,  ...,  0.0000,  0.0000,  0.0000],\n",
      "         ...,\n",
      "         [ 0.0000, -0.0010,  0.0000,  ...,  0.0000,  0.0000,  0.0000],\n",
      "         [ 0.0000,  0.0000,  0.0000,  ...,  0.0000,  0.0000,  0.0000],\n",
      "         [ 0.0000,  0.0000,  0.0000,  ..., -0.0017,  0.0000,  0.0000]]])\n",
      "after zeroing tensor([[[ 0.0008,  0.0000,  0.0000,  ...,  0.0000,  0.0000,  0.0000],\n",
      "         [ 0.0000,  0.0000,  0.0000,  ..., -0.0002,  0.0000,  0.0000],\n",
      "         [ 0.0000,  0.0000,  0.0000,  ...,  0.0000,  0.0000,  0.0000],\n",
      "         ...,\n",
      "         [ 0.0000, -0.0010,  0.0000,  ...,  0.0000,  0.0000,  0.0000],\n",
      "         [ 0.0000,  0.0000,  0.0000,  ...,  0.0000,  0.0000,  0.0000],\n",
      "         [ 0.0000,  0.0000,  0.0000,  ..., -0.0017,  0.0000,  0.0000]]])\n",
      "word attr tensor([ 0.1859,  0.4121, -0.1396,  0.0484,  0.2924,  0.3895, -0.0743, -0.1128,\n",
      "         0.3654,  0.3318, -0.1762,  0.2429,  0.1474, -0.2423,  0.0888,  0.0648,\n",
      "        -0.2549, -0.1504,  0.0677])\n",
      "conti attr [tensor(0.1859), tensor(0.4121), tensor(-0.1396), tensor(0.0484), tensor(0.2924), tensor(0.3895), tensor(-0.0743), tensor(-0.1128), tensor(0.3654), tensor(0.3318), tensor(0.0667), tensor(0.1474), tensor(-0.2423), tensor(0.0888), tensor(0.0648), tensor(-0.2549), tensor(-0.1504), tensor(0.0677)]\n",
      "detokenized ['<s>', 'Syria', 'agrees', 'to', 'surrender', 'chemical', 'weapons', '</s>', '</s>', 'Syria', 'FM', ':', 'We', 'will', 'stop', 'producing', 'chemical', 'weapons', '</s>']\n",
      "len conti_raw 18\n",
      "conti_raw ['<s>', 'Syria', 'agrees', 'to', 'surrender', 'chemical', 'weapons', '</s>', '</s>', 'Syria', 'FM:', 'We', 'will', 'stop', 'producing', 'chemical', 'weapons', '</s>']\n"
     ]
    },
    {
     "data": {
      "text/html": [
       "<table width: 100%><div style=\"border-top: 1px solid; margin-top: 5px;             padding-top: 5px; display: inline-block\"><b>Legend: </b><span style=\"display: inline-block; width: 10px; height: 10px;                 border: 1px solid; background-color:                 hsl(0, 75%, 60%)\"></span> Negative  <span style=\"display: inline-block; width: 10px; height: 10px;                 border: 1px solid; background-color:                 hsl(0, 75%, 100%)\"></span> Neutral  <span style=\"display: inline-block; width: 10px; height: 10px;                 border: 1px solid; background-color:                 hsl(120, 75%, 50%)\"></span> Positive  </div><tr><th>True Label</th><th>Predicted Label</th><th>Attribution Label</th><th>Attribution Score</th><th>Word Importance</th><tr><td><text style=\"padding-right:2em\"><b>Similar</b></text></td><td><text style=\"padding-right:2em\"><b>Similar (0.84)</b></text></td><td><text style=\"padding-right:2em\"><b>Similar</b></text></td><td><text style=\"padding-right:2em\"><b>1.49</b></text></td><td><mark style=\"background-color: hsl(120, 75%, 91%); opacity:1.0;                     line-height:1.75\"><font color=\"black\"> #s                    </font></mark><mark style=\"background-color: hsl(120, 75%, 80%); opacity:1.0;                     line-height:1.75\"><font color=\"black\"> Syria                    </font></mark><mark style=\"background-color: hsl(0, 75%, 95%); opacity:1.0;                     line-height:1.75\"><font color=\"black\"> agrees                    </font></mark><mark style=\"background-color: hsl(120, 75%, 98%); opacity:1.0;                     line-height:1.75\"><font color=\"black\"> to                    </font></mark><mark style=\"background-color: hsl(120, 75%, 86%); opacity:1.0;                     line-height:1.75\"><font color=\"black\"> surrender                    </font></mark><mark style=\"background-color: hsl(120, 75%, 81%); opacity:1.0;                     line-height:1.75\"><font color=\"black\"> chemical                    </font></mark><mark style=\"background-color: hsl(0, 75%, 98%); opacity:1.0;                     line-height:1.75\"><font color=\"black\"> weapons                    </font></mark><mark style=\"background-color: hsl(0, 75%, 96%); opacity:1.0;                     line-height:1.75\"><font color=\"black\"> #/s                    </font></mark><mark style=\"background-color: hsl(120, 75%, 82%); opacity:1.0;                     line-height:1.75\"><font color=\"black\"> #/s                    </font></mark><mark style=\"background-color: hsl(120, 75%, 84%); opacity:1.0;                     line-height:1.75\"><font color=\"black\"> Syria                    </font></mark><mark style=\"background-color: hsl(120, 75%, 97%); opacity:1.0;                     line-height:1.75\"><font color=\"black\"> FM:                    </font></mark><mark style=\"background-color: hsl(120, 75%, 93%); opacity:1.0;                     line-height:1.75\"><font color=\"black\"> We                    </font></mark><mark style=\"background-color: hsl(0, 75%, 91%); opacity:1.0;                     line-height:1.75\"><font color=\"black\"> will                    </font></mark><mark style=\"background-color: hsl(120, 75%, 96%); opacity:1.0;                     line-height:1.75\"><font color=\"black\"> stop                    </font></mark><mark style=\"background-color: hsl(120, 75%, 97%); opacity:1.0;                     line-height:1.75\"><font color=\"black\"> producing                    </font></mark><mark style=\"background-color: hsl(0, 75%, 90%); opacity:1.0;                     line-height:1.75\"><font color=\"black\"> chemical                    </font></mark><mark style=\"background-color: hsl(0, 75%, 94%); opacity:1.0;                     line-height:1.75\"><font color=\"black\"> weapons                    </font></mark><mark style=\"background-color: hsl(120, 75%, 97%); opacity:1.0;                     line-height:1.75\"><font color=\"black\"> #/s                    </font></mark></td><tr></table>"
      ],
      "text/plain": [
       "<IPython.core.display.HTML object>"
      ]
     },
     "metadata": {},
     "output_type": "display_data"
    },
    {
     "name": "stdout",
     "output_type": "stream",
     "text": [
      "<IPython.core.display.HTML object>\n",
      "i: 20\n",
      "Raw review: ['Chinese shares close lower on Wednesday', 'Chinese students attacked in France']\n",
      "GT target: 0.0\n"
     ]
    },
    {
     "name": "stderr",
     "output_type": "stream",
     "text": [
      "/home/user/anaconda3/envs/py38/lib/python3.9/site-packages/captum/attr/_core/lime.py:1088: UserWarning: Attempting to construct interpretable model with > 10000 features.This can be very slow or lead to OOM issues. Please provide a featuremask which groups input features to reduce the number of interpretablefeatures. \n",
      "  warnings.warn(\n"
     ]
    },
    {
     "name": "stdout",
     "output_type": "stream",
     "text": [
      "pred_prob 0.4386577755212784\n"
     ]
    },
    {
     "name": "stderr",
     "output_type": "stream",
     "text": [
      "Lime attribution: 100%|███████████████████████████| 3/3 [01:11<00:00, 23.74s/it]\n"
     ]
    },
    {
     "name": "stdout",
     "output_type": "stream",
     "text": [
      "attribution took 76.029327 seconds\n",
      "before zeroing tensor([[[ 0.0000,  0.0000,  0.0000,  ...,  0.0000,  0.0000,  0.0000],\n",
      "         [ 0.0000,  0.0000,  0.0000,  ...,  0.0000,  0.0000,  0.0000],\n",
      "         [ 0.0000,  0.0000,  0.0000,  ..., -0.0003,  0.0000,  0.0000],\n",
      "         ...,\n",
      "         [ 0.0000,  0.0000,  0.0000,  ...,  0.0000,  0.0000,  0.0000],\n",
      "         [ 0.0000,  0.0000, -0.0003,  ..., -0.0008,  0.0000, -0.0002],\n",
      "         [ 0.0000,  0.0000, -0.0002,  ...,  0.0000,  0.0000,  0.0000]]])\n",
      "after zeroing tensor([[[ 0.0000,  0.0000,  0.0000,  ...,  0.0000,  0.0000,  0.0000],\n",
      "         [ 0.0000,  0.0000,  0.0000,  ...,  0.0000,  0.0000,  0.0000],\n",
      "         [ 0.0000,  0.0000,  0.0000,  ..., -0.0003,  0.0000,  0.0000],\n",
      "         ...,\n",
      "         [ 0.0000,  0.0000,  0.0000,  ...,  0.0000,  0.0000,  0.0000],\n",
      "         [ 0.0000,  0.0000, -0.0003,  ..., -0.0008,  0.0000, -0.0002],\n",
      "         [ 0.0000,  0.0000, -0.0002,  ...,  0.0000,  0.0000,  0.0000]]])\n",
      "word attr tensor([ 0.0966,  0.8371,  0.0202,  0.0681,  0.1997,  0.1099,  0.1177,  0.0280,\n",
      "        -0.1716, -0.0267,  0.3415, -0.1932,  0.1445,  0.1145, -0.0143])\n",
      "conti attr [tensor(0.0966), tensor(0.8371), tensor(0.0202), tensor(0.0681), tensor(0.1997), tensor(0.1099), tensor(0.1177), tensor(0.0280), tensor(-0.1716), tensor(-0.0267), tensor(0.3415), tensor(-0.1932), tensor(0.1445), tensor(0.1145), tensor(-0.0143)]\n",
      "detokenized ['<s>', 'Chinese', 'shares', 'close', 'lower', 'on', 'Wednesday', '</s>', '</s>', 'Chinese', 'students', 'attacked', 'in', 'France', '</s>']\n",
      "len conti_raw 15\n",
      "conti_raw ['<s>', 'Chinese', 'shares', 'close', 'lower', 'on', 'Wednesday', '</s>', '</s>', 'Chinese', 'students', 'attacked', 'in', 'France', '</s>']\n"
     ]
    },
    {
     "data": {
      "text/html": [
       "<table width: 100%><div style=\"border-top: 1px solid; margin-top: 5px;             padding-top: 5px; display: inline-block\"><b>Legend: </b><span style=\"display: inline-block; width: 10px; height: 10px;                 border: 1px solid; background-color:                 hsl(0, 75%, 60%)\"></span> Negative  <span style=\"display: inline-block; width: 10px; height: 10px;                 border: 1px solid; background-color:                 hsl(0, 75%, 100%)\"></span> Neutral  <span style=\"display: inline-block; width: 10px; height: 10px;                 border: 1px solid; background-color:                 hsl(120, 75%, 50%)\"></span> Positive  </div><tr><th>True Label</th><th>Predicted Label</th><th>Attribution Label</th><th>Attribution Score</th><th>Word Importance</th><tr><td><text style=\"padding-right:2em\"><b>Not Similar</b></text></td><td><text style=\"padding-right:2em\"><b>Not Similar (0.09)</b></text></td><td><text style=\"padding-right:2em\"><b>Similar</b></text></td><td><text style=\"padding-right:2em\"><b>1.67</b></text></td><td><mark style=\"background-color: hsl(120, 75%, 96%); opacity:1.0;                     line-height:1.75\"><font color=\"black\"> #s                    </font></mark><mark style=\"background-color: hsl(120, 75%, 59%); opacity:1.0;                     line-height:1.75\"><font color=\"black\"> Chinese                    </font></mark><mark style=\"background-color: hsl(120, 75%, 99%); opacity:1.0;                     line-height:1.75\"><font color=\"black\"> shares                    </font></mark><mark style=\"background-color: hsl(120, 75%, 97%); opacity:1.0;                     line-height:1.75\"><font color=\"black\"> close                    </font></mark><mark style=\"background-color: hsl(120, 75%, 91%); opacity:1.0;                     line-height:1.75\"><font color=\"black\"> lower                    </font></mark><mark style=\"background-color: hsl(120, 75%, 95%); opacity:1.0;                     line-height:1.75\"><font color=\"black\"> on                    </font></mark><mark style=\"background-color: hsl(120, 75%, 95%); opacity:1.0;                     line-height:1.75\"><font color=\"black\"> Wednesday                    </font></mark><mark style=\"background-color: hsl(120, 75%, 99%); opacity:1.0;                     line-height:1.75\"><font color=\"black\"> #/s                    </font></mark><mark style=\"background-color: hsl(0, 75%, 94%); opacity:1.0;                     line-height:1.75\"><font color=\"black\"> #/s                    </font></mark><mark style=\"background-color: hsl(0, 75%, 99%); opacity:1.0;                     line-height:1.75\"><font color=\"black\"> Chinese                    </font></mark><mark style=\"background-color: hsl(120, 75%, 83%); opacity:1.0;                     line-height:1.75\"><font color=\"black\"> students                    </font></mark><mark style=\"background-color: hsl(0, 75%, 93%); opacity:1.0;                     line-height:1.75\"><font color=\"black\"> attacked                    </font></mark><mark style=\"background-color: hsl(120, 75%, 93%); opacity:1.0;                     line-height:1.75\"><font color=\"black\"> in                    </font></mark><mark style=\"background-color: hsl(120, 75%, 95%); opacity:1.0;                     line-height:1.75\"><font color=\"black\"> France                    </font></mark><mark style=\"background-color: hsl(0, 75%, 100%); opacity:1.0;                     line-height:1.75\"><font color=\"black\"> #/s                    </font></mark></td><tr></table>"
      ],
      "text/plain": [
       "<IPython.core.display.HTML object>"
      ]
     },
     "metadata": {},
     "output_type": "display_data"
    },
    {
     "name": "stdout",
     "output_type": "stream",
     "text": [
      "<IPython.core.display.HTML object>\n",
      "i: 21\n",
      "Raw review: ['Protests after George Zimmerman acquitted in Trayvon Martin case', 'Zimmerman acquitted in slaying']\n",
      "GT target: 3.0\n"
     ]
    },
    {
     "name": "stderr",
     "output_type": "stream",
     "text": [
      "/home/user/anaconda3/envs/py38/lib/python3.9/site-packages/captum/attr/_core/lime.py:1088: UserWarning: Attempting to construct interpretable model with > 10000 features.This can be very slow or lead to OOM issues. Please provide a featuremask which groups input features to reduce the number of interpretablefeatures. \n",
      "  warnings.warn(\n"
     ]
    },
    {
     "name": "stdout",
     "output_type": "stream",
     "text": [
      "pred_prob 2.7657532691955566\n"
     ]
    },
    {
     "name": "stderr",
     "output_type": "stream",
     "text": [
      "Lime attribution: 100%|███████████████████████████| 3/3 [01:14<00:00, 24.99s/it]\n"
     ]
    },
    {
     "name": "stdout",
     "output_type": "stream",
     "text": [
      "attribution took 87.393189 seconds\n",
      "before zeroing tensor([[[ 1.2833e-03,  0.0000e+00, -2.3769e-04,  ...,  0.0000e+00,\n",
      "          -1.9855e-03,  0.0000e+00],\n",
      "         [ 0.0000e+00,  0.0000e+00,  0.0000e+00,  ..., -6.5264e-03,\n",
      "           0.0000e+00,  0.0000e+00],\n",
      "         [ 0.0000e+00,  0.0000e+00,  0.0000e+00,  ...,  0.0000e+00,\n",
      "           0.0000e+00, -3.0769e-05],\n",
      "         ...,\n",
      "         [ 0.0000e+00,  0.0000e+00,  0.0000e+00,  ...,  0.0000e+00,\n",
      "           0.0000e+00,  0.0000e+00],\n",
      "         [ 0.0000e+00,  3.6266e-05,  0.0000e+00,  ...,  0.0000e+00,\n",
      "           0.0000e+00,  0.0000e+00],\n",
      "         [ 0.0000e+00,  0.0000e+00,  0.0000e+00,  ...,  0.0000e+00,\n",
      "           0.0000e+00,  0.0000e+00]]])\n",
      "after zeroing tensor([[[ 1.2833e-03,  0.0000e+00, -2.3769e-04,  ...,  0.0000e+00,\n",
      "          -1.9855e-03,  0.0000e+00],\n",
      "         [ 0.0000e+00,  0.0000e+00,  0.0000e+00,  ..., -6.5264e-03,\n",
      "           0.0000e+00,  0.0000e+00],\n",
      "         [ 0.0000e+00,  0.0000e+00,  0.0000e+00,  ...,  0.0000e+00,\n",
      "           0.0000e+00, -3.0769e-05],\n",
      "         ...,\n",
      "         [ 0.0000e+00,  0.0000e+00,  0.0000e+00,  ...,  0.0000e+00,\n",
      "           0.0000e+00,  0.0000e+00],\n",
      "         [ 0.0000e+00,  3.6266e-05,  0.0000e+00,  ...,  0.0000e+00,\n",
      "           0.0000e+00,  0.0000e+00],\n",
      "         [ 0.0000e+00,  0.0000e+00,  0.0000e+00,  ...,  0.0000e+00,\n",
      "           0.0000e+00,  0.0000e+00]]])\n",
      "word attr tensor([-0.0958, -0.0653, -0.1196,  0.3916,  0.0281,  0.1059,  0.6104, -0.1317,\n",
      "        -0.0666,  0.1296, -0.0639,  0.3249, -0.1571, -0.2668, -0.1874, -0.1706,\n",
      "        -0.0844, -0.1640,  0.1579, -0.2591])\n",
      "conti attr [tensor(-0.0958), tensor(-0.1849), tensor(0.3916), tensor(0.0281), tensor(0.1059), tensor(0.6104), tensor(-0.1317), tensor(-0.0666), tensor(0.1296), tensor(-0.0639), tensor(0.3249), tensor(-0.1571), tensor(-0.6248), tensor(-0.0844), tensor(-0.1640), tensor(0.1579), tensor(-0.2591)]\n",
      "detokenized ['<s>', 'Prot', 'ests', 'after', 'George', 'Zimmerman', 'acquitted', 'in', 'Trayvon', 'Martin', 'case', '</s>', '</s>', 'Z', 'immer', 'man', 'acquitted', 'in', 'slaying', '</s>']\n",
      "len conti_raw 17\n",
      "conti_raw ['<s>', 'Protests', 'after', 'George', 'Zimmerman', 'acquitted', 'in', 'Trayvon', 'Martin', 'case', '</s>', '</s>', 'Zimmerman', 'acquitted', 'in', 'slaying', '</s>']\n"
     ]
    },
    {
     "data": {
      "text/html": [
       "<table width: 100%><div style=\"border-top: 1px solid; margin-top: 5px;             padding-top: 5px; display: inline-block\"><b>Legend: </b><span style=\"display: inline-block; width: 10px; height: 10px;                 border: 1px solid; background-color:                 hsl(0, 75%, 60%)\"></span> Negative  <span style=\"display: inline-block; width: 10px; height: 10px;                 border: 1px solid; background-color:                 hsl(0, 75%, 100%)\"></span> Neutral  <span style=\"display: inline-block; width: 10px; height: 10px;                 border: 1px solid; background-color:                 hsl(120, 75%, 50%)\"></span> Positive  </div><tr><th>True Label</th><th>Predicted Label</th><th>Attribution Label</th><th>Attribution Score</th><th>Word Importance</th><tr><td><text style=\"padding-right:2em\"><b>Similar</b></text></td><td><text style=\"padding-right:2em\"><b>Similar (0.55)</b></text></td><td><text style=\"padding-right:2em\"><b>Not Similar</b></text></td><td><text style=\"padding-right:2em\"><b>-0.08</b></text></td><td><mark style=\"background-color: hsl(0, 75%, 97%); opacity:1.0;                     line-height:1.75\"><font color=\"black\"> #s                    </font></mark><mark style=\"background-color: hsl(0, 75%, 93%); opacity:1.0;                     line-height:1.75\"><font color=\"black\"> Protests                    </font></mark><mark style=\"background-color: hsl(120, 75%, 81%); opacity:1.0;                     line-height:1.75\"><font color=\"black\"> after                    </font></mark><mark style=\"background-color: hsl(120, 75%, 99%); opacity:1.0;                     line-height:1.75\"><font color=\"black\"> George                    </font></mark><mark style=\"background-color: hsl(120, 75%, 95%); opacity:1.0;                     line-height:1.75\"><font color=\"black\"> Zimmerman                    </font></mark><mark style=\"background-color: hsl(120, 75%, 70%); opacity:1.0;                     line-height:1.75\"><font color=\"black\"> acquitted                    </font></mark><mark style=\"background-color: hsl(0, 75%, 95%); opacity:1.0;                     line-height:1.75\"><font color=\"black\"> in                    </font></mark><mark style=\"background-color: hsl(0, 75%, 98%); opacity:1.0;                     line-height:1.75\"><font color=\"black\"> Trayvon                    </font></mark><mark style=\"background-color: hsl(120, 75%, 94%); opacity:1.0;                     line-height:1.75\"><font color=\"black\"> Martin                    </font></mark><mark style=\"background-color: hsl(0, 75%, 98%); opacity:1.0;                     line-height:1.75\"><font color=\"black\"> case                    </font></mark><mark style=\"background-color: hsl(120, 75%, 84%); opacity:1.0;                     line-height:1.75\"><font color=\"black\"> #/s                    </font></mark><mark style=\"background-color: hsl(0, 75%, 94%); opacity:1.0;                     line-height:1.75\"><font color=\"black\"> #/s                    </font></mark><mark style=\"background-color: hsl(0, 75%, 76%); opacity:1.0;                     line-height:1.75\"><font color=\"black\"> Zimmerman                    </font></mark><mark style=\"background-color: hsl(0, 75%, 97%); opacity:1.0;                     line-height:1.75\"><font color=\"black\"> acquitted                    </font></mark><mark style=\"background-color: hsl(0, 75%, 94%); opacity:1.0;                     line-height:1.75\"><font color=\"black\"> in                    </font></mark><mark style=\"background-color: hsl(120, 75%, 93%); opacity:1.0;                     line-height:1.75\"><font color=\"black\"> slaying                    </font></mark><mark style=\"background-color: hsl(0, 75%, 90%); opacity:1.0;                     line-height:1.75\"><font color=\"black\"> #/s                    </font></mark></td><tr></table>"
      ],
      "text/plain": [
       "<IPython.core.display.HTML object>"
      ]
     },
     "metadata": {},
     "output_type": "display_data"
    },
    {
     "name": "stderr",
     "output_type": "stream",
     "text": [
      "/home/user/anaconda3/envs/py38/lib/python3.9/site-packages/captum/attr/_core/lime.py:1088: UserWarning: Attempting to construct interpretable model with > 10000 features.This can be very slow or lead to OOM issues. Please provide a featuremask which groups input features to reduce the number of interpretablefeatures. \n",
      "  warnings.warn(\n"
     ]
    },
    {
     "name": "stdout",
     "output_type": "stream",
     "text": [
      "<IPython.core.display.HTML object>\n",
      "i: 22\n",
      "Raw review: [\"The answer will depend significantly on what country you're traveling to.\", 'As someone who has always travelled with a lot of prescription medication, I always declare it.']\n",
      "GT target: 1.0\n",
      "pred_prob 0.23258300498127937\n"
     ]
    },
    {
     "name": "stderr",
     "output_type": "stream",
     "text": [
      "Lime attribution: 100%|███████████████████████████| 3/3 [02:44<00:00, 54.74s/it]\n"
     ]
    },
    {
     "name": "stdout",
     "output_type": "stream",
     "text": [
      "attribution took 173.473297 seconds\n",
      "before zeroing tensor([[[ 0.0000,  0.0000,  0.0000,  ...,  0.0000,  0.0000,  0.0000],\n",
      "         [ 0.0000,  0.0000,  0.0000,  ...,  0.0000,  0.0000,  0.0000],\n",
      "         [ 0.0000,  0.0000,  0.0000,  ...,  0.0000,  0.0000,  0.0000],\n",
      "         ...,\n",
      "         [ 0.0000,  0.0000,  0.0000,  ...,  0.0000,  0.0000,  0.0000],\n",
      "         [ 0.0000,  0.0000,  0.0000,  ...,  0.0000,  0.0000,  0.0000],\n",
      "         [ 0.0000, -0.0001,  0.0000,  ...,  0.0000,  0.0000,  0.0000]]])\n",
      "after zeroing tensor([[[ 0.0000,  0.0000,  0.0000,  ...,  0.0000,  0.0000,  0.0000],\n",
      "         [ 0.0000,  0.0000,  0.0000,  ...,  0.0000,  0.0000,  0.0000],\n",
      "         [ 0.0000,  0.0000,  0.0000,  ...,  0.0000,  0.0000,  0.0000],\n",
      "         ...,\n",
      "         [ 0.0000,  0.0000,  0.0000,  ...,  0.0000,  0.0000,  0.0000],\n",
      "         [ 0.0000,  0.0000,  0.0000,  ...,  0.0000,  0.0000,  0.0000],\n",
      "         [ 0.0000, -0.0001,  0.0000,  ...,  0.0000,  0.0000,  0.0000]]])\n",
      "word attr tensor([-0.0250, -0.0035, -0.0244, -0.0645, -0.1131, -0.0235, -0.0515,  0.0891,\n",
      "         0.0728,  0.0367,  0.1483, -0.7868, -0.0265,  0.0086,  0.0516, -0.1164,\n",
      "         0.0850,  0.0859, -0.1579, -0.0540,  0.1270, -0.0497, -0.2040,  0.0819,\n",
      "         0.2152, -0.0633,  0.2692,  0.0844, -0.0796, -0.0916,  0.1371, -0.0496,\n",
      "         0.0802, -0.0026, -0.1557])\n",
      "conti attr [tensor(-0.0250), tensor(-0.0035), tensor(-0.0244), tensor(-0.0645), tensor(-0.1131), tensor(-0.0235), tensor(-0.0515), tensor(0.0891), tensor(0.0728), tensor(0.1850), tensor(-0.7868), tensor(-0.0179), tensor(0.0516), tensor(-0.1164), tensor(0.0850), tensor(0.0859), tensor(-0.1579), tensor(-0.0540), tensor(0.1270), tensor(-0.0497), tensor(-0.2040), tensor(0.0819), tensor(0.2152), tensor(-0.0633), tensor(0.2692), tensor(0.0048), tensor(-0.0916), tensor(0.1371), tensor(-0.0496), tensor(0.0776), tensor(-0.1557)]\n",
      "detokenized ['<s>', 'The', 'answer', 'will', 'depend', 'significantly', 'on', 'what', 'country', 'you', \"'re\", 'traveling', 'to', '.', '</s>', '</s>', 'As', 'someone', 'who', 'has', 'always', 'travelled', 'with', 'a', 'lot', 'of', 'prescription', 'medication', ',', 'I', 'always', 'declare', 'it', '.', '</s>']\n",
      "len conti_raw 31\n",
      "conti_raw ['<s>', 'The', 'answer', 'will', 'depend', 'significantly', 'on', 'what', 'country', \"you're\", 'traveling', 'to.', '</s>', '</s>', 'As', 'someone', 'who', 'has', 'always', 'travelled', 'with', 'a', 'lot', 'of', 'prescription', 'medication,', 'I', 'always', 'declare', 'it.', '</s>']\n"
     ]
    },
    {
     "data": {
      "text/html": [
       "<table width: 100%><div style=\"border-top: 1px solid; margin-top: 5px;             padding-top: 5px; display: inline-block\"><b>Legend: </b><span style=\"display: inline-block; width: 10px; height: 10px;                 border: 1px solid; background-color:                 hsl(0, 75%, 60%)\"></span> Negative  <span style=\"display: inline-block; width: 10px; height: 10px;                 border: 1px solid; background-color:                 hsl(0, 75%, 100%)\"></span> Neutral  <span style=\"display: inline-block; width: 10px; height: 10px;                 border: 1px solid; background-color:                 hsl(120, 75%, 50%)\"></span> Positive  </div><tr><th>True Label</th><th>Predicted Label</th><th>Attribution Label</th><th>Attribution Score</th><th>Word Importance</th><tr><td><text style=\"padding-right:2em\"><b>Not Similar</b></text></td><td><text style=\"padding-right:2em\"><b>Not Similar (0.05)</b></text></td><td><text style=\"padding-right:2em\"><b>Not Similar</b></text></td><td><text style=\"padding-right:2em\"><b>-0.57</b></text></td><td><mark style=\"background-color: hsl(0, 75%, 99%); opacity:1.0;                     line-height:1.75\"><font color=\"black\"> #s                    </font></mark><mark style=\"background-color: hsl(0, 75%, 100%); opacity:1.0;                     line-height:1.75\"><font color=\"black\"> The                    </font></mark><mark style=\"background-color: hsl(0, 75%, 100%); opacity:1.0;                     line-height:1.75\"><font color=\"black\"> answer                    </font></mark><mark style=\"background-color: hsl(0, 75%, 98%); opacity:1.0;                     line-height:1.75\"><font color=\"black\"> will                    </font></mark><mark style=\"background-color: hsl(0, 75%, 96%); opacity:1.0;                     line-height:1.75\"><font color=\"black\"> depend                    </font></mark><mark style=\"background-color: hsl(0, 75%, 100%); opacity:1.0;                     line-height:1.75\"><font color=\"black\"> significantly                    </font></mark><mark style=\"background-color: hsl(0, 75%, 98%); opacity:1.0;                     line-height:1.75\"><font color=\"black\"> on                    </font></mark><mark style=\"background-color: hsl(120, 75%, 96%); opacity:1.0;                     line-height:1.75\"><font color=\"black\"> what                    </font></mark><mark style=\"background-color: hsl(120, 75%, 97%); opacity:1.0;                     line-height:1.75\"><font color=\"black\"> country                    </font></mark><mark style=\"background-color: hsl(120, 75%, 91%); opacity:1.0;                     line-height:1.75\"><font color=\"black\"> you're                    </font></mark><mark style=\"background-color: hsl(0, 75%, 69%); opacity:1.0;                     line-height:1.75\"><font color=\"black\"> traveling                    </font></mark><mark style=\"background-color: hsl(0, 75%, 100%); opacity:1.0;                     line-height:1.75\"><font color=\"black\"> to.                    </font></mark><mark style=\"background-color: hsl(120, 75%, 98%); opacity:1.0;                     line-height:1.75\"><font color=\"black\"> #/s                    </font></mark><mark style=\"background-color: hsl(0, 75%, 96%); opacity:1.0;                     line-height:1.75\"><font color=\"black\"> #/s                    </font></mark><mark style=\"background-color: hsl(120, 75%, 96%); opacity:1.0;                     line-height:1.75\"><font color=\"black\"> As                    </font></mark><mark style=\"background-color: hsl(120, 75%, 96%); opacity:1.0;                     line-height:1.75\"><font color=\"black\"> someone                    </font></mark><mark style=\"background-color: hsl(0, 75%, 94%); opacity:1.0;                     line-height:1.75\"><font color=\"black\"> who                    </font></mark><mark style=\"background-color: hsl(0, 75%, 98%); opacity:1.0;                     line-height:1.75\"><font color=\"black\"> has                    </font></mark><mark style=\"background-color: hsl(120, 75%, 94%); opacity:1.0;                     line-height:1.75\"><font color=\"black\"> always                    </font></mark><mark style=\"background-color: hsl(0, 75%, 99%); opacity:1.0;                     line-height:1.75\"><font color=\"black\"> travelled                    </font></mark><mark style=\"background-color: hsl(0, 75%, 92%); opacity:1.0;                     line-height:1.75\"><font color=\"black\"> with                    </font></mark><mark style=\"background-color: hsl(120, 75%, 96%); opacity:1.0;                     line-height:1.75\"><font color=\"black\"> a                    </font></mark><mark style=\"background-color: hsl(120, 75%, 90%); opacity:1.0;                     line-height:1.75\"><font color=\"black\"> lot                    </font></mark><mark style=\"background-color: hsl(0, 75%, 98%); opacity:1.0;                     line-height:1.75\"><font color=\"black\"> of                    </font></mark><mark style=\"background-color: hsl(120, 75%, 87%); opacity:1.0;                     line-height:1.75\"><font color=\"black\"> prescription                    </font></mark><mark style=\"background-color: hsl(120, 75%, 100%); opacity:1.0;                     line-height:1.75\"><font color=\"black\"> medication,                    </font></mark><mark style=\"background-color: hsl(0, 75%, 97%); opacity:1.0;                     line-height:1.75\"><font color=\"black\"> I                    </font></mark><mark style=\"background-color: hsl(120, 75%, 94%); opacity:1.0;                     line-height:1.75\"><font color=\"black\"> always                    </font></mark><mark style=\"background-color: hsl(0, 75%, 99%); opacity:1.0;                     line-height:1.75\"><font color=\"black\"> declare                    </font></mark><mark style=\"background-color: hsl(120, 75%, 97%); opacity:1.0;                     line-height:1.75\"><font color=\"black\"> it.                    </font></mark><mark style=\"background-color: hsl(0, 75%, 94%); opacity:1.0;                     line-height:1.75\"><font color=\"black\"> #/s                    </font></mark></td><tr></table>"
      ],
      "text/plain": [
       "<IPython.core.display.HTML object>"
      ]
     },
     "metadata": {},
     "output_type": "display_data"
    },
    {
     "name": "stderr",
     "output_type": "stream",
     "text": [
      "/home/user/anaconda3/envs/py38/lib/python3.9/site-packages/captum/attr/_core/lime.py:1088: UserWarning: Attempting to construct interpretable model with > 10000 features.This can be very slow or lead to OOM issues. Please provide a featuremask which groups input features to reduce the number of interpretablefeatures. \n",
      "  warnings.warn(\n"
     ]
    },
    {
     "name": "stdout",
     "output_type": "stream",
     "text": [
      "<IPython.core.display.HTML object>\n",
      "i: 23\n",
      "Raw review: ['A man is running.', 'A man is singing.']\n",
      "GT target: 1.25\n",
      "pred_prob 0.7396946847438812\n"
     ]
    },
    {
     "name": "stderr",
     "output_type": "stream",
     "text": [
      "Lime attribution: 100%|███████████████████████████| 3/3 [00:58<00:00, 19.65s/it]\n"
     ]
    },
    {
     "name": "stdout",
     "output_type": "stream",
     "text": [
      "attribution took 61.946586 seconds\n",
      "before zeroing tensor([[[0., 0., 0.,  ..., 0., 0., 0.],\n",
      "         [0., 0., 0.,  ..., 0., 0., 0.],\n",
      "         [0., 0., 0.,  ..., 0., 0., 0.],\n",
      "         ...,\n",
      "         [0., 0., 0.,  ..., 0., 0., 0.],\n",
      "         [0., 0., 0.,  ..., 0., 0., 0.],\n",
      "         [0., 0., 0.,  ..., 0., 0., 0.]]])\n",
      "after zeroing tensor([[[0., 0., 0.,  ..., 0., 0., 0.],\n",
      "         [0., 0., 0.,  ..., 0., 0., 0.],\n",
      "         [0., 0., 0.,  ..., 0., 0., 0.],\n",
      "         ...,\n",
      "         [0., 0., 0.,  ..., 0., 0., 0.],\n",
      "         [0., 0., 0.,  ..., 0., 0., 0.],\n",
      "         [0., 0., 0.,  ..., 0., 0., 0.]]])\n",
      "word attr tensor([-0.0245,  0.0000,  0.0236,  0.0000,  0.0000,  0.0000, -0.9316, -0.1966,\n",
      "         0.0000, -0.0189, -0.0133, -0.3011,  0.0048, -0.0333])\n",
      "conti attr [tensor(-0.0245), tensor(0.), tensor(0.0236), tensor(0.), tensor(0.), tensor(-0.9316), tensor(-0.1966), tensor(0.), tensor(-0.0189), tensor(-0.0133), tensor(-0.2962), tensor(-0.0333)]\n",
      "detokenized ['<s>', 'A', 'man', 'is', 'running', '.', '</s>', '</s>', 'A', 'man', 'is', 'singing', '.', '</s>']\n",
      "len conti_raw 12\n",
      "conti_raw ['<s>', 'A', 'man', 'is', 'running.', '</s>', '</s>', 'A', 'man', 'is', 'singing.', '</s>']\n"
     ]
    },
    {
     "data": {
      "text/html": [
       "<table width: 100%><div style=\"border-top: 1px solid; margin-top: 5px;             padding-top: 5px; display: inline-block\"><b>Legend: </b><span style=\"display: inline-block; width: 10px; height: 10px;                 border: 1px solid; background-color:                 hsl(0, 75%, 60%)\"></span> Negative  <span style=\"display: inline-block; width: 10px; height: 10px;                 border: 1px solid; background-color:                 hsl(0, 75%, 100%)\"></span> Neutral  <span style=\"display: inline-block; width: 10px; height: 10px;                 border: 1px solid; background-color:                 hsl(120, 75%, 50%)\"></span> Positive  </div><tr><th>True Label</th><th>Predicted Label</th><th>Attribution Label</th><th>Attribution Score</th><th>Word Importance</th><tr><td><text style=\"padding-right:2em\"><b>Not Similar</b></text></td><td><text style=\"padding-right:2em\"><b>Not Similar (0.15)</b></text></td><td><text style=\"padding-right:2em\"><b>Not Similar</b></text></td><td><text style=\"padding-right:2em\"><b>-1.49</b></text></td><td><mark style=\"background-color: hsl(0, 75%, 100%); opacity:1.0;                     line-height:1.75\"><font color=\"black\"> #s                    </font></mark><mark style=\"background-color: hsl(0, 75%, 100%); opacity:1.0;                     line-height:1.75\"><font color=\"black\"> A                    </font></mark><mark style=\"background-color: hsl(120, 75%, 99%); opacity:1.0;                     line-height:1.75\"><font color=\"black\"> man                    </font></mark><mark style=\"background-color: hsl(0, 75%, 100%); opacity:1.0;                     line-height:1.75\"><font color=\"black\"> is                    </font></mark><mark style=\"background-color: hsl(0, 75%, 100%); opacity:1.0;                     line-height:1.75\"><font color=\"black\"> running.                    </font></mark><mark style=\"background-color: hsl(0, 75%, 63%); opacity:1.0;                     line-height:1.75\"><font color=\"black\"> #/s                    </font></mark><mark style=\"background-color: hsl(0, 75%, 93%); opacity:1.0;                     line-height:1.75\"><font color=\"black\"> #/s                    </font></mark><mark style=\"background-color: hsl(0, 75%, 100%); opacity:1.0;                     line-height:1.75\"><font color=\"black\"> A                    </font></mark><mark style=\"background-color: hsl(0, 75%, 100%); opacity:1.0;                     line-height:1.75\"><font color=\"black\"> man                    </font></mark><mark style=\"background-color: hsl(0, 75%, 100%); opacity:1.0;                     line-height:1.75\"><font color=\"black\"> is                    </font></mark><mark style=\"background-color: hsl(0, 75%, 89%); opacity:1.0;                     line-height:1.75\"><font color=\"black\"> singing.                    </font></mark><mark style=\"background-color: hsl(0, 75%, 99%); opacity:1.0;                     line-height:1.75\"><font color=\"black\"> #/s                    </font></mark></td><tr></table>"
      ],
      "text/plain": [
       "<IPython.core.display.HTML object>"
      ]
     },
     "metadata": {},
     "output_type": "display_data"
    },
    {
     "name": "stderr",
     "output_type": "stream",
     "text": [
      "/home/user/anaconda3/envs/py38/lib/python3.9/site-packages/captum/attr/_core/lime.py:1088: UserWarning: Attempting to construct interpretable model with > 10000 features.This can be very slow or lead to OOM issues. Please provide a featuremask which groups input features to reduce the number of interpretablefeatures. \n",
      "  warnings.warn(\n"
     ]
    },
    {
     "name": "stdout",
     "output_type": "stream",
     "text": [
      "<IPython.core.display.HTML object>\n",
      "i: 24\n",
      "Raw review: [\"Egyptian president moves into Mubarak's old office\", \"Egypt's President-Elect Morsi Starts to Form Government\"]\n",
      "GT target: 2.3333332538604736\n",
      "pred_prob 1.923585683107376\n"
     ]
    },
    {
     "name": "stderr",
     "output_type": "stream",
     "text": [
      "Lime attribution: 100%|███████████████████████████| 3/3 [01:02<00:00, 20.85s/it]\n"
     ]
    },
    {
     "name": "stdout",
     "output_type": "stream",
     "text": [
      "attribution took 70.797749 seconds\n",
      "before zeroing tensor([[[ 0.0000,  0.0000,  0.0000,  ...,  0.0004, -0.0003,  0.0000],\n",
      "         [ 0.0000,  0.0000,  0.0000,  ...,  0.0000,  0.0000,  0.0000],\n",
      "         [ 0.0000,  0.0000,  0.0000,  ...,  0.0000,  0.0000,  0.0000],\n",
      "         ...,\n",
      "         [ 0.0000,  0.0000,  0.0000,  ...,  0.0000,  0.0000,  0.0000],\n",
      "         [-0.0013,  0.0000, -0.0006,  ...,  0.0000,  0.0000,  0.0008],\n",
      "         [ 0.0000,  0.0000,  0.0000,  ...,  0.0000,  0.0000,  0.0000]]])\n",
      "after zeroing tensor([[[ 0.0000,  0.0000,  0.0000,  ...,  0.0004, -0.0003,  0.0000],\n",
      "         [ 0.0000,  0.0000,  0.0000,  ...,  0.0000,  0.0000,  0.0000],\n",
      "         [ 0.0000,  0.0000,  0.0000,  ...,  0.0000,  0.0000,  0.0000],\n",
      "         ...,\n",
      "         [ 0.0000,  0.0000,  0.0000,  ...,  0.0000,  0.0000,  0.0000],\n",
      "         [-0.0013,  0.0000, -0.0006,  ...,  0.0000,  0.0000,  0.0008],\n",
      "         [ 0.0000,  0.0000,  0.0000,  ...,  0.0000,  0.0000,  0.0000]]])\n",
      "word attr tensor([-0.0530,  0.0134,  0.1784,  0.1933, -0.4244,  0.0679, -0.3719,  0.2064,\n",
      "         0.0970, -0.1180,  0.3286,  0.3361,  0.1680,  0.0023,  0.1705, -0.0874,\n",
      "        -0.4199,  0.1733, -0.0133, -0.0502, -0.0656, -0.0012,  0.1995])\n",
      "conti attr [tensor(-0.0530), tensor(0.1918), tensor(0.1933), tensor(-0.4244), tensor(0.0679), tensor(-0.1655), tensor(0.0970), tensor(-0.1180), tensor(0.3286), tensor(0.3361), tensor(0.1703), tensor(-0.3367), tensor(0.1733), tensor(-0.0133), tensor(-0.0502), tensor(-0.0656), tensor(-0.0012), tensor(0.1995)]\n",
      "detokenized ['<s>', 'Egypt', 'ian', 'president', 'moves', 'into', 'Mubarak', \"'s\", 'old', 'office', '</s>', '</s>', 'Egypt', \"'s\", 'President', '-', 'Elect', 'Morsi', 'Starts', 'to', 'Form', 'Government', '</s>']\n",
      "len conti_raw 18\n",
      "conti_raw ['<s>', 'Egyptian', 'president', 'moves', 'into', \"Mubarak's\", 'old', 'office', '</s>', '</s>', \"Egypt's\", 'President-Elect', 'Morsi', 'Starts', 'to', 'Form', 'Government', '</s>']\n"
     ]
    },
    {
     "data": {
      "text/html": [
       "<table width: 100%><div style=\"border-top: 1px solid; margin-top: 5px;             padding-top: 5px; display: inline-block\"><b>Legend: </b><span style=\"display: inline-block; width: 10px; height: 10px;                 border: 1px solid; background-color:                 hsl(0, 75%, 60%)\"></span> Negative  <span style=\"display: inline-block; width: 10px; height: 10px;                 border: 1px solid; background-color:                 hsl(0, 75%, 100%)\"></span> Neutral  <span style=\"display: inline-block; width: 10px; height: 10px;                 border: 1px solid; background-color:                 hsl(120, 75%, 50%)\"></span> Positive  </div><tr><th>True Label</th><th>Predicted Label</th><th>Attribution Label</th><th>Attribution Score</th><th>Word Importance</th><tr><td><text style=\"padding-right:2em\"><b>Not Similar</b></text></td><td><text style=\"padding-right:2em\"><b>Not Similar (0.38)</b></text></td><td><text style=\"padding-right:2em\"><b>Similar</b></text></td><td><text style=\"padding-right:2em\"><b>0.53</b></text></td><td><mark style=\"background-color: hsl(0, 75%, 98%); opacity:1.0;                     line-height:1.75\"><font color=\"black\"> #s                    </font></mark><mark style=\"background-color: hsl(120, 75%, 91%); opacity:1.0;                     line-height:1.75\"><font color=\"black\"> Egyptian                    </font></mark><mark style=\"background-color: hsl(120, 75%, 91%); opacity:1.0;                     line-height:1.75\"><font color=\"black\"> president                    </font></mark><mark style=\"background-color: hsl(0, 75%, 84%); opacity:1.0;                     line-height:1.75\"><font color=\"black\"> moves                    </font></mark><mark style=\"background-color: hsl(120, 75%, 97%); opacity:1.0;                     line-height:1.75\"><font color=\"black\"> into                    </font></mark><mark style=\"background-color: hsl(0, 75%, 94%); opacity:1.0;                     line-height:1.75\"><font color=\"black\"> Mubarak's                    </font></mark><mark style=\"background-color: hsl(120, 75%, 96%); opacity:1.0;                     line-height:1.75\"><font color=\"black\"> old                    </font></mark><mark style=\"background-color: hsl(0, 75%, 96%); opacity:1.0;                     line-height:1.75\"><font color=\"black\"> office                    </font></mark><mark style=\"background-color: hsl(120, 75%, 84%); opacity:1.0;                     line-height:1.75\"><font color=\"black\"> #/s                    </font></mark><mark style=\"background-color: hsl(120, 75%, 84%); opacity:1.0;                     line-height:1.75\"><font color=\"black\"> #/s                    </font></mark><mark style=\"background-color: hsl(120, 75%, 92%); opacity:1.0;                     line-height:1.75\"><font color=\"black\"> Egypt's                    </font></mark><mark style=\"background-color: hsl(0, 75%, 87%); opacity:1.0;                     line-height:1.75\"><font color=\"black\"> President-Elect                    </font></mark><mark style=\"background-color: hsl(120, 75%, 92%); opacity:1.0;                     line-height:1.75\"><font color=\"black\"> Morsi                    </font></mark><mark style=\"background-color: hsl(0, 75%, 100%); opacity:1.0;                     line-height:1.75\"><font color=\"black\"> Starts                    </font></mark><mark style=\"background-color: hsl(0, 75%, 98%); opacity:1.0;                     line-height:1.75\"><font color=\"black\"> to                    </font></mark><mark style=\"background-color: hsl(0, 75%, 98%); opacity:1.0;                     line-height:1.75\"><font color=\"black\"> Form                    </font></mark><mark style=\"background-color: hsl(0, 75%, 100%); opacity:1.0;                     line-height:1.75\"><font color=\"black\"> Government                    </font></mark><mark style=\"background-color: hsl(120, 75%, 91%); opacity:1.0;                     line-height:1.75\"><font color=\"black\"> #/s                    </font></mark></td><tr></table>"
      ],
      "text/plain": [
       "<IPython.core.display.HTML object>"
      ]
     },
     "metadata": {},
     "output_type": "display_data"
    },
    {
     "name": "stderr",
     "output_type": "stream",
     "text": [
      "/home/user/anaconda3/envs/py38/lib/python3.9/site-packages/captum/attr/_core/lime.py:1088: UserWarning: Attempting to construct interpretable model with > 10000 features.This can be very slow or lead to OOM issues. Please provide a featuremask which groups input features to reduce the number of interpretablefeatures. \n",
      "  warnings.warn(\n"
     ]
    },
    {
     "name": "stdout",
     "output_type": "stream",
     "text": [
      "<IPython.core.display.HTML object>\n",
      "i: 25\n",
      "Raw review: ['The dog could not figure out how to get a stick out the doggy door.', 'A dog is trying to get through his dog door.']\n",
      "GT target: 2.75\n",
      "pred_prob 2.8478720784187317\n"
     ]
    },
    {
     "name": "stderr",
     "output_type": "stream",
     "text": [
      "Lime attribution: 100%|███████████████████████████| 3/3 [01:27<00:00, 29.29s/it]\n"
     ]
    },
    {
     "name": "stdout",
     "output_type": "stream",
     "text": [
      "attribution took 96.840373 seconds\n",
      "before zeroing tensor([[[ 0.0000,  0.0000,  0.0000,  ...,  0.0000,  0.0000,  0.0000],\n",
      "         [ 0.0000,  0.0000,  0.0000,  ...,  0.0000,  0.0000,  0.0000],\n",
      "         [ 0.0000,  0.0000,  0.0000,  ...,  0.0000,  0.0000,  0.0000],\n",
      "         ...,\n",
      "         [ 0.0000,  0.0000,  0.0000,  ...,  0.0000,  0.0000,  0.0000],\n",
      "         [ 0.0000,  0.0000,  0.0000,  ...,  0.0000,  0.0000,  0.0000],\n",
      "         [ 0.0000,  0.0000,  0.0000,  ..., -0.0007,  0.0000,  0.0003]]])\n",
      "after zeroing tensor([[[ 0.0000,  0.0000,  0.0000,  ...,  0.0000,  0.0000,  0.0000],\n",
      "         [ 0.0000,  0.0000,  0.0000,  ...,  0.0000,  0.0000,  0.0000],\n",
      "         [ 0.0000,  0.0000,  0.0000,  ...,  0.0000,  0.0000,  0.0000],\n",
      "         ...,\n",
      "         [ 0.0000,  0.0000,  0.0000,  ...,  0.0000,  0.0000,  0.0000],\n",
      "         [ 0.0000,  0.0000,  0.0000,  ...,  0.0000,  0.0000,  0.0000],\n",
      "         [ 0.0000,  0.0000,  0.0000,  ..., -0.0007,  0.0000,  0.0003]]])\n",
      "word attr tensor([ 0.1271, -0.1175, -0.0275, -0.0803,  0.2328,  0.3768,  0.0083,  0.0815,\n",
      "         0.1825, -0.0310, -0.3619,  0.4930,  0.2432, -0.0557, -0.2085,  0.0649,\n",
      "        -0.1061, -0.0319,  0.1047, -0.0865,  0.0584,  0.0145, -0.0465, -0.3606,\n",
      "         0.0267,  0.1310, -0.0276,  0.1578,  0.1579, -0.0576,  0.0142,  0.0564])\n",
      "conti attr [tensor(0.1271), tensor(-0.1175), tensor(-0.0275), tensor(-0.0803), tensor(0.2328), tensor(0.3768), tensor(0.0083), tensor(0.0815), tensor(0.1825), tensor(-0.0310), tensor(-0.3619), tensor(0.4930), tensor(0.2432), tensor(-0.0557), tensor(-0.1436), tensor(-0.1379), tensor(0.1047), tensor(-0.0865), tensor(0.0584), tensor(0.0145), tensor(-0.0465), tensor(-0.3606), tensor(0.0267), tensor(0.1310), tensor(-0.0276), tensor(0.1578), tensor(0.1579), tensor(-0.0435), tensor(0.0564)]\n",
      "detokenized ['<s>', 'The', 'dog', 'could', 'not', 'figure', 'out', 'how', 'to', 'get', 'a', 'stick', 'out', 'the', 'do', 'ggy', 'door', '.', '</s>', '</s>', 'A', 'dog', 'is', 'trying', 'to', 'get', 'through', 'his', 'dog', 'door', '.', '</s>']\n",
      "len conti_raw 29\n",
      "conti_raw ['<s>', 'The', 'dog', 'could', 'not', 'figure', 'out', 'how', 'to', 'get', 'a', 'stick', 'out', 'the', 'doggy', 'door.', '</s>', '</s>', 'A', 'dog', 'is', 'trying', 'to', 'get', 'through', 'his', 'dog', 'door.', '</s>']\n"
     ]
    },
    {
     "data": {
      "text/html": [
       "<table width: 100%><div style=\"border-top: 1px solid; margin-top: 5px;             padding-top: 5px; display: inline-block\"><b>Legend: </b><span style=\"display: inline-block; width: 10px; height: 10px;                 border: 1px solid; background-color:                 hsl(0, 75%, 60%)\"></span> Negative  <span style=\"display: inline-block; width: 10px; height: 10px;                 border: 1px solid; background-color:                 hsl(0, 75%, 100%)\"></span> Neutral  <span style=\"display: inline-block; width: 10px; height: 10px;                 border: 1px solid; background-color:                 hsl(120, 75%, 50%)\"></span> Positive  </div><tr><th>True Label</th><th>Predicted Label</th><th>Attribution Label</th><th>Attribution Score</th><th>Word Importance</th><tr><td><text style=\"padding-right:2em\"><b>Similar</b></text></td><td><text style=\"padding-right:2em\"><b>Similar (0.57)</b></text></td><td><text style=\"padding-right:2em\"><b>Similar</b></text></td><td><text style=\"padding-right:2em\"><b>0.93</b></text></td><td><mark style=\"background-color: hsl(120, 75%, 94%); opacity:1.0;                     line-height:1.75\"><font color=\"black\"> #s                    </font></mark><mark style=\"background-color: hsl(0, 75%, 96%); opacity:1.0;                     line-height:1.75\"><font color=\"black\"> The                    </font></mark><mark style=\"background-color: hsl(0, 75%, 99%); opacity:1.0;                     line-height:1.75\"><font color=\"black\"> dog                    </font></mark><mark style=\"background-color: hsl(0, 75%, 97%); opacity:1.0;                     line-height:1.75\"><font color=\"black\"> could                    </font></mark><mark style=\"background-color: hsl(120, 75%, 89%); opacity:1.0;                     line-height:1.75\"><font color=\"black\"> not                    </font></mark><mark style=\"background-color: hsl(120, 75%, 82%); opacity:1.0;                     line-height:1.75\"><font color=\"black\"> figure                    </font></mark><mark style=\"background-color: hsl(120, 75%, 100%); opacity:1.0;                     line-height:1.75\"><font color=\"black\"> out                    </font></mark><mark style=\"background-color: hsl(120, 75%, 96%); opacity:1.0;                     line-height:1.75\"><font color=\"black\"> how                    </font></mark><mark style=\"background-color: hsl(120, 75%, 91%); opacity:1.0;                     line-height:1.75\"><font color=\"black\"> to                    </font></mark><mark style=\"background-color: hsl(0, 75%, 99%); opacity:1.0;                     line-height:1.75\"><font color=\"black\"> get                    </font></mark><mark style=\"background-color: hsl(0, 75%, 86%); opacity:1.0;                     line-height:1.75\"><font color=\"black\"> a                    </font></mark><mark style=\"background-color: hsl(120, 75%, 76%); opacity:1.0;                     line-height:1.75\"><font color=\"black\"> stick                    </font></mark><mark style=\"background-color: hsl(120, 75%, 88%); opacity:1.0;                     line-height:1.75\"><font color=\"black\"> out                    </font></mark><mark style=\"background-color: hsl(0, 75%, 98%); opacity:1.0;                     line-height:1.75\"><font color=\"black\"> the                    </font></mark><mark style=\"background-color: hsl(0, 75%, 95%); opacity:1.0;                     line-height:1.75\"><font color=\"black\"> doggy                    </font></mark><mark style=\"background-color: hsl(0, 75%, 95%); opacity:1.0;                     line-height:1.75\"><font color=\"black\"> door.                    </font></mark><mark style=\"background-color: hsl(120, 75%, 95%); opacity:1.0;                     line-height:1.75\"><font color=\"black\"> #/s                    </font></mark><mark style=\"background-color: hsl(0, 75%, 97%); opacity:1.0;                     line-height:1.75\"><font color=\"black\"> #/s                    </font></mark><mark style=\"background-color: hsl(120, 75%, 98%); opacity:1.0;                     line-height:1.75\"><font color=\"black\"> A                    </font></mark><mark style=\"background-color: hsl(120, 75%, 100%); opacity:1.0;                     line-height:1.75\"><font color=\"black\"> dog                    </font></mark><mark style=\"background-color: hsl(0, 75%, 99%); opacity:1.0;                     line-height:1.75\"><font color=\"black\"> is                    </font></mark><mark style=\"background-color: hsl(0, 75%, 86%); opacity:1.0;                     line-height:1.75\"><font color=\"black\"> trying                    </font></mark><mark style=\"background-color: hsl(120, 75%, 99%); opacity:1.0;                     line-height:1.75\"><font color=\"black\"> to                    </font></mark><mark style=\"background-color: hsl(120, 75%, 94%); opacity:1.0;                     line-height:1.75\"><font color=\"black\"> get                    </font></mark><mark style=\"background-color: hsl(0, 75%, 99%); opacity:1.0;                     line-height:1.75\"><font color=\"black\"> through                    </font></mark><mark style=\"background-color: hsl(120, 75%, 93%); opacity:1.0;                     line-height:1.75\"><font color=\"black\"> his                    </font></mark><mark style=\"background-color: hsl(120, 75%, 93%); opacity:1.0;                     line-height:1.75\"><font color=\"black\"> dog                    </font></mark><mark style=\"background-color: hsl(0, 75%, 99%); opacity:1.0;                     line-height:1.75\"><font color=\"black\"> door.                    </font></mark><mark style=\"background-color: hsl(120, 75%, 98%); opacity:1.0;                     line-height:1.75\"><font color=\"black\"> #/s                    </font></mark></td><tr></table>"
      ],
      "text/plain": [
       "<IPython.core.display.HTML object>"
      ]
     },
     "metadata": {},
     "output_type": "display_data"
    },
    {
     "name": "stdout",
     "output_type": "stream",
     "text": [
      "<IPython.core.display.HTML object>\n",
      "i: 26\n",
      "Raw review: ['The white and brown dog is running quickly through the grass.', 'The big white dog is running in the grass.']\n",
      "GT target: 3.4000000953674316\n",
      "pred_prob 3.860727846622467\n"
     ]
    },
    {
     "name": "stderr",
     "output_type": "stream",
     "text": [
      "/home/user/anaconda3/envs/py38/lib/python3.9/site-packages/captum/attr/_core/lime.py:1088: UserWarning: Attempting to construct interpretable model with > 10000 features.This can be very slow or lead to OOM issues. Please provide a featuremask which groups input features to reduce the number of interpretablefeatures. \n",
      "  warnings.warn(\n",
      "Lime attribution: 100%|███████████████████████████| 3/3 [01:11<00:00, 23.87s/it]\n"
     ]
    },
    {
     "name": "stdout",
     "output_type": "stream",
     "text": [
      "attribution took 77.345876 seconds\n",
      "before zeroing tensor([[[0., 0., 0.,  ..., 0., 0., 0.],\n",
      "         [0., 0., 0.,  ..., 0., 0., 0.],\n",
      "         [0., 0., 0.,  ..., 0., 0., 0.],\n",
      "         ...,\n",
      "         [0., 0., 0.,  ..., 0., 0., 0.],\n",
      "         [0., 0., 0.,  ..., 0., 0., 0.],\n",
      "         [0., 0., 0.,  ..., 0., 0., 0.]]])\n",
      "after zeroing tensor([[[0., 0., 0.,  ..., 0., 0., 0.],\n",
      "         [0., 0., 0.,  ..., 0., 0., 0.],\n",
      "         [0., 0., 0.,  ..., 0., 0., 0.],\n",
      "         ...,\n",
      "         [0., 0., 0.,  ..., 0., 0., 0.],\n",
      "         [0., 0., 0.,  ..., 0., 0., 0.],\n",
      "         [0., 0., 0.,  ..., 0., 0., 0.]]])\n",
      "word attr tensor([0., 0., 0., 0., 1., 0., 0., 0., 0., 0., 0., 0., 0., 0., 0., 0., 0., 0.,\n",
      "        0., 0., 0., 0., 0., 0., 0., 0.])\n",
      "conti attr [tensor(0.), tensor(0.), tensor(0.), tensor(0.), tensor(1.), tensor(0.), tensor(0.), tensor(0.), tensor(0.), tensor(0.), tensor(0.), tensor(0.), tensor(0.), tensor(0.), tensor(0.), tensor(0.), tensor(0.), tensor(0.), tensor(0.), tensor(0.), tensor(0.), tensor(0.), tensor(0.), tensor(0.)]\n",
      "detokenized ['<s>', 'The', 'white', 'and', 'brown', 'dog', 'is', 'running', 'quickly', 'through', 'the', 'grass', '.', '</s>', '</s>', 'The', 'big', 'white', 'dog', 'is', 'running', 'in', 'the', 'grass', '.', '</s>']\n",
      "len conti_raw 24\n",
      "conti_raw ['<s>', 'The', 'white', 'and', 'brown', 'dog', 'is', 'running', 'quickly', 'through', 'the', 'grass.', '</s>', '</s>', 'The', 'big', 'white', 'dog', 'is', 'running', 'in', 'the', 'grass.', '</s>']\n"
     ]
    },
    {
     "data": {
      "text/html": [
       "<table width: 100%><div style=\"border-top: 1px solid; margin-top: 5px;             padding-top: 5px; display: inline-block\"><b>Legend: </b><span style=\"display: inline-block; width: 10px; height: 10px;                 border: 1px solid; background-color:                 hsl(0, 75%, 60%)\"></span> Negative  <span style=\"display: inline-block; width: 10px; height: 10px;                 border: 1px solid; background-color:                 hsl(0, 75%, 100%)\"></span> Neutral  <span style=\"display: inline-block; width: 10px; height: 10px;                 border: 1px solid; background-color:                 hsl(120, 75%, 50%)\"></span> Positive  </div><tr><th>True Label</th><th>Predicted Label</th><th>Attribution Label</th><th>Attribution Score</th><th>Word Importance</th><tr><td><text style=\"padding-right:2em\"><b>Similar</b></text></td><td><text style=\"padding-right:2em\"><b>Similar (0.77)</b></text></td><td><text style=\"padding-right:2em\"><b>Similar</b></text></td><td><text style=\"padding-right:2em\"><b>1.00</b></text></td><td><mark style=\"background-color: hsl(0, 75%, 100%); opacity:1.0;                     line-height:1.75\"><font color=\"black\"> #s                    </font></mark><mark style=\"background-color: hsl(0, 75%, 100%); opacity:1.0;                     line-height:1.75\"><font color=\"black\"> The                    </font></mark><mark style=\"background-color: hsl(0, 75%, 100%); opacity:1.0;                     line-height:1.75\"><font color=\"black\"> white                    </font></mark><mark style=\"background-color: hsl(0, 75%, 100%); opacity:1.0;                     line-height:1.75\"><font color=\"black\"> and                    </font></mark><mark style=\"background-color: hsl(120, 75%, 50%); opacity:1.0;                     line-height:1.75\"><font color=\"black\"> brown                    </font></mark><mark style=\"background-color: hsl(0, 75%, 100%); opacity:1.0;                     line-height:1.75\"><font color=\"black\"> dog                    </font></mark><mark style=\"background-color: hsl(0, 75%, 100%); opacity:1.0;                     line-height:1.75\"><font color=\"black\"> is                    </font></mark><mark style=\"background-color: hsl(0, 75%, 100%); opacity:1.0;                     line-height:1.75\"><font color=\"black\"> running                    </font></mark><mark style=\"background-color: hsl(0, 75%, 100%); opacity:1.0;                     line-height:1.75\"><font color=\"black\"> quickly                    </font></mark><mark style=\"background-color: hsl(0, 75%, 100%); opacity:1.0;                     line-height:1.75\"><font color=\"black\"> through                    </font></mark><mark style=\"background-color: hsl(0, 75%, 100%); opacity:1.0;                     line-height:1.75\"><font color=\"black\"> the                    </font></mark><mark style=\"background-color: hsl(0, 75%, 100%); opacity:1.0;                     line-height:1.75\"><font color=\"black\"> grass.                    </font></mark><mark style=\"background-color: hsl(0, 75%, 100%); opacity:1.0;                     line-height:1.75\"><font color=\"black\"> #/s                    </font></mark><mark style=\"background-color: hsl(0, 75%, 100%); opacity:1.0;                     line-height:1.75\"><font color=\"black\"> #/s                    </font></mark><mark style=\"background-color: hsl(0, 75%, 100%); opacity:1.0;                     line-height:1.75\"><font color=\"black\"> The                    </font></mark><mark style=\"background-color: hsl(0, 75%, 100%); opacity:1.0;                     line-height:1.75\"><font color=\"black\"> big                    </font></mark><mark style=\"background-color: hsl(0, 75%, 100%); opacity:1.0;                     line-height:1.75\"><font color=\"black\"> white                    </font></mark><mark style=\"background-color: hsl(0, 75%, 100%); opacity:1.0;                     line-height:1.75\"><font color=\"black\"> dog                    </font></mark><mark style=\"background-color: hsl(0, 75%, 100%); opacity:1.0;                     line-height:1.75\"><font color=\"black\"> is                    </font></mark><mark style=\"background-color: hsl(0, 75%, 100%); opacity:1.0;                     line-height:1.75\"><font color=\"black\"> running                    </font></mark><mark style=\"background-color: hsl(0, 75%, 100%); opacity:1.0;                     line-height:1.75\"><font color=\"black\"> in                    </font></mark><mark style=\"background-color: hsl(0, 75%, 100%); opacity:1.0;                     line-height:1.75\"><font color=\"black\"> the                    </font></mark><mark style=\"background-color: hsl(0, 75%, 100%); opacity:1.0;                     line-height:1.75\"><font color=\"black\"> grass.                    </font></mark><mark style=\"background-color: hsl(0, 75%, 100%); opacity:1.0;                     line-height:1.75\"><font color=\"black\"> #/s                    </font></mark></td><tr></table>"
      ],
      "text/plain": [
       "<IPython.core.display.HTML object>"
      ]
     },
     "metadata": {},
     "output_type": "display_data"
    },
    {
     "name": "stderr",
     "output_type": "stream",
     "text": [
      "/home/user/anaconda3/envs/py38/lib/python3.9/site-packages/captum/attr/_core/lime.py:1088: UserWarning: Attempting to construct interpretable model with > 10000 features.This can be very slow or lead to OOM issues. Please provide a featuremask which groups input features to reduce the number of interpretablefeatures. \n",
      "  warnings.warn(\n"
     ]
    },
    {
     "name": "stdout",
     "output_type": "stream",
     "text": [
      "<IPython.core.display.HTML object>\n",
      "i: 27\n",
      "Raw review: ['In Hinduism and Buddhism there is message of peace and an encouragement to not be materialistic.', 'This relates to the \"discovery\" of Asian, and other non-European cultures by Americans.']\n",
      "GT target: 0.0\n",
      "pred_prob 0.2106860652565956\n"
     ]
    },
    {
     "name": "stderr",
     "output_type": "stream",
     "text": [
      "Lime attribution: 100%|███████████████████████████| 3/3 [02:00<00:00, 40.16s/it]\n"
     ]
    },
    {
     "name": "stdout",
     "output_type": "stream",
     "text": [
      "attribution took 131.101985 seconds\n",
      "before zeroing tensor([[[ 0.0000e+00,  0.0000e+00,  0.0000e+00,  ...,  0.0000e+00,\n",
      "           0.0000e+00,  0.0000e+00],\n",
      "         [ 0.0000e+00,  0.0000e+00,  0.0000e+00,  ...,  0.0000e+00,\n",
      "           0.0000e+00,  0.0000e+00],\n",
      "         [ 0.0000e+00,  0.0000e+00,  0.0000e+00,  ...,  0.0000e+00,\n",
      "           0.0000e+00,  0.0000e+00],\n",
      "         ...,\n",
      "         [ 0.0000e+00,  0.0000e+00,  0.0000e+00,  ...,  0.0000e+00,\n",
      "           0.0000e+00,  0.0000e+00],\n",
      "         [ 0.0000e+00,  0.0000e+00,  0.0000e+00,  ...,  0.0000e+00,\n",
      "           0.0000e+00,  0.0000e+00],\n",
      "         [ 0.0000e+00,  0.0000e+00,  0.0000e+00,  ...,  0.0000e+00,\n",
      "          -4.4708e-05,  0.0000e+00]]])\n",
      "after zeroing tensor([[[ 0.0000e+00,  0.0000e+00,  0.0000e+00,  ...,  0.0000e+00,\n",
      "           0.0000e+00,  0.0000e+00],\n",
      "         [ 0.0000e+00,  0.0000e+00,  0.0000e+00,  ...,  0.0000e+00,\n",
      "           0.0000e+00,  0.0000e+00],\n",
      "         [ 0.0000e+00,  0.0000e+00,  0.0000e+00,  ...,  0.0000e+00,\n",
      "           0.0000e+00,  0.0000e+00],\n",
      "         ...,\n",
      "         [ 0.0000e+00,  0.0000e+00,  0.0000e+00,  ...,  0.0000e+00,\n",
      "           0.0000e+00,  0.0000e+00],\n",
      "         [ 0.0000e+00,  0.0000e+00,  0.0000e+00,  ...,  0.0000e+00,\n",
      "           0.0000e+00,  0.0000e+00],\n",
      "         [ 0.0000e+00,  0.0000e+00,  0.0000e+00,  ...,  0.0000e+00,\n",
      "          -4.4708e-05,  0.0000e+00]]])\n",
      "word attr tensor([ 0.4297, -0.0027,  0.0312, -0.0647,  0.0882,  0.4573, -0.1423, -0.0711,\n",
      "         0.0423, -0.1297,  0.2091, -0.0464,  0.2309,  0.0053, -0.0514, -0.0070,\n",
      "         0.1055,  0.1776,  0.0674,  0.0299,  0.1772, -0.0135, -0.3440,  0.1546,\n",
      "        -0.1847, -0.0764,  0.0244, -0.1608, -0.3312, -0.0223,  0.0509,  0.0463,\n",
      "         0.0479,  0.0029, -0.0361,  0.1155,  0.0235, -0.0227,  0.0428,  0.0335,\n",
      "        -0.0485,  0.1395, -0.0380])\n",
      "conti attr [tensor(0.4297), tensor(-0.0027), tensor(-0.0335), tensor(0.0882), tensor(0.4573), tensor(-0.1423), tensor(-0.0711), tensor(0.0423), tensor(-0.1297), tensor(0.2091), tensor(-0.0464), tensor(0.2309), tensor(0.0053), tensor(-0.0514), tensor(-0.0070), tensor(0.1055), tensor(0.2748), tensor(0.1772), tensor(-0.0135), tensor(-0.3440), tensor(0.1546), tensor(-0.1847), tensor(-0.0764), tensor(-0.4899), tensor(0.0509), tensor(0.0942), tensor(0.0029), tensor(-0.0361), tensor(0.1163), tensor(0.0428), tensor(0.0335), tensor(0.0911), tensor(-0.0380)]\n",
      "detokenized ['<s>', 'In', 'Hindu', 'ism', 'and', 'Buddhism', 'there', 'is', 'message', 'of', 'peace', 'and', 'an', 'encouragement', 'to', 'not', 'be', 'material', 'istic', '.', '</s>', '</s>', 'This', 'relates', 'to', 'the', '\"', 'd', 'iscovery', '\"', 'of', 'Asian', ',', 'and', 'other', 'non', '-', 'European', 'cultures', 'by', 'Americans', '.', '</s>']\n",
      "len conti_raw 33\n",
      "conti_raw ['<s>', 'In', 'Hinduism', 'and', 'Buddhism', 'there', 'is', 'message', 'of', 'peace', 'and', 'an', 'encouragement', 'to', 'not', 'be', 'materialistic.', '</s>', '</s>', 'This', 'relates', 'to', 'the', '\"discovery\"', 'of', 'Asian,', 'and', 'other', 'non-European', 'cultures', 'by', 'Americans.', '</s>']\n"
     ]
    },
    {
     "data": {
      "text/html": [
       "<table width: 100%><div style=\"border-top: 1px solid; margin-top: 5px;             padding-top: 5px; display: inline-block\"><b>Legend: </b><span style=\"display: inline-block; width: 10px; height: 10px;                 border: 1px solid; background-color:                 hsl(0, 75%, 60%)\"></span> Negative  <span style=\"display: inline-block; width: 10px; height: 10px;                 border: 1px solid; background-color:                 hsl(0, 75%, 100%)\"></span> Neutral  <span style=\"display: inline-block; width: 10px; height: 10px;                 border: 1px solid; background-color:                 hsl(120, 75%, 50%)\"></span> Positive  </div><tr><th>True Label</th><th>Predicted Label</th><th>Attribution Label</th><th>Attribution Score</th><th>Word Importance</th><tr><td><text style=\"padding-right:2em\"><b>Not Similar</b></text></td><td><text style=\"padding-right:2em\"><b>Not Similar (0.04)</b></text></td><td><text style=\"padding-right:2em\"><b>Similar</b></text></td><td><text style=\"padding-right:2em\"><b>0.94</b></text></td><td><mark style=\"background-color: hsl(120, 75%, 79%); opacity:1.0;                     line-height:1.75\"><font color=\"black\"> #s                    </font></mark><mark style=\"background-color: hsl(0, 75%, 100%); opacity:1.0;                     line-height:1.75\"><font color=\"black\"> In                    </font></mark><mark style=\"background-color: hsl(0, 75%, 99%); opacity:1.0;                     line-height:1.75\"><font color=\"black\"> Hinduism                    </font></mark><mark style=\"background-color: hsl(120, 75%, 96%); opacity:1.0;                     line-height:1.75\"><font color=\"black\"> and                    </font></mark><mark style=\"background-color: hsl(120, 75%, 78%); opacity:1.0;                     line-height:1.75\"><font color=\"black\"> Buddhism                    </font></mark><mark style=\"background-color: hsl(0, 75%, 95%); opacity:1.0;                     line-height:1.75\"><font color=\"black\"> there                    </font></mark><mark style=\"background-color: hsl(0, 75%, 98%); opacity:1.0;                     line-height:1.75\"><font color=\"black\"> is                    </font></mark><mark style=\"background-color: hsl(120, 75%, 98%); opacity:1.0;                     line-height:1.75\"><font color=\"black\"> message                    </font></mark><mark style=\"background-color: hsl(0, 75%, 95%); opacity:1.0;                     line-height:1.75\"><font color=\"black\"> of                    </font></mark><mark style=\"background-color: hsl(120, 75%, 90%); opacity:1.0;                     line-height:1.75\"><font color=\"black\"> peace                    </font></mark><mark style=\"background-color: hsl(0, 75%, 99%); opacity:1.0;                     line-height:1.75\"><font color=\"black\"> and                    </font></mark><mark style=\"background-color: hsl(120, 75%, 89%); opacity:1.0;                     line-height:1.75\"><font color=\"black\"> an                    </font></mark><mark style=\"background-color: hsl(120, 75%, 100%); opacity:1.0;                     line-height:1.75\"><font color=\"black\"> encouragement                    </font></mark><mark style=\"background-color: hsl(0, 75%, 98%); opacity:1.0;                     line-height:1.75\"><font color=\"black\"> to                    </font></mark><mark style=\"background-color: hsl(0, 75%, 100%); opacity:1.0;                     line-height:1.75\"><font color=\"black\"> not                    </font></mark><mark style=\"background-color: hsl(120, 75%, 95%); opacity:1.0;                     line-height:1.75\"><font color=\"black\"> be                    </font></mark><mark style=\"background-color: hsl(120, 75%, 87%); opacity:1.0;                     line-height:1.75\"><font color=\"black\"> materialistic.                    </font></mark><mark style=\"background-color: hsl(120, 75%, 92%); opacity:1.0;                     line-height:1.75\"><font color=\"black\"> #/s                    </font></mark><mark style=\"background-color: hsl(0, 75%, 100%); opacity:1.0;                     line-height:1.75\"><font color=\"black\"> #/s                    </font></mark><mark style=\"background-color: hsl(0, 75%, 87%); opacity:1.0;                     line-height:1.75\"><font color=\"black\"> This                    </font></mark><mark style=\"background-color: hsl(120, 75%, 93%); opacity:1.0;                     line-height:1.75\"><font color=\"black\"> relates                    </font></mark><mark style=\"background-color: hsl(0, 75%, 93%); opacity:1.0;                     line-height:1.75\"><font color=\"black\"> to                    </font></mark><mark style=\"background-color: hsl(0, 75%, 97%); opacity:1.0;                     line-height:1.75\"><font color=\"black\"> the                    </font></mark><mark style=\"background-color: hsl(0, 75%, 81%); opacity:1.0;                     line-height:1.75\"><font color=\"black\"> \"discovery\"                    </font></mark><mark style=\"background-color: hsl(120, 75%, 98%); opacity:1.0;                     line-height:1.75\"><font color=\"black\"> of                    </font></mark><mark style=\"background-color: hsl(120, 75%, 96%); opacity:1.0;                     line-height:1.75\"><font color=\"black\"> Asian,                    </font></mark><mark style=\"background-color: hsl(120, 75%, 100%); opacity:1.0;                     line-height:1.75\"><font color=\"black\"> and                    </font></mark><mark style=\"background-color: hsl(0, 75%, 99%); opacity:1.0;                     line-height:1.75\"><font color=\"black\"> other                    </font></mark><mark style=\"background-color: hsl(120, 75%, 95%); opacity:1.0;                     line-height:1.75\"><font color=\"black\"> non-European                    </font></mark><mark style=\"background-color: hsl(120, 75%, 98%); opacity:1.0;                     line-height:1.75\"><font color=\"black\"> cultures                    </font></mark><mark style=\"background-color: hsl(120, 75%, 99%); opacity:1.0;                     line-height:1.75\"><font color=\"black\"> by                    </font></mark><mark style=\"background-color: hsl(120, 75%, 96%); opacity:1.0;                     line-height:1.75\"><font color=\"black\"> Americans.                    </font></mark><mark style=\"background-color: hsl(0, 75%, 99%); opacity:1.0;                     line-height:1.75\"><font color=\"black\"> #/s                    </font></mark></td><tr></table>"
      ],
      "text/plain": [
       "<IPython.core.display.HTML object>"
      ]
     },
     "metadata": {},
     "output_type": "display_data"
    },
    {
     "name": "stderr",
     "output_type": "stream",
     "text": [
      "/home/user/anaconda3/envs/py38/lib/python3.9/site-packages/captum/attr/_core/lime.py:1088: UserWarning: Attempting to construct interpretable model with > 10000 features.This can be very slow or lead to OOM issues. Please provide a featuremask which groups input features to reduce the number of interpretablefeatures. \n",
      "  warnings.warn(\n"
     ]
    },
    {
     "name": "stdout",
     "output_type": "stream",
     "text": [
      "<IPython.core.display.HTML object>\n",
      "i: 28\n",
      "Raw review: ['To play golf, the first thing you need is a set of clubs.', 'Having fairly recently taken up the sport myself, I feel your discomfort.']\n",
      "GT target: 1.2000000476837158\n",
      "pred_prob 0.7371227443218231\n"
     ]
    },
    {
     "name": "stderr",
     "output_type": "stream",
     "text": [
      "Lime attribution: 100%|███████████████████████████| 3/3 [01:29<00:00, 29.86s/it]\n"
     ]
    },
    {
     "name": "stdout",
     "output_type": "stream",
     "text": [
      "attribution took 97.043090 seconds\n",
      "before zeroing tensor([[[0.0000, 0.0006, 0.0000,  ..., 0.0000, 0.0000, 0.0000],\n",
      "         [0.0000, 0.0000, 0.0000,  ..., 0.0000, 0.0000, 0.0000],\n",
      "         [0.0000, 0.0000, 0.0000,  ..., 0.0000, 0.0000, 0.0000],\n",
      "         ...,\n",
      "         [0.0000, 0.0000, 0.0000,  ..., 0.0000, 0.0000, 0.0000],\n",
      "         [0.0000, 0.0000, 0.0000,  ..., 0.0000, 0.0000, 0.0000],\n",
      "         [0.0000, 0.0000, 0.0000,  ..., 0.0000, 0.0000, 0.0000]]])\n",
      "after zeroing tensor([[[0.0000, 0.0006, 0.0000,  ..., 0.0000, 0.0000, 0.0000],\n",
      "         [0.0000, 0.0000, 0.0000,  ..., 0.0000, 0.0000, 0.0000],\n",
      "         [0.0000, 0.0000, 0.0000,  ..., 0.0000, 0.0000, 0.0000],\n",
      "         ...,\n",
      "         [0.0000, 0.0000, 0.0000,  ..., 0.0000, 0.0000, 0.0000],\n",
      "         [0.0000, 0.0000, 0.0000,  ..., 0.0000, 0.0000, 0.0000],\n",
      "         [0.0000, 0.0000, 0.0000,  ..., 0.0000, 0.0000, 0.0000]]])\n",
      "word attr tensor([-0.0352, -0.1043, -0.0368,  0.0477, -0.0160, -0.0760,  0.0514,  0.0471,\n",
      "        -0.1396, -0.0527,  0.0107,  0.0733, -0.0434,  0.1274,  0.8634, -0.1471,\n",
      "         0.0944, -0.1277, -0.0251,  0.0099,  0.1381,  0.1306, -0.0744, -0.0548,\n",
      "         0.0214, -0.2824,  0.0126, -0.0471,  0.0349,  0.0230,  0.0141, -0.0507,\n",
      "        -0.0528])\n",
      "conti attr [tensor(-0.0352), tensor(-0.1043), tensor(-0.0368), tensor(0.0317), tensor(-0.0760), tensor(0.0514), tensor(0.0471), tensor(-0.1396), tensor(-0.0527), tensor(0.0107), tensor(0.0733), tensor(-0.0434), tensor(0.1274), tensor(0.7163), tensor(0.0944), tensor(-0.1277), tensor(-0.0251), tensor(0.0099), tensor(0.1381), tensor(0.1306), tensor(-0.0744), tensor(-0.0548), tensor(0.0214), tensor(-0.2697), tensor(-0.0471), tensor(0.0349), tensor(0.0230), tensor(-0.0366), tensor(-0.0528)]\n",
      "detokenized ['<s>', 'To', 'play', 'golf', ',', 'the', 'first', 'thing', 'you', 'need', 'is', 'a', 'set', 'of', 'clubs', '.', '</s>', '</s>', 'Having', 'fairly', 'recently', 'taken', 'up', 'the', 'sport', 'myself', ',', 'I', 'feel', 'your', 'discomfort', '.', '</s>']\n",
      "len conti_raw 29\n",
      "conti_raw ['<s>', 'To', 'play', 'golf,', 'the', 'first', 'thing', 'you', 'need', 'is', 'a', 'set', 'of', 'clubs.', '</s>', '</s>', 'Having', 'fairly', 'recently', 'taken', 'up', 'the', 'sport', 'myself,', 'I', 'feel', 'your', 'discomfort.', '</s>']\n"
     ]
    },
    {
     "data": {
      "text/html": [
       "<table width: 100%><div style=\"border-top: 1px solid; margin-top: 5px;             padding-top: 5px; display: inline-block\"><b>Legend: </b><span style=\"display: inline-block; width: 10px; height: 10px;                 border: 1px solid; background-color:                 hsl(0, 75%, 60%)\"></span> Negative  <span style=\"display: inline-block; width: 10px; height: 10px;                 border: 1px solid; background-color:                 hsl(0, 75%, 100%)\"></span> Neutral  <span style=\"display: inline-block; width: 10px; height: 10px;                 border: 1px solid; background-color:                 hsl(120, 75%, 50%)\"></span> Positive  </div><tr><th>True Label</th><th>Predicted Label</th><th>Attribution Label</th><th>Attribution Score</th><th>Word Importance</th><tr><td><text style=\"padding-right:2em\"><b>Not Similar</b></text></td><td><text style=\"padding-right:2em\"><b>Not Similar (0.15)</b></text></td><td><text style=\"padding-right:2em\"><b>Not Similar</b></text></td><td><text style=\"padding-right:2em\"><b>0.33</b></text></td><td><mark style=\"background-color: hsl(0, 75%, 99%); opacity:1.0;                     line-height:1.75\"><font color=\"black\"> #s                    </font></mark><mark style=\"background-color: hsl(0, 75%, 96%); opacity:1.0;                     line-height:1.75\"><font color=\"black\"> To                    </font></mark><mark style=\"background-color: hsl(0, 75%, 99%); opacity:1.0;                     line-height:1.75\"><font color=\"black\"> play                    </font></mark><mark style=\"background-color: hsl(120, 75%, 99%); opacity:1.0;                     line-height:1.75\"><font color=\"black\"> golf,                    </font></mark><mark style=\"background-color: hsl(0, 75%, 97%); opacity:1.0;                     line-height:1.75\"><font color=\"black\"> the                    </font></mark><mark style=\"background-color: hsl(120, 75%, 98%); opacity:1.0;                     line-height:1.75\"><font color=\"black\"> first                    </font></mark><mark style=\"background-color: hsl(120, 75%, 98%); opacity:1.0;                     line-height:1.75\"><font color=\"black\"> thing                    </font></mark><mark style=\"background-color: hsl(0, 75%, 95%); opacity:1.0;                     line-height:1.75\"><font color=\"black\"> you                    </font></mark><mark style=\"background-color: hsl(0, 75%, 98%); opacity:1.0;                     line-height:1.75\"><font color=\"black\"> need                    </font></mark><mark style=\"background-color: hsl(120, 75%, 100%); opacity:1.0;                     line-height:1.75\"><font color=\"black\"> is                    </font></mark><mark style=\"background-color: hsl(120, 75%, 97%); opacity:1.0;                     line-height:1.75\"><font color=\"black\"> a                    </font></mark><mark style=\"background-color: hsl(0, 75%, 99%); opacity:1.0;                     line-height:1.75\"><font color=\"black\"> set                    </font></mark><mark style=\"background-color: hsl(120, 75%, 94%); opacity:1.0;                     line-height:1.75\"><font color=\"black\"> of                    </font></mark><mark style=\"background-color: hsl(120, 75%, 65%); opacity:1.0;                     line-height:1.75\"><font color=\"black\"> clubs.                    </font></mark><mark style=\"background-color: hsl(120, 75%, 96%); opacity:1.0;                     line-height:1.75\"><font color=\"black\"> #/s                    </font></mark><mark style=\"background-color: hsl(0, 75%, 95%); opacity:1.0;                     line-height:1.75\"><font color=\"black\"> #/s                    </font></mark><mark style=\"background-color: hsl(0, 75%, 99%); opacity:1.0;                     line-height:1.75\"><font color=\"black\"> Having                    </font></mark><mark style=\"background-color: hsl(120, 75%, 100%); opacity:1.0;                     line-height:1.75\"><font color=\"black\"> fairly                    </font></mark><mark style=\"background-color: hsl(120, 75%, 94%); opacity:1.0;                     line-height:1.75\"><font color=\"black\"> recently                    </font></mark><mark style=\"background-color: hsl(120, 75%, 94%); opacity:1.0;                     line-height:1.75\"><font color=\"black\"> taken                    </font></mark><mark style=\"background-color: hsl(0, 75%, 98%); opacity:1.0;                     line-height:1.75\"><font color=\"black\"> up                    </font></mark><mark style=\"background-color: hsl(0, 75%, 98%); opacity:1.0;                     line-height:1.75\"><font color=\"black\"> the                    </font></mark><mark style=\"background-color: hsl(120, 75%, 99%); opacity:1.0;                     line-height:1.75\"><font color=\"black\"> sport                    </font></mark><mark style=\"background-color: hsl(0, 75%, 90%); opacity:1.0;                     line-height:1.75\"><font color=\"black\"> myself,                    </font></mark><mark style=\"background-color: hsl(0, 75%, 99%); opacity:1.0;                     line-height:1.75\"><font color=\"black\"> I                    </font></mark><mark style=\"background-color: hsl(120, 75%, 99%); opacity:1.0;                     line-height:1.75\"><font color=\"black\"> feel                    </font></mark><mark style=\"background-color: hsl(120, 75%, 99%); opacity:1.0;                     line-height:1.75\"><font color=\"black\"> your                    </font></mark><mark style=\"background-color: hsl(0, 75%, 99%); opacity:1.0;                     line-height:1.75\"><font color=\"black\"> discomfort.                    </font></mark><mark style=\"background-color: hsl(0, 75%, 98%); opacity:1.0;                     line-height:1.75\"><font color=\"black\"> #/s                    </font></mark></td><tr></table>"
      ],
      "text/plain": [
       "<IPython.core.display.HTML object>"
      ]
     },
     "metadata": {},
     "output_type": "display_data"
    },
    {
     "name": "stderr",
     "output_type": "stream",
     "text": [
      "/home/user/anaconda3/envs/py38/lib/python3.9/site-packages/captum/attr/_core/lime.py:1088: UserWarning: Attempting to construct interpretable model with > 10000 features.This can be very slow or lead to OOM issues. Please provide a featuremask which groups input features to reduce the number of interpretablefeatures. \n",
      "  warnings.warn(\n"
     ]
    },
    {
     "name": "stdout",
     "output_type": "stream",
     "text": [
      "<IPython.core.display.HTML object>\n",
      "i: 29\n",
      "Raw review: ['The companies, Chiron and Aventis Pasteur, together made about 80 million doses of the injected vaccine, which ordinarily would have been enough to meet U.S. demand.', 'Chiron and Aventis Pasteur together made about 80 million doses, ordinarily enough for U.S. demand, The Associated Press reported.']\n",
      "GT target: 4.400000095367432\n",
      "pred_prob 3.635355532169342\n"
     ]
    },
    {
     "name": "stderr",
     "output_type": "stream",
     "text": [
      "Lime attribution: 100%|███████████████████████████| 3/3 [03:09<00:00, 63.27s/it]\n"
     ]
    },
    {
     "name": "stdout",
     "output_type": "stream",
     "text": [
      "attribution took 205.874143 seconds\n",
      "before zeroing tensor([[[0., 0., 0.,  ..., 0., 0., 0.],\n",
      "         [0., 0., 0.,  ..., 0., 0., 0.],\n",
      "         [0., 0., 0.,  ..., 0., 0., 0.],\n",
      "         ...,\n",
      "         [0., 0., 0.,  ..., 0., 0., 0.],\n",
      "         [0., 0., 0.,  ..., 0., 0., 0.],\n",
      "         [0., 0., 0.,  ..., 0., 0., 0.]]])\n",
      "after zeroing tensor([[[0., 0., 0.,  ..., 0., 0., 0.],\n",
      "         [0., 0., 0.,  ..., 0., 0., 0.],\n",
      "         [0., 0., 0.,  ..., 0., 0., 0.],\n",
      "         ...,\n",
      "         [0., 0., 0.,  ..., 0., 0., 0.],\n",
      "         [0., 0., 0.,  ..., 0., 0., 0.],\n",
      "         [0., 0., 0.,  ..., 0., 0., 0.]]])\n",
      "word attr tensor([ 0.0000e+00,  0.0000e+00,  0.0000e+00, -5.5756e-02, -8.0879e-02,\n",
      "         5.4421e-02,  0.0000e+00,  0.0000e+00, -2.6361e-01,  0.0000e+00,\n",
      "         1.6788e-01,  4.4878e-02,  0.0000e+00,  4.0847e-02,  1.9533e-01,\n",
      "        -2.6669e-02, -1.7219e-02,  4.5197e-02,  0.0000e+00,  1.1515e-02,\n",
      "         5.9439e-02,  3.5249e-02,  8.2269e-01,  0.0000e+00,  4.4957e-02,\n",
      "         0.0000e+00,  0.0000e+00,  0.0000e+00,  4.2320e-02,  0.0000e+00,\n",
      "        -1.4862e-03, -1.6507e-01,  8.1735e-03,  0.0000e+00, -6.7342e-03,\n",
      "         0.0000e+00, -3.8234e-02,  0.0000e+00,  0.0000e+00, -1.6749e-01,\n",
      "         0.0000e+00,  0.0000e+00, -1.0775e-01,  0.0000e+00,  6.9076e-03,\n",
      "         3.3721e-02, -1.3732e-02,  8.9843e-02,  0.0000e+00,  0.0000e+00,\n",
      "         0.0000e+00,  0.0000e+00,  0.0000e+00,  1.1291e-01,  0.0000e+00,\n",
      "        -1.1230e-01,  4.0167e-04,  1.7869e-01,  0.0000e+00,  1.9760e-02,\n",
      "         0.0000e+00,  0.0000e+00, -4.9637e-02,  0.0000e+00, -1.0177e-03,\n",
      "         5.6808e-02, -3.0069e-02, -5.0765e-03,  0.0000e+00, -1.3059e-01])\n",
      "conti attr [tensor(0.), tensor(0.), tensor(-0.0558), tensor(-0.0265), tensor(0.), tensor(-0.2636), tensor(0.2128), tensor(0.0408), tensor(0.1953), tensor(-0.0267), tensor(-0.0172), tensor(0.0452), tensor(0.), tensor(0.0115), tensor(0.0594), tensor(0.0352), tensor(0.8227), tensor(0.0450), tensor(0.), tensor(0.), tensor(0.), tensor(0.0423), tensor(0.), tensor(-0.0015), tensor(-0.1651), tensor(0.0014), tensor(-0.0382), tensor(0.), tensor(-0.1675), tensor(0.), tensor(-0.1078), tensor(0.0406), tensor(0.0761), tensor(0.), tensor(0.), tensor(0.), tensor(0.), tensor(0.), tensor(0.1129), tensor(-0.1123), tensor(0.0004), tensor(0.1787), tensor(0.0198), tensor(-0.0496), tensor(-0.0010), tensor(0.0568), tensor(-0.0301), tensor(-0.0051), tensor(-0.1306)]\n",
      "detokenized ['<s>', 'The', 'companies', ',', 'Ch', 'iron', 'and', 'A', 'vent', 'is', 'Paste', 'ur', ',', 'together', 'made', 'about', '80', 'million', 'doses', 'of', 'the', 'injected', 'vaccine', ',', 'which', 'ordinarily', 'would', 'have', 'been', 'enough', 'to', 'meet', 'U', '.', 'S', '.', 'demand', '.', '</s>', '</s>', 'Ch', 'iron', 'and', 'A', 'vent', 'is', 'Paste', 'ur', 'together', 'made', 'about', '80', 'million', 'doses', ',', 'ordinarily', 'enough', 'for', 'U', '.', 'S', '.', 'demand', ',', 'The', 'Associated', 'Press', 'reported', '.', '</s>']\n",
      "len conti_raw 49\n",
      "conti_raw ['<s>', 'The', 'companies,', 'Chiron', 'and', 'Aventis', 'Pasteur,', 'together', 'made', 'about', '80', 'million', 'doses', 'of', 'the', 'injected', 'vaccine,', 'which', 'ordinarily', 'would', 'have', 'been', 'enough', 'to', 'meet', 'U.S.', 'demand.', '</s>', '</s>', 'Chiron', 'and', 'Aventis', 'Pasteur', 'together', 'made', 'about', '80', 'million', 'doses,', 'ordinarily', 'enough', 'for', 'U.S.', 'demand,', 'The', 'Associated', 'Press', 'reported.', '</s>']\n"
     ]
    },
    {
     "data": {
      "text/html": [
       "<table width: 100%><div style=\"border-top: 1px solid; margin-top: 5px;             padding-top: 5px; display: inline-block\"><b>Legend: </b><span style=\"display: inline-block; width: 10px; height: 10px;                 border: 1px solid; background-color:                 hsl(0, 75%, 60%)\"></span> Negative  <span style=\"display: inline-block; width: 10px; height: 10px;                 border: 1px solid; background-color:                 hsl(0, 75%, 100%)\"></span> Neutral  <span style=\"display: inline-block; width: 10px; height: 10px;                 border: 1px solid; background-color:                 hsl(120, 75%, 50%)\"></span> Positive  </div><tr><th>True Label</th><th>Predicted Label</th><th>Attribution Label</th><th>Attribution Score</th><th>Word Importance</th><tr><td><text style=\"padding-right:2em\"><b>Similar</b></text></td><td><text style=\"padding-right:2em\"><b>Similar (0.73)</b></text></td><td><text style=\"padding-right:2em\"><b>Similar</b></text></td><td><text style=\"padding-right:2em\"><b>0.80</b></text></td><td><mark style=\"background-color: hsl(0, 75%, 100%); opacity:1.0;                     line-height:1.75\"><font color=\"black\"> #s                    </font></mark><mark style=\"background-color: hsl(0, 75%, 100%); opacity:1.0;                     line-height:1.75\"><font color=\"black\"> The                    </font></mark><mark style=\"background-color: hsl(0, 75%, 98%); opacity:1.0;                     line-height:1.75\"><font color=\"black\"> companies,                    </font></mark><mark style=\"background-color: hsl(0, 75%, 99%); opacity:1.0;                     line-height:1.75\"><font color=\"black\"> Chiron                    </font></mark><mark style=\"background-color: hsl(0, 75%, 100%); opacity:1.0;                     line-height:1.75\"><font color=\"black\"> and                    </font></mark><mark style=\"background-color: hsl(0, 75%, 90%); opacity:1.0;                     line-height:1.75\"><font color=\"black\"> Aventis                    </font></mark><mark style=\"background-color: hsl(120, 75%, 90%); opacity:1.0;                     line-height:1.75\"><font color=\"black\"> Pasteur,                    </font></mark><mark style=\"background-color: hsl(120, 75%, 98%); opacity:1.0;                     line-height:1.75\"><font color=\"black\"> together                    </font></mark><mark style=\"background-color: hsl(120, 75%, 91%); opacity:1.0;                     line-height:1.75\"><font color=\"black\"> made                    </font></mark><mark style=\"background-color: hsl(0, 75%, 99%); opacity:1.0;                     line-height:1.75\"><font color=\"black\"> about                    </font></mark><mark style=\"background-color: hsl(0, 75%, 100%); opacity:1.0;                     line-height:1.75\"><font color=\"black\"> 80                    </font></mark><mark style=\"background-color: hsl(120, 75%, 98%); opacity:1.0;                     line-height:1.75\"><font color=\"black\"> million                    </font></mark><mark style=\"background-color: hsl(0, 75%, 100%); opacity:1.0;                     line-height:1.75\"><font color=\"black\"> doses                    </font></mark><mark style=\"background-color: hsl(120, 75%, 100%); opacity:1.0;                     line-height:1.75\"><font color=\"black\"> of                    </font></mark><mark style=\"background-color: hsl(120, 75%, 98%); opacity:1.0;                     line-height:1.75\"><font color=\"black\"> the                    </font></mark><mark style=\"background-color: hsl(120, 75%, 99%); opacity:1.0;                     line-height:1.75\"><font color=\"black\"> injected                    </font></mark><mark style=\"background-color: hsl(120, 75%, 59%); opacity:1.0;                     line-height:1.75\"><font color=\"black\"> vaccine,                    </font></mark><mark style=\"background-color: hsl(120, 75%, 98%); opacity:1.0;                     line-height:1.75\"><font color=\"black\"> which                    </font></mark><mark style=\"background-color: hsl(0, 75%, 100%); opacity:1.0;                     line-height:1.75\"><font color=\"black\"> ordinarily                    </font></mark><mark style=\"background-color: hsl(0, 75%, 100%); opacity:1.0;                     line-height:1.75\"><font color=\"black\"> would                    </font></mark><mark style=\"background-color: hsl(0, 75%, 100%); opacity:1.0;                     line-height:1.75\"><font color=\"black\"> have                    </font></mark><mark style=\"background-color: hsl(120, 75%, 98%); opacity:1.0;                     line-height:1.75\"><font color=\"black\"> been                    </font></mark><mark style=\"background-color: hsl(0, 75%, 100%); opacity:1.0;                     line-height:1.75\"><font color=\"black\"> enough                    </font></mark><mark style=\"background-color: hsl(0, 75%, 100%); opacity:1.0;                     line-height:1.75\"><font color=\"black\"> to                    </font></mark><mark style=\"background-color: hsl(0, 75%, 94%); opacity:1.0;                     line-height:1.75\"><font color=\"black\"> meet                    </font></mark><mark style=\"background-color: hsl(120, 75%, 100%); opacity:1.0;                     line-height:1.75\"><font color=\"black\"> U.S.                    </font></mark><mark style=\"background-color: hsl(0, 75%, 99%); opacity:1.0;                     line-height:1.75\"><font color=\"black\"> demand.                    </font></mark><mark style=\"background-color: hsl(0, 75%, 100%); opacity:1.0;                     line-height:1.75\"><font color=\"black\"> #/s                    </font></mark><mark style=\"background-color: hsl(0, 75%, 94%); opacity:1.0;                     line-height:1.75\"><font color=\"black\"> #/s                    </font></mark><mark style=\"background-color: hsl(0, 75%, 100%); opacity:1.0;                     line-height:1.75\"><font color=\"black\"> Chiron                    </font></mark><mark style=\"background-color: hsl(0, 75%, 96%); opacity:1.0;                     line-height:1.75\"><font color=\"black\"> and                    </font></mark><mark style=\"background-color: hsl(120, 75%, 98%); opacity:1.0;                     line-height:1.75\"><font color=\"black\"> Aventis                    </font></mark><mark style=\"background-color: hsl(120, 75%, 97%); opacity:1.0;                     line-height:1.75\"><font color=\"black\"> Pasteur                    </font></mark><mark style=\"background-color: hsl(0, 75%, 100%); opacity:1.0;                     line-height:1.75\"><font color=\"black\"> together                    </font></mark><mark style=\"background-color: hsl(0, 75%, 100%); opacity:1.0;                     line-height:1.75\"><font color=\"black\"> made                    </font></mark><mark style=\"background-color: hsl(0, 75%, 100%); opacity:1.0;                     line-height:1.75\"><font color=\"black\"> about                    </font></mark><mark style=\"background-color: hsl(0, 75%, 100%); opacity:1.0;                     line-height:1.75\"><font color=\"black\"> 80                    </font></mark><mark style=\"background-color: hsl(0, 75%, 100%); opacity:1.0;                     line-height:1.75\"><font color=\"black\"> million                    </font></mark><mark style=\"background-color: hsl(120, 75%, 95%); opacity:1.0;                     line-height:1.75\"><font color=\"black\"> doses,                    </font></mark><mark style=\"background-color: hsl(0, 75%, 96%); opacity:1.0;                     line-height:1.75\"><font color=\"black\"> ordinarily                    </font></mark><mark style=\"background-color: hsl(120, 75%, 100%); opacity:1.0;                     line-height:1.75\"><font color=\"black\"> enough                    </font></mark><mark style=\"background-color: hsl(120, 75%, 92%); opacity:1.0;                     line-height:1.75\"><font color=\"black\"> for                    </font></mark><mark style=\"background-color: hsl(120, 75%, 100%); opacity:1.0;                     line-height:1.75\"><font color=\"black\"> U.S.                    </font></mark><mark style=\"background-color: hsl(0, 75%, 99%); opacity:1.0;                     line-height:1.75\"><font color=\"black\"> demand,                    </font></mark><mark style=\"background-color: hsl(0, 75%, 100%); opacity:1.0;                     line-height:1.75\"><font color=\"black\"> The                    </font></mark><mark style=\"background-color: hsl(120, 75%, 98%); opacity:1.0;                     line-height:1.75\"><font color=\"black\"> Associated                    </font></mark><mark style=\"background-color: hsl(0, 75%, 99%); opacity:1.0;                     line-height:1.75\"><font color=\"black\"> Press                    </font></mark><mark style=\"background-color: hsl(0, 75%, 100%); opacity:1.0;                     line-height:1.75\"><font color=\"black\"> reported.                    </font></mark><mark style=\"background-color: hsl(0, 75%, 95%); opacity:1.0;                     line-height:1.75\"><font color=\"black\"> #/s                    </font></mark></td><tr></table>"
      ],
      "text/plain": [
       "<IPython.core.display.HTML object>"
      ]
     },
     "metadata": {},
     "output_type": "display_data"
    },
    {
     "name": "stderr",
     "output_type": "stream",
     "text": [
      "/home/user/anaconda3/envs/py38/lib/python3.9/site-packages/captum/attr/_core/lime.py:1088: UserWarning: Attempting to construct interpretable model with > 10000 features.This can be very slow or lead to OOM issues. Please provide a featuremask which groups input features to reduce the number of interpretablefeatures. \n",
      "  warnings.warn(\n"
     ]
    },
    {
     "name": "stdout",
     "output_type": "stream",
     "text": [
      "<IPython.core.display.HTML object>\n",
      "i: 30\n",
      "Raw review: ['A woman jumps and poses for the camera.', 'A woman poses for the camera.']\n",
      "GT target: 4.0\n",
      "pred_prob 3.580184280872345\n"
     ]
    },
    {
     "name": "stderr",
     "output_type": "stream",
     "text": [
      "Lime attribution: 100%|███████████████████████████| 3/3 [00:45<00:00, 15.24s/it]\n"
     ]
    },
    {
     "name": "stdout",
     "output_type": "stream",
     "text": [
      "attribution took 50.648199 seconds\n",
      "before zeroing tensor([[[ 0.0000,  0.0000,  0.0000,  ...,  0.0000,  0.0000,  0.0001],\n",
      "         [ 0.0000,  0.0000,  0.0000,  ...,  0.0000,  0.0000,  0.0000],\n",
      "         [ 0.0000,  0.0000,  0.0000,  ...,  0.0000,  0.0000,  0.0000],\n",
      "         ...,\n",
      "         [ 0.0000, -0.0004, -0.0019,  ...,  0.0000,  0.0000, -0.0008],\n",
      "         [ 0.0000,  0.0000,  0.0000,  ...,  0.0000,  0.0000,  0.0000],\n",
      "         [ 0.0000,  0.0000,  0.0000,  ...,  0.0000,  0.0000,  0.0000]]])\n",
      "after zeroing tensor([[[ 0.0000,  0.0000,  0.0000,  ...,  0.0000,  0.0000,  0.0001],\n",
      "         [ 0.0000,  0.0000,  0.0000,  ...,  0.0000,  0.0000,  0.0000],\n",
      "         [ 0.0000,  0.0000,  0.0000,  ...,  0.0000,  0.0000,  0.0000],\n",
      "         ...,\n",
      "         [ 0.0000, -0.0004, -0.0019,  ...,  0.0000,  0.0000, -0.0008],\n",
      "         [ 0.0000,  0.0000,  0.0000,  ...,  0.0000,  0.0000,  0.0000],\n",
      "         [ 0.0000,  0.0000,  0.0000,  ...,  0.0000,  0.0000,  0.0000]]])\n",
      "word attr tensor([-0.0183,  0.0491,  0.0172, -0.9674,  0.0307, -0.0021, -0.0143,  0.0060,\n",
      "        -0.0484, -0.1097, -0.0643,  0.0711, -0.0777, -0.0287, -0.1288,  0.0136,\n",
      "        -0.0693, -0.0192,  0.0511, -0.0695])\n",
      "conti attr [tensor(-0.0183), tensor(0.0491), tensor(0.0172), tensor(-0.9674), tensor(0.0307), tensor(-0.0021), tensor(-0.0143), tensor(0.0060), tensor(-0.1581), tensor(-0.0643), tensor(0.0711), tensor(-0.0777), tensor(-0.0287), tensor(-0.1288), tensor(0.0136), tensor(-0.0693), tensor(0.0319), tensor(-0.0695)]\n",
      "detokenized ['<s>', 'A', 'woman', 'jumps', 'and', 'poses', 'for', 'the', 'camera', '.', '</s>', '</s>', 'A', 'woman', 'poses', 'for', 'the', 'camera', '.', '</s>']\n",
      "len conti_raw 18\n",
      "conti_raw ['<s>', 'A', 'woman', 'jumps', 'and', 'poses', 'for', 'the', 'camera.', '</s>', '</s>', 'A', 'woman', 'poses', 'for', 'the', 'camera.', '</s>']\n"
     ]
    },
    {
     "data": {
      "text/html": [
       "<table width: 100%><div style=\"border-top: 1px solid; margin-top: 5px;             padding-top: 5px; display: inline-block\"><b>Legend: </b><span style=\"display: inline-block; width: 10px; height: 10px;                 border: 1px solid; background-color:                 hsl(0, 75%, 60%)\"></span> Negative  <span style=\"display: inline-block; width: 10px; height: 10px;                 border: 1px solid; background-color:                 hsl(0, 75%, 100%)\"></span> Neutral  <span style=\"display: inline-block; width: 10px; height: 10px;                 border: 1px solid; background-color:                 hsl(120, 75%, 50%)\"></span> Positive  </div><tr><th>True Label</th><th>Predicted Label</th><th>Attribution Label</th><th>Attribution Score</th><th>Word Importance</th><tr><td><text style=\"padding-right:2em\"><b>Similar</b></text></td><td><text style=\"padding-right:2em\"><b>Similar (0.72)</b></text></td><td><text style=\"padding-right:2em\"><b>Not Similar</b></text></td><td><text style=\"padding-right:2em\"><b>-1.38</b></text></td><td><mark style=\"background-color: hsl(0, 75%, 100%); opacity:1.0;                     line-height:1.75\"><font color=\"black\"> #s                    </font></mark><mark style=\"background-color: hsl(120, 75%, 98%); opacity:1.0;                     line-height:1.75\"><font color=\"black\"> A                    </font></mark><mark style=\"background-color: hsl(120, 75%, 100%); opacity:1.0;                     line-height:1.75\"><font color=\"black\"> woman                    </font></mark><mark style=\"background-color: hsl(0, 75%, 62%); opacity:1.0;                     line-height:1.75\"><font color=\"black\"> jumps                    </font></mark><mark style=\"background-color: hsl(120, 75%, 99%); opacity:1.0;                     line-height:1.75\"><font color=\"black\"> and                    </font></mark><mark style=\"background-color: hsl(0, 75%, 100%); opacity:1.0;                     line-height:1.75\"><font color=\"black\"> poses                    </font></mark><mark style=\"background-color: hsl(0, 75%, 100%); opacity:1.0;                     line-height:1.75\"><font color=\"black\"> for                    </font></mark><mark style=\"background-color: hsl(120, 75%, 100%); opacity:1.0;                     line-height:1.75\"><font color=\"black\"> the                    </font></mark><mark style=\"background-color: hsl(0, 75%, 94%); opacity:1.0;                     line-height:1.75\"><font color=\"black\"> camera.                    </font></mark><mark style=\"background-color: hsl(0, 75%, 98%); opacity:1.0;                     line-height:1.75\"><font color=\"black\"> #/s                    </font></mark><mark style=\"background-color: hsl(120, 75%, 97%); opacity:1.0;                     line-height:1.75\"><font color=\"black\"> #/s                    </font></mark><mark style=\"background-color: hsl(0, 75%, 97%); opacity:1.0;                     line-height:1.75\"><font color=\"black\"> A                    </font></mark><mark style=\"background-color: hsl(0, 75%, 99%); opacity:1.0;                     line-height:1.75\"><font color=\"black\"> woman                    </font></mark><mark style=\"background-color: hsl(0, 75%, 95%); opacity:1.0;                     line-height:1.75\"><font color=\"black\"> poses                    </font></mark><mark style=\"background-color: hsl(120, 75%, 100%); opacity:1.0;                     line-height:1.75\"><font color=\"black\"> for                    </font></mark><mark style=\"background-color: hsl(0, 75%, 98%); opacity:1.0;                     line-height:1.75\"><font color=\"black\"> the                    </font></mark><mark style=\"background-color: hsl(120, 75%, 99%); opacity:1.0;                     line-height:1.75\"><font color=\"black\"> camera.                    </font></mark><mark style=\"background-color: hsl(0, 75%, 98%); opacity:1.0;                     line-height:1.75\"><font color=\"black\"> #/s                    </font></mark></td><tr></table>"
      ],
      "text/plain": [
       "<IPython.core.display.HTML object>"
      ]
     },
     "metadata": {},
     "output_type": "display_data"
    },
    {
     "name": "stdout",
     "output_type": "stream",
     "text": [
      "<IPython.core.display.HTML object>\n",
      "i: 31\n",
      "Raw review: ['He claims it may seem unrealistic only because little effort has been devoted to the concept.', '\"This proposal is modest compared with the space programme, and may seem unrealistic only because little effort has been devoted to it.']\n",
      "GT target: 3.5\n"
     ]
    },
    {
     "name": "stderr",
     "output_type": "stream",
     "text": [
      "/home/user/anaconda3/envs/py38/lib/python3.9/site-packages/captum/attr/_core/lime.py:1088: UserWarning: Attempting to construct interpretable model with > 10000 features.This can be very slow or lead to OOM issues. Please provide a featuremask which groups input features to reduce the number of interpretablefeatures. \n",
      "  warnings.warn(\n"
     ]
    },
    {
     "name": "stdout",
     "output_type": "stream",
     "text": [
      "pred_prob 3.237951099872589\n"
     ]
    },
    {
     "name": "stderr",
     "output_type": "stream",
     "text": [
      "Lime attribution: 100%|███████████████████████████| 3/3 [02:09<00:00, 43.04s/it]\n"
     ]
    },
    {
     "name": "stdout",
     "output_type": "stream",
     "text": [
      "attribution took 140.829645 seconds\n",
      "before zeroing tensor([[[0., 0., 0.,  ..., 0., 0., 0.],\n",
      "         [0., 0., 0.,  ..., 0., 0., 0.],\n",
      "         [0., 0., 0.,  ..., 0., 0., 0.],\n",
      "         ...,\n",
      "         [0., 0., 0.,  ..., 0., 0., 0.],\n",
      "         [0., 0., 0.,  ..., 0., 0., 0.],\n",
      "         [0., 0., 0.,  ..., 0., 0., 0.]]])\n",
      "after zeroing tensor([[[0., 0., 0.,  ..., 0., 0., 0.],\n",
      "         [0., 0., 0.,  ..., 0., 0., 0.],\n",
      "         [0., 0., 0.,  ..., 0., 0., 0.],\n",
      "         ...,\n",
      "         [0., 0., 0.,  ..., 0., 0., 0.],\n",
      "         [0., 0., 0.,  ..., 0., 0., 0.],\n",
      "         [0., 0., 0.,  ..., 0., 0., 0.]]])\n",
      "word attr tensor([-0.0893,  0.1413,  0.1504, -0.0311,  0.1892, -0.1620,  0.1424,  0.1144,\n",
      "         0.0837, -0.0119, -0.1566, -0.0413, -0.0751, -0.0222, -0.0487,  0.0919,\n",
      "         0.0926,  0.0459,  0.0063,  0.0435, -0.2400, -0.0612,  0.1479,  0.0185,\n",
      "         0.0408,  0.0272, -0.1503, -0.0902, -0.3924, -0.6428, -0.0853,  0.0094,\n",
      "        -0.0534,  0.0978, -0.0975, -0.1296, -0.0536, -0.0036,  0.0128, -0.0052,\n",
      "         0.0733,  0.0233,  0.2035,  0.0079,  0.0448,  0.0877])\n",
      "conti attr [tensor(-0.0893), tensor(0.1413), tensor(0.1504), tensor(-0.0311), tensor(0.1892), tensor(-0.1620), tensor(0.1424), tensor(0.1144), tensor(0.0837), tensor(-0.0119), tensor(-0.1566), tensor(-0.0413), tensor(-0.0751), tensor(-0.0222), tensor(-0.0487), tensor(0.0919), tensor(0.1385), tensor(0.0063), tensor(0.0435), tensor(-0.3013), tensor(0.1479), tensor(0.0185), tensor(0.0408), tensor(0.0272), tensor(-0.1503), tensor(-0.0902), tensor(-0.3924), tensor(-0.7281), tensor(0.0094), tensor(-0.0534), tensor(0.0978), tensor(-0.0975), tensor(-0.1296), tensor(-0.0536), tensor(-0.0036), tensor(0.0128), tensor(-0.0052), tensor(0.0733), tensor(0.0233), tensor(0.2035), tensor(0.0526), tensor(0.0877)]\n",
      "detokenized ['<s>', 'He', 'claims', 'it', 'may', 'seem', 'unrealistic', 'only', 'because', 'little', 'effort', 'has', 'been', 'devoted', 'to', 'the', 'concept', '.', '</s>', '</s>', '\"', 'This', 'proposal', 'is', 'modest', 'compared', 'with', 'the', 'space', 'programme', ',', 'and', 'may', 'seem', 'unrealistic', 'only', 'because', 'little', 'effort', 'has', 'been', 'devoted', 'to', 'it', '.', '</s>']\n",
      "len conti_raw 42\n",
      "conti_raw ['<s>', 'He', 'claims', 'it', 'may', 'seem', 'unrealistic', 'only', 'because', 'little', 'effort', 'has', 'been', 'devoted', 'to', 'the', 'concept.', '</s>', '</s>', '\"This', 'proposal', 'is', 'modest', 'compared', 'with', 'the', 'space', 'programme,', 'and', 'may', 'seem', 'unrealistic', 'only', 'because', 'little', 'effort', 'has', 'been', 'devoted', 'to', 'it.', '</s>']\n"
     ]
    },
    {
     "data": {
      "text/html": [
       "<table width: 100%><div style=\"border-top: 1px solid; margin-top: 5px;             padding-top: 5px; display: inline-block\"><b>Legend: </b><span style=\"display: inline-block; width: 10px; height: 10px;                 border: 1px solid; background-color:                 hsl(0, 75%, 60%)\"></span> Negative  <span style=\"display: inline-block; width: 10px; height: 10px;                 border: 1px solid; background-color:                 hsl(0, 75%, 100%)\"></span> Neutral  <span style=\"display: inline-block; width: 10px; height: 10px;                 border: 1px solid; background-color:                 hsl(120, 75%, 50%)\"></span> Positive  </div><tr><th>True Label</th><th>Predicted Label</th><th>Attribution Label</th><th>Attribution Score</th><th>Word Importance</th><tr><td><text style=\"padding-right:2em\"><b>Similar</b></text></td><td><text style=\"padding-right:2em\"><b>Similar (0.65)</b></text></td><td><text style=\"padding-right:2em\"><b>Not Similar</b></text></td><td><text style=\"padding-right:2em\"><b>-0.75</b></text></td><td><mark style=\"background-color: hsl(0, 75%, 97%); opacity:1.0;                     line-height:1.75\"><font color=\"black\"> #s                    </font></mark><mark style=\"background-color: hsl(120, 75%, 93%); opacity:1.0;                     line-height:1.75\"><font color=\"black\"> He                    </font></mark><mark style=\"background-color: hsl(120, 75%, 93%); opacity:1.0;                     line-height:1.75\"><font color=\"black\"> claims                    </font></mark><mark style=\"background-color: hsl(0, 75%, 99%); opacity:1.0;                     line-height:1.75\"><font color=\"black\"> it                    </font></mark><mark style=\"background-color: hsl(120, 75%, 91%); opacity:1.0;                     line-height:1.75\"><font color=\"black\"> may                    </font></mark><mark style=\"background-color: hsl(0, 75%, 94%); opacity:1.0;                     line-height:1.75\"><font color=\"black\"> seem                    </font></mark><mark style=\"background-color: hsl(120, 75%, 93%); opacity:1.0;                     line-height:1.75\"><font color=\"black\"> unrealistic                    </font></mark><mark style=\"background-color: hsl(120, 75%, 95%); opacity:1.0;                     line-height:1.75\"><font color=\"black\"> only                    </font></mark><mark style=\"background-color: hsl(120, 75%, 96%); opacity:1.0;                     line-height:1.75\"><font color=\"black\"> because                    </font></mark><mark style=\"background-color: hsl(0, 75%, 100%); opacity:1.0;                     line-height:1.75\"><font color=\"black\"> little                    </font></mark><mark style=\"background-color: hsl(0, 75%, 94%); opacity:1.0;                     line-height:1.75\"><font color=\"black\"> effort                    </font></mark><mark style=\"background-color: hsl(0, 75%, 99%); opacity:1.0;                     line-height:1.75\"><font color=\"black\"> has                    </font></mark><mark style=\"background-color: hsl(0, 75%, 97%); opacity:1.0;                     line-height:1.75\"><font color=\"black\"> been                    </font></mark><mark style=\"background-color: hsl(0, 75%, 100%); opacity:1.0;                     line-height:1.75\"><font color=\"black\"> devoted                    </font></mark><mark style=\"background-color: hsl(0, 75%, 99%); opacity:1.0;                     line-height:1.75\"><font color=\"black\"> to                    </font></mark><mark style=\"background-color: hsl(120, 75%, 96%); opacity:1.0;                     line-height:1.75\"><font color=\"black\"> the                    </font></mark><mark style=\"background-color: hsl(120, 75%, 94%); opacity:1.0;                     line-height:1.75\"><font color=\"black\"> concept.                    </font></mark><mark style=\"background-color: hsl(120, 75%, 100%); opacity:1.0;                     line-height:1.75\"><font color=\"black\"> #/s                    </font></mark><mark style=\"background-color: hsl(120, 75%, 98%); opacity:1.0;                     line-height:1.75\"><font color=\"black\"> #/s                    </font></mark><mark style=\"background-color: hsl(0, 75%, 88%); opacity:1.0;                     line-height:1.75\"><font color=\"black\"> \"This                    </font></mark><mark style=\"background-color: hsl(120, 75%, 93%); opacity:1.0;                     line-height:1.75\"><font color=\"black\"> proposal                    </font></mark><mark style=\"background-color: hsl(120, 75%, 100%); opacity:1.0;                     line-height:1.75\"><font color=\"black\"> is                    </font></mark><mark style=\"background-color: hsl(120, 75%, 98%); opacity:1.0;                     line-height:1.75\"><font color=\"black\"> modest                    </font></mark><mark style=\"background-color: hsl(120, 75%, 99%); opacity:1.0;                     line-height:1.75\"><font color=\"black\"> compared                    </font></mark><mark style=\"background-color: hsl(0, 75%, 94%); opacity:1.0;                     line-height:1.75\"><font color=\"black\"> with                    </font></mark><mark style=\"background-color: hsl(0, 75%, 97%); opacity:1.0;                     line-height:1.75\"><font color=\"black\"> the                    </font></mark><mark style=\"background-color: hsl(0, 75%, 85%); opacity:1.0;                     line-height:1.75\"><font color=\"black\"> space                    </font></mark><mark style=\"background-color: hsl(0, 75%, 71%); opacity:1.0;                     line-height:1.75\"><font color=\"black\"> programme,                    </font></mark><mark style=\"background-color: hsl(120, 75%, 100%); opacity:1.0;                     line-height:1.75\"><font color=\"black\"> and                    </font></mark><mark style=\"background-color: hsl(0, 75%, 98%); opacity:1.0;                     line-height:1.75\"><font color=\"black\"> may                    </font></mark><mark style=\"background-color: hsl(120, 75%, 96%); opacity:1.0;                     line-height:1.75\"><font color=\"black\"> seem                    </font></mark><mark style=\"background-color: hsl(0, 75%, 97%); opacity:1.0;                     line-height:1.75\"><font color=\"black\"> unrealistic                    </font></mark><mark style=\"background-color: hsl(0, 75%, 95%); opacity:1.0;                     line-height:1.75\"><font color=\"black\"> only                    </font></mark><mark style=\"background-color: hsl(0, 75%, 98%); opacity:1.0;                     line-height:1.75\"><font color=\"black\"> because                    </font></mark><mark style=\"background-color: hsl(0, 75%, 100%); opacity:1.0;                     line-height:1.75\"><font color=\"black\"> little                    </font></mark><mark style=\"background-color: hsl(120, 75%, 100%); opacity:1.0;                     line-height:1.75\"><font color=\"black\"> effort                    </font></mark><mark style=\"background-color: hsl(0, 75%, 100%); opacity:1.0;                     line-height:1.75\"><font color=\"black\"> has                    </font></mark><mark style=\"background-color: hsl(120, 75%, 97%); opacity:1.0;                     line-height:1.75\"><font color=\"black\"> been                    </font></mark><mark style=\"background-color: hsl(120, 75%, 99%); opacity:1.0;                     line-height:1.75\"><font color=\"black\"> devoted                    </font></mark><mark style=\"background-color: hsl(120, 75%, 90%); opacity:1.0;                     line-height:1.75\"><font color=\"black\"> to                    </font></mark><mark style=\"background-color: hsl(120, 75%, 98%); opacity:1.0;                     line-height:1.75\"><font color=\"black\"> it.                    </font></mark><mark style=\"background-color: hsl(120, 75%, 96%); opacity:1.0;                     line-height:1.75\"><font color=\"black\"> #/s                    </font></mark></td><tr></table>"
      ],
      "text/plain": [
       "<IPython.core.display.HTML object>"
      ]
     },
     "metadata": {},
     "output_type": "display_data"
    },
    {
     "name": "stderr",
     "output_type": "stream",
     "text": [
      "/home/user/anaconda3/envs/py38/lib/python3.9/site-packages/captum/attr/_core/lime.py:1088: UserWarning: Attempting to construct interpretable model with > 10000 features.This can be very slow or lead to OOM issues. Please provide a featuremask which groups input features to reduce the number of interpretablefeatures. \n",
      "  warnings.warn(\n"
     ]
    },
    {
     "name": "stdout",
     "output_type": "stream",
     "text": [
      "<IPython.core.display.HTML object>\n",
      "i: 32\n",
      "Raw review: ['A bird eating from a bird feeder.', 'A yellow bird eating fruit on a bird feeder.']\n",
      "GT target: 3.200000047683716\n",
      "pred_prob 3.4366700053215027\n"
     ]
    },
    {
     "name": "stderr",
     "output_type": "stream",
     "text": [
      "Lime attribution: 100%|███████████████████████████| 3/3 [01:01<00:00, 20.62s/it]\n"
     ]
    },
    {
     "name": "stdout",
     "output_type": "stream",
     "text": [
      "attribution took 67.520820 seconds\n",
      "before zeroing tensor([[[0., 0., 0.,  ..., 0., 0., 0.],\n",
      "         [0., 0., 0.,  ..., 0., 0., 0.],\n",
      "         [0., 0., 0.,  ..., 0., 0., 0.],\n",
      "         ...,\n",
      "         [0., 0., 0.,  ..., 0., 0., 0.],\n",
      "         [0., 0., 0.,  ..., 0., 0., 0.],\n",
      "         [0., 0., 0.,  ..., 0., 0., 0.]]])\n",
      "after zeroing tensor([[[0., 0., 0.,  ..., 0., 0., 0.],\n",
      "         [0., 0., 0.,  ..., 0., 0., 0.],\n",
      "         [0., 0., 0.,  ..., 0., 0., 0.],\n",
      "         ...,\n",
      "         [0., 0., 0.,  ..., 0., 0., 0.],\n",
      "         [0., 0., 0.,  ..., 0., 0., 0.],\n",
      "         [0., 0., 0.,  ..., 0., 0., 0.]]])\n",
      "word attr tensor([ 2.3612e-03,  0.0000e+00,  0.0000e+00, -1.0977e-03,  0.0000e+00,\n",
      "         0.0000e+00,  2.6896e-04,  7.7213e-02,  3.8697e-02,  0.0000e+00,\n",
      "         2.1856e-04,  0.0000e+00,  1.2895e-03,  0.0000e+00, -7.1715e-03,\n",
      "        -5.2946e-03, -9.9622e-01,  0.0000e+00,  0.0000e+00,  3.2342e-04,\n",
      "         1.0250e-03,  0.0000e+00,  0.0000e+00,  0.0000e+00])\n",
      "conti attr [tensor(0.0024), tensor(0.), tensor(0.), tensor(-0.0011), tensor(0.), tensor(0.), tensor(0.0003), tensor(0.1159), tensor(0.0002), tensor(0.), tensor(0.0013), tensor(0.), tensor(-0.0072), tensor(-0.0053), tensor(-0.9962), tensor(0.), tensor(0.), tensor(0.0003), tensor(0.0010), tensor(0.)]\n",
      "detokenized ['<s>', 'A', 'bird', 'eating', 'from', 'a', 'bird', 'feed', 'er', '.', '</s>', '</s>', 'A', 'yellow', 'bird', 'eating', 'fruit', 'on', 'a', 'bird', 'feed', 'er', '.', '</s>']\n",
      "len conti_raw 20\n",
      "conti_raw ['<s>', 'A', 'bird', 'eating', 'from', 'a', 'bird', 'feeder.', '</s>', '</s>', 'A', 'yellow', 'bird', 'eating', 'fruit', 'on', 'a', 'bird', 'feeder.', '</s>']\n"
     ]
    },
    {
     "data": {
      "text/html": [
       "<table width: 100%><div style=\"border-top: 1px solid; margin-top: 5px;             padding-top: 5px; display: inline-block\"><b>Legend: </b><span style=\"display: inline-block; width: 10px; height: 10px;                 border: 1px solid; background-color:                 hsl(0, 75%, 60%)\"></span> Negative  <span style=\"display: inline-block; width: 10px; height: 10px;                 border: 1px solid; background-color:                 hsl(0, 75%, 100%)\"></span> Neutral  <span style=\"display: inline-block; width: 10px; height: 10px;                 border: 1px solid; background-color:                 hsl(120, 75%, 50%)\"></span> Positive  </div><tr><th>True Label</th><th>Predicted Label</th><th>Attribution Label</th><th>Attribution Score</th><th>Word Importance</th><tr><td><text style=\"padding-right:2em\"><b>Similar</b></text></td><td><text style=\"padding-right:2em\"><b>Similar (0.69)</b></text></td><td><text style=\"padding-right:2em\"><b>Not Similar</b></text></td><td><text style=\"padding-right:2em\"><b>-0.89</b></text></td><td><mark style=\"background-color: hsl(120, 75%, 100%); opacity:1.0;                     line-height:1.75\"><font color=\"black\"> #s                    </font></mark><mark style=\"background-color: hsl(0, 75%, 100%); opacity:1.0;                     line-height:1.75\"><font color=\"black\"> A                    </font></mark><mark style=\"background-color: hsl(0, 75%, 100%); opacity:1.0;                     line-height:1.75\"><font color=\"black\"> bird                    </font></mark><mark style=\"background-color: hsl(0, 75%, 100%); opacity:1.0;                     line-height:1.75\"><font color=\"black\"> eating                    </font></mark><mark style=\"background-color: hsl(0, 75%, 100%); opacity:1.0;                     line-height:1.75\"><font color=\"black\"> from                    </font></mark><mark style=\"background-color: hsl(0, 75%, 100%); opacity:1.0;                     line-height:1.75\"><font color=\"black\"> a                    </font></mark><mark style=\"background-color: hsl(120, 75%, 100%); opacity:1.0;                     line-height:1.75\"><font color=\"black\"> bird                    </font></mark><mark style=\"background-color: hsl(120, 75%, 95%); opacity:1.0;                     line-height:1.75\"><font color=\"black\"> feeder.                    </font></mark><mark style=\"background-color: hsl(120, 75%, 100%); opacity:1.0;                     line-height:1.75\"><font color=\"black\"> #/s                    </font></mark><mark style=\"background-color: hsl(0, 75%, 100%); opacity:1.0;                     line-height:1.75\"><font color=\"black\"> #/s                    </font></mark><mark style=\"background-color: hsl(120, 75%, 100%); opacity:1.0;                     line-height:1.75\"><font color=\"black\"> A                    </font></mark><mark style=\"background-color: hsl(0, 75%, 100%); opacity:1.0;                     line-height:1.75\"><font color=\"black\"> yellow                    </font></mark><mark style=\"background-color: hsl(0, 75%, 100%); opacity:1.0;                     line-height:1.75\"><font color=\"black\"> bird                    </font></mark><mark style=\"background-color: hsl(0, 75%, 100%); opacity:1.0;                     line-height:1.75\"><font color=\"black\"> eating                    </font></mark><mark style=\"background-color: hsl(0, 75%, 61%); opacity:1.0;                     line-height:1.75\"><font color=\"black\"> fruit                    </font></mark><mark style=\"background-color: hsl(0, 75%, 100%); opacity:1.0;                     line-height:1.75\"><font color=\"black\"> on                    </font></mark><mark style=\"background-color: hsl(0, 75%, 100%); opacity:1.0;                     line-height:1.75\"><font color=\"black\"> a                    </font></mark><mark style=\"background-color: hsl(120, 75%, 100%); opacity:1.0;                     line-height:1.75\"><font color=\"black\"> bird                    </font></mark><mark style=\"background-color: hsl(120, 75%, 100%); opacity:1.0;                     line-height:1.75\"><font color=\"black\"> feeder.                    </font></mark><mark style=\"background-color: hsl(0, 75%, 100%); opacity:1.0;                     line-height:1.75\"><font color=\"black\"> #/s                    </font></mark></td><tr></table>"
      ],
      "text/plain": [
       "<IPython.core.display.HTML object>"
      ]
     },
     "metadata": {},
     "output_type": "display_data"
    },
    {
     "name": "stderr",
     "output_type": "stream",
     "text": [
      "/home/user/anaconda3/envs/py38/lib/python3.9/site-packages/captum/attr/_core/lime.py:1088: UserWarning: Attempting to construct interpretable model with > 10000 features.This can be very slow or lead to OOM issues. Please provide a featuremask which groups input features to reduce the number of interpretablefeatures. \n",
      "  warnings.warn(\n"
     ]
    },
    {
     "name": "stdout",
     "output_type": "stream",
     "text": [
      "<IPython.core.display.HTML object>\n",
      "i: 33\n",
      "Raw review: ['Different parts of California have different wildlife, so you should probably narrow the region.', 'American black bears They are somewhat common in some wilderness areas of California, mostly in the mountains.']\n",
      "GT target: 2.0\n",
      "pred_prob 1.586385816335678\n"
     ]
    },
    {
     "name": "stderr",
     "output_type": "stream",
     "text": [
      "Lime attribution: 100%|███████████████████████████| 3/3 [01:46<00:00, 35.64s/it]\n"
     ]
    },
    {
     "name": "stdout",
     "output_type": "stream",
     "text": [
      "attribution took 116.465706 seconds\n",
      "before zeroing tensor([[[0.0000, 0.0000, 0.0000,  ..., 0.0000, 0.0000, 0.0000],\n",
      "         [0.0000, 0.0000, 0.0000,  ..., 0.0000, 0.0000, 0.0005],\n",
      "         [0.0000, 0.0000, 0.0000,  ..., 0.0000, 0.0000, 0.0000],\n",
      "         ...,\n",
      "         [0.0000, 0.0000, 0.0005,  ..., 0.0000, 0.0000, 0.0000],\n",
      "         [0.0000, 0.0000, 0.0000,  ..., 0.0000, 0.0000, 0.0000],\n",
      "         [0.0000, 0.0000, 0.0000,  ..., 0.0000, 0.0000, 0.0000]]])\n",
      "after zeroing tensor([[[0.0000, 0.0000, 0.0000,  ..., 0.0000, 0.0000, 0.0000],\n",
      "         [0.0000, 0.0000, 0.0000,  ..., 0.0000, 0.0000, 0.0005],\n",
      "         [0.0000, 0.0000, 0.0000,  ..., 0.0000, 0.0000, 0.0000],\n",
      "         ...,\n",
      "         [0.0000, 0.0000, 0.0005,  ..., 0.0000, 0.0000, 0.0000],\n",
      "         [0.0000, 0.0000, 0.0000,  ..., 0.0000, 0.0000, 0.0000],\n",
      "         [0.0000, 0.0000, 0.0000,  ..., 0.0000, 0.0000, 0.0000]]])\n",
      "word attr tensor([ 1.5678e-01, -1.8371e-02,  1.9917e-01, -1.6159e-01, -2.6238e-01,\n",
      "         1.3337e-01, -2.1458e-01,  2.1175e-01,  6.7370e-02, -3.0105e-02,\n",
      "        -2.8908e-01,  1.2819e-01, -1.0505e-01, -3.8314e-01,  2.6470e-04,\n",
      "         1.4360e-01, -9.3722e-02,  1.4891e-01,  9.3340e-02,  4.9019e-02,\n",
      "         1.1746e-01,  1.3126e-01,  2.2875e-01,  1.4486e-01,  4.7534e-02,\n",
      "         3.7346e-01, -2.6945e-02,  2.0843e-01, -1.7517e-01,  4.5462e-02,\n",
      "         1.2885e-01, -4.4730e-02, -1.0441e-01,  1.0672e-01, -5.8768e-02,\n",
      "         1.4534e-02, -1.7308e-01,  7.8882e-02,  4.5614e-02])\n",
      "conti attr [tensor(0.1568), tensor(-0.0184), tensor(0.1992), tensor(-0.1616), tensor(-0.2624), tensor(0.1334), tensor(-0.2146), tensor(0.2791), tensor(-0.0301), tensor(-0.2891), tensor(0.1282), tensor(-0.1051), tensor(-0.3831), tensor(0.0003), tensor(0.0499), tensor(0.1489), tensor(0.0933), tensor(0.0490), tensor(0.1175), tensor(0.1313), tensor(0.2287), tensor(0.1449), tensor(0.0475), tensor(0.3735), tensor(-0.0269), tensor(0.2084), tensor(-0.1752), tensor(0.0455), tensor(0.1289), tensor(-0.1491), tensor(0.1067), tensor(-0.0588), tensor(0.0145), tensor(-0.0942), tensor(0.0456)]\n",
      "detokenized ['<s>', 'Different', 'parts', 'of', 'California', 'have', 'different', 'wildlife', ',', 'so', 'you', 'should', 'probably', 'narrow', 'the', 'region', '.', '</s>', '</s>', 'American', 'black', 'bears', 'They', 'are', 'somewhat', 'common', 'in', 'some', 'wilderness', 'areas', 'of', 'California', ',', 'mostly', 'in', 'the', 'mountains', '.', '</s>']\n",
      "len conti_raw 35\n",
      "conti_raw ['<s>', 'Different', 'parts', 'of', 'California', 'have', 'different', 'wildlife,', 'so', 'you', 'should', 'probably', 'narrow', 'the', 'region.', '</s>', '</s>', 'American', 'black', 'bears', 'They', 'are', 'somewhat', 'common', 'in', 'some', 'wilderness', 'areas', 'of', 'California,', 'mostly', 'in', 'the', 'mountains.', '</s>']\n"
     ]
    },
    {
     "data": {
      "text/html": [
       "<table width: 100%><div style=\"border-top: 1px solid; margin-top: 5px;             padding-top: 5px; display: inline-block\"><b>Legend: </b><span style=\"display: inline-block; width: 10px; height: 10px;                 border: 1px solid; background-color:                 hsl(0, 75%, 60%)\"></span> Negative  <span style=\"display: inline-block; width: 10px; height: 10px;                 border: 1px solid; background-color:                 hsl(0, 75%, 100%)\"></span> Neutral  <span style=\"display: inline-block; width: 10px; height: 10px;                 border: 1px solid; background-color:                 hsl(120, 75%, 50%)\"></span> Positive  </div><tr><th>True Label</th><th>Predicted Label</th><th>Attribution Label</th><th>Attribution Score</th><th>Word Importance</th><tr><td><text style=\"padding-right:2em\"><b>Not Similar</b></text></td><td><text style=\"padding-right:2em\"><b>Not Similar (0.32)</b></text></td><td><text style=\"padding-right:2em\"><b>Similar</b></text></td><td><text style=\"padding-right:2em\"><b>0.86</b></text></td><td><mark style=\"background-color: hsl(120, 75%, 93%); opacity:1.0;                     line-height:1.75\"><font color=\"black\"> #s                    </font></mark><mark style=\"background-color: hsl(0, 75%, 100%); opacity:1.0;                     line-height:1.75\"><font color=\"black\"> Different                    </font></mark><mark style=\"background-color: hsl(120, 75%, 91%); opacity:1.0;                     line-height:1.75\"><font color=\"black\"> parts                    </font></mark><mark style=\"background-color: hsl(0, 75%, 94%); opacity:1.0;                     line-height:1.75\"><font color=\"black\"> of                    </font></mark><mark style=\"background-color: hsl(0, 75%, 90%); opacity:1.0;                     line-height:1.75\"><font color=\"black\"> California                    </font></mark><mark style=\"background-color: hsl(120, 75%, 94%); opacity:1.0;                     line-height:1.75\"><font color=\"black\"> have                    </font></mark><mark style=\"background-color: hsl(0, 75%, 92%); opacity:1.0;                     line-height:1.75\"><font color=\"black\"> different                    </font></mark><mark style=\"background-color: hsl(120, 75%, 87%); opacity:1.0;                     line-height:1.75\"><font color=\"black\"> wildlife,                    </font></mark><mark style=\"background-color: hsl(0, 75%, 99%); opacity:1.0;                     line-height:1.75\"><font color=\"black\"> so                    </font></mark><mark style=\"background-color: hsl(0, 75%, 89%); opacity:1.0;                     line-height:1.75\"><font color=\"black\"> you                    </font></mark><mark style=\"background-color: hsl(120, 75%, 94%); opacity:1.0;                     line-height:1.75\"><font color=\"black\"> should                    </font></mark><mark style=\"background-color: hsl(0, 75%, 96%); opacity:1.0;                     line-height:1.75\"><font color=\"black\"> probably                    </font></mark><mark style=\"background-color: hsl(0, 75%, 85%); opacity:1.0;                     line-height:1.75\"><font color=\"black\"> narrow                    </font></mark><mark style=\"background-color: hsl(120, 75%, 100%); opacity:1.0;                     line-height:1.75\"><font color=\"black\"> the                    </font></mark><mark style=\"background-color: hsl(120, 75%, 98%); opacity:1.0;                     line-height:1.75\"><font color=\"black\"> region.                    </font></mark><mark style=\"background-color: hsl(120, 75%, 93%); opacity:1.0;                     line-height:1.75\"><font color=\"black\"> #/s                    </font></mark><mark style=\"background-color: hsl(120, 75%, 96%); opacity:1.0;                     line-height:1.75\"><font color=\"black\"> #/s                    </font></mark><mark style=\"background-color: hsl(120, 75%, 98%); opacity:1.0;                     line-height:1.75\"><font color=\"black\"> American                    </font></mark><mark style=\"background-color: hsl(120, 75%, 95%); opacity:1.0;                     line-height:1.75\"><font color=\"black\"> black                    </font></mark><mark style=\"background-color: hsl(120, 75%, 94%); opacity:1.0;                     line-height:1.75\"><font color=\"black\"> bears                    </font></mark><mark style=\"background-color: hsl(120, 75%, 89%); opacity:1.0;                     line-height:1.75\"><font color=\"black\"> They                    </font></mark><mark style=\"background-color: hsl(120, 75%, 93%); opacity:1.0;                     line-height:1.75\"><font color=\"black\"> are                    </font></mark><mark style=\"background-color: hsl(120, 75%, 98%); opacity:1.0;                     line-height:1.75\"><font color=\"black\"> somewhat                    </font></mark><mark style=\"background-color: hsl(120, 75%, 82%); opacity:1.0;                     line-height:1.75\"><font color=\"black\"> common                    </font></mark><mark style=\"background-color: hsl(0, 75%, 99%); opacity:1.0;                     line-height:1.75\"><font color=\"black\"> in                    </font></mark><mark style=\"background-color: hsl(120, 75%, 90%); opacity:1.0;                     line-height:1.75\"><font color=\"black\"> some                    </font></mark><mark style=\"background-color: hsl(0, 75%, 93%); opacity:1.0;                     line-height:1.75\"><font color=\"black\"> wilderness                    </font></mark><mark style=\"background-color: hsl(120, 75%, 98%); opacity:1.0;                     line-height:1.75\"><font color=\"black\"> areas                    </font></mark><mark style=\"background-color: hsl(120, 75%, 94%); opacity:1.0;                     line-height:1.75\"><font color=\"black\"> of                    </font></mark><mark style=\"background-color: hsl(0, 75%, 95%); opacity:1.0;                     line-height:1.75\"><font color=\"black\"> California,                    </font></mark><mark style=\"background-color: hsl(120, 75%, 95%); opacity:1.0;                     line-height:1.75\"><font color=\"black\"> mostly                    </font></mark><mark style=\"background-color: hsl(0, 75%, 98%); opacity:1.0;                     line-height:1.75\"><font color=\"black\"> in                    </font></mark><mark style=\"background-color: hsl(120, 75%, 100%); opacity:1.0;                     line-height:1.75\"><font color=\"black\"> the                    </font></mark><mark style=\"background-color: hsl(0, 75%, 97%); opacity:1.0;                     line-height:1.75\"><font color=\"black\"> mountains.                    </font></mark><mark style=\"background-color: hsl(120, 75%, 98%); opacity:1.0;                     line-height:1.75\"><font color=\"black\"> #/s                    </font></mark></td><tr></table>"
      ],
      "text/plain": [
       "<IPython.core.display.HTML object>"
      ]
     },
     "metadata": {},
     "output_type": "display_data"
    },
    {
     "name": "stderr",
     "output_type": "stream",
     "text": [
      "/home/user/anaconda3/envs/py38/lib/python3.9/site-packages/captum/attr/_core/lime.py:1088: UserWarning: Attempting to construct interpretable model with > 10000 features.This can be very slow or lead to OOM issues. Please provide a featuremask which groups input features to reduce the number of interpretablefeatures. \n",
      "  warnings.warn(\n"
     ]
    },
    {
     "name": "stdout",
     "output_type": "stream",
     "text": [
      "<IPython.core.display.HTML object>\n",
      "i: 34\n",
      "Raw review: ['I am not aware of any university run participant pools.', \"At the universities I've worked in North America, human-subject studies (esp.\"]\n",
      "GT target: 0.6000000238418579\n",
      "pred_prob 0.6573943793773651\n"
     ]
    },
    {
     "name": "stderr",
     "output_type": "stream",
     "text": [
      "Lime attribution: 100%|███████████████████████████| 3/3 [01:29<00:00, 29.73s/it]\n"
     ]
    },
    {
     "name": "stdout",
     "output_type": "stream",
     "text": [
      "attribution took 98.343605 seconds\n",
      "before zeroing tensor([[[0.0000, 0.0000, 0.0000,  ..., 0.0000, 0.0004, 0.0000],\n",
      "         [0.0000, 0.0000, 0.0000,  ..., 0.0000, 0.0000, 0.0000],\n",
      "         [0.0000, 0.0000, 0.0000,  ..., 0.0000, 0.0000, 0.0000],\n",
      "         ...,\n",
      "         [0.0000, 0.0000, 0.0000,  ..., 0.0000, 0.0000, 0.0000],\n",
      "         [0.0000, 0.0000, 0.0000,  ..., 0.0000, 0.0000, 0.0000],\n",
      "         [0.0000, 0.0000, 0.0000,  ..., 0.0000, 0.0000, 0.0000]]])\n",
      "after zeroing tensor([[[0.0000, 0.0000, 0.0000,  ..., 0.0000, 0.0004, 0.0000],\n",
      "         [0.0000, 0.0000, 0.0000,  ..., 0.0000, 0.0000, 0.0000],\n",
      "         [0.0000, 0.0000, 0.0000,  ..., 0.0000, 0.0000, 0.0000],\n",
      "         ...,\n",
      "         [0.0000, 0.0000, 0.0000,  ..., 0.0000, 0.0000, 0.0000],\n",
      "         [0.0000, 0.0000, 0.0000,  ..., 0.0000, 0.0000, 0.0000],\n",
      "         [0.0000, 0.0000, 0.0000,  ..., 0.0000, 0.0000, 0.0000]]])\n",
      "word attr tensor([ 0.0100, -0.1415,  0.2833, -0.3473, -0.0615,  0.4005,  0.0062, -0.0511,\n",
      "        -0.0803,  0.2827,  0.3301,  0.0571,  0.1854, -0.0892,  0.0425,  0.2428,\n",
      "         0.1501,  0.0106, -0.0429,  0.1285, -0.3111,  0.0537,  0.0183,  0.1117,\n",
      "         0.0343, -0.1838, -0.0371,  0.0807,  0.2327, -0.2444,  0.0044, -0.0143])\n",
      "conti attr [tensor(0.0100), tensor(-0.1415), tensor(0.2833), tensor(-0.3473), tensor(-0.0615), tensor(0.4005), tensor(0.0062), tensor(-0.0511), tensor(-0.0803), tensor(0.2827), tensor(0.3872), tensor(0.1854), tensor(-0.0892), tensor(0.0425), tensor(0.2428), tensor(0.1501), tensor(-0.0323), tensor(0.1285), tensor(-0.3111), tensor(0.0537), tensor(0.1300), tensor(-0.1866), tensor(0.0807), tensor(-0.0074), tensor(-0.0143)]\n",
      "detokenized ['<s>', 'I', 'am', 'not', 'aware', 'of', 'any', 'university', 'run', 'participant', 'pools', '.', '</s>', '</s>', 'At', 'the', 'universities', 'I', \"'ve\", 'worked', 'in', 'North', 'America', ',', 'human', '-', 'subject', 'studies', '(', 'esp', '.', '</s>']\n",
      "len conti_raw 25\n",
      "conti_raw ['<s>', 'I', 'am', 'not', 'aware', 'of', 'any', 'university', 'run', 'participant', 'pools.', '</s>', '</s>', 'At', 'the', 'universities', \"I've\", 'worked', 'in', 'North', 'America,', 'human-subject', 'studies', '(esp.', '</s>']\n"
     ]
    },
    {
     "data": {
      "text/html": [
       "<table width: 100%><div style=\"border-top: 1px solid; margin-top: 5px;             padding-top: 5px; display: inline-block\"><b>Legend: </b><span style=\"display: inline-block; width: 10px; height: 10px;                 border: 1px solid; background-color:                 hsl(0, 75%, 60%)\"></span> Negative  <span style=\"display: inline-block; width: 10px; height: 10px;                 border: 1px solid; background-color:                 hsl(0, 75%, 100%)\"></span> Neutral  <span style=\"display: inline-block; width: 10px; height: 10px;                 border: 1px solid; background-color:                 hsl(120, 75%, 50%)\"></span> Positive  </div><tr><th>True Label</th><th>Predicted Label</th><th>Attribution Label</th><th>Attribution Score</th><th>Word Importance</th><tr><td><text style=\"padding-right:2em\"><b>Not Similar</b></text></td><td><text style=\"padding-right:2em\"><b>Not Similar (0.13)</b></text></td><td><text style=\"padding-right:2em\"><b>Similar</b></text></td><td><text style=\"padding-right:2em\"><b>1.06</b></text></td><td><mark style=\"background-color: hsl(120, 75%, 100%); opacity:1.0;                     line-height:1.75\"><font color=\"black\"> #s                    </font></mark><mark style=\"background-color: hsl(0, 75%, 95%); opacity:1.0;                     line-height:1.75\"><font color=\"black\"> I                    </font></mark><mark style=\"background-color: hsl(120, 75%, 86%); opacity:1.0;                     line-height:1.75\"><font color=\"black\"> am                    </font></mark><mark style=\"background-color: hsl(0, 75%, 87%); opacity:1.0;                     line-height:1.75\"><font color=\"black\"> not                    </font></mark><mark style=\"background-color: hsl(0, 75%, 98%); opacity:1.0;                     line-height:1.75\"><font color=\"black\"> aware                    </font></mark><mark style=\"background-color: hsl(120, 75%, 80%); opacity:1.0;                     line-height:1.75\"><font color=\"black\"> of                    </font></mark><mark style=\"background-color: hsl(120, 75%, 100%); opacity:1.0;                     line-height:1.75\"><font color=\"black\"> any                    </font></mark><mark style=\"background-color: hsl(0, 75%, 98%); opacity:1.0;                     line-height:1.75\"><font color=\"black\"> university                    </font></mark><mark style=\"background-color: hsl(0, 75%, 97%); opacity:1.0;                     line-height:1.75\"><font color=\"black\"> run                    </font></mark><mark style=\"background-color: hsl(120, 75%, 86%); opacity:1.0;                     line-height:1.75\"><font color=\"black\"> participant                    </font></mark><mark style=\"background-color: hsl(120, 75%, 81%); opacity:1.0;                     line-height:1.75\"><font color=\"black\"> pools.                    </font></mark><mark style=\"background-color: hsl(120, 75%, 91%); opacity:1.0;                     line-height:1.75\"><font color=\"black\"> #/s                    </font></mark><mark style=\"background-color: hsl(0, 75%, 97%); opacity:1.0;                     line-height:1.75\"><font color=\"black\"> #/s                    </font></mark><mark style=\"background-color: hsl(120, 75%, 98%); opacity:1.0;                     line-height:1.75\"><font color=\"black\"> At                    </font></mark><mark style=\"background-color: hsl(120, 75%, 88%); opacity:1.0;                     line-height:1.75\"><font color=\"black\"> the                    </font></mark><mark style=\"background-color: hsl(120, 75%, 93%); opacity:1.0;                     line-height:1.75\"><font color=\"black\"> universities                    </font></mark><mark style=\"background-color: hsl(0, 75%, 99%); opacity:1.0;                     line-height:1.75\"><font color=\"black\"> I've                    </font></mark><mark style=\"background-color: hsl(120, 75%, 94%); opacity:1.0;                     line-height:1.75\"><font color=\"black\"> worked                    </font></mark><mark style=\"background-color: hsl(0, 75%, 88%); opacity:1.0;                     line-height:1.75\"><font color=\"black\"> in                    </font></mark><mark style=\"background-color: hsl(120, 75%, 98%); opacity:1.0;                     line-height:1.75\"><font color=\"black\"> North                    </font></mark><mark style=\"background-color: hsl(120, 75%, 94%); opacity:1.0;                     line-height:1.75\"><font color=\"black\"> America,                    </font></mark><mark style=\"background-color: hsl(0, 75%, 93%); opacity:1.0;                     line-height:1.75\"><font color=\"black\"> human-subject                    </font></mark><mark style=\"background-color: hsl(120, 75%, 96%); opacity:1.0;                     line-height:1.75\"><font color=\"black\"> studies                    </font></mark><mark style=\"background-color: hsl(0, 75%, 100%); opacity:1.0;                     line-height:1.75\"><font color=\"black\"> (esp.                    </font></mark><mark style=\"background-color: hsl(0, 75%, 100%); opacity:1.0;                     line-height:1.75\"><font color=\"black\"> #/s                    </font></mark></td><tr></table>"
      ],
      "text/plain": [
       "<IPython.core.display.HTML object>"
      ]
     },
     "metadata": {},
     "output_type": "display_data"
    },
    {
     "name": "stderr",
     "output_type": "stream",
     "text": [
      "/home/user/anaconda3/envs/py38/lib/python3.9/site-packages/captum/attr/_core/lime.py:1088: UserWarning: Attempting to construct interpretable model with > 10000 features.This can be very slow or lead to OOM issues. Please provide a featuremask which groups input features to reduce the number of interpretablefeatures. \n",
      "  warnings.warn(\n"
     ]
    },
    {
     "name": "stdout",
     "output_type": "stream",
     "text": [
      "<IPython.core.display.HTML object>\n",
      "i: 35\n",
      "Raw review: ['A girl is riding a horse.', 'The girl trotted the horse.']\n",
      "GT target: 4.5\n",
      "pred_prob 3.1594371795654297\n"
     ]
    },
    {
     "name": "stderr",
     "output_type": "stream",
     "text": [
      "Lime attribution: 100%|███████████████████████████| 3/3 [00:47<00:00, 15.99s/it]\n"
     ]
    },
    {
     "name": "stdout",
     "output_type": "stream",
     "text": [
      "attribution took 52.897714 seconds\n",
      "before zeroing tensor([[[ 2.0126e-04,  0.0000e+00,  0.0000e+00,  ...,  0.0000e+00,\n",
      "          -2.3509e-04,  0.0000e+00],\n",
      "         [ 0.0000e+00,  0.0000e+00,  7.8986e-05,  ...,  0.0000e+00,\n",
      "           0.0000e+00,  0.0000e+00],\n",
      "         [ 0.0000e+00,  0.0000e+00,  0.0000e+00,  ...,  0.0000e+00,\n",
      "           6.4775e-04,  0.0000e+00],\n",
      "         ...,\n",
      "         [ 0.0000e+00,  0.0000e+00,  0.0000e+00,  ...,  0.0000e+00,\n",
      "           0.0000e+00,  0.0000e+00],\n",
      "         [ 0.0000e+00,  0.0000e+00,  0.0000e+00,  ...,  0.0000e+00,\n",
      "           0.0000e+00,  0.0000e+00],\n",
      "         [ 0.0000e+00,  0.0000e+00,  0.0000e+00,  ...,  0.0000e+00,\n",
      "           0.0000e+00,  0.0000e+00]]])\n",
      "after zeroing tensor([[[ 2.0126e-04,  0.0000e+00,  0.0000e+00,  ...,  0.0000e+00,\n",
      "          -2.3509e-04,  0.0000e+00],\n",
      "         [ 0.0000e+00,  0.0000e+00,  7.8986e-05,  ...,  0.0000e+00,\n",
      "           0.0000e+00,  0.0000e+00],\n",
      "         [ 0.0000e+00,  0.0000e+00,  0.0000e+00,  ...,  0.0000e+00,\n",
      "           6.4775e-04,  0.0000e+00],\n",
      "         ...,\n",
      "         [ 0.0000e+00,  0.0000e+00,  0.0000e+00,  ...,  0.0000e+00,\n",
      "           0.0000e+00,  0.0000e+00],\n",
      "         [ 0.0000e+00,  0.0000e+00,  0.0000e+00,  ...,  0.0000e+00,\n",
      "           0.0000e+00,  0.0000e+00],\n",
      "         [ 0.0000e+00,  0.0000e+00,  0.0000e+00,  ...,  0.0000e+00,\n",
      "           0.0000e+00,  0.0000e+00]]])\n",
      "word attr tensor([ 0.0710, -0.1014, -0.2362,  0.0550,  0.0293, -0.3558,  0.1462, -0.1061,\n",
      "         0.4098,  0.1504, -0.0079,  0.4262,  0.1359, -0.3364, -0.4173, -0.2890,\n",
      "         0.0421, -0.0493])\n",
      "conti attr [tensor(0.0710), tensor(-0.1014), tensor(-0.2362), tensor(0.0550), tensor(0.0293), tensor(-0.3558), tensor(0.0401), tensor(0.4098), tensor(0.1504), tensor(-0.0079), tensor(0.4262), tensor(-0.2004), tensor(-0.4173), tensor(-0.2468), tensor(-0.0493)]\n",
      "detokenized ['<s>', 'A', 'girl', 'is', 'riding', 'a', 'horse', '.', '</s>', '</s>', 'The', 'girl', 'tro', 'tted', 'the', 'horse', '.', '</s>']\n",
      "len conti_raw 15\n",
      "conti_raw ['<s>', 'A', 'girl', 'is', 'riding', 'a', 'horse.', '</s>', '</s>', 'The', 'girl', 'trotted', 'the', 'horse.', '</s>']\n"
     ]
    },
    {
     "data": {
      "text/html": [
       "<table width: 100%><div style=\"border-top: 1px solid; margin-top: 5px;             padding-top: 5px; display: inline-block\"><b>Legend: </b><span style=\"display: inline-block; width: 10px; height: 10px;                 border: 1px solid; background-color:                 hsl(0, 75%, 60%)\"></span> Negative  <span style=\"display: inline-block; width: 10px; height: 10px;                 border: 1px solid; background-color:                 hsl(0, 75%, 100%)\"></span> Neutral  <span style=\"display: inline-block; width: 10px; height: 10px;                 border: 1px solid; background-color:                 hsl(120, 75%, 50%)\"></span> Positive  </div><tr><th>True Label</th><th>Predicted Label</th><th>Attribution Label</th><th>Attribution Score</th><th>Word Importance</th><tr><td><text style=\"padding-right:2em\"><b>Similar</b></text></td><td><text style=\"padding-right:2em\"><b>Similar (0.63)</b></text></td><td><text style=\"padding-right:2em\"><b>Not Similar</b></text></td><td><text style=\"padding-right:2em\"><b>-0.43</b></text></td><td><mark style=\"background-color: hsl(120, 75%, 97%); opacity:1.0;                     line-height:1.75\"><font color=\"black\"> #s                    </font></mark><mark style=\"background-color: hsl(0, 75%, 96%); opacity:1.0;                     line-height:1.75\"><font color=\"black\"> A                    </font></mark><mark style=\"background-color: hsl(0, 75%, 91%); opacity:1.0;                     line-height:1.75\"><font color=\"black\"> girl                    </font></mark><mark style=\"background-color: hsl(120, 75%, 98%); opacity:1.0;                     line-height:1.75\"><font color=\"black\"> is                    </font></mark><mark style=\"background-color: hsl(120, 75%, 99%); opacity:1.0;                     line-height:1.75\"><font color=\"black\"> riding                    </font></mark><mark style=\"background-color: hsl(0, 75%, 86%); opacity:1.0;                     line-height:1.75\"><font color=\"black\"> a                    </font></mark><mark style=\"background-color: hsl(120, 75%, 98%); opacity:1.0;                     line-height:1.75\"><font color=\"black\"> horse.                    </font></mark><mark style=\"background-color: hsl(120, 75%, 80%); opacity:1.0;                     line-height:1.75\"><font color=\"black\"> #/s                    </font></mark><mark style=\"background-color: hsl(120, 75%, 93%); opacity:1.0;                     line-height:1.75\"><font color=\"black\"> #/s                    </font></mark><mark style=\"background-color: hsl(0, 75%, 100%); opacity:1.0;                     line-height:1.75\"><font color=\"black\"> The                    </font></mark><mark style=\"background-color: hsl(120, 75%, 79%); opacity:1.0;                     line-height:1.75\"><font color=\"black\"> girl                    </font></mark><mark style=\"background-color: hsl(0, 75%, 92%); opacity:1.0;                     line-height:1.75\"><font color=\"black\"> trotted                    </font></mark><mark style=\"background-color: hsl(0, 75%, 84%); opacity:1.0;                     line-height:1.75\"><font color=\"black\"> the                    </font></mark><mark style=\"background-color: hsl(0, 75%, 91%); opacity:1.0;                     line-height:1.75\"><font color=\"black\"> horse.                    </font></mark><mark style=\"background-color: hsl(0, 75%, 99%); opacity:1.0;                     line-height:1.75\"><font color=\"black\"> #/s                    </font></mark></td><tr></table>"
      ],
      "text/plain": [
       "<IPython.core.display.HTML object>"
      ]
     },
     "metadata": {},
     "output_type": "display_data"
    },
    {
     "name": "stderr",
     "output_type": "stream",
     "text": [
      "/home/user/anaconda3/envs/py38/lib/python3.9/site-packages/captum/attr/_core/lime.py:1088: UserWarning: Attempting to construct interpretable model with > 10000 features.This can be very slow or lead to OOM issues. Please provide a featuremask which groups input features to reduce the number of interpretablefeatures. \n",
      "  warnings.warn(\n"
     ]
    },
    {
     "name": "stdout",
     "output_type": "stream",
     "text": [
      "<IPython.core.display.HTML object>\n",
      "i: 36\n",
      "Raw review: ['There are four snowboarders going off a jump and that are in the air.', 'Two racers are coming to a turn.']\n",
      "GT target: 1.0\n",
      "pred_prob 0.10505742393434048\n"
     ]
    },
    {
     "name": "stderr",
     "output_type": "stream",
     "text": [
      "Lime attribution: 100%|███████████████████████████| 3/3 [01:22<00:00, 27.60s/it]\n"
     ]
    },
    {
     "name": "stdout",
     "output_type": "stream",
     "text": [
      "attribution took 89.918175 seconds\n",
      "before zeroing tensor([[[0., 0., 0.,  ..., 0., 0., 0.],\n",
      "         [0., 0., 0.,  ..., 0., 0., 0.],\n",
      "         [0., 0., 0.,  ..., 0., 0., 0.],\n",
      "         ...,\n",
      "         [0., 0., 0.,  ..., 0., 0., 0.],\n",
      "         [0., 0., 0.,  ..., 0., 0., 0.],\n",
      "         [0., 0., 0.,  ..., 0., 0., 0.]]])\n",
      "after zeroing tensor([[[0., 0., 0.,  ..., 0., 0., 0.],\n",
      "         [0., 0., 0.,  ..., 0., 0., 0.],\n",
      "         [0., 0., 0.,  ..., 0., 0., 0.],\n",
      "         ...,\n",
      "         [0., 0., 0.,  ..., 0., 0., 0.],\n",
      "         [0., 0., 0.,  ..., 0., 0., 0.],\n",
      "         [0., 0., 0.,  ..., 0., 0., 0.]]])\n",
      "word attr tensor([ 0.0419,  0.0020, -0.2733,  0.0514, -0.1694, -0.7557,  0.0245,  0.0111,\n",
      "         0.0974, -0.0698,  0.0347, -0.1363, -0.0520, -0.3118, -0.1144,  0.0479,\n",
      "         0.1139,  0.0117, -0.1115, -0.1537,  0.1103,  0.0349, -0.0064,  0.1394,\n",
      "        -0.0636, -0.1136,  0.0439,  0.2468,  0.0903, -0.0317])\n",
      "conti attr [tensor(0.0419), tensor(0.0020), tensor(-0.2733), tensor(0.0514), tensor(-0.9006), tensor(0.0111), tensor(0.0974), tensor(-0.0698), tensor(0.0347), tensor(-0.1363), tensor(-0.0520), tensor(-0.3118), tensor(-0.1144), tensor(0.0479), tensor(0.1256), tensor(-0.1115), tensor(-0.1537), tensor(0.1103), tensor(0.0285), tensor(0.1394), tensor(-0.0636), tensor(-0.1136), tensor(0.0439), tensor(0.3370), tensor(-0.0317)]\n",
      "detokenized ['<s>', 'There', 'are', 'four', 'snow', 'board', 'ers', 'going', 'off', 'a', 'jump', 'and', 'that', 'are', 'in', 'the', 'air', '.', '</s>', '</s>', 'Two', 'rac', 'ers', 'are', 'coming', 'to', 'a', 'turn', '.', '</s>']\n",
      "len conti_raw 25\n",
      "conti_raw ['<s>', 'There', 'are', 'four', 'snowboarders', 'going', 'off', 'a', 'jump', 'and', 'that', 'are', 'in', 'the', 'air.', '</s>', '</s>', 'Two', 'racers', 'are', 'coming', 'to', 'a', 'turn.', '</s>']\n"
     ]
    },
    {
     "data": {
      "text/html": [
       "<table width: 100%><div style=\"border-top: 1px solid; margin-top: 5px;             padding-top: 5px; display: inline-block\"><b>Legend: </b><span style=\"display: inline-block; width: 10px; height: 10px;                 border: 1px solid; background-color:                 hsl(0, 75%, 60%)\"></span> Negative  <span style=\"display: inline-block; width: 10px; height: 10px;                 border: 1px solid; background-color:                 hsl(0, 75%, 100%)\"></span> Neutral  <span style=\"display: inline-block; width: 10px; height: 10px;                 border: 1px solid; background-color:                 hsl(120, 75%, 50%)\"></span> Positive  </div><tr><th>True Label</th><th>Predicted Label</th><th>Attribution Label</th><th>Attribution Score</th><th>Word Importance</th><tr><td><text style=\"padding-right:2em\"><b>Not Similar</b></text></td><td><text style=\"padding-right:2em\"><b>Not Similar (0.02)</b></text></td><td><text style=\"padding-right:2em\"><b>Not Similar</b></text></td><td><text style=\"padding-right:2em\"><b>-1.26</b></text></td><td><mark style=\"background-color: hsl(120, 75%, 98%); opacity:1.0;                     line-height:1.75\"><font color=\"black\"> #s                    </font></mark><mark style=\"background-color: hsl(120, 75%, 100%); opacity:1.0;                     line-height:1.75\"><font color=\"black\"> There                    </font></mark><mark style=\"background-color: hsl(0, 75%, 90%); opacity:1.0;                     line-height:1.75\"><font color=\"black\"> are                    </font></mark><mark style=\"background-color: hsl(120, 75%, 98%); opacity:1.0;                     line-height:1.75\"><font color=\"black\"> four                    </font></mark><mark style=\"background-color: hsl(0, 75%, 64%); opacity:1.0;                     line-height:1.75\"><font color=\"black\"> snowboarders                    </font></mark><mark style=\"background-color: hsl(120, 75%, 100%); opacity:1.0;                     line-height:1.75\"><font color=\"black\"> going                    </font></mark><mark style=\"background-color: hsl(120, 75%, 96%); opacity:1.0;                     line-height:1.75\"><font color=\"black\"> off                    </font></mark><mark style=\"background-color: hsl(0, 75%, 98%); opacity:1.0;                     line-height:1.75\"><font color=\"black\"> a                    </font></mark><mark style=\"background-color: hsl(120, 75%, 99%); opacity:1.0;                     line-height:1.75\"><font color=\"black\"> jump                    </font></mark><mark style=\"background-color: hsl(0, 75%, 95%); opacity:1.0;                     line-height:1.75\"><font color=\"black\"> and                    </font></mark><mark style=\"background-color: hsl(0, 75%, 98%); opacity:1.0;                     line-height:1.75\"><font color=\"black\"> that                    </font></mark><mark style=\"background-color: hsl(0, 75%, 88%); opacity:1.0;                     line-height:1.75\"><font color=\"black\"> are                    </font></mark><mark style=\"background-color: hsl(0, 75%, 96%); opacity:1.0;                     line-height:1.75\"><font color=\"black\"> in                    </font></mark><mark style=\"background-color: hsl(120, 75%, 98%); opacity:1.0;                     line-height:1.75\"><font color=\"black\"> the                    </font></mark><mark style=\"background-color: hsl(120, 75%, 94%); opacity:1.0;                     line-height:1.75\"><font color=\"black\"> air.                    </font></mark><mark style=\"background-color: hsl(0, 75%, 96%); opacity:1.0;                     line-height:1.75\"><font color=\"black\"> #/s                    </font></mark><mark style=\"background-color: hsl(0, 75%, 94%); opacity:1.0;                     line-height:1.75\"><font color=\"black\"> #/s                    </font></mark><mark style=\"background-color: hsl(120, 75%, 95%); opacity:1.0;                     line-height:1.75\"><font color=\"black\"> Two                    </font></mark><mark style=\"background-color: hsl(120, 75%, 99%); opacity:1.0;                     line-height:1.75\"><font color=\"black\"> racers                    </font></mark><mark style=\"background-color: hsl(120, 75%, 94%); opacity:1.0;                     line-height:1.75\"><font color=\"black\"> are                    </font></mark><mark style=\"background-color: hsl(0, 75%, 98%); opacity:1.0;                     line-height:1.75\"><font color=\"black\"> coming                    </font></mark><mark style=\"background-color: hsl(0, 75%, 96%); opacity:1.0;                     line-height:1.75\"><font color=\"black\"> to                    </font></mark><mark style=\"background-color: hsl(120, 75%, 98%); opacity:1.0;                     line-height:1.75\"><font color=\"black\"> a                    </font></mark><mark style=\"background-color: hsl(120, 75%, 84%); opacity:1.0;                     line-height:1.75\"><font color=\"black\"> turn.                    </font></mark><mark style=\"background-color: hsl(0, 75%, 99%); opacity:1.0;                     line-height:1.75\"><font color=\"black\"> #/s                    </font></mark></td><tr></table>"
      ],
      "text/plain": [
       "<IPython.core.display.HTML object>"
      ]
     },
     "metadata": {},
     "output_type": "display_data"
    },
    {
     "name": "stdout",
     "output_type": "stream",
     "text": [
      "<IPython.core.display.HTML object>\n",
      "i: 37\n",
      "Raw review: ['The 30-year bond US30YT=RR dipped 14/32 for a yield of 4.26 percent from 4.23 percent.', 'The 30-year bond US30YT=RR lost 16/32, taking its yield to 4.20 percent from 4.18 percent.']\n",
      "GT target: 3.3329999446868896\n"
     ]
    },
    {
     "name": "stderr",
     "output_type": "stream",
     "text": [
      "/home/user/anaconda3/envs/py38/lib/python3.9/site-packages/captum/attr/_core/lime.py:1088: UserWarning: Attempting to construct interpretable model with > 10000 features.This can be very slow or lead to OOM issues. Please provide a featuremask which groups input features to reduce the number of interpretablefeatures. \n",
      "  warnings.warn(\n"
     ]
    },
    {
     "name": "stdout",
     "output_type": "stream",
     "text": [
      "pred_prob 2.7606171369552612\n"
     ]
    },
    {
     "name": "stderr",
     "output_type": "stream",
     "text": [
      "Lime attribution: 100%|███████████████████████████| 3/3 [02:52<00:00, 57.44s/it]\n"
     ]
    },
    {
     "name": "stdout",
     "output_type": "stream",
     "text": [
      "attribution took 188.138072 seconds\n",
      "before zeroing tensor([[[0., 0., 0.,  ..., 0., 0., 0.],\n",
      "         [0., 0., 0.,  ..., 0., 0., 0.],\n",
      "         [0., 0., 0.,  ..., 0., 0., 0.],\n",
      "         ...,\n",
      "         [0., 0., 0.,  ..., 0., 0., 0.],\n",
      "         [0., 0., 0.,  ..., 0., 0., 0.],\n",
      "         [0., 0., 0.,  ..., 0., 0., 0.]]])\n",
      "after zeroing tensor([[[0., 0., 0.,  ..., 0., 0., 0.],\n",
      "         [0., 0., 0.,  ..., 0., 0., 0.],\n",
      "         [0., 0., 0.,  ..., 0., 0., 0.],\n",
      "         ...,\n",
      "         [0., 0., 0.,  ..., 0., 0., 0.],\n",
      "         [0., 0., 0.,  ..., 0., 0., 0.],\n",
      "         [0., 0., 0.,  ..., 0., 0., 0.]]])\n",
      "word attr tensor([-0.2944,  0.0000,  0.0000,  0.0000, -0.1851,  0.0000,  0.0490, -0.1761,\n",
      "         0.0000,  0.0503,  0.2604,  0.2176,  0.7551,  0.0000,  0.0000,  0.0000,\n",
      "        -0.0145,  0.0000, -0.0204,  0.0000,  0.0111,  0.0000, -0.0471,  0.0391,\n",
      "         0.0000,  0.0000, -0.1019,  0.1433,  0.1788,  0.0722,  0.0000,  0.0000,\n",
      "         0.0000,  0.0000,  0.0000, -0.0328,  0.0000,  0.0000,  0.0000,  0.0000,\n",
      "         0.0000,  0.0000, -0.2290, -0.0950,  0.0483,  0.0000,  0.0329,  0.0000,\n",
      "         0.0000,  0.0000, -0.0475, -0.0817,  0.0000,  0.0000,  0.0000,  0.0202,\n",
      "        -0.0045, -0.0994,  0.0000,  0.0000,  0.0000,  0.0000,  0.0000])\n",
      "conti attr [tensor(-0.2944), tensor(0.), tensor(-0.1851), tensor(0.), tensor(0.4014), tensor(0.7551), tensor(0.), tensor(-0.0145), tensor(0.), tensor(-0.0204), tensor(0.), tensor(-0.0360), tensor(0.0391), tensor(0.), tensor(0.0414), tensor(0.2511), tensor(0.), tensor(0.), tensor(0.), tensor(-0.0328), tensor(0.), tensor(-0.2290), tensor(-0.0950), tensor(0.0811), tensor(0.), tensor(0.), tensor(-0.0475), tensor(-0.0817), tensor(0.), tensor(0.0202), tensor(-0.0045), tensor(-0.0994), tensor(0.), tensor(0.)]\n",
      "detokenized ['<s>', 'The', '30', '-', 'year', 'bond', 'US', '30', 'Y', 'T', '=', 'RR', 'dipped', '14', '/', '32', 'for', 'a', 'yield', 'of', '4', '.', '26', 'percent', 'from', '4', '.', '23', 'percent', '.', '</s>', '</s>', 'The', '30', '-', 'year', 'bond', 'US', '30', 'Y', 'T', '=', 'RR', 'lost', '16', '/', '32', ',', 'taking', 'its', 'yield', 'to', '4', '.', '20', 'percent', 'from', '4', '.', '18', 'percent', '.', '</s>']\n",
      "len conti_raw 34\n",
      "conti_raw ['<s>', 'The', '30-year', 'bond', 'US30YT=RR', 'dipped', '14/32', 'for', 'a', 'yield', 'of', '4.26', 'percent', 'from', '4.23', 'percent.', '</s>', '</s>', 'The', '30-year', 'bond', 'US30YT=RR', 'lost', '16/32,', 'taking', 'its', 'yield', 'to', '4.20', 'percent', 'from', '4.18', 'percent.', '</s>']\n"
     ]
    },
    {
     "data": {
      "text/html": [
       "<table width: 100%><div style=\"border-top: 1px solid; margin-top: 5px;             padding-top: 5px; display: inline-block\"><b>Legend: </b><span style=\"display: inline-block; width: 10px; height: 10px;                 border: 1px solid; background-color:                 hsl(0, 75%, 60%)\"></span> Negative  <span style=\"display: inline-block; width: 10px; height: 10px;                 border: 1px solid; background-color:                 hsl(0, 75%, 100%)\"></span> Neutral  <span style=\"display: inline-block; width: 10px; height: 10px;                 border: 1px solid; background-color:                 hsl(120, 75%, 50%)\"></span> Positive  </div><tr><th>True Label</th><th>Predicted Label</th><th>Attribution Label</th><th>Attribution Score</th><th>Word Importance</th><tr><td><text style=\"padding-right:2em\"><b>Similar</b></text></td><td><text style=\"padding-right:2em\"><b>Similar (0.55)</b></text></td><td><text style=\"padding-right:2em\"><b>Not Similar</b></text></td><td><text style=\"padding-right:2em\"><b>0.45</b></text></td><td><mark style=\"background-color: hsl(0, 75%, 89%); opacity:1.0;                     line-height:1.75\"><font color=\"black\"> #s                    </font></mark><mark style=\"background-color: hsl(0, 75%, 100%); opacity:1.0;                     line-height:1.75\"><font color=\"black\"> The                    </font></mark><mark style=\"background-color: hsl(0, 75%, 93%); opacity:1.0;                     line-height:1.75\"><font color=\"black\"> 30-year                    </font></mark><mark style=\"background-color: hsl(0, 75%, 100%); opacity:1.0;                     line-height:1.75\"><font color=\"black\"> bond                    </font></mark><mark style=\"background-color: hsl(120, 75%, 80%); opacity:1.0;                     line-height:1.75\"><font color=\"black\"> US30YT=RR                    </font></mark><mark style=\"background-color: hsl(120, 75%, 63%); opacity:1.0;                     line-height:1.75\"><font color=\"black\"> dipped                    </font></mark><mark style=\"background-color: hsl(0, 75%, 100%); opacity:1.0;                     line-height:1.75\"><font color=\"black\"> 14/32                    </font></mark><mark style=\"background-color: hsl(0, 75%, 100%); opacity:1.0;                     line-height:1.75\"><font color=\"black\"> for                    </font></mark><mark style=\"background-color: hsl(0, 75%, 100%); opacity:1.0;                     line-height:1.75\"><font color=\"black\"> a                    </font></mark><mark style=\"background-color: hsl(0, 75%, 100%); opacity:1.0;                     line-height:1.75\"><font color=\"black\"> yield                    </font></mark><mark style=\"background-color: hsl(0, 75%, 100%); opacity:1.0;                     line-height:1.75\"><font color=\"black\"> of                    </font></mark><mark style=\"background-color: hsl(0, 75%, 99%); opacity:1.0;                     line-height:1.75\"><font color=\"black\"> 4.26                    </font></mark><mark style=\"background-color: hsl(120, 75%, 99%); opacity:1.0;                     line-height:1.75\"><font color=\"black\"> percent                    </font></mark><mark style=\"background-color: hsl(0, 75%, 100%); opacity:1.0;                     line-height:1.75\"><font color=\"black\"> from                    </font></mark><mark style=\"background-color: hsl(120, 75%, 98%); opacity:1.0;                     line-height:1.75\"><font color=\"black\"> 4.23                    </font></mark><mark style=\"background-color: hsl(120, 75%, 88%); opacity:1.0;                     line-height:1.75\"><font color=\"black\"> percent.                    </font></mark><mark style=\"background-color: hsl(0, 75%, 100%); opacity:1.0;                     line-height:1.75\"><font color=\"black\"> #/s                    </font></mark><mark style=\"background-color: hsl(0, 75%, 100%); opacity:1.0;                     line-height:1.75\"><font color=\"black\"> #/s                    </font></mark><mark style=\"background-color: hsl(0, 75%, 100%); opacity:1.0;                     line-height:1.75\"><font color=\"black\"> The                    </font></mark><mark style=\"background-color: hsl(0, 75%, 99%); opacity:1.0;                     line-height:1.75\"><font color=\"black\"> 30-year                    </font></mark><mark style=\"background-color: hsl(0, 75%, 100%); opacity:1.0;                     line-height:1.75\"><font color=\"black\"> bond                    </font></mark><mark style=\"background-color: hsl(0, 75%, 91%); opacity:1.0;                     line-height:1.75\"><font color=\"black\"> US30YT=RR                    </font></mark><mark style=\"background-color: hsl(0, 75%, 97%); opacity:1.0;                     line-height:1.75\"><font color=\"black\"> lost                    </font></mark><mark style=\"background-color: hsl(120, 75%, 96%); opacity:1.0;                     line-height:1.75\"><font color=\"black\"> 16/32,                    </font></mark><mark style=\"background-color: hsl(0, 75%, 100%); opacity:1.0;                     line-height:1.75\"><font color=\"black\"> taking                    </font></mark><mark style=\"background-color: hsl(0, 75%, 100%); opacity:1.0;                     line-height:1.75\"><font color=\"black\"> its                    </font></mark><mark style=\"background-color: hsl(0, 75%, 99%); opacity:1.0;                     line-height:1.75\"><font color=\"black\"> yield                    </font></mark><mark style=\"background-color: hsl(0, 75%, 97%); opacity:1.0;                     line-height:1.75\"><font color=\"black\"> to                    </font></mark><mark style=\"background-color: hsl(0, 75%, 100%); opacity:1.0;                     line-height:1.75\"><font color=\"black\"> 4.20                    </font></mark><mark style=\"background-color: hsl(120, 75%, 99%); opacity:1.0;                     line-height:1.75\"><font color=\"black\"> percent                    </font></mark><mark style=\"background-color: hsl(0, 75%, 100%); opacity:1.0;                     line-height:1.75\"><font color=\"black\"> from                    </font></mark><mark style=\"background-color: hsl(0, 75%, 97%); opacity:1.0;                     line-height:1.75\"><font color=\"black\"> 4.18                    </font></mark><mark style=\"background-color: hsl(0, 75%, 100%); opacity:1.0;                     line-height:1.75\"><font color=\"black\"> percent.                    </font></mark><mark style=\"background-color: hsl(0, 75%, 100%); opacity:1.0;                     line-height:1.75\"><font color=\"black\"> #/s                    </font></mark></td><tr></table>"
      ],
      "text/plain": [
       "<IPython.core.display.HTML object>"
      ]
     },
     "metadata": {},
     "output_type": "display_data"
    },
    {
     "name": "stderr",
     "output_type": "stream",
     "text": [
      "/home/user/anaconda3/envs/py38/lib/python3.9/site-packages/captum/attr/_core/lime.py:1088: UserWarning: Attempting to construct interpretable model with > 10000 features.This can be very slow or lead to OOM issues. Please provide a featuremask which groups input features to reduce the number of interpretablefeatures. \n",
      "  warnings.warn(\n"
     ]
    },
    {
     "name": "stdout",
     "output_type": "stream",
     "text": [
      "<IPython.core.display.HTML object>\n",
      "i: 38\n",
      "Raw review: ['Federal DOMA does not test the full faith and credit clause so much as the 9th and 10th Amendments to the Constitution.', 'DOMA as a congressional statute could not violate the Full Faith and Credit Clause of the Constitution.']\n",
      "GT target: 4.0\n",
      "pred_prob 3.4599828720092773\n"
     ]
    },
    {
     "name": "stderr",
     "output_type": "stream",
     "text": [
      "Lime attribution: 100%|███████████████████████████| 3/3 [02:15<00:00, 45.04s/it]\n"
     ]
    },
    {
     "name": "stdout",
     "output_type": "stream",
     "text": [
      "attribution took 148.031143 seconds\n",
      "before zeroing tensor([[[ 0.0000,  0.0000,  0.0000,  ...,  0.0000,  0.0000,  0.0000],\n",
      "         [ 0.0000,  0.0000,  0.0000,  ...,  0.0000,  0.0000,  0.0000],\n",
      "         [ 0.0000,  0.0000,  0.0000,  ...,  0.0000, -0.0007,  0.0000],\n",
      "         ...,\n",
      "         [ 0.0000,  0.0000,  0.0000,  ...,  0.0000,  0.0000,  0.0000],\n",
      "         [ 0.0000,  0.0000,  0.0000,  ...,  0.0000, -0.0006,  0.0000],\n",
      "         [ 0.0000,  0.0000,  0.0000,  ...,  0.0000,  0.0000,  0.0000]]])\n",
      "after zeroing tensor([[[ 0.0000,  0.0000,  0.0000,  ...,  0.0000,  0.0000,  0.0000],\n",
      "         [ 0.0000,  0.0000,  0.0000,  ...,  0.0000,  0.0000,  0.0000],\n",
      "         [ 0.0000,  0.0000,  0.0000,  ...,  0.0000, -0.0007,  0.0000],\n",
      "         ...,\n",
      "         [ 0.0000,  0.0000,  0.0000,  ...,  0.0000,  0.0000,  0.0000],\n",
      "         [ 0.0000,  0.0000,  0.0000,  ...,  0.0000, -0.0006,  0.0000],\n",
      "         [ 0.0000,  0.0000,  0.0000,  ...,  0.0000,  0.0000,  0.0000]]])\n",
      "word attr tensor([-2.4116e-01,  3.3419e-01, -2.2048e-01,  1.4260e-01,  1.2361e-02,\n",
      "         6.5537e-02,  8.1290e-02,  3.6606e-02, -1.2807e-01,  1.1783e-01,\n",
      "        -1.1306e-01, -4.2913e-02, -1.3507e-02,  5.3905e-02, -1.0003e-02,\n",
      "         1.9621e-02,  9.2133e-02,  1.3755e-01,  1.8070e-01, -2.8981e-02,\n",
      "        -4.6888e-02,  3.9286e-02,  7.0369e-02, -3.0572e-04,  1.7558e-01,\n",
      "         3.6035e-02, -2.2689e-02,  1.3149e-01, -2.4988e-02,  1.4204e-01,\n",
      "         3.5669e-01, -1.1792e-01, -1.0993e-02,  4.7891e-01,  9.9687e-02,\n",
      "         1.0768e-01, -6.3683e-02, -1.3675e-01,  6.2267e-02,  1.4405e-01,\n",
      "         3.4109e-03,  2.0762e-01,  9.8703e-02,  8.7052e-02,  8.0270e-02,\n",
      "         5.7317e-02, -7.8083e-02, -1.0567e-01, -1.8179e-01])\n",
      "conti attr [tensor(-0.2412), tensor(0.3342), tensor(-0.0779), tensor(0.0124), tensor(0.0655), tensor(0.0813), tensor(0.0366), tensor(-0.1281), tensor(0.1178), tensor(-0.1131), tensor(-0.0429), tensor(-0.0135), tensor(0.0539), tensor(-0.0100), tensor(0.0196), tensor(0.0921), tensor(0.3182), tensor(-0.0290), tensor(-0.0076), tensor(0.0704), tensor(-0.0003), tensor(0.1756), tensor(0.0133), tensor(0.1315), tensor(-0.0250), tensor(0.4987), tensor(-0.1179), tensor(-0.0110), tensor(0.4789), tensor(0.0997), tensor(0.1077), tensor(-0.0637), tensor(-0.1368), tensor(0.0623), tensor(0.1441), tensor(0.0034), tensor(0.2076), tensor(0.0987), tensor(0.0871), tensor(0.0803), tensor(0.0573), tensor(-0.1838), tensor(-0.1818)]\n",
      "detokenized ['<s>', 'Federal', 'DOM', 'A', 'does', 'not', 'test', 'the', 'full', 'faith', 'and', 'credit', 'clause', 'so', 'much', 'as', 'the', '9', 'th', 'and', '10', 'th', 'Amendments', 'to', 'the', 'Constitution', '.', '</s>', '</s>', 'DOM', 'A', 'as', 'a', 'congressional', 'statute', 'could', 'not', 'violate', 'the', 'Full', 'Faith', 'and', 'Credit', 'Clause', 'of', 'the', 'Constitution', '.', '</s>']\n",
      "len conti_raw 43\n",
      "conti_raw ['<s>', 'Federal', 'DOMA', 'does', 'not', 'test', 'the', 'full', 'faith', 'and', 'credit', 'clause', 'so', 'much', 'as', 'the', '9th', 'and', '10th', 'Amendments', 'to', 'the', 'Constitution.', '</s>', '</s>', 'DOMA', 'as', 'a', 'congressional', 'statute', 'could', 'not', 'violate', 'the', 'Full', 'Faith', 'and', 'Credit', 'Clause', 'of', 'the', 'Constitution.', '</s>']\n"
     ]
    },
    {
     "data": {
      "text/html": [
       "<table width: 100%><div style=\"border-top: 1px solid; margin-top: 5px;             padding-top: 5px; display: inline-block\"><b>Legend: </b><span style=\"display: inline-block; width: 10px; height: 10px;                 border: 1px solid; background-color:                 hsl(0, 75%, 60%)\"></span> Negative  <span style=\"display: inline-block; width: 10px; height: 10px;                 border: 1px solid; background-color:                 hsl(0, 75%, 100%)\"></span> Neutral  <span style=\"display: inline-block; width: 10px; height: 10px;                 border: 1px solid; background-color:                 hsl(120, 75%, 50%)\"></span> Positive  </div><tr><th>True Label</th><th>Predicted Label</th><th>Attribution Label</th><th>Attribution Score</th><th>Word Importance</th><tr><td><text style=\"padding-right:2em\"><b>Similar</b></text></td><td><text style=\"padding-right:2em\"><b>Similar (0.69)</b></text></td><td><text style=\"padding-right:2em\"><b>Similar</b></text></td><td><text style=\"padding-right:2em\"><b>2.06</b></text></td><td><mark style=\"background-color: hsl(0, 75%, 91%); opacity:1.0;                     line-height:1.75\"><font color=\"black\"> #s                    </font></mark><mark style=\"background-color: hsl(120, 75%, 84%); opacity:1.0;                     line-height:1.75\"><font color=\"black\"> Federal                    </font></mark><mark style=\"background-color: hsl(0, 75%, 97%); opacity:1.0;                     line-height:1.75\"><font color=\"black\"> DOMA                    </font></mark><mark style=\"background-color: hsl(120, 75%, 100%); opacity:1.0;                     line-height:1.75\"><font color=\"black\"> does                    </font></mark><mark style=\"background-color: hsl(120, 75%, 97%); opacity:1.0;                     line-height:1.75\"><font color=\"black\"> not                    </font></mark><mark style=\"background-color: hsl(120, 75%, 96%); opacity:1.0;                     line-height:1.75\"><font color=\"black\"> test                    </font></mark><mark style=\"background-color: hsl(120, 75%, 99%); opacity:1.0;                     line-height:1.75\"><font color=\"black\"> the                    </font></mark><mark style=\"background-color: hsl(0, 75%, 95%); opacity:1.0;                     line-height:1.75\"><font color=\"black\"> full                    </font></mark><mark style=\"background-color: hsl(120, 75%, 95%); opacity:1.0;                     line-height:1.75\"><font color=\"black\"> faith                    </font></mark><mark style=\"background-color: hsl(0, 75%, 96%); opacity:1.0;                     line-height:1.75\"><font color=\"black\"> and                    </font></mark><mark style=\"background-color: hsl(0, 75%, 99%); opacity:1.0;                     line-height:1.75\"><font color=\"black\"> credit                    </font></mark><mark style=\"background-color: hsl(0, 75%, 100%); opacity:1.0;                     line-height:1.75\"><font color=\"black\"> clause                    </font></mark><mark style=\"background-color: hsl(120, 75%, 98%); opacity:1.0;                     line-height:1.75\"><font color=\"black\"> so                    </font></mark><mark style=\"background-color: hsl(0, 75%, 100%); opacity:1.0;                     line-height:1.75\"><font color=\"black\"> much                    </font></mark><mark style=\"background-color: hsl(120, 75%, 100%); opacity:1.0;                     line-height:1.75\"><font color=\"black\"> as                    </font></mark><mark style=\"background-color: hsl(120, 75%, 96%); opacity:1.0;                     line-height:1.75\"><font color=\"black\"> the                    </font></mark><mark style=\"background-color: hsl(120, 75%, 85%); opacity:1.0;                     line-height:1.75\"><font color=\"black\"> 9th                    </font></mark><mark style=\"background-color: hsl(0, 75%, 99%); opacity:1.0;                     line-height:1.75\"><font color=\"black\"> and                    </font></mark><mark style=\"background-color: hsl(0, 75%, 100%); opacity:1.0;                     line-height:1.75\"><font color=\"black\"> 10th                    </font></mark><mark style=\"background-color: hsl(120, 75%, 97%); opacity:1.0;                     line-height:1.75\"><font color=\"black\"> Amendments                    </font></mark><mark style=\"background-color: hsl(0, 75%, 100%); opacity:1.0;                     line-height:1.75\"><font color=\"black\"> to                    </font></mark><mark style=\"background-color: hsl(120, 75%, 92%); opacity:1.0;                     line-height:1.75\"><font color=\"black\"> the                    </font></mark><mark style=\"background-color: hsl(120, 75%, 100%); opacity:1.0;                     line-height:1.75\"><font color=\"black\"> Constitution.                    </font></mark><mark style=\"background-color: hsl(120, 75%, 94%); opacity:1.0;                     line-height:1.75\"><font color=\"black\"> #/s                    </font></mark><mark style=\"background-color: hsl(0, 75%, 100%); opacity:1.0;                     line-height:1.75\"><font color=\"black\"> #/s                    </font></mark><mark style=\"background-color: hsl(120, 75%, 76%); opacity:1.0;                     line-height:1.75\"><font color=\"black\"> DOMA                    </font></mark><mark style=\"background-color: hsl(0, 75%, 96%); opacity:1.0;                     line-height:1.75\"><font color=\"black\"> as                    </font></mark><mark style=\"background-color: hsl(0, 75%, 100%); opacity:1.0;                     line-height:1.75\"><font color=\"black\"> a                    </font></mark><mark style=\"background-color: hsl(120, 75%, 77%); opacity:1.0;                     line-height:1.75\"><font color=\"black\"> congressional                    </font></mark><mark style=\"background-color: hsl(120, 75%, 96%); opacity:1.0;                     line-height:1.75\"><font color=\"black\"> statute                    </font></mark><mark style=\"background-color: hsl(120, 75%, 95%); opacity:1.0;                     line-height:1.75\"><font color=\"black\"> could                    </font></mark><mark style=\"background-color: hsl(0, 75%, 98%); opacity:1.0;                     line-height:1.75\"><font color=\"black\"> not                    </font></mark><mark style=\"background-color: hsl(0, 75%, 95%); opacity:1.0;                     line-height:1.75\"><font color=\"black\"> violate                    </font></mark><mark style=\"background-color: hsl(120, 75%, 97%); opacity:1.0;                     line-height:1.75\"><font color=\"black\"> the                    </font></mark><mark style=\"background-color: hsl(120, 75%, 93%); opacity:1.0;                     line-height:1.75\"><font color=\"black\"> Full                    </font></mark><mark style=\"background-color: hsl(120, 75%, 100%); opacity:1.0;                     line-height:1.75\"><font color=\"black\"> Faith                    </font></mark><mark style=\"background-color: hsl(120, 75%, 90%); opacity:1.0;                     line-height:1.75\"><font color=\"black\"> and                    </font></mark><mark style=\"background-color: hsl(120, 75%, 96%); opacity:1.0;                     line-height:1.75\"><font color=\"black\"> Credit                    </font></mark><mark style=\"background-color: hsl(120, 75%, 96%); opacity:1.0;                     line-height:1.75\"><font color=\"black\"> Clause                    </font></mark><mark style=\"background-color: hsl(120, 75%, 96%); opacity:1.0;                     line-height:1.75\"><font color=\"black\"> of                    </font></mark><mark style=\"background-color: hsl(120, 75%, 98%); opacity:1.0;                     line-height:1.75\"><font color=\"black\"> the                    </font></mark><mark style=\"background-color: hsl(0, 75%, 93%); opacity:1.0;                     line-height:1.75\"><font color=\"black\"> Constitution.                    </font></mark><mark style=\"background-color: hsl(0, 75%, 93%); opacity:1.0;                     line-height:1.75\"><font color=\"black\"> #/s                    </font></mark></td><tr></table>"
      ],
      "text/plain": [
       "<IPython.core.display.HTML object>"
      ]
     },
     "metadata": {},
     "output_type": "display_data"
    },
    {
     "name": "stderr",
     "output_type": "stream",
     "text": [
      "/home/user/anaconda3/envs/py38/lib/python3.9/site-packages/captum/attr/_core/lime.py:1088: UserWarning: Attempting to construct interpretable model with > 10000 features.This can be very slow or lead to OOM issues. Please provide a featuremask which groups input features to reduce the number of interpretablefeatures. \n",
      "  warnings.warn(\n"
     ]
    },
    {
     "name": "stdout",
     "output_type": "stream",
     "text": [
      "<IPython.core.display.HTML object>\n",
      "i: 39\n",
      "Raw review: ['I was invited in to pitch story ideas to Ron Moore at ST:TNG.', \"It's obviously possible for it to leave the field without harm - it occurred.\"]\n",
      "GT target: 0.0\n",
      "pred_prob 0.0472458079457283\n"
     ]
    },
    {
     "name": "stderr",
     "output_type": "stream",
     "text": [
      "Lime attribution: 100%|███████████████████████████| 3/3 [01:43<00:00, 34.47s/it]\n"
     ]
    },
    {
     "name": "stdout",
     "output_type": "stream",
     "text": [
      "attribution took 111.424768 seconds\n",
      "before zeroing tensor([[[0., 0., 0.,  ..., 0., 0., 0.],\n",
      "         [0., 0., 0.,  ..., 0., 0., 0.],\n",
      "         [0., 0., 0.,  ..., 0., 0., 0.],\n",
      "         ...,\n",
      "         [0., 0., 0.,  ..., 0., 0., 0.],\n",
      "         [0., 0., 0.,  ..., 0., 0., 0.],\n",
      "         [0., 0., 0.,  ..., 0., 0., 0.]]])\n",
      "after zeroing tensor([[[0., 0., 0.,  ..., 0., 0., 0.],\n",
      "         [0., 0., 0.,  ..., 0., 0., 0.],\n",
      "         [0., 0., 0.,  ..., 0., 0., 0.],\n",
      "         ...,\n",
      "         [0., 0., 0.,  ..., 0., 0., 0.],\n",
      "         [0., 0., 0.,  ..., 0., 0., 0.],\n",
      "         [0., 0., 0.,  ..., 0., 0., 0.]]])\n",
      "nan attri score\n",
      "word attr tensor([0., 0., 0., 0., 0., 0., 0., 0., 0., 0., 0., 0., 0., 0., 0., 0., 0., 0., 0., 0., 0., 0., 0., 0.,\n",
      "        0., 0., 0., 0., 0., 0., 0., 0., 0., 0., 0., 0., 0.])\n",
      "conti attr [tensor(0.), tensor(0.), tensor(0.), tensor(0.), tensor(0.), tensor(0.), tensor(0.), tensor(0.), tensor(0.), tensor(0.), tensor(0.), tensor(0.), tensor(0.), tensor(0.), tensor(0.), tensor(0.), tensor(0.), tensor(0.), tensor(0.), tensor(0.), tensor(0.), tensor(0.), tensor(0.), tensor(0.), tensor(0.), tensor(0.), tensor(0.), tensor(0.), tensor(0.), tensor(0.), tensor(0.)]\n",
      "detokenized ['<s>', 'I', 'was', 'invited', 'in', 'to', 'pitch', 'story', 'ideas', 'to', 'Ron', 'Moore', 'at', 'ST', ':', 'T', 'NG', '.', '</s>', '</s>', 'It', \"'s\", 'obviously', 'possible', 'for', 'it', 'to', 'leave', 'the', 'field', 'without', 'harm', '-', 'it', 'occurred', '.', '</s>']\n",
      "len conti_raw 31\n",
      "conti_raw ['<s>', 'I', 'was', 'invited', 'in', 'to', 'pitch', 'story', 'ideas', 'to', 'Ron', 'Moore', 'at', 'ST:TNG.', '</s>', '</s>', \"It's\", 'obviously', 'possible', 'for', 'it', 'to', 'leave', 'the', 'field', 'without', 'harm', '-', 'it', 'occurred.', '</s>']\n"
     ]
    },
    {
     "data": {
      "text/html": [
       "<table width: 100%><div style=\"border-top: 1px solid; margin-top: 5px;             padding-top: 5px; display: inline-block\"><b>Legend: </b><span style=\"display: inline-block; width: 10px; height: 10px;                 border: 1px solid; background-color:                 hsl(0, 75%, 60%)\"></span> Negative  <span style=\"display: inline-block; width: 10px; height: 10px;                 border: 1px solid; background-color:                 hsl(0, 75%, 100%)\"></span> Neutral  <span style=\"display: inline-block; width: 10px; height: 10px;                 border: 1px solid; background-color:                 hsl(120, 75%, 50%)\"></span> Positive  </div><tr><th>True Label</th><th>Predicted Label</th><th>Attribution Label</th><th>Attribution Score</th><th>Word Importance</th><tr><td><text style=\"padding-right:2em\"><b>Not Similar</b></text></td><td><text style=\"padding-right:2em\"><b>Not Similar (0.01)</b></text></td><td><text style=\"padding-right:2em\"><b>Not Similar</b></text></td><td><text style=\"padding-right:2em\"><b>nan</b></text></td><td><mark style=\"background-color: hsl(0, 75%, 100%); opacity:1.0;                     line-height:1.75\"><font color=\"black\"> #s                    </font></mark><mark style=\"background-color: hsl(0, 75%, 100%); opacity:1.0;                     line-height:1.75\"><font color=\"black\"> I                    </font></mark><mark style=\"background-color: hsl(0, 75%, 100%); opacity:1.0;                     line-height:1.75\"><font color=\"black\"> was                    </font></mark><mark style=\"background-color: hsl(0, 75%, 100%); opacity:1.0;                     line-height:1.75\"><font color=\"black\"> invited                    </font></mark><mark style=\"background-color: hsl(0, 75%, 100%); opacity:1.0;                     line-height:1.75\"><font color=\"black\"> in                    </font></mark><mark style=\"background-color: hsl(0, 75%, 100%); opacity:1.0;                     line-height:1.75\"><font color=\"black\"> to                    </font></mark><mark style=\"background-color: hsl(0, 75%, 100%); opacity:1.0;                     line-height:1.75\"><font color=\"black\"> pitch                    </font></mark><mark style=\"background-color: hsl(0, 75%, 100%); opacity:1.0;                     line-height:1.75\"><font color=\"black\"> story                    </font></mark><mark style=\"background-color: hsl(0, 75%, 100%); opacity:1.0;                     line-height:1.75\"><font color=\"black\"> ideas                    </font></mark><mark style=\"background-color: hsl(0, 75%, 100%); opacity:1.0;                     line-height:1.75\"><font color=\"black\"> to                    </font></mark><mark style=\"background-color: hsl(0, 75%, 100%); opacity:1.0;                     line-height:1.75\"><font color=\"black\"> Ron                    </font></mark><mark style=\"background-color: hsl(0, 75%, 100%); opacity:1.0;                     line-height:1.75\"><font color=\"black\"> Moore                    </font></mark><mark style=\"background-color: hsl(0, 75%, 100%); opacity:1.0;                     line-height:1.75\"><font color=\"black\"> at                    </font></mark><mark style=\"background-color: hsl(0, 75%, 100%); opacity:1.0;                     line-height:1.75\"><font color=\"black\"> ST:TNG.                    </font></mark><mark style=\"background-color: hsl(0, 75%, 100%); opacity:1.0;                     line-height:1.75\"><font color=\"black\"> #/s                    </font></mark><mark style=\"background-color: hsl(0, 75%, 100%); opacity:1.0;                     line-height:1.75\"><font color=\"black\"> #/s                    </font></mark><mark style=\"background-color: hsl(0, 75%, 100%); opacity:1.0;                     line-height:1.75\"><font color=\"black\"> It's                    </font></mark><mark style=\"background-color: hsl(0, 75%, 100%); opacity:1.0;                     line-height:1.75\"><font color=\"black\"> obviously                    </font></mark><mark style=\"background-color: hsl(0, 75%, 100%); opacity:1.0;                     line-height:1.75\"><font color=\"black\"> possible                    </font></mark><mark style=\"background-color: hsl(0, 75%, 100%); opacity:1.0;                     line-height:1.75\"><font color=\"black\"> for                    </font></mark><mark style=\"background-color: hsl(0, 75%, 100%); opacity:1.0;                     line-height:1.75\"><font color=\"black\"> it                    </font></mark><mark style=\"background-color: hsl(0, 75%, 100%); opacity:1.0;                     line-height:1.75\"><font color=\"black\"> to                    </font></mark><mark style=\"background-color: hsl(0, 75%, 100%); opacity:1.0;                     line-height:1.75\"><font color=\"black\"> leave                    </font></mark><mark style=\"background-color: hsl(0, 75%, 100%); opacity:1.0;                     line-height:1.75\"><font color=\"black\"> the                    </font></mark><mark style=\"background-color: hsl(0, 75%, 100%); opacity:1.0;                     line-height:1.75\"><font color=\"black\"> field                    </font></mark><mark style=\"background-color: hsl(0, 75%, 100%); opacity:1.0;                     line-height:1.75\"><font color=\"black\"> without                    </font></mark><mark style=\"background-color: hsl(0, 75%, 100%); opacity:1.0;                     line-height:1.75\"><font color=\"black\"> harm                    </font></mark><mark style=\"background-color: hsl(0, 75%, 100%); opacity:1.0;                     line-height:1.75\"><font color=\"black\"> -                    </font></mark><mark style=\"background-color: hsl(0, 75%, 100%); opacity:1.0;                     line-height:1.75\"><font color=\"black\"> it                    </font></mark><mark style=\"background-color: hsl(0, 75%, 100%); opacity:1.0;                     line-height:1.75\"><font color=\"black\"> occurred.                    </font></mark><mark style=\"background-color: hsl(0, 75%, 100%); opacity:1.0;                     line-height:1.75\"><font color=\"black\"> #/s                    </font></mark></td><tr></table>"
      ],
      "text/plain": [
       "<IPython.core.display.HTML object>"
      ]
     },
     "metadata": {},
     "output_type": "display_data"
    },
    {
     "name": "stderr",
     "output_type": "stream",
     "text": [
      "/home/user/anaconda3/envs/py38/lib/python3.9/site-packages/captum/attr/_core/lime.py:1088: UserWarning: Attempting to construct interpretable model with > 10000 features.This can be very slow or lead to OOM issues. Please provide a featuremask which groups input features to reduce the number of interpretablefeatures. \n",
      "  warnings.warn(\n"
     ]
    },
    {
     "name": "stdout",
     "output_type": "stream",
     "text": [
      "<IPython.core.display.HTML object>\n",
      "i: 40\n",
      "Raw review: ['INTEL TODAY disclosed details of its next-generation XScale processor for mobile phones and handheld devices here in San Jose.', 'Intel on Wednesday unveiled its next-generation processor for cell phones, PDAs, and other wireless devices.']\n",
      "GT target: 3.5999999046325684\n",
      "pred_prob 3.724987804889679\n"
     ]
    },
    {
     "name": "stderr",
     "output_type": "stream",
     "text": [
      "Lime attribution: 100%|███████████████████████████| 3/3 [02:15<00:00, 45.04s/it]\n"
     ]
    },
    {
     "name": "stdout",
     "output_type": "stream",
     "text": [
      "attribution took 148.035475 seconds\n",
      "before zeroing tensor([[[0.0000, 0.0000, 0.0000,  ..., 0.0000, 0.0000, 0.0000],\n",
      "         [0.0000, 0.0000, 0.0000,  ..., 0.0000, 0.0000, 0.0000],\n",
      "         [0.0000, 0.0000, 0.0000,  ..., 0.0000, 0.0000, 0.0000],\n",
      "         ...,\n",
      "         [0.0000, 0.0005, 0.0000,  ..., 0.0000, 0.0000, 0.0000],\n",
      "         [0.0000, 0.0000, 0.0004,  ..., 0.0000, 0.0000, 0.0000],\n",
      "         [0.0000, 0.0000, 0.0000,  ..., 0.0000, 0.0000, 0.0000]]])\n",
      "after zeroing tensor([[[0.0000, 0.0000, 0.0000,  ..., 0.0000, 0.0000, 0.0000],\n",
      "         [0.0000, 0.0000, 0.0000,  ..., 0.0000, 0.0000, 0.0000],\n",
      "         [0.0000, 0.0000, 0.0000,  ..., 0.0000, 0.0000, 0.0000],\n",
      "         ...,\n",
      "         [0.0000, 0.0005, 0.0000,  ..., 0.0000, 0.0000, 0.0000],\n",
      "         [0.0000, 0.0000, 0.0004,  ..., 0.0000, 0.0000, 0.0000],\n",
      "         [0.0000, 0.0000, 0.0000,  ..., 0.0000, 0.0000, 0.0000]]])\n",
      "word attr tensor([ 0.0363,  0.6443,  0.0785,  0.3137, -0.1318,  0.0760, -0.0216,  0.0564,\n",
      "        -0.0634, -0.0153,  0.1800,  0.1074, -0.1050,  0.1180, -0.0557, -0.1486,\n",
      "         0.1312, -0.0292, -0.0163,  0.1064, -0.0360,  0.2150,  0.0122, -0.0610,\n",
      "         0.1043,  0.0398,  0.0662,  0.2911,  0.0017,  0.0705,  0.0590, -0.0780,\n",
      "         0.0048, -0.0691, -0.0063,  0.0582, -0.1134, -0.0814, -0.1605,  0.0784,\n",
      "         0.0699,  0.0891,  0.1637,  0.1629,  0.1234,  0.0791,  0.0318,  0.0698,\n",
      "         0.0592])\n",
      "conti attr [tensor(0.0363), tensor(0.7229), tensor(0.3137), tensor(-0.1318), tensor(0.0760), tensor(-0.0216), tensor(0.0564), tensor(0.1013), tensor(0.0024), tensor(0.1180), tensor(-0.0557), tensor(-0.1486), tensor(0.1312), tensor(-0.0292), tensor(-0.0163), tensor(0.1064), tensor(-0.0360), tensor(0.2150), tensor(0.0122), tensor(0.0433), tensor(0.0398), tensor(0.0662), tensor(0.2911), tensor(0.0017), tensor(0.0705), tensor(0.0590), tensor(-0.0780), tensor(-0.0706), tensor(0.0582), tensor(-0.1134), tensor(-0.0814), tensor(-0.0821), tensor(0.3228), tensor(0.1629), tensor(0.1234), tensor(0.0791), tensor(0.1016), tensor(0.0592)]\n",
      "detokenized ['<s>', 'INT', 'EL', 'TODAY', 'disclosed', 'details', 'of', 'its', 'next', '-', 'generation', 'X', 'Scale', 'processor', 'for', 'mobile', 'phones', 'and', 'handheld', 'devices', 'here', 'in', 'San', 'Jose', '.', '</s>', '</s>', 'Intel', 'on', 'Wednesday', 'unveiled', 'its', 'next', '-', 'generation', 'processor', 'for', 'cell', 'phones', ',', 'PD', 'As', ',', 'and', 'other', 'wireless', 'devices', '.', '</s>']\n",
      "len conti_raw 38\n",
      "conti_raw ['<s>', 'INTEL', 'TODAY', 'disclosed', 'details', 'of', 'its', 'next-generation', 'XScale', 'processor', 'for', 'mobile', 'phones', 'and', 'handheld', 'devices', 'here', 'in', 'San', 'Jose.', '</s>', '</s>', 'Intel', 'on', 'Wednesday', 'unveiled', 'its', 'next-generation', 'processor', 'for', 'cell', 'phones,', 'PDAs,', 'and', 'other', 'wireless', 'devices.', '</s>']\n"
     ]
    },
    {
     "data": {
      "text/html": [
       "<table width: 100%><div style=\"border-top: 1px solid; margin-top: 5px;             padding-top: 5px; display: inline-block\"><b>Legend: </b><span style=\"display: inline-block; width: 10px; height: 10px;                 border: 1px solid; background-color:                 hsl(0, 75%, 60%)\"></span> Negative  <span style=\"display: inline-block; width: 10px; height: 10px;                 border: 1px solid; background-color:                 hsl(0, 75%, 100%)\"></span> Neutral  <span style=\"display: inline-block; width: 10px; height: 10px;                 border: 1px solid; background-color:                 hsl(120, 75%, 50%)\"></span> Positive  </div><tr><th>True Label</th><th>Predicted Label</th><th>Attribution Label</th><th>Attribution Score</th><th>Word Importance</th><tr><td><text style=\"padding-right:2em\"><b>Similar</b></text></td><td><text style=\"padding-right:2em\"><b>Similar (0.74)</b></text></td><td><text style=\"padding-right:2em\"><b>Similar</b></text></td><td><text style=\"padding-right:2em\"><b>2.51</b></text></td><td><mark style=\"background-color: hsl(120, 75%, 99%); opacity:1.0;                     line-height:1.75\"><font color=\"black\"> #s                    </font></mark><mark style=\"background-color: hsl(120, 75%, 64%); opacity:1.0;                     line-height:1.75\"><font color=\"black\"> INTEL                    </font></mark><mark style=\"background-color: hsl(120, 75%, 85%); opacity:1.0;                     line-height:1.75\"><font color=\"black\"> TODAY                    </font></mark><mark style=\"background-color: hsl(0, 75%, 95%); opacity:1.0;                     line-height:1.75\"><font color=\"black\"> disclosed                    </font></mark><mark style=\"background-color: hsl(120, 75%, 97%); opacity:1.0;                     line-height:1.75\"><font color=\"black\"> details                    </font></mark><mark style=\"background-color: hsl(0, 75%, 100%); opacity:1.0;                     line-height:1.75\"><font color=\"black\"> of                    </font></mark><mark style=\"background-color: hsl(120, 75%, 98%); opacity:1.0;                     line-height:1.75\"><font color=\"black\"> its                    </font></mark><mark style=\"background-color: hsl(120, 75%, 95%); opacity:1.0;                     line-height:1.75\"><font color=\"black\"> next-generation                    </font></mark><mark style=\"background-color: hsl(120, 75%, 100%); opacity:1.0;                     line-height:1.75\"><font color=\"black\"> XScale                    </font></mark><mark style=\"background-color: hsl(120, 75%, 95%); opacity:1.0;                     line-height:1.75\"><font color=\"black\"> processor                    </font></mark><mark style=\"background-color: hsl(0, 75%, 98%); opacity:1.0;                     line-height:1.75\"><font color=\"black\"> for                    </font></mark><mark style=\"background-color: hsl(0, 75%, 95%); opacity:1.0;                     line-height:1.75\"><font color=\"black\"> mobile                    </font></mark><mark style=\"background-color: hsl(120, 75%, 94%); opacity:1.0;                     line-height:1.75\"><font color=\"black\"> phones                    </font></mark><mark style=\"background-color: hsl(0, 75%, 99%); opacity:1.0;                     line-height:1.75\"><font color=\"black\"> and                    </font></mark><mark style=\"background-color: hsl(0, 75%, 100%); opacity:1.0;                     line-height:1.75\"><font color=\"black\"> handheld                    </font></mark><mark style=\"background-color: hsl(120, 75%, 95%); opacity:1.0;                     line-height:1.75\"><font color=\"black\"> devices                    </font></mark><mark style=\"background-color: hsl(0, 75%, 99%); opacity:1.0;                     line-height:1.75\"><font color=\"black\"> here                    </font></mark><mark style=\"background-color: hsl(120, 75%, 90%); opacity:1.0;                     line-height:1.75\"><font color=\"black\"> in                    </font></mark><mark style=\"background-color: hsl(120, 75%, 100%); opacity:1.0;                     line-height:1.75\"><font color=\"black\"> San                    </font></mark><mark style=\"background-color: hsl(120, 75%, 98%); opacity:1.0;                     line-height:1.75\"><font color=\"black\"> Jose.                    </font></mark><mark style=\"background-color: hsl(120, 75%, 99%); opacity:1.0;                     line-height:1.75\"><font color=\"black\"> #/s                    </font></mark><mark style=\"background-color: hsl(120, 75%, 97%); opacity:1.0;                     line-height:1.75\"><font color=\"black\"> #/s                    </font></mark><mark style=\"background-color: hsl(120, 75%, 86%); opacity:1.0;                     line-height:1.75\"><font color=\"black\"> Intel                    </font></mark><mark style=\"background-color: hsl(120, 75%, 100%); opacity:1.0;                     line-height:1.75\"><font color=\"black\"> on                    </font></mark><mark style=\"background-color: hsl(120, 75%, 97%); opacity:1.0;                     line-height:1.75\"><font color=\"black\"> Wednesday                    </font></mark><mark style=\"background-color: hsl(120, 75%, 98%); opacity:1.0;                     line-height:1.75\"><font color=\"black\"> unveiled                    </font></mark><mark style=\"background-color: hsl(0, 75%, 97%); opacity:1.0;                     line-height:1.75\"><font color=\"black\"> its                    </font></mark><mark style=\"background-color: hsl(0, 75%, 98%); opacity:1.0;                     line-height:1.75\"><font color=\"black\"> next-generation                    </font></mark><mark style=\"background-color: hsl(120, 75%, 98%); opacity:1.0;                     line-height:1.75\"><font color=\"black\"> processor                    </font></mark><mark style=\"background-color: hsl(0, 75%, 96%); opacity:1.0;                     line-height:1.75\"><font color=\"black\"> for                    </font></mark><mark style=\"background-color: hsl(0, 75%, 97%); opacity:1.0;                     line-height:1.75\"><font color=\"black\"> cell                    </font></mark><mark style=\"background-color: hsl(0, 75%, 97%); opacity:1.0;                     line-height:1.75\"><font color=\"black\"> phones,                    </font></mark><mark style=\"background-color: hsl(120, 75%, 84%); opacity:1.0;                     line-height:1.75\"><font color=\"black\"> PDAs,                    </font></mark><mark style=\"background-color: hsl(120, 75%, 92%); opacity:1.0;                     line-height:1.75\"><font color=\"black\"> and                    </font></mark><mark style=\"background-color: hsl(120, 75%, 94%); opacity:1.0;                     line-height:1.75\"><font color=\"black\"> other                    </font></mark><mark style=\"background-color: hsl(120, 75%, 97%); opacity:1.0;                     line-height:1.75\"><font color=\"black\"> wireless                    </font></mark><mark style=\"background-color: hsl(120, 75%, 95%); opacity:1.0;                     line-height:1.75\"><font color=\"black\"> devices.                    </font></mark><mark style=\"background-color: hsl(120, 75%, 98%); opacity:1.0;                     line-height:1.75\"><font color=\"black\"> #/s                    </font></mark></td><tr></table>"
      ],
      "text/plain": [
       "<IPython.core.display.HTML object>"
      ]
     },
     "metadata": {},
     "output_type": "display_data"
    },
    {
     "name": "stdout",
     "output_type": "stream",
     "text": [
      "<IPython.core.display.HTML object>\n",
      "i: 41\n",
      "Raw review: ['Like Chris said above, stars rotate to conserve their angular momentum.', \"Stars are rotating, but that's not the cause for their stability.\"]\n",
      "GT target: 3.4000000953674316\n"
     ]
    },
    {
     "name": "stderr",
     "output_type": "stream",
     "text": [
      "/home/user/anaconda3/envs/py38/lib/python3.9/site-packages/captum/attr/_core/lime.py:1088: UserWarning: Attempting to construct interpretable model with > 10000 features.This can be very slow or lead to OOM issues. Please provide a featuremask which groups input features to reduce the number of interpretablefeatures. \n",
      "  warnings.warn(\n"
     ]
    },
    {
     "name": "stdout",
     "output_type": "stream",
     "text": [
      "pred_prob 2.7909621596336365\n"
     ]
    },
    {
     "name": "stderr",
     "output_type": "stream",
     "text": [
      "Lime attribution: 100%|███████████████████████████| 3/3 [01:24<00:00, 28.13s/it]\n"
     ]
    },
    {
     "name": "stdout",
     "output_type": "stream",
     "text": [
      "attribution took 94.714758 seconds\n",
      "before zeroing tensor([[[ 0.0000e+00,  0.0000e+00,  0.0000e+00,  ...,  0.0000e+00,\n",
      "           0.0000e+00,  0.0000e+00],\n",
      "         [ 0.0000e+00,  0.0000e+00,  0.0000e+00,  ...,  0.0000e+00,\n",
      "           8.8062e-05,  0.0000e+00],\n",
      "         [ 0.0000e+00,  0.0000e+00,  0.0000e+00,  ...,  0.0000e+00,\n",
      "           0.0000e+00, -2.0319e-04],\n",
      "         ...,\n",
      "         [ 0.0000e+00,  0.0000e+00,  0.0000e+00,  ...,  0.0000e+00,\n",
      "           0.0000e+00,  0.0000e+00],\n",
      "         [ 0.0000e+00,  0.0000e+00,  0.0000e+00,  ...,  0.0000e+00,\n",
      "           0.0000e+00,  0.0000e+00],\n",
      "         [ 0.0000e+00,  0.0000e+00,  0.0000e+00,  ...,  1.2574e-03,\n",
      "           0.0000e+00,  0.0000e+00]]])\n",
      "after zeroing tensor([[[ 0.0000e+00,  0.0000e+00,  0.0000e+00,  ...,  0.0000e+00,\n",
      "           0.0000e+00,  0.0000e+00],\n",
      "         [ 0.0000e+00,  0.0000e+00,  0.0000e+00,  ...,  0.0000e+00,\n",
      "           8.8062e-05,  0.0000e+00],\n",
      "         [ 0.0000e+00,  0.0000e+00,  0.0000e+00,  ...,  0.0000e+00,\n",
      "           0.0000e+00, -2.0319e-04],\n",
      "         ...,\n",
      "         [ 0.0000e+00,  0.0000e+00,  0.0000e+00,  ...,  0.0000e+00,\n",
      "           0.0000e+00,  0.0000e+00],\n",
      "         [ 0.0000e+00,  0.0000e+00,  0.0000e+00,  ...,  0.0000e+00,\n",
      "           0.0000e+00,  0.0000e+00],\n",
      "         [ 0.0000e+00,  0.0000e+00,  0.0000e+00,  ...,  1.2574e-03,\n",
      "           0.0000e+00,  0.0000e+00]]])\n",
      "word attr tensor([ 0.0883,  0.0239,  0.1731, -0.1065,  0.1540, -0.0756,  0.1082,  0.3329,\n",
      "        -0.1522, -0.0937,  0.1307, -0.0543,  0.0221,  0.2739, -0.0402, -0.1059,\n",
      "         0.6890,  0.1153,  0.1362,  0.0556,  0.0508, -0.0563, -0.1453,  0.1492,\n",
      "        -0.1855, -0.1012,  0.1158,  0.1638,  0.0137, -0.0517, -0.1075])\n",
      "conti attr [tensor(0.0883), tensor(0.0239), tensor(0.1731), tensor(-0.1065), tensor(0.0783), tensor(0.1082), tensor(0.3329), tensor(-0.1522), tensor(-0.0937), tensor(0.1307), tensor(-0.0543), tensor(0.2960), tensor(-0.0402), tensor(-0.1059), tensor(0.6890), tensor(0.1153), tensor(0.1918), tensor(0.0508), tensor(-0.2016), tensor(0.1492), tensor(-0.1855), tensor(-0.1012), tensor(0.1158), tensor(0.1638), tensor(-0.0379), tensor(-0.1075)]\n",
      "detokenized ['<s>', 'Like', 'Chris', 'said', 'above', ',', 'stars', 'rotate', 'to', 'conserve', 'their', 'angular', 'momentum', '.', '</s>', '</s>', 'Stars', 'are', 'rotating', ',', 'but', 'that', \"'s\", 'not', 'the', 'cause', 'for', 'their', 'stability', '.', '</s>']\n",
      "len conti_raw 26\n",
      "conti_raw ['<s>', 'Like', 'Chris', 'said', 'above,', 'stars', 'rotate', 'to', 'conserve', 'their', 'angular', 'momentum.', '</s>', '</s>', 'Stars', 'are', 'rotating,', 'but', \"that's\", 'not', 'the', 'cause', 'for', 'their', 'stability.', '</s>']\n"
     ]
    },
    {
     "data": {
      "text/html": [
       "<table width: 100%><div style=\"border-top: 1px solid; margin-top: 5px;             padding-top: 5px; display: inline-block\"><b>Legend: </b><span style=\"display: inline-block; width: 10px; height: 10px;                 border: 1px solid; background-color:                 hsl(0, 75%, 60%)\"></span> Negative  <span style=\"display: inline-block; width: 10px; height: 10px;                 border: 1px solid; background-color:                 hsl(0, 75%, 100%)\"></span> Neutral  <span style=\"display: inline-block; width: 10px; height: 10px;                 border: 1px solid; background-color:                 hsl(120, 75%, 50%)\"></span> Positive  </div><tr><th>True Label</th><th>Predicted Label</th><th>Attribution Label</th><th>Attribution Score</th><th>Word Importance</th><tr><td><text style=\"padding-right:2em\"><b>Similar</b></text></td><td><text style=\"padding-right:2em\"><b>Similar (0.56)</b></text></td><td><text style=\"padding-right:2em\"><b>Similar</b></text></td><td><text style=\"padding-right:2em\"><b>1.52</b></text></td><td><mark style=\"background-color: hsl(120, 75%, 96%); opacity:1.0;                     line-height:1.75\"><font color=\"black\"> #s                    </font></mark><mark style=\"background-color: hsl(120, 75%, 99%); opacity:1.0;                     line-height:1.75\"><font color=\"black\"> Like                    </font></mark><mark style=\"background-color: hsl(120, 75%, 92%); opacity:1.0;                     line-height:1.75\"><font color=\"black\"> Chris                    </font></mark><mark style=\"background-color: hsl(0, 75%, 96%); opacity:1.0;                     line-height:1.75\"><font color=\"black\"> said                    </font></mark><mark style=\"background-color: hsl(120, 75%, 97%); opacity:1.0;                     line-height:1.75\"><font color=\"black\"> above,                    </font></mark><mark style=\"background-color: hsl(120, 75%, 95%); opacity:1.0;                     line-height:1.75\"><font color=\"black\"> stars                    </font></mark><mark style=\"background-color: hsl(120, 75%, 84%); opacity:1.0;                     line-height:1.75\"><font color=\"black\"> rotate                    </font></mark><mark style=\"background-color: hsl(0, 75%, 94%); opacity:1.0;                     line-height:1.75\"><font color=\"black\"> to                    </font></mark><mark style=\"background-color: hsl(0, 75%, 97%); opacity:1.0;                     line-height:1.75\"><font color=\"black\"> conserve                    </font></mark><mark style=\"background-color: hsl(120, 75%, 94%); opacity:1.0;                     line-height:1.75\"><font color=\"black\"> their                    </font></mark><mark style=\"background-color: hsl(0, 75%, 98%); opacity:1.0;                     line-height:1.75\"><font color=\"black\"> angular                    </font></mark><mark style=\"background-color: hsl(120, 75%, 86%); opacity:1.0;                     line-height:1.75\"><font color=\"black\"> momentum.                    </font></mark><mark style=\"background-color: hsl(0, 75%, 99%); opacity:1.0;                     line-height:1.75\"><font color=\"black\"> #/s                    </font></mark><mark style=\"background-color: hsl(0, 75%, 96%); opacity:1.0;                     line-height:1.75\"><font color=\"black\"> #/s                    </font></mark><mark style=\"background-color: hsl(120, 75%, 66%); opacity:1.0;                     line-height:1.75\"><font color=\"black\"> Stars                    </font></mark><mark style=\"background-color: hsl(120, 75%, 95%); opacity:1.0;                     line-height:1.75\"><font color=\"black\"> are                    </font></mark><mark style=\"background-color: hsl(120, 75%, 91%); opacity:1.0;                     line-height:1.75\"><font color=\"black\"> rotating,                    </font></mark><mark style=\"background-color: hsl(120, 75%, 98%); opacity:1.0;                     line-height:1.75\"><font color=\"black\"> but                    </font></mark><mark style=\"background-color: hsl(0, 75%, 92%); opacity:1.0;                     line-height:1.75\"><font color=\"black\"> that's                    </font></mark><mark style=\"background-color: hsl(120, 75%, 93%); opacity:1.0;                     line-height:1.75\"><font color=\"black\"> not                    </font></mark><mark style=\"background-color: hsl(0, 75%, 93%); opacity:1.0;                     line-height:1.75\"><font color=\"black\"> the                    </font></mark><mark style=\"background-color: hsl(0, 75%, 96%); opacity:1.0;                     line-height:1.75\"><font color=\"black\"> cause                    </font></mark><mark style=\"background-color: hsl(120, 75%, 95%); opacity:1.0;                     line-height:1.75\"><font color=\"black\"> for                    </font></mark><mark style=\"background-color: hsl(120, 75%, 92%); opacity:1.0;                     line-height:1.75\"><font color=\"black\"> their                    </font></mark><mark style=\"background-color: hsl(0, 75%, 99%); opacity:1.0;                     line-height:1.75\"><font color=\"black\"> stability.                    </font></mark><mark style=\"background-color: hsl(0, 75%, 96%); opacity:1.0;                     line-height:1.75\"><font color=\"black\"> #/s                    </font></mark></td><tr></table>"
      ],
      "text/plain": [
       "<IPython.core.display.HTML object>"
      ]
     },
     "metadata": {},
     "output_type": "display_data"
    },
    {
     "name": "stderr",
     "output_type": "stream",
     "text": [
      "/home/user/anaconda3/envs/py38/lib/python3.9/site-packages/captum/attr/_core/lime.py:1088: UserWarning: Attempting to construct interpretable model with > 10000 features.This can be very slow or lead to OOM issues. Please provide a featuremask which groups input features to reduce the number of interpretablefeatures. \n",
      "  warnings.warn(\n"
     ]
    },
    {
     "name": "stdout",
     "output_type": "stream",
     "text": [
      "<IPython.core.display.HTML object>\n",
      "i: 42\n",
      "Raw review: ['A lady with a yellow outfit is in the air above the bed in a yellow room.', 'A dog with a red leash still attached chases over the grass toward a tennis ball.']\n",
      "GT target: 0.0\n",
      "pred_prob 0.04631649237126112\n"
     ]
    },
    {
     "name": "stderr",
     "output_type": "stream",
     "text": [
      "Lime attribution: 100%|███████████████████████████| 3/3 [01:46<00:00, 35.58s/it]\n"
     ]
    },
    {
     "name": "stdout",
     "output_type": "stream",
     "text": [
      "attribution took 115.666697 seconds\n",
      "before zeroing tensor([[[0., 0., 0.,  ..., 0., 0., 0.],\n",
      "         [0., 0., 0.,  ..., 0., 0., 0.],\n",
      "         [0., 0., 0.,  ..., 0., 0., 0.],\n",
      "         ...,\n",
      "         [0., 0., 0.,  ..., 0., 0., 0.],\n",
      "         [0., 0., 0.,  ..., 0., 0., 0.],\n",
      "         [0., 0., 0.,  ..., 0., 0., 0.]]])\n",
      "after zeroing tensor([[[0., 0., 0.,  ..., 0., 0., 0.],\n",
      "         [0., 0., 0.,  ..., 0., 0., 0.],\n",
      "         [0., 0., 0.,  ..., 0., 0., 0.],\n",
      "         ...,\n",
      "         [0., 0., 0.,  ..., 0., 0., 0.],\n",
      "         [0., 0., 0.,  ..., 0., 0., 0.],\n",
      "         [0., 0., 0.,  ..., 0., 0., 0.]]])\n",
      "nan attri score\n",
      "word attr tensor([0., 0., 0., 0., 0., 0., 0., 0., 0., 0., 0., 0., 0., 0., 0., 0., 0., 0., 0., 0., 0., 0., 0., 0.,\n",
      "        0., 0., 0., 0., 0., 0., 0., 0., 0., 0., 0., 0., 0., 0., 0., 0.])\n",
      "conti attr [tensor(0.), tensor(0.), tensor(0.), tensor(0.), tensor(0.), tensor(0.), tensor(0.), tensor(0.), tensor(0.), tensor(0.), tensor(0.), tensor(0.), tensor(0.), tensor(0.), tensor(0.), tensor(0.), tensor(0.), tensor(0.), tensor(0.), tensor(0.), tensor(0.), tensor(0.), tensor(0.), tensor(0.), tensor(0.), tensor(0.), tensor(0.), tensor(0.), tensor(0.), tensor(0.), tensor(0.), tensor(0.), tensor(0.), tensor(0.), tensor(0.), tensor(0.), tensor(0.)]\n",
      "detokenized ['<s>', 'A', 'lady', 'with', 'a', 'yellow', 'outfit', 'is', 'in', 'the', 'air', 'above', 'the', 'bed', 'in', 'a', 'yellow', 'room', '.', '</s>', '</s>', 'A', 'dog', 'with', 'a', 'red', 'leash', 'still', 'attached', 'ch', 'ases', 'over', 'the', 'grass', 'toward', 'a', 'tennis', 'ball', '.', '</s>']\n",
      "len conti_raw 37\n",
      "conti_raw ['<s>', 'A', 'lady', 'with', 'a', 'yellow', 'outfit', 'is', 'in', 'the', 'air', 'above', 'the', 'bed', 'in', 'a', 'yellow', 'room.', '</s>', '</s>', 'A', 'dog', 'with', 'a', 'red', 'leash', 'still', 'attached', 'chases', 'over', 'the', 'grass', 'toward', 'a', 'tennis', 'ball.', '</s>']\n"
     ]
    },
    {
     "data": {
      "text/html": [
       "<table width: 100%><div style=\"border-top: 1px solid; margin-top: 5px;             padding-top: 5px; display: inline-block\"><b>Legend: </b><span style=\"display: inline-block; width: 10px; height: 10px;                 border: 1px solid; background-color:                 hsl(0, 75%, 60%)\"></span> Negative  <span style=\"display: inline-block; width: 10px; height: 10px;                 border: 1px solid; background-color:                 hsl(0, 75%, 100%)\"></span> Neutral  <span style=\"display: inline-block; width: 10px; height: 10px;                 border: 1px solid; background-color:                 hsl(120, 75%, 50%)\"></span> Positive  </div><tr><th>True Label</th><th>Predicted Label</th><th>Attribution Label</th><th>Attribution Score</th><th>Word Importance</th><tr><td><text style=\"padding-right:2em\"><b>Not Similar</b></text></td><td><text style=\"padding-right:2em\"><b>Not Similar (0.01)</b></text></td><td><text style=\"padding-right:2em\"><b>Not Similar</b></text></td><td><text style=\"padding-right:2em\"><b>nan</b></text></td><td><mark style=\"background-color: hsl(0, 75%, 100%); opacity:1.0;                     line-height:1.75\"><font color=\"black\"> #s                    </font></mark><mark style=\"background-color: hsl(0, 75%, 100%); opacity:1.0;                     line-height:1.75\"><font color=\"black\"> A                    </font></mark><mark style=\"background-color: hsl(0, 75%, 100%); opacity:1.0;                     line-height:1.75\"><font color=\"black\"> lady                    </font></mark><mark style=\"background-color: hsl(0, 75%, 100%); opacity:1.0;                     line-height:1.75\"><font color=\"black\"> with                    </font></mark><mark style=\"background-color: hsl(0, 75%, 100%); opacity:1.0;                     line-height:1.75\"><font color=\"black\"> a                    </font></mark><mark style=\"background-color: hsl(0, 75%, 100%); opacity:1.0;                     line-height:1.75\"><font color=\"black\"> yellow                    </font></mark><mark style=\"background-color: hsl(0, 75%, 100%); opacity:1.0;                     line-height:1.75\"><font color=\"black\"> outfit                    </font></mark><mark style=\"background-color: hsl(0, 75%, 100%); opacity:1.0;                     line-height:1.75\"><font color=\"black\"> is                    </font></mark><mark style=\"background-color: hsl(0, 75%, 100%); opacity:1.0;                     line-height:1.75\"><font color=\"black\"> in                    </font></mark><mark style=\"background-color: hsl(0, 75%, 100%); opacity:1.0;                     line-height:1.75\"><font color=\"black\"> the                    </font></mark><mark style=\"background-color: hsl(0, 75%, 100%); opacity:1.0;                     line-height:1.75\"><font color=\"black\"> air                    </font></mark><mark style=\"background-color: hsl(0, 75%, 100%); opacity:1.0;                     line-height:1.75\"><font color=\"black\"> above                    </font></mark><mark style=\"background-color: hsl(0, 75%, 100%); opacity:1.0;                     line-height:1.75\"><font color=\"black\"> the                    </font></mark><mark style=\"background-color: hsl(0, 75%, 100%); opacity:1.0;                     line-height:1.75\"><font color=\"black\"> bed                    </font></mark><mark style=\"background-color: hsl(0, 75%, 100%); opacity:1.0;                     line-height:1.75\"><font color=\"black\"> in                    </font></mark><mark style=\"background-color: hsl(0, 75%, 100%); opacity:1.0;                     line-height:1.75\"><font color=\"black\"> a                    </font></mark><mark style=\"background-color: hsl(0, 75%, 100%); opacity:1.0;                     line-height:1.75\"><font color=\"black\"> yellow                    </font></mark><mark style=\"background-color: hsl(0, 75%, 100%); opacity:1.0;                     line-height:1.75\"><font color=\"black\"> room.                    </font></mark><mark style=\"background-color: hsl(0, 75%, 100%); opacity:1.0;                     line-height:1.75\"><font color=\"black\"> #/s                    </font></mark><mark style=\"background-color: hsl(0, 75%, 100%); opacity:1.0;                     line-height:1.75\"><font color=\"black\"> #/s                    </font></mark><mark style=\"background-color: hsl(0, 75%, 100%); opacity:1.0;                     line-height:1.75\"><font color=\"black\"> A                    </font></mark><mark style=\"background-color: hsl(0, 75%, 100%); opacity:1.0;                     line-height:1.75\"><font color=\"black\"> dog                    </font></mark><mark style=\"background-color: hsl(0, 75%, 100%); opacity:1.0;                     line-height:1.75\"><font color=\"black\"> with                    </font></mark><mark style=\"background-color: hsl(0, 75%, 100%); opacity:1.0;                     line-height:1.75\"><font color=\"black\"> a                    </font></mark><mark style=\"background-color: hsl(0, 75%, 100%); opacity:1.0;                     line-height:1.75\"><font color=\"black\"> red                    </font></mark><mark style=\"background-color: hsl(0, 75%, 100%); opacity:1.0;                     line-height:1.75\"><font color=\"black\"> leash                    </font></mark><mark style=\"background-color: hsl(0, 75%, 100%); opacity:1.0;                     line-height:1.75\"><font color=\"black\"> still                    </font></mark><mark style=\"background-color: hsl(0, 75%, 100%); opacity:1.0;                     line-height:1.75\"><font color=\"black\"> attached                    </font></mark><mark style=\"background-color: hsl(0, 75%, 100%); opacity:1.0;                     line-height:1.75\"><font color=\"black\"> chases                    </font></mark><mark style=\"background-color: hsl(0, 75%, 100%); opacity:1.0;                     line-height:1.75\"><font color=\"black\"> over                    </font></mark><mark style=\"background-color: hsl(0, 75%, 100%); opacity:1.0;                     line-height:1.75\"><font color=\"black\"> the                    </font></mark><mark style=\"background-color: hsl(0, 75%, 100%); opacity:1.0;                     line-height:1.75\"><font color=\"black\"> grass                    </font></mark><mark style=\"background-color: hsl(0, 75%, 100%); opacity:1.0;                     line-height:1.75\"><font color=\"black\"> toward                    </font></mark><mark style=\"background-color: hsl(0, 75%, 100%); opacity:1.0;                     line-height:1.75\"><font color=\"black\"> a                    </font></mark><mark style=\"background-color: hsl(0, 75%, 100%); opacity:1.0;                     line-height:1.75\"><font color=\"black\"> tennis                    </font></mark><mark style=\"background-color: hsl(0, 75%, 100%); opacity:1.0;                     line-height:1.75\"><font color=\"black\"> ball.                    </font></mark><mark style=\"background-color: hsl(0, 75%, 100%); opacity:1.0;                     line-height:1.75\"><font color=\"black\"> #/s                    </font></mark></td><tr></table>"
      ],
      "text/plain": [
       "<IPython.core.display.HTML object>"
      ]
     },
     "metadata": {},
     "output_type": "display_data"
    },
    {
     "name": "stderr",
     "output_type": "stream",
     "text": [
      "/home/user/anaconda3/envs/py38/lib/python3.9/site-packages/captum/attr/_core/lime.py:1088: UserWarning: Attempting to construct interpretable model with > 10000 features.This can be very slow or lead to OOM issues. Please provide a featuremask which groups input features to reduce the number of interpretablefeatures. \n",
      "  warnings.warn(\n"
     ]
    },
    {
     "name": "stdout",
     "output_type": "stream",
     "text": [
      "<IPython.core.display.HTML object>\n",
      "i: 43\n",
      "Raw review: ['A woman is adding oil on fishes.', 'The woman is cutting potatoes.']\n",
      "GT target: 0.6000000238418579\n",
      "pred_prob 1.113269180059433\n"
     ]
    },
    {
     "name": "stderr",
     "output_type": "stream",
     "text": [
      "Lime attribution: 100%|███████████████████████████| 3/3 [00:44<00:00, 14.75s/it]\n"
     ]
    },
    {
     "name": "stdout",
     "output_type": "stream",
     "text": [
      "attribution took 47.899700 seconds\n",
      "before zeroing tensor([[[0., 0., 0.,  ..., 0., 0., 0.],\n",
      "         [0., 0., 0.,  ..., 0., 0., 0.],\n",
      "         [0., 0., 0.,  ..., 0., 0., 0.],\n",
      "         ...,\n",
      "         [0., 0., 0.,  ..., 0., 0., 0.],\n",
      "         [0., 0., 0.,  ..., 0., 0., 0.],\n",
      "         [0., 0., 0.,  ..., 0., 0., 0.]]])\n",
      "after zeroing tensor([[[0., 0., 0.,  ..., 0., 0., 0.],\n",
      "         [0., 0., 0.,  ..., 0., 0., 0.],\n",
      "         [0., 0., 0.,  ..., 0., 0., 0.],\n",
      "         ...,\n",
      "         [0., 0., 0.,  ..., 0., 0., 0.],\n",
      "         [0., 0., 0.,  ..., 0., 0., 0.],\n",
      "         [0., 0., 0.,  ..., 0., 0., 0.]]])\n",
      "word attr tensor([-0.0480,  0.2854,  0.0030,  0.0368,  0.4369,  0.0656,  0.5022, -0.0450,\n",
      "        -0.1141,  0.0022, -0.1246, -0.0070, -0.1189, -0.0816,  0.5856,  0.1777,\n",
      "        -0.0946,  0.1803])\n",
      "conti attr [tensor(-0.0480), tensor(0.2854), tensor(0.0030), tensor(0.0368), tensor(0.4369), tensor(0.0656), tensor(0.5022), tensor(-0.1591), tensor(0.0022), tensor(-0.1246), tensor(-0.0070), tensor(-0.1189), tensor(-0.0816), tensor(0.5856), tensor(0.0832), tensor(0.1803)]\n",
      "detokenized ['<s>', 'A', 'woman', 'is', 'adding', 'oil', 'on', 'fishes', '.', '</s>', '</s>', 'The', 'woman', 'is', 'cutting', 'potatoes', '.', '</s>']\n",
      "len conti_raw 16\n",
      "conti_raw ['<s>', 'A', 'woman', 'is', 'adding', 'oil', 'on', 'fishes.', '</s>', '</s>', 'The', 'woman', 'is', 'cutting', 'potatoes.', '</s>']\n"
     ]
    },
    {
     "data": {
      "text/html": [
       "<table width: 100%><div style=\"border-top: 1px solid; margin-top: 5px;             padding-top: 5px; display: inline-block\"><b>Legend: </b><span style=\"display: inline-block; width: 10px; height: 10px;                 border: 1px solid; background-color:                 hsl(0, 75%, 60%)\"></span> Negative  <span style=\"display: inline-block; width: 10px; height: 10px;                 border: 1px solid; background-color:                 hsl(0, 75%, 100%)\"></span> Neutral  <span style=\"display: inline-block; width: 10px; height: 10px;                 border: 1px solid; background-color:                 hsl(120, 75%, 50%)\"></span> Positive  </div><tr><th>True Label</th><th>Predicted Label</th><th>Attribution Label</th><th>Attribution Score</th><th>Word Importance</th><tr><td><text style=\"padding-right:2em\"><b>Not Similar</b></text></td><td><text style=\"padding-right:2em\"><b>Not Similar (0.22)</b></text></td><td><text style=\"padding-right:2em\"><b>Similar</b></text></td><td><text style=\"padding-right:2em\"><b>1.64</b></text></td><td><mark style=\"background-color: hsl(0, 75%, 99%); opacity:1.0;                     line-height:1.75\"><font color=\"black\"> #s                    </font></mark><mark style=\"background-color: hsl(120, 75%, 86%); opacity:1.0;                     line-height:1.75\"><font color=\"black\"> A                    </font></mark><mark style=\"background-color: hsl(120, 75%, 100%); opacity:1.0;                     line-height:1.75\"><font color=\"black\"> woman                    </font></mark><mark style=\"background-color: hsl(120, 75%, 99%); opacity:1.0;                     line-height:1.75\"><font color=\"black\"> is                    </font></mark><mark style=\"background-color: hsl(120, 75%, 79%); opacity:1.0;                     line-height:1.75\"><font color=\"black\"> adding                    </font></mark><mark style=\"background-color: hsl(120, 75%, 97%); opacity:1.0;                     line-height:1.75\"><font color=\"black\"> oil                    </font></mark><mark style=\"background-color: hsl(120, 75%, 75%); opacity:1.0;                     line-height:1.75\"><font color=\"black\"> on                    </font></mark><mark style=\"background-color: hsl(0, 75%, 94%); opacity:1.0;                     line-height:1.75\"><font color=\"black\"> fishes.                    </font></mark><mark style=\"background-color: hsl(120, 75%, 100%); opacity:1.0;                     line-height:1.75\"><font color=\"black\"> #/s                    </font></mark><mark style=\"background-color: hsl(0, 75%, 96%); opacity:1.0;                     line-height:1.75\"><font color=\"black\"> #/s                    </font></mark><mark style=\"background-color: hsl(0, 75%, 100%); opacity:1.0;                     line-height:1.75\"><font color=\"black\"> The                    </font></mark><mark style=\"background-color: hsl(0, 75%, 96%); opacity:1.0;                     line-height:1.75\"><font color=\"black\"> woman                    </font></mark><mark style=\"background-color: hsl(0, 75%, 97%); opacity:1.0;                     line-height:1.75\"><font color=\"black\"> is                    </font></mark><mark style=\"background-color: hsl(120, 75%, 71%); opacity:1.0;                     line-height:1.75\"><font color=\"black\"> cutting                    </font></mark><mark style=\"background-color: hsl(120, 75%, 96%); opacity:1.0;                     line-height:1.75\"><font color=\"black\"> potatoes.                    </font></mark><mark style=\"background-color: hsl(120, 75%, 91%); opacity:1.0;                     line-height:1.75\"><font color=\"black\"> #/s                    </font></mark></td><tr></table>"
      ],
      "text/plain": [
       "<IPython.core.display.HTML object>"
      ]
     },
     "metadata": {},
     "output_type": "display_data"
    },
    {
     "name": "stderr",
     "output_type": "stream",
     "text": [
      "/home/user/anaconda3/envs/py38/lib/python3.9/site-packages/captum/attr/_core/lime.py:1088: UserWarning: Attempting to construct interpretable model with > 10000 features.This can be very slow or lead to OOM issues. Please provide a featuremask which groups input features to reduce the number of interpretablefeatures. \n",
      "  warnings.warn(\n"
     ]
    },
    {
     "name": "stdout",
     "output_type": "stream",
     "text": [
      "<IPython.core.display.HTML object>\n",
      "i: 44\n",
      "Raw review: ['Train going down the tracks.', 'A black steam train traveling on the railroad tracks.']\n",
      "GT target: 3.799999952316284\n",
      "pred_prob 3.3534544706344604\n"
     ]
    },
    {
     "name": "stderr",
     "output_type": "stream",
     "text": [
      "Lime attribution: 100%|███████████████████████████| 3/3 [00:49<00:00, 16.57s/it]\n"
     ]
    },
    {
     "name": "stdout",
     "output_type": "stream",
     "text": [
      "attribution took 55.332500 seconds\n",
      "before zeroing tensor([[[ 0.0000e+00,  0.0000e+00,  1.0094e-05,  ...,  0.0000e+00,\n",
      "           0.0000e+00,  0.0000e+00],\n",
      "         [ 0.0000e+00,  0.0000e+00,  0.0000e+00,  ...,  4.5893e-04,\n",
      "           0.0000e+00,  0.0000e+00],\n",
      "         [ 0.0000e+00,  0.0000e+00,  0.0000e+00,  ...,  0.0000e+00,\n",
      "           0.0000e+00,  0.0000e+00],\n",
      "         ...,\n",
      "         [ 0.0000e+00,  0.0000e+00,  0.0000e+00,  ...,  0.0000e+00,\n",
      "           0.0000e+00,  0.0000e+00],\n",
      "         [ 0.0000e+00,  0.0000e+00,  0.0000e+00,  ...,  0.0000e+00,\n",
      "           0.0000e+00,  0.0000e+00],\n",
      "         [ 0.0000e+00,  0.0000e+00,  0.0000e+00,  ...,  0.0000e+00,\n",
      "           0.0000e+00, -4.8297e-04]]])\n",
      "after zeroing tensor([[[ 0.0000e+00,  0.0000e+00,  1.0094e-05,  ...,  0.0000e+00,\n",
      "           0.0000e+00,  0.0000e+00],\n",
      "         [ 0.0000e+00,  0.0000e+00,  0.0000e+00,  ...,  4.5893e-04,\n",
      "           0.0000e+00,  0.0000e+00],\n",
      "         [ 0.0000e+00,  0.0000e+00,  0.0000e+00,  ...,  0.0000e+00,\n",
      "           0.0000e+00,  0.0000e+00],\n",
      "         ...,\n",
      "         [ 0.0000e+00,  0.0000e+00,  0.0000e+00,  ...,  0.0000e+00,\n",
      "           0.0000e+00,  0.0000e+00],\n",
      "         [ 0.0000e+00,  0.0000e+00,  0.0000e+00,  ...,  0.0000e+00,\n",
      "           0.0000e+00,  0.0000e+00],\n",
      "         [ 0.0000e+00,  0.0000e+00,  0.0000e+00,  ...,  0.0000e+00,\n",
      "           0.0000e+00, -4.8297e-04]]])\n",
      "word attr tensor([ 0.0728,  0.9240,  0.1829,  0.0043, -0.0020,  0.0350,  0.1739, -0.1312,\n",
      "         0.1225, -0.0834, -0.0659,  0.0722, -0.0032, -0.0407,  0.0145, -0.0443,\n",
      "         0.0478, -0.0086, -0.1433,  0.0215])\n",
      "conti attr [tensor(0.0728), tensor(0.9240), tensor(0.1829), tensor(0.0043), tensor(-0.0020), tensor(0.2090), tensor(-0.1312), tensor(0.1225), tensor(-0.0834), tensor(-0.0659), tensor(0.0722), tensor(-0.0032), tensor(-0.0407), tensor(0.0145), tensor(-0.0443), tensor(0.0478), tensor(-0.1519), tensor(0.0215)]\n",
      "detokenized ['<s>', 'Train', 'going', 'down', 'the', 'tracks', '.', '</s>', '</s>', 'A', 'black', 'steam', 'train', 'traveling', 'on', 'the', 'railroad', 'tracks', '.', '</s>']\n",
      "len conti_raw 18\n",
      "conti_raw ['<s>', 'Train', 'going', 'down', 'the', 'tracks.', '</s>', '</s>', 'A', 'black', 'steam', 'train', 'traveling', 'on', 'the', 'railroad', 'tracks.', '</s>']\n"
     ]
    },
    {
     "data": {
      "text/html": [
       "<table width: 100%><div style=\"border-top: 1px solid; margin-top: 5px;             padding-top: 5px; display: inline-block\"><b>Legend: </b><span style=\"display: inline-block; width: 10px; height: 10px;                 border: 1px solid; background-color:                 hsl(0, 75%, 60%)\"></span> Negative  <span style=\"display: inline-block; width: 10px; height: 10px;                 border: 1px solid; background-color:                 hsl(0, 75%, 100%)\"></span> Neutral  <span style=\"display: inline-block; width: 10px; height: 10px;                 border: 1px solid; background-color:                 hsl(120, 75%, 50%)\"></span> Positive  </div><tr><th>True Label</th><th>Predicted Label</th><th>Attribution Label</th><th>Attribution Score</th><th>Word Importance</th><tr><td><text style=\"padding-right:2em\"><b>Similar</b></text></td><td><text style=\"padding-right:2em\"><b>Similar (0.67)</b></text></td><td><text style=\"padding-right:2em\"><b>Similar</b></text></td><td><text style=\"padding-right:2em\"><b>1.15</b></text></td><td><mark style=\"background-color: hsl(120, 75%, 97%); opacity:1.0;                     line-height:1.75\"><font color=\"black\"> #s                    </font></mark><mark style=\"background-color: hsl(120, 75%, 54%); opacity:1.0;                     line-height:1.75\"><font color=\"black\"> Train                    </font></mark><mark style=\"background-color: hsl(120, 75%, 91%); opacity:1.0;                     line-height:1.75\"><font color=\"black\"> going                    </font></mark><mark style=\"background-color: hsl(120, 75%, 100%); opacity:1.0;                     line-height:1.75\"><font color=\"black\"> down                    </font></mark><mark style=\"background-color: hsl(0, 75%, 100%); opacity:1.0;                     line-height:1.75\"><font color=\"black\"> the                    </font></mark><mark style=\"background-color: hsl(120, 75%, 90%); opacity:1.0;                     line-height:1.75\"><font color=\"black\"> tracks.                    </font></mark><mark style=\"background-color: hsl(0, 75%, 95%); opacity:1.0;                     line-height:1.75\"><font color=\"black\"> #/s                    </font></mark><mark style=\"background-color: hsl(120, 75%, 94%); opacity:1.0;                     line-height:1.75\"><font color=\"black\"> #/s                    </font></mark><mark style=\"background-color: hsl(0, 75%, 97%); opacity:1.0;                     line-height:1.75\"><font color=\"black\"> A                    </font></mark><mark style=\"background-color: hsl(0, 75%, 98%); opacity:1.0;                     line-height:1.75\"><font color=\"black\"> black                    </font></mark><mark style=\"background-color: hsl(120, 75%, 97%); opacity:1.0;                     line-height:1.75\"><font color=\"black\"> steam                    </font></mark><mark style=\"background-color: hsl(0, 75%, 100%); opacity:1.0;                     line-height:1.75\"><font color=\"black\"> train                    </font></mark><mark style=\"background-color: hsl(0, 75%, 99%); opacity:1.0;                     line-height:1.75\"><font color=\"black\"> traveling                    </font></mark><mark style=\"background-color: hsl(120, 75%, 100%); opacity:1.0;                     line-height:1.75\"><font color=\"black\"> on                    </font></mark><mark style=\"background-color: hsl(0, 75%, 99%); opacity:1.0;                     line-height:1.75\"><font color=\"black\"> the                    </font></mark><mark style=\"background-color: hsl(120, 75%, 98%); opacity:1.0;                     line-height:1.75\"><font color=\"black\"> railroad                    </font></mark><mark style=\"background-color: hsl(0, 75%, 94%); opacity:1.0;                     line-height:1.75\"><font color=\"black\"> tracks.                    </font></mark><mark style=\"background-color: hsl(120, 75%, 99%); opacity:1.0;                     line-height:1.75\"><font color=\"black\"> #/s                    </font></mark></td><tr></table>"
      ],
      "text/plain": [
       "<IPython.core.display.HTML object>"
      ]
     },
     "metadata": {},
     "output_type": "display_data"
    },
    {
     "name": "stdout",
     "output_type": "stream",
     "text": [
      "<IPython.core.display.HTML object>\n",
      "i: 45\n",
      "Raw review: ['According to Shia Muslims specially Iran state and Hezbollah a country called Israel does not exist.', 'As with the definition of Palestine, the definition of Israel varies depending on whom you ask.']\n",
      "GT target: 3.200000047683716\n"
     ]
    },
    {
     "name": "stderr",
     "output_type": "stream",
     "text": [
      "/home/user/anaconda3/envs/py38/lib/python3.9/site-packages/captum/attr/_core/lime.py:1088: UserWarning: Attempting to construct interpretable model with > 10000 features.This can be very slow or lead to OOM issues. Please provide a featuremask which groups input features to reduce the number of interpretablefeatures. \n",
      "  warnings.warn(\n"
     ]
    },
    {
     "name": "stdout",
     "output_type": "stream",
     "text": [
      "pred_prob 1.4565475285053253\n"
     ]
    },
    {
     "name": "stderr",
     "output_type": "stream",
     "text": [
      "Lime attribution: 100%|███████████████████████████| 3/3 [01:49<00:00, 36.54s/it]\n"
     ]
    },
    {
     "name": "stdout",
     "output_type": "stream",
     "text": [
      "attribution took 120.122767 seconds\n",
      "before zeroing tensor([[[0.0000, 0.0000, 0.0000,  ..., 0.0000, 0.0000, 0.0000],\n",
      "         [0.0000, 0.0000, 0.0000,  ..., 0.0000, 0.0000, 0.0000],\n",
      "         [0.0000, 0.0000, 0.0006,  ..., 0.0000, 0.0000, 0.0000],\n",
      "         ...,\n",
      "         [0.0000, 0.0000, 0.0000,  ..., 0.0000, 0.0000, 0.0000],\n",
      "         [0.0000, 0.0015, 0.0000,  ..., 0.0000, 0.0000, 0.0000],\n",
      "         [0.0000, 0.0000, 0.0000,  ..., 0.0000, 0.0000, 0.0000]]])\n",
      "after zeroing tensor([[[0.0000, 0.0000, 0.0000,  ..., 0.0000, 0.0000, 0.0000],\n",
      "         [0.0000, 0.0000, 0.0000,  ..., 0.0000, 0.0000, 0.0000],\n",
      "         [0.0000, 0.0000, 0.0006,  ..., 0.0000, 0.0000, 0.0000],\n",
      "         ...,\n",
      "         [0.0000, 0.0000, 0.0000,  ..., 0.0000, 0.0000, 0.0000],\n",
      "         [0.0000, 0.0015, 0.0000,  ..., 0.0000, 0.0000, 0.0000],\n",
      "         [0.0000, 0.0000, 0.0000,  ..., 0.0000, 0.0000, 0.0000]]])\n",
      "word attr tensor([-0.1653, -0.0665, -0.0716,  0.3106, -0.3209,  0.1067, -0.1671, -0.0066,\n",
      "        -0.0291,  0.1071,  0.0609, -0.1308,  0.2924,  0.1410,  0.1033, -0.0088,\n",
      "         0.0024,  0.0442, -0.1931, -0.1010,  0.0901,  0.1033,  0.0436, -0.0803,\n",
      "         0.0333,  0.4122, -0.0188, -0.3132,  0.0045, -0.0481,  0.0796,  0.2974,\n",
      "        -0.1144, -0.1675,  0.0833,  0.1580,  0.1453,  0.0727,  0.1803])\n",
      "conti attr [tensor(-0.1653), tensor(-0.0665), tensor(-0.0716), tensor(0.3106), tensor(-0.3209), tensor(0.1067), tensor(-0.1671), tensor(-0.0066), tensor(-0.0291), tensor(0.1071), tensor(0.0609), tensor(-0.1308), tensor(0.2924), tensor(0.1410), tensor(0.1033), tensor(-0.0088), tensor(0.0467), tensor(-0.1931), tensor(-0.1010), tensor(0.0901), tensor(0.1033), tensor(0.0436), tensor(-0.0803), tensor(0.0333), tensor(0.3934), tensor(-0.3132), tensor(0.0045), tensor(-0.0481), tensor(0.0796), tensor(0.2974), tensor(-0.1144), tensor(-0.1675), tensor(0.0833), tensor(0.1580), tensor(0.2180), tensor(0.1803)]\n",
      "detokenized ['<s>', 'According', 'to', 'Shia', 'Muslims', 'specially', 'Iran', 'state', 'and', 'Hezbollah', 'a', 'country', 'called', 'Israel', 'does', 'not', 'exist', '.', '</s>', '</s>', 'As', 'with', 'the', 'definition', 'of', 'Palestine', ',', 'the', 'definition', 'of', 'Israel', 'varies', 'depending', 'on', 'whom', 'you', 'ask', '.', '</s>']\n",
      "len conti_raw 36\n",
      "conti_raw ['<s>', 'According', 'to', 'Shia', 'Muslims', 'specially', 'Iran', 'state', 'and', 'Hezbollah', 'a', 'country', 'called', 'Israel', 'does', 'not', 'exist.', '</s>', '</s>', 'As', 'with', 'the', 'definition', 'of', 'Palestine,', 'the', 'definition', 'of', 'Israel', 'varies', 'depending', 'on', 'whom', 'you', 'ask.', '</s>']\n"
     ]
    },
    {
     "data": {
      "text/html": [
       "<table width: 100%><div style=\"border-top: 1px solid; margin-top: 5px;             padding-top: 5px; display: inline-block\"><b>Legend: </b><span style=\"display: inline-block; width: 10px; height: 10px;                 border: 1px solid; background-color:                 hsl(0, 75%, 60%)\"></span> Negative  <span style=\"display: inline-block; width: 10px; height: 10px;                 border: 1px solid; background-color:                 hsl(0, 75%, 100%)\"></span> Neutral  <span style=\"display: inline-block; width: 10px; height: 10px;                 border: 1px solid; background-color:                 hsl(120, 75%, 50%)\"></span> Positive  </div><tr><th>True Label</th><th>Predicted Label</th><th>Attribution Label</th><th>Attribution Score</th><th>Word Importance</th><tr><td><text style=\"padding-right:2em\"><b>Similar</b></text></td><td><text style=\"padding-right:2em\"><b>Not Similar (0.29)</b></text></td><td><text style=\"padding-right:2em\"><b>Similar</b></text></td><td><text style=\"padding-right:2em\"><b>0.87</b></text></td><td><mark style=\"background-color: hsl(0, 75%, 94%); opacity:1.0;                     line-height:1.75\"><font color=\"black\"> #s                    </font></mark><mark style=\"background-color: hsl(0, 75%, 98%); opacity:1.0;                     line-height:1.75\"><font color=\"black\"> According                    </font></mark><mark style=\"background-color: hsl(0, 75%, 98%); opacity:1.0;                     line-height:1.75\"><font color=\"black\"> to                    </font></mark><mark style=\"background-color: hsl(120, 75%, 85%); opacity:1.0;                     line-height:1.75\"><font color=\"black\"> Shia                    </font></mark><mark style=\"background-color: hsl(0, 75%, 88%); opacity:1.0;                     line-height:1.75\"><font color=\"black\"> Muslims                    </font></mark><mark style=\"background-color: hsl(120, 75%, 95%); opacity:1.0;                     line-height:1.75\"><font color=\"black\"> specially                    </font></mark><mark style=\"background-color: hsl(0, 75%, 94%); opacity:1.0;                     line-height:1.75\"><font color=\"black\"> Iran                    </font></mark><mark style=\"background-color: hsl(0, 75%, 100%); opacity:1.0;                     line-height:1.75\"><font color=\"black\"> state                    </font></mark><mark style=\"background-color: hsl(0, 75%, 99%); opacity:1.0;                     line-height:1.75\"><font color=\"black\"> and                    </font></mark><mark style=\"background-color: hsl(120, 75%, 95%); opacity:1.0;                     line-height:1.75\"><font color=\"black\"> Hezbollah                    </font></mark><mark style=\"background-color: hsl(120, 75%, 97%); opacity:1.0;                     line-height:1.75\"><font color=\"black\"> a                    </font></mark><mark style=\"background-color: hsl(0, 75%, 95%); opacity:1.0;                     line-height:1.75\"><font color=\"black\"> country                    </font></mark><mark style=\"background-color: hsl(120, 75%, 86%); opacity:1.0;                     line-height:1.75\"><font color=\"black\"> called                    </font></mark><mark style=\"background-color: hsl(120, 75%, 93%); opacity:1.0;                     line-height:1.75\"><font color=\"black\"> Israel                    </font></mark><mark style=\"background-color: hsl(120, 75%, 95%); opacity:1.0;                     line-height:1.75\"><font color=\"black\"> does                    </font></mark><mark style=\"background-color: hsl(0, 75%, 100%); opacity:1.0;                     line-height:1.75\"><font color=\"black\"> not                    </font></mark><mark style=\"background-color: hsl(120, 75%, 98%); opacity:1.0;                     line-height:1.75\"><font color=\"black\"> exist.                    </font></mark><mark style=\"background-color: hsl(0, 75%, 93%); opacity:1.0;                     line-height:1.75\"><font color=\"black\"> #/s                    </font></mark><mark style=\"background-color: hsl(0, 75%, 96%); opacity:1.0;                     line-height:1.75\"><font color=\"black\"> #/s                    </font></mark><mark style=\"background-color: hsl(120, 75%, 96%); opacity:1.0;                     line-height:1.75\"><font color=\"black\"> As                    </font></mark><mark style=\"background-color: hsl(120, 75%, 95%); opacity:1.0;                     line-height:1.75\"><font color=\"black\"> with                    </font></mark><mark style=\"background-color: hsl(120, 75%, 98%); opacity:1.0;                     line-height:1.75\"><font color=\"black\"> the                    </font></mark><mark style=\"background-color: hsl(0, 75%, 97%); opacity:1.0;                     line-height:1.75\"><font color=\"black\"> definition                    </font></mark><mark style=\"background-color: hsl(120, 75%, 99%); opacity:1.0;                     line-height:1.75\"><font color=\"black\"> of                    </font></mark><mark style=\"background-color: hsl(120, 75%, 81%); opacity:1.0;                     line-height:1.75\"><font color=\"black\"> Palestine,                    </font></mark><mark style=\"background-color: hsl(0, 75%, 88%); opacity:1.0;                     line-height:1.75\"><font color=\"black\"> the                    </font></mark><mark style=\"background-color: hsl(120, 75%, 100%); opacity:1.0;                     line-height:1.75\"><font color=\"black\"> definition                    </font></mark><mark style=\"background-color: hsl(0, 75%, 99%); opacity:1.0;                     line-height:1.75\"><font color=\"black\"> of                    </font></mark><mark style=\"background-color: hsl(120, 75%, 97%); opacity:1.0;                     line-height:1.75\"><font color=\"black\"> Israel                    </font></mark><mark style=\"background-color: hsl(120, 75%, 86%); opacity:1.0;                     line-height:1.75\"><font color=\"black\"> varies                    </font></mark><mark style=\"background-color: hsl(0, 75%, 96%); opacity:1.0;                     line-height:1.75\"><font color=\"black\"> depending                    </font></mark><mark style=\"background-color: hsl(0, 75%, 94%); opacity:1.0;                     line-height:1.75\"><font color=\"black\"> on                    </font></mark><mark style=\"background-color: hsl(120, 75%, 96%); opacity:1.0;                     line-height:1.75\"><font color=\"black\"> whom                    </font></mark><mark style=\"background-color: hsl(120, 75%, 93%); opacity:1.0;                     line-height:1.75\"><font color=\"black\"> you                    </font></mark><mark style=\"background-color: hsl(120, 75%, 90%); opacity:1.0;                     line-height:1.75\"><font color=\"black\"> ask.                    </font></mark><mark style=\"background-color: hsl(120, 75%, 91%); opacity:1.0;                     line-height:1.75\"><font color=\"black\"> #/s                    </font></mark></td><tr></table>"
      ],
      "text/plain": [
       "<IPython.core.display.HTML object>"
      ]
     },
     "metadata": {},
     "output_type": "display_data"
    },
    {
     "name": "stderr",
     "output_type": "stream",
     "text": [
      "/home/user/anaconda3/envs/py38/lib/python3.9/site-packages/captum/attr/_core/lime.py:1088: UserWarning: Attempting to construct interpretable model with > 10000 features.This can be very slow or lead to OOM issues. Please provide a featuremask which groups input features to reduce the number of interpretablefeatures. \n",
      "  warnings.warn(\n"
     ]
    },
    {
     "name": "stdout",
     "output_type": "stream",
     "text": [
      "<IPython.core.display.HTML object>\n",
      "i: 46\n",
      "Raw review: ['Absolute majority always defined by the institution, or the context.', 'In countries like India, when you have 2/3 of the seats of all parliament, you have absolute majority.']\n",
      "GT target: 2.5999999046325684\n",
      "pred_prob 1.6035784780979156\n"
     ]
    },
    {
     "name": "stderr",
     "output_type": "stream",
     "text": [
      "Lime attribution: 100%|███████████████████████████| 3/3 [01:49<00:00, 36.47s/it]\n"
     ]
    },
    {
     "name": "stdout",
     "output_type": "stream",
     "text": [
      "attribution took 121.216450 seconds\n",
      "before zeroing tensor([[[0., 0., 0.,  ..., 0., 0., 0.],\n",
      "         [0., 0., 0.,  ..., 0., 0., 0.],\n",
      "         [0., 0., 0.,  ..., 0., 0., 0.],\n",
      "         ...,\n",
      "         [0., 0., 0.,  ..., 0., 0., 0.],\n",
      "         [0., 0., 0.,  ..., 0., 0., 0.],\n",
      "         [0., 0., 0.,  ..., 0., 0., 0.]]])\n",
      "after zeroing tensor([[[0., 0., 0.,  ..., 0., 0., 0.],\n",
      "         [0., 0., 0.,  ..., 0., 0., 0.],\n",
      "         [0., 0., 0.,  ..., 0., 0., 0.],\n",
      "         ...,\n",
      "         [0., 0., 0.,  ..., 0., 0., 0.],\n",
      "         [0., 0., 0.,  ..., 0., 0., 0.],\n",
      "         [0., 0., 0.,  ..., 0., 0., 0.]]])\n",
      "word attr tensor([ 0.1130,  0.1400,  0.4952,  0.3241,  0.3098,  0.0062,  0.1311, -0.0274,\n",
      "         0.1863,  0.1943, -0.0488,  0.0589, -0.0798,  0.1221, -0.0672,  0.1102,\n",
      "         0.1313, -0.0973, -0.1517,  0.3144,  0.0689,  0.1340,  0.0179,  0.0897,\n",
      "        -0.1093,  0.0794,  0.0822,  0.0490, -0.0362, -0.0363,  0.0232,  0.1038,\n",
      "         0.3267,  0.0294,  0.0777,  0.1055, -0.1524,  0.0545,  0.1188,  0.0327])\n",
      "conti attr [tensor(0.1130), tensor(0.6352), tensor(0.3241), tensor(0.3098), tensor(0.0062), tensor(0.1311), tensor(-0.0274), tensor(0.3806), tensor(-0.0488), tensor(0.0589), tensor(0.0424), tensor(-0.0672), tensor(0.1102), tensor(0.1313), tensor(-0.0973), tensor(-0.1517), tensor(0.3833), tensor(0.1340), tensor(0.0179), tensor(0.0897), tensor(0.0523), tensor(0.0490), tensor(-0.0362), tensor(-0.0363), tensor(0.0232), tensor(0.1038), tensor(0.3561), tensor(0.0777), tensor(0.1055), tensor(-0.1524), tensor(0.1733), tensor(0.0327)]\n",
      "detokenized ['<s>', 'Abs', 'olute', 'majority', 'always', 'defined', 'by', 'the', 'institution', ',', 'or', 'the', 'context', '.', '</s>', '</s>', 'In', 'countries', 'like', 'India', ',', 'when', 'you', 'have', '2', '/', '3', 'of', 'the', 'seats', 'of', 'all', 'parliament', ',', 'you', 'have', 'absolute', 'majority', '.', '</s>']\n",
      "len conti_raw 32\n",
      "conti_raw ['<s>', 'Absolute', 'majority', 'always', 'defined', 'by', 'the', 'institution,', 'or', 'the', 'context.', '</s>', '</s>', 'In', 'countries', 'like', 'India,', 'when', 'you', 'have', '2/3', 'of', 'the', 'seats', 'of', 'all', 'parliament,', 'you', 'have', 'absolute', 'majority.', '</s>']\n"
     ]
    },
    {
     "data": {
      "text/html": [
       "<table width: 100%><div style=\"border-top: 1px solid; margin-top: 5px;             padding-top: 5px; display: inline-block\"><b>Legend: </b><span style=\"display: inline-block; width: 10px; height: 10px;                 border: 1px solid; background-color:                 hsl(0, 75%, 60%)\"></span> Negative  <span style=\"display: inline-block; width: 10px; height: 10px;                 border: 1px solid; background-color:                 hsl(0, 75%, 100%)\"></span> Neutral  <span style=\"display: inline-block; width: 10px; height: 10px;                 border: 1px solid; background-color:                 hsl(120, 75%, 50%)\"></span> Positive  </div><tr><th>True Label</th><th>Predicted Label</th><th>Attribution Label</th><th>Attribution Score</th><th>Word Importance</th><tr><td><text style=\"padding-right:2em\"><b>Similar</b></text></td><td><text style=\"padding-right:2em\"><b>Not Similar (0.32)</b></text></td><td><text style=\"padding-right:2em\"><b>Similar</b></text></td><td><text style=\"padding-right:2em\"><b>3.22</b></text></td><td><mark style=\"background-color: hsl(120, 75%, 95%); opacity:1.0;                     line-height:1.75\"><font color=\"black\"> #s                    </font></mark><mark style=\"background-color: hsl(120, 75%, 69%); opacity:1.0;                     line-height:1.75\"><font color=\"black\"> Absolute                    </font></mark><mark style=\"background-color: hsl(120, 75%, 84%); opacity:1.0;                     line-height:1.75\"><font color=\"black\"> majority                    </font></mark><mark style=\"background-color: hsl(120, 75%, 85%); opacity:1.0;                     line-height:1.75\"><font color=\"black\"> always                    </font></mark><mark style=\"background-color: hsl(120, 75%, 100%); opacity:1.0;                     line-height:1.75\"><font color=\"black\"> defined                    </font></mark><mark style=\"background-color: hsl(120, 75%, 94%); opacity:1.0;                     line-height:1.75\"><font color=\"black\"> by                    </font></mark><mark style=\"background-color: hsl(0, 75%, 99%); opacity:1.0;                     line-height:1.75\"><font color=\"black\"> the                    </font></mark><mark style=\"background-color: hsl(120, 75%, 81%); opacity:1.0;                     line-height:1.75\"><font color=\"black\"> institution,                    </font></mark><mark style=\"background-color: hsl(0, 75%, 99%); opacity:1.0;                     line-height:1.75\"><font color=\"black\"> or                    </font></mark><mark style=\"background-color: hsl(120, 75%, 98%); opacity:1.0;                     line-height:1.75\"><font color=\"black\"> the                    </font></mark><mark style=\"background-color: hsl(120, 75%, 98%); opacity:1.0;                     line-height:1.75\"><font color=\"black\"> context.                    </font></mark><mark style=\"background-color: hsl(0, 75%, 98%); opacity:1.0;                     line-height:1.75\"><font color=\"black\"> #/s                    </font></mark><mark style=\"background-color: hsl(120, 75%, 95%); opacity:1.0;                     line-height:1.75\"><font color=\"black\"> #/s                    </font></mark><mark style=\"background-color: hsl(120, 75%, 94%); opacity:1.0;                     line-height:1.75\"><font color=\"black\"> In                    </font></mark><mark style=\"background-color: hsl(0, 75%, 97%); opacity:1.0;                     line-height:1.75\"><font color=\"black\"> countries                    </font></mark><mark style=\"background-color: hsl(0, 75%, 94%); opacity:1.0;                     line-height:1.75\"><font color=\"black\"> like                    </font></mark><mark style=\"background-color: hsl(120, 75%, 81%); opacity:1.0;                     line-height:1.75\"><font color=\"black\"> India,                    </font></mark><mark style=\"background-color: hsl(120, 75%, 94%); opacity:1.0;                     line-height:1.75\"><font color=\"black\"> when                    </font></mark><mark style=\"background-color: hsl(120, 75%, 100%); opacity:1.0;                     line-height:1.75\"><font color=\"black\"> you                    </font></mark><mark style=\"background-color: hsl(120, 75%, 96%); opacity:1.0;                     line-height:1.75\"><font color=\"black\"> have                    </font></mark><mark style=\"background-color: hsl(120, 75%, 98%); opacity:1.0;                     line-height:1.75\"><font color=\"black\"> 2/3                    </font></mark><mark style=\"background-color: hsl(120, 75%, 98%); opacity:1.0;                     line-height:1.75\"><font color=\"black\"> of                    </font></mark><mark style=\"background-color: hsl(0, 75%, 99%); opacity:1.0;                     line-height:1.75\"><font color=\"black\"> the                    </font></mark><mark style=\"background-color: hsl(0, 75%, 99%); opacity:1.0;                     line-height:1.75\"><font color=\"black\"> seats                    </font></mark><mark style=\"background-color: hsl(120, 75%, 99%); opacity:1.0;                     line-height:1.75\"><font color=\"black\"> of                    </font></mark><mark style=\"background-color: hsl(120, 75%, 95%); opacity:1.0;                     line-height:1.75\"><font color=\"black\"> all                    </font></mark><mark style=\"background-color: hsl(120, 75%, 83%); opacity:1.0;                     line-height:1.75\"><font color=\"black\"> parliament,                    </font></mark><mark style=\"background-color: hsl(120, 75%, 97%); opacity:1.0;                     line-height:1.75\"><font color=\"black\"> you                    </font></mark><mark style=\"background-color: hsl(120, 75%, 95%); opacity:1.0;                     line-height:1.75\"><font color=\"black\"> have                    </font></mark><mark style=\"background-color: hsl(0, 75%, 94%); opacity:1.0;                     line-height:1.75\"><font color=\"black\"> absolute                    </font></mark><mark style=\"background-color: hsl(120, 75%, 92%); opacity:1.0;                     line-height:1.75\"><font color=\"black\"> majority.                    </font></mark><mark style=\"background-color: hsl(120, 75%, 99%); opacity:1.0;                     line-height:1.75\"><font color=\"black\"> #/s                    </font></mark></td><tr></table>"
      ],
      "text/plain": [
       "<IPython.core.display.HTML object>"
      ]
     },
     "metadata": {},
     "output_type": "display_data"
    },
    {
     "name": "stderr",
     "output_type": "stream",
     "text": [
      "/home/user/anaconda3/envs/py38/lib/python3.9/site-packages/captum/attr/_core/lime.py:1088: UserWarning: Attempting to construct interpretable model with > 10000 features.This can be very slow or lead to OOM issues. Please provide a featuremask which groups input features to reduce the number of interpretablefeatures. \n",
      "  warnings.warn(\n"
     ]
    },
    {
     "name": "stdout",
     "output_type": "stream",
     "text": [
      "<IPython.core.display.HTML object>\n",
      "i: 47\n",
      "Raw review: ['Two little girls are talking on the phone.', 'A little girl is walking down the street.']\n",
      "GT target: 0.5\n",
      "pred_prob 0.6913229078054428\n"
     ]
    },
    {
     "name": "stderr",
     "output_type": "stream",
     "text": [
      "Lime attribution: 100%|███████████████████████████| 3/3 [00:55<00:00, 18.40s/it]\n"
     ]
    },
    {
     "name": "stdout",
     "output_type": "stream",
     "text": [
      "attribution took 59.943092 seconds\n",
      "before zeroing tensor([[[0., 0., 0.,  ..., 0., 0., 0.],\n",
      "         [0., 0., 0.,  ..., 0., 0., 0.],\n",
      "         [0., 0., 0.,  ..., 0., 0., 0.],\n",
      "         ...,\n",
      "         [0., 0., 0.,  ..., 0., 0., 0.],\n",
      "         [0., 0., 0.,  ..., 0., 0., 0.],\n",
      "         [0., 0., 0.,  ..., 0., 0., 0.]]])\n",
      "after zeroing tensor([[[0., 0., 0.,  ..., 0., 0., 0.],\n",
      "         [0., 0., 0.,  ..., 0., 0., 0.],\n",
      "         [0., 0., 0.,  ..., 0., 0., 0.],\n",
      "         ...,\n",
      "         [0., 0., 0.,  ..., 0., 0., 0.],\n",
      "         [0., 0., 0.,  ..., 0., 0., 0.],\n",
      "         [0., 0., 0.,  ..., 0., 0., 0.]]])\n",
      "word attr tensor([-0.0665,  0.4080, -0.4168, -0.0295, -0.0148,  0.3836,  0.1397,  0.1743,\n",
      "        -0.2710,  0.2323, -0.1647, -0.1122,  0.0000, -0.2781,  0.0395,  0.0550,\n",
      "         0.3717,  0.2201,  0.0676,  0.0828,  0.0450,  0.0903])\n",
      "conti attr [tensor(-0.0665), tensor(0.4080), tensor(-0.4168), tensor(-0.0295), tensor(-0.0148), tensor(0.3836), tensor(0.1397), tensor(0.1743), tensor(-0.0388), tensor(-0.1647), tensor(-0.1122), tensor(0.), tensor(-0.2781), tensor(0.0395), tensor(0.0550), tensor(0.3717), tensor(0.2201), tensor(0.0676), tensor(0.1279), tensor(0.0903)]\n",
      "detokenized ['<s>', 'Two', 'little', 'girls', 'are', 'talking', 'on', 'the', 'phone', '.', '</s>', '</s>', 'A', 'little', 'girl', 'is', 'walking', 'down', 'the', 'street', '.', '</s>']\n",
      "len conti_raw 20\n",
      "conti_raw ['<s>', 'Two', 'little', 'girls', 'are', 'talking', 'on', 'the', 'phone.', '</s>', '</s>', 'A', 'little', 'girl', 'is', 'walking', 'down', 'the', 'street.', '</s>']\n"
     ]
    },
    {
     "data": {
      "text/html": [
       "<table width: 100%><div style=\"border-top: 1px solid; margin-top: 5px;             padding-top: 5px; display: inline-block\"><b>Legend: </b><span style=\"display: inline-block; width: 10px; height: 10px;                 border: 1px solid; background-color:                 hsl(0, 75%, 60%)\"></span> Negative  <span style=\"display: inline-block; width: 10px; height: 10px;                 border: 1px solid; background-color:                 hsl(0, 75%, 100%)\"></span> Neutral  <span style=\"display: inline-block; width: 10px; height: 10px;                 border: 1px solid; background-color:                 hsl(120, 75%, 50%)\"></span> Positive  </div><tr><th>True Label</th><th>Predicted Label</th><th>Attribution Label</th><th>Attribution Score</th><th>Word Importance</th><tr><td><text style=\"padding-right:2em\"><b>Not Similar</b></text></td><td><text style=\"padding-right:2em\"><b>Not Similar (0.14)</b></text></td><td><text style=\"padding-right:2em\"><b>Similar</b></text></td><td><text style=\"padding-right:2em\"><b>0.96</b></text></td><td><mark style=\"background-color: hsl(0, 75%, 98%); opacity:1.0;                     line-height:1.75\"><font color=\"black\"> #s                    </font></mark><mark style=\"background-color: hsl(120, 75%, 80%); opacity:1.0;                     line-height:1.75\"><font color=\"black\"> Two                    </font></mark><mark style=\"background-color: hsl(0, 75%, 84%); opacity:1.0;                     line-height:1.75\"><font color=\"black\"> little                    </font></mark><mark style=\"background-color: hsl(0, 75%, 99%); opacity:1.0;                     line-height:1.75\"><font color=\"black\"> girls                    </font></mark><mark style=\"background-color: hsl(0, 75%, 100%); opacity:1.0;                     line-height:1.75\"><font color=\"black\"> are                    </font></mark><mark style=\"background-color: hsl(120, 75%, 81%); opacity:1.0;                     line-height:1.75\"><font color=\"black\"> talking                    </font></mark><mark style=\"background-color: hsl(120, 75%, 94%); opacity:1.0;                     line-height:1.75\"><font color=\"black\"> on                    </font></mark><mark style=\"background-color: hsl(120, 75%, 92%); opacity:1.0;                     line-height:1.75\"><font color=\"black\"> the                    </font></mark><mark style=\"background-color: hsl(0, 75%, 99%); opacity:1.0;                     line-height:1.75\"><font color=\"black\"> phone.                    </font></mark><mark style=\"background-color: hsl(0, 75%, 94%); opacity:1.0;                     line-height:1.75\"><font color=\"black\"> #/s                    </font></mark><mark style=\"background-color: hsl(0, 75%, 96%); opacity:1.0;                     line-height:1.75\"><font color=\"black\"> #/s                    </font></mark><mark style=\"background-color: hsl(0, 75%, 100%); opacity:1.0;                     line-height:1.75\"><font color=\"black\"> A                    </font></mark><mark style=\"background-color: hsl(0, 75%, 89%); opacity:1.0;                     line-height:1.75\"><font color=\"black\"> little                    </font></mark><mark style=\"background-color: hsl(120, 75%, 99%); opacity:1.0;                     line-height:1.75\"><font color=\"black\"> girl                    </font></mark><mark style=\"background-color: hsl(120, 75%, 98%); opacity:1.0;                     line-height:1.75\"><font color=\"black\"> is                    </font></mark><mark style=\"background-color: hsl(120, 75%, 82%); opacity:1.0;                     line-height:1.75\"><font color=\"black\"> walking                    </font></mark><mark style=\"background-color: hsl(120, 75%, 89%); opacity:1.0;                     line-height:1.75\"><font color=\"black\"> down                    </font></mark><mark style=\"background-color: hsl(120, 75%, 97%); opacity:1.0;                     line-height:1.75\"><font color=\"black\"> the                    </font></mark><mark style=\"background-color: hsl(120, 75%, 94%); opacity:1.0;                     line-height:1.75\"><font color=\"black\"> street.                    </font></mark><mark style=\"background-color: hsl(120, 75%, 96%); opacity:1.0;                     line-height:1.75\"><font color=\"black\"> #/s                    </font></mark></td><tr></table>"
      ],
      "text/plain": [
       "<IPython.core.display.HTML object>"
      ]
     },
     "metadata": {},
     "output_type": "display_data"
    },
    {
     "name": "stdout",
     "output_type": "stream",
     "text": [
      "<IPython.core.display.HTML object>\n",
      "i: 48\n",
      "Raw review: [\"The report shows that drugs sold in Canadian pharmacies are manufactured in facilities approved by Health Canada - the FDA's counterpart in Canada.\", 'The report shows that drugs sold in Canadian pharmacies are manufactured in facilities approved by Health Canada, which serves a similar role as the FDA for the Canadian government.']\n",
      "GT target: 5.0\n"
     ]
    },
    {
     "name": "stderr",
     "output_type": "stream",
     "text": [
      "/home/user/anaconda3/envs/py38/lib/python3.9/site-packages/captum/attr/_core/lime.py:1088: UserWarning: Attempting to construct interpretable model with > 10000 features.This can be very slow or lead to OOM issues. Please provide a featuremask which groups input features to reduce the number of interpretablefeatures. \n",
      "  warnings.warn(\n"
     ]
    },
    {
     "name": "stdout",
     "output_type": "stream",
     "text": [
      "pred_prob 4.7438859939575195\n"
     ]
    },
    {
     "name": "stderr",
     "output_type": "stream",
     "text": [
      "Lime attribution: 100%|███████████████████████████| 3/3 [02:46<00:00, 55.50s/it]\n"
     ]
    },
    {
     "name": "stdout",
     "output_type": "stream",
     "text": [
      "attribution took 182.469538 seconds\n",
      "before zeroing tensor([[[0., 0., 0.,  ..., 0., 0., 0.],\n",
      "         [0., 0., 0.,  ..., 0., 0., 0.],\n",
      "         [0., 0., 0.,  ..., 0., 0., 0.],\n",
      "         ...,\n",
      "         [0., 0., 0.,  ..., 0., 0., 0.],\n",
      "         [0., 0., 0.,  ..., 0., 0., 0.],\n",
      "         [0., 0., 0.,  ..., 0., 0., 0.]]])\n",
      "after zeroing tensor([[[0., 0., 0.,  ..., 0., 0., 0.],\n",
      "         [0., 0., 0.,  ..., 0., 0., 0.],\n",
      "         [0., 0., 0.,  ..., 0., 0., 0.],\n",
      "         ...,\n",
      "         [0., 0., 0.,  ..., 0., 0., 0.],\n",
      "         [0., 0., 0.,  ..., 0., 0., 0.],\n",
      "         [0., 0., 0.,  ..., 0., 0., 0.]]])\n",
      "word attr tensor([-0.0097,  0.2284,  0.0163, -0.0025, -0.1752, -0.3029, -0.1817, -0.0581,\n",
      "        -0.1385,  0.0764,  0.0108,  0.0565, -0.1439,  0.0671,  0.0934, -0.1052,\n",
      "         0.0561,  0.2043,  0.0233,  0.0488,  0.4706,  0.0249,  0.0551, -0.1726,\n",
      "        -0.0660,  0.1165,  0.0126, -0.0436, -0.0326, -0.0335, -0.0932, -0.1224,\n",
      "        -0.0452, -0.0122,  0.0010, -0.1758,  0.2003, -0.0840, -0.0862, -0.0466,\n",
      "         0.1412, -0.2476, -0.0250,  0.0936,  0.1244, -0.0233, -0.1087,  0.1432,\n",
      "        -0.0688,  0.0915, -0.0047, -0.0371, -0.0211,  0.2865,  0.0066,  0.1582,\n",
      "         0.1045, -0.0109, -0.0062, -0.0681])\n",
      "conti attr [tensor(-0.0097), tensor(0.2284), tensor(0.0163), tensor(-0.0025), tensor(-0.1752), tensor(-0.3029), tensor(-0.1817), tensor(-0.0581), tensor(-0.1385), tensor(0.0764), tensor(0.0108), tensor(0.0565), tensor(-0.1439), tensor(0.0671), tensor(0.0934), tensor(-0.1052), tensor(0.0561), tensor(0.2043), tensor(0.0233), tensor(0.0488), tensor(0.4955), tensor(0.0551), tensor(-0.1726), tensor(0.0505), tensor(0.0126), tensor(-0.0436), tensor(-0.0326), tensor(-0.0335), tensor(-0.0932), tensor(-0.1224), tensor(-0.0452), tensor(-0.0122), tensor(0.0010), tensor(-0.1758), tensor(0.2003), tensor(-0.0840), tensor(-0.0862), tensor(-0.0466), tensor(0.1412), tensor(-0.2476), tensor(-0.0250), tensor(0.0936), tensor(0.1012), tensor(-0.1087), tensor(0.1432), tensor(-0.0688), tensor(0.0915), tensor(-0.0047), tensor(-0.0371), tensor(-0.0211), tensor(0.2865), tensor(0.0066), tensor(0.1582), tensor(0.1045), tensor(-0.0171), tensor(-0.0681)]\n",
      "detokenized ['<s>', 'The', 'report', 'shows', 'that', 'drugs', 'sold', 'in', 'Canadian', 'pharmacies', 'are', 'manufactured', 'in', 'facilities', 'approved', 'by', 'Health', 'Canada', '-', 'the', 'FDA', \"'s\", 'counterpart', 'in', 'Canada', '.', '</s>', '</s>', 'The', 'report', 'shows', 'that', 'drugs', 'sold', 'in', 'Canadian', 'pharmacies', 'are', 'manufactured', 'in', 'facilities', 'approved', 'by', 'Health', 'Canada', ',', 'which', 'serves', 'a', 'similar', 'role', 'as', 'the', 'FDA', 'for', 'the', 'Canadian', 'government', '.', '</s>']\n",
      "len conti_raw 56\n",
      "conti_raw ['<s>', 'The', 'report', 'shows', 'that', 'drugs', 'sold', 'in', 'Canadian', 'pharmacies', 'are', 'manufactured', 'in', 'facilities', 'approved', 'by', 'Health', 'Canada', '-', 'the', \"FDA's\", 'counterpart', 'in', 'Canada.', '</s>', '</s>', 'The', 'report', 'shows', 'that', 'drugs', 'sold', 'in', 'Canadian', 'pharmacies', 'are', 'manufactured', 'in', 'facilities', 'approved', 'by', 'Health', 'Canada,', 'which', 'serves', 'a', 'similar', 'role', 'as', 'the', 'FDA', 'for', 'the', 'Canadian', 'government.', '</s>']\n"
     ]
    },
    {
     "data": {
      "text/html": [
       "<table width: 100%><div style=\"border-top: 1px solid; margin-top: 5px;             padding-top: 5px; display: inline-block\"><b>Legend: </b><span style=\"display: inline-block; width: 10px; height: 10px;                 border: 1px solid; background-color:                 hsl(0, 75%, 60%)\"></span> Negative  <span style=\"display: inline-block; width: 10px; height: 10px;                 border: 1px solid; background-color:                 hsl(0, 75%, 100%)\"></span> Neutral  <span style=\"display: inline-block; width: 10px; height: 10px;                 border: 1px solid; background-color:                 hsl(120, 75%, 50%)\"></span> Positive  </div><tr><th>True Label</th><th>Predicted Label</th><th>Attribution Label</th><th>Attribution Score</th><th>Word Importance</th><tr><td><text style=\"padding-right:2em\"><b>Similar</b></text></td><td><text style=\"padding-right:2em\"><b>Similar (0.95)</b></text></td><td><text style=\"padding-right:2em\"><b>Not Similar</b></text></td><td><text style=\"padding-right:2em\"><b>0.16</b></text></td><td><mark style=\"background-color: hsl(0, 75%, 100%); opacity:1.0;                     line-height:1.75\"><font color=\"black\"> #s                    </font></mark><mark style=\"background-color: hsl(120, 75%, 89%); opacity:1.0;                     line-height:1.75\"><font color=\"black\"> The                    </font></mark><mark style=\"background-color: hsl(120, 75%, 100%); opacity:1.0;                     line-height:1.75\"><font color=\"black\"> report                    </font></mark><mark style=\"background-color: hsl(0, 75%, 100%); opacity:1.0;                     line-height:1.75\"><font color=\"black\"> shows                    </font></mark><mark style=\"background-color: hsl(0, 75%, 93%); opacity:1.0;                     line-height:1.75\"><font color=\"black\"> that                    </font></mark><mark style=\"background-color: hsl(0, 75%, 88%); opacity:1.0;                     line-height:1.75\"><font color=\"black\"> drugs                    </font></mark><mark style=\"background-color: hsl(0, 75%, 93%); opacity:1.0;                     line-height:1.75\"><font color=\"black\"> sold                    </font></mark><mark style=\"background-color: hsl(0, 75%, 98%); opacity:1.0;                     line-height:1.75\"><font color=\"black\"> in                    </font></mark><mark style=\"background-color: hsl(0, 75%, 95%); opacity:1.0;                     line-height:1.75\"><font color=\"black\"> Canadian                    </font></mark><mark style=\"background-color: hsl(120, 75%, 97%); opacity:1.0;                     line-height:1.75\"><font color=\"black\"> pharmacies                    </font></mark><mark style=\"background-color: hsl(120, 75%, 100%); opacity:1.0;                     line-height:1.75\"><font color=\"black\"> are                    </font></mark><mark style=\"background-color: hsl(120, 75%, 98%); opacity:1.0;                     line-height:1.75\"><font color=\"black\"> manufactured                    </font></mark><mark style=\"background-color: hsl(0, 75%, 95%); opacity:1.0;                     line-height:1.75\"><font color=\"black\"> in                    </font></mark><mark style=\"background-color: hsl(120, 75%, 97%); opacity:1.0;                     line-height:1.75\"><font color=\"black\"> facilities                    </font></mark><mark style=\"background-color: hsl(120, 75%, 96%); opacity:1.0;                     line-height:1.75\"><font color=\"black\"> approved                    </font></mark><mark style=\"background-color: hsl(0, 75%, 96%); opacity:1.0;                     line-height:1.75\"><font color=\"black\"> by                    </font></mark><mark style=\"background-color: hsl(120, 75%, 98%); opacity:1.0;                     line-height:1.75\"><font color=\"black\"> Health                    </font></mark><mark style=\"background-color: hsl(120, 75%, 90%); opacity:1.0;                     line-height:1.75\"><font color=\"black\"> Canada                    </font></mark><mark style=\"background-color: hsl(120, 75%, 99%); opacity:1.0;                     line-height:1.75\"><font color=\"black\"> -                    </font></mark><mark style=\"background-color: hsl(120, 75%, 98%); opacity:1.0;                     line-height:1.75\"><font color=\"black\"> the                    </font></mark><mark style=\"background-color: hsl(120, 75%, 76%); opacity:1.0;                     line-height:1.75\"><font color=\"black\"> FDA's                    </font></mark><mark style=\"background-color: hsl(120, 75%, 98%); opacity:1.0;                     line-height:1.75\"><font color=\"black\"> counterpart                    </font></mark><mark style=\"background-color: hsl(0, 75%, 94%); opacity:1.0;                     line-height:1.75\"><font color=\"black\"> in                    </font></mark><mark style=\"background-color: hsl(120, 75%, 98%); opacity:1.0;                     line-height:1.75\"><font color=\"black\"> Canada.                    </font></mark><mark style=\"background-color: hsl(120, 75%, 100%); opacity:1.0;                     line-height:1.75\"><font color=\"black\"> #/s                    </font></mark><mark style=\"background-color: hsl(0, 75%, 99%); opacity:1.0;                     line-height:1.75\"><font color=\"black\"> #/s                    </font></mark><mark style=\"background-color: hsl(0, 75%, 99%); opacity:1.0;                     line-height:1.75\"><font color=\"black\"> The                    </font></mark><mark style=\"background-color: hsl(0, 75%, 99%); opacity:1.0;                     line-height:1.75\"><font color=\"black\"> report                    </font></mark><mark style=\"background-color: hsl(0, 75%, 97%); opacity:1.0;                     line-height:1.75\"><font color=\"black\"> shows                    </font></mark><mark style=\"background-color: hsl(0, 75%, 96%); opacity:1.0;                     line-height:1.75\"><font color=\"black\"> that                    </font></mark><mark style=\"background-color: hsl(0, 75%, 99%); opacity:1.0;                     line-height:1.75\"><font color=\"black\"> drugs                    </font></mark><mark style=\"background-color: hsl(0, 75%, 100%); opacity:1.0;                     line-height:1.75\"><font color=\"black\"> sold                    </font></mark><mark style=\"background-color: hsl(120, 75%, 100%); opacity:1.0;                     line-height:1.75\"><font color=\"black\"> in                    </font></mark><mark style=\"background-color: hsl(0, 75%, 93%); opacity:1.0;                     line-height:1.75\"><font color=\"black\"> Canadian                    </font></mark><mark style=\"background-color: hsl(120, 75%, 90%); opacity:1.0;                     line-height:1.75\"><font color=\"black\"> pharmacies                    </font></mark><mark style=\"background-color: hsl(0, 75%, 97%); opacity:1.0;                     line-height:1.75\"><font color=\"black\"> are                    </font></mark><mark style=\"background-color: hsl(0, 75%, 97%); opacity:1.0;                     line-height:1.75\"><font color=\"black\"> manufactured                    </font></mark><mark style=\"background-color: hsl(0, 75%, 99%); opacity:1.0;                     line-height:1.75\"><font color=\"black\"> in                    </font></mark><mark style=\"background-color: hsl(120, 75%, 93%); opacity:1.0;                     line-height:1.75\"><font color=\"black\"> facilities                    </font></mark><mark style=\"background-color: hsl(0, 75%, 91%); opacity:1.0;                     line-height:1.75\"><font color=\"black\"> approved                    </font></mark><mark style=\"background-color: hsl(0, 75%, 100%); opacity:1.0;                     line-height:1.75\"><font color=\"black\"> by                    </font></mark><mark style=\"background-color: hsl(120, 75%, 96%); opacity:1.0;                     line-height:1.75\"><font color=\"black\"> Health                    </font></mark><mark style=\"background-color: hsl(120, 75%, 95%); opacity:1.0;                     line-height:1.75\"><font color=\"black\"> Canada,                    </font></mark><mark style=\"background-color: hsl(0, 75%, 96%); opacity:1.0;                     line-height:1.75\"><font color=\"black\"> which                    </font></mark><mark style=\"background-color: hsl(120, 75%, 93%); opacity:1.0;                     line-height:1.75\"><font color=\"black\"> serves                    </font></mark><mark style=\"background-color: hsl(0, 75%, 98%); opacity:1.0;                     line-height:1.75\"><font color=\"black\"> a                    </font></mark><mark style=\"background-color: hsl(120, 75%, 96%); opacity:1.0;                     line-height:1.75\"><font color=\"black\"> similar                    </font></mark><mark style=\"background-color: hsl(0, 75%, 100%); opacity:1.0;                     line-height:1.75\"><font color=\"black\"> role                    </font></mark><mark style=\"background-color: hsl(0, 75%, 99%); opacity:1.0;                     line-height:1.75\"><font color=\"black\"> as                    </font></mark><mark style=\"background-color: hsl(0, 75%, 100%); opacity:1.0;                     line-height:1.75\"><font color=\"black\"> the                    </font></mark><mark style=\"background-color: hsl(120, 75%, 86%); opacity:1.0;                     line-height:1.75\"><font color=\"black\"> FDA                    </font></mark><mark style=\"background-color: hsl(120, 75%, 100%); opacity:1.0;                     line-height:1.75\"><font color=\"black\"> for                    </font></mark><mark style=\"background-color: hsl(120, 75%, 93%); opacity:1.0;                     line-height:1.75\"><font color=\"black\"> the                    </font></mark><mark style=\"background-color: hsl(120, 75%, 95%); opacity:1.0;                     line-height:1.75\"><font color=\"black\"> Canadian                    </font></mark><mark style=\"background-color: hsl(0, 75%, 100%); opacity:1.0;                     line-height:1.75\"><font color=\"black\"> government.                    </font></mark><mark style=\"background-color: hsl(0, 75%, 98%); opacity:1.0;                     line-height:1.75\"><font color=\"black\"> #/s                    </font></mark></td><tr></table>"
      ],
      "text/plain": [
       "<IPython.core.display.HTML object>"
      ]
     },
     "metadata": {},
     "output_type": "display_data"
    },
    {
     "name": "stderr",
     "output_type": "stream",
     "text": [
      "/home/user/anaconda3/envs/py38/lib/python3.9/site-packages/captum/attr/_core/lime.py:1088: UserWarning: Attempting to construct interpretable model with > 10000 features.This can be very slow or lead to OOM issues. Please provide a featuremask which groups input features to reduce the number of interpretablefeatures. \n",
      "  warnings.warn(\n"
     ]
    },
    {
     "name": "stdout",
     "output_type": "stream",
     "text": [
      "<IPython.core.display.HTML object>\n",
      "i: 49\n",
      "Raw review: [\"Foreign companies eye new 'opening-up'\", 'More carriers likely in China']\n",
      "GT target: 0.6000000238418579\n",
      "pred_prob 0.07349737454205751\n"
     ]
    },
    {
     "name": "stderr",
     "output_type": "stream",
     "text": [
      "Lime attribution: 100%|███████████████████████████| 3/3 [00:49<00:00, 16.36s/it]\n"
     ]
    },
    {
     "name": "stdout",
     "output_type": "stream",
     "text": [
      "attribution took 52.763262 seconds\n",
      "before zeroing tensor([[[0., 0., 0.,  ..., 0., 0., 0.],\n",
      "         [0., 0., 0.,  ..., 0., 0., 0.],\n",
      "         [0., 0., 0.,  ..., 0., 0., 0.],\n",
      "         ...,\n",
      "         [0., 0., 0.,  ..., 0., 0., 0.],\n",
      "         [0., 0., 0.,  ..., 0., 0., 0.],\n",
      "         [0., 0., 0.,  ..., 0., 0., 0.]]])\n",
      "after zeroing tensor([[[0., 0., 0.,  ..., 0., 0., 0.],\n",
      "         [0., 0., 0.,  ..., 0., 0., 0.],\n",
      "         [0., 0., 0.,  ..., 0., 0., 0.],\n",
      "         ...,\n",
      "         [0., 0., 0.,  ..., 0., 0., 0.],\n",
      "         [0., 0., 0.,  ..., 0., 0., 0.],\n",
      "         [0., 0., 0.,  ..., 0., 0., 0.]]])\n",
      "nan attri score\n",
      "word attr tensor([0., 0., 0., 0., 0., 0., 0., 0., 0., 0., 0., 0., 0., 0., 0., 0., 0., 0.])\n",
      "conti attr [tensor(0.), tensor(0.), tensor(0.), tensor(0.), tensor(0.), tensor(0.), tensor(0.), tensor(0.), tensor(0.), tensor(0.), tensor(0.), tensor(0.), tensor(0.), tensor(0.)]\n",
      "detokenized ['<s>', 'Foreign', 'companies', 'eye', 'new', \"'\", 'opening', '-', 'up', \"'\", '</s>', '</s>', 'More', 'carriers', 'likely', 'in', 'China', '</s>']\n",
      "len conti_raw 14\n",
      "conti_raw ['<s>', 'Foreign', 'companies', 'eye', 'new', \"'opening-up'\", '</s>', '</s>', 'More', 'carriers', 'likely', 'in', 'China', '</s>']\n"
     ]
    },
    {
     "data": {
      "text/html": [
       "<table width: 100%><div style=\"border-top: 1px solid; margin-top: 5px;             padding-top: 5px; display: inline-block\"><b>Legend: </b><span style=\"display: inline-block; width: 10px; height: 10px;                 border: 1px solid; background-color:                 hsl(0, 75%, 60%)\"></span> Negative  <span style=\"display: inline-block; width: 10px; height: 10px;                 border: 1px solid; background-color:                 hsl(0, 75%, 100%)\"></span> Neutral  <span style=\"display: inline-block; width: 10px; height: 10px;                 border: 1px solid; background-color:                 hsl(120, 75%, 50%)\"></span> Positive  </div><tr><th>True Label</th><th>Predicted Label</th><th>Attribution Label</th><th>Attribution Score</th><th>Word Importance</th><tr><td><text style=\"padding-right:2em\"><b>Not Similar</b></text></td><td><text style=\"padding-right:2em\"><b>Not Similar (0.01)</b></text></td><td><text style=\"padding-right:2em\"><b>Not Similar</b></text></td><td><text style=\"padding-right:2em\"><b>nan</b></text></td><td><mark style=\"background-color: hsl(0, 75%, 100%); opacity:1.0;                     line-height:1.75\"><font color=\"black\"> #s                    </font></mark><mark style=\"background-color: hsl(0, 75%, 100%); opacity:1.0;                     line-height:1.75\"><font color=\"black\"> Foreign                    </font></mark><mark style=\"background-color: hsl(0, 75%, 100%); opacity:1.0;                     line-height:1.75\"><font color=\"black\"> companies                    </font></mark><mark style=\"background-color: hsl(0, 75%, 100%); opacity:1.0;                     line-height:1.75\"><font color=\"black\"> eye                    </font></mark><mark style=\"background-color: hsl(0, 75%, 100%); opacity:1.0;                     line-height:1.75\"><font color=\"black\"> new                    </font></mark><mark style=\"background-color: hsl(0, 75%, 100%); opacity:1.0;                     line-height:1.75\"><font color=\"black\"> 'opening-up'                    </font></mark><mark style=\"background-color: hsl(0, 75%, 100%); opacity:1.0;                     line-height:1.75\"><font color=\"black\"> #/s                    </font></mark><mark style=\"background-color: hsl(0, 75%, 100%); opacity:1.0;                     line-height:1.75\"><font color=\"black\"> #/s                    </font></mark><mark style=\"background-color: hsl(0, 75%, 100%); opacity:1.0;                     line-height:1.75\"><font color=\"black\"> More                    </font></mark><mark style=\"background-color: hsl(0, 75%, 100%); opacity:1.0;                     line-height:1.75\"><font color=\"black\"> carriers                    </font></mark><mark style=\"background-color: hsl(0, 75%, 100%); opacity:1.0;                     line-height:1.75\"><font color=\"black\"> likely                    </font></mark><mark style=\"background-color: hsl(0, 75%, 100%); opacity:1.0;                     line-height:1.75\"><font color=\"black\"> in                    </font></mark><mark style=\"background-color: hsl(0, 75%, 100%); opacity:1.0;                     line-height:1.75\"><font color=\"black\"> China                    </font></mark><mark style=\"background-color: hsl(0, 75%, 100%); opacity:1.0;                     line-height:1.75\"><font color=\"black\"> #/s                    </font></mark></td><tr></table>"
      ],
      "text/plain": [
       "<IPython.core.display.HTML object>"
      ]
     },
     "metadata": {},
     "output_type": "display_data"
    },
    {
     "name": "stdout",
     "output_type": "stream",
     "text": [
      "<IPython.core.display.HTML object>\n"
     ]
    }
   ],
   "source": [
    "for i, (datum_raw, target) in enumerate(zip(stsb_data_raw, targets), start=1):\n",
    "#     example_1 = \"Here are many samples: Pbase.com Out of the 16k photos there, I'm sure some are with a d700.\"\n",
    "#     example_2 = \"It's a 1:1 lens, so that means that the size of the subject will be the same size on the sensor.\"\n",
    "#     datum_raw, target = [example_1, example_2],  1\n",
    "    print(f'i: {i-1}')\n",
    "    print(f'Raw review: {datum_raw}') #datum expected to be a list of 2 sentences\n",
    "    print(f'GT target: {target}')\n",
    "    visual_record=generate_record(datum_raw, target)\n",
    "    print(visualization.visualize_text([visual_record]))   \n"
   ]
  },
  {
   "cell_type": "code",
   "execution_count": 9,
   "id": "e7681361",
   "metadata": {},
   "outputs": [
    {
     "data": {
      "text/plain": [
       "{'indices': [436,\n",
       "  138,\n",
       "  931,\n",
       "  1462,\n",
       "  1491,\n",
       "  577,\n",
       "  873,\n",
       "  899,\n",
       "  268,\n",
       "  603,\n",
       "  1341,\n",
       "  648,\n",
       "  941,\n",
       "  901,\n",
       "  335,\n",
       "  1306,\n",
       "  234,\n",
       "  132,\n",
       "  1257,\n",
       "  1433,\n",
       "  1351,\n",
       "  1484,\n",
       "  977,\n",
       "  146,\n",
       "  1275,\n",
       "  225,\n",
       "  396,\n",
       "  757,\n",
       "  949,\n",
       "  1151,\n",
       "  605,\n",
       "  1041,\n",
       "  350,\n",
       "  788,\n",
       "  626,\n",
       "  88,\n",
       "  599,\n",
       "  1080,\n",
       "  882,\n",
       "  927,\n",
       "  1209,\n",
       "  647,\n",
       "  486,\n",
       "  214,\n",
       "  317,\n",
       "  895,\n",
       "  897,\n",
       "  50,\n",
       "  1054,\n",
       "  1454],\n",
       " 'raw_data': [['Two dogs are sniffing something in the rocks.',\n",
       "   'Two dogs running down a path in the woods.'],\n",
       "  ['A woman is slicing a potato.', 'A woman is slicing carrot.'],\n",
       "  ['It was before the season began because Amy saw the woman before the Silence took her.',\n",
       "   \"The exact timeline hasn't been listed yet, but there are a few assumptions we can make.\"],\n",
       "  ['Protests for kidnapped girls banned in Nigerian capital',\n",
       "   \"Scores 'killed' in Boko Haram raid in Nigeria\"],\n",
       "  ['Oil falls in Asian trade', 'Oil prices down in Asian trade'],\n",
       "  ['There are people out on the street.', 'People are out on the street.'],\n",
       "  [\"Here are many samples: Pbase.com Out of the 16k photos there, I'm sure some are with a d700.\",\n",
       "   \"It's a 1:1 lens, so that means that the size of the subject will be the same size on the sensor.\"],\n",
       "  ['The University constituencies are modelled on the University constituencies in use in Britain in 1922 when Ireland became independent.',\n",
       "   \"This is still a representational form of gov't, but with a unique twist.\"],\n",
       "  ['One Asian and one occasion woman in glasses smiling with their thumbs up.',\n",
       "   'Two women are posing for the camera and giving the thumbs up sign.'],\n",
       "  ['Three guys in speedos have their feet up on the railing of a boat getting a tan.',\n",
       "   'A few men on the deck are dropping another man into the water'],\n",
       "  ['Cardinals enter Vatican for historic vote',\n",
       "   'Cardinals enter Sistine Chapel to elect pope'],\n",
       "  ['According to this website the peak visible magnitude will be about 10.5 around February 2nd.',\n",
       "   'The AAVSO data seems to indicate that it might have already peaked, at around 10.5 (visual).'],\n",
       "  ['Is it possible for a match to get tie even after applying D/L method?',\n",
       "   \"Yes, it's possible for a match to get tie after applying the D/L method.\"],\n",
       "  ['Eclipse Below are list of eclipse shortcuts which I use almost everyday.',\n",
       "   'To train yourself to use keyboard shortcuts, unplug your mouse for a few days.'],\n",
       "  ['A woman and child push strollers down the sidewalk.',\n",
       "   'A women and a young girl walking pushchairs along the sidewalk.'],\n",
       "  ['ICC lawyer detained in Libya on security concerns',\n",
       "   'ICC lawyer held in Libya faces 45-day detention'],\n",
       "  ['The flag was moving in the air.', 'A flag is waving.'],\n",
       "  ['A woman is cutting broccoli.', 'A woman is slicing broccoli.'],\n",
       "  ['Iran warns Moscow nuclear talks could stall',\n",
       "   'Iranians “confess” to nuclear scientist murders'],\n",
       "  ['Syria agrees to surrender chemical weapons',\n",
       "   'Syria FM: We will stop producing chemical weapons'],\n",
       "  ['Chinese shares close lower on Wednesday',\n",
       "   'Chinese students attacked in France'],\n",
       "  ['Protests after George Zimmerman acquitted in Trayvon Martin case',\n",
       "   'Zimmerman acquitted in slaying'],\n",
       "  [\"The answer will depend significantly on what country you're traveling to.\",\n",
       "   'As someone who has always travelled with a lot of prescription medication, I always declare it.'],\n",
       "  ['A man is running.', 'A man is singing.'],\n",
       "  [\"Egyptian president moves into Mubarak's old office\",\n",
       "   \"Egypt's President-Elect Morsi Starts to Form Government\"],\n",
       "  ['The dog could not figure out how to get a stick out the doggy door.',\n",
       "   'A dog is trying to get through his dog door.'],\n",
       "  ['The white and brown dog is running quickly through the grass.',\n",
       "   'The big white dog is running in the grass.'],\n",
       "  ['In Hinduism and Buddhism there is message of peace and an encouragement to not be materialistic.',\n",
       "   'This relates to the \"discovery\" of Asian, and other non-European cultures by Americans.'],\n",
       "  ['To play golf, the first thing you need is a set of clubs.',\n",
       "   'Having fairly recently taken up the sport myself, I feel your discomfort.'],\n",
       "  ['The companies, Chiron and Aventis Pasteur, together made about 80 million doses of the injected vaccine, which ordinarily would have been enough to meet U.S. demand.',\n",
       "   'Chiron and Aventis Pasteur together made about 80 million doses, ordinarily enough for U.S. demand, The Associated Press reported.'],\n",
       "  ['A woman jumps and poses for the camera.', 'A woman poses for the camera.'],\n",
       "  ['He claims it may seem unrealistic only because little effort has been devoted to the concept.',\n",
       "   '\"This proposal is modest compared with the space programme, and may seem unrealistic only because little effort has been devoted to it.'],\n",
       "  ['A bird eating from a bird feeder.',\n",
       "   'A yellow bird eating fruit on a bird feeder.'],\n",
       "  ['Different parts of California have different wildlife, so you should probably narrow the region.',\n",
       "   'American black bears They are somewhat common in some wilderness areas of California, mostly in the mountains.'],\n",
       "  ['I am not aware of any university run participant pools.',\n",
       "   \"At the universities I've worked in North America, human-subject studies (esp.\"],\n",
       "  ['A girl is riding a horse.', 'The girl trotted the horse.'],\n",
       "  ['There are four snowboarders going off a jump and that are in the air.',\n",
       "   'Two racers are coming to a turn.'],\n",
       "  ['The 30-year bond US30YT=RR dipped 14/32 for a yield of 4.26 percent from 4.23 percent.',\n",
       "   'The 30-year bond US30YT=RR lost 16/32, taking its yield to 4.20 percent from 4.18 percent.'],\n",
       "  ['Federal DOMA does not test the full faith and credit clause so much as the 9th and 10th Amendments to the Constitution.',\n",
       "   'DOMA as a congressional statute could not violate the Full Faith and Credit Clause of the Constitution.'],\n",
       "  ['I was invited in to pitch story ideas to Ron Moore at ST:TNG.',\n",
       "   \"It's obviously possible for it to leave the field without harm - it occurred.\"],\n",
       "  ['INTEL TODAY disclosed details of its next-generation XScale processor for mobile phones and handheld devices here in San Jose.',\n",
       "   'Intel on Wednesday unveiled its next-generation processor for cell phones, PDAs, and other wireless devices.'],\n",
       "  ['Like Chris said above, stars rotate to conserve their angular momentum.',\n",
       "   \"Stars are rotating, but that's not the cause for their stability.\"],\n",
       "  ['A lady with a yellow outfit is in the air above the bed in a yellow room.',\n",
       "   'A dog with a red leash still attached chases over the grass toward a tennis ball.'],\n",
       "  ['A woman is adding oil on fishes.', 'The woman is cutting potatoes.'],\n",
       "  ['Train going down the tracks.',\n",
       "   'A black steam train traveling on the railroad tracks.'],\n",
       "  ['According to Shia Muslims specially Iran state and Hezbollah a country called Israel does not exist.',\n",
       "   'As with the definition of Palestine, the definition of Israel varies depending on whom you ask.'],\n",
       "  ['Absolute majority always defined by the institution, or the context.',\n",
       "   'In countries like India, when you have 2/3 of the seats of all parliament, you have absolute majority.'],\n",
       "  ['Two little girls are talking on the phone.',\n",
       "   'A little girl is walking down the street.'],\n",
       "  [\"The report shows that drugs sold in Canadian pharmacies are manufactured in facilities approved by Health Canada - the FDA's counterpart in Canada.\",\n",
       "   'The report shows that drugs sold in Canadian pharmacies are manufactured in facilities approved by Health Canada, which serves a similar role as the FDA for the Canadian government.'],\n",
       "  [\"Foreign companies eye new 'opening-up'\", 'More carriers likely in China']],\n",
       " 'targets': [1.600000023841858,\n",
       "  2.5,\n",
       "  0.20000000298023224,\n",
       "  1.0,\n",
       "  5.0,\n",
       "  5.0,\n",
       "  0.6000000238418579,\n",
       "  0.20000000298023224,\n",
       "  3.4000000953674316,\n",
       "  1.600000023841858,\n",
       "  3.4000000953674316,\n",
       "  3.5999999046325684,\n",
       "  4.0,\n",
       "  0.6000000238418579,\n",
       "  3.4000000953674316,\n",
       "  3.4000000953674316,\n",
       "  3.75,\n",
       "  5.0,\n",
       "  1.2000000476837158,\n",
       "  3.4000000953674316,\n",
       "  0.0,\n",
       "  3.0,\n",
       "  1.0,\n",
       "  1.25,\n",
       "  2.3333332538604736,\n",
       "  2.75,\n",
       "  3.4000000953674316,\n",
       "  0.0,\n",
       "  1.2000000476837158,\n",
       "  4.400000095367432,\n",
       "  4.0,\n",
       "  3.5,\n",
       "  3.200000047683716,\n",
       "  2.0,\n",
       "  0.6000000238418579,\n",
       "  4.5,\n",
       "  1.0,\n",
       "  3.3329999446868896,\n",
       "  4.0,\n",
       "  0.0,\n",
       "  3.5999999046325684,\n",
       "  3.4000000953674316,\n",
       "  0.0,\n",
       "  0.6000000238418579,\n",
       "  3.799999952316284,\n",
       "  3.200000047683716,\n",
       "  2.5999999046325684,\n",
       "  0.5,\n",
       "  5.0,\n",
       "  0.6000000238418579],\n",
       " 'model_out_list': [0.40580955147743225,\n",
       "  0.4236137568950653,\n",
       "  0.033077191561460495,\n",
       "  0.06899682432413101,\n",
       "  0.9432436227798462,\n",
       "  0.959876537322998,\n",
       "  0.09367510676383972,\n",
       "  0.28021594882011414,\n",
       "  0.6477435231208801,\n",
       "  0.22526220977306366,\n",
       "  0.7990721464157104,\n",
       "  0.5776932239532471,\n",
       "  0.6443841457366943,\n",
       "  0.133329376578331,\n",
       "  0.8757563233375549,\n",
       "  0.6310480237007141,\n",
       "  0.8809149861335754,\n",
       "  0.8901528120040894,\n",
       "  0.12131238728761673,\n",
       "  0.8411725759506226,\n",
       "  0.08773155510425568,\n",
       "  0.5531506538391113,\n",
       "  0.046516600996255875,\n",
       "  0.14793893694877625,\n",
       "  0.3847171366214752,\n",
       "  0.5695744156837463,\n",
       "  0.7721455693244934,\n",
       "  0.04213721305131912,\n",
       "  0.14742454886436462,\n",
       "  0.7270711064338684,\n",
       "  0.716036856174469,\n",
       "  0.6475902199745178,\n",
       "  0.6873340010643005,\n",
       "  0.3172771632671356,\n",
       "  0.13147887587547302,\n",
       "  0.6318874359130859,\n",
       "  0.021011484786868095,\n",
       "  0.5521234273910522,\n",
       "  0.6919965744018555,\n",
       "  0.00944916158914566,\n",
       "  0.7449975609779358,\n",
       "  0.5581924319267273,\n",
       "  0.009263298474252224,\n",
       "  0.2226538360118866,\n",
       "  0.6706908941268921,\n",
       "  0.29130950570106506,\n",
       "  0.32071569561958313,\n",
       "  0.13826458156108856,\n",
       "  0.9487771987915039,\n",
       "  0.014699474908411503],\n",
       " 'raw_attr_list': [tensor([[[ 0.0000e+00,  0.0000e+00,  0.0000e+00,  ...,  0.0000e+00,\n",
       "             0.0000e+00,  0.0000e+00],\n",
       "           [ 0.0000e+00,  0.0000e+00,  0.0000e+00,  ...,  0.0000e+00,\n",
       "             0.0000e+00,  0.0000e+00],\n",
       "           [ 0.0000e+00,  0.0000e+00,  1.0192e-04,  ...,  0.0000e+00,\n",
       "             0.0000e+00,  0.0000e+00],\n",
       "           ...,\n",
       "           [-8.6970e-05, -9.8200e-04,  0.0000e+00,  ...,  0.0000e+00,\n",
       "             0.0000e+00,  0.0000e+00],\n",
       "           [ 0.0000e+00,  0.0000e+00,  0.0000e+00,  ..., -2.4136e-04,\n",
       "             0.0000e+00,  0.0000e+00],\n",
       "           [ 0.0000e+00,  0.0000e+00,  0.0000e+00,  ...,  0.0000e+00,\n",
       "             0.0000e+00,  0.0000e+00]]]),\n",
       "  tensor([[[0.0000, 0.0000, 0.0000,  ..., 0.0000, 0.0000, 0.0000],\n",
       "           [0.0000, 0.0000, 0.0000,  ..., 0.0000, 0.0004, 0.0000],\n",
       "           [0.0014, 0.0004, 0.0000,  ..., 0.0000, 0.0000, 0.0000],\n",
       "           ...,\n",
       "           [0.0000, 0.0000, 0.0000,  ..., 0.0000, 0.0000, 0.0009],\n",
       "           [0.0000, 0.0000, 0.0000,  ..., 0.0000, 0.0000, 0.0000],\n",
       "           [0.0000, 0.0000, 0.0000,  ..., 0.0000, 0.0000, 0.0000]]]),\n",
       "  tensor([[[0., 0., 0.,  ..., 0., 0., 0.],\n",
       "           [0., 0., 0.,  ..., 0., 0., 0.],\n",
       "           [0., 0., 0.,  ..., 0., 0., 0.],\n",
       "           ...,\n",
       "           [0., 0., 0.,  ..., 0., 0., 0.],\n",
       "           [0., 0., 0.,  ..., 0., 0., 0.],\n",
       "           [0., 0., 0.,  ..., 0., 0., 0.]]]),\n",
       "  tensor([[[0., 0., 0.,  ..., 0., 0., 0.],\n",
       "           [0., 0., 0.,  ..., 0., 0., 0.],\n",
       "           [0., 0., 0.,  ..., 0., 0., 0.],\n",
       "           ...,\n",
       "           [0., 0., 0.,  ..., 0., 0., 0.],\n",
       "           [0., 0., 0.,  ..., 0., 0., 0.],\n",
       "           [0., 0., 0.,  ..., 0., 0., 0.]]]),\n",
       "  tensor([[[ 0.0000e+00, -1.3397e-03,  0.0000e+00,  ...,  0.0000e+00,\n",
       "            -1.4672e-04,  0.0000e+00],\n",
       "           [ 0.0000e+00,  0.0000e+00,  0.0000e+00,  ...,  0.0000e+00,\n",
       "             0.0000e+00,  0.0000e+00],\n",
       "           [ 0.0000e+00,  0.0000e+00,  0.0000e+00,  ...,  0.0000e+00,\n",
       "             0.0000e+00,  0.0000e+00],\n",
       "           ...,\n",
       "           [ 0.0000e+00,  0.0000e+00,  0.0000e+00,  ...,  0.0000e+00,\n",
       "             8.7163e-04,  0.0000e+00],\n",
       "           [ 0.0000e+00,  0.0000e+00,  0.0000e+00,  ...,  0.0000e+00,\n",
       "             0.0000e+00,  0.0000e+00],\n",
       "           [ 0.0000e+00,  0.0000e+00,  0.0000e+00,  ...,  6.0571e-05,\n",
       "             0.0000e+00,  0.0000e+00]]]),\n",
       "  tensor([[[0., 0., 0.,  ..., 0., 0., 0.],\n",
       "           [0., 0., 0.,  ..., 0., 0., 0.],\n",
       "           [0., 0., 0.,  ..., 0., 0., 0.],\n",
       "           ...,\n",
       "           [0., 0., 0.,  ..., 0., 0., 0.],\n",
       "           [0., 0., 0.,  ..., 0., 0., 0.],\n",
       "           [0., 0., 0.,  ..., 0., 0., 0.]]]),\n",
       "  tensor([[[0., 0., 0.,  ..., 0., 0., 0.],\n",
       "           [0., 0., 0.,  ..., 0., 0., 0.],\n",
       "           [0., 0., 0.,  ..., 0., 0., 0.],\n",
       "           ...,\n",
       "           [0., 0., 0.,  ..., 0., 0., 0.],\n",
       "           [0., 0., 0.,  ..., 0., 0., 0.],\n",
       "           [0., 0., 0.,  ..., 0., 0., 0.]]]),\n",
       "  tensor([[[0., 0., 0.,  ..., 0., 0., 0.],\n",
       "           [0., 0., 0.,  ..., 0., 0., 0.],\n",
       "           [0., 0., 0.,  ..., 0., 0., 0.],\n",
       "           ...,\n",
       "           [0., 0., 0.,  ..., 0., 0., 0.],\n",
       "           [0., 0., 0.,  ..., 0., 0., 0.],\n",
       "           [0., 0., 0.,  ..., 0., 0., 0.]]]),\n",
       "  tensor([[[0.0000, 0.0000, 0.0000,  ..., 0.0000, 0.0000, 0.0000],\n",
       "           [0.0000, 0.0000, 0.0000,  ..., 0.0000, 0.0000, 0.0000],\n",
       "           [0.0000, 0.0000, 0.0000,  ..., 0.0000, 0.0000, 0.0000],\n",
       "           ...,\n",
       "           [0.0006, 0.0000, 0.0000,  ..., 0.0000, 0.0000, 0.0000],\n",
       "           [0.0000, 0.0000, 0.0000,  ..., 0.0000, 0.0000, 0.0000],\n",
       "           [0.0000, 0.0000, 0.0000,  ..., 0.0000, 0.0000, 0.0000]]]),\n",
       "  tensor([[[ 0.0000e+00,  0.0000e+00,  6.9560e-05,  ..., -7.1504e-04,\n",
       "             0.0000e+00,  0.0000e+00],\n",
       "           [ 0.0000e+00,  0.0000e+00,  0.0000e+00,  ...,  0.0000e+00,\n",
       "             0.0000e+00,  0.0000e+00],\n",
       "           [ 0.0000e+00, -3.8847e-04,  0.0000e+00,  ...,  0.0000e+00,\n",
       "             0.0000e+00,  0.0000e+00],\n",
       "           ...,\n",
       "           [ 0.0000e+00,  0.0000e+00,  0.0000e+00,  ...,  0.0000e+00,\n",
       "             0.0000e+00,  0.0000e+00],\n",
       "           [ 0.0000e+00,  0.0000e+00,  0.0000e+00,  ...,  0.0000e+00,\n",
       "             0.0000e+00,  0.0000e+00],\n",
       "           [ 0.0000e+00,  0.0000e+00,  0.0000e+00,  ...,  0.0000e+00,\n",
       "             0.0000e+00,  0.0000e+00]]]),\n",
       "  tensor([[[ 0.0000,  0.0000,  0.0000,  ...,  0.0000,  0.0000,  0.0011],\n",
       "           [ 0.0000,  0.0000,  0.0000,  ...,  0.0000,  0.0000,  0.0000],\n",
       "           [ 0.0000,  0.0000,  0.0000,  ...,  0.0000,  0.0000,  0.0000],\n",
       "           ...,\n",
       "           [ 0.0000,  0.0000,  0.0000,  ...,  0.0000,  0.0000, -0.0030],\n",
       "           [ 0.0000,  0.0000,  0.0000,  ...,  0.0000,  0.0000,  0.0003],\n",
       "           [ 0.0000,  0.0000,  0.0000,  ...,  0.0085,  0.0026, -0.0021]]]),\n",
       "  tensor([[[0., 0., 0.,  ..., 0., 0., 0.],\n",
       "           [0., 0., 0.,  ..., 0., 0., 0.],\n",
       "           [0., 0., 0.,  ..., 0., 0., 0.],\n",
       "           ...,\n",
       "           [0., 0., 0.,  ..., 0., 0., 0.],\n",
       "           [0., 0., 0.,  ..., 0., 0., 0.],\n",
       "           [0., 0., 0.,  ..., 0., 0., 0.]]]),\n",
       "  tensor([[[ 0.0000,  0.0000,  0.0000,  ...,  0.0000,  0.0000,  0.0000],\n",
       "           [ 0.0000,  0.0000,  0.0000,  ...,  0.0000,  0.0000,  0.0000],\n",
       "           [ 0.0000, -0.0001,  0.0000,  ...,  0.0000,  0.0000,  0.0000],\n",
       "           ...,\n",
       "           [ 0.0000,  0.0000,  0.0000,  ...,  0.0000,  0.0000,  0.0000],\n",
       "           [ 0.0000,  0.0000,  0.0000,  ...,  0.0000,  0.0000,  0.0000],\n",
       "           [ 0.0000,  0.0000,  0.0000,  ...,  0.0000,  0.0000,  0.0000]]]),\n",
       "  tensor([[[0., 0., 0.,  ..., 0., 0., 0.],\n",
       "           [0., 0., 0.,  ..., 0., 0., 0.],\n",
       "           [0., 0., 0.,  ..., 0., 0., 0.],\n",
       "           ...,\n",
       "           [0., 0., 0.,  ..., 0., 0., 0.],\n",
       "           [0., 0., 0.,  ..., 0., 0., 0.],\n",
       "           [0., 0., 0.,  ..., 0., 0., 0.]]]),\n",
       "  tensor([[[0.0000e+00, 0.0000e+00, 0.0000e+00,  ..., 0.0000e+00,\n",
       "            0.0000e+00, 0.0000e+00],\n",
       "           [0.0000e+00, 0.0000e+00, 0.0000e+00,  ..., 0.0000e+00,\n",
       "            0.0000e+00, 0.0000e+00],\n",
       "           [0.0000e+00, 0.0000e+00, 0.0000e+00,  ..., 0.0000e+00,\n",
       "            0.0000e+00, 0.0000e+00],\n",
       "           ...,\n",
       "           [0.0000e+00, 0.0000e+00, 0.0000e+00,  ..., 0.0000e+00,\n",
       "            8.1737e-05, 0.0000e+00],\n",
       "           [0.0000e+00, 0.0000e+00, 0.0000e+00,  ..., 0.0000e+00,\n",
       "            0.0000e+00, 0.0000e+00],\n",
       "           [0.0000e+00, 2.3235e-04, 0.0000e+00,  ..., 0.0000e+00,\n",
       "            0.0000e+00, 0.0000e+00]]]),\n",
       "  tensor([[[0., 0., 0.,  ..., 0., 0., 0.],\n",
       "           [0., 0., 0.,  ..., 0., 0., 0.],\n",
       "           [0., 0., 0.,  ..., 0., 0., 0.],\n",
       "           ...,\n",
       "           [0., 0., 0.,  ..., 0., 0., 0.],\n",
       "           [0., 0., 0.,  ..., 0., 0., 0.],\n",
       "           [0., 0., 0.,  ..., 0., 0., 0.]]]),\n",
       "  tensor([[[-0.0001,  0.0000,  0.0000,  ...,  0.0000,  0.0002,  0.0000],\n",
       "           [ 0.0000,  0.0000,  0.0000,  ...,  0.0000,  0.0000,  0.0000],\n",
       "           [ 0.0000,  0.0000,  0.0000,  ...,  0.0000,  0.0000,  0.0000],\n",
       "           ...,\n",
       "           [ 0.0000,  0.0000,  0.0000,  ...,  0.0000,  0.0000,  0.0000],\n",
       "           [ 0.0000,  0.0000,  0.0000,  ...,  0.0000,  0.0000,  0.0000],\n",
       "           [ 0.0000,  0.0000,  0.0000,  ...,  0.0000,  0.0000,  0.0002]]]),\n",
       "  tensor([[[ 0.0000,  0.0000,  0.0000,  ..., -0.0012,  0.0000,  0.0000],\n",
       "           [ 0.0000,  0.0044,  0.0000,  ...,  0.0000,  0.0000,  0.0000],\n",
       "           [ 0.0000,  0.0000, -0.0013,  ...,  0.0000,  0.0000,  0.0000],\n",
       "           ...,\n",
       "           [ 0.0088,  0.0000,  0.0000,  ...,  0.0000,  0.0000,  0.0000],\n",
       "           [ 0.0000,  0.0000,  0.0000,  ..., -0.0035, -0.0029,  0.0000],\n",
       "           [ 0.0000,  0.0000,  0.0000,  ...,  0.0000, -0.0026,  0.0021]]]),\n",
       "  tensor([[[0., 0., 0.,  ..., 0., 0., 0.],\n",
       "           [0., 0., 0.,  ..., 0., 0., 0.],\n",
       "           [0., 0., 0.,  ..., 0., 0., 0.],\n",
       "           ...,\n",
       "           [0., 0., 0.,  ..., 0., 0., 0.],\n",
       "           [0., 0., 0.,  ..., 0., 0., 0.],\n",
       "           [0., 0., 0.,  ..., 0., 0., 0.]]]),\n",
       "  tensor([[[ 0.0008,  0.0000,  0.0000,  ...,  0.0000,  0.0000,  0.0000],\n",
       "           [ 0.0000,  0.0000,  0.0000,  ..., -0.0002,  0.0000,  0.0000],\n",
       "           [ 0.0000,  0.0000,  0.0000,  ...,  0.0000,  0.0000,  0.0000],\n",
       "           ...,\n",
       "           [ 0.0000, -0.0010,  0.0000,  ...,  0.0000,  0.0000,  0.0000],\n",
       "           [ 0.0000,  0.0000,  0.0000,  ...,  0.0000,  0.0000,  0.0000],\n",
       "           [ 0.0000,  0.0000,  0.0000,  ..., -0.0017,  0.0000,  0.0000]]]),\n",
       "  tensor([[[ 0.0000,  0.0000,  0.0000,  ...,  0.0000,  0.0000,  0.0000],\n",
       "           [ 0.0000,  0.0000,  0.0000,  ...,  0.0000,  0.0000,  0.0000],\n",
       "           [ 0.0000,  0.0000,  0.0000,  ..., -0.0003,  0.0000,  0.0000],\n",
       "           ...,\n",
       "           [ 0.0000,  0.0000,  0.0000,  ...,  0.0000,  0.0000,  0.0000],\n",
       "           [ 0.0000,  0.0000, -0.0003,  ..., -0.0008,  0.0000, -0.0002],\n",
       "           [ 0.0000,  0.0000, -0.0002,  ...,  0.0000,  0.0000,  0.0000]]]),\n",
       "  tensor([[[ 1.2833e-03,  0.0000e+00, -2.3769e-04,  ...,  0.0000e+00,\n",
       "            -1.9855e-03,  0.0000e+00],\n",
       "           [ 0.0000e+00,  0.0000e+00,  0.0000e+00,  ..., -6.5264e-03,\n",
       "             0.0000e+00,  0.0000e+00],\n",
       "           [ 0.0000e+00,  0.0000e+00,  0.0000e+00,  ...,  0.0000e+00,\n",
       "             0.0000e+00, -3.0769e-05],\n",
       "           ...,\n",
       "           [ 0.0000e+00,  0.0000e+00,  0.0000e+00,  ...,  0.0000e+00,\n",
       "             0.0000e+00,  0.0000e+00],\n",
       "           [ 0.0000e+00,  3.6266e-05,  0.0000e+00,  ...,  0.0000e+00,\n",
       "             0.0000e+00,  0.0000e+00],\n",
       "           [ 0.0000e+00,  0.0000e+00,  0.0000e+00,  ...,  0.0000e+00,\n",
       "             0.0000e+00,  0.0000e+00]]]),\n",
       "  tensor([[[ 0.0000,  0.0000,  0.0000,  ...,  0.0000,  0.0000,  0.0000],\n",
       "           [ 0.0000,  0.0000,  0.0000,  ...,  0.0000,  0.0000,  0.0000],\n",
       "           [ 0.0000,  0.0000,  0.0000,  ...,  0.0000,  0.0000,  0.0000],\n",
       "           ...,\n",
       "           [ 0.0000,  0.0000,  0.0000,  ...,  0.0000,  0.0000,  0.0000],\n",
       "           [ 0.0000,  0.0000,  0.0000,  ...,  0.0000,  0.0000,  0.0000],\n",
       "           [ 0.0000, -0.0001,  0.0000,  ...,  0.0000,  0.0000,  0.0000]]]),\n",
       "  tensor([[[0., 0., 0.,  ..., 0., 0., 0.],\n",
       "           [0., 0., 0.,  ..., 0., 0., 0.],\n",
       "           [0., 0., 0.,  ..., 0., 0., 0.],\n",
       "           ...,\n",
       "           [0., 0., 0.,  ..., 0., 0., 0.],\n",
       "           [0., 0., 0.,  ..., 0., 0., 0.],\n",
       "           [0., 0., 0.,  ..., 0., 0., 0.]]]),\n",
       "  tensor([[[ 0.0000,  0.0000,  0.0000,  ...,  0.0004, -0.0003,  0.0000],\n",
       "           [ 0.0000,  0.0000,  0.0000,  ...,  0.0000,  0.0000,  0.0000],\n",
       "           [ 0.0000,  0.0000,  0.0000,  ...,  0.0000,  0.0000,  0.0000],\n",
       "           ...,\n",
       "           [ 0.0000,  0.0000,  0.0000,  ...,  0.0000,  0.0000,  0.0000],\n",
       "           [-0.0013,  0.0000, -0.0006,  ...,  0.0000,  0.0000,  0.0008],\n",
       "           [ 0.0000,  0.0000,  0.0000,  ...,  0.0000,  0.0000,  0.0000]]]),\n",
       "  tensor([[[ 0.0000,  0.0000,  0.0000,  ...,  0.0000,  0.0000,  0.0000],\n",
       "           [ 0.0000,  0.0000,  0.0000,  ...,  0.0000,  0.0000,  0.0000],\n",
       "           [ 0.0000,  0.0000,  0.0000,  ...,  0.0000,  0.0000,  0.0000],\n",
       "           ...,\n",
       "           [ 0.0000,  0.0000,  0.0000,  ...,  0.0000,  0.0000,  0.0000],\n",
       "           [ 0.0000,  0.0000,  0.0000,  ...,  0.0000,  0.0000,  0.0000],\n",
       "           [ 0.0000,  0.0000,  0.0000,  ..., -0.0007,  0.0000,  0.0003]]]),\n",
       "  tensor([[[0., 0., 0.,  ..., 0., 0., 0.],\n",
       "           [0., 0., 0.,  ..., 0., 0., 0.],\n",
       "           [0., 0., 0.,  ..., 0., 0., 0.],\n",
       "           ...,\n",
       "           [0., 0., 0.,  ..., 0., 0., 0.],\n",
       "           [0., 0., 0.,  ..., 0., 0., 0.],\n",
       "           [0., 0., 0.,  ..., 0., 0., 0.]]]),\n",
       "  tensor([[[ 0.0000e+00,  0.0000e+00,  0.0000e+00,  ...,  0.0000e+00,\n",
       "             0.0000e+00,  0.0000e+00],\n",
       "           [ 0.0000e+00,  0.0000e+00,  0.0000e+00,  ...,  0.0000e+00,\n",
       "             0.0000e+00,  0.0000e+00],\n",
       "           [ 0.0000e+00,  0.0000e+00,  0.0000e+00,  ...,  0.0000e+00,\n",
       "             0.0000e+00,  0.0000e+00],\n",
       "           ...,\n",
       "           [ 0.0000e+00,  0.0000e+00,  0.0000e+00,  ...,  0.0000e+00,\n",
       "             0.0000e+00,  0.0000e+00],\n",
       "           [ 0.0000e+00,  0.0000e+00,  0.0000e+00,  ...,  0.0000e+00,\n",
       "             0.0000e+00,  0.0000e+00],\n",
       "           [ 0.0000e+00,  0.0000e+00,  0.0000e+00,  ...,  0.0000e+00,\n",
       "            -4.4708e-05,  0.0000e+00]]]),\n",
       "  tensor([[[0.0000, 0.0006, 0.0000,  ..., 0.0000, 0.0000, 0.0000],\n",
       "           [0.0000, 0.0000, 0.0000,  ..., 0.0000, 0.0000, 0.0000],\n",
       "           [0.0000, 0.0000, 0.0000,  ..., 0.0000, 0.0000, 0.0000],\n",
       "           ...,\n",
       "           [0.0000, 0.0000, 0.0000,  ..., 0.0000, 0.0000, 0.0000],\n",
       "           [0.0000, 0.0000, 0.0000,  ..., 0.0000, 0.0000, 0.0000],\n",
       "           [0.0000, 0.0000, 0.0000,  ..., 0.0000, 0.0000, 0.0000]]]),\n",
       "  tensor([[[0., 0., 0.,  ..., 0., 0., 0.],\n",
       "           [0., 0., 0.,  ..., 0., 0., 0.],\n",
       "           [0., 0., 0.,  ..., 0., 0., 0.],\n",
       "           ...,\n",
       "           [0., 0., 0.,  ..., 0., 0., 0.],\n",
       "           [0., 0., 0.,  ..., 0., 0., 0.],\n",
       "           [0., 0., 0.,  ..., 0., 0., 0.]]]),\n",
       "  tensor([[[ 0.0000,  0.0000,  0.0000,  ...,  0.0000,  0.0000,  0.0001],\n",
       "           [ 0.0000,  0.0000,  0.0000,  ...,  0.0000,  0.0000,  0.0000],\n",
       "           [ 0.0000,  0.0000,  0.0000,  ...,  0.0000,  0.0000,  0.0000],\n",
       "           ...,\n",
       "           [ 0.0000, -0.0004, -0.0019,  ...,  0.0000,  0.0000, -0.0008],\n",
       "           [ 0.0000,  0.0000,  0.0000,  ...,  0.0000,  0.0000,  0.0000],\n",
       "           [ 0.0000,  0.0000,  0.0000,  ...,  0.0000,  0.0000,  0.0000]]]),\n",
       "  tensor([[[0., 0., 0.,  ..., 0., 0., 0.],\n",
       "           [0., 0., 0.,  ..., 0., 0., 0.],\n",
       "           [0., 0., 0.,  ..., 0., 0., 0.],\n",
       "           ...,\n",
       "           [0., 0., 0.,  ..., 0., 0., 0.],\n",
       "           [0., 0., 0.,  ..., 0., 0., 0.],\n",
       "           [0., 0., 0.,  ..., 0., 0., 0.]]]),\n",
       "  tensor([[[0., 0., 0.,  ..., 0., 0., 0.],\n",
       "           [0., 0., 0.,  ..., 0., 0., 0.],\n",
       "           [0., 0., 0.,  ..., 0., 0., 0.],\n",
       "           ...,\n",
       "           [0., 0., 0.,  ..., 0., 0., 0.],\n",
       "           [0., 0., 0.,  ..., 0., 0., 0.],\n",
       "           [0., 0., 0.,  ..., 0., 0., 0.]]]),\n",
       "  tensor([[[0.0000, 0.0000, 0.0000,  ..., 0.0000, 0.0000, 0.0000],\n",
       "           [0.0000, 0.0000, 0.0000,  ..., 0.0000, 0.0000, 0.0005],\n",
       "           [0.0000, 0.0000, 0.0000,  ..., 0.0000, 0.0000, 0.0000],\n",
       "           ...,\n",
       "           [0.0000, 0.0000, 0.0005,  ..., 0.0000, 0.0000, 0.0000],\n",
       "           [0.0000, 0.0000, 0.0000,  ..., 0.0000, 0.0000, 0.0000],\n",
       "           [0.0000, 0.0000, 0.0000,  ..., 0.0000, 0.0000, 0.0000]]]),\n",
       "  tensor([[[0.0000, 0.0000, 0.0000,  ..., 0.0000, 0.0004, 0.0000],\n",
       "           [0.0000, 0.0000, 0.0000,  ..., 0.0000, 0.0000, 0.0000],\n",
       "           [0.0000, 0.0000, 0.0000,  ..., 0.0000, 0.0000, 0.0000],\n",
       "           ...,\n",
       "           [0.0000, 0.0000, 0.0000,  ..., 0.0000, 0.0000, 0.0000],\n",
       "           [0.0000, 0.0000, 0.0000,  ..., 0.0000, 0.0000, 0.0000],\n",
       "           [0.0000, 0.0000, 0.0000,  ..., 0.0000, 0.0000, 0.0000]]]),\n",
       "  tensor([[[ 2.0126e-04,  0.0000e+00,  0.0000e+00,  ...,  0.0000e+00,\n",
       "            -2.3509e-04,  0.0000e+00],\n",
       "           [ 0.0000e+00,  0.0000e+00,  7.8986e-05,  ...,  0.0000e+00,\n",
       "             0.0000e+00,  0.0000e+00],\n",
       "           [ 0.0000e+00,  0.0000e+00,  0.0000e+00,  ...,  0.0000e+00,\n",
       "             6.4775e-04,  0.0000e+00],\n",
       "           ...,\n",
       "           [ 0.0000e+00,  0.0000e+00,  0.0000e+00,  ...,  0.0000e+00,\n",
       "             0.0000e+00,  0.0000e+00],\n",
       "           [ 0.0000e+00,  0.0000e+00,  0.0000e+00,  ...,  0.0000e+00,\n",
       "             0.0000e+00,  0.0000e+00],\n",
       "           [ 0.0000e+00,  0.0000e+00,  0.0000e+00,  ...,  0.0000e+00,\n",
       "             0.0000e+00,  0.0000e+00]]]),\n",
       "  tensor([[[0., 0., 0.,  ..., 0., 0., 0.],\n",
       "           [0., 0., 0.,  ..., 0., 0., 0.],\n",
       "           [0., 0., 0.,  ..., 0., 0., 0.],\n",
       "           ...,\n",
       "           [0., 0., 0.,  ..., 0., 0., 0.],\n",
       "           [0., 0., 0.,  ..., 0., 0., 0.],\n",
       "           [0., 0., 0.,  ..., 0., 0., 0.]]]),\n",
       "  tensor([[[0., 0., 0.,  ..., 0., 0., 0.],\n",
       "           [0., 0., 0.,  ..., 0., 0., 0.],\n",
       "           [0., 0., 0.,  ..., 0., 0., 0.],\n",
       "           ...,\n",
       "           [0., 0., 0.,  ..., 0., 0., 0.],\n",
       "           [0., 0., 0.,  ..., 0., 0., 0.],\n",
       "           [0., 0., 0.,  ..., 0., 0., 0.]]]),\n",
       "  tensor([[[ 0.0000,  0.0000,  0.0000,  ...,  0.0000,  0.0000,  0.0000],\n",
       "           [ 0.0000,  0.0000,  0.0000,  ...,  0.0000,  0.0000,  0.0000],\n",
       "           [ 0.0000,  0.0000,  0.0000,  ...,  0.0000, -0.0007,  0.0000],\n",
       "           ...,\n",
       "           [ 0.0000,  0.0000,  0.0000,  ...,  0.0000,  0.0000,  0.0000],\n",
       "           [ 0.0000,  0.0000,  0.0000,  ...,  0.0000, -0.0006,  0.0000],\n",
       "           [ 0.0000,  0.0000,  0.0000,  ...,  0.0000,  0.0000,  0.0000]]]),\n",
       "  tensor([[[0., 0., 0.,  ..., 0., 0., 0.],\n",
       "           [0., 0., 0.,  ..., 0., 0., 0.],\n",
       "           [0., 0., 0.,  ..., 0., 0., 0.],\n",
       "           ...,\n",
       "           [0., 0., 0.,  ..., 0., 0., 0.],\n",
       "           [0., 0., 0.,  ..., 0., 0., 0.],\n",
       "           [0., 0., 0.,  ..., 0., 0., 0.]]]),\n",
       "  tensor([[[0.0000, 0.0000, 0.0000,  ..., 0.0000, 0.0000, 0.0000],\n",
       "           [0.0000, 0.0000, 0.0000,  ..., 0.0000, 0.0000, 0.0000],\n",
       "           [0.0000, 0.0000, 0.0000,  ..., 0.0000, 0.0000, 0.0000],\n",
       "           ...,\n",
       "           [0.0000, 0.0005, 0.0000,  ..., 0.0000, 0.0000, 0.0000],\n",
       "           [0.0000, 0.0000, 0.0004,  ..., 0.0000, 0.0000, 0.0000],\n",
       "           [0.0000, 0.0000, 0.0000,  ..., 0.0000, 0.0000, 0.0000]]]),\n",
       "  tensor([[[ 0.0000e+00,  0.0000e+00,  0.0000e+00,  ...,  0.0000e+00,\n",
       "             0.0000e+00,  0.0000e+00],\n",
       "           [ 0.0000e+00,  0.0000e+00,  0.0000e+00,  ...,  0.0000e+00,\n",
       "             8.8062e-05,  0.0000e+00],\n",
       "           [ 0.0000e+00,  0.0000e+00,  0.0000e+00,  ...,  0.0000e+00,\n",
       "             0.0000e+00, -2.0319e-04],\n",
       "           ...,\n",
       "           [ 0.0000e+00,  0.0000e+00,  0.0000e+00,  ...,  0.0000e+00,\n",
       "             0.0000e+00,  0.0000e+00],\n",
       "           [ 0.0000e+00,  0.0000e+00,  0.0000e+00,  ...,  0.0000e+00,\n",
       "             0.0000e+00,  0.0000e+00],\n",
       "           [ 0.0000e+00,  0.0000e+00,  0.0000e+00,  ...,  1.2574e-03,\n",
       "             0.0000e+00,  0.0000e+00]]]),\n",
       "  tensor([[[0., 0., 0.,  ..., 0., 0., 0.],\n",
       "           [0., 0., 0.,  ..., 0., 0., 0.],\n",
       "           [0., 0., 0.,  ..., 0., 0., 0.],\n",
       "           ...,\n",
       "           [0., 0., 0.,  ..., 0., 0., 0.],\n",
       "           [0., 0., 0.,  ..., 0., 0., 0.],\n",
       "           [0., 0., 0.,  ..., 0., 0., 0.]]]),\n",
       "  tensor([[[0., 0., 0.,  ..., 0., 0., 0.],\n",
       "           [0., 0., 0.,  ..., 0., 0., 0.],\n",
       "           [0., 0., 0.,  ..., 0., 0., 0.],\n",
       "           ...,\n",
       "           [0., 0., 0.,  ..., 0., 0., 0.],\n",
       "           [0., 0., 0.,  ..., 0., 0., 0.],\n",
       "           [0., 0., 0.,  ..., 0., 0., 0.]]]),\n",
       "  tensor([[[ 0.0000e+00,  0.0000e+00,  1.0094e-05,  ...,  0.0000e+00,\n",
       "             0.0000e+00,  0.0000e+00],\n",
       "           [ 0.0000e+00,  0.0000e+00,  0.0000e+00,  ...,  4.5893e-04,\n",
       "             0.0000e+00,  0.0000e+00],\n",
       "           [ 0.0000e+00,  0.0000e+00,  0.0000e+00,  ...,  0.0000e+00,\n",
       "             0.0000e+00,  0.0000e+00],\n",
       "           ...,\n",
       "           [ 0.0000e+00,  0.0000e+00,  0.0000e+00,  ...,  0.0000e+00,\n",
       "             0.0000e+00,  0.0000e+00],\n",
       "           [ 0.0000e+00,  0.0000e+00,  0.0000e+00,  ...,  0.0000e+00,\n",
       "             0.0000e+00,  0.0000e+00],\n",
       "           [ 0.0000e+00,  0.0000e+00,  0.0000e+00,  ...,  0.0000e+00,\n",
       "             0.0000e+00, -4.8297e-04]]]),\n",
       "  tensor([[[0.0000, 0.0000, 0.0000,  ..., 0.0000, 0.0000, 0.0000],\n",
       "           [0.0000, 0.0000, 0.0000,  ..., 0.0000, 0.0000, 0.0000],\n",
       "           [0.0000, 0.0000, 0.0006,  ..., 0.0000, 0.0000, 0.0000],\n",
       "           ...,\n",
       "           [0.0000, 0.0000, 0.0000,  ..., 0.0000, 0.0000, 0.0000],\n",
       "           [0.0000, 0.0015, 0.0000,  ..., 0.0000, 0.0000, 0.0000],\n",
       "           [0.0000, 0.0000, 0.0000,  ..., 0.0000, 0.0000, 0.0000]]]),\n",
       "  tensor([[[0., 0., 0.,  ..., 0., 0., 0.],\n",
       "           [0., 0., 0.,  ..., 0., 0., 0.],\n",
       "           [0., 0., 0.,  ..., 0., 0., 0.],\n",
       "           ...,\n",
       "           [0., 0., 0.,  ..., 0., 0., 0.],\n",
       "           [0., 0., 0.,  ..., 0., 0., 0.],\n",
       "           [0., 0., 0.,  ..., 0., 0., 0.]]]),\n",
       "  tensor([[[0., 0., 0.,  ..., 0., 0., 0.],\n",
       "           [0., 0., 0.,  ..., 0., 0., 0.],\n",
       "           [0., 0., 0.,  ..., 0., 0., 0.],\n",
       "           ...,\n",
       "           [0., 0., 0.,  ..., 0., 0., 0.],\n",
       "           [0., 0., 0.,  ..., 0., 0., 0.],\n",
       "           [0., 0., 0.,  ..., 0., 0., 0.]]]),\n",
       "  tensor([[[0., 0., 0.,  ..., 0., 0., 0.],\n",
       "           [0., 0., 0.,  ..., 0., 0., 0.],\n",
       "           [0., 0., 0.,  ..., 0., 0., 0.],\n",
       "           ...,\n",
       "           [0., 0., 0.,  ..., 0., 0., 0.],\n",
       "           [0., 0., 0.,  ..., 0., 0., 0.],\n",
       "           [0., 0., 0.,  ..., 0., 0., 0.]]]),\n",
       "  tensor([[[0., 0., 0.,  ..., 0., 0., 0.],\n",
       "           [0., 0., 0.,  ..., 0., 0., 0.],\n",
       "           [0., 0., 0.,  ..., 0., 0., 0.],\n",
       "           ...,\n",
       "           [0., 0., 0.,  ..., 0., 0., 0.],\n",
       "           [0., 0., 0.,  ..., 0., 0., 0.],\n",
       "           [0., 0., 0.,  ..., 0., 0., 0.]]])],\n",
       " 'conti_attr_list': [tensor([ 0.1616, -0.0445,  0.0231,  0.1496, -0.0776, -0.2171, -0.2680, -0.1706,\n",
       "          -0.3077,  0.1092,  0.0008,  0.0457, -0.5824, -0.2981, -0.2035, -0.2626,\n",
       "          -0.2483,  0.1077,  0.2076, -0.2183, -0.0456]),\n",
       "  tensor([-2.3604e-01,  1.8754e-01,  1.4407e-01, -2.6136e-01,  7.1774e-01,\n",
       "          -2.4969e-01, -2.1677e-01,  1.0182e-01,  3.4280e-02, -4.8573e-02,\n",
       "          -1.4498e-01,  1.7343e-04,  1.4616e-01, -1.1008e-01,  2.7211e-01]),\n",
       "  tensor([0., 0., 0., 0., 0., 0., 0., 0., 0., 0., 0., 0., 0., 0., 0., 0., 0., 0.,\n",
       "          0., 0., 0., 1., 0., 0., 0., 0., 0., 0., 0., 0., 0., 0., 0., 0., 0., 0.]),\n",
       "  tensor([ 0.2922, -0.0541, -0.1591, -0.1874,  0.1107, -0.2939, -0.1808, -0.1537,\n",
       "           0.0563, -0.2171, -0.4064,  0.0860,  0.0879, -0.0329, -0.1877,  0.1087,\n",
       "           0.4230, -0.0307, -0.4054,  0.0258]),\n",
       "  tensor([ 0.0852, -0.2680,  0.6995,  0.3807,  0.2493,  0.0385, -0.0269, -0.1435,\n",
       "           0.1568,  0.1081,  0.0432, -0.0681,  0.1439, -0.1228,  0.3509]),\n",
       "  tensor([0., 0., 0., 0., 0., 0., 0., 0., 0., 0., 0., 0., 0., 0., 0., 0., 0.]),\n",
       "  tensor([-1.2306e-01,  6.2887e-02,  2.6412e-04, -3.7192e-02,  7.9994e-02,\n",
       "           2.0912e-01,  1.2619e-02,  2.8846e-02, -1.7967e-01,  1.3505e-01,\n",
       "           2.2691e-01, -2.3617e-01, -6.0113e-02,  1.3753e-02,  7.5812e-03,\n",
       "           1.9337e-01, -1.4733e-02, -6.5489e-02,  1.1075e-01, -1.6219e-01,\n",
       "          -1.3747e-01, -2.4489e-03, -1.6042e-03,  1.4589e-01,  6.9526e-01,\n",
       "          -1.9401e-01, -2.5802e-02, -8.5066e-02, -2.1998e-01,  6.3782e-02,\n",
       "          -8.5560e-02,  3.2371e-03, -6.8278e-02,  8.0760e-02,  8.5259e-02,\n",
       "          -2.2721e-02,  1.6512e-02, -6.2652e-02,  1.0425e-01, -5.9789e-02,\n",
       "           1.2581e-03,  1.7657e-01,  5.9104e-02]),\n",
       "  tensor([ 0.3742, -0.1042,  0.0384,  0.3398, -0.0505, -0.2286,  0.0767,  0.0877,\n",
       "           0.1522,  0.2088, -0.0972, -0.0966, -0.1699,  0.2673,  0.1003,  0.0316,\n",
       "          -0.0894,  0.0507,  0.1566,  0.1731,  0.0093,  0.0019,  0.1260,  0.1691,\n",
       "          -0.1839, -0.1280,  0.2430,  0.1617,  0.1803,  0.3446, -0.0178,  0.0113,\n",
       "          -0.1292, -0.1520, -0.0162, -0.0706]),\n",
       "  tensor([-3.1150e-02,  4.2310e-02,  7.5567e-02,  6.1668e-02, -1.1257e-01,\n",
       "           3.2821e-02, -3.1223e-02, -6.6323e-02,  6.4893e-02,  6.7397e-02,\n",
       "           2.3866e-02,  6.7858e-02,  2.9477e-02, -1.0032e-01,  6.8336e-02,\n",
       "          -6.0720e-02,  1.7892e-01,  9.8725e-02,  1.0742e-01,  5.1767e-01,\n",
       "          -1.8530e-02,  8.8808e-02,  7.4824e-01, -9.1955e-02,  1.6718e-02,\n",
       "          -1.4175e-04, -2.9675e-02,  1.1453e-01, -1.1865e-02,  1.9801e-02]),\n",
       "  tensor([-0.2236, -0.2941,  0.2372, -0.0711, -0.1609,  0.0396, -0.1187,  0.0689,\n",
       "          -0.1517, -0.0505,  0.1289, -0.4141, -0.1279,  0.1041,  0.1347, -0.0831,\n",
       "          -0.1534,  0.3132, -0.0740,  0.3039, -0.0884,  0.0076, -0.2136,  0.1683,\n",
       "          -0.0255, -0.1519, -0.1563, -0.1659, -0.0106, -0.3068, -0.0660, -0.1684,\n",
       "          -0.0950, -0.1773]),\n",
       "  tensor([-0.0319,  0.3623,  0.1340,  0.3932,  0.0513, -0.0388,  0.1645,  0.0797,\n",
       "           0.3422,  0.7481,  0.0803,  0.2111, -0.1220, -0.1087,  0.3674,  0.1819,\n",
       "           0.1290]),\n",
       "  tensor([-0.2642, -0.1390, -0.0160,  0.0266,  0.0082, -0.0491,  0.1485, -0.1516,\n",
       "          -0.1405,  0.0828, -0.0174, -0.1856,  0.2532,  0.1113,  0.1339, -0.1161,\n",
       "           0.0871,  0.1972, -0.1286,  0.0791, -0.0708,  0.2029,  0.3450,  0.0558,\n",
       "           0.0867,  0.0703,  0.1602,  0.1985,  0.2364,  0.3931, -0.1124,  0.1098,\n",
       "          -0.0175,  0.4476,  0.0132]),\n",
       "  tensor([-0.2104, -0.3209,  0.0066,  0.1274,  0.0226, -0.0370,  0.2337,  0.1129,\n",
       "           0.1448, -0.1114,  0.0402, -0.1695,  0.0560,  0.4101, -0.0120, -0.0676,\n",
       "          -0.0055, -0.0389, -0.1499, -0.2642, -0.0828, -0.1409,  0.0208, -0.0498,\n",
       "           0.1565,  0.0153, -0.2288, -0.0217,  0.0760, -0.1667, -0.5553, -0.2643]),\n",
       "  tensor([-1.9468e-02, -4.8877e-02, -4.7925e-02, -6.1252e-02,  8.1544e-02,\n",
       "          -1.8772e-01, -8.3077e-02,  7.0356e-01,  1.7256e-01,  2.4691e-04,\n",
       "          -2.3118e-02, -1.0697e-01, -7.9595e-02, -2.7607e-01, -7.1815e-02,\n",
       "          -1.7660e-02,  2.3620e-01,  5.9087e-02, -1.1234e-01,  2.8570e-01,\n",
       "           6.8577e-02,  2.1293e-01, -1.9957e-01, -6.3151e-02,  1.8562e-01,\n",
       "          -5.0470e-02, -1.1363e-01,  5.8739e-02, -5.9897e-02,  2.0184e-01]),\n",
       "  tensor([ 0.0951, -0.0095,  0.0660,  0.1068,  0.0760,  0.0670,  0.8030,  0.0538,\n",
       "          -0.0456, -0.4200,  0.0666,  0.0668, -0.0334, -0.0079,  0.0698,  0.1246,\n",
       "           0.0191,  0.2997, -0.1480,  0.7562,  0.0674, -0.0293,  0.0899,  0.1814]),\n",
       "  tensor([-0.0203,  0.1152, -0.2984, -0.1106,  0.3124,  0.1483, -0.3694, -0.3092,\n",
       "           0.0039, -0.1142,  0.1222,  0.1532, -0.0170,  0.1545,  0.0047, -0.3154,\n",
       "          -0.3031, -0.1686,  0.0128, -0.3394]),\n",
       "  tensor([ 0.0249,  0.0471,  0.0795,  0.1800, -0.0408, -0.0160, -0.0637, -0.0307,\n",
       "          -0.0158, -0.0773, -0.0523,  0.0122, -0.1454,  0.9252, -0.0373]),\n",
       "  tensor([ 0.0601, -0.0120,  0.0484, -0.0440, -0.0507,  0.8653,  0.1674, -0.0365,\n",
       "           0.1252, -0.0343,  0.0242, -0.0286,  0.4433, -0.1448]),\n",
       "  tensor([-0.0149,  0.7884, -0.0471, -0.1258, -0.3586, -0.2235,  0.0635, -0.0177,\n",
       "          -0.0430, -0.2925,  0.1119,  0.0205, -0.0335,  0.1832,  0.0557, -0.0669,\n",
       "          -0.0735,  0.0953,  0.0084]),\n",
       "  tensor([ 0.1859,  0.4121, -0.1396,  0.0484,  0.2924,  0.3895, -0.0743, -0.1128,\n",
       "           0.3654,  0.3318,  0.0667,  0.1474, -0.2423,  0.0888,  0.0648, -0.2549,\n",
       "          -0.1504,  0.0677]),\n",
       "  tensor([ 0.0966,  0.8371,  0.0202,  0.0681,  0.1997,  0.1099,  0.1177,  0.0280,\n",
       "          -0.1716, -0.0267,  0.3415, -0.1932,  0.1445,  0.1145, -0.0143]),\n",
       "  tensor([-0.0958, -0.1849,  0.3916,  0.0281,  0.1059,  0.6104, -0.1317, -0.0666,\n",
       "           0.1296, -0.0639,  0.3249, -0.1571, -0.6248, -0.0844, -0.1640,  0.1579,\n",
       "          -0.2591]),\n",
       "  tensor([-0.0250, -0.0035, -0.0244, -0.0645, -0.1131, -0.0235, -0.0515,  0.0891,\n",
       "           0.0728,  0.1850, -0.7868, -0.0179,  0.0516, -0.1164,  0.0850,  0.0859,\n",
       "          -0.1579, -0.0540,  0.1270, -0.0497, -0.2040,  0.0819,  0.2152, -0.0633,\n",
       "           0.2692,  0.0048, -0.0916,  0.1371, -0.0496,  0.0776, -0.1557]),\n",
       "  tensor([-0.0245,  0.0000,  0.0236,  0.0000,  0.0000, -0.9316, -0.1966,  0.0000,\n",
       "          -0.0189, -0.0133, -0.2962, -0.0333]),\n",
       "  tensor([-0.0530,  0.1918,  0.1933, -0.4244,  0.0679, -0.1655,  0.0970, -0.1180,\n",
       "           0.3286,  0.3361,  0.1703, -0.3367,  0.1733, -0.0133, -0.0502, -0.0656,\n",
       "          -0.0012,  0.1995]),\n",
       "  tensor([ 0.1271, -0.1175, -0.0275, -0.0803,  0.2328,  0.3768,  0.0083,  0.0815,\n",
       "           0.1825, -0.0310, -0.3619,  0.4930,  0.2432, -0.0557, -0.1436, -0.1379,\n",
       "           0.1047, -0.0865,  0.0584,  0.0145, -0.0465, -0.3606,  0.0267,  0.1310,\n",
       "          -0.0276,  0.1578,  0.1579, -0.0435,  0.0564]),\n",
       "  tensor([0., 0., 0., 0., 1., 0., 0., 0., 0., 0., 0., 0., 0., 0., 0., 0., 0., 0.,\n",
       "          0., 0., 0., 0., 0., 0.]),\n",
       "  tensor([ 0.4297, -0.0027, -0.0335,  0.0882,  0.4573, -0.1423, -0.0711,  0.0423,\n",
       "          -0.1297,  0.2091, -0.0464,  0.2309,  0.0053, -0.0514, -0.0070,  0.1055,\n",
       "           0.2748,  0.1772, -0.0135, -0.3440,  0.1546, -0.1847, -0.0764, -0.4899,\n",
       "           0.0509,  0.0942,  0.0029, -0.0361,  0.1163,  0.0428,  0.0335,  0.0911,\n",
       "          -0.0380]),\n",
       "  tensor([-0.0352, -0.1043, -0.0368,  0.0317, -0.0760,  0.0514,  0.0471, -0.1396,\n",
       "          -0.0527,  0.0107,  0.0733, -0.0434,  0.1274,  0.7163,  0.0944, -0.1277,\n",
       "          -0.0251,  0.0099,  0.1381,  0.1306, -0.0744, -0.0548,  0.0214, -0.2697,\n",
       "          -0.0471,  0.0349,  0.0230, -0.0366, -0.0528]),\n",
       "  tensor([ 0.0000e+00,  0.0000e+00, -5.5756e-02, -2.6458e-02,  0.0000e+00,\n",
       "          -2.6361e-01,  2.1276e-01,  4.0847e-02,  1.9533e-01, -2.6669e-02,\n",
       "          -1.7219e-02,  4.5197e-02,  0.0000e+00,  1.1515e-02,  5.9439e-02,\n",
       "           3.5249e-02,  8.2269e-01,  4.4957e-02,  0.0000e+00,  0.0000e+00,\n",
       "           0.0000e+00,  4.2320e-02,  0.0000e+00, -1.4862e-03, -1.6507e-01,\n",
       "           1.4393e-03, -3.8234e-02,  0.0000e+00, -1.6749e-01,  0.0000e+00,\n",
       "          -1.0775e-01,  4.0629e-02,  7.6111e-02,  0.0000e+00,  0.0000e+00,\n",
       "           0.0000e+00,  0.0000e+00,  0.0000e+00,  1.1291e-01, -1.1230e-01,\n",
       "           4.0167e-04,  1.7869e-01,  1.9760e-02, -4.9637e-02, -1.0177e-03,\n",
       "           5.6808e-02, -3.0069e-02, -5.0765e-03, -1.3059e-01]),\n",
       "  tensor([-0.0183,  0.0491,  0.0172, -0.9674,  0.0307, -0.0021, -0.0143,  0.0060,\n",
       "          -0.1581, -0.0643,  0.0711, -0.0777, -0.0287, -0.1288,  0.0136, -0.0693,\n",
       "           0.0319, -0.0695]),\n",
       "  tensor([-0.0893,  0.1413,  0.1504, -0.0311,  0.1892, -0.1620,  0.1424,  0.1144,\n",
       "           0.0837, -0.0119, -0.1566, -0.0413, -0.0751, -0.0222, -0.0487,  0.0919,\n",
       "           0.1385,  0.0063,  0.0435, -0.3013,  0.1479,  0.0185,  0.0408,  0.0272,\n",
       "          -0.1503, -0.0902, -0.3924, -0.7281,  0.0094, -0.0534,  0.0978, -0.0975,\n",
       "          -0.1296, -0.0536, -0.0036,  0.0128, -0.0052,  0.0733,  0.0233,  0.2035,\n",
       "           0.0526,  0.0877]),\n",
       "  tensor([ 2.3612e-03,  0.0000e+00,  0.0000e+00, -1.0977e-03,  0.0000e+00,\n",
       "           0.0000e+00,  2.6896e-04,  1.1591e-01,  2.1856e-04,  0.0000e+00,\n",
       "           1.2895e-03,  0.0000e+00, -7.1715e-03, -5.2946e-03, -9.9622e-01,\n",
       "           0.0000e+00,  0.0000e+00,  3.2342e-04,  1.0250e-03,  0.0000e+00]),\n",
       "  tensor([ 1.5678e-01, -1.8371e-02,  1.9917e-01, -1.6159e-01, -2.6238e-01,\n",
       "           1.3337e-01, -2.1458e-01,  2.7912e-01, -3.0105e-02, -2.8908e-01,\n",
       "           1.2819e-01, -1.0505e-01, -3.8314e-01,  2.6470e-04,  4.9879e-02,\n",
       "           1.4891e-01,  9.3340e-02,  4.9019e-02,  1.1746e-01,  1.3126e-01,\n",
       "           2.2875e-01,  1.4486e-01,  4.7534e-02,  3.7346e-01, -2.6945e-02,\n",
       "           2.0843e-01, -1.7517e-01,  4.5462e-02,  1.2885e-01, -1.4914e-01,\n",
       "           1.0672e-01, -5.8768e-02,  1.4534e-02, -9.4199e-02,  4.5614e-02]),\n",
       "  tensor([ 0.0100, -0.1415,  0.2833, -0.3473, -0.0615,  0.4005,  0.0062, -0.0511,\n",
       "          -0.0803,  0.2827,  0.3872,  0.1854, -0.0892,  0.0425,  0.2428,  0.1501,\n",
       "          -0.0323,  0.1285, -0.3111,  0.0537,  0.1300, -0.1866,  0.0807, -0.0074,\n",
       "          -0.0143]),\n",
       "  tensor([ 0.0710, -0.1014, -0.2362,  0.0550,  0.0293, -0.3558,  0.0401,  0.4098,\n",
       "           0.1504, -0.0079,  0.4262, -0.2004, -0.4173, -0.2468, -0.0493]),\n",
       "  tensor([ 0.0419,  0.0020, -0.2733,  0.0514, -0.9006,  0.0111,  0.0974, -0.0698,\n",
       "           0.0347, -0.1363, -0.0520, -0.3118, -0.1144,  0.0479,  0.1256, -0.1115,\n",
       "          -0.1537,  0.1103,  0.0285,  0.1394, -0.0636, -0.1136,  0.0439,  0.3370,\n",
       "          -0.0317]),\n",
       "  tensor([-0.2944,  0.0000, -0.1851,  0.0000,  0.4014,  0.7551,  0.0000, -0.0145,\n",
       "           0.0000, -0.0204,  0.0000, -0.0360,  0.0391,  0.0000,  0.0414,  0.2511,\n",
       "           0.0000,  0.0000,  0.0000, -0.0328,  0.0000, -0.2290, -0.0950,  0.0811,\n",
       "           0.0000,  0.0000, -0.0475, -0.0817,  0.0000,  0.0202, -0.0045, -0.0994,\n",
       "           0.0000,  0.0000]),\n",
       "  tensor([-2.4116e-01,  3.3419e-01, -7.7877e-02,  1.2361e-02,  6.5537e-02,\n",
       "           8.1290e-02,  3.6606e-02, -1.2807e-01,  1.1783e-01, -1.1306e-01,\n",
       "          -4.2913e-02, -1.3507e-02,  5.3905e-02, -1.0003e-02,  1.9621e-02,\n",
       "           9.2133e-02,  3.1824e-01, -2.8981e-02, -7.6024e-03,  7.0369e-02,\n",
       "          -3.0572e-04,  1.7558e-01,  1.3346e-02,  1.3149e-01, -2.4988e-02,\n",
       "           4.9874e-01, -1.1792e-01, -1.0993e-02,  4.7891e-01,  9.9687e-02,\n",
       "           1.0768e-01, -6.3683e-02, -1.3675e-01,  6.2267e-02,  1.4405e-01,\n",
       "           3.4109e-03,  2.0762e-01,  9.8703e-02,  8.7052e-02,  8.0270e-02,\n",
       "           5.7317e-02, -1.8376e-01, -1.8179e-01]),\n",
       "  tensor([0., 0., 0., 0., 0., 0., 0., 0., 0., 0., 0., 0., 0., 0., 0., 0., 0., 0., 0., 0., 0., 0., 0., 0.,\n",
       "          0., 0., 0., 0., 0., 0., 0.]),\n",
       "  tensor([ 0.0363,  0.7229,  0.3137, -0.1318,  0.0760, -0.0216,  0.0564,  0.1013,\n",
       "           0.0024,  0.1180, -0.0557, -0.1486,  0.1312, -0.0292, -0.0163,  0.1064,\n",
       "          -0.0360,  0.2150,  0.0122,  0.0433,  0.0398,  0.0662,  0.2911,  0.0017,\n",
       "           0.0705,  0.0590, -0.0780, -0.0706,  0.0582, -0.1134, -0.0814, -0.0821,\n",
       "           0.3228,  0.1629,  0.1234,  0.0791,  0.1016,  0.0592]),\n",
       "  tensor([ 0.0883,  0.0239,  0.1731, -0.1065,  0.0783,  0.1082,  0.3329, -0.1522,\n",
       "          -0.0937,  0.1307, -0.0543,  0.2960, -0.0402, -0.1059,  0.6890,  0.1153,\n",
       "           0.1918,  0.0508, -0.2016,  0.1492, -0.1855, -0.1012,  0.1158,  0.1638,\n",
       "          -0.0379, -0.1075]),\n",
       "  tensor([0., 0., 0., 0., 0., 0., 0., 0., 0., 0., 0., 0., 0., 0., 0., 0., 0., 0., 0., 0., 0., 0., 0., 0.,\n",
       "          0., 0., 0., 0., 0., 0., 0., 0., 0., 0., 0., 0., 0.]),\n",
       "  tensor([-0.0480,  0.2854,  0.0030,  0.0368,  0.4369,  0.0656,  0.5022, -0.1591,\n",
       "           0.0022, -0.1246, -0.0070, -0.1189, -0.0816,  0.5856,  0.0832,  0.1803]),\n",
       "  tensor([ 0.0728,  0.9240,  0.1829,  0.0043, -0.0020,  0.2090, -0.1312,  0.1225,\n",
       "          -0.0834, -0.0659,  0.0722, -0.0032, -0.0407,  0.0145, -0.0443,  0.0478,\n",
       "          -0.1519,  0.0215]),\n",
       "  tensor([-0.1653, -0.0665, -0.0716,  0.3106, -0.3209,  0.1067, -0.1671, -0.0066,\n",
       "          -0.0291,  0.1071,  0.0609, -0.1308,  0.2924,  0.1410,  0.1033, -0.0088,\n",
       "           0.0467, -0.1931, -0.1010,  0.0901,  0.1033,  0.0436, -0.0803,  0.0333,\n",
       "           0.3934, -0.3132,  0.0045, -0.0481,  0.0796,  0.2974, -0.1144, -0.1675,\n",
       "           0.0833,  0.1580,  0.2180,  0.1803]),\n",
       "  tensor([ 0.1130,  0.6352,  0.3241,  0.3098,  0.0062,  0.1311, -0.0274,  0.3806,\n",
       "          -0.0488,  0.0589,  0.0424, -0.0672,  0.1102,  0.1313, -0.0973, -0.1517,\n",
       "           0.3833,  0.1340,  0.0179,  0.0897,  0.0523,  0.0490, -0.0362, -0.0363,\n",
       "           0.0232,  0.1038,  0.3561,  0.0777,  0.1055, -0.1524,  0.1733,  0.0327]),\n",
       "  tensor([-0.0665,  0.4080, -0.4168, -0.0295, -0.0148,  0.3836,  0.1397,  0.1743,\n",
       "          -0.0388, -0.1647, -0.1122,  0.0000, -0.2781,  0.0395,  0.0550,  0.3717,\n",
       "           0.2201,  0.0676,  0.1279,  0.0903]),\n",
       "  tensor([-0.0097,  0.2284,  0.0163, -0.0025, -0.1752, -0.3029, -0.1817, -0.0581,\n",
       "          -0.1385,  0.0764,  0.0108,  0.0565, -0.1439,  0.0671,  0.0934, -0.1052,\n",
       "           0.0561,  0.2043,  0.0233,  0.0488,  0.4955,  0.0551, -0.1726,  0.0505,\n",
       "           0.0126, -0.0436, -0.0326, -0.0335, -0.0932, -0.1224, -0.0452, -0.0122,\n",
       "           0.0010, -0.1758,  0.2003, -0.0840, -0.0862, -0.0466,  0.1412, -0.2476,\n",
       "          -0.0250,  0.0936,  0.1012, -0.1087,  0.1432, -0.0688,  0.0915, -0.0047,\n",
       "          -0.0371, -0.0211,  0.2865,  0.0066,  0.1582,  0.1045, -0.0171, -0.0681]),\n",
       "  tensor([0., 0., 0., 0., 0., 0., 0., 0., 0., 0., 0., 0., 0., 0.])],\n",
       " 'raw_input_list': [['<s>',\n",
       "   'Two',\n",
       "   'dogs',\n",
       "   'are',\n",
       "   'sniffing',\n",
       "   'something',\n",
       "   'in',\n",
       "   'the',\n",
       "   'rocks.',\n",
       "   '</s>',\n",
       "   '</s>',\n",
       "   'Two',\n",
       "   'dogs',\n",
       "   'running',\n",
       "   'down',\n",
       "   'a',\n",
       "   'path',\n",
       "   'in',\n",
       "   'the',\n",
       "   'woods.',\n",
       "   '</s>'],\n",
       "  ['<s>',\n",
       "   'A',\n",
       "   'woman',\n",
       "   'is',\n",
       "   'slicing',\n",
       "   'a',\n",
       "   'potato.',\n",
       "   '</s>',\n",
       "   '</s>',\n",
       "   'A',\n",
       "   'woman',\n",
       "   'is',\n",
       "   'slicing',\n",
       "   'carrot.',\n",
       "   '</s>'],\n",
       "  ['<s>',\n",
       "   'It',\n",
       "   'was',\n",
       "   'before',\n",
       "   'the',\n",
       "   'season',\n",
       "   'began',\n",
       "   'because',\n",
       "   'Amy',\n",
       "   'saw',\n",
       "   'the',\n",
       "   'woman',\n",
       "   'before',\n",
       "   'the',\n",
       "   'Silence',\n",
       "   'took',\n",
       "   'her.',\n",
       "   '</s>',\n",
       "   '</s>',\n",
       "   'The',\n",
       "   'exact',\n",
       "   'timeline',\n",
       "   \"hasn't\",\n",
       "   'been',\n",
       "   'listed',\n",
       "   'yet,',\n",
       "   'but',\n",
       "   'there',\n",
       "   'are',\n",
       "   'a',\n",
       "   'few',\n",
       "   'assumptions',\n",
       "   'we',\n",
       "   'can',\n",
       "   'make.',\n",
       "   '</s>'],\n",
       "  ['<s>',\n",
       "   'Protests',\n",
       "   'for',\n",
       "   'kidnapped',\n",
       "   'girls',\n",
       "   'banned',\n",
       "   'in',\n",
       "   'Nigerian',\n",
       "   'capital',\n",
       "   '</s>',\n",
       "   '</s>',\n",
       "   'Scores',\n",
       "   \"'killed'\",\n",
       "   'in',\n",
       "   'Boko',\n",
       "   'Haram',\n",
       "   'raid',\n",
       "   'in',\n",
       "   'Nigeria',\n",
       "   '</s>'],\n",
       "  ['<s>',\n",
       "   'Oil',\n",
       "   'falls',\n",
       "   'in',\n",
       "   'Asian',\n",
       "   'trade',\n",
       "   '</s>',\n",
       "   '</s>',\n",
       "   'Oil',\n",
       "   'prices',\n",
       "   'down',\n",
       "   'in',\n",
       "   'Asian',\n",
       "   'trade',\n",
       "   '</s>'],\n",
       "  ['<s>',\n",
       "   'There',\n",
       "   'are',\n",
       "   'people',\n",
       "   'out',\n",
       "   'on',\n",
       "   'the',\n",
       "   'street.',\n",
       "   '</s>',\n",
       "   '</s>',\n",
       "   'People',\n",
       "   'are',\n",
       "   'out',\n",
       "   'on',\n",
       "   'the',\n",
       "   'street.',\n",
       "   '</s>'],\n",
       "  ['<s>',\n",
       "   'Here',\n",
       "   'are',\n",
       "   'many',\n",
       "   'samples:',\n",
       "   'Pbase.com',\n",
       "   'Out',\n",
       "   'of',\n",
       "   'the',\n",
       "   '16k',\n",
       "   'photos',\n",
       "   'there,',\n",
       "   \"I'm\",\n",
       "   'sure',\n",
       "   'some',\n",
       "   'are',\n",
       "   'with',\n",
       "   'a',\n",
       "   'd700.',\n",
       "   '</s>',\n",
       "   '</s>',\n",
       "   \"It's\",\n",
       "   'a',\n",
       "   '1:1',\n",
       "   'lens,',\n",
       "   'so',\n",
       "   'that',\n",
       "   'means',\n",
       "   'that',\n",
       "   'the',\n",
       "   'size',\n",
       "   'of',\n",
       "   'the',\n",
       "   'subject',\n",
       "   'will',\n",
       "   'be',\n",
       "   'the',\n",
       "   'same',\n",
       "   'size',\n",
       "   'on',\n",
       "   'the',\n",
       "   'sensor.',\n",
       "   '</s>'],\n",
       "  ['<s>',\n",
       "   'The',\n",
       "   'University',\n",
       "   'constituencies',\n",
       "   'are',\n",
       "   'modelled',\n",
       "   'on',\n",
       "   'the',\n",
       "   'University',\n",
       "   'constituencies',\n",
       "   'in',\n",
       "   'use',\n",
       "   'in',\n",
       "   'Britain',\n",
       "   'in',\n",
       "   '1922',\n",
       "   'when',\n",
       "   'Ireland',\n",
       "   'became',\n",
       "   'independent.',\n",
       "   '</s>',\n",
       "   '</s>',\n",
       "   'This',\n",
       "   'is',\n",
       "   'still',\n",
       "   'a',\n",
       "   'representational',\n",
       "   'form',\n",
       "   'of',\n",
       "   \"gov't,\",\n",
       "   'but',\n",
       "   'with',\n",
       "   'a',\n",
       "   'unique',\n",
       "   'twist.',\n",
       "   '</s>'],\n",
       "  ['<s>',\n",
       "   'One',\n",
       "   'Asian',\n",
       "   'and',\n",
       "   'one',\n",
       "   'occasion',\n",
       "   'woman',\n",
       "   'in',\n",
       "   'glasses',\n",
       "   'smiling',\n",
       "   'with',\n",
       "   'their',\n",
       "   'thumbs',\n",
       "   'up.',\n",
       "   '</s>',\n",
       "   '</s>',\n",
       "   'Two',\n",
       "   'women',\n",
       "   'are',\n",
       "   'posing',\n",
       "   'for',\n",
       "   'the',\n",
       "   'camera',\n",
       "   'and',\n",
       "   'giving',\n",
       "   'the',\n",
       "   'thumbs',\n",
       "   'up',\n",
       "   'sign.',\n",
       "   '</s>'],\n",
       "  ['<s>',\n",
       "   'Three',\n",
       "   'guys',\n",
       "   'in',\n",
       "   'speedos',\n",
       "   'have',\n",
       "   'their',\n",
       "   'feet',\n",
       "   'up',\n",
       "   'on',\n",
       "   'the',\n",
       "   'railing',\n",
       "   'of',\n",
       "   'a',\n",
       "   'boat',\n",
       "   'getting',\n",
       "   'a',\n",
       "   'tan.',\n",
       "   '</s>',\n",
       "   '</s>',\n",
       "   'A',\n",
       "   'few',\n",
       "   'men',\n",
       "   'on',\n",
       "   'the',\n",
       "   'deck',\n",
       "   'are',\n",
       "   'dropping',\n",
       "   'another',\n",
       "   'man',\n",
       "   'into',\n",
       "   'the',\n",
       "   'water',\n",
       "   '</s>'],\n",
       "  ['<s>',\n",
       "   'Cardinals',\n",
       "   'enter',\n",
       "   'Vatican',\n",
       "   'for',\n",
       "   'historic',\n",
       "   'vote',\n",
       "   '</s>',\n",
       "   '</s>',\n",
       "   'Cardinals',\n",
       "   'enter',\n",
       "   'Sistine',\n",
       "   'Chapel',\n",
       "   'to',\n",
       "   'elect',\n",
       "   'pope',\n",
       "   '</s>'],\n",
       "  ['<s>',\n",
       "   'According',\n",
       "   'to',\n",
       "   'this',\n",
       "   'website',\n",
       "   'the',\n",
       "   'peak',\n",
       "   'visible',\n",
       "   'magnitude',\n",
       "   'will',\n",
       "   'be',\n",
       "   'about',\n",
       "   '10.5',\n",
       "   'around',\n",
       "   'February',\n",
       "   '2nd.',\n",
       "   '</s>',\n",
       "   '</s>',\n",
       "   'The',\n",
       "   'AAVSO',\n",
       "   'data',\n",
       "   'seems',\n",
       "   'to',\n",
       "   'indicate',\n",
       "   'that',\n",
       "   'it',\n",
       "   'might',\n",
       "   'have',\n",
       "   'already',\n",
       "   'peaked,',\n",
       "   'at',\n",
       "   'around',\n",
       "   '10.5',\n",
       "   '(visual).',\n",
       "   '</s>'],\n",
       "  ['<s>',\n",
       "   'Is',\n",
       "   'it',\n",
       "   'possible',\n",
       "   'for',\n",
       "   'a',\n",
       "   'match',\n",
       "   'to',\n",
       "   'get',\n",
       "   'tie',\n",
       "   'even',\n",
       "   'after',\n",
       "   'applying',\n",
       "   'D/L',\n",
       "   'method?',\n",
       "   '</s>',\n",
       "   '</s>',\n",
       "   'Yes,',\n",
       "   \"it's\",\n",
       "   'possible',\n",
       "   'for',\n",
       "   'a',\n",
       "   'match',\n",
       "   'to',\n",
       "   'get',\n",
       "   'tie',\n",
       "   'after',\n",
       "   'applying',\n",
       "   'the',\n",
       "   'D/L',\n",
       "   'method.',\n",
       "   '</s>'],\n",
       "  ['<s>',\n",
       "   'Eclipse',\n",
       "   'Below',\n",
       "   'are',\n",
       "   'list',\n",
       "   'of',\n",
       "   'eclipse',\n",
       "   'shortcuts',\n",
       "   'which',\n",
       "   'I',\n",
       "   'use',\n",
       "   'almost',\n",
       "   'everyday.',\n",
       "   '</s>',\n",
       "   '</s>',\n",
       "   'To',\n",
       "   'train',\n",
       "   'yourself',\n",
       "   'to',\n",
       "   'use',\n",
       "   'keyboard',\n",
       "   'shortcuts,',\n",
       "   'unplug',\n",
       "   'your',\n",
       "   'mouse',\n",
       "   'for',\n",
       "   'a',\n",
       "   'few',\n",
       "   'days.',\n",
       "   '</s>'],\n",
       "  ['<s>',\n",
       "   'A',\n",
       "   'woman',\n",
       "   'and',\n",
       "   'child',\n",
       "   'push',\n",
       "   'strollers',\n",
       "   'down',\n",
       "   'the',\n",
       "   'sidewalk.',\n",
       "   '</s>',\n",
       "   '</s>',\n",
       "   'A',\n",
       "   'women',\n",
       "   'and',\n",
       "   'a',\n",
       "   'young',\n",
       "   'girl',\n",
       "   'walking',\n",
       "   'pushchairs',\n",
       "   'along',\n",
       "   'the',\n",
       "   'sidewalk.',\n",
       "   '</s>'],\n",
       "  ['<s>',\n",
       "   'ICC',\n",
       "   'lawyer',\n",
       "   'detained',\n",
       "   'in',\n",
       "   'Libya',\n",
       "   'on',\n",
       "   'security',\n",
       "   'concerns',\n",
       "   '</s>',\n",
       "   '</s>',\n",
       "   'ICC',\n",
       "   'lawyer',\n",
       "   'held',\n",
       "   'in',\n",
       "   'Libya',\n",
       "   'faces',\n",
       "   '45-day',\n",
       "   'detention',\n",
       "   '</s>'],\n",
       "  ['<s>',\n",
       "   'The',\n",
       "   'flag',\n",
       "   'was',\n",
       "   'moving',\n",
       "   'in',\n",
       "   'the',\n",
       "   'air.',\n",
       "   '</s>',\n",
       "   '</s>',\n",
       "   'A',\n",
       "   'flag',\n",
       "   'is',\n",
       "   'waving.',\n",
       "   '</s>'],\n",
       "  ['<s>',\n",
       "   'A',\n",
       "   'woman',\n",
       "   'is',\n",
       "   'cutting',\n",
       "   'broccoli.',\n",
       "   '</s>',\n",
       "   '</s>',\n",
       "   'A',\n",
       "   'woman',\n",
       "   'is',\n",
       "   'slicing',\n",
       "   'broccoli.',\n",
       "   '</s>'],\n",
       "  ['<s>',\n",
       "   'Iran',\n",
       "   'warns',\n",
       "   'Moscow',\n",
       "   'nuclear',\n",
       "   'talks',\n",
       "   'could',\n",
       "   'stall',\n",
       "   '</s>',\n",
       "   '</s>',\n",
       "   'Iranians',\n",
       "   'âĢ',\n",
       "   'ľconfessâĢ',\n",
       "   'Ŀ',\n",
       "   'to',\n",
       "   'nuclear',\n",
       "   'scientist',\n",
       "   'murders',\n",
       "   '</s>'],\n",
       "  ['<s>',\n",
       "   'Syria',\n",
       "   'agrees',\n",
       "   'to',\n",
       "   'surrender',\n",
       "   'chemical',\n",
       "   'weapons',\n",
       "   '</s>',\n",
       "   '</s>',\n",
       "   'Syria',\n",
       "   'FM:',\n",
       "   'We',\n",
       "   'will',\n",
       "   'stop',\n",
       "   'producing',\n",
       "   'chemical',\n",
       "   'weapons',\n",
       "   '</s>'],\n",
       "  ['<s>',\n",
       "   'Chinese',\n",
       "   'shares',\n",
       "   'close',\n",
       "   'lower',\n",
       "   'on',\n",
       "   'Wednesday',\n",
       "   '</s>',\n",
       "   '</s>',\n",
       "   'Chinese',\n",
       "   'students',\n",
       "   'attacked',\n",
       "   'in',\n",
       "   'France',\n",
       "   '</s>'],\n",
       "  ['<s>',\n",
       "   'Protests',\n",
       "   'after',\n",
       "   'George',\n",
       "   'Zimmerman',\n",
       "   'acquitted',\n",
       "   'in',\n",
       "   'Trayvon',\n",
       "   'Martin',\n",
       "   'case',\n",
       "   '</s>',\n",
       "   '</s>',\n",
       "   'Zimmerman',\n",
       "   'acquitted',\n",
       "   'in',\n",
       "   'slaying',\n",
       "   '</s>'],\n",
       "  ['<s>',\n",
       "   'The',\n",
       "   'answer',\n",
       "   'will',\n",
       "   'depend',\n",
       "   'significantly',\n",
       "   'on',\n",
       "   'what',\n",
       "   'country',\n",
       "   \"you're\",\n",
       "   'traveling',\n",
       "   'to.',\n",
       "   '</s>',\n",
       "   '</s>',\n",
       "   'As',\n",
       "   'someone',\n",
       "   'who',\n",
       "   'has',\n",
       "   'always',\n",
       "   'travelled',\n",
       "   'with',\n",
       "   'a',\n",
       "   'lot',\n",
       "   'of',\n",
       "   'prescription',\n",
       "   'medication,',\n",
       "   'I',\n",
       "   'always',\n",
       "   'declare',\n",
       "   'it.',\n",
       "   '</s>'],\n",
       "  ['<s>',\n",
       "   'A',\n",
       "   'man',\n",
       "   'is',\n",
       "   'running.',\n",
       "   '</s>',\n",
       "   '</s>',\n",
       "   'A',\n",
       "   'man',\n",
       "   'is',\n",
       "   'singing.',\n",
       "   '</s>'],\n",
       "  ['<s>',\n",
       "   'Egyptian',\n",
       "   'president',\n",
       "   'moves',\n",
       "   'into',\n",
       "   \"Mubarak's\",\n",
       "   'old',\n",
       "   'office',\n",
       "   '</s>',\n",
       "   '</s>',\n",
       "   \"Egypt's\",\n",
       "   'President-Elect',\n",
       "   'Morsi',\n",
       "   'Starts',\n",
       "   'to',\n",
       "   'Form',\n",
       "   'Government',\n",
       "   '</s>'],\n",
       "  ['<s>',\n",
       "   'The',\n",
       "   'dog',\n",
       "   'could',\n",
       "   'not',\n",
       "   'figure',\n",
       "   'out',\n",
       "   'how',\n",
       "   'to',\n",
       "   'get',\n",
       "   'a',\n",
       "   'stick',\n",
       "   'out',\n",
       "   'the',\n",
       "   'doggy',\n",
       "   'door.',\n",
       "   '</s>',\n",
       "   '</s>',\n",
       "   'A',\n",
       "   'dog',\n",
       "   'is',\n",
       "   'trying',\n",
       "   'to',\n",
       "   'get',\n",
       "   'through',\n",
       "   'his',\n",
       "   'dog',\n",
       "   'door.',\n",
       "   '</s>'],\n",
       "  ['<s>',\n",
       "   'The',\n",
       "   'white',\n",
       "   'and',\n",
       "   'brown',\n",
       "   'dog',\n",
       "   'is',\n",
       "   'running',\n",
       "   'quickly',\n",
       "   'through',\n",
       "   'the',\n",
       "   'grass.',\n",
       "   '</s>',\n",
       "   '</s>',\n",
       "   'The',\n",
       "   'big',\n",
       "   'white',\n",
       "   'dog',\n",
       "   'is',\n",
       "   'running',\n",
       "   'in',\n",
       "   'the',\n",
       "   'grass.',\n",
       "   '</s>'],\n",
       "  ['<s>',\n",
       "   'In',\n",
       "   'Hinduism',\n",
       "   'and',\n",
       "   'Buddhism',\n",
       "   'there',\n",
       "   'is',\n",
       "   'message',\n",
       "   'of',\n",
       "   'peace',\n",
       "   'and',\n",
       "   'an',\n",
       "   'encouragement',\n",
       "   'to',\n",
       "   'not',\n",
       "   'be',\n",
       "   'materialistic.',\n",
       "   '</s>',\n",
       "   '</s>',\n",
       "   'This',\n",
       "   'relates',\n",
       "   'to',\n",
       "   'the',\n",
       "   '\"discovery\"',\n",
       "   'of',\n",
       "   'Asian,',\n",
       "   'and',\n",
       "   'other',\n",
       "   'non-European',\n",
       "   'cultures',\n",
       "   'by',\n",
       "   'Americans.',\n",
       "   '</s>'],\n",
       "  ['<s>',\n",
       "   'To',\n",
       "   'play',\n",
       "   'golf,',\n",
       "   'the',\n",
       "   'first',\n",
       "   'thing',\n",
       "   'you',\n",
       "   'need',\n",
       "   'is',\n",
       "   'a',\n",
       "   'set',\n",
       "   'of',\n",
       "   'clubs.',\n",
       "   '</s>',\n",
       "   '</s>',\n",
       "   'Having',\n",
       "   'fairly',\n",
       "   'recently',\n",
       "   'taken',\n",
       "   'up',\n",
       "   'the',\n",
       "   'sport',\n",
       "   'myself,',\n",
       "   'I',\n",
       "   'feel',\n",
       "   'your',\n",
       "   'discomfort.',\n",
       "   '</s>'],\n",
       "  ['<s>',\n",
       "   'The',\n",
       "   'companies,',\n",
       "   'Chiron',\n",
       "   'and',\n",
       "   'Aventis',\n",
       "   'Pasteur,',\n",
       "   'together',\n",
       "   'made',\n",
       "   'about',\n",
       "   '80',\n",
       "   'million',\n",
       "   'doses',\n",
       "   'of',\n",
       "   'the',\n",
       "   'injected',\n",
       "   'vaccine,',\n",
       "   'which',\n",
       "   'ordinarily',\n",
       "   'would',\n",
       "   'have',\n",
       "   'been',\n",
       "   'enough',\n",
       "   'to',\n",
       "   'meet',\n",
       "   'U.S.',\n",
       "   'demand.',\n",
       "   '</s>',\n",
       "   '</s>',\n",
       "   'Chiron',\n",
       "   'and',\n",
       "   'Aventis',\n",
       "   'Pasteur',\n",
       "   'together',\n",
       "   'made',\n",
       "   'about',\n",
       "   '80',\n",
       "   'million',\n",
       "   'doses,',\n",
       "   'ordinarily',\n",
       "   'enough',\n",
       "   'for',\n",
       "   'U.S.',\n",
       "   'demand,',\n",
       "   'The',\n",
       "   'Associated',\n",
       "   'Press',\n",
       "   'reported.',\n",
       "   '</s>'],\n",
       "  ['<s>',\n",
       "   'A',\n",
       "   'woman',\n",
       "   'jumps',\n",
       "   'and',\n",
       "   'poses',\n",
       "   'for',\n",
       "   'the',\n",
       "   'camera.',\n",
       "   '</s>',\n",
       "   '</s>',\n",
       "   'A',\n",
       "   'woman',\n",
       "   'poses',\n",
       "   'for',\n",
       "   'the',\n",
       "   'camera.',\n",
       "   '</s>'],\n",
       "  ['<s>',\n",
       "   'He',\n",
       "   'claims',\n",
       "   'it',\n",
       "   'may',\n",
       "   'seem',\n",
       "   'unrealistic',\n",
       "   'only',\n",
       "   'because',\n",
       "   'little',\n",
       "   'effort',\n",
       "   'has',\n",
       "   'been',\n",
       "   'devoted',\n",
       "   'to',\n",
       "   'the',\n",
       "   'concept.',\n",
       "   '</s>',\n",
       "   '</s>',\n",
       "   '\"This',\n",
       "   'proposal',\n",
       "   'is',\n",
       "   'modest',\n",
       "   'compared',\n",
       "   'with',\n",
       "   'the',\n",
       "   'space',\n",
       "   'programme,',\n",
       "   'and',\n",
       "   'may',\n",
       "   'seem',\n",
       "   'unrealistic',\n",
       "   'only',\n",
       "   'because',\n",
       "   'little',\n",
       "   'effort',\n",
       "   'has',\n",
       "   'been',\n",
       "   'devoted',\n",
       "   'to',\n",
       "   'it.',\n",
       "   '</s>'],\n",
       "  ['<s>',\n",
       "   'A',\n",
       "   'bird',\n",
       "   'eating',\n",
       "   'from',\n",
       "   'a',\n",
       "   'bird',\n",
       "   'feeder.',\n",
       "   '</s>',\n",
       "   '</s>',\n",
       "   'A',\n",
       "   'yellow',\n",
       "   'bird',\n",
       "   'eating',\n",
       "   'fruit',\n",
       "   'on',\n",
       "   'a',\n",
       "   'bird',\n",
       "   'feeder.',\n",
       "   '</s>'],\n",
       "  ['<s>',\n",
       "   'Different',\n",
       "   'parts',\n",
       "   'of',\n",
       "   'California',\n",
       "   'have',\n",
       "   'different',\n",
       "   'wildlife,',\n",
       "   'so',\n",
       "   'you',\n",
       "   'should',\n",
       "   'probably',\n",
       "   'narrow',\n",
       "   'the',\n",
       "   'region.',\n",
       "   '</s>',\n",
       "   '</s>',\n",
       "   'American',\n",
       "   'black',\n",
       "   'bears',\n",
       "   'They',\n",
       "   'are',\n",
       "   'somewhat',\n",
       "   'common',\n",
       "   'in',\n",
       "   'some',\n",
       "   'wilderness',\n",
       "   'areas',\n",
       "   'of',\n",
       "   'California,',\n",
       "   'mostly',\n",
       "   'in',\n",
       "   'the',\n",
       "   'mountains.',\n",
       "   '</s>'],\n",
       "  ['<s>',\n",
       "   'I',\n",
       "   'am',\n",
       "   'not',\n",
       "   'aware',\n",
       "   'of',\n",
       "   'any',\n",
       "   'university',\n",
       "   'run',\n",
       "   'participant',\n",
       "   'pools.',\n",
       "   '</s>',\n",
       "   '</s>',\n",
       "   'At',\n",
       "   'the',\n",
       "   'universities',\n",
       "   \"I've\",\n",
       "   'worked',\n",
       "   'in',\n",
       "   'North',\n",
       "   'America,',\n",
       "   'human-subject',\n",
       "   'studies',\n",
       "   '(esp.',\n",
       "   '</s>'],\n",
       "  ['<s>',\n",
       "   'A',\n",
       "   'girl',\n",
       "   'is',\n",
       "   'riding',\n",
       "   'a',\n",
       "   'horse.',\n",
       "   '</s>',\n",
       "   '</s>',\n",
       "   'The',\n",
       "   'girl',\n",
       "   'trotted',\n",
       "   'the',\n",
       "   'horse.',\n",
       "   '</s>'],\n",
       "  ['<s>',\n",
       "   'There',\n",
       "   'are',\n",
       "   'four',\n",
       "   'snowboarders',\n",
       "   'going',\n",
       "   'off',\n",
       "   'a',\n",
       "   'jump',\n",
       "   'and',\n",
       "   'that',\n",
       "   'are',\n",
       "   'in',\n",
       "   'the',\n",
       "   'air.',\n",
       "   '</s>',\n",
       "   '</s>',\n",
       "   'Two',\n",
       "   'racers',\n",
       "   'are',\n",
       "   'coming',\n",
       "   'to',\n",
       "   'a',\n",
       "   'turn.',\n",
       "   '</s>'],\n",
       "  ['<s>',\n",
       "   'The',\n",
       "   '30-year',\n",
       "   'bond',\n",
       "   'US30YT=RR',\n",
       "   'dipped',\n",
       "   '14/32',\n",
       "   'for',\n",
       "   'a',\n",
       "   'yield',\n",
       "   'of',\n",
       "   '4.26',\n",
       "   'percent',\n",
       "   'from',\n",
       "   '4.23',\n",
       "   'percent.',\n",
       "   '</s>',\n",
       "   '</s>',\n",
       "   'The',\n",
       "   '30-year',\n",
       "   'bond',\n",
       "   'US30YT=RR',\n",
       "   'lost',\n",
       "   '16/32,',\n",
       "   'taking',\n",
       "   'its',\n",
       "   'yield',\n",
       "   'to',\n",
       "   '4.20',\n",
       "   'percent',\n",
       "   'from',\n",
       "   '4.18',\n",
       "   'percent.',\n",
       "   '</s>'],\n",
       "  ['<s>',\n",
       "   'Federal',\n",
       "   'DOMA',\n",
       "   'does',\n",
       "   'not',\n",
       "   'test',\n",
       "   'the',\n",
       "   'full',\n",
       "   'faith',\n",
       "   'and',\n",
       "   'credit',\n",
       "   'clause',\n",
       "   'so',\n",
       "   'much',\n",
       "   'as',\n",
       "   'the',\n",
       "   '9th',\n",
       "   'and',\n",
       "   '10th',\n",
       "   'Amendments',\n",
       "   'to',\n",
       "   'the',\n",
       "   'Constitution.',\n",
       "   '</s>',\n",
       "   '</s>',\n",
       "   'DOMA',\n",
       "   'as',\n",
       "   'a',\n",
       "   'congressional',\n",
       "   'statute',\n",
       "   'could',\n",
       "   'not',\n",
       "   'violate',\n",
       "   'the',\n",
       "   'Full',\n",
       "   'Faith',\n",
       "   'and',\n",
       "   'Credit',\n",
       "   'Clause',\n",
       "   'of',\n",
       "   'the',\n",
       "   'Constitution.',\n",
       "   '</s>'],\n",
       "  ['<s>',\n",
       "   'I',\n",
       "   'was',\n",
       "   'invited',\n",
       "   'in',\n",
       "   'to',\n",
       "   'pitch',\n",
       "   'story',\n",
       "   'ideas',\n",
       "   'to',\n",
       "   'Ron',\n",
       "   'Moore',\n",
       "   'at',\n",
       "   'ST:TNG.',\n",
       "   '</s>',\n",
       "   '</s>',\n",
       "   \"It's\",\n",
       "   'obviously',\n",
       "   'possible',\n",
       "   'for',\n",
       "   'it',\n",
       "   'to',\n",
       "   'leave',\n",
       "   'the',\n",
       "   'field',\n",
       "   'without',\n",
       "   'harm',\n",
       "   '-',\n",
       "   'it',\n",
       "   'occurred.',\n",
       "   '</s>'],\n",
       "  ['<s>',\n",
       "   'INTEL',\n",
       "   'TODAY',\n",
       "   'disclosed',\n",
       "   'details',\n",
       "   'of',\n",
       "   'its',\n",
       "   'next-generation',\n",
       "   'XScale',\n",
       "   'processor',\n",
       "   'for',\n",
       "   'mobile',\n",
       "   'phones',\n",
       "   'and',\n",
       "   'handheld',\n",
       "   'devices',\n",
       "   'here',\n",
       "   'in',\n",
       "   'San',\n",
       "   'Jose.',\n",
       "   '</s>',\n",
       "   '</s>',\n",
       "   'Intel',\n",
       "   'on',\n",
       "   'Wednesday',\n",
       "   'unveiled',\n",
       "   'its',\n",
       "   'next-generation',\n",
       "   'processor',\n",
       "   'for',\n",
       "   'cell',\n",
       "   'phones,',\n",
       "   'PDAs,',\n",
       "   'and',\n",
       "   'other',\n",
       "   'wireless',\n",
       "   'devices.',\n",
       "   '</s>'],\n",
       "  ['<s>',\n",
       "   'Like',\n",
       "   'Chris',\n",
       "   'said',\n",
       "   'above,',\n",
       "   'stars',\n",
       "   'rotate',\n",
       "   'to',\n",
       "   'conserve',\n",
       "   'their',\n",
       "   'angular',\n",
       "   'momentum.',\n",
       "   '</s>',\n",
       "   '</s>',\n",
       "   'Stars',\n",
       "   'are',\n",
       "   'rotating,',\n",
       "   'but',\n",
       "   \"that's\",\n",
       "   'not',\n",
       "   'the',\n",
       "   'cause',\n",
       "   'for',\n",
       "   'their',\n",
       "   'stability.',\n",
       "   '</s>'],\n",
       "  ['<s>',\n",
       "   'A',\n",
       "   'lady',\n",
       "   'with',\n",
       "   'a',\n",
       "   'yellow',\n",
       "   'outfit',\n",
       "   'is',\n",
       "   'in',\n",
       "   'the',\n",
       "   'air',\n",
       "   'above',\n",
       "   'the',\n",
       "   'bed',\n",
       "   'in',\n",
       "   'a',\n",
       "   'yellow',\n",
       "   'room.',\n",
       "   '</s>',\n",
       "   '</s>',\n",
       "   'A',\n",
       "   'dog',\n",
       "   'with',\n",
       "   'a',\n",
       "   'red',\n",
       "   'leash',\n",
       "   'still',\n",
       "   'attached',\n",
       "   'chases',\n",
       "   'over',\n",
       "   'the',\n",
       "   'grass',\n",
       "   'toward',\n",
       "   'a',\n",
       "   'tennis',\n",
       "   'ball.',\n",
       "   '</s>'],\n",
       "  ['<s>',\n",
       "   'A',\n",
       "   'woman',\n",
       "   'is',\n",
       "   'adding',\n",
       "   'oil',\n",
       "   'on',\n",
       "   'fishes.',\n",
       "   '</s>',\n",
       "   '</s>',\n",
       "   'The',\n",
       "   'woman',\n",
       "   'is',\n",
       "   'cutting',\n",
       "   'potatoes.',\n",
       "   '</s>'],\n",
       "  ['<s>',\n",
       "   'Train',\n",
       "   'going',\n",
       "   'down',\n",
       "   'the',\n",
       "   'tracks.',\n",
       "   '</s>',\n",
       "   '</s>',\n",
       "   'A',\n",
       "   'black',\n",
       "   'steam',\n",
       "   'train',\n",
       "   'traveling',\n",
       "   'on',\n",
       "   'the',\n",
       "   'railroad',\n",
       "   'tracks.',\n",
       "   '</s>'],\n",
       "  ['<s>',\n",
       "   'According',\n",
       "   'to',\n",
       "   'Shia',\n",
       "   'Muslims',\n",
       "   'specially',\n",
       "   'Iran',\n",
       "   'state',\n",
       "   'and',\n",
       "   'Hezbollah',\n",
       "   'a',\n",
       "   'country',\n",
       "   'called',\n",
       "   'Israel',\n",
       "   'does',\n",
       "   'not',\n",
       "   'exist.',\n",
       "   '</s>',\n",
       "   '</s>',\n",
       "   'As',\n",
       "   'with',\n",
       "   'the',\n",
       "   'definition',\n",
       "   'of',\n",
       "   'Palestine,',\n",
       "   'the',\n",
       "   'definition',\n",
       "   'of',\n",
       "   'Israel',\n",
       "   'varies',\n",
       "   'depending',\n",
       "   'on',\n",
       "   'whom',\n",
       "   'you',\n",
       "   'ask.',\n",
       "   '</s>'],\n",
       "  ['<s>',\n",
       "   'Absolute',\n",
       "   'majority',\n",
       "   'always',\n",
       "   'defined',\n",
       "   'by',\n",
       "   'the',\n",
       "   'institution,',\n",
       "   'or',\n",
       "   'the',\n",
       "   'context.',\n",
       "   '</s>',\n",
       "   '</s>',\n",
       "   'In',\n",
       "   'countries',\n",
       "   'like',\n",
       "   'India,',\n",
       "   'when',\n",
       "   'you',\n",
       "   'have',\n",
       "   '2/3',\n",
       "   'of',\n",
       "   'the',\n",
       "   'seats',\n",
       "   'of',\n",
       "   'all',\n",
       "   'parliament,',\n",
       "   'you',\n",
       "   'have',\n",
       "   'absolute',\n",
       "   'majority.',\n",
       "   '</s>'],\n",
       "  ['<s>',\n",
       "   'Two',\n",
       "   'little',\n",
       "   'girls',\n",
       "   'are',\n",
       "   'talking',\n",
       "   'on',\n",
       "   'the',\n",
       "   'phone.',\n",
       "   '</s>',\n",
       "   '</s>',\n",
       "   'A',\n",
       "   'little',\n",
       "   'girl',\n",
       "   'is',\n",
       "   'walking',\n",
       "   'down',\n",
       "   'the',\n",
       "   'street.',\n",
       "   '</s>'],\n",
       "  ['<s>',\n",
       "   'The',\n",
       "   'report',\n",
       "   'shows',\n",
       "   'that',\n",
       "   'drugs',\n",
       "   'sold',\n",
       "   'in',\n",
       "   'Canadian',\n",
       "   'pharmacies',\n",
       "   'are',\n",
       "   'manufactured',\n",
       "   'in',\n",
       "   'facilities',\n",
       "   'approved',\n",
       "   'by',\n",
       "   'Health',\n",
       "   'Canada',\n",
       "   '-',\n",
       "   'the',\n",
       "   \"FDA's\",\n",
       "   'counterpart',\n",
       "   'in',\n",
       "   'Canada.',\n",
       "   '</s>',\n",
       "   '</s>',\n",
       "   'The',\n",
       "   'report',\n",
       "   'shows',\n",
       "   'that',\n",
       "   'drugs',\n",
       "   'sold',\n",
       "   'in',\n",
       "   'Canadian',\n",
       "   'pharmacies',\n",
       "   'are',\n",
       "   'manufactured',\n",
       "   'in',\n",
       "   'facilities',\n",
       "   'approved',\n",
       "   'by',\n",
       "   'Health',\n",
       "   'Canada,',\n",
       "   'which',\n",
       "   'serves',\n",
       "   'a',\n",
       "   'similar',\n",
       "   'role',\n",
       "   'as',\n",
       "   'the',\n",
       "   'FDA',\n",
       "   'for',\n",
       "   'the',\n",
       "   'Canadian',\n",
       "   'government.',\n",
       "   '</s>'],\n",
       "  ['<s>',\n",
       "   'Foreign',\n",
       "   'companies',\n",
       "   'eye',\n",
       "   'new',\n",
       "   \"'opening-up'\",\n",
       "   '</s>',\n",
       "   '</s>',\n",
       "   'More',\n",
       "   'carriers',\n",
       "   'likely',\n",
       "   'in',\n",
       "   'China',\n",
       "   '</s>']]}"
      ]
     },
     "execution_count": 9,
     "metadata": {},
     "output_type": "execute_result"
    }
   ],
   "source": [
    "save_info(idxs, stsb_data_raw, targets, model_out_list, raw_attr_list, conti_attr_list, raw_input_list, fname='lime_out.pkl')"
   ]
  },
  {
   "cell_type": "code",
   "execution_count": null,
   "id": "939ca5dd",
   "metadata": {},
   "outputs": [],
   "source": []
  }
 ],
 "metadata": {
  "kernelspec": {
   "display_name": "Python 3 (ipykernel)",
   "language": "python",
   "name": "python3"
  },
  "language_info": {
   "codemirror_mode": {
    "name": "ipython",
    "version": 3
   },
   "file_extension": ".py",
   "mimetype": "text/x-python",
   "name": "python",
   "nbconvert_exporter": "python",
   "pygments_lexer": "ipython3",
   "version": "3.9.7"
  }
 },
 "nbformat": 4,
 "nbformat_minor": 5
}
