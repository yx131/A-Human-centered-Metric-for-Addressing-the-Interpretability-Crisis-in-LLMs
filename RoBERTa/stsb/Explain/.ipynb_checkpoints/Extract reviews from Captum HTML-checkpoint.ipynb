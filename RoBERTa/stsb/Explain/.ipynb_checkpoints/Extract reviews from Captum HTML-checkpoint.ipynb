{
 "cells": [
  {
   "cell_type": "code",
   "execution_count": 1,
   "id": "9b758049",
   "metadata": {},
   "outputs": [],
   "source": [
    "import os, re, csv\n",
    "import pandas as pd"
   ]
  },
  {
   "cell_type": "code",
   "execution_count": 2,
   "id": "87a81f31",
   "metadata": {},
   "outputs": [],
   "source": [
    "def get_list_of_tables(html_parse):\n",
    "    # initializing tag\n",
    "    table_tag = \"table\"\n",
    "\n",
    "    # regex to extract required strings\n",
    "    reg_str_table = \"(<\" + table_tag + \"(.*?)>(.*?)</\" + table_tag + \">)\"\n",
    "    all_tables = [t[0] for t in  re.findall(reg_str_table, html_parse)]\n",
    "    return all_tables"
   ]
  },
  {
   "cell_type": "code",
   "execution_count": 3,
   "id": "7b853631",
   "metadata": {},
   "outputs": [],
   "source": [
    "def find_marks(html_parse):\n",
    "    mark_tag = \"mark\"\n",
    "    reg_str_mark = \"(<\" + mark_tag + \"(.*?)>(.*?)</\" + mark_tag + \">)\"\n",
    "    all_marks = re.findall(reg_str_mark, html_parse)\n",
    "    all_marks_first_group = ''\n",
    "    for m in all_marks:   \n",
    "        all_marks_first_group += m[0]\n",
    "    \n",
    "    #remove #s begin and finish \n",
    "    s_beg, s_end = r\"\\#s\", r\"\\#\\/s\"\n",
    "    all_marks_first_group = re.sub(s_beg, '[BEGIN]', all_marks_first_group)\n",
    "    \n",
    "    two_ends = \"(<mark.*?>.*?)\\#\\/s(.*?</mark>)(\\s*)(<mark.*?>.*?)\\#\\/s(.*?</mark>)\"\n",
    "    replacement = \"\\g<1>[END]\\g<2>\\g<3>\\g<4>SPLIT_TOKEN[BEGIN]\\g<5>\"\n",
    "    all_marks_first_group = re.sub(two_ends, replacement, all_marks_first_group)\n",
    "    all_marks_first_group = re.sub(s_end, '[END]', all_marks_first_group)\n",
    "    \n",
    "#     print(all_marks_first_group)\n",
    "    return all_marks_first_group"
   ]
  },
  {
   "cell_type": "code",
   "execution_count": 4,
   "id": "20d5345e",
   "metadata": {},
   "outputs": [],
   "source": [
    "def get_reviews_from_html_to_csv(html_file_name):\n",
    "    text_file = open(f\"{html_file_name}\", \"r\")\n",
    "    #read whole file to a string\n",
    "    html_parse = text_file.read()\n",
    "    #close file\n",
    "    text_file.close()\n",
    "    \n",
    "    all_tables = get_list_of_tables(html_parse)\n",
    "    print(f'number of tables parsed: {len(all_tables)}')\n",
    "    \n",
    "    all_interpretations = [find_marks(t) for t in all_tables]\n",
    "    print(f'number of reviews parsed: {len(all_interpretations)}')\n",
    "    split_interpretations = [[i.split(\"SPLIT_TOKEN\")[0], i.split(\"SPLIT_TOKEN\")[1]] for i in all_interpretations]\n",
    "    \n",
    "    out_dir = f'{html_file_name.split(\"/\")[0]}'\n",
    "    out_name = f'{out_dir}//{out_dir}'\n",
    "    \n",
    "    \n",
    "    #make dir if not exists\n",
    "    if not os.path.isdir(out_dir):\n",
    "        os.makedirs(out_dir)       \n",
    "    \n",
    "    #output html file with just reviews\n",
    "    html_file_str = ''\n",
    "    for i, (sent1_int, sent2_int) in enumerate(split_interpretations, start=1):\n",
    "        html_file_str += f'Sample: {i} <br>' + sent1_int + '<br>' + sent2_int + '<hr><br>'\n",
    "    with open(f'{out_name}_stsb.html', 'w') as f:\n",
    "        f.write(html_file_str)\n",
    "    \n",
    "    #output csv\n",
    "    df = pd.DataFrame(columns=['stsb_number', 'sentence1', 'sentence2'])\n",
    "    df['stsb_number'] = [i+1 for i in range(len(split_interpretations))]\n",
    "    df['sentence1'] = [i[0] for i in split_interpretations]\n",
    "    df['sentence2'] = [i[1] for i in split_interpretations]\n",
    "    df.to_csv(f'{out_name}_stsb.csv', index=False, encoding='utf-8')\n",
    "    return df"
   ]
  },
  {
   "cell_type": "code",
   "execution_count": 5,
   "id": "5bd78bb1",
   "metadata": {},
   "outputs": [
    {
     "name": "stdout",
     "output_type": "stream",
     "text": [
      "number of tables parsed: 50\n",
      "number of reviews parsed: 50\n"
     ]
    }
   ],
   "source": [
    "df = get_reviews_from_html_to_csv('deep_lift/deep_lift.html')"
   ]
  },
  {
   "cell_type": "code",
   "execution_count": 6,
   "id": "f2208786",
   "metadata": {},
   "outputs": [
    {
     "data": {
      "text/plain": [
       "stsb_number                                                   50\n",
       "sentence1      <mark style=\"background-color: hsl(120, 75%, 9...\n",
       "sentence2      [BEGIN]                    </font></mark><mark...\n",
       "Name: 49, dtype: object"
      ]
     },
     "execution_count": 6,
     "metadata": {},
     "output_type": "execute_result"
    }
   ],
   "source": [
    "df.loc[49]"
   ]
  },
  {
   "cell_type": "code",
   "execution_count": 7,
   "id": "cb4f9cf8",
   "metadata": {},
   "outputs": [
    {
     "ename": "FileNotFoundError",
     "evalue": "[Errno 2] No such file or directory: 'guided_backprop/guided_backprop.html'",
     "output_type": "error",
     "traceback": [
      "\u001b[0;31m---------------------------------------------------------------------------\u001b[0m",
      "\u001b[0;31mFileNotFoundError\u001b[0m                         Traceback (most recent call last)",
      "\u001b[0;32m/tmp/ipykernel_246691/102484932.py\u001b[0m in \u001b[0;36m<module>\u001b[0;34m\u001b[0m\n\u001b[0;32m----> 1\u001b[0;31m \u001b[0mdf\u001b[0m \u001b[0;34m=\u001b[0m \u001b[0mget_reviews_from_html_to_csv\u001b[0m\u001b[0;34m(\u001b[0m\u001b[0;34m'guided_backprop/guided_backprop.html'\u001b[0m\u001b[0;34m)\u001b[0m\u001b[0;34m\u001b[0m\u001b[0;34m\u001b[0m\u001b[0m\n\u001b[0m",
      "\u001b[0;32m/tmp/ipykernel_246691/1668622850.py\u001b[0m in \u001b[0;36mget_reviews_from_html_to_csv\u001b[0;34m(html_file_name)\u001b[0m\n\u001b[1;32m      1\u001b[0m \u001b[0;32mdef\u001b[0m \u001b[0mget_reviews_from_html_to_csv\u001b[0m\u001b[0;34m(\u001b[0m\u001b[0mhtml_file_name\u001b[0m\u001b[0;34m)\u001b[0m\u001b[0;34m:\u001b[0m\u001b[0;34m\u001b[0m\u001b[0;34m\u001b[0m\u001b[0m\n\u001b[0;32m----> 2\u001b[0;31m     \u001b[0mtext_file\u001b[0m \u001b[0;34m=\u001b[0m \u001b[0mopen\u001b[0m\u001b[0;34m(\u001b[0m\u001b[0;34mf\"{html_file_name}\"\u001b[0m\u001b[0;34m,\u001b[0m \u001b[0;34m\"r\"\u001b[0m\u001b[0;34m)\u001b[0m\u001b[0;34m\u001b[0m\u001b[0;34m\u001b[0m\u001b[0m\n\u001b[0m\u001b[1;32m      3\u001b[0m     \u001b[0;31m#read whole file to a string\u001b[0m\u001b[0;34m\u001b[0m\u001b[0;34m\u001b[0m\u001b[0m\n\u001b[1;32m      4\u001b[0m     \u001b[0mhtml_parse\u001b[0m \u001b[0;34m=\u001b[0m \u001b[0mtext_file\u001b[0m\u001b[0;34m.\u001b[0m\u001b[0mread\u001b[0m\u001b[0;34m(\u001b[0m\u001b[0;34m)\u001b[0m\u001b[0;34m\u001b[0m\u001b[0;34m\u001b[0m\u001b[0m\n\u001b[1;32m      5\u001b[0m     \u001b[0;31m#close file\u001b[0m\u001b[0;34m\u001b[0m\u001b[0;34m\u001b[0m\u001b[0m\n",
      "\u001b[0;31mFileNotFoundError\u001b[0m: [Errno 2] No such file or directory: 'guided_backprop/guided_backprop.html'"
     ]
    }
   ],
   "source": [
    "df = get_reviews_from_html_to_csv('guided_backprop/guided_backprop.html')"
   ]
  },
  {
   "cell_type": "code",
   "execution_count": null,
   "id": "c4ab3714",
   "metadata": {},
   "outputs": [],
   "source": [
    "df = get_reviews_from_html_to_csv('input_x_gradients/input_x_gradients.html')"
   ]
  },
  {
   "cell_type": "code",
   "execution_count": null,
   "id": "6a68c97a",
   "metadata": {},
   "outputs": [],
   "source": [
    "df = get_reviews_from_html_to_csv('integrated_gradients/integrated_gradients.html')"
   ]
  },
  {
   "cell_type": "code",
   "execution_count": null,
   "id": "a7acbd92",
   "metadata": {},
   "outputs": [],
   "source": [
    "df = get_reviews_from_html_to_csv('kernel_shap/kernel_shap.html')"
   ]
  },
  {
   "cell_type": "code",
   "execution_count": null,
   "id": "6c108530",
   "metadata": {},
   "outputs": [],
   "source": [
    "df = get_reviews_from_html_to_csv('lime/lime.html')"
   ]
  },
  {
   "cell_type": "code",
   "execution_count": null,
   "id": "d9202365",
   "metadata": {},
   "outputs": [],
   "source": [
    "test_str = '  <mark style=\"background-color: hsl(0, 75%, 100%); opacity:1.0;                     line-height:1.75\">                                    <font color=\"black\"> a </font></mark>                                <mark style=\"background-color: hsl(120, 75%, 84%); opacity:1.0;                     line-height:1.75\">                                    <font color=\"black\"> d700. </font></mark>                                <mark style=\"background-color: hsl(120, 75%, 99%); opacity:1.0;                     line-height:1.75\">                                    <font color=\"black\">                                        #/s </font></mark>                                <mark style=\"background-color: hsl(120, 75%, 100%); opacity:1.0;                     line-height:1.75\">                                    <font color=\"black\"> #/s </font></mark>                                <mark style=\"background-color: hsl(120, 75%, 85%); opacity:1.0;                     line-height:1.75\">                                    <font color=\"black\"> It\\'s </font></mark>                                <mark style=\"background-color: hsl(0, 75%, 99%); opacity:1.0;                     line-height:1.75\">                                    <font color=\"black\"> a </font></mark>'"
   ]
  },
  {
   "cell_type": "code",
   "execution_count": null,
   "id": "c1dac656",
   "metadata": {},
   "outputs": [],
   "source": [
    "test_str"
   ]
  },
  {
   "cell_type": "code",
   "execution_count": null,
   "id": "06fd9d03",
   "metadata": {},
   "outputs": [],
   "source": [
    "mark_tag = \"mark\"\n",
    "one_end = \"(<mark.*?>.*?)\\#\\/s(.*?</mark>)(\\s*)(<mark.*?>.*?)\\#\\/s(.*?</mark>)\"\n",
    "replacement = \"\\g<1>[END]\\g<2>\\g<3>\\g<4>[BEGIN]\\g<5>\"\n",
    "# replacement = 'whoopi'\n",
    "\n"
   ]
  },
  {
   "cell_type": "code",
   "execution_count": null,
   "id": "05283ba1",
   "metadata": {},
   "outputs": [],
   "source": [
    "subbed = re.sub(one_end, replacement, test_str)"
   ]
  },
  {
   "cell_type": "code",
   "execution_count": null,
   "id": "7fc502b2",
   "metadata": {},
   "outputs": [],
   "source": [
    "subbed"
   ]
  },
  {
   "cell_type": "code",
   "execution_count": null,
   "id": "b4e23076",
   "metadata": {},
   "outputs": [],
   "source": [
    "find = \"(<mark.*?>.*?\\#\\/s.*?</mark>)(\\s*)(<mark.*?>.*?\\#\\/s.*?</mark>)\""
   ]
  },
  {
   "cell_type": "code",
   "execution_count": null,
   "id": "7537361f",
   "metadata": {},
   "outputs": [],
   "source": [
    "replace = "
   ]
  },
  {
   "cell_type": "code",
   "execution_count": null,
   "id": "9791fd52",
   "metadata": {},
   "outputs": [],
   "source": []
  }
 ],
 "metadata": {
  "kernelspec": {
   "display_name": "Python 3 (ipykernel)",
   "language": "python",
   "name": "python3"
  },
  "language_info": {
   "codemirror_mode": {
    "name": "ipython",
    "version": 3
   },
   "file_extension": ".py",
   "mimetype": "text/x-python",
   "name": "python",
   "nbconvert_exporter": "python",
   "pygments_lexer": "ipython3",
   "version": "3.9.7"
  }
 },
 "nbformat": 4,
 "nbformat_minor": 5
}
