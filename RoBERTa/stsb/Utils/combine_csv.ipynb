{
 "cells": [
  {
   "cell_type": "code",
   "execution_count": 1,
   "id": "51ab9cca",
   "metadata": {},
   "outputs": [],
   "source": [
    "import pandas as pd"
   ]
  },
  {
   "cell_type": "code",
   "execution_count": 2,
   "id": "5c2edf68",
   "metadata": {},
   "outputs": [],
   "source": [
    "lime = pd.read_csv('lime.csv')\n",
    "deep_lift = pd.read_csv('deep_lift.csv')\n",
    "integrated_gradients = pd.read_csv('integrated_gradients.csv')\n",
    "input_x_gradient = pd.read_csv('input_x_gradient.csv')"
   ]
  },
  {
   "cell_type": "code",
   "execution_count": 3,
   "id": "5709c5e9",
   "metadata": {},
   "outputs": [],
   "source": [
    "df_list = [lime,\n",
    "deep_lift,\n",
    "integrated_gradients,\n",
    "input_x_gradient]"
   ]
  },
  {
   "cell_type": "code",
   "execution_count": 4,
   "id": "36a88c4f",
   "metadata": {},
   "outputs": [],
   "source": [
    "k_begin, k_end = 5, 19"
   ]
  },
  {
   "cell_type": "code",
   "execution_count": 5,
   "id": "83b23241",
   "metadata": {},
   "outputs": [],
   "source": [
    "reviews_list = []\n",
    "for df in df_list:\n",
    "    for rev in df.loc[k_begin:k_end]['reviews'].values:\n",
    "        reviews_list.append(rev)"
   ]
  },
  {
   "cell_type": "code",
   "execution_count": 6,
   "id": "e0de1ea0",
   "metadata": {},
   "outputs": [],
   "source": [
    "out_df = pd.DataFrame(columns=['reviews'])"
   ]
  },
  {
   "cell_type": "code",
   "execution_count": 7,
   "id": "e68872fe",
   "metadata": {},
   "outputs": [],
   "source": [
    "out_df['reviews'] = reviews_list"
   ]
  },
  {
   "cell_type": "code",
   "execution_count": 8,
   "id": "4e2fe7f0",
   "metadata": {},
   "outputs": [
    {
     "data": {
      "text/plain": [
       "(60, 1)"
      ]
     },
     "execution_count": 8,
     "metadata": {},
     "output_type": "execute_result"
    }
   ],
   "source": [
    "out_df.shape"
   ]
  },
  {
   "cell_type": "code",
   "execution_count": 9,
   "id": "1520508c",
   "metadata": {},
   "outputs": [],
   "source": [
    "out_df.to_csv(f'examples_{k_begin}_thru_{k_end}.csv', index=False)"
   ]
  },
  {
   "cell_type": "code",
   "execution_count": null,
   "id": "093463df",
   "metadata": {},
   "outputs": [],
   "source": []
  }
 ],
 "metadata": {
  "kernelspec": {
   "display_name": "Python 3 (ipykernel)",
   "language": "python",
   "name": "python3"
  },
  "language_info": {
   "codemirror_mode": {
    "name": "ipython",
    "version": 3
   },
   "file_extension": ".py",
   "mimetype": "text/x-python",
   "name": "python",
   "nbconvert_exporter": "python",
   "pygments_lexer": "ipython3",
   "version": "3.9.7"
  }
 },
 "nbformat": 4,
 "nbformat_minor": 5
}
