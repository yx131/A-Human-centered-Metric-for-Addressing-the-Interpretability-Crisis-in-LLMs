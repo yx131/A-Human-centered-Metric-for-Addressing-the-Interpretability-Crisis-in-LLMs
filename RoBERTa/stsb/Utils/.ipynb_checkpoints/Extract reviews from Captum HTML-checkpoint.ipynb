{
 "cells": [
  {
   "cell_type": "code",
   "execution_count": 1,
   "id": "9b758049",
   "metadata": {},
   "outputs": [],
   "source": [
    "import os, re, csv\n",
    "import pandas as pd"
   ]
  },
  {
   "cell_type": "code",
   "execution_count": 2,
   "id": "87a81f31",
   "metadata": {},
   "outputs": [],
   "source": [
    "def get_list_of_tables(html_parse):\n",
    "    # initializing tag\n",
    "    table_tag = \"table\"\n",
    "\n",
    "    # regex to extract required strings\n",
    "    reg_str_table = \"(<\" + table_tag + \"(.*?)>(.*?)</\" + table_tag + \">)\"\n",
    "    all_tables = [t[0] for t in  re.findall(reg_str_table, html_parse)]\n",
    "    return all_tables"
   ]
  },
  {
   "cell_type": "code",
   "execution_count": 3,
   "id": "7b853631",
   "metadata": {},
   "outputs": [],
   "source": [
    "def find_marks(html_parse):\n",
    "    mark_tag = \"mark\"\n",
    "    reg_str_mark = \"(<\" + mark_tag + \"(.*?)>(.*?)</\" + mark_tag + \">)\"\n",
    "    all_marks = re.findall(reg_str_mark, html_parse)\n",
    "    all_marks_first_group = ''\n",
    "    for m in all_marks:\n",
    "        \n",
    "        all_marks_first_group += m[0]\n",
    "    return all_marks_first_group"
   ]
  },
  {
   "cell_type": "code",
   "execution_count": 4,
   "id": "20d5345e",
   "metadata": {},
   "outputs": [],
   "source": [
    "def get_reviews_from_html_to_csv(html_file_name):\n",
    "    text_file = open(f\"{html_file_name}\", \"r\")\n",
    "    #read whole file to a string\n",
    "    html_parse = text_file.read()\n",
    "    #close file\n",
    "    text_file.close()\n",
    "    \n",
    "    all_tables = get_list_of_tables(html_parse)\n",
    "    print(f'number of tables parsed: {len(all_tables)}')\n",
    "    \n",
    "    all_reviews = [find_marks(t) for t in all_tables]\n",
    "    print(f'number of reviews parsed: {len(all_reviews)}')\n",
    "    \n",
    "    out_dir = f'{html_file_name.split(\".\")[0]}'\n",
    "    out_name = f'{out_dir}//{out_dir}'\n",
    "    \n",
    "    \n",
    "    #make dir if not exists\n",
    "    if not os.path.isdir(mypath):\n",
    "        os.makedirs(out_dir)       \n",
    "    \n",
    "    #output html file with just reviews\n",
    "    html_file_str = ''\n",
    "    for r in all_reviews:\n",
    "        html_file_str += r + '<br><br>'\n",
    "    with open(f'{out_name}_reviews.html', 'w') as f:\n",
    "        f.write(html_file_str)\n",
    "    \n",
    "    #output csv\n",
    "    df = pd.DataFrame(columns=['reviews'])\n",
    "    df['reviews'] = all_reviews\n",
    "    df['reiview_number'] = [i+1 for i in range(len(all_reviews))]\n",
    "    df.to_csv(f'{out_name}.csv', index=False, encoding='utf-8')\n",
    "    return df"
   ]
  },
  {
   "cell_type": "code",
   "execution_count": 5,
   "id": "6d0b7eae",
   "metadata": {
    "scrolled": false
   },
   "outputs": [
    {
     "name": "stdout",
     "output_type": "stream",
     "text": [
      "number of tables parsed: 100\n",
      "number of reviews parsed: 100\n"
     ]
    }
   ],
   "source": [
    "df = get_reviews_from_html_to_csv('lime.html')"
   ]
  },
  {
   "cell_type": "code",
   "execution_count": 6,
   "id": "93550847",
   "metadata": {
    "scrolled": false
   },
   "outputs": [
    {
     "name": "stdout",
     "output_type": "stream",
     "text": [
      "number of tables parsed: 100\n",
      "number of reviews parsed: 100\n"
     ]
    }
   ],
   "source": [
    "df = get_reviews_from_html_to_csv('deep_lift.html')"
   ]
  },
  {
   "cell_type": "code",
   "execution_count": 7,
   "id": "6a76f6ca",
   "metadata": {},
   "outputs": [
    {
     "name": "stdout",
     "output_type": "stream",
     "text": [
      "number of tables parsed: 100\n",
      "number of reviews parsed: 100\n"
     ]
    }
   ],
   "source": [
    "df = get_reviews_from_html_to_csv('integrated_gradients.html')"
   ]
  },
  {
   "cell_type": "code",
   "execution_count": 8,
   "id": "93404012",
   "metadata": {},
   "outputs": [
    {
     "name": "stdout",
     "output_type": "stream",
     "text": [
      "number of tables parsed: 100\n",
      "number of reviews parsed: 100\n"
     ]
    }
   ],
   "source": [
    "df = get_reviews_from_html_to_csv('input_x_gradient.html')"
   ]
  }
 ],
 "metadata": {
  "kernelspec": {
   "display_name": "Python 3 (ipykernel)",
   "language": "python",
   "name": "python3"
  },
  "language_info": {
   "codemirror_mode": {
    "name": "ipython",
    "version": 3
   },
   "file_extension": ".py",
   "mimetype": "text/x-python",
   "name": "python",
   "nbconvert_exporter": "python",
   "pygments_lexer": "ipython3",
   "version": "3.9.7"
  }
 },
 "nbformat": 4,
 "nbformat_minor": 5
}
