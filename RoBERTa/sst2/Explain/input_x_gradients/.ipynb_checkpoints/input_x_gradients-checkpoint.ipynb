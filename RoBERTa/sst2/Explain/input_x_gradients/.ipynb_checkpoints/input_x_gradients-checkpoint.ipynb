{
 "cells": [
  {
   "cell_type": "code",
   "execution_count": 1,
   "id": "806fb4a1",
   "metadata": {},
   "outputs": [],
   "source": [
    "import sys, time, pickle, torch\n",
    "sys.path.insert(0, '../../Models')\n",
    "sys.path.insert(0, '../../Utils')\n",
    "sys.path.insert(0, '../../Preprocess')\n",
    "import numpy as np\n",
    "import pandas as pd\n",
    "from preload_models import get_sst2_tok_n_model\n",
    "from _utils import sample_random_glue_sst2, get_continuation_mapping, \\\n",
    "                    get_continuous_attributions, get_continuous_raw_inputs, \\\n",
    "                    collect_info_for_metric, save_info"
   ]
  },
  {
   "cell_type": "code",
   "execution_count": 2,
   "id": "dd38a1a9",
   "metadata": {},
   "outputs": [
    {
     "name": "stderr",
     "output_type": "stream",
     "text": [
      "Reusing dataset glue (/home/user/.cache/huggingface/datasets/glue/sst2/1.0.0/dacbe3125aa31d7f70367a07a8a9e72a5a0bfeb5fc42e75c9db75b96da6053ad)\n"
     ]
    },
    {
     "data": {
      "application/vnd.jupyter.widget-view+json": {
       "model_id": "6535e7981ca04b30b183702670911aa1",
       "version_major": 2,
       "version_minor": 0
      },
      "text/plain": [
       "  0%|          | 0/3 [00:00<?, ?it/s]"
      ]
     },
     "metadata": {},
     "output_type": "display_data"
    },
    {
     "name": "stderr",
     "output_type": "stream",
     "text": [
      "Loading cached processed dataset at /home/user/.cache/huggingface/datasets/glue/sst2/1.0.0/dacbe3125aa31d7f70367a07a8a9e72a5a0bfeb5fc42e75c9db75b96da6053ad/cache-3b24abff24d1d8c0.arrow\n",
      "Loading cached processed dataset at /home/user/.cache/huggingface/datasets/glue/sst2/1.0.0/dacbe3125aa31d7f70367a07a8a9e72a5a0bfeb5fc42e75c9db75b96da6053ad/cache-5960909ab3834668.arrow\n"
     ]
    }
   ],
   "source": [
    "sst2_data_raw, targets, idxs = sample_random_glue_sst2()"
   ]
  },
  {
   "cell_type": "code",
   "execution_count": 3,
   "id": "c90c47e9",
   "metadata": {},
   "outputs": [],
   "source": [
    "tokenizer, model = get_sst2_tok_n_model()"
   ]
  },
  {
   "cell_type": "code",
   "execution_count": 4,
   "id": "17be71bc",
   "metadata": {},
   "outputs": [],
   "source": [
    "#define some containers to save some info\n",
    "model_out_list, raw_attr_list, conti_attr_list, raw_input_list = [], [], [], []"
   ]
  },
  {
   "cell_type": "code",
   "execution_count": 5,
   "id": "d272625c",
   "metadata": {},
   "outputs": [],
   "source": [
    "from captum.attr import InputXGradient\n",
    "from captum.attr import visualization "
   ]
  },
  {
   "cell_type": "code",
   "execution_count": 6,
   "id": "8067da5f",
   "metadata": {},
   "outputs": [],
   "source": [
    "input_x_gradient  = InputXGradient(model)"
   ]
  },
  {
   "cell_type": "code",
   "execution_count": 7,
   "id": "c47d4631",
   "metadata": {},
   "outputs": [],
   "source": [
    "def generate_record(raw_review, target):\n",
    "    #tokenizer operations\n",
    "    tokenized = tokenizer(raw_review, truncation=True, return_offsets_mapping=True)\n",
    "    offset_mapping = tokenized['offset_mapping']\n",
    "    conti_map = get_continuation_mapping(offset_mapping)\n",
    "    input_ids = torch.tensor(tokenized['input_ids']).unsqueeze(0)\n",
    "    detokenized = [t.replace('Ġ', '') for t in tokenizer.convert_ids_to_tokens(input_ids[0])]\n",
    "    \n",
    "    #feeding input forward \n",
    "    input_emb = model.get_embeddings(input_ids)\n",
    "    pred_prob = model(input_emb).item()\n",
    "    \n",
    "    #categorizing results\n",
    "    pred_class = 'Pos' if pred_prob > 0.5 else 'Neg' \n",
    "    true_class = 'Pos' if target > 0.5 else 'Neg' \n",
    "    \n",
    "    #attribution algorithm working\n",
    "    attribution = input_x_gradient.attribute(input_emb)\n",
    "    word_attributions = attribution.squeeze(0).sum(dim=1)\n",
    "    word_attributions /= torch.norm(word_attributions)\n",
    "    attr_score = torch.sum(word_attributions)\n",
    "    attr_class = 'Pos' if attr_score > 0.5 else 'Neg'\n",
    "    convergence_score = None\n",
    "    \n",
    "    \n",
    "    #re-organizing tensors and arrays because words get split down\n",
    "    conti_attr = get_continuous_attributions(conti_map, word_attributions)\n",
    "    raw_input = get_continuous_raw_inputs(conti_map, detokenized)\n",
    "\n",
    "#     print(f'word attributions {word_attributions}')\n",
    "#     print(f'pred_prob {pred_prob}')\n",
    "#     print(f'pred_class {pred_class}')\n",
    "#     print(f'true_class {true_class}')\n",
    "#     print(f'attribution {attribution}')\n",
    "#     print(f'attr_class {attr_class}')\n",
    "#     print(f'attr_score {attr_score}')\n",
    "#     print(f'raw_input {raw_input}')\n",
    "\n",
    "        \n",
    "#     collect info for metrics later\n",
    "    collect_info_for_metric(model_out_list, pred_prob, raw_attr_list, attribution, conti_attr_list, conti_attr, raw_input_list, raw_input)\n",
    "        \n",
    "    \n",
    "    visual_record = visualization.VisualizationDataRecord(word_attributions=word_attributions,\n",
    "                                                         pred_prob=pred_prob,\n",
    "                                                         pred_class=pred_class,\n",
    "                                                         true_class=true_class,\n",
    "                                                         attr_class=attr_class,\n",
    "                                                         attr_score=attr_score,\n",
    "                                                         raw_input=raw_input,\n",
    "                                                         convergence_score=convergence_score)\n",
    "        \n",
    "        \n",
    "    return visual_record\n",
    "      \n",
    "    "
   ]
  },
  {
   "cell_type": "code",
   "execution_count": 8,
   "id": "37efa6df",
   "metadata": {
    "scrolled": false
   },
   "outputs": [
    {
     "name": "stdout",
     "output_type": "stream",
     "text": [
      "Raw review: an unforgettable \n",
      "GT target: 1\n"
     ]
    },
    {
     "data": {
      "text/html": [
       "<table width: 100%><div style=\"border-top: 1px solid; margin-top: 5px;             padding-top: 5px; display: inline-block\"><b>Legend: </b><span style=\"display: inline-block; width: 10px; height: 10px;                 border: 1px solid; background-color:                 hsl(0, 75%, 60%)\"></span> Negative  <span style=\"display: inline-block; width: 10px; height: 10px;                 border: 1px solid; background-color:                 hsl(0, 75%, 100%)\"></span> Neutral  <span style=\"display: inline-block; width: 10px; height: 10px;                 border: 1px solid; background-color:                 hsl(120, 75%, 50%)\"></span> Positive  </div><tr><th>True Label</th><th>Predicted Label</th><th>Attribution Label</th><th>Attribution Score</th><th>Word Importance</th><tr><td><text style=\"padding-right:2em\"><b>Pos</b></text></td><td><text style=\"padding-right:2em\"><b>Pos (1.00)</b></text></td><td><text style=\"padding-right:2em\"><b>Neg</b></text></td><td><text style=\"padding-right:2em\"><b>-0.36</b></text></td><td><mark style=\"background-color: hsl(0, 75%, 95%); opacity:1.0;                     line-height:1.75\"><font color=\"black\"> #s                    </font></mark><mark style=\"background-color: hsl(0, 75%, 82%); opacity:1.0;                     line-height:1.75\"><font color=\"black\"> an                    </font></mark><mark style=\"background-color: hsl(120, 75%, 63%); opacity:1.0;                     line-height:1.75\"><font color=\"black\"> unforgettable                    </font></mark><mark style=\"background-color: hsl(0, 75%, 82%); opacity:1.0;                     line-height:1.75\"><font color=\"black\">                     </font></mark><mark style=\"background-color: hsl(0, 75%, 98%); opacity:1.0;                     line-height:1.75\"><font color=\"black\"> #/s                    </font></mark></td><tr></table>"
      ],
      "text/plain": [
       "<IPython.core.display.HTML object>"
      ]
     },
     "metadata": {},
     "output_type": "display_data"
    },
    {
     "name": "stdout",
     "output_type": "stream",
     "text": [
      "<IPython.core.display.HTML object>\n",
      "Raw review: absurdity \n",
      "GT target: 0\n"
     ]
    },
    {
     "data": {
      "text/html": [
       "<table width: 100%><div style=\"border-top: 1px solid; margin-top: 5px;             padding-top: 5px; display: inline-block\"><b>Legend: </b><span style=\"display: inline-block; width: 10px; height: 10px;                 border: 1px solid; background-color:                 hsl(0, 75%, 60%)\"></span> Negative  <span style=\"display: inline-block; width: 10px; height: 10px;                 border: 1px solid; background-color:                 hsl(0, 75%, 100%)\"></span> Neutral  <span style=\"display: inline-block; width: 10px; height: 10px;                 border: 1px solid; background-color:                 hsl(120, 75%, 50%)\"></span> Positive  </div><tr><th>True Label</th><th>Predicted Label</th><th>Attribution Label</th><th>Attribution Score</th><th>Word Importance</th><tr><td><text style=\"padding-right:2em\"><b>Neg</b></text></td><td><text style=\"padding-right:2em\"><b>Neg (0.00)</b></text></td><td><text style=\"padding-right:2em\"><b>Neg</b></text></td><td><text style=\"padding-right:2em\"><b>-0.20</b></text></td><td><mark style=\"background-color: hsl(120, 75%, 99%); opacity:1.0;                     line-height:1.75\"><font color=\"black\"> #s                    </font></mark><mark style=\"background-color: hsl(0, 75%, 80%); opacity:1.0;                     line-height:1.75\"><font color=\"black\"> absurdity                    </font></mark><mark style=\"background-color: hsl(120, 75%, 87%); opacity:1.0;                     line-height:1.75\"><font color=\"black\">                     </font></mark><mark style=\"background-color: hsl(120, 75%, 69%); opacity:1.0;                     line-height:1.75\"><font color=\"black\"> #/s                    </font></mark></td><tr></table>"
      ],
      "text/plain": [
       "<IPython.core.display.HTML object>"
      ]
     },
     "metadata": {},
     "output_type": "display_data"
    },
    {
     "name": "stdout",
     "output_type": "stream",
     "text": [
      "<IPython.core.display.HTML object>\n",
      "Raw review: i liked about schmidt a lot , but i have a feeling that i would have liked it much more if harry & tonto never existed \n",
      "GT target: 1\n"
     ]
    },
    {
     "data": {
      "text/html": [
       "<table width: 100%><div style=\"border-top: 1px solid; margin-top: 5px;             padding-top: 5px; display: inline-block\"><b>Legend: </b><span style=\"display: inline-block; width: 10px; height: 10px;                 border: 1px solid; background-color:                 hsl(0, 75%, 60%)\"></span> Negative  <span style=\"display: inline-block; width: 10px; height: 10px;                 border: 1px solid; background-color:                 hsl(0, 75%, 100%)\"></span> Neutral  <span style=\"display: inline-block; width: 10px; height: 10px;                 border: 1px solid; background-color:                 hsl(120, 75%, 50%)\"></span> Positive  </div><tr><th>True Label</th><th>Predicted Label</th><th>Attribution Label</th><th>Attribution Score</th><th>Word Importance</th><tr><td><text style=\"padding-right:2em\"><b>Pos</b></text></td><td><text style=\"padding-right:2em\"><b>Pos (0.99)</b></text></td><td><text style=\"padding-right:2em\"><b>Neg</b></text></td><td><text style=\"padding-right:2em\"><b>0.26</b></text></td><td><mark style=\"background-color: hsl(120, 75%, 89%); opacity:1.0;                     line-height:1.75\"><font color=\"black\"> #s                    </font></mark><mark style=\"background-color: hsl(0, 75%, 87%); opacity:1.0;                     line-height:1.75\"><font color=\"black\"> i                    </font></mark><mark style=\"background-color: hsl(120, 75%, 96%); opacity:1.0;                     line-height:1.75\"><font color=\"black\"> liked                    </font></mark><mark style=\"background-color: hsl(120, 75%, 90%); opacity:1.0;                     line-height:1.75\"><font color=\"black\"> about                    </font></mark><mark style=\"background-color: hsl(0, 75%, 92%); opacity:1.0;                     line-height:1.75\"><font color=\"black\"> schmidt                    </font></mark><mark style=\"background-color: hsl(0, 75%, 80%); opacity:1.0;                     line-height:1.75\"><font color=\"black\"> a                    </font></mark><mark style=\"background-color: hsl(0, 75%, 97%); opacity:1.0;                     line-height:1.75\"><font color=\"black\"> lot                    </font></mark><mark style=\"background-color: hsl(120, 75%, 91%); opacity:1.0;                     line-height:1.75\"><font color=\"black\"> ,                    </font></mark><mark style=\"background-color: hsl(0, 75%, 99%); opacity:1.0;                     line-height:1.75\"><font color=\"black\"> but                    </font></mark><mark style=\"background-color: hsl(120, 75%, 100%); opacity:1.0;                     line-height:1.75\"><font color=\"black\"> i                    </font></mark><mark style=\"background-color: hsl(120, 75%, 97%); opacity:1.0;                     line-height:1.75\"><font color=\"black\"> have                    </font></mark><mark style=\"background-color: hsl(120, 75%, 99%); opacity:1.0;                     line-height:1.75\"><font color=\"black\"> a                    </font></mark><mark style=\"background-color: hsl(0, 75%, 97%); opacity:1.0;                     line-height:1.75\"><font color=\"black\"> feeling                    </font></mark><mark style=\"background-color: hsl(120, 75%, 89%); opacity:1.0;                     line-height:1.75\"><font color=\"black\"> that                    </font></mark><mark style=\"background-color: hsl(0, 75%, 97%); opacity:1.0;                     line-height:1.75\"><font color=\"black\"> i                    </font></mark><mark style=\"background-color: hsl(0, 75%, 100%); opacity:1.0;                     line-height:1.75\"><font color=\"black\"> would                    </font></mark><mark style=\"background-color: hsl(0, 75%, 100%); opacity:1.0;                     line-height:1.75\"><font color=\"black\"> have                    </font></mark><mark style=\"background-color: hsl(0, 75%, 100%); opacity:1.0;                     line-height:1.75\"><font color=\"black\"> liked                    </font></mark><mark style=\"background-color: hsl(120, 75%, 94%); opacity:1.0;                     line-height:1.75\"><font color=\"black\"> it                    </font></mark><mark style=\"background-color: hsl(0, 75%, 99%); opacity:1.0;                     line-height:1.75\"><font color=\"black\"> much                    </font></mark><mark style=\"background-color: hsl(120, 75%, 96%); opacity:1.0;                     line-height:1.75\"><font color=\"black\"> more                    </font></mark><mark style=\"background-color: hsl(120, 75%, 100%); opacity:1.0;                     line-height:1.75\"><font color=\"black\"> if                    </font></mark><mark style=\"background-color: hsl(120, 75%, 100%); opacity:1.0;                     line-height:1.75\"><font color=\"black\"> harry                    </font></mark><mark style=\"background-color: hsl(120, 75%, 96%); opacity:1.0;                     line-height:1.75\"><font color=\"black\"> &                    </font></mark><mark style=\"background-color: hsl(120, 75%, 81%); opacity:1.0;                     line-height:1.75\"><font color=\"black\"> tonto                    </font></mark><mark style=\"background-color: hsl(120, 75%, 87%); opacity:1.0;                     line-height:1.75\"><font color=\"black\"> never                    </font></mark><mark style=\"background-color: hsl(120, 75%, 100%); opacity:1.0;                     line-height:1.75\"><font color=\"black\"> existed                    </font></mark><mark style=\"background-color: hsl(0, 75%, 94%); opacity:1.0;                     line-height:1.75\"><font color=\"black\">                     </font></mark><mark style=\"background-color: hsl(0, 75%, 97%); opacity:1.0;                     line-height:1.75\"><font color=\"black\"> #/s                    </font></mark></td><tr></table>"
      ],
      "text/plain": [
       "<IPython.core.display.HTML object>"
      ]
     },
     "metadata": {},
     "output_type": "display_data"
    },
    {
     "name": "stdout",
     "output_type": "stream",
     "text": [
      "<IPython.core.display.HTML object>\n",
      "Raw review: to give them credit for : the message of the movie \n",
      "GT target: 1\n"
     ]
    },
    {
     "data": {
      "text/html": [
       "<table width: 100%><div style=\"border-top: 1px solid; margin-top: 5px;             padding-top: 5px; display: inline-block\"><b>Legend: </b><span style=\"display: inline-block; width: 10px; height: 10px;                 border: 1px solid; background-color:                 hsl(0, 75%, 60%)\"></span> Negative  <span style=\"display: inline-block; width: 10px; height: 10px;                 border: 1px solid; background-color:                 hsl(0, 75%, 100%)\"></span> Neutral  <span style=\"display: inline-block; width: 10px; height: 10px;                 border: 1px solid; background-color:                 hsl(120, 75%, 50%)\"></span> Positive  </div><tr><th>True Label</th><th>Predicted Label</th><th>Attribution Label</th><th>Attribution Score</th><th>Word Importance</th><tr><td><text style=\"padding-right:2em\"><b>Pos</b></text></td><td><text style=\"padding-right:2em\"><b>Pos (1.00)</b></text></td><td><text style=\"padding-right:2em\"><b>Pos</b></text></td><td><text style=\"padding-right:2em\"><b>1.14</b></text></td><td><mark style=\"background-color: hsl(0, 75%, 97%); opacity:1.0;                     line-height:1.75\"><font color=\"black\"> #s                    </font></mark><mark style=\"background-color: hsl(0, 75%, 92%); opacity:1.0;                     line-height:1.75\"><font color=\"black\"> to                    </font></mark><mark style=\"background-color: hsl(120, 75%, 91%); opacity:1.0;                     line-height:1.75\"><font color=\"black\"> give                    </font></mark><mark style=\"background-color: hsl(0, 75%, 96%); opacity:1.0;                     line-height:1.75\"><font color=\"black\"> them                    </font></mark><mark style=\"background-color: hsl(120, 75%, 69%); opacity:1.0;                     line-height:1.75\"><font color=\"black\"> credit                    </font></mark><mark style=\"background-color: hsl(0, 75%, 100%); opacity:1.0;                     line-height:1.75\"><font color=\"black\"> for                    </font></mark><mark style=\"background-color: hsl(120, 75%, 81%); opacity:1.0;                     line-height:1.75\"><font color=\"black\"> :                    </font></mark><mark style=\"background-color: hsl(0, 75%, 98%); opacity:1.0;                     line-height:1.75\"><font color=\"black\"> the                    </font></mark><mark style=\"background-color: hsl(120, 75%, 85%); opacity:1.0;                     line-height:1.75\"><font color=\"black\"> message                    </font></mark><mark style=\"background-color: hsl(120, 75%, 93%); opacity:1.0;                     line-height:1.75\"><font color=\"black\"> of                    </font></mark><mark style=\"background-color: hsl(0, 75%, 92%); opacity:1.0;                     line-height:1.75\"><font color=\"black\"> the                    </font></mark><mark style=\"background-color: hsl(120, 75%, 83%); opacity:1.0;                     line-height:1.75\"><font color=\"black\"> movie                    </font></mark><mark style=\"background-color: hsl(0, 75%, 92%); opacity:1.0;                     line-height:1.75\"><font color=\"black\">                     </font></mark><mark style=\"background-color: hsl(120, 75%, 99%); opacity:1.0;                     line-height:1.75\"><font color=\"black\"> #/s                    </font></mark></td><tr></table>"
      ],
      "text/plain": [
       "<IPython.core.display.HTML object>"
      ]
     },
     "metadata": {},
     "output_type": "display_data"
    },
    {
     "name": "stdout",
     "output_type": "stream",
     "text": [
      "<IPython.core.display.HTML object>\n",
      "Raw review: is intriguing but quickly becomes distasteful and downright creepy \n",
      "GT target: 0\n"
     ]
    },
    {
     "data": {
      "text/html": [
       "<table width: 100%><div style=\"border-top: 1px solid; margin-top: 5px;             padding-top: 5px; display: inline-block\"><b>Legend: </b><span style=\"display: inline-block; width: 10px; height: 10px;                 border: 1px solid; background-color:                 hsl(0, 75%, 60%)\"></span> Negative  <span style=\"display: inline-block; width: 10px; height: 10px;                 border: 1px solid; background-color:                 hsl(0, 75%, 100%)\"></span> Neutral  <span style=\"display: inline-block; width: 10px; height: 10px;                 border: 1px solid; background-color:                 hsl(120, 75%, 50%)\"></span> Positive  </div><tr><th>True Label</th><th>Predicted Label</th><th>Attribution Label</th><th>Attribution Score</th><th>Word Importance</th><tr><td><text style=\"padding-right:2em\"><b>Neg</b></text></td><td><text style=\"padding-right:2em\"><b>Neg (0.00)</b></text></td><td><text style=\"padding-right:2em\"><b>Pos</b></text></td><td><text style=\"padding-right:2em\"><b>0.61</b></text></td><td><mark style=\"background-color: hsl(0, 75%, 96%); opacity:1.0;                     line-height:1.75\"><font color=\"black\"> #s                    </font></mark><mark style=\"background-color: hsl(120, 75%, 94%); opacity:1.0;                     line-height:1.75\"><font color=\"black\"> is                    </font></mark><mark style=\"background-color: hsl(120, 75%, 60%); opacity:1.0;                     line-height:1.75\"><font color=\"black\"> intriguing                    </font></mark><mark style=\"background-color: hsl(120, 75%, 99%); opacity:1.0;                     line-height:1.75\"><font color=\"black\"> but                    </font></mark><mark style=\"background-color: hsl(0, 75%, 100%); opacity:1.0;                     line-height:1.75\"><font color=\"black\"> quickly                    </font></mark><mark style=\"background-color: hsl(120, 75%, 98%); opacity:1.0;                     line-height:1.75\"><font color=\"black\"> becomes                    </font></mark><mark style=\"background-color: hsl(120, 75%, 100%); opacity:1.0;                     line-height:1.75\"><font color=\"black\"> distasteful                    </font></mark><mark style=\"background-color: hsl(0, 75%, 100%); opacity:1.0;                     line-height:1.75\"><font color=\"black\"> and                    </font></mark><mark style=\"background-color: hsl(0, 75%, 87%); opacity:1.0;                     line-height:1.75\"><font color=\"black\"> downright                    </font></mark><mark style=\"background-color: hsl(120, 75%, 100%); opacity:1.0;                     line-height:1.75\"><font color=\"black\"> creepy                    </font></mark><mark style=\"background-color: hsl(0, 75%, 89%); opacity:1.0;                     line-height:1.75\"><font color=\"black\">                     </font></mark><mark style=\"background-color: hsl(120, 75%, 83%); opacity:1.0;                     line-height:1.75\"><font color=\"black\"> #/s                    </font></mark></td><tr></table>"
      ],
      "text/plain": [
       "<IPython.core.display.HTML object>"
      ]
     },
     "metadata": {},
     "output_type": "display_data"
    },
    {
     "name": "stdout",
     "output_type": "stream",
     "text": [
      "<IPython.core.display.HTML object>\n",
      "Raw review: such a wildly uneven hit-and-miss enterprise , you ca n't help suspecting that it was improvised on a day-to-day basis during production . \n",
      "GT target: 0\n"
     ]
    },
    {
     "data": {
      "text/html": [
       "<table width: 100%><div style=\"border-top: 1px solid; margin-top: 5px;             padding-top: 5px; display: inline-block\"><b>Legend: </b><span style=\"display: inline-block; width: 10px; height: 10px;                 border: 1px solid; background-color:                 hsl(0, 75%, 60%)\"></span> Negative  <span style=\"display: inline-block; width: 10px; height: 10px;                 border: 1px solid; background-color:                 hsl(0, 75%, 100%)\"></span> Neutral  <span style=\"display: inline-block; width: 10px; height: 10px;                 border: 1px solid; background-color:                 hsl(120, 75%, 50%)\"></span> Positive  </div><tr><th>True Label</th><th>Predicted Label</th><th>Attribution Label</th><th>Attribution Score</th><th>Word Importance</th><tr><td><text style=\"padding-right:2em\"><b>Neg</b></text></td><td><text style=\"padding-right:2em\"><b>Neg (0.00)</b></text></td><td><text style=\"padding-right:2em\"><b>Neg</b></text></td><td><text style=\"padding-right:2em\"><b>-0.15</b></text></td><td><mark style=\"background-color: hsl(0, 75%, 99%); opacity:1.0;                     line-height:1.75\"><font color=\"black\"> #s                    </font></mark><mark style=\"background-color: hsl(120, 75%, 96%); opacity:1.0;                     line-height:1.75\"><font color=\"black\"> such                    </font></mark><mark style=\"background-color: hsl(0, 75%, 100%); opacity:1.0;                     line-height:1.75\"><font color=\"black\"> a                    </font></mark><mark style=\"background-color: hsl(120, 75%, 98%); opacity:1.0;                     line-height:1.75\"><font color=\"black\"> wildly                    </font></mark><mark style=\"background-color: hsl(120, 75%, 100%); opacity:1.0;                     line-height:1.75\"><font color=\"black\"> uneven                    </font></mark><mark style=\"background-color: hsl(0, 75%, 96%); opacity:1.0;                     line-height:1.75\"><font color=\"black\"> hit-and-miss                    </font></mark><mark style=\"background-color: hsl(120, 75%, 97%); opacity:1.0;                     line-height:1.75\"><font color=\"black\"> enterprise                    </font></mark><mark style=\"background-color: hsl(0, 75%, 93%); opacity:1.0;                     line-height:1.75\"><font color=\"black\"> ,                    </font></mark><mark style=\"background-color: hsl(0, 75%, 99%); opacity:1.0;                     line-height:1.75\"><font color=\"black\"> you                    </font></mark><mark style=\"background-color: hsl(0, 75%, 93%); opacity:1.0;                     line-height:1.75\"><font color=\"black\"> ca                    </font></mark><mark style=\"background-color: hsl(120, 75%, 93%); opacity:1.0;                     line-height:1.75\"><font color=\"black\"> n't                    </font></mark><mark style=\"background-color: hsl(120, 75%, 85%); opacity:1.0;                     line-height:1.75\"><font color=\"black\"> help                    </font></mark><mark style=\"background-color: hsl(0, 75%, 98%); opacity:1.0;                     line-height:1.75\"><font color=\"black\"> suspecting                    </font></mark><mark style=\"background-color: hsl(0, 75%, 92%); opacity:1.0;                     line-height:1.75\"><font color=\"black\"> that                    </font></mark><mark style=\"background-color: hsl(0, 75%, 87%); opacity:1.0;                     line-height:1.75\"><font color=\"black\"> it                    </font></mark><mark style=\"background-color: hsl(120, 75%, 88%); opacity:1.0;                     line-height:1.75\"><font color=\"black\"> was                    </font></mark><mark style=\"background-color: hsl(120, 75%, 97%); opacity:1.0;                     line-height:1.75\"><font color=\"black\"> improvised                    </font></mark><mark style=\"background-color: hsl(120, 75%, 100%); opacity:1.0;                     line-height:1.75\"><font color=\"black\"> on                    </font></mark><mark style=\"background-color: hsl(0, 75%, 100%); opacity:1.0;                     line-height:1.75\"><font color=\"black\"> a                    </font></mark><mark style=\"background-color: hsl(0, 75%, 100%); opacity:1.0;                     line-height:1.75\"><font color=\"black\"> day-to-day                    </font></mark><mark style=\"background-color: hsl(0, 75%, 97%); opacity:1.0;                     line-height:1.75\"><font color=\"black\"> basis                    </font></mark><mark style=\"background-color: hsl(0, 75%, 98%); opacity:1.0;                     line-height:1.75\"><font color=\"black\"> during                    </font></mark><mark style=\"background-color: hsl(0, 75%, 96%); opacity:1.0;                     line-height:1.75\"><font color=\"black\"> production                    </font></mark><mark style=\"background-color: hsl(0, 75%, 98%); opacity:1.0;                     line-height:1.75\"><font color=\"black\"> .                    </font></mark><mark style=\"background-color: hsl(0, 75%, 99%); opacity:1.0;                     line-height:1.75\"><font color=\"black\">                     </font></mark><mark style=\"background-color: hsl(120, 75%, 94%); opacity:1.0;                     line-height:1.75\"><font color=\"black\"> #/s                    </font></mark></td><tr></table>"
      ],
      "text/plain": [
       "<IPython.core.display.HTML object>"
      ]
     },
     "metadata": {},
     "output_type": "display_data"
    },
    {
     "name": "stdout",
     "output_type": "stream",
     "text": [
      "<IPython.core.display.HTML object>\n",
      "Raw review: shrek \n",
      "GT target: 1\n"
     ]
    },
    {
     "data": {
      "text/html": [
       "<table width: 100%><div style=\"border-top: 1px solid; margin-top: 5px;             padding-top: 5px; display: inline-block\"><b>Legend: </b><span style=\"display: inline-block; width: 10px; height: 10px;                 border: 1px solid; background-color:                 hsl(0, 75%, 60%)\"></span> Negative  <span style=\"display: inline-block; width: 10px; height: 10px;                 border: 1px solid; background-color:                 hsl(0, 75%, 100%)\"></span> Neutral  <span style=\"display: inline-block; width: 10px; height: 10px;                 border: 1px solid; background-color:                 hsl(120, 75%, 50%)\"></span> Positive  </div><tr><th>True Label</th><th>Predicted Label</th><th>Attribution Label</th><th>Attribution Score</th><th>Word Importance</th><tr><td><text style=\"padding-right:2em\"><b>Pos</b></text></td><td><text style=\"padding-right:2em\"><b>Pos (0.77)</b></text></td><td><text style=\"padding-right:2em\"><b>Neg</b></text></td><td><text style=\"padding-right:2em\"><b>0.32</b></text></td><td><mark style=\"background-color: hsl(0, 75%, 90%); opacity:1.0;                     line-height:1.75\"><font color=\"black\"> #s                    </font></mark><mark style=\"background-color: hsl(120, 75%, 96%); opacity:1.0;                     line-height:1.75\"><font color=\"black\"> shrek                    </font></mark><mark style=\"background-color: hsl(120, 75%, 57%); opacity:1.0;                     line-height:1.75\"><font color=\"black\">                     </font></mark><mark style=\"background-color: hsl(120, 75%, 100%); opacity:1.0;                     line-height:1.75\"><font color=\"black\"> #/s                    </font></mark></td><tr></table>"
      ],
      "text/plain": [
       "<IPython.core.display.HTML object>"
      ]
     },
     "metadata": {},
     "output_type": "display_data"
    },
    {
     "name": "stdout",
     "output_type": "stream",
     "text": [
      "<IPython.core.display.HTML object>\n",
      "Raw review: it 's funny . \n",
      "GT target: 1\n"
     ]
    },
    {
     "data": {
      "text/html": [
       "<table width: 100%><div style=\"border-top: 1px solid; margin-top: 5px;             padding-top: 5px; display: inline-block\"><b>Legend: </b><span style=\"display: inline-block; width: 10px; height: 10px;                 border: 1px solid; background-color:                 hsl(0, 75%, 60%)\"></span> Negative  <span style=\"display: inline-block; width: 10px; height: 10px;                 border: 1px solid; background-color:                 hsl(0, 75%, 100%)\"></span> Neutral  <span style=\"display: inline-block; width: 10px; height: 10px;                 border: 1px solid; background-color:                 hsl(120, 75%, 50%)\"></span> Positive  </div><tr><th>True Label</th><th>Predicted Label</th><th>Attribution Label</th><th>Attribution Score</th><th>Word Importance</th><tr><td><text style=\"padding-right:2em\"><b>Pos</b></text></td><td><text style=\"padding-right:2em\"><b>Pos (1.00)</b></text></td><td><text style=\"padding-right:2em\"><b>Pos</b></text></td><td><text style=\"padding-right:2em\"><b>1.16</b></text></td><td><mark style=\"background-color: hsl(0, 75%, 94%); opacity:1.0;                     line-height:1.75\"><font color=\"black\"> #s                    </font></mark><mark style=\"background-color: hsl(120, 75%, 79%); opacity:1.0;                     line-height:1.75\"><font color=\"black\"> it                    </font></mark><mark style=\"background-color: hsl(0, 75%, 98%); opacity:1.0;                     line-height:1.75\"><font color=\"black\"> 's                    </font></mark><mark style=\"background-color: hsl(120, 75%, 95%); opacity:1.0;                     line-height:1.75\"><font color=\"black\"> funny                    </font></mark><mark style=\"background-color: hsl(120, 75%, 60%); opacity:1.0;                     line-height:1.75\"><font color=\"black\"> .                    </font></mark><mark style=\"background-color: hsl(0, 75%, 95%); opacity:1.0;                     line-height:1.75\"><font color=\"black\">                     </font></mark><mark style=\"background-color: hsl(120, 75%, 86%); opacity:1.0;                     line-height:1.75\"><font color=\"black\"> #/s                    </font></mark></td><tr></table>"
      ],
      "text/plain": [
       "<IPython.core.display.HTML object>"
      ]
     },
     "metadata": {},
     "output_type": "display_data"
    },
    {
     "name": "stdout",
     "output_type": "stream",
     "text": [
      "<IPython.core.display.HTML object>\n",
      "Raw review: confuses its message with an ultimate desire to please , and contorting itself into an idea of expectation is the last thing any of these three actresses , nor their characters , deserve . \n",
      "GT target: 0\n"
     ]
    },
    {
     "data": {
      "text/html": [
       "<table width: 100%><div style=\"border-top: 1px solid; margin-top: 5px;             padding-top: 5px; display: inline-block\"><b>Legend: </b><span style=\"display: inline-block; width: 10px; height: 10px;                 border: 1px solid; background-color:                 hsl(0, 75%, 60%)\"></span> Negative  <span style=\"display: inline-block; width: 10px; height: 10px;                 border: 1px solid; background-color:                 hsl(0, 75%, 100%)\"></span> Neutral  <span style=\"display: inline-block; width: 10px; height: 10px;                 border: 1px solid; background-color:                 hsl(120, 75%, 50%)\"></span> Positive  </div><tr><th>True Label</th><th>Predicted Label</th><th>Attribution Label</th><th>Attribution Score</th><th>Word Importance</th><tr><td><text style=\"padding-right:2em\"><b>Neg</b></text></td><td><text style=\"padding-right:2em\"><b>Neg (0.00)</b></text></td><td><text style=\"padding-right:2em\"><b>Neg</b></text></td><td><text style=\"padding-right:2em\"><b>-1.27</b></text></td><td><mark style=\"background-color: hsl(120, 75%, 82%); opacity:1.0;                     line-height:1.75\"><font color=\"black\"> #s                    </font></mark><mark style=\"background-color: hsl(0, 75%, 98%); opacity:1.0;                     line-height:1.75\"><font color=\"black\"> confuses                    </font></mark><mark style=\"background-color: hsl(0, 75%, 89%); opacity:1.0;                     line-height:1.75\"><font color=\"black\"> its                    </font></mark><mark style=\"background-color: hsl(120, 75%, 99%); opacity:1.0;                     line-height:1.75\"><font color=\"black\"> message                    </font></mark><mark style=\"background-color: hsl(0, 75%, 90%); opacity:1.0;                     line-height:1.75\"><font color=\"black\"> with                    </font></mark><mark style=\"background-color: hsl(120, 75%, 99%); opacity:1.0;                     line-height:1.75\"><font color=\"black\"> an                    </font></mark><mark style=\"background-color: hsl(120, 75%, 100%); opacity:1.0;                     line-height:1.75\"><font color=\"black\"> ultimate                    </font></mark><mark style=\"background-color: hsl(0, 75%, 97%); opacity:1.0;                     line-height:1.75\"><font color=\"black\"> desire                    </font></mark><mark style=\"background-color: hsl(120, 75%, 99%); opacity:1.0;                     line-height:1.75\"><font color=\"black\"> to                    </font></mark><mark style=\"background-color: hsl(120, 75%, 99%); opacity:1.0;                     line-height:1.75\"><font color=\"black\"> please                    </font></mark><mark style=\"background-color: hsl(0, 75%, 98%); opacity:1.0;                     line-height:1.75\"><font color=\"black\"> ,                    </font></mark><mark style=\"background-color: hsl(120, 75%, 100%); opacity:1.0;                     line-height:1.75\"><font color=\"black\"> and                    </font></mark><mark style=\"background-color: hsl(0, 75%, 99%); opacity:1.0;                     line-height:1.75\"><font color=\"black\"> contorting                    </font></mark><mark style=\"background-color: hsl(120, 75%, 98%); opacity:1.0;                     line-height:1.75\"><font color=\"black\"> itself                    </font></mark><mark style=\"background-color: hsl(120, 75%, 98%); opacity:1.0;                     line-height:1.75\"><font color=\"black\"> into                    </font></mark><mark style=\"background-color: hsl(120, 75%, 98%); opacity:1.0;                     line-height:1.75\"><font color=\"black\"> an                    </font></mark><mark style=\"background-color: hsl(0, 75%, 99%); opacity:1.0;                     line-height:1.75\"><font color=\"black\"> idea                    </font></mark><mark style=\"background-color: hsl(120, 75%, 100%); opacity:1.0;                     line-height:1.75\"><font color=\"black\"> of                    </font></mark><mark style=\"background-color: hsl(0, 75%, 97%); opacity:1.0;                     line-height:1.75\"><font color=\"black\"> expectation                    </font></mark><mark style=\"background-color: hsl(120, 75%, 100%); opacity:1.0;                     line-height:1.75\"><font color=\"black\"> is                    </font></mark><mark style=\"background-color: hsl(0, 75%, 79%); opacity:1.0;                     line-height:1.75\"><font color=\"black\"> the                    </font></mark><mark style=\"background-color: hsl(0, 75%, 100%); opacity:1.0;                     line-height:1.75\"><font color=\"black\"> last                    </font></mark><mark style=\"background-color: hsl(120, 75%, 100%); opacity:1.0;                     line-height:1.75\"><font color=\"black\"> thing                    </font></mark><mark style=\"background-color: hsl(120, 75%, 99%); opacity:1.0;                     line-height:1.75\"><font color=\"black\"> any                    </font></mark><mark style=\"background-color: hsl(120, 75%, 97%); opacity:1.0;                     line-height:1.75\"><font color=\"black\"> of                    </font></mark><mark style=\"background-color: hsl(120, 75%, 97%); opacity:1.0;                     line-height:1.75\"><font color=\"black\"> these                    </font></mark><mark style=\"background-color: hsl(120, 75%, 100%); opacity:1.0;                     line-height:1.75\"><font color=\"black\"> three                    </font></mark><mark style=\"background-color: hsl(120, 75%, 97%); opacity:1.0;                     line-height:1.75\"><font color=\"black\"> actresses                    </font></mark><mark style=\"background-color: hsl(0, 75%, 95%); opacity:1.0;                     line-height:1.75\"><font color=\"black\"> ,                    </font></mark><mark style=\"background-color: hsl(0, 75%, 80%); opacity:1.0;                     line-height:1.75\"><font color=\"black\"> nor                    </font></mark><mark style=\"background-color: hsl(120, 75%, 98%); opacity:1.0;                     line-height:1.75\"><font color=\"black\"> their                    </font></mark><mark style=\"background-color: hsl(120, 75%, 95%); opacity:1.0;                     line-height:1.75\"><font color=\"black\"> characters                    </font></mark><mark style=\"background-color: hsl(0, 75%, 98%); opacity:1.0;                     line-height:1.75\"><font color=\"black\"> ,                    </font></mark><mark style=\"background-color: hsl(0, 75%, 93%); opacity:1.0;                     line-height:1.75\"><font color=\"black\"> deserve                    </font></mark><mark style=\"background-color: hsl(120, 75%, 98%); opacity:1.0;                     line-height:1.75\"><font color=\"black\"> .                    </font></mark><mark style=\"background-color: hsl(0, 75%, 94%); opacity:1.0;                     line-height:1.75\"><font color=\"black\">                     </font></mark><mark style=\"background-color: hsl(120, 75%, 99%); opacity:1.0;                     line-height:1.75\"><font color=\"black\"> #/s                    </font></mark></td><tr></table>"
      ],
      "text/plain": [
       "<IPython.core.display.HTML object>"
      ]
     },
     "metadata": {},
     "output_type": "display_data"
    },
    {
     "name": "stdout",
     "output_type": "stream",
     "text": [
      "<IPython.core.display.HTML object>\n",
      "Raw review: a characteristically engorged and sloppy coming-of-age movie . \n",
      "GT target: 0\n"
     ]
    },
    {
     "data": {
      "text/html": [
       "<table width: 100%><div style=\"border-top: 1px solid; margin-top: 5px;             padding-top: 5px; display: inline-block\"><b>Legend: </b><span style=\"display: inline-block; width: 10px; height: 10px;                 border: 1px solid; background-color:                 hsl(0, 75%, 60%)\"></span> Negative  <span style=\"display: inline-block; width: 10px; height: 10px;                 border: 1px solid; background-color:                 hsl(0, 75%, 100%)\"></span> Neutral  <span style=\"display: inline-block; width: 10px; height: 10px;                 border: 1px solid; background-color:                 hsl(120, 75%, 50%)\"></span> Positive  </div><tr><th>True Label</th><th>Predicted Label</th><th>Attribution Label</th><th>Attribution Score</th><th>Word Importance</th><tr><td><text style=\"padding-right:2em\"><b>Neg</b></text></td><td><text style=\"padding-right:2em\"><b>Neg (0.00)</b></text></td><td><text style=\"padding-right:2em\"><b>Pos</b></text></td><td><text style=\"padding-right:2em\"><b>0.76</b></text></td><td><mark style=\"background-color: hsl(0, 75%, 83%); opacity:1.0;                     line-height:1.75\"><font color=\"black\"> #s                    </font></mark><mark style=\"background-color: hsl(0, 75%, 100%); opacity:1.0;                     line-height:1.75\"><font color=\"black\"> a                    </font></mark><mark style=\"background-color: hsl(0, 75%, 90%); opacity:1.0;                     line-height:1.75\"><font color=\"black\"> characteristically                    </font></mark><mark style=\"background-color: hsl(120, 75%, 93%); opacity:1.0;                     line-height:1.75\"><font color=\"black\"> engorged                    </font></mark><mark style=\"background-color: hsl(120, 75%, 87%); opacity:1.0;                     line-height:1.75\"><font color=\"black\"> and                    </font></mark><mark style=\"background-color: hsl(120, 75%, 95%); opacity:1.0;                     line-height:1.75\"><font color=\"black\"> sloppy                    </font></mark><mark style=\"background-color: hsl(0, 75%, 89%); opacity:1.0;                     line-height:1.75\"><font color=\"black\"> coming-of-age                    </font></mark><mark style=\"background-color: hsl(120, 75%, 96%); opacity:1.0;                     line-height:1.75\"><font color=\"black\"> movie                    </font></mark><mark style=\"background-color: hsl(120, 75%, 70%); opacity:1.0;                     line-height:1.75\"><font color=\"black\"> .                    </font></mark><mark style=\"background-color: hsl(0, 75%, 98%); opacity:1.0;                     line-height:1.75\"><font color=\"black\">                     </font></mark><mark style=\"background-color: hsl(120, 75%, 98%); opacity:1.0;                     line-height:1.75\"><font color=\"black\"> #/s                    </font></mark></td><tr></table>"
      ],
      "text/plain": [
       "<IPython.core.display.HTML object>"
      ]
     },
     "metadata": {},
     "output_type": "display_data"
    },
    {
     "name": "stdout",
     "output_type": "stream",
     "text": [
      "<IPython.core.display.HTML object>\n",
      "Raw review: a sense of action \n",
      "GT target: 1\n"
     ]
    },
    {
     "data": {
      "text/html": [
       "<table width: 100%><div style=\"border-top: 1px solid; margin-top: 5px;             padding-top: 5px; display: inline-block\"><b>Legend: </b><span style=\"display: inline-block; width: 10px; height: 10px;                 border: 1px solid; background-color:                 hsl(0, 75%, 60%)\"></span> Negative  <span style=\"display: inline-block; width: 10px; height: 10px;                 border: 1px solid; background-color:                 hsl(0, 75%, 100%)\"></span> Neutral  <span style=\"display: inline-block; width: 10px; height: 10px;                 border: 1px solid; background-color:                 hsl(120, 75%, 50%)\"></span> Positive  </div><tr><th>True Label</th><th>Predicted Label</th><th>Attribution Label</th><th>Attribution Score</th><th>Word Importance</th><tr><td><text style=\"padding-right:2em\"><b>Pos</b></text></td><td><text style=\"padding-right:2em\"><b>Pos (1.00)</b></text></td><td><text style=\"padding-right:2em\"><b>Neg</b></text></td><td><text style=\"padding-right:2em\"><b>-0.62</b></text></td><td><mark style=\"background-color: hsl(120, 75%, 83%); opacity:1.0;                     line-height:1.75\"><font color=\"black\"> #s                    </font></mark><mark style=\"background-color: hsl(0, 75%, 79%); opacity:1.0;                     line-height:1.75\"><font color=\"black\"> a                    </font></mark><mark style=\"background-color: hsl(120, 75%, 90%); opacity:1.0;                     line-height:1.75\"><font color=\"black\"> sense                    </font></mark><mark style=\"background-color: hsl(0, 75%, 84%); opacity:1.0;                     line-height:1.75\"><font color=\"black\"> of                    </font></mark><mark style=\"background-color: hsl(120, 75%, 86%); opacity:1.0;                     line-height:1.75\"><font color=\"black\"> action                    </font></mark><mark style=\"background-color: hsl(0, 75%, 79%); opacity:1.0;                     line-height:1.75\"><font color=\"black\">                     </font></mark><mark style=\"background-color: hsl(0, 75%, 100%); opacity:1.0;                     line-height:1.75\"><font color=\"black\"> #/s                    </font></mark></td><tr></table>"
      ],
      "text/plain": [
       "<IPython.core.display.HTML object>"
      ]
     },
     "metadata": {},
     "output_type": "display_data"
    },
    {
     "name": "stdout",
     "output_type": "stream",
     "text": [
      "<IPython.core.display.HTML object>\n",
      "Raw review: have n't seen such self-amused trash since freddy got fingered \n",
      "GT target: 0\n"
     ]
    },
    {
     "data": {
      "text/html": [
       "<table width: 100%><div style=\"border-top: 1px solid; margin-top: 5px;             padding-top: 5px; display: inline-block\"><b>Legend: </b><span style=\"display: inline-block; width: 10px; height: 10px;                 border: 1px solid; background-color:                 hsl(0, 75%, 60%)\"></span> Negative  <span style=\"display: inline-block; width: 10px; height: 10px;                 border: 1px solid; background-color:                 hsl(0, 75%, 100%)\"></span> Neutral  <span style=\"display: inline-block; width: 10px; height: 10px;                 border: 1px solid; background-color:                 hsl(120, 75%, 50%)\"></span> Positive  </div><tr><th>True Label</th><th>Predicted Label</th><th>Attribution Label</th><th>Attribution Score</th><th>Word Importance</th><tr><td><text style=\"padding-right:2em\"><b>Neg</b></text></td><td><text style=\"padding-right:2em\"><b>Neg (0.00)</b></text></td><td><text style=\"padding-right:2em\"><b>Neg</b></text></td><td><text style=\"padding-right:2em\"><b>-0.64</b></text></td><td><mark style=\"background-color: hsl(0, 75%, 93%); opacity:1.0;                     line-height:1.75\"><font color=\"black\"> #s                    </font></mark><mark style=\"background-color: hsl(120, 75%, 99%); opacity:1.0;                     line-height:1.75\"><font color=\"black\"> have                    </font></mark><mark style=\"background-color: hsl(120, 75%, 97%); opacity:1.0;                     line-height:1.75\"><font color=\"black\"> n't                    </font></mark><mark style=\"background-color: hsl(120, 75%, 97%); opacity:1.0;                     line-height:1.75\"><font color=\"black\"> seen                    </font></mark><mark style=\"background-color: hsl(120, 75%, 88%); opacity:1.0;                     line-height:1.75\"><font color=\"black\"> such                    </font></mark><mark style=\"background-color: hsl(0, 75%, 93%); opacity:1.0;                     line-height:1.75\"><font color=\"black\"> self-amused                    </font></mark><mark style=\"background-color: hsl(0, 75%, 98%); opacity:1.0;                     line-height:1.75\"><font color=\"black\"> trash                    </font></mark><mark style=\"background-color: hsl(0, 75%, 92%); opacity:1.0;                     line-height:1.75\"><font color=\"black\"> since                    </font></mark><mark style=\"background-color: hsl(120, 75%, 97%); opacity:1.0;                     line-height:1.75\"><font color=\"black\"> freddy                    </font></mark><mark style=\"background-color: hsl(120, 75%, 83%); opacity:1.0;                     line-height:1.75\"><font color=\"black\"> got                    </font></mark><mark style=\"background-color: hsl(0, 75%, 83%); opacity:1.0;                     line-height:1.75\"><font color=\"black\"> fingered                    </font></mark><mark style=\"background-color: hsl(120, 75%, 99%); opacity:1.0;                     line-height:1.75\"><font color=\"black\">                     </font></mark><mark style=\"background-color: hsl(120, 75%, 94%); opacity:1.0;                     line-height:1.75\"><font color=\"black\"> #/s                    </font></mark></td><tr></table>"
      ],
      "text/plain": [
       "<IPython.core.display.HTML object>"
      ]
     },
     "metadata": {},
     "output_type": "display_data"
    },
    {
     "name": "stdout",
     "output_type": "stream",
     "text": [
      "<IPython.core.display.HTML object>\n",
      "Raw review: never mind all that ; the boobs are fantasti \n",
      "GT target: 1\n"
     ]
    },
    {
     "data": {
      "text/html": [
       "<table width: 100%><div style=\"border-top: 1px solid; margin-top: 5px;             padding-top: 5px; display: inline-block\"><b>Legend: </b><span style=\"display: inline-block; width: 10px; height: 10px;                 border: 1px solid; background-color:                 hsl(0, 75%, 60%)\"></span> Negative  <span style=\"display: inline-block; width: 10px; height: 10px;                 border: 1px solid; background-color:                 hsl(0, 75%, 100%)\"></span> Neutral  <span style=\"display: inline-block; width: 10px; height: 10px;                 border: 1px solid; background-color:                 hsl(120, 75%, 50%)\"></span> Positive  </div><tr><th>True Label</th><th>Predicted Label</th><th>Attribution Label</th><th>Attribution Score</th><th>Word Importance</th><tr><td><text style=\"padding-right:2em\"><b>Pos</b></text></td><td><text style=\"padding-right:2em\"><b>Pos (1.00)</b></text></td><td><text style=\"padding-right:2em\"><b>Neg</b></text></td><td><text style=\"padding-right:2em\"><b>-0.67</b></text></td><td><mark style=\"background-color: hsl(0, 75%, 89%); opacity:1.0;                     line-height:1.75\"><font color=\"black\"> #s                    </font></mark><mark style=\"background-color: hsl(0, 75%, 69%); opacity:1.0;                     line-height:1.75\"><font color=\"black\"> never                    </font></mark><mark style=\"background-color: hsl(0, 75%, 95%); opacity:1.0;                     line-height:1.75\"><font color=\"black\"> mind                    </font></mark><mark style=\"background-color: hsl(120, 75%, 97%); opacity:1.0;                     line-height:1.75\"><font color=\"black\"> all                    </font></mark><mark style=\"background-color: hsl(120, 75%, 94%); opacity:1.0;                     line-height:1.75\"><font color=\"black\"> that                    </font></mark><mark style=\"background-color: hsl(120, 75%, 92%); opacity:1.0;                     line-height:1.75\"><font color=\"black\"> ;                    </font></mark><mark style=\"background-color: hsl(0, 75%, 98%); opacity:1.0;                     line-height:1.75\"><font color=\"black\"> the                    </font></mark><mark style=\"background-color: hsl(120, 75%, 88%); opacity:1.0;                     line-height:1.75\"><font color=\"black\"> boobs                    </font></mark><mark style=\"background-color: hsl(120, 75%, 88%); opacity:1.0;                     line-height:1.75\"><font color=\"black\"> are                    </font></mark><mark style=\"background-color: hsl(0, 75%, 92%); opacity:1.0;                     line-height:1.75\"><font color=\"black\"> fantasti                    </font></mark><mark style=\"background-color: hsl(120, 75%, 96%); opacity:1.0;                     line-height:1.75\"><font color=\"black\">                     </font></mark><mark style=\"background-color: hsl(120, 75%, 100%); opacity:1.0;                     line-height:1.75\"><font color=\"black\"> #/s                    </font></mark></td><tr></table>"
      ],
      "text/plain": [
       "<IPython.core.display.HTML object>"
      ]
     },
     "metadata": {},
     "output_type": "display_data"
    },
    {
     "name": "stdout",
     "output_type": "stream",
     "text": [
      "<IPython.core.display.HTML object>\n",
      "Raw review: is leguizamo 's best movie work so far , a subtle and richly internalized performance \n",
      "GT target: 1\n"
     ]
    },
    {
     "data": {
      "text/html": [
       "<table width: 100%><div style=\"border-top: 1px solid; margin-top: 5px;             padding-top: 5px; display: inline-block\"><b>Legend: </b><span style=\"display: inline-block; width: 10px; height: 10px;                 border: 1px solid; background-color:                 hsl(0, 75%, 60%)\"></span> Negative  <span style=\"display: inline-block; width: 10px; height: 10px;                 border: 1px solid; background-color:                 hsl(0, 75%, 100%)\"></span> Neutral  <span style=\"display: inline-block; width: 10px; height: 10px;                 border: 1px solid; background-color:                 hsl(120, 75%, 50%)\"></span> Positive  </div><tr><th>True Label</th><th>Predicted Label</th><th>Attribution Label</th><th>Attribution Score</th><th>Word Importance</th><tr><td><text style=\"padding-right:2em\"><b>Pos</b></text></td><td><text style=\"padding-right:2em\"><b>Pos (1.00)</b></text></td><td><text style=\"padding-right:2em\"><b>Neg</b></text></td><td><text style=\"padding-right:2em\"><b>-0.22</b></text></td><td><mark style=\"background-color: hsl(0, 75%, 79%); opacity:1.0;                     line-height:1.75\"><font color=\"black\"> #s                    </font></mark><mark style=\"background-color: hsl(0, 75%, 97%); opacity:1.0;                     line-height:1.75\"><font color=\"black\"> is                    </font></mark><mark style=\"background-color: hsl(120, 75%, 99%); opacity:1.0;                     line-height:1.75\"><font color=\"black\"> leguizamo                    </font></mark><mark style=\"background-color: hsl(120, 75%, 96%); opacity:1.0;                     line-height:1.75\"><font color=\"black\"> 's                    </font></mark><mark style=\"background-color: hsl(120, 75%, 97%); opacity:1.0;                     line-height:1.75\"><font color=\"black\"> best                    </font></mark><mark style=\"background-color: hsl(120, 75%, 80%); opacity:1.0;                     line-height:1.75\"><font color=\"black\"> movie                    </font></mark><mark style=\"background-color: hsl(120, 75%, 100%); opacity:1.0;                     line-height:1.75\"><font color=\"black\"> work                    </font></mark><mark style=\"background-color: hsl(0, 75%, 98%); opacity:1.0;                     line-height:1.75\"><font color=\"black\"> so                    </font></mark><mark style=\"background-color: hsl(120, 75%, 99%); opacity:1.0;                     line-height:1.75\"><font color=\"black\"> far                    </font></mark><mark style=\"background-color: hsl(120, 75%, 88%); opacity:1.0;                     line-height:1.75\"><font color=\"black\"> ,                    </font></mark><mark style=\"background-color: hsl(120, 75%, 85%); opacity:1.0;                     line-height:1.75\"><font color=\"black\"> a                    </font></mark><mark style=\"background-color: hsl(0, 75%, 99%); opacity:1.0;                     line-height:1.75\"><font color=\"black\"> subtle                    </font></mark><mark style=\"background-color: hsl(0, 75%, 94%); opacity:1.0;                     line-height:1.75\"><font color=\"black\"> and                    </font></mark><mark style=\"background-color: hsl(120, 75%, 100%); opacity:1.0;                     line-height:1.75\"><font color=\"black\"> richly                    </font></mark><mark style=\"background-color: hsl(0, 75%, 100%); opacity:1.0;                     line-height:1.75\"><font color=\"black\"> internalized                    </font></mark><mark style=\"background-color: hsl(0, 75%, 86%); opacity:1.0;                     line-height:1.75\"><font color=\"black\"> performance                    </font></mark><mark style=\"background-color: hsl(0, 75%, 99%); opacity:1.0;                     line-height:1.75\"><font color=\"black\">                     </font></mark><mark style=\"background-color: hsl(0, 75%, 95%); opacity:1.0;                     line-height:1.75\"><font color=\"black\"> #/s                    </font></mark></td><tr></table>"
      ],
      "text/plain": [
       "<IPython.core.display.HTML object>"
      ]
     },
     "metadata": {},
     "output_type": "display_data"
    },
    {
     "name": "stdout",
     "output_type": "stream",
     "text": [
      "<IPython.core.display.HTML object>\n",
      "Raw review: 'll enjoy this movie . \n",
      "GT target: 1\n"
     ]
    },
    {
     "data": {
      "text/html": [
       "<table width: 100%><div style=\"border-top: 1px solid; margin-top: 5px;             padding-top: 5px; display: inline-block\"><b>Legend: </b><span style=\"display: inline-block; width: 10px; height: 10px;                 border: 1px solid; background-color:                 hsl(0, 75%, 60%)\"></span> Negative  <span style=\"display: inline-block; width: 10px; height: 10px;                 border: 1px solid; background-color:                 hsl(0, 75%, 100%)\"></span> Neutral  <span style=\"display: inline-block; width: 10px; height: 10px;                 border: 1px solid; background-color:                 hsl(120, 75%, 50%)\"></span> Positive  </div><tr><th>True Label</th><th>Predicted Label</th><th>Attribution Label</th><th>Attribution Score</th><th>Word Importance</th><tr><td><text style=\"padding-right:2em\"><b>Pos</b></text></td><td><text style=\"padding-right:2em\"><b>Pos (1.00)</b></text></td><td><text style=\"padding-right:2em\"><b>Pos</b></text></td><td><text style=\"padding-right:2em\"><b>0.60</b></text></td><td><mark style=\"background-color: hsl(120, 75%, 99%); opacity:1.0;                     line-height:1.75\"><font color=\"black\"> #s                    </font></mark><mark style=\"background-color: hsl(120, 75%, 82%); opacity:1.0;                     line-height:1.75\"><font color=\"black\"> 'll                    </font></mark><mark style=\"background-color: hsl(0, 75%, 78%); opacity:1.0;                     line-height:1.75\"><font color=\"black\"> enjoy                    </font></mark><mark style=\"background-color: hsl(120, 75%, 87%); opacity:1.0;                     line-height:1.75\"><font color=\"black\"> this                    </font></mark><mark style=\"background-color: hsl(120, 75%, 67%); opacity:1.0;                     line-height:1.75\"><font color=\"black\"> movie                    </font></mark><mark style=\"background-color: hsl(0, 75%, 98%); opacity:1.0;                     line-height:1.75\"><font color=\"black\"> .                    </font></mark><mark style=\"background-color: hsl(0, 75%, 100%); opacity:1.0;                     line-height:1.75\"><font color=\"black\">                     </font></mark><mark style=\"background-color: hsl(0, 75%, 96%); opacity:1.0;                     line-height:1.75\"><font color=\"black\"> #/s                    </font></mark></td><tr></table>"
      ],
      "text/plain": [
       "<IPython.core.display.HTML object>"
      ]
     },
     "metadata": {},
     "output_type": "display_data"
    },
    {
     "name": "stdout",
     "output_type": "stream",
     "text": [
      "<IPython.core.display.HTML object>\n",
      "Raw review: our culture is headed down the toilet with the ferocity of a frozen burrito after an all-night tequila bender -- and i know this because i 've seen ` jackass : the movie \n",
      "GT target: 0\n"
     ]
    },
    {
     "data": {
      "text/html": [
       "<table width: 100%><div style=\"border-top: 1px solid; margin-top: 5px;             padding-top: 5px; display: inline-block\"><b>Legend: </b><span style=\"display: inline-block; width: 10px; height: 10px;                 border: 1px solid; background-color:                 hsl(0, 75%, 60%)\"></span> Negative  <span style=\"display: inline-block; width: 10px; height: 10px;                 border: 1px solid; background-color:                 hsl(0, 75%, 100%)\"></span> Neutral  <span style=\"display: inline-block; width: 10px; height: 10px;                 border: 1px solid; background-color:                 hsl(120, 75%, 50%)\"></span> Positive  </div><tr><th>True Label</th><th>Predicted Label</th><th>Attribution Label</th><th>Attribution Score</th><th>Word Importance</th><tr><td><text style=\"padding-right:2em\"><b>Neg</b></text></td><td><text style=\"padding-right:2em\"><b>Neg (0.01)</b></text></td><td><text style=\"padding-right:2em\"><b>Pos</b></text></td><td><text style=\"padding-right:2em\"><b>1.12</b></text></td><td><mark style=\"background-color: hsl(0, 75%, 89%); opacity:1.0;                     line-height:1.75\"><font color=\"black\"> #s                    </font></mark><mark style=\"background-color: hsl(0, 75%, 98%); opacity:1.0;                     line-height:1.75\"><font color=\"black\"> our                    </font></mark><mark style=\"background-color: hsl(120, 75%, 81%); opacity:1.0;                     line-height:1.75\"><font color=\"black\"> culture                    </font></mark><mark style=\"background-color: hsl(120, 75%, 100%); opacity:1.0;                     line-height:1.75\"><font color=\"black\"> is                    </font></mark><mark style=\"background-color: hsl(0, 75%, 91%); opacity:1.0;                     line-height:1.75\"><font color=\"black\"> headed                    </font></mark><mark style=\"background-color: hsl(0, 75%, 98%); opacity:1.0;                     line-height:1.75\"><font color=\"black\"> down                    </font></mark><mark style=\"background-color: hsl(0, 75%, 100%); opacity:1.0;                     line-height:1.75\"><font color=\"black\"> the                    </font></mark><mark style=\"background-color: hsl(120, 75%, 85%); opacity:1.0;                     line-height:1.75\"><font color=\"black\"> toilet                    </font></mark><mark style=\"background-color: hsl(0, 75%, 98%); opacity:1.0;                     line-height:1.75\"><font color=\"black\"> with                    </font></mark><mark style=\"background-color: hsl(120, 75%, 100%); opacity:1.0;                     line-height:1.75\"><font color=\"black\"> the                    </font></mark><mark style=\"background-color: hsl(0, 75%, 97%); opacity:1.0;                     line-height:1.75\"><font color=\"black\"> ferocity                    </font></mark><mark style=\"background-color: hsl(0, 75%, 92%); opacity:1.0;                     line-height:1.75\"><font color=\"black\"> of                    </font></mark><mark style=\"background-color: hsl(0, 75%, 99%); opacity:1.0;                     line-height:1.75\"><font color=\"black\"> a                    </font></mark><mark style=\"background-color: hsl(0, 75%, 98%); opacity:1.0;                     line-height:1.75\"><font color=\"black\"> frozen                    </font></mark><mark style=\"background-color: hsl(120, 75%, 88%); opacity:1.0;                     line-height:1.75\"><font color=\"black\"> burrito                    </font></mark><mark style=\"background-color: hsl(0, 75%, 100%); opacity:1.0;                     line-height:1.75\"><font color=\"black\"> after                    </font></mark><mark style=\"background-color: hsl(120, 75%, 85%); opacity:1.0;                     line-height:1.75\"><font color=\"black\"> an                    </font></mark><mark style=\"background-color: hsl(120, 75%, 97%); opacity:1.0;                     line-height:1.75\"><font color=\"black\"> all-night                    </font></mark><mark style=\"background-color: hsl(0, 75%, 98%); opacity:1.0;                     line-height:1.75\"><font color=\"black\"> tequila                    </font></mark><mark style=\"background-color: hsl(0, 75%, 100%); opacity:1.0;                     line-height:1.75\"><font color=\"black\"> bender                    </font></mark><mark style=\"background-color: hsl(120, 75%, 100%); opacity:1.0;                     line-height:1.75\"><font color=\"black\"> --                    </font></mark><mark style=\"background-color: hsl(0, 75%, 100%); opacity:1.0;                     line-height:1.75\"><font color=\"black\"> and                    </font></mark><mark style=\"background-color: hsl(120, 75%, 100%); opacity:1.0;                     line-height:1.75\"><font color=\"black\"> i                    </font></mark><mark style=\"background-color: hsl(0, 75%, 97%); opacity:1.0;                     line-height:1.75\"><font color=\"black\"> know                    </font></mark><mark style=\"background-color: hsl(0, 75%, 99%); opacity:1.0;                     line-height:1.75\"><font color=\"black\"> this                    </font></mark><mark style=\"background-color: hsl(120, 75%, 98%); opacity:1.0;                     line-height:1.75\"><font color=\"black\"> because                    </font></mark><mark style=\"background-color: hsl(120, 75%, 89%); opacity:1.0;                     line-height:1.75\"><font color=\"black\"> i                    </font></mark><mark style=\"background-color: hsl(120, 75%, 99%); opacity:1.0;                     line-height:1.75\"><font color=\"black\"> 've                    </font></mark><mark style=\"background-color: hsl(0, 75%, 99%); opacity:1.0;                     line-height:1.75\"><font color=\"black\"> seen                    </font></mark><mark style=\"background-color: hsl(0, 75%, 99%); opacity:1.0;                     line-height:1.75\"><font color=\"black\"> `                    </font></mark><mark style=\"background-color: hsl(120, 75%, 98%); opacity:1.0;                     line-height:1.75\"><font color=\"black\"> jackass                    </font></mark><mark style=\"background-color: hsl(120, 75%, 100%); opacity:1.0;                     line-height:1.75\"><font color=\"black\"> :                    </font></mark><mark style=\"background-color: hsl(0, 75%, 98%); opacity:1.0;                     line-height:1.75\"><font color=\"black\"> the                    </font></mark><mark style=\"background-color: hsl(120, 75%, 99%); opacity:1.0;                     line-height:1.75\"><font color=\"black\"> movie                    </font></mark><mark style=\"background-color: hsl(120, 75%, 99%); opacity:1.0;                     line-height:1.75\"><font color=\"black\">                     </font></mark><mark style=\"background-color: hsl(0, 75%, 98%); opacity:1.0;                     line-height:1.75\"><font color=\"black\"> #/s                    </font></mark></td><tr></table>"
      ],
      "text/plain": [
       "<IPython.core.display.HTML object>"
      ]
     },
     "metadata": {},
     "output_type": "display_data"
    },
    {
     "name": "stdout",
     "output_type": "stream",
     "text": [
      "<IPython.core.display.HTML object>\n",
      "Raw review: more psychotic than romantic \n",
      "GT target: 0\n"
     ]
    },
    {
     "data": {
      "text/html": [
       "<table width: 100%><div style=\"border-top: 1px solid; margin-top: 5px;             padding-top: 5px; display: inline-block\"><b>Legend: </b><span style=\"display: inline-block; width: 10px; height: 10px;                 border: 1px solid; background-color:                 hsl(0, 75%, 60%)\"></span> Negative  <span style=\"display: inline-block; width: 10px; height: 10px;                 border: 1px solid; background-color:                 hsl(0, 75%, 100%)\"></span> Neutral  <span style=\"display: inline-block; width: 10px; height: 10px;                 border: 1px solid; background-color:                 hsl(120, 75%, 50%)\"></span> Positive  </div><tr><th>True Label</th><th>Predicted Label</th><th>Attribution Label</th><th>Attribution Score</th><th>Word Importance</th><tr><td><text style=\"padding-right:2em\"><b>Neg</b></text></td><td><text style=\"padding-right:2em\"><b>Neg (0.00)</b></text></td><td><text style=\"padding-right:2em\"><b>Pos</b></text></td><td><text style=\"padding-right:2em\"><b>0.97</b></text></td><td><mark style=\"background-color: hsl(0, 75%, 100%); opacity:1.0;                     line-height:1.75\"><font color=\"black\"> #s                    </font></mark><mark style=\"background-color: hsl(120, 75%, 69%); opacity:1.0;                     line-height:1.75\"><font color=\"black\"> more                    </font></mark><mark style=\"background-color: hsl(120, 75%, 90%); opacity:1.0;                     line-height:1.75\"><font color=\"black\"> psychotic                    </font></mark><mark style=\"background-color: hsl(0, 75%, 77%); opacity:1.0;                     line-height:1.75\"><font color=\"black\"> than                    </font></mark><mark style=\"background-color: hsl(120, 75%, 83%); opacity:1.0;                     line-height:1.75\"><font color=\"black\"> romantic                    </font></mark><mark style=\"background-color: hsl(120, 75%, 97%); opacity:1.0;                     line-height:1.75\"><font color=\"black\">                     </font></mark><mark style=\"background-color: hsl(120, 75%, 84%); opacity:1.0;                     line-height:1.75\"><font color=\"black\"> #/s                    </font></mark></td><tr></table>"
      ],
      "text/plain": [
       "<IPython.core.display.HTML object>"
      ]
     },
     "metadata": {},
     "output_type": "display_data"
    },
    {
     "name": "stdout",
     "output_type": "stream",
     "text": [
      "<IPython.core.display.HTML object>\n",
      "Raw review: solid , satisfying fare \n",
      "GT target: 1\n"
     ]
    },
    {
     "data": {
      "text/html": [
       "<table width: 100%><div style=\"border-top: 1px solid; margin-top: 5px;             padding-top: 5px; display: inline-block\"><b>Legend: </b><span style=\"display: inline-block; width: 10px; height: 10px;                 border: 1px solid; background-color:                 hsl(0, 75%, 60%)\"></span> Negative  <span style=\"display: inline-block; width: 10px; height: 10px;                 border: 1px solid; background-color:                 hsl(0, 75%, 100%)\"></span> Neutral  <span style=\"display: inline-block; width: 10px; height: 10px;                 border: 1px solid; background-color:                 hsl(120, 75%, 50%)\"></span> Positive  </div><tr><th>True Label</th><th>Predicted Label</th><th>Attribution Label</th><th>Attribution Score</th><th>Word Importance</th><tr><td><text style=\"padding-right:2em\"><b>Pos</b></text></td><td><text style=\"padding-right:2em\"><b>Pos (1.00)</b></text></td><td><text style=\"padding-right:2em\"><b>Neg</b></text></td><td><text style=\"padding-right:2em\"><b>0.37</b></text></td><td><mark style=\"background-color: hsl(0, 75%, 89%); opacity:1.0;                     line-height:1.75\"><font color=\"black\"> #s                    </font></mark><mark style=\"background-color: hsl(0, 75%, 88%); opacity:1.0;                     line-height:1.75\"><font color=\"black\"> solid                    </font></mark><mark style=\"background-color: hsl(0, 75%, 85%); opacity:1.0;                     line-height:1.75\"><font color=\"black\"> ,                    </font></mark><mark style=\"background-color: hsl(120, 75%, 94%); opacity:1.0;                     line-height:1.75\"><font color=\"black\"> satisfying                    </font></mark><mark style=\"background-color: hsl(120, 75%, 66%); opacity:1.0;                     line-height:1.75\"><font color=\"black\"> fare                    </font></mark><mark style=\"background-color: hsl(120, 75%, 85%); opacity:1.0;                     line-height:1.75\"><font color=\"black\">                     </font></mark><mark style=\"background-color: hsl(120, 75%, 88%); opacity:1.0;                     line-height:1.75\"><font color=\"black\"> #/s                    </font></mark></td><tr></table>"
      ],
      "text/plain": [
       "<IPython.core.display.HTML object>"
      ]
     },
     "metadata": {},
     "output_type": "display_data"
    },
    {
     "name": "stdout",
     "output_type": "stream",
     "text": [
      "<IPython.core.display.HTML object>\n",
      "Raw review: he makes sure the salton sea works the way a good noir should , keeping it tight and nasty \n",
      "GT target: 1\n"
     ]
    },
    {
     "data": {
      "text/html": [
       "<table width: 100%><div style=\"border-top: 1px solid; margin-top: 5px;             padding-top: 5px; display: inline-block\"><b>Legend: </b><span style=\"display: inline-block; width: 10px; height: 10px;                 border: 1px solid; background-color:                 hsl(0, 75%, 60%)\"></span> Negative  <span style=\"display: inline-block; width: 10px; height: 10px;                 border: 1px solid; background-color:                 hsl(0, 75%, 100%)\"></span> Neutral  <span style=\"display: inline-block; width: 10px; height: 10px;                 border: 1px solid; background-color:                 hsl(120, 75%, 50%)\"></span> Positive  </div><tr><th>True Label</th><th>Predicted Label</th><th>Attribution Label</th><th>Attribution Score</th><th>Word Importance</th><tr><td><text style=\"padding-right:2em\"><b>Pos</b></text></td><td><text style=\"padding-right:2em\"><b>Pos (1.00)</b></text></td><td><text style=\"padding-right:2em\"><b>Neg</b></text></td><td><text style=\"padding-right:2em\"><b>-0.45</b></text></td><td><mark style=\"background-color: hsl(120, 75%, 98%); opacity:1.0;                     line-height:1.75\"><font color=\"black\"> #s                    </font></mark><mark style=\"background-color: hsl(0, 75%, 100%); opacity:1.0;                     line-height:1.75\"><font color=\"black\"> he                    </font></mark><mark style=\"background-color: hsl(120, 75%, 100%); opacity:1.0;                     line-height:1.75\"><font color=\"black\"> makes                    </font></mark><mark style=\"background-color: hsl(120, 75%, 92%); opacity:1.0;                     line-height:1.75\"><font color=\"black\"> sure                    </font></mark><mark style=\"background-color: hsl(0, 75%, 100%); opacity:1.0;                     line-height:1.75\"><font color=\"black\"> the                    </font></mark><mark style=\"background-color: hsl(120, 75%, 89%); opacity:1.0;                     line-height:1.75\"><font color=\"black\"> salton                    </font></mark><mark style=\"background-color: hsl(0, 75%, 96%); opacity:1.0;                     line-height:1.75\"><font color=\"black\"> sea                    </font></mark><mark style=\"background-color: hsl(120, 75%, 85%); opacity:1.0;                     line-height:1.75\"><font color=\"black\"> works                    </font></mark><mark style=\"background-color: hsl(0, 75%, 95%); opacity:1.0;                     line-height:1.75\"><font color=\"black\"> the                    </font></mark><mark style=\"background-color: hsl(0, 75%, 98%); opacity:1.0;                     line-height:1.75\"><font color=\"black\"> way                    </font></mark><mark style=\"background-color: hsl(0, 75%, 100%); opacity:1.0;                     line-height:1.75\"><font color=\"black\"> a                    </font></mark><mark style=\"background-color: hsl(120, 75%, 97%); opacity:1.0;                     line-height:1.75\"><font color=\"black\"> good                    </font></mark><mark style=\"background-color: hsl(120, 75%, 89%); opacity:1.0;                     line-height:1.75\"><font color=\"black\"> noir                    </font></mark><mark style=\"background-color: hsl(0, 75%, 95%); opacity:1.0;                     line-height:1.75\"><font color=\"black\"> should                    </font></mark><mark style=\"background-color: hsl(0, 75%, 74%); opacity:1.0;                     line-height:1.75\"><font color=\"black\"> ,                    </font></mark><mark style=\"background-color: hsl(0, 75%, 99%); opacity:1.0;                     line-height:1.75\"><font color=\"black\"> keeping                    </font></mark><mark style=\"background-color: hsl(0, 75%, 92%); opacity:1.0;                     line-height:1.75\"><font color=\"black\"> it                    </font></mark><mark style=\"background-color: hsl(120, 75%, 96%); opacity:1.0;                     line-height:1.75\"><font color=\"black\"> tight                    </font></mark><mark style=\"background-color: hsl(0, 75%, 92%); opacity:1.0;                     line-height:1.75\"><font color=\"black\"> and                    </font></mark><mark style=\"background-color: hsl(120, 75%, 87%); opacity:1.0;                     line-height:1.75\"><font color=\"black\"> nasty                    </font></mark><mark style=\"background-color: hsl(120, 75%, 100%); opacity:1.0;                     line-height:1.75\"><font color=\"black\">                     </font></mark><mark style=\"background-color: hsl(0, 75%, 89%); opacity:1.0;                     line-height:1.75\"><font color=\"black\"> #/s                    </font></mark></td><tr></table>"
      ],
      "text/plain": [
       "<IPython.core.display.HTML object>"
      ]
     },
     "metadata": {},
     "output_type": "display_data"
    },
    {
     "name": "stdout",
     "output_type": "stream",
     "text": [
      "<IPython.core.display.HTML object>\n",
      "Raw review: should jolt you out of your seat a couple of times , give you a few laughs , and leave you feeling like it was worth your seven bucks , even though it does turn out to be a bit of a cheat in the end . \n",
      "GT target: 1\n"
     ]
    },
    {
     "data": {
      "text/html": [
       "<table width: 100%><div style=\"border-top: 1px solid; margin-top: 5px;             padding-top: 5px; display: inline-block\"><b>Legend: </b><span style=\"display: inline-block; width: 10px; height: 10px;                 border: 1px solid; background-color:                 hsl(0, 75%, 60%)\"></span> Negative  <span style=\"display: inline-block; width: 10px; height: 10px;                 border: 1px solid; background-color:                 hsl(0, 75%, 100%)\"></span> Neutral  <span style=\"display: inline-block; width: 10px; height: 10px;                 border: 1px solid; background-color:                 hsl(120, 75%, 50%)\"></span> Positive  </div><tr><th>True Label</th><th>Predicted Label</th><th>Attribution Label</th><th>Attribution Score</th><th>Word Importance</th><tr><td><text style=\"padding-right:2em\"><b>Pos</b></text></td><td><text style=\"padding-right:2em\"><b>Pos (0.99)</b></text></td><td><text style=\"padding-right:2em\"><b>Pos</b></text></td><td><text style=\"padding-right:2em\"><b>0.67</b></text></td><td><mark style=\"background-color: hsl(0, 75%, 86%); opacity:1.0;                     line-height:1.75\"><font color=\"black\"> #s                    </font></mark><mark style=\"background-color: hsl(120, 75%, 84%); opacity:1.0;                     line-height:1.75\"><font color=\"black\"> should                    </font></mark><mark style=\"background-color: hsl(120, 75%, 100%); opacity:1.0;                     line-height:1.75\"><font color=\"black\"> jolt                    </font></mark><mark style=\"background-color: hsl(120, 75%, 69%); opacity:1.0;                     line-height:1.75\"><font color=\"black\"> you                    </font></mark><mark style=\"background-color: hsl(0, 75%, 100%); opacity:1.0;                     line-height:1.75\"><font color=\"black\"> out                    </font></mark><mark style=\"background-color: hsl(0, 75%, 96%); opacity:1.0;                     line-height:1.75\"><font color=\"black\"> of                    </font></mark><mark style=\"background-color: hsl(0, 75%, 97%); opacity:1.0;                     line-height:1.75\"><font color=\"black\"> your                    </font></mark><mark style=\"background-color: hsl(120, 75%, 100%); opacity:1.0;                     line-height:1.75\"><font color=\"black\"> seat                    </font></mark><mark style=\"background-color: hsl(120, 75%, 93%); opacity:1.0;                     line-height:1.75\"><font color=\"black\"> a                    </font></mark><mark style=\"background-color: hsl(0, 75%, 99%); opacity:1.0;                     line-height:1.75\"><font color=\"black\"> couple                    </font></mark><mark style=\"background-color: hsl(0, 75%, 98%); opacity:1.0;                     line-height:1.75\"><font color=\"black\"> of                    </font></mark><mark style=\"background-color: hsl(0, 75%, 97%); opacity:1.0;                     line-height:1.75\"><font color=\"black\"> times                    </font></mark><mark style=\"background-color: hsl(0, 75%, 100%); opacity:1.0;                     line-height:1.75\"><font color=\"black\"> ,                    </font></mark><mark style=\"background-color: hsl(0, 75%, 99%); opacity:1.0;                     line-height:1.75\"><font color=\"black\"> give                    </font></mark><mark style=\"background-color: hsl(120, 75%, 99%); opacity:1.0;                     line-height:1.75\"><font color=\"black\"> you                    </font></mark><mark style=\"background-color: hsl(0, 75%, 100%); opacity:1.0;                     line-height:1.75\"><font color=\"black\"> a                    </font></mark><mark style=\"background-color: hsl(0, 75%, 100%); opacity:1.0;                     line-height:1.75\"><font color=\"black\"> few                    </font></mark><mark style=\"background-color: hsl(0, 75%, 100%); opacity:1.0;                     line-height:1.75\"><font color=\"black\"> laughs                    </font></mark><mark style=\"background-color: hsl(120, 75%, 91%); opacity:1.0;                     line-height:1.75\"><font color=\"black\"> ,                    </font></mark><mark style=\"background-color: hsl(120, 75%, 100%); opacity:1.0;                     line-height:1.75\"><font color=\"black\"> and                    </font></mark><mark style=\"background-color: hsl(120, 75%, 100%); opacity:1.0;                     line-height:1.75\"><font color=\"black\"> leave                    </font></mark><mark style=\"background-color: hsl(120, 75%, 99%); opacity:1.0;                     line-height:1.75\"><font color=\"black\"> you                    </font></mark><mark style=\"background-color: hsl(0, 75%, 98%); opacity:1.0;                     line-height:1.75\"><font color=\"black\"> feeling                    </font></mark><mark style=\"background-color: hsl(120, 75%, 96%); opacity:1.0;                     line-height:1.75\"><font color=\"black\"> like                    </font></mark><mark style=\"background-color: hsl(120, 75%, 97%); opacity:1.0;                     line-height:1.75\"><font color=\"black\"> it                    </font></mark><mark style=\"background-color: hsl(120, 75%, 98%); opacity:1.0;                     line-height:1.75\"><font color=\"black\"> was                    </font></mark><mark style=\"background-color: hsl(0, 75%, 94%); opacity:1.0;                     line-height:1.75\"><font color=\"black\"> worth                    </font></mark><mark style=\"background-color: hsl(0, 75%, 98%); opacity:1.0;                     line-height:1.75\"><font color=\"black\"> your                    </font></mark><mark style=\"background-color: hsl(120, 75%, 99%); opacity:1.0;                     line-height:1.75\"><font color=\"black\"> seven                    </font></mark><mark style=\"background-color: hsl(0, 75%, 97%); opacity:1.0;                     line-height:1.75\"><font color=\"black\"> bucks                    </font></mark><mark style=\"background-color: hsl(120, 75%, 81%); opacity:1.0;                     line-height:1.75\"><font color=\"black\"> ,                    </font></mark><mark style=\"background-color: hsl(0, 75%, 98%); opacity:1.0;                     line-height:1.75\"><font color=\"black\"> even                    </font></mark><mark style=\"background-color: hsl(120, 75%, 95%); opacity:1.0;                     line-height:1.75\"><font color=\"black\"> though                    </font></mark><mark style=\"background-color: hsl(0, 75%, 97%); opacity:1.0;                     line-height:1.75\"><font color=\"black\"> it                    </font></mark><mark style=\"background-color: hsl(120, 75%, 99%); opacity:1.0;                     line-height:1.75\"><font color=\"black\"> does                    </font></mark><mark style=\"background-color: hsl(120, 75%, 100%); opacity:1.0;                     line-height:1.75\"><font color=\"black\"> turn                    </font></mark><mark style=\"background-color: hsl(120, 75%, 99%); opacity:1.0;                     line-height:1.75\"><font color=\"black\"> out                    </font></mark><mark style=\"background-color: hsl(0, 75%, 100%); opacity:1.0;                     line-height:1.75\"><font color=\"black\"> to                    </font></mark><mark style=\"background-color: hsl(0, 75%, 100%); opacity:1.0;                     line-height:1.75\"><font color=\"black\"> be                    </font></mark><mark style=\"background-color: hsl(120, 75%, 100%); opacity:1.0;                     line-height:1.75\"><font color=\"black\"> a                    </font></mark><mark style=\"background-color: hsl(120, 75%, 100%); opacity:1.0;                     line-height:1.75\"><font color=\"black\"> bit                    </font></mark><mark style=\"background-color: hsl(120, 75%, 98%); opacity:1.0;                     line-height:1.75\"><font color=\"black\"> of                    </font></mark><mark style=\"background-color: hsl(0, 75%, 100%); opacity:1.0;                     line-height:1.75\"><font color=\"black\"> a                    </font></mark><mark style=\"background-color: hsl(0, 75%, 99%); opacity:1.0;                     line-height:1.75\"><font color=\"black\"> cheat                    </font></mark><mark style=\"background-color: hsl(0, 75%, 94%); opacity:1.0;                     line-height:1.75\"><font color=\"black\"> in                    </font></mark><mark style=\"background-color: hsl(120, 75%, 98%); opacity:1.0;                     line-height:1.75\"><font color=\"black\"> the                    </font></mark><mark style=\"background-color: hsl(0, 75%, 100%); opacity:1.0;                     line-height:1.75\"><font color=\"black\"> end                    </font></mark><mark style=\"background-color: hsl(0, 75%, 99%); opacity:1.0;                     line-height:1.75\"><font color=\"black\"> .                    </font></mark><mark style=\"background-color: hsl(0, 75%, 99%); opacity:1.0;                     line-height:1.75\"><font color=\"black\">                     </font></mark><mark style=\"background-color: hsl(120, 75%, 95%); opacity:1.0;                     line-height:1.75\"><font color=\"black\"> #/s                    </font></mark></td><tr></table>"
      ],
      "text/plain": [
       "<IPython.core.display.HTML object>"
      ]
     },
     "metadata": {},
     "output_type": "display_data"
    },
    {
     "name": "stdout",
     "output_type": "stream",
     "text": [
      "<IPython.core.display.HTML object>\n",
      "Raw review: brittle desperation \n",
      "GT target: 0\n"
     ]
    },
    {
     "data": {
      "text/html": [
       "<table width: 100%><div style=\"border-top: 1px solid; margin-top: 5px;             padding-top: 5px; display: inline-block\"><b>Legend: </b><span style=\"display: inline-block; width: 10px; height: 10px;                 border: 1px solid; background-color:                 hsl(0, 75%, 60%)\"></span> Negative  <span style=\"display: inline-block; width: 10px; height: 10px;                 border: 1px solid; background-color:                 hsl(0, 75%, 100%)\"></span> Neutral  <span style=\"display: inline-block; width: 10px; height: 10px;                 border: 1px solid; background-color:                 hsl(120, 75%, 50%)\"></span> Positive  </div><tr><th>True Label</th><th>Predicted Label</th><th>Attribution Label</th><th>Attribution Score</th><th>Word Importance</th><tr><td><text style=\"padding-right:2em\"><b>Neg</b></text></td><td><text style=\"padding-right:2em\"><b>Neg (0.00)</b></text></td><td><text style=\"padding-right:2em\"><b>Pos</b></text></td><td><text style=\"padding-right:2em\"><b>0.54</b></text></td><td><mark style=\"background-color: hsl(120, 75%, 98%); opacity:1.0;                     line-height:1.75\"><font color=\"black\"> #s                    </font></mark><mark style=\"background-color: hsl(0, 75%, 88%); opacity:1.0;                     line-height:1.75\"><font color=\"black\"> brittle                    </font></mark><mark style=\"background-color: hsl(0, 75%, 93%); opacity:1.0;                     line-height:1.75\"><font color=\"black\"> desperation                    </font></mark><mark style=\"background-color: hsl(120, 75%, 54%); opacity:1.0;                     line-height:1.75\"><font color=\"black\">                     </font></mark><mark style=\"background-color: hsl(0, 75%, 99%); opacity:1.0;                     line-height:1.75\"><font color=\"black\"> #/s                    </font></mark></td><tr></table>"
      ],
      "text/plain": [
       "<IPython.core.display.HTML object>"
      ]
     },
     "metadata": {},
     "output_type": "display_data"
    },
    {
     "name": "stdout",
     "output_type": "stream",
     "text": [
      "<IPython.core.display.HTML object>\n",
      "Raw review: and twisted characters \n",
      "GT target: 1\n"
     ]
    },
    {
     "data": {
      "text/html": [
       "<table width: 100%><div style=\"border-top: 1px solid; margin-top: 5px;             padding-top: 5px; display: inline-block\"><b>Legend: </b><span style=\"display: inline-block; width: 10px; height: 10px;                 border: 1px solid; background-color:                 hsl(0, 75%, 60%)\"></span> Negative  <span style=\"display: inline-block; width: 10px; height: 10px;                 border: 1px solid; background-color:                 hsl(0, 75%, 100%)\"></span> Neutral  <span style=\"display: inline-block; width: 10px; height: 10px;                 border: 1px solid; background-color:                 hsl(120, 75%, 50%)\"></span> Positive  </div><tr><th>True Label</th><th>Predicted Label</th><th>Attribution Label</th><th>Attribution Score</th><th>Word Importance</th><tr><td><text style=\"padding-right:2em\"><b>Pos</b></text></td><td><text style=\"padding-right:2em\"><b>Pos (0.98)</b></text></td><td><text style=\"padding-right:2em\"><b>Neg</b></text></td><td><text style=\"padding-right:2em\"><b>0.14</b></text></td><td><mark style=\"background-color: hsl(0, 75%, 90%); opacity:1.0;                     line-height:1.75\"><font color=\"black\"> #s                    </font></mark><mark style=\"background-color: hsl(120, 75%, 98%); opacity:1.0;                     line-height:1.75\"><font color=\"black\"> and                    </font></mark><mark style=\"background-color: hsl(0, 75%, 78%); opacity:1.0;                     line-height:1.75\"><font color=\"black\"> twisted                    </font></mark><mark style=\"background-color: hsl(120, 75%, 68%); opacity:1.0;                     line-height:1.75\"><font color=\"black\"> characters                    </font></mark><mark style=\"background-color: hsl(120, 75%, 80%); opacity:1.0;                     line-height:1.75\"><font color=\"black\">                     </font></mark><mark style=\"background-color: hsl(0, 75%, 94%); opacity:1.0;                     line-height:1.75\"><font color=\"black\"> #/s                    </font></mark></td><tr></table>"
      ],
      "text/plain": [
       "<IPython.core.display.HTML object>"
      ]
     },
     "metadata": {},
     "output_type": "display_data"
    },
    {
     "name": "stdout",
     "output_type": "stream",
     "text": [
      "<IPython.core.display.HTML object>\n",
      "Raw review: less-than-thrilling thriller . \n",
      "GT target: 0\n"
     ]
    },
    {
     "data": {
      "text/html": [
       "<table width: 100%><div style=\"border-top: 1px solid; margin-top: 5px;             padding-top: 5px; display: inline-block\"><b>Legend: </b><span style=\"display: inline-block; width: 10px; height: 10px;                 border: 1px solid; background-color:                 hsl(0, 75%, 60%)\"></span> Negative  <span style=\"display: inline-block; width: 10px; height: 10px;                 border: 1px solid; background-color:                 hsl(0, 75%, 100%)\"></span> Neutral  <span style=\"display: inline-block; width: 10px; height: 10px;                 border: 1px solid; background-color:                 hsl(120, 75%, 50%)\"></span> Positive  </div><tr><th>True Label</th><th>Predicted Label</th><th>Attribution Label</th><th>Attribution Score</th><th>Word Importance</th><tr><td><text style=\"padding-right:2em\"><b>Neg</b></text></td><td><text style=\"padding-right:2em\"><b>Neg (0.00)</b></text></td><td><text style=\"padding-right:2em\"><b>Neg</b></text></td><td><text style=\"padding-right:2em\"><b>0.01</b></text></td><td><mark style=\"background-color: hsl(0, 75%, 94%); opacity:1.0;                     line-height:1.75\"><font color=\"black\"> #s                    </font></mark><mark style=\"background-color: hsl(0, 75%, 100%); opacity:1.0;                     line-height:1.75\"><font color=\"black\"> less-than-thrilling                    </font></mark><mark style=\"background-color: hsl(120, 75%, 77%); opacity:1.0;                     line-height:1.75\"><font color=\"black\"> thriller                    </font></mark><mark style=\"background-color: hsl(0, 75%, 86%); opacity:1.0;                     line-height:1.75\"><font color=\"black\"> .                    </font></mark><mark style=\"background-color: hsl(120, 75%, 69%); opacity:1.0;                     line-height:1.75\"><font color=\"black\">                     </font></mark><mark style=\"background-color: hsl(0, 75%, 97%); opacity:1.0;                     line-height:1.75\"><font color=\"black\"> #/s                    </font></mark></td><tr></table>"
      ],
      "text/plain": [
       "<IPython.core.display.HTML object>"
      ]
     },
     "metadata": {},
     "output_type": "display_data"
    },
    {
     "name": "stdout",
     "output_type": "stream",
     "text": [
      "<IPython.core.display.HTML object>\n",
      "Raw review: , overnight , is robbed and replaced with a persecuted `` other \n",
      "GT target: 0\n"
     ]
    },
    {
     "data": {
      "text/html": [
       "<table width: 100%><div style=\"border-top: 1px solid; margin-top: 5px;             padding-top: 5px; display: inline-block\"><b>Legend: </b><span style=\"display: inline-block; width: 10px; height: 10px;                 border: 1px solid; background-color:                 hsl(0, 75%, 60%)\"></span> Negative  <span style=\"display: inline-block; width: 10px; height: 10px;                 border: 1px solid; background-color:                 hsl(0, 75%, 100%)\"></span> Neutral  <span style=\"display: inline-block; width: 10px; height: 10px;                 border: 1px solid; background-color:                 hsl(120, 75%, 50%)\"></span> Positive  </div><tr><th>True Label</th><th>Predicted Label</th><th>Attribution Label</th><th>Attribution Score</th><th>Word Importance</th><tr><td><text style=\"padding-right:2em\"><b>Neg</b></text></td><td><text style=\"padding-right:2em\"><b>Neg (0.00)</b></text></td><td><text style=\"padding-right:2em\"><b>Neg</b></text></td><td><text style=\"padding-right:2em\"><b>0.14</b></text></td><td><mark style=\"background-color: hsl(0, 75%, 96%); opacity:1.0;                     line-height:1.75\"><font color=\"black\"> #s                    </font></mark><mark style=\"background-color: hsl(120, 75%, 96%); opacity:1.0;                     line-height:1.75\"><font color=\"black\"> ,                    </font></mark><mark style=\"background-color: hsl(0, 75%, 99%); opacity:1.0;                     line-height:1.75\"><font color=\"black\"> overnight                    </font></mark><mark style=\"background-color: hsl(0, 75%, 95%); opacity:1.0;                     line-height:1.75\"><font color=\"black\"> ,                    </font></mark><mark style=\"background-color: hsl(120, 75%, 97%); opacity:1.0;                     line-height:1.75\"><font color=\"black\"> is                    </font></mark><mark style=\"background-color: hsl(120, 75%, 55%); opacity:1.0;                     line-height:1.75\"><font color=\"black\"> robbed                    </font></mark><mark style=\"background-color: hsl(0, 75%, 98%); opacity:1.0;                     line-height:1.75\"><font color=\"black\"> and                    </font></mark><mark style=\"background-color: hsl(0, 75%, 99%); opacity:1.0;                     line-height:1.75\"><font color=\"black\"> replaced                    </font></mark><mark style=\"background-color: hsl(0, 75%, 91%); opacity:1.0;                     line-height:1.75\"><font color=\"black\"> with                    </font></mark><mark style=\"background-color: hsl(0, 75%, 100%); opacity:1.0;                     line-height:1.75\"><font color=\"black\"> a                    </font></mark><mark style=\"background-color: hsl(120, 75%, 97%); opacity:1.0;                     line-height:1.75\"><font color=\"black\"> persecuted                    </font></mark><mark style=\"background-color: hsl(0, 75%, 97%); opacity:1.0;                     line-height:1.75\"><font color=\"black\"> ``                    </font></mark><mark style=\"background-color: hsl(0, 75%, 93%); opacity:1.0;                     line-height:1.75\"><font color=\"black\"> other                    </font></mark><mark style=\"background-color: hsl(0, 75%, 94%); opacity:1.0;                     line-height:1.75\"><font color=\"black\">                     </font></mark><mark style=\"background-color: hsl(120, 75%, 96%); opacity:1.0;                     line-height:1.75\"><font color=\"black\"> #/s                    </font></mark></td><tr></table>"
      ],
      "text/plain": [
       "<IPython.core.display.HTML object>"
      ]
     },
     "metadata": {},
     "output_type": "display_data"
    },
    {
     "name": "stdout",
     "output_type": "stream",
     "text": [
      "<IPython.core.display.HTML object>\n",
      "Raw review: is worse : the part where nothing 's happening , or the part where something 's happening \n",
      "GT target: 0\n"
     ]
    },
    {
     "data": {
      "text/html": [
       "<table width: 100%><div style=\"border-top: 1px solid; margin-top: 5px;             padding-top: 5px; display: inline-block\"><b>Legend: </b><span style=\"display: inline-block; width: 10px; height: 10px;                 border: 1px solid; background-color:                 hsl(0, 75%, 60%)\"></span> Negative  <span style=\"display: inline-block; width: 10px; height: 10px;                 border: 1px solid; background-color:                 hsl(0, 75%, 100%)\"></span> Neutral  <span style=\"display: inline-block; width: 10px; height: 10px;                 border: 1px solid; background-color:                 hsl(120, 75%, 50%)\"></span> Positive  </div><tr><th>True Label</th><th>Predicted Label</th><th>Attribution Label</th><th>Attribution Score</th><th>Word Importance</th><tr><td><text style=\"padding-right:2em\"><b>Neg</b></text></td><td><text style=\"padding-right:2em\"><b>Neg (0.00)</b></text></td><td><text style=\"padding-right:2em\"><b>Pos</b></text></td><td><text style=\"padding-right:2em\"><b>1.52</b></text></td><td><mark style=\"background-color: hsl(120, 75%, 84%); opacity:1.0;                     line-height:1.75\"><font color=\"black\"> #s                    </font></mark><mark style=\"background-color: hsl(0, 75%, 100%); opacity:1.0;                     line-height:1.75\"><font color=\"black\"> is                    </font></mark><mark style=\"background-color: hsl(0, 75%, 96%); opacity:1.0;                     line-height:1.75\"><font color=\"black\"> worse                    </font></mark><mark style=\"background-color: hsl(120, 75%, 62%); opacity:1.0;                     line-height:1.75\"><font color=\"black\"> :                    </font></mark><mark style=\"background-color: hsl(120, 75%, 93%); opacity:1.0;                     line-height:1.75\"><font color=\"black\"> the                    </font></mark><mark style=\"background-color: hsl(120, 75%, 95%); opacity:1.0;                     line-height:1.75\"><font color=\"black\"> part                    </font></mark><mark style=\"background-color: hsl(0, 75%, 98%); opacity:1.0;                     line-height:1.75\"><font color=\"black\"> where                    </font></mark><mark style=\"background-color: hsl(120, 75%, 100%); opacity:1.0;                     line-height:1.75\"><font color=\"black\"> nothing                    </font></mark><mark style=\"background-color: hsl(120, 75%, 92%); opacity:1.0;                     line-height:1.75\"><font color=\"black\"> 's                    </font></mark><mark style=\"background-color: hsl(0, 75%, 96%); opacity:1.0;                     line-height:1.75\"><font color=\"black\"> happening                    </font></mark><mark style=\"background-color: hsl(0, 75%, 100%); opacity:1.0;                     line-height:1.75\"><font color=\"black\"> ,                    </font></mark><mark style=\"background-color: hsl(120, 75%, 91%); opacity:1.0;                     line-height:1.75\"><font color=\"black\"> or                    </font></mark><mark style=\"background-color: hsl(120, 75%, 88%); opacity:1.0;                     line-height:1.75\"><font color=\"black\"> the                    </font></mark><mark style=\"background-color: hsl(120, 75%, 97%); opacity:1.0;                     line-height:1.75\"><font color=\"black\"> part                    </font></mark><mark style=\"background-color: hsl(120, 75%, 97%); opacity:1.0;                     line-height:1.75\"><font color=\"black\"> where                    </font></mark><mark style=\"background-color: hsl(0, 75%, 100%); opacity:1.0;                     line-height:1.75\"><font color=\"black\"> something                    </font></mark><mark style=\"background-color: hsl(120, 75%, 100%); opacity:1.0;                     line-height:1.75\"><font color=\"black\"> 's                    </font></mark><mark style=\"background-color: hsl(120, 75%, 90%); opacity:1.0;                     line-height:1.75\"><font color=\"black\"> happening                    </font></mark><mark style=\"background-color: hsl(0, 75%, 100%); opacity:1.0;                     line-height:1.75\"><font color=\"black\">                     </font></mark><mark style=\"background-color: hsl(0, 75%, 95%); opacity:1.0;                     line-height:1.75\"><font color=\"black\"> #/s                    </font></mark></td><tr></table>"
      ],
      "text/plain": [
       "<IPython.core.display.HTML object>"
      ]
     },
     "metadata": {},
     "output_type": "display_data"
    },
    {
     "name": "stdout",
     "output_type": "stream",
     "text": [
      "<IPython.core.display.HTML object>\n",
      "Raw review: would take a complete moron to foul up a screen adaptation of oscar wilde 's classic satire \n",
      "GT target: 0\n"
     ]
    },
    {
     "data": {
      "text/html": [
       "<table width: 100%><div style=\"border-top: 1px solid; margin-top: 5px;             padding-top: 5px; display: inline-block\"><b>Legend: </b><span style=\"display: inline-block; width: 10px; height: 10px;                 border: 1px solid; background-color:                 hsl(0, 75%, 60%)\"></span> Negative  <span style=\"display: inline-block; width: 10px; height: 10px;                 border: 1px solid; background-color:                 hsl(0, 75%, 100%)\"></span> Neutral  <span style=\"display: inline-block; width: 10px; height: 10px;                 border: 1px solid; background-color:                 hsl(120, 75%, 50%)\"></span> Positive  </div><tr><th>True Label</th><th>Predicted Label</th><th>Attribution Label</th><th>Attribution Score</th><th>Word Importance</th><tr><td><text style=\"padding-right:2em\"><b>Neg</b></text></td><td><text style=\"padding-right:2em\"><b>Pos (0.98)</b></text></td><td><text style=\"padding-right:2em\"><b>Neg</b></text></td><td><text style=\"padding-right:2em\"><b>-0.41</b></text></td><td><mark style=\"background-color: hsl(120, 75%, 100%); opacity:1.0;                     line-height:1.75\"><font color=\"black\"> #s                    </font></mark><mark style=\"background-color: hsl(0, 75%, 98%); opacity:1.0;                     line-height:1.75\"><font color=\"black\"> would                    </font></mark><mark style=\"background-color: hsl(120, 75%, 99%); opacity:1.0;                     line-height:1.75\"><font color=\"black\"> take                    </font></mark><mark style=\"background-color: hsl(120, 75%, 98%); opacity:1.0;                     line-height:1.75\"><font color=\"black\"> a                    </font></mark><mark style=\"background-color: hsl(120, 75%, 99%); opacity:1.0;                     line-height:1.75\"><font color=\"black\"> complete                    </font></mark><mark style=\"background-color: hsl(0, 75%, 82%); opacity:1.0;                     line-height:1.75\"><font color=\"black\"> moron                    </font></mark><mark style=\"background-color: hsl(0, 75%, 95%); opacity:1.0;                     line-height:1.75\"><font color=\"black\"> to                    </font></mark><mark style=\"background-color: hsl(0, 75%, 97%); opacity:1.0;                     line-height:1.75\"><font color=\"black\"> foul                    </font></mark><mark style=\"background-color: hsl(0, 75%, 80%); opacity:1.0;                     line-height:1.75\"><font color=\"black\"> up                    </font></mark><mark style=\"background-color: hsl(0, 75%, 98%); opacity:1.0;                     line-height:1.75\"><font color=\"black\"> a                    </font></mark><mark style=\"background-color: hsl(120, 75%, 97%); opacity:1.0;                     line-height:1.75\"><font color=\"black\"> screen                    </font></mark><mark style=\"background-color: hsl(0, 75%, 82%); opacity:1.0;                     line-height:1.75\"><font color=\"black\"> adaptation                    </font></mark><mark style=\"background-color: hsl(120, 75%, 94%); opacity:1.0;                     line-height:1.75\"><font color=\"black\"> of                    </font></mark><mark style=\"background-color: hsl(0, 75%, 100%); opacity:1.0;                     line-height:1.75\"><font color=\"black\"> oscar                    </font></mark><mark style=\"background-color: hsl(120, 75%, 95%); opacity:1.0;                     line-height:1.75\"><font color=\"black\"> wilde                    </font></mark><mark style=\"background-color: hsl(120, 75%, 81%); opacity:1.0;                     line-height:1.75\"><font color=\"black\"> 's                    </font></mark><mark style=\"background-color: hsl(120, 75%, 88%); opacity:1.0;                     line-height:1.75\"><font color=\"black\"> classic                    </font></mark><mark style=\"background-color: hsl(120, 75%, 99%); opacity:1.0;                     line-height:1.75\"><font color=\"black\"> satire                    </font></mark><mark style=\"background-color: hsl(120, 75%, 97%); opacity:1.0;                     line-height:1.75\"><font color=\"black\">                     </font></mark><mark style=\"background-color: hsl(120, 75%, 100%); opacity:1.0;                     line-height:1.75\"><font color=\"black\"> #/s                    </font></mark></td><tr></table>"
      ],
      "text/plain": [
       "<IPython.core.display.HTML object>"
      ]
     },
     "metadata": {},
     "output_type": "display_data"
    },
    {
     "name": "stdout",
     "output_type": "stream",
     "text": [
      "<IPython.core.display.HTML object>\n",
      "Raw review: most audacious , outrageous \n",
      "GT target: 1\n"
     ]
    },
    {
     "data": {
      "text/html": [
       "<table width: 100%><div style=\"border-top: 1px solid; margin-top: 5px;             padding-top: 5px; display: inline-block\"><b>Legend: </b><span style=\"display: inline-block; width: 10px; height: 10px;                 border: 1px solid; background-color:                 hsl(0, 75%, 60%)\"></span> Negative  <span style=\"display: inline-block; width: 10px; height: 10px;                 border: 1px solid; background-color:                 hsl(0, 75%, 100%)\"></span> Neutral  <span style=\"display: inline-block; width: 10px; height: 10px;                 border: 1px solid; background-color:                 hsl(120, 75%, 50%)\"></span> Positive  </div><tr><th>True Label</th><th>Predicted Label</th><th>Attribution Label</th><th>Attribution Score</th><th>Word Importance</th><tr><td><text style=\"padding-right:2em\"><b>Pos</b></text></td><td><text style=\"padding-right:2em\"><b>Pos (0.99)</b></text></td><td><text style=\"padding-right:2em\"><b>Neg</b></text></td><td><text style=\"padding-right:2em\"><b>-0.01</b></text></td><td><mark style=\"background-color: hsl(0, 75%, 81%); opacity:1.0;                     line-height:1.75\"><font color=\"black\"> #s                    </font></mark><mark style=\"background-color: hsl(0, 75%, 97%); opacity:1.0;                     line-height:1.75\"><font color=\"black\"> most                    </font></mark><mark style=\"background-color: hsl(120, 75%, 80%); opacity:1.0;                     line-height:1.75\"><font color=\"black\"> audacious                    </font></mark><mark style=\"background-color: hsl(120, 75%, 71%); opacity:1.0;                     line-height:1.75\"><font color=\"black\"> ,                    </font></mark><mark style=\"background-color: hsl(120, 75%, 96%); opacity:1.0;                     line-height:1.75\"><font color=\"black\"> outrageous                    </font></mark><mark style=\"background-color: hsl(0, 75%, 82%); opacity:1.0;                     line-height:1.75\"><font color=\"black\">                     </font></mark><mark style=\"background-color: hsl(0, 75%, 96%); opacity:1.0;                     line-height:1.75\"><font color=\"black\"> #/s                    </font></mark></td><tr></table>"
      ],
      "text/plain": [
       "<IPython.core.display.HTML object>"
      ]
     },
     "metadata": {},
     "output_type": "display_data"
    },
    {
     "name": "stdout",
     "output_type": "stream",
     "text": [
      "<IPython.core.display.HTML object>\n",
      "Raw review: holds a certain charm \n",
      "GT target: 1\n"
     ]
    },
    {
     "data": {
      "text/html": [
       "<table width: 100%><div style=\"border-top: 1px solid; margin-top: 5px;             padding-top: 5px; display: inline-block\"><b>Legend: </b><span style=\"display: inline-block; width: 10px; height: 10px;                 border: 1px solid; background-color:                 hsl(0, 75%, 60%)\"></span> Negative  <span style=\"display: inline-block; width: 10px; height: 10px;                 border: 1px solid; background-color:                 hsl(0, 75%, 100%)\"></span> Neutral  <span style=\"display: inline-block; width: 10px; height: 10px;                 border: 1px solid; background-color:                 hsl(120, 75%, 50%)\"></span> Positive  </div><tr><th>True Label</th><th>Predicted Label</th><th>Attribution Label</th><th>Attribution Score</th><th>Word Importance</th><tr><td><text style=\"padding-right:2em\"><b>Pos</b></text></td><td><text style=\"padding-right:2em\"><b>Pos (1.00)</b></text></td><td><text style=\"padding-right:2em\"><b>Neg</b></text></td><td><text style=\"padding-right:2em\"><b>0.26</b></text></td><td><mark style=\"background-color: hsl(0, 75%, 73%); opacity:1.0;                     line-height:1.75\"><font color=\"black\"> #s                    </font></mark><mark style=\"background-color: hsl(120, 75%, 92%); opacity:1.0;                     line-height:1.75\"><font color=\"black\"> holds                    </font></mark><mark style=\"background-color: hsl(120, 75%, 100%); opacity:1.0;                     line-height:1.75\"><font color=\"black\"> a                    </font></mark><mark style=\"background-color: hsl(0, 75%, 94%); opacity:1.0;                     line-height:1.75\"><font color=\"black\"> certain                    </font></mark><mark style=\"background-color: hsl(120, 75%, 98%); opacity:1.0;                     line-height:1.75\"><font color=\"black\"> charm                    </font></mark><mark style=\"background-color: hsl(120, 75%, 68%); opacity:1.0;                     line-height:1.75\"><font color=\"black\">                     </font></mark><mark style=\"background-color: hsl(120, 75%, 92%); opacity:1.0;                     line-height:1.75\"><font color=\"black\"> #/s                    </font></mark></td><tr></table>"
      ],
      "text/plain": [
       "<IPython.core.display.HTML object>"
      ]
     },
     "metadata": {},
     "output_type": "display_data"
    },
    {
     "name": "stdout",
     "output_type": "stream",
     "text": [
      "<IPython.core.display.HTML object>\n",
      "Raw review: the hurried , badly cobbled look \n",
      "GT target: 0\n"
     ]
    },
    {
     "data": {
      "text/html": [
       "<table width: 100%><div style=\"border-top: 1px solid; margin-top: 5px;             padding-top: 5px; display: inline-block\"><b>Legend: </b><span style=\"display: inline-block; width: 10px; height: 10px;                 border: 1px solid; background-color:                 hsl(0, 75%, 60%)\"></span> Negative  <span style=\"display: inline-block; width: 10px; height: 10px;                 border: 1px solid; background-color:                 hsl(0, 75%, 100%)\"></span> Neutral  <span style=\"display: inline-block; width: 10px; height: 10px;                 border: 1px solid; background-color:                 hsl(120, 75%, 50%)\"></span> Positive  </div><tr><th>True Label</th><th>Predicted Label</th><th>Attribution Label</th><th>Attribution Score</th><th>Word Importance</th><tr><td><text style=\"padding-right:2em\"><b>Neg</b></text></td><td><text style=\"padding-right:2em\"><b>Neg (0.00)</b></text></td><td><text style=\"padding-right:2em\"><b>Pos</b></text></td><td><text style=\"padding-right:2em\"><b>0.84</b></text></td><td><mark style=\"background-color: hsl(0, 75%, 96%); opacity:1.0;                     line-height:1.75\"><font color=\"black\"> #s                    </font></mark><mark style=\"background-color: hsl(120, 75%, 97%); opacity:1.0;                     line-height:1.75\"><font color=\"black\"> the                    </font></mark><mark style=\"background-color: hsl(120, 75%, 57%); opacity:1.0;                     line-height:1.75\"><font color=\"black\"> hurried                    </font></mark><mark style=\"background-color: hsl(120, 75%, 83%); opacity:1.0;                     line-height:1.75\"><font color=\"black\"> ,                    </font></mark><mark style=\"background-color: hsl(0, 75%, 97%); opacity:1.0;                     line-height:1.75\"><font color=\"black\"> badly                    </font></mark><mark style=\"background-color: hsl(0, 75%, 92%); opacity:1.0;                     line-height:1.75\"><font color=\"black\"> cobbled                    </font></mark><mark style=\"background-color: hsl(0, 75%, 95%); opacity:1.0;                     line-height:1.75\"><font color=\"black\"> look                    </font></mark><mark style=\"background-color: hsl(0, 75%, 96%); opacity:1.0;                     line-height:1.75\"><font color=\"black\">                     </font></mark><mark style=\"background-color: hsl(120, 75%, 96%); opacity:1.0;                     line-height:1.75\"><font color=\"black\"> #/s                    </font></mark></td><tr></table>"
      ],
      "text/plain": [
       "<IPython.core.display.HTML object>"
      ]
     },
     "metadata": {},
     "output_type": "display_data"
    },
    {
     "name": "stdout",
     "output_type": "stream",
     "text": [
      "<IPython.core.display.HTML object>\n",
      "Raw review: as a dystopian movie \n",
      "GT target: 0\n"
     ]
    },
    {
     "data": {
      "text/html": [
       "<table width: 100%><div style=\"border-top: 1px solid; margin-top: 5px;             padding-top: 5px; display: inline-block\"><b>Legend: </b><span style=\"display: inline-block; width: 10px; height: 10px;                 border: 1px solid; background-color:                 hsl(0, 75%, 60%)\"></span> Negative  <span style=\"display: inline-block; width: 10px; height: 10px;                 border: 1px solid; background-color:                 hsl(0, 75%, 100%)\"></span> Neutral  <span style=\"display: inline-block; width: 10px; height: 10px;                 border: 1px solid; background-color:                 hsl(120, 75%, 50%)\"></span> Positive  </div><tr><th>True Label</th><th>Predicted Label</th><th>Attribution Label</th><th>Attribution Score</th><th>Word Importance</th><tr><td><text style=\"padding-right:2em\"><b>Neg</b></text></td><td><text style=\"padding-right:2em\"><b>Pos (0.90)</b></text></td><td><text style=\"padding-right:2em\"><b>Neg</b></text></td><td><text style=\"padding-right:2em\"><b>0.02</b></text></td><td><mark style=\"background-color: hsl(0, 75%, 99%); opacity:1.0;                     line-height:1.75\"><font color=\"black\"> #s                    </font></mark><mark style=\"background-color: hsl(120, 75%, 96%); opacity:1.0;                     line-height:1.75\"><font color=\"black\"> as                    </font></mark><mark style=\"background-color: hsl(0, 75%, 95%); opacity:1.0;                     line-height:1.75\"><font color=\"black\"> a                    </font></mark><mark style=\"background-color: hsl(120, 75%, 60%); opacity:1.0;                     line-height:1.75\"><font color=\"black\"> dystopian                    </font></mark><mark style=\"background-color: hsl(0, 75%, 84%); opacity:1.0;                     line-height:1.75\"><font color=\"black\"> movie                    </font></mark><mark style=\"background-color: hsl(0, 75%, 86%); opacity:1.0;                     line-height:1.75\"><font color=\"black\">                     </font></mark><mark style=\"background-color: hsl(120, 75%, 98%); opacity:1.0;                     line-height:1.75\"><font color=\"black\"> #/s                    </font></mark></td><tr></table>"
      ],
      "text/plain": [
       "<IPython.core.display.HTML object>"
      ]
     },
     "metadata": {},
     "output_type": "display_data"
    },
    {
     "name": "stdout",
     "output_type": "stream",
     "text": [
      "<IPython.core.display.HTML object>\n",
      "Raw review: given up \n",
      "GT target: 0\n"
     ]
    },
    {
     "data": {
      "text/html": [
       "<table width: 100%><div style=\"border-top: 1px solid; margin-top: 5px;             padding-top: 5px; display: inline-block\"><b>Legend: </b><span style=\"display: inline-block; width: 10px; height: 10px;                 border: 1px solid; background-color:                 hsl(0, 75%, 60%)\"></span> Negative  <span style=\"display: inline-block; width: 10px; height: 10px;                 border: 1px solid; background-color:                 hsl(0, 75%, 100%)\"></span> Neutral  <span style=\"display: inline-block; width: 10px; height: 10px;                 border: 1px solid; background-color:                 hsl(120, 75%, 50%)\"></span> Positive  </div><tr><th>True Label</th><th>Predicted Label</th><th>Attribution Label</th><th>Attribution Score</th><th>Word Importance</th><tr><td><text style=\"padding-right:2em\"><b>Neg</b></text></td><td><text style=\"padding-right:2em\"><b>Neg (0.00)</b></text></td><td><text style=\"padding-right:2em\"><b>Pos</b></text></td><td><text style=\"padding-right:2em\"><b>0.58</b></text></td><td><mark style=\"background-color: hsl(0, 75%, 99%); opacity:1.0;                     line-height:1.75\"><font color=\"black\"> #s                    </font></mark><mark style=\"background-color: hsl(120, 75%, 54%); opacity:1.0;                     line-height:1.75\"><font color=\"black\"> given                    </font></mark><mark style=\"background-color: hsl(0, 75%, 87%); opacity:1.0;                     line-height:1.75\"><font color=\"black\"> up                    </font></mark><mark style=\"background-color: hsl(120, 75%, 97%); opacity:1.0;                     line-height:1.75\"><font color=\"black\">                     </font></mark><mark style=\"background-color: hsl(0, 75%, 99%); opacity:1.0;                     line-height:1.75\"><font color=\"black\"> #/s                    </font></mark></td><tr></table>"
      ],
      "text/plain": [
       "<IPython.core.display.HTML object>"
      ]
     },
     "metadata": {},
     "output_type": "display_data"
    },
    {
     "name": "stdout",
     "output_type": "stream",
     "text": [
      "<IPython.core.display.HTML object>\n",
      "Raw review: vulgarity \n",
      "GT target: 0\n"
     ]
    },
    {
     "data": {
      "text/html": [
       "<table width: 100%><div style=\"border-top: 1px solid; margin-top: 5px;             padding-top: 5px; display: inline-block\"><b>Legend: </b><span style=\"display: inline-block; width: 10px; height: 10px;                 border: 1px solid; background-color:                 hsl(0, 75%, 60%)\"></span> Negative  <span style=\"display: inline-block; width: 10px; height: 10px;                 border: 1px solid; background-color:                 hsl(0, 75%, 100%)\"></span> Neutral  <span style=\"display: inline-block; width: 10px; height: 10px;                 border: 1px solid; background-color:                 hsl(120, 75%, 50%)\"></span> Positive  </div><tr><th>True Label</th><th>Predicted Label</th><th>Attribution Label</th><th>Attribution Score</th><th>Word Importance</th><tr><td><text style=\"padding-right:2em\"><b>Neg</b></text></td><td><text style=\"padding-right:2em\"><b>Neg (0.00)</b></text></td><td><text style=\"padding-right:2em\"><b>Neg</b></text></td><td><text style=\"padding-right:2em\"><b>0.25</b></text></td><td><mark style=\"background-color: hsl(120, 75%, 95%); opacity:1.0;                     line-height:1.75\"><font color=\"black\"> #s                    </font></mark><mark style=\"background-color: hsl(120, 75%, 89%); opacity:1.0;                     line-height:1.75\"><font color=\"black\"> vulgarity                    </font></mark><mark style=\"background-color: hsl(120, 75%, 76%); opacity:1.0;                     line-height:1.75\"><font color=\"black\">                     </font></mark><mark style=\"background-color: hsl(0, 75%, 68%); opacity:1.0;                     line-height:1.75\"><font color=\"black\"> #/s                    </font></mark></td><tr></table>"
      ],
      "text/plain": [
       "<IPython.core.display.HTML object>"
      ]
     },
     "metadata": {},
     "output_type": "display_data"
    },
    {
     "name": "stdout",
     "output_type": "stream",
     "text": [
      "<IPython.core.display.HTML object>\n",
      "Raw review: walked away from this new version of e.t. just as i hoped i would -- with moist eyes . \n",
      "GT target: 1\n"
     ]
    },
    {
     "data": {
      "text/html": [
       "<table width: 100%><div style=\"border-top: 1px solid; margin-top: 5px;             padding-top: 5px; display: inline-block\"><b>Legend: </b><span style=\"display: inline-block; width: 10px; height: 10px;                 border: 1px solid; background-color:                 hsl(0, 75%, 60%)\"></span> Negative  <span style=\"display: inline-block; width: 10px; height: 10px;                 border: 1px solid; background-color:                 hsl(0, 75%, 100%)\"></span> Neutral  <span style=\"display: inline-block; width: 10px; height: 10px;                 border: 1px solid; background-color:                 hsl(120, 75%, 50%)\"></span> Positive  </div><tr><th>True Label</th><th>Predicted Label</th><th>Attribution Label</th><th>Attribution Score</th><th>Word Importance</th><tr><td><text style=\"padding-right:2em\"><b>Pos</b></text></td><td><text style=\"padding-right:2em\"><b>Neg (0.01)</b></text></td><td><text style=\"padding-right:2em\"><b>Neg</b></text></td><td><text style=\"padding-right:2em\"><b>-0.95</b></text></td><td><mark style=\"background-color: hsl(120, 75%, 99%); opacity:1.0;                     line-height:1.75\"><font color=\"black\"> #s                    </font></mark><mark style=\"background-color: hsl(0, 75%, 99%); opacity:1.0;                     line-height:1.75\"><font color=\"black\"> walked                    </font></mark><mark style=\"background-color: hsl(0, 75%, 99%); opacity:1.0;                     line-height:1.75\"><font color=\"black\"> away                    </font></mark><mark style=\"background-color: hsl(120, 75%, 94%); opacity:1.0;                     line-height:1.75\"><font color=\"black\"> from                    </font></mark><mark style=\"background-color: hsl(120, 75%, 98%); opacity:1.0;                     line-height:1.75\"><font color=\"black\"> this                    </font></mark><mark style=\"background-color: hsl(120, 75%, 98%); opacity:1.0;                     line-height:1.75\"><font color=\"black\"> new                    </font></mark><mark style=\"background-color: hsl(0, 75%, 97%); opacity:1.0;                     line-height:1.75\"><font color=\"black\"> version                    </font></mark><mark style=\"background-color: hsl(0, 75%, 97%); opacity:1.0;                     line-height:1.75\"><font color=\"black\"> of                    </font></mark><mark style=\"background-color: hsl(120, 75%, 100%); opacity:1.0;                     line-height:1.75\"><font color=\"black\"> e.t.                    </font></mark><mark style=\"background-color: hsl(120, 75%, 93%); opacity:1.0;                     line-height:1.75\"><font color=\"black\"> just                    </font></mark><mark style=\"background-color: hsl(120, 75%, 98%); opacity:1.0;                     line-height:1.75\"><font color=\"black\"> as                    </font></mark><mark style=\"background-color: hsl(120, 75%, 100%); opacity:1.0;                     line-height:1.75\"><font color=\"black\"> i                    </font></mark><mark style=\"background-color: hsl(120, 75%, 98%); opacity:1.0;                     line-height:1.75\"><font color=\"black\"> hoped                    </font></mark><mark style=\"background-color: hsl(120, 75%, 100%); opacity:1.0;                     line-height:1.75\"><font color=\"black\"> i                    </font></mark><mark style=\"background-color: hsl(120, 75%, 96%); opacity:1.0;                     line-height:1.75\"><font color=\"black\"> would                    </font></mark><mark style=\"background-color: hsl(0, 75%, 98%); opacity:1.0;                     line-height:1.75\"><font color=\"black\"> --                    </font></mark><mark style=\"background-color: hsl(120, 75%, 99%); opacity:1.0;                     line-height:1.75\"><font color=\"black\"> with                    </font></mark><mark style=\"background-color: hsl(0, 75%, 98%); opacity:1.0;                     line-height:1.75\"><font color=\"black\"> moist                    </font></mark><mark style=\"background-color: hsl(120, 75%, 98%); opacity:1.0;                     line-height:1.75\"><font color=\"black\"> eyes                    </font></mark><mark style=\"background-color: hsl(0, 75%, 92%); opacity:1.0;                     line-height:1.75\"><font color=\"black\"> .                    </font></mark><mark style=\"background-color: hsl(120, 75%, 99%); opacity:1.0;                     line-height:1.75\"><font color=\"black\">                     </font></mark><mark style=\"background-color: hsl(0, 75%, 67%); opacity:1.0;                     line-height:1.75\"><font color=\"black\"> #/s                    </font></mark></td><tr></table>"
      ],
      "text/plain": [
       "<IPython.core.display.HTML object>"
      ]
     },
     "metadata": {},
     "output_type": "display_data"
    },
    {
     "name": "stdout",
     "output_type": "stream",
     "text": [
      "<IPython.core.display.HTML object>\n",
      "Raw review: languishing \n",
      "GT target: 0\n"
     ]
    },
    {
     "data": {
      "text/html": [
       "<table width: 100%><div style=\"border-top: 1px solid; margin-top: 5px;             padding-top: 5px; display: inline-block\"><b>Legend: </b><span style=\"display: inline-block; width: 10px; height: 10px;                 border: 1px solid; background-color:                 hsl(0, 75%, 60%)\"></span> Negative  <span style=\"display: inline-block; width: 10px; height: 10px;                 border: 1px solid; background-color:                 hsl(0, 75%, 100%)\"></span> Neutral  <span style=\"display: inline-block; width: 10px; height: 10px;                 border: 1px solid; background-color:                 hsl(120, 75%, 50%)\"></span> Positive  </div><tr><th>True Label</th><th>Predicted Label</th><th>Attribution Label</th><th>Attribution Score</th><th>Word Importance</th><tr><td><text style=\"padding-right:2em\"><b>Neg</b></text></td><td><text style=\"padding-right:2em\"><b>Neg (0.00)</b></text></td><td><text style=\"padding-right:2em\"><b>Neg</b></text></td><td><text style=\"padding-right:2em\"><b>-0.31</b></text></td><td><mark style=\"background-color: hsl(120, 75%, 68%); opacity:1.0;                     line-height:1.75\"><font color=\"black\"> #s                    </font></mark><mark style=\"background-color: hsl(0, 75%, 91%); opacity:1.0;                     line-height:1.75\"><font color=\"black\"> languishing                    </font></mark><mark style=\"background-color: hsl(0, 75%, 93%); opacity:1.0;                     line-height:1.75\"><font color=\"black\">                     </font></mark><mark style=\"background-color: hsl(0, 75%, 100%); opacity:1.0;                     line-height:1.75\"><font color=\"black\"> #/s                    </font></mark></td><tr></table>"
      ],
      "text/plain": [
       "<IPython.core.display.HTML object>"
      ]
     },
     "metadata": {},
     "output_type": "display_data"
    },
    {
     "name": "stdout",
     "output_type": "stream",
     "text": [
      "<IPython.core.display.HTML object>\n",
      "Raw review: brings a youthful , out-to-change-the-world aggressiveness to the project , as if she 's cut open a vein and \n",
      "GT target: 1\n"
     ]
    },
    {
     "data": {
      "text/html": [
       "<table width: 100%><div style=\"border-top: 1px solid; margin-top: 5px;             padding-top: 5px; display: inline-block\"><b>Legend: </b><span style=\"display: inline-block; width: 10px; height: 10px;                 border: 1px solid; background-color:                 hsl(0, 75%, 60%)\"></span> Negative  <span style=\"display: inline-block; width: 10px; height: 10px;                 border: 1px solid; background-color:                 hsl(0, 75%, 100%)\"></span> Neutral  <span style=\"display: inline-block; width: 10px; height: 10px;                 border: 1px solid; background-color:                 hsl(120, 75%, 50%)\"></span> Positive  </div><tr><th>True Label</th><th>Predicted Label</th><th>Attribution Label</th><th>Attribution Score</th><th>Word Importance</th><tr><td><text style=\"padding-right:2em\"><b>Pos</b></text></td><td><text style=\"padding-right:2em\"><b>Pos (1.00)</b></text></td><td><text style=\"padding-right:2em\"><b>Neg</b></text></td><td><text style=\"padding-right:2em\"><b>0.33</b></text></td><td><mark style=\"background-color: hsl(0, 75%, 84%); opacity:1.0;                     line-height:1.75\"><font color=\"black\"> #s                    </font></mark><mark style=\"background-color: hsl(0, 75%, 100%); opacity:1.0;                     line-height:1.75\"><font color=\"black\"> brings                    </font></mark><mark style=\"background-color: hsl(120, 75%, 100%); opacity:1.0;                     line-height:1.75\"><font color=\"black\"> a                    </font></mark><mark style=\"background-color: hsl(120, 75%, 96%); opacity:1.0;                     line-height:1.75\"><font color=\"black\"> youthful                    </font></mark><mark style=\"background-color: hsl(120, 75%, 85%); opacity:1.0;                     line-height:1.75\"><font color=\"black\"> ,                    </font></mark><mark style=\"background-color: hsl(120, 75%, 99%); opacity:1.0;                     line-height:1.75\"><font color=\"black\"> out-to-change-the-world                    </font></mark><mark style=\"background-color: hsl(120, 75%, 95%); opacity:1.0;                     line-height:1.75\"><font color=\"black\"> aggressiveness                    </font></mark><mark style=\"background-color: hsl(0, 75%, 99%); opacity:1.0;                     line-height:1.75\"><font color=\"black\"> to                    </font></mark><mark style=\"background-color: hsl(0, 75%, 100%); opacity:1.0;                     line-height:1.75\"><font color=\"black\"> the                    </font></mark><mark style=\"background-color: hsl(0, 75%, 99%); opacity:1.0;                     line-height:1.75\"><font color=\"black\"> project                    </font></mark><mark style=\"background-color: hsl(120, 75%, 78%); opacity:1.0;                     line-height:1.75\"><font color=\"black\"> ,                    </font></mark><mark style=\"background-color: hsl(0, 75%, 97%); opacity:1.0;                     line-height:1.75\"><font color=\"black\"> as                    </font></mark><mark style=\"background-color: hsl(0, 75%, 98%); opacity:1.0;                     line-height:1.75\"><font color=\"black\"> if                    </font></mark><mark style=\"background-color: hsl(0, 75%, 97%); opacity:1.0;                     line-height:1.75\"><font color=\"black\"> she                    </font></mark><mark style=\"background-color: hsl(120, 75%, 97%); opacity:1.0;                     line-height:1.75\"><font color=\"black\"> 's                    </font></mark><mark style=\"background-color: hsl(0, 75%, 81%); opacity:1.0;                     line-height:1.75\"><font color=\"black\"> cut                    </font></mark><mark style=\"background-color: hsl(120, 75%, 96%); opacity:1.0;                     line-height:1.75\"><font color=\"black\"> open                    </font></mark><mark style=\"background-color: hsl(120, 75%, 98%); opacity:1.0;                     line-height:1.75\"><font color=\"black\"> a                    </font></mark><mark style=\"background-color: hsl(120, 75%, 100%); opacity:1.0;                     line-height:1.75\"><font color=\"black\"> vein                    </font></mark><mark style=\"background-color: hsl(0, 75%, 89%); opacity:1.0;                     line-height:1.75\"><font color=\"black\"> and                    </font></mark><mark style=\"background-color: hsl(0, 75%, 97%); opacity:1.0;                     line-height:1.75\"><font color=\"black\">                     </font></mark><mark style=\"background-color: hsl(120, 75%, 97%); opacity:1.0;                     line-height:1.75\"><font color=\"black\"> #/s                    </font></mark></td><tr></table>"
      ],
      "text/plain": [
       "<IPython.core.display.HTML object>"
      ]
     },
     "metadata": {},
     "output_type": "display_data"
    },
    {
     "name": "stdout",
     "output_type": "stream",
     "text": [
      "<IPython.core.display.HTML object>\n",
      "Raw review: i heard a mysterious voice , and felt myself powerfully drawn toward the light -- the light of the exit sign \n",
      "GT target: 0\n"
     ]
    },
    {
     "data": {
      "text/html": [
       "<table width: 100%><div style=\"border-top: 1px solid; margin-top: 5px;             padding-top: 5px; display: inline-block\"><b>Legend: </b><span style=\"display: inline-block; width: 10px; height: 10px;                 border: 1px solid; background-color:                 hsl(0, 75%, 60%)\"></span> Negative  <span style=\"display: inline-block; width: 10px; height: 10px;                 border: 1px solid; background-color:                 hsl(0, 75%, 100%)\"></span> Neutral  <span style=\"display: inline-block; width: 10px; height: 10px;                 border: 1px solid; background-color:                 hsl(120, 75%, 50%)\"></span> Positive  </div><tr><th>True Label</th><th>Predicted Label</th><th>Attribution Label</th><th>Attribution Score</th><th>Word Importance</th><tr><td><text style=\"padding-right:2em\"><b>Neg</b></text></td><td><text style=\"padding-right:2em\"><b>Pos (1.00)</b></text></td><td><text style=\"padding-right:2em\"><b>Neg</b></text></td><td><text style=\"padding-right:2em\"><b>-0.32</b></text></td><td><mark style=\"background-color: hsl(0, 75%, 98%); opacity:1.0;                     line-height:1.75\"><font color=\"black\"> #s                    </font></mark><mark style=\"background-color: hsl(120, 75%, 99%); opacity:1.0;                     line-height:1.75\"><font color=\"black\"> i                    </font></mark><mark style=\"background-color: hsl(0, 75%, 90%); opacity:1.0;                     line-height:1.75\"><font color=\"black\"> heard                    </font></mark><mark style=\"background-color: hsl(0, 75%, 99%); opacity:1.0;                     line-height:1.75\"><font color=\"black\"> a                    </font></mark><mark style=\"background-color: hsl(120, 75%, 91%); opacity:1.0;                     line-height:1.75\"><font color=\"black\"> mysterious                    </font></mark><mark style=\"background-color: hsl(0, 75%, 95%); opacity:1.0;                     line-height:1.75\"><font color=\"black\"> voice                    </font></mark><mark style=\"background-color: hsl(0, 75%, 87%); opacity:1.0;                     line-height:1.75\"><font color=\"black\"> ,                    </font></mark><mark style=\"background-color: hsl(0, 75%, 96%); opacity:1.0;                     line-height:1.75\"><font color=\"black\"> and                    </font></mark><mark style=\"background-color: hsl(120, 75%, 84%); opacity:1.0;                     line-height:1.75\"><font color=\"black\"> felt                    </font></mark><mark style=\"background-color: hsl(0, 75%, 96%); opacity:1.0;                     line-height:1.75\"><font color=\"black\"> myself                    </font></mark><mark style=\"background-color: hsl(120, 75%, 99%); opacity:1.0;                     line-height:1.75\"><font color=\"black\"> powerfully                    </font></mark><mark style=\"background-color: hsl(0, 75%, 95%); opacity:1.0;                     line-height:1.75\"><font color=\"black\"> drawn                    </font></mark><mark style=\"background-color: hsl(0, 75%, 99%); opacity:1.0;                     line-height:1.75\"><font color=\"black\"> toward                    </font></mark><mark style=\"background-color: hsl(0, 75%, 98%); opacity:1.0;                     line-height:1.75\"><font color=\"black\"> the                    </font></mark><mark style=\"background-color: hsl(0, 75%, 96%); opacity:1.0;                     line-height:1.75\"><font color=\"black\"> light                    </font></mark><mark style=\"background-color: hsl(120, 75%, 95%); opacity:1.0;                     line-height:1.75\"><font color=\"black\"> --                    </font></mark><mark style=\"background-color: hsl(0, 75%, 96%); opacity:1.0;                     line-height:1.75\"><font color=\"black\"> the                    </font></mark><mark style=\"background-color: hsl(0, 75%, 96%); opacity:1.0;                     line-height:1.75\"><font color=\"black\"> light                    </font></mark><mark style=\"background-color: hsl(0, 75%, 97%); opacity:1.0;                     line-height:1.75\"><font color=\"black\"> of                    </font></mark><mark style=\"background-color: hsl(0, 75%, 100%); opacity:1.0;                     line-height:1.75\"><font color=\"black\"> the                    </font></mark><mark style=\"background-color: hsl(120, 75%, 65%); opacity:1.0;                     line-height:1.75\"><font color=\"black\"> exit                    </font></mark><mark style=\"background-color: hsl(120, 75%, 97%); opacity:1.0;                     line-height:1.75\"><font color=\"black\"> sign                    </font></mark><mark style=\"background-color: hsl(0, 75%, 94%); opacity:1.0;                     line-height:1.75\"><font color=\"black\">                     </font></mark><mark style=\"background-color: hsl(120, 75%, 94%); opacity:1.0;                     line-height:1.75\"><font color=\"black\"> #/s                    </font></mark></td><tr></table>"
      ],
      "text/plain": [
       "<IPython.core.display.HTML object>"
      ]
     },
     "metadata": {},
     "output_type": "display_data"
    },
    {
     "name": "stdout",
     "output_type": "stream",
     "text": [
      "<IPython.core.display.HTML object>\n",
      "Raw review: no amount of burning , blasting , stabbing , and shooting \n",
      "GT target: 0\n"
     ]
    },
    {
     "data": {
      "text/html": [
       "<table width: 100%><div style=\"border-top: 1px solid; margin-top: 5px;             padding-top: 5px; display: inline-block\"><b>Legend: </b><span style=\"display: inline-block; width: 10px; height: 10px;                 border: 1px solid; background-color:                 hsl(0, 75%, 60%)\"></span> Negative  <span style=\"display: inline-block; width: 10px; height: 10px;                 border: 1px solid; background-color:                 hsl(0, 75%, 100%)\"></span> Neutral  <span style=\"display: inline-block; width: 10px; height: 10px;                 border: 1px solid; background-color:                 hsl(120, 75%, 50%)\"></span> Positive  </div><tr><th>True Label</th><th>Predicted Label</th><th>Attribution Label</th><th>Attribution Score</th><th>Word Importance</th><tr><td><text style=\"padding-right:2em\"><b>Neg</b></text></td><td><text style=\"padding-right:2em\"><b>Neg (0.00)</b></text></td><td><text style=\"padding-right:2em\"><b>Neg</b></text></td><td><text style=\"padding-right:2em\"><b>-0.93</b></text></td><td><mark style=\"background-color: hsl(120, 75%, 73%); opacity:1.0;                     line-height:1.75\"><font color=\"black\"> #s                    </font></mark><mark style=\"background-color: hsl(120, 75%, 89%); opacity:1.0;                     line-height:1.75\"><font color=\"black\"> no                    </font></mark><mark style=\"background-color: hsl(0, 75%, 88%); opacity:1.0;                     line-height:1.75\"><font color=\"black\"> amount                    </font></mark><mark style=\"background-color: hsl(0, 75%, 94%); opacity:1.0;                     line-height:1.75\"><font color=\"black\"> of                    </font></mark><mark style=\"background-color: hsl(0, 75%, 75%); opacity:1.0;                     line-height:1.75\"><font color=\"black\"> burning                    </font></mark><mark style=\"background-color: hsl(0, 75%, 99%); opacity:1.0;                     line-height:1.75\"><font color=\"black\"> ,                    </font></mark><mark style=\"background-color: hsl(0, 75%, 93%); opacity:1.0;                     line-height:1.75\"><font color=\"black\"> blasting                    </font></mark><mark style=\"background-color: hsl(0, 75%, 97%); opacity:1.0;                     line-height:1.75\"><font color=\"black\"> ,                    </font></mark><mark style=\"background-color: hsl(0, 75%, 92%); opacity:1.0;                     line-height:1.75\"><font color=\"black\"> stabbing                    </font></mark><mark style=\"background-color: hsl(120, 75%, 100%); opacity:1.0;                     line-height:1.75\"><font color=\"black\"> ,                    </font></mark><mark style=\"background-color: hsl(0, 75%, 98%); opacity:1.0;                     line-height:1.75\"><font color=\"black\"> and                    </font></mark><mark style=\"background-color: hsl(0, 75%, 98%); opacity:1.0;                     line-height:1.75\"><font color=\"black\"> shooting                    </font></mark><mark style=\"background-color: hsl(120, 75%, 97%); opacity:1.0;                     line-height:1.75\"><font color=\"black\">                     </font></mark><mark style=\"background-color: hsl(0, 75%, 100%); opacity:1.0;                     line-height:1.75\"><font color=\"black\"> #/s                    </font></mark></td><tr></table>"
      ],
      "text/plain": [
       "<IPython.core.display.HTML object>"
      ]
     },
     "metadata": {},
     "output_type": "display_data"
    },
    {
     "name": "stdout",
     "output_type": "stream",
     "text": [
      "<IPython.core.display.HTML object>\n",
      "Raw review: 's never too late to learn \n",
      "GT target: 1\n"
     ]
    },
    {
     "data": {
      "text/html": [
       "<table width: 100%><div style=\"border-top: 1px solid; margin-top: 5px;             padding-top: 5px; display: inline-block\"><b>Legend: </b><span style=\"display: inline-block; width: 10px; height: 10px;                 border: 1px solid; background-color:                 hsl(0, 75%, 60%)\"></span> Negative  <span style=\"display: inline-block; width: 10px; height: 10px;                 border: 1px solid; background-color:                 hsl(0, 75%, 100%)\"></span> Neutral  <span style=\"display: inline-block; width: 10px; height: 10px;                 border: 1px solid; background-color:                 hsl(120, 75%, 50%)\"></span> Positive  </div><tr><th>True Label</th><th>Predicted Label</th><th>Attribution Label</th><th>Attribution Score</th><th>Word Importance</th><tr><td><text style=\"padding-right:2em\"><b>Pos</b></text></td><td><text style=\"padding-right:2em\"><b>Pos (0.99)</b></text></td><td><text style=\"padding-right:2em\"><b>Neg</b></text></td><td><text style=\"padding-right:2em\"><b>-0.31</b></text></td><td><mark style=\"background-color: hsl(120, 75%, 77%); opacity:1.0;                     line-height:1.75\"><font color=\"black\"> #s                    </font></mark><mark style=\"background-color: hsl(0, 75%, 98%); opacity:1.0;                     line-height:1.75\"><font color=\"black\"> 's                    </font></mark><mark style=\"background-color: hsl(0, 75%, 84%); opacity:1.0;                     line-height:1.75\"><font color=\"black\"> never                    </font></mark><mark style=\"background-color: hsl(120, 75%, 94%); opacity:1.0;                     line-height:1.75\"><font color=\"black\"> too                    </font></mark><mark style=\"background-color: hsl(0, 75%, 82%); opacity:1.0;                     line-height:1.75\"><font color=\"black\"> late                    </font></mark><mark style=\"background-color: hsl(0, 75%, 95%); opacity:1.0;                     line-height:1.75\"><font color=\"black\"> to                    </font></mark><mark style=\"background-color: hsl(120, 75%, 78%); opacity:1.0;                     line-height:1.75\"><font color=\"black\"> learn                    </font></mark><mark style=\"background-color: hsl(0, 75%, 85%); opacity:1.0;                     line-height:1.75\"><font color=\"black\">                     </font></mark><mark style=\"background-color: hsl(120, 75%, 97%); opacity:1.0;                     line-height:1.75\"><font color=\"black\"> #/s                    </font></mark></td><tr></table>"
      ],
      "text/plain": [
       "<IPython.core.display.HTML object>"
      ]
     },
     "metadata": {},
     "output_type": "display_data"
    },
    {
     "name": "stdout",
     "output_type": "stream",
     "text": [
      "<IPython.core.display.HTML object>\n",
      "Raw review: stirs us \n",
      "GT target: 1\n"
     ]
    },
    {
     "data": {
      "text/html": [
       "<table width: 100%><div style=\"border-top: 1px solid; margin-top: 5px;             padding-top: 5px; display: inline-block\"><b>Legend: </b><span style=\"display: inline-block; width: 10px; height: 10px;                 border: 1px solid; background-color:                 hsl(0, 75%, 60%)\"></span> Negative  <span style=\"display: inline-block; width: 10px; height: 10px;                 border: 1px solid; background-color:                 hsl(0, 75%, 100%)\"></span> Neutral  <span style=\"display: inline-block; width: 10px; height: 10px;                 border: 1px solid; background-color:                 hsl(120, 75%, 50%)\"></span> Positive  </div><tr><th>True Label</th><th>Predicted Label</th><th>Attribution Label</th><th>Attribution Score</th><th>Word Importance</th><tr><td><text style=\"padding-right:2em\"><b>Pos</b></text></td><td><text style=\"padding-right:2em\"><b>Pos (1.00)</b></text></td><td><text style=\"padding-right:2em\"><b>Neg</b></text></td><td><text style=\"padding-right:2em\"><b>-0.38</b></text></td><td><mark style=\"background-color: hsl(0, 75%, 91%); opacity:1.0;                     line-height:1.75\"><font color=\"black\"> #s                    </font></mark><mark style=\"background-color: hsl(0, 75%, 97%); opacity:1.0;                     line-height:1.75\"><font color=\"black\"> stirs                    </font></mark><mark style=\"background-color: hsl(0, 75%, 91%); opacity:1.0;                     line-height:1.75\"><font color=\"black\"> us                    </font></mark><mark style=\"background-color: hsl(120, 75%, 60%); opacity:1.0;                     line-height:1.75\"><font color=\"black\">                     </font></mark><mark style=\"background-color: hsl(0, 75%, 83%); opacity:1.0;                     line-height:1.75\"><font color=\"black\"> #/s                    </font></mark></td><tr></table>"
      ],
      "text/plain": [
       "<IPython.core.display.HTML object>"
      ]
     },
     "metadata": {},
     "output_type": "display_data"
    },
    {
     "name": "stdout",
     "output_type": "stream",
     "text": [
      "<IPython.core.display.HTML object>\n",
      "Raw review: 's notably better acted -- and far less crass - than some other recent efforts in the burgeoning genre of films about black urban professionals \n",
      "GT target: 1\n"
     ]
    },
    {
     "data": {
      "text/html": [
       "<table width: 100%><div style=\"border-top: 1px solid; margin-top: 5px;             padding-top: 5px; display: inline-block\"><b>Legend: </b><span style=\"display: inline-block; width: 10px; height: 10px;                 border: 1px solid; background-color:                 hsl(0, 75%, 60%)\"></span> Negative  <span style=\"display: inline-block; width: 10px; height: 10px;                 border: 1px solid; background-color:                 hsl(0, 75%, 100%)\"></span> Neutral  <span style=\"display: inline-block; width: 10px; height: 10px;                 border: 1px solid; background-color:                 hsl(120, 75%, 50%)\"></span> Positive  </div><tr><th>True Label</th><th>Predicted Label</th><th>Attribution Label</th><th>Attribution Score</th><th>Word Importance</th><tr><td><text style=\"padding-right:2em\"><b>Pos</b></text></td><td><text style=\"padding-right:2em\"><b>Pos (1.00)</b></text></td><td><text style=\"padding-right:2em\"><b>Neg</b></text></td><td><text style=\"padding-right:2em\"><b>-0.98</b></text></td><td><mark style=\"background-color: hsl(0, 75%, 95%); opacity:1.0;                     line-height:1.75\"><font color=\"black\"> #s                    </font></mark><mark style=\"background-color: hsl(0, 75%, 92%); opacity:1.0;                     line-height:1.75\"><font color=\"black\"> 's                    </font></mark><mark style=\"background-color: hsl(0, 75%, 89%); opacity:1.0;                     line-height:1.75\"><font color=\"black\"> notably                    </font></mark><mark style=\"background-color: hsl(120, 75%, 86%); opacity:1.0;                     line-height:1.75\"><font color=\"black\"> better                    </font></mark><mark style=\"background-color: hsl(120, 75%, 91%); opacity:1.0;                     line-height:1.75\"><font color=\"black\"> acted                    </font></mark><mark style=\"background-color: hsl(120, 75%, 98%); opacity:1.0;                     line-height:1.75\"><font color=\"black\"> --                    </font></mark><mark style=\"background-color: hsl(120, 75%, 96%); opacity:1.0;                     line-height:1.75\"><font color=\"black\"> and                    </font></mark><mark style=\"background-color: hsl(0, 75%, 100%); opacity:1.0;                     line-height:1.75\"><font color=\"black\"> far                    </font></mark><mark style=\"background-color: hsl(120, 75%, 87%); opacity:1.0;                     line-height:1.75\"><font color=\"black\"> less                    </font></mark><mark style=\"background-color: hsl(120, 75%, 95%); opacity:1.0;                     line-height:1.75\"><font color=\"black\"> crass                    </font></mark><mark style=\"background-color: hsl(0, 75%, 85%); opacity:1.0;                     line-height:1.75\"><font color=\"black\"> -                    </font></mark><mark style=\"background-color: hsl(120, 75%, 91%); opacity:1.0;                     line-height:1.75\"><font color=\"black\"> than                    </font></mark><mark style=\"background-color: hsl(0, 75%, 100%); opacity:1.0;                     line-height:1.75\"><font color=\"black\"> some                    </font></mark><mark style=\"background-color: hsl(0, 75%, 96%); opacity:1.0;                     line-height:1.75\"><font color=\"black\"> other                    </font></mark><mark style=\"background-color: hsl(120, 75%, 94%); opacity:1.0;                     line-height:1.75\"><font color=\"black\"> recent                    </font></mark><mark style=\"background-color: hsl(0, 75%, 97%); opacity:1.0;                     line-height:1.75\"><font color=\"black\"> efforts                    </font></mark><mark style=\"background-color: hsl(0, 75%, 95%); opacity:1.0;                     line-height:1.75\"><font color=\"black\"> in                    </font></mark><mark style=\"background-color: hsl(120, 75%, 100%); opacity:1.0;                     line-height:1.75\"><font color=\"black\"> the                    </font></mark><mark style=\"background-color: hsl(120, 75%, 99%); opacity:1.0;                     line-height:1.75\"><font color=\"black\"> burgeoning                    </font></mark><mark style=\"background-color: hsl(120, 75%, 93%); opacity:1.0;                     line-height:1.75\"><font color=\"black\"> genre                    </font></mark><mark style=\"background-color: hsl(0, 75%, 95%); opacity:1.0;                     line-height:1.75\"><font color=\"black\"> of                    </font></mark><mark style=\"background-color: hsl(0, 75%, 99%); opacity:1.0;                     line-height:1.75\"><font color=\"black\"> films                    </font></mark><mark style=\"background-color: hsl(0, 75%, 93%); opacity:1.0;                     line-height:1.75\"><font color=\"black\"> about                    </font></mark><mark style=\"background-color: hsl(0, 75%, 97%); opacity:1.0;                     line-height:1.75\"><font color=\"black\"> black                    </font></mark><mark style=\"background-color: hsl(0, 75%, 92%); opacity:1.0;                     line-height:1.75\"><font color=\"black\"> urban                    </font></mark><mark style=\"background-color: hsl(0, 75%, 97%); opacity:1.0;                     line-height:1.75\"><font color=\"black\"> professionals                    </font></mark><mark style=\"background-color: hsl(0, 75%, 81%); opacity:1.0;                     line-height:1.75\"><font color=\"black\">                     </font></mark><mark style=\"background-color: hsl(120, 75%, 97%); opacity:1.0;                     line-height:1.75\"><font color=\"black\"> #/s                    </font></mark></td><tr></table>"
      ],
      "text/plain": [
       "<IPython.core.display.HTML object>"
      ]
     },
     "metadata": {},
     "output_type": "display_data"
    },
    {
     "name": "stdout",
     "output_type": "stream",
     "text": [
      "<IPython.core.display.HTML object>\n",
      "Raw review: is an inspirational love story , capturing the innocence and idealism of that first encounter \n",
      "GT target: 1\n"
     ]
    },
    {
     "data": {
      "text/html": [
       "<table width: 100%><div style=\"border-top: 1px solid; margin-top: 5px;             padding-top: 5px; display: inline-block\"><b>Legend: </b><span style=\"display: inline-block; width: 10px; height: 10px;                 border: 1px solid; background-color:                 hsl(0, 75%, 60%)\"></span> Negative  <span style=\"display: inline-block; width: 10px; height: 10px;                 border: 1px solid; background-color:                 hsl(0, 75%, 100%)\"></span> Neutral  <span style=\"display: inline-block; width: 10px; height: 10px;                 border: 1px solid; background-color:                 hsl(120, 75%, 50%)\"></span> Positive  </div><tr><th>True Label</th><th>Predicted Label</th><th>Attribution Label</th><th>Attribution Score</th><th>Word Importance</th><tr><td><text style=\"padding-right:2em\"><b>Pos</b></text></td><td><text style=\"padding-right:2em\"><b>Pos (1.00)</b></text></td><td><text style=\"padding-right:2em\"><b>Neg</b></text></td><td><text style=\"padding-right:2em\"><b>-1.44</b></text></td><td><mark style=\"background-color: hsl(120, 75%, 96%); opacity:1.0;                     line-height:1.75\"><font color=\"black\"> #s                    </font></mark><mark style=\"background-color: hsl(120, 75%, 99%); opacity:1.0;                     line-height:1.75\"><font color=\"black\"> is                    </font></mark><mark style=\"background-color: hsl(0, 75%, 96%); opacity:1.0;                     line-height:1.75\"><font color=\"black\"> an                    </font></mark><mark style=\"background-color: hsl(0, 75%, 83%); opacity:1.0;                     line-height:1.75\"><font color=\"black\"> inspirational                    </font></mark><mark style=\"background-color: hsl(120, 75%, 89%); opacity:1.0;                     line-height:1.75\"><font color=\"black\"> love                    </font></mark><mark style=\"background-color: hsl(0, 75%, 100%); opacity:1.0;                     line-height:1.75\"><font color=\"black\"> story                    </font></mark><mark style=\"background-color: hsl(0, 75%, 82%); opacity:1.0;                     line-height:1.75\"><font color=\"black\"> ,                    </font></mark><mark style=\"background-color: hsl(0, 75%, 97%); opacity:1.0;                     line-height:1.75\"><font color=\"black\"> capturing                    </font></mark><mark style=\"background-color: hsl(0, 75%, 100%); opacity:1.0;                     line-height:1.75\"><font color=\"black\"> the                    </font></mark><mark style=\"background-color: hsl(0, 75%, 82%); opacity:1.0;                     line-height:1.75\"><font color=\"black\"> innocence                    </font></mark><mark style=\"background-color: hsl(0, 75%, 95%); opacity:1.0;                     line-height:1.75\"><font color=\"black\"> and                    </font></mark><mark style=\"background-color: hsl(0, 75%, 88%); opacity:1.0;                     line-height:1.75\"><font color=\"black\"> idealism                    </font></mark><mark style=\"background-color: hsl(0, 75%, 91%); opacity:1.0;                     line-height:1.75\"><font color=\"black\"> of                    </font></mark><mark style=\"background-color: hsl(0, 75%, 99%); opacity:1.0;                     line-height:1.75\"><font color=\"black\"> that                    </font></mark><mark style=\"background-color: hsl(120, 75%, 95%); opacity:1.0;                     line-height:1.75\"><font color=\"black\"> first                    </font></mark><mark style=\"background-color: hsl(120, 75%, 98%); opacity:1.0;                     line-height:1.75\"><font color=\"black\"> encounter                    </font></mark><mark style=\"background-color: hsl(120, 75%, 100%); opacity:1.0;                     line-height:1.75\"><font color=\"black\">                     </font></mark><mark style=\"background-color: hsl(120, 75%, 88%); opacity:1.0;                     line-height:1.75\"><font color=\"black\"> #/s                    </font></mark></td><tr></table>"
      ],
      "text/plain": [
       "<IPython.core.display.HTML object>"
      ]
     },
     "metadata": {},
     "output_type": "display_data"
    },
    {
     "name": "stdout",
     "output_type": "stream",
     "text": [
      "<IPython.core.display.HTML object>\n",
      "Raw review: sharp comedy , old-fashioned monster movie atmospherics , \n",
      "GT target: 1\n"
     ]
    },
    {
     "data": {
      "text/html": [
       "<table width: 100%><div style=\"border-top: 1px solid; margin-top: 5px;             padding-top: 5px; display: inline-block\"><b>Legend: </b><span style=\"display: inline-block; width: 10px; height: 10px;                 border: 1px solid; background-color:                 hsl(0, 75%, 60%)\"></span> Negative  <span style=\"display: inline-block; width: 10px; height: 10px;                 border: 1px solid; background-color:                 hsl(0, 75%, 100%)\"></span> Neutral  <span style=\"display: inline-block; width: 10px; height: 10px;                 border: 1px solid; background-color:                 hsl(120, 75%, 50%)\"></span> Positive  </div><tr><th>True Label</th><th>Predicted Label</th><th>Attribution Label</th><th>Attribution Score</th><th>Word Importance</th><tr><td><text style=\"padding-right:2em\"><b>Pos</b></text></td><td><text style=\"padding-right:2em\"><b>Pos (1.00)</b></text></td><td><text style=\"padding-right:2em\"><b>Neg</b></text></td><td><text style=\"padding-right:2em\"><b>-0.89</b></text></td><td><mark style=\"background-color: hsl(0, 75%, 92%); opacity:1.0;                     line-height:1.75\"><font color=\"black\"> #s                    </font></mark><mark style=\"background-color: hsl(0, 75%, 93%); opacity:1.0;                     line-height:1.75\"><font color=\"black\"> sharp                    </font></mark><mark style=\"background-color: hsl(0, 75%, 78%); opacity:1.0;                     line-height:1.75\"><font color=\"black\"> comedy                    </font></mark><mark style=\"background-color: hsl(0, 75%, 91%); opacity:1.0;                     line-height:1.75\"><font color=\"black\"> ,                    </font></mark><mark style=\"background-color: hsl(120, 75%, 100%); opacity:1.0;                     line-height:1.75\"><font color=\"black\"> old-fashioned                    </font></mark><mark style=\"background-color: hsl(120, 75%, 94%); opacity:1.0;                     line-height:1.75\"><font color=\"black\"> monster                    </font></mark><mark style=\"background-color: hsl(120, 75%, 95%); opacity:1.0;                     line-height:1.75\"><font color=\"black\"> movie                    </font></mark><mark style=\"background-color: hsl(120, 75%, 82%); opacity:1.0;                     line-height:1.75\"><font color=\"black\"> atmospherics                    </font></mark><mark style=\"background-color: hsl(0, 75%, 84%); opacity:1.0;                     line-height:1.75\"><font color=\"black\"> ,                    </font></mark><mark style=\"background-color: hsl(120, 75%, 83%); opacity:1.0;                     line-height:1.75\"><font color=\"black\">                     </font></mark><mark style=\"background-color: hsl(0, 75%, 99%); opacity:1.0;                     line-height:1.75\"><font color=\"black\"> #/s                    </font></mark></td><tr></table>"
      ],
      "text/plain": [
       "<IPython.core.display.HTML object>"
      ]
     },
     "metadata": {},
     "output_type": "display_data"
    },
    {
     "name": "stdout",
     "output_type": "stream",
     "text": [
      "<IPython.core.display.HTML object>\n",
      "Raw review: a no-bull throwback to 1970s action films \n",
      "GT target: 1\n"
     ]
    },
    {
     "data": {
      "text/html": [
       "<table width: 100%><div style=\"border-top: 1px solid; margin-top: 5px;             padding-top: 5px; display: inline-block\"><b>Legend: </b><span style=\"display: inline-block; width: 10px; height: 10px;                 border: 1px solid; background-color:                 hsl(0, 75%, 60%)\"></span> Negative  <span style=\"display: inline-block; width: 10px; height: 10px;                 border: 1px solid; background-color:                 hsl(0, 75%, 100%)\"></span> Neutral  <span style=\"display: inline-block; width: 10px; height: 10px;                 border: 1px solid; background-color:                 hsl(120, 75%, 50%)\"></span> Positive  </div><tr><th>True Label</th><th>Predicted Label</th><th>Attribution Label</th><th>Attribution Score</th><th>Word Importance</th><tr><td><text style=\"padding-right:2em\"><b>Pos</b></text></td><td><text style=\"padding-right:2em\"><b>Pos (1.00)</b></text></td><td><text style=\"padding-right:2em\"><b>Neg</b></text></td><td><text style=\"padding-right:2em\"><b>-0.57</b></text></td><td><mark style=\"background-color: hsl(120, 75%, 83%); opacity:1.0;                     line-height:1.75\"><font color=\"black\"> #s                    </font></mark><mark style=\"background-color: hsl(0, 75%, 99%); opacity:1.0;                     line-height:1.75\"><font color=\"black\"> a                    </font></mark><mark style=\"background-color: hsl(0, 75%, 98%); opacity:1.0;                     line-height:1.75\"><font color=\"black\"> no-bull                    </font></mark><mark style=\"background-color: hsl(120, 75%, 100%); opacity:1.0;                     line-height:1.75\"><font color=\"black\"> throwback                    </font></mark><mark style=\"background-color: hsl(0, 75%, 65%); opacity:1.0;                     line-height:1.75\"><font color=\"black\"> to                    </font></mark><mark style=\"background-color: hsl(120, 75%, 89%); opacity:1.0;                     line-height:1.75\"><font color=\"black\"> 1970s                    </font></mark><mark style=\"background-color: hsl(120, 75%, 95%); opacity:1.0;                     line-height:1.75\"><font color=\"black\"> action                    </font></mark><mark style=\"background-color: hsl(120, 75%, 99%); opacity:1.0;                     line-height:1.75\"><font color=\"black\"> films                    </font></mark><mark style=\"background-color: hsl(0, 75%, 100%); opacity:1.0;                     line-height:1.75\"><font color=\"black\">                     </font></mark><mark style=\"background-color: hsl(0, 75%, 99%); opacity:1.0;                     line-height:1.75\"><font color=\"black\"> #/s                    </font></mark></td><tr></table>"
      ],
      "text/plain": [
       "<IPython.core.display.HTML object>"
      ]
     },
     "metadata": {},
     "output_type": "display_data"
    },
    {
     "name": "stdout",
     "output_type": "stream",
     "text": [
      "<IPython.core.display.HTML object>\n",
      "Raw review: is n't funny \n",
      "GT target: 0\n"
     ]
    },
    {
     "data": {
      "text/html": [
       "<table width: 100%><div style=\"border-top: 1px solid; margin-top: 5px;             padding-top: 5px; display: inline-block\"><b>Legend: </b><span style=\"display: inline-block; width: 10px; height: 10px;                 border: 1px solid; background-color:                 hsl(0, 75%, 60%)\"></span> Negative  <span style=\"display: inline-block; width: 10px; height: 10px;                 border: 1px solid; background-color:                 hsl(0, 75%, 100%)\"></span> Neutral  <span style=\"display: inline-block; width: 10px; height: 10px;                 border: 1px solid; background-color:                 hsl(120, 75%, 50%)\"></span> Positive  </div><tr><th>True Label</th><th>Predicted Label</th><th>Attribution Label</th><th>Attribution Score</th><th>Word Importance</th><tr><td><text style=\"padding-right:2em\"><b>Neg</b></text></td><td><text style=\"padding-right:2em\"><b>Neg (0.00)</b></text></td><td><text style=\"padding-right:2em\"><b>Neg</b></text></td><td><text style=\"padding-right:2em\"><b>-1.02</b></text></td><td><mark style=\"background-color: hsl(0, 75%, 94%); opacity:1.0;                     line-height:1.75\"><font color=\"black\"> #s                    </font></mark><mark style=\"background-color: hsl(0, 75%, 78%); opacity:1.0;                     line-height:1.75\"><font color=\"black\"> is                    </font></mark><mark style=\"background-color: hsl(0, 75%, 94%); opacity:1.0;                     line-height:1.75\"><font color=\"black\"> n't                    </font></mark><mark style=\"background-color: hsl(0, 75%, 89%); opacity:1.0;                     line-height:1.75\"><font color=\"black\"> funny                    </font></mark><mark style=\"background-color: hsl(0, 75%, 81%); opacity:1.0;                     line-height:1.75\"><font color=\"black\">                     </font></mark><mark style=\"background-color: hsl(120, 75%, 99%); opacity:1.0;                     line-height:1.75\"><font color=\"black\"> #/s                    </font></mark></td><tr></table>"
      ],
      "text/plain": [
       "<IPython.core.display.HTML object>"
      ]
     },
     "metadata": {},
     "output_type": "display_data"
    },
    {
     "name": "stdout",
     "output_type": "stream",
     "text": [
      "<IPython.core.display.HTML object>\n",
      "Raw review: the slack complacency of ( godard 's ) vision \n",
      "GT target: 0\n"
     ]
    },
    {
     "data": {
      "text/html": [
       "<table width: 100%><div style=\"border-top: 1px solid; margin-top: 5px;             padding-top: 5px; display: inline-block\"><b>Legend: </b><span style=\"display: inline-block; width: 10px; height: 10px;                 border: 1px solid; background-color:                 hsl(0, 75%, 60%)\"></span> Negative  <span style=\"display: inline-block; width: 10px; height: 10px;                 border: 1px solid; background-color:                 hsl(0, 75%, 100%)\"></span> Neutral  <span style=\"display: inline-block; width: 10px; height: 10px;                 border: 1px solid; background-color:                 hsl(120, 75%, 50%)\"></span> Positive  </div><tr><th>True Label</th><th>Predicted Label</th><th>Attribution Label</th><th>Attribution Score</th><th>Word Importance</th><tr><td><text style=\"padding-right:2em\"><b>Neg</b></text></td><td><text style=\"padding-right:2em\"><b>Neg (0.00)</b></text></td><td><text style=\"padding-right:2em\"><b>Neg</b></text></td><td><text style=\"padding-right:2em\"><b>-0.23</b></text></td><td><mark style=\"background-color: hsl(120, 75%, 82%); opacity:1.0;                     line-height:1.75\"><font color=\"black\"> #s                    </font></mark><mark style=\"background-color: hsl(120, 75%, 96%); opacity:1.0;                     line-height:1.75\"><font color=\"black\"> the                    </font></mark><mark style=\"background-color: hsl(0, 75%, 90%); opacity:1.0;                     line-height:1.75\"><font color=\"black\"> slack                    </font></mark><mark style=\"background-color: hsl(0, 75%, 76%); opacity:1.0;                     line-height:1.75\"><font color=\"black\"> complacency                    </font></mark><mark style=\"background-color: hsl(120, 75%, 100%); opacity:1.0;                     line-height:1.75\"><font color=\"black\"> of                    </font></mark><mark style=\"background-color: hsl(0, 75%, 97%); opacity:1.0;                     line-height:1.75\"><font color=\"black\"> (                    </font></mark><mark style=\"background-color: hsl(0, 75%, 98%); opacity:1.0;                     line-height:1.75\"><font color=\"black\"> godard                    </font></mark><mark style=\"background-color: hsl(0, 75%, 98%); opacity:1.0;                     line-height:1.75\"><font color=\"black\"> 's                    </font></mark><mark style=\"background-color: hsl(0, 75%, 94%); opacity:1.0;                     line-height:1.75\"><font color=\"black\"> )                    </font></mark><mark style=\"background-color: hsl(120, 75%, 87%); opacity:1.0;                     line-height:1.75\"><font color=\"black\"> vision                    </font></mark><mark style=\"background-color: hsl(0, 75%, 99%); opacity:1.0;                     line-height:1.75\"><font color=\"black\">                     </font></mark><mark style=\"background-color: hsl(0, 75%, 95%); opacity:1.0;                     line-height:1.75\"><font color=\"black\"> #/s                    </font></mark></td><tr></table>"
      ],
      "text/plain": [
       "<IPython.core.display.HTML object>"
      ]
     },
     "metadata": {},
     "output_type": "display_data"
    },
    {
     "name": "stdout",
     "output_type": "stream",
     "text": [
      "<IPython.core.display.HTML object>\n",
      "Raw review: , you 'd probably turn it off , convinced that you had already seen that movie . \n",
      "GT target: 0\n"
     ]
    },
    {
     "data": {
      "text/html": [
       "<table width: 100%><div style=\"border-top: 1px solid; margin-top: 5px;             padding-top: 5px; display: inline-block\"><b>Legend: </b><span style=\"display: inline-block; width: 10px; height: 10px;                 border: 1px solid; background-color:                 hsl(0, 75%, 60%)\"></span> Negative  <span style=\"display: inline-block; width: 10px; height: 10px;                 border: 1px solid; background-color:                 hsl(0, 75%, 100%)\"></span> Neutral  <span style=\"display: inline-block; width: 10px; height: 10px;                 border: 1px solid; background-color:                 hsl(120, 75%, 50%)\"></span> Positive  </div><tr><th>True Label</th><th>Predicted Label</th><th>Attribution Label</th><th>Attribution Score</th><th>Word Importance</th><tr><td><text style=\"padding-right:2em\"><b>Neg</b></text></td><td><text style=\"padding-right:2em\"><b>Neg (0.00)</b></text></td><td><text style=\"padding-right:2em\"><b>Pos</b></text></td><td><text style=\"padding-right:2em\"><b>0.73</b></text></td><td><mark style=\"background-color: hsl(120, 75%, 91%); opacity:1.0;                     line-height:1.75\"><font color=\"black\"> #s                    </font></mark><mark style=\"background-color: hsl(0, 75%, 98%); opacity:1.0;                     line-height:1.75\"><font color=\"black\"> ,                    </font></mark><mark style=\"background-color: hsl(120, 75%, 95%); opacity:1.0;                     line-height:1.75\"><font color=\"black\"> you                    </font></mark><mark style=\"background-color: hsl(0, 75%, 100%); opacity:1.0;                     line-height:1.75\"><font color=\"black\"> 'd                    </font></mark><mark style=\"background-color: hsl(120, 75%, 94%); opacity:1.0;                     line-height:1.75\"><font color=\"black\"> probably                    </font></mark><mark style=\"background-color: hsl(0, 75%, 92%); opacity:1.0;                     line-height:1.75\"><font color=\"black\"> turn                    </font></mark><mark style=\"background-color: hsl(0, 75%, 93%); opacity:1.0;                     line-height:1.75\"><font color=\"black\"> it                    </font></mark><mark style=\"background-color: hsl(120, 75%, 100%); opacity:1.0;                     line-height:1.75\"><font color=\"black\"> off                    </font></mark><mark style=\"background-color: hsl(0, 75%, 98%); opacity:1.0;                     line-height:1.75\"><font color=\"black\"> ,                    </font></mark><mark style=\"background-color: hsl(120, 75%, 71%); opacity:1.0;                     line-height:1.75\"><font color=\"black\"> convinced                    </font></mark><mark style=\"background-color: hsl(0, 75%, 99%); opacity:1.0;                     line-height:1.75\"><font color=\"black\"> that                    </font></mark><mark style=\"background-color: hsl(0, 75%, 96%); opacity:1.0;                     line-height:1.75\"><font color=\"black\"> you                    </font></mark><mark style=\"background-color: hsl(120, 75%, 95%); opacity:1.0;                     line-height:1.75\"><font color=\"black\"> had                    </font></mark><mark style=\"background-color: hsl(0, 75%, 97%); opacity:1.0;                     line-height:1.75\"><font color=\"black\"> already                    </font></mark><mark style=\"background-color: hsl(0, 75%, 97%); opacity:1.0;                     line-height:1.75\"><font color=\"black\"> seen                    </font></mark><mark style=\"background-color: hsl(0, 75%, 99%); opacity:1.0;                     line-height:1.75\"><font color=\"black\"> that                    </font></mark><mark style=\"background-color: hsl(0, 75%, 97%); opacity:1.0;                     line-height:1.75\"><font color=\"black\"> movie                    </font></mark><mark style=\"background-color: hsl(120, 75%, 95%); opacity:1.0;                     line-height:1.75\"><font color=\"black\"> .                    </font></mark><mark style=\"background-color: hsl(0, 75%, 93%); opacity:1.0;                     line-height:1.75\"><font color=\"black\">                     </font></mark><mark style=\"background-color: hsl(120, 75%, 69%); opacity:1.0;                     line-height:1.75\"><font color=\"black\"> #/s                    </font></mark></td><tr></table>"
      ],
      "text/plain": [
       "<IPython.core.display.HTML object>"
      ]
     },
     "metadata": {},
     "output_type": "display_data"
    },
    {
     "name": "stdout",
     "output_type": "stream",
     "text": [
      "<IPython.core.display.HTML object>\n",
      "Raw review: it may be a somewhat backhanded compliment to say that the film makes the viewer feel like the movie 's various victimized audience members after a while , but it also happens to be the movie 's most admirable quality \n",
      "GT target: 1\n"
     ]
    },
    {
     "data": {
      "text/html": [
       "<table width: 100%><div style=\"border-top: 1px solid; margin-top: 5px;             padding-top: 5px; display: inline-block\"><b>Legend: </b><span style=\"display: inline-block; width: 10px; height: 10px;                 border: 1px solid; background-color:                 hsl(0, 75%, 60%)\"></span> Negative  <span style=\"display: inline-block; width: 10px; height: 10px;                 border: 1px solid; background-color:                 hsl(0, 75%, 100%)\"></span> Neutral  <span style=\"display: inline-block; width: 10px; height: 10px;                 border: 1px solid; background-color:                 hsl(120, 75%, 50%)\"></span> Positive  </div><tr><th>True Label</th><th>Predicted Label</th><th>Attribution Label</th><th>Attribution Score</th><th>Word Importance</th><tr><td><text style=\"padding-right:2em\"><b>Pos</b></text></td><td><text style=\"padding-right:2em\"><b>Pos (1.00)</b></text></td><td><text style=\"padding-right:2em\"><b>Neg</b></text></td><td><text style=\"padding-right:2em\"><b>-0.34</b></text></td><td><mark style=\"background-color: hsl(0, 75%, 98%); opacity:1.0;                     line-height:1.75\"><font color=\"black\"> #s                    </font></mark><mark style=\"background-color: hsl(0, 75%, 96%); opacity:1.0;                     line-height:1.75\"><font color=\"black\"> it                    </font></mark><mark style=\"background-color: hsl(120, 75%, 100%); opacity:1.0;                     line-height:1.75\"><font color=\"black\"> may                    </font></mark><mark style=\"background-color: hsl(120, 75%, 100%); opacity:1.0;                     line-height:1.75\"><font color=\"black\"> be                    </font></mark><mark style=\"background-color: hsl(120, 75%, 99%); opacity:1.0;                     line-height:1.75\"><font color=\"black\"> a                    </font></mark><mark style=\"background-color: hsl(0, 75%, 94%); opacity:1.0;                     line-height:1.75\"><font color=\"black\"> somewhat                    </font></mark><mark style=\"background-color: hsl(120, 75%, 90%); opacity:1.0;                     line-height:1.75\"><font color=\"black\"> backhanded                    </font></mark><mark style=\"background-color: hsl(0, 75%, 100%); opacity:1.0;                     line-height:1.75\"><font color=\"black\"> compliment                    </font></mark><mark style=\"background-color: hsl(120, 75%, 99%); opacity:1.0;                     line-height:1.75\"><font color=\"black\"> to                    </font></mark><mark style=\"background-color: hsl(0, 75%, 98%); opacity:1.0;                     line-height:1.75\"><font color=\"black\"> say                    </font></mark><mark style=\"background-color: hsl(120, 75%, 98%); opacity:1.0;                     line-height:1.75\"><font color=\"black\"> that                    </font></mark><mark style=\"background-color: hsl(0, 75%, 100%); opacity:1.0;                     line-height:1.75\"><font color=\"black\"> the                    </font></mark><mark style=\"background-color: hsl(120, 75%, 100%); opacity:1.0;                     line-height:1.75\"><font color=\"black\"> film                    </font></mark><mark style=\"background-color: hsl(0, 75%, 98%); opacity:1.0;                     line-height:1.75\"><font color=\"black\"> makes                    </font></mark><mark style=\"background-color: hsl(120, 75%, 100%); opacity:1.0;                     line-height:1.75\"><font color=\"black\"> the                    </font></mark><mark style=\"background-color: hsl(120, 75%, 100%); opacity:1.0;                     line-height:1.75\"><font color=\"black\"> viewer                    </font></mark><mark style=\"background-color: hsl(0, 75%, 100%); opacity:1.0;                     line-height:1.75\"><font color=\"black\"> feel                    </font></mark><mark style=\"background-color: hsl(0, 75%, 99%); opacity:1.0;                     line-height:1.75\"><font color=\"black\"> like                    </font></mark><mark style=\"background-color: hsl(120, 75%, 100%); opacity:1.0;                     line-height:1.75\"><font color=\"black\"> the                    </font></mark><mark style=\"background-color: hsl(0, 75%, 99%); opacity:1.0;                     line-height:1.75\"><font color=\"black\"> movie                    </font></mark><mark style=\"background-color: hsl(0, 75%, 97%); opacity:1.0;                     line-height:1.75\"><font color=\"black\"> 's                    </font></mark><mark style=\"background-color: hsl(0, 75%, 95%); opacity:1.0;                     line-height:1.75\"><font color=\"black\"> various                    </font></mark><mark style=\"background-color: hsl(120, 75%, 95%); opacity:1.0;                     line-height:1.75\"><font color=\"black\"> victimized                    </font></mark><mark style=\"background-color: hsl(0, 75%, 98%); opacity:1.0;                     line-height:1.75\"><font color=\"black\"> audience                    </font></mark><mark style=\"background-color: hsl(120, 75%, 59%); opacity:1.0;                     line-height:1.75\"><font color=\"black\"> members                    </font></mark><mark style=\"background-color: hsl(0, 75%, 94%); opacity:1.0;                     line-height:1.75\"><font color=\"black\"> after                    </font></mark><mark style=\"background-color: hsl(120, 75%, 100%); opacity:1.0;                     line-height:1.75\"><font color=\"black\"> a                    </font></mark><mark style=\"background-color: hsl(0, 75%, 98%); opacity:1.0;                     line-height:1.75\"><font color=\"black\"> while                    </font></mark><mark style=\"background-color: hsl(120, 75%, 99%); opacity:1.0;                     line-height:1.75\"><font color=\"black\"> ,                    </font></mark><mark style=\"background-color: hsl(0, 75%, 98%); opacity:1.0;                     line-height:1.75\"><font color=\"black\"> but                    </font></mark><mark style=\"background-color: hsl(120, 75%, 100%); opacity:1.0;                     line-height:1.75\"><font color=\"black\"> it                    </font></mark><mark style=\"background-color: hsl(0, 75%, 100%); opacity:1.0;                     line-height:1.75\"><font color=\"black\"> also                    </font></mark><mark style=\"background-color: hsl(0, 75%, 99%); opacity:1.0;                     line-height:1.75\"><font color=\"black\"> happens                    </font></mark><mark style=\"background-color: hsl(0, 75%, 100%); opacity:1.0;                     line-height:1.75\"><font color=\"black\"> to                    </font></mark><mark style=\"background-color: hsl(0, 75%, 99%); opacity:1.0;                     line-height:1.75\"><font color=\"black\"> be                    </font></mark><mark style=\"background-color: hsl(0, 75%, 97%); opacity:1.0;                     line-height:1.75\"><font color=\"black\"> the                    </font></mark><mark style=\"background-color: hsl(120, 75%, 98%); opacity:1.0;                     line-height:1.75\"><font color=\"black\"> movie                    </font></mark><mark style=\"background-color: hsl(120, 75%, 99%); opacity:1.0;                     line-height:1.75\"><font color=\"black\"> 's                    </font></mark><mark style=\"background-color: hsl(0, 75%, 98%); opacity:1.0;                     line-height:1.75\"><font color=\"black\"> most                    </font></mark><mark style=\"background-color: hsl(0, 75%, 93%); opacity:1.0;                     line-height:1.75\"><font color=\"black\"> admirable                    </font></mark><mark style=\"background-color: hsl(120, 75%, 98%); opacity:1.0;                     line-height:1.75\"><font color=\"black\"> quality                    </font></mark><mark style=\"background-color: hsl(0, 75%, 100%); opacity:1.0;                     line-height:1.75\"><font color=\"black\">                     </font></mark><mark style=\"background-color: hsl(0, 75%, 89%); opacity:1.0;                     line-height:1.75\"><font color=\"black\"> #/s                    </font></mark></td><tr></table>"
      ],
      "text/plain": [
       "<IPython.core.display.HTML object>"
      ]
     },
     "metadata": {},
     "output_type": "display_data"
    },
    {
     "name": "stdout",
     "output_type": "stream",
     "text": [
      "<IPython.core.display.HTML object>\n",
      "Raw review: that a life like this can sound so dull \n",
      "GT target: 0\n"
     ]
    },
    {
     "data": {
      "text/html": [
       "<table width: 100%><div style=\"border-top: 1px solid; margin-top: 5px;             padding-top: 5px; display: inline-block\"><b>Legend: </b><span style=\"display: inline-block; width: 10px; height: 10px;                 border: 1px solid; background-color:                 hsl(0, 75%, 60%)\"></span> Negative  <span style=\"display: inline-block; width: 10px; height: 10px;                 border: 1px solid; background-color:                 hsl(0, 75%, 100%)\"></span> Neutral  <span style=\"display: inline-block; width: 10px; height: 10px;                 border: 1px solid; background-color:                 hsl(120, 75%, 50%)\"></span> Positive  </div><tr><th>True Label</th><th>Predicted Label</th><th>Attribution Label</th><th>Attribution Score</th><th>Word Importance</th><tr><td><text style=\"padding-right:2em\"><b>Neg</b></text></td><td><text style=\"padding-right:2em\"><b>Neg (0.00)</b></text></td><td><text style=\"padding-right:2em\"><b>Neg</b></text></td><td><text style=\"padding-right:2em\"><b>-0.13</b></text></td><td><mark style=\"background-color: hsl(120, 75%, 84%); opacity:1.0;                     line-height:1.75\"><font color=\"black\"> #s                    </font></mark><mark style=\"background-color: hsl(0, 75%, 88%); opacity:1.0;                     line-height:1.75\"><font color=\"black\"> that                    </font></mark><mark style=\"background-color: hsl(0, 75%, 100%); opacity:1.0;                     line-height:1.75\"><font color=\"black\"> a                    </font></mark><mark style=\"background-color: hsl(120, 75%, 82%); opacity:1.0;                     line-height:1.75\"><font color=\"black\"> life                    </font></mark><mark style=\"background-color: hsl(120, 75%, 95%); opacity:1.0;                     line-height:1.75\"><font color=\"black\"> like                    </font></mark><mark style=\"background-color: hsl(0, 75%, 99%); opacity:1.0;                     line-height:1.75\"><font color=\"black\"> this                    </font></mark><mark style=\"background-color: hsl(120, 75%, 98%); opacity:1.0;                     line-height:1.75\"><font color=\"black\"> can                    </font></mark><mark style=\"background-color: hsl(120, 75%, 96%); opacity:1.0;                     line-height:1.75\"><font color=\"black\"> sound                    </font></mark><mark style=\"background-color: hsl(120, 75%, 95%); opacity:1.0;                     line-height:1.75\"><font color=\"black\"> so                    </font></mark><mark style=\"background-color: hsl(0, 75%, 70%); opacity:1.0;                     line-height:1.75\"><font color=\"black\"> dull                    </font></mark><mark style=\"background-color: hsl(0, 75%, 95%); opacity:1.0;                     line-height:1.75\"><font color=\"black\">                     </font></mark><mark style=\"background-color: hsl(120, 75%, 97%); opacity:1.0;                     line-height:1.75\"><font color=\"black\"> #/s                    </font></mark></td><tr></table>"
      ],
      "text/plain": [
       "<IPython.core.display.HTML object>"
      ]
     },
     "metadata": {},
     "output_type": "display_data"
    },
    {
     "name": "stdout",
     "output_type": "stream",
     "text": [
      "<IPython.core.display.HTML object>\n",
      "Raw review: create and sustain \n",
      "GT target: 1\n"
     ]
    },
    {
     "data": {
      "text/html": [
       "<table width: 100%><div style=\"border-top: 1px solid; margin-top: 5px;             padding-top: 5px; display: inline-block\"><b>Legend: </b><span style=\"display: inline-block; width: 10px; height: 10px;                 border: 1px solid; background-color:                 hsl(0, 75%, 60%)\"></span> Negative  <span style=\"display: inline-block; width: 10px; height: 10px;                 border: 1px solid; background-color:                 hsl(0, 75%, 100%)\"></span> Neutral  <span style=\"display: inline-block; width: 10px; height: 10px;                 border: 1px solid; background-color:                 hsl(120, 75%, 50%)\"></span> Positive  </div><tr><th>True Label</th><th>Predicted Label</th><th>Attribution Label</th><th>Attribution Score</th><th>Word Importance</th><tr><td><text style=\"padding-right:2em\"><b>Pos</b></text></td><td><text style=\"padding-right:2em\"><b>Pos (1.00)</b></text></td><td><text style=\"padding-right:2em\"><b>Neg</b></text></td><td><text style=\"padding-right:2em\"><b>-0.37</b></text></td><td><mark style=\"background-color: hsl(0, 75%, 91%); opacity:1.0;                     line-height:1.75\"><font color=\"black\"> #s                    </font></mark><mark style=\"background-color: hsl(120, 75%, 85%); opacity:1.0;                     line-height:1.75\"><font color=\"black\"> create                    </font></mark><mark style=\"background-color: hsl(0, 75%, 95%); opacity:1.0;                     line-height:1.75\"><font color=\"black\"> and                    </font></mark><mark style=\"background-color: hsl(0, 75%, 67%); opacity:1.0;                     line-height:1.75\"><font color=\"black\"> sustain                    </font></mark><mark style=\"background-color: hsl(120, 75%, 85%); opacity:1.0;                     line-height:1.75\"><font color=\"black\">                     </font></mark><mark style=\"background-color: hsl(120, 75%, 89%); opacity:1.0;                     line-height:1.75\"><font color=\"black\"> #/s                    </font></mark></td><tr></table>"
      ],
      "text/plain": [
       "<IPython.core.display.HTML object>"
      ]
     },
     "metadata": {},
     "output_type": "display_data"
    },
    {
     "name": "stdout",
     "output_type": "stream",
     "text": [
      "<IPython.core.display.HTML object>\n",
      "Raw review: in trying to have the best of both worlds it ends up falling short as a whole \n",
      "GT target: 0\n"
     ]
    },
    {
     "data": {
      "text/html": [
       "<table width: 100%><div style=\"border-top: 1px solid; margin-top: 5px;             padding-top: 5px; display: inline-block\"><b>Legend: </b><span style=\"display: inline-block; width: 10px; height: 10px;                 border: 1px solid; background-color:                 hsl(0, 75%, 60%)\"></span> Negative  <span style=\"display: inline-block; width: 10px; height: 10px;                 border: 1px solid; background-color:                 hsl(0, 75%, 100%)\"></span> Neutral  <span style=\"display: inline-block; width: 10px; height: 10px;                 border: 1px solid; background-color:                 hsl(120, 75%, 50%)\"></span> Positive  </div><tr><th>True Label</th><th>Predicted Label</th><th>Attribution Label</th><th>Attribution Score</th><th>Word Importance</th><tr><td><text style=\"padding-right:2em\"><b>Neg</b></text></td><td><text style=\"padding-right:2em\"><b>Neg (0.00)</b></text></td><td><text style=\"padding-right:2em\"><b>Pos</b></text></td><td><text style=\"padding-right:2em\"><b>0.81</b></text></td><td><mark style=\"background-color: hsl(120, 75%, 99%); opacity:1.0;                     line-height:1.75\"><font color=\"black\"> #s                    </font></mark><mark style=\"background-color: hsl(120, 75%, 96%); opacity:1.0;                     line-height:1.75\"><font color=\"black\"> in                    </font></mark><mark style=\"background-color: hsl(120, 75%, 98%); opacity:1.0;                     line-height:1.75\"><font color=\"black\"> trying                    </font></mark><mark style=\"background-color: hsl(0, 75%, 100%); opacity:1.0;                     line-height:1.75\"><font color=\"black\"> to                    </font></mark><mark style=\"background-color: hsl(120, 75%, 100%); opacity:1.0;                     line-height:1.75\"><font color=\"black\"> have                    </font></mark><mark style=\"background-color: hsl(0, 75%, 99%); opacity:1.0;                     line-height:1.75\"><font color=\"black\"> the                    </font></mark><mark style=\"background-color: hsl(0, 75%, 80%); opacity:1.0;                     line-height:1.75\"><font color=\"black\"> best                    </font></mark><mark style=\"background-color: hsl(120, 75%, 95%); opacity:1.0;                     line-height:1.75\"><font color=\"black\"> of                    </font></mark><mark style=\"background-color: hsl(120, 75%, 94%); opacity:1.0;                     line-height:1.75\"><font color=\"black\"> both                    </font></mark><mark style=\"background-color: hsl(120, 75%, 61%); opacity:1.0;                     line-height:1.75\"><font color=\"black\"> worlds                    </font></mark><mark style=\"background-color: hsl(120, 75%, 96%); opacity:1.0;                     line-height:1.75\"><font color=\"black\"> it                    </font></mark><mark style=\"background-color: hsl(120, 75%, 97%); opacity:1.0;                     line-height:1.75\"><font color=\"black\"> ends                    </font></mark><mark style=\"background-color: hsl(0, 75%, 100%); opacity:1.0;                     line-height:1.75\"><font color=\"black\"> up                    </font></mark><mark style=\"background-color: hsl(120, 75%, 96%); opacity:1.0;                     line-height:1.75\"><font color=\"black\"> falling                    </font></mark><mark style=\"background-color: hsl(0, 75%, 95%); opacity:1.0;                     line-height:1.75\"><font color=\"black\"> short                    </font></mark><mark style=\"background-color: hsl(120, 75%, 93%); opacity:1.0;                     line-height:1.75\"><font color=\"black\"> as                    </font></mark><mark style=\"background-color: hsl(120, 75%, 99%); opacity:1.0;                     line-height:1.75\"><font color=\"black\"> a                    </font></mark><mark style=\"background-color: hsl(120, 75%, 99%); opacity:1.0;                     line-height:1.75\"><font color=\"black\"> whole                    </font></mark><mark style=\"background-color: hsl(0, 75%, 99%); opacity:1.0;                     line-height:1.75\"><font color=\"black\">                     </font></mark><mark style=\"background-color: hsl(0, 75%, 97%); opacity:1.0;                     line-height:1.75\"><font color=\"black\"> #/s                    </font></mark></td><tr></table>"
      ],
      "text/plain": [
       "<IPython.core.display.HTML object>"
      ]
     },
     "metadata": {},
     "output_type": "display_data"
    },
    {
     "name": "stdout",
     "output_type": "stream",
     "text": [
      "<IPython.core.display.HTML object>\n"
     ]
    }
   ],
   "source": [
    "for i, (datum_raw, target) in enumerate(zip(sst2_data_raw, targets), start=1):\n",
    "    print(f'Raw review: {datum_raw}')\n",
    "    print(f'GT target: {target}')\n",
    "    visual_record=generate_record(datum_raw, target)\n",
    "    print(visualization.visualize_text([visual_record]))"
   ]
  },
  {
   "cell_type": "code",
   "execution_count": 9,
   "id": "f6344a01",
   "metadata": {},
   "outputs": [
    {
     "data": {
      "text/plain": [
       "{'indices': [65782,\n",
       "  17600,\n",
       "  44743,\n",
       "  3596,\n",
       "  23881,\n",
       "  41947,\n",
       "  62398,\n",
       "  57754,\n",
       "  63990,\n",
       "  30747,\n",
       "  53290,\n",
       "  28351,\n",
       "  40015,\n",
       "  8727,\n",
       "  17988,\n",
       "  60767,\n",
       "  28410,\n",
       "  2452,\n",
       "  30501,\n",
       "  28658,\n",
       "  54581,\n",
       "  5452,\n",
       "  37646,\n",
       "  26647,\n",
       "  540,\n",
       "  58524,\n",
       "  52526,\n",
       "  42135,\n",
       "  52895,\n",
       "  42403,\n",
       "  59641,\n",
       "  34688,\n",
       "  26867,\n",
       "  53360,\n",
       "  35611,\n",
       "  67213,\n",
       "  35190,\n",
       "  18588,\n",
       "  65777,\n",
       "  44036,\n",
       "  16318,\n",
       "  39428,\n",
       "  61283,\n",
       "  47302,\n",
       "  24723,\n",
       "  44711,\n",
       "  3354,\n",
       "  49950,\n",
       "  15854,\n",
       "  42458],\n",
       " 'raw_data': ['an unforgettable ',\n",
       "  'absurdity ',\n",
       "  'i liked about schmidt a lot , but i have a feeling that i would have liked it much more if harry & tonto never existed ',\n",
       "  'to give them credit for : the message of the movie ',\n",
       "  'is intriguing but quickly becomes distasteful and downright creepy ',\n",
       "  \"such a wildly uneven hit-and-miss enterprise , you ca n't help suspecting that it was improvised on a day-to-day basis during production . \",\n",
       "  'shrek ',\n",
       "  \"it 's funny . \",\n",
       "  'confuses its message with an ultimate desire to please , and contorting itself into an idea of expectation is the last thing any of these three actresses , nor their characters , deserve . ',\n",
       "  'a characteristically engorged and sloppy coming-of-age movie . ',\n",
       "  'a sense of action ',\n",
       "  \"have n't seen such self-amused trash since freddy got fingered \",\n",
       "  'never mind all that ; the boobs are fantasti ',\n",
       "  \"is leguizamo 's best movie work so far , a subtle and richly internalized performance \",\n",
       "  \"'ll enjoy this movie . \",\n",
       "  \"our culture is headed down the toilet with the ferocity of a frozen burrito after an all-night tequila bender -- and i know this because i 've seen ` jackass : the movie \",\n",
       "  'more psychotic than romantic ',\n",
       "  'solid , satisfying fare ',\n",
       "  'he makes sure the salton sea works the way a good noir should , keeping it tight and nasty ',\n",
       "  'should jolt you out of your seat a couple of times , give you a few laughs , and leave you feeling like it was worth your seven bucks , even though it does turn out to be a bit of a cheat in the end . ',\n",
       "  'brittle desperation ',\n",
       "  'and twisted characters ',\n",
       "  'less-than-thrilling thriller . ',\n",
       "  ', overnight , is robbed and replaced with a persecuted `` other ',\n",
       "  \"is worse : the part where nothing 's happening , or the part where something 's happening \",\n",
       "  \"would take a complete moron to foul up a screen adaptation of oscar wilde 's classic satire \",\n",
       "  'most audacious , outrageous ',\n",
       "  'holds a certain charm ',\n",
       "  'the hurried , badly cobbled look ',\n",
       "  'as a dystopian movie ',\n",
       "  'given up ',\n",
       "  'vulgarity ',\n",
       "  'walked away from this new version of e.t. just as i hoped i would -- with moist eyes . ',\n",
       "  'languishing ',\n",
       "  \"brings a youthful , out-to-change-the-world aggressiveness to the project , as if she 's cut open a vein and \",\n",
       "  'i heard a mysterious voice , and felt myself powerfully drawn toward the light -- the light of the exit sign ',\n",
       "  'no amount of burning , blasting , stabbing , and shooting ',\n",
       "  \"'s never too late to learn \",\n",
       "  'stirs us ',\n",
       "  \"'s notably better acted -- and far less crass - than some other recent efforts in the burgeoning genre of films about black urban professionals \",\n",
       "  'is an inspirational love story , capturing the innocence and idealism of that first encounter ',\n",
       "  'sharp comedy , old-fashioned monster movie atmospherics , ',\n",
       "  'a no-bull throwback to 1970s action films ',\n",
       "  \"is n't funny \",\n",
       "  \"the slack complacency of ( godard 's ) vision \",\n",
       "  \", you 'd probably turn it off , convinced that you had already seen that movie . \",\n",
       "  \"it may be a somewhat backhanded compliment to say that the film makes the viewer feel like the movie 's various victimized audience members after a while , but it also happens to be the movie 's most admirable quality \",\n",
       "  'that a life like this can sound so dull ',\n",
       "  'create and sustain ',\n",
       "  'in trying to have the best of both worlds it ends up falling short as a whole '],\n",
       " 'targets': [1,\n",
       "  0,\n",
       "  1,\n",
       "  1,\n",
       "  0,\n",
       "  0,\n",
       "  1,\n",
       "  1,\n",
       "  0,\n",
       "  0,\n",
       "  1,\n",
       "  0,\n",
       "  1,\n",
       "  1,\n",
       "  1,\n",
       "  0,\n",
       "  0,\n",
       "  1,\n",
       "  1,\n",
       "  1,\n",
       "  0,\n",
       "  1,\n",
       "  0,\n",
       "  0,\n",
       "  0,\n",
       "  0,\n",
       "  1,\n",
       "  1,\n",
       "  0,\n",
       "  0,\n",
       "  0,\n",
       "  0,\n",
       "  1,\n",
       "  0,\n",
       "  1,\n",
       "  0,\n",
       "  0,\n",
       "  1,\n",
       "  1,\n",
       "  1,\n",
       "  1,\n",
       "  1,\n",
       "  1,\n",
       "  0,\n",
       "  0,\n",
       "  0,\n",
       "  1,\n",
       "  0,\n",
       "  1,\n",
       "  0],\n",
       " 'model_out_list': [0.9987438321113586,\n",
       "  0.001677558640949428,\n",
       "  0.9920938611030579,\n",
       "  0.9961516261100769,\n",
       "  0.0005129209021106362,\n",
       "  0.0005032314802519977,\n",
       "  0.765356719493866,\n",
       "  0.996863603591919,\n",
       "  0.0005022553377784789,\n",
       "  0.0004998010117560625,\n",
       "  0.9970723390579224,\n",
       "  0.0021082707680761814,\n",
       "  0.9984084963798523,\n",
       "  0.998853325843811,\n",
       "  0.9987634420394897,\n",
       "  0.006648855283856392,\n",
       "  0.0012364874128252268,\n",
       "  0.9988977909088135,\n",
       "  0.9988210797309875,\n",
       "  0.9948071837425232,\n",
       "  0.0014501370023936033,\n",
       "  0.9834024906158447,\n",
       "  0.0005283645004965365,\n",
       "  0.0021637133322656155,\n",
       "  0.000533953367266804,\n",
       "  0.9756723046302795,\n",
       "  0.9939826130867004,\n",
       "  0.9956108927726746,\n",
       "  0.0005177376442588866,\n",
       "  0.9016509652137756,\n",
       "  0.003148325253278017,\n",
       "  0.002205574419349432,\n",
       "  0.01324824895709753,\n",
       "  0.0005949753685854375,\n",
       "  0.9983898401260376,\n",
       "  0.9983304142951965,\n",
       "  0.003587669227272272,\n",
       "  0.9912607073783875,\n",
       "  0.9980699419975281,\n",
       "  0.9988839030265808,\n",
       "  0.9989026784896851,\n",
       "  0.9987087249755859,\n",
       "  0.9983456134796143,\n",
       "  0.0006194766610860825,\n",
       "  0.001645221491344273,\n",
       "  0.0005545121966861188,\n",
       "  0.998863935470581,\n",
       "  0.0009982241317629814,\n",
       "  0.9981231093406677,\n",
       "  0.0004939137725159526],\n",
       " 'raw_attr_list': [tensor([[[ 2.8637e-07,  3.2415e-08, -3.8201e-08,  ..., -9.1281e-08,\n",
       "             4.7905e-07, -3.6022e-08],\n",
       "           [-2.6409e-08,  1.0385e-07,  1.9332e-07,  ..., -2.6898e-07,\n",
       "            -4.8074e-08, -3.6895e-07],\n",
       "           [ 4.4087e-07, -3.3538e-07,  1.2048e-07,  ...,  4.3364e-08,\n",
       "             3.1555e-07, -9.7452e-09],\n",
       "           [-6.4904e-08,  2.1491e-06, -1.5695e-06,  ..., -4.2823e-06,\n",
       "            -1.3105e-07, -2.4313e-06],\n",
       "           [ 2.9725e-07,  3.2435e-07,  1.2957e-07,  ...,  7.1569e-07,\n",
       "            -5.6232e-07,  9.7332e-08]]], grad_fn=<MulBackward0>),\n",
       "  tensor([[[-8.9775e-07,  1.1855e-06,  5.4228e-07,  ..., -1.8771e-06,\n",
       "            -2.9855e-06,  1.3116e-06],\n",
       "           [ 1.4043e-05, -2.2897e-05, -3.7181e-06,  ...,  1.3145e-05,\n",
       "             5.3412e-06, -2.9199e-06],\n",
       "           [-5.6016e-07,  3.5882e-07, -2.1910e-05,  ..., -3.1065e-06,\n",
       "             4.6635e-06, -4.3956e-05],\n",
       "           [ 8.0873e-08,  6.5127e-06,  6.6752e-06,  ..., -4.4932e-06,\n",
       "             1.4789e-06,  1.6903e-06],\n",
       "           [-1.4646e-08, -4.0004e-06, -8.3222e-06,  ...,  1.8167e-06,\n",
       "             3.3296e-06,  1.2203e-05],\n",
       "           [-7.9386e-07, -3.7123e-06, -1.0139e-06,  ..., -3.6434e-06,\n",
       "            -3.3923e-06,  2.8521e-07]]], grad_fn=<MulBackward0>),\n",
       "  tensor([[[-1.0547e-06, -2.3772e-06,  5.8961e-07,  ..., -1.5491e-07,\n",
       "            -3.5197e-06,  8.1488e-07],\n",
       "           [-3.2255e-06,  1.2826e-05,  1.1049e-06,  ..., -1.6756e-07,\n",
       "             8.5390e-06,  3.4319e-06],\n",
       "           [ 7.7471e-06, -2.2015e-05, -1.3157e-05,  ..., -9.5066e-07,\n",
       "            -7.5685e-06, -1.4593e-05],\n",
       "           ...,\n",
       "           [ 4.0336e-05, -5.0077e-07,  3.8078e-06,  ..., -2.3645e-07,\n",
       "            -3.6040e-06,  1.9787e-07],\n",
       "           [-7.4127e-06, -1.2816e-05,  5.2736e-06,  ...,  5.5824e-06,\n",
       "            -8.8362e-06, -1.0129e-05],\n",
       "           [-3.4107e-08,  1.2534e-06, -4.7655e-06,  ..., -3.1416e-07,\n",
       "             3.0179e-06,  3.2457e-07]]], grad_fn=<MulBackward0>),\n",
       "  tensor([[[-6.6679e-06,  6.9778e-07, -1.2616e-06,  ..., -3.5555e-06,\n",
       "            -8.3400e-06,  9.1069e-07],\n",
       "           [-1.8700e-06,  3.3412e-06,  3.4036e-06,  ..., -1.9558e-05,\n",
       "             8.9922e-06,  3.4467e-05],\n",
       "           [ 2.0068e-06, -9.3997e-06,  2.4512e-05,  ...,  1.2969e-05,\n",
       "             1.3073e-05,  1.7200e-05],\n",
       "           ...,\n",
       "           [-6.2679e-06, -1.2731e-05, -9.6836e-06,  ...,  2.0304e-06,\n",
       "            -5.1765e-06, -1.2293e-05],\n",
       "           [ 6.8577e-06,  5.1229e-06,  8.8471e-06,  ..., -2.4942e-06,\n",
       "            -7.1239e-06,  4.1334e-05],\n",
       "           [ 4.2909e-06, -3.0937e-07, -1.9101e-06,  ..., -1.2720e-06,\n",
       "             7.0358e-06,  1.2349e-07]]], grad_fn=<MulBackward0>),\n",
       "  tensor([[[-4.9733e-08,  1.1954e-08, -6.1426e-10,  ..., -1.1790e-08,\n",
       "            -1.5460e-08, -1.8858e-08],\n",
       "           [-1.3234e-08, -4.4767e-08,  8.9148e-08,  ..., -3.7513e-08,\n",
       "             5.6157e-09,  1.0347e-07],\n",
       "           [-4.7559e-08,  7.7646e-08, -1.8548e-08,  ..., -8.2698e-09,\n",
       "             1.5223e-07,  4.8067e-09],\n",
       "           ...,\n",
       "           [-1.1317e-07,  3.0334e-07,  1.0836e-06,  ..., -1.0280e-07,\n",
       "            -1.9178e-07,  1.5297e-08],\n",
       "           [-1.4222e-08,  1.2189e-07,  5.2627e-09,  ...,  1.5143e-07,\n",
       "             7.4128e-08, -1.6470e-07],\n",
       "           [-1.6861e-09,  2.3235e-08, -6.0981e-08,  ..., -1.9891e-08,\n",
       "             2.2018e-08, -1.0183e-08]]], grad_fn=<MulBackward0>),\n",
       "  tensor([[[-7.9360e-08, -5.9825e-09,  2.6495e-08,  ...,  3.0338e-08,\n",
       "            -4.1056e-08, -2.5324e-08],\n",
       "           [-2.8034e-08,  2.5027e-09, -1.7635e-08,  ...,  5.5724e-08,\n",
       "            -6.8907e-09, -1.5743e-08],\n",
       "           [-1.3738e-08, -6.3539e-08, -1.5948e-08,  ...,  4.8555e-08,\n",
       "            -2.8629e-08, -5.8957e-10],\n",
       "           ...,\n",
       "           [-1.3526e-08,  3.4629e-07,  4.7960e-08,  ...,  1.6710e-08,\n",
       "             5.1546e-09,  3.4499e-07],\n",
       "           [ 2.1804e-07, -4.3441e-08, -7.0212e-08,  ...,  3.6065e-07,\n",
       "             1.1572e-07,  1.1675e-07],\n",
       "           [-3.5213e-09,  5.5587e-08,  8.0589e-08,  ...,  7.6138e-09,\n",
       "            -1.4194e-08, -1.0161e-08]]], grad_fn=<MulBackward0>),\n",
       "  tensor([[[-0.0326,  0.0033,  0.0008,  ..., -0.0108,  0.0005,  0.0075],\n",
       "           [-0.0148,  0.0027,  0.0294,  ..., -0.0168, -0.0274,  0.0063],\n",
       "           [-0.1070,  0.0001,  0.0093,  ..., -0.0185, -0.0393,  0.0105],\n",
       "           [-0.0038, -0.0449,  0.0014,  ..., -0.0241,  0.0057,  0.0625],\n",
       "           [-0.0174, -0.0054, -0.0009,  ..., -0.0018,  0.0144, -0.0023]]],\n",
       "         grad_fn=<MulBackward0>),\n",
       "  tensor([[[ 1.0452e-05, -4.1544e-07,  2.8727e-06,  ..., -1.6907e-06,\n",
       "            -8.1173e-06,  2.9770e-06],\n",
       "           [-2.7266e-07,  1.5240e-05, -9.1997e-06,  ..., -1.5103e-07,\n",
       "             5.3002e-07, -1.1337e-05],\n",
       "           [-1.5824e-05,  4.0293e-06,  3.9983e-06,  ...,  5.5374e-07,\n",
       "            -8.2183e-06, -4.9212e-06],\n",
       "           ...,\n",
       "           [-8.3961e-06,  3.3894e-05, -1.6709e-07,  ..., -4.5910e-07,\n",
       "             2.1137e-06,  4.2884e-06],\n",
       "           [-2.9615e-06, -7.0617e-06,  1.3418e-05,  ...,  1.4963e-05,\n",
       "             4.3445e-07,  1.0040e-05],\n",
       "           [-2.3912e-06, -1.6701e-06, -2.5233e-06,  ..., -2.0541e-07,\n",
       "            -9.7334e-08, -6.8587e-07]]], grad_fn=<MulBackward0>),\n",
       "  tensor([[[ 1.2459e-08, -1.5300e-09, -2.9105e-10,  ...,  4.0293e-09,\n",
       "            -2.2218e-09,  3.0257e-09],\n",
       "           [ 8.8020e-09, -4.2929e-08, -5.6002e-09,  ..., -7.6966e-09,\n",
       "            -1.2473e-08,  2.3609e-08],\n",
       "           [ 7.9708e-09, -4.8930e-09,  1.0297e-08,  ..., -3.9250e-08,\n",
       "            -1.8521e-08, -1.1621e-10],\n",
       "           ...,\n",
       "           [-9.2839e-12,  3.6839e-08,  2.6062e-09,  ...,  3.7470e-09,\n",
       "             2.5917e-09, -3.5898e-08],\n",
       "           [-6.1823e-09, -3.6787e-08, -3.0360e-08,  ..., -1.5052e-08,\n",
       "            -1.9077e-08, -5.1827e-08],\n",
       "           [-2.4522e-09,  9.3547e-09, -9.8712e-09,  ..., -7.7699e-09,\n",
       "             3.0547e-09,  7.7570e-10]]], grad_fn=<MulBackward0>),\n",
       "  tensor([[[-6.5055e-10, -1.0597e-09, -3.0488e-09,  ...,  1.5405e-08,\n",
       "            -1.9330e-08, -7.8229e-09],\n",
       "           [-3.4574e-09,  8.0646e-10,  2.3225e-08,  ..., -1.2572e-10,\n",
       "            -1.4749e-08, -3.4387e-08],\n",
       "           [-1.2656e-09,  3.0576e-09, -4.8164e-09,  ...,  2.4973e-08,\n",
       "             5.8730e-08, -5.3039e-08],\n",
       "           ...,\n",
       "           [-1.6832e-08,  2.0075e-09,  3.3106e-09,  ..., -7.5002e-10,\n",
       "            -2.0796e-09,  1.8585e-08],\n",
       "           [ 3.3448e-10,  2.4818e-08, -1.2082e-08,  ...,  1.1665e-08,\n",
       "             1.8227e-08, -1.5085e-08],\n",
       "           [-9.1763e-09,  1.7131e-09, -1.3567e-08,  ..., -2.0880e-09,\n",
       "             1.6505e-09,  1.6912e-10]]], grad_fn=<MulBackward0>),\n",
       "  tensor([[[-5.5312e-06,  3.8343e-07, -1.8433e-06,  ..., -2.2540e-06,\n",
       "             5.1390e-06,  1.9238e-06],\n",
       "           [ 2.7824e-06,  9.7377e-06, -1.8430e-05,  ...,  1.9007e-07,\n",
       "             4.8220e-06, -4.3241e-05],\n",
       "           [ 3.7056e-05,  5.9673e-05,  2.3718e-05,  ...,  2.5248e-05,\n",
       "            -1.5145e-05,  1.5029e-05],\n",
       "           ...,\n",
       "           [ 1.5929e-06, -1.2513e-05,  5.9925e-07,  ...,  3.3158e-06,\n",
       "            -3.2375e-05, -6.3004e-07],\n",
       "           [ 1.4472e-06,  6.7442e-07,  5.9210e-06,  ..., -2.4338e-05,\n",
       "             1.5185e-06,  3.6686e-05],\n",
       "           [-3.5896e-06,  2.2762e-06,  1.0653e-05,  ...,  1.9585e-07,\n",
       "            -8.3519e-08, -2.1735e-06]]], grad_fn=<MulBackward0>),\n",
       "  tensor([[[ 2.3118e-07,  5.7962e-07, -4.8249e-07,  ..., -1.3653e-07,\n",
       "             8.5986e-07,  6.3699e-07],\n",
       "           [-1.8115e-06, -1.6276e-07, -4.8594e-07,  ...,  3.0357e-06,\n",
       "             1.3371e-07, -1.5347e-06],\n",
       "           [-5.7606e-07, -5.7951e-07,  9.7052e-07,  ...,  2.0303e-06,\n",
       "             2.5096e-06,  1.4700e-06],\n",
       "           ...,\n",
       "           [-3.8137e-06,  2.5106e-06,  2.0208e-06,  ...,  3.5945e-07,\n",
       "            -2.1185e-07, -6.2215e-06],\n",
       "           [ 2.7793e-08,  1.0157e-06, -1.5569e-06,  ...,  2.7273e-06,\n",
       "             4.2283e-06,  6.6356e-06],\n",
       "           [ 2.0490e-06,  1.7000e-06,  1.4082e-06,  ...,  1.1938e-07,\n",
       "             1.7300e-07,  1.6515e-07]]], grad_fn=<MulBackward0>),\n",
       "  tensor([[[-7.3555e-07,  2.2199e-07,  6.5078e-10,  ...,  1.2217e-07,\n",
       "             3.7216e-07,  5.0527e-07],\n",
       "           [-1.0553e-07, -9.1816e-07,  3.3362e-07,  ..., -2.5559e-07,\n",
       "             4.1593e-07, -1.8146e-06],\n",
       "           [-2.8418e-06, -1.0617e-06,  3.2342e-07,  ..., -2.7729e-07,\n",
       "             3.2202e-07, -1.7934e-06],\n",
       "           ...,\n",
       "           [-9.7109e-08, -2.5908e-07, -3.6773e-07,  ...,  7.1976e-09,\n",
       "             2.5658e-07, -2.6802e-07],\n",
       "           [ 5.2069e-07, -1.7236e-06, -1.9282e-06,  ...,  7.5425e-07,\n",
       "             9.3190e-07, -3.0148e-07],\n",
       "           [-4.0378e-07,  2.7902e-07, -1.0831e-07,  ..., -1.9978e-07,\n",
       "            -6.4678e-09,  6.7313e-10]]], grad_fn=<MulBackward0>),\n",
       "  tensor([[[-9.3504e-08,  1.9755e-08, -7.1937e-09,  ...,  1.0865e-08,\n",
       "             8.2416e-09, -7.9942e-09],\n",
       "           [-1.7741e-07, -1.2421e-07, -2.1153e-08,  ...,  1.4736e-07,\n",
       "             9.6897e-09,  1.5541e-07],\n",
       "           [-8.7522e-09, -7.9995e-08,  3.0305e-08,  ..., -4.4875e-08,\n",
       "            -1.6825e-08,  1.7500e-07],\n",
       "           ...,\n",
       "           [-2.8803e-07,  6.0324e-08, -3.4816e-08,  ..., -5.0889e-09,\n",
       "            -5.0768e-09, -3.0811e-09],\n",
       "           [-8.6886e-09, -6.5596e-08, -3.8291e-08,  ...,  1.6778e-07,\n",
       "             9.4198e-08, -1.4220e-07],\n",
       "           [-3.3601e-08,  5.2936e-08, -1.4720e-08,  ...,  6.9057e-08,\n",
       "             7.1451e-08, -4.9531e-10]]], grad_fn=<MulBackward0>),\n",
       "  tensor([[[ 5.5007e-08, -8.8013e-09, -7.6056e-09,  ..., -2.8140e-08,\n",
       "            -5.3726e-08,  5.0590e-09],\n",
       "           [ 1.9184e-07,  7.2882e-08,  1.0979e-07,  ...,  4.1709e-08,\n",
       "            -9.2188e-08,  7.1106e-09],\n",
       "           [-5.4178e-07, -3.7334e-07,  3.8706e-08,  ...,  4.4241e-07,\n",
       "            -3.7464e-07, -2.6360e-07],\n",
       "           ...,\n",
       "           [-9.5834e-08,  6.0667e-08,  2.3087e-08,  ..., -5.9926e-08,\n",
       "             5.8851e-08, -8.8234e-08],\n",
       "           [ 4.7714e-08,  3.5109e-07,  9.2112e-07,  ...,  8.2427e-07,\n",
       "             6.8721e-07, -4.6789e-07],\n",
       "           [-3.1819e-08, -8.3680e-08, -1.5539e-07,  ..., -1.1487e-08,\n",
       "             2.4388e-07, -1.0029e-08]]], grad_fn=<MulBackward0>),\n",
       "  tensor([[[-8.6312e-07, -3.1840e-07, -2.2403e-06,  ..., -3.2275e-06,\n",
       "             8.0101e-07,  1.6933e-06],\n",
       "           [ 1.0574e-07,  2.2804e-05, -5.9944e-06,  ..., -1.6715e-05,\n",
       "             2.8728e-07, -2.3185e-05],\n",
       "           [ 6.9614e-06,  2.3460e-05,  2.2542e-05,  ...,  2.3953e-07,\n",
       "            -5.2116e-05,  7.1554e-06],\n",
       "           ...,\n",
       "           [-3.4765e-06, -2.6455e-05, -2.5323e-06,  ...,  4.9976e-06,\n",
       "             5.3878e-05,  2.2862e-06],\n",
       "           [ 4.2608e-06,  8.4501e-06, -6.9151e-07,  ..., -7.1608e-06,\n",
       "            -1.0583e-06, -3.0127e-05],\n",
       "           [ 1.0837e-06, -1.2365e-06,  8.3530e-06,  ...,  6.8448e-07,\n",
       "            -9.0766e-08, -1.3895e-06]]], grad_fn=<MulBackward0>),\n",
       "  tensor([[[-3.9214e-06,  9.6880e-07,  7.1666e-07,  ...,  1.5289e-06,\n",
       "            -2.5494e-06, -1.8143e-06],\n",
       "           [-9.9171e-07,  9.2539e-07, -7.4331e-07,  ..., -2.3507e-07,\n",
       "            -1.4838e-06,  2.0871e-06],\n",
       "           [-7.9083e-06, -3.2237e-06, -2.8525e-05,  ..., -1.9982e-06,\n",
       "            -1.4482e-05,  4.7610e-06],\n",
       "           ...,\n",
       "           [ 2.8160e-06,  4.9542e-06, -2.9337e-06,  ..., -4.3989e-08,\n",
       "             9.9386e-08,  2.3912e-07],\n",
       "           [ 4.0301e-07, -6.7178e-07,  3.2853e-06,  ...,  3.7303e-06,\n",
       "            -7.3685e-06, -3.3704e-06],\n",
       "           [-3.7494e-07,  8.0611e-07, -3.8387e-06,  ..., -2.9709e-07,\n",
       "             1.5628e-06,  1.0672e-06]]], grad_fn=<MulBackward0>),\n",
       "  tensor([[[-1.0750e-07, -3.0217e-09,  1.4053e-09,  ..., -6.2487e-10,\n",
       "            -5.6338e-08, -2.2618e-08],\n",
       "           [-6.0008e-08,  1.9342e-07,  1.5434e-07,  ..., -3.2256e-08,\n",
       "             1.2437e-07, -3.3175e-07],\n",
       "           [ 5.5034e-10,  1.4651e-07, -1.5371e-08,  ...,  4.3497e-08,\n",
       "             5.1497e-08,  1.4039e-07],\n",
       "           ...,\n",
       "           [ 8.2983e-09, -3.1990e-07, -1.2233e-07,  ...,  1.3132e-07,\n",
       "            -3.5939e-07,  2.2638e-07],\n",
       "           [ 1.3962e-08,  2.0569e-08,  5.7586e-10,  ..., -1.0074e-07,\n",
       "            -3.3596e-07, -5.6252e-07],\n",
       "           [-5.7102e-08,  3.1870e-09, -5.9775e-09,  ...,  7.6058e-10,\n",
       "             1.1733e-07,  6.1234e-08]]], grad_fn=<MulBackward0>),\n",
       "  tensor([[[ 3.2595e-08,  2.5587e-08, -3.5341e-08,  ..., -6.9639e-08,\n",
       "             2.7673e-08,  2.7996e-08],\n",
       "           [-2.0004e-07,  9.9967e-08, -4.8568e-09,  ...,  7.7310e-08,\n",
       "            -3.0958e-08, -4.7508e-08],\n",
       "           [-6.6931e-09,  1.1499e-08, -1.5060e-07,  ..., -2.9144e-08,\n",
       "             7.3262e-09,  9.1877e-08],\n",
       "           ...,\n",
       "           [-5.9998e-08,  3.2788e-07, -9.0542e-07,  ...,  2.0622e-07,\n",
       "             4.6883e-08,  1.1601e-06],\n",
       "           [ 1.4705e-08,  3.7217e-07,  4.4288e-08,  ..., -6.6474e-07,\n",
       "             5.9523e-07, -9.7226e-08],\n",
       "           [-2.9163e-07,  3.6833e-07,  2.2802e-07,  ..., -5.1998e-08,\n",
       "             4.8162e-08,  9.1634e-09]]], grad_fn=<MulBackward0>),\n",
       "  tensor([[[-5.0377e-06,  8.4704e-07, -6.5026e-07,  ..., -4.4406e-07,\n",
       "            -6.1773e-06, -1.5791e-06],\n",
       "           [-1.2016e-05,  2.8325e-07, -5.1106e-05,  ...,  5.3213e-05,\n",
       "             8.2885e-05,  2.9781e-05],\n",
       "           [ 2.9160e-06,  8.8704e-06,  2.3744e-08,  ..., -2.1300e-06,\n",
       "             1.2169e-06, -4.6755e-06],\n",
       "           ...,\n",
       "           [-5.8973e-08,  3.1636e-06,  3.1231e-08,  ...,  4.4157e-07,\n",
       "             1.6434e-06, -8.4818e-06],\n",
       "           [ 1.9883e-07,  3.2580e-05, -2.1118e-05,  ..., -2.5946e-06,\n",
       "             1.7440e-05,  6.3728e-05],\n",
       "           [-5.5205e-06,  5.1136e-06,  3.8258e-06,  ...,  1.1377e-05,\n",
       "            -3.5294e-06,  2.0410e-06]]], grad_fn=<MulBackward0>),\n",
       "  tensor([[[ 5.6251e-06,  2.3377e-06,  3.8933e-07,  ...,  1.7404e-05,\n",
       "             2.1585e-06,  8.7828e-07],\n",
       "           [-2.6207e-06, -1.8763e-06, -2.3086e-05,  ...,  7.9707e-06,\n",
       "             5.2706e-07, -4.5713e-05],\n",
       "           [-1.3773e-05, -5.0484e-05,  1.6372e-06,  ..., -1.1080e-05,\n",
       "             7.4766e-06,  6.9244e-05],\n",
       "           [-7.0422e-06, -8.9432e-06,  4.6933e-06,  ..., -2.8038e-05,\n",
       "            -7.4089e-06, -4.4729e-05],\n",
       "           [-1.7833e-07,  8.5863e-06, -7.7125e-06,  ...,  2.0405e-05,\n",
       "             8.2406e-06,  2.7895e-05],\n",
       "           [-2.3384e-06,  7.3864e-06,  2.8627e-06,  ..., -1.6541e-05,\n",
       "             2.2789e-06, -3.7055e-07]]], grad_fn=<MulBackward0>),\n",
       "  tensor([[[-3.0471e-05,  2.6636e-06, -3.6813e-05,  ..., -2.2909e-05,\n",
       "            -8.5666e-05,  6.3190e-05],\n",
       "           [-1.0098e-05, -7.1079e-04, -1.5776e-04,  ..., -1.3338e-04,\n",
       "            -2.2354e-05,  2.4005e-04],\n",
       "           [-1.9727e-03, -1.2907e-03, -1.0510e-05,  ...,  2.0922e-03,\n",
       "             7.7928e-04,  6.8690e-04],\n",
       "           [-2.1118e-05, -2.2994e-05, -1.0374e-04,  ..., -2.9971e-04,\n",
       "             5.0728e-04,  7.4977e-04],\n",
       "           [-3.8787e-06,  3.0947e-04, -8.9032e-05,  ..., -1.3778e-03,\n",
       "            -9.7428e-04, -2.1916e-03],\n",
       "           [-2.9613e-04, -8.1220e-04,  1.0052e-04,  ..., -1.4378e-05,\n",
       "            -2.2745e-04,  6.0811e-05]]], grad_fn=<MulBackward0>),\n",
       "  tensor([[[ 3.6171e-08,  3.0178e-08,  1.0733e-07,  ...,  3.9930e-08,\n",
       "            -1.6053e-07, -2.1057e-07],\n",
       "           [-1.4556e-07,  4.4314e-07,  2.7825e-09,  ...,  1.7530e-06,\n",
       "            -4.8369e-07, -1.2570e-07],\n",
       "           [-6.0174e-08, -4.6178e-08, -3.3409e-07,  ..., -4.5953e-07,\n",
       "            -9.8207e-08, -7.2937e-09],\n",
       "           ...,\n",
       "           [-1.0500e-07,  1.2136e-07,  1.6739e-07,  ...,  7.1777e-08,\n",
       "            -1.2148e-07,  3.4828e-07],\n",
       "           [ 1.7168e-07, -1.9646e-07,  2.0479e-09,  ...,  4.9341e-07,\n",
       "             3.3242e-07, -3.3778e-07],\n",
       "           [-2.5740e-08,  4.9087e-08, -4.4520e-08,  ..., -4.7310e-08,\n",
       "             1.6150e-07,  2.8082e-08]]], grad_fn=<MulBackward0>),\n",
       "  tensor([[[-4.5256e-06, -1.0444e-06, -2.4994e-07,  ...,  1.0747e-06,\n",
       "            -8.5389e-07,  9.5323e-07],\n",
       "           [-4.3976e-07, -2.3690e-07,  6.0100e-09,  ...,  4.8456e-06,\n",
       "             5.3491e-08, -2.2649e-06],\n",
       "           [ 1.9206e-06, -3.0889e-06, -7.7855e-07,  ..., -8.8505e-07,\n",
       "            -1.1727e-06,  1.1695e-06],\n",
       "           ...,\n",
       "           [-1.1625e-07,  9.0548e-06,  6.6220e-07,  ...,  1.2660e-08,\n",
       "             6.2420e-06, -3.6002e-06],\n",
       "           [ 2.1027e-07, -1.7845e-05, -5.7832e-06,  ...,  7.6312e-07,\n",
       "             3.4604e-06,  5.7940e-06],\n",
       "           [-1.1813e-07,  1.1003e-06,  3.5989e-06,  ...,  1.9563e-06,\n",
       "            -2.0328e-06, -2.3739e-08]]], grad_fn=<MulBackward0>),\n",
       "  tensor([[[-8.7713e-08,  9.9137e-09,  3.6549e-08,  ..., -3.9378e-08,\n",
       "             7.1528e-09, -5.3981e-08],\n",
       "           [ 4.8598e-08,  7.2525e-08,  4.3795e-08,  ...,  2.3617e-07,\n",
       "             2.8151e-08,  6.0834e-08],\n",
       "           [ 3.2819e-08,  4.5105e-08, -8.7473e-08,  ..., -2.4546e-07,\n",
       "             8.2873e-08, -1.3452e-08],\n",
       "           ...,\n",
       "           [ 3.6106e-09,  1.7198e-08, -6.2603e-08,  ..., -1.9475e-08,\n",
       "            -1.8912e-08,  1.1690e-09],\n",
       "           [ 5.0320e-09,  8.4664e-07, -1.5465e-07,  ..., -3.3619e-07,\n",
       "            -1.8907e-08,  5.4335e-07],\n",
       "           [ 1.0151e-07, -3.1499e-08,  3.3180e-09,  ..., -3.2703e-09,\n",
       "             2.8332e-09,  1.7950e-08]]], grad_fn=<MulBackward0>),\n",
       "  tensor([[[-1.6287e-04,  2.9652e-05,  3.1564e-05,  ...,  1.3700e-05,\n",
       "             1.6531e-04,  5.8163e-05],\n",
       "           [ 1.4070e-05, -3.3444e-04, -1.4291e-04,  ...,  3.4904e-05,\n",
       "            -1.5724e-04,  7.5091e-04],\n",
       "           [ 7.1791e-05,  1.2171e-04, -8.3625e-05,  ..., -3.9587e-04,\n",
       "            -4.1984e-05, -1.2102e-04],\n",
       "           ...,\n",
       "           [ 5.1756e-04, -2.1172e-04, -4.9364e-05,  ..., -1.2169e-04,\n",
       "             6.3384e-05, -4.0927e-05],\n",
       "           [-1.3364e-05, -2.9783e-04,  3.2908e-05,  ..., -6.2789e-05,\n",
       "             2.7243e-04, -3.4433e-04],\n",
       "           [-9.9133e-05, -1.0184e-04,  2.6510e-05,  ...,  1.0033e-04,\n",
       "            -9.2784e-05, -2.6810e-05]]], grad_fn=<MulBackward0>),\n",
       "  tensor([[[-7.9515e-05,  2.0544e-06, -1.4830e-05,  ...,  2.7895e-05,\n",
       "             4.9882e-06,  5.3805e-06],\n",
       "           [ 1.2821e-05,  1.0530e-06, -2.1905e-05,  ...,  1.5647e-07,\n",
       "             1.0049e-05, -2.1916e-05],\n",
       "           [ 9.7663e-06, -3.3051e-06, -1.1228e-05,  ...,  6.0486e-05,\n",
       "             1.2895e-05, -2.6991e-05],\n",
       "           ...,\n",
       "           [-6.0941e-05,  3.3708e-05, -3.9151e-05,  ...,  1.2723e-05,\n",
       "             1.4412e-04, -2.0305e-05],\n",
       "           [ 5.2517e-06, -5.0746e-05,  3.7582e-05,  ...,  1.0634e-04,\n",
       "             2.3614e-05,  1.0974e-05],\n",
       "           [-1.0543e-05, -2.4790e-05, -2.0958e-05,  ..., -3.8401e-05,\n",
       "            -2.0069e-05, -1.4123e-06]]], grad_fn=<MulBackward0>),\n",
       "  tensor([[[ 5.8706e-06,  7.7976e-07, -4.5788e-06,  ..., -9.4009e-07,\n",
       "            -3.9720e-06,  8.9392e-06],\n",
       "           [-1.3153e-05, -2.0172e-05, -3.0432e-05,  ..., -3.2823e-06,\n",
       "            -5.1615e-06, -4.9006e-05],\n",
       "           [-1.9823e-07,  1.7401e-06, -2.8915e-06,  ...,  6.5301e-06,\n",
       "            -3.1859e-06,  1.8230e-05],\n",
       "           ...,\n",
       "           [ 4.4310e-05,  1.3317e-05, -2.4152e-05,  ..., -1.0488e-04,\n",
       "            -5.0143e-05,  2.4040e-05],\n",
       "           [ 1.3512e-06, -1.8867e-05, -1.3000e-05,  ...,  1.1880e-05,\n",
       "            -4.2717e-05, -5.4555e-05],\n",
       "           [-1.5390e-06, -6.6464e-06,  1.3946e-05,  ...,  3.4961e-08,\n",
       "            -4.2965e-06, -1.5073e-07]]], grad_fn=<MulBackward0>),\n",
       "  tensor([[[ 1.2228e-08,  6.7680e-09,  7.9804e-09,  ...,  1.4521e-08,\n",
       "            -3.1820e-09, -8.9847e-09],\n",
       "           [-4.7271e-10, -9.0357e-08, -1.0886e-08,  ..., -9.0251e-09,\n",
       "             2.0697e-08,  8.7414e-08],\n",
       "           [-8.6893e-08,  5.5172e-09,  3.4741e-08,  ...,  1.5566e-08,\n",
       "            -1.2208e-08,  2.3037e-07],\n",
       "           ...,\n",
       "           [ 1.9896e-07, -4.2396e-09, -4.1526e-10,  ..., -9.3256e-09,\n",
       "            -1.7397e-08,  3.3499e-09],\n",
       "           [ 6.8761e-08,  4.2970e-07,  2.5439e-08,  ...,  1.4251e-07,\n",
       "             1.5705e-07,  3.1897e-07],\n",
       "           [-2.9298e-10,  8.7315e-09,  1.8096e-08,  ...,  1.0239e-11,\n",
       "            -2.3933e-09,  5.3027e-09]]], grad_fn=<MulBackward0>),\n",
       "  tensor([[[ 0.0130,  0.0029,  0.0074,  ..., -0.0039, -0.0123,  0.0008],\n",
       "           [ 0.0038, -0.0044, -0.0189,  ..., -0.0069, -0.0006,  0.0437],\n",
       "           [-0.0064, -0.0095,  0.0106,  ..., -0.0049,  0.0295,  0.0005],\n",
       "           ...,\n",
       "           [ 0.0234, -0.0197,  0.0005,  ...,  0.0090,  0.0216, -0.0201],\n",
       "           [ 0.0020, -0.0575, -0.0312,  ...,  0.0149,  0.0279,  0.0191],\n",
       "           [-0.0114, -0.0109, -0.0167,  ...,  0.0061, -0.0029,  0.0049]]],\n",
       "         grad_fn=<MulBackward0>),\n",
       "  tensor([[[-5.7407e-06, -2.0194e-07, -6.4312e-07,  ...,  9.3982e-07,\n",
       "            -2.8383e-06,  1.5258e-06],\n",
       "           [-2.0788e-06,  2.8253e-05,  1.2080e-05,  ..., -3.3351e-06,\n",
       "            -7.0976e-06, -5.2086e-06],\n",
       "           [-2.2385e-05, -3.2617e-06,  4.2858e-07,  ..., -1.4468e-07,\n",
       "             4.7353e-07, -4.0278e-06],\n",
       "           [-2.4417e-06,  8.8780e-06,  2.4559e-05,  ...,  1.4378e-05,\n",
       "             4.8334e-07, -4.8184e-06],\n",
       "           [-6.1023e-06, -5.0401e-07,  1.6940e-06,  ..., -2.1054e-06,\n",
       "             3.0787e-06,  4.6885e-07]]], grad_fn=<MulBackward0>),\n",
       "  tensor([[[-2.5462e-05,  5.3266e-06,  6.2996e-06,  ...,  1.0478e-05,\n",
       "            -7.7805e-06, -3.9583e-06],\n",
       "           [-1.1779e-06, -9.1612e-06,  1.4736e-07,  ..., -2.1611e-06,\n",
       "            -7.3429e-07,  1.7515e-05],\n",
       "           [ 3.0052e-05, -3.0634e-05,  5.1650e-05,  ..., -1.3662e-05,\n",
       "             1.1672e-04,  1.8518e-05],\n",
       "           ...,\n",
       "           [ 1.7814e-06, -3.5970e-07, -2.5551e-06,  ..., -1.8585e-05,\n",
       "            -5.4844e-06, -6.0702e-06],\n",
       "           [-1.2946e-08,  2.6003e-05,  3.2554e-06,  ...,  5.2222e-06,\n",
       "            -1.5498e-05, -6.1524e-06],\n",
       "           [-1.9402e-06, -4.4476e-06,  3.5434e-06,  ...,  2.6893e-07,\n",
       "             1.5883e-05, -1.9620e-06]]], grad_fn=<MulBackward0>),\n",
       "  tensor([[[-2.3906e-04,  6.2756e-06, -4.6716e-05,  ...,  3.2082e-04,\n",
       "            -7.3511e-05,  1.3349e-04],\n",
       "           [-4.7218e-05, -1.1666e-04,  8.1553e-04,  ..., -7.6790e-05,\n",
       "            -1.0381e-04,  1.0186e-03],\n",
       "           [ 1.3010e-04,  1.5125e-04, -4.0030e-05,  ...,  4.0982e-05,\n",
       "            -1.3638e-04, -9.3054e-04],\n",
       "           ...,\n",
       "           [-4.3372e-04, -8.4975e-04, -5.0963e-05,  ..., -2.5341e-07,\n",
       "             1.3449e-05, -1.3008e-04],\n",
       "           [-2.5688e-05,  1.4564e-04, -1.3051e-05,  ...,  2.9790e-04,\n",
       "             2.4028e-04,  6.5750e-04],\n",
       "           [ 2.7122e-05,  4.0150e-05,  8.9066e-05,  ..., -5.2223e-05,\n",
       "            -8.4074e-05,  2.8658e-05]]], grad_fn=<MulBackward0>),\n",
       "  tensor([[[ 1.6212e-07,  1.0220e-07,  2.2536e-08,  ...,  5.3044e-07,\n",
       "            -1.4420e-07,  3.8088e-08],\n",
       "           [-1.1767e-07,  4.2483e-07,  3.7862e-07,  ..., -1.0766e-06,\n",
       "            -7.8329e-07, -1.4869e-07],\n",
       "           [-2.1684e-06,  2.6292e-06,  5.7160e-07,  ..., -1.9625e-07,\n",
       "             2.8004e-07,  1.8858e-07],\n",
       "           [ 4.5482e-06,  2.3260e-07,  1.4174e-06,  ...,  4.2475e-06,\n",
       "            -2.6836e-07,  2.1969e-07],\n",
       "           [ 1.0452e-08, -6.1703e-07, -4.5992e-07,  ..., -4.0517e-07,\n",
       "             7.8233e-07,  3.1294e-06],\n",
       "           [ 2.0117e-07,  2.0709e-07,  3.3776e-07,  ..., -2.4887e-07,\n",
       "            -7.5238e-07, -1.1427e-07]]], grad_fn=<MulBackward0>),\n",
       "  tensor([[[ 8.1233e-07,  3.5675e-07, -1.3459e-07,  ...,  6.5537e-07,\n",
       "             1.1741e-06, -1.0380e-07],\n",
       "           [ 1.9075e-06,  6.0368e-08, -2.3431e-06,  ..., -1.6006e-06,\n",
       "            -7.8144e-08, -6.2185e-06],\n",
       "           [ 2.4178e-07,  7.4917e-07, -1.2380e-07,  ...,  1.9290e-08,\n",
       "             3.9170e-06, -1.0011e-06],\n",
       "           ...,\n",
       "           [ 1.9686e-07, -4.3334e-10,  2.6329e-07,  ...,  3.0144e-08,\n",
       "             6.6999e-07,  4.7827e-08],\n",
       "           [ 3.2737e-07, -3.2344e-07,  1.7308e-07,  ...,  5.5909e-07,\n",
       "             1.0931e-07, -9.1250e-07],\n",
       "           [-4.3716e-08, -4.4398e-07,  3.1586e-07,  ..., -7.0092e-07,\n",
       "             1.1770e-06, -4.5214e-07]]], grad_fn=<MulBackward0>),\n",
       "  tensor([[[-4.7301e-07, -2.3151e-08, -7.3876e-08,  ..., -2.4582e-07,\n",
       "            -2.5741e-08,  2.0555e-07],\n",
       "           [-2.1513e-07, -8.6863e-09,  4.0345e-08,  ...,  1.3960e-08,\n",
       "             3.6625e-07, -2.5543e-08],\n",
       "           [ 3.7194e-07,  7.4784e-09, -2.5124e-07,  ...,  1.0678e-07,\n",
       "             4.4461e-09, -1.7959e-07],\n",
       "           ...,\n",
       "           [ 9.4588e-08, -2.9849e-07, -2.9080e-09,  ..., -5.2858e-08,\n",
       "            -4.6421e-07,  3.0110e-08],\n",
       "           [-1.4998e-08, -8.5583e-07, -2.8919e-07,  ...,  3.9135e-07,\n",
       "            -3.5805e-07, -3.6132e-07],\n",
       "           [ 2.5731e-07,  7.1294e-08,  7.4493e-08,  ..., -1.1243e-07,\n",
       "            -3.7405e-07,  5.0714e-08]]], grad_fn=<MulBackward0>),\n",
       "  tensor([[[-3.1102e-06,  3.8803e-06, -3.0337e-06,  ...,  7.1736e-06,\n",
       "            -9.4918e-07, -9.0906e-08],\n",
       "           [-1.2019e-05, -8.8089e-06,  5.6387e-06,  ...,  5.4116e-07,\n",
       "             9.1270e-06,  5.8131e-05],\n",
       "           [ 3.9239e-07,  4.3068e-05, -4.0439e-06,  ..., -2.2173e-06,\n",
       "             1.6834e-06,  8.4772e-06],\n",
       "           ...,\n",
       "           [-1.2163e-05,  5.0976e-06, -2.9808e-06,  ...,  7.1562e-07,\n",
       "            -1.0748e-05,  1.8565e-07],\n",
       "           [ 2.1915e-07, -2.6783e-05,  7.8549e-07,  ...,  6.1144e-06,\n",
       "            -1.1485e-05,  1.1549e-05],\n",
       "           [-3.8469e-09,  2.7983e-06,  3.4995e-06,  ..., -6.3908e-06,\n",
       "             1.1767e-06, -1.0649e-06]]], grad_fn=<MulBackward0>),\n",
       "  tensor([[[-1.3852e-05, -1.4021e-06, -3.6339e-06,  ..., -1.7428e-05,\n",
       "            -1.2048e-06, -6.7304e-06],\n",
       "           [ 2.4336e-05,  2.7597e-05, -1.5377e-06,  ..., -1.2652e-05,\n",
       "             1.1525e-06,  1.8972e-05],\n",
       "           [-1.1663e-05, -1.0630e-04,  8.1031e-07,  ...,  2.9921e-05,\n",
       "            -5.5399e-07,  3.8310e-05],\n",
       "           ...,\n",
       "           [-5.0184e-05, -7.4452e-07, -2.5447e-05,  ...,  5.1458e-05,\n",
       "            -2.3171e-06,  6.2746e-06],\n",
       "           [-2.4910e-06, -7.9400e-05, -4.6141e-05,  ...,  1.9972e-05,\n",
       "             3.6663e-05, -7.7903e-05],\n",
       "           [ 1.9697e-06, -1.9902e-05,  1.0449e-05,  ...,  7.4658e-07,\n",
       "            -8.5538e-06,  5.9280e-07]]], grad_fn=<MulBackward0>),\n",
       "  tensor([[[-2.1017e-06,  1.8925e-06,  2.7876e-06,  ..., -1.3891e-06,\n",
       "            -3.0354e-06, -2.1193e-07],\n",
       "           [-2.1943e-06,  2.7633e-06,  4.3099e-08,  ...,  7.5035e-07,\n",
       "            -1.3416e-06, -8.6141e-06],\n",
       "           [-3.6434e-05, -4.1915e-06, -3.8581e-06,  ..., -2.0606e-06,\n",
       "             8.0072e-06,  3.5845e-06],\n",
       "           [ 1.2384e-06,  1.7072e-06, -6.4110e-06,  ...,  1.4291e-07,\n",
       "            -1.5833e-06, -1.2833e-06],\n",
       "           [ 8.7830e-08, -4.1761e-06,  1.4058e-06,  ..., -5.2383e-06,\n",
       "             1.6184e-05,  3.1380e-05],\n",
       "           [ 4.2683e-07,  1.8445e-06, -2.7796e-06,  ...,  4.0999e-06,\n",
       "            -4.6477e-06, -2.5355e-07]]], grad_fn=<MulBackward0>),\n",
       "  tensor([[[ 5.2600e-09, -1.7101e-10, -5.8770e-09,  ...,  1.8335e-08,\n",
       "             3.2823e-09,  4.8544e-09],\n",
       "           [ 1.1668e-07,  1.0181e-07, -1.4455e-08,  ...,  2.6924e-08,\n",
       "            -7.2379e-09, -2.0239e-07],\n",
       "           [-3.0325e-07, -6.6829e-08,  4.3172e-09,  ..., -4.6043e-08,\n",
       "             2.4931e-07,  3.7832e-07],\n",
       "           ...,\n",
       "           [-3.7411e-08, -1.5688e-09, -2.9644e-09,  ...,  1.3231e-07,\n",
       "            -1.8268e-10,  3.5599e-08],\n",
       "           [ 4.4081e-09, -6.6605e-08, -2.8797e-08,  ...,  1.3427e-07,\n",
       "             4.8859e-08,  3.8738e-07],\n",
       "           [-1.2781e-08,  1.8500e-09,  2.2964e-08,  ...,  1.1223e-08,\n",
       "            -4.4037e-08,  4.9858e-09]]], grad_fn=<MulBackward0>),\n",
       "  tensor([[[ 2.3640e-08, -1.8476e-09,  1.0389e-09,  ...,  1.3336e-09,\n",
       "             7.8474e-09,  2.4151e-09],\n",
       "           [-2.1342e-08, -8.4045e-09,  2.8673e-08,  ..., -5.1703e-10,\n",
       "            -3.6388e-09, -2.3832e-08],\n",
       "           [-1.1744e-08, -2.0521e-10,  7.1520e-09,  ...,  5.6635e-08,\n",
       "             1.2906e-09,  1.2026e-08],\n",
       "           ...,\n",
       "           [ 1.3772e-09, -9.1080e-09, -4.8404e-08,  ..., -6.8471e-09,\n",
       "            -1.1114e-09,  3.3796e-09],\n",
       "           [-4.0647e-09, -5.4692e-08,  1.6711e-07,  ...,  1.1244e-07,\n",
       "            -2.0314e-07, -3.4690e-07],\n",
       "           [-3.7611e-09,  1.4374e-08, -3.9391e-08,  ..., -4.2543e-08,\n",
       "             7.0287e-10, -1.2027e-09]]], grad_fn=<MulBackward0>),\n",
       "  tensor([[[-2.3546e-07,  3.8184e-08, -3.8026e-08,  ...,  1.3918e-08,\n",
       "            -4.1427e-07,  5.5845e-08],\n",
       "           [ 3.3480e-07,  5.8656e-07, -5.6302e-07,  ...,  2.1193e-07,\n",
       "            -4.6619e-07, -9.0554e-07],\n",
       "           [ 1.4807e-07,  1.3866e-07,  1.8724e-07,  ...,  9.1694e-09,\n",
       "            -1.8115e-07, -2.0598e-06],\n",
       "           ...,\n",
       "           [-3.7655e-07, -4.6597e-07, -5.3212e-08,  ...,  2.7188e-08,\n",
       "            -2.4067e-08,  3.1358e-07],\n",
       "           [ 2.2352e-08,  7.3467e-07, -9.7948e-08,  ..., -1.3809e-07,\n",
       "             6.5231e-08, -5.6993e-07],\n",
       "           [-1.0341e-07,  1.2103e-07, -7.3838e-08,  ...,  4.2824e-08,\n",
       "            -3.8653e-08, -1.7353e-08]]], grad_fn=<MulBackward0>),\n",
       "  tensor([[[-1.1379e-06, -1.2068e-07, -3.2472e-07,  ..., -1.6215e-07,\n",
       "             1.0031e-06,  8.2009e-07],\n",
       "           [-5.0444e-07, -1.3690e-06, -3.9189e-07,  ...,  4.7315e-09,\n",
       "             4.0601e-07,  2.0197e-06],\n",
       "           [ 1.2968e-06, -2.4534e-07,  1.5625e-07,  ..., -2.9211e-07,\n",
       "            -3.5469e-08,  1.7235e-06],\n",
       "           ...,\n",
       "           [-7.7604e-07,  2.9662e-06, -1.7982e-07,  ...,  1.4255e-06,\n",
       "             8.2738e-07, -5.1341e-07],\n",
       "           [-5.9532e-07, -2.4483e-06,  2.4487e-06,  ...,  6.2743e-07,\n",
       "             2.4739e-06,  3.1528e-06],\n",
       "           [-1.9278e-06, -8.3706e-07,  1.4592e-09,  ...,  1.8285e-06,\n",
       "            -3.5977e-07,  2.8550e-07]]], grad_fn=<MulBackward0>),\n",
       "  tensor([[[-2.6112e-06,  2.8403e-08,  2.1863e-08,  ..., -9.7159e-08,\n",
       "             5.0585e-07, -1.4629e-07],\n",
       "           [-1.4720e-06, -1.5518e-06, -1.8866e-08,  ..., -1.0167e-06,\n",
       "            -2.2907e-07, -6.0814e-06],\n",
       "           [-8.3918e-08,  5.3952e-07, -7.3944e-07,  ...,  1.2083e-06,\n",
       "             8.2907e-07, -8.0830e-07],\n",
       "           ...,\n",
       "           [-2.8034e-06, -2.0691e-06, -3.4081e-06,  ...,  5.6108e-07,\n",
       "            -4.1211e-06, -3.4504e-06],\n",
       "           [-9.8401e-08, -9.4897e-06, -3.3140e-06,  ..., -9.7502e-07,\n",
       "            -3.6088e-06,  8.3584e-07],\n",
       "           [ 6.4243e-07,  8.0835e-07, -4.4817e-07,  ...,  9.0005e-07,\n",
       "            -2.7385e-07,  4.9794e-08]]], grad_fn=<MulBackward0>),\n",
       "  tensor([[[-7.3300e-06,  1.0961e-06, -5.3869e-07,  ...,  2.6517e-06,\n",
       "            -3.5547e-06, -1.7755e-06],\n",
       "           [ 2.7123e-06, -1.6186e-06, -6.1918e-06,  ...,  1.7304e-06,\n",
       "             3.6598e-06, -3.2227e-06],\n",
       "           [ 7.4711e-06,  1.9114e-05, -5.6694e-05,  ..., -3.3758e-05,\n",
       "             3.8238e-05,  1.2114e-05],\n",
       "           ...,\n",
       "           [-4.2373e-06, -1.7629e-05,  7.4338e-07,  ...,  1.0663e-06,\n",
       "            -8.1727e-10,  2.9165e-05],\n",
       "           [-6.7751e-07,  1.9615e-05, -8.0838e-06,  ...,  1.1537e-05,\n",
       "            -5.2330e-06,  1.4175e-05],\n",
       "           [ 6.6647e-07,  9.7302e-07, -9.5802e-07,  ..., -2.4154e-06,\n",
       "             1.6738e-06, -5.7451e-07]]], grad_fn=<MulBackward0>),\n",
       "  tensor([[[-2.6257e-08,  7.7116e-09, -1.0416e-09,  ..., -1.3192e-08,\n",
       "            -4.2411e-10,  1.1172e-09],\n",
       "           [-8.9414e-09,  4.3651e-10, -4.9211e-10,  ..., -9.5609e-08,\n",
       "             5.4588e-10, -6.1026e-10],\n",
       "           [ 4.1106e-08, -9.9707e-09,  1.6713e-08,  ...,  7.3245e-09,\n",
       "             1.5977e-08,  1.5547e-07],\n",
       "           ...,\n",
       "           [ 1.9126e-08,  2.1937e-07,  9.9673e-09,  ..., -8.3933e-09,\n",
       "            -9.1589e-08,  5.8177e-08],\n",
       "           [ 4.5335e-09,  2.0945e-06, -4.0621e-07,  ..., -4.7616e-08,\n",
       "             1.7327e-07,  1.0156e-06],\n",
       "           [-4.0906e-08, -5.0976e-09, -4.2238e-08,  ..., -9.4944e-09,\n",
       "            -4.6033e-09, -2.7156e-08]]], grad_fn=<MulBackward0>),\n",
       "  tensor([[[-6.5953e-08, -2.7673e-09,  8.9647e-09,  ..., -1.1402e-08,\n",
       "             9.0096e-09, -8.8145e-10],\n",
       "           [ 3.2477e-09,  3.6114e-08,  6.3677e-08,  ...,  1.9265e-10,\n",
       "            -7.7757e-09,  7.2521e-08],\n",
       "           [ 2.0597e-09,  3.3575e-08,  1.5088e-09,  ...,  1.5324e-08,\n",
       "             5.2630e-08,  1.2432e-08],\n",
       "           ...,\n",
       "           [ 6.0383e-08,  2.6408e-08, -5.7927e-09,  ..., -3.3663e-08,\n",
       "             1.4420e-07, -3.0611e-08],\n",
       "           [ 5.2888e-10, -1.7614e-07,  8.6661e-08,  ..., -3.4061e-09,\n",
       "             3.1421e-08,  8.4327e-08],\n",
       "           [ 3.8413e-09,  1.0398e-08, -3.5464e-08,  ...,  8.5931e-08,\n",
       "             4.5176e-08,  1.7237e-08]]], grad_fn=<MulBackward0>),\n",
       "  tensor([[[-3.9305e-06,  7.5265e-08,  7.7941e-07,  ..., -1.1043e-06,\n",
       "             1.9679e-06,  5.6617e-07],\n",
       "           [ 1.3876e-06,  3.8676e-06, -1.1395e-06,  ..., -4.1146e-07,\n",
       "            -5.0432e-08, -9.4762e-06],\n",
       "           [ 8.0593e-09, -6.2169e-07,  1.5059e-06,  ..., -1.6518e-07,\n",
       "            -3.0585e-06,  2.5185e-07],\n",
       "           ...,\n",
       "           [ 2.2656e-05,  5.8059e-06, -7.8000e-06,  ..., -1.4566e-06,\n",
       "            -4.8279e-06,  5.3860e-07],\n",
       "           [-1.9450e-08, -4.0930e-06, -2.8596e-06,  ..., -1.8089e-06,\n",
       "            -6.8850e-07,  1.4224e-05],\n",
       "           [-5.7263e-08, -3.9156e-07, -2.8150e-06,  ..., -5.7924e-08,\n",
       "            -8.2288e-07, -7.4703e-07]]], grad_fn=<MulBackward0>),\n",
       "  tensor([[[ 2.5441e-06, -2.4710e-07, -8.3578e-07,  ...,  5.9319e-07,\n",
       "             2.9175e-06,  2.7025e-07],\n",
       "           [-2.1085e-05,  2.4108e-06,  8.5183e-06,  ..., -2.7719e-07,\n",
       "            -2.5661e-07, -2.2482e-06],\n",
       "           [-2.6266e-07,  1.2152e-06,  1.3219e-06,  ..., -6.6582e-08,\n",
       "            -2.2002e-07,  1.8362e-07],\n",
       "           [-6.0535e-06,  8.5288e-07,  4.1058e-06,  ..., -6.8935e-09,\n",
       "            -2.7899e-06, -5.2611e-06],\n",
       "           [-3.5941e-08,  2.1936e-07,  5.0943e-07,  ..., -5.3513e-06,\n",
       "             3.5870e-06,  1.5435e-05],\n",
       "           [ 7.6126e-07,  1.2690e-06, -4.0003e-07,  ..., -4.5451e-06,\n",
       "             1.0812e-07, -7.0508e-07]]], grad_fn=<MulBackward0>),\n",
       "  tensor([[[-1.3481e-09,  2.2382e-09,  1.5592e-09,  ...,  2.0524e-09,\n",
       "            -2.5856e-11, -3.6501e-09],\n",
       "           [-3.4840e-09, -4.3973e-11, -2.0970e-09,  ..., -9.0480e-09,\n",
       "            -4.8814e-09, -5.9585e-12],\n",
       "           [-7.2976e-09, -3.4434e-08,  5.2772e-10,  ..., -7.7204e-09,\n",
       "             1.3408e-08,  3.2275e-09],\n",
       "           ...,\n",
       "           [-3.7029e-09,  2.1957e-08, -2.6070e-09,  ...,  7.5598e-09,\n",
       "            -5.0261e-09,  2.3994e-09],\n",
       "           [-1.2968e-09, -1.1180e-08, -2.5112e-08,  ..., -4.5914e-09,\n",
       "             5.2180e-08,  8.4512e-08],\n",
       "           [ 1.7918e-08, -3.1814e-09,  1.6104e-08,  ..., -4.9872e-09,\n",
       "             1.8704e-09,  1.2411e-09]]], grad_fn=<MulBackward0>)],\n",
       " 'conti_attr_list': [tensor([-0.1355, -0.4504,  0.7487, -0.4631, -0.0609]),\n",
       "  tensor([ 0.0273,  0.3833, -0.4830, -0.1226]),\n",
       "  tensor([ 0.2290, -0.3284,  0.0939,  0.2066, -0.7353, -0.0996,  0.1816, -0.0255,\n",
       "           0.0181,  0.0661,  0.0400, -0.0829,  0.2284, -0.0905, -0.0124, -0.0138,\n",
       "          -0.0117,  0.1367, -0.0443,  0.0864,  0.0026,  0.0024,  0.4782,  0.2648,\n",
       "          -0.1608, -0.0967, -0.2183,  0.0271,  0.1177]),\n",
       "  tensor([-0.0900, -0.2241,  0.1922, -0.1179,  0.6293, -0.0187,  0.3990, -0.0669,\n",
       "           0.3165,  0.1405, -0.2013,  0.3520, -0.2118,  0.0398]),\n",
       "  tensor([-0.1032,  0.1264,  0.8085,  0.0329, -0.0244,  0.0518, -0.3288,  0.0136,\n",
       "          -0.2811,  0.3533, -0.0609,  0.0215]),\n",
       "  tensor([-0.0492,  0.0975, -0.0184,  0.0545,  0.0183, -0.4396,  0.1493,  0.3184,\n",
       "          -0.0632, -0.2178, -0.1020,  0.0711, -0.0098, -0.0162, -0.0859, -0.0513,\n",
       "          -0.1138, -0.0565, -0.0271,  0.7399,  0.0447, -0.0911, -0.3806, -0.1062,\n",
       "           0.0230,  0.1668]),\n",
       "  tensor([-0.2514,  0.9665,  0.0160, -0.4111]),\n",
       "  tensor([-0.1667,  0.4303,  0.0529,  0.8089, -0.1312,  0.2908, -0.1232]),\n",
       "  tensor([ 0.3746, -0.3431,  0.0300, -0.2741,  0.0340,  0.0163, -0.0901,  0.0331,\n",
       "           0.0237, -0.0539,  0.0084, -0.0283,  0.1005,  0.0470, -0.0309,  0.0045,\n",
       "          -0.0863,  0.0113, -0.5300, -0.0116,  0.0129,  0.0230,  0.0681,  0.0721,\n",
       "           0.0063,  0.0614, -0.1298, -0.5148,  0.0483,  0.1091, -0.0609, -0.1911,\n",
       "           0.0409, -0.1636,  0.0330,  0.0794,  0.0048]),\n",
       "  tensor([-0.4290, -0.0053, -0.1098,  0.0862,  0.0837,  0.6123,  0.2904,  0.2796,\n",
       "          -0.0393, -0.0599,  0.0500]),\n",
       "  tensor([ 0.3581, -0.5373,  0.2149, -0.4068,  0.2957, -0.5328, -0.0102]),\n",
       "  tensor([-0.1885,  0.0322,  0.1387,  0.2418, -0.1869,  0.1556, -0.4439,  0.0337,\n",
       "           0.1382,  0.0862, -0.6982,  0.1020, -0.0520]),\n",
       "  tensor([-0.2978, -0.7936, -0.1443,  0.0637,  0.1379,  0.1643, -0.0535,  0.2584,\n",
       "           0.2480, -0.1192, -0.1624,  0.0276]),\n",
       "  tensor([-0.5318, -0.0878,  0.6105, -0.0627,  0.0232,  0.2537,  0.3123, -0.0374,\n",
       "          -0.1689,  0.0009, -0.0090, -0.3603, -0.0374, -0.0423,  0.1841, -0.2399,\n",
       "          -0.0097, -0.0195]),\n",
       "  tensor([ 0.0388,  0.3622, -0.5642,  0.2686,  0.6794, -0.0554, -0.0189, -0.1086]),\n",
       "  tensor([-0.2859, -0.0558,  0.3994,  0.0127, -0.2353, -0.0564, -0.0249,  0.3163,\n",
       "          -0.0517,  0.0021, -0.2879, -0.0303, -0.0622,  0.2404,  0.3165,  0.0604,\n",
       "          -0.0556, -0.0023, -0.0852,  0.0238,  0.2340,  0.0227, -0.0408, -0.0416,\n",
       "           0.0468,  0.0102, -0.0711,  0.0551, -0.0748,  0.1313,  0.6743,  0.1794,\n",
       "           0.0123, -0.0744, -0.0642, -0.0139]),\n",
       "  tensor([-0.0213,  0.6268,  0.2010, -0.5776,  0.3416,  0.0699,  0.3333]),\n",
       "  tensor([-0.2955, -0.3236, -0.3894,  0.1279,  0.6925,  0.3163,  0.2458]),\n",
       "  tensor([ 0.0596, -0.0194,  0.0124,  0.1773, -0.0039,  0.1124,  0.3091, -0.1498,\n",
       "          -0.0710, -0.0082,  0.0615,  0.2322, -0.8004, -0.0494, -0.2091,  0.0990,\n",
       "          -0.2152,  0.2692,  0.0157, -0.2983,  0.0150,  0.0101]),\n",
       "  tensor([-0.3524,  0.3246,  0.6339, -0.0067, -0.1204, -0.0797,  0.0086,  0.1565,\n",
       "          -0.0414, -0.0548, -0.0801, -0.0168, -0.0414,  0.0295, -0.0174, -0.0072,\n",
       "          -0.0220,  0.1912,  0.0026,  0.0064,  0.0282, -0.0609,  0.0867,  0.0680,\n",
       "           0.0495, -0.1654, -0.0637,  0.0343, -0.0885,  0.3831, -0.0550,  0.1185,\n",
       "          -0.0970,  0.0258,  0.0010,  0.0303, -0.0083, -0.0169,  0.0126,  0.0114,\n",
       "           0.0442, -0.0114, -0.0257, -0.1684,  0.0575, -0.0242, -0.0492, -0.0406,\n",
       "           0.1006, -0.0191]),\n",
       "  tensor([ 0.0543, -0.4983,  0.9261, -0.0273,  0.0807]),\n",
       "  tensor([-0.2613,  0.0584, -0.5579,  0.6482,  0.4138, -0.1601]),\n",
       "  tensor([-0.1620,  0.5319, -0.3997,  0.1283, -0.0717, -0.0135]),\n",
       "  tensor([-0.1247,  0.0865, -0.0463, -0.1343,  0.0653,  0.9003, -0.0721, -0.0325,\n",
       "          -0.2253, -0.0117,  0.0792, -0.0781, -0.1875, -0.1709,  0.0901]),\n",
       "  tensor([ 0.3243, -0.0061, -0.1202,  0.7663,  0.1454,  0.1064, -0.0749,  0.0124,\n",
       "           0.0450, -0.0145,  0.1865,  0.2408,  0.0712,  0.0633, -0.0183,  0.0099,\n",
       "           0.2154, -0.1350, -0.1613, -0.1331]),\n",
       "  tensor([ 0.0094, -0.0556,  0.0392,  0.0529,  0.0385, -0.5986, -0.0969, -0.5033,\n",
       "          -0.0707,  0.0649, -0.4578,  0.1399, -0.0167,  0.4899,  0.2956,  0.0782,\n",
       "           0.1485,  0.0521, -0.0233,  0.0053]),\n",
       "  tensor([-0.4866, -0.0923,  1.0132,  0.0900, -0.4512, -0.1093,  0.0239]),\n",
       "  tensor([-0.6912,  0.1902, -0.1588,  0.0474,  0.6595,  0.1670,  0.0456]),\n",
       "  tensor([-0.1178,  0.0669,  0.8662,  0.3444, -0.0799, -0.3638, -0.1026,  0.0836,\n",
       "           0.1422]),\n",
       "  tensor([-0.0329,  0.0895, -0.1371,  0.8197, -0.4177, -0.3515,  0.0464]),\n",
       "  tensor([-0.0388,  0.9356, -0.3408,  0.0722, -0.0433]),\n",
       "  tensor([ 0.1183,  0.0254,  0.1249, -0.0227]),\n",
       "  tensor([ 3.7134e-02, -7.1086e-02,  1.2340e-01,  4.6964e-02,  5.1208e-02,\n",
       "          -7.6156e-02, -8.8615e-02,  1.6040e-02,  2.5442e-01,  2.8016e-05,\n",
       "           9.6294e-02, -7.2739e-02,  2.8511e-02, -6.2166e-02,  4.4364e-02,\n",
       "          -2.0573e-01,  2.7596e-02, -8.3010e-01, -4.0291e-01, -3.8871e-02,\n",
       "           1.2375e-01,  4.6596e-02]),\n",
       "  tensor([ 0.6582, -0.4298, -0.6793,  0.1359]),\n",
       "  tensor([-0.4185, -0.0205,  0.0841,  0.3042,  0.0352,  0.3192, -0.3925,  0.0527,\n",
       "           0.0066, -0.2816, -0.0815,  0.0620, -0.0769,  0.1619,  0.1700,  0.0614,\n",
       "           0.1388,  0.0566, -0.1528,  0.2015,  0.0337,  0.0681]),\n",
       "  tensor([-0.0520,  0.0207, -0.2519, -0.0479,  0.1952, -0.1406, -0.3341, -0.1190,\n",
       "           0.3225, -0.1206,  0.0249, -0.1489, -0.0251, -0.0553, -0.1030,  0.1188,\n",
       "          -0.1220, -0.1067, -0.0815, -0.0212,  0.7035,  0.0718, -0.1700,  0.1240]),\n",
       "  tensor([ 0.5477,  0.2339, -0.3166, -0.1571, -0.6459, -0.0383, -0.1786, -0.0758,\n",
       "          -0.2223,  0.0016, -0.0648, -0.0694,  0.0739, -0.0144]),\n",
       "  tensor([ 0.4771, -0.0619, -0.4023,  0.1372, -0.4547, -0.1313,  0.4482, -0.3973,\n",
       "           0.0717]),\n",
       "  tensor([-0.2439, -0.3343,  0.8059, -0.4436, -0.1640]),\n",
       "  tensor([-0.1408, -0.2154, -0.2780,  0.2974,  0.1908,  0.0483,  0.0974, -0.0166,\n",
       "           0.2769, -0.2737,  0.1945, -0.0026, -0.1247,  0.1278, -0.0956, -0.1276,\n",
       "           0.0158,  0.0388,  0.1407, -0.1395, -0.0405, -0.1882, -0.0838, -0.2023,\n",
       "          -0.0877, -0.4931,  0.0662,  0.0343]),\n",
       "  tensor([ 0.0811,  0.0282, -0.1084, -0.4426,  0.2287, -0.0232, -0.4732, -0.0830,\n",
       "          -0.0148, -0.4635, -0.1400, -0.5600, -0.0439,  0.1166,  0.0421,  0.0030,\n",
       "           0.2410,  0.1754]),\n",
       "  tensor([-0.2078, -0.1837, -0.5557, -0.2388,  0.2639,  0.3617, -0.4230,  0.2712,\n",
       "          -0.2798, -0.0191,  0.1210]),\n",
       "  tensor([ 0.3511, -0.0429, -0.9395,  0.3329,  0.0285, -0.0448, -0.0982,  0.0321,\n",
       "          -0.0811, -0.1055]),\n",
       "  tensor([-0.1515, -0.5507, -0.4424, -0.4890,  0.0393,  0.5703]),\n",
       "  tensor([ 0.3714,  0.0972, -0.2611, -0.6851, -0.0571, -0.0554,  0.1252, -0.1722,\n",
       "           0.2591,  0.4204, -0.1696, -0.1069]),\n",
       "  tensor([ 0.1815, -0.0575,  0.1089,  0.1012, -0.2122, -0.1919,  0.0008, -0.0572,\n",
       "           0.5848, -0.0485, -0.1074,  0.1184, -0.0872, -0.0811, -0.0409, -0.0959,\n",
       "           0.1117, -0.1882,  0.6360,  0.0556]),\n",
       "  tensor([-6.2598e-02, -1.0306e-01,  1.8591e-02,  6.8589e-04,  3.9508e-02,\n",
       "          -1.5908e-01,  1.9286e-01,  3.6074e-02, -5.5604e-02,  5.1113e-02,\n",
       "          -2.2830e-02,  9.2599e-03, -5.5197e-02,  7.8918e-03,  1.6747e-02,\n",
       "          -5.5825e-03, -2.6325e-02,  1.1866e-02, -3.1967e-02, -7.6090e-02,\n",
       "          -2.6975e-02, -5.6741e-02,  8.2699e-01, -1.5139e-01,  1.0650e-02,\n",
       "          -6.2036e-02,  2.8584e-02, -5.0119e-02,  1.8704e-02, -1.0905e-02,\n",
       "          -4.5550e-02, -4.6147e-03, -4.6461e-02, -8.7329e-02,  5.7732e-02,\n",
       "           3.7321e-02, -6.8818e-02, -1.3879e-01, -1.0773e-02, -2.8463e-01,\n",
       "           1.5315e-02, -1.0650e-02, -7.0172e-02]),\n",
       "  tensor([ 0.3344, -0.3122, -0.0062,  0.3732,  0.1055, -0.0445,  0.0486,  0.0937,\n",
       "           0.1007, -0.7712, -0.1282,  0.0766]),\n",
       "  tensor([-0.2470,  0.3036, -0.1341, -0.8258,  0.3026,  0.2353]),\n",
       "  tensor([ 0.0206,  0.0805,  0.0467, -0.0053,  0.0166, -0.0477, -0.5061,  0.1051,\n",
       "           0.1346,  0.7965,  0.0872,  0.0632, -0.0202,  0.0878, -0.1359,  0.1473,\n",
       "           0.0247,  0.0257, -0.0322, -0.0805])],\n",
       " 'raw_input_list': [['<s>', 'an', 'unforgettable', '', '</s>'],\n",
       "  ['<s>', 'absurdity', '', '</s>'],\n",
       "  ['<s>',\n",
       "   'i',\n",
       "   'liked',\n",
       "   'about',\n",
       "   'schmidt',\n",
       "   'a',\n",
       "   'lot',\n",
       "   ',',\n",
       "   'but',\n",
       "   'i',\n",
       "   'have',\n",
       "   'a',\n",
       "   'feeling',\n",
       "   'that',\n",
       "   'i',\n",
       "   'would',\n",
       "   'have',\n",
       "   'liked',\n",
       "   'it',\n",
       "   'much',\n",
       "   'more',\n",
       "   'if',\n",
       "   'harry',\n",
       "   '&',\n",
       "   'tonto',\n",
       "   'never',\n",
       "   'existed',\n",
       "   '',\n",
       "   '</s>'],\n",
       "  ['<s>',\n",
       "   'to',\n",
       "   'give',\n",
       "   'them',\n",
       "   'credit',\n",
       "   'for',\n",
       "   ':',\n",
       "   'the',\n",
       "   'message',\n",
       "   'of',\n",
       "   'the',\n",
       "   'movie',\n",
       "   '',\n",
       "   '</s>'],\n",
       "  ['<s>',\n",
       "   'is',\n",
       "   'intriguing',\n",
       "   'but',\n",
       "   'quickly',\n",
       "   'becomes',\n",
       "   'distasteful',\n",
       "   'and',\n",
       "   'downright',\n",
       "   'creepy',\n",
       "   '',\n",
       "   '</s>'],\n",
       "  ['<s>',\n",
       "   'such',\n",
       "   'a',\n",
       "   'wildly',\n",
       "   'uneven',\n",
       "   'hit-and-miss',\n",
       "   'enterprise',\n",
       "   ',',\n",
       "   'you',\n",
       "   'ca',\n",
       "   \"n't\",\n",
       "   'help',\n",
       "   'suspecting',\n",
       "   'that',\n",
       "   'it',\n",
       "   'was',\n",
       "   'improvised',\n",
       "   'on',\n",
       "   'a',\n",
       "   'day-to-day',\n",
       "   'basis',\n",
       "   'during',\n",
       "   'production',\n",
       "   '.',\n",
       "   '',\n",
       "   '</s>'],\n",
       "  ['<s>', 'shrek', '', '</s>'],\n",
       "  ['<s>', 'it', \"'s\", 'funny', '.', '', '</s>'],\n",
       "  ['<s>',\n",
       "   'confuses',\n",
       "   'its',\n",
       "   'message',\n",
       "   'with',\n",
       "   'an',\n",
       "   'ultimate',\n",
       "   'desire',\n",
       "   'to',\n",
       "   'please',\n",
       "   ',',\n",
       "   'and',\n",
       "   'contorting',\n",
       "   'itself',\n",
       "   'into',\n",
       "   'an',\n",
       "   'idea',\n",
       "   'of',\n",
       "   'expectation',\n",
       "   'is',\n",
       "   'the',\n",
       "   'last',\n",
       "   'thing',\n",
       "   'any',\n",
       "   'of',\n",
       "   'these',\n",
       "   'three',\n",
       "   'actresses',\n",
       "   ',',\n",
       "   'nor',\n",
       "   'their',\n",
       "   'characters',\n",
       "   ',',\n",
       "   'deserve',\n",
       "   '.',\n",
       "   '',\n",
       "   '</s>'],\n",
       "  ['<s>',\n",
       "   'a',\n",
       "   'characteristically',\n",
       "   'engorged',\n",
       "   'and',\n",
       "   'sloppy',\n",
       "   'coming-of-age',\n",
       "   'movie',\n",
       "   '.',\n",
       "   '',\n",
       "   '</s>'],\n",
       "  ['<s>', 'a', 'sense', 'of', 'action', '', '</s>'],\n",
       "  ['<s>',\n",
       "   'have',\n",
       "   \"n't\",\n",
       "   'seen',\n",
       "   'such',\n",
       "   'self-amused',\n",
       "   'trash',\n",
       "   'since',\n",
       "   'freddy',\n",
       "   'got',\n",
       "   'fingered',\n",
       "   '',\n",
       "   '</s>'],\n",
       "  ['<s>',\n",
       "   'never',\n",
       "   'mind',\n",
       "   'all',\n",
       "   'that',\n",
       "   ';',\n",
       "   'the',\n",
       "   'boobs',\n",
       "   'are',\n",
       "   'fantasti',\n",
       "   '',\n",
       "   '</s>'],\n",
       "  ['<s>',\n",
       "   'is',\n",
       "   'leguizamo',\n",
       "   \"'s\",\n",
       "   'best',\n",
       "   'movie',\n",
       "   'work',\n",
       "   'so',\n",
       "   'far',\n",
       "   ',',\n",
       "   'a',\n",
       "   'subtle',\n",
       "   'and',\n",
       "   'richly',\n",
       "   'internalized',\n",
       "   'performance',\n",
       "   '',\n",
       "   '</s>'],\n",
       "  ['<s>', \"'ll\", 'enjoy', 'this', 'movie', '.', '', '</s>'],\n",
       "  ['<s>',\n",
       "   'our',\n",
       "   'culture',\n",
       "   'is',\n",
       "   'headed',\n",
       "   'down',\n",
       "   'the',\n",
       "   'toilet',\n",
       "   'with',\n",
       "   'the',\n",
       "   'ferocity',\n",
       "   'of',\n",
       "   'a',\n",
       "   'frozen',\n",
       "   'burrito',\n",
       "   'after',\n",
       "   'an',\n",
       "   'all-night',\n",
       "   'tequila',\n",
       "   'bender',\n",
       "   '--',\n",
       "   'and',\n",
       "   'i',\n",
       "   'know',\n",
       "   'this',\n",
       "   'because',\n",
       "   'i',\n",
       "   \"'ve\",\n",
       "   'seen',\n",
       "   '`',\n",
       "   'jackass',\n",
       "   ':',\n",
       "   'the',\n",
       "   'movie',\n",
       "   '',\n",
       "   '</s>'],\n",
       "  ['<s>', 'more', 'psychotic', 'than', 'romantic', '', '</s>'],\n",
       "  ['<s>', 'solid', ',', 'satisfying', 'fare', '', '</s>'],\n",
       "  ['<s>',\n",
       "   'he',\n",
       "   'makes',\n",
       "   'sure',\n",
       "   'the',\n",
       "   'salton',\n",
       "   'sea',\n",
       "   'works',\n",
       "   'the',\n",
       "   'way',\n",
       "   'a',\n",
       "   'good',\n",
       "   'noir',\n",
       "   'should',\n",
       "   ',',\n",
       "   'keeping',\n",
       "   'it',\n",
       "   'tight',\n",
       "   'and',\n",
       "   'nasty',\n",
       "   '',\n",
       "   '</s>'],\n",
       "  ['<s>',\n",
       "   'should',\n",
       "   'jolt',\n",
       "   'you',\n",
       "   'out',\n",
       "   'of',\n",
       "   'your',\n",
       "   'seat',\n",
       "   'a',\n",
       "   'couple',\n",
       "   'of',\n",
       "   'times',\n",
       "   ',',\n",
       "   'give',\n",
       "   'you',\n",
       "   'a',\n",
       "   'few',\n",
       "   'laughs',\n",
       "   ',',\n",
       "   'and',\n",
       "   'leave',\n",
       "   'you',\n",
       "   'feeling',\n",
       "   'like',\n",
       "   'it',\n",
       "   'was',\n",
       "   'worth',\n",
       "   'your',\n",
       "   'seven',\n",
       "   'bucks',\n",
       "   ',',\n",
       "   'even',\n",
       "   'though',\n",
       "   'it',\n",
       "   'does',\n",
       "   'turn',\n",
       "   'out',\n",
       "   'to',\n",
       "   'be',\n",
       "   'a',\n",
       "   'bit',\n",
       "   'of',\n",
       "   'a',\n",
       "   'cheat',\n",
       "   'in',\n",
       "   'the',\n",
       "   'end',\n",
       "   '.',\n",
       "   '',\n",
       "   '</s>'],\n",
       "  ['<s>', 'brittle', 'desperation', '', '</s>'],\n",
       "  ['<s>', 'and', 'twisted', 'characters', '', '</s>'],\n",
       "  ['<s>', 'less-than-thrilling', 'thriller', '.', '', '</s>'],\n",
       "  ['<s>',\n",
       "   ',',\n",
       "   'overnight',\n",
       "   ',',\n",
       "   'is',\n",
       "   'robbed',\n",
       "   'and',\n",
       "   'replaced',\n",
       "   'with',\n",
       "   'a',\n",
       "   'persecuted',\n",
       "   '``',\n",
       "   'other',\n",
       "   '',\n",
       "   '</s>'],\n",
       "  ['<s>',\n",
       "   'is',\n",
       "   'worse',\n",
       "   ':',\n",
       "   'the',\n",
       "   'part',\n",
       "   'where',\n",
       "   'nothing',\n",
       "   \"'s\",\n",
       "   'happening',\n",
       "   ',',\n",
       "   'or',\n",
       "   'the',\n",
       "   'part',\n",
       "   'where',\n",
       "   'something',\n",
       "   \"'s\",\n",
       "   'happening',\n",
       "   '',\n",
       "   '</s>'],\n",
       "  ['<s>',\n",
       "   'would',\n",
       "   'take',\n",
       "   'a',\n",
       "   'complete',\n",
       "   'moron',\n",
       "   'to',\n",
       "   'foul',\n",
       "   'up',\n",
       "   'a',\n",
       "   'screen',\n",
       "   'adaptation',\n",
       "   'of',\n",
       "   'oscar',\n",
       "   'wilde',\n",
       "   \"'s\",\n",
       "   'classic',\n",
       "   'satire',\n",
       "   '',\n",
       "   '</s>'],\n",
       "  ['<s>', 'most', 'audacious', ',', 'outrageous', '', '</s>'],\n",
       "  ['<s>', 'holds', 'a', 'certain', 'charm', '', '</s>'],\n",
       "  ['<s>', 'the', 'hurried', ',', 'badly', 'cobbled', 'look', '', '</s>'],\n",
       "  ['<s>', 'as', 'a', 'dystopian', 'movie', '', '</s>'],\n",
       "  ['<s>', 'given', 'up', '', '</s>'],\n",
       "  ['<s>', 'vulgarity', '', '</s>'],\n",
       "  ['<s>',\n",
       "   'walked',\n",
       "   'away',\n",
       "   'from',\n",
       "   'this',\n",
       "   'new',\n",
       "   'version',\n",
       "   'of',\n",
       "   'e.t.',\n",
       "   'just',\n",
       "   'as',\n",
       "   'i',\n",
       "   'hoped',\n",
       "   'i',\n",
       "   'would',\n",
       "   '--',\n",
       "   'with',\n",
       "   'moist',\n",
       "   'eyes',\n",
       "   '.',\n",
       "   '',\n",
       "   '</s>'],\n",
       "  ['<s>', 'languishing', '', '</s>'],\n",
       "  ['<s>',\n",
       "   'brings',\n",
       "   'a',\n",
       "   'youthful',\n",
       "   ',',\n",
       "   'out-to-change-the-world',\n",
       "   'aggressiveness',\n",
       "   'to',\n",
       "   'the',\n",
       "   'project',\n",
       "   ',',\n",
       "   'as',\n",
       "   'if',\n",
       "   'she',\n",
       "   \"'s\",\n",
       "   'cut',\n",
       "   'open',\n",
       "   'a',\n",
       "   'vein',\n",
       "   'and',\n",
       "   '',\n",
       "   '</s>'],\n",
       "  ['<s>',\n",
       "   'i',\n",
       "   'heard',\n",
       "   'a',\n",
       "   'mysterious',\n",
       "   'voice',\n",
       "   ',',\n",
       "   'and',\n",
       "   'felt',\n",
       "   'myself',\n",
       "   'powerfully',\n",
       "   'drawn',\n",
       "   'toward',\n",
       "   'the',\n",
       "   'light',\n",
       "   '--',\n",
       "   'the',\n",
       "   'light',\n",
       "   'of',\n",
       "   'the',\n",
       "   'exit',\n",
       "   'sign',\n",
       "   '',\n",
       "   '</s>'],\n",
       "  ['<s>',\n",
       "   'no',\n",
       "   'amount',\n",
       "   'of',\n",
       "   'burning',\n",
       "   ',',\n",
       "   'blasting',\n",
       "   ',',\n",
       "   'stabbing',\n",
       "   ',',\n",
       "   'and',\n",
       "   'shooting',\n",
       "   '',\n",
       "   '</s>'],\n",
       "  ['<s>', \"'s\", 'never', 'too', 'late', 'to', 'learn', '', '</s>'],\n",
       "  ['<s>', 'stirs', 'us', '', '</s>'],\n",
       "  ['<s>',\n",
       "   \"'s\",\n",
       "   'notably',\n",
       "   'better',\n",
       "   'acted',\n",
       "   '--',\n",
       "   'and',\n",
       "   'far',\n",
       "   'less',\n",
       "   'crass',\n",
       "   '-',\n",
       "   'than',\n",
       "   'some',\n",
       "   'other',\n",
       "   'recent',\n",
       "   'efforts',\n",
       "   'in',\n",
       "   'the',\n",
       "   'burgeoning',\n",
       "   'genre',\n",
       "   'of',\n",
       "   'films',\n",
       "   'about',\n",
       "   'black',\n",
       "   'urban',\n",
       "   'professionals',\n",
       "   '',\n",
       "   '</s>'],\n",
       "  ['<s>',\n",
       "   'is',\n",
       "   'an',\n",
       "   'inspirational',\n",
       "   'love',\n",
       "   'story',\n",
       "   ',',\n",
       "   'capturing',\n",
       "   'the',\n",
       "   'innocence',\n",
       "   'and',\n",
       "   'idealism',\n",
       "   'of',\n",
       "   'that',\n",
       "   'first',\n",
       "   'encounter',\n",
       "   '',\n",
       "   '</s>'],\n",
       "  ['<s>',\n",
       "   'sharp',\n",
       "   'comedy',\n",
       "   ',',\n",
       "   'old-fashioned',\n",
       "   'monster',\n",
       "   'movie',\n",
       "   'atmospherics',\n",
       "   ',',\n",
       "   '',\n",
       "   '</s>'],\n",
       "  ['<s>',\n",
       "   'a',\n",
       "   'no-bull',\n",
       "   'throwback',\n",
       "   'to',\n",
       "   '1970s',\n",
       "   'action',\n",
       "   'films',\n",
       "   '',\n",
       "   '</s>'],\n",
       "  ['<s>', 'is', \"n't\", 'funny', '', '</s>'],\n",
       "  ['<s>',\n",
       "   'the',\n",
       "   'slack',\n",
       "   'complacency',\n",
       "   'of',\n",
       "   '(',\n",
       "   'godard',\n",
       "   \"'s\",\n",
       "   ')',\n",
       "   'vision',\n",
       "   '',\n",
       "   '</s>'],\n",
       "  ['<s>',\n",
       "   ',',\n",
       "   'you',\n",
       "   \"'d\",\n",
       "   'probably',\n",
       "   'turn',\n",
       "   'it',\n",
       "   'off',\n",
       "   ',',\n",
       "   'convinced',\n",
       "   'that',\n",
       "   'you',\n",
       "   'had',\n",
       "   'already',\n",
       "   'seen',\n",
       "   'that',\n",
       "   'movie',\n",
       "   '.',\n",
       "   '',\n",
       "   '</s>'],\n",
       "  ['<s>',\n",
       "   'it',\n",
       "   'may',\n",
       "   'be',\n",
       "   'a',\n",
       "   'somewhat',\n",
       "   'backhanded',\n",
       "   'compliment',\n",
       "   'to',\n",
       "   'say',\n",
       "   'that',\n",
       "   'the',\n",
       "   'film',\n",
       "   'makes',\n",
       "   'the',\n",
       "   'viewer',\n",
       "   'feel',\n",
       "   'like',\n",
       "   'the',\n",
       "   'movie',\n",
       "   \"'s\",\n",
       "   'various',\n",
       "   'victimized',\n",
       "   'audience',\n",
       "   'members',\n",
       "   'after',\n",
       "   'a',\n",
       "   'while',\n",
       "   ',',\n",
       "   'but',\n",
       "   'it',\n",
       "   'also',\n",
       "   'happens',\n",
       "   'to',\n",
       "   'be',\n",
       "   'the',\n",
       "   'movie',\n",
       "   \"'s\",\n",
       "   'most',\n",
       "   'admirable',\n",
       "   'quality',\n",
       "   '',\n",
       "   '</s>'],\n",
       "  ['<s>',\n",
       "   'that',\n",
       "   'a',\n",
       "   'life',\n",
       "   'like',\n",
       "   'this',\n",
       "   'can',\n",
       "   'sound',\n",
       "   'so',\n",
       "   'dull',\n",
       "   '',\n",
       "   '</s>'],\n",
       "  ['<s>', 'create', 'and', 'sustain', '', '</s>'],\n",
       "  ['<s>',\n",
       "   'in',\n",
       "   'trying',\n",
       "   'to',\n",
       "   'have',\n",
       "   'the',\n",
       "   'best',\n",
       "   'of',\n",
       "   'both',\n",
       "   'worlds',\n",
       "   'it',\n",
       "   'ends',\n",
       "   'up',\n",
       "   'falling',\n",
       "   'short',\n",
       "   'as',\n",
       "   'a',\n",
       "   'whole',\n",
       "   '',\n",
       "   '</s>']]}"
      ]
     },
     "execution_count": 9,
     "metadata": {},
     "output_type": "execute_result"
    }
   ],
   "source": [
    "save_info(idxs, sst2_data_raw, targets, model_out_list, raw_attr_list, conti_attr_list, raw_input_list, fname='lime_out.pkl')"
   ]
  },
  {
   "cell_type": "code",
   "execution_count": null,
   "id": "bf4c3622",
   "metadata": {},
   "outputs": [],
   "source": []
  }
 ],
 "metadata": {
  "kernelspec": {
   "display_name": "Python 3 (ipykernel)",
   "language": "python",
   "name": "python3"
  },
  "language_info": {
   "codemirror_mode": {
    "name": "ipython",
    "version": 3
   },
   "file_extension": ".py",
   "mimetype": "text/x-python",
   "name": "python",
   "nbconvert_exporter": "python",
   "pygments_lexer": "ipython3",
   "version": "3.9.7"
  }
 },
 "nbformat": 4,
 "nbformat_minor": 5
}
