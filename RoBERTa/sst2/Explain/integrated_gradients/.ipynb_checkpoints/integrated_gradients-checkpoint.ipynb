{
 "cells": [
  {
   "cell_type": "code",
   "execution_count": 1,
   "id": "806fb4a1",
   "metadata": {},
   "outputs": [],
   "source": [
    "import sys, time, pickle, torch\n",
    "sys.path.insert(0, '../../Models')\n",
    "sys.path.insert(0, '../../Utils')\n",
    "sys.path.insert(0, '../../Preprocess')\n",
    "import numpy as np\n",
    "import pandas as pd\n",
    "from preload_models import get_sst2_tok_n_model\n",
    "from _utils import sample_random_glue_sst2, get_continuation_mapping, \\\n",
    "                    get_continuous_attributions, get_continuous_raw_inputs, \\\n",
    "                    collect_info_for_metric, save_info"
   ]
  },
  {
   "cell_type": "code",
   "execution_count": 2,
   "id": "dd38a1a9",
   "metadata": {},
   "outputs": [
    {
     "name": "stderr",
     "output_type": "stream",
     "text": [
      "Reusing dataset glue (/home/user/.cache/huggingface/datasets/glue/sst2/1.0.0/dacbe3125aa31d7f70367a07a8a9e72a5a0bfeb5fc42e75c9db75b96da6053ad)\n"
     ]
    },
    {
     "data": {
      "application/vnd.jupyter.widget-view+json": {
       "model_id": "7fcd09500efd4fea829c3ce4ae40899f",
       "version_major": 2,
       "version_minor": 0
      },
      "text/plain": [
       "  0%|          | 0/3 [00:00<?, ?it/s]"
      ]
     },
     "metadata": {},
     "output_type": "display_data"
    },
    {
     "name": "stderr",
     "output_type": "stream",
     "text": [
      "Loading cached processed dataset at /home/user/.cache/huggingface/datasets/glue/sst2/1.0.0/dacbe3125aa31d7f70367a07a8a9e72a5a0bfeb5fc42e75c9db75b96da6053ad/cache-3b24abff24d1d8c0.arrow\n",
      "Loading cached processed dataset at /home/user/.cache/huggingface/datasets/glue/sst2/1.0.0/dacbe3125aa31d7f70367a07a8a9e72a5a0bfeb5fc42e75c9db75b96da6053ad/cache-5960909ab3834668.arrow\n"
     ]
    }
   ],
   "source": [
    "sst2_data_raw, targets, idxs = sample_random_glue_sst2()"
   ]
  },
  {
   "cell_type": "code",
   "execution_count": 3,
   "id": "c90c47e9",
   "metadata": {},
   "outputs": [],
   "source": [
    "tokenizer, model = get_sst2_tok_n_model()"
   ]
  },
  {
   "cell_type": "code",
   "execution_count": 4,
   "id": "17be71bc",
   "metadata": {},
   "outputs": [],
   "source": [
    "#define some containers to save some info\n",
    "model_out_list, raw_attr_list, conti_attr_list, raw_input_list = [], [], [], []"
   ]
  },
  {
   "cell_type": "code",
   "execution_count": 5,
   "id": "d272625c",
   "metadata": {},
   "outputs": [],
   "source": [
    "from captum.attr import IntegratedGradients\n",
    "from captum.attr import visualization "
   ]
  },
  {
   "cell_type": "code",
   "execution_count": 6,
   "id": "8067da5f",
   "metadata": {},
   "outputs": [],
   "source": [
    "# lime = Lime(forward_func=model.forward)\n",
    "IG = IntegratedGradients(model)"
   ]
  },
  {
   "cell_type": "code",
   "execution_count": 7,
   "id": "c47d4631",
   "metadata": {},
   "outputs": [],
   "source": [
    "def generate_record(raw_review, target):\n",
    "    #tokenizer operations\n",
    "    tokenized = tokenizer(raw_review, truncation=True, return_offsets_mapping=True)\n",
    "    offset_mapping = tokenized['offset_mapping']\n",
    "    conti_map = get_continuation_mapping(offset_mapping)\n",
    "    input_ids = torch.tensor(tokenized['input_ids']).unsqueeze(0)\n",
    "    detokenized = [t.replace('Ġ', '') for t in tokenizer.convert_ids_to_tokens(input_ids[0])]\n",
    "\n",
    "    #feeding input forward \n",
    "    input_emb = model.get_embeddings(input_ids)\n",
    "    pred_prob = model(input_emb).item()\n",
    "    \n",
    "    #categorizing results\n",
    "    pred_class = 'Pos' if pred_prob > 0.5 else 'Neg' \n",
    "    true_class = 'Pos' if target > 0.5 else 'Neg' \n",
    "    \n",
    "    #attribution algorithm working\n",
    "    attribution, delta = IG.attribute(input_emb, n_steps=50, return_convergence_delta=True)\n",
    "    word_attributions = attribution.sum(dim=2).squeeze(0)\n",
    "    word_attributions /= torch.norm(word_attributions)\n",
    "    attr_score = torch.sum(word_attributions)\n",
    "    attr_class = 'Pos' if attr_score > 0.5 else 'Neg'\n",
    "    convergence_score = delta\n",
    "    \n",
    "    \n",
    "    #re-organizing tensors and arrays because words get split down\n",
    "    conti_attr = get_continuous_attributions(conti_map, word_attributions)\n",
    "    raw_input = get_continuous_raw_inputs(conti_map, detokenized)\n",
    "\n",
    "#     print(f'word attributions {word_attributions}')\n",
    "#     print(f'pred_prob {pred_prob}')\n",
    "#     print(f'pred_class {pred_class}')\n",
    "#     print(f'true_class {true_class}')\n",
    "#     print(f'attribution {attribution}')\n",
    "#     print(f'attr_class {attr_class}')\n",
    "#     print(f'attr_score {attr_score}')\n",
    "#     print(f'raw_input {raw_input}')\n",
    "\n",
    "        \n",
    "#     collect info for metrics later\n",
    "    collect_info_for_metric(model_out_list, pred_prob, raw_attr_list, attribution, conti_attr_list, conti_attr, raw_input_list, raw_input)\n",
    "        \n",
    "    \n",
    "    visual_record = visualization.VisualizationDataRecord(word_attributions=conti_attr,\n",
    "                                                         pred_prob=pred_prob,\n",
    "                                                         pred_class=pred_class,\n",
    "                                                         true_class=true_class,\n",
    "                                                         attr_class=attr_class,\n",
    "                                                         attr_score=attr_score,\n",
    "                                                         raw_input=raw_input,\n",
    "                                                         convergence_score=convergence_score)\n",
    "        \n",
    "        \n",
    "    return visual_record\n",
    "      \n",
    "    "
   ]
  },
  {
   "cell_type": "code",
   "execution_count": 8,
   "id": "37efa6df",
   "metadata": {
    "scrolled": false
   },
   "outputs": [
    {
     "name": "stdout",
     "output_type": "stream",
     "text": [
      "Raw review: its oscar nomination \n",
      "GT target: 1\n",
      "word attr tensor([-0.6979, -0.5776, -0.1111, -0.1658,  0.1238,  0.2942,  0.1938],\n",
      "       dtype=torch.float64, grad_fn=<AsStridedBackward0>)\n",
      "conti attr [tensor(-0.6979, dtype=torch.float64, grad_fn=<UnbindBackward0>), tensor(-0.5776, dtype=torch.float64, grad_fn=<UnbindBackward0>), tensor(-0.2769, dtype=torch.float64, grad_fn=<AddBackward0>), tensor(0.1238, dtype=torch.float64, grad_fn=<UnbindBackward0>), tensor(0.2942, dtype=torch.float64, grad_fn=<UnbindBackward0>), tensor(0.1938, dtype=torch.float64, grad_fn=<UnbindBackward0>)]\n",
      "detokenized ['<s>', 'its', 'o', 'scar', 'nomination', '', '</s>']\n",
      "len conti_raw 6\n",
      "conti_raw ['<s>', 'its', 'oscar', 'nomination', '', '</s>']\n"
     ]
    },
    {
     "data": {
      "text/html": [
       "<table width: 100%><div style=\"border-top: 1px solid; margin-top: 5px;             padding-top: 5px; display: inline-block\"><b>Legend: </b><span style=\"display: inline-block; width: 10px; height: 10px;                 border: 1px solid; background-color:                 hsl(0, 75%, 60%)\"></span> Negative  <span style=\"display: inline-block; width: 10px; height: 10px;                 border: 1px solid; background-color:                 hsl(0, 75%, 100%)\"></span> Neutral  <span style=\"display: inline-block; width: 10px; height: 10px;                 border: 1px solid; background-color:                 hsl(120, 75%, 50%)\"></span> Positive  </div><tr><th>True Label</th><th>Predicted Label</th><th>Attribution Label</th><th>Attribution Score</th><th>Word Importance</th><tr><td><text style=\"padding-right:2em\"><b>Pos</b></text></td><td><text style=\"padding-right:2em\"><b>Pos (1.00)</b></text></td><td><text style=\"padding-right:2em\"><b>Neg</b></text></td><td><text style=\"padding-right:2em\"><b>-0.94</b></text></td><td><mark style=\"background-color: hsl(0, 75%, 73%); opacity:1.0;                     line-height:1.75\"><font color=\"black\"> #s                    </font></mark><mark style=\"background-color: hsl(0, 75%, 77%); opacity:1.0;                     line-height:1.75\"><font color=\"black\"> its                    </font></mark><mark style=\"background-color: hsl(0, 75%, 89%); opacity:1.0;                     line-height:1.75\"><font color=\"black\"> oscar                    </font></mark><mark style=\"background-color: hsl(120, 75%, 94%); opacity:1.0;                     line-height:1.75\"><font color=\"black\"> nomination                    </font></mark><mark style=\"background-color: hsl(120, 75%, 86%); opacity:1.0;                     line-height:1.75\"><font color=\"black\">                     </font></mark><mark style=\"background-color: hsl(120, 75%, 91%); opacity:1.0;                     line-height:1.75\"><font color=\"black\"> #/s                    </font></mark></td><tr></table>"
      ],
      "text/plain": [
       "<IPython.core.display.HTML object>"
      ]
     },
     "metadata": {},
     "output_type": "display_data"
    },
    {
     "name": "stdout",
     "output_type": "stream",
     "text": [
      "<IPython.core.display.HTML object>\n",
      "Raw review: shenanigans and slapstick \n",
      "GT target: 1\n",
      "word attr tensor([-0.4376, -0.0530, -0.0561, -0.0437, -0.0136,  0.5670, -0.1398, -0.1619,\n",
      "        -0.0659,  0.6549], dtype=torch.float64, grad_fn=<AsStridedBackward0>)\n",
      "conti attr [tensor(-0.4376, dtype=torch.float64, grad_fn=<UnbindBackward0>), tensor(-0.1664, dtype=torch.float64, grad_fn=<AddBackward0>), tensor(0.5670, dtype=torch.float64, grad_fn=<UnbindBackward0>), tensor(-0.3017, dtype=torch.float64, grad_fn=<AddBackward0>), tensor(-0.0659, dtype=torch.float64, grad_fn=<UnbindBackward0>), tensor(0.6549, dtype=torch.float64, grad_fn=<UnbindBackward0>)]\n",
      "detokenized ['<s>', 's', 'hen', 'an', 'igans', 'and', 'slap', 'stick', '', '</s>']\n",
      "len conti_raw 6\n",
      "conti_raw ['<s>', 'shenanigans', 'and', 'slapstick', '', '</s>']\n"
     ]
    },
    {
     "data": {
      "text/html": [
       "<table width: 100%><div style=\"border-top: 1px solid; margin-top: 5px;             padding-top: 5px; display: inline-block\"><b>Legend: </b><span style=\"display: inline-block; width: 10px; height: 10px;                 border: 1px solid; background-color:                 hsl(0, 75%, 60%)\"></span> Negative  <span style=\"display: inline-block; width: 10px; height: 10px;                 border: 1px solid; background-color:                 hsl(0, 75%, 100%)\"></span> Neutral  <span style=\"display: inline-block; width: 10px; height: 10px;                 border: 1px solid; background-color:                 hsl(120, 75%, 50%)\"></span> Positive  </div><tr><th>True Label</th><th>Predicted Label</th><th>Attribution Label</th><th>Attribution Score</th><th>Word Importance</th><tr><td><text style=\"padding-right:2em\"><b>Pos</b></text></td><td><text style=\"padding-right:2em\"><b>Pos (1.00)</b></text></td><td><text style=\"padding-right:2em\"><b>Neg</b></text></td><td><text style=\"padding-right:2em\"><b>0.25</b></text></td><td><mark style=\"background-color: hsl(0, 75%, 83%); opacity:1.0;                     line-height:1.75\"><font color=\"black\"> #s                    </font></mark><mark style=\"background-color: hsl(0, 75%, 94%); opacity:1.0;                     line-height:1.75\"><font color=\"black\"> shenanigans                    </font></mark><mark style=\"background-color: hsl(120, 75%, 72%); opacity:1.0;                     line-height:1.75\"><font color=\"black\"> and                    </font></mark><mark style=\"background-color: hsl(0, 75%, 88%); opacity:1.0;                     line-height:1.75\"><font color=\"black\"> slapstick                    </font></mark><mark style=\"background-color: hsl(0, 75%, 98%); opacity:1.0;                     line-height:1.75\"><font color=\"black\">                     </font></mark><mark style=\"background-color: hsl(120, 75%, 68%); opacity:1.0;                     line-height:1.75\"><font color=\"black\"> #/s                    </font></mark></td><tr></table>"
      ],
      "text/plain": [
       "<IPython.core.display.HTML object>"
      ]
     },
     "metadata": {},
     "output_type": "display_data"
    },
    {
     "name": "stdout",
     "output_type": "stream",
     "text": [
      "<IPython.core.display.HTML object>\n",
      "Raw review: an unsettling sight , \n",
      "GT target: 0\n",
      "word attr tensor([ 0.9238,  0.0356, -0.1089, -0.0773,  0.0745, -0.1157,  0.3296],\n",
      "       dtype=torch.float64, grad_fn=<AsStridedBackward0>)\n",
      "conti attr [tensor(0.9238, dtype=torch.float64, grad_fn=<UnbindBackward0>), tensor(0.0356, dtype=torch.float64, grad_fn=<UnbindBackward0>), tensor(-0.1089, dtype=torch.float64, grad_fn=<UnbindBackward0>), tensor(-0.0773, dtype=torch.float64, grad_fn=<UnbindBackward0>), tensor(0.0745, dtype=torch.float64, grad_fn=<UnbindBackward0>), tensor(-0.1157, dtype=torch.float64, grad_fn=<UnbindBackward0>), tensor(0.3296, dtype=torch.float64, grad_fn=<UnbindBackward0>)]\n",
      "detokenized ['<s>', 'an', 'unsettling', 'sight', ',', '', '</s>']\n",
      "len conti_raw 7\n",
      "conti_raw ['<s>', 'an', 'unsettling', 'sight', ',', '', '</s>']\n"
     ]
    },
    {
     "data": {
      "text/html": [
       "<table width: 100%><div style=\"border-top: 1px solid; margin-top: 5px;             padding-top: 5px; display: inline-block\"><b>Legend: </b><span style=\"display: inline-block; width: 10px; height: 10px;                 border: 1px solid; background-color:                 hsl(0, 75%, 60%)\"></span> Negative  <span style=\"display: inline-block; width: 10px; height: 10px;                 border: 1px solid; background-color:                 hsl(0, 75%, 100%)\"></span> Neutral  <span style=\"display: inline-block; width: 10px; height: 10px;                 border: 1px solid; background-color:                 hsl(120, 75%, 50%)\"></span> Positive  </div><tr><th>True Label</th><th>Predicted Label</th><th>Attribution Label</th><th>Attribution Score</th><th>Word Importance</th><tr><td><text style=\"padding-right:2em\"><b>Neg</b></text></td><td><text style=\"padding-right:2em\"><b>Neg (0.01)</b></text></td><td><text style=\"padding-right:2em\"><b>Pos</b></text></td><td><text style=\"padding-right:2em\"><b>1.06</b></text></td><td><mark style=\"background-color: hsl(120, 75%, 54%); opacity:1.0;                     line-height:1.75\"><font color=\"black\"> #s                    </font></mark><mark style=\"background-color: hsl(120, 75%, 99%); opacity:1.0;                     line-height:1.75\"><font color=\"black\"> an                    </font></mark><mark style=\"background-color: hsl(0, 75%, 96%); opacity:1.0;                     line-height:1.75\"><font color=\"black\"> unsettling                    </font></mark><mark style=\"background-color: hsl(0, 75%, 97%); opacity:1.0;                     line-height:1.75\"><font color=\"black\"> sight                    </font></mark><mark style=\"background-color: hsl(120, 75%, 97%); opacity:1.0;                     line-height:1.75\"><font color=\"black\"> ,                    </font></mark><mark style=\"background-color: hsl(0, 75%, 96%); opacity:1.0;                     line-height:1.75\"><font color=\"black\">                     </font></mark><mark style=\"background-color: hsl(120, 75%, 84%); opacity:1.0;                     line-height:1.75\"><font color=\"black\"> #/s                    </font></mark></td><tr></table>"
      ],
      "text/plain": [
       "<IPython.core.display.HTML object>"
      ]
     },
     "metadata": {},
     "output_type": "display_data"
    },
    {
     "name": "stdout",
     "output_type": "stream",
     "text": [
      "<IPython.core.display.HTML object>\n",
      "Raw review: the climactic hourlong cricket match \n",
      "GT target: 1\n",
      "word attr tensor([ 0.4436,  0.0170,  0.7708,  0.1954, -0.0589,  0.0067,  0.1599, -0.0499,\n",
      "        -0.3130,  0.2025], dtype=torch.float64, grad_fn=<AsStridedBackward0>)\n",
      "conti attr [tensor(0.4436, dtype=torch.float64, grad_fn=<UnbindBackward0>), tensor(0.0170, dtype=torch.float64, grad_fn=<UnbindBackward0>), tensor(0.9663, dtype=torch.float64, grad_fn=<AddBackward0>), tensor(-0.0522, dtype=torch.float64, grad_fn=<AddBackward0>), tensor(0.1599, dtype=torch.float64, grad_fn=<UnbindBackward0>), tensor(-0.0499, dtype=torch.float64, grad_fn=<UnbindBackward0>), tensor(-0.3130, dtype=torch.float64, grad_fn=<UnbindBackward0>), tensor(0.2025, dtype=torch.float64, grad_fn=<UnbindBackward0>)]\n",
      "detokenized ['<s>', 'the', 'clim', 'actic', 'hour', 'long', 'cricket', 'match', '', '</s>']\n",
      "len conti_raw 8\n",
      "conti_raw ['<s>', 'the', 'climactic', 'hourlong', 'cricket', 'match', '', '</s>']\n"
     ]
    },
    {
     "data": {
      "text/html": [
       "<table width: 100%><div style=\"border-top: 1px solid; margin-top: 5px;             padding-top: 5px; display: inline-block\"><b>Legend: </b><span style=\"display: inline-block; width: 10px; height: 10px;                 border: 1px solid; background-color:                 hsl(0, 75%, 60%)\"></span> Negative  <span style=\"display: inline-block; width: 10px; height: 10px;                 border: 1px solid; background-color:                 hsl(0, 75%, 100%)\"></span> Neutral  <span style=\"display: inline-block; width: 10px; height: 10px;                 border: 1px solid; background-color:                 hsl(120, 75%, 50%)\"></span> Positive  </div><tr><th>True Label</th><th>Predicted Label</th><th>Attribution Label</th><th>Attribution Score</th><th>Word Importance</th><tr><td><text style=\"padding-right:2em\"><b>Pos</b></text></td><td><text style=\"padding-right:2em\"><b>Pos (1.00)</b></text></td><td><text style=\"padding-right:2em\"><b>Pos</b></text></td><td><text style=\"padding-right:2em\"><b>1.37</b></text></td><td><mark style=\"background-color: hsl(120, 75%, 78%); opacity:1.0;                     line-height:1.75\"><font color=\"black\"> #s                    </font></mark><mark style=\"background-color: hsl(120, 75%, 100%); opacity:1.0;                     line-height:1.75\"><font color=\"black\"> the                    </font></mark><mark style=\"background-color: hsl(120, 75%, 52%); opacity:1.0;                     line-height:1.75\"><font color=\"black\"> climactic                    </font></mark><mark style=\"background-color: hsl(0, 75%, 98%); opacity:1.0;                     line-height:1.75\"><font color=\"black\"> hourlong                    </font></mark><mark style=\"background-color: hsl(120, 75%, 93%); opacity:1.0;                     line-height:1.75\"><font color=\"black\"> cricket                    </font></mark><mark style=\"background-color: hsl(0, 75%, 99%); opacity:1.0;                     line-height:1.75\"><font color=\"black\"> match                    </font></mark><mark style=\"background-color: hsl(0, 75%, 88%); opacity:1.0;                     line-height:1.75\"><font color=\"black\">                     </font></mark><mark style=\"background-color: hsl(120, 75%, 90%); opacity:1.0;                     line-height:1.75\"><font color=\"black\"> #/s                    </font></mark></td><tr></table>"
      ],
      "text/plain": [
       "<IPython.core.display.HTML object>"
      ]
     },
     "metadata": {},
     "output_type": "display_data"
    },
    {
     "name": "stdout",
     "output_type": "stream",
     "text": [
      "<IPython.core.display.HTML object>\n",
      "Raw review: alternating between facetious comic parody and pulp melodrama , this smart-aleck movie ... tosses around some intriguing questions about the difference between human and android life \n",
      "GT target: 1\n",
      "word attr tensor([-9.3694e-01,  6.7604e-03, -4.5076e-03, -2.2271e-02,  5.0505e-04,\n",
      "         1.4836e-01, -6.0348e-02,  1.5365e-02, -2.8832e-02,  9.1934e-03,\n",
      "         3.2357e-04,  7.3073e-03, -1.8553e-02,  1.0621e-02,  1.0349e-01,\n",
      "        -2.6027e-03,  1.2546e-01,  3.0623e-03,  1.1424e-02, -1.2058e-02,\n",
      "        -1.2701e-02, -3.6992e-02,  3.3483e-03,  7.0548e-03, -2.9692e-03,\n",
      "         1.4441e-01,  1.8231e-02, -1.3598e-01,  1.3372e-01,  9.2966e-03,\n",
      "        -6.3842e-03,  8.8759e-03,  4.2726e-02,  6.4709e-03,  1.0729e-02,\n",
      "        -7.5951e-03, -7.8211e-02], dtype=torch.float64,\n",
      "       grad_fn=<AsStridedBackward0>)\n",
      "conti attr [tensor(-0.9369, dtype=torch.float64, grad_fn=<UnbindBackward0>), tensor(0.0023, dtype=torch.float64, grad_fn=<AddBackward0>), tensor(-0.0223, dtype=torch.float64, grad_fn=<UnbindBackward0>), tensor(0.1489, dtype=torch.float64, grad_fn=<AddBackward0>), tensor(-0.0603, dtype=torch.float64, grad_fn=<UnbindBackward0>), tensor(0.0154, dtype=torch.float64, grad_fn=<UnbindBackward0>), tensor(-0.0288, dtype=torch.float64, grad_fn=<UnbindBackward0>), tensor(0.0092, dtype=torch.float64, grad_fn=<UnbindBackward0>), tensor(-0.0109, dtype=torch.float64, grad_fn=<AddBackward0>), tensor(0.0106, dtype=torch.float64, grad_fn=<UnbindBackward0>), tensor(0.1035, dtype=torch.float64, grad_fn=<UnbindBackward0>), tensor(0.1373, dtype=torch.float64, grad_fn=<AddBackward0>), tensor(-0.0121, dtype=torch.float64, grad_fn=<UnbindBackward0>), tensor(-0.0127, dtype=torch.float64, grad_fn=<UnbindBackward0>), tensor(-0.0336, dtype=torch.float64, grad_fn=<AddBackward0>), tensor(0.0071, dtype=torch.float64, grad_fn=<UnbindBackward0>), tensor(-0.0030, dtype=torch.float64, grad_fn=<UnbindBackward0>), tensor(0.1444, dtype=torch.float64, grad_fn=<UnbindBackward0>), tensor(0.0182, dtype=torch.float64, grad_fn=<UnbindBackward0>), tensor(-0.1360, dtype=torch.float64, grad_fn=<UnbindBackward0>), tensor(0.1337, dtype=torch.float64, grad_fn=<UnbindBackward0>), tensor(0.0093, dtype=torch.float64, grad_fn=<UnbindBackward0>), tensor(-0.0064, dtype=torch.float64, grad_fn=<UnbindBackward0>), tensor(0.0089, dtype=torch.float64, grad_fn=<UnbindBackward0>), tensor(0.0427, dtype=torch.float64, grad_fn=<UnbindBackward0>), tensor(0.0065, dtype=torch.float64, grad_fn=<UnbindBackward0>), tensor(0.0107, dtype=torch.float64, grad_fn=<UnbindBackward0>), tensor(-0.0076, dtype=torch.float64, grad_fn=<UnbindBackward0>), tensor(-0.0782, dtype=torch.float64, grad_fn=<UnbindBackward0>)]\n",
      "detokenized ['<s>', 'altern', 'ating', 'between', 'facet', 'ious', 'comic', 'parody', 'and', 'pulp', 'mel', 'od', 'rama', ',', 'this', 'smart', '-', 'ale', 'ck', 'movie', '...', 'toss', 'es', 'around', 'some', 'intriguing', 'questions', 'about', 'the', 'difference', 'between', 'human', 'and', 'android', 'life', '', '</s>']\n",
      "len conti_raw 29\n",
      "conti_raw ['<s>', 'alternating', 'between', 'facetious', 'comic', 'parody', 'and', 'pulp', 'melodrama', ',', 'this', 'smart-aleck', 'movie', '...', 'tosses', 'around', 'some', 'intriguing', 'questions', 'about', 'the', 'difference', 'between', 'human', 'and', 'android', 'life', '', '</s>']\n"
     ]
    },
    {
     "data": {
      "text/html": [
       "<table width: 100%><div style=\"border-top: 1px solid; margin-top: 5px;             padding-top: 5px; display: inline-block\"><b>Legend: </b><span style=\"display: inline-block; width: 10px; height: 10px;                 border: 1px solid; background-color:                 hsl(0, 75%, 60%)\"></span> Negative  <span style=\"display: inline-block; width: 10px; height: 10px;                 border: 1px solid; background-color:                 hsl(0, 75%, 100%)\"></span> Neutral  <span style=\"display: inline-block; width: 10px; height: 10px;                 border: 1px solid; background-color:                 hsl(120, 75%, 50%)\"></span> Positive  </div><tr><th>True Label</th><th>Predicted Label</th><th>Attribution Label</th><th>Attribution Score</th><th>Word Importance</th><tr><td><text style=\"padding-right:2em\"><b>Pos</b></text></td><td><text style=\"padding-right:2em\"><b>Pos (1.00)</b></text></td><td><text style=\"padding-right:2em\"><b>Neg</b></text></td><td><text style=\"padding-right:2em\"><b>-0.54</b></text></td><td><mark style=\"background-color: hsl(0, 75%, 63%); opacity:1.0;                     line-height:1.75\"><font color=\"black\"> #s                    </font></mark><mark style=\"background-color: hsl(120, 75%, 100%); opacity:1.0;                     line-height:1.75\"><font color=\"black\"> alternating                    </font></mark><mark style=\"background-color: hsl(0, 75%, 100%); opacity:1.0;                     line-height:1.75\"><font color=\"black\"> between                    </font></mark><mark style=\"background-color: hsl(120, 75%, 93%); opacity:1.0;                     line-height:1.75\"><font color=\"black\"> facetious                    </font></mark><mark style=\"background-color: hsl(0, 75%, 98%); opacity:1.0;                     line-height:1.75\"><font color=\"black\"> comic                    </font></mark><mark style=\"background-color: hsl(120, 75%, 100%); opacity:1.0;                     line-height:1.75\"><font color=\"black\"> parody                    </font></mark><mark style=\"background-color: hsl(0, 75%, 99%); opacity:1.0;                     line-height:1.75\"><font color=\"black\"> and                    </font></mark><mark style=\"background-color: hsl(120, 75%, 100%); opacity:1.0;                     line-height:1.75\"><font color=\"black\"> pulp                    </font></mark><mark style=\"background-color: hsl(0, 75%, 100%); opacity:1.0;                     line-height:1.75\"><font color=\"black\"> melodrama                    </font></mark><mark style=\"background-color: hsl(120, 75%, 100%); opacity:1.0;                     line-height:1.75\"><font color=\"black\"> ,                    </font></mark><mark style=\"background-color: hsl(120, 75%, 95%); opacity:1.0;                     line-height:1.75\"><font color=\"black\"> this                    </font></mark><mark style=\"background-color: hsl(120, 75%, 94%); opacity:1.0;                     line-height:1.75\"><font color=\"black\"> smart-aleck                    </font></mark><mark style=\"background-color: hsl(0, 75%, 100%); opacity:1.0;                     line-height:1.75\"><font color=\"black\"> movie                    </font></mark><mark style=\"background-color: hsl(0, 75%, 100%); opacity:1.0;                     line-height:1.75\"><font color=\"black\"> ...                    </font></mark><mark style=\"background-color: hsl(0, 75%, 99%); opacity:1.0;                     line-height:1.75\"><font color=\"black\"> tosses                    </font></mark><mark style=\"background-color: hsl(120, 75%, 100%); opacity:1.0;                     line-height:1.75\"><font color=\"black\"> around                    </font></mark><mark style=\"background-color: hsl(0, 75%, 100%); opacity:1.0;                     line-height:1.75\"><font color=\"black\"> some                    </font></mark><mark style=\"background-color: hsl(120, 75%, 93%); opacity:1.0;                     line-height:1.75\"><font color=\"black\"> intriguing                    </font></mark><mark style=\"background-color: hsl(120, 75%, 100%); opacity:1.0;                     line-height:1.75\"><font color=\"black\"> questions                    </font></mark><mark style=\"background-color: hsl(0, 75%, 95%); opacity:1.0;                     line-height:1.75\"><font color=\"black\"> about                    </font></mark><mark style=\"background-color: hsl(120, 75%, 94%); opacity:1.0;                     line-height:1.75\"><font color=\"black\"> the                    </font></mark><mark style=\"background-color: hsl(120, 75%, 100%); opacity:1.0;                     line-height:1.75\"><font color=\"black\"> difference                    </font></mark><mark style=\"background-color: hsl(0, 75%, 100%); opacity:1.0;                     line-height:1.75\"><font color=\"black\"> between                    </font></mark><mark style=\"background-color: hsl(120, 75%, 100%); opacity:1.0;                     line-height:1.75\"><font color=\"black\"> human                    </font></mark><mark style=\"background-color: hsl(120, 75%, 98%); opacity:1.0;                     line-height:1.75\"><font color=\"black\"> and                    </font></mark><mark style=\"background-color: hsl(120, 75%, 100%); opacity:1.0;                     line-height:1.75\"><font color=\"black\"> android                    </font></mark><mark style=\"background-color: hsl(120, 75%, 100%); opacity:1.0;                     line-height:1.75\"><font color=\"black\"> life                    </font></mark><mark style=\"background-color: hsl(0, 75%, 100%); opacity:1.0;                     line-height:1.75\"><font color=\"black\">                     </font></mark><mark style=\"background-color: hsl(0, 75%, 97%); opacity:1.0;                     line-height:1.75\"><font color=\"black\"> #/s                    </font></mark></td><tr></table>"
      ],
      "text/plain": [
       "<IPython.core.display.HTML object>"
      ]
     },
     "metadata": {},
     "output_type": "display_data"
    },
    {
     "name": "stdout",
     "output_type": "stream",
     "text": [
      "<IPython.core.display.HTML object>\n",
      "Raw review: to be a part of that elusive adult world \n",
      "GT target: 1\n",
      "word attr tensor([-0.4825, -0.1470, -0.1131, -0.1272,  0.0513,  0.4866, -0.2876,  0.1336,\n",
      "        -0.3156,  0.4973,  0.1292,  0.1140], dtype=torch.float64,\n",
      "       grad_fn=<AsStridedBackward0>)\n",
      "conti attr [tensor(-0.4825, dtype=torch.float64, grad_fn=<UnbindBackward0>), tensor(-0.1470, dtype=torch.float64, grad_fn=<UnbindBackward0>), tensor(-0.1131, dtype=torch.float64, grad_fn=<UnbindBackward0>), tensor(-0.1272, dtype=torch.float64, grad_fn=<UnbindBackward0>), tensor(0.0513, dtype=torch.float64, grad_fn=<UnbindBackward0>), tensor(0.4866, dtype=torch.float64, grad_fn=<UnbindBackward0>), tensor(-0.2876, dtype=torch.float64, grad_fn=<UnbindBackward0>), tensor(0.1336, dtype=torch.float64, grad_fn=<UnbindBackward0>), tensor(-0.3156, dtype=torch.float64, grad_fn=<UnbindBackward0>), tensor(0.4973, dtype=torch.float64, grad_fn=<UnbindBackward0>), tensor(0.1292, dtype=torch.float64, grad_fn=<UnbindBackward0>), tensor(0.1140, dtype=torch.float64, grad_fn=<UnbindBackward0>)]\n",
      "detokenized ['<s>', 'to', 'be', 'a', 'part', 'of', 'that', 'elusive', 'adult', 'world', '', '</s>']\n",
      "len conti_raw 12\n",
      "conti_raw ['<s>', 'to', 'be', 'a', 'part', 'of', 'that', 'elusive', 'adult', 'world', '', '</s>']\n"
     ]
    },
    {
     "data": {
      "text/html": [
       "<table width: 100%><div style=\"border-top: 1px solid; margin-top: 5px;             padding-top: 5px; display: inline-block\"><b>Legend: </b><span style=\"display: inline-block; width: 10px; height: 10px;                 border: 1px solid; background-color:                 hsl(0, 75%, 60%)\"></span> Negative  <span style=\"display: inline-block; width: 10px; height: 10px;                 border: 1px solid; background-color:                 hsl(0, 75%, 100%)\"></span> Neutral  <span style=\"display: inline-block; width: 10px; height: 10px;                 border: 1px solid; background-color:                 hsl(120, 75%, 50%)\"></span> Positive  </div><tr><th>True Label</th><th>Predicted Label</th><th>Attribution Label</th><th>Attribution Score</th><th>Word Importance</th><tr><td><text style=\"padding-right:2em\"><b>Pos</b></text></td><td><text style=\"padding-right:2em\"><b>Pos (1.00)</b></text></td><td><text style=\"padding-right:2em\"><b>Neg</b></text></td><td><text style=\"padding-right:2em\"><b>-0.06</b></text></td><td><mark style=\"background-color: hsl(0, 75%, 81%); opacity:1.0;                     line-height:1.75\"><font color=\"black\"> #s                    </font></mark><mark style=\"background-color: hsl(0, 75%, 95%); opacity:1.0;                     line-height:1.75\"><font color=\"black\"> to                    </font></mark><mark style=\"background-color: hsl(0, 75%, 96%); opacity:1.0;                     line-height:1.75\"><font color=\"black\"> be                    </font></mark><mark style=\"background-color: hsl(0, 75%, 95%); opacity:1.0;                     line-height:1.75\"><font color=\"black\"> a                    </font></mark><mark style=\"background-color: hsl(120, 75%, 98%); opacity:1.0;                     line-height:1.75\"><font color=\"black\"> part                    </font></mark><mark style=\"background-color: hsl(120, 75%, 76%); opacity:1.0;                     line-height:1.75\"><font color=\"black\"> of                    </font></mark><mark style=\"background-color: hsl(0, 75%, 89%); opacity:1.0;                     line-height:1.75\"><font color=\"black\"> that                    </font></mark><mark style=\"background-color: hsl(120, 75%, 94%); opacity:1.0;                     line-height:1.75\"><font color=\"black\"> elusive                    </font></mark><mark style=\"background-color: hsl(0, 75%, 88%); opacity:1.0;                     line-height:1.75\"><font color=\"black\"> adult                    </font></mark><mark style=\"background-color: hsl(120, 75%, 76%); opacity:1.0;                     line-height:1.75\"><font color=\"black\"> world                    </font></mark><mark style=\"background-color: hsl(120, 75%, 94%); opacity:1.0;                     line-height:1.75\"><font color=\"black\">                     </font></mark><mark style=\"background-color: hsl(120, 75%, 95%); opacity:1.0;                     line-height:1.75\"><font color=\"black\"> #/s                    </font></mark></td><tr></table>"
      ],
      "text/plain": [
       "<IPython.core.display.HTML object>"
      ]
     },
     "metadata": {},
     "output_type": "display_data"
    },
    {
     "name": "stdout",
     "output_type": "stream",
     "text": [
      "<IPython.core.display.HTML object>\n",
      "Raw review: emotional power \n",
      "GT target: 1\n",
      "word attr tensor([ 0.5542, -0.0842,  0.5108, -0.2103,  0.5793,  0.2122],\n",
      "       dtype=torch.float64, grad_fn=<AsStridedBackward0>)\n",
      "conti attr [tensor(0.5542, dtype=torch.float64, grad_fn=<UnbindBackward0>), tensor(0.4266, dtype=torch.float64, grad_fn=<AddBackward0>), tensor(-0.2103, dtype=torch.float64, grad_fn=<UnbindBackward0>), tensor(0.5793, dtype=torch.float64, grad_fn=<UnbindBackward0>), tensor(0.2122, dtype=torch.float64, grad_fn=<UnbindBackward0>)]\n",
      "detokenized ['<s>', 'em', 'otional', 'power', '', '</s>']\n",
      "len conti_raw 5\n",
      "conti_raw ['<s>', 'emotional', 'power', '', '</s>']\n"
     ]
    },
    {
     "data": {
      "text/html": [
       "<table width: 100%><div style=\"border-top: 1px solid; margin-top: 5px;             padding-top: 5px; display: inline-block\"><b>Legend: </b><span style=\"display: inline-block; width: 10px; height: 10px;                 border: 1px solid; background-color:                 hsl(0, 75%, 60%)\"></span> Negative  <span style=\"display: inline-block; width: 10px; height: 10px;                 border: 1px solid; background-color:                 hsl(0, 75%, 100%)\"></span> Neutral  <span style=\"display: inline-block; width: 10px; height: 10px;                 border: 1px solid; background-color:                 hsl(120, 75%, 50%)\"></span> Positive  </div><tr><th>True Label</th><th>Predicted Label</th><th>Attribution Label</th><th>Attribution Score</th><th>Word Importance</th><tr><td><text style=\"padding-right:2em\"><b>Pos</b></text></td><td><text style=\"padding-right:2em\"><b>Pos (1.00)</b></text></td><td><text style=\"padding-right:2em\"><b>Pos</b></text></td><td><text style=\"padding-right:2em\"><b>1.56</b></text></td><td><mark style=\"background-color: hsl(120, 75%, 73%); opacity:1.0;                     line-height:1.75\"><font color=\"black\"> #s                    </font></mark><mark style=\"background-color: hsl(120, 75%, 79%); opacity:1.0;                     line-height:1.75\"><font color=\"black\"> emotional                    </font></mark><mark style=\"background-color: hsl(0, 75%, 92%); opacity:1.0;                     line-height:1.75\"><font color=\"black\"> power                    </font></mark><mark style=\"background-color: hsl(120, 75%, 72%); opacity:1.0;                     line-height:1.75\"><font color=\"black\">                     </font></mark><mark style=\"background-color: hsl(120, 75%, 90%); opacity:1.0;                     line-height:1.75\"><font color=\"black\"> #/s                    </font></mark></td><tr></table>"
      ],
      "text/plain": [
       "<IPython.core.display.HTML object>"
      ]
     },
     "metadata": {},
     "output_type": "display_data"
    },
    {
     "name": "stdout",
     "output_type": "stream",
     "text": [
      "<IPython.core.display.HTML object>\n",
      "Raw review: reminds you of why animation is such a perfect medium for children , because of the way it allows the mind to enter and accept another world \n",
      "GT target: 1\n",
      "word attr tensor([-9.9167e-01, -1.6842e-02,  7.5496e-03, -3.3890e-02,  9.2371e-04,\n",
      "        -6.1043e-03, -2.4555e-04,  5.3367e-02,  3.7824e-03, -1.6277e-02,\n",
      "         1.7271e-03,  3.7763e-03, -7.5342e-03,  1.9639e-03, -5.8248e-04,\n",
      "        -2.7176e-02, -2.6642e-02,  8.5135e-02, -1.8055e-02, -2.5414e-03,\n",
      "        -1.5018e-02,  1.9300e-03, -1.0266e-02, -9.8512e-03, -5.7769e-03,\n",
      "         2.0386e-02,  2.2832e-02, -1.8173e-02, -1.4948e-02, -1.0229e-04,\n",
      "        -1.6824e-02, -2.4093e-02], dtype=torch.float64,\n",
      "       grad_fn=<AsStridedBackward0>)\n",
      "conti attr [tensor(-0.9917, dtype=torch.float64, grad_fn=<UnbindBackward0>), tensor(-0.0432, dtype=torch.float64, grad_fn=<AddBackward0>), tensor(0.0009, dtype=torch.float64, grad_fn=<UnbindBackward0>), tensor(-0.0061, dtype=torch.float64, grad_fn=<UnbindBackward0>), tensor(-0.0002, dtype=torch.float64, grad_fn=<UnbindBackward0>), tensor(0.0534, dtype=torch.float64, grad_fn=<UnbindBackward0>), tensor(0.0038, dtype=torch.float64, grad_fn=<UnbindBackward0>), tensor(-0.0163, dtype=torch.float64, grad_fn=<UnbindBackward0>), tensor(0.0017, dtype=torch.float64, grad_fn=<UnbindBackward0>), tensor(0.0038, dtype=torch.float64, grad_fn=<UnbindBackward0>), tensor(-0.0075, dtype=torch.float64, grad_fn=<UnbindBackward0>), tensor(0.0020, dtype=torch.float64, grad_fn=<UnbindBackward0>), tensor(-0.0006, dtype=torch.float64, grad_fn=<UnbindBackward0>), tensor(-0.0272, dtype=torch.float64, grad_fn=<UnbindBackward0>), tensor(-0.0266, dtype=torch.float64, grad_fn=<UnbindBackward0>), tensor(0.0851, dtype=torch.float64, grad_fn=<UnbindBackward0>), tensor(-0.0181, dtype=torch.float64, grad_fn=<UnbindBackward0>), tensor(-0.0025, dtype=torch.float64, grad_fn=<UnbindBackward0>), tensor(-0.0150, dtype=torch.float64, grad_fn=<UnbindBackward0>), tensor(0.0019, dtype=torch.float64, grad_fn=<UnbindBackward0>), tensor(-0.0103, dtype=torch.float64, grad_fn=<UnbindBackward0>), tensor(-0.0099, dtype=torch.float64, grad_fn=<UnbindBackward0>), tensor(-0.0058, dtype=torch.float64, grad_fn=<UnbindBackward0>), tensor(0.0204, dtype=torch.float64, grad_fn=<UnbindBackward0>), tensor(0.0228, dtype=torch.float64, grad_fn=<UnbindBackward0>), tensor(-0.0182, dtype=torch.float64, grad_fn=<UnbindBackward0>), tensor(-0.0149, dtype=torch.float64, grad_fn=<UnbindBackward0>), tensor(-0.0001, dtype=torch.float64, grad_fn=<UnbindBackward0>), tensor(-0.0168, dtype=torch.float64, grad_fn=<UnbindBackward0>), tensor(-0.0241, dtype=torch.float64, grad_fn=<UnbindBackward0>)]\n",
      "detokenized ['<s>', 'rem', 'ind', 's', 'you', 'of', 'why', 'animation', 'is', 'such', 'a', 'perfect', 'medium', 'for', 'children', ',', 'because', 'of', 'the', 'way', 'it', 'allows', 'the', 'mind', 'to', 'enter', 'and', 'accept', 'another', 'world', '', '</s>']\n",
      "len conti_raw 30\n",
      "conti_raw ['<s>', 'reminds', 'you', 'of', 'why', 'animation', 'is', 'such', 'a', 'perfect', 'medium', 'for', 'children', ',', 'because', 'of', 'the', 'way', 'it', 'allows', 'the', 'mind', 'to', 'enter', 'and', 'accept', 'another', 'world', '', '</s>']\n"
     ]
    },
    {
     "data": {
      "text/html": [
       "<table width: 100%><div style=\"border-top: 1px solid; margin-top: 5px;             padding-top: 5px; display: inline-block\"><b>Legend: </b><span style=\"display: inline-block; width: 10px; height: 10px;                 border: 1px solid; background-color:                 hsl(0, 75%, 60%)\"></span> Negative  <span style=\"display: inline-block; width: 10px; height: 10px;                 border: 1px solid; background-color:                 hsl(0, 75%, 100%)\"></span> Neutral  <span style=\"display: inline-block; width: 10px; height: 10px;                 border: 1px solid; background-color:                 hsl(120, 75%, 50%)\"></span> Positive  </div><tr><th>True Label</th><th>Predicted Label</th><th>Attribution Label</th><th>Attribution Score</th><th>Word Importance</th><tr><td><text style=\"padding-right:2em\"><b>Pos</b></text></td><td><text style=\"padding-right:2em\"><b>Pos (1.00)</b></text></td><td><text style=\"padding-right:2em\"><b>Neg</b></text></td><td><text style=\"padding-right:2em\"><b>-1.06</b></text></td><td><mark style=\"background-color: hsl(0, 75%, 61%); opacity:1.0;                     line-height:1.75\"><font color=\"black\"> #s                    </font></mark><mark style=\"background-color: hsl(0, 75%, 99%); opacity:1.0;                     line-height:1.75\"><font color=\"black\"> reminds                    </font></mark><mark style=\"background-color: hsl(120, 75%, 100%); opacity:1.0;                     line-height:1.75\"><font color=\"black\"> you                    </font></mark><mark style=\"background-color: hsl(0, 75%, 100%); opacity:1.0;                     line-height:1.75\"><font color=\"black\"> of                    </font></mark><mark style=\"background-color: hsl(0, 75%, 100%); opacity:1.0;                     line-height:1.75\"><font color=\"black\"> why                    </font></mark><mark style=\"background-color: hsl(120, 75%, 98%); opacity:1.0;                     line-height:1.75\"><font color=\"black\"> animation                    </font></mark><mark style=\"background-color: hsl(120, 75%, 100%); opacity:1.0;                     line-height:1.75\"><font color=\"black\"> is                    </font></mark><mark style=\"background-color: hsl(0, 75%, 100%); opacity:1.0;                     line-height:1.75\"><font color=\"black\"> such                    </font></mark><mark style=\"background-color: hsl(120, 75%, 100%); opacity:1.0;                     line-height:1.75\"><font color=\"black\"> a                    </font></mark><mark style=\"background-color: hsl(120, 75%, 100%); opacity:1.0;                     line-height:1.75\"><font color=\"black\"> perfect                    </font></mark><mark style=\"background-color: hsl(0, 75%, 100%); opacity:1.0;                     line-height:1.75\"><font color=\"black\"> medium                    </font></mark><mark style=\"background-color: hsl(120, 75%, 100%); opacity:1.0;                     line-height:1.75\"><font color=\"black\"> for                    </font></mark><mark style=\"background-color: hsl(0, 75%, 100%); opacity:1.0;                     line-height:1.75\"><font color=\"black\"> children                    </font></mark><mark style=\"background-color: hsl(0, 75%, 99%); opacity:1.0;                     line-height:1.75\"><font color=\"black\"> ,                    </font></mark><mark style=\"background-color: hsl(0, 75%, 99%); opacity:1.0;                     line-height:1.75\"><font color=\"black\"> because                    </font></mark><mark style=\"background-color: hsl(120, 75%, 96%); opacity:1.0;                     line-height:1.75\"><font color=\"black\"> of                    </font></mark><mark style=\"background-color: hsl(0, 75%, 100%); opacity:1.0;                     line-height:1.75\"><font color=\"black\"> the                    </font></mark><mark style=\"background-color: hsl(0, 75%, 100%); opacity:1.0;                     line-height:1.75\"><font color=\"black\"> way                    </font></mark><mark style=\"background-color: hsl(0, 75%, 100%); opacity:1.0;                     line-height:1.75\"><font color=\"black\"> it                    </font></mark><mark style=\"background-color: hsl(120, 75%, 100%); opacity:1.0;                     line-height:1.75\"><font color=\"black\"> allows                    </font></mark><mark style=\"background-color: hsl(0, 75%, 100%); opacity:1.0;                     line-height:1.75\"><font color=\"black\"> the                    </font></mark><mark style=\"background-color: hsl(0, 75%, 100%); opacity:1.0;                     line-height:1.75\"><font color=\"black\"> mind                    </font></mark><mark style=\"background-color: hsl(0, 75%, 100%); opacity:1.0;                     line-height:1.75\"><font color=\"black\"> to                    </font></mark><mark style=\"background-color: hsl(120, 75%, 99%); opacity:1.0;                     line-height:1.75\"><font color=\"black\"> enter                    </font></mark><mark style=\"background-color: hsl(120, 75%, 99%); opacity:1.0;                     line-height:1.75\"><font color=\"black\"> and                    </font></mark><mark style=\"background-color: hsl(0, 75%, 100%); opacity:1.0;                     line-height:1.75\"><font color=\"black\"> accept                    </font></mark><mark style=\"background-color: hsl(0, 75%, 100%); opacity:1.0;                     line-height:1.75\"><font color=\"black\"> another                    </font></mark><mark style=\"background-color: hsl(0, 75%, 100%); opacity:1.0;                     line-height:1.75\"><font color=\"black\"> world                    </font></mark><mark style=\"background-color: hsl(0, 75%, 100%); opacity:1.0;                     line-height:1.75\"><font color=\"black\">                     </font></mark><mark style=\"background-color: hsl(0, 75%, 100%); opacity:1.0;                     line-height:1.75\"><font color=\"black\"> #/s                    </font></mark></td><tr></table>"
      ],
      "text/plain": [
       "<IPython.core.display.HTML object>"
      ]
     },
     "metadata": {},
     "output_type": "display_data"
    },
    {
     "name": "stdout",
     "output_type": "stream",
     "text": [
      "<IPython.core.display.HTML object>\n",
      "Raw review: unparalleled proportions , writer-director parker \n",
      "GT target: 1\n",
      "word attr tensor([-0.2997,  0.0624,  0.2539, -0.0582, -0.0168,  0.0118, -0.8623, -0.0559,\n",
      "         0.2527, -0.0066,  0.0141, -0.1651], dtype=torch.float64,\n",
      "       grad_fn=<AsStridedBackward0>)\n",
      "conti attr [tensor(-0.2997, dtype=torch.float64, grad_fn=<UnbindBackward0>), tensor(0.3163, dtype=torch.float64, grad_fn=<AddBackward0>), tensor(-0.0582, dtype=torch.float64, grad_fn=<UnbindBackward0>), tensor(-0.0168, dtype=torch.float64, grad_fn=<UnbindBackward0>), tensor(-0.9064, dtype=torch.float64, grad_fn=<AddBackward0>), tensor(0.2461, dtype=torch.float64, grad_fn=<AddBackward0>), tensor(0.0141, dtype=torch.float64, grad_fn=<UnbindBackward0>), tensor(-0.1651, dtype=torch.float64, grad_fn=<UnbindBackward0>)]\n",
      "detokenized ['<s>', 'un', 'paralleled', 'proportions', ',', 'writer', '-', 'director', 'park', 'er', '', '</s>']\n",
      "len conti_raw 8\n",
      "conti_raw ['<s>', 'unparalleled', 'proportions', ',', 'writer-director', 'parker', '', '</s>']\n"
     ]
    },
    {
     "data": {
      "text/html": [
       "<table width: 100%><div style=\"border-top: 1px solid; margin-top: 5px;             padding-top: 5px; display: inline-block\"><b>Legend: </b><span style=\"display: inline-block; width: 10px; height: 10px;                 border: 1px solid; background-color:                 hsl(0, 75%, 60%)\"></span> Negative  <span style=\"display: inline-block; width: 10px; height: 10px;                 border: 1px solid; background-color:                 hsl(0, 75%, 100%)\"></span> Neutral  <span style=\"display: inline-block; width: 10px; height: 10px;                 border: 1px solid; background-color:                 hsl(120, 75%, 50%)\"></span> Positive  </div><tr><th>True Label</th><th>Predicted Label</th><th>Attribution Label</th><th>Attribution Score</th><th>Word Importance</th><tr><td><text style=\"padding-right:2em\"><b>Pos</b></text></td><td><text style=\"padding-right:2em\"><b>Pos (1.00)</b></text></td><td><text style=\"padding-right:2em\"><b>Neg</b></text></td><td><text style=\"padding-right:2em\"><b>-0.87</b></text></td><td><mark style=\"background-color: hsl(0, 75%, 89%); opacity:1.0;                     line-height:1.75\"><font color=\"black\"> #s                    </font></mark><mark style=\"background-color: hsl(120, 75%, 85%); opacity:1.0;                     line-height:1.75\"><font color=\"black\"> unparalleled                    </font></mark><mark style=\"background-color: hsl(0, 75%, 98%); opacity:1.0;                     line-height:1.75\"><font color=\"black\"> proportions                    </font></mark><mark style=\"background-color: hsl(0, 75%, 100%); opacity:1.0;                     line-height:1.75\"><font color=\"black\"> ,                    </font></mark><mark style=\"background-color: hsl(0, 75%, 64%); opacity:1.0;                     line-height:1.75\"><font color=\"black\"> writer-director                    </font></mark><mark style=\"background-color: hsl(120, 75%, 88%); opacity:1.0;                     line-height:1.75\"><font color=\"black\"> parker                    </font></mark><mark style=\"background-color: hsl(120, 75%, 100%); opacity:1.0;                     line-height:1.75\"><font color=\"black\">                     </font></mark><mark style=\"background-color: hsl(0, 75%, 94%); opacity:1.0;                     line-height:1.75\"><font color=\"black\"> #/s                    </font></mark></td><tr></table>"
      ],
      "text/plain": [
       "<IPython.core.display.HTML object>"
      ]
     },
     "metadata": {},
     "output_type": "display_data"
    },
    {
     "name": "stdout",
     "output_type": "stream",
     "text": [
      "<IPython.core.display.HTML object>\n",
      "Raw review: this surprisingly decent flick \n",
      "GT target: 1\n",
      "word attr tensor([-0.9739, -0.0261, -0.0904,  0.0553, -0.0374, -0.1321, -0.1440],\n",
      "       dtype=torch.float64, grad_fn=<AsStridedBackward0>)\n",
      "conti attr [tensor(-0.9739, dtype=torch.float64, grad_fn=<UnbindBackward0>), tensor(-0.0261, dtype=torch.float64, grad_fn=<UnbindBackward0>), tensor(-0.0904, dtype=torch.float64, grad_fn=<UnbindBackward0>), tensor(0.0553, dtype=torch.float64, grad_fn=<UnbindBackward0>), tensor(-0.0374, dtype=torch.float64, grad_fn=<UnbindBackward0>), tensor(-0.1321, dtype=torch.float64, grad_fn=<UnbindBackward0>), tensor(-0.1440, dtype=torch.float64, grad_fn=<UnbindBackward0>)]\n",
      "detokenized ['<s>', 'this', 'surprisingly', 'decent', 'flick', '', '</s>']\n",
      "len conti_raw 7\n",
      "conti_raw ['<s>', 'this', 'surprisingly', 'decent', 'flick', '', '</s>']\n"
     ]
    },
    {
     "data": {
      "text/html": [
       "<table width: 100%><div style=\"border-top: 1px solid; margin-top: 5px;             padding-top: 5px; display: inline-block\"><b>Legend: </b><span style=\"display: inline-block; width: 10px; height: 10px;                 border: 1px solid; background-color:                 hsl(0, 75%, 60%)\"></span> Negative  <span style=\"display: inline-block; width: 10px; height: 10px;                 border: 1px solid; background-color:                 hsl(0, 75%, 100%)\"></span> Neutral  <span style=\"display: inline-block; width: 10px; height: 10px;                 border: 1px solid; background-color:                 hsl(120, 75%, 50%)\"></span> Positive  </div><tr><th>True Label</th><th>Predicted Label</th><th>Attribution Label</th><th>Attribution Score</th><th>Word Importance</th><tr><td><text style=\"padding-right:2em\"><b>Pos</b></text></td><td><text style=\"padding-right:2em\"><b>Pos (1.00)</b></text></td><td><text style=\"padding-right:2em\"><b>Neg</b></text></td><td><text style=\"padding-right:2em\"><b>-1.35</b></text></td><td><mark style=\"background-color: hsl(0, 75%, 62%); opacity:1.0;                     line-height:1.75\"><font color=\"black\"> #s                    </font></mark><mark style=\"background-color: hsl(0, 75%, 99%); opacity:1.0;                     line-height:1.75\"><font color=\"black\"> this                    </font></mark><mark style=\"background-color: hsl(0, 75%, 97%); opacity:1.0;                     line-height:1.75\"><font color=\"black\"> surprisingly                    </font></mark><mark style=\"background-color: hsl(120, 75%, 98%); opacity:1.0;                     line-height:1.75\"><font color=\"black\"> decent                    </font></mark><mark style=\"background-color: hsl(0, 75%, 99%); opacity:1.0;                     line-height:1.75\"><font color=\"black\"> flick                    </font></mark><mark style=\"background-color: hsl(0, 75%, 95%); opacity:1.0;                     line-height:1.75\"><font color=\"black\">                     </font></mark><mark style=\"background-color: hsl(0, 75%, 95%); opacity:1.0;                     line-height:1.75\"><font color=\"black\"> #/s                    </font></mark></td><tr></table>"
      ],
      "text/plain": [
       "<IPython.core.display.HTML object>"
      ]
     },
     "metadata": {},
     "output_type": "display_data"
    },
    {
     "name": "stdout",
     "output_type": "stream",
     "text": [
      "<IPython.core.display.HTML object>\n",
      "Raw review: about the best thing you could say about narc is that it 's a rock-solid little genre picture . \n",
      "GT target: 1\n",
      "word attr tensor([-0.9661, -0.0236,  0.1153,  0.0784,  0.0401,  0.0181,  0.0027,  0.0117,\n",
      "        -0.0092, -0.0079, -0.0282, -0.0168, -0.0311, -0.0274, -0.0985, -0.0098,\n",
      "         0.0235, -0.1548,  0.0685, -0.0219,  0.0233, -0.0160,  0.0010,  0.0043,\n",
      "        -0.0372], dtype=torch.float64, grad_fn=<AsStridedBackward0>)\n",
      "conti attr [tensor(-0.9661, dtype=torch.float64, grad_fn=<UnbindBackward0>), tensor(-0.0236, dtype=torch.float64, grad_fn=<UnbindBackward0>), tensor(0.1153, dtype=torch.float64, grad_fn=<UnbindBackward0>), tensor(0.0784, dtype=torch.float64, grad_fn=<UnbindBackward0>), tensor(0.0401, dtype=torch.float64, grad_fn=<UnbindBackward0>), tensor(0.0181, dtype=torch.float64, grad_fn=<UnbindBackward0>), tensor(0.0027, dtype=torch.float64, grad_fn=<UnbindBackward0>), tensor(0.0117, dtype=torch.float64, grad_fn=<UnbindBackward0>), tensor(-0.0092, dtype=torch.float64, grad_fn=<UnbindBackward0>), tensor(-0.0079, dtype=torch.float64, grad_fn=<UnbindBackward0>), tensor(-0.0282, dtype=torch.float64, grad_fn=<UnbindBackward0>), tensor(-0.0168, dtype=torch.float64, grad_fn=<UnbindBackward0>), tensor(-0.0311, dtype=torch.float64, grad_fn=<UnbindBackward0>), tensor(-0.1259, dtype=torch.float64, grad_fn=<AddBackward0>), tensor(-0.0098, dtype=torch.float64, grad_fn=<UnbindBackward0>), tensor(-0.0628, dtype=torch.float64, grad_fn=<AddBackward0>), tensor(-0.0219, dtype=torch.float64, grad_fn=<UnbindBackward0>), tensor(0.0233, dtype=torch.float64, grad_fn=<UnbindBackward0>), tensor(-0.0160, dtype=torch.float64, grad_fn=<UnbindBackward0>), tensor(0.0010, dtype=torch.float64, grad_fn=<UnbindBackward0>), tensor(0.0043, dtype=torch.float64, grad_fn=<UnbindBackward0>), tensor(-0.0372, dtype=torch.float64, grad_fn=<UnbindBackward0>)]\n",
      "detokenized ['<s>', 'about', 'the', 'best', 'thing', 'you', 'could', 'say', 'about', 'narc', 'is', 'that', 'it', \"'\", 's', 'a', 'rock', '-', 'solid', 'little', 'genre', 'picture', '.', '', '</s>']\n",
      "len conti_raw 22\n",
      "conti_raw ['<s>', 'about', 'the', 'best', 'thing', 'you', 'could', 'say', 'about', 'narc', 'is', 'that', 'it', \"'s\", 'a', 'rock-solid', 'little', 'genre', 'picture', '.', '', '</s>']\n"
     ]
    },
    {
     "data": {
      "text/html": [
       "<table width: 100%><div style=\"border-top: 1px solid; margin-top: 5px;             padding-top: 5px; display: inline-block\"><b>Legend: </b><span style=\"display: inline-block; width: 10px; height: 10px;                 border: 1px solid; background-color:                 hsl(0, 75%, 60%)\"></span> Negative  <span style=\"display: inline-block; width: 10px; height: 10px;                 border: 1px solid; background-color:                 hsl(0, 75%, 100%)\"></span> Neutral  <span style=\"display: inline-block; width: 10px; height: 10px;                 border: 1px solid; background-color:                 hsl(120, 75%, 50%)\"></span> Positive  </div><tr><th>True Label</th><th>Predicted Label</th><th>Attribution Label</th><th>Attribution Score</th><th>Word Importance</th><tr><td><text style=\"padding-right:2em\"><b>Pos</b></text></td><td><text style=\"padding-right:2em\"><b>Pos (1.00)</b></text></td><td><text style=\"padding-right:2em\"><b>Neg</b></text></td><td><text style=\"padding-right:2em\"><b>-1.06</b></text></td><td><mark style=\"background-color: hsl(0, 75%, 62%); opacity:1.0;                     line-height:1.75\"><font color=\"black\"> #s                    </font></mark><mark style=\"background-color: hsl(0, 75%, 100%); opacity:1.0;                     line-height:1.75\"><font color=\"black\"> about                    </font></mark><mark style=\"background-color: hsl(120, 75%, 95%); opacity:1.0;                     line-height:1.75\"><font color=\"black\"> the                    </font></mark><mark style=\"background-color: hsl(120, 75%, 97%); opacity:1.0;                     line-height:1.75\"><font color=\"black\"> best                    </font></mark><mark style=\"background-color: hsl(120, 75%, 98%); opacity:1.0;                     line-height:1.75\"><font color=\"black\"> thing                    </font></mark><mark style=\"background-color: hsl(120, 75%, 100%); opacity:1.0;                     line-height:1.75\"><font color=\"black\"> you                    </font></mark><mark style=\"background-color: hsl(120, 75%, 100%); opacity:1.0;                     line-height:1.75\"><font color=\"black\"> could                    </font></mark><mark style=\"background-color: hsl(120, 75%, 100%); opacity:1.0;                     line-height:1.75\"><font color=\"black\"> say                    </font></mark><mark style=\"background-color: hsl(0, 75%, 100%); opacity:1.0;                     line-height:1.75\"><font color=\"black\"> about                    </font></mark><mark style=\"background-color: hsl(0, 75%, 100%); opacity:1.0;                     line-height:1.75\"><font color=\"black\"> narc                    </font></mark><mark style=\"background-color: hsl(0, 75%, 99%); opacity:1.0;                     line-height:1.75\"><font color=\"black\"> is                    </font></mark><mark style=\"background-color: hsl(0, 75%, 100%); opacity:1.0;                     line-height:1.75\"><font color=\"black\"> that                    </font></mark><mark style=\"background-color: hsl(0, 75%, 99%); opacity:1.0;                     line-height:1.75\"><font color=\"black\"> it                    </font></mark><mark style=\"background-color: hsl(0, 75%, 95%); opacity:1.0;                     line-height:1.75\"><font color=\"black\"> 's                    </font></mark><mark style=\"background-color: hsl(0, 75%, 100%); opacity:1.0;                     line-height:1.75\"><font color=\"black\"> a                    </font></mark><mark style=\"background-color: hsl(0, 75%, 98%); opacity:1.0;                     line-height:1.75\"><font color=\"black\"> rock-solid                    </font></mark><mark style=\"background-color: hsl(0, 75%, 100%); opacity:1.0;                     line-height:1.75\"><font color=\"black\"> little                    </font></mark><mark style=\"background-color: hsl(120, 75%, 99%); opacity:1.0;                     line-height:1.75\"><font color=\"black\"> genre                    </font></mark><mark style=\"background-color: hsl(0, 75%, 100%); opacity:1.0;                     line-height:1.75\"><font color=\"black\"> picture                    </font></mark><mark style=\"background-color: hsl(120, 75%, 100%); opacity:1.0;                     line-height:1.75\"><font color=\"black\"> .                    </font></mark><mark style=\"background-color: hsl(120, 75%, 100%); opacity:1.0;                     line-height:1.75\"><font color=\"black\">                     </font></mark><mark style=\"background-color: hsl(0, 75%, 99%); opacity:1.0;                     line-height:1.75\"><font color=\"black\"> #/s                    </font></mark></td><tr></table>"
      ],
      "text/plain": [
       "<IPython.core.display.HTML object>"
      ]
     },
     "metadata": {},
     "output_type": "display_data"
    },
    {
     "name": "stdout",
     "output_type": "stream",
     "text": [
      "<IPython.core.display.HTML object>\n",
      "Raw review: the very best \n",
      "GT target: 1\n",
      "word attr tensor([ 9.7831e-01, -5.4251e-04, -1.0746e-01,  1.6186e-01,  1.1069e-02,\n",
      "         7.1036e-02], dtype=torch.float64, grad_fn=<AsStridedBackward0>)\n",
      "conti attr [tensor(0.9783, dtype=torch.float64, grad_fn=<UnbindBackward0>), tensor(-0.0005, dtype=torch.float64, grad_fn=<UnbindBackward0>), tensor(-0.1075, dtype=torch.float64, grad_fn=<UnbindBackward0>), tensor(0.1619, dtype=torch.float64, grad_fn=<UnbindBackward0>), tensor(0.0111, dtype=torch.float64, grad_fn=<UnbindBackward0>), tensor(0.0710, dtype=torch.float64, grad_fn=<UnbindBackward0>)]\n",
      "detokenized ['<s>', 'the', 'very', 'best', '', '</s>']\n",
      "len conti_raw 6\n",
      "conti_raw ['<s>', 'the', 'very', 'best', '', '</s>']\n"
     ]
    },
    {
     "data": {
      "text/html": [
       "<table width: 100%><div style=\"border-top: 1px solid; margin-top: 5px;             padding-top: 5px; display: inline-block\"><b>Legend: </b><span style=\"display: inline-block; width: 10px; height: 10px;                 border: 1px solid; background-color:                 hsl(0, 75%, 60%)\"></span> Negative  <span style=\"display: inline-block; width: 10px; height: 10px;                 border: 1px solid; background-color:                 hsl(0, 75%, 100%)\"></span> Neutral  <span style=\"display: inline-block; width: 10px; height: 10px;                 border: 1px solid; background-color:                 hsl(120, 75%, 50%)\"></span> Positive  </div><tr><th>True Label</th><th>Predicted Label</th><th>Attribution Label</th><th>Attribution Score</th><th>Word Importance</th><tr><td><text style=\"padding-right:2em\"><b>Pos</b></text></td><td><text style=\"padding-right:2em\"><b>Pos (1.00)</b></text></td><td><text style=\"padding-right:2em\"><b>Pos</b></text></td><td><text style=\"padding-right:2em\"><b>1.11</b></text></td><td><mark style=\"background-color: hsl(120, 75%, 52%); opacity:1.0;                     line-height:1.75\"><font color=\"black\"> #s                    </font></mark><mark style=\"background-color: hsl(0, 75%, 100%); opacity:1.0;                     line-height:1.75\"><font color=\"black\"> the                    </font></mark><mark style=\"background-color: hsl(0, 75%, 96%); opacity:1.0;                     line-height:1.75\"><font color=\"black\"> very                    </font></mark><mark style=\"background-color: hsl(120, 75%, 92%); opacity:1.0;                     line-height:1.75\"><font color=\"black\"> best                    </font></mark><mark style=\"background-color: hsl(120, 75%, 100%); opacity:1.0;                     line-height:1.75\"><font color=\"black\">                     </font></mark><mark style=\"background-color: hsl(120, 75%, 97%); opacity:1.0;                     line-height:1.75\"><font color=\"black\"> #/s                    </font></mark></td><tr></table>"
      ],
      "text/plain": [
       "<IPython.core.display.HTML object>"
      ]
     },
     "metadata": {},
     "output_type": "display_data"
    },
    {
     "name": "stdout",
     "output_type": "stream",
     "text": [
      "<IPython.core.display.HTML object>\n",
      "Raw review: been modeled on the worst revenge-of-the-nerds clichés the filmmakers could dredge up \n",
      "GT target: 0\n",
      "word attr tensor([-0.9020,  0.0081,  0.0197, -0.0191,  0.0670, -0.2991, -0.0783,  0.0556,\n",
      "        -0.1617,  0.1274,  0.0871,  0.0082, -0.0504, -0.0415, -0.0279, -0.1422,\n",
      "        -0.0043, -0.0506,  0.0164,  0.0380, -0.0147, -0.0358,  0.0096, -0.0359],\n",
      "       dtype=torch.float64, grad_fn=<AsStridedBackward0>)\n",
      "conti attr [tensor(-0.9020, dtype=torch.float64, grad_fn=<UnbindBackward0>), tensor(0.0081, dtype=torch.float64, grad_fn=<UnbindBackward0>), tensor(0.0197, dtype=torch.float64, grad_fn=<UnbindBackward0>), tensor(-0.0191, dtype=torch.float64, grad_fn=<UnbindBackward0>), tensor(0.0670, dtype=torch.float64, grad_fn=<UnbindBackward0>), tensor(-0.2991, dtype=torch.float64, grad_fn=<UnbindBackward0>), tensor(-0.0536, dtype=torch.float64, grad_fn=<AddBackward0>), tensor(-0.1701, dtype=torch.float64, grad_fn=<AddBackward0>), tensor(-0.0043, dtype=torch.float64, grad_fn=<UnbindBackward0>), tensor(-0.0506, dtype=torch.float64, grad_fn=<UnbindBackward0>), tensor(0.0164, dtype=torch.float64, grad_fn=<UnbindBackward0>), tensor(0.0233, dtype=torch.float64, grad_fn=<AddBackward0>), tensor(-0.0358, dtype=torch.float64, grad_fn=<UnbindBackward0>), tensor(0.0096, dtype=torch.float64, grad_fn=<UnbindBackward0>), tensor(-0.0359, dtype=torch.float64, grad_fn=<UnbindBackward0>)]\n",
      "detokenized ['<s>', 'been', 'modeled', 'on', 'the', 'worst', 'revenge', '-', 'of', '-', 'the', '-', 'ner', 'ds', 'clich', 'Ã©s', 'the', 'filmmakers', 'could', 'dred', 'ge', 'up', '', '</s>']\n",
      "len conti_raw 15\n",
      "conti_raw ['<s>', 'been', 'modeled', 'on', 'the', 'worst', 'revenge-of-the-nerds', 'clichÃ©s', 'the', 'filmmakers', 'could', 'dredge', 'up', '', '</s>']\n"
     ]
    },
    {
     "data": {
      "text/html": [
       "<table width: 100%><div style=\"border-top: 1px solid; margin-top: 5px;             padding-top: 5px; display: inline-block\"><b>Legend: </b><span style=\"display: inline-block; width: 10px; height: 10px;                 border: 1px solid; background-color:                 hsl(0, 75%, 60%)\"></span> Negative  <span style=\"display: inline-block; width: 10px; height: 10px;                 border: 1px solid; background-color:                 hsl(0, 75%, 100%)\"></span> Neutral  <span style=\"display: inline-block; width: 10px; height: 10px;                 border: 1px solid; background-color:                 hsl(120, 75%, 50%)\"></span> Positive  </div><tr><th>True Label</th><th>Predicted Label</th><th>Attribution Label</th><th>Attribution Score</th><th>Word Importance</th><tr><td><text style=\"padding-right:2em\"><b>Neg</b></text></td><td><text style=\"padding-right:2em\"><b>Neg (0.00)</b></text></td><td><text style=\"padding-right:2em\"><b>Neg</b></text></td><td><text style=\"padding-right:2em\"><b>-1.43</b></text></td><td><mark style=\"background-color: hsl(0, 75%, 64%); opacity:1.0;                     line-height:1.75\"><font color=\"black\"> #s                    </font></mark><mark style=\"background-color: hsl(120, 75%, 100%); opacity:1.0;                     line-height:1.75\"><font color=\"black\"> been                    </font></mark><mark style=\"background-color: hsl(120, 75%, 100%); opacity:1.0;                     line-height:1.75\"><font color=\"black\"> modeled                    </font></mark><mark style=\"background-color: hsl(0, 75%, 100%); opacity:1.0;                     line-height:1.75\"><font color=\"black\"> on                    </font></mark><mark style=\"background-color: hsl(120, 75%, 97%); opacity:1.0;                     line-height:1.75\"><font color=\"black\"> the                    </font></mark><mark style=\"background-color: hsl(0, 75%, 89%); opacity:1.0;                     line-height:1.75\"><font color=\"black\"> worst                    </font></mark><mark style=\"background-color: hsl(0, 75%, 98%); opacity:1.0;                     line-height:1.75\"><font color=\"black\"> revenge-of-the-nerds                    </font></mark><mark style=\"background-color: hsl(0, 75%, 94%); opacity:1.0;                     line-height:1.75\"><font color=\"black\"> clichÃ©s                    </font></mark><mark style=\"background-color: hsl(0, 75%, 100%); opacity:1.0;                     line-height:1.75\"><font color=\"black\"> the                    </font></mark><mark style=\"background-color: hsl(0, 75%, 98%); opacity:1.0;                     line-height:1.75\"><font color=\"black\"> filmmakers                    </font></mark><mark style=\"background-color: hsl(120, 75%, 100%); opacity:1.0;                     line-height:1.75\"><font color=\"black\"> could                    </font></mark><mark style=\"background-color: hsl(120, 75%, 99%); opacity:1.0;                     line-height:1.75\"><font color=\"black\"> dredge                    </font></mark><mark style=\"background-color: hsl(0, 75%, 99%); opacity:1.0;                     line-height:1.75\"><font color=\"black\"> up                    </font></mark><mark style=\"background-color: hsl(120, 75%, 100%); opacity:1.0;                     line-height:1.75\"><font color=\"black\">                     </font></mark><mark style=\"background-color: hsl(0, 75%, 99%); opacity:1.0;                     line-height:1.75\"><font color=\"black\"> #/s                    </font></mark></td><tr></table>"
      ],
      "text/plain": [
       "<IPython.core.display.HTML object>"
      ]
     },
     "metadata": {},
     "output_type": "display_data"
    },
    {
     "name": "stdout",
     "output_type": "stream",
     "text": [
      "<IPython.core.display.HTML object>\n",
      "Raw review: tell you \n",
      "GT target: 1\n",
      "word attr tensor([-0.8338, -0.0364, -0.3211,  0.4225, -0.1476], dtype=torch.float64,\n",
      "       grad_fn=<AsStridedBackward0>)\n",
      "conti attr [tensor(-0.8338, dtype=torch.float64, grad_fn=<UnbindBackward0>), tensor(-0.0364, dtype=torch.float64, grad_fn=<UnbindBackward0>), tensor(-0.3211, dtype=torch.float64, grad_fn=<UnbindBackward0>), tensor(0.4225, dtype=torch.float64, grad_fn=<UnbindBackward0>), tensor(-0.1476, dtype=torch.float64, grad_fn=<UnbindBackward0>)]\n",
      "detokenized ['<s>', 'tell', 'you', '', '</s>']\n",
      "len conti_raw 5\n",
      "conti_raw ['<s>', 'tell', 'you', '', '</s>']\n"
     ]
    },
    {
     "data": {
      "text/html": [
       "<table width: 100%><div style=\"border-top: 1px solid; margin-top: 5px;             padding-top: 5px; display: inline-block\"><b>Legend: </b><span style=\"display: inline-block; width: 10px; height: 10px;                 border: 1px solid; background-color:                 hsl(0, 75%, 60%)\"></span> Negative  <span style=\"display: inline-block; width: 10px; height: 10px;                 border: 1px solid; background-color:                 hsl(0, 75%, 100%)\"></span> Neutral  <span style=\"display: inline-block; width: 10px; height: 10px;                 border: 1px solid; background-color:                 hsl(120, 75%, 50%)\"></span> Positive  </div><tr><th>True Label</th><th>Predicted Label</th><th>Attribution Label</th><th>Attribution Score</th><th>Word Importance</th><tr><td><text style=\"padding-right:2em\"><b>Pos</b></text></td><td><text style=\"padding-right:2em\"><b>Pos (0.93)</b></text></td><td><text style=\"padding-right:2em\"><b>Neg</b></text></td><td><text style=\"padding-right:2em\"><b>-0.92</b></text></td><td><mark style=\"background-color: hsl(0, 75%, 67%); opacity:1.0;                     line-height:1.75\"><font color=\"black\"> #s                    </font></mark><mark style=\"background-color: hsl(0, 75%, 99%); opacity:1.0;                     line-height:1.75\"><font color=\"black\"> tell                    </font></mark><mark style=\"background-color: hsl(0, 75%, 88%); opacity:1.0;                     line-height:1.75\"><font color=\"black\"> you                    </font></mark><mark style=\"background-color: hsl(120, 75%, 79%); opacity:1.0;                     line-height:1.75\"><font color=\"black\">                     </font></mark><mark style=\"background-color: hsl(0, 75%, 95%); opacity:1.0;                     line-height:1.75\"><font color=\"black\"> #/s                    </font></mark></td><tr></table>"
      ],
      "text/plain": [
       "<IPython.core.display.HTML object>"
      ]
     },
     "metadata": {},
     "output_type": "display_data"
    },
    {
     "name": "stdout",
     "output_type": "stream",
     "text": [
      "<IPython.core.display.HTML object>\n",
      "Raw review: utterly absorbing \n",
      "GT target: 1\n",
      "word attr tensor([ 0.9496,  0.2336, -0.1579, -0.0537,  0.1005, -0.0762],\n",
      "       dtype=torch.float64, grad_fn=<AsStridedBackward0>)\n",
      "conti attr [tensor(0.9496, dtype=torch.float64, grad_fn=<UnbindBackward0>), tensor(0.0756, dtype=torch.float64, grad_fn=<AddBackward0>), tensor(-0.0537, dtype=torch.float64, grad_fn=<UnbindBackward0>), tensor(0.1005, dtype=torch.float64, grad_fn=<UnbindBackward0>), tensor(-0.0762, dtype=torch.float64, grad_fn=<UnbindBackward0>)]\n",
      "detokenized ['<s>', 'utter', 'ly', 'absorbing', '', '</s>']\n",
      "len conti_raw 5\n",
      "conti_raw ['<s>', 'utterly', 'absorbing', '', '</s>']\n"
     ]
    },
    {
     "data": {
      "text/html": [
       "<table width: 100%><div style=\"border-top: 1px solid; margin-top: 5px;             padding-top: 5px; display: inline-block\"><b>Legend: </b><span style=\"display: inline-block; width: 10px; height: 10px;                 border: 1px solid; background-color:                 hsl(0, 75%, 60%)\"></span> Negative  <span style=\"display: inline-block; width: 10px; height: 10px;                 border: 1px solid; background-color:                 hsl(0, 75%, 100%)\"></span> Neutral  <span style=\"display: inline-block; width: 10px; height: 10px;                 border: 1px solid; background-color:                 hsl(120, 75%, 50%)\"></span> Positive  </div><tr><th>True Label</th><th>Predicted Label</th><th>Attribution Label</th><th>Attribution Score</th><th>Word Importance</th><tr><td><text style=\"padding-right:2em\"><b>Pos</b></text></td><td><text style=\"padding-right:2em\"><b>Pos (1.00)</b></text></td><td><text style=\"padding-right:2em\"><b>Pos</b></text></td><td><text style=\"padding-right:2em\"><b>1.00</b></text></td><td><mark style=\"background-color: hsl(120, 75%, 53%); opacity:1.0;                     line-height:1.75\"><font color=\"black\"> #s                    </font></mark><mark style=\"background-color: hsl(120, 75%, 97%); opacity:1.0;                     line-height:1.75\"><font color=\"black\"> utterly                    </font></mark><mark style=\"background-color: hsl(0, 75%, 98%); opacity:1.0;                     line-height:1.75\"><font color=\"black\"> absorbing                    </font></mark><mark style=\"background-color: hsl(120, 75%, 95%); opacity:1.0;                     line-height:1.75\"><font color=\"black\">                     </font></mark><mark style=\"background-color: hsl(0, 75%, 97%); opacity:1.0;                     line-height:1.75\"><font color=\"black\"> #/s                    </font></mark></td><tr></table>"
      ],
      "text/plain": [
       "<IPython.core.display.HTML object>"
      ]
     },
     "metadata": {},
     "output_type": "display_data"
    },
    {
     "name": "stdout",
     "output_type": "stream",
     "text": [
      "<IPython.core.display.HTML object>\n",
      "Raw review: restate \n",
      "GT target: 0\n",
      "word attr tensor([ 0.2081, -0.3269,  0.5549, -0.6684, -0.3085], dtype=torch.float64,\n",
      "       grad_fn=<AsStridedBackward0>)\n",
      "conti attr [tensor(0.2081, dtype=torch.float64, grad_fn=<UnbindBackward0>), tensor(0.2280, dtype=torch.float64, grad_fn=<AddBackward0>), tensor(-0.6684, dtype=torch.float64, grad_fn=<UnbindBackward0>), tensor(-0.3085, dtype=torch.float64, grad_fn=<UnbindBackward0>)]\n",
      "detokenized ['<s>', 'rest', 'ate', '', '</s>']\n",
      "len conti_raw 4\n",
      "conti_raw ['<s>', 'restate', '', '</s>']\n"
     ]
    },
    {
     "data": {
      "text/html": [
       "<table width: 100%><div style=\"border-top: 1px solid; margin-top: 5px;             padding-top: 5px; display: inline-block\"><b>Legend: </b><span style=\"display: inline-block; width: 10px; height: 10px;                 border: 1px solid; background-color:                 hsl(0, 75%, 60%)\"></span> Negative  <span style=\"display: inline-block; width: 10px; height: 10px;                 border: 1px solid; background-color:                 hsl(0, 75%, 100%)\"></span> Neutral  <span style=\"display: inline-block; width: 10px; height: 10px;                 border: 1px solid; background-color:                 hsl(120, 75%, 50%)\"></span> Positive  </div><tr><th>True Label</th><th>Predicted Label</th><th>Attribution Label</th><th>Attribution Score</th><th>Word Importance</th><tr><td><text style=\"padding-right:2em\"><b>Neg</b></text></td><td><text style=\"padding-right:2em\"><b>Neg (0.05)</b></text></td><td><text style=\"padding-right:2em\"><b>Neg</b></text></td><td><text style=\"padding-right:2em\"><b>-0.54</b></text></td><td><mark style=\"background-color: hsl(120, 75%, 90%); opacity:1.0;                     line-height:1.75\"><font color=\"black\"> #s                    </font></mark><mark style=\"background-color: hsl(120, 75%, 89%); opacity:1.0;                     line-height:1.75\"><font color=\"black\"> restate                    </font></mark><mark style=\"background-color: hsl(0, 75%, 74%); opacity:1.0;                     line-height:1.75\"><font color=\"black\">                     </font></mark><mark style=\"background-color: hsl(0, 75%, 88%); opacity:1.0;                     line-height:1.75\"><font color=\"black\"> #/s                    </font></mark></td><tr></table>"
      ],
      "text/plain": [
       "<IPython.core.display.HTML object>"
      ]
     },
     "metadata": {},
     "output_type": "display_data"
    },
    {
     "name": "stdout",
     "output_type": "stream",
     "text": [
      "<IPython.core.display.HTML object>\n",
      "Raw review: bears about as much resemblance to the experiences of most battered women as spider-man \n",
      "GT target: 0\n",
      "word attr tensor([ 0.9229, -0.0406, -0.1884, -0.0381,  0.0259, -0.0497, -0.0354,  0.1944,\n",
      "        -0.0152,  0.1224,  0.0192, -0.0249, -0.1954, -0.0444,  0.0453,  0.0064,\n",
      "        -0.0487, -0.0040,  0.0809, -0.0129], dtype=torch.float64,\n",
      "       grad_fn=<AsStridedBackward0>)\n",
      "conti attr [tensor(0.9229, dtype=torch.float64, grad_fn=<UnbindBackward0>), tensor(-0.2289, dtype=torch.float64, grad_fn=<AddBackward0>), tensor(-0.0381, dtype=torch.float64, grad_fn=<UnbindBackward0>), tensor(0.0259, dtype=torch.float64, grad_fn=<UnbindBackward0>), tensor(-0.0497, dtype=torch.float64, grad_fn=<UnbindBackward0>), tensor(-0.0354, dtype=torch.float64, grad_fn=<UnbindBackward0>), tensor(0.1944, dtype=torch.float64, grad_fn=<UnbindBackward0>), tensor(-0.0152, dtype=torch.float64, grad_fn=<UnbindBackward0>), tensor(0.1224, dtype=torch.float64, grad_fn=<UnbindBackward0>), tensor(0.0192, dtype=torch.float64, grad_fn=<UnbindBackward0>), tensor(-0.0249, dtype=torch.float64, grad_fn=<UnbindBackward0>), tensor(-0.1954, dtype=torch.float64, grad_fn=<UnbindBackward0>), tensor(-0.0444, dtype=torch.float64, grad_fn=<UnbindBackward0>), tensor(0.0453, dtype=torch.float64, grad_fn=<UnbindBackward0>), tensor(-0.0462, dtype=torch.float64, grad_fn=<AddBackward0>), tensor(0.0809, dtype=torch.float64, grad_fn=<UnbindBackward0>), tensor(-0.0129, dtype=torch.float64, grad_fn=<UnbindBackward0>)]\n",
      "detokenized ['<s>', 'b', 'ears', 'about', 'as', 'much', 'resemblance', 'to', 'the', 'experiences', 'of', 'most', 'battered', 'women', 'as', 'spider', '-', 'man', '', '</s>']\n",
      "len conti_raw 17\n",
      "conti_raw ['<s>', 'bears', 'about', 'as', 'much', 'resemblance', 'to', 'the', 'experiences', 'of', 'most', 'battered', 'women', 'as', 'spider-man', '', '</s>']\n"
     ]
    },
    {
     "data": {
      "text/html": [
       "<table width: 100%><div style=\"border-top: 1px solid; margin-top: 5px;             padding-top: 5px; display: inline-block\"><b>Legend: </b><span style=\"display: inline-block; width: 10px; height: 10px;                 border: 1px solid; background-color:                 hsl(0, 75%, 60%)\"></span> Negative  <span style=\"display: inline-block; width: 10px; height: 10px;                 border: 1px solid; background-color:                 hsl(0, 75%, 100%)\"></span> Neutral  <span style=\"display: inline-block; width: 10px; height: 10px;                 border: 1px solid; background-color:                 hsl(120, 75%, 50%)\"></span> Positive  </div><tr><th>True Label</th><th>Predicted Label</th><th>Attribution Label</th><th>Attribution Score</th><th>Word Importance</th><tr><td><text style=\"padding-right:2em\"><b>Neg</b></text></td><td><text style=\"padding-right:2em\"><b>Neg (0.00)</b></text></td><td><text style=\"padding-right:2em\"><b>Pos</b></text></td><td><text style=\"padding-right:2em\"><b>0.72</b></text></td><td><mark style=\"background-color: hsl(120, 75%, 54%); opacity:1.0;                     line-height:1.75\"><font color=\"black\"> #s                    </font></mark><mark style=\"background-color: hsl(0, 75%, 91%); opacity:1.0;                     line-height:1.75\"><font color=\"black\"> bears                    </font></mark><mark style=\"background-color: hsl(0, 75%, 99%); opacity:1.0;                     line-height:1.75\"><font color=\"black\"> about                    </font></mark><mark style=\"background-color: hsl(120, 75%, 99%); opacity:1.0;                     line-height:1.75\"><font color=\"black\"> as                    </font></mark><mark style=\"background-color: hsl(0, 75%, 99%); opacity:1.0;                     line-height:1.75\"><font color=\"black\"> much                    </font></mark><mark style=\"background-color: hsl(0, 75%, 99%); opacity:1.0;                     line-height:1.75\"><font color=\"black\"> resemblance                    </font></mark><mark style=\"background-color: hsl(120, 75%, 91%); opacity:1.0;                     line-height:1.75\"><font color=\"black\"> to                    </font></mark><mark style=\"background-color: hsl(0, 75%, 100%); opacity:1.0;                     line-height:1.75\"><font color=\"black\"> the                    </font></mark><mark style=\"background-color: hsl(120, 75%, 94%); opacity:1.0;                     line-height:1.75\"><font color=\"black\"> experiences                    </font></mark><mark style=\"background-color: hsl(120, 75%, 100%); opacity:1.0;                     line-height:1.75\"><font color=\"black\"> of                    </font></mark><mark style=\"background-color: hsl(0, 75%, 100%); opacity:1.0;                     line-height:1.75\"><font color=\"black\"> most                    </font></mark><mark style=\"background-color: hsl(0, 75%, 93%); opacity:1.0;                     line-height:1.75\"><font color=\"black\"> battered                    </font></mark><mark style=\"background-color: hsl(0, 75%, 99%); opacity:1.0;                     line-height:1.75\"><font color=\"black\"> women                    </font></mark><mark style=\"background-color: hsl(120, 75%, 98%); opacity:1.0;                     line-height:1.75\"><font color=\"black\"> as                    </font></mark><mark style=\"background-color: hsl(0, 75%, 99%); opacity:1.0;                     line-height:1.75\"><font color=\"black\"> spider-man                    </font></mark><mark style=\"background-color: hsl(120, 75%, 96%); opacity:1.0;                     line-height:1.75\"><font color=\"black\">                     </font></mark><mark style=\"background-color: hsl(0, 75%, 100%); opacity:1.0;                     line-height:1.75\"><font color=\"black\"> #/s                    </font></mark></td><tr></table>"
      ],
      "text/plain": [
       "<IPython.core.display.HTML object>"
      ]
     },
     "metadata": {},
     "output_type": "display_data"
    },
    {
     "name": "stdout",
     "output_type": "stream",
     "text": [
      "<IPython.core.display.HTML object>\n",
      "Raw review: expressively performed \n",
      "GT target: 1\n",
      "word attr tensor([-0.8938,  0.0508,  0.0130, -0.1272, -0.0291, -0.4259],\n",
      "       dtype=torch.float64, grad_fn=<AsStridedBackward0>)\n",
      "conti attr [tensor(-0.8938, dtype=torch.float64, grad_fn=<UnbindBackward0>), tensor(0.0638, dtype=torch.float64, grad_fn=<AddBackward0>), tensor(-0.1272, dtype=torch.float64, grad_fn=<UnbindBackward0>), tensor(-0.0291, dtype=torch.float64, grad_fn=<UnbindBackward0>), tensor(-0.4259, dtype=torch.float64, grad_fn=<UnbindBackward0>)]\n",
      "detokenized ['<s>', 'express', 'ively', 'performed', '', '</s>']\n",
      "len conti_raw 5\n",
      "conti_raw ['<s>', 'expressively', 'performed', '', '</s>']\n"
     ]
    },
    {
     "data": {
      "text/html": [
       "<table width: 100%><div style=\"border-top: 1px solid; margin-top: 5px;             padding-top: 5px; display: inline-block\"><b>Legend: </b><span style=\"display: inline-block; width: 10px; height: 10px;                 border: 1px solid; background-color:                 hsl(0, 75%, 60%)\"></span> Negative  <span style=\"display: inline-block; width: 10px; height: 10px;                 border: 1px solid; background-color:                 hsl(0, 75%, 100%)\"></span> Neutral  <span style=\"display: inline-block; width: 10px; height: 10px;                 border: 1px solid; background-color:                 hsl(120, 75%, 50%)\"></span> Positive  </div><tr><th>True Label</th><th>Predicted Label</th><th>Attribution Label</th><th>Attribution Score</th><th>Word Importance</th><tr><td><text style=\"padding-right:2em\"><b>Pos</b></text></td><td><text style=\"padding-right:2em\"><b>Pos (1.00)</b></text></td><td><text style=\"padding-right:2em\"><b>Neg</b></text></td><td><text style=\"padding-right:2em\"><b>-1.41</b></text></td><td><mark style=\"background-color: hsl(0, 75%, 65%); opacity:1.0;                     line-height:1.75\"><font color=\"black\"> #s                    </font></mark><mark style=\"background-color: hsl(120, 75%, 97%); opacity:1.0;                     line-height:1.75\"><font color=\"black\"> expressively                    </font></mark><mark style=\"background-color: hsl(0, 75%, 95%); opacity:1.0;                     line-height:1.75\"><font color=\"black\"> performed                    </font></mark><mark style=\"background-color: hsl(0, 75%, 99%); opacity:1.0;                     line-height:1.75\"><font color=\"black\">                     </font></mark><mark style=\"background-color: hsl(0, 75%, 83%); opacity:1.0;                     line-height:1.75\"><font color=\"black\"> #/s                    </font></mark></td><tr></table>"
      ],
      "text/plain": [
       "<IPython.core.display.HTML object>"
      ]
     },
     "metadata": {},
     "output_type": "display_data"
    },
    {
     "name": "stdout",
     "output_type": "stream",
     "text": [
      "<IPython.core.display.HTML object>\n",
      "Raw review: the acting is amateurish , the cinematography is atrocious \n",
      "GT target: 0\n",
      "word attr tensor([-6.4227e-01, -3.2649e-01,  2.7930e-01, -4.8283e-01, -1.6280e-01,\n",
      "         1.3415e-01, -4.5906e-02, -4.5303e-02,  1.0835e-01,  7.1292e-02,\n",
      "         5.8920e-04, -1.4681e-01, -2.3670e-01, -1.4818e-01, -6.8875e-02],\n",
      "       dtype=torch.float64, grad_fn=<AsStridedBackward0>)\n",
      "conti attr [tensor(-0.6423, dtype=torch.float64, grad_fn=<UnbindBackward0>), tensor(-0.3265, dtype=torch.float64, grad_fn=<UnbindBackward0>), tensor(0.2793, dtype=torch.float64, grad_fn=<UnbindBackward0>), tensor(-0.4828, dtype=torch.float64, grad_fn=<UnbindBackward0>), tensor(-0.0286, dtype=torch.float64, grad_fn=<AddBackward0>), tensor(-0.0459, dtype=torch.float64, grad_fn=<UnbindBackward0>), tensor(-0.0453, dtype=torch.float64, grad_fn=<UnbindBackward0>), tensor(0.1796, dtype=torch.float64, grad_fn=<AddBackward0>), tensor(0.0006, dtype=torch.float64, grad_fn=<UnbindBackward0>), tensor(-0.3835, dtype=torch.float64, grad_fn=<AddBackward0>), tensor(-0.1482, dtype=torch.float64, grad_fn=<UnbindBackward0>), tensor(-0.0689, dtype=torch.float64, grad_fn=<UnbindBackward0>)]\n",
      "detokenized ['<s>', 'the', 'acting', 'is', 'amateur', 'ish', ',', 'the', 'cinem', 'atography', 'is', 'atro', 'cious', '', '</s>']\n",
      "len conti_raw 12\n",
      "conti_raw ['<s>', 'the', 'acting', 'is', 'amateurish', ',', 'the', 'cinematography', 'is', 'atrocious', '', '</s>']\n"
     ]
    },
    {
     "data": {
      "text/html": [
       "<table width: 100%><div style=\"border-top: 1px solid; margin-top: 5px;             padding-top: 5px; display: inline-block\"><b>Legend: </b><span style=\"display: inline-block; width: 10px; height: 10px;                 border: 1px solid; background-color:                 hsl(0, 75%, 60%)\"></span> Negative  <span style=\"display: inline-block; width: 10px; height: 10px;                 border: 1px solid; background-color:                 hsl(0, 75%, 100%)\"></span> Neutral  <span style=\"display: inline-block; width: 10px; height: 10px;                 border: 1px solid; background-color:                 hsl(120, 75%, 50%)\"></span> Positive  </div><tr><th>True Label</th><th>Predicted Label</th><th>Attribution Label</th><th>Attribution Score</th><th>Word Importance</th><tr><td><text style=\"padding-right:2em\"><b>Neg</b></text></td><td><text style=\"padding-right:2em\"><b>Neg (0.00)</b></text></td><td><text style=\"padding-right:2em\"><b>Neg</b></text></td><td><text style=\"padding-right:2em\"><b>-1.71</b></text></td><td><mark style=\"background-color: hsl(0, 75%, 75%); opacity:1.0;                     line-height:1.75\"><font color=\"black\"> #s                    </font></mark><mark style=\"background-color: hsl(0, 75%, 87%); opacity:1.0;                     line-height:1.75\"><font color=\"black\"> the                    </font></mark><mark style=\"background-color: hsl(120, 75%, 87%); opacity:1.0;                     line-height:1.75\"><font color=\"black\"> acting                    </font></mark><mark style=\"background-color: hsl(0, 75%, 81%); opacity:1.0;                     line-height:1.75\"><font color=\"black\"> is                    </font></mark><mark style=\"background-color: hsl(0, 75%, 99%); opacity:1.0;                     line-height:1.75\"><font color=\"black\"> amateurish                    </font></mark><mark style=\"background-color: hsl(0, 75%, 99%); opacity:1.0;                     line-height:1.75\"><font color=\"black\"> ,                    </font></mark><mark style=\"background-color: hsl(0, 75%, 99%); opacity:1.0;                     line-height:1.75\"><font color=\"black\"> the                    </font></mark><mark style=\"background-color: hsl(120, 75%, 92%); opacity:1.0;                     line-height:1.75\"><font color=\"black\"> cinematography                    </font></mark><mark style=\"background-color: hsl(120, 75%, 100%); opacity:1.0;                     line-height:1.75\"><font color=\"black\"> is                    </font></mark><mark style=\"background-color: hsl(0, 75%, 85%); opacity:1.0;                     line-height:1.75\"><font color=\"black\"> atrocious                    </font></mark><mark style=\"background-color: hsl(0, 75%, 95%); opacity:1.0;                     line-height:1.75\"><font color=\"black\">                     </font></mark><mark style=\"background-color: hsl(0, 75%, 98%); opacity:1.0;                     line-height:1.75\"><font color=\"black\"> #/s                    </font></mark></td><tr></table>"
      ],
      "text/plain": [
       "<IPython.core.display.HTML object>"
      ]
     },
     "metadata": {},
     "output_type": "display_data"
    },
    {
     "name": "stdout",
     "output_type": "stream",
     "text": [
      "<IPython.core.display.HTML object>\n",
      "Raw review: solidly constructed \n",
      "GT target: 1\n",
      "word attr tensor([-0.6958, -0.5451,  0.4029, -0.1229,  0.1861,  0.0819],\n",
      "       dtype=torch.float64, grad_fn=<AsStridedBackward0>)\n",
      "conti attr [tensor(-0.6958, dtype=torch.float64, grad_fn=<UnbindBackward0>), tensor(-0.1422, dtype=torch.float64, grad_fn=<AddBackward0>), tensor(-0.1229, dtype=torch.float64, grad_fn=<UnbindBackward0>), tensor(0.1861, dtype=torch.float64, grad_fn=<UnbindBackward0>), tensor(0.0819, dtype=torch.float64, grad_fn=<UnbindBackward0>)]\n",
      "detokenized ['<s>', 'solid', 'ly', 'constructed', '', '</s>']\n",
      "len conti_raw 5\n",
      "conti_raw ['<s>', 'solidly', 'constructed', '', '</s>']\n"
     ]
    },
    {
     "data": {
      "text/html": [
       "<table width: 100%><div style=\"border-top: 1px solid; margin-top: 5px;             padding-top: 5px; display: inline-block\"><b>Legend: </b><span style=\"display: inline-block; width: 10px; height: 10px;                 border: 1px solid; background-color:                 hsl(0, 75%, 60%)\"></span> Negative  <span style=\"display: inline-block; width: 10px; height: 10px;                 border: 1px solid; background-color:                 hsl(0, 75%, 100%)\"></span> Neutral  <span style=\"display: inline-block; width: 10px; height: 10px;                 border: 1px solid; background-color:                 hsl(120, 75%, 50%)\"></span> Positive  </div><tr><th>True Label</th><th>Predicted Label</th><th>Attribution Label</th><th>Attribution Score</th><th>Word Importance</th><tr><td><text style=\"padding-right:2em\"><b>Pos</b></text></td><td><text style=\"padding-right:2em\"><b>Pos (1.00)</b></text></td><td><text style=\"padding-right:2em\"><b>Neg</b></text></td><td><text style=\"padding-right:2em\"><b>-0.69</b></text></td><td><mark style=\"background-color: hsl(0, 75%, 73%); opacity:1.0;                     line-height:1.75\"><font color=\"black\"> #s                    </font></mark><mark style=\"background-color: hsl(0, 75%, 95%); opacity:1.0;                     line-height:1.75\"><font color=\"black\"> solidly                    </font></mark><mark style=\"background-color: hsl(0, 75%, 96%); opacity:1.0;                     line-height:1.75\"><font color=\"black\"> constructed                    </font></mark><mark style=\"background-color: hsl(120, 75%, 91%); opacity:1.0;                     line-height:1.75\"><font color=\"black\">                     </font></mark><mark style=\"background-color: hsl(120, 75%, 96%); opacity:1.0;                     line-height:1.75\"><font color=\"black\"> #/s                    </font></mark></td><tr></table>"
      ],
      "text/plain": [
       "<IPython.core.display.HTML object>"
      ]
     },
     "metadata": {},
     "output_type": "display_data"
    },
    {
     "name": "stdout",
     "output_type": "stream",
     "text": [
      "<IPython.core.display.HTML object>\n",
      "Raw review: are undermined by the movie 's presentation , which is way too stagy \n",
      "GT target: 0\n",
      "word attr tensor([-0.2315,  0.0323, -0.9151, -0.0295, -0.3045, -0.0222,  0.0059, -0.0031,\n",
      "        -0.0370,  0.0326,  0.0344,  0.0384,  0.0702,  0.0327,  0.0125,  0.0352,\n",
      "         0.0270,  0.0265], dtype=torch.float64, grad_fn=<AsStridedBackward0>)\n",
      "conti attr [tensor(-0.2315, dtype=torch.float64, grad_fn=<UnbindBackward0>), tensor(0.0323, dtype=torch.float64, grad_fn=<UnbindBackward0>), tensor(-0.9151, dtype=torch.float64, grad_fn=<UnbindBackward0>), tensor(-0.0295, dtype=torch.float64, grad_fn=<UnbindBackward0>), tensor(-0.3045, dtype=torch.float64, grad_fn=<UnbindBackward0>), tensor(-0.0222, dtype=torch.float64, grad_fn=<UnbindBackward0>), tensor(0.0029, dtype=torch.float64, grad_fn=<AddBackward0>), tensor(-0.0370, dtype=torch.float64, grad_fn=<UnbindBackward0>), tensor(0.0326, dtype=torch.float64, grad_fn=<UnbindBackward0>), tensor(0.0344, dtype=torch.float64, grad_fn=<UnbindBackward0>), tensor(0.0384, dtype=torch.float64, grad_fn=<UnbindBackward0>), tensor(0.0702, dtype=torch.float64, grad_fn=<UnbindBackward0>), tensor(0.0327, dtype=torch.float64, grad_fn=<UnbindBackward0>), tensor(0.0476, dtype=torch.float64, grad_fn=<AddBackward0>), tensor(0.0270, dtype=torch.float64, grad_fn=<UnbindBackward0>), tensor(0.0265, dtype=torch.float64, grad_fn=<UnbindBackward0>)]\n",
      "detokenized ['<s>', 'are', 'undermined', 'by', 'the', 'movie', \"'\", 's', 'presentation', ',', 'which', 'is', 'way', 'too', 'stag', 'y', '', '</s>']\n",
      "len conti_raw 16\n",
      "conti_raw ['<s>', 'are', 'undermined', 'by', 'the', 'movie', \"'s\", 'presentation', ',', 'which', 'is', 'way', 'too', 'stagy', '', '</s>']\n"
     ]
    },
    {
     "data": {
      "text/html": [
       "<table width: 100%><div style=\"border-top: 1px solid; margin-top: 5px;             padding-top: 5px; display: inline-block\"><b>Legend: </b><span style=\"display: inline-block; width: 10px; height: 10px;                 border: 1px solid; background-color:                 hsl(0, 75%, 60%)\"></span> Negative  <span style=\"display: inline-block; width: 10px; height: 10px;                 border: 1px solid; background-color:                 hsl(0, 75%, 100%)\"></span> Neutral  <span style=\"display: inline-block; width: 10px; height: 10px;                 border: 1px solid; background-color:                 hsl(120, 75%, 50%)\"></span> Positive  </div><tr><th>True Label</th><th>Predicted Label</th><th>Attribution Label</th><th>Attribution Score</th><th>Word Importance</th><tr><td><text style=\"padding-right:2em\"><b>Neg</b></text></td><td><text style=\"padding-right:2em\"><b>Neg (0.00)</b></text></td><td><text style=\"padding-right:2em\"><b>Neg</b></text></td><td><text style=\"padding-right:2em\"><b>-1.20</b></text></td><td><mark style=\"background-color: hsl(0, 75%, 91%); opacity:1.0;                     line-height:1.75\"><font color=\"black\"> #s                    </font></mark><mark style=\"background-color: hsl(120, 75%, 99%); opacity:1.0;                     line-height:1.75\"><font color=\"black\"> are                    </font></mark><mark style=\"background-color: hsl(0, 75%, 64%); opacity:1.0;                     line-height:1.75\"><font color=\"black\"> undermined                    </font></mark><mark style=\"background-color: hsl(0, 75%, 99%); opacity:1.0;                     line-height:1.75\"><font color=\"black\"> by                    </font></mark><mark style=\"background-color: hsl(0, 75%, 88%); opacity:1.0;                     line-height:1.75\"><font color=\"black\"> the                    </font></mark><mark style=\"background-color: hsl(0, 75%, 100%); opacity:1.0;                     line-height:1.75\"><font color=\"black\"> movie                    </font></mark><mark style=\"background-color: hsl(120, 75%, 100%); opacity:1.0;                     line-height:1.75\"><font color=\"black\"> 's                    </font></mark><mark style=\"background-color: hsl(0, 75%, 99%); opacity:1.0;                     line-height:1.75\"><font color=\"black\"> presentation                    </font></mark><mark style=\"background-color: hsl(120, 75%, 99%); opacity:1.0;                     line-height:1.75\"><font color=\"black\"> ,                    </font></mark><mark style=\"background-color: hsl(120, 75%, 99%); opacity:1.0;                     line-height:1.75\"><font color=\"black\"> which                    </font></mark><mark style=\"background-color: hsl(120, 75%, 99%); opacity:1.0;                     line-height:1.75\"><font color=\"black\"> is                    </font></mark><mark style=\"background-color: hsl(120, 75%, 97%); opacity:1.0;                     line-height:1.75\"><font color=\"black\"> way                    </font></mark><mark style=\"background-color: hsl(120, 75%, 99%); opacity:1.0;                     line-height:1.75\"><font color=\"black\"> too                    </font></mark><mark style=\"background-color: hsl(120, 75%, 98%); opacity:1.0;                     line-height:1.75\"><font color=\"black\"> stagy                    </font></mark><mark style=\"background-color: hsl(120, 75%, 99%); opacity:1.0;                     line-height:1.75\"><font color=\"black\">                     </font></mark><mark style=\"background-color: hsl(120, 75%, 99%); opacity:1.0;                     line-height:1.75\"><font color=\"black\"> #/s                    </font></mark></td><tr></table>"
      ],
      "text/plain": [
       "<IPython.core.display.HTML object>"
      ]
     },
     "metadata": {},
     "output_type": "display_data"
    },
    {
     "name": "stdout",
     "output_type": "stream",
     "text": [
      "<IPython.core.display.HTML object>\n",
      "Raw review: a great film \n",
      "GT target: 1\n",
      "word attr tensor([-0.9176,  0.2726,  0.0236,  0.0135,  0.2632, -0.1172],\n",
      "       dtype=torch.float64, grad_fn=<AsStridedBackward0>)\n",
      "conti attr [tensor(-0.9176, dtype=torch.float64, grad_fn=<UnbindBackward0>), tensor(0.2726, dtype=torch.float64, grad_fn=<UnbindBackward0>), tensor(0.0236, dtype=torch.float64, grad_fn=<UnbindBackward0>), tensor(0.0135, dtype=torch.float64, grad_fn=<UnbindBackward0>), tensor(0.2632, dtype=torch.float64, grad_fn=<UnbindBackward0>), tensor(-0.1172, dtype=torch.float64, grad_fn=<UnbindBackward0>)]\n",
      "detokenized ['<s>', 'a', 'great', 'film', '', '</s>']\n",
      "len conti_raw 6\n",
      "conti_raw ['<s>', 'a', 'great', 'film', '', '</s>']\n"
     ]
    },
    {
     "data": {
      "text/html": [
       "<table width: 100%><div style=\"border-top: 1px solid; margin-top: 5px;             padding-top: 5px; display: inline-block\"><b>Legend: </b><span style=\"display: inline-block; width: 10px; height: 10px;                 border: 1px solid; background-color:                 hsl(0, 75%, 60%)\"></span> Negative  <span style=\"display: inline-block; width: 10px; height: 10px;                 border: 1px solid; background-color:                 hsl(0, 75%, 100%)\"></span> Neutral  <span style=\"display: inline-block; width: 10px; height: 10px;                 border: 1px solid; background-color:                 hsl(120, 75%, 50%)\"></span> Positive  </div><tr><th>True Label</th><th>Predicted Label</th><th>Attribution Label</th><th>Attribution Score</th><th>Word Importance</th><tr><td><text style=\"padding-right:2em\"><b>Pos</b></text></td><td><text style=\"padding-right:2em\"><b>Pos (1.00)</b></text></td><td><text style=\"padding-right:2em\"><b>Neg</b></text></td><td><text style=\"padding-right:2em\"><b>-0.46</b></text></td><td><mark style=\"background-color: hsl(0, 75%, 64%); opacity:1.0;                     line-height:1.75\"><font color=\"black\"> #s                    </font></mark><mark style=\"background-color: hsl(120, 75%, 87%); opacity:1.0;                     line-height:1.75\"><font color=\"black\"> a                    </font></mark><mark style=\"background-color: hsl(120, 75%, 99%); opacity:1.0;                     line-height:1.75\"><font color=\"black\"> great                    </font></mark><mark style=\"background-color: hsl(120, 75%, 100%); opacity:1.0;                     line-height:1.75\"><font color=\"black\"> film                    </font></mark><mark style=\"background-color: hsl(120, 75%, 87%); opacity:1.0;                     line-height:1.75\"><font color=\"black\">                     </font></mark><mark style=\"background-color: hsl(0, 75%, 96%); opacity:1.0;                     line-height:1.75\"><font color=\"black\"> #/s                    </font></mark></td><tr></table>"
      ],
      "text/plain": [
       "<IPython.core.display.HTML object>"
      ]
     },
     "metadata": {},
     "output_type": "display_data"
    },
    {
     "name": "stdout",
     "output_type": "stream",
     "text": [
      "<IPython.core.display.HTML object>\n",
      "Raw review: charm \n",
      "GT target: 1\n",
      "word attr tensor([-0.1410,  0.9476, -0.1038,  0.2421,  0.1132], dtype=torch.float64,\n",
      "       grad_fn=<AsStridedBackward0>)\n",
      "conti attr [tensor(-0.1410, dtype=torch.float64, grad_fn=<UnbindBackward0>), tensor(0.8439, dtype=torch.float64, grad_fn=<AddBackward0>), tensor(0.2421, dtype=torch.float64, grad_fn=<UnbindBackward0>), tensor(0.1132, dtype=torch.float64, grad_fn=<UnbindBackward0>)]\n",
      "detokenized ['<s>', 'ch', 'arm', '', '</s>']\n",
      "len conti_raw 4\n",
      "conti_raw ['<s>', 'charm', '', '</s>']\n"
     ]
    },
    {
     "data": {
      "text/html": [
       "<table width: 100%><div style=\"border-top: 1px solid; margin-top: 5px;             padding-top: 5px; display: inline-block\"><b>Legend: </b><span style=\"display: inline-block; width: 10px; height: 10px;                 border: 1px solid; background-color:                 hsl(0, 75%, 60%)\"></span> Negative  <span style=\"display: inline-block; width: 10px; height: 10px;                 border: 1px solid; background-color:                 hsl(0, 75%, 100%)\"></span> Neutral  <span style=\"display: inline-block; width: 10px; height: 10px;                 border: 1px solid; background-color:                 hsl(120, 75%, 50%)\"></span> Positive  </div><tr><th>True Label</th><th>Predicted Label</th><th>Attribution Label</th><th>Attribution Score</th><th>Word Importance</th><tr><td><text style=\"padding-right:2em\"><b>Pos</b></text></td><td><text style=\"padding-right:2em\"><b>Pos (1.00)</b></text></td><td><text style=\"padding-right:2em\"><b>Pos</b></text></td><td><text style=\"padding-right:2em\"><b>1.06</b></text></td><td><mark style=\"background-color: hsl(0, 75%, 95%); opacity:1.0;                     line-height:1.75\"><font color=\"black\"> #s                    </font></mark><mark style=\"background-color: hsl(120, 75%, 58%); opacity:1.0;                     line-height:1.75\"><font color=\"black\"> charm                    </font></mark><mark style=\"background-color: hsl(120, 75%, 88%); opacity:1.0;                     line-height:1.75\"><font color=\"black\">                     </font></mark><mark style=\"background-color: hsl(120, 75%, 95%); opacity:1.0;                     line-height:1.75\"><font color=\"black\"> #/s                    </font></mark></td><tr></table>"
      ],
      "text/plain": [
       "<IPython.core.display.HTML object>"
      ]
     },
     "metadata": {},
     "output_type": "display_data"
    },
    {
     "name": "stdout",
     "output_type": "stream",
     "text": [
      "<IPython.core.display.HTML object>\n",
      "Raw review: this new jangle of noise , mayhem and stupidity \n",
      "GT target: 0\n",
      "word attr tensor([-0.3111, -0.0543,  0.0637, -0.0804,  0.0663, -0.3333, -0.2138,  0.1743,\n",
      "        -0.0024, -0.6408, -0.3979,  0.1892,  0.3056], dtype=torch.float64,\n",
      "       grad_fn=<AsStridedBackward0>)\n",
      "conti attr [tensor(-0.3111, dtype=torch.float64, grad_fn=<UnbindBackward0>), tensor(-0.0543, dtype=torch.float64, grad_fn=<UnbindBackward0>), tensor(0.0637, dtype=torch.float64, grad_fn=<UnbindBackward0>), tensor(-0.0142, dtype=torch.float64, grad_fn=<AddBackward0>), tensor(-0.3333, dtype=torch.float64, grad_fn=<UnbindBackward0>), tensor(-0.2138, dtype=torch.float64, grad_fn=<UnbindBackward0>), tensor(0.1743, dtype=torch.float64, grad_fn=<UnbindBackward0>), tensor(-0.0024, dtype=torch.float64, grad_fn=<UnbindBackward0>), tensor(-0.6408, dtype=torch.float64, grad_fn=<UnbindBackward0>), tensor(-0.3979, dtype=torch.float64, grad_fn=<UnbindBackward0>), tensor(0.1892, dtype=torch.float64, grad_fn=<UnbindBackward0>), tensor(0.3056, dtype=torch.float64, grad_fn=<UnbindBackward0>)]\n",
      "detokenized ['<s>', 'this', 'new', 'j', 'angle', 'of', 'noise', ',', 'mayhem', 'and', 'stupidity', '', '</s>']\n",
      "len conti_raw 12\n",
      "conti_raw ['<s>', 'this', 'new', 'jangle', 'of', 'noise', ',', 'mayhem', 'and', 'stupidity', '', '</s>']\n"
     ]
    },
    {
     "data": {
      "text/html": [
       "<table width: 100%><div style=\"border-top: 1px solid; margin-top: 5px;             padding-top: 5px; display: inline-block\"><b>Legend: </b><span style=\"display: inline-block; width: 10px; height: 10px;                 border: 1px solid; background-color:                 hsl(0, 75%, 60%)\"></span> Negative  <span style=\"display: inline-block; width: 10px; height: 10px;                 border: 1px solid; background-color:                 hsl(0, 75%, 100%)\"></span> Neutral  <span style=\"display: inline-block; width: 10px; height: 10px;                 border: 1px solid; background-color:                 hsl(120, 75%, 50%)\"></span> Positive  </div><tr><th>True Label</th><th>Predicted Label</th><th>Attribution Label</th><th>Attribution Score</th><th>Word Importance</th><tr><td><text style=\"padding-right:2em\"><b>Neg</b></text></td><td><text style=\"padding-right:2em\"><b>Neg (0.00)</b></text></td><td><text style=\"padding-right:2em\"><b>Neg</b></text></td><td><text style=\"padding-right:2em\"><b>-1.23</b></text></td><td><mark style=\"background-color: hsl(0, 75%, 88%); opacity:1.0;                     line-height:1.75\"><font color=\"black\"> #s                    </font></mark><mark style=\"background-color: hsl(0, 75%, 98%); opacity:1.0;                     line-height:1.75\"><font color=\"black\"> this                    </font></mark><mark style=\"background-color: hsl(120, 75%, 97%); opacity:1.0;                     line-height:1.75\"><font color=\"black\"> new                    </font></mark><mark style=\"background-color: hsl(0, 75%, 100%); opacity:1.0;                     line-height:1.75\"><font color=\"black\"> jangle                    </font></mark><mark style=\"background-color: hsl(0, 75%, 87%); opacity:1.0;                     line-height:1.75\"><font color=\"black\"> of                    </font></mark><mark style=\"background-color: hsl(0, 75%, 92%); opacity:1.0;                     line-height:1.75\"><font color=\"black\"> noise                    </font></mark><mark style=\"background-color: hsl(120, 75%, 92%); opacity:1.0;                     line-height:1.75\"><font color=\"black\"> ,                    </font></mark><mark style=\"background-color: hsl(0, 75%, 100%); opacity:1.0;                     line-height:1.75\"><font color=\"black\"> mayhem                    </font></mark><mark style=\"background-color: hsl(0, 75%, 75%); opacity:1.0;                     line-height:1.75\"><font color=\"black\"> and                    </font></mark><mark style=\"background-color: hsl(0, 75%, 85%); opacity:1.0;                     line-height:1.75\"><font color=\"black\"> stupidity                    </font></mark><mark style=\"background-color: hsl(120, 75%, 91%); opacity:1.0;                     line-height:1.75\"><font color=\"black\">                     </font></mark><mark style=\"background-color: hsl(120, 75%, 85%); opacity:1.0;                     line-height:1.75\"><font color=\"black\"> #/s                    </font></mark></td><tr></table>"
      ],
      "text/plain": [
       "<IPython.core.display.HTML object>"
      ]
     },
     "metadata": {},
     "output_type": "display_data"
    },
    {
     "name": "stdout",
     "output_type": "stream",
     "text": [
      "<IPython.core.display.HTML object>\n",
      "Raw review: sustains it \n",
      "GT target: 1\n",
      "word attr tensor([ 0.3617, -0.1287, -0.1753,  0.5498,  0.7042,  0.1470,  0.0468],\n",
      "       dtype=torch.float64, grad_fn=<AsStridedBackward0>)\n",
      "conti attr [tensor(0.3617, dtype=torch.float64, grad_fn=<UnbindBackward0>), tensor(0.2458, dtype=torch.float64, grad_fn=<AddBackward0>), tensor(0.7042, dtype=torch.float64, grad_fn=<UnbindBackward0>), tensor(0.1470, dtype=torch.float64, grad_fn=<UnbindBackward0>), tensor(0.0468, dtype=torch.float64, grad_fn=<UnbindBackward0>)]\n",
      "detokenized ['<s>', 's', 'ust', 'ains', 'it', '', '</s>']\n",
      "len conti_raw 5\n",
      "conti_raw ['<s>', 'sustains', 'it', '', '</s>']\n"
     ]
    },
    {
     "data": {
      "text/html": [
       "<table width: 100%><div style=\"border-top: 1px solid; margin-top: 5px;             padding-top: 5px; display: inline-block\"><b>Legend: </b><span style=\"display: inline-block; width: 10px; height: 10px;                 border: 1px solid; background-color:                 hsl(0, 75%, 60%)\"></span> Negative  <span style=\"display: inline-block; width: 10px; height: 10px;                 border: 1px solid; background-color:                 hsl(0, 75%, 100%)\"></span> Neutral  <span style=\"display: inline-block; width: 10px; height: 10px;                 border: 1px solid; background-color:                 hsl(120, 75%, 50%)\"></span> Positive  </div><tr><th>True Label</th><th>Predicted Label</th><th>Attribution Label</th><th>Attribution Score</th><th>Word Importance</th><tr><td><text style=\"padding-right:2em\"><b>Pos</b></text></td><td><text style=\"padding-right:2em\"><b>Pos (1.00)</b></text></td><td><text style=\"padding-right:2em\"><b>Pos</b></text></td><td><text style=\"padding-right:2em\"><b>1.51</b></text></td><td><mark style=\"background-color: hsl(120, 75%, 82%); opacity:1.0;                     line-height:1.75\"><font color=\"black\"> #s                    </font></mark><mark style=\"background-color: hsl(120, 75%, 88%); opacity:1.0;                     line-height:1.75\"><font color=\"black\"> sustains                    </font></mark><mark style=\"background-color: hsl(120, 75%, 65%); opacity:1.0;                     line-height:1.75\"><font color=\"black\"> it                    </font></mark><mark style=\"background-color: hsl(120, 75%, 93%); opacity:1.0;                     line-height:1.75\"><font color=\"black\">                     </font></mark><mark style=\"background-color: hsl(120, 75%, 98%); opacity:1.0;                     line-height:1.75\"><font color=\"black\"> #/s                    </font></mark></td><tr></table>"
      ],
      "text/plain": [
       "<IPython.core.display.HTML object>"
      ]
     },
     "metadata": {},
     "output_type": "display_data"
    },
    {
     "name": "stdout",
     "output_type": "stream",
     "text": [
      "<IPython.core.display.HTML object>\n",
      "Raw review: is so deadly dull that watching the proverbial paint dry would be a welcome improvement . \n",
      "GT target: 0\n",
      "word attr tensor([-0.0648, -0.0492, -0.0659, -0.1750, -0.3352, -0.0456,  0.8197,  0.2558,\n",
      "         0.0788,  0.0656,  0.0502, -0.1172, -0.0583,  0.0318, -0.0432, -0.0041,\n",
      "        -0.0366, -0.0047, -0.2688], dtype=torch.float64,\n",
      "       grad_fn=<AsStridedBackward0>)\n",
      "conti attr [tensor(-0.0648, dtype=torch.float64, grad_fn=<UnbindBackward0>), tensor(-0.0492, dtype=torch.float64, grad_fn=<UnbindBackward0>), tensor(-0.0659, dtype=torch.float64, grad_fn=<UnbindBackward0>), tensor(-0.1750, dtype=torch.float64, grad_fn=<UnbindBackward0>), tensor(-0.3352, dtype=torch.float64, grad_fn=<UnbindBackward0>), tensor(-0.0456, dtype=torch.float64, grad_fn=<UnbindBackward0>), tensor(0.8197, dtype=torch.float64, grad_fn=<UnbindBackward0>), tensor(0.2558, dtype=torch.float64, grad_fn=<UnbindBackward0>), tensor(0.0788, dtype=torch.float64, grad_fn=<UnbindBackward0>), tensor(0.0656, dtype=torch.float64, grad_fn=<UnbindBackward0>), tensor(0.0502, dtype=torch.float64, grad_fn=<UnbindBackward0>), tensor(-0.1172, dtype=torch.float64, grad_fn=<UnbindBackward0>), tensor(-0.0583, dtype=torch.float64, grad_fn=<UnbindBackward0>), tensor(0.0318, dtype=torch.float64, grad_fn=<UnbindBackward0>), tensor(-0.0432, dtype=torch.float64, grad_fn=<UnbindBackward0>), tensor(-0.0041, dtype=torch.float64, grad_fn=<UnbindBackward0>), tensor(-0.0366, dtype=torch.float64, grad_fn=<UnbindBackward0>), tensor(-0.0047, dtype=torch.float64, grad_fn=<UnbindBackward0>), tensor(-0.2688, dtype=torch.float64, grad_fn=<UnbindBackward0>)]\n",
      "detokenized ['<s>', 'is', 'so', 'deadly', 'dull', 'that', 'watching', 'the', 'proverbial', 'paint', 'dry', 'would', 'be', 'a', 'welcome', 'improvement', '.', '', '</s>']\n",
      "len conti_raw 19\n",
      "conti_raw ['<s>', 'is', 'so', 'deadly', 'dull', 'that', 'watching', 'the', 'proverbial', 'paint', 'dry', 'would', 'be', 'a', 'welcome', 'improvement', '.', '', '</s>']\n"
     ]
    },
    {
     "data": {
      "text/html": [
       "<table width: 100%><div style=\"border-top: 1px solid; margin-top: 5px;             padding-top: 5px; display: inline-block\"><b>Legend: </b><span style=\"display: inline-block; width: 10px; height: 10px;                 border: 1px solid; background-color:                 hsl(0, 75%, 60%)\"></span> Negative  <span style=\"display: inline-block; width: 10px; height: 10px;                 border: 1px solid; background-color:                 hsl(0, 75%, 100%)\"></span> Neutral  <span style=\"display: inline-block; width: 10px; height: 10px;                 border: 1px solid; background-color:                 hsl(120, 75%, 50%)\"></span> Positive  </div><tr><th>True Label</th><th>Predicted Label</th><th>Attribution Label</th><th>Attribution Score</th><th>Word Importance</th><tr><td><text style=\"padding-right:2em\"><b>Neg</b></text></td><td><text style=\"padding-right:2em\"><b>Neg (0.00)</b></text></td><td><text style=\"padding-right:2em\"><b>Neg</b></text></td><td><text style=\"padding-right:2em\"><b>0.03</b></text></td><td><mark style=\"background-color: hsl(0, 75%, 98%); opacity:1.0;                     line-height:1.75\"><font color=\"black\"> #s                    </font></mark><mark style=\"background-color: hsl(0, 75%, 99%); opacity:1.0;                     line-height:1.75\"><font color=\"black\"> is                    </font></mark><mark style=\"background-color: hsl(0, 75%, 98%); opacity:1.0;                     line-height:1.75\"><font color=\"black\"> so                    </font></mark><mark style=\"background-color: hsl(0, 75%, 93%); opacity:1.0;                     line-height:1.75\"><font color=\"black\"> deadly                    </font></mark><mark style=\"background-color: hsl(0, 75%, 87%); opacity:1.0;                     line-height:1.75\"><font color=\"black\"> dull                    </font></mark><mark style=\"background-color: hsl(0, 75%, 99%); opacity:1.0;                     line-height:1.75\"><font color=\"black\"> that                    </font></mark><mark style=\"background-color: hsl(120, 75%, 60%); opacity:1.0;                     line-height:1.75\"><font color=\"black\"> watching                    </font></mark><mark style=\"background-color: hsl(120, 75%, 88%); opacity:1.0;                     line-height:1.75\"><font color=\"black\"> the                    </font></mark><mark style=\"background-color: hsl(120, 75%, 97%); opacity:1.0;                     line-height:1.75\"><font color=\"black\"> proverbial                    </font></mark><mark style=\"background-color: hsl(120, 75%, 97%); opacity:1.0;                     line-height:1.75\"><font color=\"black\"> paint                    </font></mark><mark style=\"background-color: hsl(120, 75%, 98%); opacity:1.0;                     line-height:1.75\"><font color=\"black\"> dry                    </font></mark><mark style=\"background-color: hsl(0, 75%, 96%); opacity:1.0;                     line-height:1.75\"><font color=\"black\"> would                    </font></mark><mark style=\"background-color: hsl(0, 75%, 98%); opacity:1.0;                     line-height:1.75\"><font color=\"black\"> be                    </font></mark><mark style=\"background-color: hsl(120, 75%, 99%); opacity:1.0;                     line-height:1.75\"><font color=\"black\"> a                    </font></mark><mark style=\"background-color: hsl(0, 75%, 99%); opacity:1.0;                     line-height:1.75\"><font color=\"black\"> welcome                    </font></mark><mark style=\"background-color: hsl(0, 75%, 100%); opacity:1.0;                     line-height:1.75\"><font color=\"black\"> improvement                    </font></mark><mark style=\"background-color: hsl(0, 75%, 99%); opacity:1.0;                     line-height:1.75\"><font color=\"black\"> .                    </font></mark><mark style=\"background-color: hsl(0, 75%, 100%); opacity:1.0;                     line-height:1.75\"><font color=\"black\">                     </font></mark><mark style=\"background-color: hsl(0, 75%, 90%); opacity:1.0;                     line-height:1.75\"><font color=\"black\"> #/s                    </font></mark></td><tr></table>"
      ],
      "text/plain": [
       "<IPython.core.display.HTML object>"
      ]
     },
     "metadata": {},
     "output_type": "display_data"
    },
    {
     "name": "stdout",
     "output_type": "stream",
     "text": [
      "<IPython.core.display.HTML object>\n",
      "Raw review: to accomplish \n",
      "GT target: 1\n",
      "word attr tensor([-0.7801, -0.0344, -0.0922, -0.2054,  0.5827], dtype=torch.float64,\n",
      "       grad_fn=<AsStridedBackward0>)\n",
      "conti attr [tensor(-0.7801, dtype=torch.float64, grad_fn=<UnbindBackward0>), tensor(-0.0344, dtype=torch.float64, grad_fn=<UnbindBackward0>), tensor(-0.0922, dtype=torch.float64, grad_fn=<UnbindBackward0>), tensor(-0.2054, dtype=torch.float64, grad_fn=<UnbindBackward0>), tensor(0.5827, dtype=torch.float64, grad_fn=<UnbindBackward0>)]\n",
      "detokenized ['<s>', 'to', 'accomplish', '', '</s>']\n",
      "len conti_raw 5\n",
      "conti_raw ['<s>', 'to', 'accomplish', '', '</s>']\n"
     ]
    },
    {
     "data": {
      "text/html": [
       "<table width: 100%><div style=\"border-top: 1px solid; margin-top: 5px;             padding-top: 5px; display: inline-block\"><b>Legend: </b><span style=\"display: inline-block; width: 10px; height: 10px;                 border: 1px solid; background-color:                 hsl(0, 75%, 60%)\"></span> Negative  <span style=\"display: inline-block; width: 10px; height: 10px;                 border: 1px solid; background-color:                 hsl(0, 75%, 100%)\"></span> Neutral  <span style=\"display: inline-block; width: 10px; height: 10px;                 border: 1px solid; background-color:                 hsl(120, 75%, 50%)\"></span> Positive  </div><tr><th>True Label</th><th>Predicted Label</th><th>Attribution Label</th><th>Attribution Score</th><th>Word Importance</th><tr><td><text style=\"padding-right:2em\"><b>Pos</b></text></td><td><text style=\"padding-right:2em\"><b>Pos (0.99)</b></text></td><td><text style=\"padding-right:2em\"><b>Neg</b></text></td><td><text style=\"padding-right:2em\"><b>-0.53</b></text></td><td><mark style=\"background-color: hsl(0, 75%, 69%); opacity:1.0;                     line-height:1.75\"><font color=\"black\"> #s                    </font></mark><mark style=\"background-color: hsl(0, 75%, 99%); opacity:1.0;                     line-height:1.75\"><font color=\"black\"> to                    </font></mark><mark style=\"background-color: hsl(0, 75%, 97%); opacity:1.0;                     line-height:1.75\"><font color=\"black\"> accomplish                    </font></mark><mark style=\"background-color: hsl(0, 75%, 92%); opacity:1.0;                     line-height:1.75\"><font color=\"black\">                     </font></mark><mark style=\"background-color: hsl(120, 75%, 71%); opacity:1.0;                     line-height:1.75\"><font color=\"black\"> #/s                    </font></mark></td><tr></table>"
      ],
      "text/plain": [
       "<IPython.core.display.HTML object>"
      ]
     },
     "metadata": {},
     "output_type": "display_data"
    },
    {
     "name": "stdout",
     "output_type": "stream",
     "text": [
      "<IPython.core.display.HTML object>\n",
      "Raw review: does n't work . \n",
      "GT target: 0\n",
      "word attr tensor([-0.1324, -0.8418, -0.2077,  0.1722, -0.0101,  0.1783,  0.3812,  0.1545],\n",
      "       dtype=torch.float64, grad_fn=<AsStridedBackward0>)\n",
      "conti attr [tensor(-0.1324, dtype=torch.float64, grad_fn=<UnbindBackward0>), tensor(-0.8418, dtype=torch.float64, grad_fn=<UnbindBackward0>), tensor(-0.0356, dtype=torch.float64, grad_fn=<AddBackward0>), tensor(-0.0101, dtype=torch.float64, grad_fn=<UnbindBackward0>), tensor(0.1783, dtype=torch.float64, grad_fn=<UnbindBackward0>), tensor(0.3812, dtype=torch.float64, grad_fn=<UnbindBackward0>), tensor(0.1545, dtype=torch.float64, grad_fn=<UnbindBackward0>)]\n",
      "detokenized ['<s>', 'does', 'n', \"'t\", 'work', '.', '', '</s>']\n",
      "len conti_raw 7\n",
      "conti_raw ['<s>', 'does', \"n't\", 'work', '.', '', '</s>']\n"
     ]
    },
    {
     "data": {
      "text/html": [
       "<table width: 100%><div style=\"border-top: 1px solid; margin-top: 5px;             padding-top: 5px; display: inline-block\"><b>Legend: </b><span style=\"display: inline-block; width: 10px; height: 10px;                 border: 1px solid; background-color:                 hsl(0, 75%, 60%)\"></span> Negative  <span style=\"display: inline-block; width: 10px; height: 10px;                 border: 1px solid; background-color:                 hsl(0, 75%, 100%)\"></span> Neutral  <span style=\"display: inline-block; width: 10px; height: 10px;                 border: 1px solid; background-color:                 hsl(120, 75%, 50%)\"></span> Positive  </div><tr><th>True Label</th><th>Predicted Label</th><th>Attribution Label</th><th>Attribution Score</th><th>Word Importance</th><tr><td><text style=\"padding-right:2em\"><b>Neg</b></text></td><td><text style=\"padding-right:2em\"><b>Neg (0.00)</b></text></td><td><text style=\"padding-right:2em\"><b>Neg</b></text></td><td><text style=\"padding-right:2em\"><b>-0.31</b></text></td><td><mark style=\"background-color: hsl(0, 75%, 95%); opacity:1.0;                     line-height:1.75\"><font color=\"black\"> #s                    </font></mark><mark style=\"background-color: hsl(0, 75%, 67%); opacity:1.0;                     line-height:1.75\"><font color=\"black\"> does                    </font></mark><mark style=\"background-color: hsl(0, 75%, 99%); opacity:1.0;                     line-height:1.75\"><font color=\"black\"> n't                    </font></mark><mark style=\"background-color: hsl(0, 75%, 100%); opacity:1.0;                     line-height:1.75\"><font color=\"black\"> work                    </font></mark><mark style=\"background-color: hsl(120, 75%, 92%); opacity:1.0;                     line-height:1.75\"><font color=\"black\"> .                    </font></mark><mark style=\"background-color: hsl(120, 75%, 81%); opacity:1.0;                     line-height:1.75\"><font color=\"black\">                     </font></mark><mark style=\"background-color: hsl(120, 75%, 93%); opacity:1.0;                     line-height:1.75\"><font color=\"black\"> #/s                    </font></mark></td><tr></table>"
      ],
      "text/plain": [
       "<IPython.core.display.HTML object>"
      ]
     },
     "metadata": {},
     "output_type": "display_data"
    },
    {
     "name": "stdout",
     "output_type": "stream",
     "text": [
      "<IPython.core.display.HTML object>\n",
      "Raw review: given it a one-star rating \n",
      "GT target: 0\n",
      "word attr tensor([-0.9901,  0.0040,  0.0122,  0.0172, -0.0209,  0.0413,  0.0955,  0.0382,\n",
      "        -0.0076, -0.0809], dtype=torch.float64, grad_fn=<AsStridedBackward0>)\n",
      "conti attr [tensor(-0.9901, dtype=torch.float64, grad_fn=<UnbindBackward0>), tensor(0.0040, dtype=torch.float64, grad_fn=<UnbindBackward0>), tensor(0.0122, dtype=torch.float64, grad_fn=<UnbindBackward0>), tensor(0.0172, dtype=torch.float64, grad_fn=<UnbindBackward0>), tensor(0.1159, dtype=torch.float64, grad_fn=<AddBackward0>), tensor(0.0382, dtype=torch.float64, grad_fn=<UnbindBackward0>), tensor(-0.0076, dtype=torch.float64, grad_fn=<UnbindBackward0>), tensor(-0.0809, dtype=torch.float64, grad_fn=<UnbindBackward0>)]\n",
      "detokenized ['<s>', 'given', 'it', 'a', 'one', '-', 'star', 'rating', '', '</s>']\n",
      "len conti_raw 8\n",
      "conti_raw ['<s>', 'given', 'it', 'a', 'one-star', 'rating', '', '</s>']\n"
     ]
    },
    {
     "data": {
      "text/html": [
       "<table width: 100%><div style=\"border-top: 1px solid; margin-top: 5px;             padding-top: 5px; display: inline-block\"><b>Legend: </b><span style=\"display: inline-block; width: 10px; height: 10px;                 border: 1px solid; background-color:                 hsl(0, 75%, 60%)\"></span> Negative  <span style=\"display: inline-block; width: 10px; height: 10px;                 border: 1px solid; background-color:                 hsl(0, 75%, 100%)\"></span> Neutral  <span style=\"display: inline-block; width: 10px; height: 10px;                 border: 1px solid; background-color:                 hsl(120, 75%, 50%)\"></span> Positive  </div><tr><th>True Label</th><th>Predicted Label</th><th>Attribution Label</th><th>Attribution Score</th><th>Word Importance</th><tr><td><text style=\"padding-right:2em\"><b>Neg</b></text></td><td><text style=\"padding-right:2em\"><b>Neg (0.00)</b></text></td><td><text style=\"padding-right:2em\"><b>Neg</b></text></td><td><text style=\"padding-right:2em\"><b>-0.89</b></text></td><td><mark style=\"background-color: hsl(0, 75%, 61%); opacity:1.0;                     line-height:1.75\"><font color=\"black\"> #s                    </font></mark><mark style=\"background-color: hsl(120, 75%, 100%); opacity:1.0;                     line-height:1.75\"><font color=\"black\"> given                    </font></mark><mark style=\"background-color: hsl(120, 75%, 100%); opacity:1.0;                     line-height:1.75\"><font color=\"black\"> it                    </font></mark><mark style=\"background-color: hsl(120, 75%, 100%); opacity:1.0;                     line-height:1.75\"><font color=\"black\"> a                    </font></mark><mark style=\"background-color: hsl(120, 75%, 95%); opacity:1.0;                     line-height:1.75\"><font color=\"black\"> one-star                    </font></mark><mark style=\"background-color: hsl(120, 75%, 99%); opacity:1.0;                     line-height:1.75\"><font color=\"black\"> rating                    </font></mark><mark style=\"background-color: hsl(0, 75%, 100%); opacity:1.0;                     line-height:1.75\"><font color=\"black\">                     </font></mark><mark style=\"background-color: hsl(0, 75%, 97%); opacity:1.0;                     line-height:1.75\"><font color=\"black\"> #/s                    </font></mark></td><tr></table>"
      ],
      "text/plain": [
       "<IPython.core.display.HTML object>"
      ]
     },
     "metadata": {},
     "output_type": "display_data"
    },
    {
     "name": "stdout",
     "output_type": "stream",
     "text": [
      "<IPython.core.display.HTML object>\n",
      "Raw review: ice cube is n't quite out of ripe screwball ideas , but friday after next spreads them pretty thin \n",
      "GT target: 0\n",
      "word attr tensor([-0.6210, -0.0332, -0.0218,  0.1043,  0.1252, -0.2205, -0.1457,  0.0914,\n",
      "        -0.0042, -0.0399,  0.0640, -0.0163,  0.0423, -0.0395,  0.0727, -0.0762,\n",
      "         0.1992, -0.4207,  0.0382, -0.0342, -0.3412, -0.0108, -0.3864, -0.0492,\n",
      "         0.0084], dtype=torch.float64, grad_fn=<AsStridedBackward0>)\n",
      "conti attr [tensor(-0.6210, dtype=torch.float64, grad_fn=<UnbindBackward0>), tensor(-0.0332, dtype=torch.float64, grad_fn=<UnbindBackward0>), tensor(-0.0218, dtype=torch.float64, grad_fn=<UnbindBackward0>), tensor(0.1043, dtype=torch.float64, grad_fn=<UnbindBackward0>), tensor(-0.0954, dtype=torch.float64, grad_fn=<AddBackward0>), tensor(-0.1457, dtype=torch.float64, grad_fn=<UnbindBackward0>), tensor(0.0914, dtype=torch.float64, grad_fn=<UnbindBackward0>), tensor(-0.0042, dtype=torch.float64, grad_fn=<UnbindBackward0>), tensor(-0.0399, dtype=torch.float64, grad_fn=<UnbindBackward0>), tensor(0.0477, dtype=torch.float64, grad_fn=<AddBackward0>), tensor(0.0423, dtype=torch.float64, grad_fn=<UnbindBackward0>), tensor(-0.0395, dtype=torch.float64, grad_fn=<UnbindBackward0>), tensor(0.0727, dtype=torch.float64, grad_fn=<UnbindBackward0>), tensor(0.1230, dtype=torch.float64, grad_fn=<AddBackward0>), tensor(-0.4207, dtype=torch.float64, grad_fn=<UnbindBackward0>), tensor(0.0382, dtype=torch.float64, grad_fn=<UnbindBackward0>), tensor(-0.0342, dtype=torch.float64, grad_fn=<UnbindBackward0>), tensor(-0.3412, dtype=torch.float64, grad_fn=<UnbindBackward0>), tensor(-0.0108, dtype=torch.float64, grad_fn=<UnbindBackward0>), tensor(-0.3864, dtype=torch.float64, grad_fn=<UnbindBackward0>), tensor(-0.0492, dtype=torch.float64, grad_fn=<UnbindBackward0>), tensor(0.0084, dtype=torch.float64, grad_fn=<UnbindBackward0>)]\n",
      "detokenized ['<s>', 'ice', 'cube', 'is', 'n', \"'t\", 'quite', 'out', 'of', 'ripe', 'screw', 'ball', 'ideas', ',', 'but', 'fr', 'iday', 'after', 'next', 'spreads', 'them', 'pretty', 'thin', '', '</s>']\n",
      "len conti_raw 22\n",
      "conti_raw ['<s>', 'ice', 'cube', 'is', \"n't\", 'quite', 'out', 'of', 'ripe', 'screwball', 'ideas', ',', 'but', 'friday', 'after', 'next', 'spreads', 'them', 'pretty', 'thin', '', '</s>']\n"
     ]
    },
    {
     "data": {
      "text/html": [
       "<table width: 100%><div style=\"border-top: 1px solid; margin-top: 5px;             padding-top: 5px; display: inline-block\"><b>Legend: </b><span style=\"display: inline-block; width: 10px; height: 10px;                 border: 1px solid; background-color:                 hsl(0, 75%, 60%)\"></span> Negative  <span style=\"display: inline-block; width: 10px; height: 10px;                 border: 1px solid; background-color:                 hsl(0, 75%, 100%)\"></span> Neutral  <span style=\"display: inline-block; width: 10px; height: 10px;                 border: 1px solid; background-color:                 hsl(120, 75%, 50%)\"></span> Positive  </div><tr><th>True Label</th><th>Predicted Label</th><th>Attribution Label</th><th>Attribution Score</th><th>Word Importance</th><tr><td><text style=\"padding-right:2em\"><b>Neg</b></text></td><td><text style=\"padding-right:2em\"><b>Neg (0.00)</b></text></td><td><text style=\"padding-right:2em\"><b>Neg</b></text></td><td><text style=\"padding-right:2em\"><b>-1.72</b></text></td><td><mark style=\"background-color: hsl(0, 75%, 76%); opacity:1.0;                     line-height:1.75\"><font color=\"black\"> #s                    </font></mark><mark style=\"background-color: hsl(0, 75%, 99%); opacity:1.0;                     line-height:1.75\"><font color=\"black\"> ice                    </font></mark><mark style=\"background-color: hsl(0, 75%, 100%); opacity:1.0;                     line-height:1.75\"><font color=\"black\"> cube                    </font></mark><mark style=\"background-color: hsl(120, 75%, 95%); opacity:1.0;                     line-height:1.75\"><font color=\"black\"> is                    </font></mark><mark style=\"background-color: hsl(0, 75%, 97%); opacity:1.0;                     line-height:1.75\"><font color=\"black\"> n't                    </font></mark><mark style=\"background-color: hsl(0, 75%, 95%); opacity:1.0;                     line-height:1.75\"><font color=\"black\"> quite                    </font></mark><mark style=\"background-color: hsl(120, 75%, 96%); opacity:1.0;                     line-height:1.75\"><font color=\"black\"> out                    </font></mark><mark style=\"background-color: hsl(0, 75%, 100%); opacity:1.0;                     line-height:1.75\"><font color=\"black\"> of                    </font></mark><mark style=\"background-color: hsl(0, 75%, 99%); opacity:1.0;                     line-height:1.75\"><font color=\"black\"> ripe                    </font></mark><mark style=\"background-color: hsl(120, 75%, 98%); opacity:1.0;                     line-height:1.75\"><font color=\"black\"> screwball                    </font></mark><mark style=\"background-color: hsl(120, 75%, 98%); opacity:1.0;                     line-height:1.75\"><font color=\"black\"> ideas                    </font></mark><mark style=\"background-color: hsl(0, 75%, 99%); opacity:1.0;                     line-height:1.75\"><font color=\"black\"> ,                    </font></mark><mark style=\"background-color: hsl(120, 75%, 97%); opacity:1.0;                     line-height:1.75\"><font color=\"black\"> but                    </font></mark><mark style=\"background-color: hsl(120, 75%, 94%); opacity:1.0;                     line-height:1.75\"><font color=\"black\"> friday                    </font></mark><mark style=\"background-color: hsl(0, 75%, 84%); opacity:1.0;                     line-height:1.75\"><font color=\"black\"> after                    </font></mark><mark style=\"background-color: hsl(120, 75%, 99%); opacity:1.0;                     line-height:1.75\"><font color=\"black\"> next                    </font></mark><mark style=\"background-color: hsl(0, 75%, 99%); opacity:1.0;                     line-height:1.75\"><font color=\"black\"> spreads                    </font></mark><mark style=\"background-color: hsl(0, 75%, 87%); opacity:1.0;                     line-height:1.75\"><font color=\"black\"> them                    </font></mark><mark style=\"background-color: hsl(0, 75%, 100%); opacity:1.0;                     line-height:1.75\"><font color=\"black\"> pretty                    </font></mark><mark style=\"background-color: hsl(0, 75%, 85%); opacity:1.0;                     line-height:1.75\"><font color=\"black\"> thin                    </font></mark><mark style=\"background-color: hsl(0, 75%, 99%); opacity:1.0;                     line-height:1.75\"><font color=\"black\">                     </font></mark><mark style=\"background-color: hsl(120, 75%, 100%); opacity:1.0;                     line-height:1.75\"><font color=\"black\"> #/s                    </font></mark></td><tr></table>"
      ],
      "text/plain": [
       "<IPython.core.display.HTML object>"
      ]
     },
     "metadata": {},
     "output_type": "display_data"
    },
    {
     "name": "stdout",
     "output_type": "stream",
     "text": [
      "<IPython.core.display.HTML object>\n",
      "Raw review: been trying to forget \n",
      "GT target: 0\n",
      "word attr tensor([ 0.3199, -0.0237,  0.0626,  0.9250,  0.1816, -0.0221, -0.0632],\n",
      "       dtype=torch.float64, grad_fn=<AsStridedBackward0>)\n",
      "conti attr [tensor(0.3199, dtype=torch.float64, grad_fn=<UnbindBackward0>), tensor(-0.0237, dtype=torch.float64, grad_fn=<UnbindBackward0>), tensor(0.0626, dtype=torch.float64, grad_fn=<UnbindBackward0>), tensor(0.9250, dtype=torch.float64, grad_fn=<UnbindBackward0>), tensor(0.1816, dtype=torch.float64, grad_fn=<UnbindBackward0>), tensor(-0.0221, dtype=torch.float64, grad_fn=<UnbindBackward0>), tensor(-0.0632, dtype=torch.float64, grad_fn=<UnbindBackward0>)]\n",
      "detokenized ['<s>', 'been', 'trying', 'to', 'forget', '', '</s>']\n",
      "len conti_raw 7\n",
      "conti_raw ['<s>', 'been', 'trying', 'to', 'forget', '', '</s>']\n"
     ]
    },
    {
     "data": {
      "text/html": [
       "<table width: 100%><div style=\"border-top: 1px solid; margin-top: 5px;             padding-top: 5px; display: inline-block\"><b>Legend: </b><span style=\"display: inline-block; width: 10px; height: 10px;                 border: 1px solid; background-color:                 hsl(0, 75%, 60%)\"></span> Negative  <span style=\"display: inline-block; width: 10px; height: 10px;                 border: 1px solid; background-color:                 hsl(0, 75%, 100%)\"></span> Neutral  <span style=\"display: inline-block; width: 10px; height: 10px;                 border: 1px solid; background-color:                 hsl(120, 75%, 50%)\"></span> Positive  </div><tr><th>True Label</th><th>Predicted Label</th><th>Attribution Label</th><th>Attribution Score</th><th>Word Importance</th><tr><td><text style=\"padding-right:2em\"><b>Neg</b></text></td><td><text style=\"padding-right:2em\"><b>Neg (0.01)</b></text></td><td><text style=\"padding-right:2em\"><b>Pos</b></text></td><td><text style=\"padding-right:2em\"><b>1.38</b></text></td><td><mark style=\"background-color: hsl(120, 75%, 85%); opacity:1.0;                     line-height:1.75\"><font color=\"black\"> #s                    </font></mark><mark style=\"background-color: hsl(0, 75%, 100%); opacity:1.0;                     line-height:1.75\"><font color=\"black\"> been                    </font></mark><mark style=\"background-color: hsl(120, 75%, 97%); opacity:1.0;                     line-height:1.75\"><font color=\"black\"> trying                    </font></mark><mark style=\"background-color: hsl(120, 75%, 54%); opacity:1.0;                     line-height:1.75\"><font color=\"black\"> to                    </font></mark><mark style=\"background-color: hsl(120, 75%, 91%); opacity:1.0;                     line-height:1.75\"><font color=\"black\"> forget                    </font></mark><mark style=\"background-color: hsl(0, 75%, 100%); opacity:1.0;                     line-height:1.75\"><font color=\"black\">                     </font></mark><mark style=\"background-color: hsl(0, 75%, 98%); opacity:1.0;                     line-height:1.75\"><font color=\"black\"> #/s                    </font></mark></td><tr></table>"
      ],
      "text/plain": [
       "<IPython.core.display.HTML object>"
      ]
     },
     "metadata": {},
     "output_type": "display_data"
    },
    {
     "name": "stdout",
     "output_type": "stream",
     "text": [
      "<IPython.core.display.HTML object>\n",
      "Raw review: big stars and \n",
      "GT target: 1\n",
      "word attr tensor([-0.9159, -0.0212,  0.3857, -0.0048,  0.0850, -0.0682],\n",
      "       dtype=torch.float64, grad_fn=<AsStridedBackward0>)\n",
      "conti attr [tensor(-0.9159, dtype=torch.float64, grad_fn=<UnbindBackward0>), tensor(-0.0212, dtype=torch.float64, grad_fn=<UnbindBackward0>), tensor(0.3857, dtype=torch.float64, grad_fn=<UnbindBackward0>), tensor(-0.0048, dtype=torch.float64, grad_fn=<UnbindBackward0>), tensor(0.0850, dtype=torch.float64, grad_fn=<UnbindBackward0>), tensor(-0.0682, dtype=torch.float64, grad_fn=<UnbindBackward0>)]\n",
      "detokenized ['<s>', 'big', 'stars', 'and', '', '</s>']\n",
      "len conti_raw 6\n",
      "conti_raw ['<s>', 'big', 'stars', 'and', '', '</s>']\n"
     ]
    },
    {
     "data": {
      "text/html": [
       "<table width: 100%><div style=\"border-top: 1px solid; margin-top: 5px;             padding-top: 5px; display: inline-block\"><b>Legend: </b><span style=\"display: inline-block; width: 10px; height: 10px;                 border: 1px solid; background-color:                 hsl(0, 75%, 60%)\"></span> Negative  <span style=\"display: inline-block; width: 10px; height: 10px;                 border: 1px solid; background-color:                 hsl(0, 75%, 100%)\"></span> Neutral  <span style=\"display: inline-block; width: 10px; height: 10px;                 border: 1px solid; background-color:                 hsl(120, 75%, 50%)\"></span> Positive  </div><tr><th>True Label</th><th>Predicted Label</th><th>Attribution Label</th><th>Attribution Score</th><th>Word Importance</th><tr><td><text style=\"padding-right:2em\"><b>Pos</b></text></td><td><text style=\"padding-right:2em\"><b>Pos (1.00)</b></text></td><td><text style=\"padding-right:2em\"><b>Neg</b></text></td><td><text style=\"padding-right:2em\"><b>-0.54</b></text></td><td><mark style=\"background-color: hsl(0, 75%, 64%); opacity:1.0;                     line-height:1.75\"><font color=\"black\"> #s                    </font></mark><mark style=\"background-color: hsl(0, 75%, 100%); opacity:1.0;                     line-height:1.75\"><font color=\"black\"> big                    </font></mark><mark style=\"background-color: hsl(120, 75%, 81%); opacity:1.0;                     line-height:1.75\"><font color=\"black\"> stars                    </font></mark><mark style=\"background-color: hsl(0, 75%, 100%); opacity:1.0;                     line-height:1.75\"><font color=\"black\"> and                    </font></mark><mark style=\"background-color: hsl(120, 75%, 96%); opacity:1.0;                     line-height:1.75\"><font color=\"black\">                     </font></mark><mark style=\"background-color: hsl(0, 75%, 98%); opacity:1.0;                     line-height:1.75\"><font color=\"black\"> #/s                    </font></mark></td><tr></table>"
      ],
      "text/plain": [
       "<IPython.core.display.HTML object>"
      ]
     },
     "metadata": {},
     "output_type": "display_data"
    },
    {
     "name": "stdout",
     "output_type": "stream",
     "text": [
      "<IPython.core.display.HTML object>\n",
      "Raw review: of cheesy dialogue \n",
      "GT target: 0\n",
      "word attr tensor([-0.9811,  0.0053, -0.0823,  0.0805,  0.0349, -0.1513],\n",
      "       dtype=torch.float64, grad_fn=<AsStridedBackward0>)\n",
      "conti attr [tensor(-0.9811, dtype=torch.float64, grad_fn=<UnbindBackward0>), tensor(0.0053, dtype=torch.float64, grad_fn=<UnbindBackward0>), tensor(-0.0823, dtype=torch.float64, grad_fn=<UnbindBackward0>), tensor(0.0805, dtype=torch.float64, grad_fn=<UnbindBackward0>), tensor(0.0349, dtype=torch.float64, grad_fn=<UnbindBackward0>), tensor(-0.1513, dtype=torch.float64, grad_fn=<UnbindBackward0>)]\n",
      "detokenized ['<s>', 'of', 'cheesy', 'dialogue', '', '</s>']\n",
      "len conti_raw 6\n",
      "conti_raw ['<s>', 'of', 'cheesy', 'dialogue', '', '</s>']\n"
     ]
    },
    {
     "data": {
      "text/html": [
       "<table width: 100%><div style=\"border-top: 1px solid; margin-top: 5px;             padding-top: 5px; display: inline-block\"><b>Legend: </b><span style=\"display: inline-block; width: 10px; height: 10px;                 border: 1px solid; background-color:                 hsl(0, 75%, 60%)\"></span> Negative  <span style=\"display: inline-block; width: 10px; height: 10px;                 border: 1px solid; background-color:                 hsl(0, 75%, 100%)\"></span> Neutral  <span style=\"display: inline-block; width: 10px; height: 10px;                 border: 1px solid; background-color:                 hsl(120, 75%, 50%)\"></span> Positive  </div><tr><th>True Label</th><th>Predicted Label</th><th>Attribution Label</th><th>Attribution Score</th><th>Word Importance</th><tr><td><text style=\"padding-right:2em\"><b>Neg</b></text></td><td><text style=\"padding-right:2em\"><b>Neg (0.00)</b></text></td><td><text style=\"padding-right:2em\"><b>Neg</b></text></td><td><text style=\"padding-right:2em\"><b>-1.09</b></text></td><td><mark style=\"background-color: hsl(0, 75%, 61%); opacity:1.0;                     line-height:1.75\"><font color=\"black\"> #s                    </font></mark><mark style=\"background-color: hsl(120, 75%, 100%); opacity:1.0;                     line-height:1.75\"><font color=\"black\"> of                    </font></mark><mark style=\"background-color: hsl(0, 75%, 97%); opacity:1.0;                     line-height:1.75\"><font color=\"black\"> cheesy                    </font></mark><mark style=\"background-color: hsl(120, 75%, 96%); opacity:1.0;                     line-height:1.75\"><font color=\"black\"> dialogue                    </font></mark><mark style=\"background-color: hsl(120, 75%, 99%); opacity:1.0;                     line-height:1.75\"><font color=\"black\">                     </font></mark><mark style=\"background-color: hsl(0, 75%, 94%); opacity:1.0;                     line-height:1.75\"><font color=\"black\"> #/s                    </font></mark></td><tr></table>"
      ],
      "text/plain": [
       "<IPython.core.display.HTML object>"
      ]
     },
     "metadata": {},
     "output_type": "display_data"
    },
    {
     "name": "stdout",
     "output_type": "stream",
     "text": [
      "<IPython.core.display.HTML object>\n",
      "Raw review: the château is never quite able to overcome the cultural moat surrounding its ludicrous and contrived plot . ' \n",
      "GT target: 0\n",
      "word attr tensor([-0.0306,  0.0514,  0.0859,  0.0053,  0.0009, -0.0391,  0.4268, -0.5520,\n",
      "         0.1401,  0.0894, -0.0561,  0.2947, -0.0118,  0.0567,  0.0117,  0.0035,\n",
      "        -0.0015, -0.0293, -0.5521,  0.2673, -0.0160, -0.0222,  0.0190, -0.0303,\n",
      "         0.0064,  0.0151, -0.0048], dtype=torch.float64,\n",
      "       grad_fn=<AsStridedBackward0>)\n",
      "conti attr [tensor(-0.0306, dtype=torch.float64, grad_fn=<UnbindBackward0>), tensor(0.0514, dtype=torch.float64, grad_fn=<UnbindBackward0>), tensor(0.0531, dtype=torch.float64, grad_fn=<AddBackward0>), tensor(0.4268, dtype=torch.float64, grad_fn=<UnbindBackward0>), tensor(-0.5520, dtype=torch.float64, grad_fn=<UnbindBackward0>), tensor(0.1401, dtype=torch.float64, grad_fn=<UnbindBackward0>), tensor(0.0894, dtype=torch.float64, grad_fn=<UnbindBackward0>), tensor(-0.0561, dtype=torch.float64, grad_fn=<UnbindBackward0>), tensor(0.2947, dtype=torch.float64, grad_fn=<UnbindBackward0>), tensor(-0.0118, dtype=torch.float64, grad_fn=<UnbindBackward0>), tensor(0.0567, dtype=torch.float64, grad_fn=<UnbindBackward0>), tensor(0.0152, dtype=torch.float64, grad_fn=<AddBackward0>), tensor(-0.0015, dtype=torch.float64, grad_fn=<UnbindBackward0>), tensor(-0.0293, dtype=torch.float64, grad_fn=<UnbindBackward0>), tensor(-0.5521, dtype=torch.float64, grad_fn=<UnbindBackward0>), tensor(0.2673, dtype=torch.float64, grad_fn=<UnbindBackward0>), tensor(-0.0382, dtype=torch.float64, grad_fn=<AddBackward0>), tensor(0.0190, dtype=torch.float64, grad_fn=<UnbindBackward0>), tensor(-0.0303, dtype=torch.float64, grad_fn=<UnbindBackward0>), tensor(0.0064, dtype=torch.float64, grad_fn=<UnbindBackward0>), tensor(0.0151, dtype=torch.float64, grad_fn=<UnbindBackward0>), tensor(-0.0048, dtype=torch.float64, grad_fn=<UnbindBackward0>)]\n",
      "detokenized ['<s>', 'the', 'ch', 'Ã¢', 'te', 'au', 'is', 'never', 'quite', 'able', 'to', 'overcome', 'the', 'cultural', 'mo', 'at', 'surrounding', 'its', 'ludicrous', 'and', 'cont', 'rived', 'plot', '.', \"'\", '', '</s>']\n",
      "len conti_raw 22\n",
      "conti_raw ['<s>', 'the', 'chÃ¢teau', 'is', 'never', 'quite', 'able', 'to', 'overcome', 'the', 'cultural', 'moat', 'surrounding', 'its', 'ludicrous', 'and', 'contrived', 'plot', '.', \"'\", '', '</s>']\n"
     ]
    },
    {
     "data": {
      "text/html": [
       "<table width: 100%><div style=\"border-top: 1px solid; margin-top: 5px;             padding-top: 5px; display: inline-block\"><b>Legend: </b><span style=\"display: inline-block; width: 10px; height: 10px;                 border: 1px solid; background-color:                 hsl(0, 75%, 60%)\"></span> Negative  <span style=\"display: inline-block; width: 10px; height: 10px;                 border: 1px solid; background-color:                 hsl(0, 75%, 100%)\"></span> Neutral  <span style=\"display: inline-block; width: 10px; height: 10px;                 border: 1px solid; background-color:                 hsl(120, 75%, 50%)\"></span> Positive  </div><tr><th>True Label</th><th>Predicted Label</th><th>Attribution Label</th><th>Attribution Score</th><th>Word Importance</th><tr><td><text style=\"padding-right:2em\"><b>Neg</b></text></td><td><text style=\"padding-right:2em\"><b>Neg (0.00)</b></text></td><td><text style=\"padding-right:2em\"><b>Neg</b></text></td><td><text style=\"padding-right:2em\"><b>0.13</b></text></td><td><mark style=\"background-color: hsl(0, 75%, 99%); opacity:1.0;                     line-height:1.75\"><font color=\"black\"> #s                    </font></mark><mark style=\"background-color: hsl(120, 75%, 98%); opacity:1.0;                     line-height:1.75\"><font color=\"black\"> the                    </font></mark><mark style=\"background-color: hsl(120, 75%, 98%); opacity:1.0;                     line-height:1.75\"><font color=\"black\"> chÃ¢teau                    </font></mark><mark style=\"background-color: hsl(120, 75%, 79%); opacity:1.0;                     line-height:1.75\"><font color=\"black\"> is                    </font></mark><mark style=\"background-color: hsl(0, 75%, 78%); opacity:1.0;                     line-height:1.75\"><font color=\"black\"> never                    </font></mark><mark style=\"background-color: hsl(120, 75%, 93%); opacity:1.0;                     line-height:1.75\"><font color=\"black\"> quite                    </font></mark><mark style=\"background-color: hsl(120, 75%, 96%); opacity:1.0;                     line-height:1.75\"><font color=\"black\"> able                    </font></mark><mark style=\"background-color: hsl(0, 75%, 98%); opacity:1.0;                     line-height:1.75\"><font color=\"black\"> to                    </font></mark><mark style=\"background-color: hsl(120, 75%, 86%); opacity:1.0;                     line-height:1.75\"><font color=\"black\"> overcome                    </font></mark><mark style=\"background-color: hsl(0, 75%, 100%); opacity:1.0;                     line-height:1.75\"><font color=\"black\"> the                    </font></mark><mark style=\"background-color: hsl(120, 75%, 98%); opacity:1.0;                     line-height:1.75\"><font color=\"black\"> cultural                    </font></mark><mark style=\"background-color: hsl(120, 75%, 100%); opacity:1.0;                     line-height:1.75\"><font color=\"black\"> moat                    </font></mark><mark style=\"background-color: hsl(0, 75%, 100%); opacity:1.0;                     line-height:1.75\"><font color=\"black\"> surrounding                    </font></mark><mark style=\"background-color: hsl(0, 75%, 99%); opacity:1.0;                     line-height:1.75\"><font color=\"black\"> its                    </font></mark><mark style=\"background-color: hsl(0, 75%, 78%); opacity:1.0;                     line-height:1.75\"><font color=\"black\"> ludicrous                    </font></mark><mark style=\"background-color: hsl(120, 75%, 87%); opacity:1.0;                     line-height:1.75\"><font color=\"black\"> and                    </font></mark><mark style=\"background-color: hsl(0, 75%, 99%); opacity:1.0;                     line-height:1.75\"><font color=\"black\"> contrived                    </font></mark><mark style=\"background-color: hsl(120, 75%, 100%); opacity:1.0;                     line-height:1.75\"><font color=\"black\"> plot                    </font></mark><mark style=\"background-color: hsl(0, 75%, 99%); opacity:1.0;                     line-height:1.75\"><font color=\"black\"> .                    </font></mark><mark style=\"background-color: hsl(120, 75%, 100%); opacity:1.0;                     line-height:1.75\"><font color=\"black\"> '                    </font></mark><mark style=\"background-color: hsl(120, 75%, 100%); opacity:1.0;                     line-height:1.75\"><font color=\"black\">                     </font></mark><mark style=\"background-color: hsl(0, 75%, 100%); opacity:1.0;                     line-height:1.75\"><font color=\"black\"> #/s                    </font></mark></td><tr></table>"
      ],
      "text/plain": [
       "<IPython.core.display.HTML object>"
      ]
     },
     "metadata": {},
     "output_type": "display_data"
    },
    {
     "name": "stdout",
     "output_type": "stream",
     "text": [
      "<IPython.core.display.HTML object>\n",
      "Raw review: principled \n",
      "GT target: 1\n",
      "word attr tensor([ 0.9650, -0.0017,  0.0311,  0.0690, -0.1789, -0.1760],\n",
      "       dtype=torch.float64, grad_fn=<AsStridedBackward0>)\n",
      "conti attr [tensor(0.9650, dtype=torch.float64, grad_fn=<UnbindBackward0>), tensor(0.0984, dtype=torch.float64, grad_fn=<AddBackward0>), tensor(-0.1789, dtype=torch.float64, grad_fn=<UnbindBackward0>), tensor(-0.1760, dtype=torch.float64, grad_fn=<UnbindBackward0>)]\n",
      "detokenized ['<s>', 'pr', 'in', 'cipled', '', '</s>']\n",
      "len conti_raw 4\n",
      "conti_raw ['<s>', 'principled', '', '</s>']\n"
     ]
    },
    {
     "data": {
      "text/html": [
       "<table width: 100%><div style=\"border-top: 1px solid; margin-top: 5px;             padding-top: 5px; display: inline-block\"><b>Legend: </b><span style=\"display: inline-block; width: 10px; height: 10px;                 border: 1px solid; background-color:                 hsl(0, 75%, 60%)\"></span> Negative  <span style=\"display: inline-block; width: 10px; height: 10px;                 border: 1px solid; background-color:                 hsl(0, 75%, 100%)\"></span> Neutral  <span style=\"display: inline-block; width: 10px; height: 10px;                 border: 1px solid; background-color:                 hsl(120, 75%, 50%)\"></span> Positive  </div><tr><th>True Label</th><th>Predicted Label</th><th>Attribution Label</th><th>Attribution Score</th><th>Word Importance</th><tr><td><text style=\"padding-right:2em\"><b>Pos</b></text></td><td><text style=\"padding-right:2em\"><b>Pos (1.00)</b></text></td><td><text style=\"padding-right:2em\"><b>Pos</b></text></td><td><text style=\"padding-right:2em\"><b>0.71</b></text></td><td><mark style=\"background-color: hsl(120, 75%, 52%); opacity:1.0;                     line-height:1.75\"><font color=\"black\"> #s                    </font></mark><mark style=\"background-color: hsl(120, 75%, 96%); opacity:1.0;                     line-height:1.75\"><font color=\"black\"> principled                    </font></mark><mark style=\"background-color: hsl(0, 75%, 93%); opacity:1.0;                     line-height:1.75\"><font color=\"black\">                     </font></mark><mark style=\"background-color: hsl(0, 75%, 93%); opacity:1.0;                     line-height:1.75\"><font color=\"black\"> #/s                    </font></mark></td><tr></table>"
      ],
      "text/plain": [
       "<IPython.core.display.HTML object>"
      ]
     },
     "metadata": {},
     "output_type": "display_data"
    },
    {
     "name": "stdout",
     "output_type": "stream",
     "text": [
      "<IPython.core.display.HTML object>\n",
      "Raw review: end it all by stuffing himself into an electric pencil sharpener \n",
      "GT target: 0\n",
      "word attr tensor([-0.7961, -0.0808, -0.0730, -0.1157, -0.0374, -0.0498,  0.0636,  0.1925,\n",
      "         0.1969, -0.0469, -0.0362, -0.0046,  0.0213, -0.0833,  0.4962],\n",
      "       dtype=torch.float64, grad_fn=<AsStridedBackward0>)\n",
      "conti attr [tensor(-0.7961, dtype=torch.float64, grad_fn=<UnbindBackward0>), tensor(-0.0808, dtype=torch.float64, grad_fn=<UnbindBackward0>), tensor(-0.0730, dtype=torch.float64, grad_fn=<UnbindBackward0>), tensor(-0.1157, dtype=torch.float64, grad_fn=<UnbindBackward0>), tensor(-0.0374, dtype=torch.float64, grad_fn=<UnbindBackward0>), tensor(-0.0498, dtype=torch.float64, grad_fn=<UnbindBackward0>), tensor(0.0636, dtype=torch.float64, grad_fn=<UnbindBackward0>), tensor(0.1925, dtype=torch.float64, grad_fn=<UnbindBackward0>), tensor(0.1969, dtype=torch.float64, grad_fn=<UnbindBackward0>), tensor(-0.0469, dtype=torch.float64, grad_fn=<UnbindBackward0>), tensor(-0.0362, dtype=torch.float64, grad_fn=<UnbindBackward0>), tensor(0.0167, dtype=torch.float64, grad_fn=<AddBackward0>), tensor(-0.0833, dtype=torch.float64, grad_fn=<UnbindBackward0>), tensor(0.4962, dtype=torch.float64, grad_fn=<UnbindBackward0>)]\n",
      "detokenized ['<s>', 'end', 'it', 'all', 'by', 'stuffing', 'himself', 'into', 'an', 'electric', 'pencil', 'sharp', 'ener', '', '</s>']\n",
      "len conti_raw 14\n",
      "conti_raw ['<s>', 'end', 'it', 'all', 'by', 'stuffing', 'himself', 'into', 'an', 'electric', 'pencil', 'sharpener', '', '</s>']\n"
     ]
    },
    {
     "data": {
      "text/html": [
       "<table width: 100%><div style=\"border-top: 1px solid; margin-top: 5px;             padding-top: 5px; display: inline-block\"><b>Legend: </b><span style=\"display: inline-block; width: 10px; height: 10px;                 border: 1px solid; background-color:                 hsl(0, 75%, 60%)\"></span> Negative  <span style=\"display: inline-block; width: 10px; height: 10px;                 border: 1px solid; background-color:                 hsl(0, 75%, 100%)\"></span> Neutral  <span style=\"display: inline-block; width: 10px; height: 10px;                 border: 1px solid; background-color:                 hsl(120, 75%, 50%)\"></span> Positive  </div><tr><th>True Label</th><th>Predicted Label</th><th>Attribution Label</th><th>Attribution Score</th><th>Word Importance</th><tr><td><text style=\"padding-right:2em\"><b>Neg</b></text></td><td><text style=\"padding-right:2em\"><b>Neg (0.00)</b></text></td><td><text style=\"padding-right:2em\"><b>Neg</b></text></td><td><text style=\"padding-right:2em\"><b>-0.35</b></text></td><td><mark style=\"background-color: hsl(0, 75%, 69%); opacity:1.0;                     line-height:1.75\"><font color=\"black\"> #s                    </font></mark><mark style=\"background-color: hsl(0, 75%, 97%); opacity:1.0;                     line-height:1.75\"><font color=\"black\"> end                    </font></mark><mark style=\"background-color: hsl(0, 75%, 98%); opacity:1.0;                     line-height:1.75\"><font color=\"black\"> it                    </font></mark><mark style=\"background-color: hsl(0, 75%, 96%); opacity:1.0;                     line-height:1.75\"><font color=\"black\"> all                    </font></mark><mark style=\"background-color: hsl(0, 75%, 99%); opacity:1.0;                     line-height:1.75\"><font color=\"black\"> by                    </font></mark><mark style=\"background-color: hsl(0, 75%, 99%); opacity:1.0;                     line-height:1.75\"><font color=\"black\"> stuffing                    </font></mark><mark style=\"background-color: hsl(120, 75%, 97%); opacity:1.0;                     line-height:1.75\"><font color=\"black\"> himself                    </font></mark><mark style=\"background-color: hsl(120, 75%, 91%); opacity:1.0;                     line-height:1.75\"><font color=\"black\"> into                    </font></mark><mark style=\"background-color: hsl(120, 75%, 91%); opacity:1.0;                     line-height:1.75\"><font color=\"black\"> an                    </font></mark><mark style=\"background-color: hsl(0, 75%, 99%); opacity:1.0;                     line-height:1.75\"><font color=\"black\"> electric                    </font></mark><mark style=\"background-color: hsl(0, 75%, 99%); opacity:1.0;                     line-height:1.75\"><font color=\"black\"> pencil                    </font></mark><mark style=\"background-color: hsl(120, 75%, 100%); opacity:1.0;                     line-height:1.75\"><font color=\"black\"> sharpener                    </font></mark><mark style=\"background-color: hsl(0, 75%, 97%); opacity:1.0;                     line-height:1.75\"><font color=\"black\">                     </font></mark><mark style=\"background-color: hsl(120, 75%, 76%); opacity:1.0;                     line-height:1.75\"><font color=\"black\"> #/s                    </font></mark></td><tr></table>"
      ],
      "text/plain": [
       "<IPython.core.display.HTML object>"
      ]
     },
     "metadata": {},
     "output_type": "display_data"
    },
    {
     "name": "stdout",
     "output_type": "stream",
     "text": [
      "<IPython.core.display.HTML object>\n",
      "Raw review: funniest idea \n",
      "GT target: 1\n",
      "word attr tensor([-0.7561, -0.0809, -0.1167, -0.1963, -0.0883, -0.1943,  0.5692],\n",
      "       dtype=torch.float64, grad_fn=<AsStridedBackward0>)\n",
      "conti attr [tensor(-0.7561, dtype=torch.float64, grad_fn=<UnbindBackward0>), tensor(-0.3939, dtype=torch.float64, grad_fn=<AddBackward0>), tensor(-0.0883, dtype=torch.float64, grad_fn=<UnbindBackward0>), tensor(-0.1943, dtype=torch.float64, grad_fn=<UnbindBackward0>), tensor(0.5692, dtype=torch.float64, grad_fn=<UnbindBackward0>)]\n",
      "detokenized ['<s>', 'fun', 'n', 'iest', 'idea', '', '</s>']\n",
      "len conti_raw 5\n",
      "conti_raw ['<s>', 'funniest', 'idea', '', '</s>']\n"
     ]
    },
    {
     "data": {
      "text/html": [
       "<table width: 100%><div style=\"border-top: 1px solid; margin-top: 5px;             padding-top: 5px; display: inline-block\"><b>Legend: </b><span style=\"display: inline-block; width: 10px; height: 10px;                 border: 1px solid; background-color:                 hsl(0, 75%, 60%)\"></span> Negative  <span style=\"display: inline-block; width: 10px; height: 10px;                 border: 1px solid; background-color:                 hsl(0, 75%, 100%)\"></span> Neutral  <span style=\"display: inline-block; width: 10px; height: 10px;                 border: 1px solid; background-color:                 hsl(120, 75%, 50%)\"></span> Positive  </div><tr><th>True Label</th><th>Predicted Label</th><th>Attribution Label</th><th>Attribution Score</th><th>Word Importance</th><tr><td><text style=\"padding-right:2em\"><b>Pos</b></text></td><td><text style=\"padding-right:2em\"><b>Pos (0.99)</b></text></td><td><text style=\"padding-right:2em\"><b>Neg</b></text></td><td><text style=\"padding-right:2em\"><b>-0.86</b></text></td><td><mark style=\"background-color: hsl(0, 75%, 70%); opacity:1.0;                     line-height:1.75\"><font color=\"black\"> #s                    </font></mark><mark style=\"background-color: hsl(0, 75%, 85%); opacity:1.0;                     line-height:1.75\"><font color=\"black\"> funniest                    </font></mark><mark style=\"background-color: hsl(0, 75%, 97%); opacity:1.0;                     line-height:1.75\"><font color=\"black\"> idea                    </font></mark><mark style=\"background-color: hsl(0, 75%, 93%); opacity:1.0;                     line-height:1.75\"><font color=\"black\">                     </font></mark><mark style=\"background-color: hsl(120, 75%, 72%); opacity:1.0;                     line-height:1.75\"><font color=\"black\"> #/s                    </font></mark></td><tr></table>"
      ],
      "text/plain": [
       "<IPython.core.display.HTML object>"
      ]
     },
     "metadata": {},
     "output_type": "display_data"
    },
    {
     "name": "stdout",
     "output_type": "stream",
     "text": [
      "<IPython.core.display.HTML object>\n",
      "Raw review: silly and tedious \n",
      "GT target: 0\n",
      "word attr tensor([-0.6525, -0.3839, -0.0309, -0.6508, -0.0281,  0.0347, -0.0163],\n",
      "       dtype=torch.float64, grad_fn=<AsStridedBackward0>)\n",
      "conti attr [tensor(-0.6525, dtype=torch.float64, grad_fn=<UnbindBackward0>), tensor(-0.4148, dtype=torch.float64, grad_fn=<AddBackward0>), tensor(-0.6508, dtype=torch.float64, grad_fn=<UnbindBackward0>), tensor(-0.0281, dtype=torch.float64, grad_fn=<UnbindBackward0>), tensor(0.0347, dtype=torch.float64, grad_fn=<UnbindBackward0>), tensor(-0.0163, dtype=torch.float64, grad_fn=<UnbindBackward0>)]\n",
      "detokenized ['<s>', 's', 'illy', 'and', 'tedious', '', '</s>']\n",
      "len conti_raw 6\n",
      "conti_raw ['<s>', 'silly', 'and', 'tedious', '', '</s>']\n"
     ]
    },
    {
     "data": {
      "text/html": [
       "<table width: 100%><div style=\"border-top: 1px solid; margin-top: 5px;             padding-top: 5px; display: inline-block\"><b>Legend: </b><span style=\"display: inline-block; width: 10px; height: 10px;                 border: 1px solid; background-color:                 hsl(0, 75%, 60%)\"></span> Negative  <span style=\"display: inline-block; width: 10px; height: 10px;                 border: 1px solid; background-color:                 hsl(0, 75%, 100%)\"></span> Neutral  <span style=\"display: inline-block; width: 10px; height: 10px;                 border: 1px solid; background-color:                 hsl(120, 75%, 50%)\"></span> Positive  </div><tr><th>True Label</th><th>Predicted Label</th><th>Attribution Label</th><th>Attribution Score</th><th>Word Importance</th><tr><td><text style=\"padding-right:2em\"><b>Neg</b></text></td><td><text style=\"padding-right:2em\"><b>Neg (0.00)</b></text></td><td><text style=\"padding-right:2em\"><b>Neg</b></text></td><td><text style=\"padding-right:2em\"><b>-1.73</b></text></td><td><mark style=\"background-color: hsl(0, 75%, 74%); opacity:1.0;                     line-height:1.75\"><font color=\"black\"> #s                    </font></mark><mark style=\"background-color: hsl(0, 75%, 84%); opacity:1.0;                     line-height:1.75\"><font color=\"black\"> silly                    </font></mark><mark style=\"background-color: hsl(0, 75%, 74%); opacity:1.0;                     line-height:1.75\"><font color=\"black\"> and                    </font></mark><mark style=\"background-color: hsl(0, 75%, 99%); opacity:1.0;                     line-height:1.75\"><font color=\"black\"> tedious                    </font></mark><mark style=\"background-color: hsl(120, 75%, 99%); opacity:1.0;                     line-height:1.75\"><font color=\"black\">                     </font></mark><mark style=\"background-color: hsl(0, 75%, 100%); opacity:1.0;                     line-height:1.75\"><font color=\"black\"> #/s                    </font></mark></td><tr></table>"
      ],
      "text/plain": [
       "<IPython.core.display.HTML object>"
      ]
     },
     "metadata": {},
     "output_type": "display_data"
    },
    {
     "name": "stdout",
     "output_type": "stream",
     "text": [
      "<IPython.core.display.HTML object>\n",
      "Raw review: two surefire , beloved genres \n",
      "GT target: 1\n",
      "word attr tensor([-0.9598,  0.0143,  0.0124,  0.0373, -0.1517,  0.1467,  0.1564, -0.0747,\n",
      "        -0.0492], dtype=torch.float64, grad_fn=<AsStridedBackward0>)\n",
      "conti attr [tensor(-0.9598, dtype=torch.float64, grad_fn=<UnbindBackward0>), tensor(0.0143, dtype=torch.float64, grad_fn=<UnbindBackward0>), tensor(0.0497, dtype=torch.float64, grad_fn=<AddBackward0>), tensor(-0.1517, dtype=torch.float64, grad_fn=<UnbindBackward0>), tensor(0.1467, dtype=torch.float64, grad_fn=<UnbindBackward0>), tensor(0.1564, dtype=torch.float64, grad_fn=<UnbindBackward0>), tensor(-0.0747, dtype=torch.float64, grad_fn=<UnbindBackward0>), tensor(-0.0492, dtype=torch.float64, grad_fn=<UnbindBackward0>)]\n",
      "detokenized ['<s>', 'two', 'sure', 'fire', ',', 'beloved', 'genres', '', '</s>']\n",
      "len conti_raw 8\n",
      "conti_raw ['<s>', 'two', 'surefire', ',', 'beloved', 'genres', '', '</s>']\n"
     ]
    },
    {
     "data": {
      "text/html": [
       "<table width: 100%><div style=\"border-top: 1px solid; margin-top: 5px;             padding-top: 5px; display: inline-block\"><b>Legend: </b><span style=\"display: inline-block; width: 10px; height: 10px;                 border: 1px solid; background-color:                 hsl(0, 75%, 60%)\"></span> Negative  <span style=\"display: inline-block; width: 10px; height: 10px;                 border: 1px solid; background-color:                 hsl(0, 75%, 100%)\"></span> Neutral  <span style=\"display: inline-block; width: 10px; height: 10px;                 border: 1px solid; background-color:                 hsl(120, 75%, 50%)\"></span> Positive  </div><tr><th>True Label</th><th>Predicted Label</th><th>Attribution Label</th><th>Attribution Score</th><th>Word Importance</th><tr><td><text style=\"padding-right:2em\"><b>Pos</b></text></td><td><text style=\"padding-right:2em\"><b>Pos (1.00)</b></text></td><td><text style=\"padding-right:2em\"><b>Neg</b></text></td><td><text style=\"padding-right:2em\"><b>-0.87</b></text></td><td><mark style=\"background-color: hsl(0, 75%, 62%); opacity:1.0;                     line-height:1.75\"><font color=\"black\"> #s                    </font></mark><mark style=\"background-color: hsl(120, 75%, 100%); opacity:1.0;                     line-height:1.75\"><font color=\"black\"> two                    </font></mark><mark style=\"background-color: hsl(120, 75%, 98%); opacity:1.0;                     line-height:1.75\"><font color=\"black\"> surefire                    </font></mark><mark style=\"background-color: hsl(0, 75%, 94%); opacity:1.0;                     line-height:1.75\"><font color=\"black\"> ,                    </font></mark><mark style=\"background-color: hsl(120, 75%, 93%); opacity:1.0;                     line-height:1.75\"><font color=\"black\"> beloved                    </font></mark><mark style=\"background-color: hsl(120, 75%, 93%); opacity:1.0;                     line-height:1.75\"><font color=\"black\"> genres                    </font></mark><mark style=\"background-color: hsl(0, 75%, 98%); opacity:1.0;                     line-height:1.75\"><font color=\"black\">                     </font></mark><mark style=\"background-color: hsl(0, 75%, 99%); opacity:1.0;                     line-height:1.75\"><font color=\"black\"> #/s                    </font></mark></td><tr></table>"
      ],
      "text/plain": [
       "<IPython.core.display.HTML object>"
      ]
     },
     "metadata": {},
     "output_type": "display_data"
    },
    {
     "name": "stdout",
     "output_type": "stream",
     "text": [
      "<IPython.core.display.HTML object>\n",
      "Raw review: most charmless \n",
      "GT target: 0\n",
      "word attr tensor([-0.8543, -0.0696,  0.4901, -0.1408,  0.0731,  0.0024],\n",
      "       dtype=torch.float64, grad_fn=<AsStridedBackward0>)\n",
      "conti attr [tensor(-0.8543, dtype=torch.float64, grad_fn=<UnbindBackward0>), tensor(-0.0696, dtype=torch.float64, grad_fn=<UnbindBackward0>), tensor(0.3493, dtype=torch.float64, grad_fn=<AddBackward0>), tensor(0.0731, dtype=torch.float64, grad_fn=<UnbindBackward0>), tensor(0.0024, dtype=torch.float64, grad_fn=<UnbindBackward0>)]\n",
      "detokenized ['<s>', 'most', 'charm', 'less', '', '</s>']\n",
      "len conti_raw 5\n",
      "conti_raw ['<s>', 'most', 'charmless', '', '</s>']\n"
     ]
    },
    {
     "data": {
      "text/html": [
       "<table width: 100%><div style=\"border-top: 1px solid; margin-top: 5px;             padding-top: 5px; display: inline-block\"><b>Legend: </b><span style=\"display: inline-block; width: 10px; height: 10px;                 border: 1px solid; background-color:                 hsl(0, 75%, 60%)\"></span> Negative  <span style=\"display: inline-block; width: 10px; height: 10px;                 border: 1px solid; background-color:                 hsl(0, 75%, 100%)\"></span> Neutral  <span style=\"display: inline-block; width: 10px; height: 10px;                 border: 1px solid; background-color:                 hsl(120, 75%, 50%)\"></span> Positive  </div><tr><th>True Label</th><th>Predicted Label</th><th>Attribution Label</th><th>Attribution Score</th><th>Word Importance</th><tr><td><text style=\"padding-right:2em\"><b>Neg</b></text></td><td><text style=\"padding-right:2em\"><b>Neg (0.00)</b></text></td><td><text style=\"padding-right:2em\"><b>Neg</b></text></td><td><text style=\"padding-right:2em\"><b>-0.50</b></text></td><td><mark style=\"background-color: hsl(0, 75%, 66%); opacity:1.0;                     line-height:1.75\"><font color=\"black\"> #s                    </font></mark><mark style=\"background-color: hsl(0, 75%, 98%); opacity:1.0;                     line-height:1.75\"><font color=\"black\"> most                    </font></mark><mark style=\"background-color: hsl(120, 75%, 83%); opacity:1.0;                     line-height:1.75\"><font color=\"black\"> charmless                    </font></mark><mark style=\"background-color: hsl(120, 75%, 97%); opacity:1.0;                     line-height:1.75\"><font color=\"black\">                     </font></mark><mark style=\"background-color: hsl(120, 75%, 100%); opacity:1.0;                     line-height:1.75\"><font color=\"black\"> #/s                    </font></mark></td><tr></table>"
      ],
      "text/plain": [
       "<IPython.core.display.HTML object>"
      ]
     },
     "metadata": {},
     "output_type": "display_data"
    },
    {
     "name": "stdout",
     "output_type": "stream",
     "text": [
      "<IPython.core.display.HTML object>\n",
      "Raw review: offers us the sense that on some elemental level , lilia deeply wants to break free of her old life . \n",
      "GT target: 1\n",
      "word attr tensor([-0.9547, -0.0085,  0.0017, -0.0072,  0.1363,  0.0388, -0.0726,  0.1016,\n",
      "        -0.0519,  0.0111,  0.0126,  0.0251,  0.0216, -0.0023,  0.0102, -0.0026,\n",
      "         0.1372,  0.1357, -0.0184, -0.0207,  0.0077, -0.0128,  0.0211,  0.0320,\n",
      "        -0.0027,  0.0937], dtype=torch.float64, grad_fn=<AsStridedBackward0>)\n",
      "conti attr [tensor(-0.9547, dtype=torch.float64, grad_fn=<UnbindBackward0>), tensor(-0.0068, dtype=torch.float64, grad_fn=<AddBackward0>), tensor(-0.0072, dtype=torch.float64, grad_fn=<UnbindBackward0>), tensor(0.1363, dtype=torch.float64, grad_fn=<UnbindBackward0>), tensor(0.0388, dtype=torch.float64, grad_fn=<UnbindBackward0>), tensor(-0.0726, dtype=torch.float64, grad_fn=<UnbindBackward0>), tensor(0.1016, dtype=torch.float64, grad_fn=<UnbindBackward0>), tensor(-0.0519, dtype=torch.float64, grad_fn=<UnbindBackward0>), tensor(0.0111, dtype=torch.float64, grad_fn=<UnbindBackward0>), tensor(0.0126, dtype=torch.float64, grad_fn=<UnbindBackward0>), tensor(0.0251, dtype=torch.float64, grad_fn=<UnbindBackward0>), tensor(0.0193, dtype=torch.float64, grad_fn=<AddBackward0>), tensor(0.0102, dtype=torch.float64, grad_fn=<UnbindBackward0>), tensor(-0.0026, dtype=torch.float64, grad_fn=<UnbindBackward0>), tensor(0.1372, dtype=torch.float64, grad_fn=<UnbindBackward0>), tensor(0.1357, dtype=torch.float64, grad_fn=<UnbindBackward0>), tensor(-0.0184, dtype=torch.float64, grad_fn=<UnbindBackward0>), tensor(-0.0207, dtype=torch.float64, grad_fn=<UnbindBackward0>), tensor(0.0077, dtype=torch.float64, grad_fn=<UnbindBackward0>), tensor(-0.0128, dtype=torch.float64, grad_fn=<UnbindBackward0>), tensor(0.0211, dtype=torch.float64, grad_fn=<UnbindBackward0>), tensor(0.0320, dtype=torch.float64, grad_fn=<UnbindBackward0>), tensor(-0.0027, dtype=torch.float64, grad_fn=<UnbindBackward0>), tensor(0.0937, dtype=torch.float64, grad_fn=<UnbindBackward0>)]\n",
      "detokenized ['<s>', 'off', 'ers', 'us', 'the', 'sense', 'that', 'on', 'some', 'elemental', 'level', ',', 'l', 'ilia', 'deeply', 'wants', 'to', 'break', 'free', 'of', 'her', 'old', 'life', '.', '', '</s>']\n",
      "len conti_raw 24\n",
      "conti_raw ['<s>', 'offers', 'us', 'the', 'sense', 'that', 'on', 'some', 'elemental', 'level', ',', 'lilia', 'deeply', 'wants', 'to', 'break', 'free', 'of', 'her', 'old', 'life', '.', '', '</s>']\n"
     ]
    },
    {
     "data": {
      "text/html": [
       "<table width: 100%><div style=\"border-top: 1px solid; margin-top: 5px;             padding-top: 5px; display: inline-block\"><b>Legend: </b><span style=\"display: inline-block; width: 10px; height: 10px;                 border: 1px solid; background-color:                 hsl(0, 75%, 60%)\"></span> Negative  <span style=\"display: inline-block; width: 10px; height: 10px;                 border: 1px solid; background-color:                 hsl(0, 75%, 100%)\"></span> Neutral  <span style=\"display: inline-block; width: 10px; height: 10px;                 border: 1px solid; background-color:                 hsl(120, 75%, 50%)\"></span> Positive  </div><tr><th>True Label</th><th>Predicted Label</th><th>Attribution Label</th><th>Attribution Score</th><th>Word Importance</th><tr><td><text style=\"padding-right:2em\"><b>Pos</b></text></td><td><text style=\"padding-right:2em\"><b>Pos (1.00)</b></text></td><td><text style=\"padding-right:2em\"><b>Neg</b></text></td><td><text style=\"padding-right:2em\"><b>-0.37</b></text></td><td><mark style=\"background-color: hsl(0, 75%, 62%); opacity:1.0;                     line-height:1.75\"><font color=\"black\"> #s                    </font></mark><mark style=\"background-color: hsl(0, 75%, 100%); opacity:1.0;                     line-height:1.75\"><font color=\"black\"> offers                    </font></mark><mark style=\"background-color: hsl(0, 75%, 100%); opacity:1.0;                     line-height:1.75\"><font color=\"black\"> us                    </font></mark><mark style=\"background-color: hsl(120, 75%, 94%); opacity:1.0;                     line-height:1.75\"><font color=\"black\"> the                    </font></mark><mark style=\"background-color: hsl(120, 75%, 99%); opacity:1.0;                     line-height:1.75\"><font color=\"black\"> sense                    </font></mark><mark style=\"background-color: hsl(0, 75%, 98%); opacity:1.0;                     line-height:1.75\"><font color=\"black\"> that                    </font></mark><mark style=\"background-color: hsl(120, 75%, 95%); opacity:1.0;                     line-height:1.75\"><font color=\"black\"> on                    </font></mark><mark style=\"background-color: hsl(0, 75%, 98%); opacity:1.0;                     line-height:1.75\"><font color=\"black\"> some                    </font></mark><mark style=\"background-color: hsl(120, 75%, 100%); opacity:1.0;                     line-height:1.75\"><font color=\"black\"> elemental                    </font></mark><mark style=\"background-color: hsl(120, 75%, 100%); opacity:1.0;                     line-height:1.75\"><font color=\"black\"> level                    </font></mark><mark style=\"background-color: hsl(120, 75%, 99%); opacity:1.0;                     line-height:1.75\"><font color=\"black\"> ,                    </font></mark><mark style=\"background-color: hsl(120, 75%, 100%); opacity:1.0;                     line-height:1.75\"><font color=\"black\"> lilia                    </font></mark><mark style=\"background-color: hsl(120, 75%, 100%); opacity:1.0;                     line-height:1.75\"><font color=\"black\"> deeply                    </font></mark><mark style=\"background-color: hsl(0, 75%, 100%); opacity:1.0;                     line-height:1.75\"><font color=\"black\"> wants                    </font></mark><mark style=\"background-color: hsl(120, 75%, 94%); opacity:1.0;                     line-height:1.75\"><font color=\"black\"> to                    </font></mark><mark style=\"background-color: hsl(120, 75%, 94%); opacity:1.0;                     line-height:1.75\"><font color=\"black\"> break                    </font></mark><mark style=\"background-color: hsl(0, 75%, 100%); opacity:1.0;                     line-height:1.75\"><font color=\"black\"> free                    </font></mark><mark style=\"background-color: hsl(0, 75%, 100%); opacity:1.0;                     line-height:1.75\"><font color=\"black\"> of                    </font></mark><mark style=\"background-color: hsl(120, 75%, 100%); opacity:1.0;                     line-height:1.75\"><font color=\"black\"> her                    </font></mark><mark style=\"background-color: hsl(0, 75%, 100%); opacity:1.0;                     line-height:1.75\"><font color=\"black\"> old                    </font></mark><mark style=\"background-color: hsl(120, 75%, 99%); opacity:1.0;                     line-height:1.75\"><font color=\"black\"> life                    </font></mark><mark style=\"background-color: hsl(120, 75%, 99%); opacity:1.0;                     line-height:1.75\"><font color=\"black\"> .                    </font></mark><mark style=\"background-color: hsl(0, 75%, 100%); opacity:1.0;                     line-height:1.75\"><font color=\"black\">                     </font></mark><mark style=\"background-color: hsl(120, 75%, 96%); opacity:1.0;                     line-height:1.75\"><font color=\"black\"> #/s                    </font></mark></td><tr></table>"
      ],
      "text/plain": [
       "<IPython.core.display.HTML object>"
      ]
     },
     "metadata": {},
     "output_type": "display_data"
    },
    {
     "name": "stdout",
     "output_type": "stream",
     "text": [
      "<IPython.core.display.HTML object>\n",
      "Raw review: might be best forgotten \n",
      "GT target: 0\n",
      "word attr tensor([ 0.3045, -0.1269, -0.2868,  0.6234,  0.3045, -0.0943,  0.5645],\n",
      "       dtype=torch.float64, grad_fn=<AsStridedBackward0>)\n",
      "conti attr [tensor(0.3045, dtype=torch.float64, grad_fn=<UnbindBackward0>), tensor(-0.1269, dtype=torch.float64, grad_fn=<UnbindBackward0>), tensor(-0.2868, dtype=torch.float64, grad_fn=<UnbindBackward0>), tensor(0.6234, dtype=torch.float64, grad_fn=<UnbindBackward0>), tensor(0.3045, dtype=torch.float64, grad_fn=<UnbindBackward0>), tensor(-0.0943, dtype=torch.float64, grad_fn=<UnbindBackward0>), tensor(0.5645, dtype=torch.float64, grad_fn=<UnbindBackward0>)]\n",
      "detokenized ['<s>', 'might', 'be', 'best', 'forgotten', '', '</s>']\n",
      "len conti_raw 7\n",
      "conti_raw ['<s>', 'might', 'be', 'best', 'forgotten', '', '</s>']\n"
     ]
    },
    {
     "data": {
      "text/html": [
       "<table width: 100%><div style=\"border-top: 1px solid; margin-top: 5px;             padding-top: 5px; display: inline-block\"><b>Legend: </b><span style=\"display: inline-block; width: 10px; height: 10px;                 border: 1px solid; background-color:                 hsl(0, 75%, 60%)\"></span> Negative  <span style=\"display: inline-block; width: 10px; height: 10px;                 border: 1px solid; background-color:                 hsl(0, 75%, 100%)\"></span> Neutral  <span style=\"display: inline-block; width: 10px; height: 10px;                 border: 1px solid; background-color:                 hsl(120, 75%, 50%)\"></span> Positive  </div><tr><th>True Label</th><th>Predicted Label</th><th>Attribution Label</th><th>Attribution Score</th><th>Word Importance</th><tr><td><text style=\"padding-right:2em\"><b>Neg</b></text></td><td><text style=\"padding-right:2em\"><b>Neg (0.00)</b></text></td><td><text style=\"padding-right:2em\"><b>Pos</b></text></td><td><text style=\"padding-right:2em\"><b>1.29</b></text></td><td><mark style=\"background-color: hsl(120, 75%, 85%); opacity:1.0;                     line-height:1.75\"><font color=\"black\"> #s                    </font></mark><mark style=\"background-color: hsl(0, 75%, 95%); opacity:1.0;                     line-height:1.75\"><font color=\"black\"> might                    </font></mark><mark style=\"background-color: hsl(0, 75%, 89%); opacity:1.0;                     line-height:1.75\"><font color=\"black\"> be                    </font></mark><mark style=\"background-color: hsl(120, 75%, 69%); opacity:1.0;                     line-height:1.75\"><font color=\"black\"> best                    </font></mark><mark style=\"background-color: hsl(120, 75%, 85%); opacity:1.0;                     line-height:1.75\"><font color=\"black\"> forgotten                    </font></mark><mark style=\"background-color: hsl(0, 75%, 97%); opacity:1.0;                     line-height:1.75\"><font color=\"black\">                     </font></mark><mark style=\"background-color: hsl(120, 75%, 72%); opacity:1.0;                     line-height:1.75\"><font color=\"black\"> #/s                    </font></mark></td><tr></table>"
      ],
      "text/plain": [
       "<IPython.core.display.HTML object>"
      ]
     },
     "metadata": {},
     "output_type": "display_data"
    },
    {
     "name": "stdout",
     "output_type": "stream",
     "text": [
      "<IPython.core.display.HTML object>\n",
      "Raw review: a substantial arc of change that does n't produce any real transformation \n",
      "GT target: 0\n",
      "word attr tensor([-0.7281,  0.0148,  0.0260,  0.0337,  0.0307, -0.1012, -0.0024, -0.1124,\n",
      "        -0.0220, -0.6416, -0.0205, -0.1679, -0.0100,  0.0393,  0.0052, -0.0400],\n",
      "       dtype=torch.float64, grad_fn=<AsStridedBackward0>)\n",
      "conti attr [tensor(-0.7281, dtype=torch.float64, grad_fn=<UnbindBackward0>), tensor(0.0148, dtype=torch.float64, grad_fn=<UnbindBackward0>), tensor(0.0260, dtype=torch.float64, grad_fn=<UnbindBackward0>), tensor(0.0337, dtype=torch.float64, grad_fn=<UnbindBackward0>), tensor(0.0307, dtype=torch.float64, grad_fn=<UnbindBackward0>), tensor(-0.1012, dtype=torch.float64, grad_fn=<UnbindBackward0>), tensor(-0.0024, dtype=torch.float64, grad_fn=<UnbindBackward0>), tensor(-0.1124, dtype=torch.float64, grad_fn=<UnbindBackward0>), tensor(-0.6635, dtype=torch.float64, grad_fn=<AddBackward0>), tensor(-0.0205, dtype=torch.float64, grad_fn=<UnbindBackward0>), tensor(-0.1679, dtype=torch.float64, grad_fn=<UnbindBackward0>), tensor(-0.0100, dtype=torch.float64, grad_fn=<UnbindBackward0>), tensor(0.0393, dtype=torch.float64, grad_fn=<UnbindBackward0>), tensor(0.0052, dtype=torch.float64, grad_fn=<UnbindBackward0>), tensor(-0.0400, dtype=torch.float64, grad_fn=<UnbindBackward0>)]\n",
      "detokenized ['<s>', 'a', 'substantial', 'arc', 'of', 'change', 'that', 'does', 'n', \"'t\", 'produce', 'any', 'real', 'transformation', '', '</s>']\n",
      "len conti_raw 15\n",
      "conti_raw ['<s>', 'a', 'substantial', 'arc', 'of', 'change', 'that', 'does', \"n't\", 'produce', 'any', 'real', 'transformation', '', '</s>']\n"
     ]
    },
    {
     "data": {
      "text/html": [
       "<table width: 100%><div style=\"border-top: 1px solid; margin-top: 5px;             padding-top: 5px; display: inline-block\"><b>Legend: </b><span style=\"display: inline-block; width: 10px; height: 10px;                 border: 1px solid; background-color:                 hsl(0, 75%, 60%)\"></span> Negative  <span style=\"display: inline-block; width: 10px; height: 10px;                 border: 1px solid; background-color:                 hsl(0, 75%, 100%)\"></span> Neutral  <span style=\"display: inline-block; width: 10px; height: 10px;                 border: 1px solid; background-color:                 hsl(120, 75%, 50%)\"></span> Positive  </div><tr><th>True Label</th><th>Predicted Label</th><th>Attribution Label</th><th>Attribution Score</th><th>Word Importance</th><tr><td><text style=\"padding-right:2em\"><b>Neg</b></text></td><td><text style=\"padding-right:2em\"><b>Neg (0.00)</b></text></td><td><text style=\"padding-right:2em\"><b>Neg</b></text></td><td><text style=\"padding-right:2em\"><b>-1.70</b></text></td><td><mark style=\"background-color: hsl(0, 75%, 71%); opacity:1.0;                     line-height:1.75\"><font color=\"black\"> #s                    </font></mark><mark style=\"background-color: hsl(120, 75%, 100%); opacity:1.0;                     line-height:1.75\"><font color=\"black\"> a                    </font></mark><mark style=\"background-color: hsl(120, 75%, 99%); opacity:1.0;                     line-height:1.75\"><font color=\"black\"> substantial                    </font></mark><mark style=\"background-color: hsl(120, 75%, 99%); opacity:1.0;                     line-height:1.75\"><font color=\"black\"> arc                    </font></mark><mark style=\"background-color: hsl(120, 75%, 99%); opacity:1.0;                     line-height:1.75\"><font color=\"black\"> of                    </font></mark><mark style=\"background-color: hsl(0, 75%, 96%); opacity:1.0;                     line-height:1.75\"><font color=\"black\"> change                    </font></mark><mark style=\"background-color: hsl(0, 75%, 100%); opacity:1.0;                     line-height:1.75\"><font color=\"black\"> that                    </font></mark><mark style=\"background-color: hsl(0, 75%, 96%); opacity:1.0;                     line-height:1.75\"><font color=\"black\"> does                    </font></mark><mark style=\"background-color: hsl(0, 75%, 74%); opacity:1.0;                     line-height:1.75\"><font color=\"black\"> n't                    </font></mark><mark style=\"background-color: hsl(0, 75%, 100%); opacity:1.0;                     line-height:1.75\"><font color=\"black\"> produce                    </font></mark><mark style=\"background-color: hsl(0, 75%, 94%); opacity:1.0;                     line-height:1.75\"><font color=\"black\"> any                    </font></mark><mark style=\"background-color: hsl(0, 75%, 100%); opacity:1.0;                     line-height:1.75\"><font color=\"black\"> real                    </font></mark><mark style=\"background-color: hsl(120, 75%, 99%); opacity:1.0;                     line-height:1.75\"><font color=\"black\"> transformation                    </font></mark><mark style=\"background-color: hsl(120, 75%, 100%); opacity:1.0;                     line-height:1.75\"><font color=\"black\">                     </font></mark><mark style=\"background-color: hsl(0, 75%, 99%); opacity:1.0;                     line-height:1.75\"><font color=\"black\"> #/s                    </font></mark></td><tr></table>"
      ],
      "text/plain": [
       "<IPython.core.display.HTML object>"
      ]
     },
     "metadata": {},
     "output_type": "display_data"
    },
    {
     "name": "stdout",
     "output_type": "stream",
     "text": [
      "<IPython.core.display.HTML object>\n",
      "Raw review: unadorned \n",
      "GT target: 0\n",
      "word attr tensor([-0.1344, -0.3317,  0.1353, -0.5034,  0.7609,  0.1455],\n",
      "       dtype=torch.float64, grad_fn=<AsStridedBackward0>)\n",
      "conti attr [tensor(-0.1344, dtype=torch.float64, grad_fn=<UnbindBackward0>), tensor(-0.6998, dtype=torch.float64, grad_fn=<AddBackward0>), tensor(0.7609, dtype=torch.float64, grad_fn=<UnbindBackward0>), tensor(0.1455, dtype=torch.float64, grad_fn=<UnbindBackward0>)]\n",
      "detokenized ['<s>', 'un', 'ad', 'orned', '', '</s>']\n",
      "len conti_raw 4\n",
      "conti_raw ['<s>', 'unadorned', '', '</s>']\n"
     ]
    },
    {
     "data": {
      "text/html": [
       "<table width: 100%><div style=\"border-top: 1px solid; margin-top: 5px;             padding-top: 5px; display: inline-block\"><b>Legend: </b><span style=\"display: inline-block; width: 10px; height: 10px;                 border: 1px solid; background-color:                 hsl(0, 75%, 60%)\"></span> Negative  <span style=\"display: inline-block; width: 10px; height: 10px;                 border: 1px solid; background-color:                 hsl(0, 75%, 100%)\"></span> Neutral  <span style=\"display: inline-block; width: 10px; height: 10px;                 border: 1px solid; background-color:                 hsl(120, 75%, 50%)\"></span> Positive  </div><tr><th>True Label</th><th>Predicted Label</th><th>Attribution Label</th><th>Attribution Score</th><th>Word Importance</th><tr><td><text style=\"padding-right:2em\"><b>Neg</b></text></td><td><text style=\"padding-right:2em\"><b>Pos (1.00)</b></text></td><td><text style=\"padding-right:2em\"><b>Neg</b></text></td><td><text style=\"padding-right:2em\"><b>0.07</b></text></td><td><mark style=\"background-color: hsl(0, 75%, 95%); opacity:1.0;                     line-height:1.75\"><font color=\"black\"> #s                    </font></mark><mark style=\"background-color: hsl(0, 75%, 73%); opacity:1.0;                     line-height:1.75\"><font color=\"black\"> unadorned                    </font></mark><mark style=\"background-color: hsl(120, 75%, 62%); opacity:1.0;                     line-height:1.75\"><font color=\"black\">                     </font></mark><mark style=\"background-color: hsl(120, 75%, 93%); opacity:1.0;                     line-height:1.75\"><font color=\"black\"> #/s                    </font></mark></td><tr></table>"
      ],
      "text/plain": [
       "<IPython.core.display.HTML object>"
      ]
     },
     "metadata": {},
     "output_type": "display_data"
    },
    {
     "name": "stdout",
     "output_type": "stream",
     "text": [
      "<IPython.core.display.HTML object>\n",
      "Raw review: this is the kind of movie that you only need to watch for about thirty seconds before you say to yourself , ` ah , yes , here we have a bad , bad , bad movie . ' \n",
      "GT target: 0\n",
      "word attr tensor([-4.0689e-01, -1.5609e-02,  2.1143e-02, -2.3085e-02,  1.3332e-02,\n",
      "        -1.6929e-02, -1.0268e-02,  1.2862e-02,  9.5297e-03,  1.3393e-02,\n",
      "         3.5067e-02,  9.0316e-01,  3.1912e-02, -2.6518e-02,  1.2828e-02,\n",
      "         6.7357e-03, -6.3975e-02, -1.1735e-02,  1.5410e-02,  6.6767e-03,\n",
      "        -3.8180e-02, -1.8955e-02, -1.7355e-02, -9.3750e-03,  6.5118e-03,\n",
      "        -1.8031e-02,  3.2556e-03, -1.1348e-02, -7.5916e-03, -9.6356e-04,\n",
      "         1.1157e-03, -2.7134e-02, -5.1605e-02, -1.5793e-02, -3.6295e-02,\n",
      "        -2.4796e-02, -1.6204e-02, -1.3438e-02, -1.8783e-03, -6.4532e-03,\n",
      "        -3.7772e-04, -1.7929e-03], dtype=torch.float64,\n",
      "       grad_fn=<AsStridedBackward0>)\n",
      "conti attr [tensor(-0.4069, dtype=torch.float64, grad_fn=<UnbindBackward0>), tensor(-0.0156, dtype=torch.float64, grad_fn=<UnbindBackward0>), tensor(0.0211, dtype=torch.float64, grad_fn=<UnbindBackward0>), tensor(-0.0231, dtype=torch.float64, grad_fn=<UnbindBackward0>), tensor(0.0133, dtype=torch.float64, grad_fn=<UnbindBackward0>), tensor(-0.0169, dtype=torch.float64, grad_fn=<UnbindBackward0>), tensor(-0.0103, dtype=torch.float64, grad_fn=<UnbindBackward0>), tensor(0.0129, dtype=torch.float64, grad_fn=<UnbindBackward0>), tensor(0.0095, dtype=torch.float64, grad_fn=<UnbindBackward0>), tensor(0.0134, dtype=torch.float64, grad_fn=<UnbindBackward0>), tensor(0.0351, dtype=torch.float64, grad_fn=<UnbindBackward0>), tensor(0.9032, dtype=torch.float64, grad_fn=<UnbindBackward0>), tensor(0.0319, dtype=torch.float64, grad_fn=<UnbindBackward0>), tensor(-0.0265, dtype=torch.float64, grad_fn=<UnbindBackward0>), tensor(0.0128, dtype=torch.float64, grad_fn=<UnbindBackward0>), tensor(0.0067, dtype=torch.float64, grad_fn=<UnbindBackward0>), tensor(-0.0640, dtype=torch.float64, grad_fn=<UnbindBackward0>), tensor(-0.0117, dtype=torch.float64, grad_fn=<UnbindBackward0>), tensor(0.0154, dtype=torch.float64, grad_fn=<UnbindBackward0>), tensor(0.0067, dtype=torch.float64, grad_fn=<UnbindBackward0>), tensor(-0.0382, dtype=torch.float64, grad_fn=<UnbindBackward0>), tensor(-0.0190, dtype=torch.float64, grad_fn=<UnbindBackward0>), tensor(-0.0174, dtype=torch.float64, grad_fn=<UnbindBackward0>), tensor(-0.0094, dtype=torch.float64, grad_fn=<UnbindBackward0>), tensor(0.0065, dtype=torch.float64, grad_fn=<UnbindBackward0>), tensor(-0.0180, dtype=torch.float64, grad_fn=<UnbindBackward0>), tensor(0.0033, dtype=torch.float64, grad_fn=<UnbindBackward0>), tensor(-0.0113, dtype=torch.float64, grad_fn=<UnbindBackward0>), tensor(-0.0076, dtype=torch.float64, grad_fn=<UnbindBackward0>), tensor(-0.0010, dtype=torch.float64, grad_fn=<UnbindBackward0>), tensor(0.0011, dtype=torch.float64, grad_fn=<UnbindBackward0>), tensor(-0.0271, dtype=torch.float64, grad_fn=<UnbindBackward0>), tensor(-0.0516, dtype=torch.float64, grad_fn=<UnbindBackward0>), tensor(-0.0158, dtype=torch.float64, grad_fn=<UnbindBackward0>), tensor(-0.0363, dtype=torch.float64, grad_fn=<UnbindBackward0>), tensor(-0.0248, dtype=torch.float64, grad_fn=<UnbindBackward0>), tensor(-0.0162, dtype=torch.float64, grad_fn=<UnbindBackward0>), tensor(-0.0134, dtype=torch.float64, grad_fn=<UnbindBackward0>), tensor(-0.0019, dtype=torch.float64, grad_fn=<UnbindBackward0>), tensor(-0.0065, dtype=torch.float64, grad_fn=<UnbindBackward0>), tensor(-0.0004, dtype=torch.float64, grad_fn=<UnbindBackward0>), tensor(-0.0018, dtype=torch.float64, grad_fn=<UnbindBackward0>)]\n",
      "detokenized ['<s>', 'this', 'is', 'the', 'kind', 'of', 'movie', 'that', 'you', 'only', 'need', 'to', 'watch', 'for', 'about', 'thirty', 'seconds', 'before', 'you', 'say', 'to', 'yourself', ',', '`', 'ah', ',', 'yes', ',', 'here', 'we', 'have', 'a', 'bad', ',', 'bad', ',', 'bad', 'movie', '.', \"'\", '', '</s>']\n",
      "len conti_raw 42\n",
      "conti_raw ['<s>', 'this', 'is', 'the', 'kind', 'of', 'movie', 'that', 'you', 'only', 'need', 'to', 'watch', 'for', 'about', 'thirty', 'seconds', 'before', 'you', 'say', 'to', 'yourself', ',', '`', 'ah', ',', 'yes', ',', 'here', 'we', 'have', 'a', 'bad', ',', 'bad', ',', 'bad', 'movie', '.', \"'\", '', '</s>']\n"
     ]
    },
    {
     "data": {
      "text/html": [
       "<table width: 100%><div style=\"border-top: 1px solid; margin-top: 5px;             padding-top: 5px; display: inline-block\"><b>Legend: </b><span style=\"display: inline-block; width: 10px; height: 10px;                 border: 1px solid; background-color:                 hsl(0, 75%, 60%)\"></span> Negative  <span style=\"display: inline-block; width: 10px; height: 10px;                 border: 1px solid; background-color:                 hsl(0, 75%, 100%)\"></span> Neutral  <span style=\"display: inline-block; width: 10px; height: 10px;                 border: 1px solid; background-color:                 hsl(120, 75%, 50%)\"></span> Positive  </div><tr><th>True Label</th><th>Predicted Label</th><th>Attribution Label</th><th>Attribution Score</th><th>Word Importance</th><tr><td><text style=\"padding-right:2em\"><b>Neg</b></text></td><td><text style=\"padding-right:2em\"><b>Neg (0.00)</b></text></td><td><text style=\"padding-right:2em\"><b>Neg</b></text></td><td><text style=\"padding-right:2em\"><b>0.20</b></text></td><td><mark style=\"background-color: hsl(0, 75%, 84%); opacity:1.0;                     line-height:1.75\"><font color=\"black\"> #s                    </font></mark><mark style=\"background-color: hsl(0, 75%, 100%); opacity:1.0;                     line-height:1.75\"><font color=\"black\"> this                    </font></mark><mark style=\"background-color: hsl(120, 75%, 99%); opacity:1.0;                     line-height:1.75\"><font color=\"black\"> is                    </font></mark><mark style=\"background-color: hsl(0, 75%, 100%); opacity:1.0;                     line-height:1.75\"><font color=\"black\"> the                    </font></mark><mark style=\"background-color: hsl(120, 75%, 100%); opacity:1.0;                     line-height:1.75\"><font color=\"black\"> kind                    </font></mark><mark style=\"background-color: hsl(0, 75%, 100%); opacity:1.0;                     line-height:1.75\"><font color=\"black\"> of                    </font></mark><mark style=\"background-color: hsl(0, 75%, 100%); opacity:1.0;                     line-height:1.75\"><font color=\"black\"> movie                    </font></mark><mark style=\"background-color: hsl(120, 75%, 100%); opacity:1.0;                     line-height:1.75\"><font color=\"black\"> that                    </font></mark><mark style=\"background-color: hsl(120, 75%, 100%); opacity:1.0;                     line-height:1.75\"><font color=\"black\"> you                    </font></mark><mark style=\"background-color: hsl(120, 75%, 100%); opacity:1.0;                     line-height:1.75\"><font color=\"black\"> only                    </font></mark><mark style=\"background-color: hsl(120, 75%, 99%); opacity:1.0;                     line-height:1.75\"><font color=\"black\"> need                    </font></mark><mark style=\"background-color: hsl(120, 75%, 55%); opacity:1.0;                     line-height:1.75\"><font color=\"black\"> to                    </font></mark><mark style=\"background-color: hsl(120, 75%, 99%); opacity:1.0;                     line-height:1.75\"><font color=\"black\"> watch                    </font></mark><mark style=\"background-color: hsl(0, 75%, 99%); opacity:1.0;                     line-height:1.75\"><font color=\"black\"> for                    </font></mark><mark style=\"background-color: hsl(120, 75%, 100%); opacity:1.0;                     line-height:1.75\"><font color=\"black\"> about                    </font></mark><mark style=\"background-color: hsl(120, 75%, 100%); opacity:1.0;                     line-height:1.75\"><font color=\"black\"> thirty                    </font></mark><mark style=\"background-color: hsl(0, 75%, 98%); opacity:1.0;                     line-height:1.75\"><font color=\"black\"> seconds                    </font></mark><mark style=\"background-color: hsl(0, 75%, 100%); opacity:1.0;                     line-height:1.75\"><font color=\"black\"> before                    </font></mark><mark style=\"background-color: hsl(120, 75%, 100%); opacity:1.0;                     line-height:1.75\"><font color=\"black\"> you                    </font></mark><mark style=\"background-color: hsl(120, 75%, 100%); opacity:1.0;                     line-height:1.75\"><font color=\"black\"> say                    </font></mark><mark style=\"background-color: hsl(0, 75%, 99%); opacity:1.0;                     line-height:1.75\"><font color=\"black\"> to                    </font></mark><mark style=\"background-color: hsl(0, 75%, 100%); opacity:1.0;                     line-height:1.75\"><font color=\"black\"> yourself                    </font></mark><mark style=\"background-color: hsl(0, 75%, 100%); opacity:1.0;                     line-height:1.75\"><font color=\"black\"> ,                    </font></mark><mark style=\"background-color: hsl(0, 75%, 100%); opacity:1.0;                     line-height:1.75\"><font color=\"black\"> `                    </font></mark><mark style=\"background-color: hsl(120, 75%, 100%); opacity:1.0;                     line-height:1.75\"><font color=\"black\"> ah                    </font></mark><mark style=\"background-color: hsl(0, 75%, 100%); opacity:1.0;                     line-height:1.75\"><font color=\"black\"> ,                    </font></mark><mark style=\"background-color: hsl(120, 75%, 100%); opacity:1.0;                     line-height:1.75\"><font color=\"black\"> yes                    </font></mark><mark style=\"background-color: hsl(0, 75%, 100%); opacity:1.0;                     line-height:1.75\"><font color=\"black\"> ,                    </font></mark><mark style=\"background-color: hsl(0, 75%, 100%); opacity:1.0;                     line-height:1.75\"><font color=\"black\"> here                    </font></mark><mark style=\"background-color: hsl(0, 75%, 100%); opacity:1.0;                     line-height:1.75\"><font color=\"black\"> we                    </font></mark><mark style=\"background-color: hsl(120, 75%, 100%); opacity:1.0;                     line-height:1.75\"><font color=\"black\"> have                    </font></mark><mark style=\"background-color: hsl(0, 75%, 99%); opacity:1.0;                     line-height:1.75\"><font color=\"black\"> a                    </font></mark><mark style=\"background-color: hsl(0, 75%, 98%); opacity:1.0;                     line-height:1.75\"><font color=\"black\"> bad                    </font></mark><mark style=\"background-color: hsl(0, 75%, 100%); opacity:1.0;                     line-height:1.75\"><font color=\"black\"> ,                    </font></mark><mark style=\"background-color: hsl(0, 75%, 99%); opacity:1.0;                     line-height:1.75\"><font color=\"black\"> bad                    </font></mark><mark style=\"background-color: hsl(0, 75%, 100%); opacity:1.0;                     line-height:1.75\"><font color=\"black\"> ,                    </font></mark><mark style=\"background-color: hsl(0, 75%, 100%); opacity:1.0;                     line-height:1.75\"><font color=\"black\"> bad                    </font></mark><mark style=\"background-color: hsl(0, 75%, 100%); opacity:1.0;                     line-height:1.75\"><font color=\"black\"> movie                    </font></mark><mark style=\"background-color: hsl(0, 75%, 100%); opacity:1.0;                     line-height:1.75\"><font color=\"black\"> .                    </font></mark><mark style=\"background-color: hsl(0, 75%, 100%); opacity:1.0;                     line-height:1.75\"><font color=\"black\"> '                    </font></mark><mark style=\"background-color: hsl(0, 75%, 100%); opacity:1.0;                     line-height:1.75\"><font color=\"black\">                     </font></mark><mark style=\"background-color: hsl(0, 75%, 100%); opacity:1.0;                     line-height:1.75\"><font color=\"black\"> #/s                    </font></mark></td><tr></table>"
      ],
      "text/plain": [
       "<IPython.core.display.HTML object>"
      ]
     },
     "metadata": {},
     "output_type": "display_data"
    },
    {
     "name": "stdout",
     "output_type": "stream",
     "text": [
      "<IPython.core.display.HTML object>\n",
      "Raw review: feel sanitised and stagey \n",
      "GT target: 0\n",
      "word attr tensor([-0.3286, -0.5117, -0.1701, -0.5236, -0.2503, -0.0078, -0.4722,  0.1816,\n",
      "        -0.0565,  0.0723], dtype=torch.float64, grad_fn=<AsStridedBackward0>)\n",
      "conti attr [tensor(-0.3286, dtype=torch.float64, grad_fn=<UnbindBackward0>), tensor(-0.5117, dtype=torch.float64, grad_fn=<UnbindBackward0>), tensor(-0.9439, dtype=torch.float64, grad_fn=<AddBackward0>), tensor(-0.0078, dtype=torch.float64, grad_fn=<UnbindBackward0>), tensor(-0.2906, dtype=torch.float64, grad_fn=<AddBackward0>), tensor(-0.0565, dtype=torch.float64, grad_fn=<UnbindBackward0>), tensor(0.0723, dtype=torch.float64, grad_fn=<UnbindBackward0>)]\n",
      "detokenized ['<s>', 'feel', 'san', 'it', 'ised', 'and', 'stage', 'y', '', '</s>']\n",
      "len conti_raw 7\n",
      "conti_raw ['<s>', 'feel', 'sanitised', 'and', 'stagey', '', '</s>']\n"
     ]
    },
    {
     "data": {
      "text/html": [
       "<table width: 100%><div style=\"border-top: 1px solid; margin-top: 5px;             padding-top: 5px; display: inline-block\"><b>Legend: </b><span style=\"display: inline-block; width: 10px; height: 10px;                 border: 1px solid; background-color:                 hsl(0, 75%, 60%)\"></span> Negative  <span style=\"display: inline-block; width: 10px; height: 10px;                 border: 1px solid; background-color:                 hsl(0, 75%, 100%)\"></span> Neutral  <span style=\"display: inline-block; width: 10px; height: 10px;                 border: 1px solid; background-color:                 hsl(120, 75%, 50%)\"></span> Positive  </div><tr><th>True Label</th><th>Predicted Label</th><th>Attribution Label</th><th>Attribution Score</th><th>Word Importance</th><tr><td><text style=\"padding-right:2em\"><b>Neg</b></text></td><td><text style=\"padding-right:2em\"><b>Neg (0.00)</b></text></td><td><text style=\"padding-right:2em\"><b>Neg</b></text></td><td><text style=\"padding-right:2em\"><b>-2.07</b></text></td><td><mark style=\"background-color: hsl(0, 75%, 87%); opacity:1.0;                     line-height:1.75\"><font color=\"black\"> #s                    </font></mark><mark style=\"background-color: hsl(0, 75%, 80%); opacity:1.0;                     line-height:1.75\"><font color=\"black\"> feel                    </font></mark><mark style=\"background-color: hsl(0, 75%, 63%); opacity:1.0;                     line-height:1.75\"><font color=\"black\"> sanitised                    </font></mark><mark style=\"background-color: hsl(0, 75%, 100%); opacity:1.0;                     line-height:1.75\"><font color=\"black\"> and                    </font></mark><mark style=\"background-color: hsl(0, 75%, 89%); opacity:1.0;                     line-height:1.75\"><font color=\"black\"> stagey                    </font></mark><mark style=\"background-color: hsl(0, 75%, 98%); opacity:1.0;                     line-height:1.75\"><font color=\"black\">                     </font></mark><mark style=\"background-color: hsl(120, 75%, 97%); opacity:1.0;                     line-height:1.75\"><font color=\"black\"> #/s                    </font></mark></td><tr></table>"
      ],
      "text/plain": [
       "<IPython.core.display.HTML object>"
      ]
     },
     "metadata": {},
     "output_type": "display_data"
    },
    {
     "name": "stdout",
     "output_type": "stream",
     "text": [
      "<IPython.core.display.HTML object>\n",
      "Raw review: replete with stereotypical familial quandaries \n",
      "GT target: 0\n",
      "word attr tensor([ 0.8268, -0.0283, -0.1832,  0.3729, -0.0120,  0.3635,  0.0637,  0.0127,\n",
      "        -0.0735,  0.0142, -0.0285], dtype=torch.float64,\n",
      "       grad_fn=<AsStridedBackward0>)\n",
      "conti attr [tensor(0.8268, dtype=torch.float64, grad_fn=<UnbindBackward0>), tensor(-0.2115, dtype=torch.float64, grad_fn=<AddBackward0>), tensor(0.3729, dtype=torch.float64, grad_fn=<UnbindBackward0>), tensor(-0.0120, dtype=torch.float64, grad_fn=<UnbindBackward0>), tensor(0.3635, dtype=torch.float64, grad_fn=<UnbindBackward0>), tensor(0.0029, dtype=torch.float64, grad_fn=<AddBackward0>), tensor(0.0142, dtype=torch.float64, grad_fn=<UnbindBackward0>), tensor(-0.0285, dtype=torch.float64, grad_fn=<UnbindBackward0>)]\n",
      "detokenized ['<s>', 're', 'plete', 'with', 'stereotypical', 'familial', 'qu', 'and', 'aries', '', '</s>']\n",
      "len conti_raw 8\n",
      "conti_raw ['<s>', 'replete', 'with', 'stereotypical', 'familial', 'quandaries', '', '</s>']\n"
     ]
    },
    {
     "data": {
      "text/html": [
       "<table width: 100%><div style=\"border-top: 1px solid; margin-top: 5px;             padding-top: 5px; display: inline-block\"><b>Legend: </b><span style=\"display: inline-block; width: 10px; height: 10px;                 border: 1px solid; background-color:                 hsl(0, 75%, 60%)\"></span> Negative  <span style=\"display: inline-block; width: 10px; height: 10px;                 border: 1px solid; background-color:                 hsl(0, 75%, 100%)\"></span> Neutral  <span style=\"display: inline-block; width: 10px; height: 10px;                 border: 1px solid; background-color:                 hsl(120, 75%, 50%)\"></span> Positive  </div><tr><th>True Label</th><th>Predicted Label</th><th>Attribution Label</th><th>Attribution Score</th><th>Word Importance</th><tr><td><text style=\"padding-right:2em\"><b>Neg</b></text></td><td><text style=\"padding-right:2em\"><b>Neg (0.00)</b></text></td><td><text style=\"padding-right:2em\"><b>Pos</b></text></td><td><text style=\"padding-right:2em\"><b>1.33</b></text></td><td><mark style=\"background-color: hsl(120, 75%, 59%); opacity:1.0;                     line-height:1.75\"><font color=\"black\"> #s                    </font></mark><mark style=\"background-color: hsl(0, 75%, 92%); opacity:1.0;                     line-height:1.75\"><font color=\"black\"> replete                    </font></mark><mark style=\"background-color: hsl(120, 75%, 82%); opacity:1.0;                     line-height:1.75\"><font color=\"black\"> with                    </font></mark><mark style=\"background-color: hsl(0, 75%, 100%); opacity:1.0;                     line-height:1.75\"><font color=\"black\"> stereotypical                    </font></mark><mark style=\"background-color: hsl(120, 75%, 82%); opacity:1.0;                     line-height:1.75\"><font color=\"black\"> familial                    </font></mark><mark style=\"background-color: hsl(120, 75%, 100%); opacity:1.0;                     line-height:1.75\"><font color=\"black\"> quandaries                    </font></mark><mark style=\"background-color: hsl(120, 75%, 100%); opacity:1.0;                     line-height:1.75\"><font color=\"black\">                     </font></mark><mark style=\"background-color: hsl(0, 75%, 99%); opacity:1.0;                     line-height:1.75\"><font color=\"black\"> #/s                    </font></mark></td><tr></table>"
      ],
      "text/plain": [
       "<IPython.core.display.HTML object>"
      ]
     },
     "metadata": {},
     "output_type": "display_data"
    },
    {
     "name": "stdout",
     "output_type": "stream",
     "text": [
      "<IPython.core.display.HTML object>\n",
      "Raw review: quirky comedy \n",
      "GT target: 1\n",
      "word attr tensor([-0.2385,  0.2682, -0.1704,  0.1827,  0.8690, -0.2317,  0.0024],\n",
      "       dtype=torch.float64, grad_fn=<AsStridedBackward0>)\n",
      "conti attr [tensor(-0.2385, dtype=torch.float64, grad_fn=<UnbindBackward0>), tensor(0.2805, dtype=torch.float64, grad_fn=<AddBackward0>), tensor(0.8690, dtype=torch.float64, grad_fn=<UnbindBackward0>), tensor(-0.2317, dtype=torch.float64, grad_fn=<UnbindBackward0>), tensor(0.0024, dtype=torch.float64, grad_fn=<UnbindBackward0>)]\n",
      "detokenized ['<s>', 'qu', 'ir', 'ky', 'comedy', '', '</s>']\n",
      "len conti_raw 5\n",
      "conti_raw ['<s>', 'quirky', 'comedy', '', '</s>']\n"
     ]
    },
    {
     "data": {
      "text/html": [
       "<table width: 100%><div style=\"border-top: 1px solid; margin-top: 5px;             padding-top: 5px; display: inline-block\"><b>Legend: </b><span style=\"display: inline-block; width: 10px; height: 10px;                 border: 1px solid; background-color:                 hsl(0, 75%, 60%)\"></span> Negative  <span style=\"display: inline-block; width: 10px; height: 10px;                 border: 1px solid; background-color:                 hsl(0, 75%, 100%)\"></span> Neutral  <span style=\"display: inline-block; width: 10px; height: 10px;                 border: 1px solid; background-color:                 hsl(120, 75%, 50%)\"></span> Positive  </div><tr><th>True Label</th><th>Predicted Label</th><th>Attribution Label</th><th>Attribution Score</th><th>Word Importance</th><tr><td><text style=\"padding-right:2em\"><b>Pos</b></text></td><td><text style=\"padding-right:2em\"><b>Pos (0.98)</b></text></td><td><text style=\"padding-right:2em\"><b>Pos</b></text></td><td><text style=\"padding-right:2em\"><b>0.68</b></text></td><td><mark style=\"background-color: hsl(0, 75%, 91%); opacity:1.0;                     line-height:1.75\"><font color=\"black\"> #s                    </font></mark><mark style=\"background-color: hsl(120, 75%, 86%); opacity:1.0;                     line-height:1.75\"><font color=\"black\"> quirky                    </font></mark><mark style=\"background-color: hsl(120, 75%, 57%); opacity:1.0;                     line-height:1.75\"><font color=\"black\"> comedy                    </font></mark><mark style=\"background-color: hsl(0, 75%, 91%); opacity:1.0;                     line-height:1.75\"><font color=\"black\">                     </font></mark><mark style=\"background-color: hsl(120, 75%, 100%); opacity:1.0;                     line-height:1.75\"><font color=\"black\"> #/s                    </font></mark></td><tr></table>"
      ],
      "text/plain": [
       "<IPython.core.display.HTML object>"
      ]
     },
     "metadata": {},
     "output_type": "display_data"
    },
    {
     "name": "stdout",
     "output_type": "stream",
     "text": [
      "<IPython.core.display.HTML object>\n",
      "Raw review: unrewarding \n",
      "GT target: 0\n",
      "word attr tensor([-0.9529, -0.0575,  0.1914, -0.2029,  0.1037,  0.0090,  0.0056],\n",
      "       dtype=torch.float64, grad_fn=<AsStridedBackward0>)\n",
      "conti attr [tensor(-0.9529, dtype=torch.float64, grad_fn=<UnbindBackward0>), tensor(0.0346, dtype=torch.float64, grad_fn=<AddBackward0>), tensor(0.0090, dtype=torch.float64, grad_fn=<UnbindBackward0>), tensor(0.0056, dtype=torch.float64, grad_fn=<UnbindBackward0>)]\n",
      "detokenized ['<s>', 'un', 're', 'ward', 'ing', '', '</s>']\n",
      "len conti_raw 4\n",
      "conti_raw ['<s>', 'unrewarding', '', '</s>']\n"
     ]
    },
    {
     "data": {
      "text/html": [
       "<table width: 100%><div style=\"border-top: 1px solid; margin-top: 5px;             padding-top: 5px; display: inline-block\"><b>Legend: </b><span style=\"display: inline-block; width: 10px; height: 10px;                 border: 1px solid; background-color:                 hsl(0, 75%, 60%)\"></span> Negative  <span style=\"display: inline-block; width: 10px; height: 10px;                 border: 1px solid; background-color:                 hsl(0, 75%, 100%)\"></span> Neutral  <span style=\"display: inline-block; width: 10px; height: 10px;                 border: 1px solid; background-color:                 hsl(120, 75%, 50%)\"></span> Positive  </div><tr><th>True Label</th><th>Predicted Label</th><th>Attribution Label</th><th>Attribution Score</th><th>Word Importance</th><tr><td><text style=\"padding-right:2em\"><b>Neg</b></text></td><td><text style=\"padding-right:2em\"><b>Neg (0.00)</b></text></td><td><text style=\"padding-right:2em\"><b>Neg</b></text></td><td><text style=\"padding-right:2em\"><b>-0.90</b></text></td><td><mark style=\"background-color: hsl(0, 75%, 62%); opacity:1.0;                     line-height:1.75\"><font color=\"black\"> #s                    </font></mark><mark style=\"background-color: hsl(120, 75%, 99%); opacity:1.0;                     line-height:1.75\"><font color=\"black\"> unrewarding                    </font></mark><mark style=\"background-color: hsl(120, 75%, 100%); opacity:1.0;                     line-height:1.75\"><font color=\"black\">                     </font></mark><mark style=\"background-color: hsl(120, 75%, 100%); opacity:1.0;                     line-height:1.75\"><font color=\"black\"> #/s                    </font></mark></td><tr></table>"
      ],
      "text/plain": [
       "<IPython.core.display.HTML object>"
      ]
     },
     "metadata": {},
     "output_type": "display_data"
    },
    {
     "name": "stdout",
     "output_type": "stream",
     "text": [
      "<IPython.core.display.HTML object>\n",
      "Raw review: old-hat \n",
      "GT target: 0\n",
      "word attr tensor([-0.8734, -0.0159,  0.4044, -0.2659, -0.0202, -0.0476],\n",
      "       dtype=torch.float64, grad_fn=<AsStridedBackward0>)\n",
      "conti attr [tensor(-0.8734, dtype=torch.float64, grad_fn=<UnbindBackward0>), tensor(0.1226, dtype=torch.float64, grad_fn=<AddBackward0>), tensor(-0.0202, dtype=torch.float64, grad_fn=<UnbindBackward0>), tensor(-0.0476, dtype=torch.float64, grad_fn=<UnbindBackward0>)]\n",
      "detokenized ['<s>', 'old', '-', 'hat', '', '</s>']\n",
      "len conti_raw 4\n",
      "conti_raw ['<s>', 'old-hat', '', '</s>']\n"
     ]
    },
    {
     "data": {
      "text/html": [
       "<table width: 100%><div style=\"border-top: 1px solid; margin-top: 5px;             padding-top: 5px; display: inline-block\"><b>Legend: </b><span style=\"display: inline-block; width: 10px; height: 10px;                 border: 1px solid; background-color:                 hsl(0, 75%, 60%)\"></span> Negative  <span style=\"display: inline-block; width: 10px; height: 10px;                 border: 1px solid; background-color:                 hsl(0, 75%, 100%)\"></span> Neutral  <span style=\"display: inline-block; width: 10px; height: 10px;                 border: 1px solid; background-color:                 hsl(120, 75%, 50%)\"></span> Positive  </div><tr><th>True Label</th><th>Predicted Label</th><th>Attribution Label</th><th>Attribution Score</th><th>Word Importance</th><tr><td><text style=\"padding-right:2em\"><b>Neg</b></text></td><td><text style=\"padding-right:2em\"><b>Neg (0.00)</b></text></td><td><text style=\"padding-right:2em\"><b>Neg</b></text></td><td><text style=\"padding-right:2em\"><b>-0.82</b></text></td><td><mark style=\"background-color: hsl(0, 75%, 66%); opacity:1.0;                     line-height:1.75\"><font color=\"black\"> #s                    </font></mark><mark style=\"background-color: hsl(120, 75%, 94%); opacity:1.0;                     line-height:1.75\"><font color=\"black\"> old-hat                    </font></mark><mark style=\"background-color: hsl(0, 75%, 100%); opacity:1.0;                     line-height:1.75\"><font color=\"black\">                     </font></mark><mark style=\"background-color: hsl(0, 75%, 99%); opacity:1.0;                     line-height:1.75\"><font color=\"black\"> #/s                    </font></mark></td><tr></table>"
      ],
      "text/plain": [
       "<IPython.core.display.HTML object>"
      ]
     },
     "metadata": {},
     "output_type": "display_data"
    },
    {
     "name": "stdout",
     "output_type": "stream",
     "text": [
      "<IPython.core.display.HTML object>\n"
     ]
    }
   ],
   "source": [
    "for i, (datum_raw, target) in enumerate(zip(sst2_data_raw, targets), start=1):\n",
    "    print(f'Raw review: {datum_raw}')\n",
    "    print(f'GT target: {target}')\n",
    "    visual_record=generate_record(datum_raw, target)\n",
    "    print(visualization.visualize_text([visual_record]))\n",
    "   "
   ]
  },
  {
   "cell_type": "code",
   "execution_count": 9,
   "id": "f6344a01",
   "metadata": {},
   "outputs": [
    {
     "data": {
      "text/plain": [
       "{'indices': [27798,\n",
       "  28244,\n",
       "  48083,\n",
       "  8795,\n",
       "  91,\n",
       "  20682,\n",
       "  59890,\n",
       "  41763,\n",
       "  19795,\n",
       "  9957,\n",
       "  28334,\n",
       "  55664,\n",
       "  16438,\n",
       "  18031,\n",
       "  9297,\n",
       "  66913,\n",
       "  9289,\n",
       "  6789,\n",
       "  25294,\n",
       "  33294,\n",
       "  29699,\n",
       "  41960,\n",
       "  6554,\n",
       "  8772,\n",
       "  17921,\n",
       "  8027,\n",
       "  49091,\n",
       "  54186,\n",
       "  15080,\n",
       "  22382,\n",
       "  23856,\n",
       "  9464,\n",
       "  23831,\n",
       "  59434,\n",
       "  17862,\n",
       "  24584,\n",
       "  26216,\n",
       "  63094,\n",
       "  55787,\n",
       "  3993,\n",
       "  25463,\n",
       "  17540,\n",
       "  51128,\n",
       "  46224,\n",
       "  32656,\n",
       "  30105,\n",
       "  28646,\n",
       "  17011,\n",
       "  7812,\n",
       "  48236],\n",
       " 'raw_data': ['its oscar nomination ',\n",
       "  'shenanigans and slapstick ',\n",
       "  'an unsettling sight , ',\n",
       "  'the climactic hourlong cricket match ',\n",
       "  'alternating between facetious comic parody and pulp melodrama , this smart-aleck movie ... tosses around some intriguing questions about the difference between human and android life ',\n",
       "  'to be a part of that elusive adult world ',\n",
       "  'emotional power ',\n",
       "  'reminds you of why animation is such a perfect medium for children , because of the way it allows the mind to enter and accept another world ',\n",
       "  'unparalleled proportions , writer-director parker ',\n",
       "  'this surprisingly decent flick ',\n",
       "  \"about the best thing you could say about narc is that it 's a rock-solid little genre picture . \",\n",
       "  'the very best ',\n",
       "  'been modeled on the worst revenge-of-the-nerds clichés the filmmakers could dredge up ',\n",
       "  'tell you ',\n",
       "  'utterly absorbing ',\n",
       "  'restate ',\n",
       "  'bears about as much resemblance to the experiences of most battered women as spider-man ',\n",
       "  'expressively performed ',\n",
       "  'the acting is amateurish , the cinematography is atrocious ',\n",
       "  'solidly constructed ',\n",
       "  \"are undermined by the movie 's presentation , which is way too stagy \",\n",
       "  'a great film ',\n",
       "  'charm ',\n",
       "  'this new jangle of noise , mayhem and stupidity ',\n",
       "  'sustains it ',\n",
       "  'is so deadly dull that watching the proverbial paint dry would be a welcome improvement . ',\n",
       "  'to accomplish ',\n",
       "  \"does n't work . \",\n",
       "  'given it a one-star rating ',\n",
       "  \"ice cube is n't quite out of ripe screwball ideas , but friday after next spreads them pretty thin \",\n",
       "  'been trying to forget ',\n",
       "  'big stars and ',\n",
       "  'of cheesy dialogue ',\n",
       "  \"the château is never quite able to overcome the cultural moat surrounding its ludicrous and contrived plot . ' \",\n",
       "  'principled ',\n",
       "  'end it all by stuffing himself into an electric pencil sharpener ',\n",
       "  'funniest idea ',\n",
       "  'silly and tedious ',\n",
       "  'two surefire , beloved genres ',\n",
       "  'most charmless ',\n",
       "  'offers us the sense that on some elemental level , lilia deeply wants to break free of her old life . ',\n",
       "  'might be best forgotten ',\n",
       "  \"a substantial arc of change that does n't produce any real transformation \",\n",
       "  'unadorned ',\n",
       "  \"this is the kind of movie that you only need to watch for about thirty seconds before you say to yourself , ` ah , yes , here we have a bad , bad , bad movie . ' \",\n",
       "  'feel sanitised and stagey ',\n",
       "  'replete with stereotypical familial quandaries ',\n",
       "  'quirky comedy ',\n",
       "  'unrewarding ',\n",
       "  'old-hat '],\n",
       " 'targets': [1,\n",
       "  1,\n",
       "  0,\n",
       "  1,\n",
       "  1,\n",
       "  1,\n",
       "  1,\n",
       "  1,\n",
       "  1,\n",
       "  1,\n",
       "  1,\n",
       "  1,\n",
       "  0,\n",
       "  1,\n",
       "  1,\n",
       "  0,\n",
       "  0,\n",
       "  1,\n",
       "  0,\n",
       "  1,\n",
       "  0,\n",
       "  1,\n",
       "  1,\n",
       "  0,\n",
       "  1,\n",
       "  0,\n",
       "  1,\n",
       "  0,\n",
       "  0,\n",
       "  0,\n",
       "  0,\n",
       "  1,\n",
       "  0,\n",
       "  0,\n",
       "  1,\n",
       "  0,\n",
       "  1,\n",
       "  0,\n",
       "  1,\n",
       "  0,\n",
       "  1,\n",
       "  0,\n",
       "  0,\n",
       "  0,\n",
       "  0,\n",
       "  0,\n",
       "  0,\n",
       "  1,\n",
       "  0,\n",
       "  0],\n",
       " 'model_out_list': [0.995320737361908,\n",
       "  0.9981416463851929,\n",
       "  0.005029475316405296,\n",
       "  0.9984524250030518,\n",
       "  0.9986995458602905,\n",
       "  0.9969199895858765,\n",
       "  0.9981027245521545,\n",
       "  0.9988178610801697,\n",
       "  0.9962330460548401,\n",
       "  0.9986741542816162,\n",
       "  0.998805046081543,\n",
       "  0.9979293346405029,\n",
       "  0.0005059812683612108,\n",
       "  0.9343322515487671,\n",
       "  0.9985029697418213,\n",
       "  0.04905090853571892,\n",
       "  0.0005413290928117931,\n",
       "  0.9973813891410828,\n",
       "  0.0005215632263571024,\n",
       "  0.9988528490066528,\n",
       "  0.0005033428315073252,\n",
       "  0.9987362027168274,\n",
       "  0.9976087808609009,\n",
       "  0.001143843517638743,\n",
       "  0.9985160231590271,\n",
       "  0.0005450641037896276,\n",
       "  0.9904943704605103,\n",
       "  0.0005098296096548438,\n",
       "  0.0005034934147261083,\n",
       "  0.000628155074082315,\n",
       "  0.005729988217353821,\n",
       "  0.9980424642562866,\n",
       "  0.0006895964033901691,\n",
       "  0.0005053564091213048,\n",
       "  0.998275876045227,\n",
       "  0.0005752602592110634,\n",
       "  0.989409327507019,\n",
       "  0.0005222382606007159,\n",
       "  0.9986666440963745,\n",
       "  0.0005778066697530448,\n",
       "  0.9984531402587891,\n",
       "  0.004469992592930794,\n",
       "  0.0005454060155898333,\n",
       "  0.9974514842033386,\n",
       "  0.0004941548686474562,\n",
       "  0.0035783315543085337,\n",
       "  0.0008468214073218405,\n",
       "  0.9829257726669312,\n",
       "  0.0005415334017015994,\n",
       "  0.0019286152673885226],\n",
       " 'raw_attr_list': [tensor([[[-3.1172e-04,  7.1049e-05, -1.3700e-04,  ...,  5.0922e-05,\n",
       "            -4.2890e-04,  2.1298e-05],\n",
       "           [-4.7559e-06, -1.2617e-03, -1.0506e-03,  ...,  2.6618e-04,\n",
       "            -3.5621e-04, -5.4843e-05],\n",
       "           [ 1.3694e-04, -2.4144e-05, -1.0294e-05,  ..., -1.9671e-04,\n",
       "            -3.9883e-05, -1.1549e-04],\n",
       "           ...,\n",
       "           [-1.0815e-04,  1.9149e-04,  3.0107e-05,  ...,  2.2293e-04,\n",
       "            -2.6333e-04, -4.7792e-05],\n",
       "           [-5.5419e-06, -1.4782e-04,  4.4284e-04,  ...,  5.0196e-05,\n",
       "             4.1654e-04,  8.9617e-04],\n",
       "           [-3.8041e-05,  1.5503e-04,  9.1104e-05,  ...,  1.2988e-04,\n",
       "             1.3494e-04, -7.7131e-05]]], dtype=torch.float64,\n",
       "         grad_fn=<MulBackward0>),\n",
       "  tensor([[[-0.0145, -0.0025, -0.0021,  ...,  0.0298, -0.0186,  0.0143],\n",
       "           [ 0.0005, -0.0001, -0.0106,  ...,  0.0106, -0.0215, -0.0078],\n",
       "           [-0.0007, -0.0069,  0.0084,  ..., -0.0061,  0.0247,  0.0059],\n",
       "           ...,\n",
       "           [-0.0030, -0.0071,  0.0226,  ...,  0.0140,  0.0498,  0.0140],\n",
       "           [ 0.0015, -0.0274, -0.0258,  ..., -0.0229, -0.0262, -0.0100],\n",
       "           [-0.0005, -0.0004, -0.0487,  ..., -0.0477, -0.0411, -0.0047]]],\n",
       "         dtype=torch.float64, grad_fn=<MulBackward0>),\n",
       "  tensor([[[-1.5195e-04, -8.0935e-05,  4.2333e-05,  ...,  9.6229e-05,\n",
       "            -2.6113e-05, -2.4200e-05],\n",
       "           [-6.2663e-05, -5.8299e-05, -4.7589e-05,  ..., -1.3110e-04,\n",
       "             3.7287e-05,  1.2051e-04],\n",
       "           [-2.2874e-04, -6.5910e-05,  1.5266e-04,  ...,  6.7487e-04,\n",
       "             1.0400e-03,  1.6586e-04],\n",
       "           ...,\n",
       "           [-1.0398e-06,  9.5998e-05, -6.1158e-06,  ..., -9.2893e-05,\n",
       "             4.6002e-05, -1.6241e-04],\n",
       "           [ 5.7924e-05,  8.5643e-05,  4.5030e-05,  ..., -1.9832e-04,\n",
       "            -5.9464e-05, -3.4168e-04],\n",
       "           [-1.4192e-04,  1.6931e-04, -1.5367e-04,  ..., -3.6557e-05,\n",
       "            -3.8800e-04, -2.6368e-05]]], dtype=torch.float64,\n",
       "         grad_fn=<MulBackward0>),\n",
       "  tensor([[[-0.0149,  0.0006, -0.0051,  ...,  0.0057, -0.0002,  0.0057],\n",
       "           [ 0.0038, -0.0059, -0.0203,  ...,  0.0063,  0.0007, -0.0058],\n",
       "           [-0.0162, -0.0363,  0.0220,  ..., -0.0804, -0.0016,  0.0439],\n",
       "           ...,\n",
       "           [-0.0012,  0.0051, -0.0042,  ..., -0.0031,  0.0129, -0.0064],\n",
       "           [-0.0008, -0.0177, -0.0215,  ...,  0.0062, -0.0134,  0.0113],\n",
       "           [-0.0001,  0.0019,  0.0091,  ..., -0.0017,  0.0017, -0.0014]]],\n",
       "         dtype=torch.float64, grad_fn=<MulBackward0>),\n",
       "  tensor([[[-3.1868e-05, -2.2963e-06, -1.4314e-05,  ...,  3.1779e-05,\n",
       "            -1.2086e-05,  4.5443e-06],\n",
       "           [ 4.8232e-06, -5.9273e-06, -2.1227e-05,  ...,  1.0110e-05,\n",
       "            -2.3312e-06,  4.8985e-06],\n",
       "           [-1.1851e-05,  4.7284e-07,  2.8672e-06,  ..., -1.5612e-05,\n",
       "            -8.5811e-07,  1.1531e-05],\n",
       "           ...,\n",
       "           [ 9.6049e-06, -1.0551e-06,  6.3607e-07,  ...,  1.4960e-06,\n",
       "            -1.3386e-06, -1.9303e-05],\n",
       "           [ 4.8791e-06,  1.1394e-05,  6.2409e-07,  ...,  6.9948e-06,\n",
       "             3.4235e-06, -3.0283e-05],\n",
       "           [ 1.9058e-06,  2.7720e-06,  5.3535e-05,  ...,  1.4761e-05,\n",
       "             1.2402e-05, -7.1948e-06]]], dtype=torch.float64,\n",
       "         grad_fn=<MulBackward0>),\n",
       "  tensor([[[-4.2517e-05,  5.1243e-06, -2.0175e-05,  ...,  1.0501e-04,\n",
       "            -5.9764e-05, -1.5229e-05],\n",
       "           [-8.6141e-06, -2.8364e-05, -8.8178e-06,  ...,  3.5180e-05,\n",
       "            -1.7526e-05, -3.1204e-05],\n",
       "           [ 2.4106e-05,  6.7134e-05, -3.9192e-05,  ...,  1.0970e-05,\n",
       "             7.0930e-05,  3.0606e-06],\n",
       "           ...,\n",
       "           [ 1.0526e-04, -5.0552e-06, -2.8786e-05,  ...,  1.7315e-06,\n",
       "            -8.4204e-06,  9.3322e-06],\n",
       "           [ 2.9165e-05,  3.5010e-05, -1.2569e-04,  ...,  1.4788e-05,\n",
       "            -3.0151e-05,  4.2201e-05],\n",
       "           [-7.6395e-06,  2.7859e-05,  6.1370e-05,  ..., -2.3711e-05,\n",
       "             8.7800e-06, -1.4383e-05]]], dtype=torch.float64,\n",
       "         grad_fn=<MulBackward0>),\n",
       "  tensor([[[-6.6641e-03, -5.7147e-04, -5.0165e-03,  ...,  6.2070e-03,\n",
       "            -3.4499e-03,  2.2218e-03],\n",
       "           [ 1.3648e-03,  7.9870e-04, -1.8864e-03,  ..., -2.6782e-03,\n",
       "            -2.2163e-03, -1.1061e-02],\n",
       "           [ 4.7594e-04, -4.6282e-04,  8.3548e-04,  ..., -3.2793e-03,\n",
       "            -2.9083e-03,  6.4918e-03],\n",
       "           [ 8.5766e-03,  2.9203e-03, -2.5744e-05,  ...,  1.9542e-05,\n",
       "             8.8272e-05, -3.7722e-03],\n",
       "           [-1.1337e-04, -1.7928e-02,  3.7754e-03,  ...,  7.4088e-03,\n",
       "             1.1789e-02,  2.4678e-02],\n",
       "           [-2.6886e-03,  2.8989e-03,  3.8752e-03,  ..., -6.9589e-04,\n",
       "             7.2102e-03,  8.4679e-04]]], dtype=torch.float64,\n",
       "         grad_fn=<MulBackward0>),\n",
       "  tensor([[[-2.1031e-04,  1.0662e-05, -4.2001e-05,  ...,  1.6082e-05,\n",
       "            -2.3231e-05, -2.7038e-05],\n",
       "           [-1.4211e-06, -2.4758e-07, -4.2647e-05,  ..., -2.3542e-05,\n",
       "             7.8563e-07,  1.7379e-05],\n",
       "           [-7.5337e-06,  1.3953e-05,  2.8288e-07,  ...,  3.8192e-05,\n",
       "            -2.7890e-05,  6.2786e-07],\n",
       "           ...,\n",
       "           [ 8.4948e-06,  7.2781e-09, -6.1130e-06,  ...,  4.8442e-06,\n",
       "            -7.2507e-06, -3.6543e-06],\n",
       "           [ 5.9049e-06,  4.7916e-06, -1.7436e-05,  ...,  2.9673e-05,\n",
       "             4.6864e-06, -2.3711e-05],\n",
       "           [-1.6024e-06,  2.6446e-06, -1.5236e-05,  ..., -3.3672e-07,\n",
       "            -2.3303e-05,  2.0814e-06]]], dtype=torch.float64,\n",
       "         grad_fn=<MulBackward0>),\n",
       "  tensor([[[ 2.1606e-05,  1.3837e-05, -7.6674e-06,  ..., -9.5819e-07,\n",
       "             7.1704e-06,  3.4194e-05],\n",
       "           [-6.7264e-07,  3.5520e-06,  5.0168e-06,  ..., -1.0171e-05,\n",
       "             1.3348e-05,  1.0426e-05],\n",
       "           [ 5.6104e-06, -3.1855e-06, -2.2324e-06,  ...,  1.2252e-04,\n",
       "            -8.5137e-05,  1.6921e-05],\n",
       "           ...,\n",
       "           [-1.8599e-05,  4.7050e-06,  1.2346e-05,  ...,  1.1626e-05,\n",
       "             2.5572e-06,  8.3775e-07],\n",
       "           [ 1.6056e-05,  7.2003e-05, -1.1115e-05,  ...,  3.2679e-05,\n",
       "             7.5492e-05,  1.6719e-06],\n",
       "           [-2.1859e-06, -7.1258e-06,  4.5182e-05,  ..., -3.6696e-06,\n",
       "             1.0953e-05,  7.3960e-06]]], dtype=torch.float64,\n",
       "         grad_fn=<MulBackward0>),\n",
       "  tensor([[[-8.8595e-05, -1.0277e-05, -3.8467e-05,  ...,  2.2921e-05,\n",
       "             4.4563e-05, -1.1503e-05],\n",
       "           [-7.9128e-05, -6.0571e-05, -2.2401e-07,  ..., -2.2113e-05,\n",
       "             6.2247e-05, -2.8804e-05],\n",
       "           [-6.2254e-04,  5.5409e-04,  1.7524e-05,  ...,  4.0970e-04,\n",
       "             5.5641e-06, -5.6656e-05],\n",
       "           ...,\n",
       "           [-1.1334e-06,  1.9984e-05,  2.6059e-05,  ...,  1.3172e-04,\n",
       "            -3.6242e-04, -2.3308e-05],\n",
       "           [-4.5013e-05, -1.7483e-04, -4.8734e-04,  ..., -5.8845e-05,\n",
       "            -2.5058e-04, -6.9219e-04],\n",
       "           [-6.8790e-05,  6.0524e-05,  5.7419e-05,  ...,  7.4679e-05,\n",
       "             3.4512e-05,  2.0206e-05]]], dtype=torch.float64,\n",
       "         grad_fn=<MulBackward0>),\n",
       "  tensor([[[-1.3274e-04,  5.4371e-06, -2.6608e-05,  ...,  7.1374e-05,\n",
       "             7.4974e-05, -1.0065e-06],\n",
       "           [-3.9961e-05, -6.8004e-05,  2.8623e-06,  ...,  1.1162e-06,\n",
       "             2.6217e-06, -5.3954e-06],\n",
       "           [-4.3934e-05, -4.3497e-05,  7.0444e-05,  ...,  4.3047e-06,\n",
       "            -6.9803e-06,  9.1483e-06],\n",
       "           ...,\n",
       "           [-3.5724e-05,  6.6859e-05,  2.8426e-06,  ...,  1.6700e-07,\n",
       "             1.7447e-06,  7.2867e-06],\n",
       "           [-3.6883e-06,  2.9083e-05,  1.4429e-05,  ...,  2.2274e-06,\n",
       "             2.1762e-05,  3.3227e-05],\n",
       "           [-2.3334e-05, -2.7827e-06,  3.7032e-05,  ...,  5.1965e-06,\n",
       "             5.3670e-06, -1.1600e-05]]], dtype=torch.float64,\n",
       "         grad_fn=<MulBackward0>),\n",
       "  tensor([[[-6.0444e-05, -2.7304e-05,  3.7902e-06,  ...,  3.6020e-05,\n",
       "             5.5800e-05,  3.1273e-06],\n",
       "           [ 2.9316e-05, -3.0805e-05, -1.4869e-04,  ..., -1.4161e-05,\n",
       "            -3.2364e-05,  1.1792e-04],\n",
       "           [-1.3331e-04,  5.5931e-05, -4.3906e-04,  ...,  7.7009e-05,\n",
       "             3.1052e-04,  1.1157e-05],\n",
       "           [-5.4564e-05, -9.0955e-06, -7.0355e-05,  ...,  2.8528e-05,\n",
       "            -4.8302e-04,  6.4461e-06],\n",
       "           [ 1.7971e-06,  2.6234e-04, -3.6315e-05,  ..., -1.3091e-05,\n",
       "             9.9870e-06,  5.0107e-06],\n",
       "           [-4.1579e-05,  4.4719e-05,  6.9962e-05,  ...,  4.5575e-05,\n",
       "             1.0346e-04, -1.1424e-05]]], dtype=torch.float64,\n",
       "         grad_fn=<MulBackward0>),\n",
       "  tensor([[[-3.5510e-04,  1.3272e-04, -7.6622e-05,  ...,  1.7890e-05,\n",
       "            -7.9452e-05,  1.1805e-04],\n",
       "           [ 3.6548e-05,  2.2438e-06,  1.2040e-04,  ..., -3.1077e-05,\n",
       "            -9.1311e-05, -5.3104e-05],\n",
       "           [ 5.8105e-05,  4.3344e-06,  4.5981e-05,  ..., -3.1353e-06,\n",
       "            -1.4823e-06, -1.4110e-04],\n",
       "           ...,\n",
       "           [-3.7429e-04,  1.5924e-04, -4.9137e-06,  ...,  9.7547e-06,\n",
       "            -2.9690e-05,  2.1195e-04],\n",
       "           [ 2.7901e-06, -7.9601e-05,  8.5975e-05,  ..., -2.4305e-05,\n",
       "             7.7256e-05,  2.0451e-04],\n",
       "           [-5.6817e-05,  4.3259e-06,  2.3968e-05,  ..., -1.2240e-05,\n",
       "             1.4105e-05,  6.2365e-06]]], dtype=torch.float64,\n",
       "         grad_fn=<MulBackward0>),\n",
       "  tensor([[[-2.7851e-02,  3.8763e-03,  4.2171e-03,  ...,  1.4923e-02,\n",
       "            -1.3757e-02, -1.0858e-02],\n",
       "           [-9.3611e-02, -2.3700e-03, -2.1925e-02,  ...,  3.6053e-03,\n",
       "             1.1202e-02,  1.1151e-03],\n",
       "           [-4.9689e-02, -1.8339e-02, -2.3310e-03,  ..., -2.3434e-02,\n",
       "            -2.6406e-02,  3.2573e-02],\n",
       "           [ 1.3064e-02,  2.9448e-01, -1.3166e-01,  ..., -5.5824e-02,\n",
       "            -7.2087e-03, -3.6180e-02],\n",
       "           [-3.4036e-02, -4.0805e-03,  5.5808e-03,  ..., -1.0380e-02,\n",
       "            -5.7148e-05,  9.8580e-04]]], dtype=torch.float64,\n",
       "         grad_fn=<MulBackward0>),\n",
       "  tensor([[[-3.5270e-04, -7.2149e-04, -1.2026e-05,  ...,  2.1717e-03,\n",
       "             5.9107e-03,  8.8164e-04],\n",
       "           [ 1.4086e-03,  6.9119e-04,  2.4860e-03,  ...,  9.2176e-03,\n",
       "             8.8900e-04, -5.1408e-03],\n",
       "           [-3.2013e-04,  7.5835e-03, -1.1050e-03,  ...,  1.2903e-03,\n",
       "            -2.3322e-03, -3.3439e-03],\n",
       "           [-2.0702e-03, -4.5226e-03,  5.0193e-03,  ...,  6.4878e-05,\n",
       "             1.4928e-03,  6.0107e-04],\n",
       "           [-9.9873e-05, -1.8160e-03, -6.5630e-04,  ..., -1.9378e-03,\n",
       "             5.3871e-03,  8.3308e-03],\n",
       "           [-2.7101e-03,  6.5117e-04,  3.5434e-03,  ...,  2.0258e-03,\n",
       "             1.4935e-03, -3.3246e-05]]], dtype=torch.float64,\n",
       "         grad_fn=<MulBackward0>),\n",
       "  tensor([[[-1.6051e-02, -3.0210e-03, -6.8606e-04,  ..., -3.5269e-04,\n",
       "            -1.3073e-02,  5.5485e-03],\n",
       "           [-1.7026e-01, -1.0828e-02, -2.4200e-04,  ...,  3.5477e-03,\n",
       "             1.5754e-04,  1.8336e-02],\n",
       "           [-1.8972e-02, -5.5513e-03,  1.8439e-02,  ..., -7.3841e-02,\n",
       "             1.8175e-02,  2.1031e-02],\n",
       "           [-8.1312e-04,  3.4404e-03,  2.2094e-02,  ..., -7.2361e-03,\n",
       "             2.0433e-02,  1.9042e-02],\n",
       "           [-2.6455e-02,  8.4068e-04,  3.1690e-03,  ...,  3.8235e-03,\n",
       "             7.1914e-04, -1.3376e-03]]], dtype=torch.float64,\n",
       "         grad_fn=<MulBackward0>),\n",
       "  tensor([[[ 6.3797e-05,  2.2976e-05, -1.4961e-05,  ..., -5.9258e-05,\n",
       "            -1.1813e-05, -2.1157e-05],\n",
       "           [-6.0199e-05, -3.7395e-05, -5.1116e-05,  ...,  5.9073e-06,\n",
       "            -9.0743e-06,  3.0381e-05],\n",
       "           [ 2.1572e-06, -1.0139e-04, -1.6283e-04,  ..., -2.8727e-05,\n",
       "            -2.0572e-05,  7.5694e-05],\n",
       "           ...,\n",
       "           [ 7.1531e-05,  7.3626e-06,  2.5898e-05,  ..., -1.2148e-05,\n",
       "             1.1127e-05, -2.0102e-05],\n",
       "           [-3.3395e-06,  1.6676e-04,  1.8695e-04,  ..., -1.7805e-05,\n",
       "             2.1458e-04,  9.5988e-05],\n",
       "           [ 7.1145e-07, -2.6992e-07,  1.4212e-05,  ..., -1.6024e-05,\n",
       "            -8.1063e-07,  3.9443e-06]]], dtype=torch.float64,\n",
       "         grad_fn=<MulBackward0>),\n",
       "  tensor([[[-2.5207e-04,  4.2647e-05, -3.2828e-05,  ..., -9.9040e-05,\n",
       "            -4.5616e-05, -1.2508e-05],\n",
       "           [ 1.9811e-04,  6.8097e-04,  5.2579e-05,  ...,  1.8995e-05,\n",
       "             1.7816e-05,  6.2769e-06],\n",
       "           [-2.5811e-05, -6.7719e-05,  1.5277e-04,  ..., -1.9498e-05,\n",
       "            -8.5709e-06,  2.6430e-05],\n",
       "           [-8.7013e-04,  2.7433e-04, -1.7040e-04,  ...,  1.6417e-04,\n",
       "             1.8715e-04,  1.4558e-04],\n",
       "           [-6.1753e-06,  5.3039e-06,  2.1349e-04,  ..., -8.5480e-05,\n",
       "             3.7642e-04,  2.1206e-04],\n",
       "           [ 8.0234e-05, -4.1748e-05,  4.6028e-05,  ...,  9.9072e-06,\n",
       "            -2.5248e-04, -5.7227e-07]]], dtype=torch.float64,\n",
       "         grad_fn=<MulBackward0>),\n",
       "  tensor([[[-2.9292e-06, -1.9519e-05,  1.3945e-05,  ...,  1.5943e-04,\n",
       "             2.3005e-05, -2.2629e-05],\n",
       "           [-3.6705e-05, -6.2277e-05, -2.0639e-05,  ..., -4.4559e-06,\n",
       "            -4.1837e-05, -5.8998e-05],\n",
       "           [-6.7345e-07, -3.5417e-05,  2.3320e-05,  ..., -4.9988e-06,\n",
       "            -2.1627e-05, -6.0967e-05],\n",
       "           ...,\n",
       "           [ 9.9537e-06,  6.9587e-07,  8.2196e-05,  ..., -3.1036e-07,\n",
       "             6.5989e-05,  1.0345e-05],\n",
       "           [ 2.2154e-05,  2.0462e-04,  8.9712e-05,  ...,  9.8905e-05,\n",
       "            -8.2749e-05,  1.8120e-05],\n",
       "           [-1.7035e-05, -3.6520e-05,  4.3023e-05,  ..., -3.1224e-05,\n",
       "            -2.1464e-05, -3.6763e-06]]], dtype=torch.float64,\n",
       "         grad_fn=<MulBackward0>),\n",
       "  tensor([[[ 1.0517e-03,  2.4466e-04, -7.7399e-04,  ..., -8.8652e-04,\n",
       "            -2.2004e-03,  1.7548e-03],\n",
       "           [-1.2919e-05, -3.2082e-03, -1.6254e-02,  ..., -4.8818e-03,\n",
       "             4.7193e-03, -1.3315e-03],\n",
       "           [ 6.5585e-05, -1.6596e-02, -4.7239e-05,  ..., -2.9572e-03,\n",
       "             4.1473e-03, -3.9669e-03],\n",
       "           [-8.2347e-04, -2.6640e-02, -1.7173e-03,  ..., -2.1761e-03,\n",
       "            -6.4384e-04, -5.4792e-03],\n",
       "           [-7.2384e-05, -1.2639e-02,  1.8401e-03,  ...,  7.5106e-04,\n",
       "             1.8485e-03,  1.3135e-02],\n",
       "           [ 6.3066e-04, -7.2333e-04,  6.2250e-04,  ...,  7.4555e-05,\n",
       "             1.5333e-03,  6.6772e-04]]], dtype=torch.float64,\n",
       "         grad_fn=<MulBackward0>),\n",
       "  tensor([[[ 1.3497e-04, -3.2430e-05,  4.8056e-05,  ...,  1.0649e-04,\n",
       "             8.8324e-05, -2.8268e-05],\n",
       "           [ 6.1158e-06,  4.6252e-05,  1.6213e-08,  ...,  2.8424e-05,\n",
       "             2.1440e-06,  4.3127e-05],\n",
       "           [-1.7567e-04, -3.1120e-04, -3.3542e-04,  ..., -3.1606e-05,\n",
       "             4.7803e-04,  7.5958e-06],\n",
       "           ...,\n",
       "           [ 2.7895e-05,  4.6620e-06,  9.4303e-06,  ...,  2.2609e-06,\n",
       "             1.8030e-05,  1.4409e-05],\n",
       "           [-4.2827e-06, -7.2389e-05,  8.5079e-05,  ...,  3.0995e-06,\n",
       "            -3.1291e-06,  2.0208e-05],\n",
       "           [ 3.6677e-05, -1.4035e-06, -4.0684e-05,  ...,  2.6205e-05,\n",
       "            -1.0865e-06,  1.0069e-06]]], dtype=torch.float64,\n",
       "         grad_fn=<MulBackward0>),\n",
       "  tensor([[[-3.9910e-03, -8.4884e-04, -1.5302e-04,  ...,  3.2792e-03,\n",
       "             1.3651e-03,  3.1421e-04],\n",
       "           [ 2.1758e-03, -3.7155e-03,  6.2698e-03,  ..., -5.7269e-05,\n",
       "             6.7418e-03, -2.5999e-03],\n",
       "           [ 1.3728e-03, -1.7073e-03,  1.6988e-04,  ...,  1.9752e-04,\n",
       "            -4.8737e-04, -3.7793e-03],\n",
       "           [-7.3306e-03, -7.6886e-03, -6.3509e-04,  ..., -5.2822e-04,\n",
       "             8.3228e-04, -7.8114e-03],\n",
       "           [ 3.8795e-05, -7.4140e-04, -7.5668e-04,  ...,  3.1554e-03,\n",
       "            -1.3583e-04,  1.4196e-02],\n",
       "           [-4.1262e-03,  9.5868e-04,  2.4689e-03,  ..., -1.0030e-03,\n",
       "             2.6542e-03,  3.9384e-04]]], dtype=torch.float64,\n",
       "         grad_fn=<MulBackward0>),\n",
       "  tensor([[[-2.6791e-03, -5.2802e-04,  2.4499e-05,  ...,  3.0839e-03,\n",
       "             1.9456e-03,  3.7783e-05],\n",
       "           [ 8.7969e-05, -2.0442e-03,  6.7608e-04,  ..., -1.6924e-04,\n",
       "             2.2661e-03, -2.5437e-05],\n",
       "           [-2.9188e-03,  3.3201e-04, -2.9802e-03,  ..., -1.4317e-04,\n",
       "            -8.9322e-04, -2.4475e-03],\n",
       "           [-5.8676e-04,  1.9167e-03, -1.7664e-03,  ..., -1.1202e-03,\n",
       "             8.8860e-04,  8.4223e-03],\n",
       "           [-4.3920e-03,  2.1016e-05,  1.6138e-03,  ...,  3.8816e-05,\n",
       "             1.3639e-03, -2.3391e-04]]], dtype=torch.float64,\n",
       "         grad_fn=<MulBackward0>),\n",
       "  tensor([[[-4.9589e-06, -8.1439e-06, -7.1962e-06,  ...,  1.5819e-04,\n",
       "            -2.6229e-05,  6.2595e-05],\n",
       "           [-3.2121e-05, -7.4819e-05,  3.4391e-06,  ...,  2.2280e-05,\n",
       "            -3.2115e-05, -8.7395e-06],\n",
       "           [-5.4659e-06, -3.4613e-05,  3.9884e-06,  ...,  9.4348e-06,\n",
       "             5.2687e-05, -6.0083e-05],\n",
       "           ...,\n",
       "           [ 2.0398e-05, -6.0649e-05,  1.7873e-05,  ..., -4.1401e-06,\n",
       "             2.8637e-05,  8.1470e-07],\n",
       "           [ 1.7875e-05, -1.0722e-05,  2.7641e-05,  ...,  1.0822e-04,\n",
       "             5.3569e-05,  4.3583e-05],\n",
       "           [-4.1743e-06, -4.4156e-07, -1.1345e-05,  ..., -6.2431e-05,\n",
       "            -3.6758e-05,  6.0839e-06]]], dtype=torch.float64,\n",
       "         grad_fn=<MulBackward0>),\n",
       "  tensor([[[ 8.7380e-04, -1.8310e-05, -2.1252e-04,  ..., -4.2103e-04,\n",
       "            -1.1119e-03, -1.9339e-04],\n",
       "           [ 2.2317e-04, -2.0480e-04, -4.3915e-04,  ...,  1.3942e-04,\n",
       "            -5.1152e-04, -5.4895e-04],\n",
       "           [ 1.2236e-04,  9.2453e-04,  1.3270e-03,  ..., -1.2363e-04,\n",
       "             4.0657e-04, -1.9615e-04],\n",
       "           ...,\n",
       "           [ 1.8467e-05,  1.1975e-03, -4.8038e-04,  ..., -5.3464e-04,\n",
       "             3.7529e-03,  7.0896e-04],\n",
       "           [-1.7791e-04,  3.1433e-03,  4.4360e-04,  ..., -6.7783e-04,\n",
       "             8.6358e-04, -4.5488e-03],\n",
       "           [-6.6563e-05, -1.7339e-04,  3.9516e-04,  ..., -5.0966e-05,\n",
       "             3.2005e-04,  9.5158e-05]]], dtype=torch.float64,\n",
       "         grad_fn=<MulBackward0>),\n",
       "  tensor([[[-1.9968e-04, -3.6174e-05, -3.5944e-05,  ...,  1.9850e-04,\n",
       "             3.5235e-06,  4.1958e-05],\n",
       "           [-4.5894e-05,  8.9863e-06, -3.0563e-05,  ...,  5.3294e-05,\n",
       "             2.3849e-07, -2.8857e-05],\n",
       "           [-8.1659e-06, -9.3790e-06, -4.3988e-05,  ..., -2.6221e-05,\n",
       "             4.6580e-08, -9.5794e-06],\n",
       "           ...,\n",
       "           [-1.1703e-05, -2.3037e-05, -1.9352e-06,  ..., -1.2910e-06,\n",
       "            -9.1690e-06, -1.0571e-06],\n",
       "           [ 2.6688e-06, -5.9402e-05,  7.8572e-06,  ...,  4.3831e-05,\n",
       "             5.7250e-05,  3.9366e-05],\n",
       "           [-1.1016e-06,  7.7278e-06,  6.6355e-05,  ...,  1.4555e-05,\n",
       "             3.6342e-06,  1.2546e-06]]], dtype=torch.float64,\n",
       "         grad_fn=<MulBackward0>),\n",
       "  tensor([[[-1.4761e-02, -9.8760e-04, -3.1631e-04,  ...,  8.5896e-04,\n",
       "             1.5689e-03, -2.8942e-03],\n",
       "           [-3.7026e-04, -1.9707e-03, -8.8062e-04,  ..., -1.4401e-02,\n",
       "            -8.1890e-03,  6.0018e-03],\n",
       "           [ 1.7077e-03, -2.2759e-04, -1.0926e-02,  ..., -2.9077e-02,\n",
       "             6.1501e-03,  2.7525e-03],\n",
       "           [-9.3037e-07,  2.7146e-04, -1.2230e-02,  ..., -1.9521e-02,\n",
       "            -1.2922e-02, -6.8455e-03],\n",
       "           [-1.9245e-02, -3.3764e-03, -1.6057e-02,  ..., -1.5050e-02,\n",
       "            -4.9333e-02, -4.8700e-04]]], dtype=torch.float64,\n",
       "         grad_fn=<MulBackward0>),\n",
       "  tensor([[[ 1.4716e-04, -4.0172e-04, -2.6435e-04,  ...,  2.0095e-03,\n",
       "            -6.0230e-04,  7.4663e-05],\n",
       "           [-1.1681e-03, -3.4328e-03, -3.5092e-03,  ...,  1.3051e-03,\n",
       "            -1.7002e-05,  3.6939e-03],\n",
       "           [ 1.0037e-05, -1.7804e-04, -4.8183e-04,  ..., -1.6033e-03,\n",
       "             5.5400e-04, -2.2918e-03],\n",
       "           ...,\n",
       "           [ 2.8124e-04, -3.3440e-03, -3.3500e-04,  ..., -1.1823e-04,\n",
       "            -2.3635e-04,  1.2853e-03],\n",
       "           [ 1.8882e-04, -1.5429e-03, -1.2164e-03,  ...,  1.8612e-03,\n",
       "             7.6624e-04,  3.2944e-03],\n",
       "           [-1.3856e-04,  5.0329e-04,  3.6929e-04,  ..., -9.1407e-04,\n",
       "            -2.2118e-04, -7.1786e-05]]], dtype=torch.float64,\n",
       "         grad_fn=<MulBackward0>),\n",
       "  tensor([[[-1.3608e-03,  1.3430e-04,  7.9425e-05,  ...,  4.8253e-04,\n",
       "            -4.3139e-04, -1.2099e-04],\n",
       "           [-9.9911e-05,  4.1671e-05,  3.1594e-04,  ...,  3.8396e-06,\n",
       "             5.5460e-05, -5.4720e-04],\n",
       "           [ 1.3057e-05, -2.0704e-04,  2.4110e-06,  ...,  9.2536e-05,\n",
       "             1.0163e-04, -4.7411e-04],\n",
       "           ...,\n",
       "           [ 2.6307e-05, -1.2410e-05,  2.3497e-05,  ..., -2.8041e-05,\n",
       "             7.1870e-05, -3.5797e-04],\n",
       "           [ 2.0129e-04, -2.7741e-04, -3.3106e-04,  ..., -8.5285e-06,\n",
       "            -1.9698e-04,  3.6802e-04],\n",
       "           [-4.6435e-06, -9.3488e-06,  1.8349e-04,  ...,  5.3799e-05,\n",
       "             1.6437e-04, -1.2926e-05]]], dtype=torch.float64,\n",
       "         grad_fn=<MulBackward0>),\n",
       "  tensor([[[-1.0112e-04, -1.6762e-05, -6.8991e-06,  ...,  6.4998e-05,\n",
       "             3.2815e-05,  3.9431e-05],\n",
       "           [-2.2574e-05, -6.5355e-06,  1.1492e-05,  ...,  8.7345e-06,\n",
       "            -1.1179e-05, -1.5180e-06],\n",
       "           [ 4.0758e-07, -5.9417e-06,  7.7906e-06,  ..., -4.6504e-07,\n",
       "             6.3786e-07,  9.1030e-07],\n",
       "           ...,\n",
       "           [ 1.0334e-04,  2.3124e-07, -8.8990e-05,  ...,  2.5812e-07,\n",
       "            -1.5763e-05, -2.4010e-05],\n",
       "           [ 3.4826e-08, -1.1391e-05, -1.4812e-05,  ...,  9.0547e-06,\n",
       "             3.7399e-06, -2.9315e-05],\n",
       "           [-1.8499e-05, -2.8467e-06,  2.6019e-05,  ..., -1.9407e-05,\n",
       "            -1.0157e-05,  2.7769e-07]]], dtype=torch.float64,\n",
       "         grad_fn=<MulBackward0>),\n",
       "  tensor([[[-0.0085, -0.0004, -0.0015,  ...,  0.0006,  0.0033,  0.0018],\n",
       "           [-0.0022, -0.0001, -0.0113,  ...,  0.0001, -0.0015,  0.0022],\n",
       "           [ 0.0038, -0.0008, -0.0020,  ...,  0.0011, -0.0028,  0.0002],\n",
       "           ...,\n",
       "           [ 0.0030,  0.0005,  0.0014,  ..., -0.0024, -0.0169,  0.0050],\n",
       "           [ 0.0011,  0.0122, -0.0114,  ..., -0.0005, -0.0003, -0.0018],\n",
       "           [-0.0029,  0.0020,  0.0045,  ..., -0.0012, -0.0028,  0.0002]]],\n",
       "         dtype=torch.float64, grad_fn=<MulBackward0>),\n",
       "  tensor([[[-1.0942e-03, -9.0565e-05, -1.4818e-04,  ...,  8.1366e-04,\n",
       "             2.5318e-04,  1.4004e-05],\n",
       "           [-2.0693e-04,  2.4245e-04,  3.3357e-05,  ..., -3.1717e-04,\n",
       "             4.9872e-04, -8.5064e-04],\n",
       "           [ 1.1405e-04,  2.4624e-04,  1.3167e-04,  ...,  9.9815e-05,\n",
       "             5.7940e-04, -7.9041e-04],\n",
       "           [-4.6382e-04, -7.7745e-05,  3.5413e-04,  ..., -6.6371e-08,\n",
       "             1.1747e-06, -1.3775e-04],\n",
       "           [ 1.7414e-05,  3.5682e-04, -7.5588e-04,  ...,  3.0931e-04,\n",
       "            -2.5761e-04,  1.7399e-03],\n",
       "           [-5.1777e-04,  7.8445e-05,  3.7083e-04,  ..., -3.4876e-05,\n",
       "             4.0445e-04,  7.6155e-05]]], dtype=torch.float64,\n",
       "         grad_fn=<MulBackward0>),\n",
       "  tensor([[[-1.3914e-04, -1.9395e-06, -1.2027e-05,  ...,  6.8037e-05,\n",
       "             5.5675e-05, -6.5190e-05],\n",
       "           [-6.9799e-05,  2.4072e-05,  2.9282e-06,  ...,  1.5261e-05,\n",
       "             2.2540e-05,  1.1120e-05],\n",
       "           [ 3.6988e-05,  2.1194e-05, -6.5720e-05,  ...,  1.6196e-06,\n",
       "            -7.3951e-05, -4.9966e-05],\n",
       "           [-2.8900e-05, -2.2648e-05, -8.4560e-05,  ...,  9.8317e-05,\n",
       "            -6.9166e-05,  1.2697e-06],\n",
       "           [ 1.7568e-06,  5.6084e-05, -1.9463e-04,  ...,  8.0611e-06,\n",
       "            -1.9578e-05,  1.4403e-04],\n",
       "           [-9.6785e-05,  2.6338e-05,  9.5925e-05,  ...,  1.4750e-04,\n",
       "             2.0582e-04,  1.0968e-06]]], dtype=torch.float64,\n",
       "         grad_fn=<MulBackward0>),\n",
       "  tensor([[[-0.0606, -0.0066, -0.0161,  ...,  0.0870, -0.0144,  0.0358],\n",
       "           [ 0.0067,  0.0277,  0.0283,  ...,  0.0182,  0.0190, -0.0264],\n",
       "           [-0.0082, -0.0009,  0.0086,  ..., -0.0177,  0.0026, -0.0130],\n",
       "           ...,\n",
       "           [-0.0126, -0.0011, -0.0122,  ..., -0.0018,  0.0071,  0.0009],\n",
       "           [-0.0005,  0.0154, -0.0253,  ...,  0.0082, -0.0069,  0.0430],\n",
       "           [-0.0214,  0.0066,  0.0190,  ..., -0.0069,  0.0103,  0.0007]]],\n",
       "         dtype=torch.float64, grad_fn=<MulBackward0>),\n",
       "  tensor([[[ 4.9394e-04, -1.4760e-04,  4.6164e-05,  ..., -2.8253e-04,\n",
       "             6.4296e-04,  1.3570e-04],\n",
       "           [ 2.7716e-04, -4.4465e-06, -7.6799e-05,  ...,  5.7358e-04,\n",
       "            -7.4209e-05, -2.7932e-05],\n",
       "           [ 6.9964e-04,  9.4707e-05, -6.1766e-05,  ...,  1.7374e-04,\n",
       "             1.1555e-04, -1.2569e-04],\n",
       "           [-2.2919e-03, -1.7811e-03,  7.9881e-04,  ...,  2.4285e-04,\n",
       "             4.7771e-04, -2.0793e-03],\n",
       "           [-1.1773e-05,  2.2814e-04, -5.7805e-04,  ...,  2.8314e-04,\n",
       "             1.1690e-04, -7.3082e-04],\n",
       "           [ 2.5535e-04,  1.8613e-06,  8.8365e-05,  ..., -3.1740e-04,\n",
       "            -6.5580e-04, -2.1568e-05]]], dtype=torch.float64,\n",
       "         grad_fn=<MulBackward0>),\n",
       "  tensor([[[-2.9568e-02, -4.1274e-03,  1.6297e-03,  ...,  3.1617e-02,\n",
       "            -1.4104e-02,  5.6248e-03],\n",
       "           [-1.6008e-02,  3.8517e-05,  1.8529e-03,  ..., -1.7632e-04,\n",
       "             9.3839e-03,  1.4817e-02],\n",
       "           [ 1.7712e-04,  3.7188e-04, -1.5909e-04,  ..., -9.7348e-03,\n",
       "            -1.3140e-02,  1.4038e-02],\n",
       "           ...,\n",
       "           [ 6.4762e-03,  6.2260e-04, -3.2416e-03,  ...,  2.2674e-02,\n",
       "             8.9940e-03,  8.0210e-03],\n",
       "           [ 1.4903e-03, -1.0141e-02, -1.1651e-02,  ..., -2.5338e-02,\n",
       "            -3.3098e-02, -2.3775e-02],\n",
       "           [-4.0883e-03, -3.0806e-03, -3.5551e-02,  ..., -6.6186e-02,\n",
       "            -3.3833e-02,  1.4242e-03]]], dtype=torch.float64,\n",
       "         grad_fn=<MulBackward0>),\n",
       "  tensor([[[-0.0086, -0.0017,  0.0004,  ...,  0.0048, -0.0051,  0.0002],\n",
       "           [-0.0093,  0.0050,  0.0003,  ..., -0.0031,  0.0002,  0.0082],\n",
       "           [-0.0005, -0.0010, -0.0003,  ..., -0.0107, -0.0037,  0.0003],\n",
       "           ...,\n",
       "           [-0.0013, -0.0024,  0.0002,  ...,  0.0043,  0.0021, -0.0001],\n",
       "           [ 0.0012, -0.0110, -0.0015,  ..., -0.0085, -0.0066, -0.0110],\n",
       "           [-0.0042,  0.0037, -0.0134,  ..., -0.0118, -0.0232, -0.0019]]],\n",
       "         dtype=torch.float64, grad_fn=<MulBackward0>),\n",
       "  tensor([[[ 1.4704e-02,  2.6297e-03,  4.5098e-03,  ..., -4.8538e-03,\n",
       "            -4.1604e-03, -1.0575e-03],\n",
       "           [-4.1351e-03,  1.3865e-04, -9.4577e-03,  ...,  3.2911e-03,\n",
       "            -1.7819e-02, -1.3576e-02],\n",
       "           [-3.4122e-03, -5.5353e-03,  1.3188e-02,  ..., -4.1578e-04,\n",
       "            -1.3267e-03,  2.3169e-04],\n",
       "           ...,\n",
       "           [ 9.2883e-03,  1.5575e-02,  1.6414e-02,  ...,  1.2022e-02,\n",
       "            -6.0256e-02,  7.4268e-03],\n",
       "           [-3.1599e-03, -2.5415e-02,  1.8385e-02,  ..., -5.9000e-03,\n",
       "             8.8553e-03,  9.0931e-05],\n",
       "           [ 6.6569e-03, -3.9130e-03, -7.9152e-03,  ...,  4.3164e-03,\n",
       "             1.3600e-03,  8.5223e-04]]], dtype=torch.float64,\n",
       "         grad_fn=<MulBackward0>),\n",
       "  tensor([[[ 3.2897e-05, -3.1752e-06, -4.0790e-05,  ...,  1.4958e-04,\n",
       "             1.7726e-04,  4.7519e-06],\n",
       "           [-2.3701e-05, -5.8693e-05, -2.6053e-05,  ...,  5.5747e-05,\n",
       "            -7.4350e-05, -7.9392e-05],\n",
       "           [ 2.5271e-05,  2.6287e-05,  3.5736e-06,  ...,  3.8044e-05,\n",
       "            -4.4585e-05, -5.2104e-05],\n",
       "           ...,\n",
       "           [ 5.5787e-05, -1.2714e-04,  9.8042e-06,  ..., -7.6423e-05,\n",
       "             2.4270e-04,  8.7412e-05],\n",
       "           [ 1.4318e-05, -1.5403e-04, -7.0693e-04,  ..., -3.0664e-04,\n",
       "            -6.4489e-04, -1.6411e-04],\n",
       "           [ 1.5684e-06,  2.1395e-05,  3.2720e-05,  ..., -1.3197e-06,\n",
       "             3.6791e-05, -6.0037e-06]]], dtype=torch.float64,\n",
       "         grad_fn=<MulBackward0>),\n",
       "  tensor([[[-4.2151e-03, -8.3969e-04, -2.4344e-04,  ...,  4.0255e-03,\n",
       "             6.8786e-04,  4.2661e-05],\n",
       "           [ 5.7163e-04,  2.7319e-05, -8.1690e-04,  ...,  7.3596e-05,\n",
       "            -1.7526e-03, -3.8186e-03],\n",
       "           [-3.5007e-03,  2.4144e-03, -2.3748e-03,  ...,  7.3267e-03,\n",
       "            -9.3701e-03, -6.5160e-03],\n",
       "           [-3.9181e-03, -1.0464e-03,  2.7326e-03,  ...,  1.1900e-03,\n",
       "            -2.0765e-03,  1.0109e-04],\n",
       "           [ 5.9119e-06,  2.8693e-03, -2.7987e-03,  ..., -9.5042e-04,\n",
       "            -9.5012e-04,  1.0600e-02],\n",
       "           [-3.7711e-03,  7.6792e-04,  2.8336e-03,  ...,  4.3112e-04,\n",
       "             3.6365e-03,  2.9818e-04]]], dtype=torch.float64,\n",
       "         grad_fn=<MulBackward0>),\n",
       "  tensor([[[-5.9496e-05,  3.2412e-06, -2.2586e-05,  ...,  2.3270e-06,\n",
       "            -3.1504e-06, -8.4948e-06],\n",
       "           [-1.3554e-05,  9.6783e-06, -5.3349e-07,  ..., -1.2920e-05,\n",
       "            -3.3728e-06,  3.4354e-05],\n",
       "           [-2.8158e-05,  9.8270e-06, -4.0015e-06,  ..., -1.0826e-06,\n",
       "             1.6431e-06,  1.5677e-05],\n",
       "           ...,\n",
       "           [-6.9114e-06,  3.6791e-05,  1.1482e-06,  ...,  9.6765e-08,\n",
       "             2.3483e-07,  2.3855e-06],\n",
       "           [-3.8213e-06,  2.1736e-05, -1.2343e-05,  ..., -3.0802e-05,\n",
       "            -2.9893e-05, -3.4215e-05],\n",
       "           [-3.3505e-05,  9.9037e-06, -4.4938e-06,  ..., -2.3269e-05,\n",
       "            -4.8221e-05,  1.9011e-06]]], dtype=torch.float64,\n",
       "         grad_fn=<MulBackward0>),\n",
       "  tensor([[[-1.0878e-03, -1.4871e-04, -5.5754e-05,  ...,  6.5501e-04,\n",
       "            -3.6541e-05,  1.1602e-04],\n",
       "           [ 4.0192e-04,  2.9599e-06, -6.6893e-05,  ..., -5.3747e-05,\n",
       "             3.9308e-04, -7.8078e-05],\n",
       "           [ 7.1500e-04,  1.1246e-04, -2.1833e-04,  ..., -6.2923e-05,\n",
       "             4.5706e-04,  3.1820e-04],\n",
       "           ...,\n",
       "           [-8.1613e-04,  4.9088e-04, -1.1133e-04,  ...,  4.7391e-04,\n",
       "            -9.7311e-04,  1.7853e-05],\n",
       "           [ 2.6866e-04,  1.6846e-03, -1.0286e-03,  ..., -2.7803e-04,\n",
       "            -6.4803e-04, -3.0066e-04],\n",
       "           [-7.8785e-04,  5.0692e-04, -2.3777e-04,  ..., -4.9257e-04,\n",
       "            -7.9647e-04, -1.2624e-04]]], dtype=torch.float64,\n",
       "         grad_fn=<MulBackward0>),\n",
       "  tensor([[[-3.9872e-05,  1.2866e-05, -1.2228e-06,  ...,  5.6880e-05,\n",
       "            -3.2682e-06, -3.6779e-05],\n",
       "           [-7.0140e-06,  2.3841e-06, -5.0666e-06,  ..., -1.1198e-07,\n",
       "            -9.8235e-06,  3.3182e-05],\n",
       "           [ 8.5501e-06, -7.3042e-06,  1.0908e-04,  ...,  5.0715e-05,\n",
       "            -4.7346e-05, -1.6761e-06],\n",
       "           ...,\n",
       "           [-3.6087e-07, -4.6723e-07, -7.6243e-05,  ..., -2.0770e-06,\n",
       "            -9.3901e-05,  2.0640e-05],\n",
       "           [ 1.4838e-06,  6.0656e-05,  3.8136e-05,  ...,  1.8598e-06,\n",
       "            -9.4140e-08, -1.4094e-05],\n",
       "           [-1.2199e-05,  2.4877e-05, -3.0191e-06,  ...,  7.5999e-06,\n",
       "             1.6216e-05, -1.3193e-06]]], dtype=torch.float64,\n",
       "         grad_fn=<MulBackward0>),\n",
       "  tensor([[[-1.1747e-03,  3.9343e-04, -8.2802e-04,  ...,  2.5527e-03,\n",
       "             3.2357e-03,  5.7099e-04],\n",
       "           [ 1.0043e-05, -1.1441e-04,  9.5479e-04,  ...,  1.4422e-03,\n",
       "             2.5780e-04,  3.3647e-03],\n",
       "           [ 2.1560e-03, -8.1897e-04,  6.2185e-04,  ...,  5.3514e-03,\n",
       "            -1.4491e-02, -7.3748e-03],\n",
       "           [-1.6282e-02,  1.1349e-02,  3.0130e-03,  ..., -6.2921e-04,\n",
       "             2.7296e-04,  3.1063e-04],\n",
       "           [-1.6580e-04, -7.0523e-03,  5.2005e-03,  ...,  8.8500e-04,\n",
       "             1.1614e-02,  1.9238e-02],\n",
       "           [-2.9255e-03,  1.5862e-03,  3.2610e-03,  ...,  1.1516e-03,\n",
       "             1.2653e-03,  3.7851e-04]]], dtype=torch.float64,\n",
       "         grad_fn=<MulBackward0>),\n",
       "  tensor([[[-1.1505e-04, -1.7157e-05, -2.0592e-05,  ..., -3.7881e-05,\n",
       "             1.0886e-04,  3.1926e-05],\n",
       "           [-8.1118e-06, -7.2925e-06,  4.3604e-06,  ..., -4.2754e-07,\n",
       "             1.5179e-05,  2.0627e-05],\n",
       "           [ 4.9707e-06,  3.1717e-05,  6.9666e-07,  ..., -1.6124e-06,\n",
       "             4.6411e-06,  1.9181e-05],\n",
       "           ...,\n",
       "           [-1.6068e-06,  7.2584e-06, -1.1983e-05,  ..., -4.7561e-06,\n",
       "            -3.2742e-06,  2.9553e-07],\n",
       "           [ 9.3106e-06,  9.0226e-06, -1.2424e-05,  ...,  7.0110e-06,\n",
       "             2.2232e-05, -2.8735e-05],\n",
       "           [ 1.5655e-07,  4.6142e-08,  2.8236e-05,  ...,  1.5592e-06,\n",
       "            -3.6064e-06, -5.7786e-06]]], dtype=torch.float64,\n",
       "         grad_fn=<MulBackward0>),\n",
       "  tensor([[[ 0.0137,  0.0018,  0.0011,  ...,  0.0024, -0.0063, -0.0005],\n",
       "           [ 0.0182, -0.0129, -0.0003,  ..., -0.0038, -0.0019, -0.0024],\n",
       "           [ 0.0071,  0.0479,  0.0026,  ..., -0.0147,  0.0560, -0.0151],\n",
       "           ...,\n",
       "           [ 0.0016, -0.0010,  0.0030,  ..., -0.0054,  0.0109, -0.0011],\n",
       "           [-0.0011,  0.0009,  0.0255,  ..., -0.0116, -0.0106, -0.0049],\n",
       "           [ 0.0001, -0.0003, -0.0011,  ...,  0.0023,  0.0042, -0.0010]]],\n",
       "         dtype=torch.float64, grad_fn=<MulBackward0>),\n",
       "  tensor([[[-1.2660e-04,  8.3130e-05, -6.3527e-04,  ...,  7.7711e-04,\n",
       "             3.3407e-04,  1.4870e-03],\n",
       "           [-1.0811e-03, -4.0805e-04, -1.6766e-03,  ..., -2.7761e-04,\n",
       "             1.4215e-03, -4.2220e-04],\n",
       "           [-3.1663e-03,  8.0916e-03, -5.0181e-04,  ...,  1.0736e-04,\n",
       "             2.6778e-03,  1.2366e-03],\n",
       "           ...,\n",
       "           [-2.4487e-03,  8.9111e-04,  3.9753e-03,  ...,  9.9516e-04,\n",
       "             2.1709e-04, -2.6403e-04],\n",
       "           [ 7.7801e-04,  2.4917e-03, -1.5056e-03,  ...,  3.9216e-04,\n",
       "            -1.4921e-05,  2.2311e-03],\n",
       "           [-7.4206e-05,  5.7689e-04,  5.8220e-04,  ..., -3.9588e-04,\n",
       "             3.8312e-04,  1.8190e-06]]], dtype=torch.float64,\n",
       "         grad_fn=<MulBackward0>),\n",
       "  tensor([[[-0.0035,  0.0007,  0.0002,  ...,  0.0016,  0.0002, -0.0001],\n",
       "           [ 0.0004, -0.0045,  0.0006,  ..., -0.0131, -0.0153, -0.0522],\n",
       "           [ 0.0276,  0.0018, -0.0277,  ..., -0.0009,  0.0380, -0.0103],\n",
       "           ...,\n",
       "           [ 0.0056, -0.0023, -0.0088,  ...,  0.0002, -0.0002, -0.0240],\n",
       "           [-0.0021, -0.0064,  0.0054,  ...,  0.0040, -0.0076,  0.0108],\n",
       "           [-0.0031,  0.0013, -0.0015,  ..., -0.0006,  0.0018,  0.0032]]],\n",
       "         dtype=torch.float64, grad_fn=<MulBackward0>),\n",
       "  tensor([[[-8.6988e-04,  1.8445e-04, -2.5011e-04,  ...,  1.7701e-03,\n",
       "             4.8344e-04,  4.0224e-04],\n",
       "           [ 4.0470e-05,  2.2567e-04, -1.0090e-04,  ...,  1.6566e-03,\n",
       "            -1.0315e-04,  7.5370e-04],\n",
       "           [ 4.3367e-03, -3.1030e-03,  1.2576e-03,  ...,  4.0802e-04,\n",
       "            -3.7591e-03, -3.0187e-03],\n",
       "           ...,\n",
       "           [-5.3369e-04, -2.0100e-04, -1.9670e-03,  ..., -6.7340e-04,\n",
       "             1.9825e-03, -3.0043e-03],\n",
       "           [ 4.6789e-04,  1.7733e-04, -7.4315e-04,  ...,  1.6560e-03,\n",
       "            -6.3948e-04,  3.3493e-03],\n",
       "           [-1.1098e-03,  3.4149e-05,  6.4059e-04,  ..., -3.0449e-04,\n",
       "             4.8610e-04, -4.3020e-04]]], dtype=torch.float64,\n",
       "         grad_fn=<MulBackward0>),\n",
       "  tensor([[[-1.0205e-03,  9.4110e-04, -7.0602e-04,  ...,  3.4792e-03,\n",
       "            -4.3769e-03, -3.4442e-04],\n",
       "           [ 1.8286e-03,  3.1958e-03,  9.7676e-04,  ...,  6.5293e-04,\n",
       "            -4.2805e-03, -1.7167e-04],\n",
       "           [ 2.7034e-02,  4.1265e-03,  4.0317e-04,  ...,  3.1521e-03,\n",
       "            -1.3784e-02, -4.0740e-03],\n",
       "           [-4.5292e-03, -4.0869e-03,  6.9319e-03,  ..., -4.5310e-04,\n",
       "            -1.7368e-03,  1.7146e-03],\n",
       "           [-1.8642e-05, -3.6665e-03,  4.1060e-03,  ...,  1.4022e-04,\n",
       "             4.2570e-03,  7.2301e-03],\n",
       "           [-8.9196e-04, -6.4797e-04,  3.1841e-04,  ..., -4.6987e-04,\n",
       "            -1.3664e-03,  4.5758e-04]]], dtype=torch.float64,\n",
       "         grad_fn=<MulBackward0>)],\n",
       " 'conti_attr_list': [tensor([-0.6979, -0.5776, -0.2769,  0.1238,  0.2942,  0.1938],\n",
       "         dtype=torch.float64),\n",
       "  tensor([-0.4376, -0.1664,  0.5670, -0.3017, -0.0659,  0.6549],\n",
       "         dtype=torch.float64),\n",
       "  tensor([ 0.9238,  0.0356, -0.1089, -0.0773,  0.0745, -0.1157,  0.3296],\n",
       "         dtype=torch.float64),\n",
       "  tensor([ 0.4436,  0.0170,  0.9663, -0.0522,  0.1599, -0.0499, -0.3130,  0.2025],\n",
       "         dtype=torch.float64),\n",
       "  tensor([-0.9369,  0.0023, -0.0223,  0.1489, -0.0603,  0.0154, -0.0288,  0.0092,\n",
       "          -0.0109,  0.0106,  0.1035,  0.1373, -0.0121, -0.0127, -0.0336,  0.0071,\n",
       "          -0.0030,  0.1444,  0.0182, -0.1360,  0.1337,  0.0093, -0.0064,  0.0089,\n",
       "           0.0427,  0.0065,  0.0107, -0.0076, -0.0782], dtype=torch.float64),\n",
       "  tensor([-0.4825, -0.1470, -0.1131, -0.1272,  0.0513,  0.4866, -0.2876,  0.1336,\n",
       "          -0.3156,  0.4973,  0.1292,  0.1140], dtype=torch.float64),\n",
       "  tensor([ 0.5542,  0.4266, -0.2103,  0.5793,  0.2122], dtype=torch.float64),\n",
       "  tensor([-9.9167e-01, -4.3182e-02,  9.2371e-04, -6.1043e-03, -2.4555e-04,\n",
       "           5.3367e-02,  3.7824e-03, -1.6277e-02,  1.7271e-03,  3.7763e-03,\n",
       "          -7.5342e-03,  1.9639e-03, -5.8248e-04, -2.7176e-02, -2.6642e-02,\n",
       "           8.5135e-02, -1.8055e-02, -2.5414e-03, -1.5018e-02,  1.9300e-03,\n",
       "          -1.0266e-02, -9.8512e-03, -5.7769e-03,  2.0386e-02,  2.2832e-02,\n",
       "          -1.8173e-02, -1.4948e-02, -1.0229e-04, -1.6824e-02, -2.4093e-02],\n",
       "         dtype=torch.float64),\n",
       "  tensor([-0.2997,  0.3163, -0.0582, -0.0168, -0.9064,  0.2461,  0.0141, -0.1651],\n",
       "         dtype=torch.float64),\n",
       "  tensor([-0.9739, -0.0261, -0.0904,  0.0553, -0.0374, -0.1321, -0.1440],\n",
       "         dtype=torch.float64),\n",
       "  tensor([-0.9661, -0.0236,  0.1153,  0.0784,  0.0401,  0.0181,  0.0027,  0.0117,\n",
       "          -0.0092, -0.0079, -0.0282, -0.0168, -0.0311, -0.1259, -0.0098, -0.0628,\n",
       "          -0.0219,  0.0233, -0.0160,  0.0010,  0.0043, -0.0372],\n",
       "         dtype=torch.float64),\n",
       "  tensor([ 9.7831e-01, -5.4251e-04, -1.0746e-01,  1.6186e-01,  1.1069e-02,\n",
       "           7.1036e-02], dtype=torch.float64),\n",
       "  tensor([-0.9020,  0.0081,  0.0197, -0.0191,  0.0670, -0.2991, -0.0536, -0.1701,\n",
       "          -0.0043, -0.0506,  0.0164,  0.0233, -0.0358,  0.0096, -0.0359],\n",
       "         dtype=torch.float64),\n",
       "  tensor([-0.8338, -0.0364, -0.3211,  0.4225, -0.1476], dtype=torch.float64),\n",
       "  tensor([ 0.9496,  0.0756, -0.0537,  0.1005, -0.0762], dtype=torch.float64),\n",
       "  tensor([ 0.2081,  0.2280, -0.6684, -0.3085], dtype=torch.float64),\n",
       "  tensor([ 0.9229, -0.2289, -0.0381,  0.0259, -0.0497, -0.0354,  0.1944, -0.0152,\n",
       "           0.1224,  0.0192, -0.0249, -0.1954, -0.0444,  0.0453, -0.0462,  0.0809,\n",
       "          -0.0129], dtype=torch.float64),\n",
       "  tensor([-0.8938,  0.0638, -0.1272, -0.0291, -0.4259], dtype=torch.float64),\n",
       "  tensor([-6.4227e-01, -3.2649e-01,  2.7930e-01, -4.8283e-01, -2.8649e-02,\n",
       "          -4.5906e-02, -4.5303e-02,  1.7964e-01,  5.8920e-04, -3.8351e-01,\n",
       "          -1.4818e-01, -6.8875e-02], dtype=torch.float64),\n",
       "  tensor([-0.6958, -0.1422, -0.1229,  0.1861,  0.0819], dtype=torch.float64),\n",
       "  tensor([-0.2315,  0.0323, -0.9151, -0.0295, -0.3045, -0.0222,  0.0029, -0.0370,\n",
       "           0.0326,  0.0344,  0.0384,  0.0702,  0.0327,  0.0476,  0.0270,  0.0265],\n",
       "         dtype=torch.float64),\n",
       "  tensor([-0.9176,  0.2726,  0.0236,  0.0135,  0.2632, -0.1172],\n",
       "         dtype=torch.float64),\n",
       "  tensor([-0.1410,  0.8439,  0.2421,  0.1132], dtype=torch.float64),\n",
       "  tensor([-0.3111, -0.0543,  0.0637, -0.0142, -0.3333, -0.2138,  0.1743, -0.0024,\n",
       "          -0.6408, -0.3979,  0.1892,  0.3056], dtype=torch.float64),\n",
       "  tensor([0.3617, 0.2458, 0.7042, 0.1470, 0.0468], dtype=torch.float64),\n",
       "  tensor([-0.0648, -0.0492, -0.0659, -0.1750, -0.3352, -0.0456,  0.8197,  0.2558,\n",
       "           0.0788,  0.0656,  0.0502, -0.1172, -0.0583,  0.0318, -0.0432, -0.0041,\n",
       "          -0.0366, -0.0047, -0.2688], dtype=torch.float64),\n",
       "  tensor([-0.7801, -0.0344, -0.0922, -0.2054,  0.5827], dtype=torch.float64),\n",
       "  tensor([-0.1324, -0.8418, -0.0356, -0.0101,  0.1783,  0.3812,  0.1545],\n",
       "         dtype=torch.float64),\n",
       "  tensor([-0.9901,  0.0040,  0.0122,  0.0172,  0.1159,  0.0382, -0.0076, -0.0809],\n",
       "         dtype=torch.float64),\n",
       "  tensor([-0.6210, -0.0332, -0.0218,  0.1043, -0.0954, -0.1457,  0.0914, -0.0042,\n",
       "          -0.0399,  0.0477,  0.0423, -0.0395,  0.0727,  0.1230, -0.4207,  0.0382,\n",
       "          -0.0342, -0.3412, -0.0108, -0.3864, -0.0492,  0.0084],\n",
       "         dtype=torch.float64),\n",
       "  tensor([ 0.3199, -0.0237,  0.0626,  0.9250,  0.1816, -0.0221, -0.0632],\n",
       "         dtype=torch.float64),\n",
       "  tensor([-0.9159, -0.0212,  0.3857, -0.0048,  0.0850, -0.0682],\n",
       "         dtype=torch.float64),\n",
       "  tensor([-0.9811,  0.0053, -0.0823,  0.0805,  0.0349, -0.1513],\n",
       "         dtype=torch.float64),\n",
       "  tensor([-0.0306,  0.0514,  0.0531,  0.4268, -0.5520,  0.1401,  0.0894, -0.0561,\n",
       "           0.2947, -0.0118,  0.0567,  0.0152, -0.0015, -0.0293, -0.5521,  0.2673,\n",
       "          -0.0382,  0.0190, -0.0303,  0.0064,  0.0151, -0.0048],\n",
       "         dtype=torch.float64),\n",
       "  tensor([ 0.9650,  0.0984, -0.1789, -0.1760], dtype=torch.float64),\n",
       "  tensor([-0.7961, -0.0808, -0.0730, -0.1157, -0.0374, -0.0498,  0.0636,  0.1925,\n",
       "           0.1969, -0.0469, -0.0362,  0.0167, -0.0833,  0.4962],\n",
       "         dtype=torch.float64),\n",
       "  tensor([-0.7561, -0.3939, -0.0883, -0.1943,  0.5692], dtype=torch.float64),\n",
       "  tensor([-0.6525, -0.4148, -0.6508, -0.0281,  0.0347, -0.0163],\n",
       "         dtype=torch.float64),\n",
       "  tensor([-0.9598,  0.0143,  0.0497, -0.1517,  0.1467,  0.1564, -0.0747, -0.0492],\n",
       "         dtype=torch.float64),\n",
       "  tensor([-0.8543, -0.0696,  0.3493,  0.0731,  0.0024], dtype=torch.float64),\n",
       "  tensor([-0.9547, -0.0068, -0.0072,  0.1363,  0.0388, -0.0726,  0.1016, -0.0519,\n",
       "           0.0111,  0.0126,  0.0251,  0.0193,  0.0102, -0.0026,  0.1372,  0.1357,\n",
       "          -0.0184, -0.0207,  0.0077, -0.0128,  0.0211,  0.0320, -0.0027,  0.0937],\n",
       "         dtype=torch.float64),\n",
       "  tensor([ 0.3045, -0.1269, -0.2868,  0.6234,  0.3045, -0.0943,  0.5645],\n",
       "         dtype=torch.float64),\n",
       "  tensor([-0.7281,  0.0148,  0.0260,  0.0337,  0.0307, -0.1012, -0.0024, -0.1124,\n",
       "          -0.6635, -0.0205, -0.1679, -0.0100,  0.0393,  0.0052, -0.0400],\n",
       "         dtype=torch.float64),\n",
       "  tensor([-0.1344, -0.6998,  0.7609,  0.1455], dtype=torch.float64),\n",
       "  tensor([-4.0689e-01, -1.5609e-02,  2.1143e-02, -2.3085e-02,  1.3332e-02,\n",
       "          -1.6929e-02, -1.0268e-02,  1.2862e-02,  9.5297e-03,  1.3393e-02,\n",
       "           3.5067e-02,  9.0316e-01,  3.1912e-02, -2.6518e-02,  1.2828e-02,\n",
       "           6.7357e-03, -6.3975e-02, -1.1735e-02,  1.5410e-02,  6.6767e-03,\n",
       "          -3.8180e-02, -1.8955e-02, -1.7355e-02, -9.3750e-03,  6.5118e-03,\n",
       "          -1.8031e-02,  3.2556e-03, -1.1348e-02, -7.5916e-03, -9.6356e-04,\n",
       "           1.1157e-03, -2.7134e-02, -5.1605e-02, -1.5793e-02, -3.6295e-02,\n",
       "          -2.4796e-02, -1.6204e-02, -1.3438e-02, -1.8783e-03, -6.4532e-03,\n",
       "          -3.7772e-04, -1.7929e-03], dtype=torch.float64),\n",
       "  tensor([-0.3286, -0.5117, -0.9439, -0.0078, -0.2906, -0.0565,  0.0723],\n",
       "         dtype=torch.float64),\n",
       "  tensor([ 0.8268, -0.2115,  0.3729, -0.0120,  0.3635,  0.0029,  0.0142, -0.0285],\n",
       "         dtype=torch.float64),\n",
       "  tensor([-0.2385,  0.2805,  0.8690, -0.2317,  0.0024], dtype=torch.float64),\n",
       "  tensor([-0.9529,  0.0346,  0.0090,  0.0056], dtype=torch.float64),\n",
       "  tensor([-0.8734,  0.1226, -0.0202, -0.0476], dtype=torch.float64)],\n",
       " 'raw_input_list': [['<s>', 'its', 'oscar', 'nomination', '', '</s>'],\n",
       "  ['<s>', 'shenanigans', 'and', 'slapstick', '', '</s>'],\n",
       "  ['<s>', 'an', 'unsettling', 'sight', ',', '', '</s>'],\n",
       "  ['<s>', 'the', 'climactic', 'hourlong', 'cricket', 'match', '', '</s>'],\n",
       "  ['<s>',\n",
       "   'alternating',\n",
       "   'between',\n",
       "   'facetious',\n",
       "   'comic',\n",
       "   'parody',\n",
       "   'and',\n",
       "   'pulp',\n",
       "   'melodrama',\n",
       "   ',',\n",
       "   'this',\n",
       "   'smart-aleck',\n",
       "   'movie',\n",
       "   '...',\n",
       "   'tosses',\n",
       "   'around',\n",
       "   'some',\n",
       "   'intriguing',\n",
       "   'questions',\n",
       "   'about',\n",
       "   'the',\n",
       "   'difference',\n",
       "   'between',\n",
       "   'human',\n",
       "   'and',\n",
       "   'android',\n",
       "   'life',\n",
       "   '',\n",
       "   '</s>'],\n",
       "  ['<s>',\n",
       "   'to',\n",
       "   'be',\n",
       "   'a',\n",
       "   'part',\n",
       "   'of',\n",
       "   'that',\n",
       "   'elusive',\n",
       "   'adult',\n",
       "   'world',\n",
       "   '',\n",
       "   '</s>'],\n",
       "  ['<s>', 'emotional', 'power', '', '</s>'],\n",
       "  ['<s>',\n",
       "   'reminds',\n",
       "   'you',\n",
       "   'of',\n",
       "   'why',\n",
       "   'animation',\n",
       "   'is',\n",
       "   'such',\n",
       "   'a',\n",
       "   'perfect',\n",
       "   'medium',\n",
       "   'for',\n",
       "   'children',\n",
       "   ',',\n",
       "   'because',\n",
       "   'of',\n",
       "   'the',\n",
       "   'way',\n",
       "   'it',\n",
       "   'allows',\n",
       "   'the',\n",
       "   'mind',\n",
       "   'to',\n",
       "   'enter',\n",
       "   'and',\n",
       "   'accept',\n",
       "   'another',\n",
       "   'world',\n",
       "   '',\n",
       "   '</s>'],\n",
       "  ['<s>',\n",
       "   'unparalleled',\n",
       "   'proportions',\n",
       "   ',',\n",
       "   'writer-director',\n",
       "   'parker',\n",
       "   '',\n",
       "   '</s>'],\n",
       "  ['<s>', 'this', 'surprisingly', 'decent', 'flick', '', '</s>'],\n",
       "  ['<s>',\n",
       "   'about',\n",
       "   'the',\n",
       "   'best',\n",
       "   'thing',\n",
       "   'you',\n",
       "   'could',\n",
       "   'say',\n",
       "   'about',\n",
       "   'narc',\n",
       "   'is',\n",
       "   'that',\n",
       "   'it',\n",
       "   \"'s\",\n",
       "   'a',\n",
       "   'rock-solid',\n",
       "   'little',\n",
       "   'genre',\n",
       "   'picture',\n",
       "   '.',\n",
       "   '',\n",
       "   '</s>'],\n",
       "  ['<s>', 'the', 'very', 'best', '', '</s>'],\n",
       "  ['<s>',\n",
       "   'been',\n",
       "   'modeled',\n",
       "   'on',\n",
       "   'the',\n",
       "   'worst',\n",
       "   'revenge-of-the-nerds',\n",
       "   'clichÃ©s',\n",
       "   'the',\n",
       "   'filmmakers',\n",
       "   'could',\n",
       "   'dredge',\n",
       "   'up',\n",
       "   '',\n",
       "   '</s>'],\n",
       "  ['<s>', 'tell', 'you', '', '</s>'],\n",
       "  ['<s>', 'utterly', 'absorbing', '', '</s>'],\n",
       "  ['<s>', 'restate', '', '</s>'],\n",
       "  ['<s>',\n",
       "   'bears',\n",
       "   'about',\n",
       "   'as',\n",
       "   'much',\n",
       "   'resemblance',\n",
       "   'to',\n",
       "   'the',\n",
       "   'experiences',\n",
       "   'of',\n",
       "   'most',\n",
       "   'battered',\n",
       "   'women',\n",
       "   'as',\n",
       "   'spider-man',\n",
       "   '',\n",
       "   '</s>'],\n",
       "  ['<s>', 'expressively', 'performed', '', '</s>'],\n",
       "  ['<s>',\n",
       "   'the',\n",
       "   'acting',\n",
       "   'is',\n",
       "   'amateurish',\n",
       "   ',',\n",
       "   'the',\n",
       "   'cinematography',\n",
       "   'is',\n",
       "   'atrocious',\n",
       "   '',\n",
       "   '</s>'],\n",
       "  ['<s>', 'solidly', 'constructed', '', '</s>'],\n",
       "  ['<s>',\n",
       "   'are',\n",
       "   'undermined',\n",
       "   'by',\n",
       "   'the',\n",
       "   'movie',\n",
       "   \"'s\",\n",
       "   'presentation',\n",
       "   ',',\n",
       "   'which',\n",
       "   'is',\n",
       "   'way',\n",
       "   'too',\n",
       "   'stagy',\n",
       "   '',\n",
       "   '</s>'],\n",
       "  ['<s>', 'a', 'great', 'film', '', '</s>'],\n",
       "  ['<s>', 'charm', '', '</s>'],\n",
       "  ['<s>',\n",
       "   'this',\n",
       "   'new',\n",
       "   'jangle',\n",
       "   'of',\n",
       "   'noise',\n",
       "   ',',\n",
       "   'mayhem',\n",
       "   'and',\n",
       "   'stupidity',\n",
       "   '',\n",
       "   '</s>'],\n",
       "  ['<s>', 'sustains', 'it', '', '</s>'],\n",
       "  ['<s>',\n",
       "   'is',\n",
       "   'so',\n",
       "   'deadly',\n",
       "   'dull',\n",
       "   'that',\n",
       "   'watching',\n",
       "   'the',\n",
       "   'proverbial',\n",
       "   'paint',\n",
       "   'dry',\n",
       "   'would',\n",
       "   'be',\n",
       "   'a',\n",
       "   'welcome',\n",
       "   'improvement',\n",
       "   '.',\n",
       "   '',\n",
       "   '</s>'],\n",
       "  ['<s>', 'to', 'accomplish', '', '</s>'],\n",
       "  ['<s>', 'does', \"n't\", 'work', '.', '', '</s>'],\n",
       "  ['<s>', 'given', 'it', 'a', 'one-star', 'rating', '', '</s>'],\n",
       "  ['<s>',\n",
       "   'ice',\n",
       "   'cube',\n",
       "   'is',\n",
       "   \"n't\",\n",
       "   'quite',\n",
       "   'out',\n",
       "   'of',\n",
       "   'ripe',\n",
       "   'screwball',\n",
       "   'ideas',\n",
       "   ',',\n",
       "   'but',\n",
       "   'friday',\n",
       "   'after',\n",
       "   'next',\n",
       "   'spreads',\n",
       "   'them',\n",
       "   'pretty',\n",
       "   'thin',\n",
       "   '',\n",
       "   '</s>'],\n",
       "  ['<s>', 'been', 'trying', 'to', 'forget', '', '</s>'],\n",
       "  ['<s>', 'big', 'stars', 'and', '', '</s>'],\n",
       "  ['<s>', 'of', 'cheesy', 'dialogue', '', '</s>'],\n",
       "  ['<s>',\n",
       "   'the',\n",
       "   'chÃ¢teau',\n",
       "   'is',\n",
       "   'never',\n",
       "   'quite',\n",
       "   'able',\n",
       "   'to',\n",
       "   'overcome',\n",
       "   'the',\n",
       "   'cultural',\n",
       "   'moat',\n",
       "   'surrounding',\n",
       "   'its',\n",
       "   'ludicrous',\n",
       "   'and',\n",
       "   'contrived',\n",
       "   'plot',\n",
       "   '.',\n",
       "   \"'\",\n",
       "   '',\n",
       "   '</s>'],\n",
       "  ['<s>', 'principled', '', '</s>'],\n",
       "  ['<s>',\n",
       "   'end',\n",
       "   'it',\n",
       "   'all',\n",
       "   'by',\n",
       "   'stuffing',\n",
       "   'himself',\n",
       "   'into',\n",
       "   'an',\n",
       "   'electric',\n",
       "   'pencil',\n",
       "   'sharpener',\n",
       "   '',\n",
       "   '</s>'],\n",
       "  ['<s>', 'funniest', 'idea', '', '</s>'],\n",
       "  ['<s>', 'silly', 'and', 'tedious', '', '</s>'],\n",
       "  ['<s>', 'two', 'surefire', ',', 'beloved', 'genres', '', '</s>'],\n",
       "  ['<s>', 'most', 'charmless', '', '</s>'],\n",
       "  ['<s>',\n",
       "   'offers',\n",
       "   'us',\n",
       "   'the',\n",
       "   'sense',\n",
       "   'that',\n",
       "   'on',\n",
       "   'some',\n",
       "   'elemental',\n",
       "   'level',\n",
       "   ',',\n",
       "   'lilia',\n",
       "   'deeply',\n",
       "   'wants',\n",
       "   'to',\n",
       "   'break',\n",
       "   'free',\n",
       "   'of',\n",
       "   'her',\n",
       "   'old',\n",
       "   'life',\n",
       "   '.',\n",
       "   '',\n",
       "   '</s>'],\n",
       "  ['<s>', 'might', 'be', 'best', 'forgotten', '', '</s>'],\n",
       "  ['<s>',\n",
       "   'a',\n",
       "   'substantial',\n",
       "   'arc',\n",
       "   'of',\n",
       "   'change',\n",
       "   'that',\n",
       "   'does',\n",
       "   \"n't\",\n",
       "   'produce',\n",
       "   'any',\n",
       "   'real',\n",
       "   'transformation',\n",
       "   '',\n",
       "   '</s>'],\n",
       "  ['<s>', 'unadorned', '', '</s>'],\n",
       "  ['<s>',\n",
       "   'this',\n",
       "   'is',\n",
       "   'the',\n",
       "   'kind',\n",
       "   'of',\n",
       "   'movie',\n",
       "   'that',\n",
       "   'you',\n",
       "   'only',\n",
       "   'need',\n",
       "   'to',\n",
       "   'watch',\n",
       "   'for',\n",
       "   'about',\n",
       "   'thirty',\n",
       "   'seconds',\n",
       "   'before',\n",
       "   'you',\n",
       "   'say',\n",
       "   'to',\n",
       "   'yourself',\n",
       "   ',',\n",
       "   '`',\n",
       "   'ah',\n",
       "   ',',\n",
       "   'yes',\n",
       "   ',',\n",
       "   'here',\n",
       "   'we',\n",
       "   'have',\n",
       "   'a',\n",
       "   'bad',\n",
       "   ',',\n",
       "   'bad',\n",
       "   ',',\n",
       "   'bad',\n",
       "   'movie',\n",
       "   '.',\n",
       "   \"'\",\n",
       "   '',\n",
       "   '</s>'],\n",
       "  ['<s>', 'feel', 'sanitised', 'and', 'stagey', '', '</s>'],\n",
       "  ['<s>',\n",
       "   'replete',\n",
       "   'with',\n",
       "   'stereotypical',\n",
       "   'familial',\n",
       "   'quandaries',\n",
       "   '',\n",
       "   '</s>'],\n",
       "  ['<s>', 'quirky', 'comedy', '', '</s>'],\n",
       "  ['<s>', 'unrewarding', '', '</s>'],\n",
       "  ['<s>', 'old-hat', '', '</s>']]}"
      ]
     },
     "execution_count": 9,
     "metadata": {},
     "output_type": "execute_result"
    }
   ],
   "source": [
    "save_info(idxs, sst2_data_raw, targets, model_out_list, raw_attr_list, conti_attr_list, raw_input_list, fname='integrated_gradients_out.pkl')"
   ]
  },
  {
   "cell_type": "code",
   "execution_count": null,
   "id": "24eda4e4",
   "metadata": {},
   "outputs": [],
   "source": []
  }
 ],
 "metadata": {
  "kernelspec": {
   "display_name": "Python 3 (ipykernel)",
   "language": "python",
   "name": "python3"
  },
  "language_info": {
   "codemirror_mode": {
    "name": "ipython",
    "version": 3
   },
   "file_extension": ".py",
   "mimetype": "text/x-python",
   "name": "python",
   "nbconvert_exporter": "python",
   "pygments_lexer": "ipython3",
   "version": "3.9.7"
  }
 },
 "nbformat": 4,
 "nbformat_minor": 5
}
