{
 "cells": [
  {
   "cell_type": "code",
   "execution_count": 1,
   "id": "806fb4a1",
   "metadata": {},
   "outputs": [],
   "source": [
    "import sys, time, pickle, torch\n",
    "sys.path.insert(0, '../../Models')\n",
    "sys.path.insert(0, '../../Utils')\n",
    "sys.path.insert(0, '../../Preprocess')\n",
    "import numpy as np\n",
    "import pandas as pd\n",
    "from preload_models import get_sst2_tok_n_model\n",
    "from _utils import sample_random_glue_sst2, get_continuation_mapping, \\\n",
    "                    get_continuous_attributions, get_continuous_raw_inputs, \\\n",
    "                    collect_info_for_metric, save_info"
   ]
  },
  {
   "cell_type": "code",
   "execution_count": 2,
   "id": "dd38a1a9",
   "metadata": {},
   "outputs": [
    {
     "name": "stderr",
     "output_type": "stream",
     "text": [
      "Reusing dataset glue (/home/user/.cache/huggingface/datasets/glue/sst2/1.0.0/dacbe3125aa31d7f70367a07a8a9e72a5a0bfeb5fc42e75c9db75b96da6053ad)\n"
     ]
    },
    {
     "data": {
      "application/vnd.jupyter.widget-view+json": {
       "model_id": "4cf84a84dc7f4f82b1455d129e9964e0",
       "version_major": 2,
       "version_minor": 0
      },
      "text/plain": [
       "  0%|          | 0/3 [00:00<?, ?it/s]"
      ]
     },
     "metadata": {},
     "output_type": "display_data"
    },
    {
     "name": "stderr",
     "output_type": "stream",
     "text": [
      "Loading cached processed dataset at /home/user/.cache/huggingface/datasets/glue/sst2/1.0.0/dacbe3125aa31d7f70367a07a8a9e72a5a0bfeb5fc42e75c9db75b96da6053ad/cache-3b24abff24d1d8c0.arrow\n",
      "Loading cached processed dataset at /home/user/.cache/huggingface/datasets/glue/sst2/1.0.0/dacbe3125aa31d7f70367a07a8a9e72a5a0bfeb5fc42e75c9db75b96da6053ad/cache-5960909ab3834668.arrow\n"
     ]
    }
   ],
   "source": [
    "sst2_data_raw, targets, idxs = sample_random_glue_sst2()"
   ]
  },
  {
   "cell_type": "code",
   "execution_count": 3,
   "id": "c90c47e9",
   "metadata": {},
   "outputs": [],
   "source": [
    "tokenizer, model = get_sst2_tok_n_model()"
   ]
  },
  {
   "cell_type": "code",
   "execution_count": 4,
   "id": "17be71bc",
   "metadata": {},
   "outputs": [],
   "source": [
    "#define some containers to save some info\n",
    "model_out_list, raw_attr_list, conti_attr_list, raw_input_list = [], [], [], []"
   ]
  },
  {
   "cell_type": "code",
   "execution_count": 5,
   "id": "d272625c",
   "metadata": {},
   "outputs": [],
   "source": [
    "from captum.attr import IntegratedGradients\n",
    "from captum.attr import visualization "
   ]
  },
  {
   "cell_type": "code",
   "execution_count": 7,
   "id": "8067da5f",
   "metadata": {},
   "outputs": [],
   "source": [
    "# lime = Lime(forward_func=model.forward)\n",
    "IG = IntegratedGradients(model)"
   ]
  },
  {
   "cell_type": "code",
   "execution_count": 8,
   "id": "c47d4631",
   "metadata": {},
   "outputs": [],
   "source": [
    "def generate_record(raw_review, target):\n",
    "    #tokenizer operations\n",
    "    tokenized = tokenizer(raw_review, truncation=True, return_offsets_mapping=True)\n",
    "    offset_mapping = tokenized['offset_mapping']\n",
    "    conti_map = get_continuation_mapping(offset_mapping)\n",
    "    input_ids = torch.tensor(tokenized['input_ids']).unsqueeze(0)\n",
    "    detokenized = [t.replace('Ġ', '') for t in tokenizer.convert_ids_to_tokens(input_ids[0])]\n",
    "    \n",
    "    #feeding input forward \n",
    "    input_emb = model.get_embeddings(input_ids)\n",
    "    pred_prob = model(input_emb).item()\n",
    "    \n",
    "    #categorizing results\n",
    "    pred_class = 'Pos' if pred_prob > 0.5 else 'Neg' \n",
    "    true_class = 'Pos' if target > 0.5 else 'Neg' \n",
    "    \n",
    "    #attribution algorithm working\n",
    "    attribution, delta = IG.attribute(input_emb, return_convergence_delta=True)\n",
    "    word_attributions = attribution.squeeze(0).sum(dim=1)\n",
    "    word_attributions /= torch.norm(word_attributions)\n",
    "    attr_score = torch.sum(word_attributions)\n",
    "    attr_class = 'Pos' if attr_score > 0.5 else 'Neg'\n",
    "    convergence_score = delta\n",
    "    \n",
    "    \n",
    "    #re-organizing tensors and arrays because words get split down\n",
    "    conti_attr = get_continuous_attributions(conti_map, word_attributions)\n",
    "    raw_input = get_continuous_raw_inputs(conti_map, detokenized)\n",
    "\n",
    "#     print(f'word attributions {word_attributions}')\n",
    "#     print(f'pred_prob {pred_prob}')\n",
    "#     print(f'pred_class {pred_class}')\n",
    "#     print(f'true_class {true_class}')\n",
    "#     print(f'attribution {attribution}')\n",
    "#     print(f'attr_class {attr_class}')\n",
    "#     print(f'attr_score {attr_score}')\n",
    "#     print(f'raw_input {raw_input}')\n",
    "\n",
    "        \n",
    "#     collect info for metrics later\n",
    "    collect_info_for_metric(model_out_list, pred_prob, raw_attr_list, attribution, conti_attr_list, conti_attr, raw_input_list, raw_input)\n",
    "        \n",
    "    \n",
    "    visual_record = visualization.VisualizationDataRecord(word_attributions=word_attributions,\n",
    "                                                         pred_prob=pred_prob,\n",
    "                                                         pred_class=pred_class,\n",
    "                                                         true_class=true_class,\n",
    "                                                         attr_class=attr_class,\n",
    "                                                         attr_score=attr_score,\n",
    "                                                         raw_input=raw_input,\n",
    "                                                         convergence_score=convergence_score)\n",
    "        \n",
    "        \n",
    "    return visual_record\n",
    "      \n",
    "    "
   ]
  },
  {
   "cell_type": "code",
   "execution_count": 9,
   "id": "37efa6df",
   "metadata": {
    "scrolled": false
   },
   "outputs": [
    {
     "name": "stdout",
     "output_type": "stream",
     "text": [
      "Raw review: against all odds \n",
      "GT target: 1\n",
      "asd 6\n"
     ]
    },
    {
     "data": {
      "text/html": [
       "<table width: 100%><div style=\"border-top: 1px solid; margin-top: 5px;             padding-top: 5px; display: inline-block\"><b>Legend: </b><span style=\"display: inline-block; width: 10px; height: 10px;                 border: 1px solid; background-color:                 hsl(0, 75%, 60%)\"></span> Negative  <span style=\"display: inline-block; width: 10px; height: 10px;                 border: 1px solid; background-color:                 hsl(0, 75%, 100%)\"></span> Neutral  <span style=\"display: inline-block; width: 10px; height: 10px;                 border: 1px solid; background-color:                 hsl(120, 75%, 50%)\"></span> Positive  </div><tr><th>True Label</th><th>Predicted Label</th><th>Attribution Label</th><th>Attribution Score</th><th>Word Importance</th><tr><td><text style=\"padding-right:2em\"><b>Pos</b></text></td><td><text style=\"padding-right:2em\"><b>Pos (0.99)</b></text></td><td><text style=\"padding-right:2em\"><b>Pos</b></text></td><td><text style=\"padding-right:2em\"><b>0.93</b></text></td><td><mark style=\"background-color: hsl(120, 75%, 99%); opacity:1.0;                     line-height:1.75\"><font color=\"black\"> #s                    </font></mark><mark style=\"background-color: hsl(0, 75%, 98%); opacity:1.0;                     line-height:1.75\"><font color=\"black\"> against                    </font></mark><mark style=\"background-color: hsl(120, 75%, 99%); opacity:1.0;                     line-height:1.75\"><font color=\"black\"> all                    </font></mark><mark style=\"background-color: hsl(120, 75%, 51%); opacity:1.0;                     line-height:1.75\"><font color=\"black\"> odds                    </font></mark><mark style=\"background-color: hsl(120, 75%, 98%); opacity:1.0;                     line-height:1.75\"><font color=\"black\">                     </font></mark><mark style=\"background-color: hsl(0, 75%, 96%); opacity:1.0;                     line-height:1.75\"><font color=\"black\"> #/s                    </font></mark></td><tr></table>"
      ],
      "text/plain": [
       "<IPython.core.display.HTML object>"
      ]
     },
     "metadata": {},
     "output_type": "display_data"
    },
    {
     "name": "stdout",
     "output_type": "stream",
     "text": [
      "<IPython.core.display.HTML object>\n",
      "Raw review: i had a dream that a smart comedy would come along to rescue me from a summer of teen-driven , toilet-humor codswallop \n",
      "GT target: 1\n",
      "asd 25\n"
     ]
    },
    {
     "data": {
      "text/html": [
       "<table width: 100%><div style=\"border-top: 1px solid; margin-top: 5px;             padding-top: 5px; display: inline-block\"><b>Legend: </b><span style=\"display: inline-block; width: 10px; height: 10px;                 border: 1px solid; background-color:                 hsl(0, 75%, 60%)\"></span> Negative  <span style=\"display: inline-block; width: 10px; height: 10px;                 border: 1px solid; background-color:                 hsl(0, 75%, 100%)\"></span> Neutral  <span style=\"display: inline-block; width: 10px; height: 10px;                 border: 1px solid; background-color:                 hsl(120, 75%, 50%)\"></span> Positive  </div><tr><th>True Label</th><th>Predicted Label</th><th>Attribution Label</th><th>Attribution Score</th><th>Word Importance</th><tr><td><text style=\"padding-right:2em\"><b>Pos</b></text></td><td><text style=\"padding-right:2em\"><b>Pos (1.00)</b></text></td><td><text style=\"padding-right:2em\"><b>Neg</b></text></td><td><text style=\"padding-right:2em\"><b>-1.03</b></text></td><td><mark style=\"background-color: hsl(0, 75%, 61%); opacity:1.0;                     line-height:1.75\"><font color=\"black\"> #s                    </font></mark><mark style=\"background-color: hsl(0, 75%, 99%); opacity:1.0;                     line-height:1.75\"><font color=\"black\"> i                    </font></mark><mark style=\"background-color: hsl(0, 75%, 100%); opacity:1.0;                     line-height:1.75\"><font color=\"black\"> had                    </font></mark><mark style=\"background-color: hsl(120, 75%, 96%); opacity:1.0;                     line-height:1.75\"><font color=\"black\"> a                    </font></mark><mark style=\"background-color: hsl(120, 75%, 100%); opacity:1.0;                     line-height:1.75\"><font color=\"black\"> dream                    </font></mark><mark style=\"background-color: hsl(0, 75%, 99%); opacity:1.0;                     line-height:1.75\"><font color=\"black\"> that                    </font></mark><mark style=\"background-color: hsl(0, 75%, 99%); opacity:1.0;                     line-height:1.75\"><font color=\"black\"> a                    </font></mark><mark style=\"background-color: hsl(120, 75%, 100%); opacity:1.0;                     line-height:1.75\"><font color=\"black\"> smart                    </font></mark><mark style=\"background-color: hsl(120, 75%, 100%); opacity:1.0;                     line-height:1.75\"><font color=\"black\"> comedy                    </font></mark><mark style=\"background-color: hsl(0, 75%, 100%); opacity:1.0;                     line-height:1.75\"><font color=\"black\"> would                    </font></mark><mark style=\"background-color: hsl(0, 75%, 100%); opacity:1.0;                     line-height:1.75\"><font color=\"black\"> come                    </font></mark><mark style=\"background-color: hsl(0, 75%, 100%); opacity:1.0;                     line-height:1.75\"><font color=\"black\"> along                    </font></mark><mark style=\"background-color: hsl(120, 75%, 99%); opacity:1.0;                     line-height:1.75\"><font color=\"black\"> to                    </font></mark><mark style=\"background-color: hsl(120, 75%, 100%); opacity:1.0;                     line-height:1.75\"><font color=\"black\"> rescue                    </font></mark><mark style=\"background-color: hsl(120, 75%, 100%); opacity:1.0;                     line-height:1.75\"><font color=\"black\"> me                    </font></mark><mark style=\"background-color: hsl(0, 75%, 100%); opacity:1.0;                     line-height:1.75\"><font color=\"black\"> from                    </font></mark><mark style=\"background-color: hsl(0, 75%, 100%); opacity:1.0;                     line-height:1.75\"><font color=\"black\"> a                    </font></mark><mark style=\"background-color: hsl(120, 75%, 100%); opacity:1.0;                     line-height:1.75\"><font color=\"black\"> summer                    </font></mark><mark style=\"background-color: hsl(0, 75%, 100%); opacity:1.0;                     line-height:1.75\"><font color=\"black\"> of                    </font></mark><mark style=\"background-color: hsl(0, 75%, 100%); opacity:1.0;                     line-height:1.75\"><font color=\"black\"> teen-driven                    </font></mark><mark style=\"background-color: hsl(0, 75%, 100%); opacity:1.0;                     line-height:1.75\"><font color=\"black\"> ,                    </font></mark><mark style=\"background-color: hsl(0, 75%, 100%); opacity:1.0;                     line-height:1.75\"><font color=\"black\"> toilet-humor                    </font></mark><mark style=\"background-color: hsl(0, 75%, 100%); opacity:1.0;                     line-height:1.75\"><font color=\"black\"> codswallop                    </font></mark><mark style=\"background-color: hsl(120, 75%, 100%); opacity:1.0;                     line-height:1.75\"><font color=\"black\">                     </font></mark><mark style=\"background-color: hsl(120, 75%, 100%); opacity:1.0;                     line-height:1.75\"><font color=\"black\"> #/s                    </font></mark></td><tr></table>"
      ],
      "text/plain": [
       "<IPython.core.display.HTML object>"
      ]
     },
     "metadata": {},
     "output_type": "display_data"
    },
    {
     "name": "stdout",
     "output_type": "stream",
     "text": [
      "<IPython.core.display.HTML object>\n",
      "Raw review: he makes sure the salton sea works the way a good noir should , keeping it tight and nasty \n",
      "GT target: 1\n",
      "asd 22\n"
     ]
    },
    {
     "data": {
      "text/html": [
       "<table width: 100%><div style=\"border-top: 1px solid; margin-top: 5px;             padding-top: 5px; display: inline-block\"><b>Legend: </b><span style=\"display: inline-block; width: 10px; height: 10px;                 border: 1px solid; background-color:                 hsl(0, 75%, 60%)\"></span> Negative  <span style=\"display: inline-block; width: 10px; height: 10px;                 border: 1px solid; background-color:                 hsl(0, 75%, 100%)\"></span> Neutral  <span style=\"display: inline-block; width: 10px; height: 10px;                 border: 1px solid; background-color:                 hsl(120, 75%, 50%)\"></span> Positive  </div><tr><th>True Label</th><th>Predicted Label</th><th>Attribution Label</th><th>Attribution Score</th><th>Word Importance</th><tr><td><text style=\"padding-right:2em\"><b>Pos</b></text></td><td><text style=\"padding-right:2em\"><b>Pos (1.00)</b></text></td><td><text style=\"padding-right:2em\"><b>Neg</b></text></td><td><text style=\"padding-right:2em\"><b>-0.68</b></text></td><td><mark style=\"background-color: hsl(0, 75%, 62%); opacity:1.0;                     line-height:1.75\"><font color=\"black\"> #s                    </font></mark><mark style=\"background-color: hsl(120, 75%, 97%); opacity:1.0;                     line-height:1.75\"><font color=\"black\"> he                    </font></mark><mark style=\"background-color: hsl(0, 75%, 100%); opacity:1.0;                     line-height:1.75\"><font color=\"black\"> makes                    </font></mark><mark style=\"background-color: hsl(120, 75%, 100%); opacity:1.0;                     line-height:1.75\"><font color=\"black\"> sure                    </font></mark><mark style=\"background-color: hsl(120, 75%, 97%); opacity:1.0;                     line-height:1.75\"><font color=\"black\"> the                    </font></mark><mark style=\"background-color: hsl(0, 75%, 100%); opacity:1.0;                     line-height:1.75\"><font color=\"black\"> salton                    </font></mark><mark style=\"background-color: hsl(0, 75%, 100%); opacity:1.0;                     line-height:1.75\"><font color=\"black\"> sea                    </font></mark><mark style=\"background-color: hsl(0, 75%, 100%); opacity:1.0;                     line-height:1.75\"><font color=\"black\"> works                    </font></mark><mark style=\"background-color: hsl(0, 75%, 100%); opacity:1.0;                     line-height:1.75\"><font color=\"black\"> the                    </font></mark><mark style=\"background-color: hsl(120, 75%, 95%); opacity:1.0;                     line-height:1.75\"><font color=\"black\"> way                    </font></mark><mark style=\"background-color: hsl(0, 75%, 100%); opacity:1.0;                     line-height:1.75\"><font color=\"black\"> a                    </font></mark><mark style=\"background-color: hsl(120, 75%, 93%); opacity:1.0;                     line-height:1.75\"><font color=\"black\"> good                    </font></mark><mark style=\"background-color: hsl(120, 75%, 99%); opacity:1.0;                     line-height:1.75\"><font color=\"black\"> noir                    </font></mark><mark style=\"background-color: hsl(0, 75%, 100%); opacity:1.0;                     line-height:1.75\"><font color=\"black\"> should                    </font></mark><mark style=\"background-color: hsl(0, 75%, 100%); opacity:1.0;                     line-height:1.75\"><font color=\"black\"> ,                    </font></mark><mark style=\"background-color: hsl(120, 75%, 100%); opacity:1.0;                     line-height:1.75\"><font color=\"black\"> keeping                    </font></mark><mark style=\"background-color: hsl(120, 75%, 100%); opacity:1.0;                     line-height:1.75\"><font color=\"black\"> it                    </font></mark><mark style=\"background-color: hsl(120, 75%, 100%); opacity:1.0;                     line-height:1.75\"><font color=\"black\"> tight                    </font></mark><mark style=\"background-color: hsl(120, 75%, 99%); opacity:1.0;                     line-height:1.75\"><font color=\"black\"> and                    </font></mark><mark style=\"background-color: hsl(120, 75%, 100%); opacity:1.0;                     line-height:1.75\"><font color=\"black\"> nasty                    </font></mark><mark style=\"background-color: hsl(120, 75%, 99%); opacity:1.0;                     line-height:1.75\"><font color=\"black\">                     </font></mark><mark style=\"background-color: hsl(0, 75%, 97%); opacity:1.0;                     line-height:1.75\"><font color=\"black\"> #/s                    </font></mark></td><tr></table>"
      ],
      "text/plain": [
       "<IPython.core.display.HTML object>"
      ]
     },
     "metadata": {},
     "output_type": "display_data"
    },
    {
     "name": "stdout",
     "output_type": "stream",
     "text": [
      "<IPython.core.display.HTML object>\n",
      "Raw review: suicidal \n",
      "GT target: 0\n",
      "asd 4\n"
     ]
    },
    {
     "data": {
      "text/html": [
       "<table width: 100%><div style=\"border-top: 1px solid; margin-top: 5px;             padding-top: 5px; display: inline-block\"><b>Legend: </b><span style=\"display: inline-block; width: 10px; height: 10px;                 border: 1px solid; background-color:                 hsl(0, 75%, 60%)\"></span> Negative  <span style=\"display: inline-block; width: 10px; height: 10px;                 border: 1px solid; background-color:                 hsl(0, 75%, 100%)\"></span> Neutral  <span style=\"display: inline-block; width: 10px; height: 10px;                 border: 1px solid; background-color:                 hsl(120, 75%, 50%)\"></span> Positive  </div><tr><th>True Label</th><th>Predicted Label</th><th>Attribution Label</th><th>Attribution Score</th><th>Word Importance</th><tr><td><text style=\"padding-right:2em\"><b>Neg</b></text></td><td><text style=\"padding-right:2em\"><b>Neg (0.00)</b></text></td><td><text style=\"padding-right:2em\"><b>Neg</b></text></td><td><text style=\"padding-right:2em\"><b>-0.60</b></text></td><td><mark style=\"background-color: hsl(0, 75%, 66%); opacity:1.0;                     line-height:1.75\"><font color=\"black\"> #s                    </font></mark><mark style=\"background-color: hsl(120, 75%, 98%); opacity:1.0;                     line-height:1.75\"><font color=\"black\"> suicidal                    </font></mark><mark style=\"background-color: hsl(0, 75%, 91%); opacity:1.0;                     line-height:1.75\"><font color=\"black\">                     </font></mark><mark style=\"background-color: hsl(120, 75%, 79%); opacity:1.0;                     line-height:1.75\"><font color=\"black\"> #/s                    </font></mark></td><tr></table>"
      ],
      "text/plain": [
       "<IPython.core.display.HTML object>"
      ]
     },
     "metadata": {},
     "output_type": "display_data"
    },
    {
     "name": "stdout",
     "output_type": "stream",
     "text": [
      "<IPython.core.display.HTML object>\n",
      "Raw review: is leguizamo 's best movie work so far , a subtle and richly internalized performance \n",
      "GT target: 1\n",
      "asd 18\n"
     ]
    },
    {
     "data": {
      "text/html": [
       "<table width: 100%><div style=\"border-top: 1px solid; margin-top: 5px;             padding-top: 5px; display: inline-block\"><b>Legend: </b><span style=\"display: inline-block; width: 10px; height: 10px;                 border: 1px solid; background-color:                 hsl(0, 75%, 60%)\"></span> Negative  <span style=\"display: inline-block; width: 10px; height: 10px;                 border: 1px solid; background-color:                 hsl(0, 75%, 100%)\"></span> Neutral  <span style=\"display: inline-block; width: 10px; height: 10px;                 border: 1px solid; background-color:                 hsl(120, 75%, 50%)\"></span> Positive  </div><tr><th>True Label</th><th>Predicted Label</th><th>Attribution Label</th><th>Attribution Score</th><th>Word Importance</th><tr><td><text style=\"padding-right:2em\"><b>Pos</b></text></td><td><text style=\"padding-right:2em\"><b>Pos (1.00)</b></text></td><td><text style=\"padding-right:2em\"><b>Neg</b></text></td><td><text style=\"padding-right:2em\"><b>0.03</b></text></td><td><mark style=\"background-color: hsl(120, 75%, 82%); opacity:1.0;                     line-height:1.75\"><font color=\"black\"> #s                    </font></mark><mark style=\"background-color: hsl(0, 75%, 100%); opacity:1.0;                     line-height:1.75\"><font color=\"black\"> is                    </font></mark><mark style=\"background-color: hsl(0, 75%, 99%); opacity:1.0;                     line-height:1.75\"><font color=\"black\"> leguizamo                    </font></mark><mark style=\"background-color: hsl(0, 75%, 85%); opacity:1.0;                     line-height:1.75\"><font color=\"black\"> 's                    </font></mark><mark style=\"background-color: hsl(0, 75%, 78%); opacity:1.0;                     line-height:1.75\"><font color=\"black\"> best                    </font></mark><mark style=\"background-color: hsl(0, 75%, 100%); opacity:1.0;                     line-height:1.75\"><font color=\"black\"> movie                    </font></mark><mark style=\"background-color: hsl(0, 75%, 92%); opacity:1.0;                     line-height:1.75\"><font color=\"black\"> work                    </font></mark><mark style=\"background-color: hsl(0, 75%, 98%); opacity:1.0;                     line-height:1.75\"><font color=\"black\"> so                    </font></mark><mark style=\"background-color: hsl(120, 75%, 100%); opacity:1.0;                     line-height:1.75\"><font color=\"black\"> far                    </font></mark><mark style=\"background-color: hsl(120, 75%, 100%); opacity:1.0;                     line-height:1.75\"><font color=\"black\"> ,                    </font></mark><mark style=\"background-color: hsl(0, 75%, 99%); opacity:1.0;                     line-height:1.75\"><font color=\"black\"> a                    </font></mark><mark style=\"background-color: hsl(0, 75%, 96%); opacity:1.0;                     line-height:1.75\"><font color=\"black\"> subtle                    </font></mark><mark style=\"background-color: hsl(0, 75%, 100%); opacity:1.0;                     line-height:1.75\"><font color=\"black\"> and                    </font></mark><mark style=\"background-color: hsl(120, 75%, 97%); opacity:1.0;                     line-height:1.75\"><font color=\"black\"> richly                    </font></mark><mark style=\"background-color: hsl(0, 75%, 94%); opacity:1.0;                     line-height:1.75\"><font color=\"black\"> internalized                    </font></mark><mark style=\"background-color: hsl(120, 75%, 82%); opacity:1.0;                     line-height:1.75\"><font color=\"black\"> performance                    </font></mark><mark style=\"background-color: hsl(120, 75%, 89%); opacity:1.0;                     line-height:1.75\"><font color=\"black\">                     </font></mark><mark style=\"background-color: hsl(120, 75%, 85%); opacity:1.0;                     line-height:1.75\"><font color=\"black\"> #/s                    </font></mark></td><tr></table>"
      ],
      "text/plain": [
       "<IPython.core.display.HTML object>"
      ]
     },
     "metadata": {},
     "output_type": "display_data"
    },
    {
     "name": "stdout",
     "output_type": "stream",
     "text": [
      "<IPython.core.display.HTML object>\n",
      "Raw review: 'll enjoy this movie . \n",
      "GT target: 1\n",
      "asd 8\n"
     ]
    },
    {
     "data": {
      "text/html": [
       "<table width: 100%><div style=\"border-top: 1px solid; margin-top: 5px;             padding-top: 5px; display: inline-block\"><b>Legend: </b><span style=\"display: inline-block; width: 10px; height: 10px;                 border: 1px solid; background-color:                 hsl(0, 75%, 60%)\"></span> Negative  <span style=\"display: inline-block; width: 10px; height: 10px;                 border: 1px solid; background-color:                 hsl(0, 75%, 100%)\"></span> Neutral  <span style=\"display: inline-block; width: 10px; height: 10px;                 border: 1px solid; background-color:                 hsl(120, 75%, 50%)\"></span> Positive  </div><tr><th>True Label</th><th>Predicted Label</th><th>Attribution Label</th><th>Attribution Score</th><th>Word Importance</th><tr><td><text style=\"padding-right:2em\"><b>Pos</b></text></td><td><text style=\"padding-right:2em\"><b>Pos (1.00)</b></text></td><td><text style=\"padding-right:2em\"><b>Pos</b></text></td><td><text style=\"padding-right:2em\"><b>1.14</b></text></td><td><mark style=\"background-color: hsl(120, 75%, 56%); opacity:1.0;                     line-height:1.75\"><font color=\"black\"> #s                    </font></mark><mark style=\"background-color: hsl(0, 75%, 94%); opacity:1.0;                     line-height:1.75\"><font color=\"black\"> 'll                    </font></mark><mark style=\"background-color: hsl(120, 75%, 87%); opacity:1.0;                     line-height:1.75\"><font color=\"black\"> enjoy                    </font></mark><mark style=\"background-color: hsl(0, 75%, 100%); opacity:1.0;                     line-height:1.75\"><font color=\"black\"> this                    </font></mark><mark style=\"background-color: hsl(120, 75%, 91%); opacity:1.0;                     line-height:1.75\"><font color=\"black\"> movie                    </font></mark><mark style=\"background-color: hsl(120, 75%, 100%); opacity:1.0;                     line-height:1.75\"><font color=\"black\"> .                    </font></mark><mark style=\"background-color: hsl(120, 75%, 93%); opacity:1.0;                     line-height:1.75\"><font color=\"black\">                     </font></mark><mark style=\"background-color: hsl(0, 75%, 92%); opacity:1.0;                     line-height:1.75\"><font color=\"black\"> #/s                    </font></mark></td><tr></table>"
      ],
      "text/plain": [
       "<IPython.core.display.HTML object>"
      ]
     },
     "metadata": {},
     "output_type": "display_data"
    },
    {
     "name": "stdout",
     "output_type": "stream",
     "text": [
      "<IPython.core.display.HTML object>\n",
      "Raw review: is worse : the part where nothing 's happening , or the part where something 's happening \n",
      "GT target: 0\n",
      "asd 20\n"
     ]
    },
    {
     "data": {
      "text/html": [
       "<table width: 100%><div style=\"border-top: 1px solid; margin-top: 5px;             padding-top: 5px; display: inline-block\"><b>Legend: </b><span style=\"display: inline-block; width: 10px; height: 10px;                 border: 1px solid; background-color:                 hsl(0, 75%, 60%)\"></span> Negative  <span style=\"display: inline-block; width: 10px; height: 10px;                 border: 1px solid; background-color:                 hsl(0, 75%, 100%)\"></span> Neutral  <span style=\"display: inline-block; width: 10px; height: 10px;                 border: 1px solid; background-color:                 hsl(120, 75%, 50%)\"></span> Positive  </div><tr><th>True Label</th><th>Predicted Label</th><th>Attribution Label</th><th>Attribution Score</th><th>Word Importance</th><tr><td><text style=\"padding-right:2em\"><b>Neg</b></text></td><td><text style=\"padding-right:2em\"><b>Neg (0.00)</b></text></td><td><text style=\"padding-right:2em\"><b>Neg</b></text></td><td><text style=\"padding-right:2em\"><b>-1.93</b></text></td><td><mark style=\"background-color: hsl(0, 75%, 70%); opacity:1.0;                     line-height:1.75\"><font color=\"black\"> #s                    </font></mark><mark style=\"background-color: hsl(120, 75%, 96%); opacity:1.0;                     line-height:1.75\"><font color=\"black\"> is                    </font></mark><mark style=\"background-color: hsl(0, 75%, 96%); opacity:1.0;                     line-height:1.75\"><font color=\"black\"> worse                    </font></mark><mark style=\"background-color: hsl(120, 75%, 97%); opacity:1.0;                     line-height:1.75\"><font color=\"black\"> :                    </font></mark><mark style=\"background-color: hsl(0, 75%, 80%); opacity:1.0;                     line-height:1.75\"><font color=\"black\"> the                    </font></mark><mark style=\"background-color: hsl(120, 75%, 100%); opacity:1.0;                     line-height:1.75\"><font color=\"black\"> part                    </font></mark><mark style=\"background-color: hsl(0, 75%, 100%); opacity:1.0;                     line-height:1.75\"><font color=\"black\"> where                    </font></mark><mark style=\"background-color: hsl(0, 75%, 89%); opacity:1.0;                     line-height:1.75\"><font color=\"black\"> nothing                    </font></mark><mark style=\"background-color: hsl(0, 75%, 94%); opacity:1.0;                     line-height:1.75\"><font color=\"black\"> 's                    </font></mark><mark style=\"background-color: hsl(0, 75%, 100%); opacity:1.0;                     line-height:1.75\"><font color=\"black\"> happening                    </font></mark><mark style=\"background-color: hsl(0, 75%, 100%); opacity:1.0;                     line-height:1.75\"><font color=\"black\"> ,                    </font></mark><mark style=\"background-color: hsl(0, 75%, 99%); opacity:1.0;                     line-height:1.75\"><font color=\"black\"> or                    </font></mark><mark style=\"background-color: hsl(120, 75%, 97%); opacity:1.0;                     line-height:1.75\"><font color=\"black\"> the                    </font></mark><mark style=\"background-color: hsl(120, 75%, 100%); opacity:1.0;                     line-height:1.75\"><font color=\"black\"> part                    </font></mark><mark style=\"background-color: hsl(0, 75%, 99%); opacity:1.0;                     line-height:1.75\"><font color=\"black\"> where                    </font></mark><mark style=\"background-color: hsl(0, 75%, 99%); opacity:1.0;                     line-height:1.75\"><font color=\"black\"> something                    </font></mark><mark style=\"background-color: hsl(0, 75%, 98%); opacity:1.0;                     line-height:1.75\"><font color=\"black\"> 's                    </font></mark><mark style=\"background-color: hsl(0, 75%, 99%); opacity:1.0;                     line-height:1.75\"><font color=\"black\"> happening                    </font></mark><mark style=\"background-color: hsl(0, 75%, 100%); opacity:1.0;                     line-height:1.75\"><font color=\"black\">                     </font></mark><mark style=\"background-color: hsl(0, 75%, 97%); opacity:1.0;                     line-height:1.75\"><font color=\"black\"> #/s                    </font></mark></td><tr></table>"
      ],
      "text/plain": [
       "<IPython.core.display.HTML object>"
      ]
     },
     "metadata": {},
     "output_type": "display_data"
    },
    {
     "name": "stdout",
     "output_type": "stream",
     "text": [
      "<IPython.core.display.HTML object>\n",
      "Raw review: finds the ideal outlet for his flick-knife diction in the role of roger swanson . \n",
      "GT target: 1\n",
      "asd 18\n"
     ]
    },
    {
     "data": {
      "text/html": [
       "<table width: 100%><div style=\"border-top: 1px solid; margin-top: 5px;             padding-top: 5px; display: inline-block\"><b>Legend: </b><span style=\"display: inline-block; width: 10px; height: 10px;                 border: 1px solid; background-color:                 hsl(0, 75%, 60%)\"></span> Negative  <span style=\"display: inline-block; width: 10px; height: 10px;                 border: 1px solid; background-color:                 hsl(0, 75%, 100%)\"></span> Neutral  <span style=\"display: inline-block; width: 10px; height: 10px;                 border: 1px solid; background-color:                 hsl(120, 75%, 50%)\"></span> Positive  </div><tr><th>True Label</th><th>Predicted Label</th><th>Attribution Label</th><th>Attribution Score</th><th>Word Importance</th><tr><td><text style=\"padding-right:2em\"><b>Pos</b></text></td><td><text style=\"padding-right:2em\"><b>Pos (1.00)</b></text></td><td><text style=\"padding-right:2em\"><b>Neg</b></text></td><td><text style=\"padding-right:2em\"><b>0.29</b></text></td><td><mark style=\"background-color: hsl(120, 75%, 90%); opacity:1.0;                     line-height:1.75\"><font color=\"black\"> #s                    </font></mark><mark style=\"background-color: hsl(120, 75%, 99%); opacity:1.0;                     line-height:1.75\"><font color=\"black\"> finds                    </font></mark><mark style=\"background-color: hsl(120, 75%, 96%); opacity:1.0;                     line-height:1.75\"><font color=\"black\"> the                    </font></mark><mark style=\"background-color: hsl(120, 75%, 77%); opacity:1.0;                     line-height:1.75\"><font color=\"black\"> ideal                    </font></mark><mark style=\"background-color: hsl(120, 75%, 95%); opacity:1.0;                     line-height:1.75\"><font color=\"black\"> outlet                    </font></mark><mark style=\"background-color: hsl(120, 75%, 97%); opacity:1.0;                     line-height:1.75\"><font color=\"black\"> for                    </font></mark><mark style=\"background-color: hsl(120, 75%, 95%); opacity:1.0;                     line-height:1.75\"><font color=\"black\"> his                    </font></mark><mark style=\"background-color: hsl(120, 75%, 92%); opacity:1.0;                     line-height:1.75\"><font color=\"black\"> flick-knife                    </font></mark><mark style=\"background-color: hsl(120, 75%, 99%); opacity:1.0;                     line-height:1.75\"><font color=\"black\"> diction                    </font></mark><mark style=\"background-color: hsl(0, 75%, 69%); opacity:1.0;                     line-height:1.75\"><font color=\"black\"> in                    </font></mark><mark style=\"background-color: hsl(0, 75%, 99%); opacity:1.0;                     line-height:1.75\"><font color=\"black\"> the                    </font></mark><mark style=\"background-color: hsl(120, 75%, 98%); opacity:1.0;                     line-height:1.75\"><font color=\"black\"> role                    </font></mark><mark style=\"background-color: hsl(120, 75%, 100%); opacity:1.0;                     line-height:1.75\"><font color=\"black\"> of                    </font></mark><mark style=\"background-color: hsl(0, 75%, 97%); opacity:1.0;                     line-height:1.75\"><font color=\"black\"> roger                    </font></mark><mark style=\"background-color: hsl(0, 75%, 100%); opacity:1.0;                     line-height:1.75\"><font color=\"black\"> swanson                    </font></mark><mark style=\"background-color: hsl(0, 75%, 96%); opacity:1.0;                     line-height:1.75\"><font color=\"black\"> .                    </font></mark><mark style=\"background-color: hsl(120, 75%, 97%); opacity:1.0;                     line-height:1.75\"><font color=\"black\">                     </font></mark><mark style=\"background-color: hsl(0, 75%, 98%); opacity:1.0;                     line-height:1.75\"><font color=\"black\"> #/s                    </font></mark></td><tr></table>"
      ],
      "text/plain": [
       "<IPython.core.display.HTML object>"
      ]
     },
     "metadata": {},
     "output_type": "display_data"
    },
    {
     "name": "stdout",
     "output_type": "stream",
     "text": [
      "<IPython.core.display.HTML object>\n",
      "Raw review: the best film of the year 2002 . \n",
      "GT target: 1\n",
      "asd 11\n"
     ]
    },
    {
     "data": {
      "text/html": [
       "<table width: 100%><div style=\"border-top: 1px solid; margin-top: 5px;             padding-top: 5px; display: inline-block\"><b>Legend: </b><span style=\"display: inline-block; width: 10px; height: 10px;                 border: 1px solid; background-color:                 hsl(0, 75%, 60%)\"></span> Negative  <span style=\"display: inline-block; width: 10px; height: 10px;                 border: 1px solid; background-color:                 hsl(0, 75%, 100%)\"></span> Neutral  <span style=\"display: inline-block; width: 10px; height: 10px;                 border: 1px solid; background-color:                 hsl(120, 75%, 50%)\"></span> Positive  </div><tr><th>True Label</th><th>Predicted Label</th><th>Attribution Label</th><th>Attribution Score</th><th>Word Importance</th><tr><td><text style=\"padding-right:2em\"><b>Pos</b></text></td><td><text style=\"padding-right:2em\"><b>Pos (1.00)</b></text></td><td><text style=\"padding-right:2em\"><b>Neg</b></text></td><td><text style=\"padding-right:2em\"><b>0.05</b></text></td><td><mark style=\"background-color: hsl(120, 75%, 78%); opacity:1.0;                     line-height:1.75\"><font color=\"black\"> #s                    </font></mark><mark style=\"background-color: hsl(0, 75%, 99%); opacity:1.0;                     line-height:1.75\"><font color=\"black\"> the                    </font></mark><mark style=\"background-color: hsl(120, 75%, 74%); opacity:1.0;                     line-height:1.75\"><font color=\"black\"> best                    </font></mark><mark style=\"background-color: hsl(0, 75%, 100%); opacity:1.0;                     line-height:1.75\"><font color=\"black\"> film                    </font></mark><mark style=\"background-color: hsl(120, 75%, 99%); opacity:1.0;                     line-height:1.75\"><font color=\"black\"> of                    </font></mark><mark style=\"background-color: hsl(0, 75%, 76%); opacity:1.0;                     line-height:1.75\"><font color=\"black\"> the                    </font></mark><mark style=\"background-color: hsl(120, 75%, 97%); opacity:1.0;                     line-height:1.75\"><font color=\"black\"> year                    </font></mark><mark style=\"background-color: hsl(0, 75%, 89%); opacity:1.0;                     line-height:1.75\"><font color=\"black\"> 2002                    </font></mark><mark style=\"background-color: hsl(120, 75%, 97%); opacity:1.0;                     line-height:1.75\"><font color=\"black\"> .                    </font></mark><mark style=\"background-color: hsl(120, 75%, 99%); opacity:1.0;                     line-height:1.75\"><font color=\"black\">                     </font></mark><mark style=\"background-color: hsl(0, 75%, 93%); opacity:1.0;                     line-height:1.75\"><font color=\"black\"> #/s                    </font></mark></td><tr></table>"
      ],
      "text/plain": [
       "<IPython.core.display.HTML object>"
      ]
     },
     "metadata": {},
     "output_type": "display_data"
    },
    {
     "name": "stdout",
     "output_type": "stream",
     "text": [
      "<IPython.core.display.HTML object>\n",
      "Raw review: watch , giggle \n",
      "GT target: 1\n",
      "asd 6\n"
     ]
    },
    {
     "data": {
      "text/html": [
       "<table width: 100%><div style=\"border-top: 1px solid; margin-top: 5px;             padding-top: 5px; display: inline-block\"><b>Legend: </b><span style=\"display: inline-block; width: 10px; height: 10px;                 border: 1px solid; background-color:                 hsl(0, 75%, 60%)\"></span> Negative  <span style=\"display: inline-block; width: 10px; height: 10px;                 border: 1px solid; background-color:                 hsl(0, 75%, 100%)\"></span> Neutral  <span style=\"display: inline-block; width: 10px; height: 10px;                 border: 1px solid; background-color:                 hsl(120, 75%, 50%)\"></span> Positive  </div><tr><th>True Label</th><th>Predicted Label</th><th>Attribution Label</th><th>Attribution Score</th><th>Word Importance</th><tr><td><text style=\"padding-right:2em\"><b>Pos</b></text></td><td><text style=\"padding-right:2em\"><b>Pos (1.00)</b></text></td><td><text style=\"padding-right:2em\"><b>Neg</b></text></td><td><text style=\"padding-right:2em\"><b>-0.77</b></text></td><td><mark style=\"background-color: hsl(0, 75%, 65%); opacity:1.0;                     line-height:1.75\"><font color=\"black\"> #s                    </font></mark><mark style=\"background-color: hsl(0, 75%, 94%); opacity:1.0;                     line-height:1.75\"><font color=\"black\"> watch                    </font></mark><mark style=\"background-color: hsl(120, 75%, 80%); opacity:1.0;                     line-height:1.75\"><font color=\"black\"> ,                    </font></mark><mark style=\"background-color: hsl(0, 75%, 99%); opacity:1.0;                     line-height:1.75\"><font color=\"black\"> giggle                    </font></mark><mark style=\"background-color: hsl(0, 75%, 98%); opacity:1.0;                     line-height:1.75\"><font color=\"black\">                     </font></mark><mark style=\"background-color: hsl(120, 75%, 96%); opacity:1.0;                     line-height:1.75\"><font color=\"black\"> #/s                    </font></mark></td><tr></table>"
      ],
      "text/plain": [
       "<IPython.core.display.HTML object>"
      ]
     },
     "metadata": {},
     "output_type": "display_data"
    },
    {
     "name": "stdout",
     "output_type": "stream",
     "text": [
      "<IPython.core.display.HTML object>\n",
      "Raw review: should jolt you out of your seat a couple of times , give you a few laughs , and leave you feeling like it was worth your seven bucks , even though it does turn out to be a bit of a cheat in the end . \n",
      "GT target: 1\n",
      "asd 50\n"
     ]
    },
    {
     "data": {
      "text/html": [
       "<table width: 100%><div style=\"border-top: 1px solid; margin-top: 5px;             padding-top: 5px; display: inline-block\"><b>Legend: </b><span style=\"display: inline-block; width: 10px; height: 10px;                 border: 1px solid; background-color:                 hsl(0, 75%, 60%)\"></span> Negative  <span style=\"display: inline-block; width: 10px; height: 10px;                 border: 1px solid; background-color:                 hsl(0, 75%, 100%)\"></span> Neutral  <span style=\"display: inline-block; width: 10px; height: 10px;                 border: 1px solid; background-color:                 hsl(120, 75%, 50%)\"></span> Positive  </div><tr><th>True Label</th><th>Predicted Label</th><th>Attribution Label</th><th>Attribution Score</th><th>Word Importance</th><tr><td><text style=\"padding-right:2em\"><b>Pos</b></text></td><td><text style=\"padding-right:2em\"><b>Pos (0.99)</b></text></td><td><text style=\"padding-right:2em\"><b>Neg</b></text></td><td><text style=\"padding-right:2em\"><b>-1.57</b></text></td><td><mark style=\"background-color: hsl(0, 75%, 72%); opacity:1.0;                     line-height:1.75\"><font color=\"black\"> #s                    </font></mark><mark style=\"background-color: hsl(120, 75%, 93%); opacity:1.0;                     line-height:1.75\"><font color=\"black\"> should                    </font></mark><mark style=\"background-color: hsl(0, 75%, 100%); opacity:1.0;                     line-height:1.75\"><font color=\"black\"> jolt                    </font></mark><mark style=\"background-color: hsl(0, 75%, 100%); opacity:1.0;                     line-height:1.75\"><font color=\"black\"> you                    </font></mark><mark style=\"background-color: hsl(120, 75%, 97%); opacity:1.0;                     line-height:1.75\"><font color=\"black\"> out                    </font></mark><mark style=\"background-color: hsl(0, 75%, 99%); opacity:1.0;                     line-height:1.75\"><font color=\"black\"> of                    </font></mark><mark style=\"background-color: hsl(0, 75%, 99%); opacity:1.0;                     line-height:1.75\"><font color=\"black\"> your                    </font></mark><mark style=\"background-color: hsl(0, 75%, 99%); opacity:1.0;                     line-height:1.75\"><font color=\"black\"> seat                    </font></mark><mark style=\"background-color: hsl(120, 75%, 100%); opacity:1.0;                     line-height:1.75\"><font color=\"black\"> a                    </font></mark><mark style=\"background-color: hsl(120, 75%, 99%); opacity:1.0;                     line-height:1.75\"><font color=\"black\"> couple                    </font></mark><mark style=\"background-color: hsl(0, 75%, 97%); opacity:1.0;                     line-height:1.75\"><font color=\"black\"> of                    </font></mark><mark style=\"background-color: hsl(0, 75%, 100%); opacity:1.0;                     line-height:1.75\"><font color=\"black\"> times                    </font></mark><mark style=\"background-color: hsl(0, 75%, 99%); opacity:1.0;                     line-height:1.75\"><font color=\"black\"> ,                    </font></mark><mark style=\"background-color: hsl(0, 75%, 98%); opacity:1.0;                     line-height:1.75\"><font color=\"black\"> give                    </font></mark><mark style=\"background-color: hsl(120, 75%, 99%); opacity:1.0;                     line-height:1.75\"><font color=\"black\"> you                    </font></mark><mark style=\"background-color: hsl(0, 75%, 98%); opacity:1.0;                     line-height:1.75\"><font color=\"black\"> a                    </font></mark><mark style=\"background-color: hsl(0, 75%, 100%); opacity:1.0;                     line-height:1.75\"><font color=\"black\"> few                    </font></mark><mark style=\"background-color: hsl(0, 75%, 100%); opacity:1.0;                     line-height:1.75\"><font color=\"black\"> laughs                    </font></mark><mark style=\"background-color: hsl(0, 75%, 86%); opacity:1.0;                     line-height:1.75\"><font color=\"black\"> ,                    </font></mark><mark style=\"background-color: hsl(0, 75%, 97%); opacity:1.0;                     line-height:1.75\"><font color=\"black\"> and                    </font></mark><mark style=\"background-color: hsl(0, 75%, 94%); opacity:1.0;                     line-height:1.75\"><font color=\"black\"> leave                    </font></mark><mark style=\"background-color: hsl(0, 75%, 99%); opacity:1.0;                     line-height:1.75\"><font color=\"black\"> you                    </font></mark><mark style=\"background-color: hsl(0, 75%, 99%); opacity:1.0;                     line-height:1.75\"><font color=\"black\"> feeling                    </font></mark><mark style=\"background-color: hsl(0, 75%, 99%); opacity:1.0;                     line-height:1.75\"><font color=\"black\"> like                    </font></mark><mark style=\"background-color: hsl(0, 75%, 95%); opacity:1.0;                     line-height:1.75\"><font color=\"black\"> it                    </font></mark><mark style=\"background-color: hsl(120, 75%, 99%); opacity:1.0;                     line-height:1.75\"><font color=\"black\"> was                    </font></mark><mark style=\"background-color: hsl(0, 75%, 99%); opacity:1.0;                     line-height:1.75\"><font color=\"black\"> worth                    </font></mark><mark style=\"background-color: hsl(0, 75%, 99%); opacity:1.0;                     line-height:1.75\"><font color=\"black\"> your                    </font></mark><mark style=\"background-color: hsl(120, 75%, 99%); opacity:1.0;                     line-height:1.75\"><font color=\"black\"> seven                    </font></mark><mark style=\"background-color: hsl(120, 75%, 100%); opacity:1.0;                     line-height:1.75\"><font color=\"black\"> bucks                    </font></mark><mark style=\"background-color: hsl(0, 75%, 97%); opacity:1.0;                     line-height:1.75\"><font color=\"black\"> ,                    </font></mark><mark style=\"background-color: hsl(0, 75%, 97%); opacity:1.0;                     line-height:1.75\"><font color=\"black\"> even                    </font></mark><mark style=\"background-color: hsl(0, 75%, 97%); opacity:1.0;                     line-height:1.75\"><font color=\"black\"> though                    </font></mark><mark style=\"background-color: hsl(0, 75%, 96%); opacity:1.0;                     line-height:1.75\"><font color=\"black\"> it                    </font></mark><mark style=\"background-color: hsl(120, 75%, 100%); opacity:1.0;                     line-height:1.75\"><font color=\"black\"> does                    </font></mark><mark style=\"background-color: hsl(0, 75%, 97%); opacity:1.0;                     line-height:1.75\"><font color=\"black\"> turn                    </font></mark><mark style=\"background-color: hsl(120, 75%, 100%); opacity:1.0;                     line-height:1.75\"><font color=\"black\"> out                    </font></mark><mark style=\"background-color: hsl(120, 75%, 98%); opacity:1.0;                     line-height:1.75\"><font color=\"black\"> to                    </font></mark><mark style=\"background-color: hsl(120, 75%, 81%); opacity:1.0;                     line-height:1.75\"><font color=\"black\"> be                    </font></mark><mark style=\"background-color: hsl(120, 75%, 99%); opacity:1.0;                     line-height:1.75\"><font color=\"black\"> a                    </font></mark><mark style=\"background-color: hsl(120, 75%, 95%); opacity:1.0;                     line-height:1.75\"><font color=\"black\"> bit                    </font></mark><mark style=\"background-color: hsl(120, 75%, 96%); opacity:1.0;                     line-height:1.75\"><font color=\"black\"> of                    </font></mark><mark style=\"background-color: hsl(0, 75%, 97%); opacity:1.0;                     line-height:1.75\"><font color=\"black\"> a                    </font></mark><mark style=\"background-color: hsl(0, 75%, 98%); opacity:1.0;                     line-height:1.75\"><font color=\"black\"> cheat                    </font></mark><mark style=\"background-color: hsl(120, 75%, 94%); opacity:1.0;                     line-height:1.75\"><font color=\"black\"> in                    </font></mark><mark style=\"background-color: hsl(0, 75%, 99%); opacity:1.0;                     line-height:1.75\"><font color=\"black\"> the                    </font></mark><mark style=\"background-color: hsl(120, 75%, 100%); opacity:1.0;                     line-height:1.75\"><font color=\"black\"> end                    </font></mark><mark style=\"background-color: hsl(0, 75%, 98%); opacity:1.0;                     line-height:1.75\"><font color=\"black\"> .                    </font></mark><mark style=\"background-color: hsl(120, 75%, 99%); opacity:1.0;                     line-height:1.75\"><font color=\"black\">                     </font></mark><mark style=\"background-color: hsl(120, 75%, 98%); opacity:1.0;                     line-height:1.75\"><font color=\"black\"> #/s                    </font></mark></td><tr></table>"
      ],
      "text/plain": [
       "<IPython.core.display.HTML object>"
      ]
     },
     "metadata": {},
     "output_type": "display_data"
    },
    {
     "name": "stdout",
     "output_type": "stream",
     "text": [
      "<IPython.core.display.HTML object>\n",
      "Raw review: a pretty good job \n",
      "GT target: 1\n",
      "asd 7\n"
     ]
    },
    {
     "data": {
      "text/html": [
       "<table width: 100%><div style=\"border-top: 1px solid; margin-top: 5px;             padding-top: 5px; display: inline-block\"><b>Legend: </b><span style=\"display: inline-block; width: 10px; height: 10px;                 border: 1px solid; background-color:                 hsl(0, 75%, 60%)\"></span> Negative  <span style=\"display: inline-block; width: 10px; height: 10px;                 border: 1px solid; background-color:                 hsl(0, 75%, 100%)\"></span> Neutral  <span style=\"display: inline-block; width: 10px; height: 10px;                 border: 1px solid; background-color:                 hsl(120, 75%, 50%)\"></span> Positive  </div><tr><th>True Label</th><th>Predicted Label</th><th>Attribution Label</th><th>Attribution Score</th><th>Word Importance</th><tr><td><text style=\"padding-right:2em\"><b>Pos</b></text></td><td><text style=\"padding-right:2em\"><b>Pos (1.00)</b></text></td><td><text style=\"padding-right:2em\"><b>Pos</b></text></td><td><text style=\"padding-right:2em\"><b>1.15</b></text></td><td><mark style=\"background-color: hsl(0, 75%, 98%); opacity:1.0;                     line-height:1.75\"><font color=\"black\"> #s                    </font></mark><mark style=\"background-color: hsl(0, 75%, 85%); opacity:1.0;                     line-height:1.75\"><font color=\"black\"> a                    </font></mark><mark style=\"background-color: hsl(120, 75%, 92%); opacity:1.0;                     line-height:1.75\"><font color=\"black\"> pretty                    </font></mark><mark style=\"background-color: hsl(0, 75%, 100%); opacity:1.0;                     line-height:1.75\"><font color=\"black\"> good                    </font></mark><mark style=\"background-color: hsl(120, 75%, 64%); opacity:1.0;                     line-height:1.75\"><font color=\"black\"> job                    </font></mark><mark style=\"background-color: hsl(120, 75%, 87%); opacity:1.0;                     line-height:1.75\"><font color=\"black\">                     </font></mark><mark style=\"background-color: hsl(120, 75%, 78%); opacity:1.0;                     line-height:1.75\"><font color=\"black\"> #/s                    </font></mark></td><tr></table>"
      ],
      "text/plain": [
       "<IPython.core.display.HTML object>"
      ]
     },
     "metadata": {},
     "output_type": "display_data"
    },
    {
     "name": "stdout",
     "output_type": "stream",
     "text": [
      "<IPython.core.display.HTML object>\n",
      "Raw review: more psychotic than romantic \n",
      "GT target: 0\n",
      "asd 7\n"
     ]
    },
    {
     "data": {
      "text/html": [
       "<table width: 100%><div style=\"border-top: 1px solid; margin-top: 5px;             padding-top: 5px; display: inline-block\"><b>Legend: </b><span style=\"display: inline-block; width: 10px; height: 10px;                 border: 1px solid; background-color:                 hsl(0, 75%, 60%)\"></span> Negative  <span style=\"display: inline-block; width: 10px; height: 10px;                 border: 1px solid; background-color:                 hsl(0, 75%, 100%)\"></span> Neutral  <span style=\"display: inline-block; width: 10px; height: 10px;                 border: 1px solid; background-color:                 hsl(120, 75%, 50%)\"></span> Positive  </div><tr><th>True Label</th><th>Predicted Label</th><th>Attribution Label</th><th>Attribution Score</th><th>Word Importance</th><tr><td><text style=\"padding-right:2em\"><b>Neg</b></text></td><td><text style=\"padding-right:2em\"><b>Neg (0.00)</b></text></td><td><text style=\"padding-right:2em\"><b>Neg</b></text></td><td><text style=\"padding-right:2em\"><b>-0.68</b></text></td><td><mark style=\"background-color: hsl(0, 75%, 80%); opacity:1.0;                     line-height:1.75\"><font color=\"black\"> #s                    </font></mark><mark style=\"background-color: hsl(120, 75%, 96%); opacity:1.0;                     line-height:1.75\"><font color=\"black\"> more                    </font></mark><mark style=\"background-color: hsl(0, 75%, 87%); opacity:1.0;                     line-height:1.75\"><font color=\"black\"> psychotic                    </font></mark><mark style=\"background-color: hsl(0, 75%, 96%); opacity:1.0;                     line-height:1.75\"><font color=\"black\"> than                    </font></mark><mark style=\"background-color: hsl(0, 75%, 91%); opacity:1.0;                     line-height:1.75\"><font color=\"black\"> romantic                    </font></mark><mark style=\"background-color: hsl(0, 75%, 89%); opacity:1.0;                     line-height:1.75\"><font color=\"black\">                     </font></mark><mark style=\"background-color: hsl(120, 75%, 66%); opacity:1.0;                     line-height:1.75\"><font color=\"black\"> #/s                    </font></mark></td><tr></table>"
      ],
      "text/plain": [
       "<IPython.core.display.HTML object>"
      ]
     },
     "metadata": {},
     "output_type": "display_data"
    },
    {
     "name": "stdout",
     "output_type": "stream",
     "text": [
      "<IPython.core.display.HTML object>\n",
      "Raw review: being gullible \n",
      "GT target: 0\n",
      "asd 5\n"
     ]
    },
    {
     "data": {
      "text/html": [
       "<table width: 100%><div style=\"border-top: 1px solid; margin-top: 5px;             padding-top: 5px; display: inline-block\"><b>Legend: </b><span style=\"display: inline-block; width: 10px; height: 10px;                 border: 1px solid; background-color:                 hsl(0, 75%, 60%)\"></span> Negative  <span style=\"display: inline-block; width: 10px; height: 10px;                 border: 1px solid; background-color:                 hsl(0, 75%, 100%)\"></span> Neutral  <span style=\"display: inline-block; width: 10px; height: 10px;                 border: 1px solid; background-color:                 hsl(120, 75%, 50%)\"></span> Positive  </div><tr><th>True Label</th><th>Predicted Label</th><th>Attribution Label</th><th>Attribution Score</th><th>Word Importance</th><tr><td><text style=\"padding-right:2em\"><b>Neg</b></text></td><td><text style=\"padding-right:2em\"><b>Neg (0.00)</b></text></td><td><text style=\"padding-right:2em\"><b>Pos</b></text></td><td><text style=\"padding-right:2em\"><b>0.94</b></text></td><td><mark style=\"background-color: hsl(120, 75%, 97%); opacity:1.0;                     line-height:1.75\"><font color=\"black\"> #s                    </font></mark><mark style=\"background-color: hsl(120, 75%, 54%); opacity:1.0;                     line-height:1.75\"><font color=\"black\"> being                    </font></mark><mark style=\"background-color: hsl(0, 75%, 99%); opacity:1.0;                     line-height:1.75\"><font color=\"black\"> gullible                    </font></mark><mark style=\"background-color: hsl(0, 75%, 89%); opacity:1.0;                     line-height:1.75\"><font color=\"black\">                     </font></mark><mark style=\"background-color: hsl(120, 75%, 87%); opacity:1.0;                     line-height:1.75\"><font color=\"black\"> #/s                    </font></mark></td><tr></table>"
      ],
      "text/plain": [
       "<IPython.core.display.HTML object>"
      ]
     },
     "metadata": {},
     "output_type": "display_data"
    },
    {
     "name": "stdout",
     "output_type": "stream",
     "text": [
      "<IPython.core.display.HTML object>\n",
      "Raw review: teen-sleaze equivalent \n",
      "GT target: 0\n",
      "asd 5\n"
     ]
    },
    {
     "data": {
      "text/html": [
       "<table width: 100%><div style=\"border-top: 1px solid; margin-top: 5px;             padding-top: 5px; display: inline-block\"><b>Legend: </b><span style=\"display: inline-block; width: 10px; height: 10px;                 border: 1px solid; background-color:                 hsl(0, 75%, 60%)\"></span> Negative  <span style=\"display: inline-block; width: 10px; height: 10px;                 border: 1px solid; background-color:                 hsl(0, 75%, 100%)\"></span> Neutral  <span style=\"display: inline-block; width: 10px; height: 10px;                 border: 1px solid; background-color:                 hsl(120, 75%, 50%)\"></span> Positive  </div><tr><th>True Label</th><th>Predicted Label</th><th>Attribution Label</th><th>Attribution Score</th><th>Word Importance</th><tr><td><text style=\"padding-right:2em\"><b>Neg</b></text></td><td><text style=\"padding-right:2em\"><b>Neg (0.01)</b></text></td><td><text style=\"padding-right:2em\"><b>Neg</b></text></td><td><text style=\"padding-right:2em\"><b>-1.42</b></text></td><td><mark style=\"background-color: hsl(0, 75%, 71%); opacity:1.0;                     line-height:1.75\"><font color=\"black\"> #s                    </font></mark><mark style=\"background-color: hsl(120, 75%, 97%); opacity:1.0;                     line-height:1.75\"><font color=\"black\"> teen-sleaze                    </font></mark><mark style=\"background-color: hsl(0, 75%, 95%); opacity:1.0;                     line-height:1.75\"><font color=\"black\"> equivalent                    </font></mark><mark style=\"background-color: hsl(0, 75%, 99%); opacity:1.0;                     line-height:1.75\"><font color=\"black\">                     </font></mark><mark style=\"background-color: hsl(0, 75%, 74%); opacity:1.0;                     line-height:1.75\"><font color=\"black\"> #/s                    </font></mark></td><tr></table>"
      ],
      "text/plain": [
       "<IPython.core.display.HTML object>"
      ]
     },
     "metadata": {},
     "output_type": "display_data"
    },
    {
     "name": "stdout",
     "output_type": "stream",
     "text": [
      "<IPython.core.display.HTML object>\n",
      "Raw review: symbolic \n",
      "GT target: 1\n",
      "asd 4\n"
     ]
    },
    {
     "data": {
      "text/html": [
       "<table width: 100%><div style=\"border-top: 1px solid; margin-top: 5px;             padding-top: 5px; display: inline-block\"><b>Legend: </b><span style=\"display: inline-block; width: 10px; height: 10px;                 border: 1px solid; background-color:                 hsl(0, 75%, 60%)\"></span> Negative  <span style=\"display: inline-block; width: 10px; height: 10px;                 border: 1px solid; background-color:                 hsl(0, 75%, 100%)\"></span> Neutral  <span style=\"display: inline-block; width: 10px; height: 10px;                 border: 1px solid; background-color:                 hsl(120, 75%, 50%)\"></span> Positive  </div><tr><th>True Label</th><th>Predicted Label</th><th>Attribution Label</th><th>Attribution Score</th><th>Word Importance</th><tr><td><text style=\"padding-right:2em\"><b>Pos</b></text></td><td><text style=\"padding-right:2em\"><b>Neg (0.01)</b></text></td><td><text style=\"padding-right:2em\"><b>Neg</b></text></td><td><text style=\"padding-right:2em\"><b>-1.15</b></text></td><td><mark style=\"background-color: hsl(0, 75%, 96%); opacity:1.0;                     line-height:1.75\"><font color=\"black\"> #s                    </font></mark><mark style=\"background-color: hsl(0, 75%, 62%); opacity:1.0;                     line-height:1.75\"><font color=\"black\"> symbolic                    </font></mark><mark style=\"background-color: hsl(0, 75%, 91%); opacity:1.0;                     line-height:1.75\"><font color=\"black\">                     </font></mark><mark style=\"background-color: hsl(0, 75%, 98%); opacity:1.0;                     line-height:1.75\"><font color=\"black\"> #/s                    </font></mark></td><tr></table>"
      ],
      "text/plain": [
       "<IPython.core.display.HTML object>"
      ]
     },
     "metadata": {},
     "output_type": "display_data"
    },
    {
     "name": "stdout",
     "output_type": "stream",
     "text": [
      "<IPython.core.display.HTML object>\n",
      "Raw review: a sense of action \n",
      "GT target: 1\n",
      "asd 7\n"
     ]
    },
    {
     "data": {
      "text/html": [
       "<table width: 100%><div style=\"border-top: 1px solid; margin-top: 5px;             padding-top: 5px; display: inline-block\"><b>Legend: </b><span style=\"display: inline-block; width: 10px; height: 10px;                 border: 1px solid; background-color:                 hsl(0, 75%, 60%)\"></span> Negative  <span style=\"display: inline-block; width: 10px; height: 10px;                 border: 1px solid; background-color:                 hsl(0, 75%, 100%)\"></span> Neutral  <span style=\"display: inline-block; width: 10px; height: 10px;                 border: 1px solid; background-color:                 hsl(120, 75%, 50%)\"></span> Positive  </div><tr><th>True Label</th><th>Predicted Label</th><th>Attribution Label</th><th>Attribution Score</th><th>Word Importance</th><tr><td><text style=\"padding-right:2em\"><b>Pos</b></text></td><td><text style=\"padding-right:2em\"><b>Pos (1.00)</b></text></td><td><text style=\"padding-right:2em\"><b>Neg</b></text></td><td><text style=\"padding-right:2em\"><b>-0.17</b></text></td><td><mark style=\"background-color: hsl(0, 75%, 67%); opacity:1.0;                     line-height:1.75\"><font color=\"black\"> #s                    </font></mark><mark style=\"background-color: hsl(0, 75%, 93%); opacity:1.0;                     line-height:1.75\"><font color=\"black\"> a                    </font></mark><mark style=\"background-color: hsl(120, 75%, 96%); opacity:1.0;                     line-height:1.75\"><font color=\"black\"> sense                    </font></mark><mark style=\"background-color: hsl(120, 75%, 94%); opacity:1.0;                     line-height:1.75\"><font color=\"black\"> of                    </font></mark><mark style=\"background-color: hsl(120, 75%, 77%); opacity:1.0;                     line-height:1.75\"><font color=\"black\"> action                    </font></mark><mark style=\"background-color: hsl(120, 75%, 95%); opacity:1.0;                     line-height:1.75\"><font color=\"black\">                     </font></mark><mark style=\"background-color: hsl(120, 75%, 98%); opacity:1.0;                     line-height:1.75\"><font color=\"black\"> #/s                    </font></mark></td><tr></table>"
      ],
      "text/plain": [
       "<IPython.core.display.HTML object>"
      ]
     },
     "metadata": {},
     "output_type": "display_data"
    },
    {
     "name": "stdout",
     "output_type": "stream",
     "text": [
      "<IPython.core.display.HTML object>\n",
      "Raw review: , overnight , is robbed and replaced with a persecuted `` other \n",
      "GT target: 0\n",
      "asd 15\n"
     ]
    },
    {
     "data": {
      "text/html": [
       "<table width: 100%><div style=\"border-top: 1px solid; margin-top: 5px;             padding-top: 5px; display: inline-block\"><b>Legend: </b><span style=\"display: inline-block; width: 10px; height: 10px;                 border: 1px solid; background-color:                 hsl(0, 75%, 60%)\"></span> Negative  <span style=\"display: inline-block; width: 10px; height: 10px;                 border: 1px solid; background-color:                 hsl(0, 75%, 100%)\"></span> Neutral  <span style=\"display: inline-block; width: 10px; height: 10px;                 border: 1px solid; background-color:                 hsl(120, 75%, 50%)\"></span> Positive  </div><tr><th>True Label</th><th>Predicted Label</th><th>Attribution Label</th><th>Attribution Score</th><th>Word Importance</th><tr><td><text style=\"padding-right:2em\"><b>Neg</b></text></td><td><text style=\"padding-right:2em\"><b>Neg (0.00)</b></text></td><td><text style=\"padding-right:2em\"><b>Neg</b></text></td><td><text style=\"padding-right:2em\"><b>-0.62</b></text></td><td><mark style=\"background-color: hsl(0, 75%, 82%); opacity:1.0;                     line-height:1.75\"><font color=\"black\"> #s                    </font></mark><mark style=\"background-color: hsl(120, 75%, 100%); opacity:1.0;                     line-height:1.75\"><font color=\"black\"> ,                    </font></mark><mark style=\"background-color: hsl(0, 75%, 99%); opacity:1.0;                     line-height:1.75\"><font color=\"black\"> overnight                    </font></mark><mark style=\"background-color: hsl(120, 75%, 99%); opacity:1.0;                     line-height:1.75\"><font color=\"black\"> ,                    </font></mark><mark style=\"background-color: hsl(120, 75%, 99%); opacity:1.0;                     line-height:1.75\"><font color=\"black\"> is                    </font></mark><mark style=\"background-color: hsl(120, 75%, 100%); opacity:1.0;                     line-height:1.75\"><font color=\"black\"> robbed                    </font></mark><mark style=\"background-color: hsl(120, 75%, 98%); opacity:1.0;                     line-height:1.75\"><font color=\"black\"> and                    </font></mark><mark style=\"background-color: hsl(120, 75%, 91%); opacity:1.0;                     line-height:1.75\"><font color=\"black\"> replaced                    </font></mark><mark style=\"background-color: hsl(120, 75%, 85%); opacity:1.0;                     line-height:1.75\"><font color=\"black\"> with                    </font></mark><mark style=\"background-color: hsl(120, 75%, 99%); opacity:1.0;                     line-height:1.75\"><font color=\"black\"> a                    </font></mark><mark style=\"background-color: hsl(0, 75%, 68%); opacity:1.0;                     line-height:1.75\"><font color=\"black\"> persecuted                    </font></mark><mark style=\"background-color: hsl(120, 75%, 99%); opacity:1.0;                     line-height:1.75\"><font color=\"black\"> ``                    </font></mark><mark style=\"background-color: hsl(0, 75%, 100%); opacity:1.0;                     line-height:1.75\"><font color=\"black\"> other                    </font></mark><mark style=\"background-color: hsl(120, 75%, 99%); opacity:1.0;                     line-height:1.75\"><font color=\"black\">                     </font></mark><mark style=\"background-color: hsl(0, 75%, 100%); opacity:1.0;                     line-height:1.75\"><font color=\"black\"> #/s                    </font></mark></td><tr></table>"
      ],
      "text/plain": [
       "<IPython.core.display.HTML object>"
      ]
     },
     "metadata": {},
     "output_type": "display_data"
    },
    {
     "name": "stdout",
     "output_type": "stream",
     "text": [
      "<IPython.core.display.HTML object>\n",
      "Raw review: conjure proper respect for followers of the whole dead-undead genre , who deserve more from a vampire pic than a few shrieky special effects \n",
      "GT target: 0\n",
      "asd 27\n"
     ]
    },
    {
     "data": {
      "text/html": [
       "<table width: 100%><div style=\"border-top: 1px solid; margin-top: 5px;             padding-top: 5px; display: inline-block\"><b>Legend: </b><span style=\"display: inline-block; width: 10px; height: 10px;                 border: 1px solid; background-color:                 hsl(0, 75%, 60%)\"></span> Negative  <span style=\"display: inline-block; width: 10px; height: 10px;                 border: 1px solid; background-color:                 hsl(0, 75%, 100%)\"></span> Neutral  <span style=\"display: inline-block; width: 10px; height: 10px;                 border: 1px solid; background-color:                 hsl(120, 75%, 50%)\"></span> Positive  </div><tr><th>True Label</th><th>Predicted Label</th><th>Attribution Label</th><th>Attribution Score</th><th>Word Importance</th><tr><td><text style=\"padding-right:2em\"><b>Neg</b></text></td><td><text style=\"padding-right:2em\"><b>Neg (0.00)</b></text></td><td><text style=\"padding-right:2em\"><b>Neg</b></text></td><td><text style=\"padding-right:2em\"><b>-0.24</b></text></td><td><mark style=\"background-color: hsl(0, 75%, 91%); opacity:1.0;                     line-height:1.75\"><font color=\"black\"> #s                    </font></mark><mark style=\"background-color: hsl(120, 75%, 100%); opacity:1.0;                     line-height:1.75\"><font color=\"black\"> conjure                    </font></mark><mark style=\"background-color: hsl(120, 75%, 100%); opacity:1.0;                     line-height:1.75\"><font color=\"black\"> proper                    </font></mark><mark style=\"background-color: hsl(0, 75%, 100%); opacity:1.0;                     line-height:1.75\"><font color=\"black\"> respect                    </font></mark><mark style=\"background-color: hsl(0, 75%, 94%); opacity:1.0;                     line-height:1.75\"><font color=\"black\"> for                    </font></mark><mark style=\"background-color: hsl(0, 75%, 98%); opacity:1.0;                     line-height:1.75\"><font color=\"black\"> followers                    </font></mark><mark style=\"background-color: hsl(0, 75%, 100%); opacity:1.0;                     line-height:1.75\"><font color=\"black\"> of                    </font></mark><mark style=\"background-color: hsl(120, 75%, 100%); opacity:1.0;                     line-height:1.75\"><font color=\"black\"> the                    </font></mark><mark style=\"background-color: hsl(0, 75%, 99%); opacity:1.0;                     line-height:1.75\"><font color=\"black\"> whole                    </font></mark><mark style=\"background-color: hsl(120, 75%, 100%); opacity:1.0;                     line-height:1.75\"><font color=\"black\"> dead-undead                    </font></mark><mark style=\"background-color: hsl(0, 75%, 100%); opacity:1.0;                     line-height:1.75\"><font color=\"black\"> genre                    </font></mark><mark style=\"background-color: hsl(0, 75%, 94%); opacity:1.0;                     line-height:1.75\"><font color=\"black\"> ,                    </font></mark><mark style=\"background-color: hsl(0, 75%, 98%); opacity:1.0;                     line-height:1.75\"><font color=\"black\"> who                    </font></mark><mark style=\"background-color: hsl(0, 75%, 99%); opacity:1.0;                     line-height:1.75\"><font color=\"black\"> deserve                    </font></mark><mark style=\"background-color: hsl(120, 75%, 100%); opacity:1.0;                     line-height:1.75\"><font color=\"black\"> more                    </font></mark><mark style=\"background-color: hsl(120, 75%, 99%); opacity:1.0;                     line-height:1.75\"><font color=\"black\"> from                    </font></mark><mark style=\"background-color: hsl(0, 75%, 100%); opacity:1.0;                     line-height:1.75\"><font color=\"black\"> a                    </font></mark><mark style=\"background-color: hsl(120, 75%, 97%); opacity:1.0;                     line-height:1.75\"><font color=\"black\"> vampire                    </font></mark><mark style=\"background-color: hsl(0, 75%, 96%); opacity:1.0;                     line-height:1.75\"><font color=\"black\"> pic                    </font></mark><mark style=\"background-color: hsl(0, 75%, 97%); opacity:1.0;                     line-height:1.75\"><font color=\"black\"> than                    </font></mark><mark style=\"background-color: hsl(0, 75%, 99%); opacity:1.0;                     line-height:1.75\"><font color=\"black\"> a                    </font></mark><mark style=\"background-color: hsl(0, 75%, 100%); opacity:1.0;                     line-height:1.75\"><font color=\"black\"> few                    </font></mark><mark style=\"background-color: hsl(0, 75%, 98%); opacity:1.0;                     line-height:1.75\"><font color=\"black\"> shrieky                    </font></mark><mark style=\"background-color: hsl(0, 75%, 99%); opacity:1.0;                     line-height:1.75\"><font color=\"black\"> special                    </font></mark><mark style=\"background-color: hsl(120, 75%, 55%); opacity:1.0;                     line-height:1.75\"><font color=\"black\"> effects                    </font></mark><mark style=\"background-color: hsl(120, 75%, 100%); opacity:1.0;                     line-height:1.75\"><font color=\"black\">                     </font></mark><mark style=\"background-color: hsl(0, 75%, 100%); opacity:1.0;                     line-height:1.75\"><font color=\"black\"> #/s                    </font></mark></td><tr></table>"
      ],
      "text/plain": [
       "<IPython.core.display.HTML object>"
      ]
     },
     "metadata": {},
     "output_type": "display_data"
    },
    {
     "name": "stdout",
     "output_type": "stream",
     "text": [
      "<IPython.core.display.HTML object>\n",
      "Raw review: our culture is headed down the toilet with the ferocity of a frozen burrito after an all-night tequila bender -- and i know this because i 've seen ` jackass : the movie \n",
      "GT target: 0\n",
      "asd 36\n"
     ]
    },
    {
     "data": {
      "text/html": [
       "<table width: 100%><div style=\"border-top: 1px solid; margin-top: 5px;             padding-top: 5px; display: inline-block\"><b>Legend: </b><span style=\"display: inline-block; width: 10px; height: 10px;                 border: 1px solid; background-color:                 hsl(0, 75%, 60%)\"></span> Negative  <span style=\"display: inline-block; width: 10px; height: 10px;                 border: 1px solid; background-color:                 hsl(0, 75%, 100%)\"></span> Neutral  <span style=\"display: inline-block; width: 10px; height: 10px;                 border: 1px solid; background-color:                 hsl(120, 75%, 50%)\"></span> Positive  </div><tr><th>True Label</th><th>Predicted Label</th><th>Attribution Label</th><th>Attribution Score</th><th>Word Importance</th><tr><td><text style=\"padding-right:2em\"><b>Neg</b></text></td><td><text style=\"padding-right:2em\"><b>Neg (0.01)</b></text></td><td><text style=\"padding-right:2em\"><b>Neg</b></text></td><td><text style=\"padding-right:2em\"><b>-0.40</b></text></td><td><mark style=\"background-color: hsl(0, 75%, 85%); opacity:1.0;                     line-height:1.75\"><font color=\"black\"> #s                    </font></mark><mark style=\"background-color: hsl(120, 75%, 93%); opacity:1.0;                     line-height:1.75\"><font color=\"black\"> our                    </font></mark><mark style=\"background-color: hsl(120, 75%, 97%); opacity:1.0;                     line-height:1.75\"><font color=\"black\"> culture                    </font></mark><mark style=\"background-color: hsl(0, 75%, 98%); opacity:1.0;                     line-height:1.75\"><font color=\"black\"> is                    </font></mark><mark style=\"background-color: hsl(0, 75%, 94%); opacity:1.0;                     line-height:1.75\"><font color=\"black\"> headed                    </font></mark><mark style=\"background-color: hsl(0, 75%, 99%); opacity:1.0;                     line-height:1.75\"><font color=\"black\"> down                    </font></mark><mark style=\"background-color: hsl(0, 75%, 98%); opacity:1.0;                     line-height:1.75\"><font color=\"black\"> the                    </font></mark><mark style=\"background-color: hsl(0, 75%, 74%); opacity:1.0;                     line-height:1.75\"><font color=\"black\"> toilet                    </font></mark><mark style=\"background-color: hsl(0, 75%, 100%); opacity:1.0;                     line-height:1.75\"><font color=\"black\"> with                    </font></mark><mark style=\"background-color: hsl(120, 75%, 89%); opacity:1.0;                     line-height:1.75\"><font color=\"black\"> the                    </font></mark><mark style=\"background-color: hsl(120, 75%, 95%); opacity:1.0;                     line-height:1.75\"><font color=\"black\"> ferocity                    </font></mark><mark style=\"background-color: hsl(120, 75%, 99%); opacity:1.0;                     line-height:1.75\"><font color=\"black\"> of                    </font></mark><mark style=\"background-color: hsl(0, 75%, 100%); opacity:1.0;                     line-height:1.75\"><font color=\"black\"> a                    </font></mark><mark style=\"background-color: hsl(120, 75%, 96%); opacity:1.0;                     line-height:1.75\"><font color=\"black\"> frozen                    </font></mark><mark style=\"background-color: hsl(0, 75%, 91%); opacity:1.0;                     line-height:1.75\"><font color=\"black\"> burrito                    </font></mark><mark style=\"background-color: hsl(120, 75%, 91%); opacity:1.0;                     line-height:1.75\"><font color=\"black\"> after                    </font></mark><mark style=\"background-color: hsl(0, 75%, 99%); opacity:1.0;                     line-height:1.75\"><font color=\"black\"> an                    </font></mark><mark style=\"background-color: hsl(120, 75%, 100%); opacity:1.0;                     line-height:1.75\"><font color=\"black\"> all-night                    </font></mark><mark style=\"background-color: hsl(120, 75%, 99%); opacity:1.0;                     line-height:1.75\"><font color=\"black\"> tequila                    </font></mark><mark style=\"background-color: hsl(0, 75%, 100%); opacity:1.0;                     line-height:1.75\"><font color=\"black\"> bender                    </font></mark><mark style=\"background-color: hsl(120, 75%, 100%); opacity:1.0;                     line-height:1.75\"><font color=\"black\"> --                    </font></mark><mark style=\"background-color: hsl(120, 75%, 98%); opacity:1.0;                     line-height:1.75\"><font color=\"black\"> and                    </font></mark><mark style=\"background-color: hsl(120, 75%, 96%); opacity:1.0;                     line-height:1.75\"><font color=\"black\"> i                    </font></mark><mark style=\"background-color: hsl(120, 75%, 96%); opacity:1.0;                     line-height:1.75\"><font color=\"black\"> know                    </font></mark><mark style=\"background-color: hsl(120, 75%, 98%); opacity:1.0;                     line-height:1.75\"><font color=\"black\"> this                    </font></mark><mark style=\"background-color: hsl(0, 75%, 97%); opacity:1.0;                     line-height:1.75\"><font color=\"black\"> because                    </font></mark><mark style=\"background-color: hsl(0, 75%, 92%); opacity:1.0;                     line-height:1.75\"><font color=\"black\"> i                    </font></mark><mark style=\"background-color: hsl(120, 75%, 99%); opacity:1.0;                     line-height:1.75\"><font color=\"black\"> 've                    </font></mark><mark style=\"background-color: hsl(120, 75%, 97%); opacity:1.0;                     line-height:1.75\"><font color=\"black\"> seen                    </font></mark><mark style=\"background-color: hsl(0, 75%, 99%); opacity:1.0;                     line-height:1.75\"><font color=\"black\"> `                    </font></mark><mark style=\"background-color: hsl(0, 75%, 96%); opacity:1.0;                     line-height:1.75\"><font color=\"black\"> jackass                    </font></mark><mark style=\"background-color: hsl(0, 75%, 99%); opacity:1.0;                     line-height:1.75\"><font color=\"black\"> :                    </font></mark><mark style=\"background-color: hsl(120, 75%, 94%); opacity:1.0;                     line-height:1.75\"><font color=\"black\"> the                    </font></mark><mark style=\"background-color: hsl(0, 75%, 100%); opacity:1.0;                     line-height:1.75\"><font color=\"black\"> movie                    </font></mark><mark style=\"background-color: hsl(120, 75%, 96%); opacity:1.0;                     line-height:1.75\"><font color=\"black\">                     </font></mark><mark style=\"background-color: hsl(120, 75%, 98%); opacity:1.0;                     line-height:1.75\"><font color=\"black\"> #/s                    </font></mark></td><tr></table>"
      ],
      "text/plain": [
       "<IPython.core.display.HTML object>"
      ]
     },
     "metadata": {},
     "output_type": "display_data"
    },
    {
     "name": "stdout",
     "output_type": "stream",
     "text": [
      "<IPython.core.display.HTML object>\n",
      "Raw review: 's all surface psychodramatics \n",
      "GT target: 0\n",
      "asd 7\n"
     ]
    },
    {
     "data": {
      "text/html": [
       "<table width: 100%><div style=\"border-top: 1px solid; margin-top: 5px;             padding-top: 5px; display: inline-block\"><b>Legend: </b><span style=\"display: inline-block; width: 10px; height: 10px;                 border: 1px solid; background-color:                 hsl(0, 75%, 60%)\"></span> Negative  <span style=\"display: inline-block; width: 10px; height: 10px;                 border: 1px solid; background-color:                 hsl(0, 75%, 100%)\"></span> Neutral  <span style=\"display: inline-block; width: 10px; height: 10px;                 border: 1px solid; background-color:                 hsl(120, 75%, 50%)\"></span> Positive  </div><tr><th>True Label</th><th>Predicted Label</th><th>Attribution Label</th><th>Attribution Score</th><th>Word Importance</th><tr><td><text style=\"padding-right:2em\"><b>Neg</b></text></td><td><text style=\"padding-right:2em\"><b>Neg (0.00)</b></text></td><td><text style=\"padding-right:2em\"><b>Neg</b></text></td><td><text style=\"padding-right:2em\"><b>-0.26</b></text></td><td><mark style=\"background-color: hsl(120, 75%, 96%); opacity:1.0;                     line-height:1.75\"><font color=\"black\"> #s                    </font></mark><mark style=\"background-color: hsl(0, 75%, 66%); opacity:1.0;                     line-height:1.75\"><font color=\"black\"> 's                    </font></mark><mark style=\"background-color: hsl(0, 75%, 95%); opacity:1.0;                     line-height:1.75\"><font color=\"black\"> all                    </font></mark><mark style=\"background-color: hsl(0, 75%, 99%); opacity:1.0;                     line-height:1.75\"><font color=\"black\"> surface                    </font></mark><mark style=\"background-color: hsl(120, 75%, 90%); opacity:1.0;                     line-height:1.75\"><font color=\"black\"> psychodramatics                    </font></mark><mark style=\"background-color: hsl(120, 75%, 95%); opacity:1.0;                     line-height:1.75\"><font color=\"black\">                     </font></mark><mark style=\"background-color: hsl(120, 75%, 94%); opacity:1.0;                     line-height:1.75\"><font color=\"black\"> #/s                    </font></mark></td><tr></table>"
      ],
      "text/plain": [
       "<IPython.core.display.HTML object>"
      ]
     },
     "metadata": {},
     "output_type": "display_data"
    },
    {
     "name": "stdout",
     "output_type": "stream",
     "text": [
      "<IPython.core.display.HTML object>\n",
      "Raw review: a beautiful food entrée that is n't heated properly , so that it ends up a bit cold and relatively flavorless \n",
      "GT target: 0\n",
      "asd 24\n"
     ]
    },
    {
     "data": {
      "text/html": [
       "<table width: 100%><div style=\"border-top: 1px solid; margin-top: 5px;             padding-top: 5px; display: inline-block\"><b>Legend: </b><span style=\"display: inline-block; width: 10px; height: 10px;                 border: 1px solid; background-color:                 hsl(0, 75%, 60%)\"></span> Negative  <span style=\"display: inline-block; width: 10px; height: 10px;                 border: 1px solid; background-color:                 hsl(0, 75%, 100%)\"></span> Neutral  <span style=\"display: inline-block; width: 10px; height: 10px;                 border: 1px solid; background-color:                 hsl(120, 75%, 50%)\"></span> Positive  </div><tr><th>True Label</th><th>Predicted Label</th><th>Attribution Label</th><th>Attribution Score</th><th>Word Importance</th><tr><td><text style=\"padding-right:2em\"><b>Neg</b></text></td><td><text style=\"padding-right:2em\"><b>Neg (0.00)</b></text></td><td><text style=\"padding-right:2em\"><b>Neg</b></text></td><td><text style=\"padding-right:2em\"><b>-2.41</b></text></td><td><mark style=\"background-color: hsl(0, 75%, 83%); opacity:1.0;                     line-height:1.75\"><font color=\"black\"> #s                    </font></mark><mark style=\"background-color: hsl(0, 75%, 98%); opacity:1.0;                     line-height:1.75\"><font color=\"black\"> a                    </font></mark><mark style=\"background-color: hsl(120, 75%, 99%); opacity:1.0;                     line-height:1.75\"><font color=\"black\"> beautiful                    </font></mark><mark style=\"background-color: hsl(0, 75%, 99%); opacity:1.0;                     line-height:1.75\"><font color=\"black\"> food                    </font></mark><mark style=\"background-color: hsl(0, 75%, 99%); opacity:1.0;                     line-height:1.75\"><font color=\"black\"> entrÃ©e                    </font></mark><mark style=\"background-color: hsl(0, 75%, 100%); opacity:1.0;                     line-height:1.75\"><font color=\"black\"> that                    </font></mark><mark style=\"background-color: hsl(0, 75%, 85%); opacity:1.0;                     line-height:1.75\"><font color=\"black\"> is                    </font></mark><mark style=\"background-color: hsl(0, 75%, 95%); opacity:1.0;                     line-height:1.75\"><font color=\"black\"> n't                    </font></mark><mark style=\"background-color: hsl(120, 75%, 97%); opacity:1.0;                     line-height:1.75\"><font color=\"black\"> heated                    </font></mark><mark style=\"background-color: hsl(0, 75%, 95%); opacity:1.0;                     line-height:1.75\"><font color=\"black\"> properly                    </font></mark><mark style=\"background-color: hsl(0, 75%, 94%); opacity:1.0;                     line-height:1.75\"><font color=\"black\"> ,                    </font></mark><mark style=\"background-color: hsl(0, 75%, 90%); opacity:1.0;                     line-height:1.75\"><font color=\"black\"> so                    </font></mark><mark style=\"background-color: hsl(0, 75%, 98%); opacity:1.0;                     line-height:1.75\"><font color=\"black\"> that                    </font></mark><mark style=\"background-color: hsl(0, 75%, 95%); opacity:1.0;                     line-height:1.75\"><font color=\"black\"> it                    </font></mark><mark style=\"background-color: hsl(120, 75%, 97%); opacity:1.0;                     line-height:1.75\"><font color=\"black\"> ends                    </font></mark><mark style=\"background-color: hsl(0, 75%, 95%); opacity:1.0;                     line-height:1.75\"><font color=\"black\"> up                    </font></mark><mark style=\"background-color: hsl(120, 75%, 99%); opacity:1.0;                     line-height:1.75\"><font color=\"black\"> a                    </font></mark><mark style=\"background-color: hsl(0, 75%, 100%); opacity:1.0;                     line-height:1.75\"><font color=\"black\"> bit                    </font></mark><mark style=\"background-color: hsl(120, 75%, 99%); opacity:1.0;                     line-height:1.75\"><font color=\"black\"> cold                    </font></mark><mark style=\"background-color: hsl(120, 75%, 99%); opacity:1.0;                     line-height:1.75\"><font color=\"black\"> and                    </font></mark><mark style=\"background-color: hsl(0, 75%, 96%); opacity:1.0;                     line-height:1.75\"><font color=\"black\"> relatively                    </font></mark><mark style=\"background-color: hsl(120, 75%, 98%); opacity:1.0;                     line-height:1.75\"><font color=\"black\"> flavorless                    </font></mark><mark style=\"background-color: hsl(0, 75%, 96%); opacity:1.0;                     line-height:1.75\"><font color=\"black\">                     </font></mark><mark style=\"background-color: hsl(120, 75%, 99%); opacity:1.0;                     line-height:1.75\"><font color=\"black\"> #/s                    </font></mark></td><tr></table>"
      ],
      "text/plain": [
       "<IPython.core.display.HTML object>"
      ]
     },
     "metadata": {},
     "output_type": "display_data"
    },
    {
     "name": "stdout",
     "output_type": "stream",
     "text": [
      "<IPython.core.display.HTML object>\n",
      "Raw review: never mind all that ; the boobs are fantasti \n",
      "GT target: 1\n",
      "asd 12\n"
     ]
    },
    {
     "data": {
      "text/html": [
       "<table width: 100%><div style=\"border-top: 1px solid; margin-top: 5px;             padding-top: 5px; display: inline-block\"><b>Legend: </b><span style=\"display: inline-block; width: 10px; height: 10px;                 border: 1px solid; background-color:                 hsl(0, 75%, 60%)\"></span> Negative  <span style=\"display: inline-block; width: 10px; height: 10px;                 border: 1px solid; background-color:                 hsl(0, 75%, 100%)\"></span> Neutral  <span style=\"display: inline-block; width: 10px; height: 10px;                 border: 1px solid; background-color:                 hsl(120, 75%, 50%)\"></span> Positive  </div><tr><th>True Label</th><th>Predicted Label</th><th>Attribution Label</th><th>Attribution Score</th><th>Word Importance</th><tr><td><text style=\"padding-right:2em\"><b>Pos</b></text></td><td><text style=\"padding-right:2em\"><b>Pos (1.00)</b></text></td><td><text style=\"padding-right:2em\"><b>Pos</b></text></td><td><text style=\"padding-right:2em\"><b>0.80</b></text></td><td><mark style=\"background-color: hsl(120, 75%, 99%); opacity:1.0;                     line-height:1.75\"><font color=\"black\"> #s                    </font></mark><mark style=\"background-color: hsl(120, 75%, 84%); opacity:1.0;                     line-height:1.75\"><font color=\"black\"> never                    </font></mark><mark style=\"background-color: hsl(120, 75%, 72%); opacity:1.0;                     line-height:1.75\"><font color=\"black\"> mind                    </font></mark><mark style=\"background-color: hsl(0, 75%, 98%); opacity:1.0;                     line-height:1.75\"><font color=\"black\"> all                    </font></mark><mark style=\"background-color: hsl(0, 75%, 98%); opacity:1.0;                     line-height:1.75\"><font color=\"black\"> that                    </font></mark><mark style=\"background-color: hsl(120, 75%, 96%); opacity:1.0;                     line-height:1.75\"><font color=\"black\"> ;                    </font></mark><mark style=\"background-color: hsl(0, 75%, 95%); opacity:1.0;                     line-height:1.75\"><font color=\"black\"> the                    </font></mark><mark style=\"background-color: hsl(0, 75%, 88%); opacity:1.0;                     line-height:1.75\"><font color=\"black\"> boobs                    </font></mark><mark style=\"background-color: hsl(0, 75%, 97%); opacity:1.0;                     line-height:1.75\"><font color=\"black\"> are                    </font></mark><mark style=\"background-color: hsl(120, 75%, 69%); opacity:1.0;                     line-height:1.75\"><font color=\"black\"> fantasti                    </font></mark><mark style=\"background-color: hsl(0, 75%, 93%); opacity:1.0;                     line-height:1.75\"><font color=\"black\">                     </font></mark><mark style=\"background-color: hsl(120, 75%, 98%); opacity:1.0;                     line-height:1.75\"><font color=\"black\"> #/s                    </font></mark></td><tr></table>"
      ],
      "text/plain": [
       "<IPython.core.display.HTML object>"
      ]
     },
     "metadata": {},
     "output_type": "display_data"
    },
    {
     "name": "stdout",
     "output_type": "stream",
     "text": [
      "<IPython.core.display.HTML object>\n",
      "Raw review: possibly will enjoy it \n",
      "GT target: 1\n",
      "asd 7\n"
     ]
    },
    {
     "data": {
      "text/html": [
       "<table width: 100%><div style=\"border-top: 1px solid; margin-top: 5px;             padding-top: 5px; display: inline-block\"><b>Legend: </b><span style=\"display: inline-block; width: 10px; height: 10px;                 border: 1px solid; background-color:                 hsl(0, 75%, 60%)\"></span> Negative  <span style=\"display: inline-block; width: 10px; height: 10px;                 border: 1px solid; background-color:                 hsl(0, 75%, 100%)\"></span> Neutral  <span style=\"display: inline-block; width: 10px; height: 10px;                 border: 1px solid; background-color:                 hsl(120, 75%, 50%)\"></span> Positive  </div><tr><th>True Label</th><th>Predicted Label</th><th>Attribution Label</th><th>Attribution Score</th><th>Word Importance</th><tr><td><text style=\"padding-right:2em\"><b>Pos</b></text></td><td><text style=\"padding-right:2em\"><b>Pos (1.00)</b></text></td><td><text style=\"padding-right:2em\"><b>Pos</b></text></td><td><text style=\"padding-right:2em\"><b>1.08</b></text></td><td><mark style=\"background-color: hsl(120, 75%, 66%); opacity:1.0;                     line-height:1.75\"><font color=\"black\"> #s                    </font></mark><mark style=\"background-color: hsl(0, 75%, 97%); opacity:1.0;                     line-height:1.75\"><font color=\"black\"> possibly                    </font></mark><mark style=\"background-color: hsl(0, 75%, 96%); opacity:1.0;                     line-height:1.75\"><font color=\"black\"> will                    </font></mark><mark style=\"background-color: hsl(120, 75%, 68%); opacity:1.0;                     line-height:1.75\"><font color=\"black\"> enjoy                    </font></mark><mark style=\"background-color: hsl(120, 75%, 96%); opacity:1.0;                     line-height:1.75\"><font color=\"black\"> it                    </font></mark><mark style=\"background-color: hsl(120, 75%, 96%); opacity:1.0;                     line-height:1.75\"><font color=\"black\">                     </font></mark><mark style=\"background-color: hsl(0, 75%, 90%); opacity:1.0;                     line-height:1.75\"><font color=\"black\"> #/s                    </font></mark></td><tr></table>"
      ],
      "text/plain": [
       "<IPython.core.display.HTML object>"
      ]
     },
     "metadata": {},
     "output_type": "display_data"
    },
    {
     "name": "stdout",
     "output_type": "stream",
     "text": [
      "<IPython.core.display.HTML object>\n",
      "Raw review: to give them credit for : the message of the movie \n",
      "GT target: 1\n",
      "asd 14\n"
     ]
    },
    {
     "data": {
      "text/html": [
       "<table width: 100%><div style=\"border-top: 1px solid; margin-top: 5px;             padding-top: 5px; display: inline-block\"><b>Legend: </b><span style=\"display: inline-block; width: 10px; height: 10px;                 border: 1px solid; background-color:                 hsl(0, 75%, 60%)\"></span> Negative  <span style=\"display: inline-block; width: 10px; height: 10px;                 border: 1px solid; background-color:                 hsl(0, 75%, 100%)\"></span> Neutral  <span style=\"display: inline-block; width: 10px; height: 10px;                 border: 1px solid; background-color:                 hsl(120, 75%, 50%)\"></span> Positive  </div><tr><th>True Label</th><th>Predicted Label</th><th>Attribution Label</th><th>Attribution Score</th><th>Word Importance</th><tr><td><text style=\"padding-right:2em\"><b>Pos</b></text></td><td><text style=\"padding-right:2em\"><b>Pos (1.00)</b></text></td><td><text style=\"padding-right:2em\"><b>Neg</b></text></td><td><text style=\"padding-right:2em\"><b>-0.85</b></text></td><td><mark style=\"background-color: hsl(0, 75%, 90%); opacity:1.0;                     line-height:1.75\"><font color=\"black\"> #s                    </font></mark><mark style=\"background-color: hsl(0, 75%, 98%); opacity:1.0;                     line-height:1.75\"><font color=\"black\"> to                    </font></mark><mark style=\"background-color: hsl(0, 75%, 100%); opacity:1.0;                     line-height:1.75\"><font color=\"black\"> give                    </font></mark><mark style=\"background-color: hsl(120, 75%, 97%); opacity:1.0;                     line-height:1.75\"><font color=\"black\"> them                    </font></mark><mark style=\"background-color: hsl(120, 75%, 92%); opacity:1.0;                     line-height:1.75\"><font color=\"black\"> credit                    </font></mark><mark style=\"background-color: hsl(120, 75%, 93%); opacity:1.0;                     line-height:1.75\"><font color=\"black\"> for                    </font></mark><mark style=\"background-color: hsl(0, 75%, 76%); opacity:1.0;                     line-height:1.75\"><font color=\"black\"> :                    </font></mark><mark style=\"background-color: hsl(0, 75%, 80%); opacity:1.0;                     line-height:1.75\"><font color=\"black\"> the                    </font></mark><mark style=\"background-color: hsl(120, 75%, 79%); opacity:1.0;                     line-height:1.75\"><font color=\"black\"> message                    </font></mark><mark style=\"background-color: hsl(0, 75%, 100%); opacity:1.0;                     line-height:1.75\"><font color=\"black\"> of                    </font></mark><mark style=\"background-color: hsl(0, 75%, 94%); opacity:1.0;                     line-height:1.75\"><font color=\"black\"> the                    </font></mark><mark style=\"background-color: hsl(120, 75%, 99%); opacity:1.0;                     line-height:1.75\"><font color=\"black\"> movie                    </font></mark><mark style=\"background-color: hsl(0, 75%, 97%); opacity:1.0;                     line-height:1.75\"><font color=\"black\">                     </font></mark><mark style=\"background-color: hsl(120, 75%, 96%); opacity:1.0;                     line-height:1.75\"><font color=\"black\"> #/s                    </font></mark></td><tr></table>"
      ],
      "text/plain": [
       "<IPython.core.display.HTML object>"
      ]
     },
     "metadata": {},
     "output_type": "display_data"
    },
    {
     "name": "stdout",
     "output_type": "stream",
     "text": [
      "<IPython.core.display.HTML object>\n",
      "Raw review: dudsville \n",
      "GT target: 0\n",
      "asd 4\n"
     ]
    },
    {
     "data": {
      "text/html": [
       "<table width: 100%><div style=\"border-top: 1px solid; margin-top: 5px;             padding-top: 5px; display: inline-block\"><b>Legend: </b><span style=\"display: inline-block; width: 10px; height: 10px;                 border: 1px solid; background-color:                 hsl(0, 75%, 60%)\"></span> Negative  <span style=\"display: inline-block; width: 10px; height: 10px;                 border: 1px solid; background-color:                 hsl(0, 75%, 100%)\"></span> Neutral  <span style=\"display: inline-block; width: 10px; height: 10px;                 border: 1px solid; background-color:                 hsl(120, 75%, 50%)\"></span> Positive  </div><tr><th>True Label</th><th>Predicted Label</th><th>Attribution Label</th><th>Attribution Score</th><th>Word Importance</th><tr><td><text style=\"padding-right:2em\"><b>Neg</b></text></td><td><text style=\"padding-right:2em\"><b>Neg (0.00)</b></text></td><td><text style=\"padding-right:2em\"><b>Neg</b></text></td><td><text style=\"padding-right:2em\"><b>0.29</b></text></td><td><mark style=\"background-color: hsl(120, 75%, 55%); opacity:1.0;                     line-height:1.75\"><font color=\"black\"> #s                    </font></mark><mark style=\"background-color: hsl(0, 75%, 97%); opacity:1.0;                     line-height:1.75\"><font color=\"black\"> dudsville                    </font></mark><mark style=\"background-color: hsl(0, 75%, 100%); opacity:1.0;                     line-height:1.75\"><font color=\"black\">                     </font></mark><mark style=\"background-color: hsl(0, 75%, 87%); opacity:1.0;                     line-height:1.75\"><font color=\"black\"> #/s                    </font></mark></td><tr></table>"
      ],
      "text/plain": [
       "<IPython.core.display.HTML object>"
      ]
     },
     "metadata": {},
     "output_type": "display_data"
    },
    {
     "name": "stdout",
     "output_type": "stream",
     "text": [
      "<IPython.core.display.HTML object>\n",
      "Raw review: unadorned \n",
      "GT target: 0\n",
      "asd 4\n"
     ]
    },
    {
     "data": {
      "text/html": [
       "<table width: 100%><div style=\"border-top: 1px solid; margin-top: 5px;             padding-top: 5px; display: inline-block\"><b>Legend: </b><span style=\"display: inline-block; width: 10px; height: 10px;                 border: 1px solid; background-color:                 hsl(0, 75%, 60%)\"></span> Negative  <span style=\"display: inline-block; width: 10px; height: 10px;                 border: 1px solid; background-color:                 hsl(0, 75%, 100%)\"></span> Neutral  <span style=\"display: inline-block; width: 10px; height: 10px;                 border: 1px solid; background-color:                 hsl(120, 75%, 50%)\"></span> Positive  </div><tr><th>True Label</th><th>Predicted Label</th><th>Attribution Label</th><th>Attribution Score</th><th>Word Importance</th><tr><td><text style=\"padding-right:2em\"><b>Neg</b></text></td><td><text style=\"padding-right:2em\"><b>Pos (1.00)</b></text></td><td><text style=\"padding-right:2em\"><b>Neg</b></text></td><td><text style=\"padding-right:2em\"><b>0.07</b></text></td><td><mark style=\"background-color: hsl(0, 75%, 95%); opacity:1.0;                     line-height:1.75\"><font color=\"black\"> #s                    </font></mark><mark style=\"background-color: hsl(0, 75%, 87%); opacity:1.0;                     line-height:1.75\"><font color=\"black\"> unadorned                    </font></mark><mark style=\"background-color: hsl(120, 75%, 94%); opacity:1.0;                     line-height:1.75\"><font color=\"black\">                     </font></mark><mark style=\"background-color: hsl(0, 75%, 80%); opacity:1.0;                     line-height:1.75\"><font color=\"black\"> #/s                    </font></mark></td><tr></table>"
      ],
      "text/plain": [
       "<IPython.core.display.HTML object>"
      ]
     },
     "metadata": {},
     "output_type": "display_data"
    },
    {
     "name": "stdout",
     "output_type": "stream",
     "text": [
      "<IPython.core.display.HTML object>\n",
      "Raw review: if you give a filmmaker an unlimited amount of phony blood \n",
      "GT target: 0\n",
      "asd 14\n"
     ]
    },
    {
     "data": {
      "text/html": [
       "<table width: 100%><div style=\"border-top: 1px solid; margin-top: 5px;             padding-top: 5px; display: inline-block\"><b>Legend: </b><span style=\"display: inline-block; width: 10px; height: 10px;                 border: 1px solid; background-color:                 hsl(0, 75%, 60%)\"></span> Negative  <span style=\"display: inline-block; width: 10px; height: 10px;                 border: 1px solid; background-color:                 hsl(0, 75%, 100%)\"></span> Neutral  <span style=\"display: inline-block; width: 10px; height: 10px;                 border: 1px solid; background-color:                 hsl(120, 75%, 50%)\"></span> Positive  </div><tr><th>True Label</th><th>Predicted Label</th><th>Attribution Label</th><th>Attribution Score</th><th>Word Importance</th><tr><td><text style=\"padding-right:2em\"><b>Neg</b></text></td><td><text style=\"padding-right:2em\"><b>Neg (0.00)</b></text></td><td><text style=\"padding-right:2em\"><b>Neg</b></text></td><td><text style=\"padding-right:2em\"><b>-0.63</b></text></td><td><mark style=\"background-color: hsl(0, 75%, 64%); opacity:1.0;                     line-height:1.75\"><font color=\"black\"> #s                    </font></mark><mark style=\"background-color: hsl(0, 75%, 100%); opacity:1.0;                     line-height:1.75\"><font color=\"black\"> if                    </font></mark><mark style=\"background-color: hsl(120, 75%, 99%); opacity:1.0;                     line-height:1.75\"><font color=\"black\"> you                    </font></mark><mark style=\"background-color: hsl(0, 75%, 100%); opacity:1.0;                     line-height:1.75\"><font color=\"black\"> give                    </font></mark><mark style=\"background-color: hsl(120, 75%, 94%); opacity:1.0;                     line-height:1.75\"><font color=\"black\"> a                    </font></mark><mark style=\"background-color: hsl(0, 75%, 96%); opacity:1.0;                     line-height:1.75\"><font color=\"black\"> filmmaker                    </font></mark><mark style=\"background-color: hsl(120, 75%, 85%); opacity:1.0;                     line-height:1.75\"><font color=\"black\"> an                    </font></mark><mark style=\"background-color: hsl(120, 75%, 100%); opacity:1.0;                     line-height:1.75\"><font color=\"black\"> unlimited                    </font></mark><mark style=\"background-color: hsl(120, 75%, 100%); opacity:1.0;                     line-height:1.75\"><font color=\"black\"> amount                    </font></mark><mark style=\"background-color: hsl(120, 75%, 95%); opacity:1.0;                     line-height:1.75\"><font color=\"black\"> of                    </font></mark><mark style=\"background-color: hsl(0, 75%, 98%); opacity:1.0;                     line-height:1.75\"><font color=\"black\"> phony                    </font></mark><mark style=\"background-color: hsl(0, 75%, 99%); opacity:1.0;                     line-height:1.75\"><font color=\"black\"> blood                    </font></mark><mark style=\"background-color: hsl(0, 75%, 98%); opacity:1.0;                     line-height:1.75\"><font color=\"black\">                     </font></mark><mark style=\"background-color: hsl(120, 75%, 100%); opacity:1.0;                     line-height:1.75\"><font color=\"black\"> #/s                    </font></mark></td><tr></table>"
      ],
      "text/plain": [
       "<IPython.core.display.HTML object>"
      ]
     },
     "metadata": {},
     "output_type": "display_data"
    },
    {
     "name": "stdout",
     "output_type": "stream",
     "text": [
      "<IPython.core.display.HTML object>\n",
      "Raw review: absurdity \n",
      "GT target: 0\n",
      "asd 4\n"
     ]
    },
    {
     "data": {
      "text/html": [
       "<table width: 100%><div style=\"border-top: 1px solid; margin-top: 5px;             padding-top: 5px; display: inline-block\"><b>Legend: </b><span style=\"display: inline-block; width: 10px; height: 10px;                 border: 1px solid; background-color:                 hsl(0, 75%, 60%)\"></span> Negative  <span style=\"display: inline-block; width: 10px; height: 10px;                 border: 1px solid; background-color:                 hsl(0, 75%, 100%)\"></span> Neutral  <span style=\"display: inline-block; width: 10px; height: 10px;                 border: 1px solid; background-color:                 hsl(120, 75%, 50%)\"></span> Positive  </div><tr><th>True Label</th><th>Predicted Label</th><th>Attribution Label</th><th>Attribution Score</th><th>Word Importance</th><tr><td><text style=\"padding-right:2em\"><b>Neg</b></text></td><td><text style=\"padding-right:2em\"><b>Neg (0.00)</b></text></td><td><text style=\"padding-right:2em\"><b>Neg</b></text></td><td><text style=\"padding-right:2em\"><b>-0.89</b></text></td><td><mark style=\"background-color: hsl(0, 75%, 61%); opacity:1.0;                     line-height:1.75\"><font color=\"black\"> #s                    </font></mark><mark style=\"background-color: hsl(120, 75%, 92%); opacity:1.0;                     line-height:1.75\"><font color=\"black\"> absurdity                    </font></mark><mark style=\"background-color: hsl(120, 75%, 98%); opacity:1.0;                     line-height:1.75\"><font color=\"black\">                     </font></mark><mark style=\"background-color: hsl(0, 75%, 97%); opacity:1.0;                     line-height:1.75\"><font color=\"black\"> #/s                    </font></mark></td><tr></table>"
      ],
      "text/plain": [
       "<IPython.core.display.HTML object>"
      ]
     },
     "metadata": {},
     "output_type": "display_data"
    },
    {
     "name": "stdout",
     "output_type": "stream",
     "text": [
      "<IPython.core.display.HTML object>\n",
      "Raw review: an unforgettable \n",
      "GT target: 1\n",
      "asd 5\n"
     ]
    },
    {
     "data": {
      "text/html": [
       "<table width: 100%><div style=\"border-top: 1px solid; margin-top: 5px;             padding-top: 5px; display: inline-block\"><b>Legend: </b><span style=\"display: inline-block; width: 10px; height: 10px;                 border: 1px solid; background-color:                 hsl(0, 75%, 60%)\"></span> Negative  <span style=\"display: inline-block; width: 10px; height: 10px;                 border: 1px solid; background-color:                 hsl(0, 75%, 100%)\"></span> Neutral  <span style=\"display: inline-block; width: 10px; height: 10px;                 border: 1px solid; background-color:                 hsl(120, 75%, 50%)\"></span> Positive  </div><tr><th>True Label</th><th>Predicted Label</th><th>Attribution Label</th><th>Attribution Score</th><th>Word Importance</th><tr><td><text style=\"padding-right:2em\"><b>Pos</b></text></td><td><text style=\"padding-right:2em\"><b>Pos (1.00)</b></text></td><td><text style=\"padding-right:2em\"><b>Neg</b></text></td><td><text style=\"padding-right:2em\"><b>-0.89</b></text></td><td><mark style=\"background-color: hsl(0, 75%, 63%); opacity:1.0;                     line-height:1.75\"><font color=\"black\"> #s                    </font></mark><mark style=\"background-color: hsl(0, 75%, 98%); opacity:1.0;                     line-height:1.75\"><font color=\"black\"> an                    </font></mark><mark style=\"background-color: hsl(0, 75%, 99%); opacity:1.0;                     line-height:1.75\"><font color=\"black\"> unforgettable                    </font></mark><mark style=\"background-color: hsl(0, 75%, 94%); opacity:1.0;                     line-height:1.75\"><font color=\"black\">                     </font></mark><mark style=\"background-color: hsl(120, 75%, 85%); opacity:1.0;                     line-height:1.75\"><font color=\"black\"> #/s                    </font></mark></td><tr></table>"
      ],
      "text/plain": [
       "<IPython.core.display.HTML object>"
      ]
     },
     "metadata": {},
     "output_type": "display_data"
    },
    {
     "name": "stdout",
     "output_type": "stream",
     "text": [
      "<IPython.core.display.HTML object>\n",
      "Raw review: ( rises ) above its oh-so-hollywood rejiggering and its conventional direction to give the film a soul and an unabashed sense of good old-fashioned escapism \n",
      "GT target: 1\n",
      "asd 28\n"
     ]
    },
    {
     "data": {
      "text/html": [
       "<table width: 100%><div style=\"border-top: 1px solid; margin-top: 5px;             padding-top: 5px; display: inline-block\"><b>Legend: </b><span style=\"display: inline-block; width: 10px; height: 10px;                 border: 1px solid; background-color:                 hsl(0, 75%, 60%)\"></span> Negative  <span style=\"display: inline-block; width: 10px; height: 10px;                 border: 1px solid; background-color:                 hsl(0, 75%, 100%)\"></span> Neutral  <span style=\"display: inline-block; width: 10px; height: 10px;                 border: 1px solid; background-color:                 hsl(120, 75%, 50%)\"></span> Positive  </div><tr><th>True Label</th><th>Predicted Label</th><th>Attribution Label</th><th>Attribution Score</th><th>Word Importance</th><tr><td><text style=\"padding-right:2em\"><b>Pos</b></text></td><td><text style=\"padding-right:2em\"><b>Pos (1.00)</b></text></td><td><text style=\"padding-right:2em\"><b>Neg</b></text></td><td><text style=\"padding-right:2em\"><b>-0.96</b></text></td><td><mark style=\"background-color: hsl(120, 75%, 74%); opacity:1.0;                     line-height:1.75\"><font color=\"black\"> #s                    </font></mark><mark style=\"background-color: hsl(0, 75%, 99%); opacity:1.0;                     line-height:1.75\"><font color=\"black\"> (                    </font></mark><mark style=\"background-color: hsl(120, 75%, 93%); opacity:1.0;                     line-height:1.75\"><font color=\"black\"> rises                    </font></mark><mark style=\"background-color: hsl(0, 75%, 97%); opacity:1.0;                     line-height:1.75\"><font color=\"black\"> )                    </font></mark><mark style=\"background-color: hsl(120, 75%, 97%); opacity:1.0;                     line-height:1.75\"><font color=\"black\"> above                    </font></mark><mark style=\"background-color: hsl(0, 75%, 94%); opacity:1.0;                     line-height:1.75\"><font color=\"black\"> its                    </font></mark><mark style=\"background-color: hsl(0, 75%, 98%); opacity:1.0;                     line-height:1.75\"><font color=\"black\"> oh-so-hollywood                    </font></mark><mark style=\"background-color: hsl(0, 75%, 97%); opacity:1.0;                     line-height:1.75\"><font color=\"black\"> rejiggering                    </font></mark><mark style=\"background-color: hsl(0, 75%, 99%); opacity:1.0;                     line-height:1.75\"><font color=\"black\"> and                    </font></mark><mark style=\"background-color: hsl(120, 75%, 99%); opacity:1.0;                     line-height:1.75\"><font color=\"black\"> its                    </font></mark><mark style=\"background-color: hsl(0, 75%, 97%); opacity:1.0;                     line-height:1.75\"><font color=\"black\"> conventional                    </font></mark><mark style=\"background-color: hsl(0, 75%, 99%); opacity:1.0;                     line-height:1.75\"><font color=\"black\"> direction                    </font></mark><mark style=\"background-color: hsl(0, 75%, 100%); opacity:1.0;                     line-height:1.75\"><font color=\"black\"> to                    </font></mark><mark style=\"background-color: hsl(0, 75%, 96%); opacity:1.0;                     line-height:1.75\"><font color=\"black\"> give                    </font></mark><mark style=\"background-color: hsl(0, 75%, 97%); opacity:1.0;                     line-height:1.75\"><font color=\"black\"> the                    </font></mark><mark style=\"background-color: hsl(120, 75%, 100%); opacity:1.0;                     line-height:1.75\"><font color=\"black\"> film                    </font></mark><mark style=\"background-color: hsl(120, 75%, 99%); opacity:1.0;                     line-height:1.75\"><font color=\"black\"> a                    </font></mark><mark style=\"background-color: hsl(0, 75%, 83%); opacity:1.0;                     line-height:1.75\"><font color=\"black\"> soul                    </font></mark><mark style=\"background-color: hsl(0, 75%, 93%); opacity:1.0;                     line-height:1.75\"><font color=\"black\"> and                    </font></mark><mark style=\"background-color: hsl(120, 75%, 98%); opacity:1.0;                     line-height:1.75\"><font color=\"black\"> an                    </font></mark><mark style=\"background-color: hsl(0, 75%, 96%); opacity:1.0;                     line-height:1.75\"><font color=\"black\"> unabashed                    </font></mark><mark style=\"background-color: hsl(120, 75%, 92%); opacity:1.0;                     line-height:1.75\"><font color=\"black\"> sense                    </font></mark><mark style=\"background-color: hsl(0, 75%, 100%); opacity:1.0;                     line-height:1.75\"><font color=\"black\"> of                    </font></mark><mark style=\"background-color: hsl(0, 75%, 99%); opacity:1.0;                     line-height:1.75\"><font color=\"black\"> good                    </font></mark><mark style=\"background-color: hsl(120, 75%, 100%); opacity:1.0;                     line-height:1.75\"><font color=\"black\"> old-fashioned                    </font></mark><mark style=\"background-color: hsl(120, 75%, 96%); opacity:1.0;                     line-height:1.75\"><font color=\"black\"> escapism                    </font></mark><mark style=\"background-color: hsl(120, 75%, 97%); opacity:1.0;                     line-height:1.75\"><font color=\"black\">                     </font></mark><mark style=\"background-color: hsl(120, 75%, 96%); opacity:1.0;                     line-height:1.75\"><font color=\"black\"> #/s                    </font></mark></td><tr></table>"
      ],
      "text/plain": [
       "<IPython.core.display.HTML object>"
      ]
     },
     "metadata": {},
     "output_type": "display_data"
    },
    {
     "name": "stdout",
     "output_type": "stream",
     "text": [
      "<IPython.core.display.HTML object>\n",
      "Raw review: the mothman prophecies , which is mostly a bore , \n",
      "GT target: 0\n",
      "asd 13\n"
     ]
    },
    {
     "data": {
      "text/html": [
       "<table width: 100%><div style=\"border-top: 1px solid; margin-top: 5px;             padding-top: 5px; display: inline-block\"><b>Legend: </b><span style=\"display: inline-block; width: 10px; height: 10px;                 border: 1px solid; background-color:                 hsl(0, 75%, 60%)\"></span> Negative  <span style=\"display: inline-block; width: 10px; height: 10px;                 border: 1px solid; background-color:                 hsl(0, 75%, 100%)\"></span> Neutral  <span style=\"display: inline-block; width: 10px; height: 10px;                 border: 1px solid; background-color:                 hsl(120, 75%, 50%)\"></span> Positive  </div><tr><th>True Label</th><th>Predicted Label</th><th>Attribution Label</th><th>Attribution Score</th><th>Word Importance</th><tr><td><text style=\"padding-right:2em\"><b>Neg</b></text></td><td><text style=\"padding-right:2em\"><b>Neg (0.00)</b></text></td><td><text style=\"padding-right:2em\"><b>Neg</b></text></td><td><text style=\"padding-right:2em\"><b>-1.25</b></text></td><td><mark style=\"background-color: hsl(0, 75%, 65%); opacity:1.0;                     line-height:1.75\"><font color=\"black\"> #s                    </font></mark><mark style=\"background-color: hsl(0, 75%, 97%); opacity:1.0;                     line-height:1.75\"><font color=\"black\"> the                    </font></mark><mark style=\"background-color: hsl(0, 75%, 100%); opacity:1.0;                     line-height:1.75\"><font color=\"black\"> mothman                    </font></mark><mark style=\"background-color: hsl(0, 75%, 98%); opacity:1.0;                     line-height:1.75\"><font color=\"black\"> prophecies                    </font></mark><mark style=\"background-color: hsl(120, 75%, 100%); opacity:1.0;                     line-height:1.75\"><font color=\"black\"> ,                    </font></mark><mark style=\"background-color: hsl(0, 75%, 85%); opacity:1.0;                     line-height:1.75\"><font color=\"black\"> which                    </font></mark><mark style=\"background-color: hsl(0, 75%, 100%); opacity:1.0;                     line-height:1.75\"><font color=\"black\"> is                    </font></mark><mark style=\"background-color: hsl(120, 75%, 100%); opacity:1.0;                     line-height:1.75\"><font color=\"black\"> mostly                    </font></mark><mark style=\"background-color: hsl(120, 75%, 94%); opacity:1.0;                     line-height:1.75\"><font color=\"black\"> a                    </font></mark><mark style=\"background-color: hsl(120, 75%, 98%); opacity:1.0;                     line-height:1.75\"><font color=\"black\"> bore                    </font></mark><mark style=\"background-color: hsl(0, 75%, 97%); opacity:1.0;                     line-height:1.75\"><font color=\"black\"> ,                    </font></mark><mark style=\"background-color: hsl(120, 75%, 97%); opacity:1.0;                     line-height:1.75\"><font color=\"black\">                     </font></mark><mark style=\"background-color: hsl(120, 75%, 96%); opacity:1.0;                     line-height:1.75\"><font color=\"black\"> #/s                    </font></mark></td><tr></table>"
      ],
      "text/plain": [
       "<IPython.core.display.HTML object>"
      ]
     },
     "metadata": {},
     "output_type": "display_data"
    },
    {
     "name": "stdout",
     "output_type": "stream",
     "text": [
      "<IPython.core.display.HTML object>\n",
      "Raw review: regardless of race \n",
      "GT target: 1\n",
      "asd 6\n"
     ]
    },
    {
     "data": {
      "text/html": [
       "<table width: 100%><div style=\"border-top: 1px solid; margin-top: 5px;             padding-top: 5px; display: inline-block\"><b>Legend: </b><span style=\"display: inline-block; width: 10px; height: 10px;                 border: 1px solid; background-color:                 hsl(0, 75%, 60%)\"></span> Negative  <span style=\"display: inline-block; width: 10px; height: 10px;                 border: 1px solid; background-color:                 hsl(0, 75%, 100%)\"></span> Neutral  <span style=\"display: inline-block; width: 10px; height: 10px;                 border: 1px solid; background-color:                 hsl(120, 75%, 50%)\"></span> Positive  </div><tr><th>True Label</th><th>Predicted Label</th><th>Attribution Label</th><th>Attribution Score</th><th>Word Importance</th><tr><td><text style=\"padding-right:2em\"><b>Pos</b></text></td><td><text style=\"padding-right:2em\"><b>Pos (0.99)</b></text></td><td><text style=\"padding-right:2em\"><b>Neg</b></text></td><td><text style=\"padding-right:2em\"><b>-0.74</b></text></td><td><mark style=\"background-color: hsl(0, 75%, 62%); opacity:1.0;                     line-height:1.75\"><font color=\"black\"> #s                    </font></mark><mark style=\"background-color: hsl(120, 75%, 91%); opacity:1.0;                     line-height:1.75\"><font color=\"black\"> regardless                    </font></mark><mark style=\"background-color: hsl(120, 75%, 99%); opacity:1.0;                     line-height:1.75\"><font color=\"black\"> of                    </font></mark><mark style=\"background-color: hsl(120, 75%, 96%); opacity:1.0;                     line-height:1.75\"><font color=\"black\"> race                    </font></mark><mark style=\"background-color: hsl(120, 75%, 97%); opacity:1.0;                     line-height:1.75\"><font color=\"black\">                     </font></mark><mark style=\"background-color: hsl(0, 75%, 96%); opacity:1.0;                     line-height:1.75\"><font color=\"black\"> #/s                    </font></mark></td><tr></table>"
      ],
      "text/plain": [
       "<IPython.core.display.HTML object>"
      ]
     },
     "metadata": {},
     "output_type": "display_data"
    },
    {
     "name": "stdout",
     "output_type": "stream",
     "text": [
      "<IPython.core.display.HTML object>\n",
      "Raw review: have n't seen such self-amused trash since freddy got fingered \n",
      "GT target: 0\n",
      "asd 13\n"
     ]
    },
    {
     "data": {
      "text/html": [
       "<table width: 100%><div style=\"border-top: 1px solid; margin-top: 5px;             padding-top: 5px; display: inline-block\"><b>Legend: </b><span style=\"display: inline-block; width: 10px; height: 10px;                 border: 1px solid; background-color:                 hsl(0, 75%, 60%)\"></span> Negative  <span style=\"display: inline-block; width: 10px; height: 10px;                 border: 1px solid; background-color:                 hsl(0, 75%, 100%)\"></span> Neutral  <span style=\"display: inline-block; width: 10px; height: 10px;                 border: 1px solid; background-color:                 hsl(120, 75%, 50%)\"></span> Positive  </div><tr><th>True Label</th><th>Predicted Label</th><th>Attribution Label</th><th>Attribution Score</th><th>Word Importance</th><tr><td><text style=\"padding-right:2em\"><b>Neg</b></text></td><td><text style=\"padding-right:2em\"><b>Neg (0.00)</b></text></td><td><text style=\"padding-right:2em\"><b>Neg</b></text></td><td><text style=\"padding-right:2em\"><b>-1.30</b></text></td><td><mark style=\"background-color: hsl(0, 75%, 76%); opacity:1.0;                     line-height:1.75\"><font color=\"black\"> #s                    </font></mark><mark style=\"background-color: hsl(120, 75%, 95%); opacity:1.0;                     line-height:1.75\"><font color=\"black\"> have                    </font></mark><mark style=\"background-color: hsl(120, 75%, 100%); opacity:1.0;                     line-height:1.75\"><font color=\"black\"> n't                    </font></mark><mark style=\"background-color: hsl(0, 75%, 99%); opacity:1.0;                     line-height:1.75\"><font color=\"black\"> seen                    </font></mark><mark style=\"background-color: hsl(120, 75%, 99%); opacity:1.0;                     line-height:1.75\"><font color=\"black\"> such                    </font></mark><mark style=\"background-color: hsl(120, 75%, 100%); opacity:1.0;                     line-height:1.75\"><font color=\"black\"> self-amused                    </font></mark><mark style=\"background-color: hsl(120, 75%, 93%); opacity:1.0;                     line-height:1.75\"><font color=\"black\"> trash                    </font></mark><mark style=\"background-color: hsl(120, 75%, 100%); opacity:1.0;                     line-height:1.75\"><font color=\"black\"> since                    </font></mark><mark style=\"background-color: hsl(120, 75%, 94%); opacity:1.0;                     line-height:1.75\"><font color=\"black\"> freddy                    </font></mark><mark style=\"background-color: hsl(0, 75%, 97%); opacity:1.0;                     line-height:1.75\"><font color=\"black\"> got                    </font></mark><mark style=\"background-color: hsl(0, 75%, 78%); opacity:1.0;                     line-height:1.75\"><font color=\"black\"> fingered                    </font></mark><mark style=\"background-color: hsl(0, 75%, 98%); opacity:1.0;                     line-height:1.75\"><font color=\"black\">                     </font></mark><mark style=\"background-color: hsl(0, 75%, 97%); opacity:1.0;                     line-height:1.75\"><font color=\"black\"> #/s                    </font></mark></td><tr></table>"
      ],
      "text/plain": [
       "<IPython.core.display.HTML object>"
      ]
     },
     "metadata": {},
     "output_type": "display_data"
    },
    {
     "name": "stdout",
     "output_type": "stream",
     "text": [
      "<IPython.core.display.HTML object>\n",
      "Raw review: to let this morph into a typical romantic triangle \n",
      "GT target: 0\n",
      "asd 12\n"
     ]
    },
    {
     "data": {
      "text/html": [
       "<table width: 100%><div style=\"border-top: 1px solid; margin-top: 5px;             padding-top: 5px; display: inline-block\"><b>Legend: </b><span style=\"display: inline-block; width: 10px; height: 10px;                 border: 1px solid; background-color:                 hsl(0, 75%, 60%)\"></span> Negative  <span style=\"display: inline-block; width: 10px; height: 10px;                 border: 1px solid; background-color:                 hsl(0, 75%, 100%)\"></span> Neutral  <span style=\"display: inline-block; width: 10px; height: 10px;                 border: 1px solid; background-color:                 hsl(120, 75%, 50%)\"></span> Positive  </div><tr><th>True Label</th><th>Predicted Label</th><th>Attribution Label</th><th>Attribution Score</th><th>Word Importance</th><tr><td><text style=\"padding-right:2em\"><b>Neg</b></text></td><td><text style=\"padding-right:2em\"><b>Neg (0.00)</b></text></td><td><text style=\"padding-right:2em\"><b>Neg</b></text></td><td><text style=\"padding-right:2em\"><b>-1.32</b></text></td><td><mark style=\"background-color: hsl(0, 75%, 61%); opacity:1.0;                     line-height:1.75\"><font color=\"black\"> #s                    </font></mark><mark style=\"background-color: hsl(0, 75%, 100%); opacity:1.0;                     line-height:1.75\"><font color=\"black\"> to                    </font></mark><mark style=\"background-color: hsl(0, 75%, 100%); opacity:1.0;                     line-height:1.75\"><font color=\"black\"> let                    </font></mark><mark style=\"background-color: hsl(120, 75%, 99%); opacity:1.0;                     line-height:1.75\"><font color=\"black\"> this                    </font></mark><mark style=\"background-color: hsl(0, 75%, 100%); opacity:1.0;                     line-height:1.75\"><font color=\"black\"> morph                    </font></mark><mark style=\"background-color: hsl(0, 75%, 100%); opacity:1.0;                     line-height:1.75\"><font color=\"black\"> into                    </font></mark><mark style=\"background-color: hsl(0, 75%, 99%); opacity:1.0;                     line-height:1.75\"><font color=\"black\"> a                    </font></mark><mark style=\"background-color: hsl(0, 75%, 97%); opacity:1.0;                     line-height:1.75\"><font color=\"black\"> typical                    </font></mark><mark style=\"background-color: hsl(0, 75%, 99%); opacity:1.0;                     line-height:1.75\"><font color=\"black\"> romantic                    </font></mark><mark style=\"background-color: hsl(0, 75%, 98%); opacity:1.0;                     line-height:1.75\"><font color=\"black\"> triangle                    </font></mark><mark style=\"background-color: hsl(0, 75%, 99%); opacity:1.0;                     line-height:1.75\"><font color=\"black\">                     </font></mark><mark style=\"background-color: hsl(0, 75%, 99%); opacity:1.0;                     line-height:1.75\"><font color=\"black\"> #/s                    </font></mark></td><tr></table>"
      ],
      "text/plain": [
       "<IPython.core.display.HTML object>"
      ]
     },
     "metadata": {},
     "output_type": "display_data"
    },
    {
     "name": "stdout",
     "output_type": "stream",
     "text": [
      "<IPython.core.display.HTML object>\n",
      "Raw review: the hurried , badly cobbled look \n",
      "GT target: 0\n",
      "asd 9\n"
     ]
    },
    {
     "data": {
      "text/html": [
       "<table width: 100%><div style=\"border-top: 1px solid; margin-top: 5px;             padding-top: 5px; display: inline-block\"><b>Legend: </b><span style=\"display: inline-block; width: 10px; height: 10px;                 border: 1px solid; background-color:                 hsl(0, 75%, 60%)\"></span> Negative  <span style=\"display: inline-block; width: 10px; height: 10px;                 border: 1px solid; background-color:                 hsl(0, 75%, 100%)\"></span> Neutral  <span style=\"display: inline-block; width: 10px; height: 10px;                 border: 1px solid; background-color:                 hsl(120, 75%, 50%)\"></span> Positive  </div><tr><th>True Label</th><th>Predicted Label</th><th>Attribution Label</th><th>Attribution Score</th><th>Word Importance</th><tr><td><text style=\"padding-right:2em\"><b>Neg</b></text></td><td><text style=\"padding-right:2em\"><b>Neg (0.00)</b></text></td><td><text style=\"padding-right:2em\"><b>Neg</b></text></td><td><text style=\"padding-right:2em\"><b>-1.46</b></text></td><td><mark style=\"background-color: hsl(0, 75%, 72%); opacity:1.0;                     line-height:1.75\"><font color=\"black\"> #s                    </font></mark><mark style=\"background-color: hsl(120, 75%, 100%); opacity:1.0;                     line-height:1.75\"><font color=\"black\"> the                    </font></mark><mark style=\"background-color: hsl(120, 75%, 93%); opacity:1.0;                     line-height:1.75\"><font color=\"black\"> hurried                    </font></mark><mark style=\"background-color: hsl(120, 75%, 98%); opacity:1.0;                     line-height:1.75\"><font color=\"black\"> ,                    </font></mark><mark style=\"background-color: hsl(0, 75%, 77%); opacity:1.0;                     line-height:1.75\"><font color=\"black\"> badly                    </font></mark><mark style=\"background-color: hsl(0, 75%, 100%); opacity:1.0;                     line-height:1.75\"><font color=\"black\"> cobbled                    </font></mark><mark style=\"background-color: hsl(0, 75%, 89%); opacity:1.0;                     line-height:1.75\"><font color=\"black\"> look                    </font></mark><mark style=\"background-color: hsl(0, 75%, 94%); opacity:1.0;                     line-height:1.75\"><font color=\"black\">                     </font></mark><mark style=\"background-color: hsl(120, 75%, 99%); opacity:1.0;                     line-height:1.75\"><font color=\"black\"> #/s                    </font></mark></td><tr></table>"
      ],
      "text/plain": [
       "<IPython.core.display.HTML object>"
      ]
     },
     "metadata": {},
     "output_type": "display_data"
    },
    {
     "name": "stdout",
     "output_type": "stream",
     "text": [
      "<IPython.core.display.HTML object>\n",
      "Raw review: i heard a mysterious voice , and felt myself powerfully drawn toward the light -- the light of the exit sign \n",
      "GT target: 0\n",
      "asd 24\n"
     ]
    },
    {
     "data": {
      "text/html": [
       "<table width: 100%><div style=\"border-top: 1px solid; margin-top: 5px;             padding-top: 5px; display: inline-block\"><b>Legend: </b><span style=\"display: inline-block; width: 10px; height: 10px;                 border: 1px solid; background-color:                 hsl(0, 75%, 60%)\"></span> Negative  <span style=\"display: inline-block; width: 10px; height: 10px;                 border: 1px solid; background-color:                 hsl(0, 75%, 100%)\"></span> Neutral  <span style=\"display: inline-block; width: 10px; height: 10px;                 border: 1px solid; background-color:                 hsl(120, 75%, 50%)\"></span> Positive  </div><tr><th>True Label</th><th>Predicted Label</th><th>Attribution Label</th><th>Attribution Score</th><th>Word Importance</th><tr><td><text style=\"padding-right:2em\"><b>Neg</b></text></td><td><text style=\"padding-right:2em\"><b>Pos (1.00)</b></text></td><td><text style=\"padding-right:2em\"><b>Neg</b></text></td><td><text style=\"padding-right:2em\"><b>-1.00</b></text></td><td><mark style=\"background-color: hsl(0, 75%, 61%); opacity:1.0;                     line-height:1.75\"><font color=\"black\"> #s                    </font></mark><mark style=\"background-color: hsl(0, 75%, 98%); opacity:1.0;                     line-height:1.75\"><font color=\"black\"> i                    </font></mark><mark style=\"background-color: hsl(0, 75%, 100%); opacity:1.0;                     line-height:1.75\"><font color=\"black\"> heard                    </font></mark><mark style=\"background-color: hsl(120, 75%, 99%); opacity:1.0;                     line-height:1.75\"><font color=\"black\"> a                    </font></mark><mark style=\"background-color: hsl(120, 75%, 98%); opacity:1.0;                     line-height:1.75\"><font color=\"black\"> mysterious                    </font></mark><mark style=\"background-color: hsl(120, 75%, 100%); opacity:1.0;                     line-height:1.75\"><font color=\"black\"> voice                    </font></mark><mark style=\"background-color: hsl(0, 75%, 100%); opacity:1.0;                     line-height:1.75\"><font color=\"black\"> ,                    </font></mark><mark style=\"background-color: hsl(120, 75%, 96%); opacity:1.0;                     line-height:1.75\"><font color=\"black\"> and                    </font></mark><mark style=\"background-color: hsl(0, 75%, 100%); opacity:1.0;                     line-height:1.75\"><font color=\"black\"> felt                    </font></mark><mark style=\"background-color: hsl(0, 75%, 100%); opacity:1.0;                     line-height:1.75\"><font color=\"black\"> myself                    </font></mark><mark style=\"background-color: hsl(120, 75%, 100%); opacity:1.0;                     line-height:1.75\"><font color=\"black\"> powerfully                    </font></mark><mark style=\"background-color: hsl(0, 75%, 100%); opacity:1.0;                     line-height:1.75\"><font color=\"black\"> drawn                    </font></mark><mark style=\"background-color: hsl(0, 75%, 100%); opacity:1.0;                     line-height:1.75\"><font color=\"black\"> toward                    </font></mark><mark style=\"background-color: hsl(0, 75%, 99%); opacity:1.0;                     line-height:1.75\"><font color=\"black\"> the                    </font></mark><mark style=\"background-color: hsl(120, 75%, 100%); opacity:1.0;                     line-height:1.75\"><font color=\"black\"> light                    </font></mark><mark style=\"background-color: hsl(0, 75%, 99%); opacity:1.0;                     line-height:1.75\"><font color=\"black\"> --                    </font></mark><mark style=\"background-color: hsl(120, 75%, 100%); opacity:1.0;                     line-height:1.75\"><font color=\"black\"> the                    </font></mark><mark style=\"background-color: hsl(120, 75%, 100%); opacity:1.0;                     line-height:1.75\"><font color=\"black\"> light                    </font></mark><mark style=\"background-color: hsl(0, 75%, 100%); opacity:1.0;                     line-height:1.75\"><font color=\"black\"> of                    </font></mark><mark style=\"background-color: hsl(120, 75%, 98%); opacity:1.0;                     line-height:1.75\"><font color=\"black\"> the                    </font></mark><mark style=\"background-color: hsl(0, 75%, 100%); opacity:1.0;                     line-height:1.75\"><font color=\"black\"> exit                    </font></mark><mark style=\"background-color: hsl(0, 75%, 99%); opacity:1.0;                     line-height:1.75\"><font color=\"black\"> sign                    </font></mark><mark style=\"background-color: hsl(0, 75%, 100%); opacity:1.0;                     line-height:1.75\"><font color=\"black\">                     </font></mark><mark style=\"background-color: hsl(0, 75%, 100%); opacity:1.0;                     line-height:1.75\"><font color=\"black\"> #/s                    </font></mark></td><tr></table>"
      ],
      "text/plain": [
       "<IPython.core.display.HTML object>"
      ]
     },
     "metadata": {},
     "output_type": "display_data"
    },
    {
     "name": "stdout",
     "output_type": "stream",
     "text": [
      "<IPython.core.display.HTML object>\n",
      "Raw review: would take a complete moron to foul up a screen adaptation of oscar wilde 's classic satire \n",
      "GT target: 0\n",
      "asd 20\n"
     ]
    },
    {
     "data": {
      "text/html": [
       "<table width: 100%><div style=\"border-top: 1px solid; margin-top: 5px;             padding-top: 5px; display: inline-block\"><b>Legend: </b><span style=\"display: inline-block; width: 10px; height: 10px;                 border: 1px solid; background-color:                 hsl(0, 75%, 60%)\"></span> Negative  <span style=\"display: inline-block; width: 10px; height: 10px;                 border: 1px solid; background-color:                 hsl(0, 75%, 100%)\"></span> Neutral  <span style=\"display: inline-block; width: 10px; height: 10px;                 border: 1px solid; background-color:                 hsl(120, 75%, 50%)\"></span> Positive  </div><tr><th>True Label</th><th>Predicted Label</th><th>Attribution Label</th><th>Attribution Score</th><th>Word Importance</th><tr><td><text style=\"padding-right:2em\"><b>Neg</b></text></td><td><text style=\"padding-right:2em\"><b>Pos (0.98)</b></text></td><td><text style=\"padding-right:2em\"><b>Pos</b></text></td><td><text style=\"padding-right:2em\"><b>1.34</b></text></td><td><mark style=\"background-color: hsl(120, 75%, 62%); opacity:1.0;                     line-height:1.75\"><font color=\"black\"> #s                    </font></mark><mark style=\"background-color: hsl(120, 75%, 99%); opacity:1.0;                     line-height:1.75\"><font color=\"black\"> would                    </font></mark><mark style=\"background-color: hsl(0, 75%, 100%); opacity:1.0;                     line-height:1.75\"><font color=\"black\"> take                    </font></mark><mark style=\"background-color: hsl(120, 75%, 94%); opacity:1.0;                     line-height:1.75\"><font color=\"black\"> a                    </font></mark><mark style=\"background-color: hsl(120, 75%, 78%); opacity:1.0;                     line-height:1.75\"><font color=\"black\"> complete                    </font></mark><mark style=\"background-color: hsl(120, 75%, 100%); opacity:1.0;                     line-height:1.75\"><font color=\"black\"> moron                    </font></mark><mark style=\"background-color: hsl(120, 75%, 100%); opacity:1.0;                     line-height:1.75\"><font color=\"black\"> to                    </font></mark><mark style=\"background-color: hsl(0, 75%, 100%); opacity:1.0;                     line-height:1.75\"><font color=\"black\"> foul                    </font></mark><mark style=\"background-color: hsl(0, 75%, 90%); opacity:1.0;                     line-height:1.75\"><font color=\"black\"> up                    </font></mark><mark style=\"background-color: hsl(0, 75%, 100%); opacity:1.0;                     line-height:1.75\"><font color=\"black\"> a                    </font></mark><mark style=\"background-color: hsl(120, 75%, 99%); opacity:1.0;                     line-height:1.75\"><font color=\"black\"> screen                    </font></mark><mark style=\"background-color: hsl(120, 75%, 99%); opacity:1.0;                     line-height:1.75\"><font color=\"black\"> adaptation                    </font></mark><mark style=\"background-color: hsl(0, 75%, 100%); opacity:1.0;                     line-height:1.75\"><font color=\"black\"> of                    </font></mark><mark style=\"background-color: hsl(120, 75%, 100%); opacity:1.0;                     line-height:1.75\"><font color=\"black\"> oscar                    </font></mark><mark style=\"background-color: hsl(0, 75%, 97%); opacity:1.0;                     line-height:1.75\"><font color=\"black\"> wilde                    </font></mark><mark style=\"background-color: hsl(0, 75%, 100%); opacity:1.0;                     line-height:1.75\"><font color=\"black\"> 's                    </font></mark><mark style=\"background-color: hsl(0, 75%, 100%); opacity:1.0;                     line-height:1.75\"><font color=\"black\"> classic                    </font></mark><mark style=\"background-color: hsl(0, 75%, 99%); opacity:1.0;                     line-height:1.75\"><font color=\"black\"> satire                    </font></mark><mark style=\"background-color: hsl(120, 75%, 97%); opacity:1.0;                     line-height:1.75\"><font color=\"black\">                     </font></mark><mark style=\"background-color: hsl(0, 75%, 100%); opacity:1.0;                     line-height:1.75\"><font color=\"black\"> #/s                    </font></mark></td><tr></table>"
      ],
      "text/plain": [
       "<IPython.core.display.HTML object>"
      ]
     },
     "metadata": {},
     "output_type": "display_data"
    },
    {
     "name": "stdout",
     "output_type": "stream",
     "text": [
      "<IPython.core.display.HTML object>\n",
      "Raw review: 's never too late to learn \n",
      "GT target: 1\n",
      "asd 9\n"
     ]
    },
    {
     "data": {
      "text/html": [
       "<table width: 100%><div style=\"border-top: 1px solid; margin-top: 5px;             padding-top: 5px; display: inline-block\"><b>Legend: </b><span style=\"display: inline-block; width: 10px; height: 10px;                 border: 1px solid; background-color:                 hsl(0, 75%, 60%)\"></span> Negative  <span style=\"display: inline-block; width: 10px; height: 10px;                 border: 1px solid; background-color:                 hsl(0, 75%, 100%)\"></span> Neutral  <span style=\"display: inline-block; width: 10px; height: 10px;                 border: 1px solid; background-color:                 hsl(120, 75%, 50%)\"></span> Positive  </div><tr><th>True Label</th><th>Predicted Label</th><th>Attribution Label</th><th>Attribution Score</th><th>Word Importance</th><tr><td><text style=\"padding-right:2em\"><b>Pos</b></text></td><td><text style=\"padding-right:2em\"><b>Pos (0.99)</b></text></td><td><text style=\"padding-right:2em\"><b>Pos</b></text></td><td><text style=\"padding-right:2em\"><b>0.92</b></text></td><td><mark style=\"background-color: hsl(120, 75%, 98%); opacity:1.0;                     line-height:1.75\"><font color=\"black\"> #s                    </font></mark><mark style=\"background-color: hsl(0, 75%, 97%); opacity:1.0;                     line-height:1.75\"><font color=\"black\"> 's                    </font></mark><mark style=\"background-color: hsl(0, 75%, 97%); opacity:1.0;                     line-height:1.75\"><font color=\"black\"> never                    </font></mark><mark style=\"background-color: hsl(0, 75%, 100%); opacity:1.0;                     line-height:1.75\"><font color=\"black\"> too                    </font></mark><mark style=\"background-color: hsl(0, 75%, 96%); opacity:1.0;                     line-height:1.75\"><font color=\"black\"> late                    </font></mark><mark style=\"background-color: hsl(120, 75%, 52%); opacity:1.0;                     line-height:1.75\"><font color=\"black\"> to                    </font></mark><mark style=\"background-color: hsl(120, 75%, 90%); opacity:1.0;                     line-height:1.75\"><font color=\"black\"> learn                    </font></mark><mark style=\"background-color: hsl(120, 75%, 97%); opacity:1.0;                     line-height:1.75\"><font color=\"black\">                     </font></mark><mark style=\"background-color: hsl(0, 75%, 99%); opacity:1.0;                     line-height:1.75\"><font color=\"black\"> #/s                    </font></mark></td><tr></table>"
      ],
      "text/plain": [
       "<IPython.core.display.HTML object>"
      ]
     },
     "metadata": {},
     "output_type": "display_data"
    },
    {
     "name": "stdout",
     "output_type": "stream",
     "text": [
      "<IPython.core.display.HTML object>\n",
      "Raw review: about the best thing you could say about narc is that it 's a rock-solid little genre picture . \n",
      "GT target: 1\n",
      "asd 22\n"
     ]
    },
    {
     "data": {
      "text/html": [
       "<table width: 100%><div style=\"border-top: 1px solid; margin-top: 5px;             padding-top: 5px; display: inline-block\"><b>Legend: </b><span style=\"display: inline-block; width: 10px; height: 10px;                 border: 1px solid; background-color:                 hsl(0, 75%, 60%)\"></span> Negative  <span style=\"display: inline-block; width: 10px; height: 10px;                 border: 1px solid; background-color:                 hsl(0, 75%, 100%)\"></span> Neutral  <span style=\"display: inline-block; width: 10px; height: 10px;                 border: 1px solid; background-color:                 hsl(120, 75%, 50%)\"></span> Positive  </div><tr><th>True Label</th><th>Predicted Label</th><th>Attribution Label</th><th>Attribution Score</th><th>Word Importance</th><tr><td><text style=\"padding-right:2em\"><b>Pos</b></text></td><td><text style=\"padding-right:2em\"><b>Pos (1.00)</b></text></td><td><text style=\"padding-right:2em\"><b>Neg</b></text></td><td><text style=\"padding-right:2em\"><b>-1.06</b></text></td><td><mark style=\"background-color: hsl(0, 75%, 62%); opacity:1.0;                     line-height:1.75\"><font color=\"black\"> #s                    </font></mark><mark style=\"background-color: hsl(0, 75%, 100%); opacity:1.0;                     line-height:1.75\"><font color=\"black\"> about                    </font></mark><mark style=\"background-color: hsl(120, 75%, 95%); opacity:1.0;                     line-height:1.75\"><font color=\"black\"> the                    </font></mark><mark style=\"background-color: hsl(120, 75%, 97%); opacity:1.0;                     line-height:1.75\"><font color=\"black\"> best                    </font></mark><mark style=\"background-color: hsl(120, 75%, 98%); opacity:1.0;                     line-height:1.75\"><font color=\"black\"> thing                    </font></mark><mark style=\"background-color: hsl(120, 75%, 100%); opacity:1.0;                     line-height:1.75\"><font color=\"black\"> you                    </font></mark><mark style=\"background-color: hsl(120, 75%, 100%); opacity:1.0;                     line-height:1.75\"><font color=\"black\"> could                    </font></mark><mark style=\"background-color: hsl(120, 75%, 100%); opacity:1.0;                     line-height:1.75\"><font color=\"black\"> say                    </font></mark><mark style=\"background-color: hsl(0, 75%, 100%); opacity:1.0;                     line-height:1.75\"><font color=\"black\"> about                    </font></mark><mark style=\"background-color: hsl(0, 75%, 100%); opacity:1.0;                     line-height:1.75\"><font color=\"black\"> narc                    </font></mark><mark style=\"background-color: hsl(0, 75%, 99%); opacity:1.0;                     line-height:1.75\"><font color=\"black\"> is                    </font></mark><mark style=\"background-color: hsl(0, 75%, 100%); opacity:1.0;                     line-height:1.75\"><font color=\"black\"> that                    </font></mark><mark style=\"background-color: hsl(0, 75%, 99%); opacity:1.0;                     line-height:1.75\"><font color=\"black\"> it                    </font></mark><mark style=\"background-color: hsl(0, 75%, 99%); opacity:1.0;                     line-height:1.75\"><font color=\"black\"> 's                    </font></mark><mark style=\"background-color: hsl(0, 75%, 97%); opacity:1.0;                     line-height:1.75\"><font color=\"black\"> a                    </font></mark><mark style=\"background-color: hsl(0, 75%, 100%); opacity:1.0;                     line-height:1.75\"><font color=\"black\"> rock-solid                    </font></mark><mark style=\"background-color: hsl(120, 75%, 99%); opacity:1.0;                     line-height:1.75\"><font color=\"black\"> little                    </font></mark><mark style=\"background-color: hsl(0, 75%, 94%); opacity:1.0;                     line-height:1.75\"><font color=\"black\"> genre                    </font></mark><mark style=\"background-color: hsl(120, 75%, 97%); opacity:1.0;                     line-height:1.75\"><font color=\"black\"> picture                    </font></mark><mark style=\"background-color: hsl(0, 75%, 100%); opacity:1.0;                     line-height:1.75\"><font color=\"black\"> .                    </font></mark><mark style=\"background-color: hsl(120, 75%, 99%); opacity:1.0;                     line-height:1.75\"><font color=\"black\">                     </font></mark><mark style=\"background-color: hsl(0, 75%, 100%); opacity:1.0;                     line-height:1.75\"><font color=\"black\"> #/s                    </font></mark></td><tr></table>"
      ],
      "text/plain": [
       "<IPython.core.display.HTML object>"
      ]
     },
     "metadata": {},
     "output_type": "display_data"
    },
    {
     "name": "stdout",
     "output_type": "stream",
     "text": [
      "<IPython.core.display.HTML object>\n",
      "Raw review: come to earth \n",
      "GT target: 1\n",
      "asd 6\n"
     ]
    },
    {
     "data": {
      "text/html": [
       "<table width: 100%><div style=\"border-top: 1px solid; margin-top: 5px;             padding-top: 5px; display: inline-block\"><b>Legend: </b><span style=\"display: inline-block; width: 10px; height: 10px;                 border: 1px solid; background-color:                 hsl(0, 75%, 60%)\"></span> Negative  <span style=\"display: inline-block; width: 10px; height: 10px;                 border: 1px solid; background-color:                 hsl(0, 75%, 100%)\"></span> Neutral  <span style=\"display: inline-block; width: 10px; height: 10px;                 border: 1px solid; background-color:                 hsl(120, 75%, 50%)\"></span> Positive  </div><tr><th>True Label</th><th>Predicted Label</th><th>Attribution Label</th><th>Attribution Score</th><th>Word Importance</th><tr><td><text style=\"padding-right:2em\"><b>Pos</b></text></td><td><text style=\"padding-right:2em\"><b>Pos (0.99)</b></text></td><td><text style=\"padding-right:2em\"><b>Neg</b></text></td><td><text style=\"padding-right:2em\"><b>0.02</b></text></td><td><mark style=\"background-color: hsl(0, 75%, 67%); opacity:1.0;                     line-height:1.75\"><font color=\"black\"> #s                    </font></mark><mark style=\"background-color: hsl(120, 75%, 94%); opacity:1.0;                     line-height:1.75\"><font color=\"black\"> come                    </font></mark><mark style=\"background-color: hsl(120, 75%, 75%); opacity:1.0;                     line-height:1.75\"><font color=\"black\"> to                    </font></mark><mark style=\"background-color: hsl(120, 75%, 97%); opacity:1.0;                     line-height:1.75\"><font color=\"black\"> earth                    </font></mark><mark style=\"background-color: hsl(120, 75%, 99%); opacity:1.0;                     line-height:1.75\"><font color=\"black\">                     </font></mark><mark style=\"background-color: hsl(120, 75%, 95%); opacity:1.0;                     line-height:1.75\"><font color=\"black\"> #/s                    </font></mark></td><tr></table>"
      ],
      "text/plain": [
       "<IPython.core.display.HTML object>"
      ]
     },
     "metadata": {},
     "output_type": "display_data"
    },
    {
     "name": "stdout",
     "output_type": "stream",
     "text": [
      "<IPython.core.display.HTML object>\n",
      "Raw review: believability \n",
      "GT target: 1\n",
      "asd 4\n"
     ]
    },
    {
     "data": {
      "text/html": [
       "<table width: 100%><div style=\"border-top: 1px solid; margin-top: 5px;             padding-top: 5px; display: inline-block\"><b>Legend: </b><span style=\"display: inline-block; width: 10px; height: 10px;                 border: 1px solid; background-color:                 hsl(0, 75%, 60%)\"></span> Negative  <span style=\"display: inline-block; width: 10px; height: 10px;                 border: 1px solid; background-color:                 hsl(0, 75%, 100%)\"></span> Neutral  <span style=\"display: inline-block; width: 10px; height: 10px;                 border: 1px solid; background-color:                 hsl(120, 75%, 50%)\"></span> Positive  </div><tr><th>True Label</th><th>Predicted Label</th><th>Attribution Label</th><th>Attribution Score</th><th>Word Importance</th><tr><td><text style=\"padding-right:2em\"><b>Pos</b></text></td><td><text style=\"padding-right:2em\"><b>Pos (0.99)</b></text></td><td><text style=\"padding-right:2em\"><b>Pos</b></text></td><td><text style=\"padding-right:2em\"><b>1.28</b></text></td><td><mark style=\"background-color: hsl(120, 75%, 55%); opacity:1.0;                     line-height:1.75\"><font color=\"black\"> #s                    </font></mark><mark style=\"background-color: hsl(0, 75%, 99%); opacity:1.0;                     line-height:1.75\"><font color=\"black\"> believability                    </font></mark><mark style=\"background-color: hsl(120, 75%, 100%); opacity:1.0;                     line-height:1.75\"><font color=\"black\">                     </font></mark><mark style=\"background-color: hsl(0, 75%, 97%); opacity:1.0;                     line-height:1.75\"><font color=\"black\"> #/s                    </font></mark></td><tr></table>"
      ],
      "text/plain": [
       "<IPython.core.display.HTML object>"
      ]
     },
     "metadata": {},
     "output_type": "display_data"
    },
    {
     "name": "stdout",
     "output_type": "stream",
     "text": [
      "<IPython.core.display.HTML object>\n",
      "Raw review: an action/thriller of the finest kind , evoking memories of day of the jackal , the french connection , and heat . \n",
      "GT target: 1\n",
      "asd 25\n"
     ]
    },
    {
     "data": {
      "text/html": [
       "<table width: 100%><div style=\"border-top: 1px solid; margin-top: 5px;             padding-top: 5px; display: inline-block\"><b>Legend: </b><span style=\"display: inline-block; width: 10px; height: 10px;                 border: 1px solid; background-color:                 hsl(0, 75%, 60%)\"></span> Negative  <span style=\"display: inline-block; width: 10px; height: 10px;                 border: 1px solid; background-color:                 hsl(0, 75%, 100%)\"></span> Neutral  <span style=\"display: inline-block; width: 10px; height: 10px;                 border: 1px solid; background-color:                 hsl(120, 75%, 50%)\"></span> Positive  </div><tr><th>True Label</th><th>Predicted Label</th><th>Attribution Label</th><th>Attribution Score</th><th>Word Importance</th><tr><td><text style=\"padding-right:2em\"><b>Pos</b></text></td><td><text style=\"padding-right:2em\"><b>Pos (1.00)</b></text></td><td><text style=\"padding-right:2em\"><b>Neg</b></text></td><td><text style=\"padding-right:2em\"><b>-0.64</b></text></td><td><mark style=\"background-color: hsl(0, 75%, 61%); opacity:1.0;                     line-height:1.75\"><font color=\"black\"> #s                    </font></mark><mark style=\"background-color: hsl(120, 75%, 100%); opacity:1.0;                     line-height:1.75\"><font color=\"black\"> an                    </font></mark><mark style=\"background-color: hsl(120, 75%, 100%); opacity:1.0;                     line-height:1.75\"><font color=\"black\"> action/thriller                    </font></mark><mark style=\"background-color: hsl(0, 75%, 99%); opacity:1.0;                     line-height:1.75\"><font color=\"black\"> of                    </font></mark><mark style=\"background-color: hsl(120, 75%, 99%); opacity:1.0;                     line-height:1.75\"><font color=\"black\"> the                    </font></mark><mark style=\"background-color: hsl(0, 75%, 99%); opacity:1.0;                     line-height:1.75\"><font color=\"black\"> finest                    </font></mark><mark style=\"background-color: hsl(0, 75%, 100%); opacity:1.0;                     line-height:1.75\"><font color=\"black\"> kind                    </font></mark><mark style=\"background-color: hsl(0, 75%, 97%); opacity:1.0;                     line-height:1.75\"><font color=\"black\"> ,                    </font></mark><mark style=\"background-color: hsl(0, 75%, 100%); opacity:1.0;                     line-height:1.75\"><font color=\"black\"> evoking                    </font></mark><mark style=\"background-color: hsl(120, 75%, 96%); opacity:1.0;                     line-height:1.75\"><font color=\"black\"> memories                    </font></mark><mark style=\"background-color: hsl(0, 75%, 100%); opacity:1.0;                     line-height:1.75\"><font color=\"black\"> of                    </font></mark><mark style=\"background-color: hsl(0, 75%, 100%); opacity:1.0;                     line-height:1.75\"><font color=\"black\"> day                    </font></mark><mark style=\"background-color: hsl(120, 75%, 100%); opacity:1.0;                     line-height:1.75\"><font color=\"black\"> of                    </font></mark><mark style=\"background-color: hsl(0, 75%, 100%); opacity:1.0;                     line-height:1.75\"><font color=\"black\"> the                    </font></mark><mark style=\"background-color: hsl(120, 75%, 100%); opacity:1.0;                     line-height:1.75\"><font color=\"black\"> jackal                    </font></mark><mark style=\"background-color: hsl(120, 75%, 95%); opacity:1.0;                     line-height:1.75\"><font color=\"black\"> ,                    </font></mark><mark style=\"background-color: hsl(120, 75%, 99%); opacity:1.0;                     line-height:1.75\"><font color=\"black\"> the                    </font></mark><mark style=\"background-color: hsl(120, 75%, 98%); opacity:1.0;                     line-height:1.75\"><font color=\"black\"> french                    </font></mark><mark style=\"background-color: hsl(120, 75%, 98%); opacity:1.0;                     line-height:1.75\"><font color=\"black\"> connection                    </font></mark><mark style=\"background-color: hsl(0, 75%, 99%); opacity:1.0;                     line-height:1.75\"><font color=\"black\"> ,                    </font></mark><mark style=\"background-color: hsl(120, 75%, 100%); opacity:1.0;                     line-height:1.75\"><font color=\"black\"> and                    </font></mark><mark style=\"background-color: hsl(120, 75%, 100%); opacity:1.0;                     line-height:1.75\"><font color=\"black\"> heat                    </font></mark><mark style=\"background-color: hsl(120, 75%, 98%); opacity:1.0;                     line-height:1.75\"><font color=\"black\"> .                    </font></mark><mark style=\"background-color: hsl(120, 75%, 100%); opacity:1.0;                     line-height:1.75\"><font color=\"black\">                     </font></mark><mark style=\"background-color: hsl(0, 75%, 100%); opacity:1.0;                     line-height:1.75\"><font color=\"black\"> #/s                    </font></mark></td><tr></table>"
      ],
      "text/plain": [
       "<IPython.core.display.HTML object>"
      ]
     },
     "metadata": {},
     "output_type": "display_data"
    },
    {
     "name": "stdout",
     "output_type": "stream",
     "text": [
      "<IPython.core.display.HTML object>\n",
      "Raw review: breaks the mood with absurdly inappropriate ` comedy ' scenes \n",
      "GT target: 0\n",
      "asd 13\n"
     ]
    },
    {
     "data": {
      "text/html": [
       "<table width: 100%><div style=\"border-top: 1px solid; margin-top: 5px;             padding-top: 5px; display: inline-block\"><b>Legend: </b><span style=\"display: inline-block; width: 10px; height: 10px;                 border: 1px solid; background-color:                 hsl(0, 75%, 60%)\"></span> Negative  <span style=\"display: inline-block; width: 10px; height: 10px;                 border: 1px solid; background-color:                 hsl(0, 75%, 100%)\"></span> Neutral  <span style=\"display: inline-block; width: 10px; height: 10px;                 border: 1px solid; background-color:                 hsl(120, 75%, 50%)\"></span> Positive  </div><tr><th>True Label</th><th>Predicted Label</th><th>Attribution Label</th><th>Attribution Score</th><th>Word Importance</th><tr><td><text style=\"padding-right:2em\"><b>Neg</b></text></td><td><text style=\"padding-right:2em\"><b>Neg (0.00)</b></text></td><td><text style=\"padding-right:2em\"><b>Pos</b></text></td><td><text style=\"padding-right:2em\"><b>0.89</b></text></td><td><mark style=\"background-color: hsl(120, 75%, 51%); opacity:1.0;                     line-height:1.75\"><font color=\"black\"> #s                    </font></mark><mark style=\"background-color: hsl(0, 75%, 100%); opacity:1.0;                     line-height:1.75\"><font color=\"black\"> breaks                    </font></mark><mark style=\"background-color: hsl(0, 75%, 99%); opacity:1.0;                     line-height:1.75\"><font color=\"black\"> the                    </font></mark><mark style=\"background-color: hsl(120, 75%, 97%); opacity:1.0;                     line-height:1.75\"><font color=\"black\"> mood                    </font></mark><mark style=\"background-color: hsl(120, 75%, 100%); opacity:1.0;                     line-height:1.75\"><font color=\"black\"> with                    </font></mark><mark style=\"background-color: hsl(0, 75%, 100%); opacity:1.0;                     line-height:1.75\"><font color=\"black\"> absurdly                    </font></mark><mark style=\"background-color: hsl(120, 75%, 99%); opacity:1.0;                     line-height:1.75\"><font color=\"black\"> inappropriate                    </font></mark><mark style=\"background-color: hsl(0, 75%, 96%); opacity:1.0;                     line-height:1.75\"><font color=\"black\"> `                    </font></mark><mark style=\"background-color: hsl(0, 75%, 100%); opacity:1.0;                     line-height:1.75\"><font color=\"black\"> comedy                    </font></mark><mark style=\"background-color: hsl(120, 75%, 100%); opacity:1.0;                     line-height:1.75\"><font color=\"black\"> '                    </font></mark><mark style=\"background-color: hsl(0, 75%, 99%); opacity:1.0;                     line-height:1.75\"><font color=\"black\"> scenes                    </font></mark><mark style=\"background-color: hsl(0, 75%, 100%); opacity:1.0;                     line-height:1.75\"><font color=\"black\">                     </font></mark><mark style=\"background-color: hsl(120, 75%, 99%); opacity:1.0;                     line-height:1.75\"><font color=\"black\"> #/s                    </font></mark></td><tr></table>"
      ],
      "text/plain": [
       "<IPython.core.display.HTML object>"
      ]
     },
     "metadata": {},
     "output_type": "display_data"
    },
    {
     "name": "stdout",
     "output_type": "stream",
     "text": [
      "<IPython.core.display.HTML object>\n",
      "Raw review: sits there like a side dish no one ordered . \n",
      "GT target: 0\n",
      "asd 13\n"
     ]
    },
    {
     "data": {
      "text/html": [
       "<table width: 100%><div style=\"border-top: 1px solid; margin-top: 5px;             padding-top: 5px; display: inline-block\"><b>Legend: </b><span style=\"display: inline-block; width: 10px; height: 10px;                 border: 1px solid; background-color:                 hsl(0, 75%, 60%)\"></span> Negative  <span style=\"display: inline-block; width: 10px; height: 10px;                 border: 1px solid; background-color:                 hsl(0, 75%, 100%)\"></span> Neutral  <span style=\"display: inline-block; width: 10px; height: 10px;                 border: 1px solid; background-color:                 hsl(120, 75%, 50%)\"></span> Positive  </div><tr><th>True Label</th><th>Predicted Label</th><th>Attribution Label</th><th>Attribution Score</th><th>Word Importance</th><tr><td><text style=\"padding-right:2em\"><b>Neg</b></text></td><td><text style=\"padding-right:2em\"><b>Neg (0.00)</b></text></td><td><text style=\"padding-right:2em\"><b>Neg</b></text></td><td><text style=\"padding-right:2em\"><b>-0.31</b></text></td><td><mark style=\"background-color: hsl(120, 75%, 72%); opacity:1.0;                     line-height:1.75\"><font color=\"black\"> #s                    </font></mark><mark style=\"background-color: hsl(0, 75%, 95%); opacity:1.0;                     line-height:1.75\"><font color=\"black\"> sits                    </font></mark><mark style=\"background-color: hsl(0, 75%, 92%); opacity:1.0;                     line-height:1.75\"><font color=\"black\"> there                    </font></mark><mark style=\"background-color: hsl(120, 75%, 92%); opacity:1.0;                     line-height:1.75\"><font color=\"black\"> like                    </font></mark><mark style=\"background-color: hsl(0, 75%, 97%); opacity:1.0;                     line-height:1.75\"><font color=\"black\"> a                    </font></mark><mark style=\"background-color: hsl(0, 75%, 84%); opacity:1.0;                     line-height:1.75\"><font color=\"black\"> side                    </font></mark><mark style=\"background-color: hsl(120, 75%, 98%); opacity:1.0;                     line-height:1.75\"><font color=\"black\"> dish                    </font></mark><mark style=\"background-color: hsl(0, 75%, 95%); opacity:1.0;                     line-height:1.75\"><font color=\"black\"> no                    </font></mark><mark style=\"background-color: hsl(0, 75%, 79%); opacity:1.0;                     line-height:1.75\"><font color=\"black\"> one                    </font></mark><mark style=\"background-color: hsl(0, 75%, 98%); opacity:1.0;                     line-height:1.75\"><font color=\"black\"> ordered                    </font></mark><mark style=\"background-color: hsl(120, 75%, 91%); opacity:1.0;                     line-height:1.75\"><font color=\"black\"> .                    </font></mark><mark style=\"background-color: hsl(0, 75%, 99%); opacity:1.0;                     line-height:1.75\"><font color=\"black\">                     </font></mark><mark style=\"background-color: hsl(120, 75%, 94%); opacity:1.0;                     line-height:1.75\"><font color=\"black\"> #/s                    </font></mark></td><tr></table>"
      ],
      "text/plain": [
       "<IPython.core.display.HTML object>"
      ]
     },
     "metadata": {},
     "output_type": "display_data"
    },
    {
     "name": "stdout",
     "output_type": "stream",
     "text": [
      "<IPython.core.display.HTML object>\n",
      "Raw review: and twisted characters \n",
      "GT target: 1\n",
      "asd 6\n"
     ]
    },
    {
     "data": {
      "text/html": [
       "<table width: 100%><div style=\"border-top: 1px solid; margin-top: 5px;             padding-top: 5px; display: inline-block\"><b>Legend: </b><span style=\"display: inline-block; width: 10px; height: 10px;                 border: 1px solid; background-color:                 hsl(0, 75%, 60%)\"></span> Negative  <span style=\"display: inline-block; width: 10px; height: 10px;                 border: 1px solid; background-color:                 hsl(0, 75%, 100%)\"></span> Neutral  <span style=\"display: inline-block; width: 10px; height: 10px;                 border: 1px solid; background-color:                 hsl(120, 75%, 50%)\"></span> Positive  </div><tr><th>True Label</th><th>Predicted Label</th><th>Attribution Label</th><th>Attribution Score</th><th>Word Importance</th><tr><td><text style=\"padding-right:2em\"><b>Pos</b></text></td><td><text style=\"padding-right:2em\"><b>Pos (0.98)</b></text></td><td><text style=\"padding-right:2em\"><b>Pos</b></text></td><td><text style=\"padding-right:2em\"><b>0.53</b></text></td><td><mark style=\"background-color: hsl(0, 75%, 87%); opacity:1.0;                     line-height:1.75\"><font color=\"black\"> #s                    </font></mark><mark style=\"background-color: hsl(0, 75%, 98%); opacity:1.0;                     line-height:1.75\"><font color=\"black\"> and                    </font></mark><mark style=\"background-color: hsl(120, 75%, 63%); opacity:1.0;                     line-height:1.75\"><font color=\"black\"> twisted                    </font></mark><mark style=\"background-color: hsl(120, 75%, 77%); opacity:1.0;                     line-height:1.75\"><font color=\"black\"> characters                    </font></mark><mark style=\"background-color: hsl(120, 75%, 99%); opacity:1.0;                     line-height:1.75\"><font color=\"black\">                     </font></mark><mark style=\"background-color: hsl(0, 75%, 88%); opacity:1.0;                     line-height:1.75\"><font color=\"black\"> #/s                    </font></mark></td><tr></table>"
      ],
      "text/plain": [
       "<IPython.core.display.HTML object>"
      ]
     },
     "metadata": {},
     "output_type": "display_data"
    },
    {
     "name": "stdout",
     "output_type": "stream",
     "text": [
      "<IPython.core.display.HTML object>\n",
      "Raw review: are simply intoxicating . \n",
      "GT target: 1\n",
      "asd 7\n"
     ]
    },
    {
     "data": {
      "text/html": [
       "<table width: 100%><div style=\"border-top: 1px solid; margin-top: 5px;             padding-top: 5px; display: inline-block\"><b>Legend: </b><span style=\"display: inline-block; width: 10px; height: 10px;                 border: 1px solid; background-color:                 hsl(0, 75%, 60%)\"></span> Negative  <span style=\"display: inline-block; width: 10px; height: 10px;                 border: 1px solid; background-color:                 hsl(0, 75%, 100%)\"></span> Neutral  <span style=\"display: inline-block; width: 10px; height: 10px;                 border: 1px solid; background-color:                 hsl(120, 75%, 50%)\"></span> Positive  </div><tr><th>True Label</th><th>Predicted Label</th><th>Attribution Label</th><th>Attribution Score</th><th>Word Importance</th><tr><td><text style=\"padding-right:2em\"><b>Pos</b></text></td><td><text style=\"padding-right:2em\"><b>Pos (1.00)</b></text></td><td><text style=\"padding-right:2em\"><b>Neg</b></text></td><td><text style=\"padding-right:2em\"><b>0.21</b></text></td><td><mark style=\"background-color: hsl(120, 75%, 81%); opacity:1.0;                     line-height:1.75\"><font color=\"black\"> #s                    </font></mark><mark style=\"background-color: hsl(120, 75%, 95%); opacity:1.0;                     line-height:1.75\"><font color=\"black\"> are                    </font></mark><mark style=\"background-color: hsl(0, 75%, 66%); opacity:1.0;                     line-height:1.75\"><font color=\"black\"> simply                    </font></mark><mark style=\"background-color: hsl(120, 75%, 91%); opacity:1.0;                     line-height:1.75\"><font color=\"black\"> intoxicating                    </font></mark><mark style=\"background-color: hsl(120, 75%, 98%); opacity:1.0;                     line-height:1.75\"><font color=\"black\"> .                    </font></mark><mark style=\"background-color: hsl(120, 75%, 91%); opacity:1.0;                     line-height:1.75\"><font color=\"black\">                     </font></mark><mark style=\"background-color: hsl(120, 75%, 95%); opacity:1.0;                     line-height:1.75\"><font color=\"black\"> #/s                    </font></mark></td><tr></table>"
      ],
      "text/plain": [
       "<IPython.core.display.HTML object>"
      ]
     },
     "metadata": {},
     "output_type": "display_data"
    },
    {
     "name": "stdout",
     "output_type": "stream",
     "text": [
      "<IPython.core.display.HTML object>\n",
      "Raw review: shrek \n",
      "GT target: 1\n",
      "asd 4\n"
     ]
    },
    {
     "data": {
      "text/html": [
       "<table width: 100%><div style=\"border-top: 1px solid; margin-top: 5px;             padding-top: 5px; display: inline-block\"><b>Legend: </b><span style=\"display: inline-block; width: 10px; height: 10px;                 border: 1px solid; background-color:                 hsl(0, 75%, 60%)\"></span> Negative  <span style=\"display: inline-block; width: 10px; height: 10px;                 border: 1px solid; background-color:                 hsl(0, 75%, 100%)\"></span> Neutral  <span style=\"display: inline-block; width: 10px; height: 10px;                 border: 1px solid; background-color:                 hsl(120, 75%, 50%)\"></span> Positive  </div><tr><th>True Label</th><th>Predicted Label</th><th>Attribution Label</th><th>Attribution Score</th><th>Word Importance</th><tr><td><text style=\"padding-right:2em\"><b>Pos</b></text></td><td><text style=\"padding-right:2em\"><b>Pos (0.77)</b></text></td><td><text style=\"padding-right:2em\"><b>Pos</b></text></td><td><text style=\"padding-right:2em\"><b>0.68</b></text></td><td><mark style=\"background-color: hsl(120, 75%, 99%); opacity:1.0;                     line-height:1.75\"><font color=\"black\"> #s                    </font></mark><mark style=\"background-color: hsl(0, 75%, 100%); opacity:1.0;                     line-height:1.75\"><font color=\"black\"> shrek                    </font></mark><mark style=\"background-color: hsl(120, 75%, 52%); opacity:1.0;                     line-height:1.75\"><font color=\"black\">                     </font></mark><mark style=\"background-color: hsl(0, 75%, 98%); opacity:1.0;                     line-height:1.75\"><font color=\"black\"> #/s                    </font></mark></td><tr></table>"
      ],
      "text/plain": [
       "<IPython.core.display.HTML object>"
      ]
     },
     "metadata": {},
     "output_type": "display_data"
    },
    {
     "name": "stdout",
     "output_type": "stream",
     "text": [
      "<IPython.core.display.HTML object>\n",
      "Raw review: 's notably better acted -- and far less crass - than some other recent efforts in the burgeoning genre of films about black urban professionals \n",
      "GT target: 1\n",
      "asd 28\n"
     ]
    },
    {
     "data": {
      "text/html": [
       "<table width: 100%><div style=\"border-top: 1px solid; margin-top: 5px;             padding-top: 5px; display: inline-block\"><b>Legend: </b><span style=\"display: inline-block; width: 10px; height: 10px;                 border: 1px solid; background-color:                 hsl(0, 75%, 60%)\"></span> Negative  <span style=\"display: inline-block; width: 10px; height: 10px;                 border: 1px solid; background-color:                 hsl(0, 75%, 100%)\"></span> Neutral  <span style=\"display: inline-block; width: 10px; height: 10px;                 border: 1px solid; background-color:                 hsl(120, 75%, 50%)\"></span> Positive  </div><tr><th>True Label</th><th>Predicted Label</th><th>Attribution Label</th><th>Attribution Score</th><th>Word Importance</th><tr><td><text style=\"padding-right:2em\"><b>Pos</b></text></td><td><text style=\"padding-right:2em\"><b>Pos (1.00)</b></text></td><td><text style=\"padding-right:2em\"><b>Pos</b></text></td><td><text style=\"padding-right:2em\"><b>0.66</b></text></td><td><mark style=\"background-color: hsl(120, 75%, 52%); opacity:1.0;                     line-height:1.75\"><font color=\"black\"> #s                    </font></mark><mark style=\"background-color: hsl(120, 75%, 100%); opacity:1.0;                     line-height:1.75\"><font color=\"black\"> 's                    </font></mark><mark style=\"background-color: hsl(120, 75%, 100%); opacity:1.0;                     line-height:1.75\"><font color=\"black\"> notably                    </font></mark><mark style=\"background-color: hsl(120, 75%, 99%); opacity:1.0;                     line-height:1.75\"><font color=\"black\"> better                    </font></mark><mark style=\"background-color: hsl(120, 75%, 100%); opacity:1.0;                     line-height:1.75\"><font color=\"black\"> acted                    </font></mark><mark style=\"background-color: hsl(120, 75%, 100%); opacity:1.0;                     line-height:1.75\"><font color=\"black\"> --                    </font></mark><mark style=\"background-color: hsl(0, 75%, 93%); opacity:1.0;                     line-height:1.75\"><font color=\"black\"> and                    </font></mark><mark style=\"background-color: hsl(0, 75%, 100%); opacity:1.0;                     line-height:1.75\"><font color=\"black\"> far                    </font></mark><mark style=\"background-color: hsl(120, 75%, 100%); opacity:1.0;                     line-height:1.75\"><font color=\"black\"> less                    </font></mark><mark style=\"background-color: hsl(0, 75%, 100%); opacity:1.0;                     line-height:1.75\"><font color=\"black\"> crass                    </font></mark><mark style=\"background-color: hsl(0, 75%, 100%); opacity:1.0;                     line-height:1.75\"><font color=\"black\"> -                    </font></mark><mark style=\"background-color: hsl(0, 75%, 100%); opacity:1.0;                     line-height:1.75\"><font color=\"black\"> than                    </font></mark><mark style=\"background-color: hsl(120, 75%, 100%); opacity:1.0;                     line-height:1.75\"><font color=\"black\"> some                    </font></mark><mark style=\"background-color: hsl(0, 75%, 100%); opacity:1.0;                     line-height:1.75\"><font color=\"black\"> other                    </font></mark><mark style=\"background-color: hsl(120, 75%, 100%); opacity:1.0;                     line-height:1.75\"><font color=\"black\"> recent                    </font></mark><mark style=\"background-color: hsl(0, 75%, 100%); opacity:1.0;                     line-height:1.75\"><font color=\"black\"> efforts                    </font></mark><mark style=\"background-color: hsl(0, 75%, 100%); opacity:1.0;                     line-height:1.75\"><font color=\"black\"> in                    </font></mark><mark style=\"background-color: hsl(0, 75%, 96%); opacity:1.0;                     line-height:1.75\"><font color=\"black\"> the                    </font></mark><mark style=\"background-color: hsl(0, 75%, 100%); opacity:1.0;                     line-height:1.75\"><font color=\"black\"> burgeoning                    </font></mark><mark style=\"background-color: hsl(0, 75%, 100%); opacity:1.0;                     line-height:1.75\"><font color=\"black\"> genre                    </font></mark><mark style=\"background-color: hsl(0, 75%, 100%); opacity:1.0;                     line-height:1.75\"><font color=\"black\"> of                    </font></mark><mark style=\"background-color: hsl(0, 75%, 100%); opacity:1.0;                     line-height:1.75\"><font color=\"black\"> films                    </font></mark><mark style=\"background-color: hsl(0, 75%, 100%); opacity:1.0;                     line-height:1.75\"><font color=\"black\"> about                    </font></mark><mark style=\"background-color: hsl(0, 75%, 100%); opacity:1.0;                     line-height:1.75\"><font color=\"black\"> black                    </font></mark><mark style=\"background-color: hsl(0, 75%, 100%); opacity:1.0;                     line-height:1.75\"><font color=\"black\"> urban                    </font></mark><mark style=\"background-color: hsl(120, 75%, 100%); opacity:1.0;                     line-height:1.75\"><font color=\"black\"> professionals                    </font></mark><mark style=\"background-color: hsl(120, 75%, 100%); opacity:1.0;                     line-height:1.75\"><font color=\"black\">                     </font></mark><mark style=\"background-color: hsl(120, 75%, 99%); opacity:1.0;                     line-height:1.75\"><font color=\"black\"> #/s                    </font></mark></td><tr></table>"
      ],
      "text/plain": [
       "<IPython.core.display.HTML object>"
      ]
     },
     "metadata": {},
     "output_type": "display_data"
    },
    {
     "name": "stdout",
     "output_type": "stream",
     "text": [
      "<IPython.core.display.HTML object>\n",
      "Raw review: in freshening the play \n",
      "GT target: 1\n",
      "asd 7\n"
     ]
    },
    {
     "data": {
      "text/html": [
       "<table width: 100%><div style=\"border-top: 1px solid; margin-top: 5px;             padding-top: 5px; display: inline-block\"><b>Legend: </b><span style=\"display: inline-block; width: 10px; height: 10px;                 border: 1px solid; background-color:                 hsl(0, 75%, 60%)\"></span> Negative  <span style=\"display: inline-block; width: 10px; height: 10px;                 border: 1px solid; background-color:                 hsl(0, 75%, 100%)\"></span> Neutral  <span style=\"display: inline-block; width: 10px; height: 10px;                 border: 1px solid; background-color:                 hsl(120, 75%, 50%)\"></span> Positive  </div><tr><th>True Label</th><th>Predicted Label</th><th>Attribution Label</th><th>Attribution Score</th><th>Word Importance</th><tr><td><text style=\"padding-right:2em\"><b>Pos</b></text></td><td><text style=\"padding-right:2em\"><b>Pos (1.00)</b></text></td><td><text style=\"padding-right:2em\"><b>Neg</b></text></td><td><text style=\"padding-right:2em\"><b>0.04</b></text></td><td><mark style=\"background-color: hsl(0, 75%, 74%); opacity:1.0;                     line-height:1.75\"><font color=\"black\"> #s                    </font></mark><mark style=\"background-color: hsl(0, 75%, 84%); opacity:1.0;                     line-height:1.75\"><font color=\"black\"> in                    </font></mark><mark style=\"background-color: hsl(0, 75%, 98%); opacity:1.0;                     line-height:1.75\"><font color=\"black\"> freshening                    </font></mark><mark style=\"background-color: hsl(120, 75%, 98%); opacity:1.0;                     line-height:1.75\"><font color=\"black\"> the                    </font></mark><mark style=\"background-color: hsl(0, 75%, 98%); opacity:1.0;                     line-height:1.75\"><font color=\"black\"> play                    </font></mark><mark style=\"background-color: hsl(120, 75%, 79%); opacity:1.0;                     line-height:1.75\"><font color=\"black\">                     </font></mark><mark style=\"background-color: hsl(120, 75%, 88%); opacity:1.0;                     line-height:1.75\"><font color=\"black\"> #/s                    </font></mark></td><tr></table>"
      ],
      "text/plain": [
       "<IPython.core.display.HTML object>"
      ]
     },
     "metadata": {},
     "output_type": "display_data"
    },
    {
     "name": "stdout",
     "output_type": "stream",
     "text": [
      "<IPython.core.display.HTML object>\n",
      "Raw review: a bore that tends to hammer home every one of its points . \n",
      "GT target: 0\n",
      "asd 16\n"
     ]
    },
    {
     "data": {
      "text/html": [
       "<table width: 100%><div style=\"border-top: 1px solid; margin-top: 5px;             padding-top: 5px; display: inline-block\"><b>Legend: </b><span style=\"display: inline-block; width: 10px; height: 10px;                 border: 1px solid; background-color:                 hsl(0, 75%, 60%)\"></span> Negative  <span style=\"display: inline-block; width: 10px; height: 10px;                 border: 1px solid; background-color:                 hsl(0, 75%, 100%)\"></span> Neutral  <span style=\"display: inline-block; width: 10px; height: 10px;                 border: 1px solid; background-color:                 hsl(120, 75%, 50%)\"></span> Positive  </div><tr><th>True Label</th><th>Predicted Label</th><th>Attribution Label</th><th>Attribution Score</th><th>Word Importance</th><tr><td><text style=\"padding-right:2em\"><b>Neg</b></text></td><td><text style=\"padding-right:2em\"><b>Neg (0.00)</b></text></td><td><text style=\"padding-right:2em\"><b>Neg</b></text></td><td><text style=\"padding-right:2em\"><b>-0.90</b></text></td><td><mark style=\"background-color: hsl(120, 75%, 92%); opacity:1.0;                     line-height:1.75\"><font color=\"black\"> #s                    </font></mark><mark style=\"background-color: hsl(120, 75%, 98%); opacity:1.0;                     line-height:1.75\"><font color=\"black\"> a                    </font></mark><mark style=\"background-color: hsl(120, 75%, 98%); opacity:1.0;                     line-height:1.75\"><font color=\"black\"> bore                    </font></mark><mark style=\"background-color: hsl(0, 75%, 100%); opacity:1.0;                     line-height:1.75\"><font color=\"black\"> that                    </font></mark><mark style=\"background-color: hsl(120, 75%, 99%); opacity:1.0;                     line-height:1.75\"><font color=\"black\"> tends                    </font></mark><mark style=\"background-color: hsl(0, 75%, 97%); opacity:1.0;                     line-height:1.75\"><font color=\"black\"> to                    </font></mark><mark style=\"background-color: hsl(0, 75%, 63%); opacity:1.0;                     line-height:1.75\"><font color=\"black\"> hammer                    </font></mark><mark style=\"background-color: hsl(0, 75%, 99%); opacity:1.0;                     line-height:1.75\"><font color=\"black\"> home                    </font></mark><mark style=\"background-color: hsl(0, 75%, 100%); opacity:1.0;                     line-height:1.75\"><font color=\"black\"> every                    </font></mark><mark style=\"background-color: hsl(0, 75%, 100%); opacity:1.0;                     line-height:1.75\"><font color=\"black\"> one                    </font></mark><mark style=\"background-color: hsl(120, 75%, 100%); opacity:1.0;                     line-height:1.75\"><font color=\"black\"> of                    </font></mark><mark style=\"background-color: hsl(120, 75%, 99%); opacity:1.0;                     line-height:1.75\"><font color=\"black\"> its                    </font></mark><mark style=\"background-color: hsl(0, 75%, 94%); opacity:1.0;                     line-height:1.75\"><font color=\"black\"> points                    </font></mark><mark style=\"background-color: hsl(0, 75%, 94%); opacity:1.0;                     line-height:1.75\"><font color=\"black\"> .                    </font></mark><mark style=\"background-color: hsl(120, 75%, 90%); opacity:1.0;                     line-height:1.75\"><font color=\"black\">                     </font></mark><mark style=\"background-color: hsl(0, 75%, 99%); opacity:1.0;                     line-height:1.75\"><font color=\"black\"> #/s                    </font></mark></td><tr></table>"
      ],
      "text/plain": [
       "<IPython.core.display.HTML object>"
      ]
     },
     "metadata": {},
     "output_type": "display_data"
    },
    {
     "name": "stdout",
     "output_type": "stream",
     "text": [
      "<IPython.core.display.HTML object>\n",
      "Raw review: the images often look smeary and blurry , to the point of distraction \n",
      "GT target: 0\n",
      "asd 16\n"
     ]
    },
    {
     "data": {
      "text/html": [
       "<table width: 100%><div style=\"border-top: 1px solid; margin-top: 5px;             padding-top: 5px; display: inline-block\"><b>Legend: </b><span style=\"display: inline-block; width: 10px; height: 10px;                 border: 1px solid; background-color:                 hsl(0, 75%, 60%)\"></span> Negative  <span style=\"display: inline-block; width: 10px; height: 10px;                 border: 1px solid; background-color:                 hsl(0, 75%, 100%)\"></span> Neutral  <span style=\"display: inline-block; width: 10px; height: 10px;                 border: 1px solid; background-color:                 hsl(120, 75%, 50%)\"></span> Positive  </div><tr><th>True Label</th><th>Predicted Label</th><th>Attribution Label</th><th>Attribution Score</th><th>Word Importance</th><tr><td><text style=\"padding-right:2em\"><b>Neg</b></text></td><td><text style=\"padding-right:2em\"><b>Neg (0.00)</b></text></td><td><text style=\"padding-right:2em\"><b>Neg</b></text></td><td><text style=\"padding-right:2em\"><b>-1.07</b></text></td><td><mark style=\"background-color: hsl(120, 75%, 93%); opacity:1.0;                     line-height:1.75\"><font color=\"black\"> #s                    </font></mark><mark style=\"background-color: hsl(0, 75%, 100%); opacity:1.0;                     line-height:1.75\"><font color=\"black\"> the                    </font></mark><mark style=\"background-color: hsl(0, 75%, 95%); opacity:1.0;                     line-height:1.75\"><font color=\"black\"> images                    </font></mark><mark style=\"background-color: hsl(0, 75%, 93%); opacity:1.0;                     line-height:1.75\"><font color=\"black\"> often                    </font></mark><mark style=\"background-color: hsl(0, 75%, 98%); opacity:1.0;                     line-height:1.75\"><font color=\"black\"> look                    </font></mark><mark style=\"background-color: hsl(0, 75%, 99%); opacity:1.0;                     line-height:1.75\"><font color=\"black\"> smeary                    </font></mark><mark style=\"background-color: hsl(0, 75%, 90%); opacity:1.0;                     line-height:1.75\"><font color=\"black\"> and                    </font></mark><mark style=\"background-color: hsl(120, 75%, 88%); opacity:1.0;                     line-height:1.75\"><font color=\"black\"> blurry                    </font></mark><mark style=\"background-color: hsl(0, 75%, 73%); opacity:1.0;                     line-height:1.75\"><font color=\"black\"> ,                    </font></mark><mark style=\"background-color: hsl(120, 75%, 85%); opacity:1.0;                     line-height:1.75\"><font color=\"black\"> to                    </font></mark><mark style=\"background-color: hsl(0, 75%, 100%); opacity:1.0;                     line-height:1.75\"><font color=\"black\"> the                    </font></mark><mark style=\"background-color: hsl(0, 75%, 87%); opacity:1.0;                     line-height:1.75\"><font color=\"black\"> point                    </font></mark><mark style=\"background-color: hsl(120, 75%, 94%); opacity:1.0;                     line-height:1.75\"><font color=\"black\"> of                    </font></mark><mark style=\"background-color: hsl(0, 75%, 90%); opacity:1.0;                     line-height:1.75\"><font color=\"black\"> distraction                    </font></mark><mark style=\"background-color: hsl(120, 75%, 97%); opacity:1.0;                     line-height:1.75\"><font color=\"black\">                     </font></mark><mark style=\"background-color: hsl(0, 75%, 100%); opacity:1.0;                     line-height:1.75\"><font color=\"black\"> #/s                    </font></mark></td><tr></table>"
      ],
      "text/plain": [
       "<IPython.core.display.HTML object>"
      ]
     },
     "metadata": {},
     "output_type": "display_data"
    },
    {
     "name": "stdout",
     "output_type": "stream",
     "text": [
      "<IPython.core.display.HTML object>\n",
      "Raw review: than sketches ... which leaves any true emotional connection or identification frustratingly out of reach \n",
      "GT target: 0\n",
      "asd 18\n"
     ]
    },
    {
     "data": {
      "text/html": [
       "<table width: 100%><div style=\"border-top: 1px solid; margin-top: 5px;             padding-top: 5px; display: inline-block\"><b>Legend: </b><span style=\"display: inline-block; width: 10px; height: 10px;                 border: 1px solid; background-color:                 hsl(0, 75%, 60%)\"></span> Negative  <span style=\"display: inline-block; width: 10px; height: 10px;                 border: 1px solid; background-color:                 hsl(0, 75%, 100%)\"></span> Neutral  <span style=\"display: inline-block; width: 10px; height: 10px;                 border: 1px solid; background-color:                 hsl(120, 75%, 50%)\"></span> Positive  </div><tr><th>True Label</th><th>Predicted Label</th><th>Attribution Label</th><th>Attribution Score</th><th>Word Importance</th><tr><td><text style=\"padding-right:2em\"><b>Neg</b></text></td><td><text style=\"padding-right:2em\"><b>Neg (0.00)</b></text></td><td><text style=\"padding-right:2em\"><b>Neg</b></text></td><td><text style=\"padding-right:2em\"><b>-1.37</b></text></td><td><mark style=\"background-color: hsl(0, 75%, 68%); opacity:1.0;                     line-height:1.75\"><font color=\"black\"> #s                    </font></mark><mark style=\"background-color: hsl(120, 75%, 100%); opacity:1.0;                     line-height:1.75\"><font color=\"black\"> than                    </font></mark><mark style=\"background-color: hsl(0, 75%, 100%); opacity:1.0;                     line-height:1.75\"><font color=\"black\"> sketches                    </font></mark><mark style=\"background-color: hsl(0, 75%, 97%); opacity:1.0;                     line-height:1.75\"><font color=\"black\"> ...                    </font></mark><mark style=\"background-color: hsl(120, 75%, 100%); opacity:1.0;                     line-height:1.75\"><font color=\"black\"> which                    </font></mark><mark style=\"background-color: hsl(0, 75%, 100%); opacity:1.0;                     line-height:1.75\"><font color=\"black\"> leaves                    </font></mark><mark style=\"background-color: hsl(0, 75%, 100%); opacity:1.0;                     line-height:1.75\"><font color=\"black\"> any                    </font></mark><mark style=\"background-color: hsl(120, 75%, 90%); opacity:1.0;                     line-height:1.75\"><font color=\"black\"> true                    </font></mark><mark style=\"background-color: hsl(120, 75%, 96%); opacity:1.0;                     line-height:1.75\"><font color=\"black\"> emotional                    </font></mark><mark style=\"background-color: hsl(120, 75%, 96%); opacity:1.0;                     line-height:1.75\"><font color=\"black\"> connection                    </font></mark><mark style=\"background-color: hsl(0, 75%, 95%); opacity:1.0;                     line-height:1.75\"><font color=\"black\"> or                    </font></mark><mark style=\"background-color: hsl(0, 75%, 100%); opacity:1.0;                     line-height:1.75\"><font color=\"black\"> identification                    </font></mark><mark style=\"background-color: hsl(0, 75%, 82%); opacity:1.0;                     line-height:1.75\"><font color=\"black\"> frustratingly                    </font></mark><mark style=\"background-color: hsl(0, 75%, 98%); opacity:1.0;                     line-height:1.75\"><font color=\"black\"> out                    </font></mark><mark style=\"background-color: hsl(0, 75%, 99%); opacity:1.0;                     line-height:1.75\"><font color=\"black\"> of                    </font></mark><mark style=\"background-color: hsl(0, 75%, 97%); opacity:1.0;                     line-height:1.75\"><font color=\"black\"> reach                    </font></mark><mark style=\"background-color: hsl(120, 75%, 98%); opacity:1.0;                     line-height:1.75\"><font color=\"black\">                     </font></mark><mark style=\"background-color: hsl(120, 75%, 100%); opacity:1.0;                     line-height:1.75\"><font color=\"black\"> #/s                    </font></mark></td><tr></table>"
      ],
      "text/plain": [
       "<IPython.core.display.HTML object>"
      ]
     },
     "metadata": {},
     "output_type": "display_data"
    },
    {
     "name": "stdout",
     "output_type": "stream",
     "text": [
      "<IPython.core.display.HTML object>\n",
      "Raw review: stirs us \n",
      "GT target: 1\n",
      "asd 5\n"
     ]
    },
    {
     "data": {
      "text/html": [
       "<table width: 100%><div style=\"border-top: 1px solid; margin-top: 5px;             padding-top: 5px; display: inline-block\"><b>Legend: </b><span style=\"display: inline-block; width: 10px; height: 10px;                 border: 1px solid; background-color:                 hsl(0, 75%, 60%)\"></span> Negative  <span style=\"display: inline-block; width: 10px; height: 10px;                 border: 1px solid; background-color:                 hsl(0, 75%, 100%)\"></span> Neutral  <span style=\"display: inline-block; width: 10px; height: 10px;                 border: 1px solid; background-color:                 hsl(120, 75%, 50%)\"></span> Positive  </div><tr><th>True Label</th><th>Predicted Label</th><th>Attribution Label</th><th>Attribution Score</th><th>Word Importance</th><tr><td><text style=\"padding-right:2em\"><b>Pos</b></text></td><td><text style=\"padding-right:2em\"><b>Pos (1.00)</b></text></td><td><text style=\"padding-right:2em\"><b>Neg</b></text></td><td><text style=\"padding-right:2em\"><b>-1.48</b></text></td><td><mark style=\"background-color: hsl(0, 75%, 63%); opacity:1.0;                     line-height:1.75\"><font color=\"black\"> #s                    </font></mark><mark style=\"background-color: hsl(0, 75%, 94%); opacity:1.0;                     line-height:1.75\"><font color=\"black\"> stirs                    </font></mark><mark style=\"background-color: hsl(0, 75%, 93%); opacity:1.0;                     line-height:1.75\"><font color=\"black\"> us                    </font></mark><mark style=\"background-color: hsl(0, 75%, 100%); opacity:1.0;                     line-height:1.75\"><font color=\"black\">                     </font></mark><mark style=\"background-color: hsl(0, 75%, 92%); opacity:1.0;                     line-height:1.75\"><font color=\"black\"> #/s                    </font></mark></td><tr></table>"
      ],
      "text/plain": [
       "<IPython.core.display.HTML object>"
      ]
     },
     "metadata": {},
     "output_type": "display_data"
    },
    {
     "name": "stdout",
     "output_type": "stream",
     "text": [
      "<IPython.core.display.HTML object>\n",
      "Raw review: it 's funny . \n",
      "GT target: 1\n",
      "asd 7\n"
     ]
    },
    {
     "data": {
      "text/html": [
       "<table width: 100%><div style=\"border-top: 1px solid; margin-top: 5px;             padding-top: 5px; display: inline-block\"><b>Legend: </b><span style=\"display: inline-block; width: 10px; height: 10px;                 border: 1px solid; background-color:                 hsl(0, 75%, 60%)\"></span> Negative  <span style=\"display: inline-block; width: 10px; height: 10px;                 border: 1px solid; background-color:                 hsl(0, 75%, 100%)\"></span> Neutral  <span style=\"display: inline-block; width: 10px; height: 10px;                 border: 1px solid; background-color:                 hsl(120, 75%, 50%)\"></span> Positive  </div><tr><th>True Label</th><th>Predicted Label</th><th>Attribution Label</th><th>Attribution Score</th><th>Word Importance</th><tr><td><text style=\"padding-right:2em\"><b>Pos</b></text></td><td><text style=\"padding-right:2em\"><b>Pos (1.00)</b></text></td><td><text style=\"padding-right:2em\"><b>Neg</b></text></td><td><text style=\"padding-right:2em\"><b>-0.30</b></text></td><td><mark style=\"background-color: hsl(0, 75%, 66%); opacity:1.0;                     line-height:1.75\"><font color=\"black\"> #s                    </font></mark><mark style=\"background-color: hsl(120, 75%, 96%); opacity:1.0;                     line-height:1.75\"><font color=\"black\"> it                    </font></mark><mark style=\"background-color: hsl(120, 75%, 93%); opacity:1.0;                     line-height:1.75\"><font color=\"black\"> 's                    </font></mark><mark style=\"background-color: hsl(0, 75%, 95%); opacity:1.0;                     line-height:1.75\"><font color=\"black\"> funny                    </font></mark><mark style=\"background-color: hsl(120, 75%, 79%); opacity:1.0;                     line-height:1.75\"><font color=\"black\"> .                    </font></mark><mark style=\"background-color: hsl(120, 75%, 98%); opacity:1.0;                     line-height:1.75\"><font color=\"black\">                     </font></mark><mark style=\"background-color: hsl(0, 75%, 99%); opacity:1.0;                     line-height:1.75\"><font color=\"black\"> #/s                    </font></mark></td><tr></table>"
      ],
      "text/plain": [
       "<IPython.core.display.HTML object>"
      ]
     },
     "metadata": {},
     "output_type": "display_data"
    },
    {
     "name": "stdout",
     "output_type": "stream",
     "text": [
      "<IPython.core.display.HTML object>\n",
      "Raw review: given up \n",
      "GT target: 0\n",
      "asd 5\n"
     ]
    },
    {
     "data": {
      "text/html": [
       "<table width: 100%><div style=\"border-top: 1px solid; margin-top: 5px;             padding-top: 5px; display: inline-block\"><b>Legend: </b><span style=\"display: inline-block; width: 10px; height: 10px;                 border: 1px solid; background-color:                 hsl(0, 75%, 60%)\"></span> Negative  <span style=\"display: inline-block; width: 10px; height: 10px;                 border: 1px solid; background-color:                 hsl(0, 75%, 100%)\"></span> Neutral  <span style=\"display: inline-block; width: 10px; height: 10px;                 border: 1px solid; background-color:                 hsl(120, 75%, 50%)\"></span> Positive  </div><tr><th>True Label</th><th>Predicted Label</th><th>Attribution Label</th><th>Attribution Score</th><th>Word Importance</th><tr><td><text style=\"padding-right:2em\"><b>Neg</b></text></td><td><text style=\"padding-right:2em\"><b>Neg (0.00)</b></text></td><td><text style=\"padding-right:2em\"><b>Pos</b></text></td><td><text style=\"padding-right:2em\"><b>1.82</b></text></td><td><mark style=\"background-color: hsl(0, 75%, 99%); opacity:1.0;                     line-height:1.75\"><font color=\"black\"> #s                    </font></mark><mark style=\"background-color: hsl(120, 75%, 70%); opacity:1.0;                     line-height:1.75\"><font color=\"black\"> given                    </font></mark><mark style=\"background-color: hsl(120, 75%, 67%); opacity:1.0;                     line-height:1.75\"><font color=\"black\"> up                    </font></mark><mark style=\"background-color: hsl(120, 75%, 82%); opacity:1.0;                     line-height:1.75\"><font color=\"black\">                     </font></mark><mark style=\"background-color: hsl(120, 75%, 90%); opacity:1.0;                     line-height:1.75\"><font color=\"black\"> #/s                    </font></mark></td><tr></table>"
      ],
      "text/plain": [
       "<IPython.core.display.HTML object>"
      ]
     },
     "metadata": {},
     "output_type": "display_data"
    },
    {
     "name": "stdout",
     "output_type": "stream",
     "text": [
      "<IPython.core.display.HTML object>\n",
      "Raw review: no way original \n",
      "GT target: 0\n",
      "asd 6\n"
     ]
    },
    {
     "data": {
      "text/html": [
       "<table width: 100%><div style=\"border-top: 1px solid; margin-top: 5px;             padding-top: 5px; display: inline-block\"><b>Legend: </b><span style=\"display: inline-block; width: 10px; height: 10px;                 border: 1px solid; background-color:                 hsl(0, 75%, 60%)\"></span> Negative  <span style=\"display: inline-block; width: 10px; height: 10px;                 border: 1px solid; background-color:                 hsl(0, 75%, 100%)\"></span> Neutral  <span style=\"display: inline-block; width: 10px; height: 10px;                 border: 1px solid; background-color:                 hsl(120, 75%, 50%)\"></span> Positive  </div><tr><th>True Label</th><th>Predicted Label</th><th>Attribution Label</th><th>Attribution Score</th><th>Word Importance</th><tr><td><text style=\"padding-right:2em\"><b>Neg</b></text></td><td><text style=\"padding-right:2em\"><b>Neg (0.00)</b></text></td><td><text style=\"padding-right:2em\"><b>Neg</b></text></td><td><text style=\"padding-right:2em\"><b>-0.86</b></text></td><td><mark style=\"background-color: hsl(0, 75%, 61%); opacity:1.0;                     line-height:1.75\"><font color=\"black\"> #s                    </font></mark><mark style=\"background-color: hsl(0, 75%, 99%); opacity:1.0;                     line-height:1.75\"><font color=\"black\"> no                    </font></mark><mark style=\"background-color: hsl(120, 75%, 98%); opacity:1.0;                     line-height:1.75\"><font color=\"black\"> way                    </font></mark><mark style=\"background-color: hsl(120, 75%, 98%); opacity:1.0;                     line-height:1.75\"><font color=\"black\"> original                    </font></mark><mark style=\"background-color: hsl(120, 75%, 95%); opacity:1.0;                     line-height:1.75\"><font color=\"black\">                     </font></mark><mark style=\"background-color: hsl(0, 75%, 98%); opacity:1.0;                     line-height:1.75\"><font color=\"black\"> #/s                    </font></mark></td><tr></table>"
      ],
      "text/plain": [
       "<IPython.core.display.HTML object>"
      ]
     },
     "metadata": {},
     "output_type": "display_data"
    },
    {
     "name": "stdout",
     "output_type": "stream",
     "text": [
      "<IPython.core.display.HTML object>\n",
      "Raw review: together ( time out and human resources ) establish mr. cantet as france 's foremost cinematic poet of the workplace . \n",
      "GT target: 1\n",
      "asd 24\n"
     ]
    },
    {
     "data": {
      "text/html": [
       "<table width: 100%><div style=\"border-top: 1px solid; margin-top: 5px;             padding-top: 5px; display: inline-block\"><b>Legend: </b><span style=\"display: inline-block; width: 10px; height: 10px;                 border: 1px solid; background-color:                 hsl(0, 75%, 60%)\"></span> Negative  <span style=\"display: inline-block; width: 10px; height: 10px;                 border: 1px solid; background-color:                 hsl(0, 75%, 100%)\"></span> Neutral  <span style=\"display: inline-block; width: 10px; height: 10px;                 border: 1px solid; background-color:                 hsl(120, 75%, 50%)\"></span> Positive  </div><tr><th>True Label</th><th>Predicted Label</th><th>Attribution Label</th><th>Attribution Score</th><th>Word Importance</th><tr><td><text style=\"padding-right:2em\"><b>Pos</b></text></td><td><text style=\"padding-right:2em\"><b>Pos (1.00)</b></text></td><td><text style=\"padding-right:2em\"><b>Neg</b></text></td><td><text style=\"padding-right:2em\"><b>-0.70</b></text></td><td><mark style=\"background-color: hsl(120, 75%, 90%); opacity:1.0;                     line-height:1.75\"><font color=\"black\"> #s                    </font></mark><mark style=\"background-color: hsl(120, 75%, 93%); opacity:1.0;                     line-height:1.75\"><font color=\"black\"> together                    </font></mark><mark style=\"background-color: hsl(0, 75%, 93%); opacity:1.0;                     line-height:1.75\"><font color=\"black\"> (                    </font></mark><mark style=\"background-color: hsl(120, 75%, 100%); opacity:1.0;                     line-height:1.75\"><font color=\"black\"> time                    </font></mark><mark style=\"background-color: hsl(0, 75%, 100%); opacity:1.0;                     line-height:1.75\"><font color=\"black\"> out                    </font></mark><mark style=\"background-color: hsl(0, 75%, 83%); opacity:1.0;                     line-height:1.75\"><font color=\"black\"> and                    </font></mark><mark style=\"background-color: hsl(120, 75%, 92%); opacity:1.0;                     line-height:1.75\"><font color=\"black\"> human                    </font></mark><mark style=\"background-color: hsl(0, 75%, 100%); opacity:1.0;                     line-height:1.75\"><font color=\"black\"> resources                    </font></mark><mark style=\"background-color: hsl(0, 75%, 89%); opacity:1.0;                     line-height:1.75\"><font color=\"black\"> )                    </font></mark><mark style=\"background-color: hsl(120, 75%, 96%); opacity:1.0;                     line-height:1.75\"><font color=\"black\"> establish                    </font></mark><mark style=\"background-color: hsl(0, 75%, 91%); opacity:1.0;                     line-height:1.75\"><font color=\"black\"> mr.                    </font></mark><mark style=\"background-color: hsl(120, 75%, 99%); opacity:1.0;                     line-height:1.75\"><font color=\"black\"> cantet                    </font></mark><mark style=\"background-color: hsl(120, 75%, 80%); opacity:1.0;                     line-height:1.75\"><font color=\"black\"> as                    </font></mark><mark style=\"background-color: hsl(120, 75%, 94%); opacity:1.0;                     line-height:1.75\"><font color=\"black\"> france                    </font></mark><mark style=\"background-color: hsl(0, 75%, 96%); opacity:1.0;                     line-height:1.75\"><font color=\"black\"> 's                    </font></mark><mark style=\"background-color: hsl(0, 75%, 94%); opacity:1.0;                     line-height:1.75\"><font color=\"black\"> foremost                    </font></mark><mark style=\"background-color: hsl(0, 75%, 97%); opacity:1.0;                     line-height:1.75\"><font color=\"black\"> cinematic                    </font></mark><mark style=\"background-color: hsl(120, 75%, 99%); opacity:1.0;                     line-height:1.75\"><font color=\"black\"> poet                    </font></mark><mark style=\"background-color: hsl(0, 75%, 87%); opacity:1.0;                     line-height:1.75\"><font color=\"black\"> of                    </font></mark><mark style=\"background-color: hsl(0, 75%, 100%); opacity:1.0;                     line-height:1.75\"><font color=\"black\"> the                    </font></mark><mark style=\"background-color: hsl(0, 75%, 98%); opacity:1.0;                     line-height:1.75\"><font color=\"black\"> workplace                    </font></mark><mark style=\"background-color: hsl(120, 75%, 90%); opacity:1.0;                     line-height:1.75\"><font color=\"black\"> .                    </font></mark><mark style=\"background-color: hsl(120, 75%, 100%); opacity:1.0;                     line-height:1.75\"><font color=\"black\">                     </font></mark><mark style=\"background-color: hsl(0, 75%, 91%); opacity:1.0;                     line-height:1.75\"><font color=\"black\"> #/s                    </font></mark></td><tr></table>"
      ],
      "text/plain": [
       "<IPython.core.display.HTML object>"
      ]
     },
     "metadata": {},
     "output_type": "display_data"
    },
    {
     "name": "stdout",
     "output_type": "stream",
     "text": [
      "<IPython.core.display.HTML object>\n",
      "Raw review: stylish and moody \n",
      "GT target: 1\n",
      "asd 6\n"
     ]
    },
    {
     "data": {
      "text/html": [
       "<table width: 100%><div style=\"border-top: 1px solid; margin-top: 5px;             padding-top: 5px; display: inline-block\"><b>Legend: </b><span style=\"display: inline-block; width: 10px; height: 10px;                 border: 1px solid; background-color:                 hsl(0, 75%, 60%)\"></span> Negative  <span style=\"display: inline-block; width: 10px; height: 10px;                 border: 1px solid; background-color:                 hsl(0, 75%, 100%)\"></span> Neutral  <span style=\"display: inline-block; width: 10px; height: 10px;                 border: 1px solid; background-color:                 hsl(120, 75%, 50%)\"></span> Positive  </div><tr><th>True Label</th><th>Predicted Label</th><th>Attribution Label</th><th>Attribution Score</th><th>Word Importance</th><tr><td><text style=\"padding-right:2em\"><b>Pos</b></text></td><td><text style=\"padding-right:2em\"><b>Pos (1.00)</b></text></td><td><text style=\"padding-right:2em\"><b>Neg</b></text></td><td><text style=\"padding-right:2em\"><b>-1.19</b></text></td><td><mark style=\"background-color: hsl(120, 75%, 94%); opacity:1.0;                     line-height:1.75\"><font color=\"black\"> #s                    </font></mark><mark style=\"background-color: hsl(0, 75%, 95%); opacity:1.0;                     line-height:1.75\"><font color=\"black\"> stylish                    </font></mark><mark style=\"background-color: hsl(0, 75%, 88%); opacity:1.0;                     line-height:1.75\"><font color=\"black\"> and                    </font></mark><mark style=\"background-color: hsl(0, 75%, 71%); opacity:1.0;                     line-height:1.75\"><font color=\"black\"> moody                    </font></mark><mark style=\"background-color: hsl(0, 75%, 84%); opacity:1.0;                     line-height:1.75\"><font color=\"black\">                     </font></mark><mark style=\"background-color: hsl(120, 75%, 83%); opacity:1.0;                     line-height:1.75\"><font color=\"black\"> #/s                    </font></mark></td><tr></table>"
      ],
      "text/plain": [
       "<IPython.core.display.HTML object>"
      ]
     },
     "metadata": {},
     "output_type": "display_data"
    },
    {
     "name": "stdout",
     "output_type": "stream",
     "text": [
      "<IPython.core.display.HTML object>\n",
      "Raw review: vulgarity \n",
      "GT target: 0\n",
      "asd 4\n"
     ]
    },
    {
     "data": {
      "text/html": [
       "<table width: 100%><div style=\"border-top: 1px solid; margin-top: 5px;             padding-top: 5px; display: inline-block\"><b>Legend: </b><span style=\"display: inline-block; width: 10px; height: 10px;                 border: 1px solid; background-color:                 hsl(0, 75%, 60%)\"></span> Negative  <span style=\"display: inline-block; width: 10px; height: 10px;                 border: 1px solid; background-color:                 hsl(0, 75%, 100%)\"></span> Neutral  <span style=\"display: inline-block; width: 10px; height: 10px;                 border: 1px solid; background-color:                 hsl(120, 75%, 50%)\"></span> Positive  </div><tr><th>True Label</th><th>Predicted Label</th><th>Attribution Label</th><th>Attribution Score</th><th>Word Importance</th><tr><td><text style=\"padding-right:2em\"><b>Neg</b></text></td><td><text style=\"padding-right:2em\"><b>Neg (0.00)</b></text></td><td><text style=\"padding-right:2em\"><b>Pos</b></text></td><td><text style=\"padding-right:2em\"><b>0.85</b></text></td><td><mark style=\"background-color: hsl(120, 75%, 66%); opacity:1.0;                     line-height:1.75\"><font color=\"black\"> #s                    </font></mark><mark style=\"background-color: hsl(0, 75%, 89%); opacity:1.0;                     line-height:1.75\"><font color=\"black\"> vulgarity                    </font></mark><mark style=\"background-color: hsl(120, 75%, 100%); opacity:1.0;                     line-height:1.75\"><font color=\"black\">                     </font></mark><mark style=\"background-color: hsl(0, 75%, 85%); opacity:1.0;                     line-height:1.75\"><font color=\"black\"> #/s                    </font></mark></td><tr></table>"
      ],
      "text/plain": [
       "<IPython.core.display.HTML object>"
      ]
     },
     "metadata": {},
     "output_type": "display_data"
    },
    {
     "name": "stdout",
     "output_type": "stream",
     "text": [
      "<IPython.core.display.HTML object>\n",
      "Raw review: falls short on tension , eloquence , spiritual challenge -- things that have made the original new testament stories so compelling for 20 centuries \n",
      "GT target: 0\n",
      "asd 27\n"
     ]
    },
    {
     "data": {
      "text/html": [
       "<table width: 100%><div style=\"border-top: 1px solid; margin-top: 5px;             padding-top: 5px; display: inline-block\"><b>Legend: </b><span style=\"display: inline-block; width: 10px; height: 10px;                 border: 1px solid; background-color:                 hsl(0, 75%, 60%)\"></span> Negative  <span style=\"display: inline-block; width: 10px; height: 10px;                 border: 1px solid; background-color:                 hsl(0, 75%, 100%)\"></span> Neutral  <span style=\"display: inline-block; width: 10px; height: 10px;                 border: 1px solid; background-color:                 hsl(120, 75%, 50%)\"></span> Positive  </div><tr><th>True Label</th><th>Predicted Label</th><th>Attribution Label</th><th>Attribution Score</th><th>Word Importance</th><tr><td><text style=\"padding-right:2em\"><b>Neg</b></text></td><td><text style=\"padding-right:2em\"><b>Neg (0.00)</b></text></td><td><text style=\"padding-right:2em\"><b>Neg</b></text></td><td><text style=\"padding-right:2em\"><b>-1.25</b></text></td><td><mark style=\"background-color: hsl(0, 75%, 64%); opacity:1.0;                     line-height:1.75\"><font color=\"black\"> #s                    </font></mark><mark style=\"background-color: hsl(0, 75%, 99%); opacity:1.0;                     line-height:1.75\"><font color=\"black\"> falls                    </font></mark><mark style=\"background-color: hsl(0, 75%, 99%); opacity:1.0;                     line-height:1.75\"><font color=\"black\"> short                    </font></mark><mark style=\"background-color: hsl(0, 75%, 99%); opacity:1.0;                     line-height:1.75\"><font color=\"black\"> on                    </font></mark><mark style=\"background-color: hsl(0, 75%, 100%); opacity:1.0;                     line-height:1.75\"><font color=\"black\"> tension                    </font></mark><mark style=\"background-color: hsl(120, 75%, 98%); opacity:1.0;                     line-height:1.75\"><font color=\"black\"> ,                    </font></mark><mark style=\"background-color: hsl(0, 75%, 99%); opacity:1.0;                     line-height:1.75\"><font color=\"black\"> eloquence                    </font></mark><mark style=\"background-color: hsl(0, 75%, 93%); opacity:1.0;                     line-height:1.75\"><font color=\"black\"> ,                    </font></mark><mark style=\"background-color: hsl(0, 75%, 100%); opacity:1.0;                     line-height:1.75\"><font color=\"black\"> spiritual                    </font></mark><mark style=\"background-color: hsl(0, 75%, 100%); opacity:1.0;                     line-height:1.75\"><font color=\"black\"> challenge                    </font></mark><mark style=\"background-color: hsl(120, 75%, 100%); opacity:1.0;                     line-height:1.75\"><font color=\"black\"> --                    </font></mark><mark style=\"background-color: hsl(0, 75%, 96%); opacity:1.0;                     line-height:1.75\"><font color=\"black\"> things                    </font></mark><mark style=\"background-color: hsl(0, 75%, 99%); opacity:1.0;                     line-height:1.75\"><font color=\"black\"> that                    </font></mark><mark style=\"background-color: hsl(120, 75%, 97%); opacity:1.0;                     line-height:1.75\"><font color=\"black\"> have                    </font></mark><mark style=\"background-color: hsl(120, 75%, 98%); opacity:1.0;                     line-height:1.75\"><font color=\"black\"> made                    </font></mark><mark style=\"background-color: hsl(120, 75%, 100%); opacity:1.0;                     line-height:1.75\"><font color=\"black\"> the                    </font></mark><mark style=\"background-color: hsl(120, 75%, 95%); opacity:1.0;                     line-height:1.75\"><font color=\"black\"> original                    </font></mark><mark style=\"background-color: hsl(0, 75%, 99%); opacity:1.0;                     line-height:1.75\"><font color=\"black\"> new                    </font></mark><mark style=\"background-color: hsl(120, 75%, 100%); opacity:1.0;                     line-height:1.75\"><font color=\"black\"> testament                    </font></mark><mark style=\"background-color: hsl(0, 75%, 100%); opacity:1.0;                     line-height:1.75\"><font color=\"black\"> stories                    </font></mark><mark style=\"background-color: hsl(0, 75%, 99%); opacity:1.0;                     line-height:1.75\"><font color=\"black\"> so                    </font></mark><mark style=\"background-color: hsl(0, 75%, 97%); opacity:1.0;                     line-height:1.75\"><font color=\"black\"> compelling                    </font></mark><mark style=\"background-color: hsl(120, 75%, 93%); opacity:1.0;                     line-height:1.75\"><font color=\"black\"> for                    </font></mark><mark style=\"background-color: hsl(120, 75%, 99%); opacity:1.0;                     line-height:1.75\"><font color=\"black\"> 20                    </font></mark><mark style=\"background-color: hsl(120, 75%, 100%); opacity:1.0;                     line-height:1.75\"><font color=\"black\"> centuries                    </font></mark><mark style=\"background-color: hsl(0, 75%, 100%); opacity:1.0;                     line-height:1.75\"><font color=\"black\">                     </font></mark><mark style=\"background-color: hsl(0, 75%, 92%); opacity:1.0;                     line-height:1.75\"><font color=\"black\"> #/s                    </font></mark></td><tr></table>"
      ],
      "text/plain": [
       "<IPython.core.display.HTML object>"
      ]
     },
     "metadata": {},
     "output_type": "display_data"
    },
    {
     "name": "stdout",
     "output_type": "stream",
     "text": [
      "<IPython.core.display.HTML object>\n",
      "Raw review: to blue hilarity \n",
      "GT target: 1\n",
      "asd 6\n"
     ]
    },
    {
     "data": {
      "text/html": [
       "<table width: 100%><div style=\"border-top: 1px solid; margin-top: 5px;             padding-top: 5px; display: inline-block\"><b>Legend: </b><span style=\"display: inline-block; width: 10px; height: 10px;                 border: 1px solid; background-color:                 hsl(0, 75%, 60%)\"></span> Negative  <span style=\"display: inline-block; width: 10px; height: 10px;                 border: 1px solid; background-color:                 hsl(0, 75%, 100%)\"></span> Neutral  <span style=\"display: inline-block; width: 10px; height: 10px;                 border: 1px solid; background-color:                 hsl(120, 75%, 50%)\"></span> Positive  </div><tr><th>True Label</th><th>Predicted Label</th><th>Attribution Label</th><th>Attribution Score</th><th>Word Importance</th><tr><td><text style=\"padding-right:2em\"><b>Pos</b></text></td><td><text style=\"padding-right:2em\"><b>Pos (1.00)</b></text></td><td><text style=\"padding-right:2em\"><b>Pos</b></text></td><td><text style=\"padding-right:2em\"><b>1.36</b></text></td><td><mark style=\"background-color: hsl(120, 75%, 78%); opacity:1.0;                     line-height:1.75\"><font color=\"black\"> #s                    </font></mark><mark style=\"background-color: hsl(0, 75%, 98%); opacity:1.0;                     line-height:1.75\"><font color=\"black\"> to                    </font></mark><mark style=\"background-color: hsl(0, 75%, 96%); opacity:1.0;                     line-height:1.75\"><font color=\"black\"> blue                    </font></mark><mark style=\"background-color: hsl(120, 75%, 57%); opacity:1.0;                     line-height:1.75\"><font color=\"black\"> hilarity                    </font></mark><mark style=\"background-color: hsl(120, 75%, 98%); opacity:1.0;                     line-height:1.75\"><font color=\"black\">                     </font></mark><mark style=\"background-color: hsl(120, 75%, 99%); opacity:1.0;                     line-height:1.75\"><font color=\"black\"> #/s                    </font></mark></td><tr></table>"
      ],
      "text/plain": [
       "<IPython.core.display.HTML object>"
      ]
     },
     "metadata": {},
     "output_type": "display_data"
    },
    {
     "name": "stdout",
     "output_type": "stream",
     "text": [
      "<IPython.core.display.HTML object>\n",
      "Raw review: is intriguing but quickly becomes distasteful and downright creepy \n",
      "GT target: 0\n",
      "asd 12\n"
     ]
    },
    {
     "data": {
      "text/html": [
       "<table width: 100%><div style=\"border-top: 1px solid; margin-top: 5px;             padding-top: 5px; display: inline-block\"><b>Legend: </b><span style=\"display: inline-block; width: 10px; height: 10px;                 border: 1px solid; background-color:                 hsl(0, 75%, 60%)\"></span> Negative  <span style=\"display: inline-block; width: 10px; height: 10px;                 border: 1px solid; background-color:                 hsl(0, 75%, 100%)\"></span> Neutral  <span style=\"display: inline-block; width: 10px; height: 10px;                 border: 1px solid; background-color:                 hsl(120, 75%, 50%)\"></span> Positive  </div><tr><th>True Label</th><th>Predicted Label</th><th>Attribution Label</th><th>Attribution Score</th><th>Word Importance</th><tr><td><text style=\"padding-right:2em\"><b>Neg</b></text></td><td><text style=\"padding-right:2em\"><b>Neg (0.00)</b></text></td><td><text style=\"padding-right:2em\"><b>Neg</b></text></td><td><text style=\"padding-right:2em\"><b>-2.37</b></text></td><td><mark style=\"background-color: hsl(0, 75%, 84%); opacity:1.0;                     line-height:1.75\"><font color=\"black\"> #s                    </font></mark><mark style=\"background-color: hsl(120, 75%, 98%); opacity:1.0;                     line-height:1.75\"><font color=\"black\"> is                    </font></mark><mark style=\"background-color: hsl(0, 75%, 85%); opacity:1.0;                     line-height:1.75\"><font color=\"black\"> intriguing                    </font></mark><mark style=\"background-color: hsl(0, 75%, 91%); opacity:1.0;                     line-height:1.75\"><font color=\"black\"> but                    </font></mark><mark style=\"background-color: hsl(120, 75%, 98%); opacity:1.0;                     line-height:1.75\"><font color=\"black\"> quickly                    </font></mark><mark style=\"background-color: hsl(0, 75%, 90%); opacity:1.0;                     line-height:1.75\"><font color=\"black\"> becomes                    </font></mark><mark style=\"background-color: hsl(0, 75%, 95%); opacity:1.0;                     line-height:1.75\"><font color=\"black\"> distasteful                    </font></mark><mark style=\"background-color: hsl(0, 75%, 100%); opacity:1.0;                     line-height:1.75\"><font color=\"black\"> and                    </font></mark><mark style=\"background-color: hsl(0, 75%, 99%); opacity:1.0;                     line-height:1.75\"><font color=\"black\"> downright                    </font></mark><mark style=\"background-color: hsl(120, 75%, 93%); opacity:1.0;                     line-height:1.75\"><font color=\"black\"> creepy                    </font></mark><mark style=\"background-color: hsl(0, 75%, 93%); opacity:1.0;                     line-height:1.75\"><font color=\"black\">                     </font></mark><mark style=\"background-color: hsl(0, 75%, 78%); opacity:1.0;                     line-height:1.75\"><font color=\"black\"> #/s                    </font></mark></td><tr></table>"
      ],
      "text/plain": [
       "<IPython.core.display.HTML object>"
      ]
     },
     "metadata": {},
     "output_type": "display_data"
    },
    {
     "name": "stdout",
     "output_type": "stream",
     "text": [
      "<IPython.core.display.HTML object>\n",
      "Raw review: , you 'd probably turn it off , convinced that you had already seen that movie . \n",
      "GT target: 0\n",
      "asd 20\n"
     ]
    },
    {
     "data": {
      "text/html": [
       "<table width: 100%><div style=\"border-top: 1px solid; margin-top: 5px;             padding-top: 5px; display: inline-block\"><b>Legend: </b><span style=\"display: inline-block; width: 10px; height: 10px;                 border: 1px solid; background-color:                 hsl(0, 75%, 60%)\"></span> Negative  <span style=\"display: inline-block; width: 10px; height: 10px;                 border: 1px solid; background-color:                 hsl(0, 75%, 100%)\"></span> Neutral  <span style=\"display: inline-block; width: 10px; height: 10px;                 border: 1px solid; background-color:                 hsl(120, 75%, 50%)\"></span> Positive  </div><tr><th>True Label</th><th>Predicted Label</th><th>Attribution Label</th><th>Attribution Score</th><th>Word Importance</th><tr><td><text style=\"padding-right:2em\"><b>Neg</b></text></td><td><text style=\"padding-right:2em\"><b>Neg (0.00)</b></text></td><td><text style=\"padding-right:2em\"><b>Neg</b></text></td><td><text style=\"padding-right:2em\"><b>0.33</b></text></td><td><mark style=\"background-color: hsl(120, 75%, 58%); opacity:1.0;                     line-height:1.75\"><font color=\"black\"> #s                    </font></mark><mark style=\"background-color: hsl(0, 75%, 100%); opacity:1.0;                     line-height:1.75\"><font color=\"black\"> ,                    </font></mark><mark style=\"background-color: hsl(0, 75%, 100%); opacity:1.0;                     line-height:1.75\"><font color=\"black\"> you                    </font></mark><mark style=\"background-color: hsl(120, 75%, 100%); opacity:1.0;                     line-height:1.75\"><font color=\"black\"> 'd                    </font></mark><mark style=\"background-color: hsl(120, 75%, 98%); opacity:1.0;                     line-height:1.75\"><font color=\"black\"> probably                    </font></mark><mark style=\"background-color: hsl(0, 75%, 98%); opacity:1.0;                     line-height:1.75\"><font color=\"black\"> turn                    </font></mark><mark style=\"background-color: hsl(0, 75%, 98%); opacity:1.0;                     line-height:1.75\"><font color=\"black\"> it                    </font></mark><mark style=\"background-color: hsl(0, 75%, 96%); opacity:1.0;                     line-height:1.75\"><font color=\"black\"> off                    </font></mark><mark style=\"background-color: hsl(0, 75%, 95%); opacity:1.0;                     line-height:1.75\"><font color=\"black\"> ,                    </font></mark><mark style=\"background-color: hsl(0, 75%, 100%); opacity:1.0;                     line-height:1.75\"><font color=\"black\"> convinced                    </font></mark><mark style=\"background-color: hsl(120, 75%, 85%); opacity:1.0;                     line-height:1.75\"><font color=\"black\"> that                    </font></mark><mark style=\"background-color: hsl(120, 75%, 99%); opacity:1.0;                     line-height:1.75\"><font color=\"black\"> you                    </font></mark><mark style=\"background-color: hsl(0, 75%, 100%); opacity:1.0;                     line-height:1.75\"><font color=\"black\"> had                    </font></mark><mark style=\"background-color: hsl(0, 75%, 100%); opacity:1.0;                     line-height:1.75\"><font color=\"black\"> already                    </font></mark><mark style=\"background-color: hsl(0, 75%, 98%); opacity:1.0;                     line-height:1.75\"><font color=\"black\"> seen                    </font></mark><mark style=\"background-color: hsl(0, 75%, 87%); opacity:1.0;                     line-height:1.75\"><font color=\"black\"> that                    </font></mark><mark style=\"background-color: hsl(0, 75%, 98%); opacity:1.0;                     line-height:1.75\"><font color=\"black\"> movie                    </font></mark><mark style=\"background-color: hsl(120, 75%, 100%); opacity:1.0;                     line-height:1.75\"><font color=\"black\"> .                    </font></mark><mark style=\"background-color: hsl(0, 75%, 99%); opacity:1.0;                     line-height:1.75\"><font color=\"black\">                     </font></mark><mark style=\"background-color: hsl(120, 75%, 99%); opacity:1.0;                     line-height:1.75\"><font color=\"black\"> #/s                    </font></mark></td><tr></table>"
      ],
      "text/plain": [
       "<IPython.core.display.HTML object>"
      ]
     },
     "metadata": {},
     "output_type": "display_data"
    },
    {
     "name": "stdout",
     "output_type": "stream",
     "text": [
      "<IPython.core.display.HTML object>\n",
      "Raw review: no amount of burning , blasting , stabbing , and shooting \n",
      "GT target: 0\n",
      "asd 14\n"
     ]
    },
    {
     "data": {
      "text/html": [
       "<table width: 100%><div style=\"border-top: 1px solid; margin-top: 5px;             padding-top: 5px; display: inline-block\"><b>Legend: </b><span style=\"display: inline-block; width: 10px; height: 10px;                 border: 1px solid; background-color:                 hsl(0, 75%, 60%)\"></span> Negative  <span style=\"display: inline-block; width: 10px; height: 10px;                 border: 1px solid; background-color:                 hsl(0, 75%, 100%)\"></span> Neutral  <span style=\"display: inline-block; width: 10px; height: 10px;                 border: 1px solid; background-color:                 hsl(120, 75%, 50%)\"></span> Positive  </div><tr><th>True Label</th><th>Predicted Label</th><th>Attribution Label</th><th>Attribution Score</th><th>Word Importance</th><tr><td><text style=\"padding-right:2em\"><b>Neg</b></text></td><td><text style=\"padding-right:2em\"><b>Neg (0.00)</b></text></td><td><text style=\"padding-right:2em\"><b>Pos</b></text></td><td><text style=\"padding-right:2em\"><b>0.94</b></text></td><td><mark style=\"background-color: hsl(120, 75%, 53%); opacity:1.0;                     line-height:1.75\"><font color=\"black\"> #s                    </font></mark><mark style=\"background-color: hsl(120, 75%, 99%); opacity:1.0;                     line-height:1.75\"><font color=\"black\"> no                    </font></mark><mark style=\"background-color: hsl(0, 75%, 99%); opacity:1.0;                     line-height:1.75\"><font color=\"black\"> amount                    </font></mark><mark style=\"background-color: hsl(0, 75%, 99%); opacity:1.0;                     line-height:1.75\"><font color=\"black\"> of                    </font></mark><mark style=\"background-color: hsl(0, 75%, 100%); opacity:1.0;                     line-height:1.75\"><font color=\"black\"> burning                    </font></mark><mark style=\"background-color: hsl(120, 75%, 99%); opacity:1.0;                     line-height:1.75\"><font color=\"black\"> ,                    </font></mark><mark style=\"background-color: hsl(120, 75%, 97%); opacity:1.0;                     line-height:1.75\"><font color=\"black\"> blasting                    </font></mark><mark style=\"background-color: hsl(120, 75%, 99%); opacity:1.0;                     line-height:1.75\"><font color=\"black\"> ,                    </font></mark><mark style=\"background-color: hsl(120, 75%, 99%); opacity:1.0;                     line-height:1.75\"><font color=\"black\"> stabbing                    </font></mark><mark style=\"background-color: hsl(120, 75%, 99%); opacity:1.0;                     line-height:1.75\"><font color=\"black\"> ,                    </font></mark><mark style=\"background-color: hsl(0, 75%, 91%); opacity:1.0;                     line-height:1.75\"><font color=\"black\"> and                    </font></mark><mark style=\"background-color: hsl(0, 75%, 100%); opacity:1.0;                     line-height:1.75\"><font color=\"black\"> shooting                    </font></mark><mark style=\"background-color: hsl(120, 75%, 99%); opacity:1.0;                     line-height:1.75\"><font color=\"black\">                     </font></mark><mark style=\"background-color: hsl(120, 75%, 96%); opacity:1.0;                     line-height:1.75\"><font color=\"black\"> #/s                    </font></mark></td><tr></table>"
      ],
      "text/plain": [
       "<IPython.core.display.HTML object>"
      ]
     },
     "metadata": {},
     "output_type": "display_data"
    },
    {
     "name": "stdout",
     "output_type": "stream",
     "text": [
      "<IPython.core.display.HTML object>\n",
      "Raw review: such a wildly uneven hit-and-miss enterprise , you ca n't help suspecting that it was improvised on a day-to-day basis during production . \n",
      "GT target: 0\n",
      "asd 26\n"
     ]
    },
    {
     "data": {
      "text/html": [
       "<table width: 100%><div style=\"border-top: 1px solid; margin-top: 5px;             padding-top: 5px; display: inline-block\"><b>Legend: </b><span style=\"display: inline-block; width: 10px; height: 10px;                 border: 1px solid; background-color:                 hsl(0, 75%, 60%)\"></span> Negative  <span style=\"display: inline-block; width: 10px; height: 10px;                 border: 1px solid; background-color:                 hsl(0, 75%, 100%)\"></span> Neutral  <span style=\"display: inline-block; width: 10px; height: 10px;                 border: 1px solid; background-color:                 hsl(120, 75%, 50%)\"></span> Positive  </div><tr><th>True Label</th><th>Predicted Label</th><th>Attribution Label</th><th>Attribution Score</th><th>Word Importance</th><tr><td><text style=\"padding-right:2em\"><b>Neg</b></text></td><td><text style=\"padding-right:2em\"><b>Neg (0.00)</b></text></td><td><text style=\"padding-right:2em\"><b>Neg</b></text></td><td><text style=\"padding-right:2em\"><b>-1.15</b></text></td><td><mark style=\"background-color: hsl(0, 75%, 85%); opacity:1.0;                     line-height:1.75\"><font color=\"black\"> #s                    </font></mark><mark style=\"background-color: hsl(120, 75%, 99%); opacity:1.0;                     line-height:1.75\"><font color=\"black\"> such                    </font></mark><mark style=\"background-color: hsl(120, 75%, 83%); opacity:1.0;                     line-height:1.75\"><font color=\"black\"> a                    </font></mark><mark style=\"background-color: hsl(120, 75%, 83%); opacity:1.0;                     line-height:1.75\"><font color=\"black\"> wildly                    </font></mark><mark style=\"background-color: hsl(0, 75%, 89%); opacity:1.0;                     line-height:1.75\"><font color=\"black\"> uneven                    </font></mark><mark style=\"background-color: hsl(120, 75%, 93%); opacity:1.0;                     line-height:1.75\"><font color=\"black\"> hit-and-miss                    </font></mark><mark style=\"background-color: hsl(0, 75%, 92%); opacity:1.0;                     line-height:1.75\"><font color=\"black\"> enterprise                    </font></mark><mark style=\"background-color: hsl(0, 75%, 92%); opacity:1.0;                     line-height:1.75\"><font color=\"black\"> ,                    </font></mark><mark style=\"background-color: hsl(120, 75%, 95%); opacity:1.0;                     line-height:1.75\"><font color=\"black\"> you                    </font></mark><mark style=\"background-color: hsl(0, 75%, 100%); opacity:1.0;                     line-height:1.75\"><font color=\"black\"> ca                    </font></mark><mark style=\"background-color: hsl(0, 75%, 98%); opacity:1.0;                     line-height:1.75\"><font color=\"black\"> n't                    </font></mark><mark style=\"background-color: hsl(120, 75%, 100%); opacity:1.0;                     line-height:1.75\"><font color=\"black\"> help                    </font></mark><mark style=\"background-color: hsl(120, 75%, 98%); opacity:1.0;                     line-height:1.75\"><font color=\"black\"> suspecting                    </font></mark><mark style=\"background-color: hsl(0, 75%, 99%); opacity:1.0;                     line-height:1.75\"><font color=\"black\"> that                    </font></mark><mark style=\"background-color: hsl(0, 75%, 98%); opacity:1.0;                     line-height:1.75\"><font color=\"black\"> it                    </font></mark><mark style=\"background-color: hsl(120, 75%, 99%); opacity:1.0;                     line-height:1.75\"><font color=\"black\"> was                    </font></mark><mark style=\"background-color: hsl(0, 75%, 97%); opacity:1.0;                     line-height:1.75\"><font color=\"black\"> improvised                    </font></mark><mark style=\"background-color: hsl(0, 75%, 95%); opacity:1.0;                     line-height:1.75\"><font color=\"black\"> on                    </font></mark><mark style=\"background-color: hsl(0, 75%, 100%); opacity:1.0;                     line-height:1.75\"><font color=\"black\"> a                    </font></mark><mark style=\"background-color: hsl(0, 75%, 97%); opacity:1.0;                     line-height:1.75\"><font color=\"black\"> day-to-day                    </font></mark><mark style=\"background-color: hsl(120, 75%, 98%); opacity:1.0;                     line-height:1.75\"><font color=\"black\"> basis                    </font></mark><mark style=\"background-color: hsl(0, 75%, 96%); opacity:1.0;                     line-height:1.75\"><font color=\"black\"> during                    </font></mark><mark style=\"background-color: hsl(0, 75%, 99%); opacity:1.0;                     line-height:1.75\"><font color=\"black\"> production                    </font></mark><mark style=\"background-color: hsl(120, 75%, 99%); opacity:1.0;                     line-height:1.75\"><font color=\"black\"> .                    </font></mark><mark style=\"background-color: hsl(120, 75%, 91%); opacity:1.0;                     line-height:1.75\"><font color=\"black\">                     </font></mark><mark style=\"background-color: hsl(0, 75%, 95%); opacity:1.0;                     line-height:1.75\"><font color=\"black\"> #/s                    </font></mark></td><tr></table>"
      ],
      "text/plain": [
       "<IPython.core.display.HTML object>"
      ]
     },
     "metadata": {},
     "output_type": "display_data"
    },
    {
     "name": "stdout",
     "output_type": "stream",
     "text": [
      "<IPython.core.display.HTML object>\n",
      "Raw review: as a dystopian movie \n",
      "GT target: 0\n",
      "asd 7\n"
     ]
    },
    {
     "data": {
      "text/html": [
       "<table width: 100%><div style=\"border-top: 1px solid; margin-top: 5px;             padding-top: 5px; display: inline-block\"><b>Legend: </b><span style=\"display: inline-block; width: 10px; height: 10px;                 border: 1px solid; background-color:                 hsl(0, 75%, 60%)\"></span> Negative  <span style=\"display: inline-block; width: 10px; height: 10px;                 border: 1px solid; background-color:                 hsl(0, 75%, 100%)\"></span> Neutral  <span style=\"display: inline-block; width: 10px; height: 10px;                 border: 1px solid; background-color:                 hsl(120, 75%, 50%)\"></span> Positive  </div><tr><th>True Label</th><th>Predicted Label</th><th>Attribution Label</th><th>Attribution Score</th><th>Word Importance</th><tr><td><text style=\"padding-right:2em\"><b>Neg</b></text></td><td><text style=\"padding-right:2em\"><b>Pos (0.90)</b></text></td><td><text style=\"padding-right:2em\"><b>Neg</b></text></td><td><text style=\"padding-right:2em\"><b>-1.84</b></text></td><td><mark style=\"background-color: hsl(0, 75%, 74%); opacity:1.0;                     line-height:1.75\"><font color=\"black\"> #s                    </font></mark><mark style=\"background-color: hsl(120, 75%, 93%); opacity:1.0;                     line-height:1.75\"><font color=\"black\"> as                    </font></mark><mark style=\"background-color: hsl(120, 75%, 98%); opacity:1.0;                     line-height:1.75\"><font color=\"black\"> a                    </font></mark><mark style=\"background-color: hsl(0, 75%, 86%); opacity:1.0;                     line-height:1.75\"><font color=\"black\"> dystopian                    </font></mark><mark style=\"background-color: hsl(0, 75%, 81%); opacity:1.0;                     line-height:1.75\"><font color=\"black\"> movie                    </font></mark><mark style=\"background-color: hsl(0, 75%, 85%); opacity:1.0;                     line-height:1.75\"><font color=\"black\">                     </font></mark><mark style=\"background-color: hsl(0, 75%, 95%); opacity:1.0;                     line-height:1.75\"><font color=\"black\"> #/s                    </font></mark></td><tr></table>"
      ],
      "text/plain": [
       "<IPython.core.display.HTML object>"
      ]
     },
     "metadata": {},
     "output_type": "display_data"
    },
    {
     "name": "stdout",
     "output_type": "stream",
     "text": [
      "<IPython.core.display.HTML object>\n",
      "Raw review: i liked about schmidt a lot , but i have a feeling that i would have liked it much more if harry & tonto never existed \n",
      "GT target: 1\n",
      "asd 29\n"
     ]
    },
    {
     "data": {
      "text/html": [
       "<table width: 100%><div style=\"border-top: 1px solid; margin-top: 5px;             padding-top: 5px; display: inline-block\"><b>Legend: </b><span style=\"display: inline-block; width: 10px; height: 10px;                 border: 1px solid; background-color:                 hsl(0, 75%, 60%)\"></span> Negative  <span style=\"display: inline-block; width: 10px; height: 10px;                 border: 1px solid; background-color:                 hsl(0, 75%, 100%)\"></span> Neutral  <span style=\"display: inline-block; width: 10px; height: 10px;                 border: 1px solid; background-color:                 hsl(120, 75%, 50%)\"></span> Positive  </div><tr><th>True Label</th><th>Predicted Label</th><th>Attribution Label</th><th>Attribution Score</th><th>Word Importance</th><tr><td><text style=\"padding-right:2em\"><b>Pos</b></text></td><td><text style=\"padding-right:2em\"><b>Pos (0.99)</b></text></td><td><text style=\"padding-right:2em\"><b>Neg</b></text></td><td><text style=\"padding-right:2em\"><b>-0.68</b></text></td><td><mark style=\"background-color: hsl(0, 75%, 85%); opacity:1.0;                     line-height:1.75\"><font color=\"black\"> #s                    </font></mark><mark style=\"background-color: hsl(0, 75%, 99%); opacity:1.0;                     line-height:1.75\"><font color=\"black\"> i                    </font></mark><mark style=\"background-color: hsl(120, 75%, 97%); opacity:1.0;                     line-height:1.75\"><font color=\"black\"> liked                    </font></mark><mark style=\"background-color: hsl(120, 75%, 93%); opacity:1.0;                     line-height:1.75\"><font color=\"black\"> about                    </font></mark><mark style=\"background-color: hsl(0, 75%, 99%); opacity:1.0;                     line-height:1.75\"><font color=\"black\"> schmidt                    </font></mark><mark style=\"background-color: hsl(0, 75%, 94%); opacity:1.0;                     line-height:1.75\"><font color=\"black\"> a                    </font></mark><mark style=\"background-color: hsl(0, 75%, 97%); opacity:1.0;                     line-height:1.75\"><font color=\"black\"> lot                    </font></mark><mark style=\"background-color: hsl(0, 75%, 99%); opacity:1.0;                     line-height:1.75\"><font color=\"black\"> ,                    </font></mark><mark style=\"background-color: hsl(0, 75%, 97%); opacity:1.0;                     line-height:1.75\"><font color=\"black\"> but                    </font></mark><mark style=\"background-color: hsl(0, 75%, 97%); opacity:1.0;                     line-height:1.75\"><font color=\"black\"> i                    </font></mark><mark style=\"background-color: hsl(120, 75%, 96%); opacity:1.0;                     line-height:1.75\"><font color=\"black\"> have                    </font></mark><mark style=\"background-color: hsl(120, 75%, 91%); opacity:1.0;                     line-height:1.75\"><font color=\"black\"> a                    </font></mark><mark style=\"background-color: hsl(120, 75%, 100%); opacity:1.0;                     line-height:1.75\"><font color=\"black\"> feeling                    </font></mark><mark style=\"background-color: hsl(120, 75%, 85%); opacity:1.0;                     line-height:1.75\"><font color=\"black\"> that                    </font></mark><mark style=\"background-color: hsl(120, 75%, 97%); opacity:1.0;                     line-height:1.75\"><font color=\"black\"> i                    </font></mark><mark style=\"background-color: hsl(120, 75%, 97%); opacity:1.0;                     line-height:1.75\"><font color=\"black\"> would                    </font></mark><mark style=\"background-color: hsl(0, 75%, 95%); opacity:1.0;                     line-height:1.75\"><font color=\"black\"> have                    </font></mark><mark style=\"background-color: hsl(0, 75%, 78%); opacity:1.0;                     line-height:1.75\"><font color=\"black\"> liked                    </font></mark><mark style=\"background-color: hsl(120, 75%, 91%); opacity:1.0;                     line-height:1.75\"><font color=\"black\"> it                    </font></mark><mark style=\"background-color: hsl(120, 75%, 88%); opacity:1.0;                     line-height:1.75\"><font color=\"black\"> much                    </font></mark><mark style=\"background-color: hsl(0, 75%, 99%); opacity:1.0;                     line-height:1.75\"><font color=\"black\"> more                    </font></mark><mark style=\"background-color: hsl(120, 75%, 90%); opacity:1.0;                     line-height:1.75\"><font color=\"black\"> if                    </font></mark><mark style=\"background-color: hsl(0, 75%, 96%); opacity:1.0;                     line-height:1.75\"><font color=\"black\"> harry                    </font></mark><mark style=\"background-color: hsl(0, 75%, 100%); opacity:1.0;                     line-height:1.75\"><font color=\"black\"> &                    </font></mark><mark style=\"background-color: hsl(0, 75%, 99%); opacity:1.0;                     line-height:1.75\"><font color=\"black\"> tonto                    </font></mark><mark style=\"background-color: hsl(0, 75%, 98%); opacity:1.0;                     line-height:1.75\"><font color=\"black\"> never                    </font></mark><mark style=\"background-color: hsl(0, 75%, 100%); opacity:1.0;                     line-height:1.75\"><font color=\"black\"> existed                    </font></mark><mark style=\"background-color: hsl(120, 75%, 99%); opacity:1.0;                     line-height:1.75\"><font color=\"black\">                     </font></mark><mark style=\"background-color: hsl(0, 75%, 88%); opacity:1.0;                     line-height:1.75\"><font color=\"black\"> #/s                    </font></mark></td><tr></table>"
      ],
      "text/plain": [
       "<IPython.core.display.HTML object>"
      ]
     },
     "metadata": {},
     "output_type": "display_data"
    },
    {
     "name": "stdout",
     "output_type": "stream",
     "text": [
      "<IPython.core.display.HTML object>\n",
      "Raw review: less-than-thrilling thriller . \n",
      "GT target: 0\n",
      "asd 6\n"
     ]
    },
    {
     "data": {
      "text/html": [
       "<table width: 100%><div style=\"border-top: 1px solid; margin-top: 5px;             padding-top: 5px; display: inline-block\"><b>Legend: </b><span style=\"display: inline-block; width: 10px; height: 10px;                 border: 1px solid; background-color:                 hsl(0, 75%, 60%)\"></span> Negative  <span style=\"display: inline-block; width: 10px; height: 10px;                 border: 1px solid; background-color:                 hsl(0, 75%, 100%)\"></span> Neutral  <span style=\"display: inline-block; width: 10px; height: 10px;                 border: 1px solid; background-color:                 hsl(120, 75%, 50%)\"></span> Positive  </div><tr><th>True Label</th><th>Predicted Label</th><th>Attribution Label</th><th>Attribution Score</th><th>Word Importance</th><tr><td><text style=\"padding-right:2em\"><b>Neg</b></text></td><td><text style=\"padding-right:2em\"><b>Neg (0.00)</b></text></td><td><text style=\"padding-right:2em\"><b>Neg</b></text></td><td><text style=\"padding-right:2em\"><b>-0.87</b></text></td><td><mark style=\"background-color: hsl(0, 75%, 82%); opacity:1.0;                     line-height:1.75\"><font color=\"black\"> #s                    </font></mark><mark style=\"background-color: hsl(0, 75%, 69%); opacity:1.0;                     line-height:1.75\"><font color=\"black\"> less-than-thrilling                    </font></mark><mark style=\"background-color: hsl(0, 75%, 97%); opacity:1.0;                     line-height:1.75\"><font color=\"black\"> thriller                    </font></mark><mark style=\"background-color: hsl(120, 75%, 92%); opacity:1.0;                     line-height:1.75\"><font color=\"black\"> .                    </font></mark><mark style=\"background-color: hsl(0, 75%, 95%); opacity:1.0;                     line-height:1.75\"><font color=\"black\">                     </font></mark><mark style=\"background-color: hsl(0, 75%, 97%); opacity:1.0;                     line-height:1.75\"><font color=\"black\"> #/s                    </font></mark></td><tr></table>"
      ],
      "text/plain": [
       "<IPython.core.display.HTML object>"
      ]
     },
     "metadata": {},
     "output_type": "display_data"
    },
    {
     "name": "stdout",
     "output_type": "stream",
     "text": [
      "<IPython.core.display.HTML object>\n",
      "Raw review: most audacious , outrageous \n",
      "GT target: 1\n",
      "asd 7\n"
     ]
    },
    {
     "data": {
      "text/html": [
       "<table width: 100%><div style=\"border-top: 1px solid; margin-top: 5px;             padding-top: 5px; display: inline-block\"><b>Legend: </b><span style=\"display: inline-block; width: 10px; height: 10px;                 border: 1px solid; background-color:                 hsl(0, 75%, 60%)\"></span> Negative  <span style=\"display: inline-block; width: 10px; height: 10px;                 border: 1px solid; background-color:                 hsl(0, 75%, 100%)\"></span> Neutral  <span style=\"display: inline-block; width: 10px; height: 10px;                 border: 1px solid; background-color:                 hsl(120, 75%, 50%)\"></span> Positive  </div><tr><th>True Label</th><th>Predicted Label</th><th>Attribution Label</th><th>Attribution Score</th><th>Word Importance</th><tr><td><text style=\"padding-right:2em\"><b>Pos</b></text></td><td><text style=\"padding-right:2em\"><b>Pos (0.99)</b></text></td><td><text style=\"padding-right:2em\"><b>Neg</b></text></td><td><text style=\"padding-right:2em\"><b>-0.64</b></text></td><td><mark style=\"background-color: hsl(0, 75%, 65%); opacity:1.0;                     line-height:1.75\"><font color=\"black\"> #s                    </font></mark><mark style=\"background-color: hsl(120, 75%, 100%); opacity:1.0;                     line-height:1.75\"><font color=\"black\"> most                    </font></mark><mark style=\"background-color: hsl(120, 75%, 89%); opacity:1.0;                     line-height:1.75\"><font color=\"black\"> audacious                    </font></mark><mark style=\"background-color: hsl(120, 75%, 89%); opacity:1.0;                     line-height:1.75\"><font color=\"black\"> ,                    </font></mark><mark style=\"background-color: hsl(120, 75%, 96%); opacity:1.0;                     line-height:1.75\"><font color=\"black\"> outrageous                    </font></mark><mark style=\"background-color: hsl(0, 75%, 88%); opacity:1.0;                     line-height:1.75\"><font color=\"black\">                     </font></mark><mark style=\"background-color: hsl(120, 75%, 98%); opacity:1.0;                     line-height:1.75\"><font color=\"black\"> #/s                    </font></mark></td><tr></table>"
      ],
      "text/plain": [
       "<IPython.core.display.HTML object>"
      ]
     },
     "metadata": {},
     "output_type": "display_data"
    },
    {
     "name": "stdout",
     "output_type": "stream",
     "text": [
      "<IPython.core.display.HTML object>\n",
      "Raw review: solid , satisfying fare \n",
      "GT target: 1\n",
      "asd 7\n"
     ]
    },
    {
     "data": {
      "text/html": [
       "<table width: 100%><div style=\"border-top: 1px solid; margin-top: 5px;             padding-top: 5px; display: inline-block\"><b>Legend: </b><span style=\"display: inline-block; width: 10px; height: 10px;                 border: 1px solid; background-color:                 hsl(0, 75%, 60%)\"></span> Negative  <span style=\"display: inline-block; width: 10px; height: 10px;                 border: 1px solid; background-color:                 hsl(0, 75%, 100%)\"></span> Neutral  <span style=\"display: inline-block; width: 10px; height: 10px;                 border: 1px solid; background-color:                 hsl(120, 75%, 50%)\"></span> Positive  </div><tr><th>True Label</th><th>Predicted Label</th><th>Attribution Label</th><th>Attribution Score</th><th>Word Importance</th><tr><td><text style=\"padding-right:2em\"><b>Pos</b></text></td><td><text style=\"padding-right:2em\"><b>Pos (1.00)</b></text></td><td><text style=\"padding-right:2em\"><b>Neg</b></text></td><td><text style=\"padding-right:2em\"><b>-1.05</b></text></td><td><mark style=\"background-color: hsl(0, 75%, 62%); opacity:1.0;                     line-height:1.75\"><font color=\"black\"> #s                    </font></mark><mark style=\"background-color: hsl(120, 75%, 97%); opacity:1.0;                     line-height:1.75\"><font color=\"black\"> solid                    </font></mark><mark style=\"background-color: hsl(0, 75%, 100%); opacity:1.0;                     line-height:1.75\"><font color=\"black\"> ,                    </font></mark><mark style=\"background-color: hsl(0, 75%, 100%); opacity:1.0;                     line-height:1.75\"><font color=\"black\"> satisfying                    </font></mark><mark style=\"background-color: hsl(120, 75%, 93%); opacity:1.0;                     line-height:1.75\"><font color=\"black\"> fare                    </font></mark><mark style=\"background-color: hsl(0, 75%, 97%); opacity:1.0;                     line-height:1.75\"><font color=\"black\">                     </font></mark><mark style=\"background-color: hsl(0, 75%, 92%); opacity:1.0;                     line-height:1.75\"><font color=\"black\"> #/s                    </font></mark></td><tr></table>"
      ],
      "text/plain": [
       "<IPython.core.display.HTML object>"
      ]
     },
     "metadata": {},
     "output_type": "display_data"
    },
    {
     "name": "stdout",
     "output_type": "stream",
     "text": [
      "<IPython.core.display.HTML object>\n",
      "Raw review: a mostly magnificent directorial career \n",
      "GT target: 1\n",
      "asd 8\n"
     ]
    },
    {
     "data": {
      "text/html": [
       "<table width: 100%><div style=\"border-top: 1px solid; margin-top: 5px;             padding-top: 5px; display: inline-block\"><b>Legend: </b><span style=\"display: inline-block; width: 10px; height: 10px;                 border: 1px solid; background-color:                 hsl(0, 75%, 60%)\"></span> Negative  <span style=\"display: inline-block; width: 10px; height: 10px;                 border: 1px solid; background-color:                 hsl(0, 75%, 100%)\"></span> Neutral  <span style=\"display: inline-block; width: 10px; height: 10px;                 border: 1px solid; background-color:                 hsl(120, 75%, 50%)\"></span> Positive  </div><tr><th>True Label</th><th>Predicted Label</th><th>Attribution Label</th><th>Attribution Score</th><th>Word Importance</th><tr><td><text style=\"padding-right:2em\"><b>Pos</b></text></td><td><text style=\"padding-right:2em\"><b>Pos (1.00)</b></text></td><td><text style=\"padding-right:2em\"><b>Neg</b></text></td><td><text style=\"padding-right:2em\"><b>-1.42</b></text></td><td><mark style=\"background-color: hsl(0, 75%, 65%); opacity:1.0;                     line-height:1.75\"><font color=\"black\"> #s                    </font></mark><mark style=\"background-color: hsl(0, 75%, 98%); opacity:1.0;                     line-height:1.75\"><font color=\"black\"> a                    </font></mark><mark style=\"background-color: hsl(0, 75%, 86%); opacity:1.0;                     line-height:1.75\"><font color=\"black\"> mostly                    </font></mark><mark style=\"background-color: hsl(0, 75%, 99%); opacity:1.0;                     line-height:1.75\"><font color=\"black\"> magnificent                    </font></mark><mark style=\"background-color: hsl(0, 75%, 95%); opacity:1.0;                     line-height:1.75\"><font color=\"black\"> directorial                    </font></mark><mark style=\"background-color: hsl(120, 75%, 95%); opacity:1.0;                     line-height:1.75\"><font color=\"black\"> career                    </font></mark><mark style=\"background-color: hsl(0, 75%, 97%); opacity:1.0;                     line-height:1.75\"><font color=\"black\">                     </font></mark><mark style=\"background-color: hsl(0, 75%, 96%); opacity:1.0;                     line-height:1.75\"><font color=\"black\"> #/s                    </font></mark></td><tr></table>"
      ],
      "text/plain": [
       "<IPython.core.display.HTML object>"
      ]
     },
     "metadata": {},
     "output_type": "display_data"
    },
    {
     "name": "stdout",
     "output_type": "stream",
     "text": [
      "<IPython.core.display.HTML object>\n",
      "Raw review: marveilleux \n",
      "GT target: 1\n",
      "asd 4\n"
     ]
    },
    {
     "data": {
      "text/html": [
       "<table width: 100%><div style=\"border-top: 1px solid; margin-top: 5px;             padding-top: 5px; display: inline-block\"><b>Legend: </b><span style=\"display: inline-block; width: 10px; height: 10px;                 border: 1px solid; background-color:                 hsl(0, 75%, 60%)\"></span> Negative  <span style=\"display: inline-block; width: 10px; height: 10px;                 border: 1px solid; background-color:                 hsl(0, 75%, 100%)\"></span> Neutral  <span style=\"display: inline-block; width: 10px; height: 10px;                 border: 1px solid; background-color:                 hsl(120, 75%, 50%)\"></span> Positive  </div><tr><th>True Label</th><th>Predicted Label</th><th>Attribution Label</th><th>Attribution Score</th><th>Word Importance</th><tr><td><text style=\"padding-right:2em\"><b>Pos</b></text></td><td><text style=\"padding-right:2em\"><b>Pos (1.00)</b></text></td><td><text style=\"padding-right:2em\"><b>Pos</b></text></td><td><text style=\"padding-right:2em\"><b>1.00</b></text></td><td><mark style=\"background-color: hsl(120, 75%, 66%); opacity:1.0;                     line-height:1.75\"><font color=\"black\"> #s                    </font></mark><mark style=\"background-color: hsl(120, 75%, 76%); opacity:1.0;                     line-height:1.75\"><font color=\"black\"> marveilleux                    </font></mark><mark style=\"background-color: hsl(120, 75%, 85%); opacity:1.0;                     line-height:1.75\"><font color=\"black\">                     </font></mark><mark style=\"background-color: hsl(0, 75%, 92%); opacity:1.0;                     line-height:1.75\"><font color=\"black\"> #/s                    </font></mark></td><tr></table>"
      ],
      "text/plain": [
       "<IPython.core.display.HTML object>"
      ]
     },
     "metadata": {},
     "output_type": "display_data"
    },
    {
     "name": "stdout",
     "output_type": "stream",
     "text": [
      "<IPython.core.display.HTML object>\n",
      "Raw review: holds a certain charm \n",
      "GT target: 1\n",
      "asd 7\n"
     ]
    },
    {
     "data": {
      "text/html": [
       "<table width: 100%><div style=\"border-top: 1px solid; margin-top: 5px;             padding-top: 5px; display: inline-block\"><b>Legend: </b><span style=\"display: inline-block; width: 10px; height: 10px;                 border: 1px solid; background-color:                 hsl(0, 75%, 60%)\"></span> Negative  <span style=\"display: inline-block; width: 10px; height: 10px;                 border: 1px solid; background-color:                 hsl(0, 75%, 100%)\"></span> Neutral  <span style=\"display: inline-block; width: 10px; height: 10px;                 border: 1px solid; background-color:                 hsl(120, 75%, 50%)\"></span> Positive  </div><tr><th>True Label</th><th>Predicted Label</th><th>Attribution Label</th><th>Attribution Score</th><th>Word Importance</th><tr><td><text style=\"padding-right:2em\"><b>Pos</b></text></td><td><text style=\"padding-right:2em\"><b>Pos (1.00)</b></text></td><td><text style=\"padding-right:2em\"><b>Neg</b></text></td><td><text style=\"padding-right:2em\"><b>-1.06</b></text></td><td><mark style=\"background-color: hsl(0, 75%, 61%); opacity:1.0;                     line-height:1.75\"><font color=\"black\"> #s                    </font></mark><mark style=\"background-color: hsl(120, 75%, 100%); opacity:1.0;                     line-height:1.75\"><font color=\"black\"> holds                    </font></mark><mark style=\"background-color: hsl(0, 75%, 98%); opacity:1.0;                     line-height:1.75\"><font color=\"black\"> a                    </font></mark><mark style=\"background-color: hsl(0, 75%, 98%); opacity:1.0;                     line-height:1.75\"><font color=\"black\"> certain                    </font></mark><mark style=\"background-color: hsl(0, 75%, 100%); opacity:1.0;                     line-height:1.75\"><font color=\"black\"> charm                    </font></mark><mark style=\"background-color: hsl(120, 75%, 98%); opacity:1.0;                     line-height:1.75\"><font color=\"black\">                     </font></mark><mark style=\"background-color: hsl(120, 75%, 100%); opacity:1.0;                     line-height:1.75\"><font color=\"black\"> #/s                    </font></mark></td><tr></table>"
      ],
      "text/plain": [
       "<IPython.core.display.HTML object>"
      ]
     },
     "metadata": {},
     "output_type": "display_data"
    },
    {
     "name": "stdout",
     "output_type": "stream",
     "text": [
      "<IPython.core.display.HTML object>\n",
      "Raw review: blacked out \n",
      "GT target: 0\n",
      "asd 5\n"
     ]
    },
    {
     "data": {
      "text/html": [
       "<table width: 100%><div style=\"border-top: 1px solid; margin-top: 5px;             padding-top: 5px; display: inline-block\"><b>Legend: </b><span style=\"display: inline-block; width: 10px; height: 10px;                 border: 1px solid; background-color:                 hsl(0, 75%, 60%)\"></span> Negative  <span style=\"display: inline-block; width: 10px; height: 10px;                 border: 1px solid; background-color:                 hsl(0, 75%, 100%)\"></span> Neutral  <span style=\"display: inline-block; width: 10px; height: 10px;                 border: 1px solid; background-color:                 hsl(120, 75%, 50%)\"></span> Positive  </div><tr><th>True Label</th><th>Predicted Label</th><th>Attribution Label</th><th>Attribution Score</th><th>Word Importance</th><tr><td><text style=\"padding-right:2em\"><b>Neg</b></text></td><td><text style=\"padding-right:2em\"><b>Neg (0.00)</b></text></td><td><text style=\"padding-right:2em\"><b>Neg</b></text></td><td><text style=\"padding-right:2em\"><b>-0.65</b></text></td><td><mark style=\"background-color: hsl(0, 75%, 64%); opacity:1.0;                     line-height:1.75\"><font color=\"black\"> #s                    </font></mark><mark style=\"background-color: hsl(0, 75%, 97%); opacity:1.0;                     line-height:1.75\"><font color=\"black\"> blacked                    </font></mark><mark style=\"background-color: hsl(120, 75%, 99%); opacity:1.0;                     line-height:1.75\"><font color=\"black\"> out                    </font></mark><mark style=\"background-color: hsl(120, 75%, 89%); opacity:1.0;                     line-height:1.75\"><font color=\"black\">                     </font></mark><mark style=\"background-color: hsl(120, 75%, 87%); opacity:1.0;                     line-height:1.75\"><font color=\"black\"> #/s                    </font></mark></td><tr></table>"
      ],
      "text/plain": [
       "<IPython.core.display.HTML object>"
      ]
     },
     "metadata": {},
     "output_type": "display_data"
    },
    {
     "name": "stdout",
     "output_type": "stream",
     "text": [
      "<IPython.core.display.HTML object>\n",
      "Raw review: in trying to have the best of both worlds it ends up falling short as a whole \n",
      "GT target: 0\n",
      "asd 20\n"
     ]
    },
    {
     "data": {
      "text/html": [
       "<table width: 100%><div style=\"border-top: 1px solid; margin-top: 5px;             padding-top: 5px; display: inline-block\"><b>Legend: </b><span style=\"display: inline-block; width: 10px; height: 10px;                 border: 1px solid; background-color:                 hsl(0, 75%, 60%)\"></span> Negative  <span style=\"display: inline-block; width: 10px; height: 10px;                 border: 1px solid; background-color:                 hsl(0, 75%, 100%)\"></span> Neutral  <span style=\"display: inline-block; width: 10px; height: 10px;                 border: 1px solid; background-color:                 hsl(120, 75%, 50%)\"></span> Positive  </div><tr><th>True Label</th><th>Predicted Label</th><th>Attribution Label</th><th>Attribution Score</th><th>Word Importance</th><tr><td><text style=\"padding-right:2em\"><b>Neg</b></text></td><td><text style=\"padding-right:2em\"><b>Neg (0.00)</b></text></td><td><text style=\"padding-right:2em\"><b>Neg</b></text></td><td><text style=\"padding-right:2em\"><b>-1.32</b></text></td><td><mark style=\"background-color: hsl(0, 75%, 61%); opacity:1.0;                     line-height:1.75\"><font color=\"black\"> #s                    </font></mark><mark style=\"background-color: hsl(0, 75%, 99%); opacity:1.0;                     line-height:1.75\"><font color=\"black\"> in                    </font></mark><mark style=\"background-color: hsl(0, 75%, 98%); opacity:1.0;                     line-height:1.75\"><font color=\"black\"> trying                    </font></mark><mark style=\"background-color: hsl(120, 75%, 100%); opacity:1.0;                     line-height:1.75\"><font color=\"black\"> to                    </font></mark><mark style=\"background-color: hsl(120, 75%, 100%); opacity:1.0;                     line-height:1.75\"><font color=\"black\"> have                    </font></mark><mark style=\"background-color: hsl(120, 75%, 98%); opacity:1.0;                     line-height:1.75\"><font color=\"black\"> the                    </font></mark><mark style=\"background-color: hsl(120, 75%, 98%); opacity:1.0;                     line-height:1.75\"><font color=\"black\"> best                    </font></mark><mark style=\"background-color: hsl(0, 75%, 99%); opacity:1.0;                     line-height:1.75\"><font color=\"black\"> of                    </font></mark><mark style=\"background-color: hsl(0, 75%, 100%); opacity:1.0;                     line-height:1.75\"><font color=\"black\"> both                    </font></mark><mark style=\"background-color: hsl(0, 75%, 99%); opacity:1.0;                     line-height:1.75\"><font color=\"black\"> worlds                    </font></mark><mark style=\"background-color: hsl(120, 75%, 99%); opacity:1.0;                     line-height:1.75\"><font color=\"black\"> it                    </font></mark><mark style=\"background-color: hsl(0, 75%, 98%); opacity:1.0;                     line-height:1.75\"><font color=\"black\"> ends                    </font></mark><mark style=\"background-color: hsl(0, 75%, 100%); opacity:1.0;                     line-height:1.75\"><font color=\"black\"> up                    </font></mark><mark style=\"background-color: hsl(0, 75%, 97%); opacity:1.0;                     line-height:1.75\"><font color=\"black\"> falling                    </font></mark><mark style=\"background-color: hsl(0, 75%, 97%); opacity:1.0;                     line-height:1.75\"><font color=\"black\"> short                    </font></mark><mark style=\"background-color: hsl(0, 75%, 98%); opacity:1.0;                     line-height:1.75\"><font color=\"black\"> as                    </font></mark><mark style=\"background-color: hsl(120, 75%, 98%); opacity:1.0;                     line-height:1.75\"><font color=\"black\"> a                    </font></mark><mark style=\"background-color: hsl(0, 75%, 100%); opacity:1.0;                     line-height:1.75\"><font color=\"black\"> whole                    </font></mark><mark style=\"background-color: hsl(120, 75%, 100%); opacity:1.0;                     line-height:1.75\"><font color=\"black\">                     </font></mark><mark style=\"background-color: hsl(0, 75%, 97%); opacity:1.0;                     line-height:1.75\"><font color=\"black\"> #/s                    </font></mark></td><tr></table>"
      ],
      "text/plain": [
       "<IPython.core.display.HTML object>"
      ]
     },
     "metadata": {},
     "output_type": "display_data"
    },
    {
     "name": "stdout",
     "output_type": "stream",
     "text": [
      "<IPython.core.display.HTML object>\n",
      "Raw review: rush through \n",
      "GT target: 0\n",
      "asd 5\n"
     ]
    },
    {
     "data": {
      "text/html": [
       "<table width: 100%><div style=\"border-top: 1px solid; margin-top: 5px;             padding-top: 5px; display: inline-block\"><b>Legend: </b><span style=\"display: inline-block; width: 10px; height: 10px;                 border: 1px solid; background-color:                 hsl(0, 75%, 60%)\"></span> Negative  <span style=\"display: inline-block; width: 10px; height: 10px;                 border: 1px solid; background-color:                 hsl(0, 75%, 100%)\"></span> Neutral  <span style=\"display: inline-block; width: 10px; height: 10px;                 border: 1px solid; background-color:                 hsl(120, 75%, 50%)\"></span> Positive  </div><tr><th>True Label</th><th>Predicted Label</th><th>Attribution Label</th><th>Attribution Score</th><th>Word Importance</th><tr><td><text style=\"padding-right:2em\"><b>Neg</b></text></td><td><text style=\"padding-right:2em\"><b>Pos (1.00)</b></text></td><td><text style=\"padding-right:2em\"><b>Neg</b></text></td><td><text style=\"padding-right:2em\"><b>0.18</b></text></td><td><mark style=\"background-color: hsl(0, 75%, 73%); opacity:1.0;                     line-height:1.75\"><font color=\"black\"> #s                    </font></mark><mark style=\"background-color: hsl(120, 75%, 97%); opacity:1.0;                     line-height:1.75\"><font color=\"black\"> rush                    </font></mark><mark style=\"background-color: hsl(120, 75%, 66%); opacity:1.0;                     line-height:1.75\"><font color=\"black\"> through                    </font></mark><mark style=\"background-color: hsl(0, 75%, 97%); opacity:1.0;                     line-height:1.75\"><font color=\"black\">                     </font></mark><mark style=\"background-color: hsl(120, 75%, 91%); opacity:1.0;                     line-height:1.75\"><font color=\"black\"> #/s                    </font></mark></td><tr></table>"
      ],
      "text/plain": [
       "<IPython.core.display.HTML object>"
      ]
     },
     "metadata": {},
     "output_type": "display_data"
    },
    {
     "name": "stdout",
     "output_type": "stream",
     "text": [
      "<IPython.core.display.HTML object>\n",
      "Raw review: discover that the answer is as conventional as can be \n",
      "GT target: 0\n",
      "asd 13\n"
     ]
    },
    {
     "data": {
      "text/html": [
       "<table width: 100%><div style=\"border-top: 1px solid; margin-top: 5px;             padding-top: 5px; display: inline-block\"><b>Legend: </b><span style=\"display: inline-block; width: 10px; height: 10px;                 border: 1px solid; background-color:                 hsl(0, 75%, 60%)\"></span> Negative  <span style=\"display: inline-block; width: 10px; height: 10px;                 border: 1px solid; background-color:                 hsl(0, 75%, 100%)\"></span> Neutral  <span style=\"display: inline-block; width: 10px; height: 10px;                 border: 1px solid; background-color:                 hsl(120, 75%, 50%)\"></span> Positive  </div><tr><th>True Label</th><th>Predicted Label</th><th>Attribution Label</th><th>Attribution Score</th><th>Word Importance</th><tr><td><text style=\"padding-right:2em\"><b>Neg</b></text></td><td><text style=\"padding-right:2em\"><b>Neg (0.00)</b></text></td><td><text style=\"padding-right:2em\"><b>Neg</b></text></td><td><text style=\"padding-right:2em\"><b>-1.08</b></text></td><td><mark style=\"background-color: hsl(120, 75%, 94%); opacity:1.0;                     line-height:1.75\"><font color=\"black\"> #s                    </font></mark><mark style=\"background-color: hsl(0, 75%, 99%); opacity:1.0;                     line-height:1.75\"><font color=\"black\"> discover                    </font></mark><mark style=\"background-color: hsl(0, 75%, 91%); opacity:1.0;                     line-height:1.75\"><font color=\"black\"> that                    </font></mark><mark style=\"background-color: hsl(0, 75%, 71%); opacity:1.0;                     line-height:1.75\"><font color=\"black\"> the                    </font></mark><mark style=\"background-color: hsl(0, 75%, 100%); opacity:1.0;                     line-height:1.75\"><font color=\"black\"> answer                    </font></mark><mark style=\"background-color: hsl(0, 75%, 97%); opacity:1.0;                     line-height:1.75\"><font color=\"black\"> is                    </font></mark><mark style=\"background-color: hsl(0, 75%, 92%); opacity:1.0;                     line-height:1.75\"><font color=\"black\"> as                    </font></mark><mark style=\"background-color: hsl(120, 75%, 82%); opacity:1.0;                     line-height:1.75\"><font color=\"black\"> conventional                    </font></mark><mark style=\"background-color: hsl(120, 75%, 100%); opacity:1.0;                     line-height:1.75\"><font color=\"black\"> as                    </font></mark><mark style=\"background-color: hsl(0, 75%, 92%); opacity:1.0;                     line-height:1.75\"><font color=\"black\"> can                    </font></mark><mark style=\"background-color: hsl(0, 75%, 88%); opacity:1.0;                     line-height:1.75\"><font color=\"black\"> be                    </font></mark><mark style=\"background-color: hsl(120, 75%, 96%); opacity:1.0;                     line-height:1.75\"><font color=\"black\">                     </font></mark><mark style=\"background-color: hsl(120, 75%, 93%); opacity:1.0;                     line-height:1.75\"><font color=\"black\"> #/s                    </font></mark></td><tr></table>"
      ],
      "text/plain": [
       "<IPython.core.display.HTML object>"
      ]
     },
     "metadata": {},
     "output_type": "display_data"
    },
    {
     "name": "stdout",
     "output_type": "stream",
     "text": [
      "<IPython.core.display.HTML object>\n",
      "Raw review: is n't funny \n",
      "GT target: 0\n",
      "asd 6\n"
     ]
    },
    {
     "data": {
      "text/html": [
       "<table width: 100%><div style=\"border-top: 1px solid; margin-top: 5px;             padding-top: 5px; display: inline-block\"><b>Legend: </b><span style=\"display: inline-block; width: 10px; height: 10px;                 border: 1px solid; background-color:                 hsl(0, 75%, 60%)\"></span> Negative  <span style=\"display: inline-block; width: 10px; height: 10px;                 border: 1px solid; background-color:                 hsl(0, 75%, 100%)\"></span> Neutral  <span style=\"display: inline-block; width: 10px; height: 10px;                 border: 1px solid; background-color:                 hsl(120, 75%, 50%)\"></span> Positive  </div><tr><th>True Label</th><th>Predicted Label</th><th>Attribution Label</th><th>Attribution Score</th><th>Word Importance</th><tr><td><text style=\"padding-right:2em\"><b>Neg</b></text></td><td><text style=\"padding-right:2em\"><b>Neg (0.00)</b></text></td><td><text style=\"padding-right:2em\"><b>Neg</b></text></td><td><text style=\"padding-right:2em\"><b>-0.55</b></text></td><td><mark style=\"background-color: hsl(0, 75%, 64%); opacity:1.0;                     line-height:1.75\"><font color=\"black\"> #s                    </font></mark><mark style=\"background-color: hsl(0, 75%, 98%); opacity:1.0;                     line-height:1.75\"><font color=\"black\"> is                    </font></mark><mark style=\"background-color: hsl(120, 75%, 85%); opacity:1.0;                     line-height:1.75\"><font color=\"black\"> n't                    </font></mark><mark style=\"background-color: hsl(0, 75%, 96%); opacity:1.0;                     line-height:1.75\"><font color=\"black\"> funny                    </font></mark><mark style=\"background-color: hsl(120, 75%, 88%); opacity:1.0;                     line-height:1.75\"><font color=\"black\">                     </font></mark><mark style=\"background-color: hsl(120, 75%, 100%); opacity:1.0;                     line-height:1.75\"><font color=\"black\"> #/s                    </font></mark></td><tr></table>"
      ],
      "text/plain": [
       "<IPython.core.display.HTML object>"
      ]
     },
     "metadata": {},
     "output_type": "display_data"
    },
    {
     "name": "stdout",
     "output_type": "stream",
     "text": [
      "<IPython.core.display.HTML object>\n",
      "Raw review: a characteristically engorged and sloppy coming-of-age movie . \n",
      "GT target: 0\n",
      "asd 11\n"
     ]
    },
    {
     "data": {
      "text/html": [
       "<table width: 100%><div style=\"border-top: 1px solid; margin-top: 5px;             padding-top: 5px; display: inline-block\"><b>Legend: </b><span style=\"display: inline-block; width: 10px; height: 10px;                 border: 1px solid; background-color:                 hsl(0, 75%, 60%)\"></span> Negative  <span style=\"display: inline-block; width: 10px; height: 10px;                 border: 1px solid; background-color:                 hsl(0, 75%, 100%)\"></span> Neutral  <span style=\"display: inline-block; width: 10px; height: 10px;                 border: 1px solid; background-color:                 hsl(120, 75%, 50%)\"></span> Positive  </div><tr><th>True Label</th><th>Predicted Label</th><th>Attribution Label</th><th>Attribution Score</th><th>Word Importance</th><tr><td><text style=\"padding-right:2em\"><b>Neg</b></text></td><td><text style=\"padding-right:2em\"><b>Neg (0.00)</b></text></td><td><text style=\"padding-right:2em\"><b>Neg</b></text></td><td><text style=\"padding-right:2em\"><b>-0.78</b></text></td><td><mark style=\"background-color: hsl(0, 75%, 63%); opacity:1.0;                     line-height:1.75\"><font color=\"black\"> #s                    </font></mark><mark style=\"background-color: hsl(0, 75%, 97%); opacity:1.0;                     line-height:1.75\"><font color=\"black\"> a                    </font></mark><mark style=\"background-color: hsl(120, 75%, 99%); opacity:1.0;                     line-height:1.75\"><font color=\"black\"> characteristically                    </font></mark><mark style=\"background-color: hsl(120, 75%, 100%); opacity:1.0;                     line-height:1.75\"><font color=\"black\"> engorged                    </font></mark><mark style=\"background-color: hsl(0, 75%, 95%); opacity:1.0;                     line-height:1.75\"><font color=\"black\"> and                    </font></mark><mark style=\"background-color: hsl(0, 75%, 100%); opacity:1.0;                     line-height:1.75\"><font color=\"black\"> sloppy                    </font></mark><mark style=\"background-color: hsl(0, 75%, 97%); opacity:1.0;                     line-height:1.75\"><font color=\"black\"> coming-of-age                    </font></mark><mark style=\"background-color: hsl(120, 75%, 92%); opacity:1.0;                     line-height:1.75\"><font color=\"black\"> movie                    </font></mark><mark style=\"background-color: hsl(0, 75%, 97%); opacity:1.0;                     line-height:1.75\"><font color=\"black\"> .                    </font></mark><mark style=\"background-color: hsl(120, 75%, 89%); opacity:1.0;                     line-height:1.75\"><font color=\"black\">                     </font></mark><mark style=\"background-color: hsl(0, 75%, 100%); opacity:1.0;                     line-height:1.75\"><font color=\"black\"> #/s                    </font></mark></td><tr></table>"
      ],
      "text/plain": [
       "<IPython.core.display.HTML object>"
      ]
     },
     "metadata": {},
     "output_type": "display_data"
    },
    {
     "name": "stdout",
     "output_type": "stream",
     "text": [
      "<IPython.core.display.HTML object>\n",
      "Raw review: the slack complacency of ( godard 's ) vision \n",
      "GT target: 0\n",
      "asd 12\n"
     ]
    },
    {
     "data": {
      "text/html": [
       "<table width: 100%><div style=\"border-top: 1px solid; margin-top: 5px;             padding-top: 5px; display: inline-block\"><b>Legend: </b><span style=\"display: inline-block; width: 10px; height: 10px;                 border: 1px solid; background-color:                 hsl(0, 75%, 60%)\"></span> Negative  <span style=\"display: inline-block; width: 10px; height: 10px;                 border: 1px solid; background-color:                 hsl(0, 75%, 100%)\"></span> Neutral  <span style=\"display: inline-block; width: 10px; height: 10px;                 border: 1px solid; background-color:                 hsl(120, 75%, 50%)\"></span> Positive  </div><tr><th>True Label</th><th>Predicted Label</th><th>Attribution Label</th><th>Attribution Score</th><th>Word Importance</th><tr><td><text style=\"padding-right:2em\"><b>Neg</b></text></td><td><text style=\"padding-right:2em\"><b>Neg (0.00)</b></text></td><td><text style=\"padding-right:2em\"><b>Neg</b></text></td><td><text style=\"padding-right:2em\"><b>-1.07</b></text></td><td><mark style=\"background-color: hsl(0, 75%, 68%); opacity:1.0;                     line-height:1.75\"><font color=\"black\"> #s                    </font></mark><mark style=\"background-color: hsl(120, 75%, 89%); opacity:1.0;                     line-height:1.75\"><font color=\"black\"> the                    </font></mark><mark style=\"background-color: hsl(0, 75%, 97%); opacity:1.0;                     line-height:1.75\"><font color=\"black\"> slack                    </font></mark><mark style=\"background-color: hsl(0, 75%, 98%); opacity:1.0;                     line-height:1.75\"><font color=\"black\"> complacency                    </font></mark><mark style=\"background-color: hsl(0, 75%, 100%); opacity:1.0;                     line-height:1.75\"><font color=\"black\"> of                    </font></mark><mark style=\"background-color: hsl(0, 75%, 99%); opacity:1.0;                     line-height:1.75\"><font color=\"black\"> (                    </font></mark><mark style=\"background-color: hsl(120, 75%, 99%); opacity:1.0;                     line-height:1.75\"><font color=\"black\"> godard                    </font></mark><mark style=\"background-color: hsl(120, 75%, 99%); opacity:1.0;                     line-height:1.75\"><font color=\"black\"> 's                    </font></mark><mark style=\"background-color: hsl(0, 75%, 93%); opacity:1.0;                     line-height:1.75\"><font color=\"black\"> )                    </font></mark><mark style=\"background-color: hsl(0, 75%, 91%); opacity:1.0;                     line-height:1.75\"><font color=\"black\"> vision                    </font></mark><mark style=\"background-color: hsl(0, 75%, 92%); opacity:1.0;                     line-height:1.75\"><font color=\"black\">                     </font></mark><mark style=\"background-color: hsl(120, 75%, 96%); opacity:1.0;                     line-height:1.75\"><font color=\"black\"> #/s                    </font></mark></td><tr></table>"
      ],
      "text/plain": [
       "<IPython.core.display.HTML object>"
      ]
     },
     "metadata": {},
     "output_type": "display_data"
    },
    {
     "name": "stdout",
     "output_type": "stream",
     "text": [
      "<IPython.core.display.HTML object>\n",
      "Raw review: luridly graphic and laughably unconvincing \n",
      "GT target: 0\n",
      "asd 8\n"
     ]
    },
    {
     "data": {
      "text/html": [
       "<table width: 100%><div style=\"border-top: 1px solid; margin-top: 5px;             padding-top: 5px; display: inline-block\"><b>Legend: </b><span style=\"display: inline-block; width: 10px; height: 10px;                 border: 1px solid; background-color:                 hsl(0, 75%, 60%)\"></span> Negative  <span style=\"display: inline-block; width: 10px; height: 10px;                 border: 1px solid; background-color:                 hsl(0, 75%, 100%)\"></span> Neutral  <span style=\"display: inline-block; width: 10px; height: 10px;                 border: 1px solid; background-color:                 hsl(120, 75%, 50%)\"></span> Positive  </div><tr><th>True Label</th><th>Predicted Label</th><th>Attribution Label</th><th>Attribution Score</th><th>Word Importance</th><tr><td><text style=\"padding-right:2em\"><b>Neg</b></text></td><td><text style=\"padding-right:2em\"><b>Neg (0.00)</b></text></td><td><text style=\"padding-right:2em\"><b>Pos</b></text></td><td><text style=\"padding-right:2em\"><b>0.77</b></text></td><td><mark style=\"background-color: hsl(120, 75%, 84%); opacity:1.0;                     line-height:1.75\"><font color=\"black\"> #s                    </font></mark><mark style=\"background-color: hsl(0, 75%, 99%); opacity:1.0;                     line-height:1.75\"><font color=\"black\"> luridly                    </font></mark><mark style=\"background-color: hsl(0, 75%, 99%); opacity:1.0;                     line-height:1.75\"><font color=\"black\"> graphic                    </font></mark><mark style=\"background-color: hsl(120, 75%, 93%); opacity:1.0;                     line-height:1.75\"><font color=\"black\"> and                    </font></mark><mark style=\"background-color: hsl(120, 75%, 84%); opacity:1.0;                     line-height:1.75\"><font color=\"black\"> laughably                    </font></mark><mark style=\"background-color: hsl(0, 75%, 92%); opacity:1.0;                     line-height:1.75\"><font color=\"black\"> unconvincing                    </font></mark><mark style=\"background-color: hsl(120, 75%, 96%); opacity:1.0;                     line-height:1.75\"><font color=\"black\">                     </font></mark><mark style=\"background-color: hsl(120, 75%, 72%); opacity:1.0;                     line-height:1.75\"><font color=\"black\"> #/s                    </font></mark></td><tr></table>"
      ],
      "text/plain": [
       "<IPython.core.display.HTML object>"
      ]
     },
     "metadata": {},
     "output_type": "display_data"
    },
    {
     "name": "stdout",
     "output_type": "stream",
     "text": [
      "<IPython.core.display.HTML object>\n",
      "Raw review: is not that it 's offensive , but that it 's boring . \n",
      "GT target: 0\n",
      "asd 16\n"
     ]
    },
    {
     "data": {
      "text/html": [
       "<table width: 100%><div style=\"border-top: 1px solid; margin-top: 5px;             padding-top: 5px; display: inline-block\"><b>Legend: </b><span style=\"display: inline-block; width: 10px; height: 10px;                 border: 1px solid; background-color:                 hsl(0, 75%, 60%)\"></span> Negative  <span style=\"display: inline-block; width: 10px; height: 10px;                 border: 1px solid; background-color:                 hsl(0, 75%, 100%)\"></span> Neutral  <span style=\"display: inline-block; width: 10px; height: 10px;                 border: 1px solid; background-color:                 hsl(120, 75%, 50%)\"></span> Positive  </div><tr><th>True Label</th><th>Predicted Label</th><th>Attribution Label</th><th>Attribution Score</th><th>Word Importance</th><tr><td><text style=\"padding-right:2em\"><b>Neg</b></text></td><td><text style=\"padding-right:2em\"><b>Neg (0.00)</b></text></td><td><text style=\"padding-right:2em\"><b>Neg</b></text></td><td><text style=\"padding-right:2em\"><b>-1.23</b></text></td><td><mark style=\"background-color: hsl(0, 75%, 62%); opacity:1.0;                     line-height:1.75\"><font color=\"black\"> #s                    </font></mark><mark style=\"background-color: hsl(120, 75%, 100%); opacity:1.0;                     line-height:1.75\"><font color=\"black\"> is                    </font></mark><mark style=\"background-color: hsl(0, 75%, 100%); opacity:1.0;                     line-height:1.75\"><font color=\"black\"> not                    </font></mark><mark style=\"background-color: hsl(120, 75%, 100%); opacity:1.0;                     line-height:1.75\"><font color=\"black\"> that                    </font></mark><mark style=\"background-color: hsl(0, 75%, 94%); opacity:1.0;                     line-height:1.75\"><font color=\"black\"> it                    </font></mark><mark style=\"background-color: hsl(120, 75%, 100%); opacity:1.0;                     line-height:1.75\"><font color=\"black\"> 's                    </font></mark><mark style=\"background-color: hsl(0, 75%, 100%); opacity:1.0;                     line-height:1.75\"><font color=\"black\"> offensive                    </font></mark><mark style=\"background-color: hsl(120, 75%, 98%); opacity:1.0;                     line-height:1.75\"><font color=\"black\"> ,                    </font></mark><mark style=\"background-color: hsl(120, 75%, 100%); opacity:1.0;                     line-height:1.75\"><font color=\"black\"> but                    </font></mark><mark style=\"background-color: hsl(0, 75%, 100%); opacity:1.0;                     line-height:1.75\"><font color=\"black\"> that                    </font></mark><mark style=\"background-color: hsl(0, 75%, 100%); opacity:1.0;                     line-height:1.75\"><font color=\"black\"> it                    </font></mark><mark style=\"background-color: hsl(0, 75%, 100%); opacity:1.0;                     line-height:1.75\"><font color=\"black\"> 's                    </font></mark><mark style=\"background-color: hsl(0, 75%, 96%); opacity:1.0;                     line-height:1.75\"><font color=\"black\"> boring                    </font></mark><mark style=\"background-color: hsl(120, 75%, 99%); opacity:1.0;                     line-height:1.75\"><font color=\"black\"> .                    </font></mark><mark style=\"background-color: hsl(120, 75%, 99%); opacity:1.0;                     line-height:1.75\"><font color=\"black\">                     </font></mark><mark style=\"background-color: hsl(0, 75%, 100%); opacity:1.0;                     line-height:1.75\"><font color=\"black\"> #/s                    </font></mark></td><tr></table>"
      ],
      "text/plain": [
       "<IPython.core.display.HTML object>"
      ]
     },
     "metadata": {},
     "output_type": "display_data"
    },
    {
     "name": "stdout",
     "output_type": "stream",
     "text": [
      "<IPython.core.display.HTML object>\n",
      "Raw review: is an inspirational love story , capturing the innocence and idealism of that first encounter \n",
      "GT target: 1\n",
      "asd 18\n"
     ]
    },
    {
     "data": {
      "text/html": [
       "<table width: 100%><div style=\"border-top: 1px solid; margin-top: 5px;             padding-top: 5px; display: inline-block\"><b>Legend: </b><span style=\"display: inline-block; width: 10px; height: 10px;                 border: 1px solid; background-color:                 hsl(0, 75%, 60%)\"></span> Negative  <span style=\"display: inline-block; width: 10px; height: 10px;                 border: 1px solid; background-color:                 hsl(0, 75%, 100%)\"></span> Neutral  <span style=\"display: inline-block; width: 10px; height: 10px;                 border: 1px solid; background-color:                 hsl(120, 75%, 50%)\"></span> Positive  </div><tr><th>True Label</th><th>Predicted Label</th><th>Attribution Label</th><th>Attribution Score</th><th>Word Importance</th><tr><td><text style=\"padding-right:2em\"><b>Pos</b></text></td><td><text style=\"padding-right:2em\"><b>Pos (1.00)</b></text></td><td><text style=\"padding-right:2em\"><b>Neg</b></text></td><td><text style=\"padding-right:2em\"><b>-0.94</b></text></td><td><mark style=\"background-color: hsl(0, 75%, 62%); opacity:1.0;                     line-height:1.75\"><font color=\"black\"> #s                    </font></mark><mark style=\"background-color: hsl(120, 75%, 98%); opacity:1.0;                     line-height:1.75\"><font color=\"black\"> is                    </font></mark><mark style=\"background-color: hsl(120, 75%, 96%); opacity:1.0;                     line-height:1.75\"><font color=\"black\"> an                    </font></mark><mark style=\"background-color: hsl(120, 75%, 98%); opacity:1.0;                     line-height:1.75\"><font color=\"black\"> inspirational                    </font></mark><mark style=\"background-color: hsl(0, 75%, 100%); opacity:1.0;                     line-height:1.75\"><font color=\"black\"> love                    </font></mark><mark style=\"background-color: hsl(120, 75%, 100%); opacity:1.0;                     line-height:1.75\"><font color=\"black\"> story                    </font></mark><mark style=\"background-color: hsl(0, 75%, 96%); opacity:1.0;                     line-height:1.75\"><font color=\"black\"> ,                    </font></mark><mark style=\"background-color: hsl(120, 75%, 99%); opacity:1.0;                     line-height:1.75\"><font color=\"black\"> capturing                    </font></mark><mark style=\"background-color: hsl(120, 75%, 99%); opacity:1.0;                     line-height:1.75\"><font color=\"black\"> the                    </font></mark><mark style=\"background-color: hsl(0, 75%, 100%); opacity:1.0;                     line-height:1.75\"><font color=\"black\"> innocence                    </font></mark><mark style=\"background-color: hsl(120, 75%, 100%); opacity:1.0;                     line-height:1.75\"><font color=\"black\"> and                    </font></mark><mark style=\"background-color: hsl(0, 75%, 100%); opacity:1.0;                     line-height:1.75\"><font color=\"black\"> idealism                    </font></mark><mark style=\"background-color: hsl(0, 75%, 100%); opacity:1.0;                     line-height:1.75\"><font color=\"black\"> of                    </font></mark><mark style=\"background-color: hsl(120, 75%, 98%); opacity:1.0;                     line-height:1.75\"><font color=\"black\"> that                    </font></mark><mark style=\"background-color: hsl(120, 75%, 97%); opacity:1.0;                     line-height:1.75\"><font color=\"black\"> first                    </font></mark><mark style=\"background-color: hsl(0, 75%, 99%); opacity:1.0;                     line-height:1.75\"><font color=\"black\"> encounter                    </font></mark><mark style=\"background-color: hsl(120, 75%, 100%); opacity:1.0;                     line-height:1.75\"><font color=\"black\">                     </font></mark><mark style=\"background-color: hsl(0, 75%, 95%); opacity:1.0;                     line-height:1.75\"><font color=\"black\"> #/s                    </font></mark></td><tr></table>"
      ],
      "text/plain": [
       "<IPython.core.display.HTML object>"
      ]
     },
     "metadata": {},
     "output_type": "display_data"
    },
    {
     "name": "stdout",
     "output_type": "stream",
     "text": [
      "<IPython.core.display.HTML object>\n",
      "Raw review: walked away from this new version of e.t. just as i hoped i would -- with moist eyes . \n",
      "GT target: 1\n",
      "asd 22\n"
     ]
    },
    {
     "data": {
      "text/html": [
       "<table width: 100%><div style=\"border-top: 1px solid; margin-top: 5px;             padding-top: 5px; display: inline-block\"><b>Legend: </b><span style=\"display: inline-block; width: 10px; height: 10px;                 border: 1px solid; background-color:                 hsl(0, 75%, 60%)\"></span> Negative  <span style=\"display: inline-block; width: 10px; height: 10px;                 border: 1px solid; background-color:                 hsl(0, 75%, 100%)\"></span> Neutral  <span style=\"display: inline-block; width: 10px; height: 10px;                 border: 1px solid; background-color:                 hsl(120, 75%, 50%)\"></span> Positive  </div><tr><th>True Label</th><th>Predicted Label</th><th>Attribution Label</th><th>Attribution Score</th><th>Word Importance</th><tr><td><text style=\"padding-right:2em\"><b>Pos</b></text></td><td><text style=\"padding-right:2em\"><b>Neg (0.01)</b></text></td><td><text style=\"padding-right:2em\"><b>Neg</b></text></td><td><text style=\"padding-right:2em\"><b>0.28</b></text></td><td><mark style=\"background-color: hsl(120, 75%, 82%); opacity:1.0;                     line-height:1.75\"><font color=\"black\"> #s                    </font></mark><mark style=\"background-color: hsl(0, 75%, 88%); opacity:1.0;                     line-height:1.75\"><font color=\"black\"> walked                    </font></mark><mark style=\"background-color: hsl(0, 75%, 99%); opacity:1.0;                     line-height:1.75\"><font color=\"black\"> away                    </font></mark><mark style=\"background-color: hsl(120, 75%, 68%); opacity:1.0;                     line-height:1.75\"><font color=\"black\"> from                    </font></mark><mark style=\"background-color: hsl(0, 75%, 98%); opacity:1.0;                     line-height:1.75\"><font color=\"black\"> this                    </font></mark><mark style=\"background-color: hsl(0, 75%, 99%); opacity:1.0;                     line-height:1.75\"><font color=\"black\"> new                    </font></mark><mark style=\"background-color: hsl(0, 75%, 94%); opacity:1.0;                     line-height:1.75\"><font color=\"black\"> version                    </font></mark><mark style=\"background-color: hsl(0, 75%, 94%); opacity:1.0;                     line-height:1.75\"><font color=\"black\"> of                    </font></mark><mark style=\"background-color: hsl(0, 75%, 98%); opacity:1.0;                     line-height:1.75\"><font color=\"black\"> e.t.                    </font></mark><mark style=\"background-color: hsl(120, 75%, 92%); opacity:1.0;                     line-height:1.75\"><font color=\"black\"> just                    </font></mark><mark style=\"background-color: hsl(0, 75%, 99%); opacity:1.0;                     line-height:1.75\"><font color=\"black\"> as                    </font></mark><mark style=\"background-color: hsl(0, 75%, 97%); opacity:1.0;                     line-height:1.75\"><font color=\"black\"> i                    </font></mark><mark style=\"background-color: hsl(120, 75%, 97%); opacity:1.0;                     line-height:1.75\"><font color=\"black\"> hoped                    </font></mark><mark style=\"background-color: hsl(120, 75%, 100%); opacity:1.0;                     line-height:1.75\"><font color=\"black\"> i                    </font></mark><mark style=\"background-color: hsl(120, 75%, 99%); opacity:1.0;                     line-height:1.75\"><font color=\"black\"> would                    </font></mark><mark style=\"background-color: hsl(120, 75%, 93%); opacity:1.0;                     line-height:1.75\"><font color=\"black\"> --                    </font></mark><mark style=\"background-color: hsl(120, 75%, 96%); opacity:1.0;                     line-height:1.75\"><font color=\"black\"> with                    </font></mark><mark style=\"background-color: hsl(120, 75%, 94%); opacity:1.0;                     line-height:1.75\"><font color=\"black\"> moist                    </font></mark><mark style=\"background-color: hsl(0, 75%, 99%); opacity:1.0;                     line-height:1.75\"><font color=\"black\"> eyes                    </font></mark><mark style=\"background-color: hsl(120, 75%, 94%); opacity:1.0;                     line-height:1.75\"><font color=\"black\"> .                    </font></mark><mark style=\"background-color: hsl(0, 75%, 99%); opacity:1.0;                     line-height:1.75\"><font color=\"black\">                     </font></mark><mark style=\"background-color: hsl(0, 75%, 84%); opacity:1.0;                     line-height:1.75\"><font color=\"black\"> #/s                    </font></mark></td><tr></table>"
      ],
      "text/plain": [
       "<IPython.core.display.HTML object>"
      ]
     },
     "metadata": {},
     "output_type": "display_data"
    },
    {
     "name": "stdout",
     "output_type": "stream",
     "text": [
      "<IPython.core.display.HTML object>\n",
      "Raw review: brings a youthful , out-to-change-the-world aggressiveness to the project , as if she 's cut open a vein and \n",
      "GT target: 1\n",
      "asd 22\n"
     ]
    },
    {
     "data": {
      "text/html": [
       "<table width: 100%><div style=\"border-top: 1px solid; margin-top: 5px;             padding-top: 5px; display: inline-block\"><b>Legend: </b><span style=\"display: inline-block; width: 10px; height: 10px;                 border: 1px solid; background-color:                 hsl(0, 75%, 60%)\"></span> Negative  <span style=\"display: inline-block; width: 10px; height: 10px;                 border: 1px solid; background-color:                 hsl(0, 75%, 100%)\"></span> Neutral  <span style=\"display: inline-block; width: 10px; height: 10px;                 border: 1px solid; background-color:                 hsl(120, 75%, 50%)\"></span> Positive  </div><tr><th>True Label</th><th>Predicted Label</th><th>Attribution Label</th><th>Attribution Score</th><th>Word Importance</th><tr><td><text style=\"padding-right:2em\"><b>Pos</b></text></td><td><text style=\"padding-right:2em\"><b>Pos (1.00)</b></text></td><td><text style=\"padding-right:2em\"><b>Neg</b></text></td><td><text style=\"padding-right:2em\"><b>-0.96</b></text></td><td><mark style=\"background-color: hsl(0, 75%, 61%); opacity:1.0;                     line-height:1.75\"><font color=\"black\"> #s                    </font></mark><mark style=\"background-color: hsl(0, 75%, 100%); opacity:1.0;                     line-height:1.75\"><font color=\"black\"> brings                    </font></mark><mark style=\"background-color: hsl(120, 75%, 100%); opacity:1.0;                     line-height:1.75\"><font color=\"black\"> a                    </font></mark><mark style=\"background-color: hsl(120, 75%, 99%); opacity:1.0;                     line-height:1.75\"><font color=\"black\"> youthful                    </font></mark><mark style=\"background-color: hsl(120, 75%, 99%); opacity:1.0;                     line-height:1.75\"><font color=\"black\"> ,                    </font></mark><mark style=\"background-color: hsl(0, 75%, 100%); opacity:1.0;                     line-height:1.75\"><font color=\"black\"> out-to-change-the-world                    </font></mark><mark style=\"background-color: hsl(120, 75%, 100%); opacity:1.0;                     line-height:1.75\"><font color=\"black\"> aggressiveness                    </font></mark><mark style=\"background-color: hsl(0, 75%, 100%); opacity:1.0;                     line-height:1.75\"><font color=\"black\"> to                    </font></mark><mark style=\"background-color: hsl(120, 75%, 100%); opacity:1.0;                     line-height:1.75\"><font color=\"black\"> the                    </font></mark><mark style=\"background-color: hsl(0, 75%, 100%); opacity:1.0;                     line-height:1.75\"><font color=\"black\"> project                    </font></mark><mark style=\"background-color: hsl(0, 75%, 100%); opacity:1.0;                     line-height:1.75\"><font color=\"black\"> ,                    </font></mark><mark style=\"background-color: hsl(0, 75%, 100%); opacity:1.0;                     line-height:1.75\"><font color=\"black\"> as                    </font></mark><mark style=\"background-color: hsl(0, 75%, 100%); opacity:1.0;                     line-height:1.75\"><font color=\"black\"> if                    </font></mark><mark style=\"background-color: hsl(0, 75%, 99%); opacity:1.0;                     line-height:1.75\"><font color=\"black\"> she                    </font></mark><mark style=\"background-color: hsl(120, 75%, 100%); opacity:1.0;                     line-height:1.75\"><font color=\"black\"> 's                    </font></mark><mark style=\"background-color: hsl(0, 75%, 100%); opacity:1.0;                     line-height:1.75\"><font color=\"black\"> cut                    </font></mark><mark style=\"background-color: hsl(120, 75%, 100%); opacity:1.0;                     line-height:1.75\"><font color=\"black\"> open                    </font></mark><mark style=\"background-color: hsl(120, 75%, 99%); opacity:1.0;                     line-height:1.75\"><font color=\"black\"> a                    </font></mark><mark style=\"background-color: hsl(120, 75%, 100%); opacity:1.0;                     line-height:1.75\"><font color=\"black\"> vein                    </font></mark><mark style=\"background-color: hsl(0, 75%, 100%); opacity:1.0;                     line-height:1.75\"><font color=\"black\"> and                    </font></mark><mark style=\"background-color: hsl(0, 75%, 100%); opacity:1.0;                     line-height:1.75\"><font color=\"black\">                     </font></mark><mark style=\"background-color: hsl(0, 75%, 100%); opacity:1.0;                     line-height:1.75\"><font color=\"black\"> #/s                    </font></mark></td><tr></table>"
      ],
      "text/plain": [
       "<IPython.core.display.HTML object>"
      ]
     },
     "metadata": {},
     "output_type": "display_data"
    },
    {
     "name": "stdout",
     "output_type": "stream",
     "text": [
      "<IPython.core.display.HTML object>\n",
      "Raw review: a no-bull throwback to 1970s action films \n",
      "GT target: 1\n",
      "asd 10\n"
     ]
    },
    {
     "data": {
      "text/html": [
       "<table width: 100%><div style=\"border-top: 1px solid; margin-top: 5px;             padding-top: 5px; display: inline-block\"><b>Legend: </b><span style=\"display: inline-block; width: 10px; height: 10px;                 border: 1px solid; background-color:                 hsl(0, 75%, 60%)\"></span> Negative  <span style=\"display: inline-block; width: 10px; height: 10px;                 border: 1px solid; background-color:                 hsl(0, 75%, 100%)\"></span> Neutral  <span style=\"display: inline-block; width: 10px; height: 10px;                 border: 1px solid; background-color:                 hsl(120, 75%, 50%)\"></span> Positive  </div><tr><th>True Label</th><th>Predicted Label</th><th>Attribution Label</th><th>Attribution Score</th><th>Word Importance</th><tr><td><text style=\"padding-right:2em\"><b>Pos</b></text></td><td><text style=\"padding-right:2em\"><b>Pos (1.00)</b></text></td><td><text style=\"padding-right:2em\"><b>Pos</b></text></td><td><text style=\"padding-right:2em\"><b>1.43</b></text></td><td><mark style=\"background-color: hsl(120, 75%, 52%); opacity:1.0;                     line-height:1.75\"><font color=\"black\"> #s                    </font></mark><mark style=\"background-color: hsl(120, 75%, 100%); opacity:1.0;                     line-height:1.75\"><font color=\"black\"> a                    </font></mark><mark style=\"background-color: hsl(120, 75%, 95%); opacity:1.0;                     line-height:1.75\"><font color=\"black\"> no-bull                    </font></mark><mark style=\"background-color: hsl(120, 75%, 100%); opacity:1.0;                     line-height:1.75\"><font color=\"black\"> throwback                    </font></mark><mark style=\"background-color: hsl(120, 75%, 96%); opacity:1.0;                     line-height:1.75\"><font color=\"black\"> to                    </font></mark><mark style=\"background-color: hsl(120, 75%, 100%); opacity:1.0;                     line-height:1.75\"><font color=\"black\"> 1970s                    </font></mark><mark style=\"background-color: hsl(120, 75%, 97%); opacity:1.0;                     line-height:1.75\"><font color=\"black\"> action                    </font></mark><mark style=\"background-color: hsl(120, 75%, 94%); opacity:1.0;                     line-height:1.75\"><font color=\"black\"> films                    </font></mark><mark style=\"background-color: hsl(0, 75%, 99%); opacity:1.0;                     line-height:1.75\"><font color=\"black\">                     </font></mark><mark style=\"background-color: hsl(0, 75%, 100%); opacity:1.0;                     line-height:1.75\"><font color=\"black\"> #/s                    </font></mark></td><tr></table>"
      ],
      "text/plain": [
       "<IPython.core.display.HTML object>"
      ]
     },
     "metadata": {},
     "output_type": "display_data"
    },
    {
     "name": "stdout",
     "output_type": "stream",
     "text": [
      "<IPython.core.display.HTML object>\n",
      "Raw review: languishing \n",
      "GT target: 0\n",
      "asd 4\n"
     ]
    },
    {
     "data": {
      "text/html": [
       "<table width: 100%><div style=\"border-top: 1px solid; margin-top: 5px;             padding-top: 5px; display: inline-block\"><b>Legend: </b><span style=\"display: inline-block; width: 10px; height: 10px;                 border: 1px solid; background-color:                 hsl(0, 75%, 60%)\"></span> Negative  <span style=\"display: inline-block; width: 10px; height: 10px;                 border: 1px solid; background-color:                 hsl(0, 75%, 100%)\"></span> Neutral  <span style=\"display: inline-block; width: 10px; height: 10px;                 border: 1px solid; background-color:                 hsl(120, 75%, 50%)\"></span> Positive  </div><tr><th>True Label</th><th>Predicted Label</th><th>Attribution Label</th><th>Attribution Score</th><th>Word Importance</th><tr><td><text style=\"padding-right:2em\"><b>Neg</b></text></td><td><text style=\"padding-right:2em\"><b>Neg (0.00)</b></text></td><td><text style=\"padding-right:2em\"><b>Neg</b></text></td><td><text style=\"padding-right:2em\"><b>-0.47</b></text></td><td><mark style=\"background-color: hsl(0, 75%, 65%); opacity:1.0;                     line-height:1.75\"><font color=\"black\"> #s                    </font></mark><mark style=\"background-color: hsl(120, 75%, 91%); opacity:1.0;                     line-height:1.75\"><font color=\"black\"> languishing                    </font></mark><mark style=\"background-color: hsl(120, 75%, 83%); opacity:1.0;                     line-height:1.75\"><font color=\"black\">                     </font></mark><mark style=\"background-color: hsl(0, 75%, 94%); opacity:1.0;                     line-height:1.75\"><font color=\"black\"> #/s                    </font></mark></td><tr></table>"
      ],
      "text/plain": [
       "<IPython.core.display.HTML object>"
      ]
     },
     "metadata": {},
     "output_type": "display_data"
    },
    {
     "name": "stdout",
     "output_type": "stream",
     "text": [
      "<IPython.core.display.HTML object>\n",
      "Raw review: brittle desperation \n",
      "GT target: 0\n",
      "asd 5\n"
     ]
    },
    {
     "data": {
      "text/html": [
       "<table width: 100%><div style=\"border-top: 1px solid; margin-top: 5px;             padding-top: 5px; display: inline-block\"><b>Legend: </b><span style=\"display: inline-block; width: 10px; height: 10px;                 border: 1px solid; background-color:                 hsl(0, 75%, 60%)\"></span> Negative  <span style=\"display: inline-block; width: 10px; height: 10px;                 border: 1px solid; background-color:                 hsl(0, 75%, 100%)\"></span> Neutral  <span style=\"display: inline-block; width: 10px; height: 10px;                 border: 1px solid; background-color:                 hsl(120, 75%, 50%)\"></span> Positive  </div><tr><th>True Label</th><th>Predicted Label</th><th>Attribution Label</th><th>Attribution Score</th><th>Word Importance</th><tr><td><text style=\"padding-right:2em\"><b>Neg</b></text></td><td><text style=\"padding-right:2em\"><b>Neg (0.00)</b></text></td><td><text style=\"padding-right:2em\"><b>Pos</b></text></td><td><text style=\"padding-right:2em\"><b>1.19</b></text></td><td><mark style=\"background-color: hsl(120, 75%, 51%); opacity:1.0;                     line-height:1.75\"><font color=\"black\"> #s                    </font></mark><mark style=\"background-color: hsl(0, 75%, 99%); opacity:1.0;                     line-height:1.75\"><font color=\"black\"> brittle                    </font></mark><mark style=\"background-color: hsl(0, 75%, 99%); opacity:1.0;                     line-height:1.75\"><font color=\"black\"> desperation                    </font></mark><mark style=\"background-color: hsl(120, 75%, 95%); opacity:1.0;                     line-height:1.75\"><font color=\"black\">                     </font></mark><mark style=\"background-color: hsl(120, 75%, 98%); opacity:1.0;                     line-height:1.75\"><font color=\"black\"> #/s                    </font></mark></td><tr></table>"
      ],
      "text/plain": [
       "<IPython.core.display.HTML object>"
      ]
     },
     "metadata": {},
     "output_type": "display_data"
    },
    {
     "name": "stdout",
     "output_type": "stream",
     "text": [
      "<IPython.core.display.HTML object>\n",
      "Raw review: sharp comedy , old-fashioned monster movie atmospherics , \n",
      "GT target: 1\n",
      "asd 11\n"
     ]
    },
    {
     "data": {
      "text/html": [
       "<table width: 100%><div style=\"border-top: 1px solid; margin-top: 5px;             padding-top: 5px; display: inline-block\"><b>Legend: </b><span style=\"display: inline-block; width: 10px; height: 10px;                 border: 1px solid; background-color:                 hsl(0, 75%, 60%)\"></span> Negative  <span style=\"display: inline-block; width: 10px; height: 10px;                 border: 1px solid; background-color:                 hsl(0, 75%, 100%)\"></span> Neutral  <span style=\"display: inline-block; width: 10px; height: 10px;                 border: 1px solid; background-color:                 hsl(120, 75%, 50%)\"></span> Positive  </div><tr><th>True Label</th><th>Predicted Label</th><th>Attribution Label</th><th>Attribution Score</th><th>Word Importance</th><tr><td><text style=\"padding-right:2em\"><b>Pos</b></text></td><td><text style=\"padding-right:2em\"><b>Pos (1.00)</b></text></td><td><text style=\"padding-right:2em\"><b>Pos</b></text></td><td><text style=\"padding-right:2em\"><b>1.08</b></text></td><td><mark style=\"background-color: hsl(120, 75%, 94%); opacity:1.0;                     line-height:1.75\"><font color=\"black\"> #s                    </font></mark><mark style=\"background-color: hsl(120, 75%, 53%); opacity:1.0;                     line-height:1.75\"><font color=\"black\"> sharp                    </font></mark><mark style=\"background-color: hsl(120, 75%, 90%); opacity:1.0;                     line-height:1.75\"><font color=\"black\"> comedy                    </font></mark><mark style=\"background-color: hsl(120, 75%, 97%); opacity:1.0;                     line-height:1.75\"><font color=\"black\"> ,                    </font></mark><mark style=\"background-color: hsl(0, 75%, 93%); opacity:1.0;                     line-height:1.75\"><font color=\"black\"> old-fashioned                    </font></mark><mark style=\"background-color: hsl(120, 75%, 99%); opacity:1.0;                     line-height:1.75\"><font color=\"black\"> monster                    </font></mark><mark style=\"background-color: hsl(120, 75%, 99%); opacity:1.0;                     line-height:1.75\"><font color=\"black\"> movie                    </font></mark><mark style=\"background-color: hsl(0, 75%, 99%); opacity:1.0;                     line-height:1.75\"><font color=\"black\"> atmospherics                    </font></mark><mark style=\"background-color: hsl(0, 75%, 99%); opacity:1.0;                     line-height:1.75\"><font color=\"black\"> ,                    </font></mark><mark style=\"background-color: hsl(0, 75%, 100%); opacity:1.0;                     line-height:1.75\"><font color=\"black\">                     </font></mark><mark style=\"background-color: hsl(0, 75%, 100%); opacity:1.0;                     line-height:1.75\"><font color=\"black\"> #/s                    </font></mark></td><tr></table>"
      ],
      "text/plain": [
       "<IPython.core.display.HTML object>"
      ]
     },
     "metadata": {},
     "output_type": "display_data"
    },
    {
     "name": "stdout",
     "output_type": "stream",
     "text": [
      "<IPython.core.display.HTML object>\n",
      "Raw review: we really have n't had a good cheesy b-movie playing in theaters since ... well ... since last week 's reign of fire \n",
      "GT target: 0\n",
      "asd 26\n"
     ]
    },
    {
     "data": {
      "text/html": [
       "<table width: 100%><div style=\"border-top: 1px solid; margin-top: 5px;             padding-top: 5px; display: inline-block\"><b>Legend: </b><span style=\"display: inline-block; width: 10px; height: 10px;                 border: 1px solid; background-color:                 hsl(0, 75%, 60%)\"></span> Negative  <span style=\"display: inline-block; width: 10px; height: 10px;                 border: 1px solid; background-color:                 hsl(0, 75%, 100%)\"></span> Neutral  <span style=\"display: inline-block; width: 10px; height: 10px;                 border: 1px solid; background-color:                 hsl(120, 75%, 50%)\"></span> Positive  </div><tr><th>True Label</th><th>Predicted Label</th><th>Attribution Label</th><th>Attribution Score</th><th>Word Importance</th><tr><td><text style=\"padding-right:2em\"><b>Neg</b></text></td><td><text style=\"padding-right:2em\"><b>Neg (0.01)</b></text></td><td><text style=\"padding-right:2em\"><b>Pos</b></text></td><td><text style=\"padding-right:2em\"><b>0.57</b></text></td><td><mark style=\"background-color: hsl(120, 75%, 64%); opacity:1.0;                     line-height:1.75\"><font color=\"black\"> #s                    </font></mark><mark style=\"background-color: hsl(120, 75%, 78%); opacity:1.0;                     line-height:1.75\"><font color=\"black\"> we                    </font></mark><mark style=\"background-color: hsl(120, 75%, 92%); opacity:1.0;                     line-height:1.75\"><font color=\"black\"> really                    </font></mark><mark style=\"background-color: hsl(0, 75%, 100%); opacity:1.0;                     line-height:1.75\"><font color=\"black\"> have                    </font></mark><mark style=\"background-color: hsl(0, 75%, 93%); opacity:1.0;                     line-height:1.75\"><font color=\"black\"> n't                    </font></mark><mark style=\"background-color: hsl(0, 75%, 97%); opacity:1.0;                     line-height:1.75\"><font color=\"black\"> had                    </font></mark><mark style=\"background-color: hsl(0, 75%, 98%); opacity:1.0;                     line-height:1.75\"><font color=\"black\"> a                    </font></mark><mark style=\"background-color: hsl(0, 75%, 88%); opacity:1.0;                     line-height:1.75\"><font color=\"black\"> good                    </font></mark><mark style=\"background-color: hsl(0, 75%, 98%); opacity:1.0;                     line-height:1.75\"><font color=\"black\"> cheesy                    </font></mark><mark style=\"background-color: hsl(0, 75%, 99%); opacity:1.0;                     line-height:1.75\"><font color=\"black\"> b-movie                    </font></mark><mark style=\"background-color: hsl(0, 75%, 97%); opacity:1.0;                     line-height:1.75\"><font color=\"black\"> playing                    </font></mark><mark style=\"background-color: hsl(0, 75%, 99%); opacity:1.0;                     line-height:1.75\"><font color=\"black\"> in                    </font></mark><mark style=\"background-color: hsl(0, 75%, 99%); opacity:1.0;                     line-height:1.75\"><font color=\"black\"> theaters                    </font></mark><mark style=\"background-color: hsl(120, 75%, 99%); opacity:1.0;                     line-height:1.75\"><font color=\"black\"> since                    </font></mark><mark style=\"background-color: hsl(120, 75%, 99%); opacity:1.0;                     line-height:1.75\"><font color=\"black\"> ...                    </font></mark><mark style=\"background-color: hsl(120, 75%, 100%); opacity:1.0;                     line-height:1.75\"><font color=\"black\"> well                    </font></mark><mark style=\"background-color: hsl(120, 75%, 98%); opacity:1.0;                     line-height:1.75\"><font color=\"black\"> ...                    </font></mark><mark style=\"background-color: hsl(0, 75%, 100%); opacity:1.0;                     line-height:1.75\"><font color=\"black\"> since                    </font></mark><mark style=\"background-color: hsl(120, 75%, 100%); opacity:1.0;                     line-height:1.75\"><font color=\"black\"> last                    </font></mark><mark style=\"background-color: hsl(0, 75%, 100%); opacity:1.0;                     line-height:1.75\"><font color=\"black\"> week                    </font></mark><mark style=\"background-color: hsl(0, 75%, 95%); opacity:1.0;                     line-height:1.75\"><font color=\"black\"> 's                    </font></mark><mark style=\"background-color: hsl(0, 75%, 98%); opacity:1.0;                     line-height:1.75\"><font color=\"black\"> reign                    </font></mark><mark style=\"background-color: hsl(120, 75%, 97%); opacity:1.0;                     line-height:1.75\"><font color=\"black\"> of                    </font></mark><mark style=\"background-color: hsl(0, 75%, 98%); opacity:1.0;                     line-height:1.75\"><font color=\"black\"> fire                    </font></mark><mark style=\"background-color: hsl(120, 75%, 97%); opacity:1.0;                     line-height:1.75\"><font color=\"black\">                     </font></mark><mark style=\"background-color: hsl(120, 75%, 98%); opacity:1.0;                     line-height:1.75\"><font color=\"black\"> #/s                    </font></mark></td><tr></table>"
      ],
      "text/plain": [
       "<IPython.core.display.HTML object>"
      ]
     },
     "metadata": {},
     "output_type": "display_data"
    },
    {
     "name": "stdout",
     "output_type": "stream",
     "text": [
      "<IPython.core.display.HTML object>\n",
      "Raw review: confuses its message with an ultimate desire to please , and contorting itself into an idea of expectation is the last thing any of these three actresses , nor their characters , deserve . \n",
      "GT target: 0\n",
      "asd 37\n"
     ]
    },
    {
     "data": {
      "text/html": [
       "<table width: 100%><div style=\"border-top: 1px solid; margin-top: 5px;             padding-top: 5px; display: inline-block\"><b>Legend: </b><span style=\"display: inline-block; width: 10px; height: 10px;                 border: 1px solid; background-color:                 hsl(0, 75%, 60%)\"></span> Negative  <span style=\"display: inline-block; width: 10px; height: 10px;                 border: 1px solid; background-color:                 hsl(0, 75%, 100%)\"></span> Neutral  <span style=\"display: inline-block; width: 10px; height: 10px;                 border: 1px solid; background-color:                 hsl(120, 75%, 50%)\"></span> Positive  </div><tr><th>True Label</th><th>Predicted Label</th><th>Attribution Label</th><th>Attribution Score</th><th>Word Importance</th><tr><td><text style=\"padding-right:2em\"><b>Neg</b></text></td><td><text style=\"padding-right:2em\"><b>Neg (0.00)</b></text></td><td><text style=\"padding-right:2em\"><b>Neg</b></text></td><td><text style=\"padding-right:2em\"><b>0.28</b></text></td><td><mark style=\"background-color: hsl(120, 75%, 53%); opacity:1.0;                     line-height:1.75\"><font color=\"black\"> #s                    </font></mark><mark style=\"background-color: hsl(0, 75%, 100%); opacity:1.0;                     line-height:1.75\"><font color=\"black\"> confuses                    </font></mark><mark style=\"background-color: hsl(120, 75%, 99%); opacity:1.0;                     line-height:1.75\"><font color=\"black\"> its                    </font></mark><mark style=\"background-color: hsl(120, 75%, 97%); opacity:1.0;                     line-height:1.75\"><font color=\"black\"> message                    </font></mark><mark style=\"background-color: hsl(0, 75%, 100%); opacity:1.0;                     line-height:1.75\"><font color=\"black\"> with                    </font></mark><mark style=\"background-color: hsl(0, 75%, 98%); opacity:1.0;                     line-height:1.75\"><font color=\"black\"> an                    </font></mark><mark style=\"background-color: hsl(120, 75%, 100%); opacity:1.0;                     line-height:1.75\"><font color=\"black\"> ultimate                    </font></mark><mark style=\"background-color: hsl(120, 75%, 99%); opacity:1.0;                     line-height:1.75\"><font color=\"black\"> desire                    </font></mark><mark style=\"background-color: hsl(120, 75%, 97%); opacity:1.0;                     line-height:1.75\"><font color=\"black\"> to                    </font></mark><mark style=\"background-color: hsl(0, 75%, 100%); opacity:1.0;                     line-height:1.75\"><font color=\"black\"> please                    </font></mark><mark style=\"background-color: hsl(0, 75%, 99%); opacity:1.0;                     line-height:1.75\"><font color=\"black\"> ,                    </font></mark><mark style=\"background-color: hsl(120, 75%, 99%); opacity:1.0;                     line-height:1.75\"><font color=\"black\"> and                    </font></mark><mark style=\"background-color: hsl(0, 75%, 99%); opacity:1.0;                     line-height:1.75\"><font color=\"black\"> contorting                    </font></mark><mark style=\"background-color: hsl(0, 75%, 99%); opacity:1.0;                     line-height:1.75\"><font color=\"black\"> itself                    </font></mark><mark style=\"background-color: hsl(0, 75%, 98%); opacity:1.0;                     line-height:1.75\"><font color=\"black\"> into                    </font></mark><mark style=\"background-color: hsl(0, 75%, 100%); opacity:1.0;                     line-height:1.75\"><font color=\"black\"> an                    </font></mark><mark style=\"background-color: hsl(0, 75%, 99%); opacity:1.0;                     line-height:1.75\"><font color=\"black\"> idea                    </font></mark><mark style=\"background-color: hsl(0, 75%, 99%); opacity:1.0;                     line-height:1.75\"><font color=\"black\"> of                    </font></mark><mark style=\"background-color: hsl(0, 75%, 100%); opacity:1.0;                     line-height:1.75\"><font color=\"black\"> expectation                    </font></mark><mark style=\"background-color: hsl(0, 75%, 100%); opacity:1.0;                     line-height:1.75\"><font color=\"black\"> is                    </font></mark><mark style=\"background-color: hsl(120, 75%, 100%); opacity:1.0;                     line-height:1.75\"><font color=\"black\"> the                    </font></mark><mark style=\"background-color: hsl(0, 75%, 98%); opacity:1.0;                     line-height:1.75\"><font color=\"black\"> last                    </font></mark><mark style=\"background-color: hsl(0, 75%, 98%); opacity:1.0;                     line-height:1.75\"><font color=\"black\"> thing                    </font></mark><mark style=\"background-color: hsl(0, 75%, 99%); opacity:1.0;                     line-height:1.75\"><font color=\"black\"> any                    </font></mark><mark style=\"background-color: hsl(0, 75%, 97%); opacity:1.0;                     line-height:1.75\"><font color=\"black\"> of                    </font></mark><mark style=\"background-color: hsl(0, 75%, 99%); opacity:1.0;                     line-height:1.75\"><font color=\"black\"> these                    </font></mark><mark style=\"background-color: hsl(0, 75%, 99%); opacity:1.0;                     line-height:1.75\"><font color=\"black\"> three                    </font></mark><mark style=\"background-color: hsl(0, 75%, 99%); opacity:1.0;                     line-height:1.75\"><font color=\"black\"> actresses                    </font></mark><mark style=\"background-color: hsl(120, 75%, 99%); opacity:1.0;                     line-height:1.75\"><font color=\"black\"> ,                    </font></mark><mark style=\"background-color: hsl(120, 75%, 100%); opacity:1.0;                     line-height:1.75\"><font color=\"black\"> nor                    </font></mark><mark style=\"background-color: hsl(0, 75%, 100%); opacity:1.0;                     line-height:1.75\"><font color=\"black\"> their                    </font></mark><mark style=\"background-color: hsl(0, 75%, 95%); opacity:1.0;                     line-height:1.75\"><font color=\"black\"> characters                    </font></mark><mark style=\"background-color: hsl(0, 75%, 98%); opacity:1.0;                     line-height:1.75\"><font color=\"black\"> ,                    </font></mark><mark style=\"background-color: hsl(0, 75%, 98%); opacity:1.0;                     line-height:1.75\"><font color=\"black\"> deserve                    </font></mark><mark style=\"background-color: hsl(120, 75%, 100%); opacity:1.0;                     line-height:1.75\"><font color=\"black\"> .                    </font></mark><mark style=\"background-color: hsl(120, 75%, 100%); opacity:1.0;                     line-height:1.75\"><font color=\"black\">                     </font></mark><mark style=\"background-color: hsl(0, 75%, 100%); opacity:1.0;                     line-height:1.75\"><font color=\"black\"> #/s                    </font></mark></td><tr></table>"
      ],
      "text/plain": [
       "<IPython.core.display.HTML object>"
      ]
     },
     "metadata": {},
     "output_type": "display_data"
    },
    {
     "name": "stdout",
     "output_type": "stream",
     "text": [
      "<IPython.core.display.HTML object>\n",
      "Raw review: some intriguing characters \n",
      "GT target: 1\n",
      "asd 6\n"
     ]
    },
    {
     "data": {
      "text/html": [
       "<table width: 100%><div style=\"border-top: 1px solid; margin-top: 5px;             padding-top: 5px; display: inline-block\"><b>Legend: </b><span style=\"display: inline-block; width: 10px; height: 10px;                 border: 1px solid; background-color:                 hsl(0, 75%, 60%)\"></span> Negative  <span style=\"display: inline-block; width: 10px; height: 10px;                 border: 1px solid; background-color:                 hsl(0, 75%, 100%)\"></span> Neutral  <span style=\"display: inline-block; width: 10px; height: 10px;                 border: 1px solid; background-color:                 hsl(120, 75%, 50%)\"></span> Positive  </div><tr><th>True Label</th><th>Predicted Label</th><th>Attribution Label</th><th>Attribution Score</th><th>Word Importance</th><tr><td><text style=\"padding-right:2em\"><b>Pos</b></text></td><td><text style=\"padding-right:2em\"><b>Pos (1.00)</b></text></td><td><text style=\"padding-right:2em\"><b>Pos</b></text></td><td><text style=\"padding-right:2em\"><b>1.23</b></text></td><td><mark style=\"background-color: hsl(120, 75%, 55%); opacity:1.0;                     line-height:1.75\"><font color=\"black\"> #s                    </font></mark><mark style=\"background-color: hsl(0, 75%, 96%); opacity:1.0;                     line-height:1.75\"><font color=\"black\"> some                    </font></mark><mark style=\"background-color: hsl(120, 75%, 80%); opacity:1.0;                     line-height:1.75\"><font color=\"black\"> intriguing                    </font></mark><mark style=\"background-color: hsl(0, 75%, 99%); opacity:1.0;                     line-height:1.75\"><font color=\"black\"> characters                    </font></mark><mark style=\"background-color: hsl(120, 75%, 100%); opacity:1.0;                     line-height:1.75\"><font color=\"black\">                     </font></mark><mark style=\"background-color: hsl(120, 75%, 97%); opacity:1.0;                     line-height:1.75\"><font color=\"black\"> #/s                    </font></mark></td><tr></table>"
      ],
      "text/plain": [
       "<IPython.core.display.HTML object>"
      ]
     },
     "metadata": {},
     "output_type": "display_data"
    },
    {
     "name": "stdout",
     "output_type": "stream",
     "text": [
      "<IPython.core.display.HTML object>\n",
      "Raw review: vereté has a whip-smart sense of narrative bluffs . \n",
      "GT target: 1\n",
      "asd 12\n"
     ]
    },
    {
     "data": {
      "text/html": [
       "<table width: 100%><div style=\"border-top: 1px solid; margin-top: 5px;             padding-top: 5px; display: inline-block\"><b>Legend: </b><span style=\"display: inline-block; width: 10px; height: 10px;                 border: 1px solid; background-color:                 hsl(0, 75%, 60%)\"></span> Negative  <span style=\"display: inline-block; width: 10px; height: 10px;                 border: 1px solid; background-color:                 hsl(0, 75%, 100%)\"></span> Neutral  <span style=\"display: inline-block; width: 10px; height: 10px;                 border: 1px solid; background-color:                 hsl(120, 75%, 50%)\"></span> Positive  </div><tr><th>True Label</th><th>Predicted Label</th><th>Attribution Label</th><th>Attribution Score</th><th>Word Importance</th><tr><td><text style=\"padding-right:2em\"><b>Pos</b></text></td><td><text style=\"padding-right:2em\"><b>Pos (1.00)</b></text></td><td><text style=\"padding-right:2em\"><b>Neg</b></text></td><td><text style=\"padding-right:2em\"><b>-0.39</b></text></td><td><mark style=\"background-color: hsl(0, 75%, 85%); opacity:1.0;                     line-height:1.75\"><font color=\"black\"> #s                    </font></mark><mark style=\"background-color: hsl(0, 75%, 94%); opacity:1.0;                     line-height:1.75\"><font color=\"black\"> veretÃ©                    </font></mark><mark style=\"background-color: hsl(0, 75%, 96%); opacity:1.0;                     line-height:1.75\"><font color=\"black\"> has                    </font></mark><mark style=\"background-color: hsl(0, 75%, 97%); opacity:1.0;                     line-height:1.75\"><font color=\"black\"> a                    </font></mark><mark style=\"background-color: hsl(0, 75%, 88%); opacity:1.0;                     line-height:1.75\"><font color=\"black\"> whip-smart                    </font></mark><mark style=\"background-color: hsl(120, 75%, 98%); opacity:1.0;                     line-height:1.75\"><font color=\"black\"> sense                    </font></mark><mark style=\"background-color: hsl(120, 75%, 100%); opacity:1.0;                     line-height:1.75\"><font color=\"black\"> of                    </font></mark><mark style=\"background-color: hsl(120, 75%, 90%); opacity:1.0;                     line-height:1.75\"><font color=\"black\"> narrative                    </font></mark><mark style=\"background-color: hsl(0, 75%, 96%); opacity:1.0;                     line-height:1.75\"><font color=\"black\"> bluffs                    </font></mark><mark style=\"background-color: hsl(120, 75%, 97%); opacity:1.0;                     line-height:1.75\"><font color=\"black\"> .                    </font></mark><mark style=\"background-color: hsl(0, 75%, 99%); opacity:1.0;                     line-height:1.75\"><font color=\"black\">                     </font></mark><mark style=\"background-color: hsl(120, 75%, 79%); opacity:1.0;                     line-height:1.75\"><font color=\"black\"> #/s                    </font></mark></td><tr></table>"
      ],
      "text/plain": [
       "<IPython.core.display.HTML object>"
      ]
     },
     "metadata": {},
     "output_type": "display_data"
    },
    {
     "name": "stdout",
     "output_type": "stream",
     "text": [
      "<IPython.core.display.HTML object>\n",
      "Raw review: that good theatre \n",
      "GT target: 1\n",
      "asd 6\n"
     ]
    },
    {
     "data": {
      "text/html": [
       "<table width: 100%><div style=\"border-top: 1px solid; margin-top: 5px;             padding-top: 5px; display: inline-block\"><b>Legend: </b><span style=\"display: inline-block; width: 10px; height: 10px;                 border: 1px solid; background-color:                 hsl(0, 75%, 60%)\"></span> Negative  <span style=\"display: inline-block; width: 10px; height: 10px;                 border: 1px solid; background-color:                 hsl(0, 75%, 100%)\"></span> Neutral  <span style=\"display: inline-block; width: 10px; height: 10px;                 border: 1px solid; background-color:                 hsl(120, 75%, 50%)\"></span> Positive  </div><tr><th>True Label</th><th>Predicted Label</th><th>Attribution Label</th><th>Attribution Score</th><th>Word Importance</th><tr><td><text style=\"padding-right:2em\"><b>Pos</b></text></td><td><text style=\"padding-right:2em\"><b>Pos (1.00)</b></text></td><td><text style=\"padding-right:2em\"><b>Pos</b></text></td><td><text style=\"padding-right:2em\"><b>1.67</b></text></td><td><mark style=\"background-color: hsl(120, 75%, 60%); opacity:1.0;                     line-height:1.75\"><font color=\"black\"> #s                    </font></mark><mark style=\"background-color: hsl(120, 75%, 96%); opacity:1.0;                     line-height:1.75\"><font color=\"black\"> that                    </font></mark><mark style=\"background-color: hsl(120, 75%, 98%); opacity:1.0;                     line-height:1.75\"><font color=\"black\"> good                    </font></mark><mark style=\"background-color: hsl(0, 75%, 100%); opacity:1.0;                     line-height:1.75\"><font color=\"black\"> theatre                    </font></mark><mark style=\"background-color: hsl(120, 75%, 74%); opacity:1.0;                     line-height:1.75\"><font color=\"black\">                     </font></mark><mark style=\"background-color: hsl(120, 75%, 90%); opacity:1.0;                     line-height:1.75\"><font color=\"black\"> #/s                    </font></mark></td><tr></table>"
      ],
      "text/plain": [
       "<IPython.core.display.HTML object>"
      ]
     },
     "metadata": {},
     "output_type": "display_data"
    },
    {
     "name": "stdout",
     "output_type": "stream",
     "text": [
      "<IPython.core.display.HTML object>\n",
      "Raw review: it may be a somewhat backhanded compliment to say that the film makes the viewer feel like the movie 's various victimized audience members after a while , but it also happens to be the movie 's most admirable quality \n",
      "GT target: 1\n",
      "asd 43\n"
     ]
    },
    {
     "data": {
      "text/html": [
       "<table width: 100%><div style=\"border-top: 1px solid; margin-top: 5px;             padding-top: 5px; display: inline-block\"><b>Legend: </b><span style=\"display: inline-block; width: 10px; height: 10px;                 border: 1px solid; background-color:                 hsl(0, 75%, 60%)\"></span> Negative  <span style=\"display: inline-block; width: 10px; height: 10px;                 border: 1px solid; background-color:                 hsl(0, 75%, 100%)\"></span> Neutral  <span style=\"display: inline-block; width: 10px; height: 10px;                 border: 1px solid; background-color:                 hsl(120, 75%, 50%)\"></span> Positive  </div><tr><th>True Label</th><th>Predicted Label</th><th>Attribution Label</th><th>Attribution Score</th><th>Word Importance</th><tr><td><text style=\"padding-right:2em\"><b>Pos</b></text></td><td><text style=\"padding-right:2em\"><b>Pos (1.00)</b></text></td><td><text style=\"padding-right:2em\"><b>Neg</b></text></td><td><text style=\"padding-right:2em\"><b>-1.30</b></text></td><td><mark style=\"background-color: hsl(0, 75%, 62%); opacity:1.0;                     line-height:1.75\"><font color=\"black\"> #s                    </font></mark><mark style=\"background-color: hsl(0, 75%, 100%); opacity:1.0;                     line-height:1.75\"><font color=\"black\"> it                    </font></mark><mark style=\"background-color: hsl(120, 75%, 99%); opacity:1.0;                     line-height:1.75\"><font color=\"black\"> may                    </font></mark><mark style=\"background-color: hsl(120, 75%, 97%); opacity:1.0;                     line-height:1.75\"><font color=\"black\"> be                    </font></mark><mark style=\"background-color: hsl(0, 75%, 100%); opacity:1.0;                     line-height:1.75\"><font color=\"black\"> a                    </font></mark><mark style=\"background-color: hsl(0, 75%, 97%); opacity:1.0;                     line-height:1.75\"><font color=\"black\"> somewhat                    </font></mark><mark style=\"background-color: hsl(0, 75%, 99%); opacity:1.0;                     line-height:1.75\"><font color=\"black\"> backhanded                    </font></mark><mark style=\"background-color: hsl(0, 75%, 100%); opacity:1.0;                     line-height:1.75\"><font color=\"black\"> compliment                    </font></mark><mark style=\"background-color: hsl(0, 75%, 100%); opacity:1.0;                     line-height:1.75\"><font color=\"black\"> to                    </font></mark><mark style=\"background-color: hsl(120, 75%, 96%); opacity:1.0;                     line-height:1.75\"><font color=\"black\"> say                    </font></mark><mark style=\"background-color: hsl(0, 75%, 99%); opacity:1.0;                     line-height:1.75\"><font color=\"black\"> that                    </font></mark><mark style=\"background-color: hsl(0, 75%, 100%); opacity:1.0;                     line-height:1.75\"><font color=\"black\"> the                    </font></mark><mark style=\"background-color: hsl(0, 75%, 98%); opacity:1.0;                     line-height:1.75\"><font color=\"black\"> film                    </font></mark><mark style=\"background-color: hsl(120, 75%, 100%); opacity:1.0;                     line-height:1.75\"><font color=\"black\"> makes                    </font></mark><mark style=\"background-color: hsl(0, 75%, 100%); opacity:1.0;                     line-height:1.75\"><font color=\"black\"> the                    </font></mark><mark style=\"background-color: hsl(0, 75%, 99%); opacity:1.0;                     line-height:1.75\"><font color=\"black\"> viewer                    </font></mark><mark style=\"background-color: hsl(0, 75%, 100%); opacity:1.0;                     line-height:1.75\"><font color=\"black\"> feel                    </font></mark><mark style=\"background-color: hsl(0, 75%, 100%); opacity:1.0;                     line-height:1.75\"><font color=\"black\"> like                    </font></mark><mark style=\"background-color: hsl(0, 75%, 100%); opacity:1.0;                     line-height:1.75\"><font color=\"black\"> the                    </font></mark><mark style=\"background-color: hsl(120, 75%, 99%); opacity:1.0;                     line-height:1.75\"><font color=\"black\"> movie                    </font></mark><mark style=\"background-color: hsl(0, 75%, 100%); opacity:1.0;                     line-height:1.75\"><font color=\"black\"> 's                    </font></mark><mark style=\"background-color: hsl(0, 75%, 99%); opacity:1.0;                     line-height:1.75\"><font color=\"black\"> various                    </font></mark><mark style=\"background-color: hsl(0, 75%, 100%); opacity:1.0;                     line-height:1.75\"><font color=\"black\"> victimized                    </font></mark><mark style=\"background-color: hsl(0, 75%, 100%); opacity:1.0;                     line-height:1.75\"><font color=\"black\"> audience                    </font></mark><mark style=\"background-color: hsl(0, 75%, 99%); opacity:1.0;                     line-height:1.75\"><font color=\"black\"> members                    </font></mark><mark style=\"background-color: hsl(120, 75%, 100%); opacity:1.0;                     line-height:1.75\"><font color=\"black\"> after                    </font></mark><mark style=\"background-color: hsl(0, 75%, 100%); opacity:1.0;                     line-height:1.75\"><font color=\"black\"> a                    </font></mark><mark style=\"background-color: hsl(120, 75%, 96%); opacity:1.0;                     line-height:1.75\"><font color=\"black\"> while                    </font></mark><mark style=\"background-color: hsl(0, 75%, 100%); opacity:1.0;                     line-height:1.75\"><font color=\"black\"> ,                    </font></mark><mark style=\"background-color: hsl(0, 75%, 100%); opacity:1.0;                     line-height:1.75\"><font color=\"black\"> but                    </font></mark><mark style=\"background-color: hsl(120, 75%, 100%); opacity:1.0;                     line-height:1.75\"><font color=\"black\"> it                    </font></mark><mark style=\"background-color: hsl(0, 75%, 100%); opacity:1.0;                     line-height:1.75\"><font color=\"black\"> also                    </font></mark><mark style=\"background-color: hsl(0, 75%, 100%); opacity:1.0;                     line-height:1.75\"><font color=\"black\"> happens                    </font></mark><mark style=\"background-color: hsl(120, 75%, 100%); opacity:1.0;                     line-height:1.75\"><font color=\"black\"> to                    </font></mark><mark style=\"background-color: hsl(120, 75%, 100%); opacity:1.0;                     line-height:1.75\"><font color=\"black\"> be                    </font></mark><mark style=\"background-color: hsl(120, 75%, 96%); opacity:1.0;                     line-height:1.75\"><font color=\"black\"> the                    </font></mark><mark style=\"background-color: hsl(0, 75%, 99%); opacity:1.0;                     line-height:1.75\"><font color=\"black\"> movie                    </font></mark><mark style=\"background-color: hsl(0, 75%, 98%); opacity:1.0;                     line-height:1.75\"><font color=\"black\"> 's                    </font></mark><mark style=\"background-color: hsl(0, 75%, 100%); opacity:1.0;                     line-height:1.75\"><font color=\"black\"> most                    </font></mark><mark style=\"background-color: hsl(0, 75%, 99%); opacity:1.0;                     line-height:1.75\"><font color=\"black\"> admirable                    </font></mark><mark style=\"background-color: hsl(120, 75%, 100%); opacity:1.0;                     line-height:1.75\"><font color=\"black\"> quality                    </font></mark><mark style=\"background-color: hsl(0, 75%, 99%); opacity:1.0;                     line-height:1.75\"><font color=\"black\">                     </font></mark><mark style=\"background-color: hsl(120, 75%, 100%); opacity:1.0;                     line-height:1.75\"><font color=\"black\"> #/s                    </font></mark></td><tr></table>"
      ],
      "text/plain": [
       "<IPython.core.display.HTML object>"
      ]
     },
     "metadata": {},
     "output_type": "display_data"
    },
    {
     "name": "stdout",
     "output_type": "stream",
     "text": [
      "<IPython.core.display.HTML object>\n",
      "Raw review: evacuations , and none-too-funny commentary on the cultural distinctions between americans and brits \n",
      "GT target: 0\n",
      "asd 16\n"
     ]
    },
    {
     "data": {
      "text/html": [
       "<table width: 100%><div style=\"border-top: 1px solid; margin-top: 5px;             padding-top: 5px; display: inline-block\"><b>Legend: </b><span style=\"display: inline-block; width: 10px; height: 10px;                 border: 1px solid; background-color:                 hsl(0, 75%, 60%)\"></span> Negative  <span style=\"display: inline-block; width: 10px; height: 10px;                 border: 1px solid; background-color:                 hsl(0, 75%, 100%)\"></span> Neutral  <span style=\"display: inline-block; width: 10px; height: 10px;                 border: 1px solid; background-color:                 hsl(120, 75%, 50%)\"></span> Positive  </div><tr><th>True Label</th><th>Predicted Label</th><th>Attribution Label</th><th>Attribution Score</th><th>Word Importance</th><tr><td><text style=\"padding-right:2em\"><b>Neg</b></text></td><td><text style=\"padding-right:2em\"><b>Neg (0.00)</b></text></td><td><text style=\"padding-right:2em\"><b>Neg</b></text></td><td><text style=\"padding-right:2em\"><b>-1.72</b></text></td><td><mark style=\"background-color: hsl(0, 75%, 69%); opacity:1.0;                     line-height:1.75\"><font color=\"black\"> #s                    </font></mark><mark style=\"background-color: hsl(0, 75%, 100%); opacity:1.0;                     line-height:1.75\"><font color=\"black\"> evacuations                    </font></mark><mark style=\"background-color: hsl(120, 75%, 100%); opacity:1.0;                     line-height:1.75\"><font color=\"black\"> ,                    </font></mark><mark style=\"background-color: hsl(0, 75%, 99%); opacity:1.0;                     line-height:1.75\"><font color=\"black\"> and                    </font></mark><mark style=\"background-color: hsl(0, 75%, 89%); opacity:1.0;                     line-height:1.75\"><font color=\"black\"> none-too-funny                    </font></mark><mark style=\"background-color: hsl(0, 75%, 99%); opacity:1.0;                     line-height:1.75\"><font color=\"black\"> commentary                    </font></mark><mark style=\"background-color: hsl(0, 75%, 100%); opacity:1.0;                     line-height:1.75\"><font color=\"black\"> on                    </font></mark><mark style=\"background-color: hsl(120, 75%, 96%); opacity:1.0;                     line-height:1.75\"><font color=\"black\"> the                    </font></mark><mark style=\"background-color: hsl(120, 75%, 97%); opacity:1.0;                     line-height:1.75\"><font color=\"black\"> cultural                    </font></mark><mark style=\"background-color: hsl(120, 75%, 99%); opacity:1.0;                     line-height:1.75\"><font color=\"black\"> distinctions                    </font></mark><mark style=\"background-color: hsl(0, 75%, 86%); opacity:1.0;                     line-height:1.75\"><font color=\"black\"> between                    </font></mark><mark style=\"background-color: hsl(0, 75%, 97%); opacity:1.0;                     line-height:1.75\"><font color=\"black\"> americans                    </font></mark><mark style=\"background-color: hsl(120, 75%, 94%); opacity:1.0;                     line-height:1.75\"><font color=\"black\"> and                    </font></mark><mark style=\"background-color: hsl(120, 75%, 97%); opacity:1.0;                     line-height:1.75\"><font color=\"black\"> brits                    </font></mark><mark style=\"background-color: hsl(0, 75%, 99%); opacity:1.0;                     line-height:1.75\"><font color=\"black\">                     </font></mark><mark style=\"background-color: hsl(120, 75%, 97%); opacity:1.0;                     line-height:1.75\"><font color=\"black\"> #/s                    </font></mark></td><tr></table>"
      ],
      "text/plain": [
       "<IPython.core.display.HTML object>"
      ]
     },
     "metadata": {},
     "output_type": "display_data"
    },
    {
     "name": "stdout",
     "output_type": "stream",
     "text": [
      "<IPython.core.display.HTML object>\n",
      "Raw review: create and sustain \n",
      "GT target: 1\n",
      "asd 6\n"
     ]
    },
    {
     "data": {
      "text/html": [
       "<table width: 100%><div style=\"border-top: 1px solid; margin-top: 5px;             padding-top: 5px; display: inline-block\"><b>Legend: </b><span style=\"display: inline-block; width: 10px; height: 10px;                 border: 1px solid; background-color:                 hsl(0, 75%, 60%)\"></span> Negative  <span style=\"display: inline-block; width: 10px; height: 10px;                 border: 1px solid; background-color:                 hsl(0, 75%, 100%)\"></span> Neutral  <span style=\"display: inline-block; width: 10px; height: 10px;                 border: 1px solid; background-color:                 hsl(120, 75%, 50%)\"></span> Positive  </div><tr><th>True Label</th><th>Predicted Label</th><th>Attribution Label</th><th>Attribution Score</th><th>Word Importance</th><tr><td><text style=\"padding-right:2em\"><b>Pos</b></text></td><td><text style=\"padding-right:2em\"><b>Pos (1.00)</b></text></td><td><text style=\"padding-right:2em\"><b>Pos</b></text></td><td><text style=\"padding-right:2em\"><b>2.13</b></text></td><td><mark style=\"background-color: hsl(120, 75%, 94%); opacity:1.0;                     line-height:1.75\"><font color=\"black\"> #s                    </font></mark><mark style=\"background-color: hsl(120, 75%, 90%); opacity:1.0;                     line-height:1.75\"><font color=\"black\"> create                    </font></mark><mark style=\"background-color: hsl(120, 75%, 70%); opacity:1.0;                     line-height:1.75\"><font color=\"black\"> and                    </font></mark><mark style=\"background-color: hsl(120, 75%, 70%); opacity:1.0;                     line-height:1.75\"><font color=\"black\"> sustain                    </font></mark><mark style=\"background-color: hsl(120, 75%, 92%); opacity:1.0;                     line-height:1.75\"><font color=\"black\">                     </font></mark><mark style=\"background-color: hsl(120, 75%, 81%); opacity:1.0;                     line-height:1.75\"><font color=\"black\"> #/s                    </font></mark></td><tr></table>"
      ],
      "text/plain": [
       "<IPython.core.display.HTML object>"
      ]
     },
     "metadata": {},
     "output_type": "display_data"
    },
    {
     "name": "stdout",
     "output_type": "stream",
     "text": [
      "<IPython.core.display.HTML object>\n",
      "Raw review: laughter and self-exploitation \n",
      "GT target: 1\n",
      "asd 6\n"
     ]
    },
    {
     "data": {
      "text/html": [
       "<table width: 100%><div style=\"border-top: 1px solid; margin-top: 5px;             padding-top: 5px; display: inline-block\"><b>Legend: </b><span style=\"display: inline-block; width: 10px; height: 10px;                 border: 1px solid; background-color:                 hsl(0, 75%, 60%)\"></span> Negative  <span style=\"display: inline-block; width: 10px; height: 10px;                 border: 1px solid; background-color:                 hsl(0, 75%, 100%)\"></span> Neutral  <span style=\"display: inline-block; width: 10px; height: 10px;                 border: 1px solid; background-color:                 hsl(120, 75%, 50%)\"></span> Positive  </div><tr><th>True Label</th><th>Predicted Label</th><th>Attribution Label</th><th>Attribution Score</th><th>Word Importance</th><tr><td><text style=\"padding-right:2em\"><b>Pos</b></text></td><td><text style=\"padding-right:2em\"><b>Neg (0.02)</b></text></td><td><text style=\"padding-right:2em\"><b>Neg</b></text></td><td><text style=\"padding-right:2em\"><b>-1.13</b></text></td><td><mark style=\"background-color: hsl(120, 75%, 84%); opacity:1.0;                     line-height:1.75\"><font color=\"black\"> #s                    </font></mark><mark style=\"background-color: hsl(0, 75%, 69%); opacity:1.0;                     line-height:1.75\"><font color=\"black\"> laughter                    </font></mark><mark style=\"background-color: hsl(120, 75%, 92%); opacity:1.0;                     line-height:1.75\"><font color=\"black\"> and                    </font></mark><mark style=\"background-color: hsl(0, 75%, 99%); opacity:1.0;                     line-height:1.75\"><font color=\"black\"> self-exploitation                    </font></mark><mark style=\"background-color: hsl(0, 75%, 93%); opacity:1.0;                     line-height:1.75\"><font color=\"black\">                     </font></mark><mark style=\"background-color: hsl(120, 75%, 99%); opacity:1.0;                     line-height:1.75\"><font color=\"black\"> #/s                    </font></mark></td><tr></table>"
      ],
      "text/plain": [
       "<IPython.core.display.HTML object>"
      ]
     },
     "metadata": {},
     "output_type": "display_data"
    },
    {
     "name": "stdout",
     "output_type": "stream",
     "text": [
      "<IPython.core.display.HTML object>\n",
      "Raw review: that a life like this can sound so dull \n",
      "GT target: 0\n",
      "asd 12\n"
     ]
    },
    {
     "data": {
      "text/html": [
       "<table width: 100%><div style=\"border-top: 1px solid; margin-top: 5px;             padding-top: 5px; display: inline-block\"><b>Legend: </b><span style=\"display: inline-block; width: 10px; height: 10px;                 border: 1px solid; background-color:                 hsl(0, 75%, 60%)\"></span> Negative  <span style=\"display: inline-block; width: 10px; height: 10px;                 border: 1px solid; background-color:                 hsl(0, 75%, 100%)\"></span> Neutral  <span style=\"display: inline-block; width: 10px; height: 10px;                 border: 1px solid; background-color:                 hsl(120, 75%, 50%)\"></span> Positive  </div><tr><th>True Label</th><th>Predicted Label</th><th>Attribution Label</th><th>Attribution Score</th><th>Word Importance</th><tr><td><text style=\"padding-right:2em\"><b>Neg</b></text></td><td><text style=\"padding-right:2em\"><b>Neg (0.00)</b></text></td><td><text style=\"padding-right:2em\"><b>Neg</b></text></td><td><text style=\"padding-right:2em\"><b>-1.29</b></text></td><td><mark style=\"background-color: hsl(0, 75%, 66%); opacity:1.0;                     line-height:1.75\"><font color=\"black\"> #s                    </font></mark><mark style=\"background-color: hsl(0, 75%, 96%); opacity:1.0;                     line-height:1.75\"><font color=\"black\"> that                    </font></mark><mark style=\"background-color: hsl(0, 75%, 93%); opacity:1.0;                     line-height:1.75\"><font color=\"black\"> a                    </font></mark><mark style=\"background-color: hsl(0, 75%, 99%); opacity:1.0;                     line-height:1.75\"><font color=\"black\"> life                    </font></mark><mark style=\"background-color: hsl(0, 75%, 100%); opacity:1.0;                     line-height:1.75\"><font color=\"black\"> like                    </font></mark><mark style=\"background-color: hsl(0, 75%, 87%); opacity:1.0;                     line-height:1.75\"><font color=\"black\"> this                    </font></mark><mark style=\"background-color: hsl(0, 75%, 95%); opacity:1.0;                     line-height:1.75\"><font color=\"black\"> can                    </font></mark><mark style=\"background-color: hsl(120, 75%, 92%); opacity:1.0;                     line-height:1.75\"><font color=\"black\"> sound                    </font></mark><mark style=\"background-color: hsl(120, 75%, 95%); opacity:1.0;                     line-height:1.75\"><font color=\"black\"> so                    </font></mark><mark style=\"background-color: hsl(0, 75%, 99%); opacity:1.0;                     line-height:1.75\"><font color=\"black\"> dull                    </font></mark><mark style=\"background-color: hsl(120, 75%, 91%); opacity:1.0;                     line-height:1.75\"><font color=\"black\">                     </font></mark><mark style=\"background-color: hsl(0, 75%, 99%); opacity:1.0;                     line-height:1.75\"><font color=\"black\"> #/s                    </font></mark></td><tr></table>"
      ],
      "text/plain": [
       "<IPython.core.display.HTML object>"
      ]
     },
     "metadata": {},
     "output_type": "display_data"
    },
    {
     "name": "stdout",
     "output_type": "stream",
     "text": [
      "<IPython.core.display.HTML object>\n"
     ]
    }
   ],
   "source": [
    "for i, (datum_raw, target) in enumerate(zip(sst2_data_raw, targets), start=1):\n",
    "    print(f'Raw review: {datum_raw}')\n",
    "    print(f'GT target: {target}')\n",
    "    visual_record=generate_record(datum_raw, target)\n",
    "    print(visualization.visualize_text([visual_record]))\n",
    "   "
   ]
  },
  {
   "cell_type": "code",
   "execution_count": 10,
   "id": "f6344a01",
   "metadata": {},
   "outputs": [
    {
     "data": {
      "text/plain": [
       "{'indices': [53963,\n",
       "  64202,\n",
       "  30501,\n",
       "  50103,\n",
       "  8727,\n",
       "  17988,\n",
       "  540,\n",
       "  48977,\n",
       "  25936,\n",
       "  4415,\n",
       "  28658,\n",
       "  17550,\n",
       "  28410,\n",
       "  35211,\n",
       "  60439,\n",
       "  65301,\n",
       "  53290,\n",
       "  26647,\n",
       "  23098,\n",
       "  60767,\n",
       "  60320,\n",
       "  4954,\n",
       "  40015,\n",
       "  37441,\n",
       "  3596,\n",
       "  21218,\n",
       "  46224,\n",
       "  38829,\n",
       "  17600,\n",
       "  65782,\n",
       "  25193,\n",
       "  46255,\n",
       "  17077,\n",
       "  28351,\n",
       "  28283,\n",
       "  52895,\n",
       "  67213,\n",
       "  58524,\n",
       "  18588,\n",
       "  28334,\n",
       "  47855,\n",
       "  24000,\n",
       "  63203,\n",
       "  26377,\n",
       "  60596,\n",
       "  5452,\n",
       "  45008,\n",
       "  62398,\n",
       "  44036,\n",
       "  61886,\n",
       "  20763,\n",
       "  21053,\n",
       "  51913,\n",
       "  65777,\n",
       "  57754,\n",
       "  59641,\n",
       "  32649,\n",
       "  43453,\n",
       "  34760,\n",
       "  34688,\n",
       "  19099,\n",
       "  52078,\n",
       "  23881,\n",
       "  44711,\n",
       "  35190,\n",
       "  41947,\n",
       "  42403,\n",
       "  44743,\n",
       "  37646,\n",
       "  52526,\n",
       "  2452,\n",
       "  36111,\n",
       "  28542,\n",
       "  42135,\n",
       "  14402,\n",
       "  42458,\n",
       "  57326,\n",
       "  19943,\n",
       "  47302,\n",
       "  30747,\n",
       "  24723,\n",
       "  22180,\n",
       "  25634,\n",
       "  16318,\n",
       "  26867,\n",
       "  35611,\n",
       "  61283,\n",
       "  53360,\n",
       "  54581,\n",
       "  39428,\n",
       "  54341,\n",
       "  63990,\n",
       "  26324,\n",
       "  3295,\n",
       "  25595,\n",
       "  3354,\n",
       "  15446,\n",
       "  15854,\n",
       "  46797,\n",
       "  49950],\n",
       " 'raw_data': ['against all odds ',\n",
       "  'i had a dream that a smart comedy would come along to rescue me from a summer of teen-driven , toilet-humor codswallop ',\n",
       "  'he makes sure the salton sea works the way a good noir should , keeping it tight and nasty ',\n",
       "  'suicidal ',\n",
       "  \"is leguizamo 's best movie work so far , a subtle and richly internalized performance \",\n",
       "  \"'ll enjoy this movie . \",\n",
       "  \"is worse : the part where nothing 's happening , or the part where something 's happening \",\n",
       "  'finds the ideal outlet for his flick-knife diction in the role of roger swanson . ',\n",
       "  'the best film of the year 2002 . ',\n",
       "  'watch , giggle ',\n",
       "  'should jolt you out of your seat a couple of times , give you a few laughs , and leave you feeling like it was worth your seven bucks , even though it does turn out to be a bit of a cheat in the end . ',\n",
       "  'a pretty good job ',\n",
       "  'more psychotic than romantic ',\n",
       "  'being gullible ',\n",
       "  'teen-sleaze equivalent ',\n",
       "  'symbolic ',\n",
       "  'a sense of action ',\n",
       "  ', overnight , is robbed and replaced with a persecuted `` other ',\n",
       "  'conjure proper respect for followers of the whole dead-undead genre , who deserve more from a vampire pic than a few shrieky special effects ',\n",
       "  \"our culture is headed down the toilet with the ferocity of a frozen burrito after an all-night tequila bender -- and i know this because i 've seen ` jackass : the movie \",\n",
       "  \"'s all surface psychodramatics \",\n",
       "  \"a beautiful food entrée that is n't heated properly , so that it ends up a bit cold and relatively flavorless \",\n",
       "  'never mind all that ; the boobs are fantasti ',\n",
       "  'possibly will enjoy it ',\n",
       "  'to give them credit for : the message of the movie ',\n",
       "  'dudsville ',\n",
       "  'unadorned ',\n",
       "  'if you give a filmmaker an unlimited amount of phony blood ',\n",
       "  'absurdity ',\n",
       "  'an unforgettable ',\n",
       "  '( rises ) above its oh-so-hollywood rejiggering and its conventional direction to give the film a soul and an unabashed sense of good old-fashioned escapism ',\n",
       "  'the mothman prophecies , which is mostly a bore , ',\n",
       "  'regardless of race ',\n",
       "  \"have n't seen such self-amused trash since freddy got fingered \",\n",
       "  'to let this morph into a typical romantic triangle ',\n",
       "  'the hurried , badly cobbled look ',\n",
       "  'i heard a mysterious voice , and felt myself powerfully drawn toward the light -- the light of the exit sign ',\n",
       "  \"would take a complete moron to foul up a screen adaptation of oscar wilde 's classic satire \",\n",
       "  \"'s never too late to learn \",\n",
       "  \"about the best thing you could say about narc is that it 's a rock-solid little genre picture . \",\n",
       "  'come to earth ',\n",
       "  'believability ',\n",
       "  'an action/thriller of the finest kind , evoking memories of day of the jackal , the french connection , and heat . ',\n",
       "  \"breaks the mood with absurdly inappropriate ` comedy ' scenes \",\n",
       "  'sits there like a side dish no one ordered . ',\n",
       "  'and twisted characters ',\n",
       "  'are simply intoxicating . ',\n",
       "  'shrek ',\n",
       "  \"'s notably better acted -- and far less crass - than some other recent efforts in the burgeoning genre of films about black urban professionals \",\n",
       "  'in freshening the play ',\n",
       "  'a bore that tends to hammer home every one of its points . ',\n",
       "  'the images often look smeary and blurry , to the point of distraction ',\n",
       "  'than sketches ... which leaves any true emotional connection or identification frustratingly out of reach ',\n",
       "  'stirs us ',\n",
       "  \"it 's funny . \",\n",
       "  'given up ',\n",
       "  'no way original ',\n",
       "  \"together ( time out and human resources ) establish mr. cantet as france 's foremost cinematic poet of the workplace . \",\n",
       "  'stylish and moody ',\n",
       "  'vulgarity ',\n",
       "  'falls short on tension , eloquence , spiritual challenge -- things that have made the original new testament stories so compelling for 20 centuries ',\n",
       "  'to blue hilarity ',\n",
       "  'is intriguing but quickly becomes distasteful and downright creepy ',\n",
       "  \", you 'd probably turn it off , convinced that you had already seen that movie . \",\n",
       "  'no amount of burning , blasting , stabbing , and shooting ',\n",
       "  \"such a wildly uneven hit-and-miss enterprise , you ca n't help suspecting that it was improvised on a day-to-day basis during production . \",\n",
       "  'as a dystopian movie ',\n",
       "  'i liked about schmidt a lot , but i have a feeling that i would have liked it much more if harry & tonto never existed ',\n",
       "  'less-than-thrilling thriller . ',\n",
       "  'most audacious , outrageous ',\n",
       "  'solid , satisfying fare ',\n",
       "  'a mostly magnificent directorial career ',\n",
       "  'marveilleux ',\n",
       "  'holds a certain charm ',\n",
       "  'blacked out ',\n",
       "  'in trying to have the best of both worlds it ends up falling short as a whole ',\n",
       "  'rush through ',\n",
       "  'discover that the answer is as conventional as can be ',\n",
       "  \"is n't funny \",\n",
       "  'a characteristically engorged and sloppy coming-of-age movie . ',\n",
       "  \"the slack complacency of ( godard 's ) vision \",\n",
       "  'luridly graphic and laughably unconvincing ',\n",
       "  \"is not that it 's offensive , but that it 's boring . \",\n",
       "  'is an inspirational love story , capturing the innocence and idealism of that first encounter ',\n",
       "  'walked away from this new version of e.t. just as i hoped i would -- with moist eyes . ',\n",
       "  \"brings a youthful , out-to-change-the-world aggressiveness to the project , as if she 's cut open a vein and \",\n",
       "  'a no-bull throwback to 1970s action films ',\n",
       "  'languishing ',\n",
       "  'brittle desperation ',\n",
       "  'sharp comedy , old-fashioned monster movie atmospherics , ',\n",
       "  \"we really have n't had a good cheesy b-movie playing in theaters since ... well ... since last week 's reign of fire \",\n",
       "  'confuses its message with an ultimate desire to please , and contorting itself into an idea of expectation is the last thing any of these three actresses , nor their characters , deserve . ',\n",
       "  'some intriguing characters ',\n",
       "  'vereté has a whip-smart sense of narrative bluffs . ',\n",
       "  'that good theatre ',\n",
       "  \"it may be a somewhat backhanded compliment to say that the film makes the viewer feel like the movie 's various victimized audience members after a while , but it also happens to be the movie 's most admirable quality \",\n",
       "  'evacuations , and none-too-funny commentary on the cultural distinctions between americans and brits ',\n",
       "  'create and sustain ',\n",
       "  'laughter and self-exploitation ',\n",
       "  'that a life like this can sound so dull '],\n",
       " 'targets': [1,\n",
       "  1,\n",
       "  1,\n",
       "  0,\n",
       "  1,\n",
       "  1,\n",
       "  0,\n",
       "  1,\n",
       "  1,\n",
       "  1,\n",
       "  1,\n",
       "  1,\n",
       "  0,\n",
       "  0,\n",
       "  0,\n",
       "  1,\n",
       "  1,\n",
       "  0,\n",
       "  0,\n",
       "  0,\n",
       "  0,\n",
       "  0,\n",
       "  1,\n",
       "  1,\n",
       "  1,\n",
       "  0,\n",
       "  0,\n",
       "  0,\n",
       "  0,\n",
       "  1,\n",
       "  1,\n",
       "  0,\n",
       "  1,\n",
       "  0,\n",
       "  0,\n",
       "  0,\n",
       "  0,\n",
       "  0,\n",
       "  1,\n",
       "  1,\n",
       "  1,\n",
       "  1,\n",
       "  1,\n",
       "  0,\n",
       "  0,\n",
       "  1,\n",
       "  1,\n",
       "  1,\n",
       "  1,\n",
       "  1,\n",
       "  0,\n",
       "  0,\n",
       "  0,\n",
       "  1,\n",
       "  1,\n",
       "  0,\n",
       "  0,\n",
       "  1,\n",
       "  1,\n",
       "  0,\n",
       "  0,\n",
       "  1,\n",
       "  0,\n",
       "  0,\n",
       "  0,\n",
       "  0,\n",
       "  0,\n",
       "  1,\n",
       "  0,\n",
       "  1,\n",
       "  1,\n",
       "  1,\n",
       "  1,\n",
       "  1,\n",
       "  0,\n",
       "  0,\n",
       "  0,\n",
       "  0,\n",
       "  0,\n",
       "  0,\n",
       "  0,\n",
       "  0,\n",
       "  0,\n",
       "  1,\n",
       "  1,\n",
       "  1,\n",
       "  1,\n",
       "  0,\n",
       "  0,\n",
       "  1,\n",
       "  0,\n",
       "  0,\n",
       "  1,\n",
       "  1,\n",
       "  1,\n",
       "  1,\n",
       "  0,\n",
       "  1,\n",
       "  1,\n",
       "  0],\n",
       " 'model_out_list': [0.9900462031364441,\n",
       "  0.9975268244743347,\n",
       "  0.9988210797309875,\n",
       "  0.00177578697912395,\n",
       "  0.998853325843811,\n",
       "  0.9987634420394897,\n",
       "  0.000533953367266804,\n",
       "  0.9988580942153931,\n",
       "  0.9984074234962463,\n",
       "  0.9985388517379761,\n",
       "  0.9948071837425232,\n",
       "  0.9987659454345703,\n",
       "  0.0012364874128252268,\n",
       "  0.0033369865268468857,\n",
       "  0.010525207035243511,\n",
       "  0.010242881253361702,\n",
       "  0.9970723390579224,\n",
       "  0.0021637133322656155,\n",
       "  0.0009116295259445906,\n",
       "  0.006648855283856392,\n",
       "  0.0007331112865358591,\n",
       "  0.0005830764421261847,\n",
       "  0.9984084963798523,\n",
       "  0.9978366494178772,\n",
       "  0.9961516261100769,\n",
       "  0.003998545464128256,\n",
       "  0.9974514842033386,\n",
       "  0.0019459319300949574,\n",
       "  0.001677558640949428,\n",
       "  0.9987438321113586,\n",
       "  0.9988734126091003,\n",
       "  0.0005724707734771073,\n",
       "  0.9876148700714111,\n",
       "  0.0021082707680761814,\n",
       "  0.0005879760719835758,\n",
       "  0.0005177376442588866,\n",
       "  0.9983304142951965,\n",
       "  0.9756723046302795,\n",
       "  0.9912607073783875,\n",
       "  0.998805046081543,\n",
       "  0.9851753115653992,\n",
       "  0.9920324087142944,\n",
       "  0.9988794922828674,\n",
       "  0.000502543116454035,\n",
       "  0.0005445520509965718,\n",
       "  0.9834024906158447,\n",
       "  0.9985989928245544,\n",
       "  0.765356719493866,\n",
       "  0.9988839030265808,\n",
       "  0.9987251162528992,\n",
       "  0.002971139969304204,\n",
       "  0.0005144605529494584,\n",
       "  0.0005142176523804665,\n",
       "  0.9980699419975281,\n",
       "  0.996863603591919,\n",
       "  0.003148325253278017,\n",
       "  0.0006751051405444741,\n",
       "  0.9987177848815918,\n",
       "  0.9987369179725647,\n",
       "  0.002205574419349432,\n",
       "  0.0005214550765231252,\n",
       "  0.9979116320610046,\n",
       "  0.0005129209021106362,\n",
       "  0.0005545121966861188,\n",
       "  0.003587669227272272,\n",
       "  0.0005032314802519977,\n",
       "  0.9016509652137756,\n",
       "  0.9920938611030579,\n",
       "  0.0005283645004965365,\n",
       "  0.9939826130867004,\n",
       "  0.9988977909088135,\n",
       "  0.9987356066703796,\n",
       "  0.9958727955818176,\n",
       "  0.9956108927726746,\n",
       "  0.000570284144487232,\n",
       "  0.0004939137725159526,\n",
       "  0.9971073269844055,\n",
       "  0.0037942177150398493,\n",
       "  0.0006194766610860825,\n",
       "  0.0004998010117560625,\n",
       "  0.001645221491344273,\n",
       "  0.000499564572237432,\n",
       "  0.0007617289666086435,\n",
       "  0.9989026784896851,\n",
       "  0.01324824895709753,\n",
       "  0.9983898401260376,\n",
       "  0.9983456134796143,\n",
       "  0.0005949753685854375,\n",
       "  0.0014501370023936033,\n",
       "  0.9987087249755859,\n",
       "  0.005859635304659605,\n",
       "  0.0005022553377784789,\n",
       "  0.9975057244300842,\n",
       "  0.9987767338752747,\n",
       "  0.9983828067779541,\n",
       "  0.998863935470581,\n",
       "  0.0022366789635270834,\n",
       "  0.9981231093406677,\n",
       "  0.01695837266743183,\n",
       "  0.0009982241317629814],\n",
       " 'raw_attr_list': [tensor([[[-1.3485e-03, -1.6123e-04, -2.6841e-04,  ...,  4.8613e-04,\n",
       "             1.4853e-03,  4.2673e-04],\n",
       "           [ 1.0627e-03, -1.6752e-03, -6.4146e-03,  ...,  4.4466e-05,\n",
       "            -1.1417e-02,  8.1735e-04],\n",
       "           [-2.1113e-04,  7.9696e-03,  3.0065e-04,  ...,  3.0682e-04,\n",
       "            -9.0787e-04,  2.1138e-03],\n",
       "           [-5.4300e-03, -4.6123e-03,  3.6293e-03,  ...,  5.3180e-04,\n",
       "            -1.6247e-03,  1.0098e-05],\n",
       "           [ 9.2754e-05, -2.0686e-03, -1.3512e-03,  ..., -3.0788e-03,\n",
       "             1.5407e-03,  2.8468e-03],\n",
       "           [-1.1076e-03, -2.8335e-04,  1.1911e-03,  ..., -1.3631e-03,\n",
       "            -5.6522e-04,  1.8504e-04]]], dtype=torch.float64,\n",
       "         grad_fn=<MulBackward0>),\n",
       "  tensor([[[-8.6124e-05,  5.9678e-06, -7.2448e-06,  ...,  3.4116e-05,\n",
       "            -3.2550e-06, -2.3243e-06],\n",
       "           [-1.3526e-06, -1.9342e-05, -2.3199e-06,  ..., -8.5776e-07,\n",
       "            -2.1341e-05,  1.7665e-05],\n",
       "           [-8.5619e-06,  6.0212e-09, -7.7757e-08,  ...,  2.8707e-06,\n",
       "            -5.9840e-06, -2.5310e-06],\n",
       "           ...,\n",
       "           [-1.1477e-05, -3.0003e-06, -1.9015e-06,  ...,  7.6667e-07,\n",
       "            -1.8169e-05, -3.9293e-07],\n",
       "           [ 7.2959e-06,  1.4794e-05,  6.0911e-06,  ...,  1.8794e-05,\n",
       "             1.0096e-05, -7.2452e-06],\n",
       "           [-5.4031e-07,  3.5202e-06, -5.3316e-06,  ..., -1.7989e-06,\n",
       "            -1.1084e-05,  1.5972e-06]]], dtype=torch.float64,\n",
       "         grad_fn=<MulBackward0>),\n",
       "  tensor([[[-5.6239e-05,  2.2561e-06, -8.2211e-06,  ...,  6.0788e-05,\n",
       "             3.8163e-06, -5.5067e-07],\n",
       "           [-4.2177e-06, -9.8749e-06, -3.2916e-06,  ...,  1.4004e-05,\n",
       "             4.8746e-05, -8.9849e-06],\n",
       "           [-9.8371e-07, -2.6741e-06, -3.9237e-06,  ..., -1.1070e-06,\n",
       "             1.2165e-06,  1.3468e-05],\n",
       "           ...,\n",
       "           [-1.9314e-05, -1.7068e-05, -6.1579e-05,  ...,  7.5885e-05,\n",
       "            -2.6545e-05,  1.8511e-04],\n",
       "           [-1.7881e-06,  2.1638e-05, -4.9351e-05,  ..., -7.8323e-06,\n",
       "            -4.4567e-05, -5.9109e-05],\n",
       "           [-5.2143e-06,  1.3165e-05,  1.2152e-05,  ...,  1.2365e-05,\n",
       "             8.1757e-06, -1.4149e-06]]], dtype=torch.float64,\n",
       "         grad_fn=<MulBackward0>),\n",
       "  tensor([[[-0.0028,  0.0002, -0.0008,  ...,  0.0036,  0.0011, -0.0009],\n",
       "           [ 0.0006,  0.0004,  0.0005,  ...,  0.0029, -0.0005, -0.0015],\n",
       "           [-0.0079,  0.0110, -0.0106,  ...,  0.0017, -0.0005,  0.0004],\n",
       "           [ 0.0001, -0.0010, -0.0016,  ...,  0.0011,  0.0041,  0.0215],\n",
       "           [-0.0087,  0.0010,  0.0048,  ...,  0.0006,  0.0029, -0.0002]]],\n",
       "         dtype=torch.float64, grad_fn=<MulBackward0>),\n",
       "  tensor([[[-1.0115e-05,  1.1197e-05, -2.4765e-05,  ..., -9.3610e-06,\n",
       "             1.0430e-05,  6.0896e-06],\n",
       "           [-7.7439e-06, -5.9290e-06, -5.3254e-06,  ...,  1.1775e-05,\n",
       "             4.1168e-07,  1.4225e-05],\n",
       "           [-2.1902e-07,  2.2869e-06, -3.4775e-06,  ..., -2.5361e-05,\n",
       "            -1.1484e-06,  1.0581e-05],\n",
       "           ...,\n",
       "           [-2.9402e-06, -1.1219e-06, -3.0280e-06,  ..., -1.5893e-06,\n",
       "            -7.1445e-07, -4.4599e-06],\n",
       "           [ 5.0614e-07,  1.4715e-05, -3.0437e-08,  ...,  1.6142e-05,\n",
       "             1.3207e-05, -2.3721e-05],\n",
       "           [-1.5782e-06,  4.4980e-06,  1.8764e-06,  ..., -1.4976e-05,\n",
       "            -9.4403e-06,  8.9581e-08]]], dtype=torch.float64,\n",
       "         grad_fn=<MulBackward0>),\n",
       "  tensor([[[-1.1684e-04, -3.2178e-05, -4.2565e-05,  ...,  7.2444e-05,\n",
       "             5.2520e-05,  8.4150e-06],\n",
       "           [ 2.0604e-05,  2.1171e-06,  3.5482e-05,  ..., -2.0985e-06,\n",
       "             4.5643e-05,  1.1492e-04],\n",
       "           [-2.8639e-04,  2.0813e-04,  1.1747e-06,  ...,  3.2457e-05,\n",
       "            -9.5510e-05, -2.7573e-04],\n",
       "           ...,\n",
       "           [-1.6364e-05,  2.7581e-04, -7.0260e-05,  ...,  1.6571e-06,\n",
       "            -4.1128e-07, -6.4899e-05],\n",
       "           [ 2.3836e-05,  2.6339e-04, -1.3763e-06,  ...,  6.0867e-05,\n",
       "             1.7753e-04,  1.4348e-04],\n",
       "           [ 3.0212e-06,  2.2660e-05,  1.0510e-04,  ...,  5.1881e-05,\n",
       "             8.0575e-05,  3.9568e-06]]], dtype=torch.float64,\n",
       "         grad_fn=<MulBackward0>),\n",
       "  tensor([[[ 4.5121e-05, -4.4202e-06, -1.1511e-05,  ...,  4.7403e-05,\n",
       "             5.6568e-06,  7.8381e-06],\n",
       "           [ 2.7218e-06,  1.9425e-05,  2.9399e-05,  ...,  8.5427e-05,\n",
       "            -1.0646e-05, -7.2775e-05],\n",
       "           [ 5.6871e-06,  1.3785e-05, -1.2092e-05,  ...,  2.4178e-05,\n",
       "            -1.0986e-05, -1.3822e-06],\n",
       "           ...,\n",
       "           [-2.8362e-05,  4.1574e-06, -1.3703e-05,  ..., -8.5505e-06,\n",
       "             2.7151e-06,  3.9605e-05],\n",
       "           [-3.4100e-07,  3.7404e-05,  4.5778e-05,  ...,  5.0947e-05,\n",
       "             5.9786e-05,  5.7820e-05],\n",
       "           [ 1.2577e-05, -1.4210e-05,  8.6985e-06,  ..., -2.2115e-05,\n",
       "            -1.1313e-05, -1.9252e-07]]], dtype=torch.float64,\n",
       "         grad_fn=<MulBackward0>),\n",
       "  tensor([[[-2.0747e-04, -3.6255e-05, -5.9431e-05,  ...,  9.7242e-05,\n",
       "             6.5412e-05,  1.9262e-05],\n",
       "           [-2.8873e-05,  3.9068e-05, -1.0839e-08,  ...,  4.3916e-06,\n",
       "            -3.3608e-06, -4.8249e-05],\n",
       "           [-3.7129e-05,  8.6350e-05, -1.6622e-05,  ..., -1.1085e-05,\n",
       "             3.4580e-05, -5.2168e-05],\n",
       "           ...,\n",
       "           [-5.7545e-05,  1.5992e-04,  5.1541e-06,  ..., -4.1340e-07,\n",
       "             5.2102e-06,  7.7898e-05],\n",
       "           [ 1.2024e-05, -6.1236e-05, -1.5510e-06,  ..., -3.5965e-07,\n",
       "             1.0148e-04,  4.8366e-05],\n",
       "           [-6.1061e-06, -2.3440e-06,  6.9341e-06,  ..., -1.8823e-05,\n",
       "            -2.2788e-05,  2.0046e-06]]], dtype=torch.float64,\n",
       "         grad_fn=<MulBackward0>),\n",
       "  tensor([[[ 4.7821e-05,  4.4239e-06, -1.7945e-05,  ...,  7.9704e-05,\n",
       "            -4.5641e-05,  5.5165e-05],\n",
       "           [-1.7874e-05, -9.9900e-06,  5.8897e-05,  ...,  5.5142e-05,\n",
       "             3.4467e-05, -8.3809e-05],\n",
       "           [-1.5374e-05,  1.0959e-06, -1.0594e-05,  ...,  9.7391e-05,\n",
       "            -5.0116e-04, -3.8599e-05],\n",
       "           ...,\n",
       "           [ 4.7586e-06, -1.6378e-04, -1.4624e-05,  ...,  9.8563e-06,\n",
       "             2.7562e-05, -8.9770e-06],\n",
       "           [ 8.0628e-06,  6.6280e-05,  1.6135e-05,  ...,  1.5540e-04,\n",
       "             1.5258e-04,  8.0386e-05],\n",
       "           [-1.5682e-06,  5.6290e-06,  6.0637e-05,  ...,  2.0516e-05,\n",
       "             9.6714e-05, -1.0949e-07]]], dtype=torch.float64,\n",
       "         grad_fn=<MulBackward0>),\n",
       "  tensor([[[-0.0046,  0.0013,  0.0009,  ...,  0.0013, -0.0060, -0.0005],\n",
       "           [-0.0006, -0.0092,  0.0048,  ...,  0.0001,  0.0020,  0.0004],\n",
       "           [ 0.0001, -0.0096,  0.0003,  ..., -0.0002, -0.0005,  0.0072],\n",
       "           ...,\n",
       "           [-0.0026, -0.0011, -0.0018,  ..., -0.0026, -0.0012,  0.0087],\n",
       "           [ 0.0015,  0.0154, -0.0018,  ..., -0.0044,  0.0011,  0.0019],\n",
       "           [-0.0022, -0.0002, -0.0003,  ..., -0.0015, -0.0005, -0.0008]]],\n",
       "         dtype=torch.float64, grad_fn=<MulBackward0>),\n",
       "  tensor([[[-1.7173e-03,  2.3920e-04, -2.0960e-04,  ..., -5.3048e-04,\n",
       "            -3.2775e-04,  5.1388e-04],\n",
       "           [-6.8213e-04,  5.5445e-04,  1.4827e-03,  ...,  1.4563e-03,\n",
       "             2.3418e-03,  6.4494e-04],\n",
       "           [-3.9530e-05,  7.2501e-04,  3.0356e-06,  ...,  2.4685e-04,\n",
       "            -4.0405e-04, -5.0979e-04],\n",
       "           ...,\n",
       "           [-3.9659e-04,  4.3110e-04,  2.3841e-06,  ..., -1.2894e-04,\n",
       "            -2.5958e-05,  1.2978e-04],\n",
       "           [ 9.9611e-06, -2.5801e-04, -1.2134e-04,  ...,  2.0447e-04,\n",
       "             7.1169e-04,  6.1997e-04],\n",
       "           [-2.6328e-04,  5.5675e-05,  9.3611e-05,  ..., -1.8295e-04,\n",
       "            -8.5271e-05,  1.8603e-05]]], dtype=torch.float64,\n",
       "         grad_fn=<MulBackward0>),\n",
       "  tensor([[[ 2.8852e-04, -1.3484e-04, -1.2222e-04,  ...,  1.6299e-04,\n",
       "             1.3037e-04, -7.8192e-06],\n",
       "           [-2.0115e-04,  6.5900e-05, -1.4104e-03,  ..., -3.0707e-06,\n",
       "            -6.0657e-05, -9.9354e-05],\n",
       "           [ 6.5341e-05,  1.4189e-04, -3.4923e-05,  ...,  1.5714e-04,\n",
       "            -1.7430e-04, -2.6037e-04],\n",
       "           ...,\n",
       "           [-2.0529e-04, -3.4823e-04,  1.0543e-03,  ..., -3.2232e-04,\n",
       "             2.5715e-04, -9.5537e-04],\n",
       "           [ 1.7908e-04,  1.9589e-03, -2.5027e-03,  ..., -1.6456e-04,\n",
       "            -1.0459e-03,  2.7780e-04],\n",
       "           [-7.2942e-04,  3.8805e-04,  1.0723e-03,  ...,  2.0045e-04,\n",
       "             9.4716e-04, -8.6187e-05]]], dtype=torch.float64,\n",
       "         grad_fn=<MulBackward0>),\n",
       "  tensor([[[-0.0339, -0.0020, -0.0002,  ...,  0.0182, -0.0111, -0.0014],\n",
       "           [-0.0053, -0.0050, -0.0055,  ...,  0.0004, -0.0034,  0.0016],\n",
       "           [-0.0045, -0.0025, -0.0567,  ..., -0.0031,  0.0558,  0.0251],\n",
       "           ...,\n",
       "           [ 0.0119, -0.0017,  0.0108,  ..., -0.0009, -0.0006,  0.0008],\n",
       "           [ 0.0026, -0.0088, -0.0169,  ..., -0.0054, -0.0240, -0.0101],\n",
       "           [-0.0123,  0.0147, -0.0310,  ..., -0.0362, -0.0661, -0.0053]]],\n",
       "         dtype=torch.float64, grad_fn=<MulBackward0>),\n",
       "  tensor([[[-3.4868e-03, -7.2902e-04, -3.4256e-04,  ...,  2.8633e-03,\n",
       "             8.3018e-04,  6.7485e-04],\n",
       "           [ 1.1701e-03,  4.9713e-03,  6.2679e-03,  ..., -7.5939e-04,\n",
       "             1.0663e-03, -5.1118e-04],\n",
       "           [ 2.1177e-03,  3.8966e-05, -8.2982e-03,  ...,  8.6542e-04,\n",
       "             2.4093e-04, -1.8563e-04],\n",
       "           [-1.7617e-03, -2.0487e-03,  1.8039e-03,  ..., -9.3245e-04,\n",
       "            -1.5579e-03,  9.5341e-05],\n",
       "           [ 4.2846e-05, -2.9582e-03, -1.6043e-03,  ...,  1.7613e-03,\n",
       "            -1.9274e-03,  7.8648e-03],\n",
       "           [-1.8459e-03, -4.4147e-04,  1.6000e-03,  ..., -6.7603e-04,\n",
       "             1.5788e-03,  2.7739e-04]]], dtype=torch.float64,\n",
       "         grad_fn=<MulBackward0>),\n",
       "  tensor([[[-5.0130e-04, -1.4844e-04, -1.0530e-04,  ...,  5.7895e-04,\n",
       "             2.6452e-05, -2.5707e-05],\n",
       "           [ 9.8445e-04,  3.0176e-04, -9.4119e-04,  ...,  3.5035e-04,\n",
       "            -3.6524e-03, -2.2205e-04],\n",
       "           [ 5.6793e-04,  6.0081e-05,  2.8709e-04,  ...,  1.6235e-04,\n",
       "            -1.3196e-04, -1.1291e-03],\n",
       "           ...,\n",
       "           [-1.3829e-04,  1.8560e-03,  1.1984e-03,  ..., -1.5442e-05,\n",
       "            -3.0969e-04,  3.5680e-04],\n",
       "           [ 4.4443e-05,  3.0998e-05, -5.1276e-04,  ..., -6.0931e-05,\n",
       "            -8.4806e-04, -1.4065e-03],\n",
       "           [-1.4918e-04,  1.8374e-04,  3.6304e-05,  ..., -2.8353e-04,\n",
       "             1.4736e-04,  1.5631e-05]]], dtype=torch.float64,\n",
       "         grad_fn=<MulBackward0>),\n",
       "  tensor([[[ 1.2972e-02, -5.6538e-03, -3.0959e-03,  ...,  3.3866e-03,\n",
       "            -2.5759e-02, -2.2938e-02],\n",
       "           [ 7.1232e-02,  1.0914e-02,  2.5529e-02,  ..., -4.1624e-01,\n",
       "             1.0607e-01, -7.6473e-02],\n",
       "           [-4.3345e-03,  3.3159e-03, -2.2393e-02,  ..., -4.3339e-03,\n",
       "             6.7098e-02,  3.2335e-02],\n",
       "           [ 8.5793e-02, -1.4600e-01, -6.8391e-02,  ...,  3.8174e-02,\n",
       "            -7.8168e-03, -3.6579e-02],\n",
       "           [ 1.1473e-04, -1.0549e-02, -3.4754e-02,  ...,  6.3513e-02,\n",
       "            -1.9404e-02, -8.4283e-02],\n",
       "           [-7.3882e-03, -4.3219e-03,  1.3634e-02,  ...,  8.2790e-04,\n",
       "             1.4757e-02, -7.8209e-03]]], dtype=torch.float64,\n",
       "         grad_fn=<MulBackward0>),\n",
       "  tensor([[[-1.6647e-04, -2.9348e-05, -4.0317e-05,  ...,  3.4330e-04,\n",
       "             1.0978e-04,  9.3112e-05],\n",
       "           [-1.3974e-04,  1.1415e-04, -7.4014e-04,  ...,  3.4724e-06,\n",
       "            -8.6478e-05, -2.6348e-04],\n",
       "           [ 2.5817e-04,  1.1494e-05,  2.5395e-05,  ..., -1.1776e-04,\n",
       "            -1.2456e-04, -2.1623e-05],\n",
       "           ...,\n",
       "           [ 3.2397e-04, -2.4727e-04,  7.2330e-05,  ..., -4.7956e-05,\n",
       "            -2.3387e-04, -2.6454e-05],\n",
       "           [ 5.9864e-06,  1.7018e-04, -3.4027e-04,  ..., -2.0136e-04,\n",
       "             1.0804e-04,  2.3386e-04],\n",
       "           [-8.5740e-05,  7.3130e-05,  5.4431e-05,  ..., -4.4530e-05,\n",
       "            -3.4552e-04, -4.4413e-05]]], dtype=torch.float64,\n",
       "         grad_fn=<MulBackward0>),\n",
       "  tensor([[[-4.1748e-03, -6.9369e-04, -2.4740e-04,  ...,  6.0103e-03,\n",
       "            -4.3654e-03, -1.2197e-03],\n",
       "           [-9.6811e-05, -4.8214e-06,  2.3294e-05,  ...,  4.3155e-03,\n",
       "            -2.2662e-05,  3.2218e-03],\n",
       "           [-6.0234e-04,  3.3780e-03, -3.0133e-04,  ...,  2.2325e-03,\n",
       "            -1.9798e-03,  1.2241e-03],\n",
       "           ...,\n",
       "           [-8.9158e-05, -3.0248e-03,  1.0669e-03,  ...,  1.3845e-03,\n",
       "            -1.9901e-03, -9.1633e-04],\n",
       "           [-4.4843e-04, -1.0945e-02,  3.2757e-03,  ...,  1.9030e-03,\n",
       "             8.2405e-03, -1.0986e-03],\n",
       "           [ 4.1064e-04,  4.8636e-05, -1.8115e-03,  ..., -1.3349e-03,\n",
       "             2.2613e-04,  1.6330e-04]]], dtype=torch.float64,\n",
       "         grad_fn=<MulBackward0>),\n",
       "  tensor([[[ 4.2005e-05, -8.1588e-06, -2.8432e-06,  ...,  2.7953e-05,\n",
       "            -1.1961e-05,  8.9005e-06],\n",
       "           [-1.0076e-05, -7.6396e-06, -2.1517e-05,  ...,  1.7136e-05,\n",
       "            -4.2713e-06,  1.1715e-07],\n",
       "           [ 5.0903e-06,  3.6909e-05,  2.0721e-05,  ..., -3.6386e-05,\n",
       "             6.1465e-05, -9.6955e-06],\n",
       "           ...,\n",
       "           [-8.7672e-06,  4.9395e-05,  9.5072e-06,  ...,  9.4520e-06,\n",
       "            -6.7184e-06,  1.2427e-05],\n",
       "           [-2.9942e-06,  7.1045e-05,  6.3807e-06,  ...,  1.8712e-05,\n",
       "             1.4775e-05, -2.3641e-05],\n",
       "           [ 1.3777e-06, -4.7149e-06,  2.5383e-05,  ...,  1.9899e-06,\n",
       "            -1.2675e-05, -3.4617e-06]]], dtype=torch.float64,\n",
       "         grad_fn=<MulBackward0>),\n",
       "  tensor([[[-4.1217e-04, -2.6203e-05,  3.5017e-06,  ...,  1.6723e-04,\n",
       "            -3.4717e-05,  2.5352e-05],\n",
       "           [-1.1401e-06,  4.4077e-05, -5.1407e-05,  ...,  5.5612e-05,\n",
       "             1.7428e-05, -1.7431e-05],\n",
       "           [ 1.5522e-04, -1.4414e-07, -5.2218e-05,  ..., -5.6157e-06,\n",
       "             8.4231e-06, -9.8970e-05],\n",
       "           ...,\n",
       "           [-4.4519e-05, -1.9570e-04,  3.4072e-05,  ...,  2.1106e-05,\n",
       "             1.3194e-04, -2.8614e-06],\n",
       "           [ 3.0839e-05,  5.3528e-05, -2.7570e-05,  ..., -4.8821e-06,\n",
       "            -3.9890e-05, -8.2146e-05],\n",
       "           [-4.1428e-05,  1.5515e-05,  4.5830e-05,  ...,  1.3391e-05,\n",
       "             1.6508e-06, -1.0844e-05]]], dtype=torch.float64,\n",
       "         grad_fn=<MulBackward0>),\n",
       "  tensor([[[ 5.9804e-03, -1.3617e-03,  3.7244e-04,  ...,  6.6288e-03,\n",
       "             3.9788e-03,  1.7128e-03],\n",
       "           [-2.2435e-02, -5.0007e-02, -1.1725e-03,  ..., -1.7485e-04,\n",
       "             1.1326e-03, -7.6927e-03],\n",
       "           [ 9.7703e-03,  3.6492e-03,  6.8580e-05,  ..., -7.7859e-04,\n",
       "            -7.0591e-04, -2.2018e-03],\n",
       "           ...,\n",
       "           [ 6.5655e-03, -2.3555e-04, -8.2135e-05,  ...,  1.2980e-04,\n",
       "            -9.6529e-04, -1.7250e-03],\n",
       "           [-2.0538e-03, -7.0002e-04,  1.4250e-03,  ..., -2.7809e-03,\n",
       "             3.9892e-03,  4.4494e-03],\n",
       "           [ 2.1714e-05, -5.7135e-04,  2.5703e-03,  ..., -6.2687e-04,\n",
       "             3.2653e-04, -6.7817e-05]]], dtype=torch.float64,\n",
       "         grad_fn=<MulBackward0>),\n",
       "  tensor([[[ 9.2872e-06,  3.1252e-06, -1.4910e-05,  ..., -1.1452e-05,\n",
       "             1.9625e-05,  5.4320e-06],\n",
       "           [-4.8606e-06,  6.9752e-06, -2.7200e-05,  ...,  6.3074e-08,\n",
       "            -1.3580e-05,  3.4894e-05],\n",
       "           [ 8.2884e-06, -3.5660e-06,  1.1562e-05,  ..., -4.3465e-07,\n",
       "             2.0334e-06, -1.0725e-05],\n",
       "           ...,\n",
       "           [ 8.4031e-06,  5.3849e-06, -4.6063e-07,  ..., -3.2388e-05,\n",
       "            -3.8849e-05, -1.4924e-05],\n",
       "           [-1.8339e-06,  7.5172e-06, -3.2524e-05,  ..., -1.6217e-05,\n",
       "            -2.6953e-05, -1.1648e-05],\n",
       "           [-8.5003e-06,  1.0111e-05, -4.5941e-06,  ..., -1.0058e-05,\n",
       "            -9.3659e-06, -3.4433e-07]]], dtype=torch.float64,\n",
       "         grad_fn=<MulBackward0>),\n",
       "  tensor([[[-1.2577e-04,  4.4993e-05, -4.7444e-05,  ...,  9.2350e-05,\n",
       "            -1.4219e-04,  1.5149e-04],\n",
       "           [ 9.5075e-07,  1.4166e-04, -1.9309e-04,  ..., -1.7063e-04,\n",
       "             1.0747e-04,  1.4540e-04],\n",
       "           [ 2.7462e-04,  1.1949e-04,  4.7339e-04,  ...,  2.8389e-04,\n",
       "             1.4096e-04, -4.0258e-04],\n",
       "           ...,\n",
       "           [-1.2206e-05, -1.3784e-04,  1.9661e-04,  ..., -5.6177e-06,\n",
       "            -9.5017e-05, -2.0137e-05],\n",
       "           [ 6.4187e-05, -1.9347e-05, -1.6784e-04,  ...,  1.8494e-04,\n",
       "            -1.4512e-04, -3.0941e-04],\n",
       "           [-8.4703e-05,  2.9471e-05,  1.0419e-04,  ..., -1.7867e-04,\n",
       "             6.8756e-05, -3.3943e-06]]], dtype=torch.float64,\n",
       "         grad_fn=<MulBackward0>),\n",
       "  tensor([[[ 6.7060e-05, -2.6576e-05, -1.6558e-05,  ...,  3.4353e-05,\n",
       "             1.0676e-04, -4.9625e-05],\n",
       "           [-3.7323e-05, -1.9665e-05, -4.8516e-06,  ...,  1.0493e-04,\n",
       "             6.8945e-06,  2.6330e-05],\n",
       "           [ 7.8758e-05, -2.1281e-05,  2.4427e-05,  ..., -7.3900e-05,\n",
       "            -1.3311e-05, -1.2696e-05],\n",
       "           ...,\n",
       "           [-2.4940e-06, -1.5223e-04,  6.3726e-05,  ...,  8.8849e-05,\n",
       "             1.1088e-04, -9.0698e-05],\n",
       "           [ 2.9616e-05,  2.2667e-04, -2.9972e-04,  ...,  1.3029e-04,\n",
       "            -6.1925e-05,  3.1702e-05],\n",
       "           [-3.1432e-05,  3.2979e-05,  3.3406e-04,  ...,  1.8680e-04,\n",
       "             4.3994e-04,  2.7030e-05]]], dtype=torch.float64,\n",
       "         grad_fn=<MulBackward0>),\n",
       "  tensor([[[ 9.1072e-05,  5.8970e-06, -2.9927e-05,  ...,  4.4128e-05,\n",
       "             2.5195e-05, -9.8878e-06],\n",
       "           [-2.9264e-06,  1.2585e-05,  6.1901e-06,  ...,  5.0744e-05,\n",
       "             5.7461e-05, -4.5890e-05],\n",
       "           [ 8.5785e-06, -3.0453e-05, -3.3433e-06,  ...,  7.0349e-05,\n",
       "            -4.2418e-05, -3.1963e-05],\n",
       "           ...,\n",
       "           [-1.1948e-05,  1.8370e-05, -1.6674e-05,  ..., -2.5945e-05,\n",
       "            -4.6749e-05, -6.7494e-05],\n",
       "           [ 4.7746e-06, -6.0311e-05, -1.6348e-05,  ...,  1.4136e-04,\n",
       "             1.0436e-04,  1.2394e-04],\n",
       "           [-8.9967e-06, -6.6611e-06,  8.5243e-06,  ..., -7.2691e-05,\n",
       "            -2.8497e-05, -9.5180e-06]]], dtype=torch.float64,\n",
       "         grad_fn=<MulBackward0>),\n",
       "  tensor([[[-1.6605e-03,  3.8326e-04, -2.9056e-04,  ...,  8.9297e-04,\n",
       "            -2.5857e-04,  5.0975e-04],\n",
       "           [-1.2919e-03,  5.7725e-04, -3.0220e-03,  ..., -4.2097e-03,\n",
       "            -1.6419e-03,  8.2013e-03],\n",
       "           [-1.5695e-02, -1.6224e-03,  2.5995e-03,  ..., -7.6100e-03,\n",
       "            -4.3958e-04,  4.4044e-03],\n",
       "           [-1.0077e-03,  1.1770e-04, -6.7300e-03,  ...,  5.0279e-03,\n",
       "            -6.2202e-03, -1.2371e-03],\n",
       "           [ 1.2051e-05,  7.0060e-03,  4.1394e-03,  ...,  4.2316e-03,\n",
       "             1.2388e-03,  3.7815e-03],\n",
       "           [-4.9456e-04,  2.0690e-03,  2.0973e-03,  ..., -1.5225e-03,\n",
       "             1.7150e-03, -4.0227e-05]]], dtype=torch.float64,\n",
       "         grad_fn=<MulBackward0>),\n",
       "  tensor([[[-1.1747e-03,  3.9343e-04, -8.2802e-04,  ...,  2.5527e-03,\n",
       "             3.2357e-03,  5.7099e-04],\n",
       "           [ 1.0043e-05, -1.1441e-04,  9.5479e-04,  ...,  1.4422e-03,\n",
       "             2.5780e-04,  3.3647e-03],\n",
       "           [ 2.1560e-03, -8.1897e-04,  6.2185e-04,  ...,  5.3514e-03,\n",
       "            -1.4491e-02, -7.3748e-03],\n",
       "           [-1.6282e-02,  1.1349e-02,  3.0130e-03,  ..., -6.2921e-04,\n",
       "             2.7296e-04,  3.1063e-04],\n",
       "           [-1.6580e-04, -7.0523e-03,  5.2005e-03,  ...,  8.8500e-04,\n",
       "             1.1614e-02,  1.9238e-02],\n",
       "           [-2.9255e-03,  1.5862e-03,  3.2610e-03,  ...,  1.1516e-03,\n",
       "             1.2653e-03,  3.7851e-04]]], dtype=torch.float64,\n",
       "         grad_fn=<MulBackward0>),\n",
       "  tensor([[[-0.1177, -0.0118,  0.0069,  ...,  0.0627, -0.0094, -0.0054],\n",
       "           [-0.0225,  0.0013, -0.0195,  ..., -0.0794,  0.0802,  0.0133],\n",
       "           [-0.0437,  0.0163,  0.0023,  ..., -0.0267,  0.0136,  0.0280],\n",
       "           ...,\n",
       "           [ 0.0483,  0.0207,  0.0193,  ...,  0.0377,  0.0571,  0.0648],\n",
       "           [ 0.0186, -0.0586, -0.0322,  ..., -0.0812, -0.0775, -0.0752],\n",
       "           [-0.0187, -0.0071, -0.0440,  ..., -0.0328, -0.0511,  0.0001]]],\n",
       "         dtype=torch.float64, grad_fn=<MulBackward0>),\n",
       "  tensor([[[-4.3608e-03, -5.0562e-04, -3.5776e-04,  ...,  3.1532e-03,\n",
       "             5.6816e-04,  7.2302e-04],\n",
       "           [ 4.3749e-03,  2.0496e-03,  1.9182e-03,  ..., -6.0600e-04,\n",
       "             1.8047e-03,  9.7972e-04],\n",
       "           [ 1.8879e-03, -1.4946e-04,  8.0605e-04,  ...,  1.2276e-03,\n",
       "            -1.3218e-04, -3.8030e-03],\n",
       "           [-5.6341e-04, -8.8670e-04, -2.5446e-03,  ...,  1.9101e-04,\n",
       "            -4.0126e-04, -1.2927e-03],\n",
       "           [ 1.9579e-05, -1.2699e-03,  4.6497e-04,  ...,  3.2968e-04,\n",
       "             6.5484e-04,  8.4802e-03],\n",
       "           [-1.9685e-03, -5.8362e-04,  1.5394e-03,  ...,  1.7773e-04,\n",
       "             1.0536e-03,  3.5670e-04]]], dtype=torch.float64,\n",
       "         grad_fn=<MulBackward0>),\n",
       "  tensor([[[-0.1217, -0.0096, -0.0059,  ..., -0.0273,  0.0215, -0.0394],\n",
       "           [-0.0031,  0.0084, -0.0236,  ..., -0.0990,  0.0129,  0.0129],\n",
       "           [ 0.0106, -0.0133, -0.0026,  ..., -0.0038,  0.0151, -0.0035],\n",
       "           [-0.0015, -0.0604, -0.0682,  ..., -0.1807, -0.0842, -0.0360],\n",
       "           [-0.1762, -0.0291, -0.1262,  ..., -0.0942, -0.3780, -0.0040]]],\n",
       "         dtype=torch.float64, grad_fn=<MulBackward0>),\n",
       "  tensor([[[-5.2714e-05,  4.6522e-06, -1.4790e-05,  ...,  1.5899e-05,\n",
       "            -4.1220e-05,  2.2403e-05],\n",
       "           [ 1.3362e-05,  2.2691e-06, -3.7415e-05,  ..., -7.6136e-06,\n",
       "             1.8955e-05, -1.8500e-05],\n",
       "           [ 9.1711e-06, -2.2364e-05, -2.1046e-05,  ..., -1.1629e-05,\n",
       "             8.1756e-06, -1.8183e-05],\n",
       "           ...,\n",
       "           [ 2.5820e-08, -8.0408e-06, -1.4209e-05,  ..., -4.7717e-06,\n",
       "            -1.3450e-05, -5.4624e-08],\n",
       "           [-3.5334e-06,  3.2645e-05, -1.6946e-05,  ...,  1.5514e-05,\n",
       "            -2.2408e-05, -1.6889e-05],\n",
       "           [ 6.9741e-07,  4.5171e-06,  1.4575e-05,  ..., -8.3014e-06,\n",
       "             6.2538e-06, -1.6031e-06]]], dtype=torch.float64,\n",
       "         grad_fn=<MulBackward0>),\n",
       "  tensor([[[-4.1916e-05,  3.6724e-04, -8.3571e-05,  ...,  5.0993e-04,\n",
       "            -1.0267e-04,  3.0824e-04],\n",
       "           [ 8.2252e-04, -2.7976e-03, -1.3174e-03,  ..., -8.7811e-04,\n",
       "            -1.2111e-03,  1.2585e-04],\n",
       "           [ 1.9089e-05,  1.9696e-04, -7.9251e-05,  ..., -4.7085e-04,\n",
       "             2.6007e-05, -7.5426e-05],\n",
       "           ...,\n",
       "           [ 8.3082e-05, -8.5940e-04, -2.6536e-04,  ...,  1.9443e-04,\n",
       "            -1.3645e-04,  1.8979e-04],\n",
       "           [ 8.3708e-05,  2.4142e-03,  1.9696e-04,  ..., -1.7478e-04,\n",
       "            -6.6871e-04,  7.3492e-04],\n",
       "           [-1.4683e-04, -7.6799e-05,  2.9960e-04,  ...,  3.2826e-04,\n",
       "             8.5132e-05, -1.8135e-05]]], dtype=torch.float64,\n",
       "         grad_fn=<MulBackward0>),\n",
       "  tensor([[[-3.0993e-03, -2.6688e-04,  2.8383e-05,  ...,  2.6315e-03,\n",
       "            -2.7356e-05,  2.2195e-04],\n",
       "           [ 8.7235e-04, -3.1462e-03, -4.4783e-04,  ...,  2.6137e-03,\n",
       "             1.1384e-03, -1.1078e-02],\n",
       "           [-1.6335e-03, -5.8023e-04, -7.3492e-04,  ..., -2.1800e-03,\n",
       "             2.1959e-03,  1.4479e-04],\n",
       "           ...,\n",
       "           [-1.8029e-03, -2.1190e-04,  5.2720e-05,  ..., -3.3977e-04,\n",
       "            -6.6716e-03, -5.7346e-03],\n",
       "           [ 3.8776e-04, -3.4432e-03, -7.0659e-03,  ..., -4.5459e-04,\n",
       "             1.2671e-04, -7.0091e-04],\n",
       "           [-2.6647e-03,  7.8413e-05,  4.2462e-03,  ...,  1.0284e-03,\n",
       "             2.1017e-03, -6.3352e-04]]], dtype=torch.float64,\n",
       "         grad_fn=<MulBackward0>),\n",
       "  tensor([[[ 1.2968e-03, -2.0127e-04,  9.1134e-04,  ...,  7.8590e-04,\n",
       "            -5.8366e-04,  1.4588e-03],\n",
       "           [-3.4354e-04,  1.0542e-04, -1.2588e-04,  ...,  2.1276e-03,\n",
       "             2.3429e-05, -1.9117e-03],\n",
       "           [-6.6203e-05, -9.4119e-05, -5.9725e-04,  ...,  7.2460e-05,\n",
       "            -4.1594e-04,  1.4373e-03],\n",
       "           ...,\n",
       "           [-1.6404e-03, -5.4534e-04,  1.5276e-03,  ...,  2.2718e-04,\n",
       "             3.4147e-04,  6.6919e-03],\n",
       "           [ 1.2741e-04,  1.4484e-03, -1.5616e-03,  ...,  8.1126e-04,\n",
       "             2.1828e-03,  3.3794e-03],\n",
       "           [-2.3254e-04, -1.7434e-04,  2.4305e-04,  ..., -1.5301e-03,\n",
       "             1.9329e-04, -5.5342e-05]]], dtype=torch.float64,\n",
       "         grad_fn=<MulBackward0>),\n",
       "  tensor([[[-1.4937e-04, -2.5127e-05,  3.0969e-07,  ...,  1.3881e-04,\n",
       "             1.2204e-05, -5.5781e-05],\n",
       "           [-2.1499e-05, -1.2695e-05, -1.5222e-06,  ..., -6.2478e-05,\n",
       "            -3.2516e-05,  4.8979e-05],\n",
       "           [ 2.6908e-05,  1.2508e-05,  2.1426e-05,  ...,  4.0375e-05,\n",
       "            -1.0672e-06,  9.4751e-06],\n",
       "           ...,\n",
       "           [ 7.6503e-06, -2.1823e-06, -5.2494e-06,  ..., -2.9049e-05,\n",
       "            -6.0587e-08, -3.5856e-07],\n",
       "           [ 2.4435e-05, -1.2354e-04, -6.4313e-06,  ..., -6.9707e-05,\n",
       "            -1.1746e-05, -6.1325e-05],\n",
       "           [-9.9686e-06, -1.1389e-05, -2.8940e-05,  ..., -8.3087e-06,\n",
       "            -2.5004e-05,  4.6853e-06]]], dtype=torch.float64,\n",
       "         grad_fn=<MulBackward0>),\n",
       "  tensor([[[-3.2883e-04,  2.4787e-05,  3.1723e-05,  ...,  1.8733e-04,\n",
       "            -3.6798e-05,  2.2292e-05],\n",
       "           [-7.0479e-05, -1.9338e-05,  1.6770e-04,  ..., -7.1066e-05,\n",
       "             2.1609e-05,  3.5415e-05],\n",
       "           [ 2.0016e-04,  6.2947e-06,  2.9211e-04,  ...,  6.4793e-06,\n",
       "            -3.8240e-04, -6.3185e-04],\n",
       "           ...,\n",
       "           [-6.6645e-04,  4.8523e-05,  1.4060e-04,  ..., -1.9125e-04,\n",
       "            -1.0470e-04,  1.0056e-04],\n",
       "           [-6.0324e-05, -5.2107e-04,  3.9610e-04,  ..., -6.3634e-05,\n",
       "             4.1963e-04,  1.0762e-04],\n",
       "           [ 3.0923e-06,  1.0914e-05, -7.9519e-05,  ...,  4.5514e-05,\n",
       "             9.9039e-06, -1.4549e-05]]], dtype=torch.float64,\n",
       "         grad_fn=<MulBackward0>),\n",
       "  tensor([[[-7.3696e-05, -1.4953e-05, -1.0560e-05,  ...,  5.4028e-05,\n",
       "             5.2561e-05, -3.0637e-05],\n",
       "           [-4.6659e-06, -3.9337e-06, -5.1373e-06,  ..., -2.8336e-06,\n",
       "            -3.7433e-05,  3.8927e-05],\n",
       "           [-1.9355e-05,  1.1249e-06, -1.9985e-06,  ..., -4.4060e-06,\n",
       "            -8.9368e-08, -2.3478e-06],\n",
       "           ...,\n",
       "           [-6.3337e-06,  1.7678e-06, -6.5576e-07,  ..., -3.1769e-06,\n",
       "            -9.9441e-07,  3.5555e-06],\n",
       "           [-3.7240e-07, -1.5637e-05,  1.0058e-05,  ...,  1.2447e-05,\n",
       "             1.8405e-05,  1.1904e-05],\n",
       "           [-7.1995e-06, -6.1450e-06,  5.3631e-06,  ..., -1.7497e-06,\n",
       "            -8.7098e-06, -6.1471e-07]]], dtype=torch.float64,\n",
       "         grad_fn=<MulBackward0>),\n",
       "  tensor([[[-4.3848e-03, -6.4213e-04, -1.8880e-03,  ...,  8.9423e-03,\n",
       "            -2.2894e-03,  2.8290e-03],\n",
       "           [-7.5948e-05,  2.8354e-03, -1.3098e-03,  ..., -2.1848e-04,\n",
       "            -3.0774e-05, -9.6335e-04],\n",
       "           [-1.2133e-03, -5.2850e-03,  1.5954e-03,  ...,  2.1266e-03,\n",
       "             5.0648e-03, -1.5538e-03],\n",
       "           ...,\n",
       "           [-1.5363e-03,  4.5196e-04,  1.1174e-02,  ..., -9.2910e-04,\n",
       "             8.7574e-05, -4.3204e-04],\n",
       "           [-1.6241e-04,  2.7271e-03, -5.7534e-03,  ...,  2.5586e-03,\n",
       "             1.2790e-04,  4.7947e-03],\n",
       "           [-3.2411e-03,  1.8157e-03,  1.9624e-03,  ..., -2.3600e-03,\n",
       "            -3.3474e-05,  2.8846e-04]]], dtype=torch.float64,\n",
       "         grad_fn=<MulBackward0>),\n",
       "  tensor([[[-6.5851e-04, -8.0266e-05, -2.3554e-04,  ...,  2.2921e-04,\n",
       "             4.5605e-04, -1.1216e-05],\n",
       "           [-4.5725e-04, -4.4670e-04, -1.6603e-04,  ...,  2.6437e-05,\n",
       "             3.6085e-05, -1.4249e-04],\n",
       "           [ 2.8736e-04,  1.6144e-04,  5.8690e-05,  ...,  2.2056e-04,\n",
       "             1.7268e-04, -2.5089e-04],\n",
       "           ...,\n",
       "           [ 8.7064e-04,  1.8920e-04, -2.1687e-04,  ...,  7.1995e-04,\n",
       "            -4.0897e-04, -1.6523e-04],\n",
       "           [ 2.8562e-04,  1.0573e-03, -6.6542e-04,  ...,  6.8021e-04,\n",
       "             3.0517e-04,  5.8343e-04],\n",
       "           [-1.2273e-04,  2.2309e-04,  2.2896e-04,  ..., -1.9130e-04,\n",
       "             4.0397e-05, -4.4201e-06]]], dtype=torch.float64,\n",
       "         grad_fn=<MulBackward0>),\n",
       "  tensor([[[-1.3274e-04,  5.4371e-06, -2.6608e-05,  ...,  7.1374e-05,\n",
       "             7.4974e-05, -1.0065e-06],\n",
       "           [-3.9961e-05, -6.8004e-05,  2.8623e-06,  ...,  1.1162e-06,\n",
       "             2.6217e-06, -5.3954e-06],\n",
       "           [-4.3934e-05, -4.3497e-05,  7.0444e-05,  ...,  4.3047e-06,\n",
       "            -6.9803e-06,  9.1483e-06],\n",
       "           ...,\n",
       "           [-3.5724e-05,  6.6859e-05,  2.8426e-06,  ...,  1.6700e-07,\n",
       "             1.7447e-06,  7.2867e-06],\n",
       "           [-3.6883e-06,  2.9083e-05,  1.4429e-05,  ...,  2.2274e-06,\n",
       "             2.1762e-05,  3.3227e-05],\n",
       "           [-2.3334e-05, -2.7827e-06,  3.7032e-05,  ...,  5.1965e-06,\n",
       "             5.3670e-06, -1.1600e-05]]], dtype=torch.float64,\n",
       "         grad_fn=<MulBackward0>),\n",
       "  tensor([[[-1.5644e-02, -1.0862e-03, -4.1866e-03,  ...,  1.4508e-02,\n",
       "             2.3934e-03,  4.4346e-03],\n",
       "           [-2.0433e-04, -1.3987e-02, -3.8303e-03,  ..., -3.5448e-04,\n",
       "            -4.9748e-03, -1.1037e-02],\n",
       "           [-7.1862e-03, -4.2151e-03,  6.6081e-04,  ..., -2.9723e-05,\n",
       "             2.7025e-03, -3.0316e-02],\n",
       "           [-5.8078e-02, -1.4968e-02,  1.6877e-02,  ...,  9.7729e-03,\n",
       "            -4.0965e-03, -6.3551e-03],\n",
       "           [ 2.7176e-05, -9.7763e-03, -1.0338e-02,  ...,  4.4929e-03,\n",
       "            -3.9918e-03,  1.2710e-02],\n",
       "           [-1.2108e-02,  2.5567e-03,  8.5926e-03,  ...,  5.0872e-03,\n",
       "             1.0804e-02,  2.3064e-03]]], dtype=torch.float64,\n",
       "         grad_fn=<MulBackward0>),\n",
       "  tensor([[[ 1.4093e-01,  1.4844e-02, -1.9030e-02,  ...,  7.1272e-02,\n",
       "            -7.7987e-02,  6.5053e-02],\n",
       "           [ 2.1642e-02, -6.7340e-03, -1.0558e-01,  ..., -5.9451e-04,\n",
       "             2.4223e-03, -5.7118e-03],\n",
       "           [ 1.2699e-01, -1.6749e-03,  4.4550e-02,  ...,  4.6342e-02,\n",
       "             5.0402e-03, -3.3785e-02],\n",
       "           [ 1.1714e-01, -1.3027e-02, -8.7913e-02,  ...,  1.7364e-04,\n",
       "             2.0706e-02,  8.2647e-03],\n",
       "           [-2.4355e-03,  1.4071e-01, -1.2995e-01,  ...,  2.7971e-02,\n",
       "            -8.7743e-02,  6.0678e-02],\n",
       "           [ 1.5508e-02, -1.8269e-02, -3.7032e-02,  ..., -2.7333e-01,\n",
       "            -2.2187e-01,  1.4319e-02]]], dtype=torch.float64,\n",
       "         grad_fn=<MulBackward0>),\n",
       "  tensor([[[-3.5952e-05,  2.8674e-06, -2.0537e-05,  ...,  1.7102e-05,\n",
       "             8.1256e-06,  2.5229e-06],\n",
       "           [-2.6777e-06, -9.6364e-06, -6.3476e-06,  ...,  3.9327e-09,\n",
       "             3.2400e-07,  4.8801e-06],\n",
       "           [-2.8471e-06, -1.4743e-05,  7.8036e-06,  ...,  4.2514e-06,\n",
       "            -1.8711e-05, -2.3351e-06],\n",
       "           ...,\n",
       "           [-6.5758e-06,  4.7655e-05, -2.3857e-06,  ..., -5.2206e-07,\n",
       "             3.1885e-08, -9.5691e-07],\n",
       "           [ 1.2934e-05,  7.1894e-05,  1.2268e-05,  ...,  2.3946e-05,\n",
       "            -3.1468e-06,  1.8625e-05],\n",
       "           [-6.5222e-07,  5.8461e-06,  1.4180e-06,  ..., -1.9786e-06,\n",
       "            -9.8609e-06, -8.6705e-07]]], dtype=torch.float64,\n",
       "         grad_fn=<MulBackward0>),\n",
       "  tensor([[[ 5.4198e-05, -1.3706e-05,  7.2591e-06,  ..., -2.8265e-05,\n",
       "             4.7596e-05,  9.3390e-06],\n",
       "           [ 1.3568e-05,  8.0459e-06, -8.2228e-08,  ...,  1.1498e-05,\n",
       "             7.9265e-06,  6.1333e-06],\n",
       "           [ 1.7524e-06, -9.7854e-06, -4.0510e-05,  ..., -6.3496e-06,\n",
       "             5.1900e-06,  5.5254e-05],\n",
       "           ...,\n",
       "           [ 7.0553e-06, -1.7156e-05,  1.7007e-05,  ..., -2.9772e-08,\n",
       "             2.1616e-06,  1.7599e-05],\n",
       "           [-1.3663e-05,  5.5009e-06,  1.0803e-05,  ...,  1.6593e-05,\n",
       "             3.5742e-05, -2.9587e-05],\n",
       "           [ 4.2766e-07,  1.1496e-05,  4.5840e-05,  ...,  1.8304e-05,\n",
       "             4.4204e-05,  7.3376e-06]]], dtype=torch.float64,\n",
       "         grad_fn=<MulBackward0>),\n",
       "  tensor([[[ 1.2357e-04,  2.5083e-05, -3.7378e-05,  ..., -3.2826e-05,\n",
       "             2.1935e-05,  3.6006e-05],\n",
       "           [-1.1306e-05, -3.8182e-06, -2.7673e-05,  ..., -2.3451e-05,\n",
       "            -2.6778e-05, -2.2579e-05],\n",
       "           [-6.3401e-06, -2.3706e-04, -7.6313e-05,  ...,  3.0160e-05,\n",
       "            -6.3599e-06, -2.1021e-05],\n",
       "           ...,\n",
       "           [ 1.0842e-05,  1.5336e-04,  5.8481e-07,  ...,  1.6532e-05,\n",
       "            -7.1411e-07,  8.4419e-06],\n",
       "           [-2.3324e-05,  3.5310e-05,  2.5898e-05,  ...,  4.6727e-05,\n",
       "             1.1682e-04,  9.8647e-05],\n",
       "           [-1.6858e-07, -2.3967e-06, -2.0180e-05,  ..., -8.6464e-05,\n",
       "            -9.6723e-05, -1.7737e-06]]], dtype=torch.float64,\n",
       "         grad_fn=<MulBackward0>),\n",
       "  tensor([[[-0.0063,  0.0025, -0.0006,  ...,  0.0038,  0.0009,  0.0003],\n",
       "           [-0.0005, -0.0354,  0.0006,  ...,  0.0041, -0.0009,  0.0011],\n",
       "           [ 0.0152, -0.0354, -0.0043,  ...,  0.0215, -0.0797,  0.0017],\n",
       "           [-0.0001,  0.0074, -0.0115,  ..., -0.0008,  0.0089,  0.0225],\n",
       "           [ 0.0002,  0.0738, -0.0080,  ...,  0.0068, -0.0073, -0.0131],\n",
       "           [-0.0038,  0.0116,  0.0019,  ..., -0.0064,  0.0036,  0.0008]]],\n",
       "         dtype=torch.float64, grad_fn=<MulBackward0>),\n",
       "  tensor([[[ 1.7422e-03, -5.4643e-04,  2.2432e-04,  ...,  1.6848e-03,\n",
       "            -1.5419e-03, -2.5141e-03],\n",
       "           [ 3.8383e-04,  2.9327e-03,  2.9094e-05,  ...,  3.3352e-03,\n",
       "            -4.4530e-05,  8.7895e-04],\n",
       "           [-1.5432e-02,  3.5621e-02, -9.8157e-03,  ..., -1.3412e-02,\n",
       "             2.1121e-02,  4.3202e-03],\n",
       "           ...,\n",
       "           [ 2.0891e-03, -6.3261e-03,  1.5496e-03,  ..., -8.0398e-05,\n",
       "            -9.4542e-04, -1.6696e-04],\n",
       "           [-7.3128e-04, -1.1325e-02,  6.1216e-03,  ...,  2.1232e-03,\n",
       "             4.0786e-03, -1.3961e-03],\n",
       "           [ 9.3591e-05,  1.0039e-03,  5.7576e-04,  ..., -1.9173e-05,\n",
       "             4.0288e-04,  1.4551e-04]]], dtype=torch.float64,\n",
       "         grad_fn=<MulBackward0>),\n",
       "  tensor([[[-1.4224e-02,  6.0571e-04,  1.0260e-03,  ..., -2.4346e-03,\n",
       "             5.8432e-04,  2.0092e-03],\n",
       "           [-8.0835e-03,  1.1437e-03,  9.9358e-03,  ..., -4.3066e-03,\n",
       "            -1.3103e-02,  3.2958e-03],\n",
       "           [-3.7517e-02,  3.8015e-05,  2.1895e-03,  ..., -1.5830e-02,\n",
       "            -2.7071e-02,  2.1099e-03],\n",
       "           [-1.1267e-03, -1.6959e-02, -3.4462e-03,  ..., -2.2223e-03,\n",
       "             8.4320e-04,  2.2281e-02],\n",
       "           [-7.2425e-03, -9.3986e-04, -1.0629e-03,  ..., -8.0758e-04,\n",
       "             6.1131e-03, -6.5905e-04]]], dtype=torch.float64,\n",
       "         grad_fn=<MulBackward0>),\n",
       "  tensor([[[ 1.2000e-04,  9.6472e-06, -1.2783e-05,  ..., -4.1224e-05,\n",
       "             5.4779e-05,  6.9258e-05],\n",
       "           [ 2.5317e-05, -3.7394e-05, -2.3889e-07,  ...,  9.9808e-06,\n",
       "            -2.6378e-07,  3.3676e-06],\n",
       "           [ 4.6848e-05,  2.8189e-05, -1.5655e-07,  ..., -1.6097e-05,\n",
       "            -3.1592e-05, -1.3892e-05],\n",
       "           ...,\n",
       "           [ 4.4147e-05,  1.8745e-05, -6.6737e-06,  ...,  2.9234e-05,\n",
       "            -1.0276e-07, -6.6959e-06],\n",
       "           [-1.6282e-06,  9.0436e-05,  7.9171e-05,  ...,  9.2455e-05,\n",
       "             7.9157e-05,  4.6140e-05],\n",
       "           [ 1.9299e-05, -8.9842e-07,  2.5977e-05,  ..., -1.9539e-05,\n",
       "             2.4118e-05, -2.4269e-06]]], dtype=torch.float64,\n",
       "         grad_fn=<MulBackward0>),\n",
       "  tensor([[[-1.6716e-03, -1.6174e-04, -5.9403e-04,  ...,  1.8841e-03,\n",
       "             2.2239e-03,  3.7410e-05],\n",
       "           [-1.7664e-03,  1.2602e-05, -1.0364e-03,  ...,  4.7523e-04,\n",
       "            -1.8388e-03, -3.9729e-04],\n",
       "           [-1.8450e-04, -8.1535e-04, -3.1726e-04,  ...,  1.9669e-04,\n",
       "            -1.8272e-03, -5.9956e-04],\n",
       "           ...,\n",
       "           [ 8.3807e-04,  6.5093e-04, -7.5112e-04,  ..., -9.5836e-04,\n",
       "             4.1948e-05, -3.3917e-04],\n",
       "           [ 9.9998e-04,  9.2909e-04, -1.2555e-03,  ...,  2.4103e-03,\n",
       "             1.7957e-03,  3.6778e-03],\n",
       "           [-6.4065e-04,  1.0559e-03,  5.3994e-04,  ..., -7.3890e-04,\n",
       "             3.5004e-04, -5.6020e-05]]], dtype=torch.float64,\n",
       "         grad_fn=<MulBackward0>),\n",
       "  tensor([[[ 3.9145e-04,  2.2783e-04,  3.8538e-04,  ..., -1.1315e-05,\n",
       "             5.8802e-04,  4.3499e-04],\n",
       "           [ 2.6381e-05,  1.7929e-04,  3.1695e-04,  ...,  2.1525e-06,\n",
       "             2.8550e-04, -7.3922e-05],\n",
       "           [ 7.7077e-05, -2.2276e-04,  3.6538e-04,  ..., -2.8149e-05,\n",
       "            -5.3716e-04, -2.8474e-05],\n",
       "           ...,\n",
       "           [-1.5764e-04,  2.0417e-03, -3.6730e-05,  ..., -8.3922e-06,\n",
       "            -6.2255e-05, -2.4408e-04],\n",
       "           [-1.5294e-04, -2.8533e-04,  7.7848e-04,  ..., -5.3463e-04,\n",
       "             1.6621e-03,  9.2386e-04],\n",
       "           [ 7.5000e-06, -1.5666e-04,  4.6442e-04,  ..., -1.1007e-04,\n",
       "            -1.1555e-04, -2.4733e-05]]], dtype=torch.float64,\n",
       "         grad_fn=<MulBackward0>),\n",
       "  tensor([[[ 2.0007e-04, -2.1255e-05,  7.4764e-05,  ...,  2.4165e-04,\n",
       "            -5.1096e-05,  1.2875e-04],\n",
       "           [-3.0804e-05,  2.2102e-05,  1.5439e-05,  ..., -3.3677e-05,\n",
       "             3.7740e-05, -1.5718e-04],\n",
       "           [-1.2112e-04,  4.8591e-05,  4.5713e-05,  ..., -6.6312e-06,\n",
       "             2.6326e-04, -4.0340e-06],\n",
       "           ...,\n",
       "           [ 3.1836e-05,  3.6239e-07, -1.5371e-05,  ..., -1.1547e-05,\n",
       "            -3.8639e-05, -6.5766e-05],\n",
       "           [-6.5283e-06, -1.2670e-04, -1.8224e-05,  ..., -1.5444e-05,\n",
       "            -3.8746e-06,  1.4624e-04],\n",
       "           [ 7.7562e-05, -2.1943e-05,  5.3805e-05,  ...,  3.4376e-05,\n",
       "             2.7286e-05, -2.6352e-06]]], dtype=torch.float64,\n",
       "         grad_fn=<MulBackward0>),\n",
       "  tensor([[[-1.1663e-04, -1.9286e-06, -3.4981e-05,  ...,  6.5335e-05,\n",
       "             2.2331e-05, -2.1021e-05],\n",
       "           [-1.9471e-05,  1.0678e-05, -6.7542e-06,  ...,  3.1439e-05,\n",
       "             3.2268e-06, -2.2149e-05],\n",
       "           [-5.2318e-06,  7.2766e-08,  1.7632e-05,  ...,  1.0346e-05,\n",
       "             1.0533e-06, -2.8450e-05],\n",
       "           ...,\n",
       "           [ 7.9676e-06,  2.4587e-05,  3.7997e-05,  ...,  3.6920e-05,\n",
       "             1.0096e-04,  1.8240e-05],\n",
       "           [ 5.3409e-06,  4.4146e-06,  4.5180e-06,  ...,  6.2792e-05,\n",
       "             3.8987e-05,  7.7276e-05],\n",
       "           [-2.9871e-05,  5.9507e-06,  4.4971e-05,  ..., -2.4983e-06,\n",
       "             3.5321e-06, -1.0809e-06]]], dtype=torch.float64,\n",
       "         grad_fn=<MulBackward0>),\n",
       "  tensor([[[-1.7480e-02, -2.7254e-03,  1.5447e-03,  ...,  2.5541e-03,\n",
       "            -1.4853e-03, -2.9339e-03],\n",
       "           [-4.9101e-03,  1.6665e-03, -8.6538e-05,  ...,  1.4370e-03,\n",
       "            -4.7793e-03,  2.6833e-02],\n",
       "           [-1.4917e-02, -1.4156e-03, -7.4838e-04,  ..., -2.3297e-02,\n",
       "            -3.4426e-03, -1.8249e-03],\n",
       "           [-2.1225e-02, -2.2115e-03,  5.7860e-03,  ...,  2.9310e-04,\n",
       "             6.2517e-03,  1.0780e-02],\n",
       "           [ 2.6620e-04, -1.6047e-02,  3.5582e-03,  ..., -1.7542e-02,\n",
       "            -7.9945e-03, -2.0541e-02],\n",
       "           [-1.0251e-02,  6.1525e-05, -7.3985e-03,  ..., -3.3951e-03,\n",
       "            -2.2260e-02, -1.5190e-04]]], dtype=torch.float64,\n",
       "         grad_fn=<MulBackward0>),\n",
       "  tensor([[[-4.3997e-04, -6.2686e-04,  2.4528e-04,  ...,  2.7445e-03,\n",
       "             2.4647e-04,  3.8543e-04],\n",
       "           [ 3.2331e-05,  3.7653e-03,  1.2075e-03,  ..., -2.3169e-06,\n",
       "            -6.0354e-04, -3.4228e-03],\n",
       "           [ 3.6576e-03,  4.1232e-03, -2.7380e-03,  ...,  1.6100e-06,\n",
       "            -1.3970e-03,  5.2470e-05],\n",
       "           ...,\n",
       "           [-1.4474e-03,  2.1512e-05, -1.4462e-03,  ..., -1.8042e-05,\n",
       "             2.2591e-04,  1.0750e-03],\n",
       "           [ 4.7365e-04, -7.9904e-04, -3.3907e-03,  ...,  5.6787e-04,\n",
       "            -1.4080e-03,  1.8483e-03],\n",
       "           [-6.1898e-04, -1.6234e-05,  1.5355e-03,  ...,  1.9189e-04,\n",
       "             1.6551e-03, -4.6942e-05]]], dtype=torch.float64,\n",
       "         grad_fn=<MulBackward0>),\n",
       "  tensor([[[-3.7697e-03, -3.6236e-04, -4.7585e-04,  ...,  2.5254e-03,\n",
       "             1.5722e-03,  1.5131e-04],\n",
       "           [-5.8948e-04,  3.6668e-03,  1.5120e-03,  ...,  1.1234e-04,\n",
       "             3.0565e-03, -5.7652e-03],\n",
       "           [-4.7333e-03,  1.2404e-03,  6.6761e-04,  ..., -9.6694e-05,\n",
       "            -2.3059e-04,  9.3372e-03],\n",
       "           [-6.3618e-04,  9.2524e-03, -7.2681e-03,  ..., -1.0689e-03,\n",
       "            -1.4121e-03,  1.0871e-02],\n",
       "           [-5.6817e-03,  1.0277e-03,  3.3818e-03,  ...,  4.3406e-04,\n",
       "             2.2878e-03, -2.4228e-04]]], dtype=torch.float64,\n",
       "         grad_fn=<MulBackward0>),\n",
       "  tensor([[[-4.2660e-03, -4.0516e-04, -1.8019e-04,  ...,  4.9063e-03,\n",
       "             2.0639e-03, -1.0244e-04],\n",
       "           [-1.7905e-03, -2.5730e-03, -1.0909e-04,  ...,  9.6566e-05,\n",
       "             3.5671e-03, -4.2249e-03],\n",
       "           [ 2.6840e-05,  2.2981e-04,  4.2547e-04,  ...,  1.8189e-03,\n",
       "            -1.2016e-03, -1.0291e-02],\n",
       "           [-5.3207e-03,  3.4155e-04, -1.2920e-03,  ..., -9.8788e-05,\n",
       "             1.7865e-03, -1.1045e-03],\n",
       "           [ 1.2496e-05, -2.0121e-04, -9.7706e-04,  ...,  1.1449e-03,\n",
       "             2.5523e-03,  1.6204e-02],\n",
       "           [-5.1431e-03,  1.1993e-03,  3.0967e-03,  ..., -6.8281e-04,\n",
       "             3.9831e-03,  5.3676e-04]]], dtype=torch.float64,\n",
       "         grad_fn=<MulBackward0>),\n",
       "  tensor([[[-1.7023e-05, -5.0071e-06, -9.6152e-06,  ..., -7.0693e-06,\n",
       "             6.5554e-06,  6.2063e-06],\n",
       "           [-2.5128e-06, -1.8796e-06,  1.1620e-05,  ...,  1.3304e-05,\n",
       "            -9.4275e-06, -1.1959e-07],\n",
       "           [ 2.5934e-06, -2.5395e-05, -3.0418e-05,  ...,  1.8695e-05,\n",
       "             2.1139e-05, -1.8890e-05],\n",
       "           ...,\n",
       "           [ 7.6691e-06, -4.6584e-06, -5.5808e-07,  ..., -1.0673e-06,\n",
       "            -1.3536e-06, -9.9703e-06],\n",
       "           [ 7.9226e-09,  3.5925e-05,  1.1106e-05,  ...,  9.4315e-06,\n",
       "             5.8517e-06, -7.4697e-06],\n",
       "           [-7.3302e-06,  1.2844e-05, -9.3200e-06,  ..., -8.3888e-06,\n",
       "            -8.8298e-06,  8.1394e-07]]], dtype=torch.float64,\n",
       "         grad_fn=<MulBackward0>),\n",
       "  tensor([[[ 1.4359e-05,  2.5683e-05, -1.9766e-05,  ...,  5.8269e-05,\n",
       "            -2.5045e-04, -2.1191e-05],\n",
       "           [ 2.3645e-06, -6.0514e-05,  3.1173e-05,  ..., -2.2957e-04,\n",
       "             7.2213e-05, -7.5155e-05],\n",
       "           [-1.5504e-04, -6.5222e-04, -1.7600e-05,  ..., -1.4445e-04,\n",
       "             4.5248e-04,  1.6977e-05],\n",
       "           ...,\n",
       "           [ 2.9080e-04,  1.7917e-05,  1.9912e-04,  ...,  8.0836e-07,\n",
       "             3.3719e-04, -1.2729e-04],\n",
       "           [-1.2184e-05, -2.9953e-04,  1.4182e-04,  ...,  3.4356e-05,\n",
       "            -2.7362e-05,  3.1234e-04],\n",
       "           [ 1.1664e-05, -2.3978e-06,  4.0629e-05,  ...,  8.8796e-05,\n",
       "             3.1453e-04,  3.8832e-06]]], dtype=torch.float64,\n",
       "         grad_fn=<MulBackward0>),\n",
       "  tensor([[[-5.8069e-04,  3.0153e-05, -1.5680e-04,  ...,  6.3876e-04,\n",
       "            -6.8881e-05,  6.2223e-04],\n",
       "           [-2.3177e-04, -5.9594e-04,  7.6343e-06,  ...,  1.3734e-04,\n",
       "            -2.4234e-04,  3.3923e-04],\n",
       "           [-3.4373e-04, -1.2794e-04, -1.8675e-04,  ..., -7.9162e-04,\n",
       "             2.2376e-03, -4.1088e-04],\n",
       "           ...,\n",
       "           [-3.0135e-05, -2.2027e-04, -6.5568e-04,  ...,  2.1079e-03,\n",
       "             5.2212e-04,  5.8769e-04],\n",
       "           [-3.2240e-04, -4.6433e-03,  2.3074e-03,  ...,  2.2766e-04,\n",
       "             2.7429e-03,  2.1368e-03],\n",
       "           [-5.5721e-04,  6.4815e-04,  9.6659e-04,  ...,  1.3270e-04,\n",
       "             6.0014e-04, -2.7345e-04]]], dtype=torch.float64,\n",
       "         grad_fn=<MulBackward0>),\n",
       "  tensor([[[-2.3219e-05,  5.9860e-06, -1.4947e-05,  ...,  2.7835e-07,\n",
       "            -1.9181e-05, -6.2597e-06],\n",
       "           [-2.5316e-06, -3.1984e-07,  1.3855e-05,  ...,  2.5154e-06,\n",
       "             1.2182e-05,  6.6378e-06],\n",
       "           [ 2.3536e-06,  1.0168e-06,  1.3909e-05,  ..., -1.1636e-06,\n",
       "             1.8335e-05,  6.7183e-06],\n",
       "           ...,\n",
       "           [ 3.0231e-06,  1.4625e-05,  1.1606e-05,  ..., -3.0432e-06,\n",
       "            -2.1209e-06, -2.5906e-06],\n",
       "           [-5.2875e-09, -1.1599e-05, -7.9130e-05,  ..., -9.3861e-05,\n",
       "            -1.0035e-04, -9.6464e-05],\n",
       "           [-1.1252e-05,  9.4329e-06,  1.9604e-06,  ..., -1.7852e-06,\n",
       "            -1.4903e-06, -4.7570e-07]]], dtype=torch.float64,\n",
       "         grad_fn=<MulBackward0>),\n",
       "  tensor([[[-5.7199e-04, -6.5298e-05, -4.9242e-04,  ...,  9.0771e-04,\n",
       "            -6.9155e-04,  4.8855e-04],\n",
       "           [-4.2475e-04, -8.4575e-04, -3.0267e-04,  ...,  5.3706e-04,\n",
       "            -9.5556e-04, -7.9434e-04],\n",
       "           [ 1.1000e-04,  1.4474e-03, -1.3440e-03,  ...,  2.5445e-04,\n",
       "             5.9754e-04, -4.5389e-05],\n",
       "           ...,\n",
       "           [ 4.7458e-05, -9.1871e-04, -1.7724e-03,  ...,  1.2520e-03,\n",
       "            -2.9435e-04, -1.8443e-04],\n",
       "           [ 1.8172e-04,  2.3554e-03, -3.2287e-03,  ...,  6.0776e-04,\n",
       "            -1.3288e-03,  2.2934e-03],\n",
       "           [-6.0162e-04,  9.7741e-04,  1.2722e-03,  ..., -7.0161e-04,\n",
       "             8.5428e-04, -3.6312e-04]]], dtype=torch.float64,\n",
       "         grad_fn=<MulBackward0>),\n",
       "  tensor([[[-6.2386e-05,  1.7615e-05,  3.1956e-05,  ...,  9.2722e-05,\n",
       "            -6.6558e-05, -2.7812e-05],\n",
       "           [-7.0692e-05, -9.4308e-05,  3.4308e-06,  ...,  8.9157e-05,\n",
       "             6.1746e-06,  3.2602e-05],\n",
       "           [-1.3038e-04,  3.7645e-05,  1.0544e-05,  ..., -5.8389e-06,\n",
       "             1.3179e-04, -4.3066e-06],\n",
       "           ...,\n",
       "           [ 5.7862e-05,  9.3855e-05,  4.6808e-04,  ...,  1.6822e-04,\n",
       "             7.0951e-05,  4.4674e-06],\n",
       "           [ 1.8342e-05,  1.6133e-04, -9.3673e-06,  ...,  3.6818e-05,\n",
       "            -1.2537e-05,  3.9782e-05],\n",
       "           [-2.0342e-05,  1.1793e-05,  3.5420e-05,  ...,  2.6550e-05,\n",
       "             5.5194e-05,  7.5833e-06]]], dtype=torch.float64,\n",
       "         grad_fn=<MulBackward0>),\n",
       "  tensor([[[-1.2007e-06, -3.7850e-05, -2.2036e-05,  ...,  4.7464e-05,\n",
       "             7.9704e-05,  6.1804e-05],\n",
       "           [-4.3072e-06,  1.1644e-06, -3.2263e-07,  ...,  5.4598e-05,\n",
       "            -1.9260e-07, -3.5466e-06],\n",
       "           [-2.3284e-06,  1.2734e-05, -2.1791e-06,  ...,  3.3922e-05,\n",
       "             3.2991e-05, -1.5579e-05],\n",
       "           ...,\n",
       "           [-1.2405e-05,  1.2676e-05, -4.3883e-06,  ...,  2.2860e-06,\n",
       "             3.3572e-06,  3.0782e-05],\n",
       "           [-1.5382e-06, -2.1814e-05,  8.8338e-06,  ...,  3.7694e-05,\n",
       "             9.3499e-05,  5.9011e-05],\n",
       "           [-4.2643e-05,  8.2978e-07,  3.7467e-05,  ..., -3.1792e-06,\n",
       "             1.1023e-05, -1.1669e-06]]], dtype=torch.float64,\n",
       "         grad_fn=<MulBackward0>),\n",
       "  tensor([[[-8.8470e-05, -4.4972e-05,  2.9078e-05,  ...,  1.9240e-05,\n",
       "             1.1774e-04,  2.0696e-04],\n",
       "           [-9.2083e-05, -6.9071e-05,  1.8274e-05,  ...,  3.9405e-06,\n",
       "             8.8864e-05,  7.2163e-05],\n",
       "           [ 2.9755e-07,  8.6901e-05, -2.8314e-05,  ..., -2.4103e-05,\n",
       "             5.5067e-05,  1.3956e-05],\n",
       "           ...,\n",
       "           [ 6.3988e-06,  1.0487e-04,  3.4076e-05,  ...,  2.0723e-05,\n",
       "             1.4177e-04, -5.2473e-06],\n",
       "           [-9.2680e-06, -2.8529e-06, -3.0396e-06,  ...,  1.5840e-05,\n",
       "            -7.5822e-05,  2.1223e-04],\n",
       "           [-5.1592e-05,  3.3518e-05,  6.2206e-05,  ..., -1.0263e-04,\n",
       "             2.2520e-05, -3.1670e-06]]], dtype=torch.float64,\n",
       "         grad_fn=<MulBackward0>),\n",
       "  tensor([[[-6.4513e-06,  1.2907e-06, -6.4754e-06,  ...,  6.2208e-06,\n",
       "            -1.3692e-06,  7.7335e-06],\n",
       "           [-2.2870e-06, -6.7182e-06, -4.2326e-06,  ...,  3.9248e-06,\n",
       "             1.0700e-06, -2.1099e-06],\n",
       "           [-5.2129e-06, -2.0762e-05,  2.7428e-06,  ...,  1.2778e-05,\n",
       "            -8.1596e-06, -1.0393e-06],\n",
       "           ...,\n",
       "           [-1.2671e-06,  3.0166e-05, -9.8875e-07,  ...,  1.7558e-06,\n",
       "             1.0974e-07, -8.9010e-06],\n",
       "           [ 2.6759e-07,  1.8360e-05, -6.7679e-06,  ..., -1.7895e-06,\n",
       "            -9.6361e-06, -2.4219e-05],\n",
       "           [-1.6418e-08,  9.2868e-06,  1.6718e-05,  ...,  5.3343e-06,\n",
       "             1.6155e-05, -3.9867e-06]]], dtype=torch.float64,\n",
       "         grad_fn=<MulBackward0>),\n",
       "  tensor([[[ 0.0157,  0.0018,  0.0066,  ..., -0.0005, -0.0048, -0.0006],\n",
       "           [ 0.0072, -0.0041, -0.0135,  ..., -0.0070,  0.0031,  0.0395],\n",
       "           [-0.0026, -0.0179,  0.0108,  ..., -0.0057,  0.0259, -0.0007],\n",
       "           ...,\n",
       "           [ 0.0158, -0.0180,  0.0002,  ...,  0.0047,  0.0092, -0.0059],\n",
       "           [-0.0013, -0.0395, -0.0020,  ...,  0.0056,  0.0221,  0.0172],\n",
       "           [ 0.0003, -0.0020, -0.0094,  ...,  0.0083, -0.0008,  0.0014]]],\n",
       "         dtype=torch.float64, grad_fn=<MulBackward0>),\n",
       "  tensor([[[-7.5247e-05,  1.7765e-05, -4.3653e-06,  ...,  9.1393e-06,\n",
       "            -1.3050e-04,  8.2619e-05],\n",
       "           [ 1.0337e-06,  4.8854e-06, -2.5946e-06,  ...,  6.9081e-07,\n",
       "            -1.8185e-06,  2.3765e-05],\n",
       "           [ 2.9873e-05,  1.1513e-04, -1.0686e-04,  ...,  4.7880e-05,\n",
       "            -1.5253e-04, -6.8262e-05],\n",
       "           ...,\n",
       "           [-6.6144e-05,  4.3956e-06, -6.6191e-06,  ..., -2.4907e-05,\n",
       "             5.0133e-06, -1.1488e-05],\n",
       "           [-1.4328e-05,  1.3515e-04,  5.8558e-06,  ...,  4.7351e-05,\n",
       "             1.1176e-05, -8.8121e-06],\n",
       "           [ 5.0327e-07,  1.2388e-05,  3.2550e-05,  ..., -1.0501e-06,\n",
       "             6.4118e-06, -1.4868e-06]]], dtype=torch.float64,\n",
       "         grad_fn=<MulBackward0>),\n",
       "  tensor([[[ 7.4846e-05,  1.0384e-05, -2.6207e-06,  ...,  6.1962e-06,\n",
       "            -5.6234e-06, -1.7664e-05],\n",
       "           [ 8.9996e-06, -3.2640e-05,  1.3764e-05,  ...,  4.7387e-06,\n",
       "            -7.2535e-05,  3.9240e-05],\n",
       "           [-7.8568e-06, -1.6334e-06,  2.2214e-05,  ...,  3.9893e-05,\n",
       "             5.3423e-05, -4.6953e-05],\n",
       "           ...,\n",
       "           [ 6.8756e-06,  3.6332e-05, -1.9761e-06,  ...,  7.9291e-06,\n",
       "             1.3157e-05, -4.7789e-08],\n",
       "           [-8.3887e-06,  3.2291e-05,  9.3322e-06,  ...,  5.4985e-05,\n",
       "             5.1462e-05,  5.0048e-05],\n",
       "           [ 3.2537e-06, -1.3138e-06,  3.7018e-05,  ...,  5.7885e-06,\n",
       "             2.7715e-05,  2.8703e-06]]], dtype=torch.float64,\n",
       "         grad_fn=<MulBackward0>),\n",
       "  tensor([[[-1.2271e-04,  1.7138e-05, -3.6662e-05,  ...,  9.8173e-05,\n",
       "            -1.5333e-06,  1.8942e-05],\n",
       "           [ 3.5907e-05,  9.8187e-06, -8.7173e-05,  ...,  9.9833e-06,\n",
       "            -1.7099e-05, -1.1594e-04],\n",
       "           [-1.3122e-05, -9.8401e-07,  3.1095e-05,  ...,  3.2804e-04,\n",
       "            -3.1938e-05, -1.9950e-04],\n",
       "           ...,\n",
       "           [-1.4213e-04,  1.2548e-04, -2.0875e-04,  ..., -9.9840e-07,\n",
       "             1.7265e-04, -3.2861e-05],\n",
       "           [ 2.6655e-05,  2.4263e-04, -6.4452e-05,  ...,  2.2994e-04,\n",
       "             3.1553e-05,  2.4271e-04],\n",
       "           [-2.9600e-05,  4.5449e-06,  1.1205e-04,  ..., -9.3631e-06,\n",
       "             1.1595e-04,  1.8326e-06]]], dtype=torch.float64,\n",
       "         grad_fn=<MulBackward0>),\n",
       "  tensor([[[-1.8587e-03, -3.0386e-04, -1.5532e-04,  ...,  1.1654e-03,\n",
       "             1.4455e-03,  1.1890e-05],\n",
       "           [-2.9106e-05,  5.1501e-04, -5.2293e-04,  ...,  1.0137e-03,\n",
       "            -8.4576e-05,  2.2619e-04],\n",
       "           [-1.7456e-05, -6.8247e-04,  6.6213e-05,  ...,  6.5530e-04,\n",
       "            -1.1261e-03,  1.8381e-03],\n",
       "           ...,\n",
       "           [-4.7688e-05,  2.2761e-04, -9.0731e-05,  ..., -5.4951e-05,\n",
       "             1.5054e-03, -1.8360e-03],\n",
       "           [ 4.1771e-05,  1.8876e-03, -3.0177e-03,  ..., -1.4409e-05,\n",
       "             6.2436e-04,  1.0227e-03],\n",
       "           [-3.7640e-04,  1.8789e-04,  1.1973e-03,  ..., -1.1065e-04,\n",
       "            -4.5690e-04, -1.4763e-04]]], dtype=torch.float64,\n",
       "         grad_fn=<MulBackward0>),\n",
       "  tensor([[[-1.3976e-04, -3.4734e-05, -1.1747e-06,  ...,  1.0951e-04,\n",
       "            -4.0564e-05, -3.0108e-06],\n",
       "           [-7.9684e-05,  1.8772e-05,  4.7236e-05,  ..., -8.0626e-08,\n",
       "            -2.3702e-05,  3.6246e-05],\n",
       "           [ 8.7664e-05, -1.9441e-05, -1.4726e-07,  ..., -3.6157e-05,\n",
       "            -1.7352e-05,  6.3437e-07],\n",
       "           ...,\n",
       "           [ 9.0608e-05,  1.6536e-05,  3.9021e-05,  ..., -1.6181e-05,\n",
       "            -6.9008e-05, -1.9423e-05],\n",
       "           [ 5.3776e-05,  5.8403e-05,  7.8899e-05,  ...,  4.0777e-05,\n",
       "             5.6589e-05, -1.3643e-04],\n",
       "           [-4.5814e-05,  7.6933e-05, -4.0060e-05,  ..., -4.5832e-05,\n",
       "            -9.4776e-05, -3.4438e-06]]], dtype=torch.float64,\n",
       "         grad_fn=<MulBackward0>),\n",
       "  tensor([[[ 0.0023, -0.0006, -0.0002,  ...,  0.0009, -0.0036, -0.0006],\n",
       "           [ 0.0027, -0.0004,  0.0002,  ...,  0.0065,  0.0007,  0.0075],\n",
       "           [ 0.0064, -0.0009,  0.0010,  ...,  0.0001,  0.0008, -0.0014],\n",
       "           ...,\n",
       "           [ 0.0014,  0.0036, -0.0058,  ..., -0.0012,  0.0022,  0.0011],\n",
       "           [-0.0001, -0.0053,  0.0009,  ..., -0.0043, -0.0050, -0.0014],\n",
       "           [-0.0015,  0.0008,  0.0026,  ..., -0.0002,  0.0029,  0.0011]]],\n",
       "         dtype=torch.float64, grad_fn=<MulBackward0>),\n",
       "  tensor([[[-2.3369e-03,  7.7318e-06,  1.5395e-04,  ...,  1.2075e-03,\n",
       "             4.5283e-04, -5.1529e-05],\n",
       "           [-5.0605e-04,  2.1287e-04,  6.2308e-04,  ..., -2.0351e-04,\n",
       "            -1.8839e-03, -1.4811e-03],\n",
       "           [ 2.1324e-04, -5.9056e-04, -6.6223e-05,  ..., -6.4356e-04,\n",
       "             3.1059e-04,  6.9049e-04],\n",
       "           ...,\n",
       "           [ 9.7797e-04,  6.9215e-05,  3.8500e-04,  ...,  4.5796e-05,\n",
       "            -8.2256e-04, -6.8896e-04],\n",
       "           [ 2.3690e-04, -9.4133e-04, -1.0920e-03,  ...,  2.7952e-04,\n",
       "             4.0080e-04,  2.1569e-03],\n",
       "           [-3.8391e-04,  1.6384e-04,  1.9561e-04,  ..., -4.7999e-04,\n",
       "            -7.2886e-04, -6.1327e-05]]], dtype=torch.float64,\n",
       "         grad_fn=<MulBackward0>),\n",
       "  tensor([[[-1.2230e-03, -2.1086e-05, -1.2824e-04,  ...,  9.1698e-04,\n",
       "             6.7845e-04, -3.1037e-05],\n",
       "           [-2.0848e-04, -2.2821e-05, -1.9846e-03,  ..., -5.0202e-04,\n",
       "             6.6731e-04, -1.1664e-03],\n",
       "           [-7.7485e-05,  1.2495e-04, -2.6795e-04,  ..., -8.1553e-05,\n",
       "            -3.3336e-04,  6.1960e-04],\n",
       "           [-2.9421e-05, -2.1392e-04, -1.5909e-04,  ...,  8.5014e-04,\n",
       "            -7.4048e-04, -4.8094e-04],\n",
       "           [ 1.3899e-05,  1.7931e-04, -1.0544e-03,  ...,  5.3510e-04,\n",
       "             2.2277e-04,  2.7876e-03],\n",
       "           [-7.9047e-04,  2.4513e-04,  9.8468e-04,  ...,  5.7504e-04,\n",
       "             1.7093e-03,  6.1674e-05]]], dtype=torch.float64,\n",
       "         grad_fn=<MulBackward0>),\n",
       "  tensor([[[-6.7323e-06,  8.5578e-06,  2.6456e-05,  ...,  3.3823e-05,\n",
       "            -4.0279e-05, -5.0179e-05],\n",
       "           [-6.5488e-06,  1.9178e-07, -7.0659e-06,  ..., -8.7579e-05,\n",
       "            -2.3172e-05,  4.7569e-05],\n",
       "           [ 3.5121e-05, -4.4440e-05,  1.7288e-05,  ...,  1.8942e-05,\n",
       "            -1.3924e-04, -9.0780e-06],\n",
       "           ...,\n",
       "           [-1.7401e-05, -4.0554e-05,  1.9048e-05,  ..., -1.7717e-05,\n",
       "            -5.5372e-05, -5.6779e-06],\n",
       "           [ 4.8344e-07, -2.1183e-05,  1.0244e-04,  ...,  1.9493e-05,\n",
       "             1.0256e-04,  2.2121e-05],\n",
       "           [ 2.2110e-05, -2.0669e-07, -5.0649e-06,  ...,  2.1020e-05,\n",
       "            -4.8884e-06,  5.6829e-07]]], dtype=torch.float64,\n",
       "         grad_fn=<MulBackward0>),\n",
       "  tensor([[[-1.7767e-03, -1.3930e-04, -1.0117e-04,  ...,  1.2270e-03,\n",
       "            -4.6345e-04, -1.2805e-04],\n",
       "           [-1.9847e-04, -6.2773e-04, -2.7160e-04,  ..., -3.8594e-04,\n",
       "            -4.4976e-04, -2.2406e-03],\n",
       "           [ 2.4992e-03, -9.4443e-04,  9.3883e-05,  ...,  5.7038e-05,\n",
       "            -7.1415e-03, -1.9079e-03],\n",
       "           [-2.7920e-04,  8.7151e-04, -1.6354e-03,  ..., -4.2104e-04,\n",
       "            -2.1130e-04,  9.2752e-04],\n",
       "           [-2.6597e-03,  2.2069e-04,  4.1058e-04,  ...,  2.5251e-04,\n",
       "             1.3516e-03, -1.6063e-04]]], dtype=torch.float64,\n",
       "         grad_fn=<MulBackward0>),\n",
       "  tensor([[[ 2.0435e-04,  4.9897e-05,  1.2948e-04,  ...,  3.7275e-04,\n",
       "             1.7386e-04,  9.2735e-05],\n",
       "           [ 2.1714e-05,  1.8964e-04,  4.7885e-05,  ...,  1.4951e-05,\n",
       "            -1.1057e-04, -5.9234e-05],\n",
       "           [-7.2300e-05,  1.0305e-04, -1.0746e-04,  ..., -1.4570e-04,\n",
       "             1.3687e-03, -1.3877e-04],\n",
       "           ...,\n",
       "           [-4.4167e-04, -4.7095e-04, -1.1474e-04,  ..., -1.5532e-05,\n",
       "            -4.6082e-04,  1.4829e-04],\n",
       "           [-1.7898e-04, -8.5974e-04,  3.9727e-04,  ..., -1.1337e-04,\n",
       "             4.8539e-04,  4.8840e-04],\n",
       "           [ 7.7313e-05,  1.5657e-05,  1.5199e-04,  ...,  1.0274e-04,\n",
       "             1.1816e-04,  7.2205e-06]]], dtype=torch.float64,\n",
       "         grad_fn=<MulBackward0>),\n",
       "  tensor([[[-3.2313e-03, -7.3202e-04, -2.9691e-04,  ...,  4.7819e-03,\n",
       "             2.4616e-03,  3.8716e-04],\n",
       "           [-2.5657e-03,  8.3804e-04, -1.6113e-03,  ...,  1.4955e-03,\n",
       "            -2.9289e-04, -3.5126e-03],\n",
       "           [-2.2840e-04,  8.1717e-04,  6.5489e-04,  ...,  1.7304e-03,\n",
       "             2.6506e-03,  9.8539e-03],\n",
       "           ...,\n",
       "           [ 1.2321e-03, -1.1516e-03, -3.9500e-04,  ...,  3.5442e-04,\n",
       "             4.2517e-04, -2.6072e-03],\n",
       "           [ 9.8459e-04,  2.4649e-03, -7.5150e-03,  ...,  1.0811e-03,\n",
       "            -1.6159e-03,  4.4180e-03],\n",
       "           [-2.9396e-03,  3.5873e-04,  3.6883e-03,  ..., -6.4481e-05,\n",
       "             2.1009e-03, -4.6032e-04]]], dtype=torch.float64,\n",
       "         grad_fn=<MulBackward0>),\n",
       "  tensor([[[-9.4362e-05, -1.6645e-06, -4.8964e-05,  ...,  9.5046e-05,\n",
       "             1.7424e-05, -7.6187e-06],\n",
       "           [-4.6208e-05,  4.8549e-05, -6.1367e-05,  ..., -1.3291e-07,\n",
       "            -1.6328e-05, -6.9590e-05],\n",
       "           [ 2.6503e-05, -1.0202e-05,  9.5612e-06,  ...,  1.1257e-05,\n",
       "            -9.8163e-05, -1.2009e-04],\n",
       "           ...,\n",
       "           [ 3.2088e-05, -2.0792e-04, -1.0701e-05,  ..., -1.0375e-06,\n",
       "             3.0068e-05,  1.0790e-05],\n",
       "           [ 2.0738e-06,  2.9100e-05,  1.1305e-05,  ...,  2.8345e-05,\n",
       "             1.1372e-04,  1.6780e-04],\n",
       "           [-2.2435e-05,  1.1634e-05,  1.5685e-05,  ..., -4.4688e-05,\n",
       "            -1.1560e-05,  4.7611e-06]]], dtype=torch.float64,\n",
       "         grad_fn=<MulBackward0>),\n",
       "  tensor([[[-1.1063e-05,  2.8973e-06,  8.8265e-06,  ...,  1.2345e-04,\n",
       "            -1.4222e-04, -1.6971e-05],\n",
       "           [ 4.7272e-05,  8.7543e-05,  5.9045e-05,  ...,  2.1835e-05,\n",
       "             9.3647e-05,  6.5765e-05],\n",
       "           [ 3.6201e-05, -1.6763e-04, -2.2014e-04,  ..., -2.4068e-04,\n",
       "             2.4286e-04,  1.5129e-04],\n",
       "           ...,\n",
       "           [-1.2502e-04,  4.1989e-04,  6.4502e-05,  ..., -1.3963e-04,\n",
       "             1.6495e-07, -2.4022e-04],\n",
       "           [-1.6441e-05,  1.3539e-04, -1.1314e-04,  ..., -7.6301e-06,\n",
       "            -1.4440e-05,  1.1777e-04],\n",
       "           [ 2.2672e-05,  2.1060e-05,  6.6060e-05,  ...,  1.0352e-04,\n",
       "             7.1264e-05, -3.3835e-06]]], dtype=torch.float64,\n",
       "         grad_fn=<MulBackward0>),\n",
       "  tensor([[[ 0.0067,  0.0033, -0.0007,  ...,  0.0089, -0.0268, -0.0020],\n",
       "           [-0.0014, -0.0054, -0.0019,  ...,  0.0054, -0.0149, -0.0070],\n",
       "           [-0.0036, -0.0068, -0.0062,  ..., -0.0055,  0.0115,  0.0110],\n",
       "           ...,\n",
       "           [-0.0023, -0.0112,  0.0038,  ...,  0.0008, -0.0223, -0.0053],\n",
       "           [ 0.0023,  0.0417,  0.0091,  ...,  0.0035, -0.0016,  0.0116],\n",
       "           [-0.0026,  0.0064,  0.0015,  ..., -0.0043,  0.0029,  0.0002]]],\n",
       "         dtype=torch.float64, grad_fn=<MulBackward0>),\n",
       "  tensor([[[-2.1555e-03, -7.1704e-04,  3.5709e-04,  ...,  2.1500e-03,\n",
       "             2.9853e-03, -3.7687e-05],\n",
       "           [ 1.0718e-03,  1.8620e-03,  1.1751e-03,  ...,  1.5455e-04,\n",
       "            -2.6113e-04, -2.0410e-03],\n",
       "           [ 3.6354e-03, -1.0504e-03, -1.7896e-05,  ...,  3.4127e-04,\n",
       "             6.5418e-04, -2.8052e-03],\n",
       "           ...,\n",
       "           [ 1.3295e-05, -2.9081e-03, -1.0958e-04,  ..., -2.1133e-05,\n",
       "             8.3394e-06,  6.7636e-04],\n",
       "           [ 6.6375e-05, -1.4497e-03, -2.8650e-04,  ...,  3.5313e-04,\n",
       "            -1.2732e-03,  1.9439e-03],\n",
       "           [-1.9206e-04, -3.2721e-04,  1.7750e-04,  ..., -1.4230e-04,\n",
       "            -8.0383e-05,  4.8310e-05]]], dtype=torch.float64,\n",
       "         grad_fn=<MulBackward0>),\n",
       "  tensor([[[-1.9749e-05, -2.2860e-06, -1.4852e-05,  ...,  1.5135e-05,\n",
       "             1.5727e-06, -1.4114e-05],\n",
       "           [-2.3023e-05,  1.5152e-05,  1.5790e-05,  ...,  5.0562e-05,\n",
       "            -4.0294e-06, -1.1236e-05],\n",
       "           [ 1.3321e-05,  3.4565e-06,  1.2038e-05,  ...,  8.0188e-05,\n",
       "            -3.0588e-05, -1.4319e-05],\n",
       "           ...,\n",
       "           [-6.6189e-06,  4.3193e-07, -1.6012e-05,  ...,  3.3681e-06,\n",
       "             1.7048e-06, -3.3145e-08],\n",
       "           [-4.6098e-07, -2.6990e-05, -6.4037e-05,  ..., -4.8492e-05,\n",
       "            -9.4314e-05, -8.1223e-05],\n",
       "           [-2.5110e-06,  1.2220e-06,  8.3209e-06,  ..., -2.1340e-06,\n",
       "            -9.4544e-08,  5.5741e-07]]], dtype=torch.float64,\n",
       "         grad_fn=<MulBackward0>),\n",
       "  tensor([[[-1.0587e-02, -9.2807e-04, -2.5650e-04,  ...,  3.7212e-03,\n",
       "            -3.7983e-03, -3.4644e-04],\n",
       "           [-2.9510e-03, -1.2448e-03,  4.2244e-03,  ...,  5.8780e-03,\n",
       "            -1.2995e-03,  1.6453e-02],\n",
       "           [ 5.0144e-03,  5.0313e-03, -2.1755e-03,  ...,  9.4893e-04,\n",
       "             1.8437e-04, -9.7522e-03],\n",
       "           ...,\n",
       "           [-1.1712e-02, -3.1924e-03, -8.9984e-04,  ..., -2.3549e-05,\n",
       "             8.7674e-05, -4.6592e-03],\n",
       "           [-1.1438e-03,  5.1320e-05, -5.8560e-03,  ...,  4.0760e-03,\n",
       "            -1.0825e-03,  1.7259e-03],\n",
       "           [-2.4667e-03,  2.3275e-03,  1.9560e-03,  ..., -2.5572e-04,\n",
       "            -1.6971e-03, -8.6621e-05]]], dtype=torch.float64,\n",
       "         grad_fn=<MulBackward0>),\n",
       "  tensor([[[-6.8847e-05, -1.0228e-05,  4.5997e-06,  ...,  9.3562e-05,\n",
       "             1.2984e-05, -3.3271e-05],\n",
       "           [-1.9722e-05,  1.3744e-07, -3.6937e-05,  ...,  6.6093e-06,\n",
       "             4.4262e-07,  4.4236e-06],\n",
       "           [-5.6901e-06,  1.1996e-05, -5.5719e-06,  ..., -5.1031e-07,\n",
       "            -1.5313e-05, -1.3837e-05],\n",
       "           ...,\n",
       "           [ 4.4965e-06,  2.4636e-08,  2.5508e-05,  ..., -5.5550e-06,\n",
       "            -9.0969e-06,  3.8661e-07],\n",
       "           [ 1.2261e-06,  8.6147e-06,  4.4054e-06,  ...,  1.8618e-05,\n",
       "             8.3167e-06,  7.0358e-06],\n",
       "           [-2.4675e-06, -5.5264e-06,  1.5087e-05,  ...,  3.2645e-07,\n",
       "             6.8855e-06, -3.7983e-06]]], dtype=torch.float64,\n",
       "         grad_fn=<MulBackward0>),\n",
       "  tensor([[[ 9.2944e-06, -2.5639e-05, -5.8468e-05,  ..., -3.1460e-05,\n",
       "             5.5490e-05,  3.4462e-05],\n",
       "           [-3.0709e-05,  6.7109e-05, -1.1866e-04,  ..., -7.4114e-07,\n",
       "            -2.5235e-05, -3.0681e-05],\n",
       "           [ 6.6293e-05, -2.8538e-05,  1.2068e-06,  ..., -1.1508e-05,\n",
       "             2.8092e-06, -6.8807e-05],\n",
       "           ...,\n",
       "           [-3.2258e-05, -1.1867e-04,  2.0677e-05,  ..., -3.9879e-05,\n",
       "            -3.8494e-06, -9.9071e-05],\n",
       "           [-1.9788e-05,  3.5178e-05,  3.6765e-05,  ...,  5.9527e-05,\n",
       "             9.0726e-05,  9.1921e-05],\n",
       "           [-4.6208e-05,  1.7281e-05,  1.0036e-04,  ..., -1.6243e-05,\n",
       "             4.0999e-05,  1.4971e-06]]], dtype=torch.float64,\n",
       "         grad_fn=<MulBackward0>),\n",
       "  tensor([[[-4.6871e-03, -7.6808e-04, -4.1793e-04,  ...,  3.9034e-03,\n",
       "             1.8718e-03,  4.6296e-04],\n",
       "           [ 7.4053e-04,  6.9816e-05,  9.0855e-04,  ..., -6.7995e-04,\n",
       "             5.7536e-03, -4.7170e-03],\n",
       "           [ 2.7626e-03,  1.5955e-04, -5.0589e-04,  ..., -5.4081e-04,\n",
       "            -2.0597e-03, -3.0952e-03],\n",
       "           [-8.4858e-03,  2.9433e-03,  2.3173e-03,  ...,  4.1416e-03,\n",
       "             4.9041e-04, -3.4822e-03],\n",
       "           [ 4.4271e-05, -4.9342e-05, -2.9809e-03,  ...,  7.3630e-04,\n",
       "            -2.3068e-03,  6.1134e-03],\n",
       "           [-2.2293e-03, -9.7231e-05,  1.5801e-03,  ..., -5.4276e-05,\n",
       "             1.9265e-03,  2.4124e-04]]], dtype=torch.float64,\n",
       "         grad_fn=<MulBackward0>),\n",
       "  tensor([[[ 7.2074e-04, -5.0233e-05,  2.9048e-05,  ..., -2.9110e-05,\n",
       "             2.1604e-04,  3.1932e-05],\n",
       "           [-2.2709e-04, -3.6303e-05, -1.3914e-03,  ..., -2.7249e-04,\n",
       "             4.4865e-05,  7.4103e-04],\n",
       "           [ 3.5339e-04, -1.4846e-03, -5.7512e-05,  ..., -6.7094e-04,\n",
       "            -3.5618e-05,  3.5767e-04],\n",
       "           [ 3.8943e-04, -1.4785e-05, -2.5091e-05,  ..., -5.1940e-04,\n",
       "             1.1506e-04, -1.4412e-04],\n",
       "           [ 4.0071e-06,  1.3144e-03, -3.1889e-04,  ..., -1.5158e-04,\n",
       "             5.9268e-05,  1.4826e-04],\n",
       "           [-2.2047e-04,  4.0991e-04,  3.0536e-04,  ...,  3.3173e-04,\n",
       "             6.1146e-04, -3.2002e-05]]], dtype=torch.float64,\n",
       "         grad_fn=<MulBackward0>),\n",
       "  tensor([[[ 5.2815e-04, -2.7601e-04, -2.9743e-04,  ...,  9.1596e-04,\n",
       "             7.9771e-04, -7.5078e-05],\n",
       "           [ 2.8862e-04,  4.1037e-03,  7.7874e-04,  ..., -9.9829e-04,\n",
       "             7.8730e-04, -3.8242e-03],\n",
       "           [ 1.3240e-03,  1.3777e-03,  7.0465e-05,  ...,  8.2870e-06,\n",
       "            -2.4021e-04, -3.3845e-03],\n",
       "           ...,\n",
       "           [ 1.6108e-04,  5.0441e-04,  2.6137e-04,  ...,  2.8693e-04,\n",
       "             4.0830e-07,  3.9807e-04],\n",
       "           [ 8.3535e-05,  3.5518e-03, -1.5983e-03,  ...,  7.6622e-04,\n",
       "            -3.9167e-04,  1.1041e-03],\n",
       "           [-1.0372e-04,  1.8654e-04,  7.6921e-04,  ..., -6.5548e-04,\n",
       "            -1.6252e-04,  1.3119e-05]]], dtype=torch.float64,\n",
       "         grad_fn=<MulBackward0>),\n",
       "  tensor([[[ 7.6668e-06, -1.2730e-05, -9.9067e-06,  ..., -1.4250e-05,\n",
       "            -7.5609e-06,  8.2396e-06],\n",
       "           [-2.0841e-07,  1.4373e-04, -1.9600e-07,  ...,  6.0046e-05,\n",
       "             3.1781e-05,  5.8344e-05],\n",
       "           [-3.3172e-06,  4.7883e-05,  1.1027e-05,  ...,  7.2152e-06,\n",
       "            -8.4975e-07, -1.3110e-06],\n",
       "           ...,\n",
       "           [-8.5114e-05,  1.9475e-04,  1.6822e-06,  ...,  5.1906e-05,\n",
       "             2.5720e-05,  3.7107e-06],\n",
       "           [-4.0310e-06, -1.0824e-04, -2.6804e-05,  ...,  2.2291e-05,\n",
       "            -8.7642e-06,  2.5559e-05],\n",
       "           [-1.8981e-06, -2.3232e-06,  8.7548e-06,  ...,  2.1627e-06,\n",
       "             4.2835e-06,  7.0125e-06]]], dtype=torch.float64,\n",
       "         grad_fn=<MulBackward0>),\n",
       "  tensor([[[ 1.4497e-05,  3.3304e-06, -1.0890e-05,  ..., -3.9054e-06,\n",
       "             5.9472e-07,  1.2505e-05],\n",
       "           [ 2.3559e-06, -3.8954e-05, -3.3188e-06,  ...,  1.1249e-05,\n",
       "             6.6597e-06,  2.7658e-06],\n",
       "           [ 3.8681e-06, -1.7114e-06,  1.8288e-06,  ...,  3.9047e-05,\n",
       "            -8.8478e-06,  8.1539e-07],\n",
       "           ...,\n",
       "           [ 4.5087e-07,  4.1420e-05,  1.1590e-06,  ...,  2.8641e-07,\n",
       "            -6.0796e-07, -8.2045e-06],\n",
       "           [-2.3886e-06,  9.1063e-05,  3.6034e-05,  ...,  2.5026e-05,\n",
       "             1.8380e-06,  5.6477e-05],\n",
       "           [ 1.0859e-07,  8.6662e-06,  8.8732e-06,  ..., -2.7850e-06,\n",
       "             1.3622e-06, -2.0199e-06]]], dtype=torch.float64,\n",
       "         grad_fn=<MulBackward0>),\n",
       "  tensor([[[ 5.1417e-05, -8.1481e-06, -2.4008e-05,  ...,  5.4632e-05,\n",
       "             2.9703e-05,  1.3690e-05],\n",
       "           [-1.5454e-04, -1.6308e-04, -5.9613e-06,  ..., -1.4584e-04,\n",
       "            -2.4602e-05, -6.7631e-06],\n",
       "           [ 1.7356e-04,  4.7354e-06,  5.1021e-05,  ..., -1.6745e-05,\n",
       "            -3.2183e-04, -7.1764e-06],\n",
       "           [ 8.2299e-07,  7.2506e-06, -1.2263e-04,  ...,  7.3800e-06,\n",
       "             7.1835e-05,  3.8193e-05],\n",
       "           [ 1.7370e-06,  2.0845e-04, -3.7057e-05,  ...,  1.4853e-04,\n",
       "             8.9808e-05,  8.0199e-05],\n",
       "           [-3.8897e-05,  5.6060e-05,  9.3345e-05,  ...,  3.6891e-05,\n",
       "             1.0158e-04, -3.1368e-06]]], dtype=torch.float64,\n",
       "         grad_fn=<MulBackward0>),\n",
       "  tensor([[[-2.4386e-04, -1.0918e-05, -8.2416e-05,  ...,  2.0419e-04,\n",
       "             6.1184e-05,  8.9740e-05],\n",
       "           [-8.9124e-05,  4.2394e-05,  9.7548e-05,  ...,  9.2854e-06,\n",
       "             4.7328e-05,  1.2863e-04],\n",
       "           [ 5.2352e-07,  2.1672e-04, -1.6095e-04,  ...,  2.1251e-05,\n",
       "            -2.7808e-05,  3.7651e-05],\n",
       "           ...,\n",
       "           [-6.0110e-05,  3.2053e-04,  8.2521e-06,  ...,  8.5264e-07,\n",
       "            -6.4934e-06,  7.9717e-05],\n",
       "           [ 3.4745e-06, -4.3270e-04,  3.3543e-05,  ...,  7.5161e-05,\n",
       "             4.4399e-04,  1.9850e-04],\n",
       "           [-6.1089e-05,  3.9132e-06,  8.1449e-05,  ...,  1.1706e-05,\n",
       "             1.8500e-05, -9.2294e-07]]], dtype=torch.float64,\n",
       "         grad_fn=<MulBackward0>),\n",
       "  tensor([[[-2.4879e-04, -1.8207e-04, -1.0840e-05,  ...,  5.4310e-04,\n",
       "             2.7288e-04, -1.2139e-04],\n",
       "           [-1.1252e-04,  6.5660e-04,  1.3315e-04,  ..., -5.4657e-05,\n",
       "            -1.9688e-05, -5.6601e-04],\n",
       "           [ 2.3903e-03, -8.9995e-04, -1.4660e-03,  ...,  5.0270e-05,\n",
       "             1.2549e-03,  4.1240e-04],\n",
       "           [-7.1726e-04, -2.2132e-03,  1.1600e-04,  ...,  3.9884e-04,\n",
       "            -2.9224e-04, -8.2295e-04],\n",
       "           [-1.5067e-05, -1.6132e-07,  5.8923e-04,  ..., -5.2604e-06,\n",
       "             7.7149e-04,  4.2482e-03],\n",
       "           [-1.0024e-03,  6.4543e-04,  6.6544e-04,  ...,  2.3473e-04,\n",
       "             9.9522e-04,  3.7293e-05]]], dtype=torch.float64,\n",
       "         grad_fn=<MulBackward0>),\n",
       "  tensor([[[-8.3055e-06,  6.1928e-06, -4.5251e-06,  ...,  7.4303e-06,\n",
       "            -1.1647e-05,  9.7811e-07],\n",
       "           [ 1.1734e-07, -1.3785e-05, -4.5378e-06,  ...,  1.0239e-08,\n",
       "             4.2788e-07,  1.1131e-05],\n",
       "           [-1.6776e-06,  6.7023e-06,  3.1219e-06,  ..., -4.9979e-06,\n",
       "            -1.0006e-05, -3.0257e-07],\n",
       "           ...,\n",
       "           [ 1.0623e-06, -1.5781e-06, -2.1625e-06,  ..., -7.3282e-07,\n",
       "             1.3036e-05, -1.9334e-07],\n",
       "           [-2.0240e-07,  2.0478e-05, -4.6134e-06,  ...,  9.9976e-07,\n",
       "            -8.1669e-06, -2.0356e-05],\n",
       "           [ 4.2489e-06,  2.6085e-06,  8.7477e-06,  ...,  5.0233e-06,\n",
       "             2.7420e-06, -3.4651e-06]]], dtype=torch.float64,\n",
       "         grad_fn=<MulBackward0>),\n",
       "  tensor([[[-3.5018e-04,  9.2452e-05,  5.1047e-05,  ...,  1.1647e-04,\n",
       "             2.9881e-06,  6.9656e-05],\n",
       "           [ 4.3649e-05, -1.2109e-04, -7.0501e-06,  ..., -3.4788e-05,\n",
       "             1.0212e-05, -1.1110e-04],\n",
       "           [-7.9142e-05,  2.7299e-05, -2.7583e-05,  ...,  3.0692e-05,\n",
       "             8.8717e-07,  2.3194e-04],\n",
       "           ...,\n",
       "           [-2.9147e-06,  1.0732e-07,  3.9196e-06,  ..., -9.8776e-05,\n",
       "            -4.5684e-05, -3.2374e-06],\n",
       "           [ 1.2392e-05, -3.7108e-04, -1.1723e-04,  ..., -5.5110e-05,\n",
       "             1.3032e-04,  4.5392e-04],\n",
       "           [-4.1092e-05, -7.4716e-08, -2.2512e-05,  ..., -5.1663e-05,\n",
       "            -5.9562e-05,  5.1086e-05]]], dtype=torch.float64,\n",
       "         grad_fn=<MulBackward0>),\n",
       "  tensor([[[-1.4896e-03, -8.1369e-05, -2.9804e-04,  ...,  2.7429e-04,\n",
       "             4.5310e-05,  2.3024e-04],\n",
       "           [-1.6341e-04,  1.5013e-05, -2.6471e-04,  ...,  2.7593e-04,\n",
       "            -2.9721e-05,  1.9082e-05],\n",
       "           [-3.4398e-04,  3.6109e-04,  2.6232e-04,  ...,  3.1817e-05,\n",
       "             1.6323e-04, -3.6213e-04],\n",
       "           [ 3.7767e-04,  1.8588e-06, -3.4871e-04,  ...,  5.5360e-06,\n",
       "            -3.9039e-04, -1.2195e-03],\n",
       "           [ 3.1192e-05,  1.8209e-03, -1.0953e-03,  ...,  4.9922e-04,\n",
       "            -7.6121e-04,  2.0583e-03],\n",
       "           [-1.0009e-03,  2.8457e-04,  4.7819e-04,  ...,  3.1447e-05,\n",
       "             5.0003e-04,  5.7121e-05]]], dtype=torch.float64,\n",
       "         grad_fn=<MulBackward0>),\n",
       "  tensor([[[-2.5546e-03,  3.4384e-04,  4.7205e-04,  ...,  5.0625e-04,\n",
       "            -9.5564e-05,  1.8645e-04],\n",
       "           [-7.1754e-03,  1.6602e-02,  8.9711e-03,  ..., -2.1782e-02,\n",
       "             2.2105e-02,  4.2292e-02],\n",
       "           [-5.4045e-04, -2.1372e-05, -5.4625e-04,  ...,  1.5776e-04,\n",
       "             3.7533e-04, -1.3716e-03],\n",
       "           ...,\n",
       "           [-1.0385e-03,  7.7836e-03,  7.5956e-03,  ..., -3.7721e-04,\n",
       "             7.0812e-04, -5.8600e-03],\n",
       "           [ 2.9920e-03,  4.7653e-03,  8.0836e-03,  ...,  4.1672e-03,\n",
       "             3.4427e-04,  1.7421e-02],\n",
       "           [-1.9627e-05, -4.5269e-04, -1.3713e-03,  ...,  4.2942e-04,\n",
       "             5.2711e-04, -2.8347e-05]]], dtype=torch.float64,\n",
       "         grad_fn=<MulBackward0>),\n",
       "  tensor([[[-2.7203e-05,  8.4240e-06, -3.4782e-05,  ...,  1.0102e-04,\n",
       "             1.0243e-04,  1.5320e-05],\n",
       "           [ 5.3255e-05, -1.1282e-04, -1.8099e-05,  ..., -8.0196e-06,\n",
       "             8.6264e-07, -1.7490e-04],\n",
       "           [-1.4779e-05, -2.4097e-05, -2.4912e-05,  ...,  6.1911e-05,\n",
       "            -9.2176e-05, -2.4219e-06],\n",
       "           ...,\n",
       "           [ 3.7365e-05,  1.6625e-05, -2.2129e-05,  ...,  1.3782e-05,\n",
       "            -2.7430e-05,  5.3127e-06],\n",
       "           [-7.8572e-06,  2.1701e-05,  1.1998e-04,  ...,  1.8683e-04,\n",
       "             1.7404e-04,  2.7351e-04],\n",
       "           [-3.1845e-06, -5.9792e-06,  5.7071e-05,  ..., -1.8280e-05,\n",
       "             4.4566e-06, -1.4495e-05]]], dtype=torch.float64,\n",
       "         grad_fn=<MulBackward0>)],\n",
       " 'conti_attr_list': [tensor([ 0.0208, -0.0632,  0.0375,  0.9890,  0.0591, -0.1120],\n",
       "         dtype=torch.float64),\n",
       "  tensor([-9.9292e-01, -3.7090e-02, -6.2746e-03,  8.2290e-02,  1.5705e-02,\n",
       "          -3.2387e-02, -4.3403e-02,  2.9660e-03,  3.2891e-03, -6.4224e-03,\n",
       "          -4.1860e-03, -9.5232e-03,  2.1676e-02,  3.1528e-04,  9.4652e-03,\n",
       "          -6.1633e-03, -5.8494e-04,  1.6969e-02, -2.4938e-04, -2.7810e-02,\n",
       "          -2.1512e-03,  3.5088e-02, -9.4304e-03, -5.7399e-03, -3.0833e-02],\n",
       "         dtype=torch.float64),\n",
       "  tensor([-0.9707,  0.0684, -0.0078,  0.0027,  0.0673, -0.0234, -0.0067, -0.0057,\n",
       "           0.1070, -0.0057,  0.1409,  0.0373, -0.0229,  0.0193,  0.0058,  0.0193,\n",
       "           0.0257,  0.0074,  0.0390, -0.0933, -0.0344, -0.0447],\n",
       "         dtype=torch.float64),\n",
       "  tensor([-0.8689, -0.2016,  0.4267,  0.0417], dtype=torch.float64),\n",
       "  tensor([ 0.3795, -0.0049, -0.9848, -0.2763,  0.0093,  0.0151, -0.0498, -0.1211,\n",
       "          -0.0074,  0.0603, -0.1593,  0.3601,  0.2325,  0.3655,  0.0558,  0.1000,\n",
       "          -0.0478,  0.1011], dtype=torch.float64),\n",
       "  tensor([ 0.8880, -0.1536,  0.2790, -0.0196,  0.1932,  0.0137,  0.1579, -0.2172],\n",
       "         dtype=torch.float64),\n",
       "  tensor([-0.7580,  0.0937, -0.1023,  0.0739, -0.5198,  0.0129, -0.0063, -0.2871,\n",
       "          -0.1771, -0.0218, -0.0332,  0.0720,  0.0048, -0.0257, -0.0264, -0.0743,\n",
       "          -0.0504, -0.0814,  0.0180, -0.0455], dtype=torch.float64),\n",
       "  tensor([ 0.2146,  0.1240,  0.4721,  0.1133,  0.0764,  0.1176,  0.1736, -0.7890,\n",
       "           0.0560,  0.0147, -0.0823, -0.0069, -0.1045,  0.0204, -0.1054, -0.0411,\n",
       "           0.0297,  0.0023], dtype=torch.float64),\n",
       "  tensor([ 0.4488, -0.0415,  0.5283, -0.0043,  0.0208, -0.6228,  0.0743, -0.2920,\n",
       "           0.0729,  0.0395, -0.1780], dtype=torch.float64),\n",
       "  tensor([-0.8890, -0.1592,  0.4027, -0.1024,  0.0803, -0.0990],\n",
       "         dtype=torch.float64),\n",
       "  tensor([-0.7007,  0.1512, -0.0129,  0.0637, -0.0279, -0.0446, -0.0473,  0.0157,\n",
       "           0.0285, -0.0830, -0.0197, -0.0406, -0.0638,  0.0257, -0.0562, -0.0076,\n",
       "          -0.0183, -0.3605, -0.0834, -0.1746, -0.0366, -0.0452, -0.0345, -0.1376,\n",
       "           0.0248, -0.0348, -0.0276,  0.0301,  0.0020, -0.0970, -0.0816, -0.0825,\n",
       "          -0.1151,  0.0064, -0.0954,  0.0152,  0.0518,  0.3982,  0.0264,  0.1088,\n",
       "           0.0836, -0.0820, -0.0504,  0.1328, -0.0468,  0.0107, -0.0678,  0.0233,\n",
       "           0.0486, -0.0373], dtype=torch.float64),\n",
       "  tensor([-0.0540, -0.4000,  0.1688, -0.0214,  0.7266,  0.2717,  0.4543],\n",
       "         dtype=torch.float64),\n",
       "  tensor([-0.5053,  0.0960, -0.3261, -0.1155, -0.2378, -0.2827,  0.6923],\n",
       "         dtype=torch.float64),\n",
       "  tensor([ 0.0619,  0.9208, -0.3103,  0.2669, -0.0026], dtype=torch.float64),\n",
       "  tensor([-0.7270, -0.7679,  0.0173, -0.0327,  0.0922], dtype=torch.float64),\n",
       "  tensor([-0.1010, -1.2595,  0.1337,  0.0734], dtype=torch.float64),\n",
       "  tensor([-0.8377, -0.1895,  0.0870,  0.1381,  0.4711,  0.1022,  0.0576],\n",
       "         dtype=torch.float64),\n",
       "  tensor([-0.4654,  0.0088, -0.0280,  0.0259,  0.0290,  0.0015,  0.0513,  0.1804,\n",
       "           0.3200,  0.0319, -0.8001,  0.0350, -0.0191,  0.0228, -0.0148],\n",
       "         dtype=torch.float64),\n",
       "  tensor([-0.2332, -0.0023, -0.1645, -0.0577, -0.0137,  0.0099, -0.0386,  0.0072,\n",
       "          -0.0134, -0.2580,  0.0203, -0.0122,  0.0718, -0.1042, -0.0973, -0.0482,\n",
       "          -0.0216, -0.0717, -0.0395,  0.9179,  0.0157, -0.0067, -0.0164,  0.0053,\n",
       "          -0.0229, -0.0414, -0.0282], dtype=torch.float64),\n",
       "  tensor([-0.3768,  0.1579,  0.0653, -0.0592, -0.1655, -0.0481, -0.0623, -0.6517,\n",
       "          -0.0096,  0.2292,  0.1451, -0.0024,  0.0974, -0.2386,  0.1371,  0.0150,\n",
       "           0.0236,  0.0672,  0.1652, -0.0517, -0.2087,  0.0302,  0.0786, -0.0353,\n",
       "          -0.1117, -0.0446,  0.1278,  0.0914,  0.0434, -0.0660,  0.0281,  0.2004,\n",
       "           0.0852, -0.0197,  0.0191, -0.0588], dtype=torch.float64),\n",
       "  tensor([ 0.0906, -0.8512, -0.1423, -0.0316,  0.7527,  0.1639, -0.2387],\n",
       "         dtype=torch.float64),\n",
       "  tensor([-0.4306, -0.0746,  0.0273, -0.0305, -0.0527, -0.3810, -0.1491, -0.0563,\n",
       "          -0.1664, -0.2711, -0.0636, -0.1263,  0.0676, -0.1284,  0.0223, -0.0245,\n",
       "           0.0338,  0.0347, -0.1109,  0.0495, -0.1102, -0.6107, -0.0276,  0.1662],\n",
       "         dtype=torch.float64),\n",
       "  tensor([ 0.0397,  0.3244,  0.5667, -0.0658, -0.0749,  0.0891, -0.1341, -0.3009,\n",
       "          -0.0950,  0.4903,  0.0400, -0.0776], dtype=torch.float64),\n",
       "  tensor([ 0.6870, -0.0921, -0.1013,  0.6509,  0.0976,  0.0961, -0.2584],\n",
       "         dtype=torch.float64),\n",
       "  tensor([-0.2555, -0.0740, -0.0229,  0.0662,  0.1689,  0.1405, -0.6200, -0.5196,\n",
       "           0.4209, -0.0064, -0.1721,  0.0283, -0.0846,  0.0838],\n",
       "         dtype=torch.float64),\n",
       "  tensor([ 0.9079, -0.4362, -0.2207,  0.0380], dtype=torch.float64),\n",
       "  tensor([-0.1344, -0.6998,  0.7609,  0.1455], dtype=torch.float64),\n",
       "  tensor([-9.1847e-01, -1.9432e-02,  3.1308e-02, -1.4388e-02,  1.3936e-01,\n",
       "          -1.1282e-01,  3.1273e-01,  4.5769e-04,  4.8197e-03,  1.1110e-01,\n",
       "          -6.9901e-02, -4.4379e-02, -7.3148e-02,  1.8303e-02],\n",
       "         dtype=torch.float64),\n",
       "  tensor([-0.9761,  0.1372,  0.0509, -0.0977], dtype=torch.float64),\n",
       "  tensor([-0.9346, -0.0680, -0.0385, -0.1599,  0.3079], dtype=torch.float64),\n",
       "  tensor([ 0.5305, -0.0252,  0.1456, -0.0943,  0.0717, -0.1717, -0.2712, -0.1993,\n",
       "           0.0305, -0.4264, -0.1860,  0.0502, -0.1091,  0.1618, -0.0084, -0.0476,\n",
       "           0.0178,  0.0834,  0.0774,  0.0801,  0.0924,  0.1332, -0.0528,  0.0451,\n",
       "          -0.8104, -0.0185, -0.0667,  0.0114], dtype=torch.float64),\n",
       "  tensor([-0.8887, -0.0904, -0.0678, -0.3847, -0.0124,  0.0177,  0.1271,  0.0428,\n",
       "          -0.0973,  0.0618,  0.0835, -0.0114, -0.0328], dtype=torch.float64),\n",
       "  tensor([-0.9676,  0.2309,  0.0805,  0.0720, -0.1038, -0.0478],\n",
       "         dtype=torch.float64),\n",
       "  tensor([-6.1024e-01,  1.0714e-01, -1.9618e-02,  2.4715e-02,  3.2091e-03,\n",
       "           2.0725e-01, -5.5785e-01, -6.9951e-02, -4.0333e-02,  2.4242e-01,\n",
       "          -4.0257e-01, -8.6979e-05, -1.8875e-01], dtype=torch.float64),\n",
       "  tensor([-0.9902, -0.0111, -0.0082,  0.0257, -0.0133, -0.0149, -0.0468, -0.0911,\n",
       "          -0.0292, -0.0610, -0.0406, -0.0393], dtype=torch.float64),\n",
       "  tensor([-0.7235,  0.0107,  0.1422,  0.0532, -0.5884, -0.2868, -0.1534,  0.0293,\n",
       "           0.0612], dtype=torch.float64),\n",
       "  tensor([-0.9894, -0.0543, -0.0179,  0.0250,  0.0490,  0.0140, -0.0036,  0.0823,\n",
       "          -0.0197, -0.0086,  0.0116, -0.0052, -0.0205, -0.0403,  0.0102, -0.0357,\n",
       "           0.0158,  0.0113, -0.0100,  0.0442, -0.0036, -0.0266, -0.0088, -0.0241],\n",
       "         dtype=torch.float64),\n",
       "  tensor([ 0.7634,  0.0330, -0.0024,  0.1267,  0.4535,  0.0174, -0.0222, -0.2662,\n",
       "          -0.0066,  0.0318,  0.0232, -0.0199,  0.0143, -0.1106, -0.0487,  0.0510,\n",
       "           0.3232, -0.0307,  0.0166, -0.0022], dtype=torch.float64),\n",
       "  tensor([ 0.0429, -0.0865, -0.0917, -0.0235, -0.1069,  0.9605,  0.2045,  0.0640,\n",
       "          -0.0425], dtype=torch.float64),\n",
       "  tensor([-0.9661, -0.0236,  0.1153,  0.0784,  0.0401,  0.0181,  0.0027,  0.0117,\n",
       "          -0.0092, -0.0079, -0.0282, -0.0168, -0.0311, -0.1259, -0.0098, -0.0628,\n",
       "          -0.0219,  0.0233, -0.0160,  0.0010,  0.0043, -0.0372],\n",
       "         dtype=torch.float64),\n",
       "  tensor([-0.8388,  0.1322,  0.5102,  0.0685,  0.0391,  0.1114],\n",
       "         dtype=torch.float64),\n",
       "  tensor([ 0.9096, -0.1124,  0.0943,  0.3930], dtype=torch.float64),\n",
       "  tensor([-0.9776,  0.0061, -0.0518, -0.0782, -0.0031,  0.0912, -0.0033, -0.0013,\n",
       "           0.0083,  0.0014,  0.1192,  0.0365,  0.0506,  0.0543, -0.0200,  0.0193,\n",
       "           0.0433,  0.0077, -0.0062,  0.0084,  0.0108,  0.0133,  0.0262,  0.0185,\n",
       "          -0.0136], dtype=torch.float64),\n",
       "  tensor([ 0.9887, -0.0082, -0.0442,  0.0646,  0.0090,  0.0090, -0.1116, -0.0149,\n",
       "           0.0112, -0.0364, -0.0145,  0.0306,  0.0096], dtype=torch.float64),\n",
       "  tensor([ 0.5761, -0.3417,  0.1649, -0.0962, -0.4046,  0.0538, -0.1352, -0.5334,\n",
       "          -0.0663,  0.1982, -0.0480,  0.1287,  0.1982], dtype=torch.float64),\n",
       "  tensor([-0.3420, -0.0613,  0.7423,  0.4790,  0.0286, -0.3133],\n",
       "         dtype=torch.float64),\n",
       "  tensor([ 0.3845,  0.1154, -0.8673,  0.2379,  0.1873,  0.1088,  0.0403],\n",
       "         dtype=torch.float64),\n",
       "  tensor([ 0.0238,  0.9449, -0.0538, -0.2355], dtype=torch.float64),\n",
       "  tensor([ 9.7352e-01,  4.9277e-05,  3.1614e-03,  2.3217e-02,  7.8214e-03,\n",
       "           7.2830e-03, -1.9856e-01, -4.6910e-03,  9.5937e-03, -3.4112e-03,\n",
       "          -9.2528e-03,  4.8079e-03, -1.6083e-02,  1.7050e-03, -6.5851e-03,\n",
       "          -3.3332e-03, -1.0067e-01, -1.6945e-02, -2.0821e-04, -6.8632e-03,\n",
       "          -1.6640e-02, -6.7568e-03, -6.5867e-03, -3.9042e-03,  5.8801e-03,\n",
       "           4.5482e-03,  2.6398e-02, -4.2800e-03], dtype=torch.float64),\n",
       "  tensor([-0.6636, -0.4072, -0.0812,  0.4351,  0.2528,  0.3053,  0.1947],\n",
       "         dtype=torch.float64),\n",
       "  tensor([ 0.1694,  0.0491,  0.0483, -0.0067,  0.0231, -0.0937, -0.9251, -0.0382,\n",
       "          -0.0205, -0.0074,  0.0152,  0.0257, -0.1645, -0.1529,  0.2153, -0.0415],\n",
       "         dtype=torch.float64),\n",
       "  tensor([ 0.1587, -0.0096, -0.1281, -0.1955, -0.0696, -0.3039,  0.2509, -0.6957,\n",
       "           0.3100, -0.0105, -0.3297,  0.1284, -0.2621,  0.0652, -0.0052,  0.0299],\n",
       "         dtype=torch.float64),\n",
       "  tensor([-8.2320e-01,  1.9123e-02, -2.5402e-03, -9.1279e-02,  4.2297e-04,\n",
       "          -2.4884e-02, -8.8054e-03,  2.1991e-01,  9.5320e-02,  8.2462e-02,\n",
       "          -1.3640e-01, -2.4178e-02, -5.2541e-01, -3.9271e-02, -9.8411e-02,\n",
       "           4.8767e-02,  1.1024e-02, -7.0062e-02], dtype=torch.float64),\n",
       "  tensor([-0.9458, -0.3467, -0.0217, -0.2071,  0.0365], dtype=torch.float64),\n",
       "  tensor([-0.8703,  0.0864,  0.0150,  0.4273,  0.0429, -0.0500,  0.0493],\n",
       "         dtype=torch.float64),\n",
       "  tensor([-0.0381,  0.6014,  0.6764,  0.3649,  0.2149], dtype=torch.float64),\n",
       "  tensor([-0.9875, -0.0413,  0.0536,  0.0571,  0.1166, -0.0582],\n",
       "         dtype=torch.float64),\n",
       "  tensor([ 0.2062,  0.1446, -0.1970,  0.0074, -0.0198, -0.4462,  0.1652, -0.0155,\n",
       "          -0.2917,  0.0854,  0.2061,  0.0103, -0.1713, -0.0649, -0.3604, -0.0503,\n",
       "           0.2061,  0.0117, -0.2433, -0.1740,  0.0062,  0.0788,  0.0217,  0.1862],\n",
       "         dtype=torch.float64),\n",
       "  tensor([ 0.1286, -0.4477, -0.7291, -0.0607,  0.0938, -0.1777],\n",
       "         dtype=torch.float64),\n",
       "  tensor([ 0.6982, -0.5572,  0.4153,  0.2969], dtype=torch.float64),\n",
       "  tensor([-9.1922e-01, -3.0404e-02, -4.3514e-02, -4.2888e-02, -8.8895e-03,\n",
       "           4.3096e-02, -2.1714e-01, -3.5658e-03, -6.2204e-04,  2.2166e-03,\n",
       "          -1.0116e-01, -3.4082e-02,  7.0362e-02,  5.8548e-02,  3.2852e-03,\n",
       "           1.1501e-01, -2.5390e-02,  5.7501e-03, -1.9924e-02, -2.9166e-02,\n",
       "          -7.8467e-02,  1.5620e-01,  2.9629e-02,  8.8645e-03, -7.1054e-03,\n",
       "          -2.1659e-01,  3.8046e-02], dtype=torch.float64),\n",
       "  tensor([ 0.4512, -0.0608, -0.1089,  0.9283,  0.0315,  0.1179],\n",
       "         dtype=torch.float64),\n",
       "  tensor([-0.4223,  0.0579, -0.3965, -0.2302,  0.0590, -0.2544, -0.1625,  0.1407,\n",
       "          -0.1974, -0.5586, -0.0167, -0.3895], dtype=torch.float64),\n",
       "  tensor([ 0.8557, -0.0209, -0.0016,  0.0579, -0.0622, -0.0568, -0.1206, -0.1395,\n",
       "          -0.0119,  0.3069,  0.0246, -0.0193, -0.0039, -0.0515, -0.3449, -0.0589,\n",
       "           0.0049, -0.0400,  0.0324, -0.0231], dtype=torch.float64),\n",
       "  tensor([ 0.9589,  0.0316, -0.0495, -0.0262, -0.0089,  0.0247,  0.0708,  0.0207,\n",
       "           0.0245,  0.0300, -0.2447, -0.0111,  0.0313,  0.0884],\n",
       "         dtype=torch.float64),\n",
       "  tensor([-0.3825,  0.0320,  0.3454,  0.3500, -0.2801, -0.1422, -0.0528,  0.0100,\n",
       "           0.0567, -0.0394, -0.0238, -0.0783, -0.1495, -0.0855,  0.0475, -0.1023,\n",
       "          -0.0250,  0.0208,  0.1889, -0.3001, -0.0907,  0.1766, -0.0666, -0.0177,\n",
       "          -0.1152, -0.4243], dtype=torch.float64),\n",
       "  tensor([-0.6647,  0.1465,  0.0423, -0.3563, -0.4838, -0.3968, -0.1287],\n",
       "         dtype=torch.float64),\n",
       "  tensor([-0.3871, -0.0484,  0.0776,  0.1469, -0.1984, -0.0841, -0.0428, -0.0857,\n",
       "          -0.0835,  0.0870,  0.1871,  0.0142,  0.3114,  0.0758,  0.0739, -0.1333,\n",
       "          -0.5676,  0.1969,  0.2591, -0.0298,  0.2026, -0.1183, -0.0417, -0.0528,\n",
       "           0.0176, -0.3146, -0.0289, -0.0165, -0.0968], dtype=torch.float64),\n",
       "  tensor([-0.4540, -0.6503,  0.1615, -0.0578,  0.1605, -0.0304],\n",
       "         dtype=torch.float64),\n",
       "  tensor([-0.8818,  0.0073,  0.4581,  0.0939, -0.3190,  0.0592, -0.0576],\n",
       "         dtype=torch.float64),\n",
       "  tensor([-0.9581,  0.0736, -0.0111, -0.0189,  0.1586, -0.0868, -0.2083],\n",
       "         dtype=torch.float64),\n",
       "  tensor([-0.8912, -0.0723, -0.3569, -0.0271, -0.0275, -0.0985, -0.1002,  0.1564],\n",
       "         dtype=torch.float64),\n",
       "  tensor([ 0.6875,  0.7599, -0.3129, -0.1325], dtype=torch.float64),\n",
       "  tensor([-0.9956, -0.0455, -0.0589, -0.0048,  0.0447,  0.0065, -0.0068],\n",
       "         dtype=torch.float64),\n",
       "  tensor([-0.9128, -0.0628,  0.2245,  0.2757, -0.1785], dtype=torch.float64),\n",
       "  tensor([-0.9785, -0.0401, -0.0558,  0.0198,  0.0165,  0.0473,  0.0501, -0.0490,\n",
       "          -0.0077, -0.0322,  0.0306, -0.0500, -0.0056, -0.0837, -0.0840, -0.0598,\n",
       "           0.0405, -0.0095,  0.0115, -0.0771], dtype=torch.float64),\n",
       "  tensor([-0.6812,  0.0616,  0.6984, -0.0892,  0.1907], dtype=torch.float64),\n",
       "  tensor([ 0.1389, -0.2806, -0.7439, -0.0046, -0.0982, -0.2117,  0.3710,  0.0124,\n",
       "          -0.2098, -0.3191,  0.0802,  0.1594,  0.0228], dtype=torch.float64),\n",
       "  tensor([-0.9112, -0.0694,  0.1953,  0.2495,  0.0019, -0.0147],\n",
       "         dtype=torch.float64),\n",
       "  tensor([-0.9325, -0.0811,  0.0345, -0.2384,  0.1748, -0.0782,  0.1747,  0.0270,\n",
       "           0.0733,  0.0447,  0.0229], dtype=torch.float64),\n",
       "  tensor([-0.8102,  0.2329, -0.0876, -0.0919,  0.0215,  0.0240, -0.4372, -0.1362,\n",
       "           0.0172,  0.2809,  0.1033, -0.1862], dtype=torch.float64),\n",
       "  tensor([ 0.3258,  0.4061, -0.2080,  0.0928,  0.8995, -0.6803, -0.0051, -0.0590],\n",
       "         dtype=torch.float64),\n",
       "  tensor([-9.7439e-01,  1.7908e-02, -2.9942e-03,  1.1978e-03, -1.6816e-01,\n",
       "          -7.4557e-04,  5.8555e-02,  6.6268e-03, -1.2623e-02, -8.2893e-03,\n",
       "          -1.3714e-02, -9.9091e-02,  2.1554e-02, -6.5493e-03, -1.5123e-02,\n",
       "          -3.3864e-02], dtype=torch.float64),\n",
       "  tensor([-0.9691,  0.0594,  0.0843,  0.0553, -0.0117,  0.0198, -0.1227,  0.0318,\n",
       "           0.0324, -0.0158,  0.0142, -0.0107,  0.0455,  0.0636, -0.0340,  0.0038,\n",
       "          -0.1405, -0.0448], dtype=torch.float64),\n",
       "  tensor([ 0.3763, -0.3403,  0.6429, -0.0728, -0.0476, -0.1567, -0.1550, -0.0664,\n",
       "           0.0949,  0.0057,  0.0210,  0.1570,  0.0905,  0.1311, -0.0262,  0.1295,\n",
       "          -0.0390, -0.4041, -0.0090, -0.1046,  0.0068,  0.0510],\n",
       "         dtype=torch.float64),\n",
       "  tensor([-9.9707e-01,  5.8794e-03,  2.9404e-02,  3.8204e-02, -2.2486e-03,\n",
       "          -3.6569e-02,  3.1291e-03,  2.3956e-02,  1.4421e-02, -4.7670e-03,\n",
       "          -5.3885e-03, -1.2031e-03, -1.6928e-02, -2.8752e-03,  1.2881e-02,\n",
       "          -4.0628e-03, -8.3184e-03,  1.1683e-02,  2.1564e-03,  8.7994e-04,\n",
       "           1.4337e-04, -2.1200e-02], dtype=torch.float64),\n",
       "  tensor([ 0.9721,  0.0134,  0.2173,  0.0847,  0.1229, -0.0730,  0.0059, -0.0276,\n",
       "           0.0862,  0.0242], dtype=torch.float64),\n",
       "  tensor([-0.8923,  0.3740,  0.1015, -0.0499], dtype=torch.float64),\n",
       "  tensor([ 0.9868, -0.0570,  0.1117,  0.0570,  0.0942], dtype=torch.float64),\n",
       "  tensor([ 0.1248,  0.9432,  0.2147,  0.0767, -0.1340, -0.0492, -0.0499, -0.0609,\n",
       "          -0.0101, -0.0080,  0.0362], dtype=torch.float64),\n",
       "  tensor([ 0.7313,  0.4524,  0.1711, -0.0193, -0.2667, -0.0583, -0.3077, -0.0594,\n",
       "          -0.0408, -0.1456,  0.0389,  0.0299,  0.0022,  0.0555, -0.0034,  0.0196,\n",
       "          -0.0193, -0.1463, -0.0627,  0.0672,  0.0110,  0.0510, -0.1292,  0.1104,\n",
       "           0.0622,  0.0256], dtype=torch.float64),\n",
       "  tensor([ 9.5733e-01,  3.0418e-02,  6.4297e-02, -3.5721e-03, -5.6065e-02,\n",
       "           6.8593e-05,  3.7851e-02,  6.6686e-02, -9.9288e-03, -4.2896e-02,\n",
       "           3.0419e-02, -2.6512e-02, -1.1589e-01, -2.3533e-02, -4.9883e-02,\n",
       "          -4.5159e-02, -1.9445e-02, -2.2698e-02,  1.9620e-02, -5.2177e-02,\n",
       "          -5.2647e-02, -4.4697e-02, -9.9581e-02, -4.6042e-02, -3.1145e-02,\n",
       "          -4.6554e-02,  3.3904e-02,  1.3719e-02, -2.1920e-02, -1.3600e-01,\n",
       "          -5.1732e-02, -5.9957e-02,  1.7260e-02,  1.8570e-02, -1.0788e-03,\n",
       "           4.1487e-02,  1.0381e-02], dtype=torch.float64),\n",
       "  tensor([ 0.9037, -0.1136,  0.4033, -0.0477,  0.0162,  0.0719],\n",
       "         dtype=torch.float64),\n",
       "  tensor([-0.3762, -0.3805, -0.3031,  0.0410,  0.1207,  0.0730, -0.0273,  0.4311,\n",
       "          -0.0353, -0.0742,  0.1374,  0.0018], dtype=torch.float64),\n",
       "  tensor([ 0.8181,  0.0852,  0.0543, -0.0212,  0.5289,  0.2007],\n",
       "         dtype=torch.float64),\n",
       "  tensor([-9.6664e-01, -7.9886e-03,  2.5754e-02,  6.6978e-02, -1.5111e-02,\n",
       "          -7.5886e-02, -4.6187e-02, -1.0068e-02,  8.6674e-02, -3.9068e-02,\n",
       "          -2.1732e-02, -7.0167e-02,  1.0228e-02, -1.2687e-02, -2.5543e-02,\n",
       "          -2.0173e-02, -1.9528e-02, -1.0252e-02,  2.3249e-02, -4.1543e-04,\n",
       "          -2.9633e-02, -1.6303e-02, -3.2750e-02,  1.7492e-02, -1.2799e-02,\n",
       "           8.9101e-02, -1.6563e-02, -5.7245e-03,  9.5015e-04, -2.3000e-03,\n",
       "          -9.4491e-03,  4.1272e-03,  1.0325e-02,  9.2782e-02, -4.2453e-02,\n",
       "          -5.7580e-02, -8.0562e-03, -4.0340e-02, -2.6678e-02,  1.9886e-02,\n",
       "           2.8448e-03, -2.3464e-02, -8.3361e-02], dtype=torch.float64),\n",
       "  tensor([-0.7825, -0.0375, -0.2964, -0.0428, -0.2779,  0.1400,  0.0609, -0.0403,\n",
       "           0.0721, -0.1302, -0.2741, -0.0614, -0.0460, -0.0996,  0.0857,  0.0052],\n",
       "         dtype=torch.float64),\n",
       "  tensor([0.1258, 0.2074, 0.6191, 0.6123, 0.1762, 0.3897], dtype=torch.float64),\n",
       "  tensor([ 0.3351, -0.7891,  0.1692, -0.7872, -0.1021,  0.0402],\n",
       "         dtype=torch.float64),\n",
       "  tensor([-0.8641, -0.1044, -0.1889, -0.0290, -0.0197, -0.3294, -0.1260,  0.1720,\n",
       "           0.1107, -0.0442,  0.1869, -0.0491], dtype=torch.float64)],\n",
       " 'raw_input_list': [['<s>', 'against', 'all', 'odds', '', '</s>'],\n",
       "  ['<s>',\n",
       "   'i',\n",
       "   'had',\n",
       "   'a',\n",
       "   'dream',\n",
       "   'that',\n",
       "   'a',\n",
       "   'smart',\n",
       "   'comedy',\n",
       "   'would',\n",
       "   'come',\n",
       "   'along',\n",
       "   'to',\n",
       "   'rescue',\n",
       "   'me',\n",
       "   'from',\n",
       "   'a',\n",
       "   'summer',\n",
       "   'of',\n",
       "   'teen-driven',\n",
       "   ',',\n",
       "   'toilet-humor',\n",
       "   'codswallop',\n",
       "   '',\n",
       "   '</s>'],\n",
       "  ['<s>',\n",
       "   'he',\n",
       "   'makes',\n",
       "   'sure',\n",
       "   'the',\n",
       "   'salton',\n",
       "   'sea',\n",
       "   'works',\n",
       "   'the',\n",
       "   'way',\n",
       "   'a',\n",
       "   'good',\n",
       "   'noir',\n",
       "   'should',\n",
       "   ',',\n",
       "   'keeping',\n",
       "   'it',\n",
       "   'tight',\n",
       "   'and',\n",
       "   'nasty',\n",
       "   '',\n",
       "   '</s>'],\n",
       "  ['<s>', 'suicidal', '', '</s>'],\n",
       "  ['<s>',\n",
       "   'is',\n",
       "   'leguizamo',\n",
       "   \"'s\",\n",
       "   'best',\n",
       "   'movie',\n",
       "   'work',\n",
       "   'so',\n",
       "   'far',\n",
       "   ',',\n",
       "   'a',\n",
       "   'subtle',\n",
       "   'and',\n",
       "   'richly',\n",
       "   'internalized',\n",
       "   'performance',\n",
       "   '',\n",
       "   '</s>'],\n",
       "  ['<s>', \"'ll\", 'enjoy', 'this', 'movie', '.', '', '</s>'],\n",
       "  ['<s>',\n",
       "   'is',\n",
       "   'worse',\n",
       "   ':',\n",
       "   'the',\n",
       "   'part',\n",
       "   'where',\n",
       "   'nothing',\n",
       "   \"'s\",\n",
       "   'happening',\n",
       "   ',',\n",
       "   'or',\n",
       "   'the',\n",
       "   'part',\n",
       "   'where',\n",
       "   'something',\n",
       "   \"'s\",\n",
       "   'happening',\n",
       "   '',\n",
       "   '</s>'],\n",
       "  ['<s>',\n",
       "   'finds',\n",
       "   'the',\n",
       "   'ideal',\n",
       "   'outlet',\n",
       "   'for',\n",
       "   'his',\n",
       "   'flick-knife',\n",
       "   'diction',\n",
       "   'in',\n",
       "   'the',\n",
       "   'role',\n",
       "   'of',\n",
       "   'roger',\n",
       "   'swanson',\n",
       "   '.',\n",
       "   '',\n",
       "   '</s>'],\n",
       "  ['<s>', 'the', 'best', 'film', 'of', 'the', 'year', '2002', '.', '', '</s>'],\n",
       "  ['<s>', 'watch', ',', 'giggle', '', '</s>'],\n",
       "  ['<s>',\n",
       "   'should',\n",
       "   'jolt',\n",
       "   'you',\n",
       "   'out',\n",
       "   'of',\n",
       "   'your',\n",
       "   'seat',\n",
       "   'a',\n",
       "   'couple',\n",
       "   'of',\n",
       "   'times',\n",
       "   ',',\n",
       "   'give',\n",
       "   'you',\n",
       "   'a',\n",
       "   'few',\n",
       "   'laughs',\n",
       "   ',',\n",
       "   'and',\n",
       "   'leave',\n",
       "   'you',\n",
       "   'feeling',\n",
       "   'like',\n",
       "   'it',\n",
       "   'was',\n",
       "   'worth',\n",
       "   'your',\n",
       "   'seven',\n",
       "   'bucks',\n",
       "   ',',\n",
       "   'even',\n",
       "   'though',\n",
       "   'it',\n",
       "   'does',\n",
       "   'turn',\n",
       "   'out',\n",
       "   'to',\n",
       "   'be',\n",
       "   'a',\n",
       "   'bit',\n",
       "   'of',\n",
       "   'a',\n",
       "   'cheat',\n",
       "   'in',\n",
       "   'the',\n",
       "   'end',\n",
       "   '.',\n",
       "   '',\n",
       "   '</s>'],\n",
       "  ['<s>', 'a', 'pretty', 'good', 'job', '', '</s>'],\n",
       "  ['<s>', 'more', 'psychotic', 'than', 'romantic', '', '</s>'],\n",
       "  ['<s>', 'being', 'gullible', '', '</s>'],\n",
       "  ['<s>', 'teen-sleaze', 'equivalent', '', '</s>'],\n",
       "  ['<s>', 'symbolic', '', '</s>'],\n",
       "  ['<s>', 'a', 'sense', 'of', 'action', '', '</s>'],\n",
       "  ['<s>',\n",
       "   ',',\n",
       "   'overnight',\n",
       "   ',',\n",
       "   'is',\n",
       "   'robbed',\n",
       "   'and',\n",
       "   'replaced',\n",
       "   'with',\n",
       "   'a',\n",
       "   'persecuted',\n",
       "   '``',\n",
       "   'other',\n",
       "   '',\n",
       "   '</s>'],\n",
       "  ['<s>',\n",
       "   'conjure',\n",
       "   'proper',\n",
       "   'respect',\n",
       "   'for',\n",
       "   'followers',\n",
       "   'of',\n",
       "   'the',\n",
       "   'whole',\n",
       "   'dead-undead',\n",
       "   'genre',\n",
       "   ',',\n",
       "   'who',\n",
       "   'deserve',\n",
       "   'more',\n",
       "   'from',\n",
       "   'a',\n",
       "   'vampire',\n",
       "   'pic',\n",
       "   'than',\n",
       "   'a',\n",
       "   'few',\n",
       "   'shrieky',\n",
       "   'special',\n",
       "   'effects',\n",
       "   '',\n",
       "   '</s>'],\n",
       "  ['<s>',\n",
       "   'our',\n",
       "   'culture',\n",
       "   'is',\n",
       "   'headed',\n",
       "   'down',\n",
       "   'the',\n",
       "   'toilet',\n",
       "   'with',\n",
       "   'the',\n",
       "   'ferocity',\n",
       "   'of',\n",
       "   'a',\n",
       "   'frozen',\n",
       "   'burrito',\n",
       "   'after',\n",
       "   'an',\n",
       "   'all-night',\n",
       "   'tequila',\n",
       "   'bender',\n",
       "   '--',\n",
       "   'and',\n",
       "   'i',\n",
       "   'know',\n",
       "   'this',\n",
       "   'because',\n",
       "   'i',\n",
       "   \"'ve\",\n",
       "   'seen',\n",
       "   '`',\n",
       "   'jackass',\n",
       "   ':',\n",
       "   'the',\n",
       "   'movie',\n",
       "   '',\n",
       "   '</s>'],\n",
       "  ['<s>', \"'s\", 'all', 'surface', 'psychodramatics', '', '</s>'],\n",
       "  ['<s>',\n",
       "   'a',\n",
       "   'beautiful',\n",
       "   'food',\n",
       "   'entrÃ©e',\n",
       "   'that',\n",
       "   'is',\n",
       "   \"n't\",\n",
       "   'heated',\n",
       "   'properly',\n",
       "   ',',\n",
       "   'so',\n",
       "   'that',\n",
       "   'it',\n",
       "   'ends',\n",
       "   'up',\n",
       "   'a',\n",
       "   'bit',\n",
       "   'cold',\n",
       "   'and',\n",
       "   'relatively',\n",
       "   'flavorless',\n",
       "   '',\n",
       "   '</s>'],\n",
       "  ['<s>',\n",
       "   'never',\n",
       "   'mind',\n",
       "   'all',\n",
       "   'that',\n",
       "   ';',\n",
       "   'the',\n",
       "   'boobs',\n",
       "   'are',\n",
       "   'fantasti',\n",
       "   '',\n",
       "   '</s>'],\n",
       "  ['<s>', 'possibly', 'will', 'enjoy', 'it', '', '</s>'],\n",
       "  ['<s>',\n",
       "   'to',\n",
       "   'give',\n",
       "   'them',\n",
       "   'credit',\n",
       "   'for',\n",
       "   ':',\n",
       "   'the',\n",
       "   'message',\n",
       "   'of',\n",
       "   'the',\n",
       "   'movie',\n",
       "   '',\n",
       "   '</s>'],\n",
       "  ['<s>', 'dudsville', '', '</s>'],\n",
       "  ['<s>', 'unadorned', '', '</s>'],\n",
       "  ['<s>',\n",
       "   'if',\n",
       "   'you',\n",
       "   'give',\n",
       "   'a',\n",
       "   'filmmaker',\n",
       "   'an',\n",
       "   'unlimited',\n",
       "   'amount',\n",
       "   'of',\n",
       "   'phony',\n",
       "   'blood',\n",
       "   '',\n",
       "   '</s>'],\n",
       "  ['<s>', 'absurdity', '', '</s>'],\n",
       "  ['<s>', 'an', 'unforgettable', '', '</s>'],\n",
       "  ['<s>',\n",
       "   '(',\n",
       "   'rises',\n",
       "   ')',\n",
       "   'above',\n",
       "   'its',\n",
       "   'oh-so-hollywood',\n",
       "   'rejiggering',\n",
       "   'and',\n",
       "   'its',\n",
       "   'conventional',\n",
       "   'direction',\n",
       "   'to',\n",
       "   'give',\n",
       "   'the',\n",
       "   'film',\n",
       "   'a',\n",
       "   'soul',\n",
       "   'and',\n",
       "   'an',\n",
       "   'unabashed',\n",
       "   'sense',\n",
       "   'of',\n",
       "   'good',\n",
       "   'old-fashioned',\n",
       "   'escapism',\n",
       "   '',\n",
       "   '</s>'],\n",
       "  ['<s>',\n",
       "   'the',\n",
       "   'mothman',\n",
       "   'prophecies',\n",
       "   ',',\n",
       "   'which',\n",
       "   'is',\n",
       "   'mostly',\n",
       "   'a',\n",
       "   'bore',\n",
       "   ',',\n",
       "   '',\n",
       "   '</s>'],\n",
       "  ['<s>', 'regardless', 'of', 'race', '', '</s>'],\n",
       "  ['<s>',\n",
       "   'have',\n",
       "   \"n't\",\n",
       "   'seen',\n",
       "   'such',\n",
       "   'self-amused',\n",
       "   'trash',\n",
       "   'since',\n",
       "   'freddy',\n",
       "   'got',\n",
       "   'fingered',\n",
       "   '',\n",
       "   '</s>'],\n",
       "  ['<s>',\n",
       "   'to',\n",
       "   'let',\n",
       "   'this',\n",
       "   'morph',\n",
       "   'into',\n",
       "   'a',\n",
       "   'typical',\n",
       "   'romantic',\n",
       "   'triangle',\n",
       "   '',\n",
       "   '</s>'],\n",
       "  ['<s>', 'the', 'hurried', ',', 'badly', 'cobbled', 'look', '', '</s>'],\n",
       "  ['<s>',\n",
       "   'i',\n",
       "   'heard',\n",
       "   'a',\n",
       "   'mysterious',\n",
       "   'voice',\n",
       "   ',',\n",
       "   'and',\n",
       "   'felt',\n",
       "   'myself',\n",
       "   'powerfully',\n",
       "   'drawn',\n",
       "   'toward',\n",
       "   'the',\n",
       "   'light',\n",
       "   '--',\n",
       "   'the',\n",
       "   'light',\n",
       "   'of',\n",
       "   'the',\n",
       "   'exit',\n",
       "   'sign',\n",
       "   '',\n",
       "   '</s>'],\n",
       "  ['<s>',\n",
       "   'would',\n",
       "   'take',\n",
       "   'a',\n",
       "   'complete',\n",
       "   'moron',\n",
       "   'to',\n",
       "   'foul',\n",
       "   'up',\n",
       "   'a',\n",
       "   'screen',\n",
       "   'adaptation',\n",
       "   'of',\n",
       "   'oscar',\n",
       "   'wilde',\n",
       "   \"'s\",\n",
       "   'classic',\n",
       "   'satire',\n",
       "   '',\n",
       "   '</s>'],\n",
       "  ['<s>', \"'s\", 'never', 'too', 'late', 'to', 'learn', '', '</s>'],\n",
       "  ['<s>',\n",
       "   'about',\n",
       "   'the',\n",
       "   'best',\n",
       "   'thing',\n",
       "   'you',\n",
       "   'could',\n",
       "   'say',\n",
       "   'about',\n",
       "   'narc',\n",
       "   'is',\n",
       "   'that',\n",
       "   'it',\n",
       "   \"'s\",\n",
       "   'a',\n",
       "   'rock-solid',\n",
       "   'little',\n",
       "   'genre',\n",
       "   'picture',\n",
       "   '.',\n",
       "   '',\n",
       "   '</s>'],\n",
       "  ['<s>', 'come', 'to', 'earth', '', '</s>'],\n",
       "  ['<s>', 'believability', '', '</s>'],\n",
       "  ['<s>',\n",
       "   'an',\n",
       "   'action/thriller',\n",
       "   'of',\n",
       "   'the',\n",
       "   'finest',\n",
       "   'kind',\n",
       "   ',',\n",
       "   'evoking',\n",
       "   'memories',\n",
       "   'of',\n",
       "   'day',\n",
       "   'of',\n",
       "   'the',\n",
       "   'jackal',\n",
       "   ',',\n",
       "   'the',\n",
       "   'french',\n",
       "   'connection',\n",
       "   ',',\n",
       "   'and',\n",
       "   'heat',\n",
       "   '.',\n",
       "   '',\n",
       "   '</s>'],\n",
       "  ['<s>',\n",
       "   'breaks',\n",
       "   'the',\n",
       "   'mood',\n",
       "   'with',\n",
       "   'absurdly',\n",
       "   'inappropriate',\n",
       "   '`',\n",
       "   'comedy',\n",
       "   \"'\",\n",
       "   'scenes',\n",
       "   '',\n",
       "   '</s>'],\n",
       "  ['<s>',\n",
       "   'sits',\n",
       "   'there',\n",
       "   'like',\n",
       "   'a',\n",
       "   'side',\n",
       "   'dish',\n",
       "   'no',\n",
       "   'one',\n",
       "   'ordered',\n",
       "   '.',\n",
       "   '',\n",
       "   '</s>'],\n",
       "  ['<s>', 'and', 'twisted', 'characters', '', '</s>'],\n",
       "  ['<s>', 'are', 'simply', 'intoxicating', '.', '', '</s>'],\n",
       "  ['<s>', 'shrek', '', '</s>'],\n",
       "  ['<s>',\n",
       "   \"'s\",\n",
       "   'notably',\n",
       "   'better',\n",
       "   'acted',\n",
       "   '--',\n",
       "   'and',\n",
       "   'far',\n",
       "   'less',\n",
       "   'crass',\n",
       "   '-',\n",
       "   'than',\n",
       "   'some',\n",
       "   'other',\n",
       "   'recent',\n",
       "   'efforts',\n",
       "   'in',\n",
       "   'the',\n",
       "   'burgeoning',\n",
       "   'genre',\n",
       "   'of',\n",
       "   'films',\n",
       "   'about',\n",
       "   'black',\n",
       "   'urban',\n",
       "   'professionals',\n",
       "   '',\n",
       "   '</s>'],\n",
       "  ['<s>', 'in', 'freshening', 'the', 'play', '', '</s>'],\n",
       "  ['<s>',\n",
       "   'a',\n",
       "   'bore',\n",
       "   'that',\n",
       "   'tends',\n",
       "   'to',\n",
       "   'hammer',\n",
       "   'home',\n",
       "   'every',\n",
       "   'one',\n",
       "   'of',\n",
       "   'its',\n",
       "   'points',\n",
       "   '.',\n",
       "   '',\n",
       "   '</s>'],\n",
       "  ['<s>',\n",
       "   'the',\n",
       "   'images',\n",
       "   'often',\n",
       "   'look',\n",
       "   'smeary',\n",
       "   'and',\n",
       "   'blurry',\n",
       "   ',',\n",
       "   'to',\n",
       "   'the',\n",
       "   'point',\n",
       "   'of',\n",
       "   'distraction',\n",
       "   '',\n",
       "   '</s>'],\n",
       "  ['<s>',\n",
       "   'than',\n",
       "   'sketches',\n",
       "   '...',\n",
       "   'which',\n",
       "   'leaves',\n",
       "   'any',\n",
       "   'true',\n",
       "   'emotional',\n",
       "   'connection',\n",
       "   'or',\n",
       "   'identification',\n",
       "   'frustratingly',\n",
       "   'out',\n",
       "   'of',\n",
       "   'reach',\n",
       "   '',\n",
       "   '</s>'],\n",
       "  ['<s>', 'stirs', 'us', '', '</s>'],\n",
       "  ['<s>', 'it', \"'s\", 'funny', '.', '', '</s>'],\n",
       "  ['<s>', 'given', 'up', '', '</s>'],\n",
       "  ['<s>', 'no', 'way', 'original', '', '</s>'],\n",
       "  ['<s>',\n",
       "   'together',\n",
       "   '(',\n",
       "   'time',\n",
       "   'out',\n",
       "   'and',\n",
       "   'human',\n",
       "   'resources',\n",
       "   ')',\n",
       "   'establish',\n",
       "   'mr.',\n",
       "   'cantet',\n",
       "   'as',\n",
       "   'france',\n",
       "   \"'s\",\n",
       "   'foremost',\n",
       "   'cinematic',\n",
       "   'poet',\n",
       "   'of',\n",
       "   'the',\n",
       "   'workplace',\n",
       "   '.',\n",
       "   '',\n",
       "   '</s>'],\n",
       "  ['<s>', 'stylish', 'and', 'moody', '', '</s>'],\n",
       "  ['<s>', 'vulgarity', '', '</s>'],\n",
       "  ['<s>',\n",
       "   'falls',\n",
       "   'short',\n",
       "   'on',\n",
       "   'tension',\n",
       "   ',',\n",
       "   'eloquence',\n",
       "   ',',\n",
       "   'spiritual',\n",
       "   'challenge',\n",
       "   '--',\n",
       "   'things',\n",
       "   'that',\n",
       "   'have',\n",
       "   'made',\n",
       "   'the',\n",
       "   'original',\n",
       "   'new',\n",
       "   'testament',\n",
       "   'stories',\n",
       "   'so',\n",
       "   'compelling',\n",
       "   'for',\n",
       "   '20',\n",
       "   'centuries',\n",
       "   '',\n",
       "   '</s>'],\n",
       "  ['<s>', 'to', 'blue', 'hilarity', '', '</s>'],\n",
       "  ['<s>',\n",
       "   'is',\n",
       "   'intriguing',\n",
       "   'but',\n",
       "   'quickly',\n",
       "   'becomes',\n",
       "   'distasteful',\n",
       "   'and',\n",
       "   'downright',\n",
       "   'creepy',\n",
       "   '',\n",
       "   '</s>'],\n",
       "  ['<s>',\n",
       "   ',',\n",
       "   'you',\n",
       "   \"'d\",\n",
       "   'probably',\n",
       "   'turn',\n",
       "   'it',\n",
       "   'off',\n",
       "   ',',\n",
       "   'convinced',\n",
       "   'that',\n",
       "   'you',\n",
       "   'had',\n",
       "   'already',\n",
       "   'seen',\n",
       "   'that',\n",
       "   'movie',\n",
       "   '.',\n",
       "   '',\n",
       "   '</s>'],\n",
       "  ['<s>',\n",
       "   'no',\n",
       "   'amount',\n",
       "   'of',\n",
       "   'burning',\n",
       "   ',',\n",
       "   'blasting',\n",
       "   ',',\n",
       "   'stabbing',\n",
       "   ',',\n",
       "   'and',\n",
       "   'shooting',\n",
       "   '',\n",
       "   '</s>'],\n",
       "  ['<s>',\n",
       "   'such',\n",
       "   'a',\n",
       "   'wildly',\n",
       "   'uneven',\n",
       "   'hit-and-miss',\n",
       "   'enterprise',\n",
       "   ',',\n",
       "   'you',\n",
       "   'ca',\n",
       "   \"n't\",\n",
       "   'help',\n",
       "   'suspecting',\n",
       "   'that',\n",
       "   'it',\n",
       "   'was',\n",
       "   'improvised',\n",
       "   'on',\n",
       "   'a',\n",
       "   'day-to-day',\n",
       "   'basis',\n",
       "   'during',\n",
       "   'production',\n",
       "   '.',\n",
       "   '',\n",
       "   '</s>'],\n",
       "  ['<s>', 'as', 'a', 'dystopian', 'movie', '', '</s>'],\n",
       "  ['<s>',\n",
       "   'i',\n",
       "   'liked',\n",
       "   'about',\n",
       "   'schmidt',\n",
       "   'a',\n",
       "   'lot',\n",
       "   ',',\n",
       "   'but',\n",
       "   'i',\n",
       "   'have',\n",
       "   'a',\n",
       "   'feeling',\n",
       "   'that',\n",
       "   'i',\n",
       "   'would',\n",
       "   'have',\n",
       "   'liked',\n",
       "   'it',\n",
       "   'much',\n",
       "   'more',\n",
       "   'if',\n",
       "   'harry',\n",
       "   '&',\n",
       "   'tonto',\n",
       "   'never',\n",
       "   'existed',\n",
       "   '',\n",
       "   '</s>'],\n",
       "  ['<s>', 'less-than-thrilling', 'thriller', '.', '', '</s>'],\n",
       "  ['<s>', 'most', 'audacious', ',', 'outrageous', '', '</s>'],\n",
       "  ['<s>', 'solid', ',', 'satisfying', 'fare', '', '</s>'],\n",
       "  ['<s>', 'a', 'mostly', 'magnificent', 'directorial', 'career', '', '</s>'],\n",
       "  ['<s>', 'marveilleux', '', '</s>'],\n",
       "  ['<s>', 'holds', 'a', 'certain', 'charm', '', '</s>'],\n",
       "  ['<s>', 'blacked', 'out', '', '</s>'],\n",
       "  ['<s>',\n",
       "   'in',\n",
       "   'trying',\n",
       "   'to',\n",
       "   'have',\n",
       "   'the',\n",
       "   'best',\n",
       "   'of',\n",
       "   'both',\n",
       "   'worlds',\n",
       "   'it',\n",
       "   'ends',\n",
       "   'up',\n",
       "   'falling',\n",
       "   'short',\n",
       "   'as',\n",
       "   'a',\n",
       "   'whole',\n",
       "   '',\n",
       "   '</s>'],\n",
       "  ['<s>', 'rush', 'through', '', '</s>'],\n",
       "  ['<s>',\n",
       "   'discover',\n",
       "   'that',\n",
       "   'the',\n",
       "   'answer',\n",
       "   'is',\n",
       "   'as',\n",
       "   'conventional',\n",
       "   'as',\n",
       "   'can',\n",
       "   'be',\n",
       "   '',\n",
       "   '</s>'],\n",
       "  ['<s>', 'is', \"n't\", 'funny', '', '</s>'],\n",
       "  ['<s>',\n",
       "   'a',\n",
       "   'characteristically',\n",
       "   'engorged',\n",
       "   'and',\n",
       "   'sloppy',\n",
       "   'coming-of-age',\n",
       "   'movie',\n",
       "   '.',\n",
       "   '',\n",
       "   '</s>'],\n",
       "  ['<s>',\n",
       "   'the',\n",
       "   'slack',\n",
       "   'complacency',\n",
       "   'of',\n",
       "   '(',\n",
       "   'godard',\n",
       "   \"'s\",\n",
       "   ')',\n",
       "   'vision',\n",
       "   '',\n",
       "   '</s>'],\n",
       "  ['<s>',\n",
       "   'luridly',\n",
       "   'graphic',\n",
       "   'and',\n",
       "   'laughably',\n",
       "   'unconvincing',\n",
       "   '',\n",
       "   '</s>'],\n",
       "  ['<s>',\n",
       "   'is',\n",
       "   'not',\n",
       "   'that',\n",
       "   'it',\n",
       "   \"'s\",\n",
       "   'offensive',\n",
       "   ',',\n",
       "   'but',\n",
       "   'that',\n",
       "   'it',\n",
       "   \"'s\",\n",
       "   'boring',\n",
       "   '.',\n",
       "   '',\n",
       "   '</s>'],\n",
       "  ['<s>',\n",
       "   'is',\n",
       "   'an',\n",
       "   'inspirational',\n",
       "   'love',\n",
       "   'story',\n",
       "   ',',\n",
       "   'capturing',\n",
       "   'the',\n",
       "   'innocence',\n",
       "   'and',\n",
       "   'idealism',\n",
       "   'of',\n",
       "   'that',\n",
       "   'first',\n",
       "   'encounter',\n",
       "   '',\n",
       "   '</s>'],\n",
       "  ['<s>',\n",
       "   'walked',\n",
       "   'away',\n",
       "   'from',\n",
       "   'this',\n",
       "   'new',\n",
       "   'version',\n",
       "   'of',\n",
       "   'e.t.',\n",
       "   'just',\n",
       "   'as',\n",
       "   'i',\n",
       "   'hoped',\n",
       "   'i',\n",
       "   'would',\n",
       "   '--',\n",
       "   'with',\n",
       "   'moist',\n",
       "   'eyes',\n",
       "   '.',\n",
       "   '',\n",
       "   '</s>'],\n",
       "  ['<s>',\n",
       "   'brings',\n",
       "   'a',\n",
       "   'youthful',\n",
       "   ',',\n",
       "   'out-to-change-the-world',\n",
       "   'aggressiveness',\n",
       "   'to',\n",
       "   'the',\n",
       "   'project',\n",
       "   ',',\n",
       "   'as',\n",
       "   'if',\n",
       "   'she',\n",
       "   \"'s\",\n",
       "   'cut',\n",
       "   'open',\n",
       "   'a',\n",
       "   'vein',\n",
       "   'and',\n",
       "   '',\n",
       "   '</s>'],\n",
       "  ['<s>',\n",
       "   'a',\n",
       "   'no-bull',\n",
       "   'throwback',\n",
       "   'to',\n",
       "   '1970s',\n",
       "   'action',\n",
       "   'films',\n",
       "   '',\n",
       "   '</s>'],\n",
       "  ['<s>', 'languishing', '', '</s>'],\n",
       "  ['<s>', 'brittle', 'desperation', '', '</s>'],\n",
       "  ['<s>',\n",
       "   'sharp',\n",
       "   'comedy',\n",
       "   ',',\n",
       "   'old-fashioned',\n",
       "   'monster',\n",
       "   'movie',\n",
       "   'atmospherics',\n",
       "   ',',\n",
       "   '',\n",
       "   '</s>'],\n",
       "  ['<s>',\n",
       "   'we',\n",
       "   'really',\n",
       "   'have',\n",
       "   \"n't\",\n",
       "   'had',\n",
       "   'a',\n",
       "   'good',\n",
       "   'cheesy',\n",
       "   'b-movie',\n",
       "   'playing',\n",
       "   'in',\n",
       "   'theaters',\n",
       "   'since',\n",
       "   '...',\n",
       "   'well',\n",
       "   '...',\n",
       "   'since',\n",
       "   'last',\n",
       "   'week',\n",
       "   \"'s\",\n",
       "   'reign',\n",
       "   'of',\n",
       "   'fire',\n",
       "   '',\n",
       "   '</s>'],\n",
       "  ['<s>',\n",
       "   'confuses',\n",
       "   'its',\n",
       "   'message',\n",
       "   'with',\n",
       "   'an',\n",
       "   'ultimate',\n",
       "   'desire',\n",
       "   'to',\n",
       "   'please',\n",
       "   ',',\n",
       "   'and',\n",
       "   'contorting',\n",
       "   'itself',\n",
       "   'into',\n",
       "   'an',\n",
       "   'idea',\n",
       "   'of',\n",
       "   'expectation',\n",
       "   'is',\n",
       "   'the',\n",
       "   'last',\n",
       "   'thing',\n",
       "   'any',\n",
       "   'of',\n",
       "   'these',\n",
       "   'three',\n",
       "   'actresses',\n",
       "   ',',\n",
       "   'nor',\n",
       "   'their',\n",
       "   'characters',\n",
       "   ',',\n",
       "   'deserve',\n",
       "   '.',\n",
       "   '',\n",
       "   '</s>'],\n",
       "  ['<s>', 'some', 'intriguing', 'characters', '', '</s>'],\n",
       "  ['<s>',\n",
       "   'veretÃ©',\n",
       "   'has',\n",
       "   'a',\n",
       "   'whip-smart',\n",
       "   'sense',\n",
       "   'of',\n",
       "   'narrative',\n",
       "   'bluffs',\n",
       "   '.',\n",
       "   '',\n",
       "   '</s>'],\n",
       "  ['<s>', 'that', 'good', 'theatre', '', '</s>'],\n",
       "  ['<s>',\n",
       "   'it',\n",
       "   'may',\n",
       "   'be',\n",
       "   'a',\n",
       "   'somewhat',\n",
       "   'backhanded',\n",
       "   'compliment',\n",
       "   'to',\n",
       "   'say',\n",
       "   'that',\n",
       "   'the',\n",
       "   'film',\n",
       "   'makes',\n",
       "   'the',\n",
       "   'viewer',\n",
       "   'feel',\n",
       "   'like',\n",
       "   'the',\n",
       "   'movie',\n",
       "   \"'s\",\n",
       "   'various',\n",
       "   'victimized',\n",
       "   'audience',\n",
       "   'members',\n",
       "   'after',\n",
       "   'a',\n",
       "   'while',\n",
       "   ',',\n",
       "   'but',\n",
       "   'it',\n",
       "   'also',\n",
       "   'happens',\n",
       "   'to',\n",
       "   'be',\n",
       "   'the',\n",
       "   'movie',\n",
       "   \"'s\",\n",
       "   'most',\n",
       "   'admirable',\n",
       "   'quality',\n",
       "   '',\n",
       "   '</s>'],\n",
       "  ['<s>',\n",
       "   'evacuations',\n",
       "   ',',\n",
       "   'and',\n",
       "   'none-too-funny',\n",
       "   'commentary',\n",
       "   'on',\n",
       "   'the',\n",
       "   'cultural',\n",
       "   'distinctions',\n",
       "   'between',\n",
       "   'americans',\n",
       "   'and',\n",
       "   'brits',\n",
       "   '',\n",
       "   '</s>'],\n",
       "  ['<s>', 'create', 'and', 'sustain', '', '</s>'],\n",
       "  ['<s>', 'laughter', 'and', 'self-exploitation', '', '</s>'],\n",
       "  ['<s>',\n",
       "   'that',\n",
       "   'a',\n",
       "   'life',\n",
       "   'like',\n",
       "   'this',\n",
       "   'can',\n",
       "   'sound',\n",
       "   'so',\n",
       "   'dull',\n",
       "   '',\n",
       "   '</s>']]}"
      ]
     },
     "execution_count": 10,
     "metadata": {},
     "output_type": "execute_result"
    }
   ],
   "source": [
    "save_info(idxs, sst2_data_raw, targets, model_out_list, raw_attr_list, conti_attr_list, raw_input_list, fname='integrated_gradients_out.pkl')"
   ]
  },
  {
   "cell_type": "code",
   "execution_count": null,
   "id": "e7bfd196",
   "metadata": {},
   "outputs": [],
   "source": []
  }
 ],
 "metadata": {
  "kernelspec": {
   "display_name": "Python 3 (ipykernel)",
   "language": "python",
   "name": "python3"
  },
  "language_info": {
   "codemirror_mode": {
    "name": "ipython",
    "version": 3
   },
   "file_extension": ".py",
   "mimetype": "text/x-python",
   "name": "python",
   "nbconvert_exporter": "python",
   "pygments_lexer": "ipython3",
   "version": "3.9.7"
  }
 },
 "nbformat": 4,
 "nbformat_minor": 5
}
