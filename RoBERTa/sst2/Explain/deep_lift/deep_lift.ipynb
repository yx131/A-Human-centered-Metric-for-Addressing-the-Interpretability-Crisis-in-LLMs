{
 "cells": [
  {
   "cell_type": "code",
   "execution_count": 1,
   "id": "806fb4a1",
   "metadata": {},
   "outputs": [],
   "source": [
    "import sys, time, pickle, torch\n",
    "sys.path.insert(0, '../../Models')\n",
    "sys.path.insert(0, '../../Utils')\n",
    "sys.path.insert(0, '../../Preprocess')\n",
    "import numpy as np\n",
    "import pandas as pd\n",
    "from preload_models import get_sst2_tok_n_model\n",
    "from _utils import sample_random_glue_sst2, get_continuation_mapping, \\\n",
    "                    get_continuous_attributions, get_continuous_raw_inputs, \\\n",
    "                    collect_info_for_metric, save_info"
   ]
  },
  {
   "cell_type": "code",
   "execution_count": 2,
   "id": "dd38a1a9",
   "metadata": {},
   "outputs": [
    {
     "name": "stderr",
     "output_type": "stream",
     "text": [
      "Reusing dataset glue (/home/user/.cache/huggingface/datasets/glue/sst2/1.0.0/dacbe3125aa31d7f70367a07a8a9e72a5a0bfeb5fc42e75c9db75b96da6053ad)\n"
     ]
    },
    {
     "data": {
      "application/vnd.jupyter.widget-view+json": {
       "model_id": "7dd44752eb534f5b9f77abab077b5c23",
       "version_major": 2,
       "version_minor": 0
      },
      "text/plain": [
       "  0%|          | 0/3 [00:00<?, ?it/s]"
      ]
     },
     "metadata": {},
     "output_type": "display_data"
    },
    {
     "name": "stderr",
     "output_type": "stream",
     "text": [
      "Loading cached processed dataset at /home/user/.cache/huggingface/datasets/glue/sst2/1.0.0/dacbe3125aa31d7f70367a07a8a9e72a5a0bfeb5fc42e75c9db75b96da6053ad/cache-3b24abff24d1d8c0.arrow\n",
      "Loading cached processed dataset at /home/user/.cache/huggingface/datasets/glue/sst2/1.0.0/dacbe3125aa31d7f70367a07a8a9e72a5a0bfeb5fc42e75c9db75b96da6053ad/cache-5960909ab3834668.arrow\n"
     ]
    }
   ],
   "source": [
    "sst2_data_raw, targets, idxs = sample_random_glue_sst2()"
   ]
  },
  {
   "cell_type": "code",
   "execution_count": 3,
   "id": "c90c47e9",
   "metadata": {},
   "outputs": [],
   "source": [
    "tokenizer, model = get_sst2_tok_n_model()"
   ]
  },
  {
   "cell_type": "code",
   "execution_count": 4,
   "id": "17be71bc",
   "metadata": {},
   "outputs": [],
   "source": [
    "#define some containers to save some info\n",
    "model_out_list, raw_attr_list, conti_attr_list, raw_input_list = [], [], [], []"
   ]
  },
  {
   "cell_type": "code",
   "execution_count": 5,
   "id": "d272625c",
   "metadata": {},
   "outputs": [],
   "source": [
    "from captum.attr import DeepLift\n",
    "from captum.attr import visualization "
   ]
  },
  {
   "cell_type": "code",
   "execution_count": 6,
   "id": "8067da5f",
   "metadata": {},
   "outputs": [],
   "source": [
    "# lime = Lime(forward_func=model.forward)\n",
    "deep_lift = DeepLift(model)"
   ]
  },
  {
   "cell_type": "code",
   "execution_count": 7,
   "id": "c47d4631",
   "metadata": {},
   "outputs": [],
   "source": [
    "def generate_record(raw_review, target):\n",
    "    #tokenizer operations\n",
    "    tokenized = tokenizer(raw_review, truncation=True, return_offsets_mapping=True)\n",
    "    offset_mapping = tokenized['offset_mapping']\n",
    "    conti_map = get_continuation_mapping(offset_mapping)\n",
    "    input_ids = torch.tensor(tokenized['input_ids']).unsqueeze(0)\n",
    "    detokenized = [t.replace('Ġ', '') for t in tokenizer.convert_ids_to_tokens(input_ids[0])]\n",
    "    \n",
    "    #feeding input forward \n",
    "    input_emb = model.get_embeddings(input_ids)\n",
    "    pred_prob = model(input_emb).item()\n",
    "    \n",
    "    #categorizing results\n",
    "    pred_class = 'Pos' if pred_prob > 0.5 else 'Neg' \n",
    "    true_class = 'Pos' if target > 0.5 else 'Neg' \n",
    "    \n",
    "    #attribution algorithm working\n",
    "    attribution, delta = deep_lift.attribute(input_emb, return_convergence_delta=True)\n",
    "    word_attributions = attribution.squeeze(0).sum(dim=1)\n",
    "    word_attributions /= torch.norm(word_attributions)\n",
    "    attr_score = torch.sum(word_attributions)\n",
    "    attr_class = 'Pos' if attr_score > 0.5 else 'Neg'\n",
    "    convergence_score = delta\n",
    "    \n",
    "    \n",
    "    #re-organizing tensors and arrays because words get split down\n",
    "    conti_attr = get_continuous_attributions(conti_map, word_attributions)\n",
    "    raw_input = get_continuous_raw_inputs(conti_map, detokenized)\n",
    "\n",
    "#     print(f'word attributions {word_attributions}')\n",
    "#     print(f'pred_prob {pred_prob}')\n",
    "#     print(f'pred_class {pred_class}')\n",
    "#     print(f'true_class {true_class}')\n",
    "#     print(f'attribution {attribution}')\n",
    "#     print(f'attr_class {attr_class}')\n",
    "#     print(f'attr_score {attr_score}')\n",
    "#     print(f'raw_input {raw_input}')\n",
    "\n",
    "        \n",
    "#     collect info for metrics later\n",
    "    collect_info_for_metric(model_out_list, pred_prob, raw_attr_list, attribution, conti_attr_list, conti_attr, raw_input_list, raw_input)\n",
    "        \n",
    "    \n",
    "    visual_record = visualization.VisualizationDataRecord(word_attributions=conti_attr,\n",
    "                                                         pred_prob=pred_prob,\n",
    "                                                         pred_class=pred_class,\n",
    "                                                         true_class=true_class,\n",
    "                                                         attr_class=attr_class,\n",
    "                                                         attr_score=attr_score,\n",
    "                                                         raw_input=raw_input,\n",
    "                                                         convergence_score=convergence_score)\n",
    "        \n",
    "        \n",
    "    return visual_record\n",
    "      \n",
    "    "
   ]
  },
  {
   "cell_type": "code",
   "execution_count": 8,
   "id": "37efa6df",
   "metadata": {
    "scrolled": false
   },
   "outputs": [
    {
     "name": "stdout",
     "output_type": "stream",
     "text": [
      "Raw review: its oscar nomination \n",
      "GT target: 1\n"
     ]
    },
    {
     "name": "stderr",
     "output_type": "stream",
     "text": [
      "/home/user/anaconda3/envs/py38/lib/python3.9/site-packages/captum/attr/_core/deep_lift.py:322: UserWarning: Setting forward, backward hooks and attributes on non-linear\n",
      "               activations. The hooks and attributes will be removed\n",
      "            after the attribution is finished\n",
      "  warnings.warn(\n"
     ]
    },
    {
     "name": "stdout",
     "output_type": "stream",
     "text": [
      "word attr tensor([-0.9534,  0.0890, -0.0922,  0.2486,  0.0072, -0.0956, -0.0596],\n",
      "       grad_fn=<DivBackward0>)\n",
      "conti attr [tensor(-0.9534, grad_fn=<UnbindBackward0>), tensor(0.0890, grad_fn=<UnbindBackward0>), tensor(0.1564, grad_fn=<AddBackward0>), tensor(0.0072, grad_fn=<UnbindBackward0>), tensor(-0.0956, grad_fn=<UnbindBackward0>), tensor(-0.0596, grad_fn=<UnbindBackward0>)]\n",
      "detokenized ['<s>', 'its', 'o', 'scar', 'nomination', '', '</s>']\n",
      "len conti_raw 6\n",
      "conti_raw ['<s>', 'its', 'oscar', 'nomination', '', '</s>']\n"
     ]
    },
    {
     "data": {
      "text/html": [
       "<table width: 100%><div style=\"border-top: 1px solid; margin-top: 5px;             padding-top: 5px; display: inline-block\"><b>Legend: </b><span style=\"display: inline-block; width: 10px; height: 10px;                 border: 1px solid; background-color:                 hsl(0, 75%, 60%)\"></span> Negative  <span style=\"display: inline-block; width: 10px; height: 10px;                 border: 1px solid; background-color:                 hsl(0, 75%, 100%)\"></span> Neutral  <span style=\"display: inline-block; width: 10px; height: 10px;                 border: 1px solid; background-color:                 hsl(120, 75%, 50%)\"></span> Positive  </div><tr><th>True Label</th><th>Predicted Label</th><th>Attribution Label</th><th>Attribution Score</th><th>Word Importance</th><tr><td><text style=\"padding-right:2em\"><b>Pos</b></text></td><td><text style=\"padding-right:2em\"><b>Pos (1.00)</b></text></td><td><text style=\"padding-right:2em\"><b>Neg</b></text></td><td><text style=\"padding-right:2em\"><b>-0.86</b></text></td><td><mark style=\"background-color: hsl(0, 75%, 62%); opacity:1.0;                     line-height:1.75\"><font color=\"black\"> #s                    </font></mark><mark style=\"background-color: hsl(120, 75%, 96%); opacity:1.0;                     line-height:1.75\"><font color=\"black\"> its                    </font></mark><mark style=\"background-color: hsl(120, 75%, 93%); opacity:1.0;                     line-height:1.75\"><font color=\"black\"> oscar                    </font></mark><mark style=\"background-color: hsl(120, 75%, 100%); opacity:1.0;                     line-height:1.75\"><font color=\"black\"> nomination                    </font></mark><mark style=\"background-color: hsl(0, 75%, 97%); opacity:1.0;                     line-height:1.75\"><font color=\"black\">                     </font></mark><mark style=\"background-color: hsl(0, 75%, 98%); opacity:1.0;                     line-height:1.75\"><font color=\"black\"> #/s                    </font></mark></td><tr></table>"
      ],
      "text/plain": [
       "<IPython.core.display.HTML object>"
      ]
     },
     "metadata": {},
     "output_type": "display_data"
    },
    {
     "name": "stdout",
     "output_type": "stream",
     "text": [
      "<IPython.core.display.HTML object>\n",
      "Raw review: shenanigans and slapstick \n",
      "GT target: 1\n",
      "word attr tensor([-0.4782, -0.0438, -0.0442, -0.3404, -0.0757, -0.2553, -0.0311,  0.7514,\n",
      "        -0.0623,  0.1061], grad_fn=<DivBackward0>)\n",
      "conti attr [tensor(-0.4782, grad_fn=<UnbindBackward0>), tensor(-0.5041, grad_fn=<AddBackward0>), tensor(-0.2553, grad_fn=<UnbindBackward0>), tensor(0.7203, grad_fn=<AddBackward0>), tensor(-0.0623, grad_fn=<UnbindBackward0>), tensor(0.1061, grad_fn=<UnbindBackward0>)]\n",
      "detokenized ['<s>', 's', 'hen', 'an', 'igans', 'and', 'slap', 'stick', '', '</s>']\n",
      "len conti_raw 6\n",
      "conti_raw ['<s>', 'shenanigans', 'and', 'slapstick', '', '</s>']\n"
     ]
    },
    {
     "data": {
      "text/html": [
       "<table width: 100%><div style=\"border-top: 1px solid; margin-top: 5px;             padding-top: 5px; display: inline-block\"><b>Legend: </b><span style=\"display: inline-block; width: 10px; height: 10px;                 border: 1px solid; background-color:                 hsl(0, 75%, 60%)\"></span> Negative  <span style=\"display: inline-block; width: 10px; height: 10px;                 border: 1px solid; background-color:                 hsl(0, 75%, 100%)\"></span> Neutral  <span style=\"display: inline-block; width: 10px; height: 10px;                 border: 1px solid; background-color:                 hsl(120, 75%, 50%)\"></span> Positive  </div><tr><th>True Label</th><th>Predicted Label</th><th>Attribution Label</th><th>Attribution Score</th><th>Word Importance</th><tr><td><text style=\"padding-right:2em\"><b>Pos</b></text></td><td><text style=\"padding-right:2em\"><b>Pos (1.00)</b></text></td><td><text style=\"padding-right:2em\"><b>Neg</b></text></td><td><text style=\"padding-right:2em\"><b>-0.47</b></text></td><td><mark style=\"background-color: hsl(0, 75%, 81%); opacity:1.0;                     line-height:1.75\"><font color=\"black\"> #s                    </font></mark><mark style=\"background-color: hsl(0, 75%, 80%); opacity:1.0;                     line-height:1.75\"><font color=\"black\"> shenanigans                    </font></mark><mark style=\"background-color: hsl(0, 75%, 90%); opacity:1.0;                     line-height:1.75\"><font color=\"black\"> and                    </font></mark><mark style=\"background-color: hsl(120, 75%, 64%); opacity:1.0;                     line-height:1.75\"><font color=\"black\"> slapstick                    </font></mark><mark style=\"background-color: hsl(0, 75%, 98%); opacity:1.0;                     line-height:1.75\"><font color=\"black\">                     </font></mark><mark style=\"background-color: hsl(120, 75%, 95%); opacity:1.0;                     line-height:1.75\"><font color=\"black\"> #/s                    </font></mark></td><tr></table>"
      ],
      "text/plain": [
       "<IPython.core.display.HTML object>"
      ]
     },
     "metadata": {},
     "output_type": "display_data"
    },
    {
     "name": "stdout",
     "output_type": "stream",
     "text": [
      "<IPython.core.display.HTML object>\n",
      "Raw review: an unsettling sight , \n",
      "GT target: 0\n",
      "word attr tensor([ 0.1196,  0.3575,  0.6597, -0.2594, -0.5147, -0.2879, -0.0869],\n",
      "       grad_fn=<DivBackward0>)\n",
      "conti attr [tensor(0.1196, grad_fn=<UnbindBackward0>), tensor(0.3575, grad_fn=<UnbindBackward0>), tensor(0.6597, grad_fn=<UnbindBackward0>), tensor(-0.2594, grad_fn=<UnbindBackward0>), tensor(-0.5147, grad_fn=<UnbindBackward0>), tensor(-0.2879, grad_fn=<UnbindBackward0>), tensor(-0.0869, grad_fn=<UnbindBackward0>)]\n",
      "detokenized ['<s>', 'an', 'unsettling', 'sight', ',', '', '</s>']\n",
      "len conti_raw 7\n",
      "conti_raw ['<s>', 'an', 'unsettling', 'sight', ',', '', '</s>']\n"
     ]
    },
    {
     "data": {
      "text/html": [
       "<table width: 100%><div style=\"border-top: 1px solid; margin-top: 5px;             padding-top: 5px; display: inline-block\"><b>Legend: </b><span style=\"display: inline-block; width: 10px; height: 10px;                 border: 1px solid; background-color:                 hsl(0, 75%, 60%)\"></span> Negative  <span style=\"display: inline-block; width: 10px; height: 10px;                 border: 1px solid; background-color:                 hsl(0, 75%, 100%)\"></span> Neutral  <span style=\"display: inline-block; width: 10px; height: 10px;                 border: 1px solid; background-color:                 hsl(120, 75%, 50%)\"></span> Positive  </div><tr><th>True Label</th><th>Predicted Label</th><th>Attribution Label</th><th>Attribution Score</th><th>Word Importance</th><tr><td><text style=\"padding-right:2em\"><b>Neg</b></text></td><td><text style=\"padding-right:2em\"><b>Neg (0.01)</b></text></td><td><text style=\"padding-right:2em\"><b>Neg</b></text></td><td><text style=\"padding-right:2em\"><b>-0.01</b></text></td><td><mark style=\"background-color: hsl(120, 75%, 95%); opacity:1.0;                     line-height:1.75\"><font color=\"black\"> #s                    </font></mark><mark style=\"background-color: hsl(120, 75%, 83%); opacity:1.0;                     line-height:1.75\"><font color=\"black\"> an                    </font></mark><mark style=\"background-color: hsl(120, 75%, 68%); opacity:1.0;                     line-height:1.75\"><font color=\"black\"> unsettling                    </font></mark><mark style=\"background-color: hsl(0, 75%, 90%); opacity:1.0;                     line-height:1.75\"><font color=\"black\"> sight                    </font></mark><mark style=\"background-color: hsl(0, 75%, 80%); opacity:1.0;                     line-height:1.75\"><font color=\"black\"> ,                    </font></mark><mark style=\"background-color: hsl(0, 75%, 89%); opacity:1.0;                     line-height:1.75\"><font color=\"black\">                     </font></mark><mark style=\"background-color: hsl(0, 75%, 97%); opacity:1.0;                     line-height:1.75\"><font color=\"black\"> #/s                    </font></mark></td><tr></table>"
      ],
      "text/plain": [
       "<IPython.core.display.HTML object>"
      ]
     },
     "metadata": {},
     "output_type": "display_data"
    },
    {
     "name": "stdout",
     "output_type": "stream",
     "text": [
      "<IPython.core.display.HTML object>\n",
      "Raw review: the climactic hourlong cricket match \n",
      "GT target: 1\n",
      "word attr tensor([ 0.4519,  0.0480, -0.2094, -0.5685,  0.5352, -0.0686, -0.0713,  0.2888,\n",
      "        -0.2027, -0.0750], grad_fn=<DivBackward0>)\n",
      "conti attr [tensor(0.4519, grad_fn=<UnbindBackward0>), tensor(0.0480, grad_fn=<UnbindBackward0>), tensor(-0.7779, grad_fn=<AddBackward0>), tensor(0.4667, grad_fn=<AddBackward0>), tensor(-0.0713, grad_fn=<UnbindBackward0>), tensor(0.2888, grad_fn=<UnbindBackward0>), tensor(-0.2027, grad_fn=<UnbindBackward0>), tensor(-0.0750, grad_fn=<UnbindBackward0>)]\n",
      "detokenized ['<s>', 'the', 'clim', 'actic', 'hour', 'long', 'cricket', 'match', '', '</s>']\n",
      "len conti_raw 8\n",
      "conti_raw ['<s>', 'the', 'climactic', 'hourlong', 'cricket', 'match', '', '</s>']\n"
     ]
    },
    {
     "data": {
      "text/html": [
       "<table width: 100%><div style=\"border-top: 1px solid; margin-top: 5px;             padding-top: 5px; display: inline-block\"><b>Legend: </b><span style=\"display: inline-block; width: 10px; height: 10px;                 border: 1px solid; background-color:                 hsl(0, 75%, 60%)\"></span> Negative  <span style=\"display: inline-block; width: 10px; height: 10px;                 border: 1px solid; background-color:                 hsl(0, 75%, 100%)\"></span> Neutral  <span style=\"display: inline-block; width: 10px; height: 10px;                 border: 1px solid; background-color:                 hsl(120, 75%, 50%)\"></span> Positive  </div><tr><th>True Label</th><th>Predicted Label</th><th>Attribution Label</th><th>Attribution Score</th><th>Word Importance</th><tr><td><text style=\"padding-right:2em\"><b>Pos</b></text></td><td><text style=\"padding-right:2em\"><b>Pos (1.00)</b></text></td><td><text style=\"padding-right:2em\"><b>Neg</b></text></td><td><text style=\"padding-right:2em\"><b>0.13</b></text></td><td><mark style=\"background-color: hsl(120, 75%, 78%); opacity:1.0;                     line-height:1.75\"><font color=\"black\"> #s                    </font></mark><mark style=\"background-color: hsl(120, 75%, 98%); opacity:1.0;                     line-height:1.75\"><font color=\"black\"> the                    </font></mark><mark style=\"background-color: hsl(0, 75%, 69%); opacity:1.0;                     line-height:1.75\"><font color=\"black\"> climactic                    </font></mark><mark style=\"background-color: hsl(120, 75%, 77%); opacity:1.0;                     line-height:1.75\"><font color=\"black\"> hourlong                    </font></mark><mark style=\"background-color: hsl(0, 75%, 98%); opacity:1.0;                     line-height:1.75\"><font color=\"black\"> cricket                    </font></mark><mark style=\"background-color: hsl(120, 75%, 86%); opacity:1.0;                     line-height:1.75\"><font color=\"black\"> match                    </font></mark><mark style=\"background-color: hsl(0, 75%, 92%); opacity:1.0;                     line-height:1.75\"><font color=\"black\">                     </font></mark><mark style=\"background-color: hsl(0, 75%, 97%); opacity:1.0;                     line-height:1.75\"><font color=\"black\"> #/s                    </font></mark></td><tr></table>"
      ],
      "text/plain": [
       "<IPython.core.display.HTML object>"
      ]
     },
     "metadata": {},
     "output_type": "display_data"
    },
    {
     "name": "stdout",
     "output_type": "stream",
     "text": [
      "<IPython.core.display.HTML object>\n",
      "Raw review: alternating between facetious comic parody and pulp melodrama , this smart-aleck movie ... tosses around some intriguing questions about the difference between human and android life \n",
      "GT target: 1\n",
      "word attr tensor([-0.1524, -0.0242,  0.0437, -0.0260,  0.2192,  0.2031,  0.5118, -0.0908,\n",
      "         0.0692, -0.0914,  0.1082, -0.0263,  0.1126,  0.0620,  0.0164, -0.2263,\n",
      "        -0.0469,  0.0675,  0.0490, -0.2415, -0.0641, -0.1700,  0.0784,  0.1148,\n",
      "         0.0886,  0.5548,  0.0932,  0.0265,  0.0090, -0.0696, -0.1398,  0.0611,\n",
      "         0.0520, -0.2103, -0.0069, -0.0219, -0.0013], grad_fn=<DivBackward0>)\n",
      "conti attr [tensor(-0.1524, grad_fn=<UnbindBackward0>), tensor(0.0195, grad_fn=<AddBackward0>), tensor(-0.0260, grad_fn=<UnbindBackward0>), tensor(0.4223, grad_fn=<AddBackward0>), tensor(0.5118, grad_fn=<UnbindBackward0>), tensor(-0.0908, grad_fn=<UnbindBackward0>), tensor(0.0692, grad_fn=<UnbindBackward0>), tensor(-0.0914, grad_fn=<UnbindBackward0>), tensor(0.1945, grad_fn=<AddBackward0>), tensor(0.0620, grad_fn=<UnbindBackward0>), tensor(0.0164, grad_fn=<UnbindBackward0>), tensor(-0.1567, grad_fn=<AddBackward0>), tensor(-0.2415, grad_fn=<UnbindBackward0>), tensor(-0.0641, grad_fn=<UnbindBackward0>), tensor(-0.0917, grad_fn=<AddBackward0>), tensor(0.1148, grad_fn=<UnbindBackward0>), tensor(0.0886, grad_fn=<UnbindBackward0>), tensor(0.5548, grad_fn=<UnbindBackward0>), tensor(0.0932, grad_fn=<UnbindBackward0>), tensor(0.0265, grad_fn=<UnbindBackward0>), tensor(0.0090, grad_fn=<UnbindBackward0>), tensor(-0.0696, grad_fn=<UnbindBackward0>), tensor(-0.1398, grad_fn=<UnbindBackward0>), tensor(0.0611, grad_fn=<UnbindBackward0>), tensor(0.0520, grad_fn=<UnbindBackward0>), tensor(-0.2103, grad_fn=<UnbindBackward0>), tensor(-0.0069, grad_fn=<UnbindBackward0>), tensor(-0.0219, grad_fn=<UnbindBackward0>), tensor(-0.0013, grad_fn=<UnbindBackward0>)]\n",
      "detokenized ['<s>', 'altern', 'ating', 'between', 'facet', 'ious', 'comic', 'parody', 'and', 'pulp', 'mel', 'od', 'rama', ',', 'this', 'smart', '-', 'ale', 'ck', 'movie', '...', 'toss', 'es', 'around', 'some', 'intriguing', 'questions', 'about', 'the', 'difference', 'between', 'human', 'and', 'android', 'life', '', '</s>']\n",
      "len conti_raw 29\n",
      "conti_raw ['<s>', 'alternating', 'between', 'facetious', 'comic', 'parody', 'and', 'pulp', 'melodrama', ',', 'this', 'smart-aleck', 'movie', '...', 'tosses', 'around', 'some', 'intriguing', 'questions', 'about', 'the', 'difference', 'between', 'human', 'and', 'android', 'life', '', '</s>']\n"
     ]
    },
    {
     "data": {
      "text/html": [
       "<table width: 100%><div style=\"border-top: 1px solid; margin-top: 5px;             padding-top: 5px; display: inline-block\"><b>Legend: </b><span style=\"display: inline-block; width: 10px; height: 10px;                 border: 1px solid; background-color:                 hsl(0, 75%, 60%)\"></span> Negative  <span style=\"display: inline-block; width: 10px; height: 10px;                 border: 1px solid; background-color:                 hsl(0, 75%, 100%)\"></span> Neutral  <span style=\"display: inline-block; width: 10px; height: 10px;                 border: 1px solid; background-color:                 hsl(120, 75%, 50%)\"></span> Positive  </div><tr><th>True Label</th><th>Predicted Label</th><th>Attribution Label</th><th>Attribution Score</th><th>Word Importance</th><tr><td><text style=\"padding-right:2em\"><b>Pos</b></text></td><td><text style=\"padding-right:2em\"><b>Pos (1.00)</b></text></td><td><text style=\"padding-right:2em\"><b>Pos</b></text></td><td><text style=\"padding-right:2em\"><b>0.93</b></text></td><td><mark style=\"background-color: hsl(0, 75%, 94%); opacity:1.0;                     line-height:1.75\"><font color=\"black\"> #s                    </font></mark><mark style=\"background-color: hsl(120, 75%, 100%); opacity:1.0;                     line-height:1.75\"><font color=\"black\"> alternating                    </font></mark><mark style=\"background-color: hsl(0, 75%, 99%); opacity:1.0;                     line-height:1.75\"><font color=\"black\"> between                    </font></mark><mark style=\"background-color: hsl(120, 75%, 79%); opacity:1.0;                     line-height:1.75\"><font color=\"black\"> facetious                    </font></mark><mark style=\"background-color: hsl(120, 75%, 75%); opacity:1.0;                     line-height:1.75\"><font color=\"black\"> comic                    </font></mark><mark style=\"background-color: hsl(0, 75%, 97%); opacity:1.0;                     line-height:1.75\"><font color=\"black\"> parody                    </font></mark><mark style=\"background-color: hsl(120, 75%, 97%); opacity:1.0;                     line-height:1.75\"><font color=\"black\"> and                    </font></mark><mark style=\"background-color: hsl(0, 75%, 97%); opacity:1.0;                     line-height:1.75\"><font color=\"black\"> pulp                    </font></mark><mark style=\"background-color: hsl(120, 75%, 91%); opacity:1.0;                     line-height:1.75\"><font color=\"black\"> melodrama                    </font></mark><mark style=\"background-color: hsl(120, 75%, 97%); opacity:1.0;                     line-height:1.75\"><font color=\"black\"> ,                    </font></mark><mark style=\"background-color: hsl(120, 75%, 100%); opacity:1.0;                     line-height:1.75\"><font color=\"black\"> this                    </font></mark><mark style=\"background-color: hsl(0, 75%, 94%); opacity:1.0;                     line-height:1.75\"><font color=\"black\"> smart-aleck                    </font></mark><mark style=\"background-color: hsl(0, 75%, 91%); opacity:1.0;                     line-height:1.75\"><font color=\"black\"> movie                    </font></mark><mark style=\"background-color: hsl(0, 75%, 98%); opacity:1.0;                     line-height:1.75\"><font color=\"black\"> ...                    </font></mark><mark style=\"background-color: hsl(0, 75%, 97%); opacity:1.0;                     line-height:1.75\"><font color=\"black\"> tosses                    </font></mark><mark style=\"background-color: hsl(120, 75%, 95%); opacity:1.0;                     line-height:1.75\"><font color=\"black\"> around                    </font></mark><mark style=\"background-color: hsl(120, 75%, 96%); opacity:1.0;                     line-height:1.75\"><font color=\"black\"> some                    </font></mark><mark style=\"background-color: hsl(120, 75%, 73%); opacity:1.0;                     line-height:1.75\"><font color=\"black\"> intriguing                    </font></mark><mark style=\"background-color: hsl(120, 75%, 96%); opacity:1.0;                     line-height:1.75\"><font color=\"black\"> questions                    </font></mark><mark style=\"background-color: hsl(120, 75%, 99%); opacity:1.0;                     line-height:1.75\"><font color=\"black\"> about                    </font></mark><mark style=\"background-color: hsl(120, 75%, 100%); opacity:1.0;                     line-height:1.75\"><font color=\"black\"> the                    </font></mark><mark style=\"background-color: hsl(0, 75%, 98%); opacity:1.0;                     line-height:1.75\"><font color=\"black\"> difference                    </font></mark><mark style=\"background-color: hsl(0, 75%, 95%); opacity:1.0;                     line-height:1.75\"><font color=\"black\"> between                    </font></mark><mark style=\"background-color: hsl(120, 75%, 97%); opacity:1.0;                     line-height:1.75\"><font color=\"black\"> human                    </font></mark><mark style=\"background-color: hsl(120, 75%, 98%); opacity:1.0;                     line-height:1.75\"><font color=\"black\"> and                    </font></mark><mark style=\"background-color: hsl(0, 75%, 92%); opacity:1.0;                     line-height:1.75\"><font color=\"black\"> android                    </font></mark><mark style=\"background-color: hsl(0, 75%, 100%); opacity:1.0;                     line-height:1.75\"><font color=\"black\"> life                    </font></mark><mark style=\"background-color: hsl(0, 75%, 100%); opacity:1.0;                     line-height:1.75\"><font color=\"black\">                     </font></mark><mark style=\"background-color: hsl(0, 75%, 100%); opacity:1.0;                     line-height:1.75\"><font color=\"black\"> #/s                    </font></mark></td><tr></table>"
      ],
      "text/plain": [
       "<IPython.core.display.HTML object>"
      ]
     },
     "metadata": {},
     "output_type": "display_data"
    },
    {
     "name": "stdout",
     "output_type": "stream",
     "text": [
      "<IPython.core.display.HTML object>\n",
      "Raw review: to be a part of that elusive adult world \n",
      "GT target: 1\n",
      "word attr tensor([-0.1718,  0.0200, -0.0965, -0.0111, -0.1642, -0.1098, -0.1472,  0.7503,\n",
      "        -0.3445,  0.1730,  0.3649,  0.2351], grad_fn=<DivBackward0>)\n",
      "conti attr [tensor(-0.1718, grad_fn=<UnbindBackward0>), tensor(0.0200, grad_fn=<UnbindBackward0>), tensor(-0.0965, grad_fn=<UnbindBackward0>), tensor(-0.0111, grad_fn=<UnbindBackward0>), tensor(-0.1642, grad_fn=<UnbindBackward0>), tensor(-0.1098, grad_fn=<UnbindBackward0>), tensor(-0.1472, grad_fn=<UnbindBackward0>), tensor(0.7503, grad_fn=<UnbindBackward0>), tensor(-0.3445, grad_fn=<UnbindBackward0>), tensor(0.1730, grad_fn=<UnbindBackward0>), tensor(0.3649, grad_fn=<UnbindBackward0>), tensor(0.2351, grad_fn=<UnbindBackward0>)]\n",
      "detokenized ['<s>', 'to', 'be', 'a', 'part', 'of', 'that', 'elusive', 'adult', 'world', '', '</s>']\n",
      "len conti_raw 12\n",
      "conti_raw ['<s>', 'to', 'be', 'a', 'part', 'of', 'that', 'elusive', 'adult', 'world', '', '</s>']\n"
     ]
    },
    {
     "data": {
      "text/html": [
       "<table width: 100%><div style=\"border-top: 1px solid; margin-top: 5px;             padding-top: 5px; display: inline-block\"><b>Legend: </b><span style=\"display: inline-block; width: 10px; height: 10px;                 border: 1px solid; background-color:                 hsl(0, 75%, 60%)\"></span> Negative  <span style=\"display: inline-block; width: 10px; height: 10px;                 border: 1px solid; background-color:                 hsl(0, 75%, 100%)\"></span> Neutral  <span style=\"display: inline-block; width: 10px; height: 10px;                 border: 1px solid; background-color:                 hsl(120, 75%, 50%)\"></span> Positive  </div><tr><th>True Label</th><th>Predicted Label</th><th>Attribution Label</th><th>Attribution Score</th><th>Word Importance</th><tr><td><text style=\"padding-right:2em\"><b>Pos</b></text></td><td><text style=\"padding-right:2em\"><b>Pos (1.00)</b></text></td><td><text style=\"padding-right:2em\"><b>Neg</b></text></td><td><text style=\"padding-right:2em\"><b>0.50</b></text></td><td><mark style=\"background-color: hsl(0, 75%, 94%); opacity:1.0;                     line-height:1.75\"><font color=\"black\"> #s                    </font></mark><mark style=\"background-color: hsl(120, 75%, 100%); opacity:1.0;                     line-height:1.75\"><font color=\"black\"> to                    </font></mark><mark style=\"background-color: hsl(0, 75%, 97%); opacity:1.0;                     line-height:1.75\"><font color=\"black\"> be                    </font></mark><mark style=\"background-color: hsl(0, 75%, 100%); opacity:1.0;                     line-height:1.75\"><font color=\"black\"> a                    </font></mark><mark style=\"background-color: hsl(0, 75%, 94%); opacity:1.0;                     line-height:1.75\"><font color=\"black\"> part                    </font></mark><mark style=\"background-color: hsl(0, 75%, 96%); opacity:1.0;                     line-height:1.75\"><font color=\"black\"> of                    </font></mark><mark style=\"background-color: hsl(0, 75%, 95%); opacity:1.0;                     line-height:1.75\"><font color=\"black\"> that                    </font></mark><mark style=\"background-color: hsl(120, 75%, 63%); opacity:1.0;                     line-height:1.75\"><font color=\"black\"> elusive                    </font></mark><mark style=\"background-color: hsl(0, 75%, 87%); opacity:1.0;                     line-height:1.75\"><font color=\"black\"> adult                    </font></mark><mark style=\"background-color: hsl(120, 75%, 92%); opacity:1.0;                     line-height:1.75\"><font color=\"black\"> world                    </font></mark><mark style=\"background-color: hsl(120, 75%, 82%); opacity:1.0;                     line-height:1.75\"><font color=\"black\">                     </font></mark><mark style=\"background-color: hsl(120, 75%, 89%); opacity:1.0;                     line-height:1.75\"><font color=\"black\"> #/s                    </font></mark></td><tr></table>"
      ],
      "text/plain": [
       "<IPython.core.display.HTML object>"
      ]
     },
     "metadata": {},
     "output_type": "display_data"
    },
    {
     "name": "stdout",
     "output_type": "stream",
     "text": [
      "<IPython.core.display.HTML object>\n",
      "Raw review: emotional power \n",
      "GT target: 1\n",
      "word attr tensor([ 0.2058, -0.6338, -0.0140,  0.1156,  0.1701, -0.7166],\n",
      "       grad_fn=<DivBackward0>)\n",
      "conti attr [tensor(0.2058, grad_fn=<UnbindBackward0>), tensor(-0.6478, grad_fn=<AddBackward0>), tensor(0.1156, grad_fn=<UnbindBackward0>), tensor(0.1701, grad_fn=<UnbindBackward0>), tensor(-0.7166, grad_fn=<UnbindBackward0>)]\n",
      "detokenized ['<s>', 'em', 'otional', 'power', '', '</s>']\n",
      "len conti_raw 5\n",
      "conti_raw ['<s>', 'emotional', 'power', '', '</s>']\n"
     ]
    },
    {
     "data": {
      "text/html": [
       "<table width: 100%><div style=\"border-top: 1px solid; margin-top: 5px;             padding-top: 5px; display: inline-block\"><b>Legend: </b><span style=\"display: inline-block; width: 10px; height: 10px;                 border: 1px solid; background-color:                 hsl(0, 75%, 60%)\"></span> Negative  <span style=\"display: inline-block; width: 10px; height: 10px;                 border: 1px solid; background-color:                 hsl(0, 75%, 100%)\"></span> Neutral  <span style=\"display: inline-block; width: 10px; height: 10px;                 border: 1px solid; background-color:                 hsl(120, 75%, 50%)\"></span> Positive  </div><tr><th>True Label</th><th>Predicted Label</th><th>Attribution Label</th><th>Attribution Score</th><th>Word Importance</th><tr><td><text style=\"padding-right:2em\"><b>Pos</b></text></td><td><text style=\"padding-right:2em\"><b>Pos (1.00)</b></text></td><td><text style=\"padding-right:2em\"><b>Neg</b></text></td><td><text style=\"padding-right:2em\"><b>-0.87</b></text></td><td><mark style=\"background-color: hsl(120, 75%, 90%); opacity:1.0;                     line-height:1.75\"><font color=\"black\"> #s                    </font></mark><mark style=\"background-color: hsl(0, 75%, 75%); opacity:1.0;                     line-height:1.75\"><font color=\"black\"> emotional                    </font></mark><mark style=\"background-color: hsl(120, 75%, 95%); opacity:1.0;                     line-height:1.75\"><font color=\"black\"> power                    </font></mark><mark style=\"background-color: hsl(120, 75%, 92%); opacity:1.0;                     line-height:1.75\"><font color=\"black\">                     </font></mark><mark style=\"background-color: hsl(0, 75%, 72%); opacity:1.0;                     line-height:1.75\"><font color=\"black\"> #/s                    </font></mark></td><tr></table>"
      ],
      "text/plain": [
       "<IPython.core.display.HTML object>"
      ]
     },
     "metadata": {},
     "output_type": "display_data"
    },
    {
     "name": "stdout",
     "output_type": "stream",
     "text": [
      "<IPython.core.display.HTML object>\n",
      "Raw review: reminds you of why animation is such a perfect medium for children , because of the way it allows the mind to enter and accept another world \n",
      "GT target: 1\n",
      "word attr tensor([ 0.0533, -0.2617, -0.3175, -0.0047, -0.0146, -0.0630,  0.1005,  0.6094,\n",
      "         0.1114, -0.0589,  0.0526, -0.0337,  0.2350, -0.0297, -0.0482, -0.4222,\n",
      "        -0.1055,  0.0273,  0.0346, -0.0315,  0.0709, -0.0507,  0.0069, -0.0931,\n",
      "         0.0080, -0.3180,  0.1027, -0.0354,  0.0719, -0.0930,  0.1527,  0.0727],\n",
      "       grad_fn=<DivBackward0>)\n",
      "conti attr [tensor(0.0533, grad_fn=<UnbindBackward0>), tensor(-0.5838, grad_fn=<AddBackward0>), tensor(-0.0146, grad_fn=<UnbindBackward0>), tensor(-0.0630, grad_fn=<UnbindBackward0>), tensor(0.1005, grad_fn=<UnbindBackward0>), tensor(0.6094, grad_fn=<UnbindBackward0>), tensor(0.1114, grad_fn=<UnbindBackward0>), tensor(-0.0589, grad_fn=<UnbindBackward0>), tensor(0.0526, grad_fn=<UnbindBackward0>), tensor(-0.0337, grad_fn=<UnbindBackward0>), tensor(0.2350, grad_fn=<UnbindBackward0>), tensor(-0.0297, grad_fn=<UnbindBackward0>), tensor(-0.0482, grad_fn=<UnbindBackward0>), tensor(-0.4222, grad_fn=<UnbindBackward0>), tensor(-0.1055, grad_fn=<UnbindBackward0>), tensor(0.0273, grad_fn=<UnbindBackward0>), tensor(0.0346, grad_fn=<UnbindBackward0>), tensor(-0.0315, grad_fn=<UnbindBackward0>), tensor(0.0709, grad_fn=<UnbindBackward0>), tensor(-0.0507, grad_fn=<UnbindBackward0>), tensor(0.0069, grad_fn=<UnbindBackward0>), tensor(-0.0931, grad_fn=<UnbindBackward0>), tensor(0.0080, grad_fn=<UnbindBackward0>), tensor(-0.3180, grad_fn=<UnbindBackward0>), tensor(0.1027, grad_fn=<UnbindBackward0>), tensor(-0.0354, grad_fn=<UnbindBackward0>), tensor(0.0719, grad_fn=<UnbindBackward0>), tensor(-0.0930, grad_fn=<UnbindBackward0>), tensor(0.1527, grad_fn=<UnbindBackward0>), tensor(0.0727, grad_fn=<UnbindBackward0>)]\n",
      "detokenized ['<s>', 'rem', 'ind', 's', 'you', 'of', 'why', 'animation', 'is', 'such', 'a', 'perfect', 'medium', 'for', 'children', ',', 'because', 'of', 'the', 'way', 'it', 'allows', 'the', 'mind', 'to', 'enter', 'and', 'accept', 'another', 'world', '', '</s>']\n",
      "len conti_raw 30\n",
      "conti_raw ['<s>', 'reminds', 'you', 'of', 'why', 'animation', 'is', 'such', 'a', 'perfect', 'medium', 'for', 'children', ',', 'because', 'of', 'the', 'way', 'it', 'allows', 'the', 'mind', 'to', 'enter', 'and', 'accept', 'another', 'world', '', '</s>']\n"
     ]
    },
    {
     "data": {
      "text/html": [
       "<table width: 100%><div style=\"border-top: 1px solid; margin-top: 5px;             padding-top: 5px; display: inline-block\"><b>Legend: </b><span style=\"display: inline-block; width: 10px; height: 10px;                 border: 1px solid; background-color:                 hsl(0, 75%, 60%)\"></span> Negative  <span style=\"display: inline-block; width: 10px; height: 10px;                 border: 1px solid; background-color:                 hsl(0, 75%, 100%)\"></span> Neutral  <span style=\"display: inline-block; width: 10px; height: 10px;                 border: 1px solid; background-color:                 hsl(120, 75%, 50%)\"></span> Positive  </div><tr><th>True Label</th><th>Predicted Label</th><th>Attribution Label</th><th>Attribution Score</th><th>Word Importance</th><tr><td><text style=\"padding-right:2em\"><b>Pos</b></text></td><td><text style=\"padding-right:2em\"><b>Pos (1.00)</b></text></td><td><text style=\"padding-right:2em\"><b>Neg</b></text></td><td><text style=\"padding-right:2em\"><b>-0.27</b></text></td><td><mark style=\"background-color: hsl(120, 75%, 98%); opacity:1.0;                     line-height:1.75\"><font color=\"black\"> #s                    </font></mark><mark style=\"background-color: hsl(0, 75%, 77%); opacity:1.0;                     line-height:1.75\"><font color=\"black\"> reminds                    </font></mark><mark style=\"background-color: hsl(0, 75%, 100%); opacity:1.0;                     line-height:1.75\"><font color=\"black\"> you                    </font></mark><mark style=\"background-color: hsl(0, 75%, 98%); opacity:1.0;                     line-height:1.75\"><font color=\"black\"> of                    </font></mark><mark style=\"background-color: hsl(120, 75%, 95%); opacity:1.0;                     line-height:1.75\"><font color=\"black\"> why                    </font></mark><mark style=\"background-color: hsl(120, 75%, 70%); opacity:1.0;                     line-height:1.75\"><font color=\"black\"> animation                    </font></mark><mark style=\"background-color: hsl(120, 75%, 95%); opacity:1.0;                     line-height:1.75\"><font color=\"black\"> is                    </font></mark><mark style=\"background-color: hsl(0, 75%, 98%); opacity:1.0;                     line-height:1.75\"><font color=\"black\"> such                    </font></mark><mark style=\"background-color: hsl(120, 75%, 98%); opacity:1.0;                     line-height:1.75\"><font color=\"black\"> a                    </font></mark><mark style=\"background-color: hsl(0, 75%, 99%); opacity:1.0;                     line-height:1.75\"><font color=\"black\"> perfect                    </font></mark><mark style=\"background-color: hsl(120, 75%, 89%); opacity:1.0;                     line-height:1.75\"><font color=\"black\"> medium                    </font></mark><mark style=\"background-color: hsl(0, 75%, 99%); opacity:1.0;                     line-height:1.75\"><font color=\"black\"> for                    </font></mark><mark style=\"background-color: hsl(0, 75%, 99%); opacity:1.0;                     line-height:1.75\"><font color=\"black\"> children                    </font></mark><mark style=\"background-color: hsl(0, 75%, 84%); opacity:1.0;                     line-height:1.75\"><font color=\"black\"> ,                    </font></mark><mark style=\"background-color: hsl(0, 75%, 96%); opacity:1.0;                     line-height:1.75\"><font color=\"black\"> because                    </font></mark><mark style=\"background-color: hsl(120, 75%, 99%); opacity:1.0;                     line-height:1.75\"><font color=\"black\"> of                    </font></mark><mark style=\"background-color: hsl(120, 75%, 99%); opacity:1.0;                     line-height:1.75\"><font color=\"black\"> the                    </font></mark><mark style=\"background-color: hsl(0, 75%, 99%); opacity:1.0;                     line-height:1.75\"><font color=\"black\"> way                    </font></mark><mark style=\"background-color: hsl(120, 75%, 97%); opacity:1.0;                     line-height:1.75\"><font color=\"black\"> it                    </font></mark><mark style=\"background-color: hsl(0, 75%, 98%); opacity:1.0;                     line-height:1.75\"><font color=\"black\"> allows                    </font></mark><mark style=\"background-color: hsl(120, 75%, 100%); opacity:1.0;                     line-height:1.75\"><font color=\"black\"> the                    </font></mark><mark style=\"background-color: hsl(0, 75%, 97%); opacity:1.0;                     line-height:1.75\"><font color=\"black\"> mind                    </font></mark><mark style=\"background-color: hsl(120, 75%, 100%); opacity:1.0;                     line-height:1.75\"><font color=\"black\"> to                    </font></mark><mark style=\"background-color: hsl(0, 75%, 88%); opacity:1.0;                     line-height:1.75\"><font color=\"black\"> enter                    </font></mark><mark style=\"background-color: hsl(120, 75%, 95%); opacity:1.0;                     line-height:1.75\"><font color=\"black\"> and                    </font></mark><mark style=\"background-color: hsl(0, 75%, 99%); opacity:1.0;                     line-height:1.75\"><font color=\"black\"> accept                    </font></mark><mark style=\"background-color: hsl(120, 75%, 97%); opacity:1.0;                     line-height:1.75\"><font color=\"black\"> another                    </font></mark><mark style=\"background-color: hsl(0, 75%, 97%); opacity:1.0;                     line-height:1.75\"><font color=\"black\"> world                    </font></mark><mark style=\"background-color: hsl(120, 75%, 93%); opacity:1.0;                     line-height:1.75\"><font color=\"black\">                     </font></mark><mark style=\"background-color: hsl(120, 75%, 97%); opacity:1.0;                     line-height:1.75\"><font color=\"black\"> #/s                    </font></mark></td><tr></table>"
      ],
      "text/plain": [
       "<IPython.core.display.HTML object>"
      ]
     },
     "metadata": {},
     "output_type": "display_data"
    },
    {
     "name": "stdout",
     "output_type": "stream",
     "text": [
      "<IPython.core.display.HTML object>\n",
      "Raw review: unparalleled proportions , writer-director parker \n",
      "GT target: 1\n",
      "word attr tensor([-0.6531, -0.0154, -0.0184,  0.5974,  0.0507,  0.0474, -0.0868, -0.0055,\n",
      "         0.4332,  0.0865,  0.0628,  0.0673], grad_fn=<DivBackward0>)\n",
      "conti attr [tensor(-0.6531, grad_fn=<UnbindBackward0>), tensor(-0.0338, grad_fn=<AddBackward0>), tensor(0.5974, grad_fn=<UnbindBackward0>), tensor(0.0507, grad_fn=<UnbindBackward0>), tensor(-0.0449, grad_fn=<AddBackward0>), tensor(0.5197, grad_fn=<AddBackward0>), tensor(0.0628, grad_fn=<UnbindBackward0>), tensor(0.0673, grad_fn=<UnbindBackward0>)]\n",
      "detokenized ['<s>', 'un', 'paralleled', 'proportions', ',', 'writer', '-', 'director', 'park', 'er', '', '</s>']\n",
      "len conti_raw 8\n",
      "conti_raw ['<s>', 'unparalleled', 'proportions', ',', 'writer-director', 'parker', '', '</s>']\n"
     ]
    },
    {
     "data": {
      "text/html": [
       "<table width: 100%><div style=\"border-top: 1px solid; margin-top: 5px;             padding-top: 5px; display: inline-block\"><b>Legend: </b><span style=\"display: inline-block; width: 10px; height: 10px;                 border: 1px solid; background-color:                 hsl(0, 75%, 60%)\"></span> Negative  <span style=\"display: inline-block; width: 10px; height: 10px;                 border: 1px solid; background-color:                 hsl(0, 75%, 100%)\"></span> Neutral  <span style=\"display: inline-block; width: 10px; height: 10px;                 border: 1px solid; background-color:                 hsl(120, 75%, 50%)\"></span> Positive  </div><tr><th>True Label</th><th>Predicted Label</th><th>Attribution Label</th><th>Attribution Score</th><th>Word Importance</th><tr><td><text style=\"padding-right:2em\"><b>Pos</b></text></td><td><text style=\"padding-right:2em\"><b>Pos (1.00)</b></text></td><td><text style=\"padding-right:2em\"><b>Pos</b></text></td><td><text style=\"padding-right:2em\"><b>0.57</b></text></td><td><mark style=\"background-color: hsl(0, 75%, 74%); opacity:1.0;                     line-height:1.75\"><font color=\"black\"> #s                    </font></mark><mark style=\"background-color: hsl(0, 75%, 99%); opacity:1.0;                     line-height:1.75\"><font color=\"black\"> unparalleled                    </font></mark><mark style=\"background-color: hsl(120, 75%, 71%); opacity:1.0;                     line-height:1.75\"><font color=\"black\"> proportions                    </font></mark><mark style=\"background-color: hsl(120, 75%, 98%); opacity:1.0;                     line-height:1.75\"><font color=\"black\"> ,                    </font></mark><mark style=\"background-color: hsl(0, 75%, 99%); opacity:1.0;                     line-height:1.75\"><font color=\"black\"> writer-director                    </font></mark><mark style=\"background-color: hsl(120, 75%, 75%); opacity:1.0;                     line-height:1.75\"><font color=\"black\"> parker                    </font></mark><mark style=\"background-color: hsl(120, 75%, 97%); opacity:1.0;                     line-height:1.75\"><font color=\"black\">                     </font></mark><mark style=\"background-color: hsl(120, 75%, 97%); opacity:1.0;                     line-height:1.75\"><font color=\"black\"> #/s                    </font></mark></td><tr></table>"
      ],
      "text/plain": [
       "<IPython.core.display.HTML object>"
      ]
     },
     "metadata": {},
     "output_type": "display_data"
    },
    {
     "name": "stdout",
     "output_type": "stream",
     "text": [
      "<IPython.core.display.HTML object>\n",
      "Raw review: this surprisingly decent flick \n",
      "GT target: 1\n",
      "word attr tensor([-0.4944,  0.0849,  0.3109,  0.7348, -0.0797, -0.1658, -0.2792],\n",
      "       grad_fn=<DivBackward0>)\n",
      "conti attr [tensor(-0.4944, grad_fn=<UnbindBackward0>), tensor(0.0849, grad_fn=<UnbindBackward0>), tensor(0.3109, grad_fn=<UnbindBackward0>), tensor(0.7348, grad_fn=<UnbindBackward0>), tensor(-0.0797, grad_fn=<UnbindBackward0>), tensor(-0.1658, grad_fn=<UnbindBackward0>), tensor(-0.2792, grad_fn=<UnbindBackward0>)]\n",
      "detokenized ['<s>', 'this', 'surprisingly', 'decent', 'flick', '', '</s>']\n",
      "len conti_raw 7\n",
      "conti_raw ['<s>', 'this', 'surprisingly', 'decent', 'flick', '', '</s>']\n"
     ]
    },
    {
     "data": {
      "text/html": [
       "<table width: 100%><div style=\"border-top: 1px solid; margin-top: 5px;             padding-top: 5px; display: inline-block\"><b>Legend: </b><span style=\"display: inline-block; width: 10px; height: 10px;                 border: 1px solid; background-color:                 hsl(0, 75%, 60%)\"></span> Negative  <span style=\"display: inline-block; width: 10px; height: 10px;                 border: 1px solid; background-color:                 hsl(0, 75%, 100%)\"></span> Neutral  <span style=\"display: inline-block; width: 10px; height: 10px;                 border: 1px solid; background-color:                 hsl(120, 75%, 50%)\"></span> Positive  </div><tr><th>True Label</th><th>Predicted Label</th><th>Attribution Label</th><th>Attribution Score</th><th>Word Importance</th><tr><td><text style=\"padding-right:2em\"><b>Pos</b></text></td><td><text style=\"padding-right:2em\"><b>Pos (1.00)</b></text></td><td><text style=\"padding-right:2em\"><b>Neg</b></text></td><td><text style=\"padding-right:2em\"><b>0.11</b></text></td><td><mark style=\"background-color: hsl(0, 75%, 81%); opacity:1.0;                     line-height:1.75\"><font color=\"black\"> #s                    </font></mark><mark style=\"background-color: hsl(120, 75%, 96%); opacity:1.0;                     line-height:1.75\"><font color=\"black\"> this                    </font></mark><mark style=\"background-color: hsl(120, 75%, 85%); opacity:1.0;                     line-height:1.75\"><font color=\"black\"> surprisingly                    </font></mark><mark style=\"background-color: hsl(120, 75%, 64%); opacity:1.0;                     line-height:1.75\"><font color=\"black\"> decent                    </font></mark><mark style=\"background-color: hsl(0, 75%, 97%); opacity:1.0;                     line-height:1.75\"><font color=\"black\"> flick                    </font></mark><mark style=\"background-color: hsl(0, 75%, 94%); opacity:1.0;                     line-height:1.75\"><font color=\"black\">                     </font></mark><mark style=\"background-color: hsl(0, 75%, 89%); opacity:1.0;                     line-height:1.75\"><font color=\"black\"> #/s                    </font></mark></td><tr></table>"
      ],
      "text/plain": [
       "<IPython.core.display.HTML object>"
      ]
     },
     "metadata": {},
     "output_type": "display_data"
    },
    {
     "name": "stdout",
     "output_type": "stream",
     "text": [
      "<IPython.core.display.HTML object>\n",
      "Raw review: about the best thing you could say about narc is that it 's a rock-solid little genre picture . \n",
      "GT target: 1\n",
      "word attr tensor([ 0.2478, -0.3358, -0.0284,  0.0809,  0.0112,  0.0636,  0.1278,  0.0109,\n",
      "        -0.1195, -0.6641, -0.0475, -0.0222,  0.0331,  0.0107,  0.0531,  0.0139,\n",
      "         0.0233,  0.0761,  0.1975, -0.0402,  0.5215,  0.0962,  0.0483, -0.0476,\n",
      "        -0.0540], grad_fn=<DivBackward0>)\n",
      "conti attr [tensor(0.2478, grad_fn=<UnbindBackward0>), tensor(-0.3358, grad_fn=<UnbindBackward0>), tensor(-0.0284, grad_fn=<UnbindBackward0>), tensor(0.0809, grad_fn=<UnbindBackward0>), tensor(0.0112, grad_fn=<UnbindBackward0>), tensor(0.0636, grad_fn=<UnbindBackward0>), tensor(0.1278, grad_fn=<UnbindBackward0>), tensor(0.0109, grad_fn=<UnbindBackward0>), tensor(-0.1195, grad_fn=<UnbindBackward0>), tensor(-0.6641, grad_fn=<UnbindBackward0>), tensor(-0.0475, grad_fn=<UnbindBackward0>), tensor(-0.0222, grad_fn=<UnbindBackward0>), tensor(0.0331, grad_fn=<UnbindBackward0>), tensor(0.0637, grad_fn=<AddBackward0>), tensor(0.0139, grad_fn=<UnbindBackward0>), tensor(0.2969, grad_fn=<AddBackward0>), tensor(-0.0402, grad_fn=<UnbindBackward0>), tensor(0.5215, grad_fn=<UnbindBackward0>), tensor(0.0962, grad_fn=<UnbindBackward0>), tensor(0.0483, grad_fn=<UnbindBackward0>), tensor(-0.0476, grad_fn=<UnbindBackward0>), tensor(-0.0540, grad_fn=<UnbindBackward0>)]\n",
      "detokenized ['<s>', 'about', 'the', 'best', 'thing', 'you', 'could', 'say', 'about', 'narc', 'is', 'that', 'it', \"'\", 's', 'a', 'rock', '-', 'solid', 'little', 'genre', 'picture', '.', '', '</s>']\n",
      "len conti_raw 22\n",
      "conti_raw ['<s>', 'about', 'the', 'best', 'thing', 'you', 'could', 'say', 'about', 'narc', 'is', 'that', 'it', \"'s\", 'a', 'rock-solid', 'little', 'genre', 'picture', '.', '', '</s>']\n"
     ]
    },
    {
     "data": {
      "text/html": [
       "<table width: 100%><div style=\"border-top: 1px solid; margin-top: 5px;             padding-top: 5px; display: inline-block\"><b>Legend: </b><span style=\"display: inline-block; width: 10px; height: 10px;                 border: 1px solid; background-color:                 hsl(0, 75%, 60%)\"></span> Negative  <span style=\"display: inline-block; width: 10px; height: 10px;                 border: 1px solid; background-color:                 hsl(0, 75%, 100%)\"></span> Neutral  <span style=\"display: inline-block; width: 10px; height: 10px;                 border: 1px solid; background-color:                 hsl(120, 75%, 50%)\"></span> Positive  </div><tr><th>True Label</th><th>Predicted Label</th><th>Attribution Label</th><th>Attribution Score</th><th>Word Importance</th><tr><td><text style=\"padding-right:2em\"><b>Pos</b></text></td><td><text style=\"padding-right:2em\"><b>Pos (1.00)</b></text></td><td><text style=\"padding-right:2em\"><b>Neg</b></text></td><td><text style=\"padding-right:2em\"><b>0.26</b></text></td><td><mark style=\"background-color: hsl(120, 75%, 88%); opacity:1.0;                     line-height:1.75\"><font color=\"black\"> #s                    </font></mark><mark style=\"background-color: hsl(0, 75%, 87%); opacity:1.0;                     line-height:1.75\"><font color=\"black\"> about                    </font></mark><mark style=\"background-color: hsl(0, 75%, 99%); opacity:1.0;                     line-height:1.75\"><font color=\"black\"> the                    </font></mark><mark style=\"background-color: hsl(120, 75%, 96%); opacity:1.0;                     line-height:1.75\"><font color=\"black\"> best                    </font></mark><mark style=\"background-color: hsl(120, 75%, 100%); opacity:1.0;                     line-height:1.75\"><font color=\"black\"> thing                    </font></mark><mark style=\"background-color: hsl(120, 75%, 97%); opacity:1.0;                     line-height:1.75\"><font color=\"black\"> you                    </font></mark><mark style=\"background-color: hsl(120, 75%, 94%); opacity:1.0;                     line-height:1.75\"><font color=\"black\"> could                    </font></mark><mark style=\"background-color: hsl(120, 75%, 100%); opacity:1.0;                     line-height:1.75\"><font color=\"black\"> say                    </font></mark><mark style=\"background-color: hsl(0, 75%, 96%); opacity:1.0;                     line-height:1.75\"><font color=\"black\"> about                    </font></mark><mark style=\"background-color: hsl(0, 75%, 74%); opacity:1.0;                     line-height:1.75\"><font color=\"black\"> narc                    </font></mark><mark style=\"background-color: hsl(0, 75%, 99%); opacity:1.0;                     line-height:1.75\"><font color=\"black\"> is                    </font></mark><mark style=\"background-color: hsl(0, 75%, 100%); opacity:1.0;                     line-height:1.75\"><font color=\"black\"> that                    </font></mark><mark style=\"background-color: hsl(120, 75%, 99%); opacity:1.0;                     line-height:1.75\"><font color=\"black\"> it                    </font></mark><mark style=\"background-color: hsl(120, 75%, 97%); opacity:1.0;                     line-height:1.75\"><font color=\"black\"> 's                    </font></mark><mark style=\"background-color: hsl(120, 75%, 100%); opacity:1.0;                     line-height:1.75\"><font color=\"black\"> a                    </font></mark><mark style=\"background-color: hsl(120, 75%, 86%); opacity:1.0;                     line-height:1.75\"><font color=\"black\"> rock-solid                    </font></mark><mark style=\"background-color: hsl(0, 75%, 99%); opacity:1.0;                     line-height:1.75\"><font color=\"black\"> little                    </font></mark><mark style=\"background-color: hsl(120, 75%, 74%); opacity:1.0;                     line-height:1.75\"><font color=\"black\"> genre                    </font></mark><mark style=\"background-color: hsl(120, 75%, 96%); opacity:1.0;                     line-height:1.75\"><font color=\"black\"> picture                    </font></mark><mark style=\"background-color: hsl(120, 75%, 98%); opacity:1.0;                     line-height:1.75\"><font color=\"black\"> .                    </font></mark><mark style=\"background-color: hsl(0, 75%, 99%); opacity:1.0;                     line-height:1.75\"><font color=\"black\">                     </font></mark><mark style=\"background-color: hsl(0, 75%, 98%); opacity:1.0;                     line-height:1.75\"><font color=\"black\"> #/s                    </font></mark></td><tr></table>"
      ],
      "text/plain": [
       "<IPython.core.display.HTML object>"
      ]
     },
     "metadata": {},
     "output_type": "display_data"
    },
    {
     "name": "stdout",
     "output_type": "stream",
     "text": [
      "<IPython.core.display.HTML object>\n",
      "Raw review: the very best \n",
      "GT target: 1\n",
      "word attr tensor([ 0.4920, -0.2719, -0.1029,  0.5414, -0.6116,  0.0794],\n",
      "       grad_fn=<DivBackward0>)\n",
      "conti attr [tensor(0.4920, grad_fn=<UnbindBackward0>), tensor(-0.2719, grad_fn=<UnbindBackward0>), tensor(-0.1029, grad_fn=<UnbindBackward0>), tensor(0.5414, grad_fn=<UnbindBackward0>), tensor(-0.6116, grad_fn=<UnbindBackward0>), tensor(0.0794, grad_fn=<UnbindBackward0>)]\n",
      "detokenized ['<s>', 'the', 'very', 'best', '', '</s>']\n",
      "len conti_raw 6\n",
      "conti_raw ['<s>', 'the', 'very', 'best', '', '</s>']\n"
     ]
    },
    {
     "data": {
      "text/html": [
       "<table width: 100%><div style=\"border-top: 1px solid; margin-top: 5px;             padding-top: 5px; display: inline-block\"><b>Legend: </b><span style=\"display: inline-block; width: 10px; height: 10px;                 border: 1px solid; background-color:                 hsl(0, 75%, 60%)\"></span> Negative  <span style=\"display: inline-block; width: 10px; height: 10px;                 border: 1px solid; background-color:                 hsl(0, 75%, 100%)\"></span> Neutral  <span style=\"display: inline-block; width: 10px; height: 10px;                 border: 1px solid; background-color:                 hsl(120, 75%, 50%)\"></span> Positive  </div><tr><th>True Label</th><th>Predicted Label</th><th>Attribution Label</th><th>Attribution Score</th><th>Word Importance</th><tr><td><text style=\"padding-right:2em\"><b>Pos</b></text></td><td><text style=\"padding-right:2em\"><b>Pos (1.00)</b></text></td><td><text style=\"padding-right:2em\"><b>Neg</b></text></td><td><text style=\"padding-right:2em\"><b>0.13</b></text></td><td><mark style=\"background-color: hsl(120, 75%, 76%); opacity:1.0;                     line-height:1.75\"><font color=\"black\"> #s                    </font></mark><mark style=\"background-color: hsl(0, 75%, 90%); opacity:1.0;                     line-height:1.75\"><font color=\"black\"> the                    </font></mark><mark style=\"background-color: hsl(0, 75%, 96%); opacity:1.0;                     line-height:1.75\"><font color=\"black\"> very                    </font></mark><mark style=\"background-color: hsl(120, 75%, 73%); opacity:1.0;                     line-height:1.75\"><font color=\"black\"> best                    </font></mark><mark style=\"background-color: hsl(0, 75%, 76%); opacity:1.0;                     line-height:1.75\"><font color=\"black\">                     </font></mark><mark style=\"background-color: hsl(120, 75%, 97%); opacity:1.0;                     line-height:1.75\"><font color=\"black\"> #/s                    </font></mark></td><tr></table>"
      ],
      "text/plain": [
       "<IPython.core.display.HTML object>"
      ]
     },
     "metadata": {},
     "output_type": "display_data"
    },
    {
     "name": "stdout",
     "output_type": "stream",
     "text": [
      "<IPython.core.display.HTML object>\n",
      "Raw review: been modeled on the worst revenge-of-the-nerds clichés the filmmakers could dredge up \n",
      "GT target: 0\n",
      "word attr tensor([ 0.4540,  0.0048,  0.3091,  0.0417,  0.0213, -0.1347, -0.0392,  0.2013,\n",
      "         0.1053,  0.0533, -0.0552,  0.0142, -0.6470, -0.0139, -0.2187,  0.2032,\n",
      "        -0.0113,  0.0929, -0.0786, -0.2290, -0.0291, -0.0908, -0.1822, -0.0340],\n",
      "       grad_fn=<DivBackward0>)\n",
      "conti attr [tensor(0.4540, grad_fn=<UnbindBackward0>), tensor(0.0048, grad_fn=<UnbindBackward0>), tensor(0.3091, grad_fn=<UnbindBackward0>), tensor(0.0417, grad_fn=<UnbindBackward0>), tensor(0.0213, grad_fn=<UnbindBackward0>), tensor(-0.1347, grad_fn=<UnbindBackward0>), tensor(-0.3812, grad_fn=<AddBackward0>), tensor(-0.0155, grad_fn=<AddBackward0>), tensor(-0.0113, grad_fn=<UnbindBackward0>), tensor(0.0929, grad_fn=<UnbindBackward0>), tensor(-0.0786, grad_fn=<UnbindBackward0>), tensor(-0.2581, grad_fn=<AddBackward0>), tensor(-0.0908, grad_fn=<UnbindBackward0>), tensor(-0.1822, grad_fn=<UnbindBackward0>), tensor(-0.0340, grad_fn=<UnbindBackward0>)]\n",
      "detokenized ['<s>', 'been', 'modeled', 'on', 'the', 'worst', 'revenge', '-', 'of', '-', 'the', '-', 'ner', 'ds', 'clich', 'Ã©s', 'the', 'filmmakers', 'could', 'dred', 'ge', 'up', '', '</s>']\n",
      "len conti_raw 15\n",
      "conti_raw ['<s>', 'been', 'modeled', 'on', 'the', 'worst', 'revenge-of-the-nerds', 'clichÃ©s', 'the', 'filmmakers', 'could', 'dredge', 'up', '', '</s>']\n"
     ]
    },
    {
     "data": {
      "text/html": [
       "<table width: 100%><div style=\"border-top: 1px solid; margin-top: 5px;             padding-top: 5px; display: inline-block\"><b>Legend: </b><span style=\"display: inline-block; width: 10px; height: 10px;                 border: 1px solid; background-color:                 hsl(0, 75%, 60%)\"></span> Negative  <span style=\"display: inline-block; width: 10px; height: 10px;                 border: 1px solid; background-color:                 hsl(0, 75%, 100%)\"></span> Neutral  <span style=\"display: inline-block; width: 10px; height: 10px;                 border: 1px solid; background-color:                 hsl(120, 75%, 50%)\"></span> Positive  </div><tr><th>True Label</th><th>Predicted Label</th><th>Attribution Label</th><th>Attribution Score</th><th>Word Importance</th><tr><td><text style=\"padding-right:2em\"><b>Neg</b></text></td><td><text style=\"padding-right:2em\"><b>Neg (0.00)</b></text></td><td><text style=\"padding-right:2em\"><b>Neg</b></text></td><td><text style=\"padding-right:2em\"><b>-0.26</b></text></td><td><mark style=\"background-color: hsl(120, 75%, 78%); opacity:1.0;                     line-height:1.75\"><font color=\"black\"> #s                    </font></mark><mark style=\"background-color: hsl(120, 75%, 100%); opacity:1.0;                     line-height:1.75\"><font color=\"black\"> been                    </font></mark><mark style=\"background-color: hsl(120, 75%, 85%); opacity:1.0;                     line-height:1.75\"><font color=\"black\"> modeled                    </font></mark><mark style=\"background-color: hsl(120, 75%, 98%); opacity:1.0;                     line-height:1.75\"><font color=\"black\"> on                    </font></mark><mark style=\"background-color: hsl(120, 75%, 99%); opacity:1.0;                     line-height:1.75\"><font color=\"black\"> the                    </font></mark><mark style=\"background-color: hsl(0, 75%, 95%); opacity:1.0;                     line-height:1.75\"><font color=\"black\"> worst                    </font></mark><mark style=\"background-color: hsl(0, 75%, 85%); opacity:1.0;                     line-height:1.75\"><font color=\"black\"> revenge-of-the-nerds                    </font></mark><mark style=\"background-color: hsl(0, 75%, 100%); opacity:1.0;                     line-height:1.75\"><font color=\"black\"> clichÃ©s                    </font></mark><mark style=\"background-color: hsl(0, 75%, 100%); opacity:1.0;                     line-height:1.75\"><font color=\"black\"> the                    </font></mark><mark style=\"background-color: hsl(120, 75%, 96%); opacity:1.0;                     line-height:1.75\"><font color=\"black\"> filmmakers                    </font></mark><mark style=\"background-color: hsl(0, 75%, 97%); opacity:1.0;                     line-height:1.75\"><font color=\"black\"> could                    </font></mark><mark style=\"background-color: hsl(0, 75%, 90%); opacity:1.0;                     line-height:1.75\"><font color=\"black\"> dredge                    </font></mark><mark style=\"background-color: hsl(0, 75%, 97%); opacity:1.0;                     line-height:1.75\"><font color=\"black\"> up                    </font></mark><mark style=\"background-color: hsl(0, 75%, 93%); opacity:1.0;                     line-height:1.75\"><font color=\"black\">                     </font></mark><mark style=\"background-color: hsl(0, 75%, 99%); opacity:1.0;                     line-height:1.75\"><font color=\"black\"> #/s                    </font></mark></td><tr></table>"
      ],
      "text/plain": [
       "<IPython.core.display.HTML object>"
      ]
     },
     "metadata": {},
     "output_type": "display_data"
    },
    {
     "name": "stdout",
     "output_type": "stream",
     "text": [
      "<IPython.core.display.HTML object>\n",
      "Raw review: tell you \n",
      "GT target: 1\n",
      "word attr tensor([-0.0480,  0.1916, -0.8431,  0.4950, -0.0708], grad_fn=<DivBackward0>)\n",
      "conti attr [tensor(-0.0480, grad_fn=<UnbindBackward0>), tensor(0.1916, grad_fn=<UnbindBackward0>), tensor(-0.8431, grad_fn=<UnbindBackward0>), tensor(0.4950, grad_fn=<UnbindBackward0>), tensor(-0.0708, grad_fn=<UnbindBackward0>)]\n",
      "detokenized ['<s>', 'tell', 'you', '', '</s>']\n",
      "len conti_raw 5\n",
      "conti_raw ['<s>', 'tell', 'you', '', '</s>']\n"
     ]
    },
    {
     "data": {
      "text/html": [
       "<table width: 100%><div style=\"border-top: 1px solid; margin-top: 5px;             padding-top: 5px; display: inline-block\"><b>Legend: </b><span style=\"display: inline-block; width: 10px; height: 10px;                 border: 1px solid; background-color:                 hsl(0, 75%, 60%)\"></span> Negative  <span style=\"display: inline-block; width: 10px; height: 10px;                 border: 1px solid; background-color:                 hsl(0, 75%, 100%)\"></span> Neutral  <span style=\"display: inline-block; width: 10px; height: 10px;                 border: 1px solid; background-color:                 hsl(120, 75%, 50%)\"></span> Positive  </div><tr><th>True Label</th><th>Predicted Label</th><th>Attribution Label</th><th>Attribution Score</th><th>Word Importance</th><tr><td><text style=\"padding-right:2em\"><b>Pos</b></text></td><td><text style=\"padding-right:2em\"><b>Pos (0.93)</b></text></td><td><text style=\"padding-right:2em\"><b>Neg</b></text></td><td><text style=\"padding-right:2em\"><b>-0.28</b></text></td><td><mark style=\"background-color: hsl(0, 75%, 99%); opacity:1.0;                     line-height:1.75\"><font color=\"black\"> #s                    </font></mark><mark style=\"background-color: hsl(120, 75%, 91%); opacity:1.0;                     line-height:1.75\"><font color=\"black\"> tell                    </font></mark><mark style=\"background-color: hsl(0, 75%, 67%); opacity:1.0;                     line-height:1.75\"><font color=\"black\"> you                    </font></mark><mark style=\"background-color: hsl(120, 75%, 76%); opacity:1.0;                     line-height:1.75\"><font color=\"black\">                     </font></mark><mark style=\"background-color: hsl(0, 75%, 98%); opacity:1.0;                     line-height:1.75\"><font color=\"black\"> #/s                    </font></mark></td><tr></table>"
      ],
      "text/plain": [
       "<IPython.core.display.HTML object>"
      ]
     },
     "metadata": {},
     "output_type": "display_data"
    },
    {
     "name": "stdout",
     "output_type": "stream",
     "text": [
      "<IPython.core.display.HTML object>\n",
      "Raw review: utterly absorbing \n",
      "GT target: 1\n",
      "word attr tensor([ 0.2134, -0.4647, -0.3549,  0.6679, -0.3917,  0.1144],\n",
      "       grad_fn=<DivBackward0>)\n",
      "conti attr [tensor(0.2134, grad_fn=<UnbindBackward0>), tensor(-0.8196, grad_fn=<AddBackward0>), tensor(0.6679, grad_fn=<UnbindBackward0>), tensor(-0.3917, grad_fn=<UnbindBackward0>), tensor(0.1144, grad_fn=<UnbindBackward0>)]\n",
      "detokenized ['<s>', 'utter', 'ly', 'absorbing', '', '</s>']\n",
      "len conti_raw 5\n",
      "conti_raw ['<s>', 'utterly', 'absorbing', '', '</s>']\n"
     ]
    },
    {
     "data": {
      "text/html": [
       "<table width: 100%><div style=\"border-top: 1px solid; margin-top: 5px;             padding-top: 5px; display: inline-block\"><b>Legend: </b><span style=\"display: inline-block; width: 10px; height: 10px;                 border: 1px solid; background-color:                 hsl(0, 75%, 60%)\"></span> Negative  <span style=\"display: inline-block; width: 10px; height: 10px;                 border: 1px solid; background-color:                 hsl(0, 75%, 100%)\"></span> Neutral  <span style=\"display: inline-block; width: 10px; height: 10px;                 border: 1px solid; background-color:                 hsl(120, 75%, 50%)\"></span> Positive  </div><tr><th>True Label</th><th>Predicted Label</th><th>Attribution Label</th><th>Attribution Score</th><th>Word Importance</th><tr><td><text style=\"padding-right:2em\"><b>Pos</b></text></td><td><text style=\"padding-right:2em\"><b>Pos (1.00)</b></text></td><td><text style=\"padding-right:2em\"><b>Neg</b></text></td><td><text style=\"padding-right:2em\"><b>-0.22</b></text></td><td><mark style=\"background-color: hsl(120, 75%, 90%); opacity:1.0;                     line-height:1.75\"><font color=\"black\"> #s                    </font></mark><mark style=\"background-color: hsl(0, 75%, 68%); opacity:1.0;                     line-height:1.75\"><font color=\"black\"> utterly                    </font></mark><mark style=\"background-color: hsl(120, 75%, 67%); opacity:1.0;                     line-height:1.75\"><font color=\"black\"> absorbing                    </font></mark><mark style=\"background-color: hsl(0, 75%, 85%); opacity:1.0;                     line-height:1.75\"><font color=\"black\">                     </font></mark><mark style=\"background-color: hsl(120, 75%, 95%); opacity:1.0;                     line-height:1.75\"><font color=\"black\"> #/s                    </font></mark></td><tr></table>"
      ],
      "text/plain": [
       "<IPython.core.display.HTML object>"
      ]
     },
     "metadata": {},
     "output_type": "display_data"
    },
    {
     "name": "stdout",
     "output_type": "stream",
     "text": [
      "<IPython.core.display.HTML object>\n",
      "Raw review: restate \n",
      "GT target: 0\n",
      "word attr tensor([-0.1887, -0.7307,  0.4411, -0.4807,  0.0697], grad_fn=<DivBackward0>)\n",
      "conti attr [tensor(-0.1887, grad_fn=<UnbindBackward0>), tensor(-0.2895, grad_fn=<AddBackward0>), tensor(-0.4807, grad_fn=<UnbindBackward0>), tensor(0.0697, grad_fn=<UnbindBackward0>)]\n",
      "detokenized ['<s>', 'rest', 'ate', '', '</s>']\n",
      "len conti_raw 4\n",
      "conti_raw ['<s>', 'restate', '', '</s>']\n"
     ]
    },
    {
     "data": {
      "text/html": [
       "<table width: 100%><div style=\"border-top: 1px solid; margin-top: 5px;             padding-top: 5px; display: inline-block\"><b>Legend: </b><span style=\"display: inline-block; width: 10px; height: 10px;                 border: 1px solid; background-color:                 hsl(0, 75%, 60%)\"></span> Negative  <span style=\"display: inline-block; width: 10px; height: 10px;                 border: 1px solid; background-color:                 hsl(0, 75%, 100%)\"></span> Neutral  <span style=\"display: inline-block; width: 10px; height: 10px;                 border: 1px solid; background-color:                 hsl(120, 75%, 50%)\"></span> Positive  </div><tr><th>True Label</th><th>Predicted Label</th><th>Attribution Label</th><th>Attribution Score</th><th>Word Importance</th><tr><td><text style=\"padding-right:2em\"><b>Neg</b></text></td><td><text style=\"padding-right:2em\"><b>Neg (0.05)</b></text></td><td><text style=\"padding-right:2em\"><b>Neg</b></text></td><td><text style=\"padding-right:2em\"><b>-0.89</b></text></td><td><mark style=\"background-color: hsl(0, 75%, 93%); opacity:1.0;                     line-height:1.75\"><font color=\"black\"> #s                    </font></mark><mark style=\"background-color: hsl(0, 75%, 89%); opacity:1.0;                     line-height:1.75\"><font color=\"black\"> restate                    </font></mark><mark style=\"background-color: hsl(0, 75%, 81%); opacity:1.0;                     line-height:1.75\"><font color=\"black\">                     </font></mark><mark style=\"background-color: hsl(120, 75%, 97%); opacity:1.0;                     line-height:1.75\"><font color=\"black\"> #/s                    </font></mark></td><tr></table>"
      ],
      "text/plain": [
       "<IPython.core.display.HTML object>"
      ]
     },
     "metadata": {},
     "output_type": "display_data"
    },
    {
     "name": "stdout",
     "output_type": "stream",
     "text": [
      "<IPython.core.display.HTML object>\n",
      "Raw review: bears about as much resemblance to the experiences of most battered women as spider-man \n",
      "GT target: 0\n",
      "word attr tensor([ 0.2617,  0.0098, -0.5541, -0.4591, -0.2683,  0.0436, -0.1642, -0.0459,\n",
      "        -0.0692,  0.3432, -0.0554, -0.0519,  0.2999,  0.1049,  0.0568, -0.2539,\n",
      "        -0.0122,  0.0816, -0.0154,  0.0818], grad_fn=<DivBackward0>)\n",
      "conti attr [tensor(0.2617, grad_fn=<UnbindBackward0>), tensor(-0.5443, grad_fn=<AddBackward0>), tensor(-0.4591, grad_fn=<UnbindBackward0>), tensor(-0.2683, grad_fn=<UnbindBackward0>), tensor(0.0436, grad_fn=<UnbindBackward0>), tensor(-0.1642, grad_fn=<UnbindBackward0>), tensor(-0.0459, grad_fn=<UnbindBackward0>), tensor(-0.0692, grad_fn=<UnbindBackward0>), tensor(0.3432, grad_fn=<UnbindBackward0>), tensor(-0.0554, grad_fn=<UnbindBackward0>), tensor(-0.0519, grad_fn=<UnbindBackward0>), tensor(0.2999, grad_fn=<UnbindBackward0>), tensor(0.1049, grad_fn=<UnbindBackward0>), tensor(0.0568, grad_fn=<UnbindBackward0>), tensor(-0.1845, grad_fn=<AddBackward0>), tensor(-0.0154, grad_fn=<UnbindBackward0>), tensor(0.0818, grad_fn=<UnbindBackward0>)]\n",
      "detokenized ['<s>', 'b', 'ears', 'about', 'as', 'much', 'resemblance', 'to', 'the', 'experiences', 'of', 'most', 'battered', 'women', 'as', 'spider', '-', 'man', '', '</s>']\n",
      "len conti_raw 17\n",
      "conti_raw ['<s>', 'bears', 'about', 'as', 'much', 'resemblance', 'to', 'the', 'experiences', 'of', 'most', 'battered', 'women', 'as', 'spider-man', '', '</s>']\n"
     ]
    },
    {
     "data": {
      "text/html": [
       "<table width: 100%><div style=\"border-top: 1px solid; margin-top: 5px;             padding-top: 5px; display: inline-block\"><b>Legend: </b><span style=\"display: inline-block; width: 10px; height: 10px;                 border: 1px solid; background-color:                 hsl(0, 75%, 60%)\"></span> Negative  <span style=\"display: inline-block; width: 10px; height: 10px;                 border: 1px solid; background-color:                 hsl(0, 75%, 100%)\"></span> Neutral  <span style=\"display: inline-block; width: 10px; height: 10px;                 border: 1px solid; background-color:                 hsl(120, 75%, 50%)\"></span> Positive  </div><tr><th>True Label</th><th>Predicted Label</th><th>Attribution Label</th><th>Attribution Score</th><th>Word Importance</th><tr><td><text style=\"padding-right:2em\"><b>Neg</b></text></td><td><text style=\"padding-right:2em\"><b>Neg (0.00)</b></text></td><td><text style=\"padding-right:2em\"><b>Neg</b></text></td><td><text style=\"padding-right:2em\"><b>-0.67</b></text></td><td><mark style=\"background-color: hsl(120, 75%, 87%); opacity:1.0;                     line-height:1.75\"><font color=\"black\"> #s                    </font></mark><mark style=\"background-color: hsl(0, 75%, 79%); opacity:1.0;                     line-height:1.75\"><font color=\"black\"> bears                    </font></mark><mark style=\"background-color: hsl(0, 75%, 82%); opacity:1.0;                     line-height:1.75\"><font color=\"black\"> about                    </font></mark><mark style=\"background-color: hsl(0, 75%, 90%); opacity:1.0;                     line-height:1.75\"><font color=\"black\"> as                    </font></mark><mark style=\"background-color: hsl(120, 75%, 98%); opacity:1.0;                     line-height:1.75\"><font color=\"black\"> much                    </font></mark><mark style=\"background-color: hsl(0, 75%, 94%); opacity:1.0;                     line-height:1.75\"><font color=\"black\"> resemblance                    </font></mark><mark style=\"background-color: hsl(0, 75%, 99%); opacity:1.0;                     line-height:1.75\"><font color=\"black\"> to                    </font></mark><mark style=\"background-color: hsl(0, 75%, 98%); opacity:1.0;                     line-height:1.75\"><font color=\"black\"> the                    </font></mark><mark style=\"background-color: hsl(120, 75%, 83%); opacity:1.0;                     line-height:1.75\"><font color=\"black\"> experiences                    </font></mark><mark style=\"background-color: hsl(0, 75%, 98%); opacity:1.0;                     line-height:1.75\"><font color=\"black\"> of                    </font></mark><mark style=\"background-color: hsl(0, 75%, 98%); opacity:1.0;                     line-height:1.75\"><font color=\"black\"> most                    </font></mark><mark style=\"background-color: hsl(120, 75%, 86%); opacity:1.0;                     line-height:1.75\"><font color=\"black\"> battered                    </font></mark><mark style=\"background-color: hsl(120, 75%, 95%); opacity:1.0;                     line-height:1.75\"><font color=\"black\"> women                    </font></mark><mark style=\"background-color: hsl(120, 75%, 98%); opacity:1.0;                     line-height:1.75\"><font color=\"black\"> as                    </font></mark><mark style=\"background-color: hsl(0, 75%, 93%); opacity:1.0;                     line-height:1.75\"><font color=\"black\"> spider-man                    </font></mark><mark style=\"background-color: hsl(0, 75%, 100%); opacity:1.0;                     line-height:1.75\"><font color=\"black\">                     </font></mark><mark style=\"background-color: hsl(120, 75%, 96%); opacity:1.0;                     line-height:1.75\"><font color=\"black\"> #/s                    </font></mark></td><tr></table>"
      ],
      "text/plain": [
       "<IPython.core.display.HTML object>"
      ]
     },
     "metadata": {},
     "output_type": "display_data"
    },
    {
     "name": "stdout",
     "output_type": "stream",
     "text": [
      "<IPython.core.display.HTML object>\n",
      "Raw review: expressively performed \n",
      "GT target: 1\n",
      "word attr tensor([-0.6475,  0.3897,  0.3736, -0.1215,  0.4810, -0.2077],\n",
      "       grad_fn=<DivBackward0>)\n",
      "conti attr [tensor(-0.6475, grad_fn=<UnbindBackward0>), tensor(0.7633, grad_fn=<AddBackward0>), tensor(-0.1215, grad_fn=<UnbindBackward0>), tensor(0.4810, grad_fn=<UnbindBackward0>), tensor(-0.2077, grad_fn=<UnbindBackward0>)]\n",
      "detokenized ['<s>', 'express', 'ively', 'performed', '', '</s>']\n",
      "len conti_raw 5\n",
      "conti_raw ['<s>', 'expressively', 'performed', '', '</s>']\n"
     ]
    },
    {
     "data": {
      "text/html": [
       "<table width: 100%><div style=\"border-top: 1px solid; margin-top: 5px;             padding-top: 5px; display: inline-block\"><b>Legend: </b><span style=\"display: inline-block; width: 10px; height: 10px;                 border: 1px solid; background-color:                 hsl(0, 75%, 60%)\"></span> Negative  <span style=\"display: inline-block; width: 10px; height: 10px;                 border: 1px solid; background-color:                 hsl(0, 75%, 100%)\"></span> Neutral  <span style=\"display: inline-block; width: 10px; height: 10px;                 border: 1px solid; background-color:                 hsl(120, 75%, 50%)\"></span> Positive  </div><tr><th>True Label</th><th>Predicted Label</th><th>Attribution Label</th><th>Attribution Score</th><th>Word Importance</th><tr><td><text style=\"padding-right:2em\"><b>Pos</b></text></td><td><text style=\"padding-right:2em\"><b>Pos (1.00)</b></text></td><td><text style=\"padding-right:2em\"><b>Neg</b></text></td><td><text style=\"padding-right:2em\"><b>0.27</b></text></td><td><mark style=\"background-color: hsl(0, 75%, 75%); opacity:1.0;                     line-height:1.75\"><font color=\"black\"> #s                    </font></mark><mark style=\"background-color: hsl(120, 75%, 62%); opacity:1.0;                     line-height:1.75\"><font color=\"black\"> expressively                    </font></mark><mark style=\"background-color: hsl(0, 75%, 96%); opacity:1.0;                     line-height:1.75\"><font color=\"black\"> performed                    </font></mark><mark style=\"background-color: hsl(120, 75%, 76%); opacity:1.0;                     line-height:1.75\"><font color=\"black\">                     </font></mark><mark style=\"background-color: hsl(0, 75%, 92%); opacity:1.0;                     line-height:1.75\"><font color=\"black\"> #/s                    </font></mark></td><tr></table>"
      ],
      "text/plain": [
       "<IPython.core.display.HTML object>"
      ]
     },
     "metadata": {},
     "output_type": "display_data"
    },
    {
     "name": "stdout",
     "output_type": "stream",
     "text": [
      "<IPython.core.display.HTML object>\n",
      "Raw review: the acting is amateurish , the cinematography is atrocious \n",
      "GT target: 0\n",
      "word attr tensor([ 0.3957, -0.2184, -0.1258,  0.2974, -0.2875, -0.2257,  0.0889, -0.1521,\n",
      "         0.1818, -0.3385,  0.1416, -0.3818,  0.0057, -0.4235,  0.1843],\n",
      "       grad_fn=<DivBackward0>)\n",
      "conti attr [tensor(0.3957, grad_fn=<UnbindBackward0>), tensor(-0.2184, grad_fn=<UnbindBackward0>), tensor(-0.1258, grad_fn=<UnbindBackward0>), tensor(0.2974, grad_fn=<UnbindBackward0>), tensor(-0.5132, grad_fn=<AddBackward0>), tensor(0.0889, grad_fn=<UnbindBackward0>), tensor(-0.1521, grad_fn=<UnbindBackward0>), tensor(-0.1567, grad_fn=<AddBackward0>), tensor(0.1416, grad_fn=<UnbindBackward0>), tensor(-0.3761, grad_fn=<AddBackward0>), tensor(-0.4235, grad_fn=<UnbindBackward0>), tensor(0.1843, grad_fn=<UnbindBackward0>)]\n",
      "detokenized ['<s>', 'the', 'acting', 'is', 'amateur', 'ish', ',', 'the', 'cinem', 'atography', 'is', 'atro', 'cious', '', '</s>']\n",
      "len conti_raw 12\n",
      "conti_raw ['<s>', 'the', 'acting', 'is', 'amateurish', ',', 'the', 'cinematography', 'is', 'atrocious', '', '</s>']\n"
     ]
    },
    {
     "data": {
      "text/html": [
       "<table width: 100%><div style=\"border-top: 1px solid; margin-top: 5px;             padding-top: 5px; display: inline-block\"><b>Legend: </b><span style=\"display: inline-block; width: 10px; height: 10px;                 border: 1px solid; background-color:                 hsl(0, 75%, 60%)\"></span> Negative  <span style=\"display: inline-block; width: 10px; height: 10px;                 border: 1px solid; background-color:                 hsl(0, 75%, 100%)\"></span> Neutral  <span style=\"display: inline-block; width: 10px; height: 10px;                 border: 1px solid; background-color:                 hsl(120, 75%, 50%)\"></span> Positive  </div><tr><th>True Label</th><th>Predicted Label</th><th>Attribution Label</th><th>Attribution Score</th><th>Word Importance</th><tr><td><text style=\"padding-right:2em\"><b>Neg</b></text></td><td><text style=\"padding-right:2em\"><b>Neg (0.00)</b></text></td><td><text style=\"padding-right:2em\"><b>Neg</b></text></td><td><text style=\"padding-right:2em\"><b>-0.86</b></text></td><td><mark style=\"background-color: hsl(120, 75%, 81%); opacity:1.0;                     line-height:1.75\"><font color=\"black\"> #s                    </font></mark><mark style=\"background-color: hsl(0, 75%, 92%); opacity:1.0;                     line-height:1.75\"><font color=\"black\"> the                    </font></mark><mark style=\"background-color: hsl(0, 75%, 95%); opacity:1.0;                     line-height:1.75\"><font color=\"black\"> acting                    </font></mark><mark style=\"background-color: hsl(120, 75%, 86%); opacity:1.0;                     line-height:1.75\"><font color=\"black\"> is                    </font></mark><mark style=\"background-color: hsl(0, 75%, 80%); opacity:1.0;                     line-height:1.75\"><font color=\"black\"> amateurish                    </font></mark><mark style=\"background-color: hsl(120, 75%, 96%); opacity:1.0;                     line-height:1.75\"><font color=\"black\"> ,                    </font></mark><mark style=\"background-color: hsl(0, 75%, 94%); opacity:1.0;                     line-height:1.75\"><font color=\"black\"> the                    </font></mark><mark style=\"background-color: hsl(0, 75%, 94%); opacity:1.0;                     line-height:1.75\"><font color=\"black\"> cinematography                    </font></mark><mark style=\"background-color: hsl(120, 75%, 93%); opacity:1.0;                     line-height:1.75\"><font color=\"black\"> is                    </font></mark><mark style=\"background-color: hsl(0, 75%, 85%); opacity:1.0;                     line-height:1.75\"><font color=\"black\"> atrocious                    </font></mark><mark style=\"background-color: hsl(0, 75%, 84%); opacity:1.0;                     line-height:1.75\"><font color=\"black\">                     </font></mark><mark style=\"background-color: hsl(120, 75%, 91%); opacity:1.0;                     line-height:1.75\"><font color=\"black\"> #/s                    </font></mark></td><tr></table>"
      ],
      "text/plain": [
       "<IPython.core.display.HTML object>"
      ]
     },
     "metadata": {},
     "output_type": "display_data"
    },
    {
     "name": "stdout",
     "output_type": "stream",
     "text": [
      "<IPython.core.display.HTML object>\n",
      "Raw review: solidly constructed \n",
      "GT target: 1\n",
      "word attr tensor([ 0.7158,  0.1750,  0.0459, -0.3518, -0.5742, -0.0363],\n",
      "       grad_fn=<DivBackward0>)\n",
      "conti attr [tensor(0.7158, grad_fn=<UnbindBackward0>), tensor(0.2209, grad_fn=<AddBackward0>), tensor(-0.3518, grad_fn=<UnbindBackward0>), tensor(-0.5742, grad_fn=<UnbindBackward0>), tensor(-0.0363, grad_fn=<UnbindBackward0>)]\n",
      "detokenized ['<s>', 'solid', 'ly', 'constructed', '', '</s>']\n",
      "len conti_raw 5\n",
      "conti_raw ['<s>', 'solidly', 'constructed', '', '</s>']\n"
     ]
    },
    {
     "data": {
      "text/html": [
       "<table width: 100%><div style=\"border-top: 1px solid; margin-top: 5px;             padding-top: 5px; display: inline-block\"><b>Legend: </b><span style=\"display: inline-block; width: 10px; height: 10px;                 border: 1px solid; background-color:                 hsl(0, 75%, 60%)\"></span> Negative  <span style=\"display: inline-block; width: 10px; height: 10px;                 border: 1px solid; background-color:                 hsl(0, 75%, 100%)\"></span> Neutral  <span style=\"display: inline-block; width: 10px; height: 10px;                 border: 1px solid; background-color:                 hsl(120, 75%, 50%)\"></span> Positive  </div><tr><th>True Label</th><th>Predicted Label</th><th>Attribution Label</th><th>Attribution Score</th><th>Word Importance</th><tr><td><text style=\"padding-right:2em\"><b>Pos</b></text></td><td><text style=\"padding-right:2em\"><b>Pos (1.00)</b></text></td><td><text style=\"padding-right:2em\"><b>Neg</b></text></td><td><text style=\"padding-right:2em\"><b>-0.03</b></text></td><td><mark style=\"background-color: hsl(120, 75%, 65%); opacity:1.0;                     line-height:1.75\"><font color=\"black\"> #s                    </font></mark><mark style=\"background-color: hsl(120, 75%, 89%); opacity:1.0;                     line-height:1.75\"><font color=\"black\"> solidly                    </font></mark><mark style=\"background-color: hsl(0, 75%, 86%); opacity:1.0;                     line-height:1.75\"><font color=\"black\"> constructed                    </font></mark><mark style=\"background-color: hsl(0, 75%, 78%); opacity:1.0;                     line-height:1.75\"><font color=\"black\">                     </font></mark><mark style=\"background-color: hsl(0, 75%, 99%); opacity:1.0;                     line-height:1.75\"><font color=\"black\"> #/s                    </font></mark></td><tr></table>"
      ],
      "text/plain": [
       "<IPython.core.display.HTML object>"
      ]
     },
     "metadata": {},
     "output_type": "display_data"
    },
    {
     "name": "stdout",
     "output_type": "stream",
     "text": [
      "<IPython.core.display.HTML object>\n",
      "Raw review: are undermined by the movie 's presentation , which is way too stagy \n",
      "GT target: 0\n",
      "word attr tensor([ 0.1333,  0.1087, -0.1548, -0.1518,  0.0739,  0.3579, -0.3539, -0.0514,\n",
      "         0.4062,  0.1479,  0.0791, -0.2113,  0.1267,  0.0765,  0.5778, -0.1425,\n",
      "        -0.2192,  0.0103], grad_fn=<DivBackward0>)\n",
      "conti attr [tensor(0.1333, grad_fn=<UnbindBackward0>), tensor(0.1087, grad_fn=<UnbindBackward0>), tensor(-0.1548, grad_fn=<UnbindBackward0>), tensor(-0.1518, grad_fn=<UnbindBackward0>), tensor(0.0739, grad_fn=<UnbindBackward0>), tensor(0.3579, grad_fn=<UnbindBackward0>), tensor(-0.4052, grad_fn=<AddBackward0>), tensor(0.4062, grad_fn=<UnbindBackward0>), tensor(0.1479, grad_fn=<UnbindBackward0>), tensor(0.0791, grad_fn=<UnbindBackward0>), tensor(-0.2113, grad_fn=<UnbindBackward0>), tensor(0.1267, grad_fn=<UnbindBackward0>), tensor(0.0765, grad_fn=<UnbindBackward0>), tensor(0.4353, grad_fn=<AddBackward0>), tensor(-0.2192, grad_fn=<UnbindBackward0>), tensor(0.0103, grad_fn=<UnbindBackward0>)]\n",
      "detokenized ['<s>', 'are', 'undermined', 'by', 'the', 'movie', \"'\", 's', 'presentation', ',', 'which', 'is', 'way', 'too', 'stag', 'y', '', '</s>']\n",
      "len conti_raw 16\n",
      "conti_raw ['<s>', 'are', 'undermined', 'by', 'the', 'movie', \"'s\", 'presentation', ',', 'which', 'is', 'way', 'too', 'stagy', '', '</s>']\n"
     ]
    },
    {
     "data": {
      "text/html": [
       "<table width: 100%><div style=\"border-top: 1px solid; margin-top: 5px;             padding-top: 5px; display: inline-block\"><b>Legend: </b><span style=\"display: inline-block; width: 10px; height: 10px;                 border: 1px solid; background-color:                 hsl(0, 75%, 60%)\"></span> Negative  <span style=\"display: inline-block; width: 10px; height: 10px;                 border: 1px solid; background-color:                 hsl(0, 75%, 100%)\"></span> Neutral  <span style=\"display: inline-block; width: 10px; height: 10px;                 border: 1px solid; background-color:                 hsl(120, 75%, 50%)\"></span> Positive  </div><tr><th>True Label</th><th>Predicted Label</th><th>Attribution Label</th><th>Attribution Score</th><th>Word Importance</th><tr><td><text style=\"padding-right:2em\"><b>Neg</b></text></td><td><text style=\"padding-right:2em\"><b>Neg (0.00)</b></text></td><td><text style=\"padding-right:2em\"><b>Pos</b></text></td><td><text style=\"padding-right:2em\"><b>0.81</b></text></td><td><mark style=\"background-color: hsl(120, 75%, 94%); opacity:1.0;                     line-height:1.75\"><font color=\"black\"> #s                    </font></mark><mark style=\"background-color: hsl(120, 75%, 95%); opacity:1.0;                     line-height:1.75\"><font color=\"black\"> are                    </font></mark><mark style=\"background-color: hsl(0, 75%, 94%); opacity:1.0;                     line-height:1.75\"><font color=\"black\"> undermined                    </font></mark><mark style=\"background-color: hsl(0, 75%, 94%); opacity:1.0;                     line-height:1.75\"><font color=\"black\"> by                    </font></mark><mark style=\"background-color: hsl(120, 75%, 97%); opacity:1.0;                     line-height:1.75\"><font color=\"black\"> the                    </font></mark><mark style=\"background-color: hsl(120, 75%, 83%); opacity:1.0;                     line-height:1.75\"><font color=\"black\"> movie                    </font></mark><mark style=\"background-color: hsl(0, 75%, 84%); opacity:1.0;                     line-height:1.75\"><font color=\"black\"> 's                    </font></mark><mark style=\"background-color: hsl(120, 75%, 80%); opacity:1.0;                     line-height:1.75\"><font color=\"black\"> presentation                    </font></mark><mark style=\"background-color: hsl(120, 75%, 93%); opacity:1.0;                     line-height:1.75\"><font color=\"black\"> ,                    </font></mark><mark style=\"background-color: hsl(120, 75%, 97%); opacity:1.0;                     line-height:1.75\"><font color=\"black\"> which                    </font></mark><mark style=\"background-color: hsl(0, 75%, 92%); opacity:1.0;                     line-height:1.75\"><font color=\"black\"> is                    </font></mark><mark style=\"background-color: hsl(120, 75%, 94%); opacity:1.0;                     line-height:1.75\"><font color=\"black\"> way                    </font></mark><mark style=\"background-color: hsl(120, 75%, 97%); opacity:1.0;                     line-height:1.75\"><font color=\"black\"> too                    </font></mark><mark style=\"background-color: hsl(120, 75%, 79%); opacity:1.0;                     line-height:1.75\"><font color=\"black\"> stagy                    </font></mark><mark style=\"background-color: hsl(0, 75%, 92%); opacity:1.0;                     line-height:1.75\"><font color=\"black\">                     </font></mark><mark style=\"background-color: hsl(120, 75%, 100%); opacity:1.0;                     line-height:1.75\"><font color=\"black\"> #/s                    </font></mark></td><tr></table>"
      ],
      "text/plain": [
       "<IPython.core.display.HTML object>"
      ]
     },
     "metadata": {},
     "output_type": "display_data"
    },
    {
     "name": "stdout",
     "output_type": "stream",
     "text": [
      "<IPython.core.display.HTML object>\n",
      "Raw review: a great film \n",
      "GT target: 1\n",
      "word attr tensor([-0.2723, -0.0274,  0.7034, -0.0913, -0.6494, -0.0185],\n",
      "       grad_fn=<DivBackward0>)\n",
      "conti attr [tensor(-0.2723, grad_fn=<UnbindBackward0>), tensor(-0.0274, grad_fn=<UnbindBackward0>), tensor(0.7034, grad_fn=<UnbindBackward0>), tensor(-0.0913, grad_fn=<UnbindBackward0>), tensor(-0.6494, grad_fn=<UnbindBackward0>), tensor(-0.0185, grad_fn=<UnbindBackward0>)]\n",
      "detokenized ['<s>', 'a', 'great', 'film', '', '</s>']\n",
      "len conti_raw 6\n",
      "conti_raw ['<s>', 'a', 'great', 'film', '', '</s>']\n"
     ]
    },
    {
     "data": {
      "text/html": [
       "<table width: 100%><div style=\"border-top: 1px solid; margin-top: 5px;             padding-top: 5px; display: inline-block\"><b>Legend: </b><span style=\"display: inline-block; width: 10px; height: 10px;                 border: 1px solid; background-color:                 hsl(0, 75%, 60%)\"></span> Negative  <span style=\"display: inline-block; width: 10px; height: 10px;                 border: 1px solid; background-color:                 hsl(0, 75%, 100%)\"></span> Neutral  <span style=\"display: inline-block; width: 10px; height: 10px;                 border: 1px solid; background-color:                 hsl(120, 75%, 50%)\"></span> Positive  </div><tr><th>True Label</th><th>Predicted Label</th><th>Attribution Label</th><th>Attribution Score</th><th>Word Importance</th><tr><td><text style=\"padding-right:2em\"><b>Pos</b></text></td><td><text style=\"padding-right:2em\"><b>Pos (1.00)</b></text></td><td><text style=\"padding-right:2em\"><b>Neg</b></text></td><td><text style=\"padding-right:2em\"><b>-0.36</b></text></td><td><mark style=\"background-color: hsl(0, 75%, 90%); opacity:1.0;                     line-height:1.75\"><font color=\"black\"> #s                    </font></mark><mark style=\"background-color: hsl(0, 75%, 99%); opacity:1.0;                     line-height:1.75\"><font color=\"black\"> a                    </font></mark><mark style=\"background-color: hsl(120, 75%, 65%); opacity:1.0;                     line-height:1.75\"><font color=\"black\"> great                    </font></mark><mark style=\"background-color: hsl(0, 75%, 97%); opacity:1.0;                     line-height:1.75\"><font color=\"black\"> film                    </font></mark><mark style=\"background-color: hsl(0, 75%, 75%); opacity:1.0;                     line-height:1.75\"><font color=\"black\">                     </font></mark><mark style=\"background-color: hsl(0, 75%, 100%); opacity:1.0;                     line-height:1.75\"><font color=\"black\"> #/s                    </font></mark></td><tr></table>"
      ],
      "text/plain": [
       "<IPython.core.display.HTML object>"
      ]
     },
     "metadata": {},
     "output_type": "display_data"
    },
    {
     "name": "stdout",
     "output_type": "stream",
     "text": [
      "<IPython.core.display.HTML object>\n",
      "Raw review: charm \n",
      "GT target: 1\n",
      "word attr tensor([ 0.4752, -0.2357, -0.6098, -0.4640,  0.3625], grad_fn=<DivBackward0>)\n",
      "conti attr [tensor(0.4752, grad_fn=<UnbindBackward0>), tensor(-0.8456, grad_fn=<AddBackward0>), tensor(-0.4640, grad_fn=<UnbindBackward0>), tensor(0.3625, grad_fn=<UnbindBackward0>)]\n",
      "detokenized ['<s>', 'ch', 'arm', '', '</s>']\n",
      "len conti_raw 4\n",
      "conti_raw ['<s>', 'charm', '', '</s>']\n"
     ]
    },
    {
     "data": {
      "text/html": [
       "<table width: 100%><div style=\"border-top: 1px solid; margin-top: 5px;             padding-top: 5px; display: inline-block\"><b>Legend: </b><span style=\"display: inline-block; width: 10px; height: 10px;                 border: 1px solid; background-color:                 hsl(0, 75%, 60%)\"></span> Negative  <span style=\"display: inline-block; width: 10px; height: 10px;                 border: 1px solid; background-color:                 hsl(0, 75%, 100%)\"></span> Neutral  <span style=\"display: inline-block; width: 10px; height: 10px;                 border: 1px solid; background-color:                 hsl(120, 75%, 50%)\"></span> Positive  </div><tr><th>True Label</th><th>Predicted Label</th><th>Attribution Label</th><th>Attribution Score</th><th>Word Importance</th><tr><td><text style=\"padding-right:2em\"><b>Pos</b></text></td><td><text style=\"padding-right:2em\"><b>Pos (1.00)</b></text></td><td><text style=\"padding-right:2em\"><b>Neg</b></text></td><td><text style=\"padding-right:2em\"><b>-0.47</b></text></td><td><mark style=\"background-color: hsl(120, 75%, 77%); opacity:1.0;                     line-height:1.75\"><font color=\"black\"> #s                    </font></mark><mark style=\"background-color: hsl(0, 75%, 67%); opacity:1.0;                     line-height:1.75\"><font color=\"black\"> charm                    </font></mark><mark style=\"background-color: hsl(0, 75%, 82%); opacity:1.0;                     line-height:1.75\"><font color=\"black\">                     </font></mark><mark style=\"background-color: hsl(120, 75%, 82%); opacity:1.0;                     line-height:1.75\"><font color=\"black\"> #/s                    </font></mark></td><tr></table>"
      ],
      "text/plain": [
       "<IPython.core.display.HTML object>"
      ]
     },
     "metadata": {},
     "output_type": "display_data"
    },
    {
     "name": "stdout",
     "output_type": "stream",
     "text": [
      "<IPython.core.display.HTML object>\n",
      "Raw review: this new jangle of noise , mayhem and stupidity \n",
      "GT target: 0\n",
      "word attr tensor([-0.0612,  0.1525, -0.1846,  0.1350, -0.1560, -0.1394, -0.1293, -0.0492,\n",
      "         0.5132, -0.0519,  0.7607,  0.0973,  0.0603], grad_fn=<DivBackward0>)\n",
      "conti attr [tensor(-0.0612, grad_fn=<UnbindBackward0>), tensor(0.1525, grad_fn=<UnbindBackward0>), tensor(-0.1846, grad_fn=<UnbindBackward0>), tensor(-0.0210, grad_fn=<AddBackward0>), tensor(-0.1394, grad_fn=<UnbindBackward0>), tensor(-0.1293, grad_fn=<UnbindBackward0>), tensor(-0.0492, grad_fn=<UnbindBackward0>), tensor(0.5132, grad_fn=<UnbindBackward0>), tensor(-0.0519, grad_fn=<UnbindBackward0>), tensor(0.7607, grad_fn=<UnbindBackward0>), tensor(0.0973, grad_fn=<UnbindBackward0>), tensor(0.0603, grad_fn=<UnbindBackward0>)]\n",
      "detokenized ['<s>', 'this', 'new', 'j', 'angle', 'of', 'noise', ',', 'mayhem', 'and', 'stupidity', '', '</s>']\n",
      "len conti_raw 12\n",
      "conti_raw ['<s>', 'this', 'new', 'jangle', 'of', 'noise', ',', 'mayhem', 'and', 'stupidity', '', '</s>']\n"
     ]
    },
    {
     "data": {
      "text/html": [
       "<table width: 100%><div style=\"border-top: 1px solid; margin-top: 5px;             padding-top: 5px; display: inline-block\"><b>Legend: </b><span style=\"display: inline-block; width: 10px; height: 10px;                 border: 1px solid; background-color:                 hsl(0, 75%, 60%)\"></span> Negative  <span style=\"display: inline-block; width: 10px; height: 10px;                 border: 1px solid; background-color:                 hsl(0, 75%, 100%)\"></span> Neutral  <span style=\"display: inline-block; width: 10px; height: 10px;                 border: 1px solid; background-color:                 hsl(120, 75%, 50%)\"></span> Positive  </div><tr><th>True Label</th><th>Predicted Label</th><th>Attribution Label</th><th>Attribution Score</th><th>Word Importance</th><tr><td><text style=\"padding-right:2em\"><b>Neg</b></text></td><td><text style=\"padding-right:2em\"><b>Neg (0.00)</b></text></td><td><text style=\"padding-right:2em\"><b>Pos</b></text></td><td><text style=\"padding-right:2em\"><b>0.95</b></text></td><td><mark style=\"background-color: hsl(0, 75%, 98%); opacity:1.0;                     line-height:1.75\"><font color=\"black\"> #s                    </font></mark><mark style=\"background-color: hsl(120, 75%, 93%); opacity:1.0;                     line-height:1.75\"><font color=\"black\"> this                    </font></mark><mark style=\"background-color: hsl(0, 75%, 93%); opacity:1.0;                     line-height:1.75\"><font color=\"black\"> new                    </font></mark><mark style=\"background-color: hsl(0, 75%, 100%); opacity:1.0;                     line-height:1.75\"><font color=\"black\"> jangle                    </font></mark><mark style=\"background-color: hsl(0, 75%, 95%); opacity:1.0;                     line-height:1.75\"><font color=\"black\"> of                    </font></mark><mark style=\"background-color: hsl(0, 75%, 95%); opacity:1.0;                     line-height:1.75\"><font color=\"black\"> noise                    </font></mark><mark style=\"background-color: hsl(0, 75%, 99%); opacity:1.0;                     line-height:1.75\"><font color=\"black\"> ,                    </font></mark><mark style=\"background-color: hsl(120, 75%, 75%); opacity:1.0;                     line-height:1.75\"><font color=\"black\"> mayhem                    </font></mark><mark style=\"background-color: hsl(0, 75%, 98%); opacity:1.0;                     line-height:1.75\"><font color=\"black\"> and                    </font></mark><mark style=\"background-color: hsl(120, 75%, 62%); opacity:1.0;                     line-height:1.75\"><font color=\"black\"> stupidity                    </font></mark><mark style=\"background-color: hsl(120, 75%, 96%); opacity:1.0;                     line-height:1.75\"><font color=\"black\">                     </font></mark><mark style=\"background-color: hsl(120, 75%, 97%); opacity:1.0;                     line-height:1.75\"><font color=\"black\"> #/s                    </font></mark></td><tr></table>"
      ],
      "text/plain": [
       "<IPython.core.display.HTML object>"
      ]
     },
     "metadata": {},
     "output_type": "display_data"
    },
    {
     "name": "stdout",
     "output_type": "stream",
     "text": [
      "<IPython.core.display.HTML object>\n",
      "Raw review: sustains it \n",
      "GT target: 1\n",
      "word attr tensor([ 0.4312, -0.0024, -0.6790, -0.3972, -0.4116, -0.0049,  0.1610],\n",
      "       grad_fn=<DivBackward0>)\n",
      "conti attr [tensor(0.4312, grad_fn=<UnbindBackward0>), tensor(-1.0785, grad_fn=<AddBackward0>), tensor(-0.4116, grad_fn=<UnbindBackward0>), tensor(-0.0049, grad_fn=<UnbindBackward0>), tensor(0.1610, grad_fn=<UnbindBackward0>)]\n",
      "detokenized ['<s>', 's', 'ust', 'ains', 'it', '', '</s>']\n",
      "len conti_raw 5\n",
      "conti_raw ['<s>', 'sustains', 'it', '', '</s>']\n"
     ]
    },
    {
     "data": {
      "text/html": [
       "<table width: 100%><div style=\"border-top: 1px solid; margin-top: 5px;             padding-top: 5px; display: inline-block\"><b>Legend: </b><span style=\"display: inline-block; width: 10px; height: 10px;                 border: 1px solid; background-color:                 hsl(0, 75%, 60%)\"></span> Negative  <span style=\"display: inline-block; width: 10px; height: 10px;                 border: 1px solid; background-color:                 hsl(0, 75%, 100%)\"></span> Neutral  <span style=\"display: inline-block; width: 10px; height: 10px;                 border: 1px solid; background-color:                 hsl(120, 75%, 50%)\"></span> Positive  </div><tr><th>True Label</th><th>Predicted Label</th><th>Attribution Label</th><th>Attribution Score</th><th>Word Importance</th><tr><td><text style=\"padding-right:2em\"><b>Pos</b></text></td><td><text style=\"padding-right:2em\"><b>Pos (1.00)</b></text></td><td><text style=\"padding-right:2em\"><b>Neg</b></text></td><td><text style=\"padding-right:2em\"><b>-0.90</b></text></td><td><mark style=\"background-color: hsl(120, 75%, 79%); opacity:1.0;                     line-height:1.75\"><font color=\"black\"> #s                    </font></mark><mark style=\"background-color: hsl(0, 75%, 60%); opacity:1.0;                     line-height:1.75\"><font color=\"black\"> sustains                    </font></mark><mark style=\"background-color: hsl(0, 75%, 84%); opacity:1.0;                     line-height:1.75\"><font color=\"black\"> it                    </font></mark><mark style=\"background-color: hsl(0, 75%, 100%); opacity:1.0;                     line-height:1.75\"><font color=\"black\">                     </font></mark><mark style=\"background-color: hsl(120, 75%, 92%); opacity:1.0;                     line-height:1.75\"><font color=\"black\"> #/s                    </font></mark></td><tr></table>"
      ],
      "text/plain": [
       "<IPython.core.display.HTML object>"
      ]
     },
     "metadata": {},
     "output_type": "display_data"
    },
    {
     "name": "stdout",
     "output_type": "stream",
     "text": [
      "<IPython.core.display.HTML object>\n",
      "Raw review: is so deadly dull that watching the proverbial paint dry would be a welcome improvement . \n",
      "GT target: 0\n",
      "word attr tensor([ 0.0492,  0.0437,  0.2182, -0.0338, -0.5386,  0.3028,  0.1468,  0.0586,\n",
      "        -0.0605, -0.2628, -0.3255, -0.0031,  0.1330, -0.0372,  0.2870,  0.3894,\n",
      "         0.2426, -0.2200, -0.0333], grad_fn=<DivBackward0>)\n",
      "conti attr [tensor(0.0492, grad_fn=<UnbindBackward0>), tensor(0.0437, grad_fn=<UnbindBackward0>), tensor(0.2182, grad_fn=<UnbindBackward0>), tensor(-0.0338, grad_fn=<UnbindBackward0>), tensor(-0.5386, grad_fn=<UnbindBackward0>), tensor(0.3028, grad_fn=<UnbindBackward0>), tensor(0.1468, grad_fn=<UnbindBackward0>), tensor(0.0586, grad_fn=<UnbindBackward0>), tensor(-0.0605, grad_fn=<UnbindBackward0>), tensor(-0.2628, grad_fn=<UnbindBackward0>), tensor(-0.3255, grad_fn=<UnbindBackward0>), tensor(-0.0031, grad_fn=<UnbindBackward0>), tensor(0.1330, grad_fn=<UnbindBackward0>), tensor(-0.0372, grad_fn=<UnbindBackward0>), tensor(0.2870, grad_fn=<UnbindBackward0>), tensor(0.3894, grad_fn=<UnbindBackward0>), tensor(0.2426, grad_fn=<UnbindBackward0>), tensor(-0.2200, grad_fn=<UnbindBackward0>), tensor(-0.0333, grad_fn=<UnbindBackward0>)]\n",
      "detokenized ['<s>', 'is', 'so', 'deadly', 'dull', 'that', 'watching', 'the', 'proverbial', 'paint', 'dry', 'would', 'be', 'a', 'welcome', 'improvement', '.', '', '</s>']\n",
      "len conti_raw 19\n",
      "conti_raw ['<s>', 'is', 'so', 'deadly', 'dull', 'that', 'watching', 'the', 'proverbial', 'paint', 'dry', 'would', 'be', 'a', 'welcome', 'improvement', '.', '', '</s>']\n"
     ]
    },
    {
     "data": {
      "text/html": [
       "<table width: 100%><div style=\"border-top: 1px solid; margin-top: 5px;             padding-top: 5px; display: inline-block\"><b>Legend: </b><span style=\"display: inline-block; width: 10px; height: 10px;                 border: 1px solid; background-color:                 hsl(0, 75%, 60%)\"></span> Negative  <span style=\"display: inline-block; width: 10px; height: 10px;                 border: 1px solid; background-color:                 hsl(0, 75%, 100%)\"></span> Neutral  <span style=\"display: inline-block; width: 10px; height: 10px;                 border: 1px solid; background-color:                 hsl(120, 75%, 50%)\"></span> Positive  </div><tr><th>True Label</th><th>Predicted Label</th><th>Attribution Label</th><th>Attribution Score</th><th>Word Importance</th><tr><td><text style=\"padding-right:2em\"><b>Neg</b></text></td><td><text style=\"padding-right:2em\"><b>Neg (0.00)</b></text></td><td><text style=\"padding-right:2em\"><b>Neg</b></text></td><td><text style=\"padding-right:2em\"><b>0.36</b></text></td><td><mark style=\"background-color: hsl(120, 75%, 98%); opacity:1.0;                     line-height:1.75\"><font color=\"black\"> #s                    </font></mark><mark style=\"background-color: hsl(120, 75%, 98%); opacity:1.0;                     line-height:1.75\"><font color=\"black\"> is                    </font></mark><mark style=\"background-color: hsl(120, 75%, 90%); opacity:1.0;                     line-height:1.75\"><font color=\"black\"> so                    </font></mark><mark style=\"background-color: hsl(0, 75%, 99%); opacity:1.0;                     line-height:1.75\"><font color=\"black\"> deadly                    </font></mark><mark style=\"background-color: hsl(0, 75%, 79%); opacity:1.0;                     line-height:1.75\"><font color=\"black\"> dull                    </font></mark><mark style=\"background-color: hsl(120, 75%, 85%); opacity:1.0;                     line-height:1.75\"><font color=\"black\"> that                    </font></mark><mark style=\"background-color: hsl(120, 75%, 93%); opacity:1.0;                     line-height:1.75\"><font color=\"black\"> watching                    </font></mark><mark style=\"background-color: hsl(120, 75%, 98%); opacity:1.0;                     line-height:1.75\"><font color=\"black\"> the                    </font></mark><mark style=\"background-color: hsl(0, 75%, 98%); opacity:1.0;                     line-height:1.75\"><font color=\"black\"> proverbial                    </font></mark><mark style=\"background-color: hsl(0, 75%, 90%); opacity:1.0;                     line-height:1.75\"><font color=\"black\"> paint                    </font></mark><mark style=\"background-color: hsl(0, 75%, 87%); opacity:1.0;                     line-height:1.75\"><font color=\"black\"> dry                    </font></mark><mark style=\"background-color: hsl(0, 75%, 100%); opacity:1.0;                     line-height:1.75\"><font color=\"black\"> would                    </font></mark><mark style=\"background-color: hsl(120, 75%, 94%); opacity:1.0;                     line-height:1.75\"><font color=\"black\"> be                    </font></mark><mark style=\"background-color: hsl(0, 75%, 99%); opacity:1.0;                     line-height:1.75\"><font color=\"black\"> a                    </font></mark><mark style=\"background-color: hsl(120, 75%, 86%); opacity:1.0;                     line-height:1.75\"><font color=\"black\"> welcome                    </font></mark><mark style=\"background-color: hsl(120, 75%, 81%); opacity:1.0;                     line-height:1.75\"><font color=\"black\"> improvement                    </font></mark><mark style=\"background-color: hsl(120, 75%, 88%); opacity:1.0;                     line-height:1.75\"><font color=\"black\"> .                    </font></mark><mark style=\"background-color: hsl(0, 75%, 92%); opacity:1.0;                     line-height:1.75\"><font color=\"black\">                     </font></mark><mark style=\"background-color: hsl(0, 75%, 99%); opacity:1.0;                     line-height:1.75\"><font color=\"black\"> #/s                    </font></mark></td><tr></table>"
      ],
      "text/plain": [
       "<IPython.core.display.HTML object>"
      ]
     },
     "metadata": {},
     "output_type": "display_data"
    },
    {
     "name": "stdout",
     "output_type": "stream",
     "text": [
      "<IPython.core.display.HTML object>\n",
      "Raw review: to accomplish \n",
      "GT target: 1\n",
      "word attr tensor([-0.0352,  0.4509, -0.2992,  0.4703, -0.6962], grad_fn=<DivBackward0>)\n",
      "conti attr [tensor(-0.0352, grad_fn=<UnbindBackward0>), tensor(0.4509, grad_fn=<UnbindBackward0>), tensor(-0.2992, grad_fn=<UnbindBackward0>), tensor(0.4703, grad_fn=<UnbindBackward0>), tensor(-0.6962, grad_fn=<UnbindBackward0>)]\n",
      "detokenized ['<s>', 'to', 'accomplish', '', '</s>']\n",
      "len conti_raw 5\n",
      "conti_raw ['<s>', 'to', 'accomplish', '', '</s>']\n"
     ]
    },
    {
     "data": {
      "text/html": [
       "<table width: 100%><div style=\"border-top: 1px solid; margin-top: 5px;             padding-top: 5px; display: inline-block\"><b>Legend: </b><span style=\"display: inline-block; width: 10px; height: 10px;                 border: 1px solid; background-color:                 hsl(0, 75%, 60%)\"></span> Negative  <span style=\"display: inline-block; width: 10px; height: 10px;                 border: 1px solid; background-color:                 hsl(0, 75%, 100%)\"></span> Neutral  <span style=\"display: inline-block; width: 10px; height: 10px;                 border: 1px solid; background-color:                 hsl(120, 75%, 50%)\"></span> Positive  </div><tr><th>True Label</th><th>Predicted Label</th><th>Attribution Label</th><th>Attribution Score</th><th>Word Importance</th><tr><td><text style=\"padding-right:2em\"><b>Pos</b></text></td><td><text style=\"padding-right:2em\"><b>Pos (0.99)</b></text></td><td><text style=\"padding-right:2em\"><b>Neg</b></text></td><td><text style=\"padding-right:2em\"><b>-0.11</b></text></td><td><mark style=\"background-color: hsl(0, 75%, 99%); opacity:1.0;                     line-height:1.75\"><font color=\"black\"> #s                    </font></mark><mark style=\"background-color: hsl(120, 75%, 78%); opacity:1.0;                     line-height:1.75\"><font color=\"black\"> to                    </font></mark><mark style=\"background-color: hsl(0, 75%, 89%); opacity:1.0;                     line-height:1.75\"><font color=\"black\"> accomplish                    </font></mark><mark style=\"background-color: hsl(120, 75%, 77%); opacity:1.0;                     line-height:1.75\"><font color=\"black\">                     </font></mark><mark style=\"background-color: hsl(0, 75%, 73%); opacity:1.0;                     line-height:1.75\"><font color=\"black\"> #/s                    </font></mark></td><tr></table>"
      ],
      "text/plain": [
       "<IPython.core.display.HTML object>"
      ]
     },
     "metadata": {},
     "output_type": "display_data"
    },
    {
     "name": "stdout",
     "output_type": "stream",
     "text": [
      "<IPython.core.display.HTML object>\n",
      "Raw review: does n't work . \n",
      "GT target: 0\n",
      "word attr tensor([ 0.7716, -0.0954, -0.1273,  0.1940, -0.2651,  0.4517, -0.2566,  0.0393],\n",
      "       grad_fn=<DivBackward0>)\n",
      "conti attr [tensor(0.7716, grad_fn=<UnbindBackward0>), tensor(-0.0954, grad_fn=<UnbindBackward0>), tensor(0.0667, grad_fn=<AddBackward0>), tensor(-0.2651, grad_fn=<UnbindBackward0>), tensor(0.4517, grad_fn=<UnbindBackward0>), tensor(-0.2566, grad_fn=<UnbindBackward0>), tensor(0.0393, grad_fn=<UnbindBackward0>)]\n",
      "detokenized ['<s>', 'does', 'n', \"'t\", 'work', '.', '', '</s>']\n",
      "len conti_raw 7\n",
      "conti_raw ['<s>', 'does', \"n't\", 'work', '.', '', '</s>']\n"
     ]
    },
    {
     "data": {
      "text/html": [
       "<table width: 100%><div style=\"border-top: 1px solid; margin-top: 5px;             padding-top: 5px; display: inline-block\"><b>Legend: </b><span style=\"display: inline-block; width: 10px; height: 10px;                 border: 1px solid; background-color:                 hsl(0, 75%, 60%)\"></span> Negative  <span style=\"display: inline-block; width: 10px; height: 10px;                 border: 1px solid; background-color:                 hsl(0, 75%, 100%)\"></span> Neutral  <span style=\"display: inline-block; width: 10px; height: 10px;                 border: 1px solid; background-color:                 hsl(120, 75%, 50%)\"></span> Positive  </div><tr><th>True Label</th><th>Predicted Label</th><th>Attribution Label</th><th>Attribution Score</th><th>Word Importance</th><tr><td><text style=\"padding-right:2em\"><b>Neg</b></text></td><td><text style=\"padding-right:2em\"><b>Neg (0.00)</b></text></td><td><text style=\"padding-right:2em\"><b>Pos</b></text></td><td><text style=\"padding-right:2em\"><b>0.71</b></text></td><td><mark style=\"background-color: hsl(120, 75%, 62%); opacity:1.0;                     line-height:1.75\"><font color=\"black\"> #s                    </font></mark><mark style=\"background-color: hsl(0, 75%, 97%); opacity:1.0;                     line-height:1.75\"><font color=\"black\"> does                    </font></mark><mark style=\"background-color: hsl(120, 75%, 97%); opacity:1.0;                     line-height:1.75\"><font color=\"black\"> n't                    </font></mark><mark style=\"background-color: hsl(0, 75%, 90%); opacity:1.0;                     line-height:1.75\"><font color=\"black\"> work                    </font></mark><mark style=\"background-color: hsl(120, 75%, 78%); opacity:1.0;                     line-height:1.75\"><font color=\"black\"> .                    </font></mark><mark style=\"background-color: hsl(0, 75%, 90%); opacity:1.0;                     line-height:1.75\"><font color=\"black\">                     </font></mark><mark style=\"background-color: hsl(120, 75%, 99%); opacity:1.0;                     line-height:1.75\"><font color=\"black\"> #/s                    </font></mark></td><tr></table>"
      ],
      "text/plain": [
       "<IPython.core.display.HTML object>"
      ]
     },
     "metadata": {},
     "output_type": "display_data"
    },
    {
     "name": "stdout",
     "output_type": "stream",
     "text": [
      "<IPython.core.display.HTML object>\n",
      "Raw review: given it a one-star rating \n",
      "GT target: 0\n",
      "word attr tensor([-0.2631,  0.1561, -0.2867, -0.2729,  0.3016,  0.0890,  0.2263, -0.2637,\n",
      "         0.7238,  0.0792], grad_fn=<DivBackward0>)\n",
      "conti attr [tensor(-0.2631, grad_fn=<UnbindBackward0>), tensor(0.1561, grad_fn=<UnbindBackward0>), tensor(-0.2867, grad_fn=<UnbindBackward0>), tensor(-0.2729, grad_fn=<UnbindBackward0>), tensor(0.6169, grad_fn=<AddBackward0>), tensor(-0.2637, grad_fn=<UnbindBackward0>), tensor(0.7238, grad_fn=<UnbindBackward0>), tensor(0.0792, grad_fn=<UnbindBackward0>)]\n",
      "detokenized ['<s>', 'given', 'it', 'a', 'one', '-', 'star', 'rating', '', '</s>']\n",
      "len conti_raw 8\n",
      "conti_raw ['<s>', 'given', 'it', 'a', 'one-star', 'rating', '', '</s>']\n"
     ]
    },
    {
     "data": {
      "text/html": [
       "<table width: 100%><div style=\"border-top: 1px solid; margin-top: 5px;             padding-top: 5px; display: inline-block\"><b>Legend: </b><span style=\"display: inline-block; width: 10px; height: 10px;                 border: 1px solid; background-color:                 hsl(0, 75%, 60%)\"></span> Negative  <span style=\"display: inline-block; width: 10px; height: 10px;                 border: 1px solid; background-color:                 hsl(0, 75%, 100%)\"></span> Neutral  <span style=\"display: inline-block; width: 10px; height: 10px;                 border: 1px solid; background-color:                 hsl(120, 75%, 50%)\"></span> Positive  </div><tr><th>True Label</th><th>Predicted Label</th><th>Attribution Label</th><th>Attribution Score</th><th>Word Importance</th><tr><td><text style=\"padding-right:2em\"><b>Neg</b></text></td><td><text style=\"padding-right:2em\"><b>Neg (0.00)</b></text></td><td><text style=\"padding-right:2em\"><b>Neg</b></text></td><td><text style=\"padding-right:2em\"><b>0.49</b></text></td><td><mark style=\"background-color: hsl(0, 75%, 90%); opacity:1.0;                     line-height:1.75\"><font color=\"black\"> #s                    </font></mark><mark style=\"background-color: hsl(120, 75%, 93%); opacity:1.0;                     line-height:1.75\"><font color=\"black\"> given                    </font></mark><mark style=\"background-color: hsl(0, 75%, 89%); opacity:1.0;                     line-height:1.75\"><font color=\"black\"> it                    </font></mark><mark style=\"background-color: hsl(0, 75%, 90%); opacity:1.0;                     line-height:1.75\"><font color=\"black\"> a                    </font></mark><mark style=\"background-color: hsl(120, 75%, 70%); opacity:1.0;                     line-height:1.75\"><font color=\"black\"> one-star                    </font></mark><mark style=\"background-color: hsl(0, 75%, 90%); opacity:1.0;                     line-height:1.75\"><font color=\"black\"> rating                    </font></mark><mark style=\"background-color: hsl(120, 75%, 64%); opacity:1.0;                     line-height:1.75\"><font color=\"black\">                     </font></mark><mark style=\"background-color: hsl(120, 75%, 97%); opacity:1.0;                     line-height:1.75\"><font color=\"black\"> #/s                    </font></mark></td><tr></table>"
      ],
      "text/plain": [
       "<IPython.core.display.HTML object>"
      ]
     },
     "metadata": {},
     "output_type": "display_data"
    },
    {
     "name": "stdout",
     "output_type": "stream",
     "text": [
      "<IPython.core.display.HTML object>\n",
      "Raw review: ice cube is n't quite out of ripe screwball ideas , but friday after next spreads them pretty thin \n",
      "GT target: 0\n",
      "word attr tensor([ 1.9527e-01, -4.2341e-01,  3.8037e-02,  3.2633e-02, -1.9803e-01,\n",
      "        -2.4602e-03,  1.4672e-01,  7.4192e-02, -5.9333e-02, -3.2392e-01,\n",
      "         2.1398e-01, -1.2097e-01,  1.4268e-01, -2.2860e-01, -3.6273e-04,\n",
      "        -5.7108e-01, -2.0798e-01, -1.6349e-02, -1.1834e-01, -1.2744e-01,\n",
      "         6.0993e-03,  1.4340e-01, -2.6267e-02, -2.2451e-01,  2.7563e-02],\n",
      "       grad_fn=<DivBackward0>)\n",
      "conti attr [tensor(0.1953, grad_fn=<UnbindBackward0>), tensor(-0.4234, grad_fn=<UnbindBackward0>), tensor(0.0380, grad_fn=<UnbindBackward0>), tensor(0.0326, grad_fn=<UnbindBackward0>), tensor(-0.2005, grad_fn=<AddBackward0>), tensor(0.1467, grad_fn=<UnbindBackward0>), tensor(0.0742, grad_fn=<UnbindBackward0>), tensor(-0.0593, grad_fn=<UnbindBackward0>), tensor(-0.3239, grad_fn=<UnbindBackward0>), tensor(0.0930, grad_fn=<AddBackward0>), tensor(0.1427, grad_fn=<UnbindBackward0>), tensor(-0.2286, grad_fn=<UnbindBackward0>), tensor(-0.0004, grad_fn=<UnbindBackward0>), tensor(-0.7791, grad_fn=<AddBackward0>), tensor(-0.0163, grad_fn=<UnbindBackward0>), tensor(-0.1183, grad_fn=<UnbindBackward0>), tensor(-0.1274, grad_fn=<UnbindBackward0>), tensor(0.0061, grad_fn=<UnbindBackward0>), tensor(0.1434, grad_fn=<UnbindBackward0>), tensor(-0.0263, grad_fn=<UnbindBackward0>), tensor(-0.2245, grad_fn=<UnbindBackward0>), tensor(0.0276, grad_fn=<UnbindBackward0>)]\n",
      "detokenized ['<s>', 'ice', 'cube', 'is', 'n', \"'t\", 'quite', 'out', 'of', 'ripe', 'screw', 'ball', 'ideas', ',', 'but', 'fr', 'iday', 'after', 'next', 'spreads', 'them', 'pretty', 'thin', '', '</s>']\n",
      "len conti_raw 22\n",
      "conti_raw ['<s>', 'ice', 'cube', 'is', \"n't\", 'quite', 'out', 'of', 'ripe', 'screwball', 'ideas', ',', 'but', 'friday', 'after', 'next', 'spreads', 'them', 'pretty', 'thin', '', '</s>']\n"
     ]
    },
    {
     "data": {
      "text/html": [
       "<table width: 100%><div style=\"border-top: 1px solid; margin-top: 5px;             padding-top: 5px; display: inline-block\"><b>Legend: </b><span style=\"display: inline-block; width: 10px; height: 10px;                 border: 1px solid; background-color:                 hsl(0, 75%, 60%)\"></span> Negative  <span style=\"display: inline-block; width: 10px; height: 10px;                 border: 1px solid; background-color:                 hsl(0, 75%, 100%)\"></span> Neutral  <span style=\"display: inline-block; width: 10px; height: 10px;                 border: 1px solid; background-color:                 hsl(120, 75%, 50%)\"></span> Positive  </div><tr><th>True Label</th><th>Predicted Label</th><th>Attribution Label</th><th>Attribution Score</th><th>Word Importance</th><tr><td><text style=\"padding-right:2em\"><b>Neg</b></text></td><td><text style=\"padding-right:2em\"><b>Neg (0.00)</b></text></td><td><text style=\"padding-right:2em\"><b>Neg</b></text></td><td><text style=\"padding-right:2em\"><b>-1.63</b></text></td><td><mark style=\"background-color: hsl(120, 75%, 91%); opacity:1.0;                     line-height:1.75\"><font color=\"black\"> #s                    </font></mark><mark style=\"background-color: hsl(0, 75%, 84%); opacity:1.0;                     line-height:1.75\"><font color=\"black\"> ice                    </font></mark><mark style=\"background-color: hsl(120, 75%, 99%); opacity:1.0;                     line-height:1.75\"><font color=\"black\"> cube                    </font></mark><mark style=\"background-color: hsl(120, 75%, 99%); opacity:1.0;                     line-height:1.75\"><font color=\"black\"> is                    </font></mark><mark style=\"background-color: hsl(0, 75%, 92%); opacity:1.0;                     line-height:1.75\"><font color=\"black\"> n't                    </font></mark><mark style=\"background-color: hsl(120, 75%, 93%); opacity:1.0;                     line-height:1.75\"><font color=\"black\"> quite                    </font></mark><mark style=\"background-color: hsl(120, 75%, 97%); opacity:1.0;                     line-height:1.75\"><font color=\"black\"> out                    </font></mark><mark style=\"background-color: hsl(0, 75%, 98%); opacity:1.0;                     line-height:1.75\"><font color=\"black\"> of                    </font></mark><mark style=\"background-color: hsl(0, 75%, 88%); opacity:1.0;                     line-height:1.75\"><font color=\"black\"> ripe                    </font></mark><mark style=\"background-color: hsl(120, 75%, 96%); opacity:1.0;                     line-height:1.75\"><font color=\"black\"> screwball                    </font></mark><mark style=\"background-color: hsl(120, 75%, 93%); opacity:1.0;                     line-height:1.75\"><font color=\"black\"> ideas                    </font></mark><mark style=\"background-color: hsl(0, 75%, 91%); opacity:1.0;                     line-height:1.75\"><font color=\"black\"> ,                    </font></mark><mark style=\"background-color: hsl(0, 75%, 100%); opacity:1.0;                     line-height:1.75\"><font color=\"black\"> but                    </font></mark><mark style=\"background-color: hsl(0, 75%, 69%); opacity:1.0;                     line-height:1.75\"><font color=\"black\"> friday                    </font></mark><mark style=\"background-color: hsl(0, 75%, 100%); opacity:1.0;                     line-height:1.75\"><font color=\"black\"> after                    </font></mark><mark style=\"background-color: hsl(0, 75%, 96%); opacity:1.0;                     line-height:1.75\"><font color=\"black\"> next                    </font></mark><mark style=\"background-color: hsl(0, 75%, 95%); opacity:1.0;                     line-height:1.75\"><font color=\"black\"> spreads                    </font></mark><mark style=\"background-color: hsl(120, 75%, 100%); opacity:1.0;                     line-height:1.75\"><font color=\"black\"> them                    </font></mark><mark style=\"background-color: hsl(120, 75%, 93%); opacity:1.0;                     line-height:1.75\"><font color=\"black\"> pretty                    </font></mark><mark style=\"background-color: hsl(0, 75%, 99%); opacity:1.0;                     line-height:1.75\"><font color=\"black\"> thin                    </font></mark><mark style=\"background-color: hsl(0, 75%, 92%); opacity:1.0;                     line-height:1.75\"><font color=\"black\">                     </font></mark><mark style=\"background-color: hsl(120, 75%, 99%); opacity:1.0;                     line-height:1.75\"><font color=\"black\"> #/s                    </font></mark></td><tr></table>"
      ],
      "text/plain": [
       "<IPython.core.display.HTML object>"
      ]
     },
     "metadata": {},
     "output_type": "display_data"
    },
    {
     "name": "stdout",
     "output_type": "stream",
     "text": [
      "<IPython.core.display.HTML object>\n",
      "Raw review: been trying to forget \n",
      "GT target: 0\n",
      "word attr tensor([ 0.2315,  0.6212, -0.1840, -0.1215, -0.6607,  0.1107,  0.2512],\n",
      "       grad_fn=<DivBackward0>)\n",
      "conti attr [tensor(0.2315, grad_fn=<UnbindBackward0>), tensor(0.6212, grad_fn=<UnbindBackward0>), tensor(-0.1840, grad_fn=<UnbindBackward0>), tensor(-0.1215, grad_fn=<UnbindBackward0>), tensor(-0.6607, grad_fn=<UnbindBackward0>), tensor(0.1107, grad_fn=<UnbindBackward0>), tensor(0.2512, grad_fn=<UnbindBackward0>)]\n",
      "detokenized ['<s>', 'been', 'trying', 'to', 'forget', '', '</s>']\n",
      "len conti_raw 7\n",
      "conti_raw ['<s>', 'been', 'trying', 'to', 'forget', '', '</s>']\n"
     ]
    },
    {
     "data": {
      "text/html": [
       "<table width: 100%><div style=\"border-top: 1px solid; margin-top: 5px;             padding-top: 5px; display: inline-block\"><b>Legend: </b><span style=\"display: inline-block; width: 10px; height: 10px;                 border: 1px solid; background-color:                 hsl(0, 75%, 60%)\"></span> Negative  <span style=\"display: inline-block; width: 10px; height: 10px;                 border: 1px solid; background-color:                 hsl(0, 75%, 100%)\"></span> Neutral  <span style=\"display: inline-block; width: 10px; height: 10px;                 border: 1px solid; background-color:                 hsl(120, 75%, 50%)\"></span> Positive  </div><tr><th>True Label</th><th>Predicted Label</th><th>Attribution Label</th><th>Attribution Score</th><th>Word Importance</th><tr><td><text style=\"padding-right:2em\"><b>Neg</b></text></td><td><text style=\"padding-right:2em\"><b>Neg (0.01)</b></text></td><td><text style=\"padding-right:2em\"><b>Neg</b></text></td><td><text style=\"padding-right:2em\"><b>0.25</b></text></td><td><mark style=\"background-color: hsl(120, 75%, 89%); opacity:1.0;                     line-height:1.75\"><font color=\"black\"> #s                    </font></mark><mark style=\"background-color: hsl(120, 75%, 69%); opacity:1.0;                     line-height:1.75\"><font color=\"black\"> been                    </font></mark><mark style=\"background-color: hsl(0, 75%, 93%); opacity:1.0;                     line-height:1.75\"><font color=\"black\"> trying                    </font></mark><mark style=\"background-color: hsl(0, 75%, 96%); opacity:1.0;                     line-height:1.75\"><font color=\"black\"> to                    </font></mark><mark style=\"background-color: hsl(0, 75%, 74%); opacity:1.0;                     line-height:1.75\"><font color=\"black\"> forget                    </font></mark><mark style=\"background-color: hsl(120, 75%, 95%); opacity:1.0;                     line-height:1.75\"><font color=\"black\">                     </font></mark><mark style=\"background-color: hsl(120, 75%, 88%); opacity:1.0;                     line-height:1.75\"><font color=\"black\"> #/s                    </font></mark></td><tr></table>"
      ],
      "text/plain": [
       "<IPython.core.display.HTML object>"
      ]
     },
     "metadata": {},
     "output_type": "display_data"
    },
    {
     "name": "stdout",
     "output_type": "stream",
     "text": [
      "<IPython.core.display.HTML object>\n",
      "Raw review: big stars and \n",
      "GT target: 1\n",
      "word attr tensor([-0.4906,  0.0686, -0.4338,  0.0228,  0.5341, -0.5298],\n",
      "       grad_fn=<DivBackward0>)\n",
      "conti attr [tensor(-0.4906, grad_fn=<UnbindBackward0>), tensor(0.0686, grad_fn=<UnbindBackward0>), tensor(-0.4338, grad_fn=<UnbindBackward0>), tensor(0.0228, grad_fn=<UnbindBackward0>), tensor(0.5341, grad_fn=<UnbindBackward0>), tensor(-0.5298, grad_fn=<UnbindBackward0>)]\n",
      "detokenized ['<s>', 'big', 'stars', 'and', '', '</s>']\n",
      "len conti_raw 6\n",
      "conti_raw ['<s>', 'big', 'stars', 'and', '', '</s>']\n"
     ]
    },
    {
     "data": {
      "text/html": [
       "<table width: 100%><div style=\"border-top: 1px solid; margin-top: 5px;             padding-top: 5px; display: inline-block\"><b>Legend: </b><span style=\"display: inline-block; width: 10px; height: 10px;                 border: 1px solid; background-color:                 hsl(0, 75%, 60%)\"></span> Negative  <span style=\"display: inline-block; width: 10px; height: 10px;                 border: 1px solid; background-color:                 hsl(0, 75%, 100%)\"></span> Neutral  <span style=\"display: inline-block; width: 10px; height: 10px;                 border: 1px solid; background-color:                 hsl(120, 75%, 50%)\"></span> Positive  </div><tr><th>True Label</th><th>Predicted Label</th><th>Attribution Label</th><th>Attribution Score</th><th>Word Importance</th><tr><td><text style=\"padding-right:2em\"><b>Pos</b></text></td><td><text style=\"padding-right:2em\"><b>Pos (1.00)</b></text></td><td><text style=\"padding-right:2em\"><b>Neg</b></text></td><td><text style=\"padding-right:2em\"><b>-0.83</b></text></td><td><mark style=\"background-color: hsl(0, 75%, 81%); opacity:1.0;                     line-height:1.75\"><font color=\"black\"> #s                    </font></mark><mark style=\"background-color: hsl(120, 75%, 97%); opacity:1.0;                     line-height:1.75\"><font color=\"black\"> big                    </font></mark><mark style=\"background-color: hsl(0, 75%, 83%); opacity:1.0;                     line-height:1.75\"><font color=\"black\"> stars                    </font></mark><mark style=\"background-color: hsl(120, 75%, 99%); opacity:1.0;                     line-height:1.75\"><font color=\"black\"> and                    </font></mark><mark style=\"background-color: hsl(120, 75%, 74%); opacity:1.0;                     line-height:1.75\"><font color=\"black\">                     </font></mark><mark style=\"background-color: hsl(0, 75%, 79%); opacity:1.0;                     line-height:1.75\"><font color=\"black\"> #/s                    </font></mark></td><tr></table>"
      ],
      "text/plain": [
       "<IPython.core.display.HTML object>"
      ]
     },
     "metadata": {},
     "output_type": "display_data"
    },
    {
     "name": "stdout",
     "output_type": "stream",
     "text": [
      "<IPython.core.display.HTML object>\n",
      "Raw review: of cheesy dialogue \n",
      "GT target: 0\n",
      "word attr tensor([-0.1123,  0.1924,  0.7183, -0.5048,  0.3325,  0.2627],\n",
      "       grad_fn=<DivBackward0>)\n",
      "conti attr [tensor(-0.1123, grad_fn=<UnbindBackward0>), tensor(0.1924, grad_fn=<UnbindBackward0>), tensor(0.7183, grad_fn=<UnbindBackward0>), tensor(-0.5048, grad_fn=<UnbindBackward0>), tensor(0.3325, grad_fn=<UnbindBackward0>), tensor(0.2627, grad_fn=<UnbindBackward0>)]\n",
      "detokenized ['<s>', 'of', 'cheesy', 'dialogue', '', '</s>']\n",
      "len conti_raw 6\n",
      "conti_raw ['<s>', 'of', 'cheesy', 'dialogue', '', '</s>']\n"
     ]
    },
    {
     "data": {
      "text/html": [
       "<table width: 100%><div style=\"border-top: 1px solid; margin-top: 5px;             padding-top: 5px; display: inline-block\"><b>Legend: </b><span style=\"display: inline-block; width: 10px; height: 10px;                 border: 1px solid; background-color:                 hsl(0, 75%, 60%)\"></span> Negative  <span style=\"display: inline-block; width: 10px; height: 10px;                 border: 1px solid; background-color:                 hsl(0, 75%, 100%)\"></span> Neutral  <span style=\"display: inline-block; width: 10px; height: 10px;                 border: 1px solid; background-color:                 hsl(120, 75%, 50%)\"></span> Positive  </div><tr><th>True Label</th><th>Predicted Label</th><th>Attribution Label</th><th>Attribution Score</th><th>Word Importance</th><tr><td><text style=\"padding-right:2em\"><b>Neg</b></text></td><td><text style=\"padding-right:2em\"><b>Neg (0.00)</b></text></td><td><text style=\"padding-right:2em\"><b>Pos</b></text></td><td><text style=\"padding-right:2em\"><b>0.89</b></text></td><td><mark style=\"background-color: hsl(0, 75%, 96%); opacity:1.0;                     line-height:1.75\"><font color=\"black\"> #s                    </font></mark><mark style=\"background-color: hsl(120, 75%, 91%); opacity:1.0;                     line-height:1.75\"><font color=\"black\"> of                    </font></mark><mark style=\"background-color: hsl(120, 75%, 65%); opacity:1.0;                     line-height:1.75\"><font color=\"black\"> cheesy                    </font></mark><mark style=\"background-color: hsl(0, 75%, 80%); opacity:1.0;                     line-height:1.75\"><font color=\"black\"> dialogue                    </font></mark><mark style=\"background-color: hsl(120, 75%, 84%); opacity:1.0;                     line-height:1.75\"><font color=\"black\">                     </font></mark><mark style=\"background-color: hsl(120, 75%, 87%); opacity:1.0;                     line-height:1.75\"><font color=\"black\"> #/s                    </font></mark></td><tr></table>"
      ],
      "text/plain": [
       "<IPython.core.display.HTML object>"
      ]
     },
     "metadata": {},
     "output_type": "display_data"
    },
    {
     "name": "stdout",
     "output_type": "stream",
     "text": [
      "<IPython.core.display.HTML object>\n",
      "Raw review: the château is never quite able to overcome the cultural moat surrounding its ludicrous and contrived plot . ' \n",
      "GT target: 0\n",
      "word attr tensor([-0.0572,  0.0267, -0.3035,  0.0235,  0.0014,  0.1982,  0.0231,  0.0045,\n",
      "        -0.2000, -0.0624, -0.0436,  0.0093,  0.0148, -0.3385, -0.0362,  0.0150,\n",
      "        -0.1946,  0.0984,  0.4153, -0.0285, -0.0601,  0.2666,  0.6201, -0.0499,\n",
      "        -0.1073, -0.0407, -0.0745], grad_fn=<DivBackward0>)\n",
      "conti attr [tensor(-0.0572, grad_fn=<UnbindBackward0>), tensor(0.0267, grad_fn=<UnbindBackward0>), tensor(-0.0804, grad_fn=<AddBackward0>), tensor(0.0231, grad_fn=<UnbindBackward0>), tensor(0.0045, grad_fn=<UnbindBackward0>), tensor(-0.2000, grad_fn=<UnbindBackward0>), tensor(-0.0624, grad_fn=<UnbindBackward0>), tensor(-0.0436, grad_fn=<UnbindBackward0>), tensor(0.0093, grad_fn=<UnbindBackward0>), tensor(0.0148, grad_fn=<UnbindBackward0>), tensor(-0.3385, grad_fn=<UnbindBackward0>), tensor(-0.0212, grad_fn=<AddBackward0>), tensor(-0.1946, grad_fn=<UnbindBackward0>), tensor(0.0984, grad_fn=<UnbindBackward0>), tensor(0.4153, grad_fn=<UnbindBackward0>), tensor(-0.0285, grad_fn=<UnbindBackward0>), tensor(0.2064, grad_fn=<AddBackward0>), tensor(0.6201, grad_fn=<UnbindBackward0>), tensor(-0.0499, grad_fn=<UnbindBackward0>), tensor(-0.1073, grad_fn=<UnbindBackward0>), tensor(-0.0407, grad_fn=<UnbindBackward0>), tensor(-0.0745, grad_fn=<UnbindBackward0>)]\n",
      "detokenized ['<s>', 'the', 'ch', 'Ã¢', 'te', 'au', 'is', 'never', 'quite', 'able', 'to', 'overcome', 'the', 'cultural', 'mo', 'at', 'surrounding', 'its', 'ludicrous', 'and', 'cont', 'rived', 'plot', '.', \"'\", '', '</s>']\n",
      "len conti_raw 22\n",
      "conti_raw ['<s>', 'the', 'chÃ¢teau', 'is', 'never', 'quite', 'able', 'to', 'overcome', 'the', 'cultural', 'moat', 'surrounding', 'its', 'ludicrous', 'and', 'contrived', 'plot', '.', \"'\", '', '</s>']\n"
     ]
    },
    {
     "data": {
      "text/html": [
       "<table width: 100%><div style=\"border-top: 1px solid; margin-top: 5px;             padding-top: 5px; display: inline-block\"><b>Legend: </b><span style=\"display: inline-block; width: 10px; height: 10px;                 border: 1px solid; background-color:                 hsl(0, 75%, 60%)\"></span> Negative  <span style=\"display: inline-block; width: 10px; height: 10px;                 border: 1px solid; background-color:                 hsl(0, 75%, 100%)\"></span> Neutral  <span style=\"display: inline-block; width: 10px; height: 10px;                 border: 1px solid; background-color:                 hsl(120, 75%, 50%)\"></span> Positive  </div><tr><th>True Label</th><th>Predicted Label</th><th>Attribution Label</th><th>Attribution Score</th><th>Word Importance</th><tr><td><text style=\"padding-right:2em\"><b>Neg</b></text></td><td><text style=\"padding-right:2em\"><b>Neg (0.00)</b></text></td><td><text style=\"padding-right:2em\"><b>Neg</b></text></td><td><text style=\"padding-right:2em\"><b>0.12</b></text></td><td><mark style=\"background-color: hsl(0, 75%, 98%); opacity:1.0;                     line-height:1.75\"><font color=\"black\"> #s                    </font></mark><mark style=\"background-color: hsl(120, 75%, 99%); opacity:1.0;                     line-height:1.75\"><font color=\"black\"> the                    </font></mark><mark style=\"background-color: hsl(0, 75%, 97%); opacity:1.0;                     line-height:1.75\"><font color=\"black\"> chÃ¢teau                    </font></mark><mark style=\"background-color: hsl(120, 75%, 99%); opacity:1.0;                     line-height:1.75\"><font color=\"black\"> is                    </font></mark><mark style=\"background-color: hsl(120, 75%, 100%); opacity:1.0;                     line-height:1.75\"><font color=\"black\"> never                    </font></mark><mark style=\"background-color: hsl(0, 75%, 93%); opacity:1.0;                     line-height:1.75\"><font color=\"black\"> quite                    </font></mark><mark style=\"background-color: hsl(0, 75%, 98%); opacity:1.0;                     line-height:1.75\"><font color=\"black\"> able                    </font></mark><mark style=\"background-color: hsl(0, 75%, 99%); opacity:1.0;                     line-height:1.75\"><font color=\"black\"> to                    </font></mark><mark style=\"background-color: hsl(120, 75%, 100%); opacity:1.0;                     line-height:1.75\"><font color=\"black\"> overcome                    </font></mark><mark style=\"background-color: hsl(120, 75%, 100%); opacity:1.0;                     line-height:1.75\"><font color=\"black\"> the                    </font></mark><mark style=\"background-color: hsl(0, 75%, 87%); opacity:1.0;                     line-height:1.75\"><font color=\"black\"> cultural                    </font></mark><mark style=\"background-color: hsl(0, 75%, 100%); opacity:1.0;                     line-height:1.75\"><font color=\"black\"> moat                    </font></mark><mark style=\"background-color: hsl(0, 75%, 93%); opacity:1.0;                     line-height:1.75\"><font color=\"black\"> surrounding                    </font></mark><mark style=\"background-color: hsl(120, 75%, 96%); opacity:1.0;                     line-height:1.75\"><font color=\"black\"> its                    </font></mark><mark style=\"background-color: hsl(120, 75%, 80%); opacity:1.0;                     line-height:1.75\"><font color=\"black\"> ludicrous                    </font></mark><mark style=\"background-color: hsl(0, 75%, 99%); opacity:1.0;                     line-height:1.75\"><font color=\"black\"> and                    </font></mark><mark style=\"background-color: hsl(120, 75%, 90%); opacity:1.0;                     line-height:1.75\"><font color=\"black\"> contrived                    </font></mark><mark style=\"background-color: hsl(120, 75%, 69%); opacity:1.0;                     line-height:1.75\"><font color=\"black\"> plot                    </font></mark><mark style=\"background-color: hsl(0, 75%, 99%); opacity:1.0;                     line-height:1.75\"><font color=\"black\"> .                    </font></mark><mark style=\"background-color: hsl(0, 75%, 96%); opacity:1.0;                     line-height:1.75\"><font color=\"black\"> '                    </font></mark><mark style=\"background-color: hsl(0, 75%, 99%); opacity:1.0;                     line-height:1.75\"><font color=\"black\">                     </font></mark><mark style=\"background-color: hsl(0, 75%, 98%); opacity:1.0;                     line-height:1.75\"><font color=\"black\"> #/s                    </font></mark></td><tr></table>"
      ],
      "text/plain": [
       "<IPython.core.display.HTML object>"
      ]
     },
     "metadata": {},
     "output_type": "display_data"
    },
    {
     "name": "stdout",
     "output_type": "stream",
     "text": [
      "<IPython.core.display.HTML object>\n",
      "Raw review: principled \n",
      "GT target: 1\n",
      "word attr tensor([-0.5888,  0.7190, -0.3424, -0.0617, -0.0533,  0.1120],\n",
      "       grad_fn=<DivBackward0>)\n",
      "conti attr [tensor(-0.5888, grad_fn=<UnbindBackward0>), tensor(0.3148, grad_fn=<AddBackward0>), tensor(-0.0533, grad_fn=<UnbindBackward0>), tensor(0.1120, grad_fn=<UnbindBackward0>)]\n",
      "detokenized ['<s>', 'pr', 'in', 'cipled', '', '</s>']\n",
      "len conti_raw 4\n",
      "conti_raw ['<s>', 'principled', '', '</s>']\n"
     ]
    },
    {
     "data": {
      "text/html": [
       "<table width: 100%><div style=\"border-top: 1px solid; margin-top: 5px;             padding-top: 5px; display: inline-block\"><b>Legend: </b><span style=\"display: inline-block; width: 10px; height: 10px;                 border: 1px solid; background-color:                 hsl(0, 75%, 60%)\"></span> Negative  <span style=\"display: inline-block; width: 10px; height: 10px;                 border: 1px solid; background-color:                 hsl(0, 75%, 100%)\"></span> Neutral  <span style=\"display: inline-block; width: 10px; height: 10px;                 border: 1px solid; background-color:                 hsl(120, 75%, 50%)\"></span> Positive  </div><tr><th>True Label</th><th>Predicted Label</th><th>Attribution Label</th><th>Attribution Score</th><th>Word Importance</th><tr><td><text style=\"padding-right:2em\"><b>Pos</b></text></td><td><text style=\"padding-right:2em\"><b>Pos (1.00)</b></text></td><td><text style=\"padding-right:2em\"><b>Neg</b></text></td><td><text style=\"padding-right:2em\"><b>-0.22</b></text></td><td><mark style=\"background-color: hsl(0, 75%, 77%); opacity:1.0;                     line-height:1.75\"><font color=\"black\"> #s                    </font></mark><mark style=\"background-color: hsl(120, 75%, 85%); opacity:1.0;                     line-height:1.75\"><font color=\"black\"> principled                    </font></mark><mark style=\"background-color: hsl(0, 75%, 98%); opacity:1.0;                     line-height:1.75\"><font color=\"black\">                     </font></mark><mark style=\"background-color: hsl(120, 75%, 95%); opacity:1.0;                     line-height:1.75\"><font color=\"black\"> #/s                    </font></mark></td><tr></table>"
      ],
      "text/plain": [
       "<IPython.core.display.HTML object>"
      ]
     },
     "metadata": {},
     "output_type": "display_data"
    },
    {
     "name": "stdout",
     "output_type": "stream",
     "text": [
      "<IPython.core.display.HTML object>\n",
      "Raw review: end it all by stuffing himself into an electric pencil sharpener \n",
      "GT target: 0\n",
      "word attr tensor([-0.1159, -0.0440, -0.0293, -0.0842, -0.0188,  0.0631,  0.5320,  0.1412,\n",
      "        -0.0260, -0.2777, -0.6120, -0.4128, -0.2109,  0.0289, -0.0363],\n",
      "       grad_fn=<DivBackward0>)\n",
      "conti attr [tensor(-0.1159, grad_fn=<UnbindBackward0>), tensor(-0.0440, grad_fn=<UnbindBackward0>), tensor(-0.0293, grad_fn=<UnbindBackward0>), tensor(-0.0842, grad_fn=<UnbindBackward0>), tensor(-0.0188, grad_fn=<UnbindBackward0>), tensor(0.0631, grad_fn=<UnbindBackward0>), tensor(0.5320, grad_fn=<UnbindBackward0>), tensor(0.1412, grad_fn=<UnbindBackward0>), tensor(-0.0260, grad_fn=<UnbindBackward0>), tensor(-0.2777, grad_fn=<UnbindBackward0>), tensor(-0.6120, grad_fn=<UnbindBackward0>), tensor(-0.6238, grad_fn=<AddBackward0>), tensor(0.0289, grad_fn=<UnbindBackward0>), tensor(-0.0363, grad_fn=<UnbindBackward0>)]\n",
      "detokenized ['<s>', 'end', 'it', 'all', 'by', 'stuffing', 'himself', 'into', 'an', 'electric', 'pencil', 'sharp', 'ener', '', '</s>']\n",
      "len conti_raw 14\n",
      "conti_raw ['<s>', 'end', 'it', 'all', 'by', 'stuffing', 'himself', 'into', 'an', 'electric', 'pencil', 'sharpener', '', '</s>']\n"
     ]
    },
    {
     "data": {
      "text/html": [
       "<table width: 100%><div style=\"border-top: 1px solid; margin-top: 5px;             padding-top: 5px; display: inline-block\"><b>Legend: </b><span style=\"display: inline-block; width: 10px; height: 10px;                 border: 1px solid; background-color:                 hsl(0, 75%, 60%)\"></span> Negative  <span style=\"display: inline-block; width: 10px; height: 10px;                 border: 1px solid; background-color:                 hsl(0, 75%, 100%)\"></span> Neutral  <span style=\"display: inline-block; width: 10px; height: 10px;                 border: 1px solid; background-color:                 hsl(120, 75%, 50%)\"></span> Positive  </div><tr><th>True Label</th><th>Predicted Label</th><th>Attribution Label</th><th>Attribution Score</th><th>Word Importance</th><tr><td><text style=\"padding-right:2em\"><b>Neg</b></text></td><td><text style=\"padding-right:2em\"><b>Neg (0.00)</b></text></td><td><text style=\"padding-right:2em\"><b>Neg</b></text></td><td><text style=\"padding-right:2em\"><b>-1.10</b></text></td><td><mark style=\"background-color: hsl(0, 75%, 96%); opacity:1.0;                     line-height:1.75\"><font color=\"black\"> #s                    </font></mark><mark style=\"background-color: hsl(0, 75%, 99%); opacity:1.0;                     line-height:1.75\"><font color=\"black\"> end                    </font></mark><mark style=\"background-color: hsl(0, 75%, 99%); opacity:1.0;                     line-height:1.75\"><font color=\"black\"> it                    </font></mark><mark style=\"background-color: hsl(0, 75%, 97%); opacity:1.0;                     line-height:1.75\"><font color=\"black\"> all                    </font></mark><mark style=\"background-color: hsl(0, 75%, 100%); opacity:1.0;                     line-height:1.75\"><font color=\"black\"> by                    </font></mark><mark style=\"background-color: hsl(120, 75%, 97%); opacity:1.0;                     line-height:1.75\"><font color=\"black\"> stuffing                    </font></mark><mark style=\"background-color: hsl(120, 75%, 74%); opacity:1.0;                     line-height:1.75\"><font color=\"black\"> himself                    </font></mark><mark style=\"background-color: hsl(120, 75%, 93%); opacity:1.0;                     line-height:1.75\"><font color=\"black\"> into                    </font></mark><mark style=\"background-color: hsl(0, 75%, 99%); opacity:1.0;                     line-height:1.75\"><font color=\"black\"> an                    </font></mark><mark style=\"background-color: hsl(0, 75%, 89%); opacity:1.0;                     line-height:1.75\"><font color=\"black\"> electric                    </font></mark><mark style=\"background-color: hsl(0, 75%, 76%); opacity:1.0;                     line-height:1.75\"><font color=\"black\"> pencil                    </font></mark><mark style=\"background-color: hsl(0, 75%, 76%); opacity:1.0;                     line-height:1.75\"><font color=\"black\"> sharpener                    </font></mark><mark style=\"background-color: hsl(120, 75%, 99%); opacity:1.0;                     line-height:1.75\"><font color=\"black\">                     </font></mark><mark style=\"background-color: hsl(0, 75%, 99%); opacity:1.0;                     line-height:1.75\"><font color=\"black\"> #/s                    </font></mark></td><tr></table>"
      ],
      "text/plain": [
       "<IPython.core.display.HTML object>"
      ]
     },
     "metadata": {},
     "output_type": "display_data"
    },
    {
     "name": "stdout",
     "output_type": "stream",
     "text": [
      "<IPython.core.display.HTML object>\n",
      "Raw review: funniest idea \n",
      "GT target: 1\n",
      "word attr tensor([ 0.2196,  0.6346, -0.3115, -0.2583,  0.0145, -0.5577, -0.2721],\n",
      "       grad_fn=<DivBackward0>)\n",
      "conti attr [tensor(0.2196, grad_fn=<UnbindBackward0>), tensor(0.0648, grad_fn=<AddBackward0>), tensor(0.0145, grad_fn=<UnbindBackward0>), tensor(-0.5577, grad_fn=<UnbindBackward0>), tensor(-0.2721, grad_fn=<UnbindBackward0>)]\n",
      "detokenized ['<s>', 'fun', 'n', 'iest', 'idea', '', '</s>']\n",
      "len conti_raw 5\n",
      "conti_raw ['<s>', 'funniest', 'idea', '', '</s>']\n"
     ]
    },
    {
     "data": {
      "text/html": [
       "<table width: 100%><div style=\"border-top: 1px solid; margin-top: 5px;             padding-top: 5px; display: inline-block\"><b>Legend: </b><span style=\"display: inline-block; width: 10px; height: 10px;                 border: 1px solid; background-color:                 hsl(0, 75%, 60%)\"></span> Negative  <span style=\"display: inline-block; width: 10px; height: 10px;                 border: 1px solid; background-color:                 hsl(0, 75%, 100%)\"></span> Neutral  <span style=\"display: inline-block; width: 10px; height: 10px;                 border: 1px solid; background-color:                 hsl(120, 75%, 50%)\"></span> Positive  </div><tr><th>True Label</th><th>Predicted Label</th><th>Attribution Label</th><th>Attribution Score</th><th>Word Importance</th><tr><td><text style=\"padding-right:2em\"><b>Pos</b></text></td><td><text style=\"padding-right:2em\"><b>Pos (0.99)</b></text></td><td><text style=\"padding-right:2em\"><b>Neg</b></text></td><td><text style=\"padding-right:2em\"><b>-0.53</b></text></td><td><mark style=\"background-color: hsl(120, 75%, 90%); opacity:1.0;                     line-height:1.75\"><font color=\"black\"> #s                    </font></mark><mark style=\"background-color: hsl(120, 75%, 97%); opacity:1.0;                     line-height:1.75\"><font color=\"black\"> funniest                    </font></mark><mark style=\"background-color: hsl(120, 75%, 100%); opacity:1.0;                     line-height:1.75\"><font color=\"black\"> idea                    </font></mark><mark style=\"background-color: hsl(0, 75%, 78%); opacity:1.0;                     line-height:1.75\"><font color=\"black\">                     </font></mark><mark style=\"background-color: hsl(0, 75%, 90%); opacity:1.0;                     line-height:1.75\"><font color=\"black\"> #/s                    </font></mark></td><tr></table>"
      ],
      "text/plain": [
       "<IPython.core.display.HTML object>"
      ]
     },
     "metadata": {},
     "output_type": "display_data"
    },
    {
     "name": "stdout",
     "output_type": "stream",
     "text": [
      "<IPython.core.display.HTML object>\n",
      "Raw review: silly and tedious \n",
      "GT target: 0\n",
      "word attr tensor([-0.5029, -0.1209, -0.1789, -0.1130,  0.6175,  0.3782, -0.4042],\n",
      "       grad_fn=<DivBackward0>)\n",
      "conti attr [tensor(-0.5029, grad_fn=<UnbindBackward0>), tensor(-0.2998, grad_fn=<AddBackward0>), tensor(-0.1130, grad_fn=<UnbindBackward0>), tensor(0.6175, grad_fn=<UnbindBackward0>), tensor(0.3782, grad_fn=<UnbindBackward0>), tensor(-0.4042, grad_fn=<UnbindBackward0>)]\n",
      "detokenized ['<s>', 's', 'illy', 'and', 'tedious', '', '</s>']\n",
      "len conti_raw 6\n",
      "conti_raw ['<s>', 'silly', 'and', 'tedious', '', '</s>']\n"
     ]
    },
    {
     "data": {
      "text/html": [
       "<table width: 100%><div style=\"border-top: 1px solid; margin-top: 5px;             padding-top: 5px; display: inline-block\"><b>Legend: </b><span style=\"display: inline-block; width: 10px; height: 10px;                 border: 1px solid; background-color:                 hsl(0, 75%, 60%)\"></span> Negative  <span style=\"display: inline-block; width: 10px; height: 10px;                 border: 1px solid; background-color:                 hsl(0, 75%, 100%)\"></span> Neutral  <span style=\"display: inline-block; width: 10px; height: 10px;                 border: 1px solid; background-color:                 hsl(120, 75%, 50%)\"></span> Positive  </div><tr><th>True Label</th><th>Predicted Label</th><th>Attribution Label</th><th>Attribution Score</th><th>Word Importance</th><tr><td><text style=\"padding-right:2em\"><b>Neg</b></text></td><td><text style=\"padding-right:2em\"><b>Neg (0.00)</b></text></td><td><text style=\"padding-right:2em\"><b>Neg</b></text></td><td><text style=\"padding-right:2em\"><b>-0.32</b></text></td><td><mark style=\"background-color: hsl(0, 75%, 80%); opacity:1.0;                     line-height:1.75\"><font color=\"black\"> #s                    </font></mark><mark style=\"background-color: hsl(0, 75%, 89%); opacity:1.0;                     line-height:1.75\"><font color=\"black\"> silly                    </font></mark><mark style=\"background-color: hsl(0, 75%, 96%); opacity:1.0;                     line-height:1.75\"><font color=\"black\"> and                    </font></mark><mark style=\"background-color: hsl(120, 75%, 70%); opacity:1.0;                     line-height:1.75\"><font color=\"black\"> tedious                    </font></mark><mark style=\"background-color: hsl(120, 75%, 82%); opacity:1.0;                     line-height:1.75\"><font color=\"black\">                     </font></mark><mark style=\"background-color: hsl(0, 75%, 84%); opacity:1.0;                     line-height:1.75\"><font color=\"black\"> #/s                    </font></mark></td><tr></table>"
      ],
      "text/plain": [
       "<IPython.core.display.HTML object>"
      ]
     },
     "metadata": {},
     "output_type": "display_data"
    },
    {
     "name": "stdout",
     "output_type": "stream",
     "text": [
      "<IPython.core.display.HTML object>\n",
      "Raw review: two surefire , beloved genres \n",
      "GT target: 1\n",
      "word attr tensor([ 0.1625, -0.0813, -0.6215, -0.1608,  0.2258,  0.2474,  0.6449, -0.1629,\n",
      "        -0.0128], grad_fn=<DivBackward0>)\n",
      "conti attr [tensor(0.1625, grad_fn=<UnbindBackward0>), tensor(-0.0813, grad_fn=<UnbindBackward0>), tensor(-0.7823, grad_fn=<AddBackward0>), tensor(0.2258, grad_fn=<UnbindBackward0>), tensor(0.2474, grad_fn=<UnbindBackward0>), tensor(0.6449, grad_fn=<UnbindBackward0>), tensor(-0.1629, grad_fn=<UnbindBackward0>), tensor(-0.0128, grad_fn=<UnbindBackward0>)]\n",
      "detokenized ['<s>', 'two', 'sure', 'fire', ',', 'beloved', 'genres', '', '</s>']\n",
      "len conti_raw 8\n",
      "conti_raw ['<s>', 'two', 'surefire', ',', 'beloved', 'genres', '', '</s>']\n"
     ]
    },
    {
     "data": {
      "text/html": [
       "<table width: 100%><div style=\"border-top: 1px solid; margin-top: 5px;             padding-top: 5px; display: inline-block\"><b>Legend: </b><span style=\"display: inline-block; width: 10px; height: 10px;                 border: 1px solid; background-color:                 hsl(0, 75%, 60%)\"></span> Negative  <span style=\"display: inline-block; width: 10px; height: 10px;                 border: 1px solid; background-color:                 hsl(0, 75%, 100%)\"></span> Neutral  <span style=\"display: inline-block; width: 10px; height: 10px;                 border: 1px solid; background-color:                 hsl(120, 75%, 50%)\"></span> Positive  </div><tr><th>True Label</th><th>Predicted Label</th><th>Attribution Label</th><th>Attribution Score</th><th>Word Importance</th><tr><td><text style=\"padding-right:2em\"><b>Pos</b></text></td><td><text style=\"padding-right:2em\"><b>Pos (1.00)</b></text></td><td><text style=\"padding-right:2em\"><b>Neg</b></text></td><td><text style=\"padding-right:2em\"><b>0.24</b></text></td><td><mark style=\"background-color: hsl(120, 75%, 92%); opacity:1.0;                     line-height:1.75\"><font color=\"black\"> #s                    </font></mark><mark style=\"background-color: hsl(0, 75%, 97%); opacity:1.0;                     line-height:1.75\"><font color=\"black\"> two                    </font></mark><mark style=\"background-color: hsl(0, 75%, 69%); opacity:1.0;                     line-height:1.75\"><font color=\"black\"> surefire                    </font></mark><mark style=\"background-color: hsl(120, 75%, 89%); opacity:1.0;                     line-height:1.75\"><font color=\"black\"> ,                    </font></mark><mark style=\"background-color: hsl(120, 75%, 88%); opacity:1.0;                     line-height:1.75\"><font color=\"black\"> beloved                    </font></mark><mark style=\"background-color: hsl(120, 75%, 68%); opacity:1.0;                     line-height:1.75\"><font color=\"black\"> genres                    </font></mark><mark style=\"background-color: hsl(0, 75%, 94%); opacity:1.0;                     line-height:1.75\"><font color=\"black\">                     </font></mark><mark style=\"background-color: hsl(0, 75%, 100%); opacity:1.0;                     line-height:1.75\"><font color=\"black\"> #/s                    </font></mark></td><tr></table>"
      ],
      "text/plain": [
       "<IPython.core.display.HTML object>"
      ]
     },
     "metadata": {},
     "output_type": "display_data"
    },
    {
     "name": "stdout",
     "output_type": "stream",
     "text": [
      "<IPython.core.display.HTML object>\n",
      "Raw review: most charmless \n",
      "GT target: 0\n",
      "word attr tensor([-0.2203, -0.4187,  0.0942,  0.3651,  0.1313,  0.7854],\n",
      "       grad_fn=<DivBackward0>)\n",
      "conti attr [tensor(-0.2203, grad_fn=<UnbindBackward0>), tensor(-0.4187, grad_fn=<UnbindBackward0>), tensor(0.4593, grad_fn=<AddBackward0>), tensor(0.1313, grad_fn=<UnbindBackward0>), tensor(0.7854, grad_fn=<UnbindBackward0>)]\n",
      "detokenized ['<s>', 'most', 'charm', 'less', '', '</s>']\n",
      "len conti_raw 5\n",
      "conti_raw ['<s>', 'most', 'charmless', '', '</s>']\n"
     ]
    },
    {
     "data": {
      "text/html": [
       "<table width: 100%><div style=\"border-top: 1px solid; margin-top: 5px;             padding-top: 5px; display: inline-block\"><b>Legend: </b><span style=\"display: inline-block; width: 10px; height: 10px;                 border: 1px solid; background-color:                 hsl(0, 75%, 60%)\"></span> Negative  <span style=\"display: inline-block; width: 10px; height: 10px;                 border: 1px solid; background-color:                 hsl(0, 75%, 100%)\"></span> Neutral  <span style=\"display: inline-block; width: 10px; height: 10px;                 border: 1px solid; background-color:                 hsl(120, 75%, 50%)\"></span> Positive  </div><tr><th>True Label</th><th>Predicted Label</th><th>Attribution Label</th><th>Attribution Score</th><th>Word Importance</th><tr><td><text style=\"padding-right:2em\"><b>Neg</b></text></td><td><text style=\"padding-right:2em\"><b>Neg (0.00)</b></text></td><td><text style=\"padding-right:2em\"><b>Pos</b></text></td><td><text style=\"padding-right:2em\"><b>0.74</b></text></td><td><mark style=\"background-color: hsl(0, 75%, 92%); opacity:1.0;                     line-height:1.75\"><font color=\"black\"> #s                    </font></mark><mark style=\"background-color: hsl(0, 75%, 84%); opacity:1.0;                     line-height:1.75\"><font color=\"black\"> most                    </font></mark><mark style=\"background-color: hsl(120, 75%, 78%); opacity:1.0;                     line-height:1.75\"><font color=\"black\"> charmless                    </font></mark><mark style=\"background-color: hsl(120, 75%, 94%); opacity:1.0;                     line-height:1.75\"><font color=\"black\">                     </font></mark><mark style=\"background-color: hsl(120, 75%, 61%); opacity:1.0;                     line-height:1.75\"><font color=\"black\"> #/s                    </font></mark></td><tr></table>"
      ],
      "text/plain": [
       "<IPython.core.display.HTML object>"
      ]
     },
     "metadata": {},
     "output_type": "display_data"
    },
    {
     "name": "stdout",
     "output_type": "stream",
     "text": [
      "<IPython.core.display.HTML object>\n",
      "Raw review: offers us the sense that on some elemental level , lilia deeply wants to break free of her old life . \n",
      "GT target: 1\n",
      "word attr tensor([-0.0773,  0.0501, -0.0581,  0.0372, -0.0166,  0.8429,  0.0793, -0.0318,\n",
      "        -0.0074, -0.1014,  0.0893, -0.0265, -0.0736,  0.1618,  0.0986,  0.1353,\n",
      "         0.0381, -0.1918, -0.0320,  0.0127, -0.0565, -0.0932,  0.2581, -0.1450,\n",
      "        -0.2148,  0.0700], grad_fn=<DivBackward0>)\n",
      "conti attr [tensor(-0.0773, grad_fn=<UnbindBackward0>), tensor(-0.0081, grad_fn=<AddBackward0>), tensor(0.0372, grad_fn=<UnbindBackward0>), tensor(-0.0166, grad_fn=<UnbindBackward0>), tensor(0.8429, grad_fn=<UnbindBackward0>), tensor(0.0793, grad_fn=<UnbindBackward0>), tensor(-0.0318, grad_fn=<UnbindBackward0>), tensor(-0.0074, grad_fn=<UnbindBackward0>), tensor(-0.1014, grad_fn=<UnbindBackward0>), tensor(0.0893, grad_fn=<UnbindBackward0>), tensor(-0.0265, grad_fn=<UnbindBackward0>), tensor(0.0882, grad_fn=<AddBackward0>), tensor(0.0986, grad_fn=<UnbindBackward0>), tensor(0.1353, grad_fn=<UnbindBackward0>), tensor(0.0381, grad_fn=<UnbindBackward0>), tensor(-0.1918, grad_fn=<UnbindBackward0>), tensor(-0.0320, grad_fn=<UnbindBackward0>), tensor(0.0127, grad_fn=<UnbindBackward0>), tensor(-0.0565, grad_fn=<UnbindBackward0>), tensor(-0.0932, grad_fn=<UnbindBackward0>), tensor(0.2581, grad_fn=<UnbindBackward0>), tensor(-0.1450, grad_fn=<UnbindBackward0>), tensor(-0.2148, grad_fn=<UnbindBackward0>), tensor(0.0700, grad_fn=<UnbindBackward0>)]\n",
      "detokenized ['<s>', 'off', 'ers', 'us', 'the', 'sense', 'that', 'on', 'some', 'elemental', 'level', ',', 'l', 'ilia', 'deeply', 'wants', 'to', 'break', 'free', 'of', 'her', 'old', 'life', '.', '', '</s>']\n",
      "len conti_raw 24\n",
      "conti_raw ['<s>', 'offers', 'us', 'the', 'sense', 'that', 'on', 'some', 'elemental', 'level', ',', 'lilia', 'deeply', 'wants', 'to', 'break', 'free', 'of', 'her', 'old', 'life', '.', '', '</s>']\n"
     ]
    },
    {
     "data": {
      "text/html": [
       "<table width: 100%><div style=\"border-top: 1px solid; margin-top: 5px;             padding-top: 5px; display: inline-block\"><b>Legend: </b><span style=\"display: inline-block; width: 10px; height: 10px;                 border: 1px solid; background-color:                 hsl(0, 75%, 60%)\"></span> Negative  <span style=\"display: inline-block; width: 10px; height: 10px;                 border: 1px solid; background-color:                 hsl(0, 75%, 100%)\"></span> Neutral  <span style=\"display: inline-block; width: 10px; height: 10px;                 border: 1px solid; background-color:                 hsl(120, 75%, 50%)\"></span> Positive  </div><tr><th>True Label</th><th>Predicted Label</th><th>Attribution Label</th><th>Attribution Score</th><th>Word Importance</th><tr><td><text style=\"padding-right:2em\"><b>Pos</b></text></td><td><text style=\"padding-right:2em\"><b>Pos (1.00)</b></text></td><td><text style=\"padding-right:2em\"><b>Pos</b></text></td><td><text style=\"padding-right:2em\"><b>0.75</b></text></td><td><mark style=\"background-color: hsl(0, 75%, 97%); opacity:1.0;                     line-height:1.75\"><font color=\"black\"> #s                    </font></mark><mark style=\"background-color: hsl(0, 75%, 100%); opacity:1.0;                     line-height:1.75\"><font color=\"black\"> offers                    </font></mark><mark style=\"background-color: hsl(120, 75%, 99%); opacity:1.0;                     line-height:1.75\"><font color=\"black\"> us                    </font></mark><mark style=\"background-color: hsl(0, 75%, 100%); opacity:1.0;                     line-height:1.75\"><font color=\"black\"> the                    </font></mark><mark style=\"background-color: hsl(120, 75%, 58%); opacity:1.0;                     line-height:1.75\"><font color=\"black\"> sense                    </font></mark><mark style=\"background-color: hsl(120, 75%, 97%); opacity:1.0;                     line-height:1.75\"><font color=\"black\"> that                    </font></mark><mark style=\"background-color: hsl(0, 75%, 99%); opacity:1.0;                     line-height:1.75\"><font color=\"black\"> on                    </font></mark><mark style=\"background-color: hsl(0, 75%, 100%); opacity:1.0;                     line-height:1.75\"><font color=\"black\"> some                    </font></mark><mark style=\"background-color: hsl(0, 75%, 96%); opacity:1.0;                     line-height:1.75\"><font color=\"black\"> elemental                    </font></mark><mark style=\"background-color: hsl(120, 75%, 96%); opacity:1.0;                     line-height:1.75\"><font color=\"black\"> level                    </font></mark><mark style=\"background-color: hsl(0, 75%, 99%); opacity:1.0;                     line-height:1.75\"><font color=\"black\"> ,                    </font></mark><mark style=\"background-color: hsl(120, 75%, 96%); opacity:1.0;                     line-height:1.75\"><font color=\"black\"> lilia                    </font></mark><mark style=\"background-color: hsl(120, 75%, 96%); opacity:1.0;                     line-height:1.75\"><font color=\"black\"> deeply                    </font></mark><mark style=\"background-color: hsl(120, 75%, 94%); opacity:1.0;                     line-height:1.75\"><font color=\"black\"> wants                    </font></mark><mark style=\"background-color: hsl(120, 75%, 99%); opacity:1.0;                     line-height:1.75\"><font color=\"black\"> to                    </font></mark><mark style=\"background-color: hsl(0, 75%, 93%); opacity:1.0;                     line-height:1.75\"><font color=\"black\"> break                    </font></mark><mark style=\"background-color: hsl(0, 75%, 99%); opacity:1.0;                     line-height:1.75\"><font color=\"black\"> free                    </font></mark><mark style=\"background-color: hsl(120, 75%, 100%); opacity:1.0;                     line-height:1.75\"><font color=\"black\"> of                    </font></mark><mark style=\"background-color: hsl(0, 75%, 98%); opacity:1.0;                     line-height:1.75\"><font color=\"black\"> her                    </font></mark><mark style=\"background-color: hsl(0, 75%, 97%); opacity:1.0;                     line-height:1.75\"><font color=\"black\"> old                    </font></mark><mark style=\"background-color: hsl(120, 75%, 88%); opacity:1.0;                     line-height:1.75\"><font color=\"black\"> life                    </font></mark><mark style=\"background-color: hsl(0, 75%, 95%); opacity:1.0;                     line-height:1.75\"><font color=\"black\"> .                    </font></mark><mark style=\"background-color: hsl(0, 75%, 92%); opacity:1.0;                     line-height:1.75\"><font color=\"black\">                     </font></mark><mark style=\"background-color: hsl(120, 75%, 97%); opacity:1.0;                     line-height:1.75\"><font color=\"black\"> #/s                    </font></mark></td><tr></table>"
      ],
      "text/plain": [
       "<IPython.core.display.HTML object>"
      ]
     },
     "metadata": {},
     "output_type": "display_data"
    },
    {
     "name": "stdout",
     "output_type": "stream",
     "text": [
      "<IPython.core.display.HTML object>\n",
      "Raw review: might be best forgotten \n",
      "GT target: 0\n",
      "word attr tensor([ 0.4649, -0.0694,  0.1912,  0.5770, -0.6359, -0.0438,  0.0569],\n",
      "       grad_fn=<DivBackward0>)\n",
      "conti attr [tensor(0.4649, grad_fn=<UnbindBackward0>), tensor(-0.0694, grad_fn=<UnbindBackward0>), tensor(0.1912, grad_fn=<UnbindBackward0>), tensor(0.5770, grad_fn=<UnbindBackward0>), tensor(-0.6359, grad_fn=<UnbindBackward0>), tensor(-0.0438, grad_fn=<UnbindBackward0>), tensor(0.0569, grad_fn=<UnbindBackward0>)]\n",
      "detokenized ['<s>', 'might', 'be', 'best', 'forgotten', '', '</s>']\n",
      "len conti_raw 7\n",
      "conti_raw ['<s>', 'might', 'be', 'best', 'forgotten', '', '</s>']\n"
     ]
    },
    {
     "data": {
      "text/html": [
       "<table width: 100%><div style=\"border-top: 1px solid; margin-top: 5px;             padding-top: 5px; display: inline-block\"><b>Legend: </b><span style=\"display: inline-block; width: 10px; height: 10px;                 border: 1px solid; background-color:                 hsl(0, 75%, 60%)\"></span> Negative  <span style=\"display: inline-block; width: 10px; height: 10px;                 border: 1px solid; background-color:                 hsl(0, 75%, 100%)\"></span> Neutral  <span style=\"display: inline-block; width: 10px; height: 10px;                 border: 1px solid; background-color:                 hsl(120, 75%, 50%)\"></span> Positive  </div><tr><th>True Label</th><th>Predicted Label</th><th>Attribution Label</th><th>Attribution Score</th><th>Word Importance</th><tr><td><text style=\"padding-right:2em\"><b>Neg</b></text></td><td><text style=\"padding-right:2em\"><b>Neg (0.00)</b></text></td><td><text style=\"padding-right:2em\"><b>Pos</b></text></td><td><text style=\"padding-right:2em\"><b>0.54</b></text></td><td><mark style=\"background-color: hsl(120, 75%, 77%); opacity:1.0;                     line-height:1.75\"><font color=\"black\"> #s                    </font></mark><mark style=\"background-color: hsl(0, 75%, 98%); opacity:1.0;                     line-height:1.75\"><font color=\"black\"> might                    </font></mark><mark style=\"background-color: hsl(120, 75%, 91%); opacity:1.0;                     line-height:1.75\"><font color=\"black\"> be                    </font></mark><mark style=\"background-color: hsl(120, 75%, 72%); opacity:1.0;                     line-height:1.75\"><font color=\"black\"> best                    </font></mark><mark style=\"background-color: hsl(0, 75%, 75%); opacity:1.0;                     line-height:1.75\"><font color=\"black\"> forgotten                    </font></mark><mark style=\"background-color: hsl(0, 75%, 99%); opacity:1.0;                     line-height:1.75\"><font color=\"black\">                     </font></mark><mark style=\"background-color: hsl(120, 75%, 98%); opacity:1.0;                     line-height:1.75\"><font color=\"black\"> #/s                    </font></mark></td><tr></table>"
      ],
      "text/plain": [
       "<IPython.core.display.HTML object>"
      ]
     },
     "metadata": {},
     "output_type": "display_data"
    },
    {
     "name": "stdout",
     "output_type": "stream",
     "text": [
      "<IPython.core.display.HTML object>\n",
      "Raw review: a substantial arc of change that does n't produce any real transformation \n",
      "GT target: 0\n",
      "word attr tensor([-0.4826, -0.0477, -0.1141,  0.7632,  0.0055, -0.2234,  0.0113,  0.0816,\n",
      "         0.1048,  0.0286,  0.0823,  0.0520, -0.0709,  0.2864,  0.0330,  0.0562],\n",
      "       grad_fn=<DivBackward0>)\n",
      "conti attr [tensor(-0.4826, grad_fn=<UnbindBackward0>), tensor(-0.0477, grad_fn=<UnbindBackward0>), tensor(-0.1141, grad_fn=<UnbindBackward0>), tensor(0.7632, grad_fn=<UnbindBackward0>), tensor(0.0055, grad_fn=<UnbindBackward0>), tensor(-0.2234, grad_fn=<UnbindBackward0>), tensor(0.0113, grad_fn=<UnbindBackward0>), tensor(0.0816, grad_fn=<UnbindBackward0>), tensor(0.1333, grad_fn=<AddBackward0>), tensor(0.0823, grad_fn=<UnbindBackward0>), tensor(0.0520, grad_fn=<UnbindBackward0>), tensor(-0.0709, grad_fn=<UnbindBackward0>), tensor(0.2864, grad_fn=<UnbindBackward0>), tensor(0.0330, grad_fn=<UnbindBackward0>), tensor(0.0562, grad_fn=<UnbindBackward0>)]\n",
      "detokenized ['<s>', 'a', 'substantial', 'arc', 'of', 'change', 'that', 'does', 'n', \"'t\", 'produce', 'any', 'real', 'transformation', '', '</s>']\n",
      "len conti_raw 15\n",
      "conti_raw ['<s>', 'a', 'substantial', 'arc', 'of', 'change', 'that', 'does', \"n't\", 'produce', 'any', 'real', 'transformation', '', '</s>']\n"
     ]
    },
    {
     "data": {
      "text/html": [
       "<table width: 100%><div style=\"border-top: 1px solid; margin-top: 5px;             padding-top: 5px; display: inline-block\"><b>Legend: </b><span style=\"display: inline-block; width: 10px; height: 10px;                 border: 1px solid; background-color:                 hsl(0, 75%, 60%)\"></span> Negative  <span style=\"display: inline-block; width: 10px; height: 10px;                 border: 1px solid; background-color:                 hsl(0, 75%, 100%)\"></span> Neutral  <span style=\"display: inline-block; width: 10px; height: 10px;                 border: 1px solid; background-color:                 hsl(120, 75%, 50%)\"></span> Positive  </div><tr><th>True Label</th><th>Predicted Label</th><th>Attribution Label</th><th>Attribution Score</th><th>Word Importance</th><tr><td><text style=\"padding-right:2em\"><b>Neg</b></text></td><td><text style=\"padding-right:2em\"><b>Neg (0.00)</b></text></td><td><text style=\"padding-right:2em\"><b>Pos</b></text></td><td><text style=\"padding-right:2em\"><b>0.57</b></text></td><td><mark style=\"background-color: hsl(0, 75%, 81%); opacity:1.0;                     line-height:1.75\"><font color=\"black\"> #s                    </font></mark><mark style=\"background-color: hsl(0, 75%, 99%); opacity:1.0;                     line-height:1.75\"><font color=\"black\"> a                    </font></mark><mark style=\"background-color: hsl(0, 75%, 96%); opacity:1.0;                     line-height:1.75\"><font color=\"black\"> substantial                    </font></mark><mark style=\"background-color: hsl(120, 75%, 62%); opacity:1.0;                     line-height:1.75\"><font color=\"black\"> arc                    </font></mark><mark style=\"background-color: hsl(120, 75%, 100%); opacity:1.0;                     line-height:1.75\"><font color=\"black\"> of                    </font></mark><mark style=\"background-color: hsl(0, 75%, 92%); opacity:1.0;                     line-height:1.75\"><font color=\"black\"> change                    </font></mark><mark style=\"background-color: hsl(120, 75%, 100%); opacity:1.0;                     line-height:1.75\"><font color=\"black\"> that                    </font></mark><mark style=\"background-color: hsl(120, 75%, 96%); opacity:1.0;                     line-height:1.75\"><font color=\"black\"> does                    </font></mark><mark style=\"background-color: hsl(120, 75%, 94%); opacity:1.0;                     line-height:1.75\"><font color=\"black\"> n't                    </font></mark><mark style=\"background-color: hsl(120, 75%, 96%); opacity:1.0;                     line-height:1.75\"><font color=\"black\"> produce                    </font></mark><mark style=\"background-color: hsl(120, 75%, 98%); opacity:1.0;                     line-height:1.75\"><font color=\"black\"> any                    </font></mark><mark style=\"background-color: hsl(0, 75%, 98%); opacity:1.0;                     line-height:1.75\"><font color=\"black\"> real                    </font></mark><mark style=\"background-color: hsl(120, 75%, 86%); opacity:1.0;                     line-height:1.75\"><font color=\"black\"> transformation                    </font></mark><mark style=\"background-color: hsl(120, 75%, 99%); opacity:1.0;                     line-height:1.75\"><font color=\"black\">                     </font></mark><mark style=\"background-color: hsl(120, 75%, 98%); opacity:1.0;                     line-height:1.75\"><font color=\"black\"> #/s                    </font></mark></td><tr></table>"
      ],
      "text/plain": [
       "<IPython.core.display.HTML object>"
      ]
     },
     "metadata": {},
     "output_type": "display_data"
    },
    {
     "name": "stdout",
     "output_type": "stream",
     "text": [
      "<IPython.core.display.HTML object>\n",
      "Raw review: unadorned \n",
      "GT target: 0\n",
      "word attr tensor([-0.3723,  0.0978,  0.2679,  0.4580,  0.7549,  0.0209],\n",
      "       grad_fn=<DivBackward0>)\n",
      "conti attr [tensor(-0.3723, grad_fn=<UnbindBackward0>), tensor(0.8237, grad_fn=<AddBackward0>), tensor(0.7549, grad_fn=<UnbindBackward0>), tensor(0.0209, grad_fn=<UnbindBackward0>)]\n",
      "detokenized ['<s>', 'un', 'ad', 'orned', '', '</s>']\n",
      "len conti_raw 4\n",
      "conti_raw ['<s>', 'unadorned', '', '</s>']\n"
     ]
    },
    {
     "data": {
      "text/html": [
       "<table width: 100%><div style=\"border-top: 1px solid; margin-top: 5px;             padding-top: 5px; display: inline-block\"><b>Legend: </b><span style=\"display: inline-block; width: 10px; height: 10px;                 border: 1px solid; background-color:                 hsl(0, 75%, 60%)\"></span> Negative  <span style=\"display: inline-block; width: 10px; height: 10px;                 border: 1px solid; background-color:                 hsl(0, 75%, 100%)\"></span> Neutral  <span style=\"display: inline-block; width: 10px; height: 10px;                 border: 1px solid; background-color:                 hsl(120, 75%, 50%)\"></span> Positive  </div><tr><th>True Label</th><th>Predicted Label</th><th>Attribution Label</th><th>Attribution Score</th><th>Word Importance</th><tr><td><text style=\"padding-right:2em\"><b>Neg</b></text></td><td><text style=\"padding-right:2em\"><b>Pos (1.00)</b></text></td><td><text style=\"padding-right:2em\"><b>Pos</b></text></td><td><text style=\"padding-right:2em\"><b>1.23</b></text></td><td><mark style=\"background-color: hsl(0, 75%, 86%); opacity:1.0;                     line-height:1.75\"><font color=\"black\"> #s                    </font></mark><mark style=\"background-color: hsl(120, 75%, 59%); opacity:1.0;                     line-height:1.75\"><font color=\"black\"> unadorned                    </font></mark><mark style=\"background-color: hsl(120, 75%, 63%); opacity:1.0;                     line-height:1.75\"><font color=\"black\">                     </font></mark><mark style=\"background-color: hsl(120, 75%, 99%); opacity:1.0;                     line-height:1.75\"><font color=\"black\"> #/s                    </font></mark></td><tr></table>"
      ],
      "text/plain": [
       "<IPython.core.display.HTML object>"
      ]
     },
     "metadata": {},
     "output_type": "display_data"
    },
    {
     "name": "stdout",
     "output_type": "stream",
     "text": [
      "<IPython.core.display.HTML object>\n",
      "Raw review: this is the kind of movie that you only need to watch for about thirty seconds before you say to yourself , ` ah , yes , here we have a bad , bad , bad movie . ' \n",
      "GT target: 0\n",
      "word attr tensor([-0.1239,  0.1118, -0.0007, -0.0784,  0.0771, -0.0405, -0.4587,  0.0584,\n",
      "        -0.0469,  0.0033,  0.1301,  0.0056, -0.1337, -0.0086,  0.0133, -0.4941,\n",
      "         0.1385, -0.0449, -0.0615,  0.1031, -0.0370,  0.0193,  0.0260, -0.0132,\n",
      "         0.0706,  0.0543,  0.1335,  0.0725,  0.0564, -0.0022,  0.0020,  0.0135,\n",
      "        -0.2097,  0.1497, -0.2194,  0.1630, -0.1932, -0.3095,  0.2613, -0.0739,\n",
      "         0.1662,  0.1225], grad_fn=<DivBackward0>)\n",
      "conti attr [tensor(-0.1239, grad_fn=<UnbindBackward0>), tensor(0.1118, grad_fn=<UnbindBackward0>), tensor(-0.0007, grad_fn=<UnbindBackward0>), tensor(-0.0784, grad_fn=<UnbindBackward0>), tensor(0.0771, grad_fn=<UnbindBackward0>), tensor(-0.0405, grad_fn=<UnbindBackward0>), tensor(-0.4587, grad_fn=<UnbindBackward0>), tensor(0.0584, grad_fn=<UnbindBackward0>), tensor(-0.0469, grad_fn=<UnbindBackward0>), tensor(0.0033, grad_fn=<UnbindBackward0>), tensor(0.1301, grad_fn=<UnbindBackward0>), tensor(0.0056, grad_fn=<UnbindBackward0>), tensor(-0.1337, grad_fn=<UnbindBackward0>), tensor(-0.0086, grad_fn=<UnbindBackward0>), tensor(0.0133, grad_fn=<UnbindBackward0>), tensor(-0.4941, grad_fn=<UnbindBackward0>), tensor(0.1385, grad_fn=<UnbindBackward0>), tensor(-0.0449, grad_fn=<UnbindBackward0>), tensor(-0.0615, grad_fn=<UnbindBackward0>), tensor(0.1031, grad_fn=<UnbindBackward0>), tensor(-0.0370, grad_fn=<UnbindBackward0>), tensor(0.0193, grad_fn=<UnbindBackward0>), tensor(0.0260, grad_fn=<UnbindBackward0>), tensor(-0.0132, grad_fn=<UnbindBackward0>), tensor(0.0706, grad_fn=<UnbindBackward0>), tensor(0.0543, grad_fn=<UnbindBackward0>), tensor(0.1335, grad_fn=<UnbindBackward0>), tensor(0.0725, grad_fn=<UnbindBackward0>), tensor(0.0564, grad_fn=<UnbindBackward0>), tensor(-0.0022, grad_fn=<UnbindBackward0>), tensor(0.0020, grad_fn=<UnbindBackward0>), tensor(0.0135, grad_fn=<UnbindBackward0>), tensor(-0.2097, grad_fn=<UnbindBackward0>), tensor(0.1497, grad_fn=<UnbindBackward0>), tensor(-0.2194, grad_fn=<UnbindBackward0>), tensor(0.1630, grad_fn=<UnbindBackward0>), tensor(-0.1932, grad_fn=<UnbindBackward0>), tensor(-0.3095, grad_fn=<UnbindBackward0>), tensor(0.2613, grad_fn=<UnbindBackward0>), tensor(-0.0739, grad_fn=<UnbindBackward0>), tensor(0.1662, grad_fn=<UnbindBackward0>), tensor(0.1225, grad_fn=<UnbindBackward0>)]\n",
      "detokenized ['<s>', 'this', 'is', 'the', 'kind', 'of', 'movie', 'that', 'you', 'only', 'need', 'to', 'watch', 'for', 'about', 'thirty', 'seconds', 'before', 'you', 'say', 'to', 'yourself', ',', '`', 'ah', ',', 'yes', ',', 'here', 'we', 'have', 'a', 'bad', ',', 'bad', ',', 'bad', 'movie', '.', \"'\", '', '</s>']\n",
      "len conti_raw 42\n",
      "conti_raw ['<s>', 'this', 'is', 'the', 'kind', 'of', 'movie', 'that', 'you', 'only', 'need', 'to', 'watch', 'for', 'about', 'thirty', 'seconds', 'before', 'you', 'say', 'to', 'yourself', ',', '`', 'ah', ',', 'yes', ',', 'here', 'we', 'have', 'a', 'bad', ',', 'bad', ',', 'bad', 'movie', '.', \"'\", '', '</s>']\n"
     ]
    },
    {
     "data": {
      "text/html": [
       "<table width: 100%><div style=\"border-top: 1px solid; margin-top: 5px;             padding-top: 5px; display: inline-block\"><b>Legend: </b><span style=\"display: inline-block; width: 10px; height: 10px;                 border: 1px solid; background-color:                 hsl(0, 75%, 60%)\"></span> Negative  <span style=\"display: inline-block; width: 10px; height: 10px;                 border: 1px solid; background-color:                 hsl(0, 75%, 100%)\"></span> Neutral  <span style=\"display: inline-block; width: 10px; height: 10px;                 border: 1px solid; background-color:                 hsl(120, 75%, 50%)\"></span> Positive  </div><tr><th>True Label</th><th>Predicted Label</th><th>Attribution Label</th><th>Attribution Score</th><th>Word Importance</th><tr><td><text style=\"padding-right:2em\"><b>Neg</b></text></td><td><text style=\"padding-right:2em\"><b>Neg (0.00)</b></text></td><td><text style=\"padding-right:2em\"><b>Neg</b></text></td><td><text style=\"padding-right:2em\"><b>-0.60</b></text></td><td><mark style=\"background-color: hsl(0, 75%, 96%); opacity:1.0;                     line-height:1.75\"><font color=\"black\"> #s                    </font></mark><mark style=\"background-color: hsl(120, 75%, 95%); opacity:1.0;                     line-height:1.75\"><font color=\"black\"> this                    </font></mark><mark style=\"background-color: hsl(0, 75%, 100%); opacity:1.0;                     line-height:1.75\"><font color=\"black\"> is                    </font></mark><mark style=\"background-color: hsl(0, 75%, 97%); opacity:1.0;                     line-height:1.75\"><font color=\"black\"> the                    </font></mark><mark style=\"background-color: hsl(120, 75%, 97%); opacity:1.0;                     line-height:1.75\"><font color=\"black\"> kind                    </font></mark><mark style=\"background-color: hsl(0, 75%, 99%); opacity:1.0;                     line-height:1.75\"><font color=\"black\"> of                    </font></mark><mark style=\"background-color: hsl(0, 75%, 82%); opacity:1.0;                     line-height:1.75\"><font color=\"black\"> movie                    </font></mark><mark style=\"background-color: hsl(120, 75%, 98%); opacity:1.0;                     line-height:1.75\"><font color=\"black\"> that                    </font></mark><mark style=\"background-color: hsl(0, 75%, 99%); opacity:1.0;                     line-height:1.75\"><font color=\"black\"> you                    </font></mark><mark style=\"background-color: hsl(120, 75%, 100%); opacity:1.0;                     line-height:1.75\"><font color=\"black\"> only                    </font></mark><mark style=\"background-color: hsl(120, 75%, 94%); opacity:1.0;                     line-height:1.75\"><font color=\"black\"> need                    </font></mark><mark style=\"background-color: hsl(120, 75%, 100%); opacity:1.0;                     line-height:1.75\"><font color=\"black\"> to                    </font></mark><mark style=\"background-color: hsl(0, 75%, 95%); opacity:1.0;                     line-height:1.75\"><font color=\"black\"> watch                    </font></mark><mark style=\"background-color: hsl(0, 75%, 100%); opacity:1.0;                     line-height:1.75\"><font color=\"black\"> for                    </font></mark><mark style=\"background-color: hsl(120, 75%, 100%); opacity:1.0;                     line-height:1.75\"><font color=\"black\"> about                    </font></mark><mark style=\"background-color: hsl(0, 75%, 81%); opacity:1.0;                     line-height:1.75\"><font color=\"black\"> thirty                    </font></mark><mark style=\"background-color: hsl(120, 75%, 94%); opacity:1.0;                     line-height:1.75\"><font color=\"black\"> seconds                    </font></mark><mark style=\"background-color: hsl(0, 75%, 99%); opacity:1.0;                     line-height:1.75\"><font color=\"black\"> before                    </font></mark><mark style=\"background-color: hsl(0, 75%, 98%); opacity:1.0;                     line-height:1.75\"><font color=\"black\"> you                    </font></mark><mark style=\"background-color: hsl(120, 75%, 95%); opacity:1.0;                     line-height:1.75\"><font color=\"black\"> say                    </font></mark><mark style=\"background-color: hsl(0, 75%, 99%); opacity:1.0;                     line-height:1.75\"><font color=\"black\"> to                    </font></mark><mark style=\"background-color: hsl(120, 75%, 100%); opacity:1.0;                     line-height:1.75\"><font color=\"black\"> yourself                    </font></mark><mark style=\"background-color: hsl(120, 75%, 99%); opacity:1.0;                     line-height:1.75\"><font color=\"black\"> ,                    </font></mark><mark style=\"background-color: hsl(0, 75%, 100%); opacity:1.0;                     line-height:1.75\"><font color=\"black\"> `                    </font></mark><mark style=\"background-color: hsl(120, 75%, 97%); opacity:1.0;                     line-height:1.75\"><font color=\"black\"> ah                    </font></mark><mark style=\"background-color: hsl(120, 75%, 98%); opacity:1.0;                     line-height:1.75\"><font color=\"black\"> ,                    </font></mark><mark style=\"background-color: hsl(120, 75%, 94%); opacity:1.0;                     line-height:1.75\"><font color=\"black\"> yes                    </font></mark><mark style=\"background-color: hsl(120, 75%, 97%); opacity:1.0;                     line-height:1.75\"><font color=\"black\"> ,                    </font></mark><mark style=\"background-color: hsl(120, 75%, 98%); opacity:1.0;                     line-height:1.75\"><font color=\"black\"> here                    </font></mark><mark style=\"background-color: hsl(0, 75%, 100%); opacity:1.0;                     line-height:1.75\"><font color=\"black\"> we                    </font></mark><mark style=\"background-color: hsl(120, 75%, 100%); opacity:1.0;                     line-height:1.75\"><font color=\"black\"> have                    </font></mark><mark style=\"background-color: hsl(120, 75%, 100%); opacity:1.0;                     line-height:1.75\"><font color=\"black\"> a                    </font></mark><mark style=\"background-color: hsl(0, 75%, 92%); opacity:1.0;                     line-height:1.75\"><font color=\"black\"> bad                    </font></mark><mark style=\"background-color: hsl(120, 75%, 93%); opacity:1.0;                     line-height:1.75\"><font color=\"black\"> ,                    </font></mark><mark style=\"background-color: hsl(0, 75%, 92%); opacity:1.0;                     line-height:1.75\"><font color=\"black\"> bad                    </font></mark><mark style=\"background-color: hsl(120, 75%, 92%); opacity:1.0;                     line-height:1.75\"><font color=\"black\"> ,                    </font></mark><mark style=\"background-color: hsl(0, 75%, 93%); opacity:1.0;                     line-height:1.75\"><font color=\"black\"> bad                    </font></mark><mark style=\"background-color: hsl(0, 75%, 88%); opacity:1.0;                     line-height:1.75\"><font color=\"black\"> movie                    </font></mark><mark style=\"background-color: hsl(120, 75%, 87%); opacity:1.0;                     line-height:1.75\"><font color=\"black\"> .                    </font></mark><mark style=\"background-color: hsl(0, 75%, 98%); opacity:1.0;                     line-height:1.75\"><font color=\"black\"> '                    </font></mark><mark style=\"background-color: hsl(120, 75%, 92%); opacity:1.0;                     line-height:1.75\"><font color=\"black\">                     </font></mark><mark style=\"background-color: hsl(120, 75%, 94%); opacity:1.0;                     line-height:1.75\"><font color=\"black\"> #/s                    </font></mark></td><tr></table>"
      ],
      "text/plain": [
       "<IPython.core.display.HTML object>"
      ]
     },
     "metadata": {},
     "output_type": "display_data"
    },
    {
     "name": "stdout",
     "output_type": "stream",
     "text": [
      "<IPython.core.display.HTML object>\n",
      "Raw review: feel sanitised and stagey \n",
      "GT target: 0\n",
      "word attr tensor([-0.4699,  0.0434,  0.7434, -0.0743, -0.3560,  0.1163,  0.1613,  0.1715,\n",
      "         0.1527, -0.0137], grad_fn=<DivBackward0>)\n",
      "conti attr [tensor(-0.4699, grad_fn=<UnbindBackward0>), tensor(0.0434, grad_fn=<UnbindBackward0>), tensor(0.3131, grad_fn=<AddBackward0>), tensor(0.1163, grad_fn=<UnbindBackward0>), tensor(0.3328, grad_fn=<AddBackward0>), tensor(0.1527, grad_fn=<UnbindBackward0>), tensor(-0.0137, grad_fn=<UnbindBackward0>)]\n",
      "detokenized ['<s>', 'feel', 'san', 'it', 'ised', 'and', 'stage', 'y', '', '</s>']\n",
      "len conti_raw 7\n",
      "conti_raw ['<s>', 'feel', 'sanitised', 'and', 'stagey', '', '</s>']\n"
     ]
    },
    {
     "data": {
      "text/html": [
       "<table width: 100%><div style=\"border-top: 1px solid; margin-top: 5px;             padding-top: 5px; display: inline-block\"><b>Legend: </b><span style=\"display: inline-block; width: 10px; height: 10px;                 border: 1px solid; background-color:                 hsl(0, 75%, 60%)\"></span> Negative  <span style=\"display: inline-block; width: 10px; height: 10px;                 border: 1px solid; background-color:                 hsl(0, 75%, 100%)\"></span> Neutral  <span style=\"display: inline-block; width: 10px; height: 10px;                 border: 1px solid; background-color:                 hsl(120, 75%, 50%)\"></span> Positive  </div><tr><th>True Label</th><th>Predicted Label</th><th>Attribution Label</th><th>Attribution Score</th><th>Word Importance</th><tr><td><text style=\"padding-right:2em\"><b>Neg</b></text></td><td><text style=\"padding-right:2em\"><b>Neg (0.00)</b></text></td><td><text style=\"padding-right:2em\"><b>Neg</b></text></td><td><text style=\"padding-right:2em\"><b>0.47</b></text></td><td><mark style=\"background-color: hsl(0, 75%, 82%); opacity:1.0;                     line-height:1.75\"><font color=\"black\"> #s                    </font></mark><mark style=\"background-color: hsl(120, 75%, 98%); opacity:1.0;                     line-height:1.75\"><font color=\"black\"> feel                    </font></mark><mark style=\"background-color: hsl(120, 75%, 85%); opacity:1.0;                     line-height:1.75\"><font color=\"black\"> sanitised                    </font></mark><mark style=\"background-color: hsl(120, 75%, 95%); opacity:1.0;                     line-height:1.75\"><font color=\"black\"> and                    </font></mark><mark style=\"background-color: hsl(120, 75%, 84%); opacity:1.0;                     line-height:1.75\"><font color=\"black\"> stagey                    </font></mark><mark style=\"background-color: hsl(120, 75%, 93%); opacity:1.0;                     line-height:1.75\"><font color=\"black\">                     </font></mark><mark style=\"background-color: hsl(0, 75%, 100%); opacity:1.0;                     line-height:1.75\"><font color=\"black\"> #/s                    </font></mark></td><tr></table>"
      ],
      "text/plain": [
       "<IPython.core.display.HTML object>"
      ]
     },
     "metadata": {},
     "output_type": "display_data"
    },
    {
     "name": "stdout",
     "output_type": "stream",
     "text": [
      "<IPython.core.display.HTML object>\n",
      "Raw review: replete with stereotypical familial quandaries \n",
      "GT target: 0\n",
      "word attr tensor([-0.4936, -0.0997,  0.1809, -0.0017, -0.0563, -0.3898,  0.4839,  0.0318,\n",
      "         0.5602,  0.0060,  0.0973], grad_fn=<DivBackward0>)\n",
      "conti attr [tensor(-0.4936, grad_fn=<UnbindBackward0>), tensor(0.0812, grad_fn=<AddBackward0>), tensor(-0.0017, grad_fn=<UnbindBackward0>), tensor(-0.0563, grad_fn=<UnbindBackward0>), tensor(-0.3898, grad_fn=<UnbindBackward0>), tensor(1.0759, grad_fn=<AddBackward0>), tensor(0.0060, grad_fn=<UnbindBackward0>), tensor(0.0973, grad_fn=<UnbindBackward0>)]\n",
      "detokenized ['<s>', 're', 'plete', 'with', 'stereotypical', 'familial', 'qu', 'and', 'aries', '', '</s>']\n",
      "len conti_raw 8\n",
      "conti_raw ['<s>', 'replete', 'with', 'stereotypical', 'familial', 'quandaries', '', '</s>']\n"
     ]
    },
    {
     "data": {
      "text/html": [
       "<table width: 100%><div style=\"border-top: 1px solid; margin-top: 5px;             padding-top: 5px; display: inline-block\"><b>Legend: </b><span style=\"display: inline-block; width: 10px; height: 10px;                 border: 1px solid; background-color:                 hsl(0, 75%, 60%)\"></span> Negative  <span style=\"display: inline-block; width: 10px; height: 10px;                 border: 1px solid; background-color:                 hsl(0, 75%, 100%)\"></span> Neutral  <span style=\"display: inline-block; width: 10px; height: 10px;                 border: 1px solid; background-color:                 hsl(120, 75%, 50%)\"></span> Positive  </div><tr><th>True Label</th><th>Predicted Label</th><th>Attribution Label</th><th>Attribution Score</th><th>Word Importance</th><tr><td><text style=\"padding-right:2em\"><b>Neg</b></text></td><td><text style=\"padding-right:2em\"><b>Neg (0.00)</b></text></td><td><text style=\"padding-right:2em\"><b>Neg</b></text></td><td><text style=\"padding-right:2em\"><b>0.32</b></text></td><td><mark style=\"background-color: hsl(0, 75%, 81%); opacity:1.0;                     line-height:1.75\"><font color=\"black\"> #s                    </font></mark><mark style=\"background-color: hsl(120, 75%, 96%); opacity:1.0;                     line-height:1.75\"><font color=\"black\"> replete                    </font></mark><mark style=\"background-color: hsl(0, 75%, 100%); opacity:1.0;                     line-height:1.75\"><font color=\"black\"> with                    </font></mark><mark style=\"background-color: hsl(0, 75%, 98%); opacity:1.0;                     line-height:1.75\"><font color=\"black\"> stereotypical                    </font></mark><mark style=\"background-color: hsl(0, 75%, 85%); opacity:1.0;                     line-height:1.75\"><font color=\"black\"> familial                    </font></mark><mark style=\"background-color: hsl(120, 75%, 50%); opacity:1.0;                     line-height:1.75\"><font color=\"black\"> quandaries                    </font></mark><mark style=\"background-color: hsl(120, 75%, 100%); opacity:1.0;                     line-height:1.75\"><font color=\"black\">                     </font></mark><mark style=\"background-color: hsl(120, 75%, 96%); opacity:1.0;                     line-height:1.75\"><font color=\"black\"> #/s                    </font></mark></td><tr></table>"
      ],
      "text/plain": [
       "<IPython.core.display.HTML object>"
      ]
     },
     "metadata": {},
     "output_type": "display_data"
    },
    {
     "name": "stdout",
     "output_type": "stream",
     "text": [
      "<IPython.core.display.HTML object>\n",
      "Raw review: quirky comedy \n",
      "GT target: 1\n",
      "word attr tensor([-0.1498,  0.0305, -0.4306, -0.0109,  0.8546, -0.2251,  0.1007],\n",
      "       grad_fn=<DivBackward0>)\n",
      "conti attr [tensor(-0.1498, grad_fn=<UnbindBackward0>), tensor(-0.4110, grad_fn=<AddBackward0>), tensor(0.8546, grad_fn=<UnbindBackward0>), tensor(-0.2251, grad_fn=<UnbindBackward0>), tensor(0.1007, grad_fn=<UnbindBackward0>)]\n",
      "detokenized ['<s>', 'qu', 'ir', 'ky', 'comedy', '', '</s>']\n",
      "len conti_raw 5\n",
      "conti_raw ['<s>', 'quirky', 'comedy', '', '</s>']\n"
     ]
    },
    {
     "data": {
      "text/html": [
       "<table width: 100%><div style=\"border-top: 1px solid; margin-top: 5px;             padding-top: 5px; display: inline-block\"><b>Legend: </b><span style=\"display: inline-block; width: 10px; height: 10px;                 border: 1px solid; background-color:                 hsl(0, 75%, 60%)\"></span> Negative  <span style=\"display: inline-block; width: 10px; height: 10px;                 border: 1px solid; background-color:                 hsl(0, 75%, 100%)\"></span> Neutral  <span style=\"display: inline-block; width: 10px; height: 10px;                 border: 1px solid; background-color:                 hsl(120, 75%, 50%)\"></span> Positive  </div><tr><th>True Label</th><th>Predicted Label</th><th>Attribution Label</th><th>Attribution Score</th><th>Word Importance</th><tr><td><text style=\"padding-right:2em\"><b>Pos</b></text></td><td><text style=\"padding-right:2em\"><b>Pos (0.98)</b></text></td><td><text style=\"padding-right:2em\"><b>Neg</b></text></td><td><text style=\"padding-right:2em\"><b>0.17</b></text></td><td><mark style=\"background-color: hsl(0, 75%, 95%); opacity:1.0;                     line-height:1.75\"><font color=\"black\"> #s                    </font></mark><mark style=\"background-color: hsl(0, 75%, 84%); opacity:1.0;                     line-height:1.75\"><font color=\"black\"> quirky                    </font></mark><mark style=\"background-color: hsl(120, 75%, 58%); opacity:1.0;                     line-height:1.75\"><font color=\"black\"> comedy                    </font></mark><mark style=\"background-color: hsl(0, 75%, 91%); opacity:1.0;                     line-height:1.75\"><font color=\"black\">                     </font></mark><mark style=\"background-color: hsl(120, 75%, 95%); opacity:1.0;                     line-height:1.75\"><font color=\"black\"> #/s                    </font></mark></td><tr></table>"
      ],
      "text/plain": [
       "<IPython.core.display.HTML object>"
      ]
     },
     "metadata": {},
     "output_type": "display_data"
    },
    {
     "name": "stdout",
     "output_type": "stream",
     "text": [
      "<IPython.core.display.HTML object>\n",
      "Raw review: unrewarding \n",
      "GT target: 0\n",
      "word attr tensor([-0.1385,  0.0288, -0.2694,  0.8694, -0.2586,  0.0291,  0.2895],\n",
      "       grad_fn=<DivBackward0>)\n",
      "conti attr [tensor(-0.1385, grad_fn=<UnbindBackward0>), tensor(0.3702, grad_fn=<AddBackward0>), tensor(0.0291, grad_fn=<UnbindBackward0>), tensor(0.2895, grad_fn=<UnbindBackward0>)]\n",
      "detokenized ['<s>', 'un', 're', 'ward', 'ing', '', '</s>']\n",
      "len conti_raw 4\n",
      "conti_raw ['<s>', 'unrewarding', '', '</s>']\n"
     ]
    },
    {
     "data": {
      "text/html": [
       "<table width: 100%><div style=\"border-top: 1px solid; margin-top: 5px;             padding-top: 5px; display: inline-block\"><b>Legend: </b><span style=\"display: inline-block; width: 10px; height: 10px;                 border: 1px solid; background-color:                 hsl(0, 75%, 60%)\"></span> Negative  <span style=\"display: inline-block; width: 10px; height: 10px;                 border: 1px solid; background-color:                 hsl(0, 75%, 100%)\"></span> Neutral  <span style=\"display: inline-block; width: 10px; height: 10px;                 border: 1px solid; background-color:                 hsl(120, 75%, 50%)\"></span> Positive  </div><tr><th>True Label</th><th>Predicted Label</th><th>Attribution Label</th><th>Attribution Score</th><th>Word Importance</th><tr><td><text style=\"padding-right:2em\"><b>Neg</b></text></td><td><text style=\"padding-right:2em\"><b>Neg (0.00)</b></text></td><td><text style=\"padding-right:2em\"><b>Pos</b></text></td><td><text style=\"padding-right:2em\"><b>0.55</b></text></td><td><mark style=\"background-color: hsl(0, 75%, 95%); opacity:1.0;                     line-height:1.75\"><font color=\"black\"> #s                    </font></mark><mark style=\"background-color: hsl(120, 75%, 82%); opacity:1.0;                     line-height:1.75\"><font color=\"black\"> unrewarding                    </font></mark><mark style=\"background-color: hsl(120, 75%, 99%); opacity:1.0;                     line-height:1.75\"><font color=\"black\">                     </font></mark><mark style=\"background-color: hsl(120, 75%, 86%); opacity:1.0;                     line-height:1.75\"><font color=\"black\"> #/s                    </font></mark></td><tr></table>"
      ],
      "text/plain": [
       "<IPython.core.display.HTML object>"
      ]
     },
     "metadata": {},
     "output_type": "display_data"
    },
    {
     "name": "stdout",
     "output_type": "stream",
     "text": [
      "<IPython.core.display.HTML object>\n",
      "Raw review: old-hat \n",
      "GT target: 0\n",
      "word attr tensor([-0.5848, -0.3870,  0.3062,  0.2848,  0.5519, -0.1697],\n",
      "       grad_fn=<DivBackward0>)\n",
      "conti attr [tensor(-0.5848, grad_fn=<UnbindBackward0>), tensor(0.2041, grad_fn=<AddBackward0>), tensor(0.5519, grad_fn=<UnbindBackward0>), tensor(-0.1697, grad_fn=<UnbindBackward0>)]\n",
      "detokenized ['<s>', 'old', '-', 'hat', '', '</s>']\n",
      "len conti_raw 4\n",
      "conti_raw ['<s>', 'old-hat', '', '</s>']\n"
     ]
    },
    {
     "data": {
      "text/html": [
       "<table width: 100%><div style=\"border-top: 1px solid; margin-top: 5px;             padding-top: 5px; display: inline-block\"><b>Legend: </b><span style=\"display: inline-block; width: 10px; height: 10px;                 border: 1px solid; background-color:                 hsl(0, 75%, 60%)\"></span> Negative  <span style=\"display: inline-block; width: 10px; height: 10px;                 border: 1px solid; background-color:                 hsl(0, 75%, 100%)\"></span> Neutral  <span style=\"display: inline-block; width: 10px; height: 10px;                 border: 1px solid; background-color:                 hsl(120, 75%, 50%)\"></span> Positive  </div><tr><th>True Label</th><th>Predicted Label</th><th>Attribution Label</th><th>Attribution Score</th><th>Word Importance</th><tr><td><text style=\"padding-right:2em\"><b>Neg</b></text></td><td><text style=\"padding-right:2em\"><b>Neg (0.00)</b></text></td><td><text style=\"padding-right:2em\"><b>Neg</b></text></td><td><text style=\"padding-right:2em\"><b>0.00</b></text></td><td><mark style=\"background-color: hsl(0, 75%, 77%); opacity:1.0;                     line-height:1.75\"><font color=\"black\"> #s                    </font></mark><mark style=\"background-color: hsl(120, 75%, 90%); opacity:1.0;                     line-height:1.75\"><font color=\"black\"> old-hat                    </font></mark><mark style=\"background-color: hsl(120, 75%, 73%); opacity:1.0;                     line-height:1.75\"><font color=\"black\">                     </font></mark><mark style=\"background-color: hsl(0, 75%, 94%); opacity:1.0;                     line-height:1.75\"><font color=\"black\"> #/s                    </font></mark></td><tr></table>"
      ],
      "text/plain": [
       "<IPython.core.display.HTML object>"
      ]
     },
     "metadata": {},
     "output_type": "display_data"
    },
    {
     "name": "stdout",
     "output_type": "stream",
     "text": [
      "<IPython.core.display.HTML object>\n"
     ]
    }
   ],
   "source": [
    "for i, (datum_raw, target) in enumerate(zip(sst2_data_raw, targets), start=1):\n",
    "    print(f'Raw review: {datum_raw}')\n",
    "    print(f'GT target: {target}')\n",
    "    visual_record=generate_record(datum_raw, target)\n",
    "    print(visualization.visualize_text([visual_record]))\n",
    "   "
   ]
  },
  {
   "cell_type": "code",
   "execution_count": 9,
   "id": "f6344a01",
   "metadata": {},
   "outputs": [
    {
     "data": {
      "text/plain": [
       "{'indices': [27798,\n",
       "  28244,\n",
       "  48083,\n",
       "  8795,\n",
       "  91,\n",
       "  20682,\n",
       "  59890,\n",
       "  41763,\n",
       "  19795,\n",
       "  9957,\n",
       "  28334,\n",
       "  55664,\n",
       "  16438,\n",
       "  18031,\n",
       "  9297,\n",
       "  66913,\n",
       "  9289,\n",
       "  6789,\n",
       "  25294,\n",
       "  33294,\n",
       "  29699,\n",
       "  41960,\n",
       "  6554,\n",
       "  8772,\n",
       "  17921,\n",
       "  8027,\n",
       "  49091,\n",
       "  54186,\n",
       "  15080,\n",
       "  22382,\n",
       "  23856,\n",
       "  9464,\n",
       "  23831,\n",
       "  59434,\n",
       "  17862,\n",
       "  24584,\n",
       "  26216,\n",
       "  63094,\n",
       "  55787,\n",
       "  3993,\n",
       "  25463,\n",
       "  17540,\n",
       "  51128,\n",
       "  46224,\n",
       "  32656,\n",
       "  30105,\n",
       "  28646,\n",
       "  17011,\n",
       "  7812,\n",
       "  48236],\n",
       " 'raw_data': ['its oscar nomination ',\n",
       "  'shenanigans and slapstick ',\n",
       "  'an unsettling sight , ',\n",
       "  'the climactic hourlong cricket match ',\n",
       "  'alternating between facetious comic parody and pulp melodrama , this smart-aleck movie ... tosses around some intriguing questions about the difference between human and android life ',\n",
       "  'to be a part of that elusive adult world ',\n",
       "  'emotional power ',\n",
       "  'reminds you of why animation is such a perfect medium for children , because of the way it allows the mind to enter and accept another world ',\n",
       "  'unparalleled proportions , writer-director parker ',\n",
       "  'this surprisingly decent flick ',\n",
       "  \"about the best thing you could say about narc is that it 's a rock-solid little genre picture . \",\n",
       "  'the very best ',\n",
       "  'been modeled on the worst revenge-of-the-nerds clichés the filmmakers could dredge up ',\n",
       "  'tell you ',\n",
       "  'utterly absorbing ',\n",
       "  'restate ',\n",
       "  'bears about as much resemblance to the experiences of most battered women as spider-man ',\n",
       "  'expressively performed ',\n",
       "  'the acting is amateurish , the cinematography is atrocious ',\n",
       "  'solidly constructed ',\n",
       "  \"are undermined by the movie 's presentation , which is way too stagy \",\n",
       "  'a great film ',\n",
       "  'charm ',\n",
       "  'this new jangle of noise , mayhem and stupidity ',\n",
       "  'sustains it ',\n",
       "  'is so deadly dull that watching the proverbial paint dry would be a welcome improvement . ',\n",
       "  'to accomplish ',\n",
       "  \"does n't work . \",\n",
       "  'given it a one-star rating ',\n",
       "  \"ice cube is n't quite out of ripe screwball ideas , but friday after next spreads them pretty thin \",\n",
       "  'been trying to forget ',\n",
       "  'big stars and ',\n",
       "  'of cheesy dialogue ',\n",
       "  \"the château is never quite able to overcome the cultural moat surrounding its ludicrous and contrived plot . ' \",\n",
       "  'principled ',\n",
       "  'end it all by stuffing himself into an electric pencil sharpener ',\n",
       "  'funniest idea ',\n",
       "  'silly and tedious ',\n",
       "  'two surefire , beloved genres ',\n",
       "  'most charmless ',\n",
       "  'offers us the sense that on some elemental level , lilia deeply wants to break free of her old life . ',\n",
       "  'might be best forgotten ',\n",
       "  \"a substantial arc of change that does n't produce any real transformation \",\n",
       "  'unadorned ',\n",
       "  \"this is the kind of movie that you only need to watch for about thirty seconds before you say to yourself , ` ah , yes , here we have a bad , bad , bad movie . ' \",\n",
       "  'feel sanitised and stagey ',\n",
       "  'replete with stereotypical familial quandaries ',\n",
       "  'quirky comedy ',\n",
       "  'unrewarding ',\n",
       "  'old-hat '],\n",
       " 'targets': [1,\n",
       "  1,\n",
       "  0,\n",
       "  1,\n",
       "  1,\n",
       "  1,\n",
       "  1,\n",
       "  1,\n",
       "  1,\n",
       "  1,\n",
       "  1,\n",
       "  1,\n",
       "  0,\n",
       "  1,\n",
       "  1,\n",
       "  0,\n",
       "  0,\n",
       "  1,\n",
       "  0,\n",
       "  1,\n",
       "  0,\n",
       "  1,\n",
       "  1,\n",
       "  0,\n",
       "  1,\n",
       "  0,\n",
       "  1,\n",
       "  0,\n",
       "  0,\n",
       "  0,\n",
       "  0,\n",
       "  1,\n",
       "  0,\n",
       "  0,\n",
       "  1,\n",
       "  0,\n",
       "  1,\n",
       "  0,\n",
       "  1,\n",
       "  0,\n",
       "  1,\n",
       "  0,\n",
       "  0,\n",
       "  0,\n",
       "  0,\n",
       "  0,\n",
       "  0,\n",
       "  1,\n",
       "  0,\n",
       "  0],\n",
       " 'model_out_list': [0.995320737361908,\n",
       "  0.9981416463851929,\n",
       "  0.005029475316405296,\n",
       "  0.9984524250030518,\n",
       "  0.9986995458602905,\n",
       "  0.9969199895858765,\n",
       "  0.9981027245521545,\n",
       "  0.9988178610801697,\n",
       "  0.9962330460548401,\n",
       "  0.9986741542816162,\n",
       "  0.998805046081543,\n",
       "  0.9979293346405029,\n",
       "  0.0005059812683612108,\n",
       "  0.9343322515487671,\n",
       "  0.9985029697418213,\n",
       "  0.04905090853571892,\n",
       "  0.0005413290928117931,\n",
       "  0.9973813891410828,\n",
       "  0.0005215632263571024,\n",
       "  0.9988528490066528,\n",
       "  0.0005033428315073252,\n",
       "  0.9987362027168274,\n",
       "  0.9976087808609009,\n",
       "  0.001143843517638743,\n",
       "  0.9985160231590271,\n",
       "  0.0005450641037896276,\n",
       "  0.9904943704605103,\n",
       "  0.0005098296096548438,\n",
       "  0.0005034934147261083,\n",
       "  0.000628155074082315,\n",
       "  0.005729988217353821,\n",
       "  0.9980424642562866,\n",
       "  0.0006895964033901691,\n",
       "  0.0005053564091213048,\n",
       "  0.998275876045227,\n",
       "  0.0005752602592110634,\n",
       "  0.989409327507019,\n",
       "  0.0005222382606007159,\n",
       "  0.9986666440963745,\n",
       "  0.0005778066697530448,\n",
       "  0.9984531402587891,\n",
       "  0.004469992592930794,\n",
       "  0.0005454060155898333,\n",
       "  0.9974514842033386,\n",
       "  0.0004941548686474562,\n",
       "  0.0035783315543085337,\n",
       "  0.0008468214073218405,\n",
       "  0.9829257726669312,\n",
       "  0.0005415334017015994,\n",
       "  0.0019286152673885226],\n",
       " 'raw_attr_list': [tensor([[[-5.5978e-07,  3.1374e-07, -5.7480e-07,  ..., -4.2929e-06,\n",
       "             5.9961e-06, -9.6843e-07],\n",
       "           [ 2.2470e-06, -7.0565e-06,  2.6918e-06,  ..., -3.2135e-06,\n",
       "            -1.1759e-06, -5.1338e-07],\n",
       "           [-6.9854e-06, -8.3806e-07, -1.6308e-06,  ...,  9.6738e-07,\n",
       "             6.9034e-07,  6.5257e-07],\n",
       "           ...,\n",
       "           [ 3.5562e-06, -1.2950e-05,  5.5267e-09,  ...,  4.2997e-05,\n",
       "            -9.5444e-07,  7.9251e-06],\n",
       "           [ 2.1488e-06,  1.4071e-05,  1.1789e-05,  ..., -8.5125e-06,\n",
       "             1.7542e-05,  1.9806e-05],\n",
       "           [ 1.7481e-06,  1.7908e-06, -7.0342e-06,  ...,  2.4065e-06,\n",
       "            -2.2649e-06,  1.5745e-06]]], grad_fn=<MulBackward0>),\n",
       "  tensor([[[ 3.5057e-07, -2.7153e-07,  7.1880e-07,  ..., -2.7316e-07,\n",
       "             5.3313e-07, -8.2357e-07],\n",
       "           [-1.8557e-06, -4.0961e-07,  1.1305e-06,  ..., -8.3276e-07,\n",
       "             3.3853e-06,  1.1897e-09],\n",
       "           [ 5.4543e-06, -6.5074e-06, -5.6585e-07,  ...,  1.4071e-07,\n",
       "            -3.3668e-06, -7.4143e-07],\n",
       "           ...,\n",
       "           [-9.1364e-06, -1.0127e-06, -9.3040e-06,  ...,  4.3644e-06,\n",
       "             8.4103e-06, -9.6499e-07],\n",
       "           [ 1.0268e-06,  2.7394e-07,  2.6479e-06,  ..., -1.6378e-06,\n",
       "             4.3946e-06,  5.0646e-06],\n",
       "           [-3.3931e-08, -6.1270e-07, -1.0701e-07,  ...,  8.5494e-08,\n",
       "            -8.8381e-07, -7.2980e-08]]], grad_fn=<MulBackward0>),\n",
       "  tensor([[[-7.8088e-06,  1.0017e-06, -1.2637e-06,  ...,  6.2967e-06,\n",
       "             1.9242e-06,  5.5521e-06],\n",
       "           [ 6.5584e-06,  4.4681e-05, -2.4979e-06,  ..., -3.8442e-07,\n",
       "             3.2306e-06, -1.0600e-06],\n",
       "           [ 1.0232e-04, -3.1346e-06,  4.2006e-05,  ...,  2.2059e-04,\n",
       "             2.9790e-04, -2.8488e-07],\n",
       "           ...,\n",
       "           [-3.1818e-09, -1.1083e-07, -9.0279e-06,  ..., -7.3781e-06,\n",
       "            -1.4161e-05, -2.1032e-05],\n",
       "           [ 2.8141e-06, -5.0366e-05, -1.4872e-05,  ...,  2.8871e-06,\n",
       "            -2.1879e-07, -9.3835e-05],\n",
       "           [ 5.1083e-06,  2.8761e-06, -1.0873e-05,  ..., -1.4356e-05,\n",
       "            -7.7393e-06, -2.8021e-06]]], grad_fn=<MulBackward0>),\n",
       "  tensor([[[ 3.8966e-06,  3.7193e-07, -1.3882e-07,  ...,  6.6223e-07,\n",
       "             6.8862e-07, -2.2964e-07],\n",
       "           [-1.0204e-06,  4.2880e-07, -4.5720e-06,  ..., -1.7982e-07,\n",
       "             5.6262e-07,  2.0740e-07],\n",
       "           [-7.1944e-06,  2.6326e-06, -8.7892e-06,  ..., -3.0351e-06,\n",
       "             6.1911e-09, -1.0222e-06],\n",
       "           ...,\n",
       "           [ 6.7420e-07,  1.2430e-06,  1.5953e-07,  ...,  2.1690e-06,\n",
       "             7.5459e-07,  8.1562e-07],\n",
       "           [-5.6672e-07, -2.0547e-06,  9.6017e-07,  ..., -3.7596e-06,\n",
       "             1.1723e-08, -1.4255e-06],\n",
       "           [ 2.2126e-09,  8.0116e-08,  4.5031e-07,  ...,  7.2458e-08,\n",
       "             2.5551e-07,  6.6389e-08]]], grad_fn=<MulBackward0>),\n",
       "  tensor([[[-1.0531e-06, -2.0188e-08, -5.6188e-08,  ...,  1.3786e-07,\n",
       "            -2.8575e-07, -1.0555e-07],\n",
       "           [ 2.7004e-07, -1.6239e-06, -9.8032e-07,  ...,  2.9483e-06,\n",
       "            -3.1764e-06, -1.5240e-06],\n",
       "           [ 7.8496e-08,  4.8842e-07,  5.5079e-09,  ...,  2.4586e-06,\n",
       "            -1.4508e-07, -1.2975e-08],\n",
       "           ...,\n",
       "           [ 1.6986e-07, -6.6680e-07, -9.2782e-09,  ...,  4.2951e-08,\n",
       "             6.7034e-08,  7.9798e-07],\n",
       "           [ 2.8924e-07, -6.5839e-07, -6.3783e-09,  ...,  4.7709e-07,\n",
       "             6.0936e-07,  7.0895e-07],\n",
       "           [-2.3242e-08, -2.5264e-09,  5.5916e-07,  ...,  4.2455e-07,\n",
       "             1.5024e-07, -2.7270e-07]]], grad_fn=<MulBackward0>),\n",
       "  tensor([[[-1.1930e-05,  1.8771e-06, -9.3651e-07,  ..., -3.1408e-06,\n",
       "             2.3678e-06,  2.4176e-06],\n",
       "           [-1.6160e-06,  3.0669e-07,  9.3695e-07,  ..., -1.6488e-06,\n",
       "            -3.9078e-06, -6.0974e-07],\n",
       "           [ 3.9236e-06,  1.1716e-05,  3.5407e-06,  ..., -5.0088e-07,\n",
       "             1.0998e-06, -1.1200e-05],\n",
       "           ...,\n",
       "           [ 1.3193e-05, -1.1913e-06, -7.0778e-06,  ...,  1.3867e-07,\n",
       "            -5.8293e-07, -8.2394e-08],\n",
       "           [ 4.6657e-06,  2.0715e-05,  1.8765e-05,  ..., -3.6687e-06,\n",
       "            -5.4863e-06, -2.8602e-05],\n",
       "           [-9.5190e-07,  1.6979e-06, -4.4127e-06,  ..., -3.9810e-06,\n",
       "             6.9868e-09,  6.5954e-07]]], grad_fn=<MulBackward0>),\n",
       "  tensor([[[-1.6507e-07, -7.7005e-07, -8.7035e-07,  ..., -1.2320e-06,\n",
       "             1.8291e-06, -8.6904e-07],\n",
       "           [-1.2232e-06, -8.8666e-07, -3.2497e-06,  ..., -1.1135e-06,\n",
       "            -2.1123e-06, -2.3874e-06],\n",
       "           [-4.5814e-07,  6.9651e-06,  1.7901e-06,  ...,  7.0713e-07,\n",
       "             3.6925e-06, -3.3756e-06],\n",
       "           [ 7.4466e-06,  1.6705e-06, -3.6709e-09,  ...,  1.1236e-07,\n",
       "            -8.7274e-09, -3.6748e-06],\n",
       "           [ 9.8685e-08,  1.5228e-06,  9.7032e-07,  ...,  4.9800e-07,\n",
       "            -1.2100e-06, -3.4015e-06],\n",
       "           [ 2.9976e-07, -1.2848e-06,  1.3073e-06,  ...,  3.2661e-07,\n",
       "             6.6349e-07, -9.6481e-08]]], grad_fn=<MulBackward0>),\n",
       "  tensor([[[ 2.4614e-08,  1.9170e-08,  1.6251e-08,  ..., -4.8914e-08,\n",
       "             4.3682e-09,  4.6753e-08],\n",
       "           [-2.0813e-08, -9.5368e-09,  6.3575e-07,  ...,  2.7003e-07,\n",
       "             2.5373e-09, -7.8246e-07],\n",
       "           [ 2.8007e-07,  5.6129e-07, -3.1223e-09,  ..., -7.0683e-07,\n",
       "            -9.8576e-08, -1.3721e-07],\n",
       "           ...,\n",
       "           [-1.0534e-07, -4.7619e-12,  7.8222e-08,  ..., -3.8711e-08,\n",
       "             1.9670e-08, -2.4099e-08],\n",
       "           [-4.4745e-08, -2.4416e-08,  6.5126e-07,  ..., -3.9246e-07,\n",
       "            -2.4584e-07, -3.2293e-07],\n",
       "           [-4.3067e-09,  7.1355e-10, -1.6288e-07,  ..., -2.9113e-09,\n",
       "             5.8586e-08,  2.8093e-10]]], grad_fn=<MulBackward0>),\n",
       "  tensor([[[-2.0792e-05, -2.1742e-06, -6.6497e-06,  ...,  1.1355e-06,\n",
       "             7.8641e-06, -1.2007e-05],\n",
       "           [-4.0359e-07,  6.5204e-06, -9.3151e-07,  ..., -8.8064e-05,\n",
       "             8.2738e-06, -2.7123e-05],\n",
       "           [ 7.7170e-06, -5.1460e-06, -6.7137e-06,  ...,  1.9529e-04,\n",
       "             9.3742e-05,  7.0086e-05],\n",
       "           ...,\n",
       "           [-2.6629e-05, -1.6132e-05,  8.5888e-06,  ..., -6.1637e-06,\n",
       "            -5.6214e-08,  2.9081e-05],\n",
       "           [ 1.1738e-05,  4.5365e-05, -3.1239e-05,  ..., -2.0318e-05,\n",
       "             3.0727e-05, -1.6151e-05],\n",
       "           [-2.1250e-06, -1.1860e-05,  3.4289e-05,  ..., -3.0927e-06,\n",
       "            -7.0773e-06,  2.9498e-06]]], grad_fn=<MulBackward0>),\n",
       "  tensor([[[-4.8633e-07,  7.9150e-08,  7.1860e-08,  ..., -5.3537e-07,\n",
       "             4.1373e-08,  1.4300e-07],\n",
       "           [ 1.3747e-07, -5.6526e-07, -8.5799e-08,  ..., -2.3517e-07,\n",
       "             2.3162e-07,  4.9337e-07],\n",
       "           [-1.8113e-06, -7.2775e-07, -6.5527e-07,  ...,  5.4747e-07,\n",
       "            -3.0837e-06, -7.2003e-07],\n",
       "           ...,\n",
       "           [-9.6141e-09,  1.7946e-07,  6.6270e-07,  ...,  2.5460e-06,\n",
       "            -2.2810e-06, -7.8835e-07],\n",
       "           [ 2.8157e-08, -1.5760e-06,  5.8700e-07,  ..., -3.1003e-07,\n",
       "            -4.9913e-07,  7.2271e-07],\n",
       "           [-3.7108e-08, -9.5651e-08,  2.5859e-07,  ...,  6.1136e-08,\n",
       "             8.5782e-07,  4.4639e-07]]], grad_fn=<MulBackward0>),\n",
       "  tensor([[[ 1.6340e-07, -3.6479e-08, -3.6844e-08,  ..., -7.9184e-09,\n",
       "             3.7841e-08,  1.4784e-08],\n",
       "           [-1.1775e-06, -1.6850e-06,  3.4514e-07,  ...,  4.9250e-08,\n",
       "            -5.3742e-08,  5.2692e-07],\n",
       "           [-1.2041e-07, -2.1305e-07,  5.3942e-07,  ...,  1.1432e-07,\n",
       "            -1.1993e-08, -4.5020e-07],\n",
       "           ...,\n",
       "           [ 6.7036e-08, -3.8737e-07,  1.9813e-07,  ..., -2.0975e-09,\n",
       "             1.3557e-08,  9.9234e-08],\n",
       "           [-5.8499e-08, -8.4638e-07, -1.4142e-07,  ...,  6.3963e-08,\n",
       "            -5.7182e-07,  9.9413e-07],\n",
       "           [ 4.8939e-07, -4.7222e-08,  8.0003e-08,  ...,  1.5016e-07,\n",
       "             1.5939e-08,  2.3173e-08]]], grad_fn=<MulBackward0>),\n",
       "  tensor([[[-2.2981e-06, -1.4177e-07, -2.3781e-07,  ..., -2.7946e-07,\n",
       "             1.5320e-06,  1.9535e-08],\n",
       "           [ 1.0424e-06,  2.2813e-06,  6.8347e-07,  ...,  3.4238e-08,\n",
       "             3.2652e-06, -2.2821e-06],\n",
       "           [-1.2166e-06,  1.2409e-07, -4.0691e-06,  ...,  1.6925e-06,\n",
       "            -2.0048e-06, -5.3212e-08],\n",
       "           [ 7.8833e-07,  2.2249e-06, -4.3844e-07,  ..., -5.5058e-06,\n",
       "             1.6208e-05,  2.2270e-07],\n",
       "           [ 1.7804e-07,  1.9549e-07, -2.3802e-06,  ..., -3.1712e-07,\n",
       "             7.7418e-06, -1.5257e-06],\n",
       "           [-3.1555e-07,  5.1273e-07,  6.5508e-07,  ..., -8.8271e-07,\n",
       "             3.4465e-06, -1.5863e-07]]], grad_fn=<MulBackward0>),\n",
       "  tensor([[[-1.8125e-08,  3.0752e-09,  8.5584e-09,  ..., -2.5321e-08,\n",
       "             2.1333e-08,  3.1918e-09],\n",
       "           [ 2.2617e-08, -1.0201e-08, -2.2692e-07,  ..., -3.6000e-08,\n",
       "             3.3260e-08, -2.2059e-08],\n",
       "           [ 5.8339e-09, -3.4353e-09, -1.2591e-07,  ...,  1.1159e-08,\n",
       "             3.9581e-07, -2.6509e-07],\n",
       "           ...,\n",
       "           [ 1.3108e-08, -5.6609e-08, -1.1900e-08,  ...,  1.4851e-09,\n",
       "            -1.8628e-08, -1.0334e-07],\n",
       "           [-6.5354e-09, -3.4629e-08, -1.0885e-08,  ...,  6.4334e-08,\n",
       "            -2.2606e-08, -2.1203e-07],\n",
       "           [ 7.0971e-08, -3.3293e-08,  2.4153e-08,  ..., -3.5142e-08,\n",
       "             1.2297e-08, -8.9446e-09]]], grad_fn=<MulBackward0>),\n",
       "  tensor([[[-4.5403e-04, -1.3396e-04,  2.6247e-05,  ...,  2.2565e-04,\n",
       "             7.3266e-04, -6.0689e-04],\n",
       "           [-7.9795e-04,  1.9234e-04,  3.7002e-05,  ..., -6.3372e-04,\n",
       "            -1.0986e-03,  1.2349e-03],\n",
       "           [-2.5233e-04, -8.4010e-04, -4.4231e-04,  ...,  7.3917e-04,\n",
       "            -1.0679e-03,  2.7165e-03],\n",
       "           [ 4.8314e-04,  3.0519e-03, -3.2824e-03,  ..., -3.9995e-03,\n",
       "             3.9850e-03,  4.4134e-03],\n",
       "           [ 3.9414e-04, -3.8998e-04,  9.9335e-04,  ...,  5.6915e-04,\n",
       "            -7.4621e-04, -3.7255e-05]]], grad_fn=<MulBackward0>),\n",
       "  tensor([[[ 1.1100e-06,  5.9937e-08, -4.0422e-07,  ..., -4.5658e-08,\n",
       "             1.1213e-06,  4.4493e-07],\n",
       "           [ 2.5707e-08,  2.8380e-06,  1.5679e-06,  ...,  2.4113e-06,\n",
       "             3.3733e-07,  2.8017e-06],\n",
       "           [-3.2845e-08, -1.0800e-06, -1.3129e-06,  ...,  3.7787e-07,\n",
       "            -3.8967e-07,  3.0403e-07],\n",
       "           [ 3.8658e-06,  7.2671e-07,  7.4480e-06,  ..., -3.8204e-08,\n",
       "            -3.3637e-06,  4.8641e-07],\n",
       "           [ 3.7106e-08,  3.2584e-06, -1.6643e-06,  ...,  1.7974e-06,\n",
       "             1.4224e-06,  4.4600e-06],\n",
       "           [ 1.6308e-07,  1.9770e-07,  1.3430e-07,  ..., -6.4535e-07,\n",
       "             2.1757e-06, -8.1831e-08]]], grad_fn=<MulBackward0>),\n",
       "  tensor([[[-0.0017, -0.0007, -0.0010,  ..., -0.0016, -0.0034,  0.0024],\n",
       "           [-0.0390, -0.0031, -0.0002,  ...,  0.0012,  0.0007,  0.0024],\n",
       "           [ 0.0042,  0.0005,  0.0061,  ..., -0.0075, -0.0042,  0.0018],\n",
       "           [-0.0011,  0.0007,  0.0063,  ..., -0.0022,  0.0080, -0.0009],\n",
       "           [-0.0003, -0.0020,  0.0024,  ..., -0.0034,  0.0074, -0.0009]]],\n",
       "         grad_fn=<MulBackward0>),\n",
       "  tensor([[[-4.3893e-08,  7.4436e-10,  2.0123e-08,  ..., -5.9776e-08,\n",
       "             5.7856e-08, -3.1294e-09],\n",
       "           [ 1.6929e-08, -4.4388e-08,  8.8829e-08,  ...,  5.2012e-08,\n",
       "             1.4213e-07, -5.1607e-09],\n",
       "           [ 7.4276e-08,  2.8216e-07,  1.8738e-07,  ..., -2.7430e-08,\n",
       "            -1.6201e-07,  2.3087e-07],\n",
       "           ...,\n",
       "           [-1.2475e-07,  3.7256e-08, -5.1512e-08,  ...,  2.1990e-08,\n",
       "             8.4149e-09, -3.2211e-08],\n",
       "           [-6.3250e-09,  4.8272e-08, -5.7254e-08,  ...,  1.6307e-07,\n",
       "            -1.0903e-07,  4.8390e-07],\n",
       "           [-1.1113e-08, -9.3715e-09, -2.2518e-08,  ...,  7.6716e-09,\n",
       "             4.8725e-09,  1.7429e-09]]], grad_fn=<MulBackward0>),\n",
       "  tensor([[[ 1.1793e-05, -1.5449e-07, -7.2338e-06,  ...,  6.4004e-06,\n",
       "             4.2280e-06, -3.7271e-06],\n",
       "           [ 5.0645e-05, -1.7540e-04,  1.7501e-04,  ..., -3.8013e-05,\n",
       "            -1.0327e-04, -1.0941e-05],\n",
       "           [ 1.8878e-05, -7.6460e-06, -2.4237e-05,  ..., -2.6122e-06,\n",
       "             8.2794e-05, -2.8968e-06],\n",
       "           [-8.0480e-05,  5.0251e-05, -6.9468e-05,  ..., -1.8205e-06,\n",
       "             5.7429e-05,  1.9983e-05],\n",
       "           [ 2.8874e-07,  9.9657e-05,  1.1004e-04,  ..., -3.7385e-05,\n",
       "             2.3179e-05, -9.9361e-05],\n",
       "           [-1.6662e-05, -1.8372e-05, -1.7322e-06,  ...,  1.5244e-05,\n",
       "             1.6021e-05, -3.3486e-06]]], grad_fn=<MulBackward0>),\n",
       "  tensor([[[-3.1384e-08,  1.0064e-08,  1.8404e-08,  ..., -2.7531e-09,\n",
       "             1.4058e-08,  1.8210e-08],\n",
       "           [-1.1643e-08, -2.2116e-08, -4.9315e-09,  ..., -1.8217e-08,\n",
       "             2.4542e-08,  2.6968e-08],\n",
       "           [-1.1211e-09, -2.5111e-07,  4.6420e-08,  ..., -6.6197e-09,\n",
       "            -6.3435e-08, -2.7648e-08],\n",
       "           ...,\n",
       "           [ 2.4380e-08, -1.5804e-10,  9.8554e-08,  ...,  2.0266e-09,\n",
       "             3.5037e-08, -7.9126e-09],\n",
       "           [-1.1718e-08,  2.7464e-07, -1.1699e-07,  ...,  2.4146e-08,\n",
       "             3.4641e-09,  1.6123e-07],\n",
       "           [ 9.9089e-09, -1.0979e-08, -1.0524e-08,  ..., -2.0869e-08,\n",
       "             3.7451e-09,  1.5301e-09]]], grad_fn=<MulBackward0>),\n",
       "  tensor([[[-1.0541e-07,  3.2765e-08,  2.2940e-08,  ..., -2.0053e-07,\n",
       "             6.9256e-08, -1.7081e-08],\n",
       "           [-3.9023e-08, -4.6230e-07,  7.8671e-07,  ..., -1.1174e-07,\n",
       "             7.5967e-09,  4.1448e-07],\n",
       "           [-2.0017e-08, -2.7131e-07,  2.0838e-07,  ...,  4.8185e-08,\n",
       "            -1.3787e-08,  1.5966e-07],\n",
       "           [ 7.7522e-08,  8.3530e-07,  1.7535e-07,  ...,  1.3290e-07,\n",
       "             1.7678e-07, -8.6553e-08],\n",
       "           [ 1.5316e-08,  4.5320e-07,  1.7800e-07,  ...,  1.3639e-06,\n",
       "             4.1043e-07, -9.6663e-08],\n",
       "           [ 1.0472e-07, -1.2162e-07,  1.5802e-07,  ..., -3.7919e-08,\n",
       "            -7.8050e-08, -3.3704e-08]]], grad_fn=<MulBackward0>),\n",
       "  tensor([[[-1.0733e-08,  3.4813e-09, -1.0665e-08,  ...,  1.4312e-08,\n",
       "            -1.3074e-08,  1.0908e-08],\n",
       "           [ 1.1922e-09, -4.4985e-09,  1.6517e-10,  ...,  1.1306e-08,\n",
       "             2.1130e-11, -1.7753e-08],\n",
       "           [-1.9198e-08,  2.8626e-08, -4.6730e-10,  ..., -2.3245e-08,\n",
       "             3.1288e-08, -1.1296e-09],\n",
       "           ...,\n",
       "           [ 1.2424e-08, -6.6102e-09, -2.9901e-09,  ..., -8.9847e-10,\n",
       "             2.6602e-08, -9.4201e-09],\n",
       "           [ 2.8062e-09, -3.0657e-08, -4.3428e-08,  ...,  1.7141e-08,\n",
       "             1.1127e-07,  5.1201e-08],\n",
       "           [-7.6078e-09,  7.6346e-09, -7.2966e-09,  ...,  2.8549e-08,\n",
       "            -3.6089e-09,  2.7750e-09]]], grad_fn=<MulBackward0>),\n",
       "  tensor([[[-2.8711e-08, -5.5767e-09, -8.3768e-08,  ..., -1.6772e-07,\n",
       "             4.7539e-08,  1.3660e-07],\n",
       "           [ 5.8483e-08,  1.2184e-07,  6.1396e-08,  ...,  1.4053e-09,\n",
       "            -1.0680e-08,  1.0458e-07],\n",
       "           [-6.2230e-08, -8.9694e-08, -4.6506e-08,  ..., -6.0537e-08,\n",
       "            -5.4426e-08,  3.3589e-07],\n",
       "           [-8.4730e-08,  9.1888e-07,  4.0576e-08,  ..., -2.4358e-07,\n",
       "            -1.7391e-07, -1.4101e-08],\n",
       "           [-6.1775e-09, -1.1013e-06, -3.2959e-07,  ..., -5.6300e-07,\n",
       "             3.3816e-07,  2.5925e-09],\n",
       "           [-2.2305e-07,  1.9677e-07, -2.7431e-08,  ...,  2.5733e-07,\n",
       "             5.0145e-09,  3.9995e-08]]], grad_fn=<MulBackward0>),\n",
       "  tensor([[[ 1.9416e-06,  5.2322e-07, -1.3320e-08,  ...,  1.1857e-06,\n",
       "             3.6412e-06,  1.6814e-07],\n",
       "           [ 9.4837e-07,  2.0599e-05,  5.2517e-06,  ..., -2.3358e-06,\n",
       "             2.3851e-06,  5.9148e-08],\n",
       "           [-2.8361e-06, -2.6951e-06,  5.2813e-06,  ...,  6.9379e-06,\n",
       "            -6.1681e-06, -1.8530e-05],\n",
       "           [ 9.6267e-07,  2.9016e-07, -1.3207e-05,  ...,  2.1017e-05,\n",
       "            -2.8483e-06,  1.5677e-05],\n",
       "           [ 3.0932e-06, -8.6193e-07,  3.0369e-06,  ..., -1.6566e-06,\n",
       "            -2.0629e-06,  4.2895e-07]]], grad_fn=<MulBackward0>),\n",
       "  tensor([[[-4.0166e-06,  5.1057e-07, -1.2592e-06,  ...,  3.0154e-06,\n",
       "            -3.5130e-06,  1.2791e-06],\n",
       "           [-3.1462e-06, -2.6653e-06, -1.9957e-07,  ..., -8.2789e-07,\n",
       "            -1.8820e-06,  1.5767e-06],\n",
       "           [-1.0042e-05,  7.7652e-08, -2.2542e-07,  ...,  4.3983e-07,\n",
       "             4.6047e-06,  3.7592e-07],\n",
       "           ...,\n",
       "           [-2.0384e-06, -2.0983e-05,  1.6704e-06,  ..., -2.3209e-05,\n",
       "             1.5070e-06,  5.7274e-06],\n",
       "           [-7.4872e-07,  1.9526e-05, -8.5309e-06,  ..., -6.2738e-06,\n",
       "            -5.3354e-06,  7.8262e-06],\n",
       "           [ 3.9821e-08, -2.7285e-08, -1.1066e-06,  ...,  1.3765e-06,\n",
       "            -1.5002e-06,  2.2913e-07]]], grad_fn=<MulBackward0>),\n",
       "  tensor([[[ 7.4838e-07,  2.3620e-07, -4.3672e-07,  ...,  2.7146e-07,\n",
       "             7.6960e-07,  2.2906e-07],\n",
       "           [-7.6877e-09,  2.4358e-07,  4.7229e-07,  ...,  7.3646e-07,\n",
       "             2.1424e-06,  2.0962e-07],\n",
       "           [ 1.4347e-07, -8.0187e-07, -1.4750e-06,  ...,  7.8181e-07,\n",
       "             3.4785e-07, -2.4712e-07],\n",
       "           ...,\n",
       "           [ 5.2161e-08, -1.1146e-06, -8.4344e-07,  ..., -2.8636e-07,\n",
       "             1.9822e-06, -1.1347e-06],\n",
       "           [-3.8892e-07, -5.1708e-07,  5.9255e-06,  ...,  3.9334e-07,\n",
       "             1.5047e-06,  2.1633e-06],\n",
       "           [-1.8678e-07,  6.3859e-07, -2.3997e-06,  ...,  4.4494e-07,\n",
       "            -6.7059e-07,  3.7987e-07]]], grad_fn=<MulBackward0>),\n",
       "  tensor([[[-1.3389e-07,  6.4030e-09, -1.3336e-08,  ...,  6.3576e-08,\n",
       "             2.0248e-08,  1.9409e-08],\n",
       "           [ 2.7494e-08,  1.5044e-08, -2.1303e-08,  ..., -1.2350e-08,\n",
       "             1.1491e-08, -7.9944e-08],\n",
       "           [-3.6063e-08, -1.7541e-08,  5.6292e-08,  ...,  1.7701e-08,\n",
       "            -2.4473e-09,  1.2806e-07],\n",
       "           ...,\n",
       "           [-1.0790e-07,  1.5375e-08,  9.0178e-10,  ..., -6.5642e-09,\n",
       "             9.0755e-09,  1.4345e-07],\n",
       "           [-4.7714e-09,  2.6209e-07, -1.5577e-07,  ...,  3.3719e-08,\n",
       "             3.1501e-07, -2.6371e-07],\n",
       "           [-4.4431e-08, -3.9606e-08, -5.9394e-08,  ..., -2.3364e-08,\n",
       "            -2.0498e-09,  8.6749e-09]]], grad_fn=<MulBackward0>),\n",
       "  tensor([[[ 1.2382e-05,  1.3402e-06, -1.1629e-05,  ...,  1.1011e-05,\n",
       "            -2.0410e-06,  1.2617e-05],\n",
       "           [ 1.1508e-05,  1.2831e-05,  1.2901e-05,  ...,  5.6521e-06,\n",
       "            -3.6460e-05,  7.8502e-07],\n",
       "           [-3.8987e-05, -1.3430e-04, -8.6140e-05,  ..., -2.4052e-04,\n",
       "            -5.7258e-05,  4.7886e-05],\n",
       "           [-1.0896e-05,  2.4985e-05,  9.1309e-05,  ..., -4.9509e-05,\n",
       "             1.9814e-05,  3.0695e-05],\n",
       "           [-1.5111e-05, -1.1639e-05,  2.1052e-05,  ...,  2.8128e-05,\n",
       "            -2.1784e-05,  3.8446e-06]]], grad_fn=<MulBackward0>),\n",
       "  tensor([[[ 2.8344e-08, -4.8812e-09,  1.2146e-08,  ..., -8.5909e-09,\n",
       "            -1.7958e-08, -1.4513e-08],\n",
       "           [ 1.9094e-08, -9.2927e-10, -9.7036e-08,  ...,  3.8082e-09,\n",
       "            -7.8833e-10, -7.3155e-08],\n",
       "           [ 3.4025e-09, -1.9429e-08, -2.4524e-08,  ...,  5.2023e-09,\n",
       "             4.0648e-08,  1.0242e-07],\n",
       "           ...,\n",
       "           [ 1.7727e-08,  9.9467e-08, -4.5172e-08,  ..., -4.5794e-09,\n",
       "             7.6676e-10,  2.0046e-08],\n",
       "           [-4.6200e-09, -3.3370e-08, -1.7000e-07,  ...,  3.0172e-08,\n",
       "            -3.3031e-09, -1.2037e-07],\n",
       "           [ 3.4656e-09,  1.4151e-08,  3.9342e-09,  ..., -1.0232e-08,\n",
       "             1.2150e-08,  3.5874e-09]]], grad_fn=<MulBackward0>),\n",
       "  tensor([[[ 2.8568e-09,  2.9517e-09, -3.2286e-09,  ..., -1.3262e-08,\n",
       "            -2.2562e-09,  2.7506e-09],\n",
       "           [ 1.1657e-08,  5.4123e-09,  3.4893e-08,  ...,  3.1908e-09,\n",
       "            -1.4152e-08,  1.7172e-08],\n",
       "           [-2.5162e-10, -2.0034e-08,  2.7399e-10,  ..., -1.8121e-08,\n",
       "             9.8097e-09, -4.5258e-09],\n",
       "           ...,\n",
       "           [ 4.3742e-09,  3.4875e-09,  8.8531e-09,  ..., -8.1784e-09,\n",
       "            -4.1063e-09,  1.0735e-08],\n",
       "           [ 2.7267e-08, -2.9473e-08,  9.2576e-08,  ...,  5.5093e-08,\n",
       "             5.2159e-08,  3.8400e-08],\n",
       "           [-9.6829e-11, -6.2203e-09, -4.0330e-10,  ..., -8.9630e-09,\n",
       "            -1.5634e-10, -1.5961e-10]]], grad_fn=<MulBackward0>),\n",
       "  tensor([[[-1.2416e-06, -1.7857e-07, -1.8605e-07,  ...,  1.2341e-07,\n",
       "            -5.9602e-07,  1.6849e-07],\n",
       "           [-7.0737e-07,  1.0375e-06, -7.4219e-08,  ...,  1.0583e-06,\n",
       "            -1.5273e-06, -1.2425e-07],\n",
       "           [ 1.3179e-06,  7.8433e-07, -1.6970e-08,  ..., -3.6862e-08,\n",
       "             3.8697e-07,  2.0580e-08],\n",
       "           ...,\n",
       "           [ 3.3088e-06, -8.8085e-09,  2.5309e-06,  ...,  2.3098e-08,\n",
       "             2.0685e-07,  2.9802e-06],\n",
       "           [ 3.0441e-07, -1.8239e-06, -4.8771e-07,  ...,  7.6380e-07,\n",
       "            -1.9727e-06, -2.4145e-06],\n",
       "           [ 4.7377e-07, -1.8361e-07,  5.4264e-07,  ...,  1.2029e-07,\n",
       "             2.4743e-07,  1.8817e-07]]], grad_fn=<MulBackward0>),\n",
       "  tensor([[[-1.1756e-05,  8.9655e-07, -1.0341e-06,  ..., -3.3998e-06,\n",
       "             1.2278e-05,  4.6296e-07],\n",
       "           [-1.3345e-05,  9.4140e-07,  4.5486e-06,  ...,  2.0956e-05,\n",
       "            -2.3402e-05, -5.1386e-06],\n",
       "           [-2.8348e-05,  1.5238e-05, -1.0363e-05,  ...,  4.5845e-06,\n",
       "            -6.6589e-05, -3.7105e-06],\n",
       "           ...,\n",
       "           [-3.9390e-05,  1.1775e-05,  1.3573e-05,  ...,  6.5334e-06,\n",
       "            -8.9695e-05, -3.7726e-06],\n",
       "           [-1.3147e-06,  4.5585e-05, -9.7897e-06,  ..., -2.8790e-06,\n",
       "             3.5014e-05,  1.7060e-05],\n",
       "           [ 7.8663e-06,  7.0961e-06, -1.1067e-05,  ...,  3.3530e-06,\n",
       "            -1.2125e-05,  4.1774e-06]]], grad_fn=<MulBackward0>),\n",
       "  tensor([[[ 8.2611e-07, -1.5939e-07,  5.0959e-07,  ...,  2.9536e-07,\n",
       "             9.0859e-07,  5.1591e-08],\n",
       "           [-1.6404e-06, -3.4453e-07, -1.1922e-06,  ...,  1.2530e-06,\n",
       "             5.8192e-06, -1.6651e-05],\n",
       "           [-6.3748e-07, -6.7832e-07, -9.9294e-07,  ...,  4.7315e-06,\n",
       "             2.2104e-06,  4.3025e-06],\n",
       "           [ 2.0771e-07, -1.0741e-07, -3.7046e-07,  ..., -4.0813e-08,\n",
       "            -1.5304e-06,  6.6442e-07],\n",
       "           [-9.5665e-08,  1.2061e-05, -8.0198e-06,  ..., -9.4918e-07,\n",
       "            -4.3635e-06,  5.1393e-07],\n",
       "           [-1.8264e-07, -2.1993e-06,  1.1968e-06,  ...,  2.4707e-06,\n",
       "             7.4418e-07,  1.9359e-07]]], grad_fn=<MulBackward0>),\n",
       "  tensor([[[-1.0571e-07, -1.7671e-08,  9.4962e-08,  ..., -2.2106e-07,\n",
       "            -9.0733e-07,  7.8590e-09],\n",
       "           [-1.1950e-06, -3.7664e-07,  3.8014e-08,  ..., -9.3311e-08,\n",
       "            -9.9463e-07, -1.7153e-06],\n",
       "           [-5.0522e-07,  2.7109e-07, -6.6097e-07,  ...,  4.4786e-08,\n",
       "             3.1560e-06,  2.4572e-06],\n",
       "           [-1.0184e-06, -3.7939e-07,  1.5156e-06,  ...,  2.2669e-06,\n",
       "             6.5073e-07, -1.6853e-08],\n",
       "           [-1.3698e-08,  2.7385e-06,  1.9029e-07,  ..., -1.5092e-06,\n",
       "            -2.1570e-06, -1.2343e-06],\n",
       "           [ 5.2987e-08,  3.5651e-07, -3.7674e-07,  ...,  5.6497e-07,\n",
       "             8.8708e-07,  1.5093e-07]]], grad_fn=<MulBackward0>),\n",
       "  tensor([[[ 3.8885e-08, -1.7099e-09, -9.7515e-10,  ..., -9.1556e-09,\n",
       "            -1.6125e-09, -8.0489e-11],\n",
       "           [-5.0628e-10, -2.8552e-09,  4.3535e-09,  ..., -7.5274e-09,\n",
       "             2.7343e-09, -1.0951e-08],\n",
       "           [-2.5925e-09,  5.8550e-09, -1.7161e-09,  ...,  3.4074e-08,\n",
       "             1.7348e-09,  3.6949e-10],\n",
       "           ...,\n",
       "           [ 2.4918e-08,  2.6045e-09, -1.6459e-08,  ..., -1.9832e-09,\n",
       "            -5.1326e-09,  9.4903e-10],\n",
       "           [ 8.0414e-10, -4.2404e-08, -6.5526e-09,  ..., -2.0895e-09,\n",
       "            -6.0684e-09, -1.3659e-07],\n",
       "           [-5.3353e-09,  2.3250e-08,  1.3320e-08,  ...,  7.0311e-09,\n",
       "            -9.2930e-09, -7.8143e-10]]], grad_fn=<MulBackward0>),\n",
       "  tensor([[[-1.0532e-06,  7.2123e-07, -4.9330e-07,  ...,  4.2740e-07,\n",
       "            -3.5222e-06,  6.3563e-07],\n",
       "           [-7.3319e-06,  6.2751e-07, -5.7457e-06,  ...,  4.6634e-06,\n",
       "             5.4836e-07, -5.0445e-06],\n",
       "           [-1.4922e-05, -3.5292e-07,  1.6055e-06,  ..., -1.4046e-05,\n",
       "            -3.5044e-06, -5.7429e-06],\n",
       "           [ 1.4962e-05, -8.0900e-06,  1.6483e-05,  ..., -1.9898e-05,\n",
       "             2.2989e-06,  2.0753e-05],\n",
       "           [ 2.3827e-07, -4.5540e-05, -6.9164e-06,  ...,  8.2335e-06,\n",
       "             3.8590e-06, -2.1385e-07],\n",
       "           [ 1.0217e-06, -5.7718e-07,  5.3379e-07,  ...,  3.6569e-06,\n",
       "             7.1683e-06,  4.4897e-07]]], grad_fn=<MulBackward0>),\n",
       "  tensor([[[-3.2796e-07,  5.7096e-08, -5.0249e-08,  ...,  1.0050e-07,\n",
       "             1.2661e-07,  1.3229e-07],\n",
       "           [-3.8269e-07,  4.8859e-08,  1.5478e-07,  ...,  1.6730e-08,\n",
       "             9.3378e-07,  2.0086e-06],\n",
       "           [-1.2000e-08,  8.2911e-08,  3.8437e-09,  ..., -3.2253e-07,\n",
       "            -9.3089e-08, -3.2213e-07],\n",
       "           ...,\n",
       "           [ 2.3453e-07,  2.4929e-07, -7.2604e-08,  ..., -6.2620e-07,\n",
       "            -1.6359e-07,  4.0058e-07],\n",
       "           [ 2.3625e-08,  5.1939e-07,  2.5447e-07,  ..., -1.8905e-07,\n",
       "             1.3147e-07,  1.3363e-06],\n",
       "           [ 8.5047e-08,  7.2297e-08, -4.4402e-07,  ..., -1.8084e-07,\n",
       "            -2.8671e-07,  9.2899e-09]]], grad_fn=<MulBackward0>),\n",
       "  tensor([[[-2.8850e-05, -8.3609e-07, -3.1836e-06,  ...,  1.6445e-05,\n",
       "             2.6568e-05, -1.4840e-05],\n",
       "           [-2.3284e-05, -3.1438e-05, -4.4271e-05,  ...,  1.1460e-04,\n",
       "            -6.1432e-07,  1.3113e-04],\n",
       "           [-1.3171e-06,  3.3731e-05, -6.1061e-06,  ...,  1.3934e-05,\n",
       "             4.4588e-05,  2.2398e-06],\n",
       "           ...,\n",
       "           [-7.4786e-05,  2.8509e-05, -1.9908e-06,  ...,  4.5160e-05,\n",
       "             7.1781e-06, -1.3122e-06],\n",
       "           [ 3.0342e-05, -2.8815e-04, -1.0879e-05,  ..., -1.2746e-04,\n",
       "             6.5031e-06, -4.5404e-06],\n",
       "           [ 1.4631e-06, -5.0313e-06,  1.4548e-05,  ...,  1.8339e-05,\n",
       "             3.1560e-05,  1.2188e-05]]], grad_fn=<MulBackward0>),\n",
       "  tensor([[[-3.8606e-08,  2.0052e-09, -1.3272e-08,  ...,  3.0864e-09,\n",
       "            -3.0768e-10, -1.3887e-08],\n",
       "           [-2.1417e-08,  9.7832e-09, -3.7250e-08,  ..., -9.0307e-10,\n",
       "            -5.5535e-08, -2.0045e-09],\n",
       "           [ 2.4935e-09, -4.5851e-08,  7.1257e-08,  ...,  2.4841e-07,\n",
       "             4.2546e-08,  7.1712e-10],\n",
       "           ...,\n",
       "           [-5.0074e-09,  7.4319e-08, -1.6956e-09,  ..., -2.2940e-07,\n",
       "             1.3278e-07, -3.7636e-08],\n",
       "           [ 4.4360e-09,  1.9098e-07,  1.6001e-08,  ...,  8.4925e-08,\n",
       "            -1.0227e-07,  1.1602e-08],\n",
       "           [ 1.1788e-08, -3.6678e-08, -6.1731e-09,  ...,  3.2963e-08,\n",
       "            -9.1197e-10,  1.3884e-08]]], grad_fn=<MulBackward0>),\n",
       "  tensor([[[-9.6522e-07, -8.6448e-09, -8.6057e-09,  ..., -1.2223e-07,\n",
       "            -6.4902e-08,  3.2477e-08],\n",
       "           [-1.2560e-07, -5.2501e-09, -2.1104e-07,  ...,  1.8724e-07,\n",
       "            -3.1351e-07,  3.5827e-08],\n",
       "           [-5.7208e-09,  1.3702e-06,  2.6590e-08,  ..., -3.5434e-07,\n",
       "            -1.6155e-06, -3.3887e-07],\n",
       "           ...,\n",
       "           [ 1.9028e-09, -1.8809e-06, -5.2886e-07,  ...,  4.5266e-07,\n",
       "             1.2369e-06, -8.7816e-08],\n",
       "           [ 2.3586e-07,  3.1739e-06, -1.8688e-07,  ...,  1.5857e-06,\n",
       "             1.4303e-06, -1.1397e-06],\n",
       "           [ 6.4374e-08, -6.0532e-07,  1.2306e-08,  ..., -7.9905e-08,\n",
       "            -8.6575e-09, -2.9166e-09]]], grad_fn=<MulBackward0>),\n",
       "  tensor([[[-2.7565e-08,  1.7920e-10,  3.9700e-09,  ...,  1.2655e-07,\n",
       "            -3.8365e-07, -1.4815e-07],\n",
       "           [ 1.1319e-08, -1.4978e-07, -2.2958e-07,  ...,  1.3675e-08,\n",
       "             7.8255e-08,  1.4622e-06],\n",
       "           [-1.0270e-06, -1.0716e-06,  5.7472e-07,  ...,  5.0291e-06,\n",
       "            -1.2695e-07,  9.3647e-07],\n",
       "           [-5.0458e-07, -2.5044e-07, -1.8870e-07,  ..., -3.9278e-07,\n",
       "            -2.4873e-07, -8.1648e-08],\n",
       "           [-7.8789e-09,  1.8568e-06, -2.8569e-07,  ...,  5.6178e-07,\n",
       "             2.9485e-07, -3.4310e-07],\n",
       "           [ 1.8497e-07,  4.0335e-07, -8.9648e-08,  ..., -2.6977e-07,\n",
       "            -1.5106e-07,  2.7406e-08]]], grad_fn=<MulBackward0>),\n",
       "  tensor([[[-3.9979e-07,  1.7800e-07, -1.0387e-08,  ..., -5.3696e-07,\n",
       "            -3.5348e-07,  5.2081e-07],\n",
       "           [ 1.5575e-06,  1.7302e-06, -4.0772e-09,  ...,  5.5601e-07,\n",
       "             2.0238e-06,  2.3446e-06],\n",
       "           [-5.4029e-07,  1.3692e-06,  1.3137e-06,  ...,  1.0063e-07,\n",
       "             1.9014e-06,  1.4774e-07],\n",
       "           ...,\n",
       "           [-8.2953e-07, -2.7912e-06,  5.2908e-08,  ...,  8.9608e-09,\n",
       "             1.1143e-08, -1.0323e-07],\n",
       "           [-3.8054e-07, -1.5427e-06,  8.2205e-08,  ...,  1.9654e-07,\n",
       "            -2.1024e-06, -1.1279e-06],\n",
       "           [ 1.4115e-07, -6.8062e-07,  4.4164e-07,  ..., -5.7840e-07,\n",
       "             8.0161e-07,  2.1524e-07]]], grad_fn=<MulBackward0>),\n",
       "  tensor([[[ 8.3690e-06,  2.6936e-06,  2.7331e-06,  ...,  4.0683e-06,\n",
       "             5.6336e-06,  6.3256e-06],\n",
       "           [-1.1552e-05,  2.0841e-06, -2.8435e-07,  ...,  1.0764e-05,\n",
       "            -3.2800e-05,  5.4684e-07],\n",
       "           [-1.1941e-06, -7.0374e-07, -4.9677e-06,  ...,  8.0753e-06,\n",
       "             1.4054e-06, -5.4947e-06],\n",
       "           ...,\n",
       "           [ 5.4869e-05,  1.3700e-05,  5.1084e-05,  ..., -2.5112e-05,\n",
       "            -7.9149e-05, -7.3732e-07],\n",
       "           [ 6.3990e-06,  1.3742e-04,  8.8354e-06,  ...,  1.3480e-05,\n",
       "             2.1217e-05, -1.8605e-05],\n",
       "           [-9.0357e-06,  8.5217e-08,  4.7677e-06,  ..., -3.9933e-06,\n",
       "            -6.1743e-06,  1.9355e-06]]], grad_fn=<MulBackward0>),\n",
       "  tensor([[[-5.2074e-10, -2.4943e-08,  3.6970e-08,  ...,  4.8145e-08,\n",
       "            -1.6945e-07, -2.6617e-09],\n",
       "           [ 1.2995e-08, -1.4637e-08, -1.6835e-07,  ..., -5.3885e-10,\n",
       "            -9.9795e-08, -1.1226e-07],\n",
       "           [-3.3029e-07,  4.2272e-08,  2.3001e-07,  ..., -6.8483e-07,\n",
       "             1.4238e-06, -2.8848e-07],\n",
       "           ...,\n",
       "           [ 2.8318e-08, -1.0719e-08,  1.5568e-07,  ...,  2.5189e-09,\n",
       "             1.0701e-06,  7.1020e-07],\n",
       "           [-3.0514e-08, -8.4645e-07,  1.1801e-07,  ..., -2.5947e-07,\n",
       "             1.4904e-07, -2.5607e-07],\n",
       "           [-1.0952e-07, -3.5738e-08, -1.5604e-07,  ..., -7.2701e-08,\n",
       "             5.1232e-08, -1.6505e-08]]], grad_fn=<MulBackward0>),\n",
       "  tensor([[[-1.2777e-05,  1.1330e-06,  4.4977e-06,  ..., -4.6375e-06,\n",
       "            -6.7218e-07,  6.6729e-06],\n",
       "           [-1.4940e-07,  1.2787e-06, -1.2432e-06,  ...,  1.4551e-05,\n",
       "             5.2219e-06,  1.9262e-05],\n",
       "           [-6.3581e-06, -3.2256e-05, -1.0684e-05,  ...,  2.2824e-05,\n",
       "            -1.6765e-05, -6.8057e-06],\n",
       "           [-4.0920e-05, -8.9387e-05, -3.6058e-05,  ...,  4.9589e-05,\n",
       "             7.3436e-06, -9.8752e-06],\n",
       "           [ 5.7793e-07,  8.8087e-05,  4.2002e-06,  ..., -4.5796e-06,\n",
       "             2.4483e-05,  5.0415e-06],\n",
       "           [-1.1229e-05,  5.1069e-07, -6.0041e-06,  ...,  7.7194e-08,\n",
       "            -1.1259e-05, -4.3564e-07]]], grad_fn=<MulBackward0>),\n",
       "  tensor([[[ 2.7222e-09,  1.8979e-10,  2.1621e-11,  ...,  3.2125e-10,\n",
       "            -2.1632e-09,  7.8359e-10],\n",
       "           [-3.8305e-09,  7.2409e-10, -4.2926e-10,  ...,  1.8304e-09,\n",
       "            -2.0706e-09,  2.3506e-09],\n",
       "           [-3.2850e-10,  1.4513e-09,  1.0505e-10,  ..., -5.3674e-11,\n",
       "            -2.3516e-10, -1.6157e-09],\n",
       "           ...,\n",
       "           [ 7.3480e-11, -4.9286e-09,  1.7631e-09,  ..., -1.2954e-09,\n",
       "            -5.9829e-10,  5.9878e-11],\n",
       "           [ 3.1670e-09, -7.1776e-09, -2.6907e-10,  ...,  1.0005e-08,\n",
       "             1.5674e-09,  6.0731e-09],\n",
       "           [ 2.6557e-11,  1.7625e-11,  3.3201e-09,  ...,  1.0989e-09,\n",
       "            -2.6496e-09, -3.3311e-10]]], grad_fn=<MulBackward0>),\n",
       "  tensor([[[-8.2199e-05,  4.5626e-06, -9.9769e-06,  ...,  1.7412e-05,\n",
       "            -4.8838e-05,  2.4183e-06],\n",
       "           [-7.4254e-06,  8.6320e-05, -5.4774e-06,  ...,  4.5843e-05,\n",
       "            -2.5648e-06,  6.7522e-07],\n",
       "           [ 4.1951e-05,  5.0892e-05, -1.9910e-04,  ..., -3.2196e-04,\n",
       "             2.1901e-04,  2.4597e-04],\n",
       "           ...,\n",
       "           [-1.7763e-05, -1.1301e-05, -1.0342e-05,  ...,  6.7611e-06,\n",
       "             1.4533e-06,  1.6334e-05],\n",
       "           [-1.9909e-05,  3.6583e-05, -2.0505e-04,  ...,  1.5988e-04,\n",
       "            -1.4705e-05, -8.1026e-05],\n",
       "           [-5.0009e-07,  9.9637e-06,  2.0942e-05,  ..., -2.7323e-07,\n",
       "             4.3956e-05,  6.2536e-06]]], grad_fn=<MulBackward0>),\n",
       "  tensor([[[-5.4517e-06, -2.8779e-07, -7.2365e-07,  ...,  4.1517e-06,\n",
       "            -2.0327e-06,  1.9103e-06],\n",
       "           [-5.0717e-06, -1.0837e-06, -4.6911e-06,  ...,  4.3430e-06,\n",
       "             1.4997e-05, -9.0027e-06],\n",
       "           [-8.4681e-06,  5.7022e-06, -1.6625e-07,  ...,  5.4756e-06,\n",
       "             8.3431e-06, -7.8042e-07],\n",
       "           ...,\n",
       "           [-1.9030e-06, -1.4281e-06, -5.3315e-06,  ..., -1.2164e-05,\n",
       "            -3.3107e-07,  5.1392e-06],\n",
       "           [-1.9116e-06,  6.8798e-06,  3.7383e-06,  ..., -1.1583e-06,\n",
       "            -2.0906e-06,  2.0431e-05],\n",
       "           [ 1.2528e-07, -1.3383e-06,  9.5631e-07,  ...,  2.5311e-07,\n",
       "             4.2923e-06, -5.7336e-10]]], grad_fn=<MulBackward0>),\n",
       "  tensor([[[-6.1160e-05,  8.6508e-05,  8.7274e-05,  ...,  2.0261e-04,\n",
       "             1.5699e-04, -7.5524e-05],\n",
       "           [-8.1926e-05, -1.2704e-04, -1.2431e-04,  ..., -9.9974e-04,\n",
       "            -1.6085e-03, -2.9870e-03],\n",
       "           [ 2.5188e-03,  2.4059e-04, -2.4955e-03,  ...,  4.9377e-05,\n",
       "             2.5268e-03, -8.8378e-04],\n",
       "           ...,\n",
       "           [ 1.1490e-04, -2.7097e-04, -7.0699e-04,  ...,  3.6152e-05,\n",
       "             1.0783e-05, -1.8964e-03],\n",
       "           [-1.5418e-04, -1.6899e-03,  5.5238e-04,  ...,  2.8316e-04,\n",
       "            -1.2720e-03,  7.4146e-05],\n",
       "           [-2.4345e-04,  1.1405e-04, -2.4015e-04,  ..., -1.5246e-05,\n",
       "            -8.2982e-05,  2.1587e-04]]], grad_fn=<MulBackward0>),\n",
       "  tensor([[[ 3.3581e-07,  6.1372e-09, -3.0201e-08,  ...,  6.3516e-08,\n",
       "            -4.5907e-08,  3.4802e-08],\n",
       "           [ 1.6043e-09, -4.9686e-08,  1.4659e-07,  ...,  1.1312e-07,\n",
       "            -1.8332e-07, -4.6816e-07],\n",
       "           [ 6.5957e-07,  1.5633e-07, -6.4038e-07,  ..., -3.7740e-08,\n",
       "             4.3937e-07,  6.9703e-07],\n",
       "           ...,\n",
       "           [-9.3818e-07,  2.3785e-08, -4.3852e-08,  ..., -9.0715e-08,\n",
       "            -3.4852e-07, -4.1863e-07],\n",
       "           [ 1.5598e-08, -4.8799e-07,  1.2519e-09,  ...,  6.7108e-07,\n",
       "            -2.5108e-07,  1.0296e-06],\n",
       "           [-9.7338e-09, -2.0979e-07,  5.5439e-08,  ..., -1.6389e-07,\n",
       "             1.9833e-07, -1.3214e-08]]], grad_fn=<MulBackward0>),\n",
       "  tensor([[[-1.6765e-05, -3.8581e-07, -5.1249e-07,  ..., -3.0871e-06,\n",
       "            -8.5914e-06, -1.5455e-06],\n",
       "           [-1.1844e-05, -1.7801e-06, -2.6288e-06,  ..., -4.8440e-06,\n",
       "             1.2204e-05,  2.4972e-06],\n",
       "           [ 4.8660e-06, -1.8176e-06,  3.6712e-06,  ...,  2.3960e-06,\n",
       "             7.4627e-06,  3.5372e-05],\n",
       "           [ 8.9490e-07,  5.6728e-06, -2.3172e-06,  ..., -3.1765e-06,\n",
       "            -7.5550e-06,  3.0373e-06],\n",
       "           [-1.7261e-07,  1.1526e-05, -5.7801e-06,  ..., -2.9034e-05,\n",
       "            -9.9345e-06,  1.0917e-05],\n",
       "           [-1.6983e-06,  7.1022e-06,  7.3769e-07,  ..., -2.5802e-06,\n",
       "             5.0806e-06, -7.1935e-07]]], grad_fn=<MulBackward0>)],\n",
       " 'conti_attr_list': [tensor([-0.9534,  0.0890,  0.1564,  0.0072, -0.0956, -0.0596]),\n",
       "  tensor([-0.4782, -0.5041, -0.2553,  0.7203, -0.0623,  0.1061]),\n",
       "  tensor([ 0.1196,  0.3575,  0.6597, -0.2594, -0.5147, -0.2879, -0.0869]),\n",
       "  tensor([ 0.4519,  0.0480, -0.7779,  0.4667, -0.0713,  0.2888, -0.2027, -0.0750]),\n",
       "  tensor([-0.1524,  0.0195, -0.0260,  0.4223,  0.5118, -0.0908,  0.0692, -0.0914,\n",
       "           0.1945,  0.0620,  0.0164, -0.1567, -0.2415, -0.0641, -0.0917,  0.1148,\n",
       "           0.0886,  0.5548,  0.0932,  0.0265,  0.0090, -0.0696, -0.1398,  0.0611,\n",
       "           0.0520, -0.2103, -0.0069, -0.0219, -0.0013]),\n",
       "  tensor([-0.1718,  0.0200, -0.0965, -0.0111, -0.1642, -0.1098, -0.1472,  0.7503,\n",
       "          -0.3445,  0.1730,  0.3649,  0.2351]),\n",
       "  tensor([ 0.2058, -0.6478,  0.1156,  0.1701, -0.7166]),\n",
       "  tensor([ 0.0533, -0.5838, -0.0146, -0.0630,  0.1005,  0.6094,  0.1114, -0.0589,\n",
       "           0.0526, -0.0337,  0.2350, -0.0297, -0.0482, -0.4222, -0.1055,  0.0273,\n",
       "           0.0346, -0.0315,  0.0709, -0.0507,  0.0069, -0.0931,  0.0080, -0.3180,\n",
       "           0.1027, -0.0354,  0.0719, -0.0930,  0.1527,  0.0727]),\n",
       "  tensor([-0.6531, -0.0338,  0.5974,  0.0507, -0.0449,  0.5197,  0.0628,  0.0673]),\n",
       "  tensor([-0.4944,  0.0849,  0.3109,  0.7348, -0.0797, -0.1658, -0.2792]),\n",
       "  tensor([ 0.2478, -0.3358, -0.0284,  0.0809,  0.0112,  0.0636,  0.1278,  0.0109,\n",
       "          -0.1195, -0.6641, -0.0475, -0.0222,  0.0331,  0.0637,  0.0139,  0.2969,\n",
       "          -0.0402,  0.5215,  0.0962,  0.0483, -0.0476, -0.0540]),\n",
       "  tensor([ 0.4920, -0.2719, -0.1029,  0.5414, -0.6116,  0.0794]),\n",
       "  tensor([ 0.4540,  0.0048,  0.3091,  0.0417,  0.0213, -0.1347, -0.3812, -0.0155,\n",
       "          -0.0113,  0.0929, -0.0786, -0.2581, -0.0908, -0.1822, -0.0340]),\n",
       "  tensor([-0.0480,  0.1916, -0.8431,  0.4950, -0.0708]),\n",
       "  tensor([ 0.2134, -0.8196,  0.6679, -0.3917,  0.1144]),\n",
       "  tensor([-0.1887, -0.2895, -0.4807,  0.0697]),\n",
       "  tensor([ 0.2617, -0.5443, -0.4591, -0.2683,  0.0436, -0.1642, -0.0459, -0.0692,\n",
       "           0.3432, -0.0554, -0.0519,  0.2999,  0.1049,  0.0568, -0.1845, -0.0154,\n",
       "           0.0818]),\n",
       "  tensor([-0.6475,  0.7633, -0.1215,  0.4810, -0.2077]),\n",
       "  tensor([ 0.3957, -0.2184, -0.1258,  0.2974, -0.5132,  0.0889, -0.1521, -0.1567,\n",
       "           0.1416, -0.3761, -0.4235,  0.1843]),\n",
       "  tensor([ 0.7158,  0.2209, -0.3518, -0.5742, -0.0363]),\n",
       "  tensor([ 0.1333,  0.1087, -0.1548, -0.1518,  0.0739,  0.3579, -0.4052,  0.4062,\n",
       "           0.1479,  0.0791, -0.2113,  0.1267,  0.0765,  0.4353, -0.2192,  0.0103]),\n",
       "  tensor([-0.2723, -0.0274,  0.7034, -0.0913, -0.6494, -0.0185]),\n",
       "  tensor([ 0.4752, -0.8456, -0.4640,  0.3625]),\n",
       "  tensor([-0.0612,  0.1525, -0.1846, -0.0210, -0.1394, -0.1293, -0.0492,  0.5132,\n",
       "          -0.0519,  0.7607,  0.0973,  0.0603]),\n",
       "  tensor([ 0.4312, -1.0785, -0.4116, -0.0049,  0.1610]),\n",
       "  tensor([ 0.0492,  0.0437,  0.2182, -0.0338, -0.5386,  0.3028,  0.1468,  0.0586,\n",
       "          -0.0605, -0.2628, -0.3255, -0.0031,  0.1330, -0.0372,  0.2870,  0.3894,\n",
       "           0.2426, -0.2200, -0.0333]),\n",
       "  tensor([-0.0352,  0.4509, -0.2992,  0.4703, -0.6962]),\n",
       "  tensor([ 0.7716, -0.0954,  0.0667, -0.2651,  0.4517, -0.2566,  0.0393]),\n",
       "  tensor([-0.2631,  0.1561, -0.2867, -0.2729,  0.6169, -0.2637,  0.7238,  0.0792]),\n",
       "  tensor([ 1.9527e-01, -4.2341e-01,  3.8037e-02,  3.2633e-02, -2.0049e-01,\n",
       "           1.4672e-01,  7.4192e-02, -5.9333e-02, -3.2392e-01,  9.3008e-02,\n",
       "           1.4268e-01, -2.2860e-01, -3.6273e-04, -7.7905e-01, -1.6349e-02,\n",
       "          -1.1834e-01, -1.2744e-01,  6.0993e-03,  1.4340e-01, -2.6267e-02,\n",
       "          -2.2451e-01,  2.7563e-02]),\n",
       "  tensor([ 0.2315,  0.6212, -0.1840, -0.1215, -0.6607,  0.1107,  0.2512]),\n",
       "  tensor([-0.4906,  0.0686, -0.4338,  0.0228,  0.5341, -0.5298]),\n",
       "  tensor([-0.1123,  0.1924,  0.7183, -0.5048,  0.3325,  0.2627]),\n",
       "  tensor([-0.0572,  0.0267, -0.0804,  0.0231,  0.0045, -0.2000, -0.0624, -0.0436,\n",
       "           0.0093,  0.0148, -0.3385, -0.0212, -0.1946,  0.0984,  0.4153, -0.0285,\n",
       "           0.2064,  0.6201, -0.0499, -0.1073, -0.0407, -0.0745]),\n",
       "  tensor([-0.5888,  0.3148, -0.0533,  0.1120]),\n",
       "  tensor([-0.1159, -0.0440, -0.0293, -0.0842, -0.0188,  0.0631,  0.5320,  0.1412,\n",
       "          -0.0260, -0.2777, -0.6120, -0.6238,  0.0289, -0.0363]),\n",
       "  tensor([ 0.2196,  0.0648,  0.0145, -0.5577, -0.2721]),\n",
       "  tensor([-0.5029, -0.2998, -0.1130,  0.6175,  0.3782, -0.4042]),\n",
       "  tensor([ 0.1625, -0.0813, -0.7823,  0.2258,  0.2474,  0.6449, -0.1629, -0.0128]),\n",
       "  tensor([-0.2203, -0.4187,  0.4593,  0.1313,  0.7854]),\n",
       "  tensor([-0.0773, -0.0081,  0.0372, -0.0166,  0.8429,  0.0793, -0.0318, -0.0074,\n",
       "          -0.1014,  0.0893, -0.0265,  0.0882,  0.0986,  0.1353,  0.0381, -0.1918,\n",
       "          -0.0320,  0.0127, -0.0565, -0.0932,  0.2581, -0.1450, -0.2148,  0.0700]),\n",
       "  tensor([ 0.4649, -0.0694,  0.1912,  0.5770, -0.6359, -0.0438,  0.0569]),\n",
       "  tensor([-0.4826, -0.0477, -0.1141,  0.7632,  0.0055, -0.2234,  0.0113,  0.0816,\n",
       "           0.1333,  0.0823,  0.0520, -0.0709,  0.2864,  0.0330,  0.0562]),\n",
       "  tensor([-0.3723,  0.8237,  0.7549,  0.0209]),\n",
       "  tensor([-0.1239,  0.1118, -0.0007, -0.0784,  0.0771, -0.0405, -0.4587,  0.0584,\n",
       "          -0.0469,  0.0033,  0.1301,  0.0056, -0.1337, -0.0086,  0.0133, -0.4941,\n",
       "           0.1385, -0.0449, -0.0615,  0.1031, -0.0370,  0.0193,  0.0260, -0.0132,\n",
       "           0.0706,  0.0543,  0.1335,  0.0725,  0.0564, -0.0022,  0.0020,  0.0135,\n",
       "          -0.2097,  0.1497, -0.2194,  0.1630, -0.1932, -0.3095,  0.2613, -0.0739,\n",
       "           0.1662,  0.1225]),\n",
       "  tensor([-0.4699,  0.0434,  0.3131,  0.1163,  0.3328,  0.1527, -0.0137]),\n",
       "  tensor([-0.4936,  0.0812, -0.0017, -0.0563, -0.3898,  1.0759,  0.0060,  0.0973]),\n",
       "  tensor([-0.1498, -0.4110,  0.8546, -0.2251,  0.1007]),\n",
       "  tensor([-0.1385,  0.3702,  0.0291,  0.2895]),\n",
       "  tensor([-0.5848,  0.2041,  0.5519, -0.1697])],\n",
       " 'raw_input_list': [['<s>', 'its', 'oscar', 'nomination', '', '</s>'],\n",
       "  ['<s>', 'shenanigans', 'and', 'slapstick', '', '</s>'],\n",
       "  ['<s>', 'an', 'unsettling', 'sight', ',', '', '</s>'],\n",
       "  ['<s>', 'the', 'climactic', 'hourlong', 'cricket', 'match', '', '</s>'],\n",
       "  ['<s>',\n",
       "   'alternating',\n",
       "   'between',\n",
       "   'facetious',\n",
       "   'comic',\n",
       "   'parody',\n",
       "   'and',\n",
       "   'pulp',\n",
       "   'melodrama',\n",
       "   ',',\n",
       "   'this',\n",
       "   'smart-aleck',\n",
       "   'movie',\n",
       "   '...',\n",
       "   'tosses',\n",
       "   'around',\n",
       "   'some',\n",
       "   'intriguing',\n",
       "   'questions',\n",
       "   'about',\n",
       "   'the',\n",
       "   'difference',\n",
       "   'between',\n",
       "   'human',\n",
       "   'and',\n",
       "   'android',\n",
       "   'life',\n",
       "   '',\n",
       "   '</s>'],\n",
       "  ['<s>',\n",
       "   'to',\n",
       "   'be',\n",
       "   'a',\n",
       "   'part',\n",
       "   'of',\n",
       "   'that',\n",
       "   'elusive',\n",
       "   'adult',\n",
       "   'world',\n",
       "   '',\n",
       "   '</s>'],\n",
       "  ['<s>', 'emotional', 'power', '', '</s>'],\n",
       "  ['<s>',\n",
       "   'reminds',\n",
       "   'you',\n",
       "   'of',\n",
       "   'why',\n",
       "   'animation',\n",
       "   'is',\n",
       "   'such',\n",
       "   'a',\n",
       "   'perfect',\n",
       "   'medium',\n",
       "   'for',\n",
       "   'children',\n",
       "   ',',\n",
       "   'because',\n",
       "   'of',\n",
       "   'the',\n",
       "   'way',\n",
       "   'it',\n",
       "   'allows',\n",
       "   'the',\n",
       "   'mind',\n",
       "   'to',\n",
       "   'enter',\n",
       "   'and',\n",
       "   'accept',\n",
       "   'another',\n",
       "   'world',\n",
       "   '',\n",
       "   '</s>'],\n",
       "  ['<s>',\n",
       "   'unparalleled',\n",
       "   'proportions',\n",
       "   ',',\n",
       "   'writer-director',\n",
       "   'parker',\n",
       "   '',\n",
       "   '</s>'],\n",
       "  ['<s>', 'this', 'surprisingly', 'decent', 'flick', '', '</s>'],\n",
       "  ['<s>',\n",
       "   'about',\n",
       "   'the',\n",
       "   'best',\n",
       "   'thing',\n",
       "   'you',\n",
       "   'could',\n",
       "   'say',\n",
       "   'about',\n",
       "   'narc',\n",
       "   'is',\n",
       "   'that',\n",
       "   'it',\n",
       "   \"'s\",\n",
       "   'a',\n",
       "   'rock-solid',\n",
       "   'little',\n",
       "   'genre',\n",
       "   'picture',\n",
       "   '.',\n",
       "   '',\n",
       "   '</s>'],\n",
       "  ['<s>', 'the', 'very', 'best', '', '</s>'],\n",
       "  ['<s>',\n",
       "   'been',\n",
       "   'modeled',\n",
       "   'on',\n",
       "   'the',\n",
       "   'worst',\n",
       "   'revenge-of-the-nerds',\n",
       "   'clichÃ©s',\n",
       "   'the',\n",
       "   'filmmakers',\n",
       "   'could',\n",
       "   'dredge',\n",
       "   'up',\n",
       "   '',\n",
       "   '</s>'],\n",
       "  ['<s>', 'tell', 'you', '', '</s>'],\n",
       "  ['<s>', 'utterly', 'absorbing', '', '</s>'],\n",
       "  ['<s>', 'restate', '', '</s>'],\n",
       "  ['<s>',\n",
       "   'bears',\n",
       "   'about',\n",
       "   'as',\n",
       "   'much',\n",
       "   'resemblance',\n",
       "   'to',\n",
       "   'the',\n",
       "   'experiences',\n",
       "   'of',\n",
       "   'most',\n",
       "   'battered',\n",
       "   'women',\n",
       "   'as',\n",
       "   'spider-man',\n",
       "   '',\n",
       "   '</s>'],\n",
       "  ['<s>', 'expressively', 'performed', '', '</s>'],\n",
       "  ['<s>',\n",
       "   'the',\n",
       "   'acting',\n",
       "   'is',\n",
       "   'amateurish',\n",
       "   ',',\n",
       "   'the',\n",
       "   'cinematography',\n",
       "   'is',\n",
       "   'atrocious',\n",
       "   '',\n",
       "   '</s>'],\n",
       "  ['<s>', 'solidly', 'constructed', '', '</s>'],\n",
       "  ['<s>',\n",
       "   'are',\n",
       "   'undermined',\n",
       "   'by',\n",
       "   'the',\n",
       "   'movie',\n",
       "   \"'s\",\n",
       "   'presentation',\n",
       "   ',',\n",
       "   'which',\n",
       "   'is',\n",
       "   'way',\n",
       "   'too',\n",
       "   'stagy',\n",
       "   '',\n",
       "   '</s>'],\n",
       "  ['<s>', 'a', 'great', 'film', '', '</s>'],\n",
       "  ['<s>', 'charm', '', '</s>'],\n",
       "  ['<s>',\n",
       "   'this',\n",
       "   'new',\n",
       "   'jangle',\n",
       "   'of',\n",
       "   'noise',\n",
       "   ',',\n",
       "   'mayhem',\n",
       "   'and',\n",
       "   'stupidity',\n",
       "   '',\n",
       "   '</s>'],\n",
       "  ['<s>', 'sustains', 'it', '', '</s>'],\n",
       "  ['<s>',\n",
       "   'is',\n",
       "   'so',\n",
       "   'deadly',\n",
       "   'dull',\n",
       "   'that',\n",
       "   'watching',\n",
       "   'the',\n",
       "   'proverbial',\n",
       "   'paint',\n",
       "   'dry',\n",
       "   'would',\n",
       "   'be',\n",
       "   'a',\n",
       "   'welcome',\n",
       "   'improvement',\n",
       "   '.',\n",
       "   '',\n",
       "   '</s>'],\n",
       "  ['<s>', 'to', 'accomplish', '', '</s>'],\n",
       "  ['<s>', 'does', \"n't\", 'work', '.', '', '</s>'],\n",
       "  ['<s>', 'given', 'it', 'a', 'one-star', 'rating', '', '</s>'],\n",
       "  ['<s>',\n",
       "   'ice',\n",
       "   'cube',\n",
       "   'is',\n",
       "   \"n't\",\n",
       "   'quite',\n",
       "   'out',\n",
       "   'of',\n",
       "   'ripe',\n",
       "   'screwball',\n",
       "   'ideas',\n",
       "   ',',\n",
       "   'but',\n",
       "   'friday',\n",
       "   'after',\n",
       "   'next',\n",
       "   'spreads',\n",
       "   'them',\n",
       "   'pretty',\n",
       "   'thin',\n",
       "   '',\n",
       "   '</s>'],\n",
       "  ['<s>', 'been', 'trying', 'to', 'forget', '', '</s>'],\n",
       "  ['<s>', 'big', 'stars', 'and', '', '</s>'],\n",
       "  ['<s>', 'of', 'cheesy', 'dialogue', '', '</s>'],\n",
       "  ['<s>',\n",
       "   'the',\n",
       "   'chÃ¢teau',\n",
       "   'is',\n",
       "   'never',\n",
       "   'quite',\n",
       "   'able',\n",
       "   'to',\n",
       "   'overcome',\n",
       "   'the',\n",
       "   'cultural',\n",
       "   'moat',\n",
       "   'surrounding',\n",
       "   'its',\n",
       "   'ludicrous',\n",
       "   'and',\n",
       "   'contrived',\n",
       "   'plot',\n",
       "   '.',\n",
       "   \"'\",\n",
       "   '',\n",
       "   '</s>'],\n",
       "  ['<s>', 'principled', '', '</s>'],\n",
       "  ['<s>',\n",
       "   'end',\n",
       "   'it',\n",
       "   'all',\n",
       "   'by',\n",
       "   'stuffing',\n",
       "   'himself',\n",
       "   'into',\n",
       "   'an',\n",
       "   'electric',\n",
       "   'pencil',\n",
       "   'sharpener',\n",
       "   '',\n",
       "   '</s>'],\n",
       "  ['<s>', 'funniest', 'idea', '', '</s>'],\n",
       "  ['<s>', 'silly', 'and', 'tedious', '', '</s>'],\n",
       "  ['<s>', 'two', 'surefire', ',', 'beloved', 'genres', '', '</s>'],\n",
       "  ['<s>', 'most', 'charmless', '', '</s>'],\n",
       "  ['<s>',\n",
       "   'offers',\n",
       "   'us',\n",
       "   'the',\n",
       "   'sense',\n",
       "   'that',\n",
       "   'on',\n",
       "   'some',\n",
       "   'elemental',\n",
       "   'level',\n",
       "   ',',\n",
       "   'lilia',\n",
       "   'deeply',\n",
       "   'wants',\n",
       "   'to',\n",
       "   'break',\n",
       "   'free',\n",
       "   'of',\n",
       "   'her',\n",
       "   'old',\n",
       "   'life',\n",
       "   '.',\n",
       "   '',\n",
       "   '</s>'],\n",
       "  ['<s>', 'might', 'be', 'best', 'forgotten', '', '</s>'],\n",
       "  ['<s>',\n",
       "   'a',\n",
       "   'substantial',\n",
       "   'arc',\n",
       "   'of',\n",
       "   'change',\n",
       "   'that',\n",
       "   'does',\n",
       "   \"n't\",\n",
       "   'produce',\n",
       "   'any',\n",
       "   'real',\n",
       "   'transformation',\n",
       "   '',\n",
       "   '</s>'],\n",
       "  ['<s>', 'unadorned', '', '</s>'],\n",
       "  ['<s>',\n",
       "   'this',\n",
       "   'is',\n",
       "   'the',\n",
       "   'kind',\n",
       "   'of',\n",
       "   'movie',\n",
       "   'that',\n",
       "   'you',\n",
       "   'only',\n",
       "   'need',\n",
       "   'to',\n",
       "   'watch',\n",
       "   'for',\n",
       "   'about',\n",
       "   'thirty',\n",
       "   'seconds',\n",
       "   'before',\n",
       "   'you',\n",
       "   'say',\n",
       "   'to',\n",
       "   'yourself',\n",
       "   ',',\n",
       "   '`',\n",
       "   'ah',\n",
       "   ',',\n",
       "   'yes',\n",
       "   ',',\n",
       "   'here',\n",
       "   'we',\n",
       "   'have',\n",
       "   'a',\n",
       "   'bad',\n",
       "   ',',\n",
       "   'bad',\n",
       "   ',',\n",
       "   'bad',\n",
       "   'movie',\n",
       "   '.',\n",
       "   \"'\",\n",
       "   '',\n",
       "   '</s>'],\n",
       "  ['<s>', 'feel', 'sanitised', 'and', 'stagey', '', '</s>'],\n",
       "  ['<s>',\n",
       "   'replete',\n",
       "   'with',\n",
       "   'stereotypical',\n",
       "   'familial',\n",
       "   'quandaries',\n",
       "   '',\n",
       "   '</s>'],\n",
       "  ['<s>', 'quirky', 'comedy', '', '</s>'],\n",
       "  ['<s>', 'unrewarding', '', '</s>'],\n",
       "  ['<s>', 'old-hat', '', '</s>']]}"
      ]
     },
     "execution_count": 9,
     "metadata": {},
     "output_type": "execute_result"
    }
   ],
   "source": [
    "save_info(idxs, sst2_data_raw, targets, model_out_list, raw_attr_list, conti_attr_list, raw_input_list, fname='deeplift_out.pkl')"
   ]
  },
  {
   "cell_type": "code",
   "execution_count": 10,
   "id": "37976860",
   "metadata": {},
   "outputs": [],
   "source": [
    "from transformers import AutoTokenizer, AutoModelForTokenClassification, RobertaTokenizer, RobertaForTokenClassification\n",
    "from transformers import pipeline\n",
    "import torch"
   ]
  },
  {
   "cell_type": "code",
   "execution_count": 11,
   "id": "cf5e0b36",
   "metadata": {},
   "outputs": [
    {
     "name": "stderr",
     "output_type": "stream",
     "text": [
      "Some weights of the model checkpoint at siebert/sentiment-roberta-large-english were not used when initializing RobertaForTokenClassification: ['classifier.dense.weight', 'classifier.out_proj.weight', 'classifier.out_proj.bias', 'classifier.dense.bias']\n",
      "- This IS expected if you are initializing RobertaForTokenClassification from the checkpoint of a model trained on another task or with another architecture (e.g. initializing a BertForSequenceClassification model from a BertForPreTraining model).\n",
      "- This IS NOT expected if you are initializing RobertaForTokenClassification from the checkpoint of a model that you expect to be exactly identical (initializing a BertForSequenceClassification model from a BertForSequenceClassification model).\n",
      "Some weights of RobertaForTokenClassification were not initialized from the model checkpoint at siebert/sentiment-roberta-large-english and are newly initialized: ['classifier.weight', 'classifier.bias']\n",
      "You should probably TRAIN this model on a down-stream task to be able to use it for predictions and inference.\n"
     ]
    }
   ],
   "source": [
    "model_name_or_path = \"siebert/sentiment-roberta-large-english\" \n",
    "tokenizer = RobertaTokenizer.from_pretrained(model_name_or_path)\n",
    "model = RobertaForTokenClassification.from_pretrained(model_name_or_path)  # Pytorch\n",
    "# model = TFAutoModelForTokenClassification.from_pretrained(model_name_or_path)  # Tensorflow\n"
   ]
  },
  {
   "cell_type": "code",
   "execution_count": 12,
   "id": "9096b859",
   "metadata": {},
   "outputs": [],
   "source": [
    "\n",
    "nlp = pipeline(\"ner\", model=model, tokenizer=tokenizer)\n",
    "example = 'hi was AMAZING'\n"
   ]
  },
  {
   "cell_type": "code",
   "execution_count": 13,
   "id": "9d53edee",
   "metadata": {},
   "outputs": [],
   "source": [
    "out = tokenizer(example)\n",
    "input_ids = out['input_ids']"
   ]
  },
  {
   "cell_type": "code",
   "execution_count": 14,
   "id": "f9f92d4b",
   "metadata": {},
   "outputs": [
    {
     "name": "stdout",
     "output_type": "stream",
     "text": [
      "['<s>', 'hi', 'was', 'AM', 'AZ', 'ING', '</s>']\n"
     ]
    }
   ],
   "source": [
    "toked = [w.replace('Ġ', '') for w in tokenizer.convert_ids_to_tokens(input_ids)]\n",
    "print(toked)"
   ]
  },
  {
   "cell_type": "code",
   "execution_count": null,
   "id": "10c15127",
   "metadata": {},
   "outputs": [],
   "source": []
  }
 ],
 "metadata": {
  "kernelspec": {
   "display_name": "Python 3 (ipykernel)",
   "language": "python",
   "name": "python3"
  },
  "language_info": {
   "codemirror_mode": {
    "name": "ipython",
    "version": 3
   },
   "file_extension": ".py",
   "mimetype": "text/x-python",
   "name": "python",
   "nbconvert_exporter": "python",
   "pygments_lexer": "ipython3",
   "version": "3.9.13"
  }
 },
 "nbformat": 4,
 "nbformat_minor": 5
}
