{
 "cells": [
  {
   "cell_type": "code",
   "execution_count": 1,
   "id": "0683d309",
   "metadata": {},
   "outputs": [],
   "source": [
    "from transformers import AutoTokenizer, AutoModelForTokenClassification, RobertaTokenizer, RobertaForTokenClassification\n",
    "from transformers import pipeline\n",
    "import torch"
   ]
  },
  {
   "cell_type": "code",
   "execution_count": 2,
   "id": "2afdc0d7",
   "metadata": {},
   "outputs": [],
   "source": [
    "model_name_or_path = \"HooshvareLab/roberta-fa-zwnj-base-ner\" \n",
    "tokenizer = RobertaTokenizer.from_pretrained(model_name_or_path)\n",
    "model = RobertaForTokenClassification.from_pretrained(model_name_or_path)  # Pytorch\n",
    "# model = TFAutoModelForTokenClassification.from_pretrained(model_name_or_path)  # Tensorflow\n"
   ]
  },
  {
   "cell_type": "code",
   "execution_count": 4,
   "id": "269e2029",
   "metadata": {},
   "outputs": [],
   "source": [
    "\n",
    "nlp = pipeline(\"ner\", model=model, tokenizer=tokenizer)\n",
    "example = 'Welcome home to sweet home Alabama'\n",
    "\n",
    "ner_results = nlp(example)\n",
    "for k in ner_results:\n",
    "    print(k)"
   ]
  },
  {
   "cell_type": "code",
   "execution_count": 5,
   "id": "04829c95",
   "metadata": {},
   "outputs": [],
   "source": [
    "out = tokenizer(\"Welcome home to sweet home Alabama.\")"
   ]
  },
  {
   "cell_type": "code",
   "execution_count": 6,
   "id": "36383518",
   "metadata": {},
   "outputs": [
    {
     "data": {
      "text/plain": [
       "[0,\n",
       " 1959,\n",
       " 2146,\n",
       " 38152,\n",
       " 31545,\n",
       " 4738,\n",
       " 2529,\n",
       " 19536,\n",
       " 2210,\n",
       " 31545,\n",
       " 6350,\n",
       " 3786,\n",
       " 26061,\n",
       " 24,\n",
       " 2]"
      ]
     },
     "execution_count": 6,
     "metadata": {},
     "output_type": "execute_result"
    }
   ],
   "source": [
    "out.input_ids"
   ]
  },
  {
   "cell_type": "code",
   "execution_count": 7,
   "id": "46fb8700",
   "metadata": {},
   "outputs": [],
   "source": [
    "from transformers import pipeline, AutoTokenizer, AutoModelForTokenClassification\n",
    "tokenizer = AutoTokenizer.from_pretrained(\"xlm-roberta-large-finetuned-conll03-english\")\n",
    "model = AutoModelForTokenClassification.from_pretrained(\"xlm-roberta-large-finetuned-conll03-english\")"
   ]
  },
  {
   "cell_type": "code",
   "execution_count": 8,
   "id": "90fa589e",
   "metadata": {},
   "outputs": [
    {
     "name": "stderr",
     "output_type": "stream",
     "text": [
      "/home/user/anaconda3/envs/py38/lib/python3.9/site-packages/transformers/pipelines/token_classification.py:292: UserWarning: Tokenizer does not support real words, using fallback heuristic\n",
      "  warnings.warn(\"Tokenizer does not support real words, using fallback heuristic\", UserWarning)\n"
     ]
    },
    {
     "data": {
      "text/plain": [
       "[{'entity_group': 'LOC',\n",
       "  'score': 0.99999774,\n",
       "  'word': 'Alabama.',\n",
       "  'start': 27,\n",
       "  'end': 35}]"
      ]
     },
     "execution_count": 8,
     "metadata": {},
     "output_type": "execute_result"
    }
   ],
   "source": [
    "ner_model = pipeline(\"ner\", model = model, tokenizer = tokenizer, aggregation_strategy = \"max\")\n",
    "text = \"Welcome home to sweet home Alabama.\"\n",
    "ner_model(text)"
   ]
  },
  {
   "cell_type": "code",
   "execution_count": null,
   "id": "51951966",
   "metadata": {},
   "outputs": [],
   "source": []
  }
 ],
 "metadata": {
  "kernelspec": {
   "display_name": "Python 3 (ipykernel)",
   "language": "python",
   "name": "python3"
  },
  "language_info": {
   "codemirror_mode": {
    "name": "ipython",
    "version": 3
   },
   "file_extension": ".py",
   "mimetype": "text/x-python",
   "name": "python",
   "nbconvert_exporter": "python",
   "pygments_lexer": "ipython3",
   "version": "3.9.7"
  }
 },
 "nbformat": 4,
 "nbformat_minor": 5
}
