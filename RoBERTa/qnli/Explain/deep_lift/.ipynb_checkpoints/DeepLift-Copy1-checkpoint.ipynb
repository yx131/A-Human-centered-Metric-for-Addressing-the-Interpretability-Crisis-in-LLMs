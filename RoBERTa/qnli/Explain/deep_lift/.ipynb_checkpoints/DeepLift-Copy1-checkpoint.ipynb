{
 "cells": [
  {
   "cell_type": "code",
   "execution_count": 1,
   "id": "806fb4a1",
   "metadata": {},
   "outputs": [],
   "source": [
    "import sys, time, pickle, torch\n",
    "sys.path.insert(0, '../../Models')\n",
    "sys.path.insert(0, '../../Utils')\n",
    "sys.path.insert(0, '../../Preprocess')\n",
    "import numpy as np\n",
    "import pandas as pd\n",
    "from preload_models import get_sst2_tok_n_model\n",
    "from _utils import sample_random_glue_sst2, get_continuation_mapping, \\\n",
    "                    get_continuous_attributions, get_continuous_raw_inputs, \\\n",
    "                    collect_info_for_metric, save_info"
   ]
  },
  {
   "cell_type": "code",
   "execution_count": 2,
   "id": "dd38a1a9",
   "metadata": {},
   "outputs": [
    {
     "name": "stderr",
     "output_type": "stream",
     "text": [
      "Reusing dataset glue (/home/user/.cache/huggingface/datasets/glue/sst2/1.0.0/dacbe3125aa31d7f70367a07a8a9e72a5a0bfeb5fc42e75c9db75b96da6053ad)\n"
     ]
    },
    {
     "data": {
      "application/vnd.jupyter.widget-view+json": {
       "model_id": "a760ffcb92f54cdd81099e33830eaa3f",
       "version_major": 2,
       "version_minor": 0
      },
      "text/plain": [
       "  0%|          | 0/3 [00:00<?, ?it/s]"
      ]
     },
     "metadata": {},
     "output_type": "display_data"
    },
    {
     "name": "stderr",
     "output_type": "stream",
     "text": [
      "Loading cached processed dataset at /home/user/.cache/huggingface/datasets/glue/sst2/1.0.0/dacbe3125aa31d7f70367a07a8a9e72a5a0bfeb5fc42e75c9db75b96da6053ad/cache-3b24abff24d1d8c0.arrow\n",
      "Loading cached processed dataset at /home/user/.cache/huggingface/datasets/glue/sst2/1.0.0/dacbe3125aa31d7f70367a07a8a9e72a5a0bfeb5fc42e75c9db75b96da6053ad/cache-5960909ab3834668.arrow\n"
     ]
    }
   ],
   "source": [
    "sst2_data_raw, targets, idxs = sample_random_glue_sst2()"
   ]
  },
  {
   "cell_type": "code",
   "execution_count": 3,
   "id": "c90c47e9",
   "metadata": {},
   "outputs": [],
   "source": [
    "tokenizer, model = get_sst2_tok_n_model()"
   ]
  },
  {
   "cell_type": "code",
   "execution_count": 4,
   "id": "17be71bc",
   "metadata": {},
   "outputs": [],
   "source": [
    "#define some containers to save some info\n",
    "model_out_list, raw_attr_list, conti_attr_list, raw_input_list = [], [], [], []"
   ]
  },
  {
   "cell_type": "code",
   "execution_count": 5,
   "id": "d272625c",
   "metadata": {},
   "outputs": [],
   "source": [
    "from captum.attr import DeepLift\n",
    "from captum.attr import visualization "
   ]
  },
  {
   "cell_type": "code",
   "execution_count": 6,
   "id": "8067da5f",
   "metadata": {},
   "outputs": [],
   "source": [
    "# lime = Lime(forward_func=model.forward)\n",
    "deep_lift = DeepLift(model)"
   ]
  },
  {
   "cell_type": "code",
   "execution_count": 7,
   "id": "c47d4631",
   "metadata": {},
   "outputs": [],
   "source": [
    "def generate_record(raw_review, target):\n",
    "    #tokenizer operations\n",
    "    tokenized = tokenizer(raw_review, truncation=True, return_offsets_mapping=True)\n",
    "    offset_mapping = tokenized['offset_mapping']\n",
    "    conti_map = get_continuation_mapping(offset_mapping)\n",
    "    input_ids = torch.tensor(tokenized['input_ids']).unsqueeze(0)\n",
    "    detokenized = [t.replace('Ġ', '') for t in tokenizer.convert_ids_to_tokens(input_ids[0])]\n",
    "    \n",
    "    #feeding input forward \n",
    "    input_emb = model.get_embeddings(input_ids)\n",
    "    pred_prob = model(input_emb).item()\n",
    "    \n",
    "    #categorizing results\n",
    "    pred_class = 'Pos' if pred_prob > 0.5 else 'Neg' \n",
    "    true_class = 'Pos' if target > 0.5 else 'Neg' \n",
    "    \n",
    "    #attribution algorithm working\n",
    "    attribution, delta = deep_lift.attribute(input_emb, return_convergence_delta=True)\n",
    "    word_attributions = attribution.squeeze(0).sum(dim=1)\n",
    "    word_attributions /= torch.norm(word_attributions)\n",
    "    attr_score = torch.sum(word_attributions)\n",
    "    attr_class = 'Pos' if attr_score > 0.5 else 'Neg'\n",
    "    convergence_score = delta\n",
    "    \n",
    "    \n",
    "    #re-organizing tensors and arrays because words get split down\n",
    "    conti_attr = get_continuous_attributions(conti_map, word_attributions)\n",
    "    raw_input = get_continuous_raw_inputs(conti_map, detokenized)\n",
    "\n",
    "#     print(f'word attributions {word_attributions}')\n",
    "#     print(f'pred_prob {pred_prob}')\n",
    "#     print(f'pred_class {pred_class}')\n",
    "#     print(f'true_class {true_class}')\n",
    "#     print(f'attribution {attribution}')\n",
    "#     print(f'attr_class {attr_class}')\n",
    "#     print(f'attr_score {attr_score}')\n",
    "#     print(f'raw_input {raw_input}')\n",
    "\n",
    "        \n",
    "#     collect info for metrics later\n",
    "    collect_info_for_metric(model_out_list, pred_prob, raw_attr_list, attribution, conti_attr_list, conti_attr, raw_input_list, raw_input)\n",
    "        \n",
    "    \n",
    "    visual_record = visualization.VisualizationDataRecord(word_attributions=word_attributions,\n",
    "                                                         pred_prob=pred_prob,\n",
    "                                                         pred_class=pred_class,\n",
    "                                                         true_class=true_class,\n",
    "                                                         attr_class=attr_class,\n",
    "                                                         attr_score=attr_score,\n",
    "                                                         raw_input=raw_input,\n",
    "                                                         convergence_score=convergence_score)\n",
    "        \n",
    "        \n",
    "    return visual_record\n",
    "      \n",
    "    "
   ]
  },
  {
   "cell_type": "code",
   "execution_count": 8,
   "id": "37efa6df",
   "metadata": {
    "scrolled": false
   },
   "outputs": [
    {
     "name": "stdout",
     "output_type": "stream",
     "text": [
      "Raw review: against all odds \n",
      "GT target: 1\n"
     ]
    },
    {
     "name": "stderr",
     "output_type": "stream",
     "text": [
      "/home/user/anaconda3/envs/py38/lib/python3.9/site-packages/captum/attr/_core/deep_lift.py:322: UserWarning: Setting forward, backward hooks and attributes on non-linear\n",
      "               activations. The hooks and attributes will be removed\n",
      "            after the attribution is finished\n",
      "  warnings.warn(\n"
     ]
    },
    {
     "name": "stdout",
     "output_type": "stream",
     "text": [
      "asd 6\n"
     ]
    },
    {
     "data": {
      "text/html": [
       "<table width: 100%><div style=\"border-top: 1px solid; margin-top: 5px;             padding-top: 5px; display: inline-block\"><b>Legend: </b><span style=\"display: inline-block; width: 10px; height: 10px;                 border: 1px solid; background-color:                 hsl(0, 75%, 60%)\"></span> Negative  <span style=\"display: inline-block; width: 10px; height: 10px;                 border: 1px solid; background-color:                 hsl(0, 75%, 100%)\"></span> Neutral  <span style=\"display: inline-block; width: 10px; height: 10px;                 border: 1px solid; background-color:                 hsl(120, 75%, 50%)\"></span> Positive  </div><tr><th>True Label</th><th>Predicted Label</th><th>Attribution Label</th><th>Attribution Score</th><th>Word Importance</th><tr><td><text style=\"padding-right:2em\"><b>Pos</b></text></td><td><text style=\"padding-right:2em\"><b>Pos (0.99)</b></text></td><td><text style=\"padding-right:2em\"><b>Neg</b></text></td><td><text style=\"padding-right:2em\"><b>-0.45</b></text></td><td><mark style=\"background-color: hsl(0, 75%, 78%); opacity:1.0;                     line-height:1.75\"><font color=\"black\"> #s                    </font></mark><mark style=\"background-color: hsl(0, 75%, 87%); opacity:1.0;                     line-height:1.75\"><font color=\"black\"> against                    </font></mark><mark style=\"background-color: hsl(120, 75%, 98%); opacity:1.0;                     line-height:1.75\"><font color=\"black\"> all                    </font></mark><mark style=\"background-color: hsl(120, 75%, 65%); opacity:1.0;                     line-height:1.75\"><font color=\"black\"> odds                    </font></mark><mark style=\"background-color: hsl(0, 75%, 94%); opacity:1.0;                     line-height:1.75\"><font color=\"black\">                     </font></mark><mark style=\"background-color: hsl(0, 75%, 94%); opacity:1.0;                     line-height:1.75\"><font color=\"black\"> #/s                    </font></mark></td><tr></table>"
      ],
      "text/plain": [
       "<IPython.core.display.HTML object>"
      ]
     },
     "metadata": {},
     "output_type": "display_data"
    },
    {
     "name": "stdout",
     "output_type": "stream",
     "text": [
      "<IPython.core.display.HTML object>\n",
      "Raw review: i had a dream that a smart comedy would come along to rescue me from a summer of teen-driven , toilet-humor codswallop \n",
      "GT target: 1\n",
      "asd 25\n"
     ]
    },
    {
     "data": {
      "text/html": [
       "<table width: 100%><div style=\"border-top: 1px solid; margin-top: 5px;             padding-top: 5px; display: inline-block\"><b>Legend: </b><span style=\"display: inline-block; width: 10px; height: 10px;                 border: 1px solid; background-color:                 hsl(0, 75%, 60%)\"></span> Negative  <span style=\"display: inline-block; width: 10px; height: 10px;                 border: 1px solid; background-color:                 hsl(0, 75%, 100%)\"></span> Neutral  <span style=\"display: inline-block; width: 10px; height: 10px;                 border: 1px solid; background-color:                 hsl(120, 75%, 50%)\"></span> Positive  </div><tr><th>True Label</th><th>Predicted Label</th><th>Attribution Label</th><th>Attribution Score</th><th>Word Importance</th><tr><td><text style=\"padding-right:2em\"><b>Pos</b></text></td><td><text style=\"padding-right:2em\"><b>Pos (1.00)</b></text></td><td><text style=\"padding-right:2em\"><b>Pos</b></text></td><td><text style=\"padding-right:2em\"><b>1.26</b></text></td><td><mark style=\"background-color: hsl(0, 75%, 100%); opacity:1.0;                     line-height:1.75\"><font color=\"black\"> #s                    </font></mark><mark style=\"background-color: hsl(0, 75%, 94%); opacity:1.0;                     line-height:1.75\"><font color=\"black\"> i                    </font></mark><mark style=\"background-color: hsl(120, 75%, 98%); opacity:1.0;                     line-height:1.75\"><font color=\"black\"> had                    </font></mark><mark style=\"background-color: hsl(120, 75%, 99%); opacity:1.0;                     line-height:1.75\"><font color=\"black\"> a                    </font></mark><mark style=\"background-color: hsl(0, 75%, 100%); opacity:1.0;                     line-height:1.75\"><font color=\"black\"> dream                    </font></mark><mark style=\"background-color: hsl(120, 75%, 100%); opacity:1.0;                     line-height:1.75\"><font color=\"black\"> that                    </font></mark><mark style=\"background-color: hsl(120, 75%, 100%); opacity:1.0;                     line-height:1.75\"><font color=\"black\"> a                    </font></mark><mark style=\"background-color: hsl(120, 75%, 56%); opacity:1.0;                     line-height:1.75\"><font color=\"black\"> smart                    </font></mark><mark style=\"background-color: hsl(120, 75%, 97%); opacity:1.0;                     line-height:1.75\"><font color=\"black\"> comedy                    </font></mark><mark style=\"background-color: hsl(0, 75%, 99%); opacity:1.0;                     line-height:1.75\"><font color=\"black\"> would                    </font></mark><mark style=\"background-color: hsl(0, 75%, 99%); opacity:1.0;                     line-height:1.75\"><font color=\"black\"> come                    </font></mark><mark style=\"background-color: hsl(0, 75%, 100%); opacity:1.0;                     line-height:1.75\"><font color=\"black\"> along                    </font></mark><mark style=\"background-color: hsl(0, 75%, 100%); opacity:1.0;                     line-height:1.75\"><font color=\"black\"> to                    </font></mark><mark style=\"background-color: hsl(0, 75%, 99%); opacity:1.0;                     line-height:1.75\"><font color=\"black\"> rescue                    </font></mark><mark style=\"background-color: hsl(0, 75%, 98%); opacity:1.0;                     line-height:1.75\"><font color=\"black\"> me                    </font></mark><mark style=\"background-color: hsl(120, 75%, 97%); opacity:1.0;                     line-height:1.75\"><font color=\"black\"> from                    </font></mark><mark style=\"background-color: hsl(120, 75%, 100%); opacity:1.0;                     line-height:1.75\"><font color=\"black\"> a                    </font></mark><mark style=\"background-color: hsl(120, 75%, 100%); opacity:1.0;                     line-height:1.75\"><font color=\"black\"> summer                    </font></mark><mark style=\"background-color: hsl(0, 75%, 100%); opacity:1.0;                     line-height:1.75\"><font color=\"black\"> of                    </font></mark><mark style=\"background-color: hsl(120, 75%, 99%); opacity:1.0;                     line-height:1.75\"><font color=\"black\"> teen-driven                    </font></mark><mark style=\"background-color: hsl(120, 75%, 100%); opacity:1.0;                     line-height:1.75\"><font color=\"black\"> ,                    </font></mark><mark style=\"background-color: hsl(0, 75%, 95%); opacity:1.0;                     line-height:1.75\"><font color=\"black\"> toilet-humor                    </font></mark><mark style=\"background-color: hsl(0, 75%, 97%); opacity:1.0;                     line-height:1.75\"><font color=\"black\"> codswallop                    </font></mark><mark style=\"background-color: hsl(120, 75%, 84%); opacity:1.0;                     line-height:1.75\"><font color=\"black\">                     </font></mark><mark style=\"background-color: hsl(120, 75%, 98%); opacity:1.0;                     line-height:1.75\"><font color=\"black\"> #/s                    </font></mark></td><tr></table>"
      ],
      "text/plain": [
       "<IPython.core.display.HTML object>"
      ]
     },
     "metadata": {},
     "output_type": "display_data"
    },
    {
     "name": "stdout",
     "output_type": "stream",
     "text": [
      "<IPython.core.display.HTML object>\n",
      "Raw review: he makes sure the salton sea works the way a good noir should , keeping it tight and nasty \n",
      "GT target: 1\n",
      "asd 22\n"
     ]
    },
    {
     "data": {
      "text/html": [
       "<table width: 100%><div style=\"border-top: 1px solid; margin-top: 5px;             padding-top: 5px; display: inline-block\"><b>Legend: </b><span style=\"display: inline-block; width: 10px; height: 10px;                 border: 1px solid; background-color:                 hsl(0, 75%, 60%)\"></span> Negative  <span style=\"display: inline-block; width: 10px; height: 10px;                 border: 1px solid; background-color:                 hsl(0, 75%, 100%)\"></span> Neutral  <span style=\"display: inline-block; width: 10px; height: 10px;                 border: 1px solid; background-color:                 hsl(120, 75%, 50%)\"></span> Positive  </div><tr><th>True Label</th><th>Predicted Label</th><th>Attribution Label</th><th>Attribution Score</th><th>Word Importance</th><tr><td><text style=\"padding-right:2em\"><b>Pos</b></text></td><td><text style=\"padding-right:2em\"><b>Pos (1.00)</b></text></td><td><text style=\"padding-right:2em\"><b>Neg</b></text></td><td><text style=\"padding-right:2em\"><b>-0.45</b></text></td><td><mark style=\"background-color: hsl(120, 75%, 98%); opacity:1.0;                     line-height:1.75\"><font color=\"black\"> #s                    </font></mark><mark style=\"background-color: hsl(0, 75%, 100%); opacity:1.0;                     line-height:1.75\"><font color=\"black\"> he                    </font></mark><mark style=\"background-color: hsl(120, 75%, 100%); opacity:1.0;                     line-height:1.75\"><font color=\"black\"> makes                    </font></mark><mark style=\"background-color: hsl(120, 75%, 92%); opacity:1.0;                     line-height:1.75\"><font color=\"black\"> sure                    </font></mark><mark style=\"background-color: hsl(0, 75%, 100%); opacity:1.0;                     line-height:1.75\"><font color=\"black\"> the                    </font></mark><mark style=\"background-color: hsl(120, 75%, 89%); opacity:1.0;                     line-height:1.75\"><font color=\"black\"> salton                    </font></mark><mark style=\"background-color: hsl(0, 75%, 96%); opacity:1.0;                     line-height:1.75\"><font color=\"black\"> sea                    </font></mark><mark style=\"background-color: hsl(120, 75%, 85%); opacity:1.0;                     line-height:1.75\"><font color=\"black\"> works                    </font></mark><mark style=\"background-color: hsl(0, 75%, 95%); opacity:1.0;                     line-height:1.75\"><font color=\"black\"> the                    </font></mark><mark style=\"background-color: hsl(0, 75%, 98%); opacity:1.0;                     line-height:1.75\"><font color=\"black\"> way                    </font></mark><mark style=\"background-color: hsl(0, 75%, 100%); opacity:1.0;                     line-height:1.75\"><font color=\"black\"> a                    </font></mark><mark style=\"background-color: hsl(120, 75%, 97%); opacity:1.0;                     line-height:1.75\"><font color=\"black\"> good                    </font></mark><mark style=\"background-color: hsl(120, 75%, 89%); opacity:1.0;                     line-height:1.75\"><font color=\"black\"> noir                    </font></mark><mark style=\"background-color: hsl(0, 75%, 95%); opacity:1.0;                     line-height:1.75\"><font color=\"black\"> should                    </font></mark><mark style=\"background-color: hsl(0, 75%, 74%); opacity:1.0;                     line-height:1.75\"><font color=\"black\"> ,                    </font></mark><mark style=\"background-color: hsl(0, 75%, 99%); opacity:1.0;                     line-height:1.75\"><font color=\"black\"> keeping                    </font></mark><mark style=\"background-color: hsl(0, 75%, 92%); opacity:1.0;                     line-height:1.75\"><font color=\"black\"> it                    </font></mark><mark style=\"background-color: hsl(120, 75%, 96%); opacity:1.0;                     line-height:1.75\"><font color=\"black\"> tight                    </font></mark><mark style=\"background-color: hsl(0, 75%, 92%); opacity:1.0;                     line-height:1.75\"><font color=\"black\"> and                    </font></mark><mark style=\"background-color: hsl(120, 75%, 87%); opacity:1.0;                     line-height:1.75\"><font color=\"black\"> nasty                    </font></mark><mark style=\"background-color: hsl(120, 75%, 100%); opacity:1.0;                     line-height:1.75\"><font color=\"black\">                     </font></mark><mark style=\"background-color: hsl(0, 75%, 89%); opacity:1.0;                     line-height:1.75\"><font color=\"black\"> #/s                    </font></mark></td><tr></table>"
      ],
      "text/plain": [
       "<IPython.core.display.HTML object>"
      ]
     },
     "metadata": {},
     "output_type": "display_data"
    },
    {
     "name": "stdout",
     "output_type": "stream",
     "text": [
      "<IPython.core.display.HTML object>\n",
      "Raw review: suicidal \n",
      "GT target: 0\n",
      "asd 4\n"
     ]
    },
    {
     "data": {
      "text/html": [
       "<table width: 100%><div style=\"border-top: 1px solid; margin-top: 5px;             padding-top: 5px; display: inline-block\"><b>Legend: </b><span style=\"display: inline-block; width: 10px; height: 10px;                 border: 1px solid; background-color:                 hsl(0, 75%, 60%)\"></span> Negative  <span style=\"display: inline-block; width: 10px; height: 10px;                 border: 1px solid; background-color:                 hsl(0, 75%, 100%)\"></span> Neutral  <span style=\"display: inline-block; width: 10px; height: 10px;                 border: 1px solid; background-color:                 hsl(120, 75%, 50%)\"></span> Positive  </div><tr><th>True Label</th><th>Predicted Label</th><th>Attribution Label</th><th>Attribution Score</th><th>Word Importance</th><tr><td><text style=\"padding-right:2em\"><b>Neg</b></text></td><td><text style=\"padding-right:2em\"><b>Neg (0.00)</b></text></td><td><text style=\"padding-right:2em\"><b>Pos</b></text></td><td><text style=\"padding-right:2em\"><b>0.79</b></text></td><td><mark style=\"background-color: hsl(120, 75%, 69%); opacity:1.0;                     line-height:1.75\"><font color=\"black\"> #s                    </font></mark><mark style=\"background-color: hsl(0, 75%, 97%); opacity:1.0;                     line-height:1.75\"><font color=\"black\"> suicidal                    </font></mark><mark style=\"background-color: hsl(120, 75%, 68%); opacity:1.0;                     line-height:1.75\"><font color=\"black\">                     </font></mark><mark style=\"background-color: hsl(0, 75%, 83%); opacity:1.0;                     line-height:1.75\"><font color=\"black\"> #/s                    </font></mark></td><tr></table>"
      ],
      "text/plain": [
       "<IPython.core.display.HTML object>"
      ]
     },
     "metadata": {},
     "output_type": "display_data"
    },
    {
     "name": "stdout",
     "output_type": "stream",
     "text": [
      "<IPython.core.display.HTML object>\n",
      "Raw review: is leguizamo 's best movie work so far , a subtle and richly internalized performance \n",
      "GT target: 1\n",
      "asd 18\n"
     ]
    },
    {
     "data": {
      "text/html": [
       "<table width: 100%><div style=\"border-top: 1px solid; margin-top: 5px;             padding-top: 5px; display: inline-block\"><b>Legend: </b><span style=\"display: inline-block; width: 10px; height: 10px;                 border: 1px solid; background-color:                 hsl(0, 75%, 60%)\"></span> Negative  <span style=\"display: inline-block; width: 10px; height: 10px;                 border: 1px solid; background-color:                 hsl(0, 75%, 100%)\"></span> Neutral  <span style=\"display: inline-block; width: 10px; height: 10px;                 border: 1px solid; background-color:                 hsl(120, 75%, 50%)\"></span> Positive  </div><tr><th>True Label</th><th>Predicted Label</th><th>Attribution Label</th><th>Attribution Score</th><th>Word Importance</th><tr><td><text style=\"padding-right:2em\"><b>Pos</b></text></td><td><text style=\"padding-right:2em\"><b>Pos (1.00)</b></text></td><td><text style=\"padding-right:2em\"><b>Neg</b></text></td><td><text style=\"padding-right:2em\"><b>-0.22</b></text></td><td><mark style=\"background-color: hsl(0, 75%, 79%); opacity:1.0;                     line-height:1.75\"><font color=\"black\"> #s                    </font></mark><mark style=\"background-color: hsl(0, 75%, 97%); opacity:1.0;                     line-height:1.75\"><font color=\"black\"> is                    </font></mark><mark style=\"background-color: hsl(120, 75%, 99%); opacity:1.0;                     line-height:1.75\"><font color=\"black\"> leguizamo                    </font></mark><mark style=\"background-color: hsl(120, 75%, 96%); opacity:1.0;                     line-height:1.75\"><font color=\"black\"> 's                    </font></mark><mark style=\"background-color: hsl(120, 75%, 97%); opacity:1.0;                     line-height:1.75\"><font color=\"black\"> best                    </font></mark><mark style=\"background-color: hsl(120, 75%, 80%); opacity:1.0;                     line-height:1.75\"><font color=\"black\"> movie                    </font></mark><mark style=\"background-color: hsl(120, 75%, 100%); opacity:1.0;                     line-height:1.75\"><font color=\"black\"> work                    </font></mark><mark style=\"background-color: hsl(0, 75%, 98%); opacity:1.0;                     line-height:1.75\"><font color=\"black\"> so                    </font></mark><mark style=\"background-color: hsl(120, 75%, 99%); opacity:1.0;                     line-height:1.75\"><font color=\"black\"> far                    </font></mark><mark style=\"background-color: hsl(120, 75%, 88%); opacity:1.0;                     line-height:1.75\"><font color=\"black\"> ,                    </font></mark><mark style=\"background-color: hsl(120, 75%, 85%); opacity:1.0;                     line-height:1.75\"><font color=\"black\"> a                    </font></mark><mark style=\"background-color: hsl(0, 75%, 99%); opacity:1.0;                     line-height:1.75\"><font color=\"black\"> subtle                    </font></mark><mark style=\"background-color: hsl(0, 75%, 94%); opacity:1.0;                     line-height:1.75\"><font color=\"black\"> and                    </font></mark><mark style=\"background-color: hsl(120, 75%, 100%); opacity:1.0;                     line-height:1.75\"><font color=\"black\"> richly                    </font></mark><mark style=\"background-color: hsl(0, 75%, 100%); opacity:1.0;                     line-height:1.75\"><font color=\"black\"> internalized                    </font></mark><mark style=\"background-color: hsl(0, 75%, 86%); opacity:1.0;                     line-height:1.75\"><font color=\"black\"> performance                    </font></mark><mark style=\"background-color: hsl(0, 75%, 99%); opacity:1.0;                     line-height:1.75\"><font color=\"black\">                     </font></mark><mark style=\"background-color: hsl(0, 75%, 95%); opacity:1.0;                     line-height:1.75\"><font color=\"black\"> #/s                    </font></mark></td><tr></table>"
      ],
      "text/plain": [
       "<IPython.core.display.HTML object>"
      ]
     },
     "metadata": {},
     "output_type": "display_data"
    },
    {
     "name": "stdout",
     "output_type": "stream",
     "text": [
      "<IPython.core.display.HTML object>\n",
      "Raw review: 'll enjoy this movie . \n",
      "GT target: 1\n",
      "asd 8\n"
     ]
    },
    {
     "data": {
      "text/html": [
       "<table width: 100%><div style=\"border-top: 1px solid; margin-top: 5px;             padding-top: 5px; display: inline-block\"><b>Legend: </b><span style=\"display: inline-block; width: 10px; height: 10px;                 border: 1px solid; background-color:                 hsl(0, 75%, 60%)\"></span> Negative  <span style=\"display: inline-block; width: 10px; height: 10px;                 border: 1px solid; background-color:                 hsl(0, 75%, 100%)\"></span> Neutral  <span style=\"display: inline-block; width: 10px; height: 10px;                 border: 1px solid; background-color:                 hsl(120, 75%, 50%)\"></span> Positive  </div><tr><th>True Label</th><th>Predicted Label</th><th>Attribution Label</th><th>Attribution Score</th><th>Word Importance</th><tr><td><text style=\"padding-right:2em\"><b>Pos</b></text></td><td><text style=\"padding-right:2em\"><b>Pos (1.00)</b></text></td><td><text style=\"padding-right:2em\"><b>Pos</b></text></td><td><text style=\"padding-right:2em\"><b>0.60</b></text></td><td><mark style=\"background-color: hsl(120, 75%, 99%); opacity:1.0;                     line-height:1.75\"><font color=\"black\"> #s                    </font></mark><mark style=\"background-color: hsl(120, 75%, 82%); opacity:1.0;                     line-height:1.75\"><font color=\"black\"> 'll                    </font></mark><mark style=\"background-color: hsl(0, 75%, 78%); opacity:1.0;                     line-height:1.75\"><font color=\"black\"> enjoy                    </font></mark><mark style=\"background-color: hsl(120, 75%, 87%); opacity:1.0;                     line-height:1.75\"><font color=\"black\"> this                    </font></mark><mark style=\"background-color: hsl(120, 75%, 67%); opacity:1.0;                     line-height:1.75\"><font color=\"black\"> movie                    </font></mark><mark style=\"background-color: hsl(0, 75%, 98%); opacity:1.0;                     line-height:1.75\"><font color=\"black\"> .                    </font></mark><mark style=\"background-color: hsl(0, 75%, 100%); opacity:1.0;                     line-height:1.75\"><font color=\"black\">                     </font></mark><mark style=\"background-color: hsl(0, 75%, 96%); opacity:1.0;                     line-height:1.75\"><font color=\"black\"> #/s                    </font></mark></td><tr></table>"
      ],
      "text/plain": [
       "<IPython.core.display.HTML object>"
      ]
     },
     "metadata": {},
     "output_type": "display_data"
    },
    {
     "name": "stdout",
     "output_type": "stream",
     "text": [
      "<IPython.core.display.HTML object>\n",
      "Raw review: is worse : the part where nothing 's happening , or the part where something 's happening \n",
      "GT target: 0\n",
      "asd 20\n"
     ]
    },
    {
     "data": {
      "text/html": [
       "<table width: 100%><div style=\"border-top: 1px solid; margin-top: 5px;             padding-top: 5px; display: inline-block\"><b>Legend: </b><span style=\"display: inline-block; width: 10px; height: 10px;                 border: 1px solid; background-color:                 hsl(0, 75%, 60%)\"></span> Negative  <span style=\"display: inline-block; width: 10px; height: 10px;                 border: 1px solid; background-color:                 hsl(0, 75%, 100%)\"></span> Neutral  <span style=\"display: inline-block; width: 10px; height: 10px;                 border: 1px solid; background-color:                 hsl(120, 75%, 50%)\"></span> Positive  </div><tr><th>True Label</th><th>Predicted Label</th><th>Attribution Label</th><th>Attribution Score</th><th>Word Importance</th><tr><td><text style=\"padding-right:2em\"><b>Neg</b></text></td><td><text style=\"padding-right:2em\"><b>Neg (0.00)</b></text></td><td><text style=\"padding-right:2em\"><b>Pos</b></text></td><td><text style=\"padding-right:2em\"><b>1.52</b></text></td><td><mark style=\"background-color: hsl(120, 75%, 84%); opacity:1.0;                     line-height:1.75\"><font color=\"black\"> #s                    </font></mark><mark style=\"background-color: hsl(0, 75%, 100%); opacity:1.0;                     line-height:1.75\"><font color=\"black\"> is                    </font></mark><mark style=\"background-color: hsl(0, 75%, 96%); opacity:1.0;                     line-height:1.75\"><font color=\"black\"> worse                    </font></mark><mark style=\"background-color: hsl(120, 75%, 62%); opacity:1.0;                     line-height:1.75\"><font color=\"black\"> :                    </font></mark><mark style=\"background-color: hsl(120, 75%, 93%); opacity:1.0;                     line-height:1.75\"><font color=\"black\"> the                    </font></mark><mark style=\"background-color: hsl(120, 75%, 95%); opacity:1.0;                     line-height:1.75\"><font color=\"black\"> part                    </font></mark><mark style=\"background-color: hsl(0, 75%, 98%); opacity:1.0;                     line-height:1.75\"><font color=\"black\"> where                    </font></mark><mark style=\"background-color: hsl(120, 75%, 100%); opacity:1.0;                     line-height:1.75\"><font color=\"black\"> nothing                    </font></mark><mark style=\"background-color: hsl(120, 75%, 92%); opacity:1.0;                     line-height:1.75\"><font color=\"black\"> 's                    </font></mark><mark style=\"background-color: hsl(0, 75%, 96%); opacity:1.0;                     line-height:1.75\"><font color=\"black\"> happening                    </font></mark><mark style=\"background-color: hsl(0, 75%, 100%); opacity:1.0;                     line-height:1.75\"><font color=\"black\"> ,                    </font></mark><mark style=\"background-color: hsl(120, 75%, 91%); opacity:1.0;                     line-height:1.75\"><font color=\"black\"> or                    </font></mark><mark style=\"background-color: hsl(120, 75%, 88%); opacity:1.0;                     line-height:1.75\"><font color=\"black\"> the                    </font></mark><mark style=\"background-color: hsl(120, 75%, 97%); opacity:1.0;                     line-height:1.75\"><font color=\"black\"> part                    </font></mark><mark style=\"background-color: hsl(120, 75%, 97%); opacity:1.0;                     line-height:1.75\"><font color=\"black\"> where                    </font></mark><mark style=\"background-color: hsl(0, 75%, 100%); opacity:1.0;                     line-height:1.75\"><font color=\"black\"> something                    </font></mark><mark style=\"background-color: hsl(120, 75%, 100%); opacity:1.0;                     line-height:1.75\"><font color=\"black\"> 's                    </font></mark><mark style=\"background-color: hsl(120, 75%, 90%); opacity:1.0;                     line-height:1.75\"><font color=\"black\"> happening                    </font></mark><mark style=\"background-color: hsl(0, 75%, 100%); opacity:1.0;                     line-height:1.75\"><font color=\"black\">                     </font></mark><mark style=\"background-color: hsl(0, 75%, 95%); opacity:1.0;                     line-height:1.75\"><font color=\"black\"> #/s                    </font></mark></td><tr></table>"
      ],
      "text/plain": [
       "<IPython.core.display.HTML object>"
      ]
     },
     "metadata": {},
     "output_type": "display_data"
    },
    {
     "name": "stdout",
     "output_type": "stream",
     "text": [
      "<IPython.core.display.HTML object>\n",
      "Raw review: finds the ideal outlet for his flick-knife diction in the role of roger swanson . \n",
      "GT target: 1\n",
      "asd 18\n"
     ]
    },
    {
     "data": {
      "text/html": [
       "<table width: 100%><div style=\"border-top: 1px solid; margin-top: 5px;             padding-top: 5px; display: inline-block\"><b>Legend: </b><span style=\"display: inline-block; width: 10px; height: 10px;                 border: 1px solid; background-color:                 hsl(0, 75%, 60%)\"></span> Negative  <span style=\"display: inline-block; width: 10px; height: 10px;                 border: 1px solid; background-color:                 hsl(0, 75%, 100%)\"></span> Neutral  <span style=\"display: inline-block; width: 10px; height: 10px;                 border: 1px solid; background-color:                 hsl(120, 75%, 50%)\"></span> Positive  </div><tr><th>True Label</th><th>Predicted Label</th><th>Attribution Label</th><th>Attribution Score</th><th>Word Importance</th><tr><td><text style=\"padding-right:2em\"><b>Pos</b></text></td><td><text style=\"padding-right:2em\"><b>Pos (1.00)</b></text></td><td><text style=\"padding-right:2em\"><b>Pos</b></text></td><td><text style=\"padding-right:2em\"><b>0.54</b></text></td><td><mark style=\"background-color: hsl(0, 75%, 97%); opacity:1.0;                     line-height:1.75\"><font color=\"black\"> #s                    </font></mark><mark style=\"background-color: hsl(120, 75%, 87%); opacity:1.0;                     line-height:1.75\"><font color=\"black\"> finds                    </font></mark><mark style=\"background-color: hsl(120, 75%, 99%); opacity:1.0;                     line-height:1.75\"><font color=\"black\"> the                    </font></mark><mark style=\"background-color: hsl(0, 75%, 100%); opacity:1.0;                     line-height:1.75\"><font color=\"black\"> ideal                    </font></mark><mark style=\"background-color: hsl(120, 75%, 63%); opacity:1.0;                     line-height:1.75\"><font color=\"black\"> outlet                    </font></mark><mark style=\"background-color: hsl(120, 75%, 100%); opacity:1.0;                     line-height:1.75\"><font color=\"black\"> for                    </font></mark><mark style=\"background-color: hsl(0, 75%, 98%); opacity:1.0;                     line-height:1.75\"><font color=\"black\"> his                    </font></mark><mark style=\"background-color: hsl(0, 75%, 97%); opacity:1.0;                     line-height:1.75\"><font color=\"black\"> flick-knife                    </font></mark><mark style=\"background-color: hsl(120, 75%, 96%); opacity:1.0;                     line-height:1.75\"><font color=\"black\"> diction                    </font></mark><mark style=\"background-color: hsl(0, 75%, 99%); opacity:1.0;                     line-height:1.75\"><font color=\"black\"> in                    </font></mark><mark style=\"background-color: hsl(0, 75%, 90%); opacity:1.0;                     line-height:1.75\"><font color=\"black\"> the                    </font></mark><mark style=\"background-color: hsl(120, 75%, 94%); opacity:1.0;                     line-height:1.75\"><font color=\"black\"> role                    </font></mark><mark style=\"background-color: hsl(0, 75%, 99%); opacity:1.0;                     line-height:1.75\"><font color=\"black\"> of                    </font></mark><mark style=\"background-color: hsl(0, 75%, 100%); opacity:1.0;                     line-height:1.75\"><font color=\"black\"> roger                    </font></mark><mark style=\"background-color: hsl(0, 75%, 95%); opacity:1.0;                     line-height:1.75\"><font color=\"black\"> swanson                    </font></mark><mark style=\"background-color: hsl(0, 75%, 96%); opacity:1.0;                     line-height:1.75\"><font color=\"black\"> .                    </font></mark><mark style=\"background-color: hsl(120, 75%, 92%); opacity:1.0;                     line-height:1.75\"><font color=\"black\">                     </font></mark><mark style=\"background-color: hsl(120, 75%, 87%); opacity:1.0;                     line-height:1.75\"><font color=\"black\"> #/s                    </font></mark></td><tr></table>"
      ],
      "text/plain": [
       "<IPython.core.display.HTML object>"
      ]
     },
     "metadata": {},
     "output_type": "display_data"
    },
    {
     "name": "stdout",
     "output_type": "stream",
     "text": [
      "<IPython.core.display.HTML object>\n",
      "Raw review: the best film of the year 2002 . \n",
      "GT target: 1\n",
      "asd 11\n"
     ]
    },
    {
     "data": {
      "text/html": [
       "<table width: 100%><div style=\"border-top: 1px solid; margin-top: 5px;             padding-top: 5px; display: inline-block\"><b>Legend: </b><span style=\"display: inline-block; width: 10px; height: 10px;                 border: 1px solid; background-color:                 hsl(0, 75%, 60%)\"></span> Negative  <span style=\"display: inline-block; width: 10px; height: 10px;                 border: 1px solid; background-color:                 hsl(0, 75%, 100%)\"></span> Neutral  <span style=\"display: inline-block; width: 10px; height: 10px;                 border: 1px solid; background-color:                 hsl(120, 75%, 50%)\"></span> Positive  </div><tr><th>True Label</th><th>Predicted Label</th><th>Attribution Label</th><th>Attribution Score</th><th>Word Importance</th><tr><td><text style=\"padding-right:2em\"><b>Pos</b></text></td><td><text style=\"padding-right:2em\"><b>Pos (1.00)</b></text></td><td><text style=\"padding-right:2em\"><b>Neg</b></text></td><td><text style=\"padding-right:2em\"><b>0.33</b></text></td><td><mark style=\"background-color: hsl(0, 75%, 99%); opacity:1.0;                     line-height:1.75\"><font color=\"black\"> #s                    </font></mark><mark style=\"background-color: hsl(120, 75%, 99%); opacity:1.0;                     line-height:1.75\"><font color=\"black\"> the                    </font></mark><mark style=\"background-color: hsl(0, 75%, 96%); opacity:1.0;                     line-height:1.75\"><font color=\"black\"> best                    </font></mark><mark style=\"background-color: hsl(120, 75%, 56%); opacity:1.0;                     line-height:1.75\"><font color=\"black\"> film                    </font></mark><mark style=\"background-color: hsl(0, 75%, 100%); opacity:1.0;                     line-height:1.75\"><font color=\"black\"> of                    </font></mark><mark style=\"background-color: hsl(0, 75%, 95%); opacity:1.0;                     line-height:1.75\"><font color=\"black\"> the                    </font></mark><mark style=\"background-color: hsl(0, 75%, 86%); opacity:1.0;                     line-height:1.75\"><font color=\"black\"> year                    </font></mark><mark style=\"background-color: hsl(0, 75%, 100%); opacity:1.0;                     line-height:1.75\"><font color=\"black\"> 2002                    </font></mark><mark style=\"background-color: hsl(120, 75%, 96%); opacity:1.0;                     line-height:1.75\"><font color=\"black\"> .                    </font></mark><mark style=\"background-color: hsl(0, 75%, 97%); opacity:1.0;                     line-height:1.75\"><font color=\"black\">                     </font></mark><mark style=\"background-color: hsl(120, 75%, 96%); opacity:1.0;                     line-height:1.75\"><font color=\"black\"> #/s                    </font></mark></td><tr></table>"
      ],
      "text/plain": [
       "<IPython.core.display.HTML object>"
      ]
     },
     "metadata": {},
     "output_type": "display_data"
    },
    {
     "name": "stdout",
     "output_type": "stream",
     "text": [
      "<IPython.core.display.HTML object>\n",
      "Raw review: watch , giggle \n",
      "GT target: 1\n",
      "asd 6\n"
     ]
    },
    {
     "data": {
      "text/html": [
       "<table width: 100%><div style=\"border-top: 1px solid; margin-top: 5px;             padding-top: 5px; display: inline-block\"><b>Legend: </b><span style=\"display: inline-block; width: 10px; height: 10px;                 border: 1px solid; background-color:                 hsl(0, 75%, 60%)\"></span> Negative  <span style=\"display: inline-block; width: 10px; height: 10px;                 border: 1px solid; background-color:                 hsl(0, 75%, 100%)\"></span> Neutral  <span style=\"display: inline-block; width: 10px; height: 10px;                 border: 1px solid; background-color:                 hsl(120, 75%, 50%)\"></span> Positive  </div><tr><th>True Label</th><th>Predicted Label</th><th>Attribution Label</th><th>Attribution Score</th><th>Word Importance</th><tr><td><text style=\"padding-right:2em\"><b>Pos</b></text></td><td><text style=\"padding-right:2em\"><b>Pos (1.00)</b></text></td><td><text style=\"padding-right:2em\"><b>Neg</b></text></td><td><text style=\"padding-right:2em\"><b>-0.29</b></text></td><td><mark style=\"background-color: hsl(120, 75%, 80%); opacity:1.0;                     line-height:1.75\"><font color=\"black\"> #s                    </font></mark><mark style=\"background-color: hsl(0, 75%, 84%); opacity:1.0;                     line-height:1.75\"><font color=\"black\"> watch                    </font></mark><mark style=\"background-color: hsl(120, 75%, 97%); opacity:1.0;                     line-height:1.75\"><font color=\"black\"> ,                    </font></mark><mark style=\"background-color: hsl(0, 75%, 86%); opacity:1.0;                     line-height:1.75\"><font color=\"black\"> giggle                    </font></mark><mark style=\"background-color: hsl(120, 75%, 72%); opacity:1.0;                     line-height:1.75\"><font color=\"black\">                     </font></mark><mark style=\"background-color: hsl(0, 75%, 85%); opacity:1.0;                     line-height:1.75\"><font color=\"black\"> #/s                    </font></mark></td><tr></table>"
      ],
      "text/plain": [
       "<IPython.core.display.HTML object>"
      ]
     },
     "metadata": {},
     "output_type": "display_data"
    },
    {
     "name": "stdout",
     "output_type": "stream",
     "text": [
      "<IPython.core.display.HTML object>\n",
      "Raw review: should jolt you out of your seat a couple of times , give you a few laughs , and leave you feeling like it was worth your seven bucks , even though it does turn out to be a bit of a cheat in the end . \n",
      "GT target: 1\n",
      "asd 50\n"
     ]
    },
    {
     "data": {
      "text/html": [
       "<table width: 100%><div style=\"border-top: 1px solid; margin-top: 5px;             padding-top: 5px; display: inline-block\"><b>Legend: </b><span style=\"display: inline-block; width: 10px; height: 10px;                 border: 1px solid; background-color:                 hsl(0, 75%, 60%)\"></span> Negative  <span style=\"display: inline-block; width: 10px; height: 10px;                 border: 1px solid; background-color:                 hsl(0, 75%, 100%)\"></span> Neutral  <span style=\"display: inline-block; width: 10px; height: 10px;                 border: 1px solid; background-color:                 hsl(120, 75%, 50%)\"></span> Positive  </div><tr><th>True Label</th><th>Predicted Label</th><th>Attribution Label</th><th>Attribution Score</th><th>Word Importance</th><tr><td><text style=\"padding-right:2em\"><b>Pos</b></text></td><td><text style=\"padding-right:2em\"><b>Pos (0.99)</b></text></td><td><text style=\"padding-right:2em\"><b>Pos</b></text></td><td><text style=\"padding-right:2em\"><b>0.67</b></text></td><td><mark style=\"background-color: hsl(0, 75%, 86%); opacity:1.0;                     line-height:1.75\"><font color=\"black\"> #s                    </font></mark><mark style=\"background-color: hsl(120, 75%, 84%); opacity:1.0;                     line-height:1.75\"><font color=\"black\"> should                    </font></mark><mark style=\"background-color: hsl(120, 75%, 100%); opacity:1.0;                     line-height:1.75\"><font color=\"black\"> jolt                    </font></mark><mark style=\"background-color: hsl(120, 75%, 69%); opacity:1.0;                     line-height:1.75\"><font color=\"black\"> you                    </font></mark><mark style=\"background-color: hsl(0, 75%, 100%); opacity:1.0;                     line-height:1.75\"><font color=\"black\"> out                    </font></mark><mark style=\"background-color: hsl(0, 75%, 96%); opacity:1.0;                     line-height:1.75\"><font color=\"black\"> of                    </font></mark><mark style=\"background-color: hsl(0, 75%, 97%); opacity:1.0;                     line-height:1.75\"><font color=\"black\"> your                    </font></mark><mark style=\"background-color: hsl(120, 75%, 100%); opacity:1.0;                     line-height:1.75\"><font color=\"black\"> seat                    </font></mark><mark style=\"background-color: hsl(120, 75%, 93%); opacity:1.0;                     line-height:1.75\"><font color=\"black\"> a                    </font></mark><mark style=\"background-color: hsl(0, 75%, 99%); opacity:1.0;                     line-height:1.75\"><font color=\"black\"> couple                    </font></mark><mark style=\"background-color: hsl(0, 75%, 98%); opacity:1.0;                     line-height:1.75\"><font color=\"black\"> of                    </font></mark><mark style=\"background-color: hsl(0, 75%, 97%); opacity:1.0;                     line-height:1.75\"><font color=\"black\"> times                    </font></mark><mark style=\"background-color: hsl(0, 75%, 100%); opacity:1.0;                     line-height:1.75\"><font color=\"black\"> ,                    </font></mark><mark style=\"background-color: hsl(0, 75%, 99%); opacity:1.0;                     line-height:1.75\"><font color=\"black\"> give                    </font></mark><mark style=\"background-color: hsl(120, 75%, 99%); opacity:1.0;                     line-height:1.75\"><font color=\"black\"> you                    </font></mark><mark style=\"background-color: hsl(0, 75%, 100%); opacity:1.0;                     line-height:1.75\"><font color=\"black\"> a                    </font></mark><mark style=\"background-color: hsl(0, 75%, 100%); opacity:1.0;                     line-height:1.75\"><font color=\"black\"> few                    </font></mark><mark style=\"background-color: hsl(0, 75%, 100%); opacity:1.0;                     line-height:1.75\"><font color=\"black\"> laughs                    </font></mark><mark style=\"background-color: hsl(120, 75%, 91%); opacity:1.0;                     line-height:1.75\"><font color=\"black\"> ,                    </font></mark><mark style=\"background-color: hsl(120, 75%, 100%); opacity:1.0;                     line-height:1.75\"><font color=\"black\"> and                    </font></mark><mark style=\"background-color: hsl(120, 75%, 100%); opacity:1.0;                     line-height:1.75\"><font color=\"black\"> leave                    </font></mark><mark style=\"background-color: hsl(120, 75%, 99%); opacity:1.0;                     line-height:1.75\"><font color=\"black\"> you                    </font></mark><mark style=\"background-color: hsl(0, 75%, 98%); opacity:1.0;                     line-height:1.75\"><font color=\"black\"> feeling                    </font></mark><mark style=\"background-color: hsl(120, 75%, 96%); opacity:1.0;                     line-height:1.75\"><font color=\"black\"> like                    </font></mark><mark style=\"background-color: hsl(120, 75%, 97%); opacity:1.0;                     line-height:1.75\"><font color=\"black\"> it                    </font></mark><mark style=\"background-color: hsl(120, 75%, 98%); opacity:1.0;                     line-height:1.75\"><font color=\"black\"> was                    </font></mark><mark style=\"background-color: hsl(0, 75%, 94%); opacity:1.0;                     line-height:1.75\"><font color=\"black\"> worth                    </font></mark><mark style=\"background-color: hsl(0, 75%, 98%); opacity:1.0;                     line-height:1.75\"><font color=\"black\"> your                    </font></mark><mark style=\"background-color: hsl(120, 75%, 99%); opacity:1.0;                     line-height:1.75\"><font color=\"black\"> seven                    </font></mark><mark style=\"background-color: hsl(0, 75%, 97%); opacity:1.0;                     line-height:1.75\"><font color=\"black\"> bucks                    </font></mark><mark style=\"background-color: hsl(120, 75%, 81%); opacity:1.0;                     line-height:1.75\"><font color=\"black\"> ,                    </font></mark><mark style=\"background-color: hsl(0, 75%, 98%); opacity:1.0;                     line-height:1.75\"><font color=\"black\"> even                    </font></mark><mark style=\"background-color: hsl(120, 75%, 95%); opacity:1.0;                     line-height:1.75\"><font color=\"black\"> though                    </font></mark><mark style=\"background-color: hsl(0, 75%, 97%); opacity:1.0;                     line-height:1.75\"><font color=\"black\"> it                    </font></mark><mark style=\"background-color: hsl(120, 75%, 99%); opacity:1.0;                     line-height:1.75\"><font color=\"black\"> does                    </font></mark><mark style=\"background-color: hsl(120, 75%, 100%); opacity:1.0;                     line-height:1.75\"><font color=\"black\"> turn                    </font></mark><mark style=\"background-color: hsl(120, 75%, 99%); opacity:1.0;                     line-height:1.75\"><font color=\"black\"> out                    </font></mark><mark style=\"background-color: hsl(0, 75%, 100%); opacity:1.0;                     line-height:1.75\"><font color=\"black\"> to                    </font></mark><mark style=\"background-color: hsl(0, 75%, 100%); opacity:1.0;                     line-height:1.75\"><font color=\"black\"> be                    </font></mark><mark style=\"background-color: hsl(120, 75%, 100%); opacity:1.0;                     line-height:1.75\"><font color=\"black\"> a                    </font></mark><mark style=\"background-color: hsl(120, 75%, 100%); opacity:1.0;                     line-height:1.75\"><font color=\"black\"> bit                    </font></mark><mark style=\"background-color: hsl(120, 75%, 98%); opacity:1.0;                     line-height:1.75\"><font color=\"black\"> of                    </font></mark><mark style=\"background-color: hsl(0, 75%, 100%); opacity:1.0;                     line-height:1.75\"><font color=\"black\"> a                    </font></mark><mark style=\"background-color: hsl(0, 75%, 99%); opacity:1.0;                     line-height:1.75\"><font color=\"black\"> cheat                    </font></mark><mark style=\"background-color: hsl(0, 75%, 94%); opacity:1.0;                     line-height:1.75\"><font color=\"black\"> in                    </font></mark><mark style=\"background-color: hsl(120, 75%, 98%); opacity:1.0;                     line-height:1.75\"><font color=\"black\"> the                    </font></mark><mark style=\"background-color: hsl(0, 75%, 100%); opacity:1.0;                     line-height:1.75\"><font color=\"black\"> end                    </font></mark><mark style=\"background-color: hsl(0, 75%, 99%); opacity:1.0;                     line-height:1.75\"><font color=\"black\"> .                    </font></mark><mark style=\"background-color: hsl(0, 75%, 99%); opacity:1.0;                     line-height:1.75\"><font color=\"black\">                     </font></mark><mark style=\"background-color: hsl(120, 75%, 95%); opacity:1.0;                     line-height:1.75\"><font color=\"black\"> #/s                    </font></mark></td><tr></table>"
      ],
      "text/plain": [
       "<IPython.core.display.HTML object>"
      ]
     },
     "metadata": {},
     "output_type": "display_data"
    },
    {
     "name": "stdout",
     "output_type": "stream",
     "text": [
      "<IPython.core.display.HTML object>\n",
      "Raw review: a pretty good job \n",
      "GT target: 1\n",
      "asd 7\n"
     ]
    },
    {
     "data": {
      "text/html": [
       "<table width: 100%><div style=\"border-top: 1px solid; margin-top: 5px;             padding-top: 5px; display: inline-block\"><b>Legend: </b><span style=\"display: inline-block; width: 10px; height: 10px;                 border: 1px solid; background-color:                 hsl(0, 75%, 60%)\"></span> Negative  <span style=\"display: inline-block; width: 10px; height: 10px;                 border: 1px solid; background-color:                 hsl(0, 75%, 100%)\"></span> Neutral  <span style=\"display: inline-block; width: 10px; height: 10px;                 border: 1px solid; background-color:                 hsl(120, 75%, 50%)\"></span> Positive  </div><tr><th>True Label</th><th>Predicted Label</th><th>Attribution Label</th><th>Attribution Score</th><th>Word Importance</th><tr><td><text style=\"padding-right:2em\"><b>Pos</b></text></td><td><text style=\"padding-right:2em\"><b>Pos (1.00)</b></text></td><td><text style=\"padding-right:2em\"><b>Neg</b></text></td><td><text style=\"padding-right:2em\"><b>0.24</b></text></td><td><mark style=\"background-color: hsl(120, 75%, 84%); opacity:1.0;                     line-height:1.75\"><font color=\"black\"> #s                    </font></mark><mark style=\"background-color: hsl(0, 75%, 78%); opacity:1.0;                     line-height:1.75\"><font color=\"black\"> a                    </font></mark><mark style=\"background-color: hsl(120, 75%, 67%); opacity:1.0;                     line-height:1.75\"><font color=\"black\"> pretty                    </font></mark><mark style=\"background-color: hsl(120, 75%, 97%); opacity:1.0;                     line-height:1.75\"><font color=\"black\"> good                    </font></mark><mark style=\"background-color: hsl(120, 75%, 93%); opacity:1.0;                     line-height:1.75\"><font color=\"black\"> job                    </font></mark><mark style=\"background-color: hsl(0, 75%, 93%); opacity:1.0;                     line-height:1.75\"><font color=\"black\">                     </font></mark><mark style=\"background-color: hsl(0, 75%, 91%); opacity:1.0;                     line-height:1.75\"><font color=\"black\"> #/s                    </font></mark></td><tr></table>"
      ],
      "text/plain": [
       "<IPython.core.display.HTML object>"
      ]
     },
     "metadata": {},
     "output_type": "display_data"
    },
    {
     "name": "stdout",
     "output_type": "stream",
     "text": [
      "<IPython.core.display.HTML object>\n",
      "Raw review: more psychotic than romantic \n",
      "GT target: 0\n",
      "asd 7\n"
     ]
    },
    {
     "data": {
      "text/html": [
       "<table width: 100%><div style=\"border-top: 1px solid; margin-top: 5px;             padding-top: 5px; display: inline-block\"><b>Legend: </b><span style=\"display: inline-block; width: 10px; height: 10px;                 border: 1px solid; background-color:                 hsl(0, 75%, 60%)\"></span> Negative  <span style=\"display: inline-block; width: 10px; height: 10px;                 border: 1px solid; background-color:                 hsl(0, 75%, 100%)\"></span> Neutral  <span style=\"display: inline-block; width: 10px; height: 10px;                 border: 1px solid; background-color:                 hsl(120, 75%, 50%)\"></span> Positive  </div><tr><th>True Label</th><th>Predicted Label</th><th>Attribution Label</th><th>Attribution Score</th><th>Word Importance</th><tr><td><text style=\"padding-right:2em\"><b>Neg</b></text></td><td><text style=\"padding-right:2em\"><b>Neg (0.00)</b></text></td><td><text style=\"padding-right:2em\"><b>Pos</b></text></td><td><text style=\"padding-right:2em\"><b>0.97</b></text></td><td><mark style=\"background-color: hsl(0, 75%, 100%); opacity:1.0;                     line-height:1.75\"><font color=\"black\"> #s                    </font></mark><mark style=\"background-color: hsl(120, 75%, 69%); opacity:1.0;                     line-height:1.75\"><font color=\"black\"> more                    </font></mark><mark style=\"background-color: hsl(120, 75%, 90%); opacity:1.0;                     line-height:1.75\"><font color=\"black\"> psychotic                    </font></mark><mark style=\"background-color: hsl(0, 75%, 77%); opacity:1.0;                     line-height:1.75\"><font color=\"black\"> than                    </font></mark><mark style=\"background-color: hsl(120, 75%, 83%); opacity:1.0;                     line-height:1.75\"><font color=\"black\"> romantic                    </font></mark><mark style=\"background-color: hsl(120, 75%, 97%); opacity:1.0;                     line-height:1.75\"><font color=\"black\">                     </font></mark><mark style=\"background-color: hsl(120, 75%, 84%); opacity:1.0;                     line-height:1.75\"><font color=\"black\"> #/s                    </font></mark></td><tr></table>"
      ],
      "text/plain": [
       "<IPython.core.display.HTML object>"
      ]
     },
     "metadata": {},
     "output_type": "display_data"
    },
    {
     "name": "stdout",
     "output_type": "stream",
     "text": [
      "<IPython.core.display.HTML object>\n",
      "Raw review: being gullible \n",
      "GT target: 0\n",
      "asd 5\n"
     ]
    },
    {
     "data": {
      "text/html": [
       "<table width: 100%><div style=\"border-top: 1px solid; margin-top: 5px;             padding-top: 5px; display: inline-block\"><b>Legend: </b><span style=\"display: inline-block; width: 10px; height: 10px;                 border: 1px solid; background-color:                 hsl(0, 75%, 60%)\"></span> Negative  <span style=\"display: inline-block; width: 10px; height: 10px;                 border: 1px solid; background-color:                 hsl(0, 75%, 100%)\"></span> Neutral  <span style=\"display: inline-block; width: 10px; height: 10px;                 border: 1px solid; background-color:                 hsl(120, 75%, 50%)\"></span> Positive  </div><tr><th>True Label</th><th>Predicted Label</th><th>Attribution Label</th><th>Attribution Score</th><th>Word Importance</th><tr><td><text style=\"padding-right:2em\"><b>Neg</b></text></td><td><text style=\"padding-right:2em\"><b>Neg (0.00)</b></text></td><td><text style=\"padding-right:2em\"><b>Neg</b></text></td><td><text style=\"padding-right:2em\"><b>0.34</b></text></td><td><mark style=\"background-color: hsl(120, 75%, 75%); opacity:1.0;                     line-height:1.75\"><font color=\"black\"> #s                    </font></mark><mark style=\"background-color: hsl(120, 75%, 73%); opacity:1.0;                     line-height:1.75\"><font color=\"black\"> being                    </font></mark><mark style=\"background-color: hsl(0, 75%, 98%); opacity:1.0;                     line-height:1.75\"><font color=\"black\"> gullible                    </font></mark><mark style=\"background-color: hsl(0, 75%, 78%); opacity:1.0;                     line-height:1.75\"><font color=\"black\">                     </font></mark><mark style=\"background-color: hsl(0, 75%, 89%); opacity:1.0;                     line-height:1.75\"><font color=\"black\"> #/s                    </font></mark></td><tr></table>"
      ],
      "text/plain": [
       "<IPython.core.display.HTML object>"
      ]
     },
     "metadata": {},
     "output_type": "display_data"
    },
    {
     "name": "stdout",
     "output_type": "stream",
     "text": [
      "<IPython.core.display.HTML object>\n",
      "Raw review: teen-sleaze equivalent \n",
      "GT target: 0\n",
      "asd 5\n"
     ]
    },
    {
     "data": {
      "text/html": [
       "<table width: 100%><div style=\"border-top: 1px solid; margin-top: 5px;             padding-top: 5px; display: inline-block\"><b>Legend: </b><span style=\"display: inline-block; width: 10px; height: 10px;                 border: 1px solid; background-color:                 hsl(0, 75%, 60%)\"></span> Negative  <span style=\"display: inline-block; width: 10px; height: 10px;                 border: 1px solid; background-color:                 hsl(0, 75%, 100%)\"></span> Neutral  <span style=\"display: inline-block; width: 10px; height: 10px;                 border: 1px solid; background-color:                 hsl(120, 75%, 50%)\"></span> Positive  </div><tr><th>True Label</th><th>Predicted Label</th><th>Attribution Label</th><th>Attribution Score</th><th>Word Importance</th><tr><td><text style=\"padding-right:2em\"><b>Neg</b></text></td><td><text style=\"padding-right:2em\"><b>Neg (0.01)</b></text></td><td><text style=\"padding-right:2em\"><b>Neg</b></text></td><td><text style=\"padding-right:2em\"><b>0.35</b></text></td><td><mark style=\"background-color: hsl(0, 75%, 90%); opacity:1.0;                     line-height:1.75\"><font color=\"black\"> #s                    </font></mark><mark style=\"background-color: hsl(120, 75%, 76%); opacity:1.0;                     line-height:1.75\"><font color=\"black\"> teen-sleaze                    </font></mark><mark style=\"background-color: hsl(0, 75%, 73%); opacity:1.0;                     line-height:1.75\"><font color=\"black\"> equivalent                    </font></mark><mark style=\"background-color: hsl(120, 75%, 82%); opacity:1.0;                     line-height:1.75\"><font color=\"black\">                     </font></mark><mark style=\"background-color: hsl(120, 75%, 91%); opacity:1.0;                     line-height:1.75\"><font color=\"black\"> #/s                    </font></mark></td><tr></table>"
      ],
      "text/plain": [
       "<IPython.core.display.HTML object>"
      ]
     },
     "metadata": {},
     "output_type": "display_data"
    },
    {
     "name": "stdout",
     "output_type": "stream",
     "text": [
      "<IPython.core.display.HTML object>\n",
      "Raw review: symbolic \n",
      "GT target: 1\n",
      "asd 4\n"
     ]
    },
    {
     "data": {
      "text/html": [
       "<table width: 100%><div style=\"border-top: 1px solid; margin-top: 5px;             padding-top: 5px; display: inline-block\"><b>Legend: </b><span style=\"display: inline-block; width: 10px; height: 10px;                 border: 1px solid; background-color:                 hsl(0, 75%, 60%)\"></span> Negative  <span style=\"display: inline-block; width: 10px; height: 10px;                 border: 1px solid; background-color:                 hsl(0, 75%, 100%)\"></span> Neutral  <span style=\"display: inline-block; width: 10px; height: 10px;                 border: 1px solid; background-color:                 hsl(120, 75%, 50%)\"></span> Positive  </div><tr><th>True Label</th><th>Predicted Label</th><th>Attribution Label</th><th>Attribution Score</th><th>Word Importance</th><tr><td><text style=\"padding-right:2em\"><b>Pos</b></text></td><td><text style=\"padding-right:2em\"><b>Neg (0.01)</b></text></td><td><text style=\"padding-right:2em\"><b>Neg</b></text></td><td><text style=\"padding-right:2em\"><b>-0.16</b></text></td><td><mark style=\"background-color: hsl(120, 75%, 62%); opacity:1.0;                     line-height:1.75\"><font color=\"black\"> #s                    </font></mark><mark style=\"background-color: hsl(0, 75%, 100%); opacity:1.0;                     line-height:1.75\"><font color=\"black\"> symbolic                    </font></mark><mark style=\"background-color: hsl(0, 75%, 94%); opacity:1.0;                     line-height:1.75\"><font color=\"black\">                     </font></mark><mark style=\"background-color: hsl(0, 75%, 87%); opacity:1.0;                     line-height:1.75\"><font color=\"black\"> #/s                    </font></mark></td><tr></table>"
      ],
      "text/plain": [
       "<IPython.core.display.HTML object>"
      ]
     },
     "metadata": {},
     "output_type": "display_data"
    },
    {
     "name": "stdout",
     "output_type": "stream",
     "text": [
      "<IPython.core.display.HTML object>\n",
      "Raw review: a sense of action \n",
      "GT target: 1\n",
      "asd 7\n"
     ]
    },
    {
     "data": {
      "text/html": [
       "<table width: 100%><div style=\"border-top: 1px solid; margin-top: 5px;             padding-top: 5px; display: inline-block\"><b>Legend: </b><span style=\"display: inline-block; width: 10px; height: 10px;                 border: 1px solid; background-color:                 hsl(0, 75%, 60%)\"></span> Negative  <span style=\"display: inline-block; width: 10px; height: 10px;                 border: 1px solid; background-color:                 hsl(0, 75%, 100%)\"></span> Neutral  <span style=\"display: inline-block; width: 10px; height: 10px;                 border: 1px solid; background-color:                 hsl(120, 75%, 50%)\"></span> Positive  </div><tr><th>True Label</th><th>Predicted Label</th><th>Attribution Label</th><th>Attribution Score</th><th>Word Importance</th><tr><td><text style=\"padding-right:2em\"><b>Pos</b></text></td><td><text style=\"padding-right:2em\"><b>Pos (1.00)</b></text></td><td><text style=\"padding-right:2em\"><b>Neg</b></text></td><td><text style=\"padding-right:2em\"><b>-0.62</b></text></td><td><mark style=\"background-color: hsl(120, 75%, 83%); opacity:1.0;                     line-height:1.75\"><font color=\"black\"> #s                    </font></mark><mark style=\"background-color: hsl(0, 75%, 79%); opacity:1.0;                     line-height:1.75\"><font color=\"black\"> a                    </font></mark><mark style=\"background-color: hsl(120, 75%, 90%); opacity:1.0;                     line-height:1.75\"><font color=\"black\"> sense                    </font></mark><mark style=\"background-color: hsl(0, 75%, 84%); opacity:1.0;                     line-height:1.75\"><font color=\"black\"> of                    </font></mark><mark style=\"background-color: hsl(120, 75%, 86%); opacity:1.0;                     line-height:1.75\"><font color=\"black\"> action                    </font></mark><mark style=\"background-color: hsl(0, 75%, 79%); opacity:1.0;                     line-height:1.75\"><font color=\"black\">                     </font></mark><mark style=\"background-color: hsl(0, 75%, 100%); opacity:1.0;                     line-height:1.75\"><font color=\"black\"> #/s                    </font></mark></td><tr></table>"
      ],
      "text/plain": [
       "<IPython.core.display.HTML object>"
      ]
     },
     "metadata": {},
     "output_type": "display_data"
    },
    {
     "name": "stdout",
     "output_type": "stream",
     "text": [
      "<IPython.core.display.HTML object>\n",
      "Raw review: , overnight , is robbed and replaced with a persecuted `` other \n",
      "GT target: 0\n",
      "asd 15\n"
     ]
    },
    {
     "data": {
      "text/html": [
       "<table width: 100%><div style=\"border-top: 1px solid; margin-top: 5px;             padding-top: 5px; display: inline-block\"><b>Legend: </b><span style=\"display: inline-block; width: 10px; height: 10px;                 border: 1px solid; background-color:                 hsl(0, 75%, 60%)\"></span> Negative  <span style=\"display: inline-block; width: 10px; height: 10px;                 border: 1px solid; background-color:                 hsl(0, 75%, 100%)\"></span> Neutral  <span style=\"display: inline-block; width: 10px; height: 10px;                 border: 1px solid; background-color:                 hsl(120, 75%, 50%)\"></span> Positive  </div><tr><th>True Label</th><th>Predicted Label</th><th>Attribution Label</th><th>Attribution Score</th><th>Word Importance</th><tr><td><text style=\"padding-right:2em\"><b>Neg</b></text></td><td><text style=\"padding-right:2em\"><b>Neg (0.00)</b></text></td><td><text style=\"padding-right:2em\"><b>Neg</b></text></td><td><text style=\"padding-right:2em\"><b>0.14</b></text></td><td><mark style=\"background-color: hsl(0, 75%, 96%); opacity:1.0;                     line-height:1.75\"><font color=\"black\"> #s                    </font></mark><mark style=\"background-color: hsl(120, 75%, 96%); opacity:1.0;                     line-height:1.75\"><font color=\"black\"> ,                    </font></mark><mark style=\"background-color: hsl(0, 75%, 99%); opacity:1.0;                     line-height:1.75\"><font color=\"black\"> overnight                    </font></mark><mark style=\"background-color: hsl(0, 75%, 95%); opacity:1.0;                     line-height:1.75\"><font color=\"black\"> ,                    </font></mark><mark style=\"background-color: hsl(120, 75%, 97%); opacity:1.0;                     line-height:1.75\"><font color=\"black\"> is                    </font></mark><mark style=\"background-color: hsl(120, 75%, 55%); opacity:1.0;                     line-height:1.75\"><font color=\"black\"> robbed                    </font></mark><mark style=\"background-color: hsl(0, 75%, 98%); opacity:1.0;                     line-height:1.75\"><font color=\"black\"> and                    </font></mark><mark style=\"background-color: hsl(0, 75%, 99%); opacity:1.0;                     line-height:1.75\"><font color=\"black\"> replaced                    </font></mark><mark style=\"background-color: hsl(0, 75%, 91%); opacity:1.0;                     line-height:1.75\"><font color=\"black\"> with                    </font></mark><mark style=\"background-color: hsl(0, 75%, 100%); opacity:1.0;                     line-height:1.75\"><font color=\"black\"> a                    </font></mark><mark style=\"background-color: hsl(120, 75%, 97%); opacity:1.0;                     line-height:1.75\"><font color=\"black\"> persecuted                    </font></mark><mark style=\"background-color: hsl(0, 75%, 97%); opacity:1.0;                     line-height:1.75\"><font color=\"black\"> ``                    </font></mark><mark style=\"background-color: hsl(0, 75%, 93%); opacity:1.0;                     line-height:1.75\"><font color=\"black\"> other                    </font></mark><mark style=\"background-color: hsl(0, 75%, 94%); opacity:1.0;                     line-height:1.75\"><font color=\"black\">                     </font></mark><mark style=\"background-color: hsl(120, 75%, 96%); opacity:1.0;                     line-height:1.75\"><font color=\"black\"> #/s                    </font></mark></td><tr></table>"
      ],
      "text/plain": [
       "<IPython.core.display.HTML object>"
      ]
     },
     "metadata": {},
     "output_type": "display_data"
    },
    {
     "name": "stdout",
     "output_type": "stream",
     "text": [
      "<IPython.core.display.HTML object>\n",
      "Raw review: conjure proper respect for followers of the whole dead-undead genre , who deserve more from a vampire pic than a few shrieky special effects \n",
      "GT target: 0\n",
      "asd 27\n"
     ]
    },
    {
     "data": {
      "text/html": [
       "<table width: 100%><div style=\"border-top: 1px solid; margin-top: 5px;             padding-top: 5px; display: inline-block\"><b>Legend: </b><span style=\"display: inline-block; width: 10px; height: 10px;                 border: 1px solid; background-color:                 hsl(0, 75%, 60%)\"></span> Negative  <span style=\"display: inline-block; width: 10px; height: 10px;                 border: 1px solid; background-color:                 hsl(0, 75%, 100%)\"></span> Neutral  <span style=\"display: inline-block; width: 10px; height: 10px;                 border: 1px solid; background-color:                 hsl(120, 75%, 50%)\"></span> Positive  </div><tr><th>True Label</th><th>Predicted Label</th><th>Attribution Label</th><th>Attribution Score</th><th>Word Importance</th><tr><td><text style=\"padding-right:2em\"><b>Neg</b></text></td><td><text style=\"padding-right:2em\"><b>Neg (0.00)</b></text></td><td><text style=\"padding-right:2em\"><b>Neg</b></text></td><td><text style=\"padding-right:2em\"><b>-0.44</b></text></td><td><mark style=\"background-color: hsl(120, 75%, 100%); opacity:1.0;                     line-height:1.75\"><font color=\"black\"> #s                    </font></mark><mark style=\"background-color: hsl(0, 75%, 100%); opacity:1.0;                     line-height:1.75\"><font color=\"black\"> conjure                    </font></mark><mark style=\"background-color: hsl(120, 75%, 93%); opacity:1.0;                     line-height:1.75\"><font color=\"black\"> proper                    </font></mark><mark style=\"background-color: hsl(120, 75%, 96%); opacity:1.0;                     line-height:1.75\"><font color=\"black\"> respect                    </font></mark><mark style=\"background-color: hsl(0, 75%, 92%); opacity:1.0;                     line-height:1.75\"><font color=\"black\"> for                    </font></mark><mark style=\"background-color: hsl(0, 75%, 96%); opacity:1.0;                     line-height:1.75\"><font color=\"black\"> followers                    </font></mark><mark style=\"background-color: hsl(0, 75%, 100%); opacity:1.0;                     line-height:1.75\"><font color=\"black\"> of                    </font></mark><mark style=\"background-color: hsl(120, 75%, 96%); opacity:1.0;                     line-height:1.75\"><font color=\"black\"> the                    </font></mark><mark style=\"background-color: hsl(0, 75%, 98%); opacity:1.0;                     line-height:1.75\"><font color=\"black\"> whole                    </font></mark><mark style=\"background-color: hsl(0, 75%, 100%); opacity:1.0;                     line-height:1.75\"><font color=\"black\"> dead-undead                    </font></mark><mark style=\"background-color: hsl(120, 75%, 94%); opacity:1.0;                     line-height:1.75\"><font color=\"black\"> genre                    </font></mark><mark style=\"background-color: hsl(120, 75%, 80%); opacity:1.0;                     line-height:1.75\"><font color=\"black\"> ,                    </font></mark><mark style=\"background-color: hsl(120, 75%, 97%); opacity:1.0;                     line-height:1.75\"><font color=\"black\"> who                    </font></mark><mark style=\"background-color: hsl(0, 75%, 88%); opacity:1.0;                     line-height:1.75\"><font color=\"black\"> deserve                    </font></mark><mark style=\"background-color: hsl(0, 75%, 79%); opacity:1.0;                     line-height:1.75\"><font color=\"black\"> more                    </font></mark><mark style=\"background-color: hsl(0, 75%, 91%); opacity:1.0;                     line-height:1.75\"><font color=\"black\"> from                    </font></mark><mark style=\"background-color: hsl(120, 75%, 95%); opacity:1.0;                     line-height:1.75\"><font color=\"black\"> a                    </font></mark><mark style=\"background-color: hsl(0, 75%, 100%); opacity:1.0;                     line-height:1.75\"><font color=\"black\"> vampire                    </font></mark><mark style=\"background-color: hsl(0, 75%, 92%); opacity:1.0;                     line-height:1.75\"><font color=\"black\"> pic                    </font></mark><mark style=\"background-color: hsl(0, 75%, 99%); opacity:1.0;                     line-height:1.75\"><font color=\"black\"> than                    </font></mark><mark style=\"background-color: hsl(120, 75%, 97%); opacity:1.0;                     line-height:1.75\"><font color=\"black\"> a                    </font></mark><mark style=\"background-color: hsl(0, 75%, 99%); opacity:1.0;                     line-height:1.75\"><font color=\"black\"> few                    </font></mark><mark style=\"background-color: hsl(120, 75%, 91%); opacity:1.0;                     line-height:1.75\"><font color=\"black\"> shrieky                    </font></mark><mark style=\"background-color: hsl(120, 75%, 91%); opacity:1.0;                     line-height:1.75\"><font color=\"black\"> special                    </font></mark><mark style=\"background-color: hsl(120, 75%, 99%); opacity:1.0;                     line-height:1.75\"><font color=\"black\"> effects                    </font></mark><mark style=\"background-color: hsl(0, 75%, 97%); opacity:1.0;                     line-height:1.75\"><font color=\"black\">                     </font></mark><mark style=\"background-color: hsl(120, 75%, 96%); opacity:1.0;                     line-height:1.75\"><font color=\"black\"> #/s                    </font></mark></td><tr></table>"
      ],
      "text/plain": [
       "<IPython.core.display.HTML object>"
      ]
     },
     "metadata": {},
     "output_type": "display_data"
    },
    {
     "name": "stdout",
     "output_type": "stream",
     "text": [
      "<IPython.core.display.HTML object>\n",
      "Raw review: our culture is headed down the toilet with the ferocity of a frozen burrito after an all-night tequila bender -- and i know this because i 've seen ` jackass : the movie \n",
      "GT target: 0\n",
      "asd 36\n"
     ]
    },
    {
     "data": {
      "text/html": [
       "<table width: 100%><div style=\"border-top: 1px solid; margin-top: 5px;             padding-top: 5px; display: inline-block\"><b>Legend: </b><span style=\"display: inline-block; width: 10px; height: 10px;                 border: 1px solid; background-color:                 hsl(0, 75%, 60%)\"></span> Negative  <span style=\"display: inline-block; width: 10px; height: 10px;                 border: 1px solid; background-color:                 hsl(0, 75%, 100%)\"></span> Neutral  <span style=\"display: inline-block; width: 10px; height: 10px;                 border: 1px solid; background-color:                 hsl(120, 75%, 50%)\"></span> Positive  </div><tr><th>True Label</th><th>Predicted Label</th><th>Attribution Label</th><th>Attribution Score</th><th>Word Importance</th><tr><td><text style=\"padding-right:2em\"><b>Neg</b></text></td><td><text style=\"padding-right:2em\"><b>Neg (0.01)</b></text></td><td><text style=\"padding-right:2em\"><b>Pos</b></text></td><td><text style=\"padding-right:2em\"><b>1.12</b></text></td><td><mark style=\"background-color: hsl(0, 75%, 89%); opacity:1.0;                     line-height:1.75\"><font color=\"black\"> #s                    </font></mark><mark style=\"background-color: hsl(0, 75%, 98%); opacity:1.0;                     line-height:1.75\"><font color=\"black\"> our                    </font></mark><mark style=\"background-color: hsl(120, 75%, 81%); opacity:1.0;                     line-height:1.75\"><font color=\"black\"> culture                    </font></mark><mark style=\"background-color: hsl(120, 75%, 100%); opacity:1.0;                     line-height:1.75\"><font color=\"black\"> is                    </font></mark><mark style=\"background-color: hsl(0, 75%, 91%); opacity:1.0;                     line-height:1.75\"><font color=\"black\"> headed                    </font></mark><mark style=\"background-color: hsl(0, 75%, 98%); opacity:1.0;                     line-height:1.75\"><font color=\"black\"> down                    </font></mark><mark style=\"background-color: hsl(0, 75%, 100%); opacity:1.0;                     line-height:1.75\"><font color=\"black\"> the                    </font></mark><mark style=\"background-color: hsl(120, 75%, 85%); opacity:1.0;                     line-height:1.75\"><font color=\"black\"> toilet                    </font></mark><mark style=\"background-color: hsl(0, 75%, 98%); opacity:1.0;                     line-height:1.75\"><font color=\"black\"> with                    </font></mark><mark style=\"background-color: hsl(120, 75%, 100%); opacity:1.0;                     line-height:1.75\"><font color=\"black\"> the                    </font></mark><mark style=\"background-color: hsl(0, 75%, 97%); opacity:1.0;                     line-height:1.75\"><font color=\"black\"> ferocity                    </font></mark><mark style=\"background-color: hsl(0, 75%, 92%); opacity:1.0;                     line-height:1.75\"><font color=\"black\"> of                    </font></mark><mark style=\"background-color: hsl(0, 75%, 99%); opacity:1.0;                     line-height:1.75\"><font color=\"black\"> a                    </font></mark><mark style=\"background-color: hsl(0, 75%, 98%); opacity:1.0;                     line-height:1.75\"><font color=\"black\"> frozen                    </font></mark><mark style=\"background-color: hsl(120, 75%, 88%); opacity:1.0;                     line-height:1.75\"><font color=\"black\"> burrito                    </font></mark><mark style=\"background-color: hsl(0, 75%, 100%); opacity:1.0;                     line-height:1.75\"><font color=\"black\"> after                    </font></mark><mark style=\"background-color: hsl(120, 75%, 85%); opacity:1.0;                     line-height:1.75\"><font color=\"black\"> an                    </font></mark><mark style=\"background-color: hsl(120, 75%, 97%); opacity:1.0;                     line-height:1.75\"><font color=\"black\"> all-night                    </font></mark><mark style=\"background-color: hsl(0, 75%, 98%); opacity:1.0;                     line-height:1.75\"><font color=\"black\"> tequila                    </font></mark><mark style=\"background-color: hsl(0, 75%, 100%); opacity:1.0;                     line-height:1.75\"><font color=\"black\"> bender                    </font></mark><mark style=\"background-color: hsl(120, 75%, 100%); opacity:1.0;                     line-height:1.75\"><font color=\"black\"> --                    </font></mark><mark style=\"background-color: hsl(0, 75%, 100%); opacity:1.0;                     line-height:1.75\"><font color=\"black\"> and                    </font></mark><mark style=\"background-color: hsl(120, 75%, 100%); opacity:1.0;                     line-height:1.75\"><font color=\"black\"> i                    </font></mark><mark style=\"background-color: hsl(0, 75%, 97%); opacity:1.0;                     line-height:1.75\"><font color=\"black\"> know                    </font></mark><mark style=\"background-color: hsl(0, 75%, 99%); opacity:1.0;                     line-height:1.75\"><font color=\"black\"> this                    </font></mark><mark style=\"background-color: hsl(120, 75%, 98%); opacity:1.0;                     line-height:1.75\"><font color=\"black\"> because                    </font></mark><mark style=\"background-color: hsl(120, 75%, 89%); opacity:1.0;                     line-height:1.75\"><font color=\"black\"> i                    </font></mark><mark style=\"background-color: hsl(120, 75%, 99%); opacity:1.0;                     line-height:1.75\"><font color=\"black\"> 've                    </font></mark><mark style=\"background-color: hsl(0, 75%, 99%); opacity:1.0;                     line-height:1.75\"><font color=\"black\"> seen                    </font></mark><mark style=\"background-color: hsl(0, 75%, 99%); opacity:1.0;                     line-height:1.75\"><font color=\"black\"> `                    </font></mark><mark style=\"background-color: hsl(120, 75%, 98%); opacity:1.0;                     line-height:1.75\"><font color=\"black\"> jackass                    </font></mark><mark style=\"background-color: hsl(120, 75%, 100%); opacity:1.0;                     line-height:1.75\"><font color=\"black\"> :                    </font></mark><mark style=\"background-color: hsl(0, 75%, 98%); opacity:1.0;                     line-height:1.75\"><font color=\"black\"> the                    </font></mark><mark style=\"background-color: hsl(120, 75%, 99%); opacity:1.0;                     line-height:1.75\"><font color=\"black\"> movie                    </font></mark><mark style=\"background-color: hsl(120, 75%, 99%); opacity:1.0;                     line-height:1.75\"><font color=\"black\">                     </font></mark><mark style=\"background-color: hsl(0, 75%, 98%); opacity:1.0;                     line-height:1.75\"><font color=\"black\"> #/s                    </font></mark></td><tr></table>"
      ],
      "text/plain": [
       "<IPython.core.display.HTML object>"
      ]
     },
     "metadata": {},
     "output_type": "display_data"
    },
    {
     "name": "stdout",
     "output_type": "stream",
     "text": [
      "<IPython.core.display.HTML object>\n",
      "Raw review: 's all surface psychodramatics \n",
      "GT target: 0\n",
      "asd 7\n"
     ]
    },
    {
     "data": {
      "text/html": [
       "<table width: 100%><div style=\"border-top: 1px solid; margin-top: 5px;             padding-top: 5px; display: inline-block\"><b>Legend: </b><span style=\"display: inline-block; width: 10px; height: 10px;                 border: 1px solid; background-color:                 hsl(0, 75%, 60%)\"></span> Negative  <span style=\"display: inline-block; width: 10px; height: 10px;                 border: 1px solid; background-color:                 hsl(0, 75%, 100%)\"></span> Neutral  <span style=\"display: inline-block; width: 10px; height: 10px;                 border: 1px solid; background-color:                 hsl(120, 75%, 50%)\"></span> Positive  </div><tr><th>True Label</th><th>Predicted Label</th><th>Attribution Label</th><th>Attribution Score</th><th>Word Importance</th><tr><td><text style=\"padding-right:2em\"><b>Neg</b></text></td><td><text style=\"padding-right:2em\"><b>Neg (0.00)</b></text></td><td><text style=\"padding-right:2em\"><b>Pos</b></text></td><td><text style=\"padding-right:2em\"><b>0.56</b></text></td><td><mark style=\"background-color: hsl(0, 75%, 90%); opacity:1.0;                     line-height:1.75\"><font color=\"black\"> #s                    </font></mark><mark style=\"background-color: hsl(0, 75%, 97%); opacity:1.0;                     line-height:1.75\"><font color=\"black\"> 's                    </font></mark><mark style=\"background-color: hsl(0, 75%, 87%); opacity:1.0;                     line-height:1.75\"><font color=\"black\"> all                    </font></mark><mark style=\"background-color: hsl(120, 75%, 59%); opacity:1.0;                     line-height:1.75\"><font color=\"black\"> surface                    </font></mark><mark style=\"background-color: hsl(120, 75%, 95%); opacity:1.0;                     line-height:1.75\"><font color=\"black\"> psychodramatics                    </font></mark><mark style=\"background-color: hsl(120, 75%, 96%); opacity:1.0;                     line-height:1.75\"><font color=\"black\">                     </font></mark><mark style=\"background-color: hsl(0, 75%, 96%); opacity:1.0;                     line-height:1.75\"><font color=\"black\"> #/s                    </font></mark></td><tr></table>"
      ],
      "text/plain": [
       "<IPython.core.display.HTML object>"
      ]
     },
     "metadata": {},
     "output_type": "display_data"
    },
    {
     "name": "stdout",
     "output_type": "stream",
     "text": [
      "<IPython.core.display.HTML object>\n",
      "Raw review: a beautiful food entrée that is n't heated properly , so that it ends up a bit cold and relatively flavorless \n",
      "GT target: 0\n",
      "asd 24\n"
     ]
    },
    {
     "data": {
      "text/html": [
       "<table width: 100%><div style=\"border-top: 1px solid; margin-top: 5px;             padding-top: 5px; display: inline-block\"><b>Legend: </b><span style=\"display: inline-block; width: 10px; height: 10px;                 border: 1px solid; background-color:                 hsl(0, 75%, 60%)\"></span> Negative  <span style=\"display: inline-block; width: 10px; height: 10px;                 border: 1px solid; background-color:                 hsl(0, 75%, 100%)\"></span> Neutral  <span style=\"display: inline-block; width: 10px; height: 10px;                 border: 1px solid; background-color:                 hsl(120, 75%, 50%)\"></span> Positive  </div><tr><th>True Label</th><th>Predicted Label</th><th>Attribution Label</th><th>Attribution Score</th><th>Word Importance</th><tr><td><text style=\"padding-right:2em\"><b>Neg</b></text></td><td><text style=\"padding-right:2em\"><b>Neg (0.00)</b></text></td><td><text style=\"padding-right:2em\"><b>Pos</b></text></td><td><text style=\"padding-right:2em\"><b>0.68</b></text></td><td><mark style=\"background-color: hsl(0, 75%, 100%); opacity:1.0;                     line-height:1.75\"><font color=\"black\"> #s                    </font></mark><mark style=\"background-color: hsl(120, 75%, 100%); opacity:1.0;                     line-height:1.75\"><font color=\"black\"> a                    </font></mark><mark style=\"background-color: hsl(120, 75%, 68%); opacity:1.0;                     line-height:1.75\"><font color=\"black\"> beautiful                    </font></mark><mark style=\"background-color: hsl(120, 75%, 80%); opacity:1.0;                     line-height:1.75\"><font color=\"black\"> food                    </font></mark><mark style=\"background-color: hsl(0, 75%, 94%); opacity:1.0;                     line-height:1.75\"><font color=\"black\"> entrÃ©e                    </font></mark><mark style=\"background-color: hsl(120, 75%, 93%); opacity:1.0;                     line-height:1.75\"><font color=\"black\"> that                    </font></mark><mark style=\"background-color: hsl(0, 75%, 98%); opacity:1.0;                     line-height:1.75\"><font color=\"black\"> is                    </font></mark><mark style=\"background-color: hsl(120, 75%, 97%); opacity:1.0;                     line-height:1.75\"><font color=\"black\"> n't                    </font></mark><mark style=\"background-color: hsl(0, 75%, 100%); opacity:1.0;                     line-height:1.75\"><font color=\"black\"> heated                    </font></mark><mark style=\"background-color: hsl(0, 75%, 99%); opacity:1.0;                     line-height:1.75\"><font color=\"black\"> properly                    </font></mark><mark style=\"background-color: hsl(0, 75%, 96%); opacity:1.0;                     line-height:1.75\"><font color=\"black\"> ,                    </font></mark><mark style=\"background-color: hsl(120, 75%, 97%); opacity:1.0;                     line-height:1.75\"><font color=\"black\"> so                    </font></mark><mark style=\"background-color: hsl(120, 75%, 91%); opacity:1.0;                     line-height:1.75\"><font color=\"black\"> that                    </font></mark><mark style=\"background-color: hsl(120, 75%, 98%); opacity:1.0;                     line-height:1.75\"><font color=\"black\"> it                    </font></mark><mark style=\"background-color: hsl(0, 75%, 96%); opacity:1.0;                     line-height:1.75\"><font color=\"black\"> ends                    </font></mark><mark style=\"background-color: hsl(0, 75%, 99%); opacity:1.0;                     line-height:1.75\"><font color=\"black\"> up                    </font></mark><mark style=\"background-color: hsl(120, 75%, 84%); opacity:1.0;                     line-height:1.75\"><font color=\"black\"> a                    </font></mark><mark style=\"background-color: hsl(120, 75%, 100%); opacity:1.0;                     line-height:1.75\"><font color=\"black\"> bit                    </font></mark><mark style=\"background-color: hsl(0, 75%, 100%); opacity:1.0;                     line-height:1.75\"><font color=\"black\"> cold                    </font></mark><mark style=\"background-color: hsl(0, 75%, 94%); opacity:1.0;                     line-height:1.75\"><font color=\"black\"> and                    </font></mark><mark style=\"background-color: hsl(0, 75%, 89%); opacity:1.0;                     line-height:1.75\"><font color=\"black\"> relatively                    </font></mark><mark style=\"background-color: hsl(0, 75%, 93%); opacity:1.0;                     line-height:1.75\"><font color=\"black\"> flavorless                    </font></mark><mark style=\"background-color: hsl(120, 75%, 100%); opacity:1.0;                     line-height:1.75\"><font color=\"black\">                     </font></mark><mark style=\"background-color: hsl(120, 75%, 96%); opacity:1.0;                     line-height:1.75\"><font color=\"black\"> #/s                    </font></mark></td><tr></table>"
      ],
      "text/plain": [
       "<IPython.core.display.HTML object>"
      ]
     },
     "metadata": {},
     "output_type": "display_data"
    },
    {
     "name": "stdout",
     "output_type": "stream",
     "text": [
      "<IPython.core.display.HTML object>\n",
      "Raw review: never mind all that ; the boobs are fantasti \n",
      "GT target: 1\n",
      "asd 12\n"
     ]
    },
    {
     "data": {
      "text/html": [
       "<table width: 100%><div style=\"border-top: 1px solid; margin-top: 5px;             padding-top: 5px; display: inline-block\"><b>Legend: </b><span style=\"display: inline-block; width: 10px; height: 10px;                 border: 1px solid; background-color:                 hsl(0, 75%, 60%)\"></span> Negative  <span style=\"display: inline-block; width: 10px; height: 10px;                 border: 1px solid; background-color:                 hsl(0, 75%, 100%)\"></span> Neutral  <span style=\"display: inline-block; width: 10px; height: 10px;                 border: 1px solid; background-color:                 hsl(120, 75%, 50%)\"></span> Positive  </div><tr><th>True Label</th><th>Predicted Label</th><th>Attribution Label</th><th>Attribution Score</th><th>Word Importance</th><tr><td><text style=\"padding-right:2em\"><b>Pos</b></text></td><td><text style=\"padding-right:2em\"><b>Pos (1.00)</b></text></td><td><text style=\"padding-right:2em\"><b>Neg</b></text></td><td><text style=\"padding-right:2em\"><b>-0.67</b></text></td><td><mark style=\"background-color: hsl(0, 75%, 89%); opacity:1.0;                     line-height:1.75\"><font color=\"black\"> #s                    </font></mark><mark style=\"background-color: hsl(0, 75%, 69%); opacity:1.0;                     line-height:1.75\"><font color=\"black\"> never                    </font></mark><mark style=\"background-color: hsl(0, 75%, 95%); opacity:1.0;                     line-height:1.75\"><font color=\"black\"> mind                    </font></mark><mark style=\"background-color: hsl(120, 75%, 97%); opacity:1.0;                     line-height:1.75\"><font color=\"black\"> all                    </font></mark><mark style=\"background-color: hsl(120, 75%, 94%); opacity:1.0;                     line-height:1.75\"><font color=\"black\"> that                    </font></mark><mark style=\"background-color: hsl(120, 75%, 92%); opacity:1.0;                     line-height:1.75\"><font color=\"black\"> ;                    </font></mark><mark style=\"background-color: hsl(0, 75%, 98%); opacity:1.0;                     line-height:1.75\"><font color=\"black\"> the                    </font></mark><mark style=\"background-color: hsl(120, 75%, 88%); opacity:1.0;                     line-height:1.75\"><font color=\"black\"> boobs                    </font></mark><mark style=\"background-color: hsl(120, 75%, 88%); opacity:1.0;                     line-height:1.75\"><font color=\"black\"> are                    </font></mark><mark style=\"background-color: hsl(0, 75%, 92%); opacity:1.0;                     line-height:1.75\"><font color=\"black\"> fantasti                    </font></mark><mark style=\"background-color: hsl(120, 75%, 96%); opacity:1.0;                     line-height:1.75\"><font color=\"black\">                     </font></mark><mark style=\"background-color: hsl(120, 75%, 100%); opacity:1.0;                     line-height:1.75\"><font color=\"black\"> #/s                    </font></mark></td><tr></table>"
      ],
      "text/plain": [
       "<IPython.core.display.HTML object>"
      ]
     },
     "metadata": {},
     "output_type": "display_data"
    },
    {
     "name": "stdout",
     "output_type": "stream",
     "text": [
      "<IPython.core.display.HTML object>\n",
      "Raw review: possibly will enjoy it \n",
      "GT target: 1\n",
      "asd 7\n"
     ]
    },
    {
     "data": {
      "text/html": [
       "<table width: 100%><div style=\"border-top: 1px solid; margin-top: 5px;             padding-top: 5px; display: inline-block\"><b>Legend: </b><span style=\"display: inline-block; width: 10px; height: 10px;                 border: 1px solid; background-color:                 hsl(0, 75%, 60%)\"></span> Negative  <span style=\"display: inline-block; width: 10px; height: 10px;                 border: 1px solid; background-color:                 hsl(0, 75%, 100%)\"></span> Neutral  <span style=\"display: inline-block; width: 10px; height: 10px;                 border: 1px solid; background-color:                 hsl(120, 75%, 50%)\"></span> Positive  </div><tr><th>True Label</th><th>Predicted Label</th><th>Attribution Label</th><th>Attribution Score</th><th>Word Importance</th><tr><td><text style=\"padding-right:2em\"><b>Pos</b></text></td><td><text style=\"padding-right:2em\"><b>Pos (1.00)</b></text></td><td><text style=\"padding-right:2em\"><b>Neg</b></text></td><td><text style=\"padding-right:2em\"><b>-0.32</b></text></td><td><mark style=\"background-color: hsl(0, 75%, 100%); opacity:1.0;                     line-height:1.75\"><font color=\"black\"> #s                    </font></mark><mark style=\"background-color: hsl(120, 75%, 66%); opacity:1.0;                     line-height:1.75\"><font color=\"black\"> possibly                    </font></mark><mark style=\"background-color: hsl(120, 75%, 100%); opacity:1.0;                     line-height:1.75\"><font color=\"black\"> will                    </font></mark><mark style=\"background-color: hsl(0, 75%, 81%); opacity:1.0;                     line-height:1.75\"><font color=\"black\"> enjoy                    </font></mark><mark style=\"background-color: hsl(120, 75%, 92%); opacity:1.0;                     line-height:1.75\"><font color=\"black\"> it                    </font></mark><mark style=\"background-color: hsl(0, 75%, 81%); opacity:1.0;                     line-height:1.75\"><font color=\"black\">                     </font></mark><mark style=\"background-color: hsl(0, 75%, 93%); opacity:1.0;                     line-height:1.75\"><font color=\"black\"> #/s                    </font></mark></td><tr></table>"
      ],
      "text/plain": [
       "<IPython.core.display.HTML object>"
      ]
     },
     "metadata": {},
     "output_type": "display_data"
    },
    {
     "name": "stdout",
     "output_type": "stream",
     "text": [
      "<IPython.core.display.HTML object>\n",
      "Raw review: to give them credit for : the message of the movie \n",
      "GT target: 1\n",
      "asd 14\n"
     ]
    },
    {
     "data": {
      "text/html": [
       "<table width: 100%><div style=\"border-top: 1px solid; margin-top: 5px;             padding-top: 5px; display: inline-block\"><b>Legend: </b><span style=\"display: inline-block; width: 10px; height: 10px;                 border: 1px solid; background-color:                 hsl(0, 75%, 60%)\"></span> Negative  <span style=\"display: inline-block; width: 10px; height: 10px;                 border: 1px solid; background-color:                 hsl(0, 75%, 100%)\"></span> Neutral  <span style=\"display: inline-block; width: 10px; height: 10px;                 border: 1px solid; background-color:                 hsl(120, 75%, 50%)\"></span> Positive  </div><tr><th>True Label</th><th>Predicted Label</th><th>Attribution Label</th><th>Attribution Score</th><th>Word Importance</th><tr><td><text style=\"padding-right:2em\"><b>Pos</b></text></td><td><text style=\"padding-right:2em\"><b>Pos (1.00)</b></text></td><td><text style=\"padding-right:2em\"><b>Pos</b></text></td><td><text style=\"padding-right:2em\"><b>1.14</b></text></td><td><mark style=\"background-color: hsl(0, 75%, 97%); opacity:1.0;                     line-height:1.75\"><font color=\"black\"> #s                    </font></mark><mark style=\"background-color: hsl(0, 75%, 92%); opacity:1.0;                     line-height:1.75\"><font color=\"black\"> to                    </font></mark><mark style=\"background-color: hsl(120, 75%, 91%); opacity:1.0;                     line-height:1.75\"><font color=\"black\"> give                    </font></mark><mark style=\"background-color: hsl(0, 75%, 96%); opacity:1.0;                     line-height:1.75\"><font color=\"black\"> them                    </font></mark><mark style=\"background-color: hsl(120, 75%, 69%); opacity:1.0;                     line-height:1.75\"><font color=\"black\"> credit                    </font></mark><mark style=\"background-color: hsl(0, 75%, 100%); opacity:1.0;                     line-height:1.75\"><font color=\"black\"> for                    </font></mark><mark style=\"background-color: hsl(120, 75%, 81%); opacity:1.0;                     line-height:1.75\"><font color=\"black\"> :                    </font></mark><mark style=\"background-color: hsl(0, 75%, 98%); opacity:1.0;                     line-height:1.75\"><font color=\"black\"> the                    </font></mark><mark style=\"background-color: hsl(120, 75%, 85%); opacity:1.0;                     line-height:1.75\"><font color=\"black\"> message                    </font></mark><mark style=\"background-color: hsl(120, 75%, 93%); opacity:1.0;                     line-height:1.75\"><font color=\"black\"> of                    </font></mark><mark style=\"background-color: hsl(0, 75%, 92%); opacity:1.0;                     line-height:1.75\"><font color=\"black\"> the                    </font></mark><mark style=\"background-color: hsl(120, 75%, 83%); opacity:1.0;                     line-height:1.75\"><font color=\"black\"> movie                    </font></mark><mark style=\"background-color: hsl(0, 75%, 92%); opacity:1.0;                     line-height:1.75\"><font color=\"black\">                     </font></mark><mark style=\"background-color: hsl(120, 75%, 99%); opacity:1.0;                     line-height:1.75\"><font color=\"black\"> #/s                    </font></mark></td><tr></table>"
      ],
      "text/plain": [
       "<IPython.core.display.HTML object>"
      ]
     },
     "metadata": {},
     "output_type": "display_data"
    },
    {
     "name": "stdout",
     "output_type": "stream",
     "text": [
      "<IPython.core.display.HTML object>\n",
      "Raw review: dudsville \n",
      "GT target: 0\n",
      "asd 4\n"
     ]
    },
    {
     "data": {
      "text/html": [
       "<table width: 100%><div style=\"border-top: 1px solid; margin-top: 5px;             padding-top: 5px; display: inline-block\"><b>Legend: </b><span style=\"display: inline-block; width: 10px; height: 10px;                 border: 1px solid; background-color:                 hsl(0, 75%, 60%)\"></span> Negative  <span style=\"display: inline-block; width: 10px; height: 10px;                 border: 1px solid; background-color:                 hsl(0, 75%, 100%)\"></span> Neutral  <span style=\"display: inline-block; width: 10px; height: 10px;                 border: 1px solid; background-color:                 hsl(120, 75%, 50%)\"></span> Positive  </div><tr><th>True Label</th><th>Predicted Label</th><th>Attribution Label</th><th>Attribution Score</th><th>Word Importance</th><tr><td><text style=\"padding-right:2em\"><b>Neg</b></text></td><td><text style=\"padding-right:2em\"><b>Neg (0.00)</b></text></td><td><text style=\"padding-right:2em\"><b>Neg</b></text></td><td><text style=\"padding-right:2em\"><b>-0.30</b></text></td><td><mark style=\"background-color: hsl(120, 75%, 91%); opacity:1.0;                     line-height:1.75\"><font color=\"black\"> #s                    </font></mark><mark style=\"background-color: hsl(120, 75%, 97%); opacity:1.0;                     line-height:1.75\"><font color=\"black\"> dudsville                    </font></mark><mark style=\"background-color: hsl(0, 75%, 81%); opacity:1.0;                     line-height:1.75\"><font color=\"black\">                     </font></mark><mark style=\"background-color: hsl(0, 75%, 72%); opacity:1.0;                     line-height:1.75\"><font color=\"black\"> #/s                    </font></mark></td><tr></table>"
      ],
      "text/plain": [
       "<IPython.core.display.HTML object>"
      ]
     },
     "metadata": {},
     "output_type": "display_data"
    },
    {
     "name": "stdout",
     "output_type": "stream",
     "text": [
      "<IPython.core.display.HTML object>\n",
      "Raw review: unadorned \n",
      "GT target: 0\n",
      "asd 4\n"
     ]
    },
    {
     "data": {
      "text/html": [
       "<table width: 100%><div style=\"border-top: 1px solid; margin-top: 5px;             padding-top: 5px; display: inline-block\"><b>Legend: </b><span style=\"display: inline-block; width: 10px; height: 10px;                 border: 1px solid; background-color:                 hsl(0, 75%, 60%)\"></span> Negative  <span style=\"display: inline-block; width: 10px; height: 10px;                 border: 1px solid; background-color:                 hsl(0, 75%, 100%)\"></span> Neutral  <span style=\"display: inline-block; width: 10px; height: 10px;                 border: 1px solid; background-color:                 hsl(120, 75%, 50%)\"></span> Positive  </div><tr><th>True Label</th><th>Predicted Label</th><th>Attribution Label</th><th>Attribution Score</th><th>Word Importance</th><tr><td><text style=\"padding-right:2em\"><b>Neg</b></text></td><td><text style=\"padding-right:2em\"><b>Pos (1.00)</b></text></td><td><text style=\"padding-right:2em\"><b>Pos</b></text></td><td><text style=\"padding-right:2em\"><b>1.23</b></text></td><td><mark style=\"background-color: hsl(0, 75%, 86%); opacity:1.0;                     line-height:1.75\"><font color=\"black\"> #s                    </font></mark><mark style=\"background-color: hsl(120, 75%, 96%); opacity:1.0;                     line-height:1.75\"><font color=\"black\"> unadorned                    </font></mark><mark style=\"background-color: hsl(120, 75%, 87%); opacity:1.0;                     line-height:1.75\"><font color=\"black\">                     </font></mark><mark style=\"background-color: hsl(120, 75%, 78%); opacity:1.0;                     line-height:1.75\"><font color=\"black\"> #/s                    </font></mark></td><tr></table>"
      ],
      "text/plain": [
       "<IPython.core.display.HTML object>"
      ]
     },
     "metadata": {},
     "output_type": "display_data"
    },
    {
     "name": "stdout",
     "output_type": "stream",
     "text": [
      "<IPython.core.display.HTML object>\n",
      "Raw review: if you give a filmmaker an unlimited amount of phony blood \n",
      "GT target: 0\n",
      "asd 14\n"
     ]
    },
    {
     "data": {
      "text/html": [
       "<table width: 100%><div style=\"border-top: 1px solid; margin-top: 5px;             padding-top: 5px; display: inline-block\"><b>Legend: </b><span style=\"display: inline-block; width: 10px; height: 10px;                 border: 1px solid; background-color:                 hsl(0, 75%, 60%)\"></span> Negative  <span style=\"display: inline-block; width: 10px; height: 10px;                 border: 1px solid; background-color:                 hsl(0, 75%, 100%)\"></span> Neutral  <span style=\"display: inline-block; width: 10px; height: 10px;                 border: 1px solid; background-color:                 hsl(120, 75%, 50%)\"></span> Positive  </div><tr><th>True Label</th><th>Predicted Label</th><th>Attribution Label</th><th>Attribution Score</th><th>Word Importance</th><tr><td><text style=\"padding-right:2em\"><b>Neg</b></text></td><td><text style=\"padding-right:2em\"><b>Neg (0.00)</b></text></td><td><text style=\"padding-right:2em\"><b>Pos</b></text></td><td><text style=\"padding-right:2em\"><b>0.58</b></text></td><td><mark style=\"background-color: hsl(120, 75%, 89%); opacity:1.0;                     line-height:1.75\"><font color=\"black\"> #s                    </font></mark><mark style=\"background-color: hsl(0, 75%, 95%); opacity:1.0;                     line-height:1.75\"><font color=\"black\"> if                    </font></mark><mark style=\"background-color: hsl(120, 75%, 86%); opacity:1.0;                     line-height:1.75\"><font color=\"black\"> you                    </font></mark><mark style=\"background-color: hsl(120, 75%, 97%); opacity:1.0;                     line-height:1.75\"><font color=\"black\"> give                    </font></mark><mark style=\"background-color: hsl(0, 75%, 98%); opacity:1.0;                     line-height:1.75\"><font color=\"black\"> a                    </font></mark><mark style=\"background-color: hsl(120, 75%, 95%); opacity:1.0;                     line-height:1.75\"><font color=\"black\"> filmmaker                    </font></mark><mark style=\"background-color: hsl(0, 75%, 99%); opacity:1.0;                     line-height:1.75\"><font color=\"black\"> an                    </font></mark><mark style=\"background-color: hsl(0, 75%, 96%); opacity:1.0;                     line-height:1.75\"><font color=\"black\"> unlimited                    </font></mark><mark style=\"background-color: hsl(0, 75%, 93%); opacity:1.0;                     line-height:1.75\"><font color=\"black\"> amount                    </font></mark><mark style=\"background-color: hsl(0, 75%, 96%); opacity:1.0;                     line-height:1.75\"><font color=\"black\"> of                    </font></mark><mark style=\"background-color: hsl(120, 75%, 64%); opacity:1.0;                     line-height:1.75\"><font color=\"black\"> phony                    </font></mark><mark style=\"background-color: hsl(0, 75%, 84%); opacity:1.0;                     line-height:1.75\"><font color=\"black\"> blood                    </font></mark><mark style=\"background-color: hsl(120, 75%, 90%); opacity:1.0;                     line-height:1.75\"><font color=\"black\">                     </font></mark><mark style=\"background-color: hsl(120, 75%, 98%); opacity:1.0;                     line-height:1.75\"><font color=\"black\"> #/s                    </font></mark></td><tr></table>"
      ],
      "text/plain": [
       "<IPython.core.display.HTML object>"
      ]
     },
     "metadata": {},
     "output_type": "display_data"
    },
    {
     "name": "stdout",
     "output_type": "stream",
     "text": [
      "<IPython.core.display.HTML object>\n",
      "Raw review: absurdity \n",
      "GT target: 0\n",
      "asd 4\n"
     ]
    },
    {
     "data": {
      "text/html": [
       "<table width: 100%><div style=\"border-top: 1px solid; margin-top: 5px;             padding-top: 5px; display: inline-block\"><b>Legend: </b><span style=\"display: inline-block; width: 10px; height: 10px;                 border: 1px solid; background-color:                 hsl(0, 75%, 60%)\"></span> Negative  <span style=\"display: inline-block; width: 10px; height: 10px;                 border: 1px solid; background-color:                 hsl(0, 75%, 100%)\"></span> Neutral  <span style=\"display: inline-block; width: 10px; height: 10px;                 border: 1px solid; background-color:                 hsl(120, 75%, 50%)\"></span> Positive  </div><tr><th>True Label</th><th>Predicted Label</th><th>Attribution Label</th><th>Attribution Score</th><th>Word Importance</th><tr><td><text style=\"padding-right:2em\"><b>Neg</b></text></td><td><text style=\"padding-right:2em\"><b>Neg (0.00)</b></text></td><td><text style=\"padding-right:2em\"><b>Neg</b></text></td><td><text style=\"padding-right:2em\"><b>-0.20</b></text></td><td><mark style=\"background-color: hsl(120, 75%, 99%); opacity:1.0;                     line-height:1.75\"><font color=\"black\"> #s                    </font></mark><mark style=\"background-color: hsl(0, 75%, 80%); opacity:1.0;                     line-height:1.75\"><font color=\"black\"> absurdity                    </font></mark><mark style=\"background-color: hsl(120, 75%, 87%); opacity:1.0;                     line-height:1.75\"><font color=\"black\">                     </font></mark><mark style=\"background-color: hsl(120, 75%, 69%); opacity:1.0;                     line-height:1.75\"><font color=\"black\"> #/s                    </font></mark></td><tr></table>"
      ],
      "text/plain": [
       "<IPython.core.display.HTML object>"
      ]
     },
     "metadata": {},
     "output_type": "display_data"
    },
    {
     "name": "stdout",
     "output_type": "stream",
     "text": [
      "<IPython.core.display.HTML object>\n",
      "Raw review: an unforgettable \n",
      "GT target: 1\n",
      "asd 5\n"
     ]
    },
    {
     "data": {
      "text/html": [
       "<table width: 100%><div style=\"border-top: 1px solid; margin-top: 5px;             padding-top: 5px; display: inline-block\"><b>Legend: </b><span style=\"display: inline-block; width: 10px; height: 10px;                 border: 1px solid; background-color:                 hsl(0, 75%, 60%)\"></span> Negative  <span style=\"display: inline-block; width: 10px; height: 10px;                 border: 1px solid; background-color:                 hsl(0, 75%, 100%)\"></span> Neutral  <span style=\"display: inline-block; width: 10px; height: 10px;                 border: 1px solid; background-color:                 hsl(120, 75%, 50%)\"></span> Positive  </div><tr><th>True Label</th><th>Predicted Label</th><th>Attribution Label</th><th>Attribution Score</th><th>Word Importance</th><tr><td><text style=\"padding-right:2em\"><b>Pos</b></text></td><td><text style=\"padding-right:2em\"><b>Pos (1.00)</b></text></td><td><text style=\"padding-right:2em\"><b>Neg</b></text></td><td><text style=\"padding-right:2em\"><b>-0.36</b></text></td><td><mark style=\"background-color: hsl(0, 75%, 95%); opacity:1.0;                     line-height:1.75\"><font color=\"black\"> #s                    </font></mark><mark style=\"background-color: hsl(0, 75%, 82%); opacity:1.0;                     line-height:1.75\"><font color=\"black\"> an                    </font></mark><mark style=\"background-color: hsl(120, 75%, 63%); opacity:1.0;                     line-height:1.75\"><font color=\"black\"> unforgettable                    </font></mark><mark style=\"background-color: hsl(0, 75%, 82%); opacity:1.0;                     line-height:1.75\"><font color=\"black\">                     </font></mark><mark style=\"background-color: hsl(0, 75%, 98%); opacity:1.0;                     line-height:1.75\"><font color=\"black\"> #/s                    </font></mark></td><tr></table>"
      ],
      "text/plain": [
       "<IPython.core.display.HTML object>"
      ]
     },
     "metadata": {},
     "output_type": "display_data"
    },
    {
     "name": "stdout",
     "output_type": "stream",
     "text": [
      "<IPython.core.display.HTML object>\n",
      "Raw review: ( rises ) above its oh-so-hollywood rejiggering and its conventional direction to give the film a soul and an unabashed sense of good old-fashioned escapism \n",
      "GT target: 1\n",
      "asd 28\n"
     ]
    },
    {
     "data": {
      "text/html": [
       "<table width: 100%><div style=\"border-top: 1px solid; margin-top: 5px;             padding-top: 5px; display: inline-block\"><b>Legend: </b><span style=\"display: inline-block; width: 10px; height: 10px;                 border: 1px solid; background-color:                 hsl(0, 75%, 60%)\"></span> Negative  <span style=\"display: inline-block; width: 10px; height: 10px;                 border: 1px solid; background-color:                 hsl(0, 75%, 100%)\"></span> Neutral  <span style=\"display: inline-block; width: 10px; height: 10px;                 border: 1px solid; background-color:                 hsl(120, 75%, 50%)\"></span> Positive  </div><tr><th>True Label</th><th>Predicted Label</th><th>Attribution Label</th><th>Attribution Score</th><th>Word Importance</th><tr><td><text style=\"padding-right:2em\"><b>Pos</b></text></td><td><text style=\"padding-right:2em\"><b>Pos (1.00)</b></text></td><td><text style=\"padding-right:2em\"><b>Pos</b></text></td><td><text style=\"padding-right:2em\"><b>0.55</b></text></td><td><mark style=\"background-color: hsl(0, 75%, 91%); opacity:1.0;                     line-height:1.75\"><font color=\"black\"> #s                    </font></mark><mark style=\"background-color: hsl(0, 75%, 94%); opacity:1.0;                     line-height:1.75\"><font color=\"black\"> (                    </font></mark><mark style=\"background-color: hsl(120, 75%, 98%); opacity:1.0;                     line-height:1.75\"><font color=\"black\"> rises                    </font></mark><mark style=\"background-color: hsl(0, 75%, 95%); opacity:1.0;                     line-height:1.75\"><font color=\"black\"> )                    </font></mark><mark style=\"background-color: hsl(0, 75%, 97%); opacity:1.0;                     line-height:1.75\"><font color=\"black\"> above                    </font></mark><mark style=\"background-color: hsl(0, 75%, 98%); opacity:1.0;                     line-height:1.75\"><font color=\"black\"> its                    </font></mark><mark style=\"background-color: hsl(0, 75%, 87%); opacity:1.0;                     line-height:1.75\"><font color=\"black\"> oh-so-hollywood                    </font></mark><mark style=\"background-color: hsl(0, 75%, 99%); opacity:1.0;                     line-height:1.75\"><font color=\"black\"> rejiggering                    </font></mark><mark style=\"background-color: hsl(0, 75%, 94%); opacity:1.0;                     line-height:1.75\"><font color=\"black\"> and                    </font></mark><mark style=\"background-color: hsl(0, 75%, 97%); opacity:1.0;                     line-height:1.75\"><font color=\"black\"> its                    </font></mark><mark style=\"background-color: hsl(0, 75%, 99%); opacity:1.0;                     line-height:1.75\"><font color=\"black\"> conventional                    </font></mark><mark style=\"background-color: hsl(120, 75%, 73%); opacity:1.0;                     line-height:1.75\"><font color=\"black\"> direction                    </font></mark><mark style=\"background-color: hsl(0, 75%, 100%); opacity:1.0;                     line-height:1.75\"><font color=\"black\"> to                    </font></mark><mark style=\"background-color: hsl(120, 75%, 99%); opacity:1.0;                     line-height:1.75\"><font color=\"black\"> give                    </font></mark><mark style=\"background-color: hsl(0, 75%, 99%); opacity:1.0;                     line-height:1.75\"><font color=\"black\"> the                    </font></mark><mark style=\"background-color: hsl(120, 75%, 100%); opacity:1.0;                     line-height:1.75\"><font color=\"black\"> film                    </font></mark><mark style=\"background-color: hsl(120, 75%, 99%); opacity:1.0;                     line-height:1.75\"><font color=\"black\"> a                    </font></mark><mark style=\"background-color: hsl(0, 75%, 99%); opacity:1.0;                     line-height:1.75\"><font color=\"black\"> soul                    </font></mark><mark style=\"background-color: hsl(120, 75%, 86%); opacity:1.0;                     line-height:1.75\"><font color=\"black\"> and                    </font></mark><mark style=\"background-color: hsl(120, 75%, 91%); opacity:1.0;                     line-height:1.75\"><font color=\"black\"> an                    </font></mark><mark style=\"background-color: hsl(0, 75%, 100%); opacity:1.0;                     line-height:1.75\"><font color=\"black\"> unabashed                    </font></mark><mark style=\"background-color: hsl(0, 75%, 98%); opacity:1.0;                     line-height:1.75\"><font color=\"black\"> sense                    </font></mark><mark style=\"background-color: hsl(120, 75%, 99%); opacity:1.0;                     line-height:1.75\"><font color=\"black\"> of                    </font></mark><mark style=\"background-color: hsl(120, 75%, 85%); opacity:1.0;                     line-height:1.75\"><font color=\"black\"> good                    </font></mark><mark style=\"background-color: hsl(120, 75%, 97%); opacity:1.0;                     line-height:1.75\"><font color=\"black\"> old-fashioned                    </font></mark><mark style=\"background-color: hsl(120, 75%, 91%); opacity:1.0;                     line-height:1.75\"><font color=\"black\"> escapism                    </font></mark><mark style=\"background-color: hsl(120, 75%, 99%); opacity:1.0;                     line-height:1.75\"><font color=\"black\">                     </font></mark><mark style=\"background-color: hsl(0, 75%, 100%); opacity:1.0;                     line-height:1.75\"><font color=\"black\"> #/s                    </font></mark></td><tr></table>"
      ],
      "text/plain": [
       "<IPython.core.display.HTML object>"
      ]
     },
     "metadata": {},
     "output_type": "display_data"
    },
    {
     "name": "stdout",
     "output_type": "stream",
     "text": [
      "<IPython.core.display.HTML object>\n",
      "Raw review: the mothman prophecies , which is mostly a bore , \n",
      "GT target: 0\n",
      "asd 13\n"
     ]
    },
    {
     "data": {
      "text/html": [
       "<table width: 100%><div style=\"border-top: 1px solid; margin-top: 5px;             padding-top: 5px; display: inline-block\"><b>Legend: </b><span style=\"display: inline-block; width: 10px; height: 10px;                 border: 1px solid; background-color:                 hsl(0, 75%, 60%)\"></span> Negative  <span style=\"display: inline-block; width: 10px; height: 10px;                 border: 1px solid; background-color:                 hsl(0, 75%, 100%)\"></span> Neutral  <span style=\"display: inline-block; width: 10px; height: 10px;                 border: 1px solid; background-color:                 hsl(120, 75%, 50%)\"></span> Positive  </div><tr><th>True Label</th><th>Predicted Label</th><th>Attribution Label</th><th>Attribution Score</th><th>Word Importance</th><tr><td><text style=\"padding-right:2em\"><b>Neg</b></text></td><td><text style=\"padding-right:2em\"><b>Neg (0.00)</b></text></td><td><text style=\"padding-right:2em\"><b>Pos</b></text></td><td><text style=\"padding-right:2em\"><b>0.80</b></text></td><td><mark style=\"background-color: hsl(0, 75%, 95%); opacity:1.0;                     line-height:1.75\"><font color=\"black\"> #s                    </font></mark><mark style=\"background-color: hsl(0, 75%, 85%); opacity:1.0;                     line-height:1.75\"><font color=\"black\"> the                    </font></mark><mark style=\"background-color: hsl(120, 75%, 80%); opacity:1.0;                     line-height:1.75\"><font color=\"black\"> mothman                    </font></mark><mark style=\"background-color: hsl(120, 75%, 96%); opacity:1.0;                     line-height:1.75\"><font color=\"black\"> prophecies                    </font></mark><mark style=\"background-color: hsl(120, 75%, 89%); opacity:1.0;                     line-height:1.75\"><font color=\"black\"> ,                    </font></mark><mark style=\"background-color: hsl(120, 75%, 96%); opacity:1.0;                     line-height:1.75\"><font color=\"black\"> which                    </font></mark><mark style=\"background-color: hsl(120, 75%, 91%); opacity:1.0;                     line-height:1.75\"><font color=\"black\"> is                    </font></mark><mark style=\"background-color: hsl(120, 75%, 89%); opacity:1.0;                     line-height:1.75\"><font color=\"black\"> mostly                    </font></mark><mark style=\"background-color: hsl(0, 75%, 100%); opacity:1.0;                     line-height:1.75\"><font color=\"black\"> a                    </font></mark><mark style=\"background-color: hsl(120, 75%, 87%); opacity:1.0;                     line-height:1.75\"><font color=\"black\"> bore                    </font></mark><mark style=\"background-color: hsl(120, 75%, 93%); opacity:1.0;                     line-height:1.75\"><font color=\"black\"> ,                    </font></mark><mark style=\"background-color: hsl(0, 75%, 77%); opacity:1.0;                     line-height:1.75\"><font color=\"black\">                     </font></mark><mark style=\"background-color: hsl(120, 75%, 91%); opacity:1.0;                     line-height:1.75\"><font color=\"black\"> #/s                    </font></mark></td><tr></table>"
      ],
      "text/plain": [
       "<IPython.core.display.HTML object>"
      ]
     },
     "metadata": {},
     "output_type": "display_data"
    },
    {
     "name": "stdout",
     "output_type": "stream",
     "text": [
      "<IPython.core.display.HTML object>\n",
      "Raw review: regardless of race \n",
      "GT target: 1\n",
      "asd 6\n"
     ]
    },
    {
     "data": {
      "text/html": [
       "<table width: 100%><div style=\"border-top: 1px solid; margin-top: 5px;             padding-top: 5px; display: inline-block\"><b>Legend: </b><span style=\"display: inline-block; width: 10px; height: 10px;                 border: 1px solid; background-color:                 hsl(0, 75%, 60%)\"></span> Negative  <span style=\"display: inline-block; width: 10px; height: 10px;                 border: 1px solid; background-color:                 hsl(0, 75%, 100%)\"></span> Neutral  <span style=\"display: inline-block; width: 10px; height: 10px;                 border: 1px solid; background-color:                 hsl(120, 75%, 50%)\"></span> Positive  </div><tr><th>True Label</th><th>Predicted Label</th><th>Attribution Label</th><th>Attribution Score</th><th>Word Importance</th><tr><td><text style=\"padding-right:2em\"><b>Pos</b></text></td><td><text style=\"padding-right:2em\"><b>Pos (0.99)</b></text></td><td><text style=\"padding-right:2em\"><b>Neg</b></text></td><td><text style=\"padding-right:2em\"><b>-0.26</b></text></td><td><mark style=\"background-color: hsl(0, 75%, 95%); opacity:1.0;                     line-height:1.75\"><font color=\"black\"> #s                    </font></mark><mark style=\"background-color: hsl(120, 75%, 74%); opacity:1.0;                     line-height:1.75\"><font color=\"black\"> regardless                    </font></mark><mark style=\"background-color: hsl(0, 75%, 70%); opacity:1.0;                     line-height:1.75\"><font color=\"black\"> of                    </font></mark><mark style=\"background-color: hsl(120, 75%, 94%); opacity:1.0;                     line-height:1.75\"><font color=\"black\"> race                    </font></mark><mark style=\"background-color: hsl(120, 75%, 88%); opacity:1.0;                     line-height:1.75\"><font color=\"black\">                     </font></mark><mark style=\"background-color: hsl(0, 75%, 92%); opacity:1.0;                     line-height:1.75\"><font color=\"black\"> #/s                    </font></mark></td><tr></table>"
      ],
      "text/plain": [
       "<IPython.core.display.HTML object>"
      ]
     },
     "metadata": {},
     "output_type": "display_data"
    },
    {
     "name": "stdout",
     "output_type": "stream",
     "text": [
      "<IPython.core.display.HTML object>\n",
      "Raw review: have n't seen such self-amused trash since freddy got fingered \n",
      "GT target: 0\n",
      "asd 13\n"
     ]
    },
    {
     "data": {
      "text/html": [
       "<table width: 100%><div style=\"border-top: 1px solid; margin-top: 5px;             padding-top: 5px; display: inline-block\"><b>Legend: </b><span style=\"display: inline-block; width: 10px; height: 10px;                 border: 1px solid; background-color:                 hsl(0, 75%, 60%)\"></span> Negative  <span style=\"display: inline-block; width: 10px; height: 10px;                 border: 1px solid; background-color:                 hsl(0, 75%, 100%)\"></span> Neutral  <span style=\"display: inline-block; width: 10px; height: 10px;                 border: 1px solid; background-color:                 hsl(120, 75%, 50%)\"></span> Positive  </div><tr><th>True Label</th><th>Predicted Label</th><th>Attribution Label</th><th>Attribution Score</th><th>Word Importance</th><tr><td><text style=\"padding-right:2em\"><b>Neg</b></text></td><td><text style=\"padding-right:2em\"><b>Neg (0.00)</b></text></td><td><text style=\"padding-right:2em\"><b>Neg</b></text></td><td><text style=\"padding-right:2em\"><b>-0.64</b></text></td><td><mark style=\"background-color: hsl(0, 75%, 93%); opacity:1.0;                     line-height:1.75\"><font color=\"black\"> #s                    </font></mark><mark style=\"background-color: hsl(120, 75%, 99%); opacity:1.0;                     line-height:1.75\"><font color=\"black\"> have                    </font></mark><mark style=\"background-color: hsl(120, 75%, 97%); opacity:1.0;                     line-height:1.75\"><font color=\"black\"> n't                    </font></mark><mark style=\"background-color: hsl(120, 75%, 97%); opacity:1.0;                     line-height:1.75\"><font color=\"black\"> seen                    </font></mark><mark style=\"background-color: hsl(120, 75%, 88%); opacity:1.0;                     line-height:1.75\"><font color=\"black\"> such                    </font></mark><mark style=\"background-color: hsl(0, 75%, 93%); opacity:1.0;                     line-height:1.75\"><font color=\"black\"> self-amused                    </font></mark><mark style=\"background-color: hsl(0, 75%, 98%); opacity:1.0;                     line-height:1.75\"><font color=\"black\"> trash                    </font></mark><mark style=\"background-color: hsl(0, 75%, 92%); opacity:1.0;                     line-height:1.75\"><font color=\"black\"> since                    </font></mark><mark style=\"background-color: hsl(120, 75%, 97%); opacity:1.0;                     line-height:1.75\"><font color=\"black\"> freddy                    </font></mark><mark style=\"background-color: hsl(120, 75%, 83%); opacity:1.0;                     line-height:1.75\"><font color=\"black\"> got                    </font></mark><mark style=\"background-color: hsl(0, 75%, 83%); opacity:1.0;                     line-height:1.75\"><font color=\"black\"> fingered                    </font></mark><mark style=\"background-color: hsl(120, 75%, 99%); opacity:1.0;                     line-height:1.75\"><font color=\"black\">                     </font></mark><mark style=\"background-color: hsl(120, 75%, 94%); opacity:1.0;                     line-height:1.75\"><font color=\"black\"> #/s                    </font></mark></td><tr></table>"
      ],
      "text/plain": [
       "<IPython.core.display.HTML object>"
      ]
     },
     "metadata": {},
     "output_type": "display_data"
    },
    {
     "name": "stdout",
     "output_type": "stream",
     "text": [
      "<IPython.core.display.HTML object>\n",
      "Raw review: to let this morph into a typical romantic triangle \n",
      "GT target: 0\n",
      "asd 12\n"
     ]
    },
    {
     "data": {
      "text/html": [
       "<table width: 100%><div style=\"border-top: 1px solid; margin-top: 5px;             padding-top: 5px; display: inline-block\"><b>Legend: </b><span style=\"display: inline-block; width: 10px; height: 10px;                 border: 1px solid; background-color:                 hsl(0, 75%, 60%)\"></span> Negative  <span style=\"display: inline-block; width: 10px; height: 10px;                 border: 1px solid; background-color:                 hsl(0, 75%, 100%)\"></span> Neutral  <span style=\"display: inline-block; width: 10px; height: 10px;                 border: 1px solid; background-color:                 hsl(120, 75%, 50%)\"></span> Positive  </div><tr><th>True Label</th><th>Predicted Label</th><th>Attribution Label</th><th>Attribution Score</th><th>Word Importance</th><tr><td><text style=\"padding-right:2em\"><b>Neg</b></text></td><td><text style=\"padding-right:2em\"><b>Neg (0.00)</b></text></td><td><text style=\"padding-right:2em\"><b>Pos</b></text></td><td><text style=\"padding-right:2em\"><b>0.60</b></text></td><td><mark style=\"background-color: hsl(120, 75%, 84%); opacity:1.0;                     line-height:1.75\"><font color=\"black\"> #s                    </font></mark><mark style=\"background-color: hsl(0, 75%, 98%); opacity:1.0;                     line-height:1.75\"><font color=\"black\"> to                    </font></mark><mark style=\"background-color: hsl(0, 75%, 96%); opacity:1.0;                     line-height:1.75\"><font color=\"black\"> let                    </font></mark><mark style=\"background-color: hsl(120, 75%, 98%); opacity:1.0;                     line-height:1.75\"><font color=\"black\"> this                    </font></mark><mark style=\"background-color: hsl(0, 75%, 100%); opacity:1.0;                     line-height:1.75\"><font color=\"black\"> morph                    </font></mark><mark style=\"background-color: hsl(0, 75%, 92%); opacity:1.0;                     line-height:1.75\"><font color=\"black\"> into                    </font></mark><mark style=\"background-color: hsl(120, 75%, 100%); opacity:1.0;                     line-height:1.75\"><font color=\"black\"> a                    </font></mark><mark style=\"background-color: hsl(0, 75%, 100%); opacity:1.0;                     line-height:1.75\"><font color=\"black\"> typical                    </font></mark><mark style=\"background-color: hsl(120, 75%, 60%); opacity:1.0;                     line-height:1.75\"><font color=\"black\"> romantic                    </font></mark><mark style=\"background-color: hsl(0, 75%, 85%); opacity:1.0;                     line-height:1.75\"><font color=\"black\"> triangle                    </font></mark><mark style=\"background-color: hsl(120, 75%, 97%); opacity:1.0;                     line-height:1.75\"><font color=\"black\">                     </font></mark><mark style=\"background-color: hsl(120, 75%, 95%); opacity:1.0;                     line-height:1.75\"><font color=\"black\"> #/s                    </font></mark></td><tr></table>"
      ],
      "text/plain": [
       "<IPython.core.display.HTML object>"
      ]
     },
     "metadata": {},
     "output_type": "display_data"
    },
    {
     "name": "stdout",
     "output_type": "stream",
     "text": [
      "<IPython.core.display.HTML object>\n",
      "Raw review: the hurried , badly cobbled look \n",
      "GT target: 0\n",
      "asd 9\n"
     ]
    },
    {
     "data": {
      "text/html": [
       "<table width: 100%><div style=\"border-top: 1px solid; margin-top: 5px;             padding-top: 5px; display: inline-block\"><b>Legend: </b><span style=\"display: inline-block; width: 10px; height: 10px;                 border: 1px solid; background-color:                 hsl(0, 75%, 60%)\"></span> Negative  <span style=\"display: inline-block; width: 10px; height: 10px;                 border: 1px solid; background-color:                 hsl(0, 75%, 100%)\"></span> Neutral  <span style=\"display: inline-block; width: 10px; height: 10px;                 border: 1px solid; background-color:                 hsl(120, 75%, 50%)\"></span> Positive  </div><tr><th>True Label</th><th>Predicted Label</th><th>Attribution Label</th><th>Attribution Score</th><th>Word Importance</th><tr><td><text style=\"padding-right:2em\"><b>Neg</b></text></td><td><text style=\"padding-right:2em\"><b>Neg (0.00)</b></text></td><td><text style=\"padding-right:2em\"><b>Pos</b></text></td><td><text style=\"padding-right:2em\"><b>0.84</b></text></td><td><mark style=\"background-color: hsl(0, 75%, 96%); opacity:1.0;                     line-height:1.75\"><font color=\"black\"> #s                    </font></mark><mark style=\"background-color: hsl(120, 75%, 97%); opacity:1.0;                     line-height:1.75\"><font color=\"black\"> the                    </font></mark><mark style=\"background-color: hsl(120, 75%, 57%); opacity:1.0;                     line-height:1.75\"><font color=\"black\"> hurried                    </font></mark><mark style=\"background-color: hsl(120, 75%, 83%); opacity:1.0;                     line-height:1.75\"><font color=\"black\"> ,                    </font></mark><mark style=\"background-color: hsl(0, 75%, 97%); opacity:1.0;                     line-height:1.75\"><font color=\"black\"> badly                    </font></mark><mark style=\"background-color: hsl(0, 75%, 92%); opacity:1.0;                     line-height:1.75\"><font color=\"black\"> cobbled                    </font></mark><mark style=\"background-color: hsl(0, 75%, 95%); opacity:1.0;                     line-height:1.75\"><font color=\"black\"> look                    </font></mark><mark style=\"background-color: hsl(0, 75%, 96%); opacity:1.0;                     line-height:1.75\"><font color=\"black\">                     </font></mark><mark style=\"background-color: hsl(120, 75%, 96%); opacity:1.0;                     line-height:1.75\"><font color=\"black\"> #/s                    </font></mark></td><tr></table>"
      ],
      "text/plain": [
       "<IPython.core.display.HTML object>"
      ]
     },
     "metadata": {},
     "output_type": "display_data"
    },
    {
     "name": "stdout",
     "output_type": "stream",
     "text": [
      "<IPython.core.display.HTML object>\n",
      "Raw review: i heard a mysterious voice , and felt myself powerfully drawn toward the light -- the light of the exit sign \n",
      "GT target: 0\n",
      "asd 24\n"
     ]
    },
    {
     "data": {
      "text/html": [
       "<table width: 100%><div style=\"border-top: 1px solid; margin-top: 5px;             padding-top: 5px; display: inline-block\"><b>Legend: </b><span style=\"display: inline-block; width: 10px; height: 10px;                 border: 1px solid; background-color:                 hsl(0, 75%, 60%)\"></span> Negative  <span style=\"display: inline-block; width: 10px; height: 10px;                 border: 1px solid; background-color:                 hsl(0, 75%, 100%)\"></span> Neutral  <span style=\"display: inline-block; width: 10px; height: 10px;                 border: 1px solid; background-color:                 hsl(120, 75%, 50%)\"></span> Positive  </div><tr><th>True Label</th><th>Predicted Label</th><th>Attribution Label</th><th>Attribution Score</th><th>Word Importance</th><tr><td><text style=\"padding-right:2em\"><b>Neg</b></text></td><td><text style=\"padding-right:2em\"><b>Pos (1.00)</b></text></td><td><text style=\"padding-right:2em\"><b>Neg</b></text></td><td><text style=\"padding-right:2em\"><b>-0.32</b></text></td><td><mark style=\"background-color: hsl(0, 75%, 98%); opacity:1.0;                     line-height:1.75\"><font color=\"black\"> #s                    </font></mark><mark style=\"background-color: hsl(120, 75%, 99%); opacity:1.0;                     line-height:1.75\"><font color=\"black\"> i                    </font></mark><mark style=\"background-color: hsl(0, 75%, 90%); opacity:1.0;                     line-height:1.75\"><font color=\"black\"> heard                    </font></mark><mark style=\"background-color: hsl(0, 75%, 99%); opacity:1.0;                     line-height:1.75\"><font color=\"black\"> a                    </font></mark><mark style=\"background-color: hsl(120, 75%, 91%); opacity:1.0;                     line-height:1.75\"><font color=\"black\"> mysterious                    </font></mark><mark style=\"background-color: hsl(0, 75%, 95%); opacity:1.0;                     line-height:1.75\"><font color=\"black\"> voice                    </font></mark><mark style=\"background-color: hsl(0, 75%, 87%); opacity:1.0;                     line-height:1.75\"><font color=\"black\"> ,                    </font></mark><mark style=\"background-color: hsl(0, 75%, 96%); opacity:1.0;                     line-height:1.75\"><font color=\"black\"> and                    </font></mark><mark style=\"background-color: hsl(120, 75%, 84%); opacity:1.0;                     line-height:1.75\"><font color=\"black\"> felt                    </font></mark><mark style=\"background-color: hsl(0, 75%, 96%); opacity:1.0;                     line-height:1.75\"><font color=\"black\"> myself                    </font></mark><mark style=\"background-color: hsl(120, 75%, 99%); opacity:1.0;                     line-height:1.75\"><font color=\"black\"> powerfully                    </font></mark><mark style=\"background-color: hsl(0, 75%, 95%); opacity:1.0;                     line-height:1.75\"><font color=\"black\"> drawn                    </font></mark><mark style=\"background-color: hsl(0, 75%, 99%); opacity:1.0;                     line-height:1.75\"><font color=\"black\"> toward                    </font></mark><mark style=\"background-color: hsl(0, 75%, 98%); opacity:1.0;                     line-height:1.75\"><font color=\"black\"> the                    </font></mark><mark style=\"background-color: hsl(0, 75%, 96%); opacity:1.0;                     line-height:1.75\"><font color=\"black\"> light                    </font></mark><mark style=\"background-color: hsl(120, 75%, 95%); opacity:1.0;                     line-height:1.75\"><font color=\"black\"> --                    </font></mark><mark style=\"background-color: hsl(0, 75%, 96%); opacity:1.0;                     line-height:1.75\"><font color=\"black\"> the                    </font></mark><mark style=\"background-color: hsl(0, 75%, 96%); opacity:1.0;                     line-height:1.75\"><font color=\"black\"> light                    </font></mark><mark style=\"background-color: hsl(0, 75%, 97%); opacity:1.0;                     line-height:1.75\"><font color=\"black\"> of                    </font></mark><mark style=\"background-color: hsl(0, 75%, 100%); opacity:1.0;                     line-height:1.75\"><font color=\"black\"> the                    </font></mark><mark style=\"background-color: hsl(120, 75%, 65%); opacity:1.0;                     line-height:1.75\"><font color=\"black\"> exit                    </font></mark><mark style=\"background-color: hsl(120, 75%, 97%); opacity:1.0;                     line-height:1.75\"><font color=\"black\"> sign                    </font></mark><mark style=\"background-color: hsl(0, 75%, 94%); opacity:1.0;                     line-height:1.75\"><font color=\"black\">                     </font></mark><mark style=\"background-color: hsl(120, 75%, 94%); opacity:1.0;                     line-height:1.75\"><font color=\"black\"> #/s                    </font></mark></td><tr></table>"
      ],
      "text/plain": [
       "<IPython.core.display.HTML object>"
      ]
     },
     "metadata": {},
     "output_type": "display_data"
    },
    {
     "name": "stdout",
     "output_type": "stream",
     "text": [
      "<IPython.core.display.HTML object>\n",
      "Raw review: would take a complete moron to foul up a screen adaptation of oscar wilde 's classic satire \n",
      "GT target: 0\n",
      "asd 20\n"
     ]
    },
    {
     "data": {
      "text/html": [
       "<table width: 100%><div style=\"border-top: 1px solid; margin-top: 5px;             padding-top: 5px; display: inline-block\"><b>Legend: </b><span style=\"display: inline-block; width: 10px; height: 10px;                 border: 1px solid; background-color:                 hsl(0, 75%, 60%)\"></span> Negative  <span style=\"display: inline-block; width: 10px; height: 10px;                 border: 1px solid; background-color:                 hsl(0, 75%, 100%)\"></span> Neutral  <span style=\"display: inline-block; width: 10px; height: 10px;                 border: 1px solid; background-color:                 hsl(120, 75%, 50%)\"></span> Positive  </div><tr><th>True Label</th><th>Predicted Label</th><th>Attribution Label</th><th>Attribution Score</th><th>Word Importance</th><tr><td><text style=\"padding-right:2em\"><b>Neg</b></text></td><td><text style=\"padding-right:2em\"><b>Pos (0.98)</b></text></td><td><text style=\"padding-right:2em\"><b>Neg</b></text></td><td><text style=\"padding-right:2em\"><b>-0.41</b></text></td><td><mark style=\"background-color: hsl(120, 75%, 100%); opacity:1.0;                     line-height:1.75\"><font color=\"black\"> #s                    </font></mark><mark style=\"background-color: hsl(0, 75%, 98%); opacity:1.0;                     line-height:1.75\"><font color=\"black\"> would                    </font></mark><mark style=\"background-color: hsl(120, 75%, 99%); opacity:1.0;                     line-height:1.75\"><font color=\"black\"> take                    </font></mark><mark style=\"background-color: hsl(120, 75%, 98%); opacity:1.0;                     line-height:1.75\"><font color=\"black\"> a                    </font></mark><mark style=\"background-color: hsl(120, 75%, 99%); opacity:1.0;                     line-height:1.75\"><font color=\"black\"> complete                    </font></mark><mark style=\"background-color: hsl(0, 75%, 82%); opacity:1.0;                     line-height:1.75\"><font color=\"black\"> moron                    </font></mark><mark style=\"background-color: hsl(0, 75%, 95%); opacity:1.0;                     line-height:1.75\"><font color=\"black\"> to                    </font></mark><mark style=\"background-color: hsl(0, 75%, 97%); opacity:1.0;                     line-height:1.75\"><font color=\"black\"> foul                    </font></mark><mark style=\"background-color: hsl(0, 75%, 80%); opacity:1.0;                     line-height:1.75\"><font color=\"black\"> up                    </font></mark><mark style=\"background-color: hsl(0, 75%, 98%); opacity:1.0;                     line-height:1.75\"><font color=\"black\"> a                    </font></mark><mark style=\"background-color: hsl(120, 75%, 97%); opacity:1.0;                     line-height:1.75\"><font color=\"black\"> screen                    </font></mark><mark style=\"background-color: hsl(0, 75%, 82%); opacity:1.0;                     line-height:1.75\"><font color=\"black\"> adaptation                    </font></mark><mark style=\"background-color: hsl(120, 75%, 94%); opacity:1.0;                     line-height:1.75\"><font color=\"black\"> of                    </font></mark><mark style=\"background-color: hsl(0, 75%, 100%); opacity:1.0;                     line-height:1.75\"><font color=\"black\"> oscar                    </font></mark><mark style=\"background-color: hsl(120, 75%, 95%); opacity:1.0;                     line-height:1.75\"><font color=\"black\"> wilde                    </font></mark><mark style=\"background-color: hsl(120, 75%, 81%); opacity:1.0;                     line-height:1.75\"><font color=\"black\"> 's                    </font></mark><mark style=\"background-color: hsl(120, 75%, 88%); opacity:1.0;                     line-height:1.75\"><font color=\"black\"> classic                    </font></mark><mark style=\"background-color: hsl(120, 75%, 99%); opacity:1.0;                     line-height:1.75\"><font color=\"black\"> satire                    </font></mark><mark style=\"background-color: hsl(120, 75%, 97%); opacity:1.0;                     line-height:1.75\"><font color=\"black\">                     </font></mark><mark style=\"background-color: hsl(120, 75%, 100%); opacity:1.0;                     line-height:1.75\"><font color=\"black\"> #/s                    </font></mark></td><tr></table>"
      ],
      "text/plain": [
       "<IPython.core.display.HTML object>"
      ]
     },
     "metadata": {},
     "output_type": "display_data"
    },
    {
     "name": "stdout",
     "output_type": "stream",
     "text": [
      "<IPython.core.display.HTML object>\n",
      "Raw review: 's never too late to learn \n",
      "GT target: 1\n",
      "asd 9\n"
     ]
    },
    {
     "data": {
      "text/html": [
       "<table width: 100%><div style=\"border-top: 1px solid; margin-top: 5px;             padding-top: 5px; display: inline-block\"><b>Legend: </b><span style=\"display: inline-block; width: 10px; height: 10px;                 border: 1px solid; background-color:                 hsl(0, 75%, 60%)\"></span> Negative  <span style=\"display: inline-block; width: 10px; height: 10px;                 border: 1px solid; background-color:                 hsl(0, 75%, 100%)\"></span> Neutral  <span style=\"display: inline-block; width: 10px; height: 10px;                 border: 1px solid; background-color:                 hsl(120, 75%, 50%)\"></span> Positive  </div><tr><th>True Label</th><th>Predicted Label</th><th>Attribution Label</th><th>Attribution Score</th><th>Word Importance</th><tr><td><text style=\"padding-right:2em\"><b>Pos</b></text></td><td><text style=\"padding-right:2em\"><b>Pos (0.99)</b></text></td><td><text style=\"padding-right:2em\"><b>Neg</b></text></td><td><text style=\"padding-right:2em\"><b>-0.31</b></text></td><td><mark style=\"background-color: hsl(120, 75%, 77%); opacity:1.0;                     line-height:1.75\"><font color=\"black\"> #s                    </font></mark><mark style=\"background-color: hsl(0, 75%, 98%); opacity:1.0;                     line-height:1.75\"><font color=\"black\"> 's                    </font></mark><mark style=\"background-color: hsl(0, 75%, 84%); opacity:1.0;                     line-height:1.75\"><font color=\"black\"> never                    </font></mark><mark style=\"background-color: hsl(120, 75%, 94%); opacity:1.0;                     line-height:1.75\"><font color=\"black\"> too                    </font></mark><mark style=\"background-color: hsl(0, 75%, 82%); opacity:1.0;                     line-height:1.75\"><font color=\"black\"> late                    </font></mark><mark style=\"background-color: hsl(0, 75%, 95%); opacity:1.0;                     line-height:1.75\"><font color=\"black\"> to                    </font></mark><mark style=\"background-color: hsl(120, 75%, 78%); opacity:1.0;                     line-height:1.75\"><font color=\"black\"> learn                    </font></mark><mark style=\"background-color: hsl(0, 75%, 85%); opacity:1.0;                     line-height:1.75\"><font color=\"black\">                     </font></mark><mark style=\"background-color: hsl(120, 75%, 97%); opacity:1.0;                     line-height:1.75\"><font color=\"black\"> #/s                    </font></mark></td><tr></table>"
      ],
      "text/plain": [
       "<IPython.core.display.HTML object>"
      ]
     },
     "metadata": {},
     "output_type": "display_data"
    },
    {
     "name": "stdout",
     "output_type": "stream",
     "text": [
      "<IPython.core.display.HTML object>\n",
      "Raw review: about the best thing you could say about narc is that it 's a rock-solid little genre picture . \n",
      "GT target: 1\n",
      "asd 22\n"
     ]
    },
    {
     "data": {
      "text/html": [
       "<table width: 100%><div style=\"border-top: 1px solid; margin-top: 5px;             padding-top: 5px; display: inline-block\"><b>Legend: </b><span style=\"display: inline-block; width: 10px; height: 10px;                 border: 1px solid; background-color:                 hsl(0, 75%, 60%)\"></span> Negative  <span style=\"display: inline-block; width: 10px; height: 10px;                 border: 1px solid; background-color:                 hsl(0, 75%, 100%)\"></span> Neutral  <span style=\"display: inline-block; width: 10px; height: 10px;                 border: 1px solid; background-color:                 hsl(120, 75%, 50%)\"></span> Positive  </div><tr><th>True Label</th><th>Predicted Label</th><th>Attribution Label</th><th>Attribution Score</th><th>Word Importance</th><tr><td><text style=\"padding-right:2em\"><b>Pos</b></text></td><td><text style=\"padding-right:2em\"><b>Pos (1.00)</b></text></td><td><text style=\"padding-right:2em\"><b>Neg</b></text></td><td><text style=\"padding-right:2em\"><b>0.26</b></text></td><td><mark style=\"background-color: hsl(120, 75%, 88%); opacity:1.0;                     line-height:1.75\"><font color=\"black\"> #s                    </font></mark><mark style=\"background-color: hsl(0, 75%, 87%); opacity:1.0;                     line-height:1.75\"><font color=\"black\"> about                    </font></mark><mark style=\"background-color: hsl(0, 75%, 99%); opacity:1.0;                     line-height:1.75\"><font color=\"black\"> the                    </font></mark><mark style=\"background-color: hsl(120, 75%, 96%); opacity:1.0;                     line-height:1.75\"><font color=\"black\"> best                    </font></mark><mark style=\"background-color: hsl(120, 75%, 100%); opacity:1.0;                     line-height:1.75\"><font color=\"black\"> thing                    </font></mark><mark style=\"background-color: hsl(120, 75%, 97%); opacity:1.0;                     line-height:1.75\"><font color=\"black\"> you                    </font></mark><mark style=\"background-color: hsl(120, 75%, 94%); opacity:1.0;                     line-height:1.75\"><font color=\"black\"> could                    </font></mark><mark style=\"background-color: hsl(120, 75%, 100%); opacity:1.0;                     line-height:1.75\"><font color=\"black\"> say                    </font></mark><mark style=\"background-color: hsl(0, 75%, 96%); opacity:1.0;                     line-height:1.75\"><font color=\"black\"> about                    </font></mark><mark style=\"background-color: hsl(0, 75%, 74%); opacity:1.0;                     line-height:1.75\"><font color=\"black\"> narc                    </font></mark><mark style=\"background-color: hsl(0, 75%, 99%); opacity:1.0;                     line-height:1.75\"><font color=\"black\"> is                    </font></mark><mark style=\"background-color: hsl(0, 75%, 100%); opacity:1.0;                     line-height:1.75\"><font color=\"black\"> that                    </font></mark><mark style=\"background-color: hsl(120, 75%, 99%); opacity:1.0;                     line-height:1.75\"><font color=\"black\"> it                    </font></mark><mark style=\"background-color: hsl(120, 75%, 100%); opacity:1.0;                     line-height:1.75\"><font color=\"black\"> 's                    </font></mark><mark style=\"background-color: hsl(120, 75%, 98%); opacity:1.0;                     line-height:1.75\"><font color=\"black\"> a                    </font></mark><mark style=\"background-color: hsl(120, 75%, 100%); opacity:1.0;                     line-height:1.75\"><font color=\"black\"> rock-solid                    </font></mark><mark style=\"background-color: hsl(120, 75%, 99%); opacity:1.0;                     line-height:1.75\"><font color=\"black\"> little                    </font></mark><mark style=\"background-color: hsl(120, 75%, 97%); opacity:1.0;                     line-height:1.75\"><font color=\"black\"> genre                    </font></mark><mark style=\"background-color: hsl(120, 75%, 91%); opacity:1.0;                     line-height:1.75\"><font color=\"black\"> picture                    </font></mark><mark style=\"background-color: hsl(0, 75%, 99%); opacity:1.0;                     line-height:1.75\"><font color=\"black\"> .                    </font></mark><mark style=\"background-color: hsl(120, 75%, 74%); opacity:1.0;                     line-height:1.75\"><font color=\"black\">                     </font></mark><mark style=\"background-color: hsl(120, 75%, 96%); opacity:1.0;                     line-height:1.75\"><font color=\"black\"> #/s                    </font></mark></td><tr></table>"
      ],
      "text/plain": [
       "<IPython.core.display.HTML object>"
      ]
     },
     "metadata": {},
     "output_type": "display_data"
    },
    {
     "name": "stdout",
     "output_type": "stream",
     "text": [
      "<IPython.core.display.HTML object>\n",
      "Raw review: come to earth \n",
      "GT target: 1\n",
      "asd 6\n"
     ]
    },
    {
     "data": {
      "text/html": [
       "<table width: 100%><div style=\"border-top: 1px solid; margin-top: 5px;             padding-top: 5px; display: inline-block\"><b>Legend: </b><span style=\"display: inline-block; width: 10px; height: 10px;                 border: 1px solid; background-color:                 hsl(0, 75%, 60%)\"></span> Negative  <span style=\"display: inline-block; width: 10px; height: 10px;                 border: 1px solid; background-color:                 hsl(0, 75%, 100%)\"></span> Neutral  <span style=\"display: inline-block; width: 10px; height: 10px;                 border: 1px solid; background-color:                 hsl(120, 75%, 50%)\"></span> Positive  </div><tr><th>True Label</th><th>Predicted Label</th><th>Attribution Label</th><th>Attribution Score</th><th>Word Importance</th><tr><td><text style=\"padding-right:2em\"><b>Pos</b></text></td><td><text style=\"padding-right:2em\"><b>Pos (0.99)</b></text></td><td><text style=\"padding-right:2em\"><b>Neg</b></text></td><td><text style=\"padding-right:2em\"><b>-0.50</b></text></td><td><mark style=\"background-color: hsl(0, 75%, 95%); opacity:1.0;                     line-height:1.75\"><font color=\"black\"> #s                    </font></mark><mark style=\"background-color: hsl(0, 75%, 91%); opacity:1.0;                     line-height:1.75\"><font color=\"black\"> come                    </font></mark><mark style=\"background-color: hsl(120, 75%, 91%); opacity:1.0;                     line-height:1.75\"><font color=\"black\"> to                    </font></mark><mark style=\"background-color: hsl(0, 75%, 67%); opacity:1.0;                     line-height:1.75\"><font color=\"black\"> earth                    </font></mark><mark style=\"background-color: hsl(120, 75%, 99%); opacity:1.0;                     line-height:1.75\"><font color=\"black\">                     </font></mark><mark style=\"background-color: hsl(120, 75%, 78%); opacity:1.0;                     line-height:1.75\"><font color=\"black\"> #/s                    </font></mark></td><tr></table>"
      ],
      "text/plain": [
       "<IPython.core.display.HTML object>"
      ]
     },
     "metadata": {},
     "output_type": "display_data"
    },
    {
     "name": "stdout",
     "output_type": "stream",
     "text": [
      "<IPython.core.display.HTML object>\n",
      "Raw review: believability \n",
      "GT target: 1\n",
      "asd 4\n"
     ]
    },
    {
     "data": {
      "text/html": [
       "<table width: 100%><div style=\"border-top: 1px solid; margin-top: 5px;             padding-top: 5px; display: inline-block\"><b>Legend: </b><span style=\"display: inline-block; width: 10px; height: 10px;                 border: 1px solid; background-color:                 hsl(0, 75%, 60%)\"></span> Negative  <span style=\"display: inline-block; width: 10px; height: 10px;                 border: 1px solid; background-color:                 hsl(0, 75%, 100%)\"></span> Neutral  <span style=\"display: inline-block; width: 10px; height: 10px;                 border: 1px solid; background-color:                 hsl(120, 75%, 50%)\"></span> Positive  </div><tr><th>True Label</th><th>Predicted Label</th><th>Attribution Label</th><th>Attribution Score</th><th>Word Importance</th><tr><td><text style=\"padding-right:2em\"><b>Pos</b></text></td><td><text style=\"padding-right:2em\"><b>Pos (0.99)</b></text></td><td><text style=\"padding-right:2em\"><b>Neg</b></text></td><td><text style=\"padding-right:2em\"><b>-0.01</b></text></td><td><mark style=\"background-color: hsl(120, 75%, 99%); opacity:1.0;                     line-height:1.75\"><font color=\"black\"> #s                    </font></mark><mark style=\"background-color: hsl(0, 75%, 92%); opacity:1.0;                     line-height:1.75\"><font color=\"black\"> believability                    </font></mark><mark style=\"background-color: hsl(120, 75%, 60%); opacity:1.0;                     line-height:1.75\"><font color=\"black\">                     </font></mark><mark style=\"background-color: hsl(0, 75%, 89%); opacity:1.0;                     line-height:1.75\"><font color=\"black\"> #/s                    </font></mark></td><tr></table>"
      ],
      "text/plain": [
       "<IPython.core.display.HTML object>"
      ]
     },
     "metadata": {},
     "output_type": "display_data"
    },
    {
     "name": "stdout",
     "output_type": "stream",
     "text": [
      "<IPython.core.display.HTML object>\n",
      "Raw review: an action/thriller of the finest kind , evoking memories of day of the jackal , the french connection , and heat . \n",
      "GT target: 1\n",
      "asd 25\n"
     ]
    },
    {
     "data": {
      "text/html": [
       "<table width: 100%><div style=\"border-top: 1px solid; margin-top: 5px;             padding-top: 5px; display: inline-block\"><b>Legend: </b><span style=\"display: inline-block; width: 10px; height: 10px;                 border: 1px solid; background-color:                 hsl(0, 75%, 60%)\"></span> Negative  <span style=\"display: inline-block; width: 10px; height: 10px;                 border: 1px solid; background-color:                 hsl(0, 75%, 100%)\"></span> Neutral  <span style=\"display: inline-block; width: 10px; height: 10px;                 border: 1px solid; background-color:                 hsl(120, 75%, 50%)\"></span> Positive  </div><tr><th>True Label</th><th>Predicted Label</th><th>Attribution Label</th><th>Attribution Score</th><th>Word Importance</th><tr><td><text style=\"padding-right:2em\"><b>Pos</b></text></td><td><text style=\"padding-right:2em\"><b>Pos (1.00)</b></text></td><td><text style=\"padding-right:2em\"><b>Neg</b></text></td><td><text style=\"padding-right:2em\"><b>-0.14</b></text></td><td><mark style=\"background-color: hsl(0, 75%, 93%); opacity:1.0;                     line-height:1.75\"><font color=\"black\"> #s                    </font></mark><mark style=\"background-color: hsl(0, 75%, 100%); opacity:1.0;                     line-height:1.75\"><font color=\"black\"> an                    </font></mark><mark style=\"background-color: hsl(120, 75%, 98%); opacity:1.0;                     line-height:1.75\"><font color=\"black\"> action/thriller                    </font></mark><mark style=\"background-color: hsl(0, 75%, 97%); opacity:1.0;                     line-height:1.75\"><font color=\"black\"> of                    </font></mark><mark style=\"background-color: hsl(0, 75%, 98%); opacity:1.0;                     line-height:1.75\"><font color=\"black\"> the                    </font></mark><mark style=\"background-color: hsl(120, 75%, 98%); opacity:1.0;                     line-height:1.75\"><font color=\"black\"> finest                    </font></mark><mark style=\"background-color: hsl(0, 75%, 99%); opacity:1.0;                     line-height:1.75\"><font color=\"black\"> kind                    </font></mark><mark style=\"background-color: hsl(120, 75%, 97%); opacity:1.0;                     line-height:1.75\"><font color=\"black\"> ,                    </font></mark><mark style=\"background-color: hsl(120, 75%, 96%); opacity:1.0;                     line-height:1.75\"><font color=\"black\"> evoking                    </font></mark><mark style=\"background-color: hsl(0, 75%, 91%); opacity:1.0;                     line-height:1.75\"><font color=\"black\"> memories                    </font></mark><mark style=\"background-color: hsl(120, 75%, 96%); opacity:1.0;                     line-height:1.75\"><font color=\"black\"> of                    </font></mark><mark style=\"background-color: hsl(120, 75%, 93%); opacity:1.0;                     line-height:1.75\"><font color=\"black\"> day                    </font></mark><mark style=\"background-color: hsl(0, 75%, 98%); opacity:1.0;                     line-height:1.75\"><font color=\"black\"> of                    </font></mark><mark style=\"background-color: hsl(120, 75%, 98%); opacity:1.0;                     line-height:1.75\"><font color=\"black\"> the                    </font></mark><mark style=\"background-color: hsl(0, 75%, 100%); opacity:1.0;                     line-height:1.75\"><font color=\"black\"> jackal                    </font></mark><mark style=\"background-color: hsl(120, 75%, 94%); opacity:1.0;                     line-height:1.75\"><font color=\"black\"> ,                    </font></mark><mark style=\"background-color: hsl(0, 75%, 92%); opacity:1.0;                     line-height:1.75\"><font color=\"black\"> the                    </font></mark><mark style=\"background-color: hsl(120, 75%, 96%); opacity:1.0;                     line-height:1.75\"><font color=\"black\"> french                    </font></mark><mark style=\"background-color: hsl(120, 75%, 92%); opacity:1.0;                     line-height:1.75\"><font color=\"black\"> connection                    </font></mark><mark style=\"background-color: hsl(0, 75%, 97%); opacity:1.0;                     line-height:1.75\"><font color=\"black\"> ,                    </font></mark><mark style=\"background-color: hsl(120, 75%, 83%); opacity:1.0;                     line-height:1.75\"><font color=\"black\"> and                    </font></mark><mark style=\"background-color: hsl(120, 75%, 100%); opacity:1.0;                     line-height:1.75\"><font color=\"black\"> heat                    </font></mark><mark style=\"background-color: hsl(120, 75%, 90%); opacity:1.0;                     line-height:1.75\"><font color=\"black\"> .                    </font></mark><mark style=\"background-color: hsl(120, 75%, 89%); opacity:1.0;                     line-height:1.75\"><font color=\"black\">                     </font></mark><mark style=\"background-color: hsl(0, 75%, 76%); opacity:1.0;                     line-height:1.75\"><font color=\"black\"> #/s                    </font></mark></td><tr></table>"
      ],
      "text/plain": [
       "<IPython.core.display.HTML object>"
      ]
     },
     "metadata": {},
     "output_type": "display_data"
    },
    {
     "name": "stdout",
     "output_type": "stream",
     "text": [
      "<IPython.core.display.HTML object>\n",
      "Raw review: breaks the mood with absurdly inappropriate ` comedy ' scenes \n",
      "GT target: 0\n",
      "asd 13\n"
     ]
    },
    {
     "data": {
      "text/html": [
       "<table width: 100%><div style=\"border-top: 1px solid; margin-top: 5px;             padding-top: 5px; display: inline-block\"><b>Legend: </b><span style=\"display: inline-block; width: 10px; height: 10px;                 border: 1px solid; background-color:                 hsl(0, 75%, 60%)\"></span> Negative  <span style=\"display: inline-block; width: 10px; height: 10px;                 border: 1px solid; background-color:                 hsl(0, 75%, 100%)\"></span> Neutral  <span style=\"display: inline-block; width: 10px; height: 10px;                 border: 1px solid; background-color:                 hsl(120, 75%, 50%)\"></span> Positive  </div><tr><th>True Label</th><th>Predicted Label</th><th>Attribution Label</th><th>Attribution Score</th><th>Word Importance</th><tr><td><text style=\"padding-right:2em\"><b>Neg</b></text></td><td><text style=\"padding-right:2em\"><b>Neg (0.00)</b></text></td><td><text style=\"padding-right:2em\"><b>Neg</b></text></td><td><text style=\"padding-right:2em\"><b>0.36</b></text></td><td><mark style=\"background-color: hsl(120, 75%, 90%); opacity:1.0;                     line-height:1.75\"><font color=\"black\"> #s                    </font></mark><mark style=\"background-color: hsl(120, 75%, 88%); opacity:1.0;                     line-height:1.75\"><font color=\"black\"> breaks                    </font></mark><mark style=\"background-color: hsl(120, 75%, 85%); opacity:1.0;                     line-height:1.75\"><font color=\"black\"> the                    </font></mark><mark style=\"background-color: hsl(120, 75%, 96%); opacity:1.0;                     line-height:1.75\"><font color=\"black\"> mood                    </font></mark><mark style=\"background-color: hsl(0, 75%, 83%); opacity:1.0;                     line-height:1.75\"><font color=\"black\"> with                    </font></mark><mark style=\"background-color: hsl(0, 75%, 85%); opacity:1.0;                     line-height:1.75\"><font color=\"black\"> absurdly                    </font></mark><mark style=\"background-color: hsl(120, 75%, 99%); opacity:1.0;                     line-height:1.75\"><font color=\"black\"> inappropriate                    </font></mark><mark style=\"background-color: hsl(0, 75%, 89%); opacity:1.0;                     line-height:1.75\"><font color=\"black\"> `                    </font></mark><mark style=\"background-color: hsl(0, 75%, 92%); opacity:1.0;                     line-height:1.75\"><font color=\"black\"> comedy                    </font></mark><mark style=\"background-color: hsl(120, 75%, 89%); opacity:1.0;                     line-height:1.75\"><font color=\"black\"> '                    </font></mark><mark style=\"background-color: hsl(120, 75%, 75%); opacity:1.0;                     line-height:1.75\"><font color=\"black\"> scenes                    </font></mark><mark style=\"background-color: hsl(120, 75%, 94%); opacity:1.0;                     line-height:1.75\"><font color=\"black\">                     </font></mark><mark style=\"background-color: hsl(120, 75%, 99%); opacity:1.0;                     line-height:1.75\"><font color=\"black\"> #/s                    </font></mark></td><tr></table>"
      ],
      "text/plain": [
       "<IPython.core.display.HTML object>"
      ]
     },
     "metadata": {},
     "output_type": "display_data"
    },
    {
     "name": "stdout",
     "output_type": "stream",
     "text": [
      "<IPython.core.display.HTML object>\n",
      "Raw review: sits there like a side dish no one ordered . \n",
      "GT target: 0\n",
      "asd 13\n"
     ]
    },
    {
     "data": {
      "text/html": [
       "<table width: 100%><div style=\"border-top: 1px solid; margin-top: 5px;             padding-top: 5px; display: inline-block\"><b>Legend: </b><span style=\"display: inline-block; width: 10px; height: 10px;                 border: 1px solid; background-color:                 hsl(0, 75%, 60%)\"></span> Negative  <span style=\"display: inline-block; width: 10px; height: 10px;                 border: 1px solid; background-color:                 hsl(0, 75%, 100%)\"></span> Neutral  <span style=\"display: inline-block; width: 10px; height: 10px;                 border: 1px solid; background-color:                 hsl(120, 75%, 50%)\"></span> Positive  </div><tr><th>True Label</th><th>Predicted Label</th><th>Attribution Label</th><th>Attribution Score</th><th>Word Importance</th><tr><td><text style=\"padding-right:2em\"><b>Neg</b></text></td><td><text style=\"padding-right:2em\"><b>Neg (0.00)</b></text></td><td><text style=\"padding-right:2em\"><b>Pos</b></text></td><td><text style=\"padding-right:2em\"><b>0.65</b></text></td><td><mark style=\"background-color: hsl(0, 75%, 89%); opacity:1.0;                     line-height:1.75\"><font color=\"black\"> #s                    </font></mark><mark style=\"background-color: hsl(0, 75%, 99%); opacity:1.0;                     line-height:1.75\"><font color=\"black\"> sits                    </font></mark><mark style=\"background-color: hsl(0, 75%, 93%); opacity:1.0;                     line-height:1.75\"><font color=\"black\"> there                    </font></mark><mark style=\"background-color: hsl(120, 75%, 97%); opacity:1.0;                     line-height:1.75\"><font color=\"black\"> like                    </font></mark><mark style=\"background-color: hsl(120, 75%, 79%); opacity:1.0;                     line-height:1.75\"><font color=\"black\"> a                    </font></mark><mark style=\"background-color: hsl(0, 75%, 100%); opacity:1.0;                     line-height:1.75\"><font color=\"black\"> side                    </font></mark><mark style=\"background-color: hsl(0, 75%, 100%); opacity:1.0;                     line-height:1.75\"><font color=\"black\"> dish                    </font></mark><mark style=\"background-color: hsl(120, 75%, 74%); opacity:1.0;                     line-height:1.75\"><font color=\"black\"> no                    </font></mark><mark style=\"background-color: hsl(0, 75%, 93%); opacity:1.0;                     line-height:1.75\"><font color=\"black\"> one                    </font></mark><mark style=\"background-color: hsl(120, 75%, 79%); opacity:1.0;                     line-height:1.75\"><font color=\"black\"> ordered                    </font></mark><mark style=\"background-color: hsl(120, 75%, 91%); opacity:1.0;                     line-height:1.75\"><font color=\"black\"> .                    </font></mark><mark style=\"background-color: hsl(0, 75%, 86%); opacity:1.0;                     line-height:1.75\"><font color=\"black\">                     </font></mark><mark style=\"background-color: hsl(120, 75%, 99%); opacity:1.0;                     line-height:1.75\"><font color=\"black\"> #/s                    </font></mark></td><tr></table>"
      ],
      "text/plain": [
       "<IPython.core.display.HTML object>"
      ]
     },
     "metadata": {},
     "output_type": "display_data"
    },
    {
     "name": "stdout",
     "output_type": "stream",
     "text": [
      "<IPython.core.display.HTML object>\n",
      "Raw review: and twisted characters \n",
      "GT target: 1\n",
      "asd 6\n"
     ]
    },
    {
     "data": {
      "text/html": [
       "<table width: 100%><div style=\"border-top: 1px solid; margin-top: 5px;             padding-top: 5px; display: inline-block\"><b>Legend: </b><span style=\"display: inline-block; width: 10px; height: 10px;                 border: 1px solid; background-color:                 hsl(0, 75%, 60%)\"></span> Negative  <span style=\"display: inline-block; width: 10px; height: 10px;                 border: 1px solid; background-color:                 hsl(0, 75%, 100%)\"></span> Neutral  <span style=\"display: inline-block; width: 10px; height: 10px;                 border: 1px solid; background-color:                 hsl(120, 75%, 50%)\"></span> Positive  </div><tr><th>True Label</th><th>Predicted Label</th><th>Attribution Label</th><th>Attribution Score</th><th>Word Importance</th><tr><td><text style=\"padding-right:2em\"><b>Pos</b></text></td><td><text style=\"padding-right:2em\"><b>Pos (0.98)</b></text></td><td><text style=\"padding-right:2em\"><b>Neg</b></text></td><td><text style=\"padding-right:2em\"><b>0.14</b></text></td><td><mark style=\"background-color: hsl(0, 75%, 90%); opacity:1.0;                     line-height:1.75\"><font color=\"black\"> #s                    </font></mark><mark style=\"background-color: hsl(120, 75%, 98%); opacity:1.0;                     line-height:1.75\"><font color=\"black\"> and                    </font></mark><mark style=\"background-color: hsl(0, 75%, 78%); opacity:1.0;                     line-height:1.75\"><font color=\"black\"> twisted                    </font></mark><mark style=\"background-color: hsl(120, 75%, 68%); opacity:1.0;                     line-height:1.75\"><font color=\"black\"> characters                    </font></mark><mark style=\"background-color: hsl(120, 75%, 80%); opacity:1.0;                     line-height:1.75\"><font color=\"black\">                     </font></mark><mark style=\"background-color: hsl(0, 75%, 94%); opacity:1.0;                     line-height:1.75\"><font color=\"black\"> #/s                    </font></mark></td><tr></table>"
      ],
      "text/plain": [
       "<IPython.core.display.HTML object>"
      ]
     },
     "metadata": {},
     "output_type": "display_data"
    },
    {
     "name": "stdout",
     "output_type": "stream",
     "text": [
      "<IPython.core.display.HTML object>\n",
      "Raw review: are simply intoxicating . \n",
      "GT target: 1\n",
      "asd 7\n"
     ]
    },
    {
     "data": {
      "text/html": [
       "<table width: 100%><div style=\"border-top: 1px solid; margin-top: 5px;             padding-top: 5px; display: inline-block\"><b>Legend: </b><span style=\"display: inline-block; width: 10px; height: 10px;                 border: 1px solid; background-color:                 hsl(0, 75%, 60%)\"></span> Negative  <span style=\"display: inline-block; width: 10px; height: 10px;                 border: 1px solid; background-color:                 hsl(0, 75%, 100%)\"></span> Neutral  <span style=\"display: inline-block; width: 10px; height: 10px;                 border: 1px solid; background-color:                 hsl(120, 75%, 50%)\"></span> Positive  </div><tr><th>True Label</th><th>Predicted Label</th><th>Attribution Label</th><th>Attribution Score</th><th>Word Importance</th><tr><td><text style=\"padding-right:2em\"><b>Pos</b></text></td><td><text style=\"padding-right:2em\"><b>Pos (1.00)</b></text></td><td><text style=\"padding-right:2em\"><b>Neg</b></text></td><td><text style=\"padding-right:2em\"><b>0.44</b></text></td><td><mark style=\"background-color: hsl(120, 75%, 92%); opacity:1.0;                     line-height:1.75\"><font color=\"black\"> #s                    </font></mark><mark style=\"background-color: hsl(120, 75%, 90%); opacity:1.0;                     line-height:1.75\"><font color=\"black\"> are                    </font></mark><mark style=\"background-color: hsl(0, 75%, 99%); opacity:1.0;                     line-height:1.75\"><font color=\"black\"> simply                    </font></mark><mark style=\"background-color: hsl(120, 75%, 64%); opacity:1.0;                     line-height:1.75\"><font color=\"black\"> intoxicating                    </font></mark><mark style=\"background-color: hsl(0, 75%, 75%); opacity:1.0;                     line-height:1.75\"><font color=\"black\"> .                    </font></mark><mark style=\"background-color: hsl(0, 75%, 99%); opacity:1.0;                     line-height:1.75\"><font color=\"black\">                     </font></mark><mark style=\"background-color: hsl(120, 75%, 98%); opacity:1.0;                     line-height:1.75\"><font color=\"black\"> #/s                    </font></mark></td><tr></table>"
      ],
      "text/plain": [
       "<IPython.core.display.HTML object>"
      ]
     },
     "metadata": {},
     "output_type": "display_data"
    },
    {
     "name": "stdout",
     "output_type": "stream",
     "text": [
      "<IPython.core.display.HTML object>\n",
      "Raw review: shrek \n",
      "GT target: 1\n",
      "asd 4\n"
     ]
    },
    {
     "data": {
      "text/html": [
       "<table width: 100%><div style=\"border-top: 1px solid; margin-top: 5px;             padding-top: 5px; display: inline-block\"><b>Legend: </b><span style=\"display: inline-block; width: 10px; height: 10px;                 border: 1px solid; background-color:                 hsl(0, 75%, 60%)\"></span> Negative  <span style=\"display: inline-block; width: 10px; height: 10px;                 border: 1px solid; background-color:                 hsl(0, 75%, 100%)\"></span> Neutral  <span style=\"display: inline-block; width: 10px; height: 10px;                 border: 1px solid; background-color:                 hsl(120, 75%, 50%)\"></span> Positive  </div><tr><th>True Label</th><th>Predicted Label</th><th>Attribution Label</th><th>Attribution Score</th><th>Word Importance</th><tr><td><text style=\"padding-right:2em\"><b>Pos</b></text></td><td><text style=\"padding-right:2em\"><b>Pos (0.77)</b></text></td><td><text style=\"padding-right:2em\"><b>Neg</b></text></td><td><text style=\"padding-right:2em\"><b>0.32</b></text></td><td><mark style=\"background-color: hsl(0, 75%, 90%); opacity:1.0;                     line-height:1.75\"><font color=\"black\"> #s                    </font></mark><mark style=\"background-color: hsl(120, 75%, 96%); opacity:1.0;                     line-height:1.75\"><font color=\"black\"> shrek                    </font></mark><mark style=\"background-color: hsl(120, 75%, 57%); opacity:1.0;                     line-height:1.75\"><font color=\"black\">                     </font></mark><mark style=\"background-color: hsl(120, 75%, 100%); opacity:1.0;                     line-height:1.75\"><font color=\"black\"> #/s                    </font></mark></td><tr></table>"
      ],
      "text/plain": [
       "<IPython.core.display.HTML object>"
      ]
     },
     "metadata": {},
     "output_type": "display_data"
    },
    {
     "name": "stdout",
     "output_type": "stream",
     "text": [
      "<IPython.core.display.HTML object>\n",
      "Raw review: 's notably better acted -- and far less crass - than some other recent efforts in the burgeoning genre of films about black urban professionals \n",
      "GT target: 1\n",
      "asd 28\n"
     ]
    },
    {
     "data": {
      "text/html": [
       "<table width: 100%><div style=\"border-top: 1px solid; margin-top: 5px;             padding-top: 5px; display: inline-block\"><b>Legend: </b><span style=\"display: inline-block; width: 10px; height: 10px;                 border: 1px solid; background-color:                 hsl(0, 75%, 60%)\"></span> Negative  <span style=\"display: inline-block; width: 10px; height: 10px;                 border: 1px solid; background-color:                 hsl(0, 75%, 100%)\"></span> Neutral  <span style=\"display: inline-block; width: 10px; height: 10px;                 border: 1px solid; background-color:                 hsl(120, 75%, 50%)\"></span> Positive  </div><tr><th>True Label</th><th>Predicted Label</th><th>Attribution Label</th><th>Attribution Score</th><th>Word Importance</th><tr><td><text style=\"padding-right:2em\"><b>Pos</b></text></td><td><text style=\"padding-right:2em\"><b>Pos (1.00)</b></text></td><td><text style=\"padding-right:2em\"><b>Neg</b></text></td><td><text style=\"padding-right:2em\"><b>-0.98</b></text></td><td><mark style=\"background-color: hsl(0, 75%, 95%); opacity:1.0;                     line-height:1.75\"><font color=\"black\"> #s                    </font></mark><mark style=\"background-color: hsl(0, 75%, 92%); opacity:1.0;                     line-height:1.75\"><font color=\"black\"> 's                    </font></mark><mark style=\"background-color: hsl(0, 75%, 89%); opacity:1.0;                     line-height:1.75\"><font color=\"black\"> notably                    </font></mark><mark style=\"background-color: hsl(120, 75%, 86%); opacity:1.0;                     line-height:1.75\"><font color=\"black\"> better                    </font></mark><mark style=\"background-color: hsl(120, 75%, 91%); opacity:1.0;                     line-height:1.75\"><font color=\"black\"> acted                    </font></mark><mark style=\"background-color: hsl(120, 75%, 98%); opacity:1.0;                     line-height:1.75\"><font color=\"black\"> --                    </font></mark><mark style=\"background-color: hsl(120, 75%, 96%); opacity:1.0;                     line-height:1.75\"><font color=\"black\"> and                    </font></mark><mark style=\"background-color: hsl(0, 75%, 100%); opacity:1.0;                     line-height:1.75\"><font color=\"black\"> far                    </font></mark><mark style=\"background-color: hsl(120, 75%, 87%); opacity:1.0;                     line-height:1.75\"><font color=\"black\"> less                    </font></mark><mark style=\"background-color: hsl(120, 75%, 95%); opacity:1.0;                     line-height:1.75\"><font color=\"black\"> crass                    </font></mark><mark style=\"background-color: hsl(0, 75%, 85%); opacity:1.0;                     line-height:1.75\"><font color=\"black\"> -                    </font></mark><mark style=\"background-color: hsl(120, 75%, 91%); opacity:1.0;                     line-height:1.75\"><font color=\"black\"> than                    </font></mark><mark style=\"background-color: hsl(0, 75%, 100%); opacity:1.0;                     line-height:1.75\"><font color=\"black\"> some                    </font></mark><mark style=\"background-color: hsl(0, 75%, 96%); opacity:1.0;                     line-height:1.75\"><font color=\"black\"> other                    </font></mark><mark style=\"background-color: hsl(120, 75%, 94%); opacity:1.0;                     line-height:1.75\"><font color=\"black\"> recent                    </font></mark><mark style=\"background-color: hsl(0, 75%, 97%); opacity:1.0;                     line-height:1.75\"><font color=\"black\"> efforts                    </font></mark><mark style=\"background-color: hsl(0, 75%, 95%); opacity:1.0;                     line-height:1.75\"><font color=\"black\"> in                    </font></mark><mark style=\"background-color: hsl(120, 75%, 100%); opacity:1.0;                     line-height:1.75\"><font color=\"black\"> the                    </font></mark><mark style=\"background-color: hsl(120, 75%, 99%); opacity:1.0;                     line-height:1.75\"><font color=\"black\"> burgeoning                    </font></mark><mark style=\"background-color: hsl(120, 75%, 93%); opacity:1.0;                     line-height:1.75\"><font color=\"black\"> genre                    </font></mark><mark style=\"background-color: hsl(0, 75%, 95%); opacity:1.0;                     line-height:1.75\"><font color=\"black\"> of                    </font></mark><mark style=\"background-color: hsl(0, 75%, 99%); opacity:1.0;                     line-height:1.75\"><font color=\"black\"> films                    </font></mark><mark style=\"background-color: hsl(0, 75%, 93%); opacity:1.0;                     line-height:1.75\"><font color=\"black\"> about                    </font></mark><mark style=\"background-color: hsl(0, 75%, 97%); opacity:1.0;                     line-height:1.75\"><font color=\"black\"> black                    </font></mark><mark style=\"background-color: hsl(0, 75%, 92%); opacity:1.0;                     line-height:1.75\"><font color=\"black\"> urban                    </font></mark><mark style=\"background-color: hsl(0, 75%, 97%); opacity:1.0;                     line-height:1.75\"><font color=\"black\"> professionals                    </font></mark><mark style=\"background-color: hsl(0, 75%, 81%); opacity:1.0;                     line-height:1.75\"><font color=\"black\">                     </font></mark><mark style=\"background-color: hsl(120, 75%, 97%); opacity:1.0;                     line-height:1.75\"><font color=\"black\"> #/s                    </font></mark></td><tr></table>"
      ],
      "text/plain": [
       "<IPython.core.display.HTML object>"
      ]
     },
     "metadata": {},
     "output_type": "display_data"
    },
    {
     "name": "stdout",
     "output_type": "stream",
     "text": [
      "<IPython.core.display.HTML object>\n",
      "Raw review: in freshening the play \n",
      "GT target: 1\n",
      "asd 7\n"
     ]
    },
    {
     "data": {
      "text/html": [
       "<table width: 100%><div style=\"border-top: 1px solid; margin-top: 5px;             padding-top: 5px; display: inline-block\"><b>Legend: </b><span style=\"display: inline-block; width: 10px; height: 10px;                 border: 1px solid; background-color:                 hsl(0, 75%, 60%)\"></span> Negative  <span style=\"display: inline-block; width: 10px; height: 10px;                 border: 1px solid; background-color:                 hsl(0, 75%, 100%)\"></span> Neutral  <span style=\"display: inline-block; width: 10px; height: 10px;                 border: 1px solid; background-color:                 hsl(120, 75%, 50%)\"></span> Positive  </div><tr><th>True Label</th><th>Predicted Label</th><th>Attribution Label</th><th>Attribution Score</th><th>Word Importance</th><tr><td><text style=\"padding-right:2em\"><b>Pos</b></text></td><td><text style=\"padding-right:2em\"><b>Pos (1.00)</b></text></td><td><text style=\"padding-right:2em\"><b>Neg</b></text></td><td><text style=\"padding-right:2em\"><b>-0.45</b></text></td><td><mark style=\"background-color: hsl(0, 75%, 82%); opacity:1.0;                     line-height:1.75\"><font color=\"black\"> #s                    </font></mark><mark style=\"background-color: hsl(120, 75%, 98%); opacity:1.0;                     line-height:1.75\"><font color=\"black\"> in                    </font></mark><mark style=\"background-color: hsl(120, 75%, 89%); opacity:1.0;                     line-height:1.75\"><font color=\"black\"> freshening                    </font></mark><mark style=\"background-color: hsl(120, 75%, 82%); opacity:1.0;                     line-height:1.75\"><font color=\"black\"> the                    </font></mark><mark style=\"background-color: hsl(0, 75%, 90%); opacity:1.0;                     line-height:1.75\"><font color=\"black\"> play                    </font></mark><mark style=\"background-color: hsl(120, 75%, 85%); opacity:1.0;                     line-height:1.75\"><font color=\"black\">                     </font></mark><mark style=\"background-color: hsl(0, 75%, 75%); opacity:1.0;                     line-height:1.75\"><font color=\"black\"> #/s                    </font></mark></td><tr></table>"
      ],
      "text/plain": [
       "<IPython.core.display.HTML object>"
      ]
     },
     "metadata": {},
     "output_type": "display_data"
    },
    {
     "name": "stdout",
     "output_type": "stream",
     "text": [
      "<IPython.core.display.HTML object>\n",
      "Raw review: a bore that tends to hammer home every one of its points . \n",
      "GT target: 0\n",
      "asd 16\n"
     ]
    },
    {
     "data": {
      "text/html": [
       "<table width: 100%><div style=\"border-top: 1px solid; margin-top: 5px;             padding-top: 5px; display: inline-block\"><b>Legend: </b><span style=\"display: inline-block; width: 10px; height: 10px;                 border: 1px solid; background-color:                 hsl(0, 75%, 60%)\"></span> Negative  <span style=\"display: inline-block; width: 10px; height: 10px;                 border: 1px solid; background-color:                 hsl(0, 75%, 100%)\"></span> Neutral  <span style=\"display: inline-block; width: 10px; height: 10px;                 border: 1px solid; background-color:                 hsl(120, 75%, 50%)\"></span> Positive  </div><tr><th>True Label</th><th>Predicted Label</th><th>Attribution Label</th><th>Attribution Score</th><th>Word Importance</th><tr><td><text style=\"padding-right:2em\"><b>Neg</b></text></td><td><text style=\"padding-right:2em\"><b>Neg (0.00)</b></text></td><td><text style=\"padding-right:2em\"><b>Neg</b></text></td><td><text style=\"padding-right:2em\"><b>-0.50</b></text></td><td><mark style=\"background-color: hsl(120, 75%, 98%); opacity:1.0;                     line-height:1.75\"><font color=\"black\"> #s                    </font></mark><mark style=\"background-color: hsl(0, 75%, 95%); opacity:1.0;                     line-height:1.75\"><font color=\"black\"> a                    </font></mark><mark style=\"background-color: hsl(0, 75%, 77%); opacity:1.0;                     line-height:1.75\"><font color=\"black\"> bore                    </font></mark><mark style=\"background-color: hsl(0, 75%, 97%); opacity:1.0;                     line-height:1.75\"><font color=\"black\"> that                    </font></mark><mark style=\"background-color: hsl(120, 75%, 83%); opacity:1.0;                     line-height:1.75\"><font color=\"black\"> tends                    </font></mark><mark style=\"background-color: hsl(120, 75%, 99%); opacity:1.0;                     line-height:1.75\"><font color=\"black\"> to                    </font></mark><mark style=\"background-color: hsl(0, 75%, 77%); opacity:1.0;                     line-height:1.75\"><font color=\"black\"> hammer                    </font></mark><mark style=\"background-color: hsl(0, 75%, 91%); opacity:1.0;                     line-height:1.75\"><font color=\"black\"> home                    </font></mark><mark style=\"background-color: hsl(120, 75%, 99%); opacity:1.0;                     line-height:1.75\"><font color=\"black\"> every                    </font></mark><mark style=\"background-color: hsl(120, 75%, 98%); opacity:1.0;                     line-height:1.75\"><font color=\"black\"> one                    </font></mark><mark style=\"background-color: hsl(120, 75%, 91%); opacity:1.0;                     line-height:1.75\"><font color=\"black\"> of                    </font></mark><mark style=\"background-color: hsl(120, 75%, 88%); opacity:1.0;                     line-height:1.75\"><font color=\"black\"> its                    </font></mark><mark style=\"background-color: hsl(120, 75%, 96%); opacity:1.0;                     line-height:1.75\"><font color=\"black\"> points                    </font></mark><mark style=\"background-color: hsl(120, 75%, 95%); opacity:1.0;                     line-height:1.75\"><font color=\"black\"> .                    </font></mark><mark style=\"background-color: hsl(0, 75%, 100%); opacity:1.0;                     line-height:1.75\"><font color=\"black\">                     </font></mark><mark style=\"background-color: hsl(0, 75%, 99%); opacity:1.0;                     line-height:1.75\"><font color=\"black\"> #/s                    </font></mark></td><tr></table>"
      ],
      "text/plain": [
       "<IPython.core.display.HTML object>"
      ]
     },
     "metadata": {},
     "output_type": "display_data"
    },
    {
     "name": "stdout",
     "output_type": "stream",
     "text": [
      "<IPython.core.display.HTML object>\n",
      "Raw review: the images often look smeary and blurry , to the point of distraction \n",
      "GT target: 0\n",
      "asd 16\n"
     ]
    },
    {
     "data": {
      "text/html": [
       "<table width: 100%><div style=\"border-top: 1px solid; margin-top: 5px;             padding-top: 5px; display: inline-block\"><b>Legend: </b><span style=\"display: inline-block; width: 10px; height: 10px;                 border: 1px solid; background-color:                 hsl(0, 75%, 60%)\"></span> Negative  <span style=\"display: inline-block; width: 10px; height: 10px;                 border: 1px solid; background-color:                 hsl(0, 75%, 100%)\"></span> Neutral  <span style=\"display: inline-block; width: 10px; height: 10px;                 border: 1px solid; background-color:                 hsl(120, 75%, 50%)\"></span> Positive  </div><tr><th>True Label</th><th>Predicted Label</th><th>Attribution Label</th><th>Attribution Score</th><th>Word Importance</th><tr><td><text style=\"padding-right:2em\"><b>Neg</b></text></td><td><text style=\"padding-right:2em\"><b>Neg (0.00)</b></text></td><td><text style=\"padding-right:2em\"><b>Pos</b></text></td><td><text style=\"padding-right:2em\"><b>1.00</b></text></td><td><mark style=\"background-color: hsl(0, 75%, 97%); opacity:1.0;                     line-height:1.75\"><font color=\"black\"> #s                    </font></mark><mark style=\"background-color: hsl(0, 75%, 96%); opacity:1.0;                     line-height:1.75\"><font color=\"black\"> the                    </font></mark><mark style=\"background-color: hsl(0, 75%, 86%); opacity:1.0;                     line-height:1.75\"><font color=\"black\"> images                    </font></mark><mark style=\"background-color: hsl(0, 75%, 98%); opacity:1.0;                     line-height:1.75\"><font color=\"black\"> often                    </font></mark><mark style=\"background-color: hsl(120, 75%, 86%); opacity:1.0;                     line-height:1.75\"><font color=\"black\"> look                    </font></mark><mark style=\"background-color: hsl(120, 75%, 80%); opacity:1.0;                     line-height:1.75\"><font color=\"black\"> smeary                    </font></mark><mark style=\"background-color: hsl(0, 75%, 91%); opacity:1.0;                     line-height:1.75\"><font color=\"black\"> and                    </font></mark><mark style=\"background-color: hsl(0, 75%, 94%); opacity:1.0;                     line-height:1.75\"><font color=\"black\"> blurry                    </font></mark><mark style=\"background-color: hsl(120, 75%, 77%); opacity:1.0;                     line-height:1.75\"><font color=\"black\"> ,                    </font></mark><mark style=\"background-color: hsl(120, 75%, 82%); opacity:1.0;                     line-height:1.75\"><font color=\"black\"> to                    </font></mark><mark style=\"background-color: hsl(120, 75%, 98%); opacity:1.0;                     line-height:1.75\"><font color=\"black\"> the                    </font></mark><mark style=\"background-color: hsl(120, 75%, 95%); opacity:1.0;                     line-height:1.75\"><font color=\"black\"> point                    </font></mark><mark style=\"background-color: hsl(120, 75%, 93%); opacity:1.0;                     line-height:1.75\"><font color=\"black\"> of                    </font></mark><mark style=\"background-color: hsl(0, 75%, 91%); opacity:1.0;                     line-height:1.75\"><font color=\"black\"> distraction                    </font></mark><mark style=\"background-color: hsl(120, 75%, 90%); opacity:1.0;                     line-height:1.75\"><font color=\"black\">                     </font></mark><mark style=\"background-color: hsl(120, 75%, 92%); opacity:1.0;                     line-height:1.75\"><font color=\"black\"> #/s                    </font></mark></td><tr></table>"
      ],
      "text/plain": [
       "<IPython.core.display.HTML object>"
      ]
     },
     "metadata": {},
     "output_type": "display_data"
    },
    {
     "name": "stdout",
     "output_type": "stream",
     "text": [
      "<IPython.core.display.HTML object>\n",
      "Raw review: than sketches ... which leaves any true emotional connection or identification frustratingly out of reach \n",
      "GT target: 0\n",
      "asd 18\n"
     ]
    },
    {
     "data": {
      "text/html": [
       "<table width: 100%><div style=\"border-top: 1px solid; margin-top: 5px;             padding-top: 5px; display: inline-block\"><b>Legend: </b><span style=\"display: inline-block; width: 10px; height: 10px;                 border: 1px solid; background-color:                 hsl(0, 75%, 60%)\"></span> Negative  <span style=\"display: inline-block; width: 10px; height: 10px;                 border: 1px solid; background-color:                 hsl(0, 75%, 100%)\"></span> Neutral  <span style=\"display: inline-block; width: 10px; height: 10px;                 border: 1px solid; background-color:                 hsl(120, 75%, 50%)\"></span> Positive  </div><tr><th>True Label</th><th>Predicted Label</th><th>Attribution Label</th><th>Attribution Score</th><th>Word Importance</th><tr><td><text style=\"padding-right:2em\"><b>Neg</b></text></td><td><text style=\"padding-right:2em\"><b>Neg (0.00)</b></text></td><td><text style=\"padding-right:2em\"><b>Pos</b></text></td><td><text style=\"padding-right:2em\"><b>1.38</b></text></td><td><mark style=\"background-color: hsl(120, 75%, 97%); opacity:1.0;                     line-height:1.75\"><font color=\"black\"> #s                    </font></mark><mark style=\"background-color: hsl(120, 75%, 92%); opacity:1.0;                     line-height:1.75\"><font color=\"black\"> than                    </font></mark><mark style=\"background-color: hsl(120, 75%, 61%); opacity:1.0;                     line-height:1.75\"><font color=\"black\"> sketches                    </font></mark><mark style=\"background-color: hsl(0, 75%, 96%); opacity:1.0;                     line-height:1.75\"><font color=\"black\"> ...                    </font></mark><mark style=\"background-color: hsl(0, 75%, 95%); opacity:1.0;                     line-height:1.75\"><font color=\"black\"> which                    </font></mark><mark style=\"background-color: hsl(0, 75%, 96%); opacity:1.0;                     line-height:1.75\"><font color=\"black\"> leaves                    </font></mark><mark style=\"background-color: hsl(120, 75%, 98%); opacity:1.0;                     line-height:1.75\"><font color=\"black\"> any                    </font></mark><mark style=\"background-color: hsl(0, 75%, 99%); opacity:1.0;                     line-height:1.75\"><font color=\"black\"> true                    </font></mark><mark style=\"background-color: hsl(120, 75%, 94%); opacity:1.0;                     line-height:1.75\"><font color=\"black\"> emotional                    </font></mark><mark style=\"background-color: hsl(120, 75%, 88%); opacity:1.0;                     line-height:1.75\"><font color=\"black\"> connection                    </font></mark><mark style=\"background-color: hsl(0, 75%, 97%); opacity:1.0;                     line-height:1.75\"><font color=\"black\"> or                    </font></mark><mark style=\"background-color: hsl(0, 75%, 98%); opacity:1.0;                     line-height:1.75\"><font color=\"black\"> identification                    </font></mark><mark style=\"background-color: hsl(120, 75%, 79%); opacity:1.0;                     line-height:1.75\"><font color=\"black\"> frustratingly                    </font></mark><mark style=\"background-color: hsl(0, 75%, 99%); opacity:1.0;                     line-height:1.75\"><font color=\"black\"> out                    </font></mark><mark style=\"background-color: hsl(120, 75%, 92%); opacity:1.0;                     line-height:1.75\"><font color=\"black\"> of                    </font></mark><mark style=\"background-color: hsl(0, 75%, 100%); opacity:1.0;                     line-height:1.75\"><font color=\"black\"> reach                    </font></mark><mark style=\"background-color: hsl(0, 75%, 99%); opacity:1.0;                     line-height:1.75\"><font color=\"black\">                     </font></mark><mark style=\"background-color: hsl(120, 75%, 99%); opacity:1.0;                     line-height:1.75\"><font color=\"black\"> #/s                    </font></mark></td><tr></table>"
      ],
      "text/plain": [
       "<IPython.core.display.HTML object>"
      ]
     },
     "metadata": {},
     "output_type": "display_data"
    },
    {
     "name": "stdout",
     "output_type": "stream",
     "text": [
      "<IPython.core.display.HTML object>\n",
      "Raw review: stirs us \n",
      "GT target: 1\n",
      "asd 5\n"
     ]
    },
    {
     "data": {
      "text/html": [
       "<table width: 100%><div style=\"border-top: 1px solid; margin-top: 5px;             padding-top: 5px; display: inline-block\"><b>Legend: </b><span style=\"display: inline-block; width: 10px; height: 10px;                 border: 1px solid; background-color:                 hsl(0, 75%, 60%)\"></span> Negative  <span style=\"display: inline-block; width: 10px; height: 10px;                 border: 1px solid; background-color:                 hsl(0, 75%, 100%)\"></span> Neutral  <span style=\"display: inline-block; width: 10px; height: 10px;                 border: 1px solid; background-color:                 hsl(120, 75%, 50%)\"></span> Positive  </div><tr><th>True Label</th><th>Predicted Label</th><th>Attribution Label</th><th>Attribution Score</th><th>Word Importance</th><tr><td><text style=\"padding-right:2em\"><b>Pos</b></text></td><td><text style=\"padding-right:2em\"><b>Pos (1.00)</b></text></td><td><text style=\"padding-right:2em\"><b>Neg</b></text></td><td><text style=\"padding-right:2em\"><b>-0.38</b></text></td><td><mark style=\"background-color: hsl(0, 75%, 91%); opacity:1.0;                     line-height:1.75\"><font color=\"black\"> #s                    </font></mark><mark style=\"background-color: hsl(0, 75%, 97%); opacity:1.0;                     line-height:1.75\"><font color=\"black\"> stirs                    </font></mark><mark style=\"background-color: hsl(0, 75%, 91%); opacity:1.0;                     line-height:1.75\"><font color=\"black\"> us                    </font></mark><mark style=\"background-color: hsl(120, 75%, 60%); opacity:1.0;                     line-height:1.75\"><font color=\"black\">                     </font></mark><mark style=\"background-color: hsl(0, 75%, 83%); opacity:1.0;                     line-height:1.75\"><font color=\"black\"> #/s                    </font></mark></td><tr></table>"
      ],
      "text/plain": [
       "<IPython.core.display.HTML object>"
      ]
     },
     "metadata": {},
     "output_type": "display_data"
    },
    {
     "name": "stdout",
     "output_type": "stream",
     "text": [
      "<IPython.core.display.HTML object>\n",
      "Raw review: it 's funny . \n",
      "GT target: 1\n",
      "asd 7\n"
     ]
    },
    {
     "data": {
      "text/html": [
       "<table width: 100%><div style=\"border-top: 1px solid; margin-top: 5px;             padding-top: 5px; display: inline-block\"><b>Legend: </b><span style=\"display: inline-block; width: 10px; height: 10px;                 border: 1px solid; background-color:                 hsl(0, 75%, 60%)\"></span> Negative  <span style=\"display: inline-block; width: 10px; height: 10px;                 border: 1px solid; background-color:                 hsl(0, 75%, 100%)\"></span> Neutral  <span style=\"display: inline-block; width: 10px; height: 10px;                 border: 1px solid; background-color:                 hsl(120, 75%, 50%)\"></span> Positive  </div><tr><th>True Label</th><th>Predicted Label</th><th>Attribution Label</th><th>Attribution Score</th><th>Word Importance</th><tr><td><text style=\"padding-right:2em\"><b>Pos</b></text></td><td><text style=\"padding-right:2em\"><b>Pos (1.00)</b></text></td><td><text style=\"padding-right:2em\"><b>Pos</b></text></td><td><text style=\"padding-right:2em\"><b>1.16</b></text></td><td><mark style=\"background-color: hsl(0, 75%, 94%); opacity:1.0;                     line-height:1.75\"><font color=\"black\"> #s                    </font></mark><mark style=\"background-color: hsl(120, 75%, 79%); opacity:1.0;                     line-height:1.75\"><font color=\"black\"> it                    </font></mark><mark style=\"background-color: hsl(0, 75%, 98%); opacity:1.0;                     line-height:1.75\"><font color=\"black\"> 's                    </font></mark><mark style=\"background-color: hsl(120, 75%, 95%); opacity:1.0;                     line-height:1.75\"><font color=\"black\"> funny                    </font></mark><mark style=\"background-color: hsl(120, 75%, 60%); opacity:1.0;                     line-height:1.75\"><font color=\"black\"> .                    </font></mark><mark style=\"background-color: hsl(0, 75%, 95%); opacity:1.0;                     line-height:1.75\"><font color=\"black\">                     </font></mark><mark style=\"background-color: hsl(120, 75%, 86%); opacity:1.0;                     line-height:1.75\"><font color=\"black\"> #/s                    </font></mark></td><tr></table>"
      ],
      "text/plain": [
       "<IPython.core.display.HTML object>"
      ]
     },
     "metadata": {},
     "output_type": "display_data"
    },
    {
     "name": "stdout",
     "output_type": "stream",
     "text": [
      "<IPython.core.display.HTML object>\n",
      "Raw review: given up \n",
      "GT target: 0\n",
      "asd 5\n"
     ]
    },
    {
     "data": {
      "text/html": [
       "<table width: 100%><div style=\"border-top: 1px solid; margin-top: 5px;             padding-top: 5px; display: inline-block\"><b>Legend: </b><span style=\"display: inline-block; width: 10px; height: 10px;                 border: 1px solid; background-color:                 hsl(0, 75%, 60%)\"></span> Negative  <span style=\"display: inline-block; width: 10px; height: 10px;                 border: 1px solid; background-color:                 hsl(0, 75%, 100%)\"></span> Neutral  <span style=\"display: inline-block; width: 10px; height: 10px;                 border: 1px solid; background-color:                 hsl(120, 75%, 50%)\"></span> Positive  </div><tr><th>True Label</th><th>Predicted Label</th><th>Attribution Label</th><th>Attribution Score</th><th>Word Importance</th><tr><td><text style=\"padding-right:2em\"><b>Neg</b></text></td><td><text style=\"padding-right:2em\"><b>Neg (0.00)</b></text></td><td><text style=\"padding-right:2em\"><b>Pos</b></text></td><td><text style=\"padding-right:2em\"><b>0.58</b></text></td><td><mark style=\"background-color: hsl(0, 75%, 99%); opacity:1.0;                     line-height:1.75\"><font color=\"black\"> #s                    </font></mark><mark style=\"background-color: hsl(120, 75%, 54%); opacity:1.0;                     line-height:1.75\"><font color=\"black\"> given                    </font></mark><mark style=\"background-color: hsl(0, 75%, 87%); opacity:1.0;                     line-height:1.75\"><font color=\"black\"> up                    </font></mark><mark style=\"background-color: hsl(120, 75%, 97%); opacity:1.0;                     line-height:1.75\"><font color=\"black\">                     </font></mark><mark style=\"background-color: hsl(0, 75%, 99%); opacity:1.0;                     line-height:1.75\"><font color=\"black\"> #/s                    </font></mark></td><tr></table>"
      ],
      "text/plain": [
       "<IPython.core.display.HTML object>"
      ]
     },
     "metadata": {},
     "output_type": "display_data"
    },
    {
     "name": "stdout",
     "output_type": "stream",
     "text": [
      "<IPython.core.display.HTML object>\n",
      "Raw review: no way original \n",
      "GT target: 0\n",
      "asd 6\n"
     ]
    },
    {
     "data": {
      "text/html": [
       "<table width: 100%><div style=\"border-top: 1px solid; margin-top: 5px;             padding-top: 5px; display: inline-block\"><b>Legend: </b><span style=\"display: inline-block; width: 10px; height: 10px;                 border: 1px solid; background-color:                 hsl(0, 75%, 60%)\"></span> Negative  <span style=\"display: inline-block; width: 10px; height: 10px;                 border: 1px solid; background-color:                 hsl(0, 75%, 100%)\"></span> Neutral  <span style=\"display: inline-block; width: 10px; height: 10px;                 border: 1px solid; background-color:                 hsl(120, 75%, 50%)\"></span> Positive  </div><tr><th>True Label</th><th>Predicted Label</th><th>Attribution Label</th><th>Attribution Score</th><th>Word Importance</th><tr><td><text style=\"padding-right:2em\"><b>Neg</b></text></td><td><text style=\"padding-right:2em\"><b>Neg (0.00)</b></text></td><td><text style=\"padding-right:2em\"><b>Pos</b></text></td><td><text style=\"padding-right:2em\"><b>1.18</b></text></td><td><mark style=\"background-color: hsl(120, 75%, 98%); opacity:1.0;                     line-height:1.75\"><font color=\"black\"> #s                    </font></mark><mark style=\"background-color: hsl(120, 75%, 88%); opacity:1.0;                     line-height:1.75\"><font color=\"black\"> no                    </font></mark><mark style=\"background-color: hsl(120, 75%, 59%); opacity:1.0;                     line-height:1.75\"><font color=\"black\"> way                    </font></mark><mark style=\"background-color: hsl(120, 75%, 83%); opacity:1.0;                     line-height:1.75\"><font color=\"black\"> original                    </font></mark><mark style=\"background-color: hsl(0, 75%, 87%); opacity:1.0;                     line-height:1.75\"><font color=\"black\">                     </font></mark><mark style=\"background-color: hsl(120, 75%, 99%); opacity:1.0;                     line-height:1.75\"><font color=\"black\"> #/s                    </font></mark></td><tr></table>"
      ],
      "text/plain": [
       "<IPython.core.display.HTML object>"
      ]
     },
     "metadata": {},
     "output_type": "display_data"
    },
    {
     "name": "stdout",
     "output_type": "stream",
     "text": [
      "<IPython.core.display.HTML object>\n",
      "Raw review: together ( time out and human resources ) establish mr. cantet as france 's foremost cinematic poet of the workplace . \n",
      "GT target: 1\n",
      "asd 24\n"
     ]
    },
    {
     "data": {
      "text/html": [
       "<table width: 100%><div style=\"border-top: 1px solid; margin-top: 5px;             padding-top: 5px; display: inline-block\"><b>Legend: </b><span style=\"display: inline-block; width: 10px; height: 10px;                 border: 1px solid; background-color:                 hsl(0, 75%, 60%)\"></span> Negative  <span style=\"display: inline-block; width: 10px; height: 10px;                 border: 1px solid; background-color:                 hsl(0, 75%, 100%)\"></span> Neutral  <span style=\"display: inline-block; width: 10px; height: 10px;                 border: 1px solid; background-color:                 hsl(120, 75%, 50%)\"></span> Positive  </div><tr><th>True Label</th><th>Predicted Label</th><th>Attribution Label</th><th>Attribution Score</th><th>Word Importance</th><tr><td><text style=\"padding-right:2em\"><b>Pos</b></text></td><td><text style=\"padding-right:2em\"><b>Pos (1.00)</b></text></td><td><text style=\"padding-right:2em\"><b>Neg</b></text></td><td><text style=\"padding-right:2em\"><b>-0.49</b></text></td><td><mark style=\"background-color: hsl(120, 75%, 95%); opacity:1.0;                     line-height:1.75\"><font color=\"black\"> #s                    </font></mark><mark style=\"background-color: hsl(120, 75%, 77%); opacity:1.0;                     line-height:1.75\"><font color=\"black\"> together                    </font></mark><mark style=\"background-color: hsl(0, 75%, 99%); opacity:1.0;                     line-height:1.75\"><font color=\"black\"> (                    </font></mark><mark style=\"background-color: hsl(120, 75%, 100%); opacity:1.0;                     line-height:1.75\"><font color=\"black\"> time                    </font></mark><mark style=\"background-color: hsl(120, 75%, 96%); opacity:1.0;                     line-height:1.75\"><font color=\"black\"> out                    </font></mark><mark style=\"background-color: hsl(0, 75%, 99%); opacity:1.0;                     line-height:1.75\"><font color=\"black\"> and                    </font></mark><mark style=\"background-color: hsl(120, 75%, 83%); opacity:1.0;                     line-height:1.75\"><font color=\"black\"> human                    </font></mark><mark style=\"background-color: hsl(0, 75%, 91%); opacity:1.0;                     line-height:1.75\"><font color=\"black\"> resources                    </font></mark><mark style=\"background-color: hsl(0, 75%, 98%); opacity:1.0;                     line-height:1.75\"><font color=\"black\"> )                    </font></mark><mark style=\"background-color: hsl(0, 75%, 86%); opacity:1.0;                     line-height:1.75\"><font color=\"black\"> establish                    </font></mark><mark style=\"background-color: hsl(0, 75%, 95%); opacity:1.0;                     line-height:1.75\"><font color=\"black\"> mr.                    </font></mark><mark style=\"background-color: hsl(0, 75%, 96%); opacity:1.0;                     line-height:1.75\"><font color=\"black\"> cantet                    </font></mark><mark style=\"background-color: hsl(120, 75%, 95%); opacity:1.0;                     line-height:1.75\"><font color=\"black\"> as                    </font></mark><mark style=\"background-color: hsl(0, 75%, 96%); opacity:1.0;                     line-height:1.75\"><font color=\"black\"> france                    </font></mark><mark style=\"background-color: hsl(0, 75%, 100%); opacity:1.0;                     line-height:1.75\"><font color=\"black\"> 's                    </font></mark><mark style=\"background-color: hsl(0, 75%, 96%); opacity:1.0;                     line-height:1.75\"><font color=\"black\"> foremost                    </font></mark><mark style=\"background-color: hsl(0, 75%, 98%); opacity:1.0;                     line-height:1.75\"><font color=\"black\"> cinematic                    </font></mark><mark style=\"background-color: hsl(120, 75%, 94%); opacity:1.0;                     line-height:1.75\"><font color=\"black\"> poet                    </font></mark><mark style=\"background-color: hsl(120, 75%, 96%); opacity:1.0;                     line-height:1.75\"><font color=\"black\"> of                    </font></mark><mark style=\"background-color: hsl(0, 75%, 99%); opacity:1.0;                     line-height:1.75\"><font color=\"black\"> the                    </font></mark><mark style=\"background-color: hsl(120, 75%, 99%); opacity:1.0;                     line-height:1.75\"><font color=\"black\"> workplace                    </font></mark><mark style=\"background-color: hsl(0, 75%, 87%); opacity:1.0;                     line-height:1.75\"><font color=\"black\"> .                    </font></mark><mark style=\"background-color: hsl(120, 75%, 88%); opacity:1.0;                     line-height:1.75\"><font color=\"black\">                     </font></mark><mark style=\"background-color: hsl(120, 75%, 95%); opacity:1.0;                     line-height:1.75\"><font color=\"black\"> #/s                    </font></mark></td><tr></table>"
      ],
      "text/plain": [
       "<IPython.core.display.HTML object>"
      ]
     },
     "metadata": {},
     "output_type": "display_data"
    },
    {
     "name": "stdout",
     "output_type": "stream",
     "text": [
      "<IPython.core.display.HTML object>\n",
      "Raw review: stylish and moody \n",
      "GT target: 1\n",
      "asd 6\n"
     ]
    },
    {
     "data": {
      "text/html": [
       "<table width: 100%><div style=\"border-top: 1px solid; margin-top: 5px;             padding-top: 5px; display: inline-block\"><b>Legend: </b><span style=\"display: inline-block; width: 10px; height: 10px;                 border: 1px solid; background-color:                 hsl(0, 75%, 60%)\"></span> Negative  <span style=\"display: inline-block; width: 10px; height: 10px;                 border: 1px solid; background-color:                 hsl(0, 75%, 100%)\"></span> Neutral  <span style=\"display: inline-block; width: 10px; height: 10px;                 border: 1px solid; background-color:                 hsl(120, 75%, 50%)\"></span> Positive  </div><tr><th>True Label</th><th>Predicted Label</th><th>Attribution Label</th><th>Attribution Score</th><th>Word Importance</th><tr><td><text style=\"padding-right:2em\"><b>Pos</b></text></td><td><text style=\"padding-right:2em\"><b>Pos (1.00)</b></text></td><td><text style=\"padding-right:2em\"><b>Pos</b></text></td><td><text style=\"padding-right:2em\"><b>0.64</b></text></td><td><mark style=\"background-color: hsl(120, 75%, 60%); opacity:1.0;                     line-height:1.75\"><font color=\"black\"> #s                    </font></mark><mark style=\"background-color: hsl(0, 75%, 100%); opacity:1.0;                     line-height:1.75\"><font color=\"black\"> stylish                    </font></mark><mark style=\"background-color: hsl(0, 75%, 93%); opacity:1.0;                     line-height:1.75\"><font color=\"black\"> and                    </font></mark><mark style=\"background-color: hsl(120, 75%, 95%); opacity:1.0;                     line-height:1.75\"><font color=\"black\"> moody                    </font></mark><mark style=\"background-color: hsl(120, 75%, 81%); opacity:1.0;                     line-height:1.75\"><font color=\"black\">                     </font></mark><mark style=\"background-color: hsl(120, 75%, 100%); opacity:1.0;                     line-height:1.75\"><font color=\"black\"> #/s                    </font></mark></td><tr></table>"
      ],
      "text/plain": [
       "<IPython.core.display.HTML object>"
      ]
     },
     "metadata": {},
     "output_type": "display_data"
    },
    {
     "name": "stdout",
     "output_type": "stream",
     "text": [
      "<IPython.core.display.HTML object>\n",
      "Raw review: vulgarity \n",
      "GT target: 0\n",
      "asd 4\n"
     ]
    },
    {
     "data": {
      "text/html": [
       "<table width: 100%><div style=\"border-top: 1px solid; margin-top: 5px;             padding-top: 5px; display: inline-block\"><b>Legend: </b><span style=\"display: inline-block; width: 10px; height: 10px;                 border: 1px solid; background-color:                 hsl(0, 75%, 60%)\"></span> Negative  <span style=\"display: inline-block; width: 10px; height: 10px;                 border: 1px solid; background-color:                 hsl(0, 75%, 100%)\"></span> Neutral  <span style=\"display: inline-block; width: 10px; height: 10px;                 border: 1px solid; background-color:                 hsl(120, 75%, 50%)\"></span> Positive  </div><tr><th>True Label</th><th>Predicted Label</th><th>Attribution Label</th><th>Attribution Score</th><th>Word Importance</th><tr><td><text style=\"padding-right:2em\"><b>Neg</b></text></td><td><text style=\"padding-right:2em\"><b>Neg (0.00)</b></text></td><td><text style=\"padding-right:2em\"><b>Neg</b></text></td><td><text style=\"padding-right:2em\"><b>0.25</b></text></td><td><mark style=\"background-color: hsl(120, 75%, 95%); opacity:1.0;                     line-height:1.75\"><font color=\"black\"> #s                    </font></mark><mark style=\"background-color: hsl(120, 75%, 89%); opacity:1.0;                     line-height:1.75\"><font color=\"black\"> vulgarity                    </font></mark><mark style=\"background-color: hsl(120, 75%, 76%); opacity:1.0;                     line-height:1.75\"><font color=\"black\">                     </font></mark><mark style=\"background-color: hsl(0, 75%, 68%); opacity:1.0;                     line-height:1.75\"><font color=\"black\"> #/s                    </font></mark></td><tr></table>"
      ],
      "text/plain": [
       "<IPython.core.display.HTML object>"
      ]
     },
     "metadata": {},
     "output_type": "display_data"
    },
    {
     "name": "stdout",
     "output_type": "stream",
     "text": [
      "<IPython.core.display.HTML object>\n",
      "Raw review: falls short on tension , eloquence , spiritual challenge -- things that have made the original new testament stories so compelling for 20 centuries \n",
      "GT target: 0\n",
      "asd 27\n"
     ]
    },
    {
     "data": {
      "text/html": [
       "<table width: 100%><div style=\"border-top: 1px solid; margin-top: 5px;             padding-top: 5px; display: inline-block\"><b>Legend: </b><span style=\"display: inline-block; width: 10px; height: 10px;                 border: 1px solid; background-color:                 hsl(0, 75%, 60%)\"></span> Negative  <span style=\"display: inline-block; width: 10px; height: 10px;                 border: 1px solid; background-color:                 hsl(0, 75%, 100%)\"></span> Neutral  <span style=\"display: inline-block; width: 10px; height: 10px;                 border: 1px solid; background-color:                 hsl(120, 75%, 50%)\"></span> Positive  </div><tr><th>True Label</th><th>Predicted Label</th><th>Attribution Label</th><th>Attribution Score</th><th>Word Importance</th><tr><td><text style=\"padding-right:2em\"><b>Neg</b></text></td><td><text style=\"padding-right:2em\"><b>Neg (0.00)</b></text></td><td><text style=\"padding-right:2em\"><b>Neg</b></text></td><td><text style=\"padding-right:2em\"><b>-0.03</b></text></td><td><mark style=\"background-color: hsl(120, 75%, 76%); opacity:1.0;                     line-height:1.75\"><font color=\"black\"> #s                    </font></mark><mark style=\"background-color: hsl(0, 75%, 74%); opacity:1.0;                     line-height:1.75\"><font color=\"black\"> falls                    </font></mark><mark style=\"background-color: hsl(120, 75%, 98%); opacity:1.0;                     line-height:1.75\"><font color=\"black\"> short                    </font></mark><mark style=\"background-color: hsl(120, 75%, 99%); opacity:1.0;                     line-height:1.75\"><font color=\"black\"> on                    </font></mark><mark style=\"background-color: hsl(120, 75%, 93%); opacity:1.0;                     line-height:1.75\"><font color=\"black\"> tension                    </font></mark><mark style=\"background-color: hsl(120, 75%, 94%); opacity:1.0;                     line-height:1.75\"><font color=\"black\"> ,                    </font></mark><mark style=\"background-color: hsl(120, 75%, 92%); opacity:1.0;                     line-height:1.75\"><font color=\"black\"> eloquence                    </font></mark><mark style=\"background-color: hsl(120, 75%, 98%); opacity:1.0;                     line-height:1.75\"><font color=\"black\"> ,                    </font></mark><mark style=\"background-color: hsl(120, 75%, 94%); opacity:1.0;                     line-height:1.75\"><font color=\"black\"> spiritual                    </font></mark><mark style=\"background-color: hsl(0, 75%, 90%); opacity:1.0;                     line-height:1.75\"><font color=\"black\"> challenge                    </font></mark><mark style=\"background-color: hsl(120, 75%, 94%); opacity:1.0;                     line-height:1.75\"><font color=\"black\"> --                    </font></mark><mark style=\"background-color: hsl(0, 75%, 94%); opacity:1.0;                     line-height:1.75\"><font color=\"black\"> things                    </font></mark><mark style=\"background-color: hsl(0, 75%, 98%); opacity:1.0;                     line-height:1.75\"><font color=\"black\"> that                    </font></mark><mark style=\"background-color: hsl(0, 75%, 97%); opacity:1.0;                     line-height:1.75\"><font color=\"black\"> have                    </font></mark><mark style=\"background-color: hsl(0, 75%, 99%); opacity:1.0;                     line-height:1.75\"><font color=\"black\"> made                    </font></mark><mark style=\"background-color: hsl(120, 75%, 97%); opacity:1.0;                     line-height:1.75\"><font color=\"black\"> the                    </font></mark><mark style=\"background-color: hsl(0, 75%, 100%); opacity:1.0;                     line-height:1.75\"><font color=\"black\"> original                    </font></mark><mark style=\"background-color: hsl(0, 75%, 92%); opacity:1.0;                     line-height:1.75\"><font color=\"black\"> new                    </font></mark><mark style=\"background-color: hsl(120, 75%, 94%); opacity:1.0;                     line-height:1.75\"><font color=\"black\"> testament                    </font></mark><mark style=\"background-color: hsl(0, 75%, 100%); opacity:1.0;                     line-height:1.75\"><font color=\"black\"> stories                    </font></mark><mark style=\"background-color: hsl(0, 75%, 97%); opacity:1.0;                     line-height:1.75\"><font color=\"black\"> so                    </font></mark><mark style=\"background-color: hsl(0, 75%, 99%); opacity:1.0;                     line-height:1.75\"><font color=\"black\"> compelling                    </font></mark><mark style=\"background-color: hsl(120, 75%, 98%); opacity:1.0;                     line-height:1.75\"><font color=\"black\"> for                    </font></mark><mark style=\"background-color: hsl(0, 75%, 100%); opacity:1.0;                     line-height:1.75\"><font color=\"black\"> 20                    </font></mark><mark style=\"background-color: hsl(120, 75%, 96%); opacity:1.0;                     line-height:1.75\"><font color=\"black\"> centuries                    </font></mark><mark style=\"background-color: hsl(0, 75%, 97%); opacity:1.0;                     line-height:1.75\"><font color=\"black\">                     </font></mark><mark style=\"background-color: hsl(120, 75%, 98%); opacity:1.0;                     line-height:1.75\"><font color=\"black\"> #/s                    </font></mark></td><tr></table>"
      ],
      "text/plain": [
       "<IPython.core.display.HTML object>"
      ]
     },
     "metadata": {},
     "output_type": "display_data"
    },
    {
     "name": "stdout",
     "output_type": "stream",
     "text": [
      "<IPython.core.display.HTML object>\n",
      "Raw review: to blue hilarity \n",
      "GT target: 1\n",
      "asd 6\n"
     ]
    },
    {
     "data": {
      "text/html": [
       "<table width: 100%><div style=\"border-top: 1px solid; margin-top: 5px;             padding-top: 5px; display: inline-block\"><b>Legend: </b><span style=\"display: inline-block; width: 10px; height: 10px;                 border: 1px solid; background-color:                 hsl(0, 75%, 60%)\"></span> Negative  <span style=\"display: inline-block; width: 10px; height: 10px;                 border: 1px solid; background-color:                 hsl(0, 75%, 100%)\"></span> Neutral  <span style=\"display: inline-block; width: 10px; height: 10px;                 border: 1px solid; background-color:                 hsl(120, 75%, 50%)\"></span> Positive  </div><tr><th>True Label</th><th>Predicted Label</th><th>Attribution Label</th><th>Attribution Score</th><th>Word Importance</th><tr><td><text style=\"padding-right:2em\"><b>Pos</b></text></td><td><text style=\"padding-right:2em\"><b>Pos (1.00)</b></text></td><td><text style=\"padding-right:2em\"><b>Pos</b></text></td><td><text style=\"padding-right:2em\"><b>1.36</b></text></td><td><mark style=\"background-color: hsl(120, 75%, 92%); opacity:1.0;                     line-height:1.75\"><font color=\"black\"> #s                    </font></mark><mark style=\"background-color: hsl(0, 75%, 85%); opacity:1.0;                     line-height:1.75\"><font color=\"black\"> to                    </font></mark><mark style=\"background-color: hsl(0, 75%, 100%); opacity:1.0;                     line-height:1.75\"><font color=\"black\"> blue                    </font></mark><mark style=\"background-color: hsl(120, 75%, 68%); opacity:1.0;                     line-height:1.75\"><font color=\"black\"> hilarity                    </font></mark><mark style=\"background-color: hsl(120, 75%, 96%); opacity:1.0;                     line-height:1.75\"><font color=\"black\">                     </font></mark><mark style=\"background-color: hsl(120, 75%, 77%); opacity:1.0;                     line-height:1.75\"><font color=\"black\"> #/s                    </font></mark></td><tr></table>"
      ],
      "text/plain": [
       "<IPython.core.display.HTML object>"
      ]
     },
     "metadata": {},
     "output_type": "display_data"
    },
    {
     "name": "stdout",
     "output_type": "stream",
     "text": [
      "<IPython.core.display.HTML object>\n",
      "Raw review: is intriguing but quickly becomes distasteful and downright creepy \n",
      "GT target: 0\n",
      "asd 12\n"
     ]
    },
    {
     "data": {
      "text/html": [
       "<table width: 100%><div style=\"border-top: 1px solid; margin-top: 5px;             padding-top: 5px; display: inline-block\"><b>Legend: </b><span style=\"display: inline-block; width: 10px; height: 10px;                 border: 1px solid; background-color:                 hsl(0, 75%, 60%)\"></span> Negative  <span style=\"display: inline-block; width: 10px; height: 10px;                 border: 1px solid; background-color:                 hsl(0, 75%, 100%)\"></span> Neutral  <span style=\"display: inline-block; width: 10px; height: 10px;                 border: 1px solid; background-color:                 hsl(120, 75%, 50%)\"></span> Positive  </div><tr><th>True Label</th><th>Predicted Label</th><th>Attribution Label</th><th>Attribution Score</th><th>Word Importance</th><tr><td><text style=\"padding-right:2em\"><b>Neg</b></text></td><td><text style=\"padding-right:2em\"><b>Neg (0.00)</b></text></td><td><text style=\"padding-right:2em\"><b>Pos</b></text></td><td><text style=\"padding-right:2em\"><b>0.61</b></text></td><td><mark style=\"background-color: hsl(0, 75%, 96%); opacity:1.0;                     line-height:1.75\"><font color=\"black\"> #s                    </font></mark><mark style=\"background-color: hsl(120, 75%, 94%); opacity:1.0;                     line-height:1.75\"><font color=\"black\"> is                    </font></mark><mark style=\"background-color: hsl(120, 75%, 60%); opacity:1.0;                     line-height:1.75\"><font color=\"black\"> intriguing                    </font></mark><mark style=\"background-color: hsl(120, 75%, 99%); opacity:1.0;                     line-height:1.75\"><font color=\"black\"> but                    </font></mark><mark style=\"background-color: hsl(0, 75%, 100%); opacity:1.0;                     line-height:1.75\"><font color=\"black\"> quickly                    </font></mark><mark style=\"background-color: hsl(120, 75%, 98%); opacity:1.0;                     line-height:1.75\"><font color=\"black\"> becomes                    </font></mark><mark style=\"background-color: hsl(120, 75%, 100%); opacity:1.0;                     line-height:1.75\"><font color=\"black\"> distasteful                    </font></mark><mark style=\"background-color: hsl(0, 75%, 100%); opacity:1.0;                     line-height:1.75\"><font color=\"black\"> and                    </font></mark><mark style=\"background-color: hsl(0, 75%, 87%); opacity:1.0;                     line-height:1.75\"><font color=\"black\"> downright                    </font></mark><mark style=\"background-color: hsl(120, 75%, 100%); opacity:1.0;                     line-height:1.75\"><font color=\"black\"> creepy                    </font></mark><mark style=\"background-color: hsl(0, 75%, 89%); opacity:1.0;                     line-height:1.75\"><font color=\"black\">                     </font></mark><mark style=\"background-color: hsl(120, 75%, 83%); opacity:1.0;                     line-height:1.75\"><font color=\"black\"> #/s                    </font></mark></td><tr></table>"
      ],
      "text/plain": [
       "<IPython.core.display.HTML object>"
      ]
     },
     "metadata": {},
     "output_type": "display_data"
    },
    {
     "name": "stdout",
     "output_type": "stream",
     "text": [
      "<IPython.core.display.HTML object>\n",
      "Raw review: , you 'd probably turn it off , convinced that you had already seen that movie . \n",
      "GT target: 0\n",
      "asd 20\n"
     ]
    },
    {
     "data": {
      "text/html": [
       "<table width: 100%><div style=\"border-top: 1px solid; margin-top: 5px;             padding-top: 5px; display: inline-block\"><b>Legend: </b><span style=\"display: inline-block; width: 10px; height: 10px;                 border: 1px solid; background-color:                 hsl(0, 75%, 60%)\"></span> Negative  <span style=\"display: inline-block; width: 10px; height: 10px;                 border: 1px solid; background-color:                 hsl(0, 75%, 100%)\"></span> Neutral  <span style=\"display: inline-block; width: 10px; height: 10px;                 border: 1px solid; background-color:                 hsl(120, 75%, 50%)\"></span> Positive  </div><tr><th>True Label</th><th>Predicted Label</th><th>Attribution Label</th><th>Attribution Score</th><th>Word Importance</th><tr><td><text style=\"padding-right:2em\"><b>Neg</b></text></td><td><text style=\"padding-right:2em\"><b>Neg (0.00)</b></text></td><td><text style=\"padding-right:2em\"><b>Pos</b></text></td><td><text style=\"padding-right:2em\"><b>0.73</b></text></td><td><mark style=\"background-color: hsl(120, 75%, 91%); opacity:1.0;                     line-height:1.75\"><font color=\"black\"> #s                    </font></mark><mark style=\"background-color: hsl(0, 75%, 98%); opacity:1.0;                     line-height:1.75\"><font color=\"black\"> ,                    </font></mark><mark style=\"background-color: hsl(120, 75%, 95%); opacity:1.0;                     line-height:1.75\"><font color=\"black\"> you                    </font></mark><mark style=\"background-color: hsl(0, 75%, 100%); opacity:1.0;                     line-height:1.75\"><font color=\"black\"> 'd                    </font></mark><mark style=\"background-color: hsl(120, 75%, 94%); opacity:1.0;                     line-height:1.75\"><font color=\"black\"> probably                    </font></mark><mark style=\"background-color: hsl(0, 75%, 92%); opacity:1.0;                     line-height:1.75\"><font color=\"black\"> turn                    </font></mark><mark style=\"background-color: hsl(0, 75%, 93%); opacity:1.0;                     line-height:1.75\"><font color=\"black\"> it                    </font></mark><mark style=\"background-color: hsl(120, 75%, 100%); opacity:1.0;                     line-height:1.75\"><font color=\"black\"> off                    </font></mark><mark style=\"background-color: hsl(0, 75%, 98%); opacity:1.0;                     line-height:1.75\"><font color=\"black\"> ,                    </font></mark><mark style=\"background-color: hsl(120, 75%, 71%); opacity:1.0;                     line-height:1.75\"><font color=\"black\"> convinced                    </font></mark><mark style=\"background-color: hsl(0, 75%, 99%); opacity:1.0;                     line-height:1.75\"><font color=\"black\"> that                    </font></mark><mark style=\"background-color: hsl(0, 75%, 96%); opacity:1.0;                     line-height:1.75\"><font color=\"black\"> you                    </font></mark><mark style=\"background-color: hsl(120, 75%, 95%); opacity:1.0;                     line-height:1.75\"><font color=\"black\"> had                    </font></mark><mark style=\"background-color: hsl(0, 75%, 97%); opacity:1.0;                     line-height:1.75\"><font color=\"black\"> already                    </font></mark><mark style=\"background-color: hsl(0, 75%, 97%); opacity:1.0;                     line-height:1.75\"><font color=\"black\"> seen                    </font></mark><mark style=\"background-color: hsl(0, 75%, 99%); opacity:1.0;                     line-height:1.75\"><font color=\"black\"> that                    </font></mark><mark style=\"background-color: hsl(0, 75%, 97%); opacity:1.0;                     line-height:1.75\"><font color=\"black\"> movie                    </font></mark><mark style=\"background-color: hsl(120, 75%, 95%); opacity:1.0;                     line-height:1.75\"><font color=\"black\"> .                    </font></mark><mark style=\"background-color: hsl(0, 75%, 93%); opacity:1.0;                     line-height:1.75\"><font color=\"black\">                     </font></mark><mark style=\"background-color: hsl(120, 75%, 69%); opacity:1.0;                     line-height:1.75\"><font color=\"black\"> #/s                    </font></mark></td><tr></table>"
      ],
      "text/plain": [
       "<IPython.core.display.HTML object>"
      ]
     },
     "metadata": {},
     "output_type": "display_data"
    },
    {
     "name": "stdout",
     "output_type": "stream",
     "text": [
      "<IPython.core.display.HTML object>\n",
      "Raw review: no amount of burning , blasting , stabbing , and shooting \n",
      "GT target: 0\n",
      "asd 14\n"
     ]
    },
    {
     "data": {
      "text/html": [
       "<table width: 100%><div style=\"border-top: 1px solid; margin-top: 5px;             padding-top: 5px; display: inline-block\"><b>Legend: </b><span style=\"display: inline-block; width: 10px; height: 10px;                 border: 1px solid; background-color:                 hsl(0, 75%, 60%)\"></span> Negative  <span style=\"display: inline-block; width: 10px; height: 10px;                 border: 1px solid; background-color:                 hsl(0, 75%, 100%)\"></span> Neutral  <span style=\"display: inline-block; width: 10px; height: 10px;                 border: 1px solid; background-color:                 hsl(120, 75%, 50%)\"></span> Positive  </div><tr><th>True Label</th><th>Predicted Label</th><th>Attribution Label</th><th>Attribution Score</th><th>Word Importance</th><tr><td><text style=\"padding-right:2em\"><b>Neg</b></text></td><td><text style=\"padding-right:2em\"><b>Neg (0.00)</b></text></td><td><text style=\"padding-right:2em\"><b>Neg</b></text></td><td><text style=\"padding-right:2em\"><b>-0.93</b></text></td><td><mark style=\"background-color: hsl(120, 75%, 73%); opacity:1.0;                     line-height:1.75\"><font color=\"black\"> #s                    </font></mark><mark style=\"background-color: hsl(120, 75%, 89%); opacity:1.0;                     line-height:1.75\"><font color=\"black\"> no                    </font></mark><mark style=\"background-color: hsl(0, 75%, 88%); opacity:1.0;                     line-height:1.75\"><font color=\"black\"> amount                    </font></mark><mark style=\"background-color: hsl(0, 75%, 94%); opacity:1.0;                     line-height:1.75\"><font color=\"black\"> of                    </font></mark><mark style=\"background-color: hsl(0, 75%, 75%); opacity:1.0;                     line-height:1.75\"><font color=\"black\"> burning                    </font></mark><mark style=\"background-color: hsl(0, 75%, 99%); opacity:1.0;                     line-height:1.75\"><font color=\"black\"> ,                    </font></mark><mark style=\"background-color: hsl(0, 75%, 93%); opacity:1.0;                     line-height:1.75\"><font color=\"black\"> blasting                    </font></mark><mark style=\"background-color: hsl(0, 75%, 97%); opacity:1.0;                     line-height:1.75\"><font color=\"black\"> ,                    </font></mark><mark style=\"background-color: hsl(0, 75%, 92%); opacity:1.0;                     line-height:1.75\"><font color=\"black\"> stabbing                    </font></mark><mark style=\"background-color: hsl(120, 75%, 100%); opacity:1.0;                     line-height:1.75\"><font color=\"black\"> ,                    </font></mark><mark style=\"background-color: hsl(0, 75%, 98%); opacity:1.0;                     line-height:1.75\"><font color=\"black\"> and                    </font></mark><mark style=\"background-color: hsl(0, 75%, 98%); opacity:1.0;                     line-height:1.75\"><font color=\"black\"> shooting                    </font></mark><mark style=\"background-color: hsl(120, 75%, 97%); opacity:1.0;                     line-height:1.75\"><font color=\"black\">                     </font></mark><mark style=\"background-color: hsl(0, 75%, 100%); opacity:1.0;                     line-height:1.75\"><font color=\"black\"> #/s                    </font></mark></td><tr></table>"
      ],
      "text/plain": [
       "<IPython.core.display.HTML object>"
      ]
     },
     "metadata": {},
     "output_type": "display_data"
    },
    {
     "name": "stdout",
     "output_type": "stream",
     "text": [
      "<IPython.core.display.HTML object>\n",
      "Raw review: such a wildly uneven hit-and-miss enterprise , you ca n't help suspecting that it was improvised on a day-to-day basis during production . \n",
      "GT target: 0\n",
      "asd 26\n"
     ]
    },
    {
     "data": {
      "text/html": [
       "<table width: 100%><div style=\"border-top: 1px solid; margin-top: 5px;             padding-top: 5px; display: inline-block\"><b>Legend: </b><span style=\"display: inline-block; width: 10px; height: 10px;                 border: 1px solid; background-color:                 hsl(0, 75%, 60%)\"></span> Negative  <span style=\"display: inline-block; width: 10px; height: 10px;                 border: 1px solid; background-color:                 hsl(0, 75%, 100%)\"></span> Neutral  <span style=\"display: inline-block; width: 10px; height: 10px;                 border: 1px solid; background-color:                 hsl(120, 75%, 50%)\"></span> Positive  </div><tr><th>True Label</th><th>Predicted Label</th><th>Attribution Label</th><th>Attribution Score</th><th>Word Importance</th><tr><td><text style=\"padding-right:2em\"><b>Neg</b></text></td><td><text style=\"padding-right:2em\"><b>Neg (0.00)</b></text></td><td><text style=\"padding-right:2em\"><b>Neg</b></text></td><td><text style=\"padding-right:2em\"><b>-0.15</b></text></td><td><mark style=\"background-color: hsl(0, 75%, 99%); opacity:1.0;                     line-height:1.75\"><font color=\"black\"> #s                    </font></mark><mark style=\"background-color: hsl(120, 75%, 96%); opacity:1.0;                     line-height:1.75\"><font color=\"black\"> such                    </font></mark><mark style=\"background-color: hsl(0, 75%, 100%); opacity:1.0;                     line-height:1.75\"><font color=\"black\"> a                    </font></mark><mark style=\"background-color: hsl(120, 75%, 98%); opacity:1.0;                     line-height:1.75\"><font color=\"black\"> wildly                    </font></mark><mark style=\"background-color: hsl(120, 75%, 100%); opacity:1.0;                     line-height:1.75\"><font color=\"black\"> uneven                    </font></mark><mark style=\"background-color: hsl(0, 75%, 96%); opacity:1.0;                     line-height:1.75\"><font color=\"black\"> hit-and-miss                    </font></mark><mark style=\"background-color: hsl(120, 75%, 97%); opacity:1.0;                     line-height:1.75\"><font color=\"black\"> enterprise                    </font></mark><mark style=\"background-color: hsl(0, 75%, 93%); opacity:1.0;                     line-height:1.75\"><font color=\"black\"> ,                    </font></mark><mark style=\"background-color: hsl(0, 75%, 99%); opacity:1.0;                     line-height:1.75\"><font color=\"black\"> you                    </font></mark><mark style=\"background-color: hsl(0, 75%, 93%); opacity:1.0;                     line-height:1.75\"><font color=\"black\"> ca                    </font></mark><mark style=\"background-color: hsl(120, 75%, 93%); opacity:1.0;                     line-height:1.75\"><font color=\"black\"> n't                    </font></mark><mark style=\"background-color: hsl(120, 75%, 85%); opacity:1.0;                     line-height:1.75\"><font color=\"black\"> help                    </font></mark><mark style=\"background-color: hsl(0, 75%, 98%); opacity:1.0;                     line-height:1.75\"><font color=\"black\"> suspecting                    </font></mark><mark style=\"background-color: hsl(0, 75%, 92%); opacity:1.0;                     line-height:1.75\"><font color=\"black\"> that                    </font></mark><mark style=\"background-color: hsl(0, 75%, 87%); opacity:1.0;                     line-height:1.75\"><font color=\"black\"> it                    </font></mark><mark style=\"background-color: hsl(120, 75%, 88%); opacity:1.0;                     line-height:1.75\"><font color=\"black\"> was                    </font></mark><mark style=\"background-color: hsl(120, 75%, 97%); opacity:1.0;                     line-height:1.75\"><font color=\"black\"> improvised                    </font></mark><mark style=\"background-color: hsl(120, 75%, 100%); opacity:1.0;                     line-height:1.75\"><font color=\"black\"> on                    </font></mark><mark style=\"background-color: hsl(0, 75%, 100%); opacity:1.0;                     line-height:1.75\"><font color=\"black\"> a                    </font></mark><mark style=\"background-color: hsl(0, 75%, 100%); opacity:1.0;                     line-height:1.75\"><font color=\"black\"> day-to-day                    </font></mark><mark style=\"background-color: hsl(0, 75%, 97%); opacity:1.0;                     line-height:1.75\"><font color=\"black\"> basis                    </font></mark><mark style=\"background-color: hsl(0, 75%, 98%); opacity:1.0;                     line-height:1.75\"><font color=\"black\"> during                    </font></mark><mark style=\"background-color: hsl(0, 75%, 96%); opacity:1.0;                     line-height:1.75\"><font color=\"black\"> production                    </font></mark><mark style=\"background-color: hsl(0, 75%, 98%); opacity:1.0;                     line-height:1.75\"><font color=\"black\"> .                    </font></mark><mark style=\"background-color: hsl(0, 75%, 99%); opacity:1.0;                     line-height:1.75\"><font color=\"black\">                     </font></mark><mark style=\"background-color: hsl(120, 75%, 94%); opacity:1.0;                     line-height:1.75\"><font color=\"black\"> #/s                    </font></mark></td><tr></table>"
      ],
      "text/plain": [
       "<IPython.core.display.HTML object>"
      ]
     },
     "metadata": {},
     "output_type": "display_data"
    },
    {
     "name": "stdout",
     "output_type": "stream",
     "text": [
      "<IPython.core.display.HTML object>\n",
      "Raw review: as a dystopian movie \n",
      "GT target: 0\n",
      "asd 7\n"
     ]
    },
    {
     "data": {
      "text/html": [
       "<table width: 100%><div style=\"border-top: 1px solid; margin-top: 5px;             padding-top: 5px; display: inline-block\"><b>Legend: </b><span style=\"display: inline-block; width: 10px; height: 10px;                 border: 1px solid; background-color:                 hsl(0, 75%, 60%)\"></span> Negative  <span style=\"display: inline-block; width: 10px; height: 10px;                 border: 1px solid; background-color:                 hsl(0, 75%, 100%)\"></span> Neutral  <span style=\"display: inline-block; width: 10px; height: 10px;                 border: 1px solid; background-color:                 hsl(120, 75%, 50%)\"></span> Positive  </div><tr><th>True Label</th><th>Predicted Label</th><th>Attribution Label</th><th>Attribution Score</th><th>Word Importance</th><tr><td><text style=\"padding-right:2em\"><b>Neg</b></text></td><td><text style=\"padding-right:2em\"><b>Pos (0.90)</b></text></td><td><text style=\"padding-right:2em\"><b>Neg</b></text></td><td><text style=\"padding-right:2em\"><b>0.02</b></text></td><td><mark style=\"background-color: hsl(0, 75%, 99%); opacity:1.0;                     line-height:1.75\"><font color=\"black\"> #s                    </font></mark><mark style=\"background-color: hsl(120, 75%, 96%); opacity:1.0;                     line-height:1.75\"><font color=\"black\"> as                    </font></mark><mark style=\"background-color: hsl(0, 75%, 95%); opacity:1.0;                     line-height:1.75\"><font color=\"black\"> a                    </font></mark><mark style=\"background-color: hsl(120, 75%, 60%); opacity:1.0;                     line-height:1.75\"><font color=\"black\"> dystopian                    </font></mark><mark style=\"background-color: hsl(0, 75%, 84%); opacity:1.0;                     line-height:1.75\"><font color=\"black\"> movie                    </font></mark><mark style=\"background-color: hsl(0, 75%, 86%); opacity:1.0;                     line-height:1.75\"><font color=\"black\">                     </font></mark><mark style=\"background-color: hsl(120, 75%, 98%); opacity:1.0;                     line-height:1.75\"><font color=\"black\"> #/s                    </font></mark></td><tr></table>"
      ],
      "text/plain": [
       "<IPython.core.display.HTML object>"
      ]
     },
     "metadata": {},
     "output_type": "display_data"
    },
    {
     "name": "stdout",
     "output_type": "stream",
     "text": [
      "<IPython.core.display.HTML object>\n",
      "Raw review: i liked about schmidt a lot , but i have a feeling that i would have liked it much more if harry & tonto never existed \n",
      "GT target: 1\n",
      "asd 29\n"
     ]
    },
    {
     "data": {
      "text/html": [
       "<table width: 100%><div style=\"border-top: 1px solid; margin-top: 5px;             padding-top: 5px; display: inline-block\"><b>Legend: </b><span style=\"display: inline-block; width: 10px; height: 10px;                 border: 1px solid; background-color:                 hsl(0, 75%, 60%)\"></span> Negative  <span style=\"display: inline-block; width: 10px; height: 10px;                 border: 1px solid; background-color:                 hsl(0, 75%, 100%)\"></span> Neutral  <span style=\"display: inline-block; width: 10px; height: 10px;                 border: 1px solid; background-color:                 hsl(120, 75%, 50%)\"></span> Positive  </div><tr><th>True Label</th><th>Predicted Label</th><th>Attribution Label</th><th>Attribution Score</th><th>Word Importance</th><tr><td><text style=\"padding-right:2em\"><b>Pos</b></text></td><td><text style=\"padding-right:2em\"><b>Pos (0.99)</b></text></td><td><text style=\"padding-right:2em\"><b>Neg</b></text></td><td><text style=\"padding-right:2em\"><b>0.26</b></text></td><td><mark style=\"background-color: hsl(120, 75%, 89%); opacity:1.0;                     line-height:1.75\"><font color=\"black\"> #s                    </font></mark><mark style=\"background-color: hsl(0, 75%, 87%); opacity:1.0;                     line-height:1.75\"><font color=\"black\"> i                    </font></mark><mark style=\"background-color: hsl(120, 75%, 96%); opacity:1.0;                     line-height:1.75\"><font color=\"black\"> liked                    </font></mark><mark style=\"background-color: hsl(120, 75%, 90%); opacity:1.0;                     line-height:1.75\"><font color=\"black\"> about                    </font></mark><mark style=\"background-color: hsl(0, 75%, 92%); opacity:1.0;                     line-height:1.75\"><font color=\"black\"> schmidt                    </font></mark><mark style=\"background-color: hsl(0, 75%, 80%); opacity:1.0;                     line-height:1.75\"><font color=\"black\"> a                    </font></mark><mark style=\"background-color: hsl(0, 75%, 97%); opacity:1.0;                     line-height:1.75\"><font color=\"black\"> lot                    </font></mark><mark style=\"background-color: hsl(120, 75%, 91%); opacity:1.0;                     line-height:1.75\"><font color=\"black\"> ,                    </font></mark><mark style=\"background-color: hsl(0, 75%, 99%); opacity:1.0;                     line-height:1.75\"><font color=\"black\"> but                    </font></mark><mark style=\"background-color: hsl(120, 75%, 100%); opacity:1.0;                     line-height:1.75\"><font color=\"black\"> i                    </font></mark><mark style=\"background-color: hsl(120, 75%, 97%); opacity:1.0;                     line-height:1.75\"><font color=\"black\"> have                    </font></mark><mark style=\"background-color: hsl(120, 75%, 99%); opacity:1.0;                     line-height:1.75\"><font color=\"black\"> a                    </font></mark><mark style=\"background-color: hsl(0, 75%, 97%); opacity:1.0;                     line-height:1.75\"><font color=\"black\"> feeling                    </font></mark><mark style=\"background-color: hsl(120, 75%, 89%); opacity:1.0;                     line-height:1.75\"><font color=\"black\"> that                    </font></mark><mark style=\"background-color: hsl(0, 75%, 97%); opacity:1.0;                     line-height:1.75\"><font color=\"black\"> i                    </font></mark><mark style=\"background-color: hsl(0, 75%, 100%); opacity:1.0;                     line-height:1.75\"><font color=\"black\"> would                    </font></mark><mark style=\"background-color: hsl(0, 75%, 100%); opacity:1.0;                     line-height:1.75\"><font color=\"black\"> have                    </font></mark><mark style=\"background-color: hsl(0, 75%, 100%); opacity:1.0;                     line-height:1.75\"><font color=\"black\"> liked                    </font></mark><mark style=\"background-color: hsl(120, 75%, 94%); opacity:1.0;                     line-height:1.75\"><font color=\"black\"> it                    </font></mark><mark style=\"background-color: hsl(0, 75%, 99%); opacity:1.0;                     line-height:1.75\"><font color=\"black\"> much                    </font></mark><mark style=\"background-color: hsl(120, 75%, 96%); opacity:1.0;                     line-height:1.75\"><font color=\"black\"> more                    </font></mark><mark style=\"background-color: hsl(120, 75%, 100%); opacity:1.0;                     line-height:1.75\"><font color=\"black\"> if                    </font></mark><mark style=\"background-color: hsl(120, 75%, 100%); opacity:1.0;                     line-height:1.75\"><font color=\"black\"> harry                    </font></mark><mark style=\"background-color: hsl(120, 75%, 96%); opacity:1.0;                     line-height:1.75\"><font color=\"black\"> &                    </font></mark><mark style=\"background-color: hsl(120, 75%, 81%); opacity:1.0;                     line-height:1.75\"><font color=\"black\"> tonto                    </font></mark><mark style=\"background-color: hsl(120, 75%, 87%); opacity:1.0;                     line-height:1.75\"><font color=\"black\"> never                    </font></mark><mark style=\"background-color: hsl(120, 75%, 100%); opacity:1.0;                     line-height:1.75\"><font color=\"black\"> existed                    </font></mark><mark style=\"background-color: hsl(0, 75%, 94%); opacity:1.0;                     line-height:1.75\"><font color=\"black\">                     </font></mark><mark style=\"background-color: hsl(0, 75%, 97%); opacity:1.0;                     line-height:1.75\"><font color=\"black\"> #/s                    </font></mark></td><tr></table>"
      ],
      "text/plain": [
       "<IPython.core.display.HTML object>"
      ]
     },
     "metadata": {},
     "output_type": "display_data"
    },
    {
     "name": "stdout",
     "output_type": "stream",
     "text": [
      "<IPython.core.display.HTML object>\n",
      "Raw review: less-than-thrilling thriller . \n",
      "GT target: 0\n",
      "asd 6\n"
     ]
    },
    {
     "data": {
      "text/html": [
       "<table width: 100%><div style=\"border-top: 1px solid; margin-top: 5px;             padding-top: 5px; display: inline-block\"><b>Legend: </b><span style=\"display: inline-block; width: 10px; height: 10px;                 border: 1px solid; background-color:                 hsl(0, 75%, 60%)\"></span> Negative  <span style=\"display: inline-block; width: 10px; height: 10px;                 border: 1px solid; background-color:                 hsl(0, 75%, 100%)\"></span> Neutral  <span style=\"display: inline-block; width: 10px; height: 10px;                 border: 1px solid; background-color:                 hsl(120, 75%, 50%)\"></span> Positive  </div><tr><th>True Label</th><th>Predicted Label</th><th>Attribution Label</th><th>Attribution Score</th><th>Word Importance</th><tr><td><text style=\"padding-right:2em\"><b>Neg</b></text></td><td><text style=\"padding-right:2em\"><b>Neg (0.00)</b></text></td><td><text style=\"padding-right:2em\"><b>Neg</b></text></td><td><text style=\"padding-right:2em\"><b>0.01</b></text></td><td><mark style=\"background-color: hsl(0, 75%, 94%); opacity:1.0;                     line-height:1.75\"><font color=\"black\"> #s                    </font></mark><mark style=\"background-color: hsl(0, 75%, 100%); opacity:1.0;                     line-height:1.75\"><font color=\"black\"> less-than-thrilling                    </font></mark><mark style=\"background-color: hsl(120, 75%, 77%); opacity:1.0;                     line-height:1.75\"><font color=\"black\"> thriller                    </font></mark><mark style=\"background-color: hsl(0, 75%, 86%); opacity:1.0;                     line-height:1.75\"><font color=\"black\"> .                    </font></mark><mark style=\"background-color: hsl(120, 75%, 69%); opacity:1.0;                     line-height:1.75\"><font color=\"black\">                     </font></mark><mark style=\"background-color: hsl(0, 75%, 97%); opacity:1.0;                     line-height:1.75\"><font color=\"black\"> #/s                    </font></mark></td><tr></table>"
      ],
      "text/plain": [
       "<IPython.core.display.HTML object>"
      ]
     },
     "metadata": {},
     "output_type": "display_data"
    },
    {
     "name": "stdout",
     "output_type": "stream",
     "text": [
      "<IPython.core.display.HTML object>\n",
      "Raw review: most audacious , outrageous \n",
      "GT target: 1\n",
      "asd 7\n"
     ]
    },
    {
     "data": {
      "text/html": [
       "<table width: 100%><div style=\"border-top: 1px solid; margin-top: 5px;             padding-top: 5px; display: inline-block\"><b>Legend: </b><span style=\"display: inline-block; width: 10px; height: 10px;                 border: 1px solid; background-color:                 hsl(0, 75%, 60%)\"></span> Negative  <span style=\"display: inline-block; width: 10px; height: 10px;                 border: 1px solid; background-color:                 hsl(0, 75%, 100%)\"></span> Neutral  <span style=\"display: inline-block; width: 10px; height: 10px;                 border: 1px solid; background-color:                 hsl(120, 75%, 50%)\"></span> Positive  </div><tr><th>True Label</th><th>Predicted Label</th><th>Attribution Label</th><th>Attribution Score</th><th>Word Importance</th><tr><td><text style=\"padding-right:2em\"><b>Pos</b></text></td><td><text style=\"padding-right:2em\"><b>Pos (0.99)</b></text></td><td><text style=\"padding-right:2em\"><b>Neg</b></text></td><td><text style=\"padding-right:2em\"><b>-0.01</b></text></td><td><mark style=\"background-color: hsl(0, 75%, 81%); opacity:1.0;                     line-height:1.75\"><font color=\"black\"> #s                    </font></mark><mark style=\"background-color: hsl(0, 75%, 97%); opacity:1.0;                     line-height:1.75\"><font color=\"black\"> most                    </font></mark><mark style=\"background-color: hsl(120, 75%, 80%); opacity:1.0;                     line-height:1.75\"><font color=\"black\"> audacious                    </font></mark><mark style=\"background-color: hsl(120, 75%, 71%); opacity:1.0;                     line-height:1.75\"><font color=\"black\"> ,                    </font></mark><mark style=\"background-color: hsl(120, 75%, 96%); opacity:1.0;                     line-height:1.75\"><font color=\"black\"> outrageous                    </font></mark><mark style=\"background-color: hsl(0, 75%, 82%); opacity:1.0;                     line-height:1.75\"><font color=\"black\">                     </font></mark><mark style=\"background-color: hsl(0, 75%, 96%); opacity:1.0;                     line-height:1.75\"><font color=\"black\"> #/s                    </font></mark></td><tr></table>"
      ],
      "text/plain": [
       "<IPython.core.display.HTML object>"
      ]
     },
     "metadata": {},
     "output_type": "display_data"
    },
    {
     "name": "stdout",
     "output_type": "stream",
     "text": [
      "<IPython.core.display.HTML object>\n",
      "Raw review: solid , satisfying fare \n",
      "GT target: 1\n",
      "asd 7\n"
     ]
    },
    {
     "data": {
      "text/html": [
       "<table width: 100%><div style=\"border-top: 1px solid; margin-top: 5px;             padding-top: 5px; display: inline-block\"><b>Legend: </b><span style=\"display: inline-block; width: 10px; height: 10px;                 border: 1px solid; background-color:                 hsl(0, 75%, 60%)\"></span> Negative  <span style=\"display: inline-block; width: 10px; height: 10px;                 border: 1px solid; background-color:                 hsl(0, 75%, 100%)\"></span> Neutral  <span style=\"display: inline-block; width: 10px; height: 10px;                 border: 1px solid; background-color:                 hsl(120, 75%, 50%)\"></span> Positive  </div><tr><th>True Label</th><th>Predicted Label</th><th>Attribution Label</th><th>Attribution Score</th><th>Word Importance</th><tr><td><text style=\"padding-right:2em\"><b>Pos</b></text></td><td><text style=\"padding-right:2em\"><b>Pos (1.00)</b></text></td><td><text style=\"padding-right:2em\"><b>Neg</b></text></td><td><text style=\"padding-right:2em\"><b>0.37</b></text></td><td><mark style=\"background-color: hsl(0, 75%, 89%); opacity:1.0;                     line-height:1.75\"><font color=\"black\"> #s                    </font></mark><mark style=\"background-color: hsl(0, 75%, 88%); opacity:1.0;                     line-height:1.75\"><font color=\"black\"> solid                    </font></mark><mark style=\"background-color: hsl(0, 75%, 85%); opacity:1.0;                     line-height:1.75\"><font color=\"black\"> ,                    </font></mark><mark style=\"background-color: hsl(120, 75%, 94%); opacity:1.0;                     line-height:1.75\"><font color=\"black\"> satisfying                    </font></mark><mark style=\"background-color: hsl(120, 75%, 66%); opacity:1.0;                     line-height:1.75\"><font color=\"black\"> fare                    </font></mark><mark style=\"background-color: hsl(120, 75%, 85%); opacity:1.0;                     line-height:1.75\"><font color=\"black\">                     </font></mark><mark style=\"background-color: hsl(120, 75%, 88%); opacity:1.0;                     line-height:1.75\"><font color=\"black\"> #/s                    </font></mark></td><tr></table>"
      ],
      "text/plain": [
       "<IPython.core.display.HTML object>"
      ]
     },
     "metadata": {},
     "output_type": "display_data"
    },
    {
     "name": "stdout",
     "output_type": "stream",
     "text": [
      "<IPython.core.display.HTML object>\n",
      "Raw review: a mostly magnificent directorial career \n",
      "GT target: 1\n",
      "asd 8\n"
     ]
    },
    {
     "data": {
      "text/html": [
       "<table width: 100%><div style=\"border-top: 1px solid; margin-top: 5px;             padding-top: 5px; display: inline-block\"><b>Legend: </b><span style=\"display: inline-block; width: 10px; height: 10px;                 border: 1px solid; background-color:                 hsl(0, 75%, 60%)\"></span> Negative  <span style=\"display: inline-block; width: 10px; height: 10px;                 border: 1px solid; background-color:                 hsl(0, 75%, 100%)\"></span> Neutral  <span style=\"display: inline-block; width: 10px; height: 10px;                 border: 1px solid; background-color:                 hsl(120, 75%, 50%)\"></span> Positive  </div><tr><th>True Label</th><th>Predicted Label</th><th>Attribution Label</th><th>Attribution Score</th><th>Word Importance</th><tr><td><text style=\"padding-right:2em\"><b>Pos</b></text></td><td><text style=\"padding-right:2em\"><b>Pos (1.00)</b></text></td><td><text style=\"padding-right:2em\"><b>Neg</b></text></td><td><text style=\"padding-right:2em\"><b>0.45</b></text></td><td><mark style=\"background-color: hsl(0, 75%, 85%); opacity:1.0;                     line-height:1.75\"><font color=\"black\"> #s                    </font></mark><mark style=\"background-color: hsl(120, 75%, 94%); opacity:1.0;                     line-height:1.75\"><font color=\"black\"> a                    </font></mark><mark style=\"background-color: hsl(0, 75%, 96%); opacity:1.0;                     line-height:1.75\"><font color=\"black\"> mostly                    </font></mark><mark style=\"background-color: hsl(120, 75%, 71%); opacity:1.0;                     line-height:1.75\"><font color=\"black\"> magnificent                    </font></mark><mark style=\"background-color: hsl(120, 75%, 71%); opacity:1.0;                     line-height:1.75\"><font color=\"black\"> directorial                    </font></mark><mark style=\"background-color: hsl(0, 75%, 97%); opacity:1.0;                     line-height:1.75\"><font color=\"black\"> career                    </font></mark><mark style=\"background-color: hsl(0, 75%, 88%); opacity:1.0;                     line-height:1.75\"><font color=\"black\">                     </font></mark><mark style=\"background-color: hsl(120, 75%, 100%); opacity:1.0;                     line-height:1.75\"><font color=\"black\"> #/s                    </font></mark></td><tr></table>"
      ],
      "text/plain": [
       "<IPython.core.display.HTML object>"
      ]
     },
     "metadata": {},
     "output_type": "display_data"
    },
    {
     "name": "stdout",
     "output_type": "stream",
     "text": [
      "<IPython.core.display.HTML object>\n",
      "Raw review: marveilleux \n",
      "GT target: 1\n",
      "asd 4\n"
     ]
    },
    {
     "data": {
      "text/html": [
       "<table width: 100%><div style=\"border-top: 1px solid; margin-top: 5px;             padding-top: 5px; display: inline-block\"><b>Legend: </b><span style=\"display: inline-block; width: 10px; height: 10px;                 border: 1px solid; background-color:                 hsl(0, 75%, 60%)\"></span> Negative  <span style=\"display: inline-block; width: 10px; height: 10px;                 border: 1px solid; background-color:                 hsl(0, 75%, 100%)\"></span> Neutral  <span style=\"display: inline-block; width: 10px; height: 10px;                 border: 1px solid; background-color:                 hsl(120, 75%, 50%)\"></span> Positive  </div><tr><th>True Label</th><th>Predicted Label</th><th>Attribution Label</th><th>Attribution Score</th><th>Word Importance</th><tr><td><text style=\"padding-right:2em\"><b>Pos</b></text></td><td><text style=\"padding-right:2em\"><b>Pos (1.00)</b></text></td><td><text style=\"padding-right:2em\"><b>Neg</b></text></td><td><text style=\"padding-right:2em\"><b>-0.02</b></text></td><td><mark style=\"background-color: hsl(120, 75%, 71%); opacity:1.0;                     line-height:1.75\"><font color=\"black\"> #s                    </font></mark><mark style=\"background-color: hsl(0, 75%, 72%); opacity:1.0;                     line-height:1.75\"><font color=\"black\"> marveilleux                    </font></mark><mark style=\"background-color: hsl(0, 75%, 94%); opacity:1.0;                     line-height:1.75\"><font color=\"black\">                     </font></mark><mark style=\"background-color: hsl(120, 75%, 89%); opacity:1.0;                     line-height:1.75\"><font color=\"black\"> #/s                    </font></mark></td><tr></table>"
      ],
      "text/plain": [
       "<IPython.core.display.HTML object>"
      ]
     },
     "metadata": {},
     "output_type": "display_data"
    },
    {
     "name": "stdout",
     "output_type": "stream",
     "text": [
      "<IPython.core.display.HTML object>\n",
      "Raw review: holds a certain charm \n",
      "GT target: 1\n",
      "asd 7\n"
     ]
    },
    {
     "data": {
      "text/html": [
       "<table width: 100%><div style=\"border-top: 1px solid; margin-top: 5px;             padding-top: 5px; display: inline-block\"><b>Legend: </b><span style=\"display: inline-block; width: 10px; height: 10px;                 border: 1px solid; background-color:                 hsl(0, 75%, 60%)\"></span> Negative  <span style=\"display: inline-block; width: 10px; height: 10px;                 border: 1px solid; background-color:                 hsl(0, 75%, 100%)\"></span> Neutral  <span style=\"display: inline-block; width: 10px; height: 10px;                 border: 1px solid; background-color:                 hsl(120, 75%, 50%)\"></span> Positive  </div><tr><th>True Label</th><th>Predicted Label</th><th>Attribution Label</th><th>Attribution Score</th><th>Word Importance</th><tr><td><text style=\"padding-right:2em\"><b>Pos</b></text></td><td><text style=\"padding-right:2em\"><b>Pos (1.00)</b></text></td><td><text style=\"padding-right:2em\"><b>Neg</b></text></td><td><text style=\"padding-right:2em\"><b>0.26</b></text></td><td><mark style=\"background-color: hsl(0, 75%, 73%); opacity:1.0;                     line-height:1.75\"><font color=\"black\"> #s                    </font></mark><mark style=\"background-color: hsl(120, 75%, 92%); opacity:1.0;                     line-height:1.75\"><font color=\"black\"> holds                    </font></mark><mark style=\"background-color: hsl(120, 75%, 100%); opacity:1.0;                     line-height:1.75\"><font color=\"black\"> a                    </font></mark><mark style=\"background-color: hsl(0, 75%, 94%); opacity:1.0;                     line-height:1.75\"><font color=\"black\"> certain                    </font></mark><mark style=\"background-color: hsl(120, 75%, 98%); opacity:1.0;                     line-height:1.75\"><font color=\"black\"> charm                    </font></mark><mark style=\"background-color: hsl(120, 75%, 68%); opacity:1.0;                     line-height:1.75\"><font color=\"black\">                     </font></mark><mark style=\"background-color: hsl(120, 75%, 92%); opacity:1.0;                     line-height:1.75\"><font color=\"black\"> #/s                    </font></mark></td><tr></table>"
      ],
      "text/plain": [
       "<IPython.core.display.HTML object>"
      ]
     },
     "metadata": {},
     "output_type": "display_data"
    },
    {
     "name": "stdout",
     "output_type": "stream",
     "text": [
      "<IPython.core.display.HTML object>\n",
      "Raw review: blacked out \n",
      "GT target: 0\n",
      "asd 5\n"
     ]
    },
    {
     "data": {
      "text/html": [
       "<table width: 100%><div style=\"border-top: 1px solid; margin-top: 5px;             padding-top: 5px; display: inline-block\"><b>Legend: </b><span style=\"display: inline-block; width: 10px; height: 10px;                 border: 1px solid; background-color:                 hsl(0, 75%, 60%)\"></span> Negative  <span style=\"display: inline-block; width: 10px; height: 10px;                 border: 1px solid; background-color:                 hsl(0, 75%, 100%)\"></span> Neutral  <span style=\"display: inline-block; width: 10px; height: 10px;                 border: 1px solid; background-color:                 hsl(120, 75%, 50%)\"></span> Positive  </div><tr><th>True Label</th><th>Predicted Label</th><th>Attribution Label</th><th>Attribution Score</th><th>Word Importance</th><tr><td><text style=\"padding-right:2em\"><b>Neg</b></text></td><td><text style=\"padding-right:2em\"><b>Neg (0.00)</b></text></td><td><text style=\"padding-right:2em\"><b>Neg</b></text></td><td><text style=\"padding-right:2em\"><b>-0.34</b></text></td><td><mark style=\"background-color: hsl(0, 75%, 97%); opacity:1.0;                     line-height:1.75\"><font color=\"black\"> #s                    </font></mark><mark style=\"background-color: hsl(0, 75%, 65%); opacity:1.0;                     line-height:1.75\"><font color=\"black\"> blacked                    </font></mark><mark style=\"background-color: hsl(120, 75%, 96%); opacity:1.0;                     line-height:1.75\"><font color=\"black\"> out                    </font></mark><mark style=\"background-color: hsl(120, 75%, 97%); opacity:1.0;                     line-height:1.75\"><font color=\"black\">                     </font></mark><mark style=\"background-color: hsl(120, 75%, 78%); opacity:1.0;                     line-height:1.75\"><font color=\"black\"> #/s                    </font></mark></td><tr></table>"
      ],
      "text/plain": [
       "<IPython.core.display.HTML object>"
      ]
     },
     "metadata": {},
     "output_type": "display_data"
    },
    {
     "name": "stdout",
     "output_type": "stream",
     "text": [
      "<IPython.core.display.HTML object>\n",
      "Raw review: in trying to have the best of both worlds it ends up falling short as a whole \n",
      "GT target: 0\n",
      "asd 20\n"
     ]
    },
    {
     "data": {
      "text/html": [
       "<table width: 100%><div style=\"border-top: 1px solid; margin-top: 5px;             padding-top: 5px; display: inline-block\"><b>Legend: </b><span style=\"display: inline-block; width: 10px; height: 10px;                 border: 1px solid; background-color:                 hsl(0, 75%, 60%)\"></span> Negative  <span style=\"display: inline-block; width: 10px; height: 10px;                 border: 1px solid; background-color:                 hsl(0, 75%, 100%)\"></span> Neutral  <span style=\"display: inline-block; width: 10px; height: 10px;                 border: 1px solid; background-color:                 hsl(120, 75%, 50%)\"></span> Positive  </div><tr><th>True Label</th><th>Predicted Label</th><th>Attribution Label</th><th>Attribution Score</th><th>Word Importance</th><tr><td><text style=\"padding-right:2em\"><b>Neg</b></text></td><td><text style=\"padding-right:2em\"><b>Neg (0.00)</b></text></td><td><text style=\"padding-right:2em\"><b>Pos</b></text></td><td><text style=\"padding-right:2em\"><b>0.81</b></text></td><td><mark style=\"background-color: hsl(120, 75%, 99%); opacity:1.0;                     line-height:1.75\"><font color=\"black\"> #s                    </font></mark><mark style=\"background-color: hsl(120, 75%, 96%); opacity:1.0;                     line-height:1.75\"><font color=\"black\"> in                    </font></mark><mark style=\"background-color: hsl(120, 75%, 98%); opacity:1.0;                     line-height:1.75\"><font color=\"black\"> trying                    </font></mark><mark style=\"background-color: hsl(0, 75%, 100%); opacity:1.0;                     line-height:1.75\"><font color=\"black\"> to                    </font></mark><mark style=\"background-color: hsl(120, 75%, 100%); opacity:1.0;                     line-height:1.75\"><font color=\"black\"> have                    </font></mark><mark style=\"background-color: hsl(0, 75%, 99%); opacity:1.0;                     line-height:1.75\"><font color=\"black\"> the                    </font></mark><mark style=\"background-color: hsl(0, 75%, 80%); opacity:1.0;                     line-height:1.75\"><font color=\"black\"> best                    </font></mark><mark style=\"background-color: hsl(120, 75%, 95%); opacity:1.0;                     line-height:1.75\"><font color=\"black\"> of                    </font></mark><mark style=\"background-color: hsl(120, 75%, 94%); opacity:1.0;                     line-height:1.75\"><font color=\"black\"> both                    </font></mark><mark style=\"background-color: hsl(120, 75%, 61%); opacity:1.0;                     line-height:1.75\"><font color=\"black\"> worlds                    </font></mark><mark style=\"background-color: hsl(120, 75%, 96%); opacity:1.0;                     line-height:1.75\"><font color=\"black\"> it                    </font></mark><mark style=\"background-color: hsl(120, 75%, 97%); opacity:1.0;                     line-height:1.75\"><font color=\"black\"> ends                    </font></mark><mark style=\"background-color: hsl(0, 75%, 100%); opacity:1.0;                     line-height:1.75\"><font color=\"black\"> up                    </font></mark><mark style=\"background-color: hsl(120, 75%, 96%); opacity:1.0;                     line-height:1.75\"><font color=\"black\"> falling                    </font></mark><mark style=\"background-color: hsl(0, 75%, 95%); opacity:1.0;                     line-height:1.75\"><font color=\"black\"> short                    </font></mark><mark style=\"background-color: hsl(120, 75%, 93%); opacity:1.0;                     line-height:1.75\"><font color=\"black\"> as                    </font></mark><mark style=\"background-color: hsl(120, 75%, 99%); opacity:1.0;                     line-height:1.75\"><font color=\"black\"> a                    </font></mark><mark style=\"background-color: hsl(120, 75%, 99%); opacity:1.0;                     line-height:1.75\"><font color=\"black\"> whole                    </font></mark><mark style=\"background-color: hsl(0, 75%, 99%); opacity:1.0;                     line-height:1.75\"><font color=\"black\">                     </font></mark><mark style=\"background-color: hsl(0, 75%, 97%); opacity:1.0;                     line-height:1.75\"><font color=\"black\"> #/s                    </font></mark></td><tr></table>"
      ],
      "text/plain": [
       "<IPython.core.display.HTML object>"
      ]
     },
     "metadata": {},
     "output_type": "display_data"
    },
    {
     "name": "stdout",
     "output_type": "stream",
     "text": [
      "<IPython.core.display.HTML object>\n",
      "Raw review: rush through \n",
      "GT target: 0\n",
      "asd 5\n"
     ]
    },
    {
     "data": {
      "text/html": [
       "<table width: 100%><div style=\"border-top: 1px solid; margin-top: 5px;             padding-top: 5px; display: inline-block\"><b>Legend: </b><span style=\"display: inline-block; width: 10px; height: 10px;                 border: 1px solid; background-color:                 hsl(0, 75%, 60%)\"></span> Negative  <span style=\"display: inline-block; width: 10px; height: 10px;                 border: 1px solid; background-color:                 hsl(0, 75%, 100%)\"></span> Neutral  <span style=\"display: inline-block; width: 10px; height: 10px;                 border: 1px solid; background-color:                 hsl(120, 75%, 50%)\"></span> Positive  </div><tr><th>True Label</th><th>Predicted Label</th><th>Attribution Label</th><th>Attribution Score</th><th>Word Importance</th><tr><td><text style=\"padding-right:2em\"><b>Neg</b></text></td><td><text style=\"padding-right:2em\"><b>Pos (1.00)</b></text></td><td><text style=\"padding-right:2em\"><b>Neg</b></text></td><td><text style=\"padding-right:2em\"><b>-0.12</b></text></td><td><mark style=\"background-color: hsl(0, 75%, 72%); opacity:1.0;                     line-height:1.75\"><font color=\"black\"> #s                    </font></mark><mark style=\"background-color: hsl(120, 75%, 71%); opacity:1.0;                     line-height:1.75\"><font color=\"black\"> rush                    </font></mark><mark style=\"background-color: hsl(120, 75%, 87%); opacity:1.0;                     line-height:1.75\"><font color=\"black\"> through                    </font></mark><mark style=\"background-color: hsl(0, 75%, 99%); opacity:1.0;                     line-height:1.75\"><font color=\"black\">                     </font></mark><mark style=\"background-color: hsl(0, 75%, 91%); opacity:1.0;                     line-height:1.75\"><font color=\"black\"> #/s                    </font></mark></td><tr></table>"
      ],
      "text/plain": [
       "<IPython.core.display.HTML object>"
      ]
     },
     "metadata": {},
     "output_type": "display_data"
    },
    {
     "name": "stdout",
     "output_type": "stream",
     "text": [
      "<IPython.core.display.HTML object>\n",
      "Raw review: discover that the answer is as conventional as can be \n",
      "GT target: 0\n",
      "asd 13\n"
     ]
    },
    {
     "data": {
      "text/html": [
       "<table width: 100%><div style=\"border-top: 1px solid; margin-top: 5px;             padding-top: 5px; display: inline-block\"><b>Legend: </b><span style=\"display: inline-block; width: 10px; height: 10px;                 border: 1px solid; background-color:                 hsl(0, 75%, 60%)\"></span> Negative  <span style=\"display: inline-block; width: 10px; height: 10px;                 border: 1px solid; background-color:                 hsl(0, 75%, 100%)\"></span> Neutral  <span style=\"display: inline-block; width: 10px; height: 10px;                 border: 1px solid; background-color:                 hsl(120, 75%, 50%)\"></span> Positive  </div><tr><th>True Label</th><th>Predicted Label</th><th>Attribution Label</th><th>Attribution Score</th><th>Word Importance</th><tr><td><text style=\"padding-right:2em\"><b>Neg</b></text></td><td><text style=\"padding-right:2em\"><b>Neg (0.00)</b></text></td><td><text style=\"padding-right:2em\"><b>Pos</b></text></td><td><text style=\"padding-right:2em\"><b>0.65</b></text></td><td><mark style=\"background-color: hsl(0, 75%, 79%); opacity:1.0;                     line-height:1.75\"><font color=\"black\"> #s                    </font></mark><mark style=\"background-color: hsl(0, 75%, 98%); opacity:1.0;                     line-height:1.75\"><font color=\"black\"> discover                    </font></mark><mark style=\"background-color: hsl(120, 75%, 96%); opacity:1.0;                     line-height:1.75\"><font color=\"black\"> that                    </font></mark><mark style=\"background-color: hsl(120, 75%, 100%); opacity:1.0;                     line-height:1.75\"><font color=\"black\"> the                    </font></mark><mark style=\"background-color: hsl(120, 75%, 99%); opacity:1.0;                     line-height:1.75\"><font color=\"black\"> answer                    </font></mark><mark style=\"background-color: hsl(120, 75%, 83%); opacity:1.0;                     line-height:1.75\"><font color=\"black\"> is                    </font></mark><mark style=\"background-color: hsl(0, 75%, 99%); opacity:1.0;                     line-height:1.75\"><font color=\"black\"> as                    </font></mark><mark style=\"background-color: hsl(0, 75%, 98%); opacity:1.0;                     line-height:1.75\"><font color=\"black\"> conventional                    </font></mark><mark style=\"background-color: hsl(120, 75%, 69%); opacity:1.0;                     line-height:1.75\"><font color=\"black\"> as                    </font></mark><mark style=\"background-color: hsl(0, 75%, 96%); opacity:1.0;                     line-height:1.75\"><font color=\"black\"> can                    </font></mark><mark style=\"background-color: hsl(0, 75%, 100%); opacity:1.0;                     line-height:1.75\"><font color=\"black\"> be                    </font></mark><mark style=\"background-color: hsl(120, 75%, 98%); opacity:1.0;                     line-height:1.75\"><font color=\"black\">                     </font></mark><mark style=\"background-color: hsl(120, 75%, 81%); opacity:1.0;                     line-height:1.75\"><font color=\"black\"> #/s                    </font></mark></td><tr></table>"
      ],
      "text/plain": [
       "<IPython.core.display.HTML object>"
      ]
     },
     "metadata": {},
     "output_type": "display_data"
    },
    {
     "name": "stdout",
     "output_type": "stream",
     "text": [
      "<IPython.core.display.HTML object>\n",
      "Raw review: is n't funny \n",
      "GT target: 0\n",
      "asd 6\n"
     ]
    },
    {
     "data": {
      "text/html": [
       "<table width: 100%><div style=\"border-top: 1px solid; margin-top: 5px;             padding-top: 5px; display: inline-block\"><b>Legend: </b><span style=\"display: inline-block; width: 10px; height: 10px;                 border: 1px solid; background-color:                 hsl(0, 75%, 60%)\"></span> Negative  <span style=\"display: inline-block; width: 10px; height: 10px;                 border: 1px solid; background-color:                 hsl(0, 75%, 100%)\"></span> Neutral  <span style=\"display: inline-block; width: 10px; height: 10px;                 border: 1px solid; background-color:                 hsl(120, 75%, 50%)\"></span> Positive  </div><tr><th>True Label</th><th>Predicted Label</th><th>Attribution Label</th><th>Attribution Score</th><th>Word Importance</th><tr><td><text style=\"padding-right:2em\"><b>Neg</b></text></td><td><text style=\"padding-right:2em\"><b>Neg (0.00)</b></text></td><td><text style=\"padding-right:2em\"><b>Neg</b></text></td><td><text style=\"padding-right:2em\"><b>-1.02</b></text></td><td><mark style=\"background-color: hsl(0, 75%, 94%); opacity:1.0;                     line-height:1.75\"><font color=\"black\"> #s                    </font></mark><mark style=\"background-color: hsl(0, 75%, 78%); opacity:1.0;                     line-height:1.75\"><font color=\"black\"> is                    </font></mark><mark style=\"background-color: hsl(0, 75%, 94%); opacity:1.0;                     line-height:1.75\"><font color=\"black\"> n't                    </font></mark><mark style=\"background-color: hsl(0, 75%, 89%); opacity:1.0;                     line-height:1.75\"><font color=\"black\"> funny                    </font></mark><mark style=\"background-color: hsl(0, 75%, 81%); opacity:1.0;                     line-height:1.75\"><font color=\"black\">                     </font></mark><mark style=\"background-color: hsl(120, 75%, 99%); opacity:1.0;                     line-height:1.75\"><font color=\"black\"> #/s                    </font></mark></td><tr></table>"
      ],
      "text/plain": [
       "<IPython.core.display.HTML object>"
      ]
     },
     "metadata": {},
     "output_type": "display_data"
    },
    {
     "name": "stdout",
     "output_type": "stream",
     "text": [
      "<IPython.core.display.HTML object>\n",
      "Raw review: a characteristically engorged and sloppy coming-of-age movie . \n",
      "GT target: 0\n",
      "asd 11\n"
     ]
    },
    {
     "data": {
      "text/html": [
       "<table width: 100%><div style=\"border-top: 1px solid; margin-top: 5px;             padding-top: 5px; display: inline-block\"><b>Legend: </b><span style=\"display: inline-block; width: 10px; height: 10px;                 border: 1px solid; background-color:                 hsl(0, 75%, 60%)\"></span> Negative  <span style=\"display: inline-block; width: 10px; height: 10px;                 border: 1px solid; background-color:                 hsl(0, 75%, 100%)\"></span> Neutral  <span style=\"display: inline-block; width: 10px; height: 10px;                 border: 1px solid; background-color:                 hsl(120, 75%, 50%)\"></span> Positive  </div><tr><th>True Label</th><th>Predicted Label</th><th>Attribution Label</th><th>Attribution Score</th><th>Word Importance</th><tr><td><text style=\"padding-right:2em\"><b>Neg</b></text></td><td><text style=\"padding-right:2em\"><b>Neg (0.00)</b></text></td><td><text style=\"padding-right:2em\"><b>Pos</b></text></td><td><text style=\"padding-right:2em\"><b>0.76</b></text></td><td><mark style=\"background-color: hsl(0, 75%, 83%); opacity:1.0;                     line-height:1.75\"><font color=\"black\"> #s                    </font></mark><mark style=\"background-color: hsl(0, 75%, 100%); opacity:1.0;                     line-height:1.75\"><font color=\"black\"> a                    </font></mark><mark style=\"background-color: hsl(0, 75%, 90%); opacity:1.0;                     line-height:1.75\"><font color=\"black\"> characteristically                    </font></mark><mark style=\"background-color: hsl(120, 75%, 93%); opacity:1.0;                     line-height:1.75\"><font color=\"black\"> engorged                    </font></mark><mark style=\"background-color: hsl(120, 75%, 87%); opacity:1.0;                     line-height:1.75\"><font color=\"black\"> and                    </font></mark><mark style=\"background-color: hsl(120, 75%, 95%); opacity:1.0;                     line-height:1.75\"><font color=\"black\"> sloppy                    </font></mark><mark style=\"background-color: hsl(0, 75%, 89%); opacity:1.0;                     line-height:1.75\"><font color=\"black\"> coming-of-age                    </font></mark><mark style=\"background-color: hsl(120, 75%, 96%); opacity:1.0;                     line-height:1.75\"><font color=\"black\"> movie                    </font></mark><mark style=\"background-color: hsl(120, 75%, 70%); opacity:1.0;                     line-height:1.75\"><font color=\"black\"> .                    </font></mark><mark style=\"background-color: hsl(0, 75%, 98%); opacity:1.0;                     line-height:1.75\"><font color=\"black\">                     </font></mark><mark style=\"background-color: hsl(120, 75%, 98%); opacity:1.0;                     line-height:1.75\"><font color=\"black\"> #/s                    </font></mark></td><tr></table>"
      ],
      "text/plain": [
       "<IPython.core.display.HTML object>"
      ]
     },
     "metadata": {},
     "output_type": "display_data"
    },
    {
     "name": "stdout",
     "output_type": "stream",
     "text": [
      "<IPython.core.display.HTML object>\n",
      "Raw review: the slack complacency of ( godard 's ) vision \n",
      "GT target: 0\n",
      "asd 12\n"
     ]
    },
    {
     "data": {
      "text/html": [
       "<table width: 100%><div style=\"border-top: 1px solid; margin-top: 5px;             padding-top: 5px; display: inline-block\"><b>Legend: </b><span style=\"display: inline-block; width: 10px; height: 10px;                 border: 1px solid; background-color:                 hsl(0, 75%, 60%)\"></span> Negative  <span style=\"display: inline-block; width: 10px; height: 10px;                 border: 1px solid; background-color:                 hsl(0, 75%, 100%)\"></span> Neutral  <span style=\"display: inline-block; width: 10px; height: 10px;                 border: 1px solid; background-color:                 hsl(120, 75%, 50%)\"></span> Positive  </div><tr><th>True Label</th><th>Predicted Label</th><th>Attribution Label</th><th>Attribution Score</th><th>Word Importance</th><tr><td><text style=\"padding-right:2em\"><b>Neg</b></text></td><td><text style=\"padding-right:2em\"><b>Neg (0.00)</b></text></td><td><text style=\"padding-right:2em\"><b>Neg</b></text></td><td><text style=\"padding-right:2em\"><b>-0.23</b></text></td><td><mark style=\"background-color: hsl(120, 75%, 82%); opacity:1.0;                     line-height:1.75\"><font color=\"black\"> #s                    </font></mark><mark style=\"background-color: hsl(120, 75%, 96%); opacity:1.0;                     line-height:1.75\"><font color=\"black\"> the                    </font></mark><mark style=\"background-color: hsl(0, 75%, 90%); opacity:1.0;                     line-height:1.75\"><font color=\"black\"> slack                    </font></mark><mark style=\"background-color: hsl(0, 75%, 76%); opacity:1.0;                     line-height:1.75\"><font color=\"black\"> complacency                    </font></mark><mark style=\"background-color: hsl(120, 75%, 100%); opacity:1.0;                     line-height:1.75\"><font color=\"black\"> of                    </font></mark><mark style=\"background-color: hsl(0, 75%, 97%); opacity:1.0;                     line-height:1.75\"><font color=\"black\"> (                    </font></mark><mark style=\"background-color: hsl(0, 75%, 98%); opacity:1.0;                     line-height:1.75\"><font color=\"black\"> godard                    </font></mark><mark style=\"background-color: hsl(0, 75%, 98%); opacity:1.0;                     line-height:1.75\"><font color=\"black\"> 's                    </font></mark><mark style=\"background-color: hsl(0, 75%, 94%); opacity:1.0;                     line-height:1.75\"><font color=\"black\"> )                    </font></mark><mark style=\"background-color: hsl(120, 75%, 87%); opacity:1.0;                     line-height:1.75\"><font color=\"black\"> vision                    </font></mark><mark style=\"background-color: hsl(0, 75%, 99%); opacity:1.0;                     line-height:1.75\"><font color=\"black\">                     </font></mark><mark style=\"background-color: hsl(0, 75%, 95%); opacity:1.0;                     line-height:1.75\"><font color=\"black\"> #/s                    </font></mark></td><tr></table>"
      ],
      "text/plain": [
       "<IPython.core.display.HTML object>"
      ]
     },
     "metadata": {},
     "output_type": "display_data"
    },
    {
     "name": "stdout",
     "output_type": "stream",
     "text": [
      "<IPython.core.display.HTML object>\n",
      "Raw review: luridly graphic and laughably unconvincing \n",
      "GT target: 0\n",
      "asd 8\n"
     ]
    },
    {
     "data": {
      "text/html": [
       "<table width: 100%><div style=\"border-top: 1px solid; margin-top: 5px;             padding-top: 5px; display: inline-block\"><b>Legend: </b><span style=\"display: inline-block; width: 10px; height: 10px;                 border: 1px solid; background-color:                 hsl(0, 75%, 60%)\"></span> Negative  <span style=\"display: inline-block; width: 10px; height: 10px;                 border: 1px solid; background-color:                 hsl(0, 75%, 100%)\"></span> Neutral  <span style=\"display: inline-block; width: 10px; height: 10px;                 border: 1px solid; background-color:                 hsl(120, 75%, 50%)\"></span> Positive  </div><tr><th>True Label</th><th>Predicted Label</th><th>Attribution Label</th><th>Attribution Score</th><th>Word Importance</th><tr><td><text style=\"padding-right:2em\"><b>Neg</b></text></td><td><text style=\"padding-right:2em\"><b>Neg (0.00)</b></text></td><td><text style=\"padding-right:2em\"><b>Pos</b></text></td><td><text style=\"padding-right:2em\"><b>0.63</b></text></td><td><mark style=\"background-color: hsl(0, 75%, 97%); opacity:1.0;                     line-height:1.75\"><font color=\"black\"> #s                    </font></mark><mark style=\"background-color: hsl(0, 75%, 98%); opacity:1.0;                     line-height:1.75\"><font color=\"black\"> luridly                    </font></mark><mark style=\"background-color: hsl(0, 75%, 97%); opacity:1.0;                     line-height:1.75\"><font color=\"black\"> graphic                    </font></mark><mark style=\"background-color: hsl(0, 75%, 99%); opacity:1.0;                     line-height:1.75\"><font color=\"black\"> and                    </font></mark><mark style=\"background-color: hsl(0, 75%, 100%); opacity:1.0;                     line-height:1.75\"><font color=\"black\"> laughably                    </font></mark><mark style=\"background-color: hsl(120, 75%, 89%); opacity:1.0;                     line-height:1.75\"><font color=\"black\"> unconvincing                    </font></mark><mark style=\"background-color: hsl(120, 75%, 96%); opacity:1.0;                     line-height:1.75\"><font color=\"black\">                     </font></mark><mark style=\"background-color: hsl(120, 75%, 55%); opacity:1.0;                     line-height:1.75\"><font color=\"black\"> #/s                    </font></mark></td><tr></table>"
      ],
      "text/plain": [
       "<IPython.core.display.HTML object>"
      ]
     },
     "metadata": {},
     "output_type": "display_data"
    },
    {
     "name": "stdout",
     "output_type": "stream",
     "text": [
      "<IPython.core.display.HTML object>\n",
      "Raw review: is not that it 's offensive , but that it 's boring . \n",
      "GT target: 0\n",
      "asd 16\n"
     ]
    },
    {
     "data": {
      "text/html": [
       "<table width: 100%><div style=\"border-top: 1px solid; margin-top: 5px;             padding-top: 5px; display: inline-block\"><b>Legend: </b><span style=\"display: inline-block; width: 10px; height: 10px;                 border: 1px solid; background-color:                 hsl(0, 75%, 60%)\"></span> Negative  <span style=\"display: inline-block; width: 10px; height: 10px;                 border: 1px solid; background-color:                 hsl(0, 75%, 100%)\"></span> Neutral  <span style=\"display: inline-block; width: 10px; height: 10px;                 border: 1px solid; background-color:                 hsl(120, 75%, 50%)\"></span> Positive  </div><tr><th>True Label</th><th>Predicted Label</th><th>Attribution Label</th><th>Attribution Score</th><th>Word Importance</th><tr><td><text style=\"padding-right:2em\"><b>Neg</b></text></td><td><text style=\"padding-right:2em\"><b>Neg (0.00)</b></text></td><td><text style=\"padding-right:2em\"><b>Neg</b></text></td><td><text style=\"padding-right:2em\"><b>-0.05</b></text></td><td><mark style=\"background-color: hsl(0, 75%, 87%); opacity:1.0;                     line-height:1.75\"><font color=\"black\"> #s                    </font></mark><mark style=\"background-color: hsl(0, 75%, 91%); opacity:1.0;                     line-height:1.75\"><font color=\"black\"> is                    </font></mark><mark style=\"background-color: hsl(0, 75%, 94%); opacity:1.0;                     line-height:1.75\"><font color=\"black\"> not                    </font></mark><mark style=\"background-color: hsl(0, 75%, 88%); opacity:1.0;                     line-height:1.75\"><font color=\"black\"> that                    </font></mark><mark style=\"background-color: hsl(120, 75%, 98%); opacity:1.0;                     line-height:1.75\"><font color=\"black\"> it                    </font></mark><mark style=\"background-color: hsl(120, 75%, 100%); opacity:1.0;                     line-height:1.75\"><font color=\"black\"> 's                    </font></mark><mark style=\"background-color: hsl(0, 75%, 99%); opacity:1.0;                     line-height:1.75\"><font color=\"black\"> offensive                    </font></mark><mark style=\"background-color: hsl(120, 75%, 81%); opacity:1.0;                     line-height:1.75\"><font color=\"black\"> ,                    </font></mark><mark style=\"background-color: hsl(120, 75%, 82%); opacity:1.0;                     line-height:1.75\"><font color=\"black\"> but                    </font></mark><mark style=\"background-color: hsl(120, 75%, 98%); opacity:1.0;                     line-height:1.75\"><font color=\"black\"> that                    </font></mark><mark style=\"background-color: hsl(0, 75%, 94%); opacity:1.0;                     line-height:1.75\"><font color=\"black\"> it                    </font></mark><mark style=\"background-color: hsl(120, 75%, 95%); opacity:1.0;                     line-height:1.75\"><font color=\"black\"> 's                    </font></mark><mark style=\"background-color: hsl(120, 75%, 96%); opacity:1.0;                     line-height:1.75\"><font color=\"black\"> boring                    </font></mark><mark style=\"background-color: hsl(0, 75%, 96%); opacity:1.0;                     line-height:1.75\"><font color=\"black\"> .                    </font></mark><mark style=\"background-color: hsl(0, 75%, 83%); opacity:1.0;                     line-height:1.75\"><font color=\"black\">                     </font></mark><mark style=\"background-color: hsl(120, 75%, 94%); opacity:1.0;                     line-height:1.75\"><font color=\"black\"> #/s                    </font></mark></td><tr></table>"
      ],
      "text/plain": [
       "<IPython.core.display.HTML object>"
      ]
     },
     "metadata": {},
     "output_type": "display_data"
    },
    {
     "name": "stdout",
     "output_type": "stream",
     "text": [
      "<IPython.core.display.HTML object>\n",
      "Raw review: is an inspirational love story , capturing the innocence and idealism of that first encounter \n",
      "GT target: 1\n",
      "asd 18\n"
     ]
    },
    {
     "data": {
      "text/html": [
       "<table width: 100%><div style=\"border-top: 1px solid; margin-top: 5px;             padding-top: 5px; display: inline-block\"><b>Legend: </b><span style=\"display: inline-block; width: 10px; height: 10px;                 border: 1px solid; background-color:                 hsl(0, 75%, 60%)\"></span> Negative  <span style=\"display: inline-block; width: 10px; height: 10px;                 border: 1px solid; background-color:                 hsl(0, 75%, 100%)\"></span> Neutral  <span style=\"display: inline-block; width: 10px; height: 10px;                 border: 1px solid; background-color:                 hsl(120, 75%, 50%)\"></span> Positive  </div><tr><th>True Label</th><th>Predicted Label</th><th>Attribution Label</th><th>Attribution Score</th><th>Word Importance</th><tr><td><text style=\"padding-right:2em\"><b>Pos</b></text></td><td><text style=\"padding-right:2em\"><b>Pos (1.00)</b></text></td><td><text style=\"padding-right:2em\"><b>Neg</b></text></td><td><text style=\"padding-right:2em\"><b>-1.44</b></text></td><td><mark style=\"background-color: hsl(120, 75%, 96%); opacity:1.0;                     line-height:1.75\"><font color=\"black\"> #s                    </font></mark><mark style=\"background-color: hsl(120, 75%, 99%); opacity:1.0;                     line-height:1.75\"><font color=\"black\"> is                    </font></mark><mark style=\"background-color: hsl(0, 75%, 96%); opacity:1.0;                     line-height:1.75\"><font color=\"black\"> an                    </font></mark><mark style=\"background-color: hsl(0, 75%, 83%); opacity:1.0;                     line-height:1.75\"><font color=\"black\"> inspirational                    </font></mark><mark style=\"background-color: hsl(120, 75%, 89%); opacity:1.0;                     line-height:1.75\"><font color=\"black\"> love                    </font></mark><mark style=\"background-color: hsl(0, 75%, 100%); opacity:1.0;                     line-height:1.75\"><font color=\"black\"> story                    </font></mark><mark style=\"background-color: hsl(0, 75%, 82%); opacity:1.0;                     line-height:1.75\"><font color=\"black\"> ,                    </font></mark><mark style=\"background-color: hsl(0, 75%, 97%); opacity:1.0;                     line-height:1.75\"><font color=\"black\"> capturing                    </font></mark><mark style=\"background-color: hsl(0, 75%, 100%); opacity:1.0;                     line-height:1.75\"><font color=\"black\"> the                    </font></mark><mark style=\"background-color: hsl(0, 75%, 82%); opacity:1.0;                     line-height:1.75\"><font color=\"black\"> innocence                    </font></mark><mark style=\"background-color: hsl(0, 75%, 95%); opacity:1.0;                     line-height:1.75\"><font color=\"black\"> and                    </font></mark><mark style=\"background-color: hsl(0, 75%, 88%); opacity:1.0;                     line-height:1.75\"><font color=\"black\"> idealism                    </font></mark><mark style=\"background-color: hsl(0, 75%, 91%); opacity:1.0;                     line-height:1.75\"><font color=\"black\"> of                    </font></mark><mark style=\"background-color: hsl(0, 75%, 99%); opacity:1.0;                     line-height:1.75\"><font color=\"black\"> that                    </font></mark><mark style=\"background-color: hsl(120, 75%, 95%); opacity:1.0;                     line-height:1.75\"><font color=\"black\"> first                    </font></mark><mark style=\"background-color: hsl(120, 75%, 98%); opacity:1.0;                     line-height:1.75\"><font color=\"black\"> encounter                    </font></mark><mark style=\"background-color: hsl(120, 75%, 100%); opacity:1.0;                     line-height:1.75\"><font color=\"black\">                     </font></mark><mark style=\"background-color: hsl(120, 75%, 88%); opacity:1.0;                     line-height:1.75\"><font color=\"black\"> #/s                    </font></mark></td><tr></table>"
      ],
      "text/plain": [
       "<IPython.core.display.HTML object>"
      ]
     },
     "metadata": {},
     "output_type": "display_data"
    },
    {
     "name": "stdout",
     "output_type": "stream",
     "text": [
      "<IPython.core.display.HTML object>\n",
      "Raw review: walked away from this new version of e.t. just as i hoped i would -- with moist eyes . \n",
      "GT target: 1\n",
      "asd 22\n"
     ]
    },
    {
     "data": {
      "text/html": [
       "<table width: 100%><div style=\"border-top: 1px solid; margin-top: 5px;             padding-top: 5px; display: inline-block\"><b>Legend: </b><span style=\"display: inline-block; width: 10px; height: 10px;                 border: 1px solid; background-color:                 hsl(0, 75%, 60%)\"></span> Negative  <span style=\"display: inline-block; width: 10px; height: 10px;                 border: 1px solid; background-color:                 hsl(0, 75%, 100%)\"></span> Neutral  <span style=\"display: inline-block; width: 10px; height: 10px;                 border: 1px solid; background-color:                 hsl(120, 75%, 50%)\"></span> Positive  </div><tr><th>True Label</th><th>Predicted Label</th><th>Attribution Label</th><th>Attribution Score</th><th>Word Importance</th><tr><td><text style=\"padding-right:2em\"><b>Pos</b></text></td><td><text style=\"padding-right:2em\"><b>Neg (0.01)</b></text></td><td><text style=\"padding-right:2em\"><b>Neg</b></text></td><td><text style=\"padding-right:2em\"><b>-0.95</b></text></td><td><mark style=\"background-color: hsl(120, 75%, 99%); opacity:1.0;                     line-height:1.75\"><font color=\"black\"> #s                    </font></mark><mark style=\"background-color: hsl(0, 75%, 99%); opacity:1.0;                     line-height:1.75\"><font color=\"black\"> walked                    </font></mark><mark style=\"background-color: hsl(0, 75%, 99%); opacity:1.0;                     line-height:1.75\"><font color=\"black\"> away                    </font></mark><mark style=\"background-color: hsl(120, 75%, 94%); opacity:1.0;                     line-height:1.75\"><font color=\"black\"> from                    </font></mark><mark style=\"background-color: hsl(120, 75%, 98%); opacity:1.0;                     line-height:1.75\"><font color=\"black\"> this                    </font></mark><mark style=\"background-color: hsl(120, 75%, 98%); opacity:1.0;                     line-height:1.75\"><font color=\"black\"> new                    </font></mark><mark style=\"background-color: hsl(0, 75%, 97%); opacity:1.0;                     line-height:1.75\"><font color=\"black\"> version                    </font></mark><mark style=\"background-color: hsl(0, 75%, 97%); opacity:1.0;                     line-height:1.75\"><font color=\"black\"> of                    </font></mark><mark style=\"background-color: hsl(120, 75%, 100%); opacity:1.0;                     line-height:1.75\"><font color=\"black\"> e.t.                    </font></mark><mark style=\"background-color: hsl(120, 75%, 93%); opacity:1.0;                     line-height:1.75\"><font color=\"black\"> just                    </font></mark><mark style=\"background-color: hsl(120, 75%, 98%); opacity:1.0;                     line-height:1.75\"><font color=\"black\"> as                    </font></mark><mark style=\"background-color: hsl(120, 75%, 100%); opacity:1.0;                     line-height:1.75\"><font color=\"black\"> i                    </font></mark><mark style=\"background-color: hsl(120, 75%, 98%); opacity:1.0;                     line-height:1.75\"><font color=\"black\"> hoped                    </font></mark><mark style=\"background-color: hsl(120, 75%, 100%); opacity:1.0;                     line-height:1.75\"><font color=\"black\"> i                    </font></mark><mark style=\"background-color: hsl(120, 75%, 96%); opacity:1.0;                     line-height:1.75\"><font color=\"black\"> would                    </font></mark><mark style=\"background-color: hsl(0, 75%, 98%); opacity:1.0;                     line-height:1.75\"><font color=\"black\"> --                    </font></mark><mark style=\"background-color: hsl(120, 75%, 99%); opacity:1.0;                     line-height:1.75\"><font color=\"black\"> with                    </font></mark><mark style=\"background-color: hsl(0, 75%, 98%); opacity:1.0;                     line-height:1.75\"><font color=\"black\"> moist                    </font></mark><mark style=\"background-color: hsl(120, 75%, 98%); opacity:1.0;                     line-height:1.75\"><font color=\"black\"> eyes                    </font></mark><mark style=\"background-color: hsl(0, 75%, 92%); opacity:1.0;                     line-height:1.75\"><font color=\"black\"> .                    </font></mark><mark style=\"background-color: hsl(120, 75%, 99%); opacity:1.0;                     line-height:1.75\"><font color=\"black\">                     </font></mark><mark style=\"background-color: hsl(0, 75%, 67%); opacity:1.0;                     line-height:1.75\"><font color=\"black\"> #/s                    </font></mark></td><tr></table>"
      ],
      "text/plain": [
       "<IPython.core.display.HTML object>"
      ]
     },
     "metadata": {},
     "output_type": "display_data"
    },
    {
     "name": "stdout",
     "output_type": "stream",
     "text": [
      "<IPython.core.display.HTML object>\n",
      "Raw review: brings a youthful , out-to-change-the-world aggressiveness to the project , as if she 's cut open a vein and \n",
      "GT target: 1\n",
      "asd 22\n"
     ]
    },
    {
     "data": {
      "text/html": [
       "<table width: 100%><div style=\"border-top: 1px solid; margin-top: 5px;             padding-top: 5px; display: inline-block\"><b>Legend: </b><span style=\"display: inline-block; width: 10px; height: 10px;                 border: 1px solid; background-color:                 hsl(0, 75%, 60%)\"></span> Negative  <span style=\"display: inline-block; width: 10px; height: 10px;                 border: 1px solid; background-color:                 hsl(0, 75%, 100%)\"></span> Neutral  <span style=\"display: inline-block; width: 10px; height: 10px;                 border: 1px solid; background-color:                 hsl(120, 75%, 50%)\"></span> Positive  </div><tr><th>True Label</th><th>Predicted Label</th><th>Attribution Label</th><th>Attribution Score</th><th>Word Importance</th><tr><td><text style=\"padding-right:2em\"><b>Pos</b></text></td><td><text style=\"padding-right:2em\"><b>Pos (1.00)</b></text></td><td><text style=\"padding-right:2em\"><b>Neg</b></text></td><td><text style=\"padding-right:2em\"><b>0.33</b></text></td><td><mark style=\"background-color: hsl(0, 75%, 84%); opacity:1.0;                     line-height:1.75\"><font color=\"black\"> #s                    </font></mark><mark style=\"background-color: hsl(0, 75%, 100%); opacity:1.0;                     line-height:1.75\"><font color=\"black\"> brings                    </font></mark><mark style=\"background-color: hsl(120, 75%, 100%); opacity:1.0;                     line-height:1.75\"><font color=\"black\"> a                    </font></mark><mark style=\"background-color: hsl(120, 75%, 96%); opacity:1.0;                     line-height:1.75\"><font color=\"black\"> youthful                    </font></mark><mark style=\"background-color: hsl(120, 75%, 85%); opacity:1.0;                     line-height:1.75\"><font color=\"black\"> ,                    </font></mark><mark style=\"background-color: hsl(120, 75%, 99%); opacity:1.0;                     line-height:1.75\"><font color=\"black\"> out-to-change-the-world                    </font></mark><mark style=\"background-color: hsl(120, 75%, 95%); opacity:1.0;                     line-height:1.75\"><font color=\"black\"> aggressiveness                    </font></mark><mark style=\"background-color: hsl(0, 75%, 99%); opacity:1.0;                     line-height:1.75\"><font color=\"black\"> to                    </font></mark><mark style=\"background-color: hsl(0, 75%, 100%); opacity:1.0;                     line-height:1.75\"><font color=\"black\"> the                    </font></mark><mark style=\"background-color: hsl(0, 75%, 99%); opacity:1.0;                     line-height:1.75\"><font color=\"black\"> project                    </font></mark><mark style=\"background-color: hsl(120, 75%, 78%); opacity:1.0;                     line-height:1.75\"><font color=\"black\"> ,                    </font></mark><mark style=\"background-color: hsl(0, 75%, 97%); opacity:1.0;                     line-height:1.75\"><font color=\"black\"> as                    </font></mark><mark style=\"background-color: hsl(0, 75%, 98%); opacity:1.0;                     line-height:1.75\"><font color=\"black\"> if                    </font></mark><mark style=\"background-color: hsl(0, 75%, 97%); opacity:1.0;                     line-height:1.75\"><font color=\"black\"> she                    </font></mark><mark style=\"background-color: hsl(120, 75%, 97%); opacity:1.0;                     line-height:1.75\"><font color=\"black\"> 's                    </font></mark><mark style=\"background-color: hsl(0, 75%, 81%); opacity:1.0;                     line-height:1.75\"><font color=\"black\"> cut                    </font></mark><mark style=\"background-color: hsl(120, 75%, 96%); opacity:1.0;                     line-height:1.75\"><font color=\"black\"> open                    </font></mark><mark style=\"background-color: hsl(120, 75%, 98%); opacity:1.0;                     line-height:1.75\"><font color=\"black\"> a                    </font></mark><mark style=\"background-color: hsl(120, 75%, 100%); opacity:1.0;                     line-height:1.75\"><font color=\"black\"> vein                    </font></mark><mark style=\"background-color: hsl(0, 75%, 89%); opacity:1.0;                     line-height:1.75\"><font color=\"black\"> and                    </font></mark><mark style=\"background-color: hsl(0, 75%, 97%); opacity:1.0;                     line-height:1.75\"><font color=\"black\">                     </font></mark><mark style=\"background-color: hsl(120, 75%, 97%); opacity:1.0;                     line-height:1.75\"><font color=\"black\"> #/s                    </font></mark></td><tr></table>"
      ],
      "text/plain": [
       "<IPython.core.display.HTML object>"
      ]
     },
     "metadata": {},
     "output_type": "display_data"
    },
    {
     "name": "stdout",
     "output_type": "stream",
     "text": [
      "<IPython.core.display.HTML object>\n",
      "Raw review: a no-bull throwback to 1970s action films \n",
      "GT target: 1\n",
      "asd 10\n"
     ]
    },
    {
     "data": {
      "text/html": [
       "<table width: 100%><div style=\"border-top: 1px solid; margin-top: 5px;             padding-top: 5px; display: inline-block\"><b>Legend: </b><span style=\"display: inline-block; width: 10px; height: 10px;                 border: 1px solid; background-color:                 hsl(0, 75%, 60%)\"></span> Negative  <span style=\"display: inline-block; width: 10px; height: 10px;                 border: 1px solid; background-color:                 hsl(0, 75%, 100%)\"></span> Neutral  <span style=\"display: inline-block; width: 10px; height: 10px;                 border: 1px solid; background-color:                 hsl(120, 75%, 50%)\"></span> Positive  </div><tr><th>True Label</th><th>Predicted Label</th><th>Attribution Label</th><th>Attribution Score</th><th>Word Importance</th><tr><td><text style=\"padding-right:2em\"><b>Pos</b></text></td><td><text style=\"padding-right:2em\"><b>Pos (1.00)</b></text></td><td><text style=\"padding-right:2em\"><b>Neg</b></text></td><td><text style=\"padding-right:2em\"><b>-0.57</b></text></td><td><mark style=\"background-color: hsl(120, 75%, 83%); opacity:1.0;                     line-height:1.75\"><font color=\"black\"> #s                    </font></mark><mark style=\"background-color: hsl(0, 75%, 99%); opacity:1.0;                     line-height:1.75\"><font color=\"black\"> a                    </font></mark><mark style=\"background-color: hsl(0, 75%, 98%); opacity:1.0;                     line-height:1.75\"><font color=\"black\"> no-bull                    </font></mark><mark style=\"background-color: hsl(120, 75%, 100%); opacity:1.0;                     line-height:1.75\"><font color=\"black\"> throwback                    </font></mark><mark style=\"background-color: hsl(0, 75%, 65%); opacity:1.0;                     line-height:1.75\"><font color=\"black\"> to                    </font></mark><mark style=\"background-color: hsl(120, 75%, 89%); opacity:1.0;                     line-height:1.75\"><font color=\"black\"> 1970s                    </font></mark><mark style=\"background-color: hsl(120, 75%, 95%); opacity:1.0;                     line-height:1.75\"><font color=\"black\"> action                    </font></mark><mark style=\"background-color: hsl(120, 75%, 99%); opacity:1.0;                     line-height:1.75\"><font color=\"black\"> films                    </font></mark><mark style=\"background-color: hsl(0, 75%, 100%); opacity:1.0;                     line-height:1.75\"><font color=\"black\">                     </font></mark><mark style=\"background-color: hsl(0, 75%, 99%); opacity:1.0;                     line-height:1.75\"><font color=\"black\"> #/s                    </font></mark></td><tr></table>"
      ],
      "text/plain": [
       "<IPython.core.display.HTML object>"
      ]
     },
     "metadata": {},
     "output_type": "display_data"
    },
    {
     "name": "stdout",
     "output_type": "stream",
     "text": [
      "<IPython.core.display.HTML object>\n",
      "Raw review: languishing \n",
      "GT target: 0\n",
      "asd 4\n"
     ]
    },
    {
     "data": {
      "text/html": [
       "<table width: 100%><div style=\"border-top: 1px solid; margin-top: 5px;             padding-top: 5px; display: inline-block\"><b>Legend: </b><span style=\"display: inline-block; width: 10px; height: 10px;                 border: 1px solid; background-color:                 hsl(0, 75%, 60%)\"></span> Negative  <span style=\"display: inline-block; width: 10px; height: 10px;                 border: 1px solid; background-color:                 hsl(0, 75%, 100%)\"></span> Neutral  <span style=\"display: inline-block; width: 10px; height: 10px;                 border: 1px solid; background-color:                 hsl(120, 75%, 50%)\"></span> Positive  </div><tr><th>True Label</th><th>Predicted Label</th><th>Attribution Label</th><th>Attribution Score</th><th>Word Importance</th><tr><td><text style=\"padding-right:2em\"><b>Neg</b></text></td><td><text style=\"padding-right:2em\"><b>Neg (0.00)</b></text></td><td><text style=\"padding-right:2em\"><b>Neg</b></text></td><td><text style=\"padding-right:2em\"><b>-0.31</b></text></td><td><mark style=\"background-color: hsl(120, 75%, 68%); opacity:1.0;                     line-height:1.75\"><font color=\"black\"> #s                    </font></mark><mark style=\"background-color: hsl(0, 75%, 91%); opacity:1.0;                     line-height:1.75\"><font color=\"black\"> languishing                    </font></mark><mark style=\"background-color: hsl(0, 75%, 93%); opacity:1.0;                     line-height:1.75\"><font color=\"black\">                     </font></mark><mark style=\"background-color: hsl(0, 75%, 100%); opacity:1.0;                     line-height:1.75\"><font color=\"black\"> #/s                    </font></mark></td><tr></table>"
      ],
      "text/plain": [
       "<IPython.core.display.HTML object>"
      ]
     },
     "metadata": {},
     "output_type": "display_data"
    },
    {
     "name": "stdout",
     "output_type": "stream",
     "text": [
      "<IPython.core.display.HTML object>\n",
      "Raw review: brittle desperation \n",
      "GT target: 0\n",
      "asd 5\n"
     ]
    },
    {
     "data": {
      "text/html": [
       "<table width: 100%><div style=\"border-top: 1px solid; margin-top: 5px;             padding-top: 5px; display: inline-block\"><b>Legend: </b><span style=\"display: inline-block; width: 10px; height: 10px;                 border: 1px solid; background-color:                 hsl(0, 75%, 60%)\"></span> Negative  <span style=\"display: inline-block; width: 10px; height: 10px;                 border: 1px solid; background-color:                 hsl(0, 75%, 100%)\"></span> Neutral  <span style=\"display: inline-block; width: 10px; height: 10px;                 border: 1px solid; background-color:                 hsl(120, 75%, 50%)\"></span> Positive  </div><tr><th>True Label</th><th>Predicted Label</th><th>Attribution Label</th><th>Attribution Score</th><th>Word Importance</th><tr><td><text style=\"padding-right:2em\"><b>Neg</b></text></td><td><text style=\"padding-right:2em\"><b>Neg (0.00)</b></text></td><td><text style=\"padding-right:2em\"><b>Pos</b></text></td><td><text style=\"padding-right:2em\"><b>0.54</b></text></td><td><mark style=\"background-color: hsl(120, 75%, 98%); opacity:1.0;                     line-height:1.75\"><font color=\"black\"> #s                    </font></mark><mark style=\"background-color: hsl(0, 75%, 88%); opacity:1.0;                     line-height:1.75\"><font color=\"black\"> brittle                    </font></mark><mark style=\"background-color: hsl(0, 75%, 93%); opacity:1.0;                     line-height:1.75\"><font color=\"black\"> desperation                    </font></mark><mark style=\"background-color: hsl(120, 75%, 54%); opacity:1.0;                     line-height:1.75\"><font color=\"black\">                     </font></mark><mark style=\"background-color: hsl(0, 75%, 99%); opacity:1.0;                     line-height:1.75\"><font color=\"black\"> #/s                    </font></mark></td><tr></table>"
      ],
      "text/plain": [
       "<IPython.core.display.HTML object>"
      ]
     },
     "metadata": {},
     "output_type": "display_data"
    },
    {
     "name": "stdout",
     "output_type": "stream",
     "text": [
      "<IPython.core.display.HTML object>\n",
      "Raw review: sharp comedy , old-fashioned monster movie atmospherics , \n",
      "GT target: 1\n",
      "asd 11\n"
     ]
    },
    {
     "data": {
      "text/html": [
       "<table width: 100%><div style=\"border-top: 1px solid; margin-top: 5px;             padding-top: 5px; display: inline-block\"><b>Legend: </b><span style=\"display: inline-block; width: 10px; height: 10px;                 border: 1px solid; background-color:                 hsl(0, 75%, 60%)\"></span> Negative  <span style=\"display: inline-block; width: 10px; height: 10px;                 border: 1px solid; background-color:                 hsl(0, 75%, 100%)\"></span> Neutral  <span style=\"display: inline-block; width: 10px; height: 10px;                 border: 1px solid; background-color:                 hsl(120, 75%, 50%)\"></span> Positive  </div><tr><th>True Label</th><th>Predicted Label</th><th>Attribution Label</th><th>Attribution Score</th><th>Word Importance</th><tr><td><text style=\"padding-right:2em\"><b>Pos</b></text></td><td><text style=\"padding-right:2em\"><b>Pos (1.00)</b></text></td><td><text style=\"padding-right:2em\"><b>Neg</b></text></td><td><text style=\"padding-right:2em\"><b>-0.89</b></text></td><td><mark style=\"background-color: hsl(0, 75%, 92%); opacity:1.0;                     line-height:1.75\"><font color=\"black\"> #s                    </font></mark><mark style=\"background-color: hsl(0, 75%, 93%); opacity:1.0;                     line-height:1.75\"><font color=\"black\"> sharp                    </font></mark><mark style=\"background-color: hsl(0, 75%, 78%); opacity:1.0;                     line-height:1.75\"><font color=\"black\"> comedy                    </font></mark><mark style=\"background-color: hsl(0, 75%, 91%); opacity:1.0;                     line-height:1.75\"><font color=\"black\"> ,                    </font></mark><mark style=\"background-color: hsl(120, 75%, 100%); opacity:1.0;                     line-height:1.75\"><font color=\"black\"> old-fashioned                    </font></mark><mark style=\"background-color: hsl(120, 75%, 94%); opacity:1.0;                     line-height:1.75\"><font color=\"black\"> monster                    </font></mark><mark style=\"background-color: hsl(120, 75%, 95%); opacity:1.0;                     line-height:1.75\"><font color=\"black\"> movie                    </font></mark><mark style=\"background-color: hsl(120, 75%, 82%); opacity:1.0;                     line-height:1.75\"><font color=\"black\"> atmospherics                    </font></mark><mark style=\"background-color: hsl(0, 75%, 84%); opacity:1.0;                     line-height:1.75\"><font color=\"black\"> ,                    </font></mark><mark style=\"background-color: hsl(120, 75%, 83%); opacity:1.0;                     line-height:1.75\"><font color=\"black\">                     </font></mark><mark style=\"background-color: hsl(0, 75%, 99%); opacity:1.0;                     line-height:1.75\"><font color=\"black\"> #/s                    </font></mark></td><tr></table>"
      ],
      "text/plain": [
       "<IPython.core.display.HTML object>"
      ]
     },
     "metadata": {},
     "output_type": "display_data"
    },
    {
     "name": "stdout",
     "output_type": "stream",
     "text": [
      "<IPython.core.display.HTML object>\n",
      "Raw review: we really have n't had a good cheesy b-movie playing in theaters since ... well ... since last week 's reign of fire \n",
      "GT target: 0\n",
      "asd 26\n"
     ]
    },
    {
     "data": {
      "text/html": [
       "<table width: 100%><div style=\"border-top: 1px solid; margin-top: 5px;             padding-top: 5px; display: inline-block\"><b>Legend: </b><span style=\"display: inline-block; width: 10px; height: 10px;                 border: 1px solid; background-color:                 hsl(0, 75%, 60%)\"></span> Negative  <span style=\"display: inline-block; width: 10px; height: 10px;                 border: 1px solid; background-color:                 hsl(0, 75%, 100%)\"></span> Neutral  <span style=\"display: inline-block; width: 10px; height: 10px;                 border: 1px solid; background-color:                 hsl(120, 75%, 50%)\"></span> Positive  </div><tr><th>True Label</th><th>Predicted Label</th><th>Attribution Label</th><th>Attribution Score</th><th>Word Importance</th><tr><td><text style=\"padding-right:2em\"><b>Neg</b></text></td><td><text style=\"padding-right:2em\"><b>Neg (0.01)</b></text></td><td><text style=\"padding-right:2em\"><b>Neg</b></text></td><td><text style=\"padding-right:2em\"><b>-0.16</b></text></td><td><mark style=\"background-color: hsl(0, 75%, 93%); opacity:1.0;                     line-height:1.75\"><font color=\"black\"> #s                    </font></mark><mark style=\"background-color: hsl(0, 75%, 94%); opacity:1.0;                     line-height:1.75\"><font color=\"black\"> we                    </font></mark><mark style=\"background-color: hsl(0, 75%, 98%); opacity:1.0;                     line-height:1.75\"><font color=\"black\"> really                    </font></mark><mark style=\"background-color: hsl(0, 75%, 100%); opacity:1.0;                     line-height:1.75\"><font color=\"black\"> have                    </font></mark><mark style=\"background-color: hsl(120, 75%, 98%); opacity:1.0;                     line-height:1.75\"><font color=\"black\"> n't                    </font></mark><mark style=\"background-color: hsl(120, 75%, 97%); opacity:1.0;                     line-height:1.75\"><font color=\"black\"> had                    </font></mark><mark style=\"background-color: hsl(0, 75%, 93%); opacity:1.0;                     line-height:1.75\"><font color=\"black\"> a                    </font></mark><mark style=\"background-color: hsl(120, 75%, 100%); opacity:1.0;                     line-height:1.75\"><font color=\"black\"> good                    </font></mark><mark style=\"background-color: hsl(0, 75%, 96%); opacity:1.0;                     line-height:1.75\"><font color=\"black\"> cheesy                    </font></mark><mark style=\"background-color: hsl(0, 75%, 87%); opacity:1.0;                     line-height:1.75\"><font color=\"black\"> b-movie                    </font></mark><mark style=\"background-color: hsl(120, 75%, 86%); opacity:1.0;                     line-height:1.75\"><font color=\"black\"> playing                    </font></mark><mark style=\"background-color: hsl(120, 75%, 99%); opacity:1.0;                     line-height:1.75\"><font color=\"black\"> in                    </font></mark><mark style=\"background-color: hsl(120, 75%, 93%); opacity:1.0;                     line-height:1.75\"><font color=\"black\"> theaters                    </font></mark><mark style=\"background-color: hsl(120, 75%, 96%); opacity:1.0;                     line-height:1.75\"><font color=\"black\"> since                    </font></mark><mark style=\"background-color: hsl(0, 75%, 98%); opacity:1.0;                     line-height:1.75\"><font color=\"black\"> ...                    </font></mark><mark style=\"background-color: hsl(0, 75%, 77%); opacity:1.0;                     line-height:1.75\"><font color=\"black\"> well                    </font></mark><mark style=\"background-color: hsl(0, 75%, 98%); opacity:1.0;                     line-height:1.75\"><font color=\"black\"> ...                    </font></mark><mark style=\"background-color: hsl(120, 75%, 94%); opacity:1.0;                     line-height:1.75\"><font color=\"black\"> since                    </font></mark><mark style=\"background-color: hsl(120, 75%, 94%); opacity:1.0;                     line-height:1.75\"><font color=\"black\"> last                    </font></mark><mark style=\"background-color: hsl(120, 75%, 92%); opacity:1.0;                     line-height:1.75\"><font color=\"black\"> week                    </font></mark><mark style=\"background-color: hsl(0, 75%, 98%); opacity:1.0;                     line-height:1.75\"><font color=\"black\"> 's                    </font></mark><mark style=\"background-color: hsl(0, 75%, 98%); opacity:1.0;                     line-height:1.75\"><font color=\"black\"> reign                    </font></mark><mark style=\"background-color: hsl(120, 75%, 92%); opacity:1.0;                     line-height:1.75\"><font color=\"black\"> of                    </font></mark><mark style=\"background-color: hsl(0, 75%, 97%); opacity:1.0;                     line-height:1.75\"><font color=\"black\"> fire                    </font></mark><mark style=\"background-color: hsl(0, 75%, 97%); opacity:1.0;                     line-height:1.75\"><font color=\"black\">                     </font></mark><mark style=\"background-color: hsl(120, 75%, 100%); opacity:1.0;                     line-height:1.75\"><font color=\"black\"> #/s                    </font></mark></td><tr></table>"
      ],
      "text/plain": [
       "<IPython.core.display.HTML object>"
      ]
     },
     "metadata": {},
     "output_type": "display_data"
    },
    {
     "name": "stdout",
     "output_type": "stream",
     "text": [
      "<IPython.core.display.HTML object>\n",
      "Raw review: confuses its message with an ultimate desire to please , and contorting itself into an idea of expectation is the last thing any of these three actresses , nor their characters , deserve . \n",
      "GT target: 0\n",
      "asd 37\n"
     ]
    },
    {
     "data": {
      "text/html": [
       "<table width: 100%><div style=\"border-top: 1px solid; margin-top: 5px;             padding-top: 5px; display: inline-block\"><b>Legend: </b><span style=\"display: inline-block; width: 10px; height: 10px;                 border: 1px solid; background-color:                 hsl(0, 75%, 60%)\"></span> Negative  <span style=\"display: inline-block; width: 10px; height: 10px;                 border: 1px solid; background-color:                 hsl(0, 75%, 100%)\"></span> Neutral  <span style=\"display: inline-block; width: 10px; height: 10px;                 border: 1px solid; background-color:                 hsl(120, 75%, 50%)\"></span> Positive  </div><tr><th>True Label</th><th>Predicted Label</th><th>Attribution Label</th><th>Attribution Score</th><th>Word Importance</th><tr><td><text style=\"padding-right:2em\"><b>Neg</b></text></td><td><text style=\"padding-right:2em\"><b>Neg (0.00)</b></text></td><td><text style=\"padding-right:2em\"><b>Neg</b></text></td><td><text style=\"padding-right:2em\"><b>-1.27</b></text></td><td><mark style=\"background-color: hsl(120, 75%, 82%); opacity:1.0;                     line-height:1.75\"><font color=\"black\"> #s                    </font></mark><mark style=\"background-color: hsl(0, 75%, 98%); opacity:1.0;                     line-height:1.75\"><font color=\"black\"> confuses                    </font></mark><mark style=\"background-color: hsl(0, 75%, 89%); opacity:1.0;                     line-height:1.75\"><font color=\"black\"> its                    </font></mark><mark style=\"background-color: hsl(120, 75%, 99%); opacity:1.0;                     line-height:1.75\"><font color=\"black\"> message                    </font></mark><mark style=\"background-color: hsl(0, 75%, 90%); opacity:1.0;                     line-height:1.75\"><font color=\"black\"> with                    </font></mark><mark style=\"background-color: hsl(120, 75%, 99%); opacity:1.0;                     line-height:1.75\"><font color=\"black\"> an                    </font></mark><mark style=\"background-color: hsl(120, 75%, 100%); opacity:1.0;                     line-height:1.75\"><font color=\"black\"> ultimate                    </font></mark><mark style=\"background-color: hsl(0, 75%, 97%); opacity:1.0;                     line-height:1.75\"><font color=\"black\"> desire                    </font></mark><mark style=\"background-color: hsl(120, 75%, 99%); opacity:1.0;                     line-height:1.75\"><font color=\"black\"> to                    </font></mark><mark style=\"background-color: hsl(120, 75%, 99%); opacity:1.0;                     line-height:1.75\"><font color=\"black\"> please                    </font></mark><mark style=\"background-color: hsl(0, 75%, 98%); opacity:1.0;                     line-height:1.75\"><font color=\"black\"> ,                    </font></mark><mark style=\"background-color: hsl(120, 75%, 100%); opacity:1.0;                     line-height:1.75\"><font color=\"black\"> and                    </font></mark><mark style=\"background-color: hsl(0, 75%, 99%); opacity:1.0;                     line-height:1.75\"><font color=\"black\"> contorting                    </font></mark><mark style=\"background-color: hsl(120, 75%, 98%); opacity:1.0;                     line-height:1.75\"><font color=\"black\"> itself                    </font></mark><mark style=\"background-color: hsl(120, 75%, 98%); opacity:1.0;                     line-height:1.75\"><font color=\"black\"> into                    </font></mark><mark style=\"background-color: hsl(120, 75%, 98%); opacity:1.0;                     line-height:1.75\"><font color=\"black\"> an                    </font></mark><mark style=\"background-color: hsl(0, 75%, 99%); opacity:1.0;                     line-height:1.75\"><font color=\"black\"> idea                    </font></mark><mark style=\"background-color: hsl(120, 75%, 100%); opacity:1.0;                     line-height:1.75\"><font color=\"black\"> of                    </font></mark><mark style=\"background-color: hsl(0, 75%, 97%); opacity:1.0;                     line-height:1.75\"><font color=\"black\"> expectation                    </font></mark><mark style=\"background-color: hsl(120, 75%, 100%); opacity:1.0;                     line-height:1.75\"><font color=\"black\"> is                    </font></mark><mark style=\"background-color: hsl(0, 75%, 79%); opacity:1.0;                     line-height:1.75\"><font color=\"black\"> the                    </font></mark><mark style=\"background-color: hsl(0, 75%, 100%); opacity:1.0;                     line-height:1.75\"><font color=\"black\"> last                    </font></mark><mark style=\"background-color: hsl(120, 75%, 100%); opacity:1.0;                     line-height:1.75\"><font color=\"black\"> thing                    </font></mark><mark style=\"background-color: hsl(120, 75%, 99%); opacity:1.0;                     line-height:1.75\"><font color=\"black\"> any                    </font></mark><mark style=\"background-color: hsl(120, 75%, 97%); opacity:1.0;                     line-height:1.75\"><font color=\"black\"> of                    </font></mark><mark style=\"background-color: hsl(120, 75%, 97%); opacity:1.0;                     line-height:1.75\"><font color=\"black\"> these                    </font></mark><mark style=\"background-color: hsl(120, 75%, 100%); opacity:1.0;                     line-height:1.75\"><font color=\"black\"> three                    </font></mark><mark style=\"background-color: hsl(120, 75%, 97%); opacity:1.0;                     line-height:1.75\"><font color=\"black\"> actresses                    </font></mark><mark style=\"background-color: hsl(0, 75%, 95%); opacity:1.0;                     line-height:1.75\"><font color=\"black\"> ,                    </font></mark><mark style=\"background-color: hsl(0, 75%, 80%); opacity:1.0;                     line-height:1.75\"><font color=\"black\"> nor                    </font></mark><mark style=\"background-color: hsl(120, 75%, 98%); opacity:1.0;                     line-height:1.75\"><font color=\"black\"> their                    </font></mark><mark style=\"background-color: hsl(120, 75%, 95%); opacity:1.0;                     line-height:1.75\"><font color=\"black\"> characters                    </font></mark><mark style=\"background-color: hsl(0, 75%, 98%); opacity:1.0;                     line-height:1.75\"><font color=\"black\"> ,                    </font></mark><mark style=\"background-color: hsl(0, 75%, 93%); opacity:1.0;                     line-height:1.75\"><font color=\"black\"> deserve                    </font></mark><mark style=\"background-color: hsl(120, 75%, 98%); opacity:1.0;                     line-height:1.75\"><font color=\"black\"> .                    </font></mark><mark style=\"background-color: hsl(0, 75%, 94%); opacity:1.0;                     line-height:1.75\"><font color=\"black\">                     </font></mark><mark style=\"background-color: hsl(120, 75%, 99%); opacity:1.0;                     line-height:1.75\"><font color=\"black\"> #/s                    </font></mark></td><tr></table>"
      ],
      "text/plain": [
       "<IPython.core.display.HTML object>"
      ]
     },
     "metadata": {},
     "output_type": "display_data"
    },
    {
     "name": "stdout",
     "output_type": "stream",
     "text": [
      "<IPython.core.display.HTML object>\n",
      "Raw review: some intriguing characters \n",
      "GT target: 1\n",
      "asd 6\n"
     ]
    },
    {
     "data": {
      "text/html": [
       "<table width: 100%><div style=\"border-top: 1px solid; margin-top: 5px;             padding-top: 5px; display: inline-block\"><b>Legend: </b><span style=\"display: inline-block; width: 10px; height: 10px;                 border: 1px solid; background-color:                 hsl(0, 75%, 60%)\"></span> Negative  <span style=\"display: inline-block; width: 10px; height: 10px;                 border: 1px solid; background-color:                 hsl(0, 75%, 100%)\"></span> Neutral  <span style=\"display: inline-block; width: 10px; height: 10px;                 border: 1px solid; background-color:                 hsl(120, 75%, 50%)\"></span> Positive  </div><tr><th>True Label</th><th>Predicted Label</th><th>Attribution Label</th><th>Attribution Score</th><th>Word Importance</th><tr><td><text style=\"padding-right:2em\"><b>Pos</b></text></td><td><text style=\"padding-right:2em\"><b>Pos (1.00)</b></text></td><td><text style=\"padding-right:2em\"><b>Neg</b></text></td><td><text style=\"padding-right:2em\"><b>-0.34</b></text></td><td><mark style=\"background-color: hsl(120, 75%, 84%); opacity:1.0;                     line-height:1.75\"><font color=\"black\"> #s                    </font></mark><mark style=\"background-color: hsl(120, 75%, 79%); opacity:1.0;                     line-height:1.75\"><font color=\"black\"> some                    </font></mark><mark style=\"background-color: hsl(0, 75%, 77%); opacity:1.0;                     line-height:1.75\"><font color=\"black\"> intriguing                    </font></mark><mark style=\"background-color: hsl(0, 75%, 80%); opacity:1.0;                     line-height:1.75\"><font color=\"black\"> characters                    </font></mark><mark style=\"background-color: hsl(0, 75%, 92%); opacity:1.0;                     line-height:1.75\"><font color=\"black\">                     </font></mark><mark style=\"background-color: hsl(120, 75%, 89%); opacity:1.0;                     line-height:1.75\"><font color=\"black\"> #/s                    </font></mark></td><tr></table>"
      ],
      "text/plain": [
       "<IPython.core.display.HTML object>"
      ]
     },
     "metadata": {},
     "output_type": "display_data"
    },
    {
     "name": "stdout",
     "output_type": "stream",
     "text": [
      "<IPython.core.display.HTML object>\n",
      "Raw review: vereté has a whip-smart sense of narrative bluffs . \n",
      "GT target: 1\n",
      "asd 12\n"
     ]
    },
    {
     "data": {
      "text/html": [
       "<table width: 100%><div style=\"border-top: 1px solid; margin-top: 5px;             padding-top: 5px; display: inline-block\"><b>Legend: </b><span style=\"display: inline-block; width: 10px; height: 10px;                 border: 1px solid; background-color:                 hsl(0, 75%, 60%)\"></span> Negative  <span style=\"display: inline-block; width: 10px; height: 10px;                 border: 1px solid; background-color:                 hsl(0, 75%, 100%)\"></span> Neutral  <span style=\"display: inline-block; width: 10px; height: 10px;                 border: 1px solid; background-color:                 hsl(120, 75%, 50%)\"></span> Positive  </div><tr><th>True Label</th><th>Predicted Label</th><th>Attribution Label</th><th>Attribution Score</th><th>Word Importance</th><tr><td><text style=\"padding-right:2em\"><b>Pos</b></text></td><td><text style=\"padding-right:2em\"><b>Pos (1.00)</b></text></td><td><text style=\"padding-right:2em\"><b>Neg</b></text></td><td><text style=\"padding-right:2em\"><b>-0.11</b></text></td><td><mark style=\"background-color: hsl(0, 75%, 97%); opacity:1.0;                     line-height:1.75\"><font color=\"black\"> #s                    </font></mark><mark style=\"background-color: hsl(120, 75%, 75%); opacity:1.0;                     line-height:1.75\"><font color=\"black\"> veretÃ©                    </font></mark><mark style=\"background-color: hsl(0, 75%, 87%); opacity:1.0;                     line-height:1.75\"><font color=\"black\"> has                    </font></mark><mark style=\"background-color: hsl(0, 75%, 81%); opacity:1.0;                     line-height:1.75\"><font color=\"black\"> a                    </font></mark><mark style=\"background-color: hsl(0, 75%, 97%); opacity:1.0;                     line-height:1.75\"><font color=\"black\"> whip-smart                    </font></mark><mark style=\"background-color: hsl(0, 75%, 99%); opacity:1.0;                     line-height:1.75\"><font color=\"black\"> sense                    </font></mark><mark style=\"background-color: hsl(120, 75%, 100%); opacity:1.0;                     line-height:1.75\"><font color=\"black\"> of                    </font></mark><mark style=\"background-color: hsl(0, 75%, 94%); opacity:1.0;                     line-height:1.75\"><font color=\"black\"> narrative                    </font></mark><mark style=\"background-color: hsl(120, 75%, 83%); opacity:1.0;                     line-height:1.75\"><font color=\"black\"> bluffs                    </font></mark><mark style=\"background-color: hsl(120, 75%, 86%); opacity:1.0;                     line-height:1.75\"><font color=\"black\"> .                    </font></mark><mark style=\"background-color: hsl(0, 75%, 100%); opacity:1.0;                     line-height:1.75\"><font color=\"black\">                     </font></mark><mark style=\"background-color: hsl(120, 75%, 99%); opacity:1.0;                     line-height:1.75\"><font color=\"black\"> #/s                    </font></mark></td><tr></table>"
      ],
      "text/plain": [
       "<IPython.core.display.HTML object>"
      ]
     },
     "metadata": {},
     "output_type": "display_data"
    },
    {
     "name": "stdout",
     "output_type": "stream",
     "text": [
      "<IPython.core.display.HTML object>\n",
      "Raw review: that good theatre \n",
      "GT target: 1\n",
      "asd 6\n"
     ]
    },
    {
     "data": {
      "text/html": [
       "<table width: 100%><div style=\"border-top: 1px solid; margin-top: 5px;             padding-top: 5px; display: inline-block\"><b>Legend: </b><span style=\"display: inline-block; width: 10px; height: 10px;                 border: 1px solid; background-color:                 hsl(0, 75%, 60%)\"></span> Negative  <span style=\"display: inline-block; width: 10px; height: 10px;                 border: 1px solid; background-color:                 hsl(0, 75%, 100%)\"></span> Neutral  <span style=\"display: inline-block; width: 10px; height: 10px;                 border: 1px solid; background-color:                 hsl(120, 75%, 50%)\"></span> Positive  </div><tr><th>True Label</th><th>Predicted Label</th><th>Attribution Label</th><th>Attribution Score</th><th>Word Importance</th><tr><td><text style=\"padding-right:2em\"><b>Pos</b></text></td><td><text style=\"padding-right:2em\"><b>Pos (1.00)</b></text></td><td><text style=\"padding-right:2em\"><b>Neg</b></text></td><td><text style=\"padding-right:2em\"><b>0.18</b></text></td><td><mark style=\"background-color: hsl(120, 75%, 96%); opacity:1.0;                     line-height:1.75\"><font color=\"black\"> #s                    </font></mark><mark style=\"background-color: hsl(0, 75%, 99%); opacity:1.0;                     line-height:1.75\"><font color=\"black\"> that                    </font></mark><mark style=\"background-color: hsl(120, 75%, 59%); opacity:1.0;                     line-height:1.75\"><font color=\"black\"> good                    </font></mark><mark style=\"background-color: hsl(0, 75%, 100%); opacity:1.0;                     line-height:1.75\"><font color=\"black\"> theatre                    </font></mark><mark style=\"background-color: hsl(0, 75%, 80%); opacity:1.0;                     line-height:1.75\"><font color=\"black\">                     </font></mark><mark style=\"background-color: hsl(0, 75%, 92%); opacity:1.0;                     line-height:1.75\"><font color=\"black\"> #/s                    </font></mark></td><tr></table>"
      ],
      "text/plain": [
       "<IPython.core.display.HTML object>"
      ]
     },
     "metadata": {},
     "output_type": "display_data"
    },
    {
     "name": "stdout",
     "output_type": "stream",
     "text": [
      "<IPython.core.display.HTML object>\n",
      "Raw review: it may be a somewhat backhanded compliment to say that the film makes the viewer feel like the movie 's various victimized audience members after a while , but it also happens to be the movie 's most admirable quality \n",
      "GT target: 1\n",
      "asd 43\n"
     ]
    },
    {
     "data": {
      "text/html": [
       "<table width: 100%><div style=\"border-top: 1px solid; margin-top: 5px;             padding-top: 5px; display: inline-block\"><b>Legend: </b><span style=\"display: inline-block; width: 10px; height: 10px;                 border: 1px solid; background-color:                 hsl(0, 75%, 60%)\"></span> Negative  <span style=\"display: inline-block; width: 10px; height: 10px;                 border: 1px solid; background-color:                 hsl(0, 75%, 100%)\"></span> Neutral  <span style=\"display: inline-block; width: 10px; height: 10px;                 border: 1px solid; background-color:                 hsl(120, 75%, 50%)\"></span> Positive  </div><tr><th>True Label</th><th>Predicted Label</th><th>Attribution Label</th><th>Attribution Score</th><th>Word Importance</th><tr><td><text style=\"padding-right:2em\"><b>Pos</b></text></td><td><text style=\"padding-right:2em\"><b>Pos (1.00)</b></text></td><td><text style=\"padding-right:2em\"><b>Neg</b></text></td><td><text style=\"padding-right:2em\"><b>-0.34</b></text></td><td><mark style=\"background-color: hsl(0, 75%, 98%); opacity:1.0;                     line-height:1.75\"><font color=\"black\"> #s                    </font></mark><mark style=\"background-color: hsl(0, 75%, 96%); opacity:1.0;                     line-height:1.75\"><font color=\"black\"> it                    </font></mark><mark style=\"background-color: hsl(120, 75%, 100%); opacity:1.0;                     line-height:1.75\"><font color=\"black\"> may                    </font></mark><mark style=\"background-color: hsl(120, 75%, 100%); opacity:1.0;                     line-height:1.75\"><font color=\"black\"> be                    </font></mark><mark style=\"background-color: hsl(120, 75%, 99%); opacity:1.0;                     line-height:1.75\"><font color=\"black\"> a                    </font></mark><mark style=\"background-color: hsl(0, 75%, 94%); opacity:1.0;                     line-height:1.75\"><font color=\"black\"> somewhat                    </font></mark><mark style=\"background-color: hsl(120, 75%, 90%); opacity:1.0;                     line-height:1.75\"><font color=\"black\"> backhanded                    </font></mark><mark style=\"background-color: hsl(0, 75%, 100%); opacity:1.0;                     line-height:1.75\"><font color=\"black\"> compliment                    </font></mark><mark style=\"background-color: hsl(120, 75%, 99%); opacity:1.0;                     line-height:1.75\"><font color=\"black\"> to                    </font></mark><mark style=\"background-color: hsl(0, 75%, 98%); opacity:1.0;                     line-height:1.75\"><font color=\"black\"> say                    </font></mark><mark style=\"background-color: hsl(120, 75%, 98%); opacity:1.0;                     line-height:1.75\"><font color=\"black\"> that                    </font></mark><mark style=\"background-color: hsl(0, 75%, 100%); opacity:1.0;                     line-height:1.75\"><font color=\"black\"> the                    </font></mark><mark style=\"background-color: hsl(120, 75%, 100%); opacity:1.0;                     line-height:1.75\"><font color=\"black\"> film                    </font></mark><mark style=\"background-color: hsl(0, 75%, 98%); opacity:1.0;                     line-height:1.75\"><font color=\"black\"> makes                    </font></mark><mark style=\"background-color: hsl(120, 75%, 100%); opacity:1.0;                     line-height:1.75\"><font color=\"black\"> the                    </font></mark><mark style=\"background-color: hsl(120, 75%, 100%); opacity:1.0;                     line-height:1.75\"><font color=\"black\"> viewer                    </font></mark><mark style=\"background-color: hsl(0, 75%, 100%); opacity:1.0;                     line-height:1.75\"><font color=\"black\"> feel                    </font></mark><mark style=\"background-color: hsl(0, 75%, 99%); opacity:1.0;                     line-height:1.75\"><font color=\"black\"> like                    </font></mark><mark style=\"background-color: hsl(120, 75%, 100%); opacity:1.0;                     line-height:1.75\"><font color=\"black\"> the                    </font></mark><mark style=\"background-color: hsl(0, 75%, 99%); opacity:1.0;                     line-height:1.75\"><font color=\"black\"> movie                    </font></mark><mark style=\"background-color: hsl(0, 75%, 97%); opacity:1.0;                     line-height:1.75\"><font color=\"black\"> 's                    </font></mark><mark style=\"background-color: hsl(0, 75%, 95%); opacity:1.0;                     line-height:1.75\"><font color=\"black\"> various                    </font></mark><mark style=\"background-color: hsl(120, 75%, 95%); opacity:1.0;                     line-height:1.75\"><font color=\"black\"> victimized                    </font></mark><mark style=\"background-color: hsl(0, 75%, 98%); opacity:1.0;                     line-height:1.75\"><font color=\"black\"> audience                    </font></mark><mark style=\"background-color: hsl(120, 75%, 59%); opacity:1.0;                     line-height:1.75\"><font color=\"black\"> members                    </font></mark><mark style=\"background-color: hsl(0, 75%, 94%); opacity:1.0;                     line-height:1.75\"><font color=\"black\"> after                    </font></mark><mark style=\"background-color: hsl(120, 75%, 100%); opacity:1.0;                     line-height:1.75\"><font color=\"black\"> a                    </font></mark><mark style=\"background-color: hsl(0, 75%, 98%); opacity:1.0;                     line-height:1.75\"><font color=\"black\"> while                    </font></mark><mark style=\"background-color: hsl(120, 75%, 99%); opacity:1.0;                     line-height:1.75\"><font color=\"black\"> ,                    </font></mark><mark style=\"background-color: hsl(0, 75%, 98%); opacity:1.0;                     line-height:1.75\"><font color=\"black\"> but                    </font></mark><mark style=\"background-color: hsl(120, 75%, 100%); opacity:1.0;                     line-height:1.75\"><font color=\"black\"> it                    </font></mark><mark style=\"background-color: hsl(0, 75%, 100%); opacity:1.0;                     line-height:1.75\"><font color=\"black\"> also                    </font></mark><mark style=\"background-color: hsl(0, 75%, 99%); opacity:1.0;                     line-height:1.75\"><font color=\"black\"> happens                    </font></mark><mark style=\"background-color: hsl(0, 75%, 100%); opacity:1.0;                     line-height:1.75\"><font color=\"black\"> to                    </font></mark><mark style=\"background-color: hsl(0, 75%, 99%); opacity:1.0;                     line-height:1.75\"><font color=\"black\"> be                    </font></mark><mark style=\"background-color: hsl(0, 75%, 97%); opacity:1.0;                     line-height:1.75\"><font color=\"black\"> the                    </font></mark><mark style=\"background-color: hsl(120, 75%, 98%); opacity:1.0;                     line-height:1.75\"><font color=\"black\"> movie                    </font></mark><mark style=\"background-color: hsl(120, 75%, 99%); opacity:1.0;                     line-height:1.75\"><font color=\"black\"> 's                    </font></mark><mark style=\"background-color: hsl(0, 75%, 98%); opacity:1.0;                     line-height:1.75\"><font color=\"black\"> most                    </font></mark><mark style=\"background-color: hsl(0, 75%, 93%); opacity:1.0;                     line-height:1.75\"><font color=\"black\"> admirable                    </font></mark><mark style=\"background-color: hsl(120, 75%, 98%); opacity:1.0;                     line-height:1.75\"><font color=\"black\"> quality                    </font></mark><mark style=\"background-color: hsl(0, 75%, 100%); opacity:1.0;                     line-height:1.75\"><font color=\"black\">                     </font></mark><mark style=\"background-color: hsl(0, 75%, 89%); opacity:1.0;                     line-height:1.75\"><font color=\"black\"> #/s                    </font></mark></td><tr></table>"
      ],
      "text/plain": [
       "<IPython.core.display.HTML object>"
      ]
     },
     "metadata": {},
     "output_type": "display_data"
    },
    {
     "name": "stdout",
     "output_type": "stream",
     "text": [
      "<IPython.core.display.HTML object>\n",
      "Raw review: evacuations , and none-too-funny commentary on the cultural distinctions between americans and brits \n",
      "GT target: 0\n",
      "asd 16\n"
     ]
    },
    {
     "data": {
      "text/html": [
       "<table width: 100%><div style=\"border-top: 1px solid; margin-top: 5px;             padding-top: 5px; display: inline-block\"><b>Legend: </b><span style=\"display: inline-block; width: 10px; height: 10px;                 border: 1px solid; background-color:                 hsl(0, 75%, 60%)\"></span> Negative  <span style=\"display: inline-block; width: 10px; height: 10px;                 border: 1px solid; background-color:                 hsl(0, 75%, 100%)\"></span> Neutral  <span style=\"display: inline-block; width: 10px; height: 10px;                 border: 1px solid; background-color:                 hsl(120, 75%, 50%)\"></span> Positive  </div><tr><th>True Label</th><th>Predicted Label</th><th>Attribution Label</th><th>Attribution Score</th><th>Word Importance</th><tr><td><text style=\"padding-right:2em\"><b>Neg</b></text></td><td><text style=\"padding-right:2em\"><b>Neg (0.00)</b></text></td><td><text style=\"padding-right:2em\"><b>Neg</b></text></td><td><text style=\"padding-right:2em\"><b>-0.75</b></text></td><td><mark style=\"background-color: hsl(0, 75%, 89%); opacity:1.0;                     line-height:1.75\"><font color=\"black\"> #s                    </font></mark><mark style=\"background-color: hsl(120, 75%, 95%); opacity:1.0;                     line-height:1.75\"><font color=\"black\"> evacuations                    </font></mark><mark style=\"background-color: hsl(120, 75%, 100%); opacity:1.0;                     line-height:1.75\"><font color=\"black\"> ,                    </font></mark><mark style=\"background-color: hsl(120, 75%, 94%); opacity:1.0;                     line-height:1.75\"><font color=\"black\"> and                    </font></mark><mark style=\"background-color: hsl(0, 75%, 93%); opacity:1.0;                     line-height:1.75\"><font color=\"black\"> none-too-funny                    </font></mark><mark style=\"background-color: hsl(0, 75%, 94%); opacity:1.0;                     line-height:1.75\"><font color=\"black\"> commentary                    </font></mark><mark style=\"background-color: hsl(120, 75%, 91%); opacity:1.0;                     line-height:1.75\"><font color=\"black\"> on                    </font></mark><mark style=\"background-color: hsl(0, 75%, 91%); opacity:1.0;                     line-height:1.75\"><font color=\"black\"> the                    </font></mark><mark style=\"background-color: hsl(120, 75%, 91%); opacity:1.0;                     line-height:1.75\"><font color=\"black\"> cultural                    </font></mark><mark style=\"background-color: hsl(0, 75%, 94%); opacity:1.0;                     line-height:1.75\"><font color=\"black\"> distinctions                    </font></mark><mark style=\"background-color: hsl(120, 75%, 94%); opacity:1.0;                     line-height:1.75\"><font color=\"black\"> between                    </font></mark><mark style=\"background-color: hsl(0, 75%, 79%); opacity:1.0;                     line-height:1.75\"><font color=\"black\"> americans                    </font></mark><mark style=\"background-color: hsl(0, 75%, 89%); opacity:1.0;                     line-height:1.75\"><font color=\"black\"> and                    </font></mark><mark style=\"background-color: hsl(120, 75%, 95%); opacity:1.0;                     line-height:1.75\"><font color=\"black\"> brits                    </font></mark><mark style=\"background-color: hsl(120, 75%, 100%); opacity:1.0;                     line-height:1.75\"><font color=\"black\">                     </font></mark><mark style=\"background-color: hsl(0, 75%, 96%); opacity:1.0;                     line-height:1.75\"><font color=\"black\"> #/s                    </font></mark></td><tr></table>"
      ],
      "text/plain": [
       "<IPython.core.display.HTML object>"
      ]
     },
     "metadata": {},
     "output_type": "display_data"
    },
    {
     "name": "stdout",
     "output_type": "stream",
     "text": [
      "<IPython.core.display.HTML object>\n",
      "Raw review: create and sustain \n",
      "GT target: 1\n",
      "asd 6\n"
     ]
    },
    {
     "data": {
      "text/html": [
       "<table width: 100%><div style=\"border-top: 1px solid; margin-top: 5px;             padding-top: 5px; display: inline-block\"><b>Legend: </b><span style=\"display: inline-block; width: 10px; height: 10px;                 border: 1px solid; background-color:                 hsl(0, 75%, 60%)\"></span> Negative  <span style=\"display: inline-block; width: 10px; height: 10px;                 border: 1px solid; background-color:                 hsl(0, 75%, 100%)\"></span> Neutral  <span style=\"display: inline-block; width: 10px; height: 10px;                 border: 1px solid; background-color:                 hsl(120, 75%, 50%)\"></span> Positive  </div><tr><th>True Label</th><th>Predicted Label</th><th>Attribution Label</th><th>Attribution Score</th><th>Word Importance</th><tr><td><text style=\"padding-right:2em\"><b>Pos</b></text></td><td><text style=\"padding-right:2em\"><b>Pos (1.00)</b></text></td><td><text style=\"padding-right:2em\"><b>Neg</b></text></td><td><text style=\"padding-right:2em\"><b>-0.37</b></text></td><td><mark style=\"background-color: hsl(0, 75%, 91%); opacity:1.0;                     line-height:1.75\"><font color=\"black\"> #s                    </font></mark><mark style=\"background-color: hsl(120, 75%, 85%); opacity:1.0;                     line-height:1.75\"><font color=\"black\"> create                    </font></mark><mark style=\"background-color: hsl(0, 75%, 95%); opacity:1.0;                     line-height:1.75\"><font color=\"black\"> and                    </font></mark><mark style=\"background-color: hsl(0, 75%, 67%); opacity:1.0;                     line-height:1.75\"><font color=\"black\"> sustain                    </font></mark><mark style=\"background-color: hsl(120, 75%, 85%); opacity:1.0;                     line-height:1.75\"><font color=\"black\">                     </font></mark><mark style=\"background-color: hsl(120, 75%, 89%); opacity:1.0;                     line-height:1.75\"><font color=\"black\"> #/s                    </font></mark></td><tr></table>"
      ],
      "text/plain": [
       "<IPython.core.display.HTML object>"
      ]
     },
     "metadata": {},
     "output_type": "display_data"
    },
    {
     "name": "stdout",
     "output_type": "stream",
     "text": [
      "<IPython.core.display.HTML object>\n",
      "Raw review: laughter and self-exploitation \n",
      "GT target: 1\n",
      "asd 6\n"
     ]
    },
    {
     "data": {
      "text/html": [
       "<table width: 100%><div style=\"border-top: 1px solid; margin-top: 5px;             padding-top: 5px; display: inline-block\"><b>Legend: </b><span style=\"display: inline-block; width: 10px; height: 10px;                 border: 1px solid; background-color:                 hsl(0, 75%, 60%)\"></span> Negative  <span style=\"display: inline-block; width: 10px; height: 10px;                 border: 1px solid; background-color:                 hsl(0, 75%, 100%)\"></span> Neutral  <span style=\"display: inline-block; width: 10px; height: 10px;                 border: 1px solid; background-color:                 hsl(120, 75%, 50%)\"></span> Positive  </div><tr><th>True Label</th><th>Predicted Label</th><th>Attribution Label</th><th>Attribution Score</th><th>Word Importance</th><tr><td><text style=\"padding-right:2em\"><b>Pos</b></text></td><td><text style=\"padding-right:2em\"><b>Neg (0.02)</b></text></td><td><text style=\"padding-right:2em\"><b>Neg</b></text></td><td><text style=\"padding-right:2em\"><b>-0.54</b></text></td><td><mark style=\"background-color: hsl(120, 75%, 83%); opacity:1.0;                     line-height:1.75\"><font color=\"black\"> #s                    </font></mark><mark style=\"background-color: hsl(0, 75%, 77%); opacity:1.0;                     line-height:1.75\"><font color=\"black\"> laughter                    </font></mark><mark style=\"background-color: hsl(120, 75%, 87%); opacity:1.0;                     line-height:1.75\"><font color=\"black\"> and                    </font></mark><mark style=\"background-color: hsl(0, 75%, 100%); opacity:1.0;                     line-height:1.75\"><font color=\"black\"> self-exploitation                    </font></mark><mark style=\"background-color: hsl(0, 75%, 92%); opacity:1.0;                     line-height:1.75\"><font color=\"black\">                     </font></mark><mark style=\"background-color: hsl(120, 75%, 80%); opacity:1.0;                     line-height:1.75\"><font color=\"black\"> #/s                    </font></mark></td><tr></table>"
      ],
      "text/plain": [
       "<IPython.core.display.HTML object>"
      ]
     },
     "metadata": {},
     "output_type": "display_data"
    },
    {
     "name": "stdout",
     "output_type": "stream",
     "text": [
      "<IPython.core.display.HTML object>\n",
      "Raw review: that a life like this can sound so dull \n",
      "GT target: 0\n",
      "asd 12\n"
     ]
    },
    {
     "data": {
      "text/html": [
       "<table width: 100%><div style=\"border-top: 1px solid; margin-top: 5px;             padding-top: 5px; display: inline-block\"><b>Legend: </b><span style=\"display: inline-block; width: 10px; height: 10px;                 border: 1px solid; background-color:                 hsl(0, 75%, 60%)\"></span> Negative  <span style=\"display: inline-block; width: 10px; height: 10px;                 border: 1px solid; background-color:                 hsl(0, 75%, 100%)\"></span> Neutral  <span style=\"display: inline-block; width: 10px; height: 10px;                 border: 1px solid; background-color:                 hsl(120, 75%, 50%)\"></span> Positive  </div><tr><th>True Label</th><th>Predicted Label</th><th>Attribution Label</th><th>Attribution Score</th><th>Word Importance</th><tr><td><text style=\"padding-right:2em\"><b>Neg</b></text></td><td><text style=\"padding-right:2em\"><b>Neg (0.00)</b></text></td><td><text style=\"padding-right:2em\"><b>Neg</b></text></td><td><text style=\"padding-right:2em\"><b>-0.13</b></text></td><td><mark style=\"background-color: hsl(120, 75%, 84%); opacity:1.0;                     line-height:1.75\"><font color=\"black\"> #s                    </font></mark><mark style=\"background-color: hsl(0, 75%, 88%); opacity:1.0;                     line-height:1.75\"><font color=\"black\"> that                    </font></mark><mark style=\"background-color: hsl(0, 75%, 100%); opacity:1.0;                     line-height:1.75\"><font color=\"black\"> a                    </font></mark><mark style=\"background-color: hsl(120, 75%, 82%); opacity:1.0;                     line-height:1.75\"><font color=\"black\"> life                    </font></mark><mark style=\"background-color: hsl(120, 75%, 95%); opacity:1.0;                     line-height:1.75\"><font color=\"black\"> like                    </font></mark><mark style=\"background-color: hsl(0, 75%, 99%); opacity:1.0;                     line-height:1.75\"><font color=\"black\"> this                    </font></mark><mark style=\"background-color: hsl(120, 75%, 98%); opacity:1.0;                     line-height:1.75\"><font color=\"black\"> can                    </font></mark><mark style=\"background-color: hsl(120, 75%, 96%); opacity:1.0;                     line-height:1.75\"><font color=\"black\"> sound                    </font></mark><mark style=\"background-color: hsl(120, 75%, 95%); opacity:1.0;                     line-height:1.75\"><font color=\"black\"> so                    </font></mark><mark style=\"background-color: hsl(0, 75%, 70%); opacity:1.0;                     line-height:1.75\"><font color=\"black\"> dull                    </font></mark><mark style=\"background-color: hsl(0, 75%, 95%); opacity:1.0;                     line-height:1.75\"><font color=\"black\">                     </font></mark><mark style=\"background-color: hsl(120, 75%, 97%); opacity:1.0;                     line-height:1.75\"><font color=\"black\"> #/s                    </font></mark></td><tr></table>"
      ],
      "text/plain": [
       "<IPython.core.display.HTML object>"
      ]
     },
     "metadata": {},
     "output_type": "display_data"
    },
    {
     "name": "stdout",
     "output_type": "stream",
     "text": [
      "<IPython.core.display.HTML object>\n"
     ]
    }
   ],
   "source": [
    "for i, (datum_raw, target) in enumerate(zip(sst2_data_raw, targets), start=1):\n",
    "    print(f'Raw review: {datum_raw}')\n",
    "    print(f'GT target: {target}')\n",
    "    visual_record=generate_record(datum_raw, target)\n",
    "    print(visualization.visualize_text([visual_record]))\n",
    "   "
   ]
  },
  {
   "cell_type": "code",
   "execution_count": 9,
   "id": "f6344a01",
   "metadata": {},
   "outputs": [
    {
     "data": {
      "text/plain": [
       "{'indices': [53963,\n",
       "  64202,\n",
       "  30501,\n",
       "  50103,\n",
       "  8727,\n",
       "  17988,\n",
       "  540,\n",
       "  48977,\n",
       "  25936,\n",
       "  4415,\n",
       "  28658,\n",
       "  17550,\n",
       "  28410,\n",
       "  35211,\n",
       "  60439,\n",
       "  65301,\n",
       "  53290,\n",
       "  26647,\n",
       "  23098,\n",
       "  60767,\n",
       "  60320,\n",
       "  4954,\n",
       "  40015,\n",
       "  37441,\n",
       "  3596,\n",
       "  21218,\n",
       "  46224,\n",
       "  38829,\n",
       "  17600,\n",
       "  65782,\n",
       "  25193,\n",
       "  46255,\n",
       "  17077,\n",
       "  28351,\n",
       "  28283,\n",
       "  52895,\n",
       "  67213,\n",
       "  58524,\n",
       "  18588,\n",
       "  28334,\n",
       "  47855,\n",
       "  24000,\n",
       "  63203,\n",
       "  26377,\n",
       "  60596,\n",
       "  5452,\n",
       "  45008,\n",
       "  62398,\n",
       "  44036,\n",
       "  61886,\n",
       "  20763,\n",
       "  21053,\n",
       "  51913,\n",
       "  65777,\n",
       "  57754,\n",
       "  59641,\n",
       "  32649,\n",
       "  43453,\n",
       "  34760,\n",
       "  34688,\n",
       "  19099,\n",
       "  52078,\n",
       "  23881,\n",
       "  44711,\n",
       "  35190,\n",
       "  41947,\n",
       "  42403,\n",
       "  44743,\n",
       "  37646,\n",
       "  52526,\n",
       "  2452,\n",
       "  36111,\n",
       "  28542,\n",
       "  42135,\n",
       "  14402,\n",
       "  42458,\n",
       "  57326,\n",
       "  19943,\n",
       "  47302,\n",
       "  30747,\n",
       "  24723,\n",
       "  22180,\n",
       "  25634,\n",
       "  16318,\n",
       "  26867,\n",
       "  35611,\n",
       "  61283,\n",
       "  53360,\n",
       "  54581,\n",
       "  39428,\n",
       "  54341,\n",
       "  63990,\n",
       "  26324,\n",
       "  3295,\n",
       "  25595,\n",
       "  3354,\n",
       "  15446,\n",
       "  15854,\n",
       "  46797,\n",
       "  49950],\n",
       " 'raw_data': ['against all odds ',\n",
       "  'i had a dream that a smart comedy would come along to rescue me from a summer of teen-driven , toilet-humor codswallop ',\n",
       "  'he makes sure the salton sea works the way a good noir should , keeping it tight and nasty ',\n",
       "  'suicidal ',\n",
       "  \"is leguizamo 's best movie work so far , a subtle and richly internalized performance \",\n",
       "  \"'ll enjoy this movie . \",\n",
       "  \"is worse : the part where nothing 's happening , or the part where something 's happening \",\n",
       "  'finds the ideal outlet for his flick-knife diction in the role of roger swanson . ',\n",
       "  'the best film of the year 2002 . ',\n",
       "  'watch , giggle ',\n",
       "  'should jolt you out of your seat a couple of times , give you a few laughs , and leave you feeling like it was worth your seven bucks , even though it does turn out to be a bit of a cheat in the end . ',\n",
       "  'a pretty good job ',\n",
       "  'more psychotic than romantic ',\n",
       "  'being gullible ',\n",
       "  'teen-sleaze equivalent ',\n",
       "  'symbolic ',\n",
       "  'a sense of action ',\n",
       "  ', overnight , is robbed and replaced with a persecuted `` other ',\n",
       "  'conjure proper respect for followers of the whole dead-undead genre , who deserve more from a vampire pic than a few shrieky special effects ',\n",
       "  \"our culture is headed down the toilet with the ferocity of a frozen burrito after an all-night tequila bender -- and i know this because i 've seen ` jackass : the movie \",\n",
       "  \"'s all surface psychodramatics \",\n",
       "  \"a beautiful food entrée that is n't heated properly , so that it ends up a bit cold and relatively flavorless \",\n",
       "  'never mind all that ; the boobs are fantasti ',\n",
       "  'possibly will enjoy it ',\n",
       "  'to give them credit for : the message of the movie ',\n",
       "  'dudsville ',\n",
       "  'unadorned ',\n",
       "  'if you give a filmmaker an unlimited amount of phony blood ',\n",
       "  'absurdity ',\n",
       "  'an unforgettable ',\n",
       "  '( rises ) above its oh-so-hollywood rejiggering and its conventional direction to give the film a soul and an unabashed sense of good old-fashioned escapism ',\n",
       "  'the mothman prophecies , which is mostly a bore , ',\n",
       "  'regardless of race ',\n",
       "  \"have n't seen such self-amused trash since freddy got fingered \",\n",
       "  'to let this morph into a typical romantic triangle ',\n",
       "  'the hurried , badly cobbled look ',\n",
       "  'i heard a mysterious voice , and felt myself powerfully drawn toward the light -- the light of the exit sign ',\n",
       "  \"would take a complete moron to foul up a screen adaptation of oscar wilde 's classic satire \",\n",
       "  \"'s never too late to learn \",\n",
       "  \"about the best thing you could say about narc is that it 's a rock-solid little genre picture . \",\n",
       "  'come to earth ',\n",
       "  'believability ',\n",
       "  'an action/thriller of the finest kind , evoking memories of day of the jackal , the french connection , and heat . ',\n",
       "  \"breaks the mood with absurdly inappropriate ` comedy ' scenes \",\n",
       "  'sits there like a side dish no one ordered . ',\n",
       "  'and twisted characters ',\n",
       "  'are simply intoxicating . ',\n",
       "  'shrek ',\n",
       "  \"'s notably better acted -- and far less crass - than some other recent efforts in the burgeoning genre of films about black urban professionals \",\n",
       "  'in freshening the play ',\n",
       "  'a bore that tends to hammer home every one of its points . ',\n",
       "  'the images often look smeary and blurry , to the point of distraction ',\n",
       "  'than sketches ... which leaves any true emotional connection or identification frustratingly out of reach ',\n",
       "  'stirs us ',\n",
       "  \"it 's funny . \",\n",
       "  'given up ',\n",
       "  'no way original ',\n",
       "  \"together ( time out and human resources ) establish mr. cantet as france 's foremost cinematic poet of the workplace . \",\n",
       "  'stylish and moody ',\n",
       "  'vulgarity ',\n",
       "  'falls short on tension , eloquence , spiritual challenge -- things that have made the original new testament stories so compelling for 20 centuries ',\n",
       "  'to blue hilarity ',\n",
       "  'is intriguing but quickly becomes distasteful and downright creepy ',\n",
       "  \", you 'd probably turn it off , convinced that you had already seen that movie . \",\n",
       "  'no amount of burning , blasting , stabbing , and shooting ',\n",
       "  \"such a wildly uneven hit-and-miss enterprise , you ca n't help suspecting that it was improvised on a day-to-day basis during production . \",\n",
       "  'as a dystopian movie ',\n",
       "  'i liked about schmidt a lot , but i have a feeling that i would have liked it much more if harry & tonto never existed ',\n",
       "  'less-than-thrilling thriller . ',\n",
       "  'most audacious , outrageous ',\n",
       "  'solid , satisfying fare ',\n",
       "  'a mostly magnificent directorial career ',\n",
       "  'marveilleux ',\n",
       "  'holds a certain charm ',\n",
       "  'blacked out ',\n",
       "  'in trying to have the best of both worlds it ends up falling short as a whole ',\n",
       "  'rush through ',\n",
       "  'discover that the answer is as conventional as can be ',\n",
       "  \"is n't funny \",\n",
       "  'a characteristically engorged and sloppy coming-of-age movie . ',\n",
       "  \"the slack complacency of ( godard 's ) vision \",\n",
       "  'luridly graphic and laughably unconvincing ',\n",
       "  \"is not that it 's offensive , but that it 's boring . \",\n",
       "  'is an inspirational love story , capturing the innocence and idealism of that first encounter ',\n",
       "  'walked away from this new version of e.t. just as i hoped i would -- with moist eyes . ',\n",
       "  \"brings a youthful , out-to-change-the-world aggressiveness to the project , as if she 's cut open a vein and \",\n",
       "  'a no-bull throwback to 1970s action films ',\n",
       "  'languishing ',\n",
       "  'brittle desperation ',\n",
       "  'sharp comedy , old-fashioned monster movie atmospherics , ',\n",
       "  \"we really have n't had a good cheesy b-movie playing in theaters since ... well ... since last week 's reign of fire \",\n",
       "  'confuses its message with an ultimate desire to please , and contorting itself into an idea of expectation is the last thing any of these three actresses , nor their characters , deserve . ',\n",
       "  'some intriguing characters ',\n",
       "  'vereté has a whip-smart sense of narrative bluffs . ',\n",
       "  'that good theatre ',\n",
       "  \"it may be a somewhat backhanded compliment to say that the film makes the viewer feel like the movie 's various victimized audience members after a while , but it also happens to be the movie 's most admirable quality \",\n",
       "  'evacuations , and none-too-funny commentary on the cultural distinctions between americans and brits ',\n",
       "  'create and sustain ',\n",
       "  'laughter and self-exploitation ',\n",
       "  'that a life like this can sound so dull '],\n",
       " 'targets': [1,\n",
       "  1,\n",
       "  1,\n",
       "  0,\n",
       "  1,\n",
       "  1,\n",
       "  0,\n",
       "  1,\n",
       "  1,\n",
       "  1,\n",
       "  1,\n",
       "  1,\n",
       "  0,\n",
       "  0,\n",
       "  0,\n",
       "  1,\n",
       "  1,\n",
       "  0,\n",
       "  0,\n",
       "  0,\n",
       "  0,\n",
       "  0,\n",
       "  1,\n",
       "  1,\n",
       "  1,\n",
       "  0,\n",
       "  0,\n",
       "  0,\n",
       "  0,\n",
       "  1,\n",
       "  1,\n",
       "  0,\n",
       "  1,\n",
       "  0,\n",
       "  0,\n",
       "  0,\n",
       "  0,\n",
       "  0,\n",
       "  1,\n",
       "  1,\n",
       "  1,\n",
       "  1,\n",
       "  1,\n",
       "  0,\n",
       "  0,\n",
       "  1,\n",
       "  1,\n",
       "  1,\n",
       "  1,\n",
       "  1,\n",
       "  0,\n",
       "  0,\n",
       "  0,\n",
       "  1,\n",
       "  1,\n",
       "  0,\n",
       "  0,\n",
       "  1,\n",
       "  1,\n",
       "  0,\n",
       "  0,\n",
       "  1,\n",
       "  0,\n",
       "  0,\n",
       "  0,\n",
       "  0,\n",
       "  0,\n",
       "  1,\n",
       "  0,\n",
       "  1,\n",
       "  1,\n",
       "  1,\n",
       "  1,\n",
       "  1,\n",
       "  0,\n",
       "  0,\n",
       "  0,\n",
       "  0,\n",
       "  0,\n",
       "  0,\n",
       "  0,\n",
       "  0,\n",
       "  0,\n",
       "  1,\n",
       "  1,\n",
       "  1,\n",
       "  1,\n",
       "  0,\n",
       "  0,\n",
       "  1,\n",
       "  0,\n",
       "  0,\n",
       "  1,\n",
       "  1,\n",
       "  1,\n",
       "  1,\n",
       "  0,\n",
       "  1,\n",
       "  1,\n",
       "  0],\n",
       " 'model_out_list': [0.9900462031364441,\n",
       "  0.9975268244743347,\n",
       "  0.9988210797309875,\n",
       "  0.00177578697912395,\n",
       "  0.998853325843811,\n",
       "  0.9987634420394897,\n",
       "  0.000533953367266804,\n",
       "  0.9988580942153931,\n",
       "  0.9984074234962463,\n",
       "  0.9985388517379761,\n",
       "  0.9948071837425232,\n",
       "  0.9987659454345703,\n",
       "  0.0012364874128252268,\n",
       "  0.0033369865268468857,\n",
       "  0.010525207035243511,\n",
       "  0.010242881253361702,\n",
       "  0.9970723390579224,\n",
       "  0.0021637133322656155,\n",
       "  0.0009116295259445906,\n",
       "  0.006648855283856392,\n",
       "  0.0007331112865358591,\n",
       "  0.0005830764421261847,\n",
       "  0.9984084963798523,\n",
       "  0.9978366494178772,\n",
       "  0.9961516261100769,\n",
       "  0.003998545464128256,\n",
       "  0.9974514842033386,\n",
       "  0.0019459319300949574,\n",
       "  0.001677558640949428,\n",
       "  0.9987438321113586,\n",
       "  0.9988734126091003,\n",
       "  0.0005724707734771073,\n",
       "  0.9876148700714111,\n",
       "  0.0021082707680761814,\n",
       "  0.0005879760719835758,\n",
       "  0.0005177376442588866,\n",
       "  0.9983304142951965,\n",
       "  0.9756723046302795,\n",
       "  0.9912607073783875,\n",
       "  0.998805046081543,\n",
       "  0.9851753115653992,\n",
       "  0.9920324087142944,\n",
       "  0.9988794922828674,\n",
       "  0.000502543116454035,\n",
       "  0.0005445520509965718,\n",
       "  0.9834024906158447,\n",
       "  0.9985989928245544,\n",
       "  0.765356719493866,\n",
       "  0.9988839030265808,\n",
       "  0.9987251162528992,\n",
       "  0.002971139969304204,\n",
       "  0.0005144605529494584,\n",
       "  0.0005142176523804665,\n",
       "  0.9980699419975281,\n",
       "  0.996863603591919,\n",
       "  0.003148325253278017,\n",
       "  0.0006751051405444741,\n",
       "  0.9987177848815918,\n",
       "  0.9987369179725647,\n",
       "  0.002205574419349432,\n",
       "  0.0005214550765231252,\n",
       "  0.9979116320610046,\n",
       "  0.0005129209021106362,\n",
       "  0.0005545121966861188,\n",
       "  0.003587669227272272,\n",
       "  0.0005032314802519977,\n",
       "  0.9016509652137756,\n",
       "  0.9920938611030579,\n",
       "  0.0005283645004965365,\n",
       "  0.9939826130867004,\n",
       "  0.9988977909088135,\n",
       "  0.9987356066703796,\n",
       "  0.9958727955818176,\n",
       "  0.9956108927726746,\n",
       "  0.000570284144487232,\n",
       "  0.0004939137725159526,\n",
       "  0.9971073269844055,\n",
       "  0.0037942177150398493,\n",
       "  0.0006194766610860825,\n",
       "  0.0004998010117560625,\n",
       "  0.001645221491344273,\n",
       "  0.000499564572237432,\n",
       "  0.0007617289666086435,\n",
       "  0.9989026784896851,\n",
       "  0.01324824895709753,\n",
       "  0.9983898401260376,\n",
       "  0.9983456134796143,\n",
       "  0.0005949753685854375,\n",
       "  0.0014501370023936033,\n",
       "  0.9987087249755859,\n",
       "  0.005859635304659605,\n",
       "  0.0005022553377784789,\n",
       "  0.9975057244300842,\n",
       "  0.9987767338752747,\n",
       "  0.9983828067779541,\n",
       "  0.998863935470581,\n",
       "  0.0022366789635270834,\n",
       "  0.9981231093406677,\n",
       "  0.01695837266743183,\n",
       "  0.0009982241317629814],\n",
       " 'raw_attr_list': [tensor([[[-1.5270e-05,  2.4401e-06, -6.5532e-06,  ...,  1.4211e-05,\n",
       "            -7.5121e-06,  1.4944e-05],\n",
       "           [-3.8124e-06, -4.8340e-05, -1.2535e-05,  ..., -2.1026e-06,\n",
       "             6.4711e-05,  2.2079e-05],\n",
       "           [-3.3812e-05, -9.0699e-05, -2.8476e-06,  ...,  2.5625e-06,\n",
       "             2.9611e-05,  1.5564e-04],\n",
       "           [ 2.7965e-06, -1.3844e-04, -6.1829e-06,  ..., -4.9259e-05,\n",
       "             2.6026e-05,  2.4159e-06],\n",
       "           [ 3.0608e-07,  5.2155e-05,  6.0557e-05,  ..., -1.1782e-05,\n",
       "             3.3772e-05,  2.2203e-05],\n",
       "           [ 3.0777e-06, -2.4714e-06,  1.9892e-06,  ..., -5.8492e-05,\n",
       "             6.6909e-07,  7.1553e-06]]], grad_fn=<MulBackward0>),\n",
       "  tensor([[[-8.2499e-08, -3.2839e-07, -1.5801e-07,  ..., -6.5116e-07,\n",
       "            -2.4524e-07,  2.1855e-07],\n",
       "           [ 6.7147e-07, -1.8451e-06, -2.8527e-07,  ..., -2.4819e-08,\n",
       "            -3.4136e-06, -2.5502e-06],\n",
       "           [ 8.9666e-07, -2.5537e-06, -2.7264e-08,  ...,  2.0410e-07,\n",
       "            -1.4009e-07, -6.1284e-06],\n",
       "           ...,\n",
       "           [-1.0039e-06,  3.8519e-06, -2.8034e-07,  ..., -6.6726e-08,\n",
       "            -6.4804e-06,  3.5690e-07],\n",
       "           [-4.2904e-07, -4.1255e-06, -3.5673e-06,  ..., -4.4081e-07,\n",
       "             8.3647e-07, -8.6521e-07],\n",
       "           [-4.6472e-07,  4.9187e-07, -1.6294e-06,  ...,  7.3523e-07,\n",
       "             8.3481e-07,  7.1760e-07]]], grad_fn=<MulBackward0>),\n",
       "  tensor([[[ 3.2595e-08,  2.5587e-08, -3.5341e-08,  ..., -6.9639e-08,\n",
       "             2.7673e-08,  2.7996e-08],\n",
       "           [-2.0004e-07,  9.9967e-08, -4.8568e-09,  ...,  7.7310e-08,\n",
       "            -3.0958e-08, -4.7508e-08],\n",
       "           [-6.6930e-09,  1.1499e-08, -1.5060e-07,  ..., -2.9144e-08,\n",
       "             7.3261e-09,  9.1877e-08],\n",
       "           ...,\n",
       "           [-5.9998e-08,  3.2788e-07, -9.0543e-07,  ...,  2.0622e-07,\n",
       "             4.6883e-08,  1.1601e-06],\n",
       "           [ 1.4706e-08,  3.7217e-07,  4.4289e-08,  ..., -6.6474e-07,\n",
       "             5.9523e-07, -9.7226e-08],\n",
       "           [-2.9163e-07,  3.6833e-07,  2.2802e-07,  ..., -5.1998e-08,\n",
       "             4.8162e-08,  9.1634e-09]]], grad_fn=<MulBackward0>),\n",
       "  tensor([[[-2.1295e-06,  1.1837e-06,  8.3761e-07,  ..., -1.1862e-07,\n",
       "            -2.0164e-06,  4.7609e-07],\n",
       "           [-1.9470e-08,  1.3850e-06, -2.8699e-06,  ...,  1.4094e-07,\n",
       "             1.6277e-07,  1.9159e-06],\n",
       "           [-1.5647e-05,  1.3450e-05, -3.7366e-07,  ..., -1.4753e-05,\n",
       "            -3.3908e-11,  1.0656e-06],\n",
       "           [ 1.6434e-07,  2.1735e-05, -1.3018e-05,  ...,  2.1569e-06,\n",
       "            -3.0522e-06,  7.9546e-06],\n",
       "           [-6.3267e-07,  1.8085e-06, -1.0817e-06,  ...,  2.2927e-06,\n",
       "             1.2550e-06, -2.2785e-07]]], grad_fn=<MulBackward0>),\n",
       "  tensor([[[-9.3504e-08,  1.9755e-08, -7.1937e-09,  ...,  1.0865e-08,\n",
       "             8.2416e-09, -7.9942e-09],\n",
       "           [-1.7741e-07, -1.2421e-07, -2.1153e-08,  ...,  1.4736e-07,\n",
       "             9.6897e-09,  1.5541e-07],\n",
       "           [-8.7522e-09, -7.9995e-08,  3.0304e-08,  ..., -4.4875e-08,\n",
       "            -1.6825e-08,  1.7500e-07],\n",
       "           ...,\n",
       "           [-2.8802e-07,  6.0324e-08, -3.4816e-08,  ..., -5.0890e-09,\n",
       "            -5.0768e-09, -3.0810e-09],\n",
       "           [-8.6886e-09, -6.5596e-08, -3.8291e-08,  ...,  1.6778e-07,\n",
       "             9.4198e-08, -1.4220e-07],\n",
       "           [-3.3601e-08,  5.2936e-08, -1.4720e-08,  ...,  6.9057e-08,\n",
       "             7.1451e-08, -4.9532e-10]]], grad_fn=<MulBackward0>),\n",
       "  tensor([[[ 5.5005e-08, -8.8010e-09, -7.6060e-09,  ..., -2.8140e-08,\n",
       "            -5.3726e-08,  5.0595e-09],\n",
       "           [ 1.9184e-07,  7.2882e-08,  1.0979e-07,  ...,  4.1709e-08,\n",
       "            -9.2184e-08,  7.1065e-09],\n",
       "           [-5.4178e-07, -3.7334e-07,  3.8706e-08,  ...,  4.4241e-07,\n",
       "            -3.7464e-07, -2.6360e-07],\n",
       "           ...,\n",
       "           [-9.5833e-08,  6.0665e-08,  2.3086e-08,  ..., -5.9926e-08,\n",
       "             5.8851e-08, -8.8234e-08],\n",
       "           [ 4.7714e-08,  3.5110e-07,  9.2112e-07,  ...,  8.2427e-07,\n",
       "             6.8720e-07, -4.6789e-07],\n",
       "           [-3.1819e-08, -8.3680e-08, -1.5539e-07,  ..., -1.1487e-08,\n",
       "             2.4388e-07, -1.0029e-08]]], grad_fn=<MulBackward0>),\n",
       "  tensor([[[-8.7713e-08,  9.9137e-09,  3.6549e-08,  ..., -3.9378e-08,\n",
       "             7.1529e-09, -5.3981e-08],\n",
       "           [ 4.8598e-08,  7.2525e-08,  4.3795e-08,  ...,  2.3617e-07,\n",
       "             2.8151e-08,  6.0834e-08],\n",
       "           [ 3.2819e-08,  4.5105e-08, -8.7473e-08,  ..., -2.4546e-07,\n",
       "             8.2873e-08, -1.3451e-08],\n",
       "           ...,\n",
       "           [ 3.6105e-09,  1.7198e-08, -6.2603e-08,  ..., -1.9475e-08,\n",
       "            -1.8912e-08,  1.1689e-09],\n",
       "           [ 5.0320e-09,  8.4664e-07, -1.5465e-07,  ..., -3.3619e-07,\n",
       "            -1.8907e-08,  5.4335e-07],\n",
       "           [ 1.0151e-07, -3.1499e-08,  3.3179e-09,  ..., -3.2703e-09,\n",
       "             2.8331e-09,  1.7950e-08]]], grad_fn=<MulBackward0>),\n",
       "  tensor([[[-2.3273e-07,  2.7626e-10, -9.3584e-09,  ...,  6.3026e-08,\n",
       "             9.8001e-08,  1.4756e-08],\n",
       "           [ 1.8549e-08, -6.7295e-08, -3.7058e-07,  ..., -2.1773e-09,\n",
       "            -8.1284e-09, -3.9948e-08],\n",
       "           [ 1.8020e-08, -3.3873e-08, -1.8481e-08,  ..., -1.0378e-07,\n",
       "             3.3531e-08, -1.0922e-08],\n",
       "           ...,\n",
       "           [-6.0793e-09, -5.0342e-08,  1.9464e-08,  ...,  4.2244e-09,\n",
       "             7.3740e-08,  2.5920e-08],\n",
       "           [-1.6765e-08,  2.5946e-07,  1.5567e-07,  ...,  3.5786e-08,\n",
       "            -9.5698e-08,  1.1002e-07],\n",
       "           [-9.9043e-09,  1.2406e-08, -2.0821e-08,  ..., -2.9150e-08,\n",
       "            -1.0860e-08,  2.7497e-09]]], grad_fn=<MulBackward0>),\n",
       "  tensor([[[ 4.3302e-07, -9.5823e-08,  3.0556e-08,  ..., -1.7536e-07,\n",
       "            -3.5562e-08, -4.2158e-08],\n",
       "           [ 4.0464e-07,  3.7917e-07, -4.5583e-07,  ..., -1.0308e-08,\n",
       "            -3.0745e-07,  4.9236e-07],\n",
       "           [-5.1326e-07,  1.3780e-08,  8.6719e-08,  ..., -6.7371e-07,\n",
       "            -7.2033e-07, -1.9642e-07],\n",
       "           ...,\n",
       "           [ 1.0270e-07, -2.5901e-06,  4.2987e-08,  ..., -3.8627e-08,\n",
       "            -6.4053e-08,  1.2257e-07],\n",
       "           [-8.7643e-07,  2.6885e-06,  1.0471e-06,  ..., -2.3318e-06,\n",
       "            -3.7422e-07,  1.5127e-06],\n",
       "           [-2.4002e-08,  1.5434e-07,  6.6643e-08,  ...,  1.0647e-07,\n",
       "            -8.7491e-08,  1.9581e-09]]], grad_fn=<MulBackward0>),\n",
       "  tensor([[[ 1.4790e-07,  8.2434e-08,  3.1080e-07,  ..., -2.8145e-07,\n",
       "             1.5483e-06, -1.2137e-07],\n",
       "           [-3.7404e-09,  7.6871e-06, -1.6641e-06,  ..., -5.3139e-07,\n",
       "            -1.0445e-06, -1.9128e-07],\n",
       "           [ 1.1234e-07, -1.8945e-06, -5.4923e-08,  ...,  9.9957e-07,\n",
       "            -1.5184e-06,  2.4581e-06],\n",
       "           ...,\n",
       "           [-2.1449e-06,  1.0046e-06,  1.1022e-06,  ..., -1.5240e-06,\n",
       "            -2.0142e-06, -1.3849e-06],\n",
       "           [ 1.2896e-08,  2.4906e-06,  1.0047e-07,  ..., -2.3661e-06,\n",
       "             1.1615e-06, -4.7805e-06],\n",
       "           [-1.9393e-07, -8.8053e-07, -6.3093e-07,  ...,  1.0868e-07,\n",
       "            -6.3003e-07,  5.9088e-07]]], grad_fn=<MulBackward0>),\n",
       "  tensor([[[-5.0376e-06,  8.4703e-07, -6.5024e-07,  ..., -4.4406e-07,\n",
       "            -6.1771e-06, -1.5791e-06],\n",
       "           [-1.2016e-05,  2.8329e-07, -5.1105e-05,  ...,  5.3212e-05,\n",
       "             8.2884e-05,  2.9781e-05],\n",
       "           [ 2.9160e-06,  8.8702e-06,  2.3745e-08,  ..., -2.1300e-06,\n",
       "             1.2169e-06, -4.6755e-06],\n",
       "           ...,\n",
       "           [-5.8992e-08,  3.1635e-06,  3.1230e-08,  ...,  4.4157e-07,\n",
       "             1.6434e-06, -8.4816e-06],\n",
       "           [ 1.9883e-07,  3.2579e-05, -2.1118e-05,  ..., -2.5946e-06,\n",
       "             1.7440e-05,  6.3727e-05],\n",
       "           [-5.5204e-06,  5.1135e-06,  3.8257e-06,  ...,  1.1377e-05,\n",
       "            -3.5293e-06,  2.0410e-06]]], grad_fn=<MulBackward0>),\n",
       "  tensor([[[ 2.0361e-07, -4.2097e-08, -8.6478e-08,  ..., -6.9140e-08,\n",
       "             2.1903e-07,  7.0717e-08],\n",
       "           [ 2.7291e-08, -1.6605e-07,  3.6443e-07,  ...,  1.0434e-09,\n",
       "            -4.4210e-07, -4.9883e-07],\n",
       "           [-1.1959e-07,  8.6702e-08, -7.2491e-08,  ...,  1.5887e-07,\n",
       "            -1.3512e-07, -1.1828e-08],\n",
       "           ...,\n",
       "           [-1.1563e-07, -1.1580e-08,  6.7792e-09,  ..., -5.5815e-07,\n",
       "             2.8577e-08, -2.8544e-07],\n",
       "           [-8.5475e-08,  3.6134e-07, -4.3226e-07,  ..., -5.1426e-07,\n",
       "             2.6971e-07,  7.2202e-08],\n",
       "           [ 8.7278e-08, -1.0159e-07,  1.5448e-07,  ...,  1.1794e-07,\n",
       "            -6.4384e-08, -5.3729e-08]]], grad_fn=<MulBackward0>),\n",
       "  tensor([[[-3.9214e-06,  9.6880e-07,  7.1666e-07,  ...,  1.5289e-06,\n",
       "            -2.5494e-06, -1.8143e-06],\n",
       "           [-9.9171e-07,  9.2539e-07, -7.4331e-07,  ..., -2.3507e-07,\n",
       "            -1.4838e-06,  2.0871e-06],\n",
       "           [-7.9083e-06, -3.2237e-06, -2.8525e-05,  ..., -1.9982e-06,\n",
       "            -1.4482e-05,  4.7610e-06],\n",
       "           ...,\n",
       "           [ 2.8160e-06,  4.9542e-06, -2.9337e-06,  ..., -4.3989e-08,\n",
       "             9.9386e-08,  2.3912e-07],\n",
       "           [ 4.0301e-07, -6.7175e-07,  3.2853e-06,  ...,  3.7303e-06,\n",
       "            -7.3685e-06, -3.3704e-06],\n",
       "           [-3.7494e-07,  8.0611e-07, -3.8387e-06,  ..., -2.9709e-07,\n",
       "             1.5628e-06,  1.0672e-06]]], grad_fn=<MulBackward0>),\n",
       "  tensor([[[-2.8566e-05, -5.9598e-07,  4.4628e-06,  ...,  7.9759e-06,\n",
       "             7.6348e-07,  4.3146e-06],\n",
       "           [-1.9848e-05, -3.1074e-05,  2.2651e-06,  ...,  1.3341e-05,\n",
       "             9.0148e-06, -1.3566e-06],\n",
       "           [ 6.2634e-05,  1.1508e-05,  3.2328e-05,  ...,  3.4756e-05,\n",
       "             7.2849e-06, -5.2374e-06],\n",
       "           [-2.4510e-06, -1.4864e-06, -2.7037e-05,  ...,  9.7146e-06,\n",
       "            -1.5383e-06, -2.3156e-07],\n",
       "           [-1.2185e-07,  6.6946e-05,  2.1236e-06,  ...,  3.3598e-05,\n",
       "            -1.1782e-05,  7.8627e-05],\n",
       "           [-6.3558e-07,  8.9816e-07,  1.2553e-06,  ..., -3.4049e-06,\n",
       "            -5.6884e-06, -1.8466e-06]]], grad_fn=<MulBackward0>),\n",
       "  tensor([[[-4.3487e-05, -3.4039e-06,  3.8489e-06,  ...,  2.4087e-05,\n",
       "            -2.5959e-05,  1.7470e-05],\n",
       "           [ 7.8196e-05,  3.1103e-06, -1.6136e-05,  ..., -5.8838e-06,\n",
       "             5.0970e-05, -1.1713e-05],\n",
       "           [-4.0614e-07,  3.6744e-06,  3.4453e-05,  ..., -2.2537e-05,\n",
       "             5.2906e-05,  3.6626e-05],\n",
       "           ...,\n",
       "           [ 1.0320e-05, -7.7785e-05,  8.8338e-05,  ..., -1.1621e-06,\n",
       "            -2.1244e-05,  5.7363e-05],\n",
       "           [ 2.4843e-06,  3.4200e-07,  5.8968e-06,  ...,  1.7155e-05,\n",
       "            -4.8585e-05,  1.0565e-05],\n",
       "           [-5.2084e-07,  2.4610e-07, -4.6146e-05,  ...,  3.7388e-05,\n",
       "            -6.0372e-06,  1.7903e-06]]], grad_fn=<MulBackward0>),\n",
       "  tensor([[[ 7.1229e-05, -6.0150e-06, -9.4461e-06,  ..., -1.0608e-05,\n",
       "            -4.9431e-05,  2.2420e-05],\n",
       "           [-6.3646e-05, -9.2299e-07, -3.2489e-05,  ..., -3.5571e-05,\n",
       "             1.8027e-04, -4.7118e-05],\n",
       "           [-1.7711e-05,  5.1993e-05, -1.4638e-06,  ..., -7.5267e-05,\n",
       "            -1.3758e-04,  1.1997e-05],\n",
       "           [ 2.3314e-04, -1.7360e-04, -8.5085e-05,  ...,  2.4801e-05,\n",
       "             1.0011e-06, -2.7261e-05],\n",
       "           [-2.6233e-07,  4.3838e-05, -6.2115e-05,  ...,  9.4019e-05,\n",
       "             1.0953e-05,  1.5499e-04],\n",
       "           [ 3.1520e-05,  7.6605e-06,  7.5156e-06,  ..., -9.7349e-06,\n",
       "             5.2375e-05,  5.8568e-06]]], grad_fn=<MulBackward0>),\n",
       "  tensor([[[-5.5312e-06,  3.8343e-07, -1.8433e-06,  ..., -2.2540e-06,\n",
       "             5.1390e-06,  1.9238e-06],\n",
       "           [ 2.7824e-06,  9.7377e-06, -1.8430e-05,  ...,  1.9007e-07,\n",
       "             4.8220e-06, -4.3241e-05],\n",
       "           [ 3.7056e-05,  5.9673e-05,  2.3718e-05,  ...,  2.5248e-05,\n",
       "            -1.5145e-05,  1.5029e-05],\n",
       "           ...,\n",
       "           [ 1.5929e-06, -1.2513e-05,  5.9925e-07,  ...,  3.3158e-06,\n",
       "            -3.2375e-05, -6.3004e-07],\n",
       "           [ 1.4472e-06,  6.7446e-07,  5.9210e-06,  ..., -2.4338e-05,\n",
       "             1.5185e-06,  3.6686e-05],\n",
       "           [-3.5896e-06,  2.2762e-06,  1.0653e-05,  ...,  1.9585e-07,\n",
       "            -8.3521e-08, -2.1735e-06]]], grad_fn=<MulBackward0>),\n",
       "  tensor([[[-4.5256e-06, -1.0444e-06, -2.4994e-07,  ...,  1.0747e-06,\n",
       "            -8.5387e-07,  9.5323e-07],\n",
       "           [-4.3976e-07, -2.3690e-07,  6.0098e-09,  ...,  4.8456e-06,\n",
       "             5.3491e-08, -2.2649e-06],\n",
       "           [ 1.9206e-06, -3.0889e-06, -7.7854e-07,  ..., -8.8510e-07,\n",
       "            -1.1727e-06,  1.1695e-06],\n",
       "           ...,\n",
       "           [-1.1624e-07,  9.0548e-06,  6.6220e-07,  ...,  1.2652e-08,\n",
       "             6.2420e-06, -3.6001e-06],\n",
       "           [ 2.1026e-07, -1.7845e-05, -5.7832e-06,  ...,  7.6305e-07,\n",
       "             3.4604e-06,  5.7941e-06],\n",
       "           [-1.1813e-07,  1.1003e-06,  3.5990e-06,  ...,  1.9563e-06,\n",
       "            -2.0328e-06, -2.3736e-08]]], grad_fn=<MulBackward0>),\n",
       "  tensor([[[ 4.9940e-07,  2.1757e-07, -3.2470e-07,  ...,  4.3909e-07,\n",
       "            -1.8776e-07,  5.0913e-07],\n",
       "           [-2.7616e-06, -8.4298e-07, -1.3455e-05,  ...,  8.2260e-07,\n",
       "            -3.9987e-06,  7.7575e-07],\n",
       "           [ 1.7194e-06, -6.1310e-08,  4.8001e-06,  ..., -7.4268e-07,\n",
       "             1.4276e-05,  3.7010e-08],\n",
       "           ...,\n",
       "           [-8.5394e-07, -1.5017e-06, -3.9532e-06,  ...,  1.3404e-06,\n",
       "            -4.0381e-07,  2.6247e-06],\n",
       "           [-6.5989e-07, -2.5532e-06, -1.6419e-07,  ...,  9.1825e-07,\n",
       "             9.7447e-08,  5.2999e-07],\n",
       "           [-2.3297e-08,  1.6840e-07,  7.2004e-07,  ..., -1.1459e-07,\n",
       "             8.0655e-07,  1.9884e-07]]], grad_fn=<MulBackward0>),\n",
       "  tensor([[[-8.6313e-07, -3.1841e-07, -2.2403e-06,  ..., -3.2275e-06,\n",
       "             8.0102e-07,  1.6933e-06],\n",
       "           [ 1.0574e-07,  2.2804e-05, -5.9944e-06,  ..., -1.6716e-05,\n",
       "             2.8727e-07, -2.3185e-05],\n",
       "           [ 6.9615e-06,  2.3460e-05,  2.2542e-05,  ...,  2.3953e-07,\n",
       "            -5.2116e-05,  7.1554e-06],\n",
       "           ...,\n",
       "           [-3.4765e-06, -2.6454e-05, -2.5323e-06,  ...,  4.9976e-06,\n",
       "             5.3878e-05,  2.2862e-06],\n",
       "           [ 4.2608e-06,  8.4501e-06, -6.9151e-07,  ..., -7.1608e-06,\n",
       "            -1.0583e-06, -3.0127e-05],\n",
       "           [ 1.0837e-06, -1.2365e-06,  8.3529e-06,  ...,  6.8445e-07,\n",
       "            -9.0737e-08, -1.3895e-06]]], grad_fn=<MulBackward0>),\n",
       "  tensor([[[-8.1863e-07,  1.7797e-07, -7.1765e-07,  ..., -4.5967e-07,\n",
       "             1.9130e-06,  2.0995e-07],\n",
       "           [ 2.4211e-06, -2.2813e-06, -5.7769e-07,  ..., -8.4929e-07,\n",
       "             3.1147e-07, -6.8849e-06],\n",
       "           [ 2.9582e-07, -2.7792e-07,  8.2339e-07,  ...,  7.7405e-07,\n",
       "            -2.5196e-06,  8.2418e-06],\n",
       "           ...,\n",
       "           [-2.0874e-06,  1.5223e-06,  1.6439e-07,  ..., -1.0734e-06,\n",
       "             1.6106e-06, -6.2536e-06],\n",
       "           [ 2.6889e-07,  3.5118e-06,  4.1559e-06,  ..., -1.8981e-06,\n",
       "            -1.6233e-06,  7.2746e-07],\n",
       "           [ 5.7609e-08, -3.1977e-07, -3.2285e-07,  ...,  1.3809e-07,\n",
       "             1.3161e-07, -2.1911e-07]]], grad_fn=<MulBackward0>),\n",
       "  tensor([[[-6.5717e-08, -1.6472e-08, -1.1054e-07,  ..., -1.3093e-07,\n",
       "            -1.4941e-07, -4.6464e-08],\n",
       "           [ 2.4809e-07,  1.9709e-07, -3.9346e-07,  ..., -2.7058e-09,\n",
       "            -3.0162e-07, -4.1193e-07],\n",
       "           [ 4.7908e-07, -3.2830e-07,  1.4609e-06,  ..., -1.3745e-08,\n",
       "             1.4600e-07, -3.2697e-07],\n",
       "           ...,\n",
       "           [-3.4723e-07, -1.2860e-07, -3.1915e-07,  ...,  3.0525e-07,\n",
       "             1.2577e-07, -6.0654e-07],\n",
       "           [ 9.2551e-08,  1.0679e-06,  7.7338e-07,  ..., -8.0138e-07,\n",
       "             4.9213e-07,  1.9878e-06],\n",
       "           [-4.8305e-07,  2.2267e-07,  1.7223e-08,  ...,  2.2383e-07,\n",
       "             1.0483e-08, -4.2220e-09]]], grad_fn=<MulBackward0>),\n",
       "  tensor([[[-7.3554e-07,  2.2199e-07,  6.5036e-10,  ...,  1.2217e-07,\n",
       "             3.7217e-07,  5.0527e-07],\n",
       "           [-1.0553e-07, -9.1816e-07,  3.3361e-07,  ..., -2.5559e-07,\n",
       "             4.1593e-07, -1.8146e-06],\n",
       "           [-2.8418e-06, -1.0617e-06,  3.2342e-07,  ..., -2.7730e-07,\n",
       "             3.2203e-07, -1.7934e-06],\n",
       "           ...,\n",
       "           [-9.7108e-08, -2.5908e-07, -3.6773e-07,  ...,  7.1976e-09,\n",
       "             2.5659e-07, -2.6802e-07],\n",
       "           [ 5.2069e-07, -1.7236e-06, -1.9282e-06,  ...,  7.5426e-07,\n",
       "             9.3191e-07, -3.0149e-07],\n",
       "           [-4.0378e-07,  2.7902e-07, -1.0831e-07,  ..., -1.9978e-07,\n",
       "            -6.4684e-09,  6.7342e-10]]], grad_fn=<MulBackward0>),\n",
       "  tensor([[[-8.3067e-07,  3.9670e-07,  3.0364e-07,  ...,  1.1793e-06,\n",
       "            -2.9142e-07,  7.2976e-07],\n",
       "           [ 3.8823e-06, -8.0304e-07,  5.5581e-07,  ...,  1.3017e-05,\n",
       "            -1.1459e-05,  5.3600e-06],\n",
       "           [-2.5537e-06, -1.9889e-06, -1.6846e-06,  ..., -1.6032e-06,\n",
       "             8.1891e-07, -3.0734e-07],\n",
       "           ...,\n",
       "           [ 6.1068e-08, -4.5075e-06,  1.2067e-06,  ...,  2.9685e-06,\n",
       "            -9.6611e-07,  3.3738e-06],\n",
       "           [ 1.8687e-06, -8.0978e-06, -2.1780e-06,  ...,  7.2890e-06,\n",
       "             4.0077e-06, -4.4657e-06],\n",
       "           [-3.6330e-07,  4.3076e-06,  3.4021e-06,  ..., -2.9310e-06,\n",
       "             9.9886e-08, -2.0890e-06]]], grad_fn=<MulBackward0>),\n",
       "  tensor([[[-6.6679e-06,  6.9779e-07, -1.2616e-06,  ..., -3.5555e-06,\n",
       "            -8.3400e-06,  9.1068e-07],\n",
       "           [-1.8700e-06,  3.3412e-06,  3.4035e-06,  ..., -1.9557e-05,\n",
       "             8.9921e-06,  3.4467e-05],\n",
       "           [ 2.0068e-06, -9.3998e-06,  2.4512e-05,  ...,  1.2969e-05,\n",
       "             1.3073e-05,  1.7201e-05],\n",
       "           ...,\n",
       "           [-6.2679e-06, -1.2731e-05, -9.6835e-06,  ...,  2.0304e-06,\n",
       "            -5.1765e-06, -1.2293e-05],\n",
       "           [ 6.8577e-06,  5.1226e-06,  8.8471e-06,  ..., -2.4939e-06,\n",
       "            -7.1236e-06,  4.1334e-05],\n",
       "           [ 4.2909e-06, -3.0940e-07, -1.9101e-06,  ..., -1.2720e-06,\n",
       "             7.0358e-06,  1.2349e-07]]], grad_fn=<MulBackward0>),\n",
       "  tensor([[[-1.6160e-04, -1.1787e-06, -1.4037e-05,  ..., -1.1055e-05,\n",
       "            -3.6719e-06,  2.1024e-05],\n",
       "           [ 1.0021e-05,  3.4857e-05, -5.2374e-05,  ..., -2.1404e-05,\n",
       "             8.2893e-06, -3.3636e-04],\n",
       "           [-1.2035e-04,  2.3484e-05,  1.5113e-05,  ...,  1.3287e-04,\n",
       "            -8.4691e-06,  2.2119e-04],\n",
       "           [ 4.7178e-05,  1.9011e-06, -2.1547e-04,  ...,  2.1093e-04,\n",
       "             8.3606e-05, -5.4312e-05],\n",
       "           [ 2.3834e-06, -2.0862e-04, -8.4698e-05,  ...,  9.9957e-05,\n",
       "             5.7481e-05,  2.3058e-06],\n",
       "           [ 8.0527e-06,  3.1018e-05,  2.9464e-05,  ..., -2.6690e-05,\n",
       "             7.0040e-05,  1.6482e-05]]], grad_fn=<MulBackward0>),\n",
       "  tensor([[[-1.2777e-05,  1.1330e-06,  4.4977e-06,  ..., -4.6375e-06,\n",
       "            -6.7218e-07,  6.6729e-06],\n",
       "           [-1.4940e-07,  1.2787e-06, -1.2432e-06,  ...,  1.4551e-05,\n",
       "             5.2219e-06,  1.9262e-05],\n",
       "           [-6.3581e-06, -3.2256e-05, -1.0684e-05,  ...,  2.2824e-05,\n",
       "            -1.6765e-05, -6.8057e-06],\n",
       "           [-4.0920e-05, -8.9387e-05, -3.6058e-05,  ...,  4.9589e-05,\n",
       "             7.3436e-06, -9.8752e-06],\n",
       "           [ 5.7793e-07,  8.8087e-05,  4.2002e-06,  ..., -4.5796e-06,\n",
       "             2.4483e-05,  5.0415e-06],\n",
       "           [-1.1229e-05,  5.1069e-07, -6.0041e-06,  ...,  7.7194e-08,\n",
       "            -1.1259e-05, -4.3564e-07]]], grad_fn=<MulBackward0>),\n",
       "  tensor([[[-1.8821e-06,  7.2076e-07,  2.4334e-07,  ...,  1.7540e-07,\n",
       "            -2.1649e-07,  8.8504e-08],\n",
       "           [ 1.9835e-07, -4.2715e-07, -1.9828e-06,  ..., -3.4848e-06,\n",
       "            -8.6896e-06, -2.3218e-06],\n",
       "           [-1.7719e-06,  1.6259e-06,  1.5245e-07,  ..., -1.3581e-06,\n",
       "            -2.9422e-07,  8.0171e-09],\n",
       "           ...,\n",
       "           [-6.6550e-06,  2.7586e-07, -5.4832e-06,  ...,  5.5649e-06,\n",
       "             4.7115e-06, -4.5585e-06],\n",
       "           [ 4.6566e-07,  7.2729e-06,  8.2124e-06,  ...,  9.9479e-06,\n",
       "            -2.9968e-07,  1.0675e-05],\n",
       "           [-6.1411e-07,  1.1588e-07, -5.6320e-06,  ..., -2.3669e-06,\n",
       "             1.0496e-06,  7.2356e-07]]], grad_fn=<MulBackward0>),\n",
       "  tensor([[[-8.9775e-07,  1.1855e-06,  5.4228e-07,  ..., -1.8771e-06,\n",
       "            -2.9855e-06,  1.3116e-06],\n",
       "           [ 1.4043e-05, -2.2897e-05, -3.7181e-06,  ...,  1.3145e-05,\n",
       "             5.3412e-06, -2.9199e-06],\n",
       "           [-5.6017e-07,  3.5882e-07, -2.1910e-05,  ..., -3.1065e-06,\n",
       "             4.6635e-06, -4.3956e-05],\n",
       "           [ 8.0871e-08,  6.5127e-06,  6.6752e-06,  ..., -4.4932e-06,\n",
       "             1.4789e-06,  1.6903e-06],\n",
       "           [-1.4646e-08, -4.0003e-06, -8.3223e-06,  ...,  1.8167e-06,\n",
       "             3.3296e-06,  1.2203e-05],\n",
       "           [-7.9386e-07, -3.7123e-06, -1.0139e-06,  ..., -3.6434e-06,\n",
       "            -3.3923e-06,  2.8521e-07]]], grad_fn=<MulBackward0>),\n",
       "  tensor([[[ 2.8637e-07,  3.2415e-08, -3.8201e-08,  ..., -9.1281e-08,\n",
       "             4.7905e-07, -3.6023e-08],\n",
       "           [-2.6409e-08,  1.0385e-07,  1.9332e-07,  ..., -2.6898e-07,\n",
       "            -4.8073e-08, -3.6895e-07],\n",
       "           [ 4.4087e-07, -3.3538e-07,  1.2048e-07,  ...,  4.3364e-08,\n",
       "             3.1555e-07, -9.7452e-09],\n",
       "           [-6.4904e-08,  2.1491e-06, -1.5694e-06,  ..., -4.2823e-06,\n",
       "            -1.3105e-07, -2.4313e-06],\n",
       "           [ 2.9725e-07,  3.2435e-07,  1.2957e-07,  ...,  7.1569e-07,\n",
       "            -5.6231e-07,  9.7332e-08]]], grad_fn=<MulBackward0>),\n",
       "  tensor([[[-1.4602e-07,  1.7462e-08, -7.9213e-09,  ...,  6.5423e-08,\n",
       "            -2.4716e-08, -1.9099e-08],\n",
       "           [-1.9520e-07,  5.0992e-08, -7.7450e-07,  ...,  8.3833e-08,\n",
       "             2.4103e-08, -1.6809e-08],\n",
       "           [-3.2421e-07,  2.8720e-08,  1.6501e-07,  ..., -6.7770e-08,\n",
       "            -1.1278e-08,  1.7338e-07],\n",
       "           ...,\n",
       "           [-5.3895e-10, -3.5071e-08,  1.1234e-07,  ..., -5.7805e-09,\n",
       "             1.0632e-07,  5.8093e-10],\n",
       "           [-6.7199e-08,  1.2807e-07,  5.0682e-08,  ...,  5.3757e-08,\n",
       "             9.3212e-08, -2.0515e-07],\n",
       "           [-2.0426e-08, -3.0040e-08,  6.9529e-08,  ..., -9.7115e-09,\n",
       "            -1.4154e-08,  1.5395e-08]]], grad_fn=<MulBackward0>),\n",
       "  tensor([[[-2.4202e-07, -1.5523e-09, -7.3685e-09,  ..., -9.6453e-08,\n",
       "            -1.3691e-07, -5.8997e-08],\n",
       "           [ 1.5164e-08,  1.3118e-07, -9.4808e-08,  ...,  1.4065e-07,\n",
       "             4.4844e-09, -1.5077e-08],\n",
       "           [ 2.7195e-07, -1.3493e-06, -1.4704e-07,  ..., -2.0244e-08,\n",
       "             2.1669e-06,  4.7185e-07],\n",
       "           ...,\n",
       "           [ 4.3582e-08, -8.0560e-08,  8.9677e-08,  ..., -4.8396e-09,\n",
       "             7.1911e-09, -5.4767e-07],\n",
       "           [ 8.5458e-08,  1.3534e-06, -3.7094e-07,  ...,  2.6407e-07,\n",
       "            -5.4817e-07,  1.4840e-07],\n",
       "           [ 1.3865e-07,  9.6878e-08, -1.4348e-07,  ..., -3.2333e-08,\n",
       "             4.0058e-08,  2.8415e-11]]], grad_fn=<MulBackward0>),\n",
       "  tensor([[[-4.0158e-05,  1.3002e-06,  6.6862e-06,  ...,  9.3243e-06,\n",
       "            -1.2628e-06, -1.3411e-05],\n",
       "           [-2.7661e-05, -1.2662e-04, -1.4787e-05,  ..., -3.7595e-05,\n",
       "            -1.0838e-05,  6.1769e-06],\n",
       "           [-7.9152e-05, -1.5814e-04,  6.6080e-05,  ..., -2.8810e-05,\n",
       "            -6.6295e-05, -1.4331e-07],\n",
       "           ...,\n",
       "           [ 8.4280e-05,  2.3148e-05,  3.8648e-05,  ...,  2.2341e-05,\n",
       "             8.4058e-05, -5.4723e-07],\n",
       "           [-2.3561e-06,  1.4989e-04, -5.9971e-05,  ...,  1.6723e-06,\n",
       "            -2.6249e-05, -2.6853e-05],\n",
       "           [-3.5091e-06, -5.5754e-06,  9.9061e-06,  ..., -6.2960e-06,\n",
       "             7.2793e-06,  7.3523e-06]]], grad_fn=<MulBackward0>),\n",
       "  tensor([[[ 2.3118e-07,  5.7962e-07, -4.8249e-07,  ..., -1.3653e-07,\n",
       "             8.5986e-07,  6.3699e-07],\n",
       "           [-1.8115e-06, -1.6276e-07, -4.8594e-07,  ...,  3.0357e-06,\n",
       "             1.3371e-07, -1.5347e-06],\n",
       "           [-5.7606e-07, -5.7951e-07,  9.7052e-07,  ...,  2.0303e-06,\n",
       "             2.5096e-06,  1.4700e-06],\n",
       "           ...,\n",
       "           [-3.8137e-06,  2.5106e-06,  2.0208e-06,  ...,  3.5945e-07,\n",
       "            -2.1185e-07, -6.2215e-06],\n",
       "           [ 2.7793e-08,  1.0157e-06, -1.5569e-06,  ...,  2.7273e-06,\n",
       "             4.2283e-06,  6.6356e-06],\n",
       "           [ 2.0490e-06,  1.7000e-06,  1.4082e-06,  ...,  1.1938e-07,\n",
       "             1.7300e-07,  1.6515e-07]]], grad_fn=<MulBackward0>),\n",
       "  tensor([[[-1.9577e-07,  4.0880e-08, -1.8844e-10,  ...,  2.0208e-07,\n",
       "             8.9856e-09,  2.0524e-08],\n",
       "           [-4.1743e-09,  2.2617e-07, -1.2690e-08,  ..., -6.7860e-09,\n",
       "             5.0176e-07, -2.7198e-07],\n",
       "           [ 2.5685e-08, -9.7913e-08,  3.2244e-08,  ..., -7.9163e-07,\n",
       "             2.8815e-07, -8.5172e-08],\n",
       "           ...,\n",
       "           [ 1.1628e-06, -6.9986e-09, -1.8340e-07,  ...,  9.7098e-08,\n",
       "             8.2125e-08, -3.5100e-09],\n",
       "           [-3.3390e-08,  1.2347e-06, -1.2736e-06,  ..., -6.2037e-07,\n",
       "             3.0310e-07,  2.0563e-07],\n",
       "           [-2.6504e-08, -1.0326e-08,  1.3104e-07,  ...,  1.0667e-07,\n",
       "            -7.3884e-08,  4.6984e-08]]], grad_fn=<MulBackward0>),\n",
       "  tensor([[[ 1.2228e-08,  6.7679e-09,  7.9804e-09,  ...,  1.4521e-08,\n",
       "            -3.1821e-09, -8.9847e-09],\n",
       "           [-4.7281e-10, -9.0356e-08, -1.0886e-08,  ..., -9.0251e-09,\n",
       "             2.0697e-08,  8.7414e-08],\n",
       "           [-8.6893e-08,  5.5172e-09,  3.4741e-08,  ...,  1.5566e-08,\n",
       "            -1.2206e-08,  2.3037e-07],\n",
       "           ...,\n",
       "           [ 1.9896e-07, -4.2396e-09, -4.1532e-10,  ..., -9.3253e-09,\n",
       "            -1.7397e-08,  3.3498e-09],\n",
       "           [ 6.8761e-08,  4.2970e-07,  2.5440e-08,  ...,  1.4251e-07,\n",
       "             1.5705e-07,  3.1897e-07],\n",
       "           [-2.9298e-10,  8.7315e-09,  1.8096e-08,  ...,  1.0161e-11,\n",
       "            -2.3934e-09,  5.3027e-09]]], grad_fn=<MulBackward0>),\n",
       "  tensor([[[-4.7301e-07, -2.3151e-08, -7.3876e-08,  ..., -2.4582e-07,\n",
       "            -2.5740e-08,  2.0555e-07],\n",
       "           [-2.1513e-07, -8.6863e-09,  4.0345e-08,  ...,  1.3960e-08,\n",
       "             3.6625e-07, -2.5543e-08],\n",
       "           [ 3.7194e-07,  7.4784e-09, -2.5124e-07,  ...,  1.0678e-07,\n",
       "             4.4461e-09, -1.7959e-07],\n",
       "           ...,\n",
       "           [ 9.4589e-08, -2.9849e-07, -2.9080e-09,  ..., -5.2858e-08,\n",
       "            -4.6421e-07,  3.0111e-08],\n",
       "           [-1.4998e-08, -8.5583e-07, -2.8919e-07,  ...,  3.9135e-07,\n",
       "            -3.5804e-07, -3.6132e-07],\n",
       "           [ 2.5731e-07,  7.1293e-08,  7.4493e-08,  ..., -1.1243e-07,\n",
       "            -3.7405e-07,  5.0714e-08]]], grad_fn=<MulBackward0>),\n",
       "  tensor([[[-1.6287e-04,  2.9652e-05,  3.1564e-05,  ...,  1.3700e-05,\n",
       "             1.6531e-04,  5.8163e-05],\n",
       "           [ 1.4070e-05, -3.3444e-04, -1.4291e-04,  ...,  3.4904e-05,\n",
       "            -1.5724e-04,  7.5091e-04],\n",
       "           [ 7.1791e-05,  1.2171e-04, -8.3625e-05,  ..., -3.9587e-04,\n",
       "            -4.1984e-05, -1.2102e-04],\n",
       "           ...,\n",
       "           [ 5.1756e-04, -2.1172e-04, -4.9363e-05,  ..., -1.2169e-04,\n",
       "             6.3384e-05, -4.0927e-05],\n",
       "           [-1.3364e-05, -2.9783e-04,  3.2909e-05,  ..., -6.2789e-05,\n",
       "             2.7244e-04, -3.4433e-04],\n",
       "           [-9.9132e-05, -1.0184e-04,  2.6510e-05,  ...,  1.0033e-04,\n",
       "            -9.2783e-05, -2.6810e-05]]], grad_fn=<MulBackward0>),\n",
       "  tensor([[[-1.3852e-05, -1.4021e-06, -3.6339e-06,  ..., -1.7428e-05,\n",
       "            -1.2048e-06, -6.7304e-06],\n",
       "           [ 2.4336e-05,  2.7597e-05, -1.5377e-06,  ..., -1.2652e-05,\n",
       "             1.1525e-06,  1.8972e-05],\n",
       "           [-1.1663e-05, -1.0630e-04,  8.1031e-07,  ...,  2.9921e-05,\n",
       "            -5.5404e-07,  3.8310e-05],\n",
       "           ...,\n",
       "           [-5.0184e-05, -7.4453e-07, -2.5447e-05,  ...,  5.1458e-05,\n",
       "            -2.3172e-06,  6.2745e-06],\n",
       "           [-2.4910e-06, -7.9400e-05, -4.6140e-05,  ...,  1.9972e-05,\n",
       "             3.6663e-05, -7.7903e-05],\n",
       "           [ 1.9697e-06, -1.9902e-05,  1.0449e-05,  ...,  7.4650e-07,\n",
       "            -8.5538e-06,  5.9280e-07]]], grad_fn=<MulBackward0>),\n",
       "  tensor([[[ 1.6340e-07, -3.6479e-08, -3.6844e-08,  ..., -7.9184e-09,\n",
       "             3.7841e-08,  1.4784e-08],\n",
       "           [-1.1775e-06, -1.6850e-06,  3.4514e-07,  ...,  4.9250e-08,\n",
       "            -5.3742e-08,  5.2692e-07],\n",
       "           [-1.2041e-07, -2.1305e-07,  5.3942e-07,  ...,  1.1432e-07,\n",
       "            -1.1993e-08, -4.5020e-07],\n",
       "           ...,\n",
       "           [ 6.7036e-08, -3.8737e-07,  1.9813e-07,  ..., -2.0975e-09,\n",
       "             1.3557e-08,  9.9234e-08],\n",
       "           [-5.8499e-08, -8.4638e-07, -1.4142e-07,  ...,  6.3963e-08,\n",
       "            -5.7182e-07,  9.9413e-07],\n",
       "           [ 4.8939e-07, -4.7222e-08,  8.0003e-08,  ...,  1.5016e-07,\n",
       "             1.5939e-08,  2.3173e-08]]], grad_fn=<MulBackward0>),\n",
       "  tensor([[[-1.3915e-04,  2.2727e-05, -7.4216e-06,  ..., -6.8003e-05,\n",
       "             7.0837e-05,  1.5956e-05],\n",
       "           [-4.2031e-05, -1.2857e-04,  2.3810e-04,  ..., -8.8077e-05,\n",
       "            -8.6613e-05, -2.3867e-04],\n",
       "           [-4.5223e-05,  2.5436e-05, -9.6430e-06,  ..., -4.8319e-07,\n",
       "             3.0837e-05, -8.2189e-05],\n",
       "           [-4.5698e-04, -4.8245e-05,  3.3893e-04,  ...,  2.8488e-04,\n",
       "             5.0785e-05, -8.5801e-05],\n",
       "           [ 2.5324e-06,  4.2348e-04,  5.1940e-05,  ...,  5.4728e-05,\n",
       "             3.3011e-04, -3.7618e-04],\n",
       "           [-2.1012e-05,  8.5633e-05, -3.5549e-05,  ..., -5.9435e-05,\n",
       "            -1.8003e-04, -1.9812e-06]]], grad_fn=<MulBackward0>),\n",
       "  tensor([[[ 7.2819e-05,  1.0194e-05, -7.5607e-06,  ..., -1.4965e-05,\n",
       "             2.7318e-05, -1.1681e-05],\n",
       "           [-3.8367e-06,  6.3867e-07, -1.7062e-05,  ..., -2.2803e-08,\n",
       "            -3.4548e-06,  1.2781e-05],\n",
       "           [ 1.6346e-04, -5.7955e-06,  1.3584e-04,  ...,  2.6688e-05,\n",
       "             3.3961e-06,  6.9948e-05],\n",
       "           [ 8.9715e-05, -6.9366e-06,  1.9658e-05,  ..., -4.4608e-07,\n",
       "            -1.5889e-05,  7.0747e-06],\n",
       "           [ 2.6584e-07,  8.6809e-05,  9.2553e-05,  ..., -9.9320e-05,\n",
       "             6.3253e-05,  7.9996e-05],\n",
       "           [-2.2019e-05,  2.2776e-05,  7.3425e-06,  ...,  2.6646e-05,\n",
       "            -5.2484e-05, -7.4034e-06]]], grad_fn=<MulBackward0>),\n",
       "  tensor([[[ 2.3158e-08, -4.1637e-09, -8.4056e-09,  ..., -5.2560e-08,\n",
       "            -1.1390e-08, -1.6251e-08],\n",
       "           [ 7.2232e-09, -9.9944e-08,  5.7592e-08,  ..., -3.4965e-08,\n",
       "            -8.9426e-09,  1.6843e-08],\n",
       "           [ 1.8079e-08, -8.3756e-08,  8.5202e-09,  ..., -1.6313e-08,\n",
       "            -1.1557e-08,  9.0396e-09],\n",
       "           ...,\n",
       "           [-2.2011e-08,  2.6110e-08, -1.2386e-08,  ...,  6.1616e-09,\n",
       "             3.8495e-10,  3.1264e-08],\n",
       "           [ 3.3024e-09,  4.6428e-07,  3.2223e-07,  ..., -5.6096e-08,\n",
       "             1.8577e-07, -1.6740e-07],\n",
       "           [ 4.1003e-09,  4.2606e-08,  8.1753e-08,  ..., -3.2551e-09,\n",
       "             5.2609e-08, -4.7559e-10]]], grad_fn=<MulBackward0>),\n",
       "  tensor([[[ 8.0901e-09, -1.9624e-09,  1.1216e-09,  ..., -2.6094e-10,\n",
       "            -3.2058e-08,  7.3072e-09],\n",
       "           [-7.4194e-10, -2.3644e-08,  3.5585e-11,  ..., -2.3754e-08,\n",
       "            -8.6263e-08,  2.0158e-08],\n",
       "           [-1.9958e-09, -7.1036e-09, -5.3170e-10,  ..., -3.7492e-09,\n",
       "            -1.8168e-09, -2.0415e-08],\n",
       "           ...,\n",
       "           [-3.6394e-08, -8.6249e-09, -3.0042e-08,  ...,  4.9098e-10,\n",
       "            -6.9432e-09,  7.4793e-08],\n",
       "           [ 2.9205e-08, -1.0020e-07, -1.0714e-08,  ...,  5.8426e-08,\n",
       "            -2.0749e-08, -1.4030e-08],\n",
       "           [-1.6718e-08,  2.9325e-09, -1.8135e-08,  ...,  1.0005e-08,\n",
       "             1.3632e-08, -1.7247e-09]]], grad_fn=<MulBackward0>),\n",
       "  tensor([[[-3.6714e-09, -5.3164e-08, -9.1261e-09,  ..., -6.8579e-08,\n",
       "            -1.3997e-08,  1.4050e-08],\n",
       "           [ 2.7845e-08,  2.1705e-08, -6.2199e-08,  ...,  5.4194e-08,\n",
       "             8.4538e-08, -3.8191e-08],\n",
       "           [-7.0893e-09,  3.2919e-07, -3.3216e-07,  ...,  1.9003e-07,\n",
       "            -8.9996e-09,  1.4638e-07],\n",
       "           ...,\n",
       "           [-2.7604e-08, -3.2215e-07,  1.5318e-09,  ..., -1.7709e-08,\n",
       "            -1.3470e-08,  3.2194e-07],\n",
       "           [-5.2976e-08,  5.8594e-07, -1.5406e-07,  ..., -2.7121e-08,\n",
       "             2.8424e-07,  6.1291e-07],\n",
       "           [-3.8539e-08, -2.3166e-08,  5.4458e-08,  ...,  1.1156e-07,\n",
       "            -3.4720e-08,  1.5296e-08]]], grad_fn=<MulBackward0>),\n",
       "  tensor([[[-3.0471e-05,  2.6636e-06, -3.6813e-05,  ..., -2.2910e-05,\n",
       "            -8.5666e-05,  6.3190e-05],\n",
       "           [-1.0098e-05, -7.1079e-04, -1.5776e-04,  ..., -1.3338e-04,\n",
       "            -2.2355e-05,  2.4005e-04],\n",
       "           [-1.9727e-03, -1.2907e-03, -1.0511e-05,  ...,  2.0922e-03,\n",
       "             7.7928e-04,  6.8690e-04],\n",
       "           [-2.1118e-05, -2.2994e-05, -1.0374e-04,  ..., -2.9971e-04,\n",
       "             5.0728e-04,  7.4977e-04],\n",
       "           [-3.8787e-06,  3.0947e-04, -8.9032e-05,  ..., -1.3778e-03,\n",
       "            -9.7428e-04, -2.1916e-03],\n",
       "           [-2.9613e-04, -8.1220e-04,  1.0052e-04,  ..., -1.4378e-05,\n",
       "            -2.2745e-04,  6.0811e-05]]], grad_fn=<MulBackward0>),\n",
       "  tensor([[[-1.4612e-07, -7.4534e-09,  8.8460e-09,  ..., -1.5080e-07,\n",
       "            -6.5926e-07,  9.4306e-08],\n",
       "           [-1.7333e-08,  6.9734e-07,  5.8184e-09,  ..., -1.3806e-06,\n",
       "            -9.0016e-09,  3.9659e-07],\n",
       "           [ 2.0229e-06, -8.2674e-07,  1.1900e-07,  ...,  7.0022e-07,\n",
       "            -5.8443e-07, -3.2609e-07],\n",
       "           ...,\n",
       "           [-5.1184e-07, -5.2729e-07,  2.6125e-07,  ...,  3.6271e-09,\n",
       "            -1.5989e-08,  7.2948e-07],\n",
       "           [ 2.9932e-07,  2.8714e-06, -5.8939e-07,  ..., -9.1557e-07,\n",
       "             2.0721e-07, -2.1649e-07],\n",
       "           [-1.0577e-08,  1.0956e-07, -2.7844e-07,  ...,  1.8246e-07,\n",
       "             9.2311e-08, -8.2517e-09]]], grad_fn=<MulBackward0>),\n",
       "  tensor([[[-0.0326,  0.0033,  0.0008,  ..., -0.0108,  0.0005,  0.0075],\n",
       "           [-0.0148,  0.0027,  0.0294,  ..., -0.0168, -0.0274,  0.0063],\n",
       "           [-0.1070,  0.0001,  0.0093,  ..., -0.0185, -0.0393,  0.0105],\n",
       "           [-0.0038, -0.0449,  0.0014,  ..., -0.0241,  0.0057,  0.0625],\n",
       "           [-0.0174, -0.0054, -0.0009,  ..., -0.0018,  0.0144, -0.0023]]],\n",
       "         grad_fn=<MulBackward0>),\n",
       "  tensor([[[ 5.2600e-09, -1.7101e-10, -5.8770e-09,  ...,  1.8335e-08,\n",
       "             3.2822e-09,  4.8544e-09],\n",
       "           [ 1.1668e-07,  1.0181e-07, -1.4455e-08,  ...,  2.6924e-08,\n",
       "            -7.2379e-09, -2.0239e-07],\n",
       "           [-3.0325e-07, -6.6829e-08,  4.3172e-09,  ..., -4.6043e-08,\n",
       "             2.4931e-07,  3.7832e-07],\n",
       "           ...,\n",
       "           [-3.7411e-08, -1.5688e-09, -2.9644e-09,  ...,  1.3231e-07,\n",
       "            -1.8268e-10,  3.5599e-08],\n",
       "           [ 4.4081e-09, -6.6605e-08, -2.8797e-08,  ...,  1.3427e-07,\n",
       "             4.8859e-08,  3.8738e-07],\n",
       "           [-1.2781e-08,  1.8500e-09,  2.2965e-08,  ...,  1.1223e-08,\n",
       "            -4.4037e-08,  4.9858e-09]]], grad_fn=<MulBackward0>),\n",
       "  tensor([[[ 2.8673e-07,  4.0791e-08,  3.7695e-08,  ...,  3.1641e-08,\n",
       "            -2.7422e-07, -6.7808e-08],\n",
       "           [-6.2777e-07,  2.7357e-09, -5.5312e-08,  ..., -8.8605e-08,\n",
       "            -5.3146e-07, -1.6982e-07],\n",
       "           [-3.8027e-07,  2.7699e-06, -1.4708e-07,  ...,  9.6056e-07,\n",
       "             4.8043e-07, -5.9194e-07],\n",
       "           ...,\n",
       "           [-1.0645e-07,  2.0096e-07, -3.4958e-07,  ...,  1.2265e-07,\n",
       "            -2.1791e-08, -7.4446e-08],\n",
       "           [ 3.1435e-07,  1.7187e-06,  6.4917e-07,  ..., -6.5432e-07,\n",
       "             5.1943e-07, -7.5159e-07],\n",
       "           [-8.6781e-08,  2.9771e-08,  3.0154e-08,  ...,  3.9685e-08,\n",
       "            -2.3476e-07,  1.5531e-08]]], grad_fn=<MulBackward0>),\n",
       "  tensor([[[-3.2612e-06,  3.0517e-06, -2.0877e-06,  ...,  1.8420e-05,\n",
       "            -2.6657e-05,  4.6648e-07],\n",
       "           [-4.0837e-06, -4.6540e-06, -9.1898e-06,  ...,  2.9995e-07,\n",
       "             8.2267e-07,  5.7255e-05],\n",
       "           [-4.0737e-06, -1.4989e-05, -2.7651e-04,  ...,  8.0705e-05,\n",
       "             7.7508e-05,  1.5587e-05],\n",
       "           ...,\n",
       "           [-1.4499e-05,  4.7632e-05, -1.5352e-06,  ..., -4.1769e-07,\n",
       "             2.9784e-06,  1.8238e-05],\n",
       "           [ 2.6140e-06, -1.8838e-05, -8.0701e-05,  ...,  2.0858e-05,\n",
       "             8.0310e-06,  5.3763e-05],\n",
       "           [-5.6193e-06,  5.0757e-06,  4.4966e-07,  ...,  2.9884e-06,\n",
       "             1.3746e-05, -2.3961e-08]]], grad_fn=<MulBackward0>),\n",
       "  tensor([[[ 8.5907e-10,  3.2446e-09, -2.4352e-09,  ..., -5.6310e-09,\n",
       "             3.3102e-09, -9.5610e-09],\n",
       "           [-1.4741e-08, -2.6255e-08, -5.6547e-08,  ..., -4.8665e-08,\n",
       "            -1.7030e-08,  6.6303e-08],\n",
       "           [-8.5405e-08,  2.0851e-08, -1.2682e-08,  ..., -5.9237e-08,\n",
       "            -3.0358e-08,  4.0985e-09],\n",
       "           ...,\n",
       "           [ 1.0592e-08, -4.1594e-09, -3.9757e-09,  ..., -1.1150e-08,\n",
       "             1.9033e-09, -6.3335e-08],\n",
       "           [ 9.5393e-10,  2.1838e-07, -7.4836e-08,  ...,  6.7701e-08,\n",
       "             3.1143e-08,  3.2204e-07],\n",
       "           [ 1.5990e-08,  9.0670e-09, -1.9468e-08,  ..., -1.2201e-08,\n",
       "             8.2648e-09,  1.1431e-09]]], grad_fn=<MulBackward0>),\n",
       "  tensor([[[ 3.7467e-09, -6.3485e-09, -1.2192e-09,  ...,  1.8580e-09,\n",
       "             5.8561e-09,  1.3952e-08],\n",
       "           [ 1.3006e-08, -4.6626e-09, -1.5169e-08,  ..., -2.1655e-08,\n",
       "            -1.0635e-08, -2.8467e-09],\n",
       "           [ 2.7186e-09, -1.8770e-08,  3.2065e-08,  ...,  2.9695e-08,\n",
       "             1.1498e-10,  2.1275e-07],\n",
       "           ...,\n",
       "           [-6.4671e-09,  3.6303e-08, -1.2614e-08,  ..., -5.2245e-08,\n",
       "            -1.7892e-08, -2.9759e-08],\n",
       "           [-5.1563e-09,  7.7132e-08, -1.3807e-08,  ...,  3.8185e-08,\n",
       "             2.3755e-08,  5.0722e-08],\n",
       "           [-1.1375e-08,  1.4574e-09, -2.2381e-09,  ...,  1.9785e-09,\n",
       "             2.4731e-09, -1.5671e-09]]], grad_fn=<MulBackward0>),\n",
       "  tensor([[[-2.1017e-06,  1.8925e-06,  2.7876e-06,  ..., -1.3891e-06,\n",
       "            -3.0354e-06, -2.1194e-07],\n",
       "           [-2.1943e-06,  2.7633e-06,  4.3100e-08,  ...,  7.5035e-07,\n",
       "            -1.3416e-06, -8.6141e-06],\n",
       "           [-3.6434e-05, -4.1915e-06, -3.8581e-06,  ..., -2.0606e-06,\n",
       "             8.0072e-06,  3.5845e-06],\n",
       "           [ 1.2384e-06,  1.7072e-06, -6.4110e-06,  ...,  1.4291e-07,\n",
       "            -1.5833e-06, -1.2833e-06],\n",
       "           [ 8.7830e-08, -4.1760e-06,  1.4058e-06,  ..., -5.2383e-06,\n",
       "             1.6184e-05,  3.1380e-05],\n",
       "           [ 4.2683e-07,  1.8445e-06, -2.7796e-06,  ...,  4.0999e-06,\n",
       "            -4.6477e-06, -2.5355e-07]]], grad_fn=<MulBackward0>),\n",
       "  tensor([[[ 1.0452e-05, -4.1545e-07,  2.8727e-06,  ..., -1.6907e-06,\n",
       "            -8.1173e-06,  2.9770e-06],\n",
       "           [-2.7266e-07,  1.5240e-05, -9.1998e-06,  ..., -1.5104e-07,\n",
       "             5.3001e-07, -1.1337e-05],\n",
       "           [-1.5824e-05,  4.0293e-06,  3.9983e-06,  ...,  5.5374e-07,\n",
       "            -8.2183e-06, -4.9212e-06],\n",
       "           ...,\n",
       "           [-8.3961e-06,  3.3894e-05, -1.6711e-07,  ..., -4.5910e-07,\n",
       "             2.1137e-06,  4.2884e-06],\n",
       "           [-2.9615e-06, -7.0617e-06,  1.3418e-05,  ...,  1.4963e-05,\n",
       "             4.3449e-07,  1.0040e-05],\n",
       "           [-2.3912e-06, -1.6701e-06, -2.5233e-06,  ..., -2.0541e-07,\n",
       "            -9.7308e-08, -6.8587e-07]]], grad_fn=<MulBackward0>),\n",
       "  tensor([[[-5.7407e-06, -2.0194e-07, -6.4312e-07,  ...,  9.3982e-07,\n",
       "            -2.8383e-06,  1.5258e-06],\n",
       "           [-2.0788e-06,  2.8253e-05,  1.2080e-05,  ..., -3.3351e-06,\n",
       "            -7.0976e-06, -5.2086e-06],\n",
       "           [-2.2385e-05, -3.2617e-06,  4.2858e-07,  ..., -1.4468e-07,\n",
       "             4.7353e-07, -4.0278e-06],\n",
       "           [-2.4417e-06,  8.8780e-06,  2.4559e-05,  ...,  1.4378e-05,\n",
       "             4.8331e-07, -4.8184e-06],\n",
       "           [-6.1023e-06, -5.0401e-07,  1.6940e-06,  ..., -2.1054e-06,\n",
       "             3.0787e-06,  4.6885e-07]]], grad_fn=<MulBackward0>),\n",
       "  tensor([[[-8.6674e-07,  1.8961e-07,  1.1564e-07,  ..., -3.0987e-07,\n",
       "            -6.3861e-07, -6.2583e-07],\n",
       "           [-4.7857e-06,  2.8221e-07,  7.1857e-07,  ...,  5.7698e-08,\n",
       "            -3.5274e-06, -3.2296e-06],\n",
       "           [ 1.7729e-06,  2.1080e-07,  7.2920e-07,  ...,  3.5237e-07,\n",
       "             1.3791e-06,  3.5736e-06],\n",
       "           [-3.4100e-07,  3.3062e-07,  1.1317e-06,  ...,  1.6497e-06,\n",
       "             7.0367e-06, -6.4140e-08],\n",
       "           [ 5.0171e-08,  1.3332e-05, -1.6964e-06,  ..., -2.1306e-06,\n",
       "            -4.9694e-07,  2.8613e-06],\n",
       "           [ 8.9248e-07,  1.8008e-06,  9.1669e-07,  ...,  8.0834e-07,\n",
       "             9.1795e-07, -3.0115e-07]]], grad_fn=<MulBackward0>),\n",
       "  tensor([[[-3.4008e-07, -8.3715e-09,  7.5454e-09,  ..., -8.6611e-08,\n",
       "            -2.5841e-08,  3.9253e-08],\n",
       "           [-2.4332e-07, -7.1069e-09,  3.4066e-07,  ..., -9.7647e-08,\n",
       "             2.2808e-07, -1.9737e-07],\n",
       "           [ 1.9789e-07,  3.8669e-07, -8.7800e-07,  ...,  2.0130e-07,\n",
       "            -3.5373e-07,  7.2085e-08],\n",
       "           ...,\n",
       "           [-7.5418e-08,  1.8850e-07, -1.3603e-08,  ..., -8.1936e-09,\n",
       "            -1.7881e-08,  1.1813e-07],\n",
       "           [ 1.3052e-08, -5.8341e-07,  7.8600e-07,  ..., -1.0836e-07,\n",
       "            -2.4004e-07,  4.5206e-07],\n",
       "           [-2.2055e-07,  1.0685e-07, -5.6940e-08,  ..., -3.9154e-08,\n",
       "             7.5573e-08,  2.1874e-08]]], grad_fn=<MulBackward0>),\n",
       "  tensor([[[ 5.0230e-07, -8.0118e-08, -4.5646e-08,  ...,  8.9419e-08,\n",
       "             2.4364e-07,  8.5265e-08],\n",
       "           [ 1.0225e-07, -1.6650e-07, -6.6147e-07,  ...,  3.2215e-07,\n",
       "            -2.0621e-07,  9.8271e-07],\n",
       "           [-5.4183e-07,  1.9958e-06,  7.8118e-07,  ...,  1.3677e-07,\n",
       "            -2.9396e-07, -7.0970e-07],\n",
       "           ...,\n",
       "           [ 5.1639e-08, -8.5064e-08, -3.8738e-07,  ...,  1.2098e-07,\n",
       "             1.0566e-06,  4.7523e-07],\n",
       "           [ 6.6177e-08, -1.8267e-07,  1.2549e-07,  ...,  1.9195e-07,\n",
       "            -1.9617e-07,  4.4358e-08],\n",
       "           [ 6.3298e-08, -7.7660e-08,  8.1650e-08,  ..., -1.1433e-07,\n",
       "             2.8351e-07, -4.8974e-08]]], grad_fn=<MulBackward0>),\n",
       "  tensor([[[-2.5462e-05,  5.3266e-06,  6.2996e-06,  ...,  1.0478e-05,\n",
       "            -7.7805e-06, -3.9582e-06],\n",
       "           [-1.1779e-06, -9.1612e-06,  1.4736e-07,  ..., -2.1611e-06,\n",
       "            -7.3429e-07,  1.7515e-05],\n",
       "           [ 3.0052e-05, -3.0634e-05,  5.1650e-05,  ..., -1.3662e-05,\n",
       "             1.1672e-04,  1.8518e-05],\n",
       "           ...,\n",
       "           [ 1.7815e-06, -3.5969e-07, -2.5551e-06,  ..., -1.8585e-05,\n",
       "            -5.4844e-06, -6.0702e-06],\n",
       "           [-1.2946e-08,  2.6003e-05,  3.2554e-06,  ...,  5.2222e-06,\n",
       "            -1.5498e-05, -6.1524e-06],\n",
       "           [-1.9401e-06, -4.4476e-06,  3.5434e-06,  ...,  2.6892e-07,\n",
       "             1.5883e-05, -1.9620e-06]]], grad_fn=<MulBackward0>),\n",
       "  tensor([[[-4.1793e-09,  9.4833e-09, -9.3343e-09,  ..., -1.4440e-08,\n",
       "             2.3826e-08, -4.5239e-09],\n",
       "           [ 4.2222e-08, -2.4039e-08, -4.3103e-07,  ..., -1.9707e-08,\n",
       "             4.3316e-08,  1.2969e-07],\n",
       "           [ 9.5663e-09, -1.7014e-08,  5.8531e-08,  ...,  1.0802e-08,\n",
       "             4.7542e-08,  2.2640e-08],\n",
       "           ...,\n",
       "           [-1.6211e-07, -1.1704e-07, -7.2685e-09,  ...,  5.5217e-08,\n",
       "            -1.3973e-08, -5.5464e-08],\n",
       "           [-2.5435e-10, -7.8019e-08, -7.5355e-08,  ..., -1.9253e-08,\n",
       "            -3.6807e-08, -3.1965e-09],\n",
       "           [-1.0562e-08, -6.5930e-08, -5.7438e-09,  ..., -4.7178e-08,\n",
       "            -7.5622e-09, -4.2165e-08]]], grad_fn=<MulBackward0>),\n",
       "  tensor([[[ 3.8245e-06,  2.4284e-07, -2.3736e-06,  ..., -4.4851e-07,\n",
       "             2.1665e-06, -8.0704e-07],\n",
       "           [ 3.4450e-07, -2.3658e-06, -4.6414e-07,  ..., -2.5083e-06,\n",
       "             2.2466e-06, -8.4275e-06],\n",
       "           [ 1.8249e-06, -2.7766e-06, -2.1998e-06,  ..., -8.1702e-06,\n",
       "            -2.3718e-06,  1.1682e-05],\n",
       "           ...,\n",
       "           [ 1.7605e-08,  9.3160e-07, -8.3761e-06,  ...,  3.2362e-07,\n",
       "            -6.1851e-07,  7.5176e-06],\n",
       "           [ 3.2448e-07,  1.2526e-05,  3.0242e-06,  ...,  1.8004e-06,\n",
       "             6.5970e-06,  1.8238e-05],\n",
       "           [-7.6938e-07,  1.5816e-06,  8.6040e-07,  ..., -2.4277e-06,\n",
       "            -1.7171e-06,  2.5629e-06]]], grad_fn=<MulBackward0>),\n",
       "  tensor([[[-4.9733e-08,  1.1954e-08, -6.1425e-10,  ..., -1.1790e-08,\n",
       "            -1.5460e-08, -1.8858e-08],\n",
       "           [-1.3234e-08, -4.4767e-08,  8.9148e-08,  ..., -3.7513e-08,\n",
       "             5.6157e-09,  1.0347e-07],\n",
       "           [-4.7560e-08,  7.7646e-08, -1.8549e-08,  ..., -8.2698e-09,\n",
       "             1.5223e-07,  4.8068e-09],\n",
       "           ...,\n",
       "           [-1.1317e-07,  3.0334e-07,  1.0836e-06,  ..., -1.0280e-07,\n",
       "            -1.9178e-07,  1.5297e-08],\n",
       "           [-1.4222e-08,  1.2189e-07,  5.2635e-09,  ...,  1.5143e-07,\n",
       "             7.4127e-08, -1.6470e-07],\n",
       "           [-1.6860e-09,  2.3235e-08, -6.0981e-08,  ..., -1.9891e-08,\n",
       "             2.2018e-08, -1.0183e-08]]], grad_fn=<MulBackward0>),\n",
       "  tensor([[[-2.6257e-08,  7.7116e-09, -1.0416e-09,  ..., -1.3192e-08,\n",
       "            -4.2416e-10,  1.1172e-09],\n",
       "           [-8.9414e-09,  4.3650e-10, -4.9211e-10,  ..., -9.5609e-08,\n",
       "             5.4588e-10, -6.1043e-10],\n",
       "           [ 4.1106e-08, -9.9708e-09,  1.6713e-08,  ...,  7.3244e-09,\n",
       "             1.5977e-08,  1.5547e-07],\n",
       "           ...,\n",
       "           [ 1.9126e-08,  2.1937e-07,  9.9674e-09,  ..., -8.3933e-09,\n",
       "            -9.1589e-08,  5.8177e-08],\n",
       "           [ 4.5335e-09,  2.0945e-06, -4.0621e-07,  ..., -4.7616e-08,\n",
       "             1.7327e-07,  1.0156e-06],\n",
       "           [-4.0907e-08, -5.0977e-09, -4.2238e-08,  ..., -9.4944e-09,\n",
       "            -4.6033e-09, -2.7156e-08]]], grad_fn=<MulBackward0>),\n",
       "  tensor([[[-3.1103e-06,  3.8803e-06, -3.0337e-06,  ...,  7.1736e-06,\n",
       "            -9.4922e-07, -9.0911e-08],\n",
       "           [-1.2019e-05, -8.8089e-06,  5.6386e-06,  ...,  5.4116e-07,\n",
       "             9.1272e-06,  5.8131e-05],\n",
       "           [ 3.9238e-07,  4.3068e-05, -4.0440e-06,  ..., -2.2172e-06,\n",
       "             1.6834e-06,  8.4773e-06],\n",
       "           ...,\n",
       "           [-1.2163e-05,  5.0975e-06, -2.9808e-06,  ...,  7.1563e-07,\n",
       "            -1.0748e-05,  1.8565e-07],\n",
       "           [ 2.1918e-07, -2.6783e-05,  7.8547e-07,  ...,  6.1144e-06,\n",
       "            -1.1485e-05,  1.1549e-05],\n",
       "           [-3.8543e-09,  2.7983e-06,  3.4995e-06,  ..., -6.3908e-06,\n",
       "             1.1767e-06, -1.0648e-06]]], grad_fn=<MulBackward0>),\n",
       "  tensor([[[-7.9258e-08, -5.9688e-09,  2.6449e-08,  ...,  3.0353e-08,\n",
       "            -4.1008e-08, -2.5264e-08],\n",
       "           [-2.8024e-08,  2.3269e-09, -1.7600e-08,  ...,  5.5663e-08,\n",
       "            -6.8791e-09, -1.5698e-08],\n",
       "           [-1.3721e-08, -6.3450e-08, -1.5931e-08,  ...,  4.8520e-08,\n",
       "            -2.8644e-08, -5.9440e-10],\n",
       "           ...,\n",
       "           [-1.3538e-08,  3.4571e-07,  4.7914e-08,  ...,  1.6693e-08,\n",
       "             5.1531e-09,  3.4463e-07],\n",
       "           [ 2.1775e-07, -4.3542e-08, -7.0019e-08,  ...,  3.6023e-07,\n",
       "             1.1554e-07,  1.1624e-07],\n",
       "           [-3.5228e-09,  5.5523e-08,  8.0463e-08,  ...,  7.5807e-09,\n",
       "            -1.4200e-08, -1.0178e-08]]], grad_fn=<MulBackward0>),\n",
       "  tensor([[[ 0.0130,  0.0029,  0.0074,  ..., -0.0039, -0.0123,  0.0008],\n",
       "           [ 0.0038, -0.0044, -0.0189,  ..., -0.0069, -0.0006,  0.0437],\n",
       "           [-0.0064, -0.0095,  0.0106,  ..., -0.0049,  0.0295,  0.0005],\n",
       "           ...,\n",
       "           [ 0.0234, -0.0197,  0.0005,  ...,  0.0090,  0.0216, -0.0201],\n",
       "           [ 0.0020, -0.0575, -0.0312,  ...,  0.0149,  0.0279,  0.0191],\n",
       "           [-0.0114, -0.0109, -0.0167,  ...,  0.0061, -0.0029,  0.0049]]],\n",
       "         grad_fn=<MulBackward0>),\n",
       "  tensor([[[-1.0547e-06, -2.3772e-06,  5.8961e-07,  ..., -1.5491e-07,\n",
       "            -3.5197e-06,  8.1488e-07],\n",
       "           [-3.2255e-06,  1.2826e-05,  1.1049e-06,  ..., -1.6756e-07,\n",
       "             8.5390e-06,  3.4319e-06],\n",
       "           [ 7.7471e-06, -2.2015e-05, -1.3157e-05,  ..., -9.5066e-07,\n",
       "            -7.5686e-06, -1.4593e-05],\n",
       "           ...,\n",
       "           [ 4.0336e-05, -5.0077e-07,  3.8078e-06,  ..., -2.3646e-07,\n",
       "            -3.6040e-06,  1.9787e-07],\n",
       "           [-7.4127e-06, -1.2816e-05,  5.2736e-06,  ...,  5.5824e-06,\n",
       "            -8.8362e-06, -1.0129e-05],\n",
       "           [-3.4108e-08,  1.2534e-06, -4.7655e-06,  ..., -3.1416e-07,\n",
       "             3.0179e-06,  3.2458e-07]]], grad_fn=<MulBackward0>),\n",
       "  tensor([[[ 3.6170e-08,  3.0177e-08,  1.0733e-07,  ...,  3.9930e-08,\n",
       "            -1.6053e-07, -2.1057e-07],\n",
       "           [-1.4556e-07,  4.4314e-07,  2.7827e-09,  ...,  1.7530e-06,\n",
       "            -4.8369e-07, -1.2570e-07],\n",
       "           [-6.0177e-08, -4.6179e-08, -3.3409e-07,  ..., -4.5953e-07,\n",
       "            -9.8206e-08, -7.2928e-09],\n",
       "           ...,\n",
       "           [-1.0500e-07,  1.2136e-07,  1.6739e-07,  ...,  7.1777e-08,\n",
       "            -1.2148e-07,  3.4828e-07],\n",
       "           [ 1.7168e-07, -1.9646e-07,  2.0526e-09,  ...,  4.9341e-07,\n",
       "             3.3242e-07, -3.3778e-07],\n",
       "           [-2.5740e-08,  4.9086e-08, -4.4523e-08,  ..., -4.7311e-08,\n",
       "             1.6150e-07,  2.8082e-08]]], grad_fn=<MulBackward0>),\n",
       "  tensor([[[-7.9515e-05,  2.0544e-06, -1.4830e-05,  ...,  2.7895e-05,\n",
       "             4.9882e-06,  5.3805e-06],\n",
       "           [ 1.2821e-05,  1.0531e-06, -2.1905e-05,  ...,  1.5646e-07,\n",
       "             1.0049e-05, -2.1916e-05],\n",
       "           [ 9.7663e-06, -3.3051e-06, -1.1228e-05,  ...,  6.0486e-05,\n",
       "             1.2895e-05, -2.6991e-05],\n",
       "           ...,\n",
       "           [-6.0941e-05,  3.3708e-05, -3.9151e-05,  ...,  1.2723e-05,\n",
       "             1.4412e-04, -2.0304e-05],\n",
       "           [ 5.2518e-06, -5.0745e-05,  3.7582e-05,  ...,  1.0634e-04,\n",
       "             2.3614e-05,  1.0974e-05],\n",
       "           [-1.0543e-05, -2.4790e-05, -2.0958e-05,  ..., -3.8401e-05,\n",
       "            -2.0069e-05, -1.4123e-06]]], grad_fn=<MulBackward0>),\n",
       "  tensor([[[-1.0750e-07, -3.0217e-09,  1.4053e-09,  ..., -6.2488e-10,\n",
       "            -5.6338e-08, -2.2618e-08],\n",
       "           [-6.0008e-08,  1.9342e-07,  1.5434e-07,  ..., -3.2256e-08,\n",
       "             1.2437e-07, -3.3175e-07],\n",
       "           [ 5.5034e-10,  1.4651e-07, -1.5371e-08,  ...,  4.3497e-08,\n",
       "             5.1497e-08,  1.4039e-07],\n",
       "           ...,\n",
       "           [ 8.2983e-09, -3.1990e-07, -1.2233e-07,  ...,  1.3132e-07,\n",
       "            -3.5939e-07,  2.2638e-07],\n",
       "           [ 1.3962e-08,  2.0569e-08,  5.7597e-10,  ..., -1.0074e-07,\n",
       "            -3.3596e-07, -5.6251e-07],\n",
       "           [-5.7102e-08,  3.1870e-09, -5.9776e-09,  ...,  7.6056e-10,\n",
       "             1.1733e-07,  6.1234e-08]]], grad_fn=<MulBackward0>),\n",
       "  tensor([[[-1.2110e-07,  1.0565e-08, -9.6265e-08,  ...,  2.2700e-07,\n",
       "            -5.1301e-08,  4.2140e-08],\n",
       "           [ 5.1168e-08,  3.6268e-08,  1.4714e-07,  ..., -2.4180e-09,\n",
       "            -2.2407e-08, -1.7762e-07],\n",
       "           [ 6.7311e-08, -4.1018e-07, -3.6423e-08,  ...,  1.3300e-07,\n",
       "            -6.8603e-08, -7.1894e-10],\n",
       "           ...,\n",
       "           [-2.0067e-07,  6.0863e-08, -6.6321e-07,  ..., -5.2796e-07,\n",
       "             1.4372e-07,  9.0196e-08],\n",
       "           [ 7.9357e-08,  4.8022e-08, -1.0951e-06,  ...,  7.8109e-08,\n",
       "             4.4486e-07, -5.9004e-07],\n",
       "           [ 1.7041e-08,  9.6296e-08,  4.0134e-08,  ..., -6.7297e-08,\n",
       "            -4.2183e-08,  1.3920e-08]]], grad_fn=<MulBackward0>),\n",
       "  tensor([[[-6.9089e-07, -2.4438e-07,  3.0267e-07,  ...,  1.3439e-05,\n",
       "             1.4411e-05,  6.1492e-06],\n",
       "           [-5.9784e-06, -7.5504e-07,  3.0470e-06,  ..., -1.2808e-05,\n",
       "            -5.0691e-06,  2.3066e-05],\n",
       "           [-1.9754e-05,  6.1935e-06, -1.1588e-05,  ...,  5.2580e-06,\n",
       "             3.3930e-06, -3.9186e-05],\n",
       "           ...,\n",
       "           [ 3.2312e-06, -2.7504e-05,  1.1005e-05,  ...,  5.4713e-06,\n",
       "            -4.8648e-06, -1.6910e-07],\n",
       "           [ 1.5675e-06,  1.8028e-05, -5.8487e-05,  ...,  1.0958e-05,\n",
       "             6.2367e-05,  4.5101e-05],\n",
       "           [-1.1915e-06,  5.4916e-06, -7.8226e-06,  ..., -8.0439e-07,\n",
       "            -3.1427e-06,  3.3067e-06]]], grad_fn=<MulBackward0>),\n",
       "  tensor([[[ 5.8706e-06,  7.7977e-07, -4.5788e-06,  ..., -9.4008e-07,\n",
       "            -3.9721e-06,  8.9392e-06],\n",
       "           [-1.3153e-05, -2.0172e-05, -3.0432e-05,  ..., -3.2823e-06,\n",
       "            -5.1614e-06, -4.9006e-05],\n",
       "           [-1.9823e-07,  1.7401e-06, -2.8915e-06,  ...,  6.5302e-06,\n",
       "            -3.1859e-06,  1.8230e-05],\n",
       "           ...,\n",
       "           [ 4.4310e-05,  1.3317e-05, -2.4152e-05,  ..., -1.0488e-04,\n",
       "            -5.0143e-05,  2.4040e-05],\n",
       "           [ 1.3512e-06, -1.8867e-05, -1.3000e-05,  ...,  1.1880e-05,\n",
       "            -4.2717e-05, -5.4555e-05],\n",
       "           [-1.5390e-06, -6.6464e-06,  1.3946e-05,  ...,  3.4913e-08,\n",
       "            -4.2965e-06, -1.5073e-07]]], grad_fn=<MulBackward0>),\n",
       "  tensor([[[-2.9549e-07,  6.7948e-08,  7.3844e-08,  ..., -5.4656e-08,\n",
       "            -2.5723e-09, -1.0957e-07],\n",
       "           [-3.0331e-07, -9.4504e-08,  3.6376e-08,  ...,  1.8702e-07,\n",
       "             1.0730e-06, -5.7561e-07],\n",
       "           [ 9.6814e-08,  1.6574e-07,  4.9883e-07,  ...,  8.4371e-07,\n",
       "             8.3088e-07,  1.8497e-07],\n",
       "           [-1.9303e-07,  7.7970e-08,  9.9028e-08,  ..., -1.6144e-06,\n",
       "             7.2186e-07,  1.4090e-08],\n",
       "           [-2.8691e-09, -1.1523e-06, -1.1046e-06,  ..., -5.4747e-07,\n",
       "             9.8063e-08, -2.7127e-07],\n",
       "           [-1.8626e-07,  3.7883e-07, -7.7516e-08,  ...,  3.9438e-07,\n",
       "             5.5160e-07,  6.1553e-09]]], grad_fn=<MulBackward0>),\n",
       "  tensor([[[-1.3481e-09,  2.2382e-09,  1.5592e-09,  ...,  2.0524e-09,\n",
       "            -2.5849e-11, -3.6501e-09],\n",
       "           [-3.4840e-09, -4.3973e-11, -2.0970e-09,  ..., -9.0480e-09,\n",
       "            -4.8814e-09, -5.9802e-12],\n",
       "           [-7.2976e-09, -3.4434e-08,  5.2773e-10,  ..., -7.7204e-09,\n",
       "             1.3408e-08,  3.2275e-09],\n",
       "           ...,\n",
       "           [-3.7029e-09,  2.1957e-08, -2.6070e-09,  ...,  7.5598e-09,\n",
       "            -5.0261e-09,  2.3994e-09],\n",
       "           [-1.2968e-09, -1.1180e-08, -2.5112e-08,  ..., -4.5914e-09,\n",
       "             5.2180e-08,  8.4512e-08],\n",
       "           [ 1.7918e-08, -3.1814e-09,  1.6104e-08,  ..., -4.9872e-09,\n",
       "             1.8704e-09,  1.2411e-09]]], grad_fn=<MulBackward0>),\n",
       "  tensor([[[-1.2333e-05, -3.3026e-06, -3.7294e-06,  ..., -3.6605e-06,\n",
       "             1.0589e-05, -4.4020e-06],\n",
       "           [ 1.4275e-04,  6.1208e-06,  9.2575e-06,  ...,  2.6954e-04,\n",
       "            -8.4234e-06, -1.4261e-04],\n",
       "           [ 1.5252e-05,  6.3882e-06, -4.1415e-06,  ...,  2.0202e-06,\n",
       "             3.0401e-05, -6.6473e-05],\n",
       "           [-1.3309e-06,  2.9227e-05, -4.5013e-05,  ...,  2.0615e-06,\n",
       "             2.0459e-05, -1.0088e-05],\n",
       "           [ 2.1077e-05,  8.6728e-06, -9.2395e-06,  ...,  8.2571e-06,\n",
       "             2.0372e-05,  4.9480e-07]]], grad_fn=<MulBackward0>),\n",
       "  tensor([[[-2.5264e-06, -5.9385e-07,  3.9654e-07,  ..., -9.0668e-07,\n",
       "             1.0020e-06, -7.4961e-07],\n",
       "           [ 8.6706e-07, -1.9318e-07, -1.0597e-06,  ...,  2.7676e-06,\n",
       "             3.1927e-07,  4.0636e-06],\n",
       "           [ 1.3452e-06,  1.0059e-06,  9.0590e-07,  ..., -9.8165e-06,\n",
       "             9.5191e-06, -1.9855e-06],\n",
       "           ...,\n",
       "           [ 2.9362e-06, -3.1231e-06,  5.2105e-06,  ...,  3.4774e-06,\n",
       "            -7.8553e-07,  1.4009e-06],\n",
       "           [-7.7451e-06, -2.2963e-05,  1.9645e-05,  ..., -2.2982e-05,\n",
       "            -4.1118e-06, -1.7389e-05],\n",
       "           [ 8.3953e-07,  1.4434e-07,  5.3298e-06,  ..., -2.3807e-06,\n",
       "             3.4596e-06,  1.0500e-06]]], grad_fn=<MulBackward0>),\n",
       "  tensor([[[-2.6112e-06,  2.8404e-08,  2.1863e-08,  ..., -9.7159e-08,\n",
       "             5.0585e-07, -1.4629e-07],\n",
       "           [-1.4720e-06, -1.5518e-06, -1.8868e-08,  ..., -1.0167e-06,\n",
       "            -2.2907e-07, -6.0814e-06],\n",
       "           [-8.3918e-08,  5.3952e-07, -7.3944e-07,  ...,  1.2083e-06,\n",
       "             8.2907e-07, -8.0830e-07],\n",
       "           ...,\n",
       "           [-2.8034e-06, -2.0691e-06, -3.4081e-06,  ...,  5.6108e-07,\n",
       "            -4.1211e-06, -3.4504e-06],\n",
       "           [-9.8402e-08, -9.4897e-06, -3.3140e-06,  ..., -9.7502e-07,\n",
       "            -3.6088e-06,  8.3584e-07],\n",
       "           [ 6.4243e-07,  8.0836e-07, -4.4817e-07,  ...,  9.0005e-07,\n",
       "            -2.7385e-07,  4.9794e-08]]], grad_fn=<MulBackward0>),\n",
       "  tensor([[[-6.5058e-10, -1.0597e-09, -3.0488e-09,  ...,  1.5405e-08,\n",
       "            -1.9330e-08, -7.8229e-09],\n",
       "           [-3.4574e-09,  8.0647e-10,  2.3225e-08,  ..., -1.2572e-10,\n",
       "            -1.4749e-08, -3.4387e-08],\n",
       "           [-1.2656e-09,  3.0576e-09, -4.8165e-09,  ...,  2.4973e-08,\n",
       "             5.8730e-08, -5.3039e-08],\n",
       "           ...,\n",
       "           [-1.6832e-08,  2.0076e-09,  3.3106e-09,  ..., -7.5002e-10,\n",
       "            -2.0795e-09,  1.8585e-08],\n",
       "           [ 3.3449e-10,  2.4818e-08, -1.2082e-08,  ...,  1.1665e-08,\n",
       "             1.8227e-08, -1.5084e-08],\n",
       "           [-9.1763e-09,  1.7131e-09, -1.3567e-08,  ..., -2.0880e-09,\n",
       "             1.6505e-09,  1.6913e-10]]], grad_fn=<MulBackward0>),\n",
       "  tensor([[[-7.3300e-06,  1.0961e-06, -5.3869e-07,  ...,  2.6517e-06,\n",
       "            -3.5547e-06, -1.7755e-06],\n",
       "           [ 2.7123e-06, -1.6186e-06, -6.1918e-06,  ...,  1.7304e-06,\n",
       "             3.6598e-06, -3.2227e-06],\n",
       "           [ 7.4711e-06,  1.9114e-05, -5.6694e-05,  ..., -3.3758e-05,\n",
       "             3.8238e-05,  1.2114e-05],\n",
       "           ...,\n",
       "           [-4.2373e-06, -1.7629e-05,  7.4338e-07,  ...,  1.0663e-06,\n",
       "            -8.1726e-10,  2.9165e-05],\n",
       "           [-6.7751e-07,  1.9615e-05, -8.0838e-06,  ...,  1.1537e-05,\n",
       "            -5.2330e-06,  1.4175e-05],\n",
       "           [ 6.6646e-07,  9.7302e-07, -9.5802e-07,  ..., -2.4154e-06,\n",
       "             1.6738e-06, -5.7451e-07]]], grad_fn=<MulBackward0>),\n",
       "  tensor([[[-9.0978e-09,  4.7259e-09, -2.1261e-09,  ..., -6.0249e-10,\n",
       "             3.9385e-09,  4.5419e-09],\n",
       "           [-8.1488e-09, -2.7707e-09,  1.8469e-10,  ..., -4.6277e-09,\n",
       "             1.7197e-08,  4.1095e-09],\n",
       "           [-9.1543e-09, -4.4884e-09, -3.3359e-09,  ..., -6.4948e-09,\n",
       "            -7.2084e-08,  8.9551e-09],\n",
       "           ...,\n",
       "           [-2.1085e-08,  6.7530e-09,  1.6970e-08,  ...,  9.8847e-10,\n",
       "             1.1427e-08, -1.3828e-08],\n",
       "           [ 2.0943e-09, -1.6271e-09,  4.4259e-08,  ...,  1.4359e-08,\n",
       "             1.3787e-08,  3.8533e-08],\n",
       "           [ 4.9932e-09, -1.8335e-08,  3.0345e-09,  ...,  2.3805e-09,\n",
       "             9.3356e-09, -2.0664e-10]]], grad_fn=<MulBackward0>),\n",
       "  tensor([[[ 6.0958e-07,  3.0161e-07,  4.8510e-08,  ..., -6.6952e-07,\n",
       "            -1.3398e-07, -8.0045e-08],\n",
       "           [-1.0333e-06, -2.1688e-07, -5.8799e-07,  ...,  1.4754e-06,\n",
       "             1.7446e-07,  1.5926e-06],\n",
       "           [ 2.0416e-06, -1.6069e-06,  2.7348e-08,  ..., -1.2451e-07,\n",
       "             3.3346e-07,  3.8797e-06],\n",
       "           ...,\n",
       "           [-9.8647e-07,  4.1013e-07,  8.2234e-08,  ..., -6.7591e-08,\n",
       "            -4.7985e-07, -5.9421e-07],\n",
       "           [ 2.9751e-07,  8.4431e-06, -2.0584e-06,  ..., -3.0279e-07,\n",
       "             7.5301e-07,  6.5901e-07],\n",
       "           [ 8.0157e-07,  1.2443e-06,  3.1220e-09,  ...,  1.3769e-06,\n",
       "            -5.8690e-07, -1.5439e-07]]], grad_fn=<MulBackward0>),\n",
       "  tensor([[[ 2.3640e-08, -1.8476e-09,  1.0389e-09,  ...,  1.3336e-09,\n",
       "             7.8474e-09,  2.4151e-09],\n",
       "           [-2.1342e-08, -8.4045e-09,  2.8673e-08,  ..., -5.1702e-10,\n",
       "            -3.6388e-09, -2.3832e-08],\n",
       "           [-1.1744e-08, -2.0518e-10,  7.1520e-09,  ...,  5.6635e-08,\n",
       "             1.2906e-09,  1.2026e-08],\n",
       "           ...,\n",
       "           [ 1.3771e-09, -9.1079e-09, -4.8404e-08,  ..., -6.8470e-09,\n",
       "            -1.1114e-09,  3.3796e-09],\n",
       "           [-4.0647e-09, -5.4692e-08,  1.6711e-07,  ...,  1.1244e-07,\n",
       "            -2.0314e-07, -3.4690e-07],\n",
       "           [-3.7610e-09,  1.4374e-08, -3.9391e-08,  ..., -4.2543e-08,\n",
       "             7.0287e-10, -1.2028e-09]]], grad_fn=<MulBackward0>),\n",
       "  tensor([[[-2.3906e-04,  6.2757e-06, -4.6716e-05,  ...,  3.2082e-04,\n",
       "            -7.3511e-05,  1.3349e-04],\n",
       "           [-4.7218e-05, -1.1666e-04,  8.1553e-04,  ..., -7.6790e-05,\n",
       "            -1.0381e-04,  1.0186e-03],\n",
       "           [ 1.3010e-04,  1.5125e-04, -4.0030e-05,  ...,  4.0982e-05,\n",
       "            -1.3638e-04, -9.3054e-04],\n",
       "           ...,\n",
       "           [-4.3372e-04, -8.4975e-04, -5.0963e-05,  ..., -2.5341e-07,\n",
       "             1.3449e-05, -1.3008e-04],\n",
       "           [-2.5688e-05,  1.4564e-04, -1.3051e-05,  ...,  2.9790e-04,\n",
       "             2.4028e-04,  6.5750e-04],\n",
       "           [ 2.7122e-05,  4.0150e-05,  8.9066e-05,  ..., -5.2223e-05,\n",
       "            -8.4074e-05,  2.8658e-05]]], grad_fn=<MulBackward0>),\n",
       "  tensor([[[ 8.1233e-07,  3.5675e-07, -1.3459e-07,  ...,  6.5537e-07,\n",
       "             1.1741e-06, -1.0379e-07],\n",
       "           [ 1.9075e-06,  6.0368e-08, -2.3431e-06,  ..., -1.6006e-06,\n",
       "            -7.8144e-08, -6.2185e-06],\n",
       "           [ 2.4178e-07,  7.4917e-07, -1.2380e-07,  ...,  1.9289e-08,\n",
       "             3.9169e-06, -1.0011e-06],\n",
       "           ...,\n",
       "           [ 1.9686e-07, -4.3334e-10,  2.6329e-07,  ...,  3.0144e-08,\n",
       "             6.6999e-07,  4.7827e-08],\n",
       "           [ 3.2736e-07, -3.2344e-07,  1.7308e-07,  ...,  5.5909e-07,\n",
       "             1.0930e-07, -9.1248e-07],\n",
       "           [-4.3717e-08, -4.4398e-07,  3.1586e-07,  ..., -7.0092e-07,\n",
       "             1.1770e-06, -4.5214e-07]]], grad_fn=<MulBackward0>),\n",
       "  tensor([[[-1.1379e-06, -1.2068e-07, -3.2472e-07,  ..., -1.6216e-07,\n",
       "             1.0031e-06,  8.2009e-07],\n",
       "           [-5.0444e-07, -1.3690e-06, -3.9190e-07,  ...,  4.7317e-09,\n",
       "             4.0602e-07,  2.0197e-06],\n",
       "           [ 1.2968e-06, -2.4535e-07,  1.5626e-07,  ..., -2.9211e-07,\n",
       "            -3.5470e-08,  1.7235e-06],\n",
       "           ...,\n",
       "           [-7.7604e-07,  2.9662e-06, -1.7982e-07,  ...,  1.4255e-06,\n",
       "             8.2739e-07, -5.1341e-07],\n",
       "           [-5.9532e-07, -2.4482e-06,  2.4487e-06,  ...,  6.2743e-07,\n",
       "             2.4739e-06,  3.1529e-06],\n",
       "           [-1.9278e-06, -8.3707e-07,  1.4581e-09,  ...,  1.8285e-06,\n",
       "            -3.5978e-07,  2.8550e-07]]], grad_fn=<MulBackward0>),\n",
       "  tensor([[[ 1.6212e-07,  1.0220e-07,  2.2536e-08,  ...,  5.3044e-07,\n",
       "            -1.4420e-07,  3.8087e-08],\n",
       "           [-1.1767e-07,  4.2483e-07,  3.7862e-07,  ..., -1.0766e-06,\n",
       "            -7.8329e-07, -1.4869e-07],\n",
       "           [-2.1684e-06,  2.6292e-06,  5.7161e-07,  ..., -1.9625e-07,\n",
       "             2.8004e-07,  1.8858e-07],\n",
       "           [ 4.5482e-06,  2.3259e-07,  1.4174e-06,  ...,  4.2475e-06,\n",
       "            -2.6836e-07,  2.1969e-07],\n",
       "           [ 1.0452e-08, -6.1702e-07, -4.5992e-07,  ..., -4.0516e-07,\n",
       "             7.8233e-07,  3.1294e-06],\n",
       "           [ 2.0117e-07,  2.0709e-07,  3.3776e-07,  ..., -2.4887e-07,\n",
       "            -7.5238e-07, -1.1427e-07]]], grad_fn=<MulBackward0>),\n",
       "  tensor([[[ 5.6251e-06,  2.3377e-06,  3.8933e-07,  ...,  1.7404e-05,\n",
       "             2.1585e-06,  8.7827e-07],\n",
       "           [-2.6207e-06, -1.8763e-06, -2.3086e-05,  ...,  7.9707e-06,\n",
       "             5.2706e-07, -4.5713e-05],\n",
       "           [-1.3773e-05, -5.0484e-05,  1.6372e-06,  ..., -1.1080e-05,\n",
       "             7.4766e-06,  6.9244e-05],\n",
       "           [-7.0422e-06, -8.9432e-06,  4.6933e-06,  ..., -2.8039e-05,\n",
       "            -7.4089e-06, -4.4729e-05],\n",
       "           [-1.7833e-07,  8.5863e-06, -7.7125e-06,  ...,  2.0405e-05,\n",
       "             8.2407e-06,  2.7895e-05],\n",
       "           [-2.3384e-06,  7.3864e-06,  2.8627e-06,  ..., -1.6541e-05,\n",
       "             2.2789e-06, -3.7055e-07]]], grad_fn=<MulBackward0>),\n",
       "  tensor([[[-2.3546e-07,  3.8185e-08, -3.8026e-08,  ...,  1.3918e-08,\n",
       "            -4.1427e-07,  5.5845e-08],\n",
       "           [ 3.3481e-07,  5.8657e-07, -5.6302e-07,  ...,  2.1193e-07,\n",
       "            -4.6619e-07, -9.0555e-07],\n",
       "           [ 1.4807e-07,  1.3866e-07,  1.8724e-07,  ...,  9.1696e-09,\n",
       "            -1.8115e-07, -2.0598e-06],\n",
       "           ...,\n",
       "           [-3.7655e-07, -4.6597e-07, -5.3212e-08,  ...,  2.7187e-08,\n",
       "            -2.4067e-08,  3.1358e-07],\n",
       "           [ 2.2352e-08,  7.3467e-07, -9.7949e-08,  ..., -1.3809e-07,\n",
       "             6.5231e-08, -5.6994e-07],\n",
       "           [-1.0341e-07,  1.2103e-07, -7.3839e-08,  ...,  4.2823e-08,\n",
       "            -3.8654e-08, -1.7353e-08]]], grad_fn=<MulBackward0>),\n",
       "  tensor([[[-3.7804e-07, -1.5280e-06, -1.1101e-06,  ..., -8.0432e-06,\n",
       "             1.4042e-07,  4.9241e-06],\n",
       "           [ 3.3497e-07,  1.3122e-05, -2.5882e-07,  ...,  1.5487e-05,\n",
       "             7.6064e-07,  2.5789e-06],\n",
       "           [-7.3928e-07, -6.7159e-06,  1.3694e-05,  ...,  6.2132e-06,\n",
       "            -1.5607e-06,  8.2719e-06],\n",
       "           ...,\n",
       "           [-4.7513e-05,  9.8026e-05, -2.5423e-07,  ...,  2.6851e-05,\n",
       "             1.6223e-05,  1.3367e-06],\n",
       "           [-8.0324e-07, -9.5134e-07,  5.9793e-05,  ...,  7.6768e-05,\n",
       "            -1.0842e-05,  1.4807e-04],\n",
       "           [ 6.9420e-07, -1.2047e-05,  7.3082e-06,  ...,  2.3195e-06,\n",
       "             1.0521e-05,  5.3289e-06]]], grad_fn=<MulBackward0>),\n",
       "  tensor([[[ 1.2459e-08, -1.5299e-09, -2.9105e-10,  ...,  4.0292e-09,\n",
       "            -2.2218e-09,  3.0257e-09],\n",
       "           [ 8.8021e-09, -4.2929e-08, -5.6001e-09,  ..., -7.6967e-09,\n",
       "            -1.2473e-08,  2.3609e-08],\n",
       "           [ 7.9708e-09, -4.8930e-09,  1.0297e-08,  ..., -3.9250e-08,\n",
       "            -1.8521e-08, -1.1619e-10],\n",
       "           ...,\n",
       "           [-9.2780e-12,  3.6839e-08,  2.6061e-09,  ...,  3.7470e-09,\n",
       "             2.5917e-09, -3.5898e-08],\n",
       "           [-6.1824e-09, -3.6787e-08, -3.0360e-08,  ..., -1.5051e-08,\n",
       "            -1.9077e-08, -5.1825e-08],\n",
       "           [-2.4522e-09,  9.3546e-09, -9.8711e-09,  ..., -7.7699e-09,\n",
       "             3.0547e-09,  7.7569e-10]]], grad_fn=<MulBackward0>),\n",
       "  tensor([[[ 3.1882e-06,  5.7046e-07,  5.7115e-08,  ...,  2.1299e-06,\n",
       "             5.3315e-06,  4.2246e-07],\n",
       "           [-4.5208e-06,  3.8901e-06,  1.1952e-06,  ...,  1.0485e-05,\n",
       "            -3.6570e-06,  6.8266e-06],\n",
       "           [ 6.1009e-06, -8.8332e-07,  1.3648e-06,  ..., -2.7914e-06,\n",
       "            -3.2582e-05, -2.1138e-07],\n",
       "           [-6.9124e-08, -5.2036e-06, -9.5582e-07,  ..., -3.0278e-06,\n",
       "             2.6279e-06,  2.0230e-06],\n",
       "           [ 1.2760e-08,  6.7957e-06, -7.2599e-06,  ...,  3.7288e-06,\n",
       "             1.3715e-05,  8.1916e-06],\n",
       "           [ 2.3868e-06,  1.8961e-06,  1.6220e-06,  ...,  2.5308e-06,\n",
       "            -1.8597e-05,  6.7017e-07]]], grad_fn=<MulBackward0>),\n",
       "  tensor([[[-5.5341e-08,  2.6011e-08, -5.4343e-10,  ..., -2.2698e-08,\n",
       "             9.1713e-08, -2.7699e-09],\n",
       "           [-5.7773e-07, -1.7978e-07, -8.9009e-08,  ..., -2.2168e-08,\n",
       "             1.8357e-07,  1.3188e-06],\n",
       "           [-1.2003e-07,  1.6999e-07, -3.5847e-07,  ..., -4.9827e-08,\n",
       "             1.3350e-07, -7.7876e-07],\n",
       "           ...,\n",
       "           [-1.7263e-08,  1.0314e-08, -1.4252e-08,  ...,  1.2506e-09,\n",
       "             9.0121e-09, -1.2685e-07],\n",
       "           [ 1.8855e-08, -3.5631e-07,  2.7078e-08,  ..., -2.3367e-07,\n",
       "            -1.2621e-07, -5.9516e-07],\n",
       "           [ 5.9405e-09,  1.0233e-08, -9.6148e-08,  ..., -7.3238e-08,\n",
       "             3.8405e-08, -1.6030e-09]]], grad_fn=<MulBackward0>),\n",
       "  tensor([[[-2.9876e-07,  2.1656e-08,  6.9779e-08,  ...,  4.5922e-08,\n",
       "            -1.5598e-06, -1.3346e-07],\n",
       "           [ 1.1705e-07, -6.0134e-06,  1.8936e-07,  ..., -1.6686e-07,\n",
       "             3.5861e-08,  4.0438e-06],\n",
       "           [ 7.5587e-06, -1.4169e-06,  2.6555e-06,  ...,  1.9511e-07,\n",
       "            -1.5162e-06,  5.2207e-06],\n",
       "           [-3.5230e-06, -4.1745e-06,  1.6014e-07,  ...,  3.4376e-06,\n",
       "            -2.3317e-06,  8.9897e-06],\n",
       "           [ 8.6143e-08, -1.7484e-05, -2.5390e-07,  ...,  2.8183e-06,\n",
       "             1.7394e-06,  6.2977e-06],\n",
       "           [-3.5432e-07,  8.8519e-07,  2.4215e-06,  ..., -1.8819e-06,\n",
       "            -1.8558e-07,  9.9441e-08]]], grad_fn=<MulBackward0>),\n",
       "  tensor([[[-6.5953e-08, -2.7673e-09,  8.9648e-09,  ..., -1.1402e-08,\n",
       "             9.0094e-09, -8.8152e-10],\n",
       "           [ 3.2477e-09,  3.6114e-08,  6.3678e-08,  ...,  1.9265e-10,\n",
       "            -7.7757e-09,  7.2521e-08],\n",
       "           [ 2.0595e-09,  3.3575e-08,  1.5090e-09,  ...,  1.5324e-08,\n",
       "             5.2630e-08,  1.2432e-08],\n",
       "           ...,\n",
       "           [ 6.0383e-08,  2.6408e-08, -5.7929e-09,  ..., -3.3663e-08,\n",
       "             1.4420e-07, -3.0611e-08],\n",
       "           [ 5.2888e-10, -1.7614e-07,  8.6660e-08,  ..., -3.4060e-09,\n",
       "             3.1421e-08,  8.4327e-08],\n",
       "           [ 3.8411e-09,  1.0398e-08, -3.5464e-08,  ...,  8.5931e-08,\n",
       "             4.5176e-08,  1.7237e-08]]], grad_fn=<MulBackward0>),\n",
       "  tensor([[[ 8.1939e-06, -1.7590e-06, -6.0561e-07,  ..., -1.0367e-05,\n",
       "            -1.3907e-06,  3.9335e-06],\n",
       "           [ 4.5859e-07, -2.1326e-06, -3.4988e-07,  ...,  1.0115e-05,\n",
       "            -3.0095e-06,  4.2695e-06],\n",
       "           [ 4.3493e-06, -3.5536e-06, -5.0100e-06,  ..., -4.7823e-07,\n",
       "            -4.1062e-07,  7.2796e-06],\n",
       "           ...,\n",
       "           [-4.4600e-07, -2.7640e-07,  2.8290e-07,  ...,  3.3854e-07,\n",
       "             9.5407e-08,  4.3564e-06],\n",
       "           [-8.1098e-07,  3.0997e-05,  2.7705e-06,  ...,  1.8397e-06,\n",
       "             1.1650e-06,  2.4433e-05],\n",
       "           [ 1.0634e-06,  4.8574e-06, -4.8078e-06,  ..., -7.7756e-06,\n",
       "             2.8625e-06,  2.7358e-06]]], grad_fn=<MulBackward0>),\n",
       "  tensor([[[ 2.5441e-06, -2.4710e-07, -8.3578e-07,  ...,  5.9319e-07,\n",
       "             2.9175e-06,  2.7025e-07],\n",
       "           [-2.1085e-05,  2.4108e-06,  8.5183e-06,  ..., -2.7718e-07,\n",
       "            -2.5661e-07, -2.2482e-06],\n",
       "           [-2.6266e-07,  1.2152e-06,  1.3219e-06,  ..., -6.6582e-08,\n",
       "            -2.2002e-07,  1.8363e-07],\n",
       "           [-6.0535e-06,  8.5288e-07,  4.1058e-06,  ..., -6.8934e-09,\n",
       "            -2.7899e-06, -5.2611e-06],\n",
       "           [-3.5941e-08,  2.1935e-07,  5.0943e-07,  ..., -5.3513e-06,\n",
       "             3.5870e-06,  1.5435e-05],\n",
       "           [ 7.6126e-07,  1.2690e-06, -4.0003e-07,  ..., -4.5451e-06,\n",
       "             1.0812e-07, -7.0508e-07]]], grad_fn=<MulBackward0>),\n",
       "  tensor([[[-3.6627e-04,  3.8705e-05,  3.1025e-05,  ...,  3.1409e-06,\n",
       "            -1.6199e-04,  7.3805e-05],\n",
       "           [-1.1531e-03,  1.5060e-03,  1.1658e-03,  ..., -1.8894e-03,\n",
       "             2.0704e-03,  4.1117e-03],\n",
       "           [-2.8115e-06, -7.3724e-05, -6.8122e-05,  ...,  1.4310e-05,\n",
       "             7.3602e-05, -8.0535e-05],\n",
       "           ...,\n",
       "           [-1.9912e-04,  5.8807e-04,  9.8459e-04,  ..., -3.0186e-06,\n",
       "             1.1727e-04, -7.6394e-04],\n",
       "           [ 4.4095e-04,  4.5572e-04,  1.0347e-03,  ...,  4.7077e-04,\n",
       "            -1.3639e-06,  2.2136e-03],\n",
       "           [-2.5912e-06, -6.2610e-05, -1.7426e-04,  ...,  4.2921e-05,\n",
       "             8.4964e-05, -1.1016e-05]]], grad_fn=<MulBackward0>),\n",
       "  tensor([[[-3.9305e-06,  7.5267e-08,  7.7940e-07,  ..., -1.1043e-06,\n",
       "             1.9679e-06,  5.6617e-07],\n",
       "           [ 1.3876e-06,  3.8675e-06, -1.1395e-06,  ..., -4.1146e-07,\n",
       "            -5.0432e-08, -9.4763e-06],\n",
       "           [ 8.0602e-09, -6.2168e-07,  1.5059e-06,  ..., -1.6518e-07,\n",
       "            -3.0585e-06,  2.5185e-07],\n",
       "           ...,\n",
       "           [ 2.2656e-05,  5.8059e-06, -7.8001e-06,  ..., -1.4566e-06,\n",
       "            -4.8279e-06,  5.3860e-07],\n",
       "           [-1.9451e-08, -4.0930e-06, -2.8597e-06,  ..., -1.8089e-06,\n",
       "            -6.8852e-07,  1.4224e-05],\n",
       "           [-5.7264e-08, -3.9156e-07, -2.8150e-06,  ..., -5.7920e-08,\n",
       "            -8.2288e-07, -7.4703e-07]]], grad_fn=<MulBackward0>)],\n",
       " 'conti_attr_list': [tensor([-0.5653, -0.3272,  0.0599,  0.7163, -0.1652, -0.1717]),\n",
       "  tensor([-0.0179, -0.1554,  0.0525,  0.0363, -0.0191,  0.0041,  0.0041,  0.8842,\n",
       "           0.0615, -0.0357, -0.0377, -0.0187, -0.0071, -0.0312, -0.0689,  0.0603,\n",
       "           0.0107,  0.0090, -0.0023, -0.1147, -0.0755,  0.4274,  0.2343, -0.0216,\n",
       "           0.0852]),\n",
       "  tensor([ 0.0596, -0.0194,  0.0124,  0.1773, -0.0039,  0.1124,  0.3091, -0.1498,\n",
       "          -0.0710, -0.0082,  0.0615,  0.2322, -0.8004, -0.0494, -0.2091,  0.0990,\n",
       "          -0.2152,  0.2692,  0.0157, -0.2983,  0.0150,  0.0101]),\n",
       "  tensor([ 0.6247,  0.5609, -0.4297,  0.0363]),\n",
       "  tensor([-0.5318, -0.0878,  0.6105, -0.0627,  0.0232,  0.2537,  0.3123, -0.0374,\n",
       "          -0.1689,  0.0009, -0.0090, -0.3603, -0.0374, -0.0423,  0.1841, -0.2399,\n",
       "          -0.0097, -0.0195]),\n",
       "  tensor([ 0.0388,  0.3622, -0.5642,  0.2686,  0.6794, -0.0554, -0.0189, -0.1086]),\n",
       "  tensor([ 0.3243, -0.0061, -0.1202,  0.7663,  0.1454,  0.1064, -0.0749,  0.0124,\n",
       "           0.0450, -0.0145,  0.1865,  0.2408,  0.0712,  0.0633, -0.0183,  0.0099,\n",
       "           0.2154, -0.1350, -0.1613, -0.1331]),\n",
       "  tensor([-0.0767,  0.3008, -0.0137,  0.7409,  0.0112, -0.0684, -0.0789, -0.1992,\n",
       "           0.1322, -0.0296, -0.0107, -0.1443, -0.1172,  0.4422, -0.2070, -0.1478,\n",
       "          -0.0580,  0.0614]),\n",
       "  tensor([-0.0265,  0.0272, -0.1223,  0.8962, -0.0161, -0.1285, -0.3719, -0.0197,\n",
       "           0.0975, -0.0927,  0.0823]),\n",
       "  tensor([ 0.4140, -0.4173,  0.0781,  0.2218, -0.3845, -0.1973]),\n",
       "  tensor([-0.3524,  0.3246,  0.6339, -0.0067, -0.1204, -0.0797,  0.0086,  0.1565,\n",
       "          -0.0414, -0.0548, -0.0801, -0.0168, -0.0414,  0.0295, -0.0174, -0.0072,\n",
       "          -0.0220,  0.1912,  0.0025,  0.0064,  0.0282, -0.0609,  0.0867,  0.0680,\n",
       "           0.0495, -0.1654, -0.0637,  0.0343, -0.0885,  0.3831, -0.0550,  0.1185,\n",
       "          -0.0970,  0.0258,  0.0010,  0.0303, -0.0083, -0.0169,  0.0126,  0.0114,\n",
       "           0.0442, -0.0114, -0.0257, -0.1684,  0.0575, -0.0242, -0.0492, -0.0406,\n",
       "           0.1006, -0.0191]),\n",
       "  tensor([ 0.3338, -0.5701,  0.6708,  0.0797,  0.1404, -0.1767, -0.2372]),\n",
       "  tensor([-0.0213,  0.6268,  0.2010, -0.5776,  0.3416,  0.0699,  0.3333]),\n",
       "  tensor([ 0.5022,  0.5544, -0.6180, -0.2972,  0.2012]),\n",
       "  tensor([-2.6660e-01,  3.8486e-01,  1.6883e-04,  4.9229e-02,  1.8327e-01]),\n",
       "  tensor([ 0.7714, -0.5209, -0.5077,  0.1014]),\n",
       "  tensor([ 0.3581, -0.5373,  0.2149, -0.4068,  0.2957, -0.5328, -0.0102]),\n",
       "  tensor([-0.1246,  0.0865, -0.0463, -0.1343,  0.0653,  0.9003, -0.0721, -0.0325,\n",
       "          -0.2253, -0.0117,  0.0792, -0.0781, -0.1875, -0.1709,  0.0901]),\n",
       "  tensor([ 0.0100,  0.2262, -0.2160, -0.1110, -0.0182,  0.0969, -0.0507, -0.0039,\n",
       "           0.1260, -0.3577, -0.2390,  0.1003, -0.0047, -0.2151, -0.0395,  0.0651,\n",
       "          -0.0351,  0.1823,  0.1840,  0.0245, -0.0760,  0.0803, -0.1392,  0.0274,\n",
       "           0.0430, -0.0423, -0.0539]),\n",
       "  tensor([-0.2859, -0.0558,  0.3994,  0.0127, -0.2353, -0.0564, -0.0249,  0.3163,\n",
       "          -0.0517,  0.0021, -0.2879, -0.0303, -0.0622,  0.2404,  0.3165,  0.0604,\n",
       "          -0.0556, -0.0023, -0.0852,  0.0238,  0.2340,  0.0227, -0.0408, -0.0416,\n",
       "           0.0468,  0.0102, -0.0711,  0.0551, -0.0748,  0.1313,  0.6743,  0.1794,\n",
       "           0.0123, -0.0744, -0.0642, -0.0139]),\n",
       "  tensor([-0.2634, -0.0832, -0.3338,  0.8298,  0.4014,  0.0297, -0.0219]),\n",
       "  tensor([-0.0039,  0.0139,  0.6453,  0.4104, -0.0049, -0.0707,  0.0797, -0.0431,\n",
       "          -0.1246,  0.0691,  0.1829,  0.0532, -0.1037, -0.0482,  0.3369,  0.0074,\n",
       "          -0.0209, -0.1577, -0.2920, -0.1824,  0.0103,  0.0995, -0.1340, -0.0393]),\n",
       "  tensor([-0.2978, -0.7936, -0.1443,  0.0637,  0.1379,  0.1643, -0.0535,  0.2584,\n",
       "           0.2480, -0.1192, -0.1624,  0.0276]),\n",
       "  tensor([-0.0225,  0.6817,  0.0120, -0.4792,  0.1719, -0.4862, -0.1979]),\n",
       "  tensor([-0.0900, -0.2241,  0.1922, -0.1179,  0.6293, -0.0187,  0.3990, -0.0669,\n",
       "           0.3165,  0.1405, -0.2013,  0.3520, -0.2118,  0.0398]),\n",
       "  tensor([ 0.1920, -1.1300,  0.3351,  0.3041]),\n",
       "  tensor([-0.3723,  0.8237,  0.7549,  0.0209]),\n",
       "  tensor([ 0.2222, -0.1492,  0.2999,  0.0639, -0.0643,  0.1004, -0.0283, -0.1101,\n",
       "          -0.1959, -0.1166,  0.7291, -0.4243,  0.2017,  0.0526]),\n",
       "  tensor([ 0.0273,  0.3833, -0.4830, -0.1226]),\n",
       "  tensor([-0.1355, -0.4504,  0.7487, -0.4631, -0.0609]),\n",
       "  tensor([-0.2306, -0.1563,  0.0519, -0.1344, -0.0914, -0.0568, -0.0941, -0.0108,\n",
       "           0.0222, -0.0467,  0.2904,  0.1930, -0.0202, -0.0569,  0.0265,  0.3074,\n",
       "           0.0629,  0.1939,  0.0372, -0.0009,  0.3066,  0.1954,  0.0541, -0.0966,\n",
       "           0.0025, -0.0802, -0.0096, -0.1080]),\n",
       "  tensor([-0.1461, -0.3918,  0.4982,  0.3287,  0.1972,  0.2272, -0.0165,  0.2724,\n",
       "           0.1596, -0.5777,  0.1869, -0.0879,  0.1496]),\n",
       "  tensor([-0.1437, -0.2197,  0.1208,  0.2501, -0.2109, -0.0609]),\n",
       "  tensor([-0.1885,  0.0322,  0.1387,  0.2418, -0.1869,  0.1556, -0.4439,  0.0337,\n",
       "           0.1382,  0.0862, -0.6982,  0.1020, -0.0520]),\n",
       "  tensor([ 0.3265, -0.0536, -0.1105,  0.0471, -0.0128, -0.2079,  0.0168, -0.0122,\n",
       "           0.8198, -0.3806,  0.0663,  0.1048]),\n",
       "  tensor([-0.1178,  0.0669,  0.8662,  0.3444, -0.0799, -0.3638, -0.1026,  0.0836,\n",
       "           0.1422]),\n",
       "  tensor([-0.0520,  0.0207, -0.2519, -0.0479,  0.1952, -0.1406, -0.3341, -0.1190,\n",
       "           0.3225, -0.1206,  0.0249, -0.1489, -0.0251, -0.0553, -0.1030,  0.1188,\n",
       "          -0.1220, -0.1067, -0.0815, -0.0212,  0.7035,  0.0718, -0.1700,  0.1240]),\n",
       "  tensor([ 0.0094, -0.0556,  0.0392,  0.0529,  0.0385, -0.5986, -0.0969, -0.5033,\n",
       "          -0.0707,  0.0649, -0.4578,  0.1399, -0.0167,  0.4899,  0.2956,  0.0782,\n",
       "           0.1485,  0.0521, -0.0233,  0.0053]),\n",
       "  tensor([ 0.4771, -0.0619, -0.4023,  0.1372, -0.4547, -0.1313,  0.4482, -0.3973,\n",
       "           0.0717]),\n",
       "  tensor([ 0.2478, -0.3358, -0.0284,  0.0809,  0.0112,  0.0636,  0.1278,  0.0109,\n",
       "          -0.1195, -0.6641, -0.0475, -0.0222,  0.0331,  0.0637,  0.0139,  0.2969,\n",
       "          -0.0402,  0.5215,  0.0962,  0.0483, -0.0476, -0.0540]),\n",
       "  tensor([-0.1329, -0.2263,  0.1912, -0.8282,  0.0399,  0.4551]),\n",
       "  tensor([ 0.0203,  0.3116, -0.4482,  0.1034]),\n",
       "  tensor([-0.1888, -0.0067, -0.1235,  0.0752,  0.0823, -0.2390,  0.0848,  0.1495,\n",
       "          -0.0200, -0.0180,  0.1390, -0.2017,  0.0890,  0.1636,  0.2561,  0.0089,\n",
       "           0.2053,  0.2309, -0.6158,  0.1524,  0.1255, -0.1438,  0.0097, -0.2772,\n",
       "          -0.0742]),\n",
       "  tensor([ 0.2083,  0.2479,  0.3024,  0.0848, -0.4381, -0.3725, -0.2882, -0.2033,\n",
       "           0.2220,  0.5071,  0.1205,  0.0208, -0.0502]),\n",
       "  tensor([-0.2971, -0.2328,  0.0658,  0.4367, -0.0150, -0.0130,  0.5227, -0.1962,\n",
       "           0.4330,  0.1835, -0.3689,  0.0347,  0.0933]),\n",
       "  tensor([-0.2613,  0.0584, -0.5579,  0.6482,  0.4138, -0.1601]),\n",
       "  tensor([ 0.1736,  0.2098, -0.0298,  0.0984, -0.0334,  0.0423, -0.0162]),\n",
       "  tensor([-0.2514,  0.9665,  0.0160, -0.4111]),\n",
       "  tensor([-0.1408, -0.2154, -0.2780,  0.2974,  0.1908,  0.0483,  0.0974, -0.0166,\n",
       "           0.2769, -0.2737,  0.1945, -0.0026, -0.1247,  0.1278, -0.0956, -0.1276,\n",
       "           0.0158,  0.0388,  0.1407, -0.1395, -0.0405, -0.1882, -0.0838, -0.2023,\n",
       "          -0.0877, -0.4931,  0.0662,  0.0343]),\n",
       "  tensor([-0.4597,  0.0474,  0.3333,  0.3131, -0.6309, -0.1351,  0.0777]),\n",
       "  tensor([ 0.0459, -0.1443, -0.5888, -0.0757,  0.3429,  0.0254, -0.5757, -0.2256,\n",
       "           0.0389,  0.0595,  0.1806,  0.2591,  0.0891,  0.1024, -0.0088, -0.0299]),\n",
       "  tensor([-0.0882, -0.1081, -0.3670, -0.0548,  0.2830,  0.1664, -0.1625,  0.4638,\n",
       "           0.3776,  0.0407,  0.1175,  0.1403, -0.2333,  0.2005,  0.1737,  0.0488]),\n",
       "  tensor([ 0.0764,  0.1666,  0.7828, -0.1201, -0.1346, -0.1215,  0.0465, -0.0482,\n",
       "           0.1235,  0.2443, -0.0943, -0.0501,  0.3821,  0.1800, -0.0091, -0.0457,\n",
       "           0.0235, -0.0236]),\n",
       "  tensor([-0.2439, -0.3343,  0.8059, -0.4436, -0.1640]),\n",
       "  tensor([-0.1667,  0.4303,  0.0529,  0.8089, -0.1312,  0.2908, -0.1232]),\n",
       "  tensor([-0.0388,  0.9356, -0.3408,  0.0722, -0.0433]),\n",
       "  tensor([ 0.0448,  0.2421,  0.8352,  0.3546, -0.3386,  0.0375]),\n",
       "  tensor([ 0.1147,  0.4768, -0.0382,  0.0030,  0.0850, -0.0398,  0.3592, -0.2286,\n",
       "          -0.0567, -0.3548, -0.1449, -0.1063, -0.1143,  0.0749,  0.0584,  0.0274,\n",
       "          -0.3476,  0.2469,  0.1027,  0.0806, -0.2894, -0.1211, -0.1712, -0.1054]),\n",
       "  tensor([ 0.8035, -0.2188,  0.1013,  0.4134, -0.0853, -0.3703]),\n",
       "  tensor([ 0.1183,  0.0254,  0.1249, -0.0227]),\n",
       "  tensor([ 0.4991, -0.6655,  0.0500,  0.0281,  0.1477,  0.1265,  0.2043,  0.1359,\n",
       "          -0.2571,  0.1326, -0.1677, -0.0697, -0.0852, -0.0422,  0.0721, -0.0155,\n",
       "          -0.2018,  0.1243, -0.0080, -0.0854, -0.0394,  0.0594, -0.0112,  0.0996,\n",
       "          -0.0898,  0.0494, -0.0192]),\n",
       "  tensor([ 0.1797, -0.3980, -0.0197,  0.7479,  0.4779,  0.3724]),\n",
       "  tensor([-0.1032,  0.1264,  0.8085,  0.0329, -0.0244,  0.0518, -0.3288,  0.0136,\n",
       "          -0.2811,  0.3533, -0.0609,  0.0215]),\n",
       "  tensor([ 0.1815, -0.0575,  0.1089,  0.1012, -0.2122, -0.1919,  0.0008, -0.0572,\n",
       "           0.5848, -0.0485, -0.1074,  0.1184, -0.0872, -0.0811, -0.0409, -0.0959,\n",
       "           0.1117, -0.1882,  0.6360,  0.0556]),\n",
       "  tensor([ 0.5477,  0.2339, -0.3166, -0.1571, -0.6459, -0.0383, -0.1786, -0.0758,\n",
       "          -0.2223,  0.0016, -0.0648, -0.0694,  0.0739, -0.0144]),\n",
       "  tensor([-0.0491,  0.0974, -0.0184,  0.0547,  0.0183, -0.4390,  0.1496,  0.3184,\n",
       "          -0.0633, -0.2178, -0.1021,  0.0711, -0.0100, -0.0162, -0.0860, -0.0513,\n",
       "          -0.1138, -0.0565, -0.0271,  0.7396,  0.0446, -0.0911, -0.3808, -0.1062,\n",
       "           0.0229,  0.1668]),\n",
       "  tensor([-0.0329,  0.0895, -0.1371,  0.8197, -0.4177, -0.3515,  0.0464]),\n",
       "  tensor([ 0.2290, -0.3284,  0.0939,  0.2066, -0.7353, -0.0996,  0.1816, -0.0255,\n",
       "           0.0181,  0.0661,  0.0400, -0.0829,  0.2284, -0.0905, -0.0124, -0.0138,\n",
       "          -0.0117,  0.1367, -0.0443,  0.0864,  0.0026,  0.0024,  0.4782,  0.2648,\n",
       "          -0.1608, -0.0967, -0.2183,  0.0271,  0.1177]),\n",
       "  tensor([-0.1620,  0.5319, -0.3997,  0.1283, -0.0717, -0.0135]),\n",
       "  tensor([-0.4866, -0.0923,  1.0132,  0.0900, -0.4512, -0.1093,  0.0239]),\n",
       "  tensor([-0.2955, -0.3236, -0.3894,  0.1279,  0.6925,  0.3163,  0.2458]),\n",
       "  tensor([-0.3852,  0.1265, -0.1235,  0.5981,  0.5088, -0.3210,  0.0064,  0.0381]),\n",
       "  tensor([ 0.5923, -0.4761, -0.1796,  0.0475]),\n",
       "  tensor([-0.6912,  0.1902, -0.1588,  0.0474,  0.6595,  0.1670,  0.0456]),\n",
       "  tensor([-0.0923, -0.7895,  0.0682,  0.4581,  0.0184]),\n",
       "  tensor([ 0.0206,  0.0805,  0.0467, -0.0053,  0.0166, -0.0477, -0.5061,  0.1051,\n",
       "           0.1346,  0.7965,  0.0872,  0.0632, -0.0202,  0.0878, -0.1359,  0.1473,\n",
       "           0.0247,  0.0257, -0.0322, -0.0805]),\n",
       "  tensor([-0.7121,  0.5975,  0.2735, -0.0380, -0.2443]),\n",
       "  tensor([-0.5372,  0.0419,  0.0057,  0.0239,  0.3407, -0.0312, -0.0705,  0.6302,\n",
       "          -0.1233, -0.0048,  0.0556,  0.3946, -0.0749]),\n",
       "  tensor([-0.1515, -0.5507, -0.4424, -0.4890,  0.0393,  0.5703]),\n",
       "  tensor([-0.4290, -0.0053, -0.1098,  0.0862,  0.0837,  0.6123,  0.2904,  0.2796,\n",
       "          -0.0393, -0.0599,  0.0500]),\n",
       "  tensor([ 0.3714,  0.0972, -0.2611, -0.6851, -0.0571, -0.0554,  0.1252, -0.1722,\n",
       "           0.2591,  0.4204, -0.1696, -0.1069]),\n",
       "  tensor([-0.0923, -0.2057,  0.2270,  0.0917,  0.6879, -0.2745,  0.0652,  0.1269]),\n",
       "  tensor([-0.3431, -0.2310, -0.1628, -0.3154,  0.0476, -0.0145,  0.3994,  0.3651,\n",
       "           0.0576, -0.1575,  0.1085, -0.0340, -0.4255,  0.1258,  0.3322,  0.1961]),\n",
       "  tensor([ 0.0811,  0.0282, -0.1084, -0.4426,  0.2287, -0.0232, -0.4732, -0.0830,\n",
       "          -0.0148, -0.4635, -0.1400, -0.5600, -0.0439,  0.1166,  0.0421,  0.0030,\n",
       "           0.2410,  0.1754]),\n",
       "  tensor([ 3.7134e-02, -7.1086e-02,  1.2340e-01,  4.6964e-02,  5.1208e-02,\n",
       "          -7.6156e-02, -8.8615e-02,  1.6040e-02,  2.5442e-01,  2.7976e-05,\n",
       "           9.6294e-02, -7.2739e-02,  2.8511e-02, -6.2165e-02,  4.4364e-02,\n",
       "          -2.0573e-01,  2.7596e-02, -8.3010e-01, -4.0291e-01, -3.8870e-02,\n",
       "           1.2375e-01,  4.6596e-02]),\n",
       "  tensor([-0.4185, -0.0205,  0.0841,  0.3042,  0.0352,  0.3192, -0.3925,  0.0527,\n",
       "           0.0066, -0.2816, -0.0815,  0.0620, -0.0769,  0.1619,  0.1700,  0.0614,\n",
       "           0.1388,  0.0566, -0.1528,  0.2015,  0.0337,  0.0681]),\n",
       "  tensor([ 0.3511, -0.0429, -0.9395,  0.3329,  0.0285, -0.0448, -0.0982,  0.0321,\n",
       "          -0.0811, -0.1055]),\n",
       "  tensor([ 0.6582, -0.4298, -0.6793,  0.1359]),\n",
       "  tensor([ 0.0543, -0.4983,  0.9261, -0.0273,  0.0807]),\n",
       "  tensor([-0.2078, -0.1837, -0.5557, -0.2388,  0.2639,  0.3617, -0.4230,  0.2712,\n",
       "          -0.2798, -0.0191,  0.1210]),\n",
       "  tensor([-0.1783, -0.1536, -0.0678, -0.0150,  0.1157, -0.1784,  0.0068, -0.1149,\n",
       "          -0.3386,  0.4623,  0.0800, -0.0622, -0.5914, -0.0706,  0.1320,  0.1264,\n",
       "           0.1669, -0.0607, -0.0526,  0.1759, -0.1815,  0.0034, -0.0224,  0.3337,\n",
       "           0.2681,  0.0547]),\n",
       "  tensor([ 0.3746, -0.3431,  0.0300, -0.2741,  0.0340,  0.0163, -0.0901,  0.0331,\n",
       "           0.0237, -0.0539,  0.0084, -0.0283,  0.1004,  0.0470, -0.0309,  0.0045,\n",
       "          -0.0863,  0.0113, -0.5300, -0.0116,  0.0129,  0.0230,  0.0681,  0.0721,\n",
       "           0.0063,  0.0614, -0.1298, -0.5148,  0.0483,  0.1091, -0.0609, -0.1911,\n",
       "           0.0409, -0.1636,  0.0330,  0.0794,  0.0048]),\n",
       "  tensor([ 0.3204,  0.4283, -0.5926, -0.5073, -0.2224,  0.2368]),\n",
       "  tensor([-0.0784, -0.3205, -0.0854, -0.0361,  0.2024,  0.2878, -0.0130,  0.0219,\n",
       "           0.0211,  0.0613, -0.1960,  0.0222]),\n",
       "  tensor([ 0.0886, -0.0318,  0.8362, -0.0070, -0.5017, -0.2007]),\n",
       "  tensor([-6.2598e-02, -1.0306e-01,  1.8591e-02,  6.8597e-04,  3.9508e-02,\n",
       "          -1.5908e-01,  1.9285e-01,  3.6074e-02, -5.5604e-02,  5.1113e-02,\n",
       "          -2.2830e-02,  9.2599e-03, -5.5199e-02,  7.8920e-03,  1.6747e-02,\n",
       "          -5.5816e-03, -2.6326e-02,  1.1866e-02, -3.1967e-02, -7.6092e-02,\n",
       "          -2.6975e-02, -5.6741e-02,  8.2699e-01, -1.5139e-01,  1.0650e-02,\n",
       "          -6.2036e-02,  2.8583e-02, -5.0119e-02,  1.8705e-02, -1.0905e-02,\n",
       "          -4.5550e-02, -4.6151e-03, -4.6461e-02, -8.7329e-02,  5.7732e-02,\n",
       "           3.7321e-02, -6.8819e-02, -1.3879e-01, -1.0773e-02, -2.8463e-01,\n",
       "           1.5315e-02, -1.0649e-02, -7.0171e-02]),\n",
       "  tensor([-0.2959,  0.2671, -0.1945, -0.1624, -0.4132, -0.2882,  0.1179,  0.0097,\n",
       "          -0.1116,  0.2931,  0.0347,  0.2067, -0.1339, -0.1201,  0.1233, -0.0781]),\n",
       "  tensor([-0.2470,  0.3036, -0.1341, -0.8258,  0.3026,  0.2353]),\n",
       "  tensor([ 0.3413, -0.5788,  0.2611, -0.4478, -0.1611,  0.0482]),\n",
       "  tensor([ 0.3344, -0.3122, -0.0062,  0.3732,  0.1055, -0.0445,  0.0486,  0.0937,\n",
       "           0.1007, -0.7712, -0.1282,  0.0766])],\n",
       " 'raw_input_list': [['<s>', 'against', 'all', 'odds', '', '</s>'],\n",
       "  ['<s>',\n",
       "   'i',\n",
       "   'had',\n",
       "   'a',\n",
       "   'dream',\n",
       "   'that',\n",
       "   'a',\n",
       "   'smart',\n",
       "   'comedy',\n",
       "   'would',\n",
       "   'come',\n",
       "   'along',\n",
       "   'to',\n",
       "   'rescue',\n",
       "   'me',\n",
       "   'from',\n",
       "   'a',\n",
       "   'summer',\n",
       "   'of',\n",
       "   'teen-driven',\n",
       "   ',',\n",
       "   'toilet-humor',\n",
       "   'codswallop',\n",
       "   '',\n",
       "   '</s>'],\n",
       "  ['<s>',\n",
       "   'he',\n",
       "   'makes',\n",
       "   'sure',\n",
       "   'the',\n",
       "   'salton',\n",
       "   'sea',\n",
       "   'works',\n",
       "   'the',\n",
       "   'way',\n",
       "   'a',\n",
       "   'good',\n",
       "   'noir',\n",
       "   'should',\n",
       "   ',',\n",
       "   'keeping',\n",
       "   'it',\n",
       "   'tight',\n",
       "   'and',\n",
       "   'nasty',\n",
       "   '',\n",
       "   '</s>'],\n",
       "  ['<s>', 'suicidal', '', '</s>'],\n",
       "  ['<s>',\n",
       "   'is',\n",
       "   'leguizamo',\n",
       "   \"'s\",\n",
       "   'best',\n",
       "   'movie',\n",
       "   'work',\n",
       "   'so',\n",
       "   'far',\n",
       "   ',',\n",
       "   'a',\n",
       "   'subtle',\n",
       "   'and',\n",
       "   'richly',\n",
       "   'internalized',\n",
       "   'performance',\n",
       "   '',\n",
       "   '</s>'],\n",
       "  ['<s>', \"'ll\", 'enjoy', 'this', 'movie', '.', '', '</s>'],\n",
       "  ['<s>',\n",
       "   'is',\n",
       "   'worse',\n",
       "   ':',\n",
       "   'the',\n",
       "   'part',\n",
       "   'where',\n",
       "   'nothing',\n",
       "   \"'s\",\n",
       "   'happening',\n",
       "   ',',\n",
       "   'or',\n",
       "   'the',\n",
       "   'part',\n",
       "   'where',\n",
       "   'something',\n",
       "   \"'s\",\n",
       "   'happening',\n",
       "   '',\n",
       "   '</s>'],\n",
       "  ['<s>',\n",
       "   'finds',\n",
       "   'the',\n",
       "   'ideal',\n",
       "   'outlet',\n",
       "   'for',\n",
       "   'his',\n",
       "   'flick-knife',\n",
       "   'diction',\n",
       "   'in',\n",
       "   'the',\n",
       "   'role',\n",
       "   'of',\n",
       "   'roger',\n",
       "   'swanson',\n",
       "   '.',\n",
       "   '',\n",
       "   '</s>'],\n",
       "  ['<s>', 'the', 'best', 'film', 'of', 'the', 'year', '2002', '.', '', '</s>'],\n",
       "  ['<s>', 'watch', ',', 'giggle', '', '</s>'],\n",
       "  ['<s>',\n",
       "   'should',\n",
       "   'jolt',\n",
       "   'you',\n",
       "   'out',\n",
       "   'of',\n",
       "   'your',\n",
       "   'seat',\n",
       "   'a',\n",
       "   'couple',\n",
       "   'of',\n",
       "   'times',\n",
       "   ',',\n",
       "   'give',\n",
       "   'you',\n",
       "   'a',\n",
       "   'few',\n",
       "   'laughs',\n",
       "   ',',\n",
       "   'and',\n",
       "   'leave',\n",
       "   'you',\n",
       "   'feeling',\n",
       "   'like',\n",
       "   'it',\n",
       "   'was',\n",
       "   'worth',\n",
       "   'your',\n",
       "   'seven',\n",
       "   'bucks',\n",
       "   ',',\n",
       "   'even',\n",
       "   'though',\n",
       "   'it',\n",
       "   'does',\n",
       "   'turn',\n",
       "   'out',\n",
       "   'to',\n",
       "   'be',\n",
       "   'a',\n",
       "   'bit',\n",
       "   'of',\n",
       "   'a',\n",
       "   'cheat',\n",
       "   'in',\n",
       "   'the',\n",
       "   'end',\n",
       "   '.',\n",
       "   '',\n",
       "   '</s>'],\n",
       "  ['<s>', 'a', 'pretty', 'good', 'job', '', '</s>'],\n",
       "  ['<s>', 'more', 'psychotic', 'than', 'romantic', '', '</s>'],\n",
       "  ['<s>', 'being', 'gullible', '', '</s>'],\n",
       "  ['<s>', 'teen-sleaze', 'equivalent', '', '</s>'],\n",
       "  ['<s>', 'symbolic', '', '</s>'],\n",
       "  ['<s>', 'a', 'sense', 'of', 'action', '', '</s>'],\n",
       "  ['<s>',\n",
       "   ',',\n",
       "   'overnight',\n",
       "   ',',\n",
       "   'is',\n",
       "   'robbed',\n",
       "   'and',\n",
       "   'replaced',\n",
       "   'with',\n",
       "   'a',\n",
       "   'persecuted',\n",
       "   '``',\n",
       "   'other',\n",
       "   '',\n",
       "   '</s>'],\n",
       "  ['<s>',\n",
       "   'conjure',\n",
       "   'proper',\n",
       "   'respect',\n",
       "   'for',\n",
       "   'followers',\n",
       "   'of',\n",
       "   'the',\n",
       "   'whole',\n",
       "   'dead-undead',\n",
       "   'genre',\n",
       "   ',',\n",
       "   'who',\n",
       "   'deserve',\n",
       "   'more',\n",
       "   'from',\n",
       "   'a',\n",
       "   'vampire',\n",
       "   'pic',\n",
       "   'than',\n",
       "   'a',\n",
       "   'few',\n",
       "   'shrieky',\n",
       "   'special',\n",
       "   'effects',\n",
       "   '',\n",
       "   '</s>'],\n",
       "  ['<s>',\n",
       "   'our',\n",
       "   'culture',\n",
       "   'is',\n",
       "   'headed',\n",
       "   'down',\n",
       "   'the',\n",
       "   'toilet',\n",
       "   'with',\n",
       "   'the',\n",
       "   'ferocity',\n",
       "   'of',\n",
       "   'a',\n",
       "   'frozen',\n",
       "   'burrito',\n",
       "   'after',\n",
       "   'an',\n",
       "   'all-night',\n",
       "   'tequila',\n",
       "   'bender',\n",
       "   '--',\n",
       "   'and',\n",
       "   'i',\n",
       "   'know',\n",
       "   'this',\n",
       "   'because',\n",
       "   'i',\n",
       "   \"'ve\",\n",
       "   'seen',\n",
       "   '`',\n",
       "   'jackass',\n",
       "   ':',\n",
       "   'the',\n",
       "   'movie',\n",
       "   '',\n",
       "   '</s>'],\n",
       "  ['<s>', \"'s\", 'all', 'surface', 'psychodramatics', '', '</s>'],\n",
       "  ['<s>',\n",
       "   'a',\n",
       "   'beautiful',\n",
       "   'food',\n",
       "   'entrÃ©e',\n",
       "   'that',\n",
       "   'is',\n",
       "   \"n't\",\n",
       "   'heated',\n",
       "   'properly',\n",
       "   ',',\n",
       "   'so',\n",
       "   'that',\n",
       "   'it',\n",
       "   'ends',\n",
       "   'up',\n",
       "   'a',\n",
       "   'bit',\n",
       "   'cold',\n",
       "   'and',\n",
       "   'relatively',\n",
       "   'flavorless',\n",
       "   '',\n",
       "   '</s>'],\n",
       "  ['<s>',\n",
       "   'never',\n",
       "   'mind',\n",
       "   'all',\n",
       "   'that',\n",
       "   ';',\n",
       "   'the',\n",
       "   'boobs',\n",
       "   'are',\n",
       "   'fantasti',\n",
       "   '',\n",
       "   '</s>'],\n",
       "  ['<s>', 'possibly', 'will', 'enjoy', 'it', '', '</s>'],\n",
       "  ['<s>',\n",
       "   'to',\n",
       "   'give',\n",
       "   'them',\n",
       "   'credit',\n",
       "   'for',\n",
       "   ':',\n",
       "   'the',\n",
       "   'message',\n",
       "   'of',\n",
       "   'the',\n",
       "   'movie',\n",
       "   '',\n",
       "   '</s>'],\n",
       "  ['<s>', 'dudsville', '', '</s>'],\n",
       "  ['<s>', 'unadorned', '', '</s>'],\n",
       "  ['<s>',\n",
       "   'if',\n",
       "   'you',\n",
       "   'give',\n",
       "   'a',\n",
       "   'filmmaker',\n",
       "   'an',\n",
       "   'unlimited',\n",
       "   'amount',\n",
       "   'of',\n",
       "   'phony',\n",
       "   'blood',\n",
       "   '',\n",
       "   '</s>'],\n",
       "  ['<s>', 'absurdity', '', '</s>'],\n",
       "  ['<s>', 'an', 'unforgettable', '', '</s>'],\n",
       "  ['<s>',\n",
       "   '(',\n",
       "   'rises',\n",
       "   ')',\n",
       "   'above',\n",
       "   'its',\n",
       "   'oh-so-hollywood',\n",
       "   'rejiggering',\n",
       "   'and',\n",
       "   'its',\n",
       "   'conventional',\n",
       "   'direction',\n",
       "   'to',\n",
       "   'give',\n",
       "   'the',\n",
       "   'film',\n",
       "   'a',\n",
       "   'soul',\n",
       "   'and',\n",
       "   'an',\n",
       "   'unabashed',\n",
       "   'sense',\n",
       "   'of',\n",
       "   'good',\n",
       "   'old-fashioned',\n",
       "   'escapism',\n",
       "   '',\n",
       "   '</s>'],\n",
       "  ['<s>',\n",
       "   'the',\n",
       "   'mothman',\n",
       "   'prophecies',\n",
       "   ',',\n",
       "   'which',\n",
       "   'is',\n",
       "   'mostly',\n",
       "   'a',\n",
       "   'bore',\n",
       "   ',',\n",
       "   '',\n",
       "   '</s>'],\n",
       "  ['<s>', 'regardless', 'of', 'race', '', '</s>'],\n",
       "  ['<s>',\n",
       "   'have',\n",
       "   \"n't\",\n",
       "   'seen',\n",
       "   'such',\n",
       "   'self-amused',\n",
       "   'trash',\n",
       "   'since',\n",
       "   'freddy',\n",
       "   'got',\n",
       "   'fingered',\n",
       "   '',\n",
       "   '</s>'],\n",
       "  ['<s>',\n",
       "   'to',\n",
       "   'let',\n",
       "   'this',\n",
       "   'morph',\n",
       "   'into',\n",
       "   'a',\n",
       "   'typical',\n",
       "   'romantic',\n",
       "   'triangle',\n",
       "   '',\n",
       "   '</s>'],\n",
       "  ['<s>', 'the', 'hurried', ',', 'badly', 'cobbled', 'look', '', '</s>'],\n",
       "  ['<s>',\n",
       "   'i',\n",
       "   'heard',\n",
       "   'a',\n",
       "   'mysterious',\n",
       "   'voice',\n",
       "   ',',\n",
       "   'and',\n",
       "   'felt',\n",
       "   'myself',\n",
       "   'powerfully',\n",
       "   'drawn',\n",
       "   'toward',\n",
       "   'the',\n",
       "   'light',\n",
       "   '--',\n",
       "   'the',\n",
       "   'light',\n",
       "   'of',\n",
       "   'the',\n",
       "   'exit',\n",
       "   'sign',\n",
       "   '',\n",
       "   '</s>'],\n",
       "  ['<s>',\n",
       "   'would',\n",
       "   'take',\n",
       "   'a',\n",
       "   'complete',\n",
       "   'moron',\n",
       "   'to',\n",
       "   'foul',\n",
       "   'up',\n",
       "   'a',\n",
       "   'screen',\n",
       "   'adaptation',\n",
       "   'of',\n",
       "   'oscar',\n",
       "   'wilde',\n",
       "   \"'s\",\n",
       "   'classic',\n",
       "   'satire',\n",
       "   '',\n",
       "   '</s>'],\n",
       "  ['<s>', \"'s\", 'never', 'too', 'late', 'to', 'learn', '', '</s>'],\n",
       "  ['<s>',\n",
       "   'about',\n",
       "   'the',\n",
       "   'best',\n",
       "   'thing',\n",
       "   'you',\n",
       "   'could',\n",
       "   'say',\n",
       "   'about',\n",
       "   'narc',\n",
       "   'is',\n",
       "   'that',\n",
       "   'it',\n",
       "   \"'s\",\n",
       "   'a',\n",
       "   'rock-solid',\n",
       "   'little',\n",
       "   'genre',\n",
       "   'picture',\n",
       "   '.',\n",
       "   '',\n",
       "   '</s>'],\n",
       "  ['<s>', 'come', 'to', 'earth', '', '</s>'],\n",
       "  ['<s>', 'believability', '', '</s>'],\n",
       "  ['<s>',\n",
       "   'an',\n",
       "   'action/thriller',\n",
       "   'of',\n",
       "   'the',\n",
       "   'finest',\n",
       "   'kind',\n",
       "   ',',\n",
       "   'evoking',\n",
       "   'memories',\n",
       "   'of',\n",
       "   'day',\n",
       "   'of',\n",
       "   'the',\n",
       "   'jackal',\n",
       "   ',',\n",
       "   'the',\n",
       "   'french',\n",
       "   'connection',\n",
       "   ',',\n",
       "   'and',\n",
       "   'heat',\n",
       "   '.',\n",
       "   '',\n",
       "   '</s>'],\n",
       "  ['<s>',\n",
       "   'breaks',\n",
       "   'the',\n",
       "   'mood',\n",
       "   'with',\n",
       "   'absurdly',\n",
       "   'inappropriate',\n",
       "   '`',\n",
       "   'comedy',\n",
       "   \"'\",\n",
       "   'scenes',\n",
       "   '',\n",
       "   '</s>'],\n",
       "  ['<s>',\n",
       "   'sits',\n",
       "   'there',\n",
       "   'like',\n",
       "   'a',\n",
       "   'side',\n",
       "   'dish',\n",
       "   'no',\n",
       "   'one',\n",
       "   'ordered',\n",
       "   '.',\n",
       "   '',\n",
       "   '</s>'],\n",
       "  ['<s>', 'and', 'twisted', 'characters', '', '</s>'],\n",
       "  ['<s>', 'are', 'simply', 'intoxicating', '.', '', '</s>'],\n",
       "  ['<s>', 'shrek', '', '</s>'],\n",
       "  ['<s>',\n",
       "   \"'s\",\n",
       "   'notably',\n",
       "   'better',\n",
       "   'acted',\n",
       "   '--',\n",
       "   'and',\n",
       "   'far',\n",
       "   'less',\n",
       "   'crass',\n",
       "   '-',\n",
       "   'than',\n",
       "   'some',\n",
       "   'other',\n",
       "   'recent',\n",
       "   'efforts',\n",
       "   'in',\n",
       "   'the',\n",
       "   'burgeoning',\n",
       "   'genre',\n",
       "   'of',\n",
       "   'films',\n",
       "   'about',\n",
       "   'black',\n",
       "   'urban',\n",
       "   'professionals',\n",
       "   '',\n",
       "   '</s>'],\n",
       "  ['<s>', 'in', 'freshening', 'the', 'play', '', '</s>'],\n",
       "  ['<s>',\n",
       "   'a',\n",
       "   'bore',\n",
       "   'that',\n",
       "   'tends',\n",
       "   'to',\n",
       "   'hammer',\n",
       "   'home',\n",
       "   'every',\n",
       "   'one',\n",
       "   'of',\n",
       "   'its',\n",
       "   'points',\n",
       "   '.',\n",
       "   '',\n",
       "   '</s>'],\n",
       "  ['<s>',\n",
       "   'the',\n",
       "   'images',\n",
       "   'often',\n",
       "   'look',\n",
       "   'smeary',\n",
       "   'and',\n",
       "   'blurry',\n",
       "   ',',\n",
       "   'to',\n",
       "   'the',\n",
       "   'point',\n",
       "   'of',\n",
       "   'distraction',\n",
       "   '',\n",
       "   '</s>'],\n",
       "  ['<s>',\n",
       "   'than',\n",
       "   'sketches',\n",
       "   '...',\n",
       "   'which',\n",
       "   'leaves',\n",
       "   'any',\n",
       "   'true',\n",
       "   'emotional',\n",
       "   'connection',\n",
       "   'or',\n",
       "   'identification',\n",
       "   'frustratingly',\n",
       "   'out',\n",
       "   'of',\n",
       "   'reach',\n",
       "   '',\n",
       "   '</s>'],\n",
       "  ['<s>', 'stirs', 'us', '', '</s>'],\n",
       "  ['<s>', 'it', \"'s\", 'funny', '.', '', '</s>'],\n",
       "  ['<s>', 'given', 'up', '', '</s>'],\n",
       "  ['<s>', 'no', 'way', 'original', '', '</s>'],\n",
       "  ['<s>',\n",
       "   'together',\n",
       "   '(',\n",
       "   'time',\n",
       "   'out',\n",
       "   'and',\n",
       "   'human',\n",
       "   'resources',\n",
       "   ')',\n",
       "   'establish',\n",
       "   'mr.',\n",
       "   'cantet',\n",
       "   'as',\n",
       "   'france',\n",
       "   \"'s\",\n",
       "   'foremost',\n",
       "   'cinematic',\n",
       "   'poet',\n",
       "   'of',\n",
       "   'the',\n",
       "   'workplace',\n",
       "   '.',\n",
       "   '',\n",
       "   '</s>'],\n",
       "  ['<s>', 'stylish', 'and', 'moody', '', '</s>'],\n",
       "  ['<s>', 'vulgarity', '', '</s>'],\n",
       "  ['<s>',\n",
       "   'falls',\n",
       "   'short',\n",
       "   'on',\n",
       "   'tension',\n",
       "   ',',\n",
       "   'eloquence',\n",
       "   ',',\n",
       "   'spiritual',\n",
       "   'challenge',\n",
       "   '--',\n",
       "   'things',\n",
       "   'that',\n",
       "   'have',\n",
       "   'made',\n",
       "   'the',\n",
       "   'original',\n",
       "   'new',\n",
       "   'testament',\n",
       "   'stories',\n",
       "   'so',\n",
       "   'compelling',\n",
       "   'for',\n",
       "   '20',\n",
       "   'centuries',\n",
       "   '',\n",
       "   '</s>'],\n",
       "  ['<s>', 'to', 'blue', 'hilarity', '', '</s>'],\n",
       "  ['<s>',\n",
       "   'is',\n",
       "   'intriguing',\n",
       "   'but',\n",
       "   'quickly',\n",
       "   'becomes',\n",
       "   'distasteful',\n",
       "   'and',\n",
       "   'downright',\n",
       "   'creepy',\n",
       "   '',\n",
       "   '</s>'],\n",
       "  ['<s>',\n",
       "   ',',\n",
       "   'you',\n",
       "   \"'d\",\n",
       "   'probably',\n",
       "   'turn',\n",
       "   'it',\n",
       "   'off',\n",
       "   ',',\n",
       "   'convinced',\n",
       "   'that',\n",
       "   'you',\n",
       "   'had',\n",
       "   'already',\n",
       "   'seen',\n",
       "   'that',\n",
       "   'movie',\n",
       "   '.',\n",
       "   '',\n",
       "   '</s>'],\n",
       "  ['<s>',\n",
       "   'no',\n",
       "   'amount',\n",
       "   'of',\n",
       "   'burning',\n",
       "   ',',\n",
       "   'blasting',\n",
       "   ',',\n",
       "   'stabbing',\n",
       "   ',',\n",
       "   'and',\n",
       "   'shooting',\n",
       "   '',\n",
       "   '</s>'],\n",
       "  ['<s>',\n",
       "   'such',\n",
       "   'a',\n",
       "   'wildly',\n",
       "   'uneven',\n",
       "   'hit-and-miss',\n",
       "   'enterprise',\n",
       "   ',',\n",
       "   'you',\n",
       "   'ca',\n",
       "   \"n't\",\n",
       "   'help',\n",
       "   'suspecting',\n",
       "   'that',\n",
       "   'it',\n",
       "   'was',\n",
       "   'improvised',\n",
       "   'on',\n",
       "   'a',\n",
       "   'day-to-day',\n",
       "   'basis',\n",
       "   'during',\n",
       "   'production',\n",
       "   '.',\n",
       "   '',\n",
       "   '</s>'],\n",
       "  ['<s>', 'as', 'a', 'dystopian', 'movie', '', '</s>'],\n",
       "  ['<s>',\n",
       "   'i',\n",
       "   'liked',\n",
       "   'about',\n",
       "   'schmidt',\n",
       "   'a',\n",
       "   'lot',\n",
       "   ',',\n",
       "   'but',\n",
       "   'i',\n",
       "   'have',\n",
       "   'a',\n",
       "   'feeling',\n",
       "   'that',\n",
       "   'i',\n",
       "   'would',\n",
       "   'have',\n",
       "   'liked',\n",
       "   'it',\n",
       "   'much',\n",
       "   'more',\n",
       "   'if',\n",
       "   'harry',\n",
       "   '&',\n",
       "   'tonto',\n",
       "   'never',\n",
       "   'existed',\n",
       "   '',\n",
       "   '</s>'],\n",
       "  ['<s>', 'less-than-thrilling', 'thriller', '.', '', '</s>'],\n",
       "  ['<s>', 'most', 'audacious', ',', 'outrageous', '', '</s>'],\n",
       "  ['<s>', 'solid', ',', 'satisfying', 'fare', '', '</s>'],\n",
       "  ['<s>', 'a', 'mostly', 'magnificent', 'directorial', 'career', '', '</s>'],\n",
       "  ['<s>', 'marveilleux', '', '</s>'],\n",
       "  ['<s>', 'holds', 'a', 'certain', 'charm', '', '</s>'],\n",
       "  ['<s>', 'blacked', 'out', '', '</s>'],\n",
       "  ['<s>',\n",
       "   'in',\n",
       "   'trying',\n",
       "   'to',\n",
       "   'have',\n",
       "   'the',\n",
       "   'best',\n",
       "   'of',\n",
       "   'both',\n",
       "   'worlds',\n",
       "   'it',\n",
       "   'ends',\n",
       "   'up',\n",
       "   'falling',\n",
       "   'short',\n",
       "   'as',\n",
       "   'a',\n",
       "   'whole',\n",
       "   '',\n",
       "   '</s>'],\n",
       "  ['<s>', 'rush', 'through', '', '</s>'],\n",
       "  ['<s>',\n",
       "   'discover',\n",
       "   'that',\n",
       "   'the',\n",
       "   'answer',\n",
       "   'is',\n",
       "   'as',\n",
       "   'conventional',\n",
       "   'as',\n",
       "   'can',\n",
       "   'be',\n",
       "   '',\n",
       "   '</s>'],\n",
       "  ['<s>', 'is', \"n't\", 'funny', '', '</s>'],\n",
       "  ['<s>',\n",
       "   'a',\n",
       "   'characteristically',\n",
       "   'engorged',\n",
       "   'and',\n",
       "   'sloppy',\n",
       "   'coming-of-age',\n",
       "   'movie',\n",
       "   '.',\n",
       "   '',\n",
       "   '</s>'],\n",
       "  ['<s>',\n",
       "   'the',\n",
       "   'slack',\n",
       "   'complacency',\n",
       "   'of',\n",
       "   '(',\n",
       "   'godard',\n",
       "   \"'s\",\n",
       "   ')',\n",
       "   'vision',\n",
       "   '',\n",
       "   '</s>'],\n",
       "  ['<s>',\n",
       "   'luridly',\n",
       "   'graphic',\n",
       "   'and',\n",
       "   'laughably',\n",
       "   'unconvincing',\n",
       "   '',\n",
       "   '</s>'],\n",
       "  ['<s>',\n",
       "   'is',\n",
       "   'not',\n",
       "   'that',\n",
       "   'it',\n",
       "   \"'s\",\n",
       "   'offensive',\n",
       "   ',',\n",
       "   'but',\n",
       "   'that',\n",
       "   'it',\n",
       "   \"'s\",\n",
       "   'boring',\n",
       "   '.',\n",
       "   '',\n",
       "   '</s>'],\n",
       "  ['<s>',\n",
       "   'is',\n",
       "   'an',\n",
       "   'inspirational',\n",
       "   'love',\n",
       "   'story',\n",
       "   ',',\n",
       "   'capturing',\n",
       "   'the',\n",
       "   'innocence',\n",
       "   'and',\n",
       "   'idealism',\n",
       "   'of',\n",
       "   'that',\n",
       "   'first',\n",
       "   'encounter',\n",
       "   '',\n",
       "   '</s>'],\n",
       "  ['<s>',\n",
       "   'walked',\n",
       "   'away',\n",
       "   'from',\n",
       "   'this',\n",
       "   'new',\n",
       "   'version',\n",
       "   'of',\n",
       "   'e.t.',\n",
       "   'just',\n",
       "   'as',\n",
       "   'i',\n",
       "   'hoped',\n",
       "   'i',\n",
       "   'would',\n",
       "   '--',\n",
       "   'with',\n",
       "   'moist',\n",
       "   'eyes',\n",
       "   '.',\n",
       "   '',\n",
       "   '</s>'],\n",
       "  ['<s>',\n",
       "   'brings',\n",
       "   'a',\n",
       "   'youthful',\n",
       "   ',',\n",
       "   'out-to-change-the-world',\n",
       "   'aggressiveness',\n",
       "   'to',\n",
       "   'the',\n",
       "   'project',\n",
       "   ',',\n",
       "   'as',\n",
       "   'if',\n",
       "   'she',\n",
       "   \"'s\",\n",
       "   'cut',\n",
       "   'open',\n",
       "   'a',\n",
       "   'vein',\n",
       "   'and',\n",
       "   '',\n",
       "   '</s>'],\n",
       "  ['<s>',\n",
       "   'a',\n",
       "   'no-bull',\n",
       "   'throwback',\n",
       "   'to',\n",
       "   '1970s',\n",
       "   'action',\n",
       "   'films',\n",
       "   '',\n",
       "   '</s>'],\n",
       "  ['<s>', 'languishing', '', '</s>'],\n",
       "  ['<s>', 'brittle', 'desperation', '', '</s>'],\n",
       "  ['<s>',\n",
       "   'sharp',\n",
       "   'comedy',\n",
       "   ',',\n",
       "   'old-fashioned',\n",
       "   'monster',\n",
       "   'movie',\n",
       "   'atmospherics',\n",
       "   ',',\n",
       "   '',\n",
       "   '</s>'],\n",
       "  ['<s>',\n",
       "   'we',\n",
       "   'really',\n",
       "   'have',\n",
       "   \"n't\",\n",
       "   'had',\n",
       "   'a',\n",
       "   'good',\n",
       "   'cheesy',\n",
       "   'b-movie',\n",
       "   'playing',\n",
       "   'in',\n",
       "   'theaters',\n",
       "   'since',\n",
       "   '...',\n",
       "   'well',\n",
       "   '...',\n",
       "   'since',\n",
       "   'last',\n",
       "   'week',\n",
       "   \"'s\",\n",
       "   'reign',\n",
       "   'of',\n",
       "   'fire',\n",
       "   '',\n",
       "   '</s>'],\n",
       "  ['<s>',\n",
       "   'confuses',\n",
       "   'its',\n",
       "   'message',\n",
       "   'with',\n",
       "   'an',\n",
       "   'ultimate',\n",
       "   'desire',\n",
       "   'to',\n",
       "   'please',\n",
       "   ',',\n",
       "   'and',\n",
       "   'contorting',\n",
       "   'itself',\n",
       "   'into',\n",
       "   'an',\n",
       "   'idea',\n",
       "   'of',\n",
       "   'expectation',\n",
       "   'is',\n",
       "   'the',\n",
       "   'last',\n",
       "   'thing',\n",
       "   'any',\n",
       "   'of',\n",
       "   'these',\n",
       "   'three',\n",
       "   'actresses',\n",
       "   ',',\n",
       "   'nor',\n",
       "   'their',\n",
       "   'characters',\n",
       "   ',',\n",
       "   'deserve',\n",
       "   '.',\n",
       "   '',\n",
       "   '</s>'],\n",
       "  ['<s>', 'some', 'intriguing', 'characters', '', '</s>'],\n",
       "  ['<s>',\n",
       "   'veretÃ©',\n",
       "   'has',\n",
       "   'a',\n",
       "   'whip-smart',\n",
       "   'sense',\n",
       "   'of',\n",
       "   'narrative',\n",
       "   'bluffs',\n",
       "   '.',\n",
       "   '',\n",
       "   '</s>'],\n",
       "  ['<s>', 'that', 'good', 'theatre', '', '</s>'],\n",
       "  ['<s>',\n",
       "   'it',\n",
       "   'may',\n",
       "   'be',\n",
       "   'a',\n",
       "   'somewhat',\n",
       "   'backhanded',\n",
       "   'compliment',\n",
       "   'to',\n",
       "   'say',\n",
       "   'that',\n",
       "   'the',\n",
       "   'film',\n",
       "   'makes',\n",
       "   'the',\n",
       "   'viewer',\n",
       "   'feel',\n",
       "   'like',\n",
       "   'the',\n",
       "   'movie',\n",
       "   \"'s\",\n",
       "   'various',\n",
       "   'victimized',\n",
       "   'audience',\n",
       "   'members',\n",
       "   'after',\n",
       "   'a',\n",
       "   'while',\n",
       "   ',',\n",
       "   'but',\n",
       "   'it',\n",
       "   'also',\n",
       "   'happens',\n",
       "   'to',\n",
       "   'be',\n",
       "   'the',\n",
       "   'movie',\n",
       "   \"'s\",\n",
       "   'most',\n",
       "   'admirable',\n",
       "   'quality',\n",
       "   '',\n",
       "   '</s>'],\n",
       "  ['<s>',\n",
       "   'evacuations',\n",
       "   ',',\n",
       "   'and',\n",
       "   'none-too-funny',\n",
       "   'commentary',\n",
       "   'on',\n",
       "   'the',\n",
       "   'cultural',\n",
       "   'distinctions',\n",
       "   'between',\n",
       "   'americans',\n",
       "   'and',\n",
       "   'brits',\n",
       "   '',\n",
       "   '</s>'],\n",
       "  ['<s>', 'create', 'and', 'sustain', '', '</s>'],\n",
       "  ['<s>', 'laughter', 'and', 'self-exploitation', '', '</s>'],\n",
       "  ['<s>',\n",
       "   'that',\n",
       "   'a',\n",
       "   'life',\n",
       "   'like',\n",
       "   'this',\n",
       "   'can',\n",
       "   'sound',\n",
       "   'so',\n",
       "   'dull',\n",
       "   '',\n",
       "   '</s>']]}"
      ]
     },
     "execution_count": 9,
     "metadata": {},
     "output_type": "execute_result"
    }
   ],
   "source": [
    "save_info(idxs, sst2_data_raw, targets, model_out_list, raw_attr_list, conti_attr_list, raw_input_list, fname='deep_lift_out.pkl')"
   ]
  }
 ],
 "metadata": {
  "kernelspec": {
   "display_name": "Python 3 (ipykernel)",
   "language": "python",
   "name": "python3"
  },
  "language_info": {
   "codemirror_mode": {
    "name": "ipython",
    "version": 3
   },
   "file_extension": ".py",
   "mimetype": "text/x-python",
   "name": "python",
   "nbconvert_exporter": "python",
   "pygments_lexer": "ipython3",
   "version": "3.9.7"
  }
 },
 "nbformat": 4,
 "nbformat_minor": 5
}
