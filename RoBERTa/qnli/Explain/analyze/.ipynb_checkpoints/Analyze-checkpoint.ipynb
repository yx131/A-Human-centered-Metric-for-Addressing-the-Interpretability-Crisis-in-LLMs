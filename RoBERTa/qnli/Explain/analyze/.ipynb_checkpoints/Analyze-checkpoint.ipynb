{
 "cells": [
  {
   "cell_type": "code",
   "execution_count": 45,
   "id": "129e8e6b",
   "metadata": {},
   "outputs": [],
   "source": [
    "import pickle\n",
    "import json\n",
    "import numpy as np\n",
    "import pandas as pd\n",
    "import torch"
   ]
  },
  {
   "cell_type": "code",
   "execution_count": 2,
   "id": "d3257156",
   "metadata": {},
   "outputs": [],
   "source": [
    "def comp1_simu(yh, yg, ym, alpha=.3, beta_1=.5, beta_2=.5):\n",
    "    pass"
   ]
  },
  {
   "cell_type": "code",
   "execution_count": 18,
   "id": "406068d0",
   "metadata": {},
   "outputs": [],
   "source": [
    "frame_name = 'lime'\n",
    "frame_out_name = f'{frame_name}_out.pkl'\n",
    "frame_res_name =  f'{frame_name}_results.csv'\n",
    "frame_out = {}\n",
    "with open(f'{frame_out_name}', 'rb') as f:\n",
    "    frame_out = pickle.load(f)"
   ]
  },
  {
   "cell_type": "code",
   "execution_count": 19,
   "id": "81de2ece",
   "metadata": {},
   "outputs": [],
   "source": [
    "frame_res = pd.read_csv(f'{frame_res_name}')"
   ]
  },
  {
   "cell_type": "code",
   "execution_count": 22,
   "id": "a163ca20",
   "metadata": {},
   "outputs": [
    {
     "data": {
      "text/plain": [
       "Index(['HITId', 'HITTypeId', 'Title', 'Description', 'Keywords', 'Reward',\n",
       "       'CreationTime', 'MaxAssignments', 'RequesterAnnotation',\n",
       "       'AssignmentDurationInSeconds', 'AutoApprovalDelayInSeconds',\n",
       "       'Expiration', 'NumberOfSimilarHITs', 'LifetimeInSeconds',\n",
       "       'AssignmentId', 'WorkerId', 'AssignmentStatus', 'AcceptTime',\n",
       "       'SubmitTime', 'AutoApprovalTime', 'ApprovalTime', 'RejectionTime',\n",
       "       'RequesterFeedback', 'WorkTimeInSeconds', 'LifetimeApprovalRate',\n",
       "       'Last30DaysApprovalRate', 'Last7DaysApprovalRate', 'Input.sst2_number',\n",
       "       'Input.sst2', 'Answer.taskAnswers', 'Approve', 'Reject'],\n",
       "      dtype='object')"
      ]
     },
     "execution_count": 22,
     "metadata": {},
     "output_type": "execute_result"
    }
   ],
   "source": [
    "frame_res.columns"
   ]
  },
  {
   "cell_type": "code",
   "execution_count": 67,
   "id": "ee49ee5c",
   "metadata": {},
   "outputs": [
    {
     "name": "stdout",
     "output_type": "stream",
     "text": [
      "1\n",
      "False\n",
      "1\n",
      "False\n",
      "1\n",
      "True\n"
     ]
    }
   ],
   "source": [
    "\n",
    "i = 0\n",
    "for x in frame_res.groupby('Input.sst2_number'):\n",
    "    task_answers = x[1]['Answer.taskAnswers']\n",
    "    sentiment = []\n",
    "    non_red_ins, non_green_ins, fiat_red_ins, fiat_green_ins = [], [], [], []\n",
    "    for answer_string in task_answers:  #edit this portion below to adapt\n",
    "        json_obj = json.loads(answer_string)[0]\n",
    "        sentiment = 1 if json_obj['sentiment_radio']['1'] else 0\n",
    "        print(sentiment)\n",
    "        if 'non_red_in' in c.keys():\n",
    "            non_red_ins\n",
    "   \n",
    "    break"
   ]
  },
  {
   "cell_type": "code",
   "execution_count": null,
   "id": "68398cee",
   "metadata": {},
   "outputs": [],
   "source": []
  }
 ],
 "metadata": {
  "kernelspec": {
   "display_name": "Python 3 (ipykernel)",
   "language": "python",
   "name": "python3"
  },
  "language_info": {
   "codemirror_mode": {
    "name": "ipython",
    "version": 3
   },
   "file_extension": ".py",
   "mimetype": "text/x-python",
   "name": "python",
   "nbconvert_exporter": "python",
   "pygments_lexer": "ipython3",
   "version": "3.9.7"
  }
 },
 "nbformat": 4,
 "nbformat_minor": 5
}
