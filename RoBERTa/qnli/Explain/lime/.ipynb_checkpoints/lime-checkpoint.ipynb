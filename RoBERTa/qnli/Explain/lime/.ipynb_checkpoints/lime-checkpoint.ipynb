{
 "cells": [
  {
   "cell_type": "code",
   "execution_count": 1,
   "id": "806fb4a1",
   "metadata": {},
   "outputs": [],
   "source": [
    "import sys\n",
    "import torch\n",
    "sys.path.insert(0, '../../Models')\n",
    "sys.path.insert(0, '../../Utils')\n",
    "from _utils import  sample_random_glue_qnli, collect_info_for_metric, save_info, \\\n",
    "                    get_continuation_mapping, get_continuous_attributions, get_continuous_raw_inputs,\\\n",
    "                    attr_normalizing_func\n",
    "from preload_models import get_qnli_tok_n_model"
   ]
  },
  {
   "cell_type": "code",
   "execution_count": 2,
   "id": "5b0e3ec3",
   "metadata": {},
   "outputs": [
    {
     "name": "stderr",
     "output_type": "stream",
     "text": [
      "Reusing dataset glue (/home/user/.cache/huggingface/datasets/glue/qnli/1.0.0/dacbe3125aa31d7f70367a07a8a9e72a5a0bfeb5fc42e75c9db75b96da6053ad)\n"
     ]
    },
    {
     "data": {
      "application/vnd.jupyter.widget-view+json": {
       "model_id": "0ee1a8068b3b46859beea7f629bf183c",
       "version_major": 2,
       "version_minor": 0
      },
      "text/plain": [
       "  0%|          | 0/3 [00:00<?, ?it/s]"
      ]
     },
     "metadata": {},
     "output_type": "display_data"
    },
    {
     "name": "stderr",
     "output_type": "stream",
     "text": [
      "Loading cached processed dataset at /home/user/.cache/huggingface/datasets/glue/qnli/1.0.0/dacbe3125aa31d7f70367a07a8a9e72a5a0bfeb5fc42e75c9db75b96da6053ad/cache-e6d0a9c9270b6822.arrow\n",
      "Loading cached processed dataset at /home/user/.cache/huggingface/datasets/glue/qnli/1.0.0/dacbe3125aa31d7f70367a07a8a9e72a5a0bfeb5fc42e75c9db75b96da6053ad/cache-c46c5e78d2bda808.arrow\n"
     ]
    }
   ],
   "source": [
    "qnli_data_raw, targets, idxs = sample_random_glue_qnli()"
   ]
  },
  {
   "cell_type": "code",
   "execution_count": 3,
   "id": "bca0a095",
   "metadata": {},
   "outputs": [],
   "source": [
    "tokenizer, model = get_qnli_tok_n_model()"
   ]
  },
  {
   "cell_type": "code",
   "execution_count": 4,
   "id": "e92a7d03",
   "metadata": {},
   "outputs": [],
   "source": [
    "#define some containers to save some info\n",
    "model_out_list, raw_attr_list, conti_attr_list, raw_input_list = [], [], [], []"
   ]
  },
  {
   "cell_type": "code",
   "execution_count": 5,
   "id": "ad13b757",
   "metadata": {},
   "outputs": [],
   "source": [
    "from captum.attr import Lime\n",
    "from captum._utils.models.linear_model import SkLearnLasso\n",
    "from captum.attr import visualization "
   ]
  },
  {
   "cell_type": "code",
   "execution_count": 6,
   "id": "6a26c83d",
   "metadata": {},
   "outputs": [],
   "source": [
    "lime = Lime(model, interpretable_model=SkLearnLasso(alpha=0.0003))"
   ]
  },
  {
   "cell_type": "code",
   "execution_count": 7,
   "id": "1cc7ffbf",
   "metadata": {},
   "outputs": [],
   "source": [
    "def generate_record(raw_datum, target): #raw_datum expected to be a tuple/list of 2 sentences\n",
    "    #tokenizer operations\n",
    "    tokenized = tokenizer(raw_datum, truncation=True, return_offsets_mapping=True)\n",
    "    offset_mappings = tokenized['offset_mapping']\n",
    "    #concatenate the two offset_mappings together because they are fed in together\n",
    "    conti_map = get_continuation_mapping(offset_mappings[0]) + get_continuation_mapping(offset_mappings[1])\n",
    "    #change the first input_id of the second sentence to be the last input_id of the 1st sentence (i.e. an [END] token))\n",
    "    tokenized_input_ids = tokenized['input_ids'][0] + \\\n",
    "                        [tokenized['input_ids'][1][i] if i != 0 else tokenized['input_ids'][0][-1] \\\n",
    "                         for i in range(len(tokenized['input_ids'][1]))]\n",
    "    input_ids = torch.tensor(tokenized_input_ids).unsqueeze(0)\n",
    "    detokenized = [t.replace('Ġ', '') for t in tokenizer.convert_ids_to_tokens(input_ids[0])]\n",
    "    \n",
    "    #feeding input forward \n",
    "    input_emb = model.get_embeddings(input_ids)\n",
    "    pred_prob = model(input_emb).item()\n",
    "\n",
    "     #categorizing results\n",
    "    pred_class = 'No Entailment' if pred_prob < 0.5 else 'Entailment' \n",
    "    true_class = 'No Entailment' if target < 0.5 else 'Entailment' \n",
    "    \n",
    "    #attribution algorithm working\n",
    "    attribution = lime.attribute(input_emb, n_samples=3000, show_progress=True, perturbations_per_eval=1000)\n",
    "    attribution[torch.isnan(attribution)] = 0\n",
    "    word_attributions = attribution.squeeze(0).sum(dim=1)\n",
    "    word_attributions /= torch.norm(word_attributions)\n",
    "    attr_score = torch.sum(word_attributions)\n",
    "    attr_class = 'No Entailment' if attr_score < 0.5 else 'Entailment'\n",
    "    convergence_score = None\n",
    "    \n",
    "    if torch.all(torch.isnan(attr_score)):\n",
    "        print(f'nan attri score')\n",
    "        word_attributions = torch.zeros(word_attributions.size())\n",
    "    \n",
    "    \n",
    "#     #re-organizing tensors and arrays because words get split down\n",
    "    conti_attr = get_continuous_attributions(conti_map, word_attributions)\n",
    "    raw_input = get_continuous_raw_inputs(conti_map, detokenized)\n",
    "\n",
    "#     print(f'word attributions {word_attributions}')\n",
    "    print(f'pred_prob {pred_prob}')\n",
    "#     print(f'pred_class {pred_class}')\n",
    "#     print(f'true_class {true_class}')\n",
    "#     print(f'attribution {attribution}')\n",
    "#     print(f'attr_class {attr_class}')\n",
    "#     print(f'attr_score {attr_score}')\n",
    "#     print(f'raw_input {raw_input}')\n",
    "\n",
    "        \n",
    "# #     collect info for metrics later\n",
    "    collect_info_for_metric(model_out_list, pred_prob, raw_attr_list, attribution, conti_attr_list, conti_attr, raw_input_list, raw_input)\n",
    "        \n",
    "    \n",
    "    visual_record = visualization.VisualizationDataRecord(word_attributions=conti_attr,\n",
    "                                                         pred_prob=pred_prob,\n",
    "                                                         pred_class=pred_class,\n",
    "                                                         true_class=true_class,\n",
    "                                                         attr_class=attr_class,\n",
    "                                                         attr_score=attr_score,\n",
    "                                                         raw_input=raw_input,\n",
    "                                                         convergence_score=convergence_score)\n",
    "        \n",
    "        \n",
    "    return visual_record\n",
    "      \n",
    "    "
   ]
  },
  {
   "cell_type": "code",
   "execution_count": 8,
   "id": "b0321c07",
   "metadata": {
    "scrolled": false
   },
   "outputs": [
    {
     "name": "stderr",
     "output_type": "stream",
     "text": [
      "/home/user/anaconda3/envs/py38/lib/python3.9/site-packages/captum/attr/_core/lime.py:1088: UserWarning: Attempting to construct interpretable model with > 10000 features.This can be very slow or lead to OOM issues. Please provide a featuremask which groups input features to reduce the number of interpretablefeatures. \n",
      "  warnings.warn(\n"
     ]
    },
    {
     "name": "stdout",
     "output_type": "stream",
     "text": [
      "i: 0\n",
      "Raw datum: ['What would a teacher assess the levels of a student on?', 'For example, an experienced teacher and parent described the place of a teacher in learning as follows: \"The real bulk of learning takes place in self-study and problem solving with a lot of feedback around that loop.']\n",
      "GT target: 0\n"
     ]
    },
    {
     "name": "stderr",
     "output_type": "stream",
     "text": [
      "Lime attribution: 100%|███████████████████████████| 3/3 [00:26<00:00,  8.93s/it]\n"
     ]
    },
    {
     "name": "stdout",
     "output_type": "stream",
     "text": [
      "word attr tensor([-0.1467, -0.0370,  0.0575, -0.0475, -0.0463,  0.1969,  0.0827, -0.0557,\n",
      "        -0.1787, -0.1888, -0.0431,  0.0125,  0.0017, -0.2605,  0.0620,  0.0006,\n",
      "        -0.2459,  0.0196,  0.0032,  0.0490, -0.0368,  0.0391, -0.0868, -0.1155,\n",
      "        -0.0821,  0.1339,  0.0693,  0.1809,  0.1490,  0.1548,  0.1088, -0.1626,\n",
      "        -0.0428, -0.0386, -0.2310,  0.1124, -0.0094,  0.0768, -0.1222,  0.0280,\n",
      "        -0.1724,  0.2957,  0.0101, -0.0029,  0.1973,  0.0118,  0.0006,  0.1266,\n",
      "        -0.0576, -0.0652, -0.2034, -0.0867, -0.1988, -0.1132, -0.3260, -0.0349,\n",
      "        -0.1287, -0.2206, -0.0280])\n",
      "conti attr [tensor(-0.1467), tensor(-0.0370), tensor(0.0575), tensor(-0.0475), tensor(-0.0463), tensor(0.1969), tensor(0.0827), tensor(-0.0557), tensor(-0.1787), tensor(-0.1888), tensor(-0.0431), tensor(0.0142), tensor(-0.2605), tensor(0.0620), tensor(0.0006), tensor(-0.2263), tensor(0.0032), tensor(0.0490), tensor(-0.0368), tensor(0.0391), tensor(-0.0868), tensor(-0.1155), tensor(-0.0821), tensor(0.1339), tensor(0.0693), tensor(0.1809), tensor(0.1490), tensor(0.1548), tensor(0.1088), tensor(-0.1626), tensor(-0.0814), tensor(-0.1186), tensor(-0.0094), tensor(0.0768), tensor(-0.1222), tensor(0.0280), tensor(-0.1724), tensor(0.2957), tensor(0.0101), tensor(0.2062), tensor(0.0006), tensor(0.1266), tensor(-0.0576), tensor(-0.0652), tensor(-0.2034), tensor(-0.0867), tensor(-0.1988), tensor(-0.1132), tensor(-0.3260), tensor(-0.0349), tensor(-0.3493), tensor(-0.0280)]\n",
      "detokenized ['<s>', 'What', 'would', 'a', 'teacher', 'assess', 'the', 'levels', 'of', 'a', 'student', 'on', '?', '</s>', '</s>', 'For', 'example', ',', 'an', 'experienced', 'teacher', 'and', 'parent', 'described', 'the', 'place', 'of', 'a', 'teacher', 'in', 'learning', 'as', 'follows', ':', '\"', 'The', 'real', 'bulk', 'of', 'learning', 'takes', 'place', 'in', 'self', '-', 'study', 'and', 'problem', 'solving', 'with', 'a', 'lot', 'of', 'feedback', 'around', 'that', 'loop', '.', '</s>']\n",
      "len conti_raw 52\n",
      "conti_raw ['<s>', 'What', 'would', 'a', 'teacher', 'assess', 'the', 'levels', 'of', 'a', 'student', 'on?', '</s>', '</s>', 'For', 'example,', 'an', 'experienced', 'teacher', 'and', 'parent', 'described', 'the', 'place', 'of', 'a', 'teacher', 'in', 'learning', 'as', 'follows:', '\"The', 'real', 'bulk', 'of', 'learning', 'takes', 'place', 'in', 'self-study', 'and', 'problem', 'solving', 'with', 'a', 'lot', 'of', 'feedback', 'around', 'that', 'loop.', '</s>']\n",
      "pred_prob 0.002108788350597024\n"
     ]
    },
    {
     "data": {
      "text/html": [
       "<table width: 100%><div style=\"border-top: 1px solid; margin-top: 5px;             padding-top: 5px; display: inline-block\"><b>Legend: </b><span style=\"display: inline-block; width: 10px; height: 10px;                 border: 1px solid; background-color:                 hsl(0, 75%, 60%)\"></span> Negative  <span style=\"display: inline-block; width: 10px; height: 10px;                 border: 1px solid; background-color:                 hsl(0, 75%, 100%)\"></span> Neutral  <span style=\"display: inline-block; width: 10px; height: 10px;                 border: 1px solid; background-color:                 hsl(120, 75%, 50%)\"></span> Positive  </div><tr><th>True Label</th><th>Predicted Label</th><th>Attribution Label</th><th>Attribution Score</th><th>Word Importance</th><tr><td><text style=\"padding-right:2em\"><b>No Entailment</b></text></td><td><text style=\"padding-right:2em\"><b>No Entailment (0.00)</b></text></td><td><text style=\"padding-right:2em\"><b>No Entailment</b></text></td><td><text style=\"padding-right:2em\"><b>-1.64</b></text></td><td><mark style=\"background-color: hsl(0, 75%, 95%); opacity:1.0;                     line-height:1.75\"><font color=\"black\"> #s                    </font></mark><mark style=\"background-color: hsl(0, 75%, 99%); opacity:1.0;                     line-height:1.75\"><font color=\"black\"> What                    </font></mark><mark style=\"background-color: hsl(120, 75%, 98%); opacity:1.0;                     line-height:1.75\"><font color=\"black\"> would                    </font></mark><mark style=\"background-color: hsl(0, 75%, 99%); opacity:1.0;                     line-height:1.75\"><font color=\"black\"> a                    </font></mark><mark style=\"background-color: hsl(0, 75%, 99%); opacity:1.0;                     line-height:1.75\"><font color=\"black\"> teacher                    </font></mark><mark style=\"background-color: hsl(120, 75%, 91%); opacity:1.0;                     line-height:1.75\"><font color=\"black\"> assess                    </font></mark><mark style=\"background-color: hsl(120, 75%, 96%); opacity:1.0;                     line-height:1.75\"><font color=\"black\"> the                    </font></mark><mark style=\"background-color: hsl(0, 75%, 98%); opacity:1.0;                     line-height:1.75\"><font color=\"black\"> levels                    </font></mark><mark style=\"background-color: hsl(0, 75%, 93%); opacity:1.0;                     line-height:1.75\"><font color=\"black\"> of                    </font></mark><mark style=\"background-color: hsl(0, 75%, 93%); opacity:1.0;                     line-height:1.75\"><font color=\"black\"> a                    </font></mark><mark style=\"background-color: hsl(0, 75%, 99%); opacity:1.0;                     line-height:1.75\"><font color=\"black\"> student                    </font></mark><mark style=\"background-color: hsl(120, 75%, 100%); opacity:1.0;                     line-height:1.75\"><font color=\"black\"> on?                    </font></mark><mark style=\"background-color: hsl(0, 75%, 90%); opacity:1.0;                     line-height:1.75\"><font color=\"black\"> #/s                    </font></mark><mark style=\"background-color: hsl(120, 75%, 97%); opacity:1.0;                     line-height:1.75\"><font color=\"black\"> #/s                    </font></mark><mark style=\"background-color: hsl(120, 75%, 100%); opacity:1.0;                     line-height:1.75\"><font color=\"black\"> For                    </font></mark><mark style=\"background-color: hsl(0, 75%, 91%); opacity:1.0;                     line-height:1.75\"><font color=\"black\"> example,                    </font></mark><mark style=\"background-color: hsl(120, 75%, 100%); opacity:1.0;                     line-height:1.75\"><font color=\"black\"> an                    </font></mark><mark style=\"background-color: hsl(120, 75%, 98%); opacity:1.0;                     line-height:1.75\"><font color=\"black\"> experienced                    </font></mark><mark style=\"background-color: hsl(0, 75%, 99%); opacity:1.0;                     line-height:1.75\"><font color=\"black\"> teacher                    </font></mark><mark style=\"background-color: hsl(120, 75%, 99%); opacity:1.0;                     line-height:1.75\"><font color=\"black\"> and                    </font></mark><mark style=\"background-color: hsl(0, 75%, 97%); opacity:1.0;                     line-height:1.75\"><font color=\"black\"> parent                    </font></mark><mark style=\"background-color: hsl(0, 75%, 96%); opacity:1.0;                     line-height:1.75\"><font color=\"black\"> described                    </font></mark><mark style=\"background-color: hsl(0, 75%, 97%); opacity:1.0;                     line-height:1.75\"><font color=\"black\"> the                    </font></mark><mark style=\"background-color: hsl(120, 75%, 94%); opacity:1.0;                     line-height:1.75\"><font color=\"black\"> place                    </font></mark><mark style=\"background-color: hsl(120, 75%, 97%); opacity:1.0;                     line-height:1.75\"><font color=\"black\"> of                    </font></mark><mark style=\"background-color: hsl(120, 75%, 91%); opacity:1.0;                     line-height:1.75\"><font color=\"black\"> a                    </font></mark><mark style=\"background-color: hsl(120, 75%, 93%); opacity:1.0;                     line-height:1.75\"><font color=\"black\"> teacher                    </font></mark><mark style=\"background-color: hsl(120, 75%, 93%); opacity:1.0;                     line-height:1.75\"><font color=\"black\"> in                    </font></mark><mark style=\"background-color: hsl(120, 75%, 95%); opacity:1.0;                     line-height:1.75\"><font color=\"black\"> learning                    </font></mark><mark style=\"background-color: hsl(0, 75%, 94%); opacity:1.0;                     line-height:1.75\"><font color=\"black\"> as                    </font></mark><mark style=\"background-color: hsl(0, 75%, 97%); opacity:1.0;                     line-height:1.75\"><font color=\"black\"> follows:                    </font></mark><mark style=\"background-color: hsl(0, 75%, 96%); opacity:1.0;                     line-height:1.75\"><font color=\"black\"> \"The                    </font></mark><mark style=\"background-color: hsl(0, 75%, 100%); opacity:1.0;                     line-height:1.75\"><font color=\"black\"> real                    </font></mark><mark style=\"background-color: hsl(120, 75%, 97%); opacity:1.0;                     line-height:1.75\"><font color=\"black\"> bulk                    </font></mark><mark style=\"background-color: hsl(0, 75%, 96%); opacity:1.0;                     line-height:1.75\"><font color=\"black\"> of                    </font></mark><mark style=\"background-color: hsl(120, 75%, 99%); opacity:1.0;                     line-height:1.75\"><font color=\"black\"> learning                    </font></mark><mark style=\"background-color: hsl(0, 75%, 94%); opacity:1.0;                     line-height:1.75\"><font color=\"black\"> takes                    </font></mark><mark style=\"background-color: hsl(120, 75%, 86%); opacity:1.0;                     line-height:1.75\"><font color=\"black\"> place                    </font></mark><mark style=\"background-color: hsl(120, 75%, 100%); opacity:1.0;                     line-height:1.75\"><font color=\"black\"> in                    </font></mark><mark style=\"background-color: hsl(120, 75%, 90%); opacity:1.0;                     line-height:1.75\"><font color=\"black\"> self-study                    </font></mark><mark style=\"background-color: hsl(120, 75%, 100%); opacity:1.0;                     line-height:1.75\"><font color=\"black\"> and                    </font></mark><mark style=\"background-color: hsl(120, 75%, 94%); opacity:1.0;                     line-height:1.75\"><font color=\"black\"> problem                    </font></mark><mark style=\"background-color: hsl(0, 75%, 98%); opacity:1.0;                     line-height:1.75\"><font color=\"black\"> solving                    </font></mark><mark style=\"background-color: hsl(0, 75%, 98%); opacity:1.0;                     line-height:1.75\"><font color=\"black\"> with                    </font></mark><mark style=\"background-color: hsl(0, 75%, 92%); opacity:1.0;                     line-height:1.75\"><font color=\"black\"> a                    </font></mark><mark style=\"background-color: hsl(0, 75%, 97%); opacity:1.0;                     line-height:1.75\"><font color=\"black\"> lot                    </font></mark><mark style=\"background-color: hsl(0, 75%, 93%); opacity:1.0;                     line-height:1.75\"><font color=\"black\"> of                    </font></mark><mark style=\"background-color: hsl(0, 75%, 96%); opacity:1.0;                     line-height:1.75\"><font color=\"black\"> feedback                    </font></mark><mark style=\"background-color: hsl(0, 75%, 87%); opacity:1.0;                     line-height:1.75\"><font color=\"black\"> around                    </font></mark><mark style=\"background-color: hsl(0, 75%, 99%); opacity:1.0;                     line-height:1.75\"><font color=\"black\"> that                    </font></mark><mark style=\"background-color: hsl(0, 75%, 87%); opacity:1.0;                     line-height:1.75\"><font color=\"black\"> loop.                    </font></mark><mark style=\"background-color: hsl(0, 75%, 99%); opacity:1.0;                     line-height:1.75\"><font color=\"black\"> #/s                    </font></mark></td><tr></table>"
      ],
      "text/plain": [
       "<IPython.core.display.HTML object>"
      ]
     },
     "metadata": {},
     "output_type": "display_data"
    },
    {
     "name": "stderr",
     "output_type": "stream",
     "text": [
      "/home/user/anaconda3/envs/py38/lib/python3.9/site-packages/captum/attr/_core/lime.py:1088: UserWarning: Attempting to construct interpretable model with > 10000 features.This can be very slow or lead to OOM issues. Please provide a featuremask which groups input features to reduce the number of interpretablefeatures. \n",
      "  warnings.warn(\n"
     ]
    },
    {
     "name": "stdout",
     "output_type": "stream",
     "text": [
      "<IPython.core.display.HTML object>\n",
      "i: 1\n",
      "Raw datum: ['What company created Doctor Who?', 'Who character by BBC Television in the early 1960s, a myriad of stories have been published about Doctor Who, in different media: apart from the actual television episodes that continue to be produced by the BBC, there have also been novels, comics, short stories, audio books, radio plays, interactive video games, game books, webcasts, DVD extras, and even stage performances.']\n",
      "GT target: 1\n"
     ]
    },
    {
     "name": "stderr",
     "output_type": "stream",
     "text": [
      "Lime attribution: 100%|███████████████████████████| 3/3 [00:38<00:00, 12.98s/it]\n"
     ]
    },
    {
     "name": "stdout",
     "output_type": "stream",
     "text": [
      "word attr tensor([-0.1497, -0.1597,  0.1096,  0.0474,  0.4419,  0.1062,  0.1073, -0.0669,\n",
      "        -0.0421,  0.1085, -0.0363,  0.0541, -0.3056,  0.0214, -0.1141,  0.0929,\n",
      "         0.0770, -0.0614,  0.1169, -0.0564, -0.0399,  0.0777,  0.0049, -0.0553,\n",
      "         0.0322,  0.0472, -0.1308, -0.0505,  0.0212, -0.0150, -0.0472, -0.1418,\n",
      "        -0.0242, -0.1254, -0.0537, -0.1684,  0.0511, -0.1129, -0.1216,  0.0779,\n",
      "        -0.0401, -0.0778, -0.0091, -0.0706, -0.1879, -0.0634, -0.0312, -0.0887,\n",
      "         0.2185,  0.0435, -0.0441,  0.0292, -0.0040,  0.0790,  0.2849, -0.0400,\n",
      "         0.0866, -0.1287, -0.1753, -0.0267,  0.0725, -0.0469,  0.0277, -0.0351,\n",
      "        -0.0681, -0.0123,  0.0798,  0.1384, -0.0137, -0.0139,  0.0255, -0.0030,\n",
      "         0.0757, -0.0426,  0.0117, -0.0427,  0.0105, -0.0039,  0.1304,  0.0238,\n",
      "         0.0222,  0.2541,  0.1147,  0.1022,  0.0195, -0.0048])\n",
      "conti attr [tensor(-0.1497), tensor(-0.1597), tensor(0.1096), tensor(0.0474), tensor(0.4419), tensor(0.2134), tensor(-0.0669), tensor(-0.0421), tensor(0.1085), tensor(-0.0363), tensor(0.0541), tensor(-0.3056), tensor(0.0214), tensor(-0.1141), tensor(0.0929), tensor(0.0770), tensor(-0.0009), tensor(-0.0399), tensor(0.0777), tensor(0.0049), tensor(-0.0553), tensor(0.0322), tensor(0.0472), tensor(-0.1308), tensor(-0.0505), tensor(0.0212), tensor(-0.0622), tensor(-0.1418), tensor(-0.0242), tensor(-0.1791), tensor(-0.1684), tensor(0.0511), tensor(-0.1129), tensor(-0.1216), tensor(0.0779), tensor(-0.0401), tensor(-0.0778), tensor(-0.0091), tensor(-0.0706), tensor(-0.1879), tensor(-0.0634), tensor(-0.0312), tensor(-0.0887), tensor(0.2620), tensor(-0.0441), tensor(0.0292), tensor(-0.0040), tensor(0.0790), tensor(0.2449), tensor(-0.0421), tensor(-0.1753), tensor(0.0458), tensor(-0.0469), tensor(-0.0074), tensor(-0.0681), tensor(0.0675), tensor(0.1384), tensor(-0.0137), tensor(0.0115), tensor(-0.0030), tensor(0.0331), tensor(-0.0205), tensor(-0.0039), tensor(0.1542), tensor(0.0222), tensor(0.2541), tensor(0.1147), tensor(0.1217), tensor(-0.0048)]\n",
      "detokenized ['<s>', 'What', 'company', 'created', 'Doctor', 'Who', '?', '</s>', '</s>', 'Who', 'character', 'by', 'BBC', 'Television', 'in', 'the', 'early', '1960', 's', ',', 'a', 'myriad', 'of', 'stories', 'have', 'been', 'published', 'about', 'Doctor', 'Who', ',', 'in', 'different', 'media', ':', 'apart', 'from', 'the', 'actual', 'television', 'episodes', 'that', 'continue', 'to', 'be', 'produced', 'by', 'the', 'BBC', ',', 'there', 'have', 'also', 'been', 'novels', ',', 'comics', ',', 'short', 'stories', ',', 'audio', 'books', ',', 'radio', 'plays', ',', 'interactive', 'video', 'games', ',', 'game', 'books', ',', 'web', 'casts', ',', 'DVD', 'extras', ',', 'and', 'even', 'stage', 'performances', '.', '</s>']\n",
      "len conti_raw 69\n",
      "conti_raw ['<s>', 'What', 'company', 'created', 'Doctor', 'Who?', '</s>', '</s>', 'Who', 'character', 'by', 'BBC', 'Television', 'in', 'the', 'early', '1960s,', 'a', 'myriad', 'of', 'stories', 'have', 'been', 'published', 'about', 'Doctor', 'Who,', 'in', 'different', 'media:', 'apart', 'from', 'the', 'actual', 'television', 'episodes', 'that', 'continue', 'to', 'be', 'produced', 'by', 'the', 'BBC,', 'there', 'have', 'also', 'been', 'novels,', 'comics,', 'short', 'stories,', 'audio', 'books,', 'radio', 'plays,', 'interactive', 'video', 'games,', 'game', 'books,', 'webcasts,', 'DVD', 'extras,', 'and', 'even', 'stage', 'performances.', '</s>']\n",
      "pred_prob 0.01398939173668623\n"
     ]
    },
    {
     "data": {
      "text/html": [
       "<table width: 100%><div style=\"border-top: 1px solid; margin-top: 5px;             padding-top: 5px; display: inline-block\"><b>Legend: </b><span style=\"display: inline-block; width: 10px; height: 10px;                 border: 1px solid; background-color:                 hsl(0, 75%, 60%)\"></span> Negative  <span style=\"display: inline-block; width: 10px; height: 10px;                 border: 1px solid; background-color:                 hsl(0, 75%, 100%)\"></span> Neutral  <span style=\"display: inline-block; width: 10px; height: 10px;                 border: 1px solid; background-color:                 hsl(120, 75%, 50%)\"></span> Positive  </div><tr><th>True Label</th><th>Predicted Label</th><th>Attribution Label</th><th>Attribution Score</th><th>Word Importance</th><tr><td><text style=\"padding-right:2em\"><b>Entailment</b></text></td><td><text style=\"padding-right:2em\"><b>No Entailment (0.01)</b></text></td><td><text style=\"padding-right:2em\"><b>No Entailment</b></text></td><td><text style=\"padding-right:2em\"><b>0.09</b></text></td><td><mark style=\"background-color: hsl(0, 75%, 95%); opacity:1.0;                     line-height:1.75\"><font color=\"black\"> #s                    </font></mark><mark style=\"background-color: hsl(0, 75%, 94%); opacity:1.0;                     line-height:1.75\"><font color=\"black\"> What                    </font></mark><mark style=\"background-color: hsl(120, 75%, 95%); opacity:1.0;                     line-height:1.75\"><font color=\"black\"> company                    </font></mark><mark style=\"background-color: hsl(120, 75%, 98%); opacity:1.0;                     line-height:1.75\"><font color=\"black\"> created                    </font></mark><mark style=\"background-color: hsl(120, 75%, 78%); opacity:1.0;                     line-height:1.75\"><font color=\"black\"> Doctor                    </font></mark><mark style=\"background-color: hsl(120, 75%, 90%); opacity:1.0;                     line-height:1.75\"><font color=\"black\"> Who?                    </font></mark><mark style=\"background-color: hsl(0, 75%, 98%); opacity:1.0;                     line-height:1.75\"><font color=\"black\"> #/s                    </font></mark><mark style=\"background-color: hsl(0, 75%, 99%); opacity:1.0;                     line-height:1.75\"><font color=\"black\"> #/s                    </font></mark><mark style=\"background-color: hsl(120, 75%, 95%); opacity:1.0;                     line-height:1.75\"><font color=\"black\"> Who                    </font></mark><mark style=\"background-color: hsl(0, 75%, 99%); opacity:1.0;                     line-height:1.75\"><font color=\"black\"> character                    </font></mark><mark style=\"background-color: hsl(120, 75%, 98%); opacity:1.0;                     line-height:1.75\"><font color=\"black\"> by                    </font></mark><mark style=\"background-color: hsl(0, 75%, 88%); opacity:1.0;                     line-height:1.75\"><font color=\"black\"> BBC                    </font></mark><mark style=\"background-color: hsl(120, 75%, 99%); opacity:1.0;                     line-height:1.75\"><font color=\"black\"> Television                    </font></mark><mark style=\"background-color: hsl(0, 75%, 96%); opacity:1.0;                     line-height:1.75\"><font color=\"black\"> in                    </font></mark><mark style=\"background-color: hsl(120, 75%, 96%); opacity:1.0;                     line-height:1.75\"><font color=\"black\"> the                    </font></mark><mark style=\"background-color: hsl(120, 75%, 97%); opacity:1.0;                     line-height:1.75\"><font color=\"black\"> early                    </font></mark><mark style=\"background-color: hsl(0, 75%, 100%); opacity:1.0;                     line-height:1.75\"><font color=\"black\"> 1960s,                    </font></mark><mark style=\"background-color: hsl(0, 75%, 99%); opacity:1.0;                     line-height:1.75\"><font color=\"black\"> a                    </font></mark><mark style=\"background-color: hsl(120, 75%, 97%); opacity:1.0;                     line-height:1.75\"><font color=\"black\"> myriad                    </font></mark><mark style=\"background-color: hsl(120, 75%, 100%); opacity:1.0;                     line-height:1.75\"><font color=\"black\"> of                    </font></mark><mark style=\"background-color: hsl(0, 75%, 98%); opacity:1.0;                     line-height:1.75\"><font color=\"black\"> stories                    </font></mark><mark style=\"background-color: hsl(120, 75%, 99%); opacity:1.0;                     line-height:1.75\"><font color=\"black\"> have                    </font></mark><mark style=\"background-color: hsl(120, 75%, 98%); opacity:1.0;                     line-height:1.75\"><font color=\"black\"> been                    </font></mark><mark style=\"background-color: hsl(0, 75%, 95%); opacity:1.0;                     line-height:1.75\"><font color=\"black\"> published                    </font></mark><mark style=\"background-color: hsl(0, 75%, 98%); opacity:1.0;                     line-height:1.75\"><font color=\"black\"> about                    </font></mark><mark style=\"background-color: hsl(120, 75%, 99%); opacity:1.0;                     line-height:1.75\"><font color=\"black\"> Doctor                    </font></mark><mark style=\"background-color: hsl(0, 75%, 98%); opacity:1.0;                     line-height:1.75\"><font color=\"black\"> Who,                    </font></mark><mark style=\"background-color: hsl(0, 75%, 95%); opacity:1.0;                     line-height:1.75\"><font color=\"black\"> in                    </font></mark><mark style=\"background-color: hsl(0, 75%, 100%); opacity:1.0;                     line-height:1.75\"><font color=\"black\"> different                    </font></mark><mark style=\"background-color: hsl(0, 75%, 93%); opacity:1.0;                     line-height:1.75\"><font color=\"black\"> media:                    </font></mark><mark style=\"background-color: hsl(0, 75%, 94%); opacity:1.0;                     line-height:1.75\"><font color=\"black\"> apart                    </font></mark><mark style=\"background-color: hsl(120, 75%, 98%); opacity:1.0;                     line-height:1.75\"><font color=\"black\"> from                    </font></mark><mark style=\"background-color: hsl(0, 75%, 96%); opacity:1.0;                     line-height:1.75\"><font color=\"black\"> the                    </font></mark><mark style=\"background-color: hsl(0, 75%, 96%); opacity:1.0;                     line-height:1.75\"><font color=\"black\"> actual                    </font></mark><mark style=\"background-color: hsl(120, 75%, 97%); opacity:1.0;                     line-height:1.75\"><font color=\"black\"> television                    </font></mark><mark style=\"background-color: hsl(0, 75%, 99%); opacity:1.0;                     line-height:1.75\"><font color=\"black\"> episodes                    </font></mark><mark style=\"background-color: hsl(0, 75%, 97%); opacity:1.0;                     line-height:1.75\"><font color=\"black\"> that                    </font></mark><mark style=\"background-color: hsl(0, 75%, 100%); opacity:1.0;                     line-height:1.75\"><font color=\"black\"> continue                    </font></mark><mark style=\"background-color: hsl(0, 75%, 98%); opacity:1.0;                     line-height:1.75\"><font color=\"black\"> to                    </font></mark><mark style=\"background-color: hsl(0, 75%, 93%); opacity:1.0;                     line-height:1.75\"><font color=\"black\"> be                    </font></mark><mark style=\"background-color: hsl(0, 75%, 98%); opacity:1.0;                     line-height:1.75\"><font color=\"black\"> produced                    </font></mark><mark style=\"background-color: hsl(0, 75%, 99%); opacity:1.0;                     line-height:1.75\"><font color=\"black\"> by                    </font></mark><mark style=\"background-color: hsl(0, 75%, 97%); opacity:1.0;                     line-height:1.75\"><font color=\"black\"> the                    </font></mark><mark style=\"background-color: hsl(120, 75%, 87%); opacity:1.0;                     line-height:1.75\"><font color=\"black\"> BBC,                    </font></mark><mark style=\"background-color: hsl(0, 75%, 99%); opacity:1.0;                     line-height:1.75\"><font color=\"black\"> there                    </font></mark><mark style=\"background-color: hsl(120, 75%, 99%); opacity:1.0;                     line-height:1.75\"><font color=\"black\"> have                    </font></mark><mark style=\"background-color: hsl(0, 75%, 100%); opacity:1.0;                     line-height:1.75\"><font color=\"black\"> also                    </font></mark><mark style=\"background-color: hsl(120, 75%, 97%); opacity:1.0;                     line-height:1.75\"><font color=\"black\"> been                    </font></mark><mark style=\"background-color: hsl(120, 75%, 88%); opacity:1.0;                     line-height:1.75\"><font color=\"black\"> novels,                    </font></mark><mark style=\"background-color: hsl(0, 75%, 99%); opacity:1.0;                     line-height:1.75\"><font color=\"black\"> comics,                    </font></mark><mark style=\"background-color: hsl(0, 75%, 93%); opacity:1.0;                     line-height:1.75\"><font color=\"black\"> short                    </font></mark><mark style=\"background-color: hsl(120, 75%, 98%); opacity:1.0;                     line-height:1.75\"><font color=\"black\"> stories,                    </font></mark><mark style=\"background-color: hsl(0, 75%, 99%); opacity:1.0;                     line-height:1.75\"><font color=\"black\"> audio                    </font></mark><mark style=\"background-color: hsl(0, 75%, 100%); opacity:1.0;                     line-height:1.75\"><font color=\"black\"> books,                    </font></mark><mark style=\"background-color: hsl(0, 75%, 98%); opacity:1.0;                     line-height:1.75\"><font color=\"black\"> radio                    </font></mark><mark style=\"background-color: hsl(120, 75%, 97%); opacity:1.0;                     line-height:1.75\"><font color=\"black\"> plays,                    </font></mark><mark style=\"background-color: hsl(120, 75%, 94%); opacity:1.0;                     line-height:1.75\"><font color=\"black\"> interactive                    </font></mark><mark style=\"background-color: hsl(0, 75%, 100%); opacity:1.0;                     line-height:1.75\"><font color=\"black\"> video                    </font></mark><mark style=\"background-color: hsl(120, 75%, 100%); opacity:1.0;                     line-height:1.75\"><font color=\"black\"> games,                    </font></mark><mark style=\"background-color: hsl(0, 75%, 100%); opacity:1.0;                     line-height:1.75\"><font color=\"black\"> game                    </font></mark><mark style=\"background-color: hsl(120, 75%, 99%); opacity:1.0;                     line-height:1.75\"><font color=\"black\"> books,                    </font></mark><mark style=\"background-color: hsl(0, 75%, 100%); opacity:1.0;                     line-height:1.75\"><font color=\"black\"> webcasts,                    </font></mark><mark style=\"background-color: hsl(0, 75%, 100%); opacity:1.0;                     line-height:1.75\"><font color=\"black\"> DVD                    </font></mark><mark style=\"background-color: hsl(120, 75%, 93%); opacity:1.0;                     line-height:1.75\"><font color=\"black\"> extras,                    </font></mark><mark style=\"background-color: hsl(120, 75%, 99%); opacity:1.0;                     line-height:1.75\"><font color=\"black\"> and                    </font></mark><mark style=\"background-color: hsl(120, 75%, 88%); opacity:1.0;                     line-height:1.75\"><font color=\"black\"> even                    </font></mark><mark style=\"background-color: hsl(120, 75%, 95%); opacity:1.0;                     line-height:1.75\"><font color=\"black\"> stage                    </font></mark><mark style=\"background-color: hsl(120, 75%, 94%); opacity:1.0;                     line-height:1.75\"><font color=\"black\"> performances.                    </font></mark><mark style=\"background-color: hsl(0, 75%, 100%); opacity:1.0;                     line-height:1.75\"><font color=\"black\"> #/s                    </font></mark></td><tr></table>"
      ],
      "text/plain": [
       "<IPython.core.display.HTML object>"
      ]
     },
     "metadata": {},
     "output_type": "display_data"
    },
    {
     "name": "stderr",
     "output_type": "stream",
     "text": [
      "/home/user/anaconda3/envs/py38/lib/python3.9/site-packages/captum/attr/_core/lime.py:1088: UserWarning: Attempting to construct interpretable model with > 10000 features.This can be very slow or lead to OOM issues. Please provide a featuremask which groups input features to reduce the number of interpretablefeatures. \n",
      "  warnings.warn(\n"
     ]
    },
    {
     "name": "stdout",
     "output_type": "stream",
     "text": [
      "<IPython.core.display.HTML object>\n",
      "i: 2\n",
      "Raw datum: ['What was the name of the Media Day event for Super Bowl 50?', \"The game's media day, which was typically held on the Tuesday afternoon prior to the game, was moved to the Monday evening and re-branded as Super Bowl Opening Night.\"]\n",
      "GT target: 1\n"
     ]
    },
    {
     "name": "stderr",
     "output_type": "stream",
     "text": [
      "Lime attribution: 100%|███████████████████████████| 3/3 [00:22<00:00,  7.45s/it]\n"
     ]
    },
    {
     "name": "stdout",
     "output_type": "stream",
     "text": [
      "word attr tensor([-0.0107, -0.0597,  0.1500, -0.0466, -0.0415, -0.0365,  0.2839,  0.0849,\n",
      "         0.2657, -0.0861, -0.1091,  0.1073, -0.0334, -0.0211,  0.3313,  0.1264,\n",
      "         0.1259, -0.1700,  0.0381,  0.2130,  0.3088, -0.1128, -0.2537, -0.0493,\n",
      "         0.0733,  0.1006,  0.0128, -0.1236, -0.1290, -0.0405,  0.2050,  0.1324,\n",
      "         0.1538, -0.0814, -0.0275,  0.0669, -0.0477,  0.0933, -0.1113, -0.0037,\n",
      "         0.1580,  0.0543,  0.0070, -0.0222,  0.1312,  0.1159,  0.0897,  0.0843,\n",
      "         0.0351, -0.3348, -0.1138, -0.0790, -0.1062])\n",
      "conti attr [tensor(-0.0107), tensor(-0.0597), tensor(0.1500), tensor(-0.0466), tensor(-0.0415), tensor(-0.0365), tensor(0.2839), tensor(0.0849), tensor(0.2657), tensor(-0.0861), tensor(-0.1091), tensor(0.1073), tensor(-0.0334), tensor(0.3102), tensor(0.1264), tensor(0.1259), tensor(-0.1700), tensor(0.2511), tensor(0.3088), tensor(-0.3665), tensor(-0.0493), tensor(0.0733), tensor(0.1006), tensor(0.0128), tensor(-0.1236), tensor(-0.1290), tensor(-0.0405), tensor(0.2050), tensor(0.1324), tensor(0.1538), tensor(-0.0814), tensor(0.0394), tensor(-0.0477), tensor(0.0933), tensor(-0.1113), tensor(-0.0037), tensor(0.1580), tensor(0.0543), tensor(0.0070), tensor(0.2249), tensor(0.0897), tensor(0.0843), tensor(0.0351), tensor(-0.3348), tensor(-0.1928), tensor(-0.1062)]\n",
      "detokenized ['<s>', 'What', 'was', 'the', 'name', 'of', 'the', 'Media', 'Day', 'event', 'for', 'Super', 'Bowl', '50', '?', '</s>', '</s>', 'The', 'game', \"'s\", 'media', 'day', ',', 'which', 'was', 'typically', 'held', 'on', 'the', 'Tuesday', 'afternoon', 'prior', 'to', 'the', 'game', ',', 'was', 'moved', 'to', 'the', 'Monday', 'evening', 'and', 're', '-', 'branded', 'as', 'Super', 'Bowl', 'Opening', 'Night', '.', '</s>']\n",
      "len conti_raw 46\n",
      "conti_raw ['<s>', 'What', 'was', 'the', 'name', 'of', 'the', 'Media', 'Day', 'event', 'for', 'Super', 'Bowl', '50?', '</s>', '</s>', 'The', \"game's\", 'media', 'day,', 'which', 'was', 'typically', 'held', 'on', 'the', 'Tuesday', 'afternoon', 'prior', 'to', 'the', 'game,', 'was', 'moved', 'to', 'the', 'Monday', 'evening', 'and', 're-branded', 'as', 'Super', 'Bowl', 'Opening', 'Night.', '</s>']\n",
      "pred_prob 0.9950801134109497\n"
     ]
    },
    {
     "data": {
      "text/html": [
       "<table width: 100%><div style=\"border-top: 1px solid; margin-top: 5px;             padding-top: 5px; display: inline-block\"><b>Legend: </b><span style=\"display: inline-block; width: 10px; height: 10px;                 border: 1px solid; background-color:                 hsl(0, 75%, 60%)\"></span> Negative  <span style=\"display: inline-block; width: 10px; height: 10px;                 border: 1px solid; background-color:                 hsl(0, 75%, 100%)\"></span> Neutral  <span style=\"display: inline-block; width: 10px; height: 10px;                 border: 1px solid; background-color:                 hsl(120, 75%, 50%)\"></span> Positive  </div><tr><th>True Label</th><th>Predicted Label</th><th>Attribution Label</th><th>Attribution Score</th><th>Word Importance</th><tr><td><text style=\"padding-right:2em\"><b>Entailment</b></text></td><td><text style=\"padding-right:2em\"><b>Entailment (1.00)</b></text></td><td><text style=\"padding-right:2em\"><b>Entailment</b></text></td><td><text style=\"padding-right:2em\"><b>1.30</b></text></td><td><mark style=\"background-color: hsl(0, 75%, 100%); opacity:1.0;                     line-height:1.75\"><font color=\"black\"> #s                    </font></mark><mark style=\"background-color: hsl(0, 75%, 98%); opacity:1.0;                     line-height:1.75\"><font color=\"black\"> What                    </font></mark><mark style=\"background-color: hsl(120, 75%, 93%); opacity:1.0;                     line-height:1.75\"><font color=\"black\"> was                    </font></mark><mark style=\"background-color: hsl(0, 75%, 99%); opacity:1.0;                     line-height:1.75\"><font color=\"black\"> the                    </font></mark><mark style=\"background-color: hsl(0, 75%, 99%); opacity:1.0;                     line-height:1.75\"><font color=\"black\"> name                    </font></mark><mark style=\"background-color: hsl(0, 75%, 99%); opacity:1.0;                     line-height:1.75\"><font color=\"black\"> of                    </font></mark><mark style=\"background-color: hsl(120, 75%, 86%); opacity:1.0;                     line-height:1.75\"><font color=\"black\"> the                    </font></mark><mark style=\"background-color: hsl(120, 75%, 96%); opacity:1.0;                     line-height:1.75\"><font color=\"black\"> Media                    </font></mark><mark style=\"background-color: hsl(120, 75%, 87%); opacity:1.0;                     line-height:1.75\"><font color=\"black\"> Day                    </font></mark><mark style=\"background-color: hsl(0, 75%, 97%); opacity:1.0;                     line-height:1.75\"><font color=\"black\"> event                    </font></mark><mark style=\"background-color: hsl(0, 75%, 96%); opacity:1.0;                     line-height:1.75\"><font color=\"black\"> for                    </font></mark><mark style=\"background-color: hsl(120, 75%, 95%); opacity:1.0;                     line-height:1.75\"><font color=\"black\"> Super                    </font></mark><mark style=\"background-color: hsl(0, 75%, 99%); opacity:1.0;                     line-height:1.75\"><font color=\"black\"> Bowl                    </font></mark><mark style=\"background-color: hsl(120, 75%, 85%); opacity:1.0;                     line-height:1.75\"><font color=\"black\"> 50?                    </font></mark><mark style=\"background-color: hsl(120, 75%, 94%); opacity:1.0;                     line-height:1.75\"><font color=\"black\"> #/s                    </font></mark><mark style=\"background-color: hsl(120, 75%, 94%); opacity:1.0;                     line-height:1.75\"><font color=\"black\"> #/s                    </font></mark><mark style=\"background-color: hsl(0, 75%, 94%); opacity:1.0;                     line-height:1.75\"><font color=\"black\"> The                    </font></mark><mark style=\"background-color: hsl(120, 75%, 88%); opacity:1.0;                     line-height:1.75\"><font color=\"black\"> game's                    </font></mark><mark style=\"background-color: hsl(120, 75%, 85%); opacity:1.0;                     line-height:1.75\"><font color=\"black\"> media                    </font></mark><mark style=\"background-color: hsl(0, 75%, 86%); opacity:1.0;                     line-height:1.75\"><font color=\"black\"> day,                    </font></mark><mark style=\"background-color: hsl(0, 75%, 99%); opacity:1.0;                     line-height:1.75\"><font color=\"black\"> which                    </font></mark><mark style=\"background-color: hsl(120, 75%, 97%); opacity:1.0;                     line-height:1.75\"><font color=\"black\"> was                    </font></mark><mark style=\"background-color: hsl(120, 75%, 95%); opacity:1.0;                     line-height:1.75\"><font color=\"black\"> typically                    </font></mark><mark style=\"background-color: hsl(120, 75%, 100%); opacity:1.0;                     line-height:1.75\"><font color=\"black\"> held                    </font></mark><mark style=\"background-color: hsl(0, 75%, 96%); opacity:1.0;                     line-height:1.75\"><font color=\"black\"> on                    </font></mark><mark style=\"background-color: hsl(0, 75%, 95%); opacity:1.0;                     line-height:1.75\"><font color=\"black\"> the                    </font></mark><mark style=\"background-color: hsl(0, 75%, 99%); opacity:1.0;                     line-height:1.75\"><font color=\"black\"> Tuesday                    </font></mark><mark style=\"background-color: hsl(120, 75%, 90%); opacity:1.0;                     line-height:1.75\"><font color=\"black\"> afternoon                    </font></mark><mark style=\"background-color: hsl(120, 75%, 94%); opacity:1.0;                     line-height:1.75\"><font color=\"black\"> prior                    </font></mark><mark style=\"background-color: hsl(120, 75%, 93%); opacity:1.0;                     line-height:1.75\"><font color=\"black\"> to                    </font></mark><mark style=\"background-color: hsl(0, 75%, 97%); opacity:1.0;                     line-height:1.75\"><font color=\"black\"> the                    </font></mark><mark style=\"background-color: hsl(120, 75%, 99%); opacity:1.0;                     line-height:1.75\"><font color=\"black\"> game,                    </font></mark><mark style=\"background-color: hsl(0, 75%, 99%); opacity:1.0;                     line-height:1.75\"><font color=\"black\"> was                    </font></mark><mark style=\"background-color: hsl(120, 75%, 96%); opacity:1.0;                     line-height:1.75\"><font color=\"black\"> moved                    </font></mark><mark style=\"background-color: hsl(0, 75%, 96%); opacity:1.0;                     line-height:1.75\"><font color=\"black\"> to                    </font></mark><mark style=\"background-color: hsl(0, 75%, 100%); opacity:1.0;                     line-height:1.75\"><font color=\"black\"> the                    </font></mark><mark style=\"background-color: hsl(120, 75%, 93%); opacity:1.0;                     line-height:1.75\"><font color=\"black\"> Monday                    </font></mark><mark style=\"background-color: hsl(120, 75%, 98%); opacity:1.0;                     line-height:1.75\"><font color=\"black\"> evening                    </font></mark><mark style=\"background-color: hsl(120, 75%, 100%); opacity:1.0;                     line-height:1.75\"><font color=\"black\"> and                    </font></mark><mark style=\"background-color: hsl(120, 75%, 89%); opacity:1.0;                     line-height:1.75\"><font color=\"black\"> re-branded                    </font></mark><mark style=\"background-color: hsl(120, 75%, 96%); opacity:1.0;                     line-height:1.75\"><font color=\"black\"> as                    </font></mark><mark style=\"background-color: hsl(120, 75%, 96%); opacity:1.0;                     line-height:1.75\"><font color=\"black\"> Super                    </font></mark><mark style=\"background-color: hsl(120, 75%, 99%); opacity:1.0;                     line-height:1.75\"><font color=\"black\"> Bowl                    </font></mark><mark style=\"background-color: hsl(0, 75%, 87%); opacity:1.0;                     line-height:1.75\"><font color=\"black\"> Opening                    </font></mark><mark style=\"background-color: hsl(0, 75%, 93%); opacity:1.0;                     line-height:1.75\"><font color=\"black\"> Night.                    </font></mark><mark style=\"background-color: hsl(0, 75%, 96%); opacity:1.0;                     line-height:1.75\"><font color=\"black\"> #/s                    </font></mark></td><tr></table>"
      ],
      "text/plain": [
       "<IPython.core.display.HTML object>"
      ]
     },
     "metadata": {},
     "output_type": "display_data"
    },
    {
     "name": "stderr",
     "output_type": "stream",
     "text": [
      "/home/user/anaconda3/envs/py38/lib/python3.9/site-packages/captum/attr/_core/lime.py:1088: UserWarning: Attempting to construct interpretable model with > 10000 features.This can be very slow or lead to OOM issues. Please provide a featuremask which groups input features to reduce the number of interpretablefeatures. \n",
      "  warnings.warn(\n"
     ]
    },
    {
     "name": "stdout",
     "output_type": "stream",
     "text": [
      "<IPython.core.display.HTML object>\n",
      "i: 3\n",
      "Raw datum: ['How many Doctor Who soundtracks have been released since 2005?', 'The fourth was released on 4 October 2010 as a two disc special edition and contained music from the 2008–2010 specials (The Next Doctor to End of Time Part 2).']\n",
      "GT target: 0\n"
     ]
    },
    {
     "name": "stderr",
     "output_type": "stream",
     "text": [
      "Lime attribution: 100%|███████████████████████████| 3/3 [00:21<00:00,  7.28s/it]\n"
     ]
    },
    {
     "name": "stdout",
     "output_type": "stream",
     "text": [
      "word attr tensor([-0.0248, -0.0874, -0.1044, -0.0795, -0.1679,  0.0922, -0.2138,  0.0605,\n",
      "        -0.0389, -0.0163,  0.0360, -0.1330,  0.0942, -0.0612,  0.1409, -0.1283,\n",
      "         0.0315, -0.0391, -0.1422,  0.0291,  0.0827,  0.2631, -0.0811, -0.1489,\n",
      "         0.1071, -0.1601, -0.0258, -0.0113, -0.0019,  0.1166, -0.0802, -0.2081,\n",
      "        -0.0621, -0.1619,  0.0996, -0.0623,  0.0264, -0.0207, -0.3693,  0.1911,\n",
      "         0.1614,  0.2133, -0.1318, -0.2653,  0.0272,  0.0722,  0.1338,  0.2791,\n",
      "         0.2598,  0.2066])\n",
      "conti attr [tensor(-0.0248), tensor(-0.0874), tensor(-0.1044), tensor(-0.0795), tensor(-0.1679), tensor(-0.1215), tensor(0.0605), tensor(-0.0389), tensor(-0.0163), tensor(0.0360), tensor(-0.0388), tensor(-0.0612), tensor(0.1409), tensor(-0.1283), tensor(0.0315), tensor(-0.0391), tensor(-0.1422), tensor(0.0291), tensor(0.0827), tensor(0.2631), tensor(-0.0811), tensor(-0.1489), tensor(0.1071), tensor(-0.1601), tensor(-0.0258), tensor(-0.0113), tensor(-0.0019), tensor(0.1166), tensor(-0.0802), tensor(-0.2081), tensor(-0.0621), tensor(-0.1619), tensor(0.0638), tensor(-0.0207), tensor(-0.1782), tensor(0.1614), tensor(0.2133), tensor(-0.1318), tensor(-0.2653), tensor(0.0272), tensor(0.0722), tensor(0.1338), tensor(0.5390), tensor(0.2066)]\n",
      "detokenized ['<s>', 'How', 'many', 'Doctor', 'Who', 'sound', 'tracks', 'have', 'been', 'released', 'since', '2005', '?', '</s>', '</s>', 'The', 'fourth', 'was', 'released', 'on', '4', 'October', '2010', 'as', 'a', 'two', 'disc', 'special', 'edition', 'and', 'contained', 'music', 'from', 'the', '2008', 'âĢĵ', '2010', 'specials', '(', 'The', 'Next', 'Doctor', 'to', 'End', 'of', 'Time', 'Part', '2', ').', '</s>']\n",
      "len conti_raw 44\n",
      "conti_raw ['<s>', 'How', 'many', 'Doctor', 'Who', 'soundtracks', 'have', 'been', 'released', 'since', '2005?', '</s>', '</s>', 'The', 'fourth', 'was', 'released', 'on', '4', 'October', '2010', 'as', 'a', 'two', 'disc', 'special', 'edition', 'and', 'contained', 'music', 'from', 'the', '2008âĢĵ2010', 'specials', '(The', 'Next', 'Doctor', 'to', 'End', 'of', 'Time', 'Part', '2).', '</s>']\n",
      "pred_prob 0.003637322224676609\n"
     ]
    },
    {
     "data": {
      "text/html": [
       "<table width: 100%><div style=\"border-top: 1px solid; margin-top: 5px;             padding-top: 5px; display: inline-block\"><b>Legend: </b><span style=\"display: inline-block; width: 10px; height: 10px;                 border: 1px solid; background-color:                 hsl(0, 75%, 60%)\"></span> Negative  <span style=\"display: inline-block; width: 10px; height: 10px;                 border: 1px solid; background-color:                 hsl(0, 75%, 100%)\"></span> Neutral  <span style=\"display: inline-block; width: 10px; height: 10px;                 border: 1px solid; background-color:                 hsl(120, 75%, 50%)\"></span> Positive  </div><tr><th>True Label</th><th>Predicted Label</th><th>Attribution Label</th><th>Attribution Score</th><th>Word Importance</th><tr><td><text style=\"padding-right:2em\"><b>No Entailment</b></text></td><td><text style=\"padding-right:2em\"><b>No Entailment (0.00)</b></text></td><td><text style=\"padding-right:2em\"><b>No Entailment</b></text></td><td><text style=\"padding-right:2em\"><b>-0.30</b></text></td><td><mark style=\"background-color: hsl(0, 75%, 100%); opacity:1.0;                     line-height:1.75\"><font color=\"black\"> #s                    </font></mark><mark style=\"background-color: hsl(0, 75%, 97%); opacity:1.0;                     line-height:1.75\"><font color=\"black\"> How                    </font></mark><mark style=\"background-color: hsl(0, 75%, 96%); opacity:1.0;                     line-height:1.75\"><font color=\"black\"> many                    </font></mark><mark style=\"background-color: hsl(0, 75%, 97%); opacity:1.0;                     line-height:1.75\"><font color=\"black\"> Doctor                    </font></mark><mark style=\"background-color: hsl(0, 75%, 94%); opacity:1.0;                     line-height:1.75\"><font color=\"black\"> Who                    </font></mark><mark style=\"background-color: hsl(0, 75%, 96%); opacity:1.0;                     line-height:1.75\"><font color=\"black\"> soundtracks                    </font></mark><mark style=\"background-color: hsl(120, 75%, 97%); opacity:1.0;                     line-height:1.75\"><font color=\"black\"> have                    </font></mark><mark style=\"background-color: hsl(0, 75%, 99%); opacity:1.0;                     line-height:1.75\"><font color=\"black\"> been                    </font></mark><mark style=\"background-color: hsl(0, 75%, 100%); opacity:1.0;                     line-height:1.75\"><font color=\"black\"> released                    </font></mark><mark style=\"background-color: hsl(120, 75%, 99%); opacity:1.0;                     line-height:1.75\"><font color=\"black\"> since                    </font></mark><mark style=\"background-color: hsl(0, 75%, 99%); opacity:1.0;                     line-height:1.75\"><font color=\"black\"> 2005?                    </font></mark><mark style=\"background-color: hsl(0, 75%, 98%); opacity:1.0;                     line-height:1.75\"><font color=\"black\"> #/s                    </font></mark><mark style=\"background-color: hsl(120, 75%, 93%); opacity:1.0;                     line-height:1.75\"><font color=\"black\"> #/s                    </font></mark><mark style=\"background-color: hsl(0, 75%, 95%); opacity:1.0;                     line-height:1.75\"><font color=\"black\"> The                    </font></mark><mark style=\"background-color: hsl(120, 75%, 99%); opacity:1.0;                     line-height:1.75\"><font color=\"black\"> fourth                    </font></mark><mark style=\"background-color: hsl(0, 75%, 99%); opacity:1.0;                     line-height:1.75\"><font color=\"black\"> was                    </font></mark><mark style=\"background-color: hsl(0, 75%, 95%); opacity:1.0;                     line-height:1.75\"><font color=\"black\"> released                    </font></mark><mark style=\"background-color: hsl(120, 75%, 99%); opacity:1.0;                     line-height:1.75\"><font color=\"black\"> on                    </font></mark><mark style=\"background-color: hsl(120, 75%, 96%); opacity:1.0;                     line-height:1.75\"><font color=\"black\"> 4                    </font></mark><mark style=\"background-color: hsl(120, 75%, 87%); opacity:1.0;                     line-height:1.75\"><font color=\"black\"> October                    </font></mark><mark style=\"background-color: hsl(0, 75%, 97%); opacity:1.0;                     line-height:1.75\"><font color=\"black\"> 2010                    </font></mark><mark style=\"background-color: hsl(0, 75%, 95%); opacity:1.0;                     line-height:1.75\"><font color=\"black\"> as                    </font></mark><mark style=\"background-color: hsl(120, 75%, 95%); opacity:1.0;                     line-height:1.75\"><font color=\"black\"> a                    </font></mark><mark style=\"background-color: hsl(0, 75%, 94%); opacity:1.0;                     line-height:1.75\"><font color=\"black\"> two                    </font></mark><mark style=\"background-color: hsl(0, 75%, 99%); opacity:1.0;                     line-height:1.75\"><font color=\"black\"> disc                    </font></mark><mark style=\"background-color: hsl(0, 75%, 100%); opacity:1.0;                     line-height:1.75\"><font color=\"black\"> special                    </font></mark><mark style=\"background-color: hsl(0, 75%, 100%); opacity:1.0;                     line-height:1.75\"><font color=\"black\"> edition                    </font></mark><mark style=\"background-color: hsl(120, 75%, 95%); opacity:1.0;                     line-height:1.75\"><font color=\"black\"> and                    </font></mark><mark style=\"background-color: hsl(0, 75%, 97%); opacity:1.0;                     line-height:1.75\"><font color=\"black\"> contained                    </font></mark><mark style=\"background-color: hsl(0, 75%, 92%); opacity:1.0;                     line-height:1.75\"><font color=\"black\"> music                    </font></mark><mark style=\"background-color: hsl(0, 75%, 98%); opacity:1.0;                     line-height:1.75\"><font color=\"black\"> from                    </font></mark><mark style=\"background-color: hsl(0, 75%, 94%); opacity:1.0;                     line-height:1.75\"><font color=\"black\"> the                    </font></mark><mark style=\"background-color: hsl(120, 75%, 97%); opacity:1.0;                     line-height:1.75\"><font color=\"black\"> 2008âĢĵ2010                    </font></mark><mark style=\"background-color: hsl(0, 75%, 100%); opacity:1.0;                     line-height:1.75\"><font color=\"black\"> specials                    </font></mark><mark style=\"background-color: hsl(0, 75%, 93%); opacity:1.0;                     line-height:1.75\"><font color=\"black\"> (The                    </font></mark><mark style=\"background-color: hsl(120, 75%, 92%); opacity:1.0;                     line-height:1.75\"><font color=\"black\"> Next                    </font></mark><mark style=\"background-color: hsl(120, 75%, 90%); opacity:1.0;                     line-height:1.75\"><font color=\"black\"> Doctor                    </font></mark><mark style=\"background-color: hsl(0, 75%, 95%); opacity:1.0;                     line-height:1.75\"><font color=\"black\"> to                    </font></mark><mark style=\"background-color: hsl(0, 75%, 90%); opacity:1.0;                     line-height:1.75\"><font color=\"black\"> End                    </font></mark><mark style=\"background-color: hsl(120, 75%, 99%); opacity:1.0;                     line-height:1.75\"><font color=\"black\"> of                    </font></mark><mark style=\"background-color: hsl(120, 75%, 97%); opacity:1.0;                     line-height:1.75\"><font color=\"black\"> Time                    </font></mark><mark style=\"background-color: hsl(120, 75%, 94%); opacity:1.0;                     line-height:1.75\"><font color=\"black\"> Part                    </font></mark><mark style=\"background-color: hsl(120, 75%, 74%); opacity:1.0;                     line-height:1.75\"><font color=\"black\"> 2).                    </font></mark><mark style=\"background-color: hsl(120, 75%, 90%); opacity:1.0;                     line-height:1.75\"><font color=\"black\"> #/s                    </font></mark></td><tr></table>"
      ],
      "text/plain": [
       "<IPython.core.display.HTML object>"
      ]
     },
     "metadata": {},
     "output_type": "display_data"
    },
    {
     "name": "stderr",
     "output_type": "stream",
     "text": [
      "/home/user/anaconda3/envs/py38/lib/python3.9/site-packages/captum/attr/_core/lime.py:1088: UserWarning: Attempting to construct interpretable model with > 10000 features.This can be very slow or lead to OOM issues. Please provide a featuremask which groups input features to reduce the number of interpretablefeatures. \n",
      "  warnings.warn(\n"
     ]
    },
    {
     "name": "stdout",
     "output_type": "stream",
     "text": [
      "<IPython.core.display.HTML object>\n",
      "i: 4\n",
      "Raw datum: [\"What is the name of the country's longest continuously running student film society?\", 'Students at the University of Chicago run over 400 clubs and organizations known as Recognized Student Organizations (RSOs).']\n",
      "GT target: 0\n"
     ]
    },
    {
     "name": "stderr",
     "output_type": "stream",
     "text": [
      "Lime attribution: 100%|███████████████████████████| 3/3 [00:18<00:00,  6.31s/it]\n"
     ]
    },
    {
     "name": "stdout",
     "output_type": "stream",
     "text": [
      "word attr tensor([-0.2277, -0.1273, -0.0935, -0.1173,  0.0669, -0.1420, -0.1031,  0.2432,\n",
      "         0.0354, -0.4440, -0.0850, -0.0867, -0.0028,  0.0312, -0.0397, -0.2133,\n",
      "        -0.0105,  0.3615,  0.0113, -0.0803, -0.1567,  0.0147,  0.1171, -0.0467,\n",
      "        -0.0268, -0.0424,  0.0226, -0.0100, -0.2050, -0.2071,  0.0393, -0.0718,\n",
      "        -0.1808, -0.0665,  0.2291,  0.0253,  0.0195, -0.0080, -0.3932, -0.1440,\n",
      "        -0.1227])\n",
      "conti attr [tensor(-0.2277), tensor(-0.1273), tensor(-0.0935), tensor(-0.1173), tensor(0.0669), tensor(-0.1420), tensor(-0.1031), tensor(0.2787), tensor(-0.4440), tensor(-0.0850), tensor(-0.0867), tensor(-0.0028), tensor(0.0312), tensor(-0.2530), tensor(-0.0105), tensor(0.3615), tensor(0.0113), tensor(-0.0803), tensor(-0.1567), tensor(0.0147), tensor(0.1171), tensor(-0.0467), tensor(-0.0268), tensor(-0.0424), tensor(0.0226), tensor(-0.0100), tensor(-0.2050), tensor(-0.2071), tensor(0.0393), tensor(-0.0718), tensor(-0.2473), tensor(0.2291), tensor(0.0253), tensor(-0.5257), tensor(-0.1227)]\n",
      "detokenized ['<s>', 'What', 'is', 'the', 'name', 'of', 'the', 'country', \"'s\", 'longest', 'continuously', 'running', 'student', 'film', 'society', '?', '</s>', '</s>', 'Students', 'at', 'the', 'University', 'of', 'Chicago', 'run', 'over', '400', 'clubs', 'and', 'organizations', 'known', 'as', 'Recogn', 'ized', 'Student', 'Organizations', '(', 'RS', 'Os', ').', '</s>']\n",
      "len conti_raw 35\n",
      "conti_raw ['<s>', 'What', 'is', 'the', 'name', 'of', 'the', \"country's\", 'longest', 'continuously', 'running', 'student', 'film', 'society?', '</s>', '</s>', 'Students', 'at', 'the', 'University', 'of', 'Chicago', 'run', 'over', '400', 'clubs', 'and', 'organizations', 'known', 'as', 'Recognized', 'Student', 'Organizations', '(RSOs).', '</s>']\n",
      "pred_prob 0.010836849920451641\n"
     ]
    },
    {
     "data": {
      "text/html": [
       "<table width: 100%><div style=\"border-top: 1px solid; margin-top: 5px;             padding-top: 5px; display: inline-block\"><b>Legend: </b><span style=\"display: inline-block; width: 10px; height: 10px;                 border: 1px solid; background-color:                 hsl(0, 75%, 60%)\"></span> Negative  <span style=\"display: inline-block; width: 10px; height: 10px;                 border: 1px solid; background-color:                 hsl(0, 75%, 100%)\"></span> Neutral  <span style=\"display: inline-block; width: 10px; height: 10px;                 border: 1px solid; background-color:                 hsl(120, 75%, 50%)\"></span> Positive  </div><tr><th>True Label</th><th>Predicted Label</th><th>Attribution Label</th><th>Attribution Score</th><th>Word Importance</th><tr><td><text style=\"padding-right:2em\"><b>No Entailment</b></text></td><td><text style=\"padding-right:2em\"><b>No Entailment (0.01)</b></text></td><td><text style=\"padding-right:2em\"><b>No Entailment</b></text></td><td><text style=\"padding-right:2em\"><b>-2.24</b></text></td><td><mark style=\"background-color: hsl(0, 75%, 91%); opacity:1.0;                     line-height:1.75\"><font color=\"black\"> #s                    </font></mark><mark style=\"background-color: hsl(0, 75%, 95%); opacity:1.0;                     line-height:1.75\"><font color=\"black\"> What                    </font></mark><mark style=\"background-color: hsl(0, 75%, 97%); opacity:1.0;                     line-height:1.75\"><font color=\"black\"> is                    </font></mark><mark style=\"background-color: hsl(0, 75%, 96%); opacity:1.0;                     line-height:1.75\"><font color=\"black\"> the                    </font></mark><mark style=\"background-color: hsl(120, 75%, 97%); opacity:1.0;                     line-height:1.75\"><font color=\"black\"> name                    </font></mark><mark style=\"background-color: hsl(0, 75%, 95%); opacity:1.0;                     line-height:1.75\"><font color=\"black\"> of                    </font></mark><mark style=\"background-color: hsl(0, 75%, 96%); opacity:1.0;                     line-height:1.75\"><font color=\"black\"> the                    </font></mark><mark style=\"background-color: hsl(120, 75%, 87%); opacity:1.0;                     line-height:1.75\"><font color=\"black\"> country's                    </font></mark><mark style=\"background-color: hsl(0, 75%, 83%); opacity:1.0;                     line-height:1.75\"><font color=\"black\"> longest                    </font></mark><mark style=\"background-color: hsl(0, 75%, 97%); opacity:1.0;                     line-height:1.75\"><font color=\"black\"> continuously                    </font></mark><mark style=\"background-color: hsl(0, 75%, 97%); opacity:1.0;                     line-height:1.75\"><font color=\"black\"> running                    </font></mark><mark style=\"background-color: hsl(0, 75%, 100%); opacity:1.0;                     line-height:1.75\"><font color=\"black\"> student                    </font></mark><mark style=\"background-color: hsl(120, 75%, 99%); opacity:1.0;                     line-height:1.75\"><font color=\"black\"> film                    </font></mark><mark style=\"background-color: hsl(0, 75%, 90%); opacity:1.0;                     line-height:1.75\"><font color=\"black\"> society?                    </font></mark><mark style=\"background-color: hsl(0, 75%, 100%); opacity:1.0;                     line-height:1.75\"><font color=\"black\"> #/s                    </font></mark><mark style=\"background-color: hsl(120, 75%, 82%); opacity:1.0;                     line-height:1.75\"><font color=\"black\"> #/s                    </font></mark><mark style=\"background-color: hsl(120, 75%, 100%); opacity:1.0;                     line-height:1.75\"><font color=\"black\"> Students                    </font></mark><mark style=\"background-color: hsl(0, 75%, 97%); opacity:1.0;                     line-height:1.75\"><font color=\"black\"> at                    </font></mark><mark style=\"background-color: hsl(0, 75%, 94%); opacity:1.0;                     line-height:1.75\"><font color=\"black\"> the                    </font></mark><mark style=\"background-color: hsl(120, 75%, 100%); opacity:1.0;                     line-height:1.75\"><font color=\"black\"> University                    </font></mark><mark style=\"background-color: hsl(120, 75%, 95%); opacity:1.0;                     line-height:1.75\"><font color=\"black\"> of                    </font></mark><mark style=\"background-color: hsl(0, 75%, 99%); opacity:1.0;                     line-height:1.75\"><font color=\"black\"> Chicago                    </font></mark><mark style=\"background-color: hsl(0, 75%, 99%); opacity:1.0;                     line-height:1.75\"><font color=\"black\"> run                    </font></mark><mark style=\"background-color: hsl(0, 75%, 99%); opacity:1.0;                     line-height:1.75\"><font color=\"black\"> over                    </font></mark><mark style=\"background-color: hsl(120, 75%, 99%); opacity:1.0;                     line-height:1.75\"><font color=\"black\"> 400                    </font></mark><mark style=\"background-color: hsl(0, 75%, 100%); opacity:1.0;                     line-height:1.75\"><font color=\"black\"> clubs                    </font></mark><mark style=\"background-color: hsl(0, 75%, 92%); opacity:1.0;                     line-height:1.75\"><font color=\"black\"> and                    </font></mark><mark style=\"background-color: hsl(0, 75%, 92%); opacity:1.0;                     line-height:1.75\"><font color=\"black\"> organizations                    </font></mark><mark style=\"background-color: hsl(120, 75%, 99%); opacity:1.0;                     line-height:1.75\"><font color=\"black\"> known                    </font></mark><mark style=\"background-color: hsl(0, 75%, 98%); opacity:1.0;                     line-height:1.75\"><font color=\"black\"> as                    </font></mark><mark style=\"background-color: hsl(0, 75%, 91%); opacity:1.0;                     line-height:1.75\"><font color=\"black\"> Recognized                    </font></mark><mark style=\"background-color: hsl(120, 75%, 89%); opacity:1.0;                     line-height:1.75\"><font color=\"black\"> Student                    </font></mark><mark style=\"background-color: hsl(120, 75%, 99%); opacity:1.0;                     line-height:1.75\"><font color=\"black\"> Organizations                    </font></mark><mark style=\"background-color: hsl(0, 75%, 79%); opacity:1.0;                     line-height:1.75\"><font color=\"black\"> (RSOs).                    </font></mark><mark style=\"background-color: hsl(0, 75%, 96%); opacity:1.0;                     line-height:1.75\"><font color=\"black\"> #/s                    </font></mark></td><tr></table>"
      ],
      "text/plain": [
       "<IPython.core.display.HTML object>"
      ]
     },
     "metadata": {},
     "output_type": "display_data"
    },
    {
     "name": "stderr",
     "output_type": "stream",
     "text": [
      "/home/user/anaconda3/envs/py38/lib/python3.9/site-packages/captum/attr/_core/lime.py:1088: UserWarning: Attempting to construct interpretable model with > 10000 features.This can be very slow or lead to OOM issues. Please provide a featuremask which groups input features to reduce the number of interpretablefeatures. \n",
      "  warnings.warn(\n"
     ]
    },
    {
     "name": "stdout",
     "output_type": "stream",
     "text": [
      "<IPython.core.display.HTML object>\n",
      "i: 5\n",
      "Raw datum: ['How many times has the South Florida/Miami area hosted the Super Bowl?', 'The South Florida/Miami area has previously hosted the event 10 times (tied for most with New Orleans), with the most recent one being Super Bowl XLIV in 2010.']\n",
      "GT target: 1\n"
     ]
    },
    {
     "name": "stderr",
     "output_type": "stream",
     "text": [
      "Lime attribution: 100%|███████████████████████████| 3/3 [00:23<00:00,  7.80s/it]\n"
     ]
    },
    {
     "name": "stdout",
     "output_type": "stream",
     "text": [
      "word attr tensor([-0.0067,  0.1936, -0.1713,  0.5106,  0.0157, -0.0906,  0.1143,  0.0096,\n",
      "         0.0262,  0.3082,  0.0377,  0.1657, -0.1020, -0.0598, -0.0499,  0.0843,\n",
      "         0.1306, -0.0831, -0.0124,  0.2274,  0.1559, -0.0832,  0.1234,  0.1712,\n",
      "         0.0116,  0.0508, -0.0847,  0.1266, -0.1435, -0.0292,  0.1518,  0.2310,\n",
      "         0.1437, -0.0056, -0.0258, -0.1537,  0.1526,  0.0201, -0.1188,  0.0493,\n",
      "        -0.0436,  0.0903, -0.1017, -0.0471, -0.0592, -0.2263, -0.0872,  0.0713,\n",
      "        -0.0662,  0.0504,  0.0435,  0.0626, -0.1587, -0.1194])\n",
      "conti attr [tensor(-0.0067), tensor(0.1936), tensor(-0.1713), tensor(0.5106), tensor(0.0157), tensor(-0.0906), tensor(0.1143), tensor(0.3439), tensor(0.0377), tensor(0.1657), tensor(-0.1020), tensor(-0.0598), tensor(0.0344), tensor(0.1306), tensor(-0.0831), tensor(-0.0124), tensor(0.2274), tensor(0.1961), tensor(0.1712), tensor(0.0116), tensor(0.0508), tensor(-0.0847), tensor(0.1266), tensor(-0.1435), tensor(-0.0292), tensor(0.1518), tensor(0.3691), tensor(-0.0258), tensor(-0.1537), tensor(0.1526), tensor(0.0201), tensor(-0.0695), tensor(-0.0436), tensor(0.0903), tensor(-0.1017), tensor(-0.0471), tensor(-0.0592), tensor(-0.2263), tensor(-0.0872), tensor(0.0713), tensor(-0.0158), tensor(0.0435), tensor(-0.0961), tensor(-0.1194)]\n",
      "detokenized ['<s>', 'How', 'many', 'times', 'has', 'the', 'South', 'Florida', '/', 'Miami', 'area', 'hosted', 'the', 'Super', 'Bowl', '?', '</s>', '</s>', 'The', 'South', 'Florida', '/', 'Miami', 'area', 'has', 'previously', 'hosted', 'the', 'event', '10', 'times', '(', 't', 'ied', 'for', 'most', 'with', 'New', 'Orleans', '),', 'with', 'the', 'most', 'recent', 'one', 'being', 'Super', 'Bowl', 'XL', 'IV', 'in', '2010', '.', '</s>']\n",
      "len conti_raw 44\n",
      "conti_raw ['<s>', 'How', 'many', 'times', 'has', 'the', 'South', 'Florida/Miami', 'area', 'hosted', 'the', 'Super', 'Bowl?', '</s>', '</s>', 'The', 'South', 'Florida/Miami', 'area', 'has', 'previously', 'hosted', 'the', 'event', '10', 'times', '(tied', 'for', 'most', 'with', 'New', 'Orleans),', 'with', 'the', 'most', 'recent', 'one', 'being', 'Super', 'Bowl', 'XLIV', 'in', '2010.', '</s>']\n",
      "pred_prob 0.997096061706543\n"
     ]
    },
    {
     "data": {
      "text/html": [
       "<table width: 100%><div style=\"border-top: 1px solid; margin-top: 5px;             padding-top: 5px; display: inline-block\"><b>Legend: </b><span style=\"display: inline-block; width: 10px; height: 10px;                 border: 1px solid; background-color:                 hsl(0, 75%, 60%)\"></span> Negative  <span style=\"display: inline-block; width: 10px; height: 10px;                 border: 1px solid; background-color:                 hsl(0, 75%, 100%)\"></span> Neutral  <span style=\"display: inline-block; width: 10px; height: 10px;                 border: 1px solid; background-color:                 hsl(120, 75%, 50%)\"></span> Positive  </div><tr><th>True Label</th><th>Predicted Label</th><th>Attribution Label</th><th>Attribution Score</th><th>Word Importance</th><tr><td><text style=\"padding-right:2em\"><b>Entailment</b></text></td><td><text style=\"padding-right:2em\"><b>Entailment (1.00)</b></text></td><td><text style=\"padding-right:2em\"><b>Entailment</b></text></td><td><text style=\"padding-right:2em\"><b>1.40</b></text></td><td><mark style=\"background-color: hsl(0, 75%, 100%); opacity:1.0;                     line-height:1.75\"><font color=\"black\"> #s                    </font></mark><mark style=\"background-color: hsl(120, 75%, 91%); opacity:1.0;                     line-height:1.75\"><font color=\"black\"> How                    </font></mark><mark style=\"background-color: hsl(0, 75%, 94%); opacity:1.0;                     line-height:1.75\"><font color=\"black\"> many                    </font></mark><mark style=\"background-color: hsl(120, 75%, 75%); opacity:1.0;                     line-height:1.75\"><font color=\"black\"> times                    </font></mark><mark style=\"background-color: hsl(120, 75%, 100%); opacity:1.0;                     line-height:1.75\"><font color=\"black\"> has                    </font></mark><mark style=\"background-color: hsl(0, 75%, 97%); opacity:1.0;                     line-height:1.75\"><font color=\"black\"> the                    </font></mark><mark style=\"background-color: hsl(120, 75%, 95%); opacity:1.0;                     line-height:1.75\"><font color=\"black\"> South                    </font></mark><mark style=\"background-color: hsl(120, 75%, 83%); opacity:1.0;                     line-height:1.75\"><font color=\"black\"> Florida/Miami                    </font></mark><mark style=\"background-color: hsl(120, 75%, 99%); opacity:1.0;                     line-height:1.75\"><font color=\"black\"> area                    </font></mark><mark style=\"background-color: hsl(120, 75%, 92%); opacity:1.0;                     line-height:1.75\"><font color=\"black\"> hosted                    </font></mark><mark style=\"background-color: hsl(0, 75%, 96%); opacity:1.0;                     line-height:1.75\"><font color=\"black\"> the                    </font></mark><mark style=\"background-color: hsl(0, 75%, 98%); opacity:1.0;                     line-height:1.75\"><font color=\"black\"> Super                    </font></mark><mark style=\"background-color: hsl(120, 75%, 99%); opacity:1.0;                     line-height:1.75\"><font color=\"black\"> Bowl?                    </font></mark><mark style=\"background-color: hsl(120, 75%, 94%); opacity:1.0;                     line-height:1.75\"><font color=\"black\"> #/s                    </font></mark><mark style=\"background-color: hsl(0, 75%, 97%); opacity:1.0;                     line-height:1.75\"><font color=\"black\"> #/s                    </font></mark><mark style=\"background-color: hsl(0, 75%, 100%); opacity:1.0;                     line-height:1.75\"><font color=\"black\"> The                    </font></mark><mark style=\"background-color: hsl(120, 75%, 89%); opacity:1.0;                     line-height:1.75\"><font color=\"black\"> South                    </font></mark><mark style=\"background-color: hsl(120, 75%, 91%); opacity:1.0;                     line-height:1.75\"><font color=\"black\"> Florida/Miami                    </font></mark><mark style=\"background-color: hsl(120, 75%, 92%); opacity:1.0;                     line-height:1.75\"><font color=\"black\"> area                    </font></mark><mark style=\"background-color: hsl(120, 75%, 100%); opacity:1.0;                     line-height:1.75\"><font color=\"black\"> has                    </font></mark><mark style=\"background-color: hsl(120, 75%, 98%); opacity:1.0;                     line-height:1.75\"><font color=\"black\"> previously                    </font></mark><mark style=\"background-color: hsl(0, 75%, 97%); opacity:1.0;                     line-height:1.75\"><font color=\"black\"> hosted                    </font></mark><mark style=\"background-color: hsl(120, 75%, 94%); opacity:1.0;                     line-height:1.75\"><font color=\"black\"> the                    </font></mark><mark style=\"background-color: hsl(0, 75%, 95%); opacity:1.0;                     line-height:1.75\"><font color=\"black\"> event                    </font></mark><mark style=\"background-color: hsl(0, 75%, 99%); opacity:1.0;                     line-height:1.75\"><font color=\"black\"> 10                    </font></mark><mark style=\"background-color: hsl(120, 75%, 93%); opacity:1.0;                     line-height:1.75\"><font color=\"black\"> times                    </font></mark><mark style=\"background-color: hsl(120, 75%, 82%); opacity:1.0;                     line-height:1.75\"><font color=\"black\"> (tied                    </font></mark><mark style=\"background-color: hsl(0, 75%, 99%); opacity:1.0;                     line-height:1.75\"><font color=\"black\"> for                    </font></mark><mark style=\"background-color: hsl(0, 75%, 94%); opacity:1.0;                     line-height:1.75\"><font color=\"black\"> most                    </font></mark><mark style=\"background-color: hsl(120, 75%, 93%); opacity:1.0;                     line-height:1.75\"><font color=\"black\"> with                    </font></mark><mark style=\"background-color: hsl(120, 75%, 99%); opacity:1.0;                     line-height:1.75\"><font color=\"black\"> New                    </font></mark><mark style=\"background-color: hsl(0, 75%, 98%); opacity:1.0;                     line-height:1.75\"><font color=\"black\"> Orleans),                    </font></mark><mark style=\"background-color: hsl(0, 75%, 99%); opacity:1.0;                     line-height:1.75\"><font color=\"black\"> with                    </font></mark><mark style=\"background-color: hsl(120, 75%, 96%); opacity:1.0;                     line-height:1.75\"><font color=\"black\"> the                    </font></mark><mark style=\"background-color: hsl(0, 75%, 96%); opacity:1.0;                     line-height:1.75\"><font color=\"black\"> most                    </font></mark><mark style=\"background-color: hsl(0, 75%, 99%); opacity:1.0;                     line-height:1.75\"><font color=\"black\"> recent                    </font></mark><mark style=\"background-color: hsl(0, 75%, 98%); opacity:1.0;                     line-height:1.75\"><font color=\"black\"> one                    </font></mark><mark style=\"background-color: hsl(0, 75%, 91%); opacity:1.0;                     line-height:1.75\"><font color=\"black\"> being                    </font></mark><mark style=\"background-color: hsl(0, 75%, 97%); opacity:1.0;                     line-height:1.75\"><font color=\"black\"> Super                    </font></mark><mark style=\"background-color: hsl(120, 75%, 97%); opacity:1.0;                     line-height:1.75\"><font color=\"black\"> Bowl                    </font></mark><mark style=\"background-color: hsl(0, 75%, 100%); opacity:1.0;                     line-height:1.75\"><font color=\"black\"> XLIV                    </font></mark><mark style=\"background-color: hsl(120, 75%, 98%); opacity:1.0;                     line-height:1.75\"><font color=\"black\"> in                    </font></mark><mark style=\"background-color: hsl(0, 75%, 97%); opacity:1.0;                     line-height:1.75\"><font color=\"black\"> 2010.                    </font></mark><mark style=\"background-color: hsl(0, 75%, 96%); opacity:1.0;                     line-height:1.75\"><font color=\"black\"> #/s                    </font></mark></td><tr></table>"
      ],
      "text/plain": [
       "<IPython.core.display.HTML object>"
      ]
     },
     "metadata": {},
     "output_type": "display_data"
    },
    {
     "name": "stderr",
     "output_type": "stream",
     "text": [
      "/home/user/anaconda3/envs/py38/lib/python3.9/site-packages/captum/attr/_core/lime.py:1088: UserWarning: Attempting to construct interpretable model with > 10000 features.This can be very slow or lead to OOM issues. Please provide a featuremask which groups input features to reduce the number of interpretablefeatures. \n",
      "  warnings.warn(\n"
     ]
    },
    {
     "name": "stdout",
     "output_type": "stream",
     "text": [
      "<IPython.core.display.HTML object>\n",
      "i: 6\n",
      "Raw datum: ['What is different about Paulinella chromatophora?', 'It is not clear whether that symbiont is closely related to the ancestral chloroplast of other eukaryotes.']\n",
      "GT target: 0\n"
     ]
    },
    {
     "name": "stderr",
     "output_type": "stream",
     "text": [
      "Lime attribution: 100%|███████████████████████████| 3/3 [00:17<00:00,  5.99s/it]\n"
     ]
    },
    {
     "name": "stdout",
     "output_type": "stream",
     "text": [
      "word attr tensor([-0.6194,  0.1409,  0.0934,  0.4309,  0.1545, -0.0198, -0.1146,  0.1544,\n",
      "         0.0766,  0.0892, -0.0780, -0.0429,  0.0323, -0.1279,  0.0066, -0.1169,\n",
      "        -0.0081, -0.1691, -0.0071, -0.2041, -0.1621, -0.0091, -0.1370,  0.1262,\n",
      "         0.0839,  0.0131,  0.1040,  0.0161, -0.0292,  0.0186, -0.1358, -0.0575,\n",
      "        -0.0355, -0.0524, -0.0661,  0.1831, -0.0692,  0.0087, -0.0099,  0.2508,\n",
      "         0.0749])\n",
      "conti attr [tensor(-0.6194), tensor(0.1409), tensor(0.0934), tensor(0.4309), tensor(0.1545), tensor(0.0200), tensor(0.0771), tensor(-0.1279), tensor(0.0066), tensor(-0.1169), tensor(-0.0081), tensor(-0.1691), tensor(-0.0071), tensor(-0.2041), tensor(-0.1621), tensor(-0.0199), tensor(0.0839), tensor(0.0131), tensor(0.1040), tensor(0.0161), tensor(-0.0292), tensor(0.0186), tensor(-0.2288), tensor(-0.0524), tensor(-0.0661), tensor(0.3635), tensor(0.0749)]\n",
      "detokenized ['<s>', 'What', 'is', 'different', 'about', 'Paul', 'ine', 'lla', 'chrom', 'at', 'oph', 'ora', '?', '</s>', '</s>', 'It', 'is', 'not', 'clear', 'whether', 'that', 'symb', 'ion', 't', 'is', 'closely', 'related', 'to', 'the', 'ancestral', 'chlor', 'op', 'last', 'of', 'other', 'e', 'uk', 'ary', 'otes', '.', '</s>']\n",
      "len conti_raw 27\n",
      "conti_raw ['<s>', 'What', 'is', 'different', 'about', 'Paulinella', 'chromatophora?', '</s>', '</s>', 'It', 'is', 'not', 'clear', 'whether', 'that', 'symbiont', 'is', 'closely', 'related', 'to', 'the', 'ancestral', 'chloroplast', 'of', 'other', 'eukaryotes.', '</s>']\n",
      "pred_prob 0.015048451721668243\n"
     ]
    },
    {
     "data": {
      "text/html": [
       "<table width: 100%><div style=\"border-top: 1px solid; margin-top: 5px;             padding-top: 5px; display: inline-block\"><b>Legend: </b><span style=\"display: inline-block; width: 10px; height: 10px;                 border: 1px solid; background-color:                 hsl(0, 75%, 60%)\"></span> Negative  <span style=\"display: inline-block; width: 10px; height: 10px;                 border: 1px solid; background-color:                 hsl(0, 75%, 100%)\"></span> Neutral  <span style=\"display: inline-block; width: 10px; height: 10px;                 border: 1px solid; background-color:                 hsl(120, 75%, 50%)\"></span> Positive  </div><tr><th>True Label</th><th>Predicted Label</th><th>Attribution Label</th><th>Attribution Score</th><th>Word Importance</th><tr><td><text style=\"padding-right:2em\"><b>No Entailment</b></text></td><td><text style=\"padding-right:2em\"><b>No Entailment (0.02)</b></text></td><td><text style=\"padding-right:2em\"><b>No Entailment</b></text></td><td><text style=\"padding-right:2em\"><b>-0.21</b></text></td><td><mark style=\"background-color: hsl(0, 75%, 76%); opacity:1.0;                     line-height:1.75\"><font color=\"black\"> #s                    </font></mark><mark style=\"background-color: hsl(120, 75%, 93%); opacity:1.0;                     line-height:1.75\"><font color=\"black\"> What                    </font></mark><mark style=\"background-color: hsl(120, 75%, 96%); opacity:1.0;                     line-height:1.75\"><font color=\"black\"> is                    </font></mark><mark style=\"background-color: hsl(120, 75%, 79%); opacity:1.0;                     line-height:1.75\"><font color=\"black\"> different                    </font></mark><mark style=\"background-color: hsl(120, 75%, 93%); opacity:1.0;                     line-height:1.75\"><font color=\"black\"> about                    </font></mark><mark style=\"background-color: hsl(120, 75%, 99%); opacity:1.0;                     line-height:1.75\"><font color=\"black\"> Paulinella                    </font></mark><mark style=\"background-color: hsl(120, 75%, 97%); opacity:1.0;                     line-height:1.75\"><font color=\"black\"> chromatophora?                    </font></mark><mark style=\"background-color: hsl(0, 75%, 95%); opacity:1.0;                     line-height:1.75\"><font color=\"black\"> #/s                    </font></mark><mark style=\"background-color: hsl(120, 75%, 100%); opacity:1.0;                     line-height:1.75\"><font color=\"black\"> #/s                    </font></mark><mark style=\"background-color: hsl(0, 75%, 96%); opacity:1.0;                     line-height:1.75\"><font color=\"black\"> It                    </font></mark><mark style=\"background-color: hsl(0, 75%, 100%); opacity:1.0;                     line-height:1.75\"><font color=\"black\"> is                    </font></mark><mark style=\"background-color: hsl(0, 75%, 94%); opacity:1.0;                     line-height:1.75\"><font color=\"black\"> not                    </font></mark><mark style=\"background-color: hsl(0, 75%, 100%); opacity:1.0;                     line-height:1.75\"><font color=\"black\"> clear                    </font></mark><mark style=\"background-color: hsl(0, 75%, 92%); opacity:1.0;                     line-height:1.75\"><font color=\"black\"> whether                    </font></mark><mark style=\"background-color: hsl(0, 75%, 94%); opacity:1.0;                     line-height:1.75\"><font color=\"black\"> that                    </font></mark><mark style=\"background-color: hsl(0, 75%, 100%); opacity:1.0;                     line-height:1.75\"><font color=\"black\"> symbiont                    </font></mark><mark style=\"background-color: hsl(120, 75%, 96%); opacity:1.0;                     line-height:1.75\"><font color=\"black\"> is                    </font></mark><mark style=\"background-color: hsl(120, 75%, 100%); opacity:1.0;                     line-height:1.75\"><font color=\"black\"> closely                    </font></mark><mark style=\"background-color: hsl(120, 75%, 95%); opacity:1.0;                     line-height:1.75\"><font color=\"black\"> related                    </font></mark><mark style=\"background-color: hsl(120, 75%, 100%); opacity:1.0;                     line-height:1.75\"><font color=\"black\"> to                    </font></mark><mark style=\"background-color: hsl(0, 75%, 99%); opacity:1.0;                     line-height:1.75\"><font color=\"black\"> the                    </font></mark><mark style=\"background-color: hsl(120, 75%, 100%); opacity:1.0;                     line-height:1.75\"><font color=\"black\"> ancestral                    </font></mark><mark style=\"background-color: hsl(0, 75%, 91%); opacity:1.0;                     line-height:1.75\"><font color=\"black\"> chloroplast                    </font></mark><mark style=\"background-color: hsl(0, 75%, 98%); opacity:1.0;                     line-height:1.75\"><font color=\"black\"> of                    </font></mark><mark style=\"background-color: hsl(0, 75%, 98%); opacity:1.0;                     line-height:1.75\"><font color=\"black\"> other                    </font></mark><mark style=\"background-color: hsl(120, 75%, 82%); opacity:1.0;                     line-height:1.75\"><font color=\"black\"> eukaryotes.                    </font></mark><mark style=\"background-color: hsl(120, 75%, 97%); opacity:1.0;                     line-height:1.75\"><font color=\"black\"> #/s                    </font></mark></td><tr></table>"
      ],
      "text/plain": [
       "<IPython.core.display.HTML object>"
      ]
     },
     "metadata": {},
     "output_type": "display_data"
    },
    {
     "name": "stderr",
     "output_type": "stream",
     "text": [
      "/home/user/anaconda3/envs/py38/lib/python3.9/site-packages/captum/attr/_core/lime.py:1088: UserWarning: Attempting to construct interpretable model with > 10000 features.This can be very slow or lead to OOM issues. Please provide a featuremask which groups input features to reduce the number of interpretablefeatures. \n",
      "  warnings.warn(\n"
     ]
    },
    {
     "name": "stdout",
     "output_type": "stream",
     "text": [
      "<IPython.core.display.HTML object>\n",
      "i: 7\n",
      "Raw datum: [\"Who played Doctor Who on stage in the 70's?\", 'Doctor Who has appeared on stage numerous times.']\n",
      "GT target: 0\n"
     ]
    },
    {
     "name": "stderr",
     "output_type": "stream",
     "text": [
      "Lime attribution: 100%|███████████████████████████| 3/3 [00:11<00:00,  3.79s/it]\n"
     ]
    },
    {
     "name": "stdout",
     "output_type": "stream",
     "text": [
      "word attr tensor([ 0.0028, -0.0199, -0.1119, -0.6154,  0.1929, -0.0965, -0.0359,  0.0443,\n",
      "        -0.1760,  0.2808,  0.2579, -0.0257,  0.0134, -0.0610, -0.2024, -0.3015,\n",
      "        -0.0468, -0.1233,  0.2608,  0.2849, -0.0403, -0.2545, -0.0161,  0.1126])\n",
      "conti attr [tensor(0.0028), tensor(-0.0199), tensor(-0.1119), tensor(-0.6154), tensor(0.1929), tensor(-0.0965), tensor(-0.0359), tensor(0.0443), tensor(-0.1760), tensor(0.5130), tensor(0.0134), tensor(-0.0610), tensor(-0.2024), tensor(-0.3015), tensor(-0.0468), tensor(-0.1233), tensor(0.2608), tensor(0.2849), tensor(-0.0403), tensor(-0.2706), tensor(0.1126)]\n",
      "detokenized ['<s>', 'Who', 'played', 'Doctor', 'Who', 'on', 'stage', 'in', 'the', '70', \"'s\", '?', '</s>', '</s>', 'Doctor', 'Who', 'has', 'appeared', 'on', 'stage', 'numerous', 'times', '.', '</s>']\n",
      "len conti_raw 21\n",
      "conti_raw ['<s>', 'Who', 'played', 'Doctor', 'Who', 'on', 'stage', 'in', 'the', \"70's?\", '</s>', '</s>', 'Doctor', 'Who', 'has', 'appeared', 'on', 'stage', 'numerous', 'times.', '</s>']\n",
      "pred_prob 0.0017728209495544434\n"
     ]
    },
    {
     "data": {
      "text/html": [
       "<table width: 100%><div style=\"border-top: 1px solid; margin-top: 5px;             padding-top: 5px; display: inline-block\"><b>Legend: </b><span style=\"display: inline-block; width: 10px; height: 10px;                 border: 1px solid; background-color:                 hsl(0, 75%, 60%)\"></span> Negative  <span style=\"display: inline-block; width: 10px; height: 10px;                 border: 1px solid; background-color:                 hsl(0, 75%, 100%)\"></span> Neutral  <span style=\"display: inline-block; width: 10px; height: 10px;                 border: 1px solid; background-color:                 hsl(120, 75%, 50%)\"></span> Positive  </div><tr><th>True Label</th><th>Predicted Label</th><th>Attribution Label</th><th>Attribution Score</th><th>Word Importance</th><tr><td><text style=\"padding-right:2em\"><b>No Entailment</b></text></td><td><text style=\"padding-right:2em\"><b>No Entailment (0.00)</b></text></td><td><text style=\"padding-right:2em\"><b>No Entailment</b></text></td><td><text style=\"padding-right:2em\"><b>-0.68</b></text></td><td><mark style=\"background-color: hsl(120, 75%, 100%); opacity:1.0;                     line-height:1.75\"><font color=\"black\"> #s                    </font></mark><mark style=\"background-color: hsl(0, 75%, 100%); opacity:1.0;                     line-height:1.75\"><font color=\"black\"> Who                    </font></mark><mark style=\"background-color: hsl(0, 75%, 96%); opacity:1.0;                     line-height:1.75\"><font color=\"black\"> played                    </font></mark><mark style=\"background-color: hsl(0, 75%, 76%); opacity:1.0;                     line-height:1.75\"><font color=\"black\"> Doctor                    </font></mark><mark style=\"background-color: hsl(120, 75%, 91%); opacity:1.0;                     line-height:1.75\"><font color=\"black\"> Who                    </font></mark><mark style=\"background-color: hsl(0, 75%, 97%); opacity:1.0;                     line-height:1.75\"><font color=\"black\"> on                    </font></mark><mark style=\"background-color: hsl(0, 75%, 99%); opacity:1.0;                     line-height:1.75\"><font color=\"black\"> stage                    </font></mark><mark style=\"background-color: hsl(120, 75%, 98%); opacity:1.0;                     line-height:1.75\"><font color=\"black\"> in                    </font></mark><mark style=\"background-color: hsl(0, 75%, 93%); opacity:1.0;                     line-height:1.75\"><font color=\"black\"> the                    </font></mark><mark style=\"background-color: hsl(120, 75%, 75%); opacity:1.0;                     line-height:1.75\"><font color=\"black\"> 70's?                    </font></mark><mark style=\"background-color: hsl(120, 75%, 100%); opacity:1.0;                     line-height:1.75\"><font color=\"black\"> #/s                    </font></mark><mark style=\"background-color: hsl(0, 75%, 98%); opacity:1.0;                     line-height:1.75\"><font color=\"black\"> #/s                    </font></mark><mark style=\"background-color: hsl(0, 75%, 92%); opacity:1.0;                     line-height:1.75\"><font color=\"black\"> Doctor                    </font></mark><mark style=\"background-color: hsl(0, 75%, 88%); opacity:1.0;                     line-height:1.75\"><font color=\"black\"> Who                    </font></mark><mark style=\"background-color: hsl(0, 75%, 99%); opacity:1.0;                     line-height:1.75\"><font color=\"black\"> has                    </font></mark><mark style=\"background-color: hsl(0, 75%, 96%); opacity:1.0;                     line-height:1.75\"><font color=\"black\"> appeared                    </font></mark><mark style=\"background-color: hsl(120, 75%, 87%); opacity:1.0;                     line-height:1.75\"><font color=\"black\"> on                    </font></mark><mark style=\"background-color: hsl(120, 75%, 86%); opacity:1.0;                     line-height:1.75\"><font color=\"black\"> stage                    </font></mark><mark style=\"background-color: hsl(0, 75%, 99%); opacity:1.0;                     line-height:1.75\"><font color=\"black\"> numerous                    </font></mark><mark style=\"background-color: hsl(0, 75%, 90%); opacity:1.0;                     line-height:1.75\"><font color=\"black\"> times.                    </font></mark><mark style=\"background-color: hsl(120, 75%, 95%); opacity:1.0;                     line-height:1.75\"><font color=\"black\"> #/s                    </font></mark></td><tr></table>"
      ],
      "text/plain": [
       "<IPython.core.display.HTML object>"
      ]
     },
     "metadata": {},
     "output_type": "display_data"
    },
    {
     "name": "stderr",
     "output_type": "stream",
     "text": [
      "/home/user/anaconda3/envs/py38/lib/python3.9/site-packages/captum/attr/_core/lime.py:1088: UserWarning: Attempting to construct interpretable model with > 10000 features.This can be very slow or lead to OOM issues. Please provide a featuremask which groups input features to reduce the number of interpretablefeatures. \n",
      "  warnings.warn(\n"
     ]
    },
    {
     "name": "stdout",
     "output_type": "stream",
     "text": [
      "<IPython.core.display.HTML object>\n",
      "i: 8\n",
      "Raw datum: ['Who do clinical pharmacists work with much of the time?', 'Clinical pharmacists often collaborate with physicians and other healthcare professionals to improve pharmaceutical care.']\n",
      "GT target: 1\n"
     ]
    },
    {
     "name": "stderr",
     "output_type": "stream",
     "text": [
      "Lime attribution: 100%|███████████████████████████| 3/3 [00:14<00:00,  4.85s/it]\n"
     ]
    },
    {
     "name": "stdout",
     "output_type": "stream",
     "text": [
      "word attr tensor([-0.2407, -0.1180, -0.3225,  0.0160,  0.1788, -0.2496,  0.2627, -0.0341,\n",
      "         0.1309, -0.2946,  0.0026,  0.2350, -0.0695,  0.0007,  0.3265,  0.0146,\n",
      "         0.2980,  0.1146,  0.1881,  0.2194,  0.1453, -0.1803,  0.2006, -0.1611,\n",
      "        -0.0087, -0.0504, -0.0782,  0.0396,  0.1000,  0.2101,  0.1265, -0.0239,\n",
      "         0.0479])\n",
      "conti attr [tensor(-0.2407), tensor(-0.1180), tensor(-0.3225), tensor(0.0160), tensor(-0.0708), tensor(0.2627), tensor(-0.0341), tensor(0.1309), tensor(-0.2946), tensor(0.0026), tensor(0.1655), tensor(0.0007), tensor(0.3265), tensor(0.3126), tensor(0.3027), tensor(0.2194), tensor(0.1453), tensor(-0.1803), tensor(0.2006), tensor(-0.1611), tensor(-0.0087), tensor(-0.0504), tensor(-0.0782), tensor(0.0396), tensor(0.1000), tensor(0.2101), tensor(0.1026), tensor(0.0479)]\n",
      "detokenized ['<s>', 'Who', 'do', 'clinical', 'pharmac', 'ists', 'work', 'with', 'much', 'of', 'the', 'time', '?', '</s>', '</s>', 'Cl', 'inical', 'pharmac', 'ists', 'often', 'collaborate', 'with', 'physicians', 'and', 'other', 'healthcare', 'professionals', 'to', 'improve', 'pharmaceutical', 'care', '.', '</s>']\n",
      "len conti_raw 28\n",
      "conti_raw ['<s>', 'Who', 'do', 'clinical', 'pharmacists', 'work', 'with', 'much', 'of', 'the', 'time?', '</s>', '</s>', 'Clinical', 'pharmacists', 'often', 'collaborate', 'with', 'physicians', 'and', 'other', 'healthcare', 'professionals', 'to', 'improve', 'pharmaceutical', 'care.', '</s>']\n",
      "pred_prob 0.9892719984054565\n"
     ]
    },
    {
     "data": {
      "text/html": [
       "<table width: 100%><div style=\"border-top: 1px solid; margin-top: 5px;             padding-top: 5px; display: inline-block\"><b>Legend: </b><span style=\"display: inline-block; width: 10px; height: 10px;                 border: 1px solid; background-color:                 hsl(0, 75%, 60%)\"></span> Negative  <span style=\"display: inline-block; width: 10px; height: 10px;                 border: 1px solid; background-color:                 hsl(0, 75%, 100%)\"></span> Neutral  <span style=\"display: inline-block; width: 10px; height: 10px;                 border: 1px solid; background-color:                 hsl(120, 75%, 50%)\"></span> Positive  </div><tr><th>True Label</th><th>Predicted Label</th><th>Attribution Label</th><th>Attribution Score</th><th>Word Importance</th><tr><td><text style=\"padding-right:2em\"><b>Entailment</b></text></td><td><text style=\"padding-right:2em\"><b>Entailment (0.99)</b></text></td><td><text style=\"padding-right:2em\"><b>Entailment</b></text></td><td><text style=\"padding-right:2em\"><b>1.03</b></text></td><td><mark style=\"background-color: hsl(0, 75%, 91%); opacity:1.0;                     line-height:1.75\"><font color=\"black\"> #s                    </font></mark><mark style=\"background-color: hsl(0, 75%, 96%); opacity:1.0;                     line-height:1.75\"><font color=\"black\"> Who                    </font></mark><mark style=\"background-color: hsl(0, 75%, 88%); opacity:1.0;                     line-height:1.75\"><font color=\"black\"> do                    </font></mark><mark style=\"background-color: hsl(120, 75%, 100%); opacity:1.0;                     line-height:1.75\"><font color=\"black\"> clinical                    </font></mark><mark style=\"background-color: hsl(0, 75%, 98%); opacity:1.0;                     line-height:1.75\"><font color=\"black\"> pharmacists                    </font></mark><mark style=\"background-color: hsl(120, 75%, 87%); opacity:1.0;                     line-height:1.75\"><font color=\"black\"> work                    </font></mark><mark style=\"background-color: hsl(0, 75%, 99%); opacity:1.0;                     line-height:1.75\"><font color=\"black\"> with                    </font></mark><mark style=\"background-color: hsl(120, 75%, 94%); opacity:1.0;                     line-height:1.75\"><font color=\"black\"> much                    </font></mark><mark style=\"background-color: hsl(0, 75%, 89%); opacity:1.0;                     line-height:1.75\"><font color=\"black\"> of                    </font></mark><mark style=\"background-color: hsl(120, 75%, 100%); opacity:1.0;                     line-height:1.75\"><font color=\"black\"> the                    </font></mark><mark style=\"background-color: hsl(120, 75%, 92%); opacity:1.0;                     line-height:1.75\"><font color=\"black\"> time?                    </font></mark><mark style=\"background-color: hsl(120, 75%, 100%); opacity:1.0;                     line-height:1.75\"><font color=\"black\"> #/s                    </font></mark><mark style=\"background-color: hsl(120, 75%, 84%); opacity:1.0;                     line-height:1.75\"><font color=\"black\"> #/s                    </font></mark><mark style=\"background-color: hsl(120, 75%, 85%); opacity:1.0;                     line-height:1.75\"><font color=\"black\"> Clinical                    </font></mark><mark style=\"background-color: hsl(120, 75%, 85%); opacity:1.0;                     line-height:1.75\"><font color=\"black\"> pharmacists                    </font></mark><mark style=\"background-color: hsl(120, 75%, 90%); opacity:1.0;                     line-height:1.75\"><font color=\"black\"> often                    </font></mark><mark style=\"background-color: hsl(120, 75%, 93%); opacity:1.0;                     line-height:1.75\"><font color=\"black\"> collaborate                    </font></mark><mark style=\"background-color: hsl(0, 75%, 93%); opacity:1.0;                     line-height:1.75\"><font color=\"black\"> with                    </font></mark><mark style=\"background-color: hsl(120, 75%, 90%); opacity:1.0;                     line-height:1.75\"><font color=\"black\"> physicians                    </font></mark><mark style=\"background-color: hsl(0, 75%, 94%); opacity:1.0;                     line-height:1.75\"><font color=\"black\"> and                    </font></mark><mark style=\"background-color: hsl(0, 75%, 100%); opacity:1.0;                     line-height:1.75\"><font color=\"black\"> other                    </font></mark><mark style=\"background-color: hsl(0, 75%, 98%); opacity:1.0;                     line-height:1.75\"><font color=\"black\"> healthcare                    </font></mark><mark style=\"background-color: hsl(0, 75%, 97%); opacity:1.0;                     line-height:1.75\"><font color=\"black\"> professionals                    </font></mark><mark style=\"background-color: hsl(120, 75%, 99%); opacity:1.0;                     line-height:1.75\"><font color=\"black\"> to                    </font></mark><mark style=\"background-color: hsl(120, 75%, 96%); opacity:1.0;                     line-height:1.75\"><font color=\"black\"> improve                    </font></mark><mark style=\"background-color: hsl(120, 75%, 90%); opacity:1.0;                     line-height:1.75\"><font color=\"black\"> pharmaceutical                    </font></mark><mark style=\"background-color: hsl(120, 75%, 95%); opacity:1.0;                     line-height:1.75\"><font color=\"black\"> care.                    </font></mark><mark style=\"background-color: hsl(120, 75%, 98%); opacity:1.0;                     line-height:1.75\"><font color=\"black\"> #/s                    </font></mark></td><tr></table>"
      ],
      "text/plain": [
       "<IPython.core.display.HTML object>"
      ]
     },
     "metadata": {},
     "output_type": "display_data"
    },
    {
     "name": "stderr",
     "output_type": "stream",
     "text": [
      "/home/user/anaconda3/envs/py38/lib/python3.9/site-packages/captum/attr/_core/lime.py:1088: UserWarning: Attempting to construct interpretable model with > 10000 features.This can be very slow or lead to OOM issues. Please provide a featuremask which groups input features to reduce the number of interpretablefeatures. \n",
      "  warnings.warn(\n"
     ]
    },
    {
     "name": "stdout",
     "output_type": "stream",
     "text": [
      "<IPython.core.display.HTML object>\n",
      "i: 9\n",
      "Raw datum: ['In which county does Jacksonville reside?', 'It is the county seat of Duval County, with which the city government consolidated in 1968.']\n",
      "GT target: 1\n"
     ]
    },
    {
     "name": "stderr",
     "output_type": "stream",
     "text": [
      "Lime attribution: 100%|███████████████████████████| 3/3 [00:12<00:00,  4.28s/it]\n"
     ]
    },
    {
     "name": "stdout",
     "output_type": "stream",
     "text": [
      "word attr tensor([-0.5168, -0.0325,  0.1308,  0.7569,  0.1715, -0.0542,  0.0527, -0.0769,\n",
      "         0.0136, -0.1053, -0.0373, -0.0393, -0.0385,  0.1189,  0.0738, -0.0463,\n",
      "        -0.0364,  0.0304,  0.0379, -0.1869, -0.0620,  0.0476, -0.0057, -0.0273,\n",
      "         0.0598,  0.0542, -0.0437,  0.0392,  0.0883, -0.0118])\n",
      "conti attr [tensor(-0.5168), tensor(-0.0325), tensor(0.1308), tensor(0.7569), tensor(0.1715), tensor(-0.0542), tensor(-0.0243), tensor(0.0136), tensor(-0.1053), tensor(-0.0373), tensor(-0.0393), tensor(-0.0385), tensor(0.1189), tensor(0.0738), tensor(-0.0463), tensor(-0.0060), tensor(-0.1491), tensor(-0.0620), tensor(0.0476), tensor(-0.0057), tensor(-0.0273), tensor(0.0598), tensor(0.0542), tensor(-0.0437), tensor(0.1275), tensor(-0.0118)]\n",
      "detokenized ['<s>', 'In', 'which', 'county', 'does', 'Jacksonville', 'reside', '?', '</s>', '</s>', 'It', 'is', 'the', 'county', 'seat', 'of', 'Du', 'val', 'County', ',', 'with', 'which', 'the', 'city', 'government', 'consolidated', 'in', '1968', '.', '</s>']\n",
      "len conti_raw 26\n",
      "conti_raw ['<s>', 'In', 'which', 'county', 'does', 'Jacksonville', 'reside?', '</s>', '</s>', 'It', 'is', 'the', 'county', 'seat', 'of', 'Duval', 'County,', 'with', 'which', 'the', 'city', 'government', 'consolidated', 'in', '1968.', '</s>']\n",
      "pred_prob 0.9770406484603882\n"
     ]
    },
    {
     "data": {
      "text/html": [
       "<table width: 100%><div style=\"border-top: 1px solid; margin-top: 5px;             padding-top: 5px; display: inline-block\"><b>Legend: </b><span style=\"display: inline-block; width: 10px; height: 10px;                 border: 1px solid; background-color:                 hsl(0, 75%, 60%)\"></span> Negative  <span style=\"display: inline-block; width: 10px; height: 10px;                 border: 1px solid; background-color:                 hsl(0, 75%, 100%)\"></span> Neutral  <span style=\"display: inline-block; width: 10px; height: 10px;                 border: 1px solid; background-color:                 hsl(120, 75%, 50%)\"></span> Positive  </div><tr><th>True Label</th><th>Predicted Label</th><th>Attribution Label</th><th>Attribution Score</th><th>Word Importance</th><tr><td><text style=\"padding-right:2em\"><b>Entailment</b></text></td><td><text style=\"padding-right:2em\"><b>Entailment (0.98)</b></text></td><td><text style=\"padding-right:2em\"><b>No Entailment</b></text></td><td><text style=\"padding-right:2em\"><b>0.35</b></text></td><td><mark style=\"background-color: hsl(0, 75%, 80%); opacity:1.0;                     line-height:1.75\"><font color=\"black\"> #s                    </font></mark><mark style=\"background-color: hsl(0, 75%, 99%); opacity:1.0;                     line-height:1.75\"><font color=\"black\"> In                    </font></mark><mark style=\"background-color: hsl(120, 75%, 94%); opacity:1.0;                     line-height:1.75\"><font color=\"black\"> which                    </font></mark><mark style=\"background-color: hsl(120, 75%, 63%); opacity:1.0;                     line-height:1.75\"><font color=\"black\"> county                    </font></mark><mark style=\"background-color: hsl(120, 75%, 92%); opacity:1.0;                     line-height:1.75\"><font color=\"black\"> does                    </font></mark><mark style=\"background-color: hsl(0, 75%, 98%); opacity:1.0;                     line-height:1.75\"><font color=\"black\"> Jacksonville                    </font></mark><mark style=\"background-color: hsl(0, 75%, 100%); opacity:1.0;                     line-height:1.75\"><font color=\"black\"> reside?                    </font></mark><mark style=\"background-color: hsl(120, 75%, 100%); opacity:1.0;                     line-height:1.75\"><font color=\"black\"> #/s                    </font></mark><mark style=\"background-color: hsl(0, 75%, 96%); opacity:1.0;                     line-height:1.75\"><font color=\"black\"> #/s                    </font></mark><mark style=\"background-color: hsl(0, 75%, 99%); opacity:1.0;                     line-height:1.75\"><font color=\"black\"> It                    </font></mark><mark style=\"background-color: hsl(0, 75%, 99%); opacity:1.0;                     line-height:1.75\"><font color=\"black\"> is                    </font></mark><mark style=\"background-color: hsl(0, 75%, 99%); opacity:1.0;                     line-height:1.75\"><font color=\"black\"> the                    </font></mark><mark style=\"background-color: hsl(120, 75%, 95%); opacity:1.0;                     line-height:1.75\"><font color=\"black\"> county                    </font></mark><mark style=\"background-color: hsl(120, 75%, 97%); opacity:1.0;                     line-height:1.75\"><font color=\"black\"> seat                    </font></mark><mark style=\"background-color: hsl(0, 75%, 99%); opacity:1.0;                     line-height:1.75\"><font color=\"black\"> of                    </font></mark><mark style=\"background-color: hsl(0, 75%, 100%); opacity:1.0;                     line-height:1.75\"><font color=\"black\"> Duval                    </font></mark><mark style=\"background-color: hsl(0, 75%, 95%); opacity:1.0;                     line-height:1.75\"><font color=\"black\"> County,                    </font></mark><mark style=\"background-color: hsl(0, 75%, 98%); opacity:1.0;                     line-height:1.75\"><font color=\"black\"> with                    </font></mark><mark style=\"background-color: hsl(120, 75%, 98%); opacity:1.0;                     line-height:1.75\"><font color=\"black\"> which                    </font></mark><mark style=\"background-color: hsl(0, 75%, 100%); opacity:1.0;                     line-height:1.75\"><font color=\"black\"> the                    </font></mark><mark style=\"background-color: hsl(0, 75%, 99%); opacity:1.0;                     line-height:1.75\"><font color=\"black\"> city                    </font></mark><mark style=\"background-color: hsl(120, 75%, 98%); opacity:1.0;                     line-height:1.75\"><font color=\"black\"> government                    </font></mark><mark style=\"background-color: hsl(120, 75%, 98%); opacity:1.0;                     line-height:1.75\"><font color=\"black\"> consolidated                    </font></mark><mark style=\"background-color: hsl(0, 75%, 99%); opacity:1.0;                     line-height:1.75\"><font color=\"black\"> in                    </font></mark><mark style=\"background-color: hsl(120, 75%, 94%); opacity:1.0;                     line-height:1.75\"><font color=\"black\"> 1968.                    </font></mark><mark style=\"background-color: hsl(0, 75%, 100%); opacity:1.0;                     line-height:1.75\"><font color=\"black\"> #/s                    </font></mark></td><tr></table>"
      ],
      "text/plain": [
       "<IPython.core.display.HTML object>"
      ]
     },
     "metadata": {},
     "output_type": "display_data"
    },
    {
     "name": "stderr",
     "output_type": "stream",
     "text": [
      "/home/user/anaconda3/envs/py38/lib/python3.9/site-packages/captum/attr/_core/lime.py:1088: UserWarning: Attempting to construct interpretable model with > 10000 features.This can be very slow or lead to OOM issues. Please provide a featuremask which groups input features to reduce the number of interpretablefeatures. \n",
      "  warnings.warn(\n"
     ]
    },
    {
     "name": "stdout",
     "output_type": "stream",
     "text": [
      "<IPython.core.display.HTML object>\n",
      "i: 10\n",
      "Raw datum: ['Who did Genghis Khan charge with finding and punishing the Shah?', 'Genghis Khan ordered the wholesale massacre of many of the civilians, enslaved the rest of the population and executed Inalchuq by pouring molten silver into his ears and eyes, as retribution for his actions.']\n",
      "GT target: 0\n"
     ]
    },
    {
     "name": "stderr",
     "output_type": "stream",
     "text": [
      "Lime attribution: 100%|███████████████████████████| 3/3 [00:27<00:00,  9.13s/it]\n"
     ]
    },
    {
     "name": "stdout",
     "output_type": "stream",
     "text": [
      "word attr tensor([-0.0520, -0.0451, -0.2677, -0.2371,  0.0123, -0.1118,  0.1581,  0.1215,\n",
      "        -0.0688,  0.2898,  0.0603,  0.2614,  0.1218, -0.1669,  0.1153,  0.0369,\n",
      "         0.2913, -0.1321, -0.1720, -0.0182, -0.0772, -0.0616,  0.1033,  0.0103,\n",
      "         0.0791, -0.0701, -0.0859, -0.0127,  0.0681,  0.1642,  0.0157, -0.0116,\n",
      "         0.0144,  0.0497,  0.0437,  0.0910,  0.0499,  0.0061, -0.0874, -0.2758,\n",
      "        -0.1357, -0.0475, -0.1204, -0.1162,  0.0477,  0.1689, -0.1881, -0.0737,\n",
      "        -0.1308,  0.0703,  0.0267,  0.0631, -0.0307,  0.0720,  0.0046, -0.1223,\n",
      "        -0.1699,  0.1053,  0.2808,  0.0862])\n",
      "conti attr [tensor(-0.0520), tensor(-0.0451), tensor(-0.2677), tensor(-0.3367), tensor(0.1581), tensor(0.1215), tensor(-0.0688), tensor(0.2898), tensor(0.0603), tensor(0.2614), tensor(0.1218), tensor(-0.0516), tensor(0.0369), tensor(0.2913), tensor(-0.3223), tensor(-0.0772), tensor(-0.0616), tensor(0.1033), tensor(0.0103), tensor(0.0791), tensor(-0.0701), tensor(-0.0859), tensor(-0.0127), tensor(0.0681), tensor(0.1799), tensor(-0.0116), tensor(0.0144), tensor(0.0497), tensor(0.0437), tensor(0.0910), tensor(0.0499), tensor(0.0061), tensor(-0.0874), tensor(-0.5794), tensor(-0.1162), tensor(0.0477), tensor(0.1689), tensor(-0.1881), tensor(-0.0737), tensor(-0.1308), tensor(0.0703), tensor(0.0267), tensor(0.0324), tensor(0.0720), tensor(0.0046), tensor(-0.1223), tensor(-0.1699), tensor(0.3861), tensor(0.0862)]\n",
      "detokenized ['<s>', 'Who', 'did', 'Gen', 'gh', 'is', 'Khan', 'charge', 'with', 'finding', 'and', 'punishing', 'the', 'Shah', '?', '</s>', '</s>', 'Gen', 'gh', 'is', 'Khan', 'ordered', 'the', 'wholesale', 'massacre', 'of', 'many', 'of', 'the', 'civilians', ',', 'enslaved', 'the', 'rest', 'of', 'the', 'population', 'and', 'executed', 'In', 'al', 'chu', 'q', 'by', 'pouring', 'molten', 'silver', 'into', 'his', 'ears', 'and', 'eyes', ',', 'as', 'retribution', 'for', 'his', 'actions', '.', '</s>']\n",
      "len conti_raw 49\n",
      "conti_raw ['<s>', 'Who', 'did', 'Genghis', 'Khan', 'charge', 'with', 'finding', 'and', 'punishing', 'the', 'Shah?', '</s>', '</s>', 'Genghis', 'Khan', 'ordered', 'the', 'wholesale', 'massacre', 'of', 'many', 'of', 'the', 'civilians,', 'enslaved', 'the', 'rest', 'of', 'the', 'population', 'and', 'executed', 'Inalchuq', 'by', 'pouring', 'molten', 'silver', 'into', 'his', 'ears', 'and', 'eyes,', 'as', 'retribution', 'for', 'his', 'actions.', '</s>']\n",
      "pred_prob 0.01447561476379633\n"
     ]
    },
    {
     "data": {
      "text/html": [
       "<table width: 100%><div style=\"border-top: 1px solid; margin-top: 5px;             padding-top: 5px; display: inline-block\"><b>Legend: </b><span style=\"display: inline-block; width: 10px; height: 10px;                 border: 1px solid; background-color:                 hsl(0, 75%, 60%)\"></span> Negative  <span style=\"display: inline-block; width: 10px; height: 10px;                 border: 1px solid; background-color:                 hsl(0, 75%, 100%)\"></span> Neutral  <span style=\"display: inline-block; width: 10px; height: 10px;                 border: 1px solid; background-color:                 hsl(120, 75%, 50%)\"></span> Positive  </div><tr><th>True Label</th><th>Predicted Label</th><th>Attribution Label</th><th>Attribution Score</th><th>Word Importance</th><tr><td><text style=\"padding-right:2em\"><b>No Entailment</b></text></td><td><text style=\"padding-right:2em\"><b>No Entailment (0.01)</b></text></td><td><text style=\"padding-right:2em\"><b>No Entailment</b></text></td><td><text style=\"padding-right:2em\"><b>0.00</b></text></td><td><mark style=\"background-color: hsl(0, 75%, 98%); opacity:1.0;                     line-height:1.75\"><font color=\"black\"> #s                    </font></mark><mark style=\"background-color: hsl(0, 75%, 99%); opacity:1.0;                     line-height:1.75\"><font color=\"black\"> Who                    </font></mark><mark style=\"background-color: hsl(0, 75%, 90%); opacity:1.0;                     line-height:1.75\"><font color=\"black\"> did                    </font></mark><mark style=\"background-color: hsl(0, 75%, 87%); opacity:1.0;                     line-height:1.75\"><font color=\"black\"> Genghis                    </font></mark><mark style=\"background-color: hsl(120, 75%, 93%); opacity:1.0;                     line-height:1.75\"><font color=\"black\"> Khan                    </font></mark><mark style=\"background-color: hsl(120, 75%, 94%); opacity:1.0;                     line-height:1.75\"><font color=\"black\"> charge                    </font></mark><mark style=\"background-color: hsl(0, 75%, 98%); opacity:1.0;                     line-height:1.75\"><font color=\"black\"> with                    </font></mark><mark style=\"background-color: hsl(120, 75%, 86%); opacity:1.0;                     line-height:1.75\"><font color=\"black\"> finding                    </font></mark><mark style=\"background-color: hsl(120, 75%, 97%); opacity:1.0;                     line-height:1.75\"><font color=\"black\"> and                    </font></mark><mark style=\"background-color: hsl(120, 75%, 87%); opacity:1.0;                     line-height:1.75\"><font color=\"black\"> punishing                    </font></mark><mark style=\"background-color: hsl(120, 75%, 94%); opacity:1.0;                     line-height:1.75\"><font color=\"black\"> the                    </font></mark><mark style=\"background-color: hsl(0, 75%, 98%); opacity:1.0;                     line-height:1.75\"><font color=\"black\"> Shah?                    </font></mark><mark style=\"background-color: hsl(120, 75%, 99%); opacity:1.0;                     line-height:1.75\"><font color=\"black\"> #/s                    </font></mark><mark style=\"background-color: hsl(120, 75%, 86%); opacity:1.0;                     line-height:1.75\"><font color=\"black\"> #/s                    </font></mark><mark style=\"background-color: hsl(0, 75%, 88%); opacity:1.0;                     line-height:1.75\"><font color=\"black\"> Genghis                    </font></mark><mark style=\"background-color: hsl(0, 75%, 97%); opacity:1.0;                     line-height:1.75\"><font color=\"black\"> Khan                    </font></mark><mark style=\"background-color: hsl(0, 75%, 98%); opacity:1.0;                     line-height:1.75\"><font color=\"black\"> ordered                    </font></mark><mark style=\"background-color: hsl(120, 75%, 95%); opacity:1.0;                     line-height:1.75\"><font color=\"black\"> the                    </font></mark><mark style=\"background-color: hsl(120, 75%, 100%); opacity:1.0;                     line-height:1.75\"><font color=\"black\"> wholesale                    </font></mark><mark style=\"background-color: hsl(120, 75%, 97%); opacity:1.0;                     line-height:1.75\"><font color=\"black\"> massacre                    </font></mark><mark style=\"background-color: hsl(0, 75%, 98%); opacity:1.0;                     line-height:1.75\"><font color=\"black\"> of                    </font></mark><mark style=\"background-color: hsl(0, 75%, 97%); opacity:1.0;                     line-height:1.75\"><font color=\"black\"> many                    </font></mark><mark style=\"background-color: hsl(0, 75%, 100%); opacity:1.0;                     line-height:1.75\"><font color=\"black\"> of                    </font></mark><mark style=\"background-color: hsl(120, 75%, 97%); opacity:1.0;                     line-height:1.75\"><font color=\"black\"> the                    </font></mark><mark style=\"background-color: hsl(120, 75%, 92%); opacity:1.0;                     line-height:1.75\"><font color=\"black\"> civilians,                    </font></mark><mark style=\"background-color: hsl(0, 75%, 100%); opacity:1.0;                     line-height:1.75\"><font color=\"black\"> enslaved                    </font></mark><mark style=\"background-color: hsl(120, 75%, 100%); opacity:1.0;                     line-height:1.75\"><font color=\"black\"> the                    </font></mark><mark style=\"background-color: hsl(120, 75%, 98%); opacity:1.0;                     line-height:1.75\"><font color=\"black\"> rest                    </font></mark><mark style=\"background-color: hsl(120, 75%, 98%); opacity:1.0;                     line-height:1.75\"><font color=\"black\"> of                    </font></mark><mark style=\"background-color: hsl(120, 75%, 96%); opacity:1.0;                     line-height:1.75\"><font color=\"black\"> the                    </font></mark><mark style=\"background-color: hsl(120, 75%, 98%); opacity:1.0;                     line-height:1.75\"><font color=\"black\"> population                    </font></mark><mark style=\"background-color: hsl(120, 75%, 100%); opacity:1.0;                     line-height:1.75\"><font color=\"black\"> and                    </font></mark><mark style=\"background-color: hsl(0, 75%, 97%); opacity:1.0;                     line-height:1.75\"><font color=\"black\"> executed                    </font></mark><mark style=\"background-color: hsl(0, 75%, 77%); opacity:1.0;                     line-height:1.75\"><font color=\"black\"> Inalchuq                    </font></mark><mark style=\"background-color: hsl(0, 75%, 96%); opacity:1.0;                     line-height:1.75\"><font color=\"black\"> by                    </font></mark><mark style=\"background-color: hsl(120, 75%, 98%); opacity:1.0;                     line-height:1.75\"><font color=\"black\"> pouring                    </font></mark><mark style=\"background-color: hsl(120, 75%, 92%); opacity:1.0;                     line-height:1.75\"><font color=\"black\"> molten                    </font></mark><mark style=\"background-color: hsl(0, 75%, 93%); opacity:1.0;                     line-height:1.75\"><font color=\"black\"> silver                    </font></mark><mark style=\"background-color: hsl(0, 75%, 98%); opacity:1.0;                     line-height:1.75\"><font color=\"black\"> into                    </font></mark><mark style=\"background-color: hsl(0, 75%, 95%); opacity:1.0;                     line-height:1.75\"><font color=\"black\"> his                    </font></mark><mark style=\"background-color: hsl(120, 75%, 97%); opacity:1.0;                     line-height:1.75\"><font color=\"black\"> ears                    </font></mark><mark style=\"background-color: hsl(120, 75%, 99%); opacity:1.0;                     line-height:1.75\"><font color=\"black\"> and                    </font></mark><mark style=\"background-color: hsl(120, 75%, 99%); opacity:1.0;                     line-height:1.75\"><font color=\"black\"> eyes,                    </font></mark><mark style=\"background-color: hsl(120, 75%, 97%); opacity:1.0;                     line-height:1.75\"><font color=\"black\"> as                    </font></mark><mark style=\"background-color: hsl(120, 75%, 100%); opacity:1.0;                     line-height:1.75\"><font color=\"black\"> retribution                    </font></mark><mark style=\"background-color: hsl(0, 75%, 96%); opacity:1.0;                     line-height:1.75\"><font color=\"black\"> for                    </font></mark><mark style=\"background-color: hsl(0, 75%, 94%); opacity:1.0;                     line-height:1.75\"><font color=\"black\"> his                    </font></mark><mark style=\"background-color: hsl(120, 75%, 81%); opacity:1.0;                     line-height:1.75\"><font color=\"black\"> actions.                    </font></mark><mark style=\"background-color: hsl(120, 75%, 96%); opacity:1.0;                     line-height:1.75\"><font color=\"black\"> #/s                    </font></mark></td><tr></table>"
      ],
      "text/plain": [
       "<IPython.core.display.HTML object>"
      ]
     },
     "metadata": {},
     "output_type": "display_data"
    },
    {
     "name": "stderr",
     "output_type": "stream",
     "text": [
      "/home/user/anaconda3/envs/py38/lib/python3.9/site-packages/captum/attr/_core/lime.py:1088: UserWarning: Attempting to construct interpretable model with > 10000 features.This can be very slow or lead to OOM issues. Please provide a featuremask which groups input features to reduce the number of interpretablefeatures. \n",
      "  warnings.warn(\n"
     ]
    },
    {
     "name": "stdout",
     "output_type": "stream",
     "text": [
      "<IPython.core.display.HTML object>\n",
      "i: 11\n",
      "Raw datum: ['What entity enforces the Charter of Fundamental Rights of the European Union?', 'In effect, after the Lisbon Treaty, the Charter and the Convention now co-exist under European Union law, though the former is enforced by the European Court of Justice in relation to European Union measures, and the latter by the European Court of Human Rights in relation to measures by member states.']\n",
      "GT target: 1\n"
     ]
    },
    {
     "name": "stderr",
     "output_type": "stream",
     "text": [
      "Lime attribution: 100%|███████████████████████████| 3/3 [00:35<00:00, 11.86s/it]\n"
     ]
    },
    {
     "name": "stdout",
     "output_type": "stream",
     "text": [
      "word attr tensor([-1.7067e-01,  9.6011e-02, -3.1550e-03,  2.7658e-02,  4.3822e-01,\n",
      "        -3.3107e-02, -2.4392e-02, -4.9178e-03, -6.2560e-02,  2.9830e-02,\n",
      "        -1.2134e-01,  6.6804e-02,  3.8734e-02, -8.2053e-02,  6.4533e-02,\n",
      "         3.6624e-02, -4.3871e-02,  8.4931e-02, -7.7206e-02,  8.0286e-02,\n",
      "         1.7571e-01, -1.9623e-01, -3.2364e-01, -1.7704e-02, -4.3556e-02,\n",
      "         1.3641e-01,  1.0500e-01, -2.7234e-02,  1.2972e-01,  2.7156e-02,\n",
      "        -2.9904e-02,  4.6176e-02,  1.3902e-01, -1.2748e-02,  4.6959e-02,\n",
      "        -2.6564e-02,  6.1061e-02, -2.6230e-02, -6.9868e-02,  1.8238e-01,\n",
      "         1.3274e-02, -6.9633e-02, -1.4677e-01, -8.1870e-02, -1.8260e-01,\n",
      "        -8.5419e-02, -1.3640e-01,  8.7909e-02, -2.9906e-02, -1.4199e-01,\n",
      "         2.1570e-01,  6.6138e-04,  9.3976e-02, -9.5593e-02,  7.6636e-02,\n",
      "        -9.9023e-02, -4.7317e-02, -2.3279e-01, -2.8137e-02, -8.1714e-05,\n",
      "        -3.4419e-02, -1.1171e-01, -3.7247e-02,  2.2597e-01, -4.8304e-02,\n",
      "         6.7072e-02,  2.0166e-01,  6.5141e-02, -7.9686e-03,  3.4982e-02,\n",
      "         1.0599e-01, -7.3731e-02,  2.6504e-02,  6.0101e-02,  6.4500e-02,\n",
      "        -1.1229e-01])\n",
      "conti attr [tensor(-0.1707), tensor(0.0960), tensor(-0.0032), tensor(0.4659), tensor(-0.0331), tensor(-0.0244), tensor(-0.0049), tensor(-0.0626), tensor(0.0298), tensor(-0.1213), tensor(0.0668), tensor(0.0387), tensor(-0.0175), tensor(0.0366), tensor(-0.0439), tensor(0.0849), tensor(0.0031), tensor(0.1757), tensor(-0.1962), tensor(-0.3236), tensor(-0.0613), tensor(0.1364), tensor(0.1050), tensor(-0.0272), tensor(0.1297), tensor(0.0272), tensor(-0.0299), tensor(0.1724), tensor(0.0470), tensor(-0.0266), tensor(0.0611), tensor(-0.0961), tensor(0.1824), tensor(0.0133), tensor(-0.0696), tensor(-0.1468), tensor(-0.0819), tensor(-0.1826), tensor(-0.0854), tensor(-0.1364), tensor(0.0879), tensor(-0.0299), tensor(-0.1420), tensor(0.2157), tensor(0.0007), tensor(0.0940), tensor(-0.0956), tensor(0.0766), tensor(-0.1463), tensor(-0.2328), tensor(-0.0281), tensor(-8.1714e-05), tensor(-0.0344), tensor(-0.1117), tensor(-0.0372), tensor(0.2260), tensor(-0.0483), tensor(0.0671), tensor(0.2017), tensor(0.0651), tensor(-0.0080), tensor(0.0350), tensor(0.1060), tensor(-0.0737), tensor(0.0265), tensor(0.1246), tensor(-0.1123)]\n",
      "detokenized ['<s>', 'What', 'entity', 'en', 'forces', 'the', 'Charter', 'of', 'Fundamental', 'Rights', 'of', 'the', 'European', 'Union', '?', '</s>', '</s>', 'In', 'effect', ',', 'after', 'the', 'Lisbon', 'Treaty', ',', 'the', 'Charter', 'and', 'the', 'Convention', 'now', 'co', '-', 'exist', 'under', 'European', 'Union', 'law', ',', 'though', 'the', 'former', 'is', 'enforced', 'by', 'the', 'European', 'Court', 'of', 'Justice', 'in', 'relation', 'to', 'European', 'Union', 'measures', ',', 'and', 'the', 'latter', 'by', 'the', 'European', 'Court', 'of', 'Human', 'Rights', 'in', 'relation', 'to', 'measures', 'by', 'member', 'states', '.', '</s>']\n",
      "len conti_raw 67\n",
      "conti_raw ['<s>', 'What', 'entity', 'enforces', 'the', 'Charter', 'of', 'Fundamental', 'Rights', 'of', 'the', 'European', 'Union?', '</s>', '</s>', 'In', 'effect,', 'after', 'the', 'Lisbon', 'Treaty,', 'the', 'Charter', 'and', 'the', 'Convention', 'now', 'co-exist', 'under', 'European', 'Union', 'law,', 'though', 'the', 'former', 'is', 'enforced', 'by', 'the', 'European', 'Court', 'of', 'Justice', 'in', 'relation', 'to', 'European', 'Union', 'measures,', 'and', 'the', 'latter', 'by', 'the', 'European', 'Court', 'of', 'Human', 'Rights', 'in', 'relation', 'to', 'measures', 'by', 'member', 'states.', '</s>']\n",
      "pred_prob 0.9285910129547119\n"
     ]
    },
    {
     "data": {
      "text/html": [
       "<table width: 100%><div style=\"border-top: 1px solid; margin-top: 5px;             padding-top: 5px; display: inline-block\"><b>Legend: </b><span style=\"display: inline-block; width: 10px; height: 10px;                 border: 1px solid; background-color:                 hsl(0, 75%, 60%)\"></span> Negative  <span style=\"display: inline-block; width: 10px; height: 10px;                 border: 1px solid; background-color:                 hsl(0, 75%, 100%)\"></span> Neutral  <span style=\"display: inline-block; width: 10px; height: 10px;                 border: 1px solid; background-color:                 hsl(120, 75%, 50%)\"></span> Positive  </div><tr><th>True Label</th><th>Predicted Label</th><th>Attribution Label</th><th>Attribution Score</th><th>Word Importance</th><tr><td><text style=\"padding-right:2em\"><b>Entailment</b></text></td><td><text style=\"padding-right:2em\"><b>Entailment (0.93)</b></text></td><td><text style=\"padding-right:2em\"><b>No Entailment</b></text></td><td><text style=\"padding-right:2em\"><b>0.15</b></text></td><td><mark style=\"background-color: hsl(0, 75%, 94%); opacity:1.0;                     line-height:1.75\"><font color=\"black\"> #s                    </font></mark><mark style=\"background-color: hsl(120, 75%, 96%); opacity:1.0;                     line-height:1.75\"><font color=\"black\"> What                    </font></mark><mark style=\"background-color: hsl(0, 75%, 100%); opacity:1.0;                     line-height:1.75\"><font color=\"black\"> entity                    </font></mark><mark style=\"background-color: hsl(120, 75%, 77%); opacity:1.0;                     line-height:1.75\"><font color=\"black\"> enforces                    </font></mark><mark style=\"background-color: hsl(0, 75%, 99%); opacity:1.0;                     line-height:1.75\"><font color=\"black\"> the                    </font></mark><mark style=\"background-color: hsl(0, 75%, 100%); opacity:1.0;                     line-height:1.75\"><font color=\"black\"> Charter                    </font></mark><mark style=\"background-color: hsl(0, 75%, 100%); opacity:1.0;                     line-height:1.75\"><font color=\"black\"> of                    </font></mark><mark style=\"background-color: hsl(0, 75%, 98%); opacity:1.0;                     line-height:1.75\"><font color=\"black\"> Fundamental                    </font></mark><mark style=\"background-color: hsl(120, 75%, 99%); opacity:1.0;                     line-height:1.75\"><font color=\"black\"> Rights                    </font></mark><mark style=\"background-color: hsl(0, 75%, 96%); opacity:1.0;                     line-height:1.75\"><font color=\"black\"> of                    </font></mark><mark style=\"background-color: hsl(120, 75%, 97%); opacity:1.0;                     line-height:1.75\"><font color=\"black\"> the                    </font></mark><mark style=\"background-color: hsl(120, 75%, 99%); opacity:1.0;                     line-height:1.75\"><font color=\"black\"> European                    </font></mark><mark style=\"background-color: hsl(0, 75%, 100%); opacity:1.0;                     line-height:1.75\"><font color=\"black\"> Union?                    </font></mark><mark style=\"background-color: hsl(120, 75%, 99%); opacity:1.0;                     line-height:1.75\"><font color=\"black\"> #/s                    </font></mark><mark style=\"background-color: hsl(0, 75%, 99%); opacity:1.0;                     line-height:1.75\"><font color=\"black\"> #/s                    </font></mark><mark style=\"background-color: hsl(120, 75%, 96%); opacity:1.0;                     line-height:1.75\"><font color=\"black\"> In                    </font></mark><mark style=\"background-color: hsl(120, 75%, 100%); opacity:1.0;                     line-height:1.75\"><font color=\"black\"> effect,                    </font></mark><mark style=\"background-color: hsl(120, 75%, 92%); opacity:1.0;                     line-height:1.75\"><font color=\"black\"> after                    </font></mark><mark style=\"background-color: hsl(0, 75%, 93%); opacity:1.0;                     line-height:1.75\"><font color=\"black\"> the                    </font></mark><mark style=\"background-color: hsl(0, 75%, 88%); opacity:1.0;                     line-height:1.75\"><font color=\"black\"> Lisbon                    </font></mark><mark style=\"background-color: hsl(0, 75%, 98%); opacity:1.0;                     line-height:1.75\"><font color=\"black\"> Treaty,                    </font></mark><mark style=\"background-color: hsl(120, 75%, 94%); opacity:1.0;                     line-height:1.75\"><font color=\"black\"> the                    </font></mark><mark style=\"background-color: hsl(120, 75%, 95%); opacity:1.0;                     line-height:1.75\"><font color=\"black\"> Charter                    </font></mark><mark style=\"background-color: hsl(0, 75%, 99%); opacity:1.0;                     line-height:1.75\"><font color=\"black\"> and                    </font></mark><mark style=\"background-color: hsl(120, 75%, 94%); opacity:1.0;                     line-height:1.75\"><font color=\"black\"> the                    </font></mark><mark style=\"background-color: hsl(120, 75%, 99%); opacity:1.0;                     line-height:1.75\"><font color=\"black\"> Convention                    </font></mark><mark style=\"background-color: hsl(0, 75%, 99%); opacity:1.0;                     line-height:1.75\"><font color=\"black\"> now                    </font></mark><mark style=\"background-color: hsl(120, 75%, 92%); opacity:1.0;                     line-height:1.75\"><font color=\"black\"> co-exist                    </font></mark><mark style=\"background-color: hsl(120, 75%, 98%); opacity:1.0;                     line-height:1.75\"><font color=\"black\"> under                    </font></mark><mark style=\"background-color: hsl(0, 75%, 99%); opacity:1.0;                     line-height:1.75\"><font color=\"black\"> European                    </font></mark><mark style=\"background-color: hsl(120, 75%, 97%); opacity:1.0;                     line-height:1.75\"><font color=\"black\"> Union                    </font></mark><mark style=\"background-color: hsl(0, 75%, 97%); opacity:1.0;                     line-height:1.75\"><font color=\"black\"> law,                    </font></mark><mark style=\"background-color: hsl(120, 75%, 91%); opacity:1.0;                     line-height:1.75\"><font color=\"black\"> though                    </font></mark><mark style=\"background-color: hsl(120, 75%, 100%); opacity:1.0;                     line-height:1.75\"><font color=\"black\"> the                    </font></mark><mark style=\"background-color: hsl(0, 75%, 98%); opacity:1.0;                     line-height:1.75\"><font color=\"black\"> former                    </font></mark><mark style=\"background-color: hsl(0, 75%, 95%); opacity:1.0;                     line-height:1.75\"><font color=\"black\"> is                    </font></mark><mark style=\"background-color: hsl(0, 75%, 97%); opacity:1.0;                     line-height:1.75\"><font color=\"black\"> enforced                    </font></mark><mark style=\"background-color: hsl(0, 75%, 93%); opacity:1.0;                     line-height:1.75\"><font color=\"black\"> by                    </font></mark><mark style=\"background-color: hsl(0, 75%, 97%); opacity:1.0;                     line-height:1.75\"><font color=\"black\"> the                    </font></mark><mark style=\"background-color: hsl(0, 75%, 95%); opacity:1.0;                     line-height:1.75\"><font color=\"black\"> European                    </font></mark><mark style=\"background-color: hsl(120, 75%, 96%); opacity:1.0;                     line-height:1.75\"><font color=\"black\"> Court                    </font></mark><mark style=\"background-color: hsl(0, 75%, 99%); opacity:1.0;                     line-height:1.75\"><font color=\"black\"> of                    </font></mark><mark style=\"background-color: hsl(0, 75%, 95%); opacity:1.0;                     line-height:1.75\"><font color=\"black\"> Justice                    </font></mark><mark style=\"background-color: hsl(120, 75%, 90%); opacity:1.0;                     line-height:1.75\"><font color=\"black\"> in                    </font></mark><mark style=\"background-color: hsl(120, 75%, 100%); opacity:1.0;                     line-height:1.75\"><font color=\"black\"> relation                    </font></mark><mark style=\"background-color: hsl(120, 75%, 96%); opacity:1.0;                     line-height:1.75\"><font color=\"black\"> to                    </font></mark><mark style=\"background-color: hsl(0, 75%, 97%); opacity:1.0;                     line-height:1.75\"><font color=\"black\"> European                    </font></mark><mark style=\"background-color: hsl(120, 75%, 97%); opacity:1.0;                     line-height:1.75\"><font color=\"black\"> Union                    </font></mark><mark style=\"background-color: hsl(0, 75%, 95%); opacity:1.0;                     line-height:1.75\"><font color=\"black\"> measures,                    </font></mark><mark style=\"background-color: hsl(0, 75%, 91%); opacity:1.0;                     line-height:1.75\"><font color=\"black\"> and                    </font></mark><mark style=\"background-color: hsl(0, 75%, 99%); opacity:1.0;                     line-height:1.75\"><font color=\"black\"> the                    </font></mark><mark style=\"background-color: hsl(0, 75%, 100%); opacity:1.0;                     line-height:1.75\"><font color=\"black\"> latter                    </font></mark><mark style=\"background-color: hsl(0, 75%, 99%); opacity:1.0;                     line-height:1.75\"><font color=\"black\"> by                    </font></mark><mark style=\"background-color: hsl(0, 75%, 96%); opacity:1.0;                     line-height:1.75\"><font color=\"black\"> the                    </font></mark><mark style=\"background-color: hsl(0, 75%, 99%); opacity:1.0;                     line-height:1.75\"><font color=\"black\"> European                    </font></mark><mark style=\"background-color: hsl(120, 75%, 89%); opacity:1.0;                     line-height:1.75\"><font color=\"black\"> Court                    </font></mark><mark style=\"background-color: hsl(0, 75%, 99%); opacity:1.0;                     line-height:1.75\"><font color=\"black\"> of                    </font></mark><mark style=\"background-color: hsl(120, 75%, 97%); opacity:1.0;                     line-height:1.75\"><font color=\"black\"> Human                    </font></mark><mark style=\"background-color: hsl(120, 75%, 90%); opacity:1.0;                     line-height:1.75\"><font color=\"black\"> Rights                    </font></mark><mark style=\"background-color: hsl(120, 75%, 97%); opacity:1.0;                     line-height:1.75\"><font color=\"black\"> in                    </font></mark><mark style=\"background-color: hsl(0, 75%, 100%); opacity:1.0;                     line-height:1.75\"><font color=\"black\"> relation                    </font></mark><mark style=\"background-color: hsl(120, 75%, 99%); opacity:1.0;                     line-height:1.75\"><font color=\"black\"> to                    </font></mark><mark style=\"background-color: hsl(120, 75%, 95%); opacity:1.0;                     line-height:1.75\"><font color=\"black\"> measures                    </font></mark><mark style=\"background-color: hsl(0, 75%, 98%); opacity:1.0;                     line-height:1.75\"><font color=\"black\"> by                    </font></mark><mark style=\"background-color: hsl(120, 75%, 99%); opacity:1.0;                     line-height:1.75\"><font color=\"black\"> member                    </font></mark><mark style=\"background-color: hsl(120, 75%, 94%); opacity:1.0;                     line-height:1.75\"><font color=\"black\"> states.                    </font></mark><mark style=\"background-color: hsl(0, 75%, 96%); opacity:1.0;                     line-height:1.75\"><font color=\"black\"> #/s                    </font></mark></td><tr></table>"
      ],
      "text/plain": [
       "<IPython.core.display.HTML object>"
      ]
     },
     "metadata": {},
     "output_type": "display_data"
    },
    {
     "name": "stderr",
     "output_type": "stream",
     "text": [
      "/home/user/anaconda3/envs/py38/lib/python3.9/site-packages/captum/attr/_core/lime.py:1088: UserWarning: Attempting to construct interpretable model with > 10000 features.This can be very slow or lead to OOM issues. Please provide a featuremask which groups input features to reduce the number of interpretablefeatures. \n",
      "  warnings.warn(\n"
     ]
    },
    {
     "name": "stdout",
     "output_type": "stream",
     "text": [
      "<IPython.core.display.HTML object>\n",
      "i: 12\n",
      "Raw datum: [\"Most of the museum's collection had been returned by which year?\", 'Before the return of the collections after the war, the Britain Can Make It exhibition was held between September and November 1946, attracting nearly a million and a half visitors.']\n",
      "GT target: 0\n"
     ]
    },
    {
     "name": "stderr",
     "output_type": "stream",
     "text": [
      "Lime attribution: 100%|███████████████████████████| 3/3 [00:20<00:00,  6.70s/it]\n"
     ]
    },
    {
     "name": "stdout",
     "output_type": "stream",
     "text": [
      "word attr tensor([-3.4218e-01, -2.1450e-01, -2.1829e-02,  1.5053e-02,  7.0304e-02,\n",
      "        -2.9174e-02,  2.3485e-01, -5.0528e-02, -2.4775e-02,  2.7950e-01,\n",
      "         1.0057e-01, -4.0412e-02,  2.2739e-01, -8.9245e-02,  1.2740e-01,\n",
      "        -1.1914e-01, -4.5577e-03,  3.6208e-02,  4.1529e-01,  7.8080e-03,\n",
      "         5.7668e-02,  3.0410e-01, -3.5066e-02, -1.0955e-01, -1.6924e-01,\n",
      "         1.9080e-01,  7.1906e-02,  1.0244e-01,  2.8841e-02, -8.9824e-02,\n",
      "        -1.1751e-01, -1.0651e-01,  1.0426e-02, -1.9094e-01,  1.1925e-01,\n",
      "        -1.4671e-02, -1.8145e-01, -1.3001e-01, -1.1359e-01,  7.0401e-02,\n",
      "         1.1414e-01, -6.9429e-02, -4.1424e-02, -7.1846e-05,  1.1187e-01,\n",
      "         1.1726e-01, -2.6396e-02,  9.0155e-02,  6.5569e-02,  1.2968e-01])\n",
      "conti attr [tensor(-0.3422), tensor(-0.2145), tensor(-0.0218), tensor(0.0151), tensor(0.0411), tensor(0.2349), tensor(-0.0505), tensor(-0.0248), tensor(0.2795), tensor(0.1006), tensor(-0.0404), tensor(0.1381), tensor(0.1274), tensor(-0.1191), tensor(-0.0046), tensor(0.0362), tensor(0.4153), tensor(0.0078), tensor(0.0577), tensor(0.3041), tensor(-0.0351), tensor(-0.1096), tensor(0.0216), tensor(0.0719), tensor(0.1024), tensor(0.0288), tensor(-0.0898), tensor(-0.1175), tensor(-0.1065), tensor(0.0104), tensor(-0.1909), tensor(0.1192), tensor(-0.0147), tensor(-0.1815), tensor(-0.1300), tensor(-0.0432), tensor(0.1141), tensor(-0.0694), tensor(-0.0414), tensor(-7.1846e-05), tensor(0.1119), tensor(0.1173), tensor(-0.0264), tensor(0.1557), tensor(0.1297)]\n",
      "detokenized ['<s>', 'Most', 'of', 'the', 'museum', \"'s\", 'collection', 'had', 'been', 'returned', 'by', 'which', 'year', '?', '</s>', '</s>', 'Before', 'the', 'return', 'of', 'the', 'collections', 'after', 'the', 'war', ',', 'the', 'Britain', 'Can', 'Make', 'It', 'exhibition', 'was', 'held', 'between', 'September', 'and', 'November', '1946', ',', 'attracting', 'nearly', 'a', 'million', 'and', 'a', 'half', 'visitors', '.', '</s>']\n",
      "len conti_raw 45\n",
      "conti_raw ['<s>', 'Most', 'of', 'the', \"museum's\", 'collection', 'had', 'been', 'returned', 'by', 'which', 'year?', '</s>', '</s>', 'Before', 'the', 'return', 'of', 'the', 'collections', 'after', 'the', 'war,', 'the', 'Britain', 'Can', 'Make', 'It', 'exhibition', 'was', 'held', 'between', 'September', 'and', 'November', '1946,', 'attracting', 'nearly', 'a', 'million', 'and', 'a', 'half', 'visitors.', '</s>']\n",
      "pred_prob 0.986517608165741\n"
     ]
    },
    {
     "data": {
      "text/html": [
       "<table width: 100%><div style=\"border-top: 1px solid; margin-top: 5px;             padding-top: 5px; display: inline-block\"><b>Legend: </b><span style=\"display: inline-block; width: 10px; height: 10px;                 border: 1px solid; background-color:                 hsl(0, 75%, 60%)\"></span> Negative  <span style=\"display: inline-block; width: 10px; height: 10px;                 border: 1px solid; background-color:                 hsl(0, 75%, 100%)\"></span> Neutral  <span style=\"display: inline-block; width: 10px; height: 10px;                 border: 1px solid; background-color:                 hsl(120, 75%, 50%)\"></span> Positive  </div><tr><th>True Label</th><th>Predicted Label</th><th>Attribution Label</th><th>Attribution Score</th><th>Word Importance</th><tr><td><text style=\"padding-right:2em\"><b>No Entailment</b></text></td><td><text style=\"padding-right:2em\"><b>Entailment (0.99)</b></text></td><td><text style=\"padding-right:2em\"><b>Entailment</b></text></td><td><text style=\"padding-right:2em\"><b>0.77</b></text></td><td><mark style=\"background-color: hsl(0, 75%, 87%); opacity:1.0;                     line-height:1.75\"><font color=\"black\"> #s                    </font></mark><mark style=\"background-color: hsl(0, 75%, 92%); opacity:1.0;                     line-height:1.75\"><font color=\"black\"> Most                    </font></mark><mark style=\"background-color: hsl(0, 75%, 100%); opacity:1.0;                     line-height:1.75\"><font color=\"black\"> of                    </font></mark><mark style=\"background-color: hsl(120, 75%, 100%); opacity:1.0;                     line-height:1.75\"><font color=\"black\"> the                    </font></mark><mark style=\"background-color: hsl(120, 75%, 98%); opacity:1.0;                     line-height:1.75\"><font color=\"black\"> museum's                    </font></mark><mark style=\"background-color: hsl(120, 75%, 89%); opacity:1.0;                     line-height:1.75\"><font color=\"black\"> collection                    </font></mark><mark style=\"background-color: hsl(0, 75%, 98%); opacity:1.0;                     line-height:1.75\"><font color=\"black\"> had                    </font></mark><mark style=\"background-color: hsl(0, 75%, 100%); opacity:1.0;                     line-height:1.75\"><font color=\"black\"> been                    </font></mark><mark style=\"background-color: hsl(120, 75%, 87%); opacity:1.0;                     line-height:1.75\"><font color=\"black\"> returned                    </font></mark><mark style=\"background-color: hsl(120, 75%, 95%); opacity:1.0;                     line-height:1.75\"><font color=\"black\"> by                    </font></mark><mark style=\"background-color: hsl(0, 75%, 99%); opacity:1.0;                     line-height:1.75\"><font color=\"black\"> which                    </font></mark><mark style=\"background-color: hsl(120, 75%, 94%); opacity:1.0;                     line-height:1.75\"><font color=\"black\"> year?                    </font></mark><mark style=\"background-color: hsl(120, 75%, 94%); opacity:1.0;                     line-height:1.75\"><font color=\"black\"> #/s                    </font></mark><mark style=\"background-color: hsl(0, 75%, 96%); opacity:1.0;                     line-height:1.75\"><font color=\"black\"> #/s                    </font></mark><mark style=\"background-color: hsl(0, 75%, 100%); opacity:1.0;                     line-height:1.75\"><font color=\"black\"> Before                    </font></mark><mark style=\"background-color: hsl(120, 75%, 99%); opacity:1.0;                     line-height:1.75\"><font color=\"black\"> the                    </font></mark><mark style=\"background-color: hsl(120, 75%, 80%); opacity:1.0;                     line-height:1.75\"><font color=\"black\"> return                    </font></mark><mark style=\"background-color: hsl(120, 75%, 100%); opacity:1.0;                     line-height:1.75\"><font color=\"black\"> of                    </font></mark><mark style=\"background-color: hsl(120, 75%, 98%); opacity:1.0;                     line-height:1.75\"><font color=\"black\"> the                    </font></mark><mark style=\"background-color: hsl(120, 75%, 85%); opacity:1.0;                     line-height:1.75\"><font color=\"black\"> collections                    </font></mark><mark style=\"background-color: hsl(0, 75%, 99%); opacity:1.0;                     line-height:1.75\"><font color=\"black\"> after                    </font></mark><mark style=\"background-color: hsl(0, 75%, 96%); opacity:1.0;                     line-height:1.75\"><font color=\"black\"> the                    </font></mark><mark style=\"background-color: hsl(120, 75%, 99%); opacity:1.0;                     line-height:1.75\"><font color=\"black\"> war,                    </font></mark><mark style=\"background-color: hsl(120, 75%, 97%); opacity:1.0;                     line-height:1.75\"><font color=\"black\"> the                    </font></mark><mark style=\"background-color: hsl(120, 75%, 95%); opacity:1.0;                     line-height:1.75\"><font color=\"black\"> Britain                    </font></mark><mark style=\"background-color: hsl(120, 75%, 99%); opacity:1.0;                     line-height:1.75\"><font color=\"black\"> Can                    </font></mark><mark style=\"background-color: hsl(0, 75%, 97%); opacity:1.0;                     line-height:1.75\"><font color=\"black\"> Make                    </font></mark><mark style=\"background-color: hsl(0, 75%, 96%); opacity:1.0;                     line-height:1.75\"><font color=\"black\"> It                    </font></mark><mark style=\"background-color: hsl(0, 75%, 96%); opacity:1.0;                     line-height:1.75\"><font color=\"black\"> exhibition                    </font></mark><mark style=\"background-color: hsl(120, 75%, 100%); opacity:1.0;                     line-height:1.75\"><font color=\"black\"> was                    </font></mark><mark style=\"background-color: hsl(0, 75%, 93%); opacity:1.0;                     line-height:1.75\"><font color=\"black\"> held                    </font></mark><mark style=\"background-color: hsl(120, 75%, 95%); opacity:1.0;                     line-height:1.75\"><font color=\"black\"> between                    </font></mark><mark style=\"background-color: hsl(0, 75%, 100%); opacity:1.0;                     line-height:1.75\"><font color=\"black\"> September                    </font></mark><mark style=\"background-color: hsl(0, 75%, 93%); opacity:1.0;                     line-height:1.75\"><font color=\"black\"> and                    </font></mark><mark style=\"background-color: hsl(0, 75%, 95%); opacity:1.0;                     line-height:1.75\"><font color=\"black\"> November                    </font></mark><mark style=\"background-color: hsl(0, 75%, 99%); opacity:1.0;                     line-height:1.75\"><font color=\"black\"> 1946,                    </font></mark><mark style=\"background-color: hsl(120, 75%, 95%); opacity:1.0;                     line-height:1.75\"><font color=\"black\"> attracting                    </font></mark><mark style=\"background-color: hsl(0, 75%, 98%); opacity:1.0;                     line-height:1.75\"><font color=\"black\"> nearly                    </font></mark><mark style=\"background-color: hsl(0, 75%, 99%); opacity:1.0;                     line-height:1.75\"><font color=\"black\"> a                    </font></mark><mark style=\"background-color: hsl(0, 75%, 100%); opacity:1.0;                     line-height:1.75\"><font color=\"black\"> million                    </font></mark><mark style=\"background-color: hsl(120, 75%, 95%); opacity:1.0;                     line-height:1.75\"><font color=\"black\"> and                    </font></mark><mark style=\"background-color: hsl(120, 75%, 95%); opacity:1.0;                     line-height:1.75\"><font color=\"black\"> a                    </font></mark><mark style=\"background-color: hsl(0, 75%, 99%); opacity:1.0;                     line-height:1.75\"><font color=\"black\"> half                    </font></mark><mark style=\"background-color: hsl(120, 75%, 93%); opacity:1.0;                     line-height:1.75\"><font color=\"black\"> visitors.                    </font></mark><mark style=\"background-color: hsl(120, 75%, 94%); opacity:1.0;                     line-height:1.75\"><font color=\"black\"> #/s                    </font></mark></td><tr></table>"
      ],
      "text/plain": [
       "<IPython.core.display.HTML object>"
      ]
     },
     "metadata": {},
     "output_type": "display_data"
    },
    {
     "name": "stderr",
     "output_type": "stream",
     "text": [
      "/home/user/anaconda3/envs/py38/lib/python3.9/site-packages/captum/attr/_core/lime.py:1088: UserWarning: Attempting to construct interpretable model with > 10000 features.This can be very slow or lead to OOM issues. Please provide a featuremask which groups input features to reduce the number of interpretablefeatures. \n",
      "  warnings.warn(\n"
     ]
    },
    {
     "name": "stdout",
     "output_type": "stream",
     "text": [
      "<IPython.core.display.HTML object>\n",
      "i: 13\n",
      "Raw datum: ['Within the 30 days how many digiboxes had been sold?', \"Within 30 days, over 100,000 digiboxes had been sold, which help bolstered BSkyB's decision to give away free digiboxes and minidishes from May 1999.\"]\n",
      "GT target: 1\n"
     ]
    },
    {
     "name": "stderr",
     "output_type": "stream",
     "text": [
      "Lime attribution: 100%|███████████████████████████| 3/3 [00:25<00:00,  8.36s/it]\n"
     ]
    },
    {
     "name": "stdout",
     "output_type": "stream",
     "text": [
      "word attr tensor([-0.0026,  0.1812,  0.0136,  0.0372,  0.2397,  0.0894,  0.0689,  0.0230,\n",
      "        -0.1756,  0.0786,  0.1817,  0.1115, -0.0601,  0.1996, -0.0402, -0.0421,\n",
      "        -0.0933,  0.0636,  0.1324, -0.0218,  0.0445, -0.0141, -0.0422, -0.1062,\n",
      "         0.2058, -0.1149,  0.1853, -0.0929,  0.1659,  0.1327,  0.0357,  0.1015,\n",
      "        -0.0931, -0.0058, -0.2003, -0.0480,  0.0441,  0.0873,  0.0027, -0.2222,\n",
      "        -0.1267, -0.1784,  0.0823,  0.0318,  0.1086,  0.0637, -0.0870,  0.1313,\n",
      "        -0.0032,  0.2800, -0.1221, -0.2173,  0.0665, -0.0675, -0.3558,  0.2669,\n",
      "         0.0949, -0.0396])\n",
      "conti attr [tensor(-0.0026), tensor(0.1812), tensor(0.0136), tensor(0.0372), tensor(0.2397), tensor(0.0894), tensor(0.0689), tensor(0.1078), tensor(0.1115), tensor(-0.0601), tensor(0.1594), tensor(-0.0421), tensor(-0.0933), tensor(0.0636), tensor(0.1324), tensor(0.0227), tensor(-0.0141), tensor(0.0575), tensor(0.1434), tensor(0.1327), tensor(0.0357), tensor(0.0084), tensor(-0.0058), tensor(-0.2003), tensor(-0.0480), tensor(-0.0881), tensor(-0.1267), tensor(-0.1784), tensor(0.0823), tensor(0.0318), tensor(0.1086), tensor(0.1049), tensor(0.2800), tensor(-0.2729), tensor(-0.0675), tensor(-0.3558), tensor(0.3619), tensor(-0.0396)]\n",
      "detokenized ['<s>', 'Within', 'the', '30', 'days', 'how', 'many', 'dig', 'ib', 'ox', 'es', 'had', 'been', 'sold', '?', '</s>', '</s>', 'Within', '30', 'days', ',', 'over', '100', ',', '000', 'dig', 'ib', 'ox', 'es', 'had', 'been', 'sold', ',', 'which', 'help', 'bolstered', 'B', 'Sky', 'B', \"'s\", 'decision', 'to', 'give', 'away', 'free', 'dig', 'ib', 'ox', 'es', 'and', 'min', 'id', 'ishes', 'from', 'May', '1999', '.', '</s>']\n",
      "len conti_raw 38\n",
      "conti_raw ['<s>', 'Within', 'the', '30', 'days', 'how', 'many', 'digiboxes', 'had', 'been', 'sold?', '</s>', '</s>', 'Within', '30', 'days,', 'over', '100,000', 'digiboxes', 'had', 'been', 'sold,', 'which', 'help', 'bolstered', \"BSkyB's\", 'decision', 'to', 'give', 'away', 'free', 'digiboxes', 'and', 'minidishes', 'from', 'May', '1999.', '</s>']\n",
      "pred_prob 0.9983332753181458\n"
     ]
    },
    {
     "data": {
      "text/html": [
       "<table width: 100%><div style=\"border-top: 1px solid; margin-top: 5px;             padding-top: 5px; display: inline-block\"><b>Legend: </b><span style=\"display: inline-block; width: 10px; height: 10px;                 border: 1px solid; background-color:                 hsl(0, 75%, 60%)\"></span> Negative  <span style=\"display: inline-block; width: 10px; height: 10px;                 border: 1px solid; background-color:                 hsl(0, 75%, 100%)\"></span> Neutral  <span style=\"display: inline-block; width: 10px; height: 10px;                 border: 1px solid; background-color:                 hsl(120, 75%, 50%)\"></span> Positive  </div><tr><th>True Label</th><th>Predicted Label</th><th>Attribution Label</th><th>Attribution Score</th><th>Word Importance</th><tr><td><text style=\"padding-right:2em\"><b>Entailment</b></text></td><td><text style=\"padding-right:2em\"><b>Entailment (1.00)</b></text></td><td><text style=\"padding-right:2em\"><b>Entailment</b></text></td><td><text style=\"padding-right:2em\"><b>0.98</b></text></td><td><mark style=\"background-color: hsl(0, 75%, 100%); opacity:1.0;                     line-height:1.75\"><font color=\"black\"> #s                    </font></mark><mark style=\"background-color: hsl(120, 75%, 91%); opacity:1.0;                     line-height:1.75\"><font color=\"black\"> Within                    </font></mark><mark style=\"background-color: hsl(120, 75%, 100%); opacity:1.0;                     line-height:1.75\"><font color=\"black\"> the                    </font></mark><mark style=\"background-color: hsl(120, 75%, 99%); opacity:1.0;                     line-height:1.75\"><font color=\"black\"> 30                    </font></mark><mark style=\"background-color: hsl(120, 75%, 89%); opacity:1.0;                     line-height:1.75\"><font color=\"black\"> days                    </font></mark><mark style=\"background-color: hsl(120, 75%, 96%); opacity:1.0;                     line-height:1.75\"><font color=\"black\"> how                    </font></mark><mark style=\"background-color: hsl(120, 75%, 97%); opacity:1.0;                     line-height:1.75\"><font color=\"black\"> many                    </font></mark><mark style=\"background-color: hsl(120, 75%, 95%); opacity:1.0;                     line-height:1.75\"><font color=\"black\"> digiboxes                    </font></mark><mark style=\"background-color: hsl(120, 75%, 95%); opacity:1.0;                     line-height:1.75\"><font color=\"black\"> had                    </font></mark><mark style=\"background-color: hsl(0, 75%, 98%); opacity:1.0;                     line-height:1.75\"><font color=\"black\"> been                    </font></mark><mark style=\"background-color: hsl(120, 75%, 93%); opacity:1.0;                     line-height:1.75\"><font color=\"black\"> sold?                    </font></mark><mark style=\"background-color: hsl(0, 75%, 99%); opacity:1.0;                     line-height:1.75\"><font color=\"black\"> #/s                    </font></mark><mark style=\"background-color: hsl(0, 75%, 97%); opacity:1.0;                     line-height:1.75\"><font color=\"black\"> #/s                    </font></mark><mark style=\"background-color: hsl(120, 75%, 97%); opacity:1.0;                     line-height:1.75\"><font color=\"black\"> Within                    </font></mark><mark style=\"background-color: hsl(120, 75%, 94%); opacity:1.0;                     line-height:1.75\"><font color=\"black\"> 30                    </font></mark><mark style=\"background-color: hsl(120, 75%, 99%); opacity:1.0;                     line-height:1.75\"><font color=\"black\"> days,                    </font></mark><mark style=\"background-color: hsl(0, 75%, 100%); opacity:1.0;                     line-height:1.75\"><font color=\"black\"> over                    </font></mark><mark style=\"background-color: hsl(120, 75%, 98%); opacity:1.0;                     line-height:1.75\"><font color=\"black\"> 100,000                    </font></mark><mark style=\"background-color: hsl(120, 75%, 93%); opacity:1.0;                     line-height:1.75\"><font color=\"black\"> digiboxes                    </font></mark><mark style=\"background-color: hsl(120, 75%, 94%); opacity:1.0;                     line-height:1.75\"><font color=\"black\"> had                    </font></mark><mark style=\"background-color: hsl(120, 75%, 99%); opacity:1.0;                     line-height:1.75\"><font color=\"black\"> been                    </font></mark><mark style=\"background-color: hsl(120, 75%, 100%); opacity:1.0;                     line-height:1.75\"><font color=\"black\"> sold,                    </font></mark><mark style=\"background-color: hsl(0, 75%, 100%); opacity:1.0;                     line-height:1.75\"><font color=\"black\"> which                    </font></mark><mark style=\"background-color: hsl(0, 75%, 92%); opacity:1.0;                     line-height:1.75\"><font color=\"black\"> help                    </font></mark><mark style=\"background-color: hsl(0, 75%, 99%); opacity:1.0;                     line-height:1.75\"><font color=\"black\"> bolstered                    </font></mark><mark style=\"background-color: hsl(0, 75%, 97%); opacity:1.0;                     line-height:1.75\"><font color=\"black\"> BSkyB's                    </font></mark><mark style=\"background-color: hsl(0, 75%, 95%); opacity:1.0;                     line-height:1.75\"><font color=\"black\"> decision                    </font></mark><mark style=\"background-color: hsl(0, 75%, 93%); opacity:1.0;                     line-height:1.75\"><font color=\"black\"> to                    </font></mark><mark style=\"background-color: hsl(120, 75%, 96%); opacity:1.0;                     line-height:1.75\"><font color=\"black\"> give                    </font></mark><mark style=\"background-color: hsl(120, 75%, 99%); opacity:1.0;                     line-height:1.75\"><font color=\"black\"> away                    </font></mark><mark style=\"background-color: hsl(120, 75%, 95%); opacity:1.0;                     line-height:1.75\"><font color=\"black\"> free                    </font></mark><mark style=\"background-color: hsl(120, 75%, 95%); opacity:1.0;                     line-height:1.75\"><font color=\"black\"> digiboxes                    </font></mark><mark style=\"background-color: hsl(120, 75%, 86%); opacity:1.0;                     line-height:1.75\"><font color=\"black\"> and                    </font></mark><mark style=\"background-color: hsl(0, 75%, 90%); opacity:1.0;                     line-height:1.75\"><font color=\"black\"> minidishes                    </font></mark><mark style=\"background-color: hsl(0, 75%, 98%); opacity:1.0;                     line-height:1.75\"><font color=\"black\"> from                    </font></mark><mark style=\"background-color: hsl(0, 75%, 86%); opacity:1.0;                     line-height:1.75\"><font color=\"black\"> May                    </font></mark><mark style=\"background-color: hsl(120, 75%, 82%); opacity:1.0;                     line-height:1.75\"><font color=\"black\"> 1999.                    </font></mark><mark style=\"background-color: hsl(0, 75%, 99%); opacity:1.0;                     line-height:1.75\"><font color=\"black\"> #/s                    </font></mark></td><tr></table>"
      ],
      "text/plain": [
       "<IPython.core.display.HTML object>"
      ]
     },
     "metadata": {},
     "output_type": "display_data"
    },
    {
     "name": "stderr",
     "output_type": "stream",
     "text": [
      "/home/user/anaconda3/envs/py38/lib/python3.9/site-packages/captum/attr/_core/lime.py:1088: UserWarning: Attempting to construct interpretable model with > 10000 features.This can be very slow or lead to OOM issues. Please provide a featuremask which groups input features to reduce the number of interpretablefeatures. \n",
      "  warnings.warn(\n"
     ]
    },
    {
     "name": "stdout",
     "output_type": "stream",
     "text": [
      "<IPython.core.display.HTML object>\n",
      "i: 14\n",
      "Raw datum: ['The receptors on a killer T cell must bind to how many MHC: antigen complexes in order to activate the cell?', \"The MHC:antigen complex is also recognized by the helper cell's CD4 co-receptor, which recruits molecules inside the T cell (e.g., Lck) that are responsible for the T cell's activation.\"]\n",
      "GT target: 0\n"
     ]
    },
    {
     "name": "stderr",
     "output_type": "stream",
     "text": [
      "Lime attribution: 100%|███████████████████████████| 3/3 [00:33<00:00, 11.16s/it]\n"
     ]
    },
    {
     "name": "stdout",
     "output_type": "stream",
     "text": [
      "word attr tensor([ 0.2003, -0.1798, -0.3021,  0.0344, -0.1828,  0.0669,  0.0099, -0.0246,\n",
      "        -0.1604,  0.0358, -0.0938, -0.2670, -0.1539,  0.0946, -0.0773,  0.1769,\n",
      "         0.0299,  0.2077,  0.1797,  0.0183, -0.1011, -0.0694,  0.1750,  0.1511,\n",
      "        -0.0023,  0.1342, -0.0208, -0.0618, -0.0055, -0.0803, -0.1629, -0.0845,\n",
      "        -0.0393, -0.1177,  0.0714,  0.0824,  0.0623, -0.0251,  0.1641,  0.0089,\n",
      "        -0.0903,  0.0234, -0.0280,  0.0579,  0.0452, -0.1026,  0.0108,  0.1481,\n",
      "         0.0551, -0.1321,  0.0126,  0.0890,  0.0166, -0.1313,  0.0467,  0.2084,\n",
      "        -0.1787,  0.0442,  0.0694, -0.1166, -0.0366, -0.1210,  0.0806, -0.1329,\n",
      "        -0.0526,  0.1809, -0.0971, -0.1442,  0.0110, -0.0295, -0.0292, -0.0010,\n",
      "         0.2151, -0.0860,  0.0169])\n",
      "conti attr [tensor(0.2003), tensor(-0.1798), tensor(-0.3021), tensor(0.0344), tensor(-0.1828), tensor(0.0669), tensor(0.0099), tensor(-0.0246), tensor(-0.1604), tensor(0.0358), tensor(-0.0938), tensor(-0.2670), tensor(-0.1539), tensor(0.1943), tensor(0.0299), tensor(0.2077), tensor(0.1797), tensor(0.0183), tensor(-0.1011), tensor(-0.0694), tensor(0.1750), tensor(0.1488), tensor(0.1342), tensor(-0.0208), tensor(-0.0618), tensor(-0.3725), tensor(-0.1177), tensor(0.0714), tensor(0.0824), tensor(0.0623), tensor(-0.0251), tensor(0.1641), tensor(0.0089), tensor(-0.0669), tensor(0.0300), tensor(0.1565), tensor(-0.1321), tensor(0.0126), tensor(0.0890), tensor(0.0166), tensor(-0.1313), tensor(0.0467), tensor(0.2084), tensor(-0.2183), tensor(-0.1733), tensor(-0.0526), tensor(0.1809), tensor(-0.0971), tensor(-0.1442), tensor(0.0110), tensor(-0.0295), tensor(-0.0302), tensor(0.1292), tensor(0.0169)]\n",
      "detokenized ['<s>', 'The', 'receptors', 'on', 'a', 'killer', 'T', 'cell', 'must', 'bind', 'to', 'how', 'many', 'M', 'HC', ':', 'antigen', 'complexes', 'in', 'order', 'to', 'activate', 'the', 'cell', '?', '</s>', '</s>', 'The', 'M', 'HC', ':', 'ant', 'igen', 'complex', 'is', 'also', 'recognized', 'by', 'the', 'helper', 'cell', \"'s\", 'CD', '4', 'co', '-', 're', 'ceptor', ',', 'which', 'recruits', 'molecules', 'inside', 'the', 'T', 'cell', '(', 'e', '.', 'g', '.,', 'L', 'ck', ')', 'that', 'are', 'responsible', 'for', 'the', 'T', 'cell', \"'s\", 'activation', '.', '</s>']\n",
      "len conti_raw 54\n",
      "conti_raw ['<s>', 'The', 'receptors', 'on', 'a', 'killer', 'T', 'cell', 'must', 'bind', 'to', 'how', 'many', 'MHC:', 'antigen', 'complexes', 'in', 'order', 'to', 'activate', 'the', 'cell?', '</s>', '</s>', 'The', 'MHC:antigen', 'complex', 'is', 'also', 'recognized', 'by', 'the', 'helper', \"cell's\", 'CD4', 'co-receptor,', 'which', 'recruits', 'molecules', 'inside', 'the', 'T', 'cell', '(e.g.,', 'Lck)', 'that', 'are', 'responsible', 'for', 'the', 'T', \"cell's\", 'activation.', '</s>']\n",
      "pred_prob 0.004497905727475882\n"
     ]
    },
    {
     "data": {
      "text/html": [
       "<table width: 100%><div style=\"border-top: 1px solid; margin-top: 5px;             padding-top: 5px; display: inline-block\"><b>Legend: </b><span style=\"display: inline-block; width: 10px; height: 10px;                 border: 1px solid; background-color:                 hsl(0, 75%, 60%)\"></span> Negative  <span style=\"display: inline-block; width: 10px; height: 10px;                 border: 1px solid; background-color:                 hsl(0, 75%, 100%)\"></span> Neutral  <span style=\"display: inline-block; width: 10px; height: 10px;                 border: 1px solid; background-color:                 hsl(120, 75%, 50%)\"></span> Positive  </div><tr><th>True Label</th><th>Predicted Label</th><th>Attribution Label</th><th>Attribution Score</th><th>Word Importance</th><tr><td><text style=\"padding-right:2em\"><b>No Entailment</b></text></td><td><text style=\"padding-right:2em\"><b>No Entailment (0.00)</b></text></td><td><text style=\"padding-right:2em\"><b>No Entailment</b></text></td><td><text style=\"padding-right:2em\"><b>-0.49</b></text></td><td><mark style=\"background-color: hsl(120, 75%, 90%); opacity:1.0;                     line-height:1.75\"><font color=\"black\"> #s                    </font></mark><mark style=\"background-color: hsl(0, 75%, 93%); opacity:1.0;                     line-height:1.75\"><font color=\"black\"> The                    </font></mark><mark style=\"background-color: hsl(0, 75%, 88%); opacity:1.0;                     line-height:1.75\"><font color=\"black\"> receptors                    </font></mark><mark style=\"background-color: hsl(120, 75%, 99%); opacity:1.0;                     line-height:1.75\"><font color=\"black\"> on                    </font></mark><mark style=\"background-color: hsl(0, 75%, 93%); opacity:1.0;                     line-height:1.75\"><font color=\"black\"> a                    </font></mark><mark style=\"background-color: hsl(120, 75%, 97%); opacity:1.0;                     line-height:1.75\"><font color=\"black\"> killer                    </font></mark><mark style=\"background-color: hsl(120, 75%, 100%); opacity:1.0;                     line-height:1.75\"><font color=\"black\"> T                    </font></mark><mark style=\"background-color: hsl(0, 75%, 100%); opacity:1.0;                     line-height:1.75\"><font color=\"black\"> cell                    </font></mark><mark style=\"background-color: hsl(0, 75%, 94%); opacity:1.0;                     line-height:1.75\"><font color=\"black\"> must                    </font></mark><mark style=\"background-color: hsl(120, 75%, 99%); opacity:1.0;                     line-height:1.75\"><font color=\"black\"> bind                    </font></mark><mark style=\"background-color: hsl(0, 75%, 97%); opacity:1.0;                     line-height:1.75\"><font color=\"black\"> to                    </font></mark><mark style=\"background-color: hsl(0, 75%, 90%); opacity:1.0;                     line-height:1.75\"><font color=\"black\"> how                    </font></mark><mark style=\"background-color: hsl(0, 75%, 94%); opacity:1.0;                     line-height:1.75\"><font color=\"black\"> many                    </font></mark><mark style=\"background-color: hsl(120, 75%, 91%); opacity:1.0;                     line-height:1.75\"><font color=\"black\"> MHC:                    </font></mark><mark style=\"background-color: hsl(120, 75%, 99%); opacity:1.0;                     line-height:1.75\"><font color=\"black\"> antigen                    </font></mark><mark style=\"background-color: hsl(120, 75%, 90%); opacity:1.0;                     line-height:1.75\"><font color=\"black\"> complexes                    </font></mark><mark style=\"background-color: hsl(120, 75%, 92%); opacity:1.0;                     line-height:1.75\"><font color=\"black\"> in                    </font></mark><mark style=\"background-color: hsl(120, 75%, 100%); opacity:1.0;                     line-height:1.75\"><font color=\"black\"> order                    </font></mark><mark style=\"background-color: hsl(0, 75%, 96%); opacity:1.0;                     line-height:1.75\"><font color=\"black\"> to                    </font></mark><mark style=\"background-color: hsl(0, 75%, 98%); opacity:1.0;                     line-height:1.75\"><font color=\"black\"> activate                    </font></mark><mark style=\"background-color: hsl(120, 75%, 92%); opacity:1.0;                     line-height:1.75\"><font color=\"black\"> the                    </font></mark><mark style=\"background-color: hsl(120, 75%, 93%); opacity:1.0;                     line-height:1.75\"><font color=\"black\"> cell?                    </font></mark><mark style=\"background-color: hsl(120, 75%, 94%); opacity:1.0;                     line-height:1.75\"><font color=\"black\"> #/s                    </font></mark><mark style=\"background-color: hsl(0, 75%, 100%); opacity:1.0;                     line-height:1.75\"><font color=\"black\"> #/s                    </font></mark><mark style=\"background-color: hsl(0, 75%, 98%); opacity:1.0;                     line-height:1.75\"><font color=\"black\"> The                    </font></mark><mark style=\"background-color: hsl(0, 75%, 86%); opacity:1.0;                     line-height:1.75\"><font color=\"black\"> MHC:antigen                    </font></mark><mark style=\"background-color: hsl(0, 75%, 96%); opacity:1.0;                     line-height:1.75\"><font color=\"black\"> complex                    </font></mark><mark style=\"background-color: hsl(120, 75%, 97%); opacity:1.0;                     line-height:1.75\"><font color=\"black\"> is                    </font></mark><mark style=\"background-color: hsl(120, 75%, 96%); opacity:1.0;                     line-height:1.75\"><font color=\"black\"> also                    </font></mark><mark style=\"background-color: hsl(120, 75%, 97%); opacity:1.0;                     line-height:1.75\"><font color=\"black\"> recognized                    </font></mark><mark style=\"background-color: hsl(0, 75%, 99%); opacity:1.0;                     line-height:1.75\"><font color=\"black\"> by                    </font></mark><mark style=\"background-color: hsl(120, 75%, 92%); opacity:1.0;                     line-height:1.75\"><font color=\"black\"> the                    </font></mark><mark style=\"background-color: hsl(120, 75%, 100%); opacity:1.0;                     line-height:1.75\"><font color=\"black\"> helper                    </font></mark><mark style=\"background-color: hsl(0, 75%, 98%); opacity:1.0;                     line-height:1.75\"><font color=\"black\"> cell's                    </font></mark><mark style=\"background-color: hsl(120, 75%, 99%); opacity:1.0;                     line-height:1.75\"><font color=\"black\"> CD4                    </font></mark><mark style=\"background-color: hsl(120, 75%, 93%); opacity:1.0;                     line-height:1.75\"><font color=\"black\"> co-receptor,                    </font></mark><mark style=\"background-color: hsl(0, 75%, 95%); opacity:1.0;                     line-height:1.75\"><font color=\"black\"> which                    </font></mark><mark style=\"background-color: hsl(120, 75%, 100%); opacity:1.0;                     line-height:1.75\"><font color=\"black\"> recruits                    </font></mark><mark style=\"background-color: hsl(120, 75%, 96%); opacity:1.0;                     line-height:1.75\"><font color=\"black\"> molecules                    </font></mark><mark style=\"background-color: hsl(120, 75%, 100%); opacity:1.0;                     line-height:1.75\"><font color=\"black\"> inside                    </font></mark><mark style=\"background-color: hsl(0, 75%, 95%); opacity:1.0;                     line-height:1.75\"><font color=\"black\"> the                    </font></mark><mark style=\"background-color: hsl(120, 75%, 98%); opacity:1.0;                     line-height:1.75\"><font color=\"black\"> T                    </font></mark><mark style=\"background-color: hsl(120, 75%, 90%); opacity:1.0;                     line-height:1.75\"><font color=\"black\"> cell                    </font></mark><mark style=\"background-color: hsl(0, 75%, 92%); opacity:1.0;                     line-height:1.75\"><font color=\"black\"> (e.g.,                    </font></mark><mark style=\"background-color: hsl(0, 75%, 94%); opacity:1.0;                     line-height:1.75\"><font color=\"black\"> Lck)                    </font></mark><mark style=\"background-color: hsl(0, 75%, 98%); opacity:1.0;                     line-height:1.75\"><font color=\"black\"> that                    </font></mark><mark style=\"background-color: hsl(120, 75%, 91%); opacity:1.0;                     line-height:1.75\"><font color=\"black\"> are                    </font></mark><mark style=\"background-color: hsl(0, 75%, 97%); opacity:1.0;                     line-height:1.75\"><font color=\"black\"> responsible                    </font></mark><mark style=\"background-color: hsl(0, 75%, 95%); opacity:1.0;                     line-height:1.75\"><font color=\"black\"> for                    </font></mark><mark style=\"background-color: hsl(120, 75%, 100%); opacity:1.0;                     line-height:1.75\"><font color=\"black\"> the                    </font></mark><mark style=\"background-color: hsl(0, 75%, 99%); opacity:1.0;                     line-height:1.75\"><font color=\"black\"> T                    </font></mark><mark style=\"background-color: hsl(0, 75%, 99%); opacity:1.0;                     line-height:1.75\"><font color=\"black\"> cell's                    </font></mark><mark style=\"background-color: hsl(120, 75%, 94%); opacity:1.0;                     line-height:1.75\"><font color=\"black\"> activation.                    </font></mark><mark style=\"background-color: hsl(120, 75%, 100%); opacity:1.0;                     line-height:1.75\"><font color=\"black\"> #/s                    </font></mark></td><tr></table>"
      ],
      "text/plain": [
       "<IPython.core.display.HTML object>"
      ]
     },
     "metadata": {},
     "output_type": "display_data"
    },
    {
     "name": "stderr",
     "output_type": "stream",
     "text": [
      "/home/user/anaconda3/envs/py38/lib/python3.9/site-packages/captum/attr/_core/lime.py:1088: UserWarning: Attempting to construct interpretable model with > 10000 features.This can be very slow or lead to OOM issues. Please provide a featuremask which groups input features to reduce the number of interpretablefeatures. \n",
      "  warnings.warn(\n"
     ]
    },
    {
     "name": "stdout",
     "output_type": "stream",
     "text": [
      "<IPython.core.display.HTML object>\n",
      "i: 15\n",
      "Raw datum: [\"How much did Westinghouse pay for Tesla's designs?\", \"In July 1888, Brown and Peck negotiated a licensing deal with George Westinghouse for Tesla's polyphase induction motor and transformer designs for $60,000 in cash and stock and a royalty of $2.50 per AC horsepower produced by each motor.\"]\n",
      "GT target: 1\n"
     ]
    },
    {
     "name": "stderr",
     "output_type": "stream",
     "text": [
      "Lime attribution: 100%|███████████████████████████| 3/3 [00:31<00:00, 10.53s/it]\n"
     ]
    },
    {
     "name": "stdout",
     "output_type": "stream",
     "text": [
      "word attr tensor([ 0.0405,  0.0016,  0.0594, -0.0054,  0.2667,  0.0786,  0.2277,  0.3412,\n",
      "         0.1427,  0.0860, -0.0226,  0.2676, -0.0959, -0.1288, -0.0421,  0.0076,\n",
      "        -0.0080, -0.0218, -0.2621, -0.0640, -0.2098,  0.0883,  0.0115,  0.0612,\n",
      "        -0.0728,  0.0072,  0.1111, -0.1015,  0.0086,  0.1193,  0.2505,  0.0979,\n",
      "         0.1646,  0.1197,  0.0916, -0.1063, -0.0752, -0.0396,  0.0253,  0.0194,\n",
      "         0.0586, -0.0253,  0.2540, -0.1272,  0.0493,  0.1248,  0.0220, -0.0225,\n",
      "         0.0128, -0.0140,  0.3198, -0.0203,  0.1488, -0.1482, -0.0675, -0.0644,\n",
      "         0.0774, -0.0700, -0.0398,  0.0487, -0.1095,  0.0415,  0.0286,  0.1099,\n",
      "        -0.0572,  0.0125, -0.0651])\n",
      "conti attr [tensor(0.0405), tensor(0.0016), tensor(0.0594), tensor(-0.0054), tensor(0.5730), tensor(0.3412), tensor(0.1427), tensor(0.0634), tensor(0.1718), tensor(-0.1288), tensor(-0.0421), tensor(0.0076), tensor(-0.0080), tensor(-0.2839), tensor(-0.0640), tensor(-0.2098), tensor(0.0883), tensor(0.0115), tensor(0.0612), tensor(-0.0728), tensor(0.0072), tensor(0.1111), tensor(-0.1015), tensor(0.3784), tensor(0.0979), tensor(0.2843), tensor(-0.0148), tensor(-0.0752), tensor(-0.0396), tensor(0.0253), tensor(0.0194), tensor(0.0586), tensor(-0.0253), tensor(0.3009), tensor(0.0220), tensor(-0.0225), tensor(0.0128), tensor(-0.0140), tensor(0.3198), tensor(-0.0203), tensor(0.1488), tensor(-0.1482), tensor(-0.1245), tensor(-0.0398), tensor(0.0487), tensor(-0.1095), tensor(0.0415), tensor(0.0286), tensor(0.1099), tensor(-0.0447), tensor(-0.0651)]\n",
      "detokenized ['<s>', 'How', 'much', 'did', 'West', 'ing', 'house', 'pay', 'for', 'Tesla', \"'s\", 'designs', '?', '</s>', '</s>', 'In', 'July', '1888', ',', 'Brown', 'and', 'Peck', 'negotiated', 'a', 'licensing', 'deal', 'with', 'George', 'West', 'ing', 'house', 'for', 'Tesla', \"'s\", 'poly', 'phase', 'induction', 'motor', 'and', 'transformer', 'designs', 'for', '$', '60', ',', '000', 'in', 'cash', 'and', 'stock', 'and', 'a', 'royalty', 'of', '$', '2', '.', '50', 'per', 'AC', 'horsepower', 'produced', 'by', 'each', 'motor', '.', '</s>']\n",
      "len conti_raw 51\n",
      "conti_raw ['<s>', 'How', 'much', 'did', 'Westinghouse', 'pay', 'for', \"Tesla's\", 'designs?', '</s>', '</s>', 'In', 'July', '1888,', 'Brown', 'and', 'Peck', 'negotiated', 'a', 'licensing', 'deal', 'with', 'George', 'Westinghouse', 'for', \"Tesla's\", 'polyphase', 'induction', 'motor', 'and', 'transformer', 'designs', 'for', '$60,000', 'in', 'cash', 'and', 'stock', 'and', 'a', 'royalty', 'of', '$2.50', 'per', 'AC', 'horsepower', 'produced', 'by', 'each', 'motor.', '</s>']\n",
      "pred_prob 0.9978137016296387\n"
     ]
    },
    {
     "data": {
      "text/html": [
       "<table width: 100%><div style=\"border-top: 1px solid; margin-top: 5px;             padding-top: 5px; display: inline-block\"><b>Legend: </b><span style=\"display: inline-block; width: 10px; height: 10px;                 border: 1px solid; background-color:                 hsl(0, 75%, 60%)\"></span> Negative  <span style=\"display: inline-block; width: 10px; height: 10px;                 border: 1px solid; background-color:                 hsl(0, 75%, 100%)\"></span> Neutral  <span style=\"display: inline-block; width: 10px; height: 10px;                 border: 1px solid; background-color:                 hsl(120, 75%, 50%)\"></span> Positive  </div><tr><th>True Label</th><th>Predicted Label</th><th>Attribution Label</th><th>Attribution Score</th><th>Word Importance</th><tr><td><text style=\"padding-right:2em\"><b>Entailment</b></text></td><td><text style=\"padding-right:2em\"><b>Entailment (1.00)</b></text></td><td><text style=\"padding-right:2em\"><b>Entailment</b></text></td><td><text style=\"padding-right:2em\"><b>1.92</b></text></td><td><mark style=\"background-color: hsl(120, 75%, 98%); opacity:1.0;                     line-height:1.75\"><font color=\"black\"> #s                    </font></mark><mark style=\"background-color: hsl(120, 75%, 100%); opacity:1.0;                     line-height:1.75\"><font color=\"black\"> How                    </font></mark><mark style=\"background-color: hsl(120, 75%, 98%); opacity:1.0;                     line-height:1.75\"><font color=\"black\"> much                    </font></mark><mark style=\"background-color: hsl(0, 75%, 100%); opacity:1.0;                     line-height:1.75\"><font color=\"black\"> did                    </font></mark><mark style=\"background-color: hsl(120, 75%, 72%); opacity:1.0;                     line-height:1.75\"><font color=\"black\"> Westinghouse                    </font></mark><mark style=\"background-color: hsl(120, 75%, 83%); opacity:1.0;                     line-height:1.75\"><font color=\"black\"> pay                    </font></mark><mark style=\"background-color: hsl(120, 75%, 93%); opacity:1.0;                     line-height:1.75\"><font color=\"black\"> for                    </font></mark><mark style=\"background-color: hsl(120, 75%, 97%); opacity:1.0;                     line-height:1.75\"><font color=\"black\"> Tesla's                    </font></mark><mark style=\"background-color: hsl(120, 75%, 92%); opacity:1.0;                     line-height:1.75\"><font color=\"black\"> designs?                    </font></mark><mark style=\"background-color: hsl(0, 75%, 95%); opacity:1.0;                     line-height:1.75\"><font color=\"black\"> #/s                    </font></mark><mark style=\"background-color: hsl(0, 75%, 99%); opacity:1.0;                     line-height:1.75\"><font color=\"black\"> #/s                    </font></mark><mark style=\"background-color: hsl(120, 75%, 100%); opacity:1.0;                     line-height:1.75\"><font color=\"black\"> In                    </font></mark><mark style=\"background-color: hsl(0, 75%, 100%); opacity:1.0;                     line-height:1.75\"><font color=\"black\"> July                    </font></mark><mark style=\"background-color: hsl(0, 75%, 89%); opacity:1.0;                     line-height:1.75\"><font color=\"black\"> 1888,                    </font></mark><mark style=\"background-color: hsl(0, 75%, 98%); opacity:1.0;                     line-height:1.75\"><font color=\"black\"> Brown                    </font></mark><mark style=\"background-color: hsl(0, 75%, 92%); opacity:1.0;                     line-height:1.75\"><font color=\"black\"> and                    </font></mark><mark style=\"background-color: hsl(120, 75%, 96%); opacity:1.0;                     line-height:1.75\"><font color=\"black\"> Peck                    </font></mark><mark style=\"background-color: hsl(120, 75%, 100%); opacity:1.0;                     line-height:1.75\"><font color=\"black\"> negotiated                    </font></mark><mark style=\"background-color: hsl(120, 75%, 97%); opacity:1.0;                     line-height:1.75\"><font color=\"black\"> a                    </font></mark><mark style=\"background-color: hsl(0, 75%, 98%); opacity:1.0;                     line-height:1.75\"><font color=\"black\"> licensing                    </font></mark><mark style=\"background-color: hsl(120, 75%, 100%); opacity:1.0;                     line-height:1.75\"><font color=\"black\"> deal                    </font></mark><mark style=\"background-color: hsl(120, 75%, 95%); opacity:1.0;                     line-height:1.75\"><font color=\"black\"> with                    </font></mark><mark style=\"background-color: hsl(0, 75%, 96%); opacity:1.0;                     line-height:1.75\"><font color=\"black\"> George                    </font></mark><mark style=\"background-color: hsl(120, 75%, 82%); opacity:1.0;                     line-height:1.75\"><font color=\"black\"> Westinghouse                    </font></mark><mark style=\"background-color: hsl(120, 75%, 96%); opacity:1.0;                     line-height:1.75\"><font color=\"black\"> for                    </font></mark><mark style=\"background-color: hsl(120, 75%, 86%); opacity:1.0;                     line-height:1.75\"><font color=\"black\"> Tesla's                    </font></mark><mark style=\"background-color: hsl(0, 75%, 100%); opacity:1.0;                     line-height:1.75\"><font color=\"black\"> polyphase                    </font></mark><mark style=\"background-color: hsl(0, 75%, 97%); opacity:1.0;                     line-height:1.75\"><font color=\"black\"> induction                    </font></mark><mark style=\"background-color: hsl(0, 75%, 99%); opacity:1.0;                     line-height:1.75\"><font color=\"black\"> motor                    </font></mark><mark style=\"background-color: hsl(120, 75%, 99%); opacity:1.0;                     line-height:1.75\"><font color=\"black\"> and                    </font></mark><mark style=\"background-color: hsl(120, 75%, 100%); opacity:1.0;                     line-height:1.75\"><font color=\"black\"> transformer                    </font></mark><mark style=\"background-color: hsl(120, 75%, 98%); opacity:1.0;                     line-height:1.75\"><font color=\"black\"> designs                    </font></mark><mark style=\"background-color: hsl(0, 75%, 99%); opacity:1.0;                     line-height:1.75\"><font color=\"black\"> for                    </font></mark><mark style=\"background-color: hsl(120, 75%, 85%); opacity:1.0;                     line-height:1.75\"><font color=\"black\"> $60,000                    </font></mark><mark style=\"background-color: hsl(120, 75%, 99%); opacity:1.0;                     line-height:1.75\"><font color=\"black\"> in                    </font></mark><mark style=\"background-color: hsl(0, 75%, 100%); opacity:1.0;                     line-height:1.75\"><font color=\"black\"> cash                    </font></mark><mark style=\"background-color: hsl(120, 75%, 100%); opacity:1.0;                     line-height:1.75\"><font color=\"black\"> and                    </font></mark><mark style=\"background-color: hsl(0, 75%, 100%); opacity:1.0;                     line-height:1.75\"><font color=\"black\"> stock                    </font></mark><mark style=\"background-color: hsl(120, 75%, 85%); opacity:1.0;                     line-height:1.75\"><font color=\"black\"> and                    </font></mark><mark style=\"background-color: hsl(0, 75%, 100%); opacity:1.0;                     line-height:1.75\"><font color=\"black\"> a                    </font></mark><mark style=\"background-color: hsl(120, 75%, 93%); opacity:1.0;                     line-height:1.75\"><font color=\"black\"> royalty                    </font></mark><mark style=\"background-color: hsl(0, 75%, 95%); opacity:1.0;                     line-height:1.75\"><font color=\"black\"> of                    </font></mark><mark style=\"background-color: hsl(0, 75%, 96%); opacity:1.0;                     line-height:1.75\"><font color=\"black\"> $2.50                    </font></mark><mark style=\"background-color: hsl(0, 75%, 99%); opacity:1.0;                     line-height:1.75\"><font color=\"black\"> per                    </font></mark><mark style=\"background-color: hsl(120, 75%, 98%); opacity:1.0;                     line-height:1.75\"><font color=\"black\"> AC                    </font></mark><mark style=\"background-color: hsl(0, 75%, 96%); opacity:1.0;                     line-height:1.75\"><font color=\"black\"> horsepower                    </font></mark><mark style=\"background-color: hsl(120, 75%, 98%); opacity:1.0;                     line-height:1.75\"><font color=\"black\"> produced                    </font></mark><mark style=\"background-color: hsl(120, 75%, 99%); opacity:1.0;                     line-height:1.75\"><font color=\"black\"> by                    </font></mark><mark style=\"background-color: hsl(120, 75%, 95%); opacity:1.0;                     line-height:1.75\"><font color=\"black\"> each                    </font></mark><mark style=\"background-color: hsl(0, 75%, 99%); opacity:1.0;                     line-height:1.75\"><font color=\"black\"> motor.                    </font></mark><mark style=\"background-color: hsl(0, 75%, 98%); opacity:1.0;                     line-height:1.75\"><font color=\"black\"> #/s                    </font></mark></td><tr></table>"
      ],
      "text/plain": [
       "<IPython.core.display.HTML object>"
      ]
     },
     "metadata": {},
     "output_type": "display_data"
    },
    {
     "name": "stderr",
     "output_type": "stream",
     "text": [
      "/home/user/anaconda3/envs/py38/lib/python3.9/site-packages/captum/attr/_core/lime.py:1088: UserWarning: Attempting to construct interpretable model with > 10000 features.This can be very slow or lead to OOM issues. Please provide a featuremask which groups input features to reduce the number of interpretablefeatures. \n",
      "  warnings.warn(\n"
     ]
    },
    {
     "name": "stdout",
     "output_type": "stream",
     "text": [
      "<IPython.core.display.HTML object>\n",
      "i: 16\n",
      "Raw datum: [\"What type of movies were produced in Jacksonville's 30 studios?\", 'One converted movie studio site, Norman Studios, remains in Arlington; It has been converted to the Jacksonville Silent Film Museum at Norman Studios.']\n",
      "GT target: 0\n"
     ]
    },
    {
     "name": "stderr",
     "output_type": "stream",
     "text": [
      "Lime attribution: 100%|███████████████████████████| 3/3 [00:18<00:00,  6.28s/it]\n"
     ]
    },
    {
     "name": "stdout",
     "output_type": "stream",
     "text": [
      "word attr tensor([-7.1899e-01,  1.6561e-01,  6.5109e-02,  6.9808e-03,  8.7534e-02,\n",
      "         5.9471e-03,  2.9960e-02,  8.8726e-02,  2.5010e-01,  1.1751e-01,\n",
      "        -2.6085e-01,  5.7826e-02,  6.0065e-02,  2.6242e-02,  1.1430e-01,\n",
      "        -3.4493e-02, -2.6255e-03,  2.5786e-02,  3.0879e-01,  2.8354e-02,\n",
      "        -1.4636e-01, -1.4982e-01, -2.0904e-03, -1.2856e-02,  4.4692e-02,\n",
      "        -1.7123e-02, -1.3182e-01,  1.3236e-01,  4.7635e-02,  8.8261e-02,\n",
      "        -3.4500e-05, -7.5692e-02, -4.2414e-02, -1.1712e-01,  0.0000e+00,\n",
      "        -1.7443e-01,  8.5758e-02, -5.8534e-02,  6.6403e-02, -9.2957e-02,\n",
      "         6.5152e-03,  2.3218e-03, -7.0134e-02])\n",
      "conti attr [tensor(-0.7190), tensor(0.1656), tensor(0.0651), tensor(0.0070), tensor(0.0875), tensor(0.0059), tensor(0.0300), tensor(0.0887), tensor(0.3676), tensor(-0.2608), tensor(0.1179), tensor(0.0262), tensor(0.1143), tensor(-0.0345), tensor(-0.0026), tensor(0.0258), tensor(0.3088), tensor(-0.1180), tensor(-0.1498), tensor(-0.0149), tensor(0.0447), tensor(-0.0171), tensor(0.0005), tensor(0.0476), tensor(0.0883), tensor(-3.4500e-05), tensor(-0.0757), tensor(-0.0424), tensor(-0.1171), tensor(0.), tensor(-0.1744), tensor(0.0858), tensor(-0.0585), tensor(0.0664), tensor(-0.0930), tensor(0.0088), tensor(-0.0701)]\n",
      "detokenized ['<s>', 'What', 'type', 'of', 'movies', 'were', 'produced', 'in', 'Jacksonville', \"'s\", '30', 'studios', '?', '</s>', '</s>', 'One', 'converted', 'movie', 'studio', 'site', ',', 'Norman', 'Studios', ',', 'remains', 'in', 'Arlington', ';', 'It', 'has', 'been', 'converted', 'to', 'the', 'Jacksonville', 'Silent', 'Film', 'Museum', 'at', 'Norman', 'Studios', '.', '</s>']\n",
      "len conti_raw 37\n",
      "conti_raw ['<s>', 'What', 'type', 'of', 'movies', 'were', 'produced', 'in', \"Jacksonville's\", '30', 'studios?', '</s>', '</s>', 'One', 'converted', 'movie', 'studio', 'site,', 'Norman', 'Studios,', 'remains', 'in', 'Arlington;', 'It', 'has', 'been', 'converted', 'to', 'the', 'Jacksonville', 'Silent', 'Film', 'Museum', 'at', 'Norman', 'Studios.', '</s>']\n",
      "pred_prob 0.005194461438804865\n"
     ]
    },
    {
     "data": {
      "text/html": [
       "<table width: 100%><div style=\"border-top: 1px solid; margin-top: 5px;             padding-top: 5px; display: inline-block\"><b>Legend: </b><span style=\"display: inline-block; width: 10px; height: 10px;                 border: 1px solid; background-color:                 hsl(0, 75%, 60%)\"></span> Negative  <span style=\"display: inline-block; width: 10px; height: 10px;                 border: 1px solid; background-color:                 hsl(0, 75%, 100%)\"></span> Neutral  <span style=\"display: inline-block; width: 10px; height: 10px;                 border: 1px solid; background-color:                 hsl(120, 75%, 50%)\"></span> Positive  </div><tr><th>True Label</th><th>Predicted Label</th><th>Attribution Label</th><th>Attribution Score</th><th>Word Importance</th><tr><td><text style=\"padding-right:2em\"><b>No Entailment</b></text></td><td><text style=\"padding-right:2em\"><b>No Entailment (0.01)</b></text></td><td><text style=\"padding-right:2em\"><b>No Entailment</b></text></td><td><text style=\"padding-right:2em\"><b>-0.20</b></text></td><td><mark style=\"background-color: hsl(0, 75%, 72%); opacity:1.0;                     line-height:1.75\"><font color=\"black\"> #s                    </font></mark><mark style=\"background-color: hsl(120, 75%, 92%); opacity:1.0;                     line-height:1.75\"><font color=\"black\"> What                    </font></mark><mark style=\"background-color: hsl(120, 75%, 97%); opacity:1.0;                     line-height:1.75\"><font color=\"black\"> type                    </font></mark><mark style=\"background-color: hsl(120, 75%, 100%); opacity:1.0;                     line-height:1.75\"><font color=\"black\"> of                    </font></mark><mark style=\"background-color: hsl(120, 75%, 96%); opacity:1.0;                     line-height:1.75\"><font color=\"black\"> movies                    </font></mark><mark style=\"background-color: hsl(120, 75%, 100%); opacity:1.0;                     line-height:1.75\"><font color=\"black\"> were                    </font></mark><mark style=\"background-color: hsl(120, 75%, 99%); opacity:1.0;                     line-height:1.75\"><font color=\"black\"> produced                    </font></mark><mark style=\"background-color: hsl(120, 75%, 96%); opacity:1.0;                     line-height:1.75\"><font color=\"black\"> in                    </font></mark><mark style=\"background-color: hsl(120, 75%, 82%); opacity:1.0;                     line-height:1.75\"><font color=\"black\"> Jacksonville's                    </font></mark><mark style=\"background-color: hsl(0, 75%, 90%); opacity:1.0;                     line-height:1.75\"><font color=\"black\"> 30                    </font></mark><mark style=\"background-color: hsl(120, 75%, 95%); opacity:1.0;                     line-height:1.75\"><font color=\"black\"> studios?                    </font></mark><mark style=\"background-color: hsl(120, 75%, 99%); opacity:1.0;                     line-height:1.75\"><font color=\"black\"> #/s                    </font></mark><mark style=\"background-color: hsl(120, 75%, 95%); opacity:1.0;                     line-height:1.75\"><font color=\"black\"> #/s                    </font></mark><mark style=\"background-color: hsl(0, 75%, 99%); opacity:1.0;                     line-height:1.75\"><font color=\"black\"> One                    </font></mark><mark style=\"background-color: hsl(0, 75%, 100%); opacity:1.0;                     line-height:1.75\"><font color=\"black\"> converted                    </font></mark><mark style=\"background-color: hsl(120, 75%, 99%); opacity:1.0;                     line-height:1.75\"><font color=\"black\"> movie                    </font></mark><mark style=\"background-color: hsl(120, 75%, 85%); opacity:1.0;                     line-height:1.75\"><font color=\"black\"> studio                    </font></mark><mark style=\"background-color: hsl(0, 75%, 96%); opacity:1.0;                     line-height:1.75\"><font color=\"black\"> site,                    </font></mark><mark style=\"background-color: hsl(0, 75%, 95%); opacity:1.0;                     line-height:1.75\"><font color=\"black\"> Norman                    </font></mark><mark style=\"background-color: hsl(0, 75%, 100%); opacity:1.0;                     line-height:1.75\"><font color=\"black\"> Studios,                    </font></mark><mark style=\"background-color: hsl(120, 75%, 98%); opacity:1.0;                     line-height:1.75\"><font color=\"black\"> remains                    </font></mark><mark style=\"background-color: hsl(0, 75%, 100%); opacity:1.0;                     line-height:1.75\"><font color=\"black\"> in                    </font></mark><mark style=\"background-color: hsl(120, 75%, 100%); opacity:1.0;                     line-height:1.75\"><font color=\"black\"> Arlington;                    </font></mark><mark style=\"background-color: hsl(120, 75%, 98%); opacity:1.0;                     line-height:1.75\"><font color=\"black\"> It                    </font></mark><mark style=\"background-color: hsl(120, 75%, 96%); opacity:1.0;                     line-height:1.75\"><font color=\"black\"> has                    </font></mark><mark style=\"background-color: hsl(0, 75%, 100%); opacity:1.0;                     line-height:1.75\"><font color=\"black\"> been                    </font></mark><mark style=\"background-color: hsl(0, 75%, 97%); opacity:1.0;                     line-height:1.75\"><font color=\"black\"> converted                    </font></mark><mark style=\"background-color: hsl(0, 75%, 99%); opacity:1.0;                     line-height:1.75\"><font color=\"black\"> to                    </font></mark><mark style=\"background-color: hsl(0, 75%, 96%); opacity:1.0;                     line-height:1.75\"><font color=\"black\"> the                    </font></mark><mark style=\"background-color: hsl(0, 75%, 100%); opacity:1.0;                     line-height:1.75\"><font color=\"black\"> Jacksonville                    </font></mark><mark style=\"background-color: hsl(0, 75%, 94%); opacity:1.0;                     line-height:1.75\"><font color=\"black\"> Silent                    </font></mark><mark style=\"background-color: hsl(120, 75%, 96%); opacity:1.0;                     line-height:1.75\"><font color=\"black\"> Film                    </font></mark><mark style=\"background-color: hsl(0, 75%, 98%); opacity:1.0;                     line-height:1.75\"><font color=\"black\"> Museum                    </font></mark><mark style=\"background-color: hsl(120, 75%, 97%); opacity:1.0;                     line-height:1.75\"><font color=\"black\"> at                    </font></mark><mark style=\"background-color: hsl(0, 75%, 97%); opacity:1.0;                     line-height:1.75\"><font color=\"black\"> Norman                    </font></mark><mark style=\"background-color: hsl(120, 75%, 100%); opacity:1.0;                     line-height:1.75\"><font color=\"black\"> Studios.                    </font></mark><mark style=\"background-color: hsl(0, 75%, 98%); opacity:1.0;                     line-height:1.75\"><font color=\"black\"> #/s                    </font></mark></td><tr></table>"
      ],
      "text/plain": [
       "<IPython.core.display.HTML object>"
      ]
     },
     "metadata": {},
     "output_type": "display_data"
    },
    {
     "name": "stderr",
     "output_type": "stream",
     "text": [
      "/home/user/anaconda3/envs/py38/lib/python3.9/site-packages/captum/attr/_core/lime.py:1088: UserWarning: Attempting to construct interpretable model with > 10000 features.This can be very slow or lead to OOM issues. Please provide a featuremask which groups input features to reduce the number of interpretablefeatures. \n",
      "  warnings.warn(\n"
     ]
    },
    {
     "name": "stdout",
     "output_type": "stream",
     "text": [
      "<IPython.core.display.HTML object>\n",
      "i: 17\n",
      "Raw datum: ['What voyager said that Mombasa was a great harbour and moored small crafts and great ships?', 'The Swahili built Mombasa into a major port city and established trade links with other nearby city-states, as well as commercial centres in Persia, Arabia, and even India.']\n",
      "GT target: 0\n"
     ]
    },
    {
     "name": "stderr",
     "output_type": "stream",
     "text": [
      "Lime attribution: 100%|███████████████████████████| 3/3 [00:30<00:00, 10.26s/it]\n"
     ]
    },
    {
     "name": "stdout",
     "output_type": "stream",
     "text": [
      "word attr tensor([-0.3520, -0.0582, -0.0726, -0.1204, -0.1202, -0.0746,  0.0919,  0.2142,\n",
      "        -0.0935, -0.1745, -0.0582,  0.0895, -0.1382,  0.0641,  0.1382,  0.1423,\n",
      "        -0.0617,  0.1451, -0.1011,  0.0145, -0.1559, -0.1337,  0.0427, -0.2485,\n",
      "         0.0849,  0.0230, -0.0531,  0.1198,  0.1295, -0.0087,  0.1764, -0.1451,\n",
      "         0.1393, -0.0382, -0.0490,  0.0502,  0.0907, -0.1202,  0.0771, -0.1328,\n",
      "         0.0894,  0.2050,  0.0496,  0.0610,  0.2223, -0.0370,  0.3113,  0.0582,\n",
      "         0.0586, -0.0761, -0.1078, -0.0760,  0.0525,  0.0536, -0.0437,  0.2110,\n",
      "         0.1460, -0.1697,  0.0748,  0.0263, -0.0561, -0.0158,  0.1126])\n",
      "conti attr [tensor(-0.3520), tensor(-0.0582), tensor(-0.1930), tensor(-0.1202), tensor(-0.0746), tensor(0.2126), tensor(-0.1745), tensor(-0.0582), tensor(0.0895), tensor(-0.1382), tensor(0.0641), tensor(0.2805), tensor(-0.0617), tensor(0.1451), tensor(-0.1011), tensor(0.0145), tensor(-0.2896), tensor(0.0427), tensor(-0.2485), tensor(0.0849), tensor(0.0898), tensor(0.1295), tensor(0.0226), tensor(0.1393), tensor(-0.0382), tensor(-0.0490), tensor(0.0502), tensor(0.0907), tensor(-0.1202), tensor(0.0771), tensor(-0.1328), tensor(0.0894), tensor(0.2050), tensor(0.0496), tensor(0.0610), tensor(0.5548), tensor(0.0586), tensor(-0.0761), tensor(-0.1078), tensor(-0.0760), tensor(0.0525), tensor(0.0536), tensor(0.1673), tensor(-0.0237), tensor(0.0748), tensor(0.0263), tensor(-0.0718), tensor(0.1126)]\n",
      "detokenized ['<s>', 'What', 'voy', 'ager', 'said', 'that', 'M', 'omb', 'asa', 'was', 'a', 'great', 'harbour', 'and', 'mo', 'ored', 'small', 'crafts', 'and', 'great', 'ships', '?', '</s>', '</s>', 'The', 'Sw', 'ah', 'ili', 'built', 'M', 'omb', 'asa', 'into', 'a', 'major', 'port', 'city', 'and', 'established', 'trade', 'links', 'with', 'other', 'nearby', 'city', '-', 'states', ',', 'as', 'well', 'as', 'commercial', 'centres', 'in', 'Persia', ',', 'Arabia', ',', 'and', 'even', 'India', '.', '</s>']\n",
      "len conti_raw 48\n",
      "conti_raw ['<s>', 'What', 'voyager', 'said', 'that', 'Mombasa', 'was', 'a', 'great', 'harbour', 'and', 'moored', 'small', 'crafts', 'and', 'great', 'ships?', '</s>', '</s>', 'The', 'Swahili', 'built', 'Mombasa', 'into', 'a', 'major', 'port', 'city', 'and', 'established', 'trade', 'links', 'with', 'other', 'nearby', 'city-states,', 'as', 'well', 'as', 'commercial', 'centres', 'in', 'Persia,', 'Arabia,', 'and', 'even', 'India.', '</s>']\n",
      "pred_prob 0.004503244534134865\n"
     ]
    },
    {
     "data": {
      "text/html": [
       "<table width: 100%><div style=\"border-top: 1px solid; margin-top: 5px;             padding-top: 5px; display: inline-block\"><b>Legend: </b><span style=\"display: inline-block; width: 10px; height: 10px;                 border: 1px solid; background-color:                 hsl(0, 75%, 60%)\"></span> Negative  <span style=\"display: inline-block; width: 10px; height: 10px;                 border: 1px solid; background-color:                 hsl(0, 75%, 100%)\"></span> Neutral  <span style=\"display: inline-block; width: 10px; height: 10px;                 border: 1px solid; background-color:                 hsl(120, 75%, 50%)\"></span> Positive  </div><tr><th>True Label</th><th>Predicted Label</th><th>Attribution Label</th><th>Attribution Score</th><th>Word Importance</th><tr><td><text style=\"padding-right:2em\"><b>No Entailment</b></text></td><td><text style=\"padding-right:2em\"><b>No Entailment (0.00)</b></text></td><td><text style=\"padding-right:2em\"><b>No Entailment</b></text></td><td><text style=\"padding-right:2em\"><b>0.47</b></text></td><td><mark style=\"background-color: hsl(0, 75%, 86%); opacity:1.0;                     line-height:1.75\"><font color=\"black\"> #s                    </font></mark><mark style=\"background-color: hsl(0, 75%, 98%); opacity:1.0;                     line-height:1.75\"><font color=\"black\"> What                    </font></mark><mark style=\"background-color: hsl(0, 75%, 93%); opacity:1.0;                     line-height:1.75\"><font color=\"black\"> voyager                    </font></mark><mark style=\"background-color: hsl(0, 75%, 96%); opacity:1.0;                     line-height:1.75\"><font color=\"black\"> said                    </font></mark><mark style=\"background-color: hsl(0, 75%, 98%); opacity:1.0;                     line-height:1.75\"><font color=\"black\"> that                    </font></mark><mark style=\"background-color: hsl(120, 75%, 90%); opacity:1.0;                     line-height:1.75\"><font color=\"black\"> Mombasa                    </font></mark><mark style=\"background-color: hsl(0, 75%, 94%); opacity:1.0;                     line-height:1.75\"><font color=\"black\"> was                    </font></mark><mark style=\"background-color: hsl(0, 75%, 98%); opacity:1.0;                     line-height:1.75\"><font color=\"black\"> a                    </font></mark><mark style=\"background-color: hsl(120, 75%, 96%); opacity:1.0;                     line-height:1.75\"><font color=\"black\"> great                    </font></mark><mark style=\"background-color: hsl(0, 75%, 95%); opacity:1.0;                     line-height:1.75\"><font color=\"black\"> harbour                    </font></mark><mark style=\"background-color: hsl(120, 75%, 97%); opacity:1.0;                     line-height:1.75\"><font color=\"black\"> and                    </font></mark><mark style=\"background-color: hsl(120, 75%, 86%); opacity:1.0;                     line-height:1.75\"><font color=\"black\"> moored                    </font></mark><mark style=\"background-color: hsl(0, 75%, 98%); opacity:1.0;                     line-height:1.75\"><font color=\"black\"> small                    </font></mark><mark style=\"background-color: hsl(120, 75%, 93%); opacity:1.0;                     line-height:1.75\"><font color=\"black\"> crafts                    </font></mark><mark style=\"background-color: hsl(0, 75%, 96%); opacity:1.0;                     line-height:1.75\"><font color=\"black\"> and                    </font></mark><mark style=\"background-color: hsl(120, 75%, 100%); opacity:1.0;                     line-height:1.75\"><font color=\"black\"> great                    </font></mark><mark style=\"background-color: hsl(0, 75%, 89%); opacity:1.0;                     line-height:1.75\"><font color=\"black\"> ships?                    </font></mark><mark style=\"background-color: hsl(120, 75%, 98%); opacity:1.0;                     line-height:1.75\"><font color=\"black\"> #/s                    </font></mark><mark style=\"background-color: hsl(0, 75%, 91%); opacity:1.0;                     line-height:1.75\"><font color=\"black\"> #/s                    </font></mark><mark style=\"background-color: hsl(120, 75%, 96%); opacity:1.0;                     line-height:1.75\"><font color=\"black\"> The                    </font></mark><mark style=\"background-color: hsl(120, 75%, 96%); opacity:1.0;                     line-height:1.75\"><font color=\"black\"> Swahili                    </font></mark><mark style=\"background-color: hsl(120, 75%, 94%); opacity:1.0;                     line-height:1.75\"><font color=\"black\"> built                    </font></mark><mark style=\"background-color: hsl(120, 75%, 99%); opacity:1.0;                     line-height:1.75\"><font color=\"black\"> Mombasa                    </font></mark><mark style=\"background-color: hsl(120, 75%, 94%); opacity:1.0;                     line-height:1.75\"><font color=\"black\"> into                    </font></mark><mark style=\"background-color: hsl(0, 75%, 99%); opacity:1.0;                     line-height:1.75\"><font color=\"black\"> a                    </font></mark><mark style=\"background-color: hsl(0, 75%, 99%); opacity:1.0;                     line-height:1.75\"><font color=\"black\"> major                    </font></mark><mark style=\"background-color: hsl(120, 75%, 98%); opacity:1.0;                     line-height:1.75\"><font color=\"black\"> port                    </font></mark><mark style=\"background-color: hsl(120, 75%, 96%); opacity:1.0;                     line-height:1.75\"><font color=\"black\"> city                    </font></mark><mark style=\"background-color: hsl(0, 75%, 96%); opacity:1.0;                     line-height:1.75\"><font color=\"black\"> and                    </font></mark><mark style=\"background-color: hsl(120, 75%, 97%); opacity:1.0;                     line-height:1.75\"><font color=\"black\"> established                    </font></mark><mark style=\"background-color: hsl(0, 75%, 95%); opacity:1.0;                     line-height:1.75\"><font color=\"black\"> trade                    </font></mark><mark style=\"background-color: hsl(120, 75%, 96%); opacity:1.0;                     line-height:1.75\"><font color=\"black\"> links                    </font></mark><mark style=\"background-color: hsl(120, 75%, 90%); opacity:1.0;                     line-height:1.75\"><font color=\"black\"> with                    </font></mark><mark style=\"background-color: hsl(120, 75%, 98%); opacity:1.0;                     line-height:1.75\"><font color=\"black\"> other                    </font></mark><mark style=\"background-color: hsl(120, 75%, 97%); opacity:1.0;                     line-height:1.75\"><font color=\"black\"> nearby                    </font></mark><mark style=\"background-color: hsl(120, 75%, 73%); opacity:1.0;                     line-height:1.75\"><font color=\"black\"> city-states,                    </font></mark><mark style=\"background-color: hsl(120, 75%, 98%); opacity:1.0;                     line-height:1.75\"><font color=\"black\"> as                    </font></mark><mark style=\"background-color: hsl(0, 75%, 97%); opacity:1.0;                     line-height:1.75\"><font color=\"black\"> well                    </font></mark><mark style=\"background-color: hsl(0, 75%, 96%); opacity:1.0;                     line-height:1.75\"><font color=\"black\"> as                    </font></mark><mark style=\"background-color: hsl(0, 75%, 97%); opacity:1.0;                     line-height:1.75\"><font color=\"black\"> commercial                    </font></mark><mark style=\"background-color: hsl(120, 75%, 98%); opacity:1.0;                     line-height:1.75\"><font color=\"black\"> centres                    </font></mark><mark style=\"background-color: hsl(120, 75%, 98%); opacity:1.0;                     line-height:1.75\"><font color=\"black\"> in                    </font></mark><mark style=\"background-color: hsl(120, 75%, 92%); opacity:1.0;                     line-height:1.75\"><font color=\"black\"> Persia,                    </font></mark><mark style=\"background-color: hsl(0, 75%, 100%); opacity:1.0;                     line-height:1.75\"><font color=\"black\"> Arabia,                    </font></mark><mark style=\"background-color: hsl(120, 75%, 97%); opacity:1.0;                     line-height:1.75\"><font color=\"black\"> and                    </font></mark><mark style=\"background-color: hsl(120, 75%, 99%); opacity:1.0;                     line-height:1.75\"><font color=\"black\"> even                    </font></mark><mark style=\"background-color: hsl(0, 75%, 98%); opacity:1.0;                     line-height:1.75\"><font color=\"black\"> India.                    </font></mark><mark style=\"background-color: hsl(120, 75%, 95%); opacity:1.0;                     line-height:1.75\"><font color=\"black\"> #/s                    </font></mark></td><tr></table>"
      ],
      "text/plain": [
       "<IPython.core.display.HTML object>"
      ]
     },
     "metadata": {},
     "output_type": "display_data"
    },
    {
     "name": "stderr",
     "output_type": "stream",
     "text": [
      "/home/user/anaconda3/envs/py38/lib/python3.9/site-packages/captum/attr/_core/lime.py:1088: UserWarning: Attempting to construct interpretable model with > 10000 features.This can be very slow or lead to OOM issues. Please provide a featuremask which groups input features to reduce the number of interpretablefeatures. \n",
      "  warnings.warn(\n"
     ]
    },
    {
     "name": "stdout",
     "output_type": "stream",
     "text": [
      "<IPython.core.display.HTML object>\n",
      "i: 18\n",
      "Raw datum: ['Where is Energiprojekt AB based?', 'Although the reciprocating steam engine is no longer in widespread commercial use, various companies are exploring or exploiting the potential of the engine as an alternative to internal combustion engines.']\n",
      "GT target: 0\n"
     ]
    },
    {
     "name": "stderr",
     "output_type": "stream",
     "text": [
      "Lime attribution: 100%|███████████████████████████| 3/3 [00:23<00:00,  7.81s/it]\n"
     ]
    },
    {
     "name": "stdout",
     "output_type": "stream",
     "text": [
      "nan attri score\n",
      "word attr tensor([0., 0., 0., 0., 0., 0., 0., 0., 0., 0., 0., 0., 0., 0., 0., 0., 0., 0., 0., 0., 0., 0., 0., 0.,\n",
      "        0., 0., 0., 0., 0., 0., 0., 0., 0., 0., 0., 0., 0., 0., 0., 0., 0., 0., 0., 0., 0., 0., 0., 0.,\n",
      "        0.])\n",
      "conti attr [tensor(0.), tensor(0.), tensor(0.), tensor(0.), tensor(0.), tensor(0.), tensor(0.), tensor(0.), tensor(0.), tensor(0.), tensor(0.), tensor(0.), tensor(0.), tensor(0.), tensor(0.), tensor(0.), tensor(0.), tensor(0.), tensor(0.), tensor(0.), tensor(0.), tensor(0.), tensor(0.), tensor(0.), tensor(0.), tensor(0.), tensor(0.), tensor(0.), tensor(0.), tensor(0.), tensor(0.), tensor(0.), tensor(0.), tensor(0.), tensor(0.), tensor(0.), tensor(0.), tensor(0.), tensor(0.)]\n",
      "detokenized ['<s>', 'Where', 'is', 'E', 'nerg', 'ip', 'ro', 'j', 'ek', 't', 'AB', 'based', '?', '</s>', '</s>', 'Although', 'the', 'reciproc', 'ating', 'steam', 'engine', 'is', 'no', 'longer', 'in', 'widespread', 'commercial', 'use', ',', 'various', 'companies', 'are', 'exploring', 'or', 'exploiting', 'the', 'potential', 'of', 'the', 'engine', 'as', 'an', 'alternative', 'to', 'internal', 'combustion', 'engines', '.', '</s>']\n",
      "len conti_raw 39\n",
      "conti_raw ['<s>', 'Where', 'is', 'Energiprojekt', 'AB', 'based?', '</s>', '</s>', 'Although', 'the', 'reciprocating', 'steam', 'engine', 'is', 'no', 'longer', 'in', 'widespread', 'commercial', 'use,', 'various', 'companies', 'are', 'exploring', 'or', 'exploiting', 'the', 'potential', 'of', 'the', 'engine', 'as', 'an', 'alternative', 'to', 'internal', 'combustion', 'engines.', '</s>']\n",
      "pred_prob 0.0015017999103292823\n"
     ]
    },
    {
     "data": {
      "text/html": [
       "<table width: 100%><div style=\"border-top: 1px solid; margin-top: 5px;             padding-top: 5px; display: inline-block\"><b>Legend: </b><span style=\"display: inline-block; width: 10px; height: 10px;                 border: 1px solid; background-color:                 hsl(0, 75%, 60%)\"></span> Negative  <span style=\"display: inline-block; width: 10px; height: 10px;                 border: 1px solid; background-color:                 hsl(0, 75%, 100%)\"></span> Neutral  <span style=\"display: inline-block; width: 10px; height: 10px;                 border: 1px solid; background-color:                 hsl(120, 75%, 50%)\"></span> Positive  </div><tr><th>True Label</th><th>Predicted Label</th><th>Attribution Label</th><th>Attribution Score</th><th>Word Importance</th><tr><td><text style=\"padding-right:2em\"><b>No Entailment</b></text></td><td><text style=\"padding-right:2em\"><b>No Entailment (0.00)</b></text></td><td><text style=\"padding-right:2em\"><b>Entailment</b></text></td><td><text style=\"padding-right:2em\"><b>nan</b></text></td><td><mark style=\"background-color: hsl(0, 75%, 100%); opacity:1.0;                     line-height:1.75\"><font color=\"black\"> #s                    </font></mark><mark style=\"background-color: hsl(0, 75%, 100%); opacity:1.0;                     line-height:1.75\"><font color=\"black\"> Where                    </font></mark><mark style=\"background-color: hsl(0, 75%, 100%); opacity:1.0;                     line-height:1.75\"><font color=\"black\"> is                    </font></mark><mark style=\"background-color: hsl(0, 75%, 100%); opacity:1.0;                     line-height:1.75\"><font color=\"black\"> Energiprojekt                    </font></mark><mark style=\"background-color: hsl(0, 75%, 100%); opacity:1.0;                     line-height:1.75\"><font color=\"black\"> AB                    </font></mark><mark style=\"background-color: hsl(0, 75%, 100%); opacity:1.0;                     line-height:1.75\"><font color=\"black\"> based?                    </font></mark><mark style=\"background-color: hsl(0, 75%, 100%); opacity:1.0;                     line-height:1.75\"><font color=\"black\"> #/s                    </font></mark><mark style=\"background-color: hsl(0, 75%, 100%); opacity:1.0;                     line-height:1.75\"><font color=\"black\"> #/s                    </font></mark><mark style=\"background-color: hsl(0, 75%, 100%); opacity:1.0;                     line-height:1.75\"><font color=\"black\"> Although                    </font></mark><mark style=\"background-color: hsl(0, 75%, 100%); opacity:1.0;                     line-height:1.75\"><font color=\"black\"> the                    </font></mark><mark style=\"background-color: hsl(0, 75%, 100%); opacity:1.0;                     line-height:1.75\"><font color=\"black\"> reciprocating                    </font></mark><mark style=\"background-color: hsl(0, 75%, 100%); opacity:1.0;                     line-height:1.75\"><font color=\"black\"> steam                    </font></mark><mark style=\"background-color: hsl(0, 75%, 100%); opacity:1.0;                     line-height:1.75\"><font color=\"black\"> engine                    </font></mark><mark style=\"background-color: hsl(0, 75%, 100%); opacity:1.0;                     line-height:1.75\"><font color=\"black\"> is                    </font></mark><mark style=\"background-color: hsl(0, 75%, 100%); opacity:1.0;                     line-height:1.75\"><font color=\"black\"> no                    </font></mark><mark style=\"background-color: hsl(0, 75%, 100%); opacity:1.0;                     line-height:1.75\"><font color=\"black\"> longer                    </font></mark><mark style=\"background-color: hsl(0, 75%, 100%); opacity:1.0;                     line-height:1.75\"><font color=\"black\"> in                    </font></mark><mark style=\"background-color: hsl(0, 75%, 100%); opacity:1.0;                     line-height:1.75\"><font color=\"black\"> widespread                    </font></mark><mark style=\"background-color: hsl(0, 75%, 100%); opacity:1.0;                     line-height:1.75\"><font color=\"black\"> commercial                    </font></mark><mark style=\"background-color: hsl(0, 75%, 100%); opacity:1.0;                     line-height:1.75\"><font color=\"black\"> use,                    </font></mark><mark style=\"background-color: hsl(0, 75%, 100%); opacity:1.0;                     line-height:1.75\"><font color=\"black\"> various                    </font></mark><mark style=\"background-color: hsl(0, 75%, 100%); opacity:1.0;                     line-height:1.75\"><font color=\"black\"> companies                    </font></mark><mark style=\"background-color: hsl(0, 75%, 100%); opacity:1.0;                     line-height:1.75\"><font color=\"black\"> are                    </font></mark><mark style=\"background-color: hsl(0, 75%, 100%); opacity:1.0;                     line-height:1.75\"><font color=\"black\"> exploring                    </font></mark><mark style=\"background-color: hsl(0, 75%, 100%); opacity:1.0;                     line-height:1.75\"><font color=\"black\"> or                    </font></mark><mark style=\"background-color: hsl(0, 75%, 100%); opacity:1.0;                     line-height:1.75\"><font color=\"black\"> exploiting                    </font></mark><mark style=\"background-color: hsl(0, 75%, 100%); opacity:1.0;                     line-height:1.75\"><font color=\"black\"> the                    </font></mark><mark style=\"background-color: hsl(0, 75%, 100%); opacity:1.0;                     line-height:1.75\"><font color=\"black\"> potential                    </font></mark><mark style=\"background-color: hsl(0, 75%, 100%); opacity:1.0;                     line-height:1.75\"><font color=\"black\"> of                    </font></mark><mark style=\"background-color: hsl(0, 75%, 100%); opacity:1.0;                     line-height:1.75\"><font color=\"black\"> the                    </font></mark><mark style=\"background-color: hsl(0, 75%, 100%); opacity:1.0;                     line-height:1.75\"><font color=\"black\"> engine                    </font></mark><mark style=\"background-color: hsl(0, 75%, 100%); opacity:1.0;                     line-height:1.75\"><font color=\"black\"> as                    </font></mark><mark style=\"background-color: hsl(0, 75%, 100%); opacity:1.0;                     line-height:1.75\"><font color=\"black\"> an                    </font></mark><mark style=\"background-color: hsl(0, 75%, 100%); opacity:1.0;                     line-height:1.75\"><font color=\"black\"> alternative                    </font></mark><mark style=\"background-color: hsl(0, 75%, 100%); opacity:1.0;                     line-height:1.75\"><font color=\"black\"> to                    </font></mark><mark style=\"background-color: hsl(0, 75%, 100%); opacity:1.0;                     line-height:1.75\"><font color=\"black\"> internal                    </font></mark><mark style=\"background-color: hsl(0, 75%, 100%); opacity:1.0;                     line-height:1.75\"><font color=\"black\"> combustion                    </font></mark><mark style=\"background-color: hsl(0, 75%, 100%); opacity:1.0;                     line-height:1.75\"><font color=\"black\"> engines.                    </font></mark><mark style=\"background-color: hsl(0, 75%, 100%); opacity:1.0;                     line-height:1.75\"><font color=\"black\"> #/s                    </font></mark></td><tr></table>"
      ],
      "text/plain": [
       "<IPython.core.display.HTML object>"
      ]
     },
     "metadata": {},
     "output_type": "display_data"
    },
    {
     "name": "stderr",
     "output_type": "stream",
     "text": [
      "/home/user/anaconda3/envs/py38/lib/python3.9/site-packages/captum/attr/_core/lime.py:1088: UserWarning: Attempting to construct interpretable model with > 10000 features.This can be very slow or lead to OOM issues. Please provide a featuremask which groups input features to reduce the number of interpretablefeatures. \n",
      "  warnings.warn(\n"
     ]
    },
    {
     "name": "stdout",
     "output_type": "stream",
     "text": [
      "<IPython.core.display.HTML object>\n",
      "i: 19\n",
      "Raw datum: ['Who other than Tesla did Westinghouse consider for the patents?', \"Westinghouse looked into getting a patent on a similar commutator-less, rotating magnetic field-based induction motor presented in a paper in March 1888 by the Italian physicist Galileo Ferraris, but decided Tesla's patent would probably control the market.\"]\n",
      "GT target: 1\n"
     ]
    },
    {
     "name": "stderr",
     "output_type": "stream",
     "text": [
      "Lime attribution: 100%|███████████████████████████| 3/3 [00:29<00:00,  9.94s/it]\n"
     ]
    },
    {
     "name": "stdout",
     "output_type": "stream",
     "text": [
      "word attr tensor([-7.0692e-01, -4.4414e-02, -5.2329e-03, -1.2263e-01,  8.7609e-02,\n",
      "         3.5037e-02,  1.1883e-01,  3.9010e-02,  4.6326e-02,  7.3911e-02,\n",
      "        -1.1113e-01, -8.2174e-02,  2.0019e-01, -1.8804e-02,  3.0654e-02,\n",
      "        -7.1167e-02,  1.4544e-01,  1.0105e-01,  6.3832e-02,  7.5612e-03,\n",
      "        -3.0264e-02,  5.8692e-02, -9.8312e-02, -4.2858e-02,  8.7145e-02,\n",
      "         1.5330e-02,  1.4439e-01,  1.0179e-01, -6.0334e-02,  1.3532e-01,\n",
      "        -6.4962e-03,  1.3335e-01,  5.3806e-02,  2.6496e-02, -9.6080e-02,\n",
      "         3.0966e-02, -8.9102e-03,  3.9937e-02,  1.9391e-01, -9.5325e-02,\n",
      "        -8.0995e-02, -3.6205e-02, -6.3360e-02, -8.4243e-02, -1.4567e-01,\n",
      "         9.2201e-02,  1.1440e-01,  6.9225e-02, -9.2243e-02, -1.5507e-02,\n",
      "         1.4602e-01, -1.0869e-01, -3.0210e-02, -2.9168e-02,  5.2826e-03,\n",
      "        -3.8521e-03,  2.1066e-02,  1.0934e-01,  2.0510e-01,  5.5456e-02,\n",
      "         5.3591e-02,  9.5381e-05,  9.5676e-02, -8.9371e-02, -6.6831e-02,\n",
      "         1.6104e-02, -2.5923e-02])\n",
      "conti attr [tensor(-0.7069), tensor(-0.0444), tensor(-0.0052), tensor(-0.1226), tensor(0.0876), tensor(0.0350), tensor(0.2042), tensor(0.0739), tensor(-0.1111), tensor(-0.0822), tensor(0.1814), tensor(0.0307), tensor(-0.0712), tensor(0.3103), tensor(0.0076), tensor(-0.0303), tensor(0.0587), tensor(-0.0983), tensor(-0.0429), tensor(0.0871), tensor(0.0153), tensor(0.1444), tensor(0.3574), tensor(0.0265), tensor(-0.0961), tensor(0.0620), tensor(0.1939), tensor(-0.0953), tensor(-0.0810), tensor(-0.0362), tensor(-0.0634), tensor(-0.0842), tensor(-0.1457), tensor(0.0922), tensor(0.1144), tensor(0.0692), tensor(-0.0922), tensor(-0.0155), tensor(0.1460), tensor(-0.1087), tensor(-0.0541), tensor(-0.0039), tensor(0.0211), tensor(0.3144), tensor(0.0555), tensor(0.0536), tensor(9.5381e-05), tensor(0.0957), tensor(-0.0894), tensor(-0.0507), tensor(-0.0259)]\n",
      "detokenized ['<s>', 'Who', 'other', 'than', 'Tesla', 'did', 'West', 'ing', 'house', 'consider', 'for', 'the', 'patents', '?', '</s>', '</s>', 'West', 'ing', 'house', 'looked', 'into', 'getting', 'a', 'patent', 'on', 'a', 'similar', 'comm', 'ut', 'ator', '-', 'less', ',', 'rotating', 'magnetic', 'field', '-', 'based', 'induction', 'motor', 'presented', 'in', 'a', 'paper', 'in', 'March', '1888', 'by', 'the', 'Italian', 'physicist', 'Galileo', 'Ferr', 'aris', ',', 'but', 'decided', 'Tesla', \"'s\", 'patent', 'would', 'probably', 'control', 'the', 'market', '.', '</s>']\n",
      "len conti_raw 51\n",
      "conti_raw ['<s>', 'Who', 'other', 'than', 'Tesla', 'did', 'Westinghouse', 'consider', 'for', 'the', 'patents?', '</s>', '</s>', 'Westinghouse', 'looked', 'into', 'getting', 'a', 'patent', 'on', 'a', 'similar', 'commutator-less,', 'rotating', 'magnetic', 'field-based', 'induction', 'motor', 'presented', 'in', 'a', 'paper', 'in', 'March', '1888', 'by', 'the', 'Italian', 'physicist', 'Galileo', 'Ferraris,', 'but', 'decided', \"Tesla's\", 'patent', 'would', 'probably', 'control', 'the', 'market.', '</s>']\n",
      "pred_prob 0.042424872517585754\n"
     ]
    },
    {
     "data": {
      "text/html": [
       "<table width: 100%><div style=\"border-top: 1px solid; margin-top: 5px;             padding-top: 5px; display: inline-block\"><b>Legend: </b><span style=\"display: inline-block; width: 10px; height: 10px;                 border: 1px solid; background-color:                 hsl(0, 75%, 60%)\"></span> Negative  <span style=\"display: inline-block; width: 10px; height: 10px;                 border: 1px solid; background-color:                 hsl(0, 75%, 100%)\"></span> Neutral  <span style=\"display: inline-block; width: 10px; height: 10px;                 border: 1px solid; background-color:                 hsl(120, 75%, 50%)\"></span> Positive  </div><tr><th>True Label</th><th>Predicted Label</th><th>Attribution Label</th><th>Attribution Score</th><th>Word Importance</th><tr><td><text style=\"padding-right:2em\"><b>Entailment</b></text></td><td><text style=\"padding-right:2em\"><b>No Entailment (0.04)</b></text></td><td><text style=\"padding-right:2em\"><b>No Entailment</b></text></td><td><text style=\"padding-right:2em\"><b>0.48</b></text></td><td><mark style=\"background-color: hsl(0, 75%, 72%); opacity:1.0;                     line-height:1.75\"><font color=\"black\"> #s                    </font></mark><mark style=\"background-color: hsl(0, 75%, 99%); opacity:1.0;                     line-height:1.75\"><font color=\"black\"> Who                    </font></mark><mark style=\"background-color: hsl(0, 75%, 100%); opacity:1.0;                     line-height:1.75\"><font color=\"black\"> other                    </font></mark><mark style=\"background-color: hsl(0, 75%, 96%); opacity:1.0;                     line-height:1.75\"><font color=\"black\"> than                    </font></mark><mark style=\"background-color: hsl(120, 75%, 96%); opacity:1.0;                     line-height:1.75\"><font color=\"black\"> Tesla                    </font></mark><mark style=\"background-color: hsl(120, 75%, 99%); opacity:1.0;                     line-height:1.75\"><font color=\"black\"> did                    </font></mark><mark style=\"background-color: hsl(120, 75%, 90%); opacity:1.0;                     line-height:1.75\"><font color=\"black\"> Westinghouse                    </font></mark><mark style=\"background-color: hsl(120, 75%, 97%); opacity:1.0;                     line-height:1.75\"><font color=\"black\"> consider                    </font></mark><mark style=\"background-color: hsl(0, 75%, 96%); opacity:1.0;                     line-height:1.75\"><font color=\"black\"> for                    </font></mark><mark style=\"background-color: hsl(0, 75%, 97%); opacity:1.0;                     line-height:1.75\"><font color=\"black\"> the                    </font></mark><mark style=\"background-color: hsl(120, 75%, 91%); opacity:1.0;                     line-height:1.75\"><font color=\"black\"> patents?                    </font></mark><mark style=\"background-color: hsl(120, 75%, 99%); opacity:1.0;                     line-height:1.75\"><font color=\"black\"> #/s                    </font></mark><mark style=\"background-color: hsl(0, 75%, 98%); opacity:1.0;                     line-height:1.75\"><font color=\"black\"> #/s                    </font></mark><mark style=\"background-color: hsl(120, 75%, 85%); opacity:1.0;                     line-height:1.75\"><font color=\"black\"> Westinghouse                    </font></mark><mark style=\"background-color: hsl(120, 75%, 100%); opacity:1.0;                     line-height:1.75\"><font color=\"black\"> looked                    </font></mark><mark style=\"background-color: hsl(0, 75%, 99%); opacity:1.0;                     line-height:1.75\"><font color=\"black\"> into                    </font></mark><mark style=\"background-color: hsl(120, 75%, 98%); opacity:1.0;                     line-height:1.75\"><font color=\"black\"> getting                    </font></mark><mark style=\"background-color: hsl(0, 75%, 97%); opacity:1.0;                     line-height:1.75\"><font color=\"black\"> a                    </font></mark><mark style=\"background-color: hsl(0, 75%, 99%); opacity:1.0;                     line-height:1.75\"><font color=\"black\"> patent                    </font></mark><mark style=\"background-color: hsl(120, 75%, 96%); opacity:1.0;                     line-height:1.75\"><font color=\"black\"> on                    </font></mark><mark style=\"background-color: hsl(120, 75%, 100%); opacity:1.0;                     line-height:1.75\"><font color=\"black\"> a                    </font></mark><mark style=\"background-color: hsl(120, 75%, 93%); opacity:1.0;                     line-height:1.75\"><font color=\"black\"> similar                    </font></mark><mark style=\"background-color: hsl(120, 75%, 83%); opacity:1.0;                     line-height:1.75\"><font color=\"black\"> commutator-less,                    </font></mark><mark style=\"background-color: hsl(120, 75%, 99%); opacity:1.0;                     line-height:1.75\"><font color=\"black\"> rotating                    </font></mark><mark style=\"background-color: hsl(0, 75%, 97%); opacity:1.0;                     line-height:1.75\"><font color=\"black\"> magnetic                    </font></mark><mark style=\"background-color: hsl(120, 75%, 97%); opacity:1.0;                     line-height:1.75\"><font color=\"black\"> field-based                    </font></mark><mark style=\"background-color: hsl(120, 75%, 91%); opacity:1.0;                     line-height:1.75\"><font color=\"black\"> induction                    </font></mark><mark style=\"background-color: hsl(0, 75%, 97%); opacity:1.0;                     line-height:1.75\"><font color=\"black\"> motor                    </font></mark><mark style=\"background-color: hsl(0, 75%, 97%); opacity:1.0;                     line-height:1.75\"><font color=\"black\"> presented                    </font></mark><mark style=\"background-color: hsl(0, 75%, 99%); opacity:1.0;                     line-height:1.75\"><font color=\"black\"> in                    </font></mark><mark style=\"background-color: hsl(0, 75%, 98%); opacity:1.0;                     line-height:1.75\"><font color=\"black\"> a                    </font></mark><mark style=\"background-color: hsl(0, 75%, 97%); opacity:1.0;                     line-height:1.75\"><font color=\"black\"> paper                    </font></mark><mark style=\"background-color: hsl(0, 75%, 95%); opacity:1.0;                     line-height:1.75\"><font color=\"black\"> in                    </font></mark><mark style=\"background-color: hsl(120, 75%, 96%); opacity:1.0;                     line-height:1.75\"><font color=\"black\"> March                    </font></mark><mark style=\"background-color: hsl(120, 75%, 95%); opacity:1.0;                     line-height:1.75\"><font color=\"black\"> 1888                    </font></mark><mark style=\"background-color: hsl(120, 75%, 97%); opacity:1.0;                     line-height:1.75\"><font color=\"black\"> by                    </font></mark><mark style=\"background-color: hsl(0, 75%, 97%); opacity:1.0;                     line-height:1.75\"><font color=\"black\"> the                    </font></mark><mark style=\"background-color: hsl(0, 75%, 100%); opacity:1.0;                     line-height:1.75\"><font color=\"black\"> Italian                    </font></mark><mark style=\"background-color: hsl(120, 75%, 93%); opacity:1.0;                     line-height:1.75\"><font color=\"black\"> physicist                    </font></mark><mark style=\"background-color: hsl(0, 75%, 96%); opacity:1.0;                     line-height:1.75\"><font color=\"black\"> Galileo                    </font></mark><mark style=\"background-color: hsl(0, 75%, 98%); opacity:1.0;                     line-height:1.75\"><font color=\"black\"> Ferraris,                    </font></mark><mark style=\"background-color: hsl(0, 75%, 100%); opacity:1.0;                     line-height:1.75\"><font color=\"black\"> but                    </font></mark><mark style=\"background-color: hsl(120, 75%, 99%); opacity:1.0;                     line-height:1.75\"><font color=\"black\"> decided                    </font></mark><mark style=\"background-color: hsl(120, 75%, 85%); opacity:1.0;                     line-height:1.75\"><font color=\"black\"> Tesla's                    </font></mark><mark style=\"background-color: hsl(120, 75%, 98%); opacity:1.0;                     line-height:1.75\"><font color=\"black\"> patent                    </font></mark><mark style=\"background-color: hsl(120, 75%, 98%); opacity:1.0;                     line-height:1.75\"><font color=\"black\"> would                    </font></mark><mark style=\"background-color: hsl(120, 75%, 100%); opacity:1.0;                     line-height:1.75\"><font color=\"black\"> probably                    </font></mark><mark style=\"background-color: hsl(120, 75%, 96%); opacity:1.0;                     line-height:1.75\"><font color=\"black\"> control                    </font></mark><mark style=\"background-color: hsl(0, 75%, 97%); opacity:1.0;                     line-height:1.75\"><font color=\"black\"> the                    </font></mark><mark style=\"background-color: hsl(0, 75%, 98%); opacity:1.0;                     line-height:1.75\"><font color=\"black\"> market.                    </font></mark><mark style=\"background-color: hsl(0, 75%, 99%); opacity:1.0;                     line-height:1.75\"><font color=\"black\"> #/s                    </font></mark></td><tr></table>"
      ],
      "text/plain": [
       "<IPython.core.display.HTML object>"
      ]
     },
     "metadata": {},
     "output_type": "display_data"
    },
    {
     "name": "stderr",
     "output_type": "stream",
     "text": [
      "/home/user/anaconda3/envs/py38/lib/python3.9/site-packages/captum/attr/_core/lime.py:1088: UserWarning: Attempting to construct interpretable model with > 10000 features.This can be very slow or lead to OOM issues. Please provide a featuremask which groups input features to reduce the number of interpretablefeatures. \n",
      "  warnings.warn(\n"
     ]
    },
    {
     "name": "stdout",
     "output_type": "stream",
     "text": [
      "<IPython.core.display.HTML object>\n",
      "i: 20\n",
      "Raw datum: ['What separates the neuroimmune system and peripheral immune system in humans?', 'In humans, the blood–brain barrier, blood–cerebrospinal fluid barrier, and similar fluid–brain barriers separate the peripheral immune system from the neuroimmune system which protects the brain.']\n",
      "GT target: 1\n"
     ]
    },
    {
     "name": "stderr",
     "output_type": "stream",
     "text": [
      "Lime attribution: 100%|███████████████████████████| 3/3 [00:25<00:00,  8.51s/it]\n"
     ]
    },
    {
     "name": "stdout",
     "output_type": "stream",
     "text": [
      "word attr tensor([ 0.1088, -0.0287,  0.4860, -0.0456, -0.0271, -0.0253,  0.1514,  0.0482,\n",
      "        -0.1448,  0.0230,  0.3883,  0.0406, -0.2201,  0.0368, -0.0828,  0.0549,\n",
      "        -0.0067, -0.1264, -0.0022, -0.0945, -0.0465, -0.0500, -0.1431, -0.0980,\n",
      "         0.0979, -0.0090,  0.0697, -0.2840,  0.0495,  0.0821, -0.0257, -0.0998,\n",
      "         0.1093,  0.0081,  0.0962, -0.0777, -0.0470,  0.0656,  0.1312,  0.0211,\n",
      "         0.0084,  0.3454,  0.1426,  0.0507,  0.1914, -0.1315, -0.0584, -0.1586,\n",
      "         0.0056, -0.0595,  0.0619, -0.0111, -0.1019,  0.0792,  0.0585,  0.0600,\n",
      "         0.0821])\n",
      "conti attr [tensor(0.1088), tensor(-0.0287), tensor(0.4860), tensor(-0.0456), tensor(-0.0523), tensor(0.1514), tensor(0.0482), tensor(-0.1448), tensor(0.0230), tensor(0.3883), tensor(0.0406), tensor(-0.1833), tensor(-0.0828), tensor(0.0549), tensor(-0.0067), tensor(-0.1286), tensor(-0.0945), tensor(-0.2396), tensor(-1.2808e-05), tensor(-0.2171), tensor(0.1093), tensor(0.1043), tensor(-0.0777), tensor(-0.0470), tensor(0.2180), tensor(0.0084), tensor(0.3454), tensor(0.1426), tensor(0.0507), tensor(0.1914), tensor(-0.1315), tensor(-0.0584), tensor(-0.1586), tensor(-0.0538), tensor(0.0619), tensor(-0.0111), tensor(-0.1019), tensor(0.0792), tensor(0.1185), tensor(0.0821)]\n",
      "detokenized ['<s>', 'What', 'separates', 'the', 'neuro', 'immune', 'system', 'and', 'peripheral', 'immune', 'system', 'in', 'humans', '?', '</s>', '</s>', 'In', 'humans', ',', 'the', 'blood', 'âĢĵ', 'brain', 'barrier', ',', 'blood', 'âĢĵ', 'ce', 're', 'bro', 'sp', 'inal', 'fluid', 'barrier', ',', 'and', 'similar', 'fluid', 'âĢĵ', 'brain', 'barriers', 'separate', 'the', 'peripheral', 'immune', 'system', 'from', 'the', 'neuro', 'immune', 'system', 'which', 'protects', 'the', 'brain', '.', '</s>']\n",
      "len conti_raw 40\n",
      "conti_raw ['<s>', 'What', 'separates', 'the', 'neuroimmune', 'system', 'and', 'peripheral', 'immune', 'system', 'in', 'humans?', '</s>', '</s>', 'In', 'humans,', 'the', 'bloodâĢĵbrain', 'barrier,', 'bloodâĢĵcerebrospinal', 'fluid', 'barrier,', 'and', 'similar', 'fluidâĢĵbrain', 'barriers', 'separate', 'the', 'peripheral', 'immune', 'system', 'from', 'the', 'neuroimmune', 'system', 'which', 'protects', 'the', 'brain.', '</s>']\n",
      "pred_prob 0.9950190782546997\n"
     ]
    },
    {
     "data": {
      "text/html": [
       "<table width: 100%><div style=\"border-top: 1px solid; margin-top: 5px;             padding-top: 5px; display: inline-block\"><b>Legend: </b><span style=\"display: inline-block; width: 10px; height: 10px;                 border: 1px solid; background-color:                 hsl(0, 75%, 60%)\"></span> Negative  <span style=\"display: inline-block; width: 10px; height: 10px;                 border: 1px solid; background-color:                 hsl(0, 75%, 100%)\"></span> Neutral  <span style=\"display: inline-block; width: 10px; height: 10px;                 border: 1px solid; background-color:                 hsl(120, 75%, 50%)\"></span> Positive  </div><tr><th>True Label</th><th>Predicted Label</th><th>Attribution Label</th><th>Attribution Score</th><th>Word Importance</th><tr><td><text style=\"padding-right:2em\"><b>Entailment</b></text></td><td><text style=\"padding-right:2em\"><b>Entailment (1.00)</b></text></td><td><text style=\"padding-right:2em\"><b>Entailment</b></text></td><td><text style=\"padding-right:2em\"><b>0.95</b></text></td><td><mark style=\"background-color: hsl(120, 75%, 95%); opacity:1.0;                     line-height:1.75\"><font color=\"black\"> #s                    </font></mark><mark style=\"background-color: hsl(0, 75%, 99%); opacity:1.0;                     line-height:1.75\"><font color=\"black\"> What                    </font></mark><mark style=\"background-color: hsl(120, 75%, 76%); opacity:1.0;                     line-height:1.75\"><font color=\"black\"> separates                    </font></mark><mark style=\"background-color: hsl(0, 75%, 99%); opacity:1.0;                     line-height:1.75\"><font color=\"black\"> the                    </font></mark><mark style=\"background-color: hsl(0, 75%, 98%); opacity:1.0;                     line-height:1.75\"><font color=\"black\"> neuroimmune                    </font></mark><mark style=\"background-color: hsl(120, 75%, 93%); opacity:1.0;                     line-height:1.75\"><font color=\"black\"> system                    </font></mark><mark style=\"background-color: hsl(120, 75%, 98%); opacity:1.0;                     line-height:1.75\"><font color=\"black\"> and                    </font></mark><mark style=\"background-color: hsl(0, 75%, 95%); opacity:1.0;                     line-height:1.75\"><font color=\"black\"> peripheral                    </font></mark><mark style=\"background-color: hsl(120, 75%, 99%); opacity:1.0;                     line-height:1.75\"><font color=\"black\"> immune                    </font></mark><mark style=\"background-color: hsl(120, 75%, 81%); opacity:1.0;                     line-height:1.75\"><font color=\"black\"> system                    </font></mark><mark style=\"background-color: hsl(120, 75%, 98%); opacity:1.0;                     line-height:1.75\"><font color=\"black\"> in                    </font></mark><mark style=\"background-color: hsl(0, 75%, 93%); opacity:1.0;                     line-height:1.75\"><font color=\"black\"> humans?                    </font></mark><mark style=\"background-color: hsl(0, 75%, 97%); opacity:1.0;                     line-height:1.75\"><font color=\"black\"> #/s                    </font></mark><mark style=\"background-color: hsl(120, 75%, 98%); opacity:1.0;                     line-height:1.75\"><font color=\"black\"> #/s                    </font></mark><mark style=\"background-color: hsl(0, 75%, 100%); opacity:1.0;                     line-height:1.75\"><font color=\"black\"> In                    </font></mark><mark style=\"background-color: hsl(0, 75%, 95%); opacity:1.0;                     line-height:1.75\"><font color=\"black\"> humans,                    </font></mark><mark style=\"background-color: hsl(0, 75%, 97%); opacity:1.0;                     line-height:1.75\"><font color=\"black\"> the                    </font></mark><mark style=\"background-color: hsl(0, 75%, 91%); opacity:1.0;                     line-height:1.75\"><font color=\"black\"> bloodâĢĵbrain                    </font></mark><mark style=\"background-color: hsl(0, 75%, 100%); opacity:1.0;                     line-height:1.75\"><font color=\"black\"> barrier,                    </font></mark><mark style=\"background-color: hsl(0, 75%, 92%); opacity:1.0;                     line-height:1.75\"><font color=\"black\"> bloodâĢĵcerebrospinal                    </font></mark><mark style=\"background-color: hsl(120, 75%, 95%); opacity:1.0;                     line-height:1.75\"><font color=\"black\"> fluid                    </font></mark><mark style=\"background-color: hsl(120, 75%, 95%); opacity:1.0;                     line-height:1.75\"><font color=\"black\"> barrier,                    </font></mark><mark style=\"background-color: hsl(0, 75%, 97%); opacity:1.0;                     line-height:1.75\"><font color=\"black\"> and                    </font></mark><mark style=\"background-color: hsl(0, 75%, 99%); opacity:1.0;                     line-height:1.75\"><font color=\"black\"> similar                    </font></mark><mark style=\"background-color: hsl(120, 75%, 90%); opacity:1.0;                     line-height:1.75\"><font color=\"black\"> fluidâĢĵbrain                    </font></mark><mark style=\"background-color: hsl(120, 75%, 100%); opacity:1.0;                     line-height:1.75\"><font color=\"black\"> barriers                    </font></mark><mark style=\"background-color: hsl(120, 75%, 83%); opacity:1.0;                     line-height:1.75\"><font color=\"black\"> separate                    </font></mark><mark style=\"background-color: hsl(120, 75%, 93%); opacity:1.0;                     line-height:1.75\"><font color=\"black\"> the                    </font></mark><mark style=\"background-color: hsl(120, 75%, 98%); opacity:1.0;                     line-height:1.75\"><font color=\"black\"> peripheral                    </font></mark><mark style=\"background-color: hsl(120, 75%, 91%); opacity:1.0;                     line-height:1.75\"><font color=\"black\"> immune                    </font></mark><mark style=\"background-color: hsl(0, 75%, 95%); opacity:1.0;                     line-height:1.75\"><font color=\"black\"> system                    </font></mark><mark style=\"background-color: hsl(0, 75%, 98%); opacity:1.0;                     line-height:1.75\"><font color=\"black\"> from                    </font></mark><mark style=\"background-color: hsl(0, 75%, 94%); opacity:1.0;                     line-height:1.75\"><font color=\"black\"> the                    </font></mark><mark style=\"background-color: hsl(0, 75%, 98%); opacity:1.0;                     line-height:1.75\"><font color=\"black\"> neuroimmune                    </font></mark><mark style=\"background-color: hsl(120, 75%, 97%); opacity:1.0;                     line-height:1.75\"><font color=\"black\"> system                    </font></mark><mark style=\"background-color: hsl(0, 75%, 100%); opacity:1.0;                     line-height:1.75\"><font color=\"black\"> which                    </font></mark><mark style=\"background-color: hsl(0, 75%, 96%); opacity:1.0;                     line-height:1.75\"><font color=\"black\"> protects                    </font></mark><mark style=\"background-color: hsl(120, 75%, 97%); opacity:1.0;                     line-height:1.75\"><font color=\"black\"> the                    </font></mark><mark style=\"background-color: hsl(120, 75%, 95%); opacity:1.0;                     line-height:1.75\"><font color=\"black\"> brain.                    </font></mark><mark style=\"background-color: hsl(120, 75%, 96%); opacity:1.0;                     line-height:1.75\"><font color=\"black\"> #/s                    </font></mark></td><tr></table>"
      ],
      "text/plain": [
       "<IPython.core.display.HTML object>"
      ]
     },
     "metadata": {},
     "output_type": "display_data"
    },
    {
     "name": "stderr",
     "output_type": "stream",
     "text": [
      "/home/user/anaconda3/envs/py38/lib/python3.9/site-packages/captum/attr/_core/lime.py:1088: UserWarning: Attempting to construct interpretable model with > 10000 features.This can be very slow or lead to OOM issues. Please provide a featuremask which groups input features to reduce the number of interpretablefeatures. \n",
      "  warnings.warn(\n"
     ]
    },
    {
     "name": "stdout",
     "output_type": "stream",
     "text": [
      "<IPython.core.display.HTML object>\n",
      "i: 21\n",
      "Raw datum: [\"What did Kublai's government have to balance between?\", \"Kublai's government after 1262 was a compromise between preserving Mongol interests in China and satisfying the demands of his Chinese subjects.\"]\n",
      "GT target: 1\n"
     ]
    },
    {
     "name": "stderr",
     "output_type": "stream",
     "text": [
      "Lime attribution: 100%|███████████████████████████| 3/3 [00:18<00:00,  6.20s/it]\n"
     ]
    },
    {
     "name": "stdout",
     "output_type": "stream",
     "text": [
      "word attr tensor([ 0.1134, -0.0935,  0.0169,  0.0347, -0.1357, -0.0844,  0.0868,  0.0181,\n",
      "         0.0013,  0.2309,  0.1884,  0.5928, -0.0849, -0.0610,  0.1740,  0.0071,\n",
      "        -0.0435, -0.0433, -0.0410, -0.0826, -0.0032, -0.0836,  0.1267, -0.0498,\n",
      "        -0.0514,  0.0405,  0.1119,  0.5243, -0.0893, -0.1643,  0.1306, -0.1753,\n",
      "        -0.0189,  0.0024,  0.0361, -0.0344, -0.1273,  0.0084,  0.1058,  0.1073,\n",
      "        -0.0156,  0.0573,  0.0667])\n",
      "conti attr [tensor(0.1134), tensor(-0.0935), tensor(0.0169), tensor(-0.0986), tensor(0.0181), tensor(0.0013), tensor(0.2309), tensor(0.1884), tensor(0.5079), tensor(-0.0610), tensor(0.1740), tensor(-0.2033), tensor(-0.0032), tensor(-0.0836), tensor(0.0769), tensor(-0.0514), tensor(0.0405), tensor(0.1119), tensor(0.5243), tensor(-0.0893), tensor(-0.1643), tensor(0.1306), tensor(-0.1753), tensor(-0.0189), tensor(0.0024), tensor(0.0361), tensor(-0.0344), tensor(-0.1273), tensor(0.0084), tensor(0.1058), tensor(0.1073), tensor(0.0417), tensor(0.0667)]\n",
      "detokenized ['<s>', 'What', 'did', 'Kub', 'l', 'ai', \"'s\", 'government', 'have', 'to', 'balance', 'between', '?', '</s>', '</s>', 'K', 'ub', 'l', 'ai', \"'s\", 'government', 'after', '12', '62', 'was', 'a', 'compromise', 'between', 'preserving', 'Mongol', 'interests', 'in', 'China', 'and', 'satisfying', 'the', 'demands', 'of', 'his', 'Chinese', 'subjects', '.', '</s>']\n",
      "len conti_raw 33\n",
      "conti_raw ['<s>', 'What', 'did', \"Kublai's\", 'government', 'have', 'to', 'balance', 'between?', '</s>', '</s>', \"Kublai's\", 'government', 'after', '1262', 'was', 'a', 'compromise', 'between', 'preserving', 'Mongol', 'interests', 'in', 'China', 'and', 'satisfying', 'the', 'demands', 'of', 'his', 'Chinese', 'subjects.', '</s>']\n",
      "pred_prob 0.9932367205619812\n"
     ]
    },
    {
     "data": {
      "text/html": [
       "<table width: 100%><div style=\"border-top: 1px solid; margin-top: 5px;             padding-top: 5px; display: inline-block\"><b>Legend: </b><span style=\"display: inline-block; width: 10px; height: 10px;                 border: 1px solid; background-color:                 hsl(0, 75%, 60%)\"></span> Negative  <span style=\"display: inline-block; width: 10px; height: 10px;                 border: 1px solid; background-color:                 hsl(0, 75%, 100%)\"></span> Neutral  <span style=\"display: inline-block; width: 10px; height: 10px;                 border: 1px solid; background-color:                 hsl(120, 75%, 50%)\"></span> Positive  </div><tr><th>True Label</th><th>Predicted Label</th><th>Attribution Label</th><th>Attribution Score</th><th>Word Importance</th><tr><td><text style=\"padding-right:2em\"><b>Entailment</b></text></td><td><text style=\"padding-right:2em\"><b>Entailment (0.99)</b></text></td><td><text style=\"padding-right:2em\"><b>Entailment</b></text></td><td><text style=\"padding-right:2em\"><b>1.30</b></text></td><td><mark style=\"background-color: hsl(120, 75%, 95%); opacity:1.0;                     line-height:1.75\"><font color=\"black\"> #s                    </font></mark><mark style=\"background-color: hsl(0, 75%, 97%); opacity:1.0;                     line-height:1.75\"><font color=\"black\"> What                    </font></mark><mark style=\"background-color: hsl(120, 75%, 100%); opacity:1.0;                     line-height:1.75\"><font color=\"black\"> did                    </font></mark><mark style=\"background-color: hsl(0, 75%, 97%); opacity:1.0;                     line-height:1.75\"><font color=\"black\"> Kublai's                    </font></mark><mark style=\"background-color: hsl(120, 75%, 100%); opacity:1.0;                     line-height:1.75\"><font color=\"black\"> government                    </font></mark><mark style=\"background-color: hsl(120, 75%, 100%); opacity:1.0;                     line-height:1.75\"><font color=\"black\"> have                    </font></mark><mark style=\"background-color: hsl(120, 75%, 89%); opacity:1.0;                     line-height:1.75\"><font color=\"black\"> to                    </font></mark><mark style=\"background-color: hsl(120, 75%, 91%); opacity:1.0;                     line-height:1.75\"><font color=\"black\"> balance                    </font></mark><mark style=\"background-color: hsl(120, 75%, 75%); opacity:1.0;                     line-height:1.75\"><font color=\"black\"> between?                    </font></mark><mark style=\"background-color: hsl(0, 75%, 98%); opacity:1.0;                     line-height:1.75\"><font color=\"black\"> #/s                    </font></mark><mark style=\"background-color: hsl(120, 75%, 92%); opacity:1.0;                     line-height:1.75\"><font color=\"black\"> #/s                    </font></mark><mark style=\"background-color: hsl(0, 75%, 92%); opacity:1.0;                     line-height:1.75\"><font color=\"black\"> Kublai's                    </font></mark><mark style=\"background-color: hsl(0, 75%, 100%); opacity:1.0;                     line-height:1.75\"><font color=\"black\"> government                    </font></mark><mark style=\"background-color: hsl(0, 75%, 97%); opacity:1.0;                     line-height:1.75\"><font color=\"black\"> after                    </font></mark><mark style=\"background-color: hsl(120, 75%, 97%); opacity:1.0;                     line-height:1.75\"><font color=\"black\"> 1262                    </font></mark><mark style=\"background-color: hsl(0, 75%, 98%); opacity:1.0;                     line-height:1.75\"><font color=\"black\"> was                    </font></mark><mark style=\"background-color: hsl(120, 75%, 98%); opacity:1.0;                     line-height:1.75\"><font color=\"black\"> a                    </font></mark><mark style=\"background-color: hsl(120, 75%, 95%); opacity:1.0;                     line-height:1.75\"><font color=\"black\"> compromise                    </font></mark><mark style=\"background-color: hsl(120, 75%, 74%); opacity:1.0;                     line-height:1.75\"><font color=\"black\"> between                    </font></mark><mark style=\"background-color: hsl(0, 75%, 97%); opacity:1.0;                     line-height:1.75\"><font color=\"black\"> preserving                    </font></mark><mark style=\"background-color: hsl(0, 75%, 94%); opacity:1.0;                     line-height:1.75\"><font color=\"black\"> Mongol                    </font></mark><mark style=\"background-color: hsl(120, 75%, 94%); opacity:1.0;                     line-height:1.75\"><font color=\"black\"> interests                    </font></mark><mark style=\"background-color: hsl(0, 75%, 93%); opacity:1.0;                     line-height:1.75\"><font color=\"black\"> in                    </font></mark><mark style=\"background-color: hsl(0, 75%, 100%); opacity:1.0;                     line-height:1.75\"><font color=\"black\"> China                    </font></mark><mark style=\"background-color: hsl(120, 75%, 100%); opacity:1.0;                     line-height:1.75\"><font color=\"black\"> and                    </font></mark><mark style=\"background-color: hsl(120, 75%, 99%); opacity:1.0;                     line-height:1.75\"><font color=\"black\"> satisfying                    </font></mark><mark style=\"background-color: hsl(0, 75%, 99%); opacity:1.0;                     line-height:1.75\"><font color=\"black\"> the                    </font></mark><mark style=\"background-color: hsl(0, 75%, 95%); opacity:1.0;                     line-height:1.75\"><font color=\"black\"> demands                    </font></mark><mark style=\"background-color: hsl(120, 75%, 100%); opacity:1.0;                     line-height:1.75\"><font color=\"black\"> of                    </font></mark><mark style=\"background-color: hsl(120, 75%, 95%); opacity:1.0;                     line-height:1.75\"><font color=\"black\"> his                    </font></mark><mark style=\"background-color: hsl(120, 75%, 95%); opacity:1.0;                     line-height:1.75\"><font color=\"black\"> Chinese                    </font></mark><mark style=\"background-color: hsl(120, 75%, 98%); opacity:1.0;                     line-height:1.75\"><font color=\"black\"> subjects.                    </font></mark><mark style=\"background-color: hsl(120, 75%, 97%); opacity:1.0;                     line-height:1.75\"><font color=\"black\"> #/s                    </font></mark></td><tr></table>"
      ],
      "text/plain": [
       "<IPython.core.display.HTML object>"
      ]
     },
     "metadata": {},
     "output_type": "display_data"
    },
    {
     "name": "stderr",
     "output_type": "stream",
     "text": [
      "/home/user/anaconda3/envs/py38/lib/python3.9/site-packages/captum/attr/_core/lime.py:1088: UserWarning: Attempting to construct interpretable model with > 10000 features.This can be very slow or lead to OOM issues. Please provide a featuremask which groups input features to reduce the number of interpretablefeatures. \n",
      "  warnings.warn(\n"
     ]
    },
    {
     "name": "stdout",
     "output_type": "stream",
     "text": [
      "<IPython.core.display.HTML object>\n",
      "i: 22\n",
      "Raw datum: [\"What did Gasquet's book blame the plague on?\", 'The historian Francis Aidan Gasquet wrote about the \\'Great Pestilence\\' in 1893 and suggested that \"it would appear to be some form of the ordinary Eastern or bubonic plague\".']\n",
      "GT target: 0\n"
     ]
    },
    {
     "name": "stderr",
     "output_type": "stream",
     "text": [
      "Lime attribution: 100%|███████████████████████████| 3/3 [00:23<00:00,  7.94s/it]\n"
     ]
    },
    {
     "name": "stdout",
     "output_type": "stream",
     "text": [
      "word attr tensor([-0.0297,  0.1222,  0.0224,  0.2726,  0.2768,  0.2311,  0.1496,  0.2890,\n",
      "         0.0817,  0.0004, -0.0364, -0.1353,  0.1728, -0.0439,  0.0154, -0.2182,\n",
      "        -0.1310,  0.0755, -0.0552,  0.0808,  0.1313, -0.1933, -0.0140,  0.1094,\n",
      "         0.0143, -0.0732,  0.0092,  0.0943,  0.1943, -0.1547,  0.2016, -0.2962,\n",
      "        -0.0354, -0.0290, -0.0379,  0.0769,  0.0354, -0.0140,  0.1606,  0.1929,\n",
      "        -0.1280, -0.0679,  0.1042, -0.1851, -0.1564, -0.1634, -0.0421, -0.1108,\n",
      "         0.1374,  0.0714,  0.0848,  0.1484, -0.0725, -0.0084])\n",
      "conti attr [tensor(-0.0297), tensor(0.1222), tensor(0.0224), tensor(0.7805), tensor(0.1496), tensor(0.2890), tensor(0.0817), tensor(0.0004), tensor(-0.1718), tensor(0.1728), tensor(-0.0439), tensor(0.0154), tensor(-0.2182), tensor(-0.1310), tensor(0.0203), tensor(0.2121), tensor(-0.1933), tensor(-0.0140), tensor(0.1094), tensor(-0.0589), tensor(0.3447), tensor(-0.2962), tensor(-0.0354), tensor(-0.0290), tensor(-0.0379), tensor(0.0769), tensor(0.0214), tensor(0.1606), tensor(0.1929), tensor(-0.1280), tensor(-0.0679), tensor(0.1042), tensor(-0.1851), tensor(-0.1564), tensor(-0.1634), tensor(-0.0421), tensor(-0.1108), tensor(0.1374), tensor(0.1562), tensor(0.0759), tensor(-0.0084)]\n",
      "detokenized ['<s>', 'What', 'did', 'Gas', 'quet', \"'s\", 'book', 'blame', 'the', 'plague', 'on', '?', '</s>', '</s>', 'The', 'historian', 'Francis', 'Aid', 'an', 'Gas', 'quet', 'wrote', 'about', 'the', \"'\", 'Great', 'P', 'est', 'il', 'ence', \"'\", 'in', '1893', 'and', 'suggested', 'that', '\"', 'it', 'would', 'appear', 'to', 'be', 'some', 'form', 'of', 'the', 'ordinary', 'Eastern', 'or', 'bub', 'onic', 'plague', '\".', '</s>']\n",
      "len conti_raw 41\n",
      "conti_raw ['<s>', 'What', 'did', \"Gasquet's\", 'book', 'blame', 'the', 'plague', 'on?', '</s>', '</s>', 'The', 'historian', 'Francis', 'Aidan', 'Gasquet', 'wrote', 'about', 'the', \"'Great\", \"Pestilence'\", 'in', '1893', 'and', 'suggested', 'that', '\"it', 'would', 'appear', 'to', 'be', 'some', 'form', 'of', 'the', 'ordinary', 'Eastern', 'or', 'bubonic', 'plague\".', '</s>']\n",
      "pred_prob 0.019122213125228882\n"
     ]
    },
    {
     "data": {
      "text/html": [
       "<table width: 100%><div style=\"border-top: 1px solid; margin-top: 5px;             padding-top: 5px; display: inline-block\"><b>Legend: </b><span style=\"display: inline-block; width: 10px; height: 10px;                 border: 1px solid; background-color:                 hsl(0, 75%, 60%)\"></span> Negative  <span style=\"display: inline-block; width: 10px; height: 10px;                 border: 1px solid; background-color:                 hsl(0, 75%, 100%)\"></span> Neutral  <span style=\"display: inline-block; width: 10px; height: 10px;                 border: 1px solid; background-color:                 hsl(120, 75%, 50%)\"></span> Positive  </div><tr><th>True Label</th><th>Predicted Label</th><th>Attribution Label</th><th>Attribution Score</th><th>Word Importance</th><tr><td><text style=\"padding-right:2em\"><b>No Entailment</b></text></td><td><text style=\"padding-right:2em\"><b>No Entailment (0.02)</b></text></td><td><text style=\"padding-right:2em\"><b>Entailment</b></text></td><td><text style=\"padding-right:2em\"><b>1.12</b></text></td><td><mark style=\"background-color: hsl(0, 75%, 99%); opacity:1.0;                     line-height:1.75\"><font color=\"black\"> #s                    </font></mark><mark style=\"background-color: hsl(120, 75%, 94%); opacity:1.0;                     line-height:1.75\"><font color=\"black\"> What                    </font></mark><mark style=\"background-color: hsl(120, 75%, 99%); opacity:1.0;                     line-height:1.75\"><font color=\"black\"> did                    </font></mark><mark style=\"background-color: hsl(120, 75%, 61%); opacity:1.0;                     line-height:1.75\"><font color=\"black\"> Gasquet's                    </font></mark><mark style=\"background-color: hsl(120, 75%, 93%); opacity:1.0;                     line-height:1.75\"><font color=\"black\"> book                    </font></mark><mark style=\"background-color: hsl(120, 75%, 86%); opacity:1.0;                     line-height:1.75\"><font color=\"black\"> blame                    </font></mark><mark style=\"background-color: hsl(120, 75%, 96%); opacity:1.0;                     line-height:1.75\"><font color=\"black\"> the                    </font></mark><mark style=\"background-color: hsl(120, 75%, 100%); opacity:1.0;                     line-height:1.75\"><font color=\"black\"> plague                    </font></mark><mark style=\"background-color: hsl(0, 75%, 94%); opacity:1.0;                     line-height:1.75\"><font color=\"black\"> on?                    </font></mark><mark style=\"background-color: hsl(120, 75%, 92%); opacity:1.0;                     line-height:1.75\"><font color=\"black\"> #/s                    </font></mark><mark style=\"background-color: hsl(0, 75%, 99%); opacity:1.0;                     line-height:1.75\"><font color=\"black\"> #/s                    </font></mark><mark style=\"background-color: hsl(120, 75%, 100%); opacity:1.0;                     line-height:1.75\"><font color=\"black\"> The                    </font></mark><mark style=\"background-color: hsl(0, 75%, 92%); opacity:1.0;                     line-height:1.75\"><font color=\"black\"> historian                    </font></mark><mark style=\"background-color: hsl(0, 75%, 95%); opacity:1.0;                     line-height:1.75\"><font color=\"black\"> Francis                    </font></mark><mark style=\"background-color: hsl(120, 75%, 99%); opacity:1.0;                     line-height:1.75\"><font color=\"black\"> Aidan                    </font></mark><mark style=\"background-color: hsl(120, 75%, 90%); opacity:1.0;                     line-height:1.75\"><font color=\"black\"> Gasquet                    </font></mark><mark style=\"background-color: hsl(0, 75%, 93%); opacity:1.0;                     line-height:1.75\"><font color=\"black\"> wrote                    </font></mark><mark style=\"background-color: hsl(0, 75%, 100%); opacity:1.0;                     line-height:1.75\"><font color=\"black\"> about                    </font></mark><mark style=\"background-color: hsl(120, 75%, 95%); opacity:1.0;                     line-height:1.75\"><font color=\"black\"> the                    </font></mark><mark style=\"background-color: hsl(0, 75%, 98%); opacity:1.0;                     line-height:1.75\"><font color=\"black\"> 'Great                    </font></mark><mark style=\"background-color: hsl(120, 75%, 83%); opacity:1.0;                     line-height:1.75\"><font color=\"black\"> Pestilence'                    </font></mark><mark style=\"background-color: hsl(0, 75%, 89%); opacity:1.0;                     line-height:1.75\"><font color=\"black\"> in                    </font></mark><mark style=\"background-color: hsl(0, 75%, 99%); opacity:1.0;                     line-height:1.75\"><font color=\"black\"> 1893                    </font></mark><mark style=\"background-color: hsl(0, 75%, 99%); opacity:1.0;                     line-height:1.75\"><font color=\"black\"> and                    </font></mark><mark style=\"background-color: hsl(0, 75%, 99%); opacity:1.0;                     line-height:1.75\"><font color=\"black\"> suggested                    </font></mark><mark style=\"background-color: hsl(120, 75%, 97%); opacity:1.0;                     line-height:1.75\"><font color=\"black\"> that                    </font></mark><mark style=\"background-color: hsl(120, 75%, 99%); opacity:1.0;                     line-height:1.75\"><font color=\"black\"> \"it                    </font></mark><mark style=\"background-color: hsl(120, 75%, 92%); opacity:1.0;                     line-height:1.75\"><font color=\"black\"> would                    </font></mark><mark style=\"background-color: hsl(120, 75%, 91%); opacity:1.0;                     line-height:1.75\"><font color=\"black\"> appear                    </font></mark><mark style=\"background-color: hsl(0, 75%, 95%); opacity:1.0;                     line-height:1.75\"><font color=\"black\"> to                    </font></mark><mark style=\"background-color: hsl(0, 75%, 98%); opacity:1.0;                     line-height:1.75\"><font color=\"black\"> be                    </font></mark><mark style=\"background-color: hsl(120, 75%, 95%); opacity:1.0;                     line-height:1.75\"><font color=\"black\"> some                    </font></mark><mark style=\"background-color: hsl(0, 75%, 93%); opacity:1.0;                     line-height:1.75\"><font color=\"black\"> form                    </font></mark><mark style=\"background-color: hsl(0, 75%, 94%); opacity:1.0;                     line-height:1.75\"><font color=\"black\"> of                    </font></mark><mark style=\"background-color: hsl(0, 75%, 94%); opacity:1.0;                     line-height:1.75\"><font color=\"black\"> the                    </font></mark><mark style=\"background-color: hsl(0, 75%, 99%); opacity:1.0;                     line-height:1.75\"><font color=\"black\"> ordinary                    </font></mark><mark style=\"background-color: hsl(0, 75%, 96%); opacity:1.0;                     line-height:1.75\"><font color=\"black\"> Eastern                    </font></mark><mark style=\"background-color: hsl(120, 75%, 94%); opacity:1.0;                     line-height:1.75\"><font color=\"black\"> or                    </font></mark><mark style=\"background-color: hsl(120, 75%, 93%); opacity:1.0;                     line-height:1.75\"><font color=\"black\"> bubonic                    </font></mark><mark style=\"background-color: hsl(120, 75%, 97%); opacity:1.0;                     line-height:1.75\"><font color=\"black\"> plague\".                    </font></mark><mark style=\"background-color: hsl(0, 75%, 100%); opacity:1.0;                     line-height:1.75\"><font color=\"black\"> #/s                    </font></mark></td><tr></table>"
      ],
      "text/plain": [
       "<IPython.core.display.HTML object>"
      ]
     },
     "metadata": {},
     "output_type": "display_data"
    },
    {
     "name": "stderr",
     "output_type": "stream",
     "text": [
      "/home/user/anaconda3/envs/py38/lib/python3.9/site-packages/captum/attr/_core/lime.py:1088: UserWarning: Attempting to construct interpretable model with > 10000 features.This can be very slow or lead to OOM issues. Please provide a featuremask which groups input features to reduce the number of interpretablefeatures. \n",
      "  warnings.warn(\n"
     ]
    },
    {
     "name": "stdout",
     "output_type": "stream",
     "text": [
      "<IPython.core.display.HTML object>\n",
      "i: 23\n",
      "Raw datum: ['Who shared sideline duties with Evan Washburn?', 'In the United States, the game was televised by CBS, as part of a cycle between the three main broadcast television partners of the NFL.']\n",
      "GT target: 0\n"
     ]
    },
    {
     "name": "stderr",
     "output_type": "stream",
     "text": [
      "Lime attribution: 100%|███████████████████████████| 3/3 [00:17<00:00,  5.81s/it]\n"
     ]
    },
    {
     "name": "stdout",
     "output_type": "stream",
     "text": [
      "nan attri score\n",
      "word attr tensor([0., 0., 0., 0., 0., 0., 0., 0., 0., 0., 0., 0., 0., 0., 0., 0., 0., 0., 0., 0., 0., 0., 0., 0.,\n",
      "        0., 0., 0., 0., 0., 0., 0., 0., 0., 0., 0., 0., 0., 0., 0., 0., 0.])\n",
      "conti attr [tensor(0.), tensor(0.), tensor(0.), tensor(0.), tensor(0.), tensor(0.), tensor(0.), tensor(0.), tensor(0.), tensor(0.), tensor(0.), tensor(0.), tensor(0.), tensor(0.), tensor(0.), tensor(0.), tensor(0.), tensor(0.), tensor(0.), tensor(0.), tensor(0.), tensor(0.), tensor(0.), tensor(0.), tensor(0.), tensor(0.), tensor(0.), tensor(0.), tensor(0.), tensor(0.), tensor(0.), tensor(0.), tensor(0.), tensor(0.), tensor(0.), tensor(0.)]\n",
      "detokenized ['<s>', 'Who', 'shared', 'sideline', 'duties', 'with', 'Evan', 'Wash', 'burn', '?', '</s>', '</s>', 'In', 'the', 'United', 'States', ',', 'the', 'game', 'was', 'televised', 'by', 'CBS', ',', 'as', 'part', 'of', 'a', 'cycle', 'between', 'the', 'three', 'main', 'broadcast', 'television', 'partners', 'of', 'the', 'NFL', '.', '</s>']\n",
      "len conti_raw 36\n",
      "conti_raw ['<s>', 'Who', 'shared', 'sideline', 'duties', 'with', 'Evan', 'Washburn?', '</s>', '</s>', 'In', 'the', 'United', 'States,', 'the', 'game', 'was', 'televised', 'by', 'CBS,', 'as', 'part', 'of', 'a', 'cycle', 'between', 'the', 'three', 'main', 'broadcast', 'television', 'partners', 'of', 'the', 'NFL.', '</s>']\n",
      "pred_prob 0.0016519827768206596\n"
     ]
    },
    {
     "data": {
      "text/html": [
       "<table width: 100%><div style=\"border-top: 1px solid; margin-top: 5px;             padding-top: 5px; display: inline-block\"><b>Legend: </b><span style=\"display: inline-block; width: 10px; height: 10px;                 border: 1px solid; background-color:                 hsl(0, 75%, 60%)\"></span> Negative  <span style=\"display: inline-block; width: 10px; height: 10px;                 border: 1px solid; background-color:                 hsl(0, 75%, 100%)\"></span> Neutral  <span style=\"display: inline-block; width: 10px; height: 10px;                 border: 1px solid; background-color:                 hsl(120, 75%, 50%)\"></span> Positive  </div><tr><th>True Label</th><th>Predicted Label</th><th>Attribution Label</th><th>Attribution Score</th><th>Word Importance</th><tr><td><text style=\"padding-right:2em\"><b>No Entailment</b></text></td><td><text style=\"padding-right:2em\"><b>No Entailment (0.00)</b></text></td><td><text style=\"padding-right:2em\"><b>Entailment</b></text></td><td><text style=\"padding-right:2em\"><b>nan</b></text></td><td><mark style=\"background-color: hsl(0, 75%, 100%); opacity:1.0;                     line-height:1.75\"><font color=\"black\"> #s                    </font></mark><mark style=\"background-color: hsl(0, 75%, 100%); opacity:1.0;                     line-height:1.75\"><font color=\"black\"> Who                    </font></mark><mark style=\"background-color: hsl(0, 75%, 100%); opacity:1.0;                     line-height:1.75\"><font color=\"black\"> shared                    </font></mark><mark style=\"background-color: hsl(0, 75%, 100%); opacity:1.0;                     line-height:1.75\"><font color=\"black\"> sideline                    </font></mark><mark style=\"background-color: hsl(0, 75%, 100%); opacity:1.0;                     line-height:1.75\"><font color=\"black\"> duties                    </font></mark><mark style=\"background-color: hsl(0, 75%, 100%); opacity:1.0;                     line-height:1.75\"><font color=\"black\"> with                    </font></mark><mark style=\"background-color: hsl(0, 75%, 100%); opacity:1.0;                     line-height:1.75\"><font color=\"black\"> Evan                    </font></mark><mark style=\"background-color: hsl(0, 75%, 100%); opacity:1.0;                     line-height:1.75\"><font color=\"black\"> Washburn?                    </font></mark><mark style=\"background-color: hsl(0, 75%, 100%); opacity:1.0;                     line-height:1.75\"><font color=\"black\"> #/s                    </font></mark><mark style=\"background-color: hsl(0, 75%, 100%); opacity:1.0;                     line-height:1.75\"><font color=\"black\"> #/s                    </font></mark><mark style=\"background-color: hsl(0, 75%, 100%); opacity:1.0;                     line-height:1.75\"><font color=\"black\"> In                    </font></mark><mark style=\"background-color: hsl(0, 75%, 100%); opacity:1.0;                     line-height:1.75\"><font color=\"black\"> the                    </font></mark><mark style=\"background-color: hsl(0, 75%, 100%); opacity:1.0;                     line-height:1.75\"><font color=\"black\"> United                    </font></mark><mark style=\"background-color: hsl(0, 75%, 100%); opacity:1.0;                     line-height:1.75\"><font color=\"black\"> States,                    </font></mark><mark style=\"background-color: hsl(0, 75%, 100%); opacity:1.0;                     line-height:1.75\"><font color=\"black\"> the                    </font></mark><mark style=\"background-color: hsl(0, 75%, 100%); opacity:1.0;                     line-height:1.75\"><font color=\"black\"> game                    </font></mark><mark style=\"background-color: hsl(0, 75%, 100%); opacity:1.0;                     line-height:1.75\"><font color=\"black\"> was                    </font></mark><mark style=\"background-color: hsl(0, 75%, 100%); opacity:1.0;                     line-height:1.75\"><font color=\"black\"> televised                    </font></mark><mark style=\"background-color: hsl(0, 75%, 100%); opacity:1.0;                     line-height:1.75\"><font color=\"black\"> by                    </font></mark><mark style=\"background-color: hsl(0, 75%, 100%); opacity:1.0;                     line-height:1.75\"><font color=\"black\"> CBS,                    </font></mark><mark style=\"background-color: hsl(0, 75%, 100%); opacity:1.0;                     line-height:1.75\"><font color=\"black\"> as                    </font></mark><mark style=\"background-color: hsl(0, 75%, 100%); opacity:1.0;                     line-height:1.75\"><font color=\"black\"> part                    </font></mark><mark style=\"background-color: hsl(0, 75%, 100%); opacity:1.0;                     line-height:1.75\"><font color=\"black\"> of                    </font></mark><mark style=\"background-color: hsl(0, 75%, 100%); opacity:1.0;                     line-height:1.75\"><font color=\"black\"> a                    </font></mark><mark style=\"background-color: hsl(0, 75%, 100%); opacity:1.0;                     line-height:1.75\"><font color=\"black\"> cycle                    </font></mark><mark style=\"background-color: hsl(0, 75%, 100%); opacity:1.0;                     line-height:1.75\"><font color=\"black\"> between                    </font></mark><mark style=\"background-color: hsl(0, 75%, 100%); opacity:1.0;                     line-height:1.75\"><font color=\"black\"> the                    </font></mark><mark style=\"background-color: hsl(0, 75%, 100%); opacity:1.0;                     line-height:1.75\"><font color=\"black\"> three                    </font></mark><mark style=\"background-color: hsl(0, 75%, 100%); opacity:1.0;                     line-height:1.75\"><font color=\"black\"> main                    </font></mark><mark style=\"background-color: hsl(0, 75%, 100%); opacity:1.0;                     line-height:1.75\"><font color=\"black\"> broadcast                    </font></mark><mark style=\"background-color: hsl(0, 75%, 100%); opacity:1.0;                     line-height:1.75\"><font color=\"black\"> television                    </font></mark><mark style=\"background-color: hsl(0, 75%, 100%); opacity:1.0;                     line-height:1.75\"><font color=\"black\"> partners                    </font></mark><mark style=\"background-color: hsl(0, 75%, 100%); opacity:1.0;                     line-height:1.75\"><font color=\"black\"> of                    </font></mark><mark style=\"background-color: hsl(0, 75%, 100%); opacity:1.0;                     line-height:1.75\"><font color=\"black\"> the                    </font></mark><mark style=\"background-color: hsl(0, 75%, 100%); opacity:1.0;                     line-height:1.75\"><font color=\"black\"> NFL.                    </font></mark><mark style=\"background-color: hsl(0, 75%, 100%); opacity:1.0;                     line-height:1.75\"><font color=\"black\"> #/s                    </font></mark></td><tr></table>"
      ],
      "text/plain": [
       "<IPython.core.display.HTML object>"
      ]
     },
     "metadata": {},
     "output_type": "display_data"
    },
    {
     "name": "stderr",
     "output_type": "stream",
     "text": [
      "/home/user/anaconda3/envs/py38/lib/python3.9/site-packages/captum/attr/_core/lime.py:1088: UserWarning: Attempting to construct interpretable model with > 10000 features.This can be very slow or lead to OOM issues. Please provide a featuremask which groups input features to reduce the number of interpretablefeatures. \n",
      "  warnings.warn(\n"
     ]
    },
    {
     "name": "stdout",
     "output_type": "stream",
     "text": [
      "<IPython.core.display.HTML object>\n",
      "i: 24\n",
      "Raw datum: ['Who was added to party as Washington went on the way?', 'Washington left with a small party, picking up along the way Jacob Van Braam as an interpreter; Christopher Gist, a company surveyor working in the area; and a few Mingo led by Tanaghrisson.']\n",
      "GT target: 1\n"
     ]
    },
    {
     "name": "stderr",
     "output_type": "stream",
     "text": [
      "Lime attribution: 100%|███████████████████████████| 3/3 [00:28<00:00,  9.44s/it]\n"
     ]
    },
    {
     "name": "stdout",
     "output_type": "stream",
     "text": [
      "word attr tensor([-0.2225,  0.1010, -0.1549, -0.0006, -0.0202,  0.2861,  0.0986,  0.1360,\n",
      "         0.0787,  0.0839,  0.0521,  0.3676, -0.0096,  0.0714, -0.0278,  0.0540,\n",
      "         0.0075, -0.0190,  0.1694, -0.1158,  0.2289, -0.0591, -0.0423, -0.0183,\n",
      "        -0.1656, -0.1840,  0.3822,  0.1657, -0.0039,  0.0177, -0.1181,  0.0588,\n",
      "        -0.0097, -0.1386, -0.1528, -0.0595,  0.0642,  0.0011,  0.1119,  0.1157,\n",
      "         0.1397, -0.0447, -0.0568, -0.1431, -0.1318, -0.1105,  0.0191, -0.1484,\n",
      "        -0.0906,  0.1103, -0.0190, -0.1055,  0.1167, -0.0100, -0.0540, -0.0750,\n",
      "        -0.2092, -0.0197, -0.0187, -0.1057,  0.0978])\n",
      "conti attr [tensor(-0.2225), tensor(0.1010), tensor(-0.1549), tensor(-0.0006), tensor(-0.0202), tensor(0.2861), tensor(0.0986), tensor(0.1360), tensor(0.0787), tensor(0.0839), tensor(0.0521), tensor(0.3580), tensor(0.0714), tensor(-0.0278), tensor(0.0540), tensor(0.0075), tensor(-0.0190), tensor(0.1694), tensor(-0.1158), tensor(0.1698), tensor(-0.0423), tensor(-0.0183), tensor(-0.1656), tensor(-0.1840), tensor(0.3822), tensor(0.1657), tensor(-0.0039), tensor(-0.1004), tensor(0.0588), tensor(-0.0097), tensor(-0.2915), tensor(-0.0595), tensor(0.1772), tensor(0.1157), tensor(0.1397), tensor(-0.1015), tensor(-0.1431), tensor(-0.1318), tensor(-0.1105), tensor(-0.1293), tensor(-0.0906), tensor(0.1103), tensor(-0.0190), tensor(0.0112), tensor(-0.0100), tensor(-0.0540), tensor(-0.4282), tensor(0.0978)]\n",
      "detokenized ['<s>', 'Who', 'was', 'added', 'to', 'party', 'as', 'Washington', 'went', 'on', 'the', 'way', '?', '</s>', '</s>', 'Washington', 'left', 'with', 'a', 'small', 'party', ',', 'picking', 'up', 'along', 'the', 'way', 'Jacob', 'Van', 'Bra', 'am', 'as', 'an', 'interpreter', ';', 'Christopher', 'G', 'ist', ',', 'a', 'company', 'survey', 'or', 'working', 'in', 'the', 'area', ';', 'and', 'a', 'few', 'Ming', 'o', 'led', 'by', 'Tan', 'agh', 'r', 'isson', '.', '</s>']\n",
      "len conti_raw 48\n",
      "conti_raw ['<s>', 'Who', 'was', 'added', 'to', 'party', 'as', 'Washington', 'went', 'on', 'the', 'way?', '</s>', '</s>', 'Washington', 'left', 'with', 'a', 'small', 'party,', 'picking', 'up', 'along', 'the', 'way', 'Jacob', 'Van', 'Braam', 'as', 'an', 'interpreter;', 'Christopher', 'Gist,', 'a', 'company', 'surveyor', 'working', 'in', 'the', 'area;', 'and', 'a', 'few', 'Mingo', 'led', 'by', 'Tanaghrisson.', '</s>']\n",
      "pred_prob 0.9971464276313782\n"
     ]
    },
    {
     "data": {
      "text/html": [
       "<table width: 100%><div style=\"border-top: 1px solid; margin-top: 5px;             padding-top: 5px; display: inline-block\"><b>Legend: </b><span style=\"display: inline-block; width: 10px; height: 10px;                 border: 1px solid; background-color:                 hsl(0, 75%, 60%)\"></span> Negative  <span style=\"display: inline-block; width: 10px; height: 10px;                 border: 1px solid; background-color:                 hsl(0, 75%, 100%)\"></span> Neutral  <span style=\"display: inline-block; width: 10px; height: 10px;                 border: 1px solid; background-color:                 hsl(120, 75%, 50%)\"></span> Positive  </div><tr><th>True Label</th><th>Predicted Label</th><th>Attribution Label</th><th>Attribution Score</th><th>Word Importance</th><tr><td><text style=\"padding-right:2em\"><b>Entailment</b></text></td><td><text style=\"padding-right:2em\"><b>Entailment (1.00)</b></text></td><td><text style=\"padding-right:2em\"><b>No Entailment</b></text></td><td><text style=\"padding-right:2em\"><b>0.27</b></text></td><td><mark style=\"background-color: hsl(0, 75%, 92%); opacity:1.0;                     line-height:1.75\"><font color=\"black\"> #s                    </font></mark><mark style=\"background-color: hsl(120, 75%, 95%); opacity:1.0;                     line-height:1.75\"><font color=\"black\"> Who                    </font></mark><mark style=\"background-color: hsl(0, 75%, 94%); opacity:1.0;                     line-height:1.75\"><font color=\"black\"> was                    </font></mark><mark style=\"background-color: hsl(0, 75%, 100%); opacity:1.0;                     line-height:1.75\"><font color=\"black\"> added                    </font></mark><mark style=\"background-color: hsl(0, 75%, 100%); opacity:1.0;                     line-height:1.75\"><font color=\"black\"> to                    </font></mark><mark style=\"background-color: hsl(120, 75%, 86%); opacity:1.0;                     line-height:1.75\"><font color=\"black\"> party                    </font></mark><mark style=\"background-color: hsl(120, 75%, 96%); opacity:1.0;                     line-height:1.75\"><font color=\"black\"> as                    </font></mark><mark style=\"background-color: hsl(120, 75%, 94%); opacity:1.0;                     line-height:1.75\"><font color=\"black\"> Washington                    </font></mark><mark style=\"background-color: hsl(120, 75%, 97%); opacity:1.0;                     line-height:1.75\"><font color=\"black\"> went                    </font></mark><mark style=\"background-color: hsl(120, 75%, 96%); opacity:1.0;                     line-height:1.75\"><font color=\"black\"> on                    </font></mark><mark style=\"background-color: hsl(120, 75%, 98%); opacity:1.0;                     line-height:1.75\"><font color=\"black\"> the                    </font></mark><mark style=\"background-color: hsl(120, 75%, 83%); opacity:1.0;                     line-height:1.75\"><font color=\"black\"> way?                    </font></mark><mark style=\"background-color: hsl(120, 75%, 97%); opacity:1.0;                     line-height:1.75\"><font color=\"black\"> #/s                    </font></mark><mark style=\"background-color: hsl(0, 75%, 99%); opacity:1.0;                     line-height:1.75\"><font color=\"black\"> #/s                    </font></mark><mark style=\"background-color: hsl(120, 75%, 98%); opacity:1.0;                     line-height:1.75\"><font color=\"black\"> Washington                    </font></mark><mark style=\"background-color: hsl(120, 75%, 100%); opacity:1.0;                     line-height:1.75\"><font color=\"black\"> left                    </font></mark><mark style=\"background-color: hsl(0, 75%, 100%); opacity:1.0;                     line-height:1.75\"><font color=\"black\"> with                    </font></mark><mark style=\"background-color: hsl(120, 75%, 92%); opacity:1.0;                     line-height:1.75\"><font color=\"black\"> a                    </font></mark><mark style=\"background-color: hsl(0, 75%, 96%); opacity:1.0;                     line-height:1.75\"><font color=\"black\"> small                    </font></mark><mark style=\"background-color: hsl(120, 75%, 92%); opacity:1.0;                     line-height:1.75\"><font color=\"black\"> party,                    </font></mark><mark style=\"background-color: hsl(0, 75%, 99%); opacity:1.0;                     line-height:1.75\"><font color=\"black\"> picking                    </font></mark><mark style=\"background-color: hsl(0, 75%, 100%); opacity:1.0;                     line-height:1.75\"><font color=\"black\"> up                    </font></mark><mark style=\"background-color: hsl(0, 75%, 94%); opacity:1.0;                     line-height:1.75\"><font color=\"black\"> along                    </font></mark><mark style=\"background-color: hsl(0, 75%, 93%); opacity:1.0;                     line-height:1.75\"><font color=\"black\"> the                    </font></mark><mark style=\"background-color: hsl(120, 75%, 81%); opacity:1.0;                     line-height:1.75\"><font color=\"black\"> way                    </font></mark><mark style=\"background-color: hsl(120, 75%, 92%); opacity:1.0;                     line-height:1.75\"><font color=\"black\"> Jacob                    </font></mark><mark style=\"background-color: hsl(0, 75%, 100%); opacity:1.0;                     line-height:1.75\"><font color=\"black\"> Van                    </font></mark><mark style=\"background-color: hsl(0, 75%, 96%); opacity:1.0;                     line-height:1.75\"><font color=\"black\"> Braam                    </font></mark><mark style=\"background-color: hsl(120, 75%, 98%); opacity:1.0;                     line-height:1.75\"><font color=\"black\"> as                    </font></mark><mark style=\"background-color: hsl(0, 75%, 100%); opacity:1.0;                     line-height:1.75\"><font color=\"black\"> an                    </font></mark><mark style=\"background-color: hsl(0, 75%, 89%); opacity:1.0;                     line-height:1.75\"><font color=\"black\"> interpreter;                    </font></mark><mark style=\"background-color: hsl(0, 75%, 98%); opacity:1.0;                     line-height:1.75\"><font color=\"black\"> Christopher                    </font></mark><mark style=\"background-color: hsl(120, 75%, 92%); opacity:1.0;                     line-height:1.75\"><font color=\"black\"> Gist,                    </font></mark><mark style=\"background-color: hsl(120, 75%, 95%); opacity:1.0;                     line-height:1.75\"><font color=\"black\"> a                    </font></mark><mark style=\"background-color: hsl(120, 75%, 94%); opacity:1.0;                     line-height:1.75\"><font color=\"black\"> company                    </font></mark><mark style=\"background-color: hsl(0, 75%, 96%); opacity:1.0;                     line-height:1.75\"><font color=\"black\"> surveyor                    </font></mark><mark style=\"background-color: hsl(0, 75%, 95%); opacity:1.0;                     line-height:1.75\"><font color=\"black\"> working                    </font></mark><mark style=\"background-color: hsl(0, 75%, 95%); opacity:1.0;                     line-height:1.75\"><font color=\"black\"> in                    </font></mark><mark style=\"background-color: hsl(0, 75%, 96%); opacity:1.0;                     line-height:1.75\"><font color=\"black\"> the                    </font></mark><mark style=\"background-color: hsl(0, 75%, 95%); opacity:1.0;                     line-height:1.75\"><font color=\"black\"> area;                    </font></mark><mark style=\"background-color: hsl(0, 75%, 97%); opacity:1.0;                     line-height:1.75\"><font color=\"black\"> and                    </font></mark><mark style=\"background-color: hsl(120, 75%, 95%); opacity:1.0;                     line-height:1.75\"><font color=\"black\"> a                    </font></mark><mark style=\"background-color: hsl(0, 75%, 100%); opacity:1.0;                     line-height:1.75\"><font color=\"black\"> few                    </font></mark><mark style=\"background-color: hsl(120, 75%, 100%); opacity:1.0;                     line-height:1.75\"><font color=\"black\"> Mingo                    </font></mark><mark style=\"background-color: hsl(0, 75%, 100%); opacity:1.0;                     line-height:1.75\"><font color=\"black\"> led                    </font></mark><mark style=\"background-color: hsl(0, 75%, 98%); opacity:1.0;                     line-height:1.75\"><font color=\"black\"> by                    </font></mark><mark style=\"background-color: hsl(0, 75%, 83%); opacity:1.0;                     line-height:1.75\"><font color=\"black\"> Tanaghrisson.                    </font></mark><mark style=\"background-color: hsl(120, 75%, 96%); opacity:1.0;                     line-height:1.75\"><font color=\"black\"> #/s                    </font></mark></td><tr></table>"
      ],
      "text/plain": [
       "<IPython.core.display.HTML object>"
      ]
     },
     "metadata": {},
     "output_type": "display_data"
    },
    {
     "name": "stderr",
     "output_type": "stream",
     "text": [
      "/home/user/anaconda3/envs/py38/lib/python3.9/site-packages/captum/attr/_core/lime.py:1088: UserWarning: Attempting to construct interpretable model with > 10000 features.This can be very slow or lead to OOM issues. Please provide a featuremask which groups input features to reduce the number of interpretablefeatures. \n",
      "  warnings.warn(\n"
     ]
    },
    {
     "name": "stdout",
     "output_type": "stream",
     "text": [
      "<IPython.core.display.HTML object>\n",
      "i: 25\n",
      "Raw datum: ['What did Queen Elizabeth II open in Newcastle in 1981?', \"It was opened in five phases between 1980 and 1984, and was Britain's first urban light rail transit system; two extensions were opened in 1991 and 2002.\"]\n",
      "GT target: 0\n"
     ]
    },
    {
     "name": "stderr",
     "output_type": "stream",
     "text": [
      "Lime attribution: 100%|███████████████████████████| 3/3 [00:20<00:00,  6.92s/it]\n"
     ]
    },
    {
     "name": "stdout",
     "output_type": "stream",
     "text": [
      "word attr tensor([-0.6143, -0.0671,  0.1085,  0.0882,  0.0350, -0.1629,  0.4474,  0.1604,\n",
      "        -0.0219,  0.0775, -0.1783,  0.0396,  0.0011,  0.1667,  0.0445,  0.0251,\n",
      "        -0.0730, -0.1082,  0.1260, -0.1883,  0.0584,  0.0665,  0.0752, -0.0579,\n",
      "         0.1338,  0.0534, -0.0744, -0.0496, -0.1645, -0.0709, -0.0802,  0.0119,\n",
      "         0.0237,  0.0556, -0.0019, -0.1340, -0.0989, -0.0735, -0.0392, -0.1090,\n",
      "        -0.1598,  0.0760,  0.1230, -0.0490,  0.0355,  0.1476])\n",
      "conti attr [tensor(-0.6143), tensor(-0.0671), tensor(0.1085), tensor(0.0882), tensor(0.0350), tensor(-0.1629), tensor(0.4474), tensor(0.1604), tensor(-0.0219), tensor(0.0775), tensor(-0.1387), tensor(0.0011), tensor(0.1667), tensor(0.0445), tensor(0.0251), tensor(-0.0730), tensor(-0.1082), tensor(0.1260), tensor(-0.1883), tensor(0.0584), tensor(0.0665), tensor(0.0752), tensor(0.0759), tensor(0.0534), tensor(-0.0744), tensor(-0.2142), tensor(-0.0709), tensor(-0.0802), tensor(0.0119), tensor(0.0237), tensor(0.0556), tensor(-0.1359), tensor(-0.0989), tensor(-0.0735), tensor(-0.0392), tensor(-0.1090), tensor(-0.1598), tensor(0.0760), tensor(0.1230), tensor(-0.0134), tensor(0.1476)]\n",
      "detokenized ['<s>', 'What', 'did', 'Queen', 'Elizabeth', 'II', 'open', 'in', 'Newcastle', 'in', '1981', '?', '</s>', '</s>', 'It', 'was', 'opened', 'in', 'five', 'phases', 'between', '1980', 'and', '1984', ',', 'and', 'was', 'Britain', \"'s\", 'first', 'urban', 'light', 'rail', 'transit', 'system', ';', 'two', 'extensions', 'were', 'opened', 'in', '1991', 'and', '2002', '.', '</s>']\n",
      "len conti_raw 41\n",
      "conti_raw ['<s>', 'What', 'did', 'Queen', 'Elizabeth', 'II', 'open', 'in', 'Newcastle', 'in', '1981?', '</s>', '</s>', 'It', 'was', 'opened', 'in', 'five', 'phases', 'between', '1980', 'and', '1984,', 'and', 'was', \"Britain's\", 'first', 'urban', 'light', 'rail', 'transit', 'system;', 'two', 'extensions', 'were', 'opened', 'in', '1991', 'and', '2002.', '</s>']\n",
      "pred_prob 0.0014412070158869028\n"
     ]
    },
    {
     "data": {
      "text/html": [
       "<table width: 100%><div style=\"border-top: 1px solid; margin-top: 5px;             padding-top: 5px; display: inline-block\"><b>Legend: </b><span style=\"display: inline-block; width: 10px; height: 10px;                 border: 1px solid; background-color:                 hsl(0, 75%, 60%)\"></span> Negative  <span style=\"display: inline-block; width: 10px; height: 10px;                 border: 1px solid; background-color:                 hsl(0, 75%, 100%)\"></span> Neutral  <span style=\"display: inline-block; width: 10px; height: 10px;                 border: 1px solid; background-color:                 hsl(120, 75%, 50%)\"></span> Positive  </div><tr><th>True Label</th><th>Predicted Label</th><th>Attribution Label</th><th>Attribution Score</th><th>Word Importance</th><tr><td><text style=\"padding-right:2em\"><b>No Entailment</b></text></td><td><text style=\"padding-right:2em\"><b>No Entailment (0.00)</b></text></td><td><text style=\"padding-right:2em\"><b>No Entailment</b></text></td><td><text style=\"padding-right:2em\"><b>-0.40</b></text></td><td><mark style=\"background-color: hsl(0, 75%, 76%); opacity:1.0;                     line-height:1.75\"><font color=\"black\"> #s                    </font></mark><mark style=\"background-color: hsl(0, 75%, 98%); opacity:1.0;                     line-height:1.75\"><font color=\"black\"> What                    </font></mark><mark style=\"background-color: hsl(120, 75%, 95%); opacity:1.0;                     line-height:1.75\"><font color=\"black\"> did                    </font></mark><mark style=\"background-color: hsl(120, 75%, 96%); opacity:1.0;                     line-height:1.75\"><font color=\"black\"> Queen                    </font></mark><mark style=\"background-color: hsl(120, 75%, 99%); opacity:1.0;                     line-height:1.75\"><font color=\"black\"> Elizabeth                    </font></mark><mark style=\"background-color: hsl(0, 75%, 94%); opacity:1.0;                     line-height:1.75\"><font color=\"black\"> II                    </font></mark><mark style=\"background-color: hsl(120, 75%, 78%); opacity:1.0;                     line-height:1.75\"><font color=\"black\"> open                    </font></mark><mark style=\"background-color: hsl(120, 75%, 92%); opacity:1.0;                     line-height:1.75\"><font color=\"black\"> in                    </font></mark><mark style=\"background-color: hsl(0, 75%, 100%); opacity:1.0;                     line-height:1.75\"><font color=\"black\"> Newcastle                    </font></mark><mark style=\"background-color: hsl(120, 75%, 97%); opacity:1.0;                     line-height:1.75\"><font color=\"black\"> in                    </font></mark><mark style=\"background-color: hsl(0, 75%, 95%); opacity:1.0;                     line-height:1.75\"><font color=\"black\"> 1981?                    </font></mark><mark style=\"background-color: hsl(120, 75%, 100%); opacity:1.0;                     line-height:1.75\"><font color=\"black\"> #/s                    </font></mark><mark style=\"background-color: hsl(120, 75%, 92%); opacity:1.0;                     line-height:1.75\"><font color=\"black\"> #/s                    </font></mark><mark style=\"background-color: hsl(120, 75%, 98%); opacity:1.0;                     line-height:1.75\"><font color=\"black\"> It                    </font></mark><mark style=\"background-color: hsl(120, 75%, 99%); opacity:1.0;                     line-height:1.75\"><font color=\"black\"> was                    </font></mark><mark style=\"background-color: hsl(0, 75%, 98%); opacity:1.0;                     line-height:1.75\"><font color=\"black\"> opened                    </font></mark><mark style=\"background-color: hsl(0, 75%, 96%); opacity:1.0;                     line-height:1.75\"><font color=\"black\"> in                    </font></mark><mark style=\"background-color: hsl(120, 75%, 94%); opacity:1.0;                     line-height:1.75\"><font color=\"black\"> five                    </font></mark><mark style=\"background-color: hsl(0, 75%, 93%); opacity:1.0;                     line-height:1.75\"><font color=\"black\"> phases                    </font></mark><mark style=\"background-color: hsl(120, 75%, 98%); opacity:1.0;                     line-height:1.75\"><font color=\"black\"> between                    </font></mark><mark style=\"background-color: hsl(120, 75%, 97%); opacity:1.0;                     line-height:1.75\"><font color=\"black\"> 1980                    </font></mark><mark style=\"background-color: hsl(120, 75%, 97%); opacity:1.0;                     line-height:1.75\"><font color=\"black\"> and                    </font></mark><mark style=\"background-color: hsl(120, 75%, 97%); opacity:1.0;                     line-height:1.75\"><font color=\"black\"> 1984,                    </font></mark><mark style=\"background-color: hsl(120, 75%, 98%); opacity:1.0;                     line-height:1.75\"><font color=\"black\"> and                    </font></mark><mark style=\"background-color: hsl(0, 75%, 98%); opacity:1.0;                     line-height:1.75\"><font color=\"black\"> was                    </font></mark><mark style=\"background-color: hsl(0, 75%, 92%); opacity:1.0;                     line-height:1.75\"><font color=\"black\"> Britain's                    </font></mark><mark style=\"background-color: hsl(0, 75%, 98%); opacity:1.0;                     line-height:1.75\"><font color=\"black\"> first                    </font></mark><mark style=\"background-color: hsl(0, 75%, 97%); opacity:1.0;                     line-height:1.75\"><font color=\"black\"> urban                    </font></mark><mark style=\"background-color: hsl(120, 75%, 100%); opacity:1.0;                     line-height:1.75\"><font color=\"black\"> light                    </font></mark><mark style=\"background-color: hsl(120, 75%, 99%); opacity:1.0;                     line-height:1.75\"><font color=\"black\"> rail                    </font></mark><mark style=\"background-color: hsl(120, 75%, 98%); opacity:1.0;                     line-height:1.75\"><font color=\"black\"> transit                    </font></mark><mark style=\"background-color: hsl(0, 75%, 95%); opacity:1.0;                     line-height:1.75\"><font color=\"black\"> system;                    </font></mark><mark style=\"background-color: hsl(0, 75%, 97%); opacity:1.0;                     line-height:1.75\"><font color=\"black\"> two                    </font></mark><mark style=\"background-color: hsl(0, 75%, 98%); opacity:1.0;                     line-height:1.75\"><font color=\"black\"> extensions                    </font></mark><mark style=\"background-color: hsl(0, 75%, 99%); opacity:1.0;                     line-height:1.75\"><font color=\"black\"> were                    </font></mark><mark style=\"background-color: hsl(0, 75%, 96%); opacity:1.0;                     line-height:1.75\"><font color=\"black\"> opened                    </font></mark><mark style=\"background-color: hsl(0, 75%, 94%); opacity:1.0;                     line-height:1.75\"><font color=\"black\"> in                    </font></mark><mark style=\"background-color: hsl(120, 75%, 97%); opacity:1.0;                     line-height:1.75\"><font color=\"black\"> 1991                    </font></mark><mark style=\"background-color: hsl(120, 75%, 94%); opacity:1.0;                     line-height:1.75\"><font color=\"black\"> and                    </font></mark><mark style=\"background-color: hsl(0, 75%, 100%); opacity:1.0;                     line-height:1.75\"><font color=\"black\"> 2002.                    </font></mark><mark style=\"background-color: hsl(120, 75%, 93%); opacity:1.0;                     line-height:1.75\"><font color=\"black\"> #/s                    </font></mark></td><tr></table>"
      ],
      "text/plain": [
       "<IPython.core.display.HTML object>"
      ]
     },
     "metadata": {},
     "output_type": "display_data"
    },
    {
     "name": "stderr",
     "output_type": "stream",
     "text": [
      "/home/user/anaconda3/envs/py38/lib/python3.9/site-packages/captum/attr/_core/lime.py:1088: UserWarning: Attempting to construct interpretable model with > 10000 features.This can be very slow or lead to OOM issues. Please provide a featuremask which groups input features to reduce the number of interpretablefeatures. \n",
      "  warnings.warn(\n"
     ]
    },
    {
     "name": "stdout",
     "output_type": "stream",
     "text": [
      "<IPython.core.display.HTML object>\n",
      "i: 26\n",
      "Raw datum: ['What writing inspired the name Great Yuan?', 'Furthermore, the Yuan is sometimes known as the \"Empire of the Great Khan\" or \"Khanate of the Great Khan\", which particularly appeared on some Yuan maps, since Yuan emperors held the nominal title of Great Khan.']\n",
      "GT target: 0\n"
     ]
    },
    {
     "name": "stderr",
     "output_type": "stream",
     "text": [
      "Lime attribution: 100%|███████████████████████████| 3/3 [00:25<00:00,  8.60s/it]\n"
     ]
    },
    {
     "name": "stdout",
     "output_type": "stream",
     "text": [
      "word attr tensor([ 0.0859, -0.1729,  0.0980,  0.0362, -0.1097,  0.0682,  0.2892,  0.1394,\n",
      "        -0.0271,  0.0273, -0.0370,  0.1283, -0.1804,  0.1229, -0.2820, -0.0240,\n",
      "        -0.1523,  0.0478,  0.0672, -0.1360, -0.2485,  0.1049,  0.0024, -0.1279,\n",
      "        -0.2084,  0.1115, -0.1490,  0.0303,  0.0586, -0.1983,  0.0241,  0.0409,\n",
      "        -0.0953, -0.0713, -0.0903,  0.1545,  0.1661, -0.0935,  0.0666, -0.0665,\n",
      "        -0.0650, -0.1201,  0.1447,  0.1309, -0.0511, -0.0912,  0.0025,  0.1756,\n",
      "         0.0608, -0.0899, -0.2276, -0.0812,  0.0160, -0.3503, -0.1839, -0.0231,\n",
      "         0.0704, -0.0247,  0.0188])\n",
      "conti attr [tensor(0.0859), tensor(-0.1729), tensor(0.0980), tensor(0.0362), tensor(-0.1097), tensor(0.0682), tensor(0.2892), tensor(0.1123), tensor(0.0273), tensor(-0.0370), tensor(-0.0521), tensor(0.1229), tensor(-0.2820), tensor(-0.0240), tensor(-0.1523), tensor(0.0478), tensor(0.0672), tensor(-0.1360), tensor(-0.1412), tensor(-0.1279), tensor(-0.2084), tensor(0.1115), tensor(-0.1187), tensor(0.0586), tensor(-0.2287), tensor(-0.0713), tensor(-0.0903), tensor(0.1545), tensor(0.0726), tensor(0.0666), tensor(-0.0665), tensor(-0.0650), tensor(-0.1201), tensor(0.1447), tensor(0.1309), tensor(-0.1423), tensor(0.0025), tensor(0.1756), tensor(-0.0291), tensor(-0.2276), tensor(-0.0812), tensor(0.0160), tensor(-0.3503), tensor(-0.1839), tensor(-0.0231), tensor(0.0457), tensor(0.0188)]\n",
      "detokenized ['<s>', 'What', 'writing', 'inspired', 'the', 'name', 'Great', 'Yuan', '?', '</s>', '</s>', 'Furthermore', ',', 'the', 'Yuan', 'is', 'sometimes', 'known', 'as', 'the', '\"', 'E', 'mpire', 'of', 'the', 'Great', 'Khan', '\"', 'or', '\"', 'K', 'han', 'ate', 'of', 'the', 'Great', 'Khan', '\",', 'which', 'particularly', 'appeared', 'on', 'some', 'Yuan', 'maps', ',', 'since', 'Yuan', 'em', 'perors', 'held', 'the', 'nominal', 'title', 'of', 'Great', 'Khan', '.', '</s>']\n",
      "len conti_raw 47\n",
      "conti_raw ['<s>', 'What', 'writing', 'inspired', 'the', 'name', 'Great', 'Yuan?', '</s>', '</s>', 'Furthermore,', 'the', 'Yuan', 'is', 'sometimes', 'known', 'as', 'the', '\"Empire', 'of', 'the', 'Great', 'Khan\"', 'or', '\"Khanate', 'of', 'the', 'Great', 'Khan\",', 'which', 'particularly', 'appeared', 'on', 'some', 'Yuan', 'maps,', 'since', 'Yuan', 'emperors', 'held', 'the', 'nominal', 'title', 'of', 'Great', 'Khan.', '</s>']\n",
      "pred_prob 0.0024735890328884125\n"
     ]
    },
    {
     "data": {
      "text/html": [
       "<table width: 100%><div style=\"border-top: 1px solid; margin-top: 5px;             padding-top: 5px; display: inline-block\"><b>Legend: </b><span style=\"display: inline-block; width: 10px; height: 10px;                 border: 1px solid; background-color:                 hsl(0, 75%, 60%)\"></span> Negative  <span style=\"display: inline-block; width: 10px; height: 10px;                 border: 1px solid; background-color:                 hsl(0, 75%, 100%)\"></span> Neutral  <span style=\"display: inline-block; width: 10px; height: 10px;                 border: 1px solid; background-color:                 hsl(120, 75%, 50%)\"></span> Positive  </div><tr><th>True Label</th><th>Predicted Label</th><th>Attribution Label</th><th>Attribution Score</th><th>Word Importance</th><tr><td><text style=\"padding-right:2em\"><b>No Entailment</b></text></td><td><text style=\"padding-right:2em\"><b>No Entailment (0.00)</b></text></td><td><text style=\"padding-right:2em\"><b>No Entailment</b></text></td><td><text style=\"padding-right:2em\"><b>-1.29</b></text></td><td><mark style=\"background-color: hsl(120, 75%, 96%); opacity:1.0;                     line-height:1.75\"><font color=\"black\"> #s                    </font></mark><mark style=\"background-color: hsl(0, 75%, 94%); opacity:1.0;                     line-height:1.75\"><font color=\"black\"> What                    </font></mark><mark style=\"background-color: hsl(120, 75%, 96%); opacity:1.0;                     line-height:1.75\"><font color=\"black\"> writing                    </font></mark><mark style=\"background-color: hsl(120, 75%, 99%); opacity:1.0;                     line-height:1.75\"><font color=\"black\"> inspired                    </font></mark><mark style=\"background-color: hsl(0, 75%, 96%); opacity:1.0;                     line-height:1.75\"><font color=\"black\"> the                    </font></mark><mark style=\"background-color: hsl(120, 75%, 97%); opacity:1.0;                     line-height:1.75\"><font color=\"black\"> name                    </font></mark><mark style=\"background-color: hsl(120, 75%, 86%); opacity:1.0;                     line-height:1.75\"><font color=\"black\"> Great                    </font></mark><mark style=\"background-color: hsl(120, 75%, 95%); opacity:1.0;                     line-height:1.75\"><font color=\"black\"> Yuan?                    </font></mark><mark style=\"background-color: hsl(120, 75%, 99%); opacity:1.0;                     line-height:1.75\"><font color=\"black\"> #/s                    </font></mark><mark style=\"background-color: hsl(0, 75%, 99%); opacity:1.0;                     line-height:1.75\"><font color=\"black\"> #/s                    </font></mark><mark style=\"background-color: hsl(0, 75%, 98%); opacity:1.0;                     line-height:1.75\"><font color=\"black\"> Furthermore,                    </font></mark><mark style=\"background-color: hsl(120, 75%, 94%); opacity:1.0;                     line-height:1.75\"><font color=\"black\"> the                    </font></mark><mark style=\"background-color: hsl(0, 75%, 89%); opacity:1.0;                     line-height:1.75\"><font color=\"black\"> Yuan                    </font></mark><mark style=\"background-color: hsl(0, 75%, 100%); opacity:1.0;                     line-height:1.75\"><font color=\"black\"> is                    </font></mark><mark style=\"background-color: hsl(0, 75%, 94%); opacity:1.0;                     line-height:1.75\"><font color=\"black\"> sometimes                    </font></mark><mark style=\"background-color: hsl(120, 75%, 98%); opacity:1.0;                     line-height:1.75\"><font color=\"black\"> known                    </font></mark><mark style=\"background-color: hsl(120, 75%, 97%); opacity:1.0;                     line-height:1.75\"><font color=\"black\"> as                    </font></mark><mark style=\"background-color: hsl(0, 75%, 95%); opacity:1.0;                     line-height:1.75\"><font color=\"black\"> the                    </font></mark><mark style=\"background-color: hsl(0, 75%, 95%); opacity:1.0;                     line-height:1.75\"><font color=\"black\"> \"Empire                    </font></mark><mark style=\"background-color: hsl(0, 75%, 95%); opacity:1.0;                     line-height:1.75\"><font color=\"black\"> of                    </font></mark><mark style=\"background-color: hsl(0, 75%, 92%); opacity:1.0;                     line-height:1.75\"><font color=\"black\"> the                    </font></mark><mark style=\"background-color: hsl(120, 75%, 95%); opacity:1.0;                     line-height:1.75\"><font color=\"black\"> Great                    </font></mark><mark style=\"background-color: hsl(0, 75%, 96%); opacity:1.0;                     line-height:1.75\"><font color=\"black\"> Khan\"                    </font></mark><mark style=\"background-color: hsl(120, 75%, 98%); opacity:1.0;                     line-height:1.75\"><font color=\"black\"> or                    </font></mark><mark style=\"background-color: hsl(0, 75%, 91%); opacity:1.0;                     line-height:1.75\"><font color=\"black\"> \"Khanate                    </font></mark><mark style=\"background-color: hsl(0, 75%, 98%); opacity:1.0;                     line-height:1.75\"><font color=\"black\"> of                    </font></mark><mark style=\"background-color: hsl(0, 75%, 97%); opacity:1.0;                     line-height:1.75\"><font color=\"black\"> the                    </font></mark><mark style=\"background-color: hsl(120, 75%, 93%); opacity:1.0;                     line-height:1.75\"><font color=\"black\"> Great                    </font></mark><mark style=\"background-color: hsl(120, 75%, 97%); opacity:1.0;                     line-height:1.75\"><font color=\"black\"> Khan\",                    </font></mark><mark style=\"background-color: hsl(120, 75%, 97%); opacity:1.0;                     line-height:1.75\"><font color=\"black\"> which                    </font></mark><mark style=\"background-color: hsl(0, 75%, 98%); opacity:1.0;                     line-height:1.75\"><font color=\"black\"> particularly                    </font></mark><mark style=\"background-color: hsl(0, 75%, 98%); opacity:1.0;                     line-height:1.75\"><font color=\"black\"> appeared                    </font></mark><mark style=\"background-color: hsl(0, 75%, 96%); opacity:1.0;                     line-height:1.75\"><font color=\"black\"> on                    </font></mark><mark style=\"background-color: hsl(120, 75%, 93%); opacity:1.0;                     line-height:1.75\"><font color=\"black\"> some                    </font></mark><mark style=\"background-color: hsl(120, 75%, 94%); opacity:1.0;                     line-height:1.75\"><font color=\"black\"> Yuan                    </font></mark><mark style=\"background-color: hsl(0, 75%, 95%); opacity:1.0;                     line-height:1.75\"><font color=\"black\"> maps,                    </font></mark><mark style=\"background-color: hsl(120, 75%, 100%); opacity:1.0;                     line-height:1.75\"><font color=\"black\"> since                    </font></mark><mark style=\"background-color: hsl(120, 75%, 92%); opacity:1.0;                     line-height:1.75\"><font color=\"black\"> Yuan                    </font></mark><mark style=\"background-color: hsl(0, 75%, 99%); opacity:1.0;                     line-height:1.75\"><font color=\"black\"> emperors                    </font></mark><mark style=\"background-color: hsl(0, 75%, 91%); opacity:1.0;                     line-height:1.75\"><font color=\"black\"> held                    </font></mark><mark style=\"background-color: hsl(0, 75%, 97%); opacity:1.0;                     line-height:1.75\"><font color=\"black\"> the                    </font></mark><mark style=\"background-color: hsl(120, 75%, 100%); opacity:1.0;                     line-height:1.75\"><font color=\"black\"> nominal                    </font></mark><mark style=\"background-color: hsl(0, 75%, 86%); opacity:1.0;                     line-height:1.75\"><font color=\"black\"> title                    </font></mark><mark style=\"background-color: hsl(0, 75%, 93%); opacity:1.0;                     line-height:1.75\"><font color=\"black\"> of                    </font></mark><mark style=\"background-color: hsl(0, 75%, 100%); opacity:1.0;                     line-height:1.75\"><font color=\"black\"> Great                    </font></mark><mark style=\"background-color: hsl(120, 75%, 98%); opacity:1.0;                     line-height:1.75\"><font color=\"black\"> Khan.                    </font></mark><mark style=\"background-color: hsl(120, 75%, 100%); opacity:1.0;                     line-height:1.75\"><font color=\"black\"> #/s                    </font></mark></td><tr></table>"
      ],
      "text/plain": [
       "<IPython.core.display.HTML object>"
      ]
     },
     "metadata": {},
     "output_type": "display_data"
    },
    {
     "name": "stderr",
     "output_type": "stream",
     "text": [
      "/home/user/anaconda3/envs/py38/lib/python3.9/site-packages/captum/attr/_core/lime.py:1088: UserWarning: Attempting to construct interpretable model with > 10000 features.This can be very slow or lead to OOM issues. Please provide a featuremask which groups input features to reduce the number of interpretablefeatures. \n",
      "  warnings.warn(\n"
     ]
    },
    {
     "name": "stdout",
     "output_type": "stream",
     "text": [
      "<IPython.core.display.HTML object>\n",
      "i: 27\n",
      "Raw datum: ['What happened to the East India Trading Company in 1767?', 'In 1599 the British East India Company was established and was chartered by Queen Elizabeth in the following year.']\n",
      "GT target: 0\n"
     ]
    },
    {
     "name": "stderr",
     "output_type": "stream",
     "text": [
      "Lime attribution: 100%|███████████████████████████| 3/3 [00:16<00:00,  5.37s/it]\n"
     ]
    },
    {
     "name": "stdout",
     "output_type": "stream",
     "text": [
      "word attr tensor([ 0.0519, -0.1548, -0.0577, -0.1623,  0.1625, -0.0868, -0.0208,  0.1643,\n",
      "        -0.3757, -0.0377, -0.2087, -0.0370, -0.0529, -0.0651, -0.2294,  0.0916,\n",
      "        -0.2492, -0.1512, -0.1243, -0.1322,  0.2364,  0.0942,  0.0347,  0.0779,\n",
      "        -0.2102, -0.0475,  0.0789,  0.0133,  0.4159,  0.0395, -0.0230,  0.3023,\n",
      "        -0.1404, -0.1166,  0.0828, -0.2092, -0.0336, -0.1803])\n",
      "conti attr [tensor(0.0519), tensor(-0.1548), tensor(-0.0577), tensor(-0.1623), tensor(0.1625), tensor(-0.0868), tensor(-0.0208), tensor(0.1643), tensor(-0.3757), tensor(-0.0377), tensor(-0.2986), tensor(-0.0651), tensor(-0.2294), tensor(0.0916), tensor(-0.4004), tensor(-0.1243), tensor(-0.1322), tensor(0.2364), tensor(0.0942), tensor(0.0347), tensor(0.0779), tensor(-0.2102), tensor(-0.0475), tensor(0.0789), tensor(0.4292), tensor(0.0395), tensor(-0.0230), tensor(0.3023), tensor(-0.1404), tensor(-0.1166), tensor(0.0828), tensor(-0.2428), tensor(-0.1803)]\n",
      "detokenized ['<s>', 'What', 'happened', 'to', 'the', 'East', 'India', 'Trading', 'Company', 'in', '17', '67', '?', '</s>', '</s>', 'In', '15', '99', 'the', 'British', 'East', 'India', 'Company', 'was', 'established', 'and', 'was', 'chart', 'ered', 'by', 'Queen', 'Elizabeth', 'in', 'the', 'following', 'year', '.', '</s>']\n",
      "len conti_raw 33\n",
      "conti_raw ['<s>', 'What', 'happened', 'to', 'the', 'East', 'India', 'Trading', 'Company', 'in', '1767?', '</s>', '</s>', 'In', '1599', 'the', 'British', 'East', 'India', 'Company', 'was', 'established', 'and', 'was', 'chartered', 'by', 'Queen', 'Elizabeth', 'in', 'the', 'following', 'year.', '</s>']\n",
      "pred_prob 0.0011460972018539906\n"
     ]
    },
    {
     "data": {
      "text/html": [
       "<table width: 100%><div style=\"border-top: 1px solid; margin-top: 5px;             padding-top: 5px; display: inline-block\"><b>Legend: </b><span style=\"display: inline-block; width: 10px; height: 10px;                 border: 1px solid; background-color:                 hsl(0, 75%, 60%)\"></span> Negative  <span style=\"display: inline-block; width: 10px; height: 10px;                 border: 1px solid; background-color:                 hsl(0, 75%, 100%)\"></span> Neutral  <span style=\"display: inline-block; width: 10px; height: 10px;                 border: 1px solid; background-color:                 hsl(120, 75%, 50%)\"></span> Positive  </div><tr><th>True Label</th><th>Predicted Label</th><th>Attribution Label</th><th>Attribution Score</th><th>Word Importance</th><tr><td><text style=\"padding-right:2em\"><b>No Entailment</b></text></td><td><text style=\"padding-right:2em\"><b>No Entailment (0.00)</b></text></td><td><text style=\"padding-right:2em\"><b>No Entailment</b></text></td><td><text style=\"padding-right:2em\"><b>-1.26</b></text></td><td><mark style=\"background-color: hsl(120, 75%, 98%); opacity:1.0;                     line-height:1.75\"><font color=\"black\"> #s                    </font></mark><mark style=\"background-color: hsl(0, 75%, 94%); opacity:1.0;                     line-height:1.75\"><font color=\"black\"> What                    </font></mark><mark style=\"background-color: hsl(0, 75%, 98%); opacity:1.0;                     line-height:1.75\"><font color=\"black\"> happened                    </font></mark><mark style=\"background-color: hsl(0, 75%, 94%); opacity:1.0;                     line-height:1.75\"><font color=\"black\"> to                    </font></mark><mark style=\"background-color: hsl(120, 75%, 92%); opacity:1.0;                     line-height:1.75\"><font color=\"black\"> the                    </font></mark><mark style=\"background-color: hsl(0, 75%, 97%); opacity:1.0;                     line-height:1.75\"><font color=\"black\"> East                    </font></mark><mark style=\"background-color: hsl(0, 75%, 100%); opacity:1.0;                     line-height:1.75\"><font color=\"black\"> India                    </font></mark><mark style=\"background-color: hsl(120, 75%, 92%); opacity:1.0;                     line-height:1.75\"><font color=\"black\"> Trading                    </font></mark><mark style=\"background-color: hsl(0, 75%, 85%); opacity:1.0;                     line-height:1.75\"><font color=\"black\"> Company                    </font></mark><mark style=\"background-color: hsl(0, 75%, 99%); opacity:1.0;                     line-height:1.75\"><font color=\"black\"> in                    </font></mark><mark style=\"background-color: hsl(0, 75%, 89%); opacity:1.0;                     line-height:1.75\"><font color=\"black\"> 1767?                    </font></mark><mark style=\"background-color: hsl(0, 75%, 98%); opacity:1.0;                     line-height:1.75\"><font color=\"black\"> #/s                    </font></mark><mark style=\"background-color: hsl(0, 75%, 91%); opacity:1.0;                     line-height:1.75\"><font color=\"black\"> #/s                    </font></mark><mark style=\"background-color: hsl(120, 75%, 96%); opacity:1.0;                     line-height:1.75\"><font color=\"black\"> In                    </font></mark><mark style=\"background-color: hsl(0, 75%, 84%); opacity:1.0;                     line-height:1.75\"><font color=\"black\"> 1599                    </font></mark><mark style=\"background-color: hsl(0, 75%, 96%); opacity:1.0;                     line-height:1.75\"><font color=\"black\"> the                    </font></mark><mark style=\"background-color: hsl(0, 75%, 95%); opacity:1.0;                     line-height:1.75\"><font color=\"black\"> British                    </font></mark><mark style=\"background-color: hsl(120, 75%, 89%); opacity:1.0;                     line-height:1.75\"><font color=\"black\"> East                    </font></mark><mark style=\"background-color: hsl(120, 75%, 96%); opacity:1.0;                     line-height:1.75\"><font color=\"black\"> India                    </font></mark><mark style=\"background-color: hsl(120, 75%, 99%); opacity:1.0;                     line-height:1.75\"><font color=\"black\"> Company                    </font></mark><mark style=\"background-color: hsl(120, 75%, 97%); opacity:1.0;                     line-height:1.75\"><font color=\"black\"> was                    </font></mark><mark style=\"background-color: hsl(0, 75%, 92%); opacity:1.0;                     line-height:1.75\"><font color=\"black\"> established                    </font></mark><mark style=\"background-color: hsl(0, 75%, 99%); opacity:1.0;                     line-height:1.75\"><font color=\"black\"> and                    </font></mark><mark style=\"background-color: hsl(120, 75%, 97%); opacity:1.0;                     line-height:1.75\"><font color=\"black\"> was                    </font></mark><mark style=\"background-color: hsl(120, 75%, 79%); opacity:1.0;                     line-height:1.75\"><font color=\"black\"> chartered                    </font></mark><mark style=\"background-color: hsl(120, 75%, 99%); opacity:1.0;                     line-height:1.75\"><font color=\"black\"> by                    </font></mark><mark style=\"background-color: hsl(0, 75%, 100%); opacity:1.0;                     line-height:1.75\"><font color=\"black\"> Queen                    </font></mark><mark style=\"background-color: hsl(120, 75%, 85%); opacity:1.0;                     line-height:1.75\"><font color=\"black\"> Elizabeth                    </font></mark><mark style=\"background-color: hsl(0, 75%, 95%); opacity:1.0;                     line-height:1.75\"><font color=\"black\"> in                    </font></mark><mark style=\"background-color: hsl(0, 75%, 96%); opacity:1.0;                     line-height:1.75\"><font color=\"black\"> the                    </font></mark><mark style=\"background-color: hsl(120, 75%, 96%); opacity:1.0;                     line-height:1.75\"><font color=\"black\"> following                    </font></mark><mark style=\"background-color: hsl(0, 75%, 91%); opacity:1.0;                     line-height:1.75\"><font color=\"black\"> year.                    </font></mark><mark style=\"background-color: hsl(0, 75%, 93%); opacity:1.0;                     line-height:1.75\"><font color=\"black\"> #/s                    </font></mark></td><tr></table>"
      ],
      "text/plain": [
       "<IPython.core.display.HTML object>"
      ]
     },
     "metadata": {},
     "output_type": "display_data"
    },
    {
     "name": "stderr",
     "output_type": "stream",
     "text": [
      "/home/user/anaconda3/envs/py38/lib/python3.9/site-packages/captum/attr/_core/lime.py:1088: UserWarning: Attempting to construct interpretable model with > 10000 features.This can be very slow or lead to OOM issues. Please provide a featuremask which groups input features to reduce the number of interpretablefeatures. \n",
      "  warnings.warn(\n"
     ]
    },
    {
     "name": "stdout",
     "output_type": "stream",
     "text": [
      "<IPython.core.display.HTML object>\n",
      "i: 28\n",
      "Raw datum: ['The principle of faunal succession was developed 100 years before whose theory of evolution?', \"Based on principles laid out by William Smith almost a hundred years before the publication of Charles Darwin's theory of evolution, the principles of succession were developed independently of evolutionary thought.\"]\n",
      "GT target: 1\n"
     ]
    },
    {
     "name": "stderr",
     "output_type": "stream",
     "text": [
      "Lime attribution: 100%|███████████████████████████| 3/3 [00:24<00:00,  8.27s/it]\n"
     ]
    },
    {
     "name": "stdout",
     "output_type": "stream",
     "text": [
      "word attr tensor([-0.3415,  0.0266,  0.1679,  0.0437, -0.0014,  0.0993, -0.0242,  0.2406,\n",
      "        -0.0410,  0.2322,  0.0777,  0.2456,  0.2069,  0.1209,  0.2895,  0.0288,\n",
      "        -0.0594, -0.1170,  0.1437, -0.1098, -0.0645, -0.0100, -0.0569,  0.1208,\n",
      "        -0.2358, -0.1697, -0.2808, -0.0392, -0.0206,  0.1371, -0.0713,  0.0892,\n",
      "        -0.2028,  0.0599,  0.0559,  0.1564,  0.0834, -0.0881, -0.0130, -0.0570,\n",
      "         0.1379,  0.1906, -0.0109, -0.1455, -0.0030,  0.1030,  0.1243,  0.0296,\n",
      "        -0.0311, -0.0378,  0.0694, -0.0339, -0.1401,  0.1703, -0.0107])\n",
      "conti attr [tensor(-0.3415), tensor(0.0266), tensor(0.1679), tensor(0.0437), tensor(0.0737), tensor(0.2406), tensor(-0.0410), tensor(0.2322), tensor(0.0777), tensor(0.2456), tensor(0.2069), tensor(0.1209), tensor(0.2895), tensor(0.0288), tensor(-0.1763), tensor(0.1437), tensor(-0.1098), tensor(-0.0645), tensor(-0.0100), tensor(-0.0569), tensor(0.1208), tensor(-0.2358), tensor(-0.1697), tensor(-0.2808), tensor(-0.0392), tensor(-0.0206), tensor(0.1371), tensor(-0.0713), tensor(0.0892), tensor(-0.2028), tensor(0.0599), tensor(0.0559), tensor(0.1564), tensor(0.0834), tensor(-0.1011), tensor(-0.0570), tensor(0.1379), tensor(0.1796), tensor(-0.1455), tensor(-0.0030), tensor(0.1030), tensor(0.1243), tensor(0.0296), tensor(-0.0311), tensor(-0.0378), tensor(0.0694), tensor(-0.0339), tensor(0.0302), tensor(-0.0107)]\n",
      "detokenized ['<s>', 'The', 'principle', 'of', 'f', 'aun', 'al', 'succession', 'was', 'developed', '100', 'years', 'before', 'whose', 'theory', 'of', 'evolution', '?', '</s>', '</s>', 'Based', 'on', 'principles', 'laid', 'out', 'by', 'William', 'Smith', 'almost', 'a', 'hundred', 'years', 'before', 'the', 'publication', 'of', 'Charles', 'Darwin', \"'s\", 'theory', 'of', 'evolution', ',', 'the', 'principles', 'of', 'succession', 'were', 'developed', 'independently', 'of', 'evolutionary', 'thought', '.', '</s>']\n",
      "len conti_raw 49\n",
      "conti_raw ['<s>', 'The', 'principle', 'of', 'faunal', 'succession', 'was', 'developed', '100', 'years', 'before', 'whose', 'theory', 'of', 'evolution?', '</s>', '</s>', 'Based', 'on', 'principles', 'laid', 'out', 'by', 'William', 'Smith', 'almost', 'a', 'hundred', 'years', 'before', 'the', 'publication', 'of', 'Charles', \"Darwin's\", 'theory', 'of', 'evolution,', 'the', 'principles', 'of', 'succession', 'were', 'developed', 'independently', 'of', 'evolutionary', 'thought.', '</s>']\n",
      "pred_prob 0.9973107576370239\n"
     ]
    },
    {
     "data": {
      "text/html": [
       "<table width: 100%><div style=\"border-top: 1px solid; margin-top: 5px;             padding-top: 5px; display: inline-block\"><b>Legend: </b><span style=\"display: inline-block; width: 10px; height: 10px;                 border: 1px solid; background-color:                 hsl(0, 75%, 60%)\"></span> Negative  <span style=\"display: inline-block; width: 10px; height: 10px;                 border: 1px solid; background-color:                 hsl(0, 75%, 100%)\"></span> Neutral  <span style=\"display: inline-block; width: 10px; height: 10px;                 border: 1px solid; background-color:                 hsl(120, 75%, 50%)\"></span> Positive  </div><tr><th>True Label</th><th>Predicted Label</th><th>Attribution Label</th><th>Attribution Score</th><th>Word Importance</th><tr><td><text style=\"padding-right:2em\"><b>Entailment</b></text></td><td><text style=\"padding-right:2em\"><b>Entailment (1.00)</b></text></td><td><text style=\"padding-right:2em\"><b>Entailment</b></text></td><td><text style=\"padding-right:2em\"><b>1.03</b></text></td><td><mark style=\"background-color: hsl(0, 75%, 87%); opacity:1.0;                     line-height:1.75\"><font color=\"black\"> #s                    </font></mark><mark style=\"background-color: hsl(120, 75%, 99%); opacity:1.0;                     line-height:1.75\"><font color=\"black\"> The                    </font></mark><mark style=\"background-color: hsl(120, 75%, 92%); opacity:1.0;                     line-height:1.75\"><font color=\"black\"> principle                    </font></mark><mark style=\"background-color: hsl(120, 75%, 98%); opacity:1.0;                     line-height:1.75\"><font color=\"black\"> of                    </font></mark><mark style=\"background-color: hsl(120, 75%, 97%); opacity:1.0;                     line-height:1.75\"><font color=\"black\"> faunal                    </font></mark><mark style=\"background-color: hsl(120, 75%, 88%); opacity:1.0;                     line-height:1.75\"><font color=\"black\"> succession                    </font></mark><mark style=\"background-color: hsl(0, 75%, 99%); opacity:1.0;                     line-height:1.75\"><font color=\"black\"> was                    </font></mark><mark style=\"background-color: hsl(120, 75%, 89%); opacity:1.0;                     line-height:1.75\"><font color=\"black\"> developed                    </font></mark><mark style=\"background-color: hsl(120, 75%, 97%); opacity:1.0;                     line-height:1.75\"><font color=\"black\"> 100                    </font></mark><mark style=\"background-color: hsl(120, 75%, 88%); opacity:1.0;                     line-height:1.75\"><font color=\"black\"> years                    </font></mark><mark style=\"background-color: hsl(120, 75%, 90%); opacity:1.0;                     line-height:1.75\"><font color=\"black\"> before                    </font></mark><mark style=\"background-color: hsl(120, 75%, 94%); opacity:1.0;                     line-height:1.75\"><font color=\"black\"> whose                    </font></mark><mark style=\"background-color: hsl(120, 75%, 86%); opacity:1.0;                     line-height:1.75\"><font color=\"black\"> theory                    </font></mark><mark style=\"background-color: hsl(120, 75%, 99%); opacity:1.0;                     line-height:1.75\"><font color=\"black\"> of                    </font></mark><mark style=\"background-color: hsl(0, 75%, 93%); opacity:1.0;                     line-height:1.75\"><font color=\"black\"> evolution?                    </font></mark><mark style=\"background-color: hsl(120, 75%, 93%); opacity:1.0;                     line-height:1.75\"><font color=\"black\"> #/s                    </font></mark><mark style=\"background-color: hsl(0, 75%, 96%); opacity:1.0;                     line-height:1.75\"><font color=\"black\"> #/s                    </font></mark><mark style=\"background-color: hsl(0, 75%, 98%); opacity:1.0;                     line-height:1.75\"><font color=\"black\"> Based                    </font></mark><mark style=\"background-color: hsl(0, 75%, 100%); opacity:1.0;                     line-height:1.75\"><font color=\"black\"> on                    </font></mark><mark style=\"background-color: hsl(0, 75%, 98%); opacity:1.0;                     line-height:1.75\"><font color=\"black\"> principles                    </font></mark><mark style=\"background-color: hsl(120, 75%, 94%); opacity:1.0;                     line-height:1.75\"><font color=\"black\"> laid                    </font></mark><mark style=\"background-color: hsl(0, 75%, 91%); opacity:1.0;                     line-height:1.75\"><font color=\"black\"> out                    </font></mark><mark style=\"background-color: hsl(0, 75%, 94%); opacity:1.0;                     line-height:1.75\"><font color=\"black\"> by                    </font></mark><mark style=\"background-color: hsl(0, 75%, 89%); opacity:1.0;                     line-height:1.75\"><font color=\"black\"> William                    </font></mark><mark style=\"background-color: hsl(0, 75%, 99%); opacity:1.0;                     line-height:1.75\"><font color=\"black\"> Smith                    </font></mark><mark style=\"background-color: hsl(0, 75%, 100%); opacity:1.0;                     line-height:1.75\"><font color=\"black\"> almost                    </font></mark><mark style=\"background-color: hsl(120, 75%, 94%); opacity:1.0;                     line-height:1.75\"><font color=\"black\"> a                    </font></mark><mark style=\"background-color: hsl(0, 75%, 98%); opacity:1.0;                     line-height:1.75\"><font color=\"black\"> hundred                    </font></mark><mark style=\"background-color: hsl(120, 75%, 96%); opacity:1.0;                     line-height:1.75\"><font color=\"black\"> years                    </font></mark><mark style=\"background-color: hsl(0, 75%, 92%); opacity:1.0;                     line-height:1.75\"><font color=\"black\"> before                    </font></mark><mark style=\"background-color: hsl(120, 75%, 98%); opacity:1.0;                     line-height:1.75\"><font color=\"black\"> the                    </font></mark><mark style=\"background-color: hsl(120, 75%, 98%); opacity:1.0;                     line-height:1.75\"><font color=\"black\"> publication                    </font></mark><mark style=\"background-color: hsl(120, 75%, 93%); opacity:1.0;                     line-height:1.75\"><font color=\"black\"> of                    </font></mark><mark style=\"background-color: hsl(120, 75%, 96%); opacity:1.0;                     line-height:1.75\"><font color=\"black\"> Charles                    </font></mark><mark style=\"background-color: hsl(0, 75%, 96%); opacity:1.0;                     line-height:1.75\"><font color=\"black\"> Darwin's                    </font></mark><mark style=\"background-color: hsl(0, 75%, 98%); opacity:1.0;                     line-height:1.75\"><font color=\"black\"> theory                    </font></mark><mark style=\"background-color: hsl(120, 75%, 94%); opacity:1.0;                     line-height:1.75\"><font color=\"black\"> of                    </font></mark><mark style=\"background-color: hsl(120, 75%, 92%); opacity:1.0;                     line-height:1.75\"><font color=\"black\"> evolution,                    </font></mark><mark style=\"background-color: hsl(0, 75%, 95%); opacity:1.0;                     line-height:1.75\"><font color=\"black\"> the                    </font></mark><mark style=\"background-color: hsl(0, 75%, 100%); opacity:1.0;                     line-height:1.75\"><font color=\"black\"> principles                    </font></mark><mark style=\"background-color: hsl(120, 75%, 95%); opacity:1.0;                     line-height:1.75\"><font color=\"black\"> of                    </font></mark><mark style=\"background-color: hsl(120, 75%, 94%); opacity:1.0;                     line-height:1.75\"><font color=\"black\"> succession                    </font></mark><mark style=\"background-color: hsl(120, 75%, 99%); opacity:1.0;                     line-height:1.75\"><font color=\"black\"> were                    </font></mark><mark style=\"background-color: hsl(0, 75%, 99%); opacity:1.0;                     line-height:1.75\"><font color=\"black\"> developed                    </font></mark><mark style=\"background-color: hsl(0, 75%, 99%); opacity:1.0;                     line-height:1.75\"><font color=\"black\"> independently                    </font></mark><mark style=\"background-color: hsl(120, 75%, 97%); opacity:1.0;                     line-height:1.75\"><font color=\"black\"> of                    </font></mark><mark style=\"background-color: hsl(0, 75%, 99%); opacity:1.0;                     line-height:1.75\"><font color=\"black\"> evolutionary                    </font></mark><mark style=\"background-color: hsl(120, 75%, 99%); opacity:1.0;                     line-height:1.75\"><font color=\"black\"> thought.                    </font></mark><mark style=\"background-color: hsl(0, 75%, 100%); opacity:1.0;                     line-height:1.75\"><font color=\"black\"> #/s                    </font></mark></td><tr></table>"
      ],
      "text/plain": [
       "<IPython.core.display.HTML object>"
      ]
     },
     "metadata": {},
     "output_type": "display_data"
    },
    {
     "name": "stderr",
     "output_type": "stream",
     "text": [
      "/home/user/anaconda3/envs/py38/lib/python3.9/site-packages/captum/attr/_core/lime.py:1088: UserWarning: Attempting to construct interpretable model with > 10000 features.This can be very slow or lead to OOM issues. Please provide a featuremask which groups input features to reduce the number of interpretablefeatures. \n",
      "  warnings.warn(\n"
     ]
    },
    {
     "name": "stdout",
     "output_type": "stream",
     "text": [
      "<IPython.core.display.HTML object>\n",
      "i: 29\n",
      "Raw datum: ['How many times did Luther preach in Halle in 1545 and 1546?', 'In 1545 and 1546 Luther preached three times in the Market Church in Halle, staying with his friend Justus Jonas during Christmas.']\n",
      "GT target: 1\n"
     ]
    },
    {
     "name": "stderr",
     "output_type": "stream",
     "text": [
      "Lime attribution: 100%|███████████████████████████| 3/3 [00:20<00:00,  7.00s/it]\n"
     ]
    },
    {
     "name": "stdout",
     "output_type": "stream",
     "text": [
      "word attr tensor([ 0.4679,  0.1048,  0.1086,  0.1495,  0.0758, -0.0507,  0.2325,  0.0439,\n",
      "         0.1498,  0.0802, -0.1983, -0.0277,  0.0672,  0.2125,  0.0942, -0.1990,\n",
      "         0.1419, -0.1711, -0.0760, -0.2271,  0.0276, -0.0964,  0.1642,  0.0326,\n",
      "        -0.0615,  0.0423,  0.0033, -0.0355,  0.3461,  0.0042,  0.0229, -0.0186,\n",
      "         0.0950,  0.0028,  0.0239, -0.1983, -0.0908,  0.0659, -0.1120, -0.0866,\n",
      "        -0.0774, -0.1768,  0.1970, -0.1254, -0.1286,  0.1244,  0.1459,  0.0749])\n",
      "conti attr [tensor(0.4679), tensor(0.1048), tensor(0.1086), tensor(0.1495), tensor(0.0758), tensor(-0.0507), tensor(0.2325), tensor(0.0439), tensor(0.2299), tensor(-0.1983), tensor(0.0395), tensor(0.2125), tensor(0.0371), tensor(-0.1711), tensor(-0.0760), tensor(-0.2271), tensor(-0.0688), tensor(0.1642), tensor(-0.0289), tensor(0.0423), tensor(0.0033), tensor(-0.0355), tensor(0.3461), tensor(0.0042), tensor(0.0229), tensor(-0.0186), tensor(0.0950), tensor(0.0028), tensor(-0.2652), tensor(0.0659), tensor(-0.1120), tensor(-0.0866), tensor(-0.0774), tensor(0.0203), tensor(-0.1254), tensor(-0.1286), tensor(0.2704), tensor(0.0749)]\n",
      "detokenized ['<s>', 'How', 'many', 'times', 'did', 'Luther', 'preach', 'in', 'H', 'alle', 'in', '15', '45', 'and', '15', '46', '?', '</s>', '</s>', 'In', '15', '45', 'and', '15', '46', 'Luther', 'preached', 'three', 'times', 'in', 'the', 'Market', 'Church', 'in', 'H', 'alle', ',', 'staying', 'with', 'his', 'friend', 'Just', 'us', 'Jonas', 'during', 'Christmas', '.', '</s>']\n",
      "len conti_raw 38\n",
      "conti_raw ['<s>', 'How', 'many', 'times', 'did', 'Luther', 'preach', 'in', 'Halle', 'in', '1545', 'and', '1546?', '</s>', '</s>', 'In', '1545', 'and', '1546', 'Luther', 'preached', 'three', 'times', 'in', 'the', 'Market', 'Church', 'in', 'Halle,', 'staying', 'with', 'his', 'friend', 'Justus', 'Jonas', 'during', 'Christmas.', '</s>']\n",
      "pred_prob 0.997323215007782\n"
     ]
    },
    {
     "data": {
      "text/html": [
       "<table width: 100%><div style=\"border-top: 1px solid; margin-top: 5px;             padding-top: 5px; display: inline-block\"><b>Legend: </b><span style=\"display: inline-block; width: 10px; height: 10px;                 border: 1px solid; background-color:                 hsl(0, 75%, 60%)\"></span> Negative  <span style=\"display: inline-block; width: 10px; height: 10px;                 border: 1px solid; background-color:                 hsl(0, 75%, 100%)\"></span> Neutral  <span style=\"display: inline-block; width: 10px; height: 10px;                 border: 1px solid; background-color:                 hsl(120, 75%, 50%)\"></span> Positive  </div><tr><th>True Label</th><th>Predicted Label</th><th>Attribution Label</th><th>Attribution Score</th><th>Word Importance</th><tr><td><text style=\"padding-right:2em\"><b>Entailment</b></text></td><td><text style=\"padding-right:2em\"><b>Entailment (1.00)</b></text></td><td><text style=\"padding-right:2em\"><b>Entailment</b></text></td><td><text style=\"padding-right:2em\"><b>1.14</b></text></td><td><mark style=\"background-color: hsl(120, 75%, 77%); opacity:1.0;                     line-height:1.75\"><font color=\"black\"> #s                    </font></mark><mark style=\"background-color: hsl(120, 75%, 95%); opacity:1.0;                     line-height:1.75\"><font color=\"black\"> How                    </font></mark><mark style=\"background-color: hsl(120, 75%, 95%); opacity:1.0;                     line-height:1.75\"><font color=\"black\"> many                    </font></mark><mark style=\"background-color: hsl(120, 75%, 93%); opacity:1.0;                     line-height:1.75\"><font color=\"black\"> times                    </font></mark><mark style=\"background-color: hsl(120, 75%, 97%); opacity:1.0;                     line-height:1.75\"><font color=\"black\"> did                    </font></mark><mark style=\"background-color: hsl(0, 75%, 98%); opacity:1.0;                     line-height:1.75\"><font color=\"black\"> Luther                    </font></mark><mark style=\"background-color: hsl(120, 75%, 89%); opacity:1.0;                     line-height:1.75\"><font color=\"black\"> preach                    </font></mark><mark style=\"background-color: hsl(120, 75%, 98%); opacity:1.0;                     line-height:1.75\"><font color=\"black\"> in                    </font></mark><mark style=\"background-color: hsl(120, 75%, 89%); opacity:1.0;                     line-height:1.75\"><font color=\"black\"> Halle                    </font></mark><mark style=\"background-color: hsl(0, 75%, 93%); opacity:1.0;                     line-height:1.75\"><font color=\"black\"> in                    </font></mark><mark style=\"background-color: hsl(120, 75%, 99%); opacity:1.0;                     line-height:1.75\"><font color=\"black\"> 1545                    </font></mark><mark style=\"background-color: hsl(120, 75%, 90%); opacity:1.0;                     line-height:1.75\"><font color=\"black\"> and                    </font></mark><mark style=\"background-color: hsl(120, 75%, 99%); opacity:1.0;                     line-height:1.75\"><font color=\"black\"> 1546?                    </font></mark><mark style=\"background-color: hsl(0, 75%, 94%); opacity:1.0;                     line-height:1.75\"><font color=\"black\"> #/s                    </font></mark><mark style=\"background-color: hsl(0, 75%, 97%); opacity:1.0;                     line-height:1.75\"><font color=\"black\"> #/s                    </font></mark><mark style=\"background-color: hsl(0, 75%, 91%); opacity:1.0;                     line-height:1.75\"><font color=\"black\"> In                    </font></mark><mark style=\"background-color: hsl(0, 75%, 98%); opacity:1.0;                     line-height:1.75\"><font color=\"black\"> 1545                    </font></mark><mark style=\"background-color: hsl(120, 75%, 92%); opacity:1.0;                     line-height:1.75\"><font color=\"black\"> and                    </font></mark><mark style=\"background-color: hsl(0, 75%, 99%); opacity:1.0;                     line-height:1.75\"><font color=\"black\"> 1546                    </font></mark><mark style=\"background-color: hsl(120, 75%, 98%); opacity:1.0;                     line-height:1.75\"><font color=\"black\"> Luther                    </font></mark><mark style=\"background-color: hsl(120, 75%, 100%); opacity:1.0;                     line-height:1.75\"><font color=\"black\"> preached                    </font></mark><mark style=\"background-color: hsl(0, 75%, 99%); opacity:1.0;                     line-height:1.75\"><font color=\"black\"> three                    </font></mark><mark style=\"background-color: hsl(120, 75%, 83%); opacity:1.0;                     line-height:1.75\"><font color=\"black\"> times                    </font></mark><mark style=\"background-color: hsl(120, 75%, 100%); opacity:1.0;                     line-height:1.75\"><font color=\"black\"> in                    </font></mark><mark style=\"background-color: hsl(120, 75%, 99%); opacity:1.0;                     line-height:1.75\"><font color=\"black\"> the                    </font></mark><mark style=\"background-color: hsl(0, 75%, 100%); opacity:1.0;                     line-height:1.75\"><font color=\"black\"> Market                    </font></mark><mark style=\"background-color: hsl(120, 75%, 96%); opacity:1.0;                     line-height:1.75\"><font color=\"black\"> Church                    </font></mark><mark style=\"background-color: hsl(120, 75%, 100%); opacity:1.0;                     line-height:1.75\"><font color=\"black\"> in                    </font></mark><mark style=\"background-color: hsl(0, 75%, 90%); opacity:1.0;                     line-height:1.75\"><font color=\"black\"> Halle,                    </font></mark><mark style=\"background-color: hsl(120, 75%, 97%); opacity:1.0;                     line-height:1.75\"><font color=\"black\"> staying                    </font></mark><mark style=\"background-color: hsl(0, 75%, 96%); opacity:1.0;                     line-height:1.75\"><font color=\"black\"> with                    </font></mark><mark style=\"background-color: hsl(0, 75%, 97%); opacity:1.0;                     line-height:1.75\"><font color=\"black\"> his                    </font></mark><mark style=\"background-color: hsl(0, 75%, 97%); opacity:1.0;                     line-height:1.75\"><font color=\"black\"> friend                    </font></mark><mark style=\"background-color: hsl(120, 75%, 99%); opacity:1.0;                     line-height:1.75\"><font color=\"black\"> Justus                    </font></mark><mark style=\"background-color: hsl(0, 75%, 95%); opacity:1.0;                     line-height:1.75\"><font color=\"black\"> Jonas                    </font></mark><mark style=\"background-color: hsl(0, 75%, 95%); opacity:1.0;                     line-height:1.75\"><font color=\"black\"> during                    </font></mark><mark style=\"background-color: hsl(120, 75%, 87%); opacity:1.0;                     line-height:1.75\"><font color=\"black\"> Christmas.                    </font></mark><mark style=\"background-color: hsl(120, 75%, 97%); opacity:1.0;                     line-height:1.75\"><font color=\"black\"> #/s                    </font></mark></td><tr></table>"
      ],
      "text/plain": [
       "<IPython.core.display.HTML object>"
      ]
     },
     "metadata": {},
     "output_type": "display_data"
    },
    {
     "name": "stderr",
     "output_type": "stream",
     "text": [
      "/home/user/anaconda3/envs/py38/lib/python3.9/site-packages/captum/attr/_core/lime.py:1088: UserWarning: Attempting to construct interpretable model with > 10000 features.This can be very slow or lead to OOM issues. Please provide a featuremask which groups input features to reduce the number of interpretablefeatures. \n",
      "  warnings.warn(\n"
     ]
    },
    {
     "name": "stdout",
     "output_type": "stream",
     "text": [
      "<IPython.core.display.HTML object>\n",
      "i: 30\n",
      "Raw datum: ['What part of the Rhine flows through North Rhine-Westphalia?', 'Here the Rhine flows through the largest conurbation in Germany, the Rhine-Ruhr region.']\n",
      "GT target: 0\n"
     ]
    },
    {
     "name": "stderr",
     "output_type": "stream",
     "text": [
      "Lime attribution: 100%|███████████████████████████| 3/3 [00:18<00:00,  6.19s/it]\n"
     ]
    },
    {
     "name": "stdout",
     "output_type": "stream",
     "text": [
      "word attr tensor([-4.4903e-01, -4.5775e-02,  9.8074e-02, -1.1311e-01,  9.9237e-02,\n",
      "         6.0956e-02, -6.4064e-02,  4.7709e-01,  1.9614e-01, -1.2750e-02,\n",
      "         1.6397e-01, -1.8477e-02,  8.6557e-02,  1.0133e-01,  1.7299e-02,\n",
      "        -2.2727e-04, -7.1020e-02, -5.5084e-02,  1.6273e-01, -8.9690e-02,\n",
      "         1.9499e-01, -3.0258e-02,  2.9234e-02,  3.3400e-01,  3.4024e-02,\n",
      "         2.0621e-02, -1.7804e-01,  1.6816e-01,  8.8712e-02, -1.7922e-01,\n",
      "        -8.6970e-02, -3.6439e-02, -2.6964e-01, -7.4196e-03,  4.5030e-02,\n",
      "         1.0573e-01, -3.7960e-02,  4.5285e-02, -2.0893e-01, -3.9010e-02,\n",
      "         5.3556e-02,  1.2728e-02, -5.1004e-02])\n",
      "conti attr [tensor(-0.4490), tensor(-0.0458), tensor(0.0981), tensor(-0.1131), tensor(0.0992), tensor(-0.0031), tensor(0.4771), tensor(0.1961), tensor(-0.0127), tensor(0.2794), tensor(-0.0551), tensor(0.1627), tensor(-0.0897), tensor(0.1950), tensor(-0.0010), tensor(0.3340), tensor(0.0340), tensor(0.0206), tensor(-0.1780), tensor(0.0776), tensor(-0.0870), tensor(-0.3061), tensor(-0.0074), tensor(-0.0899), tensor(0.0663), tensor(-0.0510)]\n",
      "detokenized ['<s>', 'What', 'part', 'of', 'the', 'Rh', 'ine', 'flows', 'through', 'North', 'Rh', 'ine', '-', 'West', 'ph', 'alia', '?', '</s>', '</s>', 'Here', 'the', 'Rh', 'ine', 'flows', 'through', 'the', 'largest', 'con', 'urb', 'ation', 'in', 'Germany', ',', 'the', 'Rh', 'ine', '-', 'R', 'uh', 'r', 'region', '.', '</s>']\n",
      "len conti_raw 26\n",
      "conti_raw ['<s>', 'What', 'part', 'of', 'the', 'Rhine', 'flows', 'through', 'North', 'Rhine-Westphalia?', '</s>', '</s>', 'Here', 'the', 'Rhine', 'flows', 'through', 'the', 'largest', 'conurbation', 'in', 'Germany,', 'the', 'Rhine-Ruhr', 'region.', '</s>']\n",
      "pred_prob 0.009265093132853508\n"
     ]
    },
    {
     "data": {
      "text/html": [
       "<table width: 100%><div style=\"border-top: 1px solid; margin-top: 5px;             padding-top: 5px; display: inline-block\"><b>Legend: </b><span style=\"display: inline-block; width: 10px; height: 10px;                 border: 1px solid; background-color:                 hsl(0, 75%, 60%)\"></span> Negative  <span style=\"display: inline-block; width: 10px; height: 10px;                 border: 1px solid; background-color:                 hsl(0, 75%, 100%)\"></span> Neutral  <span style=\"display: inline-block; width: 10px; height: 10px;                 border: 1px solid; background-color:                 hsl(120, 75%, 50%)\"></span> Positive  </div><tr><th>True Label</th><th>Predicted Label</th><th>Attribution Label</th><th>Attribution Score</th><th>Word Importance</th><tr><td><text style=\"padding-right:2em\"><b>No Entailment</b></text></td><td><text style=\"padding-right:2em\"><b>No Entailment (0.01)</b></text></td><td><text style=\"padding-right:2em\"><b>Entailment</b></text></td><td><text style=\"padding-right:2em\"><b>0.55</b></text></td><td><mark style=\"background-color: hsl(0, 75%, 83%); opacity:1.0;                     line-height:1.75\"><font color=\"black\"> #s                    </font></mark><mark style=\"background-color: hsl(0, 75%, 99%); opacity:1.0;                     line-height:1.75\"><font color=\"black\"> What                    </font></mark><mark style=\"background-color: hsl(120, 75%, 96%); opacity:1.0;                     line-height:1.75\"><font color=\"black\"> part                    </font></mark><mark style=\"background-color: hsl(0, 75%, 96%); opacity:1.0;                     line-height:1.75\"><font color=\"black\"> of                    </font></mark><mark style=\"background-color: hsl(120, 75%, 96%); opacity:1.0;                     line-height:1.75\"><font color=\"black\"> the                    </font></mark><mark style=\"background-color: hsl(0, 75%, 100%); opacity:1.0;                     line-height:1.75\"><font color=\"black\"> Rhine                    </font></mark><mark style=\"background-color: hsl(120, 75%, 77%); opacity:1.0;                     line-height:1.75\"><font color=\"black\"> flows                    </font></mark><mark style=\"background-color: hsl(120, 75%, 91%); opacity:1.0;                     line-height:1.75\"><font color=\"black\"> through                    </font></mark><mark style=\"background-color: hsl(0, 75%, 100%); opacity:1.0;                     line-height:1.75\"><font color=\"black\"> North                    </font></mark><mark style=\"background-color: hsl(120, 75%, 87%); opacity:1.0;                     line-height:1.75\"><font color=\"black\"> Rhine-Westphalia?                    </font></mark><mark style=\"background-color: hsl(0, 75%, 98%); opacity:1.0;                     line-height:1.75\"><font color=\"black\"> #/s                    </font></mark><mark style=\"background-color: hsl(120, 75%, 92%); opacity:1.0;                     line-height:1.75\"><font color=\"black\"> #/s                    </font></mark><mark style=\"background-color: hsl(0, 75%, 97%); opacity:1.0;                     line-height:1.75\"><font color=\"black\"> Here                    </font></mark><mark style=\"background-color: hsl(120, 75%, 91%); opacity:1.0;                     line-height:1.75\"><font color=\"black\"> the                    </font></mark><mark style=\"background-color: hsl(0, 75%, 100%); opacity:1.0;                     line-height:1.75\"><font color=\"black\"> Rhine                    </font></mark><mark style=\"background-color: hsl(120, 75%, 84%); opacity:1.0;                     line-height:1.75\"><font color=\"black\"> flows                    </font></mark><mark style=\"background-color: hsl(120, 75%, 99%); opacity:1.0;                     line-height:1.75\"><font color=\"black\"> through                    </font></mark><mark style=\"background-color: hsl(120, 75%, 99%); opacity:1.0;                     line-height:1.75\"><font color=\"black\"> the                    </font></mark><mark style=\"background-color: hsl(0, 75%, 93%); opacity:1.0;                     line-height:1.75\"><font color=\"black\"> largest                    </font></mark><mark style=\"background-color: hsl(120, 75%, 97%); opacity:1.0;                     line-height:1.75\"><font color=\"black\"> conurbation                    </font></mark><mark style=\"background-color: hsl(0, 75%, 97%); opacity:1.0;                     line-height:1.75\"><font color=\"black\"> in                    </font></mark><mark style=\"background-color: hsl(0, 75%, 88%); opacity:1.0;                     line-height:1.75\"><font color=\"black\"> Germany,                    </font></mark><mark style=\"background-color: hsl(0, 75%, 100%); opacity:1.0;                     line-height:1.75\"><font color=\"black\"> the                    </font></mark><mark style=\"background-color: hsl(0, 75%, 97%); opacity:1.0;                     line-height:1.75\"><font color=\"black\"> Rhine-Ruhr                    </font></mark><mark style=\"background-color: hsl(120, 75%, 97%); opacity:1.0;                     line-height:1.75\"><font color=\"black\"> region.                    </font></mark><mark style=\"background-color: hsl(0, 75%, 98%); opacity:1.0;                     line-height:1.75\"><font color=\"black\"> #/s                    </font></mark></td><tr></table>"
      ],
      "text/plain": [
       "<IPython.core.display.HTML object>"
      ]
     },
     "metadata": {},
     "output_type": "display_data"
    },
    {
     "name": "stderr",
     "output_type": "stream",
     "text": [
      "/home/user/anaconda3/envs/py38/lib/python3.9/site-packages/captum/attr/_core/lime.py:1088: UserWarning: Attempting to construct interpretable model with > 10000 features.This can be very slow or lead to OOM issues. Please provide a featuremask which groups input features to reduce the number of interpretablefeatures. \n",
      "  warnings.warn(\n"
     ]
    },
    {
     "name": "stdout",
     "output_type": "stream",
     "text": [
      "<IPython.core.display.HTML object>\n",
      "i: 31\n",
      "Raw datum: ['What is the most important thing apicoplasts do?', 'The most important apicoplast function is isopentenyl pyrophosphate synthesis—in fact, apicomplexans die when something interferes with this apicoplast function, and when apicomplexans are grown in an isopentenyl pyrophosphate-rich medium, they dump the organelle.']\n",
      "GT target: 1\n"
     ]
    },
    {
     "name": "stderr",
     "output_type": "stream",
     "text": [
      "Lime attribution: 100%|███████████████████████████| 3/3 [00:39<00:00, 13.16s/it]\n"
     ]
    },
    {
     "name": "stdout",
     "output_type": "stream",
     "text": [
      "word attr tensor([-0.4305, -0.0343,  0.0087,  0.0276,  0.3605,  0.2521,  0.0277,  0.0315,\n",
      "         0.0682, -0.1114,  0.0371, -0.0813, -0.1267,  0.0703,  0.0253,  0.0680,\n",
      "         0.4019,  0.3419, -0.0756, -0.0388, -0.1186,  0.0627, -0.0550, -0.0104,\n",
      "         0.1210,  0.0024, -0.0692,  0.0040, -0.0355, -0.0987,  0.0026,  0.0590,\n",
      "         0.0305, -0.0540, -0.0590, -0.0713, -0.1715, -0.0748, -0.0629,  0.0848,\n",
      "        -0.0429, -0.0070, -0.0439,  0.0444, -0.0122, -0.0199,  0.0992,  0.0922,\n",
      "         0.0269, -0.0482, -0.0405, -0.0459, -0.0268,  0.0492,  0.0803, -0.0515,\n",
      "         0.0448,  0.0419,  0.0209, -0.0170,  0.0768,  0.0143, -0.0277, -0.0049,\n",
      "         0.0529, -0.0531, -0.0592,  0.1052, -0.1314, -0.1117,  0.0199, -0.0083,\n",
      "        -0.0297, -0.1550, -0.0424, -0.0662,  0.0429,  0.0363, -0.0503, -0.0288,\n",
      "        -0.0091,  0.0366, -0.0599,  0.0396,  0.0818, -0.0729,  0.0654, -0.0284])\n",
      "conti attr [tensor(-0.4305), tensor(-0.0343), tensor(0.0087), tensor(0.0276), tensor(0.3605), tensor(0.2521), tensor(0.0277), tensor(0.0254), tensor(-0.2080), tensor(0.0703), tensor(0.0253), tensor(0.0680), tensor(0.4019), tensor(0.3419), tensor(-0.1704), tensor(-0.0550), tensor(-0.0104), tensor(0.0227), tensor(-0.0066), tensor(-0.1843), tensor(-0.2463), tensor(-0.0720), tensor(0.0444), tensor(-0.0122), tensor(-0.0199), tensor(0.2183), tensor(-0.0482), tensor(-0.0405), tensor(0.0569), tensor(-0.0067), tensor(0.0419), tensor(0.0209), tensor(0.0415), tensor(0.0529), tensor(-0.0531), tensor(-0.0592), tensor(0.1052), tensor(-0.2612), tensor(-0.2347), tensor(-0.0379), tensor(0.0366), tensor(-0.0599), tensor(0.0396), tensor(0.0744), tensor(-0.0284)]\n",
      "detokenized ['<s>', 'What', 'is', 'the', 'most', 'important', 'thing', 'ap', 'ic', 'opl', 'asts', 'do', '?', '</s>', '</s>', 'The', 'most', 'important', 'ap', 'ic', 'op', 'last', 'function', 'is', 'is', 'op', 'ent', 'en', 'yl', 'py', 'roph', 'osph', 'ate', 'synthesis', 'âĢĶ', 'in', 'fact', ',', 'ap', 'ic', 'om', 'plex', 'ans', 'die', 'when', 'something', 'inter', 'fe', 'res', 'with', 'this', 'ap', 'ic', 'op', 'last', 'function', ',', 'and', 'when', 'ap', 'ic', 'om', 'plex', 'ans', 'are', 'grown', 'in', 'an', 'is', 'op', 'ent', 'en', 'yl', 'py', 'roph', 'osph', 'ate', '-', 'rich', 'medium', ',', 'they', 'dump', 'the', 'organ', 'elle', '.', '</s>']\n",
      "len conti_raw 45\n",
      "conti_raw ['<s>', 'What', 'is', 'the', 'most', 'important', 'thing', 'apicoplasts', 'do?', '</s>', '</s>', 'The', 'most', 'important', 'apicoplast', 'function', 'is', 'isopentenyl', 'pyrophosphate', 'synthesisâĢĶin', 'fact,', 'apicomplexans', 'die', 'when', 'something', 'interferes', 'with', 'this', 'apicoplast', 'function,', 'and', 'when', 'apicomplexans', 'are', 'grown', 'in', 'an', 'isopentenyl', 'pyrophosphate-rich', 'medium,', 'they', 'dump', 'the', 'organelle.', '</s>']\n",
      "pred_prob 0.6008754372596741\n"
     ]
    },
    {
     "data": {
      "text/html": [
       "<table width: 100%><div style=\"border-top: 1px solid; margin-top: 5px;             padding-top: 5px; display: inline-block\"><b>Legend: </b><span style=\"display: inline-block; width: 10px; height: 10px;                 border: 1px solid; background-color:                 hsl(0, 75%, 60%)\"></span> Negative  <span style=\"display: inline-block; width: 10px; height: 10px;                 border: 1px solid; background-color:                 hsl(0, 75%, 100%)\"></span> Neutral  <span style=\"display: inline-block; width: 10px; height: 10px;                 border: 1px solid; background-color:                 hsl(120, 75%, 50%)\"></span> Positive  </div><tr><th>True Label</th><th>Predicted Label</th><th>Attribution Label</th><th>Attribution Score</th><th>Word Importance</th><tr><td><text style=\"padding-right:2em\"><b>Entailment</b></text></td><td><text style=\"padding-right:2em\"><b>Entailment (0.60)</b></text></td><td><text style=\"padding-right:2em\"><b>No Entailment</b></text></td><td><text style=\"padding-right:2em\"><b>0.09</b></text></td><td><mark style=\"background-color: hsl(0, 75%, 83%); opacity:1.0;                     line-height:1.75\"><font color=\"black\"> #s                    </font></mark><mark style=\"background-color: hsl(0, 75%, 99%); opacity:1.0;                     line-height:1.75\"><font color=\"black\"> What                    </font></mark><mark style=\"background-color: hsl(120, 75%, 100%); opacity:1.0;                     line-height:1.75\"><font color=\"black\"> is                    </font></mark><mark style=\"background-color: hsl(120, 75%, 99%); opacity:1.0;                     line-height:1.75\"><font color=\"black\"> the                    </font></mark><mark style=\"background-color: hsl(120, 75%, 82%); opacity:1.0;                     line-height:1.75\"><font color=\"black\"> most                    </font></mark><mark style=\"background-color: hsl(120, 75%, 88%); opacity:1.0;                     line-height:1.75\"><font color=\"black\"> important                    </font></mark><mark style=\"background-color: hsl(120, 75%, 99%); opacity:1.0;                     line-height:1.75\"><font color=\"black\"> thing                    </font></mark><mark style=\"background-color: hsl(120, 75%, 99%); opacity:1.0;                     line-height:1.75\"><font color=\"black\"> apicoplasts                    </font></mark><mark style=\"background-color: hsl(0, 75%, 92%); opacity:1.0;                     line-height:1.75\"><font color=\"black\"> do?                    </font></mark><mark style=\"background-color: hsl(120, 75%, 97%); opacity:1.0;                     line-height:1.75\"><font color=\"black\"> #/s                    </font></mark><mark style=\"background-color: hsl(120, 75%, 99%); opacity:1.0;                     line-height:1.75\"><font color=\"black\"> #/s                    </font></mark><mark style=\"background-color: hsl(120, 75%, 97%); opacity:1.0;                     line-height:1.75\"><font color=\"black\"> The                    </font></mark><mark style=\"background-color: hsl(120, 75%, 80%); opacity:1.0;                     line-height:1.75\"><font color=\"black\"> most                    </font></mark><mark style=\"background-color: hsl(120, 75%, 83%); opacity:1.0;                     line-height:1.75\"><font color=\"black\"> important                    </font></mark><mark style=\"background-color: hsl(0, 75%, 94%); opacity:1.0;                     line-height:1.75\"><font color=\"black\"> apicoplast                    </font></mark><mark style=\"background-color: hsl(0, 75%, 98%); opacity:1.0;                     line-height:1.75\"><font color=\"black\"> function                    </font></mark><mark style=\"background-color: hsl(0, 75%, 100%); opacity:1.0;                     line-height:1.75\"><font color=\"black\"> is                    </font></mark><mark style=\"background-color: hsl(120, 75%, 99%); opacity:1.0;                     line-height:1.75\"><font color=\"black\"> isopentenyl                    </font></mark><mark style=\"background-color: hsl(0, 75%, 100%); opacity:1.0;                     line-height:1.75\"><font color=\"black\"> pyrophosphate                    </font></mark><mark style=\"background-color: hsl(0, 75%, 93%); opacity:1.0;                     line-height:1.75\"><font color=\"black\"> synthesisâĢĶin                    </font></mark><mark style=\"background-color: hsl(0, 75%, 91%); opacity:1.0;                     line-height:1.75\"><font color=\"black\"> fact,                    </font></mark><mark style=\"background-color: hsl(0, 75%, 98%); opacity:1.0;                     line-height:1.75\"><font color=\"black\"> apicomplexans                    </font></mark><mark style=\"background-color: hsl(120, 75%, 98%); opacity:1.0;                     line-height:1.75\"><font color=\"black\"> die                    </font></mark><mark style=\"background-color: hsl(0, 75%, 100%); opacity:1.0;                     line-height:1.75\"><font color=\"black\"> when                    </font></mark><mark style=\"background-color: hsl(0, 75%, 100%); opacity:1.0;                     line-height:1.75\"><font color=\"black\"> something                    </font></mark><mark style=\"background-color: hsl(120, 75%, 90%); opacity:1.0;                     line-height:1.75\"><font color=\"black\"> interferes                    </font></mark><mark style=\"background-color: hsl(0, 75%, 99%); opacity:1.0;                     line-height:1.75\"><font color=\"black\"> with                    </font></mark><mark style=\"background-color: hsl(0, 75%, 99%); opacity:1.0;                     line-height:1.75\"><font color=\"black\"> this                    </font></mark><mark style=\"background-color: hsl(120, 75%, 98%); opacity:1.0;                     line-height:1.75\"><font color=\"black\"> apicoplast                    </font></mark><mark style=\"background-color: hsl(0, 75%, 100%); opacity:1.0;                     line-height:1.75\"><font color=\"black\"> function,                    </font></mark><mark style=\"background-color: hsl(120, 75%, 98%); opacity:1.0;                     line-height:1.75\"><font color=\"black\"> and                    </font></mark><mark style=\"background-color: hsl(120, 75%, 99%); opacity:1.0;                     line-height:1.75\"><font color=\"black\"> when                    </font></mark><mark style=\"background-color: hsl(120, 75%, 98%); opacity:1.0;                     line-height:1.75\"><font color=\"black\"> apicomplexans                    </font></mark><mark style=\"background-color: hsl(120, 75%, 98%); opacity:1.0;                     line-height:1.75\"><font color=\"black\"> are                    </font></mark><mark style=\"background-color: hsl(0, 75%, 98%); opacity:1.0;                     line-height:1.75\"><font color=\"black\"> grown                    </font></mark><mark style=\"background-color: hsl(0, 75%, 98%); opacity:1.0;                     line-height:1.75\"><font color=\"black\"> in                    </font></mark><mark style=\"background-color: hsl(120, 75%, 95%); opacity:1.0;                     line-height:1.75\"><font color=\"black\"> an                    </font></mark><mark style=\"background-color: hsl(0, 75%, 90%); opacity:1.0;                     line-height:1.75\"><font color=\"black\"> isopentenyl                    </font></mark><mark style=\"background-color: hsl(0, 75%, 91%); opacity:1.0;                     line-height:1.75\"><font color=\"black\"> pyrophosphate-rich                    </font></mark><mark style=\"background-color: hsl(0, 75%, 99%); opacity:1.0;                     line-height:1.75\"><font color=\"black\"> medium,                    </font></mark><mark style=\"background-color: hsl(120, 75%, 99%); opacity:1.0;                     line-height:1.75\"><font color=\"black\"> they                    </font></mark><mark style=\"background-color: hsl(0, 75%, 98%); opacity:1.0;                     line-height:1.75\"><font color=\"black\"> dump                    </font></mark><mark style=\"background-color: hsl(120, 75%, 99%); opacity:1.0;                     line-height:1.75\"><font color=\"black\"> the                    </font></mark><mark style=\"background-color: hsl(120, 75%, 97%); opacity:1.0;                     line-height:1.75\"><font color=\"black\"> organelle.                    </font></mark><mark style=\"background-color: hsl(0, 75%, 99%); opacity:1.0;                     line-height:1.75\"><font color=\"black\"> #/s                    </font></mark></td><tr></table>"
      ],
      "text/plain": [
       "<IPython.core.display.HTML object>"
      ]
     },
     "metadata": {},
     "output_type": "display_data"
    },
    {
     "name": "stderr",
     "output_type": "stream",
     "text": [
      "/home/user/anaconda3/envs/py38/lib/python3.9/site-packages/captum/attr/_core/lime.py:1088: UserWarning: Attempting to construct interpretable model with > 10000 features.This can be very slow or lead to OOM issues. Please provide a featuremask which groups input features to reduce the number of interpretablefeatures. \n",
      "  warnings.warn(\n"
     ]
    },
    {
     "name": "stdout",
     "output_type": "stream",
     "text": [
      "<IPython.core.display.HTML object>\n",
      "i: 32\n",
      "Raw datum: [\"When did ABC begin airing Dick Clark's New Year's Rockin' Eve?\", \"Since 1974, ABC has generally aired Dick Clark's New Year's Rockin' Eve on New Year's Eve (hosted first by its creator Dick Clark, and later by his successor Ryan Seacrest); the only exception was in 1999, when ABC put it on a one-year hiatus to provide coverage of the international millennium festivities, though Clark's traditional countdown from Times Square was still featured within the coverage.\"]\n",
      "GT target: 1\n"
     ]
    },
    {
     "name": "stderr",
     "output_type": "stream",
     "text": [
      "Lime attribution: 100%|███████████████████████████| 3/3 [00:46<00:00, 15.42s/it]\n"
     ]
    },
    {
     "name": "stdout",
     "output_type": "stream",
     "text": [
      "word attr tensor([-0.1341, -0.0353, -0.0651,  0.2290, -0.0246,  0.1317,  0.3141,  0.4095,\n",
      "        -0.1097,  0.0463,  0.0795, -0.0191, -0.0095, -0.0761,  0.1104,  0.1802,\n",
      "        -0.0601, -0.1139,  0.0538,  0.0213, -0.1333, -0.0736,  0.0790,  0.0280,\n",
      "        -0.3017,  0.0992, -0.0257,  0.0340,  0.0398, -0.0161,  0.0394,  0.0211,\n",
      "        -0.0023, -0.1309, -0.0309,  0.0481, -0.1486,  0.1472,  0.0121,  0.0992,\n",
      "         0.0218,  0.0761, -0.1148,  0.1408, -0.0880,  0.0810,  0.0200,  0.0832,\n",
      "         0.0922,  0.0464, -0.0194, -0.0510, -0.0301, -0.0954,  0.1107, -0.1174,\n",
      "         0.1328, -0.0447, -0.0405,  0.1250,  0.0155,  0.1489, -0.0906,  0.0310,\n",
      "         0.0648, -0.0969,  0.0247,  0.0815,  0.0077,  0.1196, -0.0255,  0.0661,\n",
      "         0.0516, -0.0366, -0.1204, -0.1335, -0.0613, -0.0498,  0.0677, -0.0262,\n",
      "        -0.0134, -0.0123,  0.0026, -0.0011, -0.1123,  0.0701, -0.0063, -0.0670,\n",
      "        -0.0164,  0.0173, -0.0046,  0.0102,  0.0501, -0.1435, -0.0175,  0.0553,\n",
      "         0.0771, -0.0341, -0.0977, -0.0411,  0.0157, -0.0143,  0.0466])\n",
      "conti attr [tensor(-0.1341), tensor(-0.0353), tensor(-0.0651), tensor(0.2290), tensor(-0.0246), tensor(0.1317), tensor(0.3141), tensor(0.2998), tensor(0.0463), tensor(0.0603), tensor(0.0249), tensor(0.1200), tensor(-0.1139), tensor(0.0538), tensor(0.0213), tensor(-0.2070), tensor(0.0790), tensor(0.0280), tensor(-0.3017), tensor(0.0992), tensor(-0.0257), tensor(0.0738), tensor(-0.0161), tensor(0.0605), tensor(-0.1641), tensor(0.0481), tensor(-0.1486), tensor(0.1472), tensor(0.1113), tensor(0.0218), tensor(0.1022), tensor(-0.0880), tensor(0.0810), tensor(0.0200), tensor(0.0832), tensor(0.0922), tensor(0.0270), tensor(-0.0510), tensor(-0.0301), tensor(-0.0954), tensor(0.1107), tensor(-0.1174), tensor(0.1328), tensor(0.0552), tensor(0.1489), tensor(-0.0906), tensor(0.0310), tensor(0.0648), tensor(-0.0969), tensor(0.1061), tensor(0.0077), tensor(0.1196), tensor(-0.0255), tensor(0.0661), tensor(0.0516), tensor(-0.0366), tensor(-0.3151), tensor(-0.0498), tensor(0.0677), tensor(-0.0262), tensor(-0.0134), tensor(-0.0123), tensor(0.0026), tensor(-0.0011), tensor(-0.1123), tensor(0.0637), tensor(-0.0670), tensor(0.0008), tensor(-0.0046), tensor(0.0102), tensor(0.0501), tensor(-0.1435), tensor(-0.0175), tensor(0.0553), tensor(0.0771), tensor(-0.0341), tensor(-0.0977), tensor(-0.0411), tensor(0.0013), tensor(0.0466)]\n",
      "detokenized ['<s>', 'When', 'did', 'ABC', 'begin', 'airing', 'Dick', 'Clark', \"'s\", 'New', 'Year', \"'s\", 'Rock', 'in', \"'\", 'Eve', '?', '</s>', '</s>', 'Since', '1974', ',', 'ABC', 'has', 'generally', 'aired', 'Dick', 'Clark', \"'s\", 'New', 'Year', \"'s\", 'Rock', 'in', \"'\", 'Eve', 'on', 'New', 'Year', \"'s\", 'Eve', '(', 'host', 'ed', 'first', 'by', 'its', 'creator', 'Dick', 'Clark', ',', 'and', 'later', 'by', 'his', 'successor', 'Ryan', 'Se', 'ac', 'rest', ');', 'the', 'only', 'exception', 'was', 'in', '1999', ',', 'when', 'ABC', 'put', 'it', 'on', 'a', 'one', '-', 'year', 'hiatus', 'to', 'provide', 'coverage', 'of', 'the', 'international', 'millennium', 'festivities', ',', 'though', 'Clark', \"'s\", 'traditional', 'countdown', 'from', 'Times', 'Square', 'was', 'still', 'featured', 'within', 'the', 'coverage', '.', '</s>']\n",
      "len conti_raw 80\n",
      "conti_raw ['<s>', 'When', 'did', 'ABC', 'begin', 'airing', 'Dick', \"Clark's\", 'New', \"Year's\", \"Rockin'\", 'Eve?', '</s>', '</s>', 'Since', '1974,', 'ABC', 'has', 'generally', 'aired', 'Dick', \"Clark's\", 'New', \"Year's\", \"Rockin'\", 'Eve', 'on', 'New', \"Year's\", 'Eve', '(hosted', 'first', 'by', 'its', 'creator', 'Dick', 'Clark,', 'and', 'later', 'by', 'his', 'successor', 'Ryan', 'Seacrest);', 'the', 'only', 'exception', 'was', 'in', '1999,', 'when', 'ABC', 'put', 'it', 'on', 'a', 'one-year', 'hiatus', 'to', 'provide', 'coverage', 'of', 'the', 'international', 'millennium', 'festivities,', 'though', \"Clark's\", 'traditional', 'countdown', 'from', 'Times', 'Square', 'was', 'still', 'featured', 'within', 'the', 'coverage.', '</s>']\n",
      "pred_prob 0.9975225329399109\n"
     ]
    },
    {
     "data": {
      "text/html": [
       "<table width: 100%><div style=\"border-top: 1px solid; margin-top: 5px;             padding-top: 5px; display: inline-block\"><b>Legend: </b><span style=\"display: inline-block; width: 10px; height: 10px;                 border: 1px solid; background-color:                 hsl(0, 75%, 60%)\"></span> Negative  <span style=\"display: inline-block; width: 10px; height: 10px;                 border: 1px solid; background-color:                 hsl(0, 75%, 100%)\"></span> Neutral  <span style=\"display: inline-block; width: 10px; height: 10px;                 border: 1px solid; background-color:                 hsl(120, 75%, 50%)\"></span> Positive  </div><tr><th>True Label</th><th>Predicted Label</th><th>Attribution Label</th><th>Attribution Score</th><th>Word Importance</th><tr><td><text style=\"padding-right:2em\"><b>Entailment</b></text></td><td><text style=\"padding-right:2em\"><b>Entailment (1.00)</b></text></td><td><text style=\"padding-right:2em\"><b>Entailment</b></text></td><td><text style=\"padding-right:2em\"><b>0.84</b></text></td><td><mark style=\"background-color: hsl(0, 75%, 95%); opacity:1.0;                     line-height:1.75\"><font color=\"black\"> #s                    </font></mark><mark style=\"background-color: hsl(0, 75%, 99%); opacity:1.0;                     line-height:1.75\"><font color=\"black\"> When                    </font></mark><mark style=\"background-color: hsl(0, 75%, 98%); opacity:1.0;                     line-height:1.75\"><font color=\"black\"> did                    </font></mark><mark style=\"background-color: hsl(120, 75%, 89%); opacity:1.0;                     line-height:1.75\"><font color=\"black\"> ABC                    </font></mark><mark style=\"background-color: hsl(0, 75%, 100%); opacity:1.0;                     line-height:1.75\"><font color=\"black\"> begin                    </font></mark><mark style=\"background-color: hsl(120, 75%, 94%); opacity:1.0;                     line-height:1.75\"><font color=\"black\"> airing                    </font></mark><mark style=\"background-color: hsl(120, 75%, 85%); opacity:1.0;                     line-height:1.75\"><font color=\"black\"> Dick                    </font></mark><mark style=\"background-color: hsl(120, 75%, 86%); opacity:1.0;                     line-height:1.75\"><font color=\"black\"> Clark's                    </font></mark><mark style=\"background-color: hsl(120, 75%, 98%); opacity:1.0;                     line-height:1.75\"><font color=\"black\"> New                    </font></mark><mark style=\"background-color: hsl(120, 75%, 97%); opacity:1.0;                     line-height:1.75\"><font color=\"black\"> Year's                    </font></mark><mark style=\"background-color: hsl(120, 75%, 99%); opacity:1.0;                     line-height:1.75\"><font color=\"black\"> Rockin'                    </font></mark><mark style=\"background-color: hsl(120, 75%, 94%); opacity:1.0;                     line-height:1.75\"><font color=\"black\"> Eve?                    </font></mark><mark style=\"background-color: hsl(0, 75%, 96%); opacity:1.0;                     line-height:1.75\"><font color=\"black\"> #/s                    </font></mark><mark style=\"background-color: hsl(120, 75%, 98%); opacity:1.0;                     line-height:1.75\"><font color=\"black\"> #/s                    </font></mark><mark style=\"background-color: hsl(120, 75%, 99%); opacity:1.0;                     line-height:1.75\"><font color=\"black\"> Since                    </font></mark><mark style=\"background-color: hsl(0, 75%, 92%); opacity:1.0;                     line-height:1.75\"><font color=\"black\"> 1974,                    </font></mark><mark style=\"background-color: hsl(120, 75%, 97%); opacity:1.0;                     line-height:1.75\"><font color=\"black\"> ABC                    </font></mark><mark style=\"background-color: hsl(120, 75%, 99%); opacity:1.0;                     line-height:1.75\"><font color=\"black\"> has                    </font></mark><mark style=\"background-color: hsl(0, 75%, 88%); opacity:1.0;                     line-height:1.75\"><font color=\"black\"> generally                    </font></mark><mark style=\"background-color: hsl(120, 75%, 96%); opacity:1.0;                     line-height:1.75\"><font color=\"black\"> aired                    </font></mark><mark style=\"background-color: hsl(0, 75%, 99%); opacity:1.0;                     line-height:1.75\"><font color=\"black\"> Dick                    </font></mark><mark style=\"background-color: hsl(120, 75%, 97%); opacity:1.0;                     line-height:1.75\"><font color=\"black\"> Clark's                    </font></mark><mark style=\"background-color: hsl(0, 75%, 100%); opacity:1.0;                     line-height:1.75\"><font color=\"black\"> New                    </font></mark><mark style=\"background-color: hsl(120, 75%, 97%); opacity:1.0;                     line-height:1.75\"><font color=\"black\"> Year's                    </font></mark><mark style=\"background-color: hsl(0, 75%, 94%); opacity:1.0;                     line-height:1.75\"><font color=\"black\"> Rockin'                    </font></mark><mark style=\"background-color: hsl(120, 75%, 98%); opacity:1.0;                     line-height:1.75\"><font color=\"black\"> Eve                    </font></mark><mark style=\"background-color: hsl(0, 75%, 95%); opacity:1.0;                     line-height:1.75\"><font color=\"black\"> on                    </font></mark><mark style=\"background-color: hsl(120, 75%, 93%); opacity:1.0;                     line-height:1.75\"><font color=\"black\"> New                    </font></mark><mark style=\"background-color: hsl(120, 75%, 95%); opacity:1.0;                     line-height:1.75\"><font color=\"black\"> Year's                    </font></mark><mark style=\"background-color: hsl(120, 75%, 99%); opacity:1.0;                     line-height:1.75\"><font color=\"black\"> Eve                    </font></mark><mark style=\"background-color: hsl(120, 75%, 95%); opacity:1.0;                     line-height:1.75\"><font color=\"black\"> (hosted                    </font></mark><mark style=\"background-color: hsl(0, 75%, 97%); opacity:1.0;                     line-height:1.75\"><font color=\"black\"> first                    </font></mark><mark style=\"background-color: hsl(120, 75%, 96%); opacity:1.0;                     line-height:1.75\"><font color=\"black\"> by                    </font></mark><mark style=\"background-color: hsl(120, 75%, 100%); opacity:1.0;                     line-height:1.75\"><font color=\"black\"> its                    </font></mark><mark style=\"background-color: hsl(120, 75%, 96%); opacity:1.0;                     line-height:1.75\"><font color=\"black\"> creator                    </font></mark><mark style=\"background-color: hsl(120, 75%, 96%); opacity:1.0;                     line-height:1.75\"><font color=\"black\"> Dick                    </font></mark><mark style=\"background-color: hsl(120, 75%, 99%); opacity:1.0;                     line-height:1.75\"><font color=\"black\"> Clark,                    </font></mark><mark style=\"background-color: hsl(0, 75%, 98%); opacity:1.0;                     line-height:1.75\"><font color=\"black\"> and                    </font></mark><mark style=\"background-color: hsl(0, 75%, 99%); opacity:1.0;                     line-height:1.75\"><font color=\"black\"> later                    </font></mark><mark style=\"background-color: hsl(0, 75%, 97%); opacity:1.0;                     line-height:1.75\"><font color=\"black\"> by                    </font></mark><mark style=\"background-color: hsl(120, 75%, 95%); opacity:1.0;                     line-height:1.75\"><font color=\"black\"> his                    </font></mark><mark style=\"background-color: hsl(0, 75%, 96%); opacity:1.0;                     line-height:1.75\"><font color=\"black\"> successor                    </font></mark><mark style=\"background-color: hsl(120, 75%, 94%); opacity:1.0;                     line-height:1.75\"><font color=\"black\"> Ryan                    </font></mark><mark style=\"background-color: hsl(120, 75%, 98%); opacity:1.0;                     line-height:1.75\"><font color=\"black\"> Seacrest);                    </font></mark><mark style=\"background-color: hsl(120, 75%, 93%); opacity:1.0;                     line-height:1.75\"><font color=\"black\"> the                    </font></mark><mark style=\"background-color: hsl(0, 75%, 97%); opacity:1.0;                     line-height:1.75\"><font color=\"black\"> only                    </font></mark><mark style=\"background-color: hsl(120, 75%, 99%); opacity:1.0;                     line-height:1.75\"><font color=\"black\"> exception                    </font></mark><mark style=\"background-color: hsl(120, 75%, 97%); opacity:1.0;                     line-height:1.75\"><font color=\"black\"> was                    </font></mark><mark style=\"background-color: hsl(0, 75%, 97%); opacity:1.0;                     line-height:1.75\"><font color=\"black\"> in                    </font></mark><mark style=\"background-color: hsl(120, 75%, 95%); opacity:1.0;                     line-height:1.75\"><font color=\"black\"> 1999,                    </font></mark><mark style=\"background-color: hsl(120, 75%, 100%); opacity:1.0;                     line-height:1.75\"><font color=\"black\"> when                    </font></mark><mark style=\"background-color: hsl(120, 75%, 95%); opacity:1.0;                     line-height:1.75\"><font color=\"black\"> ABC                    </font></mark><mark style=\"background-color: hsl(0, 75%, 99%); opacity:1.0;                     line-height:1.75\"><font color=\"black\"> put                    </font></mark><mark style=\"background-color: hsl(120, 75%, 97%); opacity:1.0;                     line-height:1.75\"><font color=\"black\"> it                    </font></mark><mark style=\"background-color: hsl(120, 75%, 98%); opacity:1.0;                     line-height:1.75\"><font color=\"black\"> on                    </font></mark><mark style=\"background-color: hsl(0, 75%, 99%); opacity:1.0;                     line-height:1.75\"><font color=\"black\"> a                    </font></mark><mark style=\"background-color: hsl(0, 75%, 88%); opacity:1.0;                     line-height:1.75\"><font color=\"black\"> one-year                    </font></mark><mark style=\"background-color: hsl(0, 75%, 99%); opacity:1.0;                     line-height:1.75\"><font color=\"black\"> hiatus                    </font></mark><mark style=\"background-color: hsl(120, 75%, 97%); opacity:1.0;                     line-height:1.75\"><font color=\"black\"> to                    </font></mark><mark style=\"background-color: hsl(0, 75%, 99%); opacity:1.0;                     line-height:1.75\"><font color=\"black\"> provide                    </font></mark><mark style=\"background-color: hsl(0, 75%, 100%); opacity:1.0;                     line-height:1.75\"><font color=\"black\"> coverage                    </font></mark><mark style=\"background-color: hsl(0, 75%, 100%); opacity:1.0;                     line-height:1.75\"><font color=\"black\"> of                    </font></mark><mark style=\"background-color: hsl(120, 75%, 100%); opacity:1.0;                     line-height:1.75\"><font color=\"black\"> the                    </font></mark><mark style=\"background-color: hsl(0, 75%, 100%); opacity:1.0;                     line-height:1.75\"><font color=\"black\"> international                    </font></mark><mark style=\"background-color: hsl(0, 75%, 96%); opacity:1.0;                     line-height:1.75\"><font color=\"black\"> millennium                    </font></mark><mark style=\"background-color: hsl(120, 75%, 97%); opacity:1.0;                     line-height:1.75\"><font color=\"black\"> festivities,                    </font></mark><mark style=\"background-color: hsl(0, 75%, 98%); opacity:1.0;                     line-height:1.75\"><font color=\"black\"> though                    </font></mark><mark style=\"background-color: hsl(120, 75%, 100%); opacity:1.0;                     line-height:1.75\"><font color=\"black\"> Clark's                    </font></mark><mark style=\"background-color: hsl(0, 75%, 100%); opacity:1.0;                     line-height:1.75\"><font color=\"black\"> traditional                    </font></mark><mark style=\"background-color: hsl(120, 75%, 100%); opacity:1.0;                     line-height:1.75\"><font color=\"black\"> countdown                    </font></mark><mark style=\"background-color: hsl(120, 75%, 98%); opacity:1.0;                     line-height:1.75\"><font color=\"black\"> from                    </font></mark><mark style=\"background-color: hsl(0, 75%, 95%); opacity:1.0;                     line-height:1.75\"><font color=\"black\"> Times                    </font></mark><mark style=\"background-color: hsl(0, 75%, 100%); opacity:1.0;                     line-height:1.75\"><font color=\"black\"> Square                    </font></mark><mark style=\"background-color: hsl(120, 75%, 98%); opacity:1.0;                     line-height:1.75\"><font color=\"black\"> was                    </font></mark><mark style=\"background-color: hsl(120, 75%, 97%); opacity:1.0;                     line-height:1.75\"><font color=\"black\"> still                    </font></mark><mark style=\"background-color: hsl(0, 75%, 99%); opacity:1.0;                     line-height:1.75\"><font color=\"black\"> featured                    </font></mark><mark style=\"background-color: hsl(0, 75%, 97%); opacity:1.0;                     line-height:1.75\"><font color=\"black\"> within                    </font></mark><mark style=\"background-color: hsl(0, 75%, 99%); opacity:1.0;                     line-height:1.75\"><font color=\"black\"> the                    </font></mark><mark style=\"background-color: hsl(120, 75%, 100%); opacity:1.0;                     line-height:1.75\"><font color=\"black\"> coverage.                    </font></mark><mark style=\"background-color: hsl(120, 75%, 98%); opacity:1.0;                     line-height:1.75\"><font color=\"black\"> #/s                    </font></mark></td><tr></table>"
      ],
      "text/plain": [
       "<IPython.core.display.HTML object>"
      ]
     },
     "metadata": {},
     "output_type": "display_data"
    },
    {
     "name": "stderr",
     "output_type": "stream",
     "text": [
      "/home/user/anaconda3/envs/py38/lib/python3.9/site-packages/captum/attr/_core/lime.py:1088: UserWarning: Attempting to construct interpretable model with > 10000 features.This can be very slow or lead to OOM issues. Please provide a featuremask which groups input features to reduce the number of interpretablefeatures. \n",
      "  warnings.warn(\n"
     ]
    },
    {
     "name": "stdout",
     "output_type": "stream",
     "text": [
      "<IPython.core.display.HTML object>\n",
      "i: 33\n",
      "Raw datum: ['The Kronenberg Palace had been an exceptional example of what type of architecture?', 'Despite that the Warsaw University of Technology building (1899–1902) is the most interesting of the late 19th-century architecture.']\n",
      "GT target: 0\n"
     ]
    },
    {
     "name": "stderr",
     "output_type": "stream",
     "text": [
      "Lime attribution: 100%|███████████████████████████| 3/3 [00:21<00:00,  7.10s/it]\n"
     ]
    },
    {
     "name": "stdout",
     "output_type": "stream",
     "text": [
      "word attr tensor([-0.4662, -0.1348,  0.1808, -0.1147,  0.1040,  0.0945,  0.2888,  0.0291,\n",
      "         0.0322,  0.0415,  0.0985, -0.2262, -0.0164, -0.0531,  0.0381, -0.2290,\n",
      "         0.1336, -0.0516, -0.0433, -0.0974, -0.1100, -0.0908, -0.0710, -0.1040,\n",
      "        -0.1311,  0.1047, -0.1268,  0.0243,  0.1080, -0.0518, -0.0460,  0.0690,\n",
      "         0.2830, -0.2047,  0.1011, -0.2857, -0.0569, -0.0304, -0.0697, -0.0627,\n",
      "        -0.0891,  0.1567,  0.1630,  0.1236, -0.1393, -0.0202,  0.1973])\n",
      "conti attr [tensor(-0.4662), tensor(-0.1348), tensor(0.0660), tensor(0.1040), tensor(0.0945), tensor(0.2888), tensor(0.0291), tensor(0.0322), tensor(0.0415), tensor(0.0985), tensor(-0.2262), tensor(-0.0164), tensor(-0.0531), tensor(-0.1910), tensor(0.1336), tensor(-0.0516), tensor(-0.0433), tensor(-0.0974), tensor(-0.1100), tensor(-0.0908), tensor(-0.0710), tensor(-0.1040), tensor(-0.1311), tensor(0.1047), tensor(0.2595), tensor(-0.2047), tensor(0.1011), tensor(-0.2857), tensor(-0.0569), tensor(-0.0304), tensor(-0.0697), tensor(-0.0627), tensor(0.3542), tensor(-0.1595), tensor(0.1973)]\n",
      "detokenized ['<s>', 'The', 'Kron', 'enberg', 'Palace', 'had', 'been', 'an', 'exceptional', 'example', 'of', 'what', 'type', 'of', 'architecture', '?', '</s>', '</s>', 'Despite', 'that', 'the', 'Warsaw', 'University', 'of', 'Technology', 'building', '(', '18', '99', 'âĢĵ', '19', '02', ')', 'is', 'the', 'most', 'interesting', 'of', 'the', 'late', '19', 'th', '-', 'century', 'architecture', '.', '</s>']\n",
      "len conti_raw 35\n",
      "conti_raw ['<s>', 'The', 'Kronenberg', 'Palace', 'had', 'been', 'an', 'exceptional', 'example', 'of', 'what', 'type', 'of', 'architecture?', '</s>', '</s>', 'Despite', 'that', 'the', 'Warsaw', 'University', 'of', 'Technology', 'building', '(1899âĢĵ1902)', 'is', 'the', 'most', 'interesting', 'of', 'the', 'late', '19th-century', 'architecture.', '</s>']\n",
      "pred_prob 0.005764153320342302\n"
     ]
    },
    {
     "data": {
      "text/html": [
       "<table width: 100%><div style=\"border-top: 1px solid; margin-top: 5px;             padding-top: 5px; display: inline-block\"><b>Legend: </b><span style=\"display: inline-block; width: 10px; height: 10px;                 border: 1px solid; background-color:                 hsl(0, 75%, 60%)\"></span> Negative  <span style=\"display: inline-block; width: 10px; height: 10px;                 border: 1px solid; background-color:                 hsl(0, 75%, 100%)\"></span> Neutral  <span style=\"display: inline-block; width: 10px; height: 10px;                 border: 1px solid; background-color:                 hsl(120, 75%, 50%)\"></span> Positive  </div><tr><th>True Label</th><th>Predicted Label</th><th>Attribution Label</th><th>Attribution Score</th><th>Word Importance</th><tr><td><text style=\"padding-right:2em\"><b>No Entailment</b></text></td><td><text style=\"padding-right:2em\"><b>No Entailment (0.01)</b></text></td><td><text style=\"padding-right:2em\"><b>No Entailment</b></text></td><td><text style=\"padding-right:2em\"><b>-0.75</b></text></td><td><mark style=\"background-color: hsl(0, 75%, 82%); opacity:1.0;                     line-height:1.75\"><font color=\"black\"> #s                    </font></mark><mark style=\"background-color: hsl(0, 75%, 95%); opacity:1.0;                     line-height:1.75\"><font color=\"black\"> The                    </font></mark><mark style=\"background-color: hsl(120, 75%, 97%); opacity:1.0;                     line-height:1.75\"><font color=\"black\"> Kronenberg                    </font></mark><mark style=\"background-color: hsl(120, 75%, 95%); opacity:1.0;                     line-height:1.75\"><font color=\"black\"> Palace                    </font></mark><mark style=\"background-color: hsl(120, 75%, 96%); opacity:1.0;                     line-height:1.75\"><font color=\"black\"> had                    </font></mark><mark style=\"background-color: hsl(120, 75%, 86%); opacity:1.0;                     line-height:1.75\"><font color=\"black\"> been                    </font></mark><mark style=\"background-color: hsl(120, 75%, 99%); opacity:1.0;                     line-height:1.75\"><font color=\"black\"> an                    </font></mark><mark style=\"background-color: hsl(120, 75%, 99%); opacity:1.0;                     line-height:1.75\"><font color=\"black\"> exceptional                    </font></mark><mark style=\"background-color: hsl(120, 75%, 98%); opacity:1.0;                     line-height:1.75\"><font color=\"black\"> example                    </font></mark><mark style=\"background-color: hsl(120, 75%, 96%); opacity:1.0;                     line-height:1.75\"><font color=\"black\"> of                    </font></mark><mark style=\"background-color: hsl(0, 75%, 91%); opacity:1.0;                     line-height:1.75\"><font color=\"black\"> what                    </font></mark><mark style=\"background-color: hsl(0, 75%, 100%); opacity:1.0;                     line-height:1.75\"><font color=\"black\"> type                    </font></mark><mark style=\"background-color: hsl(0, 75%, 98%); opacity:1.0;                     line-height:1.75\"><font color=\"black\"> of                    </font></mark><mark style=\"background-color: hsl(0, 75%, 93%); opacity:1.0;                     line-height:1.75\"><font color=\"black\"> architecture?                    </font></mark><mark style=\"background-color: hsl(120, 75%, 94%); opacity:1.0;                     line-height:1.75\"><font color=\"black\"> #/s                    </font></mark><mark style=\"background-color: hsl(0, 75%, 98%); opacity:1.0;                     line-height:1.75\"><font color=\"black\"> #/s                    </font></mark><mark style=\"background-color: hsl(0, 75%, 99%); opacity:1.0;                     line-height:1.75\"><font color=\"black\"> Despite                    </font></mark><mark style=\"background-color: hsl(0, 75%, 97%); opacity:1.0;                     line-height:1.75\"><font color=\"black\"> that                    </font></mark><mark style=\"background-color: hsl(0, 75%, 96%); opacity:1.0;                     line-height:1.75\"><font color=\"black\"> the                    </font></mark><mark style=\"background-color: hsl(0, 75%, 97%); opacity:1.0;                     line-height:1.75\"><font color=\"black\"> Warsaw                    </font></mark><mark style=\"background-color: hsl(0, 75%, 98%); opacity:1.0;                     line-height:1.75\"><font color=\"black\"> University                    </font></mark><mark style=\"background-color: hsl(0, 75%, 96%); opacity:1.0;                     line-height:1.75\"><font color=\"black\"> of                    </font></mark><mark style=\"background-color: hsl(0, 75%, 95%); opacity:1.0;                     line-height:1.75\"><font color=\"black\"> Technology                    </font></mark><mark style=\"background-color: hsl(120, 75%, 95%); opacity:1.0;                     line-height:1.75\"><font color=\"black\"> building                    </font></mark><mark style=\"background-color: hsl(120, 75%, 88%); opacity:1.0;                     line-height:1.75\"><font color=\"black\"> (1899âĢĵ1902)                    </font></mark><mark style=\"background-color: hsl(0, 75%, 92%); opacity:1.0;                     line-height:1.75\"><font color=\"black\"> is                    </font></mark><mark style=\"background-color: hsl(120, 75%, 95%); opacity:1.0;                     line-height:1.75\"><font color=\"black\"> the                    </font></mark><mark style=\"background-color: hsl(0, 75%, 89%); opacity:1.0;                     line-height:1.75\"><font color=\"black\"> most                    </font></mark><mark style=\"background-color: hsl(0, 75%, 98%); opacity:1.0;                     line-height:1.75\"><font color=\"black\"> interesting                    </font></mark><mark style=\"background-color: hsl(0, 75%, 99%); opacity:1.0;                     line-height:1.75\"><font color=\"black\"> of                    </font></mark><mark style=\"background-color: hsl(0, 75%, 98%); opacity:1.0;                     line-height:1.75\"><font color=\"black\"> the                    </font></mark><mark style=\"background-color: hsl(0, 75%, 98%); opacity:1.0;                     line-height:1.75\"><font color=\"black\"> late                    </font></mark><mark style=\"background-color: hsl(120, 75%, 83%); opacity:1.0;                     line-height:1.75\"><font color=\"black\"> 19th-century                    </font></mark><mark style=\"background-color: hsl(0, 75%, 94%); opacity:1.0;                     line-height:1.75\"><font color=\"black\"> architecture.                    </font></mark><mark style=\"background-color: hsl(120, 75%, 91%); opacity:1.0;                     line-height:1.75\"><font color=\"black\"> #/s                    </font></mark></td><tr></table>"
      ],
      "text/plain": [
       "<IPython.core.display.HTML object>"
      ]
     },
     "metadata": {},
     "output_type": "display_data"
    },
    {
     "name": "stderr",
     "output_type": "stream",
     "text": [
      "/home/user/anaconda3/envs/py38/lib/python3.9/site-packages/captum/attr/_core/lime.py:1088: UserWarning: Attempting to construct interpretable model with > 10000 features.This can be very slow or lead to OOM issues. Please provide a featuremask which groups input features to reduce the number of interpretablefeatures. \n",
      "  warnings.warn(\n"
     ]
    },
    {
     "name": "stdout",
     "output_type": "stream",
     "text": [
      "<IPython.core.display.HTML object>\n",
      "i: 34\n",
      "Raw datum: ['What was the definition of professionals, for this study?', 'It is important to note, however, that the British study referenced above is the only one of its kind and consisted of \"a random ... probability sample of 2,869 young people between the ages of 18 and 24 in a computer-assisted study\" and that the questions referred to \"sexual abuse with a professional,\" not necessarily a teacher.']\n",
      "GT target: 0\n"
     ]
    },
    {
     "name": "stderr",
     "output_type": "stream",
     "text": [
      "Lime attribution: 100%|███████████████████████████| 3/3 [00:37<00:00, 12.56s/it]\n"
     ]
    },
    {
     "name": "stdout",
     "output_type": "stream",
     "text": [
      "word attr tensor([-1.2635e-02,  5.6266e-02, -4.1647e-02, -3.7137e-02,  4.8125e-03,\n",
      "        -8.4049e-03,  6.1274e-01,  9.5089e-02,  5.6527e-02, -1.8383e-03,\n",
      "        -2.3541e-04,  9.4161e-02,  6.6977e-02,  2.5426e-02, -1.5969e-02,\n",
      "        -1.0254e-01,  5.0831e-02,  5.0456e-02,  2.5669e-02,  5.4505e-02,\n",
      "         5.1530e-02,  1.1022e-02, -5.7985e-03,  1.3727e-01,  9.9358e-02,\n",
      "         7.8764e-02, -1.0157e-01, -6.0226e-02, -5.1285e-02,  1.4845e-02,\n",
      "        -5.5569e-02, -1.7642e-02,  2.9673e-02, -4.5134e-02,  6.7261e-02,\n",
      "        -7.9852e-02,  4.8279e-02, -5.0935e-02,  4.9865e-02, -3.9453e-02,\n",
      "        -1.0696e-01, -1.2599e-02,  2.3117e-02,  3.0993e-02,  2.5277e-02,\n",
      "        -7.5340e-02,  3.2294e-03, -2.7325e-02,  9.0770e-02,  2.0116e-02,\n",
      "        -2.9807e-02,  1.1574e-01, -7.6410e-03, -1.6695e-02, -1.0407e-01,\n",
      "         7.1418e-02,  1.3754e-02, -9.7245e-02,  1.4196e-01,  1.0443e-01,\n",
      "         4.2462e-02, -1.2696e-01,  1.3886e-01,  1.4711e-01, -1.2807e-01,\n",
      "         4.8408e-02, -1.4797e-01, -7.9933e-02,  6.3260e-03,  6.2959e-02,\n",
      "         6.7674e-03, -1.2769e-01,  5.1324e-02,  2.1113e-02,  9.0457e-03,\n",
      "         1.0213e-01,  4.5829e-01,  3.9924e-02,  1.8669e-02,  1.2922e-01,\n",
      "         2.7491e-02,  2.0154e-03, -1.3134e-01, -7.0444e-02])\n",
      "conti attr [tensor(-0.0126), tensor(0.0563), tensor(-0.0416), tensor(-0.0371), tensor(0.0048), tensor(-0.0084), tensor(0.7078), tensor(0.0565), tensor(-0.0018), tensor(0.0939), tensor(0.0670), tensor(0.0254), tensor(-0.0160), tensor(-0.1025), tensor(0.0508), tensor(0.0505), tensor(0.0802), tensor(0.0626), tensor(-0.0058), tensor(0.1373), tensor(0.0994), tensor(0.0788), tensor(-0.1016), tensor(-0.0602), tensor(-0.0513), tensor(0.0148), tensor(-0.0556), tensor(-0.0176), tensor(0.0297), tensor(-0.0451), tensor(0.0673), tensor(-0.0799), tensor(0.0483), tensor(-0.0509), tensor(0.0104), tensor(-0.1070), tensor(-0.0126), tensor(0.0231), tensor(0.0310), tensor(0.0253), tensor(-0.0087), tensor(0.0201), tensor(-0.0298), tensor(0.1157), tensor(-0.0076), tensor(-0.0167), tensor(-0.1041), tensor(0.0714), tensor(0.0138), tensor(-0.0972), tensor(0.1420), tensor(0.1044), tensor(0.0544), tensor(0.0190), tensor(0.0484), tensor(-0.1480), tensor(-0.0799), tensor(0.0063), tensor(0.0630), tensor(0.0068), tensor(-0.0764), tensor(0.0211), tensor(0.0090), tensor(0.1021), tensor(0.4982), tensor(0.0187), tensor(0.1292), tensor(0.0275), tensor(-0.1293), tensor(-0.0704)]\n",
      "detokenized ['<s>', 'What', 'was', 'the', 'definition', 'of', 'professionals', ',', 'for', 'this', 'study', '?', '</s>', '</s>', 'It', 'is', 'important', 'to', 'note', ',', 'however', ',', 'that', 'the', 'British', 'study', 'referenced', 'above', 'is', 'the', 'only', 'one', 'of', 'its', 'kind', 'and', 'consisted', 'of', '\"', 'a', 'random', '...', 'probability', 'sample', 'of', '2', ',', '8', '69', 'young', 'people', 'between', 'the', 'ages', 'of', '18', 'and', '24', 'in', 'a', 'computer', '-', 'assisted', 'study', '\"', 'and', 'that', 'the', 'questions', 'referred', 'to', '\"', 'sexual', 'abuse', 'with', 'a', 'professional', ',\"', 'not', 'necessarily', 'a', 'teacher', '.', '</s>']\n",
      "len conti_raw 70\n",
      "conti_raw ['<s>', 'What', 'was', 'the', 'definition', 'of', 'professionals,', 'for', 'this', 'study?', '</s>', '</s>', 'It', 'is', 'important', 'to', 'note,', 'however,', 'that', 'the', 'British', 'study', 'referenced', 'above', 'is', 'the', 'only', 'one', 'of', 'its', 'kind', 'and', 'consisted', 'of', '\"a', 'random', '...', 'probability', 'sample', 'of', '2,869', 'young', 'people', 'between', 'the', 'ages', 'of', '18', 'and', '24', 'in', 'a', 'computer-assisted', 'study\"', 'and', 'that', 'the', 'questions', 'referred', 'to', '\"sexual', 'abuse', 'with', 'a', 'professional,\"', 'not', 'necessarily', 'a', 'teacher.', '</s>']\n",
      "pred_prob 0.9450345635414124\n"
     ]
    },
    {
     "data": {
      "text/html": [
       "<table width: 100%><div style=\"border-top: 1px solid; margin-top: 5px;             padding-top: 5px; display: inline-block\"><b>Legend: </b><span style=\"display: inline-block; width: 10px; height: 10px;                 border: 1px solid; background-color:                 hsl(0, 75%, 60%)\"></span> Negative  <span style=\"display: inline-block; width: 10px; height: 10px;                 border: 1px solid; background-color:                 hsl(0, 75%, 100%)\"></span> Neutral  <span style=\"display: inline-block; width: 10px; height: 10px;                 border: 1px solid; background-color:                 hsl(120, 75%, 50%)\"></span> Positive  </div><tr><th>True Label</th><th>Predicted Label</th><th>Attribution Label</th><th>Attribution Score</th><th>Word Importance</th><tr><td><text style=\"padding-right:2em\"><b>No Entailment</b></text></td><td><text style=\"padding-right:2em\"><b>Entailment (0.95)</b></text></td><td><text style=\"padding-right:2em\"><b>Entailment</b></text></td><td><text style=\"padding-right:2em\"><b>1.72</b></text></td><td><mark style=\"background-color: hsl(0, 75%, 100%); opacity:1.0;                     line-height:1.75\"><font color=\"black\"> #s                    </font></mark><mark style=\"background-color: hsl(120, 75%, 98%); opacity:1.0;                     line-height:1.75\"><font color=\"black\"> What                    </font></mark><mark style=\"background-color: hsl(0, 75%, 99%); opacity:1.0;                     line-height:1.75\"><font color=\"black\"> was                    </font></mark><mark style=\"background-color: hsl(0, 75%, 99%); opacity:1.0;                     line-height:1.75\"><font color=\"black\"> the                    </font></mark><mark style=\"background-color: hsl(120, 75%, 100%); opacity:1.0;                     line-height:1.75\"><font color=\"black\"> definition                    </font></mark><mark style=\"background-color: hsl(0, 75%, 100%); opacity:1.0;                     line-height:1.75\"><font color=\"black\"> of                    </font></mark><mark style=\"background-color: hsl(120, 75%, 65%); opacity:1.0;                     line-height:1.75\"><font color=\"black\"> professionals,                    </font></mark><mark style=\"background-color: hsl(120, 75%, 98%); opacity:1.0;                     line-height:1.75\"><font color=\"black\"> for                    </font></mark><mark style=\"background-color: hsl(0, 75%, 100%); opacity:1.0;                     line-height:1.75\"><font color=\"black\"> this                    </font></mark><mark style=\"background-color: hsl(120, 75%, 96%); opacity:1.0;                     line-height:1.75\"><font color=\"black\"> study?                    </font></mark><mark style=\"background-color: hsl(120, 75%, 97%); opacity:1.0;                     line-height:1.75\"><font color=\"black\"> #/s                    </font></mark><mark style=\"background-color: hsl(120, 75%, 99%); opacity:1.0;                     line-height:1.75\"><font color=\"black\"> #/s                    </font></mark><mark style=\"background-color: hsl(0, 75%, 100%); opacity:1.0;                     line-height:1.75\"><font color=\"black\"> It                    </font></mark><mark style=\"background-color: hsl(0, 75%, 96%); opacity:1.0;                     line-height:1.75\"><font color=\"black\"> is                    </font></mark><mark style=\"background-color: hsl(120, 75%, 98%); opacity:1.0;                     line-height:1.75\"><font color=\"black\"> important                    </font></mark><mark style=\"background-color: hsl(120, 75%, 98%); opacity:1.0;                     line-height:1.75\"><font color=\"black\"> to                    </font></mark><mark style=\"background-color: hsl(120, 75%, 96%); opacity:1.0;                     line-height:1.75\"><font color=\"black\"> note,                    </font></mark><mark style=\"background-color: hsl(120, 75%, 97%); opacity:1.0;                     line-height:1.75\"><font color=\"black\"> however,                    </font></mark><mark style=\"background-color: hsl(0, 75%, 100%); opacity:1.0;                     line-height:1.75\"><font color=\"black\"> that                    </font></mark><mark style=\"background-color: hsl(120, 75%, 94%); opacity:1.0;                     line-height:1.75\"><font color=\"black\"> the                    </font></mark><mark style=\"background-color: hsl(120, 75%, 96%); opacity:1.0;                     line-height:1.75\"><font color=\"black\"> British                    </font></mark><mark style=\"background-color: hsl(120, 75%, 97%); opacity:1.0;                     line-height:1.75\"><font color=\"black\"> study                    </font></mark><mark style=\"background-color: hsl(0, 75%, 96%); opacity:1.0;                     line-height:1.75\"><font color=\"black\"> referenced                    </font></mark><mark style=\"background-color: hsl(0, 75%, 98%); opacity:1.0;                     line-height:1.75\"><font color=\"black\"> above                    </font></mark><mark style=\"background-color: hsl(0, 75%, 98%); opacity:1.0;                     line-height:1.75\"><font color=\"black\"> is                    </font></mark><mark style=\"background-color: hsl(120, 75%, 100%); opacity:1.0;                     line-height:1.75\"><font color=\"black\"> the                    </font></mark><mark style=\"background-color: hsl(0, 75%, 98%); opacity:1.0;                     line-height:1.75\"><font color=\"black\"> only                    </font></mark><mark style=\"background-color: hsl(0, 75%, 100%); opacity:1.0;                     line-height:1.75\"><font color=\"black\"> one                    </font></mark><mark style=\"background-color: hsl(120, 75%, 99%); opacity:1.0;                     line-height:1.75\"><font color=\"black\"> of                    </font></mark><mark style=\"background-color: hsl(0, 75%, 99%); opacity:1.0;                     line-height:1.75\"><font color=\"black\"> its                    </font></mark><mark style=\"background-color: hsl(120, 75%, 97%); opacity:1.0;                     line-height:1.75\"><font color=\"black\"> kind                    </font></mark><mark style=\"background-color: hsl(0, 75%, 97%); opacity:1.0;                     line-height:1.75\"><font color=\"black\"> and                    </font></mark><mark style=\"background-color: hsl(120, 75%, 98%); opacity:1.0;                     line-height:1.75\"><font color=\"black\"> consisted                    </font></mark><mark style=\"background-color: hsl(0, 75%, 98%); opacity:1.0;                     line-height:1.75\"><font color=\"black\"> of                    </font></mark><mark style=\"background-color: hsl(120, 75%, 100%); opacity:1.0;                     line-height:1.75\"><font color=\"black\"> \"a                    </font></mark><mark style=\"background-color: hsl(0, 75%, 96%); opacity:1.0;                     line-height:1.75\"><font color=\"black\"> random                    </font></mark><mark style=\"background-color: hsl(0, 75%, 100%); opacity:1.0;                     line-height:1.75\"><font color=\"black\"> ...                    </font></mark><mark style=\"background-color: hsl(120, 75%, 99%); opacity:1.0;                     line-height:1.75\"><font color=\"black\"> probability                    </font></mark><mark style=\"background-color: hsl(120, 75%, 99%); opacity:1.0;                     line-height:1.75\"><font color=\"black\"> sample                    </font></mark><mark style=\"background-color: hsl(120, 75%, 99%); opacity:1.0;                     line-height:1.75\"><font color=\"black\"> of                    </font></mark><mark style=\"background-color: hsl(0, 75%, 100%); opacity:1.0;                     line-height:1.75\"><font color=\"black\"> 2,869                    </font></mark><mark style=\"background-color: hsl(120, 75%, 99%); opacity:1.0;                     line-height:1.75\"><font color=\"black\"> young                    </font></mark><mark style=\"background-color: hsl(0, 75%, 99%); opacity:1.0;                     line-height:1.75\"><font color=\"black\"> people                    </font></mark><mark style=\"background-color: hsl(120, 75%, 95%); opacity:1.0;                     line-height:1.75\"><font color=\"black\"> between                    </font></mark><mark style=\"background-color: hsl(0, 75%, 100%); opacity:1.0;                     line-height:1.75\"><font color=\"black\"> the                    </font></mark><mark style=\"background-color: hsl(0, 75%, 100%); opacity:1.0;                     line-height:1.75\"><font color=\"black\"> ages                    </font></mark><mark style=\"background-color: hsl(0, 75%, 96%); opacity:1.0;                     line-height:1.75\"><font color=\"black\"> of                    </font></mark><mark style=\"background-color: hsl(120, 75%, 97%); opacity:1.0;                     line-height:1.75\"><font color=\"black\"> 18                    </font></mark><mark style=\"background-color: hsl(120, 75%, 100%); opacity:1.0;                     line-height:1.75\"><font color=\"black\"> and                    </font></mark><mark style=\"background-color: hsl(0, 75%, 97%); opacity:1.0;                     line-height:1.75\"><font color=\"black\"> 24                    </font></mark><mark style=\"background-color: hsl(120, 75%, 93%); opacity:1.0;                     line-height:1.75\"><font color=\"black\"> in                    </font></mark><mark style=\"background-color: hsl(120, 75%, 95%); opacity:1.0;                     line-height:1.75\"><font color=\"black\"> a                    </font></mark><mark style=\"background-color: hsl(120, 75%, 98%); opacity:1.0;                     line-height:1.75\"><font color=\"black\"> computer-assisted                    </font></mark><mark style=\"background-color: hsl(120, 75%, 100%); opacity:1.0;                     line-height:1.75\"><font color=\"black\"> study\"                    </font></mark><mark style=\"background-color: hsl(120, 75%, 98%); opacity:1.0;                     line-height:1.75\"><font color=\"black\"> and                    </font></mark><mark style=\"background-color: hsl(0, 75%, 95%); opacity:1.0;                     line-height:1.75\"><font color=\"black\"> that                    </font></mark><mark style=\"background-color: hsl(0, 75%, 97%); opacity:1.0;                     line-height:1.75\"><font color=\"black\"> the                    </font></mark><mark style=\"background-color: hsl(120, 75%, 100%); opacity:1.0;                     line-height:1.75\"><font color=\"black\"> questions                    </font></mark><mark style=\"background-color: hsl(120, 75%, 97%); opacity:1.0;                     line-height:1.75\"><font color=\"black\"> referred                    </font></mark><mark style=\"background-color: hsl(120, 75%, 100%); opacity:1.0;                     line-height:1.75\"><font color=\"black\"> to                    </font></mark><mark style=\"background-color: hsl(0, 75%, 97%); opacity:1.0;                     line-height:1.75\"><font color=\"black\"> \"sexual                    </font></mark><mark style=\"background-color: hsl(120, 75%, 99%); opacity:1.0;                     line-height:1.75\"><font color=\"black\"> abuse                    </font></mark><mark style=\"background-color: hsl(120, 75%, 100%); opacity:1.0;                     line-height:1.75\"><font color=\"black\"> with                    </font></mark><mark style=\"background-color: hsl(120, 75%, 95%); opacity:1.0;                     line-height:1.75\"><font color=\"black\"> a                    </font></mark><mark style=\"background-color: hsl(120, 75%, 76%); opacity:1.0;                     line-height:1.75\"><font color=\"black\"> professional,\"                    </font></mark><mark style=\"background-color: hsl(120, 75%, 100%); opacity:1.0;                     line-height:1.75\"><font color=\"black\"> not                    </font></mark><mark style=\"background-color: hsl(120, 75%, 94%); opacity:1.0;                     line-height:1.75\"><font color=\"black\"> necessarily                    </font></mark><mark style=\"background-color: hsl(120, 75%, 99%); opacity:1.0;                     line-height:1.75\"><font color=\"black\"> a                    </font></mark><mark style=\"background-color: hsl(0, 75%, 95%); opacity:1.0;                     line-height:1.75\"><font color=\"black\"> teacher.                    </font></mark><mark style=\"background-color: hsl(0, 75%, 98%); opacity:1.0;                     line-height:1.75\"><font color=\"black\"> #/s                    </font></mark></td><tr></table>"
      ],
      "text/plain": [
       "<IPython.core.display.HTML object>"
      ]
     },
     "metadata": {},
     "output_type": "display_data"
    },
    {
     "name": "stderr",
     "output_type": "stream",
     "text": [
      "/home/user/anaconda3/envs/py38/lib/python3.9/site-packages/captum/attr/_core/lime.py:1088: UserWarning: Attempting to construct interpretable model with > 10000 features.This can be very slow or lead to OOM issues. Please provide a featuremask which groups input features to reduce the number of interpretablefeatures. \n",
      "  warnings.warn(\n"
     ]
    },
    {
     "name": "stdout",
     "output_type": "stream",
     "text": [
      "<IPython.core.display.HTML object>\n",
      "i: 35\n",
      "Raw datum: ['bassett focuses on what to illustrate his idea?', 'To better illustrate this idea, Bassett focuses his analysis of the role of nineteenth-century maps during the \"scramble for Africa\".']\n",
      "GT target: 1\n"
     ]
    },
    {
     "name": "stderr",
     "output_type": "stream",
     "text": [
      "Lime attribution: 100%|███████████████████████████| 3/3 [00:17<00:00,  5.82s/it]\n"
     ]
    },
    {
     "name": "stdout",
     "output_type": "stream",
     "text": [
      "word attr tensor([-0.2121, -0.0935,  0.0578,  0.6338,  0.0608, -0.0572,  0.0012,  0.0947,\n",
      "        -0.0712,  0.1349, -0.0347, -0.1507, -0.0953, -0.2145, -0.1806,  0.1062,\n",
      "        -0.0817,  0.0113, -0.0345,  0.0581,  0.3002,  0.3185,  0.0558,  0.0146,\n",
      "        -0.0833, -0.1223, -0.2692,  0.0138,  0.0490, -0.1054,  0.0386, -0.1405,\n",
      "         0.0273, -0.1220, -0.0484,  0.0687,  0.0109, -0.0337,  0.1013, -0.0190,\n",
      "         0.0304,  0.0894])\n",
      "conti attr [tensor(-0.2121), tensor(-0.0357), tensor(0.6338), tensor(0.0608), tensor(-0.0572), tensor(0.0012), tensor(0.0947), tensor(-0.0712), tensor(0.1002), tensor(-0.1507), tensor(-0.0953), tensor(-0.2145), tensor(-0.1806), tensor(0.1062), tensor(-0.0817), tensor(-0.0233), tensor(0.3583), tensor(0.3185), tensor(0.0558), tensor(0.0146), tensor(-0.0833), tensor(-0.1223), tensor(-0.2692), tensor(0.0138), tensor(-0.0178), tensor(-0.1405), tensor(0.0273), tensor(-0.1220), tensor(-0.0026), tensor(0.1013), tensor(0.0115), tensor(0.0894)]\n",
      "detokenized ['<s>', 'bass', 'ett', 'focuses', 'on', 'what', 'to', 'illustrate', 'his', 'idea', '?', '</s>', '</s>', 'To', 'better', 'illustrate', 'this', 'idea', ',', 'Bass', 'ett', 'focuses', 'his', 'analysis', 'of', 'the', 'role', 'of', 'nineteenth', '-', 'century', 'maps', 'during', 'the', '\"', 'sc', 'ram', 'ble', 'for', 'Africa', '\".', '</s>']\n",
      "len conti_raw 32\n",
      "conti_raw ['<s>', 'bassett', 'focuses', 'on', 'what', 'to', 'illustrate', 'his', 'idea?', '</s>', '</s>', 'To', 'better', 'illustrate', 'this', 'idea,', 'Bassett', 'focuses', 'his', 'analysis', 'of', 'the', 'role', 'of', 'nineteenth-century', 'maps', 'during', 'the', '\"scramble', 'for', 'Africa\".', '</s>']\n",
      "pred_prob 0.993445634841919\n"
     ]
    },
    {
     "data": {
      "text/html": [
       "<table width: 100%><div style=\"border-top: 1px solid; margin-top: 5px;             padding-top: 5px; display: inline-block\"><b>Legend: </b><span style=\"display: inline-block; width: 10px; height: 10px;                 border: 1px solid; background-color:                 hsl(0, 75%, 60%)\"></span> Negative  <span style=\"display: inline-block; width: 10px; height: 10px;                 border: 1px solid; background-color:                 hsl(0, 75%, 100%)\"></span> Neutral  <span style=\"display: inline-block; width: 10px; height: 10px;                 border: 1px solid; background-color:                 hsl(120, 75%, 50%)\"></span> Positive  </div><tr><th>True Label</th><th>Predicted Label</th><th>Attribution Label</th><th>Attribution Score</th><th>Word Importance</th><tr><td><text style=\"padding-right:2em\"><b>Entailment</b></text></td><td><text style=\"padding-right:2em\"><b>Entailment (0.99)</b></text></td><td><text style=\"padding-right:2em\"><b>No Entailment</b></text></td><td><text style=\"padding-right:2em\"><b>0.11</b></text></td><td><mark style=\"background-color: hsl(0, 75%, 92%); opacity:1.0;                     line-height:1.75\"><font color=\"black\"> #s                    </font></mark><mark style=\"background-color: hsl(0, 75%, 99%); opacity:1.0;                     line-height:1.75\"><font color=\"black\"> bassett                    </font></mark><mark style=\"background-color: hsl(120, 75%, 69%); opacity:1.0;                     line-height:1.75\"><font color=\"black\"> focuses                    </font></mark><mark style=\"background-color: hsl(120, 75%, 97%); opacity:1.0;                     line-height:1.75\"><font color=\"black\"> on                    </font></mark><mark style=\"background-color: hsl(0, 75%, 98%); opacity:1.0;                     line-height:1.75\"><font color=\"black\"> what                    </font></mark><mark style=\"background-color: hsl(120, 75%, 100%); opacity:1.0;                     line-height:1.75\"><font color=\"black\"> to                    </font></mark><mark style=\"background-color: hsl(120, 75%, 96%); opacity:1.0;                     line-height:1.75\"><font color=\"black\"> illustrate                    </font></mark><mark style=\"background-color: hsl(0, 75%, 98%); opacity:1.0;                     line-height:1.75\"><font color=\"black\"> his                    </font></mark><mark style=\"background-color: hsl(120, 75%, 95%); opacity:1.0;                     line-height:1.75\"><font color=\"black\"> idea?                    </font></mark><mark style=\"background-color: hsl(0, 75%, 94%); opacity:1.0;                     line-height:1.75\"><font color=\"black\"> #/s                    </font></mark><mark style=\"background-color: hsl(0, 75%, 97%); opacity:1.0;                     line-height:1.75\"><font color=\"black\"> #/s                    </font></mark><mark style=\"background-color: hsl(0, 75%, 92%); opacity:1.0;                     line-height:1.75\"><font color=\"black\"> To                    </font></mark><mark style=\"background-color: hsl(0, 75%, 93%); opacity:1.0;                     line-height:1.75\"><font color=\"black\"> better                    </font></mark><mark style=\"background-color: hsl(120, 75%, 95%); opacity:1.0;                     line-height:1.75\"><font color=\"black\"> illustrate                    </font></mark><mark style=\"background-color: hsl(0, 75%, 97%); opacity:1.0;                     line-height:1.75\"><font color=\"black\"> this                    </font></mark><mark style=\"background-color: hsl(0, 75%, 100%); opacity:1.0;                     line-height:1.75\"><font color=\"black\"> idea,                    </font></mark><mark style=\"background-color: hsl(120, 75%, 83%); opacity:1.0;                     line-height:1.75\"><font color=\"black\"> Bassett                    </font></mark><mark style=\"background-color: hsl(120, 75%, 85%); opacity:1.0;                     line-height:1.75\"><font color=\"black\"> focuses                    </font></mark><mark style=\"background-color: hsl(120, 75%, 98%); opacity:1.0;                     line-height:1.75\"><font color=\"black\"> his                    </font></mark><mark style=\"background-color: hsl(120, 75%, 100%); opacity:1.0;                     line-height:1.75\"><font color=\"black\"> analysis                    </font></mark><mark style=\"background-color: hsl(0, 75%, 97%); opacity:1.0;                     line-height:1.75\"><font color=\"black\"> of                    </font></mark><mark style=\"background-color: hsl(0, 75%, 96%); opacity:1.0;                     line-height:1.75\"><font color=\"black\"> the                    </font></mark><mark style=\"background-color: hsl(0, 75%, 90%); opacity:1.0;                     line-height:1.75\"><font color=\"black\"> role                    </font></mark><mark style=\"background-color: hsl(120, 75%, 100%); opacity:1.0;                     line-height:1.75\"><font color=\"black\"> of                    </font></mark><mark style=\"background-color: hsl(0, 75%, 100%); opacity:1.0;                     line-height:1.75\"><font color=\"black\"> nineteenth-century                    </font></mark><mark style=\"background-color: hsl(0, 75%, 95%); opacity:1.0;                     line-height:1.75\"><font color=\"black\"> maps                    </font></mark><mark style=\"background-color: hsl(120, 75%, 99%); opacity:1.0;                     line-height:1.75\"><font color=\"black\"> during                    </font></mark><mark style=\"background-color: hsl(0, 75%, 96%); opacity:1.0;                     line-height:1.75\"><font color=\"black\"> the                    </font></mark><mark style=\"background-color: hsl(0, 75%, 100%); opacity:1.0;                     line-height:1.75\"><font color=\"black\"> \"scramble                    </font></mark><mark style=\"background-color: hsl(120, 75%, 95%); opacity:1.0;                     line-height:1.75\"><font color=\"black\"> for                    </font></mark><mark style=\"background-color: hsl(120, 75%, 100%); opacity:1.0;                     line-height:1.75\"><font color=\"black\"> Africa\".                    </font></mark><mark style=\"background-color: hsl(120, 75%, 96%); opacity:1.0;                     line-height:1.75\"><font color=\"black\"> #/s                    </font></mark></td><tr></table>"
      ],
      "text/plain": [
       "<IPython.core.display.HTML object>"
      ]
     },
     "metadata": {},
     "output_type": "display_data"
    },
    {
     "name": "stderr",
     "output_type": "stream",
     "text": [
      "/home/user/anaconda3/envs/py38/lib/python3.9/site-packages/captum/attr/_core/lime.py:1088: UserWarning: Attempting to construct interpretable model with > 10000 features.This can be very slow or lead to OOM issues. Please provide a featuremask which groups input features to reduce the number of interpretablefeatures. \n",
      "  warnings.warn(\n"
     ]
    },
    {
     "name": "stdout",
     "output_type": "stream",
     "text": [
      "<IPython.core.display.HTML object>\n",
      "i: 36\n",
      "Raw datum: ['Where did Tesla believe his talents came from?', \"Tesla's mother, Đuka Tesla (née Mandić), whose father was also an Orthodox priest,:10 had a talent for making home craft tools, mechanical appliances, and the ability to memorize Serbian epic poems.\"]\n",
      "GT target: 0\n"
     ]
    },
    {
     "name": "stderr",
     "output_type": "stream",
     "text": [
      "Lime attribution: 100%|███████████████████████████| 3/3 [00:26<00:00,  8.70s/it]\n"
     ]
    },
    {
     "name": "stdout",
     "output_type": "stream",
     "text": [
      "word attr tensor([-0.0954,  0.0526,  0.0634,  0.2935, -0.0389, -0.0337,  0.7174, -0.0296,\n",
      "        -0.0208, -0.1061, -0.0660, -0.0581, -0.0424, -0.0015, -0.1016,  0.0419,\n",
      "        -0.0548, -0.0565,  0.0080,  0.1147,  0.0162,  0.0411,  0.0888, -0.0228,\n",
      "        -0.0315,  0.0143,  0.0231,  0.0605, -0.0013, -0.0808, -0.0188,  0.1084,\n",
      "        -0.0113, -0.0734,  0.0883, -0.0270,  0.0494, -0.1271,  0.0073,  0.1313,\n",
      "        -0.0896, -0.0890, -0.0181, -0.1876,  0.1136,  0.0648, -0.1456,  0.1537,\n",
      "        -0.0578, -0.1373,  0.0197,  0.0258, -0.1777,  0.0933,  0.1768,  0.0349,\n",
      "         0.1306,  0.0322, -0.1000, -0.0731])\n",
      "conti attr [tensor(-0.0954), tensor(0.0526), tensor(0.0634), tensor(0.2935), tensor(-0.0389), tensor(-0.0337), tensor(0.7174), tensor(-0.0296), tensor(-0.1269), tensor(-0.0660), tensor(-0.0581), tensor(-0.0439), tensor(-0.0597), tensor(-0.0548), tensor(-0.0486), tensor(0.1147), tensor(0.1460), tensor(-0.0170), tensor(0.0605), tensor(-0.0013), tensor(-0.0808), tensor(-0.0188), tensor(0.1084), tensor(-0.0113), tensor(0.0374), tensor(-0.1271), tensor(0.0073), tensor(0.1313), tensor(-0.0896), tensor(-0.0890), tensor(-0.0181), tensor(-0.1876), tensor(0.1783), tensor(-0.1456), tensor(0.0959), tensor(-0.1373), tensor(0.0197), tensor(0.0258), tensor(-0.1777), tensor(0.2701), tensor(0.0349), tensor(0.1306), tensor(-0.0677), tensor(-0.0731)]\n",
      "detokenized ['<s>', 'Where', 'did', 'Tesla', 'believe', 'his', 'talents', 'came', 'from', '?', '</s>', '</s>', 'Tesla', \"'s\", 'mother', ',', 'Ä', 'Ĳ', 'uka', 'Tesla', '(', 'n', 'Ã©e', 'Mand', 'i', 'Äĩ', '),', 'whose', 'father', 'was', 'also', 'an', 'Orthodox', 'priest', ',', ':', '10', 'had', 'a', 'talent', 'for', 'making', 'home', 'craft', 'tools', ',', 'mechanical', 'appliances', ',', 'and', 'the', 'ability', 'to', 'memor', 'ize', 'Serbian', 'epic', 'poems', '.', '</s>']\n",
      "len conti_raw 44\n",
      "conti_raw ['<s>', 'Where', 'did', 'Tesla', 'believe', 'his', 'talents', 'came', 'from?', '</s>', '</s>', \"Tesla's\", 'mother,', 'Ä', 'Ĳuka', 'Tesla', '(nÃ©e', 'MandiÄĩ),', 'whose', 'father', 'was', 'also', 'an', 'Orthodox', 'priest,:10', 'had', 'a', 'talent', 'for', 'making', 'home', 'craft', 'tools,', 'mechanical', 'appliances,', 'and', 'the', 'ability', 'to', 'memorize', 'Serbian', 'epic', 'poems.', '</s>']\n",
      "pred_prob 0.1975039690732956\n"
     ]
    },
    {
     "data": {
      "text/html": [
       "<table width: 100%><div style=\"border-top: 1px solid; margin-top: 5px;             padding-top: 5px; display: inline-block\"><b>Legend: </b><span style=\"display: inline-block; width: 10px; height: 10px;                 border: 1px solid; background-color:                 hsl(0, 75%, 60%)\"></span> Negative  <span style=\"display: inline-block; width: 10px; height: 10px;                 border: 1px solid; background-color:                 hsl(0, 75%, 100%)\"></span> Neutral  <span style=\"display: inline-block; width: 10px; height: 10px;                 border: 1px solid; background-color:                 hsl(120, 75%, 50%)\"></span> Positive  </div><tr><th>True Label</th><th>Predicted Label</th><th>Attribution Label</th><th>Attribution Score</th><th>Word Importance</th><tr><td><text style=\"padding-right:2em\"><b>No Entailment</b></text></td><td><text style=\"padding-right:2em\"><b>No Entailment (0.20)</b></text></td><td><text style=\"padding-right:2em\"><b>Entailment</b></text></td><td><text style=\"padding-right:2em\"><b>0.59</b></text></td><td><mark style=\"background-color: hsl(0, 75%, 97%); opacity:1.0;                     line-height:1.75\"><font color=\"black\"> #s                    </font></mark><mark style=\"background-color: hsl(120, 75%, 98%); opacity:1.0;                     line-height:1.75\"><font color=\"black\"> Where                    </font></mark><mark style=\"background-color: hsl(120, 75%, 97%); opacity:1.0;                     line-height:1.75\"><font color=\"black\"> did                    </font></mark><mark style=\"background-color: hsl(120, 75%, 86%); opacity:1.0;                     line-height:1.75\"><font color=\"black\"> Tesla                    </font></mark><mark style=\"background-color: hsl(0, 75%, 99%); opacity:1.0;                     line-height:1.75\"><font color=\"black\"> believe                    </font></mark><mark style=\"background-color: hsl(0, 75%, 99%); opacity:1.0;                     line-height:1.75\"><font color=\"black\"> his                    </font></mark><mark style=\"background-color: hsl(120, 75%, 65%); opacity:1.0;                     line-height:1.75\"><font color=\"black\"> talents                    </font></mark><mark style=\"background-color: hsl(0, 75%, 99%); opacity:1.0;                     line-height:1.75\"><font color=\"black\"> came                    </font></mark><mark style=\"background-color: hsl(0, 75%, 95%); opacity:1.0;                     line-height:1.75\"><font color=\"black\"> from?                    </font></mark><mark style=\"background-color: hsl(0, 75%, 98%); opacity:1.0;                     line-height:1.75\"><font color=\"black\"> #/s                    </font></mark><mark style=\"background-color: hsl(0, 75%, 98%); opacity:1.0;                     line-height:1.75\"><font color=\"black\"> #/s                    </font></mark><mark style=\"background-color: hsl(0, 75%, 99%); opacity:1.0;                     line-height:1.75\"><font color=\"black\"> Tesla's                    </font></mark><mark style=\"background-color: hsl(0, 75%, 98%); opacity:1.0;                     line-height:1.75\"><font color=\"black\"> mother,                    </font></mark><mark style=\"background-color: hsl(0, 75%, 98%); opacity:1.0;                     line-height:1.75\"><font color=\"black\"> Ä                    </font></mark><mark style=\"background-color: hsl(0, 75%, 99%); opacity:1.0;                     line-height:1.75\"><font color=\"black\"> Ĳuka                    </font></mark><mark style=\"background-color: hsl(120, 75%, 95%); opacity:1.0;                     line-height:1.75\"><font color=\"black\"> Tesla                    </font></mark><mark style=\"background-color: hsl(120, 75%, 93%); opacity:1.0;                     line-height:1.75\"><font color=\"black\"> (nÃ©e                    </font></mark><mark style=\"background-color: hsl(0, 75%, 100%); opacity:1.0;                     line-height:1.75\"><font color=\"black\"> MandiÄĩ),                    </font></mark><mark style=\"background-color: hsl(120, 75%, 97%); opacity:1.0;                     line-height:1.75\"><font color=\"black\"> whose                    </font></mark><mark style=\"background-color: hsl(0, 75%, 100%); opacity:1.0;                     line-height:1.75\"><font color=\"black\"> father                    </font></mark><mark style=\"background-color: hsl(0, 75%, 97%); opacity:1.0;                     line-height:1.75\"><font color=\"black\"> was                    </font></mark><mark style=\"background-color: hsl(0, 75%, 100%); opacity:1.0;                     line-height:1.75\"><font color=\"black\"> also                    </font></mark><mark style=\"background-color: hsl(120, 75%, 95%); opacity:1.0;                     line-height:1.75\"><font color=\"black\"> an                    </font></mark><mark style=\"background-color: hsl(0, 75%, 100%); opacity:1.0;                     line-height:1.75\"><font color=\"black\"> Orthodox                    </font></mark><mark style=\"background-color: hsl(120, 75%, 99%); opacity:1.0;                     line-height:1.75\"><font color=\"black\"> priest,:10                    </font></mark><mark style=\"background-color: hsl(0, 75%, 95%); opacity:1.0;                     line-height:1.75\"><font color=\"black\"> had                    </font></mark><mark style=\"background-color: hsl(120, 75%, 100%); opacity:1.0;                     line-height:1.75\"><font color=\"black\"> a                    </font></mark><mark style=\"background-color: hsl(120, 75%, 94%); opacity:1.0;                     line-height:1.75\"><font color=\"black\"> talent                    </font></mark><mark style=\"background-color: hsl(0, 75%, 97%); opacity:1.0;                     line-height:1.75\"><font color=\"black\"> for                    </font></mark><mark style=\"background-color: hsl(0, 75%, 97%); opacity:1.0;                     line-height:1.75\"><font color=\"black\"> making                    </font></mark><mark style=\"background-color: hsl(0, 75%, 100%); opacity:1.0;                     line-height:1.75\"><font color=\"black\"> home                    </font></mark><mark style=\"background-color: hsl(0, 75%, 93%); opacity:1.0;                     line-height:1.75\"><font color=\"black\"> craft                    </font></mark><mark style=\"background-color: hsl(120, 75%, 92%); opacity:1.0;                     line-height:1.75\"><font color=\"black\"> tools,                    </font></mark><mark style=\"background-color: hsl(0, 75%, 95%); opacity:1.0;                     line-height:1.75\"><font color=\"black\"> mechanical                    </font></mark><mark style=\"background-color: hsl(120, 75%, 96%); opacity:1.0;                     line-height:1.75\"><font color=\"black\"> appliances,                    </font></mark><mark style=\"background-color: hsl(0, 75%, 95%); opacity:1.0;                     line-height:1.75\"><font color=\"black\"> and                    </font></mark><mark style=\"background-color: hsl(120, 75%, 100%); opacity:1.0;                     line-height:1.75\"><font color=\"black\"> the                    </font></mark><mark style=\"background-color: hsl(120, 75%, 99%); opacity:1.0;                     line-height:1.75\"><font color=\"black\"> ability                    </font></mark><mark style=\"background-color: hsl(0, 75%, 93%); opacity:1.0;                     line-height:1.75\"><font color=\"black\"> to                    </font></mark><mark style=\"background-color: hsl(120, 75%, 87%); opacity:1.0;                     line-height:1.75\"><font color=\"black\"> memorize                    </font></mark><mark style=\"background-color: hsl(120, 75%, 99%); opacity:1.0;                     line-height:1.75\"><font color=\"black\"> Serbian                    </font></mark><mark style=\"background-color: hsl(120, 75%, 94%); opacity:1.0;                     line-height:1.75\"><font color=\"black\"> epic                    </font></mark><mark style=\"background-color: hsl(0, 75%, 98%); opacity:1.0;                     line-height:1.75\"><font color=\"black\"> poems.                    </font></mark><mark style=\"background-color: hsl(0, 75%, 98%); opacity:1.0;                     line-height:1.75\"><font color=\"black\"> #/s                    </font></mark></td><tr></table>"
      ],
      "text/plain": [
       "<IPython.core.display.HTML object>"
      ]
     },
     "metadata": {},
     "output_type": "display_data"
    },
    {
     "name": "stderr",
     "output_type": "stream",
     "text": [
      "/home/user/anaconda3/envs/py38/lib/python3.9/site-packages/captum/attr/_core/lime.py:1088: UserWarning: Attempting to construct interpretable model with > 10000 features.This can be very slow or lead to OOM issues. Please provide a featuremask which groups input features to reduce the number of interpretablefeatures. \n",
      "  warnings.warn(\n"
     ]
    },
    {
     "name": "stdout",
     "output_type": "stream",
     "text": [
      "<IPython.core.display.HTML object>\n",
      "i: 37\n",
      "Raw datum: ['Who was given the esteemed status of MVP for Super Bowl 50?', 'Denver linebacker Von Miller was named Super Bowl MVP, recording five solo tackles, 2½ sacks, and two forced fumbles.']\n",
      "GT target: 1\n"
     ]
    },
    {
     "name": "stderr",
     "output_type": "stream",
     "text": [
      "Lime attribution: 100%|███████████████████████████| 3/3 [00:17<00:00,  5.67s/it]\n"
     ]
    },
    {
     "name": "stdout",
     "output_type": "stream",
     "text": [
      "word attr tensor([-0.0783,  0.1218, -0.0069,  0.0115,  0.0502, -0.0826,  0.1280, -0.1684,\n",
      "         0.6170, -0.1037,  0.1095, -0.0711, -0.2753,  0.0245,  0.1521, -0.0998,\n",
      "         0.1395,  0.2526, -0.1012, -0.0642,  0.0425, -0.1295,  0.1190,  0.0609,\n",
      "         0.1435, -0.2280,  0.0121,  0.1074,  0.0104,  0.0464, -0.0614,  0.1231,\n",
      "        -0.1025, -0.1296, -0.0985,  0.0591, -0.2216,  0.0107,  0.0457, -0.2225,\n",
      "         0.1287, -0.0970])\n",
      "conti attr [tensor(-0.0783), tensor(0.1218), tensor(-0.0069), tensor(0.0115), tensor(0.0502), tensor(-0.0826), tensor(0.1280), tensor(-0.1684), tensor(0.6170), tensor(-0.1037), tensor(0.1095), tensor(-0.0711), tensor(-0.2508), tensor(0.1521), tensor(-0.0998), tensor(0.1395), tensor(0.2526), tensor(-0.1012), tensor(-0.0642), tensor(0.0425), tensor(-0.1295), tensor(0.1190), tensor(0.0609), tensor(-0.0845), tensor(0.0121), tensor(0.1074), tensor(0.0104), tensor(-0.0150), tensor(0.0206), tensor(-0.2281), tensor(0.0591), tensor(-0.2216), tensor(0.0107), tensor(-0.0481), tensor(-0.0970)]\n",
      "detokenized ['<s>', 'Who', 'was', 'given', 'the', 'esteemed', 'status', 'of', 'MVP', 'for', 'Super', 'Bowl', '50', '?', '</s>', '</s>', 'Denver', 'linebacker', 'Von', 'Miller', 'was', 'named', 'Super', 'Bowl', 'MVP', ',', 'recording', 'five', 'solo', 'tackles', ',', '2', 'Â½', 'sacks', ',', 'and', 'two', 'forced', 'f', 'umbles', '.', '</s>']\n",
      "len conti_raw 35\n",
      "conti_raw ['<s>', 'Who', 'was', 'given', 'the', 'esteemed', 'status', 'of', 'MVP', 'for', 'Super', 'Bowl', '50?', '</s>', '</s>', 'Denver', 'linebacker', 'Von', 'Miller', 'was', 'named', 'Super', 'Bowl', 'MVP,', 'recording', 'five', 'solo', 'tackles,', '2Â½', 'sacks,', 'and', 'two', 'forced', 'fumbles.', '</s>']\n",
      "pred_prob 0.994285523891449\n"
     ]
    },
    {
     "data": {
      "text/html": [
       "<table width: 100%><div style=\"border-top: 1px solid; margin-top: 5px;             padding-top: 5px; display: inline-block\"><b>Legend: </b><span style=\"display: inline-block; width: 10px; height: 10px;                 border: 1px solid; background-color:                 hsl(0, 75%, 60%)\"></span> Negative  <span style=\"display: inline-block; width: 10px; height: 10px;                 border: 1px solid; background-color:                 hsl(0, 75%, 100%)\"></span> Neutral  <span style=\"display: inline-block; width: 10px; height: 10px;                 border: 1px solid; background-color:                 hsl(120, 75%, 50%)\"></span> Positive  </div><tr><th>True Label</th><th>Predicted Label</th><th>Attribution Label</th><th>Attribution Score</th><th>Word Importance</th><tr><td><text style=\"padding-right:2em\"><b>Entailment</b></text></td><td><text style=\"padding-right:2em\"><b>Entailment (0.99)</b></text></td><td><text style=\"padding-right:2em\"><b>No Entailment</b></text></td><td><text style=\"padding-right:2em\"><b>0.17</b></text></td><td><mark style=\"background-color: hsl(0, 75%, 97%); opacity:1.0;                     line-height:1.75\"><font color=\"black\"> #s                    </font></mark><mark style=\"background-color: hsl(120, 75%, 94%); opacity:1.0;                     line-height:1.75\"><font color=\"black\"> Who                    </font></mark><mark style=\"background-color: hsl(0, 75%, 100%); opacity:1.0;                     line-height:1.75\"><font color=\"black\"> was                    </font></mark><mark style=\"background-color: hsl(120, 75%, 100%); opacity:1.0;                     line-height:1.75\"><font color=\"black\"> given                    </font></mark><mark style=\"background-color: hsl(120, 75%, 98%); opacity:1.0;                     line-height:1.75\"><font color=\"black\"> the                    </font></mark><mark style=\"background-color: hsl(0, 75%, 97%); opacity:1.0;                     line-height:1.75\"><font color=\"black\"> esteemed                    </font></mark><mark style=\"background-color: hsl(120, 75%, 94%); opacity:1.0;                     line-height:1.75\"><font color=\"black\"> status                    </font></mark><mark style=\"background-color: hsl(0, 75%, 94%); opacity:1.0;                     line-height:1.75\"><font color=\"black\"> of                    </font></mark><mark style=\"background-color: hsl(120, 75%, 70%); opacity:1.0;                     line-height:1.75\"><font color=\"black\"> MVP                    </font></mark><mark style=\"background-color: hsl(0, 75%, 96%); opacity:1.0;                     line-height:1.75\"><font color=\"black\"> for                    </font></mark><mark style=\"background-color: hsl(120, 75%, 95%); opacity:1.0;                     line-height:1.75\"><font color=\"black\"> Super                    </font></mark><mark style=\"background-color: hsl(0, 75%, 98%); opacity:1.0;                     line-height:1.75\"><font color=\"black\"> Bowl                    </font></mark><mark style=\"background-color: hsl(0, 75%, 90%); opacity:1.0;                     line-height:1.75\"><font color=\"black\"> 50?                    </font></mark><mark style=\"background-color: hsl(120, 75%, 93%); opacity:1.0;                     line-height:1.75\"><font color=\"black\"> #/s                    </font></mark><mark style=\"background-color: hsl(0, 75%, 97%); opacity:1.0;                     line-height:1.75\"><font color=\"black\"> #/s                    </font></mark><mark style=\"background-color: hsl(120, 75%, 94%); opacity:1.0;                     line-height:1.75\"><font color=\"black\"> Denver                    </font></mark><mark style=\"background-color: hsl(120, 75%, 88%); opacity:1.0;                     line-height:1.75\"><font color=\"black\"> linebacker                    </font></mark><mark style=\"background-color: hsl(0, 75%, 96%); opacity:1.0;                     line-height:1.75\"><font color=\"black\"> Von                    </font></mark><mark style=\"background-color: hsl(0, 75%, 98%); opacity:1.0;                     line-height:1.75\"><font color=\"black\"> Miller                    </font></mark><mark style=\"background-color: hsl(120, 75%, 98%); opacity:1.0;                     line-height:1.75\"><font color=\"black\"> was                    </font></mark><mark style=\"background-color: hsl(0, 75%, 95%); opacity:1.0;                     line-height:1.75\"><font color=\"black\"> named                    </font></mark><mark style=\"background-color: hsl(120, 75%, 95%); opacity:1.0;                     line-height:1.75\"><font color=\"black\"> Super                    </font></mark><mark style=\"background-color: hsl(120, 75%, 97%); opacity:1.0;                     line-height:1.75\"><font color=\"black\"> Bowl                    </font></mark><mark style=\"background-color: hsl(0, 75%, 97%); opacity:1.0;                     line-height:1.75\"><font color=\"black\"> MVP,                    </font></mark><mark style=\"background-color: hsl(120, 75%, 100%); opacity:1.0;                     line-height:1.75\"><font color=\"black\"> recording                    </font></mark><mark style=\"background-color: hsl(120, 75%, 95%); opacity:1.0;                     line-height:1.75\"><font color=\"black\"> five                    </font></mark><mark style=\"background-color: hsl(120, 75%, 100%); opacity:1.0;                     line-height:1.75\"><font color=\"black\"> solo                    </font></mark><mark style=\"background-color: hsl(0, 75%, 100%); opacity:1.0;                     line-height:1.75\"><font color=\"black\"> tackles,                    </font></mark><mark style=\"background-color: hsl(120, 75%, 99%); opacity:1.0;                     line-height:1.75\"><font color=\"black\"> 2Â½                    </font></mark><mark style=\"background-color: hsl(0, 75%, 91%); opacity:1.0;                     line-height:1.75\"><font color=\"black\"> sacks,                    </font></mark><mark style=\"background-color: hsl(120, 75%, 98%); opacity:1.0;                     line-height:1.75\"><font color=\"black\"> and                    </font></mark><mark style=\"background-color: hsl(0, 75%, 92%); opacity:1.0;                     line-height:1.75\"><font color=\"black\"> two                    </font></mark><mark style=\"background-color: hsl(120, 75%, 100%); opacity:1.0;                     line-height:1.75\"><font color=\"black\"> forced                    </font></mark><mark style=\"background-color: hsl(0, 75%, 99%); opacity:1.0;                     line-height:1.75\"><font color=\"black\"> fumbles.                    </font></mark><mark style=\"background-color: hsl(0, 75%, 97%); opacity:1.0;                     line-height:1.75\"><font color=\"black\"> #/s                    </font></mark></td><tr></table>"
      ],
      "text/plain": [
       "<IPython.core.display.HTML object>"
      ]
     },
     "metadata": {},
     "output_type": "display_data"
    },
    {
     "name": "stderr",
     "output_type": "stream",
     "text": [
      "/home/user/anaconda3/envs/py38/lib/python3.9/site-packages/captum/attr/_core/lime.py:1088: UserWarning: Attempting to construct interpretable model with > 10000 features.This can be very slow or lead to OOM issues. Please provide a featuremask which groups input features to reduce the number of interpretablefeatures. \n",
      "  warnings.warn(\n"
     ]
    },
    {
     "name": "stdout",
     "output_type": "stream",
     "text": [
      "<IPython.core.display.HTML object>\n",
      "i: 38\n",
      "Raw datum: ['What was the percentage of Black or African-Americans living in the city?', 'Hispanic or Latino of any race were 39.9% of the population.']\n",
      "GT target: 0\n"
     ]
    },
    {
     "name": "stderr",
     "output_type": "stream",
     "text": [
      "Lime attribution: 100%|███████████████████████████| 3/3 [00:15<00:00,  5.15s/it]\n"
     ]
    },
    {
     "name": "stdout",
     "output_type": "stream",
     "text": [
      "word attr tensor([-0.2511, -0.0403, -0.1147,  0.0694,  0.1680, -0.1755,  0.5694, -0.0730,\n",
      "         0.0662,  0.1945,  0.0193,  0.1750, -0.0905,  0.0533,  0.0590, -0.1226,\n",
      "         0.2265, -0.1515,  0.0994,  0.1221,  0.3178,  0.1534, -0.2027, -0.0242,\n",
      "         0.0337,  0.1175, -0.0212,  0.2752, -0.0637, -0.0971, -0.1303, -0.1669,\n",
      "        -0.1067, -0.0059])\n",
      "conti attr [tensor(-0.2511), tensor(-0.0403), tensor(-0.1147), tensor(0.0694), tensor(0.1680), tensor(-0.1755), tensor(0.5694), tensor(-0.0730), tensor(0.2800), tensor(0.1750), tensor(-0.0905), tensor(0.0533), tensor(-0.0635), tensor(0.2265), tensor(-0.1515), tensor(0.0994), tensor(0.1221), tensor(0.3178), tensor(0.1534), tensor(-0.2027), tensor(-0.0242), tensor(0.0337), tensor(0.3077), tensor(-0.0971), tensor(-0.1303), tensor(-0.2736), tensor(-0.0059)]\n",
      "detokenized ['<s>', 'What', 'was', 'the', 'percentage', 'of', 'Black', 'or', 'African', '-', 'Americans', 'living', 'in', 'the', 'city', '?', '</s>', '</s>', 'Hispanic', 'or', 'Latino', 'of', 'any', 'race', 'were', '39', '.', '9', '%', 'of', 'the', 'population', '.', '</s>']\n",
      "len conti_raw 27\n",
      "conti_raw ['<s>', 'What', 'was', 'the', 'percentage', 'of', 'Black', 'or', 'African-Americans', 'living', 'in', 'the', 'city?', '</s>', '</s>', 'Hispanic', 'or', 'Latino', 'of', 'any', 'race', 'were', '39.9%', 'of', 'the', 'population.', '</s>']\n",
      "pred_prob 0.6878899931907654\n"
     ]
    },
    {
     "data": {
      "text/html": [
       "<table width: 100%><div style=\"border-top: 1px solid; margin-top: 5px;             padding-top: 5px; display: inline-block\"><b>Legend: </b><span style=\"display: inline-block; width: 10px; height: 10px;                 border: 1px solid; background-color:                 hsl(0, 75%, 60%)\"></span> Negative  <span style=\"display: inline-block; width: 10px; height: 10px;                 border: 1px solid; background-color:                 hsl(0, 75%, 100%)\"></span> Neutral  <span style=\"display: inline-block; width: 10px; height: 10px;                 border: 1px solid; background-color:                 hsl(120, 75%, 50%)\"></span> Positive  </div><tr><th>True Label</th><th>Predicted Label</th><th>Attribution Label</th><th>Attribution Score</th><th>Word Importance</th><tr><td><text style=\"padding-right:2em\"><b>No Entailment</b></text></td><td><text style=\"padding-right:2em\"><b>Entailment (0.69)</b></text></td><td><text style=\"padding-right:2em\"><b>Entailment</b></text></td><td><text style=\"padding-right:2em\"><b>0.88</b></text></td><td><mark style=\"background-color: hsl(0, 75%, 90%); opacity:1.0;                     line-height:1.75\"><font color=\"black\"> #s                    </font></mark><mark style=\"background-color: hsl(0, 75%, 99%); opacity:1.0;                     line-height:1.75\"><font color=\"black\"> What                    </font></mark><mark style=\"background-color: hsl(0, 75%, 96%); opacity:1.0;                     line-height:1.75\"><font color=\"black\"> was                    </font></mark><mark style=\"background-color: hsl(120, 75%, 97%); opacity:1.0;                     line-height:1.75\"><font color=\"black\"> the                    </font></mark><mark style=\"background-color: hsl(120, 75%, 92%); opacity:1.0;                     line-height:1.75\"><font color=\"black\"> percentage                    </font></mark><mark style=\"background-color: hsl(0, 75%, 93%); opacity:1.0;                     line-height:1.75\"><font color=\"black\"> of                    </font></mark><mark style=\"background-color: hsl(120, 75%, 72%); opacity:1.0;                     line-height:1.75\"><font color=\"black\"> Black                    </font></mark><mark style=\"background-color: hsl(0, 75%, 98%); opacity:1.0;                     line-height:1.75\"><font color=\"black\"> or                    </font></mark><mark style=\"background-color: hsl(120, 75%, 87%); opacity:1.0;                     line-height:1.75\"><font color=\"black\"> African-Americans                    </font></mark><mark style=\"background-color: hsl(120, 75%, 92%); opacity:1.0;                     line-height:1.75\"><font color=\"black\"> living                    </font></mark><mark style=\"background-color: hsl(0, 75%, 97%); opacity:1.0;                     line-height:1.75\"><font color=\"black\"> in                    </font></mark><mark style=\"background-color: hsl(120, 75%, 98%); opacity:1.0;                     line-height:1.75\"><font color=\"black\"> the                    </font></mark><mark style=\"background-color: hsl(0, 75%, 98%); opacity:1.0;                     line-height:1.75\"><font color=\"black\"> city?                    </font></mark><mark style=\"background-color: hsl(120, 75%, 89%); opacity:1.0;                     line-height:1.75\"><font color=\"black\"> #/s                    </font></mark><mark style=\"background-color: hsl(0, 75%, 94%); opacity:1.0;                     line-height:1.75\"><font color=\"black\"> #/s                    </font></mark><mark style=\"background-color: hsl(120, 75%, 96%); opacity:1.0;                     line-height:1.75\"><font color=\"black\"> Hispanic                    </font></mark><mark style=\"background-color: hsl(120, 75%, 94%); opacity:1.0;                     line-height:1.75\"><font color=\"black\"> or                    </font></mark><mark style=\"background-color: hsl(120, 75%, 85%); opacity:1.0;                     line-height:1.75\"><font color=\"black\"> Latino                    </font></mark><mark style=\"background-color: hsl(120, 75%, 93%); opacity:1.0;                     line-height:1.75\"><font color=\"black\"> of                    </font></mark><mark style=\"background-color: hsl(0, 75%, 92%); opacity:1.0;                     line-height:1.75\"><font color=\"black\"> any                    </font></mark><mark style=\"background-color: hsl(0, 75%, 100%); opacity:1.0;                     line-height:1.75\"><font color=\"black\"> race                    </font></mark><mark style=\"background-color: hsl(120, 75%, 99%); opacity:1.0;                     line-height:1.75\"><font color=\"black\"> were                    </font></mark><mark style=\"background-color: hsl(120, 75%, 85%); opacity:1.0;                     line-height:1.75\"><font color=\"black\"> 39.9%                    </font></mark><mark style=\"background-color: hsl(0, 75%, 97%); opacity:1.0;                     line-height:1.75\"><font color=\"black\"> of                    </font></mark><mark style=\"background-color: hsl(0, 75%, 95%); opacity:1.0;                     line-height:1.75\"><font color=\"black\"> the                    </font></mark><mark style=\"background-color: hsl(0, 75%, 90%); opacity:1.0;                     line-height:1.75\"><font color=\"black\"> population.                    </font></mark><mark style=\"background-color: hsl(0, 75%, 100%); opacity:1.0;                     line-height:1.75\"><font color=\"black\"> #/s                    </font></mark></td><tr></table>"
      ],
      "text/plain": [
       "<IPython.core.display.HTML object>"
      ]
     },
     "metadata": {},
     "output_type": "display_data"
    },
    {
     "name": "stderr",
     "output_type": "stream",
     "text": [
      "/home/user/anaconda3/envs/py38/lib/python3.9/site-packages/captum/attr/_core/lime.py:1088: UserWarning: Attempting to construct interpretable model with > 10000 features.This can be very slow or lead to OOM issues. Please provide a featuremask which groups input features to reduce the number of interpretablefeatures. \n",
      "  warnings.warn(\n"
     ]
    },
    {
     "name": "stdout",
     "output_type": "stream",
     "text": [
      "<IPython.core.display.HTML object>\n",
      "i: 39\n",
      "Raw datum: ['What was the result of the 2007 election?', 'With International Criminal Court trial dates in 2013 for both President Kenyatta and Deputy President William Ruto related to the 2007 election aftermath, US President Barack Obama chose not to visit the country during his mid-2013 African trip.']\n",
      "GT target: 1\n"
     ]
    },
    {
     "name": "stderr",
     "output_type": "stream",
     "text": [
      "Lime attribution: 100%|███████████████████████████| 3/3 [00:27<00:00,  9.04s/it]\n"
     ]
    },
    {
     "name": "stdout",
     "output_type": "stream",
     "text": [
      "word attr tensor([-0.5914,  0.0414, -0.2034, -0.1160, -0.0314,  0.0042,  0.0983,  0.1868,\n",
      "         0.1885,  0.0538, -0.0097,  0.0067, -0.0847,  0.0936,  0.0258, -0.0742,\n",
      "         0.1043, -0.0408,  0.0025, -0.0833, -0.0141,  0.1198, -0.1796,  0.1751,\n",
      "        -0.1110, -0.1786, -0.0884, -0.1173,  0.0075,  0.0370,  0.0090,  0.0565,\n",
      "         0.1831,  0.0013,  0.0932,  0.2729,  0.1491,  0.0781, -0.0857, -0.1090,\n",
      "         0.0716, -0.1624, -0.1194, -0.0016,  0.0606,  0.0552, -0.1043,  0.0207,\n",
      "         0.1317, -0.0604,  0.0822, -0.0579,  0.0316,  0.0167, -0.0433,  0.0300,\n",
      "        -0.1013,  0.2156])\n",
      "conti attr [tensor(-0.5914), tensor(0.0414), tensor(-0.2034), tensor(-0.1160), tensor(-0.0314), tensor(0.0042), tensor(0.0983), tensor(0.1868), tensor(0.2423), tensor(-0.0097), tensor(0.0067), tensor(-0.0847), tensor(0.0936), tensor(0.0258), tensor(-0.0742), tensor(0.1043), tensor(-0.0408), tensor(0.0025), tensor(-0.0833), tensor(-0.0141), tensor(0.1198), tensor(-0.1796), tensor(-0.1146), tensor(-0.0884), tensor(-0.1173), tensor(0.0075), tensor(0.0370), tensor(0.0654), tensor(0.1831), tensor(0.0013), tensor(0.0932), tensor(0.2729), tensor(0.1491), tensor(-0.0076), tensor(-0.1090), tensor(0.0716), tensor(-0.1624), tensor(-0.1194), tensor(-0.0016), tensor(0.0606), tensor(0.0552), tensor(-0.1043), tensor(0.0207), tensor(0.1317), tensor(-0.0604), tensor(0.0822), tensor(-0.0096), tensor(-0.0433), tensor(-0.0713), tensor(0.2156)]\n",
      "detokenized ['<s>', 'What', 'was', 'the', 'result', 'of', 'the', '2007', 'election', '?', '</s>', '</s>', 'With', 'International', 'Criminal', 'Court', 'trial', 'dates', 'in', '2013', 'for', 'both', 'President', 'Ken', 'y', 'atta', 'and', 'Deputy', 'President', 'William', 'R', 'uto', 'related', 'to', 'the', '2007', 'election', 'aftermath', ',', 'US', 'President', 'Barack', 'Obama', 'chose', 'not', 'to', 'visit', 'the', 'country', 'during', 'his', 'mid', '-', '2013', 'African', 'trip', '.', '</s>']\n",
      "len conti_raw 50\n",
      "conti_raw ['<s>', 'What', 'was', 'the', 'result', 'of', 'the', '2007', 'election?', '</s>', '</s>', 'With', 'International', 'Criminal', 'Court', 'trial', 'dates', 'in', '2013', 'for', 'both', 'President', 'Kenyatta', 'and', 'Deputy', 'President', 'William', 'Ruto', 'related', 'to', 'the', '2007', 'election', 'aftermath,', 'US', 'President', 'Barack', 'Obama', 'chose', 'not', 'to', 'visit', 'the', 'country', 'during', 'his', 'mid-2013', 'African', 'trip.', '</s>']\n",
      "pred_prob 0.15226225554943085\n"
     ]
    },
    {
     "data": {
      "text/html": [
       "<table width: 100%><div style=\"border-top: 1px solid; margin-top: 5px;             padding-top: 5px; display: inline-block\"><b>Legend: </b><span style=\"display: inline-block; width: 10px; height: 10px;                 border: 1px solid; background-color:                 hsl(0, 75%, 60%)\"></span> Negative  <span style=\"display: inline-block; width: 10px; height: 10px;                 border: 1px solid; background-color:                 hsl(0, 75%, 100%)\"></span> Neutral  <span style=\"display: inline-block; width: 10px; height: 10px;                 border: 1px solid; background-color:                 hsl(120, 75%, 50%)\"></span> Positive  </div><tr><th>True Label</th><th>Predicted Label</th><th>Attribution Label</th><th>Attribution Score</th><th>Word Importance</th><tr><td><text style=\"padding-right:2em\"><b>Entailment</b></text></td><td><text style=\"padding-right:2em\"><b>No Entailment (0.15)</b></text></td><td><text style=\"padding-right:2em\"><b>No Entailment</b></text></td><td><text style=\"padding-right:2em\"><b>-0.06</b></text></td><td><mark style=\"background-color: hsl(0, 75%, 77%); opacity:1.0;                     line-height:1.75\"><font color=\"black\"> #s                    </font></mark><mark style=\"background-color: hsl(120, 75%, 98%); opacity:1.0;                     line-height:1.75\"><font color=\"black\"> What                    </font></mark><mark style=\"background-color: hsl(0, 75%, 92%); opacity:1.0;                     line-height:1.75\"><font color=\"black\"> was                    </font></mark><mark style=\"background-color: hsl(0, 75%, 96%); opacity:1.0;                     line-height:1.75\"><font color=\"black\"> the                    </font></mark><mark style=\"background-color: hsl(0, 75%, 99%); opacity:1.0;                     line-height:1.75\"><font color=\"black\"> result                    </font></mark><mark style=\"background-color: hsl(120, 75%, 100%); opacity:1.0;                     line-height:1.75\"><font color=\"black\"> of                    </font></mark><mark style=\"background-color: hsl(120, 75%, 96%); opacity:1.0;                     line-height:1.75\"><font color=\"black\"> the                    </font></mark><mark style=\"background-color: hsl(120, 75%, 91%); opacity:1.0;                     line-height:1.75\"><font color=\"black\"> 2007                    </font></mark><mark style=\"background-color: hsl(120, 75%, 88%); opacity:1.0;                     line-height:1.75\"><font color=\"black\"> election?                    </font></mark><mark style=\"background-color: hsl(0, 75%, 100%); opacity:1.0;                     line-height:1.75\"><font color=\"black\"> #/s                    </font></mark><mark style=\"background-color: hsl(120, 75%, 100%); opacity:1.0;                     line-height:1.75\"><font color=\"black\"> #/s                    </font></mark><mark style=\"background-color: hsl(0, 75%, 97%); opacity:1.0;                     line-height:1.75\"><font color=\"black\"> With                    </font></mark><mark style=\"background-color: hsl(120, 75%, 96%); opacity:1.0;                     line-height:1.75\"><font color=\"black\"> International                    </font></mark><mark style=\"background-color: hsl(120, 75%, 99%); opacity:1.0;                     line-height:1.75\"><font color=\"black\"> Criminal                    </font></mark><mark style=\"background-color: hsl(0, 75%, 98%); opacity:1.0;                     line-height:1.75\"><font color=\"black\"> Court                    </font></mark><mark style=\"background-color: hsl(120, 75%, 95%); opacity:1.0;                     line-height:1.75\"><font color=\"black\"> trial                    </font></mark><mark style=\"background-color: hsl(0, 75%, 99%); opacity:1.0;                     line-height:1.75\"><font color=\"black\"> dates                    </font></mark><mark style=\"background-color: hsl(120, 75%, 100%); opacity:1.0;                     line-height:1.75\"><font color=\"black\"> in                    </font></mark><mark style=\"background-color: hsl(0, 75%, 97%); opacity:1.0;                     line-height:1.75\"><font color=\"black\"> 2013                    </font></mark><mark style=\"background-color: hsl(0, 75%, 100%); opacity:1.0;                     line-height:1.75\"><font color=\"black\"> for                    </font></mark><mark style=\"background-color: hsl(120, 75%, 95%); opacity:1.0;                     line-height:1.75\"><font color=\"black\"> both                    </font></mark><mark style=\"background-color: hsl(0, 75%, 93%); opacity:1.0;                     line-height:1.75\"><font color=\"black\"> President                    </font></mark><mark style=\"background-color: hsl(0, 75%, 96%); opacity:1.0;                     line-height:1.75\"><font color=\"black\"> Kenyatta                    </font></mark><mark style=\"background-color: hsl(0, 75%, 97%); opacity:1.0;                     line-height:1.75\"><font color=\"black\"> and                    </font></mark><mark style=\"background-color: hsl(0, 75%, 96%); opacity:1.0;                     line-height:1.75\"><font color=\"black\"> Deputy                    </font></mark><mark style=\"background-color: hsl(120, 75%, 100%); opacity:1.0;                     line-height:1.75\"><font color=\"black\"> President                    </font></mark><mark style=\"background-color: hsl(120, 75%, 99%); opacity:1.0;                     line-height:1.75\"><font color=\"black\"> William                    </font></mark><mark style=\"background-color: hsl(120, 75%, 97%); opacity:1.0;                     line-height:1.75\"><font color=\"black\"> Ruto                    </font></mark><mark style=\"background-color: hsl(120, 75%, 91%); opacity:1.0;                     line-height:1.75\"><font color=\"black\"> related                    </font></mark><mark style=\"background-color: hsl(120, 75%, 100%); opacity:1.0;                     line-height:1.75\"><font color=\"black\"> to                    </font></mark><mark style=\"background-color: hsl(120, 75%, 96%); opacity:1.0;                     line-height:1.75\"><font color=\"black\"> the                    </font></mark><mark style=\"background-color: hsl(120, 75%, 87%); opacity:1.0;                     line-height:1.75\"><font color=\"black\"> 2007                    </font></mark><mark style=\"background-color: hsl(120, 75%, 93%); opacity:1.0;                     line-height:1.75\"><font color=\"black\"> election                    </font></mark><mark style=\"background-color: hsl(0, 75%, 100%); opacity:1.0;                     line-height:1.75\"><font color=\"black\"> aftermath,                    </font></mark><mark style=\"background-color: hsl(0, 75%, 96%); opacity:1.0;                     line-height:1.75\"><font color=\"black\"> US                    </font></mark><mark style=\"background-color: hsl(120, 75%, 97%); opacity:1.0;                     line-height:1.75\"><font color=\"black\"> President                    </font></mark><mark style=\"background-color: hsl(0, 75%, 94%); opacity:1.0;                     line-height:1.75\"><font color=\"black\"> Barack                    </font></mark><mark style=\"background-color: hsl(0, 75%, 96%); opacity:1.0;                     line-height:1.75\"><font color=\"black\"> Obama                    </font></mark><mark style=\"background-color: hsl(0, 75%, 100%); opacity:1.0;                     line-height:1.75\"><font color=\"black\"> chose                    </font></mark><mark style=\"background-color: hsl(120, 75%, 97%); opacity:1.0;                     line-height:1.75\"><font color=\"black\"> not                    </font></mark><mark style=\"background-color: hsl(120, 75%, 98%); opacity:1.0;                     line-height:1.75\"><font color=\"black\"> to                    </font></mark><mark style=\"background-color: hsl(0, 75%, 96%); opacity:1.0;                     line-height:1.75\"><font color=\"black\"> visit                    </font></mark><mark style=\"background-color: hsl(120, 75%, 99%); opacity:1.0;                     line-height:1.75\"><font color=\"black\"> the                    </font></mark><mark style=\"background-color: hsl(120, 75%, 94%); opacity:1.0;                     line-height:1.75\"><font color=\"black\"> country                    </font></mark><mark style=\"background-color: hsl(0, 75%, 98%); opacity:1.0;                     line-height:1.75\"><font color=\"black\"> during                    </font></mark><mark style=\"background-color: hsl(120, 75%, 96%); opacity:1.0;                     line-height:1.75\"><font color=\"black\"> his                    </font></mark><mark style=\"background-color: hsl(0, 75%, 100%); opacity:1.0;                     line-height:1.75\"><font color=\"black\"> mid-2013                    </font></mark><mark style=\"background-color: hsl(0, 75%, 99%); opacity:1.0;                     line-height:1.75\"><font color=\"black\"> African                    </font></mark><mark style=\"background-color: hsl(0, 75%, 98%); opacity:1.0;                     line-height:1.75\"><font color=\"black\"> trip.                    </font></mark><mark style=\"background-color: hsl(120, 75%, 90%); opacity:1.0;                     line-height:1.75\"><font color=\"black\"> #/s                    </font></mark></td><tr></table>"
      ],
      "text/plain": [
       "<IPython.core.display.HTML object>"
      ]
     },
     "metadata": {},
     "output_type": "display_data"
    },
    {
     "name": "stderr",
     "output_type": "stream",
     "text": [
      "/home/user/anaconda3/envs/py38/lib/python3.9/site-packages/captum/attr/_core/lime.py:1088: UserWarning: Attempting to construct interpretable model with > 10000 features.This can be very slow or lead to OOM issues. Please provide a featuremask which groups input features to reduce the number of interpretablefeatures. \n",
      "  warnings.warn(\n"
     ]
    },
    {
     "name": "stdout",
     "output_type": "stream",
     "text": [
      "<IPython.core.display.HTML object>\n",
      "i: 40\n",
      "Raw datum: ['What equation currently decribes the physics of force.', 'The notion \"force\" keeps its meaning in quantum mechanics, though one is now dealing with operators instead of classical variables and though the physics is now described by the Schrödinger equation instead of Newtonian equations.']\n",
      "GT target: 1\n"
     ]
    },
    {
     "name": "stderr",
     "output_type": "stream",
     "text": [
      "Lime attribution: 100%|███████████████████████████| 3/3 [00:26<00:00,  8.97s/it]\n"
     ]
    },
    {
     "name": "stdout",
     "output_type": "stream",
     "text": [
      "word attr tensor([-4.6808e-01, -2.8413e-02,  1.3238e-01,  3.4779e-01, -3.4681e-02,\n",
      "         1.4762e-01, -8.1096e-03,  1.1105e-01, -9.4292e-02, -1.7539e-01,\n",
      "        -1.0717e-01, -2.1263e-01,  7.2758e-02, -8.5310e-03,  6.4187e-02,\n",
      "        -4.4807e-02,  3.4851e-02, -1.1681e-01,  2.0711e-02, -6.1252e-04,\n",
      "        -1.4401e-02,  2.7716e-02,  3.7794e-02, -1.1318e-01, -1.8344e-02,\n",
      "        -2.4677e-02,  9.2395e-02, -3.7748e-02,  8.5535e-02, -1.7049e-02,\n",
      "        -2.7656e-02,  1.5532e-01,  1.0093e-01, -1.6746e-02, -1.8635e-01,\n",
      "        -1.1976e-01,  2.4893e-02, -2.7687e-02,  3.2243e-02,  2.5715e-01,\n",
      "         3.6423e-01, -4.4367e-02, -4.4762e-02,  6.2295e-02, -1.1295e-01,\n",
      "        -9.7764e-02, -1.3102e-02, -3.1504e-02,  2.9437e-01,  3.0543e-02,\n",
      "        -1.7540e-04, -1.2958e-01, -6.5324e-02, -5.0397e-02,  1.3098e-01,\n",
      "         2.9570e-02, -5.6341e-02])\n",
      "conti attr [tensor(-0.4681), tensor(-0.0284), tensor(0.1324), tensor(0.3478), tensor(0.1129), tensor(-0.0081), tensor(0.1110), tensor(-0.0943), tensor(-0.2826), tensor(-0.2126), tensor(0.0728), tensor(-0.0085), tensor(0.0642), tensor(-0.1268), tensor(0.0207), tensor(-0.0006), tensor(-0.0144), tensor(0.0277), tensor(0.0378), tensor(-0.1315), tensor(-0.0247), tensor(0.0924), tensor(-0.0377), tensor(0.0855), tensor(-0.0170), tensor(-0.0277), tensor(0.1553), tensor(0.1009), tensor(-0.0167), tensor(-0.1864), tensor(-0.1198), tensor(0.0249), tensor(-0.0277), tensor(0.0322), tensor(0.2572), tensor(0.3642), tensor(-0.0444), tensor(-0.0448), tensor(0.0623), tensor(-0.1129), tensor(0.1520), tensor(0.0305), tensor(-0.0002), tensor(-0.1296), tensor(-0.1157), tensor(0.1606), tensor(-0.0563)]\n",
      "detokenized ['<s>', 'What', 'equation', 'currently', 'dec', 'ribes', 'the', 'physics', 'of', 'force', '.', '</s>', '</s>', 'The', 'notion', '\"', 'force', '\"', 'keeps', 'its', 'meaning', 'in', 'quantum', 'mechanics', ',', 'though', 'one', 'is', 'now', 'dealing', 'with', 'operators', 'instead', 'of', 'classical', 'variables', 'and', 'though', 'the', 'physics', 'is', 'now', 'described', 'by', 'the', 'Schr', 'Ã¶', 'd', 'inger', 'equation', 'instead', 'of', 'Newton', 'ian', 'equations', '.', '</s>']\n",
      "len conti_raw 47\n",
      "conti_raw ['<s>', 'What', 'equation', 'currently', 'decribes', 'the', 'physics', 'of', 'force.', '</s>', '</s>', 'The', 'notion', '\"force\"', 'keeps', 'its', 'meaning', 'in', 'quantum', 'mechanics,', 'though', 'one', 'is', 'now', 'dealing', 'with', 'operators', 'instead', 'of', 'classical', 'variables', 'and', 'though', 'the', 'physics', 'is', 'now', 'described', 'by', 'the', 'SchrÃ¶dinger', 'equation', 'instead', 'of', 'Newtonian', 'equations.', '</s>']\n",
      "pred_prob 0.9977478384971619\n"
     ]
    },
    {
     "data": {
      "text/html": [
       "<table width: 100%><div style=\"border-top: 1px solid; margin-top: 5px;             padding-top: 5px; display: inline-block\"><b>Legend: </b><span style=\"display: inline-block; width: 10px; height: 10px;                 border: 1px solid; background-color:                 hsl(0, 75%, 60%)\"></span> Negative  <span style=\"display: inline-block; width: 10px; height: 10px;                 border: 1px solid; background-color:                 hsl(0, 75%, 100%)\"></span> Neutral  <span style=\"display: inline-block; width: 10px; height: 10px;                 border: 1px solid; background-color:                 hsl(120, 75%, 50%)\"></span> Positive  </div><tr><th>True Label</th><th>Predicted Label</th><th>Attribution Label</th><th>Attribution Score</th><th>Word Importance</th><tr><td><text style=\"padding-right:2em\"><b>Entailment</b></text></td><td><text style=\"padding-right:2em\"><b>Entailment (1.00)</b></text></td><td><text style=\"padding-right:2em\"><b>No Entailment</b></text></td><td><text style=\"padding-right:2em\"><b>0.11</b></text></td><td><mark style=\"background-color: hsl(0, 75%, 82%); opacity:1.0;                     line-height:1.75\"><font color=\"black\"> #s                    </font></mark><mark style=\"background-color: hsl(0, 75%, 99%); opacity:1.0;                     line-height:1.75\"><font color=\"black\"> What                    </font></mark><mark style=\"background-color: hsl(120, 75%, 94%); opacity:1.0;                     line-height:1.75\"><font color=\"black\"> equation                    </font></mark><mark style=\"background-color: hsl(120, 75%, 83%); opacity:1.0;                     line-height:1.75\"><font color=\"black\"> currently                    </font></mark><mark style=\"background-color: hsl(120, 75%, 95%); opacity:1.0;                     line-height:1.75\"><font color=\"black\"> decribes                    </font></mark><mark style=\"background-color: hsl(0, 75%, 100%); opacity:1.0;                     line-height:1.75\"><font color=\"black\"> the                    </font></mark><mark style=\"background-color: hsl(120, 75%, 95%); opacity:1.0;                     line-height:1.75\"><font color=\"black\"> physics                    </font></mark><mark style=\"background-color: hsl(0, 75%, 97%); opacity:1.0;                     line-height:1.75\"><font color=\"black\"> of                    </font></mark><mark style=\"background-color: hsl(0, 75%, 89%); opacity:1.0;                     line-height:1.75\"><font color=\"black\"> force.                    </font></mark><mark style=\"background-color: hsl(0, 75%, 92%); opacity:1.0;                     line-height:1.75\"><font color=\"black\"> #/s                    </font></mark><mark style=\"background-color: hsl(120, 75%, 97%); opacity:1.0;                     line-height:1.75\"><font color=\"black\"> #/s                    </font></mark><mark style=\"background-color: hsl(0, 75%, 100%); opacity:1.0;                     line-height:1.75\"><font color=\"black\"> The                    </font></mark><mark style=\"background-color: hsl(120, 75%, 97%); opacity:1.0;                     line-height:1.75\"><font color=\"black\"> notion                    </font></mark><mark style=\"background-color: hsl(0, 75%, 95%); opacity:1.0;                     line-height:1.75\"><font color=\"black\"> \"force\"                    </font></mark><mark style=\"background-color: hsl(120, 75%, 99%); opacity:1.0;                     line-height:1.75\"><font color=\"black\"> keeps                    </font></mark><mark style=\"background-color: hsl(0, 75%, 100%); opacity:1.0;                     line-height:1.75\"><font color=\"black\"> its                    </font></mark><mark style=\"background-color: hsl(0, 75%, 100%); opacity:1.0;                     line-height:1.75\"><font color=\"black\"> meaning                    </font></mark><mark style=\"background-color: hsl(120, 75%, 99%); opacity:1.0;                     line-height:1.75\"><font color=\"black\"> in                    </font></mark><mark style=\"background-color: hsl(120, 75%, 99%); opacity:1.0;                     line-height:1.75\"><font color=\"black\"> quantum                    </font></mark><mark style=\"background-color: hsl(0, 75%, 95%); opacity:1.0;                     line-height:1.75\"><font color=\"black\"> mechanics,                    </font></mark><mark style=\"background-color: hsl(0, 75%, 100%); opacity:1.0;                     line-height:1.75\"><font color=\"black\"> though                    </font></mark><mark style=\"background-color: hsl(120, 75%, 96%); opacity:1.0;                     line-height:1.75\"><font color=\"black\"> one                    </font></mark><mark style=\"background-color: hsl(0, 75%, 99%); opacity:1.0;                     line-height:1.75\"><font color=\"black\"> is                    </font></mark><mark style=\"background-color: hsl(120, 75%, 96%); opacity:1.0;                     line-height:1.75\"><font color=\"black\"> now                    </font></mark><mark style=\"background-color: hsl(0, 75%, 100%); opacity:1.0;                     line-height:1.75\"><font color=\"black\"> dealing                    </font></mark><mark style=\"background-color: hsl(0, 75%, 99%); opacity:1.0;                     line-height:1.75\"><font color=\"black\"> with                    </font></mark><mark style=\"background-color: hsl(120, 75%, 93%); opacity:1.0;                     line-height:1.75\"><font color=\"black\"> operators                    </font></mark><mark style=\"background-color: hsl(120, 75%, 95%); opacity:1.0;                     line-height:1.75\"><font color=\"black\"> instead                    </font></mark><mark style=\"background-color: hsl(0, 75%, 100%); opacity:1.0;                     line-height:1.75\"><font color=\"black\"> of                    </font></mark><mark style=\"background-color: hsl(0, 75%, 93%); opacity:1.0;                     line-height:1.75\"><font color=\"black\"> classical                    </font></mark><mark style=\"background-color: hsl(0, 75%, 96%); opacity:1.0;                     line-height:1.75\"><font color=\"black\"> variables                    </font></mark><mark style=\"background-color: hsl(120, 75%, 99%); opacity:1.0;                     line-height:1.75\"><font color=\"black\"> and                    </font></mark><mark style=\"background-color: hsl(0, 75%, 99%); opacity:1.0;                     line-height:1.75\"><font color=\"black\"> though                    </font></mark><mark style=\"background-color: hsl(120, 75%, 99%); opacity:1.0;                     line-height:1.75\"><font color=\"black\"> the                    </font></mark><mark style=\"background-color: hsl(120, 75%, 88%); opacity:1.0;                     line-height:1.75\"><font color=\"black\"> physics                    </font></mark><mark style=\"background-color: hsl(120, 75%, 82%); opacity:1.0;                     line-height:1.75\"><font color=\"black\"> is                    </font></mark><mark style=\"background-color: hsl(0, 75%, 99%); opacity:1.0;                     line-height:1.75\"><font color=\"black\"> now                    </font></mark><mark style=\"background-color: hsl(0, 75%, 99%); opacity:1.0;                     line-height:1.75\"><font color=\"black\"> described                    </font></mark><mark style=\"background-color: hsl(120, 75%, 97%); opacity:1.0;                     line-height:1.75\"><font color=\"black\"> by                    </font></mark><mark style=\"background-color: hsl(0, 75%, 96%); opacity:1.0;                     line-height:1.75\"><font color=\"black\"> the                    </font></mark><mark style=\"background-color: hsl(120, 75%, 93%); opacity:1.0;                     line-height:1.75\"><font color=\"black\"> SchrÃ¶dinger                    </font></mark><mark style=\"background-color: hsl(120, 75%, 99%); opacity:1.0;                     line-height:1.75\"><font color=\"black\"> equation                    </font></mark><mark style=\"background-color: hsl(0, 75%, 100%); opacity:1.0;                     line-height:1.75\"><font color=\"black\"> instead                    </font></mark><mark style=\"background-color: hsl(0, 75%, 95%); opacity:1.0;                     line-height:1.75\"><font color=\"black\"> of                    </font></mark><mark style=\"background-color: hsl(0, 75%, 96%); opacity:1.0;                     line-height:1.75\"><font color=\"black\"> Newtonian                    </font></mark><mark style=\"background-color: hsl(120, 75%, 92%); opacity:1.0;                     line-height:1.75\"><font color=\"black\"> equations.                    </font></mark><mark style=\"background-color: hsl(0, 75%, 98%); opacity:1.0;                     line-height:1.75\"><font color=\"black\"> #/s                    </font></mark></td><tr></table>"
      ],
      "text/plain": [
       "<IPython.core.display.HTML object>"
      ]
     },
     "metadata": {},
     "output_type": "display_data"
    },
    {
     "name": "stderr",
     "output_type": "stream",
     "text": [
      "/home/user/anaconda3/envs/py38/lib/python3.9/site-packages/captum/attr/_core/lime.py:1088: UserWarning: Attempting to construct interpretable model with > 10000 features.This can be very slow or lead to OOM issues. Please provide a featuremask which groups input features to reduce the number of interpretablefeatures. \n",
      "  warnings.warn(\n"
     ]
    },
    {
     "name": "stdout",
     "output_type": "stream",
     "text": [
      "<IPython.core.display.HTML object>\n",
      "i: 41\n",
      "Raw datum: ['What did Iqbal fear would weaken the spiritual foundations of Islam and Muslim society?', 'In his travels to Egypt, Afghanistan, Palestine and Syria, he promoted ideas of greater Islamic political co-operation and unity, calling for the shedding of nationalist differences.']\n",
      "GT target: 0\n"
     ]
    },
    {
     "name": "stderr",
     "output_type": "stream",
     "text": [
      "Lime attribution: 100%|███████████████████████████| 3/3 [00:24<00:00,  8.15s/it]\n"
     ]
    },
    {
     "name": "stdout",
     "output_type": "stream",
     "text": [
      "word attr tensor([-0.4282, -0.1171,  0.1295, -0.1318,  0.0896,  0.2683, -0.2418,  0.0879,\n",
      "        -0.0337, -0.0530, -0.0360,  0.1181, -0.0028,  0.0702,  0.2042,  0.0468,\n",
      "        -0.0142, -0.0690,  0.0186, -0.0194, -0.0854, -0.0658,  0.2669, -0.0042,\n",
      "         0.1488,  0.0772, -0.1559,  0.0221,  0.3598,  0.0229, -0.0899,  0.0722,\n",
      "        -0.0644,  0.0972,  0.0012, -0.0437, -0.2355,  0.0005,  0.0253, -0.1203,\n",
      "        -0.0399, -0.0071, -0.1485,  0.0282, -0.1659, -0.1416, -0.1934,  0.0996,\n",
      "         0.0457, -0.0049,  0.1343, -0.0146, -0.1691,  0.1239])\n",
      "conti attr [tensor(-0.4282), tensor(-0.1171), tensor(0.1295), tensor(0.2262), tensor(-0.2418), tensor(0.0879), tensor(-0.0337), tensor(-0.0530), tensor(-0.0360), tensor(0.1181), tensor(-0.0028), tensor(0.0702), tensor(0.2042), tensor(0.0468), tensor(-0.0832), tensor(0.0186), tensor(-0.0194), tensor(-0.0854), tensor(-0.0658), tensor(0.2669), tensor(-0.0042), tensor(0.2260), tensor(-0.1339), tensor(0.3598), tensor(0.0229), tensor(-0.0177), tensor(-0.0644), tensor(0.0972), tensor(0.0012), tensor(-0.0437), tensor(-0.2355), tensor(0.0005), tensor(0.0253), tensor(-0.1674), tensor(-0.1485), tensor(-0.1377), tensor(-0.1416), tensor(-0.1934), tensor(0.0996), tensor(0.0457), tensor(-0.0049), tensor(0.1343), tensor(-0.1837), tensor(0.1239)]\n",
      "detokenized ['<s>', 'What', 'did', 'I', 'q', 'bal', 'fear', 'would', 'weaken', 'the', 'spiritual', 'foundations', 'of', 'Islam', 'and', 'Muslim', 'society', '?', '</s>', '</s>', 'In', 'his', 'travels', 'to', 'Egypt', ',', 'Afghanistan', ',', 'Palestine', 'and', 'Syria', ',', 'he', 'promoted', 'ideas', 'of', 'greater', 'Islamic', 'political', 'co', '-', 'operation', 'and', 'unity', ',', 'calling', 'for', 'the', 'shedding', 'of', 'nationalist', 'differences', '.', '</s>']\n",
      "len conti_raw 44\n",
      "conti_raw ['<s>', 'What', 'did', 'Iqbal', 'fear', 'would', 'weaken', 'the', 'spiritual', 'foundations', 'of', 'Islam', 'and', 'Muslim', 'society?', '</s>', '</s>', 'In', 'his', 'travels', 'to', 'Egypt,', 'Afghanistan,', 'Palestine', 'and', 'Syria,', 'he', 'promoted', 'ideas', 'of', 'greater', 'Islamic', 'political', 'co-operation', 'and', 'unity,', 'calling', 'for', 'the', 'shedding', 'of', 'nationalist', 'differences.', '</s>']\n",
      "pred_prob 0.004727409221231937\n"
     ]
    },
    {
     "data": {
      "text/html": [
       "<table width: 100%><div style=\"border-top: 1px solid; margin-top: 5px;             padding-top: 5px; display: inline-block\"><b>Legend: </b><span style=\"display: inline-block; width: 10px; height: 10px;                 border: 1px solid; background-color:                 hsl(0, 75%, 60%)\"></span> Negative  <span style=\"display: inline-block; width: 10px; height: 10px;                 border: 1px solid; background-color:                 hsl(0, 75%, 100%)\"></span> Neutral  <span style=\"display: inline-block; width: 10px; height: 10px;                 border: 1px solid; background-color:                 hsl(120, 75%, 50%)\"></span> Positive  </div><tr><th>True Label</th><th>Predicted Label</th><th>Attribution Label</th><th>Attribution Score</th><th>Word Importance</th><tr><td><text style=\"padding-right:2em\"><b>No Entailment</b></text></td><td><text style=\"padding-right:2em\"><b>No Entailment (0.00)</b></text></td><td><text style=\"padding-right:2em\"><b>No Entailment</b></text></td><td><text style=\"padding-right:2em\"><b>-0.34</b></text></td><td><mark style=\"background-color: hsl(0, 75%, 83%); opacity:1.0;                     line-height:1.75\"><font color=\"black\"> #s                    </font></mark><mark style=\"background-color: hsl(0, 75%, 96%); opacity:1.0;                     line-height:1.75\"><font color=\"black\"> What                    </font></mark><mark style=\"background-color: hsl(120, 75%, 94%); opacity:1.0;                     line-height:1.75\"><font color=\"black\"> did                    </font></mark><mark style=\"background-color: hsl(120, 75%, 89%); opacity:1.0;                     line-height:1.75\"><font color=\"black\"> Iqbal                    </font></mark><mark style=\"background-color: hsl(0, 75%, 91%); opacity:1.0;                     line-height:1.75\"><font color=\"black\"> fear                    </font></mark><mark style=\"background-color: hsl(120, 75%, 96%); opacity:1.0;                     line-height:1.75\"><font color=\"black\"> would                    </font></mark><mark style=\"background-color: hsl(0, 75%, 99%); opacity:1.0;                     line-height:1.75\"><font color=\"black\"> weaken                    </font></mark><mark style=\"background-color: hsl(0, 75%, 98%); opacity:1.0;                     line-height:1.75\"><font color=\"black\"> the                    </font></mark><mark style=\"background-color: hsl(0, 75%, 99%); opacity:1.0;                     line-height:1.75\"><font color=\"black\"> spiritual                    </font></mark><mark style=\"background-color: hsl(120, 75%, 95%); opacity:1.0;                     line-height:1.75\"><font color=\"black\"> foundations                    </font></mark><mark style=\"background-color: hsl(0, 75%, 100%); opacity:1.0;                     line-height:1.75\"><font color=\"black\"> of                    </font></mark><mark style=\"background-color: hsl(120, 75%, 97%); opacity:1.0;                     line-height:1.75\"><font color=\"black\"> Islam                    </font></mark><mark style=\"background-color: hsl(120, 75%, 90%); opacity:1.0;                     line-height:1.75\"><font color=\"black\"> and                    </font></mark><mark style=\"background-color: hsl(120, 75%, 98%); opacity:1.0;                     line-height:1.75\"><font color=\"black\"> Muslim                    </font></mark><mark style=\"background-color: hsl(0, 75%, 97%); opacity:1.0;                     line-height:1.75\"><font color=\"black\"> society?                    </font></mark><mark style=\"background-color: hsl(120, 75%, 100%); opacity:1.0;                     line-height:1.75\"><font color=\"black\"> #/s                    </font></mark><mark style=\"background-color: hsl(0, 75%, 100%); opacity:1.0;                     line-height:1.75\"><font color=\"black\"> #/s                    </font></mark><mark style=\"background-color: hsl(0, 75%, 97%); opacity:1.0;                     line-height:1.75\"><font color=\"black\"> In                    </font></mark><mark style=\"background-color: hsl(0, 75%, 98%); opacity:1.0;                     line-height:1.75\"><font color=\"black\"> his                    </font></mark><mark style=\"background-color: hsl(120, 75%, 87%); opacity:1.0;                     line-height:1.75\"><font color=\"black\"> travels                    </font></mark><mark style=\"background-color: hsl(0, 75%, 100%); opacity:1.0;                     line-height:1.75\"><font color=\"black\"> to                    </font></mark><mark style=\"background-color: hsl(120, 75%, 89%); opacity:1.0;                     line-height:1.75\"><font color=\"black\"> Egypt,                    </font></mark><mark style=\"background-color: hsl(0, 75%, 95%); opacity:1.0;                     line-height:1.75\"><font color=\"black\"> Afghanistan,                    </font></mark><mark style=\"background-color: hsl(120, 75%, 83%); opacity:1.0;                     line-height:1.75\"><font color=\"black\"> Palestine                    </font></mark><mark style=\"background-color: hsl(120, 75%, 99%); opacity:1.0;                     line-height:1.75\"><font color=\"black\"> and                    </font></mark><mark style=\"background-color: hsl(0, 75%, 100%); opacity:1.0;                     line-height:1.75\"><font color=\"black\"> Syria,                    </font></mark><mark style=\"background-color: hsl(0, 75%, 98%); opacity:1.0;                     line-height:1.75\"><font color=\"black\"> he                    </font></mark><mark style=\"background-color: hsl(120, 75%, 96%); opacity:1.0;                     line-height:1.75\"><font color=\"black\"> promoted                    </font></mark><mark style=\"background-color: hsl(120, 75%, 100%); opacity:1.0;                     line-height:1.75\"><font color=\"black\"> ideas                    </font></mark><mark style=\"background-color: hsl(0, 75%, 99%); opacity:1.0;                     line-height:1.75\"><font color=\"black\"> of                    </font></mark><mark style=\"background-color: hsl(0, 75%, 91%); opacity:1.0;                     line-height:1.75\"><font color=\"black\"> greater                    </font></mark><mark style=\"background-color: hsl(120, 75%, 100%); opacity:1.0;                     line-height:1.75\"><font color=\"black\"> Islamic                    </font></mark><mark style=\"background-color: hsl(120, 75%, 99%); opacity:1.0;                     line-height:1.75\"><font color=\"black\"> political                    </font></mark><mark style=\"background-color: hsl(0, 75%, 94%); opacity:1.0;                     line-height:1.75\"><font color=\"black\"> co-operation                    </font></mark><mark style=\"background-color: hsl(0, 75%, 95%); opacity:1.0;                     line-height:1.75\"><font color=\"black\"> and                    </font></mark><mark style=\"background-color: hsl(0, 75%, 95%); opacity:1.0;                     line-height:1.75\"><font color=\"black\"> unity,                    </font></mark><mark style=\"background-color: hsl(0, 75%, 95%); opacity:1.0;                     line-height:1.75\"><font color=\"black\"> calling                    </font></mark><mark style=\"background-color: hsl(0, 75%, 93%); opacity:1.0;                     line-height:1.75\"><font color=\"black\"> for                    </font></mark><mark style=\"background-color: hsl(120, 75%, 96%); opacity:1.0;                     line-height:1.75\"><font color=\"black\"> the                    </font></mark><mark style=\"background-color: hsl(120, 75%, 98%); opacity:1.0;                     line-height:1.75\"><font color=\"black\"> shedding                    </font></mark><mark style=\"background-color: hsl(0, 75%, 100%); opacity:1.0;                     line-height:1.75\"><font color=\"black\"> of                    </font></mark><mark style=\"background-color: hsl(120, 75%, 94%); opacity:1.0;                     line-height:1.75\"><font color=\"black\"> nationalist                    </font></mark><mark style=\"background-color: hsl(0, 75%, 93%); opacity:1.0;                     line-height:1.75\"><font color=\"black\"> differences.                    </font></mark><mark style=\"background-color: hsl(120, 75%, 94%); opacity:1.0;                     line-height:1.75\"><font color=\"black\"> #/s                    </font></mark></td><tr></table>"
      ],
      "text/plain": [
       "<IPython.core.display.HTML object>"
      ]
     },
     "metadata": {},
     "output_type": "display_data"
    },
    {
     "name": "stderr",
     "output_type": "stream",
     "text": [
      "/home/user/anaconda3/envs/py38/lib/python3.9/site-packages/captum/attr/_core/lime.py:1088: UserWarning: Attempting to construct interpretable model with > 10000 features.This can be very slow or lead to OOM issues. Please provide a featuremask which groups input features to reduce the number of interpretablefeatures. \n",
      "  warnings.warn(\n"
     ]
    },
    {
     "name": "stdout",
     "output_type": "stream",
     "text": [
      "<IPython.core.display.HTML object>\n",
      "i: 42\n",
      "Raw datum: ['In what meeting did Shirley lay out plans for 1756?', 'At a meeting in Albany in December 1755, he laid out his plans for 1756.']\n",
      "GT target: 1\n"
     ]
    },
    {
     "name": "stderr",
     "output_type": "stream",
     "text": [
      "Lime attribution: 100%|███████████████████████████| 3/3 [00:16<00:00,  5.42s/it]\n"
     ]
    },
    {
     "name": "stdout",
     "output_type": "stream",
     "text": [
      "word attr tensor([-0.3687,  0.0362, -0.0411,  0.3466,  0.3042,  0.0586, -0.0672, -0.0236,\n",
      "         0.0350,  0.2911, -0.0192,  0.2719,  0.1697, -0.1542, -0.0214,  0.0184,\n",
      "        -0.1083,  0.2603,  0.1026,  0.0486, -0.1999,  0.0258,  0.0594, -0.0559,\n",
      "         0.0624,  0.1135, -0.1311, -0.2913,  0.2229,  0.1996, -0.1342,  0.1669,\n",
      "        -0.0638,  0.0682,  0.1539])\n",
      "conti attr [tensor(-0.3687), tensor(0.0362), tensor(-0.0411), tensor(0.3466), tensor(0.3042), tensor(0.0586), tensor(-0.0672), tensor(-0.0236), tensor(0.0350), tensor(0.2911), tensor(0.4224), tensor(-0.1542), tensor(-0.0214), tensor(0.0184), tensor(-0.1083), tensor(0.2603), tensor(0.1026), tensor(0.0486), tensor(-0.1999), tensor(0.0258), tensor(0.0658), tensor(0.1135), tensor(-0.1311), tensor(-0.2913), tensor(0.2229), tensor(0.1996), tensor(-0.1342), tensor(0.1713), tensor(0.1539)]\n",
      "detokenized ['<s>', 'In', 'what', 'meeting', 'did', 'Shirley', 'lay', 'out', 'plans', 'for', '17', '56', '?', '</s>', '</s>', 'At', 'a', 'meeting', 'in', 'Albany', 'in', 'December', '17', '55', ',', 'he', 'laid', 'out', 'his', 'plans', 'for', '17', '56', '.', '</s>']\n",
      "len conti_raw 29\n",
      "conti_raw ['<s>', 'In', 'what', 'meeting', 'did', 'Shirley', 'lay', 'out', 'plans', 'for', '1756?', '</s>', '</s>', 'At', 'a', 'meeting', 'in', 'Albany', 'in', 'December', '1755,', 'he', 'laid', 'out', 'his', 'plans', 'for', '1756.', '</s>']\n",
      "pred_prob 0.9984742999076843\n"
     ]
    },
    {
     "data": {
      "text/html": [
       "<table width: 100%><div style=\"border-top: 1px solid; margin-top: 5px;             padding-top: 5px; display: inline-block\"><b>Legend: </b><span style=\"display: inline-block; width: 10px; height: 10px;                 border: 1px solid; background-color:                 hsl(0, 75%, 60%)\"></span> Negative  <span style=\"display: inline-block; width: 10px; height: 10px;                 border: 1px solid; background-color:                 hsl(0, 75%, 100%)\"></span> Neutral  <span style=\"display: inline-block; width: 10px; height: 10px;                 border: 1px solid; background-color:                 hsl(120, 75%, 50%)\"></span> Positive  </div><tr><th>True Label</th><th>Predicted Label</th><th>Attribution Label</th><th>Attribution Score</th><th>Word Importance</th><tr><td><text style=\"padding-right:2em\"><b>Entailment</b></text></td><td><text style=\"padding-right:2em\"><b>Entailment (1.00)</b></text></td><td><text style=\"padding-right:2em\"><b>Entailment</b></text></td><td><text style=\"padding-right:2em\"><b>1.34</b></text></td><td><mark style=\"background-color: hsl(0, 75%, 86%); opacity:1.0;                     line-height:1.75\"><font color=\"black\"> #s                    </font></mark><mark style=\"background-color: hsl(120, 75%, 99%); opacity:1.0;                     line-height:1.75\"><font color=\"black\"> In                    </font></mark><mark style=\"background-color: hsl(0, 75%, 99%); opacity:1.0;                     line-height:1.75\"><font color=\"black\"> what                    </font></mark><mark style=\"background-color: hsl(120, 75%, 83%); opacity:1.0;                     line-height:1.75\"><font color=\"black\"> meeting                    </font></mark><mark style=\"background-color: hsl(120, 75%, 85%); opacity:1.0;                     line-height:1.75\"><font color=\"black\"> did                    </font></mark><mark style=\"background-color: hsl(120, 75%, 98%); opacity:1.0;                     line-height:1.75\"><font color=\"black\"> Shirley                    </font></mark><mark style=\"background-color: hsl(0, 75%, 98%); opacity:1.0;                     line-height:1.75\"><font color=\"black\"> lay                    </font></mark><mark style=\"background-color: hsl(0, 75%, 100%); opacity:1.0;                     line-height:1.75\"><font color=\"black\"> out                    </font></mark><mark style=\"background-color: hsl(120, 75%, 99%); opacity:1.0;                     line-height:1.75\"><font color=\"black\"> plans                    </font></mark><mark style=\"background-color: hsl(120, 75%, 86%); opacity:1.0;                     line-height:1.75\"><font color=\"black\"> for                    </font></mark><mark style=\"background-color: hsl(120, 75%, 79%); opacity:1.0;                     line-height:1.75\"><font color=\"black\"> 1756?                    </font></mark><mark style=\"background-color: hsl(0, 75%, 94%); opacity:1.0;                     line-height:1.75\"><font color=\"black\"> #/s                    </font></mark><mark style=\"background-color: hsl(0, 75%, 100%); opacity:1.0;                     line-height:1.75\"><font color=\"black\"> #/s                    </font></mark><mark style=\"background-color: hsl(120, 75%, 100%); opacity:1.0;                     line-height:1.75\"><font color=\"black\"> At                    </font></mark><mark style=\"background-color: hsl(0, 75%, 96%); opacity:1.0;                     line-height:1.75\"><font color=\"black\"> a                    </font></mark><mark style=\"background-color: hsl(120, 75%, 87%); opacity:1.0;                     line-height:1.75\"><font color=\"black\"> meeting                    </font></mark><mark style=\"background-color: hsl(120, 75%, 95%); opacity:1.0;                     line-height:1.75\"><font color=\"black\"> in                    </font></mark><mark style=\"background-color: hsl(120, 75%, 98%); opacity:1.0;                     line-height:1.75\"><font color=\"black\"> Albany                    </font></mark><mark style=\"background-color: hsl(0, 75%, 93%); opacity:1.0;                     line-height:1.75\"><font color=\"black\"> in                    </font></mark><mark style=\"background-color: hsl(120, 75%, 99%); opacity:1.0;                     line-height:1.75\"><font color=\"black\"> December                    </font></mark><mark style=\"background-color: hsl(120, 75%, 97%); opacity:1.0;                     line-height:1.75\"><font color=\"black\"> 1755,                    </font></mark><mark style=\"background-color: hsl(120, 75%, 95%); opacity:1.0;                     line-height:1.75\"><font color=\"black\"> he                    </font></mark><mark style=\"background-color: hsl(0, 75%, 95%); opacity:1.0;                     line-height:1.75\"><font color=\"black\"> laid                    </font></mark><mark style=\"background-color: hsl(0, 75%, 89%); opacity:1.0;                     line-height:1.75\"><font color=\"black\"> out                    </font></mark><mark style=\"background-color: hsl(120, 75%, 89%); opacity:1.0;                     line-height:1.75\"><font color=\"black\"> his                    </font></mark><mark style=\"background-color: hsl(120, 75%, 91%); opacity:1.0;                     line-height:1.75\"><font color=\"black\"> plans                    </font></mark><mark style=\"background-color: hsl(0, 75%, 95%); opacity:1.0;                     line-height:1.75\"><font color=\"black\"> for                    </font></mark><mark style=\"background-color: hsl(120, 75%, 92%); opacity:1.0;                     line-height:1.75\"><font color=\"black\"> 1756.                    </font></mark><mark style=\"background-color: hsl(120, 75%, 93%); opacity:1.0;                     line-height:1.75\"><font color=\"black\"> #/s                    </font></mark></td><tr></table>"
      ],
      "text/plain": [
       "<IPython.core.display.HTML object>"
      ]
     },
     "metadata": {},
     "output_type": "display_data"
    },
    {
     "name": "stderr",
     "output_type": "stream",
     "text": [
      "/home/user/anaconda3/envs/py38/lib/python3.9/site-packages/captum/attr/_core/lime.py:1088: UserWarning: Attempting to construct interpretable model with > 10000 features.This can be very slow or lead to OOM issues. Please provide a featuremask which groups input features to reduce the number of interpretablefeatures. \n",
      "  warnings.warn(\n"
     ]
    },
    {
     "name": "stdout",
     "output_type": "stream",
     "text": [
      "<IPython.core.display.HTML object>\n",
      "i: 43\n",
      "Raw datum: [\"In autoimmune disorders, the immune system doesn't distinguish between what types of cells?\", 'One of the functions of specialized cells (located in the thymus and bone marrow) is to present young lymphocytes with self antigens produced throughout the body and to eliminate those cells that recognize self-antigens, preventing autoimmunity.']\n",
      "GT target: 0\n"
     ]
    },
    {
     "name": "stderr",
     "output_type": "stream",
     "text": [
      "Lime attribution: 100%|███████████████████████████| 3/3 [00:33<00:00, 11.12s/it]\n"
     ]
    },
    {
     "name": "stdout",
     "output_type": "stream",
     "text": [
      "word attr tensor([-0.3318, -0.0898, -0.1029, -0.0540,  0.0988,  0.0808, -0.0026, -0.0529,\n",
      "         0.1822, -0.0558, -0.1319,  0.0083,  0.1037,  0.2262,  0.2354,  0.1716,\n",
      "         0.0267,  0.0578, -0.1472, -0.0488,  0.1676,  0.0154, -0.1069, -0.0688,\n",
      "        -0.0168,  0.0326,  0.1864,  0.0274, -0.0383,  0.2353,  0.1526, -0.0638,\n",
      "         0.0105,  0.1074, -0.0053,  0.0750, -0.0843,  0.1896, -0.1298, -0.0017,\n",
      "        -0.1355, -0.0689, -0.1028,  0.0732,  0.0664,  0.0395,  0.1799, -0.1642,\n",
      "         0.0176, -0.0294, -0.2323,  0.0810,  0.0376,  0.1027, -0.1537, -0.0886,\n",
      "        -0.0677,  0.0146, -0.2428, -0.0498, -0.0880,  0.0556, -0.0826,  0.0338,\n",
      "         0.0949,  0.0151, -0.0200,  0.2120, -0.0146, -0.1582,  0.0033, -0.0078,\n",
      "        -0.0589])\n",
      "conti attr [tensor(-0.3318), tensor(-0.0898), tensor(-0.1029), tensor(0.0448), tensor(0.0808), tensor(-0.0026), tensor(-0.0529), tensor(0.1264), tensor(-0.1319), tensor(0.0083), tensor(0.1037), tensor(0.2262), tensor(0.2354), tensor(0.1983), tensor(0.0578), tensor(-0.1472), tensor(-0.0488), tensor(0.1676), tensor(0.0154), tensor(-0.1069), tensor(-0.0688), tensor(-0.0168), tensor(0.0326), tensor(0.1755), tensor(0.2353), tensor(0.1526), tensor(0.0541), tensor(-0.0053), tensor(0.0750), tensor(0.1053), tensor(-0.1298), tensor(-0.0017), tensor(-0.1355), tensor(-0.0689), tensor(-0.0295), tensor(0.0664), tensor(0.0395), tensor(0.0333), tensor(-0.0294), tensor(-0.2323), tensor(0.0810), tensor(0.0376), tensor(0.1027), tensor(-0.1537), tensor(-0.0886), tensor(-0.0677), tensor(0.0146), tensor(-0.2428), tensor(-0.0498), tensor(0.0288), tensor(-0.0200), tensor(0.0346), tensor(-0.0589)]\n",
      "detokenized ['<s>', 'In', 'autoimmune', 'disorders', ',', 'the', 'immune', 'system', 'doesn', \"'t\", 'distinguish', 'between', 'what', 'types', 'of', 'cells', '?', '</s>', '</s>', 'One', 'of', 'the', 'functions', 'of', 'specialized', 'cells', '(', 'l', 'ocated', 'in', 'the', 'th', 'ym', 'us', 'and', 'bone', 'marrow', ')', 'is', 'to', 'present', 'young', 'lymph', 'ocytes', 'with', 'self', 'ant', 'ig', 'ens', 'produced', 'throughout', 'the', 'body', 'and', 'to', 'eliminate', 'those', 'cells', 'that', 'recognize', 'self', '-', 'ant', 'ig', 'ens', ',', 'preventing', 'auto', 'im', 'mun', 'ity', '.', '</s>']\n",
      "len conti_raw 53\n",
      "conti_raw ['<s>', 'In', 'autoimmune', 'disorders,', 'the', 'immune', 'system', \"doesn't\", 'distinguish', 'between', 'what', 'types', 'of', 'cells?', '</s>', '</s>', 'One', 'of', 'the', 'functions', 'of', 'specialized', 'cells', '(located', 'in', 'the', 'thymus', 'and', 'bone', 'marrow)', 'is', 'to', 'present', 'young', 'lymphocytes', 'with', 'self', 'antigens', 'produced', 'throughout', 'the', 'body', 'and', 'to', 'eliminate', 'those', 'cells', 'that', 'recognize', 'self-antigens,', 'preventing', 'autoimmunity.', '</s>']\n",
      "pred_prob 0.00343884713947773\n"
     ]
    },
    {
     "data": {
      "text/html": [
       "<table width: 100%><div style=\"border-top: 1px solid; margin-top: 5px;             padding-top: 5px; display: inline-block\"><b>Legend: </b><span style=\"display: inline-block; width: 10px; height: 10px;                 border: 1px solid; background-color:                 hsl(0, 75%, 60%)\"></span> Negative  <span style=\"display: inline-block; width: 10px; height: 10px;                 border: 1px solid; background-color:                 hsl(0, 75%, 100%)\"></span> Neutral  <span style=\"display: inline-block; width: 10px; height: 10px;                 border: 1px solid; background-color:                 hsl(120, 75%, 50%)\"></span> Positive  </div><tr><th>True Label</th><th>Predicted Label</th><th>Attribution Label</th><th>Attribution Score</th><th>Word Importance</th><tr><td><text style=\"padding-right:2em\"><b>No Entailment</b></text></td><td><text style=\"padding-right:2em\"><b>No Entailment (0.00)</b></text></td><td><text style=\"padding-right:2em\"><b>No Entailment</b></text></td><td><text style=\"padding-right:2em\"><b>0.12</b></text></td><td><mark style=\"background-color: hsl(0, 75%, 87%); opacity:1.0;                     line-height:1.75\"><font color=\"black\"> #s                    </font></mark><mark style=\"background-color: hsl(0, 75%, 97%); opacity:1.0;                     line-height:1.75\"><font color=\"black\"> In                    </font></mark><mark style=\"background-color: hsl(0, 75%, 96%); opacity:1.0;                     line-height:1.75\"><font color=\"black\"> autoimmune                    </font></mark><mark style=\"background-color: hsl(120, 75%, 98%); opacity:1.0;                     line-height:1.75\"><font color=\"black\"> disorders,                    </font></mark><mark style=\"background-color: hsl(120, 75%, 96%); opacity:1.0;                     line-height:1.75\"><font color=\"black\"> the                    </font></mark><mark style=\"background-color: hsl(0, 75%, 100%); opacity:1.0;                     line-height:1.75\"><font color=\"black\"> immune                    </font></mark><mark style=\"background-color: hsl(0, 75%, 98%); opacity:1.0;                     line-height:1.75\"><font color=\"black\"> system                    </font></mark><mark style=\"background-color: hsl(120, 75%, 94%); opacity:1.0;                     line-height:1.75\"><font color=\"black\"> doesn't                    </font></mark><mark style=\"background-color: hsl(0, 75%, 95%); opacity:1.0;                     line-height:1.75\"><font color=\"black\"> distinguish                    </font></mark><mark style=\"background-color: hsl(120, 75%, 100%); opacity:1.0;                     line-height:1.75\"><font color=\"black\"> between                    </font></mark><mark style=\"background-color: hsl(120, 75%, 95%); opacity:1.0;                     line-height:1.75\"><font color=\"black\"> what                    </font></mark><mark style=\"background-color: hsl(120, 75%, 89%); opacity:1.0;                     line-height:1.75\"><font color=\"black\"> types                    </font></mark><mark style=\"background-color: hsl(120, 75%, 89%); opacity:1.0;                     line-height:1.75\"><font color=\"black\"> of                    </font></mark><mark style=\"background-color: hsl(120, 75%, 91%); opacity:1.0;                     line-height:1.75\"><font color=\"black\"> cells?                    </font></mark><mark style=\"background-color: hsl(120, 75%, 98%); opacity:1.0;                     line-height:1.75\"><font color=\"black\"> #/s                    </font></mark><mark style=\"background-color: hsl(0, 75%, 95%); opacity:1.0;                     line-height:1.75\"><font color=\"black\"> #/s                    </font></mark><mark style=\"background-color: hsl(0, 75%, 99%); opacity:1.0;                     line-height:1.75\"><font color=\"black\"> One                    </font></mark><mark style=\"background-color: hsl(120, 75%, 92%); opacity:1.0;                     line-height:1.75\"><font color=\"black\"> of                    </font></mark><mark style=\"background-color: hsl(120, 75%, 100%); opacity:1.0;                     line-height:1.75\"><font color=\"black\"> the                    </font></mark><mark style=\"background-color: hsl(0, 75%, 96%); opacity:1.0;                     line-height:1.75\"><font color=\"black\"> functions                    </font></mark><mark style=\"background-color: hsl(0, 75%, 98%); opacity:1.0;                     line-height:1.75\"><font color=\"black\"> of                    </font></mark><mark style=\"background-color: hsl(0, 75%, 100%); opacity:1.0;                     line-height:1.75\"><font color=\"black\"> specialized                    </font></mark><mark style=\"background-color: hsl(120, 75%, 99%); opacity:1.0;                     line-height:1.75\"><font color=\"black\"> cells                    </font></mark><mark style=\"background-color: hsl(120, 75%, 92%); opacity:1.0;                     line-height:1.75\"><font color=\"black\"> (located                    </font></mark><mark style=\"background-color: hsl(120, 75%, 89%); opacity:1.0;                     line-height:1.75\"><font color=\"black\"> in                    </font></mark><mark style=\"background-color: hsl(120, 75%, 93%); opacity:1.0;                     line-height:1.75\"><font color=\"black\"> the                    </font></mark><mark style=\"background-color: hsl(120, 75%, 98%); opacity:1.0;                     line-height:1.75\"><font color=\"black\"> thymus                    </font></mark><mark style=\"background-color: hsl(0, 75%, 100%); opacity:1.0;                     line-height:1.75\"><font color=\"black\"> and                    </font></mark><mark style=\"background-color: hsl(120, 75%, 97%); opacity:1.0;                     line-height:1.75\"><font color=\"black\"> bone                    </font></mark><mark style=\"background-color: hsl(120, 75%, 95%); opacity:1.0;                     line-height:1.75\"><font color=\"black\"> marrow)                    </font></mark><mark style=\"background-color: hsl(0, 75%, 95%); opacity:1.0;                     line-height:1.75\"><font color=\"black\"> is                    </font></mark><mark style=\"background-color: hsl(0, 75%, 100%); opacity:1.0;                     line-height:1.75\"><font color=\"black\"> to                    </font></mark><mark style=\"background-color: hsl(0, 75%, 95%); opacity:1.0;                     line-height:1.75\"><font color=\"black\"> present                    </font></mark><mark style=\"background-color: hsl(0, 75%, 98%); opacity:1.0;                     line-height:1.75\"><font color=\"black\"> young                    </font></mark><mark style=\"background-color: hsl(0, 75%, 99%); opacity:1.0;                     line-height:1.75\"><font color=\"black\"> lymphocytes                    </font></mark><mark style=\"background-color: hsl(120, 75%, 97%); opacity:1.0;                     line-height:1.75\"><font color=\"black\"> with                    </font></mark><mark style=\"background-color: hsl(120, 75%, 99%); opacity:1.0;                     line-height:1.75\"><font color=\"black\"> self                    </font></mark><mark style=\"background-color: hsl(120, 75%, 99%); opacity:1.0;                     line-height:1.75\"><font color=\"black\"> antigens                    </font></mark><mark style=\"background-color: hsl(0, 75%, 99%); opacity:1.0;                     line-height:1.75\"><font color=\"black\"> produced                    </font></mark><mark style=\"background-color: hsl(0, 75%, 91%); opacity:1.0;                     line-height:1.75\"><font color=\"black\"> throughout                    </font></mark><mark style=\"background-color: hsl(120, 75%, 96%); opacity:1.0;                     line-height:1.75\"><font color=\"black\"> the                    </font></mark><mark style=\"background-color: hsl(120, 75%, 99%); opacity:1.0;                     line-height:1.75\"><font color=\"black\"> body                    </font></mark><mark style=\"background-color: hsl(120, 75%, 95%); opacity:1.0;                     line-height:1.75\"><font color=\"black\"> and                    </font></mark><mark style=\"background-color: hsl(0, 75%, 94%); opacity:1.0;                     line-height:1.75\"><font color=\"black\"> to                    </font></mark><mark style=\"background-color: hsl(0, 75%, 97%); opacity:1.0;                     line-height:1.75\"><font color=\"black\"> eliminate                    </font></mark><mark style=\"background-color: hsl(0, 75%, 98%); opacity:1.0;                     line-height:1.75\"><font color=\"black\"> those                    </font></mark><mark style=\"background-color: hsl(120, 75%, 100%); opacity:1.0;                     line-height:1.75\"><font color=\"black\"> cells                    </font></mark><mark style=\"background-color: hsl(0, 75%, 91%); opacity:1.0;                     line-height:1.75\"><font color=\"black\"> that                    </font></mark><mark style=\"background-color: hsl(0, 75%, 99%); opacity:1.0;                     line-height:1.75\"><font color=\"black\"> recognize                    </font></mark><mark style=\"background-color: hsl(120, 75%, 99%); opacity:1.0;                     line-height:1.75\"><font color=\"black\"> self-antigens,                    </font></mark><mark style=\"background-color: hsl(0, 75%, 100%); opacity:1.0;                     line-height:1.75\"><font color=\"black\"> preventing                    </font></mark><mark style=\"background-color: hsl(120, 75%, 99%); opacity:1.0;                     line-height:1.75\"><font color=\"black\"> autoimmunity.                    </font></mark><mark style=\"background-color: hsl(0, 75%, 98%); opacity:1.0;                     line-height:1.75\"><font color=\"black\"> #/s                    </font></mark></td><tr></table>"
      ],
      "text/plain": [
       "<IPython.core.display.HTML object>"
      ]
     },
     "metadata": {},
     "output_type": "display_data"
    },
    {
     "name": "stderr",
     "output_type": "stream",
     "text": [
      "/home/user/anaconda3/envs/py38/lib/python3.9/site-packages/captum/attr/_core/lime.py:1088: UserWarning: Attempting to construct interpretable model with > 10000 features.This can be very slow or lead to OOM issues. Please provide a featuremask which groups input features to reduce the number of interpretablefeatures. \n",
      "  warnings.warn(\n"
     ]
    },
    {
     "name": "stdout",
     "output_type": "stream",
     "text": [
      "<IPython.core.display.HTML object>\n",
      "i: 44\n",
      "Raw datum: ['Which husband and wife modern furniture design team are represented in the V&A furniture collection?', 'One of the finest pieces of continental furniture in the collection is the Rococo Augustus Rex Bureau Cabinet dated c1750 from Germany, with especially fine marquetry and ormolu mounts.']\n",
      "GT target: 0\n"
     ]
    },
    {
     "name": "stderr",
     "output_type": "stream",
     "text": [
      "Lime attribution: 100%|███████████████████████████| 3/3 [00:26<00:00,  8.75s/it]\n"
     ]
    },
    {
     "name": "stdout",
     "output_type": "stream",
     "text": [
      "word attr tensor([-0.5414, -0.1846,  0.0791,  0.2377,  0.0097, -0.0911, -0.1637, -0.1632,\n",
      "        -0.0216, -0.1165, -0.0790, -0.0773, -0.0547, -0.0368, -0.3474, -0.0872,\n",
      "        -0.1968,  0.1152,  0.0044,  0.1168, -0.0728,  0.0064, -0.1155,  0.0428,\n",
      "        -0.0422,  0.1508, -0.0108, -0.1147, -0.0514,  0.0212, -0.1890, -0.0055,\n",
      "         0.1215,  0.0012,  0.0870, -0.0630,  0.0148, -0.0478, -0.0937,  0.0135,\n",
      "        -0.0700, -0.0029,  0.1716,  0.0693,  0.0129,  0.0218,  0.1654, -0.1176,\n",
      "        -0.0660,  0.1326, -0.1484,  0.1219, -0.0933, -0.0442, -0.0799,  0.1008,\n",
      "         0.1047, -0.0044,  0.1036])\n",
      "conti attr [tensor(-0.5414), tensor(-0.1846), tensor(0.0791), tensor(0.2377), tensor(0.0097), tensor(-0.0911), tensor(-0.1637), tensor(-0.1632), tensor(-0.0216), tensor(-0.1165), tensor(-0.0790), tensor(-0.0773), tensor(-0.0547), tensor(-0.4714), tensor(-0.1968), tensor(0.1196), tensor(0.1168), tensor(-0.0728), tensor(0.0064), tensor(-0.1155), tensor(0.0428), tensor(-0.0422), tensor(0.1508), tensor(-0.0108), tensor(-0.1147), tensor(-0.0514), tensor(0.0212), tensor(-0.1890), tensor(-0.0055), tensor(0.1215), tensor(0.0012), tensor(0.0240), tensor(0.0148), tensor(-0.0478), tensor(-0.0937), tensor(0.0135), tensor(-0.0700), tensor(0.2380), tensor(0.0129), tensor(0.1872), tensor(-0.1176), tensor(-0.0660), tensor(0.1326), tensor(-0.0265), tensor(-0.0933), tensor(-0.0233), tensor(0.1002), tensor(0.1036)]\n",
      "detokenized ['<s>', 'Which', 'husband', 'and', 'wife', 'modern', 'furniture', 'design', 'team', 'are', 'represented', 'in', 'the', 'V', '&', 'A', 'furniture', 'collection', '?', '</s>', '</s>', 'One', 'of', 'the', 'finest', 'pieces', 'of', 'continental', 'furniture', 'in', 'the', 'collection', 'is', 'the', 'Roc', 'oco', 'Augustus', 'Rex', 'Bureau', 'Cabinet', 'dated', 'c', '17', '50', 'from', 'Germany', ',', 'with', 'especially', 'fine', 'marqu', 'etry', 'and', 'or', 'mol', 'u', 'mounts', '.', '</s>']\n",
      "len conti_raw 48\n",
      "conti_raw ['<s>', 'Which', 'husband', 'and', 'wife', 'modern', 'furniture', 'design', 'team', 'are', 'represented', 'in', 'the', 'V&A', 'furniture', 'collection?', '</s>', '</s>', 'One', 'of', 'the', 'finest', 'pieces', 'of', 'continental', 'furniture', 'in', 'the', 'collection', 'is', 'the', 'Rococo', 'Augustus', 'Rex', 'Bureau', 'Cabinet', 'dated', 'c1750', 'from', 'Germany,', 'with', 'especially', 'fine', 'marquetry', 'and', 'ormolu', 'mounts.', '</s>']\n",
      "pred_prob 0.0012677315389737487\n"
     ]
    },
    {
     "data": {
      "text/html": [
       "<table width: 100%><div style=\"border-top: 1px solid; margin-top: 5px;             padding-top: 5px; display: inline-block\"><b>Legend: </b><span style=\"display: inline-block; width: 10px; height: 10px;                 border: 1px solid; background-color:                 hsl(0, 75%, 60%)\"></span> Negative  <span style=\"display: inline-block; width: 10px; height: 10px;                 border: 1px solid; background-color:                 hsl(0, 75%, 100%)\"></span> Neutral  <span style=\"display: inline-block; width: 10px; height: 10px;                 border: 1px solid; background-color:                 hsl(120, 75%, 50%)\"></span> Positive  </div><tr><th>True Label</th><th>Predicted Label</th><th>Attribution Label</th><th>Attribution Score</th><th>Word Importance</th><tr><td><text style=\"padding-right:2em\"><b>No Entailment</b></text></td><td><text style=\"padding-right:2em\"><b>No Entailment (0.00)</b></text></td><td><text style=\"padding-right:2em\"><b>No Entailment</b></text></td><td><text style=\"padding-right:2em\"><b>-1.57</b></text></td><td><mark style=\"background-color: hsl(0, 75%, 79%); opacity:1.0;                     line-height:1.75\"><font color=\"black\"> #s                    </font></mark><mark style=\"background-color: hsl(0, 75%, 93%); opacity:1.0;                     line-height:1.75\"><font color=\"black\"> Which                    </font></mark><mark style=\"background-color: hsl(120, 75%, 97%); opacity:1.0;                     line-height:1.75\"><font color=\"black\"> husband                    </font></mark><mark style=\"background-color: hsl(120, 75%, 89%); opacity:1.0;                     line-height:1.75\"><font color=\"black\"> and                    </font></mark><mark style=\"background-color: hsl(120, 75%, 100%); opacity:1.0;                     line-height:1.75\"><font color=\"black\"> wife                    </font></mark><mark style=\"background-color: hsl(0, 75%, 97%); opacity:1.0;                     line-height:1.75\"><font color=\"black\"> modern                    </font></mark><mark style=\"background-color: hsl(0, 75%, 94%); opacity:1.0;                     line-height:1.75\"><font color=\"black\"> furniture                    </font></mark><mark style=\"background-color: hsl(0, 75%, 94%); opacity:1.0;                     line-height:1.75\"><font color=\"black\"> design                    </font></mark><mark style=\"background-color: hsl(0, 75%, 100%); opacity:1.0;                     line-height:1.75\"><font color=\"black\"> team                    </font></mark><mark style=\"background-color: hsl(0, 75%, 96%); opacity:1.0;                     line-height:1.75\"><font color=\"black\"> are                    </font></mark><mark style=\"background-color: hsl(0, 75%, 97%); opacity:1.0;                     line-height:1.75\"><font color=\"black\"> represented                    </font></mark><mark style=\"background-color: hsl(0, 75%, 97%); opacity:1.0;                     line-height:1.75\"><font color=\"black\"> in                    </font></mark><mark style=\"background-color: hsl(0, 75%, 98%); opacity:1.0;                     line-height:1.75\"><font color=\"black\"> the                    </font></mark><mark style=\"background-color: hsl(0, 75%, 82%); opacity:1.0;                     line-height:1.75\"><font color=\"black\"> V&A                    </font></mark><mark style=\"background-color: hsl(0, 75%, 93%); opacity:1.0;                     line-height:1.75\"><font color=\"black\"> furniture                    </font></mark><mark style=\"background-color: hsl(120, 75%, 95%); opacity:1.0;                     line-height:1.75\"><font color=\"black\"> collection?                    </font></mark><mark style=\"background-color: hsl(120, 75%, 95%); opacity:1.0;                     line-height:1.75\"><font color=\"black\"> #/s                    </font></mark><mark style=\"background-color: hsl(0, 75%, 98%); opacity:1.0;                     line-height:1.75\"><font color=\"black\"> #/s                    </font></mark><mark style=\"background-color: hsl(120, 75%, 100%); opacity:1.0;                     line-height:1.75\"><font color=\"black\"> One                    </font></mark><mark style=\"background-color: hsl(0, 75%, 96%); opacity:1.0;                     line-height:1.75\"><font color=\"black\"> of                    </font></mark><mark style=\"background-color: hsl(120, 75%, 98%); opacity:1.0;                     line-height:1.75\"><font color=\"black\"> the                    </font></mark><mark style=\"background-color: hsl(0, 75%, 99%); opacity:1.0;                     line-height:1.75\"><font color=\"black\"> finest                    </font></mark><mark style=\"background-color: hsl(120, 75%, 93%); opacity:1.0;                     line-height:1.75\"><font color=\"black\"> pieces                    </font></mark><mark style=\"background-color: hsl(0, 75%, 100%); opacity:1.0;                     line-height:1.75\"><font color=\"black\"> of                    </font></mark><mark style=\"background-color: hsl(0, 75%, 96%); opacity:1.0;                     line-height:1.75\"><font color=\"black\"> continental                    </font></mark><mark style=\"background-color: hsl(0, 75%, 98%); opacity:1.0;                     line-height:1.75\"><font color=\"black\"> furniture                    </font></mark><mark style=\"background-color: hsl(120, 75%, 99%); opacity:1.0;                     line-height:1.75\"><font color=\"black\"> in                    </font></mark><mark style=\"background-color: hsl(0, 75%, 93%); opacity:1.0;                     line-height:1.75\"><font color=\"black\"> the                    </font></mark><mark style=\"background-color: hsl(0, 75%, 100%); opacity:1.0;                     line-height:1.75\"><font color=\"black\"> collection                    </font></mark><mark style=\"background-color: hsl(120, 75%, 94%); opacity:1.0;                     line-height:1.75\"><font color=\"black\"> is                    </font></mark><mark style=\"background-color: hsl(120, 75%, 100%); opacity:1.0;                     line-height:1.75\"><font color=\"black\"> the                    </font></mark><mark style=\"background-color: hsl(120, 75%, 99%); opacity:1.0;                     line-height:1.75\"><font color=\"black\"> Rococo                    </font></mark><mark style=\"background-color: hsl(120, 75%, 100%); opacity:1.0;                     line-height:1.75\"><font color=\"black\"> Augustus                    </font></mark><mark style=\"background-color: hsl(0, 75%, 99%); opacity:1.0;                     line-height:1.75\"><font color=\"black\"> Rex                    </font></mark><mark style=\"background-color: hsl(0, 75%, 97%); opacity:1.0;                     line-height:1.75\"><font color=\"black\"> Bureau                    </font></mark><mark style=\"background-color: hsl(120, 75%, 100%); opacity:1.0;                     line-height:1.75\"><font color=\"black\"> Cabinet                    </font></mark><mark style=\"background-color: hsl(0, 75%, 98%); opacity:1.0;                     line-height:1.75\"><font color=\"black\"> dated                    </font></mark><mark style=\"background-color: hsl(120, 75%, 89%); opacity:1.0;                     line-height:1.75\"><font color=\"black\"> c1750                    </font></mark><mark style=\"background-color: hsl(120, 75%, 100%); opacity:1.0;                     line-height:1.75\"><font color=\"black\"> from                    </font></mark><mark style=\"background-color: hsl(120, 75%, 91%); opacity:1.0;                     line-height:1.75\"><font color=\"black\"> Germany,                    </font></mark><mark style=\"background-color: hsl(0, 75%, 96%); opacity:1.0;                     line-height:1.75\"><font color=\"black\"> with                    </font></mark><mark style=\"background-color: hsl(0, 75%, 98%); opacity:1.0;                     line-height:1.75\"><font color=\"black\"> especially                    </font></mark><mark style=\"background-color: hsl(120, 75%, 94%); opacity:1.0;                     line-height:1.75\"><font color=\"black\"> fine                    </font></mark><mark style=\"background-color: hsl(0, 75%, 99%); opacity:1.0;                     line-height:1.75\"><font color=\"black\"> marquetry                    </font></mark><mark style=\"background-color: hsl(0, 75%, 97%); opacity:1.0;                     line-height:1.75\"><font color=\"black\"> and                    </font></mark><mark style=\"background-color: hsl(0, 75%, 100%); opacity:1.0;                     line-height:1.75\"><font color=\"black\"> ormolu                    </font></mark><mark style=\"background-color: hsl(120, 75%, 95%); opacity:1.0;                     line-height:1.75\"><font color=\"black\"> mounts.                    </font></mark><mark style=\"background-color: hsl(120, 75%, 95%); opacity:1.0;                     line-height:1.75\"><font color=\"black\"> #/s                    </font></mark></td><tr></table>"
      ],
      "text/plain": [
       "<IPython.core.display.HTML object>"
      ]
     },
     "metadata": {},
     "output_type": "display_data"
    },
    {
     "name": "stderr",
     "output_type": "stream",
     "text": [
      "/home/user/anaconda3/envs/py38/lib/python3.9/site-packages/captum/attr/_core/lime.py:1088: UserWarning: Attempting to construct interpretable model with > 10000 features.This can be very slow or lead to OOM issues. Please provide a featuremask which groups input features to reduce the number of interpretablefeatures. \n",
      "  warnings.warn(\n"
     ]
    },
    {
     "name": "stdout",
     "output_type": "stream",
     "text": [
      "<IPython.core.display.HTML object>\n",
      "i: 45\n",
      "Raw datum: ['Why did oil start getting priced in terms of gold?', \"Because oil was priced in dollars, oil producers' real income decreased.\"]\n",
      "GT target: 1\n"
     ]
    },
    {
     "name": "stderr",
     "output_type": "stream",
     "text": [
      "Lime attribution: 100%|███████████████████████████| 3/3 [00:13<00:00,  4.39s/it]\n"
     ]
    },
    {
     "name": "stdout",
     "output_type": "stream",
     "text": [
      "word attr tensor([-0.2094, -0.0081,  0.0327, -0.0296,  0.0946,  0.0370,  0.3722, -0.0866,\n",
      "        -0.1645, -0.0529,  0.1157,  0.0776,  0.2737,  0.1976,  0.1385, -0.0864,\n",
      "         0.1003,  0.5845,  0.1909,  0.2987,  0.1453, -0.0136,  0.0104, -0.1931,\n",
      "         0.1473, -0.1235,  0.0638,  0.1267,  0.1218])\n",
      "conti attr [tensor(-0.2094), tensor(-0.0081), tensor(0.0327), tensor(-0.0296), tensor(0.0946), tensor(0.0370), tensor(0.3722), tensor(-0.0866), tensor(-0.1645), tensor(-0.0529), tensor(0.1933), tensor(0.2737), tensor(0.1976), tensor(0.1385), tensor(-0.0864), tensor(0.1003), tensor(0.5845), tensor(0.1909), tensor(0.4441), tensor(-0.0136), tensor(-0.1827), tensor(0.1473), tensor(-0.1235), tensor(0.1904), tensor(0.1218)]\n",
      "detokenized ['<s>', 'Why', 'did', 'oil', 'start', 'getting', 'priced', 'in', 'terms', 'of', 'gold', '?', '</s>', '</s>', 'Because', 'oil', 'was', 'priced', 'in', 'dollars', ',', 'oil', 'producers', \"'\", 'real', 'income', 'decreased', '.', '</s>']\n",
      "len conti_raw 25\n",
      "conti_raw ['<s>', 'Why', 'did', 'oil', 'start', 'getting', 'priced', 'in', 'terms', 'of', 'gold?', '</s>', '</s>', 'Because', 'oil', 'was', 'priced', 'in', 'dollars,', 'oil', \"producers'\", 'real', 'income', 'decreased.', '</s>']\n",
      "pred_prob 0.5191262364387512\n"
     ]
    },
    {
     "data": {
      "text/html": [
       "<table width: 100%><div style=\"border-top: 1px solid; margin-top: 5px;             padding-top: 5px; display: inline-block\"><b>Legend: </b><span style=\"display: inline-block; width: 10px; height: 10px;                 border: 1px solid; background-color:                 hsl(0, 75%, 60%)\"></span> Negative  <span style=\"display: inline-block; width: 10px; height: 10px;                 border: 1px solid; background-color:                 hsl(0, 75%, 100%)\"></span> Neutral  <span style=\"display: inline-block; width: 10px; height: 10px;                 border: 1px solid; background-color:                 hsl(120, 75%, 50%)\"></span> Positive  </div><tr><th>True Label</th><th>Predicted Label</th><th>Attribution Label</th><th>Attribution Score</th><th>Word Importance</th><tr><td><text style=\"padding-right:2em\"><b>Entailment</b></text></td><td><text style=\"padding-right:2em\"><b>Entailment (0.52)</b></text></td><td><text style=\"padding-right:2em\"><b>Entailment</b></text></td><td><text style=\"padding-right:2em\"><b>2.16</b></text></td><td><mark style=\"background-color: hsl(0, 75%, 92%); opacity:1.0;                     line-height:1.75\"><font color=\"black\"> #s                    </font></mark><mark style=\"background-color: hsl(0, 75%, 100%); opacity:1.0;                     line-height:1.75\"><font color=\"black\"> Why                    </font></mark><mark style=\"background-color: hsl(120, 75%, 99%); opacity:1.0;                     line-height:1.75\"><font color=\"black\"> did                    </font></mark><mark style=\"background-color: hsl(0, 75%, 99%); opacity:1.0;                     line-height:1.75\"><font color=\"black\"> oil                    </font></mark><mark style=\"background-color: hsl(120, 75%, 96%); opacity:1.0;                     line-height:1.75\"><font color=\"black\"> start                    </font></mark><mark style=\"background-color: hsl(120, 75%, 99%); opacity:1.0;                     line-height:1.75\"><font color=\"black\"> getting                    </font></mark><mark style=\"background-color: hsl(120, 75%, 82%); opacity:1.0;                     line-height:1.75\"><font color=\"black\"> priced                    </font></mark><mark style=\"background-color: hsl(0, 75%, 97%); opacity:1.0;                     line-height:1.75\"><font color=\"black\"> in                    </font></mark><mark style=\"background-color: hsl(0, 75%, 94%); opacity:1.0;                     line-height:1.75\"><font color=\"black\"> terms                    </font></mark><mark style=\"background-color: hsl(0, 75%, 98%); opacity:1.0;                     line-height:1.75\"><font color=\"black\"> of                    </font></mark><mark style=\"background-color: hsl(120, 75%, 91%); opacity:1.0;                     line-height:1.75\"><font color=\"black\"> gold?                    </font></mark><mark style=\"background-color: hsl(120, 75%, 87%); opacity:1.0;                     line-height:1.75\"><font color=\"black\"> #/s                    </font></mark><mark style=\"background-color: hsl(120, 75%, 91%); opacity:1.0;                     line-height:1.75\"><font color=\"black\"> #/s                    </font></mark><mark style=\"background-color: hsl(120, 75%, 94%); opacity:1.0;                     line-height:1.75\"><font color=\"black\"> Because                    </font></mark><mark style=\"background-color: hsl(0, 75%, 97%); opacity:1.0;                     line-height:1.75\"><font color=\"black\"> oil                    </font></mark><mark style=\"background-color: hsl(120, 75%, 95%); opacity:1.0;                     line-height:1.75\"><font color=\"black\"> was                    </font></mark><mark style=\"background-color: hsl(120, 75%, 71%); opacity:1.0;                     line-height:1.75\"><font color=\"black\"> priced                    </font></mark><mark style=\"background-color: hsl(120, 75%, 91%); opacity:1.0;                     line-height:1.75\"><font color=\"black\"> in                    </font></mark><mark style=\"background-color: hsl(120, 75%, 78%); opacity:1.0;                     line-height:1.75\"><font color=\"black\"> dollars,                    </font></mark><mark style=\"background-color: hsl(0, 75%, 100%); opacity:1.0;                     line-height:1.75\"><font color=\"black\"> oil                    </font></mark><mark style=\"background-color: hsl(0, 75%, 93%); opacity:1.0;                     line-height:1.75\"><font color=\"black\"> producers'                    </font></mark><mark style=\"background-color: hsl(120, 75%, 93%); opacity:1.0;                     line-height:1.75\"><font color=\"black\"> real                    </font></mark><mark style=\"background-color: hsl(0, 75%, 96%); opacity:1.0;                     line-height:1.75\"><font color=\"black\"> income                    </font></mark><mark style=\"background-color: hsl(120, 75%, 91%); opacity:1.0;                     line-height:1.75\"><font color=\"black\"> decreased.                    </font></mark><mark style=\"background-color: hsl(120, 75%, 94%); opacity:1.0;                     line-height:1.75\"><font color=\"black\"> #/s                    </font></mark></td><tr></table>"
      ],
      "text/plain": [
       "<IPython.core.display.HTML object>"
      ]
     },
     "metadata": {},
     "output_type": "display_data"
    },
    {
     "name": "stderr",
     "output_type": "stream",
     "text": [
      "/home/user/anaconda3/envs/py38/lib/python3.9/site-packages/captum/attr/_core/lime.py:1088: UserWarning: Attempting to construct interpretable model with > 10000 features.This can be very slow or lead to OOM issues. Please provide a featuremask which groups input features to reduce the number of interpretablefeatures. \n",
      "  warnings.warn(\n"
     ]
    },
    {
     "name": "stdout",
     "output_type": "stream",
     "text": [
      "<IPython.core.display.HTML object>\n",
      "i: 46\n",
      "Raw datum: ['Who did Britain exploit in India?', 'Although a substantial number of colonies had been designed to provide economic profit and to ship resources to home ports in the seventeenth and eighteenth centuries, Fieldhouse suggests that in the nineteenth and twentieth centuries in places such as Africa and Asia, this idea is not necessarily valid:']\n",
      "GT target: 0\n"
     ]
    },
    {
     "name": "stderr",
     "output_type": "stream",
     "text": [
      "Lime attribution: 100%|███████████████████████████| 3/3 [00:28<00:00,  9.61s/it]\n"
     ]
    },
    {
     "name": "stdout",
     "output_type": "stream",
     "text": [
      "nan attri score\n",
      "word attr tensor([0., 0., 0., 0., 0., 0., 0., 0., 0., 0., 0., 0., 0., 0., 0., 0., 0., 0., 0., 0., 0., 0., 0., 0.,\n",
      "        0., 0., 0., 0., 0., 0., 0., 0., 0., 0., 0., 0., 0., 0., 0., 0., 0., 0., 0., 0., 0., 0., 0., 0.,\n",
      "        0., 0., 0., 0., 0., 0., 0., 0., 0., 0., 0., 0., 0., 0., 0., 0.])\n",
      "conti attr [tensor(0.), tensor(0.), tensor(0.), tensor(0.), tensor(0.), tensor(0.), tensor(0.), tensor(0.), tensor(0.), tensor(0.), tensor(0.), tensor(0.), tensor(0.), tensor(0.), tensor(0.), tensor(0.), tensor(0.), tensor(0.), tensor(0.), tensor(0.), tensor(0.), tensor(0.), tensor(0.), tensor(0.), tensor(0.), tensor(0.), tensor(0.), tensor(0.), tensor(0.), tensor(0.), tensor(0.), tensor(0.), tensor(0.), tensor(0.), tensor(0.), tensor(0.), tensor(0.), tensor(0.), tensor(0.), tensor(0.), tensor(0.), tensor(0.), tensor(0.), tensor(0.), tensor(0.), tensor(0.), tensor(0.), tensor(0.), tensor(0.), tensor(0.), tensor(0.), tensor(0.), tensor(0.), tensor(0.), tensor(0.), tensor(0.), tensor(0.), tensor(0.)]\n",
      "detokenized ['<s>', 'Who', 'did', 'Britain', 'exploit', 'in', 'India', '?', '</s>', '</s>', 'Although', 'a', 'substantial', 'number', 'of', 'colonies', 'had', 'been', 'designed', 'to', 'provide', 'economic', 'profit', 'and', 'to', 'ship', 'resources', 'to', 'home', 'ports', 'in', 'the', 'sevent', 'eenth', 'and', 'eighteenth', 'centuries', ',', 'Field', 'house', 'suggests', 'that', 'in', 'the', 'nineteenth', 'and', 'twentieth', 'centuries', 'in', 'places', 'such', 'as', 'Africa', 'and', 'Asia', ',', 'this', 'idea', 'is', 'not', 'necessarily', 'valid', ':', '</s>']\n",
      "len conti_raw 58\n",
      "conti_raw ['<s>', 'Who', 'did', 'Britain', 'exploit', 'in', 'India?', '</s>', '</s>', 'Although', 'a', 'substantial', 'number', 'of', 'colonies', 'had', 'been', 'designed', 'to', 'provide', 'economic', 'profit', 'and', 'to', 'ship', 'resources', 'to', 'home', 'ports', 'in', 'the', 'seventeenth', 'and', 'eighteenth', 'centuries,', 'Fieldhouse', 'suggests', 'that', 'in', 'the', 'nineteenth', 'and', 'twentieth', 'centuries', 'in', 'places', 'such', 'as', 'Africa', 'and', 'Asia,', 'this', 'idea', 'is', 'not', 'necessarily', 'valid:', '</s>']\n",
      "pred_prob 0.001253617345355451\n"
     ]
    },
    {
     "data": {
      "text/html": [
       "<table width: 100%><div style=\"border-top: 1px solid; margin-top: 5px;             padding-top: 5px; display: inline-block\"><b>Legend: </b><span style=\"display: inline-block; width: 10px; height: 10px;                 border: 1px solid; background-color:                 hsl(0, 75%, 60%)\"></span> Negative  <span style=\"display: inline-block; width: 10px; height: 10px;                 border: 1px solid; background-color:                 hsl(0, 75%, 100%)\"></span> Neutral  <span style=\"display: inline-block; width: 10px; height: 10px;                 border: 1px solid; background-color:                 hsl(120, 75%, 50%)\"></span> Positive  </div><tr><th>True Label</th><th>Predicted Label</th><th>Attribution Label</th><th>Attribution Score</th><th>Word Importance</th><tr><td><text style=\"padding-right:2em\"><b>No Entailment</b></text></td><td><text style=\"padding-right:2em\"><b>No Entailment (0.00)</b></text></td><td><text style=\"padding-right:2em\"><b>Entailment</b></text></td><td><text style=\"padding-right:2em\"><b>nan</b></text></td><td><mark style=\"background-color: hsl(0, 75%, 100%); opacity:1.0;                     line-height:1.75\"><font color=\"black\"> #s                    </font></mark><mark style=\"background-color: hsl(0, 75%, 100%); opacity:1.0;                     line-height:1.75\"><font color=\"black\"> Who                    </font></mark><mark style=\"background-color: hsl(0, 75%, 100%); opacity:1.0;                     line-height:1.75\"><font color=\"black\"> did                    </font></mark><mark style=\"background-color: hsl(0, 75%, 100%); opacity:1.0;                     line-height:1.75\"><font color=\"black\"> Britain                    </font></mark><mark style=\"background-color: hsl(0, 75%, 100%); opacity:1.0;                     line-height:1.75\"><font color=\"black\"> exploit                    </font></mark><mark style=\"background-color: hsl(0, 75%, 100%); opacity:1.0;                     line-height:1.75\"><font color=\"black\"> in                    </font></mark><mark style=\"background-color: hsl(0, 75%, 100%); opacity:1.0;                     line-height:1.75\"><font color=\"black\"> India?                    </font></mark><mark style=\"background-color: hsl(0, 75%, 100%); opacity:1.0;                     line-height:1.75\"><font color=\"black\"> #/s                    </font></mark><mark style=\"background-color: hsl(0, 75%, 100%); opacity:1.0;                     line-height:1.75\"><font color=\"black\"> #/s                    </font></mark><mark style=\"background-color: hsl(0, 75%, 100%); opacity:1.0;                     line-height:1.75\"><font color=\"black\"> Although                    </font></mark><mark style=\"background-color: hsl(0, 75%, 100%); opacity:1.0;                     line-height:1.75\"><font color=\"black\"> a                    </font></mark><mark style=\"background-color: hsl(0, 75%, 100%); opacity:1.0;                     line-height:1.75\"><font color=\"black\"> substantial                    </font></mark><mark style=\"background-color: hsl(0, 75%, 100%); opacity:1.0;                     line-height:1.75\"><font color=\"black\"> number                    </font></mark><mark style=\"background-color: hsl(0, 75%, 100%); opacity:1.0;                     line-height:1.75\"><font color=\"black\"> of                    </font></mark><mark style=\"background-color: hsl(0, 75%, 100%); opacity:1.0;                     line-height:1.75\"><font color=\"black\"> colonies                    </font></mark><mark style=\"background-color: hsl(0, 75%, 100%); opacity:1.0;                     line-height:1.75\"><font color=\"black\"> had                    </font></mark><mark style=\"background-color: hsl(0, 75%, 100%); opacity:1.0;                     line-height:1.75\"><font color=\"black\"> been                    </font></mark><mark style=\"background-color: hsl(0, 75%, 100%); opacity:1.0;                     line-height:1.75\"><font color=\"black\"> designed                    </font></mark><mark style=\"background-color: hsl(0, 75%, 100%); opacity:1.0;                     line-height:1.75\"><font color=\"black\"> to                    </font></mark><mark style=\"background-color: hsl(0, 75%, 100%); opacity:1.0;                     line-height:1.75\"><font color=\"black\"> provide                    </font></mark><mark style=\"background-color: hsl(0, 75%, 100%); opacity:1.0;                     line-height:1.75\"><font color=\"black\"> economic                    </font></mark><mark style=\"background-color: hsl(0, 75%, 100%); opacity:1.0;                     line-height:1.75\"><font color=\"black\"> profit                    </font></mark><mark style=\"background-color: hsl(0, 75%, 100%); opacity:1.0;                     line-height:1.75\"><font color=\"black\"> and                    </font></mark><mark style=\"background-color: hsl(0, 75%, 100%); opacity:1.0;                     line-height:1.75\"><font color=\"black\"> to                    </font></mark><mark style=\"background-color: hsl(0, 75%, 100%); opacity:1.0;                     line-height:1.75\"><font color=\"black\"> ship                    </font></mark><mark style=\"background-color: hsl(0, 75%, 100%); opacity:1.0;                     line-height:1.75\"><font color=\"black\"> resources                    </font></mark><mark style=\"background-color: hsl(0, 75%, 100%); opacity:1.0;                     line-height:1.75\"><font color=\"black\"> to                    </font></mark><mark style=\"background-color: hsl(0, 75%, 100%); opacity:1.0;                     line-height:1.75\"><font color=\"black\"> home                    </font></mark><mark style=\"background-color: hsl(0, 75%, 100%); opacity:1.0;                     line-height:1.75\"><font color=\"black\"> ports                    </font></mark><mark style=\"background-color: hsl(0, 75%, 100%); opacity:1.0;                     line-height:1.75\"><font color=\"black\"> in                    </font></mark><mark style=\"background-color: hsl(0, 75%, 100%); opacity:1.0;                     line-height:1.75\"><font color=\"black\"> the                    </font></mark><mark style=\"background-color: hsl(0, 75%, 100%); opacity:1.0;                     line-height:1.75\"><font color=\"black\"> seventeenth                    </font></mark><mark style=\"background-color: hsl(0, 75%, 100%); opacity:1.0;                     line-height:1.75\"><font color=\"black\"> and                    </font></mark><mark style=\"background-color: hsl(0, 75%, 100%); opacity:1.0;                     line-height:1.75\"><font color=\"black\"> eighteenth                    </font></mark><mark style=\"background-color: hsl(0, 75%, 100%); opacity:1.0;                     line-height:1.75\"><font color=\"black\"> centuries,                    </font></mark><mark style=\"background-color: hsl(0, 75%, 100%); opacity:1.0;                     line-height:1.75\"><font color=\"black\"> Fieldhouse                    </font></mark><mark style=\"background-color: hsl(0, 75%, 100%); opacity:1.0;                     line-height:1.75\"><font color=\"black\"> suggests                    </font></mark><mark style=\"background-color: hsl(0, 75%, 100%); opacity:1.0;                     line-height:1.75\"><font color=\"black\"> that                    </font></mark><mark style=\"background-color: hsl(0, 75%, 100%); opacity:1.0;                     line-height:1.75\"><font color=\"black\"> in                    </font></mark><mark style=\"background-color: hsl(0, 75%, 100%); opacity:1.0;                     line-height:1.75\"><font color=\"black\"> the                    </font></mark><mark style=\"background-color: hsl(0, 75%, 100%); opacity:1.0;                     line-height:1.75\"><font color=\"black\"> nineteenth                    </font></mark><mark style=\"background-color: hsl(0, 75%, 100%); opacity:1.0;                     line-height:1.75\"><font color=\"black\"> and                    </font></mark><mark style=\"background-color: hsl(0, 75%, 100%); opacity:1.0;                     line-height:1.75\"><font color=\"black\"> twentieth                    </font></mark><mark style=\"background-color: hsl(0, 75%, 100%); opacity:1.0;                     line-height:1.75\"><font color=\"black\"> centuries                    </font></mark><mark style=\"background-color: hsl(0, 75%, 100%); opacity:1.0;                     line-height:1.75\"><font color=\"black\"> in                    </font></mark><mark style=\"background-color: hsl(0, 75%, 100%); opacity:1.0;                     line-height:1.75\"><font color=\"black\"> places                    </font></mark><mark style=\"background-color: hsl(0, 75%, 100%); opacity:1.0;                     line-height:1.75\"><font color=\"black\"> such                    </font></mark><mark style=\"background-color: hsl(0, 75%, 100%); opacity:1.0;                     line-height:1.75\"><font color=\"black\"> as                    </font></mark><mark style=\"background-color: hsl(0, 75%, 100%); opacity:1.0;                     line-height:1.75\"><font color=\"black\"> Africa                    </font></mark><mark style=\"background-color: hsl(0, 75%, 100%); opacity:1.0;                     line-height:1.75\"><font color=\"black\"> and                    </font></mark><mark style=\"background-color: hsl(0, 75%, 100%); opacity:1.0;                     line-height:1.75\"><font color=\"black\"> Asia,                    </font></mark><mark style=\"background-color: hsl(0, 75%, 100%); opacity:1.0;                     line-height:1.75\"><font color=\"black\"> this                    </font></mark><mark style=\"background-color: hsl(0, 75%, 100%); opacity:1.0;                     line-height:1.75\"><font color=\"black\"> idea                    </font></mark><mark style=\"background-color: hsl(0, 75%, 100%); opacity:1.0;                     line-height:1.75\"><font color=\"black\"> is                    </font></mark><mark style=\"background-color: hsl(0, 75%, 100%); opacity:1.0;                     line-height:1.75\"><font color=\"black\"> not                    </font></mark><mark style=\"background-color: hsl(0, 75%, 100%); opacity:1.0;                     line-height:1.75\"><font color=\"black\"> necessarily                    </font></mark><mark style=\"background-color: hsl(0, 75%, 100%); opacity:1.0;                     line-height:1.75\"><font color=\"black\"> valid:                    </font></mark><mark style=\"background-color: hsl(0, 75%, 100%); opacity:1.0;                     line-height:1.75\"><font color=\"black\"> #/s                    </font></mark></td><tr></table>"
      ],
      "text/plain": [
       "<IPython.core.display.HTML object>"
      ]
     },
     "metadata": {},
     "output_type": "display_data"
    },
    {
     "name": "stderr",
     "output_type": "stream",
     "text": [
      "/home/user/anaconda3/envs/py38/lib/python3.9/site-packages/captum/attr/_core/lime.py:1088: UserWarning: Attempting to construct interpretable model with > 10000 features.This can be very slow or lead to OOM issues. Please provide a featuremask which groups input features to reduce the number of interpretablefeatures. \n",
      "  warnings.warn(\n"
     ]
    },
    {
     "name": "stdout",
     "output_type": "stream",
     "text": [
      "<IPython.core.display.HTML object>\n",
      "i: 47\n",
      "Raw datum: ['What popular environmentalist is also a university alumni member?', 'In science, alumni include astronomers Carl Sagan, a prominent contributor to the scientific research of extraterrestrial life, and Edwin Hubble, known for \"Hubble\\'s Law\", NASA astronaut John M. Grunsfeld, geneticist James Watson, best known as one of the co-discoverers of the structure of DNA, experimental physicist Luis Alvarez, popular environmentalist David Suzuki, balloonist Jeannette Piccard, biologists Ernest Everett']\n",
      "GT target: 1\n"
     ]
    },
    {
     "name": "stderr",
     "output_type": "stream",
     "text": [
      "Lime attribution: 100%|███████████████████████████| 3/3 [00:46<00:00, 15.58s/it]\n"
     ]
    },
    {
     "name": "stdout",
     "output_type": "stream",
     "text": [
      "word attr tensor([-4.2525e-01,  1.4303e-02,  3.5429e-01,  7.9203e-02,  1.8444e-01,\n",
      "        -9.8341e-02, -5.1994e-02, -9.7002e-02, -2.5850e-03,  4.8739e-02,\n",
      "         4.3987e-02, -6.3516e-02, -3.1637e-04, -2.1841e-02,  9.2826e-03,\n",
      "         2.7186e-02,  3.8808e-02,  1.7163e-01,  1.7420e-01, -3.6585e-02,\n",
      "         3.2362e-02,  1.0420e-02,  6.2601e-02,  9.9264e-02, -2.1621e-02,\n",
      "        -1.7034e-01,  5.8557e-02,  8.2249e-02, -1.2952e-01, -8.1379e-02,\n",
      "         7.5178e-02,  4.1771e-02, -3.0360e-03,  3.0917e-02,  1.1812e-01,\n",
      "         4.9449e-02, -1.0635e-01,  1.3705e-02,  2.6127e-01,  1.8009e-02,\n",
      "         1.3096e-01, -9.6432e-02,  1.1144e-01,  1.8512e-02, -5.8745e-02,\n",
      "        -9.5991e-02, -5.3548e-02,  8.7387e-02, -1.0717e-01,  1.6724e-02,\n",
      "         4.1569e-02,  2.7865e-02,  5.0842e-02, -1.1359e-01, -8.2977e-02,\n",
      "        -4.8978e-02, -2.2287e-02, -2.1484e-02, -7.8981e-02, -1.0569e-02,\n",
      "         4.9859e-03, -1.0407e-01,  7.5024e-02, -1.1202e-01, -2.4656e-02,\n",
      "        -8.9134e-02,  1.3132e-01,  8.5585e-02, -4.0557e-02, -9.2506e-04,\n",
      "        -6.1715e-02,  5.5200e-02,  1.2693e-01,  6.4591e-02, -1.5479e-01,\n",
      "        -2.1620e-02, -9.5039e-02,  5.1099e-02,  3.4134e-02, -2.5890e-02,\n",
      "        -1.3672e-02, -8.9824e-02,  1.8517e-02,  1.2559e-01,  1.9784e-01,\n",
      "         3.9696e-02,  4.1479e-02,  2.7225e-03, -1.4417e-01, -1.3998e-01,\n",
      "        -1.9752e-03, -3.6621e-02,  6.5440e-02,  9.6136e-03,  3.0576e-02,\n",
      "         1.4539e-02,  4.3180e-02,  9.3689e-02, -8.5887e-03,  2.5451e-02,\n",
      "         1.1493e-01])\n",
      "conti attr [tensor(-0.4252), tensor(0.0143), tensor(0.3543), tensor(0.2636), tensor(-0.0983), tensor(-0.0520), tensor(-0.0970), tensor(-0.0026), tensor(0.0487), tensor(-0.0195), tensor(-0.0003), tensor(-0.0218), tensor(0.0093), tensor(0.0660), tensor(0.1716), tensor(0.1742), tensor(-0.0366), tensor(0.0324), tensor(0.0730), tensor(0.0993), tensor(-0.0216), tensor(-0.1703), tensor(0.0586), tensor(0.0822), tensor(-0.1295), tensor(-0.0814), tensor(0.0752), tensor(0.0387), tensor(0.1490), tensor(0.0494), tensor(-0.1064), tensor(0.2750), tensor(0.0180), tensor(0.1310), tensor(-0.0252), tensor(-0.1495), tensor(0.0874), tensor(-0.1072), tensor(0.0167), tensor(0.0694), tensor(-0.1947), tensor(-0.0438), tensor(-0.0790), tensor(-0.0056), tensor(-0.1041), tensor(0.0750), tensor(-0.1120), tensor(-0.0247), tensor(-0.0891), tensor(0.1313), tensor(0.0376), tensor(0.1269), tensor(0.0646), tensor(-0.1548), tensor(-0.0216), tensor(-0.0439), tensor(0.0341), tensor(-0.0259), tensor(-0.0137), tensor(-0.0713), tensor(0.1256), tensor(0.2375), tensor(0.0415), tensor(-0.1415), tensor(-0.1420), tensor(0.0384), tensor(0.0883), tensor(0.0937), tensor(-0.0086), tensor(0.0255), tensor(0.1149)]\n",
      "detokenized ['<s>', 'What', 'popular', 'environmental', 'ist', 'is', 'also', 'a', 'university', 'alumni', 'member', '?', '</s>', '</s>', 'In', 'science', ',', 'alumni', 'include', 'astronomers', 'Carl', 'Sagan', ',', 'a', 'prominent', 'contributor', 'to', 'the', 'scientific', 'research', 'of', 'extrater', 'restrial', 'life', ',', 'and', 'Edwin', 'Hubble', ',', 'known', 'for', '\"', 'Hub', 'ble', \"'s\", 'Law', '\",', 'NASA', 'astronaut', 'John', 'M', '.', 'Gr', 'uns', 'feld', ',', 'genetic', 'ist', 'James', 'Watson', ',', 'best', 'known', 'as', 'one', 'of', 'the', 'co', '-', 'disc', 'ove', 'rers', 'of', 'the', 'structure', 'of', 'DNA', ',', 'experimental', 'physicist', 'Luis', 'Alvarez', ',', 'popular', 'environmental', 'ist', 'David', 'Suzuki', ',', 'balloon', 'ist', 'Je', 'ann', 'ette', 'Pic', 'card', ',', 'biologists', 'Ernest', 'Everett', '</s>']\n",
      "len conti_raw 71\n",
      "conti_raw ['<s>', 'What', 'popular', 'environmentalist', 'is', 'also', 'a', 'university', 'alumni', 'member?', '</s>', '</s>', 'In', 'science,', 'alumni', 'include', 'astronomers', 'Carl', 'Sagan,', 'a', 'prominent', 'contributor', 'to', 'the', 'scientific', 'research', 'of', 'extraterrestrial', 'life,', 'and', 'Edwin', 'Hubble,', 'known', 'for', '\"Hubble\\'s', 'Law\",', 'NASA', 'astronaut', 'John', 'M.', 'Grunsfeld,', 'geneticist', 'James', 'Watson,', 'best', 'known', 'as', 'one', 'of', 'the', 'co-discoverers', 'of', 'the', 'structure', 'of', 'DNA,', 'experimental', 'physicist', 'Luis', 'Alvarez,', 'popular', 'environmentalist', 'David', 'Suzuki,', 'balloonist', 'Jeannette', 'Piccard,', 'biologists', 'Ernest', 'Everett', '</s>']\n",
      "pred_prob 0.9981873631477356\n"
     ]
    },
    {
     "data": {
      "text/html": [
       "<table width: 100%><div style=\"border-top: 1px solid; margin-top: 5px;             padding-top: 5px; display: inline-block\"><b>Legend: </b><span style=\"display: inline-block; width: 10px; height: 10px;                 border: 1px solid; background-color:                 hsl(0, 75%, 60%)\"></span> Negative  <span style=\"display: inline-block; width: 10px; height: 10px;                 border: 1px solid; background-color:                 hsl(0, 75%, 100%)\"></span> Neutral  <span style=\"display: inline-block; width: 10px; height: 10px;                 border: 1px solid; background-color:                 hsl(120, 75%, 50%)\"></span> Positive  </div><tr><th>True Label</th><th>Predicted Label</th><th>Attribution Label</th><th>Attribution Score</th><th>Word Importance</th><tr><td><text style=\"padding-right:2em\"><b>Entailment</b></text></td><td><text style=\"padding-right:2em\"><b>Entailment (1.00)</b></text></td><td><text style=\"padding-right:2em\"><b>Entailment</b></text></td><td><text style=\"padding-right:2em\"><b>0.77</b></text></td><td><mark style=\"background-color: hsl(0, 75%, 83%); opacity:1.0;                     line-height:1.75\"><font color=\"black\"> #s                    </font></mark><mark style=\"background-color: hsl(120, 75%, 100%); opacity:1.0;                     line-height:1.75\"><font color=\"black\"> What                    </font></mark><mark style=\"background-color: hsl(120, 75%, 83%); opacity:1.0;                     line-height:1.75\"><font color=\"black\"> popular                    </font></mark><mark style=\"background-color: hsl(120, 75%, 87%); opacity:1.0;                     line-height:1.75\"><font color=\"black\"> environmentalist                    </font></mark><mark style=\"background-color: hsl(0, 75%, 97%); opacity:1.0;                     line-height:1.75\"><font color=\"black\"> is                    </font></mark><mark style=\"background-color: hsl(0, 75%, 98%); opacity:1.0;                     line-height:1.75\"><font color=\"black\"> also                    </font></mark><mark style=\"background-color: hsl(0, 75%, 97%); opacity:1.0;                     line-height:1.75\"><font color=\"black\"> a                    </font></mark><mark style=\"background-color: hsl(0, 75%, 100%); opacity:1.0;                     line-height:1.75\"><font color=\"black\"> university                    </font></mark><mark style=\"background-color: hsl(120, 75%, 98%); opacity:1.0;                     line-height:1.75\"><font color=\"black\"> alumni                    </font></mark><mark style=\"background-color: hsl(0, 75%, 100%); opacity:1.0;                     line-height:1.75\"><font color=\"black\"> member?                    </font></mark><mark style=\"background-color: hsl(0, 75%, 100%); opacity:1.0;                     line-height:1.75\"><font color=\"black\"> #/s                    </font></mark><mark style=\"background-color: hsl(0, 75%, 100%); opacity:1.0;                     line-height:1.75\"><font color=\"black\"> #/s                    </font></mark><mark style=\"background-color: hsl(120, 75%, 100%); opacity:1.0;                     line-height:1.75\"><font color=\"black\"> In                    </font></mark><mark style=\"background-color: hsl(120, 75%, 97%); opacity:1.0;                     line-height:1.75\"><font color=\"black\"> science,                    </font></mark><mark style=\"background-color: hsl(120, 75%, 92%); opacity:1.0;                     line-height:1.75\"><font color=\"black\"> alumni                    </font></mark><mark style=\"background-color: hsl(120, 75%, 92%); opacity:1.0;                     line-height:1.75\"><font color=\"black\"> include                    </font></mark><mark style=\"background-color: hsl(0, 75%, 99%); opacity:1.0;                     line-height:1.75\"><font color=\"black\"> astronomers                    </font></mark><mark style=\"background-color: hsl(120, 75%, 99%); opacity:1.0;                     line-height:1.75\"><font color=\"black\"> Carl                    </font></mark><mark style=\"background-color: hsl(120, 75%, 97%); opacity:1.0;                     line-height:1.75\"><font color=\"black\"> Sagan,                    </font></mark><mark style=\"background-color: hsl(120, 75%, 96%); opacity:1.0;                     line-height:1.75\"><font color=\"black\"> a                    </font></mark><mark style=\"background-color: hsl(0, 75%, 100%); opacity:1.0;                     line-height:1.75\"><font color=\"black\"> prominent                    </font></mark><mark style=\"background-color: hsl(0, 75%, 94%); opacity:1.0;                     line-height:1.75\"><font color=\"black\"> contributor                    </font></mark><mark style=\"background-color: hsl(120, 75%, 98%); opacity:1.0;                     line-height:1.75\"><font color=\"black\"> to                    </font></mark><mark style=\"background-color: hsl(120, 75%, 96%); opacity:1.0;                     line-height:1.75\"><font color=\"black\"> the                    </font></mark><mark style=\"background-color: hsl(0, 75%, 95%); opacity:1.0;                     line-height:1.75\"><font color=\"black\"> scientific                    </font></mark><mark style=\"background-color: hsl(0, 75%, 97%); opacity:1.0;                     line-height:1.75\"><font color=\"black\"> research                    </font></mark><mark style=\"background-color: hsl(120, 75%, 97%); opacity:1.0;                     line-height:1.75\"><font color=\"black\"> of                    </font></mark><mark style=\"background-color: hsl(120, 75%, 99%); opacity:1.0;                     line-height:1.75\"><font color=\"black\"> extraterrestrial                    </font></mark><mark style=\"background-color: hsl(120, 75%, 93%); opacity:1.0;                     line-height:1.75\"><font color=\"black\"> life,                    </font></mark><mark style=\"background-color: hsl(120, 75%, 98%); opacity:1.0;                     line-height:1.75\"><font color=\"black\"> and                    </font></mark><mark style=\"background-color: hsl(0, 75%, 96%); opacity:1.0;                     line-height:1.75\"><font color=\"black\"> Edwin                    </font></mark><mark style=\"background-color: hsl(120, 75%, 87%); opacity:1.0;                     line-height:1.75\"><font color=\"black\"> Hubble,                    </font></mark><mark style=\"background-color: hsl(120, 75%, 100%); opacity:1.0;                     line-height:1.75\"><font color=\"black\"> known                    </font></mark><mark style=\"background-color: hsl(120, 75%, 94%); opacity:1.0;                     line-height:1.75\"><font color=\"black\"> for                    </font></mark><mark style=\"background-color: hsl(0, 75%, 99%); opacity:1.0;                     line-height:1.75\"><font color=\"black\"> \"Hubble's                    </font></mark><mark style=\"background-color: hsl(0, 75%, 95%); opacity:1.0;                     line-height:1.75\"><font color=\"black\"> Law\",                    </font></mark><mark style=\"background-color: hsl(120, 75%, 96%); opacity:1.0;                     line-height:1.75\"><font color=\"black\"> NASA                    </font></mark><mark style=\"background-color: hsl(0, 75%, 96%); opacity:1.0;                     line-height:1.75\"><font color=\"black\"> astronaut                    </font></mark><mark style=\"background-color: hsl(120, 75%, 100%); opacity:1.0;                     line-height:1.75\"><font color=\"black\"> John                    </font></mark><mark style=\"background-color: hsl(120, 75%, 97%); opacity:1.0;                     line-height:1.75\"><font color=\"black\"> M.                    </font></mark><mark style=\"background-color: hsl(0, 75%, 93%); opacity:1.0;                     line-height:1.75\"><font color=\"black\"> Grunsfeld,                    </font></mark><mark style=\"background-color: hsl(0, 75%, 99%); opacity:1.0;                     line-height:1.75\"><font color=\"black\"> geneticist                    </font></mark><mark style=\"background-color: hsl(0, 75%, 97%); opacity:1.0;                     line-height:1.75\"><font color=\"black\"> James                    </font></mark><mark style=\"background-color: hsl(0, 75%, 100%); opacity:1.0;                     line-height:1.75\"><font color=\"black\"> Watson,                    </font></mark><mark style=\"background-color: hsl(0, 75%, 96%); opacity:1.0;                     line-height:1.75\"><font color=\"black\"> best                    </font></mark><mark style=\"background-color: hsl(120, 75%, 97%); opacity:1.0;                     line-height:1.75\"><font color=\"black\"> known                    </font></mark><mark style=\"background-color: hsl(0, 75%, 96%); opacity:1.0;                     line-height:1.75\"><font color=\"black\"> as                    </font></mark><mark style=\"background-color: hsl(0, 75%, 100%); opacity:1.0;                     line-height:1.75\"><font color=\"black\"> one                    </font></mark><mark style=\"background-color: hsl(0, 75%, 97%); opacity:1.0;                     line-height:1.75\"><font color=\"black\"> of                    </font></mark><mark style=\"background-color: hsl(120, 75%, 94%); opacity:1.0;                     line-height:1.75\"><font color=\"black\"> the                    </font></mark><mark style=\"background-color: hsl(120, 75%, 99%); opacity:1.0;                     line-height:1.75\"><font color=\"black\"> co-discoverers                    </font></mark><mark style=\"background-color: hsl(120, 75%, 94%); opacity:1.0;                     line-height:1.75\"><font color=\"black\"> of                    </font></mark><mark style=\"background-color: hsl(120, 75%, 97%); opacity:1.0;                     line-height:1.75\"><font color=\"black\"> the                    </font></mark><mark style=\"background-color: hsl(0, 75%, 94%); opacity:1.0;                     line-height:1.75\"><font color=\"black\"> structure                    </font></mark><mark style=\"background-color: hsl(0, 75%, 100%); opacity:1.0;                     line-height:1.75\"><font color=\"black\"> of                    </font></mark><mark style=\"background-color: hsl(0, 75%, 99%); opacity:1.0;                     line-height:1.75\"><font color=\"black\"> DNA,                    </font></mark><mark style=\"background-color: hsl(120, 75%, 99%); opacity:1.0;                     line-height:1.75\"><font color=\"black\"> experimental                    </font></mark><mark style=\"background-color: hsl(0, 75%, 99%); opacity:1.0;                     line-height:1.75\"><font color=\"black\"> physicist                    </font></mark><mark style=\"background-color: hsl(0, 75%, 100%); opacity:1.0;                     line-height:1.75\"><font color=\"black\"> Luis                    </font></mark><mark style=\"background-color: hsl(0, 75%, 98%); opacity:1.0;                     line-height:1.75\"><font color=\"black\"> Alvarez,                    </font></mark><mark style=\"background-color: hsl(120, 75%, 94%); opacity:1.0;                     line-height:1.75\"><font color=\"black\"> popular                    </font></mark><mark style=\"background-color: hsl(120, 75%, 89%); opacity:1.0;                     line-height:1.75\"><font color=\"black\"> environmentalist                    </font></mark><mark style=\"background-color: hsl(120, 75%, 98%); opacity:1.0;                     line-height:1.75\"><font color=\"black\"> David                    </font></mark><mark style=\"background-color: hsl(0, 75%, 95%); opacity:1.0;                     line-height:1.75\"><font color=\"black\"> Suzuki,                    </font></mark><mark style=\"background-color: hsl(0, 75%, 95%); opacity:1.0;                     line-height:1.75\"><font color=\"black\"> balloonist                    </font></mark><mark style=\"background-color: hsl(120, 75%, 99%); opacity:1.0;                     line-height:1.75\"><font color=\"black\"> Jeannette                    </font></mark><mark style=\"background-color: hsl(120, 75%, 96%); opacity:1.0;                     line-height:1.75\"><font color=\"black\"> Piccard,                    </font></mark><mark style=\"background-color: hsl(120, 75%, 96%); opacity:1.0;                     line-height:1.75\"><font color=\"black\"> biologists                    </font></mark><mark style=\"background-color: hsl(0, 75%, 100%); opacity:1.0;                     line-height:1.75\"><font color=\"black\"> Ernest                    </font></mark><mark style=\"background-color: hsl(120, 75%, 99%); opacity:1.0;                     line-height:1.75\"><font color=\"black\"> Everett                    </font></mark><mark style=\"background-color: hsl(120, 75%, 95%); opacity:1.0;                     line-height:1.75\"><font color=\"black\"> #/s                    </font></mark></td><tr></table>"
      ],
      "text/plain": [
       "<IPython.core.display.HTML object>"
      ]
     },
     "metadata": {},
     "output_type": "display_data"
    },
    {
     "name": "stderr",
     "output_type": "stream",
     "text": [
      "/home/user/anaconda3/envs/py38/lib/python3.9/site-packages/captum/attr/_core/lime.py:1088: UserWarning: Attempting to construct interpretable model with > 10000 features.This can be very slow or lead to OOM issues. Please provide a featuremask which groups input features to reduce the number of interpretablefeatures. \n",
      "  warnings.warn(\n"
     ]
    },
    {
     "name": "stdout",
     "output_type": "stream",
     "text": [
      "<IPython.core.display.HTML object>\n",
      "i: 48\n",
      "Raw datum: ['What publication did Philip Howard work for?', 'Responding to the findings of the survey in The Times newspaper, journalist Philip Howard maintained that, \"to compare the violence of Dr Who, sired by a horse-laugh out of a nightmare, with the more realistic violence of other television series, where actors who look like human beings bleed paint that looks like blood, is like comparing Monopoly with the property market in London: both are fantasies, but one is meant to be taken seriously.\"']\n",
      "GT target: 1\n"
     ]
    },
    {
     "name": "stderr",
     "output_type": "stream",
     "text": [
      "Lime attribution: 100%|███████████████████████████| 3/3 [00:43<00:00, 14.59s/it]\n"
     ]
    },
    {
     "name": "stdout",
     "output_type": "stream",
     "text": [
      "word attr tensor([-0.1871,  0.1524,  0.1862,  0.0250,  0.6019,  0.3531, -0.0273,  0.0622,\n",
      "         0.0897,  0.0652, -0.0481, -0.0941,  0.0321, -0.0019, -0.0625, -0.0955,\n",
      "        -0.0424,  0.1137,  0.0230,  0.0021,  0.1140,  0.0681,  0.0356,  0.0500,\n",
      "         0.0981,  0.2245,  0.1536, -0.0956,  0.1212,  0.0037, -0.0226,  0.1142,\n",
      "        -0.0138, -0.0084,  0.0807, -0.0033,  0.0798,  0.0811, -0.0569, -0.1082,\n",
      "         0.0369, -0.0577,  0.0787,  0.0765,  0.0219, -0.0071,  0.0687, -0.0342,\n",
      "        -0.0136,  0.1017,  0.0599,  0.0435, -0.0802,  0.0419, -0.0903, -0.0284,\n",
      "        -0.0215, -0.1080,  0.0731,  0.0507, -0.0548,  0.0169,  0.0371, -0.0073,\n",
      "         0.1058,  0.0168, -0.0512, -0.0031,  0.0193, -0.0205,  0.1225, -0.0470,\n",
      "        -0.0283,  0.0560, -0.0164, -0.0742,  0.0032,  0.0634, -0.0459, -0.0422,\n",
      "         0.0017, -0.0541, -0.0806,  0.0713, -0.0789, -0.0300,  0.0661,  0.0506,\n",
      "         0.0348, -0.0829, -0.0068, -0.0300,  0.0091,  0.0489,  0.0123, -0.0512,\n",
      "         0.0091, -0.0327, -0.0481, -0.0595,  0.0662])\n",
      "conti attr [tensor(-0.1871), tensor(0.1524), tensor(0.1862), tensor(0.0250), tensor(0.6019), tensor(0.3531), tensor(-0.0273), tensor(0.1519), tensor(0.0652), tensor(-0.0481), tensor(-0.0620), tensor(-0.0019), tensor(-0.0625), tensor(-0.0955), tensor(-0.0424), tensor(0.1137), tensor(0.0230), tensor(0.0021), tensor(0.1140), tensor(0.0681), tensor(0.0856), tensor(0.0981), tensor(0.2245), tensor(0.1536), tensor(-0.0956), tensor(0.1250), tensor(0.0916), tensor(-0.0138), tensor(-0.0084), tensor(0.0807), tensor(-0.0033), tensor(0.0798), tensor(0.0242), tensor(-0.0714), tensor(-0.0577), tensor(0.0787), tensor(0.0913), tensor(0.0687), tensor(-0.0342), tensor(-0.0136), tensor(0.1616), tensor(0.0435), tensor(-0.0802), tensor(0.0419), tensor(-0.0903), tensor(-0.0284), tensor(-0.0215), tensor(-0.1080), tensor(0.0731), tensor(-0.0041), tensor(0.0169), tensor(0.0371), tensor(-0.0073), tensor(0.1058), tensor(0.0168), tensor(-0.0512), tensor(-0.0031), tensor(0.0193), tensor(-0.0205), tensor(0.1225), tensor(-0.0470), tensor(-0.0283), tensor(0.0396), tensor(-0.0742), tensor(0.0032), tensor(0.0634), tensor(-0.0881), tensor(0.0017), tensor(-0.0541), tensor(-0.0806), tensor(0.0713), tensor(-0.0789), tensor(0.0361), tensor(0.0506), tensor(0.0348), tensor(-0.0897), tensor(-0.0300), tensor(0.0091), tensor(0.0489), tensor(0.0123), tensor(-0.0512), tensor(0.0091), tensor(-0.0327), tensor(-0.1076), tensor(0.0662)]\n",
      "detokenized ['<s>', 'What', 'publication', 'did', 'Philip', 'Howard', 'work', 'for', '?', '</s>', '</s>', 'Resp', 'onding', 'to', 'the', 'findings', 'of', 'the', 'survey', 'in', 'The', 'Times', 'newspaper', ',', 'journalist', 'Philip', 'Howard', 'maintained', 'that', ',', '\"', 'to', 'compare', 'the', 'violence', 'of', 'Dr', 'Who', ',', 's', 'ired', 'by', 'a', 'horse', '-', 'laugh', 'out', 'of', 'a', 'nightmare', ',', 'with', 'the', 'more', 'realistic', 'violence', 'of', 'other', 'television', 'series', ',', 'where', 'actors', 'who', 'look', 'like', 'human', 'beings', 'bleed', 'paint', 'that', 'looks', 'like', 'blood', ',', 'is', 'like', 'comparing', 'Mon', 'opoly', 'with', 'the', 'property', 'market', 'in', 'London', ':', 'both', 'are', 'fantasies', ',', 'but', 'one', 'is', 'meant', 'to', 'be', 'taken', 'seriously', '.\"', '</s>']\n",
      "len conti_raw 85\n",
      "conti_raw ['<s>', 'What', 'publication', 'did', 'Philip', 'Howard', 'work', 'for?', '</s>', '</s>', 'Responding', 'to', 'the', 'findings', 'of', 'the', 'survey', 'in', 'The', 'Times', 'newspaper,', 'journalist', 'Philip', 'Howard', 'maintained', 'that,', '\"to', 'compare', 'the', 'violence', 'of', 'Dr', 'Who,', 'sired', 'by', 'a', 'horse-laugh', 'out', 'of', 'a', 'nightmare,', 'with', 'the', 'more', 'realistic', 'violence', 'of', 'other', 'television', 'series,', 'where', 'actors', 'who', 'look', 'like', 'human', 'beings', 'bleed', 'paint', 'that', 'looks', 'like', 'blood,', 'is', 'like', 'comparing', 'Monopoly', 'with', 'the', 'property', 'market', 'in', 'London:', 'both', 'are', 'fantasies,', 'but', 'one', 'is', 'meant', 'to', 'be', 'taken', 'seriously.\"', '</s>']\n",
      "pred_prob 0.9972901344299316\n"
     ]
    },
    {
     "data": {
      "text/html": [
       "<table width: 100%><div style=\"border-top: 1px solid; margin-top: 5px;             padding-top: 5px; display: inline-block\"><b>Legend: </b><span style=\"display: inline-block; width: 10px; height: 10px;                 border: 1px solid; background-color:                 hsl(0, 75%, 60%)\"></span> Negative  <span style=\"display: inline-block; width: 10px; height: 10px;                 border: 1px solid; background-color:                 hsl(0, 75%, 100%)\"></span> Neutral  <span style=\"display: inline-block; width: 10px; height: 10px;                 border: 1px solid; background-color:                 hsl(120, 75%, 50%)\"></span> Positive  </div><tr><th>True Label</th><th>Predicted Label</th><th>Attribution Label</th><th>Attribution Score</th><th>Word Importance</th><tr><td><text style=\"padding-right:2em\"><b>Entailment</b></text></td><td><text style=\"padding-right:2em\"><b>Entailment (1.00)</b></text></td><td><text style=\"padding-right:2em\"><b>Entailment</b></text></td><td><text style=\"padding-right:2em\"><b>2.14</b></text></td><td><mark style=\"background-color: hsl(0, 75%, 93%); opacity:1.0;                     line-height:1.75\"><font color=\"black\"> #s                    </font></mark><mark style=\"background-color: hsl(120, 75%, 93%); opacity:1.0;                     line-height:1.75\"><font color=\"black\"> What                    </font></mark><mark style=\"background-color: hsl(120, 75%, 91%); opacity:1.0;                     line-height:1.75\"><font color=\"black\"> publication                    </font></mark><mark style=\"background-color: hsl(120, 75%, 99%); opacity:1.0;                     line-height:1.75\"><font color=\"black\"> did                    </font></mark><mark style=\"background-color: hsl(120, 75%, 70%); opacity:1.0;                     line-height:1.75\"><font color=\"black\"> Philip                    </font></mark><mark style=\"background-color: hsl(120, 75%, 83%); opacity:1.0;                     line-height:1.75\"><font color=\"black\"> Howard                    </font></mark><mark style=\"background-color: hsl(0, 75%, 99%); opacity:1.0;                     line-height:1.75\"><font color=\"black\"> work                    </font></mark><mark style=\"background-color: hsl(120, 75%, 93%); opacity:1.0;                     line-height:1.75\"><font color=\"black\"> for?                    </font></mark><mark style=\"background-color: hsl(120, 75%, 97%); opacity:1.0;                     line-height:1.75\"><font color=\"black\"> #/s                    </font></mark><mark style=\"background-color: hsl(0, 75%, 99%); opacity:1.0;                     line-height:1.75\"><font color=\"black\"> #/s                    </font></mark><mark style=\"background-color: hsl(0, 75%, 98%); opacity:1.0;                     line-height:1.75\"><font color=\"black\"> Responding                    </font></mark><mark style=\"background-color: hsl(0, 75%, 100%); opacity:1.0;                     line-height:1.75\"><font color=\"black\"> to                    </font></mark><mark style=\"background-color: hsl(0, 75%, 98%); opacity:1.0;                     line-height:1.75\"><font color=\"black\"> the                    </font></mark><mark style=\"background-color: hsl(0, 75%, 97%); opacity:1.0;                     line-height:1.75\"><font color=\"black\"> findings                    </font></mark><mark style=\"background-color: hsl(0, 75%, 99%); opacity:1.0;                     line-height:1.75\"><font color=\"black\"> of                    </font></mark><mark style=\"background-color: hsl(120, 75%, 95%); opacity:1.0;                     line-height:1.75\"><font color=\"black\"> the                    </font></mark><mark style=\"background-color: hsl(120, 75%, 99%); opacity:1.0;                     line-height:1.75\"><font color=\"black\"> survey                    </font></mark><mark style=\"background-color: hsl(120, 75%, 100%); opacity:1.0;                     line-height:1.75\"><font color=\"black\"> in                    </font></mark><mark style=\"background-color: hsl(120, 75%, 95%); opacity:1.0;                     line-height:1.75\"><font color=\"black\"> The                    </font></mark><mark style=\"background-color: hsl(120, 75%, 97%); opacity:1.0;                     line-height:1.75\"><font color=\"black\"> Times                    </font></mark><mark style=\"background-color: hsl(120, 75%, 96%); opacity:1.0;                     line-height:1.75\"><font color=\"black\"> newspaper,                    </font></mark><mark style=\"background-color: hsl(120, 75%, 96%); opacity:1.0;                     line-height:1.75\"><font color=\"black\"> journalist                    </font></mark><mark style=\"background-color: hsl(120, 75%, 89%); opacity:1.0;                     line-height:1.75\"><font color=\"black\"> Philip                    </font></mark><mark style=\"background-color: hsl(120, 75%, 93%); opacity:1.0;                     line-height:1.75\"><font color=\"black\"> Howard                    </font></mark><mark style=\"background-color: hsl(0, 75%, 97%); opacity:1.0;                     line-height:1.75\"><font color=\"black\"> maintained                    </font></mark><mark style=\"background-color: hsl(120, 75%, 94%); opacity:1.0;                     line-height:1.75\"><font color=\"black\"> that,                    </font></mark><mark style=\"background-color: hsl(120, 75%, 96%); opacity:1.0;                     line-height:1.75\"><font color=\"black\"> \"to                    </font></mark><mark style=\"background-color: hsl(0, 75%, 100%); opacity:1.0;                     line-height:1.75\"><font color=\"black\"> compare                    </font></mark><mark style=\"background-color: hsl(0, 75%, 100%); opacity:1.0;                     line-height:1.75\"><font color=\"black\"> the                    </font></mark><mark style=\"background-color: hsl(120, 75%, 96%); opacity:1.0;                     line-height:1.75\"><font color=\"black\"> violence                    </font></mark><mark style=\"background-color: hsl(0, 75%, 100%); opacity:1.0;                     line-height:1.75\"><font color=\"black\"> of                    </font></mark><mark style=\"background-color: hsl(120, 75%, 97%); opacity:1.0;                     line-height:1.75\"><font color=\"black\"> Dr                    </font></mark><mark style=\"background-color: hsl(120, 75%, 99%); opacity:1.0;                     line-height:1.75\"><font color=\"black\"> Who,                    </font></mark><mark style=\"background-color: hsl(0, 75%, 98%); opacity:1.0;                     line-height:1.75\"><font color=\"black\"> sired                    </font></mark><mark style=\"background-color: hsl(0, 75%, 98%); opacity:1.0;                     line-height:1.75\"><font color=\"black\"> by                    </font></mark><mark style=\"background-color: hsl(120, 75%, 97%); opacity:1.0;                     line-height:1.75\"><font color=\"black\"> a                    </font></mark><mark style=\"background-color: hsl(120, 75%, 96%); opacity:1.0;                     line-height:1.75\"><font color=\"black\"> horse-laugh                    </font></mark><mark style=\"background-color: hsl(120, 75%, 97%); opacity:1.0;                     line-height:1.75\"><font color=\"black\"> out                    </font></mark><mark style=\"background-color: hsl(0, 75%, 99%); opacity:1.0;                     line-height:1.75\"><font color=\"black\"> of                    </font></mark><mark style=\"background-color: hsl(0, 75%, 100%); opacity:1.0;                     line-height:1.75\"><font color=\"black\"> a                    </font></mark><mark style=\"background-color: hsl(120, 75%, 92%); opacity:1.0;                     line-height:1.75\"><font color=\"black\"> nightmare,                    </font></mark><mark style=\"background-color: hsl(120, 75%, 98%); opacity:1.0;                     line-height:1.75\"><font color=\"black\"> with                    </font></mark><mark style=\"background-color: hsl(0, 75%, 97%); opacity:1.0;                     line-height:1.75\"><font color=\"black\"> the                    </font></mark><mark style=\"background-color: hsl(120, 75%, 98%); opacity:1.0;                     line-height:1.75\"><font color=\"black\"> more                    </font></mark><mark style=\"background-color: hsl(0, 75%, 97%); opacity:1.0;                     line-height:1.75\"><font color=\"black\"> realistic                    </font></mark><mark style=\"background-color: hsl(0, 75%, 99%); opacity:1.0;                     line-height:1.75\"><font color=\"black\"> violence                    </font></mark><mark style=\"background-color: hsl(0, 75%, 100%); opacity:1.0;                     line-height:1.75\"><font color=\"black\"> of                    </font></mark><mark style=\"background-color: hsl(0, 75%, 96%); opacity:1.0;                     line-height:1.75\"><font color=\"black\"> other                    </font></mark><mark style=\"background-color: hsl(120, 75%, 97%); opacity:1.0;                     line-height:1.75\"><font color=\"black\"> television                    </font></mark><mark style=\"background-color: hsl(0, 75%, 100%); opacity:1.0;                     line-height:1.75\"><font color=\"black\"> series,                    </font></mark><mark style=\"background-color: hsl(120, 75%, 100%); opacity:1.0;                     line-height:1.75\"><font color=\"black\"> where                    </font></mark><mark style=\"background-color: hsl(120, 75%, 99%); opacity:1.0;                     line-height:1.75\"><font color=\"black\"> actors                    </font></mark><mark style=\"background-color: hsl(0, 75%, 100%); opacity:1.0;                     line-height:1.75\"><font color=\"black\"> who                    </font></mark><mark style=\"background-color: hsl(120, 75%, 95%); opacity:1.0;                     line-height:1.75\"><font color=\"black\"> look                    </font></mark><mark style=\"background-color: hsl(120, 75%, 100%); opacity:1.0;                     line-height:1.75\"><font color=\"black\"> like                    </font></mark><mark style=\"background-color: hsl(0, 75%, 98%); opacity:1.0;                     line-height:1.75\"><font color=\"black\"> human                    </font></mark><mark style=\"background-color: hsl(0, 75%, 100%); opacity:1.0;                     line-height:1.75\"><font color=\"black\"> beings                    </font></mark><mark style=\"background-color: hsl(120, 75%, 100%); opacity:1.0;                     line-height:1.75\"><font color=\"black\"> bleed                    </font></mark><mark style=\"background-color: hsl(0, 75%, 100%); opacity:1.0;                     line-height:1.75\"><font color=\"black\"> paint                    </font></mark><mark style=\"background-color: hsl(120, 75%, 94%); opacity:1.0;                     line-height:1.75\"><font color=\"black\"> that                    </font></mark><mark style=\"background-color: hsl(0, 75%, 99%); opacity:1.0;                     line-height:1.75\"><font color=\"black\"> looks                    </font></mark><mark style=\"background-color: hsl(0, 75%, 99%); opacity:1.0;                     line-height:1.75\"><font color=\"black\"> like                    </font></mark><mark style=\"background-color: hsl(120, 75%, 99%); opacity:1.0;                     line-height:1.75\"><font color=\"black\"> blood,                    </font></mark><mark style=\"background-color: hsl(0, 75%, 98%); opacity:1.0;                     line-height:1.75\"><font color=\"black\"> is                    </font></mark><mark style=\"background-color: hsl(120, 75%, 100%); opacity:1.0;                     line-height:1.75\"><font color=\"black\"> like                    </font></mark><mark style=\"background-color: hsl(120, 75%, 97%); opacity:1.0;                     line-height:1.75\"><font color=\"black\"> comparing                    </font></mark><mark style=\"background-color: hsl(0, 75%, 97%); opacity:1.0;                     line-height:1.75\"><font color=\"black\"> Monopoly                    </font></mark><mark style=\"background-color: hsl(120, 75%, 100%); opacity:1.0;                     line-height:1.75\"><font color=\"black\"> with                    </font></mark><mark style=\"background-color: hsl(0, 75%, 98%); opacity:1.0;                     line-height:1.75\"><font color=\"black\"> the                    </font></mark><mark style=\"background-color: hsl(0, 75%, 97%); opacity:1.0;                     line-height:1.75\"><font color=\"black\"> property                    </font></mark><mark style=\"background-color: hsl(120, 75%, 97%); opacity:1.0;                     line-height:1.75\"><font color=\"black\"> market                    </font></mark><mark style=\"background-color: hsl(0, 75%, 97%); opacity:1.0;                     line-height:1.75\"><font color=\"black\"> in                    </font></mark><mark style=\"background-color: hsl(120, 75%, 99%); opacity:1.0;                     line-height:1.75\"><font color=\"black\"> London:                    </font></mark><mark style=\"background-color: hsl(120, 75%, 98%); opacity:1.0;                     line-height:1.75\"><font color=\"black\"> both                    </font></mark><mark style=\"background-color: hsl(120, 75%, 99%); opacity:1.0;                     line-height:1.75\"><font color=\"black\"> are                    </font></mark><mark style=\"background-color: hsl(0, 75%, 97%); opacity:1.0;                     line-height:1.75\"><font color=\"black\"> fantasies,                    </font></mark><mark style=\"background-color: hsl(0, 75%, 99%); opacity:1.0;                     line-height:1.75\"><font color=\"black\"> but                    </font></mark><mark style=\"background-color: hsl(120, 75%, 100%); opacity:1.0;                     line-height:1.75\"><font color=\"black\"> one                    </font></mark><mark style=\"background-color: hsl(120, 75%, 98%); opacity:1.0;                     line-height:1.75\"><font color=\"black\"> is                    </font></mark><mark style=\"background-color: hsl(120, 75%, 100%); opacity:1.0;                     line-height:1.75\"><font color=\"black\"> meant                    </font></mark><mark style=\"background-color: hsl(0, 75%, 98%); opacity:1.0;                     line-height:1.75\"><font color=\"black\"> to                    </font></mark><mark style=\"background-color: hsl(120, 75%, 100%); opacity:1.0;                     line-height:1.75\"><font color=\"black\"> be                    </font></mark><mark style=\"background-color: hsl(0, 75%, 99%); opacity:1.0;                     line-height:1.75\"><font color=\"black\"> taken                    </font></mark><mark style=\"background-color: hsl(0, 75%, 96%); opacity:1.0;                     line-height:1.75\"><font color=\"black\"> seriously.\"                    </font></mark><mark style=\"background-color: hsl(120, 75%, 97%); opacity:1.0;                     line-height:1.75\"><font color=\"black\"> #/s                    </font></mark></td><tr></table>"
      ],
      "text/plain": [
       "<IPython.core.display.HTML object>"
      ]
     },
     "metadata": {},
     "output_type": "display_data"
    },
    {
     "name": "stderr",
     "output_type": "stream",
     "text": [
      "/home/user/anaconda3/envs/py38/lib/python3.9/site-packages/captum/attr/_core/lime.py:1088: UserWarning: Attempting to construct interpretable model with > 10000 features.This can be very slow or lead to OOM issues. Please provide a featuremask which groups input features to reduce the number of interpretablefeatures. \n",
      "  warnings.warn(\n"
     ]
    },
    {
     "name": "stdout",
     "output_type": "stream",
     "text": [
      "<IPython.core.display.HTML object>\n",
      "i: 49\n",
      "Raw datum: ['If the apparant force of two fermions is attractive, what is the spin function?', 'If two identical fermions (e.g. electrons) have a symmetric spin function (e.g. parallel spins) the spatial variables must be antisymmetric (i.e. they exclude each other from their places much as if there was a repulsive force), and vice versa, i.e. for antiparallel spins the position variables must be symmetric (i.e. the apparent force must be attractive).']\n",
      "GT target: 1\n"
     ]
    },
    {
     "name": "stderr",
     "output_type": "stream",
     "text": [
      "Lime attribution: 100%|███████████████████████████| 3/3 [00:51<00:00, 17.02s/it]\n"
     ]
    },
    {
     "name": "stdout",
     "output_type": "stream",
     "text": [
      "word attr tensor([ 3.8605e-01,  4.2209e-02,  2.6834e-02,  1.0717e-01, -5.8443e-02,\n",
      "         1.8967e-01,  5.7910e-02, -3.1921e-02,  2.3164e-01, -9.2600e-02,\n",
      "         1.8342e-01, -1.2716e-03,  2.6305e-02, -6.7281e-02,  1.0869e-02,\n",
      "        -2.7129e-02,  8.1659e-02,  2.1788e-01,  1.3692e-01,  1.3488e-01,\n",
      "         2.3772e-02, -8.2014e-03, -9.7983e-02,  3.8030e-02, -9.1991e-02,\n",
      "        -9.0120e-02,  1.3506e-01, -4.3492e-04, -3.5281e-02, -3.6374e-02,\n",
      "        -3.3542e-02, -1.3386e-02,  1.8642e-01, -3.6770e-02,  1.3732e-01,\n",
      "        -4.4830e-02, -1.5868e-01,  8.2090e-03, -1.0258e-01, -1.1944e-01,\n",
      "         1.1605e-01,  1.4652e-01,  1.1240e-01,  5.0571e-02,  4.3303e-02,\n",
      "        -4.2712e-02,  5.7400e-02, -1.9748e-02,  1.3222e-01,  3.4126e-02,\n",
      "         9.9957e-02,  8.0873e-03,  8.9607e-02,  1.1718e-02,  8.1025e-02,\n",
      "         2.9926e-02,  1.1871e-01, -1.3881e-02,  5.9389e-02,  3.7296e-02,\n",
      "         6.2222e-02, -4.4922e-02,  5.4607e-02,  6.5159e-02, -7.2120e-03,\n",
      "         6.9011e-02, -1.5740e-01, -1.6252e-02, -1.1704e-01,  2.3769e-02,\n",
      "         3.5293e-02,  1.7573e-02, -3.9612e-02, -1.7299e-02, -2.1407e-02,\n",
      "        -3.5509e-02, -7.8799e-02, -5.5528e-02,  3.1012e-02, -4.2822e-02,\n",
      "         1.7550e-02, -2.3827e-02, -1.1511e-03,  5.4174e-02,  1.7184e-01,\n",
      "        -6.2620e-03,  4.5048e-02,  1.4800e-01,  1.8510e-02, -8.9985e-03,\n",
      "        -8.0423e-02,  7.7946e-02,  2.3821e-02, -4.2145e-02,  1.0797e-01,\n",
      "         7.5271e-02, -5.2250e-02, -3.0297e-03,  1.1606e-01,  5.2641e-02,\n",
      "        -2.9755e-03, -1.1821e-01,  3.7181e-02,  7.2762e-02,  3.5851e-02,\n",
      "        -7.2967e-02, -1.8472e-02, -7.6517e-02,  2.8971e-02,  1.9471e-04,\n",
      "         2.9514e-01,  8.2119e-02, -1.0107e-01])\n",
      "conti attr [tensor(0.3861), tensor(0.0422), tensor(0.0268), tensor(0.0487), tensor(0.1897), tensor(0.0579), tensor(-0.0319), tensor(0.3225), tensor(-0.0013), tensor(-0.0410), tensor(0.0109), tensor(-0.0271), tensor(0.0817), tensor(0.2179), tensor(0.2718), tensor(0.0238), tensor(-0.0082), tensor(-0.0980), tensor(0.0380), tensor(-0.0920), tensor(0.0445), tensor(0.0678), tensor(0.1005), tensor(-0.0448), tensor(-0.1587), tensor(-0.0944), tensor(-0.1194), tensor(0.1161), tensor(0.3101), tensor(0.0574), tensor(0.1125), tensor(0.0341), tensor(0.1000), tensor(0.0081), tensor(0.0896), tensor(0.0117), tensor(0.2158), tensor(0.1686), tensor(0.0652), tensor(-0.0072), tensor(0.0690), tensor(-0.1574), tensor(-0.0163), tensor(-0.1170), tensor(0.0238), tensor(0.0353), tensor(0.0176), tensor(-0.0396), tensor(-0.0173), tensor(-0.0214), tensor(-0.0355), tensor(-0.1343), tensor(-0.0118), tensor(0.0175), tensor(-0.0238), tensor(0.0530), tensor(0.3586), tensor(0.0185), tensor(-0.0115), tensor(0.0238), tensor(-0.0421), tensor(0.1080), tensor(0.0753), tensor(-0.0523), tensor(-0.0030), tensor(0.1687), tensor(0.0246), tensor(-0.0730), tensor(-0.0185), tensor(-0.0765), tensor(0.0290), tensor(0.0002), tensor(0.3773), tensor(-0.1011)]\n",
      "detokenized ['<s>', 'If', 'the', 'app', 'arant', 'force', 'of', 'two', 'f', 'erm', 'ions', 'is', 'attractive', ',', 'what', 'is', 'the', 'spin', 'function', '?', '</s>', '</s>', 'If', 'two', 'identical', 'f', 'erm', 'ions', '(', 'e', '.', 'g', '.', 'electrons', ')', 'have', 'a', 'symm', 'etric', 'spin', 'function', '(', 'e', '.', 'g', '.', 'parallel', 'spins', ')', 'the', 'spatial', 'variables', 'must', 'be', 'ant', 'isy', 'mm', 'etric', '(', 'i', '.', 'e', '.', 'they', 'exclude', 'each', 'other', 'from', 'their', 'places', 'much', 'as', 'if', 'there', 'was', 'a', 'rep', 'ulsive', 'force', '),', 'and', 'vice', 'versa', ',', 'i', '.', 'e', '.', 'for', 'antip', 'ar', 'allel', 'spins', 'the', 'position', 'variables', 'must', 'be', 'symm', 'etric', '(', 'i', '.', 'e', '.', 'the', 'apparent', 'force', 'must', 'be', 'attractive', ').', '</s>']\n",
      "len conti_raw 74\n",
      "conti_raw ['<s>', 'If', 'the', 'apparant', 'force', 'of', 'two', 'fermions', 'is', 'attractive,', 'what', 'is', 'the', 'spin', 'function?', '</s>', '</s>', 'If', 'two', 'identical', 'fermions', '(e.g.', 'electrons)', 'have', 'a', 'symmetric', 'spin', 'function', '(e.g.', 'parallel', 'spins)', 'the', 'spatial', 'variables', 'must', 'be', 'antisymmetric', '(i.e.', 'they', 'exclude', 'each', 'other', 'from', 'their', 'places', 'much', 'as', 'if', 'there', 'was', 'a', 'repulsive', 'force),', 'and', 'vice', 'versa,', 'i.e.', 'for', 'antiparallel', 'spins', 'the', 'position', 'variables', 'must', 'be', 'symmetric', '(i.e.', 'the', 'apparent', 'force', 'must', 'be', 'attractive).', '</s>']\n",
      "pred_prob 0.9962131977081299\n"
     ]
    },
    {
     "data": {
      "text/html": [
       "<table width: 100%><div style=\"border-top: 1px solid; margin-top: 5px;             padding-top: 5px; display: inline-block\"><b>Legend: </b><span style=\"display: inline-block; width: 10px; height: 10px;                 border: 1px solid; background-color:                 hsl(0, 75%, 60%)\"></span> Negative  <span style=\"display: inline-block; width: 10px; height: 10px;                 border: 1px solid; background-color:                 hsl(0, 75%, 100%)\"></span> Neutral  <span style=\"display: inline-block; width: 10px; height: 10px;                 border: 1px solid; background-color:                 hsl(120, 75%, 50%)\"></span> Positive  </div><tr><th>True Label</th><th>Predicted Label</th><th>Attribution Label</th><th>Attribution Score</th><th>Word Importance</th><tr><td><text style=\"padding-right:2em\"><b>Entailment</b></text></td><td><text style=\"padding-right:2em\"><b>Entailment (1.00)</b></text></td><td><text style=\"padding-right:2em\"><b>Entailment</b></text></td><td><text style=\"padding-right:2em\"><b>2.94</b></text></td><td><mark style=\"background-color: hsl(120, 75%, 81%); opacity:1.0;                     line-height:1.75\"><font color=\"black\"> #s                    </font></mark><mark style=\"background-color: hsl(120, 75%, 98%); opacity:1.0;                     line-height:1.75\"><font color=\"black\"> If                    </font></mark><mark style=\"background-color: hsl(120, 75%, 99%); opacity:1.0;                     line-height:1.75\"><font color=\"black\"> the                    </font></mark><mark style=\"background-color: hsl(120, 75%, 98%); opacity:1.0;                     line-height:1.75\"><font color=\"black\"> apparant                    </font></mark><mark style=\"background-color: hsl(120, 75%, 91%); opacity:1.0;                     line-height:1.75\"><font color=\"black\"> force                    </font></mark><mark style=\"background-color: hsl(120, 75%, 98%); opacity:1.0;                     line-height:1.75\"><font color=\"black\"> of                    </font></mark><mark style=\"background-color: hsl(0, 75%, 99%); opacity:1.0;                     line-height:1.75\"><font color=\"black\"> two                    </font></mark><mark style=\"background-color: hsl(120, 75%, 84%); opacity:1.0;                     line-height:1.75\"><font color=\"black\"> fermions                    </font></mark><mark style=\"background-color: hsl(0, 75%, 100%); opacity:1.0;                     line-height:1.75\"><font color=\"black\"> is                    </font></mark><mark style=\"background-color: hsl(0, 75%, 99%); opacity:1.0;                     line-height:1.75\"><font color=\"black\"> attractive,                    </font></mark><mark style=\"background-color: hsl(120, 75%, 100%); opacity:1.0;                     line-height:1.75\"><font color=\"black\"> what                    </font></mark><mark style=\"background-color: hsl(0, 75%, 99%); opacity:1.0;                     line-height:1.75\"><font color=\"black\"> is                    </font></mark><mark style=\"background-color: hsl(120, 75%, 96%); opacity:1.0;                     line-height:1.75\"><font color=\"black\"> the                    </font></mark><mark style=\"background-color: hsl(120, 75%, 90%); opacity:1.0;                     line-height:1.75\"><font color=\"black\"> spin                    </font></mark><mark style=\"background-color: hsl(120, 75%, 87%); opacity:1.0;                     line-height:1.75\"><font color=\"black\"> function?                    </font></mark><mark style=\"background-color: hsl(120, 75%, 99%); opacity:1.0;                     line-height:1.75\"><font color=\"black\"> #/s                    </font></mark><mark style=\"background-color: hsl(0, 75%, 100%); opacity:1.0;                     line-height:1.75\"><font color=\"black\"> #/s                    </font></mark><mark style=\"background-color: hsl(0, 75%, 97%); opacity:1.0;                     line-height:1.75\"><font color=\"black\"> If                    </font></mark><mark style=\"background-color: hsl(120, 75%, 99%); opacity:1.0;                     line-height:1.75\"><font color=\"black\"> two                    </font></mark><mark style=\"background-color: hsl(0, 75%, 97%); opacity:1.0;                     line-height:1.75\"><font color=\"black\"> identical                    </font></mark><mark style=\"background-color: hsl(120, 75%, 98%); opacity:1.0;                     line-height:1.75\"><font color=\"black\"> fermions                    </font></mark><mark style=\"background-color: hsl(120, 75%, 97%); opacity:1.0;                     line-height:1.75\"><font color=\"black\"> (e.g.                    </font></mark><mark style=\"background-color: hsl(120, 75%, 95%); opacity:1.0;                     line-height:1.75\"><font color=\"black\"> electrons)                    </font></mark><mark style=\"background-color: hsl(0, 75%, 99%); opacity:1.0;                     line-height:1.75\"><font color=\"black\"> have                    </font></mark><mark style=\"background-color: hsl(0, 75%, 94%); opacity:1.0;                     line-height:1.75\"><font color=\"black\"> a                    </font></mark><mark style=\"background-color: hsl(0, 75%, 97%); opacity:1.0;                     line-height:1.75\"><font color=\"black\"> symmetric                    </font></mark><mark style=\"background-color: hsl(0, 75%, 96%); opacity:1.0;                     line-height:1.75\"><font color=\"black\"> spin                    </font></mark><mark style=\"background-color: hsl(120, 75%, 95%); opacity:1.0;                     line-height:1.75\"><font color=\"black\"> function                    </font></mark><mark style=\"background-color: hsl(120, 75%, 85%); opacity:1.0;                     line-height:1.75\"><font color=\"black\"> (e.g.                    </font></mark><mark style=\"background-color: hsl(120, 75%, 98%); opacity:1.0;                     line-height:1.75\"><font color=\"black\"> parallel                    </font></mark><mark style=\"background-color: hsl(120, 75%, 95%); opacity:1.0;                     line-height:1.75\"><font color=\"black\"> spins)                    </font></mark><mark style=\"background-color: hsl(120, 75%, 99%); opacity:1.0;                     line-height:1.75\"><font color=\"black\"> the                    </font></mark><mark style=\"background-color: hsl(120, 75%, 96%); opacity:1.0;                     line-height:1.75\"><font color=\"black\"> spatial                    </font></mark><mark style=\"background-color: hsl(120, 75%, 100%); opacity:1.0;                     line-height:1.75\"><font color=\"black\"> variables                    </font></mark><mark style=\"background-color: hsl(120, 75%, 96%); opacity:1.0;                     line-height:1.75\"><font color=\"black\"> must                    </font></mark><mark style=\"background-color: hsl(120, 75%, 100%); opacity:1.0;                     line-height:1.75\"><font color=\"black\"> be                    </font></mark><mark style=\"background-color: hsl(120, 75%, 90%); opacity:1.0;                     line-height:1.75\"><font color=\"black\"> antisymmetric                    </font></mark><mark style=\"background-color: hsl(120, 75%, 92%); opacity:1.0;                     line-height:1.75\"><font color=\"black\"> (i.e.                    </font></mark><mark style=\"background-color: hsl(120, 75%, 97%); opacity:1.0;                     line-height:1.75\"><font color=\"black\"> they                    </font></mark><mark style=\"background-color: hsl(0, 75%, 100%); opacity:1.0;                     line-height:1.75\"><font color=\"black\"> exclude                    </font></mark><mark style=\"background-color: hsl(120, 75%, 97%); opacity:1.0;                     line-height:1.75\"><font color=\"black\"> each                    </font></mark><mark style=\"background-color: hsl(0, 75%, 94%); opacity:1.0;                     line-height:1.75\"><font color=\"black\"> other                    </font></mark><mark style=\"background-color: hsl(0, 75%, 100%); opacity:1.0;                     line-height:1.75\"><font color=\"black\"> from                    </font></mark><mark style=\"background-color: hsl(0, 75%, 96%); opacity:1.0;                     line-height:1.75\"><font color=\"black\"> their                    </font></mark><mark style=\"background-color: hsl(120, 75%, 99%); opacity:1.0;                     line-height:1.75\"><font color=\"black\"> places                    </font></mark><mark style=\"background-color: hsl(120, 75%, 99%); opacity:1.0;                     line-height:1.75\"><font color=\"black\"> much                    </font></mark><mark style=\"background-color: hsl(120, 75%, 100%); opacity:1.0;                     line-height:1.75\"><font color=\"black\"> as                    </font></mark><mark style=\"background-color: hsl(0, 75%, 99%); opacity:1.0;                     line-height:1.75\"><font color=\"black\"> if                    </font></mark><mark style=\"background-color: hsl(0, 75%, 100%); opacity:1.0;                     line-height:1.75\"><font color=\"black\"> there                    </font></mark><mark style=\"background-color: hsl(0, 75%, 100%); opacity:1.0;                     line-height:1.75\"><font color=\"black\"> was                    </font></mark><mark style=\"background-color: hsl(0, 75%, 99%); opacity:1.0;                     line-height:1.75\"><font color=\"black\"> a                    </font></mark><mark style=\"background-color: hsl(0, 75%, 95%); opacity:1.0;                     line-height:1.75\"><font color=\"black\"> repulsive                    </font></mark><mark style=\"background-color: hsl(0, 75%, 100%); opacity:1.0;                     line-height:1.75\"><font color=\"black\"> force),                    </font></mark><mark style=\"background-color: hsl(120, 75%, 100%); opacity:1.0;                     line-height:1.75\"><font color=\"black\"> and                    </font></mark><mark style=\"background-color: hsl(0, 75%, 100%); opacity:1.0;                     line-height:1.75\"><font color=\"black\"> vice                    </font></mark><mark style=\"background-color: hsl(120, 75%, 98%); opacity:1.0;                     line-height:1.75\"><font color=\"black\"> versa,                    </font></mark><mark style=\"background-color: hsl(120, 75%, 83%); opacity:1.0;                     line-height:1.75\"><font color=\"black\"> i.e.                    </font></mark><mark style=\"background-color: hsl(120, 75%, 100%); opacity:1.0;                     line-height:1.75\"><font color=\"black\"> for                    </font></mark><mark style=\"background-color: hsl(0, 75%, 100%); opacity:1.0;                     line-height:1.75\"><font color=\"black\"> antiparallel                    </font></mark><mark style=\"background-color: hsl(120, 75%, 99%); opacity:1.0;                     line-height:1.75\"><font color=\"black\"> spins                    </font></mark><mark style=\"background-color: hsl(0, 75%, 99%); opacity:1.0;                     line-height:1.75\"><font color=\"black\"> the                    </font></mark><mark style=\"background-color: hsl(120, 75%, 95%); opacity:1.0;                     line-height:1.75\"><font color=\"black\"> position                    </font></mark><mark style=\"background-color: hsl(120, 75%, 97%); opacity:1.0;                     line-height:1.75\"><font color=\"black\"> variables                    </font></mark><mark style=\"background-color: hsl(0, 75%, 98%); opacity:1.0;                     line-height:1.75\"><font color=\"black\"> must                    </font></mark><mark style=\"background-color: hsl(0, 75%, 100%); opacity:1.0;                     line-height:1.75\"><font color=\"black\"> be                    </font></mark><mark style=\"background-color: hsl(120, 75%, 92%); opacity:1.0;                     line-height:1.75\"><font color=\"black\"> symmetric                    </font></mark><mark style=\"background-color: hsl(120, 75%, 99%); opacity:1.0;                     line-height:1.75\"><font color=\"black\"> (i.e.                    </font></mark><mark style=\"background-color: hsl(0, 75%, 98%); opacity:1.0;                     line-height:1.75\"><font color=\"black\"> the                    </font></mark><mark style=\"background-color: hsl(0, 75%, 100%); opacity:1.0;                     line-height:1.75\"><font color=\"black\"> apparent                    </font></mark><mark style=\"background-color: hsl(0, 75%, 97%); opacity:1.0;                     line-height:1.75\"><font color=\"black\"> force                    </font></mark><mark style=\"background-color: hsl(120, 75%, 99%); opacity:1.0;                     line-height:1.75\"><font color=\"black\"> must                    </font></mark><mark style=\"background-color: hsl(120, 75%, 100%); opacity:1.0;                     line-height:1.75\"><font color=\"black\"> be                    </font></mark><mark style=\"background-color: hsl(120, 75%, 82%); opacity:1.0;                     line-height:1.75\"><font color=\"black\"> attractive).                    </font></mark><mark style=\"background-color: hsl(0, 75%, 96%); opacity:1.0;                     line-height:1.75\"><font color=\"black\"> #/s                    </font></mark></td><tr></table>"
      ],
      "text/plain": [
       "<IPython.core.display.HTML object>"
      ]
     },
     "metadata": {},
     "output_type": "display_data"
    },
    {
     "name": "stdout",
     "output_type": "stream",
     "text": [
      "<IPython.core.display.HTML object>\n"
     ]
    }
   ],
   "source": [
    "for i, (datum_raw, target) in enumerate(zip(qnli_data_raw, targets), start=1):\n",
    "#     example_1 = 'Where is Energiprojekt AB based?'\n",
    "#     example_2 = 'Although the reciprocating steam engine is no longer in widespread commercial use, various companies are exploring or exploiting the potential of the engine as an alternative to internal combustion engines.'\n",
    "#     datum_raw, target = [example_1, example_2], 1\n",
    "    print(f'i: {i-1}')\n",
    "    print(f'Raw datum: {datum_raw}') #datum expected to be a list of 2 sentences\n",
    "    print(f'GT target: {target}')\n",
    "    visual_record=generate_record(datum_raw, target)\n",
    "    print(visualization.visualize_text([visual_record])) "
   ]
  },
  {
   "cell_type": "code",
   "execution_count": 9,
   "id": "cd0f0e0d",
   "metadata": {},
   "outputs": [
    {
     "data": {
      "text/plain": [
       "{'indices': [4013,\n",
       "  2281,\n",
       "  2771,\n",
       "  5109,\n",
       "  1852,\n",
       "  2016,\n",
       "  642,\n",
       "  3912,\n",
       "  4427,\n",
       "  2330,\n",
       "  4581,\n",
       "  2611,\n",
       "  5186,\n",
       "  2700,\n",
       "  4920,\n",
       "  4335,\n",
       "  1246,\n",
       "  2811,\n",
       "  5290,\n",
       "  5385,\n",
       "  4774,\n",
       "  653,\n",
       "  2816,\n",
       "  916,\n",
       "  3297,\n",
       "  3459,\n",
       "  1475,\n",
       "  1287,\n",
       "  4548,\n",
       "  1476,\n",
       "  2328,\n",
       "  2208,\n",
       "  2772,\n",
       "  5301,\n",
       "  869,\n",
       "  4968,\n",
       "  4456,\n",
       "  4711,\n",
       "  1929,\n",
       "  634,\n",
       "  3774,\n",
       "  5389,\n",
       "  497,\n",
       "  4901,\n",
       "  4602,\n",
       "  831,\n",
       "  1292,\n",
       "  1087,\n",
       "  3159,\n",
       "  3492],\n",
       " 'raw_data': [['What would a teacher assess the levels of a student on?',\n",
       "   'For example, an experienced teacher and parent described the place of a teacher in learning as follows: \"The real bulk of learning takes place in self-study and problem solving with a lot of feedback around that loop.'],\n",
       "  ['What company created Doctor Who?',\n",
       "   'Who character by BBC Television in the early 1960s, a myriad of stories have been published about Doctor Who, in different media: apart from the actual television episodes that continue to be produced by the BBC, there have also been novels, comics, short stories, audio books, radio plays, interactive video games, game books, webcasts, DVD extras, and even stage performances.'],\n",
       "  ['What was the name of the Media Day event for Super Bowl 50?',\n",
       "   \"The game's media day, which was typically held on the Tuesday afternoon prior to the game, was moved to the Monday evening and re-branded as Super Bowl Opening Night.\"],\n",
       "  ['How many Doctor Who soundtracks have been released since 2005?',\n",
       "   'The fourth was released on 4 October 2010 as a two disc special edition and contained music from the 2008–2010 specials (The Next Doctor to End of Time Part 2).'],\n",
       "  [\"What is the name of the country's longest continuously running student film society?\",\n",
       "   'Students at the University of Chicago run over 400 clubs and organizations known as Recognized Student Organizations (RSOs).'],\n",
       "  ['How many times has the South Florida/Miami area hosted the Super Bowl?',\n",
       "   'The South Florida/Miami area has previously hosted the event 10 times (tied for most with New Orleans), with the most recent one being Super Bowl XLIV in 2010.'],\n",
       "  ['What is different about Paulinella chromatophora?',\n",
       "   'It is not clear whether that symbiont is closely related to the ancestral chloroplast of other eukaryotes.'],\n",
       "  [\"Who played Doctor Who on stage in the 70's?\",\n",
       "   'Doctor Who has appeared on stage numerous times.'],\n",
       "  ['Who do clinical pharmacists work with much of the time?',\n",
       "   'Clinical pharmacists often collaborate with physicians and other healthcare professionals to improve pharmaceutical care.'],\n",
       "  ['In which county does Jacksonville reside?',\n",
       "   'It is the county seat of Duval County, with which the city government consolidated in 1968.'],\n",
       "  ['Who did Genghis Khan charge with finding and punishing the Shah?',\n",
       "   'Genghis Khan ordered the wholesale massacre of many of the civilians, enslaved the rest of the population and executed Inalchuq by pouring molten silver into his ears and eyes, as retribution for his actions.'],\n",
       "  ['What entity enforces the Charter of Fundamental Rights of the European Union?',\n",
       "   'In effect, after the Lisbon Treaty, the Charter and the Convention now co-exist under European Union law, though the former is enforced by the European Court of Justice in relation to European Union measures, and the latter by the European Court of Human Rights in relation to measures by member states.'],\n",
       "  [\"Most of the museum's collection had been returned by which year?\",\n",
       "   'Before the return of the collections after the war, the Britain Can Make It exhibition was held between September and November 1946, attracting nearly a million and a half visitors.'],\n",
       "  ['Within the 30 days how many digiboxes had been sold?',\n",
       "   \"Within 30 days, over 100,000 digiboxes had been sold, which help bolstered BSkyB's decision to give away free digiboxes and minidishes from May 1999.\"],\n",
       "  ['The receptors on a killer T cell must bind to how many MHC: antigen complexes in order to activate the cell?',\n",
       "   \"The MHC:antigen complex is also recognized by the helper cell's CD4 co-receptor, which recruits molecules inside the T cell (e.g., Lck) that are responsible for the T cell's activation.\"],\n",
       "  [\"How much did Westinghouse pay for Tesla's designs?\",\n",
       "   \"In July 1888, Brown and Peck negotiated a licensing deal with George Westinghouse for Tesla's polyphase induction motor and transformer designs for $60,000 in cash and stock and a royalty of $2.50 per AC horsepower produced by each motor.\"],\n",
       "  [\"What type of movies were produced in Jacksonville's 30 studios?\",\n",
       "   'One converted movie studio site, Norman Studios, remains in Arlington; It has been converted to the Jacksonville Silent Film Museum at Norman Studios.'],\n",
       "  ['What voyager said that Mombasa was a great harbour and moored small crafts and great ships?',\n",
       "   'The Swahili built Mombasa into a major port city and established trade links with other nearby city-states, as well as commercial centres in Persia, Arabia, and even India.'],\n",
       "  ['Where is Energiprojekt AB based?',\n",
       "   'Although the reciprocating steam engine is no longer in widespread commercial use, various companies are exploring or exploiting the potential of the engine as an alternative to internal combustion engines.'],\n",
       "  ['Who other than Tesla did Westinghouse consider for the patents?',\n",
       "   \"Westinghouse looked into getting a patent on a similar commutator-less, rotating magnetic field-based induction motor presented in a paper in March 1888 by the Italian physicist Galileo Ferraris, but decided Tesla's patent would probably control the market.\"],\n",
       "  ['What separates the neuroimmune system and peripheral immune system in humans?',\n",
       "   'In humans, the blood–brain barrier, blood–cerebrospinal fluid barrier, and similar fluid–brain barriers separate the peripheral immune system from the neuroimmune system which protects the brain.'],\n",
       "  [\"What did Kublai's government have to balance between?\",\n",
       "   \"Kublai's government after 1262 was a compromise between preserving Mongol interests in China and satisfying the demands of his Chinese subjects.\"],\n",
       "  [\"What did Gasquet's book blame the plague on?\",\n",
       "   'The historian Francis Aidan Gasquet wrote about the \\'Great Pestilence\\' in 1893 and suggested that \"it would appear to be some form of the ordinary Eastern or bubonic plague\".'],\n",
       "  ['Who shared sideline duties with Evan Washburn?',\n",
       "   'In the United States, the game was televised by CBS, as part of a cycle between the three main broadcast television partners of the NFL.'],\n",
       "  ['Who was added to party as Washington went on the way?',\n",
       "   'Washington left with a small party, picking up along the way Jacob Van Braam as an interpreter; Christopher Gist, a company surveyor working in the area; and a few Mingo led by Tanaghrisson.'],\n",
       "  ['What did Queen Elizabeth II open in Newcastle in 1981?',\n",
       "   \"It was opened in five phases between 1980 and 1984, and was Britain's first urban light rail transit system; two extensions were opened in 1991 and 2002.\"],\n",
       "  ['What writing inspired the name Great Yuan?',\n",
       "   'Furthermore, the Yuan is sometimes known as the \"Empire of the Great Khan\" or \"Khanate of the Great Khan\", which particularly appeared on some Yuan maps, since Yuan emperors held the nominal title of Great Khan.'],\n",
       "  ['What happened to the East India Trading Company in 1767?',\n",
       "   'In 1599 the British East India Company was established and was chartered by Queen Elizabeth in the following year.'],\n",
       "  ['The principle of faunal succession was developed 100 years before whose theory of evolution?',\n",
       "   \"Based on principles laid out by William Smith almost a hundred years before the publication of Charles Darwin's theory of evolution, the principles of succession were developed independently of evolutionary thought.\"],\n",
       "  ['How many times did Luther preach in Halle in 1545 and 1546?',\n",
       "   'In 1545 and 1546 Luther preached three times in the Market Church in Halle, staying with his friend Justus Jonas during Christmas.'],\n",
       "  ['What part of the Rhine flows through North Rhine-Westphalia?',\n",
       "   'Here the Rhine flows through the largest conurbation in Germany, the Rhine-Ruhr region.'],\n",
       "  ['What is the most important thing apicoplasts do?',\n",
       "   'The most important apicoplast function is isopentenyl pyrophosphate synthesis—in fact, apicomplexans die when something interferes with this apicoplast function, and when apicomplexans are grown in an isopentenyl pyrophosphate-rich medium, they dump the organelle.'],\n",
       "  [\"When did ABC begin airing Dick Clark's New Year's Rockin' Eve?\",\n",
       "   \"Since 1974, ABC has generally aired Dick Clark's New Year's Rockin' Eve on New Year's Eve (hosted first by its creator Dick Clark, and later by his successor Ryan Seacrest); the only exception was in 1999, when ABC put it on a one-year hiatus to provide coverage of the international millennium festivities, though Clark's traditional countdown from Times Square was still featured within the coverage.\"],\n",
       "  ['The Kronenberg Palace had been an exceptional example of what type of architecture?',\n",
       "   'Despite that the Warsaw University of Technology building (1899–1902) is the most interesting of the late 19th-century architecture.'],\n",
       "  ['What was the definition of professionals, for this study?',\n",
       "   'It is important to note, however, that the British study referenced above is the only one of its kind and consisted of \"a random ... probability sample of 2,869 young people between the ages of 18 and 24 in a computer-assisted study\" and that the questions referred to \"sexual abuse with a professional,\" not necessarily a teacher.'],\n",
       "  ['bassett focuses on what to illustrate his idea?',\n",
       "   'To better illustrate this idea, Bassett focuses his analysis of the role of nineteenth-century maps during the \"scramble for Africa\".'],\n",
       "  ['Where did Tesla believe his talents came from?',\n",
       "   \"Tesla's mother, Đuka Tesla (née Mandić), whose father was also an Orthodox priest,:10 had a talent for making home craft tools, mechanical appliances, and the ability to memorize Serbian epic poems.\"],\n",
       "  ['Who was given the esteemed status of MVP for Super Bowl 50?',\n",
       "   'Denver linebacker Von Miller was named Super Bowl MVP, recording five solo tackles, 2½ sacks, and two forced fumbles.'],\n",
       "  ['What was the percentage of Black or African-Americans living in the city?',\n",
       "   'Hispanic or Latino of any race were 39.9% of the population.'],\n",
       "  ['What was the result of the 2007 election?',\n",
       "   'With International Criminal Court trial dates in 2013 for both President Kenyatta and Deputy President William Ruto related to the 2007 election aftermath, US President Barack Obama chose not to visit the country during his mid-2013 African trip.'],\n",
       "  ['What equation currently decribes the physics of force.',\n",
       "   'The notion \"force\" keeps its meaning in quantum mechanics, though one is now dealing with operators instead of classical variables and though the physics is now described by the Schrödinger equation instead of Newtonian equations.'],\n",
       "  ['What did Iqbal fear would weaken the spiritual foundations of Islam and Muslim society?',\n",
       "   'In his travels to Egypt, Afghanistan, Palestine and Syria, he promoted ideas of greater Islamic political co-operation and unity, calling for the shedding of nationalist differences.'],\n",
       "  ['In what meeting did Shirley lay out plans for 1756?',\n",
       "   'At a meeting in Albany in December 1755, he laid out his plans for 1756.'],\n",
       "  [\"In autoimmune disorders, the immune system doesn't distinguish between what types of cells?\",\n",
       "   'One of the functions of specialized cells (located in the thymus and bone marrow) is to present young lymphocytes with self antigens produced throughout the body and to eliminate those cells that recognize self-antigens, preventing autoimmunity.'],\n",
       "  ['Which husband and wife modern furniture design team are represented in the V&A furniture collection?',\n",
       "   'One of the finest pieces of continental furniture in the collection is the Rococo Augustus Rex Bureau Cabinet dated c1750 from Germany, with especially fine marquetry and ormolu mounts.'],\n",
       "  ['Why did oil start getting priced in terms of gold?',\n",
       "   \"Because oil was priced in dollars, oil producers' real income decreased.\"],\n",
       "  ['Who did Britain exploit in India?',\n",
       "   'Although a substantial number of colonies had been designed to provide economic profit and to ship resources to home ports in the seventeenth and eighteenth centuries, Fieldhouse suggests that in the nineteenth and twentieth centuries in places such as Africa and Asia, this idea is not necessarily valid:'],\n",
       "  ['What popular environmentalist is also a university alumni member?',\n",
       "   'In science, alumni include astronomers Carl Sagan, a prominent contributor to the scientific research of extraterrestrial life, and Edwin Hubble, known for \"Hubble\\'s Law\", NASA astronaut John M. Grunsfeld, geneticist James Watson, best known as one of the co-discoverers of the structure of DNA, experimental physicist Luis Alvarez, popular environmentalist David Suzuki, balloonist Jeannette Piccard, biologists Ernest Everett'],\n",
       "  ['What publication did Philip Howard work for?',\n",
       "   'Responding to the findings of the survey in The Times newspaper, journalist Philip Howard maintained that, \"to compare the violence of Dr Who, sired by a horse-laugh out of a nightmare, with the more realistic violence of other television series, where actors who look like human beings bleed paint that looks like blood, is like comparing Monopoly with the property market in London: both are fantasies, but one is meant to be taken seriously.\"'],\n",
       "  ['If the apparant force of two fermions is attractive, what is the spin function?',\n",
       "   'If two identical fermions (e.g. electrons) have a symmetric spin function (e.g. parallel spins) the spatial variables must be antisymmetric (i.e. they exclude each other from their places much as if there was a repulsive force), and vice versa, i.e. for antiparallel spins the position variables must be symmetric (i.e. the apparent force must be attractive).']],\n",
       " 'targets': [0,\n",
       "  1,\n",
       "  1,\n",
       "  0,\n",
       "  0,\n",
       "  1,\n",
       "  0,\n",
       "  0,\n",
       "  1,\n",
       "  1,\n",
       "  0,\n",
       "  1,\n",
       "  0,\n",
       "  1,\n",
       "  0,\n",
       "  1,\n",
       "  0,\n",
       "  0,\n",
       "  0,\n",
       "  1,\n",
       "  1,\n",
       "  1,\n",
       "  0,\n",
       "  0,\n",
       "  1,\n",
       "  0,\n",
       "  0,\n",
       "  0,\n",
       "  1,\n",
       "  1,\n",
       "  0,\n",
       "  1,\n",
       "  1,\n",
       "  0,\n",
       "  0,\n",
       "  1,\n",
       "  0,\n",
       "  1,\n",
       "  0,\n",
       "  1,\n",
       "  1,\n",
       "  0,\n",
       "  1,\n",
       "  0,\n",
       "  0,\n",
       "  1,\n",
       "  0,\n",
       "  1,\n",
       "  1,\n",
       "  1],\n",
       " 'model_out_list': [0.002108788350597024,\n",
       "  0.01398939173668623,\n",
       "  0.9950801134109497,\n",
       "  0.003637322224676609,\n",
       "  0.010836849920451641,\n",
       "  0.997096061706543,\n",
       "  0.015048451721668243,\n",
       "  0.0017728209495544434,\n",
       "  0.9892719984054565,\n",
       "  0.9770406484603882,\n",
       "  0.01447561476379633,\n",
       "  0.9285910129547119,\n",
       "  0.986517608165741,\n",
       "  0.9983332753181458,\n",
       "  0.004497905727475882,\n",
       "  0.9978137016296387,\n",
       "  0.005194461438804865,\n",
       "  0.004503244534134865,\n",
       "  0.0015017999103292823,\n",
       "  0.042424872517585754,\n",
       "  0.9950190782546997,\n",
       "  0.9932367205619812,\n",
       "  0.019122213125228882,\n",
       "  0.0016519827768206596,\n",
       "  0.9971464276313782,\n",
       "  0.0014412070158869028,\n",
       "  0.0024735890328884125,\n",
       "  0.0011460972018539906,\n",
       "  0.9973107576370239,\n",
       "  0.997323215007782,\n",
       "  0.009265093132853508,\n",
       "  0.6008754372596741,\n",
       "  0.9975225329399109,\n",
       "  0.005764153320342302,\n",
       "  0.9450345635414124,\n",
       "  0.993445634841919,\n",
       "  0.1975039690732956,\n",
       "  0.994285523891449,\n",
       "  0.6878899931907654,\n",
       "  0.15226225554943085,\n",
       "  0.9977478384971619,\n",
       "  0.004727409221231937,\n",
       "  0.9984742999076843,\n",
       "  0.00343884713947773,\n",
       "  0.0012677315389737487,\n",
       "  0.5191262364387512,\n",
       "  0.001253617345355451,\n",
       "  0.9981873631477356,\n",
       "  0.9972901344299316,\n",
       "  0.9962131977081299],\n",
       " 'raw_attr_list': [tensor([[[0., 0., 0.,  ..., 0., 0., 0.],\n",
       "           [0., 0., 0.,  ..., 0., 0., 0.],\n",
       "           [0., 0., 0.,  ..., 0., 0., 0.],\n",
       "           ...,\n",
       "           [0., 0., 0.,  ..., 0., 0., 0.],\n",
       "           [0., 0., 0.,  ..., 0., 0., 0.],\n",
       "           [0., 0., 0.,  ..., 0., 0., 0.]]]),\n",
       "  tensor([[[ 0.0000,  0.0000,  0.0000,  ...,  0.0000,  0.0000,  0.0000],\n",
       "           [ 0.0000,  0.0000,  0.0000,  ...,  0.0000,  0.0000,  0.0000],\n",
       "           [ 0.0000,  0.0007,  0.0000,  ...,  0.0000,  0.0000,  0.0000],\n",
       "           ...,\n",
       "           [ 0.0000,  0.0000,  0.0000,  ...,  0.0000,  0.0000,  0.0000],\n",
       "           [ 0.0000,  0.0004,  0.0000,  ...,  0.0000,  0.0000,  0.0000],\n",
       "           [-0.0067,  0.0000,  0.0000,  ...,  0.0000,  0.0000,  0.0000]]]),\n",
       "  tensor([[[0.0000, 0.0000, 0.0000,  ..., 0.0000, 0.0000, 0.0000],\n",
       "           [0.0000, 0.0000, 0.0000,  ..., 0.0000, 0.0000, 0.0000],\n",
       "           [0.0000, 0.0000, 0.0000,  ..., 0.0000, 0.0000, 0.0000],\n",
       "           ...,\n",
       "           [0.0000, 0.0000, 0.0000,  ..., 0.0000, 0.0000, 0.0000],\n",
       "           [0.0000, 0.0000, 0.0000,  ..., 0.0000, 0.0000, 0.0000],\n",
       "           [0.0006, 0.0000, 0.0000,  ..., 0.0007, 0.0000, 0.0000]]]),\n",
       "  tensor([[[0.0000, 0.0000, 0.0000,  ..., 0.0000, 0.0004, 0.0000],\n",
       "           [0.0000, 0.0019, 0.0000,  ..., 0.0000, 0.0000, 0.0000],\n",
       "           [0.0000, 0.0000, 0.0000,  ..., 0.0000, 0.0042, 0.0000],\n",
       "           ...,\n",
       "           [0.0000, 0.0000, 0.0000,  ..., 0.0000, 0.0000, 0.0000],\n",
       "           [0.0000, 0.0000, 0.0000,  ..., 0.0000, 0.0000, 0.0000],\n",
       "           [0.0000, 0.0000, 0.0000,  ..., 0.0000, 0.0000, 0.0000]]]),\n",
       "  tensor([[[0.0000, 0.0000, 0.0000,  ..., 0.0000, 0.0000, 0.0000],\n",
       "           [0.0000, 0.0000, 0.0000,  ..., 0.0000, 0.0000, 0.0000],\n",
       "           [0.0048, 0.0000, 0.0000,  ..., 0.0000, 0.0000, 0.0000],\n",
       "           ...,\n",
       "           [0.0000, 0.0000, 0.0000,  ..., 0.0000, 0.0000, 0.0044],\n",
       "           [0.0000, 0.0000, 0.0000,  ..., 0.0000, 0.0000, 0.0000],\n",
       "           [0.0000, 0.0000, 0.0000,  ..., 0.0000, 0.0000, 0.0000]]]),\n",
       "  tensor([[[ 0.0000,  0.0000,  0.0000,  ...,  0.0000,  0.0000,  0.0000],\n",
       "           [ 0.0000,  0.0000,  0.0000,  ..., -0.0014, -0.0041,  0.0031],\n",
       "           [ 0.0000,  0.0000,  0.0000,  ...,  0.0000,  0.0000,  0.0000],\n",
       "           ...,\n",
       "           [ 0.0000,  0.0000,  0.0000,  ...,  0.0000,  0.0000,  0.0000],\n",
       "           [ 0.0000,  0.0000,  0.0000,  ...,  0.0000, -0.0024,  0.0000],\n",
       "           [ 0.0000,  0.0000,  0.0000,  ...,  0.0000,  0.0000, -0.0004]]]),\n",
       "  tensor([[[0.0000, 0.0000, 0.0000,  ..., 0.0000, 0.0000, 0.0000],\n",
       "           [0.0000, 0.0000, 0.0000,  ..., 0.0000, 0.0000, 0.0000],\n",
       "           [0.0000, 0.0000, 0.0000,  ..., 0.0000, 0.0000, 0.0000],\n",
       "           ...,\n",
       "           [0.0000, 0.0000, 0.0000,  ..., 0.0013, 0.0000, 0.0000],\n",
       "           [0.0000, 0.0000, 0.0000,  ..., 0.0000, 0.0000, 0.0000],\n",
       "           [0.0000, 0.0000, 0.0000,  ..., 0.0000, 0.0000, 0.0000]]]),\n",
       "  tensor([[[ 0.0000,  0.0000,  0.0000,  ...,  0.0000,  0.0000,  0.0000],\n",
       "           [ 0.0000,  0.0000,  0.0000,  ...,  0.0000,  0.0000,  0.0000],\n",
       "           [ 0.0000,  0.0000,  0.0000,  ..., -0.0005,  0.0000,  0.0000],\n",
       "           ...,\n",
       "           [ 0.0000,  0.0000,  0.0000,  ...,  0.0000,  0.0000,  0.0000],\n",
       "           [ 0.0000,  0.0000, -0.0007,  ...,  0.0000,  0.0000, -0.0007],\n",
       "           [ 0.0069,  0.0000,  0.0000,  ...,  0.0000,  0.0000,  0.0000]]]),\n",
       "  tensor([[[ 0.0000,  0.0093,  0.0000,  ..., -0.0033,  0.0000,  0.0000],\n",
       "           [ 0.0000,  0.0009,  0.0000,  ...,  0.0000,  0.0000,  0.0000],\n",
       "           [ 0.0000,  0.0000,  0.0000,  ...,  0.0000,  0.0000,  0.0000],\n",
       "           ...,\n",
       "           [ 0.0000,  0.0000,  0.0000,  ..., -0.0007,  0.0000,  0.0000],\n",
       "           [ 0.0000,  0.0000,  0.0000,  ...,  0.0000,  0.0000,  0.0000],\n",
       "           [ 0.0000,  0.0000,  0.0000,  ...,  0.0000,  0.0000,  0.0000]]]),\n",
       "  tensor([[[ 0.0000,  0.0000,  0.0000,  ...,  0.0000,  0.0000,  0.0000],\n",
       "           [ 0.0043,  0.0000,  0.0000,  ...,  0.0000,  0.0000,  0.0000],\n",
       "           [ 0.0000,  0.0000,  0.0000,  ...,  0.0000,  0.0000, -0.0019],\n",
       "           ...,\n",
       "           [ 0.0000,  0.0000,  0.0000,  ...,  0.0000, -0.0083,  0.0000],\n",
       "           [ 0.0000,  0.0000,  0.0047,  ...,  0.0000, -0.0168,  0.0000],\n",
       "           [ 0.0000,  0.0000,  0.0000,  ...,  0.0000,  0.0000,  0.0000]]]),\n",
       "  tensor([[[ 0.0000e+00,  0.0000e+00,  8.9768e-05,  ...,  0.0000e+00,\n",
       "             0.0000e+00,  0.0000e+00],\n",
       "           [ 0.0000e+00,  0.0000e+00,  0.0000e+00,  ...,  0.0000e+00,\n",
       "             0.0000e+00,  0.0000e+00],\n",
       "           [-1.0629e-04,  0.0000e+00,  0.0000e+00,  ...,  0.0000e+00,\n",
       "             0.0000e+00,  0.0000e+00],\n",
       "           ...,\n",
       "           [ 0.0000e+00,  0.0000e+00,  0.0000e+00,  ...,  0.0000e+00,\n",
       "             0.0000e+00,  0.0000e+00],\n",
       "           [ 0.0000e+00,  0.0000e+00,  0.0000e+00,  ...,  0.0000e+00,\n",
       "             0.0000e+00,  0.0000e+00],\n",
       "           [ 0.0000e+00,  0.0000e+00,  0.0000e+00,  ...,  0.0000e+00,\n",
       "             0.0000e+00,  0.0000e+00]]]),\n",
       "  tensor([[[ 0.0000,  0.0000,  0.0000,  ...,  0.0000,  0.0000,  0.0000],\n",
       "           [ 0.0000,  0.0000,  0.0000,  ...,  0.0000,  0.0000,  0.0000],\n",
       "           [ 0.0000,  0.0004,  0.0000,  ...,  0.0000,  0.0000,  0.0000],\n",
       "           ...,\n",
       "           [ 0.0000,  0.0000,  0.0063,  ...,  0.0000,  0.0000,  0.0000],\n",
       "           [ 0.0000,  0.0000, -0.0024,  ...,  0.0000,  0.0000,  0.0000],\n",
       "           [ 0.0000,  0.0002,  0.0000,  ...,  0.0000,  0.0000,  0.0000]]]),\n",
       "  tensor([[[ 0.0000,  0.0000,  0.0000,  ...,  0.0000,  0.0000,  0.0000],\n",
       "           [ 0.0000,  0.0000,  0.0000,  ...,  0.0000,  0.0000,  0.0000],\n",
       "           [ 0.0000,  0.0000, -0.0047,  ...,  0.0000,  0.0000,  0.0000],\n",
       "           ...,\n",
       "           [ 0.0000,  0.0000,  0.0000,  ...,  0.0000,  0.0000,  0.0000],\n",
       "           [ 0.0000,  0.0000,  0.0000,  ...,  0.0000,  0.0000,  0.0000],\n",
       "           [ 0.0000,  0.0000,  0.0000,  ...,  0.0000,  0.0000,  0.0000]]]),\n",
       "  tensor([[[ 0.0000,  0.0000,  0.0000,  ...,  0.0000,  0.0000,  0.0000],\n",
       "           [-0.0002,  0.0000,  0.0000,  ...,  0.0000,  0.0000,  0.0000],\n",
       "           [ 0.0000,  0.0000,  0.0000,  ...,  0.0000,  0.0000,  0.0000],\n",
       "           ...,\n",
       "           [ 0.0000,  0.0000,  0.0000,  ...,  0.0000,  0.0000,  0.0000],\n",
       "           [ 0.0000,  0.0000,  0.0000,  ...,  0.0000,  0.0000,  0.0000],\n",
       "           [ 0.0000,  0.0000,  0.0000,  ...,  0.0000,  0.0000,  0.0000]]]),\n",
       "  tensor([[[0., 0., 0.,  ..., 0., 0., 0.],\n",
       "           [0., 0., 0.,  ..., 0., 0., 0.],\n",
       "           [0., 0., 0.,  ..., 0., 0., 0.],\n",
       "           ...,\n",
       "           [0., 0., 0.,  ..., 0., 0., 0.],\n",
       "           [0., 0., 0.,  ..., 0., 0., 0.],\n",
       "           [0., 0., 0.,  ..., 0., 0., 0.]]]),\n",
       "  tensor([[[ 0.0000,  0.0000,  0.0000,  ...,  0.0000,  0.0000,  0.0000],\n",
       "           [ 0.0000,  0.0000, -0.0009,  ...,  0.0000,  0.0000,  0.0000],\n",
       "           [ 0.0000,  0.0000,  0.0000,  ...,  0.0000,  0.0000,  0.0000],\n",
       "           ...,\n",
       "           [ 0.0010,  0.0000,  0.0017,  ...,  0.0000,  0.0000,  0.0000],\n",
       "           [ 0.0000,  0.0000,  0.0000,  ...,  0.0000,  0.0000,  0.0000],\n",
       "           [ 0.0000,  0.0000,  0.0000,  ...,  0.0000,  0.0000,  0.0000]]]),\n",
       "  tensor([[[0., 0., 0.,  ..., 0., 0., 0.],\n",
       "           [0., 0., 0.,  ..., 0., 0., 0.],\n",
       "           [0., 0., 0.,  ..., 0., 0., 0.],\n",
       "           ...,\n",
       "           [0., 0., 0.,  ..., 0., 0., 0.],\n",
       "           [0., 0., 0.,  ..., 0., 0., 0.],\n",
       "           [0., 0., 0.,  ..., 0., 0., 0.]]]),\n",
       "  tensor([[[0.0000, 0.0000, 0.0000,  ..., 0.0000, 0.0000, 0.0000],\n",
       "           [0.0000, 0.0000, 0.0000,  ..., 0.0000, 0.0000, 0.0000],\n",
       "           [0.0000, 0.0000, 0.0000,  ..., 0.0000, 0.0000, 0.0000],\n",
       "           ...,\n",
       "           [0.0000, 0.0000, 0.0000,  ..., 0.0000, 0.0000, 0.0000],\n",
       "           [0.0000, 0.0000, 0.0000,  ..., 0.0000, 0.0008, 0.0000],\n",
       "           [0.0000, 0.0000, 0.0000,  ..., 0.0000, 0.0000, 0.0008]]]),\n",
       "  tensor([[[0., 0., 0.,  ..., 0., 0., 0.],\n",
       "           [0., 0., 0.,  ..., 0., 0., 0.],\n",
       "           [0., 0., 0.,  ..., 0., 0., 0.],\n",
       "           ...,\n",
       "           [0., 0., 0.,  ..., 0., 0., 0.],\n",
       "           [0., 0., 0.,  ..., 0., 0., 0.],\n",
       "           [0., 0., 0.,  ..., 0., 0., 0.]]]),\n",
       "  tensor([[[ 0.0012,  0.0000,  0.0000,  ...,  0.0000,  0.0000,  0.0000],\n",
       "           [ 0.0000,  0.0000,  0.0000,  ...,  0.0000,  0.0000,  0.0003],\n",
       "           [ 0.0000,  0.0000,  0.0000,  ...,  0.0000,  0.0000,  0.0000],\n",
       "           ...,\n",
       "           [ 0.0000,  0.0000,  0.0000,  ..., -0.0046,  0.0000,  0.0000],\n",
       "           [ 0.0000,  0.0000,  0.0000,  ...,  0.0000,  0.0000,  0.0000],\n",
       "           [ 0.0000,  0.0000,  0.0000,  ...,  0.0000,  0.0000,  0.0000]]]),\n",
       "  tensor([[[0.0000, 0.0000, 0.0000,  ..., 0.0000, 0.0000, 0.0000],\n",
       "           [0.0000, 0.0000, 0.0000,  ..., 0.0000, 0.0164, 0.0000],\n",
       "           [0.0000, 0.0000, 0.0000,  ..., 0.0000, 0.0000, 0.0000],\n",
       "           ...,\n",
       "           [0.0000, 0.0000, 0.0000,  ..., 0.0000, 0.0000, 0.0000],\n",
       "           [0.0000, 0.0000, 0.0000,  ..., 0.0000, 0.0000, 0.0000],\n",
       "           [0.0000, 0.0000, 0.0000,  ..., 0.0000, 0.0000, 0.0000]]]),\n",
       "  tensor([[[ 0.0000,  0.0000,  0.0000,  ...,  0.0000,  0.0000, -0.0037],\n",
       "           [ 0.0000,  0.0000,  0.0000,  ...,  0.0000,  0.0000,  0.0000],\n",
       "           [ 0.0000, -0.0015,  0.0000,  ...,  0.0000,  0.0000,  0.0000],\n",
       "           ...,\n",
       "           [ 0.0000,  0.0000,  0.0000,  ...,  0.0000,  0.0000,  0.0000],\n",
       "           [ 0.0000,  0.0000,  0.0000,  ...,  0.0000,  0.0000,  0.0000],\n",
       "           [ 0.0000,  0.0000,  0.0000,  ...,  0.0000,  0.0000,  0.0000]]]),\n",
       "  tensor([[[ 0.0000,  0.0000,  0.0000,  ...,  0.0000,  0.0000,  0.0000],\n",
       "           [ 0.0000,  0.0000,  0.0000,  ...,  0.0000,  0.0000, -0.0029],\n",
       "           [ 0.0000,  0.0000,  0.0000,  ...,  0.0000,  0.0000,  0.0000],\n",
       "           ...,\n",
       "           [ 0.0000,  0.0000,  0.0000,  ...,  0.0050,  0.0000,  0.0000],\n",
       "           [ 0.0000,  0.0000,  0.0000,  ...,  0.0000,  0.0000,  0.0000],\n",
       "           [ 0.0000,  0.0000,  0.0000,  ...,  0.0000,  0.0000,  0.0000]]]),\n",
       "  tensor([[[0., 0., 0.,  ..., 0., 0., 0.],\n",
       "           [0., 0., 0.,  ..., 0., 0., 0.],\n",
       "           [0., 0., 0.,  ..., 0., 0., 0.],\n",
       "           ...,\n",
       "           [0., 0., 0.,  ..., 0., 0., 0.],\n",
       "           [0., 0., 0.,  ..., 0., 0., 0.],\n",
       "           [0., 0., 0.,  ..., 0., 0., 0.]]]),\n",
       "  tensor([[[ 0.0000e+00,  0.0000e+00,  0.0000e+00,  ...,  0.0000e+00,\n",
       "             0.0000e+00,  0.0000e+00],\n",
       "           [-4.1542e-03,  0.0000e+00,  0.0000e+00,  ...,  0.0000e+00,\n",
       "             0.0000e+00,  0.0000e+00],\n",
       "           [ 0.0000e+00,  0.0000e+00,  0.0000e+00,  ...,  0.0000e+00,\n",
       "             0.0000e+00,  0.0000e+00],\n",
       "           ...,\n",
       "           [ 0.0000e+00,  0.0000e+00,  0.0000e+00,  ...,  0.0000e+00,\n",
       "             0.0000e+00,  0.0000e+00],\n",
       "           [ 0.0000e+00,  0.0000e+00,  0.0000e+00,  ...,  0.0000e+00,\n",
       "             0.0000e+00,  0.0000e+00],\n",
       "           [-4.0506e-03,  0.0000e+00,  0.0000e+00,  ...,  4.1273e-05,\n",
       "             0.0000e+00,  0.0000e+00]]]),\n",
       "  tensor([[[ 0.0000,  0.0000,  0.0000,  ...,  0.0000,  0.0000,  0.0000],\n",
       "           [ 0.0000, -0.0051,  0.0000,  ..., -0.0015,  0.0000,  0.0000],\n",
       "           [ 0.0000,  0.0000, -0.0040,  ...,  0.0000,  0.0000,  0.0000],\n",
       "           ...,\n",
       "           [ 0.0000,  0.0000,  0.0000,  ...,  0.0000,  0.0053,  0.0000],\n",
       "           [ 0.0000,  0.0000,  0.0000,  ...,  0.0000,  0.0000,  0.0000],\n",
       "           [ 0.0000,  0.0000,  0.0000,  ...,  0.0000,  0.0000,  0.0000]]]),\n",
       "  tensor([[[0., 0., 0.,  ..., 0., 0., 0.],\n",
       "           [0., 0., 0.,  ..., 0., 0., 0.],\n",
       "           [0., 0., 0.,  ..., 0., 0., 0.],\n",
       "           ...,\n",
       "           [0., 0., 0.,  ..., 0., 0., 0.],\n",
       "           [0., 0., 0.,  ..., 0., 0., 0.],\n",
       "           [0., 0., 0.,  ..., 0., 0., 0.]]]),\n",
       "  tensor([[[0.0000, 0.0000, 0.0000,  ..., 0.0000, 0.0000, 0.0000],\n",
       "           [0.0000, 0.0000, 0.0000,  ..., 0.0006, 0.0000, 0.0000],\n",
       "           [0.0000, 0.0000, 0.0000,  ..., 0.0000, 0.0000, 0.0000],\n",
       "           ...,\n",
       "           [0.0000, 0.0000, 0.0000,  ..., 0.0000, 0.0000, 0.0000],\n",
       "           [0.0000, 0.0000, 0.0000,  ..., 0.0000, 0.0000, 0.0000],\n",
       "           [0.0000, 0.0000, 0.0000,  ..., 0.0000, 0.0000, 0.0000]]]),\n",
       "  tensor([[[ 0.0000,  0.0000, -0.0022,  ...,  0.0000,  0.0000,  0.0000],\n",
       "           [ 0.0000,  0.0000,  0.0000,  ...,  0.0000,  0.0005,  0.0000],\n",
       "           [ 0.0000,  0.0000,  0.0000,  ...,  0.0000,  0.0000,  0.0000],\n",
       "           ...,\n",
       "           [ 0.0000,  0.0000,  0.0000,  ...,  0.0000,  0.0000,  0.0000],\n",
       "           [ 0.0000,  0.0000,  0.0000,  ...,  0.0000,  0.0000,  0.0031],\n",
       "           [ 0.0000,  0.0000,  0.0073,  ...,  0.0000,  0.0000,  0.0000]]]),\n",
       "  tensor([[[0.0000, 0.0000, 0.0000,  ..., 0.0000, 0.0009, 0.0000],\n",
       "           [0.0000, 0.0000, 0.0000,  ..., 0.0000, 0.0000, 0.0000],\n",
       "           [0.0000, 0.0000, 0.0000,  ..., 0.0000, 0.0000, 0.0000],\n",
       "           ...,\n",
       "           [0.0000, 0.0000, 0.0000,  ..., 0.0000, 0.0000, 0.0000],\n",
       "           [0.0000, 0.0000, 0.0000,  ..., 0.0000, 0.0000, 0.0000],\n",
       "           [0.0000, 0.0000, 0.0000,  ..., 0.0000, 0.0000, 0.0000]]]),\n",
       "  tensor([[[ 0.0000,  0.0000,  0.0000,  ..., -0.0019,  0.0000,  0.0016],\n",
       "           [ 0.0000,  0.0000,  0.0000,  ...,  0.0000,  0.0000,  0.0000],\n",
       "           [ 0.0000,  0.0000,  0.0000,  ...,  0.0000,  0.0000,  0.0000],\n",
       "           ...,\n",
       "           [ 0.0000,  0.0000,  0.0000,  ...,  0.0000,  0.0000,  0.0000],\n",
       "           [ 0.0000,  0.0000,  0.0000,  ...,  0.0000,  0.0000,  0.0000],\n",
       "           [-0.0028,  0.0000,  0.0000,  ...,  0.0000,  0.0000,  0.0000]]]),\n",
       "  tensor([[[ 0.0000,  0.0000,  0.0000,  ...,  0.0000,  0.0000,  0.0000],\n",
       "           [ 0.0000,  0.0000,  0.0000,  ...,  0.0000,  0.0000,  0.0000],\n",
       "           [ 0.0000,  0.0000,  0.0000,  ...,  0.0000,  0.0000,  0.0000],\n",
       "           ...,\n",
       "           [ 0.0000,  0.0000,  0.0000,  ...,  0.0000,  0.0000,  0.0000],\n",
       "           [ 0.0000,  0.0000,  0.0000,  ...,  0.0000,  0.0000,  0.0000],\n",
       "           [ 0.0000,  0.0000,  0.0000,  ...,  0.0000, -0.0039,  0.0000]]]),\n",
       "  tensor([[[0., 0., 0.,  ..., 0., 0., 0.],\n",
       "           [0., 0., 0.,  ..., 0., 0., 0.],\n",
       "           [0., 0., 0.,  ..., 0., 0., 0.],\n",
       "           ...,\n",
       "           [0., 0., 0.,  ..., 0., 0., 0.],\n",
       "           [0., 0., 0.,  ..., 0., 0., 0.],\n",
       "           [0., 0., 0.,  ..., 0., 0., 0.]]]),\n",
       "  tensor([[[0., 0., 0.,  ..., 0., 0., 0.],\n",
       "           [0., 0., 0.,  ..., 0., 0., 0.],\n",
       "           [0., 0., 0.,  ..., 0., 0., 0.],\n",
       "           ...,\n",
       "           [0., 0., 0.,  ..., 0., 0., 0.],\n",
       "           [0., 0., 0.,  ..., 0., 0., 0.],\n",
       "           [0., 0., 0.,  ..., 0., 0., 0.]]]),\n",
       "  tensor([[[ 0.0000, -0.0007,  0.0000,  ...,  0.0000,  0.0000,  0.0000],\n",
       "           [ 0.0000,  0.0000,  0.0000,  ...,  0.0000,  0.0000,  0.0000],\n",
       "           [ 0.0000,  0.0000,  0.0000,  ...,  0.0000,  0.0000,  0.0000],\n",
       "           ...,\n",
       "           [ 0.0000,  0.0000,  0.0000,  ...,  0.0000,  0.0000,  0.0000],\n",
       "           [ 0.0000,  0.0000,  0.0000,  ...,  0.0000,  0.0000,  0.0000],\n",
       "           [ 0.0000,  0.0000,  0.0000,  ...,  0.0000,  0.0000,  0.0000]]]),\n",
       "  tensor([[[ 0.0000,  0.0000,  0.0000,  ...,  0.0041,  0.0000,  0.0000],\n",
       "           [ 0.0000, -0.0043,  0.0000,  ...,  0.0042,  0.0000,  0.0000],\n",
       "           [ 0.0000,  0.0000,  0.0000,  ...,  0.0000,  0.0012,  0.0000],\n",
       "           ...,\n",
       "           [ 0.0000,  0.0000,  0.0000,  ...,  0.0000,  0.0000,  0.0000],\n",
       "           [ 0.0000,  0.0000,  0.0000,  ...,  0.0000,  0.0000,  0.0000],\n",
       "           [-0.0038,  0.0000,  0.0000,  ...,  0.0000,  0.0000,  0.0000]]]),\n",
       "  tensor([[[0.0000, 0.0000, 0.0000,  ..., 0.0000, 0.0000, 0.0000],\n",
       "           [0.0000, 0.0000, 0.0000,  ..., 0.0000, 0.0000, 0.0000],\n",
       "           [0.0000, 0.0000, 0.0000,  ..., 0.0000, 0.0000, 0.0000],\n",
       "           ...,\n",
       "           [0.0000, 0.0000, 0.0005,  ..., 0.0000, 0.0000, 0.0000],\n",
       "           [0.0000, 0.0000, 0.0000,  ..., 0.0000, 0.0000, 0.0000],\n",
       "           [0.0000, 0.0000, 0.0000,  ..., 0.0000, 0.0000, 0.0000]]]),\n",
       "  tensor([[[0.0000, 0.0000, 0.0000,  ..., 0.0000, 0.0000, 0.0000],\n",
       "           [0.0000, 0.0000, 0.0000,  ..., 0.0000, 0.0000, 0.0000],\n",
       "           [0.0000, 0.0000, 0.0000,  ..., 0.0000, 0.0000, 0.0000],\n",
       "           ...,\n",
       "           [0.0000, 0.0000, 0.0000,  ..., 0.0000, 0.0000, 0.0000],\n",
       "           [0.0000, 0.0017, 0.0000,  ..., 0.0000, 0.0000, 0.0000],\n",
       "           [0.0000, 0.0012, 0.0000,  ..., 0.0000, 0.0000, 0.0000]]]),\n",
       "  tensor([[[ 0.0000,  0.0000,  0.0000,  ...,  0.0000,  0.0000,  0.0000],\n",
       "           [ 0.0000,  0.0000,  0.0000,  ...,  0.0036, -0.0003,  0.0000],\n",
       "           [ 0.0000,  0.0000,  0.0000,  ...,  0.0000,  0.0000,  0.0000],\n",
       "           ...,\n",
       "           [ 0.0000,  0.0000,  0.0000,  ...,  0.0000,  0.0000,  0.0000],\n",
       "           [ 0.0000,  0.0000, -0.0057,  ...,  0.0000,  0.0000,  0.0000],\n",
       "           [ 0.0000,  0.0000,  0.0000,  ...,  0.0000,  0.0000,  0.0000]]]),\n",
       "  tensor([[[0., 0., 0.,  ..., 0., 0., 0.],\n",
       "           [0., 0., 0.,  ..., 0., 0., 0.],\n",
       "           [0., 0., 0.,  ..., 0., 0., 0.],\n",
       "           ...,\n",
       "           [0., 0., 0.,  ..., 0., 0., 0.],\n",
       "           [0., 0., 0.,  ..., 0., 0., 0.],\n",
       "           [0., 0., 0.,  ..., 0., 0., 0.]]]),\n",
       "  tensor([[[ 0.0000,  0.0000,  0.0000,  ...,  0.0000,  0.0000,  0.0000],\n",
       "           [ 0.0000,  0.0000, -0.0079,  ...,  0.0000,  0.0000,  0.0000],\n",
       "           [ 0.0116,  0.0000,  0.0000,  ...,  0.0000,  0.0000,  0.0000],\n",
       "           ...,\n",
       "           [ 0.0000,  0.0011,  0.0000,  ...,  0.0000,  0.0000,  0.0000],\n",
       "           [ 0.0000,  0.0000,  0.0000,  ...,  0.0000,  0.0000,  0.0000],\n",
       "           [ 0.0000,  0.0000,  0.0000,  ...,  0.0000,  0.0000,  0.0000]]]),\n",
       "  tensor([[[0., 0., 0.,  ..., 0., 0., 0.],\n",
       "           [0., 0., 0.,  ..., 0., 0., 0.],\n",
       "           [0., 0., 0.,  ..., 0., 0., 0.],\n",
       "           ...,\n",
       "           [0., 0., 0.,  ..., 0., 0., 0.],\n",
       "           [0., 0., 0.,  ..., 0., 0., 0.],\n",
       "           [0., 0., 0.,  ..., 0., 0., 0.]]]),\n",
       "  tensor([[[0.0000, 0.0000, 0.0000,  ..., 0.0000, 0.0000, 0.0000],\n",
       "           [0.0000, 0.0000, 0.0000,  ..., 0.0000, 0.0000, 0.0000],\n",
       "           [0.0000, 0.0029, 0.0000,  ..., 0.0000, 0.0000, 0.0000],\n",
       "           ...,\n",
       "           [0.0000, 0.0000, 0.0027,  ..., 0.0000, 0.0000, 0.0000],\n",
       "           [0.0000, 0.0000, 0.0000,  ..., 0.0000, 0.0000, 0.0000],\n",
       "           [0.0000, 0.0000, 0.0000,  ..., 0.0000, 0.0000, 0.0000]]]),\n",
       "  tensor([[[ 0.0000,  0.0000,  0.0000,  ..., -0.0001,  0.0000,  0.0000],\n",
       "           [ 0.0000,  0.0000,  0.0000,  ...,  0.0000,  0.0000,  0.0000],\n",
       "           [ 0.0000,  0.0000,  0.0000,  ...,  0.0000,  0.0000,  0.0000],\n",
       "           ...,\n",
       "           [ 0.0007,  0.0000,  0.0000,  ...,  0.0000,  0.0000,  0.0009],\n",
       "           [ 0.0000,  0.0000,  0.0000,  ...,  0.0000,  0.0000,  0.0000],\n",
       "           [ 0.0000,  0.0000,  0.0000,  ...,  0.0000,  0.0000,  0.0000]]]),\n",
       "  tensor([[[0., 0., 0.,  ..., 0., 0., 0.],\n",
       "           [0., 0., 0.,  ..., 0., 0., 0.],\n",
       "           [0., 0., 0.,  ..., 0., 0., 0.],\n",
       "           ...,\n",
       "           [0., 0., 0.,  ..., 0., 0., 0.],\n",
       "           [0., 0., 0.,  ..., 0., 0., 0.],\n",
       "           [0., 0., 0.,  ..., 0., 0., 0.]]]),\n",
       "  tensor([[[ 0.0000,  0.0000,  0.0000,  ...,  0.0000,  0.0000,  0.0000],\n",
       "           [ 0.0000,  0.0000,  0.0000,  ...,  0.0000,  0.0000,  0.0000],\n",
       "           [ 0.0000,  0.0000,  0.0000,  ...,  0.0000,  0.0000,  0.0000],\n",
       "           ...,\n",
       "           [ 0.0000, -0.0016,  0.0000,  ...,  0.0000,  0.0000,  0.0000],\n",
       "           [ 0.0000,  0.0000,  0.0000,  ...,  0.0092,  0.0000,  0.0000],\n",
       "           [ 0.0000, -0.0014,  0.0000,  ...,  0.0000,  0.0000,  0.0000]]]),\n",
       "  tensor([[[0., 0., 0.,  ..., 0., 0., 0.],\n",
       "           [0., 0., 0.,  ..., 0., 0., 0.],\n",
       "           [0., 0., 0.,  ..., 0., 0., 0.],\n",
       "           ...,\n",
       "           [0., 0., 0.,  ..., 0., 0., 0.],\n",
       "           [0., 0., 0.,  ..., 0., 0., 0.],\n",
       "           [0., 0., 0.,  ..., 0., 0., 0.]]]),\n",
       "  tensor([[[ 0.0000,  0.0000,  0.0000,  ...,  0.0000,  0.0000,  0.0000],\n",
       "           [ 0.0000,  0.0000,  0.0038,  ...,  0.0000,  0.0046,  0.0000],\n",
       "           [ 0.0000,  0.0000,  0.0000,  ...,  0.0000,  0.0000,  0.0000],\n",
       "           ...,\n",
       "           [ 0.0000, -0.0056,  0.0000,  ...,  0.0000,  0.0000,  0.0000],\n",
       "           [ 0.0123,  0.0000,  0.0000,  ...,  0.0000,  0.0000,  0.0000],\n",
       "           [ 0.0000,  0.0000,  0.0000,  ...,  0.0000,  0.0000,  0.0000]]]),\n",
       "  tensor([[[ 0.0000,  0.0000,  0.0000,  ...,  0.0000,  0.0000,  0.0000],\n",
       "           [ 0.0000,  0.0000,  0.0000,  ...,  0.0000,  0.0000,  0.0000],\n",
       "           [ 0.0000,  0.0000,  0.0000,  ...,  0.0000,  0.0000,  0.0000],\n",
       "           ...,\n",
       "           [ 0.0000,  0.0000,  0.0000,  ...,  0.0000,  0.0000,  0.0000],\n",
       "           [ 0.0000,  0.0000,  0.0000,  ...,  0.0000,  0.0000, -0.0084],\n",
       "           [ 0.0000,  0.0000,  0.0000,  ...,  0.0000,  0.0000,  0.0000]]]),\n",
       "  tensor([[[0., 0., 0.,  ..., 0., 0., 0.],\n",
       "           [0., 0., 0.,  ..., 0., 0., 0.],\n",
       "           [0., 0., 0.,  ..., 0., 0., 0.],\n",
       "           ...,\n",
       "           [0., 0., 0.,  ..., 0., 0., 0.],\n",
       "           [0., 0., 0.,  ..., 0., 0., 0.],\n",
       "           [0., 0., 0.,  ..., 0., 0., 0.]]])],\n",
       " 'conti_attr_list': [tensor([-0.1467, -0.0370,  0.0575, -0.0475, -0.0463,  0.1969,  0.0827, -0.0557,\n",
       "          -0.1787, -0.1888, -0.0431,  0.0142, -0.2605,  0.0620,  0.0006, -0.2263,\n",
       "           0.0032,  0.0490, -0.0368,  0.0391, -0.0868, -0.1155, -0.0821,  0.1339,\n",
       "           0.0693,  0.1809,  0.1490,  0.1548,  0.1088, -0.1626, -0.0814, -0.1186,\n",
       "          -0.0094,  0.0768, -0.1222,  0.0280, -0.1724,  0.2957,  0.0101,  0.2062,\n",
       "           0.0006,  0.1266, -0.0576, -0.0652, -0.2034, -0.0867, -0.1988, -0.1132,\n",
       "          -0.3260, -0.0349, -0.3493, -0.0280]),\n",
       "  tensor([-0.1497, -0.1597,  0.1096,  0.0474,  0.4419,  0.2134, -0.0669, -0.0421,\n",
       "           0.1085, -0.0363,  0.0541, -0.3056,  0.0214, -0.1141,  0.0929,  0.0770,\n",
       "          -0.0009, -0.0399,  0.0777,  0.0049, -0.0553,  0.0322,  0.0472, -0.1308,\n",
       "          -0.0505,  0.0212, -0.0622, -0.1418, -0.0242, -0.1791, -0.1684,  0.0511,\n",
       "          -0.1129, -0.1216,  0.0779, -0.0401, -0.0778, -0.0091, -0.0706, -0.1879,\n",
       "          -0.0634, -0.0312, -0.0887,  0.2620, -0.0441,  0.0292, -0.0040,  0.0790,\n",
       "           0.2449, -0.0421, -0.1753,  0.0458, -0.0469, -0.0074, -0.0681,  0.0675,\n",
       "           0.1384, -0.0137,  0.0115, -0.0030,  0.0331, -0.0205, -0.0039,  0.1542,\n",
       "           0.0222,  0.2541,  0.1147,  0.1217, -0.0048]),\n",
       "  tensor([-0.0107, -0.0597,  0.1500, -0.0466, -0.0415, -0.0365,  0.2839,  0.0849,\n",
       "           0.2657, -0.0861, -0.1091,  0.1073, -0.0334,  0.3102,  0.1264,  0.1259,\n",
       "          -0.1700,  0.2511,  0.3088, -0.3665, -0.0493,  0.0733,  0.1006,  0.0128,\n",
       "          -0.1236, -0.1290, -0.0405,  0.2050,  0.1324,  0.1538, -0.0814,  0.0394,\n",
       "          -0.0477,  0.0933, -0.1113, -0.0037,  0.1580,  0.0543,  0.0070,  0.2249,\n",
       "           0.0897,  0.0843,  0.0351, -0.3348, -0.1928, -0.1062]),\n",
       "  tensor([-0.0248, -0.0874, -0.1044, -0.0795, -0.1679, -0.1215,  0.0605, -0.0389,\n",
       "          -0.0163,  0.0360, -0.0388, -0.0612,  0.1409, -0.1283,  0.0315, -0.0391,\n",
       "          -0.1422,  0.0291,  0.0827,  0.2631, -0.0811, -0.1489,  0.1071, -0.1601,\n",
       "          -0.0258, -0.0113, -0.0019,  0.1166, -0.0802, -0.2081, -0.0621, -0.1619,\n",
       "           0.0638, -0.0207, -0.1782,  0.1614,  0.2133, -0.1318, -0.2653,  0.0272,\n",
       "           0.0722,  0.1338,  0.5390,  0.2066]),\n",
       "  tensor([-0.2277, -0.1273, -0.0935, -0.1173,  0.0669, -0.1420, -0.1031,  0.2787,\n",
       "          -0.4440, -0.0850, -0.0867, -0.0028,  0.0312, -0.2530, -0.0105,  0.3615,\n",
       "           0.0113, -0.0803, -0.1567,  0.0147,  0.1171, -0.0467, -0.0268, -0.0424,\n",
       "           0.0226, -0.0100, -0.2050, -0.2071,  0.0393, -0.0718, -0.2473,  0.2291,\n",
       "           0.0253, -0.5257, -0.1227]),\n",
       "  tensor([-0.0067,  0.1936, -0.1713,  0.5106,  0.0157, -0.0906,  0.1143,  0.3439,\n",
       "           0.0377,  0.1657, -0.1020, -0.0598,  0.0344,  0.1306, -0.0831, -0.0124,\n",
       "           0.2274,  0.1961,  0.1712,  0.0116,  0.0508, -0.0847,  0.1266, -0.1435,\n",
       "          -0.0292,  0.1518,  0.3691, -0.0258, -0.1537,  0.1526,  0.0201, -0.0695,\n",
       "          -0.0436,  0.0903, -0.1017, -0.0471, -0.0592, -0.2263, -0.0872,  0.0713,\n",
       "          -0.0158,  0.0435, -0.0961, -0.1194]),\n",
       "  tensor([-0.6194,  0.1409,  0.0934,  0.4309,  0.1545,  0.0200,  0.0771, -0.1279,\n",
       "           0.0066, -0.1169, -0.0081, -0.1691, -0.0071, -0.2041, -0.1621, -0.0199,\n",
       "           0.0839,  0.0131,  0.1040,  0.0161, -0.0292,  0.0186, -0.2288, -0.0524,\n",
       "          -0.0661,  0.3635,  0.0749]),\n",
       "  tensor([ 0.0028, -0.0199, -0.1119, -0.6154,  0.1929, -0.0965, -0.0359,  0.0443,\n",
       "          -0.1760,  0.5130,  0.0134, -0.0610, -0.2024, -0.3015, -0.0468, -0.1233,\n",
       "           0.2608,  0.2849, -0.0403, -0.2706,  0.1126]),\n",
       "  tensor([-0.2407, -0.1180, -0.3225,  0.0160, -0.0708,  0.2627, -0.0341,  0.1309,\n",
       "          -0.2946,  0.0026,  0.1655,  0.0007,  0.3265,  0.3126,  0.3027,  0.2194,\n",
       "           0.1453, -0.1803,  0.2006, -0.1611, -0.0087, -0.0504, -0.0782,  0.0396,\n",
       "           0.1000,  0.2101,  0.1026,  0.0479]),\n",
       "  tensor([-0.5168, -0.0325,  0.1308,  0.7569,  0.1715, -0.0542, -0.0243,  0.0136,\n",
       "          -0.1053, -0.0373, -0.0393, -0.0385,  0.1189,  0.0738, -0.0463, -0.0060,\n",
       "          -0.1491, -0.0620,  0.0476, -0.0057, -0.0273,  0.0598,  0.0542, -0.0437,\n",
       "           0.1275, -0.0118]),\n",
       "  tensor([-0.0520, -0.0451, -0.2677, -0.3367,  0.1581,  0.1215, -0.0688,  0.2898,\n",
       "           0.0603,  0.2614,  0.1218, -0.0516,  0.0369,  0.2913, -0.3223, -0.0772,\n",
       "          -0.0616,  0.1033,  0.0103,  0.0791, -0.0701, -0.0859, -0.0127,  0.0681,\n",
       "           0.1799, -0.0116,  0.0144,  0.0497,  0.0437,  0.0910,  0.0499,  0.0061,\n",
       "          -0.0874, -0.5794, -0.1162,  0.0477,  0.1689, -0.1881, -0.0737, -0.1308,\n",
       "           0.0703,  0.0267,  0.0324,  0.0720,  0.0046, -0.1223, -0.1699,  0.3861,\n",
       "           0.0862]),\n",
       "  tensor([-1.7067e-01,  9.6011e-02, -3.1550e-03,  4.6588e-01, -3.3107e-02,\n",
       "          -2.4392e-02, -4.9178e-03, -6.2560e-02,  2.9830e-02, -1.2134e-01,\n",
       "           6.6804e-02,  3.8734e-02, -1.7520e-02,  3.6624e-02, -4.3871e-02,\n",
       "           8.4931e-02,  3.0794e-03,  1.7571e-01, -1.9623e-01, -3.2364e-01,\n",
       "          -6.1260e-02,  1.3641e-01,  1.0500e-01, -2.7234e-02,  1.2972e-01,\n",
       "           2.7156e-02, -2.9904e-02,  1.7245e-01,  4.6959e-02, -2.6564e-02,\n",
       "           6.1061e-02, -9.6097e-02,  1.8238e-01,  1.3274e-02, -6.9633e-02,\n",
       "          -1.4677e-01, -8.1870e-02, -1.8260e-01, -8.5419e-02, -1.3640e-01,\n",
       "           8.7909e-02, -2.9906e-02, -1.4199e-01,  2.1570e-01,  6.6138e-04,\n",
       "           9.3976e-02, -9.5593e-02,  7.6636e-02, -1.4634e-01, -2.3279e-01,\n",
       "          -2.8137e-02, -8.1714e-05, -3.4419e-02, -1.1171e-01, -3.7247e-02,\n",
       "           2.2597e-01, -4.8304e-02,  6.7072e-02,  2.0166e-01,  6.5141e-02,\n",
       "          -7.9686e-03,  3.4982e-02,  1.0599e-01, -7.3731e-02,  2.6504e-02,\n",
       "           1.2460e-01, -1.1229e-01]),\n",
       "  tensor([-3.4218e-01, -2.1450e-01, -2.1829e-02,  1.5053e-02,  4.1129e-02,\n",
       "           2.3485e-01, -5.0528e-02, -2.4775e-02,  2.7950e-01,  1.0057e-01,\n",
       "          -4.0412e-02,  1.3814e-01,  1.2740e-01, -1.1914e-01, -4.5577e-03,\n",
       "           3.6208e-02,  4.1529e-01,  7.8080e-03,  5.7668e-02,  3.0410e-01,\n",
       "          -3.5066e-02, -1.0955e-01,  2.1564e-02,  7.1906e-02,  1.0244e-01,\n",
       "           2.8841e-02, -8.9824e-02, -1.1751e-01, -1.0651e-01,  1.0426e-02,\n",
       "          -1.9094e-01,  1.1925e-01, -1.4671e-02, -1.8145e-01, -1.3001e-01,\n",
       "          -4.3184e-02,  1.1414e-01, -6.9429e-02, -4.1424e-02, -7.1846e-05,\n",
       "           1.1187e-01,  1.1726e-01, -2.6396e-02,  1.5572e-01,  1.2968e-01]),\n",
       "  tensor([-0.0026,  0.1812,  0.0136,  0.0372,  0.2397,  0.0894,  0.0689,  0.1078,\n",
       "           0.1115, -0.0601,  0.1594, -0.0421, -0.0933,  0.0636,  0.1324,  0.0227,\n",
       "          -0.0141,  0.0575,  0.1434,  0.1327,  0.0357,  0.0084, -0.0058, -0.2003,\n",
       "          -0.0480, -0.0881, -0.1267, -0.1784,  0.0823,  0.0318,  0.1086,  0.1049,\n",
       "           0.2800, -0.2729, -0.0675, -0.3558,  0.3619, -0.0396]),\n",
       "  tensor([ 0.2003, -0.1798, -0.3021,  0.0344, -0.1828,  0.0669,  0.0099, -0.0246,\n",
       "          -0.1604,  0.0358, -0.0938, -0.2670, -0.1539,  0.1943,  0.0299,  0.2077,\n",
       "           0.1797,  0.0183, -0.1011, -0.0694,  0.1750,  0.1488,  0.1342, -0.0208,\n",
       "          -0.0618, -0.3725, -0.1177,  0.0714,  0.0824,  0.0623, -0.0251,  0.1641,\n",
       "           0.0089, -0.0669,  0.0300,  0.1565, -0.1321,  0.0126,  0.0890,  0.0166,\n",
       "          -0.1313,  0.0467,  0.2084, -0.2183, -0.1733, -0.0526,  0.1809, -0.0971,\n",
       "          -0.1442,  0.0110, -0.0295, -0.0302,  0.1292,  0.0169]),\n",
       "  tensor([ 0.0405,  0.0016,  0.0594, -0.0054,  0.5730,  0.3412,  0.1427,  0.0634,\n",
       "           0.1718, -0.1288, -0.0421,  0.0076, -0.0080, -0.2839, -0.0640, -0.2098,\n",
       "           0.0883,  0.0115,  0.0612, -0.0728,  0.0072,  0.1111, -0.1015,  0.3784,\n",
       "           0.0979,  0.2843, -0.0148, -0.0752, -0.0396,  0.0253,  0.0194,  0.0586,\n",
       "          -0.0253,  0.3009,  0.0220, -0.0225,  0.0128, -0.0140,  0.3198, -0.0203,\n",
       "           0.1488, -0.1482, -0.1245, -0.0398,  0.0487, -0.1095,  0.0415,  0.0286,\n",
       "           0.1099, -0.0447, -0.0651]),\n",
       "  tensor([-7.1899e-01,  1.6561e-01,  6.5109e-02,  6.9808e-03,  8.7534e-02,\n",
       "           5.9471e-03,  2.9960e-02,  8.8726e-02,  3.6760e-01, -2.6085e-01,\n",
       "           1.1789e-01,  2.6242e-02,  1.1430e-01, -3.4493e-02, -2.6255e-03,\n",
       "           2.5786e-02,  3.0879e-01, -1.1801e-01, -1.4982e-01, -1.4947e-02,\n",
       "           4.4692e-02, -1.7123e-02,  5.3325e-04,  4.7635e-02,  8.8261e-02,\n",
       "          -3.4500e-05, -7.5692e-02, -4.2414e-02, -1.1712e-01,  0.0000e+00,\n",
       "          -1.7443e-01,  8.5758e-02, -5.8534e-02,  6.6403e-02, -9.2957e-02,\n",
       "           8.8370e-03, -7.0134e-02]),\n",
       "  tensor([-0.3520, -0.0582, -0.1930, -0.1202, -0.0746,  0.2126, -0.1745, -0.0582,\n",
       "           0.0895, -0.1382,  0.0641,  0.2805, -0.0617,  0.1451, -0.1011,  0.0145,\n",
       "          -0.2896,  0.0427, -0.2485,  0.0849,  0.0898,  0.1295,  0.0226,  0.1393,\n",
       "          -0.0382, -0.0490,  0.0502,  0.0907, -0.1202,  0.0771, -0.1328,  0.0894,\n",
       "           0.2050,  0.0496,  0.0610,  0.5548,  0.0586, -0.0761, -0.1078, -0.0760,\n",
       "           0.0525,  0.0536,  0.1673, -0.0237,  0.0748,  0.0263, -0.0718,  0.1126]),\n",
       "  tensor([0., 0., 0., 0., 0., 0., 0., 0., 0., 0., 0., 0., 0., 0., 0., 0., 0., 0., 0., 0., 0., 0., 0., 0.,\n",
       "          0., 0., 0., 0., 0., 0., 0., 0., 0., 0., 0., 0., 0., 0., 0.]),\n",
       "  tensor([-7.0692e-01, -4.4414e-02, -5.2329e-03, -1.2263e-01,  8.7609e-02,\n",
       "           3.5037e-02,  2.0416e-01,  7.3911e-02, -1.1113e-01, -8.2174e-02,\n",
       "           1.8138e-01,  3.0654e-02, -7.1167e-02,  3.1032e-01,  7.5612e-03,\n",
       "          -3.0264e-02,  5.8692e-02, -9.8312e-02, -4.2858e-02,  8.7145e-02,\n",
       "           1.5330e-02,  1.4439e-01,  3.5744e-01,  2.6496e-02, -9.6080e-02,\n",
       "           6.1993e-02,  1.9391e-01, -9.5325e-02, -8.0995e-02, -3.6205e-02,\n",
       "          -6.3360e-02, -8.4243e-02, -1.4567e-01,  9.2201e-02,  1.1440e-01,\n",
       "           6.9225e-02, -9.2243e-02, -1.5507e-02,  1.4602e-01, -1.0869e-01,\n",
       "          -5.4096e-02, -3.8521e-03,  2.1066e-02,  3.1444e-01,  5.5456e-02,\n",
       "           5.3591e-02,  9.5381e-05,  9.5676e-02, -8.9371e-02, -5.0727e-02,\n",
       "          -2.5923e-02]),\n",
       "  tensor([ 1.0878e-01, -2.8724e-02,  4.8595e-01, -4.5640e-02, -5.2346e-02,\n",
       "           1.5139e-01,  4.8169e-02, -1.4476e-01,  2.2981e-02,  3.8826e-01,\n",
       "           4.0556e-02, -1.8333e-01, -8.2780e-02,  5.4874e-02, -6.7375e-03,\n",
       "          -1.2856e-01, -9.4546e-02, -2.3961e-01, -1.2808e-05, -2.1710e-01,\n",
       "           1.0935e-01,  1.0426e-01, -7.7680e-02, -4.6957e-02,  2.1803e-01,\n",
       "           8.3845e-03,  3.4541e-01,  1.4258e-01,  5.0748e-02,  1.9142e-01,\n",
       "          -1.3151e-01, -5.8446e-02, -1.5865e-01, -5.3837e-02,  6.1883e-02,\n",
       "          -1.1127e-02, -1.0195e-01,  7.9245e-02,  1.1852e-01,  8.2116e-02]),\n",
       "  tensor([ 0.1134, -0.0935,  0.0169, -0.0986,  0.0181,  0.0013,  0.2309,  0.1884,\n",
       "           0.5079, -0.0610,  0.1740, -0.2033, -0.0032, -0.0836,  0.0769, -0.0514,\n",
       "           0.0405,  0.1119,  0.5243, -0.0893, -0.1643,  0.1306, -0.1753, -0.0189,\n",
       "           0.0024,  0.0361, -0.0344, -0.1273,  0.0084,  0.1058,  0.1073,  0.0417,\n",
       "           0.0667]),\n",
       "  tensor([-2.9722e-02,  1.2220e-01,  2.2387e-02,  7.8047e-01,  1.4958e-01,\n",
       "           2.8899e-01,  8.1658e-02,  3.9386e-04, -1.7178e-01,  1.7278e-01,\n",
       "          -4.3910e-02,  1.5415e-02, -2.1818e-01, -1.3099e-01,  2.0337e-02,\n",
       "           2.1209e-01, -1.9332e-01, -1.4014e-02,  1.0938e-01, -5.8923e-02,\n",
       "           3.4470e-01, -2.9617e-01, -3.5379e-02, -2.9015e-02, -3.7949e-02,\n",
       "           7.6885e-02,  2.1437e-02,  1.6061e-01,  1.9286e-01, -1.2795e-01,\n",
       "          -6.7890e-02,  1.0421e-01, -1.8513e-01, -1.5637e-01, -1.6344e-01,\n",
       "          -4.2069e-02, -1.1084e-01,  1.3744e-01,  1.5617e-01,  7.5910e-02,\n",
       "          -8.4406e-03]),\n",
       "  tensor([0., 0., 0., 0., 0., 0., 0., 0., 0., 0., 0., 0., 0., 0., 0., 0., 0., 0., 0., 0., 0., 0., 0., 0.,\n",
       "          0., 0., 0., 0., 0., 0., 0., 0., 0., 0., 0., 0.]),\n",
       "  tensor([-0.2225,  0.1010, -0.1549, -0.0006, -0.0202,  0.2861,  0.0986,  0.1360,\n",
       "           0.0787,  0.0839,  0.0521,  0.3580,  0.0714, -0.0278,  0.0540,  0.0075,\n",
       "          -0.0190,  0.1694, -0.1158,  0.1698, -0.0423, -0.0183, -0.1656, -0.1840,\n",
       "           0.3822,  0.1657, -0.0039, -0.1004,  0.0588, -0.0097, -0.2915, -0.0595,\n",
       "           0.1772,  0.1157,  0.1397, -0.1015, -0.1431, -0.1318, -0.1105, -0.1293,\n",
       "          -0.0906,  0.1103, -0.0190,  0.0112, -0.0100, -0.0540, -0.4282,  0.0978]),\n",
       "  tensor([-0.6143, -0.0671,  0.1085,  0.0882,  0.0350, -0.1629,  0.4474,  0.1604,\n",
       "          -0.0219,  0.0775, -0.1387,  0.0011,  0.1667,  0.0445,  0.0251, -0.0730,\n",
       "          -0.1082,  0.1260, -0.1883,  0.0584,  0.0665,  0.0752,  0.0759,  0.0534,\n",
       "          -0.0744, -0.2142, -0.0709, -0.0802,  0.0119,  0.0237,  0.0556, -0.1359,\n",
       "          -0.0989, -0.0735, -0.0392, -0.1090, -0.1598,  0.0760,  0.1230, -0.0134,\n",
       "           0.1476]),\n",
       "  tensor([ 0.0859, -0.1729,  0.0980,  0.0362, -0.1097,  0.0682,  0.2892,  0.1123,\n",
       "           0.0273, -0.0370, -0.0521,  0.1229, -0.2820, -0.0240, -0.1523,  0.0478,\n",
       "           0.0672, -0.1360, -0.1412, -0.1279, -0.2084,  0.1115, -0.1187,  0.0586,\n",
       "          -0.2287, -0.0713, -0.0903,  0.1545,  0.0726,  0.0666, -0.0665, -0.0650,\n",
       "          -0.1201,  0.1447,  0.1309, -0.1423,  0.0025,  0.1756, -0.0291, -0.2276,\n",
       "          -0.0812,  0.0160, -0.3503, -0.1839, -0.0231,  0.0457,  0.0188]),\n",
       "  tensor([ 0.0519, -0.1548, -0.0577, -0.1623,  0.1625, -0.0868, -0.0208,  0.1643,\n",
       "          -0.3757, -0.0377, -0.2986, -0.0651, -0.2294,  0.0916, -0.4004, -0.1243,\n",
       "          -0.1322,  0.2364,  0.0942,  0.0347,  0.0779, -0.2102, -0.0475,  0.0789,\n",
       "           0.4292,  0.0395, -0.0230,  0.3023, -0.1404, -0.1166,  0.0828, -0.2428,\n",
       "          -0.1803]),\n",
       "  tensor([-0.3415,  0.0266,  0.1679,  0.0437,  0.0737,  0.2406, -0.0410,  0.2322,\n",
       "           0.0777,  0.2456,  0.2069,  0.1209,  0.2895,  0.0288, -0.1763,  0.1437,\n",
       "          -0.1098, -0.0645, -0.0100, -0.0569,  0.1208, -0.2358, -0.1697, -0.2808,\n",
       "          -0.0392, -0.0206,  0.1371, -0.0713,  0.0892, -0.2028,  0.0599,  0.0559,\n",
       "           0.1564,  0.0834, -0.1011, -0.0570,  0.1379,  0.1796, -0.1455, -0.0030,\n",
       "           0.1030,  0.1243,  0.0296, -0.0311, -0.0378,  0.0694, -0.0339,  0.0302,\n",
       "          -0.0107]),\n",
       "  tensor([ 0.4679,  0.1048,  0.1086,  0.1495,  0.0758, -0.0507,  0.2325,  0.0439,\n",
       "           0.2299, -0.1983,  0.0395,  0.2125,  0.0371, -0.1711, -0.0760, -0.2271,\n",
       "          -0.0688,  0.1642, -0.0289,  0.0423,  0.0033, -0.0355,  0.3461,  0.0042,\n",
       "           0.0229, -0.0186,  0.0950,  0.0028, -0.2652,  0.0659, -0.1120, -0.0866,\n",
       "          -0.0774,  0.0203, -0.1254, -0.1286,  0.2704,  0.0749]),\n",
       "  tensor([-0.4490, -0.0458,  0.0981, -0.1131,  0.0992, -0.0031,  0.4771,  0.1961,\n",
       "          -0.0127,  0.2794, -0.0551,  0.1627, -0.0897,  0.1950, -0.0010,  0.3340,\n",
       "           0.0340,  0.0206, -0.1780,  0.0776, -0.0870, -0.3061, -0.0074, -0.0899,\n",
       "           0.0663, -0.0510]),\n",
       "  tensor([-0.4305, -0.0343,  0.0087,  0.0276,  0.3605,  0.2521,  0.0277,  0.0254,\n",
       "          -0.2080,  0.0703,  0.0253,  0.0680,  0.4019,  0.3419, -0.1704, -0.0550,\n",
       "          -0.0104,  0.0227, -0.0066, -0.1843, -0.2463, -0.0720,  0.0444, -0.0122,\n",
       "          -0.0199,  0.2183, -0.0482, -0.0405,  0.0569, -0.0067,  0.0419,  0.0209,\n",
       "           0.0415,  0.0529, -0.0531, -0.0592,  0.1052, -0.2612, -0.2347, -0.0379,\n",
       "           0.0366, -0.0599,  0.0396,  0.0744, -0.0284]),\n",
       "  tensor([-0.1341, -0.0353, -0.0651,  0.2290, -0.0246,  0.1317,  0.3141,  0.2998,\n",
       "           0.0463,  0.0603,  0.0249,  0.1200, -0.1139,  0.0538,  0.0213, -0.2070,\n",
       "           0.0790,  0.0280, -0.3017,  0.0992, -0.0257,  0.0738, -0.0161,  0.0605,\n",
       "          -0.1641,  0.0481, -0.1486,  0.1472,  0.1113,  0.0218,  0.1022, -0.0880,\n",
       "           0.0810,  0.0200,  0.0832,  0.0922,  0.0270, -0.0510, -0.0301, -0.0954,\n",
       "           0.1107, -0.1174,  0.1328,  0.0552,  0.1489, -0.0906,  0.0310,  0.0648,\n",
       "          -0.0969,  0.1061,  0.0077,  0.1196, -0.0255,  0.0661,  0.0516, -0.0366,\n",
       "          -0.3151, -0.0498,  0.0677, -0.0262, -0.0134, -0.0123,  0.0026, -0.0011,\n",
       "          -0.1123,  0.0637, -0.0670,  0.0008, -0.0046,  0.0102,  0.0501, -0.1435,\n",
       "          -0.0175,  0.0553,  0.0771, -0.0341, -0.0977, -0.0411,  0.0013,  0.0466]),\n",
       "  tensor([-0.4662, -0.1348,  0.0660,  0.1040,  0.0945,  0.2888,  0.0291,  0.0322,\n",
       "           0.0415,  0.0985, -0.2262, -0.0164, -0.0531, -0.1910,  0.1336, -0.0516,\n",
       "          -0.0433, -0.0974, -0.1100, -0.0908, -0.0710, -0.1040, -0.1311,  0.1047,\n",
       "           0.2595, -0.2047,  0.1011, -0.2857, -0.0569, -0.0304, -0.0697, -0.0627,\n",
       "           0.3542, -0.1595,  0.1973]),\n",
       "  tensor([-0.0126,  0.0563, -0.0416, -0.0371,  0.0048, -0.0084,  0.7078,  0.0565,\n",
       "          -0.0018,  0.0939,  0.0670,  0.0254, -0.0160, -0.1025,  0.0508,  0.0505,\n",
       "           0.0802,  0.0626, -0.0058,  0.1373,  0.0994,  0.0788, -0.1016, -0.0602,\n",
       "          -0.0513,  0.0148, -0.0556, -0.0176,  0.0297, -0.0451,  0.0673, -0.0799,\n",
       "           0.0483, -0.0509,  0.0104, -0.1070, -0.0126,  0.0231,  0.0310,  0.0253,\n",
       "          -0.0087,  0.0201, -0.0298,  0.1157, -0.0076, -0.0167, -0.1041,  0.0714,\n",
       "           0.0138, -0.0972,  0.1420,  0.1044,  0.0544,  0.0190,  0.0484, -0.1480,\n",
       "          -0.0799,  0.0063,  0.0630,  0.0068, -0.0764,  0.0211,  0.0090,  0.1021,\n",
       "           0.4982,  0.0187,  0.1292,  0.0275, -0.1293, -0.0704]),\n",
       "  tensor([-0.2121, -0.0357,  0.6338,  0.0608, -0.0572,  0.0012,  0.0947, -0.0712,\n",
       "           0.1002, -0.1507, -0.0953, -0.2145, -0.1806,  0.1062, -0.0817, -0.0233,\n",
       "           0.3583,  0.3185,  0.0558,  0.0146, -0.0833, -0.1223, -0.2692,  0.0138,\n",
       "          -0.0178, -0.1405,  0.0273, -0.1220, -0.0026,  0.1013,  0.0115,  0.0894]),\n",
       "  tensor([-0.0954,  0.0526,  0.0634,  0.2935, -0.0389, -0.0337,  0.7174, -0.0296,\n",
       "          -0.1269, -0.0660, -0.0581, -0.0439, -0.0597, -0.0548, -0.0486,  0.1147,\n",
       "           0.1460, -0.0170,  0.0605, -0.0013, -0.0808, -0.0188,  0.1084, -0.0113,\n",
       "           0.0374, -0.1271,  0.0073,  0.1313, -0.0896, -0.0890, -0.0181, -0.1876,\n",
       "           0.1783, -0.1456,  0.0959, -0.1373,  0.0197,  0.0258, -0.1777,  0.2701,\n",
       "           0.0349,  0.1306, -0.0677, -0.0731]),\n",
       "  tensor([-0.0783,  0.1218, -0.0069,  0.0115,  0.0502, -0.0826,  0.1280, -0.1684,\n",
       "           0.6170, -0.1037,  0.1095, -0.0711, -0.2508,  0.1521, -0.0998,  0.1395,\n",
       "           0.2526, -0.1012, -0.0642,  0.0425, -0.1295,  0.1190,  0.0609, -0.0845,\n",
       "           0.0121,  0.1074,  0.0104, -0.0150,  0.0206, -0.2281,  0.0591, -0.2216,\n",
       "           0.0107, -0.0481, -0.0970]),\n",
       "  tensor([-0.2511, -0.0403, -0.1147,  0.0694,  0.1680, -0.1755,  0.5694, -0.0730,\n",
       "           0.2800,  0.1750, -0.0905,  0.0533, -0.0635,  0.2265, -0.1515,  0.0994,\n",
       "           0.1221,  0.3178,  0.1534, -0.2027, -0.0242,  0.0337,  0.3077, -0.0971,\n",
       "          -0.1303, -0.2736, -0.0059]),\n",
       "  tensor([-0.5914,  0.0414, -0.2034, -0.1160, -0.0314,  0.0042,  0.0983,  0.1868,\n",
       "           0.2423, -0.0097,  0.0067, -0.0847,  0.0936,  0.0258, -0.0742,  0.1043,\n",
       "          -0.0408,  0.0025, -0.0833, -0.0141,  0.1198, -0.1796, -0.1146, -0.0884,\n",
       "          -0.1173,  0.0075,  0.0370,  0.0654,  0.1831,  0.0013,  0.0932,  0.2729,\n",
       "           0.1491, -0.0076, -0.1090,  0.0716, -0.1624, -0.1194, -0.0016,  0.0606,\n",
       "           0.0552, -0.1043,  0.0207,  0.1317, -0.0604,  0.0822, -0.0096, -0.0433,\n",
       "          -0.0713,  0.2156]),\n",
       "  tensor([-4.6808e-01, -2.8413e-02,  1.3238e-01,  3.4779e-01,  1.1294e-01,\n",
       "          -8.1096e-03,  1.1105e-01, -9.4292e-02, -2.8256e-01, -2.1263e-01,\n",
       "           7.2758e-02, -8.5310e-03,  6.4187e-02, -1.2677e-01,  2.0711e-02,\n",
       "          -6.1252e-04, -1.4401e-02,  2.7716e-02,  3.7794e-02, -1.3152e-01,\n",
       "          -2.4677e-02,  9.2395e-02, -3.7748e-02,  8.5535e-02, -1.7049e-02,\n",
       "          -2.7656e-02,  1.5532e-01,  1.0093e-01, -1.6746e-02, -1.8635e-01,\n",
       "          -1.1976e-01,  2.4893e-02, -2.7687e-02,  3.2243e-02,  2.5715e-01,\n",
       "           3.6423e-01, -4.4367e-02, -4.4762e-02,  6.2295e-02, -1.1295e-01,\n",
       "           1.5200e-01,  3.0543e-02, -1.7540e-04, -1.2958e-01, -1.1572e-01,\n",
       "           1.6055e-01, -5.6341e-02]),\n",
       "  tensor([-0.4282, -0.1171,  0.1295,  0.2262, -0.2418,  0.0879, -0.0337, -0.0530,\n",
       "          -0.0360,  0.1181, -0.0028,  0.0702,  0.2042,  0.0468, -0.0832,  0.0186,\n",
       "          -0.0194, -0.0854, -0.0658,  0.2669, -0.0042,  0.2260, -0.1339,  0.3598,\n",
       "           0.0229, -0.0177, -0.0644,  0.0972,  0.0012, -0.0437, -0.2355,  0.0005,\n",
       "           0.0253, -0.1674, -0.1485, -0.1377, -0.1416, -0.1934,  0.0996,  0.0457,\n",
       "          -0.0049,  0.1343, -0.1837,  0.1239]),\n",
       "  tensor([-0.3687,  0.0362, -0.0411,  0.3466,  0.3042,  0.0586, -0.0672, -0.0236,\n",
       "           0.0350,  0.2911,  0.4224, -0.1542, -0.0214,  0.0184, -0.1083,  0.2603,\n",
       "           0.1026,  0.0486, -0.1999,  0.0258,  0.0658,  0.1135, -0.1311, -0.2913,\n",
       "           0.2229,  0.1996, -0.1342,  0.1713,  0.1539]),\n",
       "  tensor([-0.3318, -0.0898, -0.1029,  0.0448,  0.0808, -0.0026, -0.0529,  0.1264,\n",
       "          -0.1319,  0.0083,  0.1037,  0.2262,  0.2354,  0.1983,  0.0578, -0.1472,\n",
       "          -0.0488,  0.1676,  0.0154, -0.1069, -0.0688, -0.0168,  0.0326,  0.1755,\n",
       "           0.2353,  0.1526,  0.0541, -0.0053,  0.0750,  0.1053, -0.1298, -0.0017,\n",
       "          -0.1355, -0.0689, -0.0295,  0.0664,  0.0395,  0.0333, -0.0294, -0.2323,\n",
       "           0.0810,  0.0376,  0.1027, -0.1537, -0.0886, -0.0677,  0.0146, -0.2428,\n",
       "          -0.0498,  0.0288, -0.0200,  0.0346, -0.0589]),\n",
       "  tensor([-0.5414, -0.1846,  0.0791,  0.2377,  0.0097, -0.0911, -0.1637, -0.1632,\n",
       "          -0.0216, -0.1165, -0.0790, -0.0773, -0.0547, -0.4714, -0.1968,  0.1196,\n",
       "           0.1168, -0.0728,  0.0064, -0.1155,  0.0428, -0.0422,  0.1508, -0.0108,\n",
       "          -0.1147, -0.0514,  0.0212, -0.1890, -0.0055,  0.1215,  0.0012,  0.0240,\n",
       "           0.0148, -0.0478, -0.0937,  0.0135, -0.0700,  0.2380,  0.0129,  0.1872,\n",
       "          -0.1176, -0.0660,  0.1326, -0.0265, -0.0933, -0.0233,  0.1002,  0.1036]),\n",
       "  tensor([-0.2094, -0.0081,  0.0327, -0.0296,  0.0946,  0.0370,  0.3722, -0.0866,\n",
       "          -0.1645, -0.0529,  0.1933,  0.2737,  0.1976,  0.1385, -0.0864,  0.1003,\n",
       "           0.5845,  0.1909,  0.4441, -0.0136, -0.1827,  0.1473, -0.1235,  0.1904,\n",
       "           0.1218]),\n",
       "  tensor([0., 0., 0., 0., 0., 0., 0., 0., 0., 0., 0., 0., 0., 0., 0., 0., 0., 0., 0., 0., 0., 0., 0., 0.,\n",
       "          0., 0., 0., 0., 0., 0., 0., 0., 0., 0., 0., 0., 0., 0., 0., 0., 0., 0., 0., 0., 0., 0., 0., 0.,\n",
       "          0., 0., 0., 0., 0., 0., 0., 0., 0., 0.]),\n",
       "  tensor([-4.2525e-01,  1.4303e-02,  3.5429e-01,  2.6364e-01, -9.8341e-02,\n",
       "          -5.1994e-02, -9.7002e-02, -2.5850e-03,  4.8739e-02, -1.9529e-02,\n",
       "          -3.1637e-04, -2.1841e-02,  9.2826e-03,  6.5994e-02,  1.7163e-01,\n",
       "           1.7420e-01, -3.6585e-02,  3.2362e-02,  7.3021e-02,  9.9264e-02,\n",
       "          -2.1621e-02, -1.7034e-01,  5.8557e-02,  8.2249e-02, -1.2952e-01,\n",
       "          -8.1379e-02,  7.5178e-02,  3.8735e-02,  1.4904e-01,  4.9449e-02,\n",
       "          -1.0635e-01,  2.7497e-01,  1.8009e-02,  1.3096e-01, -2.5227e-02,\n",
       "          -1.4954e-01,  8.7387e-02, -1.0717e-01,  1.6724e-02,  6.9434e-02,\n",
       "          -1.9471e-01, -4.3771e-02, -7.8981e-02, -5.5835e-03, -1.0407e-01,\n",
       "           7.5024e-02, -1.1202e-01, -2.4656e-02, -8.9134e-02,  1.3132e-01,\n",
       "           3.7588e-02,  1.2693e-01,  6.4591e-02, -1.5479e-01, -2.1620e-02,\n",
       "          -4.3939e-02,  3.4134e-02, -2.5890e-02, -1.3672e-02, -7.1307e-02,\n",
       "           1.2559e-01,  2.3754e-01,  4.1479e-02, -1.4145e-01, -1.4196e-01,\n",
       "           3.8433e-02,  8.8296e-02,  9.3689e-02, -8.5887e-03,  2.5451e-02,\n",
       "           1.1493e-01]),\n",
       "  tensor([-0.1871,  0.1524,  0.1862,  0.0250,  0.6019,  0.3531, -0.0273,  0.1519,\n",
       "           0.0652, -0.0481, -0.0620, -0.0019, -0.0625, -0.0955, -0.0424,  0.1137,\n",
       "           0.0230,  0.0021,  0.1140,  0.0681,  0.0856,  0.0981,  0.2245,  0.1536,\n",
       "          -0.0956,  0.1250,  0.0916, -0.0138, -0.0084,  0.0807, -0.0033,  0.0798,\n",
       "           0.0242, -0.0714, -0.0577,  0.0787,  0.0913,  0.0687, -0.0342, -0.0136,\n",
       "           0.1616,  0.0435, -0.0802,  0.0419, -0.0903, -0.0284, -0.0215, -0.1080,\n",
       "           0.0731, -0.0041,  0.0169,  0.0371, -0.0073,  0.1058,  0.0168, -0.0512,\n",
       "          -0.0031,  0.0193, -0.0205,  0.1225, -0.0470, -0.0283,  0.0396, -0.0742,\n",
       "           0.0032,  0.0634, -0.0881,  0.0017, -0.0541, -0.0806,  0.0713, -0.0789,\n",
       "           0.0361,  0.0506,  0.0348, -0.0897, -0.0300,  0.0091,  0.0489,  0.0123,\n",
       "          -0.0512,  0.0091, -0.0327, -0.1076,  0.0662]),\n",
       "  tensor([ 3.8605e-01,  4.2209e-02,  2.6834e-02,  4.8731e-02,  1.8967e-01,\n",
       "           5.7910e-02, -3.1921e-02,  3.2245e-01, -1.2716e-03, -4.0976e-02,\n",
       "           1.0869e-02, -2.7129e-02,  8.1659e-02,  2.1788e-01,  2.7179e-01,\n",
       "           2.3772e-02, -8.2014e-03, -9.7983e-02,  3.8030e-02, -9.1991e-02,\n",
       "           4.4509e-02,  6.7838e-02,  1.0055e-01, -4.4830e-02, -1.5868e-01,\n",
       "          -9.4369e-02, -1.1944e-01,  1.1605e-01,  3.1008e-01,  5.7400e-02,\n",
       "           1.1247e-01,  3.4126e-02,  9.9957e-02,  8.0873e-03,  8.9607e-02,\n",
       "           1.1718e-02,  2.1578e-01,  1.6859e-01,  6.5159e-02, -7.2120e-03,\n",
       "           6.9011e-02, -1.5740e-01, -1.6252e-02, -1.1704e-01,  2.3769e-02,\n",
       "           3.5293e-02,  1.7573e-02, -3.9612e-02, -1.7299e-02, -2.1407e-02,\n",
       "          -3.5509e-02, -1.3433e-01, -1.1810e-02,  1.7550e-02, -2.3827e-02,\n",
       "           5.3023e-02,  3.5863e-01,  1.8510e-02, -1.1476e-02,  2.3821e-02,\n",
       "          -4.2145e-02,  1.0797e-01,  7.5271e-02, -5.2250e-02, -3.0297e-03,\n",
       "           1.6870e-01,  2.4604e-02, -7.2967e-02, -1.8472e-02, -7.6517e-02,\n",
       "           2.8971e-02,  1.9471e-04,  3.7726e-01, -1.0107e-01])],\n",
       " 'raw_input_list': [['<s>',\n",
       "   'What',\n",
       "   'would',\n",
       "   'a',\n",
       "   'teacher',\n",
       "   'assess',\n",
       "   'the',\n",
       "   'levels',\n",
       "   'of',\n",
       "   'a',\n",
       "   'student',\n",
       "   'on?',\n",
       "   '</s>',\n",
       "   '</s>',\n",
       "   'For',\n",
       "   'example,',\n",
       "   'an',\n",
       "   'experienced',\n",
       "   'teacher',\n",
       "   'and',\n",
       "   'parent',\n",
       "   'described',\n",
       "   'the',\n",
       "   'place',\n",
       "   'of',\n",
       "   'a',\n",
       "   'teacher',\n",
       "   'in',\n",
       "   'learning',\n",
       "   'as',\n",
       "   'follows:',\n",
       "   '\"The',\n",
       "   'real',\n",
       "   'bulk',\n",
       "   'of',\n",
       "   'learning',\n",
       "   'takes',\n",
       "   'place',\n",
       "   'in',\n",
       "   'self-study',\n",
       "   'and',\n",
       "   'problem',\n",
       "   'solving',\n",
       "   'with',\n",
       "   'a',\n",
       "   'lot',\n",
       "   'of',\n",
       "   'feedback',\n",
       "   'around',\n",
       "   'that',\n",
       "   'loop.',\n",
       "   '</s>'],\n",
       "  ['<s>',\n",
       "   'What',\n",
       "   'company',\n",
       "   'created',\n",
       "   'Doctor',\n",
       "   'Who?',\n",
       "   '</s>',\n",
       "   '</s>',\n",
       "   'Who',\n",
       "   'character',\n",
       "   'by',\n",
       "   'BBC',\n",
       "   'Television',\n",
       "   'in',\n",
       "   'the',\n",
       "   'early',\n",
       "   '1960s,',\n",
       "   'a',\n",
       "   'myriad',\n",
       "   'of',\n",
       "   'stories',\n",
       "   'have',\n",
       "   'been',\n",
       "   'published',\n",
       "   'about',\n",
       "   'Doctor',\n",
       "   'Who,',\n",
       "   'in',\n",
       "   'different',\n",
       "   'media:',\n",
       "   'apart',\n",
       "   'from',\n",
       "   'the',\n",
       "   'actual',\n",
       "   'television',\n",
       "   'episodes',\n",
       "   'that',\n",
       "   'continue',\n",
       "   'to',\n",
       "   'be',\n",
       "   'produced',\n",
       "   'by',\n",
       "   'the',\n",
       "   'BBC,',\n",
       "   'there',\n",
       "   'have',\n",
       "   'also',\n",
       "   'been',\n",
       "   'novels,',\n",
       "   'comics,',\n",
       "   'short',\n",
       "   'stories,',\n",
       "   'audio',\n",
       "   'books,',\n",
       "   'radio',\n",
       "   'plays,',\n",
       "   'interactive',\n",
       "   'video',\n",
       "   'games,',\n",
       "   'game',\n",
       "   'books,',\n",
       "   'webcasts,',\n",
       "   'DVD',\n",
       "   'extras,',\n",
       "   'and',\n",
       "   'even',\n",
       "   'stage',\n",
       "   'performances.',\n",
       "   '</s>'],\n",
       "  ['<s>',\n",
       "   'What',\n",
       "   'was',\n",
       "   'the',\n",
       "   'name',\n",
       "   'of',\n",
       "   'the',\n",
       "   'Media',\n",
       "   'Day',\n",
       "   'event',\n",
       "   'for',\n",
       "   'Super',\n",
       "   'Bowl',\n",
       "   '50?',\n",
       "   '</s>',\n",
       "   '</s>',\n",
       "   'The',\n",
       "   \"game's\",\n",
       "   'media',\n",
       "   'day,',\n",
       "   'which',\n",
       "   'was',\n",
       "   'typically',\n",
       "   'held',\n",
       "   'on',\n",
       "   'the',\n",
       "   'Tuesday',\n",
       "   'afternoon',\n",
       "   'prior',\n",
       "   'to',\n",
       "   'the',\n",
       "   'game,',\n",
       "   'was',\n",
       "   'moved',\n",
       "   'to',\n",
       "   'the',\n",
       "   'Monday',\n",
       "   'evening',\n",
       "   'and',\n",
       "   're-branded',\n",
       "   'as',\n",
       "   'Super',\n",
       "   'Bowl',\n",
       "   'Opening',\n",
       "   'Night.',\n",
       "   '</s>'],\n",
       "  ['<s>',\n",
       "   'How',\n",
       "   'many',\n",
       "   'Doctor',\n",
       "   'Who',\n",
       "   'soundtracks',\n",
       "   'have',\n",
       "   'been',\n",
       "   'released',\n",
       "   'since',\n",
       "   '2005?',\n",
       "   '</s>',\n",
       "   '</s>',\n",
       "   'The',\n",
       "   'fourth',\n",
       "   'was',\n",
       "   'released',\n",
       "   'on',\n",
       "   '4',\n",
       "   'October',\n",
       "   '2010',\n",
       "   'as',\n",
       "   'a',\n",
       "   'two',\n",
       "   'disc',\n",
       "   'special',\n",
       "   'edition',\n",
       "   'and',\n",
       "   'contained',\n",
       "   'music',\n",
       "   'from',\n",
       "   'the',\n",
       "   '2008âĢĵ2010',\n",
       "   'specials',\n",
       "   '(The',\n",
       "   'Next',\n",
       "   'Doctor',\n",
       "   'to',\n",
       "   'End',\n",
       "   'of',\n",
       "   'Time',\n",
       "   'Part',\n",
       "   '2).',\n",
       "   '</s>'],\n",
       "  ['<s>',\n",
       "   'What',\n",
       "   'is',\n",
       "   'the',\n",
       "   'name',\n",
       "   'of',\n",
       "   'the',\n",
       "   \"country's\",\n",
       "   'longest',\n",
       "   'continuously',\n",
       "   'running',\n",
       "   'student',\n",
       "   'film',\n",
       "   'society?',\n",
       "   '</s>',\n",
       "   '</s>',\n",
       "   'Students',\n",
       "   'at',\n",
       "   'the',\n",
       "   'University',\n",
       "   'of',\n",
       "   'Chicago',\n",
       "   'run',\n",
       "   'over',\n",
       "   '400',\n",
       "   'clubs',\n",
       "   'and',\n",
       "   'organizations',\n",
       "   'known',\n",
       "   'as',\n",
       "   'Recognized',\n",
       "   'Student',\n",
       "   'Organizations',\n",
       "   '(RSOs).',\n",
       "   '</s>'],\n",
       "  ['<s>',\n",
       "   'How',\n",
       "   'many',\n",
       "   'times',\n",
       "   'has',\n",
       "   'the',\n",
       "   'South',\n",
       "   'Florida/Miami',\n",
       "   'area',\n",
       "   'hosted',\n",
       "   'the',\n",
       "   'Super',\n",
       "   'Bowl?',\n",
       "   '</s>',\n",
       "   '</s>',\n",
       "   'The',\n",
       "   'South',\n",
       "   'Florida/Miami',\n",
       "   'area',\n",
       "   'has',\n",
       "   'previously',\n",
       "   'hosted',\n",
       "   'the',\n",
       "   'event',\n",
       "   '10',\n",
       "   'times',\n",
       "   '(tied',\n",
       "   'for',\n",
       "   'most',\n",
       "   'with',\n",
       "   'New',\n",
       "   'Orleans),',\n",
       "   'with',\n",
       "   'the',\n",
       "   'most',\n",
       "   'recent',\n",
       "   'one',\n",
       "   'being',\n",
       "   'Super',\n",
       "   'Bowl',\n",
       "   'XLIV',\n",
       "   'in',\n",
       "   '2010.',\n",
       "   '</s>'],\n",
       "  ['<s>',\n",
       "   'What',\n",
       "   'is',\n",
       "   'different',\n",
       "   'about',\n",
       "   'Paulinella',\n",
       "   'chromatophora?',\n",
       "   '</s>',\n",
       "   '</s>',\n",
       "   'It',\n",
       "   'is',\n",
       "   'not',\n",
       "   'clear',\n",
       "   'whether',\n",
       "   'that',\n",
       "   'symbiont',\n",
       "   'is',\n",
       "   'closely',\n",
       "   'related',\n",
       "   'to',\n",
       "   'the',\n",
       "   'ancestral',\n",
       "   'chloroplast',\n",
       "   'of',\n",
       "   'other',\n",
       "   'eukaryotes.',\n",
       "   '</s>'],\n",
       "  ['<s>',\n",
       "   'Who',\n",
       "   'played',\n",
       "   'Doctor',\n",
       "   'Who',\n",
       "   'on',\n",
       "   'stage',\n",
       "   'in',\n",
       "   'the',\n",
       "   \"70's?\",\n",
       "   '</s>',\n",
       "   '</s>',\n",
       "   'Doctor',\n",
       "   'Who',\n",
       "   'has',\n",
       "   'appeared',\n",
       "   'on',\n",
       "   'stage',\n",
       "   'numerous',\n",
       "   'times.',\n",
       "   '</s>'],\n",
       "  ['<s>',\n",
       "   'Who',\n",
       "   'do',\n",
       "   'clinical',\n",
       "   'pharmacists',\n",
       "   'work',\n",
       "   'with',\n",
       "   'much',\n",
       "   'of',\n",
       "   'the',\n",
       "   'time?',\n",
       "   '</s>',\n",
       "   '</s>',\n",
       "   'Clinical',\n",
       "   'pharmacists',\n",
       "   'often',\n",
       "   'collaborate',\n",
       "   'with',\n",
       "   'physicians',\n",
       "   'and',\n",
       "   'other',\n",
       "   'healthcare',\n",
       "   'professionals',\n",
       "   'to',\n",
       "   'improve',\n",
       "   'pharmaceutical',\n",
       "   'care.',\n",
       "   '</s>'],\n",
       "  ['<s>',\n",
       "   'In',\n",
       "   'which',\n",
       "   'county',\n",
       "   'does',\n",
       "   'Jacksonville',\n",
       "   'reside?',\n",
       "   '</s>',\n",
       "   '</s>',\n",
       "   'It',\n",
       "   'is',\n",
       "   'the',\n",
       "   'county',\n",
       "   'seat',\n",
       "   'of',\n",
       "   'Duval',\n",
       "   'County,',\n",
       "   'with',\n",
       "   'which',\n",
       "   'the',\n",
       "   'city',\n",
       "   'government',\n",
       "   'consolidated',\n",
       "   'in',\n",
       "   '1968.',\n",
       "   '</s>'],\n",
       "  ['<s>',\n",
       "   'Who',\n",
       "   'did',\n",
       "   'Genghis',\n",
       "   'Khan',\n",
       "   'charge',\n",
       "   'with',\n",
       "   'finding',\n",
       "   'and',\n",
       "   'punishing',\n",
       "   'the',\n",
       "   'Shah?',\n",
       "   '</s>',\n",
       "   '</s>',\n",
       "   'Genghis',\n",
       "   'Khan',\n",
       "   'ordered',\n",
       "   'the',\n",
       "   'wholesale',\n",
       "   'massacre',\n",
       "   'of',\n",
       "   'many',\n",
       "   'of',\n",
       "   'the',\n",
       "   'civilians,',\n",
       "   'enslaved',\n",
       "   'the',\n",
       "   'rest',\n",
       "   'of',\n",
       "   'the',\n",
       "   'population',\n",
       "   'and',\n",
       "   'executed',\n",
       "   'Inalchuq',\n",
       "   'by',\n",
       "   'pouring',\n",
       "   'molten',\n",
       "   'silver',\n",
       "   'into',\n",
       "   'his',\n",
       "   'ears',\n",
       "   'and',\n",
       "   'eyes,',\n",
       "   'as',\n",
       "   'retribution',\n",
       "   'for',\n",
       "   'his',\n",
       "   'actions.',\n",
       "   '</s>'],\n",
       "  ['<s>',\n",
       "   'What',\n",
       "   'entity',\n",
       "   'enforces',\n",
       "   'the',\n",
       "   'Charter',\n",
       "   'of',\n",
       "   'Fundamental',\n",
       "   'Rights',\n",
       "   'of',\n",
       "   'the',\n",
       "   'European',\n",
       "   'Union?',\n",
       "   '</s>',\n",
       "   '</s>',\n",
       "   'In',\n",
       "   'effect,',\n",
       "   'after',\n",
       "   'the',\n",
       "   'Lisbon',\n",
       "   'Treaty,',\n",
       "   'the',\n",
       "   'Charter',\n",
       "   'and',\n",
       "   'the',\n",
       "   'Convention',\n",
       "   'now',\n",
       "   'co-exist',\n",
       "   'under',\n",
       "   'European',\n",
       "   'Union',\n",
       "   'law,',\n",
       "   'though',\n",
       "   'the',\n",
       "   'former',\n",
       "   'is',\n",
       "   'enforced',\n",
       "   'by',\n",
       "   'the',\n",
       "   'European',\n",
       "   'Court',\n",
       "   'of',\n",
       "   'Justice',\n",
       "   'in',\n",
       "   'relation',\n",
       "   'to',\n",
       "   'European',\n",
       "   'Union',\n",
       "   'measures,',\n",
       "   'and',\n",
       "   'the',\n",
       "   'latter',\n",
       "   'by',\n",
       "   'the',\n",
       "   'European',\n",
       "   'Court',\n",
       "   'of',\n",
       "   'Human',\n",
       "   'Rights',\n",
       "   'in',\n",
       "   'relation',\n",
       "   'to',\n",
       "   'measures',\n",
       "   'by',\n",
       "   'member',\n",
       "   'states.',\n",
       "   '</s>'],\n",
       "  ['<s>',\n",
       "   'Most',\n",
       "   'of',\n",
       "   'the',\n",
       "   \"museum's\",\n",
       "   'collection',\n",
       "   'had',\n",
       "   'been',\n",
       "   'returned',\n",
       "   'by',\n",
       "   'which',\n",
       "   'year?',\n",
       "   '</s>',\n",
       "   '</s>',\n",
       "   'Before',\n",
       "   'the',\n",
       "   'return',\n",
       "   'of',\n",
       "   'the',\n",
       "   'collections',\n",
       "   'after',\n",
       "   'the',\n",
       "   'war,',\n",
       "   'the',\n",
       "   'Britain',\n",
       "   'Can',\n",
       "   'Make',\n",
       "   'It',\n",
       "   'exhibition',\n",
       "   'was',\n",
       "   'held',\n",
       "   'between',\n",
       "   'September',\n",
       "   'and',\n",
       "   'November',\n",
       "   '1946,',\n",
       "   'attracting',\n",
       "   'nearly',\n",
       "   'a',\n",
       "   'million',\n",
       "   'and',\n",
       "   'a',\n",
       "   'half',\n",
       "   'visitors.',\n",
       "   '</s>'],\n",
       "  ['<s>',\n",
       "   'Within',\n",
       "   'the',\n",
       "   '30',\n",
       "   'days',\n",
       "   'how',\n",
       "   'many',\n",
       "   'digiboxes',\n",
       "   'had',\n",
       "   'been',\n",
       "   'sold?',\n",
       "   '</s>',\n",
       "   '</s>',\n",
       "   'Within',\n",
       "   '30',\n",
       "   'days,',\n",
       "   'over',\n",
       "   '100,000',\n",
       "   'digiboxes',\n",
       "   'had',\n",
       "   'been',\n",
       "   'sold,',\n",
       "   'which',\n",
       "   'help',\n",
       "   'bolstered',\n",
       "   \"BSkyB's\",\n",
       "   'decision',\n",
       "   'to',\n",
       "   'give',\n",
       "   'away',\n",
       "   'free',\n",
       "   'digiboxes',\n",
       "   'and',\n",
       "   'minidishes',\n",
       "   'from',\n",
       "   'May',\n",
       "   '1999.',\n",
       "   '</s>'],\n",
       "  ['<s>',\n",
       "   'The',\n",
       "   'receptors',\n",
       "   'on',\n",
       "   'a',\n",
       "   'killer',\n",
       "   'T',\n",
       "   'cell',\n",
       "   'must',\n",
       "   'bind',\n",
       "   'to',\n",
       "   'how',\n",
       "   'many',\n",
       "   'MHC:',\n",
       "   'antigen',\n",
       "   'complexes',\n",
       "   'in',\n",
       "   'order',\n",
       "   'to',\n",
       "   'activate',\n",
       "   'the',\n",
       "   'cell?',\n",
       "   '</s>',\n",
       "   '</s>',\n",
       "   'The',\n",
       "   'MHC:antigen',\n",
       "   'complex',\n",
       "   'is',\n",
       "   'also',\n",
       "   'recognized',\n",
       "   'by',\n",
       "   'the',\n",
       "   'helper',\n",
       "   \"cell's\",\n",
       "   'CD4',\n",
       "   'co-receptor,',\n",
       "   'which',\n",
       "   'recruits',\n",
       "   'molecules',\n",
       "   'inside',\n",
       "   'the',\n",
       "   'T',\n",
       "   'cell',\n",
       "   '(e.g.,',\n",
       "   'Lck)',\n",
       "   'that',\n",
       "   'are',\n",
       "   'responsible',\n",
       "   'for',\n",
       "   'the',\n",
       "   'T',\n",
       "   \"cell's\",\n",
       "   'activation.',\n",
       "   '</s>'],\n",
       "  ['<s>',\n",
       "   'How',\n",
       "   'much',\n",
       "   'did',\n",
       "   'Westinghouse',\n",
       "   'pay',\n",
       "   'for',\n",
       "   \"Tesla's\",\n",
       "   'designs?',\n",
       "   '</s>',\n",
       "   '</s>',\n",
       "   'In',\n",
       "   'July',\n",
       "   '1888,',\n",
       "   'Brown',\n",
       "   'and',\n",
       "   'Peck',\n",
       "   'negotiated',\n",
       "   'a',\n",
       "   'licensing',\n",
       "   'deal',\n",
       "   'with',\n",
       "   'George',\n",
       "   'Westinghouse',\n",
       "   'for',\n",
       "   \"Tesla's\",\n",
       "   'polyphase',\n",
       "   'induction',\n",
       "   'motor',\n",
       "   'and',\n",
       "   'transformer',\n",
       "   'designs',\n",
       "   'for',\n",
       "   '$60,000',\n",
       "   'in',\n",
       "   'cash',\n",
       "   'and',\n",
       "   'stock',\n",
       "   'and',\n",
       "   'a',\n",
       "   'royalty',\n",
       "   'of',\n",
       "   '$2.50',\n",
       "   'per',\n",
       "   'AC',\n",
       "   'horsepower',\n",
       "   'produced',\n",
       "   'by',\n",
       "   'each',\n",
       "   'motor.',\n",
       "   '</s>'],\n",
       "  ['<s>',\n",
       "   'What',\n",
       "   'type',\n",
       "   'of',\n",
       "   'movies',\n",
       "   'were',\n",
       "   'produced',\n",
       "   'in',\n",
       "   \"Jacksonville's\",\n",
       "   '30',\n",
       "   'studios?',\n",
       "   '</s>',\n",
       "   '</s>',\n",
       "   'One',\n",
       "   'converted',\n",
       "   'movie',\n",
       "   'studio',\n",
       "   'site,',\n",
       "   'Norman',\n",
       "   'Studios,',\n",
       "   'remains',\n",
       "   'in',\n",
       "   'Arlington;',\n",
       "   'It',\n",
       "   'has',\n",
       "   'been',\n",
       "   'converted',\n",
       "   'to',\n",
       "   'the',\n",
       "   'Jacksonville',\n",
       "   'Silent',\n",
       "   'Film',\n",
       "   'Museum',\n",
       "   'at',\n",
       "   'Norman',\n",
       "   'Studios.',\n",
       "   '</s>'],\n",
       "  ['<s>',\n",
       "   'What',\n",
       "   'voyager',\n",
       "   'said',\n",
       "   'that',\n",
       "   'Mombasa',\n",
       "   'was',\n",
       "   'a',\n",
       "   'great',\n",
       "   'harbour',\n",
       "   'and',\n",
       "   'moored',\n",
       "   'small',\n",
       "   'crafts',\n",
       "   'and',\n",
       "   'great',\n",
       "   'ships?',\n",
       "   '</s>',\n",
       "   '</s>',\n",
       "   'The',\n",
       "   'Swahili',\n",
       "   'built',\n",
       "   'Mombasa',\n",
       "   'into',\n",
       "   'a',\n",
       "   'major',\n",
       "   'port',\n",
       "   'city',\n",
       "   'and',\n",
       "   'established',\n",
       "   'trade',\n",
       "   'links',\n",
       "   'with',\n",
       "   'other',\n",
       "   'nearby',\n",
       "   'city-states,',\n",
       "   'as',\n",
       "   'well',\n",
       "   'as',\n",
       "   'commercial',\n",
       "   'centres',\n",
       "   'in',\n",
       "   'Persia,',\n",
       "   'Arabia,',\n",
       "   'and',\n",
       "   'even',\n",
       "   'India.',\n",
       "   '</s>'],\n",
       "  ['<s>',\n",
       "   'Where',\n",
       "   'is',\n",
       "   'Energiprojekt',\n",
       "   'AB',\n",
       "   'based?',\n",
       "   '</s>',\n",
       "   '</s>',\n",
       "   'Although',\n",
       "   'the',\n",
       "   'reciprocating',\n",
       "   'steam',\n",
       "   'engine',\n",
       "   'is',\n",
       "   'no',\n",
       "   'longer',\n",
       "   'in',\n",
       "   'widespread',\n",
       "   'commercial',\n",
       "   'use,',\n",
       "   'various',\n",
       "   'companies',\n",
       "   'are',\n",
       "   'exploring',\n",
       "   'or',\n",
       "   'exploiting',\n",
       "   'the',\n",
       "   'potential',\n",
       "   'of',\n",
       "   'the',\n",
       "   'engine',\n",
       "   'as',\n",
       "   'an',\n",
       "   'alternative',\n",
       "   'to',\n",
       "   'internal',\n",
       "   'combustion',\n",
       "   'engines.',\n",
       "   '</s>'],\n",
       "  ['<s>',\n",
       "   'Who',\n",
       "   'other',\n",
       "   'than',\n",
       "   'Tesla',\n",
       "   'did',\n",
       "   'Westinghouse',\n",
       "   'consider',\n",
       "   'for',\n",
       "   'the',\n",
       "   'patents?',\n",
       "   '</s>',\n",
       "   '</s>',\n",
       "   'Westinghouse',\n",
       "   'looked',\n",
       "   'into',\n",
       "   'getting',\n",
       "   'a',\n",
       "   'patent',\n",
       "   'on',\n",
       "   'a',\n",
       "   'similar',\n",
       "   'commutator-less,',\n",
       "   'rotating',\n",
       "   'magnetic',\n",
       "   'field-based',\n",
       "   'induction',\n",
       "   'motor',\n",
       "   'presented',\n",
       "   'in',\n",
       "   'a',\n",
       "   'paper',\n",
       "   'in',\n",
       "   'March',\n",
       "   '1888',\n",
       "   'by',\n",
       "   'the',\n",
       "   'Italian',\n",
       "   'physicist',\n",
       "   'Galileo',\n",
       "   'Ferraris,',\n",
       "   'but',\n",
       "   'decided',\n",
       "   \"Tesla's\",\n",
       "   'patent',\n",
       "   'would',\n",
       "   'probably',\n",
       "   'control',\n",
       "   'the',\n",
       "   'market.',\n",
       "   '</s>'],\n",
       "  ['<s>',\n",
       "   'What',\n",
       "   'separates',\n",
       "   'the',\n",
       "   'neuroimmune',\n",
       "   'system',\n",
       "   'and',\n",
       "   'peripheral',\n",
       "   'immune',\n",
       "   'system',\n",
       "   'in',\n",
       "   'humans?',\n",
       "   '</s>',\n",
       "   '</s>',\n",
       "   'In',\n",
       "   'humans,',\n",
       "   'the',\n",
       "   'bloodâĢĵbrain',\n",
       "   'barrier,',\n",
       "   'bloodâĢĵcerebrospinal',\n",
       "   'fluid',\n",
       "   'barrier,',\n",
       "   'and',\n",
       "   'similar',\n",
       "   'fluidâĢĵbrain',\n",
       "   'barriers',\n",
       "   'separate',\n",
       "   'the',\n",
       "   'peripheral',\n",
       "   'immune',\n",
       "   'system',\n",
       "   'from',\n",
       "   'the',\n",
       "   'neuroimmune',\n",
       "   'system',\n",
       "   'which',\n",
       "   'protects',\n",
       "   'the',\n",
       "   'brain.',\n",
       "   '</s>'],\n",
       "  ['<s>',\n",
       "   'What',\n",
       "   'did',\n",
       "   \"Kublai's\",\n",
       "   'government',\n",
       "   'have',\n",
       "   'to',\n",
       "   'balance',\n",
       "   'between?',\n",
       "   '</s>',\n",
       "   '</s>',\n",
       "   \"Kublai's\",\n",
       "   'government',\n",
       "   'after',\n",
       "   '1262',\n",
       "   'was',\n",
       "   'a',\n",
       "   'compromise',\n",
       "   'between',\n",
       "   'preserving',\n",
       "   'Mongol',\n",
       "   'interests',\n",
       "   'in',\n",
       "   'China',\n",
       "   'and',\n",
       "   'satisfying',\n",
       "   'the',\n",
       "   'demands',\n",
       "   'of',\n",
       "   'his',\n",
       "   'Chinese',\n",
       "   'subjects.',\n",
       "   '</s>'],\n",
       "  ['<s>',\n",
       "   'What',\n",
       "   'did',\n",
       "   \"Gasquet's\",\n",
       "   'book',\n",
       "   'blame',\n",
       "   'the',\n",
       "   'plague',\n",
       "   'on?',\n",
       "   '</s>',\n",
       "   '</s>',\n",
       "   'The',\n",
       "   'historian',\n",
       "   'Francis',\n",
       "   'Aidan',\n",
       "   'Gasquet',\n",
       "   'wrote',\n",
       "   'about',\n",
       "   'the',\n",
       "   \"'Great\",\n",
       "   \"Pestilence'\",\n",
       "   'in',\n",
       "   '1893',\n",
       "   'and',\n",
       "   'suggested',\n",
       "   'that',\n",
       "   '\"it',\n",
       "   'would',\n",
       "   'appear',\n",
       "   'to',\n",
       "   'be',\n",
       "   'some',\n",
       "   'form',\n",
       "   'of',\n",
       "   'the',\n",
       "   'ordinary',\n",
       "   'Eastern',\n",
       "   'or',\n",
       "   'bubonic',\n",
       "   'plague\".',\n",
       "   '</s>'],\n",
       "  ['<s>',\n",
       "   'Who',\n",
       "   'shared',\n",
       "   'sideline',\n",
       "   'duties',\n",
       "   'with',\n",
       "   'Evan',\n",
       "   'Washburn?',\n",
       "   '</s>',\n",
       "   '</s>',\n",
       "   'In',\n",
       "   'the',\n",
       "   'United',\n",
       "   'States,',\n",
       "   'the',\n",
       "   'game',\n",
       "   'was',\n",
       "   'televised',\n",
       "   'by',\n",
       "   'CBS,',\n",
       "   'as',\n",
       "   'part',\n",
       "   'of',\n",
       "   'a',\n",
       "   'cycle',\n",
       "   'between',\n",
       "   'the',\n",
       "   'three',\n",
       "   'main',\n",
       "   'broadcast',\n",
       "   'television',\n",
       "   'partners',\n",
       "   'of',\n",
       "   'the',\n",
       "   'NFL.',\n",
       "   '</s>'],\n",
       "  ['<s>',\n",
       "   'Who',\n",
       "   'was',\n",
       "   'added',\n",
       "   'to',\n",
       "   'party',\n",
       "   'as',\n",
       "   'Washington',\n",
       "   'went',\n",
       "   'on',\n",
       "   'the',\n",
       "   'way?',\n",
       "   '</s>',\n",
       "   '</s>',\n",
       "   'Washington',\n",
       "   'left',\n",
       "   'with',\n",
       "   'a',\n",
       "   'small',\n",
       "   'party,',\n",
       "   'picking',\n",
       "   'up',\n",
       "   'along',\n",
       "   'the',\n",
       "   'way',\n",
       "   'Jacob',\n",
       "   'Van',\n",
       "   'Braam',\n",
       "   'as',\n",
       "   'an',\n",
       "   'interpreter;',\n",
       "   'Christopher',\n",
       "   'Gist,',\n",
       "   'a',\n",
       "   'company',\n",
       "   'surveyor',\n",
       "   'working',\n",
       "   'in',\n",
       "   'the',\n",
       "   'area;',\n",
       "   'and',\n",
       "   'a',\n",
       "   'few',\n",
       "   'Mingo',\n",
       "   'led',\n",
       "   'by',\n",
       "   'Tanaghrisson.',\n",
       "   '</s>'],\n",
       "  ['<s>',\n",
       "   'What',\n",
       "   'did',\n",
       "   'Queen',\n",
       "   'Elizabeth',\n",
       "   'II',\n",
       "   'open',\n",
       "   'in',\n",
       "   'Newcastle',\n",
       "   'in',\n",
       "   '1981?',\n",
       "   '</s>',\n",
       "   '</s>',\n",
       "   'It',\n",
       "   'was',\n",
       "   'opened',\n",
       "   'in',\n",
       "   'five',\n",
       "   'phases',\n",
       "   'between',\n",
       "   '1980',\n",
       "   'and',\n",
       "   '1984,',\n",
       "   'and',\n",
       "   'was',\n",
       "   \"Britain's\",\n",
       "   'first',\n",
       "   'urban',\n",
       "   'light',\n",
       "   'rail',\n",
       "   'transit',\n",
       "   'system;',\n",
       "   'two',\n",
       "   'extensions',\n",
       "   'were',\n",
       "   'opened',\n",
       "   'in',\n",
       "   '1991',\n",
       "   'and',\n",
       "   '2002.',\n",
       "   '</s>'],\n",
       "  ['<s>',\n",
       "   'What',\n",
       "   'writing',\n",
       "   'inspired',\n",
       "   'the',\n",
       "   'name',\n",
       "   'Great',\n",
       "   'Yuan?',\n",
       "   '</s>',\n",
       "   '</s>',\n",
       "   'Furthermore,',\n",
       "   'the',\n",
       "   'Yuan',\n",
       "   'is',\n",
       "   'sometimes',\n",
       "   'known',\n",
       "   'as',\n",
       "   'the',\n",
       "   '\"Empire',\n",
       "   'of',\n",
       "   'the',\n",
       "   'Great',\n",
       "   'Khan\"',\n",
       "   'or',\n",
       "   '\"Khanate',\n",
       "   'of',\n",
       "   'the',\n",
       "   'Great',\n",
       "   'Khan\",',\n",
       "   'which',\n",
       "   'particularly',\n",
       "   'appeared',\n",
       "   'on',\n",
       "   'some',\n",
       "   'Yuan',\n",
       "   'maps,',\n",
       "   'since',\n",
       "   'Yuan',\n",
       "   'emperors',\n",
       "   'held',\n",
       "   'the',\n",
       "   'nominal',\n",
       "   'title',\n",
       "   'of',\n",
       "   'Great',\n",
       "   'Khan.',\n",
       "   '</s>'],\n",
       "  ['<s>',\n",
       "   'What',\n",
       "   'happened',\n",
       "   'to',\n",
       "   'the',\n",
       "   'East',\n",
       "   'India',\n",
       "   'Trading',\n",
       "   'Company',\n",
       "   'in',\n",
       "   '1767?',\n",
       "   '</s>',\n",
       "   '</s>',\n",
       "   'In',\n",
       "   '1599',\n",
       "   'the',\n",
       "   'British',\n",
       "   'East',\n",
       "   'India',\n",
       "   'Company',\n",
       "   'was',\n",
       "   'established',\n",
       "   'and',\n",
       "   'was',\n",
       "   'chartered',\n",
       "   'by',\n",
       "   'Queen',\n",
       "   'Elizabeth',\n",
       "   'in',\n",
       "   'the',\n",
       "   'following',\n",
       "   'year.',\n",
       "   '</s>'],\n",
       "  ['<s>',\n",
       "   'The',\n",
       "   'principle',\n",
       "   'of',\n",
       "   'faunal',\n",
       "   'succession',\n",
       "   'was',\n",
       "   'developed',\n",
       "   '100',\n",
       "   'years',\n",
       "   'before',\n",
       "   'whose',\n",
       "   'theory',\n",
       "   'of',\n",
       "   'evolution?',\n",
       "   '</s>',\n",
       "   '</s>',\n",
       "   'Based',\n",
       "   'on',\n",
       "   'principles',\n",
       "   'laid',\n",
       "   'out',\n",
       "   'by',\n",
       "   'William',\n",
       "   'Smith',\n",
       "   'almost',\n",
       "   'a',\n",
       "   'hundred',\n",
       "   'years',\n",
       "   'before',\n",
       "   'the',\n",
       "   'publication',\n",
       "   'of',\n",
       "   'Charles',\n",
       "   \"Darwin's\",\n",
       "   'theory',\n",
       "   'of',\n",
       "   'evolution,',\n",
       "   'the',\n",
       "   'principles',\n",
       "   'of',\n",
       "   'succession',\n",
       "   'were',\n",
       "   'developed',\n",
       "   'independently',\n",
       "   'of',\n",
       "   'evolutionary',\n",
       "   'thought.',\n",
       "   '</s>'],\n",
       "  ['<s>',\n",
       "   'How',\n",
       "   'many',\n",
       "   'times',\n",
       "   'did',\n",
       "   'Luther',\n",
       "   'preach',\n",
       "   'in',\n",
       "   'Halle',\n",
       "   'in',\n",
       "   '1545',\n",
       "   'and',\n",
       "   '1546?',\n",
       "   '</s>',\n",
       "   '</s>',\n",
       "   'In',\n",
       "   '1545',\n",
       "   'and',\n",
       "   '1546',\n",
       "   'Luther',\n",
       "   'preached',\n",
       "   'three',\n",
       "   'times',\n",
       "   'in',\n",
       "   'the',\n",
       "   'Market',\n",
       "   'Church',\n",
       "   'in',\n",
       "   'Halle,',\n",
       "   'staying',\n",
       "   'with',\n",
       "   'his',\n",
       "   'friend',\n",
       "   'Justus',\n",
       "   'Jonas',\n",
       "   'during',\n",
       "   'Christmas.',\n",
       "   '</s>'],\n",
       "  ['<s>',\n",
       "   'What',\n",
       "   'part',\n",
       "   'of',\n",
       "   'the',\n",
       "   'Rhine',\n",
       "   'flows',\n",
       "   'through',\n",
       "   'North',\n",
       "   'Rhine-Westphalia?',\n",
       "   '</s>',\n",
       "   '</s>',\n",
       "   'Here',\n",
       "   'the',\n",
       "   'Rhine',\n",
       "   'flows',\n",
       "   'through',\n",
       "   'the',\n",
       "   'largest',\n",
       "   'conurbation',\n",
       "   'in',\n",
       "   'Germany,',\n",
       "   'the',\n",
       "   'Rhine-Ruhr',\n",
       "   'region.',\n",
       "   '</s>'],\n",
       "  ['<s>',\n",
       "   'What',\n",
       "   'is',\n",
       "   'the',\n",
       "   'most',\n",
       "   'important',\n",
       "   'thing',\n",
       "   'apicoplasts',\n",
       "   'do?',\n",
       "   '</s>',\n",
       "   '</s>',\n",
       "   'The',\n",
       "   'most',\n",
       "   'important',\n",
       "   'apicoplast',\n",
       "   'function',\n",
       "   'is',\n",
       "   'isopentenyl',\n",
       "   'pyrophosphate',\n",
       "   'synthesisâĢĶin',\n",
       "   'fact,',\n",
       "   'apicomplexans',\n",
       "   'die',\n",
       "   'when',\n",
       "   'something',\n",
       "   'interferes',\n",
       "   'with',\n",
       "   'this',\n",
       "   'apicoplast',\n",
       "   'function,',\n",
       "   'and',\n",
       "   'when',\n",
       "   'apicomplexans',\n",
       "   'are',\n",
       "   'grown',\n",
       "   'in',\n",
       "   'an',\n",
       "   'isopentenyl',\n",
       "   'pyrophosphate-rich',\n",
       "   'medium,',\n",
       "   'they',\n",
       "   'dump',\n",
       "   'the',\n",
       "   'organelle.',\n",
       "   '</s>'],\n",
       "  ['<s>',\n",
       "   'When',\n",
       "   'did',\n",
       "   'ABC',\n",
       "   'begin',\n",
       "   'airing',\n",
       "   'Dick',\n",
       "   \"Clark's\",\n",
       "   'New',\n",
       "   \"Year's\",\n",
       "   \"Rockin'\",\n",
       "   'Eve?',\n",
       "   '</s>',\n",
       "   '</s>',\n",
       "   'Since',\n",
       "   '1974,',\n",
       "   'ABC',\n",
       "   'has',\n",
       "   'generally',\n",
       "   'aired',\n",
       "   'Dick',\n",
       "   \"Clark's\",\n",
       "   'New',\n",
       "   \"Year's\",\n",
       "   \"Rockin'\",\n",
       "   'Eve',\n",
       "   'on',\n",
       "   'New',\n",
       "   \"Year's\",\n",
       "   'Eve',\n",
       "   '(hosted',\n",
       "   'first',\n",
       "   'by',\n",
       "   'its',\n",
       "   'creator',\n",
       "   'Dick',\n",
       "   'Clark,',\n",
       "   'and',\n",
       "   'later',\n",
       "   'by',\n",
       "   'his',\n",
       "   'successor',\n",
       "   'Ryan',\n",
       "   'Seacrest);',\n",
       "   'the',\n",
       "   'only',\n",
       "   'exception',\n",
       "   'was',\n",
       "   'in',\n",
       "   '1999,',\n",
       "   'when',\n",
       "   'ABC',\n",
       "   'put',\n",
       "   'it',\n",
       "   'on',\n",
       "   'a',\n",
       "   'one-year',\n",
       "   'hiatus',\n",
       "   'to',\n",
       "   'provide',\n",
       "   'coverage',\n",
       "   'of',\n",
       "   'the',\n",
       "   'international',\n",
       "   'millennium',\n",
       "   'festivities,',\n",
       "   'though',\n",
       "   \"Clark's\",\n",
       "   'traditional',\n",
       "   'countdown',\n",
       "   'from',\n",
       "   'Times',\n",
       "   'Square',\n",
       "   'was',\n",
       "   'still',\n",
       "   'featured',\n",
       "   'within',\n",
       "   'the',\n",
       "   'coverage.',\n",
       "   '</s>'],\n",
       "  ['<s>',\n",
       "   'The',\n",
       "   'Kronenberg',\n",
       "   'Palace',\n",
       "   'had',\n",
       "   'been',\n",
       "   'an',\n",
       "   'exceptional',\n",
       "   'example',\n",
       "   'of',\n",
       "   'what',\n",
       "   'type',\n",
       "   'of',\n",
       "   'architecture?',\n",
       "   '</s>',\n",
       "   '</s>',\n",
       "   'Despite',\n",
       "   'that',\n",
       "   'the',\n",
       "   'Warsaw',\n",
       "   'University',\n",
       "   'of',\n",
       "   'Technology',\n",
       "   'building',\n",
       "   '(1899âĢĵ1902)',\n",
       "   'is',\n",
       "   'the',\n",
       "   'most',\n",
       "   'interesting',\n",
       "   'of',\n",
       "   'the',\n",
       "   'late',\n",
       "   '19th-century',\n",
       "   'architecture.',\n",
       "   '</s>'],\n",
       "  ['<s>',\n",
       "   'What',\n",
       "   'was',\n",
       "   'the',\n",
       "   'definition',\n",
       "   'of',\n",
       "   'professionals,',\n",
       "   'for',\n",
       "   'this',\n",
       "   'study?',\n",
       "   '</s>',\n",
       "   '</s>',\n",
       "   'It',\n",
       "   'is',\n",
       "   'important',\n",
       "   'to',\n",
       "   'note,',\n",
       "   'however,',\n",
       "   'that',\n",
       "   'the',\n",
       "   'British',\n",
       "   'study',\n",
       "   'referenced',\n",
       "   'above',\n",
       "   'is',\n",
       "   'the',\n",
       "   'only',\n",
       "   'one',\n",
       "   'of',\n",
       "   'its',\n",
       "   'kind',\n",
       "   'and',\n",
       "   'consisted',\n",
       "   'of',\n",
       "   '\"a',\n",
       "   'random',\n",
       "   '...',\n",
       "   'probability',\n",
       "   'sample',\n",
       "   'of',\n",
       "   '2,869',\n",
       "   'young',\n",
       "   'people',\n",
       "   'between',\n",
       "   'the',\n",
       "   'ages',\n",
       "   'of',\n",
       "   '18',\n",
       "   'and',\n",
       "   '24',\n",
       "   'in',\n",
       "   'a',\n",
       "   'computer-assisted',\n",
       "   'study\"',\n",
       "   'and',\n",
       "   'that',\n",
       "   'the',\n",
       "   'questions',\n",
       "   'referred',\n",
       "   'to',\n",
       "   '\"sexual',\n",
       "   'abuse',\n",
       "   'with',\n",
       "   'a',\n",
       "   'professional,\"',\n",
       "   'not',\n",
       "   'necessarily',\n",
       "   'a',\n",
       "   'teacher.',\n",
       "   '</s>'],\n",
       "  ['<s>',\n",
       "   'bassett',\n",
       "   'focuses',\n",
       "   'on',\n",
       "   'what',\n",
       "   'to',\n",
       "   'illustrate',\n",
       "   'his',\n",
       "   'idea?',\n",
       "   '</s>',\n",
       "   '</s>',\n",
       "   'To',\n",
       "   'better',\n",
       "   'illustrate',\n",
       "   'this',\n",
       "   'idea,',\n",
       "   'Bassett',\n",
       "   'focuses',\n",
       "   'his',\n",
       "   'analysis',\n",
       "   'of',\n",
       "   'the',\n",
       "   'role',\n",
       "   'of',\n",
       "   'nineteenth-century',\n",
       "   'maps',\n",
       "   'during',\n",
       "   'the',\n",
       "   '\"scramble',\n",
       "   'for',\n",
       "   'Africa\".',\n",
       "   '</s>'],\n",
       "  ['<s>',\n",
       "   'Where',\n",
       "   'did',\n",
       "   'Tesla',\n",
       "   'believe',\n",
       "   'his',\n",
       "   'talents',\n",
       "   'came',\n",
       "   'from?',\n",
       "   '</s>',\n",
       "   '</s>',\n",
       "   \"Tesla's\",\n",
       "   'mother,',\n",
       "   'Ä',\n",
       "   'Ĳuka',\n",
       "   'Tesla',\n",
       "   '(nÃ©e',\n",
       "   'MandiÄĩ),',\n",
       "   'whose',\n",
       "   'father',\n",
       "   'was',\n",
       "   'also',\n",
       "   'an',\n",
       "   'Orthodox',\n",
       "   'priest,:10',\n",
       "   'had',\n",
       "   'a',\n",
       "   'talent',\n",
       "   'for',\n",
       "   'making',\n",
       "   'home',\n",
       "   'craft',\n",
       "   'tools,',\n",
       "   'mechanical',\n",
       "   'appliances,',\n",
       "   'and',\n",
       "   'the',\n",
       "   'ability',\n",
       "   'to',\n",
       "   'memorize',\n",
       "   'Serbian',\n",
       "   'epic',\n",
       "   'poems.',\n",
       "   '</s>'],\n",
       "  ['<s>',\n",
       "   'Who',\n",
       "   'was',\n",
       "   'given',\n",
       "   'the',\n",
       "   'esteemed',\n",
       "   'status',\n",
       "   'of',\n",
       "   'MVP',\n",
       "   'for',\n",
       "   'Super',\n",
       "   'Bowl',\n",
       "   '50?',\n",
       "   '</s>',\n",
       "   '</s>',\n",
       "   'Denver',\n",
       "   'linebacker',\n",
       "   'Von',\n",
       "   'Miller',\n",
       "   'was',\n",
       "   'named',\n",
       "   'Super',\n",
       "   'Bowl',\n",
       "   'MVP,',\n",
       "   'recording',\n",
       "   'five',\n",
       "   'solo',\n",
       "   'tackles,',\n",
       "   '2Â½',\n",
       "   'sacks,',\n",
       "   'and',\n",
       "   'two',\n",
       "   'forced',\n",
       "   'fumbles.',\n",
       "   '</s>'],\n",
       "  ['<s>',\n",
       "   'What',\n",
       "   'was',\n",
       "   'the',\n",
       "   'percentage',\n",
       "   'of',\n",
       "   'Black',\n",
       "   'or',\n",
       "   'African-Americans',\n",
       "   'living',\n",
       "   'in',\n",
       "   'the',\n",
       "   'city?',\n",
       "   '</s>',\n",
       "   '</s>',\n",
       "   'Hispanic',\n",
       "   'or',\n",
       "   'Latino',\n",
       "   'of',\n",
       "   'any',\n",
       "   'race',\n",
       "   'were',\n",
       "   '39.9%',\n",
       "   'of',\n",
       "   'the',\n",
       "   'population.',\n",
       "   '</s>'],\n",
       "  ['<s>',\n",
       "   'What',\n",
       "   'was',\n",
       "   'the',\n",
       "   'result',\n",
       "   'of',\n",
       "   'the',\n",
       "   '2007',\n",
       "   'election?',\n",
       "   '</s>',\n",
       "   '</s>',\n",
       "   'With',\n",
       "   'International',\n",
       "   'Criminal',\n",
       "   'Court',\n",
       "   'trial',\n",
       "   'dates',\n",
       "   'in',\n",
       "   '2013',\n",
       "   'for',\n",
       "   'both',\n",
       "   'President',\n",
       "   'Kenyatta',\n",
       "   'and',\n",
       "   'Deputy',\n",
       "   'President',\n",
       "   'William',\n",
       "   'Ruto',\n",
       "   'related',\n",
       "   'to',\n",
       "   'the',\n",
       "   '2007',\n",
       "   'election',\n",
       "   'aftermath,',\n",
       "   'US',\n",
       "   'President',\n",
       "   'Barack',\n",
       "   'Obama',\n",
       "   'chose',\n",
       "   'not',\n",
       "   'to',\n",
       "   'visit',\n",
       "   'the',\n",
       "   'country',\n",
       "   'during',\n",
       "   'his',\n",
       "   'mid-2013',\n",
       "   'African',\n",
       "   'trip.',\n",
       "   '</s>'],\n",
       "  ['<s>',\n",
       "   'What',\n",
       "   'equation',\n",
       "   'currently',\n",
       "   'decribes',\n",
       "   'the',\n",
       "   'physics',\n",
       "   'of',\n",
       "   'force.',\n",
       "   '</s>',\n",
       "   '</s>',\n",
       "   'The',\n",
       "   'notion',\n",
       "   '\"force\"',\n",
       "   'keeps',\n",
       "   'its',\n",
       "   'meaning',\n",
       "   'in',\n",
       "   'quantum',\n",
       "   'mechanics,',\n",
       "   'though',\n",
       "   'one',\n",
       "   'is',\n",
       "   'now',\n",
       "   'dealing',\n",
       "   'with',\n",
       "   'operators',\n",
       "   'instead',\n",
       "   'of',\n",
       "   'classical',\n",
       "   'variables',\n",
       "   'and',\n",
       "   'though',\n",
       "   'the',\n",
       "   'physics',\n",
       "   'is',\n",
       "   'now',\n",
       "   'described',\n",
       "   'by',\n",
       "   'the',\n",
       "   'SchrÃ¶dinger',\n",
       "   'equation',\n",
       "   'instead',\n",
       "   'of',\n",
       "   'Newtonian',\n",
       "   'equations.',\n",
       "   '</s>'],\n",
       "  ['<s>',\n",
       "   'What',\n",
       "   'did',\n",
       "   'Iqbal',\n",
       "   'fear',\n",
       "   'would',\n",
       "   'weaken',\n",
       "   'the',\n",
       "   'spiritual',\n",
       "   'foundations',\n",
       "   'of',\n",
       "   'Islam',\n",
       "   'and',\n",
       "   'Muslim',\n",
       "   'society?',\n",
       "   '</s>',\n",
       "   '</s>',\n",
       "   'In',\n",
       "   'his',\n",
       "   'travels',\n",
       "   'to',\n",
       "   'Egypt,',\n",
       "   'Afghanistan,',\n",
       "   'Palestine',\n",
       "   'and',\n",
       "   'Syria,',\n",
       "   'he',\n",
       "   'promoted',\n",
       "   'ideas',\n",
       "   'of',\n",
       "   'greater',\n",
       "   'Islamic',\n",
       "   'political',\n",
       "   'co-operation',\n",
       "   'and',\n",
       "   'unity,',\n",
       "   'calling',\n",
       "   'for',\n",
       "   'the',\n",
       "   'shedding',\n",
       "   'of',\n",
       "   'nationalist',\n",
       "   'differences.',\n",
       "   '</s>'],\n",
       "  ['<s>',\n",
       "   'In',\n",
       "   'what',\n",
       "   'meeting',\n",
       "   'did',\n",
       "   'Shirley',\n",
       "   'lay',\n",
       "   'out',\n",
       "   'plans',\n",
       "   'for',\n",
       "   '1756?',\n",
       "   '</s>',\n",
       "   '</s>',\n",
       "   'At',\n",
       "   'a',\n",
       "   'meeting',\n",
       "   'in',\n",
       "   'Albany',\n",
       "   'in',\n",
       "   'December',\n",
       "   '1755,',\n",
       "   'he',\n",
       "   'laid',\n",
       "   'out',\n",
       "   'his',\n",
       "   'plans',\n",
       "   'for',\n",
       "   '1756.',\n",
       "   '</s>'],\n",
       "  ['<s>',\n",
       "   'In',\n",
       "   'autoimmune',\n",
       "   'disorders,',\n",
       "   'the',\n",
       "   'immune',\n",
       "   'system',\n",
       "   \"doesn't\",\n",
       "   'distinguish',\n",
       "   'between',\n",
       "   'what',\n",
       "   'types',\n",
       "   'of',\n",
       "   'cells?',\n",
       "   '</s>',\n",
       "   '</s>',\n",
       "   'One',\n",
       "   'of',\n",
       "   'the',\n",
       "   'functions',\n",
       "   'of',\n",
       "   'specialized',\n",
       "   'cells',\n",
       "   '(located',\n",
       "   'in',\n",
       "   'the',\n",
       "   'thymus',\n",
       "   'and',\n",
       "   'bone',\n",
       "   'marrow)',\n",
       "   'is',\n",
       "   'to',\n",
       "   'present',\n",
       "   'young',\n",
       "   'lymphocytes',\n",
       "   'with',\n",
       "   'self',\n",
       "   'antigens',\n",
       "   'produced',\n",
       "   'throughout',\n",
       "   'the',\n",
       "   'body',\n",
       "   'and',\n",
       "   'to',\n",
       "   'eliminate',\n",
       "   'those',\n",
       "   'cells',\n",
       "   'that',\n",
       "   'recognize',\n",
       "   'self-antigens,',\n",
       "   'preventing',\n",
       "   'autoimmunity.',\n",
       "   '</s>'],\n",
       "  ['<s>',\n",
       "   'Which',\n",
       "   'husband',\n",
       "   'and',\n",
       "   'wife',\n",
       "   'modern',\n",
       "   'furniture',\n",
       "   'design',\n",
       "   'team',\n",
       "   'are',\n",
       "   'represented',\n",
       "   'in',\n",
       "   'the',\n",
       "   'V&A',\n",
       "   'furniture',\n",
       "   'collection?',\n",
       "   '</s>',\n",
       "   '</s>',\n",
       "   'One',\n",
       "   'of',\n",
       "   'the',\n",
       "   'finest',\n",
       "   'pieces',\n",
       "   'of',\n",
       "   'continental',\n",
       "   'furniture',\n",
       "   'in',\n",
       "   'the',\n",
       "   'collection',\n",
       "   'is',\n",
       "   'the',\n",
       "   'Rococo',\n",
       "   'Augustus',\n",
       "   'Rex',\n",
       "   'Bureau',\n",
       "   'Cabinet',\n",
       "   'dated',\n",
       "   'c1750',\n",
       "   'from',\n",
       "   'Germany,',\n",
       "   'with',\n",
       "   'especially',\n",
       "   'fine',\n",
       "   'marquetry',\n",
       "   'and',\n",
       "   'ormolu',\n",
       "   'mounts.',\n",
       "   '</s>'],\n",
       "  ['<s>',\n",
       "   'Why',\n",
       "   'did',\n",
       "   'oil',\n",
       "   'start',\n",
       "   'getting',\n",
       "   'priced',\n",
       "   'in',\n",
       "   'terms',\n",
       "   'of',\n",
       "   'gold?',\n",
       "   '</s>',\n",
       "   '</s>',\n",
       "   'Because',\n",
       "   'oil',\n",
       "   'was',\n",
       "   'priced',\n",
       "   'in',\n",
       "   'dollars,',\n",
       "   'oil',\n",
       "   \"producers'\",\n",
       "   'real',\n",
       "   'income',\n",
       "   'decreased.',\n",
       "   '</s>'],\n",
       "  ['<s>',\n",
       "   'Who',\n",
       "   'did',\n",
       "   'Britain',\n",
       "   'exploit',\n",
       "   'in',\n",
       "   'India?',\n",
       "   '</s>',\n",
       "   '</s>',\n",
       "   'Although',\n",
       "   'a',\n",
       "   'substantial',\n",
       "   'number',\n",
       "   'of',\n",
       "   'colonies',\n",
       "   'had',\n",
       "   'been',\n",
       "   'designed',\n",
       "   'to',\n",
       "   'provide',\n",
       "   'economic',\n",
       "   'profit',\n",
       "   'and',\n",
       "   'to',\n",
       "   'ship',\n",
       "   'resources',\n",
       "   'to',\n",
       "   'home',\n",
       "   'ports',\n",
       "   'in',\n",
       "   'the',\n",
       "   'seventeenth',\n",
       "   'and',\n",
       "   'eighteenth',\n",
       "   'centuries,',\n",
       "   'Fieldhouse',\n",
       "   'suggests',\n",
       "   'that',\n",
       "   'in',\n",
       "   'the',\n",
       "   'nineteenth',\n",
       "   'and',\n",
       "   'twentieth',\n",
       "   'centuries',\n",
       "   'in',\n",
       "   'places',\n",
       "   'such',\n",
       "   'as',\n",
       "   'Africa',\n",
       "   'and',\n",
       "   'Asia,',\n",
       "   'this',\n",
       "   'idea',\n",
       "   'is',\n",
       "   'not',\n",
       "   'necessarily',\n",
       "   'valid:',\n",
       "   '</s>'],\n",
       "  ['<s>',\n",
       "   'What',\n",
       "   'popular',\n",
       "   'environmentalist',\n",
       "   'is',\n",
       "   'also',\n",
       "   'a',\n",
       "   'university',\n",
       "   'alumni',\n",
       "   'member?',\n",
       "   '</s>',\n",
       "   '</s>',\n",
       "   'In',\n",
       "   'science,',\n",
       "   'alumni',\n",
       "   'include',\n",
       "   'astronomers',\n",
       "   'Carl',\n",
       "   'Sagan,',\n",
       "   'a',\n",
       "   'prominent',\n",
       "   'contributor',\n",
       "   'to',\n",
       "   'the',\n",
       "   'scientific',\n",
       "   'research',\n",
       "   'of',\n",
       "   'extraterrestrial',\n",
       "   'life,',\n",
       "   'and',\n",
       "   'Edwin',\n",
       "   'Hubble,',\n",
       "   'known',\n",
       "   'for',\n",
       "   '\"Hubble\\'s',\n",
       "   'Law\",',\n",
       "   'NASA',\n",
       "   'astronaut',\n",
       "   'John',\n",
       "   'M.',\n",
       "   'Grunsfeld,',\n",
       "   'geneticist',\n",
       "   'James',\n",
       "   'Watson,',\n",
       "   'best',\n",
       "   'known',\n",
       "   'as',\n",
       "   'one',\n",
       "   'of',\n",
       "   'the',\n",
       "   'co-discoverers',\n",
       "   'of',\n",
       "   'the',\n",
       "   'structure',\n",
       "   'of',\n",
       "   'DNA,',\n",
       "   'experimental',\n",
       "   'physicist',\n",
       "   'Luis',\n",
       "   'Alvarez,',\n",
       "   'popular',\n",
       "   'environmentalist',\n",
       "   'David',\n",
       "   'Suzuki,',\n",
       "   'balloonist',\n",
       "   'Jeannette',\n",
       "   'Piccard,',\n",
       "   'biologists',\n",
       "   'Ernest',\n",
       "   'Everett',\n",
       "   '</s>'],\n",
       "  ['<s>',\n",
       "   'What',\n",
       "   'publication',\n",
       "   'did',\n",
       "   'Philip',\n",
       "   'Howard',\n",
       "   'work',\n",
       "   'for?',\n",
       "   '</s>',\n",
       "   '</s>',\n",
       "   'Responding',\n",
       "   'to',\n",
       "   'the',\n",
       "   'findings',\n",
       "   'of',\n",
       "   'the',\n",
       "   'survey',\n",
       "   'in',\n",
       "   'The',\n",
       "   'Times',\n",
       "   'newspaper,',\n",
       "   'journalist',\n",
       "   'Philip',\n",
       "   'Howard',\n",
       "   'maintained',\n",
       "   'that,',\n",
       "   '\"to',\n",
       "   'compare',\n",
       "   'the',\n",
       "   'violence',\n",
       "   'of',\n",
       "   'Dr',\n",
       "   'Who,',\n",
       "   'sired',\n",
       "   'by',\n",
       "   'a',\n",
       "   'horse-laugh',\n",
       "   'out',\n",
       "   'of',\n",
       "   'a',\n",
       "   'nightmare,',\n",
       "   'with',\n",
       "   'the',\n",
       "   'more',\n",
       "   'realistic',\n",
       "   'violence',\n",
       "   'of',\n",
       "   'other',\n",
       "   'television',\n",
       "   'series,',\n",
       "   'where',\n",
       "   'actors',\n",
       "   'who',\n",
       "   'look',\n",
       "   'like',\n",
       "   'human',\n",
       "   'beings',\n",
       "   'bleed',\n",
       "   'paint',\n",
       "   'that',\n",
       "   'looks',\n",
       "   'like',\n",
       "   'blood,',\n",
       "   'is',\n",
       "   'like',\n",
       "   'comparing',\n",
       "   'Monopoly',\n",
       "   'with',\n",
       "   'the',\n",
       "   'property',\n",
       "   'market',\n",
       "   'in',\n",
       "   'London:',\n",
       "   'both',\n",
       "   'are',\n",
       "   'fantasies,',\n",
       "   'but',\n",
       "   'one',\n",
       "   'is',\n",
       "   'meant',\n",
       "   'to',\n",
       "   'be',\n",
       "   'taken',\n",
       "   'seriously.\"',\n",
       "   '</s>'],\n",
       "  ['<s>',\n",
       "   'If',\n",
       "   'the',\n",
       "   'apparant',\n",
       "   'force',\n",
       "   'of',\n",
       "   'two',\n",
       "   'fermions',\n",
       "   'is',\n",
       "   'attractive,',\n",
       "   'what',\n",
       "   'is',\n",
       "   'the',\n",
       "   'spin',\n",
       "   'function?',\n",
       "   '</s>',\n",
       "   '</s>',\n",
       "   'If',\n",
       "   'two',\n",
       "   'identical',\n",
       "   'fermions',\n",
       "   '(e.g.',\n",
       "   'electrons)',\n",
       "   'have',\n",
       "   'a',\n",
       "   'symmetric',\n",
       "   'spin',\n",
       "   'function',\n",
       "   '(e.g.',\n",
       "   'parallel',\n",
       "   'spins)',\n",
       "   'the',\n",
       "   'spatial',\n",
       "   'variables',\n",
       "   'must',\n",
       "   'be',\n",
       "   'antisymmetric',\n",
       "   '(i.e.',\n",
       "   'they',\n",
       "   'exclude',\n",
       "   'each',\n",
       "   'other',\n",
       "   'from',\n",
       "   'their',\n",
       "   'places',\n",
       "   'much',\n",
       "   'as',\n",
       "   'if',\n",
       "   'there',\n",
       "   'was',\n",
       "   'a',\n",
       "   'repulsive',\n",
       "   'force),',\n",
       "   'and',\n",
       "   'vice',\n",
       "   'versa,',\n",
       "   'i.e.',\n",
       "   'for',\n",
       "   'antiparallel',\n",
       "   'spins',\n",
       "   'the',\n",
       "   'position',\n",
       "   'variables',\n",
       "   'must',\n",
       "   'be',\n",
       "   'symmetric',\n",
       "   '(i.e.',\n",
       "   'the',\n",
       "   'apparent',\n",
       "   'force',\n",
       "   'must',\n",
       "   'be',\n",
       "   'attractive).',\n",
       "   '</s>']]}"
      ]
     },
     "execution_count": 9,
     "metadata": {},
     "output_type": "execute_result"
    }
   ],
   "source": [
    "save_info(idxs, qnli_data_raw, targets, model_out_list, raw_attr_list, conti_attr_list, raw_input_list, fname='lime_out.pkl')"
   ]
  },
  {
   "cell_type": "code",
   "execution_count": null,
   "id": "572253a0",
   "metadata": {},
   "outputs": [],
   "source": []
  }
 ],
 "metadata": {
  "kernelspec": {
   "display_name": "Python 3 (ipykernel)",
   "language": "python",
   "name": "python3"
  },
  "language_info": {
   "codemirror_mode": {
    "name": "ipython",
    "version": 3
   },
   "file_extension": ".py",
   "mimetype": "text/x-python",
   "name": "python",
   "nbconvert_exporter": "python",
   "pygments_lexer": "ipython3",
   "version": "3.9.7"
  }
 },
 "nbformat": 4,
 "nbformat_minor": 5
}
