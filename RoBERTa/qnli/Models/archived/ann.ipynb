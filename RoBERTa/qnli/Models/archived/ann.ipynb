{
 "cells": [
  {
   "cell_type": "code",
   "execution_count": 1,
   "id": "b0a2afeb",
   "metadata": {},
   "outputs": [],
   "source": [
    "import time\n",
    "import numpy as np\n",
    "import pandas as pd\n",
    "import pickle\n",
    "from scipy import sparse\n",
    "from sklearn.feature_extraction.text import TfidfTransformer\n",
    "import torch\n",
    "from torchmetrics import MetricCollection, Precision, Recall, F1, Accuracy, AUROC\n",
    "from torch.nn.functional import relu, sigmoid, cross_entropy, binary_cross_entropy, softmax\n",
    "import pytorch_lightning as pl\n",
    "from torch.utils.data import TensorDataset, DataLoader\n",
    "my_random_state = 13\n"
   ]
  },
  {
   "cell_type": "code",
   "execution_count": 2,
   "id": "de09bd78",
   "metadata": {},
   "outputs": [],
   "source": [
    "from ann import NeuralNet"
   ]
  },
  {
   "cell_type": "code",
   "execution_count": 4,
   "id": "0b3bea6e",
   "metadata": {},
   "outputs": [],
   "source": [
    "model = torch.load('ann_model.pt')"
   ]
  },
  {
   "cell_type": "code",
   "execution_count": null,
   "id": "5a0b37aa",
   "metadata": {},
   "outputs": [],
   "source": [
    "tfidf_transformer_file = open('../Data/Processed/tfidf_transformer.pkl', 'rb')\n",
    "tfidf_transformer = pickle.load(tfidf_transformer_file)\n",
    "print(tfidf_transformer.idf_.shape)\n",
    "input_shape = tfidf_transformer.idf_.shape"
   ]
  },
  {
   "cell_type": "code",
   "execution_count": null,
   "id": "7e3c909d",
   "metadata": {},
   "outputs": [],
   "source": []
  },
  {
   "cell_type": "code",
   "execution_count": null,
   "id": "ab050175",
   "metadata": {},
   "outputs": [],
   "source": [
    "model = NeuralNet()"
   ]
  },
  {
   "cell_type": "code",
   "execution_count": null,
   "id": "5dec6c65",
   "metadata": {},
   "outputs": [],
   "source": [
    "trainer = pl.Trainer(max_epochs=1, gpus=1, fast_dev_run=False)"
   ]
  },
  {
   "cell_type": "code",
   "execution_count": null,
   "id": "393299d5",
   "metadata": {
    "scrolled": false
   },
   "outputs": [],
   "source": [
    "# trainer.fit(model)"
   ]
  },
  {
   "cell_type": "code",
   "execution_count": null,
   "id": "9572cd03",
   "metadata": {},
   "outputs": [],
   "source": [
    "# torch.save(model, 'ann_model.pt')"
   ]
  },
  {
   "cell_type": "code",
   "execution_count": null,
   "id": "ba3417ff",
   "metadata": {},
   "outputs": [],
   "source": [
    "model = torch.load('ann_model.pt')"
   ]
  },
  {
   "cell_type": "code",
   "execution_count": null,
   "id": "30d3cc3f",
   "metadata": {},
   "outputs": [],
   "source": [
    "count_vec_file = open(f'../Data/Processed/count_vectorizer.pkl', mode='rb')\n",
    "count_vec = pickle.load(count_vec_file)\n",
    "count_vec_idx_map = {v:k for k,v in count_vec.vocabulary_.items()}\n",
    "tfidf_trans_file = open(f'../Data/Processed/tfidf_transformer.pkl', mode='rb') \n",
    "tf_idf_trans = pickle.load(tfidf_trans_file)"
   ]
  },
  {
   "cell_type": "code",
   "execution_count": null,
   "id": "89caaf3b",
   "metadata": {},
   "outputs": [],
   "source": [
    "def transform_input_tfidf(sentence):\n",
    "    if isinstance(sentence, str):\n",
    "        sentence = [sentence]\n",
    "    counts_vec = count_vec.transform(sentence)\n",
    "    tfidf_vec = tf_idf_trans.transform(counts_vec)\n",
    "    tfidf_tensor = make_torch_sparse_tensor(tfidf_vec.tocoo()).to_dense()\n",
    "    return tfidf_tensor\n",
    "            "
   ]
  },
  {
   "cell_type": "code",
   "execution_count": null,
   "id": "02ac84de",
   "metadata": {},
   "outputs": [],
   "source": [
    "def transform_attribution(input_raw, attribution):\n",
    "    counts_vec = count_vec.transform([input_raw])\n",
    "    _, word_idxs = np.nonzero(counts_vec)\n",
    "    print(f'word_idxs {word_idxs}')\n",
    "    attr = attribution.squeeze(dim=0)[word_idxs]\n",
    "    print(f'transformed attr: {attr}')\n",
    "    print(f'transformed attr size: {attr.size()}')\n",
    "    return attr"
   ]
  },
  {
   "cell_type": "code",
   "execution_count": null,
   "id": "befc5dd3",
   "metadata": {},
   "outputs": [],
   "source": [
    "def process_for_record(input_raw, model_out, target, attribution):\n",
    "#     input_raw = input_raw.split() if not isinstance(input_raw, list) else input_raw\n",
    "    pred_class = 'positive' if model_out > .5 else 'negative'\n",
    "    true_class = 'positive' if model_out > .5 else 'negative'\n",
    "    attr_score = attribution.sum() #attribution expected to be a tensor\n",
    "    attr_class = 'positive' if attr_score > .5 else 'negative'\n",
    "    convergence_score = torch.zeros(1, dtype=torch.float64)\n",
    "    print(f'input_raw: {input_raw}')\n",
    "    print(f'pred_class: {pred_class}')\n",
    "    print(f'true_class: {true_class}')\n",
    "    print(f'attr_class: {attr_class}')\n",
    "    print(f'attr_score: {attr_score}')\n",
    "    print(f'convergence_score: {convergence_score}')\n",
    "    return pred_class, true_class, attr_class, attr_score, convergence_score\n",
    "    "
   ]
  },
  {
   "cell_type": "code",
   "execution_count": null,
   "id": "a2f2a85d",
   "metadata": {},
   "outputs": [],
   "source": [
    "# i = np.random.randint(low=0, high=Test_df.shape[0], size=10)\n",
    "i = [15674] #, 15592, 10816,  1437,  6777, 22051, 18735,  3040,  7320, 15611]\n",
    "rev = Train_df.loc[i, 'review']\n",
    "rev_tfidf = transform_input_tfidf(rev)\n",
    "# rev_targets = torch.tensor(list(Train_df.loc[i, 'sentiment']), dtype=torch.int64).unsqueeze(dim=1)\n",
    "rev_targets = list(Train_df.loc[i, 'sentiment'])\n",
    "print(f'rev: {rev}')\n",
    "print(f'-------------------------------------')\n",
    "print(f'rev_tfidf: {rev_tfidf.size()}')\n",
    "print(f'-------------------------------------')\n",
    "# print(f'rev_targets: {rev_targets.size()}')\n",
    "print(f'-------------------------------------')"
   ]
  },
  {
   "cell_type": "code",
   "execution_count": null,
   "id": "1f7c3991",
   "metadata": {},
   "outputs": [],
   "source": [
    "from captum.attr import visualization \n",
    "# visualization.VisualizationDataRecord, visualize_text"
   ]
  },
  {
   "cell_type": "code",
   "execution_count": null,
   "id": "a1131009",
   "metadata": {},
   "outputs": [],
   "source": [
    "from captum.attr import Lime\n",
    "lime = Lime(model)"
   ]
  },
  {
   "cell_type": "code",
   "execution_count": null,
   "id": "f29bbf29",
   "metadata": {},
   "outputs": [],
   "source": [
    "# accumalate couple samples in this array for visualization purposes\n",
    "vis_data_records_ig = []\n",
    "\n",
    "def interpret_input(model, framework, input_raw, input_process_func, record_process_func, target):\n",
    "    print(input_raw)\n",
    "    input_processed = input_process_func(input_raw)\n",
    "    print(input_processed)\n",
    "    attribution_all = framework.attribute(inputs=input_processed, target=target)\n",
    "    attribution_all_squeezed = attribution_all.squeeze(0)\n",
    "    attr = attribution_all_squeezed[attribution_all_squeezed.nonzero()]\n",
    "    print(f'attr: {attr}')\n",
    "    print(f'attr size {attr.size()}')\n",
    "    print(F'attribution all non zero {torch.count_nonzero(attribution_all, dim=1)}')\n",
    "    to_feed = X_train_tfidf[i]\n",
    "    model_out = model(to_feed)\n",
    "    pred_prob = model_out.item()\n",
    "    print(f'pred_prob type {type(pred_prob)}')\n",
    "    pred_class, true_class, attr_class, attr_score, convergence_score = \\\n",
    "                            process_for_record(input_raw, model_out, target, attr)\n",
    "    \n",
    "    visual_record = visualization.VisualizationDataRecord(word_attributions=torch.tensor([.1, .2, .3, .4], dtype=torch.float64),\n",
    "                                                          pred_prob=pred_prob,\n",
    "                                                          pred_class=pred_class,\n",
    "                                                         true_class=true_class,\n",
    "                                                         attr_class=attr_class,\n",
    "                                                         attr_score=attr_score,\n",
    "                                                         raw_input=['it', 'was', 'actually', 'bad'],\n",
    "                                                         convergence_score=convergence_score)\n",
    "    return visual_record\n",
    "#     # input_indices dim: [sequence_length]\n",
    "#     seq_length = min_len\n",
    "\n",
    "#     # predict\n",
    "#     pred = forward_with_sigmoid(input_indices).item()\n",
    "#     pred_ind = round(pred)\n",
    "\n",
    "#     # generate reference indices for each sample\n",
    "#     reference_indices = token_reference.generate_reference(seq_length, device=device).unsqueeze(0)\n",
    "\n",
    "#     # compute attributions and approximation delta using layer integrated gradients\n",
    "#     attributions_ig, delta = lig.attribute(input_indices, reference_indices, \\\n",
    "#                                            n_steps=500, return_convergence_delta=True)\n",
    "\n",
    "#     print('pred: ', Label.vocab.itos[pred_ind], '(', '%.2f'%pred, ')', ', delta: ', abs(delta))\n",
    "\n",
    "#     add_attributions_to_visualizer(attributions_ig, text, pred, pred_ind, label, delta, vis_data_records_ig)\n",
    "    \n",
    "def add_attributions_to_visualizer(attributions, pred_prob, pred_class, true_class, pred, pred_ind, label, delta, vis_data_records):\n",
    "#     attributions = attributions.sum(dim=2).squeeze(0)\n",
    "#     attributions = attributions / torch.norm(attributions)\n",
    "#     attributions = attributions.cpu().detach().numpy()\n",
    "    print(f'attr: {attributions}')\n",
    "#     print(f'--------------------------------')\n",
    "#     print(f'pred_prob: {pred}')\n",
    "#     print(f'-------------------------------')\n",
    "#     print(f'pred_class {Label.vocab.itos[pred_ind]}')\n",
    "#     print(f'--------------------------------')\n",
    "#     print(f'true_class {Label.vocab.itos[label]}')\n",
    "#     print(f'--------------------------------')\n",
    "#     print(f'attr_class {Label.vocab.itos[1]}')\n",
    "#     print(f'--------------------------------')\n",
    "#     print(f'attr_score {attributions.shape}')\n",
    "#     print(f'{attributions.sum()}')\n",
    "#     print(f'--------------------------------')\n",
    "#     print(f'raw_input {text}')\n",
    "#     print(f'--------------------------------')\n",
    "#     print(f'convergence_score {delta}')\n",
    "#     delta = torch.zeros(1, dtype=torch.float64)\n",
    "#     print(f'--------------------------------')\n",
    "#     # storing couple samples in an array for visualization purposes\n",
    "#     vis_data_records.append(visualization.VisualizationDataRecord(\n",
    "#                             attributions,\n",
    "#                             pred,\n",
    "#                             Label.vocab.itos[pred_ind],\n",
    "#                             Label.vocab.itos[label],\n",
    "#                             Label.vocab.itos[1],\n",
    "#                             attributions.sum(),\n",
    "#                             text,\n",
    "#                             delta))"
   ]
  },
  {
   "cell_type": "code",
   "execution_count": null,
   "id": "5d13f61d",
   "metadata": {
    "scrolled": false
   },
   "outputs": [],
   "source": [
    "record = interpret_input(model=model, \n",
    "                framework=lime, \n",
    "                input_raw=['this review was really good'],\n",
    "                input_process_func=transform_input_tfidf, \n",
    "                record_process_func=process_for_record,\n",
    "                target=0)"
   ]
  },
  {
   "cell_type": "code",
   "execution_count": null,
   "id": "84325a06",
   "metadata": {},
   "outputs": [],
   "source": [
    "print(visualization.visualize_text([record]))"
   ]
  },
  {
   "cell_type": "code",
   "execution_count": null,
   "id": "c45d7b74",
   "metadata": {},
   "outputs": [],
   "source": [
    "rev_targets"
   ]
  },
  {
   "cell_type": "code",
   "execution_count": null,
   "id": "01d0a8cc",
   "metadata": {},
   "outputs": [],
   "source": []
  }
 ],
 "metadata": {
  "kernelspec": {
   "display_name": "Python 3 (ipykernel)",
   "language": "python",
   "name": "python3"
  },
  "language_info": {
   "codemirror_mode": {
    "name": "ipython",
    "version": 3
   },
   "file_extension": ".py",
   "mimetype": "text/x-python",
   "name": "python",
   "nbconvert_exporter": "python",
   "pygments_lexer": "ipython3",
   "version": "3.9.7"
  }
 },
 "nbformat": 4,
 "nbformat_minor": 5
}
